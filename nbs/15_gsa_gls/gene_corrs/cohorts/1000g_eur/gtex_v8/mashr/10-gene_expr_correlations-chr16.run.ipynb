{
 "cells": [
  {
   "cell_type": "markdown",
   "id": "7a6632fb",
   "metadata": {
    "papermill": {
     "duration": 0.023278,
     "end_time": "2022-08-03T02:16:31.964532",
     "exception": false,
     "start_time": "2022-08-03T02:16:31.941254",
     "status": "completed"
    },
    "tags": []
   },
   "source": [
    "# Description"
   ]
  },
  {
   "cell_type": "markdown",
   "id": "7097c346",
   "metadata": {
    "papermill": {
     "duration": 0.059537,
     "end_time": "2022-08-03T02:16:32.043969",
     "exception": false,
     "start_time": "2022-08-03T02:16:31.984432",
     "status": "completed"
    },
    "tags": []
   },
   "source": [
    "(Please, take a look at the README.md file in this directory for instructions on how to run this notebook)\n",
    "\n",
    "This notebook computes predicted expression correlations between all genes in the MultiPLIER models.\n",
    "\n",
    "It also has a parameter set for papermill to run on a single chromosome to run in parallel (see under `Settings` below).\n",
    "\n",
    "This notebook is not directly run. See README.md."
   ]
  },
  {
   "cell_type": "markdown",
   "id": "c61d8427",
   "metadata": {
    "papermill": {
     "duration": 0.010897,
     "end_time": "2022-08-03T02:16:32.066661",
     "exception": false,
     "start_time": "2022-08-03T02:16:32.055764",
     "status": "completed"
    },
    "tags": []
   },
   "source": [
    "# Modules"
   ]
  },
  {
   "cell_type": "code",
   "execution_count": 1,
   "id": "bbc0234f",
   "metadata": {
    "execution": {
     "iopub.execute_input": "2022-08-03T02:16:32.089531Z",
     "iopub.status.busy": "2022-08-03T02:16:32.089159Z",
     "iopub.status.idle": "2022-08-03T02:16:32.226598Z",
     "shell.execute_reply": "2022-08-03T02:16:32.226136Z"
    },
    "papermill": {
     "duration": 0.15101,
     "end_time": "2022-08-03T02:16:32.228114",
     "exception": false,
     "start_time": "2022-08-03T02:16:32.077104",
     "status": "completed"
    },
    "tags": []
   },
   "outputs": [],
   "source": [
    "%load_ext autoreload\n",
    "%autoreload 2"
   ]
  },
  {
   "cell_type": "code",
   "execution_count": 2,
   "id": "1d5f5a59",
   "metadata": {
    "execution": {
     "iopub.execute_input": "2022-08-03T02:16:32.247976Z",
     "iopub.status.busy": "2022-08-03T02:16:32.247789Z",
     "iopub.status.idle": "2022-08-03T02:16:35.204829Z",
     "shell.execute_reply": "2022-08-03T02:16:35.204292Z"
    },
    "papermill": {
     "duration": 2.967976,
     "end_time": "2022-08-03T02:16:35.206677",
     "exception": false,
     "start_time": "2022-08-03T02:16:32.238701",
     "status": "completed"
    },
    "tags": []
   },
   "outputs": [],
   "source": [
    "from random import sample, seed\n",
    "import warnings\n",
    "from pathlib import Path\n",
    "import pickle\n",
    "import traceback\n",
    "\n",
    "import numpy as np\n",
    "from scipy.spatial.distance import squareform\n",
    "import pandas as pd\n",
    "from tqdm import tqdm\n",
    "import matplotlib.pyplot as plt\n",
    "import seaborn as sns\n",
    "\n",
    "import conf\n",
    "from entity import Gene"
   ]
  },
  {
   "cell_type": "markdown",
   "id": "1eac24b5",
   "metadata": {
    "papermill": {
     "duration": 0.011097,
     "end_time": "2022-08-03T02:16:35.230974",
     "exception": false,
     "start_time": "2022-08-03T02:16:35.219877",
     "status": "completed"
    },
    "tags": []
   },
   "source": [
    "# Settings"
   ]
  },
  {
   "cell_type": "code",
   "execution_count": 3,
   "id": "ca4560ba",
   "metadata": {
    "execution": {
     "iopub.execute_input": "2022-08-03T02:16:35.249806Z",
     "iopub.status.busy": "2022-08-03T02:16:35.249589Z",
     "iopub.status.idle": "2022-08-03T02:16:36.173379Z",
     "shell.execute_reply": "2022-08-03T02:16:36.172901Z"
    },
    "papermill": {
     "duration": 0.934656,
     "end_time": "2022-08-03T02:16:36.175096",
     "exception": false,
     "start_time": "2022-08-03T02:16:35.240440",
     "status": "completed"
    },
    "tags": [
     "parameters"
    ]
   },
   "outputs": [],
   "source": [
    "# a cohort name (it could be something like UK_BIOBANK, etc)\n",
    "COHORT_NAME = None\n",
    "\n",
    "# reference panel such as 1000G or GTEX_V8\n",
    "REFERENCE_PANEL = None\n",
    "\n",
    "# predictions models such as MASHR or ELASTIC_NET\n",
    "EQTL_MODEL = None\n",
    "\n",
    "# this is the default value used in S-MultiXcan to select the\n",
    "# top principal components of the expression correlation matrix\n",
    "SMULTIXCAN_CONDITION_NUMBER = 30\n",
    "\n",
    "# specifies a single chromosome value\n",
    "CHROMOSOME = None\n",
    "\n",
    "# If True, computes the correlation between closeby genes only;\n",
    "# otherwise, it computes correlations for all genes in a chromosome\n",
    "COMPUTE_CORRELATIONS_WITHIN_DISTANCE = False\n",
    "\n",
    "# if True, then it will continue if a gene pair correlation fails,\n",
    "# printing the warning/error for debugging. If False, any warning/error\n",
    "# will be thrown\n",
    "DEBUG_MODE = False"
   ]
  },
  {
   "cell_type": "code",
   "execution_count": 4,
   "id": "162ea431",
   "metadata": {
    "execution": {
     "iopub.execute_input": "2022-08-03T02:16:36.207846Z",
     "iopub.status.busy": "2022-08-03T02:16:36.207648Z",
     "iopub.status.idle": "2022-08-03T02:16:36.234053Z",
     "shell.execute_reply": "2022-08-03T02:16:36.233672Z"
    },
    "papermill": {
     "duration": 0.051147,
     "end_time": "2022-08-03T02:16:36.235409",
     "exception": false,
     "start_time": "2022-08-03T02:16:36.184262",
     "status": "completed"
    },
    "tags": [
     "injected-parameters"
    ]
   },
   "outputs": [],
   "source": [
    "# Parameters\n",
    "COHORT_NAME = \"1000G_EUR\"\n",
    "REFERENCE_PANEL = \"GTEX_V8\"\n",
    "EQTL_MODEL = \"MASHR\"\n",
    "CHROMOSOME = 16\n"
   ]
  },
  {
   "cell_type": "code",
   "execution_count": 5,
   "id": "3190631f-27fc-480f-b18e-571d580425a5",
   "metadata": {
    "execution": {
     "iopub.execute_input": "2022-08-03T02:16:36.262959Z",
     "iopub.status.busy": "2022-08-03T02:16:36.262777Z",
     "iopub.status.idle": "2022-08-03T02:16:36.311675Z",
     "shell.execute_reply": "2022-08-03T02:16:36.311291Z"
    },
    "papermill": {
     "duration": 0.067154,
     "end_time": "2022-08-03T02:16:36.312882",
     "exception": false,
     "start_time": "2022-08-03T02:16:36.245728",
     "status": "completed"
    },
    "tags": []
   },
   "outputs": [
    {
     "data": {
      "text/plain": [
       "'Cohort name: 1000g_eur'"
      ]
     },
     "metadata": {},
     "output_type": "display_data"
    }
   ],
   "source": [
    "assert COHORT_NAME is not None and len(COHORT_NAME) > 0, \"A cohort name must be given\"\n",
    "\n",
    "COHORT_NAME = COHORT_NAME.lower()\n",
    "display(f\"Cohort name: {COHORT_NAME}\")"
   ]
  },
  {
   "cell_type": "code",
   "execution_count": 6,
   "id": "f53ba19b-0f93-4fa2-a047-63b375939d1a",
   "metadata": {
    "execution": {
     "iopub.execute_input": "2022-08-03T02:16:36.337211Z",
     "iopub.status.busy": "2022-08-03T02:16:36.337044Z",
     "iopub.status.idle": "2022-08-03T02:16:36.374607Z",
     "shell.execute_reply": "2022-08-03T02:16:36.374235Z"
    },
    "papermill": {
     "duration": 0.051599,
     "end_time": "2022-08-03T02:16:36.375861",
     "exception": false,
     "start_time": "2022-08-03T02:16:36.324262",
     "status": "completed"
    },
    "tags": []
   },
   "outputs": [
    {
     "data": {
      "text/plain": [
       "'Reference panel: GTEX_V8'"
      ]
     },
     "metadata": {},
     "output_type": "display_data"
    }
   ],
   "source": [
    "assert (\n",
    "    REFERENCE_PANEL is not None and len(REFERENCE_PANEL) > 0\n",
    "), \"A reference panel must be given\"\n",
    "\n",
    "display(f\"Reference panel: {REFERENCE_PANEL}\")"
   ]
  },
  {
   "cell_type": "code",
   "execution_count": 7,
   "id": "e024d130-c139-429a-9c6e-ccf149e297b0",
   "metadata": {
    "execution": {
     "iopub.execute_input": "2022-08-03T02:16:36.393037Z",
     "iopub.status.busy": "2022-08-03T02:16:36.392854Z",
     "iopub.status.idle": "2022-08-03T02:16:36.438364Z",
     "shell.execute_reply": "2022-08-03T02:16:36.437971Z"
    },
    "papermill": {
     "duration": 0.056258,
     "end_time": "2022-08-03T02:16:36.439593",
     "exception": false,
     "start_time": "2022-08-03T02:16:36.383335",
     "status": "completed"
    },
    "tags": []
   },
   "outputs": [
    {
     "data": {
      "text/plain": [
       "'eQTL model: MASHR) / mashr_'"
      ]
     },
     "metadata": {},
     "output_type": "display_data"
    }
   ],
   "source": [
    "assert (\n",
    "    EQTL_MODEL is not None and len(EQTL_MODEL) > 0\n",
    "), \"A prediction/eQTL model must be given\"\n",
    "\n",
    "EQTL_MODEL_FILES_PREFIX = conf.PHENOMEXCAN[\"PREDICTION_MODELS\"][f\"{EQTL_MODEL}_PREFIX\"]\n",
    "display(f\"eQTL model: {EQTL_MODEL}) / {EQTL_MODEL_FILES_PREFIX}\")"
   ]
  },
  {
   "cell_type": "code",
   "execution_count": 8,
   "id": "552a7f63-a18c-4d3e-bb6a-94f99b431291",
   "metadata": {
    "execution": {
     "iopub.execute_input": "2022-08-03T02:16:36.455778Z",
     "iopub.status.busy": "2022-08-03T02:16:36.455600Z",
     "iopub.status.idle": "2022-08-03T02:16:36.486802Z",
     "shell.execute_reply": "2022-08-03T02:16:36.486431Z"
    },
    "papermill": {
     "duration": 0.041034,
     "end_time": "2022-08-03T02:16:36.487998",
     "exception": false,
     "start_time": "2022-08-03T02:16:36.446964",
     "status": "completed"
    },
    "tags": []
   },
   "outputs": [
    {
     "data": {
      "text/plain": [
       "'S-MultiXcan condition number: 30'"
      ]
     },
     "metadata": {},
     "output_type": "display_data"
    }
   ],
   "source": [
    "assert (\n",
    "    SMULTIXCAN_CONDITION_NUMBER is not None and SMULTIXCAN_CONDITION_NUMBER > 0\n",
    "), \"The S-MultiXcan condition number (positive integer) must be given\"\n",
    "\n",
    "display(f\"S-MultiXcan condition number: {SMULTIXCAN_CONDITION_NUMBER}\")"
   ]
  },
  {
   "cell_type": "code",
   "execution_count": 9,
   "id": "f34a336f-548e-4afe-8955-90eaea4f42c6",
   "metadata": {
    "execution": {
     "iopub.execute_input": "2022-08-03T02:16:36.506807Z",
     "iopub.status.busy": "2022-08-03T02:16:36.506639Z",
     "iopub.status.idle": "2022-08-03T02:16:36.524992Z",
     "shell.execute_reply": "2022-08-03T02:16:36.524616Z"
    },
    "papermill": {
     "duration": 0.027839,
     "end_time": "2022-08-03T02:16:36.526189",
     "exception": false,
     "start_time": "2022-08-03T02:16:36.498350",
     "status": "completed"
    },
    "tags": []
   },
   "outputs": [
    {
     "data": {
      "text/plain": [
       "'Working on chromosome 16'"
      ]
     },
     "metadata": {},
     "output_type": "display_data"
    }
   ],
   "source": [
    "assert CHROMOSOME is not None and (\n",
    "    1 <= CHROMOSOME <= 22\n",
    "), \"You have to select one chromosome (format: number between 1 and 22)\"\n",
    "\n",
    "CHROMOSOME = str(CHROMOSOME)\n",
    "display(f\"Working on chromosome {CHROMOSOME}\")"
   ]
  },
  {
   "cell_type": "code",
   "execution_count": 10,
   "id": "ab8e96e8-06b5-4363-9dcd-dc4d78cc27f7",
   "metadata": {
    "execution": {
     "iopub.execute_input": "2022-08-03T02:16:36.552080Z",
     "iopub.status.busy": "2022-08-03T02:16:36.551911Z",
     "iopub.status.idle": "2022-08-03T02:16:36.574620Z",
     "shell.execute_reply": "2022-08-03T02:16:36.574249Z"
    },
    "papermill": {
     "duration": 0.03831,
     "end_time": "2022-08-03T02:16:36.575845",
     "exception": false,
     "start_time": "2022-08-03T02:16:36.537535",
     "status": "completed"
    },
    "tags": []
   },
   "outputs": [
    {
     "data": {
      "text/plain": [
       "'Compute correlation within distance False'"
      ]
     },
     "metadata": {},
     "output_type": "display_data"
    }
   ],
   "source": [
    "display(f\"Compute correlation within distance {COMPUTE_CORRELATIONS_WITHIN_DISTANCE}\")"
   ]
  },
  {
   "cell_type": "code",
   "execution_count": 11,
   "id": "396392dc-0340-4540-9b02-e182b833f909",
   "metadata": {
    "execution": {
     "iopub.execute_input": "2022-08-03T02:16:36.592757Z",
     "iopub.status.busy": "2022-08-03T02:16:36.592588Z",
     "iopub.status.idle": "2022-08-03T02:16:36.628756Z",
     "shell.execute_reply": "2022-08-03T02:16:36.628381Z"
    },
    "papermill": {
     "duration": 0.046239,
     "end_time": "2022-08-03T02:16:36.629984",
     "exception": false,
     "start_time": "2022-08-03T02:16:36.583745",
     "status": "completed"
    },
    "tags": []
   },
   "outputs": [
    {
     "data": {
      "text/plain": [
       "'Using output dir base: /project/ritchie20/projects/phenoplier/base/results/gls/gene_corrs/cohorts/1000g_eur/gtex_v8/mashr'"
      ]
     },
     "metadata": {},
     "output_type": "display_data"
    }
   ],
   "source": [
    "OUTPUT_DIR_BASE = (\n",
    "    conf.RESULTS[\"GLS\"]\n",
    "    / \"gene_corrs\"\n",
    "    / \"cohorts\"\n",
    "    / COHORT_NAME\n",
    "    / REFERENCE_PANEL.lower()\n",
    "    / EQTL_MODEL.lower()\n",
    ")\n",
    "OUTPUT_DIR_BASE.mkdir(parents=True, exist_ok=True)\n",
    "\n",
    "display(f\"Using output dir base: {OUTPUT_DIR_BASE}\")"
   ]
  },
  {
   "cell_type": "markdown",
   "id": "d2ba085e",
   "metadata": {
    "papermill": {
     "duration": 0.007618,
     "end_time": "2022-08-03T02:16:36.645605",
     "exception": false,
     "start_time": "2022-08-03T02:16:36.637987",
     "status": "completed"
    },
    "tags": []
   },
   "source": [
    "# Load data"
   ]
  },
  {
   "cell_type": "markdown",
   "id": "7dcb8db7",
   "metadata": {
    "papermill": {
     "duration": 0.007578,
     "end_time": "2022-08-03T02:16:36.660722",
     "exception": false,
     "start_time": "2022-08-03T02:16:36.653144",
     "status": "completed"
    },
    "tags": []
   },
   "source": [
    "## GWAS variants"
   ]
  },
  {
   "cell_type": "code",
   "execution_count": 12,
   "id": "29434c4e-8cd3-4b9b-82e4-b5a251d9dd19",
   "metadata": {
    "execution": {
     "iopub.execute_input": "2022-08-03T02:16:36.687249Z",
     "iopub.status.busy": "2022-08-03T02:16:36.687061Z",
     "iopub.status.idle": "2022-08-03T02:16:39.547674Z",
     "shell.execute_reply": "2022-08-03T02:16:39.546900Z"
    },
    "papermill": {
     "duration": 2.878606,
     "end_time": "2022-08-03T02:16:39.549625",
     "exception": false,
     "start_time": "2022-08-03T02:16:36.671019",
     "status": "completed"
    },
    "tags": []
   },
   "outputs": [],
   "source": [
    "with open(OUTPUT_DIR_BASE / \"gwas_variant_ids.pkl\", \"rb\") as handle:\n",
    "    gwas_variants_ids_set = pickle.load(handle)"
   ]
  },
  {
   "cell_type": "code",
   "execution_count": 13,
   "id": "b9d9dec2-4a76-4bf9-bde2-e24c95acb8a0",
   "metadata": {
    "execution": {
     "iopub.execute_input": "2022-08-03T02:16:39.567678Z",
     "iopub.status.busy": "2022-08-03T02:16:39.567472Z",
     "iopub.status.idle": "2022-08-03T02:16:39.643911Z",
     "shell.execute_reply": "2022-08-03T02:16:39.643519Z"
    },
    "papermill": {
     "duration": 0.086926,
     "end_time": "2022-08-03T02:16:39.645163",
     "exception": false,
     "start_time": "2022-08-03T02:16:39.558237",
     "status": "completed"
    },
    "tags": []
   },
   "outputs": [
    {
     "data": {
      "text/plain": [
       "8325729"
      ]
     },
     "execution_count": 13,
     "metadata": {},
     "output_type": "execute_result"
    }
   ],
   "source": [
    "len(gwas_variants_ids_set)"
   ]
  },
  {
   "cell_type": "code",
   "execution_count": 14,
   "id": "4235b06a-6034-4ee4-a0a3-2ae35d122418",
   "metadata": {
    "execution": {
     "iopub.execute_input": "2022-08-03T02:16:39.662006Z",
     "iopub.status.busy": "2022-08-03T02:16:39.661824Z",
     "iopub.status.idle": "2022-08-03T02:16:40.148409Z",
     "shell.execute_reply": "2022-08-03T02:16:40.147930Z"
    },
    "papermill": {
     "duration": 0.496767,
     "end_time": "2022-08-03T02:16:40.149788",
     "exception": false,
     "start_time": "2022-08-03T02:16:39.653021",
     "status": "completed"
    },
    "tags": []
   },
   "outputs": [
    {
     "data": {
      "text/plain": [
       "['chr13_65927474_C_A_b38',\n",
       " 'chr4_59601374_A_G_b38',\n",
       " 'chr1_36716795_T_A_b38',\n",
       " 'chr3_132017038_GAAGA_G_b38',\n",
       " 'chr7_5263750_G_A_b38']"
      ]
     },
     "execution_count": 14,
     "metadata": {},
     "output_type": "execute_result"
    }
   ],
   "source": [
    "list(gwas_variants_ids_set)[:5]"
   ]
  },
  {
   "cell_type": "markdown",
   "id": "07866999-2305-41f9-a144-e69c9122c212",
   "metadata": {
    "papermill": {
     "duration": 0.008565,
     "end_time": "2022-08-03T02:16:40.167358",
     "exception": false,
     "start_time": "2022-08-03T02:16:40.158793",
     "status": "completed"
    },
    "tags": []
   },
   "source": [
    "## S-PrediXcan tissue models"
   ]
  },
  {
   "cell_type": "code",
   "execution_count": 15,
   "id": "780611d9-77c8-405f-90a4-f271f7b09397",
   "metadata": {
    "execution": {
     "iopub.execute_input": "2022-08-03T02:16:40.184643Z",
     "iopub.status.busy": "2022-08-03T02:16:40.184442Z",
     "iopub.status.idle": "2022-08-03T02:16:41.182109Z",
     "shell.execute_reply": "2022-08-03T02:16:41.181611Z"
    },
    "papermill": {
     "duration": 1.008651,
     "end_time": "2022-08-03T02:16:41.183938",
     "exception": false,
     "start_time": "2022-08-03T02:16:40.175287",
     "status": "completed"
    },
    "tags": []
   },
   "outputs": [],
   "source": [
    "spredixcan_genes_models = pd.read_pickle(OUTPUT_DIR_BASE / \"gene_tissues.pkl\")"
   ]
  },
  {
   "cell_type": "code",
   "execution_count": 16,
   "id": "726dd1f6-9557-4225-91fa-b3b879ea96e1",
   "metadata": {
    "execution": {
     "iopub.execute_input": "2022-08-03T02:16:41.264407Z",
     "iopub.status.busy": "2022-08-03T02:16:41.264122Z",
     "iopub.status.idle": "2022-08-03T02:16:41.560570Z",
     "shell.execute_reply": "2022-08-03T02:16:41.560175Z"
    },
    "papermill": {
     "duration": 0.328783,
     "end_time": "2022-08-03T02:16:41.561825",
     "exception": false,
     "start_time": "2022-08-03T02:16:41.233042",
     "status": "completed"
    },
    "tags": []
   },
   "outputs": [
    {
     "data": {
      "text/plain": [
       "(6444, 10)"
      ]
     },
     "execution_count": 16,
     "metadata": {},
     "output_type": "execute_result"
    }
   ],
   "source": [
    "spredixcan_genes_models.shape"
   ]
  },
  {
   "cell_type": "code",
   "execution_count": 17,
   "id": "944a1b48-222c-4eb0-b252-b9de2cbca215",
   "metadata": {
    "execution": {
     "iopub.execute_input": "2022-08-03T02:16:41.599760Z",
     "iopub.status.busy": "2022-08-03T02:16:41.599574Z",
     "iopub.status.idle": "2022-08-03T02:16:41.649072Z",
     "shell.execute_reply": "2022-08-03T02:16:41.648695Z"
    },
    "papermill": {
     "duration": 0.067768,
     "end_time": "2022-08-03T02:16:41.650283",
     "exception": false,
     "start_time": "2022-08-03T02:16:41.582515",
     "status": "completed"
    },
    "tags": []
   },
   "outputs": [
    {
     "data": {
      "text/html": [
       "<div>\n",
       "<style scoped>\n",
       "    .dataframe tbody tr th:only-of-type {\n",
       "        vertical-align: middle;\n",
       "    }\n",
       "\n",
       "    .dataframe tbody tr th {\n",
       "        vertical-align: top;\n",
       "    }\n",
       "\n",
       "    .dataframe thead th {\n",
       "        text-align: right;\n",
       "    }\n",
       "</style>\n",
       "<table border=\"1\" class=\"dataframe\">\n",
       "  <thead>\n",
       "    <tr style=\"text-align: right;\">\n",
       "      <th></th>\n",
       "      <th>gene_name</th>\n",
       "      <th>tissue</th>\n",
       "      <th>n_tissues</th>\n",
       "      <th>tissues_pc_variances</th>\n",
       "      <th>tissues_pc_variances_cov</th>\n",
       "      <th>tissues_variances</th>\n",
       "      <th>n_snps_used_sum</th>\n",
       "      <th>n_snps_in_model_sum</th>\n",
       "      <th>unique_n_snps_in_model</th>\n",
       "      <th>unique_n_snps_used</th>\n",
       "    </tr>\n",
       "    <tr>\n",
       "      <th>gene_id</th>\n",
       "      <th></th>\n",
       "      <th></th>\n",
       "      <th></th>\n",
       "      <th></th>\n",
       "      <th></th>\n",
       "      <th></th>\n",
       "      <th></th>\n",
       "      <th></th>\n",
       "      <th></th>\n",
       "      <th></th>\n",
       "    </tr>\n",
       "  </thead>\n",
       "  <tbody>\n",
       "    <tr>\n",
       "      <th>ENSG00000000419</th>\n",
       "      <td>DPM1</td>\n",
       "      <td>(Brain_Hypothalamus, Brain_Substantia_nigra)</td>\n",
       "      <td>2</td>\n",
       "      <td>[1.0442398458252409, 0.9557601541747592]</td>\n",
       "      <td>[0.013163142634155849, 0.00048574890347684763]</td>\n",
       "      <td>{'Brain_Hypothalamus': 0.013162153504206677, '...</td>\n",
       "      <td>2</td>\n",
       "      <td>2</td>\n",
       "      <td>2</td>\n",
       "      <td>2</td>\n",
       "    </tr>\n",
       "    <tr>\n",
       "      <th>ENSG00000000938</th>\n",
       "      <td>FGR</td>\n",
       "      <td>(Prostate, Brain_Cortex, Brain_Nucleus_accumbe...</td>\n",
       "      <td>36</td>\n",
       "      <td>[31.63266933637129, 2.078367751851144, 1.27161...</td>\n",
       "      <td>[0.1715948657078027]</td>\n",
       "      <td>{'Esophagus_Muscularis': 0.006536602044478473,...</td>\n",
       "      <td>40</td>\n",
       "      <td>40</td>\n",
       "      <td>5</td>\n",
       "      <td>5</td>\n",
       "    </tr>\n",
       "    <tr>\n",
       "      <th>ENSG00000000971</th>\n",
       "      <td>CFH</td>\n",
       "      <td>(Brain_Cortex, Brain_Anterior_cingulate_cortex...</td>\n",
       "      <td>34</td>\n",
       "      <td>[21.56076992568329, 7.310170987045463, 1.83778...</td>\n",
       "      <td>[0.2093060319587451, 0.058234347656008024, 0.0...</td>\n",
       "      <td>{'Esophagus_Muscularis': 0.01739410990047228, ...</td>\n",
       "      <td>44</td>\n",
       "      <td>44</td>\n",
       "      <td>12</td>\n",
       "      <td>12</td>\n",
       "    </tr>\n",
       "    <tr>\n",
       "      <th>ENSG00000001084</th>\n",
       "      <td>GCLC</td>\n",
       "      <td>(Brain_Amygdala, Brain_Cortex, Brain_Nucleus_a...</td>\n",
       "      <td>32</td>\n",
       "      <td>[21.291939080546538, 4.699418748743195, 2.2489...</td>\n",
       "      <td>[0.39430527375123775, 0.11627488888534836, 0.0...</td>\n",
       "      <td>{'Thyroid': 0.009654918580686024, 'Brain_Corte...</td>\n",
       "      <td>46</td>\n",
       "      <td>46</td>\n",
       "      <td>23</td>\n",
       "      <td>23</td>\n",
       "    </tr>\n",
       "    <tr>\n",
       "      <th>ENSG00000001167</th>\n",
       "      <td>NFYA</td>\n",
       "      <td>(Prostate, Brain_Cortex, Brain_Nucleus_accumbe...</td>\n",
       "      <td>40</td>\n",
       "      <td>[37.3356602954977, 1.3914019604538357]</td>\n",
       "      <td>[1.1642639979821048, 0.05742881287671712]</td>\n",
       "      <td>{'Esophagus_Muscularis': 0.0318781600881541, '...</td>\n",
       "      <td>47</td>\n",
       "      <td>48</td>\n",
       "      <td>14</td>\n",
       "      <td>13</td>\n",
       "    </tr>\n",
       "  </tbody>\n",
       "</table>\n",
       "</div>"
      ],
      "text/plain": [
       "                gene_name                                             tissue  \\\n",
       "gene_id                                                                        \n",
       "ENSG00000000419      DPM1       (Brain_Hypothalamus, Brain_Substantia_nigra)   \n",
       "ENSG00000000938       FGR  (Prostate, Brain_Cortex, Brain_Nucleus_accumbe...   \n",
       "ENSG00000000971       CFH  (Brain_Cortex, Brain_Anterior_cingulate_cortex...   \n",
       "ENSG00000001084      GCLC  (Brain_Amygdala, Brain_Cortex, Brain_Nucleus_a...   \n",
       "ENSG00000001167      NFYA  (Prostate, Brain_Cortex, Brain_Nucleus_accumbe...   \n",
       "\n",
       "                 n_tissues                               tissues_pc_variances  \\\n",
       "gene_id                                                                         \n",
       "ENSG00000000419          2           [1.0442398458252409, 0.9557601541747592]   \n",
       "ENSG00000000938         36  [31.63266933637129, 2.078367751851144, 1.27161...   \n",
       "ENSG00000000971         34  [21.56076992568329, 7.310170987045463, 1.83778...   \n",
       "ENSG00000001084         32  [21.291939080546538, 4.699418748743195, 2.2489...   \n",
       "ENSG00000001167         40             [37.3356602954977, 1.3914019604538357]   \n",
       "\n",
       "                                          tissues_pc_variances_cov  \\\n",
       "gene_id                                                              \n",
       "ENSG00000000419     [0.013163142634155849, 0.00048574890347684763]   \n",
       "ENSG00000000938                               [0.1715948657078027]   \n",
       "ENSG00000000971  [0.2093060319587451, 0.058234347656008024, 0.0...   \n",
       "ENSG00000001084  [0.39430527375123775, 0.11627488888534836, 0.0...   \n",
       "ENSG00000001167          [1.1642639979821048, 0.05742881287671712]   \n",
       "\n",
       "                                                 tissues_variances  \\\n",
       "gene_id                                                              \n",
       "ENSG00000000419  {'Brain_Hypothalamus': 0.013162153504206677, '...   \n",
       "ENSG00000000938  {'Esophagus_Muscularis': 0.006536602044478473,...   \n",
       "ENSG00000000971  {'Esophagus_Muscularis': 0.01739410990047228, ...   \n",
       "ENSG00000001084  {'Thyroid': 0.009654918580686024, 'Brain_Corte...   \n",
       "ENSG00000001167  {'Esophagus_Muscularis': 0.0318781600881541, '...   \n",
       "\n",
       "                 n_snps_used_sum  n_snps_in_model_sum  unique_n_snps_in_model  \\\n",
       "gene_id                                                                         \n",
       "ENSG00000000419                2                    2                       2   \n",
       "ENSG00000000938               40                   40                       5   \n",
       "ENSG00000000971               44                   44                      12   \n",
       "ENSG00000001084               46                   46                      23   \n",
       "ENSG00000001167               47                   48                      14   \n",
       "\n",
       "                 unique_n_snps_used  \n",
       "gene_id                              \n",
       "ENSG00000000419                   2  \n",
       "ENSG00000000938                   5  \n",
       "ENSG00000000971                  12  \n",
       "ENSG00000001084                  23  \n",
       "ENSG00000001167                  13  "
      ]
     },
     "execution_count": 17,
     "metadata": {},
     "output_type": "execute_result"
    }
   ],
   "source": [
    "spredixcan_genes_models.head()"
   ]
  },
  {
   "cell_type": "code",
   "execution_count": 18,
   "id": "d1c11bb1-be0b-4f40-b360-633d6827109f",
   "metadata": {
    "execution": {
     "iopub.execute_input": "2022-08-03T02:16:41.674230Z",
     "iopub.status.busy": "2022-08-03T02:16:41.674051Z",
     "iopub.status.idle": "2022-08-03T02:16:41.699620Z",
     "shell.execute_reply": "2022-08-03T02:16:41.699247Z"
    },
    "papermill": {
     "duration": 0.038843,
     "end_time": "2022-08-03T02:16:41.700934",
     "exception": false,
     "start_time": "2022-08-03T02:16:41.662091",
     "status": "completed"
    },
    "tags": []
   },
   "outputs": [],
   "source": [
    "assert spredixcan_genes_models.index.is_unique"
   ]
  },
  {
   "cell_type": "markdown",
   "id": "a5b5092c-a13e-47c4-a92a-480fcc08f3ae",
   "metadata": {
    "papermill": {
     "duration": 0.025017,
     "end_time": "2022-08-03T02:16:41.738732",
     "exception": false,
     "start_time": "2022-08-03T02:16:41.713715",
     "status": "completed"
    },
    "tags": []
   },
   "source": [
    "## Gene info"
   ]
  },
  {
   "cell_type": "code",
   "execution_count": 19,
   "id": "7d6bb224-88e9-4358-ac10-43a41d92cdad",
   "metadata": {
    "execution": {
     "iopub.execute_input": "2022-08-03T02:16:41.758808Z",
     "iopub.status.busy": "2022-08-03T02:16:41.758637Z",
     "iopub.status.idle": "2022-08-03T02:16:41.792048Z",
     "shell.execute_reply": "2022-08-03T02:16:41.791667Z"
    },
    "papermill": {
     "duration": 0.044546,
     "end_time": "2022-08-03T02:16:41.793406",
     "exception": false,
     "start_time": "2022-08-03T02:16:41.748860",
     "status": "completed"
    },
    "tags": []
   },
   "outputs": [],
   "source": [
    "genes_info = pd.read_pickle(OUTPUT_DIR_BASE / \"genes_info.pkl\")"
   ]
  },
  {
   "cell_type": "code",
   "execution_count": 20,
   "id": "9e32abfa-546d-483e-8c18-d526e9e05903",
   "metadata": {
    "execution": {
     "iopub.execute_input": "2022-08-03T02:16:41.827557Z",
     "iopub.status.busy": "2022-08-03T02:16:41.827372Z",
     "iopub.status.idle": "2022-08-03T02:16:41.858076Z",
     "shell.execute_reply": "2022-08-03T02:16:41.857701Z"
    },
    "papermill": {
     "duration": 0.045733,
     "end_time": "2022-08-03T02:16:41.859278",
     "exception": false,
     "start_time": "2022-08-03T02:16:41.813545",
     "status": "completed"
    },
    "tags": []
   },
   "outputs": [
    {
     "data": {
      "text/plain": [
       "(6444, 7)"
      ]
     },
     "execution_count": 20,
     "metadata": {},
     "output_type": "execute_result"
    }
   ],
   "source": [
    "genes_info.shape"
   ]
  },
  {
   "cell_type": "code",
   "execution_count": 21,
   "id": "d16c3e92-85ec-468a-9a56-e25a9774a1cb",
   "metadata": {
    "execution": {
     "iopub.execute_input": "2022-08-03T02:16:41.894072Z",
     "iopub.status.busy": "2022-08-03T02:16:41.893891Z",
     "iopub.status.idle": "2022-08-03T02:16:41.936105Z",
     "shell.execute_reply": "2022-08-03T02:16:41.935719Z"
    },
    "papermill": {
     "duration": 0.066077,
     "end_time": "2022-08-03T02:16:41.937345",
     "exception": false,
     "start_time": "2022-08-03T02:16:41.871268",
     "status": "completed"
    },
    "tags": []
   },
   "outputs": [
    {
     "data": {
      "text/html": [
       "<div>\n",
       "<style scoped>\n",
       "    .dataframe tbody tr th:only-of-type {\n",
       "        vertical-align: middle;\n",
       "    }\n",
       "\n",
       "    .dataframe tbody tr th {\n",
       "        vertical-align: top;\n",
       "    }\n",
       "\n",
       "    .dataframe thead th {\n",
       "        text-align: right;\n",
       "    }\n",
       "</style>\n",
       "<table border=\"1\" class=\"dataframe\">\n",
       "  <thead>\n",
       "    <tr style=\"text-align: right;\">\n",
       "      <th></th>\n",
       "      <th>name</th>\n",
       "      <th>id</th>\n",
       "      <th>chr</th>\n",
       "      <th>band</th>\n",
       "      <th>start_position</th>\n",
       "      <th>end_position</th>\n",
       "      <th>gene_length</th>\n",
       "    </tr>\n",
       "  </thead>\n",
       "  <tbody>\n",
       "    <tr>\n",
       "      <th>0</th>\n",
       "      <td>HEYL</td>\n",
       "      <td>ENSG00000163909</td>\n",
       "      <td>1</td>\n",
       "      <td>1p34.2</td>\n",
       "      <td>39623435.0</td>\n",
       "      <td>39639643.0</td>\n",
       "      <td>16208.0</td>\n",
       "    </tr>\n",
       "    <tr>\n",
       "      <th>1</th>\n",
       "      <td>CYP24A1</td>\n",
       "      <td>ENSG00000019186</td>\n",
       "      <td>20</td>\n",
       "      <td>20q13.2</td>\n",
       "      <td>54153446.0</td>\n",
       "      <td>54173986.0</td>\n",
       "      <td>20540.0</td>\n",
       "    </tr>\n",
       "    <tr>\n",
       "      <th>2</th>\n",
       "      <td>ITGB4</td>\n",
       "      <td>ENSG00000132470</td>\n",
       "      <td>17</td>\n",
       "      <td>17q25.1</td>\n",
       "      <td>75721328.0</td>\n",
       "      <td>75757818.0</td>\n",
       "      <td>36490.0</td>\n",
       "    </tr>\n",
       "    <tr>\n",
       "      <th>3</th>\n",
       "      <td>SPINT1</td>\n",
       "      <td>ENSG00000166145</td>\n",
       "      <td>15</td>\n",
       "      <td>15q15.1</td>\n",
       "      <td>40844018.0</td>\n",
       "      <td>40858207.0</td>\n",
       "      <td>14189.0</td>\n",
       "    </tr>\n",
       "    <tr>\n",
       "      <th>4</th>\n",
       "      <td>PCSK6</td>\n",
       "      <td>ENSG00000140479</td>\n",
       "      <td>15</td>\n",
       "      <td>15q26.3</td>\n",
       "      <td>101297142.0</td>\n",
       "      <td>101525202.0</td>\n",
       "      <td>228060.0</td>\n",
       "    </tr>\n",
       "  </tbody>\n",
       "</table>\n",
       "</div>"
      ],
      "text/plain": [
       "      name               id chr     band  start_position  end_position  \\\n",
       "0     HEYL  ENSG00000163909   1   1p34.2      39623435.0    39639643.0   \n",
       "1  CYP24A1  ENSG00000019186  20  20q13.2      54153446.0    54173986.0   \n",
       "2    ITGB4  ENSG00000132470  17  17q25.1      75721328.0    75757818.0   \n",
       "3   SPINT1  ENSG00000166145  15  15q15.1      40844018.0    40858207.0   \n",
       "4    PCSK6  ENSG00000140479  15  15q26.3     101297142.0   101525202.0   \n",
       "\n",
       "   gene_length  \n",
       "0      16208.0  \n",
       "1      20540.0  \n",
       "2      36490.0  \n",
       "3      14189.0  \n",
       "4     228060.0  "
      ]
     },
     "execution_count": 21,
     "metadata": {},
     "output_type": "execute_result"
    }
   ],
   "source": [
    "genes_info.head()"
   ]
  },
  {
   "cell_type": "markdown",
   "id": "d3843e06",
   "metadata": {
    "papermill": {
     "duration": 0.013513,
     "end_time": "2022-08-03T02:16:41.964371",
     "exception": false,
     "start_time": "2022-08-03T02:16:41.950858",
     "status": "completed"
    },
    "tags": []
   },
   "source": [
    "# Compute correlations"
   ]
  },
  {
   "cell_type": "code",
   "execution_count": 22,
   "id": "cb859c15-d1f3-4006-a74c-2b83c0db9611",
   "metadata": {
    "execution": {
     "iopub.execute_input": "2022-08-03T02:16:41.989803Z",
     "iopub.status.busy": "2022-08-03T02:16:41.989632Z",
     "iopub.status.idle": "2022-08-03T02:16:42.032146Z",
     "shell.execute_reply": "2022-08-03T02:16:42.031774Z"
    },
    "papermill": {
     "duration": 0.056407,
     "end_time": "2022-08-03T02:16:42.033358",
     "exception": false,
     "start_time": "2022-08-03T02:16:41.976951",
     "status": "completed"
    },
    "tags": []
   },
   "outputs": [
    {
     "data": {
      "text/plain": [
       "PosixPath('/project/ritchie20/projects/phenoplier/base/results/gls/gene_corrs/cohorts/1000g_eur/gtex_v8/mashr/by_chr/gene_corrs-chr16.pkl')"
      ]
     },
     "metadata": {},
     "output_type": "display_data"
    }
   ],
   "source": [
    "output_dir = OUTPUT_DIR_BASE / \"by_chr\"\n",
    "output_dir.mkdir(exist_ok=True, parents=True)\n",
    "output_file = output_dir / f\"gene_corrs-chr{CHROMOSOME}.pkl\"\n",
    "display(output_file)"
   ]
  },
  {
   "cell_type": "code",
   "execution_count": 23,
   "id": "aa674fe4-6794-4eed-98fa-32b39d1d4ace",
   "metadata": {
    "execution": {
     "iopub.execute_input": "2022-08-03T02:16:42.073480Z",
     "iopub.status.busy": "2022-08-03T02:16:42.073299Z",
     "iopub.status.idle": "2022-08-03T02:16:42.440089Z",
     "shell.execute_reply": "2022-08-03T02:16:42.439602Z"
    },
    "papermill": {
     "duration": 0.384312,
     "end_time": "2022-08-03T02:16:42.441926",
     "exception": false,
     "start_time": "2022-08-03T02:16:42.057614",
     "status": "completed"
    },
    "tags": []
   },
   "outputs": [],
   "source": [
    "warnings.filterwarnings(\"error\")"
   ]
  },
  {
   "cell_type": "code",
   "execution_count": 24,
   "id": "44d5450b-3baf-43f1-9e2e-4b06f1a785f8",
   "metadata": {
    "execution": {
     "iopub.execute_input": "2022-08-03T02:16:42.477834Z",
     "iopub.status.busy": "2022-08-03T02:16:42.477595Z",
     "iopub.status.idle": "2022-08-03T02:16:42.587164Z",
     "shell.execute_reply": "2022-08-03T02:16:42.586688Z"
    },
    "papermill": {
     "duration": 0.126525,
     "end_time": "2022-08-03T02:16:42.588903",
     "exception": false,
     "start_time": "2022-08-03T02:16:42.462378",
     "status": "completed"
    },
    "tags": []
   },
   "outputs": [],
   "source": [
    "# standard checks\n",
    "all_chrs = genes_info[\"chr\"].dropna().unique()\n",
    "assert all_chrs.shape[0] == 22\n",
    "\n",
    "# select chromosome given by the user\n",
    "assert CHROMOSOME in all_chrs"
   ]
  },
  {
   "cell_type": "code",
   "execution_count": 25,
   "id": "2d7c043c-92a7-4d35-991b-fa69ac1e0268",
   "metadata": {
    "execution": {
     "iopub.execute_input": "2022-08-03T02:16:42.626620Z",
     "iopub.status.busy": "2022-08-03T02:16:42.626418Z",
     "iopub.status.idle": "2022-08-03T02:16:42.682240Z",
     "shell.execute_reply": "2022-08-03T02:16:42.681835Z"
    },
    "papermill": {
     "duration": 0.075716,
     "end_time": "2022-08-03T02:16:42.683480",
     "exception": false,
     "start_time": "2022-08-03T02:16:42.607764",
     "status": "completed"
    },
    "tags": []
   },
   "outputs": [
    {
     "name": "stdout",
     "output_type": "stream",
     "text": [
      "Number of genes in chromosome: 274\n"
     ]
    }
   ],
   "source": [
    "# run only on the chromosome specified\n",
    "all_chrs = [CHROMOSOME]\n",
    "genes_chr = genes_info[genes_info[\"chr\"] == CHROMOSOME]\n",
    "\n",
    "# For testing purposes\n",
    "# genes_chr = genes_chr.sample(n=20)\n",
    "\n",
    "print(f\"Number of genes in chromosome: {genes_chr.shape[0]}\", flush=True)"
   ]
  },
  {
   "cell_type": "code",
   "execution_count": 26,
   "id": "916015d8-2979-46d3-a9b9-1cf5a0932c6a",
   "metadata": {
    "execution": {
     "iopub.execute_input": "2022-08-03T02:16:42.716560Z",
     "iopub.status.busy": "2022-08-03T02:16:42.716374Z",
     "iopub.status.idle": "2022-08-03T02:16:42.790603Z",
     "shell.execute_reply": "2022-08-03T02:16:42.790206Z"
    },
    "papermill": {
     "duration": 0.093871,
     "end_time": "2022-08-03T02:16:42.791958",
     "exception": false,
     "start_time": "2022-08-03T02:16:42.698087",
     "status": "completed"
    },
    "tags": []
   },
   "outputs": [],
   "source": [
    "# sort genes by starting position to make visualizations better later\n",
    "genes_chr = genes_chr.sort_values(\"start_position\")"
   ]
  },
  {
   "cell_type": "code",
   "execution_count": 27,
   "id": "a38aa74a-8ad3-47f6-8ef9-56be0e011774",
   "metadata": {
    "execution": {
     "iopub.execute_input": "2022-08-03T02:16:42.833061Z",
     "iopub.status.busy": "2022-08-03T02:16:42.832878Z",
     "iopub.status.idle": "2022-08-03T02:16:42.868271Z",
     "shell.execute_reply": "2022-08-03T02:16:42.867870Z"
    },
    "papermill": {
     "duration": 0.053274,
     "end_time": "2022-08-03T02:16:42.869637",
     "exception": false,
     "start_time": "2022-08-03T02:16:42.816363",
     "status": "completed"
    },
    "tags": []
   },
   "outputs": [],
   "source": [
    "gene_chr_objs = [Gene(ensembl_id=gene_id) for gene_id in genes_chr[\"id\"]]"
   ]
  },
  {
   "cell_type": "code",
   "execution_count": 28,
   "id": "570f974f-13c3-42b6-ad3a-ce99ca885c1a",
   "metadata": {
    "execution": {
     "iopub.execute_input": "2022-08-03T02:16:42.912556Z",
     "iopub.status.busy": "2022-08-03T02:16:42.912385Z",
     "iopub.status.idle": "2022-08-03T02:16:42.952732Z",
     "shell.execute_reply": "2022-08-03T02:16:42.952356Z"
    },
    "papermill": {
     "duration": 0.056268,
     "end_time": "2022-08-03T02:16:42.953961",
     "exception": false,
     "start_time": "2022-08-03T02:16:42.897693",
     "status": "completed"
    },
    "tags": []
   },
   "outputs": [
    {
     "name": "stdout",
     "output_type": "stream",
     "text": [
      "Number of gene combinations: 37401\n"
     ]
    }
   ],
   "source": [
    "n = len(gene_chr_objs)\n",
    "n_comb = int(n * (n - 1) / 2.0)\n",
    "print(f\"Number of gene combinations: {n_comb}\", flush=True)"
   ]
  },
  {
   "cell_type": "code",
   "execution_count": 29,
   "id": "cdbb90a1",
   "metadata": {
    "execution": {
     "iopub.execute_input": "2022-08-03T02:16:42.983599Z",
     "iopub.status.busy": "2022-08-03T02:16:42.983430Z",
     "iopub.status.idle": "2022-08-03T02:54:58.299696Z",
     "shell.execute_reply": "2022-08-03T02:54:58.298480Z"
    },
    "papermill": {
     "duration": 2295.336027,
     "end_time": "2022-08-03T02:54:58.302875",
     "exception": false,
     "start_time": "2022-08-03T02:16:42.966848",
     "status": "completed"
    },
    "tags": []
   },
   "outputs": [
    {
     "name": "stderr",
     "output_type": "stream",
     "text": [
      "ENSG00000258839 / ENSG00000258947: 100%|██████████████████████| 37401/37401 [38:15<00:00, 16.30it/s]\n"
     ]
    },
    {
     "data": {
      "text/plain": [
       "PosixPath('/project/ritchie20/projects/phenoplier/base/results/gls/gene_corrs/cohorts/1000g_eur/gtex_v8/mashr/by_chr/gene_corrs-chr16.pkl')"
      ]
     },
     "metadata": {},
     "output_type": "display_data"
    }
   ],
   "source": [
    "gene_corrs = []\n",
    "\n",
    "i = 0\n",
    "with tqdm(ncols=100, total=n_comb) as pbar:\n",
    "    for gene1_idx in range(0, len(gene_chr_objs) - 1):\n",
    "        gene1_obj = gene_chr_objs[gene1_idx]\n",
    "        gene1_tissues = spredixcan_genes_models.loc[gene1_obj.ensembl_id, \"tissue\"]\n",
    "\n",
    "        for gene2_idx in range(gene1_idx + 1, len(gene_chr_objs)):\n",
    "            gene2_obj = gene_chr_objs[gene2_idx]\n",
    "            gene2_tissues = spredixcan_genes_models.loc[gene2_obj.ensembl_id, \"tissue\"]\n",
    "\n",
    "            pbar.set_description(f\"{gene1_obj.ensembl_id} / {gene2_obj.ensembl_id}\")\n",
    "\n",
    "            try:\n",
    "                r = gene1_obj.get_ssm_correlation(\n",
    "                    other_gene=gene2_obj,\n",
    "                    tissues=gene1_tissues,\n",
    "                    other_tissues=gene2_tissues,\n",
    "                    snps_subset=gwas_variants_ids_set,\n",
    "                    condition_number=SMULTIXCAN_CONDITION_NUMBER,\n",
    "                    reference_panel=REFERENCE_PANEL,\n",
    "                    model_type=EQTL_MODEL,\n",
    "                    use_within_distance=COMPUTE_CORRELATIONS_WITHIN_DISTANCE,\n",
    "                )\n",
    "\n",
    "                if r is None:\n",
    "                    # if r is None, it's very likely because:\n",
    "                    #  * one of the genes has no prediction models\n",
    "                    #  * all the SNPs predictors for the gene are not present in the reference\n",
    "                    #    panel\n",
    "\n",
    "                    r = 0.0\n",
    "\n",
    "                gene_corrs.append(r)\n",
    "            except Warning as e:\n",
    "                if not DEBUG_MODE:\n",
    "                    raise e\n",
    "\n",
    "                print(\n",
    "                    f\"RuntimeWarning for genes {gene1_obj.ensembl_id} and {gene2_obj.ensembl_id}\",\n",
    "                    flush=True,\n",
    "                )\n",
    "                print(traceback.format_exc(), flush=True)\n",
    "\n",
    "                gene_corrs.append(np.nan)\n",
    "            except Exception as e:\n",
    "                if not DEBUG_MODE:\n",
    "                    raise e\n",
    "\n",
    "                print(\n",
    "                    f\"Exception for genes {gene1_obj.ensembl_id} and {gene2_obj.ensembl_id}\",\n",
    "                    flush=True,\n",
    "                )\n",
    "                print(traceback.format_exc(), flush=True)\n",
    "\n",
    "                gene_corrs.append(np.nan)\n",
    "\n",
    "            pbar.update(1)\n",
    "\n",
    "# create a pandas series\n",
    "gene_corrs_flat = pd.Series(gene_corrs)\n",
    "\n",
    "# save\n",
    "# FIXME: consider saving only the condenced matrix here. See here for\n",
    "# more details: https://github.com/greenelab/phenoplier/pull/38#discussion_r634600813\n",
    "gene_corrs_data = squareform(np.array(gene_corrs, dtype=np.float64))\n",
    "np.fill_diagonal(gene_corrs_data, 1.0)\n",
    "\n",
    "gene_chr_ids = [g.ensembl_id for g in gene_chr_objs]\n",
    "gene_corrs_df = pd.DataFrame(\n",
    "    data=gene_corrs_data,\n",
    "    index=gene_chr_ids,\n",
    "    columns=gene_chr_ids,\n",
    ")\n",
    "\n",
    "output_dir.mkdir(exist_ok=True, parents=True)\n",
    "display(output_file)\n",
    "\n",
    "gene_corrs_df.to_pickle(output_file)"
   ]
  },
  {
   "cell_type": "markdown",
   "id": "faa67b51-5373-470f-aa72-2ded53fa6dfe",
   "metadata": {
    "papermill": {
     "duration": 1.79108,
     "end_time": "2022-08-03T02:55:02.014504",
     "exception": false,
     "start_time": "2022-08-03T02:55:00.223424",
     "status": "completed"
    },
    "tags": []
   },
   "source": [
    "# Testing"
   ]
  },
  {
   "cell_type": "code",
   "execution_count": 30,
   "id": "14f7d046-4b55-4896-a56b-990127bcc388",
   "metadata": {
    "execution": {
     "iopub.execute_input": "2022-08-03T02:55:05.679354Z",
     "iopub.status.busy": "2022-08-03T02:55:05.679071Z",
     "iopub.status.idle": "2022-08-03T02:55:05.895849Z",
     "shell.execute_reply": "2022-08-03T02:55:05.895416Z"
    },
    "papermill": {
     "duration": 2.049007,
     "end_time": "2022-08-03T02:55:05.897211",
     "exception": false,
     "start_time": "2022-08-03T02:55:03.848204",
     "status": "completed"
    },
    "tags": []
   },
   "outputs": [
    {
     "data": {
      "text/plain": [
       "(274, 274)"
      ]
     },
     "execution_count": 30,
     "metadata": {},
     "output_type": "execute_result"
    }
   ],
   "source": [
    "gene_corrs_df.shape"
   ]
  },
  {
   "cell_type": "code",
   "execution_count": 31,
   "id": "c7d15414-3297-4537-a7c6-7588c0baeb75",
   "metadata": {
    "execution": {
     "iopub.execute_input": "2022-08-03T02:55:09.597859Z",
     "iopub.status.busy": "2022-08-03T02:55:09.597611Z",
     "iopub.status.idle": "2022-08-03T02:55:09.629799Z",
     "shell.execute_reply": "2022-08-03T02:55:09.629376Z"
    },
    "papermill": {
     "duration": 1.893692,
     "end_time": "2022-08-03T02:55:09.631107",
     "exception": false,
     "start_time": "2022-08-03T02:55:07.737415",
     "status": "completed"
    },
    "tags": []
   },
   "outputs": [
    {
     "data": {
      "text/html": [
       "<div>\n",
       "<style scoped>\n",
       "    .dataframe tbody tr th:only-of-type {\n",
       "        vertical-align: middle;\n",
       "    }\n",
       "\n",
       "    .dataframe tbody tr th {\n",
       "        vertical-align: top;\n",
       "    }\n",
       "\n",
       "    .dataframe thead th {\n",
       "        text-align: right;\n",
       "    }\n",
       "</style>\n",
       "<table border=\"1\" class=\"dataframe\">\n",
       "  <thead>\n",
       "    <tr style=\"text-align: right;\">\n",
       "      <th></th>\n",
       "      <th>ENSG00000161980</th>\n",
       "      <th>ENSG00000103152</th>\n",
       "      <th>ENSG00000206172</th>\n",
       "      <th>ENSG00000086506</th>\n",
       "      <th>ENSG00000076344</th>\n",
       "      <th>ENSG00000103126</th>\n",
       "      <th>ENSG00000086504</th>\n",
       "      <th>ENSG00000103202</th>\n",
       "      <th>ENSG00000242612</th>\n",
       "      <th>ENSG00000090565</th>\n",
       "      <th>...</th>\n",
       "      <th>ENSG00000051523</th>\n",
       "      <th>ENSG00000167508</th>\n",
       "      <th>ENSG00000167513</th>\n",
       "      <th>ENSG00000198931</th>\n",
       "      <th>ENSG00000141012</th>\n",
       "      <th>ENSG00000129993</th>\n",
       "      <th>ENSG00000167526</th>\n",
       "      <th>ENSG00000187741</th>\n",
       "      <th>ENSG00000258839</th>\n",
       "      <th>ENSG00000258947</th>\n",
       "    </tr>\n",
       "  </thead>\n",
       "  <tbody>\n",
       "    <tr>\n",
       "      <th>ENSG00000161980</th>\n",
       "      <td>1.000000</td>\n",
       "      <td>0.312555</td>\n",
       "      <td>0.008425</td>\n",
       "      <td>0.032054</td>\n",
       "      <td>0.013076</td>\n",
       "      <td>0.016392</td>\n",
       "      <td>0.010935</td>\n",
       "      <td>0.013421</td>\n",
       "      <td>0.017843</td>\n",
       "      <td>0.013448</td>\n",
       "      <td>...</td>\n",
       "      <td>0.006500</td>\n",
       "      <td>0.002763</td>\n",
       "      <td>0.002521</td>\n",
       "      <td>0.000604</td>\n",
       "      <td>0.004221</td>\n",
       "      <td>0.004325</td>\n",
       "      <td>0.002774</td>\n",
       "      <td>0.004118</td>\n",
       "      <td>0.015575</td>\n",
       "      <td>0.013229</td>\n",
       "    </tr>\n",
       "    <tr>\n",
       "      <th>ENSG00000103152</th>\n",
       "      <td>0.312555</td>\n",
       "      <td>1.000000</td>\n",
       "      <td>0.034726</td>\n",
       "      <td>0.120375</td>\n",
       "      <td>0.061708</td>\n",
       "      <td>0.029572</td>\n",
       "      <td>0.025706</td>\n",
       "      <td>0.010704</td>\n",
       "      <td>0.008710</td>\n",
       "      <td>0.009701</td>\n",
       "      <td>...</td>\n",
       "      <td>0.006304</td>\n",
       "      <td>0.008560</td>\n",
       "      <td>0.006091</td>\n",
       "      <td>0.004566</td>\n",
       "      <td>0.008524</td>\n",
       "      <td>0.004911</td>\n",
       "      <td>0.008886</td>\n",
       "      <td>0.003155</td>\n",
       "      <td>0.007370</td>\n",
       "      <td>0.014401</td>\n",
       "    </tr>\n",
       "    <tr>\n",
       "      <th>ENSG00000206172</th>\n",
       "      <td>0.008425</td>\n",
       "      <td>0.034726</td>\n",
       "      <td>1.000000</td>\n",
       "      <td>0.059261</td>\n",
       "      <td>0.062141</td>\n",
       "      <td>0.025327</td>\n",
       "      <td>0.103654</td>\n",
       "      <td>0.014437</td>\n",
       "      <td>0.013527</td>\n",
       "      <td>0.011204</td>\n",
       "      <td>...</td>\n",
       "      <td>0.005235</td>\n",
       "      <td>0.006589</td>\n",
       "      <td>0.004574</td>\n",
       "      <td>0.004250</td>\n",
       "      <td>0.002482</td>\n",
       "      <td>0.002649</td>\n",
       "      <td>0.000407</td>\n",
       "      <td>0.001616</td>\n",
       "      <td>0.000968</td>\n",
       "      <td>0.005157</td>\n",
       "    </tr>\n",
       "    <tr>\n",
       "      <th>ENSG00000086506</th>\n",
       "      <td>0.032054</td>\n",
       "      <td>0.120375</td>\n",
       "      <td>0.059261</td>\n",
       "      <td>1.000000</td>\n",
       "      <td>0.169472</td>\n",
       "      <td>0.092479</td>\n",
       "      <td>0.080608</td>\n",
       "      <td>0.014114</td>\n",
       "      <td>0.017748</td>\n",
       "      <td>0.022424</td>\n",
       "      <td>...</td>\n",
       "      <td>0.006762</td>\n",
       "      <td>0.009107</td>\n",
       "      <td>0.004183</td>\n",
       "      <td>0.002264</td>\n",
       "      <td>0.006496</td>\n",
       "      <td>0.003320</td>\n",
       "      <td>0.005203</td>\n",
       "      <td>0.003655</td>\n",
       "      <td>0.004036</td>\n",
       "      <td>0.009074</td>\n",
       "    </tr>\n",
       "    <tr>\n",
       "      <th>ENSG00000076344</th>\n",
       "      <td>0.013076</td>\n",
       "      <td>0.061708</td>\n",
       "      <td>0.062141</td>\n",
       "      <td>0.169472</td>\n",
       "      <td>1.000000</td>\n",
       "      <td>0.134059</td>\n",
       "      <td>0.121469</td>\n",
       "      <td>0.064623</td>\n",
       "      <td>0.023591</td>\n",
       "      <td>0.025082</td>\n",
       "      <td>...</td>\n",
       "      <td>0.001829</td>\n",
       "      <td>0.004859</td>\n",
       "      <td>0.004549</td>\n",
       "      <td>0.002480</td>\n",
       "      <td>0.005701</td>\n",
       "      <td>0.005481</td>\n",
       "      <td>0.001832</td>\n",
       "      <td>0.004537</td>\n",
       "      <td>0.003783</td>\n",
       "      <td>0.006105</td>\n",
       "    </tr>\n",
       "  </tbody>\n",
       "</table>\n",
       "<p>5 rows × 274 columns</p>\n",
       "</div>"
      ],
      "text/plain": [
       "                 ENSG00000161980  ENSG00000103152  ENSG00000206172  \\\n",
       "ENSG00000161980         1.000000         0.312555         0.008425   \n",
       "ENSG00000103152         0.312555         1.000000         0.034726   \n",
       "ENSG00000206172         0.008425         0.034726         1.000000   \n",
       "ENSG00000086506         0.032054         0.120375         0.059261   \n",
       "ENSG00000076344         0.013076         0.061708         0.062141   \n",
       "\n",
       "                 ENSG00000086506  ENSG00000076344  ENSG00000103126  \\\n",
       "ENSG00000161980         0.032054         0.013076         0.016392   \n",
       "ENSG00000103152         0.120375         0.061708         0.029572   \n",
       "ENSG00000206172         0.059261         0.062141         0.025327   \n",
       "ENSG00000086506         1.000000         0.169472         0.092479   \n",
       "ENSG00000076344         0.169472         1.000000         0.134059   \n",
       "\n",
       "                 ENSG00000086504  ENSG00000103202  ENSG00000242612  \\\n",
       "ENSG00000161980         0.010935         0.013421         0.017843   \n",
       "ENSG00000103152         0.025706         0.010704         0.008710   \n",
       "ENSG00000206172         0.103654         0.014437         0.013527   \n",
       "ENSG00000086506         0.080608         0.014114         0.017748   \n",
       "ENSG00000076344         0.121469         0.064623         0.023591   \n",
       "\n",
       "                 ENSG00000090565  ...  ENSG00000051523  ENSG00000167508  \\\n",
       "ENSG00000161980         0.013448  ...         0.006500         0.002763   \n",
       "ENSG00000103152         0.009701  ...         0.006304         0.008560   \n",
       "ENSG00000206172         0.011204  ...         0.005235         0.006589   \n",
       "ENSG00000086506         0.022424  ...         0.006762         0.009107   \n",
       "ENSG00000076344         0.025082  ...         0.001829         0.004859   \n",
       "\n",
       "                 ENSG00000167513  ENSG00000198931  ENSG00000141012  \\\n",
       "ENSG00000161980         0.002521         0.000604         0.004221   \n",
       "ENSG00000103152         0.006091         0.004566         0.008524   \n",
       "ENSG00000206172         0.004574         0.004250         0.002482   \n",
       "ENSG00000086506         0.004183         0.002264         0.006496   \n",
       "ENSG00000076344         0.004549         0.002480         0.005701   \n",
       "\n",
       "                 ENSG00000129993  ENSG00000167526  ENSG00000187741  \\\n",
       "ENSG00000161980         0.004325         0.002774         0.004118   \n",
       "ENSG00000103152         0.004911         0.008886         0.003155   \n",
       "ENSG00000206172         0.002649         0.000407         0.001616   \n",
       "ENSG00000086506         0.003320         0.005203         0.003655   \n",
       "ENSG00000076344         0.005481         0.001832         0.004537   \n",
       "\n",
       "                 ENSG00000258839  ENSG00000258947  \n",
       "ENSG00000161980         0.015575         0.013229  \n",
       "ENSG00000103152         0.007370         0.014401  \n",
       "ENSG00000206172         0.000968         0.005157  \n",
       "ENSG00000086506         0.004036         0.009074  \n",
       "ENSG00000076344         0.003783         0.006105  \n",
       "\n",
       "[5 rows x 274 columns]"
      ]
     },
     "execution_count": 31,
     "metadata": {},
     "output_type": "execute_result"
    }
   ],
   "source": [
    "gene_corrs_df.head()"
   ]
  },
  {
   "cell_type": "markdown",
   "id": "dad6603f-01c6-41fb-a6f6-241051207dd8",
   "metadata": {
    "papermill": {
     "duration": 1.854269,
     "end_time": "2022-08-03T02:55:13.341980",
     "exception": false,
     "start_time": "2022-08-03T02:55:11.487711",
     "status": "completed"
    },
    "tags": []
   },
   "source": [
    "## Standard checks and stats"
   ]
  },
  {
   "cell_type": "code",
   "execution_count": 32,
   "id": "286686af-1b7b-4440-8453-6bdcbd8de19c",
   "metadata": {
    "execution": {
     "iopub.execute_input": "2022-08-03T02:55:17.042090Z",
     "iopub.status.busy": "2022-08-03T02:55:17.041841Z",
     "iopub.status.idle": "2022-08-03T02:55:17.062751Z",
     "shell.execute_reply": "2022-08-03T02:55:17.062336Z"
    },
    "papermill": {
     "duration": 1.868984,
     "end_time": "2022-08-03T02:55:17.064196",
     "exception": false,
     "start_time": "2022-08-03T02:55:15.195212",
     "status": "completed"
    },
    "tags": []
   },
   "outputs": [],
   "source": [
    "assert not gene_corrs_df.isna().any().any()"
   ]
  },
  {
   "cell_type": "code",
   "execution_count": 33,
   "id": "00583efc-7068-4270-ad1e-4a418e91db96",
   "metadata": {
    "execution": {
     "iopub.execute_input": "2022-08-03T02:55:20.775334Z",
     "iopub.status.busy": "2022-08-03T02:55:20.775082Z",
     "iopub.status.idle": "2022-08-03T02:55:20.830599Z",
     "shell.execute_reply": "2022-08-03T02:55:20.830171Z"
    },
    "papermill": {
     "duration": 1.914018,
     "end_time": "2022-08-03T02:55:20.831906",
     "exception": false,
     "start_time": "2022-08-03T02:55:18.917888",
     "status": "completed"
    },
    "tags": []
   },
   "outputs": [
    {
     "data": {
      "text/plain": [
       "1.5042425667066423e-06"
      ]
     },
     "metadata": {},
     "output_type": "display_data"
    }
   ],
   "source": [
    "_min_val = gene_corrs_df.min().min()\n",
    "display(_min_val)\n",
    "assert _min_val >= 0.0"
   ]
  },
  {
   "cell_type": "code",
   "execution_count": 34,
   "id": "d04fb2cf-1050-475b-b855-f5f7cc04092b",
   "metadata": {
    "execution": {
     "iopub.execute_input": "2022-08-03T02:55:24.485396Z",
     "iopub.status.busy": "2022-08-03T02:55:24.485113Z",
     "iopub.status.idle": "2022-08-03T02:55:24.507302Z",
     "shell.execute_reply": "2022-08-03T02:55:24.506874Z"
    },
    "papermill": {
     "duration": 1.884255,
     "end_time": "2022-08-03T02:55:24.508551",
     "exception": false,
     "start_time": "2022-08-03T02:55:22.624296",
     "status": "completed"
    },
    "tags": []
   },
   "outputs": [
    {
     "data": {
      "text/plain": [
       "1.0"
      ]
     },
     "metadata": {},
     "output_type": "display_data"
    }
   ],
   "source": [
    "_max_val = gene_corrs_df.max().max()  # this captures the diagonal\n",
    "display(_max_val)\n",
    "assert _max_val <= 1.0"
   ]
  },
  {
   "cell_type": "code",
   "execution_count": 35,
   "id": "96d02c44-1fba-47be-8a93-8f2608420b9c",
   "metadata": {
    "execution": {
     "iopub.execute_input": "2022-08-03T02:55:28.185742Z",
     "iopub.status.busy": "2022-08-03T02:55:28.185490Z",
     "iopub.status.idle": "2022-08-03T02:55:28.205109Z",
     "shell.execute_reply": "2022-08-03T02:55:28.204681Z"
    },
    "papermill": {
     "duration": 1.84708,
     "end_time": "2022-08-03T02:55:28.206567",
     "exception": false,
     "start_time": "2022-08-03T02:55:26.359487",
     "status": "completed"
    },
    "tags": []
   },
   "outputs": [],
   "source": [
    "# check upper triangular values\n",
    "assert len(gene_corrs) == int(genes_chr.shape[0] * (genes_chr.shape[0] - 1) / 2)"
   ]
  },
  {
   "cell_type": "code",
   "execution_count": 36,
   "id": "fe283586-c348-40e0-8841-f6d97bfb021c",
   "metadata": {
    "execution": {
     "iopub.execute_input": "2022-08-03T02:55:31.921548Z",
     "iopub.status.busy": "2022-08-03T02:55:31.921305Z",
     "iopub.status.idle": "2022-08-03T02:55:32.080863Z",
     "shell.execute_reply": "2022-08-03T02:55:32.080395Z"
    },
    "papermill": {
     "duration": 2.012332,
     "end_time": "2022-08-03T02:55:32.082364",
     "exception": false,
     "start_time": "2022-08-03T02:55:30.070032",
     "status": "completed"
    },
    "tags": []
   },
   "outputs": [
    {
     "data": {
      "text/plain": [
       "count    37401.000000\n",
       "mean         0.011213\n",
       "std          0.047617\n",
       "min          0.000002\n",
       "25%          0.003343\n",
       "50%          0.005274\n",
       "75%          0.007577\n",
       "max          0.982133\n",
       "dtype: float64"
      ]
     },
     "execution_count": 36,
     "metadata": {},
     "output_type": "execute_result"
    }
   ],
   "source": [
    "gene_corrs_flat.describe()"
   ]
  },
  {
   "cell_type": "code",
   "execution_count": 37,
   "id": "b3815678-0f93-4b35-897b-a9d047a2aa78",
   "metadata": {
    "execution": {
     "iopub.execute_input": "2022-08-03T02:55:35.801720Z",
     "iopub.status.busy": "2022-08-03T02:55:35.801470Z",
     "iopub.status.idle": "2022-08-03T02:55:35.842728Z",
     "shell.execute_reply": "2022-08-03T02:55:35.842312Z"
    },
    "papermill": {
     "duration": 1.891198,
     "end_time": "2022-08-03T02:55:35.844012",
     "exception": false,
     "start_time": "2022-08-03T02:55:33.952814",
     "status": "completed"
    },
    "tags": []
   },
   "outputs": [
    {
     "data": {
      "text/plain": [
       "0.00    0.000002\n",
       "0.05    0.001211\n",
       "0.10    0.001916\n",
       "0.15    0.002453\n",
       "0.20    0.002924\n",
       "0.25    0.003343\n",
       "0.30    0.003742\n",
       "0.35    0.004136\n",
       "0.40    0.004513\n",
       "0.45    0.004892\n",
       "0.50    0.005274\n",
       "0.55    0.005665\n",
       "0.60    0.006084\n",
       "0.65    0.006557\n",
       "0.70    0.007041\n",
       "0.75    0.007577\n",
       "0.80    0.008257\n",
       "0.85    0.009104\n",
       "0.90    0.010324\n",
       "0.95    0.013072\n",
       "dtype: float64"
      ]
     },
     "metadata": {},
     "output_type": "display_data"
    }
   ],
   "source": [
    "gene_corrs_quantiles = gene_corrs_flat.quantile(np.arange(0, 1, 0.05))\n",
    "display(gene_corrs_quantiles)"
   ]
  },
  {
   "cell_type": "markdown",
   "id": "87134509-b145-4a10-8bc9-b7e914c2b0fa",
   "metadata": {
    "papermill": {
     "duration": 1.792524,
     "end_time": "2022-08-03T02:55:39.526628",
     "exception": false,
     "start_time": "2022-08-03T02:55:37.734104",
     "status": "completed"
    },
    "tags": []
   },
   "source": [
    "## Positive definiteness"
   ]
  },
  {
   "cell_type": "code",
   "execution_count": 38,
   "id": "07d9a9a1-a4f7-48aa-b916-6d42a8cc6186",
   "metadata": {
    "execution": {
     "iopub.execute_input": "2022-08-03T02:55:43.234593Z",
     "iopub.status.busy": "2022-08-03T02:55:43.234341Z",
     "iopub.status.idle": "2022-08-03T02:55:43.282138Z",
     "shell.execute_reply": "2022-08-03T02:55:43.281689Z"
    },
    "papermill": {
     "duration": 1.904893,
     "end_time": "2022-08-03T02:55:43.283516",
     "exception": false,
     "start_time": "2022-08-03T02:55:41.378623",
     "status": "completed"
    },
    "tags": []
   },
   "outputs": [
    {
     "data": {
      "text/plain": [
       "0"
      ]
     },
     "metadata": {},
     "output_type": "display_data"
    },
    {
     "data": {
      "text/plain": [
       "array([], dtype=float64)"
      ]
     },
     "metadata": {},
     "output_type": "display_data"
    }
   ],
   "source": [
    "# print negative eigenvalues\n",
    "eigs = np.linalg.eigvals(gene_corrs_df.to_numpy())\n",
    "display(len(eigs[eigs < 0]))\n",
    "display(eigs[eigs < 0])"
   ]
  },
  {
   "cell_type": "code",
   "execution_count": 39,
   "id": "6e218436-c3c5-4028-8c94-a4fa6260efce",
   "metadata": {
    "execution": {
     "iopub.execute_input": "2022-08-03T02:55:46.988680Z",
     "iopub.status.busy": "2022-08-03T02:55:46.988435Z",
     "iopub.status.idle": "2022-08-03T02:55:47.049308Z",
     "shell.execute_reply": "2022-08-03T02:55:47.048873Z"
    },
    "papermill": {
     "duration": 1.920545,
     "end_time": "2022-08-03T02:55:47.050597",
     "exception": false,
     "start_time": "2022-08-03T02:55:45.130052",
     "status": "completed"
    },
    "tags": []
   },
   "outputs": [
    {
     "name": "stdout",
     "output_type": "stream",
     "text": [
      "Works!\n"
     ]
    }
   ],
   "source": [
    "try:\n",
    "    chol_mat = np.linalg.cholesky(gene_corrs_df.to_numpy())\n",
    "    cov_inv = np.linalg.inv(chol_mat)\n",
    "    print(\"Works!\")\n",
    "except:\n",
    "    print(\"Cholesky decomposition failed\")"
   ]
  },
  {
   "cell_type": "markdown",
   "id": "8e60a080-edb2-4e9c-b2ef-22961693200c",
   "metadata": {
    "papermill": {
     "duration": 1.903903,
     "end_time": "2022-08-03T02:55:50.824980",
     "exception": false,
     "start_time": "2022-08-03T02:55:48.921077",
     "status": "completed"
    },
    "tags": []
   },
   "source": [
    "## Plot: distribution"
   ]
  },
  {
   "cell_type": "code",
   "execution_count": 40,
   "id": "8301126b-a7d4-4744-9c7d-f0f86eb6f54c",
   "metadata": {
    "execution": {
     "iopub.execute_input": "2022-08-03T02:55:54.495408Z",
     "iopub.status.busy": "2022-08-03T02:55:54.495138Z",
     "iopub.status.idle": "2022-08-03T02:56:00.836285Z",
     "shell.execute_reply": "2022-08-03T02:56:00.835791Z"
    },
    "papermill": {
     "duration": 8.163115,
     "end_time": "2022-08-03T02:56:00.837711",
     "exception": false,
     "start_time": "2022-08-03T02:55:52.674596",
     "status": "completed"
    },
    "tags": []
   },
   "outputs": [
    {
     "data": {
      "image/png": "[encoded data removed]",
      "text/plain": [
       "<Figure size 504x504 with 1 Axes>"
      ]
     },
     "metadata": {
      "needs_background": "light"
     },
     "output_type": "display_data"
    }
   ],
   "source": [
    "with sns.plotting_context(\"paper\", font_scale=1.5):\n",
    "    g = sns.displot(gene_corrs_flat, kde=True, height=7)\n",
    "    g.ax.set_title(\n",
    "        f\"Distribution of gene correlation values in chromosome {CHROMOSOME}\"\n",
    "    )"
   ]
  },
  {
   "cell_type": "markdown",
   "id": "cbd52bca-d878-4a2f-b684-5c83aa3038d4",
   "metadata": {
    "papermill": {
     "duration": 1.858272,
     "end_time": "2022-08-03T02:56:04.492596",
     "exception": false,
     "start_time": "2022-08-03T02:56:02.634324",
     "status": "completed"
    },
    "tags": []
   },
   "source": [
    "## Plot: heatmap"
   ]
  },
  {
   "cell_type": "code",
   "execution_count": 41,
   "id": "d03fe63a-c7b2-4fb9-a53c-db362ce843c9",
   "metadata": {
    "execution": {
     "iopub.execute_input": "2022-08-03T02:56:08.214083Z",
     "iopub.status.busy": "2022-08-03T02:56:08.213832Z",
     "iopub.status.idle": "2022-08-03T02:56:08.255725Z",
     "shell.execute_reply": "2022-08-03T02:56:08.255318Z"
    },
    "papermill": {
     "duration": 1.902824,
     "end_time": "2022-08-03T02:56:08.257018",
     "exception": false,
     "start_time": "2022-08-03T02:56:06.354194",
     "status": "completed"
    },
    "tags": []
   },
   "outputs": [
    {
     "data": {
      "text/plain": [
       "'0.0 / 0.05'"
      ]
     },
     "metadata": {},
     "output_type": "display_data"
    }
   ],
   "source": [
    "vmin_val = min(0.00, gene_corrs_quantiles[0.10])\n",
    "vmax_val = max(0.05, gene_corrs_quantiles[0.90])\n",
    "display(f\"{vmin_val} / {vmax_val}\")"
   ]
  },
  {
   "cell_type": "code",
   "execution_count": 42,
   "id": "dc41b70b-5bcc-4d9e-9f33-a22c4a94dab5",
   "metadata": {
    "execution": {
     "iopub.execute_input": "2022-08-03T02:56:11.953728Z",
     "iopub.status.busy": "2022-08-03T02:56:11.953480Z",
     "iopub.status.idle": "2022-08-03T02:56:12.182999Z",
     "shell.execute_reply": "2022-08-03T02:56:12.182543Z"
    },
    "papermill": {
     "duration": 2.077919,
     "end_time": "2022-08-03T02:56:12.184571",
     "exception": false,
     "start_time": "2022-08-03T02:56:10.106652",
     "status": "completed"
    },
    "tags": []
   },
   "outputs": [
    {
     "data": {
      "text/plain": [
       "Text(0.5, 1.0, 'Gene correlations in chromosome 16')"
      ]
     },
     "execution_count": 42,
     "metadata": {},
     "output_type": "execute_result"
    },
    {
     "data": {
      "image/png": "[encoded data removed]",
      "text/plain": [
       "<Figure size 720x720 with 2 Axes>"
      ]
     },
     "metadata": {
      "needs_background": "light"
     },
     "output_type": "display_data"
    }
   ],
   "source": [
    "f, ax = plt.subplots(figsize=(10, 10))\n",
    "sns.heatmap(\n",
    "    gene_corrs_df,\n",
    "    xticklabels=False,\n",
    "    yticklabels=False,\n",
    "    square=True,\n",
    "    vmin=vmin_val,\n",
    "    vmax=vmax_val,\n",
    "    cmap=\"rocket_r\",\n",
    "    ax=ax,\n",
    ")\n",
    "ax.set_title(f\"Gene correlations in chromosome {CHROMOSOME}\")"
   ]
  },
  {
   "cell_type": "code",
   "execution_count": null,
   "id": "b25e3ead",
   "metadata": {
    "papermill": {
     "duration": 1.859693,
     "end_time": "2022-08-03T02:56:15.902571",
     "exception": false,
     "start_time": "2022-08-03T02:56:14.042878",
     "status": "completed"
    },
    "tags": []
   },
   "outputs": [],
   "source": []
  }
 ],
 "metadata": {
  "jupytext": {
   "cell_metadata_filter": "all,-execution,-papermill,-trusted",
   "formats": "ipynb,py//py:percent"
  },
  "kernelspec": {
   "display_name": "Python 3 (ipykernel)",
   "language": "python",
   "name": "python3"
  },
  "language_info": {
   "codemirror_mode": {
    "name": "ipython",
    "version": 3
   },
   "file_extension": ".py",
   "mimetype": "text/x-python",
   "name": "python",
   "nbconvert_exporter": "python",
   "pygments_lexer": "ipython3",
   "version": "3.8.13"
  },
  "papermill": {
   "default_parameters": {},
   "duration": 2391.699969,
   "end_time": "2022-08-03T02:56:21.395566",
   "environment_variables": {},
   "exception": null,
   "input_path": "nbs/15_gsa_gls/10-gene_expr_correlations.ipynb",
   "output_path": "nbs/15_gsa_gls/gene_corrs/cohorts/1000g_eur/gtex_v8/mashr/10-gene_expr_correlations-chr16.run.ipynb",
   "parameters": {
    "CHROMOSOME": 16,
    "COHORT_NAME": "1000G_EUR",
    "EQTL_MODEL": "MASHR",
    "REFERENCE_PANEL": "GTEX_V8"
   },
   "start_time": "2022-08-03T02:16:29.695597",
   "version": "2.2.2"
  }
 },
 "nbformat": 4,
 "nbformat_minor": 5
}
