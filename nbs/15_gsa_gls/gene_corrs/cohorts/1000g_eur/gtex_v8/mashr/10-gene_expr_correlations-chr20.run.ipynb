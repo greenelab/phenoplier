{
 "cells": [
  {
   "cell_type": "markdown",
   "id": "7a6632fb",
   "metadata": {
    "papermill": {
     "duration": 0.019546,
     "end_time": "2022-08-03T02:17:08.882379",
     "exception": false,
     "start_time": "2022-08-03T02:17:08.862833",
     "status": "completed"
    },
    "tags": []
   },
   "source": [
    "# Description"
   ]
  },
  {
   "cell_type": "markdown",
   "id": "7097c346",
   "metadata": {
    "papermill": {
     "duration": 0.065338,
     "end_time": "2022-08-03T02:17:08.982356",
     "exception": false,
     "start_time": "2022-08-03T02:17:08.917018",
     "status": "completed"
    },
    "tags": []
   },
   "source": [
    "(Please, take a look at the README.md file in this directory for instructions on how to run this notebook)\n",
    "\n",
    "This notebook computes predicted expression correlations between all genes in the MultiPLIER models.\n",
    "\n",
    "It also has a parameter set for papermill to run on a single chromosome to run in parallel (see under `Settings` below).\n",
    "\n",
    "This notebook is not directly run. See README.md."
   ]
  },
  {
   "cell_type": "markdown",
   "id": "c61d8427",
   "metadata": {
    "papermill": {
     "duration": 0.040066,
     "end_time": "2022-08-03T02:17:09.037567",
     "exception": false,
     "start_time": "2022-08-03T02:17:08.997501",
     "status": "completed"
    },
    "tags": []
   },
   "source": [
    "# Modules"
   ]
  },
  {
   "cell_type": "code",
   "execution_count": 1,
   "id": "bbc0234f",
   "metadata": {
    "execution": {
     "iopub.execute_input": "2022-08-03T02:17:09.070981Z",
     "iopub.status.busy": "2022-08-03T02:17:09.070658Z",
     "iopub.status.idle": "2022-08-03T02:17:09.119212Z",
     "shell.execute_reply": "2022-08-03T02:17:09.118588Z"
    },
    "papermill": {
     "duration": 0.068426,
     "end_time": "2022-08-03T02:17:09.121090",
     "exception": false,
     "start_time": "2022-08-03T02:17:09.052664",
     "status": "completed"
    },
    "tags": []
   },
   "outputs": [],
   "source": [
    "%load_ext autoreload\n",
    "%autoreload 2"
   ]
  },
  {
   "cell_type": "code",
   "execution_count": 2,
   "id": "1d5f5a59",
   "metadata": {
    "execution": {
     "iopub.execute_input": "2022-08-03T02:17:09.174374Z",
     "iopub.status.busy": "2022-08-03T02:17:09.174192Z",
     "iopub.status.idle": "2022-08-03T02:17:18.440175Z",
     "shell.execute_reply": "2022-08-03T02:17:18.439330Z"
    },
    "papermill": {
     "duration": 9.305414,
     "end_time": "2022-08-03T02:17:18.442301",
     "exception": false,
     "start_time": "2022-08-03T02:17:09.136887",
     "status": "completed"
    },
    "tags": []
   },
   "outputs": [],
   "source": [
    "from random import sample, seed\n",
    "import warnings\n",
    "from pathlib import Path\n",
    "import pickle\n",
    "import traceback\n",
    "\n",
    "import numpy as np\n",
    "from scipy.spatial.distance import squareform\n",
    "import pandas as pd\n",
    "from tqdm import tqdm\n",
    "import matplotlib.pyplot as plt\n",
    "import seaborn as sns\n",
    "\n",
    "import conf\n",
    "from entity import Gene"
   ]
  },
  {
   "cell_type": "markdown",
   "id": "1eac24b5",
   "metadata": {
    "papermill": {
     "duration": 0.016059,
     "end_time": "2022-08-03T02:17:18.495686",
     "exception": false,
     "start_time": "2022-08-03T02:17:18.479627",
     "status": "completed"
    },
    "tags": []
   },
   "source": [
    "# Settings"
   ]
  },
  {
   "cell_type": "code",
   "execution_count": 3,
   "id": "ca4560ba",
   "metadata": {
    "execution": {
     "iopub.execute_input": "2022-08-03T02:17:18.551137Z",
     "iopub.status.busy": "2022-08-03T02:17:18.550929Z",
     "iopub.status.idle": "2022-08-03T02:17:18.570200Z",
     "shell.execute_reply": "2022-08-03T02:17:18.569705Z"
    },
    "papermill": {
     "duration": 0.060647,
     "end_time": "2022-08-03T02:17:18.571905",
     "exception": false,
     "start_time": "2022-08-03T02:17:18.511258",
     "status": "completed"
    },
    "tags": [
     "parameters"
    ]
   },
   "outputs": [],
   "source": [
    "# a cohort name (it could be something like UK_BIOBANK, etc)\n",
    "COHORT_NAME = None\n",
    "\n",
    "# reference panel such as 1000G or GTEX_V8\n",
    "REFERENCE_PANEL = None\n",
    "\n",
    "# predictions models such as MASHR or ELASTIC_NET\n",
    "EQTL_MODEL = None\n",
    "\n",
    "# this is the default value used in S-MultiXcan to select the\n",
    "# top principal components of the expression correlation matrix\n",
    "SMULTIXCAN_CONDITION_NUMBER = 30\n",
    "\n",
    "# specifies a single chromosome value\n",
    "CHROMOSOME = None\n",
    "\n",
    "# If True, computes the correlation between closeby genes only;\n",
    "# otherwise, it computes correlations for all genes in a chromosome\n",
    "COMPUTE_CORRELATIONS_WITHIN_DISTANCE = False\n",
    "\n",
    "# if True, then it will continue if a gene pair correlation fails,\n",
    "# printing the warning/error for debugging. If False, any warning/error\n",
    "# will be thrown\n",
    "DEBUG_MODE = False"
   ]
  },
  {
   "cell_type": "code",
   "execution_count": 4,
   "id": "02b19487",
   "metadata": {
    "execution": {
     "iopub.execute_input": "2022-08-03T02:17:18.624429Z",
     "iopub.status.busy": "2022-08-03T02:17:18.624200Z",
     "iopub.status.idle": "2022-08-03T02:17:18.641268Z",
     "shell.execute_reply": "2022-08-03T02:17:18.640642Z"
    },
    "papermill": {
     "duration": 0.052426,
     "end_time": "2022-08-03T02:17:18.643001",
     "exception": false,
     "start_time": "2022-08-03T02:17:18.590575",
     "status": "completed"
    },
    "tags": [
     "injected-parameters"
    ]
   },
   "outputs": [],
   "source": [
    "# Parameters\n",
    "COHORT_NAME = \"1000G_EUR\"\n",
    "REFERENCE_PANEL = \"GTEX_V8\"\n",
    "EQTL_MODEL = \"MASHR\"\n",
    "CHROMOSOME = 20\n"
   ]
  },
  {
   "cell_type": "code",
   "execution_count": 5,
   "id": "3190631f-27fc-480f-b18e-571d580425a5",
   "metadata": {
    "execution": {
     "iopub.execute_input": "2022-08-03T02:17:18.699881Z",
     "iopub.status.busy": "2022-08-03T02:17:18.699668Z",
     "iopub.status.idle": "2022-08-03T02:17:18.720475Z",
     "shell.execute_reply": "2022-08-03T02:17:18.719924Z"
    },
    "papermill": {
     "duration": 0.043101,
     "end_time": "2022-08-03T02:17:18.722057",
     "exception": false,
     "start_time": "2022-08-03T02:17:18.678956",
     "status": "completed"
    },
    "tags": []
   },
   "outputs": [
    {
     "data": {
      "text/plain": [
       "'Cohort name: 1000g_eur'"
      ]
     },
     "metadata": {},
     "output_type": "display_data"
    }
   ],
   "source": [
    "assert COHORT_NAME is not None and len(COHORT_NAME) > 0, \"A cohort name must be given\"\n",
    "\n",
    "COHORT_NAME = COHORT_NAME.lower()\n",
    "display(f\"Cohort name: {COHORT_NAME}\")"
   ]
  },
  {
   "cell_type": "code",
   "execution_count": 6,
   "id": "f53ba19b-0f93-4fa2-a047-63b375939d1a",
   "metadata": {
    "execution": {
     "iopub.execute_input": "2022-08-03T02:17:18.779951Z",
     "iopub.status.busy": "2022-08-03T02:17:18.779720Z",
     "iopub.status.idle": "2022-08-03T02:17:18.798557Z",
     "shell.execute_reply": "2022-08-03T02:17:18.798036Z"
    },
    "papermill": {
     "duration": 0.036799,
     "end_time": "2022-08-03T02:17:18.800104",
     "exception": false,
     "start_time": "2022-08-03T02:17:18.763305",
     "status": "completed"
    },
    "tags": []
   },
   "outputs": [
    {
     "data": {
      "text/plain": [
       "'Reference panel: GTEX_V8'"
      ]
     },
     "metadata": {},
     "output_type": "display_data"
    }
   ],
   "source": [
    "assert (\n",
    "    REFERENCE_PANEL is not None and len(REFERENCE_PANEL) > 0\n",
    "), \"A reference panel must be given\"\n",
    "\n",
    "display(f\"Reference panel: {REFERENCE_PANEL}\")"
   ]
  },
  {
   "cell_type": "code",
   "execution_count": 7,
   "id": "e024d130-c139-429a-9c6e-ccf149e297b0",
   "metadata": {
    "execution": {
     "iopub.execute_input": "2022-08-03T02:17:18.861722Z",
     "iopub.status.busy": "2022-08-03T02:17:18.861494Z",
     "iopub.status.idle": "2022-08-03T02:17:18.880514Z",
     "shell.execute_reply": "2022-08-03T02:17:18.879919Z"
    },
    "papermill": {
     "duration": 0.037636,
     "end_time": "2022-08-03T02:17:18.882072",
     "exception": false,
     "start_time": "2022-08-03T02:17:18.844436",
     "status": "completed"
    },
    "tags": []
   },
   "outputs": [
    {
     "data": {
      "text/plain": [
       "'eQTL model: MASHR) / mashr_'"
      ]
     },
     "metadata": {},
     "output_type": "display_data"
    }
   ],
   "source": [
    "assert (\n",
    "    EQTL_MODEL is not None and len(EQTL_MODEL) > 0\n",
    "), \"A prediction/eQTL model must be given\"\n",
    "\n",
    "EQTL_MODEL_FILES_PREFIX = conf.PHENOMEXCAN[\"PREDICTION_MODELS\"][f\"{EQTL_MODEL}_PREFIX\"]\n",
    "display(f\"eQTL model: {EQTL_MODEL}) / {EQTL_MODEL_FILES_PREFIX}\")"
   ]
  },
  {
   "cell_type": "code",
   "execution_count": 8,
   "id": "552a7f63-a18c-4d3e-bb6a-94f99b431291",
   "metadata": {
    "execution": {
     "iopub.execute_input": "2022-08-03T02:17:18.931575Z",
     "iopub.status.busy": "2022-08-03T02:17:18.931343Z",
     "iopub.status.idle": "2022-08-03T02:17:18.950134Z",
     "shell.execute_reply": "2022-08-03T02:17:18.949613Z"
    },
    "papermill": {
     "duration": 0.036704,
     "end_time": "2022-08-03T02:17:18.951699",
     "exception": false,
     "start_time": "2022-08-03T02:17:18.914995",
     "status": "completed"
    },
    "tags": []
   },
   "outputs": [
    {
     "data": {
      "text/plain": [
       "'S-MultiXcan condition number: 30'"
      ]
     },
     "metadata": {},
     "output_type": "display_data"
    }
   ],
   "source": [
    "assert (\n",
    "    SMULTIXCAN_CONDITION_NUMBER is not None and SMULTIXCAN_CONDITION_NUMBER > 0\n",
    "), \"The S-MultiXcan condition number (positive integer) must be given\"\n",
    "\n",
    "display(f\"S-MultiXcan condition number: {SMULTIXCAN_CONDITION_NUMBER}\")"
   ]
  },
  {
   "cell_type": "code",
   "execution_count": 9,
   "id": "f34a336f-548e-4afe-8955-90eaea4f42c6",
   "metadata": {
    "execution": {
     "iopub.execute_input": "2022-08-03T02:17:18.991760Z",
     "iopub.status.busy": "2022-08-03T02:17:18.991522Z",
     "iopub.status.idle": "2022-08-03T02:17:19.010096Z",
     "shell.execute_reply": "2022-08-03T02:17:19.009574Z"
    },
    "papermill": {
     "duration": 0.036989,
     "end_time": "2022-08-03T02:17:19.011651",
     "exception": false,
     "start_time": "2022-08-03T02:17:18.974662",
     "status": "completed"
    },
    "tags": []
   },
   "outputs": [
    {
     "data": {
      "text/plain": [
       "'Working on chromosome 20'"
      ]
     },
     "metadata": {},
     "output_type": "display_data"
    }
   ],
   "source": [
    "assert CHROMOSOME is not None and (\n",
    "    1 <= CHROMOSOME <= 22\n",
    "), \"You have to select one chromosome (format: number between 1 and 22)\"\n",
    "\n",
    "CHROMOSOME = str(CHROMOSOME)\n",
    "display(f\"Working on chromosome {CHROMOSOME}\")"
   ]
  },
  {
   "cell_type": "code",
   "execution_count": 10,
   "id": "ab8e96e8-06b5-4363-9dcd-dc4d78cc27f7",
   "metadata": {
    "execution": {
     "iopub.execute_input": "2022-08-03T02:17:19.057837Z",
     "iopub.status.busy": "2022-08-03T02:17:19.057611Z",
     "iopub.status.idle": "2022-08-03T02:17:19.076197Z",
     "shell.execute_reply": "2022-08-03T02:17:19.075477Z"
    },
    "papermill": {
     "duration": 0.040056,
     "end_time": "2022-08-03T02:17:19.077860",
     "exception": false,
     "start_time": "2022-08-03T02:17:19.037804",
     "status": "completed"
    },
    "tags": []
   },
   "outputs": [
    {
     "data": {
      "text/plain": [
       "'Compute correlation within distance False'"
      ]
     },
     "metadata": {},
     "output_type": "display_data"
    }
   ],
   "source": [
    "display(f\"Compute correlation within distance {COMPUTE_CORRELATIONS_WITHIN_DISTANCE}\")"
   ]
  },
  {
   "cell_type": "code",
   "execution_count": 11,
   "id": "396392dc-0340-4540-9b02-e182b833f909",
   "metadata": {
    "execution": {
     "iopub.execute_input": "2022-08-03T02:17:19.121627Z",
     "iopub.status.busy": "2022-08-03T02:17:19.121418Z",
     "iopub.status.idle": "2022-08-03T02:17:19.165499Z",
     "shell.execute_reply": "2022-08-03T02:17:19.165022Z"
    },
    "papermill": {
     "duration": 0.064967,
     "end_time": "2022-08-03T02:17:19.167110",
     "exception": false,
     "start_time": "2022-08-03T02:17:19.102143",
     "status": "completed"
    },
    "tags": []
   },
   "outputs": [
    {
     "data": {
      "text/plain": [
       "'Using output dir base: /project/ritchie20/projects/phenoplier/base/results/gls/gene_corrs/cohorts/1000g_eur/gtex_v8/mashr'"
      ]
     },
     "metadata": {},
     "output_type": "display_data"
    }
   ],
   "source": [
    "OUTPUT_DIR_BASE = (\n",
    "    conf.RESULTS[\"GLS\"]\n",
    "    / \"gene_corrs\"\n",
    "    / \"cohorts\"\n",
    "    / COHORT_NAME\n",
    "    / REFERENCE_PANEL.lower()\n",
    "    / EQTL_MODEL.lower()\n",
    ")\n",
    "OUTPUT_DIR_BASE.mkdir(parents=True, exist_ok=True)\n",
    "\n",
    "display(f\"Using output dir base: {OUTPUT_DIR_BASE}\")"
   ]
  },
  {
   "cell_type": "markdown",
   "id": "d2ba085e",
   "metadata": {
    "papermill": {
     "duration": 0.016392,
     "end_time": "2022-08-03T02:17:19.201782",
     "exception": false,
     "start_time": "2022-08-03T02:17:19.185390",
     "status": "completed"
    },
    "tags": []
   },
   "source": [
    "# Load data"
   ]
  },
  {
   "cell_type": "markdown",
   "id": "7dcb8db7",
   "metadata": {
    "papermill": {
     "duration": 0.018531,
     "end_time": "2022-08-03T02:17:19.251825",
     "exception": false,
     "start_time": "2022-08-03T02:17:19.233294",
     "status": "completed"
    },
    "tags": []
   },
   "source": [
    "## GWAS variants"
   ]
  },
  {
   "cell_type": "code",
   "execution_count": 12,
   "id": "29434c4e-8cd3-4b9b-82e4-b5a251d9dd19",
   "metadata": {
    "execution": {
     "iopub.execute_input": "2022-08-03T02:17:19.295960Z",
     "iopub.status.busy": "2022-08-03T02:17:19.295750Z",
     "iopub.status.idle": "2022-08-03T02:17:21.722752Z",
     "shell.execute_reply": "2022-08-03T02:17:21.722121Z"
    },
    "papermill": {
     "duration": 2.457409,
     "end_time": "2022-08-03T02:17:21.724920",
     "exception": false,
     "start_time": "2022-08-03T02:17:19.267511",
     "status": "completed"
    },
    "tags": []
   },
   "outputs": [],
   "source": [
    "with open(OUTPUT_DIR_BASE / \"gwas_variant_ids.pkl\", \"rb\") as handle:\n",
    "    gwas_variants_ids_set = pickle.load(handle)"
   ]
  },
  {
   "cell_type": "code",
   "execution_count": 13,
   "id": "b9d9dec2-4a76-4bf9-bde2-e24c95acb8a0",
   "metadata": {
    "execution": {
     "iopub.execute_input": "2022-08-03T02:17:21.775846Z",
     "iopub.status.busy": "2022-08-03T02:17:21.775632Z",
     "iopub.status.idle": "2022-08-03T02:17:21.835824Z",
     "shell.execute_reply": "2022-08-03T02:17:21.835246Z"
    },
    "papermill": {
     "duration": 0.081369,
     "end_time": "2022-08-03T02:17:21.837354",
     "exception": false,
     "start_time": "2022-08-03T02:17:21.755985",
     "status": "completed"
    },
    "tags": []
   },
   "outputs": [
    {
     "data": {
      "text/plain": [
       "8325729"
      ]
     },
     "execution_count": 13,
     "metadata": {},
     "output_type": "execute_result"
    }
   ],
   "source": [
    "len(gwas_variants_ids_set)"
   ]
  },
  {
   "cell_type": "code",
   "execution_count": 14,
   "id": "4235b06a-6034-4ee4-a0a3-2ae35d122418",
   "metadata": {
    "execution": {
     "iopub.execute_input": "2022-08-03T02:17:21.891583Z",
     "iopub.status.busy": "2022-08-03T02:17:21.891347Z",
     "iopub.status.idle": "2022-08-03T02:17:22.568280Z",
     "shell.execute_reply": "2022-08-03T02:17:22.567551Z"
    },
    "papermill": {
     "duration": 0.714625,
     "end_time": "2022-08-03T02:17:22.570185",
     "exception": false,
     "start_time": "2022-08-03T02:17:21.855560",
     "status": "completed"
    },
    "tags": []
   },
   "outputs": [
    {
     "data": {
      "text/plain": [
       "['chr10_613982_G_A_b38',\n",
       " 'chr1_102344643_A_G_b38',\n",
       " 'chr1_114918893_T_C_b38',\n",
       " 'chr13_63503356_T_C_b38',\n",
       " 'chr2_108399590_T_C_b38']"
      ]
     },
     "execution_count": 14,
     "metadata": {},
     "output_type": "execute_result"
    }
   ],
   "source": [
    "list(gwas_variants_ids_set)[:5]"
   ]
  },
  {
   "cell_type": "markdown",
   "id": "07866999-2305-41f9-a144-e69c9122c212",
   "metadata": {
    "papermill": {
     "duration": 0.016807,
     "end_time": "2022-08-03T02:17:22.613094",
     "exception": false,
     "start_time": "2022-08-03T02:17:22.596287",
     "status": "completed"
    },
    "tags": []
   },
   "source": [
    "## S-PrediXcan tissue models"
   ]
  },
  {
   "cell_type": "code",
   "execution_count": 15,
   "id": "780611d9-77c8-405f-90a4-f271f7b09397",
   "metadata": {
    "execution": {
     "iopub.execute_input": "2022-08-03T02:17:22.674327Z",
     "iopub.status.busy": "2022-08-03T02:17:22.674075Z",
     "iopub.status.idle": "2022-08-03T02:17:24.002859Z",
     "shell.execute_reply": "2022-08-03T02:17:24.002270Z"
    },
    "papermill": {
     "duration": 1.348754,
     "end_time": "2022-08-03T02:17:24.004949",
     "exception": false,
     "start_time": "2022-08-03T02:17:22.656195",
     "status": "completed"
    },
    "tags": []
   },
   "outputs": [],
   "source": [
    "spredixcan_genes_models = pd.read_pickle(OUTPUT_DIR_BASE / \"gene_tissues.pkl\")"
   ]
  },
  {
   "cell_type": "code",
   "execution_count": 16,
   "id": "726dd1f6-9557-4225-91fa-b3b879ea96e1",
   "metadata": {
    "execution": {
     "iopub.execute_input": "2022-08-03T02:17:24.050079Z",
     "iopub.status.busy": "2022-08-03T02:17:24.049796Z",
     "iopub.status.idle": "2022-08-03T02:17:24.456303Z",
     "shell.execute_reply": "2022-08-03T02:17:24.455777Z"
    },
    "papermill": {
     "duration": 0.435929,
     "end_time": "2022-08-03T02:17:24.459446",
     "exception": false,
     "start_time": "2022-08-03T02:17:24.023517",
     "status": "completed"
    },
    "tags": []
   },
   "outputs": [
    {
     "data": {
      "text/plain": [
       "(6444, 10)"
      ]
     },
     "execution_count": 16,
     "metadata": {},
     "output_type": "execute_result"
    }
   ],
   "source": [
    "spredixcan_genes_models.shape"
   ]
  },
  {
   "cell_type": "code",
   "execution_count": 17,
   "id": "944a1b48-222c-4eb0-b252-b9de2cbca215",
   "metadata": {
    "execution": {
     "iopub.execute_input": "2022-08-03T02:17:24.519679Z",
     "iopub.status.busy": "2022-08-03T02:17:24.519455Z",
     "iopub.status.idle": "2022-08-03T02:17:24.641448Z",
     "shell.execute_reply": "2022-08-03T02:17:24.640707Z"
    },
    "papermill": {
     "duration": 0.168893,
     "end_time": "2022-08-03T02:17:24.643063",
     "exception": false,
     "start_time": "2022-08-03T02:17:24.474170",
     "status": "completed"
    },
    "tags": []
   },
   "outputs": [
    {
     "data": {
      "text/html": [
       "<div>\n",
       "<style scoped>\n",
       "    .dataframe tbody tr th:only-of-type {\n",
       "        vertical-align: middle;\n",
       "    }\n",
       "\n",
       "    .dataframe tbody tr th {\n",
       "        vertical-align: top;\n",
       "    }\n",
       "\n",
       "    .dataframe thead th {\n",
       "        text-align: right;\n",
       "    }\n",
       "</style>\n",
       "<table border=\"1\" class=\"dataframe\">\n",
       "  <thead>\n",
       "    <tr style=\"text-align: right;\">\n",
       "      <th></th>\n",
       "      <th>gene_name</th>\n",
       "      <th>tissue</th>\n",
       "      <th>n_tissues</th>\n",
       "      <th>tissues_pc_variances</th>\n",
       "      <th>tissues_pc_variances_cov</th>\n",
       "      <th>tissues_variances</th>\n",
       "      <th>n_snps_used_sum</th>\n",
       "      <th>n_snps_in_model_sum</th>\n",
       "      <th>unique_n_snps_in_model</th>\n",
       "      <th>unique_n_snps_used</th>\n",
       "    </tr>\n",
       "    <tr>\n",
       "      <th>gene_id</th>\n",
       "      <th></th>\n",
       "      <th></th>\n",
       "      <th></th>\n",
       "      <th></th>\n",
       "      <th></th>\n",
       "      <th></th>\n",
       "      <th></th>\n",
       "      <th></th>\n",
       "      <th></th>\n",
       "      <th></th>\n",
       "    </tr>\n",
       "  </thead>\n",
       "  <tbody>\n",
       "    <tr>\n",
       "      <th>ENSG00000000419</th>\n",
       "      <td>DPM1</td>\n",
       "      <td>(Brain_Hypothalamus, Brain_Substantia_nigra)</td>\n",
       "      <td>2</td>\n",
       "      <td>[1.0442398458252409, 0.9557601541747592]</td>\n",
       "      <td>[0.013163142634155849, 0.00048574890347684763]</td>\n",
       "      <td>{'Brain_Hypothalamus': 0.013162153504206677, '...</td>\n",
       "      <td>2</td>\n",
       "      <td>2</td>\n",
       "      <td>2</td>\n",
       "      <td>2</td>\n",
       "    </tr>\n",
       "    <tr>\n",
       "      <th>ENSG00000000938</th>\n",
       "      <td>FGR</td>\n",
       "      <td>(Breast_Mammary_Tissue, Brain_Caudate_basal_ga...</td>\n",
       "      <td>36</td>\n",
       "      <td>[31.63266933637129, 2.078367751851144, 1.27161...</td>\n",
       "      <td>[0.1715948657078027]</td>\n",
       "      <td>{'Esophagus_Muscularis': 0.006536602044478473,...</td>\n",
       "      <td>40</td>\n",
       "      <td>40</td>\n",
       "      <td>5</td>\n",
       "      <td>5</td>\n",
       "    </tr>\n",
       "    <tr>\n",
       "      <th>ENSG00000000971</th>\n",
       "      <td>CFH</td>\n",
       "      <td>(Breast_Mammary_Tissue, Brain_Caudate_basal_ga...</td>\n",
       "      <td>34</td>\n",
       "      <td>[21.56076992568329, 7.310170987045463, 1.83778...</td>\n",
       "      <td>[0.2093060319587451, 0.058234347656008024, 0.0...</td>\n",
       "      <td>{'Esophagus_Muscularis': 0.01739410990047228, ...</td>\n",
       "      <td>44</td>\n",
       "      <td>44</td>\n",
       "      <td>12</td>\n",
       "      <td>12</td>\n",
       "    </tr>\n",
       "    <tr>\n",
       "      <th>ENSG00000001084</th>\n",
       "      <td>GCLC</td>\n",
       "      <td>(Lung, Spleen, Cells_Cultured_fibroblasts, Adr...</td>\n",
       "      <td>32</td>\n",
       "      <td>[21.291939080546538, 4.699418748743195, 2.2489...</td>\n",
       "      <td>[0.39430527375123775, 0.11627488888534836, 0.0...</td>\n",
       "      <td>{'Thyroid': 0.009654918580686024, 'Brain_Corte...</td>\n",
       "      <td>46</td>\n",
       "      <td>46</td>\n",
       "      <td>23</td>\n",
       "      <td>23</td>\n",
       "    </tr>\n",
       "    <tr>\n",
       "      <th>ENSG00000001167</th>\n",
       "      <td>NFYA</td>\n",
       "      <td>(Breast_Mammary_Tissue, Brain_Caudate_basal_ga...</td>\n",
       "      <td>40</td>\n",
       "      <td>[37.3356602954977, 1.3914019604538357]</td>\n",
       "      <td>[1.1642639979821048, 0.05742881287671712]</td>\n",
       "      <td>{'Esophagus_Muscularis': 0.0318781600881541, '...</td>\n",
       "      <td>47</td>\n",
       "      <td>48</td>\n",
       "      <td>14</td>\n",
       "      <td>13</td>\n",
       "    </tr>\n",
       "  </tbody>\n",
       "</table>\n",
       "</div>"
      ],
      "text/plain": [
       "                gene_name                                             tissue  \\\n",
       "gene_id                                                                        \n",
       "ENSG00000000419      DPM1       (Brain_Hypothalamus, Brain_Substantia_nigra)   \n",
       "ENSG00000000938       FGR  (Breast_Mammary_Tissue, Brain_Caudate_basal_ga...   \n",
       "ENSG00000000971       CFH  (Breast_Mammary_Tissue, Brain_Caudate_basal_ga...   \n",
       "ENSG00000001084      GCLC  (Lung, Spleen, Cells_Cultured_fibroblasts, Adr...   \n",
       "ENSG00000001167      NFYA  (Breast_Mammary_Tissue, Brain_Caudate_basal_ga...   \n",
       "\n",
       "                 n_tissues                               tissues_pc_variances  \\\n",
       "gene_id                                                                         \n",
       "ENSG00000000419          2           [1.0442398458252409, 0.9557601541747592]   \n",
       "ENSG00000000938         36  [31.63266933637129, 2.078367751851144, 1.27161...   \n",
       "ENSG00000000971         34  [21.56076992568329, 7.310170987045463, 1.83778...   \n",
       "ENSG00000001084         32  [21.291939080546538, 4.699418748743195, 2.2489...   \n",
       "ENSG00000001167         40             [37.3356602954977, 1.3914019604538357]   \n",
       "\n",
       "                                          tissues_pc_variances_cov  \\\n",
       "gene_id                                                              \n",
       "ENSG00000000419     [0.013163142634155849, 0.00048574890347684763]   \n",
       "ENSG00000000938                               [0.1715948657078027]   \n",
       "ENSG00000000971  [0.2093060319587451, 0.058234347656008024, 0.0...   \n",
       "ENSG00000001084  [0.39430527375123775, 0.11627488888534836, 0.0...   \n",
       "ENSG00000001167          [1.1642639979821048, 0.05742881287671712]   \n",
       "\n",
       "                                                 tissues_variances  \\\n",
       "gene_id                                                              \n",
       "ENSG00000000419  {'Brain_Hypothalamus': 0.013162153504206677, '...   \n",
       "ENSG00000000938  {'Esophagus_Muscularis': 0.006536602044478473,...   \n",
       "ENSG00000000971  {'Esophagus_Muscularis': 0.01739410990047228, ...   \n",
       "ENSG00000001084  {'Thyroid': 0.009654918580686024, 'Brain_Corte...   \n",
       "ENSG00000001167  {'Esophagus_Muscularis': 0.0318781600881541, '...   \n",
       "\n",
       "                 n_snps_used_sum  n_snps_in_model_sum  unique_n_snps_in_model  \\\n",
       "gene_id                                                                         \n",
       "ENSG00000000419                2                    2                       2   \n",
       "ENSG00000000938               40                   40                       5   \n",
       "ENSG00000000971               44                   44                      12   \n",
       "ENSG00000001084               46                   46                      23   \n",
       "ENSG00000001167               47                   48                      14   \n",
       "\n",
       "                 unique_n_snps_used  \n",
       "gene_id                              \n",
       "ENSG00000000419                   2  \n",
       "ENSG00000000938                   5  \n",
       "ENSG00000000971                  12  \n",
       "ENSG00000001084                  23  \n",
       "ENSG00000001167                  13  "
      ]
     },
     "execution_count": 17,
     "metadata": {},
     "output_type": "execute_result"
    }
   ],
   "source": [
    "spredixcan_genes_models.head()"
   ]
  },
  {
   "cell_type": "code",
   "execution_count": 18,
   "id": "d1c11bb1-be0b-4f40-b360-633d6827109f",
   "metadata": {
    "execution": {
     "iopub.execute_input": "2022-08-03T02:17:24.698424Z",
     "iopub.status.busy": "2022-08-03T02:17:24.698216Z",
     "iopub.status.idle": "2022-08-03T02:17:24.737631Z",
     "shell.execute_reply": "2022-08-03T02:17:24.736800Z"
    },
    "papermill": {
     "duration": 0.076019,
     "end_time": "2022-08-03T02:17:24.739329",
     "exception": false,
     "start_time": "2022-08-03T02:17:24.663310",
     "status": "completed"
    },
    "tags": []
   },
   "outputs": [],
   "source": [
    "assert spredixcan_genes_models.index.is_unique"
   ]
  },
  {
   "cell_type": "markdown",
   "id": "a5b5092c-a13e-47c4-a92a-480fcc08f3ae",
   "metadata": {
    "papermill": {
     "duration": 0.018551,
     "end_time": "2022-08-03T02:17:24.793245",
     "exception": false,
     "start_time": "2022-08-03T02:17:24.774694",
     "status": "completed"
    },
    "tags": []
   },
   "source": [
    "## Gene info"
   ]
  },
  {
   "cell_type": "code",
   "execution_count": 19,
   "id": "7d6bb224-88e9-4358-ac10-43a41d92cdad",
   "metadata": {
    "execution": {
     "iopub.execute_input": "2022-08-03T02:17:24.852267Z",
     "iopub.status.busy": "2022-08-03T02:17:24.852075Z",
     "iopub.status.idle": "2022-08-03T02:17:24.930252Z",
     "shell.execute_reply": "2022-08-03T02:17:24.929696Z"
    },
    "papermill": {
     "duration": 0.099817,
     "end_time": "2022-08-03T02:17:24.932009",
     "exception": false,
     "start_time": "2022-08-03T02:17:24.832192",
     "status": "completed"
    },
    "tags": []
   },
   "outputs": [],
   "source": [
    "genes_info = pd.read_pickle(OUTPUT_DIR_BASE / \"genes_info.pkl\")"
   ]
  },
  {
   "cell_type": "code",
   "execution_count": 20,
   "id": "9e32abfa-546d-483e-8c18-d526e9e05903",
   "metadata": {
    "execution": {
     "iopub.execute_input": "2022-08-03T02:17:24.995581Z",
     "iopub.status.busy": "2022-08-03T02:17:24.995359Z",
     "iopub.status.idle": "2022-08-03T02:17:25.070863Z",
     "shell.execute_reply": "2022-08-03T02:17:25.070324Z"
    },
    "papermill": {
     "duration": 0.099337,
     "end_time": "2022-08-03T02:17:25.072412",
     "exception": false,
     "start_time": "2022-08-03T02:17:24.973075",
     "status": "completed"
    },
    "tags": []
   },
   "outputs": [
    {
     "data": {
      "text/plain": [
       "(6444, 7)"
      ]
     },
     "execution_count": 20,
     "metadata": {},
     "output_type": "execute_result"
    }
   ],
   "source": [
    "genes_info.shape"
   ]
  },
  {
   "cell_type": "code",
   "execution_count": 21,
   "id": "d16c3e92-85ec-468a-9a56-e25a9774a1cb",
   "metadata": {
    "execution": {
     "iopub.execute_input": "2022-08-03T02:17:25.157931Z",
     "iopub.status.busy": "2022-08-03T02:17:25.157721Z",
     "iopub.status.idle": "2022-08-03T02:17:25.246478Z",
     "shell.execute_reply": "2022-08-03T02:17:25.245826Z"
    },
    "papermill": {
     "duration": 0.140398,
     "end_time": "2022-08-03T02:17:25.248077",
     "exception": false,
     "start_time": "2022-08-03T02:17:25.107679",
     "status": "completed"
    },
    "tags": []
   },
   "outputs": [
    {
     "data": {
      "text/html": [
       "<div>\n",
       "<style scoped>\n",
       "    .dataframe tbody tr th:only-of-type {\n",
       "        vertical-align: middle;\n",
       "    }\n",
       "\n",
       "    .dataframe tbody tr th {\n",
       "        vertical-align: top;\n",
       "    }\n",
       "\n",
       "    .dataframe thead th {\n",
       "        text-align: right;\n",
       "    }\n",
       "</style>\n",
       "<table border=\"1\" class=\"dataframe\">\n",
       "  <thead>\n",
       "    <tr style=\"text-align: right;\">\n",
       "      <th></th>\n",
       "      <th>name</th>\n",
       "      <th>id</th>\n",
       "      <th>chr</th>\n",
       "      <th>band</th>\n",
       "      <th>start_position</th>\n",
       "      <th>end_position</th>\n",
       "      <th>gene_length</th>\n",
       "    </tr>\n",
       "  </thead>\n",
       "  <tbody>\n",
       "    <tr>\n",
       "      <th>0</th>\n",
       "      <td>HEYL</td>\n",
       "      <td>ENSG00000163909</td>\n",
       "      <td>1</td>\n",
       "      <td>1p34.2</td>\n",
       "      <td>39623435.0</td>\n",
       "      <td>39639643.0</td>\n",
       "      <td>16208.0</td>\n",
       "    </tr>\n",
       "    <tr>\n",
       "      <th>1</th>\n",
       "      <td>CYP24A1</td>\n",
       "      <td>ENSG00000019186</td>\n",
       "      <td>20</td>\n",
       "      <td>20q13.2</td>\n",
       "      <td>54153446.0</td>\n",
       "      <td>54173986.0</td>\n",
       "      <td>20540.0</td>\n",
       "    </tr>\n",
       "    <tr>\n",
       "      <th>2</th>\n",
       "      <td>ITGB4</td>\n",
       "      <td>ENSG00000132470</td>\n",
       "      <td>17</td>\n",
       "      <td>17q25.1</td>\n",
       "      <td>75721328.0</td>\n",
       "      <td>75757818.0</td>\n",
       "      <td>36490.0</td>\n",
       "    </tr>\n",
       "    <tr>\n",
       "      <th>3</th>\n",
       "      <td>SPINT1</td>\n",
       "      <td>ENSG00000166145</td>\n",
       "      <td>15</td>\n",
       "      <td>15q15.1</td>\n",
       "      <td>40844018.0</td>\n",
       "      <td>40858207.0</td>\n",
       "      <td>14189.0</td>\n",
       "    </tr>\n",
       "    <tr>\n",
       "      <th>4</th>\n",
       "      <td>PCSK6</td>\n",
       "      <td>ENSG00000140479</td>\n",
       "      <td>15</td>\n",
       "      <td>15q26.3</td>\n",
       "      <td>101297142.0</td>\n",
       "      <td>101525202.0</td>\n",
       "      <td>228060.0</td>\n",
       "    </tr>\n",
       "  </tbody>\n",
       "</table>\n",
       "</div>"
      ],
      "text/plain": [
       "      name               id chr     band  start_position  end_position  \\\n",
       "0     HEYL  ENSG00000163909   1   1p34.2      39623435.0    39639643.0   \n",
       "1  CYP24A1  ENSG00000019186  20  20q13.2      54153446.0    54173986.0   \n",
       "2    ITGB4  ENSG00000132470  17  17q25.1      75721328.0    75757818.0   \n",
       "3   SPINT1  ENSG00000166145  15  15q15.1      40844018.0    40858207.0   \n",
       "4    PCSK6  ENSG00000140479  15  15q26.3     101297142.0   101525202.0   \n",
       "\n",
       "   gene_length  \n",
       "0      16208.0  \n",
       "1      20540.0  \n",
       "2      36490.0  \n",
       "3      14189.0  \n",
       "4     228060.0  "
      ]
     },
     "execution_count": 21,
     "metadata": {},
     "output_type": "execute_result"
    }
   ],
   "source": [
    "genes_info.head()"
   ]
  },
  {
   "cell_type": "markdown",
   "id": "d3843e06",
   "metadata": {
    "papermill": {
     "duration": 0.01707,
     "end_time": "2022-08-03T02:17:25.310697",
     "exception": false,
     "start_time": "2022-08-03T02:17:25.293627",
     "status": "completed"
    },
    "tags": []
   },
   "source": [
    "# Compute correlations"
   ]
  },
  {
   "cell_type": "code",
   "execution_count": 22,
   "id": "cb859c15-d1f3-4006-a74c-2b83c0db9611",
   "metadata": {
    "execution": {
     "iopub.execute_input": "2022-08-03T02:17:25.374573Z",
     "iopub.status.busy": "2022-08-03T02:17:25.374352Z",
     "iopub.status.idle": "2022-08-03T02:17:25.454500Z",
     "shell.execute_reply": "2022-08-03T02:17:25.453998Z"
    },
    "papermill": {
     "duration": 0.100785,
     "end_time": "2022-08-03T02:17:25.456087",
     "exception": false,
     "start_time": "2022-08-03T02:17:25.355302",
     "status": "completed"
    },
    "tags": []
   },
   "outputs": [
    {
     "data": {
      "text/plain": [
       "PosixPath('/project/ritchie20/projects/phenoplier/base/results/gls/gene_corrs/cohorts/1000g_eur/gtex_v8/mashr/by_chr/gene_corrs-chr20.pkl')"
      ]
     },
     "metadata": {},
     "output_type": "display_data"
    }
   ],
   "source": [
    "output_dir = OUTPUT_DIR_BASE / \"by_chr\"\n",
    "output_dir.mkdir(exist_ok=True, parents=True)\n",
    "output_file = output_dir / f\"gene_corrs-chr{CHROMOSOME}.pkl\"\n",
    "display(output_file)"
   ]
  },
  {
   "cell_type": "code",
   "execution_count": 23,
   "id": "aa674fe4-6794-4eed-98fa-32b39d1d4ace",
   "metadata": {
    "execution": {
     "iopub.execute_input": "2022-08-03T02:17:25.507026Z",
     "iopub.status.busy": "2022-08-03T02:17:25.506823Z",
     "iopub.status.idle": "2022-08-03T02:17:25.691887Z",
     "shell.execute_reply": "2022-08-03T02:17:25.691343Z"
    },
    "papermill": {
     "duration": 0.207337,
     "end_time": "2022-08-03T02:17:25.693646",
     "exception": false,
     "start_time": "2022-08-03T02:17:25.486309",
     "status": "completed"
    },
    "tags": []
   },
   "outputs": [],
   "source": [
    "warnings.filterwarnings(\"error\")"
   ]
  },
  {
   "cell_type": "code",
   "execution_count": 24,
   "id": "44d5450b-3baf-43f1-9e2e-4b06f1a785f8",
   "metadata": {
    "execution": {
     "iopub.execute_input": "2022-08-03T02:17:25.752502Z",
     "iopub.status.busy": "2022-08-03T02:17:25.752309Z",
     "iopub.status.idle": "2022-08-03T02:17:25.790897Z",
     "shell.execute_reply": "2022-08-03T02:17:25.790364Z"
    },
    "papermill": {
     "duration": 0.076787,
     "end_time": "2022-08-03T02:17:25.792569",
     "exception": false,
     "start_time": "2022-08-03T02:17:25.715782",
     "status": "completed"
    },
    "tags": []
   },
   "outputs": [],
   "source": [
    "# standard checks\n",
    "all_chrs = genes_info[\"chr\"].dropna().unique()\n",
    "assert all_chrs.shape[0] == 22\n",
    "\n",
    "# select chromosome given by the user\n",
    "assert CHROMOSOME in all_chrs"
   ]
  },
  {
   "cell_type": "code",
   "execution_count": 25,
   "id": "2d7c043c-92a7-4d35-991b-fa69ac1e0268",
   "metadata": {
    "execution": {
     "iopub.execute_input": "2022-08-03T02:17:25.850184Z",
     "iopub.status.busy": "2022-08-03T02:17:25.849952Z",
     "iopub.status.idle": "2022-08-03T02:17:25.898335Z",
     "shell.execute_reply": "2022-08-03T02:17:25.897710Z"
    },
    "papermill": {
     "duration": 0.072089,
     "end_time": "2022-08-03T02:17:25.899969",
     "exception": false,
     "start_time": "2022-08-03T02:17:25.827880",
     "status": "completed"
    },
    "tags": []
   },
   "outputs": [
    {
     "name": "stdout",
     "output_type": "stream",
     "text": [
      "Number of genes in chromosome: 187\n"
     ]
    }
   ],
   "source": [
    "# run only on the chromosome specified\n",
    "all_chrs = [CHROMOSOME]\n",
    "genes_chr = genes_info[genes_info[\"chr\"] == CHROMOSOME]\n",
    "\n",
    "# For testing purposes\n",
    "# genes_chr = genes_chr.sample(n=20)\n",
    "\n",
    "print(f\"Number of genes in chromosome: {genes_chr.shape[0]}\", flush=True)"
   ]
  },
  {
   "cell_type": "code",
   "execution_count": 26,
   "id": "916015d8-2979-46d3-a9b9-1cf5a0932c6a",
   "metadata": {
    "execution": {
     "iopub.execute_input": "2022-08-03T02:17:25.962265Z",
     "iopub.status.busy": "2022-08-03T02:17:25.962076Z",
     "iopub.status.idle": "2022-08-03T02:17:25.994281Z",
     "shell.execute_reply": "2022-08-03T02:17:25.993615Z"
    },
    "papermill": {
     "duration": 0.075861,
     "end_time": "2022-08-03T02:17:25.995997",
     "exception": false,
     "start_time": "2022-08-03T02:17:25.920136",
     "status": "completed"
    },
    "tags": []
   },
   "outputs": [],
   "source": [
    "# sort genes by starting position to make visualizations better later\n",
    "genes_chr = genes_chr.sort_values(\"start_position\")"
   ]
  },
  {
   "cell_type": "code",
   "execution_count": 27,
   "id": "a38aa74a-8ad3-47f6-8ef9-56be0e011774",
   "metadata": {
    "execution": {
     "iopub.execute_input": "2022-08-03T02:17:26.056471Z",
     "iopub.status.busy": "2022-08-03T02:17:26.056282Z",
     "iopub.status.idle": "2022-08-03T02:17:26.098414Z",
     "shell.execute_reply": "2022-08-03T02:17:26.097685Z"
    },
    "papermill": {
     "duration": 0.064552,
     "end_time": "2022-08-03T02:17:26.100144",
     "exception": false,
     "start_time": "2022-08-03T02:17:26.035592",
     "status": "completed"
    },
    "tags": []
   },
   "outputs": [],
   "source": [
    "gene_chr_objs = [Gene(ensembl_id=gene_id) for gene_id in genes_chr[\"id\"]]"
   ]
  },
  {
   "cell_type": "code",
   "execution_count": 28,
   "id": "570f974f-13c3-42b6-ad3a-ce99ca885c1a",
   "metadata": {
    "execution": {
     "iopub.execute_input": "2022-08-03T02:17:26.158069Z",
     "iopub.status.busy": "2022-08-03T02:17:26.157880Z",
     "iopub.status.idle": "2022-08-03T02:17:26.209739Z",
     "shell.execute_reply": "2022-08-03T02:17:26.209183Z"
    },
    "papermill": {
     "duration": 0.092653,
     "end_time": "2022-08-03T02:17:26.211404",
     "exception": false,
     "start_time": "2022-08-03T02:17:26.118751",
     "status": "completed"
    },
    "tags": []
   },
   "outputs": [
    {
     "name": "stdout",
     "output_type": "stream",
     "text": [
      "Number of gene combinations: 17391\n"
     ]
    }
   ],
   "source": [
    "n = len(gene_chr_objs)\n",
    "n_comb = int(n * (n - 1) / 2.0)\n",
    "print(f\"Number of gene combinations: {n_comb}\", flush=True)"
   ]
  },
  {
   "cell_type": "code",
   "execution_count": 29,
   "id": "cdbb90a1",
   "metadata": {
    "execution": {
     "iopub.execute_input": "2022-08-03T02:17:26.250283Z",
     "iopub.status.busy": "2022-08-03T02:17:26.250053Z",
     "iopub.status.idle": "2022-08-03T02:40:23.573033Z",
     "shell.execute_reply": "2022-08-03T02:40:23.572308Z"
    },
    "papermill": {
     "duration": 1377.344979,
     "end_time": "2022-08-03T02:40:23.574908",
     "exception": false,
     "start_time": "2022-08-03T02:17:26.229929",
     "status": "completed"
    },
    "tags": []
   },
   "outputs": [
    {
     "name": "stderr",
     "output_type": "stream",
     "text": [
      "ENSG00000171700 / ENSG00000125510: 100%|██████████████████████| 17391/17391 [22:57<00:00, 12.63it/s]\n"
     ]
    },
    {
     "data": {
      "text/plain": [
       "PosixPath('/project/ritchie20/projects/phenoplier/base/results/gls/gene_corrs/cohorts/1000g_eur/gtex_v8/mashr/by_chr/gene_corrs-chr20.pkl')"
      ]
     },
     "metadata": {},
     "output_type": "display_data"
    }
   ],
   "source": [
    "gene_corrs = []\n",
    "\n",
    "i = 0\n",
    "with tqdm(ncols=100, total=n_comb) as pbar:\n",
    "    for gene1_idx in range(0, len(gene_chr_objs) - 1):\n",
    "        gene1_obj = gene_chr_objs[gene1_idx]\n",
    "        gene1_tissues = spredixcan_genes_models.loc[gene1_obj.ensembl_id, \"tissue\"]\n",
    "\n",
    "        for gene2_idx in range(gene1_idx + 1, len(gene_chr_objs)):\n",
    "            gene2_obj = gene_chr_objs[gene2_idx]\n",
    "            gene2_tissues = spredixcan_genes_models.loc[gene2_obj.ensembl_id, \"tissue\"]\n",
    "\n",
    "            pbar.set_description(f\"{gene1_obj.ensembl_id} / {gene2_obj.ensembl_id}\")\n",
    "\n",
    "            try:\n",
    "                r = gene1_obj.get_ssm_correlation(\n",
    "                    other_gene=gene2_obj,\n",
    "                    tissues=gene1_tissues,\n",
    "                    other_tissues=gene2_tissues,\n",
    "                    snps_subset=gwas_variants_ids_set,\n",
    "                    condition_number=SMULTIXCAN_CONDITION_NUMBER,\n",
    "                    reference_panel=REFERENCE_PANEL,\n",
    "                    model_type=EQTL_MODEL,\n",
    "                    use_within_distance=COMPUTE_CORRELATIONS_WITHIN_DISTANCE,\n",
    "                )\n",
    "\n",
    "                if r is None:\n",
    "                    # if r is None, it's very likely because:\n",
    "                    #  * one of the genes has no prediction models\n",
    "                    #  * all the SNPs predictors for the gene are not present in the reference\n",
    "                    #    panel\n",
    "\n",
    "                    r = 0.0\n",
    "\n",
    "                gene_corrs.append(r)\n",
    "            except Warning as e:\n",
    "                if not DEBUG_MODE:\n",
    "                    raise e\n",
    "\n",
    "                print(\n",
    "                    f\"RuntimeWarning for genes {gene1_obj.ensembl_id} and {gene2_obj.ensembl_id}\",\n",
    "                    flush=True,\n",
    "                )\n",
    "                print(traceback.format_exc(), flush=True)\n",
    "\n",
    "                gene_corrs.append(np.nan)\n",
    "            except Exception as e:\n",
    "                if not DEBUG_MODE:\n",
    "                    raise e\n",
    "\n",
    "                print(\n",
    "                    f\"Exception for genes {gene1_obj.ensembl_id} and {gene2_obj.ensembl_id}\",\n",
    "                    flush=True,\n",
    "                )\n",
    "                print(traceback.format_exc(), flush=True)\n",
    "\n",
    "                gene_corrs.append(np.nan)\n",
    "\n",
    "            pbar.update(1)\n",
    "\n",
    "# create a pandas series\n",
    "gene_corrs_flat = pd.Series(gene_corrs)\n",
    "\n",
    "# save\n",
    "# FIXME: consider saving only the condenced matrix here. See here for\n",
    "# more details: https://github.com/greenelab/phenoplier/pull/38#discussion_r634600813\n",
    "gene_corrs_data = squareform(np.array(gene_corrs, dtype=np.float64))\n",
    "np.fill_diagonal(gene_corrs_data, 1.0)\n",
    "\n",
    "gene_chr_ids = [g.ensembl_id for g in gene_chr_objs]\n",
    "gene_corrs_df = pd.DataFrame(\n",
    "    data=gene_corrs_data,\n",
    "    index=gene_chr_ids,\n",
    "    columns=gene_chr_ids,\n",
    ")\n",
    "\n",
    "output_dir.mkdir(exist_ok=True, parents=True)\n",
    "display(output_file)\n",
    "\n",
    "gene_corrs_df.to_pickle(output_file)"
   ]
  },
  {
   "cell_type": "markdown",
   "id": "faa67b51-5373-470f-aa72-2ded53fa6dfe",
   "metadata": {
    "papermill": {
     "duration": 1.01666,
     "end_time": "2022-08-03T02:40:25.619144",
     "exception": false,
     "start_time": "2022-08-03T02:40:24.602484",
     "status": "completed"
    },
    "tags": []
   },
   "source": [
    "# Testing"
   ]
  },
  {
   "cell_type": "code",
   "execution_count": 30,
   "id": "14f7d046-4b55-4896-a56b-990127bcc388",
   "metadata": {
    "execution": {
     "iopub.execute_input": "2022-08-03T02:40:27.645322Z",
     "iopub.status.busy": "2022-08-03T02:40:27.645042Z",
     "iopub.status.idle": "2022-08-03T02:40:27.857678Z",
     "shell.execute_reply": "2022-08-03T02:40:27.857164Z"
    },
    "papermill": {
     "duration": 1.233288,
     "end_time": "2022-08-03T02:40:27.859170",
     "exception": false,
     "start_time": "2022-08-03T02:40:26.625882",
     "status": "completed"
    },
    "tags": []
   },
   "outputs": [
    {
     "data": {
      "text/plain": [
       "(187, 187)"
      ]
     },
     "execution_count": 30,
     "metadata": {},
     "output_type": "execute_result"
    }
   ],
   "source": [
    "gene_corrs_df.shape"
   ]
  },
  {
   "cell_type": "code",
   "execution_count": 31,
   "id": "c7d15414-3297-4537-a7c6-7588c0baeb75",
   "metadata": {
    "execution": {
     "iopub.execute_input": "2022-08-03T02:40:29.887206Z",
     "iopub.status.busy": "2022-08-03T02:40:29.886941Z",
     "iopub.status.idle": "2022-08-03T02:40:29.923166Z",
     "shell.execute_reply": "2022-08-03T02:40:29.922637Z"
    },
    "papermill": {
     "duration": 1.050784,
     "end_time": "2022-08-03T02:40:29.924719",
     "exception": false,
     "start_time": "2022-08-03T02:40:28.873935",
     "status": "completed"
    },
    "tags": []
   },
   "outputs": [
    {
     "data": {
      "text/html": [
       "<div>\n",
       "<style scoped>\n",
       "    .dataframe tbody tr th:only-of-type {\n",
       "        vertical-align: middle;\n",
       "    }\n",
       "\n",
       "    .dataframe tbody tr th {\n",
       "        vertical-align: top;\n",
       "    }\n",
       "\n",
       "    .dataframe thead th {\n",
       "        text-align: right;\n",
       "    }\n",
       "</style>\n",
       "<table border=\"1\" class=\"dataframe\">\n",
       "  <thead>\n",
       "    <tr style=\"text-align: right;\">\n",
       "      <th></th>\n",
       "      <th>ENSG00000101255</th>\n",
       "      <th>ENSG00000125826</th>\n",
       "      <th>ENSG00000101266</th>\n",
       "      <th>ENSG00000101280</th>\n",
       "      <th>ENSG00000125818</th>\n",
       "      <th>ENSG00000101298</th>\n",
       "      <th>ENSG00000088832</th>\n",
       "      <th>ENSG00000101307</th>\n",
       "      <th>ENSG00000089012</th>\n",
       "      <th>ENSG00000198053</th>\n",
       "      <th>...</th>\n",
       "      <th>ENSG00000092758</th>\n",
       "      <th>ENSG00000101191</th>\n",
       "      <th>ENSG00000101199</th>\n",
       "      <th>ENSG00000243509</th>\n",
       "      <th>ENSG00000203896</th>\n",
       "      <th>ENSG00000101152</th>\n",
       "      <th>ENSG00000198276</th>\n",
       "      <th>ENSG00000101161</th>\n",
       "      <th>ENSG00000171700</th>\n",
       "      <th>ENSG00000125510</th>\n",
       "    </tr>\n",
       "  </thead>\n",
       "  <tbody>\n",
       "    <tr>\n",
       "      <th>ENSG00000101255</th>\n",
       "      <td>1.000000</td>\n",
       "      <td>0.060890</td>\n",
       "      <td>0.017767</td>\n",
       "      <td>0.006848</td>\n",
       "      <td>0.001665</td>\n",
       "      <td>0.008264</td>\n",
       "      <td>0.004312</td>\n",
       "      <td>0.001363</td>\n",
       "      <td>0.003985</td>\n",
       "      <td>0.006856</td>\n",
       "      <td>...</td>\n",
       "      <td>0.007001</td>\n",
       "      <td>0.006527</td>\n",
       "      <td>0.003598</td>\n",
       "      <td>0.003637</td>\n",
       "      <td>0.004460</td>\n",
       "      <td>0.004138</td>\n",
       "      <td>0.004843</td>\n",
       "      <td>0.002018</td>\n",
       "      <td>0.006384</td>\n",
       "      <td>0.006945</td>\n",
       "    </tr>\n",
       "    <tr>\n",
       "      <th>ENSG00000125826</th>\n",
       "      <td>0.060890</td>\n",
       "      <td>1.000000</td>\n",
       "      <td>0.059804</td>\n",
       "      <td>0.009671</td>\n",
       "      <td>0.001098</td>\n",
       "      <td>0.008286</td>\n",
       "      <td>0.008844</td>\n",
       "      <td>0.005670</td>\n",
       "      <td>0.004607</td>\n",
       "      <td>0.007537</td>\n",
       "      <td>...</td>\n",
       "      <td>0.016202</td>\n",
       "      <td>0.004381</td>\n",
       "      <td>0.003153</td>\n",
       "      <td>0.008969</td>\n",
       "      <td>0.011099</td>\n",
       "      <td>0.005297</td>\n",
       "      <td>0.010397</td>\n",
       "      <td>0.004811</td>\n",
       "      <td>0.004526</td>\n",
       "      <td>0.006186</td>\n",
       "    </tr>\n",
       "    <tr>\n",
       "      <th>ENSG00000101266</th>\n",
       "      <td>0.017767</td>\n",
       "      <td>0.059804</td>\n",
       "      <td>1.000000</td>\n",
       "      <td>0.013558</td>\n",
       "      <td>0.007299</td>\n",
       "      <td>0.008606</td>\n",
       "      <td>0.004531</td>\n",
       "      <td>0.003558</td>\n",
       "      <td>0.006842</td>\n",
       "      <td>0.009198</td>\n",
       "      <td>...</td>\n",
       "      <td>0.010541</td>\n",
       "      <td>0.004541</td>\n",
       "      <td>0.005871</td>\n",
       "      <td>0.010686</td>\n",
       "      <td>0.005084</td>\n",
       "      <td>0.005603</td>\n",
       "      <td>0.007585</td>\n",
       "      <td>0.003302</td>\n",
       "      <td>0.002549</td>\n",
       "      <td>0.005166</td>\n",
       "    </tr>\n",
       "    <tr>\n",
       "      <th>ENSG00000101280</th>\n",
       "      <td>0.006848</td>\n",
       "      <td>0.009671</td>\n",
       "      <td>0.013558</td>\n",
       "      <td>1.000000</td>\n",
       "      <td>0.002424</td>\n",
       "      <td>0.013497</td>\n",
       "      <td>0.010529</td>\n",
       "      <td>0.006470</td>\n",
       "      <td>0.007434</td>\n",
       "      <td>0.009474</td>\n",
       "      <td>...</td>\n",
       "      <td>0.010156</td>\n",
       "      <td>0.006206</td>\n",
       "      <td>0.009392</td>\n",
       "      <td>0.013101</td>\n",
       "      <td>0.006206</td>\n",
       "      <td>0.003421</td>\n",
       "      <td>0.010968</td>\n",
       "      <td>0.009519</td>\n",
       "      <td>0.003310</td>\n",
       "      <td>0.003093</td>\n",
       "    </tr>\n",
       "    <tr>\n",
       "      <th>ENSG00000125818</th>\n",
       "      <td>0.001665</td>\n",
       "      <td>0.001098</td>\n",
       "      <td>0.007299</td>\n",
       "      <td>0.002424</td>\n",
       "      <td>1.000000</td>\n",
       "      <td>0.009390</td>\n",
       "      <td>0.014527</td>\n",
       "      <td>0.000604</td>\n",
       "      <td>0.005739</td>\n",
       "      <td>0.003763</td>\n",
       "      <td>...</td>\n",
       "      <td>0.008907</td>\n",
       "      <td>0.002832</td>\n",
       "      <td>0.001146</td>\n",
       "      <td>0.007084</td>\n",
       "      <td>0.002838</td>\n",
       "      <td>0.002040</td>\n",
       "      <td>0.003925</td>\n",
       "      <td>0.004944</td>\n",
       "      <td>0.000403</td>\n",
       "      <td>0.000381</td>\n",
       "    </tr>\n",
       "  </tbody>\n",
       "</table>\n",
       "<p>5 rows × 187 columns</p>\n",
       "</div>"
      ],
      "text/plain": [
       "                 ENSG00000101255  ENSG00000125826  ENSG00000101266  \\\n",
       "ENSG00000101255         1.000000         0.060890         0.017767   \n",
       "ENSG00000125826         0.060890         1.000000         0.059804   \n",
       "ENSG00000101266         0.017767         0.059804         1.000000   \n",
       "ENSG00000101280         0.006848         0.009671         0.013558   \n",
       "ENSG00000125818         0.001665         0.001098         0.007299   \n",
       "\n",
       "                 ENSG00000101280  ENSG00000125818  ENSG00000101298  \\\n",
       "ENSG00000101255         0.006848         0.001665         0.008264   \n",
       "ENSG00000125826         0.009671         0.001098         0.008286   \n",
       "ENSG00000101266         0.013558         0.007299         0.008606   \n",
       "ENSG00000101280         1.000000         0.002424         0.013497   \n",
       "ENSG00000125818         0.002424         1.000000         0.009390   \n",
       "\n",
       "                 ENSG00000088832  ENSG00000101307  ENSG00000089012  \\\n",
       "ENSG00000101255         0.004312         0.001363         0.003985   \n",
       "ENSG00000125826         0.008844         0.005670         0.004607   \n",
       "ENSG00000101266         0.004531         0.003558         0.006842   \n",
       "ENSG00000101280         0.010529         0.006470         0.007434   \n",
       "ENSG00000125818         0.014527         0.000604         0.005739   \n",
       "\n",
       "                 ENSG00000198053  ...  ENSG00000092758  ENSG00000101191  \\\n",
       "ENSG00000101255         0.006856  ...         0.007001         0.006527   \n",
       "ENSG00000125826         0.007537  ...         0.016202         0.004381   \n",
       "ENSG00000101266         0.009198  ...         0.010541         0.004541   \n",
       "ENSG00000101280         0.009474  ...         0.010156         0.006206   \n",
       "ENSG00000125818         0.003763  ...         0.008907         0.002832   \n",
       "\n",
       "                 ENSG00000101199  ENSG00000243509  ENSG00000203896  \\\n",
       "ENSG00000101255         0.003598         0.003637         0.004460   \n",
       "ENSG00000125826         0.003153         0.008969         0.011099   \n",
       "ENSG00000101266         0.005871         0.010686         0.005084   \n",
       "ENSG00000101280         0.009392         0.013101         0.006206   \n",
       "ENSG00000125818         0.001146         0.007084         0.002838   \n",
       "\n",
       "                 ENSG00000101152  ENSG00000198276  ENSG00000101161  \\\n",
       "ENSG00000101255         0.004138         0.004843         0.002018   \n",
       "ENSG00000125826         0.005297         0.010397         0.004811   \n",
       "ENSG00000101266         0.005603         0.007585         0.003302   \n",
       "ENSG00000101280         0.003421         0.010968         0.009519   \n",
       "ENSG00000125818         0.002040         0.003925         0.004944   \n",
       "\n",
       "                 ENSG00000171700  ENSG00000125510  \n",
       "ENSG00000101255         0.006384         0.006945  \n",
       "ENSG00000125826         0.004526         0.006186  \n",
       "ENSG00000101266         0.002549         0.005166  \n",
       "ENSG00000101280         0.003310         0.003093  \n",
       "ENSG00000125818         0.000403         0.000381  \n",
       "\n",
       "[5 rows x 187 columns]"
      ]
     },
     "execution_count": 31,
     "metadata": {},
     "output_type": "execute_result"
    }
   ],
   "source": [
    "gene_corrs_df.head()"
   ]
  },
  {
   "cell_type": "markdown",
   "id": "dad6603f-01c6-41fb-a6f6-241051207dd8",
   "metadata": {
    "papermill": {
     "duration": 1.014458,
     "end_time": "2022-08-03T02:40:31.953156",
     "exception": false,
     "start_time": "2022-08-03T02:40:30.938698",
     "status": "completed"
    },
    "tags": []
   },
   "source": [
    "## Standard checks and stats"
   ]
  },
  {
   "cell_type": "code",
   "execution_count": 32,
   "id": "286686af-1b7b-4440-8453-6bdcbd8de19c",
   "metadata": {
    "execution": {
     "iopub.execute_input": "2022-08-03T02:40:34.067249Z",
     "iopub.status.busy": "2022-08-03T02:40:34.066986Z",
     "iopub.status.idle": "2022-08-03T02:40:34.087684Z",
     "shell.execute_reply": "2022-08-03T02:40:34.087155Z"
    },
    "papermill": {
     "duration": 1.077725,
     "end_time": "2022-08-03T02:40:34.089335",
     "exception": false,
     "start_time": "2022-08-03T02:40:33.011610",
     "status": "completed"
    },
    "tags": []
   },
   "outputs": [],
   "source": [
    "assert not gene_corrs_df.isna().any().any()"
   ]
  },
  {
   "cell_type": "code",
   "execution_count": 33,
   "id": "00583efc-7068-4270-ad1e-4a418e91db96",
   "metadata": {
    "execution": {
     "iopub.execute_input": "2022-08-03T02:40:36.154165Z",
     "iopub.status.busy": "2022-08-03T02:40:36.153902Z",
     "iopub.status.idle": "2022-08-03T02:40:36.181887Z",
     "shell.execute_reply": "2022-08-03T02:40:36.181367Z"
    },
    "papermill": {
     "duration": 1.074911,
     "end_time": "2022-08-03T02:40:36.183506",
     "exception": false,
     "start_time": "2022-08-03T02:40:35.108595",
     "status": "completed"
    },
    "tags": []
   },
   "outputs": [
    {
     "data": {
      "text/plain": [
       "2.5794161085216264e-07"
      ]
     },
     "metadata": {},
     "output_type": "display_data"
    }
   ],
   "source": [
    "_min_val = gene_corrs_df.min().min()\n",
    "display(_min_val)\n",
    "assert _min_val >= 0.0"
   ]
  },
  {
   "cell_type": "code",
   "execution_count": 34,
   "id": "d04fb2cf-1050-475b-b855-f5f7cc04092b",
   "metadata": {
    "execution": {
     "iopub.execute_input": "2022-08-03T02:40:38.275174Z",
     "iopub.status.busy": "2022-08-03T02:40:38.274914Z",
     "iopub.status.idle": "2022-08-03T02:40:38.297414Z",
     "shell.execute_reply": "2022-08-03T02:40:38.296904Z"
    },
    "papermill": {
     "duration": 1.048958,
     "end_time": "2022-08-03T02:40:38.299093",
     "exception": false,
     "start_time": "2022-08-03T02:40:37.250135",
     "status": "completed"
    },
    "tags": []
   },
   "outputs": [
    {
     "data": {
      "text/plain": [
       "1.0"
      ]
     },
     "metadata": {},
     "output_type": "display_data"
    }
   ],
   "source": [
    "_max_val = gene_corrs_df.max().max()  # this captures the diagonal\n",
    "display(_max_val)\n",
    "assert _max_val <= 1.0"
   ]
  },
  {
   "cell_type": "code",
   "execution_count": 35,
   "id": "96d02c44-1fba-47be-8a93-8f2608420b9c",
   "metadata": {
    "execution": {
     "iopub.execute_input": "2022-08-03T02:40:40.377237Z",
     "iopub.status.busy": "2022-08-03T02:40:40.376974Z",
     "iopub.status.idle": "2022-08-03T02:40:40.396826Z",
     "shell.execute_reply": "2022-08-03T02:40:40.396295Z"
    },
    "papermill": {
     "duration": 1.061487,
     "end_time": "2022-08-03T02:40:40.398359",
     "exception": false,
     "start_time": "2022-08-03T02:40:39.336872",
     "status": "completed"
    },
    "tags": []
   },
   "outputs": [],
   "source": [
    "# check upper triangular values\n",
    "assert len(gene_corrs) == int(genes_chr.shape[0] * (genes_chr.shape[0] - 1) / 2)"
   ]
  },
  {
   "cell_type": "code",
   "execution_count": 36,
   "id": "fe283586-c348-40e0-8841-f6d97bfb021c",
   "metadata": {
    "execution": {
     "iopub.execute_input": "2022-08-03T02:40:42.474363Z",
     "iopub.status.busy": "2022-08-03T02:40:42.474106Z",
     "iopub.status.idle": "2022-08-03T02:40:42.499087Z",
     "shell.execute_reply": "2022-08-03T02:40:42.498563Z"
    },
    "papermill": {
     "duration": 1.081762,
     "end_time": "2022-08-03T02:40:42.500640",
     "exception": false,
     "start_time": "2022-08-03T02:40:41.418878",
     "status": "completed"
    },
    "tags": []
   },
   "outputs": [
    {
     "data": {
      "text/plain": [
       "count    1.739100e+04\n",
       "mean     1.035737e-02\n",
       "std      4.090596e-02\n",
       "min      2.579416e-07\n",
       "25%      3.740868e-03\n",
       "50%      5.857020e-03\n",
       "75%      8.444668e-03\n",
       "max      9.978295e-01\n",
       "dtype: float64"
      ]
     },
     "execution_count": 36,
     "metadata": {},
     "output_type": "execute_result"
    }
   ],
   "source": [
    "gene_corrs_flat.describe()"
   ]
  },
  {
   "cell_type": "code",
   "execution_count": 37,
   "id": "b3815678-0f93-4b35-897b-a9d047a2aa78",
   "metadata": {
    "execution": {
     "iopub.execute_input": "2022-08-03T02:40:44.597731Z",
     "iopub.status.busy": "2022-08-03T02:40:44.597441Z",
     "iopub.status.idle": "2022-08-03T02:40:44.621184Z",
     "shell.execute_reply": "2022-08-03T02:40:44.620643Z"
    },
    "papermill": {
     "duration": 1.090697,
     "end_time": "2022-08-03T02:40:44.622801",
     "exception": false,
     "start_time": "2022-08-03T02:40:43.532104",
     "status": "completed"
    },
    "tags": []
   },
   "outputs": [
    {
     "data": {
      "text/plain": [
       "0.00    2.579416e-07\n",
       "0.05    1.457878e-03\n",
       "0.10    2.221437e-03\n",
       "0.15    2.804004e-03\n",
       "0.20    3.272683e-03\n",
       "0.25    3.740868e-03\n",
       "0.30    4.167768e-03\n",
       "0.35    4.604971e-03\n",
       "0.40    5.009245e-03\n",
       "0.45    5.434493e-03\n",
       "0.50    5.857020e-03\n",
       "0.55    6.303052e-03\n",
       "0.60    6.801528e-03\n",
       "0.65    7.339117e-03\n",
       "0.70    7.862200e-03\n",
       "0.75    8.444668e-03\n",
       "0.80    9.190211e-03\n",
       "0.85    1.007280e-02\n",
       "0.90    1.128392e-02\n",
       "0.95    1.354014e-02\n",
       "dtype: float64"
      ]
     },
     "metadata": {},
     "output_type": "display_data"
    }
   ],
   "source": [
    "gene_corrs_quantiles = gene_corrs_flat.quantile(np.arange(0, 1, 0.05))\n",
    "display(gene_corrs_quantiles)"
   ]
  },
  {
   "cell_type": "markdown",
   "id": "87134509-b145-4a10-8bc9-b7e914c2b0fa",
   "metadata": {
    "papermill": {
     "duration": 1.051152,
     "end_time": "2022-08-03T02:40:46.706214",
     "exception": false,
     "start_time": "2022-08-03T02:40:45.655062",
     "status": "completed"
    },
    "tags": []
   },
   "source": [
    "## Positive definiteness"
   ]
  },
  {
   "cell_type": "code",
   "execution_count": 38,
   "id": "07d9a9a1-a4f7-48aa-b916-6d42a8cc6186",
   "metadata": {
    "execution": {
     "iopub.execute_input": "2022-08-03T02:40:48.786284Z",
     "iopub.status.busy": "2022-08-03T02:40:48.786035Z",
     "iopub.status.idle": "2022-08-03T02:40:48.818166Z",
     "shell.execute_reply": "2022-08-03T02:40:48.817662Z"
    },
    "papermill": {
     "duration": 1.070652,
     "end_time": "2022-08-03T02:40:48.819656",
     "exception": false,
     "start_time": "2022-08-03T02:40:47.749004",
     "status": "completed"
    },
    "tags": []
   },
   "outputs": [
    {
     "data": {
      "text/plain": [
       "0"
      ]
     },
     "metadata": {},
     "output_type": "display_data"
    },
    {
     "data": {
      "text/plain": [
       "array([], dtype=float64)"
      ]
     },
     "metadata": {},
     "output_type": "display_data"
    }
   ],
   "source": [
    "# print negative eigenvalues\n",
    "eigs = np.linalg.eigvals(gene_corrs_df.to_numpy())\n",
    "display(len(eigs[eigs < 0]))\n",
    "display(eigs[eigs < 0])"
   ]
  },
  {
   "cell_type": "code",
   "execution_count": 39,
   "id": "6e218436-c3c5-4028-8c94-a4fa6260efce",
   "metadata": {
    "execution": {
     "iopub.execute_input": "2022-08-03T02:40:50.860703Z",
     "iopub.status.busy": "2022-08-03T02:40:50.860416Z",
     "iopub.status.idle": "2022-08-03T02:40:50.884098Z",
     "shell.execute_reply": "2022-08-03T02:40:50.883573Z"
    },
    "papermill": {
     "duration": 1.056367,
     "end_time": "2022-08-03T02:40:50.885648",
     "exception": false,
     "start_time": "2022-08-03T02:40:49.829281",
     "status": "completed"
    },
    "tags": []
   },
   "outputs": [
    {
     "name": "stdout",
     "output_type": "stream",
     "text": [
      "Works!\n"
     ]
    }
   ],
   "source": [
    "try:\n",
    "    chol_mat = np.linalg.cholesky(gene_corrs_df.to_numpy())\n",
    "    cov_inv = np.linalg.inv(chol_mat)\n",
    "    print(\"Works!\")\n",
    "except:\n",
    "    print(\"Cholesky decomposition failed\")"
   ]
  },
  {
   "cell_type": "markdown",
   "id": "8e60a080-edb2-4e9c-b2ef-22961693200c",
   "metadata": {
    "papermill": {
     "duration": 1.014252,
     "end_time": "2022-08-03T02:40:52.921920",
     "exception": false,
     "start_time": "2022-08-03T02:40:51.907668",
     "status": "completed"
    },
    "tags": []
   },
   "source": [
    "## Plot: distribution"
   ]
  },
  {
   "cell_type": "code",
   "execution_count": 40,
   "id": "8301126b-a7d4-4744-9c7d-f0f86eb6f54c",
   "metadata": {
    "execution": {
     "iopub.execute_input": "2022-08-03T02:40:54.961857Z",
     "iopub.status.busy": "2022-08-03T02:40:54.961579Z",
     "iopub.status.idle": "2022-08-03T02:41:00.596523Z",
     "shell.execute_reply": "2022-08-03T02:41:00.596005Z"
    },
    "papermill": {
     "duration": 6.661669,
     "end_time": "2022-08-03T02:41:00.598218",
     "exception": false,
     "start_time": "2022-08-03T02:40:53.936549",
     "status": "completed"
    },
    "tags": []
   },
   "outputs": [
    {
     "data": {
      "image/png": "[encoded data removed]",
      "text/plain": [
       "<Figure size 504x504 with 1 Axes>"
      ]
     },
     "metadata": {
      "needs_background": "light"
     },
     "output_type": "display_data"
    }
   ],
   "source": [
    "with sns.plotting_context(\"paper\", font_scale=1.5):\n",
    "    g = sns.displot(gene_corrs_flat, kde=True, height=7)\n",
    "    g.ax.set_title(\n",
    "        f\"Distribution of gene correlation values in chromosome {CHROMOSOME}\"\n",
    "    )"
   ]
  },
  {
   "cell_type": "markdown",
   "id": "cbd52bca-d878-4a2f-b684-5c83aa3038d4",
   "metadata": {
    "papermill": {
     "duration": 1.053648,
     "end_time": "2022-08-03T02:41:02.662753",
     "exception": false,
     "start_time": "2022-08-03T02:41:01.609105",
     "status": "completed"
    },
    "tags": []
   },
   "source": [
    "## Plot: heatmap"
   ]
  },
  {
   "cell_type": "code",
   "execution_count": 41,
   "id": "d03fe63a-c7b2-4fb9-a53c-db362ce843c9",
   "metadata": {
    "execution": {
     "iopub.execute_input": "2022-08-03T02:41:04.747135Z",
     "iopub.status.busy": "2022-08-03T02:41:04.746872Z",
     "iopub.status.idle": "2022-08-03T02:41:04.777638Z",
     "shell.execute_reply": "2022-08-03T02:41:04.777078Z"
    },
    "papermill": {
     "duration": 1.076284,
     "end_time": "2022-08-03T02:41:04.779241",
     "exception": false,
     "start_time": "2022-08-03T02:41:03.702957",
     "status": "completed"
    },
    "tags": []
   },
   "outputs": [
    {
     "data": {
      "text/plain": [
       "'0.0 / 0.05'"
      ]
     },
     "metadata": {},
     "output_type": "display_data"
    }
   ],
   "source": [
    "vmin_val = min(0.00, gene_corrs_quantiles[0.10])\n",
    "vmax_val = max(0.05, gene_corrs_quantiles[0.90])\n",
    "display(f\"{vmin_val} / {vmax_val}\")"
   ]
  },
  {
   "cell_type": "code",
   "execution_count": 42,
   "id": "dc41b70b-5bcc-4d9e-9f33-a22c4a94dab5",
   "metadata": {
    "execution": {
     "iopub.execute_input": "2022-08-03T02:41:06.857375Z",
     "iopub.status.busy": "2022-08-03T02:41:06.857106Z",
     "iopub.status.idle": "2022-08-03T02:41:07.056616Z",
     "shell.execute_reply": "2022-08-03T02:41:07.056065Z"
    },
    "papermill": {
     "duration": 1.25052,
     "end_time": "2022-08-03T02:41:07.058276",
     "exception": false,
     "start_time": "2022-08-03T02:41:05.807756",
     "status": "completed"
    },
    "tags": []
   },
   "outputs": [
    {
     "data": {
      "text/plain": [
       "Text(0.5, 1.0, 'Gene correlations in chromosome 20')"
      ]
     },
     "execution_count": 42,
     "metadata": {},
     "output_type": "execute_result"
    },
    {
     "data": {
      "image/png": "[encoded data removed]",
      "text/plain": [
       "<Figure size 720x720 with 2 Axes>"
      ]
     },
     "metadata": {
      "needs_background": "light"
     },
     "output_type": "display_data"
    }
   ],
   "source": [
    "f, ax = plt.subplots(figsize=(10, 10))\n",
    "sns.heatmap(\n",
    "    gene_corrs_df,\n",
    "    xticklabels=False,\n",
    "    yticklabels=False,\n",
    "    square=True,\n",
    "    vmin=vmin_val,\n",
    "    vmax=vmax_val,\n",
    "    cmap=\"rocket_r\",\n",
    "    ax=ax,\n",
    ")\n",
    "ax.set_title(f\"Gene correlations in chromosome {CHROMOSOME}\")"
   ]
  },
  {
   "cell_type": "code",
   "execution_count": null,
   "id": "b25e3ead",
   "metadata": {
    "papermill": {
     "duration": 1.016369,
     "end_time": "2022-08-03T02:41:09.130208",
     "exception": false,
     "start_time": "2022-08-03T02:41:08.113839",
     "status": "completed"
    },
    "tags": []
   },
   "outputs": [],
   "source": []
  }
 ],
 "metadata": {
  "jupytext": {
   "cell_metadata_filter": "all,-execution,-papermill,-trusted",
   "formats": "ipynb,py//py:percent"
  },
  "kernelspec": {
   "display_name": "Python 3 (ipykernel)",
   "language": "python",
   "name": "python3"
  },
  "language_info": {
   "codemirror_mode": {
    "name": "ipython",
    "version": 3
   },
   "file_extension": ".py",
   "mimetype": "text/x-python",
   "name": "python",
   "nbconvert_exporter": "python",
   "pygments_lexer": "ipython3",
   "version": "3.8.13"
  },
  "papermill": {
   "default_parameters": {},
   "duration": 1449.37708,
   "end_time": "2022-08-03T02:41:12.882936",
   "environment_variables": {},
   "exception": null,
   "input_path": "nbs/15_gsa_gls/10-gene_expr_correlations.ipynb",
   "output_path": "nbs/15_gsa_gls/gene_corrs/cohorts/1000g_eur/gtex_v8/mashr/10-gene_expr_correlations-chr20.run.ipynb",
   "parameters": {
    "CHROMOSOME": 20,
    "COHORT_NAME": "1000G_EUR",
    "EQTL_MODEL": "MASHR",
    "REFERENCE_PANEL": "GTEX_V8"
   },
   "start_time": "2022-08-03T02:17:03.505856",
   "version": "2.2.2"
  }
 },
 "nbformat": 4,
 "nbformat_minor": 5
}
