{
 "cells": [
  {
   "cell_type": "markdown",
   "id": "7a6632fb",
   "metadata": {
    "papermill": {
     "duration": 0.038903,
     "end_time": "2022-08-03T02:17:08.446225",
     "exception": false,
     "start_time": "2022-08-03T02:17:08.407322",
     "status": "completed"
    },
    "tags": []
   },
   "source": [
    "# Description"
   ]
  },
  {
   "cell_type": "markdown",
   "id": "7097c346",
   "metadata": {
    "papermill": {
     "duration": 0.070943,
     "end_time": "2022-08-03T02:17:08.565539",
     "exception": false,
     "start_time": "2022-08-03T02:17:08.494596",
     "status": "completed"
    },
    "tags": []
   },
   "source": [
    "(Please, take a look at the README.md file in this directory for instructions on how to run this notebook)\n",
    "\n",
    "This notebook computes predicted expression correlations between all genes in the MultiPLIER models.\n",
    "\n",
    "It also has a parameter set for papermill to run on a single chromosome to run in parallel (see under `Settings` below).\n",
    "\n",
    "This notebook is not directly run. See README.md."
   ]
  },
  {
   "cell_type": "markdown",
   "id": "c61d8427",
   "metadata": {
    "papermill": {
     "duration": 0.021388,
     "end_time": "2022-08-03T02:17:08.621181",
     "exception": false,
     "start_time": "2022-08-03T02:17:08.599793",
     "status": "completed"
    },
    "tags": []
   },
   "source": [
    "# Modules"
   ]
  },
  {
   "cell_type": "code",
   "execution_count": 1,
   "id": "bbc0234f",
   "metadata": {
    "execution": {
     "iopub.execute_input": "2022-08-03T02:17:08.676881Z",
     "iopub.status.busy": "2022-08-03T02:17:08.676513Z",
     "iopub.status.idle": "2022-08-03T02:17:08.705008Z",
     "shell.execute_reply": "2022-08-03T02:17:08.704471Z"
    },
    "papermill": {
     "duration": 0.051597,
     "end_time": "2022-08-03T02:17:08.706906",
     "exception": false,
     "start_time": "2022-08-03T02:17:08.655309",
     "status": "completed"
    },
    "tags": []
   },
   "outputs": [],
   "source": [
    "%load_ext autoreload\n",
    "%autoreload 2"
   ]
  },
  {
   "cell_type": "code",
   "execution_count": 2,
   "id": "1d5f5a59",
   "metadata": {
    "execution": {
     "iopub.execute_input": "2022-08-03T02:17:08.747785Z",
     "iopub.status.busy": "2022-08-03T02:17:08.747590Z",
     "iopub.status.idle": "2022-08-03T02:17:17.444741Z",
     "shell.execute_reply": "2022-08-03T02:17:17.444205Z"
    },
    "papermill": {
     "duration": 8.718698,
     "end_time": "2022-08-03T02:17:17.446609",
     "exception": false,
     "start_time": "2022-08-03T02:17:08.727911",
     "status": "completed"
    },
    "tags": []
   },
   "outputs": [],
   "source": [
    "from random import sample, seed\n",
    "import warnings\n",
    "from pathlib import Path\n",
    "import pickle\n",
    "import traceback\n",
    "\n",
    "import numpy as np\n",
    "from scipy.spatial.distance import squareform\n",
    "import pandas as pd\n",
    "from tqdm import tqdm\n",
    "import matplotlib.pyplot as plt\n",
    "import seaborn as sns\n",
    "\n",
    "import conf\n",
    "from entity import Gene"
   ]
  },
  {
   "cell_type": "markdown",
   "id": "1eac24b5",
   "metadata": {
    "papermill": {
     "duration": 0.016739,
     "end_time": "2022-08-03T02:17:17.486942",
     "exception": false,
     "start_time": "2022-08-03T02:17:17.470203",
     "status": "completed"
    },
    "tags": []
   },
   "source": [
    "# Settings"
   ]
  },
  {
   "cell_type": "code",
   "execution_count": 3,
   "id": "ca4560ba",
   "metadata": {
    "execution": {
     "iopub.execute_input": "2022-08-03T02:17:17.555316Z",
     "iopub.status.busy": "2022-08-03T02:17:17.554967Z",
     "iopub.status.idle": "2022-08-03T02:17:19.028115Z",
     "shell.execute_reply": "2022-08-03T02:17:19.027149Z"
    },
    "papermill": {
     "duration": 1.503475,
     "end_time": "2022-08-03T02:17:19.031715",
     "exception": false,
     "start_time": "2022-08-03T02:17:17.528240",
     "status": "completed"
    },
    "tags": [
     "parameters"
    ]
   },
   "outputs": [],
   "source": [
    "# a cohort name (it could be something like UK_BIOBANK, etc)\n",
    "COHORT_NAME = None\n",
    "\n",
    "# reference panel such as 1000G or GTEX_V8\n",
    "REFERENCE_PANEL = None\n",
    "\n",
    "# predictions models such as MASHR or ELASTIC_NET\n",
    "EQTL_MODEL = None\n",
    "\n",
    "# this is the default value used in S-MultiXcan to select the\n",
    "# top principal components of the expression correlation matrix\n",
    "SMULTIXCAN_CONDITION_NUMBER = 30\n",
    "\n",
    "# specifies a single chromosome value\n",
    "CHROMOSOME = None\n",
    "\n",
    "# If True, computes the correlation between closeby genes only;\n",
    "# otherwise, it computes correlations for all genes in a chromosome\n",
    "COMPUTE_CORRELATIONS_WITHIN_DISTANCE = False\n",
    "\n",
    "# if True, then it will continue if a gene pair correlation fails,\n",
    "# printing the warning/error for debugging. If False, any warning/error\n",
    "# will be thrown\n",
    "DEBUG_MODE = False"
   ]
  },
  {
   "cell_type": "code",
   "execution_count": 4,
   "id": "2c67c270",
   "metadata": {
    "execution": {
     "iopub.execute_input": "2022-08-03T02:17:19.076432Z",
     "iopub.status.busy": "2022-08-03T02:17:19.076054Z",
     "iopub.status.idle": "2022-08-03T02:17:19.130988Z",
     "shell.execute_reply": "2022-08-03T02:17:19.130370Z"
    },
    "papermill": {
     "duration": 0.077338,
     "end_time": "2022-08-03T02:17:19.133165",
     "exception": false,
     "start_time": "2022-08-03T02:17:19.055827",
     "status": "completed"
    },
    "tags": [
     "injected-parameters"
    ]
   },
   "outputs": [],
   "source": [
    "# Parameters\n",
    "COHORT_NAME = \"1000G_EUR\"\n",
    "REFERENCE_PANEL = \"GTEX_V8\"\n",
    "EQTL_MODEL = \"MASHR\"\n",
    "CHROMOSOME = 21\n"
   ]
  },
  {
   "cell_type": "code",
   "execution_count": 5,
   "id": "3190631f-27fc-480f-b18e-571d580425a5",
   "metadata": {
    "execution": {
     "iopub.execute_input": "2022-08-03T02:17:19.190620Z",
     "iopub.status.busy": "2022-08-03T02:17:19.190087Z",
     "iopub.status.idle": "2022-08-03T02:17:19.241166Z",
     "shell.execute_reply": "2022-08-03T02:17:19.240281Z"
    },
    "papermill": {
     "duration": 0.08882,
     "end_time": "2022-08-03T02:17:19.243810",
     "exception": false,
     "start_time": "2022-08-03T02:17:19.154990",
     "status": "completed"
    },
    "tags": []
   },
   "outputs": [
    {
     "data": {
      "text/plain": [
       "'Cohort name: 1000g_eur'"
      ]
     },
     "metadata": {},
     "output_type": "display_data"
    }
   ],
   "source": [
    "assert COHORT_NAME is not None and len(COHORT_NAME) > 0, \"A cohort name must be given\"\n",
    "\n",
    "COHORT_NAME = COHORT_NAME.lower()\n",
    "display(f\"Cohort name: {COHORT_NAME}\")"
   ]
  },
  {
   "cell_type": "code",
   "execution_count": 6,
   "id": "f53ba19b-0f93-4fa2-a047-63b375939d1a",
   "metadata": {
    "execution": {
     "iopub.execute_input": "2022-08-03T02:17:19.320661Z",
     "iopub.status.busy": "2022-08-03T02:17:19.320098Z",
     "iopub.status.idle": "2022-08-03T02:17:19.369547Z",
     "shell.execute_reply": "2022-08-03T02:17:19.368617Z"
    },
    "papermill": {
     "duration": 0.10558,
     "end_time": "2022-08-03T02:17:19.372319",
     "exception": false,
     "start_time": "2022-08-03T02:17:19.266739",
     "status": "completed"
    },
    "tags": []
   },
   "outputs": [
    {
     "data": {
      "text/plain": [
       "'Reference panel: GTEX_V8'"
      ]
     },
     "metadata": {},
     "output_type": "display_data"
    }
   ],
   "source": [
    "assert (\n",
    "    REFERENCE_PANEL is not None and len(REFERENCE_PANEL) > 0\n",
    "), \"A reference panel must be given\"\n",
    "\n",
    "display(f\"Reference panel: {REFERENCE_PANEL}\")"
   ]
  },
  {
   "cell_type": "code",
   "execution_count": 7,
   "id": "e024d130-c139-429a-9c6e-ccf149e297b0",
   "metadata": {
    "execution": {
     "iopub.execute_input": "2022-08-03T02:17:19.422099Z",
     "iopub.status.busy": "2022-08-03T02:17:19.421790Z",
     "iopub.status.idle": "2022-08-03T02:17:19.453260Z",
     "shell.execute_reply": "2022-08-03T02:17:19.452641Z"
    },
    "papermill": {
     "duration": 0.058686,
     "end_time": "2022-08-03T02:17:19.455215",
     "exception": false,
     "start_time": "2022-08-03T02:17:19.396529",
     "status": "completed"
    },
    "tags": []
   },
   "outputs": [
    {
     "data": {
      "text/plain": [
       "'eQTL model: MASHR) / mashr_'"
      ]
     },
     "metadata": {},
     "output_type": "display_data"
    }
   ],
   "source": [
    "assert (\n",
    "    EQTL_MODEL is not None and len(EQTL_MODEL) > 0\n",
    "), \"A prediction/eQTL model must be given\"\n",
    "\n",
    "EQTL_MODEL_FILES_PREFIX = conf.PHENOMEXCAN[\"PREDICTION_MODELS\"][f\"{EQTL_MODEL}_PREFIX\"]\n",
    "display(f\"eQTL model: {EQTL_MODEL}) / {EQTL_MODEL_FILES_PREFIX}\")"
   ]
  },
  {
   "cell_type": "code",
   "execution_count": 8,
   "id": "552a7f63-a18c-4d3e-bb6a-94f99b431291",
   "metadata": {
    "execution": {
     "iopub.execute_input": "2022-08-03T02:17:19.509455Z",
     "iopub.status.busy": "2022-08-03T02:17:19.509220Z",
     "iopub.status.idle": "2022-08-03T02:17:19.532855Z",
     "shell.execute_reply": "2022-08-03T02:17:19.532364Z"
    },
    "papermill": {
     "duration": 0.057017,
     "end_time": "2022-08-03T02:17:19.534397",
     "exception": false,
     "start_time": "2022-08-03T02:17:19.477380",
     "status": "completed"
    },
    "tags": []
   },
   "outputs": [
    {
     "data": {
      "text/plain": [
       "'S-MultiXcan condition number: 30'"
      ]
     },
     "metadata": {},
     "output_type": "display_data"
    }
   ],
   "source": [
    "assert (\n",
    "    SMULTIXCAN_CONDITION_NUMBER is not None and SMULTIXCAN_CONDITION_NUMBER > 0\n",
    "), \"The S-MultiXcan condition number (positive integer) must be given\"\n",
    "\n",
    "display(f\"S-MultiXcan condition number: {SMULTIXCAN_CONDITION_NUMBER}\")"
   ]
  },
  {
   "cell_type": "code",
   "execution_count": 9,
   "id": "f34a336f-548e-4afe-8955-90eaea4f42c6",
   "metadata": {
    "execution": {
     "iopub.execute_input": "2022-08-03T02:17:19.579335Z",
     "iopub.status.busy": "2022-08-03T02:17:19.579136Z",
     "iopub.status.idle": "2022-08-03T02:17:19.599044Z",
     "shell.execute_reply": "2022-08-03T02:17:19.598626Z"
    },
    "papermill": {
     "duration": 0.045497,
     "end_time": "2022-08-03T02:17:19.600365",
     "exception": false,
     "start_time": "2022-08-03T02:17:19.554868",
     "status": "completed"
    },
    "tags": []
   },
   "outputs": [
    {
     "data": {
      "text/plain": [
       "'Working on chromosome 21'"
      ]
     },
     "metadata": {},
     "output_type": "display_data"
    }
   ],
   "source": [
    "assert CHROMOSOME is not None and (\n",
    "    1 <= CHROMOSOME <= 22\n",
    "), \"You have to select one chromosome (format: number between 1 and 22)\"\n",
    "\n",
    "CHROMOSOME = str(CHROMOSOME)\n",
    "display(f\"Working on chromosome {CHROMOSOME}\")"
   ]
  },
  {
   "cell_type": "code",
   "execution_count": 10,
   "id": "ab8e96e8-06b5-4363-9dcd-dc4d78cc27f7",
   "metadata": {
    "execution": {
     "iopub.execute_input": "2022-08-03T02:17:19.649185Z",
     "iopub.status.busy": "2022-08-03T02:17:19.649012Z",
     "iopub.status.idle": "2022-08-03T02:17:19.667372Z",
     "shell.execute_reply": "2022-08-03T02:17:19.666980Z"
    },
    "papermill": {
     "duration": 0.034963,
     "end_time": "2022-08-03T02:17:19.668591",
     "exception": false,
     "start_time": "2022-08-03T02:17:19.633628",
     "status": "completed"
    },
    "tags": []
   },
   "outputs": [
    {
     "data": {
      "text/plain": [
       "'Compute correlation within distance False'"
      ]
     },
     "metadata": {},
     "output_type": "display_data"
    }
   ],
   "source": [
    "display(f\"Compute correlation within distance {COMPUTE_CORRELATIONS_WITHIN_DISTANCE}\")"
   ]
  },
  {
   "cell_type": "code",
   "execution_count": 11,
   "id": "396392dc-0340-4540-9b02-e182b833f909",
   "metadata": {
    "execution": {
     "iopub.execute_input": "2022-08-03T02:17:19.728402Z",
     "iopub.status.busy": "2022-08-03T02:17:19.728099Z",
     "iopub.status.idle": "2022-08-03T02:17:19.769746Z",
     "shell.execute_reply": "2022-08-03T02:17:19.769174Z"
    },
    "papermill": {
     "duration": 0.065409,
     "end_time": "2022-08-03T02:17:19.771517",
     "exception": false,
     "start_time": "2022-08-03T02:17:19.706108",
     "status": "completed"
    },
    "tags": []
   },
   "outputs": [
    {
     "data": {
      "text/plain": [
       "'Using output dir base: /project/ritchie20/projects/phenoplier/base/results/gls/gene_corrs/cohorts/1000g_eur/gtex_v8/mashr'"
      ]
     },
     "metadata": {},
     "output_type": "display_data"
    }
   ],
   "source": [
    "OUTPUT_DIR_BASE = (\n",
    "    conf.RESULTS[\"GLS\"]\n",
    "    / \"gene_corrs\"\n",
    "    / \"cohorts\"\n",
    "    / COHORT_NAME\n",
    "    / REFERENCE_PANEL.lower()\n",
    "    / EQTL_MODEL.lower()\n",
    ")\n",
    "OUTPUT_DIR_BASE.mkdir(parents=True, exist_ok=True)\n",
    "\n",
    "display(f\"Using output dir base: {OUTPUT_DIR_BASE}\")"
   ]
  },
  {
   "cell_type": "markdown",
   "id": "d2ba085e",
   "metadata": {
    "papermill": {
     "duration": 0.03961,
     "end_time": "2022-08-03T02:17:19.830469",
     "exception": false,
     "start_time": "2022-08-03T02:17:19.790859",
     "status": "completed"
    },
    "tags": []
   },
   "source": [
    "# Load data"
   ]
  },
  {
   "cell_type": "markdown",
   "id": "7dcb8db7",
   "metadata": {
    "papermill": {
     "duration": 0.019644,
     "end_time": "2022-08-03T02:17:19.867134",
     "exception": false,
     "start_time": "2022-08-03T02:17:19.847490",
     "status": "completed"
    },
    "tags": []
   },
   "source": [
    "## GWAS variants"
   ]
  },
  {
   "cell_type": "code",
   "execution_count": 12,
   "id": "29434c4e-8cd3-4b9b-82e4-b5a251d9dd19",
   "metadata": {
    "execution": {
     "iopub.execute_input": "2022-08-03T02:17:19.909713Z",
     "iopub.status.busy": "2022-08-03T02:17:19.909526Z",
     "iopub.status.idle": "2022-08-03T02:17:22.541747Z",
     "shell.execute_reply": "2022-08-03T02:17:22.540935Z"
    },
    "papermill": {
     "duration": 2.650615,
     "end_time": "2022-08-03T02:17:22.543734",
     "exception": false,
     "start_time": "2022-08-03T02:17:19.893119",
     "status": "completed"
    },
    "tags": []
   },
   "outputs": [],
   "source": [
    "with open(OUTPUT_DIR_BASE / \"gwas_variant_ids.pkl\", \"rb\") as handle:\n",
    "    gwas_variants_ids_set = pickle.load(handle)"
   ]
  },
  {
   "cell_type": "code",
   "execution_count": 13,
   "id": "b9d9dec2-4a76-4bf9-bde2-e24c95acb8a0",
   "metadata": {
    "execution": {
     "iopub.execute_input": "2022-08-03T02:17:22.607544Z",
     "iopub.status.busy": "2022-08-03T02:17:22.607185Z",
     "iopub.status.idle": "2022-08-03T02:17:23.519140Z",
     "shell.execute_reply": "2022-08-03T02:17:23.518320Z"
    },
    "papermill": {
     "duration": 0.944957,
     "end_time": "2022-08-03T02:17:23.528864",
     "exception": false,
     "start_time": "2022-08-03T02:17:22.583907",
     "status": "completed"
    },
    "tags": []
   },
   "outputs": [
    {
     "data": {
      "text/plain": [
       "8325729"
      ]
     },
     "execution_count": 13,
     "metadata": {},
     "output_type": "execute_result"
    }
   ],
   "source": [
    "len(gwas_variants_ids_set)"
   ]
  },
  {
   "cell_type": "code",
   "execution_count": 14,
   "id": "4235b06a-6034-4ee4-a0a3-2ae35d122418",
   "metadata": {
    "execution": {
     "iopub.execute_input": "2022-08-03T02:17:23.579792Z",
     "iopub.status.busy": "2022-08-03T02:17:23.579493Z",
     "iopub.status.idle": "2022-08-03T02:17:24.322580Z",
     "shell.execute_reply": "2022-08-03T02:17:24.322096Z"
    },
    "papermill": {
     "duration": 0.770978,
     "end_time": "2022-08-03T02:17:24.323999",
     "exception": false,
     "start_time": "2022-08-03T02:17:23.553021",
     "status": "completed"
    },
    "tags": []
   },
   "outputs": [
    {
     "data": {
      "text/plain": [
       "['chr16_84044252_TTAG_T_b38',\n",
       " 'chr18_37129704_T_C_b38',\n",
       " 'chr6_165883006_C_T_b38',\n",
       " 'chr3_195537016_A_G_b38',\n",
       " 'chr3_34224021_T_G_b38']"
      ]
     },
     "execution_count": 14,
     "metadata": {},
     "output_type": "execute_result"
    }
   ],
   "source": [
    "list(gwas_variants_ids_set)[:5]"
   ]
  },
  {
   "cell_type": "markdown",
   "id": "07866999-2305-41f9-a144-e69c9122c212",
   "metadata": {
    "papermill": {
     "duration": 0.032116,
     "end_time": "2022-08-03T02:17:24.371425",
     "exception": false,
     "start_time": "2022-08-03T02:17:24.339309",
     "status": "completed"
    },
    "tags": []
   },
   "source": [
    "## S-PrediXcan tissue models"
   ]
  },
  {
   "cell_type": "code",
   "execution_count": 15,
   "id": "780611d9-77c8-405f-90a4-f271f7b09397",
   "metadata": {
    "execution": {
     "iopub.execute_input": "2022-08-03T02:17:24.408594Z",
     "iopub.status.busy": "2022-08-03T02:17:24.408336Z",
     "iopub.status.idle": "2022-08-03T02:17:25.744576Z",
     "shell.execute_reply": "2022-08-03T02:17:25.744060Z"
    },
    "papermill": {
     "duration": 1.354431,
     "end_time": "2022-08-03T02:17:25.746417",
     "exception": false,
     "start_time": "2022-08-03T02:17:24.391986",
     "status": "completed"
    },
    "tags": []
   },
   "outputs": [],
   "source": [
    "spredixcan_genes_models = pd.read_pickle(OUTPUT_DIR_BASE / \"gene_tissues.pkl\")"
   ]
  },
  {
   "cell_type": "code",
   "execution_count": 16,
   "id": "726dd1f6-9557-4225-91fa-b3b879ea96e1",
   "metadata": {
    "execution": {
     "iopub.execute_input": "2022-08-03T02:17:25.781091Z",
     "iopub.status.busy": "2022-08-03T02:17:25.780871Z",
     "iopub.status.idle": "2022-08-03T02:17:26.200317Z",
     "shell.execute_reply": "2022-08-03T02:17:26.199229Z"
    },
    "papermill": {
     "duration": 0.439895,
     "end_time": "2022-08-03T02:17:26.203542",
     "exception": false,
     "start_time": "2022-08-03T02:17:25.763647",
     "status": "completed"
    },
    "tags": []
   },
   "outputs": [
    {
     "data": {
      "text/plain": [
       "(6444, 10)"
      ]
     },
     "execution_count": 16,
     "metadata": {},
     "output_type": "execute_result"
    }
   ],
   "source": [
    "spredixcan_genes_models.shape"
   ]
  },
  {
   "cell_type": "code",
   "execution_count": 17,
   "id": "944a1b48-222c-4eb0-b252-b9de2cbca215",
   "metadata": {
    "execution": {
     "iopub.execute_input": "2022-08-03T02:17:26.256659Z",
     "iopub.status.busy": "2022-08-03T02:17:26.256308Z",
     "iopub.status.idle": "2022-08-03T02:17:26.324457Z",
     "shell.execute_reply": "2022-08-03T02:17:26.323867Z"
    },
    "papermill": {
     "duration": 0.095381,
     "end_time": "2022-08-03T02:17:26.326254",
     "exception": false,
     "start_time": "2022-08-03T02:17:26.230873",
     "status": "completed"
    },
    "tags": []
   },
   "outputs": [
    {
     "data": {
      "text/html": [
       "<div>\n",
       "<style scoped>\n",
       "    .dataframe tbody tr th:only-of-type {\n",
       "        vertical-align: middle;\n",
       "    }\n",
       "\n",
       "    .dataframe tbody tr th {\n",
       "        vertical-align: top;\n",
       "    }\n",
       "\n",
       "    .dataframe thead th {\n",
       "        text-align: right;\n",
       "    }\n",
       "</style>\n",
       "<table border=\"1\" class=\"dataframe\">\n",
       "  <thead>\n",
       "    <tr style=\"text-align: right;\">\n",
       "      <th></th>\n",
       "      <th>gene_name</th>\n",
       "      <th>tissue</th>\n",
       "      <th>n_tissues</th>\n",
       "      <th>tissues_pc_variances</th>\n",
       "      <th>tissues_pc_variances_cov</th>\n",
       "      <th>tissues_variances</th>\n",
       "      <th>n_snps_used_sum</th>\n",
       "      <th>n_snps_in_model_sum</th>\n",
       "      <th>unique_n_snps_in_model</th>\n",
       "      <th>unique_n_snps_used</th>\n",
       "    </tr>\n",
       "    <tr>\n",
       "      <th>gene_id</th>\n",
       "      <th></th>\n",
       "      <th></th>\n",
       "      <th></th>\n",
       "      <th></th>\n",
       "      <th></th>\n",
       "      <th></th>\n",
       "      <th></th>\n",
       "      <th></th>\n",
       "      <th></th>\n",
       "      <th></th>\n",
       "    </tr>\n",
       "  </thead>\n",
       "  <tbody>\n",
       "    <tr>\n",
       "      <th>ENSG00000000419</th>\n",
       "      <td>DPM1</td>\n",
       "      <td>(Brain_Substantia_nigra, Brain_Hypothalamus)</td>\n",
       "      <td>2</td>\n",
       "      <td>[1.0442398458252409, 0.9557601541747592]</td>\n",
       "      <td>[0.013163142634155849, 0.00048574890347684763]</td>\n",
       "      <td>{'Brain_Hypothalamus': 0.013162153504206677, '...</td>\n",
       "      <td>2</td>\n",
       "      <td>2</td>\n",
       "      <td>2</td>\n",
       "      <td>2</td>\n",
       "    </tr>\n",
       "    <tr>\n",
       "      <th>ENSG00000000938</th>\n",
       "      <td>FGR</td>\n",
       "      <td>(Brain_Cerebellum, Brain_Hippocampus, Spleen, ...</td>\n",
       "      <td>36</td>\n",
       "      <td>[31.63266933637129, 2.078367751851144, 1.27161...</td>\n",
       "      <td>[0.1715948657078027]</td>\n",
       "      <td>{'Esophagus_Muscularis': 0.006536602044478473,...</td>\n",
       "      <td>40</td>\n",
       "      <td>40</td>\n",
       "      <td>5</td>\n",
       "      <td>5</td>\n",
       "    </tr>\n",
       "    <tr>\n",
       "      <th>ENSG00000000971</th>\n",
       "      <td>CFH</td>\n",
       "      <td>(Brain_Cerebellum, Kidney_Cortex, Uterus, Brai...</td>\n",
       "      <td>34</td>\n",
       "      <td>[21.56076992568329, 7.310170987045463, 1.83778...</td>\n",
       "      <td>[0.2093060319587451, 0.058234347656008024, 0.0...</td>\n",
       "      <td>{'Esophagus_Muscularis': 0.01739410990047228, ...</td>\n",
       "      <td>44</td>\n",
       "      <td>44</td>\n",
       "      <td>12</td>\n",
       "      <td>12</td>\n",
       "    </tr>\n",
       "    <tr>\n",
       "      <th>ENSG00000001084</th>\n",
       "      <td>GCLC</td>\n",
       "      <td>(Brain_Cerebellum, Brain_Amygdala, Brain_Hippo...</td>\n",
       "      <td>32</td>\n",
       "      <td>[21.291939080546538, 4.699418748743195, 2.2489...</td>\n",
       "      <td>[0.39430527375123775, 0.11627488888534836, 0.0...</td>\n",
       "      <td>{'Thyroid': 0.009654918580686024, 'Brain_Corte...</td>\n",
       "      <td>46</td>\n",
       "      <td>46</td>\n",
       "      <td>23</td>\n",
       "      <td>23</td>\n",
       "    </tr>\n",
       "    <tr>\n",
       "      <th>ENSG00000001167</th>\n",
       "      <td>NFYA</td>\n",
       "      <td>(Brain_Cerebellum, Kidney_Cortex, Brain_Hippoc...</td>\n",
       "      <td>40</td>\n",
       "      <td>[37.3356602954977, 1.3914019604538357]</td>\n",
       "      <td>[1.1642639979821048, 0.05742881287671712]</td>\n",
       "      <td>{'Esophagus_Muscularis': 0.0318781600881541, '...</td>\n",
       "      <td>47</td>\n",
       "      <td>48</td>\n",
       "      <td>14</td>\n",
       "      <td>13</td>\n",
       "    </tr>\n",
       "  </tbody>\n",
       "</table>\n",
       "</div>"
      ],
      "text/plain": [
       "                gene_name                                             tissue  \\\n",
       "gene_id                                                                        \n",
       "ENSG00000000419      DPM1       (Brain_Substantia_nigra, Brain_Hypothalamus)   \n",
       "ENSG00000000938       FGR  (Brain_Cerebellum, Brain_Hippocampus, Spleen, ...   \n",
       "ENSG00000000971       CFH  (Brain_Cerebellum, Kidney_Cortex, Uterus, Brai...   \n",
       "ENSG00000001084      GCLC  (Brain_Cerebellum, Brain_Amygdala, Brain_Hippo...   \n",
       "ENSG00000001167      NFYA  (Brain_Cerebellum, Kidney_Cortex, Brain_Hippoc...   \n",
       "\n",
       "                 n_tissues                               tissues_pc_variances  \\\n",
       "gene_id                                                                         \n",
       "ENSG00000000419          2           [1.0442398458252409, 0.9557601541747592]   \n",
       "ENSG00000000938         36  [31.63266933637129, 2.078367751851144, 1.27161...   \n",
       "ENSG00000000971         34  [21.56076992568329, 7.310170987045463, 1.83778...   \n",
       "ENSG00000001084         32  [21.291939080546538, 4.699418748743195, 2.2489...   \n",
       "ENSG00000001167         40             [37.3356602954977, 1.3914019604538357]   \n",
       "\n",
       "                                          tissues_pc_variances_cov  \\\n",
       "gene_id                                                              \n",
       "ENSG00000000419     [0.013163142634155849, 0.00048574890347684763]   \n",
       "ENSG00000000938                               [0.1715948657078027]   \n",
       "ENSG00000000971  [0.2093060319587451, 0.058234347656008024, 0.0...   \n",
       "ENSG00000001084  [0.39430527375123775, 0.11627488888534836, 0.0...   \n",
       "ENSG00000001167          [1.1642639979821048, 0.05742881287671712]   \n",
       "\n",
       "                                                 tissues_variances  \\\n",
       "gene_id                                                              \n",
       "ENSG00000000419  {'Brain_Hypothalamus': 0.013162153504206677, '...   \n",
       "ENSG00000000938  {'Esophagus_Muscularis': 0.006536602044478473,...   \n",
       "ENSG00000000971  {'Esophagus_Muscularis': 0.01739410990047228, ...   \n",
       "ENSG00000001084  {'Thyroid': 0.009654918580686024, 'Brain_Corte...   \n",
       "ENSG00000001167  {'Esophagus_Muscularis': 0.0318781600881541, '...   \n",
       "\n",
       "                 n_snps_used_sum  n_snps_in_model_sum  unique_n_snps_in_model  \\\n",
       "gene_id                                                                         \n",
       "ENSG00000000419                2                    2                       2   \n",
       "ENSG00000000938               40                   40                       5   \n",
       "ENSG00000000971               44                   44                      12   \n",
       "ENSG00000001084               46                   46                      23   \n",
       "ENSG00000001167               47                   48                      14   \n",
       "\n",
       "                 unique_n_snps_used  \n",
       "gene_id                              \n",
       "ENSG00000000419                   2  \n",
       "ENSG00000000938                   5  \n",
       "ENSG00000000971                  12  \n",
       "ENSG00000001084                  23  \n",
       "ENSG00000001167                  13  "
      ]
     },
     "execution_count": 17,
     "metadata": {},
     "output_type": "execute_result"
    }
   ],
   "source": [
    "spredixcan_genes_models.head()"
   ]
  },
  {
   "cell_type": "code",
   "execution_count": 18,
   "id": "d1c11bb1-be0b-4f40-b360-633d6827109f",
   "metadata": {
    "execution": {
     "iopub.execute_input": "2022-08-03T02:17:26.383119Z",
     "iopub.status.busy": "2022-08-03T02:17:26.382900Z",
     "iopub.status.idle": "2022-08-03T02:17:26.448700Z",
     "shell.execute_reply": "2022-08-03T02:17:26.448237Z"
    },
    "papermill": {
     "duration": 0.089254,
     "end_time": "2022-08-03T02:17:26.450259",
     "exception": false,
     "start_time": "2022-08-03T02:17:26.361005",
     "status": "completed"
    },
    "tags": []
   },
   "outputs": [],
   "source": [
    "assert spredixcan_genes_models.index.is_unique"
   ]
  },
  {
   "cell_type": "markdown",
   "id": "a5b5092c-a13e-47c4-a92a-480fcc08f3ae",
   "metadata": {
    "papermill": {
     "duration": 0.047022,
     "end_time": "2022-08-03T02:17:26.516860",
     "exception": false,
     "start_time": "2022-08-03T02:17:26.469838",
     "status": "completed"
    },
    "tags": []
   },
   "source": [
    "## Gene info"
   ]
  },
  {
   "cell_type": "code",
   "execution_count": 19,
   "id": "7d6bb224-88e9-4358-ac10-43a41d92cdad",
   "metadata": {
    "execution": {
     "iopub.execute_input": "2022-08-03T02:17:26.579411Z",
     "iopub.status.busy": "2022-08-03T02:17:26.579137Z",
     "iopub.status.idle": "2022-08-03T02:17:26.685046Z",
     "shell.execute_reply": "2022-08-03T02:17:26.684527Z"
    },
    "papermill": {
     "duration": 0.148102,
     "end_time": "2022-08-03T02:17:26.686874",
     "exception": false,
     "start_time": "2022-08-03T02:17:26.538772",
     "status": "completed"
    },
    "tags": []
   },
   "outputs": [],
   "source": [
    "genes_info = pd.read_pickle(OUTPUT_DIR_BASE / \"genes_info.pkl\")"
   ]
  },
  {
   "cell_type": "code",
   "execution_count": 20,
   "id": "9e32abfa-546d-483e-8c18-d526e9e05903",
   "metadata": {
    "execution": {
     "iopub.execute_input": "2022-08-03T02:17:26.752068Z",
     "iopub.status.busy": "2022-08-03T02:17:26.751719Z",
     "iopub.status.idle": "2022-08-03T02:17:26.912379Z",
     "shell.execute_reply": "2022-08-03T02:17:26.911865Z"
    },
    "papermill": {
     "duration": 0.187988,
     "end_time": "2022-08-03T02:17:26.913930",
     "exception": false,
     "start_time": "2022-08-03T02:17:26.725942",
     "status": "completed"
    },
    "tags": []
   },
   "outputs": [
    {
     "data": {
      "text/plain": [
       "(6444, 7)"
      ]
     },
     "execution_count": 20,
     "metadata": {},
     "output_type": "execute_result"
    }
   ],
   "source": [
    "genes_info.shape"
   ]
  },
  {
   "cell_type": "code",
   "execution_count": 21,
   "id": "d16c3e92-85ec-468a-9a56-e25a9774a1cb",
   "metadata": {
    "execution": {
     "iopub.execute_input": "2022-08-03T02:17:26.990325Z",
     "iopub.status.busy": "2022-08-03T02:17:26.989973Z",
     "iopub.status.idle": "2022-08-03T02:17:27.067960Z",
     "shell.execute_reply": "2022-08-03T02:17:27.067292Z"
    },
    "papermill": {
     "duration": 0.109648,
     "end_time": "2022-08-03T02:17:27.070063",
     "exception": false,
     "start_time": "2022-08-03T02:17:26.960415",
     "status": "completed"
    },
    "tags": []
   },
   "outputs": [
    {
     "data": {
      "text/html": [
       "<div>\n",
       "<style scoped>\n",
       "    .dataframe tbody tr th:only-of-type {\n",
       "        vertical-align: middle;\n",
       "    }\n",
       "\n",
       "    .dataframe tbody tr th {\n",
       "        vertical-align: top;\n",
       "    }\n",
       "\n",
       "    .dataframe thead th {\n",
       "        text-align: right;\n",
       "    }\n",
       "</style>\n",
       "<table border=\"1\" class=\"dataframe\">\n",
       "  <thead>\n",
       "    <tr style=\"text-align: right;\">\n",
       "      <th></th>\n",
       "      <th>name</th>\n",
       "      <th>id</th>\n",
       "      <th>chr</th>\n",
       "      <th>band</th>\n",
       "      <th>start_position</th>\n",
       "      <th>end_position</th>\n",
       "      <th>gene_length</th>\n",
       "    </tr>\n",
       "  </thead>\n",
       "  <tbody>\n",
       "    <tr>\n",
       "      <th>0</th>\n",
       "      <td>HEYL</td>\n",
       "      <td>ENSG00000163909</td>\n",
       "      <td>1</td>\n",
       "      <td>1p34.2</td>\n",
       "      <td>39623435.0</td>\n",
       "      <td>39639643.0</td>\n",
       "      <td>16208.0</td>\n",
       "    </tr>\n",
       "    <tr>\n",
       "      <th>1</th>\n",
       "      <td>CYP24A1</td>\n",
       "      <td>ENSG00000019186</td>\n",
       "      <td>20</td>\n",
       "      <td>20q13.2</td>\n",
       "      <td>54153446.0</td>\n",
       "      <td>54173986.0</td>\n",
       "      <td>20540.0</td>\n",
       "    </tr>\n",
       "    <tr>\n",
       "      <th>2</th>\n",
       "      <td>ITGB4</td>\n",
       "      <td>ENSG00000132470</td>\n",
       "      <td>17</td>\n",
       "      <td>17q25.1</td>\n",
       "      <td>75721328.0</td>\n",
       "      <td>75757818.0</td>\n",
       "      <td>36490.0</td>\n",
       "    </tr>\n",
       "    <tr>\n",
       "      <th>3</th>\n",
       "      <td>SPINT1</td>\n",
       "      <td>ENSG00000166145</td>\n",
       "      <td>15</td>\n",
       "      <td>15q15.1</td>\n",
       "      <td>40844018.0</td>\n",
       "      <td>40858207.0</td>\n",
       "      <td>14189.0</td>\n",
       "    </tr>\n",
       "    <tr>\n",
       "      <th>4</th>\n",
       "      <td>PCSK6</td>\n",
       "      <td>ENSG00000140479</td>\n",
       "      <td>15</td>\n",
       "      <td>15q26.3</td>\n",
       "      <td>101297142.0</td>\n",
       "      <td>101525202.0</td>\n",
       "      <td>228060.0</td>\n",
       "    </tr>\n",
       "  </tbody>\n",
       "</table>\n",
       "</div>"
      ],
      "text/plain": [
       "      name               id chr     band  start_position  end_position  \\\n",
       "0     HEYL  ENSG00000163909   1   1p34.2      39623435.0    39639643.0   \n",
       "1  CYP24A1  ENSG00000019186  20  20q13.2      54153446.0    54173986.0   \n",
       "2    ITGB4  ENSG00000132470  17  17q25.1      75721328.0    75757818.0   \n",
       "3   SPINT1  ENSG00000166145  15  15q15.1      40844018.0    40858207.0   \n",
       "4    PCSK6  ENSG00000140479  15  15q26.3     101297142.0   101525202.0   \n",
       "\n",
       "   gene_length  \n",
       "0      16208.0  \n",
       "1      20540.0  \n",
       "2      36490.0  \n",
       "3      14189.0  \n",
       "4     228060.0  "
      ]
     },
     "execution_count": 21,
     "metadata": {},
     "output_type": "execute_result"
    }
   ],
   "source": [
    "genes_info.head()"
   ]
  },
  {
   "cell_type": "markdown",
   "id": "d3843e06",
   "metadata": {
    "papermill": {
     "duration": 0.020925,
     "end_time": "2022-08-03T02:17:27.114507",
     "exception": false,
     "start_time": "2022-08-03T02:17:27.093582",
     "status": "completed"
    },
    "tags": []
   },
   "source": [
    "# Compute correlations"
   ]
  },
  {
   "cell_type": "code",
   "execution_count": 22,
   "id": "cb859c15-d1f3-4006-a74c-2b83c0db9611",
   "metadata": {
    "execution": {
     "iopub.execute_input": "2022-08-03T02:17:27.183842Z",
     "iopub.status.busy": "2022-08-03T02:17:27.183362Z",
     "iopub.status.idle": "2022-08-03T02:17:27.296744Z",
     "shell.execute_reply": "2022-08-03T02:17:27.296070Z"
    },
    "papermill": {
     "duration": 0.148178,
     "end_time": "2022-08-03T02:17:27.298756",
     "exception": false,
     "start_time": "2022-08-03T02:17:27.150578",
     "status": "completed"
    },
    "tags": []
   },
   "outputs": [
    {
     "data": {
      "text/plain": [
       "PosixPath('/project/ritchie20/projects/phenoplier/base/results/gls/gene_corrs/cohorts/1000g_eur/gtex_v8/mashr/by_chr/gene_corrs-chr21.pkl')"
      ]
     },
     "metadata": {},
     "output_type": "display_data"
    }
   ],
   "source": [
    "output_dir = OUTPUT_DIR_BASE / \"by_chr\"\n",
    "output_dir.mkdir(exist_ok=True, parents=True)\n",
    "output_file = output_dir / f\"gene_corrs-chr{CHROMOSOME}.pkl\"\n",
    "display(output_file)"
   ]
  },
  {
   "cell_type": "code",
   "execution_count": 23,
   "id": "aa674fe4-6794-4eed-98fa-32b39d1d4ace",
   "metadata": {
    "execution": {
     "iopub.execute_input": "2022-08-03T02:17:27.363191Z",
     "iopub.status.busy": "2022-08-03T02:17:27.362954Z",
     "iopub.status.idle": "2022-08-03T02:17:27.442542Z",
     "shell.execute_reply": "2022-08-03T02:17:27.441836Z"
    },
    "papermill": {
     "duration": 0.105549,
     "end_time": "2022-08-03T02:17:27.444904",
     "exception": false,
     "start_time": "2022-08-03T02:17:27.339355",
     "status": "completed"
    },
    "tags": []
   },
   "outputs": [],
   "source": [
    "warnings.filterwarnings(\"error\")"
   ]
  },
  {
   "cell_type": "code",
   "execution_count": 24,
   "id": "44d5450b-3baf-43f1-9e2e-4b06f1a785f8",
   "metadata": {
    "execution": {
     "iopub.execute_input": "2022-08-03T02:17:27.512318Z",
     "iopub.status.busy": "2022-08-03T02:17:27.512067Z",
     "iopub.status.idle": "2022-08-03T02:17:27.598827Z",
     "shell.execute_reply": "2022-08-03T02:17:27.598035Z"
    },
    "papermill": {
     "duration": 0.115317,
     "end_time": "2022-08-03T02:17:27.601384",
     "exception": false,
     "start_time": "2022-08-03T02:17:27.486067",
     "status": "completed"
    },
    "tags": []
   },
   "outputs": [],
   "source": [
    "# standard checks\n",
    "all_chrs = genes_info[\"chr\"].dropna().unique()\n",
    "assert all_chrs.shape[0] == 22\n",
    "\n",
    "# select chromosome given by the user\n",
    "assert CHROMOSOME in all_chrs"
   ]
  },
  {
   "cell_type": "code",
   "execution_count": 25,
   "id": "2d7c043c-92a7-4d35-991b-fa69ac1e0268",
   "metadata": {
    "execution": {
     "iopub.execute_input": "2022-08-03T02:17:27.688242Z",
     "iopub.status.busy": "2022-08-03T02:17:27.687974Z",
     "iopub.status.idle": "2022-08-03T02:17:27.759023Z",
     "shell.execute_reply": "2022-08-03T02:17:27.758488Z"
    },
    "papermill": {
     "duration": 0.109099,
     "end_time": "2022-08-03T02:17:27.760605",
     "exception": false,
     "start_time": "2022-08-03T02:17:27.651506",
     "status": "completed"
    },
    "tags": []
   },
   "outputs": [
    {
     "name": "stdout",
     "output_type": "stream",
     "text": [
      "Number of genes in chromosome: 62\n"
     ]
    }
   ],
   "source": [
    "# run only on the chromosome specified\n",
    "all_chrs = [CHROMOSOME]\n",
    "genes_chr = genes_info[genes_info[\"chr\"] == CHROMOSOME]\n",
    "\n",
    "# For testing purposes\n",
    "# genes_chr = genes_chr.sample(n=20)\n",
    "\n",
    "print(f\"Number of genes in chromosome: {genes_chr.shape[0]}\", flush=True)"
   ]
  },
  {
   "cell_type": "code",
   "execution_count": 26,
   "id": "916015d8-2979-46d3-a9b9-1cf5a0932c6a",
   "metadata": {
    "execution": {
     "iopub.execute_input": "2022-08-03T02:17:27.813850Z",
     "iopub.status.busy": "2022-08-03T02:17:27.813647Z",
     "iopub.status.idle": "2022-08-03T02:17:27.881827Z",
     "shell.execute_reply": "2022-08-03T02:17:27.881384Z"
    },
    "papermill": {
     "duration": 0.088445,
     "end_time": "2022-08-03T02:17:27.883429",
     "exception": false,
     "start_time": "2022-08-03T02:17:27.794984",
     "status": "completed"
    },
    "tags": []
   },
   "outputs": [],
   "source": [
    "# sort genes by starting position to make visualizations better later\n",
    "genes_chr = genes_chr.sort_values(\"start_position\")"
   ]
  },
  {
   "cell_type": "code",
   "execution_count": 27,
   "id": "a38aa74a-8ad3-47f6-8ef9-56be0e011774",
   "metadata": {
    "execution": {
     "iopub.execute_input": "2022-08-03T02:17:27.940034Z",
     "iopub.status.busy": "2022-08-03T02:17:27.939830Z",
     "iopub.status.idle": "2022-08-03T02:17:27.988629Z",
     "shell.execute_reply": "2022-08-03T02:17:27.988197Z"
    },
    "papermill": {
     "duration": 0.070057,
     "end_time": "2022-08-03T02:17:27.990103",
     "exception": false,
     "start_time": "2022-08-03T02:17:27.920046",
     "status": "completed"
    },
    "tags": []
   },
   "outputs": [],
   "source": [
    "gene_chr_objs = [Gene(ensembl_id=gene_id) for gene_id in genes_chr[\"id\"]]"
   ]
  },
  {
   "cell_type": "code",
   "execution_count": 28,
   "id": "570f974f-13c3-42b6-ad3a-ce99ca885c1a",
   "metadata": {
    "execution": {
     "iopub.execute_input": "2022-08-03T02:17:28.028641Z",
     "iopub.status.busy": "2022-08-03T02:17:28.028440Z",
     "iopub.status.idle": "2022-08-03T02:17:28.081479Z",
     "shell.execute_reply": "2022-08-03T02:17:28.081045Z"
    },
    "papermill": {
     "duration": 0.072678,
     "end_time": "2022-08-03T02:17:28.082780",
     "exception": false,
     "start_time": "2022-08-03T02:17:28.010102",
     "status": "completed"
    },
    "tags": []
   },
   "outputs": [
    {
     "name": "stdout",
     "output_type": "stream",
     "text": [
      "Number of gene combinations: 1891\n"
     ]
    }
   ],
   "source": [
    "n = len(gene_chr_objs)\n",
    "n_comb = int(n * (n - 1) / 2.0)\n",
    "print(f\"Number of gene combinations: {n_comb}\", flush=True)"
   ]
  },
  {
   "cell_type": "code",
   "execution_count": 29,
   "id": "cdbb90a1",
   "metadata": {
    "execution": {
     "iopub.execute_input": "2022-08-03T02:17:28.140529Z",
     "iopub.status.busy": "2022-08-03T02:17:28.140337Z",
     "iopub.status.idle": "2022-08-03T02:19:43.868860Z",
     "shell.execute_reply": "2022-08-03T02:19:43.868238Z"
    },
    "papermill": {
     "duration": 135.769967,
     "end_time": "2022-08-03T02:19:43.870606",
     "exception": false,
     "start_time": "2022-08-03T02:17:28.100639",
     "status": "completed"
    },
    "tags": []
   },
   "outputs": [
    {
     "name": "stderr",
     "output_type": "stream",
     "text": [
      "ENSG00000160299 / ENSG00000160307: 100%|████████████████████████| 1891/1891 [02:15<00:00, 13.94it/s]\n"
     ]
    },
    {
     "data": {
      "text/plain": [
       "PosixPath('/project/ritchie20/projects/phenoplier/base/results/gls/gene_corrs/cohorts/1000g_eur/gtex_v8/mashr/by_chr/gene_corrs-chr21.pkl')"
      ]
     },
     "metadata": {},
     "output_type": "display_data"
    }
   ],
   "source": [
    "gene_corrs = []\n",
    "\n",
    "i = 0\n",
    "with tqdm(ncols=100, total=n_comb) as pbar:\n",
    "    for gene1_idx in range(0, len(gene_chr_objs) - 1):\n",
    "        gene1_obj = gene_chr_objs[gene1_idx]\n",
    "        gene1_tissues = spredixcan_genes_models.loc[gene1_obj.ensembl_id, \"tissue\"]\n",
    "\n",
    "        for gene2_idx in range(gene1_idx + 1, len(gene_chr_objs)):\n",
    "            gene2_obj = gene_chr_objs[gene2_idx]\n",
    "            gene2_tissues = spredixcan_genes_models.loc[gene2_obj.ensembl_id, \"tissue\"]\n",
    "\n",
    "            pbar.set_description(f\"{gene1_obj.ensembl_id} / {gene2_obj.ensembl_id}\")\n",
    "\n",
    "            try:\n",
    "                r = gene1_obj.get_ssm_correlation(\n",
    "                    other_gene=gene2_obj,\n",
    "                    tissues=gene1_tissues,\n",
    "                    other_tissues=gene2_tissues,\n",
    "                    snps_subset=gwas_variants_ids_set,\n",
    "                    condition_number=SMULTIXCAN_CONDITION_NUMBER,\n",
    "                    reference_panel=REFERENCE_PANEL,\n",
    "                    model_type=EQTL_MODEL,\n",
    "                    use_within_distance=COMPUTE_CORRELATIONS_WITHIN_DISTANCE,\n",
    "                )\n",
    "\n",
    "                if r is None:\n",
    "                    # if r is None, it's very likely because:\n",
    "                    #  * one of the genes has no prediction models\n",
    "                    #  * all the SNPs predictors for the gene are not present in the reference\n",
    "                    #    panel\n",
    "\n",
    "                    r = 0.0\n",
    "\n",
    "                gene_corrs.append(r)\n",
    "            except Warning as e:\n",
    "                if not DEBUG_MODE:\n",
    "                    raise e\n",
    "\n",
    "                print(\n",
    "                    f\"RuntimeWarning for genes {gene1_obj.ensembl_id} and {gene2_obj.ensembl_id}\",\n",
    "                    flush=True,\n",
    "                )\n",
    "                print(traceback.format_exc(), flush=True)\n",
    "\n",
    "                gene_corrs.append(np.nan)\n",
    "            except Exception as e:\n",
    "                if not DEBUG_MODE:\n",
    "                    raise e\n",
    "\n",
    "                print(\n",
    "                    f\"Exception for genes {gene1_obj.ensembl_id} and {gene2_obj.ensembl_id}\",\n",
    "                    flush=True,\n",
    "                )\n",
    "                print(traceback.format_exc(), flush=True)\n",
    "\n",
    "                gene_corrs.append(np.nan)\n",
    "\n",
    "            pbar.update(1)\n",
    "\n",
    "# create a pandas series\n",
    "gene_corrs_flat = pd.Series(gene_corrs)\n",
    "\n",
    "# save\n",
    "# FIXME: consider saving only the condenced matrix here. See here for\n",
    "# more details: https://github.com/greenelab/phenoplier/pull/38#discussion_r634600813\n",
    "gene_corrs_data = squareform(np.array(gene_corrs, dtype=np.float64))\n",
    "np.fill_diagonal(gene_corrs_data, 1.0)\n",
    "\n",
    "gene_chr_ids = [g.ensembl_id for g in gene_chr_objs]\n",
    "gene_corrs_df = pd.DataFrame(\n",
    "    data=gene_corrs_data,\n",
    "    index=gene_chr_ids,\n",
    "    columns=gene_chr_ids,\n",
    ")\n",
    "\n",
    "output_dir.mkdir(exist_ok=True, parents=True)\n",
    "display(output_file)\n",
    "\n",
    "gene_corrs_df.to_pickle(output_file)"
   ]
  },
  {
   "cell_type": "markdown",
   "id": "faa67b51-5373-470f-aa72-2ded53fa6dfe",
   "metadata": {
    "papermill": {
     "duration": 0.102549,
     "end_time": "2022-08-03T02:19:44.077364",
     "exception": false,
     "start_time": "2022-08-03T02:19:43.974815",
     "status": "completed"
    },
    "tags": []
   },
   "source": [
    "# Testing"
   ]
  },
  {
   "cell_type": "code",
   "execution_count": 30,
   "id": "14f7d046-4b55-4896-a56b-990127bcc388",
   "metadata": {
    "execution": {
     "iopub.execute_input": "2022-08-03T02:19:44.326845Z",
     "iopub.status.busy": "2022-08-03T02:19:44.326585Z",
     "iopub.status.idle": "2022-08-03T02:19:44.584276Z",
     "shell.execute_reply": "2022-08-03T02:19:44.583843Z"
    },
    "papermill": {
     "duration": 0.406574,
     "end_time": "2022-08-03T02:19:44.585640",
     "exception": false,
     "start_time": "2022-08-03T02:19:44.179066",
     "status": "completed"
    },
    "tags": []
   },
   "outputs": [
    {
     "data": {
      "text/plain": [
       "(62, 62)"
      ]
     },
     "execution_count": 30,
     "metadata": {},
     "output_type": "execute_result"
    }
   ],
   "source": [
    "gene_corrs_df.shape"
   ]
  },
  {
   "cell_type": "code",
   "execution_count": 31,
   "id": "c7d15414-3297-4537-a7c6-7588c0baeb75",
   "metadata": {
    "execution": {
     "iopub.execute_input": "2022-08-03T02:19:44.792593Z",
     "iopub.status.busy": "2022-08-03T02:19:44.792317Z",
     "iopub.status.idle": "2022-08-03T02:19:44.824775Z",
     "shell.execute_reply": "2022-08-03T02:19:44.824352Z"
    },
    "papermill": {
     "duration": 0.137642,
     "end_time": "2022-08-03T02:19:44.826082",
     "exception": false,
     "start_time": "2022-08-03T02:19:44.688440",
     "status": "completed"
    },
    "tags": []
   },
   "outputs": [
    {
     "data": {
      "text/html": [
       "<div>\n",
       "<style scoped>\n",
       "    .dataframe tbody tr th:only-of-type {\n",
       "        vertical-align: middle;\n",
       "    }\n",
       "\n",
       "    .dataframe tbody tr th {\n",
       "        vertical-align: top;\n",
       "    }\n",
       "\n",
       "    .dataframe thead th {\n",
       "        text-align: right;\n",
       "    }\n",
       "</style>\n",
       "<table border=\"1\" class=\"dataframe\">\n",
       "  <thead>\n",
       "    <tr style=\"text-align: right;\">\n",
       "      <th></th>\n",
       "      <th>ENSG00000155307</th>\n",
       "      <th>ENSG00000180530</th>\n",
       "      <th>ENSG00000154719</th>\n",
       "      <th>ENSG00000154721</th>\n",
       "      <th>ENSG00000154723</th>\n",
       "      <th>ENSG00000142192</th>\n",
       "      <th>ENSG00000154734</th>\n",
       "      <th>ENSG00000156261</th>\n",
       "      <th>ENSG00000171189</th>\n",
       "      <th>ENSG00000156299</th>\n",
       "      <th>...</th>\n",
       "      <th>ENSG00000160255</th>\n",
       "      <th>ENSG00000197381</th>\n",
       "      <th>ENSG00000182871</th>\n",
       "      <th>ENSG00000173638</th>\n",
       "      <th>ENSG00000142156</th>\n",
       "      <th>ENSG00000142173</th>\n",
       "      <th>ENSG00000160282</th>\n",
       "      <th>ENSG00000160285</th>\n",
       "      <th>ENSG00000160299</th>\n",
       "      <th>ENSG00000160307</th>\n",
       "    </tr>\n",
       "  </thead>\n",
       "  <tbody>\n",
       "    <tr>\n",
       "      <th>ENSG00000155307</th>\n",
       "      <td>1.000000</td>\n",
       "      <td>0.005178</td>\n",
       "      <td>0.004880</td>\n",
       "      <td>0.003141</td>\n",
       "      <td>0.005415</td>\n",
       "      <td>0.005186</td>\n",
       "      <td>0.003721</td>\n",
       "      <td>0.002872</td>\n",
       "      <td>0.006022</td>\n",
       "      <td>0.005140</td>\n",
       "      <td>...</td>\n",
       "      <td>0.013646</td>\n",
       "      <td>0.009796</td>\n",
       "      <td>0.008700</td>\n",
       "      <td>0.012405</td>\n",
       "      <td>0.009493</td>\n",
       "      <td>0.009552</td>\n",
       "      <td>0.008362</td>\n",
       "      <td>0.006249</td>\n",
       "      <td>0.008688</td>\n",
       "      <td>0.008517</td>\n",
       "    </tr>\n",
       "    <tr>\n",
       "      <th>ENSG00000180530</th>\n",
       "      <td>0.005178</td>\n",
       "      <td>1.000000</td>\n",
       "      <td>0.004544</td>\n",
       "      <td>0.006682</td>\n",
       "      <td>0.008033</td>\n",
       "      <td>0.008056</td>\n",
       "      <td>0.008561</td>\n",
       "      <td>0.002112</td>\n",
       "      <td>0.004616</td>\n",
       "      <td>0.009805</td>\n",
       "      <td>...</td>\n",
       "      <td>0.008660</td>\n",
       "      <td>0.011084</td>\n",
       "      <td>0.013233</td>\n",
       "      <td>0.014953</td>\n",
       "      <td>0.012049</td>\n",
       "      <td>0.010289</td>\n",
       "      <td>0.005715</td>\n",
       "      <td>0.006857</td>\n",
       "      <td>0.006533</td>\n",
       "      <td>0.008145</td>\n",
       "    </tr>\n",
       "    <tr>\n",
       "      <th>ENSG00000154719</th>\n",
       "      <td>0.004880</td>\n",
       "      <td>0.004544</td>\n",
       "      <td>1.000000</td>\n",
       "      <td>0.423625</td>\n",
       "      <td>0.151819</td>\n",
       "      <td>0.013556</td>\n",
       "      <td>0.006876</td>\n",
       "      <td>0.003509</td>\n",
       "      <td>0.000581</td>\n",
       "      <td>0.012442</td>\n",
       "      <td>...</td>\n",
       "      <td>0.006062</td>\n",
       "      <td>0.011233</td>\n",
       "      <td>0.008460</td>\n",
       "      <td>0.011899</td>\n",
       "      <td>0.008213</td>\n",
       "      <td>0.012071</td>\n",
       "      <td>0.004726</td>\n",
       "      <td>0.007143</td>\n",
       "      <td>0.006077</td>\n",
       "      <td>0.006459</td>\n",
       "    </tr>\n",
       "    <tr>\n",
       "      <th>ENSG00000154721</th>\n",
       "      <td>0.003141</td>\n",
       "      <td>0.006682</td>\n",
       "      <td>0.423625</td>\n",
       "      <td>1.000000</td>\n",
       "      <td>0.347390</td>\n",
       "      <td>0.012909</td>\n",
       "      <td>0.006788</td>\n",
       "      <td>0.003180</td>\n",
       "      <td>0.001469</td>\n",
       "      <td>0.008599</td>\n",
       "      <td>...</td>\n",
       "      <td>0.008081</td>\n",
       "      <td>0.007519</td>\n",
       "      <td>0.007651</td>\n",
       "      <td>0.009511</td>\n",
       "      <td>0.011769</td>\n",
       "      <td>0.013917</td>\n",
       "      <td>0.004619</td>\n",
       "      <td>0.004425</td>\n",
       "      <td>0.006521</td>\n",
       "      <td>0.006946</td>\n",
       "    </tr>\n",
       "    <tr>\n",
       "      <th>ENSG00000154723</th>\n",
       "      <td>0.005415</td>\n",
       "      <td>0.008033</td>\n",
       "      <td>0.151819</td>\n",
       "      <td>0.347390</td>\n",
       "      <td>1.000000</td>\n",
       "      <td>0.028369</td>\n",
       "      <td>0.005127</td>\n",
       "      <td>0.002333</td>\n",
       "      <td>0.002249</td>\n",
       "      <td>0.012492</td>\n",
       "      <td>...</td>\n",
       "      <td>0.010031</td>\n",
       "      <td>0.011980</td>\n",
       "      <td>0.011263</td>\n",
       "      <td>0.010536</td>\n",
       "      <td>0.011250</td>\n",
       "      <td>0.010151</td>\n",
       "      <td>0.006915</td>\n",
       "      <td>0.004478</td>\n",
       "      <td>0.009942</td>\n",
       "      <td>0.004872</td>\n",
       "    </tr>\n",
       "  </tbody>\n",
       "</table>\n",
       "<p>5 rows × 62 columns</p>\n",
       "</div>"
      ],
      "text/plain": [
       "                 ENSG00000155307  ENSG00000180530  ENSG00000154719  \\\n",
       "ENSG00000155307         1.000000         0.005178         0.004880   \n",
       "ENSG00000180530         0.005178         1.000000         0.004544   \n",
       "ENSG00000154719         0.004880         0.004544         1.000000   \n",
       "ENSG00000154721         0.003141         0.006682         0.423625   \n",
       "ENSG00000154723         0.005415         0.008033         0.151819   \n",
       "\n",
       "                 ENSG00000154721  ENSG00000154723  ENSG00000142192  \\\n",
       "ENSG00000155307         0.003141         0.005415         0.005186   \n",
       "ENSG00000180530         0.006682         0.008033         0.008056   \n",
       "ENSG00000154719         0.423625         0.151819         0.013556   \n",
       "ENSG00000154721         1.000000         0.347390         0.012909   \n",
       "ENSG00000154723         0.347390         1.000000         0.028369   \n",
       "\n",
       "                 ENSG00000154734  ENSG00000156261  ENSG00000171189  \\\n",
       "ENSG00000155307         0.003721         0.002872         0.006022   \n",
       "ENSG00000180530         0.008561         0.002112         0.004616   \n",
       "ENSG00000154719         0.006876         0.003509         0.000581   \n",
       "ENSG00000154721         0.006788         0.003180         0.001469   \n",
       "ENSG00000154723         0.005127         0.002333         0.002249   \n",
       "\n",
       "                 ENSG00000156299  ...  ENSG00000160255  ENSG00000197381  \\\n",
       "ENSG00000155307         0.005140  ...         0.013646         0.009796   \n",
       "ENSG00000180530         0.009805  ...         0.008660         0.011084   \n",
       "ENSG00000154719         0.012442  ...         0.006062         0.011233   \n",
       "ENSG00000154721         0.008599  ...         0.008081         0.007519   \n",
       "ENSG00000154723         0.012492  ...         0.010031         0.011980   \n",
       "\n",
       "                 ENSG00000182871  ENSG00000173638  ENSG00000142156  \\\n",
       "ENSG00000155307         0.008700         0.012405         0.009493   \n",
       "ENSG00000180530         0.013233         0.014953         0.012049   \n",
       "ENSG00000154719         0.008460         0.011899         0.008213   \n",
       "ENSG00000154721         0.007651         0.009511         0.011769   \n",
       "ENSG00000154723         0.011263         0.010536         0.011250   \n",
       "\n",
       "                 ENSG00000142173  ENSG00000160282  ENSG00000160285  \\\n",
       "ENSG00000155307         0.009552         0.008362         0.006249   \n",
       "ENSG00000180530         0.010289         0.005715         0.006857   \n",
       "ENSG00000154719         0.012071         0.004726         0.007143   \n",
       "ENSG00000154721         0.013917         0.004619         0.004425   \n",
       "ENSG00000154723         0.010151         0.006915         0.004478   \n",
       "\n",
       "                 ENSG00000160299  ENSG00000160307  \n",
       "ENSG00000155307         0.008688         0.008517  \n",
       "ENSG00000180530         0.006533         0.008145  \n",
       "ENSG00000154719         0.006077         0.006459  \n",
       "ENSG00000154721         0.006521         0.006946  \n",
       "ENSG00000154723         0.009942         0.004872  \n",
       "\n",
       "[5 rows x 62 columns]"
      ]
     },
     "execution_count": 31,
     "metadata": {},
     "output_type": "execute_result"
    }
   ],
   "source": [
    "gene_corrs_df.head()"
   ]
  },
  {
   "cell_type": "markdown",
   "id": "dad6603f-01c6-41fb-a6f6-241051207dd8",
   "metadata": {
    "papermill": {
     "duration": 0.10247,
     "end_time": "2022-08-03T02:19:45.032925",
     "exception": false,
     "start_time": "2022-08-03T02:19:44.930455",
     "status": "completed"
    },
    "tags": []
   },
   "source": [
    "## Standard checks and stats"
   ]
  },
  {
   "cell_type": "code",
   "execution_count": 32,
   "id": "286686af-1b7b-4440-8453-6bdcbd8de19c",
   "metadata": {
    "execution": {
     "iopub.execute_input": "2022-08-03T02:19:45.239552Z",
     "iopub.status.busy": "2022-08-03T02:19:45.238282Z",
     "iopub.status.idle": "2022-08-03T02:19:45.258371Z",
     "shell.execute_reply": "2022-08-03T02:19:45.257959Z"
    },
    "papermill": {
     "duration": 0.124358,
     "end_time": "2022-08-03T02:19:45.259758",
     "exception": false,
     "start_time": "2022-08-03T02:19:45.135400",
     "status": "completed"
    },
    "tags": []
   },
   "outputs": [],
   "source": [
    "assert not gene_corrs_df.isna().any().any()"
   ]
  },
  {
   "cell_type": "code",
   "execution_count": 33,
   "id": "00583efc-7068-4270-ad1e-4a418e91db96",
   "metadata": {
    "execution": {
     "iopub.execute_input": "2022-08-03T02:19:45.492778Z",
     "iopub.status.busy": "2022-08-03T02:19:45.492526Z",
     "iopub.status.idle": "2022-08-03T02:19:45.514312Z",
     "shell.execute_reply": "2022-08-03T02:19:45.513877Z"
    },
    "papermill": {
     "duration": 0.154529,
     "end_time": "2022-08-03T02:19:45.515597",
     "exception": false,
     "start_time": "2022-08-03T02:19:45.361068",
     "status": "completed"
    },
    "tags": []
   },
   "outputs": [
    {
     "data": {
      "text/plain": [
       "0.0005813800282471689"
      ]
     },
     "metadata": {},
     "output_type": "display_data"
    }
   ],
   "source": [
    "_min_val = gene_corrs_df.min().min()\n",
    "display(_min_val)\n",
    "assert _min_val >= 0.0"
   ]
  },
  {
   "cell_type": "code",
   "execution_count": 34,
   "id": "d04fb2cf-1050-475b-b855-f5f7cc04092b",
   "metadata": {
    "execution": {
     "iopub.execute_input": "2022-08-03T02:19:45.722657Z",
     "iopub.status.busy": "2022-08-03T02:19:45.722408Z",
     "iopub.status.idle": "2022-08-03T02:19:45.744417Z",
     "shell.execute_reply": "2022-08-03T02:19:45.743983Z"
    },
    "papermill": {
     "duration": 0.128232,
     "end_time": "2022-08-03T02:19:45.745733",
     "exception": false,
     "start_time": "2022-08-03T02:19:45.617501",
     "status": "completed"
    },
    "tags": []
   },
   "outputs": [
    {
     "data": {
      "text/plain": [
       "1.0"
      ]
     },
     "metadata": {},
     "output_type": "display_data"
    }
   ],
   "source": [
    "_max_val = gene_corrs_df.max().max()  # this captures the diagonal\n",
    "display(_max_val)\n",
    "assert _max_val <= 1.0"
   ]
  },
  {
   "cell_type": "code",
   "execution_count": 35,
   "id": "96d02c44-1fba-47be-8a93-8f2608420b9c",
   "metadata": {
    "execution": {
     "iopub.execute_input": "2022-08-03T02:19:45.954611Z",
     "iopub.status.busy": "2022-08-03T02:19:45.954346Z",
     "iopub.status.idle": "2022-08-03T02:19:45.973815Z",
     "shell.execute_reply": "2022-08-03T02:19:45.973373Z"
    },
    "papermill": {
     "duration": 0.124197,
     "end_time": "2022-08-03T02:19:45.975289",
     "exception": false,
     "start_time": "2022-08-03T02:19:45.851092",
     "status": "completed"
    },
    "tags": []
   },
   "outputs": [],
   "source": [
    "# check upper triangular values\n",
    "assert len(gene_corrs) == int(genes_chr.shape[0] * (genes_chr.shape[0] - 1) / 2)"
   ]
  },
  {
   "cell_type": "code",
   "execution_count": 36,
   "id": "fe283586-c348-40e0-8841-f6d97bfb021c",
   "metadata": {
    "execution": {
     "iopub.execute_input": "2022-08-03T02:19:46.181297Z",
     "iopub.status.busy": "2022-08-03T02:19:46.181044Z",
     "iopub.status.idle": "2022-08-03T02:19:46.205013Z",
     "shell.execute_reply": "2022-08-03T02:19:46.204579Z"
    },
    "papermill": {
     "duration": 0.12933,
     "end_time": "2022-08-03T02:19:46.206361",
     "exception": false,
     "start_time": "2022-08-03T02:19:46.077031",
     "status": "completed"
    },
    "tags": []
   },
   "outputs": [
    {
     "data": {
      "text/plain": [
       "count    1891.000000\n",
       "mean        0.013763\n",
       "std         0.039626\n",
       "min         0.000581\n",
       "25%         0.005790\n",
       "50%         0.007809\n",
       "75%         0.010445\n",
       "max         0.550538\n",
       "dtype: float64"
      ]
     },
     "execution_count": 36,
     "metadata": {},
     "output_type": "execute_result"
    }
   ],
   "source": [
    "gene_corrs_flat.describe()"
   ]
  },
  {
   "cell_type": "code",
   "execution_count": 37,
   "id": "b3815678-0f93-4b35-897b-a9d047a2aa78",
   "metadata": {
    "execution": {
     "iopub.execute_input": "2022-08-03T02:19:46.445301Z",
     "iopub.status.busy": "2022-08-03T02:19:46.445054Z",
     "iopub.status.idle": "2022-08-03T02:19:46.468299Z",
     "shell.execute_reply": "2022-08-03T02:19:46.467835Z"
    },
    "papermill": {
     "duration": 0.158959,
     "end_time": "2022-08-03T02:19:46.469734",
     "exception": false,
     "start_time": "2022-08-03T02:19:46.310775",
     "status": "completed"
    },
    "tags": []
   },
   "outputs": [
    {
     "data": {
      "text/plain": [
       "0.00    0.000581\n",
       "0.05    0.003235\n",
       "0.10    0.004137\n",
       "0.15    0.004740\n",
       "0.20    0.005186\n",
       "0.25    0.005790\n",
       "0.30    0.006218\n",
       "0.35    0.006656\n",
       "0.40    0.007049\n",
       "0.45    0.007470\n",
       "0.50    0.007809\n",
       "0.55    0.008186\n",
       "0.60    0.008600\n",
       "0.65    0.009089\n",
       "0.70    0.009650\n",
       "0.75    0.010445\n",
       "0.80    0.011250\n",
       "0.85    0.012199\n",
       "0.90    0.013660\n",
       "0.95    0.018363\n",
       "dtype: float64"
      ]
     },
     "metadata": {},
     "output_type": "display_data"
    }
   ],
   "source": [
    "gene_corrs_quantiles = gene_corrs_flat.quantile(np.arange(0, 1, 0.05))\n",
    "display(gene_corrs_quantiles)"
   ]
  },
  {
   "cell_type": "markdown",
   "id": "87134509-b145-4a10-8bc9-b7e914c2b0fa",
   "metadata": {
    "papermill": {
     "duration": 0.105474,
     "end_time": "2022-08-03T02:19:46.679287",
     "exception": false,
     "start_time": "2022-08-03T02:19:46.573813",
     "status": "completed"
    },
    "tags": []
   },
   "source": [
    "## Positive definiteness"
   ]
  },
  {
   "cell_type": "code",
   "execution_count": 38,
   "id": "07d9a9a1-a4f7-48aa-b916-6d42a8cc6186",
   "metadata": {
    "execution": {
     "iopub.execute_input": "2022-08-03T02:19:46.886356Z",
     "iopub.status.busy": "2022-08-03T02:19:46.886102Z",
     "iopub.status.idle": "2022-08-03T02:19:46.909584Z",
     "shell.execute_reply": "2022-08-03T02:19:46.909126Z"
    },
    "papermill": {
     "duration": 0.128246,
     "end_time": "2022-08-03T02:19:46.910902",
     "exception": false,
     "start_time": "2022-08-03T02:19:46.782656",
     "status": "completed"
    },
    "tags": []
   },
   "outputs": [
    {
     "data": {
      "text/plain": [
       "0"
      ]
     },
     "metadata": {},
     "output_type": "display_data"
    },
    {
     "data": {
      "text/plain": [
       "array([], dtype=float64)"
      ]
     },
     "metadata": {},
     "output_type": "display_data"
    }
   ],
   "source": [
    "# print negative eigenvalues\n",
    "eigs = np.linalg.eigvals(gene_corrs_df.to_numpy())\n",
    "display(len(eigs[eigs < 0]))\n",
    "display(eigs[eigs < 0])"
   ]
  },
  {
   "cell_type": "code",
   "execution_count": 39,
   "id": "6e218436-c3c5-4028-8c94-a4fa6260efce",
   "metadata": {
    "execution": {
     "iopub.execute_input": "2022-08-03T02:19:47.116481Z",
     "iopub.status.busy": "2022-08-03T02:19:47.116203Z",
     "iopub.status.idle": "2022-08-03T02:19:47.137928Z",
     "shell.execute_reply": "2022-08-03T02:19:47.137488Z"
    },
    "papermill": {
     "duration": 0.127268,
     "end_time": "2022-08-03T02:19:47.139261",
     "exception": false,
     "start_time": "2022-08-03T02:19:47.011993",
     "status": "completed"
    },
    "tags": []
   },
   "outputs": [
    {
     "name": "stdout",
     "output_type": "stream",
     "text": [
      "Works!\n"
     ]
    }
   ],
   "source": [
    "try:\n",
    "    chol_mat = np.linalg.cholesky(gene_corrs_df.to_numpy())\n",
    "    cov_inv = np.linalg.inv(chol_mat)\n",
    "    print(\"Works!\")\n",
    "except:\n",
    "    print(\"Cholesky decomposition failed\")"
   ]
  },
  {
   "cell_type": "markdown",
   "id": "8e60a080-edb2-4e9c-b2ef-22961693200c",
   "metadata": {
    "papermill": {
     "duration": 0.140381,
     "end_time": "2022-08-03T02:19:47.381661",
     "exception": false,
     "start_time": "2022-08-03T02:19:47.241280",
     "status": "completed"
    },
    "tags": []
   },
   "source": [
    "## Plot: distribution"
   ]
  },
  {
   "cell_type": "code",
   "execution_count": 40,
   "id": "8301126b-a7d4-4744-9c7d-f0f86eb6f54c",
   "metadata": {
    "execution": {
     "iopub.execute_input": "2022-08-03T02:19:47.585716Z",
     "iopub.status.busy": "2022-08-03T02:19:47.585466Z",
     "iopub.status.idle": "2022-08-03T02:19:49.321551Z",
     "shell.execute_reply": "2022-08-03T02:19:49.321082Z"
    },
    "papermill": {
     "duration": 1.839963,
     "end_time": "2022-08-03T02:19:49.323013",
     "exception": false,
     "start_time": "2022-08-03T02:19:47.483050",
     "status": "completed"
    },
    "tags": []
   },
   "outputs": [
    {
     "data": {
      "image/png": "[encoded data removed]",
      "text/plain": [
       "<Figure size 504x504 with 1 Axes>"
      ]
     },
     "metadata": {
      "needs_background": "light"
     },
     "output_type": "display_data"
    }
   ],
   "source": [
    "with sns.plotting_context(\"paper\", font_scale=1.5):\n",
    "    g = sns.displot(gene_corrs_flat, kde=True, height=7)\n",
    "    g.ax.set_title(\n",
    "        f\"Distribution of gene correlation values in chromosome {CHROMOSOME}\"\n",
    "    )"
   ]
  },
  {
   "cell_type": "markdown",
   "id": "cbd52bca-d878-4a2f-b684-5c83aa3038d4",
   "metadata": {
    "papermill": {
     "duration": 0.101382,
     "end_time": "2022-08-03T02:19:49.530156",
     "exception": false,
     "start_time": "2022-08-03T02:19:49.428774",
     "status": "completed"
    },
    "tags": []
   },
   "source": [
    "## Plot: heatmap"
   ]
  },
  {
   "cell_type": "code",
   "execution_count": 41,
   "id": "d03fe63a-c7b2-4fb9-a53c-db362ce843c9",
   "metadata": {
    "execution": {
     "iopub.execute_input": "2022-08-03T02:19:49.734773Z",
     "iopub.status.busy": "2022-08-03T02:19:49.734514Z",
     "iopub.status.idle": "2022-08-03T02:19:49.756780Z",
     "shell.execute_reply": "2022-08-03T02:19:49.756350Z"
    },
    "papermill": {
     "duration": 0.12649,
     "end_time": "2022-08-03T02:19:49.758113",
     "exception": false,
     "start_time": "2022-08-03T02:19:49.631623",
     "status": "completed"
    },
    "tags": []
   },
   "outputs": [
    {
     "data": {
      "text/plain": [
       "'0.0 / 0.05'"
      ]
     },
     "metadata": {},
     "output_type": "display_data"
    }
   ],
   "source": [
    "vmin_val = min(0.00, gene_corrs_quantiles[0.10])\n",
    "vmax_val = max(0.05, gene_corrs_quantiles[0.90])\n",
    "display(f\"{vmin_val} / {vmax_val}\")"
   ]
  },
  {
   "cell_type": "code",
   "execution_count": 42,
   "id": "dc41b70b-5bcc-4d9e-9f33-a22c4a94dab5",
   "metadata": {
    "execution": {
     "iopub.execute_input": "2022-08-03T02:19:49.993709Z",
     "iopub.status.busy": "2022-08-03T02:19:49.993446Z",
     "iopub.status.idle": "2022-08-03T02:19:50.123002Z",
     "shell.execute_reply": "2022-08-03T02:19:50.122577Z"
    },
    "papermill": {
     "duration": 0.234962,
     "end_time": "2022-08-03T02:19:50.124299",
     "exception": false,
     "start_time": "2022-08-03T02:19:49.889337",
     "status": "completed"
    },
    "tags": []
   },
   "outputs": [
    {
     "data": {
      "text/plain": [
       "Text(0.5, 1.0, 'Gene correlations in chromosome 21')"
      ]
     },
     "execution_count": 42,
     "metadata": {},
     "output_type": "execute_result"
    },
    {
     "data": {
      "image/png": "[encoded data removed]",
      "text/plain": [
       "<Figure size 720x720 with 2 Axes>"
      ]
     },
     "metadata": {
      "needs_background": "light"
     },
     "output_type": "display_data"
    }
   ],
   "source": [
    "f, ax = plt.subplots(figsize=(10, 10))\n",
    "sns.heatmap(\n",
    "    gene_corrs_df,\n",
    "    xticklabels=False,\n",
    "    yticklabels=False,\n",
    "    square=True,\n",
    "    vmin=vmin_val,\n",
    "    vmax=vmax_val,\n",
    "    cmap=\"rocket_r\",\n",
    "    ax=ax,\n",
    ")\n",
    "ax.set_title(f\"Gene correlations in chromosome {CHROMOSOME}\")"
   ]
  },
  {
   "cell_type": "code",
   "execution_count": null,
   "id": "b25e3ead",
   "metadata": {
    "papermill": {
     "duration": 0.104109,
     "end_time": "2022-08-03T02:19:50.333772",
     "exception": false,
     "start_time": "2022-08-03T02:19:50.229663",
     "status": "completed"
    },
    "tags": []
   },
   "outputs": [],
   "source": []
  }
 ],
 "metadata": {
  "jupytext": {
   "cell_metadata_filter": "all,-execution,-papermill,-trusted",
   "formats": "ipynb,py//py:percent"
  },
  "kernelspec": {
   "display_name": "Python 3 (ipykernel)",
   "language": "python",
   "name": "python3"
  },
  "language_info": {
   "codemirror_mode": {
    "name": "ipython",
    "version": 3
   },
   "file_extension": ".py",
   "mimetype": "text/x-python",
   "name": "python",
   "nbconvert_exporter": "python",
   "pygments_lexer": "ipython3",
   "version": "3.8.13"
  },
  "papermill": {
   "default_parameters": {},
   "duration": 170.0736,
   "end_time": "2022-08-03T02:19:53.483626",
   "environment_variables": {},
   "exception": null,
   "input_path": "nbs/15_gsa_gls/10-gene_expr_correlations.ipynb",
   "output_path": "nbs/15_gsa_gls/gene_corrs/cohorts/1000g_eur/gtex_v8/mashr/10-gene_expr_correlations-chr21.run.ipynb",
   "parameters": {
    "CHROMOSOME": 21,
    "COHORT_NAME": "1000G_EUR",
    "EQTL_MODEL": "MASHR",
    "REFERENCE_PANEL": "GTEX_V8"
   },
   "start_time": "2022-08-03T02:17:03.410026",
   "version": "2.2.2"
  }
 },
 "nbformat": 4,
 "nbformat_minor": 5
}
