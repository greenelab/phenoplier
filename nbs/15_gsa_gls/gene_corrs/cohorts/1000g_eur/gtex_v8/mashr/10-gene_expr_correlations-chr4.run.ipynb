{
 "cells": [
  {
   "cell_type": "markdown",
   "id": "7a6632fb",
   "metadata": {
    "papermill": {
     "duration": 0.021536,
     "end_time": "2022-08-03T02:16:31.824538",
     "exception": false,
     "start_time": "2022-08-03T02:16:31.803002",
     "status": "completed"
    },
    "tags": []
   },
   "source": [
    "# Description"
   ]
  },
  {
   "cell_type": "markdown",
   "id": "7097c346",
   "metadata": {
    "papermill": {
     "duration": 0.056741,
     "end_time": "2022-08-03T02:16:31.899816",
     "exception": false,
     "start_time": "2022-08-03T02:16:31.843075",
     "status": "completed"
    },
    "tags": []
   },
   "source": [
    "(Please, take a look at the README.md file in this directory for instructions on how to run this notebook)\n",
    "\n",
    "This notebook computes predicted expression correlations between all genes in the MultiPLIER models.\n",
    "\n",
    "It also has a parameter set for papermill to run on a single chromosome to run in parallel (see under `Settings` below).\n",
    "\n",
    "This notebook is not directly run. See README.md."
   ]
  },
  {
   "cell_type": "markdown",
   "id": "c61d8427",
   "metadata": {
    "papermill": {
     "duration": 0.01208,
     "end_time": "2022-08-03T02:16:31.924260",
     "exception": false,
     "start_time": "2022-08-03T02:16:31.912180",
     "status": "completed"
    },
    "tags": []
   },
   "source": [
    "# Modules"
   ]
  },
  {
   "cell_type": "code",
   "execution_count": 1,
   "id": "bbc0234f",
   "metadata": {
    "execution": {
     "iopub.execute_input": "2022-08-03T02:16:31.950013Z",
     "iopub.status.busy": "2022-08-03T02:16:31.949667Z",
     "iopub.status.idle": "2022-08-03T02:16:32.020031Z",
     "shell.execute_reply": "2022-08-03T02:16:32.019569Z"
    },
    "papermill": {
     "duration": 0.086094,
     "end_time": "2022-08-03T02:16:32.021665",
     "exception": false,
     "start_time": "2022-08-03T02:16:31.935571",
     "status": "completed"
    },
    "tags": []
   },
   "outputs": [],
   "source": [
    "%load_ext autoreload\n",
    "%autoreload 2"
   ]
  },
  {
   "cell_type": "code",
   "execution_count": 2,
   "id": "1d5f5a59",
   "metadata": {
    "execution": {
     "iopub.execute_input": "2022-08-03T02:16:32.041980Z",
     "iopub.status.busy": "2022-08-03T02:16:32.041804Z",
     "iopub.status.idle": "2022-08-03T02:16:35.130438Z",
     "shell.execute_reply": "2022-08-03T02:16:35.129936Z"
    },
    "papermill": {
     "duration": 3.099746,
     "end_time": "2022-08-03T02:16:35.132239",
     "exception": false,
     "start_time": "2022-08-03T02:16:32.032493",
     "status": "completed"
    },
    "tags": []
   },
   "outputs": [],
   "source": [
    "from random import sample, seed\n",
    "import warnings\n",
    "from pathlib import Path\n",
    "import pickle\n",
    "import traceback\n",
    "\n",
    "import numpy as np\n",
    "from scipy.spatial.distance import squareform\n",
    "import pandas as pd\n",
    "from tqdm import tqdm\n",
    "import matplotlib.pyplot as plt\n",
    "import seaborn as sns\n",
    "\n",
    "import conf\n",
    "from entity import Gene"
   ]
  },
  {
   "cell_type": "markdown",
   "id": "1eac24b5",
   "metadata": {
    "papermill": {
     "duration": 0.00864,
     "end_time": "2022-08-03T02:16:35.150988",
     "exception": false,
     "start_time": "2022-08-03T02:16:35.142348",
     "status": "completed"
    },
    "tags": []
   },
   "source": [
    "# Settings"
   ]
  },
  {
   "cell_type": "code",
   "execution_count": 3,
   "id": "ca4560ba",
   "metadata": {
    "execution": {
     "iopub.execute_input": "2022-08-03T02:16:35.167016Z",
     "iopub.status.busy": "2022-08-03T02:16:35.166777Z",
     "iopub.status.idle": "2022-08-03T02:16:36.113469Z",
     "shell.execute_reply": "2022-08-03T02:16:36.112957Z"
    },
    "papermill": {
     "duration": 0.956906,
     "end_time": "2022-08-03T02:16:36.115211",
     "exception": false,
     "start_time": "2022-08-03T02:16:35.158305",
     "status": "completed"
    },
    "tags": [
     "parameters"
    ]
   },
   "outputs": [],
   "source": [
    "# a cohort name (it could be something like UK_BIOBANK, etc)\n",
    "COHORT_NAME = None\n",
    "\n",
    "# reference panel such as 1000G or GTEX_V8\n",
    "REFERENCE_PANEL = None\n",
    "\n",
    "# predictions models such as MASHR or ELASTIC_NET\n",
    "EQTL_MODEL = None\n",
    "\n",
    "# this is the default value used in S-MultiXcan to select the\n",
    "# top principal components of the expression correlation matrix\n",
    "SMULTIXCAN_CONDITION_NUMBER = 30\n",
    "\n",
    "# specifies a single chromosome value\n",
    "CHROMOSOME = None\n",
    "\n",
    "# If True, computes the correlation between closeby genes only;\n",
    "# otherwise, it computes correlations for all genes in a chromosome\n",
    "COMPUTE_CORRELATIONS_WITHIN_DISTANCE = False\n",
    "\n",
    "# if True, then it will continue if a gene pair correlation fails,\n",
    "# printing the warning/error for debugging. If False, any warning/error\n",
    "# will be thrown\n",
    "DEBUG_MODE = False"
   ]
  },
  {
   "cell_type": "code",
   "execution_count": 4,
   "id": "fa583e51",
   "metadata": {
    "execution": {
     "iopub.execute_input": "2022-08-03T02:16:36.140704Z",
     "iopub.status.busy": "2022-08-03T02:16:36.140513Z",
     "iopub.status.idle": "2022-08-03T02:16:36.165744Z",
     "shell.execute_reply": "2022-08-03T02:16:36.165373Z"
    },
    "papermill": {
     "duration": 0.040146,
     "end_time": "2022-08-03T02:16:36.167055",
     "exception": false,
     "start_time": "2022-08-03T02:16:36.126909",
     "status": "completed"
    },
    "tags": [
     "injected-parameters"
    ]
   },
   "outputs": [],
   "source": [
    "# Parameters\n",
    "COHORT_NAME = \"1000G_EUR\"\n",
    "REFERENCE_PANEL = \"GTEX_V8\"\n",
    "EQTL_MODEL = \"MASHR\"\n",
    "CHROMOSOME = 4\n"
   ]
  },
  {
   "cell_type": "code",
   "execution_count": 5,
   "id": "3190631f-27fc-480f-b18e-571d580425a5",
   "metadata": {
    "execution": {
     "iopub.execute_input": "2022-08-03T02:16:36.189121Z",
     "iopub.status.busy": "2022-08-03T02:16:36.188952Z",
     "iopub.status.idle": "2022-08-03T02:16:36.252028Z",
     "shell.execute_reply": "2022-08-03T02:16:36.251600Z"
    },
    "papermill": {
     "duration": 0.075602,
     "end_time": "2022-08-03T02:16:36.253606",
     "exception": false,
     "start_time": "2022-08-03T02:16:36.178004",
     "status": "completed"
    },
    "tags": []
   },
   "outputs": [
    {
     "data": {
      "text/plain": [
       "'Cohort name: 1000g_eur'"
      ]
     },
     "metadata": {},
     "output_type": "display_data"
    }
   ],
   "source": [
    "assert COHORT_NAME is not None and len(COHORT_NAME) > 0, \"A cohort name must be given\"\n",
    "\n",
    "COHORT_NAME = COHORT_NAME.lower()\n",
    "display(f\"Cohort name: {COHORT_NAME}\")"
   ]
  },
  {
   "cell_type": "code",
   "execution_count": 6,
   "id": "f53ba19b-0f93-4fa2-a047-63b375939d1a",
   "metadata": {
    "execution": {
     "iopub.execute_input": "2022-08-03T02:16:36.281223Z",
     "iopub.status.busy": "2022-08-03T02:16:36.281004Z",
     "iopub.status.idle": "2022-08-03T02:16:36.316956Z",
     "shell.execute_reply": "2022-08-03T02:16:36.316565Z"
    },
    "papermill": {
     "duration": 0.052234,
     "end_time": "2022-08-03T02:16:36.318197",
     "exception": false,
     "start_time": "2022-08-03T02:16:36.265963",
     "status": "completed"
    },
    "tags": []
   },
   "outputs": [
    {
     "data": {
      "text/plain": [
       "'Reference panel: GTEX_V8'"
      ]
     },
     "metadata": {},
     "output_type": "display_data"
    }
   ],
   "source": [
    "assert (\n",
    "    REFERENCE_PANEL is not None and len(REFERENCE_PANEL) > 0\n",
    "), \"A reference panel must be given\"\n",
    "\n",
    "display(f\"Reference panel: {REFERENCE_PANEL}\")"
   ]
  },
  {
   "cell_type": "code",
   "execution_count": 7,
   "id": "e024d130-c139-429a-9c6e-ccf149e297b0",
   "metadata": {
    "execution": {
     "iopub.execute_input": "2022-08-03T02:16:36.342662Z",
     "iopub.status.busy": "2022-08-03T02:16:36.342483Z",
     "iopub.status.idle": "2022-08-03T02:16:36.367313Z",
     "shell.execute_reply": "2022-08-03T02:16:36.366947Z"
    },
    "papermill": {
     "duration": 0.039795,
     "end_time": "2022-08-03T02:16:36.368461",
     "exception": false,
     "start_time": "2022-08-03T02:16:36.328666",
     "status": "completed"
    },
    "tags": []
   },
   "outputs": [
    {
     "data": {
      "text/plain": [
       "'eQTL model: MASHR) / mashr_'"
      ]
     },
     "metadata": {},
     "output_type": "display_data"
    }
   ],
   "source": [
    "assert (\n",
    "    EQTL_MODEL is not None and len(EQTL_MODEL) > 0\n",
    "), \"A prediction/eQTL model must be given\"\n",
    "\n",
    "EQTL_MODEL_FILES_PREFIX = conf.PHENOMEXCAN[\"PREDICTION_MODELS\"][f\"{EQTL_MODEL}_PREFIX\"]\n",
    "display(f\"eQTL model: {EQTL_MODEL}) / {EQTL_MODEL_FILES_PREFIX}\")"
   ]
  },
  {
   "cell_type": "code",
   "execution_count": 8,
   "id": "552a7f63-a18c-4d3e-bb6a-94f99b431291",
   "metadata": {
    "execution": {
     "iopub.execute_input": "2022-08-03T02:16:36.396530Z",
     "iopub.status.busy": "2022-08-03T02:16:36.396366Z",
     "iopub.status.idle": "2022-08-03T02:16:36.426363Z",
     "shell.execute_reply": "2022-08-03T02:16:36.425978Z"
    },
    "papermill": {
     "duration": 0.051576,
     "end_time": "2022-08-03T02:16:36.427493",
     "exception": false,
     "start_time": "2022-08-03T02:16:36.375917",
     "status": "completed"
    },
    "tags": []
   },
   "outputs": [
    {
     "data": {
      "text/plain": [
       "'S-MultiXcan condition number: 30'"
      ]
     },
     "metadata": {},
     "output_type": "display_data"
    }
   ],
   "source": [
    "assert (\n",
    "    SMULTIXCAN_CONDITION_NUMBER is not None and SMULTIXCAN_CONDITION_NUMBER > 0\n",
    "), \"The S-MultiXcan condition number (positive integer) must be given\"\n",
    "\n",
    "display(f\"S-MultiXcan condition number: {SMULTIXCAN_CONDITION_NUMBER}\")"
   ]
  },
  {
   "cell_type": "code",
   "execution_count": 9,
   "id": "f34a336f-548e-4afe-8955-90eaea4f42c6",
   "metadata": {
    "execution": {
     "iopub.execute_input": "2022-08-03T02:16:36.443827Z",
     "iopub.status.busy": "2022-08-03T02:16:36.443665Z",
     "iopub.status.idle": "2022-08-03T02:16:36.462907Z",
     "shell.execute_reply": "2022-08-03T02:16:36.462548Z"
    },
    "papermill": {
     "duration": 0.028912,
     "end_time": "2022-08-03T02:16:36.464088",
     "exception": false,
     "start_time": "2022-08-03T02:16:36.435176",
     "status": "completed"
    },
    "tags": []
   },
   "outputs": [
    {
     "data": {
      "text/plain": [
       "'Working on chromosome 4'"
      ]
     },
     "metadata": {},
     "output_type": "display_data"
    }
   ],
   "source": [
    "assert CHROMOSOME is not None and (\n",
    "    1 <= CHROMOSOME <= 22\n",
    "), \"You have to select one chromosome (format: number between 1 and 22)\"\n",
    "\n",
    "CHROMOSOME = str(CHROMOSOME)\n",
    "display(f\"Working on chromosome {CHROMOSOME}\")"
   ]
  },
  {
   "cell_type": "code",
   "execution_count": 10,
   "id": "ab8e96e8-06b5-4363-9dcd-dc4d78cc27f7",
   "metadata": {
    "execution": {
     "iopub.execute_input": "2022-08-03T02:16:36.492944Z",
     "iopub.status.busy": "2022-08-03T02:16:36.492789Z",
     "iopub.status.idle": "2022-08-03T02:16:36.513102Z",
     "shell.execute_reply": "2022-08-03T02:16:36.512752Z"
    },
    "papermill": {
     "duration": 0.035516,
     "end_time": "2022-08-03T02:16:36.514225",
     "exception": false,
     "start_time": "2022-08-03T02:16:36.478709",
     "status": "completed"
    },
    "tags": []
   },
   "outputs": [
    {
     "data": {
      "text/plain": [
       "'Compute correlation within distance False'"
      ]
     },
     "metadata": {},
     "output_type": "display_data"
    }
   ],
   "source": [
    "display(f\"Compute correlation within distance {COMPUTE_CORRELATIONS_WITHIN_DISTANCE}\")"
   ]
  },
  {
   "cell_type": "code",
   "execution_count": 11,
   "id": "396392dc-0340-4540-9b02-e182b833f909",
   "metadata": {
    "execution": {
     "iopub.execute_input": "2022-08-03T02:16:36.534003Z",
     "iopub.status.busy": "2022-08-03T02:16:36.533843Z",
     "iopub.status.idle": "2022-08-03T02:16:36.571163Z",
     "shell.execute_reply": "2022-08-03T02:16:36.570789Z"
    },
    "papermill": {
     "duration": 0.050411,
     "end_time": "2022-08-03T02:16:36.572371",
     "exception": false,
     "start_time": "2022-08-03T02:16:36.521960",
     "status": "completed"
    },
    "tags": []
   },
   "outputs": [
    {
     "data": {
      "text/plain": [
       "'Using output dir base: /project/ritchie20/projects/phenoplier/base/results/gls/gene_corrs/cohorts/1000g_eur/gtex_v8/mashr'"
      ]
     },
     "metadata": {},
     "output_type": "display_data"
    }
   ],
   "source": [
    "OUTPUT_DIR_BASE = (\n",
    "    conf.RESULTS[\"GLS\"]\n",
    "    / \"gene_corrs\"\n",
    "    / \"cohorts\"\n",
    "    / COHORT_NAME\n",
    "    / REFERENCE_PANEL.lower()\n",
    "    / EQTL_MODEL.lower()\n",
    ")\n",
    "OUTPUT_DIR_BASE.mkdir(parents=True, exist_ok=True)\n",
    "\n",
    "display(f\"Using output dir base: {OUTPUT_DIR_BASE}\")"
   ]
  },
  {
   "cell_type": "markdown",
   "id": "d2ba085e",
   "metadata": {
    "papermill": {
     "duration": 0.007632,
     "end_time": "2022-08-03T02:16:36.587919",
     "exception": false,
     "start_time": "2022-08-03T02:16:36.580287",
     "status": "completed"
    },
    "tags": []
   },
   "source": [
    "# Load data"
   ]
  },
  {
   "cell_type": "markdown",
   "id": "7dcb8db7",
   "metadata": {
    "papermill": {
     "duration": 0.011109,
     "end_time": "2022-08-03T02:16:36.611316",
     "exception": false,
     "start_time": "2022-08-03T02:16:36.600207",
     "status": "completed"
    },
    "tags": []
   },
   "source": [
    "## GWAS variants"
   ]
  },
  {
   "cell_type": "code",
   "execution_count": 12,
   "id": "29434c4e-8cd3-4b9b-82e4-b5a251d9dd19",
   "metadata": {
    "execution": {
     "iopub.execute_input": "2022-08-03T02:16:36.632820Z",
     "iopub.status.busy": "2022-08-03T02:16:36.632657Z",
     "iopub.status.idle": "2022-08-03T02:16:39.363781Z",
     "shell.execute_reply": "2022-08-03T02:16:39.363013Z"
    },
    "papermill": {
     "duration": 2.742067,
     "end_time": "2022-08-03T02:16:39.365680",
     "exception": false,
     "start_time": "2022-08-03T02:16:36.623613",
     "status": "completed"
    },
    "tags": []
   },
   "outputs": [],
   "source": [
    "with open(OUTPUT_DIR_BASE / \"gwas_variant_ids.pkl\", \"rb\") as handle:\n",
    "    gwas_variants_ids_set = pickle.load(handle)"
   ]
  },
  {
   "cell_type": "code",
   "execution_count": 13,
   "id": "b9d9dec2-4a76-4bf9-bde2-e24c95acb8a0",
   "metadata": {
    "execution": {
     "iopub.execute_input": "2022-08-03T02:16:39.383692Z",
     "iopub.status.busy": "2022-08-03T02:16:39.383490Z",
     "iopub.status.idle": "2022-08-03T02:16:39.466873Z",
     "shell.execute_reply": "2022-08-03T02:16:39.466493Z"
    },
    "papermill": {
     "duration": 0.093459,
     "end_time": "2022-08-03T02:16:39.468068",
     "exception": false,
     "start_time": "2022-08-03T02:16:39.374609",
     "status": "completed"
    },
    "tags": []
   },
   "outputs": [
    {
     "data": {
      "text/plain": [
       "8325729"
      ]
     },
     "execution_count": 13,
     "metadata": {},
     "output_type": "execute_result"
    }
   ],
   "source": [
    "len(gwas_variants_ids_set)"
   ]
  },
  {
   "cell_type": "code",
   "execution_count": 14,
   "id": "4235b06a-6034-4ee4-a0a3-2ae35d122418",
   "metadata": {
    "execution": {
     "iopub.execute_input": "2022-08-03T02:16:39.485063Z",
     "iopub.status.busy": "2022-08-03T02:16:39.484867Z",
     "iopub.status.idle": "2022-08-03T02:16:39.970521Z",
     "shell.execute_reply": "2022-08-03T02:16:39.970059Z"
    },
    "papermill": {
     "duration": 0.495813,
     "end_time": "2022-08-03T02:16:39.971906",
     "exception": false,
     "start_time": "2022-08-03T02:16:39.476093",
     "status": "completed"
    },
    "tags": []
   },
   "outputs": [
    {
     "data": {
      "text/plain": [
       "['chr1_240611005_T_G_b38',\n",
       " 'chr5_153134814_G_T_b38',\n",
       " 'chr6_78152933_T_G_b38',\n",
       " 'chr3_112909109_TAA_T_b38',\n",
       " 'chr1_213633352_A_G_b38']"
      ]
     },
     "execution_count": 14,
     "metadata": {},
     "output_type": "execute_result"
    }
   ],
   "source": [
    "list(gwas_variants_ids_set)[:5]"
   ]
  },
  {
   "cell_type": "markdown",
   "id": "07866999-2305-41f9-a144-e69c9122c212",
   "metadata": {
    "papermill": {
     "duration": 0.008303,
     "end_time": "2022-08-03T02:16:39.989424",
     "exception": false,
     "start_time": "2022-08-03T02:16:39.981121",
     "status": "completed"
    },
    "tags": []
   },
   "source": [
    "## S-PrediXcan tissue models"
   ]
  },
  {
   "cell_type": "code",
   "execution_count": 15,
   "id": "780611d9-77c8-405f-90a4-f271f7b09397",
   "metadata": {
    "execution": {
     "iopub.execute_input": "2022-08-03T02:16:40.006465Z",
     "iopub.status.busy": "2022-08-03T02:16:40.006283Z",
     "iopub.status.idle": "2022-08-03T02:16:40.984493Z",
     "shell.execute_reply": "2022-08-03T02:16:40.983998Z"
    },
    "papermill": {
     "duration": 0.988889,
     "end_time": "2022-08-03T02:16:40.986268",
     "exception": false,
     "start_time": "2022-08-03T02:16:39.997379",
     "status": "completed"
    },
    "tags": []
   },
   "outputs": [],
   "source": [
    "spredixcan_genes_models = pd.read_pickle(OUTPUT_DIR_BASE / \"gene_tissues.pkl\")"
   ]
  },
  {
   "cell_type": "code",
   "execution_count": 16,
   "id": "726dd1f6-9557-4225-91fa-b3b879ea96e1",
   "metadata": {
    "execution": {
     "iopub.execute_input": "2022-08-03T02:16:41.009917Z",
     "iopub.status.busy": "2022-08-03T02:16:41.009719Z",
     "iopub.status.idle": "2022-08-03T02:16:41.031474Z",
     "shell.execute_reply": "2022-08-03T02:16:41.031093Z"
    },
    "papermill": {
     "duration": 0.037187,
     "end_time": "2022-08-03T02:16:41.032642",
     "exception": false,
     "start_time": "2022-08-03T02:16:40.995455",
     "status": "completed"
    },
    "tags": []
   },
   "outputs": [
    {
     "data": {
      "text/plain": [
       "(6444, 10)"
      ]
     },
     "execution_count": 16,
     "metadata": {},
     "output_type": "execute_result"
    }
   ],
   "source": [
    "spredixcan_genes_models.shape"
   ]
  },
  {
   "cell_type": "code",
   "execution_count": 17,
   "id": "944a1b48-222c-4eb0-b252-b9de2cbca215",
   "metadata": {
    "execution": {
     "iopub.execute_input": "2022-08-03T02:16:41.072756Z",
     "iopub.status.busy": "2022-08-03T02:16:41.072588Z",
     "iopub.status.idle": "2022-08-03T02:16:41.147586Z",
     "shell.execute_reply": "2022-08-03T02:16:41.146946Z"
    },
    "papermill": {
     "duration": 0.10409,
     "end_time": "2022-08-03T02:16:41.152783",
     "exception": false,
     "start_time": "2022-08-03T02:16:41.048693",
     "status": "completed"
    },
    "tags": []
   },
   "outputs": [
    {
     "data": {
      "text/html": [
       "<div>\n",
       "<style scoped>\n",
       "    .dataframe tbody tr th:only-of-type {\n",
       "        vertical-align: middle;\n",
       "    }\n",
       "\n",
       "    .dataframe tbody tr th {\n",
       "        vertical-align: top;\n",
       "    }\n",
       "\n",
       "    .dataframe thead th {\n",
       "        text-align: right;\n",
       "    }\n",
       "</style>\n",
       "<table border=\"1\" class=\"dataframe\">\n",
       "  <thead>\n",
       "    <tr style=\"text-align: right;\">\n",
       "      <th></th>\n",
       "      <th>gene_name</th>\n",
       "      <th>tissue</th>\n",
       "      <th>n_tissues</th>\n",
       "      <th>tissues_pc_variances</th>\n",
       "      <th>tissues_pc_variances_cov</th>\n",
       "      <th>tissues_variances</th>\n",
       "      <th>n_snps_used_sum</th>\n",
       "      <th>n_snps_in_model_sum</th>\n",
       "      <th>unique_n_snps_in_model</th>\n",
       "      <th>unique_n_snps_used</th>\n",
       "    </tr>\n",
       "    <tr>\n",
       "      <th>gene_id</th>\n",
       "      <th></th>\n",
       "      <th></th>\n",
       "      <th></th>\n",
       "      <th></th>\n",
       "      <th></th>\n",
       "      <th></th>\n",
       "      <th></th>\n",
       "      <th></th>\n",
       "      <th></th>\n",
       "      <th></th>\n",
       "    </tr>\n",
       "  </thead>\n",
       "  <tbody>\n",
       "    <tr>\n",
       "      <th>ENSG00000000419</th>\n",
       "      <td>DPM1</td>\n",
       "      <td>(Brain_Substantia_nigra, Brain_Hypothalamus)</td>\n",
       "      <td>2</td>\n",
       "      <td>[1.0442398458252409, 0.9557601541747592]</td>\n",
       "      <td>[0.013163142634155849, 0.00048574890347684763]</td>\n",
       "      <td>{'Brain_Hypothalamus': 0.013162153504206677, '...</td>\n",
       "      <td>2</td>\n",
       "      <td>2</td>\n",
       "      <td>2</td>\n",
       "      <td>2</td>\n",
       "    </tr>\n",
       "    <tr>\n",
       "      <th>ENSG00000000938</th>\n",
       "      <td>FGR</td>\n",
       "      <td>(Pancreas, Brain_Hypothalamus, Liver, Colon_Tr...</td>\n",
       "      <td>36</td>\n",
       "      <td>[31.63266933637129, 2.078367751851144, 1.27161...</td>\n",
       "      <td>[0.1715948657078027]</td>\n",
       "      <td>{'Esophagus_Muscularis': 0.006536602044478473,...</td>\n",
       "      <td>40</td>\n",
       "      <td>40</td>\n",
       "      <td>5</td>\n",
       "      <td>5</td>\n",
       "    </tr>\n",
       "    <tr>\n",
       "      <th>ENSG00000000971</th>\n",
       "      <td>CFH</td>\n",
       "      <td>(Colon_Transverse, Skin_Sun_Exposed_Lower_leg,...</td>\n",
       "      <td>34</td>\n",
       "      <td>[21.56076992568329, 7.310170987045463, 1.83778...</td>\n",
       "      <td>[0.2093060319587451, 0.058234347656008024, 0.0...</td>\n",
       "      <td>{'Esophagus_Muscularis': 0.01739410990047228, ...</td>\n",
       "      <td>44</td>\n",
       "      <td>44</td>\n",
       "      <td>12</td>\n",
       "      <td>12</td>\n",
       "    </tr>\n",
       "    <tr>\n",
       "      <th>ENSG00000001084</th>\n",
       "      <td>GCLC</td>\n",
       "      <td>(Pancreas, Colon_Transverse, Skin_Sun_Exposed_...</td>\n",
       "      <td>32</td>\n",
       "      <td>[21.291939080546538, 4.699418748743195, 2.2489...</td>\n",
       "      <td>[0.39430527375123775, 0.11627488888534836, 0.0...</td>\n",
       "      <td>{'Thyroid': 0.009654918580686024, 'Brain_Corte...</td>\n",
       "      <td>46</td>\n",
       "      <td>46</td>\n",
       "      <td>23</td>\n",
       "      <td>23</td>\n",
       "    </tr>\n",
       "    <tr>\n",
       "      <th>ENSG00000001167</th>\n",
       "      <td>NFYA</td>\n",
       "      <td>(Brain_Hypothalamus, Colon_Transverse, Skin_Su...</td>\n",
       "      <td>40</td>\n",
       "      <td>[37.3356602954977, 1.3914019604538357]</td>\n",
       "      <td>[1.1642639979821048, 0.05742881287671712]</td>\n",
       "      <td>{'Esophagus_Muscularis': 0.0318781600881541, '...</td>\n",
       "      <td>47</td>\n",
       "      <td>48</td>\n",
       "      <td>14</td>\n",
       "      <td>13</td>\n",
       "    </tr>\n",
       "  </tbody>\n",
       "</table>\n",
       "</div>"
      ],
      "text/plain": [
       "                gene_name                                             tissue  \\\n",
       "gene_id                                                                        \n",
       "ENSG00000000419      DPM1       (Brain_Substantia_nigra, Brain_Hypothalamus)   \n",
       "ENSG00000000938       FGR  (Pancreas, Brain_Hypothalamus, Liver, Colon_Tr...   \n",
       "ENSG00000000971       CFH  (Colon_Transverse, Skin_Sun_Exposed_Lower_leg,...   \n",
       "ENSG00000001084      GCLC  (Pancreas, Colon_Transverse, Skin_Sun_Exposed_...   \n",
       "ENSG00000001167      NFYA  (Brain_Hypothalamus, Colon_Transverse, Skin_Su...   \n",
       "\n",
       "                 n_tissues                               tissues_pc_variances  \\\n",
       "gene_id                                                                         \n",
       "ENSG00000000419          2           [1.0442398458252409, 0.9557601541747592]   \n",
       "ENSG00000000938         36  [31.63266933637129, 2.078367751851144, 1.27161...   \n",
       "ENSG00000000971         34  [21.56076992568329, 7.310170987045463, 1.83778...   \n",
       "ENSG00000001084         32  [21.291939080546538, 4.699418748743195, 2.2489...   \n",
       "ENSG00000001167         40             [37.3356602954977, 1.3914019604538357]   \n",
       "\n",
       "                                          tissues_pc_variances_cov  \\\n",
       "gene_id                                                              \n",
       "ENSG00000000419     [0.013163142634155849, 0.00048574890347684763]   \n",
       "ENSG00000000938                               [0.1715948657078027]   \n",
       "ENSG00000000971  [0.2093060319587451, 0.058234347656008024, 0.0...   \n",
       "ENSG00000001084  [0.39430527375123775, 0.11627488888534836, 0.0...   \n",
       "ENSG00000001167          [1.1642639979821048, 0.05742881287671712]   \n",
       "\n",
       "                                                 tissues_variances  \\\n",
       "gene_id                                                              \n",
       "ENSG00000000419  {'Brain_Hypothalamus': 0.013162153504206677, '...   \n",
       "ENSG00000000938  {'Esophagus_Muscularis': 0.006536602044478473,...   \n",
       "ENSG00000000971  {'Esophagus_Muscularis': 0.01739410990047228, ...   \n",
       "ENSG00000001084  {'Thyroid': 0.009654918580686024, 'Brain_Corte...   \n",
       "ENSG00000001167  {'Esophagus_Muscularis': 0.0318781600881541, '...   \n",
       "\n",
       "                 n_snps_used_sum  n_snps_in_model_sum  unique_n_snps_in_model  \\\n",
       "gene_id                                                                         \n",
       "ENSG00000000419                2                    2                       2   \n",
       "ENSG00000000938               40                   40                       5   \n",
       "ENSG00000000971               44                   44                      12   \n",
       "ENSG00000001084               46                   46                      23   \n",
       "ENSG00000001167               47                   48                      14   \n",
       "\n",
       "                 unique_n_snps_used  \n",
       "gene_id                              \n",
       "ENSG00000000419                   2  \n",
       "ENSG00000000938                   5  \n",
       "ENSG00000000971                  12  \n",
       "ENSG00000001084                  23  \n",
       "ENSG00000001167                  13  "
      ]
     },
     "execution_count": 17,
     "metadata": {},
     "output_type": "execute_result"
    }
   ],
   "source": [
    "spredixcan_genes_models.head()"
   ]
  },
  {
   "cell_type": "code",
   "execution_count": 18,
   "id": "d1c11bb1-be0b-4f40-b360-633d6827109f",
   "metadata": {
    "execution": {
     "iopub.execute_input": "2022-08-03T02:16:41.249178Z",
     "iopub.status.busy": "2022-08-03T02:16:41.248756Z",
     "iopub.status.idle": "2022-08-03T02:16:41.702369Z",
     "shell.execute_reply": "2022-08-03T02:16:41.701997Z"
    },
    "papermill": {
     "duration": 0.509689,
     "end_time": "2022-08-03T02:16:41.703665",
     "exception": false,
     "start_time": "2022-08-03T02:16:41.193976",
     "status": "completed"
    },
    "tags": []
   },
   "outputs": [],
   "source": [
    "assert spredixcan_genes_models.index.is_unique"
   ]
  },
  {
   "cell_type": "markdown",
   "id": "a5b5092c-a13e-47c4-a92a-480fcc08f3ae",
   "metadata": {
    "papermill": {
     "duration": 0.023143,
     "end_time": "2022-08-03T02:16:41.738470",
     "exception": false,
     "start_time": "2022-08-03T02:16:41.715327",
     "status": "completed"
    },
    "tags": []
   },
   "source": [
    "## Gene info"
   ]
  },
  {
   "cell_type": "code",
   "execution_count": 19,
   "id": "7d6bb224-88e9-4358-ac10-43a41d92cdad",
   "metadata": {
    "execution": {
     "iopub.execute_input": "2022-08-03T02:16:41.759071Z",
     "iopub.status.busy": "2022-08-03T02:16:41.758907Z",
     "iopub.status.idle": "2022-08-03T02:16:41.793324Z",
     "shell.execute_reply": "2022-08-03T02:16:41.792940Z"
    },
    "papermill": {
     "duration": 0.045393,
     "end_time": "2022-08-03T02:16:41.794582",
     "exception": false,
     "start_time": "2022-08-03T02:16:41.749189",
     "status": "completed"
    },
    "tags": []
   },
   "outputs": [],
   "source": [
    "genes_info = pd.read_pickle(OUTPUT_DIR_BASE / \"genes_info.pkl\")"
   ]
  },
  {
   "cell_type": "code",
   "execution_count": 20,
   "id": "9e32abfa-546d-483e-8c18-d526e9e05903",
   "metadata": {
    "execution": {
     "iopub.execute_input": "2022-08-03T02:16:41.827129Z",
     "iopub.status.busy": "2022-08-03T02:16:41.826955Z",
     "iopub.status.idle": "2022-08-03T02:16:41.856008Z",
     "shell.execute_reply": "2022-08-03T02:16:41.855653Z"
    },
    "papermill": {
     "duration": 0.043852,
     "end_time": "2022-08-03T02:16:41.857140",
     "exception": false,
     "start_time": "2022-08-03T02:16:41.813288",
     "status": "completed"
    },
    "tags": []
   },
   "outputs": [
    {
     "data": {
      "text/plain": [
       "(6444, 7)"
      ]
     },
     "execution_count": 20,
     "metadata": {},
     "output_type": "execute_result"
    }
   ],
   "source": [
    "genes_info.shape"
   ]
  },
  {
   "cell_type": "code",
   "execution_count": 21,
   "id": "d16c3e92-85ec-468a-9a56-e25a9774a1cb",
   "metadata": {
    "execution": {
     "iopub.execute_input": "2022-08-03T02:16:41.892444Z",
     "iopub.status.busy": "2022-08-03T02:16:41.892281Z",
     "iopub.status.idle": "2022-08-03T02:16:41.932483Z",
     "shell.execute_reply": "2022-08-03T02:16:41.932083Z"
    },
    "papermill": {
     "duration": 0.066391,
     "end_time": "2022-08-03T02:16:41.933700",
     "exception": false,
     "start_time": "2022-08-03T02:16:41.867309",
     "status": "completed"
    },
    "tags": []
   },
   "outputs": [
    {
     "data": {
      "text/html": [
       "<div>\n",
       "<style scoped>\n",
       "    .dataframe tbody tr th:only-of-type {\n",
       "        vertical-align: middle;\n",
       "    }\n",
       "\n",
       "    .dataframe tbody tr th {\n",
       "        vertical-align: top;\n",
       "    }\n",
       "\n",
       "    .dataframe thead th {\n",
       "        text-align: right;\n",
       "    }\n",
       "</style>\n",
       "<table border=\"1\" class=\"dataframe\">\n",
       "  <thead>\n",
       "    <tr style=\"text-align: right;\">\n",
       "      <th></th>\n",
       "      <th>name</th>\n",
       "      <th>id</th>\n",
       "      <th>chr</th>\n",
       "      <th>band</th>\n",
       "      <th>start_position</th>\n",
       "      <th>end_position</th>\n",
       "      <th>gene_length</th>\n",
       "    </tr>\n",
       "  </thead>\n",
       "  <tbody>\n",
       "    <tr>\n",
       "      <th>0</th>\n",
       "      <td>HEYL</td>\n",
       "      <td>ENSG00000163909</td>\n",
       "      <td>1</td>\n",
       "      <td>1p34.2</td>\n",
       "      <td>39623435.0</td>\n",
       "      <td>39639643.0</td>\n",
       "      <td>16208.0</td>\n",
       "    </tr>\n",
       "    <tr>\n",
       "      <th>1</th>\n",
       "      <td>CYP24A1</td>\n",
       "      <td>ENSG00000019186</td>\n",
       "      <td>20</td>\n",
       "      <td>20q13.2</td>\n",
       "      <td>54153446.0</td>\n",
       "      <td>54173986.0</td>\n",
       "      <td>20540.0</td>\n",
       "    </tr>\n",
       "    <tr>\n",
       "      <th>2</th>\n",
       "      <td>ITGB4</td>\n",
       "      <td>ENSG00000132470</td>\n",
       "      <td>17</td>\n",
       "      <td>17q25.1</td>\n",
       "      <td>75721328.0</td>\n",
       "      <td>75757818.0</td>\n",
       "      <td>36490.0</td>\n",
       "    </tr>\n",
       "    <tr>\n",
       "      <th>3</th>\n",
       "      <td>SPINT1</td>\n",
       "      <td>ENSG00000166145</td>\n",
       "      <td>15</td>\n",
       "      <td>15q15.1</td>\n",
       "      <td>40844018.0</td>\n",
       "      <td>40858207.0</td>\n",
       "      <td>14189.0</td>\n",
       "    </tr>\n",
       "    <tr>\n",
       "      <th>4</th>\n",
       "      <td>PCSK6</td>\n",
       "      <td>ENSG00000140479</td>\n",
       "      <td>15</td>\n",
       "      <td>15q26.3</td>\n",
       "      <td>101297142.0</td>\n",
       "      <td>101525202.0</td>\n",
       "      <td>228060.0</td>\n",
       "    </tr>\n",
       "  </tbody>\n",
       "</table>\n",
       "</div>"
      ],
      "text/plain": [
       "      name               id chr     band  start_position  end_position  \\\n",
       "0     HEYL  ENSG00000163909   1   1p34.2      39623435.0    39639643.0   \n",
       "1  CYP24A1  ENSG00000019186  20  20q13.2      54153446.0    54173986.0   \n",
       "2    ITGB4  ENSG00000132470  17  17q25.1      75721328.0    75757818.0   \n",
       "3   SPINT1  ENSG00000166145  15  15q15.1      40844018.0    40858207.0   \n",
       "4    PCSK6  ENSG00000140479  15  15q26.3     101297142.0   101525202.0   \n",
       "\n",
       "   gene_length  \n",
       "0      16208.0  \n",
       "1      20540.0  \n",
       "2      36490.0  \n",
       "3      14189.0  \n",
       "4     228060.0  "
      ]
     },
     "execution_count": 21,
     "metadata": {},
     "output_type": "execute_result"
    }
   ],
   "source": [
    "genes_info.head()"
   ]
  },
  {
   "cell_type": "markdown",
   "id": "d3843e06",
   "metadata": {
    "papermill": {
     "duration": 0.018631,
     "end_time": "2022-08-03T02:16:41.964251",
     "exception": false,
     "start_time": "2022-08-03T02:16:41.945620",
     "status": "completed"
    },
    "tags": []
   },
   "source": [
    "# Compute correlations"
   ]
  },
  {
   "cell_type": "code",
   "execution_count": 22,
   "id": "cb859c15-d1f3-4006-a74c-2b83c0db9611",
   "metadata": {
    "execution": {
     "iopub.execute_input": "2022-08-03T02:16:41.989562Z",
     "iopub.status.busy": "2022-08-03T02:16:41.989398Z",
     "iopub.status.idle": "2022-08-03T02:16:42.031304Z",
     "shell.execute_reply": "2022-08-03T02:16:42.030914Z"
    },
    "papermill": {
     "duration": 0.055648,
     "end_time": "2022-08-03T02:16:42.032481",
     "exception": false,
     "start_time": "2022-08-03T02:16:41.976833",
     "status": "completed"
    },
    "tags": []
   },
   "outputs": [
    {
     "data": {
      "text/plain": [
       "PosixPath('/project/ritchie20/projects/phenoplier/base/results/gls/gene_corrs/cohorts/1000g_eur/gtex_v8/mashr/by_chr/gene_corrs-chr4.pkl')"
      ]
     },
     "metadata": {},
     "output_type": "display_data"
    }
   ],
   "source": [
    "output_dir = OUTPUT_DIR_BASE / \"by_chr\"\n",
    "output_dir.mkdir(exist_ok=True, parents=True)\n",
    "output_file = output_dir / f\"gene_corrs-chr{CHROMOSOME}.pkl\"\n",
    "display(output_file)"
   ]
  },
  {
   "cell_type": "code",
   "execution_count": 23,
   "id": "aa674fe4-6794-4eed-98fa-32b39d1d4ace",
   "metadata": {
    "execution": {
     "iopub.execute_input": "2022-08-03T02:16:42.071563Z",
     "iopub.status.busy": "2022-08-03T02:16:42.071400Z",
     "iopub.status.idle": "2022-08-03T02:16:42.144329Z",
     "shell.execute_reply": "2022-08-03T02:16:42.143965Z"
    },
    "papermill": {
     "duration": 0.088749,
     "end_time": "2022-08-03T02:16:42.145579",
     "exception": false,
     "start_time": "2022-08-03T02:16:42.056830",
     "status": "completed"
    },
    "tags": []
   },
   "outputs": [],
   "source": [
    "warnings.filterwarnings(\"error\")"
   ]
  },
  {
   "cell_type": "code",
   "execution_count": 24,
   "id": "44d5450b-3baf-43f1-9e2e-4b06f1a785f8",
   "metadata": {
    "execution": {
     "iopub.execute_input": "2022-08-03T02:16:42.170623Z",
     "iopub.status.busy": "2022-08-03T02:16:42.170395Z",
     "iopub.status.idle": "2022-08-03T02:16:42.221263Z",
     "shell.execute_reply": "2022-08-03T02:16:42.220783Z"
    },
    "papermill": {
     "duration": 0.063758,
     "end_time": "2022-08-03T02:16:42.223010",
     "exception": false,
     "start_time": "2022-08-03T02:16:42.159252",
     "status": "completed"
    },
    "tags": []
   },
   "outputs": [],
   "source": [
    "# standard checks\n",
    "all_chrs = genes_info[\"chr\"].dropna().unique()\n",
    "assert all_chrs.shape[0] == 22\n",
    "\n",
    "# select chromosome given by the user\n",
    "assert CHROMOSOME in all_chrs"
   ]
  },
  {
   "cell_type": "code",
   "execution_count": 25,
   "id": "2d7c043c-92a7-4d35-991b-fa69ac1e0268",
   "metadata": {
    "execution": {
     "iopub.execute_input": "2022-08-03T02:16:42.253719Z",
     "iopub.status.busy": "2022-08-03T02:16:42.253505Z",
     "iopub.status.idle": "2022-08-03T02:16:42.440842Z",
     "shell.execute_reply": "2022-08-03T02:16:42.440314Z"
    },
    "papermill": {
     "duration": 0.204571,
     "end_time": "2022-08-03T02:16:42.442456",
     "exception": false,
     "start_time": "2022-08-03T02:16:42.237885",
     "status": "completed"
    },
    "tags": []
   },
   "outputs": [
    {
     "name": "stdout",
     "output_type": "stream",
     "text": [
      "Number of genes in chromosome: 244\n"
     ]
    }
   ],
   "source": [
    "# run only on the chromosome specified\n",
    "all_chrs = [CHROMOSOME]\n",
    "genes_chr = genes_info[genes_info[\"chr\"] == CHROMOSOME]\n",
    "\n",
    "# For testing purposes\n",
    "# genes_chr = genes_chr.sample(n=20)\n",
    "\n",
    "print(f\"Number of genes in chromosome: {genes_chr.shape[0]}\", flush=True)"
   ]
  },
  {
   "cell_type": "code",
   "execution_count": 26,
   "id": "916015d8-2979-46d3-a9b9-1cf5a0932c6a",
   "metadata": {
    "execution": {
     "iopub.execute_input": "2022-08-03T02:16:42.481202Z",
     "iopub.status.busy": "2022-08-03T02:16:42.480992Z",
     "iopub.status.idle": "2022-08-03T02:16:42.594138Z",
     "shell.execute_reply": "2022-08-03T02:16:42.593701Z"
    },
    "papermill": {
     "duration": 0.128925,
     "end_time": "2022-08-03T02:16:42.595596",
     "exception": false,
     "start_time": "2022-08-03T02:16:42.466671",
     "status": "completed"
    },
    "tags": []
   },
   "outputs": [],
   "source": [
    "# sort genes by starting position to make visualizations better later\n",
    "genes_chr = genes_chr.sort_values(\"start_position\")"
   ]
  },
  {
   "cell_type": "code",
   "execution_count": 27,
   "id": "a38aa74a-8ad3-47f6-8ef9-56be0e011774",
   "metadata": {
    "execution": {
     "iopub.execute_input": "2022-08-03T02:16:42.627865Z",
     "iopub.status.busy": "2022-08-03T02:16:42.627696Z",
     "iopub.status.idle": "2022-08-03T02:16:42.645071Z",
     "shell.execute_reply": "2022-08-03T02:16:42.644711Z"
    },
    "papermill": {
     "duration": 0.035801,
     "end_time": "2022-08-03T02:16:42.646342",
     "exception": false,
     "start_time": "2022-08-03T02:16:42.610541",
     "status": "completed"
    },
    "tags": []
   },
   "outputs": [],
   "source": [
    "gene_chr_objs = [Gene(ensembl_id=gene_id) for gene_id in genes_chr[\"id\"]]"
   ]
  },
  {
   "cell_type": "code",
   "execution_count": 28,
   "id": "570f974f-13c3-42b6-ad3a-ce99ca885c1a",
   "metadata": {
    "execution": {
     "iopub.execute_input": "2022-08-03T02:16:42.678792Z",
     "iopub.status.busy": "2022-08-03T02:16:42.678630Z",
     "iopub.status.idle": "2022-08-03T02:16:42.794831Z",
     "shell.execute_reply": "2022-08-03T02:16:42.794280Z"
    },
    "papermill": {
     "duration": 0.134394,
     "end_time": "2022-08-03T02:16:42.796517",
     "exception": false,
     "start_time": "2022-08-03T02:16:42.662123",
     "status": "completed"
    },
    "tags": []
   },
   "outputs": [
    {
     "name": "stdout",
     "output_type": "stream",
     "text": [
      "Number of gene combinations: 29646\n"
     ]
    }
   ],
   "source": [
    "n = len(gene_chr_objs)\n",
    "n_comb = int(n * (n - 1) / 2.0)\n",
    "print(f\"Number of gene combinations: {n_comb}\", flush=True)"
   ]
  },
  {
   "cell_type": "code",
   "execution_count": 29,
   "id": "cdbb90a1",
   "metadata": {
    "execution": {
     "iopub.execute_input": "2022-08-03T02:16:42.836510Z",
     "iopub.status.busy": "2022-08-03T02:16:42.836308Z",
     "iopub.status.idle": "2022-08-03T02:45:03.519732Z",
     "shell.execute_reply": "2022-08-03T02:45:03.517987Z"
    },
    "papermill": {
     "duration": 1700.707031,
     "end_time": "2022-08-03T02:45:03.523955",
     "exception": false,
     "start_time": "2022-08-03T02:16:42.816924",
     "status": "completed"
    },
    "tags": []
   },
   "outputs": [
    {
     "name": "stderr",
     "output_type": "stream",
     "text": [
      "ENSG00000164344 / ENSG00000109536: 100%|██████████████████████| 29646/29646 [28:20<00:00, 17.43it/s]\n"
     ]
    },
    {
     "data": {
      "text/plain": [
       "PosixPath('/project/ritchie20/projects/phenoplier/base/results/gls/gene_corrs/cohorts/1000g_eur/gtex_v8/mashr/by_chr/gene_corrs-chr4.pkl')"
      ]
     },
     "metadata": {},
     "output_type": "display_data"
    }
   ],
   "source": [
    "gene_corrs = []\n",
    "\n",
    "i = 0\n",
    "with tqdm(ncols=100, total=n_comb) as pbar:\n",
    "    for gene1_idx in range(0, len(gene_chr_objs) - 1):\n",
    "        gene1_obj = gene_chr_objs[gene1_idx]\n",
    "        gene1_tissues = spredixcan_genes_models.loc[gene1_obj.ensembl_id, \"tissue\"]\n",
    "\n",
    "        for gene2_idx in range(gene1_idx + 1, len(gene_chr_objs)):\n",
    "            gene2_obj = gene_chr_objs[gene2_idx]\n",
    "            gene2_tissues = spredixcan_genes_models.loc[gene2_obj.ensembl_id, \"tissue\"]\n",
    "\n",
    "            pbar.set_description(f\"{gene1_obj.ensembl_id} / {gene2_obj.ensembl_id}\")\n",
    "\n",
    "            try:\n",
    "                r = gene1_obj.get_ssm_correlation(\n",
    "                    other_gene=gene2_obj,\n",
    "                    tissues=gene1_tissues,\n",
    "                    other_tissues=gene2_tissues,\n",
    "                    snps_subset=gwas_variants_ids_set,\n",
    "                    condition_number=SMULTIXCAN_CONDITION_NUMBER,\n",
    "                    reference_panel=REFERENCE_PANEL,\n",
    "                    model_type=EQTL_MODEL,\n",
    "                    use_within_distance=COMPUTE_CORRELATIONS_WITHIN_DISTANCE,\n",
    "                )\n",
    "\n",
    "                if r is None:\n",
    "                    # if r is None, it's very likely because:\n",
    "                    #  * one of the genes has no prediction models\n",
    "                    #  * all the SNPs predictors for the gene are not present in the reference\n",
    "                    #    panel\n",
    "\n",
    "                    r = 0.0\n",
    "\n",
    "                gene_corrs.append(r)\n",
    "            except Warning as e:\n",
    "                if not DEBUG_MODE:\n",
    "                    raise e\n",
    "\n",
    "                print(\n",
    "                    f\"RuntimeWarning for genes {gene1_obj.ensembl_id} and {gene2_obj.ensembl_id}\",\n",
    "                    flush=True,\n",
    "                )\n",
    "                print(traceback.format_exc(), flush=True)\n",
    "\n",
    "                gene_corrs.append(np.nan)\n",
    "            except Exception as e:\n",
    "                if not DEBUG_MODE:\n",
    "                    raise e\n",
    "\n",
    "                print(\n",
    "                    f\"Exception for genes {gene1_obj.ensembl_id} and {gene2_obj.ensembl_id}\",\n",
    "                    flush=True,\n",
    "                )\n",
    "                print(traceback.format_exc(), flush=True)\n",
    "\n",
    "                gene_corrs.append(np.nan)\n",
    "\n",
    "            pbar.update(1)\n",
    "\n",
    "# create a pandas series\n",
    "gene_corrs_flat = pd.Series(gene_corrs)\n",
    "\n",
    "# save\n",
    "# FIXME: consider saving only the condenced matrix here. See here for\n",
    "# more details: https://github.com/greenelab/phenoplier/pull/38#discussion_r634600813\n",
    "gene_corrs_data = squareform(np.array(gene_corrs, dtype=np.float64))\n",
    "np.fill_diagonal(gene_corrs_data, 1.0)\n",
    "\n",
    "gene_chr_ids = [g.ensembl_id for g in gene_chr_objs]\n",
    "gene_corrs_df = pd.DataFrame(\n",
    "    data=gene_corrs_data,\n",
    "    index=gene_chr_ids,\n",
    "    columns=gene_chr_ids,\n",
    ")\n",
    "\n",
    "output_dir.mkdir(exist_ok=True, parents=True)\n",
    "display(output_file)\n",
    "\n",
    "gene_corrs_df.to_pickle(output_file)"
   ]
  },
  {
   "cell_type": "markdown",
   "id": "faa67b51-5373-470f-aa72-2ded53fa6dfe",
   "metadata": {
    "papermill": {
     "duration": 1.351905,
     "end_time": "2022-08-03T02:45:06.386421",
     "exception": false,
     "start_time": "2022-08-03T02:45:05.034516",
     "status": "completed"
    },
    "tags": []
   },
   "source": [
    "# Testing"
   ]
  },
  {
   "cell_type": "code",
   "execution_count": 30,
   "id": "14f7d046-4b55-4896-a56b-990127bcc388",
   "metadata": {
    "execution": {
     "iopub.execute_input": "2022-08-03T02:45:09.138729Z",
     "iopub.status.busy": "2022-08-03T02:45:09.138484Z",
     "iopub.status.idle": "2022-08-03T02:45:09.471697Z",
     "shell.execute_reply": "2022-08-03T02:45:09.470447Z"
    },
    "papermill": {
     "duration": 1.74071,
     "end_time": "2022-08-03T02:45:09.475519",
     "exception": false,
     "start_time": "2022-08-03T02:45:07.734809",
     "status": "completed"
    },
    "tags": []
   },
   "outputs": [
    {
     "data": {
      "text/plain": [
       "(244, 244)"
      ]
     },
     "execution_count": 30,
     "metadata": {},
     "output_type": "execute_result"
    }
   ],
   "source": [
    "gene_corrs_df.shape"
   ]
  },
  {
   "cell_type": "code",
   "execution_count": 31,
   "id": "c7d15414-3297-4537-a7c6-7588c0baeb75",
   "metadata": {
    "execution": {
     "iopub.execute_input": "2022-08-03T02:45:12.477058Z",
     "iopub.status.busy": "2022-08-03T02:45:12.476822Z",
     "iopub.status.idle": "2022-08-03T02:45:12.509727Z",
     "shell.execute_reply": "2022-08-03T02:45:12.509315Z"
    },
    "papermill": {
     "duration": 1.525834,
     "end_time": "2022-08-03T02:45:12.511152",
     "exception": false,
     "start_time": "2022-08-03T02:45:10.985318",
     "status": "completed"
    },
    "tags": []
   },
   "outputs": [
    {
     "data": {
      "text/html": [
       "<div>\n",
       "<style scoped>\n",
       "    .dataframe tbody tr th:only-of-type {\n",
       "        vertical-align: middle;\n",
       "    }\n",
       "\n",
       "    .dataframe tbody tr th {\n",
       "        vertical-align: top;\n",
       "    }\n",
       "\n",
       "    .dataframe thead th {\n",
       "        text-align: right;\n",
       "    }\n",
       "</style>\n",
       "<table border=\"1\" class=\"dataframe\">\n",
       "  <thead>\n",
       "    <tr style=\"text-align: right;\">\n",
       "      <th></th>\n",
       "      <th>ENSG00000272602</th>\n",
       "      <th>ENSG00000131127</th>\n",
       "      <th>ENSG00000174227</th>\n",
       "      <th>ENSG00000133256</th>\n",
       "      <th>ENSG00000169020</th>\n",
       "      <th>ENSG00000215375</th>\n",
       "      <th>ENSG00000169026</th>\n",
       "      <th>ENSG00000178950</th>\n",
       "      <th>ENSG00000145214</th>\n",
       "      <th>ENSG00000145217</th>\n",
       "      <th>...</th>\n",
       "      <th>ENSG00000109674</th>\n",
       "      <th>ENSG00000038002</th>\n",
       "      <th>ENSG00000129187</th>\n",
       "      <th>ENSG00000168310</th>\n",
       "      <th>ENSG00000164305</th>\n",
       "      <th>ENSG00000151726</th>\n",
       "      <th>ENSG00000151729</th>\n",
       "      <th>ENSG00000164342</th>\n",
       "      <th>ENSG00000164344</th>\n",
       "      <th>ENSG00000109536</th>\n",
       "    </tr>\n",
       "  </thead>\n",
       "  <tbody>\n",
       "    <tr>\n",
       "      <th>ENSG00000272602</th>\n",
       "      <td>1.000000</td>\n",
       "      <td>0.055217</td>\n",
       "      <td>0.168507</td>\n",
       "      <td>0.107453</td>\n",
       "      <td>0.096555</td>\n",
       "      <td>0.053985</td>\n",
       "      <td>0.063634</td>\n",
       "      <td>0.012272</td>\n",
       "      <td>0.006584</td>\n",
       "      <td>0.001559</td>\n",
       "      <td>...</td>\n",
       "      <td>0.010453</td>\n",
       "      <td>0.005149</td>\n",
       "      <td>0.010104</td>\n",
       "      <td>0.011093</td>\n",
       "      <td>0.008498</td>\n",
       "      <td>0.005795</td>\n",
       "      <td>0.009951</td>\n",
       "      <td>0.006716</td>\n",
       "      <td>0.005504</td>\n",
       "      <td>0.007268</td>\n",
       "    </tr>\n",
       "    <tr>\n",
       "      <th>ENSG00000131127</th>\n",
       "      <td>0.055217</td>\n",
       "      <td>1.000000</td>\n",
       "      <td>0.263330</td>\n",
       "      <td>0.075966</td>\n",
       "      <td>0.036538</td>\n",
       "      <td>0.043204</td>\n",
       "      <td>0.041609</td>\n",
       "      <td>0.007476</td>\n",
       "      <td>0.009562</td>\n",
       "      <td>0.002483</td>\n",
       "      <td>...</td>\n",
       "      <td>0.006922</td>\n",
       "      <td>0.004238</td>\n",
       "      <td>0.004431</td>\n",
       "      <td>0.010204</td>\n",
       "      <td>0.003890</td>\n",
       "      <td>0.008139</td>\n",
       "      <td>0.007795</td>\n",
       "      <td>0.007423</td>\n",
       "      <td>0.002115</td>\n",
       "      <td>0.002690</td>\n",
       "    </tr>\n",
       "    <tr>\n",
       "      <th>ENSG00000174227</th>\n",
       "      <td>0.168507</td>\n",
       "      <td>0.263330</td>\n",
       "      <td>1.000000</td>\n",
       "      <td>0.274796</td>\n",
       "      <td>0.158097</td>\n",
       "      <td>0.081471</td>\n",
       "      <td>0.102576</td>\n",
       "      <td>0.007931</td>\n",
       "      <td>0.008272</td>\n",
       "      <td>0.004041</td>\n",
       "      <td>...</td>\n",
       "      <td>0.006857</td>\n",
       "      <td>0.002611</td>\n",
       "      <td>0.011521</td>\n",
       "      <td>0.006669</td>\n",
       "      <td>0.005326</td>\n",
       "      <td>0.006427</td>\n",
       "      <td>0.006670</td>\n",
       "      <td>0.006830</td>\n",
       "      <td>0.006222</td>\n",
       "      <td>0.002279</td>\n",
       "    </tr>\n",
       "    <tr>\n",
       "      <th>ENSG00000133256</th>\n",
       "      <td>0.107453</td>\n",
       "      <td>0.075966</td>\n",
       "      <td>0.274796</td>\n",
       "      <td>1.000000</td>\n",
       "      <td>0.246137</td>\n",
       "      <td>0.276514</td>\n",
       "      <td>0.273328</td>\n",
       "      <td>0.012782</td>\n",
       "      <td>0.007655</td>\n",
       "      <td>0.001578</td>\n",
       "      <td>...</td>\n",
       "      <td>0.010384</td>\n",
       "      <td>0.005299</td>\n",
       "      <td>0.006347</td>\n",
       "      <td>0.003929</td>\n",
       "      <td>0.004955</td>\n",
       "      <td>0.004711</td>\n",
       "      <td>0.006356</td>\n",
       "      <td>0.009256</td>\n",
       "      <td>0.004887</td>\n",
       "      <td>0.006680</td>\n",
       "    </tr>\n",
       "    <tr>\n",
       "      <th>ENSG00000169020</th>\n",
       "      <td>0.096555</td>\n",
       "      <td>0.036538</td>\n",
       "      <td>0.158097</td>\n",
       "      <td>0.246137</td>\n",
       "      <td>1.000000</td>\n",
       "      <td>0.178017</td>\n",
       "      <td>0.228526</td>\n",
       "      <td>0.006056</td>\n",
       "      <td>0.006638</td>\n",
       "      <td>0.001911</td>\n",
       "      <td>...</td>\n",
       "      <td>0.001814</td>\n",
       "      <td>0.000699</td>\n",
       "      <td>0.004611</td>\n",
       "      <td>0.003805</td>\n",
       "      <td>0.000369</td>\n",
       "      <td>0.003265</td>\n",
       "      <td>0.002594</td>\n",
       "      <td>0.001526</td>\n",
       "      <td>0.000904</td>\n",
       "      <td>0.002050</td>\n",
       "    </tr>\n",
       "  </tbody>\n",
       "</table>\n",
       "<p>5 rows × 244 columns</p>\n",
       "</div>"
      ],
      "text/plain": [
       "                 ENSG00000272602  ENSG00000131127  ENSG00000174227  \\\n",
       "ENSG00000272602         1.000000         0.055217         0.168507   \n",
       "ENSG00000131127         0.055217         1.000000         0.263330   \n",
       "ENSG00000174227         0.168507         0.263330         1.000000   \n",
       "ENSG00000133256         0.107453         0.075966         0.274796   \n",
       "ENSG00000169020         0.096555         0.036538         0.158097   \n",
       "\n",
       "                 ENSG00000133256  ENSG00000169020  ENSG00000215375  \\\n",
       "ENSG00000272602         0.107453         0.096555         0.053985   \n",
       "ENSG00000131127         0.075966         0.036538         0.043204   \n",
       "ENSG00000174227         0.274796         0.158097         0.081471   \n",
       "ENSG00000133256         1.000000         0.246137         0.276514   \n",
       "ENSG00000169020         0.246137         1.000000         0.178017   \n",
       "\n",
       "                 ENSG00000169026  ENSG00000178950  ENSG00000145214  \\\n",
       "ENSG00000272602         0.063634         0.012272         0.006584   \n",
       "ENSG00000131127         0.041609         0.007476         0.009562   \n",
       "ENSG00000174227         0.102576         0.007931         0.008272   \n",
       "ENSG00000133256         0.273328         0.012782         0.007655   \n",
       "ENSG00000169020         0.228526         0.006056         0.006638   \n",
       "\n",
       "                 ENSG00000145217  ...  ENSG00000109674  ENSG00000038002  \\\n",
       "ENSG00000272602         0.001559  ...         0.010453         0.005149   \n",
       "ENSG00000131127         0.002483  ...         0.006922         0.004238   \n",
       "ENSG00000174227         0.004041  ...         0.006857         0.002611   \n",
       "ENSG00000133256         0.001578  ...         0.010384         0.005299   \n",
       "ENSG00000169020         0.001911  ...         0.001814         0.000699   \n",
       "\n",
       "                 ENSG00000129187  ENSG00000168310  ENSG00000164305  \\\n",
       "ENSG00000272602         0.010104         0.011093         0.008498   \n",
       "ENSG00000131127         0.004431         0.010204         0.003890   \n",
       "ENSG00000174227         0.011521         0.006669         0.005326   \n",
       "ENSG00000133256         0.006347         0.003929         0.004955   \n",
       "ENSG00000169020         0.004611         0.003805         0.000369   \n",
       "\n",
       "                 ENSG00000151726  ENSG00000151729  ENSG00000164342  \\\n",
       "ENSG00000272602         0.005795         0.009951         0.006716   \n",
       "ENSG00000131127         0.008139         0.007795         0.007423   \n",
       "ENSG00000174227         0.006427         0.006670         0.006830   \n",
       "ENSG00000133256         0.004711         0.006356         0.009256   \n",
       "ENSG00000169020         0.003265         0.002594         0.001526   \n",
       "\n",
       "                 ENSG00000164344  ENSG00000109536  \n",
       "ENSG00000272602         0.005504         0.007268  \n",
       "ENSG00000131127         0.002115         0.002690  \n",
       "ENSG00000174227         0.006222         0.002279  \n",
       "ENSG00000133256         0.004887         0.006680  \n",
       "ENSG00000169020         0.000904         0.002050  \n",
       "\n",
       "[5 rows x 244 columns]"
      ]
     },
     "execution_count": 31,
     "metadata": {},
     "output_type": "execute_result"
    }
   ],
   "source": [
    "gene_corrs_df.head()"
   ]
  },
  {
   "cell_type": "markdown",
   "id": "dad6603f-01c6-41fb-a6f6-241051207dd8",
   "metadata": {
    "papermill": {
     "duration": 1.40712,
     "end_time": "2022-08-03T02:45:15.376221",
     "exception": false,
     "start_time": "2022-08-03T02:45:13.969101",
     "status": "completed"
    },
    "tags": []
   },
   "source": [
    "## Standard checks and stats"
   ]
  },
  {
   "cell_type": "code",
   "execution_count": 32,
   "id": "286686af-1b7b-4440-8453-6bdcbd8de19c",
   "metadata": {
    "execution": {
     "iopub.execute_input": "2022-08-03T02:45:18.291370Z",
     "iopub.status.busy": "2022-08-03T02:45:18.291131Z",
     "iopub.status.idle": "2022-08-03T02:45:18.310704Z",
     "shell.execute_reply": "2022-08-03T02:45:18.310290Z"
    },
    "papermill": {
     "duration": 1.483733,
     "end_time": "2022-08-03T02:45:18.312123",
     "exception": false,
     "start_time": "2022-08-03T02:45:16.828390",
     "status": "completed"
    },
    "tags": []
   },
   "outputs": [],
   "source": [
    "assert not gene_corrs_df.isna().any().any()"
   ]
  },
  {
   "cell_type": "code",
   "execution_count": 33,
   "id": "00583efc-7068-4270-ad1e-4a418e91db96",
   "metadata": {
    "execution": {
     "iopub.execute_input": "2022-08-03T02:45:21.055130Z",
     "iopub.status.busy": "2022-08-03T02:45:21.054879Z",
     "iopub.status.idle": "2022-08-03T02:45:21.077154Z",
     "shell.execute_reply": "2022-08-03T02:45:21.076742Z"
    },
    "papermill": {
     "duration": 1.407311,
     "end_time": "2022-08-03T02:45:21.078401",
     "exception": false,
     "start_time": "2022-08-03T02:45:19.671090",
     "status": "completed"
    },
    "tags": []
   },
   "outputs": [
    {
     "data": {
      "text/plain": [
       "4.997967428501807e-09"
      ]
     },
     "metadata": {},
     "output_type": "display_data"
    }
   ],
   "source": [
    "_min_val = gene_corrs_df.min().min()\n",
    "display(_min_val)\n",
    "assert _min_val >= 0.0"
   ]
  },
  {
   "cell_type": "code",
   "execution_count": 34,
   "id": "d04fb2cf-1050-475b-b855-f5f7cc04092b",
   "metadata": {
    "execution": {
     "iopub.execute_input": "2022-08-03T02:45:24.010004Z",
     "iopub.status.busy": "2022-08-03T02:45:24.009763Z",
     "iopub.status.idle": "2022-08-03T02:45:24.032276Z",
     "shell.execute_reply": "2022-08-03T02:45:24.031861Z"
    },
    "papermill": {
     "duration": 1.506204,
     "end_time": "2022-08-03T02:45:24.033527",
     "exception": false,
     "start_time": "2022-08-03T02:45:22.527323",
     "status": "completed"
    },
    "tags": []
   },
   "outputs": [
    {
     "data": {
      "text/plain": [
       "1.0"
      ]
     },
     "metadata": {},
     "output_type": "display_data"
    }
   ],
   "source": [
    "_max_val = gene_corrs_df.max().max()  # this captures the diagonal\n",
    "display(_max_val)\n",
    "assert _max_val <= 1.0"
   ]
  },
  {
   "cell_type": "code",
   "execution_count": 35,
   "id": "96d02c44-1fba-47be-8a93-8f2608420b9c",
   "metadata": {
    "execution": {
     "iopub.execute_input": "2022-08-03T02:45:26.827095Z",
     "iopub.status.busy": "2022-08-03T02:45:26.826846Z",
     "iopub.status.idle": "2022-08-03T02:45:26.846641Z",
     "shell.execute_reply": "2022-08-03T02:45:26.846220Z"
    },
    "papermill": {
     "duration": 1.401476,
     "end_time": "2022-08-03T02:45:26.848085",
     "exception": false,
     "start_time": "2022-08-03T02:45:25.446609",
     "status": "completed"
    },
    "tags": []
   },
   "outputs": [],
   "source": [
    "# check upper triangular values\n",
    "assert len(gene_corrs) == int(genes_chr.shape[0] * (genes_chr.shape[0] - 1) / 2)"
   ]
  },
  {
   "cell_type": "code",
   "execution_count": 36,
   "id": "fe283586-c348-40e0-8841-f6d97bfb021c",
   "metadata": {
    "execution": {
     "iopub.execute_input": "2022-08-03T02:45:29.722203Z",
     "iopub.status.busy": "2022-08-03T02:45:29.721952Z",
     "iopub.status.idle": "2022-08-03T02:45:29.746769Z",
     "shell.execute_reply": "2022-08-03T02:45:29.746313Z"
    },
    "papermill": {
     "duration": 1.475665,
     "end_time": "2022-08-03T02:45:29.748207",
     "exception": false,
     "start_time": "2022-08-03T02:45:28.272542",
     "status": "completed"
    },
    "tags": []
   },
   "outputs": [
    {
     "data": {
      "text/plain": [
       "count    2.964600e+04\n",
       "mean     7.241333e-03\n",
       "std      2.242368e-02\n",
       "min      4.997967e-09\n",
       "25%      3.649413e-03\n",
       "50%      5.655399e-03\n",
       "75%      7.912568e-03\n",
       "max      9.625489e-01\n",
       "dtype: float64"
      ]
     },
     "execution_count": 36,
     "metadata": {},
     "output_type": "execute_result"
    }
   ],
   "source": [
    "gene_corrs_flat.describe()"
   ]
  },
  {
   "cell_type": "code",
   "execution_count": 37,
   "id": "b3815678-0f93-4b35-897b-a9d047a2aa78",
   "metadata": {
    "execution": {
     "iopub.execute_input": "2022-08-03T02:45:32.528388Z",
     "iopub.status.busy": "2022-08-03T02:45:32.528132Z",
     "iopub.status.idle": "2022-08-03T02:45:32.551804Z",
     "shell.execute_reply": "2022-08-03T02:45:32.551409Z"
    },
    "papermill": {
     "duration": 1.395354,
     "end_time": "2022-08-03T02:45:32.553082",
     "exception": false,
     "start_time": "2022-08-03T02:45:31.157728",
     "status": "completed"
    },
    "tags": []
   },
   "outputs": [
    {
     "data": {
      "text/plain": [
       "0.00    4.997967e-09\n",
       "0.05    1.344914e-03\n",
       "0.10    2.078552e-03\n",
       "0.15    2.685255e-03\n",
       "0.20    3.188058e-03\n",
       "0.25    3.649413e-03\n",
       "0.30    4.059860e-03\n",
       "0.35    4.485957e-03\n",
       "0.40    4.883722e-03\n",
       "0.45    5.263012e-03\n",
       "0.50    5.655399e-03\n",
       "0.55    6.063555e-03\n",
       "0.60    6.478997e-03\n",
       "0.65    6.897461e-03\n",
       "0.70    7.389538e-03\n",
       "0.75    7.912568e-03\n",
       "0.80    8.521618e-03\n",
       "0.85    9.242749e-03\n",
       "0.90    1.022509e-02\n",
       "0.95    1.177217e-02\n",
       "dtype: float64"
      ]
     },
     "metadata": {},
     "output_type": "display_data"
    }
   ],
   "source": [
    "gene_corrs_quantiles = gene_corrs_flat.quantile(np.arange(0, 1, 0.05))\n",
    "display(gene_corrs_quantiles)"
   ]
  },
  {
   "cell_type": "markdown",
   "id": "87134509-b145-4a10-8bc9-b7e914c2b0fa",
   "metadata": {
    "papermill": {
     "duration": 1.43403,
     "end_time": "2022-08-03T02:45:35.442041",
     "exception": false,
     "start_time": "2022-08-03T02:45:34.008011",
     "status": "completed"
    },
    "tags": []
   },
   "source": [
    "## Positive definiteness"
   ]
  },
  {
   "cell_type": "code",
   "execution_count": 38,
   "id": "07d9a9a1-a4f7-48aa-b916-6d42a8cc6186",
   "metadata": {
    "execution": {
     "iopub.execute_input": "2022-08-03T02:45:38.195026Z",
     "iopub.status.busy": "2022-08-03T02:45:38.194790Z",
     "iopub.status.idle": "2022-08-03T02:45:38.228361Z",
     "shell.execute_reply": "2022-08-03T02:45:38.227940Z"
    },
    "papermill": {
     "duration": 1.396837,
     "end_time": "2022-08-03T02:45:38.229621",
     "exception": false,
     "start_time": "2022-08-03T02:45:36.832784",
     "status": "completed"
    },
    "tags": []
   },
   "outputs": [
    {
     "data": {
      "text/plain": [
       "0"
      ]
     },
     "metadata": {},
     "output_type": "display_data"
    },
    {
     "data": {
      "text/plain": [
       "array([], dtype=float64)"
      ]
     },
     "metadata": {},
     "output_type": "display_data"
    }
   ],
   "source": [
    "# print negative eigenvalues\n",
    "eigs = np.linalg.eigvals(gene_corrs_df.to_numpy())\n",
    "display(len(eigs[eigs < 0]))\n",
    "display(eigs[eigs < 0])"
   ]
  },
  {
   "cell_type": "code",
   "execution_count": 39,
   "id": "6e218436-c3c5-4028-8c94-a4fa6260efce",
   "metadata": {
    "execution": {
     "iopub.execute_input": "2022-08-03T02:45:41.070800Z",
     "iopub.status.busy": "2022-08-03T02:45:41.070566Z",
     "iopub.status.idle": "2022-08-03T02:45:41.095960Z",
     "shell.execute_reply": "2022-08-03T02:45:41.095554Z"
    },
    "papermill": {
     "duration": 1.450295,
     "end_time": "2022-08-03T02:45:41.097244",
     "exception": false,
     "start_time": "2022-08-03T02:45:39.646949",
     "status": "completed"
    },
    "tags": []
   },
   "outputs": [
    {
     "name": "stdout",
     "output_type": "stream",
     "text": [
      "Works!\n"
     ]
    }
   ],
   "source": [
    "try:\n",
    "    chol_mat = np.linalg.cholesky(gene_corrs_df.to_numpy())\n",
    "    cov_inv = np.linalg.inv(chol_mat)\n",
    "    print(\"Works!\")\n",
    "except:\n",
    "    print(\"Cholesky decomposition failed\")"
   ]
  },
  {
   "cell_type": "markdown",
   "id": "8e60a080-edb2-4e9c-b2ef-22961693200c",
   "metadata": {
    "papermill": {
     "duration": 1.362288,
     "end_time": "2022-08-03T02:45:43.827344",
     "exception": false,
     "start_time": "2022-08-03T02:45:42.465056",
     "status": "completed"
    },
    "tags": []
   },
   "source": [
    "## Plot: distribution"
   ]
  },
  {
   "cell_type": "code",
   "execution_count": 40,
   "id": "8301126b-a7d4-4744-9c7d-f0f86eb6f54c",
   "metadata": {
    "execution": {
     "iopub.execute_input": "2022-08-03T02:45:46.701964Z",
     "iopub.status.busy": "2022-08-03T02:45:46.701724Z",
     "iopub.status.idle": "2022-08-03T02:45:53.865611Z",
     "shell.execute_reply": "2022-08-03T02:45:53.865134Z"
    },
    "papermill": {
     "duration": 8.611472,
     "end_time": "2022-08-03T02:45:53.867095",
     "exception": false,
     "start_time": "2022-08-03T02:45:45.255623",
     "status": "completed"
    },
    "tags": []
   },
   "outputs": [
    {
     "data": {
      "image/png": "[encoded data removed]",
      "text/plain": [
       "<Figure size 504x504 with 1 Axes>"
      ]
     },
     "metadata": {
      "needs_background": "light"
     },
     "output_type": "display_data"
    }
   ],
   "source": [
    "with sns.plotting_context(\"paper\", font_scale=1.5):\n",
    "    g = sns.displot(gene_corrs_flat, kde=True, height=7)\n",
    "    g.ax.set_title(\n",
    "        f\"Distribution of gene correlation values in chromosome {CHROMOSOME}\"\n",
    "    )"
   ]
  },
  {
   "cell_type": "markdown",
   "id": "cbd52bca-d878-4a2f-b684-5c83aa3038d4",
   "metadata": {
    "papermill": {
     "duration": 1.363392,
     "end_time": "2022-08-03T02:45:56.588665",
     "exception": false,
     "start_time": "2022-08-03T02:45:55.225273",
     "status": "completed"
    },
    "tags": []
   },
   "source": [
    "## Plot: heatmap"
   ]
  },
  {
   "cell_type": "code",
   "execution_count": 41,
   "id": "d03fe63a-c7b2-4fb9-a53c-db362ce843c9",
   "metadata": {
    "execution": {
     "iopub.execute_input": "2022-08-03T02:45:59.452981Z",
     "iopub.status.busy": "2022-08-03T02:45:59.452739Z",
     "iopub.status.idle": "2022-08-03T02:45:59.479562Z",
     "shell.execute_reply": "2022-08-03T02:45:59.479161Z"
    },
    "papermill": {
     "duration": 1.458272,
     "end_time": "2022-08-03T02:45:59.480815",
     "exception": false,
     "start_time": "2022-08-03T02:45:58.022543",
     "status": "completed"
    },
    "tags": []
   },
   "outputs": [
    {
     "data": {
      "text/plain": [
       "'0.0 / 0.05'"
      ]
     },
     "metadata": {},
     "output_type": "display_data"
    }
   ],
   "source": [
    "vmin_val = min(0.00, gene_corrs_quantiles[0.10])\n",
    "vmax_val = max(0.05, gene_corrs_quantiles[0.90])\n",
    "display(f\"{vmin_val} / {vmax_val}\")"
   ]
  },
  {
   "cell_type": "code",
   "execution_count": 42,
   "id": "dc41b70b-5bcc-4d9e-9f33-a22c4a94dab5",
   "metadata": {
    "execution": {
     "iopub.execute_input": "2022-08-03T02:46:02.208261Z",
     "iopub.status.busy": "2022-08-03T02:46:02.207993Z",
     "iopub.status.idle": "2022-08-03T02:46:02.415982Z",
     "shell.execute_reply": "2022-08-03T02:46:02.415539Z"
    },
    "papermill": {
     "duration": 1.568275,
     "end_time": "2022-08-03T02:46:02.417468",
     "exception": false,
     "start_time": "2022-08-03T02:46:00.849193",
     "status": "completed"
    },
    "tags": []
   },
   "outputs": [
    {
     "data": {
      "text/plain": [
       "Text(0.5, 1.0, 'Gene correlations in chromosome 4')"
      ]
     },
     "execution_count": 42,
     "metadata": {},
     "output_type": "execute_result"
    },
    {
     "data": {
      "image/png": "[encoded data removed]",
      "text/plain": [
       "<Figure size 720x720 with 2 Axes>"
      ]
     },
     "metadata": {
      "needs_background": "light"
     },
     "output_type": "display_data"
    }
   ],
   "source": [
    "f, ax = plt.subplots(figsize=(10, 10))\n",
    "sns.heatmap(\n",
    "    gene_corrs_df,\n",
    "    xticklabels=False,\n",
    "    yticklabels=False,\n",
    "    square=True,\n",
    "    vmin=vmin_val,\n",
    "    vmax=vmax_val,\n",
    "    cmap=\"rocket_r\",\n",
    "    ax=ax,\n",
    ")\n",
    "ax.set_title(f\"Gene correlations in chromosome {CHROMOSOME}\")"
   ]
  },
  {
   "cell_type": "code",
   "execution_count": null,
   "id": "b25e3ead",
   "metadata": {
    "papermill": {
     "duration": 1.46579,
     "end_time": "2022-08-03T02:46:05.330644",
     "exception": false,
     "start_time": "2022-08-03T02:46:03.864854",
     "status": "completed"
    },
    "tags": []
   },
   "outputs": [],
   "source": []
  }
 ],
 "metadata": {
  "jupytext": {
   "cell_metadata_filter": "all,-execution,-papermill,-trusted",
   "formats": "ipynb,py//py:percent"
  },
  "kernelspec": {
   "display_name": "Python 3 (ipykernel)",
   "language": "python",
   "name": "python3"
  },
  "language_info": {
   "codemirror_mode": {
    "name": "ipython",
    "version": 3
   },
   "file_extension": ".py",
   "mimetype": "text/x-python",
   "name": "python",
   "nbconvert_exporter": "python",
   "pygments_lexer": "ipython3",
   "version": "3.8.13"
  },
  "papermill": {
   "default_parameters": {},
   "duration": 1780.571923,
   "end_time": "2022-08-03T02:46:10.177668",
   "environment_variables": {},
   "exception": null,
   "input_path": "nbs/15_gsa_gls/10-gene_expr_correlations.ipynb",
   "output_path": "nbs/15_gsa_gls/gene_corrs/cohorts/1000g_eur/gtex_v8/mashr/10-gene_expr_correlations-chr4.run.ipynb",
   "parameters": {
    "CHROMOSOME": 4,
    "COHORT_NAME": "1000G_EUR",
    "EQTL_MODEL": "MASHR",
    "REFERENCE_PANEL": "GTEX_V8"
   },
   "start_time": "2022-08-03T02:16:29.605745",
   "version": "2.2.2"
  }
 },
 "nbformat": 4,
 "nbformat_minor": 5
}
