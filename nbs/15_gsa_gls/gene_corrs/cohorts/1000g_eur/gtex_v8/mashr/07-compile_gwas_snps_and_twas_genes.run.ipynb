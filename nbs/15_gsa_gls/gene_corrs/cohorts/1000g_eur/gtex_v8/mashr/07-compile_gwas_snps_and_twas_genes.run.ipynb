{
 "cells": [
  {
   "cell_type": "markdown",
   "id": "7a6632fb",
   "metadata": {
    "papermill": {
     "duration": 0.048163,
     "end_time": "2022-08-08T02:16:39.168240",
     "exception": false,
     "start_time": "2022-08-08T02:16:39.120077",
     "status": "completed"
    },
    "tags": []
   },
   "source": [
    "# Description"
   ]
  },
  {
   "cell_type": "markdown",
   "id": "7097c346",
   "metadata": {
    "papermill": {
     "duration": 0.014577,
     "end_time": "2022-08-08T02:16:39.199636",
     "exception": false,
     "start_time": "2022-08-08T02:16:39.185059",
     "status": "completed"
    },
    "tags": []
   },
   "source": [
    "(Please, take a look at the README.md file in this directory for instructions on how to run this notebook)\n",
    "\n",
    "This notebook compiles information about the GWAS and TWAS for a particular cohort. For example, the set of GWAS variants, variance of predicted expression of genes, etc.\n",
    "\n",
    "It has specicfic parameters for papermill (see under `Settings` below).\n",
    "\n",
    "This notebook is not directly run. See README.md."
   ]
  },
  {
   "cell_type": "markdown",
   "id": "c61d8427",
   "metadata": {
    "papermill": {
     "duration": 0.014297,
     "end_time": "2022-08-08T02:16:39.228415",
     "exception": false,
     "start_time": "2022-08-08T02:16:39.214118",
     "status": "completed"
    },
    "tags": []
   },
   "source": [
    "# Modules"
   ]
  },
  {
   "cell_type": "code",
   "execution_count": 1,
   "id": "bbc0234f",
   "metadata": {
    "execution": {
     "iopub.execute_input": "2022-08-08T02:16:39.258362Z",
     "iopub.status.busy": "2022-08-08T02:16:39.258123Z",
     "iopub.status.idle": "2022-08-08T02:16:39.271807Z",
     "shell.execute_reply": "2022-08-08T02:16:39.271295Z"
    },
    "papermill": {
     "duration": 0.030518,
     "end_time": "2022-08-08T02:16:39.273198",
     "exception": false,
     "start_time": "2022-08-08T02:16:39.242680",
     "status": "completed"
    },
    "tags": []
   },
   "outputs": [],
   "source": [
    "%load_ext autoreload\n",
    "%autoreload 2"
   ]
  },
  {
   "cell_type": "code",
   "execution_count": 2,
   "id": "1d5f5a59",
   "metadata": {
    "execution": {
     "iopub.execute_input": "2022-08-08T02:16:39.304245Z",
     "iopub.status.busy": "2022-08-08T02:16:39.304045Z",
     "iopub.status.idle": "2022-08-08T02:16:39.764800Z",
     "shell.execute_reply": "2022-08-08T02:16:39.764262Z"
    },
    "papermill": {
     "duration": 0.477739,
     "end_time": "2022-08-08T02:16:39.766254",
     "exception": false,
     "start_time": "2022-08-08T02:16:39.288515",
     "status": "completed"
    },
    "tags": []
   },
   "outputs": [],
   "source": [
    "from pathlib import Path\n",
    "import pickle\n",
    "\n",
    "import numpy as np\n",
    "import pandas as pd\n",
    "\n",
    "import conf\n",
    "from entity import Gene"
   ]
  },
  {
   "cell_type": "markdown",
   "id": "1eac24b5",
   "metadata": {
    "papermill": {
     "duration": 0.014433,
     "end_time": "2022-08-08T02:16:39.796822",
     "exception": false,
     "start_time": "2022-08-08T02:16:39.782389",
     "status": "completed"
    },
    "tags": []
   },
   "source": [
    "# Settings"
   ]
  },
  {
   "cell_type": "code",
   "execution_count": 3,
   "id": "ca4560ba",
   "metadata": {
    "execution": {
     "iopub.execute_input": "2022-08-08T02:16:39.827768Z",
     "iopub.status.busy": "2022-08-08T02:16:39.827511Z",
     "iopub.status.idle": "2022-08-08T02:16:39.839752Z",
     "shell.execute_reply": "2022-08-08T02:16:39.839284Z"
    },
    "papermill": {
     "duration": 0.029151,
     "end_time": "2022-08-08T02:16:39.841058",
     "exception": false,
     "start_time": "2022-08-08T02:16:39.811907",
     "status": "completed"
    },
    "tags": [
     "parameters"
    ]
   },
   "outputs": [],
   "source": [
    "# a cohort name (it could be something like UK_BIOBANK, etc)\n",
    "COHORT_NAME = None\n",
    "\n",
    "# reference panel such as 1000G or GTEX_V8\n",
    "REFERENCE_PANEL = None\n",
    "\n",
    "# predictions models such as MASHR or ELASTIC_NET\n",
    "EQTL_MODEL = None\n",
    "\n",
    "# a string with a path pointing to an imputed GWAS\n",
    "GWAS_FILE = None\n",
    "\n",
    "# a string with a path pointing where S-PrediXcan results (tissue-specific are located\n",
    "SPREDIXCAN_FOLDER = None\n",
    "\n",
    "# an f-string with one placeholder {tissue}\n",
    "SPREDIXCAN_FILE_PATTERN = None\n",
    "\n",
    "# a string with a path pointing to an S-MultiXcan result\n",
    "SMULTIXCAN_FILE = None"
   ]
  },
  {
   "cell_type": "code",
   "execution_count": 4,
   "id": "be07e165",
   "metadata": {
    "execution": {
     "iopub.execute_input": "2022-08-08T02:16:39.871693Z",
     "iopub.status.busy": "2022-08-08T02:16:39.871465Z",
     "iopub.status.idle": "2022-08-08T02:16:39.883975Z",
     "shell.execute_reply": "2022-08-08T02:16:39.883366Z"
    },
    "papermill": {
     "duration": 0.029259,
     "end_time": "2022-08-08T02:16:39.885240",
     "exception": false,
     "start_time": "2022-08-08T02:16:39.855981",
     "status": "completed"
    },
    "tags": [
     "injected-parameters"
    ]
   },
   "outputs": [],
   "source": [
    "# Parameters\n",
    "COHORT_NAME = \"1000G_EUR\"\n",
    "REFERENCE_PANEL = \"GTEX_V8\"\n",
    "EQTL_MODEL = \"MASHR\"\n",
    "GWAS_FILE = \"/opt/data/results/gls/null_sims/final_imputed_gwas/random.pheno0.glm-imputed.txt.gz\"\n",
    "SPREDIXCAN_FOLDER = \"/opt/data/results/gls/null_sims/twas/spredixcan/\"\n",
    "SPREDIXCAN_FILE_PATTERN = \"random.pheno0-gtex_v8-mashr-{tissue}.csv\"\n",
    "SMULTIXCAN_FILE = \"/opt/data/results/gls/null_sims/twas/smultixcan/random.pheno0-gtex_v8-mashr-smultixcan.txt\"\n"
   ]
  },
  {
   "cell_type": "code",
   "execution_count": 5,
   "id": "8fe24bef",
   "metadata": {
    "execution": {
     "iopub.execute_input": "2022-08-08T02:16:39.916341Z",
     "iopub.status.busy": "2022-08-08T02:16:39.916138Z",
     "iopub.status.idle": "2022-08-08T02:16:39.935234Z",
     "shell.execute_reply": "2022-08-08T02:16:39.934624Z"
    },
    "papermill": {
     "duration": 0.036194,
     "end_time": "2022-08-08T02:16:39.936767",
     "exception": false,
     "start_time": "2022-08-08T02:16:39.900573",
     "status": "completed"
    },
    "tags": []
   },
   "outputs": [
    {
     "data": {
      "text/plain": [
       "'Cohort name: 1000g_eur'"
      ]
     },
     "metadata": {},
     "output_type": "display_data"
    }
   ],
   "source": [
    "assert COHORT_NAME is not None and len(COHORT_NAME) > 0, \"A cohort name must be given\"\n",
    "\n",
    "COHORT_NAME = COHORT_NAME.lower()\n",
    "display(f\"Cohort name: {COHORT_NAME}\")"
   ]
  },
  {
   "cell_type": "code",
   "execution_count": 6,
   "id": "f53ba19b-0f93-4fa2-a047-63b375939d1a",
   "metadata": {
    "execution": {
     "iopub.execute_input": "2022-08-08T02:16:39.976554Z",
     "iopub.status.busy": "2022-08-08T02:16:39.976377Z",
     "iopub.status.idle": "2022-08-08T02:16:39.990299Z",
     "shell.execute_reply": "2022-08-08T02:16:39.989838Z"
    },
    "papermill": {
     "duration": 0.034865,
     "end_time": "2022-08-08T02:16:39.991666",
     "exception": false,
     "start_time": "2022-08-08T02:16:39.956801",
     "status": "completed"
    },
    "tags": []
   },
   "outputs": [
    {
     "data": {
      "text/plain": [
       "'Reference panel: GTEX_V8'"
      ]
     },
     "metadata": {},
     "output_type": "display_data"
    }
   ],
   "source": [
    "assert (\n",
    "    REFERENCE_PANEL is not None and len(REFERENCE_PANEL) > 0\n",
    "), \"A reference panel must be given\"\n",
    "\n",
    "display(f\"Reference panel: {REFERENCE_PANEL}\")"
   ]
  },
  {
   "cell_type": "code",
   "execution_count": 7,
   "id": "7a970044-2d34-4e5b-a850-eff44079afe8",
   "metadata": {
    "execution": {
     "iopub.execute_input": "2022-08-08T02:16:40.027439Z",
     "iopub.status.busy": "2022-08-08T02:16:40.027283Z",
     "iopub.status.idle": "2022-08-08T02:16:40.040396Z",
     "shell.execute_reply": "2022-08-08T02:16:40.039954Z"
    },
    "papermill": {
     "duration": 0.031404,
     "end_time": "2022-08-08T02:16:40.041615",
     "exception": false,
     "start_time": "2022-08-08T02:16:40.010211",
     "status": "completed"
    },
    "tags": []
   },
   "outputs": [
    {
     "data": {
      "text/plain": [
       "'GWAS file path: /opt/data/results/gls/null_sims/final_imputed_gwas/random.pheno0.glm-imputed.txt.gz'"
      ]
     },
     "metadata": {},
     "output_type": "display_data"
    }
   ],
   "source": [
    "assert GWAS_FILE is not None and len(GWAS_FILE) > 0, \"A GWAS file path must be given\"\n",
    "GWAS_FILE = Path(GWAS_FILE).resolve()\n",
    "assert GWAS_FILE.exists(), \"GWAS file does not exist\"\n",
    "\n",
    "display(f\"GWAS file path: {str(GWAS_FILE)}\")"
   ]
  },
  {
   "cell_type": "code",
   "execution_count": 8,
   "id": "552a7f63-a18c-4d3e-bb6a-94f99b431291",
   "metadata": {
    "execution": {
     "iopub.execute_input": "2022-08-08T02:16:40.074161Z",
     "iopub.status.busy": "2022-08-08T02:16:40.074001Z",
     "iopub.status.idle": "2022-08-08T02:16:40.086901Z",
     "shell.execute_reply": "2022-08-08T02:16:40.086423Z"
    },
    "papermill": {
     "duration": 0.030674,
     "end_time": "2022-08-08T02:16:40.088233",
     "exception": false,
     "start_time": "2022-08-08T02:16:40.057559",
     "status": "completed"
    },
    "tags": []
   },
   "outputs": [
    {
     "data": {
      "text/plain": [
       "'S-PrediXcan folder path: /opt/data/results/gls/null_sims/twas/spredixcan'"
      ]
     },
     "metadata": {},
     "output_type": "display_data"
    }
   ],
   "source": [
    "assert (\n",
    "    SPREDIXCAN_FOLDER is not None and len(SPREDIXCAN_FOLDER) > 0\n",
    "), \"An S-PrediXcan folder path must be given\"\n",
    "SPREDIXCAN_FOLDER = Path(SPREDIXCAN_FOLDER).resolve()\n",
    "assert SPREDIXCAN_FOLDER.exists(), \"S-PrediXcan folder does not exist\"\n",
    "\n",
    "display(f\"S-PrediXcan folder path: {str(SPREDIXCAN_FOLDER)}\")"
   ]
  },
  {
   "cell_type": "code",
   "execution_count": 9,
   "id": "6e2000dc-f1dc-4db8-93d5-9a7209a2e121",
   "metadata": {
    "execution": {
     "iopub.execute_input": "2022-08-08T02:16:40.121867Z",
     "iopub.status.busy": "2022-08-08T02:16:40.121018Z",
     "iopub.status.idle": "2022-08-08T02:16:40.133759Z",
     "shell.execute_reply": "2022-08-08T02:16:40.133229Z"
    },
    "papermill": {
     "duration": 0.029868,
     "end_time": "2022-08-08T02:16:40.134903",
     "exception": false,
     "start_time": "2022-08-08T02:16:40.105035",
     "status": "completed"
    },
    "tags": []
   },
   "outputs": [
    {
     "data": {
      "text/plain": [
       "'S-PrediXcan file template: random.pheno0-gtex_v8-mashr-{tissue}.csv'"
      ]
     },
     "metadata": {},
     "output_type": "display_data"
    }
   ],
   "source": [
    "assert (\n",
    "    SPREDIXCAN_FILE_PATTERN is not None and len(SPREDIXCAN_FILE_PATTERN) > 0\n",
    "), \"An S-PrediXcan file pattern must be given\"\n",
    "assert (\n",
    "    \"{tissue}\" in SPREDIXCAN_FILE_PATTERN\n",
    "), \"S-PrediXcan file pattern must have a '{tissue}' placeholder\"\n",
    "\n",
    "display(f\"S-PrediXcan file template: {SPREDIXCAN_FILE_PATTERN}\")"
   ]
  },
  {
   "cell_type": "code",
   "execution_count": 10,
   "id": "f5a5aa9d-c6f3-4fb5-9351-37382b6e67bc",
   "metadata": {
    "execution": {
     "iopub.execute_input": "2022-08-08T02:16:40.168133Z",
     "iopub.status.busy": "2022-08-08T02:16:40.167931Z",
     "iopub.status.idle": "2022-08-08T02:16:40.180757Z",
     "shell.execute_reply": "2022-08-08T02:16:40.180312Z"
    },
    "papermill": {
     "duration": 0.030846,
     "end_time": "2022-08-08T02:16:40.181980",
     "exception": false,
     "start_time": "2022-08-08T02:16:40.151134",
     "status": "completed"
    },
    "tags": []
   },
   "outputs": [
    {
     "data": {
      "text/plain": [
       "'S-MultiXcan file path: /opt/data/results/gls/null_sims/twas/smultixcan/random.pheno0-gtex_v8-mashr-smultixcan.txt'"
      ]
     },
     "metadata": {},
     "output_type": "display_data"
    }
   ],
   "source": [
    "assert (\n",
    "    SMULTIXCAN_FILE is not None and len(SMULTIXCAN_FILE) > 0\n",
    "), \"An S-MultiXcan result file path must be given\"\n",
    "SMULTIXCAN_FILE = Path(SMULTIXCAN_FILE).resolve()\n",
    "assert SMULTIXCAN_FILE.exists(), \"S-MultiXcan result file does not exist\"\n",
    "\n",
    "display(f\"S-MultiXcan file path: {str(SMULTIXCAN_FILE)}\")"
   ]
  },
  {
   "cell_type": "code",
   "execution_count": 11,
   "id": "0723dc2f-34d1-407c-a55b-d6d13c55d63d",
   "metadata": {
    "execution": {
     "iopub.execute_input": "2022-08-08T02:16:40.213743Z",
     "iopub.status.busy": "2022-08-08T02:16:40.213544Z",
     "iopub.status.idle": "2022-08-08T02:16:40.226284Z",
     "shell.execute_reply": "2022-08-08T02:16:40.225722Z"
    },
    "papermill": {
     "duration": 0.029792,
     "end_time": "2022-08-08T02:16:40.227508",
     "exception": false,
     "start_time": "2022-08-08T02:16:40.197716",
     "status": "completed"
    },
    "tags": []
   },
   "outputs": [
    {
     "data": {
      "text/plain": [
       "'eQTL model: MASHR'"
      ]
     },
     "metadata": {},
     "output_type": "display_data"
    }
   ],
   "source": [
    "assert (\n",
    "    EQTL_MODEL is not None and len(EQTL_MODEL) > 0\n",
    "), \"A prediction/eQTL model must be given\"\n",
    "\n",
    "display(f\"eQTL model: {EQTL_MODEL}\")"
   ]
  },
  {
   "cell_type": "code",
   "execution_count": 12,
   "id": "396392dc-0340-4540-9b02-e182b833f909",
   "metadata": {
    "execution": {
     "iopub.execute_input": "2022-08-08T02:16:40.259073Z",
     "iopub.status.busy": "2022-08-08T02:16:40.258874Z",
     "iopub.status.idle": "2022-08-08T02:16:40.272086Z",
     "shell.execute_reply": "2022-08-08T02:16:40.271485Z"
    },
    "papermill": {
     "duration": 0.030271,
     "end_time": "2022-08-08T02:16:40.273338",
     "exception": false,
     "start_time": "2022-08-08T02:16:40.243067",
     "status": "completed"
    },
    "tags": []
   },
   "outputs": [
    {
     "data": {
      "text/plain": [
       "'Using output dir base: /opt/data/results/gls/gene_corrs/cohorts/1000g_eur/gtex_v8/mashr'"
      ]
     },
     "metadata": {},
     "output_type": "display_data"
    }
   ],
   "source": [
    "OUTPUT_DIR_BASE = (\n",
    "    conf.RESULTS[\"GLS\"]\n",
    "    / \"gene_corrs\"\n",
    "    / \"cohorts\"\n",
    "    / COHORT_NAME\n",
    "    / REFERENCE_PANEL.lower()\n",
    "    / EQTL_MODEL.lower()\n",
    ")\n",
    "\n",
    "OUTPUT_DIR_BASE.mkdir(parents=True, exist_ok=True)\n",
    "\n",
    "display(f\"Using output dir base: {OUTPUT_DIR_BASE}\")"
   ]
  },
  {
   "cell_type": "markdown",
   "id": "b6ebb422-8204-494b-8c72-360a71ce9863",
   "metadata": {
    "papermill": {
     "duration": 0.015061,
     "end_time": "2022-08-08T02:16:40.304449",
     "exception": false,
     "start_time": "2022-08-08T02:16:40.289388",
     "status": "completed"
    },
    "tags": []
   },
   "source": [
    "# Load MultiPLIER Z genes"
   ]
  },
  {
   "cell_type": "code",
   "execution_count": 13,
   "id": "c48ef527",
   "metadata": {
    "execution": {
     "iopub.execute_input": "2022-08-08T02:16:40.336077Z",
     "iopub.status.busy": "2022-08-08T02:16:40.335466Z",
     "iopub.status.idle": "2022-08-08T02:16:40.373026Z",
     "shell.execute_reply": "2022-08-08T02:16:40.372467Z"
    },
    "papermill": {
     "duration": 0.05508,
     "end_time": "2022-08-08T02:16:40.374550",
     "exception": false,
     "start_time": "2022-08-08T02:16:40.319470",
     "status": "completed"
    },
    "tags": []
   },
   "outputs": [],
   "source": [
    "multiplier_z_genes = pd.read_pickle(\n",
    "    conf.MULTIPLIER[\"MODEL_Z_MATRIX_FILE\"]\n",
    ").index.tolist()"
   ]
  },
  {
   "cell_type": "code",
   "execution_count": 14,
   "id": "0a4ecbd9",
   "metadata": {
    "execution": {
     "iopub.execute_input": "2022-08-08T02:16:40.411357Z",
     "iopub.status.busy": "2022-08-08T02:16:40.411167Z",
     "iopub.status.idle": "2022-08-08T02:16:40.423559Z",
     "shell.execute_reply": "2022-08-08T02:16:40.423112Z"
    },
    "papermill": {
     "duration": 0.030701,
     "end_time": "2022-08-08T02:16:40.424782",
     "exception": false,
     "start_time": "2022-08-08T02:16:40.394081",
     "status": "completed"
    },
    "tags": []
   },
   "outputs": [
    {
     "data": {
      "text/plain": [
       "6750"
      ]
     },
     "execution_count": 14,
     "metadata": {},
     "output_type": "execute_result"
    }
   ],
   "source": [
    "len(multiplier_z_genes)"
   ]
  },
  {
   "cell_type": "code",
   "execution_count": 15,
   "id": "a18ce359-0759-4260-ae6f-053e8c0041b7",
   "metadata": {
    "execution": {
     "iopub.execute_input": "2022-08-08T02:16:40.457113Z",
     "iopub.status.busy": "2022-08-08T02:16:40.456911Z",
     "iopub.status.idle": "2022-08-08T02:16:40.470115Z",
     "shell.execute_reply": "2022-08-08T02:16:40.469595Z"
    },
    "papermill": {
     "duration": 0.03062,
     "end_time": "2022-08-08T02:16:40.471534",
     "exception": false,
     "start_time": "2022-08-08T02:16:40.440914",
     "status": "completed"
    },
    "tags": []
   },
   "outputs": [],
   "source": [
    "assert len(multiplier_z_genes) == len(set(multiplier_z_genes))"
   ]
  },
  {
   "cell_type": "code",
   "execution_count": 16,
   "id": "115e8864",
   "metadata": {
    "execution": {
     "iopub.execute_input": "2022-08-08T02:16:40.510961Z",
     "iopub.status.busy": "2022-08-08T02:16:40.510788Z",
     "iopub.status.idle": "2022-08-08T02:16:40.523645Z",
     "shell.execute_reply": "2022-08-08T02:16:40.523099Z"
    },
    "papermill": {
     "duration": 0.033942,
     "end_time": "2022-08-08T02:16:40.524969",
     "exception": false,
     "start_time": "2022-08-08T02:16:40.491027",
     "status": "completed"
    },
    "tags": []
   },
   "outputs": [
    {
     "data": {
      "text/plain": [
       "['GAS6', 'MMP14', 'DSP', 'MARCKSL1', 'SPARC']"
      ]
     },
     "execution_count": 16,
     "metadata": {},
     "output_type": "execute_result"
    }
   ],
   "source": [
    "multiplier_z_genes[:5]"
   ]
  },
  {
   "cell_type": "markdown",
   "id": "7bed0ce0-e7c7-4300-9a61-5412450b1904",
   "metadata": {
    "papermill": {
     "duration": 0.016286,
     "end_time": "2022-08-08T02:16:40.559063",
     "exception": false,
     "start_time": "2022-08-08T02:16:40.542777",
     "status": "completed"
    },
    "tags": []
   },
   "source": [
    "# GWAS"
   ]
  },
  {
   "cell_type": "code",
   "execution_count": 17,
   "id": "331e5691-c014-43e4-b94c-060c64d329df",
   "metadata": {
    "execution": {
     "iopub.execute_input": "2022-08-08T02:16:40.591107Z",
     "iopub.status.busy": "2022-08-08T02:16:40.590904Z",
     "iopub.status.idle": "2022-08-08T02:16:40.607532Z",
     "shell.execute_reply": "2022-08-08T02:16:40.607052Z"
    },
    "papermill": {
     "duration": 0.033913,
     "end_time": "2022-08-08T02:16:40.608894",
     "exception": false,
     "start_time": "2022-08-08T02:16:40.574981",
     "status": "completed"
    },
    "tags": []
   },
   "outputs": [],
   "source": [
    "gwas_file_columns = pd.read_csv(GWAS_FILE, sep=\"\\t\", nrows=2).columns\n",
    "assert (\n",
    "    \"panel_variant_id\" in gwas_file_columns\n",
    "), \"GWAS file must be final imputed one with column 'panel_variant_id'\"\n",
    "# FIXME: add other needed columns here"
   ]
  },
  {
   "cell_type": "code",
   "execution_count": 18,
   "id": "8d419629-8f4d-4c83-bed3-cfc071a58090",
   "metadata": {
    "execution": {
     "iopub.execute_input": "2022-08-08T02:16:40.642258Z",
     "iopub.status.busy": "2022-08-08T02:16:40.642056Z",
     "iopub.status.idle": "2022-08-08T02:16:54.110270Z",
     "shell.execute_reply": "2022-08-08T02:16:54.109605Z"
    },
    "papermill": {
     "duration": 13.48665,
     "end_time": "2022-08-08T02:16:54.111944",
     "exception": false,
     "start_time": "2022-08-08T02:16:40.625294",
     "status": "completed"
    },
    "tags": []
   },
   "outputs": [],
   "source": [
    "gwas_data = pd.read_csv(\n",
    "    GWAS_FILE,\n",
    "    sep=\"\\t\",\n",
    "    usecols=[\"panel_variant_id\", \"pvalue\", \"zscore\", \"imputation_status\"],\n",
    ")"
   ]
  },
  {
   "cell_type": "code",
   "execution_count": 19,
   "id": "3f4e814e-6b41-407e-9099-86795eec6ed9",
   "metadata": {
    "execution": {
     "iopub.execute_input": "2022-08-08T02:16:54.152161Z",
     "iopub.status.busy": "2022-08-08T02:16:54.151987Z",
     "iopub.status.idle": "2022-08-08T02:16:54.165420Z",
     "shell.execute_reply": "2022-08-08T02:16:54.164951Z"
    },
    "papermill": {
     "duration": 0.034547,
     "end_time": "2022-08-08T02:16:54.166707",
     "exception": false,
     "start_time": "2022-08-08T02:16:54.132160",
     "status": "completed"
    },
    "tags": []
   },
   "outputs": [
    {
     "data": {
      "text/plain": [
       "(8325729, 4)"
      ]
     },
     "execution_count": 19,
     "metadata": {},
     "output_type": "execute_result"
    }
   ],
   "source": [
    "gwas_data.shape"
   ]
  },
  {
   "cell_type": "code",
   "execution_count": 20,
   "id": "b4a906e9-c80a-47fc-9d73-5adb046f8b76",
   "metadata": {
    "execution": {
     "iopub.execute_input": "2022-08-08T02:16:54.201262Z",
     "iopub.status.busy": "2022-08-08T02:16:54.201061Z",
     "iopub.status.idle": "2022-08-08T02:16:54.217599Z",
     "shell.execute_reply": "2022-08-08T02:16:54.217114Z"
    },
    "papermill": {
     "duration": 0.034297,
     "end_time": "2022-08-08T02:16:54.218812",
     "exception": false,
     "start_time": "2022-08-08T02:16:54.184515",
     "status": "completed"
    },
    "tags": []
   },
   "outputs": [
    {
     "data": {
      "text/html": [
       "<div>\n",
       "<style scoped>\n",
       "    .dataframe tbody tr th:only-of-type {\n",
       "        vertical-align: middle;\n",
       "    }\n",
       "\n",
       "    .dataframe tbody tr th {\n",
       "        vertical-align: top;\n",
       "    }\n",
       "\n",
       "    .dataframe thead th {\n",
       "        text-align: right;\n",
       "    }\n",
       "</style>\n",
       "<table border=\"1\" class=\"dataframe\">\n",
       "  <thead>\n",
       "    <tr style=\"text-align: right;\">\n",
       "      <th></th>\n",
       "      <th>panel_variant_id</th>\n",
       "      <th>zscore</th>\n",
       "      <th>pvalue</th>\n",
       "      <th>imputation_status</th>\n",
       "    </tr>\n",
       "  </thead>\n",
       "  <tbody>\n",
       "    <tr>\n",
       "      <th>0</th>\n",
       "      <td>chr1_54490_G_A_b38</td>\n",
       "      <td>1.567452</td>\n",
       "      <td>0.117009</td>\n",
       "      <td>original</td>\n",
       "    </tr>\n",
       "    <tr>\n",
       "      <th>1</th>\n",
       "      <td>chr1_87021_T_C_b38</td>\n",
       "      <td>0.244372</td>\n",
       "      <td>0.806943</td>\n",
       "      <td>imputed</td>\n",
       "    </tr>\n",
       "    <tr>\n",
       "      <th>2</th>\n",
       "      <td>chr1_263722_C_G_b38</td>\n",
       "      <td>1.155239</td>\n",
       "      <td>0.247993</td>\n",
       "      <td>imputed</td>\n",
       "    </tr>\n",
       "    <tr>\n",
       "      <th>3</th>\n",
       "      <td>chr1_594402_C_T_b38</td>\n",
       "      <td>0.851234</td>\n",
       "      <td>0.394639</td>\n",
       "      <td>imputed</td>\n",
       "    </tr>\n",
       "    <tr>\n",
       "      <th>4</th>\n",
       "      <td>chr1_630555_C_T_b38</td>\n",
       "      <td>0.855129</td>\n",
       "      <td>0.392480</td>\n",
       "      <td>imputed</td>\n",
       "    </tr>\n",
       "  </tbody>\n",
       "</table>\n",
       "</div>"
      ],
      "text/plain": [
       "      panel_variant_id    zscore    pvalue imputation_status\n",
       "0   chr1_54490_G_A_b38  1.567452  0.117009          original\n",
       "1   chr1_87021_T_C_b38  0.244372  0.806943           imputed\n",
       "2  chr1_263722_C_G_b38  1.155239  0.247993           imputed\n",
       "3  chr1_594402_C_T_b38  0.851234  0.394639           imputed\n",
       "4  chr1_630555_C_T_b38  0.855129  0.392480           imputed"
      ]
     },
     "execution_count": 20,
     "metadata": {},
     "output_type": "execute_result"
    }
   ],
   "source": [
    "gwas_data.head()"
   ]
  },
  {
   "cell_type": "code",
   "execution_count": 21,
   "id": "346e2f88-44c6-4067-8752-118e2491f6fa",
   "metadata": {
    "execution": {
     "iopub.execute_input": "2022-08-08T02:16:54.253251Z",
     "iopub.status.busy": "2022-08-08T02:16:54.252590Z",
     "iopub.status.idle": "2022-08-08T02:16:54.632616Z",
     "shell.execute_reply": "2022-08-08T02:16:54.631878Z"
    },
    "papermill": {
     "duration": 0.39842,
     "end_time": "2022-08-08T02:16:54.633904",
     "exception": false,
     "start_time": "2022-08-08T02:16:54.235484",
     "status": "completed"
    },
    "tags": []
   },
   "outputs": [
    {
     "data": {
      "text/plain": [
       "array(['original', 'imputed'], dtype=object)"
      ]
     },
     "execution_count": 21,
     "metadata": {},
     "output_type": "execute_result"
    }
   ],
   "source": [
    "gwas_data[\"imputation_status\"].unique()"
   ]
  },
  {
   "cell_type": "code",
   "execution_count": 22,
   "id": "033c24fb-9c60-4ffd-929e-b0e6089820ae",
   "metadata": {
    "execution": {
     "iopub.execute_input": "2022-08-08T02:16:54.671315Z",
     "iopub.status.busy": "2022-08-08T02:16:54.670846Z",
     "iopub.status.idle": "2022-08-08T02:16:55.595044Z",
     "shell.execute_reply": "2022-08-08T02:16:55.594513Z"
    },
    "papermill": {
     "duration": 0.943554,
     "end_time": "2022-08-08T02:16:55.596546",
     "exception": false,
     "start_time": "2022-08-08T02:16:54.652992",
     "status": "completed"
    },
    "tags": []
   },
   "outputs": [
    {
     "data": {
      "text/plain": [
       "(8325729, 4)"
      ]
     },
     "execution_count": 22,
     "metadata": {},
     "output_type": "execute_result"
    }
   ],
   "source": [
    "gwas_data.dropna().shape"
   ]
  },
  {
   "cell_type": "code",
   "execution_count": 23,
   "id": "28232ce5-0afd-464e-9be3-64c3a68c2b25",
   "metadata": {
    "execution": {
     "iopub.execute_input": "2022-08-08T02:16:55.637484Z",
     "iopub.status.busy": "2022-08-08T02:16:55.637312Z",
     "iopub.status.idle": "2022-08-08T02:16:56.470596Z",
     "shell.execute_reply": "2022-08-08T02:16:56.469983Z"
    },
    "papermill": {
     "duration": 0.855083,
     "end_time": "2022-08-08T02:16:56.472193",
     "exception": false,
     "start_time": "2022-08-08T02:16:55.617110",
     "status": "completed"
    },
    "tags": []
   },
   "outputs": [],
   "source": [
    "# remove SNPs with no results\n",
    "gwas_data = gwas_data.dropna()"
   ]
  },
  {
   "cell_type": "code",
   "execution_count": 24,
   "id": "d9a6c31f-eedd-43e5-b762-5a9663be1b77",
   "metadata": {
    "execution": {
     "iopub.execute_input": "2022-08-08T02:16:56.510913Z",
     "iopub.status.busy": "2022-08-08T02:16:56.510755Z",
     "iopub.status.idle": "2022-08-08T02:16:56.523510Z",
     "shell.execute_reply": "2022-08-08T02:16:56.522981Z"
    },
    "papermill": {
     "duration": 0.032567,
     "end_time": "2022-08-08T02:16:56.524740",
     "exception": false,
     "start_time": "2022-08-08T02:16:56.492173",
     "status": "completed"
    },
    "tags": []
   },
   "outputs": [
    {
     "data": {
      "text/plain": [
       "(8325729, 4)"
      ]
     },
     "execution_count": 24,
     "metadata": {},
     "output_type": "execute_result"
    }
   ],
   "source": [
    "gwas_data.shape"
   ]
  },
  {
   "cell_type": "markdown",
   "id": "8da344de-2aa5-48a9-98ec-e8c3397ae7e6",
   "metadata": {
    "papermill": {
     "duration": 0.015792,
     "end_time": "2022-08-08T02:16:56.557162",
     "exception": false,
     "start_time": "2022-08-08T02:16:56.541370",
     "status": "completed"
    },
    "tags": []
   },
   "source": [
    "## Save GWAS variants"
   ]
  },
  {
   "cell_type": "code",
   "execution_count": 25,
   "id": "ac11fb33-ea3c-4d5c-a90b-0ceebdac43d3",
   "metadata": {
    "execution": {
     "iopub.execute_input": "2022-08-08T02:16:56.590283Z",
     "iopub.status.busy": "2022-08-08T02:16:56.590077Z",
     "iopub.status.idle": "2022-08-08T02:16:56.606166Z",
     "shell.execute_reply": "2022-08-08T02:16:56.605542Z"
    },
    "papermill": {
     "duration": 0.034243,
     "end_time": "2022-08-08T02:16:56.607493",
     "exception": false,
     "start_time": "2022-08-08T02:16:56.573250",
     "status": "completed"
    },
    "tags": []
   },
   "outputs": [
    {
     "data": {
      "text/html": [
       "<div>\n",
       "<style scoped>\n",
       "    .dataframe tbody tr th:only-of-type {\n",
       "        vertical-align: middle;\n",
       "    }\n",
       "\n",
       "    .dataframe tbody tr th {\n",
       "        vertical-align: top;\n",
       "    }\n",
       "\n",
       "    .dataframe thead th {\n",
       "        text-align: right;\n",
       "    }\n",
       "</style>\n",
       "<table border=\"1\" class=\"dataframe\">\n",
       "  <thead>\n",
       "    <tr style=\"text-align: right;\">\n",
       "      <th></th>\n",
       "      <th>panel_variant_id</th>\n",
       "      <th>zscore</th>\n",
       "      <th>pvalue</th>\n",
       "      <th>imputation_status</th>\n",
       "    </tr>\n",
       "  </thead>\n",
       "  <tbody>\n",
       "    <tr>\n",
       "      <th>0</th>\n",
       "      <td>chr1_54490_G_A_b38</td>\n",
       "      <td>1.567452</td>\n",
       "      <td>0.117009</td>\n",
       "      <td>original</td>\n",
       "    </tr>\n",
       "    <tr>\n",
       "      <th>1</th>\n",
       "      <td>chr1_87021_T_C_b38</td>\n",
       "      <td>0.244372</td>\n",
       "      <td>0.806943</td>\n",
       "      <td>imputed</td>\n",
       "    </tr>\n",
       "    <tr>\n",
       "      <th>2</th>\n",
       "      <td>chr1_263722_C_G_b38</td>\n",
       "      <td>1.155239</td>\n",
       "      <td>0.247993</td>\n",
       "      <td>imputed</td>\n",
       "    </tr>\n",
       "    <tr>\n",
       "      <th>3</th>\n",
       "      <td>chr1_594402_C_T_b38</td>\n",
       "      <td>0.851234</td>\n",
       "      <td>0.394639</td>\n",
       "      <td>imputed</td>\n",
       "    </tr>\n",
       "    <tr>\n",
       "      <th>4</th>\n",
       "      <td>chr1_630555_C_T_b38</td>\n",
       "      <td>0.855129</td>\n",
       "      <td>0.392480</td>\n",
       "      <td>imputed</td>\n",
       "    </tr>\n",
       "  </tbody>\n",
       "</table>\n",
       "</div>"
      ],
      "text/plain": [
       "      panel_variant_id    zscore    pvalue imputation_status\n",
       "0   chr1_54490_G_A_b38  1.567452  0.117009          original\n",
       "1   chr1_87021_T_C_b38  0.244372  0.806943           imputed\n",
       "2  chr1_263722_C_G_b38  1.155239  0.247993           imputed\n",
       "3  chr1_594402_C_T_b38  0.851234  0.394639           imputed\n",
       "4  chr1_630555_C_T_b38  0.855129  0.392480           imputed"
      ]
     },
     "execution_count": 25,
     "metadata": {},
     "output_type": "execute_result"
    }
   ],
   "source": [
    "gwas_data.head()"
   ]
  },
  {
   "cell_type": "code",
   "execution_count": 26,
   "id": "5f34bb3d-761a-4860-a179-77ea5f5784ad",
   "metadata": {
    "execution": {
     "iopub.execute_input": "2022-08-08T02:16:56.641630Z",
     "iopub.status.busy": "2022-08-08T02:16:56.641410Z",
     "iopub.status.idle": "2022-08-08T02:17:01.267142Z",
     "shell.execute_reply": "2022-08-08T02:17:01.266349Z"
    },
    "papermill": {
     "duration": 4.644323,
     "end_time": "2022-08-08T02:17:01.268952",
     "exception": false,
     "start_time": "2022-08-08T02:16:56.624629",
     "status": "completed"
    },
    "tags": []
   },
   "outputs": [],
   "source": [
    "assert gwas_data[\"panel_variant_id\"].is_unique"
   ]
  },
  {
   "cell_type": "code",
   "execution_count": 27,
   "id": "d4f23b2f-01a3-4a45-a2b6-31b245b5778e",
   "metadata": {
    "execution": {
     "iopub.execute_input": "2022-08-08T02:17:01.312914Z",
     "iopub.status.busy": "2022-08-08T02:17:01.312734Z",
     "iopub.status.idle": "2022-08-08T02:17:04.576261Z",
     "shell.execute_reply": "2022-08-08T02:17:04.575144Z"
    },
    "papermill": {
     "duration": 3.287812,
     "end_time": "2022-08-08T02:17:04.578467",
     "exception": false,
     "start_time": "2022-08-08T02:17:01.290655",
     "status": "completed"
    },
    "tags": []
   },
   "outputs": [
    {
     "data": {
      "text/plain": [
       "['chr18_77300300_G_A_b38',\n",
       " 'chr4_44204005_T_A_b38',\n",
       " 'chr11_123253862_G_A_b38',\n",
       " 'chr20_18088782_A_AT_b38',\n",
       " 'chr8_6902171_C_G_b38']"
      ]
     },
     "execution_count": 27,
     "metadata": {},
     "output_type": "execute_result"
    }
   ],
   "source": [
    "gwas_variants_ids_set = frozenset(gwas_data[\"panel_variant_id\"])\n",
    "list(gwas_variants_ids_set)[:5]"
   ]
  },
  {
   "cell_type": "code",
   "execution_count": 28,
   "id": "b4a441df-07d7-48dc-be36-cdb3f92be651",
   "metadata": {
    "execution": {
     "iopub.execute_input": "2022-08-08T02:17:04.623801Z",
     "iopub.status.busy": "2022-08-08T02:17:04.623612Z",
     "iopub.status.idle": "2022-08-08T02:17:08.804565Z",
     "shell.execute_reply": "2022-08-08T02:17:08.802655Z"
    },
    "papermill": {
     "duration": 4.207175,
     "end_time": "2022-08-08T02:17:08.809317",
     "exception": false,
     "start_time": "2022-08-08T02:17:04.602142",
     "status": "completed"
    },
    "tags": []
   },
   "outputs": [],
   "source": [
    "with open(OUTPUT_DIR_BASE / \"gwas_variant_ids.pkl\", \"wb\") as handle:\n",
    "    pickle.dump(gwas_variants_ids_set, handle, protocol=pickle.HIGHEST_PROTOCOL)"
   ]
  },
  {
   "cell_type": "markdown",
   "id": "abcc4b3d",
   "metadata": {
    "papermill": {
     "duration": 0.02495,
     "end_time": "2022-08-08T02:17:08.851637",
     "exception": false,
     "start_time": "2022-08-08T02:17:08.826687",
     "status": "completed"
    },
    "tags": []
   },
   "source": [
    "# TWAS"
   ]
  },
  {
   "cell_type": "markdown",
   "id": "2fbc7358-0563-4fc6-bc47-a0fbcc5cdfd4",
   "metadata": {
    "papermill": {
     "duration": 0.016464,
     "end_time": "2022-08-08T02:17:08.884835",
     "exception": false,
     "start_time": "2022-08-08T02:17:08.868371",
     "status": "completed"
    },
    "tags": []
   },
   "source": [
    "## Available tissues for eQTL model"
   ]
  },
  {
   "cell_type": "code",
   "execution_count": 29,
   "id": "f32c0a84-030a-436b-b597-852b6150d2ac",
   "metadata": {
    "execution": {
     "iopub.execute_input": "2022-08-08T02:17:08.918011Z",
     "iopub.status.busy": "2022-08-08T02:17:08.917793Z",
     "iopub.status.idle": "2022-08-08T02:17:08.929949Z",
     "shell.execute_reply": "2022-08-08T02:17:08.929454Z"
    },
    "papermill": {
     "duration": 0.030321,
     "end_time": "2022-08-08T02:17:08.931270",
     "exception": false,
     "start_time": "2022-08-08T02:17:08.900949",
     "status": "completed"
    },
    "tags": []
   },
   "outputs": [],
   "source": [
    "prediction_model_tissues = conf.PHENOMEXCAN[\"PREDICTION_MODELS\"][\n",
    "    f\"{EQTL_MODEL}_TISSUES\"\n",
    "].split(\" \")"
   ]
  },
  {
   "cell_type": "code",
   "execution_count": 30,
   "id": "0e760d0e-f23d-4590-abfb-811a43f7c237",
   "metadata": {
    "execution": {
     "iopub.execute_input": "2022-08-08T02:17:08.965892Z",
     "iopub.status.busy": "2022-08-08T02:17:08.965703Z",
     "iopub.status.idle": "2022-08-08T02:17:08.978476Z",
     "shell.execute_reply": "2022-08-08T02:17:08.977902Z"
    },
    "papermill": {
     "duration": 0.031359,
     "end_time": "2022-08-08T02:17:08.979687",
     "exception": false,
     "start_time": "2022-08-08T02:17:08.948328",
     "status": "completed"
    },
    "tags": []
   },
   "outputs": [
    {
     "data": {
      "text/plain": [
       "49"
      ]
     },
     "execution_count": 30,
     "metadata": {},
     "output_type": "execute_result"
    }
   ],
   "source": [
    "len(prediction_model_tissues)"
   ]
  },
  {
   "cell_type": "code",
   "execution_count": 31,
   "id": "fa4d942c-cd67-4b31-9491-585c887c0ee3",
   "metadata": {
    "execution": {
     "iopub.execute_input": "2022-08-08T02:17:09.014551Z",
     "iopub.status.busy": "2022-08-08T02:17:09.014372Z",
     "iopub.status.idle": "2022-08-08T02:17:09.027289Z",
     "shell.execute_reply": "2022-08-08T02:17:09.026701Z"
    },
    "papermill": {
     "duration": 0.03173,
     "end_time": "2022-08-08T02:17:09.028511",
     "exception": false,
     "start_time": "2022-08-08T02:17:08.996781",
     "status": "completed"
    },
    "tags": []
   },
   "outputs": [
    {
     "data": {
      "text/plain": [
       "['Skin_Not_Sun_Exposed_Suprapubic',\n",
       " 'Cells_EBV-transformed_lymphocytes',\n",
       " 'Brain_Frontal_Cortex_BA9',\n",
       " 'Kidney_Cortex',\n",
       " 'Brain_Substantia_nigra']"
      ]
     },
     "execution_count": 31,
     "metadata": {},
     "output_type": "execute_result"
    }
   ],
   "source": [
    "prediction_model_tissues[:5]"
   ]
  },
  {
   "cell_type": "markdown",
   "id": "fab4814d-757c-4247-b5e4-891bc4863db7",
   "metadata": {
    "papermill": {
     "duration": 0.01673,
     "end_time": "2022-08-08T02:17:09.062452",
     "exception": false,
     "start_time": "2022-08-08T02:17:09.045722",
     "status": "completed"
    },
    "tags": []
   },
   "source": [
    "## S-MultiXcan results"
   ]
  },
  {
   "cell_type": "code",
   "execution_count": 32,
   "id": "2b73c11e-9aa2-410e-84b4-a70be34d02e4",
   "metadata": {
    "execution": {
     "iopub.execute_input": "2022-08-08T02:17:09.103333Z",
     "iopub.status.busy": "2022-08-08T02:17:09.103135Z",
     "iopub.status.idle": "2022-08-08T02:17:09.162734Z",
     "shell.execute_reply": "2022-08-08T02:17:09.162173Z"
    },
    "papermill": {
     "duration": 0.08416,
     "end_time": "2022-08-08T02:17:09.164337",
     "exception": false,
     "start_time": "2022-08-08T02:17:09.080177",
     "status": "completed"
    },
    "tags": []
   },
   "outputs": [],
   "source": [
    "smultixcan_results = pd.read_csv(\n",
    "    SMULTIXCAN_FILE, sep=\"\\t\", usecols=[\"gene\", \"gene_name\", \"pvalue\", \"n\", \"n_indep\"]\n",
    ")"
   ]
  },
  {
   "cell_type": "code",
   "execution_count": 33,
   "id": "8b5abebd-baab-4188-9e3d-655ebbe32401",
   "metadata": {
    "execution": {
     "iopub.execute_input": "2022-08-08T02:17:09.203719Z",
     "iopub.status.busy": "2022-08-08T02:17:09.203527Z",
     "iopub.status.idle": "2022-08-08T02:17:09.216313Z",
     "shell.execute_reply": "2022-08-08T02:17:09.215788Z"
    },
    "papermill": {
     "duration": 0.033005,
     "end_time": "2022-08-08T02:17:09.217617",
     "exception": false,
     "start_time": "2022-08-08T02:17:09.184612",
     "status": "completed"
    },
    "tags": []
   },
   "outputs": [
    {
     "data": {
      "text/plain": [
       "(22317, 5)"
      ]
     },
     "execution_count": 33,
     "metadata": {},
     "output_type": "execute_result"
    }
   ],
   "source": [
    "smultixcan_results.shape"
   ]
  },
  {
   "cell_type": "code",
   "execution_count": 34,
   "id": "c65e233f-9ef6-4883-9386-7abf1d6d1cbd",
   "metadata": {
    "execution": {
     "iopub.execute_input": "2022-08-08T02:17:09.252871Z",
     "iopub.status.busy": "2022-08-08T02:17:09.252666Z",
     "iopub.status.idle": "2022-08-08T02:17:09.268455Z",
     "shell.execute_reply": "2022-08-08T02:17:09.267826Z"
    },
    "papermill": {
     "duration": 0.034647,
     "end_time": "2022-08-08T02:17:09.269874",
     "exception": false,
     "start_time": "2022-08-08T02:17:09.235227",
     "status": "completed"
    },
    "tags": []
   },
   "outputs": [],
   "source": [
    "smultixcan_results = smultixcan_results.dropna()"
   ]
  },
  {
   "cell_type": "code",
   "execution_count": 35,
   "id": "57d2d311-4a42-4725-9e37-b124ed13ad33",
   "metadata": {
    "execution": {
     "iopub.execute_input": "2022-08-08T02:17:09.306476Z",
     "iopub.status.busy": "2022-08-08T02:17:09.305846Z",
     "iopub.status.idle": "2022-08-08T02:17:09.318666Z",
     "shell.execute_reply": "2022-08-08T02:17:09.318159Z"
    },
    "papermill": {
     "duration": 0.031937,
     "end_time": "2022-08-08T02:17:09.319891",
     "exception": false,
     "start_time": "2022-08-08T02:17:09.287954",
     "status": "completed"
    },
    "tags": []
   },
   "outputs": [
    {
     "data": {
      "text/plain": [
       "(22314, 5)"
      ]
     },
     "execution_count": 35,
     "metadata": {},
     "output_type": "execute_result"
    }
   ],
   "source": [
    "smultixcan_results.shape"
   ]
  },
  {
   "cell_type": "code",
   "execution_count": 36,
   "id": "a36b5b59-f4b6-45bf-b241-ffc9671b357f",
   "metadata": {
    "execution": {
     "iopub.execute_input": "2022-08-08T02:17:09.355084Z",
     "iopub.status.busy": "2022-08-08T02:17:09.354877Z",
     "iopub.status.idle": "2022-08-08T02:17:09.374031Z",
     "shell.execute_reply": "2022-08-08T02:17:09.373418Z"
    },
    "papermill": {
     "duration": 0.038361,
     "end_time": "2022-08-08T02:17:09.375490",
     "exception": false,
     "start_time": "2022-08-08T02:17:09.337129",
     "status": "completed"
    },
    "tags": []
   },
   "outputs": [],
   "source": [
    "smultixcan_results = smultixcan_results.assign(\n",
    "    gene_id=smultixcan_results[\"gene\"].apply(lambda g: g.split(\".\")[0])\n",
    ")"
   ]
  },
  {
   "cell_type": "code",
   "execution_count": 37,
   "id": "c49f62a9-a01a-44af-87da-47d195b0ef7e",
   "metadata": {
    "execution": {
     "iopub.execute_input": "2022-08-08T02:17:09.411124Z",
     "iopub.status.busy": "2022-08-08T02:17:09.410922Z",
     "iopub.status.idle": "2022-08-08T02:17:09.428637Z",
     "shell.execute_reply": "2022-08-08T02:17:09.428070Z"
    },
    "papermill": {
     "duration": 0.036382,
     "end_time": "2022-08-08T02:17:09.429883",
     "exception": false,
     "start_time": "2022-08-08T02:17:09.393501",
     "status": "completed"
    },
    "tags": []
   },
   "outputs": [
    {
     "data": {
      "text/html": [
       "<div>\n",
       "<style scoped>\n",
       "    .dataframe tbody tr th:only-of-type {\n",
       "        vertical-align: middle;\n",
       "    }\n",
       "\n",
       "    .dataframe tbody tr th {\n",
       "        vertical-align: top;\n",
       "    }\n",
       "\n",
       "    .dataframe thead th {\n",
       "        text-align: right;\n",
       "    }\n",
       "</style>\n",
       "<table border=\"1\" class=\"dataframe\">\n",
       "  <thead>\n",
       "    <tr style=\"text-align: right;\">\n",
       "      <th></th>\n",
       "      <th>gene</th>\n",
       "      <th>gene_name</th>\n",
       "      <th>pvalue</th>\n",
       "      <th>n</th>\n",
       "      <th>n_indep</th>\n",
       "      <th>gene_id</th>\n",
       "    </tr>\n",
       "  </thead>\n",
       "  <tbody>\n",
       "    <tr>\n",
       "      <th>0</th>\n",
       "      <td>ENSG00000131941.7</td>\n",
       "      <td>RHPN2</td>\n",
       "      <td>0.000040</td>\n",
       "      <td>48.0</td>\n",
       "      <td>3.0</td>\n",
       "      <td>ENSG00000131941</td>\n",
       "    </tr>\n",
       "    <tr>\n",
       "      <th>1</th>\n",
       "      <td>ENSG00000076650.6</td>\n",
       "      <td>GPATCH1</td>\n",
       "      <td>0.000078</td>\n",
       "      <td>40.0</td>\n",
       "      <td>3.0</td>\n",
       "      <td>ENSG00000076650</td>\n",
       "    </tr>\n",
       "    <tr>\n",
       "      <th>2</th>\n",
       "      <td>ENSG00000100906.10</td>\n",
       "      <td>NFKBIA</td>\n",
       "      <td>0.000096</td>\n",
       "      <td>1.0</td>\n",
       "      <td>1.0</td>\n",
       "      <td>ENSG00000100906</td>\n",
       "    </tr>\n",
       "    <tr>\n",
       "      <th>3</th>\n",
       "      <td>ENSG00000136319.11</td>\n",
       "      <td>TTC5</td>\n",
       "      <td>0.000109</td>\n",
       "      <td>47.0</td>\n",
       "      <td>5.0</td>\n",
       "      <td>ENSG00000136319</td>\n",
       "    </tr>\n",
       "    <tr>\n",
       "      <th>4</th>\n",
       "      <td>ENSG00000152990.13</td>\n",
       "      <td>ADGRA3</td>\n",
       "      <td>0.000135</td>\n",
       "      <td>41.0</td>\n",
       "      <td>12.0</td>\n",
       "      <td>ENSG00000152990</td>\n",
       "    </tr>\n",
       "  </tbody>\n",
       "</table>\n",
       "</div>"
      ],
      "text/plain": [
       "                 gene gene_name    pvalue     n  n_indep          gene_id\n",
       "0   ENSG00000131941.7     RHPN2  0.000040  48.0      3.0  ENSG00000131941\n",
       "1   ENSG00000076650.6   GPATCH1  0.000078  40.0      3.0  ENSG00000076650\n",
       "2  ENSG00000100906.10    NFKBIA  0.000096   1.0      1.0  ENSG00000100906\n",
       "3  ENSG00000136319.11      TTC5  0.000109  47.0      5.0  ENSG00000136319\n",
       "4  ENSG00000152990.13    ADGRA3  0.000135  41.0     12.0  ENSG00000152990"
      ]
     },
     "execution_count": 37,
     "metadata": {},
     "output_type": "execute_result"
    }
   ],
   "source": [
    "smultixcan_results.head()"
   ]
  },
  {
   "cell_type": "code",
   "execution_count": 38,
   "id": "9c4c023c-86d6-4c4b-8d57-c2b6b93aaf84",
   "metadata": {
    "execution": {
     "iopub.execute_input": "2022-08-08T02:17:09.466377Z",
     "iopub.status.busy": "2022-08-08T02:17:09.465522Z",
     "iopub.status.idle": "2022-08-08T02:17:09.480490Z",
     "shell.execute_reply": "2022-08-08T02:17:09.479924Z"
    },
    "papermill": {
     "duration": 0.034411,
     "end_time": "2022-08-08T02:17:09.481876",
     "exception": false,
     "start_time": "2022-08-08T02:17:09.447465",
     "status": "completed"
    },
    "tags": []
   },
   "outputs": [],
   "source": [
    "assert smultixcan_results[\"gene_id\"].is_unique"
   ]
  },
  {
   "cell_type": "markdown",
   "id": "1f9939f1-4200-40d9-a8bf-8e4fd68bee48",
   "metadata": {
    "papermill": {
     "duration": 0.017604,
     "end_time": "2022-08-08T02:17:09.518274",
     "exception": false,
     "start_time": "2022-08-08T02:17:09.500670",
     "status": "completed"
    },
    "tags": []
   },
   "source": [
    "### Get common genes with MultiPLIER"
   ]
  },
  {
   "cell_type": "code",
   "execution_count": 39,
   "id": "c820e6cf-6350-45af-b49a-0abd94f570ff",
   "metadata": {
    "execution": {
     "iopub.execute_input": "2022-08-08T02:17:09.553698Z",
     "iopub.status.busy": "2022-08-08T02:17:09.553128Z",
     "iopub.status.idle": "2022-08-08T02:17:09.569215Z",
     "shell.execute_reply": "2022-08-08T02:17:09.568699Z"
    },
    "papermill": {
     "duration": 0.035141,
     "end_time": "2022-08-08T02:17:09.570550",
     "exception": false,
     "start_time": "2022-08-08T02:17:09.535409",
     "status": "completed"
    },
    "tags": []
   },
   "outputs": [],
   "source": [
    "common_genes = set(multiplier_z_genes).intersection(\n",
    "    set(smultixcan_results[\"gene_name\"])\n",
    ")"
   ]
  },
  {
   "cell_type": "code",
   "execution_count": 40,
   "id": "0a7328f9-96c7-4ac6-a9a6-ae4fa121a4cd",
   "metadata": {
    "execution": {
     "iopub.execute_input": "2022-08-08T02:17:09.606871Z",
     "iopub.status.busy": "2022-08-08T02:17:09.606670Z",
     "iopub.status.idle": "2022-08-08T02:17:09.619355Z",
     "shell.execute_reply": "2022-08-08T02:17:09.618879Z"
    },
    "papermill": {
     "duration": 0.032531,
     "end_time": "2022-08-08T02:17:09.620577",
     "exception": false,
     "start_time": "2022-08-08T02:17:09.588046",
     "status": "completed"
    },
    "tags": []
   },
   "outputs": [
    {
     "data": {
      "text/plain": [
       "6444"
      ]
     },
     "execution_count": 40,
     "metadata": {},
     "output_type": "execute_result"
    }
   ],
   "source": [
    "len(common_genes)"
   ]
  },
  {
   "cell_type": "code",
   "execution_count": 41,
   "id": "5b08d362-44c8-4db2-9258-670e2e2a9cc0",
   "metadata": {
    "execution": {
     "iopub.execute_input": "2022-08-08T02:17:09.657524Z",
     "iopub.status.busy": "2022-08-08T02:17:09.657307Z",
     "iopub.status.idle": "2022-08-08T02:17:09.671787Z",
     "shell.execute_reply": "2022-08-08T02:17:09.671325Z"
    },
    "papermill": {
     "duration": 0.034161,
     "end_time": "2022-08-08T02:17:09.672978",
     "exception": false,
     "start_time": "2022-08-08T02:17:09.638817",
     "status": "completed"
    },
    "tags": []
   },
   "outputs": [
    {
     "data": {
      "text/plain": [
       "['A2M', 'AAAS', 'AANAT', 'AARS', 'AARS2']"
      ]
     },
     "execution_count": 41,
     "metadata": {},
     "output_type": "execute_result"
    }
   ],
   "source": [
    "sorted(list(common_genes))[:5]"
   ]
  },
  {
   "cell_type": "markdown",
   "id": "7f51338b-8a75-42c3-a7e5-a0961cefb663",
   "metadata": {
    "papermill": {
     "duration": 0.017479,
     "end_time": "2022-08-08T02:17:09.708284",
     "exception": false,
     "start_time": "2022-08-08T02:17:09.690805",
     "status": "completed"
    },
    "tags": []
   },
   "source": [
    "## Genes info"
   ]
  },
  {
   "cell_type": "code",
   "execution_count": 42,
   "id": "bb932812",
   "metadata": {
    "execution": {
     "iopub.execute_input": "2022-08-08T02:17:09.752149Z",
     "iopub.status.busy": "2022-08-08T02:17:09.751946Z",
     "iopub.status.idle": "2022-08-08T02:17:10.202667Z",
     "shell.execute_reply": "2022-08-08T02:17:10.201320Z"
    },
    "papermill": {
     "duration": 0.475515,
     "end_time": "2022-08-08T02:17:10.205997",
     "exception": false,
     "start_time": "2022-08-08T02:17:09.730482",
     "status": "completed"
    },
    "tags": []
   },
   "outputs": [],
   "source": [
    "multiplier_gene_obj = {\n",
    "    gene_name: Gene(name=gene_name)\n",
    "    for gene_name in common_genes\n",
    "    if gene_name in Gene.GENE_NAME_TO_ID_MAP\n",
    "}"
   ]
  },
  {
   "cell_type": "code",
   "execution_count": 43,
   "id": "cb9d7a45-2b7d-4d10-80dc-212a625b5ae7",
   "metadata": {
    "execution": {
     "iopub.execute_input": "2022-08-08T02:17:10.259073Z",
     "iopub.status.busy": "2022-08-08T02:17:10.258901Z",
     "iopub.status.idle": "2022-08-08T02:17:10.271850Z",
     "shell.execute_reply": "2022-08-08T02:17:10.271369Z"
    },
    "papermill": {
     "duration": 0.036792,
     "end_time": "2022-08-08T02:17:10.273231",
     "exception": false,
     "start_time": "2022-08-08T02:17:10.236439",
     "status": "completed"
    },
    "tags": []
   },
   "outputs": [],
   "source": [
    "# delete common_genes, from now on, genes_info should be used for common genes\n",
    "del common_genes"
   ]
  },
  {
   "cell_type": "code",
   "execution_count": 44,
   "id": "39533214",
   "metadata": {
    "execution": {
     "iopub.execute_input": "2022-08-08T02:17:10.313174Z",
     "iopub.status.busy": "2022-08-08T02:17:10.312972Z",
     "iopub.status.idle": "2022-08-08T02:17:10.325739Z",
     "shell.execute_reply": "2022-08-08T02:17:10.325231Z"
    },
    "papermill": {
     "duration": 0.033905,
     "end_time": "2022-08-08T02:17:10.326893",
     "exception": false,
     "start_time": "2022-08-08T02:17:10.292988",
     "status": "completed"
    },
    "tags": []
   },
   "outputs": [
    {
     "data": {
      "text/plain": [
       "6444"
      ]
     },
     "execution_count": 44,
     "metadata": {},
     "output_type": "execute_result"
    }
   ],
   "source": [
    "len(multiplier_gene_obj)"
   ]
  },
  {
   "cell_type": "code",
   "execution_count": 45,
   "id": "9a5d0b84",
   "metadata": {
    "execution": {
     "iopub.execute_input": "2022-08-08T02:17:10.363484Z",
     "iopub.status.busy": "2022-08-08T02:17:10.363319Z",
     "iopub.status.idle": "2022-08-08T02:17:10.375210Z",
     "shell.execute_reply": "2022-08-08T02:17:10.374739Z"
    },
    "papermill": {
     "duration": 0.031493,
     "end_time": "2022-08-08T02:17:10.376430",
     "exception": false,
     "start_time": "2022-08-08T02:17:10.344937",
     "status": "completed"
    },
    "tags": []
   },
   "outputs": [],
   "source": [
    "assert multiplier_gene_obj[\"GAS6\"].ensembl_id == \"ENSG00000183087\""
   ]
  },
  {
   "cell_type": "code",
   "execution_count": 46,
   "id": "e3ffabc7",
   "metadata": {
    "execution": {
     "iopub.execute_input": "2022-08-08T02:17:10.413009Z",
     "iopub.status.busy": "2022-08-08T02:17:10.412806Z",
     "iopub.status.idle": "2022-08-08T02:17:12.939870Z",
     "shell.execute_reply": "2022-08-08T02:17:12.939332Z"
    },
    "papermill": {
     "duration": 2.546861,
     "end_time": "2022-08-08T02:17:12.941423",
     "exception": false,
     "start_time": "2022-08-08T02:17:10.394562",
     "status": "completed"
    },
    "tags": []
   },
   "outputs": [],
   "source": [
    "_gene_obj = list(multiplier_gene_obj.values())\n",
    "\n",
    "genes_info = pd.DataFrame(\n",
    "    {\n",
    "        \"name\": [g.name for g in _gene_obj],\n",
    "        \"id\": [g.ensembl_id for g in _gene_obj],\n",
    "        \"chr\": [g.chromosome for g in _gene_obj],\n",
    "        \"band\": [g.band for g in _gene_obj],\n",
    "        \"start_position\": [g.get_attribute(\"start_position\") for g in _gene_obj],\n",
    "        \"end_position\": [g.get_attribute(\"end_position\") for g in _gene_obj],\n",
    "    }\n",
    ")"
   ]
  },
  {
   "cell_type": "code",
   "execution_count": 47,
   "id": "00475e72-1cfc-485f-8b4e-1d9cce695f58",
   "metadata": {
    "execution": {
     "iopub.execute_input": "2022-08-08T02:17:12.976860Z",
     "iopub.status.busy": "2022-08-08T02:17:12.976641Z",
     "iopub.status.idle": "2022-08-08T02:17:13.497226Z",
     "shell.execute_reply": "2022-08-08T02:17:13.496458Z"
    },
    "papermill": {
     "duration": 0.54057,
     "end_time": "2022-08-08T02:17:13.499250",
     "exception": false,
     "start_time": "2022-08-08T02:17:12.958680",
     "status": "completed"
    },
    "tags": []
   },
   "outputs": [],
   "source": [
    "genes_info = genes_info.assign(\n",
    "    gene_length=genes_info.apply(\n",
    "        lambda x: x[\"end_position\"] - x[\"start_position\"], axis=1\n",
    "    )\n",
    ")"
   ]
  },
  {
   "cell_type": "code",
   "execution_count": 48,
   "id": "3af1a166-08a0-4333-bc09-b8bc762aa7ef",
   "metadata": {
    "execution": {
     "iopub.execute_input": "2022-08-08T02:17:13.546229Z",
     "iopub.status.busy": "2022-08-08T02:17:13.546041Z",
     "iopub.status.idle": "2022-08-08T02:17:13.561138Z",
     "shell.execute_reply": "2022-08-08T02:17:13.560612Z"
    },
    "papermill": {
     "duration": 0.039201,
     "end_time": "2022-08-08T02:17:13.562501",
     "exception": false,
     "start_time": "2022-08-08T02:17:13.523300",
     "status": "completed"
    },
    "tags": []
   },
   "outputs": [
    {
     "data": {
      "text/plain": [
       "name               object\n",
       "id                 object\n",
       "chr                object\n",
       "band               object\n",
       "start_position    float64\n",
       "end_position      float64\n",
       "gene_length       float64\n",
       "dtype: object"
      ]
     },
     "execution_count": 48,
     "metadata": {},
     "output_type": "execute_result"
    }
   ],
   "source": [
    "genes_info.dtypes"
   ]
  },
  {
   "cell_type": "code",
   "execution_count": 49,
   "id": "08a23f6f-87f6-4072-88c8-010b90a411cd",
   "metadata": {
    "execution": {
     "iopub.execute_input": "2022-08-08T02:17:13.602182Z",
     "iopub.status.busy": "2022-08-08T02:17:13.601633Z",
     "iopub.status.idle": "2022-08-08T02:17:13.620976Z",
     "shell.execute_reply": "2022-08-08T02:17:13.620464Z"
    },
    "papermill": {
     "duration": 0.038696,
     "end_time": "2022-08-08T02:17:13.622192",
     "exception": false,
     "start_time": "2022-08-08T02:17:13.583496",
     "status": "completed"
    },
    "tags": []
   },
   "outputs": [
    {
     "data": {
      "text/html": [
       "<div>\n",
       "<style scoped>\n",
       "    .dataframe tbody tr th:only-of-type {\n",
       "        vertical-align: middle;\n",
       "    }\n",
       "\n",
       "    .dataframe tbody tr th {\n",
       "        vertical-align: top;\n",
       "    }\n",
       "\n",
       "    .dataframe thead th {\n",
       "        text-align: right;\n",
       "    }\n",
       "</style>\n",
       "<table border=\"1\" class=\"dataframe\">\n",
       "  <thead>\n",
       "    <tr style=\"text-align: right;\">\n",
       "      <th></th>\n",
       "      <th>name</th>\n",
       "      <th>id</th>\n",
       "      <th>chr</th>\n",
       "      <th>band</th>\n",
       "      <th>start_position</th>\n",
       "      <th>end_position</th>\n",
       "      <th>gene_length</th>\n",
       "    </tr>\n",
       "  </thead>\n",
       "  <tbody>\n",
       "    <tr>\n",
       "      <th>1556</th>\n",
       "      <td>TMEM133</td>\n",
       "      <td>ENSG00000170647</td>\n",
       "      <td>None</td>\n",
       "      <td>None</td>\n",
       "      <td>NaN</td>\n",
       "      <td>NaN</td>\n",
       "      <td>NaN</td>\n",
       "    </tr>\n",
       "    <tr>\n",
       "      <th>2374</th>\n",
       "      <td>TBCE</td>\n",
       "      <td>ENSG00000116957</td>\n",
       "      <td>None</td>\n",
       "      <td>None</td>\n",
       "      <td>NaN</td>\n",
       "      <td>NaN</td>\n",
       "      <td>NaN</td>\n",
       "    </tr>\n",
       "  </tbody>\n",
       "</table>\n",
       "</div>"
      ],
      "text/plain": [
       "         name               id   chr  band  start_position  end_position  \\\n",
       "1556  TMEM133  ENSG00000170647  None  None             NaN           NaN   \n",
       "2374     TBCE  ENSG00000116957  None  None             NaN           NaN   \n",
       "\n",
       "      gene_length  \n",
       "1556          NaN  \n",
       "2374          NaN  "
      ]
     },
     "metadata": {},
     "output_type": "display_data"
    }
   ],
   "source": [
    "_tmp = genes_info[genes_info.isna().any(axis=1)]\n",
    "display(_tmp)\n",
    "assert _tmp.shape[0] < 5"
   ]
  },
  {
   "cell_type": "code",
   "execution_count": 50,
   "id": "87c010f0-8ad9-4bf0-b12d-02f37a93853a",
   "metadata": {
    "execution": {
     "iopub.execute_input": "2022-08-08T02:17:13.660590Z",
     "iopub.status.busy": "2022-08-08T02:17:13.660384Z",
     "iopub.status.idle": "2022-08-08T02:17:13.675067Z",
     "shell.execute_reply": "2022-08-08T02:17:13.674565Z"
    },
    "papermill": {
     "duration": 0.035294,
     "end_time": "2022-08-08T02:17:13.676452",
     "exception": false,
     "start_time": "2022-08-08T02:17:13.641158",
     "status": "completed"
    },
    "tags": []
   },
   "outputs": [],
   "source": [
    "genes_info = genes_info.dropna()"
   ]
  },
  {
   "cell_type": "code",
   "execution_count": 51,
   "id": "61833f43-3a92-47e9-bca3-e05b6673c7d9",
   "metadata": {
    "execution": {
     "iopub.execute_input": "2022-08-08T02:17:13.713287Z",
     "iopub.status.busy": "2022-08-08T02:17:13.713084Z",
     "iopub.status.idle": "2022-08-08T02:17:14.278495Z",
     "shell.execute_reply": "2022-08-08T02:17:14.277986Z"
    },
    "papermill": {
     "duration": 0.585253,
     "end_time": "2022-08-08T02:17:14.280015",
     "exception": false,
     "start_time": "2022-08-08T02:17:13.694762",
     "status": "completed"
    },
    "tags": []
   },
   "outputs": [],
   "source": [
    "genes_info[\"chr\"] = genes_info[\"chr\"].apply(pd.to_numeric, downcast=\"integer\")\n",
    "genes_info[\"start_position\"] = genes_info[\"start_position\"].astype(int)\n",
    "genes_info[\"end_position\"] = genes_info[\"end_position\"].astype(int)\n",
    "genes_info[\"gene_length\"] = genes_info[\"gene_length\"].astype(int)"
   ]
  },
  {
   "cell_type": "code",
   "execution_count": 52,
   "id": "e4b9ae23-3edb-41a4-97aa-80cc7db6d393",
   "metadata": {
    "execution": {
     "iopub.execute_input": "2022-08-08T02:17:14.316627Z",
     "iopub.status.busy": "2022-08-08T02:17:14.316039Z",
     "iopub.status.idle": "2022-08-08T02:17:14.329675Z",
     "shell.execute_reply": "2022-08-08T02:17:14.329074Z"
    },
    "papermill": {
     "duration": 0.033434,
     "end_time": "2022-08-08T02:17:14.330873",
     "exception": false,
     "start_time": "2022-08-08T02:17:14.297439",
     "status": "completed"
    },
    "tags": []
   },
   "outputs": [
    {
     "data": {
      "text/plain": [
       "name              object\n",
       "id                object\n",
       "chr                int64\n",
       "band              object\n",
       "start_position     int64\n",
       "end_position       int64\n",
       "gene_length        int64\n",
       "dtype: object"
      ]
     },
     "execution_count": 52,
     "metadata": {},
     "output_type": "execute_result"
    }
   ],
   "source": [
    "genes_info.dtypes"
   ]
  },
  {
   "cell_type": "code",
   "execution_count": 53,
   "id": "09d6320a-b1c4-4200-a23e-184bc4be69c7",
   "metadata": {
    "execution": {
     "iopub.execute_input": "2022-08-08T02:17:14.367683Z",
     "iopub.status.busy": "2022-08-08T02:17:14.367442Z",
     "iopub.status.idle": "2022-08-08T02:17:14.380410Z",
     "shell.execute_reply": "2022-08-08T02:17:14.379845Z"
    },
    "papermill": {
     "duration": 0.032348,
     "end_time": "2022-08-08T02:17:14.381673",
     "exception": false,
     "start_time": "2022-08-08T02:17:14.349325",
     "status": "completed"
    },
    "tags": []
   },
   "outputs": [],
   "source": [
    "assert genes_info[\"name\"].is_unique"
   ]
  },
  {
   "cell_type": "code",
   "execution_count": 54,
   "id": "009d11e4-f8cb-4a81-823d-c7f10b906d3b",
   "metadata": {
    "execution": {
     "iopub.execute_input": "2022-08-08T02:17:14.419317Z",
     "iopub.status.busy": "2022-08-08T02:17:14.418538Z",
     "iopub.status.idle": "2022-08-08T02:17:14.431921Z",
     "shell.execute_reply": "2022-08-08T02:17:14.431412Z"
    },
    "papermill": {
     "duration": 0.033327,
     "end_time": "2022-08-08T02:17:14.433245",
     "exception": false,
     "start_time": "2022-08-08T02:17:14.399918",
     "status": "completed"
    },
    "tags": []
   },
   "outputs": [],
   "source": [
    "assert genes_info[\"id\"].is_unique"
   ]
  },
  {
   "cell_type": "code",
   "execution_count": 55,
   "id": "e23519b8",
   "metadata": {
    "execution": {
     "iopub.execute_input": "2022-08-08T02:17:14.471235Z",
     "iopub.status.busy": "2022-08-08T02:17:14.471033Z",
     "iopub.status.idle": "2022-08-08T02:17:14.483757Z",
     "shell.execute_reply": "2022-08-08T02:17:14.483177Z"
    },
    "papermill": {
     "duration": 0.032917,
     "end_time": "2022-08-08T02:17:14.484932",
     "exception": false,
     "start_time": "2022-08-08T02:17:14.452015",
     "status": "completed"
    },
    "tags": []
   },
   "outputs": [
    {
     "data": {
      "text/plain": [
       "(6442, 7)"
      ]
     },
     "execution_count": 55,
     "metadata": {},
     "output_type": "execute_result"
    }
   ],
   "source": [
    "genes_info.shape"
   ]
  },
  {
   "cell_type": "code",
   "execution_count": 56,
   "id": "0d71881c",
   "metadata": {
    "execution": {
     "iopub.execute_input": "2022-08-08T02:17:14.523253Z",
     "iopub.status.busy": "2022-08-08T02:17:14.523052Z",
     "iopub.status.idle": "2022-08-08T02:17:14.539995Z",
     "shell.execute_reply": "2022-08-08T02:17:14.539135Z"
    },
    "papermill": {
     "duration": 0.037398,
     "end_time": "2022-08-08T02:17:14.541277",
     "exception": false,
     "start_time": "2022-08-08T02:17:14.503879",
     "status": "completed"
    },
    "tags": []
   },
   "outputs": [
    {
     "data": {
      "text/html": [
       "<div>\n",
       "<style scoped>\n",
       "    .dataframe tbody tr th:only-of-type {\n",
       "        vertical-align: middle;\n",
       "    }\n",
       "\n",
       "    .dataframe tbody tr th {\n",
       "        vertical-align: top;\n",
       "    }\n",
       "\n",
       "    .dataframe thead th {\n",
       "        text-align: right;\n",
       "    }\n",
       "</style>\n",
       "<table border=\"1\" class=\"dataframe\">\n",
       "  <thead>\n",
       "    <tr style=\"text-align: right;\">\n",
       "      <th></th>\n",
       "      <th>name</th>\n",
       "      <th>id</th>\n",
       "      <th>chr</th>\n",
       "      <th>band</th>\n",
       "      <th>start_position</th>\n",
       "      <th>end_position</th>\n",
       "      <th>gene_length</th>\n",
       "    </tr>\n",
       "  </thead>\n",
       "  <tbody>\n",
       "    <tr>\n",
       "      <th>0</th>\n",
       "      <td>FKBP8</td>\n",
       "      <td>ENSG00000105701</td>\n",
       "      <td>19</td>\n",
       "      <td>19p13.11</td>\n",
       "      <td>18531751</td>\n",
       "      <td>18544077</td>\n",
       "      <td>12326</td>\n",
       "    </tr>\n",
       "    <tr>\n",
       "      <th>1</th>\n",
       "      <td>HERPUD1</td>\n",
       "      <td>ENSG00000051108</td>\n",
       "      <td>16</td>\n",
       "      <td>16q13</td>\n",
       "      <td>56932142</td>\n",
       "      <td>56944864</td>\n",
       "      <td>12722</td>\n",
       "    </tr>\n",
       "    <tr>\n",
       "      <th>2</th>\n",
       "      <td>SEPT2</td>\n",
       "      <td>ENSG00000168385</td>\n",
       "      <td>2</td>\n",
       "      <td>2q37.3</td>\n",
       "      <td>241315100</td>\n",
       "      <td>241354027</td>\n",
       "      <td>38927</td>\n",
       "    </tr>\n",
       "    <tr>\n",
       "      <th>3</th>\n",
       "      <td>FXYD6</td>\n",
       "      <td>ENSG00000137726</td>\n",
       "      <td>11</td>\n",
       "      <td>11q23.3</td>\n",
       "      <td>117836976</td>\n",
       "      <td>117877486</td>\n",
       "      <td>40510</td>\n",
       "    </tr>\n",
       "    <tr>\n",
       "      <th>4</th>\n",
       "      <td>RBM15</td>\n",
       "      <td>ENSG00000162775</td>\n",
       "      <td>1</td>\n",
       "      <td>1p13.3</td>\n",
       "      <td>110338506</td>\n",
       "      <td>110346681</td>\n",
       "      <td>8175</td>\n",
       "    </tr>\n",
       "  </tbody>\n",
       "</table>\n",
       "</div>"
      ],
      "text/plain": [
       "      name               id  chr      band  start_position  end_position  \\\n",
       "0    FKBP8  ENSG00000105701   19  19p13.11        18531751      18544077   \n",
       "1  HERPUD1  ENSG00000051108   16     16q13        56932142      56944864   \n",
       "2    SEPT2  ENSG00000168385    2    2q37.3       241315100     241354027   \n",
       "3    FXYD6  ENSG00000137726   11   11q23.3       117836976     117877486   \n",
       "4    RBM15  ENSG00000162775    1    1p13.3       110338506     110346681   \n",
       "\n",
       "   gene_length  \n",
       "0        12326  \n",
       "1        12722  \n",
       "2        38927  \n",
       "3        40510  \n",
       "4         8175  "
      ]
     },
     "execution_count": 56,
     "metadata": {},
     "output_type": "execute_result"
    }
   ],
   "source": [
    "genes_info.head()"
   ]
  },
  {
   "cell_type": "code",
   "execution_count": 57,
   "id": "eb968287-d9cf-40f6-a93e-6b322b844404",
   "metadata": {
    "execution": {
     "iopub.execute_input": "2022-08-08T02:17:14.579234Z",
     "iopub.status.busy": "2022-08-08T02:17:14.579030Z",
     "iopub.status.idle": "2022-08-08T02:17:14.600534Z",
     "shell.execute_reply": "2022-08-08T02:17:14.599902Z"
    },
    "papermill": {
     "duration": 0.041921,
     "end_time": "2022-08-08T02:17:14.601856",
     "exception": false,
     "start_time": "2022-08-08T02:17:14.559935",
     "status": "completed"
    },
    "tags": []
   },
   "outputs": [
    {
     "data": {
      "text/html": [
       "<div>\n",
       "<style scoped>\n",
       "    .dataframe tbody tr th:only-of-type {\n",
       "        vertical-align: middle;\n",
       "    }\n",
       "\n",
       "    .dataframe tbody tr th {\n",
       "        vertical-align: top;\n",
       "    }\n",
       "\n",
       "    .dataframe thead th {\n",
       "        text-align: right;\n",
       "    }\n",
       "</style>\n",
       "<table border=\"1\" class=\"dataframe\">\n",
       "  <thead>\n",
       "    <tr style=\"text-align: right;\">\n",
       "      <th></th>\n",
       "      <th>name</th>\n",
       "      <th>id</th>\n",
       "      <th>chr</th>\n",
       "      <th>band</th>\n",
       "      <th>start_position</th>\n",
       "      <th>end_position</th>\n",
       "      <th>gene_length</th>\n",
       "    </tr>\n",
       "  </thead>\n",
       "  <tbody>\n",
       "    <tr>\n",
       "      <th>2363</th>\n",
       "      <td>WDTC1</td>\n",
       "      <td>ENSG00000142784</td>\n",
       "      <td>1</td>\n",
       "      <td>1p36.11</td>\n",
       "      <td>27234632</td>\n",
       "      <td>27308636</td>\n",
       "      <td>74004</td>\n",
       "    </tr>\n",
       "    <tr>\n",
       "      <th>4505</th>\n",
       "      <td>TRIM58</td>\n",
       "      <td>ENSG00000162722</td>\n",
       "      <td>1</td>\n",
       "      <td>1q44</td>\n",
       "      <td>247857187</td>\n",
       "      <td>247880138</td>\n",
       "      <td>22951</td>\n",
       "    </tr>\n",
       "    <tr>\n",
       "      <th>4501</th>\n",
       "      <td>GJA4</td>\n",
       "      <td>ENSG00000187513</td>\n",
       "      <td>1</td>\n",
       "      <td>1p34.3</td>\n",
       "      <td>34792999</td>\n",
       "      <td>34795747</td>\n",
       "      <td>2748</td>\n",
       "    </tr>\n",
       "    <tr>\n",
       "      <th>540</th>\n",
       "      <td>PLCH2</td>\n",
       "      <td>ENSG00000149527</td>\n",
       "      <td>1</td>\n",
       "      <td>1p36.32</td>\n",
       "      <td>2425980</td>\n",
       "      <td>2505532</td>\n",
       "      <td>79552</td>\n",
       "    </tr>\n",
       "    <tr>\n",
       "      <th>4499</th>\n",
       "      <td>GBP5</td>\n",
       "      <td>ENSG00000154451</td>\n",
       "      <td>1</td>\n",
       "      <td>1p22.2</td>\n",
       "      <td>89258950</td>\n",
       "      <td>89272804</td>\n",
       "      <td>13854</td>\n",
       "    </tr>\n",
       "    <tr>\n",
       "      <th>...</th>\n",
       "      <td>...</td>\n",
       "      <td>...</td>\n",
       "      <td>...</td>\n",
       "      <td>...</td>\n",
       "      <td>...</td>\n",
       "      <td>...</td>\n",
       "      <td>...</td>\n",
       "    </tr>\n",
       "    <tr>\n",
       "      <th>1500</th>\n",
       "      <td>CHEK2</td>\n",
       "      <td>ENSG00000183765</td>\n",
       "      <td>22</td>\n",
       "      <td>22q12.1</td>\n",
       "      <td>28687743</td>\n",
       "      <td>28742422</td>\n",
       "      <td>54679</td>\n",
       "    </tr>\n",
       "    <tr>\n",
       "      <th>92</th>\n",
       "      <td>RANGAP1</td>\n",
       "      <td>ENSG00000100401</td>\n",
       "      <td>22</td>\n",
       "      <td>22q13.2</td>\n",
       "      <td>41245611</td>\n",
       "      <td>41286251</td>\n",
       "      <td>40640</td>\n",
       "    </tr>\n",
       "    <tr>\n",
       "      <th>5783</th>\n",
       "      <td>DERL3</td>\n",
       "      <td>ENSG00000099958</td>\n",
       "      <td>22</td>\n",
       "      <td>22q11.23</td>\n",
       "      <td>23834503</td>\n",
       "      <td>23839128</td>\n",
       "      <td>4625</td>\n",
       "    </tr>\n",
       "    <tr>\n",
       "      <th>945</th>\n",
       "      <td>BIK</td>\n",
       "      <td>ENSG00000100290</td>\n",
       "      <td>22</td>\n",
       "      <td>22q13.2</td>\n",
       "      <td>43110750</td>\n",
       "      <td>43129712</td>\n",
       "      <td>18962</td>\n",
       "    </tr>\n",
       "    <tr>\n",
       "      <th>2802</th>\n",
       "      <td>SMC1B</td>\n",
       "      <td>ENSG00000077935</td>\n",
       "      <td>22</td>\n",
       "      <td>22q13.31</td>\n",
       "      <td>45344063</td>\n",
       "      <td>45413619</td>\n",
       "      <td>69556</td>\n",
       "    </tr>\n",
       "  </tbody>\n",
       "</table>\n",
       "<p>6442 rows × 7 columns</p>\n",
       "</div>"
      ],
      "text/plain": [
       "         name               id  chr      band  start_position  end_position  \\\n",
       "2363    WDTC1  ENSG00000142784    1   1p36.11        27234632      27308636   \n",
       "4505   TRIM58  ENSG00000162722    1      1q44       247857187     247880138   \n",
       "4501     GJA4  ENSG00000187513    1    1p34.3        34792999      34795747   \n",
       "540     PLCH2  ENSG00000149527    1   1p36.32         2425980       2505532   \n",
       "4499     GBP5  ENSG00000154451    1    1p22.2        89258950      89272804   \n",
       "...       ...              ...  ...       ...             ...           ...   \n",
       "1500    CHEK2  ENSG00000183765   22   22q12.1        28687743      28742422   \n",
       "92    RANGAP1  ENSG00000100401   22   22q13.2        41245611      41286251   \n",
       "5783    DERL3  ENSG00000099958   22  22q11.23        23834503      23839128   \n",
       "945       BIK  ENSG00000100290   22   22q13.2        43110750      43129712   \n",
       "2802    SMC1B  ENSG00000077935   22  22q13.31        45344063      45413619   \n",
       "\n",
       "      gene_length  \n",
       "2363        74004  \n",
       "4505        22951  \n",
       "4501         2748  \n",
       "540         79552  \n",
       "4499        13854  \n",
       "...           ...  \n",
       "1500        54679  \n",
       "92          40640  \n",
       "5783         4625  \n",
       "945         18962  \n",
       "2802        69556  \n",
       "\n",
       "[6442 rows x 7 columns]"
      ]
     },
     "execution_count": 57,
     "metadata": {},
     "output_type": "execute_result"
    }
   ],
   "source": [
    "genes_info.sort_values(\"chr\")"
   ]
  },
  {
   "cell_type": "markdown",
   "id": "7282b84d-f4f3-4e8c-9dd8-6319505ed4b5",
   "metadata": {
    "papermill": {
     "duration": 0.018237,
     "end_time": "2022-08-08T02:17:14.639142",
     "exception": false,
     "start_time": "2022-08-08T02:17:14.620905",
     "status": "completed"
    },
    "tags": []
   },
   "source": [
    "### Save"
   ]
  },
  {
   "cell_type": "code",
   "execution_count": 58,
   "id": "32cf6566-03bb-4a85-81e1-da46fc9f37ad",
   "metadata": {
    "execution": {
     "iopub.execute_input": "2022-08-08T02:17:14.683225Z",
     "iopub.status.busy": "2022-08-08T02:17:14.683023Z",
     "iopub.status.idle": "2022-08-08T02:17:14.698244Z",
     "shell.execute_reply": "2022-08-08T02:17:14.697703Z"
    },
    "papermill": {
     "duration": 0.041981,
     "end_time": "2022-08-08T02:17:14.699625",
     "exception": false,
     "start_time": "2022-08-08T02:17:14.657644",
     "status": "completed"
    },
    "tags": []
   },
   "outputs": [],
   "source": [
    "genes_info.to_pickle(OUTPUT_DIR_BASE / \"genes_info.pkl\")"
   ]
  },
  {
   "cell_type": "markdown",
   "id": "5b9f384a-5a91-4a8d-9007-cfe43f2d86f8",
   "metadata": {
    "papermill": {
     "duration": 0.018448,
     "end_time": "2022-08-08T02:17:14.737200",
     "exception": false,
     "start_time": "2022-08-08T02:17:14.718752",
     "status": "completed"
    },
    "tags": []
   },
   "source": [
    "## S-PrediXcan results"
   ]
  },
  {
   "cell_type": "markdown",
   "id": "fc0a2a4c-960c-4a0a-9b23-b66c3d5d6e07",
   "metadata": {
    "papermill": {
     "duration": 0.017894,
     "end_time": "2022-08-08T02:17:14.773167",
     "exception": false,
     "start_time": "2022-08-08T02:17:14.755273",
     "status": "completed"
    },
    "tags": []
   },
   "source": [
    "### Load results across all tissues"
   ]
  },
  {
   "cell_type": "code",
   "execution_count": 59,
   "id": "0b4867d7-a608-4b08-9d77-1782be3a0c94",
   "metadata": {
    "execution": {
     "iopub.execute_input": "2022-08-08T02:17:14.810039Z",
     "iopub.status.busy": "2022-08-08T02:17:14.809835Z",
     "iopub.status.idle": "2022-08-08T02:17:14.822220Z",
     "shell.execute_reply": "2022-08-08T02:17:14.821701Z"
    },
    "papermill": {
     "duration": 0.032434,
     "end_time": "2022-08-08T02:17:14.823601",
     "exception": false,
     "start_time": "2022-08-08T02:17:14.791167",
     "status": "completed"
    },
    "tags": []
   },
   "outputs": [],
   "source": [
    "spredixcan_result_files = {\n",
    "    t: SPREDIXCAN_FOLDER / SPREDIXCAN_FILE_PATTERN.format(tissue=t)\n",
    "    for t in prediction_model_tissues\n",
    "}"
   ]
  },
  {
   "cell_type": "code",
   "execution_count": 60,
   "id": "0ce270dd-46ac-4eaa-9d86-2b201d67d82f",
   "metadata": {
    "execution": {
     "iopub.execute_input": "2022-08-08T02:17:14.861087Z",
     "iopub.status.busy": "2022-08-08T02:17:14.860882Z",
     "iopub.status.idle": "2022-08-08T02:17:14.873963Z",
     "shell.execute_reply": "2022-08-08T02:17:14.873292Z"
    },
    "papermill": {
     "duration": 0.033562,
     "end_time": "2022-08-08T02:17:14.875378",
     "exception": false,
     "start_time": "2022-08-08T02:17:14.841816",
     "status": "completed"
    },
    "tags": []
   },
   "outputs": [
    {
     "data": {
      "text/plain": [
       "[PosixPath('/opt/data/results/gls/null_sims/twas/spredixcan/random.pheno0-gtex_v8-mashr-Skin_Not_Sun_Exposed_Suprapubic.csv'),\n",
       " PosixPath('/opt/data/results/gls/null_sims/twas/spredixcan/random.pheno0-gtex_v8-mashr-Cells_EBV-transformed_lymphocytes.csv'),\n",
       " PosixPath('/opt/data/results/gls/null_sims/twas/spredixcan/random.pheno0-gtex_v8-mashr-Brain_Frontal_Cortex_BA9.csv'),\n",
       " PosixPath('/opt/data/results/gls/null_sims/twas/spredixcan/random.pheno0-gtex_v8-mashr-Kidney_Cortex.csv'),\n",
       " PosixPath('/opt/data/results/gls/null_sims/twas/spredixcan/random.pheno0-gtex_v8-mashr-Brain_Substantia_nigra.csv')]"
      ]
     },
     "metadata": {},
     "output_type": "display_data"
    }
   ],
   "source": [
    "assert len(spredixcan_result_files) == len(prediction_model_tissues)\n",
    "display(list(spredixcan_result_files.values())[:5])"
   ]
  },
  {
   "cell_type": "code",
   "execution_count": 61,
   "id": "aa140259-303e-4912-b2bf-e7adce662f88",
   "metadata": {
    "execution": {
     "iopub.execute_input": "2022-08-08T02:17:14.913863Z",
     "iopub.status.busy": "2022-08-08T02:17:14.913176Z",
     "iopub.status.idle": "2022-08-08T02:17:14.951712Z",
     "shell.execute_reply": "2022-08-08T02:17:14.951245Z"
    },
    "papermill": {
     "duration": 0.059129,
     "end_time": "2022-08-08T02:17:14.953018",
     "exception": false,
     "start_time": "2022-08-08T02:17:14.893889",
     "status": "completed"
    },
    "tags": []
   },
   "outputs": [
    {
     "data": {
      "text/html": [
       "<div>\n",
       "<style scoped>\n",
       "    .dataframe tbody tr th:only-of-type {\n",
       "        vertical-align: middle;\n",
       "    }\n",
       "\n",
       "    .dataframe tbody tr th {\n",
       "        vertical-align: top;\n",
       "    }\n",
       "\n",
       "    .dataframe thead th {\n",
       "        text-align: right;\n",
       "    }\n",
       "</style>\n",
       "<table border=\"1\" class=\"dataframe\">\n",
       "  <thead>\n",
       "    <tr style=\"text-align: right;\">\n",
       "      <th></th>\n",
       "      <th>gene</th>\n",
       "      <th>gene_name</th>\n",
       "      <th>zscore</th>\n",
       "      <th>effect_size</th>\n",
       "      <th>pvalue</th>\n",
       "      <th>var_g</th>\n",
       "      <th>pred_perf_r2</th>\n",
       "      <th>pred_perf_pval</th>\n",
       "      <th>pred_perf_qval</th>\n",
       "      <th>n_snps_used</th>\n",
       "      <th>n_snps_in_cov</th>\n",
       "      <th>n_snps_in_model</th>\n",
       "      <th>best_gwas_p</th>\n",
       "      <th>largest_weight</th>\n",
       "    </tr>\n",
       "  </thead>\n",
       "  <tbody>\n",
       "    <tr>\n",
       "      <th>0</th>\n",
       "      <td>ENSG00000131236.16</td>\n",
       "      <td>CAP1</td>\n",
       "      <td>-3.882684</td>\n",
       "      <td>NaN</td>\n",
       "      <td>0.000103</td>\n",
       "      <td>8.369900e-05</td>\n",
       "      <td>NaN</td>\n",
       "      <td>NaN</td>\n",
       "      <td>NaN</td>\n",
       "      <td>1</td>\n",
       "      <td>1</td>\n",
       "      <td>1</td>\n",
       "      <td>0.000103</td>\n",
       "      <td>0.021593</td>\n",
       "    </tr>\n",
       "    <tr>\n",
       "      <th>1</th>\n",
       "      <td>ENSG00000130787.13</td>\n",
       "      <td>HIP1R</td>\n",
       "      <td>3.862583</td>\n",
       "      <td>NaN</td>\n",
       "      <td>0.000112</td>\n",
       "      <td>3.039669e-03</td>\n",
       "      <td>NaN</td>\n",
       "      <td>NaN</td>\n",
       "      <td>NaN</td>\n",
       "      <td>2</td>\n",
       "      <td>2</td>\n",
       "      <td>2</td>\n",
       "      <td>0.001681</td>\n",
       "      <td>0.087495</td>\n",
       "    </tr>\n",
       "    <tr>\n",
       "      <th>2</th>\n",
       "      <td>ENSG00000103018.16</td>\n",
       "      <td>CYB5B</td>\n",
       "      <td>3.478682</td>\n",
       "      <td>NaN</td>\n",
       "      <td>0.000504</td>\n",
       "      <td>6.455623e-03</td>\n",
       "      <td>NaN</td>\n",
       "      <td>NaN</td>\n",
       "      <td>NaN</td>\n",
       "      <td>1</td>\n",
       "      <td>1</td>\n",
       "      <td>1</td>\n",
       "      <td>0.000504</td>\n",
       "      <td>0.114291</td>\n",
       "    </tr>\n",
       "    <tr>\n",
       "      <th>3</th>\n",
       "      <td>ENSG00000117906.13</td>\n",
       "      <td>RCN2</td>\n",
       "      <td>3.431258</td>\n",
       "      <td>NaN</td>\n",
       "      <td>0.000601</td>\n",
       "      <td>5.848182e-07</td>\n",
       "      <td>NaN</td>\n",
       "      <td>NaN</td>\n",
       "      <td>NaN</td>\n",
       "      <td>1</td>\n",
       "      <td>1</td>\n",
       "      <td>1</td>\n",
       "      <td>0.000601</td>\n",
       "      <td>0.001696</td>\n",
       "    </tr>\n",
       "    <tr>\n",
       "      <th>4</th>\n",
       "      <td>ENSG00000135469.13</td>\n",
       "      <td>COQ10A</td>\n",
       "      <td>3.363631</td>\n",
       "      <td>NaN</td>\n",
       "      <td>0.000769</td>\n",
       "      <td>4.312235e-04</td>\n",
       "      <td>NaN</td>\n",
       "      <td>NaN</td>\n",
       "      <td>NaN</td>\n",
       "      <td>2</td>\n",
       "      <td>2</td>\n",
       "      <td>2</td>\n",
       "      <td>0.013565</td>\n",
       "      <td>0.064460</td>\n",
       "    </tr>\n",
       "  </tbody>\n",
       "</table>\n",
       "</div>"
      ],
      "text/plain": [
       "                 gene gene_name    zscore  effect_size    pvalue  \\\n",
       "0  ENSG00000131236.16      CAP1 -3.882684          NaN  0.000103   \n",
       "1  ENSG00000130787.13     HIP1R  3.862583          NaN  0.000112   \n",
       "2  ENSG00000103018.16     CYB5B  3.478682          NaN  0.000504   \n",
       "3  ENSG00000117906.13      RCN2  3.431258          NaN  0.000601   \n",
       "4  ENSG00000135469.13    COQ10A  3.363631          NaN  0.000769   \n",
       "\n",
       "          var_g  pred_perf_r2  pred_perf_pval  pred_perf_qval  n_snps_used  \\\n",
       "0  8.369900e-05           NaN             NaN             NaN            1   \n",
       "1  3.039669e-03           NaN             NaN             NaN            2   \n",
       "2  6.455623e-03           NaN             NaN             NaN            1   \n",
       "3  5.848182e-07           NaN             NaN             NaN            1   \n",
       "4  4.312235e-04           NaN             NaN             NaN            2   \n",
       "\n",
       "   n_snps_in_cov  n_snps_in_model  best_gwas_p  largest_weight  \n",
       "0              1                1     0.000103        0.021593  \n",
       "1              2                2     0.001681        0.087495  \n",
       "2              1                1     0.000504        0.114291  \n",
       "3              1                1     0.000601        0.001696  \n",
       "4              2                2     0.013565        0.064460  "
      ]
     },
     "execution_count": 61,
     "metadata": {},
     "output_type": "execute_result"
    }
   ],
   "source": [
    "# look at the structure of one result\n",
    "pd.read_csv(spredixcan_result_files[\"Whole_Blood\"]).head()"
   ]
  },
  {
   "cell_type": "code",
   "execution_count": 62,
   "id": "4381b9ff-6ab5-47f1-89d1-560f88fdf07f",
   "metadata": {
    "execution": {
     "iopub.execute_input": "2022-08-08T02:17:14.991480Z",
     "iopub.status.busy": "2022-08-08T02:17:14.991286Z",
     "iopub.status.idle": "2022-08-08T02:17:15.003853Z",
     "shell.execute_reply": "2022-08-08T02:17:15.003324Z"
    },
    "papermill": {
     "duration": 0.033053,
     "end_time": "2022-08-08T02:17:15.005037",
     "exception": false,
     "start_time": "2022-08-08T02:17:14.971984",
     "status": "completed"
    },
    "tags": []
   },
   "outputs": [],
   "source": [
    "assert all(f.exists() for f in spredixcan_result_files.values())"
   ]
  },
  {
   "cell_type": "code",
   "execution_count": 63,
   "id": "d477157f-51e9-4c7c-b826-7ab5f4fdf3e3",
   "metadata": {
    "execution": {
     "iopub.execute_input": "2022-08-08T02:17:15.043402Z",
     "iopub.status.busy": "2022-08-08T02:17:15.043212Z",
     "iopub.status.idle": "2022-08-08T02:17:15.961338Z",
     "shell.execute_reply": "2022-08-08T02:17:15.960851Z"
    },
    "papermill": {
     "duration": 0.938813,
     "end_time": "2022-08-08T02:17:15.962728",
     "exception": false,
     "start_time": "2022-08-08T02:17:15.023915",
     "status": "completed"
    },
    "tags": []
   },
   "outputs": [],
   "source": [
    "spredixcan_dfs = [\n",
    "    pd.read_csv(\n",
    "        f,\n",
    "        usecols=[\n",
    "            \"gene\",\n",
    "            \"zscore\",\n",
    "            \"pvalue\",\n",
    "            \"n_snps_used\",\n",
    "            \"n_snps_in_model\",\n",
    "        ],\n",
    "    )\n",
    "    .dropna(subset=[\"gene\", \"zscore\", \"pvalue\"])\n",
    "    .assign(tissue=t)\n",
    "    for t, f in spredixcan_result_files.items()\n",
    "]"
   ]
  },
  {
   "cell_type": "code",
   "execution_count": 64,
   "id": "9730bd37-b769-411f-bb6b-bb658d1ff88c",
   "metadata": {
    "execution": {
     "iopub.execute_input": "2022-08-08T02:17:16.002100Z",
     "iopub.status.busy": "2022-08-08T02:17:16.001891Z",
     "iopub.status.idle": "2022-08-08T02:17:16.014055Z",
     "shell.execute_reply": "2022-08-08T02:17:16.013588Z"
    },
    "papermill": {
     "duration": 0.032939,
     "end_time": "2022-08-08T02:17:16.015274",
     "exception": false,
     "start_time": "2022-08-08T02:17:15.982335",
     "status": "completed"
    },
    "tags": []
   },
   "outputs": [],
   "source": [
    "assert len(spredixcan_dfs) == len(prediction_model_tissues)"
   ]
  },
  {
   "cell_type": "code",
   "execution_count": 65,
   "id": "bcd73f53-1283-4ff6-bbb5-25fb71f5cb72",
   "metadata": {
    "execution": {
     "iopub.execute_input": "2022-08-08T02:17:16.054180Z",
     "iopub.status.busy": "2022-08-08T02:17:16.053979Z",
     "iopub.status.idle": "2022-08-08T02:17:16.135347Z",
     "shell.execute_reply": "2022-08-08T02:17:16.134779Z"
    },
    "papermill": {
     "duration": 0.102592,
     "end_time": "2022-08-08T02:17:16.137025",
     "exception": false,
     "start_time": "2022-08-08T02:17:16.034433",
     "status": "completed"
    },
    "tags": []
   },
   "outputs": [],
   "source": [
    "spredixcan_dfs = pd.concat(spredixcan_dfs)"
   ]
  },
  {
   "cell_type": "code",
   "execution_count": 66,
   "id": "ae99c7b5-14fc-4b39-a6b2-40fc703acd0a",
   "metadata": {
    "execution": {
     "iopub.execute_input": "2022-08-08T02:17:16.185914Z",
     "iopub.status.busy": "2022-08-08T02:17:16.185738Z",
     "iopub.status.idle": "2022-08-08T02:17:16.230219Z",
     "shell.execute_reply": "2022-08-08T02:17:16.229645Z"
    },
    "papermill": {
     "duration": 0.070501,
     "end_time": "2022-08-08T02:17:16.231815",
     "exception": false,
     "start_time": "2022-08-08T02:17:16.161314",
     "status": "completed"
    },
    "tags": []
   },
   "outputs": [],
   "source": [
    "assert spredixcan_dfs[\"tissue\"].unique().shape[0] == len(prediction_model_tissues)"
   ]
  },
  {
   "cell_type": "code",
   "execution_count": 67,
   "id": "b7223a23-e40f-4cd3-8988-72033f8739bd",
   "metadata": {
    "execution": {
     "iopub.execute_input": "2022-08-08T02:17:16.270126Z",
     "iopub.status.busy": "2022-08-08T02:17:16.269925Z",
     "iopub.status.idle": "2022-08-08T02:17:16.282973Z",
     "shell.execute_reply": "2022-08-08T02:17:16.282491Z"
    },
    "papermill": {
     "duration": 0.033768,
     "end_time": "2022-08-08T02:17:16.284184",
     "exception": false,
     "start_time": "2022-08-08T02:17:16.250416",
     "status": "completed"
    },
    "tags": []
   },
   "outputs": [
    {
     "data": {
      "text/plain": [
       "(652858, 6)"
      ]
     },
     "execution_count": 67,
     "metadata": {},
     "output_type": "execute_result"
    }
   ],
   "source": [
    "spredixcan_dfs.shape"
   ]
  },
  {
   "cell_type": "code",
   "execution_count": 68,
   "id": "4987073a-3b70-4162-93fb-beeb351ebfe0",
   "metadata": {
    "execution": {
     "iopub.execute_input": "2022-08-08T02:17:16.324619Z",
     "iopub.status.busy": "2022-08-08T02:17:16.324184Z",
     "iopub.status.idle": "2022-08-08T02:17:16.504684Z",
     "shell.execute_reply": "2022-08-08T02:17:16.504145Z"
    },
    "papermill": {
     "duration": 0.202178,
     "end_time": "2022-08-08T02:17:16.506265",
     "exception": false,
     "start_time": "2022-08-08T02:17:16.304087",
     "status": "completed"
    },
    "tags": []
   },
   "outputs": [],
   "source": [
    "spredixcan_dfs = spredixcan_dfs.assign(\n",
    "    gene_id=spredixcan_dfs[\"gene\"].apply(lambda g: g.split(\".\")[0])\n",
    ")"
   ]
  },
  {
   "cell_type": "code",
   "execution_count": 69,
   "id": "6b47d026-01c0-4f7c-a90e-f0baa13235f4",
   "metadata": {
    "execution": {
     "iopub.execute_input": "2022-08-08T02:17:16.553421Z",
     "iopub.status.busy": "2022-08-08T02:17:16.553258Z",
     "iopub.status.idle": "2022-08-08T02:17:16.571021Z",
     "shell.execute_reply": "2022-08-08T02:17:16.570369Z"
    },
    "papermill": {
     "duration": 0.041911,
     "end_time": "2022-08-08T02:17:16.572274",
     "exception": false,
     "start_time": "2022-08-08T02:17:16.530363",
     "status": "completed"
    },
    "tags": []
   },
   "outputs": [
    {
     "data": {
      "text/html": [
       "<div>\n",
       "<style scoped>\n",
       "    .dataframe tbody tr th:only-of-type {\n",
       "        vertical-align: middle;\n",
       "    }\n",
       "\n",
       "    .dataframe tbody tr th {\n",
       "        vertical-align: top;\n",
       "    }\n",
       "\n",
       "    .dataframe thead th {\n",
       "        text-align: right;\n",
       "    }\n",
       "</style>\n",
       "<table border=\"1\" class=\"dataframe\">\n",
       "  <thead>\n",
       "    <tr style=\"text-align: right;\">\n",
       "      <th></th>\n",
       "      <th>gene</th>\n",
       "      <th>zscore</th>\n",
       "      <th>pvalue</th>\n",
       "      <th>n_snps_used</th>\n",
       "      <th>n_snps_in_model</th>\n",
       "      <th>tissue</th>\n",
       "      <th>gene_id</th>\n",
       "    </tr>\n",
       "  </thead>\n",
       "  <tbody>\n",
       "    <tr>\n",
       "      <th>0</th>\n",
       "      <td>ENSG00000131236.16</td>\n",
       "      <td>-3.882684</td>\n",
       "      <td>0.000103</td>\n",
       "      <td>1</td>\n",
       "      <td>1</td>\n",
       "      <td>Skin_Not_Sun_Exposed_Suprapubic</td>\n",
       "      <td>ENSG00000131236</td>\n",
       "    </tr>\n",
       "    <tr>\n",
       "      <th>1</th>\n",
       "      <td>ENSG00000196172.9</td>\n",
       "      <td>-3.710444</td>\n",
       "      <td>0.000207</td>\n",
       "      <td>1</td>\n",
       "      <td>1</td>\n",
       "      <td>Skin_Not_Sun_Exposed_Suprapubic</td>\n",
       "      <td>ENSG00000196172</td>\n",
       "    </tr>\n",
       "    <tr>\n",
       "      <th>2</th>\n",
       "      <td>ENSG00000280789.1</td>\n",
       "      <td>3.403263</td>\n",
       "      <td>0.000666</td>\n",
       "      <td>2</td>\n",
       "      <td>2</td>\n",
       "      <td>Skin_Not_Sun_Exposed_Suprapubic</td>\n",
       "      <td>ENSG00000280789</td>\n",
       "    </tr>\n",
       "    <tr>\n",
       "      <th>3</th>\n",
       "      <td>ENSG00000215218.3</td>\n",
       "      <td>3.385093</td>\n",
       "      <td>0.000712</td>\n",
       "      <td>3</td>\n",
       "      <td>3</td>\n",
       "      <td>Skin_Not_Sun_Exposed_Suprapubic</td>\n",
       "      <td>ENSG00000215218</td>\n",
       "    </tr>\n",
       "    <tr>\n",
       "      <th>4</th>\n",
       "      <td>ENSG00000167371.17</td>\n",
       "      <td>3.381834</td>\n",
       "      <td>0.000720</td>\n",
       "      <td>2</td>\n",
       "      <td>2</td>\n",
       "      <td>Skin_Not_Sun_Exposed_Suprapubic</td>\n",
       "      <td>ENSG00000167371</td>\n",
       "    </tr>\n",
       "  </tbody>\n",
       "</table>\n",
       "</div>"
      ],
      "text/plain": [
       "                 gene    zscore    pvalue  n_snps_used  n_snps_in_model  \\\n",
       "0  ENSG00000131236.16 -3.882684  0.000103            1                1   \n",
       "1   ENSG00000196172.9 -3.710444  0.000207            1                1   \n",
       "2   ENSG00000280789.1  3.403263  0.000666            2                2   \n",
       "3   ENSG00000215218.3  3.385093  0.000712            3                3   \n",
       "4  ENSG00000167371.17  3.381834  0.000720            2                2   \n",
       "\n",
       "                            tissue          gene_id  \n",
       "0  Skin_Not_Sun_Exposed_Suprapubic  ENSG00000131236  \n",
       "1  Skin_Not_Sun_Exposed_Suprapubic  ENSG00000196172  \n",
       "2  Skin_Not_Sun_Exposed_Suprapubic  ENSG00000280789  \n",
       "3  Skin_Not_Sun_Exposed_Suprapubic  ENSG00000215218  \n",
       "4  Skin_Not_Sun_Exposed_Suprapubic  ENSG00000167371  "
      ]
     },
     "execution_count": 69,
     "metadata": {},
     "output_type": "execute_result"
    }
   ],
   "source": [
    "spredixcan_dfs.head()"
   ]
  },
  {
   "cell_type": "code",
   "execution_count": 70,
   "id": "d5dbdb2e-b7eb-4665-9fd4-9ce714d6af0c",
   "metadata": {
    "execution": {
     "iopub.execute_input": "2022-08-08T02:17:16.612200Z",
     "iopub.status.busy": "2022-08-08T02:17:16.612016Z",
     "iopub.status.idle": "2022-08-08T02:17:16.733372Z",
     "shell.execute_reply": "2022-08-08T02:17:16.732657Z"
    },
    "papermill": {
     "duration": 0.142661,
     "end_time": "2022-08-08T02:17:16.735078",
     "exception": false,
     "start_time": "2022-08-08T02:17:16.592417",
     "status": "completed"
    },
    "tags": []
   },
   "outputs": [],
   "source": [
    "# leave only common genes\n",
    "spredixcan_dfs = spredixcan_dfs[spredixcan_dfs[\"gene_id\"].isin(set(genes_info[\"id\"]))]"
   ]
  },
  {
   "cell_type": "code",
   "execution_count": 71,
   "id": "8d34f99a-6b43-47aa-bb07-dfc67e169538",
   "metadata": {
    "execution": {
     "iopub.execute_input": "2022-08-08T02:17:16.784163Z",
     "iopub.status.busy": "2022-08-08T02:17:16.783995Z",
     "iopub.status.idle": "2022-08-08T02:17:16.797371Z",
     "shell.execute_reply": "2022-08-08T02:17:16.796781Z"
    },
    "papermill": {
     "duration": 0.038789,
     "end_time": "2022-08-08T02:17:16.798661",
     "exception": false,
     "start_time": "2022-08-08T02:17:16.759872",
     "status": "completed"
    },
    "tags": []
   },
   "outputs": [
    {
     "data": {
      "text/plain": [
       "(233350, 7)"
      ]
     },
     "execution_count": 71,
     "metadata": {},
     "output_type": "execute_result"
    }
   ],
   "source": [
    "spredixcan_dfs.shape"
   ]
  },
  {
   "cell_type": "markdown",
   "id": "5ecfd141-ecb8-47cf-905e-25cc1b4d3f9d",
   "metadata": {
    "papermill": {
     "duration": 0.018874,
     "end_time": "2022-08-08T02:17:16.837939",
     "exception": false,
     "start_time": "2022-08-08T02:17:16.819065",
     "status": "completed"
    },
    "tags": []
   },
   "source": [
    "### Count number of tissues available per gene"
   ]
  },
  {
   "cell_type": "code",
   "execution_count": 72,
   "id": "86fe37e1-a303-4221-a12e-3a54a04dd510",
   "metadata": {
    "execution": {
     "iopub.execute_input": "2022-08-08T02:17:16.877225Z",
     "iopub.status.busy": "2022-08-08T02:17:16.876618Z",
     "iopub.status.idle": "2022-08-08T02:17:16.948619Z",
     "shell.execute_reply": "2022-08-08T02:17:16.947928Z"
    },
    "papermill": {
     "duration": 0.093065,
     "end_time": "2022-08-08T02:17:16.949985",
     "exception": false,
     "start_time": "2022-08-08T02:17:16.856920",
     "status": "completed"
    },
    "tags": []
   },
   "outputs": [],
   "source": [
    "spredixcan_genes_n_models = spredixcan_dfs.groupby(\"gene_id\")[\"tissue\"].nunique()"
   ]
  },
  {
   "cell_type": "code",
   "execution_count": 73,
   "id": "31416d48-1e4d-463f-9a5c-34d29803c3f8",
   "metadata": {
    "execution": {
     "iopub.execute_input": "2022-08-08T02:17:16.989886Z",
     "iopub.status.busy": "2022-08-08T02:17:16.989683Z",
     "iopub.status.idle": "2022-08-08T02:17:17.004323Z",
     "shell.execute_reply": "2022-08-08T02:17:17.003811Z"
    },
    "papermill": {
     "duration": 0.035939,
     "end_time": "2022-08-08T02:17:17.005544",
     "exception": false,
     "start_time": "2022-08-08T02:17:16.969605",
     "status": "completed"
    },
    "tags": []
   },
   "outputs": [
    {
     "data": {
      "text/plain": [
       "gene_id\n",
       "ENSG00000000419     2\n",
       "ENSG00000000938    36\n",
       "ENSG00000000971    34\n",
       "ENSG00000001084    32\n",
       "ENSG00000001167    40\n",
       "                   ..\n",
       "ENSG00000278540    36\n",
       "ENSG00000278828     4\n",
       "ENSG00000278845    49\n",
       "ENSG00000281005    49\n",
       "ENSG00000282608    36\n",
       "Name: tissue, Length: 6442, dtype: int64"
      ]
     },
     "execution_count": 73,
     "metadata": {},
     "output_type": "execute_result"
    }
   ],
   "source": [
    "spredixcan_genes_n_models"
   ]
  },
  {
   "cell_type": "code",
   "execution_count": 74,
   "id": "d737ad4f-f821-4546-9a3e-6703fe264b49",
   "metadata": {
    "execution": {
     "iopub.execute_input": "2022-08-08T02:17:17.046675Z",
     "iopub.status.busy": "2022-08-08T02:17:17.045876Z",
     "iopub.status.idle": "2022-08-08T02:17:17.072350Z",
     "shell.execute_reply": "2022-08-08T02:17:17.071748Z"
    },
    "papermill": {
     "duration": 0.048043,
     "end_time": "2022-08-08T02:17:17.073734",
     "exception": false,
     "start_time": "2022-08-08T02:17:17.025691",
     "status": "completed"
    },
    "tags": []
   },
   "outputs": [],
   "source": [
    "# testing that in S-MultiXcan I get the same number of tissues per gene\n",
    "_tmp_smultixcan_results_n_models = (\n",
    "    smultixcan_results.set_index(\"gene_id\")[\"n\"].astype(int).rename(\"tissue\")\n",
    ")\n",
    "\n",
    "_cg = _tmp_smultixcan_results_n_models.index.intersection(\n",
    "    spredixcan_genes_n_models.index\n",
    ")\n",
    "_tmp_smultixcan_results_n_models = _tmp_smultixcan_results_n_models.loc[_cg]\n",
    "_spredixcan = spredixcan_genes_n_models.loc[_cg]\n",
    "\n",
    "assert _spredixcan.shape[0] == _tmp_smultixcan_results_n_models.shape[0]\n",
    "assert _spredixcan.equals(_tmp_smultixcan_results_n_models.loc[_spredixcan.index])"
   ]
  },
  {
   "cell_type": "markdown",
   "id": "904d7d30-9c2d-4c3e-b674-3f081954fe8b",
   "metadata": {
    "papermill": {
     "duration": 0.019778,
     "end_time": "2022-08-08T02:17:17.114237",
     "exception": false,
     "start_time": "2022-08-08T02:17:17.094459",
     "status": "completed"
    },
    "tags": []
   },
   "source": [
    "### Get tissues available per gene"
   ]
  },
  {
   "cell_type": "code",
   "execution_count": 75,
   "id": "cf014e81-4b4e-4c46-9265-67718b3ab08e",
   "metadata": {
    "execution": {
     "iopub.execute_input": "2022-08-08T02:17:17.162040Z",
     "iopub.status.busy": "2022-08-08T02:17:17.161866Z",
     "iopub.status.idle": "2022-08-08T02:17:17.322669Z",
     "shell.execute_reply": "2022-08-08T02:17:17.322069Z"
    },
    "papermill": {
     "duration": 0.185158,
     "end_time": "2022-08-08T02:17:17.324374",
     "exception": false,
     "start_time": "2022-08-08T02:17:17.139216",
     "status": "completed"
    },
    "tags": []
   },
   "outputs": [],
   "source": [
    "spredixcan_genes_models = spredixcan_dfs.groupby(\"gene_id\")[\"tissue\"].apply(\n",
    "    lambda x: frozenset(x.tolist())\n",
    ")"
   ]
  },
  {
   "cell_type": "code",
   "execution_count": 76,
   "id": "5df09d7f-39c9-408f-9fef-5189e8ca1c87",
   "metadata": {
    "execution": {
     "iopub.execute_input": "2022-08-08T02:17:17.364711Z",
     "iopub.status.busy": "2022-08-08T02:17:17.364508Z",
     "iopub.status.idle": "2022-08-08T02:17:17.380848Z",
     "shell.execute_reply": "2022-08-08T02:17:17.380217Z"
    },
    "papermill": {
     "duration": 0.038143,
     "end_time": "2022-08-08T02:17:17.382104",
     "exception": false,
     "start_time": "2022-08-08T02:17:17.343961",
     "status": "completed"
    },
    "tags": []
   },
   "outputs": [
    {
     "data": {
      "text/plain": [
       "gene_id\n",
       "ENSG00000000419         (Brain_Hypothalamus, Brain_Substantia_nigra)\n",
       "ENSG00000000938    (Brain_Frontal_Cortex_BA9, Heart_Left_Ventricl...\n",
       "ENSG00000000971    (Brain_Frontal_Cortex_BA9, Heart_Left_Ventricl...\n",
       "ENSG00000001084    (Brain_Frontal_Cortex_BA9, Heart_Left_Ventricl...\n",
       "ENSG00000001167    (Heart_Left_Ventricle, Skin_Sun_Exposed_Lower_...\n",
       "                                         ...                        \n",
       "ENSG00000278540    (Brain_Frontal_Cortex_BA9, Skin_Sun_Exposed_Lo...\n",
       "ENSG00000278828    (Cells_EBV-transformed_lymphocytes, Adipose_Vi...\n",
       "ENSG00000278845    (Brain_Frontal_Cortex_BA9, Heart_Left_Ventricl...\n",
       "ENSG00000281005    (Brain_Frontal_Cortex_BA9, Heart_Left_Ventricl...\n",
       "ENSG00000282608    (Brain_Frontal_Cortex_BA9, Heart_Left_Ventricl...\n",
       "Name: tissue, Length: 6442, dtype: object"
      ]
     },
     "execution_count": 76,
     "metadata": {},
     "output_type": "execute_result"
    }
   ],
   "source": [
    "spredixcan_genes_models"
   ]
  },
  {
   "cell_type": "code",
   "execution_count": 77,
   "id": "97c46886-5a48-4813-b890-1dcdb09ec09d",
   "metadata": {
    "execution": {
     "iopub.execute_input": "2022-08-08T02:17:17.422270Z",
     "iopub.status.busy": "2022-08-08T02:17:17.422066Z",
     "iopub.status.idle": "2022-08-08T02:17:17.434135Z",
     "shell.execute_reply": "2022-08-08T02:17:17.433587Z"
    },
    "papermill": {
     "duration": 0.033505,
     "end_time": "2022-08-08T02:17:17.435442",
     "exception": false,
     "start_time": "2022-08-08T02:17:17.401937",
     "status": "completed"
    },
    "tags": []
   },
   "outputs": [],
   "source": [
    "assert spredixcan_genes_n_models.shape[0] == spredixcan_genes_models.shape[0]"
   ]
  },
  {
   "cell_type": "code",
   "execution_count": 78,
   "id": "abc13913-a681-4297-a0e6-dde62f43c36f",
   "metadata": {
    "execution": {
     "iopub.execute_input": "2022-08-08T02:17:17.475276Z",
     "iopub.status.busy": "2022-08-08T02:17:17.475073Z",
     "iopub.status.idle": "2022-08-08T02:17:17.487986Z",
     "shell.execute_reply": "2022-08-08T02:17:17.487503Z"
    },
    "papermill": {
     "duration": 0.034041,
     "end_time": "2022-08-08T02:17:17.489249",
     "exception": false,
     "start_time": "2022-08-08T02:17:17.455208",
     "status": "completed"
    },
    "tags": []
   },
   "outputs": [],
   "source": [
    "assert spredixcan_genes_n_models.index.equals(spredixcan_genes_models.index)"
   ]
  },
  {
   "cell_type": "code",
   "execution_count": 79,
   "id": "995a02e7-b836-471b-b438-17c8c46e4fde",
   "metadata": {
    "execution": {
     "iopub.execute_input": "2022-08-08T02:17:17.529810Z",
     "iopub.status.busy": "2022-08-08T02:17:17.529606Z",
     "iopub.status.idle": "2022-08-08T02:17:17.543921Z",
     "shell.execute_reply": "2022-08-08T02:17:17.543398Z"
    },
    "papermill": {
     "duration": 0.035694,
     "end_time": "2022-08-08T02:17:17.545213",
     "exception": false,
     "start_time": "2022-08-08T02:17:17.509519",
     "status": "completed"
    },
    "tags": []
   },
   "outputs": [],
   "source": [
    "assert (spredixcan_genes_models.apply(len) <= len(prediction_model_tissues)).all()"
   ]
  },
  {
   "cell_type": "code",
   "execution_count": 80,
   "id": "0c1d0c68-1a06-480c-b6d6-d3c4fdf0f5aa",
   "metadata": {
    "execution": {
     "iopub.execute_input": "2022-08-08T02:17:17.585691Z",
     "iopub.status.busy": "2022-08-08T02:17:17.585487Z",
     "iopub.status.idle": "2022-08-08T02:17:17.602423Z",
     "shell.execute_reply": "2022-08-08T02:17:17.601672Z"
    },
    "papermill": {
     "duration": 0.038394,
     "end_time": "2022-08-08T02:17:17.603667",
     "exception": false,
     "start_time": "2022-08-08T02:17:17.565273",
     "status": "completed"
    },
    "tags": []
   },
   "outputs": [
    {
     "data": {
      "text/plain": [
       "count    6442.000000\n",
       "mean       36.223223\n",
       "std        12.976464\n",
       "min         1.000000\n",
       "25%        29.000000\n",
       "50%        41.000000\n",
       "75%        47.000000\n",
       "max        49.000000\n",
       "Name: tissue, dtype: float64"
      ]
     },
     "execution_count": 80,
     "metadata": {},
     "output_type": "execute_result"
    }
   ],
   "source": [
    "spredixcan_genes_models.apply(len).describe()"
   ]
  },
  {
   "cell_type": "code",
   "execution_count": 81,
   "id": "991b9441-6bb5-4b72-9285-5fd579875e40",
   "metadata": {
    "execution": {
     "iopub.execute_input": "2022-08-08T02:17:17.644434Z",
     "iopub.status.busy": "2022-08-08T02:17:17.644255Z",
     "iopub.status.idle": "2022-08-08T02:17:17.659595Z",
     "shell.execute_reply": "2022-08-08T02:17:17.659149Z"
    },
    "papermill": {
     "duration": 0.037107,
     "end_time": "2022-08-08T02:17:17.660944",
     "exception": false,
     "start_time": "2022-08-08T02:17:17.623837",
     "status": "completed"
    },
    "tags": []
   },
   "outputs": [],
   "source": [
    "# testing\n",
    "assert (\n",
    "    spredixcan_genes_models.loc[spredixcan_genes_n_models.index]\n",
    "    .apply(len)\n",
    "    .equals(spredixcan_genes_n_models)\n",
    ")"
   ]
  },
  {
   "cell_type": "markdown",
   "id": "3042b22d-9d88-4e21-b112-ab23cf8d24ea",
   "metadata": {
    "papermill": {
     "duration": 0.019652,
     "end_time": "2022-08-08T02:17:17.701247",
     "exception": false,
     "start_time": "2022-08-08T02:17:17.681595",
     "status": "completed"
    },
    "tags": []
   },
   "source": [
    "### Add gene name and set index"
   ]
  },
  {
   "cell_type": "code",
   "execution_count": 82,
   "id": "3b7b0e76-7aca-44bf-beff-5f1c1b6193ee",
   "metadata": {
    "execution": {
     "iopub.execute_input": "2022-08-08T02:17:17.741368Z",
     "iopub.status.busy": "2022-08-08T02:17:17.741164Z",
     "iopub.status.idle": "2022-08-08T02:17:17.754384Z",
     "shell.execute_reply": "2022-08-08T02:17:17.753904Z"
    },
    "papermill": {
     "duration": 0.034672,
     "end_time": "2022-08-08T02:17:17.755709",
     "exception": false,
     "start_time": "2022-08-08T02:17:17.721037",
     "status": "completed"
    },
    "tags": []
   },
   "outputs": [],
   "source": [
    "spredixcan_genes_models = spredixcan_genes_models.to_frame().reset_index()"
   ]
  },
  {
   "cell_type": "code",
   "execution_count": 83,
   "id": "ffab4b61-c2d4-4bcc-a147-23a4bf30f715",
   "metadata": {
    "execution": {
     "iopub.execute_input": "2022-08-08T02:17:17.817345Z",
     "iopub.status.busy": "2022-08-08T02:17:17.817131Z",
     "iopub.status.idle": "2022-08-08T02:17:17.833896Z",
     "shell.execute_reply": "2022-08-08T02:17:17.833314Z"
    },
    "papermill": {
     "duration": 0.05993,
     "end_time": "2022-08-08T02:17:17.835373",
     "exception": false,
     "start_time": "2022-08-08T02:17:17.775443",
     "status": "completed"
    },
    "tags": []
   },
   "outputs": [
    {
     "data": {
      "text/html": [
       "<div>\n",
       "<style scoped>\n",
       "    .dataframe tbody tr th:only-of-type {\n",
       "        vertical-align: middle;\n",
       "    }\n",
       "\n",
       "    .dataframe tbody tr th {\n",
       "        vertical-align: top;\n",
       "    }\n",
       "\n",
       "    .dataframe thead th {\n",
       "        text-align: right;\n",
       "    }\n",
       "</style>\n",
       "<table border=\"1\" class=\"dataframe\">\n",
       "  <thead>\n",
       "    <tr style=\"text-align: right;\">\n",
       "      <th></th>\n",
       "      <th>gene_id</th>\n",
       "      <th>tissue</th>\n",
       "    </tr>\n",
       "  </thead>\n",
       "  <tbody>\n",
       "    <tr>\n",
       "      <th>0</th>\n",
       "      <td>ENSG00000000419</td>\n",
       "      <td>(Brain_Hypothalamus, Brain_Substantia_nigra)</td>\n",
       "    </tr>\n",
       "    <tr>\n",
       "      <th>1</th>\n",
       "      <td>ENSG00000000938</td>\n",
       "      <td>(Brain_Frontal_Cortex_BA9, Heart_Left_Ventricl...</td>\n",
       "    </tr>\n",
       "    <tr>\n",
       "      <th>2</th>\n",
       "      <td>ENSG00000000971</td>\n",
       "      <td>(Brain_Frontal_Cortex_BA9, Heart_Left_Ventricl...</td>\n",
       "    </tr>\n",
       "    <tr>\n",
       "      <th>3</th>\n",
       "      <td>ENSG00000001084</td>\n",
       "      <td>(Brain_Frontal_Cortex_BA9, Heart_Left_Ventricl...</td>\n",
       "    </tr>\n",
       "    <tr>\n",
       "      <th>4</th>\n",
       "      <td>ENSG00000001167</td>\n",
       "      <td>(Heart_Left_Ventricle, Skin_Sun_Exposed_Lower_...</td>\n",
       "    </tr>\n",
       "  </tbody>\n",
       "</table>\n",
       "</div>"
      ],
      "text/plain": [
       "           gene_id                                             tissue\n",
       "0  ENSG00000000419       (Brain_Hypothalamus, Brain_Substantia_nigra)\n",
       "1  ENSG00000000938  (Brain_Frontal_Cortex_BA9, Heart_Left_Ventricl...\n",
       "2  ENSG00000000971  (Brain_Frontal_Cortex_BA9, Heart_Left_Ventricl...\n",
       "3  ENSG00000001084  (Brain_Frontal_Cortex_BA9, Heart_Left_Ventricl...\n",
       "4  ENSG00000001167  (Heart_Left_Ventricle, Skin_Sun_Exposed_Lower_..."
      ]
     },
     "execution_count": 83,
     "metadata": {},
     "output_type": "execute_result"
    }
   ],
   "source": [
    "spredixcan_genes_models.head()"
   ]
  },
  {
   "cell_type": "code",
   "execution_count": 84,
   "id": "e1cb2fe5-969f-4526-bca7-a3b8919b3509",
   "metadata": {
    "execution": {
     "iopub.execute_input": "2022-08-08T02:17:17.875786Z",
     "iopub.status.busy": "2022-08-08T02:17:17.875523Z",
     "iopub.status.idle": "2022-08-08T02:17:17.890456Z",
     "shell.execute_reply": "2022-08-08T02:17:17.889936Z"
    },
    "papermill": {
     "duration": 0.036633,
     "end_time": "2022-08-08T02:17:17.891891",
     "exception": false,
     "start_time": "2022-08-08T02:17:17.855258",
     "status": "completed"
    },
    "tags": []
   },
   "outputs": [],
   "source": [
    "spredixcan_genes_models = spredixcan_genes_models.assign(\n",
    "    gene_name=spredixcan_genes_models[\"gene_id\"].apply(\n",
    "        lambda g: Gene.GENE_ID_TO_NAME_MAP[g]\n",
    "    )\n",
    ")"
   ]
  },
  {
   "cell_type": "code",
   "execution_count": 85,
   "id": "ff078ce5-3f18-442e-a593-3326436c758e",
   "metadata": {
    "execution": {
     "iopub.execute_input": "2022-08-08T02:17:17.934402Z",
     "iopub.status.busy": "2022-08-08T02:17:17.934188Z",
     "iopub.status.idle": "2022-08-08T02:17:17.948219Z",
     "shell.execute_reply": "2022-08-08T02:17:17.947677Z"
    },
    "papermill": {
     "duration": 0.036251,
     "end_time": "2022-08-08T02:17:17.949611",
     "exception": false,
     "start_time": "2022-08-08T02:17:17.913360",
     "status": "completed"
    },
    "tags": []
   },
   "outputs": [],
   "source": [
    "spredixcan_genes_models = spredixcan_genes_models[[\"gene_id\", \"gene_name\", \"tissue\"]]"
   ]
  },
  {
   "cell_type": "code",
   "execution_count": 86,
   "id": "a65c8bf2-5ecd-4f80-a857-11f8a0c019c4",
   "metadata": {
    "execution": {
     "iopub.execute_input": "2022-08-08T02:17:17.990724Z",
     "iopub.status.busy": "2022-08-08T02:17:17.990482Z",
     "iopub.status.idle": "2022-08-08T02:17:18.003837Z",
     "shell.execute_reply": "2022-08-08T02:17:18.003345Z"
    },
    "papermill": {
     "duration": 0.035066,
     "end_time": "2022-08-08T02:17:18.005213",
     "exception": false,
     "start_time": "2022-08-08T02:17:17.970147",
     "status": "completed"
    },
    "tags": []
   },
   "outputs": [],
   "source": [
    "spredixcan_genes_models = spredixcan_genes_models.set_index(\"gene_id\")"
   ]
  },
  {
   "cell_type": "code",
   "execution_count": 87,
   "id": "af6b40b9-fc58-47a1-a1b5-4404034b008b",
   "metadata": {
    "execution": {
     "iopub.execute_input": "2022-08-08T02:17:18.046762Z",
     "iopub.status.busy": "2022-08-08T02:17:18.046541Z",
     "iopub.status.idle": "2022-08-08T02:17:18.068018Z",
     "shell.execute_reply": "2022-08-08T02:17:18.067414Z"
    },
    "papermill": {
     "duration": 0.043431,
     "end_time": "2022-08-08T02:17:18.069213",
     "exception": false,
     "start_time": "2022-08-08T02:17:18.025782",
     "status": "completed"
    },
    "tags": []
   },
   "outputs": [
    {
     "data": {
      "text/html": [
       "<div>\n",
       "<style scoped>\n",
       "    .dataframe tbody tr th:only-of-type {\n",
       "        vertical-align: middle;\n",
       "    }\n",
       "\n",
       "    .dataframe tbody tr th {\n",
       "        vertical-align: top;\n",
       "    }\n",
       "\n",
       "    .dataframe thead th {\n",
       "        text-align: right;\n",
       "    }\n",
       "</style>\n",
       "<table border=\"1\" class=\"dataframe\">\n",
       "  <thead>\n",
       "    <tr style=\"text-align: right;\">\n",
       "      <th></th>\n",
       "      <th>gene_name</th>\n",
       "      <th>tissue</th>\n",
       "    </tr>\n",
       "    <tr>\n",
       "      <th>gene_id</th>\n",
       "      <th></th>\n",
       "      <th></th>\n",
       "    </tr>\n",
       "  </thead>\n",
       "  <tbody>\n",
       "    <tr>\n",
       "      <th>ENSG00000000419</th>\n",
       "      <td>DPM1</td>\n",
       "      <td>(Brain_Hypothalamus, Brain_Substantia_nigra)</td>\n",
       "    </tr>\n",
       "    <tr>\n",
       "      <th>ENSG00000000938</th>\n",
       "      <td>FGR</td>\n",
       "      <td>(Brain_Frontal_Cortex_BA9, Heart_Left_Ventricl...</td>\n",
       "    </tr>\n",
       "    <tr>\n",
       "      <th>ENSG00000000971</th>\n",
       "      <td>CFH</td>\n",
       "      <td>(Brain_Frontal_Cortex_BA9, Heart_Left_Ventricl...</td>\n",
       "    </tr>\n",
       "    <tr>\n",
       "      <th>ENSG00000001084</th>\n",
       "      <td>GCLC</td>\n",
       "      <td>(Brain_Frontal_Cortex_BA9, Heart_Left_Ventricl...</td>\n",
       "    </tr>\n",
       "    <tr>\n",
       "      <th>ENSG00000001167</th>\n",
       "      <td>NFYA</td>\n",
       "      <td>(Heart_Left_Ventricle, Skin_Sun_Exposed_Lower_...</td>\n",
       "    </tr>\n",
       "  </tbody>\n",
       "</table>\n",
       "</div>"
      ],
      "text/plain": [
       "                gene_name                                             tissue\n",
       "gene_id                                                                     \n",
       "ENSG00000000419      DPM1       (Brain_Hypothalamus, Brain_Substantia_nigra)\n",
       "ENSG00000000938       FGR  (Brain_Frontal_Cortex_BA9, Heart_Left_Ventricl...\n",
       "ENSG00000000971       CFH  (Brain_Frontal_Cortex_BA9, Heart_Left_Ventricl...\n",
       "ENSG00000001084      GCLC  (Brain_Frontal_Cortex_BA9, Heart_Left_Ventricl...\n",
       "ENSG00000001167      NFYA  (Heart_Left_Ventricle, Skin_Sun_Exposed_Lower_..."
      ]
     },
     "execution_count": 87,
     "metadata": {},
     "output_type": "execute_result"
    }
   ],
   "source": [
    "spredixcan_genes_models.head()"
   ]
  },
  {
   "cell_type": "markdown",
   "id": "d1e67be9-9094-4a07-b89d-3a0815d503e6",
   "metadata": {
    "papermill": {
     "duration": 0.020481,
     "end_time": "2022-08-08T02:17:18.110429",
     "exception": false,
     "start_time": "2022-08-08T02:17:18.089948",
     "status": "completed"
    },
    "tags": []
   },
   "source": [
    "### Add number of tissues"
   ]
  },
  {
   "cell_type": "code",
   "execution_count": 88,
   "id": "b2702bdb-b3bc-48e6-9c3e-855924d9e74b",
   "metadata": {
    "execution": {
     "iopub.execute_input": "2022-08-08T02:17:18.159001Z",
     "iopub.status.busy": "2022-08-08T02:17:18.158829Z",
     "iopub.status.idle": "2022-08-08T02:17:18.174353Z",
     "shell.execute_reply": "2022-08-08T02:17:18.173810Z"
    },
    "papermill": {
     "duration": 0.041368,
     "end_time": "2022-08-08T02:17:18.175891",
     "exception": false,
     "start_time": "2022-08-08T02:17:18.134523",
     "status": "completed"
    },
    "tags": []
   },
   "outputs": [],
   "source": [
    "spredixcan_genes_models = spredixcan_genes_models.assign(\n",
    "    n_tissues=spredixcan_genes_models[\"tissue\"].apply(len)\n",
    ")"
   ]
  },
  {
   "cell_type": "code",
   "execution_count": 89,
   "id": "4a5eb4b8-5e11-45a3-a991-0515bd83fc03",
   "metadata": {
    "execution": {
     "iopub.execute_input": "2022-08-08T02:17:18.254805Z",
     "iopub.status.busy": "2022-08-08T02:17:18.254629Z",
     "iopub.status.idle": "2022-08-08T02:17:18.273591Z",
     "shell.execute_reply": "2022-08-08T02:17:18.273073Z"
    },
    "papermill": {
     "duration": 0.045776,
     "end_time": "2022-08-08T02:17:18.274853",
     "exception": false,
     "start_time": "2022-08-08T02:17:18.229077",
     "status": "completed"
    },
    "tags": []
   },
   "outputs": [
    {
     "data": {
      "text/html": [
       "<div>\n",
       "<style scoped>\n",
       "    .dataframe tbody tr th:only-of-type {\n",
       "        vertical-align: middle;\n",
       "    }\n",
       "\n",
       "    .dataframe tbody tr th {\n",
       "        vertical-align: top;\n",
       "    }\n",
       "\n",
       "    .dataframe thead th {\n",
       "        text-align: right;\n",
       "    }\n",
       "</style>\n",
       "<table border=\"1\" class=\"dataframe\">\n",
       "  <thead>\n",
       "    <tr style=\"text-align: right;\">\n",
       "      <th></th>\n",
       "      <th>gene_name</th>\n",
       "      <th>tissue</th>\n",
       "      <th>n_tissues</th>\n",
       "    </tr>\n",
       "    <tr>\n",
       "      <th>gene_id</th>\n",
       "      <th></th>\n",
       "      <th></th>\n",
       "      <th></th>\n",
       "    </tr>\n",
       "  </thead>\n",
       "  <tbody>\n",
       "    <tr>\n",
       "      <th>ENSG00000000419</th>\n",
       "      <td>DPM1</td>\n",
       "      <td>(Brain_Hypothalamus, Brain_Substantia_nigra)</td>\n",
       "      <td>2</td>\n",
       "    </tr>\n",
       "    <tr>\n",
       "      <th>ENSG00000000938</th>\n",
       "      <td>FGR</td>\n",
       "      <td>(Brain_Frontal_Cortex_BA9, Heart_Left_Ventricl...</td>\n",
       "      <td>36</td>\n",
       "    </tr>\n",
       "    <tr>\n",
       "      <th>ENSG00000000971</th>\n",
       "      <td>CFH</td>\n",
       "      <td>(Brain_Frontal_Cortex_BA9, Heart_Left_Ventricl...</td>\n",
       "      <td>34</td>\n",
       "    </tr>\n",
       "    <tr>\n",
       "      <th>ENSG00000001084</th>\n",
       "      <td>GCLC</td>\n",
       "      <td>(Brain_Frontal_Cortex_BA9, Heart_Left_Ventricl...</td>\n",
       "      <td>32</td>\n",
       "    </tr>\n",
       "    <tr>\n",
       "      <th>ENSG00000001167</th>\n",
       "      <td>NFYA</td>\n",
       "      <td>(Heart_Left_Ventricle, Skin_Sun_Exposed_Lower_...</td>\n",
       "      <td>40</td>\n",
       "    </tr>\n",
       "  </tbody>\n",
       "</table>\n",
       "</div>"
      ],
      "text/plain": [
       "                gene_name                                             tissue  \\\n",
       "gene_id                                                                        \n",
       "ENSG00000000419      DPM1       (Brain_Hypothalamus, Brain_Substantia_nigra)   \n",
       "ENSG00000000938       FGR  (Brain_Frontal_Cortex_BA9, Heart_Left_Ventricl...   \n",
       "ENSG00000000971       CFH  (Brain_Frontal_Cortex_BA9, Heart_Left_Ventricl...   \n",
       "ENSG00000001084      GCLC  (Brain_Frontal_Cortex_BA9, Heart_Left_Ventricl...   \n",
       "ENSG00000001167      NFYA  (Heart_Left_Ventricle, Skin_Sun_Exposed_Lower_...   \n",
       "\n",
       "                 n_tissues  \n",
       "gene_id                     \n",
       "ENSG00000000419          2  \n",
       "ENSG00000000938         36  \n",
       "ENSG00000000971         34  \n",
       "ENSG00000001084         32  \n",
       "ENSG00000001167         40  "
      ]
     },
     "execution_count": 89,
     "metadata": {},
     "output_type": "execute_result"
    }
   ],
   "source": [
    "spredixcan_genes_models.head()"
   ]
  },
  {
   "cell_type": "markdown",
   "id": "2abce820-1cb4-4a58-9dc5-b3e37d3ff037",
   "metadata": {
    "papermill": {
     "duration": 0.019944,
     "end_time": "2022-08-08T02:17:18.316654",
     "exception": false,
     "start_time": "2022-08-08T02:17:18.296710",
     "status": "completed"
    },
    "tags": []
   },
   "source": [
    "### Save"
   ]
  },
  {
   "cell_type": "markdown",
   "id": "28462e2a-da49-44c4-ae71-b3830a2b108f",
   "metadata": {
    "papermill": {
     "duration": 0.020077,
     "end_time": "2022-08-08T02:17:18.357113",
     "exception": false,
     "start_time": "2022-08-08T02:17:18.337036",
     "status": "completed"
    },
    "tags": []
   },
   "source": [
    "Here I quickly save these results to a file, given that the next steps (covariates) are slow to compute."
   ]
  },
  {
   "cell_type": "code",
   "execution_count": 90,
   "id": "9cfb687d-5ab2-4e85-9944-f5c685de8046",
   "metadata": {
    "execution": {
     "iopub.execute_input": "2022-08-08T02:17:18.398184Z",
     "iopub.status.busy": "2022-08-08T02:17:18.397510Z",
     "iopub.status.idle": "2022-08-08T02:17:18.410960Z",
     "shell.execute_reply": "2022-08-08T02:17:18.410422Z"
    },
    "papermill": {
     "duration": 0.035439,
     "end_time": "2022-08-08T02:17:18.412430",
     "exception": false,
     "start_time": "2022-08-08T02:17:18.376991",
     "status": "completed"
    },
    "tags": []
   },
   "outputs": [],
   "source": [
    "# this is important, other scripts depend on gene_name to be unique\n",
    "assert spredixcan_genes_models[\"gene_name\"].is_unique"
   ]
  },
  {
   "cell_type": "code",
   "execution_count": 91,
   "id": "b2d9bd26-afaa-4aff-a707-3109e13af9bb",
   "metadata": {
    "execution": {
     "iopub.execute_input": "2022-08-08T02:17:18.453583Z",
     "iopub.status.busy": "2022-08-08T02:17:18.453382Z",
     "iopub.status.idle": "2022-08-08T02:17:18.466902Z",
     "shell.execute_reply": "2022-08-08T02:17:18.466280Z"
    },
    "papermill": {
     "duration": 0.035736,
     "end_time": "2022-08-08T02:17:18.468268",
     "exception": false,
     "start_time": "2022-08-08T02:17:18.432532",
     "status": "completed"
    },
    "tags": []
   },
   "outputs": [],
   "source": [
    "assert not spredixcan_genes_models.isna().any(None)"
   ]
  },
  {
   "cell_type": "code",
   "execution_count": 92,
   "id": "074b103c-2960-4299-a3ac-fa37ab6f2784",
   "metadata": {
    "execution": {
     "iopub.execute_input": "2022-08-08T02:17:18.509405Z",
     "iopub.status.busy": "2022-08-08T02:17:18.509200Z",
     "iopub.status.idle": "2022-08-08T02:17:18.532617Z",
     "shell.execute_reply": "2022-08-08T02:17:18.531926Z"
    },
    "papermill": {
     "duration": 0.045381,
     "end_time": "2022-08-08T02:17:18.533959",
     "exception": false,
     "start_time": "2022-08-08T02:17:18.488578",
     "status": "completed"
    },
    "tags": []
   },
   "outputs": [],
   "source": [
    "spredixcan_genes_models.to_pickle(OUTPUT_DIR_BASE / \"gene_tissues.pkl\")"
   ]
  },
  {
   "cell_type": "markdown",
   "id": "ae18f693-4da8-48ae-85b6-8194abcca684",
   "metadata": {
    "papermill": {
     "duration": 0.020122,
     "end_time": "2022-08-08T02:17:18.575294",
     "exception": false,
     "start_time": "2022-08-08T02:17:18.555172",
     "status": "completed"
    },
    "tags": []
   },
   "source": [
    "## Add covariates based on S-PrediXcan results"
   ]
  },
  {
   "cell_type": "markdown",
   "id": "bed7a46c-4906-40b9-9dd8-0bfb584e6d2a",
   "metadata": {
    "papermill": {
     "duration": 0.019706,
     "end_time": "2022-08-08T02:17:18.615109",
     "exception": false,
     "start_time": "2022-08-08T02:17:18.595403",
     "status": "completed"
    },
    "tags": []
   },
   "source": [
    "This extend the previous file with more columns"
   ]
  },
  {
   "cell_type": "markdown",
   "id": "850c554f-2ace-40a3-a33a-477246bb07c7",
   "metadata": {
    "papermill": {
     "duration": 0.01993,
     "end_time": "2022-08-08T02:17:18.655047",
     "exception": false,
     "start_time": "2022-08-08T02:17:18.635117",
     "status": "completed"
    },
    "tags": []
   },
   "source": [
    "### Get gene's objects"
   ]
  },
  {
   "cell_type": "code",
   "execution_count": 93,
   "id": "dfd93711-5c91-4cb6-8561-f366e270b6b1",
   "metadata": {
    "execution": {
     "iopub.execute_input": "2022-08-08T02:17:18.696200Z",
     "iopub.status.busy": "2022-08-08T02:17:18.695998Z",
     "iopub.status.idle": "2022-08-08T02:17:18.714508Z",
     "shell.execute_reply": "2022-08-08T02:17:18.713907Z"
    },
    "papermill": {
     "duration": 0.040715,
     "end_time": "2022-08-08T02:17:18.715857",
     "exception": false,
     "start_time": "2022-08-08T02:17:18.675142",
     "status": "completed"
    },
    "tags": []
   },
   "outputs": [],
   "source": [
    "spredixcan_gene_obj = {\n",
    "    gene_id: Gene(ensembl_id=gene_id) for gene_id in spredixcan_genes_models.index\n",
    "}"
   ]
  },
  {
   "cell_type": "code",
   "execution_count": 94,
   "id": "59efbedc-0b5d-4d0b-bd82-95e74c0ba793",
   "metadata": {
    "execution": {
     "iopub.execute_input": "2022-08-08T02:17:18.758140Z",
     "iopub.status.busy": "2022-08-08T02:17:18.757935Z",
     "iopub.status.idle": "2022-08-08T02:17:18.770635Z",
     "shell.execute_reply": "2022-08-08T02:17:18.770025Z"
    },
    "papermill": {
     "duration": 0.034958,
     "end_time": "2022-08-08T02:17:18.771908",
     "exception": false,
     "start_time": "2022-08-08T02:17:18.736950",
     "status": "completed"
    },
    "tags": []
   },
   "outputs": [
    {
     "data": {
      "text/plain": [
       "6442"
      ]
     },
     "execution_count": 94,
     "metadata": {},
     "output_type": "execute_result"
    }
   ],
   "source": [
    "len(spredixcan_gene_obj)"
   ]
  },
  {
   "cell_type": "markdown",
   "id": "27ac1828-755a-424a-b416-6aef1f0c2e45",
   "metadata": {
    "papermill": {
     "duration": 0.020076,
     "end_time": "2022-08-08T02:17:18.813148",
     "exception": false,
     "start_time": "2022-08-08T02:17:18.793072",
     "status": "completed"
    },
    "tags": []
   },
   "source": [
    "### Add genes' variance captured by principal components"
   ]
  },
  {
   "cell_type": "code",
   "execution_count": 95,
   "id": "893b3418-054c-44d2-9ce0-7fa590aef00e",
   "metadata": {
    "execution": {
     "iopub.execute_input": "2022-08-08T02:17:18.874777Z",
     "iopub.status.busy": "2022-08-08T02:17:18.874571Z",
     "iopub.status.idle": "2022-08-08T02:17:18.887509Z",
     "shell.execute_reply": "2022-08-08T02:17:18.886985Z"
    },
    "papermill": {
     "duration": 0.053934,
     "end_time": "2022-08-08T02:17:18.888898",
     "exception": false,
     "start_time": "2022-08-08T02:17:18.834964",
     "status": "completed"
    },
    "tags": []
   },
   "outputs": [],
   "source": [
    "def _get_gene_pc_variance(gene_row):\n",
    "    gene_id = gene_row.name\n",
    "    gene_tissues = gene_row[\"tissue\"]\n",
    "    gene_obj = spredixcan_gene_obj[gene_id]\n",
    "\n",
    "    u, s, vt = gene_obj.get_tissues_correlations_svd(\n",
    "        tissues=gene_tissues,\n",
    "        snps_subset=gwas_variants_ids_set,\n",
    "        reference_panel=REFERENCE_PANEL,\n",
    "        model_type=EQTL_MODEL,\n",
    "        # use_covariance_matrix=True,\n",
    "    )\n",
    "\n",
    "    return s"
   ]
  },
  {
   "cell_type": "code",
   "execution_count": 96,
   "id": "083afa33-cea0-40d3-af20-94a1307a6607",
   "metadata": {
    "execution": {
     "iopub.execute_input": "2022-08-08T02:17:18.930256Z",
     "iopub.status.busy": "2022-08-08T02:17:18.930051Z",
     "iopub.status.idle": "2022-08-08T02:17:22.026840Z",
     "shell.execute_reply": "2022-08-08T02:17:22.026315Z"
    },
    "papermill": {
     "duration": 3.119009,
     "end_time": "2022-08-08T02:17:22.028216",
     "exception": false,
     "start_time": "2022-08-08T02:17:18.909207",
     "status": "completed"
    },
    "tags": []
   },
   "outputs": [
    {
     "data": {
      "text/plain": [
       "array([35.14301823,  3.87568728,  2.3091285 ,  1.90683623,  1.27573165])"
      ]
     },
     "execution_count": 96,
     "metadata": {},
     "output_type": "execute_result"
    }
   ],
   "source": [
    "_tmp = spredixcan_genes_models.loc[\"ENSG00000188976\"]\n",
    "_get_gene_pc_variance(_tmp)"
   ]
  },
  {
   "cell_type": "code",
   "execution_count": 97,
   "id": "80f7720d-79c9-4183-bb7e-b1480f31ed87",
   "metadata": {
    "execution": {
     "iopub.execute_input": "2022-08-08T02:17:22.071851Z",
     "iopub.status.busy": "2022-08-08T02:17:22.071397Z",
     "iopub.status.idle": "2022-08-08T03:42:13.744011Z",
     "shell.execute_reply": "2022-08-08T03:42:13.743541Z"
    },
    "papermill": {
     "duration": 5091.695798,
     "end_time": "2022-08-08T03:42:13.745339",
     "exception": false,
     "start_time": "2022-08-08T02:17:22.049541",
     "status": "completed"
    },
    "tags": []
   },
   "outputs": [],
   "source": [
    "spredixcan_genes_tissues_pc_variance = spredixcan_genes_models.apply(\n",
    "    _get_gene_pc_variance, axis=1\n",
    ")"
   ]
  },
  {
   "cell_type": "code",
   "execution_count": 98,
   "id": "621302a1-1407-4400-9282-e37798bb18b3",
   "metadata": {
    "execution": {
     "iopub.execute_input": "2022-08-08T03:42:13.792043Z",
     "iopub.status.busy": "2022-08-08T03:42:13.791714Z",
     "iopub.status.idle": "2022-08-08T03:42:13.809160Z",
     "shell.execute_reply": "2022-08-08T03:42:13.808722Z"
    },
    "papermill": {
     "duration": 0.040904,
     "end_time": "2022-08-08T03:42:13.810325",
     "exception": false,
     "start_time": "2022-08-08T03:42:13.769421",
     "status": "completed"
    },
    "tags": []
   },
   "outputs": [
    {
     "data": {
      "text/plain": [
       "gene_id\n",
       "ENSG00000000419             [1.0442398458252409, 0.9557601541747592]\n",
       "ENSG00000000938    [31.632669336371276, 2.078367751851144, 1.2716...\n",
       "ENSG00000000971    [21.560769925683292, 7.310170987045467, 1.8377...\n",
       "ENSG00000001084    [21.291939080546523, 4.699418748743194, 2.2489...\n",
       "ENSG00000001167              [37.33566029549769, 1.3914019604538361]\n",
       "                                         ...                        \n",
       "ENSG00000278540    [30.23954027295473, 3.0448326465798923, 1.6793...\n",
       "ENSG00000278828              [3.062182335109643, 0.9378176648903567]\n",
       "ENSG00000278845              [45.68745451013909, 2.2268019546482343]\n",
       "ENSG00000281005                                  [48.30170739785573]\n",
       "ENSG00000282608    [22.653514081237105, 6.245520030604544, 2.5559...\n",
       "Length: 6442, dtype: object"
      ]
     },
     "execution_count": 98,
     "metadata": {},
     "output_type": "execute_result"
    }
   ],
   "source": [
    "spredixcan_genes_tissues_pc_variance"
   ]
  },
  {
   "cell_type": "code",
   "execution_count": 99,
   "id": "9ac9e0fb-e0cc-4fea-ad01-2e76d40afb3c",
   "metadata": {
    "execution": {
     "iopub.execute_input": "2022-08-08T03:42:13.855524Z",
     "iopub.status.busy": "2022-08-08T03:42:13.855011Z",
     "iopub.status.idle": "2022-08-08T03:42:13.866842Z",
     "shell.execute_reply": "2022-08-08T03:42:13.866444Z"
    },
    "papermill": {
     "duration": 0.03586,
     "end_time": "2022-08-08T03:42:13.868137",
     "exception": false,
     "start_time": "2022-08-08T03:42:13.832277",
     "status": "completed"
    },
    "tags": []
   },
   "outputs": [],
   "source": [
    "# # testing\n",
    "# assert spredixcan_genes_tissues_pc_variance.loc[\n",
    "#     \"ENSG00000188976\"\n",
    "# ].sum() == pytest.approx(44.01605629086847)\n",
    "# # this is using the covariance:\n",
    "# # assert spredixcan_genes_tissues_pc_variance.loc[\"ENSG00000188976\"].sum() == pytest.approx(1.1492946006449425)"
   ]
  },
  {
   "cell_type": "code",
   "execution_count": 100,
   "id": "700ed8c8-16e3-4f44-80ff-a4355349ac26",
   "metadata": {
    "execution": {
     "iopub.execute_input": "2022-08-08T03:42:13.913280Z",
     "iopub.status.busy": "2022-08-08T03:42:13.913121Z",
     "iopub.status.idle": "2022-08-08T03:42:13.929127Z",
     "shell.execute_reply": "2022-08-08T03:42:13.928112Z"
    },
    "papermill": {
     "duration": 0.040376,
     "end_time": "2022-08-08T03:42:13.930553",
     "exception": false,
     "start_time": "2022-08-08T03:42:13.890177",
     "status": "completed"
    },
    "tags": []
   },
   "outputs": [],
   "source": [
    "# add to spredixcan_genes_models\n",
    "spredixcan_genes_models = spredixcan_genes_models.join(\n",
    "    spredixcan_genes_tissues_pc_variance.rename(\"tissues_pc_variances\")\n",
    ")"
   ]
  },
  {
   "cell_type": "code",
   "execution_count": 101,
   "id": "597f7dff-2425-490d-84d6-537f8bd0f147",
   "metadata": {
    "execution": {
     "iopub.execute_input": "2022-08-08T03:42:13.975355Z",
     "iopub.status.busy": "2022-08-08T03:42:13.974940Z",
     "iopub.status.idle": "2022-08-08T03:42:13.990106Z",
     "shell.execute_reply": "2022-08-08T03:42:13.989714Z"
    },
    "papermill": {
     "duration": 0.038995,
     "end_time": "2022-08-08T03:42:13.991475",
     "exception": false,
     "start_time": "2022-08-08T03:42:13.952480",
     "status": "completed"
    },
    "tags": []
   },
   "outputs": [
    {
     "data": {
      "text/plain": [
       "(6442, 4)"
      ]
     },
     "execution_count": 101,
     "metadata": {},
     "output_type": "execute_result"
    }
   ],
   "source": [
    "spredixcan_genes_models.shape"
   ]
  },
  {
   "cell_type": "code",
   "execution_count": 102,
   "id": "41bdb249-f7e3-4b07-a534-2c3e46db72dc",
   "metadata": {
    "execution": {
     "iopub.execute_input": "2022-08-08T03:42:14.036459Z",
     "iopub.status.busy": "2022-08-08T03:42:14.036249Z",
     "iopub.status.idle": "2022-08-08T03:42:14.057190Z",
     "shell.execute_reply": "2022-08-08T03:42:14.056760Z"
    },
    "papermill": {
     "duration": 0.04531,
     "end_time": "2022-08-08T03:42:14.058595",
     "exception": false,
     "start_time": "2022-08-08T03:42:14.013285",
     "status": "completed"
    },
    "tags": []
   },
   "outputs": [
    {
     "data": {
      "text/html": [
       "<div>\n",
       "<style scoped>\n",
       "    .dataframe tbody tr th:only-of-type {\n",
       "        vertical-align: middle;\n",
       "    }\n",
       "\n",
       "    .dataframe tbody tr th {\n",
       "        vertical-align: top;\n",
       "    }\n",
       "\n",
       "    .dataframe thead th {\n",
       "        text-align: right;\n",
       "    }\n",
       "</style>\n",
       "<table border=\"1\" class=\"dataframe\">\n",
       "  <thead>\n",
       "    <tr style=\"text-align: right;\">\n",
       "      <th></th>\n",
       "      <th>gene_name</th>\n",
       "      <th>tissue</th>\n",
       "      <th>n_tissues</th>\n",
       "      <th>tissues_pc_variances</th>\n",
       "    </tr>\n",
       "    <tr>\n",
       "      <th>gene_id</th>\n",
       "      <th></th>\n",
       "      <th></th>\n",
       "      <th></th>\n",
       "      <th></th>\n",
       "    </tr>\n",
       "  </thead>\n",
       "  <tbody>\n",
       "    <tr>\n",
       "      <th>ENSG00000000419</th>\n",
       "      <td>DPM1</td>\n",
       "      <td>(Brain_Hypothalamus, Brain_Substantia_nigra)</td>\n",
       "      <td>2</td>\n",
       "      <td>[1.0442398458252409, 0.9557601541747592]</td>\n",
       "    </tr>\n",
       "    <tr>\n",
       "      <th>ENSG00000000938</th>\n",
       "      <td>FGR</td>\n",
       "      <td>(Brain_Frontal_Cortex_BA9, Heart_Left_Ventricl...</td>\n",
       "      <td>36</td>\n",
       "      <td>[31.632669336371276, 2.078367751851144, 1.2716...</td>\n",
       "    </tr>\n",
       "    <tr>\n",
       "      <th>ENSG00000000971</th>\n",
       "      <td>CFH</td>\n",
       "      <td>(Brain_Frontal_Cortex_BA9, Heart_Left_Ventricl...</td>\n",
       "      <td>34</td>\n",
       "      <td>[21.560769925683292, 7.310170987045467, 1.8377...</td>\n",
       "    </tr>\n",
       "    <tr>\n",
       "      <th>ENSG00000001084</th>\n",
       "      <td>GCLC</td>\n",
       "      <td>(Brain_Frontal_Cortex_BA9, Heart_Left_Ventricl...</td>\n",
       "      <td>32</td>\n",
       "      <td>[21.291939080546523, 4.699418748743194, 2.2489...</td>\n",
       "    </tr>\n",
       "    <tr>\n",
       "      <th>ENSG00000001167</th>\n",
       "      <td>NFYA</td>\n",
       "      <td>(Heart_Left_Ventricle, Skin_Sun_Exposed_Lower_...</td>\n",
       "      <td>40</td>\n",
       "      <td>[37.33566029549769, 1.3914019604538361]</td>\n",
       "    </tr>\n",
       "  </tbody>\n",
       "</table>\n",
       "</div>"
      ],
      "text/plain": [
       "                gene_name                                             tissue  \\\n",
       "gene_id                                                                        \n",
       "ENSG00000000419      DPM1       (Brain_Hypothalamus, Brain_Substantia_nigra)   \n",
       "ENSG00000000938       FGR  (Brain_Frontal_Cortex_BA9, Heart_Left_Ventricl...   \n",
       "ENSG00000000971       CFH  (Brain_Frontal_Cortex_BA9, Heart_Left_Ventricl...   \n",
       "ENSG00000001084      GCLC  (Brain_Frontal_Cortex_BA9, Heart_Left_Ventricl...   \n",
       "ENSG00000001167      NFYA  (Heart_Left_Ventricle, Skin_Sun_Exposed_Lower_...   \n",
       "\n",
       "                 n_tissues                               tissues_pc_variances  \n",
       "gene_id                                                                        \n",
       "ENSG00000000419          2           [1.0442398458252409, 0.9557601541747592]  \n",
       "ENSG00000000938         36  [31.632669336371276, 2.078367751851144, 1.2716...  \n",
       "ENSG00000000971         34  [21.560769925683292, 7.310170987045467, 1.8377...  \n",
       "ENSG00000001084         32  [21.291939080546523, 4.699418748743194, 2.2489...  \n",
       "ENSG00000001167         40            [37.33566029549769, 1.3914019604538361]  "
      ]
     },
     "execution_count": 102,
     "metadata": {},
     "output_type": "execute_result"
    }
   ],
   "source": [
    "spredixcan_genes_models.head()"
   ]
  },
  {
   "cell_type": "markdown",
   "id": "e58c08e2-6179-4d47-af1e-4f5e6e048d9d",
   "metadata": {
    "papermill": {
     "duration": 0.022405,
     "end_time": "2022-08-08T03:42:14.103652",
     "exception": false,
     "start_time": "2022-08-08T03:42:14.081247",
     "status": "completed"
    },
    "tags": []
   },
   "source": [
    "### Add genes' variance captured by principal components (covariance)"
   ]
  },
  {
   "cell_type": "code",
   "execution_count": 103,
   "id": "25a97b2a-8044-4de7-b532-7b6516d2b82c",
   "metadata": {
    "execution": {
     "iopub.execute_input": "2022-08-08T03:42:14.148867Z",
     "iopub.status.busy": "2022-08-08T03:42:14.148707Z",
     "iopub.status.idle": "2022-08-08T03:42:14.162689Z",
     "shell.execute_reply": "2022-08-08T03:42:14.162247Z"
    },
    "papermill": {
     "duration": 0.037756,
     "end_time": "2022-08-08T03:42:14.163945",
     "exception": false,
     "start_time": "2022-08-08T03:42:14.126189",
     "status": "completed"
    },
    "tags": []
   },
   "outputs": [],
   "source": [
    "def _get_gene_pc_variance(gene_row):\n",
    "    gene_id = gene_row.name\n",
    "    gene_tissues = gene_row[\"tissue\"]\n",
    "    gene_obj = spredixcan_gene_obj[gene_id]\n",
    "\n",
    "    u, s, vt = gene_obj.get_tissues_correlations_svd(\n",
    "        tissues=gene_tissues,\n",
    "        snps_subset=gwas_variants_ids_set,\n",
    "        reference_panel=REFERENCE_PANEL,\n",
    "        model_type=EQTL_MODEL,\n",
    "        use_covariance_matrix=True,\n",
    "    )\n",
    "\n",
    "    return s"
   ]
  },
  {
   "cell_type": "code",
   "execution_count": 104,
   "id": "f750ce3c-3bea-49d6-beca-9f609ae69b87",
   "metadata": {
    "execution": {
     "iopub.execute_input": "2022-08-08T03:42:14.210009Z",
     "iopub.status.busy": "2022-08-08T03:42:14.209684Z",
     "iopub.status.idle": "2022-08-08T03:42:14.611504Z",
     "shell.execute_reply": "2022-08-08T03:42:14.611079Z"
    },
    "papermill": {
     "duration": 0.426055,
     "end_time": "2022-08-08T03:42:14.612728",
     "exception": false,
     "start_time": "2022-08-08T03:42:14.186673",
     "status": "completed"
    },
    "tags": []
   },
   "outputs": [
    {
     "data": {
      "text/plain": [
       "array([0.92569322, 0.08878404])"
      ]
     },
     "execution_count": 104,
     "metadata": {},
     "output_type": "execute_result"
    }
   ],
   "source": [
    "_tmp = spredixcan_genes_models.loc[\"ENSG00000188976\"]\n",
    "_get_gene_pc_variance(_tmp)"
   ]
  },
  {
   "cell_type": "code",
   "execution_count": 105,
   "id": "6502c9ff-8f64-46f9-b94f-9a4a0f6736ba",
   "metadata": {
    "execution": {
     "iopub.execute_input": "2022-08-08T03:42:14.696757Z",
     "iopub.status.busy": "2022-08-08T03:42:14.696387Z",
     "iopub.status.idle": "2022-08-08T05:07:39.166324Z",
     "shell.execute_reply": "2022-08-08T05:07:39.165882Z"
    },
    "papermill": {
     "duration": 5124.511944,
     "end_time": "2022-08-08T05:07:39.167659",
     "exception": false,
     "start_time": "2022-08-08T03:42:14.655715",
     "status": "completed"
    },
    "tags": []
   },
   "outputs": [],
   "source": [
    "spredixcan_genes_tissues_pc_variance = spredixcan_genes_models.apply(\n",
    "    _get_gene_pc_variance, axis=1\n",
    ")"
   ]
  },
  {
   "cell_type": "code",
   "execution_count": 106,
   "id": "a647f47b-6663-4bab-9ffc-c2e92b93c654",
   "metadata": {
    "execution": {
     "iopub.execute_input": "2022-08-08T05:07:39.215931Z",
     "iopub.status.busy": "2022-08-08T05:07:39.215447Z",
     "iopub.status.idle": "2022-08-08T05:07:39.232426Z",
     "shell.execute_reply": "2022-08-08T05:07:39.232029Z"
    },
    "papermill": {
     "duration": 0.042879,
     "end_time": "2022-08-08T05:07:39.233759",
     "exception": false,
     "start_time": "2022-08-08T05:07:39.190880",
     "status": "completed"
    },
    "tags": []
   },
   "outputs": [
    {
     "data": {
      "text/plain": [
       "gene_id\n",
       "ENSG00000000419       [0.013163142634155849, 0.00048574890347684763]\n",
       "ENSG00000000938                                [0.17159486570780275]\n",
       "ENSG00000000971    [0.20930603195874506, 0.05823434765600799, 0.0...\n",
       "ENSG00000001084    [0.3943052737512377, 0.11627488888534836, 0.01...\n",
       "ENSG00000001167             [1.164263997982105, 0.05742881287671713]\n",
       "                                         ...                        \n",
       "ENSG00000278540          [0.12105177321833706, 0.011043537807199567]\n",
       "ENSG00000278828        [0.003774008788117112, 0.0024289076167174424]\n",
       "ENSG00000278845           [1.0913874047417138, 0.046980444501018834]\n",
       "ENSG00000281005                                 [3.8662049265278142]\n",
       "ENSG00000282608    [0.22315950079956795, 0.03177900078278809, 0.0...\n",
       "Length: 6442, dtype: object"
      ]
     },
     "execution_count": 106,
     "metadata": {},
     "output_type": "execute_result"
    }
   ],
   "source": [
    "spredixcan_genes_tissues_pc_variance"
   ]
  },
  {
   "cell_type": "code",
   "execution_count": 107,
   "id": "6a8d4099-1dca-4d11-a9b8-5a1119885329",
   "metadata": {
    "execution": {
     "iopub.execute_input": "2022-08-08T05:07:39.280389Z",
     "iopub.status.busy": "2022-08-08T05:07:39.280227Z",
     "iopub.status.idle": "2022-08-08T05:07:39.296058Z",
     "shell.execute_reply": "2022-08-08T05:07:39.295619Z"
    },
    "papermill": {
     "duration": 0.040258,
     "end_time": "2022-08-08T05:07:39.297290",
     "exception": false,
     "start_time": "2022-08-08T05:07:39.257032",
     "status": "completed"
    },
    "tags": []
   },
   "outputs": [],
   "source": [
    "# # testing\n",
    "# # assert spredixcan_genes_tissues_pc_variance.loc[\"ENSG00000188976\"].sum() == pytest.approx(44.01605629086847)\n",
    "# # this is using the covariance:\n",
    "# assert spredixcan_genes_tissues_pc_variance.loc[\n",
    "#     \"ENSG00000188976\"\n",
    "# ].sum() == pytest.approx(1.1492946006449425)"
   ]
  },
  {
   "cell_type": "code",
   "execution_count": 108,
   "id": "102ed25d-6c0c-466d-be27-e75a3f03a4bb",
   "metadata": {
    "execution": {
     "iopub.execute_input": "2022-08-08T05:07:39.345648Z",
     "iopub.status.busy": "2022-08-08T05:07:39.345196Z",
     "iopub.status.idle": "2022-08-08T05:07:39.359711Z",
     "shell.execute_reply": "2022-08-08T05:07:39.359315Z"
    },
    "papermill": {
     "duration": 0.039943,
     "end_time": "2022-08-08T05:07:39.360992",
     "exception": false,
     "start_time": "2022-08-08T05:07:39.321049",
     "status": "completed"
    },
    "tags": []
   },
   "outputs": [],
   "source": [
    "# add to spredixcan_genes_models\n",
    "spredixcan_genes_models = spredixcan_genes_models.join(\n",
    "    spredixcan_genes_tissues_pc_variance.rename(\"tissues_pc_variances_cov\")\n",
    ")"
   ]
  },
  {
   "cell_type": "code",
   "execution_count": 109,
   "id": "000d6517-dc14-42a2-88ef-5e6856b293b7",
   "metadata": {
    "execution": {
     "iopub.execute_input": "2022-08-08T05:07:39.411759Z",
     "iopub.status.busy": "2022-08-08T05:07:39.411407Z",
     "iopub.status.idle": "2022-08-08T05:07:39.426436Z",
     "shell.execute_reply": "2022-08-08T05:07:39.426010Z"
    },
    "papermill": {
     "duration": 0.041232,
     "end_time": "2022-08-08T05:07:39.427880",
     "exception": false,
     "start_time": "2022-08-08T05:07:39.386648",
     "status": "completed"
    },
    "tags": []
   },
   "outputs": [
    {
     "data": {
      "text/plain": [
       "(6442, 5)"
      ]
     },
     "execution_count": 109,
     "metadata": {},
     "output_type": "execute_result"
    }
   ],
   "source": [
    "spredixcan_genes_models.shape"
   ]
  },
  {
   "cell_type": "code",
   "execution_count": 110,
   "id": "a2dd6dc7-b325-4f21-910f-6611b7d87efd",
   "metadata": {
    "execution": {
     "iopub.execute_input": "2022-08-08T05:07:39.473946Z",
     "iopub.status.busy": "2022-08-08T05:07:39.473495Z",
     "iopub.status.idle": "2022-08-08T05:07:39.496454Z",
     "shell.execute_reply": "2022-08-08T05:07:39.495659Z"
    },
    "papermill": {
     "duration": 0.047265,
     "end_time": "2022-08-08T05:07:39.497715",
     "exception": false,
     "start_time": "2022-08-08T05:07:39.450450",
     "status": "completed"
    },
    "tags": []
   },
   "outputs": [
    {
     "data": {
      "text/html": [
       "<div>\n",
       "<style scoped>\n",
       "    .dataframe tbody tr th:only-of-type {\n",
       "        vertical-align: middle;\n",
       "    }\n",
       "\n",
       "    .dataframe tbody tr th {\n",
       "        vertical-align: top;\n",
       "    }\n",
       "\n",
       "    .dataframe thead th {\n",
       "        text-align: right;\n",
       "    }\n",
       "</style>\n",
       "<table border=\"1\" class=\"dataframe\">\n",
       "  <thead>\n",
       "    <tr style=\"text-align: right;\">\n",
       "      <th></th>\n",
       "      <th>gene_name</th>\n",
       "      <th>tissue</th>\n",
       "      <th>n_tissues</th>\n",
       "      <th>tissues_pc_variances</th>\n",
       "      <th>tissues_pc_variances_cov</th>\n",
       "    </tr>\n",
       "    <tr>\n",
       "      <th>gene_id</th>\n",
       "      <th></th>\n",
       "      <th></th>\n",
       "      <th></th>\n",
       "      <th></th>\n",
       "      <th></th>\n",
       "    </tr>\n",
       "  </thead>\n",
       "  <tbody>\n",
       "    <tr>\n",
       "      <th>ENSG00000000419</th>\n",
       "      <td>DPM1</td>\n",
       "      <td>(Brain_Hypothalamus, Brain_Substantia_nigra)</td>\n",
       "      <td>2</td>\n",
       "      <td>[1.0442398458252409, 0.9557601541747592]</td>\n",
       "      <td>[0.013163142634155849, 0.00048574890347684763]</td>\n",
       "    </tr>\n",
       "    <tr>\n",
       "      <th>ENSG00000000938</th>\n",
       "      <td>FGR</td>\n",
       "      <td>(Brain_Frontal_Cortex_BA9, Heart_Left_Ventricl...</td>\n",
       "      <td>36</td>\n",
       "      <td>[31.632669336371276, 2.078367751851144, 1.2716...</td>\n",
       "      <td>[0.17159486570780275]</td>\n",
       "    </tr>\n",
       "    <tr>\n",
       "      <th>ENSG00000000971</th>\n",
       "      <td>CFH</td>\n",
       "      <td>(Brain_Frontal_Cortex_BA9, Heart_Left_Ventricl...</td>\n",
       "      <td>34</td>\n",
       "      <td>[21.560769925683292, 7.310170987045467, 1.8377...</td>\n",
       "      <td>[0.20930603195874506, 0.05823434765600799, 0.0...</td>\n",
       "    </tr>\n",
       "    <tr>\n",
       "      <th>ENSG00000001084</th>\n",
       "      <td>GCLC</td>\n",
       "      <td>(Brain_Frontal_Cortex_BA9, Heart_Left_Ventricl...</td>\n",
       "      <td>32</td>\n",
       "      <td>[21.291939080546523, 4.699418748743194, 2.2489...</td>\n",
       "      <td>[0.3943052737512377, 0.11627488888534836, 0.01...</td>\n",
       "    </tr>\n",
       "    <tr>\n",
       "      <th>ENSG00000001167</th>\n",
       "      <td>NFYA</td>\n",
       "      <td>(Heart_Left_Ventricle, Skin_Sun_Exposed_Lower_...</td>\n",
       "      <td>40</td>\n",
       "      <td>[37.33566029549769, 1.3914019604538361]</td>\n",
       "      <td>[1.164263997982105, 0.05742881287671713]</td>\n",
       "    </tr>\n",
       "  </tbody>\n",
       "</table>\n",
       "</div>"
      ],
      "text/plain": [
       "                gene_name                                             tissue  \\\n",
       "gene_id                                                                        \n",
       "ENSG00000000419      DPM1       (Brain_Hypothalamus, Brain_Substantia_nigra)   \n",
       "ENSG00000000938       FGR  (Brain_Frontal_Cortex_BA9, Heart_Left_Ventricl...   \n",
       "ENSG00000000971       CFH  (Brain_Frontal_Cortex_BA9, Heart_Left_Ventricl...   \n",
       "ENSG00000001084      GCLC  (Brain_Frontal_Cortex_BA9, Heart_Left_Ventricl...   \n",
       "ENSG00000001167      NFYA  (Heart_Left_Ventricle, Skin_Sun_Exposed_Lower_...   \n",
       "\n",
       "                 n_tissues                               tissues_pc_variances  \\\n",
       "gene_id                                                                         \n",
       "ENSG00000000419          2           [1.0442398458252409, 0.9557601541747592]   \n",
       "ENSG00000000938         36  [31.632669336371276, 2.078367751851144, 1.2716...   \n",
       "ENSG00000000971         34  [21.560769925683292, 7.310170987045467, 1.8377...   \n",
       "ENSG00000001084         32  [21.291939080546523, 4.699418748743194, 2.2489...   \n",
       "ENSG00000001167         40            [37.33566029549769, 1.3914019604538361]   \n",
       "\n",
       "                                          tissues_pc_variances_cov  \n",
       "gene_id                                                             \n",
       "ENSG00000000419     [0.013163142634155849, 0.00048574890347684763]  \n",
       "ENSG00000000938                              [0.17159486570780275]  \n",
       "ENSG00000000971  [0.20930603195874506, 0.05823434765600799, 0.0...  \n",
       "ENSG00000001084  [0.3943052737512377, 0.11627488888534836, 0.01...  \n",
       "ENSG00000001167           [1.164263997982105, 0.05742881287671713]  "
      ]
     },
     "execution_count": 110,
     "metadata": {},
     "output_type": "execute_result"
    }
   ],
   "source": [
    "spredixcan_genes_models.head()"
   ]
  },
  {
   "cell_type": "markdown",
   "id": "ef1c76d7-485b-4e8a-932e-fd01382d5520",
   "metadata": {
    "papermill": {
     "duration": 0.022868,
     "end_time": "2022-08-08T05:07:39.546372",
     "exception": false,
     "start_time": "2022-08-08T05:07:39.523504",
     "status": "completed"
    },
    "tags": []
   },
   "source": [
    "### Add gene variance per tissue"
   ]
  },
  {
   "cell_type": "code",
   "execution_count": 111,
   "id": "530f7941-6ad7-4a29-b9e4-a006949282e0",
   "metadata": {
    "execution": {
     "iopub.execute_input": "2022-08-08T05:07:39.593574Z",
     "iopub.status.busy": "2022-08-08T05:07:39.593126Z",
     "iopub.status.idle": "2022-08-08T05:07:39.606230Z",
     "shell.execute_reply": "2022-08-08T05:07:39.605848Z"
    },
    "papermill": {
     "duration": 0.037671,
     "end_time": "2022-08-08T05:07:39.607442",
     "exception": false,
     "start_time": "2022-08-08T05:07:39.569771",
     "status": "completed"
    },
    "tags": []
   },
   "outputs": [],
   "source": [
    "def _get_gene_variances(gene_row):\n",
    "    gene_id = gene_row.name\n",
    "    gene_tissues = gene_row[\"tissue\"]\n",
    "\n",
    "    tissue_variances = {}\n",
    "    gene_obj = spredixcan_gene_obj[gene_id]\n",
    "\n",
    "    for tissue in gene_tissues:\n",
    "        tissue_var = gene_obj.get_pred_expression_variance(\n",
    "            tissue=tissue,\n",
    "            reference_panel=REFERENCE_PANEL,\n",
    "            model_type=EQTL_MODEL,\n",
    "            snps_subset=gwas_variants_ids_set,\n",
    "        )\n",
    "\n",
    "        if tissue_var is not None:\n",
    "            tissue_variances[tissue] = tissue_var\n",
    "\n",
    "    return tissue_variances"
   ]
  },
  {
   "cell_type": "code",
   "execution_count": 112,
   "id": "01eb9e6a-4505-44e6-9e6e-9788e257f319",
   "metadata": {
    "execution": {
     "iopub.execute_input": "2022-08-08T05:07:39.654888Z",
     "iopub.status.busy": "2022-08-08T05:07:39.654608Z",
     "iopub.status.idle": "2022-08-08T05:07:39.677635Z",
     "shell.execute_reply": "2022-08-08T05:07:39.677127Z"
    },
    "papermill": {
     "duration": 0.049596,
     "end_time": "2022-08-08T05:07:39.680072",
     "exception": false,
     "start_time": "2022-08-08T05:07:39.630476",
     "status": "completed"
    },
    "tags": []
   },
   "outputs": [
    {
     "data": {
      "text/plain": [
       "{'Brain_Hypothalamus': 0.013162153504206677,\n",
       " 'Brain_Substantia_nigra': 0.0004867380334260178}"
      ]
     },
     "execution_count": 112,
     "metadata": {},
     "output_type": "execute_result"
    }
   ],
   "source": [
    "_tmp = spredixcan_genes_models.loc[\"ENSG00000000419\"]\n",
    "_get_gene_variances(_tmp)"
   ]
  },
  {
   "cell_type": "code",
   "execution_count": 113,
   "id": "447061ec-4847-4911-a1d6-8b86d15e4aac",
   "metadata": {
    "execution": {
     "iopub.execute_input": "2022-08-08T05:07:39.727407Z",
     "iopub.status.busy": "2022-08-08T05:07:39.727005Z",
     "iopub.status.idle": "2022-08-08T05:07:39.908315Z",
     "shell.execute_reply": "2022-08-08T05:07:39.907920Z"
    },
    "papermill": {
     "duration": 0.206575,
     "end_time": "2022-08-08T05:07:39.909602",
     "exception": false,
     "start_time": "2022-08-08T05:07:39.703027",
     "status": "completed"
    },
    "tags": []
   },
   "outputs": [],
   "source": [
    "spredixcan_genes_tissues_variance = spredixcan_genes_models.apply(\n",
    "    _get_gene_variances, axis=1\n",
    ")"
   ]
  },
  {
   "cell_type": "code",
   "execution_count": 114,
   "id": "816cbdd2-d667-4eaa-bbf7-335550854ee8",
   "metadata": {
    "execution": {
     "iopub.execute_input": "2022-08-08T05:07:39.957570Z",
     "iopub.status.busy": "2022-08-08T05:07:39.957154Z",
     "iopub.status.idle": "2022-08-08T05:07:39.974682Z",
     "shell.execute_reply": "2022-08-08T05:07:39.974243Z"
    },
    "papermill": {
     "duration": 0.043206,
     "end_time": "2022-08-08T05:07:39.975944",
     "exception": false,
     "start_time": "2022-08-08T05:07:39.932738",
     "status": "completed"
    },
    "tags": []
   },
   "outputs": [
    {
     "data": {
      "text/plain": [
       "gene_id\n",
       "ENSG00000000419    {'Brain_Hypothalamus': 0.013162153504206677, '...\n",
       "ENSG00000000938    {'Brain_Frontal_Cortex_BA9': 0.005461342207578...\n",
       "ENSG00000000971    {'Brain_Frontal_Cortex_BA9': 0.005194353597795...\n",
       "ENSG00000001084    {'Brain_Frontal_Cortex_BA9': 0.015455998643262...\n",
       "ENSG00000001167    {'Heart_Left_Ventricle': 0.01552640772964782, ...\n",
       "                                         ...                        \n",
       "ENSG00000278540    {'Brain_Frontal_Cortex_BA9': 0.005185922788496...\n",
       "ENSG00000278828    {'Cells_EBV-transformed_lymphocytes': 0.003027...\n",
       "ENSG00000278845    {'Brain_Frontal_Cortex_BA9': 0.046525277846180...\n",
       "ENSG00000281005    {'Brain_Frontal_Cortex_BA9': 0.121468163564041...\n",
       "ENSG00000282608    {'Brain_Frontal_Cortex_BA9': 0.003010579869477...\n",
       "Length: 6442, dtype: object"
      ]
     },
     "execution_count": 114,
     "metadata": {},
     "output_type": "execute_result"
    }
   ],
   "source": [
    "spredixcan_genes_tissues_variance"
   ]
  },
  {
   "cell_type": "code",
   "execution_count": 115,
   "id": "68c65eb6-15c0-494d-992f-93bc84268a59",
   "metadata": {
    "execution": {
     "iopub.execute_input": "2022-08-08T05:07:40.025050Z",
     "iopub.status.busy": "2022-08-08T05:07:40.024574Z",
     "iopub.status.idle": "2022-08-08T05:07:40.036355Z",
     "shell.execute_reply": "2022-08-08T05:07:40.035980Z"
    },
    "papermill": {
     "duration": 0.036783,
     "end_time": "2022-08-08T05:07:40.037588",
     "exception": false,
     "start_time": "2022-08-08T05:07:40.000805",
     "status": "completed"
    },
    "tags": []
   },
   "outputs": [],
   "source": [
    "# # testing\n",
    "# _gene_id = \"ENSG00000188976\"\n",
    "# x = spredixcan_genes_tissues_variance.loc[_gene_id]\n",
    "# # expected value obtained by sum of PCA eigenvalues on this gene's predicted expression\n",
    "# assert np.sum(list(x.values())) == pytest.approx(1.2326202607409493)"
   ]
  },
  {
   "cell_type": "code",
   "execution_count": 116,
   "id": "1996453a-fdfc-44e9-bbdf-b83e3b3b1aee",
   "metadata": {
    "execution": {
     "iopub.execute_input": "2022-08-08T05:07:40.085772Z",
     "iopub.status.busy": "2022-08-08T05:07:40.085279Z",
     "iopub.status.idle": "2022-08-08T05:07:40.098162Z",
     "shell.execute_reply": "2022-08-08T05:07:40.097726Z"
    },
    "papermill": {
     "duration": 0.038117,
     "end_time": "2022-08-08T05:07:40.099332",
     "exception": false,
     "start_time": "2022-08-08T05:07:40.061215",
     "status": "completed"
    },
    "tags": []
   },
   "outputs": [
    {
     "data": {
      "text/plain": [
       "{'Brain_Hypothalamus': 0.013162153504206677,\n",
       " 'Brain_Substantia_nigra': 0.0004867380334260178}"
      ]
     },
     "execution_count": 116,
     "metadata": {},
     "output_type": "execute_result"
    }
   ],
   "source": [
    "# testing\n",
    "spredixcan_genes_tissues_variance.loc[\"ENSG00000000419\"]"
   ]
  },
  {
   "cell_type": "code",
   "execution_count": 117,
   "id": "62572b31-7e49-4ed0-ac1b-42552f3e264f",
   "metadata": {
    "execution": {
     "iopub.execute_input": "2022-08-08T05:07:40.146753Z",
     "iopub.status.busy": "2022-08-08T05:07:40.146298Z",
     "iopub.status.idle": "2022-08-08T05:07:40.158428Z",
     "shell.execute_reply": "2022-08-08T05:07:40.158030Z"
    },
    "papermill": {
     "duration": 0.037254,
     "end_time": "2022-08-08T05:07:40.159650",
     "exception": false,
     "start_time": "2022-08-08T05:07:40.122396",
     "status": "completed"
    },
    "tags": []
   },
   "outputs": [],
   "source": [
    "# FIXME: maybe add more tests, these differt from GTEX V8\n",
    "# # testing\n",
    "# # here values were obtained from S-PrediXcan results, where the reference panel is GTEX V8, not 1000G, so just approximations)\n",
    "# _gene_id = \"ENSG00000000419\"\n",
    "# assert spredixcan_genes_tissues_variance.loc[_gene_id][\"Brain_Substantia_nigra\"] == pytest.approx(0.0004266255268163448)\n",
    "# assert spredixcan_genes_tissues_variance.loc[_gene_id][\"Brain_Hypothalamus\"] == pytest.approx(0.011235877515236132)"
   ]
  },
  {
   "cell_type": "code",
   "execution_count": 118,
   "id": "88e42a97-801b-43a4-a829-4eaac03360b8",
   "metadata": {
    "execution": {
     "iopub.execute_input": "2022-08-08T05:07:40.207205Z",
     "iopub.status.busy": "2022-08-08T05:07:40.206714Z",
     "iopub.status.idle": "2022-08-08T05:07:40.221081Z",
     "shell.execute_reply": "2022-08-08T05:07:40.220676Z"
    },
    "papermill": {
     "duration": 0.039354,
     "end_time": "2022-08-08T05:07:40.222320",
     "exception": false,
     "start_time": "2022-08-08T05:07:40.182966",
     "status": "completed"
    },
    "tags": []
   },
   "outputs": [],
   "source": [
    "# add to spredixcan_genes_models\n",
    "spredixcan_genes_models = spredixcan_genes_models.join(\n",
    "    spredixcan_genes_tissues_variance.rename(\"tissues_variances\")\n",
    ")"
   ]
  },
  {
   "cell_type": "code",
   "execution_count": 119,
   "id": "cb177ca4-fdcb-432f-a102-9c6bd6bd7fa0",
   "metadata": {
    "execution": {
     "iopub.execute_input": "2022-08-08T05:07:40.270582Z",
     "iopub.status.busy": "2022-08-08T05:07:40.269517Z",
     "iopub.status.idle": "2022-08-08T05:07:40.283217Z",
     "shell.execute_reply": "2022-08-08T05:07:40.282782Z"
    },
    "papermill": {
     "duration": 0.038937,
     "end_time": "2022-08-08T05:07:40.284391",
     "exception": false,
     "start_time": "2022-08-08T05:07:40.245454",
     "status": "completed"
    },
    "tags": []
   },
   "outputs": [
    {
     "data": {
      "text/plain": [
       "(6442, 6)"
      ]
     },
     "execution_count": 119,
     "metadata": {},
     "output_type": "execute_result"
    }
   ],
   "source": [
    "spredixcan_genes_models.shape"
   ]
  },
  {
   "cell_type": "code",
   "execution_count": 120,
   "id": "ccabe1fa-20ae-4893-bf12-9a3359b213b8",
   "metadata": {
    "execution": {
     "iopub.execute_input": "2022-08-08T05:07:40.331868Z",
     "iopub.status.busy": "2022-08-08T05:07:40.331570Z",
     "iopub.status.idle": "2022-08-08T05:07:40.356874Z",
     "shell.execute_reply": "2022-08-08T05:07:40.356473Z"
    },
    "papermill": {
     "duration": 0.050252,
     "end_time": "2022-08-08T05:07:40.358194",
     "exception": false,
     "start_time": "2022-08-08T05:07:40.307942",
     "status": "completed"
    },
    "tags": []
   },
   "outputs": [
    {
     "data": {
      "text/html": [
       "<div>\n",
       "<style scoped>\n",
       "    .dataframe tbody tr th:only-of-type {\n",
       "        vertical-align: middle;\n",
       "    }\n",
       "\n",
       "    .dataframe tbody tr th {\n",
       "        vertical-align: top;\n",
       "    }\n",
       "\n",
       "    .dataframe thead th {\n",
       "        text-align: right;\n",
       "    }\n",
       "</style>\n",
       "<table border=\"1\" class=\"dataframe\">\n",
       "  <thead>\n",
       "    <tr style=\"text-align: right;\">\n",
       "      <th></th>\n",
       "      <th>gene_name</th>\n",
       "      <th>tissue</th>\n",
       "      <th>n_tissues</th>\n",
       "      <th>tissues_pc_variances</th>\n",
       "      <th>tissues_pc_variances_cov</th>\n",
       "      <th>tissues_variances</th>\n",
       "    </tr>\n",
       "    <tr>\n",
       "      <th>gene_id</th>\n",
       "      <th></th>\n",
       "      <th></th>\n",
       "      <th></th>\n",
       "      <th></th>\n",
       "      <th></th>\n",
       "      <th></th>\n",
       "    </tr>\n",
       "  </thead>\n",
       "  <tbody>\n",
       "    <tr>\n",
       "      <th>ENSG00000000419</th>\n",
       "      <td>DPM1</td>\n",
       "      <td>(Brain_Hypothalamus, Brain_Substantia_nigra)</td>\n",
       "      <td>2</td>\n",
       "      <td>[1.0442398458252409, 0.9557601541747592]</td>\n",
       "      <td>[0.013163142634155849, 0.00048574890347684763]</td>\n",
       "      <td>{'Brain_Hypothalamus': 0.013162153504206677, '...</td>\n",
       "    </tr>\n",
       "    <tr>\n",
       "      <th>ENSG00000000938</th>\n",
       "      <td>FGR</td>\n",
       "      <td>(Brain_Frontal_Cortex_BA9, Heart_Left_Ventricl...</td>\n",
       "      <td>36</td>\n",
       "      <td>[31.632669336371276, 2.078367751851144, 1.2716...</td>\n",
       "      <td>[0.17159486570780275]</td>\n",
       "      <td>{'Brain_Frontal_Cortex_BA9': 0.005461342207578...</td>\n",
       "    </tr>\n",
       "    <tr>\n",
       "      <th>ENSG00000000971</th>\n",
       "      <td>CFH</td>\n",
       "      <td>(Brain_Frontal_Cortex_BA9, Heart_Left_Ventricl...</td>\n",
       "      <td>34</td>\n",
       "      <td>[21.560769925683292, 7.310170987045467, 1.8377...</td>\n",
       "      <td>[0.20930603195874506, 0.05823434765600799, 0.0...</td>\n",
       "      <td>{'Brain_Frontal_Cortex_BA9': 0.005194353597795...</td>\n",
       "    </tr>\n",
       "    <tr>\n",
       "      <th>ENSG00000001084</th>\n",
       "      <td>GCLC</td>\n",
       "      <td>(Brain_Frontal_Cortex_BA9, Heart_Left_Ventricl...</td>\n",
       "      <td>32</td>\n",
       "      <td>[21.291939080546523, 4.699418748743194, 2.2489...</td>\n",
       "      <td>[0.3943052737512377, 0.11627488888534836, 0.01...</td>\n",
       "      <td>{'Brain_Frontal_Cortex_BA9': 0.015455998643262...</td>\n",
       "    </tr>\n",
       "    <tr>\n",
       "      <th>ENSG00000001167</th>\n",
       "      <td>NFYA</td>\n",
       "      <td>(Heart_Left_Ventricle, Skin_Sun_Exposed_Lower_...</td>\n",
       "      <td>40</td>\n",
       "      <td>[37.33566029549769, 1.3914019604538361]</td>\n",
       "      <td>[1.164263997982105, 0.05742881287671713]</td>\n",
       "      <td>{'Heart_Left_Ventricle': 0.01552640772964782, ...</td>\n",
       "    </tr>\n",
       "  </tbody>\n",
       "</table>\n",
       "</div>"
      ],
      "text/plain": [
       "                gene_name                                             tissue  \\\n",
       "gene_id                                                                        \n",
       "ENSG00000000419      DPM1       (Brain_Hypothalamus, Brain_Substantia_nigra)   \n",
       "ENSG00000000938       FGR  (Brain_Frontal_Cortex_BA9, Heart_Left_Ventricl...   \n",
       "ENSG00000000971       CFH  (Brain_Frontal_Cortex_BA9, Heart_Left_Ventricl...   \n",
       "ENSG00000001084      GCLC  (Brain_Frontal_Cortex_BA9, Heart_Left_Ventricl...   \n",
       "ENSG00000001167      NFYA  (Heart_Left_Ventricle, Skin_Sun_Exposed_Lower_...   \n",
       "\n",
       "                 n_tissues                               tissues_pc_variances  \\\n",
       "gene_id                                                                         \n",
       "ENSG00000000419          2           [1.0442398458252409, 0.9557601541747592]   \n",
       "ENSG00000000938         36  [31.632669336371276, 2.078367751851144, 1.2716...   \n",
       "ENSG00000000971         34  [21.560769925683292, 7.310170987045467, 1.8377...   \n",
       "ENSG00000001084         32  [21.291939080546523, 4.699418748743194, 2.2489...   \n",
       "ENSG00000001167         40            [37.33566029549769, 1.3914019604538361]   \n",
       "\n",
       "                                          tissues_pc_variances_cov  \\\n",
       "gene_id                                                              \n",
       "ENSG00000000419     [0.013163142634155849, 0.00048574890347684763]   \n",
       "ENSG00000000938                              [0.17159486570780275]   \n",
       "ENSG00000000971  [0.20930603195874506, 0.05823434765600799, 0.0...   \n",
       "ENSG00000001084  [0.3943052737512377, 0.11627488888534836, 0.01...   \n",
       "ENSG00000001167           [1.164263997982105, 0.05742881287671713]   \n",
       "\n",
       "                                                 tissues_variances  \n",
       "gene_id                                                             \n",
       "ENSG00000000419  {'Brain_Hypothalamus': 0.013162153504206677, '...  \n",
       "ENSG00000000938  {'Brain_Frontal_Cortex_BA9': 0.005461342207578...  \n",
       "ENSG00000000971  {'Brain_Frontal_Cortex_BA9': 0.005194353597795...  \n",
       "ENSG00000001084  {'Brain_Frontal_Cortex_BA9': 0.015455998643262...  \n",
       "ENSG00000001167  {'Heart_Left_Ventricle': 0.01552640772964782, ...  "
      ]
     },
     "execution_count": 120,
     "metadata": {},
     "output_type": "execute_result"
    }
   ],
   "source": [
    "spredixcan_genes_models.head()"
   ]
  },
  {
   "cell_type": "markdown",
   "id": "ab6ff41a-0949-4eea-abef-7dc4f0b373fc",
   "metadata": {
    "papermill": {
     "duration": 0.023952,
     "end_time": "2022-08-08T05:07:40.405775",
     "exception": false,
     "start_time": "2022-08-08T05:07:40.381823",
     "status": "completed"
    },
    "tags": []
   },
   "source": [
    "### Count number of SNPs predictors used across tissue models"
   ]
  },
  {
   "cell_type": "code",
   "execution_count": 121,
   "id": "c8f6cc6f-5812-45c9-b775-6f2193f8a360",
   "metadata": {
    "execution": {
     "iopub.execute_input": "2022-08-08T05:07:40.453356Z",
     "iopub.status.busy": "2022-08-08T05:07:40.452928Z",
     "iopub.status.idle": "2022-08-08T05:07:40.499811Z",
     "shell.execute_reply": "2022-08-08T05:07:40.499406Z"
    },
    "papermill": {
     "duration": 0.071963,
     "end_time": "2022-08-08T05:07:40.501063",
     "exception": false,
     "start_time": "2022-08-08T05:07:40.429100",
     "status": "completed"
    },
    "tags": []
   },
   "outputs": [],
   "source": [
    "spredixcan_genes_sum_of_n_snps_used = (\n",
    "    spredixcan_dfs.groupby(\"gene_id\")[\"n_snps_used\"].sum().rename(\"n_snps_used_sum\")\n",
    ")"
   ]
  },
  {
   "cell_type": "code",
   "execution_count": 122,
   "id": "7255df64-7b9f-4504-a4fa-1f2a9aa56ec0",
   "metadata": {
    "execution": {
     "iopub.execute_input": "2022-08-08T05:07:40.549804Z",
     "iopub.status.busy": "2022-08-08T05:07:40.548803Z",
     "iopub.status.idle": "2022-08-08T05:07:40.565726Z",
     "shell.execute_reply": "2022-08-08T05:07:40.565285Z"
    },
    "papermill": {
     "duration": 0.042489,
     "end_time": "2022-08-08T05:07:40.567010",
     "exception": false,
     "start_time": "2022-08-08T05:07:40.524521",
     "status": "completed"
    },
    "tags": []
   },
   "outputs": [
    {
     "data": {
      "text/plain": [
       "gene_id\n",
       "ENSG00000000419     2\n",
       "ENSG00000000938    40\n",
       "ENSG00000000971    44\n",
       "ENSG00000001084    46\n",
       "ENSG00000001167    47\n",
       "                   ..\n",
       "ENSG00000278540    44\n",
       "ENSG00000278828     5\n",
       "ENSG00000278845    89\n",
       "ENSG00000281005    81\n",
       "ENSG00000282608    40\n",
       "Name: n_snps_used_sum, Length: 6442, dtype: int64"
      ]
     },
     "execution_count": 122,
     "metadata": {},
     "output_type": "execute_result"
    }
   ],
   "source": [
    "spredixcan_genes_sum_of_n_snps_used"
   ]
  },
  {
   "cell_type": "code",
   "execution_count": 123,
   "id": "44bc1222-b334-4ce2-8997-494d0e584cf9",
   "metadata": {
    "execution": {
     "iopub.execute_input": "2022-08-08T05:07:40.616092Z",
     "iopub.status.busy": "2022-08-08T05:07:40.615721Z",
     "iopub.status.idle": "2022-08-08T05:07:40.630864Z",
     "shell.execute_reply": "2022-08-08T05:07:40.630445Z"
    },
    "papermill": {
     "duration": 0.040507,
     "end_time": "2022-08-08T05:07:40.632177",
     "exception": false,
     "start_time": "2022-08-08T05:07:40.591670",
     "status": "completed"
    },
    "tags": []
   },
   "outputs": [],
   "source": [
    "# add sum of snps used to spredixcan_genes_models\n",
    "spredixcan_genes_models = spredixcan_genes_models.join(\n",
    "    spredixcan_genes_sum_of_n_snps_used\n",
    ")"
   ]
  },
  {
   "cell_type": "code",
   "execution_count": 124,
   "id": "5e5e6d7f-b970-4f21-9322-b76bc22afd71",
   "metadata": {
    "execution": {
     "iopub.execute_input": "2022-08-08T05:07:40.680951Z",
     "iopub.status.busy": "2022-08-08T05:07:40.680629Z",
     "iopub.status.idle": "2022-08-08T05:07:40.693483Z",
     "shell.execute_reply": "2022-08-08T05:07:40.693079Z"
    },
    "papermill": {
     "duration": 0.03822,
     "end_time": "2022-08-08T05:07:40.694620",
     "exception": false,
     "start_time": "2022-08-08T05:07:40.656400",
     "status": "completed"
    },
    "tags": []
   },
   "outputs": [
    {
     "data": {
      "text/plain": [
       "(6442, 7)"
      ]
     },
     "execution_count": 124,
     "metadata": {},
     "output_type": "execute_result"
    }
   ],
   "source": [
    "spredixcan_genes_models.shape"
   ]
  },
  {
   "cell_type": "code",
   "execution_count": 125,
   "id": "22c096c2-213a-4001-8454-1633997d404f",
   "metadata": {
    "execution": {
     "iopub.execute_input": "2022-08-08T05:07:40.749390Z",
     "iopub.status.busy": "2022-08-08T05:07:40.749099Z",
     "iopub.status.idle": "2022-08-08T05:07:40.774428Z",
     "shell.execute_reply": "2022-08-08T05:07:40.773959Z"
    },
    "papermill": {
     "duration": 0.057494,
     "end_time": "2022-08-08T05:07:40.775782",
     "exception": false,
     "start_time": "2022-08-08T05:07:40.718288",
     "status": "completed"
    },
    "tags": []
   },
   "outputs": [
    {
     "data": {
      "text/html": [
       "<div>\n",
       "<style scoped>\n",
       "    .dataframe tbody tr th:only-of-type {\n",
       "        vertical-align: middle;\n",
       "    }\n",
       "\n",
       "    .dataframe tbody tr th {\n",
       "        vertical-align: top;\n",
       "    }\n",
       "\n",
       "    .dataframe thead th {\n",
       "        text-align: right;\n",
       "    }\n",
       "</style>\n",
       "<table border=\"1\" class=\"dataframe\">\n",
       "  <thead>\n",
       "    <tr style=\"text-align: right;\">\n",
       "      <th></th>\n",
       "      <th>gene_name</th>\n",
       "      <th>tissue</th>\n",
       "      <th>n_tissues</th>\n",
       "      <th>tissues_pc_variances</th>\n",
       "      <th>tissues_pc_variances_cov</th>\n",
       "      <th>tissues_variances</th>\n",
       "      <th>n_snps_used_sum</th>\n",
       "    </tr>\n",
       "    <tr>\n",
       "      <th>gene_id</th>\n",
       "      <th></th>\n",
       "      <th></th>\n",
       "      <th></th>\n",
       "      <th></th>\n",
       "      <th></th>\n",
       "      <th></th>\n",
       "      <th></th>\n",
       "    </tr>\n",
       "  </thead>\n",
       "  <tbody>\n",
       "    <tr>\n",
       "      <th>ENSG00000000419</th>\n",
       "      <td>DPM1</td>\n",
       "      <td>(Brain_Hypothalamus, Brain_Substantia_nigra)</td>\n",
       "      <td>2</td>\n",
       "      <td>[1.0442398458252409, 0.9557601541747592]</td>\n",
       "      <td>[0.013163142634155849, 0.00048574890347684763]</td>\n",
       "      <td>{'Brain_Hypothalamus': 0.013162153504206677, '...</td>\n",
       "      <td>2</td>\n",
       "    </tr>\n",
       "    <tr>\n",
       "      <th>ENSG00000000938</th>\n",
       "      <td>FGR</td>\n",
       "      <td>(Brain_Frontal_Cortex_BA9, Heart_Left_Ventricl...</td>\n",
       "      <td>36</td>\n",
       "      <td>[31.632669336371276, 2.078367751851144, 1.2716...</td>\n",
       "      <td>[0.17159486570780275]</td>\n",
       "      <td>{'Brain_Frontal_Cortex_BA9': 0.005461342207578...</td>\n",
       "      <td>40</td>\n",
       "    </tr>\n",
       "    <tr>\n",
       "      <th>ENSG00000000971</th>\n",
       "      <td>CFH</td>\n",
       "      <td>(Brain_Frontal_Cortex_BA9, Heart_Left_Ventricl...</td>\n",
       "      <td>34</td>\n",
       "      <td>[21.560769925683292, 7.310170987045467, 1.8377...</td>\n",
       "      <td>[0.20930603195874506, 0.05823434765600799, 0.0...</td>\n",
       "      <td>{'Brain_Frontal_Cortex_BA9': 0.005194353597795...</td>\n",
       "      <td>44</td>\n",
       "    </tr>\n",
       "    <tr>\n",
       "      <th>ENSG00000001084</th>\n",
       "      <td>GCLC</td>\n",
       "      <td>(Brain_Frontal_Cortex_BA9, Heart_Left_Ventricl...</td>\n",
       "      <td>32</td>\n",
       "      <td>[21.291939080546523, 4.699418748743194, 2.2489...</td>\n",
       "      <td>[0.3943052737512377, 0.11627488888534836, 0.01...</td>\n",
       "      <td>{'Brain_Frontal_Cortex_BA9': 0.015455998643262...</td>\n",
       "      <td>46</td>\n",
       "    </tr>\n",
       "    <tr>\n",
       "      <th>ENSG00000001167</th>\n",
       "      <td>NFYA</td>\n",
       "      <td>(Heart_Left_Ventricle, Skin_Sun_Exposed_Lower_...</td>\n",
       "      <td>40</td>\n",
       "      <td>[37.33566029549769, 1.3914019604538361]</td>\n",
       "      <td>[1.164263997982105, 0.05742881287671713]</td>\n",
       "      <td>{'Heart_Left_Ventricle': 0.01552640772964782, ...</td>\n",
       "      <td>47</td>\n",
       "    </tr>\n",
       "  </tbody>\n",
       "</table>\n",
       "</div>"
      ],
      "text/plain": [
       "                gene_name                                             tissue  \\\n",
       "gene_id                                                                        \n",
       "ENSG00000000419      DPM1       (Brain_Hypothalamus, Brain_Substantia_nigra)   \n",
       "ENSG00000000938       FGR  (Brain_Frontal_Cortex_BA9, Heart_Left_Ventricl...   \n",
       "ENSG00000000971       CFH  (Brain_Frontal_Cortex_BA9, Heart_Left_Ventricl...   \n",
       "ENSG00000001084      GCLC  (Brain_Frontal_Cortex_BA9, Heart_Left_Ventricl...   \n",
       "ENSG00000001167      NFYA  (Heart_Left_Ventricle, Skin_Sun_Exposed_Lower_...   \n",
       "\n",
       "                 n_tissues                               tissues_pc_variances  \\\n",
       "gene_id                                                                         \n",
       "ENSG00000000419          2           [1.0442398458252409, 0.9557601541747592]   \n",
       "ENSG00000000938         36  [31.632669336371276, 2.078367751851144, 1.2716...   \n",
       "ENSG00000000971         34  [21.560769925683292, 7.310170987045467, 1.8377...   \n",
       "ENSG00000001084         32  [21.291939080546523, 4.699418748743194, 2.2489...   \n",
       "ENSG00000001167         40            [37.33566029549769, 1.3914019604538361]   \n",
       "\n",
       "                                          tissues_pc_variances_cov  \\\n",
       "gene_id                                                              \n",
       "ENSG00000000419     [0.013163142634155849, 0.00048574890347684763]   \n",
       "ENSG00000000938                              [0.17159486570780275]   \n",
       "ENSG00000000971  [0.20930603195874506, 0.05823434765600799, 0.0...   \n",
       "ENSG00000001084  [0.3943052737512377, 0.11627488888534836, 0.01...   \n",
       "ENSG00000001167           [1.164263997982105, 0.05742881287671713]   \n",
       "\n",
       "                                                 tissues_variances  \\\n",
       "gene_id                                                              \n",
       "ENSG00000000419  {'Brain_Hypothalamus': 0.013162153504206677, '...   \n",
       "ENSG00000000938  {'Brain_Frontal_Cortex_BA9': 0.005461342207578...   \n",
       "ENSG00000000971  {'Brain_Frontal_Cortex_BA9': 0.005194353597795...   \n",
       "ENSG00000001084  {'Brain_Frontal_Cortex_BA9': 0.015455998643262...   \n",
       "ENSG00000001167  {'Heart_Left_Ventricle': 0.01552640772964782, ...   \n",
       "\n",
       "                 n_snps_used_sum  \n",
       "gene_id                           \n",
       "ENSG00000000419                2  \n",
       "ENSG00000000938               40  \n",
       "ENSG00000000971               44  \n",
       "ENSG00000001084               46  \n",
       "ENSG00000001167               47  "
      ]
     },
     "execution_count": 125,
     "metadata": {},
     "output_type": "execute_result"
    }
   ],
   "source": [
    "spredixcan_genes_models.head()"
   ]
  },
  {
   "cell_type": "markdown",
   "id": "f4692315-d7be-465e-b756-f6d76fec949e",
   "metadata": {
    "papermill": {
     "duration": 0.02335,
     "end_time": "2022-08-08T05:07:40.823095",
     "exception": false,
     "start_time": "2022-08-08T05:07:40.799745",
     "status": "completed"
    },
    "tags": []
   },
   "source": [
    "### Count number of SNPs predictors in models across tissue models"
   ]
  },
  {
   "cell_type": "code",
   "execution_count": 126,
   "id": "08eed385-36eb-4e42-b28e-51333f9cfcd3",
   "metadata": {
    "execution": {
     "iopub.execute_input": "2022-08-08T05:07:40.871698Z",
     "iopub.status.busy": "2022-08-08T05:07:40.871515Z",
     "iopub.status.idle": "2022-08-08T05:07:40.911190Z",
     "shell.execute_reply": "2022-08-08T05:07:40.910800Z"
    },
    "papermill": {
     "duration": 0.065705,
     "end_time": "2022-08-08T05:07:40.912462",
     "exception": false,
     "start_time": "2022-08-08T05:07:40.846757",
     "status": "completed"
    },
    "tags": []
   },
   "outputs": [],
   "source": [
    "spredixcan_genes_sum_of_n_snps_in_model = (\n",
    "    spredixcan_dfs.groupby(\"gene_id\")[\"n_snps_in_model\"]\n",
    "    .sum()\n",
    "    .rename(\"n_snps_in_model_sum\")\n",
    ")"
   ]
  },
  {
   "cell_type": "code",
   "execution_count": 127,
   "id": "10431f5c-1f56-4664-a09f-53c608bec631",
   "metadata": {
    "execution": {
     "iopub.execute_input": "2022-08-08T05:07:40.960969Z",
     "iopub.status.busy": "2022-08-08T05:07:40.960557Z",
     "iopub.status.idle": "2022-08-08T05:07:40.977047Z",
     "shell.execute_reply": "2022-08-08T05:07:40.976546Z"
    },
    "papermill": {
     "duration": 0.042331,
     "end_time": "2022-08-08T05:07:40.978408",
     "exception": false,
     "start_time": "2022-08-08T05:07:40.936077",
     "status": "completed"
    },
    "tags": []
   },
   "outputs": [
    {
     "data": {
      "text/plain": [
       "gene_id\n",
       "ENSG00000000419     2\n",
       "ENSG00000000938    40\n",
       "ENSG00000000971    44\n",
       "ENSG00000001084    46\n",
       "ENSG00000001167    48\n",
       "                   ..\n",
       "ENSG00000278540    44\n",
       "ENSG00000278828     5\n",
       "ENSG00000278845    91\n",
       "ENSG00000281005    81\n",
       "ENSG00000282608    40\n",
       "Name: n_snps_in_model_sum, Length: 6442, dtype: int64"
      ]
     },
     "execution_count": 127,
     "metadata": {},
     "output_type": "execute_result"
    }
   ],
   "source": [
    "spredixcan_genes_sum_of_n_snps_in_model"
   ]
  },
  {
   "cell_type": "code",
   "execution_count": 128,
   "id": "d13e1d65-0dcb-4a94-aba8-bcdcd09d17c3",
   "metadata": {
    "execution": {
     "iopub.execute_input": "2022-08-08T05:07:41.028423Z",
     "iopub.status.busy": "2022-08-08T05:07:41.028260Z",
     "iopub.status.idle": "2022-08-08T05:07:41.043608Z",
     "shell.execute_reply": "2022-08-08T05:07:41.043171Z"
    },
    "papermill": {
     "duration": 0.042301,
     "end_time": "2022-08-08T05:07:41.044926",
     "exception": false,
     "start_time": "2022-08-08T05:07:41.002625",
     "status": "completed"
    },
    "tags": []
   },
   "outputs": [],
   "source": [
    "# add sum of snps in model to spredixcan_genes_models\n",
    "spredixcan_genes_models = spredixcan_genes_models.join(\n",
    "    spredixcan_genes_sum_of_n_snps_in_model\n",
    ")"
   ]
  },
  {
   "cell_type": "code",
   "execution_count": 129,
   "id": "0d3973d8-5da2-4c9d-b406-2525f615035c",
   "metadata": {
    "execution": {
     "iopub.execute_input": "2022-08-08T05:07:41.093857Z",
     "iopub.status.busy": "2022-08-08T05:07:41.093649Z",
     "iopub.status.idle": "2022-08-08T05:07:41.106564Z",
     "shell.execute_reply": "2022-08-08T05:07:41.106157Z"
    },
    "papermill": {
     "duration": 0.038817,
     "end_time": "2022-08-08T05:07:41.107740",
     "exception": false,
     "start_time": "2022-08-08T05:07:41.068923",
     "status": "completed"
    },
    "tags": []
   },
   "outputs": [
    {
     "data": {
      "text/plain": [
       "(6442, 8)"
      ]
     },
     "execution_count": 129,
     "metadata": {},
     "output_type": "execute_result"
    }
   ],
   "source": [
    "spredixcan_genes_models.shape"
   ]
  },
  {
   "cell_type": "code",
   "execution_count": 130,
   "id": "76c27f05-c5c6-4ed9-9363-fcba871a3572",
   "metadata": {
    "execution": {
     "iopub.execute_input": "2022-08-08T05:07:41.156748Z",
     "iopub.status.busy": "2022-08-08T05:07:41.156431Z",
     "iopub.status.idle": "2022-08-08T05:07:41.183052Z",
     "shell.execute_reply": "2022-08-08T05:07:41.182368Z"
    },
    "papermill": {
     "duration": 0.052707,
     "end_time": "2022-08-08T05:07:41.184379",
     "exception": false,
     "start_time": "2022-08-08T05:07:41.131672",
     "status": "completed"
    },
    "tags": []
   },
   "outputs": [
    {
     "data": {
      "text/html": [
       "<div>\n",
       "<style scoped>\n",
       "    .dataframe tbody tr th:only-of-type {\n",
       "        vertical-align: middle;\n",
       "    }\n",
       "\n",
       "    .dataframe tbody tr th {\n",
       "        vertical-align: top;\n",
       "    }\n",
       "\n",
       "    .dataframe thead th {\n",
       "        text-align: right;\n",
       "    }\n",
       "</style>\n",
       "<table border=\"1\" class=\"dataframe\">\n",
       "  <thead>\n",
       "    <tr style=\"text-align: right;\">\n",
       "      <th></th>\n",
       "      <th>gene_name</th>\n",
       "      <th>tissue</th>\n",
       "      <th>n_tissues</th>\n",
       "      <th>tissues_pc_variances</th>\n",
       "      <th>tissues_pc_variances_cov</th>\n",
       "      <th>tissues_variances</th>\n",
       "      <th>n_snps_used_sum</th>\n",
       "      <th>n_snps_in_model_sum</th>\n",
       "    </tr>\n",
       "    <tr>\n",
       "      <th>gene_id</th>\n",
       "      <th></th>\n",
       "      <th></th>\n",
       "      <th></th>\n",
       "      <th></th>\n",
       "      <th></th>\n",
       "      <th></th>\n",
       "      <th></th>\n",
       "      <th></th>\n",
       "    </tr>\n",
       "  </thead>\n",
       "  <tbody>\n",
       "    <tr>\n",
       "      <th>ENSG00000000419</th>\n",
       "      <td>DPM1</td>\n",
       "      <td>(Brain_Hypothalamus, Brain_Substantia_nigra)</td>\n",
       "      <td>2</td>\n",
       "      <td>[1.0442398458252409, 0.9557601541747592]</td>\n",
       "      <td>[0.013163142634155849, 0.00048574890347684763]</td>\n",
       "      <td>{'Brain_Hypothalamus': 0.013162153504206677, '...</td>\n",
       "      <td>2</td>\n",
       "      <td>2</td>\n",
       "    </tr>\n",
       "    <tr>\n",
       "      <th>ENSG00000000938</th>\n",
       "      <td>FGR</td>\n",
       "      <td>(Brain_Frontal_Cortex_BA9, Heart_Left_Ventricl...</td>\n",
       "      <td>36</td>\n",
       "      <td>[31.632669336371276, 2.078367751851144, 1.2716...</td>\n",
       "      <td>[0.17159486570780275]</td>\n",
       "      <td>{'Brain_Frontal_Cortex_BA9': 0.005461342207578...</td>\n",
       "      <td>40</td>\n",
       "      <td>40</td>\n",
       "    </tr>\n",
       "    <tr>\n",
       "      <th>ENSG00000000971</th>\n",
       "      <td>CFH</td>\n",
       "      <td>(Brain_Frontal_Cortex_BA9, Heart_Left_Ventricl...</td>\n",
       "      <td>34</td>\n",
       "      <td>[21.560769925683292, 7.310170987045467, 1.8377...</td>\n",
       "      <td>[0.20930603195874506, 0.05823434765600799, 0.0...</td>\n",
       "      <td>{'Brain_Frontal_Cortex_BA9': 0.005194353597795...</td>\n",
       "      <td>44</td>\n",
       "      <td>44</td>\n",
       "    </tr>\n",
       "    <tr>\n",
       "      <th>ENSG00000001084</th>\n",
       "      <td>GCLC</td>\n",
       "      <td>(Brain_Frontal_Cortex_BA9, Heart_Left_Ventricl...</td>\n",
       "      <td>32</td>\n",
       "      <td>[21.291939080546523, 4.699418748743194, 2.2489...</td>\n",
       "      <td>[0.3943052737512377, 0.11627488888534836, 0.01...</td>\n",
       "      <td>{'Brain_Frontal_Cortex_BA9': 0.015455998643262...</td>\n",
       "      <td>46</td>\n",
       "      <td>46</td>\n",
       "    </tr>\n",
       "    <tr>\n",
       "      <th>ENSG00000001167</th>\n",
       "      <td>NFYA</td>\n",
       "      <td>(Heart_Left_Ventricle, Skin_Sun_Exposed_Lower_...</td>\n",
       "      <td>40</td>\n",
       "      <td>[37.33566029549769, 1.3914019604538361]</td>\n",
       "      <td>[1.164263997982105, 0.05742881287671713]</td>\n",
       "      <td>{'Heart_Left_Ventricle': 0.01552640772964782, ...</td>\n",
       "      <td>47</td>\n",
       "      <td>48</td>\n",
       "    </tr>\n",
       "  </tbody>\n",
       "</table>\n",
       "</div>"
      ],
      "text/plain": [
       "                gene_name                                             tissue  \\\n",
       "gene_id                                                                        \n",
       "ENSG00000000419      DPM1       (Brain_Hypothalamus, Brain_Substantia_nigra)   \n",
       "ENSG00000000938       FGR  (Brain_Frontal_Cortex_BA9, Heart_Left_Ventricl...   \n",
       "ENSG00000000971       CFH  (Brain_Frontal_Cortex_BA9, Heart_Left_Ventricl...   \n",
       "ENSG00000001084      GCLC  (Brain_Frontal_Cortex_BA9, Heart_Left_Ventricl...   \n",
       "ENSG00000001167      NFYA  (Heart_Left_Ventricle, Skin_Sun_Exposed_Lower_...   \n",
       "\n",
       "                 n_tissues                               tissues_pc_variances  \\\n",
       "gene_id                                                                         \n",
       "ENSG00000000419          2           [1.0442398458252409, 0.9557601541747592]   \n",
       "ENSG00000000938         36  [31.632669336371276, 2.078367751851144, 1.2716...   \n",
       "ENSG00000000971         34  [21.560769925683292, 7.310170987045467, 1.8377...   \n",
       "ENSG00000001084         32  [21.291939080546523, 4.699418748743194, 2.2489...   \n",
       "ENSG00000001167         40            [37.33566029549769, 1.3914019604538361]   \n",
       "\n",
       "                                          tissues_pc_variances_cov  \\\n",
       "gene_id                                                              \n",
       "ENSG00000000419     [0.013163142634155849, 0.00048574890347684763]   \n",
       "ENSG00000000938                              [0.17159486570780275]   \n",
       "ENSG00000000971  [0.20930603195874506, 0.05823434765600799, 0.0...   \n",
       "ENSG00000001084  [0.3943052737512377, 0.11627488888534836, 0.01...   \n",
       "ENSG00000001167           [1.164263997982105, 0.05742881287671713]   \n",
       "\n",
       "                                                 tissues_variances  \\\n",
       "gene_id                                                              \n",
       "ENSG00000000419  {'Brain_Hypothalamus': 0.013162153504206677, '...   \n",
       "ENSG00000000938  {'Brain_Frontal_Cortex_BA9': 0.005461342207578...   \n",
       "ENSG00000000971  {'Brain_Frontal_Cortex_BA9': 0.005194353597795...   \n",
       "ENSG00000001084  {'Brain_Frontal_Cortex_BA9': 0.015455998643262...   \n",
       "ENSG00000001167  {'Heart_Left_Ventricle': 0.01552640772964782, ...   \n",
       "\n",
       "                 n_snps_used_sum  n_snps_in_model_sum  \n",
       "gene_id                                                \n",
       "ENSG00000000419                2                    2  \n",
       "ENSG00000000938               40                   40  \n",
       "ENSG00000000971               44                   44  \n",
       "ENSG00000001084               46                   46  \n",
       "ENSG00000001167               47                   48  "
      ]
     },
     "execution_count": 130,
     "metadata": {},
     "output_type": "execute_result"
    }
   ],
   "source": [
    "spredixcan_genes_models.head()"
   ]
  },
  {
   "cell_type": "markdown",
   "id": "e9f61a50-a5b5-4c85-9dec-3ceaaf65c61d",
   "metadata": {
    "papermill": {
     "duration": 0.023877,
     "end_time": "2022-08-08T05:07:41.232612",
     "exception": false,
     "start_time": "2022-08-08T05:07:41.208735",
     "status": "completed"
    },
    "tags": []
   },
   "source": [
    "### Summarize prediction models for each gene"
   ]
  },
  {
   "cell_type": "code",
   "execution_count": 131,
   "id": "4f44928f-b401-4abb-ac00-3b15b2746504",
   "metadata": {
    "execution": {
     "iopub.execute_input": "2022-08-08T05:07:41.282442Z",
     "iopub.status.busy": "2022-08-08T05:07:41.282145Z",
     "iopub.status.idle": "2022-08-08T05:07:41.296153Z",
     "shell.execute_reply": "2022-08-08T05:07:41.295765Z"
    },
    "papermill": {
     "duration": 0.040165,
     "end_time": "2022-08-08T05:07:41.297388",
     "exception": false,
     "start_time": "2022-08-08T05:07:41.257223",
     "status": "completed"
    },
    "tags": []
   },
   "outputs": [],
   "source": [
    "def _summarize_gene_models(gene_id):\n",
    "    \"\"\"\n",
    "    For a given gene ID, it returns a dataframe with predictor SNPs in rows and tissues in columns, where\n",
    "    values are the weights of SNPs in those tissues.\n",
    "    It can contain NaNs.\n",
    "    \"\"\"\n",
    "    gene_obj = spredixcan_gene_obj[gene_id]\n",
    "    gene_tissues = spredixcan_genes_models.loc[gene_id, \"tissue\"]\n",
    "\n",
    "    gene_models = {}\n",
    "    gene_unique_snps = set()\n",
    "    for t in gene_tissues:\n",
    "        gene_model = gene_obj.get_prediction_weights(tissue=t, model_type=EQTL_MODEL)\n",
    "        gene_models[t] = gene_model\n",
    "\n",
    "        gene_unique_snps.update(set(gene_model.index))\n",
    "\n",
    "    df = pd.DataFrame(\n",
    "        data=np.nan, index=list(gene_unique_snps), columns=list(gene_tissues)\n",
    "    )\n",
    "\n",
    "    for t in df.columns:\n",
    "        for snp in df.index:\n",
    "            gene_model = gene_models[t]\n",
    "\n",
    "            if snp in gene_model.index:\n",
    "                df.loc[snp, t] = gene_model.loc[snp]\n",
    "\n",
    "    return df"
   ]
  },
  {
   "cell_type": "code",
   "execution_count": 132,
   "id": "71bb0b5a-fe44-4076-91df-d8077ff85c71",
   "metadata": {
    "execution": {
     "iopub.execute_input": "2022-08-08T05:07:41.347253Z",
     "iopub.status.busy": "2022-08-08T05:07:41.346952Z",
     "iopub.status.idle": "2022-08-08T05:07:41.365541Z",
     "shell.execute_reply": "2022-08-08T05:07:41.365095Z"
    },
    "papermill": {
     "duration": 0.044955,
     "end_time": "2022-08-08T05:07:41.366920",
     "exception": false,
     "start_time": "2022-08-08T05:07:41.321965",
     "status": "completed"
    },
    "tags": []
   },
   "outputs": [
    {
     "data": {
      "text/plain": [
       "varID\n",
       "chr20_50862947_C_T_b38    0.431375\n",
       "Name: weight, dtype: float64"
      ]
     },
     "execution_count": 132,
     "metadata": {},
     "output_type": "execute_result"
    }
   ],
   "source": [
    "# testing\n",
    "spredixcan_gene_obj[\"ENSG00000000419\"].get_prediction_weights(\n",
    "    tissue=\"Brain_Hypothalamus\", model_type=EQTL_MODEL\n",
    ")"
   ]
  },
  {
   "cell_type": "code",
   "execution_count": 133,
   "id": "ad18b2d9-f585-445b-a809-bd694d417a8a",
   "metadata": {
    "execution": {
     "iopub.execute_input": "2022-08-08T05:07:41.416804Z",
     "iopub.status.busy": "2022-08-08T05:07:41.416311Z",
     "iopub.status.idle": "2022-08-08T05:07:41.435035Z",
     "shell.execute_reply": "2022-08-08T05:07:41.434656Z"
    },
    "papermill": {
     "duration": 0.045267,
     "end_time": "2022-08-08T05:07:41.436436",
     "exception": false,
     "start_time": "2022-08-08T05:07:41.391169",
     "status": "completed"
    },
    "tags": []
   },
   "outputs": [
    {
     "data": {
      "text/plain": [
       "varID\n",
       "chr20_50957480_C_T_b38   -0.146796\n",
       "Name: weight, dtype: float64"
      ]
     },
     "execution_count": 133,
     "metadata": {},
     "output_type": "execute_result"
    }
   ],
   "source": [
    "spredixcan_gene_obj[\"ENSG00000000419\"].get_prediction_weights(\n",
    "    tissue=\"Brain_Substantia_nigra\", model_type=EQTL_MODEL\n",
    ")"
   ]
  },
  {
   "cell_type": "code",
   "execution_count": 134,
   "id": "82ef5dec-283c-44ee-a118-b28d87a5b298",
   "metadata": {
    "execution": {
     "iopub.execute_input": "2022-08-08T05:07:41.486477Z",
     "iopub.status.busy": "2022-08-08T05:07:41.486103Z",
     "iopub.status.idle": "2022-08-08T05:07:41.497886Z",
     "shell.execute_reply": "2022-08-08T05:07:41.497503Z"
    },
    "papermill": {
     "duration": 0.038204,
     "end_time": "2022-08-08T05:07:41.499079",
     "exception": false,
     "start_time": "2022-08-08T05:07:41.460875",
     "status": "completed"
    },
    "tags": []
   },
   "outputs": [],
   "source": [
    "# # testing\n",
    "# _gene_id = \"ENSG00000000419\"\n",
    "\n",
    "# _gene_model = _summarize_gene_models(_gene_id)\n",
    "# assert (\n",
    "#     _gene_model.loc[\"chr20_50862947_C_T_b38\", \"Brain_Hypothalamus\"].round(5) == 0.43138\n",
    "# )\n",
    "# assert pd.isnull(_gene_model.loc[\"chr20_50957480_C_T_b38\", \"Brain_Hypothalamus\"])\n",
    "\n",
    "# assert pd.isnull(_gene_model.loc[\"chr20_50862947_C_T_b38\", \"Brain_Substantia_nigra\"])\n",
    "# assert (\n",
    "#     _gene_model.loc[\"chr20_50957480_C_T_b38\", \"Brain_Substantia_nigra\"].round(5)\n",
    "#     == -0.1468\n",
    "# )"
   ]
  },
  {
   "cell_type": "code",
   "execution_count": 135,
   "id": "134a7533-69e8-4858-8763-1fd45cbdec77",
   "metadata": {
    "execution": {
     "iopub.execute_input": "2022-08-08T05:07:41.548820Z",
     "iopub.status.busy": "2022-08-08T05:07:41.548490Z",
     "iopub.status.idle": "2022-08-08T05:23:12.588042Z",
     "shell.execute_reply": "2022-08-08T05:23:12.587614Z"
    },
    "papermill": {
     "duration": 931.065968,
     "end_time": "2022-08-08T05:23:12.589296",
     "exception": false,
     "start_time": "2022-08-08T05:07:41.523328",
     "status": "completed"
    },
    "tags": []
   },
   "outputs": [],
   "source": [
    "gene_models = {}\n",
    "\n",
    "for gene_id in spredixcan_genes_models.index:\n",
    "    gene_models[gene_id] = _summarize_gene_models(gene_id)"
   ]
  },
  {
   "cell_type": "code",
   "execution_count": 136,
   "id": "97117dc0-0476-4e7b-98cb-6738dbb28c8a",
   "metadata": {
    "execution": {
     "iopub.execute_input": "2022-08-08T05:23:12.646344Z",
     "iopub.status.busy": "2022-08-08T05:23:12.645868Z",
     "iopub.status.idle": "2022-08-08T05:23:12.660847Z",
     "shell.execute_reply": "2022-08-08T05:23:12.660438Z"
    },
    "papermill": {
     "duration": 0.041943,
     "end_time": "2022-08-08T05:23:12.662102",
     "exception": false,
     "start_time": "2022-08-08T05:23:12.620159",
     "status": "completed"
    },
    "tags": []
   },
   "outputs": [],
   "source": [
    "# # testing\n",
    "# _gene_id = \"ENSG00000000419\"\n",
    "\n",
    "# _gene_model = gene_models[_gene_id]\n",
    "# assert (\n",
    "#     _gene_model.loc[\"chr20_50862947_C_T_b38\", \"Brain_Hypothalamus\"].round(5) == 0.43138\n",
    "# )\n",
    "# assert pd.isnull(_gene_model.loc[\"chr20_50957480_C_T_b38\", \"Brain_Hypothalamus\"])\n",
    "\n",
    "# assert pd.isnull(_gene_model.loc[\"chr20_50862947_C_T_b38\", \"Brain_Substantia_nigra\"])\n",
    "# assert (\n",
    "#     _gene_model.loc[\"chr20_50957480_C_T_b38\", \"Brain_Substantia_nigra\"].round(5)\n",
    "#     == -0.1468\n",
    "# )"
   ]
  },
  {
   "cell_type": "code",
   "execution_count": 137,
   "id": "806cd4a5-51b1-4ed3-8aa3-4970c128ccff",
   "metadata": {
    "execution": {
     "iopub.execute_input": "2022-08-08T05:23:12.737321Z",
     "iopub.status.busy": "2022-08-08T05:23:12.736866Z",
     "iopub.status.idle": "2022-08-08T05:23:15.679789Z",
     "shell.execute_reply": "2022-08-08T05:23:15.676702Z"
    },
    "papermill": {
     "duration": 2.978405,
     "end_time": "2022-08-08T05:23:15.681335",
     "exception": false,
     "start_time": "2022-08-08T05:23:12.702930",
     "status": "completed"
    },
    "tags": []
   },
   "outputs": [],
   "source": [
    "# save\n",
    "import gzip\n",
    "\n",
    "with gzip.GzipFile(OUTPUT_DIR_BASE / \"gene_tissues_models.pkl.gz\", \"w\") as f:\n",
    "    pickle.dump(gene_models, f)"
   ]
  },
  {
   "cell_type": "code",
   "execution_count": 138,
   "id": "a12a9597-dd0a-40a0-9a42-f288af22e0d2",
   "metadata": {
    "execution": {
     "iopub.execute_input": "2022-08-08T05:23:15.739429Z",
     "iopub.status.busy": "2022-08-08T05:23:15.739265Z",
     "iopub.status.idle": "2022-08-08T05:23:17.360870Z",
     "shell.execute_reply": "2022-08-08T05:23:17.360370Z"
    },
    "papermill": {
     "duration": 1.648701,
     "end_time": "2022-08-08T05:23:17.362375",
     "exception": false,
     "start_time": "2022-08-08T05:23:15.713674",
     "status": "completed"
    },
    "tags": []
   },
   "outputs": [],
   "source": [
    "# testing saved file\n",
    "with gzip.GzipFile(OUTPUT_DIR_BASE / \"gene_tissues_models.pkl.gz\", \"r\") as f:\n",
    "    _tmp = pickle.load(f)"
   ]
  },
  {
   "cell_type": "code",
   "execution_count": 139,
   "id": "a90a8f83-75db-4f73-8f1a-7e0563ba3685",
   "metadata": {
    "execution": {
     "iopub.execute_input": "2022-08-08T05:23:17.458422Z",
     "iopub.status.busy": "2022-08-08T05:23:17.457962Z",
     "iopub.status.idle": "2022-08-08T05:23:17.476841Z",
     "shell.execute_reply": "2022-08-08T05:23:17.476436Z"
    },
    "papermill": {
     "duration": 0.07128,
     "end_time": "2022-08-08T05:23:17.478081",
     "exception": false,
     "start_time": "2022-08-08T05:23:17.406801",
     "status": "completed"
    },
    "tags": []
   },
   "outputs": [],
   "source": [
    "assert len(gene_models) == len(_tmp)\n",
    "assert gene_models[\"ENSG00000000419\"].equals(_tmp[\"ENSG00000000419\"])"
   ]
  },
  {
   "cell_type": "markdown",
   "id": "a147f3a8-4efd-457b-9581-00cbfacd4b3d",
   "metadata": {
    "papermill": {
     "duration": 0.047874,
     "end_time": "2022-08-08T05:23:17.592959",
     "exception": false,
     "start_time": "2022-08-08T05:23:17.545085",
     "status": "completed"
    },
    "tags": []
   },
   "source": [
    "### Count number of _unique_ SNPs predictors used and available across tissue models"
   ]
  },
  {
   "cell_type": "code",
   "execution_count": 140,
   "id": "38d5bc57-3c25-4abe-93bd-09bbe200f2ef",
   "metadata": {
    "execution": {
     "iopub.execute_input": "2022-08-08T05:23:17.651361Z",
     "iopub.status.busy": "2022-08-08T05:23:17.650795Z",
     "iopub.status.idle": "2022-08-08T05:23:17.672941Z",
     "shell.execute_reply": "2022-08-08T05:23:17.672390Z"
    },
    "papermill": {
     "duration": 0.05193,
     "end_time": "2022-08-08T05:23:17.674525",
     "exception": false,
     "start_time": "2022-08-08T05:23:17.622595",
     "status": "completed"
    },
    "tags": []
   },
   "outputs": [],
   "source": [
    "def _count_unique_snps(gene_id):\n",
    "    \"\"\"\n",
    "    For a gene_id, it counts unique SNPs in all models and their intersection with GWAS SNPs (therefore, used by S-PrediXcan).\n",
    "    \"\"\"\n",
    "    gene_tissues = spredixcan_genes_models.loc[gene_id, \"tissue\"]\n",
    "\n",
    "    gene_unique_snps = set()\n",
    "    for t in gene_tissues:\n",
    "        t_snps = set(gene_models[gene_id].index)\n",
    "        gene_unique_snps.update(t_snps)\n",
    "\n",
    "    gene_unique_snps_in_gwas = gwas_variants_ids_set.intersection(gene_unique_snps)\n",
    "\n",
    "    return pd.Series(\n",
    "        {\n",
    "            \"unique_n_snps_in_model\": len(gene_unique_snps),\n",
    "            \"unique_n_snps_used\": len(gene_unique_snps_in_gwas),\n",
    "        }\n",
    "    )"
   ]
  },
  {
   "cell_type": "code",
   "execution_count": 141,
   "id": "059c6e02-67e2-4376-a3e5-b815070779c9",
   "metadata": {
    "execution": {
     "iopub.execute_input": "2022-08-08T05:23:17.743672Z",
     "iopub.status.busy": "2022-08-08T05:23:17.740848Z",
     "iopub.status.idle": "2022-08-08T05:23:17.773904Z",
     "shell.execute_reply": "2022-08-08T05:23:17.773195Z"
    },
    "papermill": {
     "duration": 0.067911,
     "end_time": "2022-08-08T05:23:17.775101",
     "exception": false,
     "start_time": "2022-08-08T05:23:17.707190",
     "status": "completed"
    },
    "tags": []
   },
   "outputs": [
    {
     "data": {
      "text/html": [
       "<div>\n",
       "<style scoped>\n",
       "    .dataframe tbody tr th:only-of-type {\n",
       "        vertical-align: middle;\n",
       "    }\n",
       "\n",
       "    .dataframe tbody tr th {\n",
       "        vertical-align: top;\n",
       "    }\n",
       "\n",
       "    .dataframe thead th {\n",
       "        text-align: right;\n",
       "    }\n",
       "</style>\n",
       "<table border=\"1\" class=\"dataframe\">\n",
       "  <thead>\n",
       "    <tr style=\"text-align: right;\">\n",
       "      <th></th>\n",
       "      <th>gene_name</th>\n",
       "      <th>tissue</th>\n",
       "      <th>n_tissues</th>\n",
       "      <th>tissues_pc_variances</th>\n",
       "      <th>tissues_pc_variances_cov</th>\n",
       "      <th>tissues_variances</th>\n",
       "      <th>n_snps_used_sum</th>\n",
       "      <th>n_snps_in_model_sum</th>\n",
       "    </tr>\n",
       "    <tr>\n",
       "      <th>gene_id</th>\n",
       "      <th></th>\n",
       "      <th></th>\n",
       "      <th></th>\n",
       "      <th></th>\n",
       "      <th></th>\n",
       "      <th></th>\n",
       "      <th></th>\n",
       "      <th></th>\n",
       "    </tr>\n",
       "  </thead>\n",
       "  <tbody>\n",
       "    <tr>\n",
       "      <th>ENSG00000000419</th>\n",
       "      <td>DPM1</td>\n",
       "      <td>(Brain_Hypothalamus, Brain_Substantia_nigra)</td>\n",
       "      <td>2</td>\n",
       "      <td>[1.0442398458252409, 0.9557601541747592]</td>\n",
       "      <td>[0.013163142634155849, 0.00048574890347684763]</td>\n",
       "      <td>{'Brain_Hypothalamus': 0.013162153504206677, '...</td>\n",
       "      <td>2</td>\n",
       "      <td>2</td>\n",
       "    </tr>\n",
       "    <tr>\n",
       "      <th>ENSG00000010256</th>\n",
       "      <td>UQCRC1</td>\n",
       "      <td>(Thyroid, Whole_Blood)</td>\n",
       "      <td>2</td>\n",
       "      <td>[1.1048350039574655, 0.8951649960425345]</td>\n",
       "      <td>[0.0008061424968110495, 0.0002308709788283639]</td>\n",
       "      <td>{'Thyroid': 0.0008025245652862433, 'Whole_Bloo...</td>\n",
       "      <td>2</td>\n",
       "      <td>2</td>\n",
       "    </tr>\n",
       "    <tr>\n",
       "      <th>ENSG00000017427</th>\n",
       "      <td>IGF1</td>\n",
       "      <td>(Brain_Amygdala, Testis)</td>\n",
       "      <td>2</td>\n",
       "      <td>[1.0389319526404415, 0.9610680473595585]</td>\n",
       "      <td>[0.02060052225760429, 0.003854854256224178]</td>\n",
       "      <td>{'Brain_Amygdala': 0.02059332044751194, 'Testi...</td>\n",
       "      <td>2</td>\n",
       "      <td>2</td>\n",
       "    </tr>\n",
       "    <tr>\n",
       "      <th>ENSG00000043093</th>\n",
       "      <td>DCUN1D1</td>\n",
       "      <td>(Esophagus_Muscularis, Esophagus_Gastroesophag...</td>\n",
       "      <td>2</td>\n",
       "      <td>[1.4951653523020276, 0.5048346476979725]</td>\n",
       "      <td>[0.0005196522562331344, 0.00014798630499321565]</td>\n",
       "      <td>{'Esophagus_Muscularis': 0.0004315621222418269...</td>\n",
       "      <td>2</td>\n",
       "      <td>2</td>\n",
       "    </tr>\n",
       "    <tr>\n",
       "      <th>ENSG00000081377</th>\n",
       "      <td>CDC14B</td>\n",
       "      <td>(Muscle_Skeletal, Brain_Nucleus_accumbens_basa...</td>\n",
       "      <td>2</td>\n",
       "      <td>[1.1285007973441137, 0.8714992026558863]</td>\n",
       "      <td>[0.014647518608411531, 0.007422500206765484]</td>\n",
       "      <td>{'Muscle_Skeletal': 0.0076846621297156385, 'Br...</td>\n",
       "      <td>2</td>\n",
       "      <td>2</td>\n",
       "    </tr>\n",
       "  </tbody>\n",
       "</table>\n",
       "</div>"
      ],
      "text/plain": [
       "                gene_name                                             tissue  \\\n",
       "gene_id                                                                        \n",
       "ENSG00000000419      DPM1       (Brain_Hypothalamus, Brain_Substantia_nigra)   \n",
       "ENSG00000010256    UQCRC1                             (Thyroid, Whole_Blood)   \n",
       "ENSG00000017427      IGF1                           (Brain_Amygdala, Testis)   \n",
       "ENSG00000043093   DCUN1D1  (Esophagus_Muscularis, Esophagus_Gastroesophag...   \n",
       "ENSG00000081377    CDC14B  (Muscle_Skeletal, Brain_Nucleus_accumbens_basa...   \n",
       "\n",
       "                 n_tissues                      tissues_pc_variances  \\\n",
       "gene_id                                                                \n",
       "ENSG00000000419          2  [1.0442398458252409, 0.9557601541747592]   \n",
       "ENSG00000010256          2  [1.1048350039574655, 0.8951649960425345]   \n",
       "ENSG00000017427          2  [1.0389319526404415, 0.9610680473595585]   \n",
       "ENSG00000043093          2  [1.4951653523020276, 0.5048346476979725]   \n",
       "ENSG00000081377          2  [1.1285007973441137, 0.8714992026558863]   \n",
       "\n",
       "                                        tissues_pc_variances_cov  \\\n",
       "gene_id                                                            \n",
       "ENSG00000000419   [0.013163142634155849, 0.00048574890347684763]   \n",
       "ENSG00000010256   [0.0008061424968110495, 0.0002308709788283639]   \n",
       "ENSG00000017427      [0.02060052225760429, 0.003854854256224178]   \n",
       "ENSG00000043093  [0.0005196522562331344, 0.00014798630499321565]   \n",
       "ENSG00000081377     [0.014647518608411531, 0.007422500206765484]   \n",
       "\n",
       "                                                 tissues_variances  \\\n",
       "gene_id                                                              \n",
       "ENSG00000000419  {'Brain_Hypothalamus': 0.013162153504206677, '...   \n",
       "ENSG00000010256  {'Thyroid': 0.0008025245652862433, 'Whole_Bloo...   \n",
       "ENSG00000017427  {'Brain_Amygdala': 0.02059332044751194, 'Testi...   \n",
       "ENSG00000043093  {'Esophagus_Muscularis': 0.0004315621222418269...   \n",
       "ENSG00000081377  {'Muscle_Skeletal': 0.0076846621297156385, 'Br...   \n",
       "\n",
       "                 n_snps_used_sum  n_snps_in_model_sum  \n",
       "gene_id                                                \n",
       "ENSG00000000419                2                    2  \n",
       "ENSG00000010256                2                    2  \n",
       "ENSG00000017427                2                    2  \n",
       "ENSG00000043093                2                    2  \n",
       "ENSG00000081377                2                    2  "
      ]
     },
     "execution_count": 141,
     "metadata": {},
     "output_type": "execute_result"
    }
   ],
   "source": [
    "# testing\n",
    "spredixcan_genes_models[spredixcan_genes_models[\"n_snps_used_sum\"] == 2].head()"
   ]
  },
  {
   "cell_type": "code",
   "execution_count": 142,
   "id": "4f8a444c-c3e2-4688-a50b-08481d41f614",
   "metadata": {
    "execution": {
     "iopub.execute_input": "2022-08-08T05:23:17.844775Z",
     "iopub.status.busy": "2022-08-08T05:23:17.844320Z",
     "iopub.status.idle": "2022-08-08T05:23:17.867048Z",
     "shell.execute_reply": "2022-08-08T05:23:17.866640Z"
    },
    "papermill": {
     "duration": 0.058137,
     "end_time": "2022-08-08T05:23:17.868210",
     "exception": false,
     "start_time": "2022-08-08T05:23:17.810073",
     "status": "completed"
    },
    "tags": []
   },
   "outputs": [
    {
     "data": {
      "text/plain": [
       "varID\n",
       "chr20_50862947_C_T_b38    0.431375\n",
       "Name: weight, dtype: float64"
      ]
     },
     "metadata": {},
     "output_type": "display_data"
    },
    {
     "data": {
      "text/plain": [
       "varID\n",
       "chr20_50957480_C_T_b38   -0.146796\n",
       "Name: weight, dtype: float64"
      ]
     },
     "metadata": {},
     "output_type": "display_data"
    }
   ],
   "source": [
    "# case with two snps, not repeated across tissues\n",
    "_gene_id = \"ENSG00000000419\"\n",
    "display(\n",
    "    spredixcan_gene_obj[_gene_id].get_prediction_weights(\n",
    "        tissue=\"Brain_Hypothalamus\", model_type=EQTL_MODEL\n",
    "    )\n",
    ")\n",
    "display(\n",
    "    spredixcan_gene_obj[_gene_id].get_prediction_weights(\n",
    "        tissue=\"Brain_Substantia_nigra\", model_type=EQTL_MODEL\n",
    "    )\n",
    ")"
   ]
  },
  {
   "cell_type": "code",
   "execution_count": 143,
   "id": "f835cf57-eea6-4468-aaf2-d85c8164d177",
   "metadata": {
    "execution": {
     "iopub.execute_input": "2022-08-08T05:23:17.930758Z",
     "iopub.status.busy": "2022-08-08T05:23:17.930438Z",
     "iopub.status.idle": "2022-08-08T05:23:17.946914Z",
     "shell.execute_reply": "2022-08-08T05:23:17.946496Z"
    },
    "papermill": {
     "duration": 0.048424,
     "end_time": "2022-08-08T05:23:17.948252",
     "exception": false,
     "start_time": "2022-08-08T05:23:17.899828",
     "status": "completed"
    },
    "tags": []
   },
   "outputs": [],
   "source": [
    "# _tmp = _count_unique_snps(_gene_id)\n",
    "# assert _tmp.shape[0] == 2\n",
    "# assert _tmp[\"unique_n_snps_in_model\"] == 2\n",
    "# assert _tmp[\"unique_n_snps_used\"] == 2"
   ]
  },
  {
   "cell_type": "code",
   "execution_count": 144,
   "id": "520837f6-5cdd-4958-aa98-00cd1ebab484",
   "metadata": {
    "execution": {
     "iopub.execute_input": "2022-08-08T05:23:18.009159Z",
     "iopub.status.busy": "2022-08-08T05:23:18.008843Z",
     "iopub.status.idle": "2022-08-08T05:23:20.329315Z",
     "shell.execute_reply": "2022-08-08T05:23:20.328898Z"
    },
    "papermill": {
     "duration": 2.347969,
     "end_time": "2022-08-08T05:23:20.330838",
     "exception": false,
     "start_time": "2022-08-08T05:23:17.982869",
     "status": "completed"
    },
    "tags": []
   },
   "outputs": [],
   "source": [
    "# get unique snps for all genes\n",
    "spredixcan_genes_unique_n_snps = spredixcan_genes_models.groupby(\"gene_id\").apply(\n",
    "    lambda x: _count_unique_snps(x.name)\n",
    ")"
   ]
  },
  {
   "cell_type": "code",
   "execution_count": 145,
   "id": "72633373-73d7-4796-b915-06fcb18feca0",
   "metadata": {
    "execution": {
     "iopub.execute_input": "2022-08-08T05:23:20.382709Z",
     "iopub.status.busy": "2022-08-08T05:23:20.382319Z",
     "iopub.status.idle": "2022-08-08T05:23:20.399382Z",
     "shell.execute_reply": "2022-08-08T05:23:20.398932Z"
    },
    "papermill": {
     "duration": 0.044159,
     "end_time": "2022-08-08T05:23:20.400621",
     "exception": false,
     "start_time": "2022-08-08T05:23:20.356462",
     "status": "completed"
    },
    "tags": []
   },
   "outputs": [
    {
     "data": {
      "text/html": [
       "<div>\n",
       "<style scoped>\n",
       "    .dataframe tbody tr th:only-of-type {\n",
       "        vertical-align: middle;\n",
       "    }\n",
       "\n",
       "    .dataframe tbody tr th {\n",
       "        vertical-align: top;\n",
       "    }\n",
       "\n",
       "    .dataframe thead th {\n",
       "        text-align: right;\n",
       "    }\n",
       "</style>\n",
       "<table border=\"1\" class=\"dataframe\">\n",
       "  <thead>\n",
       "    <tr style=\"text-align: right;\">\n",
       "      <th></th>\n",
       "      <th>unique_n_snps_in_model</th>\n",
       "      <th>unique_n_snps_used</th>\n",
       "    </tr>\n",
       "    <tr>\n",
       "      <th>gene_id</th>\n",
       "      <th></th>\n",
       "      <th></th>\n",
       "    </tr>\n",
       "  </thead>\n",
       "  <tbody>\n",
       "    <tr>\n",
       "      <th>ENSG00000000419</th>\n",
       "      <td>2</td>\n",
       "      <td>2</td>\n",
       "    </tr>\n",
       "    <tr>\n",
       "      <th>ENSG00000000938</th>\n",
       "      <td>5</td>\n",
       "      <td>5</td>\n",
       "    </tr>\n",
       "    <tr>\n",
       "      <th>ENSG00000000971</th>\n",
       "      <td>12</td>\n",
       "      <td>12</td>\n",
       "    </tr>\n",
       "    <tr>\n",
       "      <th>ENSG00000001084</th>\n",
       "      <td>23</td>\n",
       "      <td>23</td>\n",
       "    </tr>\n",
       "    <tr>\n",
       "      <th>ENSG00000001167</th>\n",
       "      <td>14</td>\n",
       "      <td>13</td>\n",
       "    </tr>\n",
       "  </tbody>\n",
       "</table>\n",
       "</div>"
      ],
      "text/plain": [
       "                 unique_n_snps_in_model  unique_n_snps_used\n",
       "gene_id                                                    \n",
       "ENSG00000000419                       2                   2\n",
       "ENSG00000000938                       5                   5\n",
       "ENSG00000000971                      12                  12\n",
       "ENSG00000001084                      23                  23\n",
       "ENSG00000001167                      14                  13"
      ]
     },
     "execution_count": 145,
     "metadata": {},
     "output_type": "execute_result"
    }
   ],
   "source": [
    "spredixcan_genes_unique_n_snps.head()"
   ]
  },
  {
   "cell_type": "code",
   "execution_count": 146,
   "id": "3d2b6676-2168-44b8-8d02-d29b934ba2ec",
   "metadata": {
    "execution": {
     "iopub.execute_input": "2022-08-08T05:23:20.452068Z",
     "iopub.status.busy": "2022-08-08T05:23:20.451738Z",
     "iopub.status.idle": "2022-08-08T05:23:20.465296Z",
     "shell.execute_reply": "2022-08-08T05:23:20.464918Z"
    },
    "papermill": {
     "duration": 0.040593,
     "end_time": "2022-08-08T05:23:20.466647",
     "exception": false,
     "start_time": "2022-08-08T05:23:20.426054",
     "status": "completed"
    },
    "tags": []
   },
   "outputs": [],
   "source": [
    "assert (\n",
    "    spredixcan_genes_unique_n_snps[\"unique_n_snps_in_model\"]\n",
    "    >= spredixcan_genes_unique_n_snps[\"unique_n_snps_used\"]\n",
    ").all()"
   ]
  },
  {
   "cell_type": "code",
   "execution_count": 147,
   "id": "6accf2fe-93fe-4f7c-86ff-5f0ea3d17e11",
   "metadata": {
    "execution": {
     "iopub.execute_input": "2022-08-08T05:23:20.519951Z",
     "iopub.status.busy": "2022-08-08T05:23:20.519532Z",
     "iopub.status.idle": "2022-08-08T05:23:20.535906Z",
     "shell.execute_reply": "2022-08-08T05:23:20.535475Z"
    },
    "papermill": {
     "duration": 0.043615,
     "end_time": "2022-08-08T05:23:20.537492",
     "exception": false,
     "start_time": "2022-08-08T05:23:20.493877",
     "status": "completed"
    },
    "tags": []
   },
   "outputs": [],
   "source": [
    "# add unique snps to spredixcan_genes_models\n",
    "spredixcan_genes_models = spredixcan_genes_models.join(spredixcan_genes_unique_n_snps)"
   ]
  },
  {
   "cell_type": "code",
   "execution_count": 148,
   "id": "25a28358-843b-4421-9d8f-8edc41f016e3",
   "metadata": {
    "execution": {
     "iopub.execute_input": "2022-08-08T05:23:20.589195Z",
     "iopub.status.busy": "2022-08-08T05:23:20.588817Z",
     "iopub.status.idle": "2022-08-08T05:23:20.603516Z",
     "shell.execute_reply": "2022-08-08T05:23:20.603064Z"
    },
    "papermill": {
     "duration": 0.04178,
     "end_time": "2022-08-08T05:23:20.604727",
     "exception": false,
     "start_time": "2022-08-08T05:23:20.562947",
     "status": "completed"
    },
    "tags": []
   },
   "outputs": [
    {
     "data": {
      "text/plain": [
       "(6442, 10)"
      ]
     },
     "execution_count": 148,
     "metadata": {},
     "output_type": "execute_result"
    }
   ],
   "source": [
    "spredixcan_genes_models.shape"
   ]
  },
  {
   "cell_type": "code",
   "execution_count": 149,
   "id": "ae4f0cd6-a823-4f55-82cf-1a78f0392acf",
   "metadata": {
    "execution": {
     "iopub.execute_input": "2022-08-08T05:23:20.656524Z",
     "iopub.status.busy": "2022-08-08T05:23:20.656124Z",
     "iopub.status.idle": "2022-08-08T05:23:20.681684Z",
     "shell.execute_reply": "2022-08-08T05:23:20.681211Z"
    },
    "papermill": {
     "duration": 0.052638,
     "end_time": "2022-08-08T05:23:20.683068",
     "exception": false,
     "start_time": "2022-08-08T05:23:20.630430",
     "status": "completed"
    },
    "tags": []
   },
   "outputs": [
    {
     "data": {
      "text/html": [
       "<div>\n",
       "<style scoped>\n",
       "    .dataframe tbody tr th:only-of-type {\n",
       "        vertical-align: middle;\n",
       "    }\n",
       "\n",
       "    .dataframe tbody tr th {\n",
       "        vertical-align: top;\n",
       "    }\n",
       "\n",
       "    .dataframe thead th {\n",
       "        text-align: right;\n",
       "    }\n",
       "</style>\n",
       "<table border=\"1\" class=\"dataframe\">\n",
       "  <thead>\n",
       "    <tr style=\"text-align: right;\">\n",
       "      <th></th>\n",
       "      <th>gene_name</th>\n",
       "      <th>tissue</th>\n",
       "      <th>n_tissues</th>\n",
       "      <th>tissues_pc_variances</th>\n",
       "      <th>tissues_pc_variances_cov</th>\n",
       "      <th>tissues_variances</th>\n",
       "      <th>n_snps_used_sum</th>\n",
       "      <th>n_snps_in_model_sum</th>\n",
       "      <th>unique_n_snps_in_model</th>\n",
       "      <th>unique_n_snps_used</th>\n",
       "    </tr>\n",
       "    <tr>\n",
       "      <th>gene_id</th>\n",
       "      <th></th>\n",
       "      <th></th>\n",
       "      <th></th>\n",
       "      <th></th>\n",
       "      <th></th>\n",
       "      <th></th>\n",
       "      <th></th>\n",
       "      <th></th>\n",
       "      <th></th>\n",
       "      <th></th>\n",
       "    </tr>\n",
       "  </thead>\n",
       "  <tbody>\n",
       "    <tr>\n",
       "      <th>ENSG00000000419</th>\n",
       "      <td>DPM1</td>\n",
       "      <td>(Brain_Hypothalamus, Brain_Substantia_nigra)</td>\n",
       "      <td>2</td>\n",
       "      <td>[1.0442398458252409, 0.9557601541747592]</td>\n",
       "      <td>[0.013163142634155849, 0.00048574890347684763]</td>\n",
       "      <td>{'Brain_Hypothalamus': 0.013162153504206677, '...</td>\n",
       "      <td>2</td>\n",
       "      <td>2</td>\n",
       "      <td>2</td>\n",
       "      <td>2</td>\n",
       "    </tr>\n",
       "    <tr>\n",
       "      <th>ENSG00000000938</th>\n",
       "      <td>FGR</td>\n",
       "      <td>(Brain_Frontal_Cortex_BA9, Heart_Left_Ventricl...</td>\n",
       "      <td>36</td>\n",
       "      <td>[31.632669336371276, 2.078367751851144, 1.2716...</td>\n",
       "      <td>[0.17159486570780275]</td>\n",
       "      <td>{'Brain_Frontal_Cortex_BA9': 0.005461342207578...</td>\n",
       "      <td>40</td>\n",
       "      <td>40</td>\n",
       "      <td>5</td>\n",
       "      <td>5</td>\n",
       "    </tr>\n",
       "    <tr>\n",
       "      <th>ENSG00000000971</th>\n",
       "      <td>CFH</td>\n",
       "      <td>(Brain_Frontal_Cortex_BA9, Heart_Left_Ventricl...</td>\n",
       "      <td>34</td>\n",
       "      <td>[21.560769925683292, 7.310170987045467, 1.8377...</td>\n",
       "      <td>[0.20930603195874506, 0.05823434765600799, 0.0...</td>\n",
       "      <td>{'Brain_Frontal_Cortex_BA9': 0.005194353597795...</td>\n",
       "      <td>44</td>\n",
       "      <td>44</td>\n",
       "      <td>12</td>\n",
       "      <td>12</td>\n",
       "    </tr>\n",
       "    <tr>\n",
       "      <th>ENSG00000001084</th>\n",
       "      <td>GCLC</td>\n",
       "      <td>(Brain_Frontal_Cortex_BA9, Heart_Left_Ventricl...</td>\n",
       "      <td>32</td>\n",
       "      <td>[21.291939080546523, 4.699418748743194, 2.2489...</td>\n",
       "      <td>[0.3943052737512377, 0.11627488888534836, 0.01...</td>\n",
       "      <td>{'Brain_Frontal_Cortex_BA9': 0.015455998643262...</td>\n",
       "      <td>46</td>\n",
       "      <td>46</td>\n",
       "      <td>23</td>\n",
       "      <td>23</td>\n",
       "    </tr>\n",
       "    <tr>\n",
       "      <th>ENSG00000001167</th>\n",
       "      <td>NFYA</td>\n",
       "      <td>(Heart_Left_Ventricle, Skin_Sun_Exposed_Lower_...</td>\n",
       "      <td>40</td>\n",
       "      <td>[37.33566029549769, 1.3914019604538361]</td>\n",
       "      <td>[1.164263997982105, 0.05742881287671713]</td>\n",
       "      <td>{'Heart_Left_Ventricle': 0.01552640772964782, ...</td>\n",
       "      <td>47</td>\n",
       "      <td>48</td>\n",
       "      <td>14</td>\n",
       "      <td>13</td>\n",
       "    </tr>\n",
       "  </tbody>\n",
       "</table>\n",
       "</div>"
      ],
      "text/plain": [
       "                gene_name                                             tissue  \\\n",
       "gene_id                                                                        \n",
       "ENSG00000000419      DPM1       (Brain_Hypothalamus, Brain_Substantia_nigra)   \n",
       "ENSG00000000938       FGR  (Brain_Frontal_Cortex_BA9, Heart_Left_Ventricl...   \n",
       "ENSG00000000971       CFH  (Brain_Frontal_Cortex_BA9, Heart_Left_Ventricl...   \n",
       "ENSG00000001084      GCLC  (Brain_Frontal_Cortex_BA9, Heart_Left_Ventricl...   \n",
       "ENSG00000001167      NFYA  (Heart_Left_Ventricle, Skin_Sun_Exposed_Lower_...   \n",
       "\n",
       "                 n_tissues                               tissues_pc_variances  \\\n",
       "gene_id                                                                         \n",
       "ENSG00000000419          2           [1.0442398458252409, 0.9557601541747592]   \n",
       "ENSG00000000938         36  [31.632669336371276, 2.078367751851144, 1.2716...   \n",
       "ENSG00000000971         34  [21.560769925683292, 7.310170987045467, 1.8377...   \n",
       "ENSG00000001084         32  [21.291939080546523, 4.699418748743194, 2.2489...   \n",
       "ENSG00000001167         40            [37.33566029549769, 1.3914019604538361]   \n",
       "\n",
       "                                          tissues_pc_variances_cov  \\\n",
       "gene_id                                                              \n",
       "ENSG00000000419     [0.013163142634155849, 0.00048574890347684763]   \n",
       "ENSG00000000938                              [0.17159486570780275]   \n",
       "ENSG00000000971  [0.20930603195874506, 0.05823434765600799, 0.0...   \n",
       "ENSG00000001084  [0.3943052737512377, 0.11627488888534836, 0.01...   \n",
       "ENSG00000001167           [1.164263997982105, 0.05742881287671713]   \n",
       "\n",
       "                                                 tissues_variances  \\\n",
       "gene_id                                                              \n",
       "ENSG00000000419  {'Brain_Hypothalamus': 0.013162153504206677, '...   \n",
       "ENSG00000000938  {'Brain_Frontal_Cortex_BA9': 0.005461342207578...   \n",
       "ENSG00000000971  {'Brain_Frontal_Cortex_BA9': 0.005194353597795...   \n",
       "ENSG00000001084  {'Brain_Frontal_Cortex_BA9': 0.015455998643262...   \n",
       "ENSG00000001167  {'Heart_Left_Ventricle': 0.01552640772964782, ...   \n",
       "\n",
       "                 n_snps_used_sum  n_snps_in_model_sum  unique_n_snps_in_model  \\\n",
       "gene_id                                                                         \n",
       "ENSG00000000419                2                    2                       2   \n",
       "ENSG00000000938               40                   40                       5   \n",
       "ENSG00000000971               44                   44                      12   \n",
       "ENSG00000001084               46                   46                      23   \n",
       "ENSG00000001167               47                   48                      14   \n",
       "\n",
       "                 unique_n_snps_used  \n",
       "gene_id                              \n",
       "ENSG00000000419                   2  \n",
       "ENSG00000000938                   5  \n",
       "ENSG00000000971                  12  \n",
       "ENSG00000001084                  23  \n",
       "ENSG00000001167                  13  "
      ]
     },
     "execution_count": 149,
     "metadata": {},
     "output_type": "execute_result"
    }
   ],
   "source": [
    "spredixcan_genes_models.head()"
   ]
  },
  {
   "cell_type": "markdown",
   "id": "d6947d45-ea78-4c6b-bf71-f7413d1687e3",
   "metadata": {
    "papermill": {
     "duration": 0.025509,
     "end_time": "2022-08-08T05:23:20.734795",
     "exception": false,
     "start_time": "2022-08-08T05:23:20.709286",
     "status": "completed"
    },
    "tags": []
   },
   "source": [
    "### Save"
   ]
  },
  {
   "cell_type": "code",
   "execution_count": 150,
   "id": "ebc3a430-7bd5-4099-8b01-aa77e704e3e7",
   "metadata": {
    "execution": {
     "iopub.execute_input": "2022-08-08T05:23:20.786810Z",
     "iopub.status.busy": "2022-08-08T05:23:20.786388Z",
     "iopub.status.idle": "2022-08-08T05:23:20.799825Z",
     "shell.execute_reply": "2022-08-08T05:23:20.799430Z"
    },
    "papermill": {
     "duration": 0.040958,
     "end_time": "2022-08-08T05:23:20.801088",
     "exception": false,
     "start_time": "2022-08-08T05:23:20.760130",
     "status": "completed"
    },
    "tags": []
   },
   "outputs": [],
   "source": [
    "# this is important, other scripts depend on gene_name to be unique\n",
    "assert spredixcan_genes_models[\"gene_name\"].is_unique"
   ]
  },
  {
   "cell_type": "code",
   "execution_count": 151,
   "id": "e2db5302-3051-4492-97e1-e759d2fb512f",
   "metadata": {
    "execution": {
     "iopub.execute_input": "2022-08-08T05:23:20.853240Z",
     "iopub.status.busy": "2022-08-08T05:23:20.852823Z",
     "iopub.status.idle": "2022-08-08T05:23:20.867994Z",
     "shell.execute_reply": "2022-08-08T05:23:20.867553Z"
    },
    "papermill": {
     "duration": 0.042685,
     "end_time": "2022-08-08T05:23:20.869280",
     "exception": false,
     "start_time": "2022-08-08T05:23:20.826595",
     "status": "completed"
    },
    "tags": []
   },
   "outputs": [],
   "source": [
    "assert not spredixcan_genes_models.isna().any(None)"
   ]
  },
  {
   "cell_type": "code",
   "execution_count": 152,
   "id": "10e19441-8390-4eb1-8da4-24752597bb54",
   "metadata": {
    "execution": {
     "iopub.execute_input": "2022-08-08T05:23:20.922267Z",
     "iopub.status.busy": "2022-08-08T05:23:20.921748Z",
     "iopub.status.idle": "2022-08-08T05:23:21.675754Z",
     "shell.execute_reply": "2022-08-08T05:23:21.675189Z"
    },
    "papermill": {
     "duration": 0.782385,
     "end_time": "2022-08-08T05:23:21.677535",
     "exception": false,
     "start_time": "2022-08-08T05:23:20.895150",
     "status": "completed"
    },
    "tags": []
   },
   "outputs": [],
   "source": [
    "spredixcan_genes_models.to_pickle(OUTPUT_DIR_BASE / \"gene_tissues.pkl\")"
   ]
  },
  {
   "cell_type": "code",
   "execution_count": null,
   "id": "b25e3ead",
   "metadata": {
    "papermill": {
     "duration": 0.029506,
     "end_time": "2022-08-08T05:23:21.742642",
     "exception": false,
     "start_time": "2022-08-08T05:23:21.713136",
     "status": "completed"
    },
    "tags": []
   },
   "outputs": [],
   "source": []
  }
 ],
 "metadata": {
  "jupytext": {
   "cell_metadata_filter": "all,-execution,-papermill,-trusted",
   "formats": "ipynb,py//py:percent"
  },
  "kernelspec": {
   "display_name": "Python 3 (ipykernel)",
   "language": "python",
   "name": "python3"
  },
  "language_info": {
   "codemirror_mode": {
    "name": "ipython",
    "version": 3
   },
   "file_extension": ".py",
   "mimetype": "text/x-python",
   "name": "python",
   "nbconvert_exporter": "python",
   "pygments_lexer": "ipython3",
   "version": "3.8.13"
  },
  "papermill": {
   "default_parameters": {},
   "duration": 11206.621231,
   "end_time": "2022-08-08T05:23:24.497572",
   "environment_variables": {},
   "exception": null,
   "input_path": "nbs/15_gsa_gls/07-compile_gwas_snps_and_twas_genes.ipynb",
   "output_path": "nbs/15_gsa_gls/gene_corrs/cohorts/1000g_eur/gtex_v8/mashr/07-compile_gwas_snps_and_twas_genes.run.ipynb",
   "parameters": {
    "COHORT_NAME": "1000G_EUR",
    "EQTL_MODEL": "MASHR",
    "GWAS_FILE": "/opt/data/results/gls/null_sims/final_imputed_gwas/random.pheno0.glm-imputed.txt.gz",
    "REFERENCE_PANEL": "GTEX_V8",
    "SMULTIXCAN_FILE": "/opt/data/results/gls/null_sims/twas/smultixcan/random.pheno0-gtex_v8-mashr-smultixcan.txt",
    "SPREDIXCAN_FILE_PATTERN": "random.pheno0-gtex_v8-mashr-{tissue}.csv",
    "SPREDIXCAN_FOLDER": "/opt/data/results/gls/null_sims/twas/spredixcan/"
   },
   "start_time": "2022-08-08T02:16:37.876341",
   "version": "2.2.2"
  },
  "toc-autonumbering": true
 },
 "nbformat": 4,
 "nbformat_minor": 5
}
