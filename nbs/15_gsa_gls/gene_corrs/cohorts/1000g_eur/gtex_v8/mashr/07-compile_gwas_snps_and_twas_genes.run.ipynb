{
 "cells": [
  {
   "cell_type": "markdown",
   "id": "7a6632fb",
   "metadata": {
    "papermill": {
     "duration": 0.024045,
     "end_time": "2022-08-02T20:09:44.081525",
     "exception": false,
     "start_time": "2022-08-02T20:09:44.057480",
     "status": "completed"
    },
    "tags": []
   },
   "source": [
    "# Description"
   ]
  },
  {
   "cell_type": "markdown",
   "id": "7097c346",
   "metadata": {
    "papermill": {
     "duration": 0.018204,
     "end_time": "2022-08-02T20:09:44.118099",
     "exception": false,
     "start_time": "2022-08-02T20:09:44.099895",
     "status": "completed"
    },
    "tags": []
   },
   "source": [
    "(Please, take a look at the README.md file in this directory for instructions on how to run this notebook)\n",
    "\n",
    "This notebook compiles information about the GWAS and TWAS for a particular cohort. For example, the set of GWAS variants, variance of predicted expression of genes, etc.\n",
    "\n",
    "It has specicfic parameters for papermill (see under `Settings` below).\n",
    "\n",
    "This notebook is not directly run. See README.md."
   ]
  },
  {
   "cell_type": "markdown",
   "id": "c61d8427",
   "metadata": {
    "papermill": {
     "duration": 0.018307,
     "end_time": "2022-08-02T20:09:44.154694",
     "exception": false,
     "start_time": "2022-08-02T20:09:44.136387",
     "status": "completed"
    },
    "tags": []
   },
   "source": [
    "# Modules"
   ]
  },
  {
   "cell_type": "code",
   "execution_count": 1,
   "id": "bbc0234f",
   "metadata": {
    "execution": {
     "iopub.execute_input": "2022-08-02T20:09:44.192615Z",
     "iopub.status.busy": "2022-08-02T20:09:44.192372Z",
     "iopub.status.idle": "2022-08-02T20:09:44.210787Z",
     "shell.execute_reply": "2022-08-02T20:09:44.210303Z"
    },
    "papermill": {
     "duration": 0.039539,
     "end_time": "2022-08-02T20:09:44.212497",
     "exception": false,
     "start_time": "2022-08-02T20:09:44.172958",
     "status": "completed"
    },
    "tags": []
   },
   "outputs": [],
   "source": [
    "%load_ext autoreload\n",
    "%autoreload 2"
   ]
  },
  {
   "cell_type": "code",
   "execution_count": 2,
   "id": "1d5f5a59",
   "metadata": {
    "execution": {
     "iopub.execute_input": "2022-08-02T20:09:44.250516Z",
     "iopub.status.busy": "2022-08-02T20:09:44.250333Z",
     "iopub.status.idle": "2022-08-02T20:09:45.271042Z",
     "shell.execute_reply": "2022-08-02T20:09:45.270265Z"
    },
    "papermill": {
     "duration": 1.04201,
     "end_time": "2022-08-02T20:09:45.273023",
     "exception": false,
     "start_time": "2022-08-02T20:09:44.231013",
     "status": "completed"
    },
    "tags": []
   },
   "outputs": [],
   "source": [
    "from pathlib import Path\n",
    "import pickle\n",
    "\n",
    "import numpy as np\n",
    "import pandas as pd\n",
    "\n",
    "import conf\n",
    "from entity import Gene"
   ]
  },
  {
   "cell_type": "markdown",
   "id": "1eac24b5",
   "metadata": {
    "papermill": {
     "duration": 0.018473,
     "end_time": "2022-08-02T20:09:45.310498",
     "exception": false,
     "start_time": "2022-08-02T20:09:45.292025",
     "status": "completed"
    },
    "tags": []
   },
   "source": [
    "# Settings"
   ]
  },
  {
   "cell_type": "code",
   "execution_count": 3,
   "id": "ca4560ba",
   "metadata": {
    "execution": {
     "iopub.execute_input": "2022-08-02T20:09:45.348722Z",
     "iopub.status.busy": "2022-08-02T20:09:45.348465Z",
     "iopub.status.idle": "2022-08-02T20:09:45.365547Z",
     "shell.execute_reply": "2022-08-02T20:09:45.365068Z"
    },
    "papermill": {
     "duration": 0.038109,
     "end_time": "2022-08-02T20:09:45.367076",
     "exception": false,
     "start_time": "2022-08-02T20:09:45.328967",
     "status": "completed"
    },
    "tags": [
     "parameters"
    ]
   },
   "outputs": [],
   "source": [
    "# a cohort name (it could be something like UK_BIOBANK, etc)\n",
    "COHORT_NAME = None\n",
    "\n",
    "# reference panel such as 1000G or GTEX_V8\n",
    "REFERENCE_PANEL = None\n",
    "\n",
    "# predictions models such as MASHR or ELASTIC_NET\n",
    "EQTL_MODEL = None\n",
    "\n",
    "# a string with a path pointing to an imputed GWAS\n",
    "GWAS_FILE = None\n",
    "\n",
    "# a string with a path pointing where S-PrediXcan results (tissue-specific are located\n",
    "SPREDIXCAN_FOLDER = None\n",
    "\n",
    "# an f-string with one placeholder {tissue}\n",
    "SPREDIXCAN_FILE_PATTERN = None\n",
    "\n",
    "# a string with a path pointing to an S-MultiXcan result\n",
    "SMULTIXCAN_FILE = None"
   ]
  },
  {
   "cell_type": "code",
   "execution_count": 4,
   "id": "639192bd",
   "metadata": {
    "execution": {
     "iopub.execute_input": "2022-08-02T20:09:45.404885Z",
     "iopub.status.busy": "2022-08-02T20:09:45.404673Z",
     "iopub.status.idle": "2022-08-02T20:09:45.418428Z",
     "shell.execute_reply": "2022-08-02T20:09:45.417954Z"
    },
    "papermill": {
     "duration": 0.034674,
     "end_time": "2022-08-02T20:09:45.419938",
     "exception": false,
     "start_time": "2022-08-02T20:09:45.385264",
     "status": "completed"
    },
    "tags": [
     "injected-parameters"
    ]
   },
   "outputs": [],
   "source": [
    "# Parameters\n",
    "COHORT_NAME = \"1000G_EUR\"\n",
    "REFERENCE_PANEL = \"GTEX_V8\"\n",
    "EQTL_MODEL = \"MASHR\"\n",
    "GWAS_FILE = \"/project/ritchie20/projects/phenoplier/base/results/gls/null_sims/final_imputed_gwas/random.pheno0.glm-imputed.txt.gz\"\n",
    "SPREDIXCAN_FOLDER = (\n",
    "    \"/project/ritchie20/projects/phenoplier/base/results/gls/null_sims/twas/spredixcan/\"\n",
    ")\n",
    "SPREDIXCAN_FILE_PATTERN = \"random.pheno0-gtex_v8-mashr-{tissue}.csv\"\n",
    "SMULTIXCAN_FILE = \"/project/ritchie20/projects/phenoplier/base/results/gls/null_sims/twas/smultixcan/random.pheno0-gtex_v8-mashr-smultixcan.txt\"\n"
   ]
  },
  {
   "cell_type": "code",
   "execution_count": 5,
   "id": "8fe24bef",
   "metadata": {
    "execution": {
     "iopub.execute_input": "2022-08-02T20:09:45.458007Z",
     "iopub.status.busy": "2022-08-02T20:09:45.457804Z",
     "iopub.status.idle": "2022-08-02T20:09:45.477991Z",
     "shell.execute_reply": "2022-08-02T20:09:45.477506Z"
    },
    "papermill": {
     "duration": 0.041224,
     "end_time": "2022-08-02T20:09:45.479404",
     "exception": false,
     "start_time": "2022-08-02T20:09:45.438180",
     "status": "completed"
    },
    "tags": []
   },
   "outputs": [
    {
     "data": {
      "text/plain": [
       "'Cohort name: 1000g_eur'"
      ]
     },
     "metadata": {},
     "output_type": "display_data"
    }
   ],
   "source": [
    "assert COHORT_NAME is not None and len(COHORT_NAME) > 0, \"A cohort name must be given\"\n",
    "\n",
    "COHORT_NAME = COHORT_NAME.lower()\n",
    "display(f\"Cohort name: {COHORT_NAME}\")"
   ]
  },
  {
   "cell_type": "code",
   "execution_count": 6,
   "id": "f53ba19b-0f93-4fa2-a047-63b375939d1a",
   "metadata": {
    "execution": {
     "iopub.execute_input": "2022-08-02T20:09:45.516210Z",
     "iopub.status.busy": "2022-08-02T20:09:45.516022Z",
     "iopub.status.idle": "2022-08-02T20:09:45.530946Z",
     "shell.execute_reply": "2022-08-02T20:09:45.530459Z"
    },
    "papermill": {
     "duration": 0.035163,
     "end_time": "2022-08-02T20:09:45.532346",
     "exception": false,
     "start_time": "2022-08-02T20:09:45.497183",
     "status": "completed"
    },
    "tags": []
   },
   "outputs": [
    {
     "data": {
      "text/plain": [
       "'Reference panel: GTEX_V8'"
      ]
     },
     "metadata": {},
     "output_type": "display_data"
    }
   ],
   "source": [
    "assert (\n",
    "    REFERENCE_PANEL is not None and len(REFERENCE_PANEL) > 0\n",
    "), \"A reference panel must be given\"\n",
    "\n",
    "display(f\"Reference panel: {REFERENCE_PANEL}\")"
   ]
  },
  {
   "cell_type": "code",
   "execution_count": 7,
   "id": "7a970044-2d34-4e5b-a850-eff44079afe8",
   "metadata": {
    "execution": {
     "iopub.execute_input": "2022-08-02T20:09:45.569649Z",
     "iopub.status.busy": "2022-08-02T20:09:45.569455Z",
     "iopub.status.idle": "2022-08-02T20:09:45.585606Z",
     "shell.execute_reply": "2022-08-02T20:09:45.585033Z"
    },
    "papermill": {
     "duration": 0.03683,
     "end_time": "2022-08-02T20:09:45.587104",
     "exception": false,
     "start_time": "2022-08-02T20:09:45.550274",
     "status": "completed"
    },
    "tags": []
   },
   "outputs": [
    {
     "data": {
      "text/plain": [
       "'GWAS file path: /project/ritchie20/projects/phenoplier/base/results/gls/null_sims/final_imputed_gwas/random.pheno0.glm-imputed.txt.gz'"
      ]
     },
     "metadata": {},
     "output_type": "display_data"
    }
   ],
   "source": [
    "assert GWAS_FILE is not None and len(GWAS_FILE) > 0, \"A GWAS file path must be given\"\n",
    "GWAS_FILE = Path(GWAS_FILE).resolve()\n",
    "assert GWAS_FILE.exists(), \"GWAS file does not exist\"\n",
    "\n",
    "display(f\"GWAS file path: {str(GWAS_FILE)}\")"
   ]
  },
  {
   "cell_type": "code",
   "execution_count": 8,
   "id": "552a7f63-a18c-4d3e-bb6a-94f99b431291",
   "metadata": {
    "execution": {
     "iopub.execute_input": "2022-08-02T20:09:45.624322Z",
     "iopub.status.busy": "2022-08-02T20:09:45.624136Z",
     "iopub.status.idle": "2022-08-02T20:09:45.640117Z",
     "shell.execute_reply": "2022-08-02T20:09:45.639640Z"
    },
    "papermill": {
     "duration": 0.036462,
     "end_time": "2022-08-02T20:09:45.641564",
     "exception": false,
     "start_time": "2022-08-02T20:09:45.605102",
     "status": "completed"
    },
    "tags": []
   },
   "outputs": [
    {
     "data": {
      "text/plain": [
       "'S-PrediXcan folder path: /project/ritchie20/projects/phenoplier/base/results/gls/null_sims/twas/spredixcan'"
      ]
     },
     "metadata": {},
     "output_type": "display_data"
    }
   ],
   "source": [
    "assert (\n",
    "    SPREDIXCAN_FOLDER is not None and len(SPREDIXCAN_FOLDER) > 0\n",
    "), \"An S-PrediXcan folder path must be given\"\n",
    "SPREDIXCAN_FOLDER = Path(SPREDIXCAN_FOLDER).resolve()\n",
    "assert SPREDIXCAN_FOLDER.exists(), \"S-PrediXcan folder does not exist\"\n",
    "\n",
    "display(f\"S-PrediXcan folder path: {str(SPREDIXCAN_FOLDER)}\")"
   ]
  },
  {
   "cell_type": "code",
   "execution_count": 9,
   "id": "6e2000dc-f1dc-4db8-93d5-9a7209a2e121",
   "metadata": {
    "execution": {
     "iopub.execute_input": "2022-08-02T20:09:45.679977Z",
     "iopub.status.busy": "2022-08-02T20:09:45.679774Z",
     "iopub.status.idle": "2022-08-02T20:09:45.695065Z",
     "shell.execute_reply": "2022-08-02T20:09:45.694587Z"
    },
    "papermill": {
     "duration": 0.036296,
     "end_time": "2022-08-02T20:09:45.696457",
     "exception": false,
     "start_time": "2022-08-02T20:09:45.660161",
     "status": "completed"
    },
    "tags": []
   },
   "outputs": [
    {
     "data": {
      "text/plain": [
       "'S-PrediXcan file template: random.pheno0-gtex_v8-mashr-{tissue}.csv'"
      ]
     },
     "metadata": {},
     "output_type": "display_data"
    }
   ],
   "source": [
    "assert (\n",
    "    SPREDIXCAN_FILE_PATTERN is not None and len(SPREDIXCAN_FILE_PATTERN) > 0\n",
    "), \"An S-PrediXcan file pattern must be given\"\n",
    "assert (\n",
    "    \"{tissue}\" in SPREDIXCAN_FILE_PATTERN\n",
    "), \"S-PrediXcan file pattern must have a '{tissue}' placeholder\"\n",
    "\n",
    "display(f\"S-PrediXcan file template: {SPREDIXCAN_FILE_PATTERN}\")"
   ]
  },
  {
   "cell_type": "code",
   "execution_count": 10,
   "id": "f5a5aa9d-c6f3-4fb5-9351-37382b6e67bc",
   "metadata": {
    "execution": {
     "iopub.execute_input": "2022-08-02T20:09:45.735236Z",
     "iopub.status.busy": "2022-08-02T20:09:45.735049Z",
     "iopub.status.idle": "2022-08-02T20:09:45.751267Z",
     "shell.execute_reply": "2022-08-02T20:09:45.750666Z"
    },
    "papermill": {
     "duration": 0.037122,
     "end_time": "2022-08-02T20:09:45.752769",
     "exception": false,
     "start_time": "2022-08-02T20:09:45.715647",
     "status": "completed"
    },
    "tags": []
   },
   "outputs": [
    {
     "data": {
      "text/plain": [
       "'S-MultiXcan file path: /project/ritchie20/projects/phenoplier/base/results/gls/null_sims/twas/smultixcan/random.pheno0-gtex_v8-mashr-smultixcan.txt'"
      ]
     },
     "metadata": {},
     "output_type": "display_data"
    }
   ],
   "source": [
    "assert (\n",
    "    SMULTIXCAN_FILE is not None and len(SMULTIXCAN_FILE) > 0\n",
    "), \"An S-MultiXcan result file path must be given\"\n",
    "SMULTIXCAN_FILE = Path(SMULTIXCAN_FILE).resolve()\n",
    "assert SMULTIXCAN_FILE.exists(), \"S-MultiXcan result file does not exist\"\n",
    "\n",
    "display(f\"S-MultiXcan file path: {str(SMULTIXCAN_FILE)}\")"
   ]
  },
  {
   "cell_type": "code",
   "execution_count": 11,
   "id": "0723dc2f-34d1-407c-a55b-d6d13c55d63d",
   "metadata": {
    "execution": {
     "iopub.execute_input": "2022-08-02T20:09:45.791475Z",
     "iopub.status.busy": "2022-08-02T20:09:45.791288Z",
     "iopub.status.idle": "2022-08-02T20:09:45.806230Z",
     "shell.execute_reply": "2022-08-02T20:09:45.805755Z"
    },
    "papermill": {
     "duration": 0.036215,
     "end_time": "2022-08-02T20:09:45.807630",
     "exception": false,
     "start_time": "2022-08-02T20:09:45.771415",
     "status": "completed"
    },
    "tags": []
   },
   "outputs": [
    {
     "data": {
      "text/plain": [
       "'eQTL model: MASHR'"
      ]
     },
     "metadata": {},
     "output_type": "display_data"
    }
   ],
   "source": [
    "assert (\n",
    "    EQTL_MODEL is not None and len(EQTL_MODEL) > 0\n",
    "), \"A prediction/eQTL model must be given\"\n",
    "\n",
    "display(f\"eQTL model: {EQTL_MODEL}\")"
   ]
  },
  {
   "cell_type": "code",
   "execution_count": 12,
   "id": "396392dc-0340-4540-9b02-e182b833f909",
   "metadata": {
    "execution": {
     "iopub.execute_input": "2022-08-02T20:09:45.845897Z",
     "iopub.status.busy": "2022-08-02T20:09:45.845690Z",
     "iopub.status.idle": "2022-08-02T20:09:45.862769Z",
     "shell.execute_reply": "2022-08-02T20:09:45.862287Z"
    },
    "papermill": {
     "duration": 0.038208,
     "end_time": "2022-08-02T20:09:45.864206",
     "exception": false,
     "start_time": "2022-08-02T20:09:45.825998",
     "status": "completed"
    },
    "tags": []
   },
   "outputs": [
    {
     "data": {
      "text/plain": [
       "'Using output dir base: /project/ritchie20/projects/phenoplier/base/results/gls/gene_corrs/cohorts/1000g_eur/gtex_v8/mashr'"
      ]
     },
     "metadata": {},
     "output_type": "display_data"
    }
   ],
   "source": [
    "OUTPUT_DIR_BASE = (\n",
    "    conf.RESULTS[\"GLS\"]\n",
    "    / \"gene_corrs\"\n",
    "    / \"cohorts\"\n",
    "    / COHORT_NAME\n",
    "    / REFERENCE_PANEL.lower()\n",
    "    / EQTL_MODEL.lower()\n",
    ")\n",
    "\n",
    "OUTPUT_DIR_BASE.mkdir(parents=True, exist_ok=True)\n",
    "\n",
    "display(f\"Using output dir base: {OUTPUT_DIR_BASE}\")"
   ]
  },
  {
   "cell_type": "markdown",
   "id": "b6ebb422-8204-494b-8c72-360a71ce9863",
   "metadata": {
    "papermill": {
     "duration": 0.018832,
     "end_time": "2022-08-02T20:09:45.901666",
     "exception": false,
     "start_time": "2022-08-02T20:09:45.882834",
     "status": "completed"
    },
    "tags": []
   },
   "source": [
    "# Load MultiPLIER Z genes"
   ]
  },
  {
   "cell_type": "code",
   "execution_count": 13,
   "id": "c48ef527",
   "metadata": {
    "execution": {
     "iopub.execute_input": "2022-08-02T20:09:45.940067Z",
     "iopub.status.busy": "2022-08-02T20:09:45.939879Z",
     "iopub.status.idle": "2022-08-02T20:09:46.019673Z",
     "shell.execute_reply": "2022-08-02T20:09:46.019100Z"
    },
    "papermill": {
     "duration": 0.101203,
     "end_time": "2022-08-02T20:09:46.021574",
     "exception": false,
     "start_time": "2022-08-02T20:09:45.920371",
     "status": "completed"
    },
    "tags": []
   },
   "outputs": [],
   "source": [
    "multiplier_z_genes = pd.read_pickle(\n",
    "    conf.MULTIPLIER[\"MODEL_Z_MATRIX_FILE\"]\n",
    ").index.tolist()"
   ]
  },
  {
   "cell_type": "code",
   "execution_count": 14,
   "id": "0a4ecbd9",
   "metadata": {
    "execution": {
     "iopub.execute_input": "2022-08-02T20:09:46.063411Z",
     "iopub.status.busy": "2022-08-02T20:09:46.063216Z",
     "iopub.status.idle": "2022-08-02T20:09:46.081037Z",
     "shell.execute_reply": "2022-08-02T20:09:46.080552Z"
    },
    "papermill": {
     "duration": 0.039493,
     "end_time": "2022-08-02T20:09:46.082548",
     "exception": false,
     "start_time": "2022-08-02T20:09:46.043055",
     "status": "completed"
    },
    "tags": []
   },
   "outputs": [
    {
     "data": {
      "text/plain": [
       "6750"
      ]
     },
     "execution_count": 14,
     "metadata": {},
     "output_type": "execute_result"
    }
   ],
   "source": [
    "len(multiplier_z_genes)"
   ]
  },
  {
   "cell_type": "code",
   "execution_count": 15,
   "id": "a18ce359-0759-4260-ae6f-053e8c0041b7",
   "metadata": {
    "execution": {
     "iopub.execute_input": "2022-08-02T20:09:46.121340Z",
     "iopub.status.busy": "2022-08-02T20:09:46.121151Z",
     "iopub.status.idle": "2022-08-02T20:09:46.135027Z",
     "shell.execute_reply": "2022-08-02T20:09:46.134549Z"
    },
    "papermill": {
     "duration": 0.0352,
     "end_time": "2022-08-02T20:09:46.136560",
     "exception": false,
     "start_time": "2022-08-02T20:09:46.101360",
     "status": "completed"
    },
    "tags": []
   },
   "outputs": [],
   "source": [
    "assert len(multiplier_z_genes) == len(set(multiplier_z_genes))"
   ]
  },
  {
   "cell_type": "code",
   "execution_count": 16,
   "id": "115e8864",
   "metadata": {
    "execution": {
     "iopub.execute_input": "2022-08-02T20:09:46.175807Z",
     "iopub.status.busy": "2022-08-02T20:09:46.175611Z",
     "iopub.status.idle": "2022-08-02T20:09:46.190470Z",
     "shell.execute_reply": "2022-08-02T20:09:46.189994Z"
    },
    "papermill": {
     "duration": 0.036351,
     "end_time": "2022-08-02T20:09:46.191876",
     "exception": false,
     "start_time": "2022-08-02T20:09:46.155525",
     "status": "completed"
    },
    "tags": []
   },
   "outputs": [
    {
     "data": {
      "text/plain": [
       "['GAS6', 'MMP14', 'DSP', 'MARCKSL1', 'SPARC']"
      ]
     },
     "execution_count": 16,
     "metadata": {},
     "output_type": "execute_result"
    }
   ],
   "source": [
    "multiplier_z_genes[:5]"
   ]
  },
  {
   "cell_type": "markdown",
   "id": "7bed0ce0-e7c7-4300-9a61-5412450b1904",
   "metadata": {
    "papermill": {
     "duration": 0.019224,
     "end_time": "2022-08-02T20:09:46.230166",
     "exception": false,
     "start_time": "2022-08-02T20:09:46.210942",
     "status": "completed"
    },
    "tags": []
   },
   "source": [
    "# GWAS"
   ]
  },
  {
   "cell_type": "code",
   "execution_count": 17,
   "id": "331e5691-c014-43e4-b94c-060c64d329df",
   "metadata": {
    "execution": {
     "iopub.execute_input": "2022-08-02T20:09:46.270035Z",
     "iopub.status.busy": "2022-08-02T20:09:46.269848Z",
     "iopub.status.idle": "2022-08-02T20:09:46.293030Z",
     "shell.execute_reply": "2022-08-02T20:09:46.292549Z"
    },
    "papermill": {
     "duration": 0.044929,
     "end_time": "2022-08-02T20:09:46.294589",
     "exception": false,
     "start_time": "2022-08-02T20:09:46.249660",
     "status": "completed"
    },
    "tags": []
   },
   "outputs": [],
   "source": [
    "gwas_file_columns = pd.read_csv(GWAS_FILE, sep=\"\\t\", nrows=2).columns\n",
    "assert (\n",
    "    \"panel_variant_id\" in gwas_file_columns\n",
    "), \"GWAS file must be final imputed one with column 'panel_variant_id'\"\n",
    "# FIXME: add other needed columns here"
   ]
  },
  {
   "cell_type": "code",
   "execution_count": 18,
   "id": "8d419629-8f4d-4c83-bed3-cfc071a58090",
   "metadata": {
    "execution": {
     "iopub.execute_input": "2022-08-02T20:09:46.333801Z",
     "iopub.status.busy": "2022-08-02T20:09:46.333605Z",
     "iopub.status.idle": "2022-08-02T20:09:58.508919Z",
     "shell.execute_reply": "2022-08-02T20:09:58.508101Z"
    },
    "papermill": {
     "duration": 12.19728,
     "end_time": "2022-08-02T20:09:58.510955",
     "exception": false,
     "start_time": "2022-08-02T20:09:46.313675",
     "status": "completed"
    },
    "tags": []
   },
   "outputs": [],
   "source": [
    "gwas_data = pd.read_csv(\n",
    "    GWAS_FILE,\n",
    "    sep=\"\\t\",\n",
    "    usecols=[\"panel_variant_id\", \"pvalue\", \"zscore\", \"imputation_status\"],\n",
    ")"
   ]
  },
  {
   "cell_type": "code",
   "execution_count": 19,
   "id": "3f4e814e-6b41-407e-9099-86795eec6ed9",
   "metadata": {
    "execution": {
     "iopub.execute_input": "2022-08-02T20:09:58.553049Z",
     "iopub.status.busy": "2022-08-02T20:09:58.552837Z",
     "iopub.status.idle": "2022-08-02T20:09:58.573354Z",
     "shell.execute_reply": "2022-08-02T20:09:58.572799Z"
    },
    "papermill": {
     "duration": 0.042876,
     "end_time": "2022-08-02T20:09:58.574762",
     "exception": false,
     "start_time": "2022-08-02T20:09:58.531886",
     "status": "completed"
    },
    "tags": []
   },
   "outputs": [
    {
     "data": {
      "text/plain": [
       "(8325729, 4)"
      ]
     },
     "execution_count": 19,
     "metadata": {},
     "output_type": "execute_result"
    }
   ],
   "source": [
    "gwas_data.shape"
   ]
  },
  {
   "cell_type": "code",
   "execution_count": 20,
   "id": "b4a906e9-c80a-47fc-9d73-5adb046f8b76",
   "metadata": {
    "execution": {
     "iopub.execute_input": "2022-08-02T20:09:58.614123Z",
     "iopub.status.busy": "2022-08-02T20:09:58.613937Z",
     "iopub.status.idle": "2022-08-02T20:09:58.635550Z",
     "shell.execute_reply": "2022-08-02T20:09:58.634831Z"
    },
    "papermill": {
     "duration": 0.043039,
     "end_time": "2022-08-02T20:09:58.637057",
     "exception": false,
     "start_time": "2022-08-02T20:09:58.594018",
     "status": "completed"
    },
    "tags": []
   },
   "outputs": [
    {
     "data": {
      "text/html": [
       "<div>\n",
       "<style scoped>\n",
       "    .dataframe tbody tr th:only-of-type {\n",
       "        vertical-align: middle;\n",
       "    }\n",
       "\n",
       "    .dataframe tbody tr th {\n",
       "        vertical-align: top;\n",
       "    }\n",
       "\n",
       "    .dataframe thead th {\n",
       "        text-align: right;\n",
       "    }\n",
       "</style>\n",
       "<table border=\"1\" class=\"dataframe\">\n",
       "  <thead>\n",
       "    <tr style=\"text-align: right;\">\n",
       "      <th></th>\n",
       "      <th>panel_variant_id</th>\n",
       "      <th>zscore</th>\n",
       "      <th>pvalue</th>\n",
       "      <th>imputation_status</th>\n",
       "    </tr>\n",
       "  </thead>\n",
       "  <tbody>\n",
       "    <tr>\n",
       "      <th>0</th>\n",
       "      <td>chr1_54490_G_A_b38</td>\n",
       "      <td>1.567452</td>\n",
       "      <td>0.117009</td>\n",
       "      <td>original</td>\n",
       "    </tr>\n",
       "    <tr>\n",
       "      <th>1</th>\n",
       "      <td>chr1_87021_T_C_b38</td>\n",
       "      <td>0.244372</td>\n",
       "      <td>0.806943</td>\n",
       "      <td>imputed</td>\n",
       "    </tr>\n",
       "    <tr>\n",
       "      <th>2</th>\n",
       "      <td>chr1_263722_C_G_b38</td>\n",
       "      <td>1.155239</td>\n",
       "      <td>0.247993</td>\n",
       "      <td>imputed</td>\n",
       "    </tr>\n",
       "    <tr>\n",
       "      <th>3</th>\n",
       "      <td>chr1_594402_C_T_b38</td>\n",
       "      <td>0.851234</td>\n",
       "      <td>0.394639</td>\n",
       "      <td>imputed</td>\n",
       "    </tr>\n",
       "    <tr>\n",
       "      <th>4</th>\n",
       "      <td>chr1_630555_C_T_b38</td>\n",
       "      <td>0.855129</td>\n",
       "      <td>0.392480</td>\n",
       "      <td>imputed</td>\n",
       "    </tr>\n",
       "  </tbody>\n",
       "</table>\n",
       "</div>"
      ],
      "text/plain": [
       "      panel_variant_id    zscore    pvalue imputation_status\n",
       "0   chr1_54490_G_A_b38  1.567452  0.117009          original\n",
       "1   chr1_87021_T_C_b38  0.244372  0.806943           imputed\n",
       "2  chr1_263722_C_G_b38  1.155239  0.247993           imputed\n",
       "3  chr1_594402_C_T_b38  0.851234  0.394639           imputed\n",
       "4  chr1_630555_C_T_b38  0.855129  0.392480           imputed"
      ]
     },
     "execution_count": 20,
     "metadata": {},
     "output_type": "execute_result"
    }
   ],
   "source": [
    "gwas_data.head()"
   ]
  },
  {
   "cell_type": "code",
   "execution_count": 21,
   "id": "346e2f88-44c6-4067-8752-118e2491f6fa",
   "metadata": {
    "execution": {
     "iopub.execute_input": "2022-08-02T20:09:58.678159Z",
     "iopub.status.busy": "2022-08-02T20:09:58.677971Z",
     "iopub.status.idle": "2022-08-02T20:09:59.045785Z",
     "shell.execute_reply": "2022-08-02T20:09:59.045255Z"
    },
    "papermill": {
     "duration": 0.390371,
     "end_time": "2022-08-02T20:09:59.047280",
     "exception": false,
     "start_time": "2022-08-02T20:09:58.656909",
     "status": "completed"
    },
    "tags": []
   },
   "outputs": [
    {
     "data": {
      "text/plain": [
       "array(['original', 'imputed'], dtype=object)"
      ]
     },
     "execution_count": 21,
     "metadata": {},
     "output_type": "execute_result"
    }
   ],
   "source": [
    "gwas_data[\"imputation_status\"].unique()"
   ]
  },
  {
   "cell_type": "code",
   "execution_count": 22,
   "id": "033c24fb-9c60-4ffd-929e-b0e6089820ae",
   "metadata": {
    "execution": {
     "iopub.execute_input": "2022-08-02T20:09:59.089109Z",
     "iopub.status.busy": "2022-08-02T20:09:59.088915Z",
     "iopub.status.idle": "2022-08-02T20:10:00.114784Z",
     "shell.execute_reply": "2022-08-02T20:10:00.114254Z"
    },
    "papermill": {
     "duration": 1.048474,
     "end_time": "2022-08-02T20:10:00.116284",
     "exception": false,
     "start_time": "2022-08-02T20:09:59.067810",
     "status": "completed"
    },
    "tags": []
   },
   "outputs": [
    {
     "data": {
      "text/plain": [
       "(8325729, 4)"
      ]
     },
     "execution_count": 22,
     "metadata": {},
     "output_type": "execute_result"
    }
   ],
   "source": [
    "gwas_data.dropna().shape"
   ]
  },
  {
   "cell_type": "code",
   "execution_count": 23,
   "id": "28232ce5-0afd-464e-9be3-64c3a68c2b25",
   "metadata": {
    "execution": {
     "iopub.execute_input": "2022-08-02T20:10:00.158165Z",
     "iopub.status.busy": "2022-08-02T20:10:00.157972Z",
     "iopub.status.idle": "2022-08-02T20:10:01.113781Z",
     "shell.execute_reply": "2022-08-02T20:10:01.113205Z"
    },
    "papermill": {
     "duration": 0.978838,
     "end_time": "2022-08-02T20:10:01.115619",
     "exception": false,
     "start_time": "2022-08-02T20:10:00.136781",
     "status": "completed"
    },
    "tags": []
   },
   "outputs": [],
   "source": [
    "# remove SNPs with no results\n",
    "gwas_data = gwas_data.dropna()"
   ]
  },
  {
   "cell_type": "code",
   "execution_count": 24,
   "id": "d9a6c31f-eedd-43e5-b762-5a9663be1b77",
   "metadata": {
    "execution": {
     "iopub.execute_input": "2022-08-02T20:10:01.165262Z",
     "iopub.status.busy": "2022-08-02T20:10:01.165018Z",
     "iopub.status.idle": "2022-08-02T20:10:01.182627Z",
     "shell.execute_reply": "2022-08-02T20:10:01.182128Z"
    },
    "papermill": {
     "duration": 0.044154,
     "end_time": "2022-08-02T20:10:01.184124",
     "exception": false,
     "start_time": "2022-08-02T20:10:01.139970",
     "status": "completed"
    },
    "tags": []
   },
   "outputs": [
    {
     "data": {
      "text/plain": [
       "(8325729, 4)"
      ]
     },
     "execution_count": 24,
     "metadata": {},
     "output_type": "execute_result"
    }
   ],
   "source": [
    "gwas_data.shape"
   ]
  },
  {
   "cell_type": "markdown",
   "id": "8da344de-2aa5-48a9-98ec-e8c3397ae7e6",
   "metadata": {
    "papermill": {
     "duration": 0.021411,
     "end_time": "2022-08-02T20:10:01.226081",
     "exception": false,
     "start_time": "2022-08-02T20:10:01.204670",
     "status": "completed"
    },
    "tags": []
   },
   "source": [
    "## Save GWAS variants"
   ]
  },
  {
   "cell_type": "code",
   "execution_count": 25,
   "id": "ac11fb33-ea3c-4d5c-a90b-0ceebdac43d3",
   "metadata": {
    "execution": {
     "iopub.execute_input": "2022-08-02T20:10:01.268235Z",
     "iopub.status.busy": "2022-08-02T20:10:01.268047Z",
     "iopub.status.idle": "2022-08-02T20:10:01.286837Z",
     "shell.execute_reply": "2022-08-02T20:10:01.286357Z"
    },
    "papermill": {
     "duration": 0.041503,
     "end_time": "2022-08-02T20:10:01.288237",
     "exception": false,
     "start_time": "2022-08-02T20:10:01.246734",
     "status": "completed"
    },
    "tags": []
   },
   "outputs": [
    {
     "data": {
      "text/html": [
       "<div>\n",
       "<style scoped>\n",
       "    .dataframe tbody tr th:only-of-type {\n",
       "        vertical-align: middle;\n",
       "    }\n",
       "\n",
       "    .dataframe tbody tr th {\n",
       "        vertical-align: top;\n",
       "    }\n",
       "\n",
       "    .dataframe thead th {\n",
       "        text-align: right;\n",
       "    }\n",
       "</style>\n",
       "<table border=\"1\" class=\"dataframe\">\n",
       "  <thead>\n",
       "    <tr style=\"text-align: right;\">\n",
       "      <th></th>\n",
       "      <th>panel_variant_id</th>\n",
       "      <th>zscore</th>\n",
       "      <th>pvalue</th>\n",
       "      <th>imputation_status</th>\n",
       "    </tr>\n",
       "  </thead>\n",
       "  <tbody>\n",
       "    <tr>\n",
       "      <th>0</th>\n",
       "      <td>chr1_54490_G_A_b38</td>\n",
       "      <td>1.567452</td>\n",
       "      <td>0.117009</td>\n",
       "      <td>original</td>\n",
       "    </tr>\n",
       "    <tr>\n",
       "      <th>1</th>\n",
       "      <td>chr1_87021_T_C_b38</td>\n",
       "      <td>0.244372</td>\n",
       "      <td>0.806943</td>\n",
       "      <td>imputed</td>\n",
       "    </tr>\n",
       "    <tr>\n",
       "      <th>2</th>\n",
       "      <td>chr1_263722_C_G_b38</td>\n",
       "      <td>1.155239</td>\n",
       "      <td>0.247993</td>\n",
       "      <td>imputed</td>\n",
       "    </tr>\n",
       "    <tr>\n",
       "      <th>3</th>\n",
       "      <td>chr1_594402_C_T_b38</td>\n",
       "      <td>0.851234</td>\n",
       "      <td>0.394639</td>\n",
       "      <td>imputed</td>\n",
       "    </tr>\n",
       "    <tr>\n",
       "      <th>4</th>\n",
       "      <td>chr1_630555_C_T_b38</td>\n",
       "      <td>0.855129</td>\n",
       "      <td>0.392480</td>\n",
       "      <td>imputed</td>\n",
       "    </tr>\n",
       "  </tbody>\n",
       "</table>\n",
       "</div>"
      ],
      "text/plain": [
       "      panel_variant_id    zscore    pvalue imputation_status\n",
       "0   chr1_54490_G_A_b38  1.567452  0.117009          original\n",
       "1   chr1_87021_T_C_b38  0.244372  0.806943           imputed\n",
       "2  chr1_263722_C_G_b38  1.155239  0.247993           imputed\n",
       "3  chr1_594402_C_T_b38  0.851234  0.394639           imputed\n",
       "4  chr1_630555_C_T_b38  0.855129  0.392480           imputed"
      ]
     },
     "execution_count": 25,
     "metadata": {},
     "output_type": "execute_result"
    }
   ],
   "source": [
    "gwas_data.head()"
   ]
  },
  {
   "cell_type": "code",
   "execution_count": 26,
   "id": "5f34bb3d-761a-4860-a179-77ea5f5784ad",
   "metadata": {
    "execution": {
     "iopub.execute_input": "2022-08-02T20:10:01.330158Z",
     "iopub.status.busy": "2022-08-02T20:10:01.329971Z",
     "iopub.status.idle": "2022-08-02T20:10:05.202460Z",
     "shell.execute_reply": "2022-08-02T20:10:05.201883Z"
    },
    "papermill": {
     "duration": 3.895789,
     "end_time": "2022-08-02T20:10:05.204405",
     "exception": false,
     "start_time": "2022-08-02T20:10:01.308616",
     "status": "completed"
    },
    "tags": []
   },
   "outputs": [],
   "source": [
    "assert gwas_data[\"panel_variant_id\"].is_unique"
   ]
  },
  {
   "cell_type": "code",
   "execution_count": 27,
   "id": "d4f23b2f-01a3-4a45-a2b6-31b245b5778e",
   "metadata": {
    "execution": {
     "iopub.execute_input": "2022-08-02T20:10:05.247123Z",
     "iopub.status.busy": "2022-08-02T20:10:05.246925Z",
     "iopub.status.idle": "2022-08-02T20:10:07.561207Z",
     "shell.execute_reply": "2022-08-02T20:10:07.560647Z"
    },
    "papermill": {
     "duration": 2.33759,
     "end_time": "2022-08-02T20:10:07.562814",
     "exception": false,
     "start_time": "2022-08-02T20:10:05.225224",
     "status": "completed"
    },
    "tags": []
   },
   "outputs": [
    {
     "data": {
      "text/plain": [
       "['chr1_19003051_C_T_b38',\n",
       " 'chr15_49942423_A_G_b38',\n",
       " 'chr7_121912537_C_T_b38',\n",
       " 'chr2_11551980_A_C_b38',\n",
       " 'chr9_26275642_A_C_b38']"
      ]
     },
     "execution_count": 27,
     "metadata": {},
     "output_type": "execute_result"
    }
   ],
   "source": [
    "gwas_variants_ids_set = frozenset(gwas_data[\"panel_variant_id\"])\n",
    "list(gwas_variants_ids_set)[:5]"
   ]
  },
  {
   "cell_type": "code",
   "execution_count": 28,
   "id": "b4a441df-07d7-48dc-be36-cdb3f92be651",
   "metadata": {
    "execution": {
     "iopub.execute_input": "2022-08-02T20:10:07.605955Z",
     "iopub.status.busy": "2022-08-02T20:10:07.605742Z",
     "iopub.status.idle": "2022-08-02T20:10:10.416879Z",
     "shell.execute_reply": "2022-08-02T20:10:10.416089Z"
    },
    "papermill": {
     "duration": 2.834338,
     "end_time": "2022-08-02T20:10:10.418706",
     "exception": false,
     "start_time": "2022-08-02T20:10:07.584368",
     "status": "completed"
    },
    "tags": []
   },
   "outputs": [],
   "source": [
    "with open(OUTPUT_DIR_BASE / \"gwas_variant_ids.pkl\", \"wb\") as handle:\n",
    "    pickle.dump(gwas_variants_ids_set, handle, protocol=pickle.HIGHEST_PROTOCOL)"
   ]
  },
  {
   "cell_type": "markdown",
   "id": "abcc4b3d",
   "metadata": {
    "papermill": {
     "duration": 0.020682,
     "end_time": "2022-08-02T20:10:10.460818",
     "exception": false,
     "start_time": "2022-08-02T20:10:10.440136",
     "status": "completed"
    },
    "tags": []
   },
   "source": [
    "# TWAS"
   ]
  },
  {
   "cell_type": "markdown",
   "id": "2fbc7358-0563-4fc6-bc47-a0fbcc5cdfd4",
   "metadata": {
    "papermill": {
     "duration": 0.020896,
     "end_time": "2022-08-02T20:10:10.502052",
     "exception": false,
     "start_time": "2022-08-02T20:10:10.481156",
     "status": "completed"
    },
    "tags": []
   },
   "source": [
    "## Available tissues for eQTL model"
   ]
  },
  {
   "cell_type": "code",
   "execution_count": 29,
   "id": "f32c0a84-030a-436b-b597-852b6150d2ac",
   "metadata": {
    "execution": {
     "iopub.execute_input": "2022-08-02T20:10:10.544043Z",
     "iopub.status.busy": "2022-08-02T20:10:10.543803Z",
     "iopub.status.idle": "2022-08-02T20:10:10.559065Z",
     "shell.execute_reply": "2022-08-02T20:10:10.558556Z"
    },
    "papermill": {
     "duration": 0.038314,
     "end_time": "2022-08-02T20:10:10.560590",
     "exception": false,
     "start_time": "2022-08-02T20:10:10.522276",
     "status": "completed"
    },
    "tags": []
   },
   "outputs": [],
   "source": [
    "prediction_model_tissues = conf.PHENOMEXCAN[\"PREDICTION_MODELS\"][\n",
    "    f\"{EQTL_MODEL}_TISSUES\"\n",
    "].split(\" \")"
   ]
  },
  {
   "cell_type": "code",
   "execution_count": 30,
   "id": "0e760d0e-f23d-4590-abfb-811a43f7c237",
   "metadata": {
    "execution": {
     "iopub.execute_input": "2022-08-02T20:10:10.602665Z",
     "iopub.status.busy": "2022-08-02T20:10:10.602467Z",
     "iopub.status.idle": "2022-08-02T20:10:10.618507Z",
     "shell.execute_reply": "2022-08-02T20:10:10.618027Z"
    },
    "papermill": {
     "duration": 0.039789,
     "end_time": "2022-08-02T20:10:10.619963",
     "exception": false,
     "start_time": "2022-08-02T20:10:10.580174",
     "status": "completed"
    },
    "tags": []
   },
   "outputs": [
    {
     "data": {
      "text/plain": [
       "49"
      ]
     },
     "execution_count": 30,
     "metadata": {},
     "output_type": "execute_result"
    }
   ],
   "source": [
    "len(prediction_model_tissues)"
   ]
  },
  {
   "cell_type": "code",
   "execution_count": 31,
   "id": "fa4d942c-cd67-4b31-9491-585c887c0ee3",
   "metadata": {
    "execution": {
     "iopub.execute_input": "2022-08-02T20:10:10.678256Z",
     "iopub.status.busy": "2022-08-02T20:10:10.678069Z",
     "iopub.status.idle": "2022-08-02T20:10:10.692911Z",
     "shell.execute_reply": "2022-08-02T20:10:10.692430Z"
    },
    "papermill": {
     "duration": 0.049154,
     "end_time": "2022-08-02T20:10:10.694311",
     "exception": false,
     "start_time": "2022-08-02T20:10:10.645157",
     "status": "completed"
    },
    "tags": []
   },
   "outputs": [
    {
     "data": {
      "text/plain": [
       "['Whole_Blood',\n",
       " 'Brain_Hypothalamus',\n",
       " 'Brain_Amygdala',\n",
       " 'Brain_Nucleus_accumbens_basal_ganglia',\n",
       " 'Artery_Coronary']"
      ]
     },
     "execution_count": 31,
     "metadata": {},
     "output_type": "execute_result"
    }
   ],
   "source": [
    "prediction_model_tissues[:5]"
   ]
  },
  {
   "cell_type": "markdown",
   "id": "fab4814d-757c-4247-b5e4-891bc4863db7",
   "metadata": {
    "papermill": {
     "duration": 0.021661,
     "end_time": "2022-08-02T20:10:10.738566",
     "exception": false,
     "start_time": "2022-08-02T20:10:10.716905",
     "status": "completed"
    },
    "tags": []
   },
   "source": [
    "## S-MultiXcan results"
   ]
  },
  {
   "cell_type": "code",
   "execution_count": 32,
   "id": "2b73c11e-9aa2-410e-84b4-a70be34d02e4",
   "metadata": {
    "execution": {
     "iopub.execute_input": "2022-08-02T20:10:10.783167Z",
     "iopub.status.busy": "2022-08-02T20:10:10.782978Z",
     "iopub.status.idle": "2022-08-02T20:10:10.842990Z",
     "shell.execute_reply": "2022-08-02T20:10:10.842400Z"
    },
    "papermill": {
     "duration": 0.085112,
     "end_time": "2022-08-02T20:10:10.844886",
     "exception": false,
     "start_time": "2022-08-02T20:10:10.759774",
     "status": "completed"
    },
    "tags": []
   },
   "outputs": [],
   "source": [
    "smultixcan_results = pd.read_csv(\n",
    "    SMULTIXCAN_FILE, sep=\"\\t\", usecols=[\"gene\", \"gene_name\", \"pvalue\", \"n\", \"n_indep\"]\n",
    ")"
   ]
  },
  {
   "cell_type": "code",
   "execution_count": 33,
   "id": "8b5abebd-baab-4188-9e3d-655ebbe32401",
   "metadata": {
    "execution": {
     "iopub.execute_input": "2022-08-02T20:10:10.888482Z",
     "iopub.status.busy": "2022-08-02T20:10:10.888283Z",
     "iopub.status.idle": "2022-08-02T20:10:10.906188Z",
     "shell.execute_reply": "2022-08-02T20:10:10.905636Z"
    },
    "papermill": {
     "duration": 0.041005,
     "end_time": "2022-08-02T20:10:10.907715",
     "exception": false,
     "start_time": "2022-08-02T20:10:10.866710",
     "status": "completed"
    },
    "tags": []
   },
   "outputs": [
    {
     "data": {
      "text/plain": [
       "(22317, 5)"
      ]
     },
     "execution_count": 33,
     "metadata": {},
     "output_type": "execute_result"
    }
   ],
   "source": [
    "smultixcan_results.shape"
   ]
  },
  {
   "cell_type": "code",
   "execution_count": 34,
   "id": "c65e233f-9ef6-4883-9386-7abf1d6d1cbd",
   "metadata": {
    "execution": {
     "iopub.execute_input": "2022-08-02T20:10:10.950957Z",
     "iopub.status.busy": "2022-08-02T20:10:10.950768Z",
     "iopub.status.idle": "2022-08-02T20:10:10.967788Z",
     "shell.execute_reply": "2022-08-02T20:10:10.967308Z"
    },
    "papermill": {
     "duration": 0.039868,
     "end_time": "2022-08-02T20:10:10.969300",
     "exception": false,
     "start_time": "2022-08-02T20:10:10.929432",
     "status": "completed"
    },
    "tags": []
   },
   "outputs": [],
   "source": [
    "smultixcan_results = smultixcan_results.dropna()"
   ]
  },
  {
   "cell_type": "code",
   "execution_count": 35,
   "id": "57d2d311-4a42-4725-9e37-b124ed13ad33",
   "metadata": {
    "execution": {
     "iopub.execute_input": "2022-08-02T20:10:11.011636Z",
     "iopub.status.busy": "2022-08-02T20:10:11.011442Z",
     "iopub.status.idle": "2022-08-02T20:10:11.416156Z",
     "shell.execute_reply": "2022-08-02T20:10:11.415633Z"
    },
    "papermill": {
     "duration": 0.427931,
     "end_time": "2022-08-02T20:10:11.417629",
     "exception": false,
     "start_time": "2022-08-02T20:10:10.989698",
     "status": "completed"
    },
    "tags": []
   },
   "outputs": [
    {
     "data": {
      "text/plain": [
       "(22314, 5)"
      ]
     },
     "execution_count": 35,
     "metadata": {},
     "output_type": "execute_result"
    }
   ],
   "source": [
    "smultixcan_results.shape"
   ]
  },
  {
   "cell_type": "code",
   "execution_count": 36,
   "id": "a36b5b59-f4b6-45bf-b241-ffc9671b357f",
   "metadata": {
    "execution": {
     "iopub.execute_input": "2022-08-02T20:10:11.461825Z",
     "iopub.status.busy": "2022-08-02T20:10:11.461621Z",
     "iopub.status.idle": "2022-08-02T20:10:11.484456Z",
     "shell.execute_reply": "2022-08-02T20:10:11.483973Z"
    },
    "papermill": {
     "duration": 0.04588,
     "end_time": "2022-08-02T20:10:11.485958",
     "exception": false,
     "start_time": "2022-08-02T20:10:11.440078",
     "status": "completed"
    },
    "tags": []
   },
   "outputs": [],
   "source": [
    "smultixcan_results = smultixcan_results.assign(\n",
    "    gene_id=smultixcan_results[\"gene\"].apply(lambda g: g.split(\".\")[0])\n",
    ")"
   ]
  },
  {
   "cell_type": "code",
   "execution_count": 37,
   "id": "c49f62a9-a01a-44af-87da-47d195b0ef7e",
   "metadata": {
    "execution": {
     "iopub.execute_input": "2022-08-02T20:10:11.538021Z",
     "iopub.status.busy": "2022-08-02T20:10:11.537817Z",
     "iopub.status.idle": "2022-08-02T20:10:11.558574Z",
     "shell.execute_reply": "2022-08-02T20:10:11.558070Z"
    },
    "papermill": {
     "duration": 0.044414,
     "end_time": "2022-08-02T20:10:11.560045",
     "exception": false,
     "start_time": "2022-08-02T20:10:11.515631",
     "status": "completed"
    },
    "tags": []
   },
   "outputs": [
    {
     "data": {
      "text/html": [
       "<div>\n",
       "<style scoped>\n",
       "    .dataframe tbody tr th:only-of-type {\n",
       "        vertical-align: middle;\n",
       "    }\n",
       "\n",
       "    .dataframe tbody tr th {\n",
       "        vertical-align: top;\n",
       "    }\n",
       "\n",
       "    .dataframe thead th {\n",
       "        text-align: right;\n",
       "    }\n",
       "</style>\n",
       "<table border=\"1\" class=\"dataframe\">\n",
       "  <thead>\n",
       "    <tr style=\"text-align: right;\">\n",
       "      <th></th>\n",
       "      <th>gene</th>\n",
       "      <th>gene_name</th>\n",
       "      <th>pvalue</th>\n",
       "      <th>n</th>\n",
       "      <th>n_indep</th>\n",
       "      <th>gene_id</th>\n",
       "    </tr>\n",
       "  </thead>\n",
       "  <tbody>\n",
       "    <tr>\n",
       "      <th>0</th>\n",
       "      <td>ENSG00000131941.7</td>\n",
       "      <td>RHPN2</td>\n",
       "      <td>0.000040</td>\n",
       "      <td>48.0</td>\n",
       "      <td>3.0</td>\n",
       "      <td>ENSG00000131941</td>\n",
       "    </tr>\n",
       "    <tr>\n",
       "      <th>1</th>\n",
       "      <td>ENSG00000076650.6</td>\n",
       "      <td>GPATCH1</td>\n",
       "      <td>0.000078</td>\n",
       "      <td>40.0</td>\n",
       "      <td>3.0</td>\n",
       "      <td>ENSG00000076650</td>\n",
       "    </tr>\n",
       "    <tr>\n",
       "      <th>2</th>\n",
       "      <td>ENSG00000100906.10</td>\n",
       "      <td>NFKBIA</td>\n",
       "      <td>0.000096</td>\n",
       "      <td>1.0</td>\n",
       "      <td>1.0</td>\n",
       "      <td>ENSG00000100906</td>\n",
       "    </tr>\n",
       "    <tr>\n",
       "      <th>3</th>\n",
       "      <td>ENSG00000136319.11</td>\n",
       "      <td>TTC5</td>\n",
       "      <td>0.000109</td>\n",
       "      <td>47.0</td>\n",
       "      <td>5.0</td>\n",
       "      <td>ENSG00000136319</td>\n",
       "    </tr>\n",
       "    <tr>\n",
       "      <th>4</th>\n",
       "      <td>ENSG00000152990.13</td>\n",
       "      <td>ADGRA3</td>\n",
       "      <td>0.000135</td>\n",
       "      <td>41.0</td>\n",
       "      <td>12.0</td>\n",
       "      <td>ENSG00000152990</td>\n",
       "    </tr>\n",
       "  </tbody>\n",
       "</table>\n",
       "</div>"
      ],
      "text/plain": [
       "                 gene gene_name    pvalue     n  n_indep          gene_id\n",
       "0   ENSG00000131941.7     RHPN2  0.000040  48.0      3.0  ENSG00000131941\n",
       "1   ENSG00000076650.6   GPATCH1  0.000078  40.0      3.0  ENSG00000076650\n",
       "2  ENSG00000100906.10    NFKBIA  0.000096   1.0      1.0  ENSG00000100906\n",
       "3  ENSG00000136319.11      TTC5  0.000109  47.0      5.0  ENSG00000136319\n",
       "4  ENSG00000152990.13    ADGRA3  0.000135  41.0     12.0  ENSG00000152990"
      ]
     },
     "execution_count": 37,
     "metadata": {},
     "output_type": "execute_result"
    }
   ],
   "source": [
    "smultixcan_results.head()"
   ]
  },
  {
   "cell_type": "code",
   "execution_count": 38,
   "id": "9c4c023c-86d6-4c4b-8d57-c2b6b93aaf84",
   "metadata": {
    "execution": {
     "iopub.execute_input": "2022-08-02T20:10:11.603850Z",
     "iopub.status.busy": "2022-08-02T20:10:11.603620Z",
     "iopub.status.idle": "2022-08-02T20:10:11.620327Z",
     "shell.execute_reply": "2022-08-02T20:10:11.619822Z"
    },
    "papermill": {
     "duration": 0.040542,
     "end_time": "2022-08-02T20:10:11.621933",
     "exception": false,
     "start_time": "2022-08-02T20:10:11.581391",
     "status": "completed"
    },
    "tags": []
   },
   "outputs": [],
   "source": [
    "assert smultixcan_results[\"gene_id\"].is_unique"
   ]
  },
  {
   "cell_type": "markdown",
   "id": "1f9939f1-4200-40d9-a8bf-8e4fd68bee48",
   "metadata": {
    "papermill": {
     "duration": 0.021731,
     "end_time": "2022-08-02T20:10:11.664738",
     "exception": false,
     "start_time": "2022-08-02T20:10:11.643007",
     "status": "completed"
    },
    "tags": []
   },
   "source": [
    "### Get common genes with MultiPLIER"
   ]
  },
  {
   "cell_type": "code",
   "execution_count": 39,
   "id": "c820e6cf-6350-45af-b49a-0abd94f570ff",
   "metadata": {
    "execution": {
     "iopub.execute_input": "2022-08-02T20:10:11.708573Z",
     "iopub.status.busy": "2022-08-02T20:10:11.708361Z",
     "iopub.status.idle": "2022-08-02T20:10:11.726454Z",
     "shell.execute_reply": "2022-08-02T20:10:11.725978Z"
    },
    "papermill": {
     "duration": 0.041888,
     "end_time": "2022-08-02T20:10:11.728058",
     "exception": false,
     "start_time": "2022-08-02T20:10:11.686170",
     "status": "completed"
    },
    "tags": []
   },
   "outputs": [],
   "source": [
    "common_genes = set(multiplier_z_genes).intersection(\n",
    "    set(smultixcan_results[\"gene_name\"])\n",
    ")"
   ]
  },
  {
   "cell_type": "code",
   "execution_count": 40,
   "id": "0a7328f9-96c7-4ac6-a9a6-ae4fa121a4cd",
   "metadata": {
    "execution": {
     "iopub.execute_input": "2022-08-02T20:10:11.772815Z",
     "iopub.status.busy": "2022-08-02T20:10:11.772613Z",
     "iopub.status.idle": "2022-08-02T20:10:11.787968Z",
     "shell.execute_reply": "2022-08-02T20:10:11.787443Z"
    },
    "papermill": {
     "duration": 0.039285,
     "end_time": "2022-08-02T20:10:11.789416",
     "exception": false,
     "start_time": "2022-08-02T20:10:11.750131",
     "status": "completed"
    },
    "tags": []
   },
   "outputs": [
    {
     "data": {
      "text/plain": [
       "6444"
      ]
     },
     "execution_count": 40,
     "metadata": {},
     "output_type": "execute_result"
    }
   ],
   "source": [
    "len(common_genes)"
   ]
  },
  {
   "cell_type": "code",
   "execution_count": 41,
   "id": "5b08d362-44c8-4db2-9258-670e2e2a9cc0",
   "metadata": {
    "execution": {
     "iopub.execute_input": "2022-08-02T20:10:11.833778Z",
     "iopub.status.busy": "2022-08-02T20:10:11.833583Z",
     "iopub.status.idle": "2022-08-02T20:10:11.851073Z",
     "shell.execute_reply": "2022-08-02T20:10:11.850573Z"
    },
    "papermill": {
     "duration": 0.041318,
     "end_time": "2022-08-02T20:10:11.852516",
     "exception": false,
     "start_time": "2022-08-02T20:10:11.811198",
     "status": "completed"
    },
    "tags": []
   },
   "outputs": [
    {
     "data": {
      "text/plain": [
       "['A2M', 'AAAS', 'AANAT', 'AARS', 'AARS2']"
      ]
     },
     "execution_count": 41,
     "metadata": {},
     "output_type": "execute_result"
    }
   ],
   "source": [
    "sorted(list(common_genes))[:5]"
   ]
  },
  {
   "cell_type": "markdown",
   "id": "7f51338b-8a75-42c3-a7e5-a0961cefb663",
   "metadata": {
    "papermill": {
     "duration": 0.021661,
     "end_time": "2022-08-02T20:10:11.895611",
     "exception": false,
     "start_time": "2022-08-02T20:10:11.873950",
     "status": "completed"
    },
    "tags": []
   },
   "source": [
    "## Genes info"
   ]
  },
  {
   "cell_type": "code",
   "execution_count": 42,
   "id": "bb932812",
   "metadata": {
    "execution": {
     "iopub.execute_input": "2022-08-02T20:10:11.939166Z",
     "iopub.status.busy": "2022-08-02T20:10:11.938978Z",
     "iopub.status.idle": "2022-08-02T20:10:11.960037Z",
     "shell.execute_reply": "2022-08-02T20:10:11.959557Z"
    },
    "papermill": {
     "duration": 0.044841,
     "end_time": "2022-08-02T20:10:11.961553",
     "exception": false,
     "start_time": "2022-08-02T20:10:11.916712",
     "status": "completed"
    },
    "tags": []
   },
   "outputs": [],
   "source": [
    "multiplier_gene_obj = {\n",
    "    gene_name: Gene(name=gene_name)\n",
    "    for gene_name in common_genes\n",
    "    if gene_name in Gene.GENE_NAME_TO_ID_MAP\n",
    "}"
   ]
  },
  {
   "cell_type": "code",
   "execution_count": 43,
   "id": "cb9d7a45-2b7d-4d10-80dc-212a625b5ae7",
   "metadata": {
    "execution": {
     "iopub.execute_input": "2022-08-02T20:10:12.036808Z",
     "iopub.status.busy": "2022-08-02T20:10:12.036573Z",
     "iopub.status.idle": "2022-08-02T20:10:12.051703Z",
     "shell.execute_reply": "2022-08-02T20:10:12.051215Z"
    },
    "papermill": {
     "duration": 0.070306,
     "end_time": "2022-08-02T20:10:12.053218",
     "exception": false,
     "start_time": "2022-08-02T20:10:11.982912",
     "status": "completed"
    },
    "tags": []
   },
   "outputs": [],
   "source": [
    "# delete common_genes, from now on, genes_info should be used for common genes\n",
    "del common_genes"
   ]
  },
  {
   "cell_type": "code",
   "execution_count": 44,
   "id": "39533214",
   "metadata": {
    "execution": {
     "iopub.execute_input": "2022-08-02T20:10:12.100301Z",
     "iopub.status.busy": "2022-08-02T20:10:12.100112Z",
     "iopub.status.idle": "2022-08-02T20:10:12.115703Z",
     "shell.execute_reply": "2022-08-02T20:10:12.115219Z"
    },
    "papermill": {
     "duration": 0.039925,
     "end_time": "2022-08-02T20:10:12.117164",
     "exception": false,
     "start_time": "2022-08-02T20:10:12.077239",
     "status": "completed"
    },
    "tags": []
   },
   "outputs": [
    {
     "data": {
      "text/plain": [
       "6444"
      ]
     },
     "execution_count": 44,
     "metadata": {},
     "output_type": "execute_result"
    }
   ],
   "source": [
    "len(multiplier_gene_obj)"
   ]
  },
  {
   "cell_type": "code",
   "execution_count": 45,
   "id": "9a5d0b84",
   "metadata": {
    "execution": {
     "iopub.execute_input": "2022-08-02T20:10:12.160768Z",
     "iopub.status.busy": "2022-08-02T20:10:12.160550Z",
     "iopub.status.idle": "2022-08-02T20:10:12.173945Z",
     "shell.execute_reply": "2022-08-02T20:10:12.173460Z"
    },
    "papermill": {
     "duration": 0.037057,
     "end_time": "2022-08-02T20:10:12.175582",
     "exception": false,
     "start_time": "2022-08-02T20:10:12.138525",
     "status": "completed"
    },
    "tags": []
   },
   "outputs": [],
   "source": [
    "assert multiplier_gene_obj[\"GAS6\"].ensembl_id == \"ENSG00000183087\""
   ]
  },
  {
   "cell_type": "code",
   "execution_count": 46,
   "id": "e3ffabc7",
   "metadata": {
    "execution": {
     "iopub.execute_input": "2022-08-02T20:10:12.220961Z",
     "iopub.status.busy": "2022-08-02T20:10:12.220754Z",
     "iopub.status.idle": "2022-08-02T20:10:15.287989Z",
     "shell.execute_reply": "2022-08-02T20:10:15.287458Z"
    },
    "papermill": {
     "duration": 3.091165,
     "end_time": "2022-08-02T20:10:15.289661",
     "exception": false,
     "start_time": "2022-08-02T20:10:12.198496",
     "status": "completed"
    },
    "tags": []
   },
   "outputs": [],
   "source": [
    "_gene_obj = list(multiplier_gene_obj.values())\n",
    "\n",
    "genes_info = pd.DataFrame(\n",
    "    {\n",
    "        \"name\": [g.name for g in _gene_obj],\n",
    "        \"id\": [g.ensembl_id for g in _gene_obj],\n",
    "        \"chr\": [g.chromosome for g in _gene_obj],\n",
    "        \"band\": [g.band for g in _gene_obj],\n",
    "        \"start_position\": [g.get_attribute(\"start_position\") for g in _gene_obj],\n",
    "        \"end_position\": [g.get_attribute(\"end_position\") for g in _gene_obj],\n",
    "    }\n",
    ")"
   ]
  },
  {
   "cell_type": "code",
   "execution_count": 47,
   "id": "00475e72-1cfc-485f-8b4e-1d9cce695f58",
   "metadata": {
    "execution": {
     "iopub.execute_input": "2022-08-02T20:10:15.334120Z",
     "iopub.status.busy": "2022-08-02T20:10:15.333926Z",
     "iopub.status.idle": "2022-08-02T20:10:15.833318Z",
     "shell.execute_reply": "2022-08-02T20:10:15.832777Z"
    },
    "papermill": {
     "duration": 0.523231,
     "end_time": "2022-08-02T20:10:15.835198",
     "exception": false,
     "start_time": "2022-08-02T20:10:15.311967",
     "status": "completed"
    },
    "tags": []
   },
   "outputs": [],
   "source": [
    "genes_info = genes_info.assign(\n",
    "    gene_length=genes_info.apply(\n",
    "        lambda x: x[\"end_position\"] - x[\"start_position\"], axis=1\n",
    "    )\n",
    ")"
   ]
  },
  {
   "cell_type": "code",
   "execution_count": 48,
   "id": "09d6320a-b1c4-4200-a23e-184bc4be69c7",
   "metadata": {
    "execution": {
     "iopub.execute_input": "2022-08-02T20:10:15.880359Z",
     "iopub.status.busy": "2022-08-02T20:10:15.880165Z",
     "iopub.status.idle": "2022-08-02T20:10:15.896175Z",
     "shell.execute_reply": "2022-08-02T20:10:15.895678Z"
    },
    "papermill": {
     "duration": 0.040077,
     "end_time": "2022-08-02T20:10:15.897702",
     "exception": false,
     "start_time": "2022-08-02T20:10:15.857625",
     "status": "completed"
    },
    "tags": []
   },
   "outputs": [],
   "source": [
    "assert genes_info[\"name\"].is_unique"
   ]
  },
  {
   "cell_type": "code",
   "execution_count": 49,
   "id": "009d11e4-f8cb-4a81-823d-c7f10b906d3b",
   "metadata": {
    "execution": {
     "iopub.execute_input": "2022-08-02T20:10:15.941782Z",
     "iopub.status.busy": "2022-08-02T20:10:15.941586Z",
     "iopub.status.idle": "2022-08-02T20:10:15.956197Z",
     "shell.execute_reply": "2022-08-02T20:10:15.955716Z"
    },
    "papermill": {
     "duration": 0.038715,
     "end_time": "2022-08-02T20:10:15.957714",
     "exception": false,
     "start_time": "2022-08-02T20:10:15.918999",
     "status": "completed"
    },
    "tags": []
   },
   "outputs": [],
   "source": [
    "assert genes_info[\"id\"].is_unique"
   ]
  },
  {
   "cell_type": "code",
   "execution_count": 50,
   "id": "e23519b8",
   "metadata": {
    "execution": {
     "iopub.execute_input": "2022-08-02T20:10:16.001333Z",
     "iopub.status.busy": "2022-08-02T20:10:16.001146Z",
     "iopub.status.idle": "2022-08-02T20:10:16.016075Z",
     "shell.execute_reply": "2022-08-02T20:10:16.015597Z"
    },
    "papermill": {
     "duration": 0.038514,
     "end_time": "2022-08-02T20:10:16.017472",
     "exception": false,
     "start_time": "2022-08-02T20:10:15.978958",
     "status": "completed"
    },
    "tags": []
   },
   "outputs": [
    {
     "data": {
      "text/plain": [
       "(6444, 7)"
      ]
     },
     "execution_count": 50,
     "metadata": {},
     "output_type": "execute_result"
    }
   ],
   "source": [
    "genes_info.shape"
   ]
  },
  {
   "cell_type": "code",
   "execution_count": 51,
   "id": "0d71881c",
   "metadata": {
    "execution": {
     "iopub.execute_input": "2022-08-02T20:10:16.061604Z",
     "iopub.status.busy": "2022-08-02T20:10:16.061392Z",
     "iopub.status.idle": "2022-08-02T20:10:16.081880Z",
     "shell.execute_reply": "2022-08-02T20:10:16.081394Z"
    },
    "papermill": {
     "duration": 0.044024,
     "end_time": "2022-08-02T20:10:16.083284",
     "exception": false,
     "start_time": "2022-08-02T20:10:16.039260",
     "status": "completed"
    },
    "tags": []
   },
   "outputs": [
    {
     "data": {
      "text/html": [
       "<div>\n",
       "<style scoped>\n",
       "    .dataframe tbody tr th:only-of-type {\n",
       "        vertical-align: middle;\n",
       "    }\n",
       "\n",
       "    .dataframe tbody tr th {\n",
       "        vertical-align: top;\n",
       "    }\n",
       "\n",
       "    .dataframe thead th {\n",
       "        text-align: right;\n",
       "    }\n",
       "</style>\n",
       "<table border=\"1\" class=\"dataframe\">\n",
       "  <thead>\n",
       "    <tr style=\"text-align: right;\">\n",
       "      <th></th>\n",
       "      <th>name</th>\n",
       "      <th>id</th>\n",
       "      <th>chr</th>\n",
       "      <th>band</th>\n",
       "      <th>start_position</th>\n",
       "      <th>end_position</th>\n",
       "      <th>gene_length</th>\n",
       "    </tr>\n",
       "  </thead>\n",
       "  <tbody>\n",
       "    <tr>\n",
       "      <th>0</th>\n",
       "      <td>HEYL</td>\n",
       "      <td>ENSG00000163909</td>\n",
       "      <td>1</td>\n",
       "      <td>1p34.2</td>\n",
       "      <td>39623435.0</td>\n",
       "      <td>39639643.0</td>\n",
       "      <td>16208.0</td>\n",
       "    </tr>\n",
       "    <tr>\n",
       "      <th>1</th>\n",
       "      <td>CYP24A1</td>\n",
       "      <td>ENSG00000019186</td>\n",
       "      <td>20</td>\n",
       "      <td>20q13.2</td>\n",
       "      <td>54153446.0</td>\n",
       "      <td>54173986.0</td>\n",
       "      <td>20540.0</td>\n",
       "    </tr>\n",
       "    <tr>\n",
       "      <th>2</th>\n",
       "      <td>ITGB4</td>\n",
       "      <td>ENSG00000132470</td>\n",
       "      <td>17</td>\n",
       "      <td>17q25.1</td>\n",
       "      <td>75721328.0</td>\n",
       "      <td>75757818.0</td>\n",
       "      <td>36490.0</td>\n",
       "    </tr>\n",
       "    <tr>\n",
       "      <th>3</th>\n",
       "      <td>SPINT1</td>\n",
       "      <td>ENSG00000166145</td>\n",
       "      <td>15</td>\n",
       "      <td>15q15.1</td>\n",
       "      <td>40844018.0</td>\n",
       "      <td>40858207.0</td>\n",
       "      <td>14189.0</td>\n",
       "    </tr>\n",
       "    <tr>\n",
       "      <th>4</th>\n",
       "      <td>PCSK6</td>\n",
       "      <td>ENSG00000140479</td>\n",
       "      <td>15</td>\n",
       "      <td>15q26.3</td>\n",
       "      <td>101297142.0</td>\n",
       "      <td>101525202.0</td>\n",
       "      <td>228060.0</td>\n",
       "    </tr>\n",
       "  </tbody>\n",
       "</table>\n",
       "</div>"
      ],
      "text/plain": [
       "      name               id chr     band  start_position  end_position  \\\n",
       "0     HEYL  ENSG00000163909   1   1p34.2      39623435.0    39639643.0   \n",
       "1  CYP24A1  ENSG00000019186  20  20q13.2      54153446.0    54173986.0   \n",
       "2    ITGB4  ENSG00000132470  17  17q25.1      75721328.0    75757818.0   \n",
       "3   SPINT1  ENSG00000166145  15  15q15.1      40844018.0    40858207.0   \n",
       "4    PCSK6  ENSG00000140479  15  15q26.3     101297142.0   101525202.0   \n",
       "\n",
       "   gene_length  \n",
       "0      16208.0  \n",
       "1      20540.0  \n",
       "2      36490.0  \n",
       "3      14189.0  \n",
       "4     228060.0  "
      ]
     },
     "execution_count": 51,
     "metadata": {},
     "output_type": "execute_result"
    }
   ],
   "source": [
    "genes_info.head()"
   ]
  },
  {
   "cell_type": "code",
   "execution_count": 52,
   "id": "eb968287-d9cf-40f6-a93e-6b322b844404",
   "metadata": {
    "execution": {
     "iopub.execute_input": "2022-08-02T20:10:16.127224Z",
     "iopub.status.busy": "2022-08-02T20:10:16.127037Z",
     "iopub.status.idle": "2022-08-02T20:10:16.152260Z",
     "shell.execute_reply": "2022-08-02T20:10:16.151763Z"
    },
    "papermill": {
     "duration": 0.049085,
     "end_time": "2022-08-02T20:10:16.153661",
     "exception": false,
     "start_time": "2022-08-02T20:10:16.104576",
     "status": "completed"
    },
    "tags": []
   },
   "outputs": [
    {
     "data": {
      "text/html": [
       "<div>\n",
       "<style scoped>\n",
       "    .dataframe tbody tr th:only-of-type {\n",
       "        vertical-align: middle;\n",
       "    }\n",
       "\n",
       "    .dataframe tbody tr th {\n",
       "        vertical-align: top;\n",
       "    }\n",
       "\n",
       "    .dataframe thead th {\n",
       "        text-align: right;\n",
       "    }\n",
       "</style>\n",
       "<table border=\"1\" class=\"dataframe\">\n",
       "  <thead>\n",
       "    <tr style=\"text-align: right;\">\n",
       "      <th></th>\n",
       "      <th>name</th>\n",
       "      <th>id</th>\n",
       "      <th>chr</th>\n",
       "      <th>band</th>\n",
       "      <th>start_position</th>\n",
       "      <th>end_position</th>\n",
       "      <th>gene_length</th>\n",
       "    </tr>\n",
       "  </thead>\n",
       "  <tbody>\n",
       "    <tr>\n",
       "      <th>0</th>\n",
       "      <td>HEYL</td>\n",
       "      <td>ENSG00000163909</td>\n",
       "      <td>1</td>\n",
       "      <td>1p34.2</td>\n",
       "      <td>39623435.0</td>\n",
       "      <td>39639643.0</td>\n",
       "      <td>16208.0</td>\n",
       "    </tr>\n",
       "    <tr>\n",
       "      <th>2190</th>\n",
       "      <td>KCNH1</td>\n",
       "      <td>ENSG00000143473</td>\n",
       "      <td>1</td>\n",
       "      <td>1q32.2</td>\n",
       "      <td>210676823.0</td>\n",
       "      <td>211134165.0</td>\n",
       "      <td>457342.0</td>\n",
       "    </tr>\n",
       "    <tr>\n",
       "      <th>823</th>\n",
       "      <td>LRRC41</td>\n",
       "      <td>ENSG00000132128</td>\n",
       "      <td>1</td>\n",
       "      <td>1p33</td>\n",
       "      <td>46261196.0</td>\n",
       "      <td>46303608.0</td>\n",
       "      <td>42412.0</td>\n",
       "    </tr>\n",
       "    <tr>\n",
       "      <th>3926</th>\n",
       "      <td>NTRK1</td>\n",
       "      <td>ENSG00000198400</td>\n",
       "      <td>1</td>\n",
       "      <td>1q23.1</td>\n",
       "      <td>156815640.0</td>\n",
       "      <td>156881850.0</td>\n",
       "      <td>66210.0</td>\n",
       "    </tr>\n",
       "    <tr>\n",
       "      <th>3928</th>\n",
       "      <td>PMVK</td>\n",
       "      <td>ENSG00000163344</td>\n",
       "      <td>1</td>\n",
       "      <td>1q21.3</td>\n",
       "      <td>154924740.0</td>\n",
       "      <td>154936719.0</td>\n",
       "      <td>11979.0</td>\n",
       "    </tr>\n",
       "    <tr>\n",
       "      <th>...</th>\n",
       "      <td>...</td>\n",
       "      <td>...</td>\n",
       "      <td>...</td>\n",
       "      <td>...</td>\n",
       "      <td>...</td>\n",
       "      <td>...</td>\n",
       "      <td>...</td>\n",
       "    </tr>\n",
       "    <tr>\n",
       "      <th>3552</th>\n",
       "      <td>SLC27A4</td>\n",
       "      <td>ENSG00000167114</td>\n",
       "      <td>9</td>\n",
       "      <td>9q34.11</td>\n",
       "      <td>128340527.0</td>\n",
       "      <td>128361470.0</td>\n",
       "      <td>20943.0</td>\n",
       "    </tr>\n",
       "    <tr>\n",
       "      <th>4546</th>\n",
       "      <td>ORM1</td>\n",
       "      <td>ENSG00000229314</td>\n",
       "      <td>9</td>\n",
       "      <td>9q32</td>\n",
       "      <td>114323056.0</td>\n",
       "      <td>114326475.0</td>\n",
       "      <td>3419.0</td>\n",
       "    </tr>\n",
       "    <tr>\n",
       "      <th>312</th>\n",
       "      <td>FBXW5</td>\n",
       "      <td>ENSG00000159069</td>\n",
       "      <td>9</td>\n",
       "      <td>9q34.3</td>\n",
       "      <td>136940435.0</td>\n",
       "      <td>136944738.0</td>\n",
       "      <td>4303.0</td>\n",
       "    </tr>\n",
       "    <tr>\n",
       "      <th>1223</th>\n",
       "      <td>TMEM133</td>\n",
       "      <td>ENSG00000170647</td>\n",
       "      <td>None</td>\n",
       "      <td>None</td>\n",
       "      <td>NaN</td>\n",
       "      <td>NaN</td>\n",
       "      <td>NaN</td>\n",
       "    </tr>\n",
       "    <tr>\n",
       "      <th>6433</th>\n",
       "      <td>TBCE</td>\n",
       "      <td>ENSG00000116957</td>\n",
       "      <td>None</td>\n",
       "      <td>None</td>\n",
       "      <td>NaN</td>\n",
       "      <td>NaN</td>\n",
       "      <td>NaN</td>\n",
       "    </tr>\n",
       "  </tbody>\n",
       "</table>\n",
       "<p>6444 rows × 7 columns</p>\n",
       "</div>"
      ],
      "text/plain": [
       "         name               id   chr     band  start_position  end_position  \\\n",
       "0        HEYL  ENSG00000163909     1   1p34.2      39623435.0    39639643.0   \n",
       "2190    KCNH1  ENSG00000143473     1   1q32.2     210676823.0   211134165.0   \n",
       "823    LRRC41  ENSG00000132128     1     1p33      46261196.0    46303608.0   \n",
       "3926    NTRK1  ENSG00000198400     1   1q23.1     156815640.0   156881850.0   \n",
       "3928     PMVK  ENSG00000163344     1   1q21.3     154924740.0   154936719.0   \n",
       "...       ...              ...   ...      ...             ...           ...   \n",
       "3552  SLC27A4  ENSG00000167114     9  9q34.11     128340527.0   128361470.0   \n",
       "4546     ORM1  ENSG00000229314     9     9q32     114323056.0   114326475.0   \n",
       "312     FBXW5  ENSG00000159069     9   9q34.3     136940435.0   136944738.0   \n",
       "1223  TMEM133  ENSG00000170647  None     None             NaN           NaN   \n",
       "6433     TBCE  ENSG00000116957  None     None             NaN           NaN   \n",
       "\n",
       "      gene_length  \n",
       "0         16208.0  \n",
       "2190     457342.0  \n",
       "823       42412.0  \n",
       "3926      66210.0  \n",
       "3928      11979.0  \n",
       "...           ...  \n",
       "3552      20943.0  \n",
       "4546       3419.0  \n",
       "312        4303.0  \n",
       "1223          NaN  \n",
       "6433          NaN  \n",
       "\n",
       "[6444 rows x 7 columns]"
      ]
     },
     "execution_count": 52,
     "metadata": {},
     "output_type": "execute_result"
    }
   ],
   "source": [
    "genes_info.sort_values(\"chr\")"
   ]
  },
  {
   "cell_type": "markdown",
   "id": "7282b84d-f4f3-4e8c-9dd8-6319505ed4b5",
   "metadata": {
    "papermill": {
     "duration": 0.021624,
     "end_time": "2022-08-02T20:10:16.197574",
     "exception": false,
     "start_time": "2022-08-02T20:10:16.175950",
     "status": "completed"
    },
    "tags": []
   },
   "source": [
    "### Save"
   ]
  },
  {
   "cell_type": "code",
   "execution_count": 53,
   "id": "32cf6566-03bb-4a85-81e1-da46fc9f37ad",
   "metadata": {
    "execution": {
     "iopub.execute_input": "2022-08-02T20:10:16.242039Z",
     "iopub.status.busy": "2022-08-02T20:10:16.241852Z",
     "iopub.status.idle": "2022-08-02T20:10:16.270933Z",
     "shell.execute_reply": "2022-08-02T20:10:16.270404Z"
    },
    "papermill": {
     "duration": 0.053106,
     "end_time": "2022-08-02T20:10:16.272483",
     "exception": false,
     "start_time": "2022-08-02T20:10:16.219377",
     "status": "completed"
    },
    "tags": []
   },
   "outputs": [],
   "source": [
    "genes_info.to_pickle(OUTPUT_DIR_BASE / \"genes_info.pkl\")"
   ]
  },
  {
   "cell_type": "markdown",
   "id": "5b9f384a-5a91-4a8d-9007-cfe43f2d86f8",
   "metadata": {
    "papermill": {
     "duration": 0.024711,
     "end_time": "2022-08-02T20:10:16.326663",
     "exception": false,
     "start_time": "2022-08-02T20:10:16.301952",
     "status": "completed"
    },
    "tags": []
   },
   "source": [
    "## S-PrediXcan results"
   ]
  },
  {
   "cell_type": "markdown",
   "id": "fc0a2a4c-960c-4a0a-9b23-b66c3d5d6e07",
   "metadata": {
    "papermill": {
     "duration": 0.021762,
     "end_time": "2022-08-02T20:10:16.370469",
     "exception": false,
     "start_time": "2022-08-02T20:10:16.348707",
     "status": "completed"
    },
    "tags": []
   },
   "source": [
    "### Load results across all tissues"
   ]
  },
  {
   "cell_type": "code",
   "execution_count": 54,
   "id": "0b4867d7-a608-4b08-9d77-1782be3a0c94",
   "metadata": {
    "execution": {
     "iopub.execute_input": "2022-08-02T20:10:16.425043Z",
     "iopub.status.busy": "2022-08-02T20:10:16.424820Z",
     "iopub.status.idle": "2022-08-02T20:10:16.439121Z",
     "shell.execute_reply": "2022-08-02T20:10:16.438621Z"
    },
    "papermill": {
     "duration": 0.047823,
     "end_time": "2022-08-02T20:10:16.440742",
     "exception": false,
     "start_time": "2022-08-02T20:10:16.392919",
     "status": "completed"
    },
    "tags": []
   },
   "outputs": [],
   "source": [
    "spredixcan_result_files = {\n",
    "    t: SPREDIXCAN_FOLDER / SPREDIXCAN_FILE_PATTERN.format(tissue=t)\n",
    "    for t in prediction_model_tissues\n",
    "}"
   ]
  },
  {
   "cell_type": "code",
   "execution_count": 55,
   "id": "0ce270dd-46ac-4eaa-9d86-2b201d67d82f",
   "metadata": {
    "execution": {
     "iopub.execute_input": "2022-08-02T20:10:16.515646Z",
     "iopub.status.busy": "2022-08-02T20:10:16.515432Z",
     "iopub.status.idle": "2022-08-02T20:10:16.531201Z",
     "shell.execute_reply": "2022-08-02T20:10:16.530705Z"
    },
    "papermill": {
     "duration": 0.043577,
     "end_time": "2022-08-02T20:10:16.532731",
     "exception": false,
     "start_time": "2022-08-02T20:10:16.489154",
     "status": "completed"
    },
    "tags": []
   },
   "outputs": [
    {
     "data": {
      "text/plain": [
       "[PosixPath('/project/ritchie20/projects/phenoplier/base/results/gls/null_sims/twas/spredixcan/random.pheno0-gtex_v8-mashr-Whole_Blood.csv'),\n",
       " PosixPath('/project/ritchie20/projects/phenoplier/base/results/gls/null_sims/twas/spredixcan/random.pheno0-gtex_v8-mashr-Brain_Hypothalamus.csv'),\n",
       " PosixPath('/project/ritchie20/projects/phenoplier/base/results/gls/null_sims/twas/spredixcan/random.pheno0-gtex_v8-mashr-Brain_Amygdala.csv'),\n",
       " PosixPath('/project/ritchie20/projects/phenoplier/base/results/gls/null_sims/twas/spredixcan/random.pheno0-gtex_v8-mashr-Brain_Nucleus_accumbens_basal_ganglia.csv'),\n",
       " PosixPath('/project/ritchie20/projects/phenoplier/base/results/gls/null_sims/twas/spredixcan/random.pheno0-gtex_v8-mashr-Artery_Coronary.csv')]"
      ]
     },
     "metadata": {},
     "output_type": "display_data"
    }
   ],
   "source": [
    "assert len(spredixcan_result_files) == len(prediction_model_tissues)\n",
    "display(list(spredixcan_result_files.values())[:5])"
   ]
  },
  {
   "cell_type": "code",
   "execution_count": 56,
   "id": "aa140259-303e-4912-b2bf-e7adce662f88",
   "metadata": {
    "execution": {
     "iopub.execute_input": "2022-08-02T20:10:16.579345Z",
     "iopub.status.busy": "2022-08-02T20:10:16.579158Z",
     "iopub.status.idle": "2022-08-02T20:10:16.626884Z",
     "shell.execute_reply": "2022-08-02T20:10:16.626353Z"
    },
    "papermill": {
     "duration": 0.072292,
     "end_time": "2022-08-02T20:10:16.628343",
     "exception": false,
     "start_time": "2022-08-02T20:10:16.556051",
     "status": "completed"
    },
    "tags": []
   },
   "outputs": [
    {
     "data": {
      "text/html": [
       "<div>\n",
       "<style scoped>\n",
       "    .dataframe tbody tr th:only-of-type {\n",
       "        vertical-align: middle;\n",
       "    }\n",
       "\n",
       "    .dataframe tbody tr th {\n",
       "        vertical-align: top;\n",
       "    }\n",
       "\n",
       "    .dataframe thead th {\n",
       "        text-align: right;\n",
       "    }\n",
       "</style>\n",
       "<table border=\"1\" class=\"dataframe\">\n",
       "  <thead>\n",
       "    <tr style=\"text-align: right;\">\n",
       "      <th></th>\n",
       "      <th>gene</th>\n",
       "      <th>gene_name</th>\n",
       "      <th>zscore</th>\n",
       "      <th>effect_size</th>\n",
       "      <th>pvalue</th>\n",
       "      <th>var_g</th>\n",
       "      <th>pred_perf_r2</th>\n",
       "      <th>pred_perf_pval</th>\n",
       "      <th>pred_perf_qval</th>\n",
       "      <th>n_snps_used</th>\n",
       "      <th>n_snps_in_cov</th>\n",
       "      <th>n_snps_in_model</th>\n",
       "      <th>best_gwas_p</th>\n",
       "      <th>largest_weight</th>\n",
       "    </tr>\n",
       "  </thead>\n",
       "  <tbody>\n",
       "    <tr>\n",
       "      <th>0</th>\n",
       "      <td>ENSG00000131236.16</td>\n",
       "      <td>CAP1</td>\n",
       "      <td>-3.882684</td>\n",
       "      <td>NaN</td>\n",
       "      <td>0.000103</td>\n",
       "      <td>8.369900e-05</td>\n",
       "      <td>NaN</td>\n",
       "      <td>NaN</td>\n",
       "      <td>NaN</td>\n",
       "      <td>1</td>\n",
       "      <td>1</td>\n",
       "      <td>1</td>\n",
       "      <td>0.000103</td>\n",
       "      <td>0.021593</td>\n",
       "    </tr>\n",
       "    <tr>\n",
       "      <th>1</th>\n",
       "      <td>ENSG00000130787.13</td>\n",
       "      <td>HIP1R</td>\n",
       "      <td>3.862583</td>\n",
       "      <td>NaN</td>\n",
       "      <td>0.000112</td>\n",
       "      <td>3.039669e-03</td>\n",
       "      <td>NaN</td>\n",
       "      <td>NaN</td>\n",
       "      <td>NaN</td>\n",
       "      <td>2</td>\n",
       "      <td>2</td>\n",
       "      <td>2</td>\n",
       "      <td>0.001681</td>\n",
       "      <td>0.087495</td>\n",
       "    </tr>\n",
       "    <tr>\n",
       "      <th>2</th>\n",
       "      <td>ENSG00000103018.16</td>\n",
       "      <td>CYB5B</td>\n",
       "      <td>3.478682</td>\n",
       "      <td>NaN</td>\n",
       "      <td>0.000504</td>\n",
       "      <td>6.455623e-03</td>\n",
       "      <td>NaN</td>\n",
       "      <td>NaN</td>\n",
       "      <td>NaN</td>\n",
       "      <td>1</td>\n",
       "      <td>1</td>\n",
       "      <td>1</td>\n",
       "      <td>0.000504</td>\n",
       "      <td>0.114291</td>\n",
       "    </tr>\n",
       "    <tr>\n",
       "      <th>3</th>\n",
       "      <td>ENSG00000117906.13</td>\n",
       "      <td>RCN2</td>\n",
       "      <td>3.431258</td>\n",
       "      <td>NaN</td>\n",
       "      <td>0.000601</td>\n",
       "      <td>5.848182e-07</td>\n",
       "      <td>NaN</td>\n",
       "      <td>NaN</td>\n",
       "      <td>NaN</td>\n",
       "      <td>1</td>\n",
       "      <td>1</td>\n",
       "      <td>1</td>\n",
       "      <td>0.000601</td>\n",
       "      <td>0.001696</td>\n",
       "    </tr>\n",
       "    <tr>\n",
       "      <th>4</th>\n",
       "      <td>ENSG00000135469.13</td>\n",
       "      <td>COQ10A</td>\n",
       "      <td>3.363631</td>\n",
       "      <td>NaN</td>\n",
       "      <td>0.000769</td>\n",
       "      <td>4.312235e-04</td>\n",
       "      <td>NaN</td>\n",
       "      <td>NaN</td>\n",
       "      <td>NaN</td>\n",
       "      <td>2</td>\n",
       "      <td>2</td>\n",
       "      <td>2</td>\n",
       "      <td>0.013565</td>\n",
       "      <td>0.064460</td>\n",
       "    </tr>\n",
       "  </tbody>\n",
       "</table>\n",
       "</div>"
      ],
      "text/plain": [
       "                 gene gene_name    zscore  effect_size    pvalue  \\\n",
       "0  ENSG00000131236.16      CAP1 -3.882684          NaN  0.000103   \n",
       "1  ENSG00000130787.13     HIP1R  3.862583          NaN  0.000112   \n",
       "2  ENSG00000103018.16     CYB5B  3.478682          NaN  0.000504   \n",
       "3  ENSG00000117906.13      RCN2  3.431258          NaN  0.000601   \n",
       "4  ENSG00000135469.13    COQ10A  3.363631          NaN  0.000769   \n",
       "\n",
       "          var_g  pred_perf_r2  pred_perf_pval  pred_perf_qval  n_snps_used  \\\n",
       "0  8.369900e-05           NaN             NaN             NaN            1   \n",
       "1  3.039669e-03           NaN             NaN             NaN            2   \n",
       "2  6.455623e-03           NaN             NaN             NaN            1   \n",
       "3  5.848182e-07           NaN             NaN             NaN            1   \n",
       "4  4.312235e-04           NaN             NaN             NaN            2   \n",
       "\n",
       "   n_snps_in_cov  n_snps_in_model  best_gwas_p  largest_weight  \n",
       "0              1                1     0.000103        0.021593  \n",
       "1              2                2     0.001681        0.087495  \n",
       "2              1                1     0.000504        0.114291  \n",
       "3              1                1     0.000601        0.001696  \n",
       "4              2                2     0.013565        0.064460  "
      ]
     },
     "execution_count": 56,
     "metadata": {},
     "output_type": "execute_result"
    }
   ],
   "source": [
    "# look at the structure of one result\n",
    "pd.read_csv(spredixcan_result_files[\"Whole_Blood\"]).head()"
   ]
  },
  {
   "cell_type": "code",
   "execution_count": 57,
   "id": "4381b9ff-6ab5-47f1-89d1-560f88fdf07f",
   "metadata": {
    "execution": {
     "iopub.execute_input": "2022-08-02T20:10:16.675642Z",
     "iopub.status.busy": "2022-08-02T20:10:16.675406Z",
     "iopub.status.idle": "2022-08-02T20:10:16.696652Z",
     "shell.execute_reply": "2022-08-02T20:10:16.696150Z"
    },
    "papermill": {
     "duration": 0.046867,
     "end_time": "2022-08-02T20:10:16.698225",
     "exception": false,
     "start_time": "2022-08-02T20:10:16.651358",
     "status": "completed"
    },
    "tags": []
   },
   "outputs": [],
   "source": [
    "assert all(f.exists() for f in spredixcan_result_files.values())"
   ]
  },
  {
   "cell_type": "code",
   "execution_count": 58,
   "id": "d477157f-51e9-4c7c-b826-7ab5f4fdf3e3",
   "metadata": {
    "execution": {
     "iopub.execute_input": "2022-08-02T20:10:16.745262Z",
     "iopub.status.busy": "2022-08-02T20:10:16.745075Z",
     "iopub.status.idle": "2022-08-02T20:10:17.794598Z",
     "shell.execute_reply": "2022-08-02T20:10:17.793803Z"
    },
    "papermill": {
     "duration": 1.075097,
     "end_time": "2022-08-02T20:10:17.796493",
     "exception": false,
     "start_time": "2022-08-02T20:10:16.721396",
     "status": "completed"
    },
    "tags": []
   },
   "outputs": [],
   "source": [
    "spredixcan_dfs = [\n",
    "    pd.read_csv(\n",
    "        f,\n",
    "        usecols=[\n",
    "            \"gene\",\n",
    "            \"zscore\",\n",
    "            \"pvalue\",\n",
    "            \"n_snps_used\",\n",
    "            \"n_snps_in_model\",\n",
    "        ],\n",
    "    )\n",
    "    .dropna(subset=[\"gene\", \"zscore\", \"pvalue\"])\n",
    "    .assign(tissue=t)\n",
    "    for t, f in spredixcan_result_files.items()\n",
    "]"
   ]
  },
  {
   "cell_type": "code",
   "execution_count": 59,
   "id": "9730bd37-b769-411f-bb6b-bb658d1ff88c",
   "metadata": {
    "execution": {
     "iopub.execute_input": "2022-08-02T20:10:17.843600Z",
     "iopub.status.busy": "2022-08-02T20:10:17.843391Z",
     "iopub.status.idle": "2022-08-02T20:10:17.858839Z",
     "shell.execute_reply": "2022-08-02T20:10:17.858358Z"
    },
    "papermill": {
     "duration": 0.039962,
     "end_time": "2022-08-02T20:10:17.860346",
     "exception": false,
     "start_time": "2022-08-02T20:10:17.820384",
     "status": "completed"
    },
    "tags": []
   },
   "outputs": [],
   "source": [
    "assert len(spredixcan_dfs) == len(prediction_model_tissues)"
   ]
  },
  {
   "cell_type": "code",
   "execution_count": 60,
   "id": "bcd73f53-1283-4ff6-bbb5-25fb71f5cb72",
   "metadata": {
    "execution": {
     "iopub.execute_input": "2022-08-02T20:10:17.906250Z",
     "iopub.status.busy": "2022-08-02T20:10:17.906063Z",
     "iopub.status.idle": "2022-08-02T20:10:18.002466Z",
     "shell.execute_reply": "2022-08-02T20:10:18.001895Z"
    },
    "papermill": {
     "duration": 0.121819,
     "end_time": "2022-08-02T20:10:18.004356",
     "exception": false,
     "start_time": "2022-08-02T20:10:17.882537",
     "status": "completed"
    },
    "tags": []
   },
   "outputs": [],
   "source": [
    "spredixcan_dfs = pd.concat(spredixcan_dfs)"
   ]
  },
  {
   "cell_type": "code",
   "execution_count": 61,
   "id": "ae99c7b5-14fc-4b39-a6b2-40fc703acd0a",
   "metadata": {
    "execution": {
     "iopub.execute_input": "2022-08-02T20:10:18.051266Z",
     "iopub.status.busy": "2022-08-02T20:10:18.051069Z",
     "iopub.status.idle": "2022-08-02T20:10:18.097253Z",
     "shell.execute_reply": "2022-08-02T20:10:18.096774Z"
    },
    "papermill": {
     "duration": 0.070957,
     "end_time": "2022-08-02T20:10:18.098771",
     "exception": false,
     "start_time": "2022-08-02T20:10:18.027814",
     "status": "completed"
    },
    "tags": []
   },
   "outputs": [],
   "source": [
    "assert spredixcan_dfs[\"tissue\"].unique().shape[0] == len(prediction_model_tissues)"
   ]
  },
  {
   "cell_type": "code",
   "execution_count": 62,
   "id": "b7223a23-e40f-4cd3-8988-72033f8739bd",
   "metadata": {
    "execution": {
     "iopub.execute_input": "2022-08-02T20:10:18.144296Z",
     "iopub.status.busy": "2022-08-02T20:10:18.144106Z",
     "iopub.status.idle": "2022-08-02T20:10:18.159356Z",
     "shell.execute_reply": "2022-08-02T20:10:18.158881Z"
    },
    "papermill": {
     "duration": 0.039725,
     "end_time": "2022-08-02T20:10:18.160767",
     "exception": false,
     "start_time": "2022-08-02T20:10:18.121042",
     "status": "completed"
    },
    "tags": []
   },
   "outputs": [
    {
     "data": {
      "text/plain": [
       "(652858, 6)"
      ]
     },
     "execution_count": 62,
     "metadata": {},
     "output_type": "execute_result"
    }
   ],
   "source": [
    "spredixcan_dfs.shape"
   ]
  },
  {
   "cell_type": "code",
   "execution_count": 63,
   "id": "4987073a-3b70-4162-93fb-beeb351ebfe0",
   "metadata": {
    "execution": {
     "iopub.execute_input": "2022-08-02T20:10:18.206017Z",
     "iopub.status.busy": "2022-08-02T20:10:18.205830Z",
     "iopub.status.idle": "2022-08-02T20:10:18.428968Z",
     "shell.execute_reply": "2022-08-02T20:10:18.428391Z"
    },
    "papermill": {
     "duration": 0.247928,
     "end_time": "2022-08-02T20:10:18.430859",
     "exception": false,
     "start_time": "2022-08-02T20:10:18.182931",
     "status": "completed"
    },
    "tags": []
   },
   "outputs": [],
   "source": [
    "spredixcan_dfs = spredixcan_dfs.assign(\n",
    "    gene_id=spredixcan_dfs[\"gene\"].apply(lambda g: g.split(\".\")[0])\n",
    ")"
   ]
  },
  {
   "cell_type": "code",
   "execution_count": 64,
   "id": "6b47d026-01c0-4f7c-a90e-f0baa13235f4",
   "metadata": {
    "execution": {
     "iopub.execute_input": "2022-08-02T20:10:18.478194Z",
     "iopub.status.busy": "2022-08-02T20:10:18.478000Z",
     "iopub.status.idle": "2022-08-02T20:10:18.500803Z",
     "shell.execute_reply": "2022-08-02T20:10:18.500290Z"
    },
    "papermill": {
     "duration": 0.048185,
     "end_time": "2022-08-02T20:10:18.502283",
     "exception": false,
     "start_time": "2022-08-02T20:10:18.454098",
     "status": "completed"
    },
    "tags": []
   },
   "outputs": [
    {
     "data": {
      "text/html": [
       "<div>\n",
       "<style scoped>\n",
       "    .dataframe tbody tr th:only-of-type {\n",
       "        vertical-align: middle;\n",
       "    }\n",
       "\n",
       "    .dataframe tbody tr th {\n",
       "        vertical-align: top;\n",
       "    }\n",
       "\n",
       "    .dataframe thead th {\n",
       "        text-align: right;\n",
       "    }\n",
       "</style>\n",
       "<table border=\"1\" class=\"dataframe\">\n",
       "  <thead>\n",
       "    <tr style=\"text-align: right;\">\n",
       "      <th></th>\n",
       "      <th>gene</th>\n",
       "      <th>zscore</th>\n",
       "      <th>pvalue</th>\n",
       "      <th>n_snps_used</th>\n",
       "      <th>n_snps_in_model</th>\n",
       "      <th>tissue</th>\n",
       "      <th>gene_id</th>\n",
       "    </tr>\n",
       "  </thead>\n",
       "  <tbody>\n",
       "    <tr>\n",
       "      <th>0</th>\n",
       "      <td>ENSG00000131236.16</td>\n",
       "      <td>-3.882684</td>\n",
       "      <td>0.000103</td>\n",
       "      <td>1</td>\n",
       "      <td>1</td>\n",
       "      <td>Whole_Blood</td>\n",
       "      <td>ENSG00000131236</td>\n",
       "    </tr>\n",
       "    <tr>\n",
       "      <th>1</th>\n",
       "      <td>ENSG00000130787.13</td>\n",
       "      <td>3.862583</td>\n",
       "      <td>0.000112</td>\n",
       "      <td>2</td>\n",
       "      <td>2</td>\n",
       "      <td>Whole_Blood</td>\n",
       "      <td>ENSG00000130787</td>\n",
       "    </tr>\n",
       "    <tr>\n",
       "      <th>2</th>\n",
       "      <td>ENSG00000103018.16</td>\n",
       "      <td>3.478682</td>\n",
       "      <td>0.000504</td>\n",
       "      <td>1</td>\n",
       "      <td>1</td>\n",
       "      <td>Whole_Blood</td>\n",
       "      <td>ENSG00000103018</td>\n",
       "    </tr>\n",
       "    <tr>\n",
       "      <th>3</th>\n",
       "      <td>ENSG00000117906.13</td>\n",
       "      <td>3.431258</td>\n",
       "      <td>0.000601</td>\n",
       "      <td>1</td>\n",
       "      <td>1</td>\n",
       "      <td>Whole_Blood</td>\n",
       "      <td>ENSG00000117906</td>\n",
       "    </tr>\n",
       "    <tr>\n",
       "      <th>4</th>\n",
       "      <td>ENSG00000135469.13</td>\n",
       "      <td>3.363631</td>\n",
       "      <td>0.000769</td>\n",
       "      <td>2</td>\n",
       "      <td>2</td>\n",
       "      <td>Whole_Blood</td>\n",
       "      <td>ENSG00000135469</td>\n",
       "    </tr>\n",
       "  </tbody>\n",
       "</table>\n",
       "</div>"
      ],
      "text/plain": [
       "                 gene    zscore    pvalue  n_snps_used  n_snps_in_model  \\\n",
       "0  ENSG00000131236.16 -3.882684  0.000103            1                1   \n",
       "1  ENSG00000130787.13  3.862583  0.000112            2                2   \n",
       "2  ENSG00000103018.16  3.478682  0.000504            1                1   \n",
       "3  ENSG00000117906.13  3.431258  0.000601            1                1   \n",
       "4  ENSG00000135469.13  3.363631  0.000769            2                2   \n",
       "\n",
       "        tissue          gene_id  \n",
       "0  Whole_Blood  ENSG00000131236  \n",
       "1  Whole_Blood  ENSG00000130787  \n",
       "2  Whole_Blood  ENSG00000103018  \n",
       "3  Whole_Blood  ENSG00000117906  \n",
       "4  Whole_Blood  ENSG00000135469  "
      ]
     },
     "execution_count": 64,
     "metadata": {},
     "output_type": "execute_result"
    }
   ],
   "source": [
    "spredixcan_dfs.head()"
   ]
  },
  {
   "cell_type": "code",
   "execution_count": 65,
   "id": "d5dbdb2e-b7eb-4665-9fd4-9ce714d6af0c",
   "metadata": {
    "execution": {
     "iopub.execute_input": "2022-08-02T20:10:18.550154Z",
     "iopub.status.busy": "2022-08-02T20:10:18.549969Z",
     "iopub.status.idle": "2022-08-02T20:10:18.697482Z",
     "shell.execute_reply": "2022-08-02T20:10:18.696911Z"
    },
    "papermill": {
     "duration": 0.173487,
     "end_time": "2022-08-02T20:10:18.699454",
     "exception": false,
     "start_time": "2022-08-02T20:10:18.525967",
     "status": "completed"
    },
    "tags": []
   },
   "outputs": [],
   "source": [
    "# leave only common genes\n",
    "spredixcan_dfs = spredixcan_dfs[spredixcan_dfs[\"gene_id\"].isin(set(genes_info[\"id\"]))]"
   ]
  },
  {
   "cell_type": "code",
   "execution_count": 66,
   "id": "8d34f99a-6b43-47aa-bb07-dfc67e169538",
   "metadata": {
    "execution": {
     "iopub.execute_input": "2022-08-02T20:10:18.747772Z",
     "iopub.status.busy": "2022-08-02T20:10:18.747545Z",
     "iopub.status.idle": "2022-08-02T20:10:18.764273Z",
     "shell.execute_reply": "2022-08-02T20:10:18.763799Z"
    },
    "papermill": {
     "duration": 0.041716,
     "end_time": "2022-08-02T20:10:18.765733",
     "exception": false,
     "start_time": "2022-08-02T20:10:18.724017",
     "status": "completed"
    },
    "tags": []
   },
   "outputs": [
    {
     "data": {
      "text/plain": [
       "(233428, 7)"
      ]
     },
     "execution_count": 66,
     "metadata": {},
     "output_type": "execute_result"
    }
   ],
   "source": [
    "spredixcan_dfs.shape"
   ]
  },
  {
   "cell_type": "markdown",
   "id": "5ecfd141-ecb8-47cf-905e-25cc1b4d3f9d",
   "metadata": {
    "papermill": {
     "duration": 0.022768,
     "end_time": "2022-08-02T20:10:18.811510",
     "exception": false,
     "start_time": "2022-08-02T20:10:18.788742",
     "status": "completed"
    },
    "tags": []
   },
   "source": [
    "### Count number of tissues available per gene"
   ]
  },
  {
   "cell_type": "code",
   "execution_count": 67,
   "id": "86fe37e1-a303-4221-a12e-3a54a04dd510",
   "metadata": {
    "execution": {
     "iopub.execute_input": "2022-08-02T20:10:18.858708Z",
     "iopub.status.busy": "2022-08-02T20:10:18.858483Z",
     "iopub.status.idle": "2022-08-02T20:10:18.932009Z",
     "shell.execute_reply": "2022-08-02T20:10:18.931405Z"
    },
    "papermill": {
     "duration": 0.099246,
     "end_time": "2022-08-02T20:10:18.933882",
     "exception": false,
     "start_time": "2022-08-02T20:10:18.834636",
     "status": "completed"
    },
    "tags": []
   },
   "outputs": [],
   "source": [
    "spredixcan_genes_n_models = spredixcan_dfs.groupby(\"gene_id\")[\"tissue\"].nunique()"
   ]
  },
  {
   "cell_type": "code",
   "execution_count": 68,
   "id": "31416d48-1e4d-463f-9a5c-34d29803c3f8",
   "metadata": {
    "execution": {
     "iopub.execute_input": "2022-08-02T20:10:18.981571Z",
     "iopub.status.busy": "2022-08-02T20:10:18.981349Z",
     "iopub.status.idle": "2022-08-02T20:10:18.999679Z",
     "shell.execute_reply": "2022-08-02T20:10:18.999189Z"
    },
    "papermill": {
     "duration": 0.043572,
     "end_time": "2022-08-02T20:10:19.001082",
     "exception": false,
     "start_time": "2022-08-02T20:10:18.957510",
     "status": "completed"
    },
    "tags": []
   },
   "outputs": [
    {
     "data": {
      "text/plain": [
       "gene_id\n",
       "ENSG00000000419     2\n",
       "ENSG00000000938    36\n",
       "ENSG00000000971    34\n",
       "ENSG00000001084    32\n",
       "ENSG00000001167    40\n",
       "                   ..\n",
       "ENSG00000278540    36\n",
       "ENSG00000278828     4\n",
       "ENSG00000278845    49\n",
       "ENSG00000281005    49\n",
       "ENSG00000282608    36\n",
       "Name: tissue, Length: 6444, dtype: int64"
      ]
     },
     "execution_count": 68,
     "metadata": {},
     "output_type": "execute_result"
    }
   ],
   "source": [
    "spredixcan_genes_n_models"
   ]
  },
  {
   "cell_type": "code",
   "execution_count": 69,
   "id": "d737ad4f-f821-4546-9a3e-6703fe264b49",
   "metadata": {
    "execution": {
     "iopub.execute_input": "2022-08-02T20:10:19.048486Z",
     "iopub.status.busy": "2022-08-02T20:10:19.048300Z",
     "iopub.status.idle": "2022-08-02T20:10:19.077157Z",
     "shell.execute_reply": "2022-08-02T20:10:19.076676Z"
    },
    "papermill": {
     "duration": 0.053971,
     "end_time": "2022-08-02T20:10:19.078696",
     "exception": false,
     "start_time": "2022-08-02T20:10:19.024725",
     "status": "completed"
    },
    "tags": []
   },
   "outputs": [],
   "source": [
    "# testing that in S-MultiXcan I get the same number of tissues per gene\n",
    "_tmp_smultixcan_results_n_models = (\n",
    "    smultixcan_results.set_index(\"gene_id\")[\"n\"].astype(int).rename(\"tissue\")\n",
    ")\n",
    "\n",
    "_cg = _tmp_smultixcan_results_n_models.index.intersection(\n",
    "    spredixcan_genes_n_models.index\n",
    ")\n",
    "_tmp_smultixcan_results_n_models = _tmp_smultixcan_results_n_models.loc[_cg]\n",
    "_spredixcan = spredixcan_genes_n_models.loc[_cg]\n",
    "\n",
    "assert _spredixcan.shape[0] == _tmp_smultixcan_results_n_models.shape[0]\n",
    "assert _spredixcan.equals(_tmp_smultixcan_results_n_models.loc[_spredixcan.index])"
   ]
  },
  {
   "cell_type": "markdown",
   "id": "904d7d30-9c2d-4c3e-b674-3f081954fe8b",
   "metadata": {
    "papermill": {
     "duration": 0.02308,
     "end_time": "2022-08-02T20:10:19.125347",
     "exception": false,
     "start_time": "2022-08-02T20:10:19.102267",
     "status": "completed"
    },
    "tags": []
   },
   "source": [
    "### Get tissues available per gene"
   ]
  },
  {
   "cell_type": "code",
   "execution_count": 70,
   "id": "cf014e81-4b4e-4c46-9265-67718b3ab08e",
   "metadata": {
    "execution": {
     "iopub.execute_input": "2022-08-02T20:10:19.171815Z",
     "iopub.status.busy": "2022-08-02T20:10:19.171617Z",
     "iopub.status.idle": "2022-08-02T20:10:19.350049Z",
     "shell.execute_reply": "2022-08-02T20:10:19.349476Z"
    },
    "papermill": {
     "duration": 0.203761,
     "end_time": "2022-08-02T20:10:19.351924",
     "exception": false,
     "start_time": "2022-08-02T20:10:19.148163",
     "status": "completed"
    },
    "tags": []
   },
   "outputs": [],
   "source": [
    "spredixcan_genes_models = spredixcan_dfs.groupby(\"gene_id\")[\"tissue\"].apply(\n",
    "    lambda x: frozenset(x.tolist())\n",
    ")"
   ]
  },
  {
   "cell_type": "code",
   "execution_count": 71,
   "id": "5df09d7f-39c9-408f-9fef-5189e8ca1c87",
   "metadata": {
    "execution": {
     "iopub.execute_input": "2022-08-02T20:10:19.400310Z",
     "iopub.status.busy": "2022-08-02T20:10:19.400109Z",
     "iopub.status.idle": "2022-08-02T20:10:19.420691Z",
     "shell.execute_reply": "2022-08-02T20:10:19.420205Z"
    },
    "papermill": {
     "duration": 0.046405,
     "end_time": "2022-08-02T20:10:19.422105",
     "exception": false,
     "start_time": "2022-08-02T20:10:19.375700",
     "status": "completed"
    },
    "tags": []
   },
   "outputs": [
    {
     "data": {
      "text/plain": [
       "gene_id\n",
       "ENSG00000000419         (Brain_Hypothalamus, Brain_Substantia_nigra)\n",
       "ENSG00000000938    (Esophagus_Muscularis, Thyroid, Brain_Cortex, ...\n",
       "ENSG00000000971    (Esophagus_Muscularis, Thyroid, Brain_Cortex, ...\n",
       "ENSG00000001084    (Thyroid, Brain_Cortex, Heart_Left_Ventricle, ...\n",
       "ENSG00000001167    (Esophagus_Muscularis, Thyroid, Brain_Cortex, ...\n",
       "                                         ...                        \n",
       "ENSG00000278540    (Esophagus_Muscularis, Thyroid, Brain_Cortex, ...\n",
       "ENSG00000278828    (Cells_EBV-transformed_lymphocytes, Adipose_Vi...\n",
       "ENSG00000278845    (Esophagus_Muscularis, Thyroid, Brain_Cortex, ...\n",
       "ENSG00000281005    (Esophagus_Muscularis, Thyroid, Brain_Cortex, ...\n",
       "ENSG00000282608    (Esophagus_Muscularis, Brain_Cortex, Heart_Lef...\n",
       "Name: tissue, Length: 6444, dtype: object"
      ]
     },
     "execution_count": 71,
     "metadata": {},
     "output_type": "execute_result"
    }
   ],
   "source": [
    "spredixcan_genes_models"
   ]
  },
  {
   "cell_type": "code",
   "execution_count": 72,
   "id": "97c46886-5a48-4813-b890-1dcdb09ec09d",
   "metadata": {
    "execution": {
     "iopub.execute_input": "2022-08-02T20:10:19.469538Z",
     "iopub.status.busy": "2022-08-02T20:10:19.469343Z",
     "iopub.status.idle": "2022-08-02T20:10:19.482780Z",
     "shell.execute_reply": "2022-08-02T20:10:19.482295Z"
    },
    "papermill": {
     "duration": 0.038853,
     "end_time": "2022-08-02T20:10:19.484279",
     "exception": false,
     "start_time": "2022-08-02T20:10:19.445426",
     "status": "completed"
    },
    "tags": []
   },
   "outputs": [],
   "source": [
    "assert spredixcan_genes_n_models.shape[0] == spredixcan_genes_models.shape[0]"
   ]
  },
  {
   "cell_type": "code",
   "execution_count": 73,
   "id": "abc13913-a681-4297-a0e6-dde62f43c36f",
   "metadata": {
    "execution": {
     "iopub.execute_input": "2022-08-02T20:10:19.530884Z",
     "iopub.status.busy": "2022-08-02T20:10:19.530674Z",
     "iopub.status.idle": "2022-08-02T20:10:19.544394Z",
     "shell.execute_reply": "2022-08-02T20:10:19.543921Z"
    },
    "papermill": {
     "duration": 0.039127,
     "end_time": "2022-08-02T20:10:19.545939",
     "exception": false,
     "start_time": "2022-08-02T20:10:19.506812",
     "status": "completed"
    },
    "tags": []
   },
   "outputs": [],
   "source": [
    "assert spredixcan_genes_n_models.index.equals(spredixcan_genes_models.index)"
   ]
  },
  {
   "cell_type": "code",
   "execution_count": 74,
   "id": "995a02e7-b836-471b-b438-17c8c46e4fde",
   "metadata": {
    "execution": {
     "iopub.execute_input": "2022-08-02T20:10:19.593665Z",
     "iopub.status.busy": "2022-08-02T20:10:19.593470Z",
     "iopub.status.idle": "2022-08-02T20:10:19.608505Z",
     "shell.execute_reply": "2022-08-02T20:10:19.608025Z"
    },
    "papermill": {
     "duration": 0.040811,
     "end_time": "2022-08-02T20:10:19.610052",
     "exception": false,
     "start_time": "2022-08-02T20:10:19.569241",
     "status": "completed"
    },
    "tags": []
   },
   "outputs": [],
   "source": [
    "assert (spredixcan_genes_models.apply(len) <= len(prediction_model_tissues)).all()"
   ]
  },
  {
   "cell_type": "code",
   "execution_count": 75,
   "id": "0c1d0c68-1a06-480c-b6d6-d3c4fdf0f5aa",
   "metadata": {
    "execution": {
     "iopub.execute_input": "2022-08-02T20:10:19.657987Z",
     "iopub.status.busy": "2022-08-02T20:10:19.657800Z",
     "iopub.status.idle": "2022-08-02T20:10:19.676479Z",
     "shell.execute_reply": "2022-08-02T20:10:19.676000Z"
    },
    "papermill": {
     "duration": 0.044657,
     "end_time": "2022-08-02T20:10:19.677893",
     "exception": false,
     "start_time": "2022-08-02T20:10:19.633236",
     "status": "completed"
    },
    "tags": []
   },
   "outputs": [
    {
     "data": {
      "text/plain": [
       "count    6444.000000\n",
       "mean       36.224084\n",
       "std        12.974649\n",
       "min         1.000000\n",
       "25%        29.000000\n",
       "50%        41.000000\n",
       "75%        47.000000\n",
       "max        49.000000\n",
       "Name: tissue, dtype: float64"
      ]
     },
     "execution_count": 75,
     "metadata": {},
     "output_type": "execute_result"
    }
   ],
   "source": [
    "spredixcan_genes_models.apply(len).describe()"
   ]
  },
  {
   "cell_type": "code",
   "execution_count": 76,
   "id": "991b9441-6bb5-4b72-9285-5fd579875e40",
   "metadata": {
    "execution": {
     "iopub.execute_input": "2022-08-02T20:10:19.726000Z",
     "iopub.status.busy": "2022-08-02T20:10:19.725794Z",
     "iopub.status.idle": "2022-08-02T20:10:19.742006Z",
     "shell.execute_reply": "2022-08-02T20:10:19.741522Z"
    },
    "papermill": {
     "duration": 0.042239,
     "end_time": "2022-08-02T20:10:19.743505",
     "exception": false,
     "start_time": "2022-08-02T20:10:19.701266",
     "status": "completed"
    },
    "tags": []
   },
   "outputs": [],
   "source": [
    "# testing\n",
    "assert (\n",
    "    spredixcan_genes_models.loc[spredixcan_genes_n_models.index]\n",
    "    .apply(len)\n",
    "    .equals(spredixcan_genes_n_models)\n",
    ")"
   ]
  },
  {
   "cell_type": "markdown",
   "id": "3042b22d-9d88-4e21-b112-ab23cf8d24ea",
   "metadata": {
    "papermill": {
     "duration": 0.024065,
     "end_time": "2022-08-02T20:10:19.791268",
     "exception": false,
     "start_time": "2022-08-02T20:10:19.767203",
     "status": "completed"
    },
    "tags": []
   },
   "source": [
    "### Add gene name and set index"
   ]
  },
  {
   "cell_type": "code",
   "execution_count": 77,
   "id": "3b7b0e76-7aca-44bf-beff-5f1c1b6193ee",
   "metadata": {
    "execution": {
     "iopub.execute_input": "2022-08-02T20:10:19.839475Z",
     "iopub.status.busy": "2022-08-02T20:10:19.839288Z",
     "iopub.status.idle": "2022-08-02T20:10:19.853490Z",
     "shell.execute_reply": "2022-08-02T20:10:19.853019Z"
    },
    "papermill": {
     "duration": 0.040573,
     "end_time": "2022-08-02T20:10:19.855001",
     "exception": false,
     "start_time": "2022-08-02T20:10:19.814428",
     "status": "completed"
    },
    "tags": []
   },
   "outputs": [],
   "source": [
    "spredixcan_genes_models = spredixcan_genes_models.to_frame().reset_index()"
   ]
  },
  {
   "cell_type": "code",
   "execution_count": 78,
   "id": "ffab4b61-c2d4-4bcc-a147-23a4bf30f715",
   "metadata": {
    "execution": {
     "iopub.execute_input": "2022-08-02T20:10:19.903670Z",
     "iopub.status.busy": "2022-08-02T20:10:19.903474Z",
     "iopub.status.idle": "2022-08-02T20:10:19.922840Z",
     "shell.execute_reply": "2022-08-02T20:10:19.922358Z"
    },
    "papermill": {
     "duration": 0.046075,
     "end_time": "2022-08-02T20:10:19.924242",
     "exception": false,
     "start_time": "2022-08-02T20:10:19.878167",
     "status": "completed"
    },
    "tags": []
   },
   "outputs": [
    {
     "data": {
      "text/html": [
       "<div>\n",
       "<style scoped>\n",
       "    .dataframe tbody tr th:only-of-type {\n",
       "        vertical-align: middle;\n",
       "    }\n",
       "\n",
       "    .dataframe tbody tr th {\n",
       "        vertical-align: top;\n",
       "    }\n",
       "\n",
       "    .dataframe thead th {\n",
       "        text-align: right;\n",
       "    }\n",
       "</style>\n",
       "<table border=\"1\" class=\"dataframe\">\n",
       "  <thead>\n",
       "    <tr style=\"text-align: right;\">\n",
       "      <th></th>\n",
       "      <th>gene_id</th>\n",
       "      <th>tissue</th>\n",
       "    </tr>\n",
       "  </thead>\n",
       "  <tbody>\n",
       "    <tr>\n",
       "      <th>0</th>\n",
       "      <td>ENSG00000000419</td>\n",
       "      <td>(Brain_Hypothalamus, Brain_Substantia_nigra)</td>\n",
       "    </tr>\n",
       "    <tr>\n",
       "      <th>1</th>\n",
       "      <td>ENSG00000000938</td>\n",
       "      <td>(Esophagus_Muscularis, Thyroid, Brain_Cortex, ...</td>\n",
       "    </tr>\n",
       "    <tr>\n",
       "      <th>2</th>\n",
       "      <td>ENSG00000000971</td>\n",
       "      <td>(Esophagus_Muscularis, Thyroid, Brain_Cortex, ...</td>\n",
       "    </tr>\n",
       "    <tr>\n",
       "      <th>3</th>\n",
       "      <td>ENSG00000001084</td>\n",
       "      <td>(Thyroid, Brain_Cortex, Heart_Left_Ventricle, ...</td>\n",
       "    </tr>\n",
       "    <tr>\n",
       "      <th>4</th>\n",
       "      <td>ENSG00000001167</td>\n",
       "      <td>(Esophagus_Muscularis, Thyroid, Brain_Cortex, ...</td>\n",
       "    </tr>\n",
       "  </tbody>\n",
       "</table>\n",
       "</div>"
      ],
      "text/plain": [
       "           gene_id                                             tissue\n",
       "0  ENSG00000000419       (Brain_Hypothalamus, Brain_Substantia_nigra)\n",
       "1  ENSG00000000938  (Esophagus_Muscularis, Thyroid, Brain_Cortex, ...\n",
       "2  ENSG00000000971  (Esophagus_Muscularis, Thyroid, Brain_Cortex, ...\n",
       "3  ENSG00000001084  (Thyroid, Brain_Cortex, Heart_Left_Ventricle, ...\n",
       "4  ENSG00000001167  (Esophagus_Muscularis, Thyroid, Brain_Cortex, ..."
      ]
     },
     "execution_count": 78,
     "metadata": {},
     "output_type": "execute_result"
    }
   ],
   "source": [
    "spredixcan_genes_models.head()"
   ]
  },
  {
   "cell_type": "code",
   "execution_count": 79,
   "id": "e1cb2fe5-969f-4526-bca7-a3b8919b3509",
   "metadata": {
    "execution": {
     "iopub.execute_input": "2022-08-02T20:10:19.973665Z",
     "iopub.status.busy": "2022-08-02T20:10:19.973444Z",
     "iopub.status.idle": "2022-08-02T20:10:19.990573Z",
     "shell.execute_reply": "2022-08-02T20:10:19.990093Z"
    },
    "papermill": {
     "duration": 0.04352,
     "end_time": "2022-08-02T20:10:19.992080",
     "exception": false,
     "start_time": "2022-08-02T20:10:19.948560",
     "status": "completed"
    },
    "tags": []
   },
   "outputs": [],
   "source": [
    "spredixcan_genes_models = spredixcan_genes_models.assign(\n",
    "    gene_name=spredixcan_genes_models[\"gene_id\"].apply(\n",
    "        lambda g: Gene.GENE_ID_TO_NAME_MAP[g]\n",
    "    )\n",
    ")"
   ]
  },
  {
   "cell_type": "code",
   "execution_count": 80,
   "id": "ff078ce5-3f18-442e-a593-3326436c758e",
   "metadata": {
    "execution": {
     "iopub.execute_input": "2022-08-02T20:10:20.041296Z",
     "iopub.status.busy": "2022-08-02T20:10:20.041109Z",
     "iopub.status.idle": "2022-08-02T20:10:20.055724Z",
     "shell.execute_reply": "2022-08-02T20:10:20.055240Z"
    },
    "papermill": {
     "duration": 0.041295,
     "end_time": "2022-08-02T20:10:20.057270",
     "exception": false,
     "start_time": "2022-08-02T20:10:20.015975",
     "status": "completed"
    },
    "tags": []
   },
   "outputs": [],
   "source": [
    "spredixcan_genes_models = spredixcan_genes_models[[\"gene_id\", \"gene_name\", \"tissue\"]]"
   ]
  },
  {
   "cell_type": "code",
   "execution_count": 81,
   "id": "a65c8bf2-5ecd-4f80-a857-11f8a0c019c4",
   "metadata": {
    "execution": {
     "iopub.execute_input": "2022-08-02T20:10:20.105965Z",
     "iopub.status.busy": "2022-08-02T20:10:20.105777Z",
     "iopub.status.idle": "2022-08-02T20:10:20.119930Z",
     "shell.execute_reply": "2022-08-02T20:10:20.119405Z"
    },
    "papermill": {
     "duration": 0.040553,
     "end_time": "2022-08-02T20:10:20.121434",
     "exception": false,
     "start_time": "2022-08-02T20:10:20.080881",
     "status": "completed"
    },
    "tags": []
   },
   "outputs": [],
   "source": [
    "spredixcan_genes_models = spredixcan_genes_models.set_index(\"gene_id\")"
   ]
  },
  {
   "cell_type": "code",
   "execution_count": 82,
   "id": "af6b40b9-fc58-47a1-a1b5-4404034b008b",
   "metadata": {
    "execution": {
     "iopub.execute_input": "2022-08-02T20:10:20.169967Z",
     "iopub.status.busy": "2022-08-02T20:10:20.169781Z",
     "iopub.status.idle": "2022-08-02T20:10:20.189296Z",
     "shell.execute_reply": "2022-08-02T20:10:20.188806Z"
    },
    "papermill": {
     "duration": 0.045503,
     "end_time": "2022-08-02T20:10:20.190736",
     "exception": false,
     "start_time": "2022-08-02T20:10:20.145233",
     "status": "completed"
    },
    "tags": []
   },
   "outputs": [
    {
     "data": {
      "text/html": [
       "<div>\n",
       "<style scoped>\n",
       "    .dataframe tbody tr th:only-of-type {\n",
       "        vertical-align: middle;\n",
       "    }\n",
       "\n",
       "    .dataframe tbody tr th {\n",
       "        vertical-align: top;\n",
       "    }\n",
       "\n",
       "    .dataframe thead th {\n",
       "        text-align: right;\n",
       "    }\n",
       "</style>\n",
       "<table border=\"1\" class=\"dataframe\">\n",
       "  <thead>\n",
       "    <tr style=\"text-align: right;\">\n",
       "      <th></th>\n",
       "      <th>gene_name</th>\n",
       "      <th>tissue</th>\n",
       "    </tr>\n",
       "    <tr>\n",
       "      <th>gene_id</th>\n",
       "      <th></th>\n",
       "      <th></th>\n",
       "    </tr>\n",
       "  </thead>\n",
       "  <tbody>\n",
       "    <tr>\n",
       "      <th>ENSG00000000419</th>\n",
       "      <td>DPM1</td>\n",
       "      <td>(Brain_Hypothalamus, Brain_Substantia_nigra)</td>\n",
       "    </tr>\n",
       "    <tr>\n",
       "      <th>ENSG00000000938</th>\n",
       "      <td>FGR</td>\n",
       "      <td>(Esophagus_Muscularis, Thyroid, Brain_Cortex, ...</td>\n",
       "    </tr>\n",
       "    <tr>\n",
       "      <th>ENSG00000000971</th>\n",
       "      <td>CFH</td>\n",
       "      <td>(Esophagus_Muscularis, Thyroid, Brain_Cortex, ...</td>\n",
       "    </tr>\n",
       "    <tr>\n",
       "      <th>ENSG00000001084</th>\n",
       "      <td>GCLC</td>\n",
       "      <td>(Thyroid, Brain_Cortex, Heart_Left_Ventricle, ...</td>\n",
       "    </tr>\n",
       "    <tr>\n",
       "      <th>ENSG00000001167</th>\n",
       "      <td>NFYA</td>\n",
       "      <td>(Esophagus_Muscularis, Thyroid, Brain_Cortex, ...</td>\n",
       "    </tr>\n",
       "  </tbody>\n",
       "</table>\n",
       "</div>"
      ],
      "text/plain": [
       "                gene_name                                             tissue\n",
       "gene_id                                                                     \n",
       "ENSG00000000419      DPM1       (Brain_Hypothalamus, Brain_Substantia_nigra)\n",
       "ENSG00000000938       FGR  (Esophagus_Muscularis, Thyroid, Brain_Cortex, ...\n",
       "ENSG00000000971       CFH  (Esophagus_Muscularis, Thyroid, Brain_Cortex, ...\n",
       "ENSG00000001084      GCLC  (Thyroid, Brain_Cortex, Heart_Left_Ventricle, ...\n",
       "ENSG00000001167      NFYA  (Esophagus_Muscularis, Thyroid, Brain_Cortex, ..."
      ]
     },
     "execution_count": 82,
     "metadata": {},
     "output_type": "execute_result"
    }
   ],
   "source": [
    "spredixcan_genes_models.head()"
   ]
  },
  {
   "cell_type": "markdown",
   "id": "d1e67be9-9094-4a07-b89d-3a0815d503e6",
   "metadata": {
    "papermill": {
     "duration": 0.024095,
     "end_time": "2022-08-02T20:10:20.239069",
     "exception": false,
     "start_time": "2022-08-02T20:10:20.214974",
     "status": "completed"
    },
    "tags": []
   },
   "source": [
    "### Add number of tissues"
   ]
  },
  {
   "cell_type": "code",
   "execution_count": 83,
   "id": "b2702bdb-b3bc-48e6-9c3e-855924d9e74b",
   "metadata": {
    "execution": {
     "iopub.execute_input": "2022-08-02T20:10:20.316335Z",
     "iopub.status.busy": "2022-08-02T20:10:20.316098Z",
     "iopub.status.idle": "2022-08-02T20:10:20.333225Z",
     "shell.execute_reply": "2022-08-02T20:10:20.332719Z"
    },
    "papermill": {
     "duration": 0.043621,
     "end_time": "2022-08-02T20:10:20.334740",
     "exception": false,
     "start_time": "2022-08-02T20:10:20.291119",
     "status": "completed"
    },
    "tags": []
   },
   "outputs": [],
   "source": [
    "spredixcan_genes_models = spredixcan_genes_models.assign(\n",
    "    n_tissues=spredixcan_genes_models[\"tissue\"].apply(len)\n",
    ")"
   ]
  },
  {
   "cell_type": "code",
   "execution_count": 84,
   "id": "4a5eb4b8-5e11-45a3-a991-0515bd83fc03",
   "metadata": {
    "execution": {
     "iopub.execute_input": "2022-08-02T20:10:20.383915Z",
     "iopub.status.busy": "2022-08-02T20:10:20.383705Z",
     "iopub.status.idle": "2022-08-02T20:10:20.403733Z",
     "shell.execute_reply": "2022-08-02T20:10:20.403246Z"
    },
    "papermill": {
     "duration": 0.046894,
     "end_time": "2022-08-02T20:10:20.405135",
     "exception": false,
     "start_time": "2022-08-02T20:10:20.358241",
     "status": "completed"
    },
    "tags": []
   },
   "outputs": [
    {
     "data": {
      "text/html": [
       "<div>\n",
       "<style scoped>\n",
       "    .dataframe tbody tr th:only-of-type {\n",
       "        vertical-align: middle;\n",
       "    }\n",
       "\n",
       "    .dataframe tbody tr th {\n",
       "        vertical-align: top;\n",
       "    }\n",
       "\n",
       "    .dataframe thead th {\n",
       "        text-align: right;\n",
       "    }\n",
       "</style>\n",
       "<table border=\"1\" class=\"dataframe\">\n",
       "  <thead>\n",
       "    <tr style=\"text-align: right;\">\n",
       "      <th></th>\n",
       "      <th>gene_name</th>\n",
       "      <th>tissue</th>\n",
       "      <th>n_tissues</th>\n",
       "    </tr>\n",
       "    <tr>\n",
       "      <th>gene_id</th>\n",
       "      <th></th>\n",
       "      <th></th>\n",
       "      <th></th>\n",
       "    </tr>\n",
       "  </thead>\n",
       "  <tbody>\n",
       "    <tr>\n",
       "      <th>ENSG00000000419</th>\n",
       "      <td>DPM1</td>\n",
       "      <td>(Brain_Hypothalamus, Brain_Substantia_nigra)</td>\n",
       "      <td>2</td>\n",
       "    </tr>\n",
       "    <tr>\n",
       "      <th>ENSG00000000938</th>\n",
       "      <td>FGR</td>\n",
       "      <td>(Esophagus_Muscularis, Thyroid, Brain_Cortex, ...</td>\n",
       "      <td>36</td>\n",
       "    </tr>\n",
       "    <tr>\n",
       "      <th>ENSG00000000971</th>\n",
       "      <td>CFH</td>\n",
       "      <td>(Esophagus_Muscularis, Thyroid, Brain_Cortex, ...</td>\n",
       "      <td>34</td>\n",
       "    </tr>\n",
       "    <tr>\n",
       "      <th>ENSG00000001084</th>\n",
       "      <td>GCLC</td>\n",
       "      <td>(Thyroid, Brain_Cortex, Heart_Left_Ventricle, ...</td>\n",
       "      <td>32</td>\n",
       "    </tr>\n",
       "    <tr>\n",
       "      <th>ENSG00000001167</th>\n",
       "      <td>NFYA</td>\n",
       "      <td>(Esophagus_Muscularis, Thyroid, Brain_Cortex, ...</td>\n",
       "      <td>40</td>\n",
       "    </tr>\n",
       "  </tbody>\n",
       "</table>\n",
       "</div>"
      ],
      "text/plain": [
       "                gene_name                                             tissue  \\\n",
       "gene_id                                                                        \n",
       "ENSG00000000419      DPM1       (Brain_Hypothalamus, Brain_Substantia_nigra)   \n",
       "ENSG00000000938       FGR  (Esophagus_Muscularis, Thyroid, Brain_Cortex, ...   \n",
       "ENSG00000000971       CFH  (Esophagus_Muscularis, Thyroid, Brain_Cortex, ...   \n",
       "ENSG00000001084      GCLC  (Thyroid, Brain_Cortex, Heart_Left_Ventricle, ...   \n",
       "ENSG00000001167      NFYA  (Esophagus_Muscularis, Thyroid, Brain_Cortex, ...   \n",
       "\n",
       "                 n_tissues  \n",
       "gene_id                     \n",
       "ENSG00000000419          2  \n",
       "ENSG00000000938         36  \n",
       "ENSG00000000971         34  \n",
       "ENSG00000001084         32  \n",
       "ENSG00000001167         40  "
      ]
     },
     "execution_count": 84,
     "metadata": {},
     "output_type": "execute_result"
    }
   ],
   "source": [
    "spredixcan_genes_models.head()"
   ]
  },
  {
   "cell_type": "markdown",
   "id": "850c554f-2ace-40a3-a33a-477246bb07c7",
   "metadata": {
    "papermill": {
     "duration": 0.02461,
     "end_time": "2022-08-02T20:10:20.454262",
     "exception": false,
     "start_time": "2022-08-02T20:10:20.429652",
     "status": "completed"
    },
    "tags": []
   },
   "source": [
    "### Get gene's objects"
   ]
  },
  {
   "cell_type": "code",
   "execution_count": 85,
   "id": "dfd93711-5c91-4cb6-8561-f366e270b6b1",
   "metadata": {
    "execution": {
     "iopub.execute_input": "2022-08-02T20:10:20.503148Z",
     "iopub.status.busy": "2022-08-02T20:10:20.502961Z",
     "iopub.status.idle": "2022-08-02T20:10:20.524999Z",
     "shell.execute_reply": "2022-08-02T20:10:20.524476Z"
    },
    "papermill": {
     "duration": 0.048431,
     "end_time": "2022-08-02T20:10:20.526570",
     "exception": false,
     "start_time": "2022-08-02T20:10:20.478139",
     "status": "completed"
    },
    "tags": []
   },
   "outputs": [],
   "source": [
    "spredixcan_gene_obj = {\n",
    "    gene_id: Gene(ensembl_id=gene_id) for gene_id in spredixcan_genes_models.index\n",
    "}"
   ]
  },
  {
   "cell_type": "code",
   "execution_count": 86,
   "id": "59efbedc-0b5d-4d0b-bd82-95e74c0ba793",
   "metadata": {
    "execution": {
     "iopub.execute_input": "2022-08-02T20:10:20.578069Z",
     "iopub.status.busy": "2022-08-02T20:10:20.577882Z",
     "iopub.status.idle": "2022-08-02T20:10:20.593225Z",
     "shell.execute_reply": "2022-08-02T20:10:20.592731Z"
    },
    "papermill": {
     "duration": 0.042665,
     "end_time": "2022-08-02T20:10:20.594698",
     "exception": false,
     "start_time": "2022-08-02T20:10:20.552033",
     "status": "completed"
    },
    "tags": []
   },
   "outputs": [
    {
     "data": {
      "text/plain": [
       "6444"
      ]
     },
     "execution_count": 86,
     "metadata": {},
     "output_type": "execute_result"
    }
   ],
   "source": [
    "len(spredixcan_gene_obj)"
   ]
  },
  {
   "cell_type": "markdown",
   "id": "27ac1828-755a-424a-b416-6aef1f0c2e45",
   "metadata": {
    "papermill": {
     "duration": 0.024731,
     "end_time": "2022-08-02T20:10:20.644566",
     "exception": false,
     "start_time": "2022-08-02T20:10:20.619835",
     "status": "completed"
    },
    "tags": []
   },
   "source": [
    "### Add genes' variance captured by principal components"
   ]
  },
  {
   "cell_type": "code",
   "execution_count": 87,
   "id": "893b3418-054c-44d2-9ce0-7fa590aef00e",
   "metadata": {
    "execution": {
     "iopub.execute_input": "2022-08-02T20:10:20.695018Z",
     "iopub.status.busy": "2022-08-02T20:10:20.694816Z",
     "iopub.status.idle": "2022-08-02T20:10:20.708823Z",
     "shell.execute_reply": "2022-08-02T20:10:20.708339Z"
    },
    "papermill": {
     "duration": 0.040713,
     "end_time": "2022-08-02T20:10:20.710365",
     "exception": false,
     "start_time": "2022-08-02T20:10:20.669652",
     "status": "completed"
    },
    "tags": []
   },
   "outputs": [],
   "source": [
    "def _get_gene_pc_variance(gene_row):\n",
    "    gene_id = gene_row.name\n",
    "    gene_tissues = gene_row[\"tissue\"]\n",
    "    gene_obj = spredixcan_gene_obj[gene_id]\n",
    "\n",
    "    u, s, vt = gene_obj.get_tissues_correlations_svd(\n",
    "        tissues=gene_tissues,\n",
    "        snps_subset=gwas_variants_ids_set,\n",
    "        reference_panel=REFERENCE_PANEL,\n",
    "        model_type=EQTL_MODEL,\n",
    "        # use_covariance_matrix=True,\n",
    "    )\n",
    "\n",
    "    return s"
   ]
  },
  {
   "cell_type": "code",
   "execution_count": 88,
   "id": "083afa33-cea0-40d3-af20-94a1307a6607",
   "metadata": {
    "execution": {
     "iopub.execute_input": "2022-08-02T20:10:20.759383Z",
     "iopub.status.busy": "2022-08-02T20:10:20.759196Z",
     "iopub.status.idle": "2022-08-02T20:10:25.014608Z",
     "shell.execute_reply": "2022-08-02T20:10:25.013835Z"
    },
    "papermill": {
     "duration": 4.281618,
     "end_time": "2022-08-02T20:10:25.016240",
     "exception": false,
     "start_time": "2022-08-02T20:10:20.734622",
     "status": "completed"
    },
    "tags": []
   },
   "outputs": [
    {
     "data": {
      "text/plain": [
       "array([35.14301823,  3.87568728,  2.3091285 ,  1.90683623,  1.27573165])"
      ]
     },
     "execution_count": 88,
     "metadata": {},
     "output_type": "execute_result"
    }
   ],
   "source": [
    "_tmp = spredixcan_genes_models.loc[\"ENSG00000188976\"]\n",
    "_get_gene_pc_variance(_tmp)"
   ]
  },
  {
   "cell_type": "code",
   "execution_count": 89,
   "id": "80f7720d-79c9-4183-bb7e-b1480f31ed87",
   "metadata": {
    "execution": {
     "iopub.execute_input": "2022-08-02T20:10:25.074680Z",
     "iopub.status.busy": "2022-08-02T20:10:25.074453Z",
     "iopub.status.idle": "2022-08-02T21:39:03.868481Z",
     "shell.execute_reply": "2022-08-02T21:39:03.867870Z"
    },
    "papermill": {
     "duration": 5318.825092,
     "end_time": "2022-08-02T21:39:03.871018",
     "exception": false,
     "start_time": "2022-08-02T20:10:25.045926",
     "status": "completed"
    },
    "tags": []
   },
   "outputs": [],
   "source": [
    "spredixcan_genes_tissues_pc_variance = spredixcan_genes_models.apply(\n",
    "    _get_gene_pc_variance, axis=1\n",
    ")"
   ]
  },
  {
   "cell_type": "code",
   "execution_count": 90,
   "id": "621302a1-1407-4400-9282-e37798bb18b3",
   "metadata": {
    "execution": {
     "iopub.execute_input": "2022-08-02T21:39:03.925918Z",
     "iopub.status.busy": "2022-08-02T21:39:03.925690Z",
     "iopub.status.idle": "2022-08-02T21:39:04.123817Z",
     "shell.execute_reply": "2022-08-02T21:39:04.123312Z"
    },
    "papermill": {
     "duration": 0.22622,
     "end_time": "2022-08-02T21:39:04.125328",
     "exception": false,
     "start_time": "2022-08-02T21:39:03.899108",
     "status": "completed"
    },
    "tags": []
   },
   "outputs": [
    {
     "data": {
      "text/plain": [
       "gene_id\n",
       "ENSG00000000419             [1.0442398458252409, 0.9557601541747592]\n",
       "ENSG00000000938    [31.63266933637129, 2.078367751851144, 1.27161...\n",
       "ENSG00000000971    [21.56076992568329, 7.310170987045463, 1.83778...\n",
       "ENSG00000001084    [21.291939080546538, 4.699418748743195, 2.2489...\n",
       "ENSG00000001167               [37.3356602954977, 1.3914019604538357]\n",
       "                                         ...                        \n",
       "ENSG00000278540    [30.239540272954756, 3.0448326465798896, 1.679...\n",
       "ENSG00000278828              [3.062182335109643, 0.9378176648903567]\n",
       "ENSG00000278845              [45.687454510139084, 2.226801954648235]\n",
       "ENSG00000281005                                  [48.30170739785572]\n",
       "ENSG00000282608    [22.6535140812371, 6.245520030604538, 2.555945...\n",
       "Length: 6444, dtype: object"
      ]
     },
     "execution_count": 90,
     "metadata": {},
     "output_type": "execute_result"
    }
   ],
   "source": [
    "spredixcan_genes_tissues_pc_variance"
   ]
  },
  {
   "cell_type": "code",
   "execution_count": 91,
   "id": "9ac9e0fb-e0cc-4fea-ad01-2e76d40afb3c",
   "metadata": {
    "execution": {
     "iopub.execute_input": "2022-08-02T21:39:04.211348Z",
     "iopub.status.busy": "2022-08-02T21:39:04.211106Z",
     "iopub.status.idle": "2022-08-02T21:39:04.226963Z",
     "shell.execute_reply": "2022-08-02T21:39:04.226433Z"
    },
    "papermill": {
     "duration": 0.043372,
     "end_time": "2022-08-02T21:39:04.228484",
     "exception": false,
     "start_time": "2022-08-02T21:39:04.185112",
     "status": "completed"
    },
    "tags": []
   },
   "outputs": [],
   "source": [
    "# # testing\n",
    "# assert spredixcan_genes_tissues_pc_variance.loc[\n",
    "#     \"ENSG00000188976\"\n",
    "# ].sum() == pytest.approx(44.01605629086847)\n",
    "# # this is using the covariance:\n",
    "# # assert spredixcan_genes_tissues_pc_variance.loc[\"ENSG00000188976\"].sum() == pytest.approx(1.1492946006449425)"
   ]
  },
  {
   "cell_type": "code",
   "execution_count": 92,
   "id": "700ed8c8-16e3-4f44-80ff-a4355349ac26",
   "metadata": {
    "execution": {
     "iopub.execute_input": "2022-08-02T21:39:04.278482Z",
     "iopub.status.busy": "2022-08-02T21:39:04.278296Z",
     "iopub.status.idle": "2022-08-02T21:39:04.294503Z",
     "shell.execute_reply": "2022-08-02T21:39:04.294030Z"
    },
    "papermill": {
     "duration": 0.042957,
     "end_time": "2022-08-02T21:39:04.296022",
     "exception": false,
     "start_time": "2022-08-02T21:39:04.253065",
     "status": "completed"
    },
    "tags": []
   },
   "outputs": [],
   "source": [
    "# add to spredixcan_genes_models\n",
    "spredixcan_genes_models = spredixcan_genes_models.join(\n",
    "    spredixcan_genes_tissues_pc_variance.rename(\"tissues_pc_variances\")\n",
    ")"
   ]
  },
  {
   "cell_type": "code",
   "execution_count": 93,
   "id": "597f7dff-2425-490d-84d6-537f8bd0f147",
   "metadata": {
    "execution": {
     "iopub.execute_input": "2022-08-02T21:39:04.346210Z",
     "iopub.status.busy": "2022-08-02T21:39:04.346026Z",
     "iopub.status.idle": "2022-08-02T21:39:04.361528Z",
     "shell.execute_reply": "2022-08-02T21:39:04.361058Z"
    },
    "papermill": {
     "duration": 0.042256,
     "end_time": "2022-08-02T21:39:04.362935",
     "exception": false,
     "start_time": "2022-08-02T21:39:04.320679",
     "status": "completed"
    },
    "tags": []
   },
   "outputs": [
    {
     "data": {
      "text/plain": [
       "(6444, 4)"
      ]
     },
     "execution_count": 93,
     "metadata": {},
     "output_type": "execute_result"
    }
   ],
   "source": [
    "spredixcan_genes_models.shape"
   ]
  },
  {
   "cell_type": "code",
   "execution_count": 94,
   "id": "41bdb249-f7e3-4b07-a534-2c3e46db72dc",
   "metadata": {
    "execution": {
     "iopub.execute_input": "2022-08-02T21:39:04.413435Z",
     "iopub.status.busy": "2022-08-02T21:39:04.413249Z",
     "iopub.status.idle": "2022-08-02T21:39:04.434507Z",
     "shell.execute_reply": "2022-08-02T21:39:04.434012Z"
    },
    "papermill": {
     "duration": 0.048527,
     "end_time": "2022-08-02T21:39:04.435916",
     "exception": false,
     "start_time": "2022-08-02T21:39:04.387389",
     "status": "completed"
    },
    "tags": []
   },
   "outputs": [
    {
     "data": {
      "text/html": [
       "<div>\n",
       "<style scoped>\n",
       "    .dataframe tbody tr th:only-of-type {\n",
       "        vertical-align: middle;\n",
       "    }\n",
       "\n",
       "    .dataframe tbody tr th {\n",
       "        vertical-align: top;\n",
       "    }\n",
       "\n",
       "    .dataframe thead th {\n",
       "        text-align: right;\n",
       "    }\n",
       "</style>\n",
       "<table border=\"1\" class=\"dataframe\">\n",
       "  <thead>\n",
       "    <tr style=\"text-align: right;\">\n",
       "      <th></th>\n",
       "      <th>gene_name</th>\n",
       "      <th>tissue</th>\n",
       "      <th>n_tissues</th>\n",
       "      <th>tissues_pc_variances</th>\n",
       "    </tr>\n",
       "    <tr>\n",
       "      <th>gene_id</th>\n",
       "      <th></th>\n",
       "      <th></th>\n",
       "      <th></th>\n",
       "      <th></th>\n",
       "    </tr>\n",
       "  </thead>\n",
       "  <tbody>\n",
       "    <tr>\n",
       "      <th>ENSG00000000419</th>\n",
       "      <td>DPM1</td>\n",
       "      <td>(Brain_Hypothalamus, Brain_Substantia_nigra)</td>\n",
       "      <td>2</td>\n",
       "      <td>[1.0442398458252409, 0.9557601541747592]</td>\n",
       "    </tr>\n",
       "    <tr>\n",
       "      <th>ENSG00000000938</th>\n",
       "      <td>FGR</td>\n",
       "      <td>(Esophagus_Muscularis, Thyroid, Brain_Cortex, ...</td>\n",
       "      <td>36</td>\n",
       "      <td>[31.63266933637129, 2.078367751851144, 1.27161...</td>\n",
       "    </tr>\n",
       "    <tr>\n",
       "      <th>ENSG00000000971</th>\n",
       "      <td>CFH</td>\n",
       "      <td>(Esophagus_Muscularis, Thyroid, Brain_Cortex, ...</td>\n",
       "      <td>34</td>\n",
       "      <td>[21.56076992568329, 7.310170987045463, 1.83778...</td>\n",
       "    </tr>\n",
       "    <tr>\n",
       "      <th>ENSG00000001084</th>\n",
       "      <td>GCLC</td>\n",
       "      <td>(Thyroid, Brain_Cortex, Heart_Left_Ventricle, ...</td>\n",
       "      <td>32</td>\n",
       "      <td>[21.291939080546538, 4.699418748743195, 2.2489...</td>\n",
       "    </tr>\n",
       "    <tr>\n",
       "      <th>ENSG00000001167</th>\n",
       "      <td>NFYA</td>\n",
       "      <td>(Esophagus_Muscularis, Thyroid, Brain_Cortex, ...</td>\n",
       "      <td>40</td>\n",
       "      <td>[37.3356602954977, 1.3914019604538357]</td>\n",
       "    </tr>\n",
       "  </tbody>\n",
       "</table>\n",
       "</div>"
      ],
      "text/plain": [
       "                gene_name                                             tissue  \\\n",
       "gene_id                                                                        \n",
       "ENSG00000000419      DPM1       (Brain_Hypothalamus, Brain_Substantia_nigra)   \n",
       "ENSG00000000938       FGR  (Esophagus_Muscularis, Thyroid, Brain_Cortex, ...   \n",
       "ENSG00000000971       CFH  (Esophagus_Muscularis, Thyroid, Brain_Cortex, ...   \n",
       "ENSG00000001084      GCLC  (Thyroid, Brain_Cortex, Heart_Left_Ventricle, ...   \n",
       "ENSG00000001167      NFYA  (Esophagus_Muscularis, Thyroid, Brain_Cortex, ...   \n",
       "\n",
       "                 n_tissues                               tissues_pc_variances  \n",
       "gene_id                                                                        \n",
       "ENSG00000000419          2           [1.0442398458252409, 0.9557601541747592]  \n",
       "ENSG00000000938         36  [31.63266933637129, 2.078367751851144, 1.27161...  \n",
       "ENSG00000000971         34  [21.56076992568329, 7.310170987045463, 1.83778...  \n",
       "ENSG00000001084         32  [21.291939080546538, 4.699418748743195, 2.2489...  \n",
       "ENSG00000001167         40             [37.3356602954977, 1.3914019604538357]  "
      ]
     },
     "execution_count": 94,
     "metadata": {},
     "output_type": "execute_result"
    }
   ],
   "source": [
    "spredixcan_genes_models.head()"
   ]
  },
  {
   "cell_type": "markdown",
   "id": "e58c08e2-6179-4d47-af1e-4f5e6e048d9d",
   "metadata": {
    "papermill": {
     "duration": 0.024563,
     "end_time": "2022-08-02T21:39:04.485483",
     "exception": false,
     "start_time": "2022-08-02T21:39:04.460920",
     "status": "completed"
    },
    "tags": []
   },
   "source": [
    "### Add genes' variance captured by principal components (covariance)"
   ]
  },
  {
   "cell_type": "code",
   "execution_count": 95,
   "id": "25a97b2a-8044-4de7-b532-7b6516d2b82c",
   "metadata": {
    "execution": {
     "iopub.execute_input": "2022-08-02T21:39:04.536298Z",
     "iopub.status.busy": "2022-08-02T21:39:04.536110Z",
     "iopub.status.idle": "2022-08-02T21:39:04.550514Z",
     "shell.execute_reply": "2022-08-02T21:39:04.550038Z"
    },
    "papermill": {
     "duration": 0.041766,
     "end_time": "2022-08-02T21:39:04.552096",
     "exception": false,
     "start_time": "2022-08-02T21:39:04.510330",
     "status": "completed"
    },
    "tags": []
   },
   "outputs": [],
   "source": [
    "def _get_gene_pc_variance(gene_row):\n",
    "    gene_id = gene_row.name\n",
    "    gene_tissues = gene_row[\"tissue\"]\n",
    "    gene_obj = spredixcan_gene_obj[gene_id]\n",
    "\n",
    "    u, s, vt = gene_obj.get_tissues_correlations_svd(\n",
    "        tissues=gene_tissues,\n",
    "        snps_subset=gwas_variants_ids_set,\n",
    "        reference_panel=REFERENCE_PANEL,\n",
    "        model_type=EQTL_MODEL,\n",
    "        use_covariance_matrix=True,\n",
    "    )\n",
    "\n",
    "    return s"
   ]
  },
  {
   "cell_type": "code",
   "execution_count": 96,
   "id": "f750ce3c-3bea-49d6-beca-9f609ae69b87",
   "metadata": {
    "execution": {
     "iopub.execute_input": "2022-08-02T21:39:04.603492Z",
     "iopub.status.busy": "2022-08-02T21:39:04.603307Z",
     "iopub.status.idle": "2022-08-02T21:39:05.043834Z",
     "shell.execute_reply": "2022-08-02T21:39:05.043343Z"
    },
    "papermill": {
     "duration": 0.467486,
     "end_time": "2022-08-02T21:39:05.045231",
     "exception": false,
     "start_time": "2022-08-02T21:39:04.577745",
     "status": "completed"
    },
    "tags": []
   },
   "outputs": [
    {
     "data": {
      "text/plain": [
       "array([0.92569322, 0.08878404])"
      ]
     },
     "execution_count": 96,
     "metadata": {},
     "output_type": "execute_result"
    }
   ],
   "source": [
    "_tmp = spredixcan_genes_models.loc[\"ENSG00000188976\"]\n",
    "_get_gene_pc_variance(_tmp)"
   ]
  },
  {
   "cell_type": "code",
   "execution_count": 97,
   "id": "6502c9ff-8f64-46f9-b94f-9a4a0f6736ba",
   "metadata": {
    "execution": {
     "iopub.execute_input": "2022-08-02T21:39:05.096886Z",
     "iopub.status.busy": "2022-08-02T21:39:05.096676Z",
     "iopub.status.idle": "2022-08-02T23:09:01.952091Z",
     "shell.execute_reply": "2022-08-02T23:09:01.951310Z"
    },
    "papermill": {
     "duration": 5396.882974,
     "end_time": "2022-08-02T23:09:01.954034",
     "exception": false,
     "start_time": "2022-08-02T21:39:05.071060",
     "status": "completed"
    },
    "tags": []
   },
   "outputs": [],
   "source": [
    "spredixcan_genes_tissues_pc_variance = spredixcan_genes_models.apply(\n",
    "    _get_gene_pc_variance, axis=1\n",
    ")"
   ]
  },
  {
   "cell_type": "code",
   "execution_count": 98,
   "id": "a647f47b-6663-4bab-9ffc-c2e92b93c654",
   "metadata": {
    "execution": {
     "iopub.execute_input": "2022-08-02T23:09:02.009217Z",
     "iopub.status.busy": "2022-08-02T23:09:02.009013Z",
     "iopub.status.idle": "2022-08-02T23:09:02.217605Z",
     "shell.execute_reply": "2022-08-02T23:09:02.216960Z"
    },
    "papermill": {
     "duration": 0.236133,
     "end_time": "2022-08-02T23:09:02.219007",
     "exception": false,
     "start_time": "2022-08-02T23:09:01.982874",
     "status": "completed"
    },
    "tags": []
   },
   "outputs": [
    {
     "data": {
      "text/plain": [
       "gene_id\n",
       "ENSG00000000419       [0.013163142634155849, 0.00048574890347684763]\n",
       "ENSG00000000938                                 [0.1715948657078027]\n",
       "ENSG00000000971    [0.2093060319587451, 0.058234347656008024, 0.0...\n",
       "ENSG00000001084    [0.39430527375123775, 0.11627488888534836, 0.0...\n",
       "ENSG00000001167            [1.1642639979821048, 0.05742881287671712]\n",
       "                                         ...                        \n",
       "ENSG00000278540          [0.12105177321833696, 0.011043537807199575]\n",
       "ENSG00000278828        [0.003774008788117112, 0.0024289076167174424]\n",
       "ENSG00000278845            [1.0913874047417143, 0.04698044450101883]\n",
       "ENSG00000281005                                 [3.8662049265278173]\n",
       "ENSG00000282608    [0.22315950079956806, 0.031779000782788086, 0....\n",
       "Length: 6444, dtype: object"
      ]
     },
     "execution_count": 98,
     "metadata": {},
     "output_type": "execute_result"
    }
   ],
   "source": [
    "spredixcan_genes_tissues_pc_variance"
   ]
  },
  {
   "cell_type": "code",
   "execution_count": 99,
   "id": "6a8d4099-1dca-4d11-a9b8-5a1119885329",
   "metadata": {
    "execution": {
     "iopub.execute_input": "2022-08-02T23:09:02.294673Z",
     "iopub.status.busy": "2022-08-02T23:09:02.294423Z",
     "iopub.status.idle": "2022-08-02T23:09:02.309766Z",
     "shell.execute_reply": "2022-08-02T23:09:02.309275Z"
    },
    "papermill": {
     "duration": 0.066954,
     "end_time": "2022-08-02T23:09:02.311272",
     "exception": false,
     "start_time": "2022-08-02T23:09:02.244318",
     "status": "completed"
    },
    "tags": []
   },
   "outputs": [],
   "source": [
    "# # testing\n",
    "# # assert spredixcan_genes_tissues_pc_variance.loc[\"ENSG00000188976\"].sum() == pytest.approx(44.01605629086847)\n",
    "# # this is using the covariance:\n",
    "# assert spredixcan_genes_tissues_pc_variance.loc[\n",
    "#     \"ENSG00000188976\"\n",
    "# ].sum() == pytest.approx(1.1492946006449425)"
   ]
  },
  {
   "cell_type": "code",
   "execution_count": 100,
   "id": "102ed25d-6c0c-466d-be27-e75a3f03a4bb",
   "metadata": {
    "execution": {
     "iopub.execute_input": "2022-08-02T23:09:02.362680Z",
     "iopub.status.busy": "2022-08-02T23:09:02.362486Z",
     "iopub.status.idle": "2022-08-02T23:09:02.378319Z",
     "shell.execute_reply": "2022-08-02T23:09:02.377846Z"
    },
    "papermill": {
     "duration": 0.043387,
     "end_time": "2022-08-02T23:09:02.379828",
     "exception": false,
     "start_time": "2022-08-02T23:09:02.336441",
     "status": "completed"
    },
    "tags": []
   },
   "outputs": [],
   "source": [
    "# add to spredixcan_genes_models\n",
    "spredixcan_genes_models = spredixcan_genes_models.join(\n",
    "    spredixcan_genes_tissues_pc_variance.rename(\"tissues_pc_variances_cov\")\n",
    ")"
   ]
  },
  {
   "cell_type": "code",
   "execution_count": 101,
   "id": "000d6517-dc14-42a2-88ef-5e6856b293b7",
   "metadata": {
    "execution": {
     "iopub.execute_input": "2022-08-02T23:09:02.431467Z",
     "iopub.status.busy": "2022-08-02T23:09:02.431280Z",
     "iopub.status.idle": "2022-08-02T23:09:02.446769Z",
     "shell.execute_reply": "2022-08-02T23:09:02.446261Z"
    },
    "papermill": {
     "duration": 0.042904,
     "end_time": "2022-08-02T23:09:02.448180",
     "exception": false,
     "start_time": "2022-08-02T23:09:02.405276",
     "status": "completed"
    },
    "tags": []
   },
   "outputs": [
    {
     "data": {
      "text/plain": [
       "(6444, 5)"
      ]
     },
     "execution_count": 101,
     "metadata": {},
     "output_type": "execute_result"
    }
   ],
   "source": [
    "spredixcan_genes_models.shape"
   ]
  },
  {
   "cell_type": "code",
   "execution_count": 102,
   "id": "a2dd6dc7-b325-4f21-910f-6611b7d87efd",
   "metadata": {
    "execution": {
     "iopub.execute_input": "2022-08-02T23:09:02.499421Z",
     "iopub.status.busy": "2022-08-02T23:09:02.499236Z",
     "iopub.status.idle": "2022-08-02T23:09:02.522497Z",
     "shell.execute_reply": "2022-08-02T23:09:02.522023Z"
    },
    "papermill": {
     "duration": 0.05083,
     "end_time": "2022-08-02T23:09:02.523898",
     "exception": false,
     "start_time": "2022-08-02T23:09:02.473068",
     "status": "completed"
    },
    "tags": []
   },
   "outputs": [
    {
     "data": {
      "text/html": [
       "<div>\n",
       "<style scoped>\n",
       "    .dataframe tbody tr th:only-of-type {\n",
       "        vertical-align: middle;\n",
       "    }\n",
       "\n",
       "    .dataframe tbody tr th {\n",
       "        vertical-align: top;\n",
       "    }\n",
       "\n",
       "    .dataframe thead th {\n",
       "        text-align: right;\n",
       "    }\n",
       "</style>\n",
       "<table border=\"1\" class=\"dataframe\">\n",
       "  <thead>\n",
       "    <tr style=\"text-align: right;\">\n",
       "      <th></th>\n",
       "      <th>gene_name</th>\n",
       "      <th>tissue</th>\n",
       "      <th>n_tissues</th>\n",
       "      <th>tissues_pc_variances</th>\n",
       "      <th>tissues_pc_variances_cov</th>\n",
       "    </tr>\n",
       "    <tr>\n",
       "      <th>gene_id</th>\n",
       "      <th></th>\n",
       "      <th></th>\n",
       "      <th></th>\n",
       "      <th></th>\n",
       "      <th></th>\n",
       "    </tr>\n",
       "  </thead>\n",
       "  <tbody>\n",
       "    <tr>\n",
       "      <th>ENSG00000000419</th>\n",
       "      <td>DPM1</td>\n",
       "      <td>(Brain_Hypothalamus, Brain_Substantia_nigra)</td>\n",
       "      <td>2</td>\n",
       "      <td>[1.0442398458252409, 0.9557601541747592]</td>\n",
       "      <td>[0.013163142634155849, 0.00048574890347684763]</td>\n",
       "    </tr>\n",
       "    <tr>\n",
       "      <th>ENSG00000000938</th>\n",
       "      <td>FGR</td>\n",
       "      <td>(Esophagus_Muscularis, Thyroid, Brain_Cortex, ...</td>\n",
       "      <td>36</td>\n",
       "      <td>[31.63266933637129, 2.078367751851144, 1.27161...</td>\n",
       "      <td>[0.1715948657078027]</td>\n",
       "    </tr>\n",
       "    <tr>\n",
       "      <th>ENSG00000000971</th>\n",
       "      <td>CFH</td>\n",
       "      <td>(Esophagus_Muscularis, Thyroid, Brain_Cortex, ...</td>\n",
       "      <td>34</td>\n",
       "      <td>[21.56076992568329, 7.310170987045463, 1.83778...</td>\n",
       "      <td>[0.2093060319587451, 0.058234347656008024, 0.0...</td>\n",
       "    </tr>\n",
       "    <tr>\n",
       "      <th>ENSG00000001084</th>\n",
       "      <td>GCLC</td>\n",
       "      <td>(Thyroid, Brain_Cortex, Heart_Left_Ventricle, ...</td>\n",
       "      <td>32</td>\n",
       "      <td>[21.291939080546538, 4.699418748743195, 2.2489...</td>\n",
       "      <td>[0.39430527375123775, 0.11627488888534836, 0.0...</td>\n",
       "    </tr>\n",
       "    <tr>\n",
       "      <th>ENSG00000001167</th>\n",
       "      <td>NFYA</td>\n",
       "      <td>(Esophagus_Muscularis, Thyroid, Brain_Cortex, ...</td>\n",
       "      <td>40</td>\n",
       "      <td>[37.3356602954977, 1.3914019604538357]</td>\n",
       "      <td>[1.1642639979821048, 0.05742881287671712]</td>\n",
       "    </tr>\n",
       "  </tbody>\n",
       "</table>\n",
       "</div>"
      ],
      "text/plain": [
       "                gene_name                                             tissue  \\\n",
       "gene_id                                                                        \n",
       "ENSG00000000419      DPM1       (Brain_Hypothalamus, Brain_Substantia_nigra)   \n",
       "ENSG00000000938       FGR  (Esophagus_Muscularis, Thyroid, Brain_Cortex, ...   \n",
       "ENSG00000000971       CFH  (Esophagus_Muscularis, Thyroid, Brain_Cortex, ...   \n",
       "ENSG00000001084      GCLC  (Thyroid, Brain_Cortex, Heart_Left_Ventricle, ...   \n",
       "ENSG00000001167      NFYA  (Esophagus_Muscularis, Thyroid, Brain_Cortex, ...   \n",
       "\n",
       "                 n_tissues                               tissues_pc_variances  \\\n",
       "gene_id                                                                         \n",
       "ENSG00000000419          2           [1.0442398458252409, 0.9557601541747592]   \n",
       "ENSG00000000938         36  [31.63266933637129, 2.078367751851144, 1.27161...   \n",
       "ENSG00000000971         34  [21.56076992568329, 7.310170987045463, 1.83778...   \n",
       "ENSG00000001084         32  [21.291939080546538, 4.699418748743195, 2.2489...   \n",
       "ENSG00000001167         40             [37.3356602954977, 1.3914019604538357]   \n",
       "\n",
       "                                          tissues_pc_variances_cov  \n",
       "gene_id                                                             \n",
       "ENSG00000000419     [0.013163142634155849, 0.00048574890347684763]  \n",
       "ENSG00000000938                               [0.1715948657078027]  \n",
       "ENSG00000000971  [0.2093060319587451, 0.058234347656008024, 0.0...  \n",
       "ENSG00000001084  [0.39430527375123775, 0.11627488888534836, 0.0...  \n",
       "ENSG00000001167          [1.1642639979821048, 0.05742881287671712]  "
      ]
     },
     "execution_count": 102,
     "metadata": {},
     "output_type": "execute_result"
    }
   ],
   "source": [
    "spredixcan_genes_models.head()"
   ]
  },
  {
   "cell_type": "markdown",
   "id": "ef1c76d7-485b-4e8a-932e-fd01382d5520",
   "metadata": {
    "papermill": {
     "duration": 0.024877,
     "end_time": "2022-08-02T23:09:02.574051",
     "exception": false,
     "start_time": "2022-08-02T23:09:02.549174",
     "status": "completed"
    },
    "tags": []
   },
   "source": [
    "### Add gene variance per tissue"
   ]
  },
  {
   "cell_type": "code",
   "execution_count": 103,
   "id": "530f7941-6ad7-4a29-b9e4-a006949282e0",
   "metadata": {
    "execution": {
     "iopub.execute_input": "2022-08-02T23:09:02.626057Z",
     "iopub.status.busy": "2022-08-02T23:09:02.625869Z",
     "iopub.status.idle": "2022-08-02T23:09:02.640801Z",
     "shell.execute_reply": "2022-08-02T23:09:02.640298Z"
    },
    "papermill": {
     "duration": 0.04277,
     "end_time": "2022-08-02T23:09:02.642309",
     "exception": false,
     "start_time": "2022-08-02T23:09:02.599539",
     "status": "completed"
    },
    "tags": []
   },
   "outputs": [],
   "source": [
    "def _get_gene_variances(gene_row):\n",
    "    gene_id = gene_row.name\n",
    "    gene_tissues = gene_row[\"tissue\"]\n",
    "\n",
    "    tissue_variances = {}\n",
    "    gene_obj = spredixcan_gene_obj[gene_id]\n",
    "\n",
    "    for tissue in gene_tissues:\n",
    "        tissue_var = gene_obj.get_pred_expression_variance(\n",
    "            tissue=tissue,\n",
    "            reference_panel=REFERENCE_PANEL,\n",
    "            model_type=EQTL_MODEL,\n",
    "            snps_subset=gwas_variants_ids_set,\n",
    "        )\n",
    "\n",
    "        if tissue_var is not None:\n",
    "            tissue_variances[tissue] = tissue_var\n",
    "\n",
    "    return tissue_variances"
   ]
  },
  {
   "cell_type": "code",
   "execution_count": 104,
   "id": "01eb9e6a-4505-44e6-9e6e-9788e257f319",
   "metadata": {
    "execution": {
     "iopub.execute_input": "2022-08-02T23:09:02.694923Z",
     "iopub.status.busy": "2022-08-02T23:09:02.694722Z",
     "iopub.status.idle": "2022-08-02T23:09:02.711682Z",
     "shell.execute_reply": "2022-08-02T23:09:02.711181Z"
    },
    "papermill": {
     "duration": 0.045937,
     "end_time": "2022-08-02T23:09:02.713169",
     "exception": false,
     "start_time": "2022-08-02T23:09:02.667232",
     "status": "completed"
    },
    "tags": []
   },
   "outputs": [
    {
     "data": {
      "text/plain": [
       "{'Brain_Hypothalamus': 0.013162153504206677,\n",
       " 'Brain_Substantia_nigra': 0.0004867380334260178}"
      ]
     },
     "execution_count": 104,
     "metadata": {},
     "output_type": "execute_result"
    }
   ],
   "source": [
    "_tmp = spredixcan_genes_models.loc[\"ENSG00000000419\"]\n",
    "_get_gene_variances(_tmp)"
   ]
  },
  {
   "cell_type": "code",
   "execution_count": 105,
   "id": "447061ec-4847-4911-a1d6-8b86d15e4aac",
   "metadata": {
    "execution": {
     "iopub.execute_input": "2022-08-02T23:09:02.767368Z",
     "iopub.status.busy": "2022-08-02T23:09:02.767182Z",
     "iopub.status.idle": "2022-08-02T23:09:04.384031Z",
     "shell.execute_reply": "2022-08-02T23:09:04.383466Z"
    },
    "papermill": {
     "duration": 1.645915,
     "end_time": "2022-08-02T23:09:04.385889",
     "exception": false,
     "start_time": "2022-08-02T23:09:02.739974",
     "status": "completed"
    },
    "tags": []
   },
   "outputs": [],
   "source": [
    "spredixcan_genes_tissues_variance = spredixcan_genes_models.apply(\n",
    "    _get_gene_variances, axis=1\n",
    ")"
   ]
  },
  {
   "cell_type": "code",
   "execution_count": 106,
   "id": "816cbdd2-d667-4eaa-bbf7-335550854ee8",
   "metadata": {
    "execution": {
     "iopub.execute_input": "2022-08-02T23:09:04.440516Z",
     "iopub.status.busy": "2022-08-02T23:09:04.440323Z",
     "iopub.status.idle": "2022-08-02T23:09:04.461384Z",
     "shell.execute_reply": "2022-08-02T23:09:04.460913Z"
    },
    "papermill": {
     "duration": 0.049584,
     "end_time": "2022-08-02T23:09:04.462783",
     "exception": false,
     "start_time": "2022-08-02T23:09:04.413199",
     "status": "completed"
    },
    "tags": []
   },
   "outputs": [
    {
     "data": {
      "text/plain": [
       "gene_id\n",
       "ENSG00000000419    {'Brain_Hypothalamus': 0.013162153504206677, '...\n",
       "ENSG00000000938    {'Esophagus_Muscularis': 0.006536602044478473,...\n",
       "ENSG00000000971    {'Esophagus_Muscularis': 0.01739410990047228, ...\n",
       "ENSG00000001084    {'Thyroid': 0.009654918580686024, 'Brain_Corte...\n",
       "ENSG00000001167    {'Esophagus_Muscularis': 0.0318781600881541, '...\n",
       "                                         ...                        \n",
       "ENSG00000278540    {'Esophagus_Muscularis': 0.002903665335021846,...\n",
       "ENSG00000278828    {'Cells_EBV-transformed_lymphocytes': 0.003027...\n",
       "ENSG00000278845    {'Esophagus_Muscularis': 0.018986238666239108,...\n",
       "ENSG00000281005    {'Esophagus_Muscularis': 0.011785380242520696,...\n",
       "ENSG00000282608    {'Esophagus_Muscularis': 0.0073249064101135325...\n",
       "Length: 6444, dtype: object"
      ]
     },
     "execution_count": 106,
     "metadata": {},
     "output_type": "execute_result"
    }
   ],
   "source": [
    "spredixcan_genes_tissues_variance"
   ]
  },
  {
   "cell_type": "code",
   "execution_count": 107,
   "id": "68c65eb6-15c0-494d-992f-93bc84268a59",
   "metadata": {
    "execution": {
     "iopub.execute_input": "2022-08-02T23:09:04.514987Z",
     "iopub.status.busy": "2022-08-02T23:09:04.514792Z",
     "iopub.status.idle": "2022-08-02T23:09:04.528823Z",
     "shell.execute_reply": "2022-08-02T23:09:04.528326Z"
    },
    "papermill": {
     "duration": 0.042293,
     "end_time": "2022-08-02T23:09:04.530379",
     "exception": false,
     "start_time": "2022-08-02T23:09:04.488086",
     "status": "completed"
    },
    "tags": []
   },
   "outputs": [],
   "source": [
    "# # testing\n",
    "# _gene_id = \"ENSG00000188976\"\n",
    "# x = spredixcan_genes_tissues_variance.loc[_gene_id]\n",
    "# # expected value obtained by sum of PCA eigenvalues on this gene's predicted expression\n",
    "# assert np.sum(list(x.values())) == pytest.approx(1.2326202607409493)"
   ]
  },
  {
   "cell_type": "code",
   "execution_count": 108,
   "id": "1996453a-fdfc-44e9-bbdf-b83e3b3b1aee",
   "metadata": {
    "execution": {
     "iopub.execute_input": "2022-08-02T23:09:04.584984Z",
     "iopub.status.busy": "2022-08-02T23:09:04.584786Z",
     "iopub.status.idle": "2022-08-02T23:09:04.600785Z",
     "shell.execute_reply": "2022-08-02T23:09:04.600265Z"
    },
    "papermill": {
     "duration": 0.045052,
     "end_time": "2022-08-02T23:09:04.602322",
     "exception": false,
     "start_time": "2022-08-02T23:09:04.557270",
     "status": "completed"
    },
    "tags": []
   },
   "outputs": [
    {
     "data": {
      "text/plain": [
       "{'Brain_Hypothalamus': 0.013162153504206677,\n",
       " 'Brain_Substantia_nigra': 0.0004867380334260178}"
      ]
     },
     "execution_count": 108,
     "metadata": {},
     "output_type": "execute_result"
    }
   ],
   "source": [
    "# testing\n",
    "spredixcan_genes_tissues_variance.loc[\"ENSG00000000419\"]"
   ]
  },
  {
   "cell_type": "code",
   "execution_count": 109,
   "id": "62572b31-7e49-4ed0-ac1b-42552f3e264f",
   "metadata": {
    "execution": {
     "iopub.execute_input": "2022-08-02T23:09:04.655453Z",
     "iopub.status.busy": "2022-08-02T23:09:04.655268Z",
     "iopub.status.idle": "2022-08-02T23:09:04.668697Z",
     "shell.execute_reply": "2022-08-02T23:09:04.668215Z"
    },
    "papermill": {
     "duration": 0.041533,
     "end_time": "2022-08-02T23:09:04.670180",
     "exception": false,
     "start_time": "2022-08-02T23:09:04.628647",
     "status": "completed"
    },
    "tags": []
   },
   "outputs": [],
   "source": [
    "# FIXME: maybe add more tests, these differt from GTEX V8\n",
    "# # testing\n",
    "# # here values were obtained from S-PrediXcan results, where the reference panel is GTEX V8, not 1000G, so just approximations)\n",
    "# _gene_id = \"ENSG00000000419\"\n",
    "# assert spredixcan_genes_tissues_variance.loc[_gene_id][\"Brain_Substantia_nigra\"] == pytest.approx(0.0004266255268163448)\n",
    "# assert spredixcan_genes_tissues_variance.loc[_gene_id][\"Brain_Hypothalamus\"] == pytest.approx(0.011235877515236132)"
   ]
  },
  {
   "cell_type": "code",
   "execution_count": 110,
   "id": "88e42a97-801b-43a4-a829-4eaac03360b8",
   "metadata": {
    "execution": {
     "iopub.execute_input": "2022-08-02T23:09:04.722869Z",
     "iopub.status.busy": "2022-08-02T23:09:04.722685Z",
     "iopub.status.idle": "2022-08-02T23:09:04.737852Z",
     "shell.execute_reply": "2022-08-02T23:09:04.737377Z"
    },
    "papermill": {
     "duration": 0.043555,
     "end_time": "2022-08-02T23:09:04.739341",
     "exception": false,
     "start_time": "2022-08-02T23:09:04.695786",
     "status": "completed"
    },
    "tags": []
   },
   "outputs": [],
   "source": [
    "# add to spredixcan_genes_models\n",
    "spredixcan_genes_models = spredixcan_genes_models.join(\n",
    "    spredixcan_genes_tissues_variance.rename(\"tissues_variances\")\n",
    ")"
   ]
  },
  {
   "cell_type": "code",
   "execution_count": 111,
   "id": "cb177ca4-fdcb-432f-a102-9c6bd6bd7fa0",
   "metadata": {
    "execution": {
     "iopub.execute_input": "2022-08-02T23:09:04.793090Z",
     "iopub.status.busy": "2022-08-02T23:09:04.792897Z",
     "iopub.status.idle": "2022-08-02T23:09:04.808883Z",
     "shell.execute_reply": "2022-08-02T23:09:04.808381Z"
    },
    "papermill": {
     "duration": 0.04485,
     "end_time": "2022-08-02T23:09:04.810332",
     "exception": false,
     "start_time": "2022-08-02T23:09:04.765482",
     "status": "completed"
    },
    "tags": []
   },
   "outputs": [
    {
     "data": {
      "text/plain": [
       "(6444, 6)"
      ]
     },
     "execution_count": 111,
     "metadata": {},
     "output_type": "execute_result"
    }
   ],
   "source": [
    "spredixcan_genes_models.shape"
   ]
  },
  {
   "cell_type": "code",
   "execution_count": 112,
   "id": "ccabe1fa-20ae-4893-bf12-9a3359b213b8",
   "metadata": {
    "execution": {
     "iopub.execute_input": "2022-08-02T23:09:04.864988Z",
     "iopub.status.busy": "2022-08-02T23:09:04.864795Z",
     "iopub.status.idle": "2022-08-02T23:09:04.892780Z",
     "shell.execute_reply": "2022-08-02T23:09:04.892280Z"
    },
    "papermill": {
     "duration": 0.057023,
     "end_time": "2022-08-02T23:09:04.894230",
     "exception": false,
     "start_time": "2022-08-02T23:09:04.837207",
     "status": "completed"
    },
    "tags": []
   },
   "outputs": [
    {
     "data": {
      "text/html": [
       "<div>\n",
       "<style scoped>\n",
       "    .dataframe tbody tr th:only-of-type {\n",
       "        vertical-align: middle;\n",
       "    }\n",
       "\n",
       "    .dataframe tbody tr th {\n",
       "        vertical-align: top;\n",
       "    }\n",
       "\n",
       "    .dataframe thead th {\n",
       "        text-align: right;\n",
       "    }\n",
       "</style>\n",
       "<table border=\"1\" class=\"dataframe\">\n",
       "  <thead>\n",
       "    <tr style=\"text-align: right;\">\n",
       "      <th></th>\n",
       "      <th>gene_name</th>\n",
       "      <th>tissue</th>\n",
       "      <th>n_tissues</th>\n",
       "      <th>tissues_pc_variances</th>\n",
       "      <th>tissues_pc_variances_cov</th>\n",
       "      <th>tissues_variances</th>\n",
       "    </tr>\n",
       "    <tr>\n",
       "      <th>gene_id</th>\n",
       "      <th></th>\n",
       "      <th></th>\n",
       "      <th></th>\n",
       "      <th></th>\n",
       "      <th></th>\n",
       "      <th></th>\n",
       "    </tr>\n",
       "  </thead>\n",
       "  <tbody>\n",
       "    <tr>\n",
       "      <th>ENSG00000000419</th>\n",
       "      <td>DPM1</td>\n",
       "      <td>(Brain_Hypothalamus, Brain_Substantia_nigra)</td>\n",
       "      <td>2</td>\n",
       "      <td>[1.0442398458252409, 0.9557601541747592]</td>\n",
       "      <td>[0.013163142634155849, 0.00048574890347684763]</td>\n",
       "      <td>{'Brain_Hypothalamus': 0.013162153504206677, '...</td>\n",
       "    </tr>\n",
       "    <tr>\n",
       "      <th>ENSG00000000938</th>\n",
       "      <td>FGR</td>\n",
       "      <td>(Esophagus_Muscularis, Thyroid, Brain_Cortex, ...</td>\n",
       "      <td>36</td>\n",
       "      <td>[31.63266933637129, 2.078367751851144, 1.27161...</td>\n",
       "      <td>[0.1715948657078027]</td>\n",
       "      <td>{'Esophagus_Muscularis': 0.006536602044478473,...</td>\n",
       "    </tr>\n",
       "    <tr>\n",
       "      <th>ENSG00000000971</th>\n",
       "      <td>CFH</td>\n",
       "      <td>(Esophagus_Muscularis, Thyroid, Brain_Cortex, ...</td>\n",
       "      <td>34</td>\n",
       "      <td>[21.56076992568329, 7.310170987045463, 1.83778...</td>\n",
       "      <td>[0.2093060319587451, 0.058234347656008024, 0.0...</td>\n",
       "      <td>{'Esophagus_Muscularis': 0.01739410990047228, ...</td>\n",
       "    </tr>\n",
       "    <tr>\n",
       "      <th>ENSG00000001084</th>\n",
       "      <td>GCLC</td>\n",
       "      <td>(Thyroid, Brain_Cortex, Heart_Left_Ventricle, ...</td>\n",
       "      <td>32</td>\n",
       "      <td>[21.291939080546538, 4.699418748743195, 2.2489...</td>\n",
       "      <td>[0.39430527375123775, 0.11627488888534836, 0.0...</td>\n",
       "      <td>{'Thyroid': 0.009654918580686024, 'Brain_Corte...</td>\n",
       "    </tr>\n",
       "    <tr>\n",
       "      <th>ENSG00000001167</th>\n",
       "      <td>NFYA</td>\n",
       "      <td>(Esophagus_Muscularis, Thyroid, Brain_Cortex, ...</td>\n",
       "      <td>40</td>\n",
       "      <td>[37.3356602954977, 1.3914019604538357]</td>\n",
       "      <td>[1.1642639979821048, 0.05742881287671712]</td>\n",
       "      <td>{'Esophagus_Muscularis': 0.0318781600881541, '...</td>\n",
       "    </tr>\n",
       "  </tbody>\n",
       "</table>\n",
       "</div>"
      ],
      "text/plain": [
       "                gene_name                                             tissue  \\\n",
       "gene_id                                                                        \n",
       "ENSG00000000419      DPM1       (Brain_Hypothalamus, Brain_Substantia_nigra)   \n",
       "ENSG00000000938       FGR  (Esophagus_Muscularis, Thyroid, Brain_Cortex, ...   \n",
       "ENSG00000000971       CFH  (Esophagus_Muscularis, Thyroid, Brain_Cortex, ...   \n",
       "ENSG00000001084      GCLC  (Thyroid, Brain_Cortex, Heart_Left_Ventricle, ...   \n",
       "ENSG00000001167      NFYA  (Esophagus_Muscularis, Thyroid, Brain_Cortex, ...   \n",
       "\n",
       "                 n_tissues                               tissues_pc_variances  \\\n",
       "gene_id                                                                         \n",
       "ENSG00000000419          2           [1.0442398458252409, 0.9557601541747592]   \n",
       "ENSG00000000938         36  [31.63266933637129, 2.078367751851144, 1.27161...   \n",
       "ENSG00000000971         34  [21.56076992568329, 7.310170987045463, 1.83778...   \n",
       "ENSG00000001084         32  [21.291939080546538, 4.699418748743195, 2.2489...   \n",
       "ENSG00000001167         40             [37.3356602954977, 1.3914019604538357]   \n",
       "\n",
       "                                          tissues_pc_variances_cov  \\\n",
       "gene_id                                                              \n",
       "ENSG00000000419     [0.013163142634155849, 0.00048574890347684763]   \n",
       "ENSG00000000938                               [0.1715948657078027]   \n",
       "ENSG00000000971  [0.2093060319587451, 0.058234347656008024, 0.0...   \n",
       "ENSG00000001084  [0.39430527375123775, 0.11627488888534836, 0.0...   \n",
       "ENSG00000001167          [1.1642639979821048, 0.05742881287671712]   \n",
       "\n",
       "                                                 tissues_variances  \n",
       "gene_id                                                             \n",
       "ENSG00000000419  {'Brain_Hypothalamus': 0.013162153504206677, '...  \n",
       "ENSG00000000938  {'Esophagus_Muscularis': 0.006536602044478473,...  \n",
       "ENSG00000000971  {'Esophagus_Muscularis': 0.01739410990047228, ...  \n",
       "ENSG00000001084  {'Thyroid': 0.009654918580686024, 'Brain_Corte...  \n",
       "ENSG00000001167  {'Esophagus_Muscularis': 0.0318781600881541, '...  "
      ]
     },
     "execution_count": 112,
     "metadata": {},
     "output_type": "execute_result"
    }
   ],
   "source": [
    "spredixcan_genes_models.head()"
   ]
  },
  {
   "cell_type": "markdown",
   "id": "ab6ff41a-0949-4eea-abef-7dc4f0b373fc",
   "metadata": {
    "papermill": {
     "duration": 0.027728,
     "end_time": "2022-08-02T23:09:04.949369",
     "exception": false,
     "start_time": "2022-08-02T23:09:04.921641",
     "status": "completed"
    },
    "tags": []
   },
   "source": [
    "### Count number of SNPs predictors used across tissue models"
   ]
  },
  {
   "cell_type": "code",
   "execution_count": 113,
   "id": "c8f6cc6f-5812-45c9-b775-6f2193f8a360",
   "metadata": {
    "execution": {
     "iopub.execute_input": "2022-08-02T23:09:05.004886Z",
     "iopub.status.busy": "2022-08-02T23:09:05.004689Z",
     "iopub.status.idle": "2022-08-02T23:09:05.051540Z",
     "shell.execute_reply": "2022-08-02T23:09:05.050956Z"
    },
    "papermill": {
     "duration": 0.076632,
     "end_time": "2022-08-02T23:09:05.053315",
     "exception": false,
     "start_time": "2022-08-02T23:09:04.976683",
     "status": "completed"
    },
    "tags": []
   },
   "outputs": [],
   "source": [
    "spredixcan_genes_sum_of_n_snps_used = (\n",
    "    spredixcan_dfs.groupby(\"gene_id\")[\"n_snps_used\"].sum().rename(\"n_snps_used_sum\")\n",
    ")"
   ]
  },
  {
   "cell_type": "code",
   "execution_count": 114,
   "id": "7255df64-7b9f-4504-a4fa-1f2a9aa56ec0",
   "metadata": {
    "execution": {
     "iopub.execute_input": "2022-08-02T23:09:05.111313Z",
     "iopub.status.busy": "2022-08-02T23:09:05.111108Z",
     "iopub.status.idle": "2022-08-02T23:09:05.130542Z",
     "shell.execute_reply": "2022-08-02T23:09:05.130028Z"
    },
    "papermill": {
     "duration": 0.049813,
     "end_time": "2022-08-02T23:09:05.132039",
     "exception": false,
     "start_time": "2022-08-02T23:09:05.082226",
     "status": "completed"
    },
    "tags": []
   },
   "outputs": [
    {
     "data": {
      "text/plain": [
       "gene_id\n",
       "ENSG00000000419     2\n",
       "ENSG00000000938    40\n",
       "ENSG00000000971    44\n",
       "ENSG00000001084    46\n",
       "ENSG00000001167    47\n",
       "                   ..\n",
       "ENSG00000278540    44\n",
       "ENSG00000278828     5\n",
       "ENSG00000278845    89\n",
       "ENSG00000281005    81\n",
       "ENSG00000282608    40\n",
       "Name: n_snps_used_sum, Length: 6444, dtype: int64"
      ]
     },
     "execution_count": 114,
     "metadata": {},
     "output_type": "execute_result"
    }
   ],
   "source": [
    "spredixcan_genes_sum_of_n_snps_used"
   ]
  },
  {
   "cell_type": "code",
   "execution_count": 115,
   "id": "44bc1222-b334-4ce2-8997-494d0e584cf9",
   "metadata": {
    "execution": {
     "iopub.execute_input": "2022-08-02T23:09:05.188277Z",
     "iopub.status.busy": "2022-08-02T23:09:05.188091Z",
     "iopub.status.idle": "2022-08-02T23:09:05.203594Z",
     "shell.execute_reply": "2022-08-02T23:09:05.203105Z"
    },
    "papermill": {
     "duration": 0.04537,
     "end_time": "2022-08-02T23:09:05.205085",
     "exception": false,
     "start_time": "2022-08-02T23:09:05.159715",
     "status": "completed"
    },
    "tags": []
   },
   "outputs": [],
   "source": [
    "# add sum of snps used to spredixcan_genes_models\n",
    "spredixcan_genes_models = spredixcan_genes_models.join(\n",
    "    spredixcan_genes_sum_of_n_snps_used\n",
    ")"
   ]
  },
  {
   "cell_type": "code",
   "execution_count": 116,
   "id": "5e5e6d7f-b970-4f21-9322-b76bc22afd71",
   "metadata": {
    "execution": {
     "iopub.execute_input": "2022-08-02T23:09:05.258551Z",
     "iopub.status.busy": "2022-08-02T23:09:05.258358Z",
     "iopub.status.idle": "2022-08-02T23:09:05.273329Z",
     "shell.execute_reply": "2022-08-02T23:09:05.272862Z"
    },
    "papermill": {
     "duration": 0.04369,
     "end_time": "2022-08-02T23:09:05.274727",
     "exception": false,
     "start_time": "2022-08-02T23:09:05.231037",
     "status": "completed"
    },
    "tags": []
   },
   "outputs": [
    {
     "data": {
      "text/plain": [
       "(6444, 7)"
      ]
     },
     "execution_count": 116,
     "metadata": {},
     "output_type": "execute_result"
    }
   ],
   "source": [
    "spredixcan_genes_models.shape"
   ]
  },
  {
   "cell_type": "code",
   "execution_count": 117,
   "id": "22c096c2-213a-4001-8454-1633997d404f",
   "metadata": {
    "execution": {
     "iopub.execute_input": "2022-08-02T23:09:05.331120Z",
     "iopub.status.busy": "2022-08-02T23:09:05.330926Z",
     "iopub.status.idle": "2022-08-02T23:09:05.359208Z",
     "shell.execute_reply": "2022-08-02T23:09:05.358714Z"
    },
    "papermill": {
     "duration": 0.05948,
     "end_time": "2022-08-02T23:09:05.360686",
     "exception": false,
     "start_time": "2022-08-02T23:09:05.301206",
     "status": "completed"
    },
    "tags": []
   },
   "outputs": [
    {
     "data": {
      "text/html": [
       "<div>\n",
       "<style scoped>\n",
       "    .dataframe tbody tr th:only-of-type {\n",
       "        vertical-align: middle;\n",
       "    }\n",
       "\n",
       "    .dataframe tbody tr th {\n",
       "        vertical-align: top;\n",
       "    }\n",
       "\n",
       "    .dataframe thead th {\n",
       "        text-align: right;\n",
       "    }\n",
       "</style>\n",
       "<table border=\"1\" class=\"dataframe\">\n",
       "  <thead>\n",
       "    <tr style=\"text-align: right;\">\n",
       "      <th></th>\n",
       "      <th>gene_name</th>\n",
       "      <th>tissue</th>\n",
       "      <th>n_tissues</th>\n",
       "      <th>tissues_pc_variances</th>\n",
       "      <th>tissues_pc_variances_cov</th>\n",
       "      <th>tissues_variances</th>\n",
       "      <th>n_snps_used_sum</th>\n",
       "    </tr>\n",
       "    <tr>\n",
       "      <th>gene_id</th>\n",
       "      <th></th>\n",
       "      <th></th>\n",
       "      <th></th>\n",
       "      <th></th>\n",
       "      <th></th>\n",
       "      <th></th>\n",
       "      <th></th>\n",
       "    </tr>\n",
       "  </thead>\n",
       "  <tbody>\n",
       "    <tr>\n",
       "      <th>ENSG00000000419</th>\n",
       "      <td>DPM1</td>\n",
       "      <td>(Brain_Hypothalamus, Brain_Substantia_nigra)</td>\n",
       "      <td>2</td>\n",
       "      <td>[1.0442398458252409, 0.9557601541747592]</td>\n",
       "      <td>[0.013163142634155849, 0.00048574890347684763]</td>\n",
       "      <td>{'Brain_Hypothalamus': 0.013162153504206677, '...</td>\n",
       "      <td>2</td>\n",
       "    </tr>\n",
       "    <tr>\n",
       "      <th>ENSG00000000938</th>\n",
       "      <td>FGR</td>\n",
       "      <td>(Esophagus_Muscularis, Thyroid, Brain_Cortex, ...</td>\n",
       "      <td>36</td>\n",
       "      <td>[31.63266933637129, 2.078367751851144, 1.27161...</td>\n",
       "      <td>[0.1715948657078027]</td>\n",
       "      <td>{'Esophagus_Muscularis': 0.006536602044478473,...</td>\n",
       "      <td>40</td>\n",
       "    </tr>\n",
       "    <tr>\n",
       "      <th>ENSG00000000971</th>\n",
       "      <td>CFH</td>\n",
       "      <td>(Esophagus_Muscularis, Thyroid, Brain_Cortex, ...</td>\n",
       "      <td>34</td>\n",
       "      <td>[21.56076992568329, 7.310170987045463, 1.83778...</td>\n",
       "      <td>[0.2093060319587451, 0.058234347656008024, 0.0...</td>\n",
       "      <td>{'Esophagus_Muscularis': 0.01739410990047228, ...</td>\n",
       "      <td>44</td>\n",
       "    </tr>\n",
       "    <tr>\n",
       "      <th>ENSG00000001084</th>\n",
       "      <td>GCLC</td>\n",
       "      <td>(Thyroid, Brain_Cortex, Heart_Left_Ventricle, ...</td>\n",
       "      <td>32</td>\n",
       "      <td>[21.291939080546538, 4.699418748743195, 2.2489...</td>\n",
       "      <td>[0.39430527375123775, 0.11627488888534836, 0.0...</td>\n",
       "      <td>{'Thyroid': 0.009654918580686024, 'Brain_Corte...</td>\n",
       "      <td>46</td>\n",
       "    </tr>\n",
       "    <tr>\n",
       "      <th>ENSG00000001167</th>\n",
       "      <td>NFYA</td>\n",
       "      <td>(Esophagus_Muscularis, Thyroid, Brain_Cortex, ...</td>\n",
       "      <td>40</td>\n",
       "      <td>[37.3356602954977, 1.3914019604538357]</td>\n",
       "      <td>[1.1642639979821048, 0.05742881287671712]</td>\n",
       "      <td>{'Esophagus_Muscularis': 0.0318781600881541, '...</td>\n",
       "      <td>47</td>\n",
       "    </tr>\n",
       "  </tbody>\n",
       "</table>\n",
       "</div>"
      ],
      "text/plain": [
       "                gene_name                                             tissue  \\\n",
       "gene_id                                                                        \n",
       "ENSG00000000419      DPM1       (Brain_Hypothalamus, Brain_Substantia_nigra)   \n",
       "ENSG00000000938       FGR  (Esophagus_Muscularis, Thyroid, Brain_Cortex, ...   \n",
       "ENSG00000000971       CFH  (Esophagus_Muscularis, Thyroid, Brain_Cortex, ...   \n",
       "ENSG00000001084      GCLC  (Thyroid, Brain_Cortex, Heart_Left_Ventricle, ...   \n",
       "ENSG00000001167      NFYA  (Esophagus_Muscularis, Thyroid, Brain_Cortex, ...   \n",
       "\n",
       "                 n_tissues                               tissues_pc_variances  \\\n",
       "gene_id                                                                         \n",
       "ENSG00000000419          2           [1.0442398458252409, 0.9557601541747592]   \n",
       "ENSG00000000938         36  [31.63266933637129, 2.078367751851144, 1.27161...   \n",
       "ENSG00000000971         34  [21.56076992568329, 7.310170987045463, 1.83778...   \n",
       "ENSG00000001084         32  [21.291939080546538, 4.699418748743195, 2.2489...   \n",
       "ENSG00000001167         40             [37.3356602954977, 1.3914019604538357]   \n",
       "\n",
       "                                          tissues_pc_variances_cov  \\\n",
       "gene_id                                                              \n",
       "ENSG00000000419     [0.013163142634155849, 0.00048574890347684763]   \n",
       "ENSG00000000938                               [0.1715948657078027]   \n",
       "ENSG00000000971  [0.2093060319587451, 0.058234347656008024, 0.0...   \n",
       "ENSG00000001084  [0.39430527375123775, 0.11627488888534836, 0.0...   \n",
       "ENSG00000001167          [1.1642639979821048, 0.05742881287671712]   \n",
       "\n",
       "                                                 tissues_variances  \\\n",
       "gene_id                                                              \n",
       "ENSG00000000419  {'Brain_Hypothalamus': 0.013162153504206677, '...   \n",
       "ENSG00000000938  {'Esophagus_Muscularis': 0.006536602044478473,...   \n",
       "ENSG00000000971  {'Esophagus_Muscularis': 0.01739410990047228, ...   \n",
       "ENSG00000001084  {'Thyroid': 0.009654918580686024, 'Brain_Corte...   \n",
       "ENSG00000001167  {'Esophagus_Muscularis': 0.0318781600881541, '...   \n",
       "\n",
       "                 n_snps_used_sum  \n",
       "gene_id                           \n",
       "ENSG00000000419                2  \n",
       "ENSG00000000938               40  \n",
       "ENSG00000000971               44  \n",
       "ENSG00000001084               46  \n",
       "ENSG00000001167               47  "
      ]
     },
     "execution_count": 117,
     "metadata": {},
     "output_type": "execute_result"
    }
   ],
   "source": [
    "spredixcan_genes_models.head()"
   ]
  },
  {
   "cell_type": "markdown",
   "id": "f4692315-d7be-465e-b756-f6d76fec949e",
   "metadata": {
    "papermill": {
     "duration": 0.02752,
     "end_time": "2022-08-02T23:09:05.417068",
     "exception": false,
     "start_time": "2022-08-02T23:09:05.389548",
     "status": "completed"
    },
    "tags": []
   },
   "source": [
    "### Count number of SNPs predictors in models across tissue models"
   ]
  },
  {
   "cell_type": "code",
   "execution_count": 118,
   "id": "08eed385-36eb-4e42-b28e-51333f9cfcd3",
   "metadata": {
    "execution": {
     "iopub.execute_input": "2022-08-02T23:09:05.472971Z",
     "iopub.status.busy": "2022-08-02T23:09:05.472759Z",
     "iopub.status.idle": "2022-08-02T23:09:05.518945Z",
     "shell.execute_reply": "2022-08-02T23:09:05.518295Z"
    },
    "papermill": {
     "duration": 0.076541,
     "end_time": "2022-08-02T23:09:05.520953",
     "exception": false,
     "start_time": "2022-08-02T23:09:05.444412",
     "status": "completed"
    },
    "tags": []
   },
   "outputs": [],
   "source": [
    "spredixcan_genes_sum_of_n_snps_in_model = (\n",
    "    spredixcan_dfs.groupby(\"gene_id\")[\"n_snps_in_model\"]\n",
    "    .sum()\n",
    "    .rename(\"n_snps_in_model_sum\")\n",
    ")"
   ]
  },
  {
   "cell_type": "code",
   "execution_count": 119,
   "id": "10431f5c-1f56-4664-a09f-53c608bec631",
   "metadata": {
    "execution": {
     "iopub.execute_input": "2022-08-02T23:09:05.579009Z",
     "iopub.status.busy": "2022-08-02T23:09:05.578789Z",
     "iopub.status.idle": "2022-08-02T23:09:05.598021Z",
     "shell.execute_reply": "2022-08-02T23:09:05.597521Z"
    },
    "papermill": {
     "duration": 0.049319,
     "end_time": "2022-08-02T23:09:05.599481",
     "exception": false,
     "start_time": "2022-08-02T23:09:05.550162",
     "status": "completed"
    },
    "tags": []
   },
   "outputs": [
    {
     "data": {
      "text/plain": [
       "gene_id\n",
       "ENSG00000000419     2\n",
       "ENSG00000000938    40\n",
       "ENSG00000000971    44\n",
       "ENSG00000001084    46\n",
       "ENSG00000001167    48\n",
       "                   ..\n",
       "ENSG00000278540    44\n",
       "ENSG00000278828     5\n",
       "ENSG00000278845    91\n",
       "ENSG00000281005    81\n",
       "ENSG00000282608    40\n",
       "Name: n_snps_in_model_sum, Length: 6444, dtype: int64"
      ]
     },
     "execution_count": 119,
     "metadata": {},
     "output_type": "execute_result"
    }
   ],
   "source": [
    "spredixcan_genes_sum_of_n_snps_in_model"
   ]
  },
  {
   "cell_type": "code",
   "execution_count": 120,
   "id": "d13e1d65-0dcb-4a94-aba8-bcdcd09d17c3",
   "metadata": {
    "execution": {
     "iopub.execute_input": "2022-08-02T23:09:05.654793Z",
     "iopub.status.busy": "2022-08-02T23:09:05.654600Z",
     "iopub.status.idle": "2022-08-02T23:09:05.670951Z",
     "shell.execute_reply": "2022-08-02T23:09:05.670451Z"
    },
    "papermill": {
     "duration": 0.045324,
     "end_time": "2022-08-02T23:09:05.672516",
     "exception": false,
     "start_time": "2022-08-02T23:09:05.627192",
     "status": "completed"
    },
    "tags": []
   },
   "outputs": [],
   "source": [
    "# add sum of snps in model to spredixcan_genes_models\n",
    "spredixcan_genes_models = spredixcan_genes_models.join(\n",
    "    spredixcan_genes_sum_of_n_snps_in_model\n",
    ")"
   ]
  },
  {
   "cell_type": "code",
   "execution_count": 121,
   "id": "0d3973d8-5da2-4c9d-b406-2525f615035c",
   "metadata": {
    "execution": {
     "iopub.execute_input": "2022-08-02T23:09:05.727988Z",
     "iopub.status.busy": "2022-08-02T23:09:05.727778Z",
     "iopub.status.idle": "2022-08-02T23:09:05.743524Z",
     "shell.execute_reply": "2022-08-02T23:09:05.743029Z"
    },
    "papermill": {
     "duration": 0.044552,
     "end_time": "2022-08-02T23:09:05.744985",
     "exception": false,
     "start_time": "2022-08-02T23:09:05.700433",
     "status": "completed"
    },
    "tags": []
   },
   "outputs": [
    {
     "data": {
      "text/plain": [
       "(6444, 8)"
      ]
     },
     "execution_count": 121,
     "metadata": {},
     "output_type": "execute_result"
    }
   ],
   "source": [
    "spredixcan_genes_models.shape"
   ]
  },
  {
   "cell_type": "code",
   "execution_count": 122,
   "id": "76c27f05-c5c6-4ed9-9363-fcba871a3572",
   "metadata": {
    "execution": {
     "iopub.execute_input": "2022-08-02T23:09:05.802553Z",
     "iopub.status.busy": "2022-08-02T23:09:05.802363Z",
     "iopub.status.idle": "2022-08-02T23:09:05.829834Z",
     "shell.execute_reply": "2022-08-02T23:09:05.829355Z"
    },
    "papermill": {
     "duration": 0.057107,
     "end_time": "2022-08-02T23:09:05.831224",
     "exception": false,
     "start_time": "2022-08-02T23:09:05.774117",
     "status": "completed"
    },
    "tags": []
   },
   "outputs": [
    {
     "data": {
      "text/html": [
       "<div>\n",
       "<style scoped>\n",
       "    .dataframe tbody tr th:only-of-type {\n",
       "        vertical-align: middle;\n",
       "    }\n",
       "\n",
       "    .dataframe tbody tr th {\n",
       "        vertical-align: top;\n",
       "    }\n",
       "\n",
       "    .dataframe thead th {\n",
       "        text-align: right;\n",
       "    }\n",
       "</style>\n",
       "<table border=\"1\" class=\"dataframe\">\n",
       "  <thead>\n",
       "    <tr style=\"text-align: right;\">\n",
       "      <th></th>\n",
       "      <th>gene_name</th>\n",
       "      <th>tissue</th>\n",
       "      <th>n_tissues</th>\n",
       "      <th>tissues_pc_variances</th>\n",
       "      <th>tissues_pc_variances_cov</th>\n",
       "      <th>tissues_variances</th>\n",
       "      <th>n_snps_used_sum</th>\n",
       "      <th>n_snps_in_model_sum</th>\n",
       "    </tr>\n",
       "    <tr>\n",
       "      <th>gene_id</th>\n",
       "      <th></th>\n",
       "      <th></th>\n",
       "      <th></th>\n",
       "      <th></th>\n",
       "      <th></th>\n",
       "      <th></th>\n",
       "      <th></th>\n",
       "      <th></th>\n",
       "    </tr>\n",
       "  </thead>\n",
       "  <tbody>\n",
       "    <tr>\n",
       "      <th>ENSG00000000419</th>\n",
       "      <td>DPM1</td>\n",
       "      <td>(Brain_Hypothalamus, Brain_Substantia_nigra)</td>\n",
       "      <td>2</td>\n",
       "      <td>[1.0442398458252409, 0.9557601541747592]</td>\n",
       "      <td>[0.013163142634155849, 0.00048574890347684763]</td>\n",
       "      <td>{'Brain_Hypothalamus': 0.013162153504206677, '...</td>\n",
       "      <td>2</td>\n",
       "      <td>2</td>\n",
       "    </tr>\n",
       "    <tr>\n",
       "      <th>ENSG00000000938</th>\n",
       "      <td>FGR</td>\n",
       "      <td>(Esophagus_Muscularis, Thyroid, Brain_Cortex, ...</td>\n",
       "      <td>36</td>\n",
       "      <td>[31.63266933637129, 2.078367751851144, 1.27161...</td>\n",
       "      <td>[0.1715948657078027]</td>\n",
       "      <td>{'Esophagus_Muscularis': 0.006536602044478473,...</td>\n",
       "      <td>40</td>\n",
       "      <td>40</td>\n",
       "    </tr>\n",
       "    <tr>\n",
       "      <th>ENSG00000000971</th>\n",
       "      <td>CFH</td>\n",
       "      <td>(Esophagus_Muscularis, Thyroid, Brain_Cortex, ...</td>\n",
       "      <td>34</td>\n",
       "      <td>[21.56076992568329, 7.310170987045463, 1.83778...</td>\n",
       "      <td>[0.2093060319587451, 0.058234347656008024, 0.0...</td>\n",
       "      <td>{'Esophagus_Muscularis': 0.01739410990047228, ...</td>\n",
       "      <td>44</td>\n",
       "      <td>44</td>\n",
       "    </tr>\n",
       "    <tr>\n",
       "      <th>ENSG00000001084</th>\n",
       "      <td>GCLC</td>\n",
       "      <td>(Thyroid, Brain_Cortex, Heart_Left_Ventricle, ...</td>\n",
       "      <td>32</td>\n",
       "      <td>[21.291939080546538, 4.699418748743195, 2.2489...</td>\n",
       "      <td>[0.39430527375123775, 0.11627488888534836, 0.0...</td>\n",
       "      <td>{'Thyroid': 0.009654918580686024, 'Brain_Corte...</td>\n",
       "      <td>46</td>\n",
       "      <td>46</td>\n",
       "    </tr>\n",
       "    <tr>\n",
       "      <th>ENSG00000001167</th>\n",
       "      <td>NFYA</td>\n",
       "      <td>(Esophagus_Muscularis, Thyroid, Brain_Cortex, ...</td>\n",
       "      <td>40</td>\n",
       "      <td>[37.3356602954977, 1.3914019604538357]</td>\n",
       "      <td>[1.1642639979821048, 0.05742881287671712]</td>\n",
       "      <td>{'Esophagus_Muscularis': 0.0318781600881541, '...</td>\n",
       "      <td>47</td>\n",
       "      <td>48</td>\n",
       "    </tr>\n",
       "  </tbody>\n",
       "</table>\n",
       "</div>"
      ],
      "text/plain": [
       "                gene_name                                             tissue  \\\n",
       "gene_id                                                                        \n",
       "ENSG00000000419      DPM1       (Brain_Hypothalamus, Brain_Substantia_nigra)   \n",
       "ENSG00000000938       FGR  (Esophagus_Muscularis, Thyroid, Brain_Cortex, ...   \n",
       "ENSG00000000971       CFH  (Esophagus_Muscularis, Thyroid, Brain_Cortex, ...   \n",
       "ENSG00000001084      GCLC  (Thyroid, Brain_Cortex, Heart_Left_Ventricle, ...   \n",
       "ENSG00000001167      NFYA  (Esophagus_Muscularis, Thyroid, Brain_Cortex, ...   \n",
       "\n",
       "                 n_tissues                               tissues_pc_variances  \\\n",
       "gene_id                                                                         \n",
       "ENSG00000000419          2           [1.0442398458252409, 0.9557601541747592]   \n",
       "ENSG00000000938         36  [31.63266933637129, 2.078367751851144, 1.27161...   \n",
       "ENSG00000000971         34  [21.56076992568329, 7.310170987045463, 1.83778...   \n",
       "ENSG00000001084         32  [21.291939080546538, 4.699418748743195, 2.2489...   \n",
       "ENSG00000001167         40             [37.3356602954977, 1.3914019604538357]   \n",
       "\n",
       "                                          tissues_pc_variances_cov  \\\n",
       "gene_id                                                              \n",
       "ENSG00000000419     [0.013163142634155849, 0.00048574890347684763]   \n",
       "ENSG00000000938                               [0.1715948657078027]   \n",
       "ENSG00000000971  [0.2093060319587451, 0.058234347656008024, 0.0...   \n",
       "ENSG00000001084  [0.39430527375123775, 0.11627488888534836, 0.0...   \n",
       "ENSG00000001167          [1.1642639979821048, 0.05742881287671712]   \n",
       "\n",
       "                                                 tissues_variances  \\\n",
       "gene_id                                                              \n",
       "ENSG00000000419  {'Brain_Hypothalamus': 0.013162153504206677, '...   \n",
       "ENSG00000000938  {'Esophagus_Muscularis': 0.006536602044478473,...   \n",
       "ENSG00000000971  {'Esophagus_Muscularis': 0.01739410990047228, ...   \n",
       "ENSG00000001084  {'Thyroid': 0.009654918580686024, 'Brain_Corte...   \n",
       "ENSG00000001167  {'Esophagus_Muscularis': 0.0318781600881541, '...   \n",
       "\n",
       "                 n_snps_used_sum  n_snps_in_model_sum  \n",
       "gene_id                                                \n",
       "ENSG00000000419                2                    2  \n",
       "ENSG00000000938               40                   40  \n",
       "ENSG00000000971               44                   44  \n",
       "ENSG00000001084               46                   46  \n",
       "ENSG00000001167               47                   48  "
      ]
     },
     "execution_count": 122,
     "metadata": {},
     "output_type": "execute_result"
    }
   ],
   "source": [
    "spredixcan_genes_models.head()"
   ]
  },
  {
   "cell_type": "markdown",
   "id": "e9f61a50-a5b5-4c85-9dec-3ceaaf65c61d",
   "metadata": {
    "papermill": {
     "duration": 0.027121,
     "end_time": "2022-08-02T23:09:05.885620",
     "exception": false,
     "start_time": "2022-08-02T23:09:05.858499",
     "status": "completed"
    },
    "tags": []
   },
   "source": [
    "### Summarize prediction models for each gene"
   ]
  },
  {
   "cell_type": "code",
   "execution_count": 123,
   "id": "4f44928f-b401-4abb-ac00-3b15b2746504",
   "metadata": {
    "execution": {
     "iopub.execute_input": "2022-08-02T23:09:05.943810Z",
     "iopub.status.busy": "2022-08-02T23:09:05.943613Z",
     "iopub.status.idle": "2022-08-02T23:09:05.960259Z",
     "shell.execute_reply": "2022-08-02T23:09:05.959757Z"
    },
    "papermill": {
     "duration": 0.047711,
     "end_time": "2022-08-02T23:09:05.961863",
     "exception": false,
     "start_time": "2022-08-02T23:09:05.914152",
     "status": "completed"
    },
    "tags": []
   },
   "outputs": [],
   "source": [
    "def _summarize_gene_models(gene_id):\n",
    "    \"\"\"\n",
    "    For a given gene ID, it returns a dataframe with predictor SNPs in rows and tissues in columns, where\n",
    "    values are the weights of SNPs in those tissues.\n",
    "    It can contain NaNs.\n",
    "    \"\"\"\n",
    "    gene_obj = spredixcan_gene_obj[gene_id]\n",
    "    gene_tissues = spredixcan_genes_models.loc[gene_id, \"tissue\"]\n",
    "\n",
    "    gene_models = {}\n",
    "    gene_unique_snps = set()\n",
    "    for t in gene_tissues:\n",
    "        gene_model = gene_obj.get_prediction_weights(tissue=t, model_type=EQTL_MODEL)\n",
    "        gene_models[t] = gene_model\n",
    "\n",
    "        gene_unique_snps.update(set(gene_model.index))\n",
    "\n",
    "    df = pd.DataFrame(\n",
    "        data=np.nan, index=list(gene_unique_snps), columns=list(gene_tissues)\n",
    "    )\n",
    "\n",
    "    for t in df.columns:\n",
    "        for snp in df.index:\n",
    "            gene_model = gene_models[t]\n",
    "\n",
    "            if snp in gene_model.index:\n",
    "                df.loc[snp, t] = gene_model.loc[snp]\n",
    "\n",
    "    return df"
   ]
  },
  {
   "cell_type": "code",
   "execution_count": 124,
   "id": "71bb0b5a-fe44-4076-91df-d8077ff85c71",
   "metadata": {
    "execution": {
     "iopub.execute_input": "2022-08-02T23:09:06.021440Z",
     "iopub.status.busy": "2022-08-02T23:09:06.021242Z",
     "iopub.status.idle": "2022-08-02T23:09:06.042319Z",
     "shell.execute_reply": "2022-08-02T23:09:06.041809Z"
    },
    "papermill": {
     "duration": 0.052321,
     "end_time": "2022-08-02T23:09:06.043817",
     "exception": false,
     "start_time": "2022-08-02T23:09:05.991496",
     "status": "completed"
    },
    "tags": []
   },
   "outputs": [
    {
     "data": {
      "text/plain": [
       "varID\n",
       "chr20_50862947_C_T_b38    0.431375\n",
       "Name: weight, dtype: float64"
      ]
     },
     "execution_count": 124,
     "metadata": {},
     "output_type": "execute_result"
    }
   ],
   "source": [
    "# testing\n",
    "spredixcan_gene_obj[\"ENSG00000000419\"].get_prediction_weights(\n",
    "    tissue=\"Brain_Hypothalamus\", model_type=EQTL_MODEL\n",
    ")"
   ]
  },
  {
   "cell_type": "code",
   "execution_count": 125,
   "id": "ad18b2d9-f585-445b-a809-bd694d417a8a",
   "metadata": {
    "execution": {
     "iopub.execute_input": "2022-08-02T23:09:06.102069Z",
     "iopub.status.busy": "2022-08-02T23:09:06.101870Z",
     "iopub.status.idle": "2022-08-02T23:09:06.122305Z",
     "shell.execute_reply": "2022-08-02T23:09:06.121802Z"
    },
    "papermill": {
     "duration": 0.051396,
     "end_time": "2022-08-02T23:09:06.123805",
     "exception": false,
     "start_time": "2022-08-02T23:09:06.072409",
     "status": "completed"
    },
    "tags": []
   },
   "outputs": [
    {
     "data": {
      "text/plain": [
       "varID\n",
       "chr20_50957480_C_T_b38   -0.146796\n",
       "Name: weight, dtype: float64"
      ]
     },
     "execution_count": 125,
     "metadata": {},
     "output_type": "execute_result"
    }
   ],
   "source": [
    "spredixcan_gene_obj[\"ENSG00000000419\"].get_prediction_weights(\n",
    "    tissue=\"Brain_Substantia_nigra\", model_type=EQTL_MODEL\n",
    ")"
   ]
  },
  {
   "cell_type": "code",
   "execution_count": 126,
   "id": "82ef5dec-283c-44ee-a118-b28d87a5b298",
   "metadata": {
    "execution": {
     "iopub.execute_input": "2022-08-02T23:09:06.183589Z",
     "iopub.status.busy": "2022-08-02T23:09:06.183380Z",
     "iopub.status.idle": "2022-08-02T23:09:06.197650Z",
     "shell.execute_reply": "2022-08-02T23:09:06.197137Z"
    },
    "papermill": {
     "duration": 0.045746,
     "end_time": "2022-08-02T23:09:06.199245",
     "exception": false,
     "start_time": "2022-08-02T23:09:06.153499",
     "status": "completed"
    },
    "tags": []
   },
   "outputs": [],
   "source": [
    "# # testing\n",
    "# _gene_id = \"ENSG00000000419\"\n",
    "\n",
    "# _gene_model = _summarize_gene_models(_gene_id)\n",
    "# assert (\n",
    "#     _gene_model.loc[\"chr20_50862947_C_T_b38\", \"Brain_Hypothalamus\"].round(5) == 0.43138\n",
    "# )\n",
    "# assert pd.isnull(_gene_model.loc[\"chr20_50957480_C_T_b38\", \"Brain_Hypothalamus\"])\n",
    "\n",
    "# assert pd.isnull(_gene_model.loc[\"chr20_50862947_C_T_b38\", \"Brain_Substantia_nigra\"])\n",
    "# assert (\n",
    "#     _gene_model.loc[\"chr20_50957480_C_T_b38\", \"Brain_Substantia_nigra\"].round(5)\n",
    "#     == -0.1468\n",
    "# )"
   ]
  },
  {
   "cell_type": "code",
   "execution_count": 127,
   "id": "134a7533-69e8-4858-8763-1fd45cbdec77",
   "metadata": {
    "execution": {
     "iopub.execute_input": "2022-08-02T23:09:06.259069Z",
     "iopub.status.busy": "2022-08-02T23:09:06.258870Z",
     "iopub.status.idle": "2022-08-02T23:25:26.632130Z",
     "shell.execute_reply": "2022-08-02T23:25:26.631316Z"
    },
    "papermill": {
     "duration": 980.405856,
     "end_time": "2022-08-02T23:25:26.634173",
     "exception": false,
     "start_time": "2022-08-02T23:09:06.228317",
     "status": "completed"
    },
    "tags": []
   },
   "outputs": [],
   "source": [
    "gene_models = {}\n",
    "\n",
    "for gene_id in spredixcan_genes_models.index:\n",
    "    gene_models[gene_id] = _summarize_gene_models(gene_id)"
   ]
  },
  {
   "cell_type": "code",
   "execution_count": 128,
   "id": "97117dc0-0476-4e7b-98cb-6738dbb28c8a",
   "metadata": {
    "execution": {
     "iopub.execute_input": "2022-08-02T23:25:26.693803Z",
     "iopub.status.busy": "2022-08-02T23:25:26.693584Z",
     "iopub.status.idle": "2022-08-02T23:25:26.890552Z",
     "shell.execute_reply": "2022-08-02T23:25:26.889933Z"
    },
    "papermill": {
     "duration": 0.227784,
     "end_time": "2022-08-02T23:25:26.892091",
     "exception": false,
     "start_time": "2022-08-02T23:25:26.664307",
     "status": "completed"
    },
    "tags": []
   },
   "outputs": [],
   "source": [
    "# # testing\n",
    "# _gene_id = \"ENSG00000000419\"\n",
    "\n",
    "# _gene_model = gene_models[_gene_id]\n",
    "# assert (\n",
    "#     _gene_model.loc[\"chr20_50862947_C_T_b38\", \"Brain_Hypothalamus\"].round(5) == 0.43138\n",
    "# )\n",
    "# assert pd.isnull(_gene_model.loc[\"chr20_50957480_C_T_b38\", \"Brain_Hypothalamus\"])\n",
    "\n",
    "# assert pd.isnull(_gene_model.loc[\"chr20_50862947_C_T_b38\", \"Brain_Substantia_nigra\"])\n",
    "# assert (\n",
    "#     _gene_model.loc[\"chr20_50957480_C_T_b38\", \"Brain_Substantia_nigra\"].round(5)\n",
    "#     == -0.1468\n",
    "# )"
   ]
  },
  {
   "cell_type": "code",
   "execution_count": 129,
   "id": "806cd4a5-51b1-4ed3-8aa3-4970c128ccff",
   "metadata": {
    "execution": {
     "iopub.execute_input": "2022-08-02T23:25:26.948770Z",
     "iopub.status.busy": "2022-08-02T23:25:26.948536Z",
     "iopub.status.idle": "2022-08-02T23:25:29.699046Z",
     "shell.execute_reply": "2022-08-02T23:25:29.698422Z"
    },
    "papermill": {
     "duration": 2.781559,
     "end_time": "2022-08-02T23:25:29.700988",
     "exception": false,
     "start_time": "2022-08-02T23:25:26.919429",
     "status": "completed"
    },
    "tags": []
   },
   "outputs": [],
   "source": [
    "# save\n",
    "import gzip\n",
    "\n",
    "with gzip.GzipFile(OUTPUT_DIR_BASE / \"gene_tissues_models.pkl.gz\", \"w\") as f:\n",
    "    pickle.dump(gene_models, f)"
   ]
  },
  {
   "cell_type": "code",
   "execution_count": 130,
   "id": "a12a9597-dd0a-40a0-9a42-f288af22e0d2",
   "metadata": {
    "execution": {
     "iopub.execute_input": "2022-08-02T23:25:29.759752Z",
     "iopub.status.busy": "2022-08-02T23:25:29.759517Z",
     "iopub.status.idle": "2022-08-02T23:25:31.610385Z",
     "shell.execute_reply": "2022-08-02T23:25:31.609640Z"
    },
    "papermill": {
     "duration": 1.881819,
     "end_time": "2022-08-02T23:25:31.612245",
     "exception": false,
     "start_time": "2022-08-02T23:25:29.730426",
     "status": "completed"
    },
    "tags": []
   },
   "outputs": [],
   "source": [
    "# testing saved file\n",
    "with gzip.GzipFile(OUTPUT_DIR_BASE / \"gene_tissues_models.pkl.gz\", \"r\") as f:\n",
    "    _tmp = pickle.load(f)"
   ]
  },
  {
   "cell_type": "code",
   "execution_count": 131,
   "id": "a90a8f83-75db-4f73-8f1a-7e0563ba3685",
   "metadata": {
    "execution": {
     "iopub.execute_input": "2022-08-02T23:25:31.670243Z",
     "iopub.status.busy": "2022-08-02T23:25:31.670050Z",
     "iopub.status.idle": "2022-08-02T23:25:31.685977Z",
     "shell.execute_reply": "2022-08-02T23:25:31.685489Z"
    },
    "papermill": {
     "duration": 0.045972,
     "end_time": "2022-08-02T23:25:31.687472",
     "exception": false,
     "start_time": "2022-08-02T23:25:31.641500",
     "status": "completed"
    },
    "tags": []
   },
   "outputs": [],
   "source": [
    "assert len(gene_models) == len(_tmp)\n",
    "assert gene_models[\"ENSG00000000419\"].equals(_tmp[\"ENSG00000000419\"])"
   ]
  },
  {
   "cell_type": "markdown",
   "id": "a147f3a8-4efd-457b-9581-00cbfacd4b3d",
   "metadata": {
    "papermill": {
     "duration": 0.028215,
     "end_time": "2022-08-02T23:25:31.743226",
     "exception": false,
     "start_time": "2022-08-02T23:25:31.715011",
     "status": "completed"
    },
    "tags": []
   },
   "source": [
    "### Count number of _unique_ SNPs predictors used and available across tissue models"
   ]
  },
  {
   "cell_type": "code",
   "execution_count": 132,
   "id": "38d5bc57-3c25-4abe-93bd-09bbe200f2ef",
   "metadata": {
    "execution": {
     "iopub.execute_input": "2022-08-02T23:25:31.802911Z",
     "iopub.status.busy": "2022-08-02T23:25:31.802712Z",
     "iopub.status.idle": "2022-08-02T23:25:31.818327Z",
     "shell.execute_reply": "2022-08-02T23:25:31.817818Z"
    },
    "papermill": {
     "duration": 0.046901,
     "end_time": "2022-08-02T23:25:31.819935",
     "exception": false,
     "start_time": "2022-08-02T23:25:31.773034",
     "status": "completed"
    },
    "tags": []
   },
   "outputs": [],
   "source": [
    "def _count_unique_snps(gene_id):\n",
    "    \"\"\"\n",
    "    For a gene_id, it counts unique SNPs in all models and their intersection with GWAS SNPs (therefore, used by S-PrediXcan).\n",
    "    \"\"\"\n",
    "    gene_tissues = spredixcan_genes_models.loc[gene_id, \"tissue\"]\n",
    "\n",
    "    gene_unique_snps = set()\n",
    "    for t in gene_tissues:\n",
    "        t_snps = set(gene_models[gene_id].index)\n",
    "        gene_unique_snps.update(t_snps)\n",
    "\n",
    "    gene_unique_snps_in_gwas = gwas_variants_ids_set.intersection(gene_unique_snps)\n",
    "\n",
    "    return pd.Series(\n",
    "        {\n",
    "            \"unique_n_snps_in_model\": len(gene_unique_snps),\n",
    "            \"unique_n_snps_used\": len(gene_unique_snps_in_gwas),\n",
    "        }\n",
    "    )"
   ]
  },
  {
   "cell_type": "code",
   "execution_count": 133,
   "id": "059c6e02-67e2-4376-a3e5-b815070779c9",
   "metadata": {
    "execution": {
     "iopub.execute_input": "2022-08-02T23:25:31.879453Z",
     "iopub.status.busy": "2022-08-02T23:25:31.879256Z",
     "iopub.status.idle": "2022-08-02T23:25:31.909138Z",
     "shell.execute_reply": "2022-08-02T23:25:31.908628Z"
    },
    "papermill": {
     "duration": 0.061749,
     "end_time": "2022-08-02T23:25:31.910641",
     "exception": false,
     "start_time": "2022-08-02T23:25:31.848892",
     "status": "completed"
    },
    "tags": []
   },
   "outputs": [
    {
     "data": {
      "text/html": [
       "<div>\n",
       "<style scoped>\n",
       "    .dataframe tbody tr th:only-of-type {\n",
       "        vertical-align: middle;\n",
       "    }\n",
       "\n",
       "    .dataframe tbody tr th {\n",
       "        vertical-align: top;\n",
       "    }\n",
       "\n",
       "    .dataframe thead th {\n",
       "        text-align: right;\n",
       "    }\n",
       "</style>\n",
       "<table border=\"1\" class=\"dataframe\">\n",
       "  <thead>\n",
       "    <tr style=\"text-align: right;\">\n",
       "      <th></th>\n",
       "      <th>gene_name</th>\n",
       "      <th>tissue</th>\n",
       "      <th>n_tissues</th>\n",
       "      <th>tissues_pc_variances</th>\n",
       "      <th>tissues_pc_variances_cov</th>\n",
       "      <th>tissues_variances</th>\n",
       "      <th>n_snps_used_sum</th>\n",
       "      <th>n_snps_in_model_sum</th>\n",
       "    </tr>\n",
       "    <tr>\n",
       "      <th>gene_id</th>\n",
       "      <th></th>\n",
       "      <th></th>\n",
       "      <th></th>\n",
       "      <th></th>\n",
       "      <th></th>\n",
       "      <th></th>\n",
       "      <th></th>\n",
       "      <th></th>\n",
       "    </tr>\n",
       "  </thead>\n",
       "  <tbody>\n",
       "    <tr>\n",
       "      <th>ENSG00000000419</th>\n",
       "      <td>DPM1</td>\n",
       "      <td>(Brain_Hypothalamus, Brain_Substantia_nigra)</td>\n",
       "      <td>2</td>\n",
       "      <td>[1.0442398458252409, 0.9557601541747592]</td>\n",
       "      <td>[0.013163142634155849, 0.00048574890347684763]</td>\n",
       "      <td>{'Brain_Hypothalamus': 0.013162153504206677, '...</td>\n",
       "      <td>2</td>\n",
       "      <td>2</td>\n",
       "    </tr>\n",
       "    <tr>\n",
       "      <th>ENSG00000010256</th>\n",
       "      <td>UQCRC1</td>\n",
       "      <td>(Whole_Blood, Thyroid)</td>\n",
       "      <td>2</td>\n",
       "      <td>[1.1048350039574655, 0.8951649960425345]</td>\n",
       "      <td>[0.0008061424968110495, 0.00023087097882836392]</td>\n",
       "      <td>{'Whole_Blood': 0.00023448891035317016, 'Thyro...</td>\n",
       "      <td>2</td>\n",
       "      <td>2</td>\n",
       "    </tr>\n",
       "    <tr>\n",
       "      <th>ENSG00000017427</th>\n",
       "      <td>IGF1</td>\n",
       "      <td>(Brain_Amygdala, Testis)</td>\n",
       "      <td>2</td>\n",
       "      <td>[1.0389319526404415, 0.9610680473595585]</td>\n",
       "      <td>[0.02060052225760429, 0.003854854256224178]</td>\n",
       "      <td>{'Brain_Amygdala': 0.02059332044751194, 'Testi...</td>\n",
       "      <td>2</td>\n",
       "      <td>2</td>\n",
       "    </tr>\n",
       "    <tr>\n",
       "      <th>ENSG00000043093</th>\n",
       "      <td>DCUN1D1</td>\n",
       "      <td>(Esophagus_Muscularis, Esophagus_Gastroesophag...</td>\n",
       "      <td>2</td>\n",
       "      <td>[1.4951653523020276, 0.5048346476979725]</td>\n",
       "      <td>[0.0005196522562331344, 0.00014798630499321565]</td>\n",
       "      <td>{'Esophagus_Muscularis': 0.0004315621222418269...</td>\n",
       "      <td>2</td>\n",
       "      <td>2</td>\n",
       "    </tr>\n",
       "    <tr>\n",
       "      <th>ENSG00000081377</th>\n",
       "      <td>CDC14B</td>\n",
       "      <td>(Muscle_Skeletal, Brain_Nucleus_accumbens_basa...</td>\n",
       "      <td>2</td>\n",
       "      <td>[1.1285007973441137, 0.8714992026558863]</td>\n",
       "      <td>[0.014647518608411531, 0.007422500206765484]</td>\n",
       "      <td>{'Muscle_Skeletal': 0.0076846621297156385, 'Br...</td>\n",
       "      <td>2</td>\n",
       "      <td>2</td>\n",
       "    </tr>\n",
       "  </tbody>\n",
       "</table>\n",
       "</div>"
      ],
      "text/plain": [
       "                gene_name                                             tissue  \\\n",
       "gene_id                                                                        \n",
       "ENSG00000000419      DPM1       (Brain_Hypothalamus, Brain_Substantia_nigra)   \n",
       "ENSG00000010256    UQCRC1                             (Whole_Blood, Thyroid)   \n",
       "ENSG00000017427      IGF1                           (Brain_Amygdala, Testis)   \n",
       "ENSG00000043093   DCUN1D1  (Esophagus_Muscularis, Esophagus_Gastroesophag...   \n",
       "ENSG00000081377    CDC14B  (Muscle_Skeletal, Brain_Nucleus_accumbens_basa...   \n",
       "\n",
       "                 n_tissues                      tissues_pc_variances  \\\n",
       "gene_id                                                                \n",
       "ENSG00000000419          2  [1.0442398458252409, 0.9557601541747592]   \n",
       "ENSG00000010256          2  [1.1048350039574655, 0.8951649960425345]   \n",
       "ENSG00000017427          2  [1.0389319526404415, 0.9610680473595585]   \n",
       "ENSG00000043093          2  [1.4951653523020276, 0.5048346476979725]   \n",
       "ENSG00000081377          2  [1.1285007973441137, 0.8714992026558863]   \n",
       "\n",
       "                                        tissues_pc_variances_cov  \\\n",
       "gene_id                                                            \n",
       "ENSG00000000419   [0.013163142634155849, 0.00048574890347684763]   \n",
       "ENSG00000010256  [0.0008061424968110495, 0.00023087097882836392]   \n",
       "ENSG00000017427      [0.02060052225760429, 0.003854854256224178]   \n",
       "ENSG00000043093  [0.0005196522562331344, 0.00014798630499321565]   \n",
       "ENSG00000081377     [0.014647518608411531, 0.007422500206765484]   \n",
       "\n",
       "                                                 tissues_variances  \\\n",
       "gene_id                                                              \n",
       "ENSG00000000419  {'Brain_Hypothalamus': 0.013162153504206677, '...   \n",
       "ENSG00000010256  {'Whole_Blood': 0.00023448891035317016, 'Thyro...   \n",
       "ENSG00000017427  {'Brain_Amygdala': 0.02059332044751194, 'Testi...   \n",
       "ENSG00000043093  {'Esophagus_Muscularis': 0.0004315621222418269...   \n",
       "ENSG00000081377  {'Muscle_Skeletal': 0.0076846621297156385, 'Br...   \n",
       "\n",
       "                 n_snps_used_sum  n_snps_in_model_sum  \n",
       "gene_id                                                \n",
       "ENSG00000000419                2                    2  \n",
       "ENSG00000010256                2                    2  \n",
       "ENSG00000017427                2                    2  \n",
       "ENSG00000043093                2                    2  \n",
       "ENSG00000081377                2                    2  "
      ]
     },
     "execution_count": 133,
     "metadata": {},
     "output_type": "execute_result"
    }
   ],
   "source": [
    "# testing\n",
    "spredixcan_genes_models[spredixcan_genes_models[\"n_snps_used_sum\"] == 2].head()"
   ]
  },
  {
   "cell_type": "code",
   "execution_count": 134,
   "id": "4f8a444c-c3e2-4688-a50b-08481d41f614",
   "metadata": {
    "execution": {
     "iopub.execute_input": "2022-08-02T23:25:31.971328Z",
     "iopub.status.busy": "2022-08-02T23:25:31.971128Z",
     "iopub.status.idle": "2022-08-02T23:25:31.990541Z",
     "shell.execute_reply": "2022-08-02T23:25:31.990029Z"
    },
    "papermill": {
     "duration": 0.051765,
     "end_time": "2022-08-02T23:25:31.992041",
     "exception": false,
     "start_time": "2022-08-02T23:25:31.940276",
     "status": "completed"
    },
    "tags": []
   },
   "outputs": [
    {
     "data": {
      "text/plain": [
       "varID\n",
       "chr20_50862947_C_T_b38    0.431375\n",
       "Name: weight, dtype: float64"
      ]
     },
     "metadata": {},
     "output_type": "display_data"
    },
    {
     "data": {
      "text/plain": [
       "varID\n",
       "chr20_50957480_C_T_b38   -0.146796\n",
       "Name: weight, dtype: float64"
      ]
     },
     "metadata": {},
     "output_type": "display_data"
    }
   ],
   "source": [
    "# case with two snps, not repeated across tissues\n",
    "_gene_id = \"ENSG00000000419\"\n",
    "display(\n",
    "    spredixcan_gene_obj[_gene_id].get_prediction_weights(\n",
    "        tissue=\"Brain_Hypothalamus\", model_type=EQTL_MODEL\n",
    "    )\n",
    ")\n",
    "display(\n",
    "    spredixcan_gene_obj[_gene_id].get_prediction_weights(\n",
    "        tissue=\"Brain_Substantia_nigra\", model_type=EQTL_MODEL\n",
    "    )\n",
    ")"
   ]
  },
  {
   "cell_type": "code",
   "execution_count": 135,
   "id": "f835cf57-eea6-4468-aaf2-d85c8164d177",
   "metadata": {
    "execution": {
     "iopub.execute_input": "2022-08-02T23:25:32.053059Z",
     "iopub.status.busy": "2022-08-02T23:25:32.052859Z",
     "iopub.status.idle": "2022-08-02T23:25:32.066939Z",
     "shell.execute_reply": "2022-08-02T23:25:32.066425Z"
    },
    "papermill": {
     "duration": 0.046409,
     "end_time": "2022-08-02T23:25:32.068539",
     "exception": false,
     "start_time": "2022-08-02T23:25:32.022130",
     "status": "completed"
    },
    "tags": []
   },
   "outputs": [],
   "source": [
    "# _tmp = _count_unique_snps(_gene_id)\n",
    "# assert _tmp.shape[0] == 2\n",
    "# assert _tmp[\"unique_n_snps_in_model\"] == 2\n",
    "# assert _tmp[\"unique_n_snps_used\"] == 2"
   ]
  },
  {
   "cell_type": "code",
   "execution_count": 136,
   "id": "520837f6-5cdd-4958-aa98-00cd1ebab484",
   "metadata": {
    "execution": {
     "iopub.execute_input": "2022-08-02T23:25:32.128938Z",
     "iopub.status.busy": "2022-08-02T23:25:32.128724Z",
     "iopub.status.idle": "2022-08-02T23:25:34.575496Z",
     "shell.execute_reply": "2022-08-02T23:25:34.574951Z"
    },
    "papermill": {
     "duration": 2.478957,
     "end_time": "2022-08-02T23:25:34.577135",
     "exception": false,
     "start_time": "2022-08-02T23:25:32.098178",
     "status": "completed"
    },
    "tags": []
   },
   "outputs": [],
   "source": [
    "# get unique snps for all genes\n",
    "spredixcan_genes_unique_n_snps = spredixcan_genes_models.groupby(\"gene_id\").apply(\n",
    "    lambda x: _count_unique_snps(x.name)\n",
    ")"
   ]
  },
  {
   "cell_type": "code",
   "execution_count": 137,
   "id": "72633373-73d7-4796-b915-06fcb18feca0",
   "metadata": {
    "execution": {
     "iopub.execute_input": "2022-08-02T23:25:34.637758Z",
     "iopub.status.busy": "2022-08-02T23:25:34.637527Z",
     "iopub.status.idle": "2022-08-02T23:25:34.656888Z",
     "shell.execute_reply": "2022-08-02T23:25:34.656407Z"
    },
    "papermill": {
     "duration": 0.049965,
     "end_time": "2022-08-02T23:25:34.658280",
     "exception": false,
     "start_time": "2022-08-02T23:25:34.608315",
     "status": "completed"
    },
    "tags": []
   },
   "outputs": [
    {
     "data": {
      "text/html": [
       "<div>\n",
       "<style scoped>\n",
       "    .dataframe tbody tr th:only-of-type {\n",
       "        vertical-align: middle;\n",
       "    }\n",
       "\n",
       "    .dataframe tbody tr th {\n",
       "        vertical-align: top;\n",
       "    }\n",
       "\n",
       "    .dataframe thead th {\n",
       "        text-align: right;\n",
       "    }\n",
       "</style>\n",
       "<table border=\"1\" class=\"dataframe\">\n",
       "  <thead>\n",
       "    <tr style=\"text-align: right;\">\n",
       "      <th></th>\n",
       "      <th>unique_n_snps_in_model</th>\n",
       "      <th>unique_n_snps_used</th>\n",
       "    </tr>\n",
       "    <tr>\n",
       "      <th>gene_id</th>\n",
       "      <th></th>\n",
       "      <th></th>\n",
       "    </tr>\n",
       "  </thead>\n",
       "  <tbody>\n",
       "    <tr>\n",
       "      <th>ENSG00000000419</th>\n",
       "      <td>2</td>\n",
       "      <td>2</td>\n",
       "    </tr>\n",
       "    <tr>\n",
       "      <th>ENSG00000000938</th>\n",
       "      <td>5</td>\n",
       "      <td>5</td>\n",
       "    </tr>\n",
       "    <tr>\n",
       "      <th>ENSG00000000971</th>\n",
       "      <td>12</td>\n",
       "      <td>12</td>\n",
       "    </tr>\n",
       "    <tr>\n",
       "      <th>ENSG00000001084</th>\n",
       "      <td>23</td>\n",
       "      <td>23</td>\n",
       "    </tr>\n",
       "    <tr>\n",
       "      <th>ENSG00000001167</th>\n",
       "      <td>14</td>\n",
       "      <td>13</td>\n",
       "    </tr>\n",
       "  </tbody>\n",
       "</table>\n",
       "</div>"
      ],
      "text/plain": [
       "                 unique_n_snps_in_model  unique_n_snps_used\n",
       "gene_id                                                    \n",
       "ENSG00000000419                       2                   2\n",
       "ENSG00000000938                       5                   5\n",
       "ENSG00000000971                      12                  12\n",
       "ENSG00000001084                      23                  23\n",
       "ENSG00000001167                      14                  13"
      ]
     },
     "execution_count": 137,
     "metadata": {},
     "output_type": "execute_result"
    }
   ],
   "source": [
    "spredixcan_genes_unique_n_snps.head()"
   ]
  },
  {
   "cell_type": "code",
   "execution_count": 138,
   "id": "3d2b6676-2168-44b8-8d02-d29b934ba2ec",
   "metadata": {
    "execution": {
     "iopub.execute_input": "2022-08-02T23:25:34.715962Z",
     "iopub.status.busy": "2022-08-02T23:25:34.715754Z",
     "iopub.status.idle": "2022-08-02T23:25:34.730377Z",
     "shell.execute_reply": "2022-08-02T23:25:34.729902Z"
    },
    "papermill": {
     "duration": 0.045565,
     "end_time": "2022-08-02T23:25:34.731985",
     "exception": false,
     "start_time": "2022-08-02T23:25:34.686420",
     "status": "completed"
    },
    "tags": []
   },
   "outputs": [],
   "source": [
    "assert (\n",
    "    spredixcan_genes_unique_n_snps[\"unique_n_snps_in_model\"]\n",
    "    >= spredixcan_genes_unique_n_snps[\"unique_n_snps_used\"]\n",
    ").all()"
   ]
  },
  {
   "cell_type": "code",
   "execution_count": 139,
   "id": "6accf2fe-93fe-4f7c-86ff-5f0ea3d17e11",
   "metadata": {
    "execution": {
     "iopub.execute_input": "2022-08-02T23:25:34.791047Z",
     "iopub.status.busy": "2022-08-02T23:25:34.790844Z",
     "iopub.status.idle": "2022-08-02T23:25:34.808297Z",
     "shell.execute_reply": "2022-08-02T23:25:34.807806Z"
    },
    "papermill": {
     "duration": 0.049003,
     "end_time": "2022-08-02T23:25:34.809889",
     "exception": false,
     "start_time": "2022-08-02T23:25:34.760886",
     "status": "completed"
    },
    "tags": []
   },
   "outputs": [],
   "source": [
    "# add unique snps to spredixcan_genes_models\n",
    "spredixcan_genes_models = spredixcan_genes_models.join(spredixcan_genes_unique_n_snps)"
   ]
  },
  {
   "cell_type": "code",
   "execution_count": 140,
   "id": "25a28358-843b-4421-9d8f-8edc41f016e3",
   "metadata": {
    "execution": {
     "iopub.execute_input": "2022-08-02T23:25:34.869767Z",
     "iopub.status.busy": "2022-08-02T23:25:34.869560Z",
     "iopub.status.idle": "2022-08-02T23:25:34.885694Z",
     "shell.execute_reply": "2022-08-02T23:25:34.885183Z"
    },
    "papermill": {
     "duration": 0.04834,
     "end_time": "2022-08-02T23:25:34.887186",
     "exception": false,
     "start_time": "2022-08-02T23:25:34.838846",
     "status": "completed"
    },
    "tags": []
   },
   "outputs": [
    {
     "data": {
      "text/plain": [
       "(6444, 10)"
      ]
     },
     "execution_count": 140,
     "metadata": {},
     "output_type": "execute_result"
    }
   ],
   "source": [
    "spredixcan_genes_models.shape"
   ]
  },
  {
   "cell_type": "code",
   "execution_count": 141,
   "id": "ae4f0cd6-a823-4f55-82cf-1a78f0392acf",
   "metadata": {
    "execution": {
     "iopub.execute_input": "2022-08-02T23:25:34.948175Z",
     "iopub.status.busy": "2022-08-02T23:25:34.947975Z",
     "iopub.status.idle": "2022-08-02T23:25:34.977992Z",
     "shell.execute_reply": "2022-08-02T23:25:34.977480Z"
    },
    "papermill": {
     "duration": 0.062229,
     "end_time": "2022-08-02T23:25:34.979491",
     "exception": false,
     "start_time": "2022-08-02T23:25:34.917262",
     "status": "completed"
    },
    "tags": []
   },
   "outputs": [
    {
     "data": {
      "text/html": [
       "<div>\n",
       "<style scoped>\n",
       "    .dataframe tbody tr th:only-of-type {\n",
       "        vertical-align: middle;\n",
       "    }\n",
       "\n",
       "    .dataframe tbody tr th {\n",
       "        vertical-align: top;\n",
       "    }\n",
       "\n",
       "    .dataframe thead th {\n",
       "        text-align: right;\n",
       "    }\n",
       "</style>\n",
       "<table border=\"1\" class=\"dataframe\">\n",
       "  <thead>\n",
       "    <tr style=\"text-align: right;\">\n",
       "      <th></th>\n",
       "      <th>gene_name</th>\n",
       "      <th>tissue</th>\n",
       "      <th>n_tissues</th>\n",
       "      <th>tissues_pc_variances</th>\n",
       "      <th>tissues_pc_variances_cov</th>\n",
       "      <th>tissues_variances</th>\n",
       "      <th>n_snps_used_sum</th>\n",
       "      <th>n_snps_in_model_sum</th>\n",
       "      <th>unique_n_snps_in_model</th>\n",
       "      <th>unique_n_snps_used</th>\n",
       "    </tr>\n",
       "    <tr>\n",
       "      <th>gene_id</th>\n",
       "      <th></th>\n",
       "      <th></th>\n",
       "      <th></th>\n",
       "      <th></th>\n",
       "      <th></th>\n",
       "      <th></th>\n",
       "      <th></th>\n",
       "      <th></th>\n",
       "      <th></th>\n",
       "      <th></th>\n",
       "    </tr>\n",
       "  </thead>\n",
       "  <tbody>\n",
       "    <tr>\n",
       "      <th>ENSG00000000419</th>\n",
       "      <td>DPM1</td>\n",
       "      <td>(Brain_Hypothalamus, Brain_Substantia_nigra)</td>\n",
       "      <td>2</td>\n",
       "      <td>[1.0442398458252409, 0.9557601541747592]</td>\n",
       "      <td>[0.013163142634155849, 0.00048574890347684763]</td>\n",
       "      <td>{'Brain_Hypothalamus': 0.013162153504206677, '...</td>\n",
       "      <td>2</td>\n",
       "      <td>2</td>\n",
       "      <td>2</td>\n",
       "      <td>2</td>\n",
       "    </tr>\n",
       "    <tr>\n",
       "      <th>ENSG00000000938</th>\n",
       "      <td>FGR</td>\n",
       "      <td>(Esophagus_Muscularis, Thyroid, Brain_Cortex, ...</td>\n",
       "      <td>36</td>\n",
       "      <td>[31.63266933637129, 2.078367751851144, 1.27161...</td>\n",
       "      <td>[0.1715948657078027]</td>\n",
       "      <td>{'Esophagus_Muscularis': 0.006536602044478473,...</td>\n",
       "      <td>40</td>\n",
       "      <td>40</td>\n",
       "      <td>5</td>\n",
       "      <td>5</td>\n",
       "    </tr>\n",
       "    <tr>\n",
       "      <th>ENSG00000000971</th>\n",
       "      <td>CFH</td>\n",
       "      <td>(Esophagus_Muscularis, Thyroid, Brain_Cortex, ...</td>\n",
       "      <td>34</td>\n",
       "      <td>[21.56076992568329, 7.310170987045463, 1.83778...</td>\n",
       "      <td>[0.2093060319587451, 0.058234347656008024, 0.0...</td>\n",
       "      <td>{'Esophagus_Muscularis': 0.01739410990047228, ...</td>\n",
       "      <td>44</td>\n",
       "      <td>44</td>\n",
       "      <td>12</td>\n",
       "      <td>12</td>\n",
       "    </tr>\n",
       "    <tr>\n",
       "      <th>ENSG00000001084</th>\n",
       "      <td>GCLC</td>\n",
       "      <td>(Thyroid, Brain_Cortex, Heart_Left_Ventricle, ...</td>\n",
       "      <td>32</td>\n",
       "      <td>[21.291939080546538, 4.699418748743195, 2.2489...</td>\n",
       "      <td>[0.39430527375123775, 0.11627488888534836, 0.0...</td>\n",
       "      <td>{'Thyroid': 0.009654918580686024, 'Brain_Corte...</td>\n",
       "      <td>46</td>\n",
       "      <td>46</td>\n",
       "      <td>23</td>\n",
       "      <td>23</td>\n",
       "    </tr>\n",
       "    <tr>\n",
       "      <th>ENSG00000001167</th>\n",
       "      <td>NFYA</td>\n",
       "      <td>(Esophagus_Muscularis, Thyroid, Brain_Cortex, ...</td>\n",
       "      <td>40</td>\n",
       "      <td>[37.3356602954977, 1.3914019604538357]</td>\n",
       "      <td>[1.1642639979821048, 0.05742881287671712]</td>\n",
       "      <td>{'Esophagus_Muscularis': 0.0318781600881541, '...</td>\n",
       "      <td>47</td>\n",
       "      <td>48</td>\n",
       "      <td>14</td>\n",
       "      <td>13</td>\n",
       "    </tr>\n",
       "  </tbody>\n",
       "</table>\n",
       "</div>"
      ],
      "text/plain": [
       "                gene_name                                             tissue  \\\n",
       "gene_id                                                                        \n",
       "ENSG00000000419      DPM1       (Brain_Hypothalamus, Brain_Substantia_nigra)   \n",
       "ENSG00000000938       FGR  (Esophagus_Muscularis, Thyroid, Brain_Cortex, ...   \n",
       "ENSG00000000971       CFH  (Esophagus_Muscularis, Thyroid, Brain_Cortex, ...   \n",
       "ENSG00000001084      GCLC  (Thyroid, Brain_Cortex, Heart_Left_Ventricle, ...   \n",
       "ENSG00000001167      NFYA  (Esophagus_Muscularis, Thyroid, Brain_Cortex, ...   \n",
       "\n",
       "                 n_tissues                               tissues_pc_variances  \\\n",
       "gene_id                                                                         \n",
       "ENSG00000000419          2           [1.0442398458252409, 0.9557601541747592]   \n",
       "ENSG00000000938         36  [31.63266933637129, 2.078367751851144, 1.27161...   \n",
       "ENSG00000000971         34  [21.56076992568329, 7.310170987045463, 1.83778...   \n",
       "ENSG00000001084         32  [21.291939080546538, 4.699418748743195, 2.2489...   \n",
       "ENSG00000001167         40             [37.3356602954977, 1.3914019604538357]   \n",
       "\n",
       "                                          tissues_pc_variances_cov  \\\n",
       "gene_id                                                              \n",
       "ENSG00000000419     [0.013163142634155849, 0.00048574890347684763]   \n",
       "ENSG00000000938                               [0.1715948657078027]   \n",
       "ENSG00000000971  [0.2093060319587451, 0.058234347656008024, 0.0...   \n",
       "ENSG00000001084  [0.39430527375123775, 0.11627488888534836, 0.0...   \n",
       "ENSG00000001167          [1.1642639979821048, 0.05742881287671712]   \n",
       "\n",
       "                                                 tissues_variances  \\\n",
       "gene_id                                                              \n",
       "ENSG00000000419  {'Brain_Hypothalamus': 0.013162153504206677, '...   \n",
       "ENSG00000000938  {'Esophagus_Muscularis': 0.006536602044478473,...   \n",
       "ENSG00000000971  {'Esophagus_Muscularis': 0.01739410990047228, ...   \n",
       "ENSG00000001084  {'Thyroid': 0.009654918580686024, 'Brain_Corte...   \n",
       "ENSG00000001167  {'Esophagus_Muscularis': 0.0318781600881541, '...   \n",
       "\n",
       "                 n_snps_used_sum  n_snps_in_model_sum  unique_n_snps_in_model  \\\n",
       "gene_id                                                                         \n",
       "ENSG00000000419                2                    2                       2   \n",
       "ENSG00000000938               40                   40                       5   \n",
       "ENSG00000000971               44                   44                      12   \n",
       "ENSG00000001084               46                   46                      23   \n",
       "ENSG00000001167               47                   48                      14   \n",
       "\n",
       "                 unique_n_snps_used  \n",
       "gene_id                              \n",
       "ENSG00000000419                   2  \n",
       "ENSG00000000938                   5  \n",
       "ENSG00000000971                  12  \n",
       "ENSG00000001084                  23  \n",
       "ENSG00000001167                  13  "
      ]
     },
     "execution_count": 141,
     "metadata": {},
     "output_type": "execute_result"
    }
   ],
   "source": [
    "spredixcan_genes_models.head()"
   ]
  },
  {
   "cell_type": "markdown",
   "id": "d6947d45-ea78-4c6b-bf71-f7413d1687e3",
   "metadata": {
    "papermill": {
     "duration": 0.030282,
     "end_time": "2022-08-02T23:25:35.040096",
     "exception": false,
     "start_time": "2022-08-02T23:25:35.009814",
     "status": "completed"
    },
    "tags": []
   },
   "source": [
    "### Save"
   ]
  },
  {
   "cell_type": "code",
   "execution_count": 142,
   "id": "ebc3a430-7bd5-4099-8b01-aa77e704e3e7",
   "metadata": {
    "execution": {
     "iopub.execute_input": "2022-08-02T23:25:35.101678Z",
     "iopub.status.busy": "2022-08-02T23:25:35.101471Z",
     "iopub.status.idle": "2022-08-02T23:25:35.116981Z",
     "shell.execute_reply": "2022-08-02T23:25:35.116470Z"
    },
    "papermill": {
     "duration": 0.048077,
     "end_time": "2022-08-02T23:25:35.118589",
     "exception": false,
     "start_time": "2022-08-02T23:25:35.070512",
     "status": "completed"
    },
    "tags": []
   },
   "outputs": [],
   "source": [
    "# this is important, other scripts depend on gene_name to be unique\n",
    "assert spredixcan_genes_models[\"gene_name\"].is_unique"
   ]
  },
  {
   "cell_type": "code",
   "execution_count": 143,
   "id": "e2db5302-3051-4492-97e1-e759d2fb512f",
   "metadata": {
    "execution": {
     "iopub.execute_input": "2022-08-02T23:25:35.180185Z",
     "iopub.status.busy": "2022-08-02T23:25:35.179990Z",
     "iopub.status.idle": "2022-08-02T23:25:35.196489Z",
     "shell.execute_reply": "2022-08-02T23:25:35.196000Z"
    },
    "papermill": {
     "duration": 0.049184,
     "end_time": "2022-08-02T23:25:35.198141",
     "exception": false,
     "start_time": "2022-08-02T23:25:35.148957",
     "status": "completed"
    },
    "tags": []
   },
   "outputs": [],
   "source": [
    "assert not spredixcan_genes_models.isna().any(None)"
   ]
  },
  {
   "cell_type": "code",
   "execution_count": 144,
   "id": "10e19441-8390-4eb1-8da4-24752597bb54",
   "metadata": {
    "execution": {
     "iopub.execute_input": "2022-08-02T23:25:35.259976Z",
     "iopub.status.busy": "2022-08-02T23:25:35.259742Z",
     "iopub.status.idle": "2022-08-02T23:25:35.979807Z",
     "shell.execute_reply": "2022-08-02T23:25:35.979208Z"
    },
    "papermill": {
     "duration": 0.752601,
     "end_time": "2022-08-02T23:25:35.981757",
     "exception": false,
     "start_time": "2022-08-02T23:25:35.229156",
     "status": "completed"
    },
    "tags": []
   },
   "outputs": [],
   "source": [
    "spredixcan_genes_models.to_pickle(OUTPUT_DIR_BASE / \"gene_tissues.pkl\")"
   ]
  },
  {
   "cell_type": "code",
   "execution_count": null,
   "id": "b25e3ead",
   "metadata": {
    "papermill": {
     "duration": 0.030514,
     "end_time": "2022-08-02T23:25:36.043091",
     "exception": false,
     "start_time": "2022-08-02T23:25:36.012577",
     "status": "completed"
    },
    "tags": []
   },
   "outputs": [],
   "source": []
  }
 ],
 "metadata": {
  "jupytext": {
   "cell_metadata_filter": "all,-execution,-papermill,-trusted",
   "formats": "ipynb,py//py:percent"
  },
  "kernelspec": {
   "display_name": "Python 3 (ipykernel)",
   "language": "python",
   "name": "python3"
  },
  "language_info": {
   "codemirror_mode": {
    "name": "ipython",
    "version": 3
   },
   "file_extension": ".py",
   "mimetype": "text/x-python",
   "name": "python",
   "nbconvert_exporter": "python",
   "pygments_lexer": "ipython3",
   "version": "3.8.13"
  },
  "papermill": {
   "default_parameters": {},
   "duration": 11756.664434,
   "end_time": "2022-08-02T23:25:38.704073",
   "environment_variables": {},
   "exception": null,
   "input_path": "nbs/15_gsa_gls/07-compile_gwas_snps_and_twas_genes.ipynb",
   "output_path": "nbs/15_gsa_gls/gene_corrs/cohorts/1000g_eur/gtex_v8/mashr/07-compile_gwas_snps_and_twas_genes.run.ipynb",
   "parameters": {
    "COHORT_NAME": "1000G_EUR",
    "EQTL_MODEL": "MASHR",
    "GWAS_FILE": "/project/ritchie20/projects/phenoplier/base/results/gls/null_sims/final_imputed_gwas/random.pheno0.glm-imputed.txt.gz",
    "REFERENCE_PANEL": "GTEX_V8",
    "SMULTIXCAN_FILE": "/project/ritchie20/projects/phenoplier/base/results/gls/null_sims/twas/smultixcan/random.pheno0-gtex_v8-mashr-smultixcan.txt",
    "SPREDIXCAN_FILE_PATTERN": "random.pheno0-gtex_v8-mashr-{tissue}.csv",
    "SPREDIXCAN_FOLDER": "/project/ritchie20/projects/phenoplier/base/results/gls/null_sims/twas/spredixcan/"
   },
   "start_time": "2022-08-02T20:09:42.039639",
   "version": "2.2.2"
  },
  "toc-autonumbering": true
 },
 "nbformat": 4,
 "nbformat_minor": 5
}
