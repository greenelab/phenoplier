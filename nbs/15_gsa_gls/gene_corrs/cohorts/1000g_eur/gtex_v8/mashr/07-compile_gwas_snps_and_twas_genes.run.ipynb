{
 "cells": [
  {
   "cell_type": "markdown",
   "id": "7a6632fb",
   "metadata": {
    "papermill": {
     "duration": 0.049035,
     "end_time": "2022-08-27T04:17:01.264447",
     "exception": false,
     "start_time": "2022-08-27T04:17:01.215412",
     "status": "completed"
    },
    "tags": []
   },
   "source": [
    "# Description"
   ]
  },
  {
   "cell_type": "markdown",
   "id": "7097c346",
   "metadata": {
    "papermill": {
     "duration": 0.032725,
     "end_time": "2022-08-27T04:17:01.334860",
     "exception": false,
     "start_time": "2022-08-27T04:17:01.302135",
     "status": "completed"
    },
    "tags": []
   },
   "source": [
    "(Please, take a look at the README.md file in this directory for instructions on how to run this notebook)\n",
    "\n",
    "This notebook compiles information about the GWAS and TWAS for a particular cohort. For example, the set of GWAS variants, variance of predicted expression of genes, etc.\n",
    "\n",
    "It has specicfic parameters for papermill (see under `Settings` below).\n",
    "\n",
    "This notebook is not directly run. See README.md."
   ]
  },
  {
   "cell_type": "markdown",
   "id": "c61d8427",
   "metadata": {
    "papermill": {
     "duration": 0.027437,
     "end_time": "2022-08-27T04:17:01.392195",
     "exception": false,
     "start_time": "2022-08-27T04:17:01.364758",
     "status": "completed"
    },
    "tags": []
   },
   "source": [
    "# Modules"
   ]
  },
  {
   "cell_type": "code",
   "execution_count": 1,
   "id": "bbc0234f",
   "metadata": {
    "execution": {
     "iopub.execute_input": "2022-08-27T04:17:01.447738Z",
     "iopub.status.busy": "2022-08-27T04:17:01.447433Z",
     "iopub.status.idle": "2022-08-27T04:17:01.559976Z",
     "shell.execute_reply": "2022-08-27T04:17:01.558871Z"
    },
    "papermill": {
     "duration": 0.145108,
     "end_time": "2022-08-27T04:17:01.563777",
     "exception": false,
     "start_time": "2022-08-27T04:17:01.418669",
     "status": "completed"
    },
    "tags": []
   },
   "outputs": [],
   "source": [
    "%load_ext autoreload\n",
    "%autoreload 2"
   ]
  },
  {
   "cell_type": "code",
   "execution_count": 2,
   "id": "1d5f5a59",
   "metadata": {
    "execution": {
     "iopub.execute_input": "2022-08-27T04:17:01.638949Z",
     "iopub.status.busy": "2022-08-27T04:17:01.638641Z",
     "iopub.status.idle": "2022-08-27T04:17:03.572385Z",
     "shell.execute_reply": "2022-08-27T04:17:03.571863Z"
    },
    "papermill": {
     "duration": 1.970446,
     "end_time": "2022-08-27T04:17:03.574251",
     "exception": false,
     "start_time": "2022-08-27T04:17:01.603805",
     "status": "completed"
    },
    "tags": []
   },
   "outputs": [],
   "source": [
    "from pathlib import Path\n",
    "import pickle\n",
    "\n",
    "import numpy as np\n",
    "import pandas as pd\n",
    "\n",
    "import conf\n",
    "from entity import Gene"
   ]
  },
  {
   "cell_type": "markdown",
   "id": "1eac24b5",
   "metadata": {
    "papermill": {
     "duration": 0.016749,
     "end_time": "2022-08-27T04:17:03.609073",
     "exception": false,
     "start_time": "2022-08-27T04:17:03.592324",
     "status": "completed"
    },
    "tags": []
   },
   "source": [
    "# Settings"
   ]
  },
  {
   "cell_type": "code",
   "execution_count": 3,
   "id": "ca4560ba",
   "metadata": {
    "execution": {
     "iopub.execute_input": "2022-08-27T04:17:03.643604Z",
     "iopub.status.busy": "2022-08-27T04:17:03.643384Z",
     "iopub.status.idle": "2022-08-27T04:17:03.694344Z",
     "shell.execute_reply": "2022-08-27T04:17:03.693418Z"
    },
    "papermill": {
     "duration": 0.071275,
     "end_time": "2022-08-27T04:17:03.696946",
     "exception": false,
     "start_time": "2022-08-27T04:17:03.625671",
     "status": "completed"
    },
    "tags": [
     "parameters"
    ]
   },
   "outputs": [],
   "source": [
    "# a cohort name (it could be something like UK_BIOBANK, etc)\n",
    "COHORT_NAME = None\n",
    "\n",
    "# reference panel such as 1000G or GTEX_V8\n",
    "REFERENCE_PANEL = None\n",
    "\n",
    "# predictions models such as MASHR or ELASTIC_NET\n",
    "EQTL_MODEL = None\n",
    "\n",
    "# a string with a path pointing to an imputed GWAS\n",
    "GWAS_FILE = None\n",
    "\n",
    "# a string with a path pointing where S-PrediXcan results (tissue-specific are located\n",
    "SPREDIXCAN_FOLDER = None\n",
    "\n",
    "# an f-string with one placeholder {tissue}\n",
    "SPREDIXCAN_FILE_PATTERN = None\n",
    "\n",
    "# a string with a path pointing to an S-MultiXcan result\n",
    "SMULTIXCAN_FILE = None"
   ]
  },
  {
   "cell_type": "code",
   "execution_count": 4,
   "id": "1db2c22c",
   "metadata": {
    "execution": {
     "iopub.execute_input": "2022-08-27T04:17:03.755329Z",
     "iopub.status.busy": "2022-08-27T04:17:03.755058Z",
     "iopub.status.idle": "2022-08-27T04:17:03.777027Z",
     "shell.execute_reply": "2022-08-27T04:17:03.776344Z"
    },
    "papermill": {
     "duration": 0.05253,
     "end_time": "2022-08-27T04:17:03.779043",
     "exception": false,
     "start_time": "2022-08-27T04:17:03.726513",
     "status": "completed"
    },
    "tags": [
     "injected-parameters"
    ]
   },
   "outputs": [],
   "source": [
    "# Parameters\n",
    "COHORT_NAME = \"1000G_EUR\"\n",
    "REFERENCE_PANEL = \"GTEX_V8\"\n",
    "EQTL_MODEL = \"MASHR\"\n",
    "GWAS_FILE = \"/project/ritchie20/projects/phenoplier/base/results/gls/null_sims/final_imputed_gwas/random.pheno0.glm-imputed.txt.gz\"\n",
    "SPREDIXCAN_FOLDER = (\n",
    "    \"/project/ritchie20/projects/phenoplier/base/results/gls/null_sims/twas/spredixcan/\"\n",
    ")\n",
    "SPREDIXCAN_FILE_PATTERN = \"random.pheno0-gtex_v8-mashr-{tissue}.csv\"\n",
    "SMULTIXCAN_FILE = \"/project/ritchie20/projects/phenoplier/base/results/gls/null_sims/twas/smultixcan/random.pheno0-gtex_v8-mashr-smultixcan.txt\"\n"
   ]
  },
  {
   "cell_type": "code",
   "execution_count": 5,
   "id": "8fe24bef",
   "metadata": {
    "execution": {
     "iopub.execute_input": "2022-08-27T04:17:03.827968Z",
     "iopub.status.busy": "2022-08-27T04:17:03.827735Z",
     "iopub.status.idle": "2022-08-27T04:17:03.853870Z",
     "shell.execute_reply": "2022-08-27T04:17:03.853066Z"
    },
    "papermill": {
     "duration": 0.052081,
     "end_time": "2022-08-27T04:17:03.855495",
     "exception": false,
     "start_time": "2022-08-27T04:17:03.803414",
     "status": "completed"
    },
    "tags": []
   },
   "outputs": [
    {
     "data": {
      "text/plain": [
       "'Cohort name: 1000g_eur'"
      ]
     },
     "metadata": {},
     "output_type": "display_data"
    }
   ],
   "source": [
    "assert COHORT_NAME is not None and len(COHORT_NAME) > 0, \"A cohort name must be given\"\n",
    "\n",
    "COHORT_NAME = COHORT_NAME.lower()\n",
    "display(f\"Cohort name: {COHORT_NAME}\")"
   ]
  },
  {
   "cell_type": "code",
   "execution_count": 6,
   "id": "f53ba19b-0f93-4fa2-a047-63b375939d1a",
   "metadata": {
    "execution": {
     "iopub.execute_input": "2022-08-27T04:17:03.899584Z",
     "iopub.status.busy": "2022-08-27T04:17:03.899364Z",
     "iopub.status.idle": "2022-08-27T04:17:03.917661Z",
     "shell.execute_reply": "2022-08-27T04:17:03.917082Z"
    },
    "papermill": {
     "duration": 0.041495,
     "end_time": "2022-08-27T04:17:03.919131",
     "exception": false,
     "start_time": "2022-08-27T04:17:03.877636",
     "status": "completed"
    },
    "tags": []
   },
   "outputs": [
    {
     "data": {
      "text/plain": [
       "'Reference panel: GTEX_V8'"
      ]
     },
     "metadata": {},
     "output_type": "display_data"
    }
   ],
   "source": [
    "assert (\n",
    "    REFERENCE_PANEL is not None and len(REFERENCE_PANEL) > 0\n",
    "), \"A reference panel must be given\"\n",
    "\n",
    "display(f\"Reference panel: {REFERENCE_PANEL}\")"
   ]
  },
  {
   "cell_type": "code",
   "execution_count": 7,
   "id": "7a970044-2d34-4e5b-a850-eff44079afe8",
   "metadata": {
    "execution": {
     "iopub.execute_input": "2022-08-27T04:17:03.960547Z",
     "iopub.status.busy": "2022-08-27T04:17:03.960343Z",
     "iopub.status.idle": "2022-08-27T04:17:04.035046Z",
     "shell.execute_reply": "2022-08-27T04:17:04.033772Z"
    },
    "papermill": {
     "duration": 0.099145,
     "end_time": "2022-08-27T04:17:04.038991",
     "exception": false,
     "start_time": "2022-08-27T04:17:03.939846",
     "status": "completed"
    },
    "tags": []
   },
   "outputs": [
    {
     "data": {
      "text/plain": [
       "'GWAS file path: /project/ritchie20/projects/phenoplier/base/results/gls/null_sims/final_imputed_gwas/random.pheno0.glm-imputed.txt.gz'"
      ]
     },
     "metadata": {},
     "output_type": "display_data"
    }
   ],
   "source": [
    "assert GWAS_FILE is not None and len(GWAS_FILE) > 0, \"A GWAS file path must be given\"\n",
    "GWAS_FILE = Path(GWAS_FILE).resolve()\n",
    "assert GWAS_FILE.exists(), \"GWAS file does not exist\"\n",
    "\n",
    "display(f\"GWAS file path: {str(GWAS_FILE)}\")"
   ]
  },
  {
   "cell_type": "code",
   "execution_count": 8,
   "id": "552a7f63-a18c-4d3e-bb6a-94f99b431291",
   "metadata": {
    "execution": {
     "iopub.execute_input": "2022-08-27T04:17:04.117697Z",
     "iopub.status.busy": "2022-08-27T04:17:04.117366Z",
     "iopub.status.idle": "2022-08-27T04:17:04.177270Z",
     "shell.execute_reply": "2022-08-27T04:17:04.175995Z"
    },
    "papermill": {
     "duration": 0.10011,
     "end_time": "2022-08-27T04:17:04.181191",
     "exception": false,
     "start_time": "2022-08-27T04:17:04.081081",
     "status": "completed"
    },
    "tags": []
   },
   "outputs": [
    {
     "data": {
      "text/plain": [
       "'S-PrediXcan folder path: /project/ritchie20/projects/phenoplier/base/results/gls/null_sims/twas/spredixcan'"
      ]
     },
     "metadata": {},
     "output_type": "display_data"
    }
   ],
   "source": [
    "assert (\n",
    "    SPREDIXCAN_FOLDER is not None and len(SPREDIXCAN_FOLDER) > 0\n",
    "), \"An S-PrediXcan folder path must be given\"\n",
    "SPREDIXCAN_FOLDER = Path(SPREDIXCAN_FOLDER).resolve()\n",
    "assert SPREDIXCAN_FOLDER.exists(), \"S-PrediXcan folder does not exist\"\n",
    "\n",
    "display(f\"S-PrediXcan folder path: {str(SPREDIXCAN_FOLDER)}\")"
   ]
  },
  {
   "cell_type": "code",
   "execution_count": 9,
   "id": "6e2000dc-f1dc-4db8-93d5-9a7209a2e121",
   "metadata": {
    "execution": {
     "iopub.execute_input": "2022-08-27T04:17:04.261719Z",
     "iopub.status.busy": "2022-08-27T04:17:04.261371Z",
     "iopub.status.idle": "2022-08-27T04:17:04.290810Z",
     "shell.execute_reply": "2022-08-27T04:17:04.290093Z"
    },
    "papermill": {
     "duration": 0.069357,
     "end_time": "2022-08-27T04:17:04.293035",
     "exception": false,
     "start_time": "2022-08-27T04:17:04.223678",
     "status": "completed"
    },
    "tags": []
   },
   "outputs": [
    {
     "data": {
      "text/plain": [
       "'S-PrediXcan file template: random.pheno0-gtex_v8-mashr-{tissue}.csv'"
      ]
     },
     "metadata": {},
     "output_type": "display_data"
    }
   ],
   "source": [
    "assert (\n",
    "    SPREDIXCAN_FILE_PATTERN is not None and len(SPREDIXCAN_FILE_PATTERN) > 0\n",
    "), \"An S-PrediXcan file pattern must be given\"\n",
    "assert (\n",
    "    \"{tissue}\" in SPREDIXCAN_FILE_PATTERN\n",
    "), \"S-PrediXcan file pattern must have a '{tissue}' placeholder\"\n",
    "\n",
    "display(f\"S-PrediXcan file template: {SPREDIXCAN_FILE_PATTERN}\")"
   ]
  },
  {
   "cell_type": "code",
   "execution_count": 10,
   "id": "f5a5aa9d-c6f3-4fb5-9351-37382b6e67bc",
   "metadata": {
    "execution": {
     "iopub.execute_input": "2022-08-27T04:17:04.351174Z",
     "iopub.status.busy": "2022-08-27T04:17:04.350917Z",
     "iopub.status.idle": "2022-08-27T04:17:04.537778Z",
     "shell.execute_reply": "2022-08-27T04:17:04.536517Z"
    },
    "papermill": {
     "duration": 0.220148,
     "end_time": "2022-08-27T04:17:04.541721",
     "exception": false,
     "start_time": "2022-08-27T04:17:04.321573",
     "status": "completed"
    },
    "tags": []
   },
   "outputs": [
    {
     "data": {
      "text/plain": [
       "'S-MultiXcan file path: /project/ritchie20/projects/phenoplier/base/results/gls/null_sims/twas/smultixcan/random.pheno0-gtex_v8-mashr-smultixcan.txt'"
      ]
     },
     "metadata": {},
     "output_type": "display_data"
    }
   ],
   "source": [
    "assert (\n",
    "    SMULTIXCAN_FILE is not None and len(SMULTIXCAN_FILE) > 0\n",
    "), \"An S-MultiXcan result file path must be given\"\n",
    "SMULTIXCAN_FILE = Path(SMULTIXCAN_FILE).resolve()\n",
    "assert SMULTIXCAN_FILE.exists(), \"S-MultiXcan result file does not exist\"\n",
    "\n",
    "display(f\"S-MultiXcan file path: {str(SMULTIXCAN_FILE)}\")"
   ]
  },
  {
   "cell_type": "code",
   "execution_count": 11,
   "id": "0723dc2f-34d1-407c-a55b-d6d13c55d63d",
   "metadata": {
    "execution": {
     "iopub.execute_input": "2022-08-27T04:17:04.621383Z",
     "iopub.status.busy": "2022-08-27T04:17:04.621047Z",
     "iopub.status.idle": "2022-08-27T04:17:04.650334Z",
     "shell.execute_reply": "2022-08-27T04:17:04.649579Z"
    },
    "papermill": {
     "duration": 0.068231,
     "end_time": "2022-08-27T04:17:04.652567",
     "exception": false,
     "start_time": "2022-08-27T04:17:04.584336",
     "status": "completed"
    },
    "tags": []
   },
   "outputs": [
    {
     "data": {
      "text/plain": [
       "'eQTL model: MASHR'"
      ]
     },
     "metadata": {},
     "output_type": "display_data"
    }
   ],
   "source": [
    "assert (\n",
    "    EQTL_MODEL is not None and len(EQTL_MODEL) > 0\n",
    "), \"A prediction/eQTL model must be given\"\n",
    "\n",
    "display(f\"eQTL model: {EQTL_MODEL}\")"
   ]
  },
  {
   "cell_type": "code",
   "execution_count": 12,
   "id": "396392dc-0340-4540-9b02-e182b833f909",
   "metadata": {
    "execution": {
     "iopub.execute_input": "2022-08-27T04:17:04.712490Z",
     "iopub.status.busy": "2022-08-27T04:17:04.712209Z",
     "iopub.status.idle": "2022-08-27T04:17:04.767168Z",
     "shell.execute_reply": "2022-08-27T04:17:04.765981Z"
    },
    "papermill": {
     "duration": 0.08812,
     "end_time": "2022-08-27T04:17:04.770752",
     "exception": false,
     "start_time": "2022-08-27T04:17:04.682632",
     "status": "completed"
    },
    "tags": []
   },
   "outputs": [
    {
     "data": {
      "text/plain": [
       "'Using output dir base: /project/ritchie20/projects/phenoplier/base/results/gls/gene_corrs/cohorts/1000g_eur/gtex_v8/mashr'"
      ]
     },
     "metadata": {},
     "output_type": "display_data"
    }
   ],
   "source": [
    "OUTPUT_DIR_BASE = (\n",
    "    conf.RESULTS[\"GLS\"]\n",
    "    / \"gene_corrs\"\n",
    "    / \"cohorts\"\n",
    "    / COHORT_NAME\n",
    "    / REFERENCE_PANEL.lower()\n",
    "    / EQTL_MODEL.lower()\n",
    ")\n",
    "\n",
    "OUTPUT_DIR_BASE.mkdir(parents=True, exist_ok=True)\n",
    "\n",
    "display(f\"Using output dir base: {OUTPUT_DIR_BASE}\")"
   ]
  },
  {
   "cell_type": "markdown",
   "id": "b6ebb422-8204-494b-8c72-360a71ce9863",
   "metadata": {
    "papermill": {
     "duration": 0.036,
     "end_time": "2022-08-27T04:17:04.850360",
     "exception": false,
     "start_time": "2022-08-27T04:17:04.814360",
     "status": "completed"
    },
    "tags": []
   },
   "source": [
    "# Load MultiPLIER Z genes"
   ]
  },
  {
   "cell_type": "code",
   "execution_count": 13,
   "id": "c48ef527",
   "metadata": {
    "execution": {
     "iopub.execute_input": "2022-08-27T04:17:04.912253Z",
     "iopub.status.busy": "2022-08-27T04:17:04.911981Z",
     "iopub.status.idle": "2022-08-27T04:17:05.007201Z",
     "shell.execute_reply": "2022-08-27T04:17:05.006281Z"
    },
    "papermill": {
     "duration": 0.128487,
     "end_time": "2022-08-27T04:17:05.010250",
     "exception": false,
     "start_time": "2022-08-27T04:17:04.881763",
     "status": "completed"
    },
    "tags": []
   },
   "outputs": [],
   "source": [
    "multiplier_z_genes = pd.read_pickle(\n",
    "    conf.MULTIPLIER[\"MODEL_Z_MATRIX_FILE\"]\n",
    ").index.tolist()"
   ]
  },
  {
   "cell_type": "code",
   "execution_count": 14,
   "id": "0a4ecbd9",
   "metadata": {
    "execution": {
     "iopub.execute_input": "2022-08-27T04:17:05.073290Z",
     "iopub.status.busy": "2022-08-27T04:17:05.072989Z",
     "iopub.status.idle": "2022-08-27T04:17:05.105442Z",
     "shell.execute_reply": "2022-08-27T04:17:05.104689Z"
    },
    "papermill": {
     "duration": 0.065036,
     "end_time": "2022-08-27T04:17:05.107574",
     "exception": false,
     "start_time": "2022-08-27T04:17:05.042538",
     "status": "completed"
    },
    "tags": []
   },
   "outputs": [
    {
     "data": {
      "text/plain": [
       "6750"
      ]
     },
     "execution_count": 14,
     "metadata": {},
     "output_type": "execute_result"
    }
   ],
   "source": [
    "len(multiplier_z_genes)"
   ]
  },
  {
   "cell_type": "code",
   "execution_count": 15,
   "id": "a18ce359-0759-4260-ae6f-053e8c0041b7",
   "metadata": {
    "execution": {
     "iopub.execute_input": "2022-08-27T04:17:05.165926Z",
     "iopub.status.busy": "2022-08-27T04:17:05.165660Z",
     "iopub.status.idle": "2022-08-27T04:17:05.198624Z",
     "shell.execute_reply": "2022-08-27T04:17:05.197939Z"
    },
    "papermill": {
     "duration": 0.064267,
     "end_time": "2022-08-27T04:17:05.200953",
     "exception": false,
     "start_time": "2022-08-27T04:17:05.136686",
     "status": "completed"
    },
    "tags": []
   },
   "outputs": [],
   "source": [
    "assert len(multiplier_z_genes) == len(set(multiplier_z_genes))"
   ]
  },
  {
   "cell_type": "code",
   "execution_count": 16,
   "id": "115e8864",
   "metadata": {
    "execution": {
     "iopub.execute_input": "2022-08-27T04:17:05.257671Z",
     "iopub.status.busy": "2022-08-27T04:17:05.257412Z",
     "iopub.status.idle": "2022-08-27T04:17:05.293195Z",
     "shell.execute_reply": "2022-08-27T04:17:05.292496Z"
    },
    "papermill": {
     "duration": 0.066045,
     "end_time": "2022-08-27T04:17:05.295414",
     "exception": false,
     "start_time": "2022-08-27T04:17:05.229369",
     "status": "completed"
    },
    "tags": []
   },
   "outputs": [
    {
     "data": {
      "text/plain": [
       "['GAS6', 'MMP14', 'DSP', 'MARCKSL1', 'SPARC']"
      ]
     },
     "execution_count": 16,
     "metadata": {},
     "output_type": "execute_result"
    }
   ],
   "source": [
    "multiplier_z_genes[:5]"
   ]
  },
  {
   "cell_type": "markdown",
   "id": "7bed0ce0-e7c7-4300-9a61-5412450b1904",
   "metadata": {
    "papermill": {
     "duration": 0.027843,
     "end_time": "2022-08-27T04:17:05.353447",
     "exception": false,
     "start_time": "2022-08-27T04:17:05.325604",
     "status": "completed"
    },
    "tags": []
   },
   "source": [
    "# GWAS"
   ]
  },
  {
   "cell_type": "code",
   "execution_count": 17,
   "id": "331e5691-c014-43e4-b94c-060c64d329df",
   "metadata": {
    "execution": {
     "iopub.execute_input": "2022-08-27T04:17:05.404804Z",
     "iopub.status.busy": "2022-08-27T04:17:05.404582Z",
     "iopub.status.idle": "2022-08-27T04:17:05.488247Z",
     "shell.execute_reply": "2022-08-27T04:17:05.487121Z"
    },
    "papermill": {
     "duration": 0.11303,
     "end_time": "2022-08-27T04:17:05.491939",
     "exception": false,
     "start_time": "2022-08-27T04:17:05.378909",
     "status": "completed"
    },
    "tags": []
   },
   "outputs": [],
   "source": [
    "gwas_file_columns = pd.read_csv(GWAS_FILE, sep=\"\\t\", nrows=2).columns\n",
    "assert (\n",
    "    \"panel_variant_id\" in gwas_file_columns\n",
    "), \"GWAS file must be final imputed one with column 'panel_variant_id'\"\n",
    "# FIXME: add other needed columns here"
   ]
  },
  {
   "cell_type": "code",
   "execution_count": 18,
   "id": "8d419629-8f4d-4c83-bed3-cfc071a58090",
   "metadata": {
    "execution": {
     "iopub.execute_input": "2022-08-27T04:17:05.569205Z",
     "iopub.status.busy": "2022-08-27T04:17:05.568884Z",
     "iopub.status.idle": "2022-08-27T04:17:17.938623Z",
     "shell.execute_reply": "2022-08-27T04:17:17.937859Z"
    },
    "papermill": {
     "duration": 12.407899,
     "end_time": "2022-08-27T04:17:17.940573",
     "exception": false,
     "start_time": "2022-08-27T04:17:05.532674",
     "status": "completed"
    },
    "tags": []
   },
   "outputs": [],
   "source": [
    "gwas_data = pd.read_csv(\n",
    "    GWAS_FILE,\n",
    "    sep=\"\\t\",\n",
    "    usecols=[\"panel_variant_id\", \"pvalue\", \"zscore\"],\n",
    ")"
   ]
  },
  {
   "cell_type": "code",
   "execution_count": 19,
   "id": "3f4e814e-6b41-407e-9099-86795eec6ed9",
   "metadata": {
    "execution": {
     "iopub.execute_input": "2022-08-27T04:17:17.977518Z",
     "iopub.status.busy": "2022-08-27T04:17:17.977294Z",
     "iopub.status.idle": "2022-08-27T04:17:18.228024Z",
     "shell.execute_reply": "2022-08-27T04:17:18.226792Z"
    },
    "papermill": {
     "duration": 0.27253,
     "end_time": "2022-08-27T04:17:18.231402",
     "exception": false,
     "start_time": "2022-08-27T04:17:17.958872",
     "status": "completed"
    },
    "tags": []
   },
   "outputs": [
    {
     "data": {
      "text/plain": [
       "(8325729, 3)"
      ]
     },
     "execution_count": 19,
     "metadata": {},
     "output_type": "execute_result"
    }
   ],
   "source": [
    "gwas_data.shape"
   ]
  },
  {
   "cell_type": "code",
   "execution_count": 20,
   "id": "b4a906e9-c80a-47fc-9d73-5adb046f8b76",
   "metadata": {
    "execution": {
     "iopub.execute_input": "2022-08-27T04:17:18.308681Z",
     "iopub.status.busy": "2022-08-27T04:17:18.308346Z",
     "iopub.status.idle": "2022-08-27T04:17:18.345419Z",
     "shell.execute_reply": "2022-08-27T04:17:18.344606Z"
    },
    "papermill": {
     "duration": 0.075583,
     "end_time": "2022-08-27T04:17:18.347561",
     "exception": false,
     "start_time": "2022-08-27T04:17:18.271978",
     "status": "completed"
    },
    "tags": []
   },
   "outputs": [
    {
     "data": {
      "text/html": [
       "<div>\n",
       "<style scoped>\n",
       "    .dataframe tbody tr th:only-of-type {\n",
       "        vertical-align: middle;\n",
       "    }\n",
       "\n",
       "    .dataframe tbody tr th {\n",
       "        vertical-align: top;\n",
       "    }\n",
       "\n",
       "    .dataframe thead th {\n",
       "        text-align: right;\n",
       "    }\n",
       "</style>\n",
       "<table border=\"1\" class=\"dataframe\">\n",
       "  <thead>\n",
       "    <tr style=\"text-align: right;\">\n",
       "      <th></th>\n",
       "      <th>panel_variant_id</th>\n",
       "      <th>zscore</th>\n",
       "      <th>pvalue</th>\n",
       "    </tr>\n",
       "  </thead>\n",
       "  <tbody>\n",
       "    <tr>\n",
       "      <th>0</th>\n",
       "      <td>chr1_54490_G_A_b38</td>\n",
       "      <td>1.567452</td>\n",
       "      <td>0.117009</td>\n",
       "    </tr>\n",
       "    <tr>\n",
       "      <th>1</th>\n",
       "      <td>chr1_87021_T_C_b38</td>\n",
       "      <td>0.244372</td>\n",
       "      <td>0.806943</td>\n",
       "    </tr>\n",
       "    <tr>\n",
       "      <th>2</th>\n",
       "      <td>chr1_263722_C_G_b38</td>\n",
       "      <td>1.155239</td>\n",
       "      <td>0.247993</td>\n",
       "    </tr>\n",
       "    <tr>\n",
       "      <th>3</th>\n",
       "      <td>chr1_594402_C_T_b38</td>\n",
       "      <td>0.851234</td>\n",
       "      <td>0.394639</td>\n",
       "    </tr>\n",
       "    <tr>\n",
       "      <th>4</th>\n",
       "      <td>chr1_630555_C_T_b38</td>\n",
       "      <td>0.855129</td>\n",
       "      <td>0.392480</td>\n",
       "    </tr>\n",
       "  </tbody>\n",
       "</table>\n",
       "</div>"
      ],
      "text/plain": [
       "      panel_variant_id    zscore    pvalue\n",
       "0   chr1_54490_G_A_b38  1.567452  0.117009\n",
       "1   chr1_87021_T_C_b38  0.244372  0.806943\n",
       "2  chr1_263722_C_G_b38  1.155239  0.247993\n",
       "3  chr1_594402_C_T_b38  0.851234  0.394639\n",
       "4  chr1_630555_C_T_b38  0.855129  0.392480"
      ]
     },
     "execution_count": 20,
     "metadata": {},
     "output_type": "execute_result"
    }
   ],
   "source": [
    "gwas_data.head()"
   ]
  },
  {
   "cell_type": "code",
   "execution_count": 21,
   "id": "033c24fb-9c60-4ffd-929e-b0e6089820ae",
   "metadata": {
    "execution": {
     "iopub.execute_input": "2022-08-27T04:17:18.406295Z",
     "iopub.status.busy": "2022-08-27T04:17:18.406045Z",
     "iopub.status.idle": "2022-08-27T04:17:19.149076Z",
     "shell.execute_reply": "2022-08-27T04:17:19.148445Z"
    },
    "papermill": {
     "duration": 0.7732,
     "end_time": "2022-08-27T04:17:19.150601",
     "exception": false,
     "start_time": "2022-08-27T04:17:18.377401",
     "status": "completed"
    },
    "tags": []
   },
   "outputs": [
    {
     "data": {
      "text/plain": [
       "(8325729, 3)"
      ]
     },
     "execution_count": 21,
     "metadata": {},
     "output_type": "execute_result"
    }
   ],
   "source": [
    "gwas_data.dropna().shape"
   ]
  },
  {
   "cell_type": "code",
   "execution_count": 22,
   "id": "28232ce5-0afd-464e-9be3-64c3a68c2b25",
   "metadata": {
    "execution": {
     "iopub.execute_input": "2022-08-27T04:17:19.187852Z",
     "iopub.status.busy": "2022-08-27T04:17:19.187668Z",
     "iopub.status.idle": "2022-08-27T04:17:19.801978Z",
     "shell.execute_reply": "2022-08-27T04:17:19.801320Z"
    },
    "papermill": {
     "duration": 0.634705,
     "end_time": "2022-08-27T04:17:19.803754",
     "exception": false,
     "start_time": "2022-08-27T04:17:19.169049",
     "status": "completed"
    },
    "tags": []
   },
   "outputs": [],
   "source": [
    "# remove SNPs with no results\n",
    "gwas_data = gwas_data.dropna()"
   ]
  },
  {
   "cell_type": "code",
   "execution_count": 23,
   "id": "d9a6c31f-eedd-43e5-b762-5a9663be1b77",
   "metadata": {
    "execution": {
     "iopub.execute_input": "2022-08-27T04:17:19.841412Z",
     "iopub.status.busy": "2022-08-27T04:17:19.841214Z",
     "iopub.status.idle": "2022-08-27T04:17:19.857056Z",
     "shell.execute_reply": "2022-08-27T04:17:19.856683Z"
    },
    "papermill": {
     "duration": 0.035897,
     "end_time": "2022-08-27T04:17:19.858223",
     "exception": false,
     "start_time": "2022-08-27T04:17:19.822326",
     "status": "completed"
    },
    "tags": []
   },
   "outputs": [
    {
     "data": {
      "text/plain": [
       "(8325729, 3)"
      ]
     },
     "execution_count": 23,
     "metadata": {},
     "output_type": "execute_result"
    }
   ],
   "source": [
    "gwas_data.shape"
   ]
  },
  {
   "cell_type": "markdown",
   "id": "8da344de-2aa5-48a9-98ec-e8c3397ae7e6",
   "metadata": {
    "papermill": {
     "duration": 0.017538,
     "end_time": "2022-08-27T04:17:19.893603",
     "exception": false,
     "start_time": "2022-08-27T04:17:19.876065",
     "status": "completed"
    },
    "tags": []
   },
   "source": [
    "## Save GWAS variants"
   ]
  },
  {
   "cell_type": "code",
   "execution_count": 24,
   "id": "ac11fb33-ea3c-4d5c-a90b-0ceebdac43d3",
   "metadata": {
    "execution": {
     "iopub.execute_input": "2022-08-27T04:17:19.930332Z",
     "iopub.status.busy": "2022-08-27T04:17:19.930168Z",
     "iopub.status.idle": "2022-08-27T04:17:19.948082Z",
     "shell.execute_reply": "2022-08-27T04:17:19.947711Z"
    },
    "papermill": {
     "duration": 0.037448,
     "end_time": "2022-08-27T04:17:19.949262",
     "exception": false,
     "start_time": "2022-08-27T04:17:19.911814",
     "status": "completed"
    },
    "tags": []
   },
   "outputs": [
    {
     "data": {
      "text/html": [
       "<div>\n",
       "<style scoped>\n",
       "    .dataframe tbody tr th:only-of-type {\n",
       "        vertical-align: middle;\n",
       "    }\n",
       "\n",
       "    .dataframe tbody tr th {\n",
       "        vertical-align: top;\n",
       "    }\n",
       "\n",
       "    .dataframe thead th {\n",
       "        text-align: right;\n",
       "    }\n",
       "</style>\n",
       "<table border=\"1\" class=\"dataframe\">\n",
       "  <thead>\n",
       "    <tr style=\"text-align: right;\">\n",
       "      <th></th>\n",
       "      <th>panel_variant_id</th>\n",
       "      <th>zscore</th>\n",
       "      <th>pvalue</th>\n",
       "    </tr>\n",
       "  </thead>\n",
       "  <tbody>\n",
       "    <tr>\n",
       "      <th>0</th>\n",
       "      <td>chr1_54490_G_A_b38</td>\n",
       "      <td>1.567452</td>\n",
       "      <td>0.117009</td>\n",
       "    </tr>\n",
       "    <tr>\n",
       "      <th>1</th>\n",
       "      <td>chr1_87021_T_C_b38</td>\n",
       "      <td>0.244372</td>\n",
       "      <td>0.806943</td>\n",
       "    </tr>\n",
       "    <tr>\n",
       "      <th>2</th>\n",
       "      <td>chr1_263722_C_G_b38</td>\n",
       "      <td>1.155239</td>\n",
       "      <td>0.247993</td>\n",
       "    </tr>\n",
       "    <tr>\n",
       "      <th>3</th>\n",
       "      <td>chr1_594402_C_T_b38</td>\n",
       "      <td>0.851234</td>\n",
       "      <td>0.394639</td>\n",
       "    </tr>\n",
       "    <tr>\n",
       "      <th>4</th>\n",
       "      <td>chr1_630555_C_T_b38</td>\n",
       "      <td>0.855129</td>\n",
       "      <td>0.392480</td>\n",
       "    </tr>\n",
       "  </tbody>\n",
       "</table>\n",
       "</div>"
      ],
      "text/plain": [
       "      panel_variant_id    zscore    pvalue\n",
       "0   chr1_54490_G_A_b38  1.567452  0.117009\n",
       "1   chr1_87021_T_C_b38  0.244372  0.806943\n",
       "2  chr1_263722_C_G_b38  1.155239  0.247993\n",
       "3  chr1_594402_C_T_b38  0.851234  0.394639\n",
       "4  chr1_630555_C_T_b38  0.855129  0.392480"
      ]
     },
     "execution_count": 24,
     "metadata": {},
     "output_type": "execute_result"
    }
   ],
   "source": [
    "gwas_data.head()"
   ]
  },
  {
   "cell_type": "code",
   "execution_count": 25,
   "id": "5f34bb3d-761a-4860-a179-77ea5f5784ad",
   "metadata": {
    "execution": {
     "iopub.execute_input": "2022-08-27T04:17:19.987537Z",
     "iopub.status.busy": "2022-08-27T04:17:19.987371Z",
     "iopub.status.idle": "2022-08-27T04:17:23.901313Z",
     "shell.execute_reply": "2022-08-27T04:17:23.900677Z"
    },
    "papermill": {
     "duration": 3.935333,
     "end_time": "2022-08-27T04:17:23.903115",
     "exception": false,
     "start_time": "2022-08-27T04:17:19.967782",
     "status": "completed"
    },
    "tags": []
   },
   "outputs": [],
   "source": [
    "assert gwas_data[\"panel_variant_id\"].is_unique"
   ]
  },
  {
   "cell_type": "code",
   "execution_count": 26,
   "id": "d4f23b2f-01a3-4a45-a2b6-31b245b5778e",
   "metadata": {
    "execution": {
     "iopub.execute_input": "2022-08-27T04:17:23.942202Z",
     "iopub.status.busy": "2022-08-27T04:17:23.941997Z",
     "iopub.status.idle": "2022-08-27T04:17:26.255422Z",
     "shell.execute_reply": "2022-08-27T04:17:26.254979Z"
    },
    "papermill": {
     "duration": 2.334407,
     "end_time": "2022-08-27T04:17:26.256799",
     "exception": false,
     "start_time": "2022-08-27T04:17:23.922392",
     "status": "completed"
    },
    "tags": []
   },
   "outputs": [
    {
     "data": {
      "text/plain": [
       "['chr2_158278262_C_A_b38',\n",
       " 'chr8_4065743_A_C_b38',\n",
       " 'chr13_102464153_A_G_b38',\n",
       " 'chr14_44656818_T_C_b38',\n",
       " 'chr11_23216986_A_G_b38']"
      ]
     },
     "execution_count": 26,
     "metadata": {},
     "output_type": "execute_result"
    }
   ],
   "source": [
    "gwas_variants_ids_set = frozenset(gwas_data[\"panel_variant_id\"])\n",
    "list(gwas_variants_ids_set)[:5]"
   ]
  },
  {
   "cell_type": "code",
   "execution_count": 27,
   "id": "b4a441df-07d7-48dc-be36-cdb3f92be651",
   "metadata": {
    "execution": {
     "iopub.execute_input": "2022-08-27T04:17:26.296414Z",
     "iopub.status.busy": "2022-08-27T04:17:26.296229Z",
     "iopub.status.idle": "2022-08-27T04:17:29.492483Z",
     "shell.execute_reply": "2022-08-27T04:17:29.490796Z"
    },
    "papermill": {
     "duration": 3.219338,
     "end_time": "2022-08-27T04:17:29.496293",
     "exception": false,
     "start_time": "2022-08-27T04:17:26.276955",
     "status": "completed"
    },
    "tags": []
   },
   "outputs": [],
   "source": [
    "with open(OUTPUT_DIR_BASE / \"gwas_variant_ids.pkl\", \"wb\") as handle:\n",
    "    pickle.dump(gwas_variants_ids_set, handle, protocol=pickle.HIGHEST_PROTOCOL)"
   ]
  },
  {
   "cell_type": "markdown",
   "id": "abcc4b3d",
   "metadata": {
    "papermill": {
     "duration": 0.056599,
     "end_time": "2022-08-27T04:17:29.593190",
     "exception": false,
     "start_time": "2022-08-27T04:17:29.536591",
     "status": "completed"
    },
    "tags": []
   },
   "source": [
    "# TWAS"
   ]
  },
  {
   "cell_type": "markdown",
   "id": "2fbc7358-0563-4fc6-bc47-a0fbcc5cdfd4",
   "metadata": {
    "papermill": {
     "duration": 0.062585,
     "end_time": "2022-08-27T04:17:29.691044",
     "exception": false,
     "start_time": "2022-08-27T04:17:29.628459",
     "status": "completed"
    },
    "tags": []
   },
   "source": [
    "## Available tissues for eQTL model"
   ]
  },
  {
   "cell_type": "code",
   "execution_count": 28,
   "id": "f32c0a84-030a-436b-b597-852b6150d2ac",
   "metadata": {
    "execution": {
     "iopub.execute_input": "2022-08-27T04:17:29.786306Z",
     "iopub.status.busy": "2022-08-27T04:17:29.785889Z",
     "iopub.status.idle": "2022-08-27T04:17:29.852484Z",
     "shell.execute_reply": "2022-08-27T04:17:29.851392Z"
    },
    "papermill": {
     "duration": 0.129441,
     "end_time": "2022-08-27T04:17:29.855823",
     "exception": false,
     "start_time": "2022-08-27T04:17:29.726382",
     "status": "completed"
    },
    "tags": []
   },
   "outputs": [],
   "source": [
    "prediction_model_tissues = conf.PHENOMEXCAN[\"PREDICTION_MODELS\"][\n",
    "    f\"{EQTL_MODEL}_TISSUES\"\n",
    "].split(\" \")"
   ]
  },
  {
   "cell_type": "code",
   "execution_count": 29,
   "id": "0e760d0e-f23d-4590-abfb-811a43f7c237",
   "metadata": {
    "execution": {
     "iopub.execute_input": "2022-08-27T04:17:29.974952Z",
     "iopub.status.busy": "2022-08-27T04:17:29.974562Z",
     "iopub.status.idle": "2022-08-27T04:17:30.030141Z",
     "shell.execute_reply": "2022-08-27T04:17:30.028958Z"
    },
    "papermill": {
     "duration": 0.106743,
     "end_time": "2022-08-27T04:17:30.033755",
     "exception": false,
     "start_time": "2022-08-27T04:17:29.927012",
     "status": "completed"
    },
    "tags": []
   },
   "outputs": [
    {
     "data": {
      "text/plain": [
       "49"
      ]
     },
     "execution_count": 29,
     "metadata": {},
     "output_type": "execute_result"
    }
   ],
   "source": [
    "len(prediction_model_tissues)"
   ]
  },
  {
   "cell_type": "code",
   "execution_count": 30,
   "id": "fa4d942c-cd67-4b31-9491-585c887c0ee3",
   "metadata": {
    "execution": {
     "iopub.execute_input": "2022-08-27T04:17:30.126794Z",
     "iopub.status.busy": "2022-08-27T04:17:30.126442Z",
     "iopub.status.idle": "2022-08-27T04:17:30.504427Z",
     "shell.execute_reply": "2022-08-27T04:17:30.503249Z"
    },
    "papermill": {
     "duration": 0.422355,
     "end_time": "2022-08-27T04:17:30.508042",
     "exception": false,
     "start_time": "2022-08-27T04:17:30.085687",
     "status": "completed"
    },
    "tags": []
   },
   "outputs": [
    {
     "data": {
      "text/plain": [
       "['Whole_Blood',\n",
       " 'Brain_Hypothalamus',\n",
       " 'Brain_Amygdala',\n",
       " 'Brain_Nucleus_accumbens_basal_ganglia',\n",
       " 'Artery_Coronary']"
      ]
     },
     "execution_count": 30,
     "metadata": {},
     "output_type": "execute_result"
    }
   ],
   "source": [
    "prediction_model_tissues[:5]"
   ]
  },
  {
   "cell_type": "markdown",
   "id": "fab4814d-757c-4247-b5e4-891bc4863db7",
   "metadata": {
    "papermill": {
     "duration": 0.037505,
     "end_time": "2022-08-27T04:17:30.589709",
     "exception": false,
     "start_time": "2022-08-27T04:17:30.552204",
     "status": "completed"
    },
    "tags": []
   },
   "source": [
    "## S-MultiXcan results"
   ]
  },
  {
   "cell_type": "code",
   "execution_count": 31,
   "id": "2b73c11e-9aa2-410e-84b4-a70be34d02e4",
   "metadata": {
    "execution": {
     "iopub.execute_input": "2022-08-27T04:17:30.656139Z",
     "iopub.status.busy": "2022-08-27T04:17:30.655868Z",
     "iopub.status.idle": "2022-08-27T04:17:30.837201Z",
     "shell.execute_reply": "2022-08-27T04:17:30.836417Z"
    },
    "papermill": {
     "duration": 0.215759,
     "end_time": "2022-08-27T04:17:30.839634",
     "exception": false,
     "start_time": "2022-08-27T04:17:30.623875",
     "status": "completed"
    },
    "tags": []
   },
   "outputs": [],
   "source": [
    "smultixcan_results = pd.read_csv(\n",
    "    SMULTIXCAN_FILE, sep=\"\\t\", usecols=[\"gene\", \"gene_name\", \"pvalue\", \"n\", \"n_indep\"]\n",
    ")"
   ]
  },
  {
   "cell_type": "code",
   "execution_count": 32,
   "id": "8b5abebd-baab-4188-9e3d-655ebbe32401",
   "metadata": {
    "execution": {
     "iopub.execute_input": "2022-08-27T04:17:30.900815Z",
     "iopub.status.busy": "2022-08-27T04:17:30.900529Z",
     "iopub.status.idle": "2022-08-27T04:17:30.922826Z",
     "shell.execute_reply": "2022-08-27T04:17:30.922288Z"
    },
    "papermill": {
     "duration": 0.053538,
     "end_time": "2022-08-27T04:17:30.924493",
     "exception": false,
     "start_time": "2022-08-27T04:17:30.870955",
     "status": "completed"
    },
    "tags": []
   },
   "outputs": [
    {
     "data": {
      "text/plain": [
       "(22317, 5)"
      ]
     },
     "execution_count": 32,
     "metadata": {},
     "output_type": "execute_result"
    }
   ],
   "source": [
    "smultixcan_results.shape"
   ]
  },
  {
   "cell_type": "code",
   "execution_count": 33,
   "id": "c65e233f-9ef6-4883-9386-7abf1d6d1cbd",
   "metadata": {
    "execution": {
     "iopub.execute_input": "2022-08-27T04:17:30.972372Z",
     "iopub.status.busy": "2022-08-27T04:17:30.972166Z",
     "iopub.status.idle": "2022-08-27T04:17:30.993196Z",
     "shell.execute_reply": "2022-08-27T04:17:30.992739Z"
    },
    "papermill": {
     "duration": 0.046344,
     "end_time": "2022-08-27T04:17:30.994769",
     "exception": false,
     "start_time": "2022-08-27T04:17:30.948425",
     "status": "completed"
    },
    "tags": []
   },
   "outputs": [],
   "source": [
    "smultixcan_results = smultixcan_results.dropna()"
   ]
  },
  {
   "cell_type": "code",
   "execution_count": 34,
   "id": "57d2d311-4a42-4725-9e37-b124ed13ad33",
   "metadata": {
    "execution": {
     "iopub.execute_input": "2022-08-27T04:17:31.037391Z",
     "iopub.status.busy": "2022-08-27T04:17:31.037208Z",
     "iopub.status.idle": "2022-08-27T04:17:31.053559Z",
     "shell.execute_reply": "2022-08-27T04:17:31.052938Z"
    },
    "papermill": {
     "duration": 0.038753,
     "end_time": "2022-08-27T04:17:31.054967",
     "exception": false,
     "start_time": "2022-08-27T04:17:31.016214",
     "status": "completed"
    },
    "tags": []
   },
   "outputs": [
    {
     "data": {
      "text/plain": [
       "(22314, 5)"
      ]
     },
     "execution_count": 34,
     "metadata": {},
     "output_type": "execute_result"
    }
   ],
   "source": [
    "smultixcan_results.shape"
   ]
  },
  {
   "cell_type": "code",
   "execution_count": 35,
   "id": "a36b5b59-f4b6-45bf-b241-ffc9671b357f",
   "metadata": {
    "execution": {
     "iopub.execute_input": "2022-08-27T04:17:31.098787Z",
     "iopub.status.busy": "2022-08-27T04:17:31.098616Z",
     "iopub.status.idle": "2022-08-27T04:17:31.504645Z",
     "shell.execute_reply": "2022-08-27T04:17:31.504176Z"
    },
    "papermill": {
     "duration": 0.428668,
     "end_time": "2022-08-27T04:17:31.506160",
     "exception": false,
     "start_time": "2022-08-27T04:17:31.077492",
     "status": "completed"
    },
    "tags": []
   },
   "outputs": [],
   "source": [
    "smultixcan_results = smultixcan_results.assign(\n",
    "    gene_id=smultixcan_results[\"gene\"].apply(lambda g: g.split(\".\")[0])\n",
    ")"
   ]
  },
  {
   "cell_type": "code",
   "execution_count": 36,
   "id": "c49f62a9-a01a-44af-87da-47d195b0ef7e",
   "metadata": {
    "execution": {
     "iopub.execute_input": "2022-08-27T04:17:31.544772Z",
     "iopub.status.busy": "2022-08-27T04:17:31.544586Z",
     "iopub.status.idle": "2022-08-27T04:17:31.564804Z",
     "shell.execute_reply": "2022-08-27T04:17:31.564391Z"
    },
    "papermill": {
     "duration": 0.041263,
     "end_time": "2022-08-27T04:17:31.566032",
     "exception": false,
     "start_time": "2022-08-27T04:17:31.524769",
     "status": "completed"
    },
    "tags": []
   },
   "outputs": [
    {
     "data": {
      "text/html": [
       "<div>\n",
       "<style scoped>\n",
       "    .dataframe tbody tr th:only-of-type {\n",
       "        vertical-align: middle;\n",
       "    }\n",
       "\n",
       "    .dataframe tbody tr th {\n",
       "        vertical-align: top;\n",
       "    }\n",
       "\n",
       "    .dataframe thead th {\n",
       "        text-align: right;\n",
       "    }\n",
       "</style>\n",
       "<table border=\"1\" class=\"dataframe\">\n",
       "  <thead>\n",
       "    <tr style=\"text-align: right;\">\n",
       "      <th></th>\n",
       "      <th>gene</th>\n",
       "      <th>gene_name</th>\n",
       "      <th>pvalue</th>\n",
       "      <th>n</th>\n",
       "      <th>n_indep</th>\n",
       "      <th>gene_id</th>\n",
       "    </tr>\n",
       "  </thead>\n",
       "  <tbody>\n",
       "    <tr>\n",
       "      <th>0</th>\n",
       "      <td>ENSG00000131941.7</td>\n",
       "      <td>RHPN2</td>\n",
       "      <td>0.000040</td>\n",
       "      <td>48.0</td>\n",
       "      <td>3.0</td>\n",
       "      <td>ENSG00000131941</td>\n",
       "    </tr>\n",
       "    <tr>\n",
       "      <th>1</th>\n",
       "      <td>ENSG00000076650.6</td>\n",
       "      <td>GPATCH1</td>\n",
       "      <td>0.000078</td>\n",
       "      <td>40.0</td>\n",
       "      <td>3.0</td>\n",
       "      <td>ENSG00000076650</td>\n",
       "    </tr>\n",
       "    <tr>\n",
       "      <th>2</th>\n",
       "      <td>ENSG00000100906.10</td>\n",
       "      <td>NFKBIA</td>\n",
       "      <td>0.000096</td>\n",
       "      <td>1.0</td>\n",
       "      <td>1.0</td>\n",
       "      <td>ENSG00000100906</td>\n",
       "    </tr>\n",
       "    <tr>\n",
       "      <th>3</th>\n",
       "      <td>ENSG00000136319.11</td>\n",
       "      <td>TTC5</td>\n",
       "      <td>0.000109</td>\n",
       "      <td>47.0</td>\n",
       "      <td>5.0</td>\n",
       "      <td>ENSG00000136319</td>\n",
       "    </tr>\n",
       "    <tr>\n",
       "      <th>4</th>\n",
       "      <td>ENSG00000152990.13</td>\n",
       "      <td>ADGRA3</td>\n",
       "      <td>0.000135</td>\n",
       "      <td>41.0</td>\n",
       "      <td>12.0</td>\n",
       "      <td>ENSG00000152990</td>\n",
       "    </tr>\n",
       "  </tbody>\n",
       "</table>\n",
       "</div>"
      ],
      "text/plain": [
       "                 gene gene_name    pvalue     n  n_indep          gene_id\n",
       "0   ENSG00000131941.7     RHPN2  0.000040  48.0      3.0  ENSG00000131941\n",
       "1   ENSG00000076650.6   GPATCH1  0.000078  40.0      3.0  ENSG00000076650\n",
       "2  ENSG00000100906.10    NFKBIA  0.000096   1.0      1.0  ENSG00000100906\n",
       "3  ENSG00000136319.11      TTC5  0.000109  47.0      5.0  ENSG00000136319\n",
       "4  ENSG00000152990.13    ADGRA3  0.000135  41.0     12.0  ENSG00000152990"
      ]
     },
     "execution_count": 36,
     "metadata": {},
     "output_type": "execute_result"
    }
   ],
   "source": [
    "smultixcan_results.head()"
   ]
  },
  {
   "cell_type": "code",
   "execution_count": 37,
   "id": "9c4c023c-86d6-4c4b-8d57-c2b6b93aaf84",
   "metadata": {
    "execution": {
     "iopub.execute_input": "2022-08-27T04:17:31.604228Z",
     "iopub.status.busy": "2022-08-27T04:17:31.604064Z",
     "iopub.status.idle": "2022-08-27T04:17:31.619836Z",
     "shell.execute_reply": "2022-08-27T04:17:31.619474Z"
    },
    "papermill": {
     "duration": 0.036015,
     "end_time": "2022-08-27T04:17:31.621142",
     "exception": false,
     "start_time": "2022-08-27T04:17:31.585127",
     "status": "completed"
    },
    "tags": []
   },
   "outputs": [],
   "source": [
    "assert smultixcan_results[\"gene_id\"].is_unique"
   ]
  },
  {
   "cell_type": "markdown",
   "id": "1f9939f1-4200-40d9-a8bf-8e4fd68bee48",
   "metadata": {
    "papermill": {
     "duration": 0.018751,
     "end_time": "2022-08-27T04:17:31.660204",
     "exception": false,
     "start_time": "2022-08-27T04:17:31.641453",
     "status": "completed"
    },
    "tags": []
   },
   "source": [
    "### Get common genes with MultiPLIER"
   ]
  },
  {
   "cell_type": "code",
   "execution_count": 38,
   "id": "c820e6cf-6350-45af-b49a-0abd94f570ff",
   "metadata": {
    "execution": {
     "iopub.execute_input": "2022-08-27T04:17:31.698399Z",
     "iopub.status.busy": "2022-08-27T04:17:31.698238Z",
     "iopub.status.idle": "2022-08-27T04:17:31.716905Z",
     "shell.execute_reply": "2022-08-27T04:17:31.716460Z"
    },
    "papermill": {
     "duration": 0.039631,
     "end_time": "2022-08-27T04:17:31.718244",
     "exception": false,
     "start_time": "2022-08-27T04:17:31.678613",
     "status": "completed"
    },
    "tags": []
   },
   "outputs": [],
   "source": [
    "common_genes = set(multiplier_z_genes).intersection(\n",
    "    set(smultixcan_results[\"gene_name\"])\n",
    ")"
   ]
  },
  {
   "cell_type": "code",
   "execution_count": 39,
   "id": "0a7328f9-96c7-4ac6-a9a6-ae4fa121a4cd",
   "metadata": {
    "execution": {
     "iopub.execute_input": "2022-08-27T04:17:31.755480Z",
     "iopub.status.busy": "2022-08-27T04:17:31.755309Z",
     "iopub.status.idle": "2022-08-27T04:17:31.769890Z",
     "shell.execute_reply": "2022-08-27T04:17:31.769305Z"
    },
    "papermill": {
     "duration": 0.034751,
     "end_time": "2022-08-27T04:17:31.771170",
     "exception": false,
     "start_time": "2022-08-27T04:17:31.736419",
     "status": "completed"
    },
    "tags": []
   },
   "outputs": [
    {
     "data": {
      "text/plain": [
       "6444"
      ]
     },
     "execution_count": 39,
     "metadata": {},
     "output_type": "execute_result"
    }
   ],
   "source": [
    "len(common_genes)"
   ]
  },
  {
   "cell_type": "code",
   "execution_count": 40,
   "id": "5b08d362-44c8-4db2-9258-670e2e2a9cc0",
   "metadata": {
    "execution": {
     "iopub.execute_input": "2022-08-27T04:17:31.808571Z",
     "iopub.status.busy": "2022-08-27T04:17:31.808399Z",
     "iopub.status.idle": "2022-08-27T04:17:31.825307Z",
     "shell.execute_reply": "2022-08-27T04:17:31.824778Z"
    },
    "papermill": {
     "duration": 0.037478,
     "end_time": "2022-08-27T04:17:31.826631",
     "exception": false,
     "start_time": "2022-08-27T04:17:31.789153",
     "status": "completed"
    },
    "tags": []
   },
   "outputs": [
    {
     "data": {
      "text/plain": [
       "['A2M', 'AAAS', 'AANAT', 'AARS', 'AARS2']"
      ]
     },
     "execution_count": 40,
     "metadata": {},
     "output_type": "execute_result"
    }
   ],
   "source": [
    "sorted(list(common_genes))[:5]"
   ]
  },
  {
   "cell_type": "markdown",
   "id": "7f51338b-8a75-42c3-a7e5-a0961cefb663",
   "metadata": {
    "papermill": {
     "duration": 0.018828,
     "end_time": "2022-08-27T04:17:31.864324",
     "exception": false,
     "start_time": "2022-08-27T04:17:31.845496",
     "status": "completed"
    },
    "tags": []
   },
   "source": [
    "## Genes info"
   ]
  },
  {
   "cell_type": "code",
   "execution_count": 41,
   "id": "bb932812",
   "metadata": {
    "execution": {
     "iopub.execute_input": "2022-08-27T04:17:31.901811Z",
     "iopub.status.busy": "2022-08-27T04:17:31.901650Z",
     "iopub.status.idle": "2022-08-27T04:17:31.922972Z",
     "shell.execute_reply": "2022-08-27T04:17:31.922304Z"
    },
    "papermill": {
     "duration": 0.041567,
     "end_time": "2022-08-27T04:17:31.924254",
     "exception": false,
     "start_time": "2022-08-27T04:17:31.882687",
     "status": "completed"
    },
    "tags": []
   },
   "outputs": [],
   "source": [
    "multiplier_gene_obj = {\n",
    "    gene_name: Gene(name=gene_name)\n",
    "    for gene_name in common_genes\n",
    "    if gene_name in Gene.GENE_NAME_TO_ID_MAP\n",
    "}"
   ]
  },
  {
   "cell_type": "code",
   "execution_count": 42,
   "id": "cb9d7a45-2b7d-4d10-80dc-212a625b5ae7",
   "metadata": {
    "execution": {
     "iopub.execute_input": "2022-08-27T04:17:31.962185Z",
     "iopub.status.busy": "2022-08-27T04:17:31.962026Z",
     "iopub.status.idle": "2022-08-27T04:17:31.975227Z",
     "shell.execute_reply": "2022-08-27T04:17:31.974742Z"
    },
    "papermill": {
     "duration": 0.033597,
     "end_time": "2022-08-27T04:17:31.976507",
     "exception": false,
     "start_time": "2022-08-27T04:17:31.942910",
     "status": "completed"
    },
    "tags": []
   },
   "outputs": [],
   "source": [
    "# delete common_genes, from now on, genes_info should be used for common genes\n",
    "del common_genes"
   ]
  },
  {
   "cell_type": "code",
   "execution_count": 43,
   "id": "39533214",
   "metadata": {
    "execution": {
     "iopub.execute_input": "2022-08-27T04:17:32.015214Z",
     "iopub.status.busy": "2022-08-27T04:17:32.015055Z",
     "iopub.status.idle": "2022-08-27T04:17:32.031066Z",
     "shell.execute_reply": "2022-08-27T04:17:32.030680Z"
    },
    "papermill": {
     "duration": 0.036933,
     "end_time": "2022-08-27T04:17:32.032294",
     "exception": false,
     "start_time": "2022-08-27T04:17:31.995361",
     "status": "completed"
    },
    "tags": []
   },
   "outputs": [
    {
     "data": {
      "text/plain": [
       "6444"
      ]
     },
     "execution_count": 43,
     "metadata": {},
     "output_type": "execute_result"
    }
   ],
   "source": [
    "len(multiplier_gene_obj)"
   ]
  },
  {
   "cell_type": "code",
   "execution_count": 44,
   "id": "9a5d0b84",
   "metadata": {
    "execution": {
     "iopub.execute_input": "2022-08-27T04:17:32.073758Z",
     "iopub.status.busy": "2022-08-27T04:17:32.073589Z",
     "iopub.status.idle": "2022-08-27T04:17:32.086942Z",
     "shell.execute_reply": "2022-08-27T04:17:32.086573Z"
    },
    "papermill": {
     "duration": 0.03492,
     "end_time": "2022-08-27T04:17:32.088275",
     "exception": false,
     "start_time": "2022-08-27T04:17:32.053355",
     "status": "completed"
    },
    "tags": []
   },
   "outputs": [],
   "source": [
    "assert multiplier_gene_obj[\"GAS6\"].ensembl_id == \"ENSG00000183087\""
   ]
  },
  {
   "cell_type": "code",
   "execution_count": 45,
   "id": "e3ffabc7",
   "metadata": {
    "execution": {
     "iopub.execute_input": "2022-08-27T04:17:32.126463Z",
     "iopub.status.busy": "2022-08-27T04:17:32.126306Z",
     "iopub.status.idle": "2022-08-27T04:17:34.229095Z",
     "shell.execute_reply": "2022-08-27T04:17:34.228593Z"
    },
    "papermill": {
     "duration": 2.123398,
     "end_time": "2022-08-27T04:17:34.230731",
     "exception": false,
     "start_time": "2022-08-27T04:17:32.107333",
     "status": "completed"
    },
    "tags": []
   },
   "outputs": [],
   "source": [
    "_gene_obj = list(multiplier_gene_obj.values())\n",
    "\n",
    "genes_info = pd.DataFrame(\n",
    "    {\n",
    "        \"name\": [g.name for g in _gene_obj],\n",
    "        \"id\": [g.ensembl_id for g in _gene_obj],\n",
    "        \"chr\": [g.chromosome for g in _gene_obj],\n",
    "        \"band\": [g.band for g in _gene_obj],\n",
    "        \"start_position\": [g.get_attribute(\"start_position\") for g in _gene_obj],\n",
    "        \"end_position\": [g.get_attribute(\"end_position\") for g in _gene_obj],\n",
    "    }\n",
    ")"
   ]
  },
  {
   "cell_type": "code",
   "execution_count": 46,
   "id": "00475e72-1cfc-485f-8b4e-1d9cce695f58",
   "metadata": {
    "execution": {
     "iopub.execute_input": "2022-08-27T04:17:34.270203Z",
     "iopub.status.busy": "2022-08-27T04:17:34.270005Z",
     "iopub.status.idle": "2022-08-27T04:17:34.832360Z",
     "shell.execute_reply": "2022-08-27T04:17:34.831837Z"
    },
    "papermill": {
     "duration": 0.583499,
     "end_time": "2022-08-27T04:17:34.834096",
     "exception": false,
     "start_time": "2022-08-27T04:17:34.250597",
     "status": "completed"
    },
    "tags": []
   },
   "outputs": [],
   "source": [
    "genes_info = genes_info.assign(\n",
    "    gene_length=genes_info.apply(\n",
    "        lambda x: x[\"end_position\"] - x[\"start_position\"], axis=1\n",
    "    )\n",
    ")"
   ]
  },
  {
   "cell_type": "code",
   "execution_count": 47,
   "id": "3af1a166-08a0-4333-bc09-b8bc762aa7ef",
   "metadata": {
    "execution": {
     "iopub.execute_input": "2022-08-27T04:17:34.874175Z",
     "iopub.status.busy": "2022-08-27T04:17:34.873986Z",
     "iopub.status.idle": "2022-08-27T04:17:34.890449Z",
     "shell.execute_reply": "2022-08-27T04:17:34.889937Z"
    },
    "papermill": {
     "duration": 0.037767,
     "end_time": "2022-08-27T04:17:34.891638",
     "exception": false,
     "start_time": "2022-08-27T04:17:34.853871",
     "status": "completed"
    },
    "tags": []
   },
   "outputs": [
    {
     "data": {
      "text/plain": [
       "name               object\n",
       "id                 object\n",
       "chr                object\n",
       "band               object\n",
       "start_position    float64\n",
       "end_position      float64\n",
       "gene_length       float64\n",
       "dtype: object"
      ]
     },
     "execution_count": 47,
     "metadata": {},
     "output_type": "execute_result"
    }
   ],
   "source": [
    "genes_info.dtypes"
   ]
  },
  {
   "cell_type": "code",
   "execution_count": 48,
   "id": "08a23f6f-87f6-4072-88c8-010b90a411cd",
   "metadata": {
    "execution": {
     "iopub.execute_input": "2022-08-27T04:17:34.929505Z",
     "iopub.status.busy": "2022-08-27T04:17:34.929333Z",
     "iopub.status.idle": "2022-08-27T04:17:34.950324Z",
     "shell.execute_reply": "2022-08-27T04:17:34.949953Z"
    },
    "papermill": {
     "duration": 0.041264,
     "end_time": "2022-08-27T04:17:34.951525",
     "exception": false,
     "start_time": "2022-08-27T04:17:34.910261",
     "status": "completed"
    },
    "tags": []
   },
   "outputs": [
    {
     "data": {
      "text/html": [
       "<div>\n",
       "<style scoped>\n",
       "    .dataframe tbody tr th:only-of-type {\n",
       "        vertical-align: middle;\n",
       "    }\n",
       "\n",
       "    .dataframe tbody tr th {\n",
       "        vertical-align: top;\n",
       "    }\n",
       "\n",
       "    .dataframe thead th {\n",
       "        text-align: right;\n",
       "    }\n",
       "</style>\n",
       "<table border=\"1\" class=\"dataframe\">\n",
       "  <thead>\n",
       "    <tr style=\"text-align: right;\">\n",
       "      <th></th>\n",
       "      <th>name</th>\n",
       "      <th>id</th>\n",
       "      <th>chr</th>\n",
       "      <th>band</th>\n",
       "      <th>start_position</th>\n",
       "      <th>end_position</th>\n",
       "      <th>gene_length</th>\n",
       "    </tr>\n",
       "  </thead>\n",
       "  <tbody>\n",
       "    <tr>\n",
       "      <th>3158</th>\n",
       "      <td>TMEM133</td>\n",
       "      <td>ENSG00000170647</td>\n",
       "      <td>None</td>\n",
       "      <td>None</td>\n",
       "      <td>NaN</td>\n",
       "      <td>NaN</td>\n",
       "      <td>NaN</td>\n",
       "    </tr>\n",
       "    <tr>\n",
       "      <th>5316</th>\n",
       "      <td>TBCE</td>\n",
       "      <td>ENSG00000116957</td>\n",
       "      <td>None</td>\n",
       "      <td>None</td>\n",
       "      <td>NaN</td>\n",
       "      <td>NaN</td>\n",
       "      <td>NaN</td>\n",
       "    </tr>\n",
       "  </tbody>\n",
       "</table>\n",
       "</div>"
      ],
      "text/plain": [
       "         name               id   chr  band  start_position  end_position  \\\n",
       "3158  TMEM133  ENSG00000170647  None  None             NaN           NaN   \n",
       "5316     TBCE  ENSG00000116957  None  None             NaN           NaN   \n",
       "\n",
       "      gene_length  \n",
       "3158          NaN  \n",
       "5316          NaN  "
      ]
     },
     "metadata": {},
     "output_type": "display_data"
    }
   ],
   "source": [
    "_tmp = genes_info[genes_info.isna().any(axis=1)]\n",
    "display(_tmp)\n",
    "assert _tmp.shape[0] < 5"
   ]
  },
  {
   "cell_type": "code",
   "execution_count": 49,
   "id": "87c010f0-8ad9-4bf0-b12d-02f37a93853a",
   "metadata": {
    "execution": {
     "iopub.execute_input": "2022-08-27T04:17:34.990883Z",
     "iopub.status.busy": "2022-08-27T04:17:34.990723Z",
     "iopub.status.idle": "2022-08-27T04:17:35.006063Z",
     "shell.execute_reply": "2022-08-27T04:17:35.005621Z"
    },
    "papermill": {
     "duration": 0.03644,
     "end_time": "2022-08-27T04:17:35.007380",
     "exception": false,
     "start_time": "2022-08-27T04:17:34.970940",
     "status": "completed"
    },
    "tags": []
   },
   "outputs": [],
   "source": [
    "genes_info = genes_info.dropna()"
   ]
  },
  {
   "cell_type": "code",
   "execution_count": 50,
   "id": "61833f43-3a92-47e9-bca3-e05b6673c7d9",
   "metadata": {
    "execution": {
     "iopub.execute_input": "2022-08-27T04:17:35.047769Z",
     "iopub.status.busy": "2022-08-27T04:17:35.047607Z",
     "iopub.status.idle": "2022-08-27T04:17:35.523884Z",
     "shell.execute_reply": "2022-08-27T04:17:35.523373Z"
    },
    "papermill": {
     "duration": 0.49818,
     "end_time": "2022-08-27T04:17:35.525179",
     "exception": false,
     "start_time": "2022-08-27T04:17:35.026999",
     "status": "completed"
    },
    "tags": []
   },
   "outputs": [],
   "source": [
    "genes_info[\"chr\"] = genes_info[\"chr\"].apply(pd.to_numeric, downcast=\"integer\")\n",
    "genes_info[\"start_position\"] = genes_info[\"start_position\"].astype(int)\n",
    "genes_info[\"end_position\"] = genes_info[\"end_position\"].astype(int)\n",
    "genes_info[\"gene_length\"] = genes_info[\"gene_length\"].astype(int)"
   ]
  },
  {
   "cell_type": "code",
   "execution_count": 51,
   "id": "e4b9ae23-3edb-41a4-97aa-80cc7db6d393",
   "metadata": {
    "execution": {
     "iopub.execute_input": "2022-08-27T04:17:35.564023Z",
     "iopub.status.busy": "2022-08-27T04:17:35.563863Z",
     "iopub.status.idle": "2022-08-27T04:17:35.578820Z",
     "shell.execute_reply": "2022-08-27T04:17:35.578449Z"
    },
    "papermill": {
     "duration": 0.036001,
     "end_time": "2022-08-27T04:17:35.579974",
     "exception": false,
     "start_time": "2022-08-27T04:17:35.543973",
     "status": "completed"
    },
    "tags": []
   },
   "outputs": [
    {
     "data": {
      "text/plain": [
       "name              object\n",
       "id                object\n",
       "chr                int64\n",
       "band              object\n",
       "start_position     int64\n",
       "end_position       int64\n",
       "gene_length        int64\n",
       "dtype: object"
      ]
     },
     "execution_count": 51,
     "metadata": {},
     "output_type": "execute_result"
    }
   ],
   "source": [
    "genes_info.dtypes"
   ]
  },
  {
   "cell_type": "code",
   "execution_count": 52,
   "id": "09d6320a-b1c4-4200-a23e-184bc4be69c7",
   "metadata": {
    "execution": {
     "iopub.execute_input": "2022-08-27T04:17:35.618916Z",
     "iopub.status.busy": "2022-08-27T04:17:35.618757Z",
     "iopub.status.idle": "2022-08-27T04:17:35.632601Z",
     "shell.execute_reply": "2022-08-27T04:17:35.631969Z"
    },
    "papermill": {
     "duration": 0.035043,
     "end_time": "2022-08-27T04:17:35.633871",
     "exception": false,
     "start_time": "2022-08-27T04:17:35.598828",
     "status": "completed"
    },
    "tags": []
   },
   "outputs": [],
   "source": [
    "assert genes_info[\"name\"].is_unique"
   ]
  },
  {
   "cell_type": "code",
   "execution_count": 53,
   "id": "009d11e4-f8cb-4a81-823d-c7f10b906d3b",
   "metadata": {
    "execution": {
     "iopub.execute_input": "2022-08-27T04:17:35.672839Z",
     "iopub.status.busy": "2022-08-27T04:17:35.672680Z",
     "iopub.status.idle": "2022-08-27T04:17:35.686914Z",
     "shell.execute_reply": "2022-08-27T04:17:35.686414Z"
    },
    "papermill": {
     "duration": 0.035055,
     "end_time": "2022-08-27T04:17:35.688213",
     "exception": false,
     "start_time": "2022-08-27T04:17:35.653158",
     "status": "completed"
    },
    "tags": []
   },
   "outputs": [],
   "source": [
    "assert genes_info[\"id\"].is_unique"
   ]
  },
  {
   "cell_type": "code",
   "execution_count": 54,
   "id": "e23519b8",
   "metadata": {
    "execution": {
     "iopub.execute_input": "2022-08-27T04:17:35.726642Z",
     "iopub.status.busy": "2022-08-27T04:17:35.726482Z",
     "iopub.status.idle": "2022-08-27T04:17:35.740505Z",
     "shell.execute_reply": "2022-08-27T04:17:35.739926Z"
    },
    "papermill": {
     "duration": 0.034785,
     "end_time": "2022-08-27T04:17:35.741772",
     "exception": false,
     "start_time": "2022-08-27T04:17:35.706987",
     "status": "completed"
    },
    "tags": []
   },
   "outputs": [
    {
     "data": {
      "text/plain": [
       "(6442, 7)"
      ]
     },
     "execution_count": 54,
     "metadata": {},
     "output_type": "execute_result"
    }
   ],
   "source": [
    "genes_info.shape"
   ]
  },
  {
   "cell_type": "code",
   "execution_count": 55,
   "id": "0d71881c",
   "metadata": {
    "execution": {
     "iopub.execute_input": "2022-08-27T04:17:35.781328Z",
     "iopub.status.busy": "2022-08-27T04:17:35.781155Z",
     "iopub.status.idle": "2022-08-27T04:17:35.799193Z",
     "shell.execute_reply": "2022-08-27T04:17:35.798506Z"
    },
    "papermill": {
     "duration": 0.039152,
     "end_time": "2022-08-27T04:17:35.800521",
     "exception": false,
     "start_time": "2022-08-27T04:17:35.761369",
     "status": "completed"
    },
    "tags": []
   },
   "outputs": [
    {
     "data": {
      "text/html": [
       "<div>\n",
       "<style scoped>\n",
       "    .dataframe tbody tr th:only-of-type {\n",
       "        vertical-align: middle;\n",
       "    }\n",
       "\n",
       "    .dataframe tbody tr th {\n",
       "        vertical-align: top;\n",
       "    }\n",
       "\n",
       "    .dataframe thead th {\n",
       "        text-align: right;\n",
       "    }\n",
       "</style>\n",
       "<table border=\"1\" class=\"dataframe\">\n",
       "  <thead>\n",
       "    <tr style=\"text-align: right;\">\n",
       "      <th></th>\n",
       "      <th>name</th>\n",
       "      <th>id</th>\n",
       "      <th>chr</th>\n",
       "      <th>band</th>\n",
       "      <th>start_position</th>\n",
       "      <th>end_position</th>\n",
       "      <th>gene_length</th>\n",
       "    </tr>\n",
       "  </thead>\n",
       "  <tbody>\n",
       "    <tr>\n",
       "      <th>0</th>\n",
       "      <td>SNAPC3</td>\n",
       "      <td>ENSG00000164975</td>\n",
       "      <td>9</td>\n",
       "      <td>9p22.3</td>\n",
       "      <td>15422704</td>\n",
       "      <td>15465953</td>\n",
       "      <td>43249</td>\n",
       "    </tr>\n",
       "    <tr>\n",
       "      <th>1</th>\n",
       "      <td>SEC13</td>\n",
       "      <td>ENSG00000157020</td>\n",
       "      <td>3</td>\n",
       "      <td>3p25.3</td>\n",
       "      <td>10293131</td>\n",
       "      <td>10321112</td>\n",
       "      <td>27981</td>\n",
       "    </tr>\n",
       "    <tr>\n",
       "      <th>2</th>\n",
       "      <td>PTH2R</td>\n",
       "      <td>ENSG00000144407</td>\n",
       "      <td>2</td>\n",
       "      <td>2q34</td>\n",
       "      <td>208359714</td>\n",
       "      <td>208854503</td>\n",
       "      <td>494789</td>\n",
       "    </tr>\n",
       "    <tr>\n",
       "      <th>3</th>\n",
       "      <td>MDC1</td>\n",
       "      <td>ENSG00000137337</td>\n",
       "      <td>6</td>\n",
       "      <td>6p21.33</td>\n",
       "      <td>30699807</td>\n",
       "      <td>30717447</td>\n",
       "      <td>17640</td>\n",
       "    </tr>\n",
       "    <tr>\n",
       "      <th>4</th>\n",
       "      <td>TNFRSF6B</td>\n",
       "      <td>ENSG00000243509</td>\n",
       "      <td>20</td>\n",
       "      <td>20q13.33</td>\n",
       "      <td>63696652</td>\n",
       "      <td>63698684</td>\n",
       "      <td>2032</td>\n",
       "    </tr>\n",
       "  </tbody>\n",
       "</table>\n",
       "</div>"
      ],
      "text/plain": [
       "       name               id  chr      band  start_position  end_position  \\\n",
       "0    SNAPC3  ENSG00000164975    9    9p22.3        15422704      15465953   \n",
       "1     SEC13  ENSG00000157020    3    3p25.3        10293131      10321112   \n",
       "2     PTH2R  ENSG00000144407    2      2q34       208359714     208854503   \n",
       "3      MDC1  ENSG00000137337    6   6p21.33        30699807      30717447   \n",
       "4  TNFRSF6B  ENSG00000243509   20  20q13.33        63696652      63698684   \n",
       "\n",
       "   gene_length  \n",
       "0        43249  \n",
       "1        27981  \n",
       "2       494789  \n",
       "3        17640  \n",
       "4         2032  "
      ]
     },
     "execution_count": 55,
     "metadata": {},
     "output_type": "execute_result"
    }
   ],
   "source": [
    "genes_info.head()"
   ]
  },
  {
   "cell_type": "code",
   "execution_count": 56,
   "id": "eb968287-d9cf-40f6-a93e-6b322b844404",
   "metadata": {
    "execution": {
     "iopub.execute_input": "2022-08-27T04:17:35.840239Z",
     "iopub.status.busy": "2022-08-27T04:17:35.840081Z",
     "iopub.status.idle": "2022-08-27T04:17:35.861208Z",
     "shell.execute_reply": "2022-08-27T04:17:35.860809Z"
    },
    "papermill": {
     "duration": 0.042704,
     "end_time": "2022-08-27T04:17:35.862500",
     "exception": false,
     "start_time": "2022-08-27T04:17:35.819796",
     "status": "completed"
    },
    "tags": []
   },
   "outputs": [
    {
     "data": {
      "text/html": [
       "<div>\n",
       "<style scoped>\n",
       "    .dataframe tbody tr th:only-of-type {\n",
       "        vertical-align: middle;\n",
       "    }\n",
       "\n",
       "    .dataframe tbody tr th {\n",
       "        vertical-align: top;\n",
       "    }\n",
       "\n",
       "    .dataframe thead th {\n",
       "        text-align: right;\n",
       "    }\n",
       "</style>\n",
       "<table border=\"1\" class=\"dataframe\">\n",
       "  <thead>\n",
       "    <tr style=\"text-align: right;\">\n",
       "      <th></th>\n",
       "      <th>name</th>\n",
       "      <th>id</th>\n",
       "      <th>chr</th>\n",
       "      <th>band</th>\n",
       "      <th>start_position</th>\n",
       "      <th>end_position</th>\n",
       "      <th>gene_length</th>\n",
       "    </tr>\n",
       "  </thead>\n",
       "  <tbody>\n",
       "    <tr>\n",
       "      <th>3812</th>\n",
       "      <td>PEX10</td>\n",
       "      <td>ENSG00000157911</td>\n",
       "      <td>1</td>\n",
       "      <td>1p36.32</td>\n",
       "      <td>2403964</td>\n",
       "      <td>2413797</td>\n",
       "      <td>9833</td>\n",
       "    </tr>\n",
       "    <tr>\n",
       "      <th>4931</th>\n",
       "      <td>TAF1A</td>\n",
       "      <td>ENSG00000143498</td>\n",
       "      <td>1</td>\n",
       "      <td>1q41</td>\n",
       "      <td>222557902</td>\n",
       "      <td>222589933</td>\n",
       "      <td>32031</td>\n",
       "    </tr>\n",
       "    <tr>\n",
       "      <th>4043</th>\n",
       "      <td>E2F2</td>\n",
       "      <td>ENSG00000007968</td>\n",
       "      <td>1</td>\n",
       "      <td>1p36.12</td>\n",
       "      <td>23506438</td>\n",
       "      <td>23531233</td>\n",
       "      <td>24795</td>\n",
       "    </tr>\n",
       "    <tr>\n",
       "      <th>1909</th>\n",
       "      <td>SSX2IP</td>\n",
       "      <td>ENSG00000117155</td>\n",
       "      <td>1</td>\n",
       "      <td>1p22.3</td>\n",
       "      <td>84643707</td>\n",
       "      <td>84690803</td>\n",
       "      <td>47096</td>\n",
       "    </tr>\n",
       "    <tr>\n",
       "      <th>5811</th>\n",
       "      <td>PTGS2</td>\n",
       "      <td>ENSG00000073756</td>\n",
       "      <td>1</td>\n",
       "      <td>1q31.1</td>\n",
       "      <td>186671791</td>\n",
       "      <td>186680423</td>\n",
       "      <td>8632</td>\n",
       "    </tr>\n",
       "    <tr>\n",
       "      <th>...</th>\n",
       "      <td>...</td>\n",
       "      <td>...</td>\n",
       "      <td>...</td>\n",
       "      <td>...</td>\n",
       "      <td>...</td>\n",
       "      <td>...</td>\n",
       "      <td>...</td>\n",
       "    </tr>\n",
       "    <tr>\n",
       "      <th>526</th>\n",
       "      <td>ACO2</td>\n",
       "      <td>ENSG00000100412</td>\n",
       "      <td>22</td>\n",
       "      <td>22q13.2</td>\n",
       "      <td>41469117</td>\n",
       "      <td>41528989</td>\n",
       "      <td>59872</td>\n",
       "    </tr>\n",
       "    <tr>\n",
       "      <th>3265</th>\n",
       "      <td>EIF3D</td>\n",
       "      <td>ENSG00000100353</td>\n",
       "      <td>22</td>\n",
       "      <td>22q12.3</td>\n",
       "      <td>36510855</td>\n",
       "      <td>36529184</td>\n",
       "      <td>18329</td>\n",
       "    </tr>\n",
       "    <tr>\n",
       "      <th>3264</th>\n",
       "      <td>SF3A1</td>\n",
       "      <td>ENSG00000099995</td>\n",
       "      <td>22</td>\n",
       "      <td>22q12.2</td>\n",
       "      <td>30331988</td>\n",
       "      <td>30356919</td>\n",
       "      <td>24931</td>\n",
       "    </tr>\n",
       "    <tr>\n",
       "      <th>469</th>\n",
       "      <td>EP300</td>\n",
       "      <td>ENSG00000100393</td>\n",
       "      <td>22</td>\n",
       "      <td>22q13.2</td>\n",
       "      <td>41092592</td>\n",
       "      <td>41180077</td>\n",
       "      <td>87485</td>\n",
       "    </tr>\n",
       "    <tr>\n",
       "      <th>1432</th>\n",
       "      <td>SLC25A1</td>\n",
       "      <td>ENSG00000100075</td>\n",
       "      <td>22</td>\n",
       "      <td>22q11.21</td>\n",
       "      <td>19175581</td>\n",
       "      <td>19178739</td>\n",
       "      <td>3158</td>\n",
       "    </tr>\n",
       "  </tbody>\n",
       "</table>\n",
       "<p>6442 rows × 7 columns</p>\n",
       "</div>"
      ],
      "text/plain": [
       "         name               id  chr      band  start_position  end_position  \\\n",
       "3812    PEX10  ENSG00000157911    1   1p36.32         2403964       2413797   \n",
       "4931    TAF1A  ENSG00000143498    1      1q41       222557902     222589933   \n",
       "4043     E2F2  ENSG00000007968    1   1p36.12        23506438      23531233   \n",
       "1909   SSX2IP  ENSG00000117155    1    1p22.3        84643707      84690803   \n",
       "5811    PTGS2  ENSG00000073756    1    1q31.1       186671791     186680423   \n",
       "...       ...              ...  ...       ...             ...           ...   \n",
       "526      ACO2  ENSG00000100412   22   22q13.2        41469117      41528989   \n",
       "3265    EIF3D  ENSG00000100353   22   22q12.3        36510855      36529184   \n",
       "3264    SF3A1  ENSG00000099995   22   22q12.2        30331988      30356919   \n",
       "469     EP300  ENSG00000100393   22   22q13.2        41092592      41180077   \n",
       "1432  SLC25A1  ENSG00000100075   22  22q11.21        19175581      19178739   \n",
       "\n",
       "      gene_length  \n",
       "3812         9833  \n",
       "4931        32031  \n",
       "4043        24795  \n",
       "1909        47096  \n",
       "5811         8632  \n",
       "...           ...  \n",
       "526         59872  \n",
       "3265        18329  \n",
       "3264        24931  \n",
       "469         87485  \n",
       "1432         3158  \n",
       "\n",
       "[6442 rows x 7 columns]"
      ]
     },
     "execution_count": 56,
     "metadata": {},
     "output_type": "execute_result"
    }
   ],
   "source": [
    "genes_info.sort_values(\"chr\")"
   ]
  },
  {
   "cell_type": "markdown",
   "id": "7282b84d-f4f3-4e8c-9dd8-6319505ed4b5",
   "metadata": {
    "papermill": {
     "duration": 0.019158,
     "end_time": "2022-08-27T04:17:35.901220",
     "exception": false,
     "start_time": "2022-08-27T04:17:35.882062",
     "status": "completed"
    },
    "tags": []
   },
   "source": [
    "### Save"
   ]
  },
  {
   "cell_type": "code",
   "execution_count": 57,
   "id": "32cf6566-03bb-4a85-81e1-da46fc9f37ad",
   "metadata": {
    "execution": {
     "iopub.execute_input": "2022-08-27T04:17:35.941687Z",
     "iopub.status.busy": "2022-08-27T04:17:35.941520Z",
     "iopub.status.idle": "2022-08-27T04:17:35.968592Z",
     "shell.execute_reply": "2022-08-27T04:17:35.968060Z"
    },
    "papermill": {
     "duration": 0.048909,
     "end_time": "2022-08-27T04:17:35.969936",
     "exception": false,
     "start_time": "2022-08-27T04:17:35.921027",
     "status": "completed"
    },
    "tags": []
   },
   "outputs": [],
   "source": [
    "genes_info.to_pickle(OUTPUT_DIR_BASE / \"genes_info.pkl\")"
   ]
  },
  {
   "cell_type": "markdown",
   "id": "5b9f384a-5a91-4a8d-9007-cfe43f2d86f8",
   "metadata": {
    "papermill": {
     "duration": 0.020474,
     "end_time": "2022-08-27T04:17:36.010598",
     "exception": false,
     "start_time": "2022-08-27T04:17:35.990124",
     "status": "completed"
    },
    "tags": []
   },
   "source": [
    "## S-PrediXcan results"
   ]
  },
  {
   "cell_type": "markdown",
   "id": "fc0a2a4c-960c-4a0a-9b23-b66c3d5d6e07",
   "metadata": {
    "papermill": {
     "duration": 0.020017,
     "end_time": "2022-08-27T04:17:36.050646",
     "exception": false,
     "start_time": "2022-08-27T04:17:36.030629",
     "status": "completed"
    },
    "tags": []
   },
   "source": [
    "### Load results across all tissues"
   ]
  },
  {
   "cell_type": "code",
   "execution_count": 58,
   "id": "0b4867d7-a608-4b08-9d77-1782be3a0c94",
   "metadata": {
    "execution": {
     "iopub.execute_input": "2022-08-27T04:17:36.091953Z",
     "iopub.status.busy": "2022-08-27T04:17:36.091788Z",
     "iopub.status.idle": "2022-08-27T04:17:36.105326Z",
     "shell.execute_reply": "2022-08-27T04:17:36.104959Z"
    },
    "papermill": {
     "duration": 0.035783,
     "end_time": "2022-08-27T04:17:36.106627",
     "exception": false,
     "start_time": "2022-08-27T04:17:36.070844",
     "status": "completed"
    },
    "tags": []
   },
   "outputs": [],
   "source": [
    "spredixcan_result_files = {\n",
    "    t: SPREDIXCAN_FOLDER / SPREDIXCAN_FILE_PATTERN.format(tissue=t)\n",
    "    for t in prediction_model_tissues\n",
    "}"
   ]
  },
  {
   "cell_type": "code",
   "execution_count": 59,
   "id": "0ce270dd-46ac-4eaa-9d86-2b201d67d82f",
   "metadata": {
    "execution": {
     "iopub.execute_input": "2022-08-27T04:17:36.146614Z",
     "iopub.status.busy": "2022-08-27T04:17:36.146445Z",
     "iopub.status.idle": "2022-08-27T04:17:36.160703Z",
     "shell.execute_reply": "2022-08-27T04:17:36.160330Z"
    },
    "papermill": {
     "duration": 0.035792,
     "end_time": "2022-08-27T04:17:36.161885",
     "exception": false,
     "start_time": "2022-08-27T04:17:36.126093",
     "status": "completed"
    },
    "tags": []
   },
   "outputs": [
    {
     "data": {
      "text/plain": [
       "[PosixPath('/project/ritchie20/projects/phenoplier/base/results/gls/null_sims/twas/spredixcan/random.pheno0-gtex_v8-mashr-Whole_Blood.csv'),\n",
       " PosixPath('/project/ritchie20/projects/phenoplier/base/results/gls/null_sims/twas/spredixcan/random.pheno0-gtex_v8-mashr-Brain_Hypothalamus.csv'),\n",
       " PosixPath('/project/ritchie20/projects/phenoplier/base/results/gls/null_sims/twas/spredixcan/random.pheno0-gtex_v8-mashr-Brain_Amygdala.csv'),\n",
       " PosixPath('/project/ritchie20/projects/phenoplier/base/results/gls/null_sims/twas/spredixcan/random.pheno0-gtex_v8-mashr-Brain_Nucleus_accumbens_basal_ganglia.csv'),\n",
       " PosixPath('/project/ritchie20/projects/phenoplier/base/results/gls/null_sims/twas/spredixcan/random.pheno0-gtex_v8-mashr-Artery_Coronary.csv')]"
      ]
     },
     "metadata": {},
     "output_type": "display_data"
    }
   ],
   "source": [
    "assert len(spredixcan_result_files) == len(prediction_model_tissues)\n",
    "display(list(spredixcan_result_files.values())[:5])"
   ]
  },
  {
   "cell_type": "code",
   "execution_count": 60,
   "id": "aa140259-303e-4912-b2bf-e7adce662f88",
   "metadata": {
    "execution": {
     "iopub.execute_input": "2022-08-27T04:17:36.202192Z",
     "iopub.status.busy": "2022-08-27T04:17:36.202034Z",
     "iopub.status.idle": "2022-08-27T04:17:36.602225Z",
     "shell.execute_reply": "2022-08-27T04:17:36.601279Z"
    },
    "papermill": {
     "duration": 0.423014,
     "end_time": "2022-08-27T04:17:36.604817",
     "exception": false,
     "start_time": "2022-08-27T04:17:36.181803",
     "status": "completed"
    },
    "tags": []
   },
   "outputs": [
    {
     "data": {
      "text/html": [
       "<div>\n",
       "<style scoped>\n",
       "    .dataframe tbody tr th:only-of-type {\n",
       "        vertical-align: middle;\n",
       "    }\n",
       "\n",
       "    .dataframe tbody tr th {\n",
       "        vertical-align: top;\n",
       "    }\n",
       "\n",
       "    .dataframe thead th {\n",
       "        text-align: right;\n",
       "    }\n",
       "</style>\n",
       "<table border=\"1\" class=\"dataframe\">\n",
       "  <thead>\n",
       "    <tr style=\"text-align: right;\">\n",
       "      <th></th>\n",
       "      <th>gene</th>\n",
       "      <th>gene_name</th>\n",
       "      <th>zscore</th>\n",
       "      <th>effect_size</th>\n",
       "      <th>pvalue</th>\n",
       "      <th>var_g</th>\n",
       "      <th>pred_perf_r2</th>\n",
       "      <th>pred_perf_pval</th>\n",
       "      <th>pred_perf_qval</th>\n",
       "      <th>n_snps_used</th>\n",
       "      <th>n_snps_in_cov</th>\n",
       "      <th>n_snps_in_model</th>\n",
       "      <th>best_gwas_p</th>\n",
       "      <th>largest_weight</th>\n",
       "    </tr>\n",
       "  </thead>\n",
       "  <tbody>\n",
       "    <tr>\n",
       "      <th>0</th>\n",
       "      <td>ENSG00000131236.16</td>\n",
       "      <td>CAP1</td>\n",
       "      <td>-3.882684</td>\n",
       "      <td>NaN</td>\n",
       "      <td>0.000103</td>\n",
       "      <td>8.369900e-05</td>\n",
       "      <td>NaN</td>\n",
       "      <td>NaN</td>\n",
       "      <td>NaN</td>\n",
       "      <td>1</td>\n",
       "      <td>1</td>\n",
       "      <td>1</td>\n",
       "      <td>0.000103</td>\n",
       "      <td>0.021593</td>\n",
       "    </tr>\n",
       "    <tr>\n",
       "      <th>1</th>\n",
       "      <td>ENSG00000130787.13</td>\n",
       "      <td>HIP1R</td>\n",
       "      <td>3.862583</td>\n",
       "      <td>NaN</td>\n",
       "      <td>0.000112</td>\n",
       "      <td>3.039669e-03</td>\n",
       "      <td>NaN</td>\n",
       "      <td>NaN</td>\n",
       "      <td>NaN</td>\n",
       "      <td>2</td>\n",
       "      <td>2</td>\n",
       "      <td>2</td>\n",
       "      <td>0.001681</td>\n",
       "      <td>0.087495</td>\n",
       "    </tr>\n",
       "    <tr>\n",
       "      <th>2</th>\n",
       "      <td>ENSG00000103018.16</td>\n",
       "      <td>CYB5B</td>\n",
       "      <td>3.478682</td>\n",
       "      <td>NaN</td>\n",
       "      <td>0.000504</td>\n",
       "      <td>6.455623e-03</td>\n",
       "      <td>NaN</td>\n",
       "      <td>NaN</td>\n",
       "      <td>NaN</td>\n",
       "      <td>1</td>\n",
       "      <td>1</td>\n",
       "      <td>1</td>\n",
       "      <td>0.000504</td>\n",
       "      <td>0.114291</td>\n",
       "    </tr>\n",
       "    <tr>\n",
       "      <th>3</th>\n",
       "      <td>ENSG00000117906.13</td>\n",
       "      <td>RCN2</td>\n",
       "      <td>3.431258</td>\n",
       "      <td>NaN</td>\n",
       "      <td>0.000601</td>\n",
       "      <td>5.848182e-07</td>\n",
       "      <td>NaN</td>\n",
       "      <td>NaN</td>\n",
       "      <td>NaN</td>\n",
       "      <td>1</td>\n",
       "      <td>1</td>\n",
       "      <td>1</td>\n",
       "      <td>0.000601</td>\n",
       "      <td>0.001696</td>\n",
       "    </tr>\n",
       "    <tr>\n",
       "      <th>4</th>\n",
       "      <td>ENSG00000135469.13</td>\n",
       "      <td>COQ10A</td>\n",
       "      <td>3.363631</td>\n",
       "      <td>NaN</td>\n",
       "      <td>0.000769</td>\n",
       "      <td>4.312235e-04</td>\n",
       "      <td>NaN</td>\n",
       "      <td>NaN</td>\n",
       "      <td>NaN</td>\n",
       "      <td>2</td>\n",
       "      <td>2</td>\n",
       "      <td>2</td>\n",
       "      <td>0.013565</td>\n",
       "      <td>0.064460</td>\n",
       "    </tr>\n",
       "  </tbody>\n",
       "</table>\n",
       "</div>"
      ],
      "text/plain": [
       "                 gene gene_name    zscore  effect_size    pvalue  \\\n",
       "0  ENSG00000131236.16      CAP1 -3.882684          NaN  0.000103   \n",
       "1  ENSG00000130787.13     HIP1R  3.862583          NaN  0.000112   \n",
       "2  ENSG00000103018.16     CYB5B  3.478682          NaN  0.000504   \n",
       "3  ENSG00000117906.13      RCN2  3.431258          NaN  0.000601   \n",
       "4  ENSG00000135469.13    COQ10A  3.363631          NaN  0.000769   \n",
       "\n",
       "          var_g  pred_perf_r2  pred_perf_pval  pred_perf_qval  n_snps_used  \\\n",
       "0  8.369900e-05           NaN             NaN             NaN            1   \n",
       "1  3.039669e-03           NaN             NaN             NaN            2   \n",
       "2  6.455623e-03           NaN             NaN             NaN            1   \n",
       "3  5.848182e-07           NaN             NaN             NaN            1   \n",
       "4  4.312235e-04           NaN             NaN             NaN            2   \n",
       "\n",
       "   n_snps_in_cov  n_snps_in_model  best_gwas_p  largest_weight  \n",
       "0              1                1     0.000103        0.021593  \n",
       "1              2                2     0.001681        0.087495  \n",
       "2              1                1     0.000504        0.114291  \n",
       "3              1                1     0.000601        0.001696  \n",
       "4              2                2     0.013565        0.064460  "
      ]
     },
     "execution_count": 60,
     "metadata": {},
     "output_type": "execute_result"
    }
   ],
   "source": [
    "# look at the structure of one result\n",
    "pd.read_csv(spredixcan_result_files[\"Whole_Blood\"]).head()"
   ]
  },
  {
   "cell_type": "code",
   "execution_count": 61,
   "id": "4381b9ff-6ab5-47f1-89d1-560f88fdf07f",
   "metadata": {
    "execution": {
     "iopub.execute_input": "2022-08-27T04:17:36.679972Z",
     "iopub.status.busy": "2022-08-27T04:17:36.679694Z",
     "iopub.status.idle": "2022-08-27T04:17:36.848356Z",
     "shell.execute_reply": "2022-08-27T04:17:36.847186Z"
    },
    "papermill": {
     "duration": 0.208481,
     "end_time": "2022-08-27T04:17:36.852275",
     "exception": false,
     "start_time": "2022-08-27T04:17:36.643794",
     "status": "completed"
    },
    "tags": []
   },
   "outputs": [],
   "source": [
    "assert all(f.exists() for f in spredixcan_result_files.values())"
   ]
  },
  {
   "cell_type": "code",
   "execution_count": 62,
   "id": "d477157f-51e9-4c7c-b826-7ab5f4fdf3e3",
   "metadata": {
    "execution": {
     "iopub.execute_input": "2022-08-27T04:17:36.946230Z",
     "iopub.status.busy": "2022-08-27T04:17:36.945924Z",
     "iopub.status.idle": "2022-08-27T04:17:40.981443Z",
     "shell.execute_reply": "2022-08-27T04:17:40.980574Z"
    },
    "papermill": {
     "duration": 4.081062,
     "end_time": "2022-08-27T04:17:40.984604",
     "exception": false,
     "start_time": "2022-08-27T04:17:36.903542",
     "status": "completed"
    },
    "tags": []
   },
   "outputs": [],
   "source": [
    "spredixcan_dfs = [\n",
    "    pd.read_csv(\n",
    "        f,\n",
    "        usecols=[\n",
    "            \"gene\",\n",
    "            \"zscore\",\n",
    "            \"pvalue\",\n",
    "            \"n_snps_used\",\n",
    "            \"n_snps_in_model\",\n",
    "        ],\n",
    "    )\n",
    "    .dropna(subset=[\"gene\", \"zscore\", \"pvalue\"])\n",
    "    .assign(tissue=t)\n",
    "    for t, f in spredixcan_result_files.items()\n",
    "]"
   ]
  },
  {
   "cell_type": "code",
   "execution_count": 63,
   "id": "9730bd37-b769-411f-bb6b-bb658d1ff88c",
   "metadata": {
    "execution": {
     "iopub.execute_input": "2022-08-27T04:17:41.058671Z",
     "iopub.status.busy": "2022-08-27T04:17:41.058364Z",
     "iopub.status.idle": "2022-08-27T04:17:41.097737Z",
     "shell.execute_reply": "2022-08-27T04:17:41.096926Z"
    },
    "papermill": {
     "duration": 0.077902,
     "end_time": "2022-08-27T04:17:41.100490",
     "exception": false,
     "start_time": "2022-08-27T04:17:41.022588",
     "status": "completed"
    },
    "tags": []
   },
   "outputs": [],
   "source": [
    "assert len(spredixcan_dfs) == len(prediction_model_tissues)"
   ]
  },
  {
   "cell_type": "code",
   "execution_count": 64,
   "id": "bcd73f53-1283-4ff6-bbb5-25fb71f5cb72",
   "metadata": {
    "execution": {
     "iopub.execute_input": "2022-08-27T04:17:41.214812Z",
     "iopub.status.busy": "2022-08-27T04:17:41.214527Z",
     "iopub.status.idle": "2022-08-27T04:17:41.320968Z",
     "shell.execute_reply": "2022-08-27T04:17:41.320179Z"
    },
    "papermill": {
     "duration": 0.138055,
     "end_time": "2022-08-27T04:17:41.322810",
     "exception": false,
     "start_time": "2022-08-27T04:17:41.184755",
     "status": "completed"
    },
    "tags": []
   },
   "outputs": [],
   "source": [
    "spredixcan_dfs = pd.concat(spredixcan_dfs)"
   ]
  },
  {
   "cell_type": "code",
   "execution_count": 65,
   "id": "ae99c7b5-14fc-4b39-a6b2-40fc703acd0a",
   "metadata": {
    "execution": {
     "iopub.execute_input": "2022-08-27T04:17:41.367968Z",
     "iopub.status.busy": "2022-08-27T04:17:41.367756Z",
     "iopub.status.idle": "2022-08-27T04:17:41.412162Z",
     "shell.execute_reply": "2022-08-27T04:17:41.411632Z"
    },
    "papermill": {
     "duration": 0.068383,
     "end_time": "2022-08-27T04:17:41.413543",
     "exception": false,
     "start_time": "2022-08-27T04:17:41.345160",
     "status": "completed"
    },
    "tags": []
   },
   "outputs": [],
   "source": [
    "assert spredixcan_dfs[\"tissue\"].unique().shape[0] == len(prediction_model_tissues)"
   ]
  },
  {
   "cell_type": "code",
   "execution_count": 66,
   "id": "b7223a23-e40f-4cd3-8988-72033f8739bd",
   "metadata": {
    "execution": {
     "iopub.execute_input": "2022-08-27T04:17:41.456527Z",
     "iopub.status.busy": "2022-08-27T04:17:41.456338Z",
     "iopub.status.idle": "2022-08-27T04:17:41.471966Z",
     "shell.execute_reply": "2022-08-27T04:17:41.471589Z"
    },
    "papermill": {
     "duration": 0.038628,
     "end_time": "2022-08-27T04:17:41.473137",
     "exception": false,
     "start_time": "2022-08-27T04:17:41.434509",
     "status": "completed"
    },
    "tags": []
   },
   "outputs": [
    {
     "data": {
      "text/plain": [
       "(652858, 6)"
      ]
     },
     "execution_count": 66,
     "metadata": {},
     "output_type": "execute_result"
    }
   ],
   "source": [
    "spredixcan_dfs.shape"
   ]
  },
  {
   "cell_type": "code",
   "execution_count": 67,
   "id": "4987073a-3b70-4162-93fb-beeb351ebfe0",
   "metadata": {
    "execution": {
     "iopub.execute_input": "2022-08-27T04:17:41.514153Z",
     "iopub.status.busy": "2022-08-27T04:17:41.513991Z",
     "iopub.status.idle": "2022-08-27T04:17:41.713699Z",
     "shell.execute_reply": "2022-08-27T04:17:41.713011Z"
    },
    "papermill": {
     "duration": 0.222282,
     "end_time": "2022-08-27T04:17:41.715438",
     "exception": false,
     "start_time": "2022-08-27T04:17:41.493156",
     "status": "completed"
    },
    "tags": []
   },
   "outputs": [],
   "source": [
    "spredixcan_dfs = spredixcan_dfs.assign(\n",
    "    gene_id=spredixcan_dfs[\"gene\"].apply(lambda g: g.split(\".\")[0])\n",
    ")"
   ]
  },
  {
   "cell_type": "code",
   "execution_count": 68,
   "id": "6b47d026-01c0-4f7c-a90e-f0baa13235f4",
   "metadata": {
    "execution": {
     "iopub.execute_input": "2022-08-27T04:17:41.757688Z",
     "iopub.status.busy": "2022-08-27T04:17:41.757470Z",
     "iopub.status.idle": "2022-08-27T04:17:41.777597Z",
     "shell.execute_reply": "2022-08-27T04:17:41.777203Z"
    },
    "papermill": {
     "duration": 0.042704,
     "end_time": "2022-08-27T04:17:41.778799",
     "exception": false,
     "start_time": "2022-08-27T04:17:41.736095",
     "status": "completed"
    },
    "tags": []
   },
   "outputs": [
    {
     "data": {
      "text/html": [
       "<div>\n",
       "<style scoped>\n",
       "    .dataframe tbody tr th:only-of-type {\n",
       "        vertical-align: middle;\n",
       "    }\n",
       "\n",
       "    .dataframe tbody tr th {\n",
       "        vertical-align: top;\n",
       "    }\n",
       "\n",
       "    .dataframe thead th {\n",
       "        text-align: right;\n",
       "    }\n",
       "</style>\n",
       "<table border=\"1\" class=\"dataframe\">\n",
       "  <thead>\n",
       "    <tr style=\"text-align: right;\">\n",
       "      <th></th>\n",
       "      <th>gene</th>\n",
       "      <th>zscore</th>\n",
       "      <th>pvalue</th>\n",
       "      <th>n_snps_used</th>\n",
       "      <th>n_snps_in_model</th>\n",
       "      <th>tissue</th>\n",
       "      <th>gene_id</th>\n",
       "    </tr>\n",
       "  </thead>\n",
       "  <tbody>\n",
       "    <tr>\n",
       "      <th>0</th>\n",
       "      <td>ENSG00000131236.16</td>\n",
       "      <td>-3.882684</td>\n",
       "      <td>0.000103</td>\n",
       "      <td>1</td>\n",
       "      <td>1</td>\n",
       "      <td>Whole_Blood</td>\n",
       "      <td>ENSG00000131236</td>\n",
       "    </tr>\n",
       "    <tr>\n",
       "      <th>1</th>\n",
       "      <td>ENSG00000130787.13</td>\n",
       "      <td>3.862583</td>\n",
       "      <td>0.000112</td>\n",
       "      <td>2</td>\n",
       "      <td>2</td>\n",
       "      <td>Whole_Blood</td>\n",
       "      <td>ENSG00000130787</td>\n",
       "    </tr>\n",
       "    <tr>\n",
       "      <th>2</th>\n",
       "      <td>ENSG00000103018.16</td>\n",
       "      <td>3.478682</td>\n",
       "      <td>0.000504</td>\n",
       "      <td>1</td>\n",
       "      <td>1</td>\n",
       "      <td>Whole_Blood</td>\n",
       "      <td>ENSG00000103018</td>\n",
       "    </tr>\n",
       "    <tr>\n",
       "      <th>3</th>\n",
       "      <td>ENSG00000117906.13</td>\n",
       "      <td>3.431258</td>\n",
       "      <td>0.000601</td>\n",
       "      <td>1</td>\n",
       "      <td>1</td>\n",
       "      <td>Whole_Blood</td>\n",
       "      <td>ENSG00000117906</td>\n",
       "    </tr>\n",
       "    <tr>\n",
       "      <th>4</th>\n",
       "      <td>ENSG00000135469.13</td>\n",
       "      <td>3.363631</td>\n",
       "      <td>0.000769</td>\n",
       "      <td>2</td>\n",
       "      <td>2</td>\n",
       "      <td>Whole_Blood</td>\n",
       "      <td>ENSG00000135469</td>\n",
       "    </tr>\n",
       "  </tbody>\n",
       "</table>\n",
       "</div>"
      ],
      "text/plain": [
       "                 gene    zscore    pvalue  n_snps_used  n_snps_in_model  \\\n",
       "0  ENSG00000131236.16 -3.882684  0.000103            1                1   \n",
       "1  ENSG00000130787.13  3.862583  0.000112            2                2   \n",
       "2  ENSG00000103018.16  3.478682  0.000504            1                1   \n",
       "3  ENSG00000117906.13  3.431258  0.000601            1                1   \n",
       "4  ENSG00000135469.13  3.363631  0.000769            2                2   \n",
       "\n",
       "        tissue          gene_id  \n",
       "0  Whole_Blood  ENSG00000131236  \n",
       "1  Whole_Blood  ENSG00000130787  \n",
       "2  Whole_Blood  ENSG00000103018  \n",
       "3  Whole_Blood  ENSG00000117906  \n",
       "4  Whole_Blood  ENSG00000135469  "
      ]
     },
     "execution_count": 68,
     "metadata": {},
     "output_type": "execute_result"
    }
   ],
   "source": [
    "spredixcan_dfs.head()"
   ]
  },
  {
   "cell_type": "code",
   "execution_count": 69,
   "id": "d5dbdb2e-b7eb-4665-9fd4-9ce714d6af0c",
   "metadata": {
    "execution": {
     "iopub.execute_input": "2022-08-27T04:17:41.821448Z",
     "iopub.status.busy": "2022-08-27T04:17:41.821284Z",
     "iopub.status.idle": "2022-08-27T04:17:41.945168Z",
     "shell.execute_reply": "2022-08-27T04:17:41.944662Z"
    },
    "papermill": {
     "duration": 0.146536,
     "end_time": "2022-08-27T04:17:41.946916",
     "exception": false,
     "start_time": "2022-08-27T04:17:41.800380",
     "status": "completed"
    },
    "tags": []
   },
   "outputs": [],
   "source": [
    "# leave only common genes\n",
    "spredixcan_dfs = spredixcan_dfs[spredixcan_dfs[\"gene_id\"].isin(set(genes_info[\"id\"]))]"
   ]
  },
  {
   "cell_type": "code",
   "execution_count": 70,
   "id": "8d34f99a-6b43-47aa-bb07-dfc67e169538",
   "metadata": {
    "execution": {
     "iopub.execute_input": "2022-08-27T04:17:41.989003Z",
     "iopub.status.busy": "2022-08-27T04:17:41.988797Z",
     "iopub.status.idle": "2022-08-27T04:17:42.005234Z",
     "shell.execute_reply": "2022-08-27T04:17:42.004647Z"
    },
    "papermill": {
     "duration": 0.038577,
     "end_time": "2022-08-27T04:17:42.006530",
     "exception": false,
     "start_time": "2022-08-27T04:17:41.967953",
     "status": "completed"
    },
    "tags": []
   },
   "outputs": [
    {
     "data": {
      "text/plain": [
       "(233350, 7)"
      ]
     },
     "execution_count": 70,
     "metadata": {},
     "output_type": "execute_result"
    }
   ],
   "source": [
    "spredixcan_dfs.shape"
   ]
  },
  {
   "cell_type": "markdown",
   "id": "5ecfd141-ecb8-47cf-905e-25cc1b4d3f9d",
   "metadata": {
    "papermill": {
     "duration": 0.020237,
     "end_time": "2022-08-27T04:17:42.046979",
     "exception": false,
     "start_time": "2022-08-27T04:17:42.026742",
     "status": "completed"
    },
    "tags": []
   },
   "source": [
    "### Count number of tissues available per gene"
   ]
  },
  {
   "cell_type": "code",
   "execution_count": 71,
   "id": "86fe37e1-a303-4221-a12e-3a54a04dd510",
   "metadata": {
    "execution": {
     "iopub.execute_input": "2022-08-27T04:17:42.089601Z",
     "iopub.status.busy": "2022-08-27T04:17:42.089429Z",
     "iopub.status.idle": "2022-08-27T04:17:42.166563Z",
     "shell.execute_reply": "2022-08-27T04:17:42.165974Z"
    },
    "papermill": {
     "duration": 0.09988,
     "end_time": "2022-08-27T04:17:42.168243",
     "exception": false,
     "start_time": "2022-08-27T04:17:42.068363",
     "status": "completed"
    },
    "tags": []
   },
   "outputs": [],
   "source": [
    "spredixcan_genes_n_models = spredixcan_dfs.groupby(\"gene_id\")[\"tissue\"].nunique()"
   ]
  },
  {
   "cell_type": "code",
   "execution_count": 72,
   "id": "31416d48-1e4d-463f-9a5c-34d29803c3f8",
   "metadata": {
    "execution": {
     "iopub.execute_input": "2022-08-27T04:17:42.211985Z",
     "iopub.status.busy": "2022-08-27T04:17:42.211788Z",
     "iopub.status.idle": "2022-08-27T04:17:42.230198Z",
     "shell.execute_reply": "2022-08-27T04:17:42.229524Z"
    },
    "papermill": {
     "duration": 0.042484,
     "end_time": "2022-08-27T04:17:42.231544",
     "exception": false,
     "start_time": "2022-08-27T04:17:42.189060",
     "status": "completed"
    },
    "tags": []
   },
   "outputs": [
    {
     "data": {
      "text/plain": [
       "gene_id\n",
       "ENSG00000000419     2\n",
       "ENSG00000000938    36\n",
       "ENSG00000000971    34\n",
       "ENSG00000001084    32\n",
       "ENSG00000001167    40\n",
       "                   ..\n",
       "ENSG00000278540    36\n",
       "ENSG00000278828     4\n",
       "ENSG00000278845    49\n",
       "ENSG00000281005    49\n",
       "ENSG00000282608    36\n",
       "Name: tissue, Length: 6442, dtype: int64"
      ]
     },
     "execution_count": 72,
     "metadata": {},
     "output_type": "execute_result"
    }
   ],
   "source": [
    "spredixcan_genes_n_models"
   ]
  },
  {
   "cell_type": "code",
   "execution_count": 73,
   "id": "d737ad4f-f821-4546-9a3e-6703fe264b49",
   "metadata": {
    "execution": {
     "iopub.execute_input": "2022-08-27T04:17:42.275579Z",
     "iopub.status.busy": "2022-08-27T04:17:42.275405Z",
     "iopub.status.idle": "2022-08-27T04:17:42.303359Z",
     "shell.execute_reply": "2022-08-27T04:17:42.302873Z"
    },
    "papermill": {
     "duration": 0.050766,
     "end_time": "2022-08-27T04:17:42.304706",
     "exception": false,
     "start_time": "2022-08-27T04:17:42.253940",
     "status": "completed"
    },
    "tags": []
   },
   "outputs": [],
   "source": [
    "# testing that in S-MultiXcan I get the same number of tissues per gene\n",
    "_tmp_smultixcan_results_n_models = (\n",
    "    smultixcan_results.set_index(\"gene_id\")[\"n\"].astype(int).rename(\"tissue\")\n",
    ")\n",
    "\n",
    "_cg = _tmp_smultixcan_results_n_models.index.intersection(\n",
    "    spredixcan_genes_n_models.index\n",
    ")\n",
    "_tmp_smultixcan_results_n_models = _tmp_smultixcan_results_n_models.loc[_cg]\n",
    "_spredixcan = spredixcan_genes_n_models.loc[_cg]\n",
    "\n",
    "assert _spredixcan.shape[0] == _tmp_smultixcan_results_n_models.shape[0]\n",
    "assert _spredixcan.equals(_tmp_smultixcan_results_n_models.loc[_spredixcan.index])"
   ]
  },
  {
   "cell_type": "markdown",
   "id": "904d7d30-9c2d-4c3e-b674-3f081954fe8b",
   "metadata": {
    "papermill": {
     "duration": 0.020552,
     "end_time": "2022-08-27T04:17:42.346391",
     "exception": false,
     "start_time": "2022-08-27T04:17:42.325839",
     "status": "completed"
    },
    "tags": []
   },
   "source": [
    "### Get tissues available per gene"
   ]
  },
  {
   "cell_type": "code",
   "execution_count": 74,
   "id": "cf014e81-4b4e-4c46-9265-67718b3ab08e",
   "metadata": {
    "execution": {
     "iopub.execute_input": "2022-08-27T04:17:42.388054Z",
     "iopub.status.busy": "2022-08-27T04:17:42.387878Z",
     "iopub.status.idle": "2022-08-27T04:17:42.536290Z",
     "shell.execute_reply": "2022-08-27T04:17:42.535815Z"
    },
    "papermill": {
     "duration": 0.171396,
     "end_time": "2022-08-27T04:17:42.538056",
     "exception": false,
     "start_time": "2022-08-27T04:17:42.366660",
     "status": "completed"
    },
    "tags": []
   },
   "outputs": [],
   "source": [
    "spredixcan_genes_models = spredixcan_dfs.groupby(\"gene_id\")[\"tissue\"].apply(\n",
    "    lambda x: frozenset(x.tolist())\n",
    ")"
   ]
  },
  {
   "cell_type": "code",
   "execution_count": 75,
   "id": "5df09d7f-39c9-408f-9fef-5189e8ca1c87",
   "metadata": {
    "execution": {
     "iopub.execute_input": "2022-08-27T04:17:42.581534Z",
     "iopub.status.busy": "2022-08-27T04:17:42.581324Z",
     "iopub.status.idle": "2022-08-27T04:17:42.601038Z",
     "shell.execute_reply": "2022-08-27T04:17:42.600338Z"
    },
    "papermill": {
     "duration": 0.04309,
     "end_time": "2022-08-27T04:17:42.602346",
     "exception": false,
     "start_time": "2022-08-27T04:17:42.559256",
     "status": "completed"
    },
    "tags": []
   },
   "outputs": [
    {
     "data": {
      "text/plain": [
       "gene_id\n",
       "ENSG00000000419         (Brain_Hypothalamus, Brain_Substantia_nigra)\n",
       "ENSG00000000938    (Muscle_Skeletal, Liver, Testis, Adipose_Visce...\n",
       "ENSG00000000971    (Testis, Heart_Atrial_Appendage, Pituitary, Ne...\n",
       "ENSG00000001084    (Muscle_Skeletal, Testis, Heart_Atrial_Appenda...\n",
       "ENSG00000001167    (Muscle_Skeletal, Testis, Adipose_Visceral_Ome...\n",
       "                                         ...                        \n",
       "ENSG00000278540    (Liver, Adipose_Visceral_Omentum, Pituitary, N...\n",
       "ENSG00000278828    (Esophagus_Muscularis, Artery_Coronary, Cells_...\n",
       "ENSG00000278845    (Muscle_Skeletal, Liver, Testis, Adipose_Visce...\n",
       "ENSG00000281005    (Muscle_Skeletal, Liver, Testis, Adipose_Visce...\n",
       "ENSG00000282608    (Muscle_Skeletal, Liver, Testis, Adipose_Visce...\n",
       "Name: tissue, Length: 6442, dtype: object"
      ]
     },
     "execution_count": 75,
     "metadata": {},
     "output_type": "execute_result"
    }
   ],
   "source": [
    "spredixcan_genes_models"
   ]
  },
  {
   "cell_type": "code",
   "execution_count": 76,
   "id": "97c46886-5a48-4813-b890-1dcdb09ec09d",
   "metadata": {
    "execution": {
     "iopub.execute_input": "2022-08-27T04:17:42.644374Z",
     "iopub.status.busy": "2022-08-27T04:17:42.644211Z",
     "iopub.status.idle": "2022-08-27T04:17:42.658006Z",
     "shell.execute_reply": "2022-08-27T04:17:42.657386Z"
    },
    "papermill": {
     "duration": 0.036274,
     "end_time": "2022-08-27T04:17:42.659279",
     "exception": false,
     "start_time": "2022-08-27T04:17:42.623005",
     "status": "completed"
    },
    "tags": []
   },
   "outputs": [],
   "source": [
    "assert spredixcan_genes_n_models.shape[0] == spredixcan_genes_models.shape[0]"
   ]
  },
  {
   "cell_type": "code",
   "execution_count": 77,
   "id": "abc13913-a681-4297-a0e6-dde62f43c36f",
   "metadata": {
    "execution": {
     "iopub.execute_input": "2022-08-27T04:17:42.701196Z",
     "iopub.status.busy": "2022-08-27T04:17:42.701026Z",
     "iopub.status.idle": "2022-08-27T04:17:42.714112Z",
     "shell.execute_reply": "2022-08-27T04:17:42.713756Z"
    },
    "papermill": {
     "duration": 0.035644,
     "end_time": "2022-08-27T04:17:42.715384",
     "exception": false,
     "start_time": "2022-08-27T04:17:42.679740",
     "status": "completed"
    },
    "tags": []
   },
   "outputs": [],
   "source": [
    "assert spredixcan_genes_n_models.index.equals(spredixcan_genes_models.index)"
   ]
  },
  {
   "cell_type": "code",
   "execution_count": 78,
   "id": "995a02e7-b836-471b-b438-17c8c46e4fde",
   "metadata": {
    "execution": {
     "iopub.execute_input": "2022-08-27T04:17:42.757450Z",
     "iopub.status.busy": "2022-08-27T04:17:42.757280Z",
     "iopub.status.idle": "2022-08-27T04:17:42.771443Z",
     "shell.execute_reply": "2022-08-27T04:17:42.771085Z"
    },
    "papermill": {
     "duration": 0.036391,
     "end_time": "2022-08-27T04:17:42.772725",
     "exception": false,
     "start_time": "2022-08-27T04:17:42.736334",
     "status": "completed"
    },
    "tags": []
   },
   "outputs": [],
   "source": [
    "assert (spredixcan_genes_models.apply(len) <= len(prediction_model_tissues)).all()"
   ]
  },
  {
   "cell_type": "code",
   "execution_count": 79,
   "id": "0c1d0c68-1a06-480c-b6d6-d3c4fdf0f5aa",
   "metadata": {
    "execution": {
     "iopub.execute_input": "2022-08-27T04:17:42.814490Z",
     "iopub.status.busy": "2022-08-27T04:17:42.814309Z",
     "iopub.status.idle": "2022-08-27T04:17:42.831982Z",
     "shell.execute_reply": "2022-08-27T04:17:42.831357Z"
    },
    "papermill": {
     "duration": 0.040186,
     "end_time": "2022-08-27T04:17:42.833287",
     "exception": false,
     "start_time": "2022-08-27T04:17:42.793101",
     "status": "completed"
    },
    "tags": []
   },
   "outputs": [
    {
     "data": {
      "text/plain": [
       "count    6442.000000\n",
       "mean       36.223223\n",
       "std        12.976464\n",
       "min         1.000000\n",
       "25%        29.000000\n",
       "50%        41.000000\n",
       "75%        47.000000\n",
       "max        49.000000\n",
       "Name: tissue, dtype: float64"
      ]
     },
     "execution_count": 79,
     "metadata": {},
     "output_type": "execute_result"
    }
   ],
   "source": [
    "spredixcan_genes_models.apply(len).describe()"
   ]
  },
  {
   "cell_type": "code",
   "execution_count": 80,
   "id": "991b9441-6bb5-4b72-9285-5fd579875e40",
   "metadata": {
    "execution": {
     "iopub.execute_input": "2022-08-27T04:17:42.876042Z",
     "iopub.status.busy": "2022-08-27T04:17:42.875875Z",
     "iopub.status.idle": "2022-08-27T04:17:42.891835Z",
     "shell.execute_reply": "2022-08-27T04:17:42.891477Z"
    },
    "papermill": {
     "duration": 0.038807,
     "end_time": "2022-08-27T04:17:42.893114",
     "exception": false,
     "start_time": "2022-08-27T04:17:42.854307",
     "status": "completed"
    },
    "tags": []
   },
   "outputs": [],
   "source": [
    "# testing\n",
    "assert (\n",
    "    spredixcan_genes_models.loc[spredixcan_genes_n_models.index]\n",
    "    .apply(len)\n",
    "    .equals(spredixcan_genes_n_models)\n",
    ")"
   ]
  },
  {
   "cell_type": "markdown",
   "id": "3042b22d-9d88-4e21-b112-ab23cf8d24ea",
   "metadata": {
    "papermill": {
     "duration": 0.0208,
     "end_time": "2022-08-27T04:17:42.934691",
     "exception": false,
     "start_time": "2022-08-27T04:17:42.913891",
     "status": "completed"
    },
    "tags": []
   },
   "source": [
    "### Add gene name and set index"
   ]
  },
  {
   "cell_type": "code",
   "execution_count": 81,
   "id": "3b7b0e76-7aca-44bf-beff-5f1c1b6193ee",
   "metadata": {
    "execution": {
     "iopub.execute_input": "2022-08-27T04:17:42.977131Z",
     "iopub.status.busy": "2022-08-27T04:17:42.976970Z",
     "iopub.status.idle": "2022-08-27T04:17:42.990459Z",
     "shell.execute_reply": "2022-08-27T04:17:42.990097Z"
    },
    "papermill": {
     "duration": 0.036053,
     "end_time": "2022-08-27T04:17:42.991732",
     "exception": false,
     "start_time": "2022-08-27T04:17:42.955679",
     "status": "completed"
    },
    "tags": []
   },
   "outputs": [],
   "source": [
    "spredixcan_genes_models = spredixcan_genes_models.to_frame().reset_index()"
   ]
  },
  {
   "cell_type": "code",
   "execution_count": 82,
   "id": "ffab4b61-c2d4-4bcc-a147-23a4bf30f715",
   "metadata": {
    "execution": {
     "iopub.execute_input": "2022-08-27T04:17:43.034014Z",
     "iopub.status.busy": "2022-08-27T04:17:43.033846Z",
     "iopub.status.idle": "2022-08-27T04:17:43.052084Z",
     "shell.execute_reply": "2022-08-27T04:17:43.051628Z"
    },
    "papermill": {
     "duration": 0.040696,
     "end_time": "2022-08-27T04:17:43.053232",
     "exception": false,
     "start_time": "2022-08-27T04:17:43.012536",
     "status": "completed"
    },
    "tags": []
   },
   "outputs": [
    {
     "data": {
      "text/html": [
       "<div>\n",
       "<style scoped>\n",
       "    .dataframe tbody tr th:only-of-type {\n",
       "        vertical-align: middle;\n",
       "    }\n",
       "\n",
       "    .dataframe tbody tr th {\n",
       "        vertical-align: top;\n",
       "    }\n",
       "\n",
       "    .dataframe thead th {\n",
       "        text-align: right;\n",
       "    }\n",
       "</style>\n",
       "<table border=\"1\" class=\"dataframe\">\n",
       "  <thead>\n",
       "    <tr style=\"text-align: right;\">\n",
       "      <th></th>\n",
       "      <th>gene_id</th>\n",
       "      <th>tissue</th>\n",
       "    </tr>\n",
       "  </thead>\n",
       "  <tbody>\n",
       "    <tr>\n",
       "      <th>0</th>\n",
       "      <td>ENSG00000000419</td>\n",
       "      <td>(Brain_Hypothalamus, Brain_Substantia_nigra)</td>\n",
       "    </tr>\n",
       "    <tr>\n",
       "      <th>1</th>\n",
       "      <td>ENSG00000000938</td>\n",
       "      <td>(Muscle_Skeletal, Liver, Testis, Adipose_Visce...</td>\n",
       "    </tr>\n",
       "    <tr>\n",
       "      <th>2</th>\n",
       "      <td>ENSG00000000971</td>\n",
       "      <td>(Testis, Heart_Atrial_Appendage, Pituitary, Ne...</td>\n",
       "    </tr>\n",
       "    <tr>\n",
       "      <th>3</th>\n",
       "      <td>ENSG00000001084</td>\n",
       "      <td>(Muscle_Skeletal, Testis, Heart_Atrial_Appenda...</td>\n",
       "    </tr>\n",
       "    <tr>\n",
       "      <th>4</th>\n",
       "      <td>ENSG00000001167</td>\n",
       "      <td>(Muscle_Skeletal, Testis, Adipose_Visceral_Ome...</td>\n",
       "    </tr>\n",
       "  </tbody>\n",
       "</table>\n",
       "</div>"
      ],
      "text/plain": [
       "           gene_id                                             tissue\n",
       "0  ENSG00000000419       (Brain_Hypothalamus, Brain_Substantia_nigra)\n",
       "1  ENSG00000000938  (Muscle_Skeletal, Liver, Testis, Adipose_Visce...\n",
       "2  ENSG00000000971  (Testis, Heart_Atrial_Appendage, Pituitary, Ne...\n",
       "3  ENSG00000001084  (Muscle_Skeletal, Testis, Heart_Atrial_Appenda...\n",
       "4  ENSG00000001167  (Muscle_Skeletal, Testis, Adipose_Visceral_Ome..."
      ]
     },
     "execution_count": 82,
     "metadata": {},
     "output_type": "execute_result"
    }
   ],
   "source": [
    "spredixcan_genes_models.head()"
   ]
  },
  {
   "cell_type": "code",
   "execution_count": 83,
   "id": "e1cb2fe5-969f-4526-bca7-a3b8919b3509",
   "metadata": {
    "execution": {
     "iopub.execute_input": "2022-08-27T04:17:43.095934Z",
     "iopub.status.busy": "2022-08-27T04:17:43.095776Z",
     "iopub.status.idle": "2022-08-27T04:17:43.112580Z",
     "shell.execute_reply": "2022-08-27T04:17:43.112214Z"
    },
    "papermill": {
     "duration": 0.039553,
     "end_time": "2022-08-27T04:17:43.113853",
     "exception": false,
     "start_time": "2022-08-27T04:17:43.074300",
     "status": "completed"
    },
    "tags": []
   },
   "outputs": [],
   "source": [
    "spredixcan_genes_models = spredixcan_genes_models.assign(\n",
    "    gene_name=spredixcan_genes_models[\"gene_id\"].apply(\n",
    "        lambda g: Gene.GENE_ID_TO_NAME_MAP[g]\n",
    "    )\n",
    ")"
   ]
  },
  {
   "cell_type": "code",
   "execution_count": 84,
   "id": "ff078ce5-3f18-442e-a593-3326436c758e",
   "metadata": {
    "execution": {
     "iopub.execute_input": "2022-08-27T04:17:43.157504Z",
     "iopub.status.busy": "2022-08-27T04:17:43.157337Z",
     "iopub.status.idle": "2022-08-27T04:17:43.171363Z",
     "shell.execute_reply": "2022-08-27T04:17:43.170935Z"
    },
    "papermill": {
     "duration": 0.03757,
     "end_time": "2022-08-27T04:17:43.172654",
     "exception": false,
     "start_time": "2022-08-27T04:17:43.135084",
     "status": "completed"
    },
    "tags": []
   },
   "outputs": [],
   "source": [
    "spredixcan_genes_models = spredixcan_genes_models[[\"gene_id\", \"gene_name\", \"tissue\"]]"
   ]
  },
  {
   "cell_type": "code",
   "execution_count": 85,
   "id": "a65c8bf2-5ecd-4f80-a857-11f8a0c019c4",
   "metadata": {
    "execution": {
     "iopub.execute_input": "2022-08-27T04:17:43.216293Z",
     "iopub.status.busy": "2022-08-27T04:17:43.216124Z",
     "iopub.status.idle": "2022-08-27T04:17:43.229857Z",
     "shell.execute_reply": "2022-08-27T04:17:43.229500Z"
    },
    "papermill": {
     "duration": 0.037494,
     "end_time": "2022-08-27T04:17:43.231136",
     "exception": false,
     "start_time": "2022-08-27T04:17:43.193642",
     "status": "completed"
    },
    "tags": []
   },
   "outputs": [],
   "source": [
    "spredixcan_genes_models = spredixcan_genes_models.set_index(\"gene_id\")"
   ]
  },
  {
   "cell_type": "code",
   "execution_count": 86,
   "id": "af6b40b9-fc58-47a1-a1b5-4404034b008b",
   "metadata": {
    "execution": {
     "iopub.execute_input": "2022-08-27T04:17:43.274702Z",
     "iopub.status.busy": "2022-08-27T04:17:43.274541Z",
     "iopub.status.idle": "2022-08-27T04:17:43.293319Z",
     "shell.execute_reply": "2022-08-27T04:17:43.292776Z"
    },
    "papermill": {
     "duration": 0.041864,
     "end_time": "2022-08-27T04:17:43.294479",
     "exception": false,
     "start_time": "2022-08-27T04:17:43.252615",
     "status": "completed"
    },
    "tags": []
   },
   "outputs": [
    {
     "data": {
      "text/html": [
       "<div>\n",
       "<style scoped>\n",
       "    .dataframe tbody tr th:only-of-type {\n",
       "        vertical-align: middle;\n",
       "    }\n",
       "\n",
       "    .dataframe tbody tr th {\n",
       "        vertical-align: top;\n",
       "    }\n",
       "\n",
       "    .dataframe thead th {\n",
       "        text-align: right;\n",
       "    }\n",
       "</style>\n",
       "<table border=\"1\" class=\"dataframe\">\n",
       "  <thead>\n",
       "    <tr style=\"text-align: right;\">\n",
       "      <th></th>\n",
       "      <th>gene_name</th>\n",
       "      <th>tissue</th>\n",
       "    </tr>\n",
       "    <tr>\n",
       "      <th>gene_id</th>\n",
       "      <th></th>\n",
       "      <th></th>\n",
       "    </tr>\n",
       "  </thead>\n",
       "  <tbody>\n",
       "    <tr>\n",
       "      <th>ENSG00000000419</th>\n",
       "      <td>DPM1</td>\n",
       "      <td>(Brain_Hypothalamus, Brain_Substantia_nigra)</td>\n",
       "    </tr>\n",
       "    <tr>\n",
       "      <th>ENSG00000000938</th>\n",
       "      <td>FGR</td>\n",
       "      <td>(Muscle_Skeletal, Liver, Testis, Adipose_Visce...</td>\n",
       "    </tr>\n",
       "    <tr>\n",
       "      <th>ENSG00000000971</th>\n",
       "      <td>CFH</td>\n",
       "      <td>(Testis, Heart_Atrial_Appendage, Pituitary, Ne...</td>\n",
       "    </tr>\n",
       "    <tr>\n",
       "      <th>ENSG00000001084</th>\n",
       "      <td>GCLC</td>\n",
       "      <td>(Muscle_Skeletal, Testis, Heart_Atrial_Appenda...</td>\n",
       "    </tr>\n",
       "    <tr>\n",
       "      <th>ENSG00000001167</th>\n",
       "      <td>NFYA</td>\n",
       "      <td>(Muscle_Skeletal, Testis, Adipose_Visceral_Ome...</td>\n",
       "    </tr>\n",
       "  </tbody>\n",
       "</table>\n",
       "</div>"
      ],
      "text/plain": [
       "                gene_name                                             tissue\n",
       "gene_id                                                                     \n",
       "ENSG00000000419      DPM1       (Brain_Hypothalamus, Brain_Substantia_nigra)\n",
       "ENSG00000000938       FGR  (Muscle_Skeletal, Liver, Testis, Adipose_Visce...\n",
       "ENSG00000000971       CFH  (Testis, Heart_Atrial_Appendage, Pituitary, Ne...\n",
       "ENSG00000001084      GCLC  (Muscle_Skeletal, Testis, Heart_Atrial_Appenda...\n",
       "ENSG00000001167      NFYA  (Muscle_Skeletal, Testis, Adipose_Visceral_Ome..."
      ]
     },
     "execution_count": 86,
     "metadata": {},
     "output_type": "execute_result"
    }
   ],
   "source": [
    "spredixcan_genes_models.head()"
   ]
  },
  {
   "cell_type": "markdown",
   "id": "d1e67be9-9094-4a07-b89d-3a0815d503e6",
   "metadata": {
    "papermill": {
     "duration": 0.02161,
     "end_time": "2022-08-27T04:17:43.337357",
     "exception": false,
     "start_time": "2022-08-27T04:17:43.315747",
     "status": "completed"
    },
    "tags": []
   },
   "source": [
    "### Add number of tissues"
   ]
  },
  {
   "cell_type": "code",
   "execution_count": 87,
   "id": "b2702bdb-b3bc-48e6-9c3e-855924d9e74b",
   "metadata": {
    "execution": {
     "iopub.execute_input": "2022-08-27T04:17:43.380597Z",
     "iopub.status.busy": "2022-08-27T04:17:43.380424Z",
     "iopub.status.idle": "2022-08-27T04:17:43.395522Z",
     "shell.execute_reply": "2022-08-27T04:17:43.395098Z"
    },
    "papermill": {
     "duration": 0.038038,
     "end_time": "2022-08-27T04:17:43.396799",
     "exception": false,
     "start_time": "2022-08-27T04:17:43.358761",
     "status": "completed"
    },
    "tags": []
   },
   "outputs": [],
   "source": [
    "spredixcan_genes_models = spredixcan_genes_models.assign(\n",
    "    n_tissues=spredixcan_genes_models[\"tissue\"].apply(len)\n",
    ")"
   ]
  },
  {
   "cell_type": "code",
   "execution_count": 88,
   "id": "4a5eb4b8-5e11-45a3-a991-0515bd83fc03",
   "metadata": {
    "execution": {
     "iopub.execute_input": "2022-08-27T04:17:43.440019Z",
     "iopub.status.busy": "2022-08-27T04:17:43.439845Z",
     "iopub.status.idle": "2022-08-27T04:17:43.458144Z",
     "shell.execute_reply": "2022-08-27T04:17:43.457658Z"
    },
    "papermill": {
     "duration": 0.041091,
     "end_time": "2022-08-27T04:17:43.459287",
     "exception": false,
     "start_time": "2022-08-27T04:17:43.418196",
     "status": "completed"
    },
    "tags": []
   },
   "outputs": [
    {
     "data": {
      "text/html": [
       "<div>\n",
       "<style scoped>\n",
       "    .dataframe tbody tr th:only-of-type {\n",
       "        vertical-align: middle;\n",
       "    }\n",
       "\n",
       "    .dataframe tbody tr th {\n",
       "        vertical-align: top;\n",
       "    }\n",
       "\n",
       "    .dataframe thead th {\n",
       "        text-align: right;\n",
       "    }\n",
       "</style>\n",
       "<table border=\"1\" class=\"dataframe\">\n",
       "  <thead>\n",
       "    <tr style=\"text-align: right;\">\n",
       "      <th></th>\n",
       "      <th>gene_name</th>\n",
       "      <th>tissue</th>\n",
       "      <th>n_tissues</th>\n",
       "    </tr>\n",
       "    <tr>\n",
       "      <th>gene_id</th>\n",
       "      <th></th>\n",
       "      <th></th>\n",
       "      <th></th>\n",
       "    </tr>\n",
       "  </thead>\n",
       "  <tbody>\n",
       "    <tr>\n",
       "      <th>ENSG00000000419</th>\n",
       "      <td>DPM1</td>\n",
       "      <td>(Brain_Hypothalamus, Brain_Substantia_nigra)</td>\n",
       "      <td>2</td>\n",
       "    </tr>\n",
       "    <tr>\n",
       "      <th>ENSG00000000938</th>\n",
       "      <td>FGR</td>\n",
       "      <td>(Muscle_Skeletal, Liver, Testis, Adipose_Visce...</td>\n",
       "      <td>36</td>\n",
       "    </tr>\n",
       "    <tr>\n",
       "      <th>ENSG00000000971</th>\n",
       "      <td>CFH</td>\n",
       "      <td>(Testis, Heart_Atrial_Appendage, Pituitary, Ne...</td>\n",
       "      <td>34</td>\n",
       "    </tr>\n",
       "    <tr>\n",
       "      <th>ENSG00000001084</th>\n",
       "      <td>GCLC</td>\n",
       "      <td>(Muscle_Skeletal, Testis, Heart_Atrial_Appenda...</td>\n",
       "      <td>32</td>\n",
       "    </tr>\n",
       "    <tr>\n",
       "      <th>ENSG00000001167</th>\n",
       "      <td>NFYA</td>\n",
       "      <td>(Muscle_Skeletal, Testis, Adipose_Visceral_Ome...</td>\n",
       "      <td>40</td>\n",
       "    </tr>\n",
       "  </tbody>\n",
       "</table>\n",
       "</div>"
      ],
      "text/plain": [
       "                gene_name                                             tissue  \\\n",
       "gene_id                                                                        \n",
       "ENSG00000000419      DPM1       (Brain_Hypothalamus, Brain_Substantia_nigra)   \n",
       "ENSG00000000938       FGR  (Muscle_Skeletal, Liver, Testis, Adipose_Visce...   \n",
       "ENSG00000000971       CFH  (Testis, Heart_Atrial_Appendage, Pituitary, Ne...   \n",
       "ENSG00000001084      GCLC  (Muscle_Skeletal, Testis, Heart_Atrial_Appenda...   \n",
       "ENSG00000001167      NFYA  (Muscle_Skeletal, Testis, Adipose_Visceral_Ome...   \n",
       "\n",
       "                 n_tissues  \n",
       "gene_id                     \n",
       "ENSG00000000419          2  \n",
       "ENSG00000000938         36  \n",
       "ENSG00000000971         34  \n",
       "ENSG00000001084         32  \n",
       "ENSG00000001167         40  "
      ]
     },
     "execution_count": 88,
     "metadata": {},
     "output_type": "execute_result"
    }
   ],
   "source": [
    "spredixcan_genes_models.head()"
   ]
  },
  {
   "cell_type": "markdown",
   "id": "2abce820-1cb4-4a58-9dc5-b3e37d3ff037",
   "metadata": {
    "papermill": {
     "duration": 0.02109,
     "end_time": "2022-08-27T04:17:43.501617",
     "exception": false,
     "start_time": "2022-08-27T04:17:43.480527",
     "status": "completed"
    },
    "tags": []
   },
   "source": [
    "### Save"
   ]
  },
  {
   "cell_type": "markdown",
   "id": "28462e2a-da49-44c4-ae71-b3830a2b108f",
   "metadata": {
    "papermill": {
     "duration": 0.021906,
     "end_time": "2022-08-27T04:17:43.544834",
     "exception": false,
     "start_time": "2022-08-27T04:17:43.522928",
     "status": "completed"
    },
    "tags": []
   },
   "source": [
    "Here I quickly save these results to a file, given that the next steps (covariates) are slow to compute."
   ]
  },
  {
   "cell_type": "code",
   "execution_count": 89,
   "id": "9cfb687d-5ab2-4e85-9944-f5c685de8046",
   "metadata": {
    "execution": {
     "iopub.execute_input": "2022-08-27T04:17:43.588942Z",
     "iopub.status.busy": "2022-08-27T04:17:43.588783Z",
     "iopub.status.idle": "2022-08-27T04:17:43.602819Z",
     "shell.execute_reply": "2022-08-27T04:17:43.602357Z"
    },
    "papermill": {
     "duration": 0.037436,
     "end_time": "2022-08-27T04:17:43.604127",
     "exception": false,
     "start_time": "2022-08-27T04:17:43.566691",
     "status": "completed"
    },
    "tags": []
   },
   "outputs": [],
   "source": [
    "# this is important, other scripts depend on gene_name to be unique\n",
    "assert spredixcan_genes_models[\"gene_name\"].is_unique"
   ]
  },
  {
   "cell_type": "code",
   "execution_count": 90,
   "id": "b2d9bd26-afaa-4aff-a707-3109e13af9bb",
   "metadata": {
    "execution": {
     "iopub.execute_input": "2022-08-27T04:17:43.647740Z",
     "iopub.status.busy": "2022-08-27T04:17:43.647581Z",
     "iopub.status.idle": "2022-08-27T04:17:43.661084Z",
     "shell.execute_reply": "2022-08-27T04:17:43.660725Z"
    },
    "papermill": {
     "duration": 0.036797,
     "end_time": "2022-08-27T04:17:43.662364",
     "exception": false,
     "start_time": "2022-08-27T04:17:43.625567",
     "status": "completed"
    },
    "tags": []
   },
   "outputs": [],
   "source": [
    "assert not spredixcan_genes_models.isna().any(None)"
   ]
  },
  {
   "cell_type": "code",
   "execution_count": 91,
   "id": "074b103c-2960-4299-a3ac-fa37ab6f2784",
   "metadata": {
    "execution": {
     "iopub.execute_input": "2022-08-27T04:17:43.705338Z",
     "iopub.status.busy": "2022-08-27T04:17:43.705179Z",
     "iopub.status.idle": "2022-08-27T04:17:43.738600Z",
     "shell.execute_reply": "2022-08-27T04:17:43.738215Z"
    },
    "papermill": {
     "duration": 0.056611,
     "end_time": "2022-08-27T04:17:43.739947",
     "exception": false,
     "start_time": "2022-08-27T04:17:43.683336",
     "status": "completed"
    },
    "tags": []
   },
   "outputs": [],
   "source": [
    "spredixcan_genes_models.to_pickle(OUTPUT_DIR_BASE / \"gene_tissues.pkl\")"
   ]
  },
  {
   "cell_type": "markdown",
   "id": "ae18f693-4da8-48ae-85b6-8194abcca684",
   "metadata": {
    "papermill": {
     "duration": 0.021195,
     "end_time": "2022-08-27T04:17:43.782915",
     "exception": false,
     "start_time": "2022-08-27T04:17:43.761720",
     "status": "completed"
    },
    "tags": []
   },
   "source": [
    "## Add covariates based on S-PrediXcan results"
   ]
  },
  {
   "cell_type": "markdown",
   "id": "bed7a46c-4906-40b9-9dd8-0bfb584e6d2a",
   "metadata": {
    "papermill": {
     "duration": 0.021371,
     "end_time": "2022-08-27T04:17:43.825207",
     "exception": false,
     "start_time": "2022-08-27T04:17:43.803836",
     "status": "completed"
    },
    "tags": []
   },
   "source": [
    "This extend the previous file with more columns"
   ]
  },
  {
   "cell_type": "markdown",
   "id": "850c554f-2ace-40a3-a33a-477246bb07c7",
   "metadata": {
    "papermill": {
     "duration": 0.021858,
     "end_time": "2022-08-27T04:17:43.868647",
     "exception": false,
     "start_time": "2022-08-27T04:17:43.846789",
     "status": "completed"
    },
    "tags": []
   },
   "source": [
    "### Get gene's objects"
   ]
  },
  {
   "cell_type": "code",
   "execution_count": 92,
   "id": "dfd93711-5c91-4cb6-8561-f366e270b6b1",
   "metadata": {
    "execution": {
     "iopub.execute_input": "2022-08-27T04:17:43.911689Z",
     "iopub.status.busy": "2022-08-27T04:17:43.911513Z",
     "iopub.status.idle": "2022-08-27T04:17:43.932871Z",
     "shell.execute_reply": "2022-08-27T04:17:43.932492Z"
    },
    "papermill": {
     "duration": 0.044416,
     "end_time": "2022-08-27T04:17:43.934222",
     "exception": false,
     "start_time": "2022-08-27T04:17:43.889806",
     "status": "completed"
    },
    "tags": []
   },
   "outputs": [],
   "source": [
    "spredixcan_gene_obj = {\n",
    "    gene_id: Gene(ensembl_id=gene_id) for gene_id in spredixcan_genes_models.index\n",
    "}"
   ]
  },
  {
   "cell_type": "code",
   "execution_count": 93,
   "id": "59efbedc-0b5d-4d0b-bd82-95e74c0ba793",
   "metadata": {
    "execution": {
     "iopub.execute_input": "2022-08-27T04:17:43.978750Z",
     "iopub.status.busy": "2022-08-27T04:17:43.978586Z",
     "iopub.status.idle": "2022-08-27T04:17:43.993774Z",
     "shell.execute_reply": "2022-08-27T04:17:43.993382Z"
    },
    "papermill": {
     "duration": 0.038976,
     "end_time": "2022-08-27T04:17:43.994961",
     "exception": false,
     "start_time": "2022-08-27T04:17:43.955985",
     "status": "completed"
    },
    "tags": []
   },
   "outputs": [
    {
     "data": {
      "text/plain": [
       "6442"
      ]
     },
     "execution_count": 93,
     "metadata": {},
     "output_type": "execute_result"
    }
   ],
   "source": [
    "len(spredixcan_gene_obj)"
   ]
  },
  {
   "cell_type": "markdown",
   "id": "27ac1828-755a-424a-b416-6aef1f0c2e45",
   "metadata": {
    "papermill": {
     "duration": 0.021535,
     "end_time": "2022-08-27T04:17:44.038455",
     "exception": false,
     "start_time": "2022-08-27T04:17:44.016920",
     "status": "completed"
    },
    "tags": []
   },
   "source": [
    "### Add genes' variance captured by principal components"
   ]
  },
  {
   "cell_type": "code",
   "execution_count": 94,
   "id": "893b3418-054c-44d2-9ce0-7fa590aef00e",
   "metadata": {
    "execution": {
     "iopub.execute_input": "2022-08-27T04:17:44.082547Z",
     "iopub.status.busy": "2022-08-27T04:17:44.082377Z",
     "iopub.status.idle": "2022-08-27T04:17:44.095894Z",
     "shell.execute_reply": "2022-08-27T04:17:44.095539Z"
    },
    "papermill": {
     "duration": 0.037108,
     "end_time": "2022-08-27T04:17:44.097165",
     "exception": false,
     "start_time": "2022-08-27T04:17:44.060057",
     "status": "completed"
    },
    "tags": []
   },
   "outputs": [],
   "source": [
    "def _get_gene_pc_variance(gene_row):\n",
    "    gene_id = gene_row.name\n",
    "    gene_tissues = gene_row[\"tissue\"]\n",
    "    gene_obj = spredixcan_gene_obj[gene_id]\n",
    "\n",
    "    u, s, vt = gene_obj.get_tissues_correlations_svd(\n",
    "        tissues=gene_tissues,\n",
    "        snps_subset=gwas_variants_ids_set,\n",
    "        reference_panel=REFERENCE_PANEL,\n",
    "        model_type=EQTL_MODEL,\n",
    "        # use_covariance_matrix=True,\n",
    "    )\n",
    "\n",
    "    return s"
   ]
  },
  {
   "cell_type": "code",
   "execution_count": 95,
   "id": "083afa33-cea0-40d3-af20-94a1307a6607",
   "metadata": {
    "execution": {
     "iopub.execute_input": "2022-08-27T04:17:44.142191Z",
     "iopub.status.busy": "2022-08-27T04:17:44.142032Z",
     "iopub.status.idle": "2022-08-27T04:17:48.045278Z",
     "shell.execute_reply": "2022-08-27T04:17:48.044616Z"
    },
    "papermill": {
     "duration": 3.928023,
     "end_time": "2022-08-27T04:17:48.047192",
     "exception": false,
     "start_time": "2022-08-27T04:17:44.119169",
     "status": "completed"
    },
    "tags": []
   },
   "outputs": [
    {
     "data": {
      "text/plain": [
       "array([35.14301823,  3.87568728,  2.3091285 ,  1.90683623,  1.27573165])"
      ]
     },
     "execution_count": 95,
     "metadata": {},
     "output_type": "execute_result"
    }
   ],
   "source": [
    "_tmp = spredixcan_genes_models.loc[\"ENSG00000188976\"]\n",
    "_get_gene_pc_variance(_tmp)"
   ]
  },
  {
   "cell_type": "code",
   "execution_count": 96,
   "id": "80f7720d-79c9-4183-bb7e-b1480f31ed87",
   "metadata": {
    "execution": {
     "iopub.execute_input": "2022-08-27T04:17:48.110638Z",
     "iopub.status.busy": "2022-08-27T04:17:48.110392Z",
     "iopub.status.idle": "2022-08-27T05:36:27.195955Z",
     "shell.execute_reply": "2022-08-27T05:36:27.195474Z"
    },
    "papermill": {
     "duration": 4719.118583,
     "end_time": "2022-08-27T05:36:27.197769",
     "exception": false,
     "start_time": "2022-08-27T04:17:48.079186",
     "status": "completed"
    },
    "tags": []
   },
   "outputs": [],
   "source": [
    "spredixcan_genes_tissues_pc_variance = spredixcan_genes_models.apply(\n",
    "    _get_gene_pc_variance, axis=1\n",
    ")"
   ]
  },
  {
   "cell_type": "code",
   "execution_count": 97,
   "id": "621302a1-1407-4400-9282-e37798bb18b3",
   "metadata": {
    "execution": {
     "iopub.execute_input": "2022-08-27T05:36:27.330333Z",
     "iopub.status.busy": "2022-08-27T05:36:27.329984Z",
     "iopub.status.idle": "2022-08-27T05:36:34.063189Z",
     "shell.execute_reply": "2022-08-27T05:36:34.062053Z"
    },
    "papermill": {
     "duration": 6.786145,
     "end_time": "2022-08-27T05:36:34.066546",
     "exception": false,
     "start_time": "2022-08-27T05:36:27.280401",
     "status": "completed"
    },
    "tags": []
   },
   "outputs": [
    {
     "data": {
      "text/plain": [
       "gene_id\n",
       "ENSG00000000419             [1.0442398458252409, 0.9557601541747592]\n",
       "ENSG00000000938    [31.63266933637127, 2.0783677518511445, 1.2716...\n",
       "ENSG00000000971    [21.56076992568329, 7.310170987045466, 1.83778...\n",
       "ENSG00000001084    [21.291939080546527, 4.699418748743194, 2.2489...\n",
       "ENSG00000001167              [37.335660295497696, 1.391401960453836]\n",
       "                                         ...                        \n",
       "ENSG00000278540    [30.239540272954738, 3.0448326465798874, 1.679...\n",
       "ENSG00000278828             [3.0621823351096427, 0.9378176648903569]\n",
       "ENSG00000278845               [45.6874545101391, 2.2268019546482343]\n",
       "ENSG00000281005                                  [48.30170739785572]\n",
       "ENSG00000282608    [22.653514081237123, 6.24552003060454, 2.55594...\n",
       "Length: 6442, dtype: object"
      ]
     },
     "execution_count": 97,
     "metadata": {},
     "output_type": "execute_result"
    }
   ],
   "source": [
    "spredixcan_genes_tissues_pc_variance"
   ]
  },
  {
   "cell_type": "code",
   "execution_count": 98,
   "id": "9ac9e0fb-e0cc-4fea-ad01-2e76d40afb3c",
   "metadata": {
    "execution": {
     "iopub.execute_input": "2022-08-27T05:36:34.165713Z",
     "iopub.status.busy": "2022-08-27T05:36:34.165404Z",
     "iopub.status.idle": "2022-08-27T05:36:34.189082Z",
     "shell.execute_reply": "2022-08-27T05:36:34.188351Z"
    },
    "papermill": {
     "duration": 0.070889,
     "end_time": "2022-08-27T05:36:34.191274",
     "exception": false,
     "start_time": "2022-08-27T05:36:34.120385",
     "status": "completed"
    },
    "tags": []
   },
   "outputs": [],
   "source": [
    "# # testing\n",
    "# assert spredixcan_genes_tissues_pc_variance.loc[\n",
    "#     \"ENSG00000188976\"\n",
    "# ].sum() == pytest.approx(44.01605629086847)\n",
    "# # this is using the covariance:\n",
    "# # assert spredixcan_genes_tissues_pc_variance.loc[\"ENSG00000188976\"].sum() == pytest.approx(1.1492946006449425)"
   ]
  },
  {
   "cell_type": "code",
   "execution_count": 99,
   "id": "700ed8c8-16e3-4f44-80ff-a4355349ac26",
   "metadata": {
    "execution": {
     "iopub.execute_input": "2022-08-27T05:36:34.259918Z",
     "iopub.status.busy": "2022-08-27T05:36:34.259692Z",
     "iopub.status.idle": "2022-08-27T05:36:34.280725Z",
     "shell.execute_reply": "2022-08-27T05:36:34.280231Z"
    },
    "papermill": {
     "duration": 0.055879,
     "end_time": "2022-08-27T05:36:34.282446",
     "exception": false,
     "start_time": "2022-08-27T05:36:34.226567",
     "status": "completed"
    },
    "tags": []
   },
   "outputs": [],
   "source": [
    "# add to spredixcan_genes_models\n",
    "spredixcan_genes_models = spredixcan_genes_models.join(\n",
    "    spredixcan_genes_tissues_pc_variance.rename(\"tissues_pc_variances\")\n",
    ")"
   ]
  },
  {
   "cell_type": "code",
   "execution_count": 100,
   "id": "597f7dff-2425-490d-84d6-537f8bd0f147",
   "metadata": {
    "execution": {
     "iopub.execute_input": "2022-08-27T05:36:34.339971Z",
     "iopub.status.busy": "2022-08-27T05:36:34.339780Z",
     "iopub.status.idle": "2022-08-27T05:36:34.356788Z",
     "shell.execute_reply": "2022-08-27T05:36:34.356358Z"
    },
    "papermill": {
     "duration": 0.046148,
     "end_time": "2022-08-27T05:36:34.358129",
     "exception": false,
     "start_time": "2022-08-27T05:36:34.311981",
     "status": "completed"
    },
    "tags": []
   },
   "outputs": [
    {
     "data": {
      "text/plain": [
       "(6442, 4)"
      ]
     },
     "execution_count": 100,
     "metadata": {},
     "output_type": "execute_result"
    }
   ],
   "source": [
    "spredixcan_genes_models.shape"
   ]
  },
  {
   "cell_type": "code",
   "execution_count": 101,
   "id": "41bdb249-f7e3-4b07-a534-2c3e46db72dc",
   "metadata": {
    "execution": {
     "iopub.execute_input": "2022-08-27T05:36:34.407876Z",
     "iopub.status.busy": "2022-08-27T05:36:34.407705Z",
     "iopub.status.idle": "2022-08-27T05:36:34.428969Z",
     "shell.execute_reply": "2022-08-27T05:36:34.428264Z"
    },
    "papermill": {
     "duration": 0.047632,
     "end_time": "2022-08-27T05:36:34.430293",
     "exception": false,
     "start_time": "2022-08-27T05:36:34.382661",
     "status": "completed"
    },
    "tags": []
   },
   "outputs": [
    {
     "data": {
      "text/html": [
       "<div>\n",
       "<style scoped>\n",
       "    .dataframe tbody tr th:only-of-type {\n",
       "        vertical-align: middle;\n",
       "    }\n",
       "\n",
       "    .dataframe tbody tr th {\n",
       "        vertical-align: top;\n",
       "    }\n",
       "\n",
       "    .dataframe thead th {\n",
       "        text-align: right;\n",
       "    }\n",
       "</style>\n",
       "<table border=\"1\" class=\"dataframe\">\n",
       "  <thead>\n",
       "    <tr style=\"text-align: right;\">\n",
       "      <th></th>\n",
       "      <th>gene_name</th>\n",
       "      <th>tissue</th>\n",
       "      <th>n_tissues</th>\n",
       "      <th>tissues_pc_variances</th>\n",
       "    </tr>\n",
       "    <tr>\n",
       "      <th>gene_id</th>\n",
       "      <th></th>\n",
       "      <th></th>\n",
       "      <th></th>\n",
       "      <th></th>\n",
       "    </tr>\n",
       "  </thead>\n",
       "  <tbody>\n",
       "    <tr>\n",
       "      <th>ENSG00000000419</th>\n",
       "      <td>DPM1</td>\n",
       "      <td>(Brain_Hypothalamus, Brain_Substantia_nigra)</td>\n",
       "      <td>2</td>\n",
       "      <td>[1.0442398458252409, 0.9557601541747592]</td>\n",
       "    </tr>\n",
       "    <tr>\n",
       "      <th>ENSG00000000938</th>\n",
       "      <td>FGR</td>\n",
       "      <td>(Muscle_Skeletal, Liver, Testis, Adipose_Visce...</td>\n",
       "      <td>36</td>\n",
       "      <td>[31.63266933637127, 2.0783677518511445, 1.2716...</td>\n",
       "    </tr>\n",
       "    <tr>\n",
       "      <th>ENSG00000000971</th>\n",
       "      <td>CFH</td>\n",
       "      <td>(Testis, Heart_Atrial_Appendage, Pituitary, Ne...</td>\n",
       "      <td>34</td>\n",
       "      <td>[21.56076992568329, 7.310170987045466, 1.83778...</td>\n",
       "    </tr>\n",
       "    <tr>\n",
       "      <th>ENSG00000001084</th>\n",
       "      <td>GCLC</td>\n",
       "      <td>(Muscle_Skeletal, Testis, Heart_Atrial_Appenda...</td>\n",
       "      <td>32</td>\n",
       "      <td>[21.291939080546527, 4.699418748743194, 2.2489...</td>\n",
       "    </tr>\n",
       "    <tr>\n",
       "      <th>ENSG00000001167</th>\n",
       "      <td>NFYA</td>\n",
       "      <td>(Muscle_Skeletal, Testis, Adipose_Visceral_Ome...</td>\n",
       "      <td>40</td>\n",
       "      <td>[37.335660295497696, 1.391401960453836]</td>\n",
       "    </tr>\n",
       "  </tbody>\n",
       "</table>\n",
       "</div>"
      ],
      "text/plain": [
       "                gene_name                                             tissue  \\\n",
       "gene_id                                                                        \n",
       "ENSG00000000419      DPM1       (Brain_Hypothalamus, Brain_Substantia_nigra)   \n",
       "ENSG00000000938       FGR  (Muscle_Skeletal, Liver, Testis, Adipose_Visce...   \n",
       "ENSG00000000971       CFH  (Testis, Heart_Atrial_Appendage, Pituitary, Ne...   \n",
       "ENSG00000001084      GCLC  (Muscle_Skeletal, Testis, Heart_Atrial_Appenda...   \n",
       "ENSG00000001167      NFYA  (Muscle_Skeletal, Testis, Adipose_Visceral_Ome...   \n",
       "\n",
       "                 n_tissues                               tissues_pc_variances  \n",
       "gene_id                                                                        \n",
       "ENSG00000000419          2           [1.0442398458252409, 0.9557601541747592]  \n",
       "ENSG00000000938         36  [31.63266933637127, 2.0783677518511445, 1.2716...  \n",
       "ENSG00000000971         34  [21.56076992568329, 7.310170987045466, 1.83778...  \n",
       "ENSG00000001084         32  [21.291939080546527, 4.699418748743194, 2.2489...  \n",
       "ENSG00000001167         40            [37.335660295497696, 1.391401960453836]  "
      ]
     },
     "execution_count": 101,
     "metadata": {},
     "output_type": "execute_result"
    }
   ],
   "source": [
    "spredixcan_genes_models.head()"
   ]
  },
  {
   "cell_type": "markdown",
   "id": "ef1c76d7-485b-4e8a-932e-fd01382d5520",
   "metadata": {
    "papermill": {
     "duration": 0.022782,
     "end_time": "2022-08-27T05:36:34.476184",
     "exception": false,
     "start_time": "2022-08-27T05:36:34.453402",
     "status": "completed"
    },
    "tags": []
   },
   "source": [
    "### Add gene variance per tissue"
   ]
  },
  {
   "cell_type": "code",
   "execution_count": 102,
   "id": "530f7941-6ad7-4a29-b9e4-a006949282e0",
   "metadata": {
    "execution": {
     "iopub.execute_input": "2022-08-27T05:36:34.520778Z",
     "iopub.status.busy": "2022-08-27T05:36:34.520618Z",
     "iopub.status.idle": "2022-08-27T05:36:34.534620Z",
     "shell.execute_reply": "2022-08-27T05:36:34.534110Z"
    },
    "papermill": {
     "duration": 0.03752,
     "end_time": "2022-08-27T05:36:34.535877",
     "exception": false,
     "start_time": "2022-08-27T05:36:34.498357",
     "status": "completed"
    },
    "tags": []
   },
   "outputs": [],
   "source": [
    "def _get_gene_variances(gene_row):\n",
    "    gene_id = gene_row.name\n",
    "    gene_tissues = gene_row[\"tissue\"]\n",
    "\n",
    "    tissue_variances = {}\n",
    "    gene_obj = spredixcan_gene_obj[gene_id]\n",
    "\n",
    "    for tissue in gene_tissues:\n",
    "        tissue_var = gene_obj.get_pred_expression_variance(\n",
    "            tissue=tissue,\n",
    "            reference_panel=REFERENCE_PANEL,\n",
    "            model_type=EQTL_MODEL,\n",
    "            snps_subset=gwas_variants_ids_set,\n",
    "        )\n",
    "\n",
    "        if tissue_var is not None:\n",
    "            tissue_variances[tissue] = tissue_var\n",
    "\n",
    "    return tissue_variances"
   ]
  },
  {
   "cell_type": "code",
   "execution_count": 103,
   "id": "01eb9e6a-4505-44e6-9e6e-9788e257f319",
   "metadata": {
    "execution": {
     "iopub.execute_input": "2022-08-27T05:36:34.581150Z",
     "iopub.status.busy": "2022-08-27T05:36:34.580980Z",
     "iopub.status.idle": "2022-08-27T05:36:34.874098Z",
     "shell.execute_reply": "2022-08-27T05:36:34.873553Z"
    },
    "papermill": {
     "duration": 0.317329,
     "end_time": "2022-08-27T05:36:34.875451",
     "exception": false,
     "start_time": "2022-08-27T05:36:34.558122",
     "status": "completed"
    },
    "tags": []
   },
   "outputs": [
    {
     "data": {
      "text/plain": [
       "{'Brain_Hypothalamus': 0.013162153504206677,\n",
       " 'Brain_Substantia_nigra': 0.0004867380334260178}"
      ]
     },
     "execution_count": 103,
     "metadata": {},
     "output_type": "execute_result"
    }
   ],
   "source": [
    "_tmp = spredixcan_genes_models.loc[\"ENSG00000000419\"]\n",
    "_get_gene_variances(_tmp)"
   ]
  },
  {
   "cell_type": "code",
   "execution_count": 104,
   "id": "447061ec-4847-4911-a1d6-8b86d15e4aac",
   "metadata": {
    "execution": {
     "iopub.execute_input": "2022-08-27T05:36:34.921033Z",
     "iopub.status.busy": "2022-08-27T05:36:34.920850Z",
     "iopub.status.idle": "2022-08-27T06:33:10.601284Z",
     "shell.execute_reply": "2022-08-27T06:33:10.600557Z"
    },
    "papermill": {
     "duration": 3395.705201,
     "end_time": "2022-08-27T06:33:10.603231",
     "exception": false,
     "start_time": "2022-08-27T05:36:34.898030",
     "status": "completed"
    },
    "tags": []
   },
   "outputs": [],
   "source": [
    "spredixcan_genes_tissues_variance = spredixcan_genes_models.apply(\n",
    "    _get_gene_variances, axis=1\n",
    ")"
   ]
  },
  {
   "cell_type": "code",
   "execution_count": 105,
   "id": "816cbdd2-d667-4eaa-bbf7-335550854ee8",
   "metadata": {
    "execution": {
     "iopub.execute_input": "2022-08-27T06:33:10.685068Z",
     "iopub.status.busy": "2022-08-27T06:33:10.684818Z",
     "iopub.status.idle": "2022-08-27T06:33:10.866908Z",
     "shell.execute_reply": "2022-08-27T06:33:10.866516Z"
    },
    "papermill": {
     "duration": 0.239576,
     "end_time": "2022-08-27T06:33:10.868142",
     "exception": false,
     "start_time": "2022-08-27T06:33:10.628566",
     "status": "completed"
    },
    "tags": []
   },
   "outputs": [
    {
     "data": {
      "text/plain": [
       "gene_id\n",
       "ENSG00000000419    {'Brain_Hypothalamus': 0.013162153504206677, '...\n",
       "ENSG00000000938    {'Muscle_Skeletal': 0.011422007299369654, 'Liv...\n",
       "ENSG00000000971    {'Testis': 0.004542368000299983, 'Heart_Atrial...\n",
       "ENSG00000001084    {'Muscle_Skeletal': 0.0052333336977804, 'Testi...\n",
       "ENSG00000001167    {'Muscle_Skeletal': 0.01510698551052935, 'Test...\n",
       "                                         ...                        \n",
       "ENSG00000278540    {'Liver': 0.0012326283266175053, 'Adipose_Visc...\n",
       "ENSG00000278828    {'Esophagus_Muscularis': 0.0028940733819580685...\n",
       "ENSG00000278845    {'Muscle_Skeletal': 0.011807191511764039, 'Liv...\n",
       "ENSG00000281005    {'Muscle_Skeletal': 0.02096280211631604, 'Live...\n",
       "ENSG00000282608    {'Muscle_Skeletal': 0.002333323315667416, 'Liv...\n",
       "Length: 6442, dtype: object"
      ]
     },
     "execution_count": 105,
     "metadata": {},
     "output_type": "execute_result"
    }
   ],
   "source": [
    "spredixcan_genes_tissues_variance"
   ]
  },
  {
   "cell_type": "code",
   "execution_count": 106,
   "id": "68c65eb6-15c0-494d-992f-93bc84268a59",
   "metadata": {
    "execution": {
     "iopub.execute_input": "2022-08-27T06:33:10.913464Z",
     "iopub.status.busy": "2022-08-27T06:33:10.913296Z",
     "iopub.status.idle": "2022-08-27T06:33:10.927116Z",
     "shell.execute_reply": "2022-08-27T06:33:10.926759Z"
    },
    "papermill": {
     "duration": 0.038312,
     "end_time": "2022-08-27T06:33:10.928380",
     "exception": false,
     "start_time": "2022-08-27T06:33:10.890068",
     "status": "completed"
    },
    "tags": []
   },
   "outputs": [],
   "source": [
    "# # testing\n",
    "# _gene_id = \"ENSG00000188976\"\n",
    "# x = spredixcan_genes_tissues_variance.loc[_gene_id]\n",
    "# # expected value obtained by sum of PCA eigenvalues on this gene's predicted expression\n",
    "# assert np.sum(list(x.values())) == pytest.approx(1.2326202607409493)"
   ]
  },
  {
   "cell_type": "code",
   "execution_count": 107,
   "id": "1996453a-fdfc-44e9-bbdf-b83e3b3b1aee",
   "metadata": {
    "execution": {
     "iopub.execute_input": "2022-08-27T06:33:10.972657Z",
     "iopub.status.busy": "2022-08-27T06:33:10.972481Z",
     "iopub.status.idle": "2022-08-27T06:33:10.987383Z",
     "shell.execute_reply": "2022-08-27T06:33:10.987022Z"
    },
    "papermill": {
     "duration": 0.038315,
     "end_time": "2022-08-27T06:33:10.988529",
     "exception": false,
     "start_time": "2022-08-27T06:33:10.950214",
     "status": "completed"
    },
    "tags": []
   },
   "outputs": [
    {
     "data": {
      "text/plain": [
       "{'Brain_Hypothalamus': 0.013162153504206677,\n",
       " 'Brain_Substantia_nigra': 0.0004867380334260178}"
      ]
     },
     "execution_count": 107,
     "metadata": {},
     "output_type": "execute_result"
    }
   ],
   "source": [
    "# testing\n",
    "spredixcan_genes_tissues_variance.loc[\"ENSG00000000419\"]"
   ]
  },
  {
   "cell_type": "code",
   "execution_count": 108,
   "id": "62572b31-7e49-4ed0-ac1b-42552f3e264f",
   "metadata": {
    "execution": {
     "iopub.execute_input": "2022-08-27T06:33:11.032973Z",
     "iopub.status.busy": "2022-08-27T06:33:11.032799Z",
     "iopub.status.idle": "2022-08-27T06:33:11.045921Z",
     "shell.execute_reply": "2022-08-27T06:33:11.045567Z"
    },
    "papermill": {
     "duration": 0.037091,
     "end_time": "2022-08-27T06:33:11.047183",
     "exception": false,
     "start_time": "2022-08-27T06:33:11.010092",
     "status": "completed"
    },
    "tags": []
   },
   "outputs": [],
   "source": [
    "# FIXME: maybe add more tests, these differt from GTEX V8\n",
    "# # testing\n",
    "# # here values were obtained from S-PrediXcan results, where the reference panel is GTEX V8, not 1000G, so just approximations)\n",
    "# _gene_id = \"ENSG00000000419\"\n",
    "# assert spredixcan_genes_tissues_variance.loc[_gene_id][\"Brain_Substantia_nigra\"] == pytest.approx(0.0004266255268163448)\n",
    "# assert spredixcan_genes_tissues_variance.loc[_gene_id][\"Brain_Hypothalamus\"] == pytest.approx(0.011235877515236132)"
   ]
  },
  {
   "cell_type": "code",
   "execution_count": 109,
   "id": "88e42a97-801b-43a4-a829-4eaac03360b8",
   "metadata": {
    "execution": {
     "iopub.execute_input": "2022-08-27T06:33:11.092854Z",
     "iopub.status.busy": "2022-08-27T06:33:11.092691Z",
     "iopub.status.idle": "2022-08-27T06:33:11.108095Z",
     "shell.execute_reply": "2022-08-27T06:33:11.107738Z"
    },
    "papermill": {
     "duration": 0.039906,
     "end_time": "2022-08-27T06:33:11.109370",
     "exception": false,
     "start_time": "2022-08-27T06:33:11.069464",
     "status": "completed"
    },
    "tags": []
   },
   "outputs": [],
   "source": [
    "# add to spredixcan_genes_models\n",
    "spredixcan_genes_models = spredixcan_genes_models.join(\n",
    "    spredixcan_genes_tissues_variance.rename(\"tissues_variances\")\n",
    ")"
   ]
  },
  {
   "cell_type": "code",
   "execution_count": 110,
   "id": "cb177ca4-fdcb-432f-a102-9c6bd6bd7fa0",
   "metadata": {
    "execution": {
     "iopub.execute_input": "2022-08-27T06:33:11.154634Z",
     "iopub.status.busy": "2022-08-27T06:33:11.154445Z",
     "iopub.status.idle": "2022-08-27T06:33:11.168929Z",
     "shell.execute_reply": "2022-08-27T06:33:11.168520Z"
    },
    "papermill": {
     "duration": 0.0383,
     "end_time": "2022-08-27T06:33:11.170110",
     "exception": false,
     "start_time": "2022-08-27T06:33:11.131810",
     "status": "completed"
    },
    "tags": []
   },
   "outputs": [
    {
     "data": {
      "text/plain": [
       "(6442, 5)"
      ]
     },
     "execution_count": 110,
     "metadata": {},
     "output_type": "execute_result"
    }
   ],
   "source": [
    "spredixcan_genes_models.shape"
   ]
  },
  {
   "cell_type": "code",
   "execution_count": 111,
   "id": "ccabe1fa-20ae-4893-bf12-9a3359b213b8",
   "metadata": {
    "execution": {
     "iopub.execute_input": "2022-08-27T06:33:11.215236Z",
     "iopub.status.busy": "2022-08-27T06:33:11.215063Z",
     "iopub.status.idle": "2022-08-27T06:33:11.238193Z",
     "shell.execute_reply": "2022-08-27T06:33:11.237828Z"
    },
    "papermill": {
     "duration": 0.047055,
     "end_time": "2022-08-27T06:33:11.239337",
     "exception": false,
     "start_time": "2022-08-27T06:33:11.192282",
     "status": "completed"
    },
    "tags": []
   },
   "outputs": [
    {
     "data": {
      "text/html": [
       "<div>\n",
       "<style scoped>\n",
       "    .dataframe tbody tr th:only-of-type {\n",
       "        vertical-align: middle;\n",
       "    }\n",
       "\n",
       "    .dataframe tbody tr th {\n",
       "        vertical-align: top;\n",
       "    }\n",
       "\n",
       "    .dataframe thead th {\n",
       "        text-align: right;\n",
       "    }\n",
       "</style>\n",
       "<table border=\"1\" class=\"dataframe\">\n",
       "  <thead>\n",
       "    <tr style=\"text-align: right;\">\n",
       "      <th></th>\n",
       "      <th>gene_name</th>\n",
       "      <th>tissue</th>\n",
       "      <th>n_tissues</th>\n",
       "      <th>tissues_pc_variances</th>\n",
       "      <th>tissues_variances</th>\n",
       "    </tr>\n",
       "    <tr>\n",
       "      <th>gene_id</th>\n",
       "      <th></th>\n",
       "      <th></th>\n",
       "      <th></th>\n",
       "      <th></th>\n",
       "      <th></th>\n",
       "    </tr>\n",
       "  </thead>\n",
       "  <tbody>\n",
       "    <tr>\n",
       "      <th>ENSG00000000419</th>\n",
       "      <td>DPM1</td>\n",
       "      <td>(Brain_Hypothalamus, Brain_Substantia_nigra)</td>\n",
       "      <td>2</td>\n",
       "      <td>[1.0442398458252409, 0.9557601541747592]</td>\n",
       "      <td>{'Brain_Hypothalamus': 0.013162153504206677, '...</td>\n",
       "    </tr>\n",
       "    <tr>\n",
       "      <th>ENSG00000000938</th>\n",
       "      <td>FGR</td>\n",
       "      <td>(Muscle_Skeletal, Liver, Testis, Adipose_Visce...</td>\n",
       "      <td>36</td>\n",
       "      <td>[31.63266933637127, 2.0783677518511445, 1.2716...</td>\n",
       "      <td>{'Muscle_Skeletal': 0.011422007299369654, 'Liv...</td>\n",
       "    </tr>\n",
       "    <tr>\n",
       "      <th>ENSG00000000971</th>\n",
       "      <td>CFH</td>\n",
       "      <td>(Testis, Heart_Atrial_Appendage, Pituitary, Ne...</td>\n",
       "      <td>34</td>\n",
       "      <td>[21.56076992568329, 7.310170987045466, 1.83778...</td>\n",
       "      <td>{'Testis': 0.004542368000299983, 'Heart_Atrial...</td>\n",
       "    </tr>\n",
       "    <tr>\n",
       "      <th>ENSG00000001084</th>\n",
       "      <td>GCLC</td>\n",
       "      <td>(Muscle_Skeletal, Testis, Heart_Atrial_Appenda...</td>\n",
       "      <td>32</td>\n",
       "      <td>[21.291939080546527, 4.699418748743194, 2.2489...</td>\n",
       "      <td>{'Muscle_Skeletal': 0.0052333336977804, 'Testi...</td>\n",
       "    </tr>\n",
       "    <tr>\n",
       "      <th>ENSG00000001167</th>\n",
       "      <td>NFYA</td>\n",
       "      <td>(Muscle_Skeletal, Testis, Adipose_Visceral_Ome...</td>\n",
       "      <td>40</td>\n",
       "      <td>[37.335660295497696, 1.391401960453836]</td>\n",
       "      <td>{'Muscle_Skeletal': 0.01510698551052935, 'Test...</td>\n",
       "    </tr>\n",
       "  </tbody>\n",
       "</table>\n",
       "</div>"
      ],
      "text/plain": [
       "                gene_name                                             tissue  \\\n",
       "gene_id                                                                        \n",
       "ENSG00000000419      DPM1       (Brain_Hypothalamus, Brain_Substantia_nigra)   \n",
       "ENSG00000000938       FGR  (Muscle_Skeletal, Liver, Testis, Adipose_Visce...   \n",
       "ENSG00000000971       CFH  (Testis, Heart_Atrial_Appendage, Pituitary, Ne...   \n",
       "ENSG00000001084      GCLC  (Muscle_Skeletal, Testis, Heart_Atrial_Appenda...   \n",
       "ENSG00000001167      NFYA  (Muscle_Skeletal, Testis, Adipose_Visceral_Ome...   \n",
       "\n",
       "                 n_tissues                               tissues_pc_variances  \\\n",
       "gene_id                                                                         \n",
       "ENSG00000000419          2           [1.0442398458252409, 0.9557601541747592]   \n",
       "ENSG00000000938         36  [31.63266933637127, 2.0783677518511445, 1.2716...   \n",
       "ENSG00000000971         34  [21.56076992568329, 7.310170987045466, 1.83778...   \n",
       "ENSG00000001084         32  [21.291939080546527, 4.699418748743194, 2.2489...   \n",
       "ENSG00000001167         40            [37.335660295497696, 1.391401960453836]   \n",
       "\n",
       "                                                 tissues_variances  \n",
       "gene_id                                                             \n",
       "ENSG00000000419  {'Brain_Hypothalamus': 0.013162153504206677, '...  \n",
       "ENSG00000000938  {'Muscle_Skeletal': 0.011422007299369654, 'Liv...  \n",
       "ENSG00000000971  {'Testis': 0.004542368000299983, 'Heart_Atrial...  \n",
       "ENSG00000001084  {'Muscle_Skeletal': 0.0052333336977804, 'Testi...  \n",
       "ENSG00000001167  {'Muscle_Skeletal': 0.01510698551052935, 'Test...  "
      ]
     },
     "execution_count": 111,
     "metadata": {},
     "output_type": "execute_result"
    }
   ],
   "source": [
    "spredixcan_genes_models.head()"
   ]
  },
  {
   "cell_type": "markdown",
   "id": "ab6ff41a-0949-4eea-abef-7dc4f0b373fc",
   "metadata": {
    "papermill": {
     "duration": 0.022307,
     "end_time": "2022-08-27T06:33:11.283710",
     "exception": false,
     "start_time": "2022-08-27T06:33:11.261403",
     "status": "completed"
    },
    "tags": []
   },
   "source": [
    "### Count number of SNPs predictors used across tissue models"
   ]
  },
  {
   "cell_type": "code",
   "execution_count": 112,
   "id": "c8f6cc6f-5812-45c9-b775-6f2193f8a360",
   "metadata": {
    "execution": {
     "iopub.execute_input": "2022-08-27T06:33:11.329325Z",
     "iopub.status.busy": "2022-08-27T06:33:11.329161Z",
     "iopub.status.idle": "2022-08-27T06:33:11.376309Z",
     "shell.execute_reply": "2022-08-27T06:33:11.375892Z"
    },
    "papermill": {
     "duration": 0.071782,
     "end_time": "2022-08-27T06:33:11.377875",
     "exception": false,
     "start_time": "2022-08-27T06:33:11.306093",
     "status": "completed"
    },
    "tags": []
   },
   "outputs": [],
   "source": [
    "spredixcan_genes_sum_of_n_snps_used = (\n",
    "    spredixcan_dfs.groupby(\"gene_id\")[\"n_snps_used\"].sum().rename(\"n_snps_used_sum\")\n",
    ")"
   ]
  },
  {
   "cell_type": "code",
   "execution_count": 113,
   "id": "7255df64-7b9f-4504-a4fa-1f2a9aa56ec0",
   "metadata": {
    "execution": {
     "iopub.execute_input": "2022-08-27T06:33:11.425333Z",
     "iopub.status.busy": "2022-08-27T06:33:11.425141Z",
     "iopub.status.idle": "2022-08-27T06:33:11.442625Z",
     "shell.execute_reply": "2022-08-27T06:33:11.442252Z"
    },
    "papermill": {
     "duration": 0.041763,
     "end_time": "2022-08-27T06:33:11.443792",
     "exception": false,
     "start_time": "2022-08-27T06:33:11.402029",
     "status": "completed"
    },
    "tags": []
   },
   "outputs": [
    {
     "data": {
      "text/plain": [
       "gene_id\n",
       "ENSG00000000419     2\n",
       "ENSG00000000938    40\n",
       "ENSG00000000971    44\n",
       "ENSG00000001084    46\n",
       "ENSG00000001167    47\n",
       "                   ..\n",
       "ENSG00000278540    44\n",
       "ENSG00000278828     5\n",
       "ENSG00000278845    89\n",
       "ENSG00000281005    81\n",
       "ENSG00000282608    40\n",
       "Name: n_snps_used_sum, Length: 6442, dtype: int64"
      ]
     },
     "execution_count": 113,
     "metadata": {},
     "output_type": "execute_result"
    }
   ],
   "source": [
    "spredixcan_genes_sum_of_n_snps_used"
   ]
  },
  {
   "cell_type": "code",
   "execution_count": 114,
   "id": "44bc1222-b334-4ce2-8997-494d0e584cf9",
   "metadata": {
    "execution": {
     "iopub.execute_input": "2022-08-27T06:33:11.490253Z",
     "iopub.status.busy": "2022-08-27T06:33:11.490088Z",
     "iopub.status.idle": "2022-08-27T06:33:11.506119Z",
     "shell.execute_reply": "2022-08-27T06:33:11.505748Z"
    },
    "papermill": {
     "duration": 0.040991,
     "end_time": "2022-08-27T06:33:11.507397",
     "exception": false,
     "start_time": "2022-08-27T06:33:11.466406",
     "status": "completed"
    },
    "tags": []
   },
   "outputs": [],
   "source": [
    "# add sum of snps used to spredixcan_genes_models\n",
    "spredixcan_genes_models = spredixcan_genes_models.join(\n",
    "    spredixcan_genes_sum_of_n_snps_used\n",
    ")"
   ]
  },
  {
   "cell_type": "code",
   "execution_count": 115,
   "id": "5e5e6d7f-b970-4f21-9322-b76bc22afd71",
   "metadata": {
    "execution": {
     "iopub.execute_input": "2022-08-27T06:33:11.553530Z",
     "iopub.status.busy": "2022-08-27T06:33:11.553335Z",
     "iopub.status.idle": "2022-08-27T06:33:11.568688Z",
     "shell.execute_reply": "2022-08-27T06:33:11.568306Z"
    },
    "papermill": {
     "duration": 0.039832,
     "end_time": "2022-08-27T06:33:11.569877",
     "exception": false,
     "start_time": "2022-08-27T06:33:11.530045",
     "status": "completed"
    },
    "tags": []
   },
   "outputs": [
    {
     "data": {
      "text/plain": [
       "(6442, 6)"
      ]
     },
     "execution_count": 115,
     "metadata": {},
     "output_type": "execute_result"
    }
   ],
   "source": [
    "spredixcan_genes_models.shape"
   ]
  },
  {
   "cell_type": "code",
   "execution_count": 116,
   "id": "22c096c2-213a-4001-8454-1633997d404f",
   "metadata": {
    "execution": {
     "iopub.execute_input": "2022-08-27T06:33:11.616161Z",
     "iopub.status.busy": "2022-08-27T06:33:11.615987Z",
     "iopub.status.idle": "2022-08-27T06:33:11.639451Z",
     "shell.execute_reply": "2022-08-27T06:33:11.639088Z"
    },
    "papermill": {
     "duration": 0.048453,
     "end_time": "2022-08-27T06:33:11.640606",
     "exception": false,
     "start_time": "2022-08-27T06:33:11.592153",
     "status": "completed"
    },
    "tags": []
   },
   "outputs": [
    {
     "data": {
      "text/html": [
       "<div>\n",
       "<style scoped>\n",
       "    .dataframe tbody tr th:only-of-type {\n",
       "        vertical-align: middle;\n",
       "    }\n",
       "\n",
       "    .dataframe tbody tr th {\n",
       "        vertical-align: top;\n",
       "    }\n",
       "\n",
       "    .dataframe thead th {\n",
       "        text-align: right;\n",
       "    }\n",
       "</style>\n",
       "<table border=\"1\" class=\"dataframe\">\n",
       "  <thead>\n",
       "    <tr style=\"text-align: right;\">\n",
       "      <th></th>\n",
       "      <th>gene_name</th>\n",
       "      <th>tissue</th>\n",
       "      <th>n_tissues</th>\n",
       "      <th>tissues_pc_variances</th>\n",
       "      <th>tissues_variances</th>\n",
       "      <th>n_snps_used_sum</th>\n",
       "    </tr>\n",
       "    <tr>\n",
       "      <th>gene_id</th>\n",
       "      <th></th>\n",
       "      <th></th>\n",
       "      <th></th>\n",
       "      <th></th>\n",
       "      <th></th>\n",
       "      <th></th>\n",
       "    </tr>\n",
       "  </thead>\n",
       "  <tbody>\n",
       "    <tr>\n",
       "      <th>ENSG00000000419</th>\n",
       "      <td>DPM1</td>\n",
       "      <td>(Brain_Hypothalamus, Brain_Substantia_nigra)</td>\n",
       "      <td>2</td>\n",
       "      <td>[1.0442398458252409, 0.9557601541747592]</td>\n",
       "      <td>{'Brain_Hypothalamus': 0.013162153504206677, '...</td>\n",
       "      <td>2</td>\n",
       "    </tr>\n",
       "    <tr>\n",
       "      <th>ENSG00000000938</th>\n",
       "      <td>FGR</td>\n",
       "      <td>(Muscle_Skeletal, Liver, Testis, Adipose_Visce...</td>\n",
       "      <td>36</td>\n",
       "      <td>[31.63266933637127, 2.0783677518511445, 1.2716...</td>\n",
       "      <td>{'Muscle_Skeletal': 0.011422007299369654, 'Liv...</td>\n",
       "      <td>40</td>\n",
       "    </tr>\n",
       "    <tr>\n",
       "      <th>ENSG00000000971</th>\n",
       "      <td>CFH</td>\n",
       "      <td>(Testis, Heart_Atrial_Appendage, Pituitary, Ne...</td>\n",
       "      <td>34</td>\n",
       "      <td>[21.56076992568329, 7.310170987045466, 1.83778...</td>\n",
       "      <td>{'Testis': 0.004542368000299983, 'Heart_Atrial...</td>\n",
       "      <td>44</td>\n",
       "    </tr>\n",
       "    <tr>\n",
       "      <th>ENSG00000001084</th>\n",
       "      <td>GCLC</td>\n",
       "      <td>(Muscle_Skeletal, Testis, Heart_Atrial_Appenda...</td>\n",
       "      <td>32</td>\n",
       "      <td>[21.291939080546527, 4.699418748743194, 2.2489...</td>\n",
       "      <td>{'Muscle_Skeletal': 0.0052333336977804, 'Testi...</td>\n",
       "      <td>46</td>\n",
       "    </tr>\n",
       "    <tr>\n",
       "      <th>ENSG00000001167</th>\n",
       "      <td>NFYA</td>\n",
       "      <td>(Muscle_Skeletal, Testis, Adipose_Visceral_Ome...</td>\n",
       "      <td>40</td>\n",
       "      <td>[37.335660295497696, 1.391401960453836]</td>\n",
       "      <td>{'Muscle_Skeletal': 0.01510698551052935, 'Test...</td>\n",
       "      <td>47</td>\n",
       "    </tr>\n",
       "  </tbody>\n",
       "</table>\n",
       "</div>"
      ],
      "text/plain": [
       "                gene_name                                             tissue  \\\n",
       "gene_id                                                                        \n",
       "ENSG00000000419      DPM1       (Brain_Hypothalamus, Brain_Substantia_nigra)   \n",
       "ENSG00000000938       FGR  (Muscle_Skeletal, Liver, Testis, Adipose_Visce...   \n",
       "ENSG00000000971       CFH  (Testis, Heart_Atrial_Appendage, Pituitary, Ne...   \n",
       "ENSG00000001084      GCLC  (Muscle_Skeletal, Testis, Heart_Atrial_Appenda...   \n",
       "ENSG00000001167      NFYA  (Muscle_Skeletal, Testis, Adipose_Visceral_Ome...   \n",
       "\n",
       "                 n_tissues                               tissues_pc_variances  \\\n",
       "gene_id                                                                         \n",
       "ENSG00000000419          2           [1.0442398458252409, 0.9557601541747592]   \n",
       "ENSG00000000938         36  [31.63266933637127, 2.0783677518511445, 1.2716...   \n",
       "ENSG00000000971         34  [21.56076992568329, 7.310170987045466, 1.83778...   \n",
       "ENSG00000001084         32  [21.291939080546527, 4.699418748743194, 2.2489...   \n",
       "ENSG00000001167         40            [37.335660295497696, 1.391401960453836]   \n",
       "\n",
       "                                                 tissues_variances  \\\n",
       "gene_id                                                              \n",
       "ENSG00000000419  {'Brain_Hypothalamus': 0.013162153504206677, '...   \n",
       "ENSG00000000938  {'Muscle_Skeletal': 0.011422007299369654, 'Liv...   \n",
       "ENSG00000000971  {'Testis': 0.004542368000299983, 'Heart_Atrial...   \n",
       "ENSG00000001084  {'Muscle_Skeletal': 0.0052333336977804, 'Testi...   \n",
       "ENSG00000001167  {'Muscle_Skeletal': 0.01510698551052935, 'Test...   \n",
       "\n",
       "                 n_snps_used_sum  \n",
       "gene_id                           \n",
       "ENSG00000000419                2  \n",
       "ENSG00000000938               40  \n",
       "ENSG00000000971               44  \n",
       "ENSG00000001084               46  \n",
       "ENSG00000001167               47  "
      ]
     },
     "execution_count": 116,
     "metadata": {},
     "output_type": "execute_result"
    }
   ],
   "source": [
    "spredixcan_genes_models.head()"
   ]
  },
  {
   "cell_type": "markdown",
   "id": "f4692315-d7be-465e-b756-f6d76fec949e",
   "metadata": {
    "papermill": {
     "duration": 0.022938,
     "end_time": "2022-08-27T06:33:11.686418",
     "exception": false,
     "start_time": "2022-08-27T06:33:11.663480",
     "status": "completed"
    },
    "tags": []
   },
   "source": [
    "### Count number of SNPs predictors in models across tissue models"
   ]
  },
  {
   "cell_type": "code",
   "execution_count": 117,
   "id": "08eed385-36eb-4e42-b28e-51333f9cfcd3",
   "metadata": {
    "execution": {
     "iopub.execute_input": "2022-08-27T06:33:11.733647Z",
     "iopub.status.busy": "2022-08-27T06:33:11.733440Z",
     "iopub.status.idle": "2022-08-27T06:33:11.780389Z",
     "shell.execute_reply": "2022-08-27T06:33:11.779960Z"
    },
    "papermill": {
     "duration": 0.072391,
     "end_time": "2022-08-27T06:33:11.781945",
     "exception": false,
     "start_time": "2022-08-27T06:33:11.709554",
     "status": "completed"
    },
    "tags": []
   },
   "outputs": [],
   "source": [
    "spredixcan_genes_sum_of_n_snps_in_model = (\n",
    "    spredixcan_dfs.groupby(\"gene_id\")[\"n_snps_in_model\"]\n",
    "    .sum()\n",
    "    .rename(\"n_snps_in_model_sum\")\n",
    ")"
   ]
  },
  {
   "cell_type": "code",
   "execution_count": 118,
   "id": "10431f5c-1f56-4664-a09f-53c608bec631",
   "metadata": {
    "execution": {
     "iopub.execute_input": "2022-08-27T06:33:11.830189Z",
     "iopub.status.busy": "2022-08-27T06:33:11.829999Z",
     "iopub.status.idle": "2022-08-27T06:33:11.847250Z",
     "shell.execute_reply": "2022-08-27T06:33:11.846881Z"
    },
    "papermill": {
     "duration": 0.042672,
     "end_time": "2022-08-27T06:33:11.848408",
     "exception": false,
     "start_time": "2022-08-27T06:33:11.805736",
     "status": "completed"
    },
    "tags": []
   },
   "outputs": [
    {
     "data": {
      "text/plain": [
       "gene_id\n",
       "ENSG00000000419     2\n",
       "ENSG00000000938    40\n",
       "ENSG00000000971    44\n",
       "ENSG00000001084    46\n",
       "ENSG00000001167    48\n",
       "                   ..\n",
       "ENSG00000278540    44\n",
       "ENSG00000278828     5\n",
       "ENSG00000278845    91\n",
       "ENSG00000281005    81\n",
       "ENSG00000282608    40\n",
       "Name: n_snps_in_model_sum, Length: 6442, dtype: int64"
      ]
     },
     "execution_count": 118,
     "metadata": {},
     "output_type": "execute_result"
    }
   ],
   "source": [
    "spredixcan_genes_sum_of_n_snps_in_model"
   ]
  },
  {
   "cell_type": "code",
   "execution_count": 119,
   "id": "d13e1d65-0dcb-4a94-aba8-bcdcd09d17c3",
   "metadata": {
    "execution": {
     "iopub.execute_input": "2022-08-27T06:33:11.895878Z",
     "iopub.status.busy": "2022-08-27T06:33:11.895705Z",
     "iopub.status.idle": "2022-08-27T06:33:11.911792Z",
     "shell.execute_reply": "2022-08-27T06:33:11.911401Z"
    },
    "papermill": {
     "duration": 0.041743,
     "end_time": "2022-08-27T06:33:11.913116",
     "exception": false,
     "start_time": "2022-08-27T06:33:11.871373",
     "status": "completed"
    },
    "tags": []
   },
   "outputs": [],
   "source": [
    "# add sum of snps in model to spredixcan_genes_models\n",
    "spredixcan_genes_models = spredixcan_genes_models.join(\n",
    "    spredixcan_genes_sum_of_n_snps_in_model\n",
    ")"
   ]
  },
  {
   "cell_type": "code",
   "execution_count": 120,
   "id": "0d3973d8-5da2-4c9d-b406-2525f615035c",
   "metadata": {
    "execution": {
     "iopub.execute_input": "2022-08-27T06:33:11.961328Z",
     "iopub.status.busy": "2022-08-27T06:33:11.961153Z",
     "iopub.status.idle": "2022-08-27T06:33:11.976717Z",
     "shell.execute_reply": "2022-08-27T06:33:11.976325Z"
    },
    "papermill": {
     "duration": 0.041115,
     "end_time": "2022-08-27T06:33:11.977866",
     "exception": false,
     "start_time": "2022-08-27T06:33:11.936751",
     "status": "completed"
    },
    "tags": []
   },
   "outputs": [
    {
     "data": {
      "text/plain": [
       "(6442, 7)"
      ]
     },
     "execution_count": 120,
     "metadata": {},
     "output_type": "execute_result"
    }
   ],
   "source": [
    "spredixcan_genes_models.shape"
   ]
  },
  {
   "cell_type": "code",
   "execution_count": 121,
   "id": "76c27f05-c5c6-4ed9-9363-fcba871a3572",
   "metadata": {
    "execution": {
     "iopub.execute_input": "2022-08-27T06:33:12.025669Z",
     "iopub.status.busy": "2022-08-27T06:33:12.025499Z",
     "iopub.status.idle": "2022-08-27T06:33:12.049567Z",
     "shell.execute_reply": "2022-08-27T06:33:12.049197Z"
    },
    "papermill": {
     "duration": 0.049442,
     "end_time": "2022-08-27T06:33:12.050730",
     "exception": false,
     "start_time": "2022-08-27T06:33:12.001288",
     "status": "completed"
    },
    "tags": []
   },
   "outputs": [
    {
     "data": {
      "text/html": [
       "<div>\n",
       "<style scoped>\n",
       "    .dataframe tbody tr th:only-of-type {\n",
       "        vertical-align: middle;\n",
       "    }\n",
       "\n",
       "    .dataframe tbody tr th {\n",
       "        vertical-align: top;\n",
       "    }\n",
       "\n",
       "    .dataframe thead th {\n",
       "        text-align: right;\n",
       "    }\n",
       "</style>\n",
       "<table border=\"1\" class=\"dataframe\">\n",
       "  <thead>\n",
       "    <tr style=\"text-align: right;\">\n",
       "      <th></th>\n",
       "      <th>gene_name</th>\n",
       "      <th>tissue</th>\n",
       "      <th>n_tissues</th>\n",
       "      <th>tissues_pc_variances</th>\n",
       "      <th>tissues_variances</th>\n",
       "      <th>n_snps_used_sum</th>\n",
       "      <th>n_snps_in_model_sum</th>\n",
       "    </tr>\n",
       "    <tr>\n",
       "      <th>gene_id</th>\n",
       "      <th></th>\n",
       "      <th></th>\n",
       "      <th></th>\n",
       "      <th></th>\n",
       "      <th></th>\n",
       "      <th></th>\n",
       "      <th></th>\n",
       "    </tr>\n",
       "  </thead>\n",
       "  <tbody>\n",
       "    <tr>\n",
       "      <th>ENSG00000000419</th>\n",
       "      <td>DPM1</td>\n",
       "      <td>(Brain_Hypothalamus, Brain_Substantia_nigra)</td>\n",
       "      <td>2</td>\n",
       "      <td>[1.0442398458252409, 0.9557601541747592]</td>\n",
       "      <td>{'Brain_Hypothalamus': 0.013162153504206677, '...</td>\n",
       "      <td>2</td>\n",
       "      <td>2</td>\n",
       "    </tr>\n",
       "    <tr>\n",
       "      <th>ENSG00000000938</th>\n",
       "      <td>FGR</td>\n",
       "      <td>(Muscle_Skeletal, Liver, Testis, Adipose_Visce...</td>\n",
       "      <td>36</td>\n",
       "      <td>[31.63266933637127, 2.0783677518511445, 1.2716...</td>\n",
       "      <td>{'Muscle_Skeletal': 0.011422007299369654, 'Liv...</td>\n",
       "      <td>40</td>\n",
       "      <td>40</td>\n",
       "    </tr>\n",
       "    <tr>\n",
       "      <th>ENSG00000000971</th>\n",
       "      <td>CFH</td>\n",
       "      <td>(Testis, Heart_Atrial_Appendage, Pituitary, Ne...</td>\n",
       "      <td>34</td>\n",
       "      <td>[21.56076992568329, 7.310170987045466, 1.83778...</td>\n",
       "      <td>{'Testis': 0.004542368000299983, 'Heart_Atrial...</td>\n",
       "      <td>44</td>\n",
       "      <td>44</td>\n",
       "    </tr>\n",
       "    <tr>\n",
       "      <th>ENSG00000001084</th>\n",
       "      <td>GCLC</td>\n",
       "      <td>(Muscle_Skeletal, Testis, Heart_Atrial_Appenda...</td>\n",
       "      <td>32</td>\n",
       "      <td>[21.291939080546527, 4.699418748743194, 2.2489...</td>\n",
       "      <td>{'Muscle_Skeletal': 0.0052333336977804, 'Testi...</td>\n",
       "      <td>46</td>\n",
       "      <td>46</td>\n",
       "    </tr>\n",
       "    <tr>\n",
       "      <th>ENSG00000001167</th>\n",
       "      <td>NFYA</td>\n",
       "      <td>(Muscle_Skeletal, Testis, Adipose_Visceral_Ome...</td>\n",
       "      <td>40</td>\n",
       "      <td>[37.335660295497696, 1.391401960453836]</td>\n",
       "      <td>{'Muscle_Skeletal': 0.01510698551052935, 'Test...</td>\n",
       "      <td>47</td>\n",
       "      <td>48</td>\n",
       "    </tr>\n",
       "  </tbody>\n",
       "</table>\n",
       "</div>"
      ],
      "text/plain": [
       "                gene_name                                             tissue  \\\n",
       "gene_id                                                                        \n",
       "ENSG00000000419      DPM1       (Brain_Hypothalamus, Brain_Substantia_nigra)   \n",
       "ENSG00000000938       FGR  (Muscle_Skeletal, Liver, Testis, Adipose_Visce...   \n",
       "ENSG00000000971       CFH  (Testis, Heart_Atrial_Appendage, Pituitary, Ne...   \n",
       "ENSG00000001084      GCLC  (Muscle_Skeletal, Testis, Heart_Atrial_Appenda...   \n",
       "ENSG00000001167      NFYA  (Muscle_Skeletal, Testis, Adipose_Visceral_Ome...   \n",
       "\n",
       "                 n_tissues                               tissues_pc_variances  \\\n",
       "gene_id                                                                         \n",
       "ENSG00000000419          2           [1.0442398458252409, 0.9557601541747592]   \n",
       "ENSG00000000938         36  [31.63266933637127, 2.0783677518511445, 1.2716...   \n",
       "ENSG00000000971         34  [21.56076992568329, 7.310170987045466, 1.83778...   \n",
       "ENSG00000001084         32  [21.291939080546527, 4.699418748743194, 2.2489...   \n",
       "ENSG00000001167         40            [37.335660295497696, 1.391401960453836]   \n",
       "\n",
       "                                                 tissues_variances  \\\n",
       "gene_id                                                              \n",
       "ENSG00000000419  {'Brain_Hypothalamus': 0.013162153504206677, '...   \n",
       "ENSG00000000938  {'Muscle_Skeletal': 0.011422007299369654, 'Liv...   \n",
       "ENSG00000000971  {'Testis': 0.004542368000299983, 'Heart_Atrial...   \n",
       "ENSG00000001084  {'Muscle_Skeletal': 0.0052333336977804, 'Testi...   \n",
       "ENSG00000001167  {'Muscle_Skeletal': 0.01510698551052935, 'Test...   \n",
       "\n",
       "                 n_snps_used_sum  n_snps_in_model_sum  \n",
       "gene_id                                                \n",
       "ENSG00000000419                2                    2  \n",
       "ENSG00000000938               40                   40  \n",
       "ENSG00000000971               44                   44  \n",
       "ENSG00000001084               46                   46  \n",
       "ENSG00000001167               47                   48  "
      ]
     },
     "execution_count": 121,
     "metadata": {},
     "output_type": "execute_result"
    }
   ],
   "source": [
    "spredixcan_genes_models.head()"
   ]
  },
  {
   "cell_type": "markdown",
   "id": "e9f61a50-a5b5-4c85-9dec-3ceaaf65c61d",
   "metadata": {
    "papermill": {
     "duration": 0.024657,
     "end_time": "2022-08-27T06:33:12.099304",
     "exception": false,
     "start_time": "2022-08-27T06:33:12.074647",
     "status": "completed"
    },
    "tags": []
   },
   "source": [
    "### Summarize prediction models for each gene"
   ]
  },
  {
   "cell_type": "code",
   "execution_count": 122,
   "id": "4f44928f-b401-4abb-ac00-3b15b2746504",
   "metadata": {
    "execution": {
     "iopub.execute_input": "2022-08-27T06:33:12.148302Z",
     "iopub.status.busy": "2022-08-27T06:33:12.148111Z",
     "iopub.status.idle": "2022-08-27T06:33:12.164357Z",
     "shell.execute_reply": "2022-08-27T06:33:12.163985Z"
    },
    "papermill": {
     "duration": 0.042346,
     "end_time": "2022-08-27T06:33:12.165669",
     "exception": false,
     "start_time": "2022-08-27T06:33:12.123323",
     "status": "completed"
    },
    "tags": []
   },
   "outputs": [],
   "source": [
    "def _summarize_gene_models(gene_id):\n",
    "    \"\"\"\n",
    "    For a given gene ID, it returns a dataframe with predictor SNPs in rows and tissues in columns, where\n",
    "    values are the weights of SNPs in those tissues.\n",
    "    It can contain NaNs.\n",
    "    \"\"\"\n",
    "    gene_obj = spredixcan_gene_obj[gene_id]\n",
    "    gene_tissues = spredixcan_genes_models.loc[gene_id, \"tissue\"]\n",
    "\n",
    "    gene_models = {}\n",
    "    gene_unique_snps = set()\n",
    "    for t in gene_tissues:\n",
    "        gene_model = gene_obj.get_prediction_weights(tissue=t, model_type=EQTL_MODEL)\n",
    "        gene_models[t] = gene_model\n",
    "\n",
    "        gene_unique_snps.update(set(gene_model.index))\n",
    "\n",
    "    df = pd.DataFrame(\n",
    "        data=np.nan, index=list(gene_unique_snps), columns=list(gene_tissues)\n",
    "    )\n",
    "\n",
    "    for t in df.columns:\n",
    "        for snp in df.index:\n",
    "            gene_model = gene_models[t]\n",
    "\n",
    "            if snp in gene_model.index:\n",
    "                df.loc[snp, t] = gene_model.loc[snp]\n",
    "\n",
    "    return df"
   ]
  },
  {
   "cell_type": "code",
   "execution_count": 123,
   "id": "71bb0b5a-fe44-4076-91df-d8077ff85c71",
   "metadata": {
    "execution": {
     "iopub.execute_input": "2022-08-27T06:33:12.212430Z",
     "iopub.status.busy": "2022-08-27T06:33:12.212255Z",
     "iopub.status.idle": "2022-08-27T06:33:12.234029Z",
     "shell.execute_reply": "2022-08-27T06:33:12.233656Z"
    },
    "papermill": {
     "duration": 0.046538,
     "end_time": "2022-08-27T06:33:12.235204",
     "exception": false,
     "start_time": "2022-08-27T06:33:12.188666",
     "status": "completed"
    },
    "tags": []
   },
   "outputs": [
    {
     "data": {
      "text/plain": [
       "varID\n",
       "chr20_50862947_C_T_b38    0.431375\n",
       "Name: weight, dtype: float64"
      ]
     },
     "execution_count": 123,
     "metadata": {},
     "output_type": "execute_result"
    }
   ],
   "source": [
    "# testing\n",
    "spredixcan_gene_obj[\"ENSG00000000419\"].get_prediction_weights(\n",
    "    tissue=\"Brain_Hypothalamus\", model_type=EQTL_MODEL\n",
    ")"
   ]
  },
  {
   "cell_type": "code",
   "execution_count": 124,
   "id": "ad18b2d9-f585-445b-a809-bd694d417a8a",
   "metadata": {
    "execution": {
     "iopub.execute_input": "2022-08-27T06:33:12.282292Z",
     "iopub.status.busy": "2022-08-27T06:33:12.282114Z",
     "iopub.status.idle": "2022-08-27T06:33:12.304075Z",
     "shell.execute_reply": "2022-08-27T06:33:12.303659Z"
    },
    "papermill": {
     "duration": 0.047237,
     "end_time": "2022-08-27T06:33:12.305289",
     "exception": false,
     "start_time": "2022-08-27T06:33:12.258052",
     "status": "completed"
    },
    "tags": []
   },
   "outputs": [
    {
     "data": {
      "text/plain": [
       "varID\n",
       "chr20_50957480_C_T_b38   -0.146796\n",
       "Name: weight, dtype: float64"
      ]
     },
     "execution_count": 124,
     "metadata": {},
     "output_type": "execute_result"
    }
   ],
   "source": [
    "spredixcan_gene_obj[\"ENSG00000000419\"].get_prediction_weights(\n",
    "    tissue=\"Brain_Substantia_nigra\", model_type=EQTL_MODEL\n",
    ")"
   ]
  },
  {
   "cell_type": "code",
   "execution_count": 125,
   "id": "82ef5dec-283c-44ee-a118-b28d87a5b298",
   "metadata": {
    "execution": {
     "iopub.execute_input": "2022-08-27T06:33:12.353740Z",
     "iopub.status.busy": "2022-08-27T06:33:12.353568Z",
     "iopub.status.idle": "2022-08-27T06:33:12.367455Z",
     "shell.execute_reply": "2022-08-27T06:33:12.367094Z"
    },
    "papermill": {
     "duration": 0.039877,
     "end_time": "2022-08-27T06:33:12.368815",
     "exception": false,
     "start_time": "2022-08-27T06:33:12.328938",
     "status": "completed"
    },
    "tags": []
   },
   "outputs": [],
   "source": [
    "# # testing\n",
    "# _gene_id = \"ENSG00000000419\"\n",
    "\n",
    "# _gene_model = _summarize_gene_models(_gene_id)\n",
    "# assert (\n",
    "#     _gene_model.loc[\"chr20_50862947_C_T_b38\", \"Brain_Hypothalamus\"].round(5) == 0.43138\n",
    "# )\n",
    "# assert pd.isnull(_gene_model.loc[\"chr20_50957480_C_T_b38\", \"Brain_Hypothalamus\"])\n",
    "\n",
    "# assert pd.isnull(_gene_model.loc[\"chr20_50862947_C_T_b38\", \"Brain_Substantia_nigra\"])\n",
    "# assert (\n",
    "#     _gene_model.loc[\"chr20_50957480_C_T_b38\", \"Brain_Substantia_nigra\"].round(5)\n",
    "#     == -0.1468\n",
    "# )"
   ]
  },
  {
   "cell_type": "code",
   "execution_count": 126,
   "id": "134a7533-69e8-4858-8763-1fd45cbdec77",
   "metadata": {
    "execution": {
     "iopub.execute_input": "2022-08-27T06:33:12.419949Z",
     "iopub.status.busy": "2022-08-27T06:33:12.419773Z",
     "iopub.status.idle": "2022-08-27T06:48:16.104000Z",
     "shell.execute_reply": "2022-08-27T06:48:16.103244Z"
    },
    "papermill": {
     "duration": 903.713793,
     "end_time": "2022-08-27T06:48:16.106038",
     "exception": false,
     "start_time": "2022-08-27T06:33:12.392245",
     "status": "completed"
    },
    "tags": []
   },
   "outputs": [],
   "source": [
    "gene_models = {}\n",
    "\n",
    "for gene_id in spredixcan_genes_models.index:\n",
    "    gene_models[gene_id] = _summarize_gene_models(gene_id)"
   ]
  },
  {
   "cell_type": "code",
   "execution_count": 127,
   "id": "97117dc0-0476-4e7b-98cb-6738dbb28c8a",
   "metadata": {
    "execution": {
     "iopub.execute_input": "2022-08-27T06:48:16.158779Z",
     "iopub.status.busy": "2022-08-27T06:48:16.158563Z",
     "iopub.status.idle": "2022-08-27T06:48:16.346186Z",
     "shell.execute_reply": "2022-08-27T06:48:16.345808Z"
    },
    "papermill": {
     "duration": 0.214539,
     "end_time": "2022-08-27T06:48:16.347558",
     "exception": false,
     "start_time": "2022-08-27T06:48:16.133019",
     "status": "completed"
    },
    "tags": []
   },
   "outputs": [],
   "source": [
    "# # testing\n",
    "# _gene_id = \"ENSG00000000419\"\n",
    "\n",
    "# _gene_model = gene_models[_gene_id]\n",
    "# assert (\n",
    "#     _gene_model.loc[\"chr20_50862947_C_T_b38\", \"Brain_Hypothalamus\"].round(5) == 0.43138\n",
    "# )\n",
    "# assert pd.isnull(_gene_model.loc[\"chr20_50957480_C_T_b38\", \"Brain_Hypothalamus\"])\n",
    "\n",
    "# assert pd.isnull(_gene_model.loc[\"chr20_50862947_C_T_b38\", \"Brain_Substantia_nigra\"])\n",
    "# assert (\n",
    "#     _gene_model.loc[\"chr20_50957480_C_T_b38\", \"Brain_Substantia_nigra\"].round(5)\n",
    "#     == -0.1468\n",
    "# )"
   ]
  },
  {
   "cell_type": "code",
   "execution_count": 128,
   "id": "806cd4a5-51b1-4ed3-8aa3-4970c128ccff",
   "metadata": {
    "execution": {
     "iopub.execute_input": "2022-08-27T06:48:16.395121Z",
     "iopub.status.busy": "2022-08-27T06:48:16.394950Z",
     "iopub.status.idle": "2022-08-27T06:48:19.083895Z",
     "shell.execute_reply": "2022-08-27T06:48:19.083419Z"
    },
    "papermill": {
     "duration": 2.714779,
     "end_time": "2022-08-27T06:48:19.085657",
     "exception": false,
     "start_time": "2022-08-27T06:48:16.370878",
     "status": "completed"
    },
    "tags": []
   },
   "outputs": [],
   "source": [
    "# save\n",
    "import gzip\n",
    "\n",
    "with gzip.GzipFile(OUTPUT_DIR_BASE / \"gene_tissues_models.pkl.gz\", \"w\") as f:\n",
    "    pickle.dump(gene_models, f)"
   ]
  },
  {
   "cell_type": "code",
   "execution_count": 129,
   "id": "a12a9597-dd0a-40a0-9a42-f288af22e0d2",
   "metadata": {
    "execution": {
     "iopub.execute_input": "2022-08-27T06:48:19.134588Z",
     "iopub.status.busy": "2022-08-27T06:48:19.134377Z",
     "iopub.status.idle": "2022-08-27T06:48:20.402631Z",
     "shell.execute_reply": "2022-08-27T06:48:20.402140Z"
    },
    "papermill": {
     "duration": 1.293898,
     "end_time": "2022-08-27T06:48:20.404342",
     "exception": false,
     "start_time": "2022-08-27T06:48:19.110444",
     "status": "completed"
    },
    "tags": []
   },
   "outputs": [],
   "source": [
    "# testing saved file\n",
    "with gzip.GzipFile(OUTPUT_DIR_BASE / \"gene_tissues_models.pkl.gz\", \"r\") as f:\n",
    "    _tmp = pickle.load(f)"
   ]
  },
  {
   "cell_type": "code",
   "execution_count": 130,
   "id": "a90a8f83-75db-4f73-8f1a-7e0563ba3685",
   "metadata": {
    "execution": {
     "iopub.execute_input": "2022-08-27T06:48:20.453344Z",
     "iopub.status.busy": "2022-08-27T06:48:20.453149Z",
     "iopub.status.idle": "2022-08-27T06:48:20.468130Z",
     "shell.execute_reply": "2022-08-27T06:48:20.467745Z"
    },
    "papermill": {
     "duration": 0.040459,
     "end_time": "2022-08-27T06:48:20.469460",
     "exception": false,
     "start_time": "2022-08-27T06:48:20.429001",
     "status": "completed"
    },
    "tags": []
   },
   "outputs": [],
   "source": [
    "assert len(gene_models) == len(_tmp)\n",
    "assert gene_models[\"ENSG00000000419\"].equals(_tmp[\"ENSG00000000419\"])"
   ]
  },
  {
   "cell_type": "markdown",
   "id": "a147f3a8-4efd-457b-9581-00cbfacd4b3d",
   "metadata": {
    "papermill": {
     "duration": 0.023633,
     "end_time": "2022-08-27T06:48:20.516364",
     "exception": false,
     "start_time": "2022-08-27T06:48:20.492731",
     "status": "completed"
    },
    "tags": []
   },
   "source": [
    "### Count number of _unique_ SNPs predictors used and available across tissue models"
   ]
  },
  {
   "cell_type": "code",
   "execution_count": 131,
   "id": "38d5bc57-3c25-4abe-93bd-09bbe200f2ef",
   "metadata": {
    "execution": {
     "iopub.execute_input": "2022-08-27T06:48:20.564575Z",
     "iopub.status.busy": "2022-08-27T06:48:20.564400Z",
     "iopub.status.idle": "2022-08-27T06:48:20.579548Z",
     "shell.execute_reply": "2022-08-27T06:48:20.579181Z"
    },
    "papermill": {
     "duration": 0.040906,
     "end_time": "2022-08-27T06:48:20.580834",
     "exception": false,
     "start_time": "2022-08-27T06:48:20.539928",
     "status": "completed"
    },
    "tags": []
   },
   "outputs": [],
   "source": [
    "def _count_unique_snps(gene_id):\n",
    "    \"\"\"\n",
    "    For a gene_id, it counts unique SNPs in all models and their intersection with GWAS SNPs (therefore, used by S-PrediXcan).\n",
    "    \"\"\"\n",
    "    gene_tissues = spredixcan_genes_models.loc[gene_id, \"tissue\"]\n",
    "\n",
    "    gene_unique_snps = set()\n",
    "    for t in gene_tissues:\n",
    "        t_snps = set(gene_models[gene_id].index)\n",
    "        gene_unique_snps.update(t_snps)\n",
    "\n",
    "    gene_unique_snps_in_gwas = gwas_variants_ids_set.intersection(gene_unique_snps)\n",
    "\n",
    "    return pd.Series(\n",
    "        {\n",
    "            \"unique_n_snps_in_model\": len(gene_unique_snps),\n",
    "            \"unique_n_snps_used\": len(gene_unique_snps_in_gwas),\n",
    "        }\n",
    "    )"
   ]
  },
  {
   "cell_type": "code",
   "execution_count": 132,
   "id": "059c6e02-67e2-4376-a3e5-b815070779c9",
   "metadata": {
    "execution": {
     "iopub.execute_input": "2022-08-27T06:48:20.628454Z",
     "iopub.status.busy": "2022-08-27T06:48:20.628284Z",
     "iopub.status.idle": "2022-08-27T06:48:20.652716Z",
     "shell.execute_reply": "2022-08-27T06:48:20.652341Z"
    },
    "papermill": {
     "duration": 0.049632,
     "end_time": "2022-08-27T06:48:20.653885",
     "exception": false,
     "start_time": "2022-08-27T06:48:20.604253",
     "status": "completed"
    },
    "tags": []
   },
   "outputs": [
    {
     "data": {
      "text/html": [
       "<div>\n",
       "<style scoped>\n",
       "    .dataframe tbody tr th:only-of-type {\n",
       "        vertical-align: middle;\n",
       "    }\n",
       "\n",
       "    .dataframe tbody tr th {\n",
       "        vertical-align: top;\n",
       "    }\n",
       "\n",
       "    .dataframe thead th {\n",
       "        text-align: right;\n",
       "    }\n",
       "</style>\n",
       "<table border=\"1\" class=\"dataframe\">\n",
       "  <thead>\n",
       "    <tr style=\"text-align: right;\">\n",
       "      <th></th>\n",
       "      <th>gene_name</th>\n",
       "      <th>tissue</th>\n",
       "      <th>n_tissues</th>\n",
       "      <th>tissues_pc_variances</th>\n",
       "      <th>tissues_variances</th>\n",
       "      <th>n_snps_used_sum</th>\n",
       "      <th>n_snps_in_model_sum</th>\n",
       "    </tr>\n",
       "    <tr>\n",
       "      <th>gene_id</th>\n",
       "      <th></th>\n",
       "      <th></th>\n",
       "      <th></th>\n",
       "      <th></th>\n",
       "      <th></th>\n",
       "      <th></th>\n",
       "      <th></th>\n",
       "    </tr>\n",
       "  </thead>\n",
       "  <tbody>\n",
       "    <tr>\n",
       "      <th>ENSG00000000419</th>\n",
       "      <td>DPM1</td>\n",
       "      <td>(Brain_Hypothalamus, Brain_Substantia_nigra)</td>\n",
       "      <td>2</td>\n",
       "      <td>[1.0442398458252409, 0.9557601541747592]</td>\n",
       "      <td>{'Brain_Hypothalamus': 0.013162153504206677, '...</td>\n",
       "      <td>2</td>\n",
       "      <td>2</td>\n",
       "    </tr>\n",
       "    <tr>\n",
       "      <th>ENSG00000010256</th>\n",
       "      <td>UQCRC1</td>\n",
       "      <td>(Whole_Blood, Thyroid)</td>\n",
       "      <td>2</td>\n",
       "      <td>[1.1048350039574655, 0.8951649960425345]</td>\n",
       "      <td>{'Whole_Blood': 0.00023448891035317016, 'Thyro...</td>\n",
       "      <td>2</td>\n",
       "      <td>2</td>\n",
       "    </tr>\n",
       "    <tr>\n",
       "      <th>ENSG00000017427</th>\n",
       "      <td>IGF1</td>\n",
       "      <td>(Testis, Brain_Amygdala)</td>\n",
       "      <td>2</td>\n",
       "      <td>[1.0389319526404415, 0.9610680473595585]</td>\n",
       "      <td>{'Testis': 0.003862056066316527, 'Brain_Amygda...</td>\n",
       "      <td>2</td>\n",
       "      <td>2</td>\n",
       "    </tr>\n",
       "    <tr>\n",
       "      <th>ENSG00000043093</th>\n",
       "      <td>DCUN1D1</td>\n",
       "      <td>(Esophagus_Muscularis, Esophagus_Gastroesophag...</td>\n",
       "      <td>2</td>\n",
       "      <td>[1.4951653523020276, 0.5048346476979725]</td>\n",
       "      <td>{'Esophagus_Muscularis': 0.0004315621222418269...</td>\n",
       "      <td>2</td>\n",
       "      <td>2</td>\n",
       "    </tr>\n",
       "    <tr>\n",
       "      <th>ENSG00000081377</th>\n",
       "      <td>CDC14B</td>\n",
       "      <td>(Muscle_Skeletal, Brain_Nucleus_accumbens_basa...</td>\n",
       "      <td>2</td>\n",
       "      <td>[1.1285007973441137, 0.8714992026558863]</td>\n",
       "      <td>{'Muscle_Skeletal': 0.0076846621297156385, 'Br...</td>\n",
       "      <td>2</td>\n",
       "      <td>2</td>\n",
       "    </tr>\n",
       "  </tbody>\n",
       "</table>\n",
       "</div>"
      ],
      "text/plain": [
       "                gene_name                                             tissue  \\\n",
       "gene_id                                                                        \n",
       "ENSG00000000419      DPM1       (Brain_Hypothalamus, Brain_Substantia_nigra)   \n",
       "ENSG00000010256    UQCRC1                             (Whole_Blood, Thyroid)   \n",
       "ENSG00000017427      IGF1                           (Testis, Brain_Amygdala)   \n",
       "ENSG00000043093   DCUN1D1  (Esophagus_Muscularis, Esophagus_Gastroesophag...   \n",
       "ENSG00000081377    CDC14B  (Muscle_Skeletal, Brain_Nucleus_accumbens_basa...   \n",
       "\n",
       "                 n_tissues                      tissues_pc_variances  \\\n",
       "gene_id                                                                \n",
       "ENSG00000000419          2  [1.0442398458252409, 0.9557601541747592]   \n",
       "ENSG00000010256          2  [1.1048350039574655, 0.8951649960425345]   \n",
       "ENSG00000017427          2  [1.0389319526404415, 0.9610680473595585]   \n",
       "ENSG00000043093          2  [1.4951653523020276, 0.5048346476979725]   \n",
       "ENSG00000081377          2  [1.1285007973441137, 0.8714992026558863]   \n",
       "\n",
       "                                                 tissues_variances  \\\n",
       "gene_id                                                              \n",
       "ENSG00000000419  {'Brain_Hypothalamus': 0.013162153504206677, '...   \n",
       "ENSG00000010256  {'Whole_Blood': 0.00023448891035317016, 'Thyro...   \n",
       "ENSG00000017427  {'Testis': 0.003862056066316527, 'Brain_Amygda...   \n",
       "ENSG00000043093  {'Esophagus_Muscularis': 0.0004315621222418269...   \n",
       "ENSG00000081377  {'Muscle_Skeletal': 0.0076846621297156385, 'Br...   \n",
       "\n",
       "                 n_snps_used_sum  n_snps_in_model_sum  \n",
       "gene_id                                                \n",
       "ENSG00000000419                2                    2  \n",
       "ENSG00000010256                2                    2  \n",
       "ENSG00000017427                2                    2  \n",
       "ENSG00000043093                2                    2  \n",
       "ENSG00000081377                2                    2  "
      ]
     },
     "execution_count": 132,
     "metadata": {},
     "output_type": "execute_result"
    }
   ],
   "source": [
    "# testing\n",
    "spredixcan_genes_models[spredixcan_genes_models[\"n_snps_used_sum\"] == 2].head()"
   ]
  },
  {
   "cell_type": "code",
   "execution_count": 133,
   "id": "4f8a444c-c3e2-4688-a50b-08481d41f614",
   "metadata": {
    "execution": {
     "iopub.execute_input": "2022-08-27T06:48:20.702895Z",
     "iopub.status.busy": "2022-08-27T06:48:20.702716Z",
     "iopub.status.idle": "2022-08-27T06:48:20.721403Z",
     "shell.execute_reply": "2022-08-27T06:48:20.721027Z"
    },
    "papermill": {
     "duration": 0.04476,
     "end_time": "2022-08-27T06:48:20.722584",
     "exception": false,
     "start_time": "2022-08-27T06:48:20.677824",
     "status": "completed"
    },
    "tags": []
   },
   "outputs": [
    {
     "data": {
      "text/plain": [
       "varID\n",
       "chr20_50862947_C_T_b38    0.431375\n",
       "Name: weight, dtype: float64"
      ]
     },
     "metadata": {},
     "output_type": "display_data"
    },
    {
     "data": {
      "text/plain": [
       "varID\n",
       "chr20_50957480_C_T_b38   -0.146796\n",
       "Name: weight, dtype: float64"
      ]
     },
     "metadata": {},
     "output_type": "display_data"
    }
   ],
   "source": [
    "# case with two snps, not repeated across tissues\n",
    "_gene_id = \"ENSG00000000419\"\n",
    "display(\n",
    "    spredixcan_gene_obj[_gene_id].get_prediction_weights(\n",
    "        tissue=\"Brain_Hypothalamus\", model_type=EQTL_MODEL\n",
    "    )\n",
    ")\n",
    "display(\n",
    "    spredixcan_gene_obj[_gene_id].get_prediction_weights(\n",
    "        tissue=\"Brain_Substantia_nigra\", model_type=EQTL_MODEL\n",
    "    )\n",
    ")"
   ]
  },
  {
   "cell_type": "code",
   "execution_count": 134,
   "id": "f835cf57-eea6-4468-aaf2-d85c8164d177",
   "metadata": {
    "execution": {
     "iopub.execute_input": "2022-08-27T06:48:20.771282Z",
     "iopub.status.busy": "2022-08-27T06:48:20.771120Z",
     "iopub.status.idle": "2022-08-27T06:48:20.784406Z",
     "shell.execute_reply": "2022-08-27T06:48:20.784051Z"
    },
    "papermill": {
     "duration": 0.039223,
     "end_time": "2022-08-27T06:48:20.785677",
     "exception": false,
     "start_time": "2022-08-27T06:48:20.746454",
     "status": "completed"
    },
    "tags": []
   },
   "outputs": [],
   "source": [
    "# _tmp = _count_unique_snps(_gene_id)\n",
    "# assert _tmp.shape[0] == 2\n",
    "# assert _tmp[\"unique_n_snps_in_model\"] == 2\n",
    "# assert _tmp[\"unique_n_snps_used\"] == 2"
   ]
  },
  {
   "cell_type": "code",
   "execution_count": 135,
   "id": "520837f6-5cdd-4958-aa98-00cd1ebab484",
   "metadata": {
    "execution": {
     "iopub.execute_input": "2022-08-27T06:48:20.834043Z",
     "iopub.status.busy": "2022-08-27T06:48:20.833879Z",
     "iopub.status.idle": "2022-08-27T06:48:22.692611Z",
     "shell.execute_reply": "2022-08-27T06:48:22.691926Z"
    },
    "papermill": {
     "duration": 1.885277,
     "end_time": "2022-08-27T06:48:22.694552",
     "exception": false,
     "start_time": "2022-08-27T06:48:20.809275",
     "status": "completed"
    },
    "tags": []
   },
   "outputs": [],
   "source": [
    "# get unique snps for all genes\n",
    "spredixcan_genes_unique_n_snps = spredixcan_genes_models.groupby(\"gene_id\").apply(\n",
    "    lambda x: _count_unique_snps(x.name)\n",
    ")"
   ]
  },
  {
   "cell_type": "code",
   "execution_count": 136,
   "id": "72633373-73d7-4796-b915-06fcb18feca0",
   "metadata": {
    "execution": {
     "iopub.execute_input": "2022-08-27T06:48:22.747651Z",
     "iopub.status.busy": "2022-08-27T06:48:22.747427Z",
     "iopub.status.idle": "2022-08-27T06:48:22.767780Z",
     "shell.execute_reply": "2022-08-27T06:48:22.767376Z"
    },
    "papermill": {
     "duration": 0.047963,
     "end_time": "2022-08-27T06:48:22.769012",
     "exception": false,
     "start_time": "2022-08-27T06:48:22.721049",
     "status": "completed"
    },
    "tags": []
   },
   "outputs": [
    {
     "data": {
      "text/html": [
       "<div>\n",
       "<style scoped>\n",
       "    .dataframe tbody tr th:only-of-type {\n",
       "        vertical-align: middle;\n",
       "    }\n",
       "\n",
       "    .dataframe tbody tr th {\n",
       "        vertical-align: top;\n",
       "    }\n",
       "\n",
       "    .dataframe thead th {\n",
       "        text-align: right;\n",
       "    }\n",
       "</style>\n",
       "<table border=\"1\" class=\"dataframe\">\n",
       "  <thead>\n",
       "    <tr style=\"text-align: right;\">\n",
       "      <th></th>\n",
       "      <th>unique_n_snps_in_model</th>\n",
       "      <th>unique_n_snps_used</th>\n",
       "    </tr>\n",
       "    <tr>\n",
       "      <th>gene_id</th>\n",
       "      <th></th>\n",
       "      <th></th>\n",
       "    </tr>\n",
       "  </thead>\n",
       "  <tbody>\n",
       "    <tr>\n",
       "      <th>ENSG00000000419</th>\n",
       "      <td>2</td>\n",
       "      <td>2</td>\n",
       "    </tr>\n",
       "    <tr>\n",
       "      <th>ENSG00000000938</th>\n",
       "      <td>5</td>\n",
       "      <td>5</td>\n",
       "    </tr>\n",
       "    <tr>\n",
       "      <th>ENSG00000000971</th>\n",
       "      <td>12</td>\n",
       "      <td>12</td>\n",
       "    </tr>\n",
       "    <tr>\n",
       "      <th>ENSG00000001084</th>\n",
       "      <td>23</td>\n",
       "      <td>23</td>\n",
       "    </tr>\n",
       "    <tr>\n",
       "      <th>ENSG00000001167</th>\n",
       "      <td>14</td>\n",
       "      <td>13</td>\n",
       "    </tr>\n",
       "  </tbody>\n",
       "</table>\n",
       "</div>"
      ],
      "text/plain": [
       "                 unique_n_snps_in_model  unique_n_snps_used\n",
       "gene_id                                                    \n",
       "ENSG00000000419                       2                   2\n",
       "ENSG00000000938                       5                   5\n",
       "ENSG00000000971                      12                  12\n",
       "ENSG00000001084                      23                  23\n",
       "ENSG00000001167                      14                  13"
      ]
     },
     "execution_count": 136,
     "metadata": {},
     "output_type": "execute_result"
    }
   ],
   "source": [
    "spredixcan_genes_unique_n_snps.head()"
   ]
  },
  {
   "cell_type": "code",
   "execution_count": 137,
   "id": "3d2b6676-2168-44b8-8d02-d29b934ba2ec",
   "metadata": {
    "execution": {
     "iopub.execute_input": "2022-08-27T06:48:22.817531Z",
     "iopub.status.busy": "2022-08-27T06:48:22.817352Z",
     "iopub.status.idle": "2022-08-27T06:48:22.832240Z",
     "shell.execute_reply": "2022-08-27T06:48:22.831875Z"
    },
    "papermill": {
     "duration": 0.040937,
     "end_time": "2022-08-27T06:48:22.833531",
     "exception": false,
     "start_time": "2022-08-27T06:48:22.792594",
     "status": "completed"
    },
    "tags": []
   },
   "outputs": [],
   "source": [
    "assert (\n",
    "    spredixcan_genes_unique_n_snps[\"unique_n_snps_in_model\"]\n",
    "    >= spredixcan_genes_unique_n_snps[\"unique_n_snps_used\"]\n",
    ").all()"
   ]
  },
  {
   "cell_type": "code",
   "execution_count": 138,
   "id": "6accf2fe-93fe-4f7c-86ff-5f0ea3d17e11",
   "metadata": {
    "execution": {
     "iopub.execute_input": "2022-08-27T06:48:22.884684Z",
     "iopub.status.busy": "2022-08-27T06:48:22.884500Z",
     "iopub.status.idle": "2022-08-27T06:48:22.902698Z",
     "shell.execute_reply": "2022-08-27T06:48:22.902310Z"
    },
    "papermill": {
     "duration": 0.046053,
     "end_time": "2022-08-27T06:48:22.904080",
     "exception": false,
     "start_time": "2022-08-27T06:48:22.858027",
     "status": "completed"
    },
    "tags": []
   },
   "outputs": [],
   "source": [
    "# add unique snps to spredixcan_genes_models\n",
    "spredixcan_genes_models = spredixcan_genes_models.join(spredixcan_genes_unique_n_snps)"
   ]
  },
  {
   "cell_type": "code",
   "execution_count": 139,
   "id": "25a28358-843b-4421-9d8f-8edc41f016e3",
   "metadata": {
    "execution": {
     "iopub.execute_input": "2022-08-27T06:48:22.953919Z",
     "iopub.status.busy": "2022-08-27T06:48:22.953748Z",
     "iopub.status.idle": "2022-08-27T06:48:22.969250Z",
     "shell.execute_reply": "2022-08-27T06:48:22.968889Z"
    },
    "papermill": {
     "duration": 0.041744,
     "end_time": "2022-08-27T06:48:22.970398",
     "exception": false,
     "start_time": "2022-08-27T06:48:22.928654",
     "status": "completed"
    },
    "tags": []
   },
   "outputs": [
    {
     "data": {
      "text/plain": [
       "(6442, 9)"
      ]
     },
     "execution_count": 139,
     "metadata": {},
     "output_type": "execute_result"
    }
   ],
   "source": [
    "spredixcan_genes_models.shape"
   ]
  },
  {
   "cell_type": "code",
   "execution_count": 140,
   "id": "ae4f0cd6-a823-4f55-82cf-1a78f0392acf",
   "metadata": {
    "execution": {
     "iopub.execute_input": "2022-08-27T06:48:23.018602Z",
     "iopub.status.busy": "2022-08-27T06:48:23.018422Z",
     "iopub.status.idle": "2022-08-27T06:48:23.042814Z",
     "shell.execute_reply": "2022-08-27T06:48:23.042444Z"
    },
    "papermill": {
     "duration": 0.050016,
     "end_time": "2022-08-27T06:48:23.043963",
     "exception": false,
     "start_time": "2022-08-27T06:48:22.993947",
     "status": "completed"
    },
    "tags": []
   },
   "outputs": [
    {
     "data": {
      "text/html": [
       "<div>\n",
       "<style scoped>\n",
       "    .dataframe tbody tr th:only-of-type {\n",
       "        vertical-align: middle;\n",
       "    }\n",
       "\n",
       "    .dataframe tbody tr th {\n",
       "        vertical-align: top;\n",
       "    }\n",
       "\n",
       "    .dataframe thead th {\n",
       "        text-align: right;\n",
       "    }\n",
       "</style>\n",
       "<table border=\"1\" class=\"dataframe\">\n",
       "  <thead>\n",
       "    <tr style=\"text-align: right;\">\n",
       "      <th></th>\n",
       "      <th>gene_name</th>\n",
       "      <th>tissue</th>\n",
       "      <th>n_tissues</th>\n",
       "      <th>tissues_pc_variances</th>\n",
       "      <th>tissues_variances</th>\n",
       "      <th>n_snps_used_sum</th>\n",
       "      <th>n_snps_in_model_sum</th>\n",
       "      <th>unique_n_snps_in_model</th>\n",
       "      <th>unique_n_snps_used</th>\n",
       "    </tr>\n",
       "    <tr>\n",
       "      <th>gene_id</th>\n",
       "      <th></th>\n",
       "      <th></th>\n",
       "      <th></th>\n",
       "      <th></th>\n",
       "      <th></th>\n",
       "      <th></th>\n",
       "      <th></th>\n",
       "      <th></th>\n",
       "      <th></th>\n",
       "    </tr>\n",
       "  </thead>\n",
       "  <tbody>\n",
       "    <tr>\n",
       "      <th>ENSG00000000419</th>\n",
       "      <td>DPM1</td>\n",
       "      <td>(Brain_Hypothalamus, Brain_Substantia_nigra)</td>\n",
       "      <td>2</td>\n",
       "      <td>[1.0442398458252409, 0.9557601541747592]</td>\n",
       "      <td>{'Brain_Hypothalamus': 0.013162153504206677, '...</td>\n",
       "      <td>2</td>\n",
       "      <td>2</td>\n",
       "      <td>2</td>\n",
       "      <td>2</td>\n",
       "    </tr>\n",
       "    <tr>\n",
       "      <th>ENSG00000000938</th>\n",
       "      <td>FGR</td>\n",
       "      <td>(Muscle_Skeletal, Liver, Testis, Adipose_Visce...</td>\n",
       "      <td>36</td>\n",
       "      <td>[31.63266933637127, 2.0783677518511445, 1.2716...</td>\n",
       "      <td>{'Muscle_Skeletal': 0.011422007299369654, 'Liv...</td>\n",
       "      <td>40</td>\n",
       "      <td>40</td>\n",
       "      <td>5</td>\n",
       "      <td>5</td>\n",
       "    </tr>\n",
       "    <tr>\n",
       "      <th>ENSG00000000971</th>\n",
       "      <td>CFH</td>\n",
       "      <td>(Testis, Heart_Atrial_Appendage, Pituitary, Ne...</td>\n",
       "      <td>34</td>\n",
       "      <td>[21.56076992568329, 7.310170987045466, 1.83778...</td>\n",
       "      <td>{'Testis': 0.004542368000299983, 'Heart_Atrial...</td>\n",
       "      <td>44</td>\n",
       "      <td>44</td>\n",
       "      <td>12</td>\n",
       "      <td>12</td>\n",
       "    </tr>\n",
       "    <tr>\n",
       "      <th>ENSG00000001084</th>\n",
       "      <td>GCLC</td>\n",
       "      <td>(Muscle_Skeletal, Testis, Heart_Atrial_Appenda...</td>\n",
       "      <td>32</td>\n",
       "      <td>[21.291939080546527, 4.699418748743194, 2.2489...</td>\n",
       "      <td>{'Muscle_Skeletal': 0.0052333336977804, 'Testi...</td>\n",
       "      <td>46</td>\n",
       "      <td>46</td>\n",
       "      <td>23</td>\n",
       "      <td>23</td>\n",
       "    </tr>\n",
       "    <tr>\n",
       "      <th>ENSG00000001167</th>\n",
       "      <td>NFYA</td>\n",
       "      <td>(Muscle_Skeletal, Testis, Adipose_Visceral_Ome...</td>\n",
       "      <td>40</td>\n",
       "      <td>[37.335660295497696, 1.391401960453836]</td>\n",
       "      <td>{'Muscle_Skeletal': 0.01510698551052935, 'Test...</td>\n",
       "      <td>47</td>\n",
       "      <td>48</td>\n",
       "      <td>14</td>\n",
       "      <td>13</td>\n",
       "    </tr>\n",
       "  </tbody>\n",
       "</table>\n",
       "</div>"
      ],
      "text/plain": [
       "                gene_name                                             tissue  \\\n",
       "gene_id                                                                        \n",
       "ENSG00000000419      DPM1       (Brain_Hypothalamus, Brain_Substantia_nigra)   \n",
       "ENSG00000000938       FGR  (Muscle_Skeletal, Liver, Testis, Adipose_Visce...   \n",
       "ENSG00000000971       CFH  (Testis, Heart_Atrial_Appendage, Pituitary, Ne...   \n",
       "ENSG00000001084      GCLC  (Muscle_Skeletal, Testis, Heart_Atrial_Appenda...   \n",
       "ENSG00000001167      NFYA  (Muscle_Skeletal, Testis, Adipose_Visceral_Ome...   \n",
       "\n",
       "                 n_tissues                               tissues_pc_variances  \\\n",
       "gene_id                                                                         \n",
       "ENSG00000000419          2           [1.0442398458252409, 0.9557601541747592]   \n",
       "ENSG00000000938         36  [31.63266933637127, 2.0783677518511445, 1.2716...   \n",
       "ENSG00000000971         34  [21.56076992568329, 7.310170987045466, 1.83778...   \n",
       "ENSG00000001084         32  [21.291939080546527, 4.699418748743194, 2.2489...   \n",
       "ENSG00000001167         40            [37.335660295497696, 1.391401960453836]   \n",
       "\n",
       "                                                 tissues_variances  \\\n",
       "gene_id                                                              \n",
       "ENSG00000000419  {'Brain_Hypothalamus': 0.013162153504206677, '...   \n",
       "ENSG00000000938  {'Muscle_Skeletal': 0.011422007299369654, 'Liv...   \n",
       "ENSG00000000971  {'Testis': 0.004542368000299983, 'Heart_Atrial...   \n",
       "ENSG00000001084  {'Muscle_Skeletal': 0.0052333336977804, 'Testi...   \n",
       "ENSG00000001167  {'Muscle_Skeletal': 0.01510698551052935, 'Test...   \n",
       "\n",
       "                 n_snps_used_sum  n_snps_in_model_sum  unique_n_snps_in_model  \\\n",
       "gene_id                                                                         \n",
       "ENSG00000000419                2                    2                       2   \n",
       "ENSG00000000938               40                   40                       5   \n",
       "ENSG00000000971               44                   44                      12   \n",
       "ENSG00000001084               46                   46                      23   \n",
       "ENSG00000001167               47                   48                      14   \n",
       "\n",
       "                 unique_n_snps_used  \n",
       "gene_id                              \n",
       "ENSG00000000419                   2  \n",
       "ENSG00000000938                   5  \n",
       "ENSG00000000971                  12  \n",
       "ENSG00000001084                  23  \n",
       "ENSG00000001167                  13  "
      ]
     },
     "execution_count": 140,
     "metadata": {},
     "output_type": "execute_result"
    }
   ],
   "source": [
    "spredixcan_genes_models.head()"
   ]
  },
  {
   "cell_type": "markdown",
   "id": "d6947d45-ea78-4c6b-bf71-f7413d1687e3",
   "metadata": {
    "papermill": {
     "duration": 0.024663,
     "end_time": "2022-08-27T06:48:23.093703",
     "exception": false,
     "start_time": "2022-08-27T06:48:23.069040",
     "status": "completed"
    },
    "tags": []
   },
   "source": [
    "### Save"
   ]
  },
  {
   "cell_type": "code",
   "execution_count": 141,
   "id": "ebc3a430-7bd5-4099-8b01-aa77e704e3e7",
   "metadata": {
    "execution": {
     "iopub.execute_input": "2022-08-27T06:48:23.144970Z",
     "iopub.status.busy": "2022-08-27T06:48:23.144791Z",
     "iopub.status.idle": "2022-08-27T06:48:23.159938Z",
     "shell.execute_reply": "2022-08-27T06:48:23.159552Z"
    },
    "papermill": {
     "duration": 0.041994,
     "end_time": "2022-08-27T06:48:23.161270",
     "exception": false,
     "start_time": "2022-08-27T06:48:23.119276",
     "status": "completed"
    },
    "tags": []
   },
   "outputs": [],
   "source": [
    "# this is important, other scripts depend on gene_name to be unique\n",
    "assert spredixcan_genes_models[\"gene_name\"].is_unique"
   ]
  },
  {
   "cell_type": "code",
   "execution_count": 142,
   "id": "e2db5302-3051-4492-97e1-e759d2fb512f",
   "metadata": {
    "execution": {
     "iopub.execute_input": "2022-08-27T06:48:23.212119Z",
     "iopub.status.busy": "2022-08-27T06:48:23.211941Z",
     "iopub.status.idle": "2022-08-27T06:48:23.228747Z",
     "shell.execute_reply": "2022-08-27T06:48:23.228358Z"
    },
    "papermill": {
     "duration": 0.044312,
     "end_time": "2022-08-27T06:48:23.230074",
     "exception": false,
     "start_time": "2022-08-27T06:48:23.185762",
     "status": "completed"
    },
    "tags": []
   },
   "outputs": [],
   "source": [
    "assert not spredixcan_genes_models.isna().any(None)"
   ]
  },
  {
   "cell_type": "code",
   "execution_count": 143,
   "id": "10e19441-8390-4eb1-8da4-24752597bb54",
   "metadata": {
    "execution": {
     "iopub.execute_input": "2022-08-27T06:48:23.280725Z",
     "iopub.status.busy": "2022-08-27T06:48:23.280554Z",
     "iopub.status.idle": "2022-08-27T06:48:23.928462Z",
     "shell.execute_reply": "2022-08-27T06:48:23.927973Z"
    },
    "papermill": {
     "duration": 0.674819,
     "end_time": "2022-08-27T06:48:23.930234",
     "exception": false,
     "start_time": "2022-08-27T06:48:23.255415",
     "status": "completed"
    },
    "tags": []
   },
   "outputs": [],
   "source": [
    "spredixcan_genes_models.to_pickle(OUTPUT_DIR_BASE / \"gene_tissues.pkl\")"
   ]
  },
  {
   "cell_type": "code",
   "execution_count": null,
   "id": "b25e3ead",
   "metadata": {
    "papermill": {
     "duration": 0.025425,
     "end_time": "2022-08-27T06:48:23.981886",
     "exception": false,
     "start_time": "2022-08-27T06:48:23.956461",
     "status": "completed"
    },
    "tags": []
   },
   "outputs": [],
   "source": []
  }
 ],
 "metadata": {
  "jupytext": {
   "cell_metadata_filter": "all,-execution,-papermill,-trusted",
   "formats": "ipynb,py//py:percent"
  },
  "kernelspec": {
   "display_name": "Python 3 (ipykernel)",
   "language": "python",
   "name": "python3"
  },
  "language_info": {
   "codemirror_mode": {
    "name": "ipython",
    "version": 3
   },
   "file_extension": ".py",
   "mimetype": "text/x-python",
   "name": "python",
   "nbconvert_exporter": "python",
   "pygments_lexer": "ipython3",
   "version": "3.8.13"
  },
  "papermill": {
   "default_parameters": {},
   "duration": 9088.749902,
   "end_time": "2022-08-27T06:48:26.636131",
   "environment_variables": {},
   "exception": null,
   "input_path": "nbs/15_gsa_gls/07-compile_gwas_snps_and_twas_genes.ipynb",
   "output_path": "nbs/15_gsa_gls/gene_corrs/cohorts/1000g_eur/gtex_v8/mashr/07-compile_gwas_snps_and_twas_genes.run.ipynb",
   "parameters": {
    "COHORT_NAME": "1000G_EUR",
    "EQTL_MODEL": "MASHR",
    "GWAS_FILE": "/project/ritchie20/projects/phenoplier/base/results/gls/null_sims/final_imputed_gwas/random.pheno0.glm-imputed.txt.gz",
    "REFERENCE_PANEL": "GTEX_V8",
    "SMULTIXCAN_FILE": "/project/ritchie20/projects/phenoplier/base/results/gls/null_sims/twas/smultixcan/random.pheno0-gtex_v8-mashr-smultixcan.txt",
    "SPREDIXCAN_FILE_PATTERN": "random.pheno0-gtex_v8-mashr-{tissue}.csv",
    "SPREDIXCAN_FOLDER": "/project/ritchie20/projects/phenoplier/base/results/gls/null_sims/twas/spredixcan/"
   },
   "start_time": "2022-08-27T04:16:57.886229",
   "version": "2.2.2"
  },
  "toc-autonumbering": true
 },
 "nbformat": 4,
 "nbformat_minor": 5
}
