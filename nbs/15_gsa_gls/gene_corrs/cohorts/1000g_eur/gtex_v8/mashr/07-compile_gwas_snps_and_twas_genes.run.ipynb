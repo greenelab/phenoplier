{
 "cells": [
  {
   "cell_type": "markdown",
   "id": "7a6632fb",
   "metadata": {
    "papermill": {
     "duration": 0.036266,
     "end_time": "2022-08-02T07:04:39.502591",
     "exception": false,
     "start_time": "2022-08-02T07:04:39.466325",
     "status": "completed"
    },
    "tags": []
   },
   "source": [
    "# Description"
   ]
  },
  {
   "cell_type": "markdown",
   "id": "7097c346",
   "metadata": {
    "papermill": {
     "duration": 0.01536,
     "end_time": "2022-08-02T07:04:39.533499",
     "exception": false,
     "start_time": "2022-08-02T07:04:39.518139",
     "status": "completed"
    },
    "tags": []
   },
   "source": [
    "(Please, take a look at the README.md file in this directory for instructions on how to run this notebook)\n",
    "\n",
    "This notebook compiles information about the GWAS and TWAS for a particular cohort. For example, the set of GWAS variants, variance of predicted expression of genes, etc.\n",
    "\n",
    "It has specicfic parameters for papermill (see under `Settings` below).\n",
    "\n",
    "This notebook is not directly run. See README.md."
   ]
  },
  {
   "cell_type": "markdown",
   "id": "c61d8427",
   "metadata": {
    "papermill": {
     "duration": 0.014801,
     "end_time": "2022-08-02T07:04:39.563414",
     "exception": false,
     "start_time": "2022-08-02T07:04:39.548613",
     "status": "completed"
    },
    "tags": []
   },
   "source": [
    "# Modules"
   ]
  },
  {
   "cell_type": "code",
   "execution_count": 1,
   "id": "bbc0234f",
   "metadata": {
    "execution": {
     "iopub.execute_input": "2022-08-02T07:04:39.594832Z",
     "iopub.status.busy": "2022-08-02T07:04:39.594598Z",
     "iopub.status.idle": "2022-08-02T07:04:39.615229Z",
     "shell.execute_reply": "2022-08-02T07:04:39.614720Z"
    },
    "papermill": {
     "duration": 0.038154,
     "end_time": "2022-08-02T07:04:39.616678",
     "exception": false,
     "start_time": "2022-08-02T07:04:39.578524",
     "status": "completed"
    },
    "tags": []
   },
   "outputs": [],
   "source": [
    "%load_ext autoreload\n",
    "%autoreload 2"
   ]
  },
  {
   "cell_type": "code",
   "execution_count": 2,
   "id": "1d5f5a59",
   "metadata": {
    "execution": {
     "iopub.execute_input": "2022-08-02T07:04:39.647238Z",
     "iopub.status.busy": "2022-08-02T07:04:39.647033Z",
     "iopub.status.idle": "2022-08-02T07:04:40.422014Z",
     "shell.execute_reply": "2022-08-02T07:04:40.421578Z"
    },
    "papermill": {
     "duration": 0.791811,
     "end_time": "2022-08-02T07:04:40.423307",
     "exception": false,
     "start_time": "2022-08-02T07:04:39.631496",
     "status": "completed"
    },
    "tags": []
   },
   "outputs": [],
   "source": [
    "from pathlib import Path\n",
    "import pickle\n",
    "\n",
    "import numpy as np\n",
    "\n",
    "import pandas as pd\n",
    "from tqdm import tqdm\n",
    "import pytest\n",
    "\n",
    "import conf\n",
    "from entity import Gene"
   ]
  },
  {
   "cell_type": "markdown",
   "id": "1eac24b5",
   "metadata": {
    "papermill": {
     "duration": 0.014835,
     "end_time": "2022-08-02T07:04:40.453508",
     "exception": false,
     "start_time": "2022-08-02T07:04:40.438673",
     "status": "completed"
    },
    "tags": []
   },
   "source": [
    "# Settings"
   ]
  },
  {
   "cell_type": "code",
   "execution_count": 3,
   "id": "ca4560ba",
   "metadata": {
    "execution": {
     "iopub.execute_input": "2022-08-02T07:04:40.485314Z",
     "iopub.status.busy": "2022-08-02T07:04:40.485150Z",
     "iopub.status.idle": "2022-08-02T07:04:40.498004Z",
     "shell.execute_reply": "2022-08-02T07:04:40.497484Z"
    },
    "papermill": {
     "duration": 0.030233,
     "end_time": "2022-08-02T07:04:40.499389",
     "exception": false,
     "start_time": "2022-08-02T07:04:40.469156",
     "status": "completed"
    },
    "tags": [
     "parameters"
    ]
   },
   "outputs": [],
   "source": [
    "# a cohort name (it could be something like UK_BIOBANK, etc)\n",
    "COHORT_NAME = None\n",
    "\n",
    "# reference panel such as 1000G or GTEX_V8\n",
    "REFERENCE_PANEL = None\n",
    "\n",
    "# predictions models such as MASHR or ELASTIC_NET\n",
    "EQTL_MODEL = None\n",
    "\n",
    "# a string with a path pointing to an imputed GWAS\n",
    "GWAS_FILE = None\n",
    "\n",
    "# a string with a path pointing where S-PrediXcan results (tissue-specific are located\n",
    "SPREDIXCAN_FOLDER = None\n",
    "\n",
    "# an f-string with one placeholder {tissue}\n",
    "SPREDIXCAN_FILE_PATTERN = None\n",
    "\n",
    "# a string with a path pointing to an S-MultiXcan result\n",
    "SMULTIXCAN_FILE = None"
   ]
  },
  {
   "cell_type": "code",
   "execution_count": 4,
   "id": "088b682e",
   "metadata": {
    "execution": {
     "iopub.execute_input": "2022-08-02T07:04:40.532102Z",
     "iopub.status.busy": "2022-08-02T07:04:40.531683Z",
     "iopub.status.idle": "2022-08-02T07:04:40.544108Z",
     "shell.execute_reply": "2022-08-02T07:04:40.543596Z"
    },
    "papermill": {
     "duration": 0.030005,
     "end_time": "2022-08-02T07:04:40.545460",
     "exception": false,
     "start_time": "2022-08-02T07:04:40.515455",
     "status": "completed"
    },
    "tags": [
     "injected-parameters"
    ]
   },
   "outputs": [],
   "source": [
    "# Parameters\n",
    "COHORT_NAME = \"1000G_EUR\"\n",
    "REFERENCE_PANEL = \"GTEX_V8\"\n",
    "EQTL_MODEL = \"MASHR\"\n",
    "GWAS_FILE = \"/opt/data/results/gls/null_sims/final_imputed_gwas/random.pheno0.glm-imputed.txt.gz\"\n",
    "SPREDIXCAN_FOLDER = \"/opt/data/results/gls/null_sims/twas/spredixcan/\"\n",
    "SPREDIXCAN_FILE_PATTERN = \"random.pheno0-gtex_v8-mashr-{tissue}.csv\"\n",
    "SMULTIXCAN_FILE = \"/opt/data/results/gls/null_sims/twas/smultixcan/random.pheno0-gtex_v8-mashr-smultixcan.txt\"\n"
   ]
  },
  {
   "cell_type": "code",
   "execution_count": 5,
   "id": "8fe24bef",
   "metadata": {
    "execution": {
     "iopub.execute_input": "2022-08-02T07:04:40.576670Z",
     "iopub.status.busy": "2022-08-02T07:04:40.576460Z",
     "iopub.status.idle": "2022-08-02T07:04:40.593719Z",
     "shell.execute_reply": "2022-08-02T07:04:40.593108Z"
    },
    "papermill": {
     "duration": 0.033896,
     "end_time": "2022-08-02T07:04:40.594895",
     "exception": false,
     "start_time": "2022-08-02T07:04:40.560999",
     "status": "completed"
    },
    "tags": []
   },
   "outputs": [
    {
     "data": {
      "text/plain": [
       "'Cohort name: 1000g_eur'"
      ]
     },
     "metadata": {},
     "output_type": "display_data"
    }
   ],
   "source": [
    "assert COHORT_NAME is not None and len(COHORT_NAME) > 0, \"A cohort name must be given\"\n",
    "\n",
    "COHORT_NAME = COHORT_NAME.lower()\n",
    "display(f\"Cohort name: {COHORT_NAME}\")"
   ]
  },
  {
   "cell_type": "code",
   "execution_count": 6,
   "id": "f53ba19b-0f93-4fa2-a047-63b375939d1a",
   "metadata": {
    "execution": {
     "iopub.execute_input": "2022-08-02T07:04:40.636753Z",
     "iopub.status.busy": "2022-08-02T07:04:40.636390Z",
     "iopub.status.idle": "2022-08-02T07:04:40.656636Z",
     "shell.execute_reply": "2022-08-02T07:04:40.655884Z"
    },
    "papermill": {
     "duration": 0.049033,
     "end_time": "2022-08-02T07:04:40.658820",
     "exception": false,
     "start_time": "2022-08-02T07:04:40.609787",
     "status": "completed"
    },
    "tags": []
   },
   "outputs": [
    {
     "data": {
      "text/plain": [
       "'Reference panel: GTEX_V8'"
      ]
     },
     "metadata": {},
     "output_type": "display_data"
    }
   ],
   "source": [
    "assert (\n",
    "    REFERENCE_PANEL is not None and len(REFERENCE_PANEL) > 0\n",
    "), \"A reference panel must be given\"\n",
    "\n",
    "display(f\"Reference panel: {REFERENCE_PANEL}\")"
   ]
  },
  {
   "cell_type": "code",
   "execution_count": 7,
   "id": "7a970044-2d34-4e5b-a850-eff44079afe8",
   "metadata": {
    "execution": {
     "iopub.execute_input": "2022-08-02T07:04:40.702582Z",
     "iopub.status.busy": "2022-08-02T07:04:40.702234Z",
     "iopub.status.idle": "2022-08-02T07:04:40.715069Z",
     "shell.execute_reply": "2022-08-02T07:04:40.714658Z"
    },
    "papermill": {
     "duration": 0.032088,
     "end_time": "2022-08-02T07:04:40.716227",
     "exception": false,
     "start_time": "2022-08-02T07:04:40.684139",
     "status": "completed"
    },
    "tags": []
   },
   "outputs": [
    {
     "data": {
      "text/plain": [
       "'GWAS file path: /opt/data/results/gls/null_sims/final_imputed_gwas/random.pheno0.glm-imputed.txt.gz'"
      ]
     },
     "metadata": {},
     "output_type": "display_data"
    }
   ],
   "source": [
    "assert GWAS_FILE is not None and len(GWAS_FILE) > 0, \"A GWAS file path must be given\"\n",
    "GWAS_FILE = Path(GWAS_FILE).resolve()\n",
    "assert GWAS_FILE.exists(), \"GWAS file does not exist\"\n",
    "\n",
    "display(f\"GWAS file path: {str(GWAS_FILE)}\")"
   ]
  },
  {
   "cell_type": "code",
   "execution_count": 8,
   "id": "552a7f63-a18c-4d3e-bb6a-94f99b431291",
   "metadata": {
    "execution": {
     "iopub.execute_input": "2022-08-02T07:04:40.748488Z",
     "iopub.status.busy": "2022-08-02T07:04:40.747659Z",
     "iopub.status.idle": "2022-08-02T07:04:40.761270Z",
     "shell.execute_reply": "2022-08-02T07:04:40.760731Z"
    },
    "papermill": {
     "duration": 0.030914,
     "end_time": "2022-08-02T07:04:40.762479",
     "exception": false,
     "start_time": "2022-08-02T07:04:40.731565",
     "status": "completed"
    },
    "tags": []
   },
   "outputs": [
    {
     "data": {
      "text/plain": [
       "'S-PrediXcan folder path: /opt/data/results/gls/null_sims/twas/spredixcan'"
      ]
     },
     "metadata": {},
     "output_type": "display_data"
    }
   ],
   "source": [
    "assert (\n",
    "    SPREDIXCAN_FOLDER is not None and len(SPREDIXCAN_FOLDER) > 0\n",
    "), \"An S-PrediXcan folder path must be given\"\n",
    "SPREDIXCAN_FOLDER = Path(SPREDIXCAN_FOLDER).resolve()\n",
    "assert SPREDIXCAN_FOLDER.exists(), \"S-PrediXcan folder does not exist\"\n",
    "\n",
    "display(f\"S-PrediXcan folder path: {str(SPREDIXCAN_FOLDER)}\")"
   ]
  },
  {
   "cell_type": "code",
   "execution_count": 9,
   "id": "6e2000dc-f1dc-4db8-93d5-9a7209a2e121",
   "metadata": {
    "execution": {
     "iopub.execute_input": "2022-08-02T07:04:40.794357Z",
     "iopub.status.busy": "2022-08-02T07:04:40.793884Z",
     "iopub.status.idle": "2022-08-02T07:04:40.807971Z",
     "shell.execute_reply": "2022-08-02T07:04:40.807375Z"
    },
    "papermill": {
     "duration": 0.031273,
     "end_time": "2022-08-02T07:04:40.809170",
     "exception": false,
     "start_time": "2022-08-02T07:04:40.777897",
     "status": "completed"
    },
    "tags": []
   },
   "outputs": [
    {
     "data": {
      "text/plain": [
       "'S-PrediXcan file template: random.pheno0-gtex_v8-mashr-{tissue}.csv'"
      ]
     },
     "metadata": {},
     "output_type": "display_data"
    }
   ],
   "source": [
    "assert (\n",
    "    SPREDIXCAN_FILE_PATTERN is not None and len(SPREDIXCAN_FILE_PATTERN) > 0\n",
    "), \"An S-PrediXcan file pattern must be given\"\n",
    "assert (\n",
    "    \"{tissue}\" in SPREDIXCAN_FILE_PATTERN\n",
    "), \"S-PrediXcan file pattern must have a '{tissue}' placeholder\"\n",
    "\n",
    "display(f\"S-PrediXcan file template: {SPREDIXCAN_FILE_PATTERN}\")"
   ]
  },
  {
   "cell_type": "code",
   "execution_count": 10,
   "id": "f5a5aa9d-c6f3-4fb5-9351-37382b6e67bc",
   "metadata": {
    "execution": {
     "iopub.execute_input": "2022-08-02T07:04:40.841003Z",
     "iopub.status.busy": "2022-08-02T07:04:40.840480Z",
     "iopub.status.idle": "2022-08-02T07:04:40.854180Z",
     "shell.execute_reply": "2022-08-02T07:04:40.853478Z"
    },
    "papermill": {
     "duration": 0.030938,
     "end_time": "2022-08-02T07:04:40.855442",
     "exception": false,
     "start_time": "2022-08-02T07:04:40.824504",
     "status": "completed"
    },
    "tags": []
   },
   "outputs": [
    {
     "data": {
      "text/plain": [
       "'S-MultiXcan file path: /opt/data/results/gls/null_sims/twas/smultixcan/random.pheno0-gtex_v8-mashr-smultixcan.txt'"
      ]
     },
     "metadata": {},
     "output_type": "display_data"
    }
   ],
   "source": [
    "assert (\n",
    "    SMULTIXCAN_FILE is not None and len(SMULTIXCAN_FILE) > 0\n",
    "), \"An S-MultiXcan result file path must be given\"\n",
    "SMULTIXCAN_FILE = Path(SMULTIXCAN_FILE).resolve()\n",
    "assert SMULTIXCAN_FILE.exists(), \"S-MultiXcan result file does not exist\"\n",
    "\n",
    "display(f\"S-MultiXcan file path: {str(SMULTIXCAN_FILE)}\")"
   ]
  },
  {
   "cell_type": "code",
   "execution_count": 11,
   "id": "0723dc2f-34d1-407c-a55b-d6d13c55d63d",
   "metadata": {
    "execution": {
     "iopub.execute_input": "2022-08-02T07:04:40.887635Z",
     "iopub.status.busy": "2022-08-02T07:04:40.887105Z",
     "iopub.status.idle": "2022-08-02T07:04:40.900397Z",
     "shell.execute_reply": "2022-08-02T07:04:40.899787Z"
    },
    "papermill": {
     "duration": 0.030741,
     "end_time": "2022-08-02T07:04:40.901684",
     "exception": false,
     "start_time": "2022-08-02T07:04:40.870943",
     "status": "completed"
    },
    "tags": []
   },
   "outputs": [
    {
     "data": {
      "text/plain": [
       "'eQTL model: MASHR'"
      ]
     },
     "metadata": {},
     "output_type": "display_data"
    }
   ],
   "source": [
    "assert (\n",
    "    EQTL_MODEL is not None and len(EQTL_MODEL) > 0\n",
    "), \"A prediction/eQTL model must be given\"\n",
    "\n",
    "display(f\"eQTL model: {EQTL_MODEL}\")"
   ]
  },
  {
   "cell_type": "code",
   "execution_count": 12,
   "id": "396392dc-0340-4540-9b02-e182b833f909",
   "metadata": {
    "execution": {
     "iopub.execute_input": "2022-08-02T07:04:40.933646Z",
     "iopub.status.busy": "2022-08-02T07:04:40.933438Z",
     "iopub.status.idle": "2022-08-02T07:04:40.980606Z",
     "shell.execute_reply": "2022-08-02T07:04:40.979823Z"
    },
    "papermill": {
     "duration": 0.064634,
     "end_time": "2022-08-02T07:04:40.981970",
     "exception": false,
     "start_time": "2022-08-02T07:04:40.917336",
     "status": "completed"
    },
    "tags": []
   },
   "outputs": [
    {
     "data": {
      "text/plain": [
       "'Using output dir base: /opt/data/results/gls/gene_corrs/cohorts/1000g_eur/gtex_v8/mashr'"
      ]
     },
     "metadata": {},
     "output_type": "display_data"
    }
   ],
   "source": [
    "OUTPUT_DIR_BASE = (\n",
    "    conf.RESULTS[\"GLS\"]\n",
    "    / \"gene_corrs\"\n",
    "    / \"cohorts\"\n",
    "    / COHORT_NAME\n",
    "    / REFERENCE_PANEL.lower()\n",
    "    / EQTL_MODEL.lower()\n",
    ")\n",
    "\n",
    "OUTPUT_DIR_BASE.mkdir(parents=True, exist_ok=True)\n",
    "\n",
    "display(f\"Using output dir base: {OUTPUT_DIR_BASE}\")"
   ]
  },
  {
   "cell_type": "markdown",
   "id": "b6ebb422-8204-494b-8c72-360a71ce9863",
   "metadata": {
    "papermill": {
     "duration": 0.015279,
     "end_time": "2022-08-02T07:04:41.012717",
     "exception": false,
     "start_time": "2022-08-02T07:04:40.997438",
     "status": "completed"
    },
    "tags": []
   },
   "source": [
    "# Load MultiPLIER Z genes"
   ]
  },
  {
   "cell_type": "code",
   "execution_count": 13,
   "id": "c48ef527",
   "metadata": {
    "execution": {
     "iopub.execute_input": "2022-08-02T07:04:41.044958Z",
     "iopub.status.busy": "2022-08-02T07:04:41.044528Z",
     "iopub.status.idle": "2022-08-02T07:04:41.215632Z",
     "shell.execute_reply": "2022-08-02T07:04:41.215025Z"
    },
    "papermill": {
     "duration": 0.188882,
     "end_time": "2022-08-02T07:04:41.217080",
     "exception": false,
     "start_time": "2022-08-02T07:04:41.028198",
     "status": "completed"
    },
    "tags": []
   },
   "outputs": [],
   "source": [
    "multiplier_z_genes = pd.read_pickle(\n",
    "    conf.MULTIPLIER[\"MODEL_Z_MATRIX_FILE\"]\n",
    ").index.tolist()"
   ]
  },
  {
   "cell_type": "code",
   "execution_count": 14,
   "id": "0a4ecbd9",
   "metadata": {
    "execution": {
     "iopub.execute_input": "2022-08-02T07:04:41.249498Z",
     "iopub.status.busy": "2022-08-02T07:04:41.249313Z",
     "iopub.status.idle": "2022-08-02T07:04:41.262675Z",
     "shell.execute_reply": "2022-08-02T07:04:41.262200Z"
    },
    "papermill": {
     "duration": 0.031338,
     "end_time": "2022-08-02T07:04:41.263984",
     "exception": false,
     "start_time": "2022-08-02T07:04:41.232646",
     "status": "completed"
    },
    "tags": []
   },
   "outputs": [
    {
     "data": {
      "text/plain": [
       "6750"
      ]
     },
     "execution_count": 14,
     "metadata": {},
     "output_type": "execute_result"
    }
   ],
   "source": [
    "len(multiplier_z_genes)"
   ]
  },
  {
   "cell_type": "code",
   "execution_count": 15,
   "id": "a18ce359-0759-4260-ae6f-053e8c0041b7",
   "metadata": {
    "execution": {
     "iopub.execute_input": "2022-08-02T07:04:41.296619Z",
     "iopub.status.busy": "2022-08-02T07:04:41.296045Z",
     "iopub.status.idle": "2022-08-02T07:04:41.308711Z",
     "shell.execute_reply": "2022-08-02T07:04:41.308207Z"
    },
    "papermill": {
     "duration": 0.03047,
     "end_time": "2022-08-02T07:04:41.310130",
     "exception": false,
     "start_time": "2022-08-02T07:04:41.279660",
     "status": "completed"
    },
    "tags": []
   },
   "outputs": [],
   "source": [
    "assert len(multiplier_z_genes) == len(set(multiplier_z_genes))"
   ]
  },
  {
   "cell_type": "code",
   "execution_count": 16,
   "id": "115e8864",
   "metadata": {
    "execution": {
     "iopub.execute_input": "2022-08-02T07:04:41.342868Z",
     "iopub.status.busy": "2022-08-02T07:04:41.342280Z",
     "iopub.status.idle": "2022-08-02T07:04:41.355217Z",
     "shell.execute_reply": "2022-08-02T07:04:41.354596Z"
    },
    "papermill": {
     "duration": 0.030727,
     "end_time": "2022-08-02T07:04:41.356433",
     "exception": false,
     "start_time": "2022-08-02T07:04:41.325706",
     "status": "completed"
    },
    "tags": []
   },
   "outputs": [
    {
     "data": {
      "text/plain": [
       "['GAS6', 'MMP14', 'DSP', 'MARCKSL1', 'SPARC']"
      ]
     },
     "execution_count": 16,
     "metadata": {},
     "output_type": "execute_result"
    }
   ],
   "source": [
    "multiplier_z_genes[:5]"
   ]
  },
  {
   "cell_type": "markdown",
   "id": "7bed0ce0-e7c7-4300-9a61-5412450b1904",
   "metadata": {
    "papermill": {
     "duration": 0.015726,
     "end_time": "2022-08-02T07:04:41.388066",
     "exception": false,
     "start_time": "2022-08-02T07:04:41.372340",
     "status": "completed"
    },
    "tags": []
   },
   "source": [
    "# GWAS"
   ]
  },
  {
   "cell_type": "code",
   "execution_count": 17,
   "id": "331e5691-c014-43e4-b94c-060c64d329df",
   "metadata": {
    "execution": {
     "iopub.execute_input": "2022-08-02T07:04:41.420507Z",
     "iopub.status.busy": "2022-08-02T07:04:41.420298Z",
     "iopub.status.idle": "2022-08-02T07:04:41.437410Z",
     "shell.execute_reply": "2022-08-02T07:04:41.436903Z"
    },
    "papermill": {
     "duration": 0.034937,
     "end_time": "2022-08-02T07:04:41.438783",
     "exception": false,
     "start_time": "2022-08-02T07:04:41.403846",
     "status": "completed"
    },
    "tags": []
   },
   "outputs": [],
   "source": [
    "gwas_file_columns = pd.read_csv(GWAS_FILE, sep=\"\\t\", nrows=2).columns\n",
    "assert (\n",
    "    \"panel_variant_id\" in gwas_file_columns\n",
    "), \"GWAS file must be final imputed one with column 'panel_variant_id'\"\n",
    "# FIXME: add other needed columns here"
   ]
  },
  {
   "cell_type": "code",
   "execution_count": 18,
   "id": "8d419629-8f4d-4c83-bed3-cfc071a58090",
   "metadata": {
    "execution": {
     "iopub.execute_input": "2022-08-02T07:04:41.471863Z",
     "iopub.status.busy": "2022-08-02T07:04:41.471235Z",
     "iopub.status.idle": "2022-08-02T07:04:56.237699Z",
     "shell.execute_reply": "2022-08-02T07:04:56.237052Z"
    },
    "papermill": {
     "duration": 14.784712,
     "end_time": "2022-08-02T07:04:56.239352",
     "exception": false,
     "start_time": "2022-08-02T07:04:41.454640",
     "status": "completed"
    },
    "tags": []
   },
   "outputs": [],
   "source": [
    "gwas_data = pd.read_csv(\n",
    "    GWAS_FILE,\n",
    "    sep=\"\\t\",\n",
    "    usecols=[\"panel_variant_id\", \"pvalue\", \"zscore\", \"imputation_status\"],\n",
    ")"
   ]
  },
  {
   "cell_type": "code",
   "execution_count": 19,
   "id": "3f4e814e-6b41-407e-9099-86795eec6ed9",
   "metadata": {
    "execution": {
     "iopub.execute_input": "2022-08-02T07:04:56.279546Z",
     "iopub.status.busy": "2022-08-02T07:04:56.279367Z",
     "iopub.status.idle": "2022-08-02T07:04:56.293671Z",
     "shell.execute_reply": "2022-08-02T07:04:56.293050Z"
    },
    "papermill": {
     "duration": 0.035891,
     "end_time": "2022-08-02T07:04:56.295171",
     "exception": false,
     "start_time": "2022-08-02T07:04:56.259280",
     "status": "completed"
    },
    "tags": []
   },
   "outputs": [
    {
     "data": {
      "text/plain": [
       "(8325729, 4)"
      ]
     },
     "execution_count": 19,
     "metadata": {},
     "output_type": "execute_result"
    }
   ],
   "source": [
    "gwas_data.shape"
   ]
  },
  {
   "cell_type": "code",
   "execution_count": 20,
   "id": "b4a906e9-c80a-47fc-9d73-5adb046f8b76",
   "metadata": {
    "execution": {
     "iopub.execute_input": "2022-08-02T07:04:56.335024Z",
     "iopub.status.busy": "2022-08-02T07:04:56.334860Z",
     "iopub.status.idle": "2022-08-02T07:04:56.352472Z",
     "shell.execute_reply": "2022-08-02T07:04:56.351895Z"
    },
    "papermill": {
     "duration": 0.040518,
     "end_time": "2022-08-02T07:04:56.353833",
     "exception": false,
     "start_time": "2022-08-02T07:04:56.313315",
     "status": "completed"
    },
    "tags": []
   },
   "outputs": [
    {
     "data": {
      "text/html": [
       "<div>\n",
       "<style scoped>\n",
       "    .dataframe tbody tr th:only-of-type {\n",
       "        vertical-align: middle;\n",
       "    }\n",
       "\n",
       "    .dataframe tbody tr th {\n",
       "        vertical-align: top;\n",
       "    }\n",
       "\n",
       "    .dataframe thead th {\n",
       "        text-align: right;\n",
       "    }\n",
       "</style>\n",
       "<table border=\"1\" class=\"dataframe\">\n",
       "  <thead>\n",
       "    <tr style=\"text-align: right;\">\n",
       "      <th></th>\n",
       "      <th>panel_variant_id</th>\n",
       "      <th>zscore</th>\n",
       "      <th>pvalue</th>\n",
       "      <th>imputation_status</th>\n",
       "    </tr>\n",
       "  </thead>\n",
       "  <tbody>\n",
       "    <tr>\n",
       "      <th>0</th>\n",
       "      <td>chr1_54490_G_A_b38</td>\n",
       "      <td>1.567452</td>\n",
       "      <td>0.117009</td>\n",
       "      <td>original</td>\n",
       "    </tr>\n",
       "    <tr>\n",
       "      <th>1</th>\n",
       "      <td>chr1_87021_T_C_b38</td>\n",
       "      <td>0.244372</td>\n",
       "      <td>0.806943</td>\n",
       "      <td>imputed</td>\n",
       "    </tr>\n",
       "    <tr>\n",
       "      <th>2</th>\n",
       "      <td>chr1_263722_C_G_b38</td>\n",
       "      <td>1.155239</td>\n",
       "      <td>0.247993</td>\n",
       "      <td>imputed</td>\n",
       "    </tr>\n",
       "    <tr>\n",
       "      <th>3</th>\n",
       "      <td>chr1_594402_C_T_b38</td>\n",
       "      <td>0.851234</td>\n",
       "      <td>0.394639</td>\n",
       "      <td>imputed</td>\n",
       "    </tr>\n",
       "    <tr>\n",
       "      <th>4</th>\n",
       "      <td>chr1_630555_C_T_b38</td>\n",
       "      <td>0.855129</td>\n",
       "      <td>0.392480</td>\n",
       "      <td>imputed</td>\n",
       "    </tr>\n",
       "  </tbody>\n",
       "</table>\n",
       "</div>"
      ],
      "text/plain": [
       "      panel_variant_id    zscore    pvalue imputation_status\n",
       "0   chr1_54490_G_A_b38  1.567452  0.117009          original\n",
       "1   chr1_87021_T_C_b38  0.244372  0.806943           imputed\n",
       "2  chr1_263722_C_G_b38  1.155239  0.247993           imputed\n",
       "3  chr1_594402_C_T_b38  0.851234  0.394639           imputed\n",
       "4  chr1_630555_C_T_b38  0.855129  0.392480           imputed"
      ]
     },
     "execution_count": 20,
     "metadata": {},
     "output_type": "execute_result"
    }
   ],
   "source": [
    "gwas_data.head()"
   ]
  },
  {
   "cell_type": "code",
   "execution_count": 21,
   "id": "346e2f88-44c6-4067-8752-118e2491f6fa",
   "metadata": {
    "execution": {
     "iopub.execute_input": "2022-08-02T07:04:56.388654Z",
     "iopub.status.busy": "2022-08-02T07:04:56.388490Z",
     "iopub.status.idle": "2022-08-02T07:04:56.797693Z",
     "shell.execute_reply": "2022-08-02T07:04:56.797057Z"
    },
    "papermill": {
     "duration": 0.428006,
     "end_time": "2022-08-02T07:04:56.799081",
     "exception": false,
     "start_time": "2022-08-02T07:04:56.371075",
     "status": "completed"
    },
    "tags": []
   },
   "outputs": [
    {
     "data": {
      "text/plain": [
       "array(['original', 'imputed'], dtype=object)"
      ]
     },
     "execution_count": 21,
     "metadata": {},
     "output_type": "execute_result"
    }
   ],
   "source": [
    "gwas_data[\"imputation_status\"].unique()"
   ]
  },
  {
   "cell_type": "code",
   "execution_count": 22,
   "id": "033c24fb-9c60-4ffd-929e-b0e6089820ae",
   "metadata": {
    "execution": {
     "iopub.execute_input": "2022-08-02T07:04:56.833995Z",
     "iopub.status.busy": "2022-08-02T07:04:56.833347Z",
     "iopub.status.idle": "2022-08-02T07:04:57.815136Z",
     "shell.execute_reply": "2022-08-02T07:04:57.814369Z"
    },
    "papermill": {
     "duration": 1.001489,
     "end_time": "2022-08-02T07:04:57.817051",
     "exception": false,
     "start_time": "2022-08-02T07:04:56.815562",
     "status": "completed"
    },
    "tags": []
   },
   "outputs": [
    {
     "data": {
      "text/plain": [
       "(8325729, 4)"
      ]
     },
     "execution_count": 22,
     "metadata": {},
     "output_type": "execute_result"
    }
   ],
   "source": [
    "gwas_data.dropna().shape"
   ]
  },
  {
   "cell_type": "code",
   "execution_count": 23,
   "id": "28232ce5-0afd-464e-9be3-64c3a68c2b25",
   "metadata": {
    "execution": {
     "iopub.execute_input": "2022-08-02T07:04:57.862386Z",
     "iopub.status.busy": "2022-08-02T07:04:57.862179Z",
     "iopub.status.idle": "2022-08-02T07:04:58.721383Z",
     "shell.execute_reply": "2022-08-02T07:04:58.720752Z"
    },
    "papermill": {
     "duration": 0.882776,
     "end_time": "2022-08-02T07:04:58.722994",
     "exception": false,
     "start_time": "2022-08-02T07:04:57.840218",
     "status": "completed"
    },
    "tags": []
   },
   "outputs": [],
   "source": [
    "# remove SNPs with no results\n",
    "gwas_data = gwas_data.dropna()"
   ]
  },
  {
   "cell_type": "code",
   "execution_count": 24,
   "id": "d9a6c31f-eedd-43e5-b762-5a9663be1b77",
   "metadata": {
    "execution": {
     "iopub.execute_input": "2022-08-02T07:04:58.762177Z",
     "iopub.status.busy": "2022-08-02T07:04:58.761996Z",
     "iopub.status.idle": "2022-08-02T07:04:58.776747Z",
     "shell.execute_reply": "2022-08-02T07:04:58.776226Z"
    },
    "papermill": {
     "duration": 0.036097,
     "end_time": "2022-08-02T07:04:58.778111",
     "exception": false,
     "start_time": "2022-08-02T07:04:58.742014",
     "status": "completed"
    },
    "tags": []
   },
   "outputs": [
    {
     "data": {
      "text/plain": [
       "(8325729, 4)"
      ]
     },
     "execution_count": 24,
     "metadata": {},
     "output_type": "execute_result"
    }
   ],
   "source": [
    "gwas_data.shape"
   ]
  },
  {
   "cell_type": "markdown",
   "id": "8da344de-2aa5-48a9-98ec-e8c3397ae7e6",
   "metadata": {
    "papermill": {
     "duration": 0.016509,
     "end_time": "2022-08-02T07:04:58.812257",
     "exception": false,
     "start_time": "2022-08-02T07:04:58.795748",
     "status": "completed"
    },
    "tags": []
   },
   "source": [
    "## Save GWAS variants"
   ]
  },
  {
   "cell_type": "code",
   "execution_count": 25,
   "id": "ac11fb33-ea3c-4d5c-a90b-0ceebdac43d3",
   "metadata": {
    "execution": {
     "iopub.execute_input": "2022-08-02T07:04:58.846398Z",
     "iopub.status.busy": "2022-08-02T07:04:58.845860Z",
     "iopub.status.idle": "2022-08-02T07:04:58.862808Z",
     "shell.execute_reply": "2022-08-02T07:04:58.861991Z"
    },
    "papermill": {
     "duration": 0.035495,
     "end_time": "2022-08-02T07:04:58.864186",
     "exception": false,
     "start_time": "2022-08-02T07:04:58.828691",
     "status": "completed"
    },
    "tags": []
   },
   "outputs": [
    {
     "data": {
      "text/html": [
       "<div>\n",
       "<style scoped>\n",
       "    .dataframe tbody tr th:only-of-type {\n",
       "        vertical-align: middle;\n",
       "    }\n",
       "\n",
       "    .dataframe tbody tr th {\n",
       "        vertical-align: top;\n",
       "    }\n",
       "\n",
       "    .dataframe thead th {\n",
       "        text-align: right;\n",
       "    }\n",
       "</style>\n",
       "<table border=\"1\" class=\"dataframe\">\n",
       "  <thead>\n",
       "    <tr style=\"text-align: right;\">\n",
       "      <th></th>\n",
       "      <th>panel_variant_id</th>\n",
       "      <th>zscore</th>\n",
       "      <th>pvalue</th>\n",
       "      <th>imputation_status</th>\n",
       "    </tr>\n",
       "  </thead>\n",
       "  <tbody>\n",
       "    <tr>\n",
       "      <th>0</th>\n",
       "      <td>chr1_54490_G_A_b38</td>\n",
       "      <td>1.567452</td>\n",
       "      <td>0.117009</td>\n",
       "      <td>original</td>\n",
       "    </tr>\n",
       "    <tr>\n",
       "      <th>1</th>\n",
       "      <td>chr1_87021_T_C_b38</td>\n",
       "      <td>0.244372</td>\n",
       "      <td>0.806943</td>\n",
       "      <td>imputed</td>\n",
       "    </tr>\n",
       "    <tr>\n",
       "      <th>2</th>\n",
       "      <td>chr1_263722_C_G_b38</td>\n",
       "      <td>1.155239</td>\n",
       "      <td>0.247993</td>\n",
       "      <td>imputed</td>\n",
       "    </tr>\n",
       "    <tr>\n",
       "      <th>3</th>\n",
       "      <td>chr1_594402_C_T_b38</td>\n",
       "      <td>0.851234</td>\n",
       "      <td>0.394639</td>\n",
       "      <td>imputed</td>\n",
       "    </tr>\n",
       "    <tr>\n",
       "      <th>4</th>\n",
       "      <td>chr1_630555_C_T_b38</td>\n",
       "      <td>0.855129</td>\n",
       "      <td>0.392480</td>\n",
       "      <td>imputed</td>\n",
       "    </tr>\n",
       "  </tbody>\n",
       "</table>\n",
       "</div>"
      ],
      "text/plain": [
       "      panel_variant_id    zscore    pvalue imputation_status\n",
       "0   chr1_54490_G_A_b38  1.567452  0.117009          original\n",
       "1   chr1_87021_T_C_b38  0.244372  0.806943           imputed\n",
       "2  chr1_263722_C_G_b38  1.155239  0.247993           imputed\n",
       "3  chr1_594402_C_T_b38  0.851234  0.394639           imputed\n",
       "4  chr1_630555_C_T_b38  0.855129  0.392480           imputed"
      ]
     },
     "execution_count": 25,
     "metadata": {},
     "output_type": "execute_result"
    }
   ],
   "source": [
    "gwas_data.head()"
   ]
  },
  {
   "cell_type": "code",
   "execution_count": 26,
   "id": "5f34bb3d-761a-4860-a179-77ea5f5784ad",
   "metadata": {
    "execution": {
     "iopub.execute_input": "2022-08-02T07:04:58.899343Z",
     "iopub.status.busy": "2022-08-02T07:04:58.898019Z",
     "iopub.status.idle": "2022-08-02T07:05:03.908613Z",
     "shell.execute_reply": "2022-08-02T07:05:03.907946Z"
    },
    "papermill": {
     "duration": 5.02943,
     "end_time": "2022-08-02T07:05:03.910226",
     "exception": false,
     "start_time": "2022-08-02T07:04:58.880796",
     "status": "completed"
    },
    "tags": []
   },
   "outputs": [],
   "source": [
    "assert gwas_data[\"panel_variant_id\"].is_unique"
   ]
  },
  {
   "cell_type": "code",
   "execution_count": 27,
   "id": "d4f23b2f-01a3-4a45-a2b6-31b245b5778e",
   "metadata": {
    "execution": {
     "iopub.execute_input": "2022-08-02T07:05:03.947670Z",
     "iopub.status.busy": "2022-08-02T07:05:03.947441Z",
     "iopub.status.idle": "2022-08-02T07:05:06.652903Z",
     "shell.execute_reply": "2022-08-02T07:05:06.652427Z"
    },
    "papermill": {
     "duration": 2.725137,
     "end_time": "2022-08-02T07:05:06.654295",
     "exception": false,
     "start_time": "2022-08-02T07:05:03.929158",
     "status": "completed"
    },
    "tags": []
   },
   "outputs": [
    {
     "data": {
      "text/plain": [
       "['chr2_115338583_C_G_b38',\n",
       " 'chr5_178822592_T_C_b38',\n",
       " 'chr7_26587172_T_C_b38',\n",
       " 'chr1_55345813_G_C_b38',\n",
       " 'chr7_118912308_G_T_b38']"
      ]
     },
     "execution_count": 27,
     "metadata": {},
     "output_type": "execute_result"
    }
   ],
   "source": [
    "gwas_variants_ids_set = frozenset(gwas_data[\"panel_variant_id\"])\n",
    "list(gwas_variants_ids_set)[:5]"
   ]
  },
  {
   "cell_type": "code",
   "execution_count": 28,
   "id": "b4a441df-07d7-48dc-be36-cdb3f92be651",
   "metadata": {
    "execution": {
     "iopub.execute_input": "2022-08-02T07:05:06.697462Z",
     "iopub.status.busy": "2022-08-02T07:05:06.697286Z",
     "iopub.status.idle": "2022-08-02T07:05:10.845105Z",
     "shell.execute_reply": "2022-08-02T07:05:10.844593Z"
    },
    "papermill": {
     "duration": 4.16948,
     "end_time": "2022-08-02T07:05:10.846537",
     "exception": false,
     "start_time": "2022-08-02T07:05:06.677057",
     "status": "completed"
    },
    "tags": []
   },
   "outputs": [],
   "source": [
    "with open(OUTPUT_DIR_BASE / \"gwas_variant_ids.pkl\", \"wb\") as handle:\n",
    "    pickle.dump(gwas_variants_ids_set, handle, protocol=pickle.HIGHEST_PROTOCOL)"
   ]
  },
  {
   "cell_type": "markdown",
   "id": "abcc4b3d",
   "metadata": {
    "papermill": {
     "duration": 0.016988,
     "end_time": "2022-08-02T07:05:10.881066",
     "exception": false,
     "start_time": "2022-08-02T07:05:10.864078",
     "status": "completed"
    },
    "tags": []
   },
   "source": [
    "# TWAS"
   ]
  },
  {
   "cell_type": "markdown",
   "id": "2fbc7358-0563-4fc6-bc47-a0fbcc5cdfd4",
   "metadata": {
    "papermill": {
     "duration": 0.016782,
     "end_time": "2022-08-02T07:05:10.914787",
     "exception": false,
     "start_time": "2022-08-02T07:05:10.898005",
     "status": "completed"
    },
    "tags": []
   },
   "source": [
    "## Available tissues for eQTL model"
   ]
  },
  {
   "cell_type": "code",
   "execution_count": 29,
   "id": "f32c0a84-030a-436b-b597-852b6150d2ac",
   "metadata": {
    "execution": {
     "iopub.execute_input": "2022-08-02T07:05:10.949388Z",
     "iopub.status.busy": "2022-08-02T07:05:10.949178Z",
     "iopub.status.idle": "2022-08-02T07:05:10.961872Z",
     "shell.execute_reply": "2022-08-02T07:05:10.961378Z"
    },
    "papermill": {
     "duration": 0.031632,
     "end_time": "2022-08-02T07:05:10.963178",
     "exception": false,
     "start_time": "2022-08-02T07:05:10.931546",
     "status": "completed"
    },
    "tags": []
   },
   "outputs": [],
   "source": [
    "prediction_model_tissues = conf.PHENOMEXCAN[\"PREDICTION_MODELS\"][\n",
    "    f\"{EQTL_MODEL}_TISSUES\"\n",
    "].split(\" \")"
   ]
  },
  {
   "cell_type": "code",
   "execution_count": 30,
   "id": "0e760d0e-f23d-4590-abfb-811a43f7c237",
   "metadata": {
    "execution": {
     "iopub.execute_input": "2022-08-02T07:05:10.999517Z",
     "iopub.status.busy": "2022-08-02T07:05:10.997575Z",
     "iopub.status.idle": "2022-08-02T07:05:11.027891Z",
     "shell.execute_reply": "2022-08-02T07:05:11.027338Z"
    },
    "papermill": {
     "duration": 0.049524,
     "end_time": "2022-08-02T07:05:11.029120",
     "exception": false,
     "start_time": "2022-08-02T07:05:10.979596",
     "status": "completed"
    },
    "tags": []
   },
   "outputs": [
    {
     "data": {
      "text/plain": [
       "49"
      ]
     },
     "execution_count": 30,
     "metadata": {},
     "output_type": "execute_result"
    }
   ],
   "source": [
    "len(prediction_model_tissues)"
   ]
  },
  {
   "cell_type": "code",
   "execution_count": 31,
   "id": "fa4d942c-cd67-4b31-9491-585c887c0ee3",
   "metadata": {
    "execution": {
     "iopub.execute_input": "2022-08-02T07:05:11.063019Z",
     "iopub.status.busy": "2022-08-02T07:05:11.062295Z",
     "iopub.status.idle": "2022-08-02T07:05:11.075625Z",
     "shell.execute_reply": "2022-08-02T07:05:11.074963Z"
    },
    "papermill": {
     "duration": 0.031516,
     "end_time": "2022-08-02T07:05:11.076937",
     "exception": false,
     "start_time": "2022-08-02T07:05:11.045421",
     "status": "completed"
    },
    "tags": []
   },
   "outputs": [
    {
     "data": {
      "text/plain": [
       "['Skin_Not_Sun_Exposed_Suprapubic',\n",
       " 'Cells_EBV-transformed_lymphocytes',\n",
       " 'Brain_Frontal_Cortex_BA9',\n",
       " 'Kidney_Cortex',\n",
       " 'Brain_Substantia_nigra']"
      ]
     },
     "execution_count": 31,
     "metadata": {},
     "output_type": "execute_result"
    }
   ],
   "source": [
    "prediction_model_tissues[:5]"
   ]
  },
  {
   "cell_type": "markdown",
   "id": "fab4814d-757c-4247-b5e4-891bc4863db7",
   "metadata": {
    "papermill": {
     "duration": 0.017166,
     "end_time": "2022-08-02T07:05:11.111253",
     "exception": false,
     "start_time": "2022-08-02T07:05:11.094087",
     "status": "completed"
    },
    "tags": []
   },
   "source": [
    "## S-MultiXcan results"
   ]
  },
  {
   "cell_type": "code",
   "execution_count": 32,
   "id": "2b73c11e-9aa2-410e-84b4-a70be34d02e4",
   "metadata": {
    "execution": {
     "iopub.execute_input": "2022-08-02T07:05:11.146980Z",
     "iopub.status.busy": "2022-08-02T07:05:11.146770Z",
     "iopub.status.idle": "2022-08-02T07:05:11.202643Z",
     "shell.execute_reply": "2022-08-02T07:05:11.202121Z"
    },
    "papermill": {
     "duration": 0.075169,
     "end_time": "2022-08-02T07:05:11.204081",
     "exception": false,
     "start_time": "2022-08-02T07:05:11.128912",
     "status": "completed"
    },
    "tags": []
   },
   "outputs": [],
   "source": [
    "smultixcan_results = pd.read_csv(\n",
    "    SMULTIXCAN_FILE, sep=\"\\t\", usecols=[\"gene\", \"gene_name\", \"pvalue\", \"n\", \"n_indep\"]\n",
    ")"
   ]
  },
  {
   "cell_type": "code",
   "execution_count": 33,
   "id": "8b5abebd-baab-4188-9e3d-655ebbe32401",
   "metadata": {
    "execution": {
     "iopub.execute_input": "2022-08-02T07:05:11.239463Z",
     "iopub.status.busy": "2022-08-02T07:05:11.239240Z",
     "iopub.status.idle": "2022-08-02T07:05:11.252736Z",
     "shell.execute_reply": "2022-08-02T07:05:11.252108Z"
    },
    "papermill": {
     "duration": 0.032243,
     "end_time": "2022-08-02T07:05:11.253966",
     "exception": false,
     "start_time": "2022-08-02T07:05:11.221723",
     "status": "completed"
    },
    "tags": []
   },
   "outputs": [
    {
     "data": {
      "text/plain": [
       "(22317, 5)"
      ]
     },
     "execution_count": 33,
     "metadata": {},
     "output_type": "execute_result"
    }
   ],
   "source": [
    "smultixcan_results.shape"
   ]
  },
  {
   "cell_type": "code",
   "execution_count": 34,
   "id": "c65e233f-9ef6-4883-9386-7abf1d6d1cbd",
   "metadata": {
    "execution": {
     "iopub.execute_input": "2022-08-02T07:05:11.289354Z",
     "iopub.status.busy": "2022-08-02T07:05:11.289144Z",
     "iopub.status.idle": "2022-08-02T07:05:11.305612Z",
     "shell.execute_reply": "2022-08-02T07:05:11.305122Z"
    },
    "papermill": {
     "duration": 0.035808,
     "end_time": "2022-08-02T07:05:11.306995",
     "exception": false,
     "start_time": "2022-08-02T07:05:11.271187",
     "status": "completed"
    },
    "tags": []
   },
   "outputs": [],
   "source": [
    "smultixcan_results = smultixcan_results.dropna()"
   ]
  },
  {
   "cell_type": "code",
   "execution_count": 35,
   "id": "57d2d311-4a42-4725-9e37-b124ed13ad33",
   "metadata": {
    "execution": {
     "iopub.execute_input": "2022-08-02T07:05:11.342411Z",
     "iopub.status.busy": "2022-08-02T07:05:11.341805Z",
     "iopub.status.idle": "2022-08-02T07:05:11.355617Z",
     "shell.execute_reply": "2022-08-02T07:05:11.355001Z"
    },
    "papermill": {
     "duration": 0.032852,
     "end_time": "2022-08-02T07:05:11.356829",
     "exception": false,
     "start_time": "2022-08-02T07:05:11.323977",
     "status": "completed"
    },
    "tags": []
   },
   "outputs": [
    {
     "data": {
      "text/plain": [
       "(22314, 5)"
      ]
     },
     "execution_count": 35,
     "metadata": {},
     "output_type": "execute_result"
    }
   ],
   "source": [
    "smultixcan_results.shape"
   ]
  },
  {
   "cell_type": "code",
   "execution_count": 36,
   "id": "a36b5b59-f4b6-45bf-b241-ffc9671b357f",
   "metadata": {
    "execution": {
     "iopub.execute_input": "2022-08-02T07:05:11.392195Z",
     "iopub.status.busy": "2022-08-02T07:05:11.391988Z",
     "iopub.status.idle": "2022-08-02T07:05:11.411657Z",
     "shell.execute_reply": "2022-08-02T07:05:11.411183Z"
    },
    "papermill": {
     "duration": 0.039095,
     "end_time": "2022-08-02T07:05:11.413089",
     "exception": false,
     "start_time": "2022-08-02T07:05:11.373994",
     "status": "completed"
    },
    "tags": []
   },
   "outputs": [],
   "source": [
    "smultixcan_results = smultixcan_results.assign(\n",
    "    gene_id=smultixcan_results[\"gene\"].apply(lambda g: g.split(\".\")[0])\n",
    ")"
   ]
  },
  {
   "cell_type": "code",
   "execution_count": 37,
   "id": "c49f62a9-a01a-44af-87da-47d195b0ef7e",
   "metadata": {
    "execution": {
     "iopub.execute_input": "2022-08-02T07:05:11.449040Z",
     "iopub.status.busy": "2022-08-02T07:05:11.448502Z",
     "iopub.status.idle": "2022-08-02T07:05:11.466664Z",
     "shell.execute_reply": "2022-08-02T07:05:11.466025Z"
    },
    "papermill": {
     "duration": 0.037502,
     "end_time": "2022-08-02T07:05:11.468070",
     "exception": false,
     "start_time": "2022-08-02T07:05:11.430568",
     "status": "completed"
    },
    "tags": []
   },
   "outputs": [
    {
     "data": {
      "text/html": [
       "<div>\n",
       "<style scoped>\n",
       "    .dataframe tbody tr th:only-of-type {\n",
       "        vertical-align: middle;\n",
       "    }\n",
       "\n",
       "    .dataframe tbody tr th {\n",
       "        vertical-align: top;\n",
       "    }\n",
       "\n",
       "    .dataframe thead th {\n",
       "        text-align: right;\n",
       "    }\n",
       "</style>\n",
       "<table border=\"1\" class=\"dataframe\">\n",
       "  <thead>\n",
       "    <tr style=\"text-align: right;\">\n",
       "      <th></th>\n",
       "      <th>gene</th>\n",
       "      <th>gene_name</th>\n",
       "      <th>pvalue</th>\n",
       "      <th>n</th>\n",
       "      <th>n_indep</th>\n",
       "      <th>gene_id</th>\n",
       "    </tr>\n",
       "  </thead>\n",
       "  <tbody>\n",
       "    <tr>\n",
       "      <th>0</th>\n",
       "      <td>ENSG00000131941.7</td>\n",
       "      <td>RHPN2</td>\n",
       "      <td>0.000040</td>\n",
       "      <td>48.0</td>\n",
       "      <td>3.0</td>\n",
       "      <td>ENSG00000131941</td>\n",
       "    </tr>\n",
       "    <tr>\n",
       "      <th>1</th>\n",
       "      <td>ENSG00000076650.6</td>\n",
       "      <td>GPATCH1</td>\n",
       "      <td>0.000078</td>\n",
       "      <td>40.0</td>\n",
       "      <td>3.0</td>\n",
       "      <td>ENSG00000076650</td>\n",
       "    </tr>\n",
       "    <tr>\n",
       "      <th>2</th>\n",
       "      <td>ENSG00000100906.10</td>\n",
       "      <td>NFKBIA</td>\n",
       "      <td>0.000096</td>\n",
       "      <td>1.0</td>\n",
       "      <td>1.0</td>\n",
       "      <td>ENSG00000100906</td>\n",
       "    </tr>\n",
       "    <tr>\n",
       "      <th>3</th>\n",
       "      <td>ENSG00000136319.11</td>\n",
       "      <td>TTC5</td>\n",
       "      <td>0.000109</td>\n",
       "      <td>47.0</td>\n",
       "      <td>5.0</td>\n",
       "      <td>ENSG00000136319</td>\n",
       "    </tr>\n",
       "    <tr>\n",
       "      <th>4</th>\n",
       "      <td>ENSG00000152990.13</td>\n",
       "      <td>ADGRA3</td>\n",
       "      <td>0.000135</td>\n",
       "      <td>41.0</td>\n",
       "      <td>12.0</td>\n",
       "      <td>ENSG00000152990</td>\n",
       "    </tr>\n",
       "  </tbody>\n",
       "</table>\n",
       "</div>"
      ],
      "text/plain": [
       "                 gene gene_name    pvalue     n  n_indep          gene_id\n",
       "0   ENSG00000131941.7     RHPN2  0.000040  48.0      3.0  ENSG00000131941\n",
       "1   ENSG00000076650.6   GPATCH1  0.000078  40.0      3.0  ENSG00000076650\n",
       "2  ENSG00000100906.10    NFKBIA  0.000096   1.0      1.0  ENSG00000100906\n",
       "3  ENSG00000136319.11      TTC5  0.000109  47.0      5.0  ENSG00000136319\n",
       "4  ENSG00000152990.13    ADGRA3  0.000135  41.0     12.0  ENSG00000152990"
      ]
     },
     "execution_count": 37,
     "metadata": {},
     "output_type": "execute_result"
    }
   ],
   "source": [
    "smultixcan_results.head()"
   ]
  },
  {
   "cell_type": "code",
   "execution_count": 38,
   "id": "9c4c023c-86d6-4c4b-8d57-c2b6b93aaf84",
   "metadata": {
    "execution": {
     "iopub.execute_input": "2022-08-02T07:05:11.503628Z",
     "iopub.status.busy": "2022-08-02T07:05:11.503370Z",
     "iopub.status.idle": "2022-08-02T07:05:11.518464Z",
     "shell.execute_reply": "2022-08-02T07:05:11.517935Z"
    },
    "papermill": {
     "duration": 0.0348,
     "end_time": "2022-08-02T07:05:11.520096",
     "exception": false,
     "start_time": "2022-08-02T07:05:11.485296",
     "status": "completed"
    },
    "tags": []
   },
   "outputs": [],
   "source": [
    "assert smultixcan_results[\"gene_id\"].is_unique"
   ]
  },
  {
   "cell_type": "markdown",
   "id": "aec6375f-71c4-4fac-95f3-ba695bffb044",
   "metadata": {
    "papermill": {
     "duration": 0.017101,
     "end_time": "2022-08-02T07:05:11.554647",
     "exception": false,
     "start_time": "2022-08-02T07:05:11.537546",
     "status": "completed"
    },
    "tags": []
   },
   "source": [
    "### Remove duplicated gene names"
   ]
  },
  {
   "cell_type": "code",
   "execution_count": 39,
   "id": "3db4cebf-7f10-4651-be4e-c50e65b855c5",
   "metadata": {
    "execution": {
     "iopub.execute_input": "2022-08-02T07:05:11.590423Z",
     "iopub.status.busy": "2022-08-02T07:05:11.589925Z",
     "iopub.status.idle": "2022-08-02T07:05:11.608700Z",
     "shell.execute_reply": "2022-08-02T07:05:11.607895Z"
    },
    "papermill": {
     "duration": 0.038543,
     "end_time": "2022-08-02T07:05:11.610438",
     "exception": false,
     "start_time": "2022-08-02T07:05:11.571895",
     "status": "completed"
    },
    "tags": []
   },
   "outputs": [
    {
     "data": {
      "text/plain": [
       "False"
      ]
     },
     "execution_count": 39,
     "metadata": {},
     "output_type": "execute_result"
    }
   ],
   "source": [
    "smultixcan_results[\"gene_name\"].is_unique"
   ]
  },
  {
   "cell_type": "code",
   "execution_count": 40,
   "id": "359a302e-d9a9-4bce-bc45-89ab285d8ad5",
   "metadata": {
    "execution": {
     "iopub.execute_input": "2022-08-02T07:05:11.657974Z",
     "iopub.status.busy": "2022-08-02T07:05:11.657776Z",
     "iopub.status.idle": "2022-08-02T07:05:12.058915Z",
     "shell.execute_reply": "2022-08-02T07:05:12.058174Z"
    },
    "papermill": {
     "duration": 0.426254,
     "end_time": "2022-08-02T07:05:12.060344",
     "exception": false,
     "start_time": "2022-08-02T07:05:11.634090",
     "status": "completed"
    },
    "tags": []
   },
   "outputs": [
    {
     "data": {
      "text/html": [
       "<div>\n",
       "<style scoped>\n",
       "    .dataframe tbody tr th:only-of-type {\n",
       "        vertical-align: middle;\n",
       "    }\n",
       "\n",
       "    .dataframe tbody tr th {\n",
       "        vertical-align: top;\n",
       "    }\n",
       "\n",
       "    .dataframe thead th {\n",
       "        text-align: right;\n",
       "    }\n",
       "</style>\n",
       "<table border=\"1\" class=\"dataframe\">\n",
       "  <thead>\n",
       "    <tr style=\"text-align: right;\">\n",
       "      <th></th>\n",
       "      <th>gene</th>\n",
       "      <th>gene_name</th>\n",
       "      <th>pvalue</th>\n",
       "      <th>n</th>\n",
       "      <th>n_indep</th>\n",
       "      <th>gene_id</th>\n",
       "    </tr>\n",
       "  </thead>\n",
       "  <tbody>\n",
       "    <tr>\n",
       "      <th>1463</th>\n",
       "      <td>ENSG00000235641.4</td>\n",
       "      <td>LINC00484</td>\n",
       "      <td>0.068450</td>\n",
       "      <td>35.0</td>\n",
       "      <td>3.0</td>\n",
       "      <td>ENSG00000235641</td>\n",
       "    </tr>\n",
       "    <tr>\n",
       "      <th>2393</th>\n",
       "      <td>ENSG00000237667.5</td>\n",
       "      <td>LINC01115</td>\n",
       "      <td>0.112329</td>\n",
       "      <td>22.0</td>\n",
       "      <td>1.0</td>\n",
       "      <td>ENSG00000237667</td>\n",
       "    </tr>\n",
       "    <tr>\n",
       "      <th>5200</th>\n",
       "      <td>ENSG00000272342.1</td>\n",
       "      <td>LINC01115</td>\n",
       "      <td>0.243122</td>\n",
       "      <td>4.0</td>\n",
       "      <td>1.0</td>\n",
       "      <td>ENSG00000272342</td>\n",
       "    </tr>\n",
       "    <tr>\n",
       "      <th>5884</th>\n",
       "      <td>ENSG00000229694.6</td>\n",
       "      <td>LINC00484</td>\n",
       "      <td>0.274814</td>\n",
       "      <td>40.0</td>\n",
       "      <td>5.0</td>\n",
       "      <td>ENSG00000229694</td>\n",
       "    </tr>\n",
       "    <tr>\n",
       "      <th>6131</th>\n",
       "      <td>ENSG00000147676.13</td>\n",
       "      <td>MAL2</td>\n",
       "      <td>0.286003</td>\n",
       "      <td>29.0</td>\n",
       "      <td>5.0</td>\n",
       "      <td>ENSG00000147676</td>\n",
       "    </tr>\n",
       "    <tr>\n",
       "      <th>6209</th>\n",
       "      <td>ENSG00000283992.1</td>\n",
       "      <td>LYNX1</td>\n",
       "      <td>0.289628</td>\n",
       "      <td>45.0</td>\n",
       "      <td>3.0</td>\n",
       "      <td>ENSG00000283992</td>\n",
       "    </tr>\n",
       "    <tr>\n",
       "      <th>10560</th>\n",
       "      <td>ENSG00000180155.19</td>\n",
       "      <td>LYNX1</td>\n",
       "      <td>0.486960</td>\n",
       "      <td>48.0</td>\n",
       "      <td>3.0</td>\n",
       "      <td>ENSG00000180155</td>\n",
       "    </tr>\n",
       "    <tr>\n",
       "      <th>14028</th>\n",
       "      <td>ENSG00000235271.5</td>\n",
       "      <td>LINC01422</td>\n",
       "      <td>0.643355</td>\n",
       "      <td>38.0</td>\n",
       "      <td>6.0</td>\n",
       "      <td>ENSG00000235271</td>\n",
       "    </tr>\n",
       "    <tr>\n",
       "      <th>14253</th>\n",
       "      <td>ENSG00000253972.5</td>\n",
       "      <td>MAL2</td>\n",
       "      <td>0.654873</td>\n",
       "      <td>6.0</td>\n",
       "      <td>4.0</td>\n",
       "      <td>ENSG00000253972</td>\n",
       "    </tr>\n",
       "    <tr>\n",
       "      <th>20085</th>\n",
       "      <td>ENSG00000182957.15</td>\n",
       "      <td>SPATA13</td>\n",
       "      <td>0.906729</td>\n",
       "      <td>40.0</td>\n",
       "      <td>14.0</td>\n",
       "      <td>ENSG00000182957</td>\n",
       "    </tr>\n",
       "    <tr>\n",
       "      <th>21031</th>\n",
       "      <td>ENSG00000223704.1</td>\n",
       "      <td>LINC01422</td>\n",
       "      <td>0.946342</td>\n",
       "      <td>48.0</td>\n",
       "      <td>3.0</td>\n",
       "      <td>ENSG00000223704</td>\n",
       "    </tr>\n",
       "    <tr>\n",
       "      <th>21040</th>\n",
       "      <td>ENSG00000228741.2</td>\n",
       "      <td>SPATA13</td>\n",
       "      <td>0.946653</td>\n",
       "      <td>23.0</td>\n",
       "      <td>6.0</td>\n",
       "      <td>ENSG00000228741</td>\n",
       "    </tr>\n",
       "  </tbody>\n",
       "</table>\n",
       "</div>"
      ],
      "text/plain": [
       "                     gene  gene_name    pvalue     n  n_indep          gene_id\n",
       "1463    ENSG00000235641.4  LINC00484  0.068450  35.0      3.0  ENSG00000235641\n",
       "2393    ENSG00000237667.5  LINC01115  0.112329  22.0      1.0  ENSG00000237667\n",
       "5200    ENSG00000272342.1  LINC01115  0.243122   4.0      1.0  ENSG00000272342\n",
       "5884    ENSG00000229694.6  LINC00484  0.274814  40.0      5.0  ENSG00000229694\n",
       "6131   ENSG00000147676.13       MAL2  0.286003  29.0      5.0  ENSG00000147676\n",
       "6209    ENSG00000283992.1      LYNX1  0.289628  45.0      3.0  ENSG00000283992\n",
       "10560  ENSG00000180155.19      LYNX1  0.486960  48.0      3.0  ENSG00000180155\n",
       "14028   ENSG00000235271.5  LINC01422  0.643355  38.0      6.0  ENSG00000235271\n",
       "14253   ENSG00000253972.5       MAL2  0.654873   6.0      4.0  ENSG00000253972\n",
       "20085  ENSG00000182957.15    SPATA13  0.906729  40.0     14.0  ENSG00000182957\n",
       "21031   ENSG00000223704.1  LINC01422  0.946342  48.0      3.0  ENSG00000223704\n",
       "21040   ENSG00000228741.2    SPATA13  0.946653  23.0      6.0  ENSG00000228741"
      ]
     },
     "metadata": {},
     "output_type": "display_data"
    }
   ],
   "source": [
    "# list duplicated gene names\n",
    "_smultixcan_duplicated_gene_names = smultixcan_results[\n",
    "    smultixcan_results[\"gene_name\"].duplicated(keep=False)\n",
    "]\n",
    "display(_smultixcan_duplicated_gene_names)"
   ]
  },
  {
   "cell_type": "code",
   "execution_count": 41,
   "id": "d8ff3ec1-312a-48be-b33f-50fb6f103c21",
   "metadata": {
    "execution": {
     "iopub.execute_input": "2022-08-02T07:05:12.099969Z",
     "iopub.status.busy": "2022-08-02T07:05:12.099810Z",
     "iopub.status.idle": "2022-08-02T07:05:12.111444Z",
     "shell.execute_reply": "2022-08-02T07:05:12.111012Z"
    },
    "papermill": {
     "duration": 0.031777,
     "end_time": "2022-08-02T07:05:12.112752",
     "exception": false,
     "start_time": "2022-08-02T07:05:12.080975",
     "status": "completed"
    },
    "tags": []
   },
   "outputs": [],
   "source": [
    "# TODO: my strategy below to handle duplicated gene names is to keep the first one\n",
    "#  it might be better to have another strategy, maybe keeping the most significant"
   ]
  },
  {
   "cell_type": "code",
   "execution_count": 42,
   "id": "11e348f5-ba33-487a-9dfe-cd493a02f320",
   "metadata": {
    "execution": {
     "iopub.execute_input": "2022-08-02T07:05:12.149329Z",
     "iopub.status.busy": "2022-08-02T07:05:12.149129Z",
     "iopub.status.idle": "2022-08-02T07:05:12.168859Z",
     "shell.execute_reply": "2022-08-02T07:05:12.168478Z"
    },
    "papermill": {
     "duration": 0.039661,
     "end_time": "2022-08-02T07:05:12.170153",
     "exception": false,
     "start_time": "2022-08-02T07:05:12.130492",
     "status": "completed"
    },
    "tags": []
   },
   "outputs": [
    {
     "data": {
      "text/plain": [
       "(22308, 6)"
      ]
     },
     "metadata": {},
     "output_type": "display_data"
    }
   ],
   "source": [
    "smultixcan_results = smultixcan_results.drop_duplicates(\n",
    "    subset=[\"gene_name\"], keep=\"first\"\n",
    ")\n",
    "display(smultixcan_results.shape)"
   ]
  },
  {
   "cell_type": "markdown",
   "id": "1f9939f1-4200-40d9-a8bf-8e4fd68bee48",
   "metadata": {
    "papermill": {
     "duration": 0.018051,
     "end_time": "2022-08-02T07:05:12.206814",
     "exception": false,
     "start_time": "2022-08-02T07:05:12.188763",
     "status": "completed"
    },
    "tags": []
   },
   "source": [
    "### Get common genes with MultiPLIER"
   ]
  },
  {
   "cell_type": "code",
   "execution_count": 43,
   "id": "c820e6cf-6350-45af-b49a-0abd94f570ff",
   "metadata": {
    "execution": {
     "iopub.execute_input": "2022-08-02T07:05:12.243511Z",
     "iopub.status.busy": "2022-08-02T07:05:12.242974Z",
     "iopub.status.idle": "2022-08-02T07:05:12.258914Z",
     "shell.execute_reply": "2022-08-02T07:05:12.258313Z"
    },
    "papermill": {
     "duration": 0.035685,
     "end_time": "2022-08-02T07:05:12.260381",
     "exception": false,
     "start_time": "2022-08-02T07:05:12.224696",
     "status": "completed"
    },
    "tags": []
   },
   "outputs": [],
   "source": [
    "common_genes = set(multiplier_z_genes).intersection(\n",
    "    set(smultixcan_results[\"gene_name\"])\n",
    ")"
   ]
  },
  {
   "cell_type": "code",
   "execution_count": 44,
   "id": "0a7328f9-96c7-4ac6-a9a6-ae4fa121a4cd",
   "metadata": {
    "execution": {
     "iopub.execute_input": "2022-08-02T07:05:12.297839Z",
     "iopub.status.busy": "2022-08-02T07:05:12.297177Z",
     "iopub.status.idle": "2022-08-02T07:05:12.310842Z",
     "shell.execute_reply": "2022-08-02T07:05:12.310045Z"
    },
    "papermill": {
     "duration": 0.033674,
     "end_time": "2022-08-02T07:05:12.312124",
     "exception": false,
     "start_time": "2022-08-02T07:05:12.278450",
     "status": "completed"
    },
    "tags": []
   },
   "outputs": [
    {
     "data": {
      "text/plain": [
       "6444"
      ]
     },
     "execution_count": 44,
     "metadata": {},
     "output_type": "execute_result"
    }
   ],
   "source": [
    "len(common_genes)"
   ]
  },
  {
   "cell_type": "code",
   "execution_count": 45,
   "id": "5b08d362-44c8-4db2-9258-670e2e2a9cc0",
   "metadata": {
    "execution": {
     "iopub.execute_input": "2022-08-02T07:05:12.349087Z",
     "iopub.status.busy": "2022-08-02T07:05:12.348431Z",
     "iopub.status.idle": "2022-08-02T07:05:12.363242Z",
     "shell.execute_reply": "2022-08-02T07:05:12.362740Z"
    },
    "papermill": {
     "duration": 0.034572,
     "end_time": "2022-08-02T07:05:12.364475",
     "exception": false,
     "start_time": "2022-08-02T07:05:12.329903",
     "status": "completed"
    },
    "tags": []
   },
   "outputs": [
    {
     "data": {
      "text/plain": [
       "['A2M', 'AAAS', 'AANAT', 'AARS', 'AARS2']"
      ]
     },
     "execution_count": 45,
     "metadata": {},
     "output_type": "execute_result"
    }
   ],
   "source": [
    "sorted(list(common_genes))[:5]"
   ]
  },
  {
   "cell_type": "code",
   "execution_count": 46,
   "id": "ddc47580-bd3d-4168-bbb2-0763d227369b",
   "metadata": {
    "execution": {
     "iopub.execute_input": "2022-08-02T07:05:12.401894Z",
     "iopub.status.busy": "2022-08-02T07:05:12.401306Z",
     "iopub.status.idle": "2022-08-02T07:05:12.417283Z",
     "shell.execute_reply": "2022-08-02T07:05:12.416782Z"
    },
    "papermill": {
     "duration": 0.036254,
     "end_time": "2022-08-02T07:05:12.418706",
     "exception": false,
     "start_time": "2022-08-02T07:05:12.382452",
     "status": "completed"
    },
    "tags": []
   },
   "outputs": [],
   "source": [
    "assert smultixcan_results[smultixcan_results[\"gene_name\"].isin(common_genes)].shape[\n",
    "    0\n",
    "] == len(common_genes)"
   ]
  },
  {
   "cell_type": "code",
   "execution_count": 47,
   "id": "96303553-db48-4b3d-9198-362aa48052b4",
   "metadata": {
    "execution": {
     "iopub.execute_input": "2022-08-02T07:05:12.455881Z",
     "iopub.status.busy": "2022-08-02T07:05:12.455658Z",
     "iopub.status.idle": "2022-08-02T07:05:12.470959Z",
     "shell.execute_reply": "2022-08-02T07:05:12.470471Z"
    },
    "papermill": {
     "duration": 0.035553,
     "end_time": "2022-08-02T07:05:12.472391",
     "exception": false,
     "start_time": "2022-08-02T07:05:12.436838",
     "status": "completed"
    },
    "tags": []
   },
   "outputs": [],
   "source": [
    "smultixcan_gene_id_common = smultixcan_results[\n",
    "    smultixcan_results[\"gene_name\"].isin(common_genes)\n",
    "][\"gene_id\"]"
   ]
  },
  {
   "cell_type": "code",
   "execution_count": 48,
   "id": "e4172506-0b33-4ec6-84e0-ef5e93aa99d7",
   "metadata": {
    "execution": {
     "iopub.execute_input": "2022-08-02T07:05:12.510053Z",
     "iopub.status.busy": "2022-08-02T07:05:12.509399Z",
     "iopub.status.idle": "2022-08-02T07:05:12.522952Z",
     "shell.execute_reply": "2022-08-02T07:05:12.522356Z"
    },
    "papermill": {
     "duration": 0.033886,
     "end_time": "2022-08-02T07:05:12.524303",
     "exception": false,
     "start_time": "2022-08-02T07:05:12.490417",
     "status": "completed"
    },
    "tags": []
   },
   "outputs": [
    {
     "data": {
      "text/plain": [
       "(6444,)"
      ]
     },
     "execution_count": 48,
     "metadata": {},
     "output_type": "execute_result"
    }
   ],
   "source": [
    "smultixcan_gene_id_common.shape"
   ]
  },
  {
   "cell_type": "code",
   "execution_count": 49,
   "id": "93de05fd-3783-4369-9893-90de07601e04",
   "metadata": {
    "execution": {
     "iopub.execute_input": "2022-08-02T07:05:12.561642Z",
     "iopub.status.busy": "2022-08-02T07:05:12.561431Z",
     "iopub.status.idle": "2022-08-02T07:05:12.575338Z",
     "shell.execute_reply": "2022-08-02T07:05:12.574863Z"
    },
    "papermill": {
     "duration": 0.034359,
     "end_time": "2022-08-02T07:05:12.576695",
     "exception": false,
     "start_time": "2022-08-02T07:05:12.542336",
     "status": "completed"
    },
    "tags": []
   },
   "outputs": [],
   "source": [
    "assert smultixcan_gene_id_common.is_unique"
   ]
  },
  {
   "cell_type": "code",
   "execution_count": 50,
   "id": "a82c0037-4e3d-451e-9051-dc66bc4481db",
   "metadata": {
    "execution": {
     "iopub.execute_input": "2022-08-02T07:05:12.614499Z",
     "iopub.status.busy": "2022-08-02T07:05:12.613978Z",
     "iopub.status.idle": "2022-08-02T07:05:12.627257Z",
     "shell.execute_reply": "2022-08-02T07:05:12.626732Z"
    },
    "papermill": {
     "duration": 0.033703,
     "end_time": "2022-08-02T07:05:12.628590",
     "exception": false,
     "start_time": "2022-08-02T07:05:12.594887",
     "status": "completed"
    },
    "tags": []
   },
   "outputs": [],
   "source": [
    "smultixcan_gene_id_common = set(smultixcan_gene_id_common)"
   ]
  },
  {
   "cell_type": "markdown",
   "id": "4e1e5166-d4f0-449b-9c4e-1b53cf3774f8",
   "metadata": {
    "papermill": {
     "duration": 0.017838,
     "end_time": "2022-08-02T07:05:12.664634",
     "exception": false,
     "start_time": "2022-08-02T07:05:12.646796",
     "status": "completed"
    },
    "tags": []
   },
   "source": [
    "### Save"
   ]
  },
  {
   "cell_type": "code",
   "execution_count": 51,
   "id": "1fc57e26-d415-4565-be7f-e7e1de935dbb",
   "metadata": {
    "execution": {
     "iopub.execute_input": "2022-08-02T07:05:12.701987Z",
     "iopub.status.busy": "2022-08-02T07:05:12.701778Z",
     "iopub.status.idle": "2022-08-02T07:05:12.715295Z",
     "shell.execute_reply": "2022-08-02T07:05:12.714829Z"
    },
    "papermill": {
     "duration": 0.033767,
     "end_time": "2022-08-02T07:05:12.716651",
     "exception": false,
     "start_time": "2022-08-02T07:05:12.682884",
     "status": "completed"
    },
    "tags": []
   },
   "outputs": [],
   "source": [
    "with open(OUTPUT_DIR_BASE / \"common_genes.pkl\", \"wb\") as handle:\n",
    "    pickle.dump(common_genes, handle, protocol=pickle.HIGHEST_PROTOCOL)"
   ]
  },
  {
   "cell_type": "markdown",
   "id": "7f51338b-8a75-42c3-a7e5-a0961cefb663",
   "metadata": {
    "papermill": {
     "duration": 0.018104,
     "end_time": "2022-08-02T07:05:12.752928",
     "exception": false,
     "start_time": "2022-08-02T07:05:12.734824",
     "status": "completed"
    },
    "tags": []
   },
   "source": [
    "## Genes info"
   ]
  },
  {
   "cell_type": "code",
   "execution_count": 52,
   "id": "bb932812",
   "metadata": {
    "execution": {
     "iopub.execute_input": "2022-08-02T07:05:12.797962Z",
     "iopub.status.busy": "2022-08-02T07:05:12.797769Z",
     "iopub.status.idle": "2022-08-02T07:05:13.151723Z",
     "shell.execute_reply": "2022-08-02T07:05:13.151148Z"
    },
    "papermill": {
     "duration": 0.378682,
     "end_time": "2022-08-02T07:05:13.153291",
     "exception": false,
     "start_time": "2022-08-02T07:05:12.774609",
     "status": "completed"
    },
    "tags": []
   },
   "outputs": [],
   "source": [
    "multiplier_gene_obj = {\n",
    "    gene_name: Gene(name=gene_name)\n",
    "    for gene_name in common_genes\n",
    "    if gene_name in Gene.GENE_NAME_TO_ID_MAP\n",
    "}"
   ]
  },
  {
   "cell_type": "code",
   "execution_count": 53,
   "id": "39533214",
   "metadata": {
    "execution": {
     "iopub.execute_input": "2022-08-02T07:05:13.198461Z",
     "iopub.status.busy": "2022-08-02T07:05:13.198281Z",
     "iopub.status.idle": "2022-08-02T07:05:13.212282Z",
     "shell.execute_reply": "2022-08-02T07:05:13.211641Z"
    },
    "papermill": {
     "duration": 0.037327,
     "end_time": "2022-08-02T07:05:13.213521",
     "exception": false,
     "start_time": "2022-08-02T07:05:13.176194",
     "status": "completed"
    },
    "tags": []
   },
   "outputs": [
    {
     "data": {
      "text/plain": [
       "6444"
      ]
     },
     "execution_count": 53,
     "metadata": {},
     "output_type": "execute_result"
    }
   ],
   "source": [
    "len(multiplier_gene_obj)"
   ]
  },
  {
   "cell_type": "code",
   "execution_count": 54,
   "id": "9a5d0b84",
   "metadata": {
    "execution": {
     "iopub.execute_input": "2022-08-02T07:05:13.251690Z",
     "iopub.status.busy": "2022-08-02T07:05:13.251497Z",
     "iopub.status.idle": "2022-08-02T07:05:13.263918Z",
     "shell.execute_reply": "2022-08-02T07:05:13.263372Z"
    },
    "papermill": {
     "duration": 0.032723,
     "end_time": "2022-08-02T07:05:13.265234",
     "exception": false,
     "start_time": "2022-08-02T07:05:13.232511",
     "status": "completed"
    },
    "tags": []
   },
   "outputs": [],
   "source": [
    "assert multiplier_gene_obj[\"GAS6\"].ensembl_id == \"ENSG00000183087\""
   ]
  },
  {
   "cell_type": "code",
   "execution_count": 55,
   "id": "e3ffabc7",
   "metadata": {
    "execution": {
     "iopub.execute_input": "2022-08-02T07:05:13.303011Z",
     "iopub.status.busy": "2022-08-02T07:05:13.302805Z",
     "iopub.status.idle": "2022-08-02T07:05:16.496087Z",
     "shell.execute_reply": "2022-08-02T07:05:16.495556Z"
    },
    "papermill": {
     "duration": 3.213847,
     "end_time": "2022-08-02T07:05:16.497528",
     "exception": false,
     "start_time": "2022-08-02T07:05:13.283681",
     "status": "completed"
    },
    "tags": []
   },
   "outputs": [],
   "source": [
    "_gene_obj = list(multiplier_gene_obj.values())\n",
    "\n",
    "genes_info = pd.DataFrame(\n",
    "    {\n",
    "        \"name\": [g.name for g in _gene_obj],\n",
    "        \"id\": [g.ensembl_id for g in _gene_obj],\n",
    "        \"chr\": [g.chromosome for g in _gene_obj],\n",
    "        \"band\": [g.band for g in _gene_obj],\n",
    "        \"start_position\": [g.get_attribute(\"start_position\") for g in _gene_obj],\n",
    "        \"end_position\": [g.get_attribute(\"end_position\") for g in _gene_obj],\n",
    "    }\n",
    ")"
   ]
  },
  {
   "cell_type": "code",
   "execution_count": 56,
   "id": "00475e72-1cfc-485f-8b4e-1d9cce695f58",
   "metadata": {
    "execution": {
     "iopub.execute_input": "2022-08-02T07:05:16.536661Z",
     "iopub.status.busy": "2022-08-02T07:05:16.536049Z",
     "iopub.status.idle": "2022-08-02T07:05:16.597017Z",
     "shell.execute_reply": "2022-08-02T07:05:16.596598Z"
    },
    "papermill": {
     "duration": 0.082225,
     "end_time": "2022-08-02T07:05:16.598315",
     "exception": false,
     "start_time": "2022-08-02T07:05:16.516090",
     "status": "completed"
    },
    "tags": []
   },
   "outputs": [],
   "source": [
    "genes_info = genes_info.assign(\n",
    "    gene_length=genes_info.apply(\n",
    "        lambda x: x[\"end_position\"] - x[\"start_position\"], axis=1\n",
    "    )\n",
    ")"
   ]
  },
  {
   "cell_type": "code",
   "execution_count": 57,
   "id": "e23519b8",
   "metadata": {
    "execution": {
     "iopub.execute_input": "2022-08-02T07:05:16.636628Z",
     "iopub.status.busy": "2022-08-02T07:05:16.635961Z",
     "iopub.status.idle": "2022-08-02T07:05:16.649427Z",
     "shell.execute_reply": "2022-08-02T07:05:16.648786Z"
    },
    "papermill": {
     "duration": 0.034013,
     "end_time": "2022-08-02T07:05:16.650728",
     "exception": false,
     "start_time": "2022-08-02T07:05:16.616715",
     "status": "completed"
    },
    "tags": []
   },
   "outputs": [
    {
     "data": {
      "text/plain": [
       "(6444, 7)"
      ]
     },
     "execution_count": 57,
     "metadata": {},
     "output_type": "execute_result"
    }
   ],
   "source": [
    "genes_info.shape"
   ]
  },
  {
   "cell_type": "code",
   "execution_count": 58,
   "id": "0d71881c",
   "metadata": {
    "execution": {
     "iopub.execute_input": "2022-08-02T07:05:16.689614Z",
     "iopub.status.busy": "2022-08-02T07:05:16.688968Z",
     "iopub.status.idle": "2022-08-02T07:05:16.707837Z",
     "shell.execute_reply": "2022-08-02T07:05:16.707017Z"
    },
    "papermill": {
     "duration": 0.039779,
     "end_time": "2022-08-02T07:05:16.709137",
     "exception": false,
     "start_time": "2022-08-02T07:05:16.669358",
     "status": "completed"
    },
    "tags": []
   },
   "outputs": [
    {
     "data": {
      "text/html": [
       "<div>\n",
       "<style scoped>\n",
       "    .dataframe tbody tr th:only-of-type {\n",
       "        vertical-align: middle;\n",
       "    }\n",
       "\n",
       "    .dataframe tbody tr th {\n",
       "        vertical-align: top;\n",
       "    }\n",
       "\n",
       "    .dataframe thead th {\n",
       "        text-align: right;\n",
       "    }\n",
       "</style>\n",
       "<table border=\"1\" class=\"dataframe\">\n",
       "  <thead>\n",
       "    <tr style=\"text-align: right;\">\n",
       "      <th></th>\n",
       "      <th>name</th>\n",
       "      <th>id</th>\n",
       "      <th>chr</th>\n",
       "      <th>band</th>\n",
       "      <th>start_position</th>\n",
       "      <th>end_position</th>\n",
       "      <th>gene_length</th>\n",
       "    </tr>\n",
       "  </thead>\n",
       "  <tbody>\n",
       "    <tr>\n",
       "      <th>0</th>\n",
       "      <td>MAPK11</td>\n",
       "      <td>ENSG00000185386</td>\n",
       "      <td>22</td>\n",
       "      <td>22q13.33</td>\n",
       "      <td>50263713.0</td>\n",
       "      <td>50270767.0</td>\n",
       "      <td>7054.0</td>\n",
       "    </tr>\n",
       "    <tr>\n",
       "      <th>1</th>\n",
       "      <td>RUNX1</td>\n",
       "      <td>ENSG00000159216</td>\n",
       "      <td>21</td>\n",
       "      <td>21q22.12</td>\n",
       "      <td>34787801.0</td>\n",
       "      <td>36004667.0</td>\n",
       "      <td>1216866.0</td>\n",
       "    </tr>\n",
       "    <tr>\n",
       "      <th>2</th>\n",
       "      <td>RFC4</td>\n",
       "      <td>ENSG00000163918</td>\n",
       "      <td>3</td>\n",
       "      <td>3q27.3</td>\n",
       "      <td>186789880.0</td>\n",
       "      <td>186807058.0</td>\n",
       "      <td>17178.0</td>\n",
       "    </tr>\n",
       "    <tr>\n",
       "      <th>3</th>\n",
       "      <td>ANG</td>\n",
       "      <td>ENSG00000214274</td>\n",
       "      <td>14</td>\n",
       "      <td>14q11.2</td>\n",
       "      <td>20684177.0</td>\n",
       "      <td>20698971.0</td>\n",
       "      <td>14794.0</td>\n",
       "    </tr>\n",
       "    <tr>\n",
       "      <th>4</th>\n",
       "      <td>NKD1</td>\n",
       "      <td>ENSG00000140807</td>\n",
       "      <td>16</td>\n",
       "      <td>16q12.1</td>\n",
       "      <td>50548396.0</td>\n",
       "      <td>50649249.0</td>\n",
       "      <td>100853.0</td>\n",
       "    </tr>\n",
       "  </tbody>\n",
       "</table>\n",
       "</div>"
      ],
      "text/plain": [
       "     name               id chr      band  start_position  end_position  \\\n",
       "0  MAPK11  ENSG00000185386  22  22q13.33      50263713.0    50270767.0   \n",
       "1   RUNX1  ENSG00000159216  21  21q22.12      34787801.0    36004667.0   \n",
       "2    RFC4  ENSG00000163918   3    3q27.3     186789880.0   186807058.0   \n",
       "3     ANG  ENSG00000214274  14   14q11.2      20684177.0    20698971.0   \n",
       "4    NKD1  ENSG00000140807  16   16q12.1      50548396.0    50649249.0   \n",
       "\n",
       "   gene_length  \n",
       "0       7054.0  \n",
       "1    1216866.0  \n",
       "2      17178.0  \n",
       "3      14794.0  \n",
       "4     100853.0  "
      ]
     },
     "execution_count": 58,
     "metadata": {},
     "output_type": "execute_result"
    }
   ],
   "source": [
    "genes_info.head()"
   ]
  },
  {
   "cell_type": "code",
   "execution_count": 59,
   "id": "eb968287-d9cf-40f6-a93e-6b322b844404",
   "metadata": {
    "execution": {
     "iopub.execute_input": "2022-08-02T07:05:16.748043Z",
     "iopub.status.busy": "2022-08-02T07:05:16.747844Z",
     "iopub.status.idle": "2022-08-02T07:05:16.772934Z",
     "shell.execute_reply": "2022-08-02T07:05:16.772311Z"
    },
    "papermill": {
     "duration": 0.05301,
     "end_time": "2022-08-02T07:05:16.781066",
     "exception": false,
     "start_time": "2022-08-02T07:05:16.728056",
     "status": "completed"
    },
    "tags": []
   },
   "outputs": [
    {
     "data": {
      "text/html": [
       "<div>\n",
       "<style scoped>\n",
       "    .dataframe tbody tr th:only-of-type {\n",
       "        vertical-align: middle;\n",
       "    }\n",
       "\n",
       "    .dataframe tbody tr th {\n",
       "        vertical-align: top;\n",
       "    }\n",
       "\n",
       "    .dataframe thead th {\n",
       "        text-align: right;\n",
       "    }\n",
       "</style>\n",
       "<table border=\"1\" class=\"dataframe\">\n",
       "  <thead>\n",
       "    <tr style=\"text-align: right;\">\n",
       "      <th></th>\n",
       "      <th>name</th>\n",
       "      <th>id</th>\n",
       "      <th>chr</th>\n",
       "      <th>band</th>\n",
       "      <th>start_position</th>\n",
       "      <th>end_position</th>\n",
       "      <th>gene_length</th>\n",
       "    </tr>\n",
       "  </thead>\n",
       "  <tbody>\n",
       "    <tr>\n",
       "      <th>2664</th>\n",
       "      <td>CYP2J2</td>\n",
       "      <td>ENSG00000134716</td>\n",
       "      <td>1</td>\n",
       "      <td>1p32.1</td>\n",
       "      <td>59893308.0</td>\n",
       "      <td>59926773.0</td>\n",
       "      <td>33465.0</td>\n",
       "    </tr>\n",
       "    <tr>\n",
       "      <th>3965</th>\n",
       "      <td>SH3GLB1</td>\n",
       "      <td>ENSG00000097033</td>\n",
       "      <td>1</td>\n",
       "      <td>1p22.3</td>\n",
       "      <td>86704570.0</td>\n",
       "      <td>86748184.0</td>\n",
       "      <td>43614.0</td>\n",
       "    </tr>\n",
       "    <tr>\n",
       "      <th>4432</th>\n",
       "      <td>AMPD2</td>\n",
       "      <td>ENSG00000116337</td>\n",
       "      <td>1</td>\n",
       "      <td>1p13.3</td>\n",
       "      <td>109616104.0</td>\n",
       "      <td>109632051.0</td>\n",
       "      <td>15947.0</td>\n",
       "    </tr>\n",
       "    <tr>\n",
       "      <th>1050</th>\n",
       "      <td>CAMTA1</td>\n",
       "      <td>ENSG00000171735</td>\n",
       "      <td>1</td>\n",
       "      <td>1p36.31</td>\n",
       "      <td>6785454.0</td>\n",
       "      <td>7769706.0</td>\n",
       "      <td>984252.0</td>\n",
       "    </tr>\n",
       "    <tr>\n",
       "      <th>5327</th>\n",
       "      <td>TAL1</td>\n",
       "      <td>ENSG00000162367</td>\n",
       "      <td>1</td>\n",
       "      <td>1p33</td>\n",
       "      <td>47216290.0</td>\n",
       "      <td>47232220.0</td>\n",
       "      <td>15930.0</td>\n",
       "    </tr>\n",
       "    <tr>\n",
       "      <th>...</th>\n",
       "      <td>...</td>\n",
       "      <td>...</td>\n",
       "      <td>...</td>\n",
       "      <td>...</td>\n",
       "      <td>...</td>\n",
       "      <td>...</td>\n",
       "      <td>...</td>\n",
       "    </tr>\n",
       "    <tr>\n",
       "      <th>505</th>\n",
       "      <td>CLTA</td>\n",
       "      <td>ENSG00000122705</td>\n",
       "      <td>9</td>\n",
       "      <td>9p13.3</td>\n",
       "      <td>36190856.0</td>\n",
       "      <td>36304781.0</td>\n",
       "      <td>113925.0</td>\n",
       "    </tr>\n",
       "    <tr>\n",
       "      <th>2812</th>\n",
       "      <td>ARPC5L</td>\n",
       "      <td>ENSG00000136950</td>\n",
       "      <td>9</td>\n",
       "      <td>9q33.3</td>\n",
       "      <td>124862130.0</td>\n",
       "      <td>124877733.0</td>\n",
       "      <td>15603.0</td>\n",
       "    </tr>\n",
       "    <tr>\n",
       "      <th>3813</th>\n",
       "      <td>PSMB7</td>\n",
       "      <td>ENSG00000136930</td>\n",
       "      <td>9</td>\n",
       "      <td>9q33.3</td>\n",
       "      <td>124353465.0</td>\n",
       "      <td>124415444.0</td>\n",
       "      <td>61979.0</td>\n",
       "    </tr>\n",
       "    <tr>\n",
       "      <th>336</th>\n",
       "      <td>TMEM133</td>\n",
       "      <td>ENSG00000170647</td>\n",
       "      <td>None</td>\n",
       "      <td>None</td>\n",
       "      <td>NaN</td>\n",
       "      <td>NaN</td>\n",
       "      <td>NaN</td>\n",
       "    </tr>\n",
       "    <tr>\n",
       "      <th>982</th>\n",
       "      <td>TBCE</td>\n",
       "      <td>ENSG00000116957</td>\n",
       "      <td>None</td>\n",
       "      <td>None</td>\n",
       "      <td>NaN</td>\n",
       "      <td>NaN</td>\n",
       "      <td>NaN</td>\n",
       "    </tr>\n",
       "  </tbody>\n",
       "</table>\n",
       "<p>6444 rows × 7 columns</p>\n",
       "</div>"
      ],
      "text/plain": [
       "         name               id   chr     band  start_position  end_position  \\\n",
       "2664   CYP2J2  ENSG00000134716     1   1p32.1      59893308.0    59926773.0   \n",
       "3965  SH3GLB1  ENSG00000097033     1   1p22.3      86704570.0    86748184.0   \n",
       "4432    AMPD2  ENSG00000116337     1   1p13.3     109616104.0   109632051.0   \n",
       "1050   CAMTA1  ENSG00000171735     1  1p36.31       6785454.0     7769706.0   \n",
       "5327     TAL1  ENSG00000162367     1     1p33      47216290.0    47232220.0   \n",
       "...       ...              ...   ...      ...             ...           ...   \n",
       "505      CLTA  ENSG00000122705     9   9p13.3      36190856.0    36304781.0   \n",
       "2812   ARPC5L  ENSG00000136950     9   9q33.3     124862130.0   124877733.0   \n",
       "3813    PSMB7  ENSG00000136930     9   9q33.3     124353465.0   124415444.0   \n",
       "336   TMEM133  ENSG00000170647  None     None             NaN           NaN   \n",
       "982      TBCE  ENSG00000116957  None     None             NaN           NaN   \n",
       "\n",
       "      gene_length  \n",
       "2664      33465.0  \n",
       "3965      43614.0  \n",
       "4432      15947.0  \n",
       "1050     984252.0  \n",
       "5327      15930.0  \n",
       "...           ...  \n",
       "505      113925.0  \n",
       "2812      15603.0  \n",
       "3813      61979.0  \n",
       "336           NaN  \n",
       "982           NaN  \n",
       "\n",
       "[6444 rows x 7 columns]"
      ]
     },
     "execution_count": 59,
     "metadata": {},
     "output_type": "execute_result"
    }
   ],
   "source": [
    "genes_info.sort_values(\"chr\")"
   ]
  },
  {
   "cell_type": "markdown",
   "id": "7282b84d-f4f3-4e8c-9dd8-6319505ed4b5",
   "metadata": {
    "papermill": {
     "duration": 0.022818,
     "end_time": "2022-08-02T07:05:16.829359",
     "exception": false,
     "start_time": "2022-08-02T07:05:16.806541",
     "status": "completed"
    },
    "tags": []
   },
   "source": [
    "### Save"
   ]
  },
  {
   "cell_type": "code",
   "execution_count": 60,
   "id": "32cf6566-03bb-4a85-81e1-da46fc9f37ad",
   "metadata": {
    "execution": {
     "iopub.execute_input": "2022-08-02T07:05:16.870446Z",
     "iopub.status.busy": "2022-08-02T07:05:16.870253Z",
     "iopub.status.idle": "2022-08-02T07:05:16.886265Z",
     "shell.execute_reply": "2022-08-02T07:05:16.885706Z"
    },
    "papermill": {
     "duration": 0.037422,
     "end_time": "2022-08-02T07:05:16.887643",
     "exception": false,
     "start_time": "2022-08-02T07:05:16.850221",
     "status": "completed"
    },
    "tags": []
   },
   "outputs": [],
   "source": [
    "genes_info.to_pickle(OUTPUT_DIR_BASE / \"genes_info.pkl\")"
   ]
  },
  {
   "cell_type": "markdown",
   "id": "5b9f384a-5a91-4a8d-9007-cfe43f2d86f8",
   "metadata": {
    "papermill": {
     "duration": 0.018901,
     "end_time": "2022-08-02T07:05:16.925675",
     "exception": false,
     "start_time": "2022-08-02T07:05:16.906774",
     "status": "completed"
    },
    "tags": []
   },
   "source": [
    "## S-PrediXcan results"
   ]
  },
  {
   "cell_type": "markdown",
   "id": "fc0a2a4c-960c-4a0a-9b23-b66c3d5d6e07",
   "metadata": {
    "papermill": {
     "duration": 0.024795,
     "end_time": "2022-08-02T07:05:16.969966",
     "exception": false,
     "start_time": "2022-08-02T07:05:16.945171",
     "status": "completed"
    },
    "tags": []
   },
   "source": [
    "### Load results across all tissues"
   ]
  },
  {
   "cell_type": "code",
   "execution_count": 61,
   "id": "0b4867d7-a608-4b08-9d77-1782be3a0c94",
   "metadata": {
    "execution": {
     "iopub.execute_input": "2022-08-02T07:05:17.010180Z",
     "iopub.status.busy": "2022-08-02T07:05:17.009681Z",
     "iopub.status.idle": "2022-08-02T07:05:17.022705Z",
     "shell.execute_reply": "2022-08-02T07:05:17.022205Z"
    },
    "papermill": {
     "duration": 0.034122,
     "end_time": "2022-08-02T07:05:17.024149",
     "exception": false,
     "start_time": "2022-08-02T07:05:16.990027",
     "status": "completed"
    },
    "tags": []
   },
   "outputs": [],
   "source": [
    "spredixcan_result_files = {\n",
    "    t: SPREDIXCAN_FOLDER / SPREDIXCAN_FILE_PATTERN.format(tissue=t)\n",
    "    for t in prediction_model_tissues\n",
    "}"
   ]
  },
  {
   "cell_type": "code",
   "execution_count": 62,
   "id": "0ce270dd-46ac-4eaa-9d86-2b201d67d82f",
   "metadata": {
    "execution": {
     "iopub.execute_input": "2022-08-02T07:05:17.063462Z",
     "iopub.status.busy": "2022-08-02T07:05:17.062878Z",
     "iopub.status.idle": "2022-08-02T07:05:17.076628Z",
     "shell.execute_reply": "2022-08-02T07:05:17.075879Z"
    },
    "papermill": {
     "duration": 0.035189,
     "end_time": "2022-08-02T07:05:17.078117",
     "exception": false,
     "start_time": "2022-08-02T07:05:17.042928",
     "status": "completed"
    },
    "tags": []
   },
   "outputs": [
    {
     "data": {
      "text/plain": [
       "[PosixPath('/opt/data/results/gls/null_sims/twas/spredixcan/random.pheno0-gtex_v8-mashr-Skin_Not_Sun_Exposed_Suprapubic.csv'),\n",
       " PosixPath('/opt/data/results/gls/null_sims/twas/spredixcan/random.pheno0-gtex_v8-mashr-Cells_EBV-transformed_lymphocytes.csv'),\n",
       " PosixPath('/opt/data/results/gls/null_sims/twas/spredixcan/random.pheno0-gtex_v8-mashr-Brain_Frontal_Cortex_BA9.csv'),\n",
       " PosixPath('/opt/data/results/gls/null_sims/twas/spredixcan/random.pheno0-gtex_v8-mashr-Kidney_Cortex.csv'),\n",
       " PosixPath('/opt/data/results/gls/null_sims/twas/spredixcan/random.pheno0-gtex_v8-mashr-Brain_Substantia_nigra.csv')]"
      ]
     },
     "metadata": {},
     "output_type": "display_data"
    }
   ],
   "source": [
    "assert len(spredixcan_result_files) == len(prediction_model_tissues)\n",
    "display(list(spredixcan_result_files.values())[:5])"
   ]
  },
  {
   "cell_type": "code",
   "execution_count": 63,
   "id": "aa140259-303e-4912-b2bf-e7adce662f88",
   "metadata": {
    "execution": {
     "iopub.execute_input": "2022-08-02T07:05:17.128105Z",
     "iopub.status.busy": "2022-08-02T07:05:17.127890Z",
     "iopub.status.idle": "2022-08-02T07:05:17.180152Z",
     "shell.execute_reply": "2022-08-02T07:05:17.179373Z"
    },
    "papermill": {
     "duration": 0.080727,
     "end_time": "2022-08-02T07:05:17.181742",
     "exception": false,
     "start_time": "2022-08-02T07:05:17.101015",
     "status": "completed"
    },
    "tags": []
   },
   "outputs": [
    {
     "data": {
      "text/html": [
       "<div>\n",
       "<style scoped>\n",
       "    .dataframe tbody tr th:only-of-type {\n",
       "        vertical-align: middle;\n",
       "    }\n",
       "\n",
       "    .dataframe tbody tr th {\n",
       "        vertical-align: top;\n",
       "    }\n",
       "\n",
       "    .dataframe thead th {\n",
       "        text-align: right;\n",
       "    }\n",
       "</style>\n",
       "<table border=\"1\" class=\"dataframe\">\n",
       "  <thead>\n",
       "    <tr style=\"text-align: right;\">\n",
       "      <th></th>\n",
       "      <th>gene</th>\n",
       "      <th>gene_name</th>\n",
       "      <th>zscore</th>\n",
       "      <th>effect_size</th>\n",
       "      <th>pvalue</th>\n",
       "      <th>var_g</th>\n",
       "      <th>pred_perf_r2</th>\n",
       "      <th>pred_perf_pval</th>\n",
       "      <th>pred_perf_qval</th>\n",
       "      <th>n_snps_used</th>\n",
       "      <th>n_snps_in_cov</th>\n",
       "      <th>n_snps_in_model</th>\n",
       "      <th>best_gwas_p</th>\n",
       "      <th>largest_weight</th>\n",
       "    </tr>\n",
       "  </thead>\n",
       "  <tbody>\n",
       "    <tr>\n",
       "      <th>0</th>\n",
       "      <td>ENSG00000131236.16</td>\n",
       "      <td>CAP1</td>\n",
       "      <td>-3.882684</td>\n",
       "      <td>NaN</td>\n",
       "      <td>0.000103</td>\n",
       "      <td>8.369900e-05</td>\n",
       "      <td>NaN</td>\n",
       "      <td>NaN</td>\n",
       "      <td>NaN</td>\n",
       "      <td>1</td>\n",
       "      <td>1</td>\n",
       "      <td>1</td>\n",
       "      <td>0.000103</td>\n",
       "      <td>0.021593</td>\n",
       "    </tr>\n",
       "    <tr>\n",
       "      <th>1</th>\n",
       "      <td>ENSG00000130787.13</td>\n",
       "      <td>HIP1R</td>\n",
       "      <td>3.862583</td>\n",
       "      <td>NaN</td>\n",
       "      <td>0.000112</td>\n",
       "      <td>3.039669e-03</td>\n",
       "      <td>NaN</td>\n",
       "      <td>NaN</td>\n",
       "      <td>NaN</td>\n",
       "      <td>2</td>\n",
       "      <td>2</td>\n",
       "      <td>2</td>\n",
       "      <td>0.001681</td>\n",
       "      <td>0.087495</td>\n",
       "    </tr>\n",
       "    <tr>\n",
       "      <th>2</th>\n",
       "      <td>ENSG00000103018.16</td>\n",
       "      <td>CYB5B</td>\n",
       "      <td>3.478682</td>\n",
       "      <td>NaN</td>\n",
       "      <td>0.000504</td>\n",
       "      <td>6.455623e-03</td>\n",
       "      <td>NaN</td>\n",
       "      <td>NaN</td>\n",
       "      <td>NaN</td>\n",
       "      <td>1</td>\n",
       "      <td>1</td>\n",
       "      <td>1</td>\n",
       "      <td>0.000504</td>\n",
       "      <td>0.114291</td>\n",
       "    </tr>\n",
       "    <tr>\n",
       "      <th>3</th>\n",
       "      <td>ENSG00000117906.13</td>\n",
       "      <td>RCN2</td>\n",
       "      <td>3.431258</td>\n",
       "      <td>NaN</td>\n",
       "      <td>0.000601</td>\n",
       "      <td>5.848182e-07</td>\n",
       "      <td>NaN</td>\n",
       "      <td>NaN</td>\n",
       "      <td>NaN</td>\n",
       "      <td>1</td>\n",
       "      <td>1</td>\n",
       "      <td>1</td>\n",
       "      <td>0.000601</td>\n",
       "      <td>0.001696</td>\n",
       "    </tr>\n",
       "    <tr>\n",
       "      <th>4</th>\n",
       "      <td>ENSG00000135469.13</td>\n",
       "      <td>COQ10A</td>\n",
       "      <td>3.363631</td>\n",
       "      <td>NaN</td>\n",
       "      <td>0.000769</td>\n",
       "      <td>4.312235e-04</td>\n",
       "      <td>NaN</td>\n",
       "      <td>NaN</td>\n",
       "      <td>NaN</td>\n",
       "      <td>2</td>\n",
       "      <td>2</td>\n",
       "      <td>2</td>\n",
       "      <td>0.013565</td>\n",
       "      <td>0.064460</td>\n",
       "    </tr>\n",
       "  </tbody>\n",
       "</table>\n",
       "</div>"
      ],
      "text/plain": [
       "                 gene gene_name    zscore  effect_size    pvalue  \\\n",
       "0  ENSG00000131236.16      CAP1 -3.882684          NaN  0.000103   \n",
       "1  ENSG00000130787.13     HIP1R  3.862583          NaN  0.000112   \n",
       "2  ENSG00000103018.16     CYB5B  3.478682          NaN  0.000504   \n",
       "3  ENSG00000117906.13      RCN2  3.431258          NaN  0.000601   \n",
       "4  ENSG00000135469.13    COQ10A  3.363631          NaN  0.000769   \n",
       "\n",
       "          var_g  pred_perf_r2  pred_perf_pval  pred_perf_qval  n_snps_used  \\\n",
       "0  8.369900e-05           NaN             NaN             NaN            1   \n",
       "1  3.039669e-03           NaN             NaN             NaN            2   \n",
       "2  6.455623e-03           NaN             NaN             NaN            1   \n",
       "3  5.848182e-07           NaN             NaN             NaN            1   \n",
       "4  4.312235e-04           NaN             NaN             NaN            2   \n",
       "\n",
       "   n_snps_in_cov  n_snps_in_model  best_gwas_p  largest_weight  \n",
       "0              1                1     0.000103        0.021593  \n",
       "1              2                2     0.001681        0.087495  \n",
       "2              1                1     0.000504        0.114291  \n",
       "3              1                1     0.000601        0.001696  \n",
       "4              2                2     0.013565        0.064460  "
      ]
     },
     "execution_count": 63,
     "metadata": {},
     "output_type": "execute_result"
    }
   ],
   "source": [
    "# look at the structure of one result\n",
    "pd.read_csv(spredixcan_result_files[\"Whole_Blood\"]).head()"
   ]
  },
  {
   "cell_type": "code",
   "execution_count": 64,
   "id": "4381b9ff-6ab5-47f1-89d1-560f88fdf07f",
   "metadata": {
    "execution": {
     "iopub.execute_input": "2022-08-02T07:05:17.233938Z",
     "iopub.status.busy": "2022-08-02T07:05:17.233272Z",
     "iopub.status.idle": "2022-08-02T07:05:17.250797Z",
     "shell.execute_reply": "2022-08-02T07:05:17.250025Z"
    },
    "papermill": {
     "duration": 0.045524,
     "end_time": "2022-08-02T07:05:17.252611",
     "exception": false,
     "start_time": "2022-08-02T07:05:17.207087",
     "status": "completed"
    },
    "tags": []
   },
   "outputs": [],
   "source": [
    "assert all(f.exists() for f in spredixcan_result_files.values())"
   ]
  },
  {
   "cell_type": "code",
   "execution_count": 65,
   "id": "d477157f-51e9-4c7c-b826-7ab5f4fdf3e3",
   "metadata": {
    "execution": {
     "iopub.execute_input": "2022-08-02T07:05:17.299946Z",
     "iopub.status.busy": "2022-08-02T07:05:17.299499Z",
     "iopub.status.idle": "2022-08-02T07:05:18.549534Z",
     "shell.execute_reply": "2022-08-02T07:05:18.549145Z"
    },
    "papermill": {
     "duration": 1.274054,
     "end_time": "2022-08-02T07:05:18.550783",
     "exception": false,
     "start_time": "2022-08-02T07:05:17.276729",
     "status": "completed"
    },
    "tags": []
   },
   "outputs": [],
   "source": [
    "spredixcan_dfs = [\n",
    "    pd.read_csv(\n",
    "        f,\n",
    "        usecols=[\n",
    "            \"gene\",\n",
    "            \"gene_name\",\n",
    "            \"zscore\",\n",
    "            \"pvalue\",\n",
    "            \"n_snps_used\",\n",
    "            \"n_snps_in_model\",\n",
    "        ],\n",
    "    )\n",
    "    .dropna(subset=[\"gene\", \"zscore\", \"pvalue\"])\n",
    "    .assign(tissue=t)\n",
    "    for t, f in spredixcan_result_files.items()\n",
    "]"
   ]
  },
  {
   "cell_type": "code",
   "execution_count": 66,
   "id": "9730bd37-b769-411f-bb6b-bb658d1ff88c",
   "metadata": {
    "execution": {
     "iopub.execute_input": "2022-08-02T07:05:18.591564Z",
     "iopub.status.busy": "2022-08-02T07:05:18.591120Z",
     "iopub.status.idle": "2022-08-02T07:05:18.603714Z",
     "shell.execute_reply": "2022-08-02T07:05:18.603195Z"
    },
    "papermill": {
     "duration": 0.034489,
     "end_time": "2022-08-02T07:05:18.605121",
     "exception": false,
     "start_time": "2022-08-02T07:05:18.570632",
     "status": "completed"
    },
    "tags": []
   },
   "outputs": [],
   "source": [
    "assert len(spredixcan_dfs) == len(prediction_model_tissues)"
   ]
  },
  {
   "cell_type": "code",
   "execution_count": 67,
   "id": "bcd73f53-1283-4ff6-bbb5-25fb71f5cb72",
   "metadata": {
    "execution": {
     "iopub.execute_input": "2022-08-02T07:05:18.645420Z",
     "iopub.status.busy": "2022-08-02T07:05:18.644649Z",
     "iopub.status.idle": "2022-08-02T07:05:18.756311Z",
     "shell.execute_reply": "2022-08-02T07:05:18.755720Z"
    },
    "papermill": {
     "duration": 0.133346,
     "end_time": "2022-08-02T07:05:18.757883",
     "exception": false,
     "start_time": "2022-08-02T07:05:18.624537",
     "status": "completed"
    },
    "tags": []
   },
   "outputs": [],
   "source": [
    "spredixcan_dfs = pd.concat(spredixcan_dfs)"
   ]
  },
  {
   "cell_type": "code",
   "execution_count": 68,
   "id": "ae99c7b5-14fc-4b39-a6b2-40fc703acd0a",
   "metadata": {
    "execution": {
     "iopub.execute_input": "2022-08-02T07:05:18.811179Z",
     "iopub.status.busy": "2022-08-02T07:05:18.810951Z",
     "iopub.status.idle": "2022-08-02T07:05:18.862231Z",
     "shell.execute_reply": "2022-08-02T07:05:18.861603Z"
    },
    "papermill": {
     "duration": 0.081734,
     "end_time": "2022-08-02T07:05:18.863657",
     "exception": false,
     "start_time": "2022-08-02T07:05:18.781923",
     "status": "completed"
    },
    "tags": []
   },
   "outputs": [],
   "source": [
    "assert spredixcan_dfs[\"tissue\"].unique().shape[0] == len(prediction_model_tissues)"
   ]
  },
  {
   "cell_type": "code",
   "execution_count": 69,
   "id": "b7223a23-e40f-4cd3-8988-72033f8739bd",
   "metadata": {
    "execution": {
     "iopub.execute_input": "2022-08-02T07:05:18.905133Z",
     "iopub.status.busy": "2022-08-02T07:05:18.904487Z",
     "iopub.status.idle": "2022-08-02T07:05:18.918684Z",
     "shell.execute_reply": "2022-08-02T07:05:18.918258Z"
    },
    "papermill": {
     "duration": 0.03598,
     "end_time": "2022-08-02T07:05:18.919932",
     "exception": false,
     "start_time": "2022-08-02T07:05:18.883952",
     "status": "completed"
    },
    "tags": []
   },
   "outputs": [
    {
     "data": {
      "text/plain": [
       "(652858, 7)"
      ]
     },
     "execution_count": 69,
     "metadata": {},
     "output_type": "execute_result"
    }
   ],
   "source": [
    "spredixcan_dfs.shape"
   ]
  },
  {
   "cell_type": "code",
   "execution_count": 70,
   "id": "4987073a-3b70-4162-93fb-beeb351ebfe0",
   "metadata": {
    "execution": {
     "iopub.execute_input": "2022-08-02T07:05:18.959569Z",
     "iopub.status.busy": "2022-08-02T07:05:18.959334Z",
     "iopub.status.idle": "2022-08-02T07:05:19.161989Z",
     "shell.execute_reply": "2022-08-02T07:05:19.161371Z"
    },
    "papermill": {
     "duration": 0.22429,
     "end_time": "2022-08-02T07:05:19.163562",
     "exception": false,
     "start_time": "2022-08-02T07:05:18.939272",
     "status": "completed"
    },
    "tags": []
   },
   "outputs": [],
   "source": [
    "spredixcan_dfs = spredixcan_dfs.assign(\n",
    "    gene_id=spredixcan_dfs[\"gene\"].apply(lambda g: g.split(\".\")[0])\n",
    ")"
   ]
  },
  {
   "cell_type": "code",
   "execution_count": 71,
   "id": "6b47d026-01c0-4f7c-a90e-f0baa13235f4",
   "metadata": {
    "execution": {
     "iopub.execute_input": "2022-08-02T07:05:19.209589Z",
     "iopub.status.busy": "2022-08-02T07:05:19.209421Z",
     "iopub.status.idle": "2022-08-02T07:05:19.227868Z",
     "shell.execute_reply": "2022-08-02T07:05:19.227191Z"
    },
    "papermill": {
     "duration": 0.041712,
     "end_time": "2022-08-02T07:05:19.229164",
     "exception": false,
     "start_time": "2022-08-02T07:05:19.187452",
     "status": "completed"
    },
    "tags": []
   },
   "outputs": [
    {
     "data": {
      "text/html": [
       "<div>\n",
       "<style scoped>\n",
       "    .dataframe tbody tr th:only-of-type {\n",
       "        vertical-align: middle;\n",
       "    }\n",
       "\n",
       "    .dataframe tbody tr th {\n",
       "        vertical-align: top;\n",
       "    }\n",
       "\n",
       "    .dataframe thead th {\n",
       "        text-align: right;\n",
       "    }\n",
       "</style>\n",
       "<table border=\"1\" class=\"dataframe\">\n",
       "  <thead>\n",
       "    <tr style=\"text-align: right;\">\n",
       "      <th></th>\n",
       "      <th>gene</th>\n",
       "      <th>gene_name</th>\n",
       "      <th>zscore</th>\n",
       "      <th>pvalue</th>\n",
       "      <th>n_snps_used</th>\n",
       "      <th>n_snps_in_model</th>\n",
       "      <th>tissue</th>\n",
       "      <th>gene_id</th>\n",
       "    </tr>\n",
       "  </thead>\n",
       "  <tbody>\n",
       "    <tr>\n",
       "      <th>0</th>\n",
       "      <td>ENSG00000131236.16</td>\n",
       "      <td>CAP1</td>\n",
       "      <td>-3.882684</td>\n",
       "      <td>0.000103</td>\n",
       "      <td>1</td>\n",
       "      <td>1</td>\n",
       "      <td>Skin_Not_Sun_Exposed_Suprapubic</td>\n",
       "      <td>ENSG00000131236</td>\n",
       "    </tr>\n",
       "    <tr>\n",
       "      <th>1</th>\n",
       "      <td>ENSG00000196172.9</td>\n",
       "      <td>ZNF681</td>\n",
       "      <td>-3.710444</td>\n",
       "      <td>0.000207</td>\n",
       "      <td>1</td>\n",
       "      <td>1</td>\n",
       "      <td>Skin_Not_Sun_Exposed_Suprapubic</td>\n",
       "      <td>ENSG00000196172</td>\n",
       "    </tr>\n",
       "    <tr>\n",
       "      <th>2</th>\n",
       "      <td>ENSG00000280789.1</td>\n",
       "      <td>PAGR1</td>\n",
       "      <td>3.403263</td>\n",
       "      <td>0.000666</td>\n",
       "      <td>2</td>\n",
       "      <td>2</td>\n",
       "      <td>Skin_Not_Sun_Exposed_Suprapubic</td>\n",
       "      <td>ENSG00000280789</td>\n",
       "    </tr>\n",
       "    <tr>\n",
       "      <th>3</th>\n",
       "      <td>ENSG00000215218.3</td>\n",
       "      <td>UBE2QL1</td>\n",
       "      <td>3.385093</td>\n",
       "      <td>0.000712</td>\n",
       "      <td>3</td>\n",
       "      <td>3</td>\n",
       "      <td>Skin_Not_Sun_Exposed_Suprapubic</td>\n",
       "      <td>ENSG00000215218</td>\n",
       "    </tr>\n",
       "    <tr>\n",
       "      <th>4</th>\n",
       "      <td>ENSG00000167371.17</td>\n",
       "      <td>PRRT2</td>\n",
       "      <td>3.381834</td>\n",
       "      <td>0.000720</td>\n",
       "      <td>2</td>\n",
       "      <td>2</td>\n",
       "      <td>Skin_Not_Sun_Exposed_Suprapubic</td>\n",
       "      <td>ENSG00000167371</td>\n",
       "    </tr>\n",
       "  </tbody>\n",
       "</table>\n",
       "</div>"
      ],
      "text/plain": [
       "                 gene gene_name    zscore    pvalue  n_snps_used  \\\n",
       "0  ENSG00000131236.16      CAP1 -3.882684  0.000103            1   \n",
       "1   ENSG00000196172.9    ZNF681 -3.710444  0.000207            1   \n",
       "2   ENSG00000280789.1     PAGR1  3.403263  0.000666            2   \n",
       "3   ENSG00000215218.3   UBE2QL1  3.385093  0.000712            3   \n",
       "4  ENSG00000167371.17     PRRT2  3.381834  0.000720            2   \n",
       "\n",
       "   n_snps_in_model                           tissue          gene_id  \n",
       "0                1  Skin_Not_Sun_Exposed_Suprapubic  ENSG00000131236  \n",
       "1                1  Skin_Not_Sun_Exposed_Suprapubic  ENSG00000196172  \n",
       "2                2  Skin_Not_Sun_Exposed_Suprapubic  ENSG00000280789  \n",
       "3                3  Skin_Not_Sun_Exposed_Suprapubic  ENSG00000215218  \n",
       "4                2  Skin_Not_Sun_Exposed_Suprapubic  ENSG00000167371  "
      ]
     },
     "execution_count": 71,
     "metadata": {},
     "output_type": "execute_result"
    }
   ],
   "source": [
    "spredixcan_dfs.head()"
   ]
  },
  {
   "cell_type": "code",
   "execution_count": 72,
   "id": "d5dbdb2e-b7eb-4665-9fd4-9ce714d6af0c",
   "metadata": {
    "execution": {
     "iopub.execute_input": "2022-08-02T07:05:19.269869Z",
     "iopub.status.busy": "2022-08-02T07:05:19.269439Z",
     "iopub.status.idle": "2022-08-02T07:05:19.430541Z",
     "shell.execute_reply": "2022-08-02T07:05:19.429930Z"
    },
    "papermill": {
     "duration": 0.183114,
     "end_time": "2022-08-02T07:05:19.432099",
     "exception": false,
     "start_time": "2022-08-02T07:05:19.248985",
     "status": "completed"
    },
    "tags": []
   },
   "outputs": [],
   "source": [
    "# leave only common genes\n",
    "spredixcan_dfs = spredixcan_dfs[\n",
    "    spredixcan_dfs[\"gene_id\"].isin(smultixcan_gene_id_common)\n",
    "].drop(columns=[\"gene_name\"])"
   ]
  },
  {
   "cell_type": "code",
   "execution_count": 73,
   "id": "8d34f99a-6b43-47aa-bb07-dfc67e169538",
   "metadata": {
    "execution": {
     "iopub.execute_input": "2022-08-02T07:05:19.510516Z",
     "iopub.status.busy": "2022-08-02T07:05:19.510332Z",
     "iopub.status.idle": "2022-08-02T07:05:19.525088Z",
     "shell.execute_reply": "2022-08-02T07:05:19.524526Z"
    },
    "papermill": {
     "duration": 0.069961,
     "end_time": "2022-08-02T07:05:19.526460",
     "exception": false,
     "start_time": "2022-08-02T07:05:19.456499",
     "status": "completed"
    },
    "tags": []
   },
   "outputs": [
    {
     "data": {
      "text/plain": [
       "(233445, 7)"
      ]
     },
     "execution_count": 73,
     "metadata": {},
     "output_type": "execute_result"
    }
   ],
   "source": [
    "spredixcan_dfs.shape"
   ]
  },
  {
   "cell_type": "markdown",
   "id": "5ecfd141-ecb8-47cf-905e-25cc1b4d3f9d",
   "metadata": {
    "papermill": {
     "duration": 0.019438,
     "end_time": "2022-08-02T07:05:19.567040",
     "exception": false,
     "start_time": "2022-08-02T07:05:19.547602",
     "status": "completed"
    },
    "tags": []
   },
   "source": [
    "### Count number of tissues available per gene"
   ]
  },
  {
   "cell_type": "code",
   "execution_count": 74,
   "id": "86fe37e1-a303-4221-a12e-3a54a04dd510",
   "metadata": {
    "execution": {
     "iopub.execute_input": "2022-08-02T07:05:19.607399Z",
     "iopub.status.busy": "2022-08-02T07:05:19.606941Z",
     "iopub.status.idle": "2022-08-02T07:05:19.679664Z",
     "shell.execute_reply": "2022-08-02T07:05:19.679053Z"
    },
    "papermill": {
     "duration": 0.09469,
     "end_time": "2022-08-02T07:05:19.681080",
     "exception": false,
     "start_time": "2022-08-02T07:05:19.586390",
     "status": "completed"
    },
    "tags": []
   },
   "outputs": [],
   "source": [
    "spredixcan_genes_n_models = spredixcan_dfs.groupby(\"gene_id\")[\"tissue\"].nunique()"
   ]
  },
  {
   "cell_type": "code",
   "execution_count": 75,
   "id": "31416d48-1e4d-463f-9a5c-34d29803c3f8",
   "metadata": {
    "execution": {
     "iopub.execute_input": "2022-08-02T07:05:19.721275Z",
     "iopub.status.busy": "2022-08-02T07:05:19.721064Z",
     "iopub.status.idle": "2022-08-02T07:05:19.736455Z",
     "shell.execute_reply": "2022-08-02T07:05:19.735795Z"
    },
    "papermill": {
     "duration": 0.037029,
     "end_time": "2022-08-02T07:05:19.737843",
     "exception": false,
     "start_time": "2022-08-02T07:05:19.700814",
     "status": "completed"
    },
    "tags": []
   },
   "outputs": [
    {
     "data": {
      "text/plain": [
       "gene_id\n",
       "ENSG00000000419     2\n",
       "ENSG00000000938    36\n",
       "ENSG00000000971    34\n",
       "ENSG00000001084    32\n",
       "ENSG00000001167    40\n",
       "                   ..\n",
       "ENSG00000278540    36\n",
       "ENSG00000278828     4\n",
       "ENSG00000278845    49\n",
       "ENSG00000281005    49\n",
       "ENSG00000282608    36\n",
       "Name: tissue, Length: 6444, dtype: int64"
      ]
     },
     "execution_count": 75,
     "metadata": {},
     "output_type": "execute_result"
    }
   ],
   "source": [
    "spredixcan_genes_n_models"
   ]
  },
  {
   "cell_type": "code",
   "execution_count": 76,
   "id": "d737ad4f-f821-4546-9a3e-6703fe264b49",
   "metadata": {
    "execution": {
     "iopub.execute_input": "2022-08-02T07:05:19.777960Z",
     "iopub.status.busy": "2022-08-02T07:05:19.777761Z",
     "iopub.status.idle": "2022-08-02T07:05:19.812711Z",
     "shell.execute_reply": "2022-08-02T07:05:19.812238Z"
    },
    "papermill": {
     "duration": 0.056858,
     "end_time": "2022-08-02T07:05:19.814257",
     "exception": false,
     "start_time": "2022-08-02T07:05:19.757399",
     "status": "completed"
    },
    "tags": []
   },
   "outputs": [],
   "source": [
    "# testing that in S-MultiXcan I get the same number of tissues per gene\n",
    "_tmp_smultixcan_results_n_models = (\n",
    "    smultixcan_results.set_index(\"gene_id\")[\"n\"].astype(int).rename(\"tissue\")\n",
    ")\n",
    "\n",
    "_cg = _tmp_smultixcan_results_n_models.index.intersection(\n",
    "    spredixcan_genes_n_models.index\n",
    ")\n",
    "_tmp_smultixcan_results_n_models = _tmp_smultixcan_results_n_models.loc[_cg]\n",
    "_spredixcan = spredixcan_genes_n_models.loc[_cg]\n",
    "\n",
    "assert _spredixcan.shape[0] == _tmp_smultixcan_results_n_models.shape[0]\n",
    "assert _spredixcan.equals(_tmp_smultixcan_results_n_models.loc[_spredixcan.index])"
   ]
  },
  {
   "cell_type": "markdown",
   "id": "904d7d30-9c2d-4c3e-b674-3f081954fe8b",
   "metadata": {
    "papermill": {
     "duration": 0.021782,
     "end_time": "2022-08-02T07:05:19.861592",
     "exception": false,
     "start_time": "2022-08-02T07:05:19.839810",
     "status": "completed"
    },
    "tags": []
   },
   "source": [
    "### Get tissues available per gene"
   ]
  },
  {
   "cell_type": "code",
   "execution_count": 77,
   "id": "cf014e81-4b4e-4c46-9265-67718b3ab08e",
   "metadata": {
    "execution": {
     "iopub.execute_input": "2022-08-02T07:05:19.902758Z",
     "iopub.status.busy": "2022-08-02T07:05:19.902219Z",
     "iopub.status.idle": "2022-08-02T07:05:20.117139Z",
     "shell.execute_reply": "2022-08-02T07:05:20.116500Z"
    },
    "papermill": {
     "duration": 0.23724,
     "end_time": "2022-08-02T07:05:20.118785",
     "exception": false,
     "start_time": "2022-08-02T07:05:19.881545",
     "status": "completed"
    },
    "tags": []
   },
   "outputs": [],
   "source": [
    "spredixcan_genes_models = spredixcan_dfs.groupby(\"gene_id\")[\"tissue\"].apply(\n",
    "    lambda x: frozenset(x.tolist())\n",
    ")"
   ]
  },
  {
   "cell_type": "code",
   "execution_count": 78,
   "id": "5df09d7f-39c9-408f-9fef-5189e8ca1c87",
   "metadata": {
    "execution": {
     "iopub.execute_input": "2022-08-02T07:05:20.169474Z",
     "iopub.status.busy": "2022-08-02T07:05:20.169273Z",
     "iopub.status.idle": "2022-08-02T07:05:20.190344Z",
     "shell.execute_reply": "2022-08-02T07:05:20.189327Z"
    },
    "papermill": {
     "duration": 0.047993,
     "end_time": "2022-08-02T07:05:20.191941",
     "exception": false,
     "start_time": "2022-08-02T07:05:20.143948",
     "status": "completed"
    },
    "tags": []
   },
   "outputs": [
    {
     "data": {
      "text/plain": [
       "gene_id\n",
       "ENSG00000000419         (Brain_Hypothalamus, Brain_Substantia_nigra)\n",
       "ENSG00000000938    (Breast_Mammary_Tissue, Esophagus_Mucosa, Pros...\n",
       "ENSG00000000971    (Breast_Mammary_Tissue, Stomach, Artery_Corona...\n",
       "ENSG00000001084    (Pancreas, Artery_Coronary, Lung, Brain_Putame...\n",
       "ENSG00000001167    (Breast_Mammary_Tissue, Esophagus_Mucosa, Pros...\n",
       "                                         ...                        \n",
       "ENSG00000278540    (Breast_Mammary_Tissue, Esophagus_Mucosa, Pros...\n",
       "ENSG00000278828    (Cells_EBV-transformed_lymphocytes, Adipose_Vi...\n",
       "ENSG00000278845    (Breast_Mammary_Tissue, Esophagus_Mucosa, Pros...\n",
       "ENSG00000281005    (Breast_Mammary_Tissue, Esophagus_Mucosa, Pros...\n",
       "ENSG00000282608    (Breast_Mammary_Tissue, Esophagus_Mucosa, Pros...\n",
       "Name: tissue, Length: 6444, dtype: object"
      ]
     },
     "execution_count": 78,
     "metadata": {},
     "output_type": "execute_result"
    }
   ],
   "source": [
    "spredixcan_genes_models"
   ]
  },
  {
   "cell_type": "code",
   "execution_count": 79,
   "id": "97c46886-5a48-4813-b890-1dcdb09ec09d",
   "metadata": {
    "execution": {
     "iopub.execute_input": "2022-08-02T07:05:20.243008Z",
     "iopub.status.busy": "2022-08-02T07:05:20.242826Z",
     "iopub.status.idle": "2022-08-02T07:05:20.259421Z",
     "shell.execute_reply": "2022-08-02T07:05:20.258666Z"
    },
    "papermill": {
     "duration": 0.043859,
     "end_time": "2022-08-02T07:05:20.261278",
     "exception": false,
     "start_time": "2022-08-02T07:05:20.217419",
     "status": "completed"
    },
    "tags": []
   },
   "outputs": [],
   "source": [
    "assert spredixcan_genes_n_models.shape[0] == spredixcan_genes_models.shape[0]"
   ]
  },
  {
   "cell_type": "code",
   "execution_count": 80,
   "id": "abc13913-a681-4297-a0e6-dde62f43c36f",
   "metadata": {
    "execution": {
     "iopub.execute_input": "2022-08-02T07:05:20.317931Z",
     "iopub.status.busy": "2022-08-02T07:05:20.317738Z",
     "iopub.status.idle": "2022-08-02T07:05:20.332873Z",
     "shell.execute_reply": "2022-08-02T07:05:20.332291Z"
    },
    "papermill": {
     "duration": 0.044964,
     "end_time": "2022-08-02T07:05:20.334419",
     "exception": false,
     "start_time": "2022-08-02T07:05:20.289455",
     "status": "completed"
    },
    "tags": []
   },
   "outputs": [],
   "source": [
    "assert spredixcan_genes_n_models.index.equals(spredixcan_genes_models.index)"
   ]
  },
  {
   "cell_type": "code",
   "execution_count": 81,
   "id": "995a02e7-b836-471b-b438-17c8c46e4fde",
   "metadata": {
    "execution": {
     "iopub.execute_input": "2022-08-02T07:05:20.379205Z",
     "iopub.status.busy": "2022-08-02T07:05:20.379044Z",
     "iopub.status.idle": "2022-08-02T07:05:20.393969Z",
     "shell.execute_reply": "2022-08-02T07:05:20.393439Z"
    },
    "papermill": {
     "duration": 0.038195,
     "end_time": "2022-08-02T07:05:20.395353",
     "exception": false,
     "start_time": "2022-08-02T07:05:20.357158",
     "status": "completed"
    },
    "tags": []
   },
   "outputs": [],
   "source": [
    "assert (spredixcan_genes_models.apply(len) <= len(prediction_model_tissues)).all()"
   ]
  },
  {
   "cell_type": "code",
   "execution_count": 82,
   "id": "0c1d0c68-1a06-480c-b6d6-d3c4fdf0f5aa",
   "metadata": {
    "execution": {
     "iopub.execute_input": "2022-08-02T07:05:20.438154Z",
     "iopub.status.busy": "2022-08-02T07:05:20.437992Z",
     "iopub.status.idle": "2022-08-02T07:05:20.455483Z",
     "shell.execute_reply": "2022-08-02T07:05:20.454979Z"
    },
    "papermill": {
     "duration": 0.04003,
     "end_time": "2022-08-02T07:05:20.456775",
     "exception": false,
     "start_time": "2022-08-02T07:05:20.416745",
     "status": "completed"
    },
    "tags": []
   },
   "outputs": [
    {
     "data": {
      "text/plain": [
       "count    6444.000000\n",
       "mean       36.226723\n",
       "std        12.973688\n",
       "min         1.000000\n",
       "25%        29.000000\n",
       "50%        41.000000\n",
       "75%        47.000000\n",
       "max        49.000000\n",
       "Name: tissue, dtype: float64"
      ]
     },
     "execution_count": 82,
     "metadata": {},
     "output_type": "execute_result"
    }
   ],
   "source": [
    "spredixcan_genes_models.apply(len).describe()"
   ]
  },
  {
   "cell_type": "code",
   "execution_count": 83,
   "id": "991b9441-6bb5-4b72-9285-5fd579875e40",
   "metadata": {
    "execution": {
     "iopub.execute_input": "2022-08-02T07:05:20.499874Z",
     "iopub.status.busy": "2022-08-02T07:05:20.499381Z",
     "iopub.status.idle": "2022-08-02T07:05:20.515586Z",
     "shell.execute_reply": "2022-08-02T07:05:20.515102Z"
    },
    "papermill": {
     "duration": 0.038896,
     "end_time": "2022-08-02T07:05:20.516993",
     "exception": false,
     "start_time": "2022-08-02T07:05:20.478097",
     "status": "completed"
    },
    "tags": []
   },
   "outputs": [],
   "source": [
    "# testing\n",
    "assert (\n",
    "    spredixcan_genes_models.loc[spredixcan_genes_n_models.index]\n",
    "    .apply(len)\n",
    "    .equals(spredixcan_genes_n_models)\n",
    ")"
   ]
  },
  {
   "cell_type": "markdown",
   "id": "3042b22d-9d88-4e21-b112-ab23cf8d24ea",
   "metadata": {
    "papermill": {
     "duration": 0.019991,
     "end_time": "2022-08-02T07:05:20.557429",
     "exception": false,
     "start_time": "2022-08-02T07:05:20.537438",
     "status": "completed"
    },
    "tags": []
   },
   "source": [
    "### Add gene name and set index"
   ]
  },
  {
   "cell_type": "code",
   "execution_count": 84,
   "id": "3b7b0e76-7aca-44bf-beff-5f1c1b6193ee",
   "metadata": {
    "execution": {
     "iopub.execute_input": "2022-08-02T07:05:20.597677Z",
     "iopub.status.busy": "2022-08-02T07:05:20.596983Z",
     "iopub.status.idle": "2022-08-02T07:05:20.610391Z",
     "shell.execute_reply": "2022-08-02T07:05:20.609858Z"
    },
    "papermill": {
     "duration": 0.035116,
     "end_time": "2022-08-02T07:05:20.611817",
     "exception": false,
     "start_time": "2022-08-02T07:05:20.576701",
     "status": "completed"
    },
    "tags": []
   },
   "outputs": [],
   "source": [
    "spredixcan_genes_models = spredixcan_genes_models.to_frame().reset_index()"
   ]
  },
  {
   "cell_type": "code",
   "execution_count": 85,
   "id": "ffab4b61-c2d4-4bcc-a147-23a4bf30f715",
   "metadata": {
    "execution": {
     "iopub.execute_input": "2022-08-02T07:05:20.653570Z",
     "iopub.status.busy": "2022-08-02T07:05:20.653340Z",
     "iopub.status.idle": "2022-08-02T07:05:20.671232Z",
     "shell.execute_reply": "2022-08-02T07:05:20.670655Z"
    },
    "papermill": {
     "duration": 0.040256,
     "end_time": "2022-08-02T07:05:20.672401",
     "exception": false,
     "start_time": "2022-08-02T07:05:20.632145",
     "status": "completed"
    },
    "tags": []
   },
   "outputs": [
    {
     "data": {
      "text/html": [
       "<div>\n",
       "<style scoped>\n",
       "    .dataframe tbody tr th:only-of-type {\n",
       "        vertical-align: middle;\n",
       "    }\n",
       "\n",
       "    .dataframe tbody tr th {\n",
       "        vertical-align: top;\n",
       "    }\n",
       "\n",
       "    .dataframe thead th {\n",
       "        text-align: right;\n",
       "    }\n",
       "</style>\n",
       "<table border=\"1\" class=\"dataframe\">\n",
       "  <thead>\n",
       "    <tr style=\"text-align: right;\">\n",
       "      <th></th>\n",
       "      <th>gene_id</th>\n",
       "      <th>tissue</th>\n",
       "    </tr>\n",
       "  </thead>\n",
       "  <tbody>\n",
       "    <tr>\n",
       "      <th>0</th>\n",
       "      <td>ENSG00000000419</td>\n",
       "      <td>(Brain_Hypothalamus, Brain_Substantia_nigra)</td>\n",
       "    </tr>\n",
       "    <tr>\n",
       "      <th>1</th>\n",
       "      <td>ENSG00000000938</td>\n",
       "      <td>(Breast_Mammary_Tissue, Esophagus_Mucosa, Pros...</td>\n",
       "    </tr>\n",
       "    <tr>\n",
       "      <th>2</th>\n",
       "      <td>ENSG00000000971</td>\n",
       "      <td>(Breast_Mammary_Tissue, Stomach, Artery_Corona...</td>\n",
       "    </tr>\n",
       "    <tr>\n",
       "      <th>3</th>\n",
       "      <td>ENSG00000001084</td>\n",
       "      <td>(Pancreas, Artery_Coronary, Lung, Brain_Putame...</td>\n",
       "    </tr>\n",
       "    <tr>\n",
       "      <th>4</th>\n",
       "      <td>ENSG00000001167</td>\n",
       "      <td>(Breast_Mammary_Tissue, Esophagus_Mucosa, Pros...</td>\n",
       "    </tr>\n",
       "  </tbody>\n",
       "</table>\n",
       "</div>"
      ],
      "text/plain": [
       "           gene_id                                             tissue\n",
       "0  ENSG00000000419       (Brain_Hypothalamus, Brain_Substantia_nigra)\n",
       "1  ENSG00000000938  (Breast_Mammary_Tissue, Esophagus_Mucosa, Pros...\n",
       "2  ENSG00000000971  (Breast_Mammary_Tissue, Stomach, Artery_Corona...\n",
       "3  ENSG00000001084  (Pancreas, Artery_Coronary, Lung, Brain_Putame...\n",
       "4  ENSG00000001167  (Breast_Mammary_Tissue, Esophagus_Mucosa, Pros..."
      ]
     },
     "execution_count": 85,
     "metadata": {},
     "output_type": "execute_result"
    }
   ],
   "source": [
    "spredixcan_genes_models.head()"
   ]
  },
  {
   "cell_type": "code",
   "execution_count": 86,
   "id": "e1cb2fe5-969f-4526-bca7-a3b8919b3509",
   "metadata": {
    "execution": {
     "iopub.execute_input": "2022-08-02T07:05:20.715590Z",
     "iopub.status.busy": "2022-08-02T07:05:20.715024Z",
     "iopub.status.idle": "2022-08-02T07:05:20.731190Z",
     "shell.execute_reply": "2022-08-02T07:05:20.730692Z"
    },
    "papermill": {
     "duration": 0.039285,
     "end_time": "2022-08-02T07:05:20.732521",
     "exception": false,
     "start_time": "2022-08-02T07:05:20.693236",
     "status": "completed"
    },
    "tags": []
   },
   "outputs": [],
   "source": [
    "spredixcan_genes_models = spredixcan_genes_models.assign(\n",
    "    gene_name=spredixcan_genes_models[\"gene_id\"].apply(\n",
    "        lambda g: Gene.GENE_ID_TO_NAME_MAP[g]\n",
    "    )\n",
    ")"
   ]
  },
  {
   "cell_type": "code",
   "execution_count": 87,
   "id": "ff078ce5-3f18-442e-a593-3326436c758e",
   "metadata": {
    "execution": {
     "iopub.execute_input": "2022-08-02T07:05:20.774455Z",
     "iopub.status.busy": "2022-08-02T07:05:20.774243Z",
     "iopub.status.idle": "2022-08-02T07:05:20.789331Z",
     "shell.execute_reply": "2022-08-02T07:05:20.788804Z"
    },
    "papermill": {
     "duration": 0.047733,
     "end_time": "2022-08-02T07:05:20.800853",
     "exception": false,
     "start_time": "2022-08-02T07:05:20.753120",
     "status": "completed"
    },
    "tags": []
   },
   "outputs": [],
   "source": [
    "spredixcan_genes_models = spredixcan_genes_models[[\"gene_id\", \"gene_name\", \"tissue\"]]"
   ]
  },
  {
   "cell_type": "code",
   "execution_count": 88,
   "id": "a65c8bf2-5ecd-4f80-a857-11f8a0c019c4",
   "metadata": {
    "execution": {
     "iopub.execute_input": "2022-08-02T07:05:20.853291Z",
     "iopub.status.busy": "2022-08-02T07:05:20.853123Z",
     "iopub.status.idle": "2022-08-02T07:05:20.869199Z",
     "shell.execute_reply": "2022-08-02T07:05:20.868612Z"
    },
    "papermill": {
     "duration": 0.042577,
     "end_time": "2022-08-02T07:05:20.870696",
     "exception": false,
     "start_time": "2022-08-02T07:05:20.828119",
     "status": "completed"
    },
    "tags": []
   },
   "outputs": [],
   "source": [
    "spredixcan_genes_models = spredixcan_genes_models.set_index(\"gene_id\")"
   ]
  },
  {
   "cell_type": "code",
   "execution_count": 89,
   "id": "af6b40b9-fc58-47a1-a1b5-4404034b008b",
   "metadata": {
    "execution": {
     "iopub.execute_input": "2022-08-02T07:05:20.914886Z",
     "iopub.status.busy": "2022-08-02T07:05:20.914350Z",
     "iopub.status.idle": "2022-08-02T07:05:20.931935Z",
     "shell.execute_reply": "2022-08-02T07:05:20.931244Z"
    },
    "papermill": {
     "duration": 0.040196,
     "end_time": "2022-08-02T07:05:20.933204",
     "exception": false,
     "start_time": "2022-08-02T07:05:20.893008",
     "status": "completed"
    },
    "tags": []
   },
   "outputs": [
    {
     "data": {
      "text/html": [
       "<div>\n",
       "<style scoped>\n",
       "    .dataframe tbody tr th:only-of-type {\n",
       "        vertical-align: middle;\n",
       "    }\n",
       "\n",
       "    .dataframe tbody tr th {\n",
       "        vertical-align: top;\n",
       "    }\n",
       "\n",
       "    .dataframe thead th {\n",
       "        text-align: right;\n",
       "    }\n",
       "</style>\n",
       "<table border=\"1\" class=\"dataframe\">\n",
       "  <thead>\n",
       "    <tr style=\"text-align: right;\">\n",
       "      <th></th>\n",
       "      <th>gene_name</th>\n",
       "      <th>tissue</th>\n",
       "    </tr>\n",
       "    <tr>\n",
       "      <th>gene_id</th>\n",
       "      <th></th>\n",
       "      <th></th>\n",
       "    </tr>\n",
       "  </thead>\n",
       "  <tbody>\n",
       "    <tr>\n",
       "      <th>ENSG00000000419</th>\n",
       "      <td>DPM1</td>\n",
       "      <td>(Brain_Hypothalamus, Brain_Substantia_nigra)</td>\n",
       "    </tr>\n",
       "    <tr>\n",
       "      <th>ENSG00000000938</th>\n",
       "      <td>FGR</td>\n",
       "      <td>(Breast_Mammary_Tissue, Esophagus_Mucosa, Pros...</td>\n",
       "    </tr>\n",
       "    <tr>\n",
       "      <th>ENSG00000000971</th>\n",
       "      <td>CFH</td>\n",
       "      <td>(Breast_Mammary_Tissue, Stomach, Artery_Corona...</td>\n",
       "    </tr>\n",
       "    <tr>\n",
       "      <th>ENSG00000001084</th>\n",
       "      <td>GCLC</td>\n",
       "      <td>(Pancreas, Artery_Coronary, Lung, Brain_Putame...</td>\n",
       "    </tr>\n",
       "    <tr>\n",
       "      <th>ENSG00000001167</th>\n",
       "      <td>NFYA</td>\n",
       "      <td>(Breast_Mammary_Tissue, Esophagus_Mucosa, Pros...</td>\n",
       "    </tr>\n",
       "  </tbody>\n",
       "</table>\n",
       "</div>"
      ],
      "text/plain": [
       "                gene_name                                             tissue\n",
       "gene_id                                                                     \n",
       "ENSG00000000419      DPM1       (Brain_Hypothalamus, Brain_Substantia_nigra)\n",
       "ENSG00000000938       FGR  (Breast_Mammary_Tissue, Esophagus_Mucosa, Pros...\n",
       "ENSG00000000971       CFH  (Breast_Mammary_Tissue, Stomach, Artery_Corona...\n",
       "ENSG00000001084      GCLC  (Pancreas, Artery_Coronary, Lung, Brain_Putame...\n",
       "ENSG00000001167      NFYA  (Breast_Mammary_Tissue, Esophagus_Mucosa, Pros..."
      ]
     },
     "execution_count": 89,
     "metadata": {},
     "output_type": "execute_result"
    }
   ],
   "source": [
    "spredixcan_genes_models.head()"
   ]
  },
  {
   "cell_type": "markdown",
   "id": "d1e67be9-9094-4a07-b89d-3a0815d503e6",
   "metadata": {
    "papermill": {
     "duration": 0.020144,
     "end_time": "2022-08-02T07:05:20.974040",
     "exception": false,
     "start_time": "2022-08-02T07:05:20.953896",
     "status": "completed"
    },
    "tags": []
   },
   "source": [
    "### Add number of tissues"
   ]
  },
  {
   "cell_type": "code",
   "execution_count": 90,
   "id": "b2702bdb-b3bc-48e6-9c3e-855924d9e74b",
   "metadata": {
    "execution": {
     "iopub.execute_input": "2022-08-02T07:05:21.016230Z",
     "iopub.status.busy": "2022-08-02T07:05:21.015650Z",
     "iopub.status.idle": "2022-08-02T07:05:21.031312Z",
     "shell.execute_reply": "2022-08-02T07:05:21.030742Z"
    },
    "papermill": {
     "duration": 0.038237,
     "end_time": "2022-08-02T07:05:21.032685",
     "exception": false,
     "start_time": "2022-08-02T07:05:20.994448",
     "status": "completed"
    },
    "tags": []
   },
   "outputs": [],
   "source": [
    "spredixcan_genes_models = spredixcan_genes_models.assign(\n",
    "    n_tissues=spredixcan_genes_models[\"tissue\"].apply(len)\n",
    ")"
   ]
  },
  {
   "cell_type": "code",
   "execution_count": 91,
   "id": "4a5eb4b8-5e11-45a3-a991-0515bd83fc03",
   "metadata": {
    "execution": {
     "iopub.execute_input": "2022-08-02T07:05:21.074903Z",
     "iopub.status.busy": "2022-08-02T07:05:21.074692Z",
     "iopub.status.idle": "2022-08-02T07:05:21.092913Z",
     "shell.execute_reply": "2022-08-02T07:05:21.092386Z"
    },
    "papermill": {
     "duration": 0.040865,
     "end_time": "2022-08-02T07:05:21.094267",
     "exception": false,
     "start_time": "2022-08-02T07:05:21.053402",
     "status": "completed"
    },
    "tags": []
   },
   "outputs": [
    {
     "data": {
      "text/html": [
       "<div>\n",
       "<style scoped>\n",
       "    .dataframe tbody tr th:only-of-type {\n",
       "        vertical-align: middle;\n",
       "    }\n",
       "\n",
       "    .dataframe tbody tr th {\n",
       "        vertical-align: top;\n",
       "    }\n",
       "\n",
       "    .dataframe thead th {\n",
       "        text-align: right;\n",
       "    }\n",
       "</style>\n",
       "<table border=\"1\" class=\"dataframe\">\n",
       "  <thead>\n",
       "    <tr style=\"text-align: right;\">\n",
       "      <th></th>\n",
       "      <th>gene_name</th>\n",
       "      <th>tissue</th>\n",
       "      <th>n_tissues</th>\n",
       "    </tr>\n",
       "    <tr>\n",
       "      <th>gene_id</th>\n",
       "      <th></th>\n",
       "      <th></th>\n",
       "      <th></th>\n",
       "    </tr>\n",
       "  </thead>\n",
       "  <tbody>\n",
       "    <tr>\n",
       "      <th>ENSG00000000419</th>\n",
       "      <td>DPM1</td>\n",
       "      <td>(Brain_Hypothalamus, Brain_Substantia_nigra)</td>\n",
       "      <td>2</td>\n",
       "    </tr>\n",
       "    <tr>\n",
       "      <th>ENSG00000000938</th>\n",
       "      <td>FGR</td>\n",
       "      <td>(Breast_Mammary_Tissue, Esophagus_Mucosa, Pros...</td>\n",
       "      <td>36</td>\n",
       "    </tr>\n",
       "    <tr>\n",
       "      <th>ENSG00000000971</th>\n",
       "      <td>CFH</td>\n",
       "      <td>(Breast_Mammary_Tissue, Stomach, Artery_Corona...</td>\n",
       "      <td>34</td>\n",
       "    </tr>\n",
       "    <tr>\n",
       "      <th>ENSG00000001084</th>\n",
       "      <td>GCLC</td>\n",
       "      <td>(Pancreas, Artery_Coronary, Lung, Brain_Putame...</td>\n",
       "      <td>32</td>\n",
       "    </tr>\n",
       "    <tr>\n",
       "      <th>ENSG00000001167</th>\n",
       "      <td>NFYA</td>\n",
       "      <td>(Breast_Mammary_Tissue, Esophagus_Mucosa, Pros...</td>\n",
       "      <td>40</td>\n",
       "    </tr>\n",
       "  </tbody>\n",
       "</table>\n",
       "</div>"
      ],
      "text/plain": [
       "                gene_name                                             tissue  \\\n",
       "gene_id                                                                        \n",
       "ENSG00000000419      DPM1       (Brain_Hypothalamus, Brain_Substantia_nigra)   \n",
       "ENSG00000000938       FGR  (Breast_Mammary_Tissue, Esophagus_Mucosa, Pros...   \n",
       "ENSG00000000971       CFH  (Breast_Mammary_Tissue, Stomach, Artery_Corona...   \n",
       "ENSG00000001084      GCLC  (Pancreas, Artery_Coronary, Lung, Brain_Putame...   \n",
       "ENSG00000001167      NFYA  (Breast_Mammary_Tissue, Esophagus_Mucosa, Pros...   \n",
       "\n",
       "                 n_tissues  \n",
       "gene_id                     \n",
       "ENSG00000000419          2  \n",
       "ENSG00000000938         36  \n",
       "ENSG00000000971         34  \n",
       "ENSG00000001084         32  \n",
       "ENSG00000001167         40  "
      ]
     },
     "execution_count": 91,
     "metadata": {},
     "output_type": "execute_result"
    }
   ],
   "source": [
    "spredixcan_genes_models.head()"
   ]
  },
  {
   "cell_type": "markdown",
   "id": "850c554f-2ace-40a3-a33a-477246bb07c7",
   "metadata": {
    "papermill": {
     "duration": 0.020562,
     "end_time": "2022-08-02T07:05:21.135559",
     "exception": false,
     "start_time": "2022-08-02T07:05:21.114997",
     "status": "completed"
    },
    "tags": []
   },
   "source": [
    "### Get gene's objects"
   ]
  },
  {
   "cell_type": "code",
   "execution_count": 92,
   "id": "dfd93711-5c91-4cb6-8561-f366e270b6b1",
   "metadata": {
    "execution": {
     "iopub.execute_input": "2022-08-02T07:05:21.178244Z",
     "iopub.status.busy": "2022-08-02T07:05:21.177667Z",
     "iopub.status.idle": "2022-08-02T07:05:21.199117Z",
     "shell.execute_reply": "2022-08-02T07:05:21.198587Z"
    },
    "papermill": {
     "duration": 0.044363,
     "end_time": "2022-08-02T07:05:21.200543",
     "exception": false,
     "start_time": "2022-08-02T07:05:21.156180",
     "status": "completed"
    },
    "tags": []
   },
   "outputs": [],
   "source": [
    "spredixcan_gene_obj = {\n",
    "    gene_id: Gene(ensembl_id=gene_id) for gene_id in spredixcan_genes_models.index\n",
    "}"
   ]
  },
  {
   "cell_type": "code",
   "execution_count": 93,
   "id": "59efbedc-0b5d-4d0b-bd82-95e74c0ba793",
   "metadata": {
    "execution": {
     "iopub.execute_input": "2022-08-02T07:05:21.246662Z",
     "iopub.status.busy": "2022-08-02T07:05:21.246451Z",
     "iopub.status.idle": "2022-08-02T07:05:21.263371Z",
     "shell.execute_reply": "2022-08-02T07:05:21.262547Z"
    },
    "papermill": {
     "duration": 0.043629,
     "end_time": "2022-08-02T07:05:21.265098",
     "exception": false,
     "start_time": "2022-08-02T07:05:21.221469",
     "status": "completed"
    },
    "tags": []
   },
   "outputs": [
    {
     "data": {
      "text/plain": [
       "6444"
      ]
     },
     "execution_count": 93,
     "metadata": {},
     "output_type": "execute_result"
    }
   ],
   "source": [
    "len(spredixcan_gene_obj)"
   ]
  },
  {
   "cell_type": "markdown",
   "id": "27ac1828-755a-424a-b416-6aef1f0c2e45",
   "metadata": {
    "papermill": {
     "duration": 0.026794,
     "end_time": "2022-08-02T07:05:21.320129",
     "exception": false,
     "start_time": "2022-08-02T07:05:21.293335",
     "status": "completed"
    },
    "tags": []
   },
   "source": [
    "### Add genes' variance captured by principal components"
   ]
  },
  {
   "cell_type": "code",
   "execution_count": 94,
   "id": "893b3418-054c-44d2-9ce0-7fa590aef00e",
   "metadata": {
    "execution": {
     "iopub.execute_input": "2022-08-02T07:05:21.375238Z",
     "iopub.status.busy": "2022-08-02T07:05:21.374786Z",
     "iopub.status.idle": "2022-08-02T07:05:21.392676Z",
     "shell.execute_reply": "2022-08-02T07:05:21.391893Z"
    },
    "papermill": {
     "duration": 0.047272,
     "end_time": "2022-08-02T07:05:21.394498",
     "exception": false,
     "start_time": "2022-08-02T07:05:21.347226",
     "status": "completed"
    },
    "tags": []
   },
   "outputs": [],
   "source": [
    "def _get_gene_pc_variance(gene_row):\n",
    "    gene_id = gene_row.name\n",
    "    gene_tissues = gene_row[\"tissue\"]\n",
    "    gene_obj = spredixcan_gene_obj[gene_id]\n",
    "\n",
    "    u, s, vt = gene_obj.get_tissues_correlations_svd(\n",
    "        tissues=gene_tissues,\n",
    "        snps_subset=gwas_variants_ids_set,\n",
    "        reference_panel=REFERENCE_PANEL,\n",
    "        model_type=EQTL_MODEL,\n",
    "        # use_covariance_matrix=True,\n",
    "    )\n",
    "\n",
    "    return s"
   ]
  },
  {
   "cell_type": "code",
   "execution_count": 95,
   "id": "083afa33-cea0-40d3-af20-94a1307a6607",
   "metadata": {
    "execution": {
     "iopub.execute_input": "2022-08-02T07:05:21.444782Z",
     "iopub.status.busy": "2022-08-02T07:05:21.444610Z",
     "iopub.status.idle": "2022-08-02T07:05:27.304612Z",
     "shell.execute_reply": "2022-08-02T07:05:27.304030Z"
    },
    "papermill": {
     "duration": 5.885612,
     "end_time": "2022-08-02T07:05:27.306104",
     "exception": false,
     "start_time": "2022-08-02T07:05:21.420492",
     "status": "completed"
    },
    "tags": []
   },
   "outputs": [
    {
     "data": {
      "text/plain": [
       "array([35.14301823,  3.87568728,  2.3091285 ,  1.90683623,  1.27573165])"
      ]
     },
     "execution_count": 95,
     "metadata": {},
     "output_type": "execute_result"
    }
   ],
   "source": [
    "_tmp = spredixcan_genes_models.loc[\"ENSG00000188976\"]\n",
    "_get_gene_pc_variance(_tmp)"
   ]
  },
  {
   "cell_type": "code",
   "execution_count": 96,
   "id": "80f7720d-79c9-4183-bb7e-b1480f31ed87",
   "metadata": {
    "execution": {
     "iopub.execute_input": "2022-08-02T07:05:27.350692Z",
     "iopub.status.busy": "2022-08-02T07:05:27.350459Z",
     "iopub.status.idle": "2022-08-02T08:38:16.040431Z",
     "shell.execute_reply": "2022-08-02T08:38:16.039950Z"
    },
    "papermill": {
     "duration": 5568.713671,
     "end_time": "2022-08-02T08:38:16.041863",
     "exception": false,
     "start_time": "2022-08-02T07:05:27.328192",
     "status": "completed"
    },
    "tags": []
   },
   "outputs": [],
   "source": [
    "spredixcan_genes_tissues_pc_variance = spredixcan_genes_models.apply(\n",
    "    _get_gene_pc_variance, axis=1\n",
    ")"
   ]
  },
  {
   "cell_type": "code",
   "execution_count": 97,
   "id": "621302a1-1407-4400-9282-e37798bb18b3",
   "metadata": {
    "execution": {
     "iopub.execute_input": "2022-08-02T08:38:16.086881Z",
     "iopub.status.busy": "2022-08-02T08:38:16.086558Z",
     "iopub.status.idle": "2022-08-02T08:38:16.102479Z",
     "shell.execute_reply": "2022-08-02T08:38:16.101113Z"
    },
    "papermill": {
     "duration": 0.040578,
     "end_time": "2022-08-02T08:38:16.104859",
     "exception": false,
     "start_time": "2022-08-02T08:38:16.064281",
     "status": "completed"
    },
    "tags": []
   },
   "outputs": [
    {
     "data": {
      "text/plain": [
       "gene_id\n",
       "ENSG00000000419             [1.0442398458252409, 0.9557601541747592]\n",
       "ENSG00000000938    [31.63266933637128, 2.0783677518511436, 1.2716...\n",
       "ENSG00000000971    [21.560769925683296, 7.3101709870454625, 1.837...\n",
       "ENSG00000001084    [21.291939080546523, 4.699418748743197, 2.2489...\n",
       "ENSG00000001167              [37.33566029549769, 1.3914019604538364]\n",
       "                                         ...                        \n",
       "ENSG00000278540    [30.239540272954745, 3.0448326465798896, 1.679...\n",
       "ENSG00000278828              [3.062182335109643, 0.9378176648903567]\n",
       "ENSG00000278845             [45.687454510139105, 2.2268019546482347]\n",
       "ENSG00000281005                                 [48.301707397855736]\n",
       "ENSG00000282608    [22.653514081237095, 6.245520030604542, 2.5559...\n",
       "Length: 6444, dtype: object"
      ]
     },
     "execution_count": 97,
     "metadata": {},
     "output_type": "execute_result"
    }
   ],
   "source": [
    "spredixcan_genes_tissues_pc_variance"
   ]
  },
  {
   "cell_type": "code",
   "execution_count": 98,
   "id": "9ac9e0fb-e0cc-4fea-ad01-2e76d40afb3c",
   "metadata": {
    "execution": {
     "iopub.execute_input": "2022-08-02T08:38:16.149557Z",
     "iopub.status.busy": "2022-08-02T08:38:16.149312Z",
     "iopub.status.idle": "2022-08-02T08:38:16.164514Z",
     "shell.execute_reply": "2022-08-02T08:38:16.164045Z"
    },
    "papermill": {
     "duration": 0.039311,
     "end_time": "2022-08-02T08:38:16.166018",
     "exception": false,
     "start_time": "2022-08-02T08:38:16.126707",
     "status": "completed"
    },
    "tags": []
   },
   "outputs": [],
   "source": [
    "# # testing\n",
    "# assert spredixcan_genes_tissues_pc_variance.loc[\n",
    "#     \"ENSG00000188976\"\n",
    "# ].sum() == pytest.approx(44.01605629086847)\n",
    "# # this is using the covariance:\n",
    "# # assert spredixcan_genes_tissues_pc_variance.loc[\"ENSG00000188976\"].sum() == pytest.approx(1.1492946006449425)"
   ]
  },
  {
   "cell_type": "code",
   "execution_count": 99,
   "id": "700ed8c8-16e3-4f44-80ff-a4355349ac26",
   "metadata": {
    "execution": {
     "iopub.execute_input": "2022-08-02T08:38:16.212123Z",
     "iopub.status.busy": "2022-08-02T08:38:16.211605Z",
     "iopub.status.idle": "2022-08-02T08:38:16.231815Z",
     "shell.execute_reply": "2022-08-02T08:38:16.227334Z"
    },
    "papermill": {
     "duration": 0.044173,
     "end_time": "2022-08-02T08:38:16.233128",
     "exception": false,
     "start_time": "2022-08-02T08:38:16.188955",
     "status": "completed"
    },
    "tags": []
   },
   "outputs": [],
   "source": [
    "# add to spredixcan_genes_models\n",
    "spredixcan_genes_models = spredixcan_genes_models.join(\n",
    "    spredixcan_genes_tissues_pc_variance.rename(\"tissues_pc_variances\")\n",
    ")"
   ]
  },
  {
   "cell_type": "code",
   "execution_count": 100,
   "id": "597f7dff-2425-490d-84d6-537f8bd0f147",
   "metadata": {
    "execution": {
     "iopub.execute_input": "2022-08-02T08:38:16.279515Z",
     "iopub.status.busy": "2022-08-02T08:38:16.278641Z",
     "iopub.status.idle": "2022-08-02T08:38:16.294375Z",
     "shell.execute_reply": "2022-08-02T08:38:16.293912Z"
    },
    "papermill": {
     "duration": 0.039863,
     "end_time": "2022-08-02T08:38:16.295797",
     "exception": false,
     "start_time": "2022-08-02T08:38:16.255934",
     "status": "completed"
    },
    "tags": []
   },
   "outputs": [
    {
     "data": {
      "text/plain": [
       "(6444, 4)"
      ]
     },
     "execution_count": 100,
     "metadata": {},
     "output_type": "execute_result"
    }
   ],
   "source": [
    "spredixcan_genes_models.shape"
   ]
  },
  {
   "cell_type": "code",
   "execution_count": 101,
   "id": "41bdb249-f7e3-4b07-a534-2c3e46db72dc",
   "metadata": {
    "execution": {
     "iopub.execute_input": "2022-08-02T08:38:16.343226Z",
     "iopub.status.busy": "2022-08-02T08:38:16.343032Z",
     "iopub.status.idle": "2022-08-02T08:38:16.365834Z",
     "shell.execute_reply": "2022-08-02T08:38:16.365437Z"
    },
    "papermill": {
     "duration": 0.047472,
     "end_time": "2022-08-02T08:38:16.367498",
     "exception": false,
     "start_time": "2022-08-02T08:38:16.320026",
     "status": "completed"
    },
    "tags": []
   },
   "outputs": [
    {
     "data": {
      "text/html": [
       "<div>\n",
       "<style scoped>\n",
       "    .dataframe tbody tr th:only-of-type {\n",
       "        vertical-align: middle;\n",
       "    }\n",
       "\n",
       "    .dataframe tbody tr th {\n",
       "        vertical-align: top;\n",
       "    }\n",
       "\n",
       "    .dataframe thead th {\n",
       "        text-align: right;\n",
       "    }\n",
       "</style>\n",
       "<table border=\"1\" class=\"dataframe\">\n",
       "  <thead>\n",
       "    <tr style=\"text-align: right;\">\n",
       "      <th></th>\n",
       "      <th>gene_name</th>\n",
       "      <th>tissue</th>\n",
       "      <th>n_tissues</th>\n",
       "      <th>tissues_pc_variances</th>\n",
       "    </tr>\n",
       "    <tr>\n",
       "      <th>gene_id</th>\n",
       "      <th></th>\n",
       "      <th></th>\n",
       "      <th></th>\n",
       "      <th></th>\n",
       "    </tr>\n",
       "  </thead>\n",
       "  <tbody>\n",
       "    <tr>\n",
       "      <th>ENSG00000000419</th>\n",
       "      <td>DPM1</td>\n",
       "      <td>(Brain_Hypothalamus, Brain_Substantia_nigra)</td>\n",
       "      <td>2</td>\n",
       "      <td>[1.0442398458252409, 0.9557601541747592]</td>\n",
       "    </tr>\n",
       "    <tr>\n",
       "      <th>ENSG00000000938</th>\n",
       "      <td>FGR</td>\n",
       "      <td>(Breast_Mammary_Tissue, Esophagus_Mucosa, Pros...</td>\n",
       "      <td>36</td>\n",
       "      <td>[31.63266933637128, 2.0783677518511436, 1.2716...</td>\n",
       "    </tr>\n",
       "    <tr>\n",
       "      <th>ENSG00000000971</th>\n",
       "      <td>CFH</td>\n",
       "      <td>(Breast_Mammary_Tissue, Stomach, Artery_Corona...</td>\n",
       "      <td>34</td>\n",
       "      <td>[21.560769925683296, 7.3101709870454625, 1.837...</td>\n",
       "    </tr>\n",
       "    <tr>\n",
       "      <th>ENSG00000001084</th>\n",
       "      <td>GCLC</td>\n",
       "      <td>(Pancreas, Artery_Coronary, Lung, Brain_Putame...</td>\n",
       "      <td>32</td>\n",
       "      <td>[21.291939080546523, 4.699418748743197, 2.2489...</td>\n",
       "    </tr>\n",
       "    <tr>\n",
       "      <th>ENSG00000001167</th>\n",
       "      <td>NFYA</td>\n",
       "      <td>(Breast_Mammary_Tissue, Esophagus_Mucosa, Pros...</td>\n",
       "      <td>40</td>\n",
       "      <td>[37.33566029549769, 1.3914019604538364]</td>\n",
       "    </tr>\n",
       "  </tbody>\n",
       "</table>\n",
       "</div>"
      ],
      "text/plain": [
       "                gene_name                                             tissue  \\\n",
       "gene_id                                                                        \n",
       "ENSG00000000419      DPM1       (Brain_Hypothalamus, Brain_Substantia_nigra)   \n",
       "ENSG00000000938       FGR  (Breast_Mammary_Tissue, Esophagus_Mucosa, Pros...   \n",
       "ENSG00000000971       CFH  (Breast_Mammary_Tissue, Stomach, Artery_Corona...   \n",
       "ENSG00000001084      GCLC  (Pancreas, Artery_Coronary, Lung, Brain_Putame...   \n",
       "ENSG00000001167      NFYA  (Breast_Mammary_Tissue, Esophagus_Mucosa, Pros...   \n",
       "\n",
       "                 n_tissues                               tissues_pc_variances  \n",
       "gene_id                                                                        \n",
       "ENSG00000000419          2           [1.0442398458252409, 0.9557601541747592]  \n",
       "ENSG00000000938         36  [31.63266933637128, 2.0783677518511436, 1.2716...  \n",
       "ENSG00000000971         34  [21.560769925683296, 7.3101709870454625, 1.837...  \n",
       "ENSG00000001084         32  [21.291939080546523, 4.699418748743197, 2.2489...  \n",
       "ENSG00000001167         40            [37.33566029549769, 1.3914019604538364]  "
      ]
     },
     "execution_count": 101,
     "metadata": {},
     "output_type": "execute_result"
    }
   ],
   "source": [
    "spredixcan_genes_models.head()"
   ]
  },
  {
   "cell_type": "markdown",
   "id": "e58c08e2-6179-4d47-af1e-4f5e6e048d9d",
   "metadata": {
    "papermill": {
     "duration": 0.022032,
     "end_time": "2022-08-02T08:38:16.411383",
     "exception": false,
     "start_time": "2022-08-02T08:38:16.389351",
     "status": "completed"
    },
    "tags": []
   },
   "source": [
    "### Add genes' variance captured by principal components (covariance)"
   ]
  },
  {
   "cell_type": "code",
   "execution_count": 102,
   "id": "25a97b2a-8044-4de7-b532-7b6516d2b82c",
   "metadata": {
    "execution": {
     "iopub.execute_input": "2022-08-02T08:38:16.456424Z",
     "iopub.status.busy": "2022-08-02T08:38:16.456262Z",
     "iopub.status.idle": "2022-08-02T08:38:16.471649Z",
     "shell.execute_reply": "2022-08-02T08:38:16.471228Z"
    },
    "papermill": {
     "duration": 0.03965,
     "end_time": "2022-08-02T08:38:16.473081",
     "exception": false,
     "start_time": "2022-08-02T08:38:16.433431",
     "status": "completed"
    },
    "tags": []
   },
   "outputs": [],
   "source": [
    "def _get_gene_pc_variance(gene_row):\n",
    "    gene_id = gene_row.name\n",
    "    gene_tissues = gene_row[\"tissue\"]\n",
    "    gene_obj = spredixcan_gene_obj[gene_id]\n",
    "\n",
    "    u, s, vt = gene_obj.get_tissues_correlations_svd(\n",
    "        tissues=gene_tissues,\n",
    "        snps_subset=gwas_variants_ids_set,\n",
    "        reference_panel=REFERENCE_PANEL,\n",
    "        model_type=EQTL_MODEL,\n",
    "        use_covariance_matrix=True,\n",
    "    )\n",
    "\n",
    "    return s"
   ]
  },
  {
   "cell_type": "code",
   "execution_count": 103,
   "id": "f750ce3c-3bea-49d6-beca-9f609ae69b87",
   "metadata": {
    "execution": {
     "iopub.execute_input": "2022-08-02T08:38:16.517742Z",
     "iopub.status.busy": "2022-08-02T08:38:16.517576Z",
     "iopub.status.idle": "2022-08-02T08:38:16.920688Z",
     "shell.execute_reply": "2022-08-02T08:38:16.920299Z"
    },
    "papermill": {
     "duration": 0.426808,
     "end_time": "2022-08-02T08:38:16.922001",
     "exception": false,
     "start_time": "2022-08-02T08:38:16.495193",
     "status": "completed"
    },
    "tags": []
   },
   "outputs": [
    {
     "data": {
      "text/plain": [
       "array([0.92569322, 0.08878404])"
      ]
     },
     "execution_count": 103,
     "metadata": {},
     "output_type": "execute_result"
    }
   ],
   "source": [
    "_tmp = spredixcan_genes_models.loc[\"ENSG00000188976\"]\n",
    "_get_gene_pc_variance(_tmp)"
   ]
  },
  {
   "cell_type": "code",
   "execution_count": 104,
   "id": "6502c9ff-8f64-46f9-b94f-9a4a0f6736ba",
   "metadata": {
    "execution": {
     "iopub.execute_input": "2022-08-02T08:38:17.006006Z",
     "iopub.status.busy": "2022-08-02T08:38:17.005845Z",
     "iopub.status.idle": "2022-08-02T10:11:05.573815Z",
     "shell.execute_reply": "2022-08-02T10:11:05.573330Z"
    },
    "papermill": {
     "duration": 5568.61113,
     "end_time": "2022-08-02T10:11:05.575279",
     "exception": false,
     "start_time": "2022-08-02T08:38:16.964149",
     "status": "completed"
    },
    "tags": []
   },
   "outputs": [],
   "source": [
    "spredixcan_genes_tissues_pc_variance = spredixcan_genes_models.apply(\n",
    "    _get_gene_pc_variance, axis=1\n",
    ")"
   ]
  },
  {
   "cell_type": "code",
   "execution_count": 105,
   "id": "a647f47b-6663-4bab-9ffc-c2e92b93c654",
   "metadata": {
    "execution": {
     "iopub.execute_input": "2022-08-02T10:11:05.639456Z",
     "iopub.status.busy": "2022-08-02T10:11:05.639275Z",
     "iopub.status.idle": "2022-08-02T10:11:05.664127Z",
     "shell.execute_reply": "2022-08-02T10:11:05.663640Z"
    },
    "papermill": {
     "duration": 0.053527,
     "end_time": "2022-08-02T10:11:05.665609",
     "exception": false,
     "start_time": "2022-08-02T10:11:05.612082",
     "status": "completed"
    },
    "tags": []
   },
   "outputs": [
    {
     "data": {
      "text/plain": [
       "gene_id\n",
       "ENSG00000000419       [0.013163142634155849, 0.00048574890347684763]\n",
       "ENSG00000000938                                [0.17159486570780277]\n",
       "ENSG00000000971    [0.2093060319587451, 0.058234347656008094, 0.0...\n",
       "ENSG00000001084    [0.39430527375123775, 0.11627488888534823, 0.0...\n",
       "ENSG00000001167            [1.1642639979821048, 0.05742881287671711]\n",
       "                                         ...                        \n",
       "ENSG00000278540           [0.1210517732183371, 0.011043537807199556]\n",
       "ENSG00000278828        [0.003774008788117112, 0.0024289076167174424]\n",
       "ENSG00000278845            [1.0913874047417143, 0.04698044450101885]\n",
       "ENSG00000281005                                 [3.8662049265278142]\n",
       "ENSG00000282608    [0.22315950079956806, 0.031779000782788114, 0....\n",
       "Length: 6444, dtype: object"
      ]
     },
     "execution_count": 105,
     "metadata": {},
     "output_type": "execute_result"
    }
   ],
   "source": [
    "spredixcan_genes_tissues_pc_variance"
   ]
  },
  {
   "cell_type": "code",
   "execution_count": 106,
   "id": "6a8d4099-1dca-4d11-a9b8-5a1119885329",
   "metadata": {
    "execution": {
     "iopub.execute_input": "2022-08-02T10:11:05.712832Z",
     "iopub.status.busy": "2022-08-02T10:11:05.712364Z",
     "iopub.status.idle": "2022-08-02T10:11:05.726594Z",
     "shell.execute_reply": "2022-08-02T10:11:05.726161Z"
    },
    "papermill": {
     "duration": 0.039142,
     "end_time": "2022-08-02T10:11:05.728175",
     "exception": false,
     "start_time": "2022-08-02T10:11:05.689033",
     "status": "completed"
    },
    "tags": []
   },
   "outputs": [],
   "source": [
    "# # testing\n",
    "# # assert spredixcan_genes_tissues_pc_variance.loc[\"ENSG00000188976\"].sum() == pytest.approx(44.01605629086847)\n",
    "# # this is using the covariance:\n",
    "# assert spredixcan_genes_tissues_pc_variance.loc[\n",
    "#     \"ENSG00000188976\"\n",
    "# ].sum() == pytest.approx(1.1492946006449425)"
   ]
  },
  {
   "cell_type": "code",
   "execution_count": 107,
   "id": "102ed25d-6c0c-466d-be27-e75a3f03a4bb",
   "metadata": {
    "execution": {
     "iopub.execute_input": "2022-08-02T10:11:05.776264Z",
     "iopub.status.busy": "2022-08-02T10:11:05.776068Z",
     "iopub.status.idle": "2022-08-02T10:11:05.793907Z",
     "shell.execute_reply": "2022-08-02T10:11:05.793439Z"
    },
    "papermill": {
     "duration": 0.047218,
     "end_time": "2022-08-02T10:11:05.799418",
     "exception": false,
     "start_time": "2022-08-02T10:11:05.752200",
     "status": "completed"
    },
    "tags": []
   },
   "outputs": [],
   "source": [
    "# add to spredixcan_genes_models\n",
    "spredixcan_genes_models = spredixcan_genes_models.join(\n",
    "    spredixcan_genes_tissues_pc_variance.rename(\"tissues_pc_variances_cov\")\n",
    ")"
   ]
  },
  {
   "cell_type": "code",
   "execution_count": 108,
   "id": "000d6517-dc14-42a2-88ef-5e6856b293b7",
   "metadata": {
    "execution": {
     "iopub.execute_input": "2022-08-02T10:11:05.871687Z",
     "iopub.status.busy": "2022-08-02T10:11:05.870260Z",
     "iopub.status.idle": "2022-08-02T10:11:05.907815Z",
     "shell.execute_reply": "2022-08-02T10:11:05.906531Z"
    },
    "papermill": {
     "duration": 0.07398,
     "end_time": "2022-08-02T10:11:05.909159",
     "exception": false,
     "start_time": "2022-08-02T10:11:05.835179",
     "status": "completed"
    },
    "tags": []
   },
   "outputs": [
    {
     "data": {
      "text/plain": [
       "(6444, 5)"
      ]
     },
     "execution_count": 108,
     "metadata": {},
     "output_type": "execute_result"
    }
   ],
   "source": [
    "spredixcan_genes_models.shape"
   ]
  },
  {
   "cell_type": "code",
   "execution_count": 109,
   "id": "a2dd6dc7-b325-4f21-910f-6611b7d87efd",
   "metadata": {
    "execution": {
     "iopub.execute_input": "2022-08-02T10:11:05.984395Z",
     "iopub.status.busy": "2022-08-02T10:11:05.984184Z",
     "iopub.status.idle": "2022-08-02T10:11:06.016159Z",
     "shell.execute_reply": "2022-08-02T10:11:06.015663Z"
    },
    "papermill": {
     "duration": 0.073163,
     "end_time": "2022-08-02T10:11:06.018126",
     "exception": false,
     "start_time": "2022-08-02T10:11:05.944963",
     "status": "completed"
    },
    "tags": []
   },
   "outputs": [
    {
     "data": {
      "text/html": [
       "<div>\n",
       "<style scoped>\n",
       "    .dataframe tbody tr th:only-of-type {\n",
       "        vertical-align: middle;\n",
       "    }\n",
       "\n",
       "    .dataframe tbody tr th {\n",
       "        vertical-align: top;\n",
       "    }\n",
       "\n",
       "    .dataframe thead th {\n",
       "        text-align: right;\n",
       "    }\n",
       "</style>\n",
       "<table border=\"1\" class=\"dataframe\">\n",
       "  <thead>\n",
       "    <tr style=\"text-align: right;\">\n",
       "      <th></th>\n",
       "      <th>gene_name</th>\n",
       "      <th>tissue</th>\n",
       "      <th>n_tissues</th>\n",
       "      <th>tissues_pc_variances</th>\n",
       "      <th>tissues_pc_variances_cov</th>\n",
       "    </tr>\n",
       "    <tr>\n",
       "      <th>gene_id</th>\n",
       "      <th></th>\n",
       "      <th></th>\n",
       "      <th></th>\n",
       "      <th></th>\n",
       "      <th></th>\n",
       "    </tr>\n",
       "  </thead>\n",
       "  <tbody>\n",
       "    <tr>\n",
       "      <th>ENSG00000000419</th>\n",
       "      <td>DPM1</td>\n",
       "      <td>(Brain_Hypothalamus, Brain_Substantia_nigra)</td>\n",
       "      <td>2</td>\n",
       "      <td>[1.0442398458252409, 0.9557601541747592]</td>\n",
       "      <td>[0.013163142634155849, 0.00048574890347684763]</td>\n",
       "    </tr>\n",
       "    <tr>\n",
       "      <th>ENSG00000000938</th>\n",
       "      <td>FGR</td>\n",
       "      <td>(Breast_Mammary_Tissue, Esophagus_Mucosa, Pros...</td>\n",
       "      <td>36</td>\n",
       "      <td>[31.63266933637128, 2.0783677518511436, 1.2716...</td>\n",
       "      <td>[0.17159486570780277]</td>\n",
       "    </tr>\n",
       "    <tr>\n",
       "      <th>ENSG00000000971</th>\n",
       "      <td>CFH</td>\n",
       "      <td>(Breast_Mammary_Tissue, Stomach, Artery_Corona...</td>\n",
       "      <td>34</td>\n",
       "      <td>[21.560769925683296, 7.3101709870454625, 1.837...</td>\n",
       "      <td>[0.2093060319587451, 0.058234347656008094, 0.0...</td>\n",
       "    </tr>\n",
       "    <tr>\n",
       "      <th>ENSG00000001084</th>\n",
       "      <td>GCLC</td>\n",
       "      <td>(Pancreas, Artery_Coronary, Lung, Brain_Putame...</td>\n",
       "      <td>32</td>\n",
       "      <td>[21.291939080546523, 4.699418748743197, 2.2489...</td>\n",
       "      <td>[0.39430527375123775, 0.11627488888534823, 0.0...</td>\n",
       "    </tr>\n",
       "    <tr>\n",
       "      <th>ENSG00000001167</th>\n",
       "      <td>NFYA</td>\n",
       "      <td>(Breast_Mammary_Tissue, Esophagus_Mucosa, Pros...</td>\n",
       "      <td>40</td>\n",
       "      <td>[37.33566029549769, 1.3914019604538364]</td>\n",
       "      <td>[1.1642639979821048, 0.05742881287671711]</td>\n",
       "    </tr>\n",
       "  </tbody>\n",
       "</table>\n",
       "</div>"
      ],
      "text/plain": [
       "                gene_name                                             tissue  \\\n",
       "gene_id                                                                        \n",
       "ENSG00000000419      DPM1       (Brain_Hypothalamus, Brain_Substantia_nigra)   \n",
       "ENSG00000000938       FGR  (Breast_Mammary_Tissue, Esophagus_Mucosa, Pros...   \n",
       "ENSG00000000971       CFH  (Breast_Mammary_Tissue, Stomach, Artery_Corona...   \n",
       "ENSG00000001084      GCLC  (Pancreas, Artery_Coronary, Lung, Brain_Putame...   \n",
       "ENSG00000001167      NFYA  (Breast_Mammary_Tissue, Esophagus_Mucosa, Pros...   \n",
       "\n",
       "                 n_tissues                               tissues_pc_variances  \\\n",
       "gene_id                                                                         \n",
       "ENSG00000000419          2           [1.0442398458252409, 0.9557601541747592]   \n",
       "ENSG00000000938         36  [31.63266933637128, 2.0783677518511436, 1.2716...   \n",
       "ENSG00000000971         34  [21.560769925683296, 7.3101709870454625, 1.837...   \n",
       "ENSG00000001084         32  [21.291939080546523, 4.699418748743197, 2.2489...   \n",
       "ENSG00000001167         40            [37.33566029549769, 1.3914019604538364]   \n",
       "\n",
       "                                          tissues_pc_variances_cov  \n",
       "gene_id                                                             \n",
       "ENSG00000000419     [0.013163142634155849, 0.00048574890347684763]  \n",
       "ENSG00000000938                              [0.17159486570780277]  \n",
       "ENSG00000000971  [0.2093060319587451, 0.058234347656008094, 0.0...  \n",
       "ENSG00000001084  [0.39430527375123775, 0.11627488888534823, 0.0...  \n",
       "ENSG00000001167          [1.1642639979821048, 0.05742881287671711]  "
      ]
     },
     "execution_count": 109,
     "metadata": {},
     "output_type": "execute_result"
    }
   ],
   "source": [
    "spredixcan_genes_models.head()"
   ]
  },
  {
   "cell_type": "markdown",
   "id": "ef1c76d7-485b-4e8a-932e-fd01382d5520",
   "metadata": {
    "papermill": {
     "duration": 0.026659,
     "end_time": "2022-08-02T10:11:06.071320",
     "exception": false,
     "start_time": "2022-08-02T10:11:06.044661",
     "status": "completed"
    },
    "tags": []
   },
   "source": [
    "### Add gene variance per tissue"
   ]
  },
  {
   "cell_type": "code",
   "execution_count": 110,
   "id": "530f7941-6ad7-4a29-b9e4-a006949282e0",
   "metadata": {
    "execution": {
     "iopub.execute_input": "2022-08-02T10:11:06.123909Z",
     "iopub.status.busy": "2022-08-02T10:11:06.123659Z",
     "iopub.status.idle": "2022-08-02T10:11:06.141135Z",
     "shell.execute_reply": "2022-08-02T10:11:06.140663Z"
    },
    "papermill": {
     "duration": 0.045047,
     "end_time": "2022-08-02T10:11:06.142648",
     "exception": false,
     "start_time": "2022-08-02T10:11:06.097601",
     "status": "completed"
    },
    "tags": []
   },
   "outputs": [],
   "source": [
    "def _get_gene_variances(gene_row):\n",
    "    gene_id = gene_row.name\n",
    "    gene_tissues = gene_row[\"tissue\"]\n",
    "\n",
    "    tissue_variances = {}\n",
    "    gene_obj = spredixcan_gene_obj[gene_id]\n",
    "\n",
    "    for tissue in gene_tissues:\n",
    "        tissue_var = gene_obj.get_pred_expression_variance(\n",
    "            tissue=tissue,\n",
    "            reference_panel=REFERENCE_PANEL,\n",
    "            model_type=EQTL_MODEL,\n",
    "            snps_subset=gwas_variants_ids_set,\n",
    "        )\n",
    "\n",
    "        if tissue_var is not None:\n",
    "            tissue_variances[tissue] = tissue_var\n",
    "\n",
    "    return tissue_variances"
   ]
  },
  {
   "cell_type": "code",
   "execution_count": 111,
   "id": "01eb9e6a-4505-44e6-9e6e-9788e257f319",
   "metadata": {
    "execution": {
     "iopub.execute_input": "2022-08-02T10:11:06.200250Z",
     "iopub.status.busy": "2022-08-02T10:11:06.199312Z",
     "iopub.status.idle": "2022-08-02T10:11:06.220158Z",
     "shell.execute_reply": "2022-08-02T10:11:06.219713Z"
    },
    "papermill": {
     "duration": 0.050672,
     "end_time": "2022-08-02T10:11:06.221452",
     "exception": false,
     "start_time": "2022-08-02T10:11:06.170780",
     "status": "completed"
    },
    "tags": []
   },
   "outputs": [
    {
     "data": {
      "text/plain": [
       "{'Brain_Hypothalamus': 0.013162153504206677,\n",
       " 'Brain_Substantia_nigra': 0.0004867380334260178}"
      ]
     },
     "execution_count": 111,
     "metadata": {},
     "output_type": "execute_result"
    }
   ],
   "source": [
    "_tmp = spredixcan_genes_models.loc[\"ENSG00000000419\"]\n",
    "_get_gene_variances(_tmp)"
   ]
  },
  {
   "cell_type": "code",
   "execution_count": 112,
   "id": "447061ec-4847-4911-a1d6-8b86d15e4aac",
   "metadata": {
    "execution": {
     "iopub.execute_input": "2022-08-02T10:11:06.277550Z",
     "iopub.status.busy": "2022-08-02T10:11:06.277236Z",
     "iopub.status.idle": "2022-08-02T10:11:08.088097Z",
     "shell.execute_reply": "2022-08-02T10:11:08.087616Z"
    },
    "papermill": {
     "duration": 1.836289,
     "end_time": "2022-08-02T10:11:08.089414",
     "exception": false,
     "start_time": "2022-08-02T10:11:06.253125",
     "status": "completed"
    },
    "tags": []
   },
   "outputs": [],
   "source": [
    "spredixcan_genes_tissues_variance = spredixcan_genes_models.apply(\n",
    "    _get_gene_variances, axis=1\n",
    ")"
   ]
  },
  {
   "cell_type": "code",
   "execution_count": 113,
   "id": "816cbdd2-d667-4eaa-bbf7-335550854ee8",
   "metadata": {
    "execution": {
     "iopub.execute_input": "2022-08-02T10:11:08.156753Z",
     "iopub.status.busy": "2022-08-02T10:11:08.156542Z",
     "iopub.status.idle": "2022-08-02T10:11:08.186349Z",
     "shell.execute_reply": "2022-08-02T10:11:08.185932Z"
    },
    "papermill": {
     "duration": 0.061782,
     "end_time": "2022-08-02T10:11:08.187718",
     "exception": false,
     "start_time": "2022-08-02T10:11:08.125936",
     "status": "completed"
    },
    "tags": []
   },
   "outputs": [
    {
     "data": {
      "text/plain": [
       "gene_id\n",
       "ENSG00000000419    {'Brain_Hypothalamus': 0.013162153504206677, '...\n",
       "ENSG00000000938    {'Breast_Mammary_Tissue': 0.002243819216617953...\n",
       "ENSG00000000971    {'Breast_Mammary_Tissue': 0.01068561006340443,...\n",
       "ENSG00000001084    {'Pancreas': 0.015199520517598328, 'Artery_Cor...\n",
       "ENSG00000001167    {'Breast_Mammary_Tissue': 0.03313519857456931,...\n",
       "                                         ...                        \n",
       "ENSG00000278540    {'Breast_Mammary_Tissue': 0.002812789859872168...\n",
       "ENSG00000278828    {'Cells_EBV-transformed_lymphocytes': 0.003027...\n",
       "ENSG00000278845    {'Breast_Mammary_Tissue': 0.007262227905134688...\n",
       "ENSG00000281005    {'Breast_Mammary_Tissue': 0.03229355035207454,...\n",
       "ENSG00000282608    {'Breast_Mammary_Tissue': 0.005205092662061717...\n",
       "Length: 6444, dtype: object"
      ]
     },
     "execution_count": 113,
     "metadata": {},
     "output_type": "execute_result"
    }
   ],
   "source": [
    "spredixcan_genes_tissues_variance"
   ]
  },
  {
   "cell_type": "code",
   "execution_count": 114,
   "id": "68c65eb6-15c0-494d-992f-93bc84268a59",
   "metadata": {
    "execution": {
     "iopub.execute_input": "2022-08-02T10:11:08.265962Z",
     "iopub.status.busy": "2022-08-02T10:11:08.261850Z",
     "iopub.status.idle": "2022-08-02T10:11:08.289208Z",
     "shell.execute_reply": "2022-08-02T10:11:08.288804Z"
    },
    "papermill": {
     "duration": 0.065435,
     "end_time": "2022-08-02T10:11:08.290511",
     "exception": false,
     "start_time": "2022-08-02T10:11:08.225076",
     "status": "completed"
    },
    "tags": []
   },
   "outputs": [],
   "source": [
    "# # testing\n",
    "# _gene_id = \"ENSG00000188976\"\n",
    "# x = spredixcan_genes_tissues_variance.loc[_gene_id]\n",
    "# # expected value obtained by sum of PCA eigenvalues on this gene's predicted expression\n",
    "# assert np.sum(list(x.values())) == pytest.approx(1.2326202607409493)"
   ]
  },
  {
   "cell_type": "code",
   "execution_count": 115,
   "id": "1996453a-fdfc-44e9-bbdf-b83e3b3b1aee",
   "metadata": {
    "execution": {
     "iopub.execute_input": "2022-08-02T10:11:08.338315Z",
     "iopub.status.busy": "2022-08-02T10:11:08.338008Z",
     "iopub.status.idle": "2022-08-02T10:11:08.359208Z",
     "shell.execute_reply": "2022-08-02T10:11:08.355159Z"
    },
    "papermill": {
     "duration": 0.046729,
     "end_time": "2022-08-02T10:11:08.360528",
     "exception": false,
     "start_time": "2022-08-02T10:11:08.313799",
     "status": "completed"
    },
    "tags": []
   },
   "outputs": [
    {
     "data": {
      "text/plain": [
       "{'Brain_Hypothalamus': 0.013162153504206677,\n",
       " 'Brain_Substantia_nigra': 0.0004867380334260178}"
      ]
     },
     "execution_count": 115,
     "metadata": {},
     "output_type": "execute_result"
    }
   ],
   "source": [
    "# testing\n",
    "spredixcan_genes_tissues_variance.loc[\"ENSG00000000419\"]"
   ]
  },
  {
   "cell_type": "code",
   "execution_count": 116,
   "id": "62572b31-7e49-4ed0-ac1b-42552f3e264f",
   "metadata": {
    "execution": {
     "iopub.execute_input": "2022-08-02T10:11:08.407309Z",
     "iopub.status.busy": "2022-08-02T10:11:08.406729Z",
     "iopub.status.idle": "2022-08-02T10:11:08.422869Z",
     "shell.execute_reply": "2022-08-02T10:11:08.422415Z"
    },
    "papermill": {
     "duration": 0.045418,
     "end_time": "2022-08-02T10:11:08.428600",
     "exception": false,
     "start_time": "2022-08-02T10:11:08.383182",
     "status": "completed"
    },
    "tags": []
   },
   "outputs": [],
   "source": [
    "# FIXME: maybe add more tests, these differt from GTEX V8\n",
    "# # testing\n",
    "# # here values were obtained from S-PrediXcan results, where the reference panel is GTEX V8, not 1000G, so just approximations)\n",
    "# _gene_id = \"ENSG00000000419\"\n",
    "# assert spredixcan_genes_tissues_variance.loc[_gene_id][\"Brain_Substantia_nigra\"] == pytest.approx(0.0004266255268163448)\n",
    "# assert spredixcan_genes_tissues_variance.loc[_gene_id][\"Brain_Hypothalamus\"] == pytest.approx(0.011235877515236132)"
   ]
  },
  {
   "cell_type": "code",
   "execution_count": 117,
   "id": "88e42a97-801b-43a4-a829-4eaac03360b8",
   "metadata": {
    "execution": {
     "iopub.execute_input": "2022-08-02T10:11:08.505656Z",
     "iopub.status.busy": "2022-08-02T10:11:08.505357Z",
     "iopub.status.idle": "2022-08-02T10:11:08.529967Z",
     "shell.execute_reply": "2022-08-02T10:11:08.529514Z"
    },
    "papermill": {
     "duration": 0.076502,
     "end_time": "2022-08-02T10:11:08.531345",
     "exception": false,
     "start_time": "2022-08-02T10:11:08.454843",
     "status": "completed"
    },
    "tags": []
   },
   "outputs": [],
   "source": [
    "# add to spredixcan_genes_models\n",
    "spredixcan_genes_models = spredixcan_genes_models.join(\n",
    "    spredixcan_genes_tissues_variance.rename(\"tissues_variances\")\n",
    ")"
   ]
  },
  {
   "cell_type": "code",
   "execution_count": 118,
   "id": "cb177ca4-fdcb-432f-a102-9c6bd6bd7fa0",
   "metadata": {
    "execution": {
     "iopub.execute_input": "2022-08-02T10:11:08.587270Z",
     "iopub.status.busy": "2022-08-02T10:11:08.586983Z",
     "iopub.status.idle": "2022-08-02T10:11:08.609292Z",
     "shell.execute_reply": "2022-08-02T10:11:08.608802Z"
    },
    "papermill": {
     "duration": 0.048999,
     "end_time": "2022-08-02T10:11:08.610905",
     "exception": false,
     "start_time": "2022-08-02T10:11:08.561906",
     "status": "completed"
    },
    "tags": []
   },
   "outputs": [
    {
     "data": {
      "text/plain": [
       "(6444, 6)"
      ]
     },
     "execution_count": 118,
     "metadata": {},
     "output_type": "execute_result"
    }
   ],
   "source": [
    "spredixcan_genes_models.shape"
   ]
  },
  {
   "cell_type": "code",
   "execution_count": 119,
   "id": "ccabe1fa-20ae-4893-bf12-9a3359b213b8",
   "metadata": {
    "execution": {
     "iopub.execute_input": "2022-08-02T10:11:08.659096Z",
     "iopub.status.busy": "2022-08-02T10:11:08.658920Z",
     "iopub.status.idle": "2022-08-02T10:11:08.699629Z",
     "shell.execute_reply": "2022-08-02T10:11:08.699148Z"
    },
    "papermill": {
     "duration": 0.066567,
     "end_time": "2022-08-02T10:11:08.701124",
     "exception": false,
     "start_time": "2022-08-02T10:11:08.634557",
     "status": "completed"
    },
    "tags": []
   },
   "outputs": [
    {
     "data": {
      "text/html": [
       "<div>\n",
       "<style scoped>\n",
       "    .dataframe tbody tr th:only-of-type {\n",
       "        vertical-align: middle;\n",
       "    }\n",
       "\n",
       "    .dataframe tbody tr th {\n",
       "        vertical-align: top;\n",
       "    }\n",
       "\n",
       "    .dataframe thead th {\n",
       "        text-align: right;\n",
       "    }\n",
       "</style>\n",
       "<table border=\"1\" class=\"dataframe\">\n",
       "  <thead>\n",
       "    <tr style=\"text-align: right;\">\n",
       "      <th></th>\n",
       "      <th>gene_name</th>\n",
       "      <th>tissue</th>\n",
       "      <th>n_tissues</th>\n",
       "      <th>tissues_pc_variances</th>\n",
       "      <th>tissues_pc_variances_cov</th>\n",
       "      <th>tissues_variances</th>\n",
       "    </tr>\n",
       "    <tr>\n",
       "      <th>gene_id</th>\n",
       "      <th></th>\n",
       "      <th></th>\n",
       "      <th></th>\n",
       "      <th></th>\n",
       "      <th></th>\n",
       "      <th></th>\n",
       "    </tr>\n",
       "  </thead>\n",
       "  <tbody>\n",
       "    <tr>\n",
       "      <th>ENSG00000000419</th>\n",
       "      <td>DPM1</td>\n",
       "      <td>(Brain_Hypothalamus, Brain_Substantia_nigra)</td>\n",
       "      <td>2</td>\n",
       "      <td>[1.0442398458252409, 0.9557601541747592]</td>\n",
       "      <td>[0.013163142634155849, 0.00048574890347684763]</td>\n",
       "      <td>{'Brain_Hypothalamus': 0.013162153504206677, '...</td>\n",
       "    </tr>\n",
       "    <tr>\n",
       "      <th>ENSG00000000938</th>\n",
       "      <td>FGR</td>\n",
       "      <td>(Breast_Mammary_Tissue, Esophagus_Mucosa, Pros...</td>\n",
       "      <td>36</td>\n",
       "      <td>[31.63266933637128, 2.0783677518511436, 1.2716...</td>\n",
       "      <td>[0.17159486570780277]</td>\n",
       "      <td>{'Breast_Mammary_Tissue': 0.002243819216617953...</td>\n",
       "    </tr>\n",
       "    <tr>\n",
       "      <th>ENSG00000000971</th>\n",
       "      <td>CFH</td>\n",
       "      <td>(Breast_Mammary_Tissue, Stomach, Artery_Corona...</td>\n",
       "      <td>34</td>\n",
       "      <td>[21.560769925683296, 7.3101709870454625, 1.837...</td>\n",
       "      <td>[0.2093060319587451, 0.058234347656008094, 0.0...</td>\n",
       "      <td>{'Breast_Mammary_Tissue': 0.01068561006340443,...</td>\n",
       "    </tr>\n",
       "    <tr>\n",
       "      <th>ENSG00000001084</th>\n",
       "      <td>GCLC</td>\n",
       "      <td>(Pancreas, Artery_Coronary, Lung, Brain_Putame...</td>\n",
       "      <td>32</td>\n",
       "      <td>[21.291939080546523, 4.699418748743197, 2.2489...</td>\n",
       "      <td>[0.39430527375123775, 0.11627488888534823, 0.0...</td>\n",
       "      <td>{'Pancreas': 0.015199520517598328, 'Artery_Cor...</td>\n",
       "    </tr>\n",
       "    <tr>\n",
       "      <th>ENSG00000001167</th>\n",
       "      <td>NFYA</td>\n",
       "      <td>(Breast_Mammary_Tissue, Esophagus_Mucosa, Pros...</td>\n",
       "      <td>40</td>\n",
       "      <td>[37.33566029549769, 1.3914019604538364]</td>\n",
       "      <td>[1.1642639979821048, 0.05742881287671711]</td>\n",
       "      <td>{'Breast_Mammary_Tissue': 0.03313519857456931,...</td>\n",
       "    </tr>\n",
       "  </tbody>\n",
       "</table>\n",
       "</div>"
      ],
      "text/plain": [
       "                gene_name                                             tissue  \\\n",
       "gene_id                                                                        \n",
       "ENSG00000000419      DPM1       (Brain_Hypothalamus, Brain_Substantia_nigra)   \n",
       "ENSG00000000938       FGR  (Breast_Mammary_Tissue, Esophagus_Mucosa, Pros...   \n",
       "ENSG00000000971       CFH  (Breast_Mammary_Tissue, Stomach, Artery_Corona...   \n",
       "ENSG00000001084      GCLC  (Pancreas, Artery_Coronary, Lung, Brain_Putame...   \n",
       "ENSG00000001167      NFYA  (Breast_Mammary_Tissue, Esophagus_Mucosa, Pros...   \n",
       "\n",
       "                 n_tissues                               tissues_pc_variances  \\\n",
       "gene_id                                                                         \n",
       "ENSG00000000419          2           [1.0442398458252409, 0.9557601541747592]   \n",
       "ENSG00000000938         36  [31.63266933637128, 2.0783677518511436, 1.2716...   \n",
       "ENSG00000000971         34  [21.560769925683296, 7.3101709870454625, 1.837...   \n",
       "ENSG00000001084         32  [21.291939080546523, 4.699418748743197, 2.2489...   \n",
       "ENSG00000001167         40            [37.33566029549769, 1.3914019604538364]   \n",
       "\n",
       "                                          tissues_pc_variances_cov  \\\n",
       "gene_id                                                              \n",
       "ENSG00000000419     [0.013163142634155849, 0.00048574890347684763]   \n",
       "ENSG00000000938                              [0.17159486570780277]   \n",
       "ENSG00000000971  [0.2093060319587451, 0.058234347656008094, 0.0...   \n",
       "ENSG00000001084  [0.39430527375123775, 0.11627488888534823, 0.0...   \n",
       "ENSG00000001167          [1.1642639979821048, 0.05742881287671711]   \n",
       "\n",
       "                                                 tissues_variances  \n",
       "gene_id                                                             \n",
       "ENSG00000000419  {'Brain_Hypothalamus': 0.013162153504206677, '...  \n",
       "ENSG00000000938  {'Breast_Mammary_Tissue': 0.002243819216617953...  \n",
       "ENSG00000000971  {'Breast_Mammary_Tissue': 0.01068561006340443,...  \n",
       "ENSG00000001084  {'Pancreas': 0.015199520517598328, 'Artery_Cor...  \n",
       "ENSG00000001167  {'Breast_Mammary_Tissue': 0.03313519857456931,...  "
      ]
     },
     "execution_count": 119,
     "metadata": {},
     "output_type": "execute_result"
    }
   ],
   "source": [
    "spredixcan_genes_models.head()"
   ]
  },
  {
   "cell_type": "markdown",
   "id": "ab6ff41a-0949-4eea-abef-7dc4f0b373fc",
   "metadata": {
    "papermill": {
     "duration": 0.026656,
     "end_time": "2022-08-02T10:11:08.763091",
     "exception": false,
     "start_time": "2022-08-02T10:11:08.736435",
     "status": "completed"
    },
    "tags": []
   },
   "source": [
    "### Count number of SNPs predictors used across tissue models"
   ]
  },
  {
   "cell_type": "code",
   "execution_count": 120,
   "id": "c8f6cc6f-5812-45c9-b775-6f2193f8a360",
   "metadata": {
    "execution": {
     "iopub.execute_input": "2022-08-02T10:11:08.813545Z",
     "iopub.status.busy": "2022-08-02T10:11:08.812376Z",
     "iopub.status.idle": "2022-08-02T10:11:08.886103Z",
     "shell.execute_reply": "2022-08-02T10:11:08.880806Z"
    },
    "papermill": {
     "duration": 0.10101,
     "end_time": "2022-08-02T10:11:08.888467",
     "exception": false,
     "start_time": "2022-08-02T10:11:08.787457",
     "status": "completed"
    },
    "tags": []
   },
   "outputs": [],
   "source": [
    "spredixcan_genes_sum_of_n_snps_used = (\n",
    "    spredixcan_dfs.groupby(\"gene_id\")[\"n_snps_used\"].sum().rename(\"n_snps_used_sum\")\n",
    ")"
   ]
  },
  {
   "cell_type": "code",
   "execution_count": 121,
   "id": "7255df64-7b9f-4504-a4fa-1f2a9aa56ec0",
   "metadata": {
    "execution": {
     "iopub.execute_input": "2022-08-02T10:11:08.936562Z",
     "iopub.status.busy": "2022-08-02T10:11:08.936374Z",
     "iopub.status.idle": "2022-08-02T10:11:08.964050Z",
     "shell.execute_reply": "2022-08-02T10:11:08.963608Z"
    },
    "papermill": {
     "duration": 0.053285,
     "end_time": "2022-08-02T10:11:08.965403",
     "exception": false,
     "start_time": "2022-08-02T10:11:08.912118",
     "status": "completed"
    },
    "tags": []
   },
   "outputs": [
    {
     "data": {
      "text/plain": [
       "gene_id\n",
       "ENSG00000000419     2\n",
       "ENSG00000000938    40\n",
       "ENSG00000000971    44\n",
       "ENSG00000001084    46\n",
       "ENSG00000001167    47\n",
       "                   ..\n",
       "ENSG00000278540    44\n",
       "ENSG00000278828     5\n",
       "ENSG00000278845    89\n",
       "ENSG00000281005    81\n",
       "ENSG00000282608    40\n",
       "Name: n_snps_used_sum, Length: 6444, dtype: int64"
      ]
     },
     "execution_count": 121,
     "metadata": {},
     "output_type": "execute_result"
    }
   ],
   "source": [
    "spredixcan_genes_sum_of_n_snps_used"
   ]
  },
  {
   "cell_type": "code",
   "execution_count": 122,
   "id": "44bc1222-b334-4ce2-8997-494d0e584cf9",
   "metadata": {
    "execution": {
     "iopub.execute_input": "2022-08-02T10:11:09.017518Z",
     "iopub.status.busy": "2022-08-02T10:11:09.016491Z",
     "iopub.status.idle": "2022-08-02T10:11:09.035373Z",
     "shell.execute_reply": "2022-08-02T10:11:09.034897Z"
    },
    "papermill": {
     "duration": 0.047052,
     "end_time": "2022-08-02T10:11:09.037437",
     "exception": false,
     "start_time": "2022-08-02T10:11:08.990385",
     "status": "completed"
    },
    "tags": []
   },
   "outputs": [],
   "source": [
    "# add sum of snps used to spredixcan_genes_models\n",
    "spredixcan_genes_models = spredixcan_genes_models.join(\n",
    "    spredixcan_genes_sum_of_n_snps_used\n",
    ")"
   ]
  },
  {
   "cell_type": "code",
   "execution_count": 123,
   "id": "5e5e6d7f-b970-4f21-9322-b76bc22afd71",
   "metadata": {
    "execution": {
     "iopub.execute_input": "2022-08-02T10:11:09.088189Z",
     "iopub.status.busy": "2022-08-02T10:11:09.088010Z",
     "iopub.status.idle": "2022-08-02T10:11:09.104990Z",
     "shell.execute_reply": "2022-08-02T10:11:09.104546Z"
    },
    "papermill": {
     "duration": 0.044165,
     "end_time": "2022-08-02T10:11:09.107083",
     "exception": false,
     "start_time": "2022-08-02T10:11:09.062918",
     "status": "completed"
    },
    "tags": []
   },
   "outputs": [
    {
     "data": {
      "text/plain": [
       "(6444, 7)"
      ]
     },
     "execution_count": 123,
     "metadata": {},
     "output_type": "execute_result"
    }
   ],
   "source": [
    "spredixcan_genes_models.shape"
   ]
  },
  {
   "cell_type": "code",
   "execution_count": 124,
   "id": "22c096c2-213a-4001-8454-1633997d404f",
   "metadata": {
    "execution": {
     "iopub.execute_input": "2022-08-02T10:11:09.156664Z",
     "iopub.status.busy": "2022-08-02T10:11:09.156469Z",
     "iopub.status.idle": "2022-08-02T10:11:09.199376Z",
     "shell.execute_reply": "2022-08-02T10:11:09.198945Z"
    },
    "papermill": {
     "duration": 0.071059,
     "end_time": "2022-08-02T10:11:09.202463",
     "exception": false,
     "start_time": "2022-08-02T10:11:09.131404",
     "status": "completed"
    },
    "tags": []
   },
   "outputs": [
    {
     "data": {
      "text/html": [
       "<div>\n",
       "<style scoped>\n",
       "    .dataframe tbody tr th:only-of-type {\n",
       "        vertical-align: middle;\n",
       "    }\n",
       "\n",
       "    .dataframe tbody tr th {\n",
       "        vertical-align: top;\n",
       "    }\n",
       "\n",
       "    .dataframe thead th {\n",
       "        text-align: right;\n",
       "    }\n",
       "</style>\n",
       "<table border=\"1\" class=\"dataframe\">\n",
       "  <thead>\n",
       "    <tr style=\"text-align: right;\">\n",
       "      <th></th>\n",
       "      <th>gene_name</th>\n",
       "      <th>tissue</th>\n",
       "      <th>n_tissues</th>\n",
       "      <th>tissues_pc_variances</th>\n",
       "      <th>tissues_pc_variances_cov</th>\n",
       "      <th>tissues_variances</th>\n",
       "      <th>n_snps_used_sum</th>\n",
       "    </tr>\n",
       "    <tr>\n",
       "      <th>gene_id</th>\n",
       "      <th></th>\n",
       "      <th></th>\n",
       "      <th></th>\n",
       "      <th></th>\n",
       "      <th></th>\n",
       "      <th></th>\n",
       "      <th></th>\n",
       "    </tr>\n",
       "  </thead>\n",
       "  <tbody>\n",
       "    <tr>\n",
       "      <th>ENSG00000000419</th>\n",
       "      <td>DPM1</td>\n",
       "      <td>(Brain_Hypothalamus, Brain_Substantia_nigra)</td>\n",
       "      <td>2</td>\n",
       "      <td>[1.0442398458252409, 0.9557601541747592]</td>\n",
       "      <td>[0.013163142634155849, 0.00048574890347684763]</td>\n",
       "      <td>{'Brain_Hypothalamus': 0.013162153504206677, '...</td>\n",
       "      <td>2</td>\n",
       "    </tr>\n",
       "    <tr>\n",
       "      <th>ENSG00000000938</th>\n",
       "      <td>FGR</td>\n",
       "      <td>(Breast_Mammary_Tissue, Esophagus_Mucosa, Pros...</td>\n",
       "      <td>36</td>\n",
       "      <td>[31.63266933637128, 2.0783677518511436, 1.2716...</td>\n",
       "      <td>[0.17159486570780277]</td>\n",
       "      <td>{'Breast_Mammary_Tissue': 0.002243819216617953...</td>\n",
       "      <td>40</td>\n",
       "    </tr>\n",
       "    <tr>\n",
       "      <th>ENSG00000000971</th>\n",
       "      <td>CFH</td>\n",
       "      <td>(Breast_Mammary_Tissue, Stomach, Artery_Corona...</td>\n",
       "      <td>34</td>\n",
       "      <td>[21.560769925683296, 7.3101709870454625, 1.837...</td>\n",
       "      <td>[0.2093060319587451, 0.058234347656008094, 0.0...</td>\n",
       "      <td>{'Breast_Mammary_Tissue': 0.01068561006340443,...</td>\n",
       "      <td>44</td>\n",
       "    </tr>\n",
       "    <tr>\n",
       "      <th>ENSG00000001084</th>\n",
       "      <td>GCLC</td>\n",
       "      <td>(Pancreas, Artery_Coronary, Lung, Brain_Putame...</td>\n",
       "      <td>32</td>\n",
       "      <td>[21.291939080546523, 4.699418748743197, 2.2489...</td>\n",
       "      <td>[0.39430527375123775, 0.11627488888534823, 0.0...</td>\n",
       "      <td>{'Pancreas': 0.015199520517598328, 'Artery_Cor...</td>\n",
       "      <td>46</td>\n",
       "    </tr>\n",
       "    <tr>\n",
       "      <th>ENSG00000001167</th>\n",
       "      <td>NFYA</td>\n",
       "      <td>(Breast_Mammary_Tissue, Esophagus_Mucosa, Pros...</td>\n",
       "      <td>40</td>\n",
       "      <td>[37.33566029549769, 1.3914019604538364]</td>\n",
       "      <td>[1.1642639979821048, 0.05742881287671711]</td>\n",
       "      <td>{'Breast_Mammary_Tissue': 0.03313519857456931,...</td>\n",
       "      <td>47</td>\n",
       "    </tr>\n",
       "  </tbody>\n",
       "</table>\n",
       "</div>"
      ],
      "text/plain": [
       "                gene_name                                             tissue  \\\n",
       "gene_id                                                                        \n",
       "ENSG00000000419      DPM1       (Brain_Hypothalamus, Brain_Substantia_nigra)   \n",
       "ENSG00000000938       FGR  (Breast_Mammary_Tissue, Esophagus_Mucosa, Pros...   \n",
       "ENSG00000000971       CFH  (Breast_Mammary_Tissue, Stomach, Artery_Corona...   \n",
       "ENSG00000001084      GCLC  (Pancreas, Artery_Coronary, Lung, Brain_Putame...   \n",
       "ENSG00000001167      NFYA  (Breast_Mammary_Tissue, Esophagus_Mucosa, Pros...   \n",
       "\n",
       "                 n_tissues                               tissues_pc_variances  \\\n",
       "gene_id                                                                         \n",
       "ENSG00000000419          2           [1.0442398458252409, 0.9557601541747592]   \n",
       "ENSG00000000938         36  [31.63266933637128, 2.0783677518511436, 1.2716...   \n",
       "ENSG00000000971         34  [21.560769925683296, 7.3101709870454625, 1.837...   \n",
       "ENSG00000001084         32  [21.291939080546523, 4.699418748743197, 2.2489...   \n",
       "ENSG00000001167         40            [37.33566029549769, 1.3914019604538364]   \n",
       "\n",
       "                                          tissues_pc_variances_cov  \\\n",
       "gene_id                                                              \n",
       "ENSG00000000419     [0.013163142634155849, 0.00048574890347684763]   \n",
       "ENSG00000000938                              [0.17159486570780277]   \n",
       "ENSG00000000971  [0.2093060319587451, 0.058234347656008094, 0.0...   \n",
       "ENSG00000001084  [0.39430527375123775, 0.11627488888534823, 0.0...   \n",
       "ENSG00000001167          [1.1642639979821048, 0.05742881287671711]   \n",
       "\n",
       "                                                 tissues_variances  \\\n",
       "gene_id                                                              \n",
       "ENSG00000000419  {'Brain_Hypothalamus': 0.013162153504206677, '...   \n",
       "ENSG00000000938  {'Breast_Mammary_Tissue': 0.002243819216617953...   \n",
       "ENSG00000000971  {'Breast_Mammary_Tissue': 0.01068561006340443,...   \n",
       "ENSG00000001084  {'Pancreas': 0.015199520517598328, 'Artery_Cor...   \n",
       "ENSG00000001167  {'Breast_Mammary_Tissue': 0.03313519857456931,...   \n",
       "\n",
       "                 n_snps_used_sum  \n",
       "gene_id                           \n",
       "ENSG00000000419                2  \n",
       "ENSG00000000938               40  \n",
       "ENSG00000000971               44  \n",
       "ENSG00000001084               46  \n",
       "ENSG00000001167               47  "
      ]
     },
     "execution_count": 124,
     "metadata": {},
     "output_type": "execute_result"
    }
   ],
   "source": [
    "spredixcan_genes_models.head()"
   ]
  },
  {
   "cell_type": "markdown",
   "id": "f4692315-d7be-465e-b756-f6d76fec949e",
   "metadata": {
    "papermill": {
     "duration": 0.046026,
     "end_time": "2022-08-02T10:11:09.281769",
     "exception": false,
     "start_time": "2022-08-02T10:11:09.235743",
     "status": "completed"
    },
    "tags": []
   },
   "source": [
    "### Count number of SNPs predictors in models across tissue models"
   ]
  },
  {
   "cell_type": "code",
   "execution_count": 125,
   "id": "08eed385-36eb-4e42-b28e-51333f9cfcd3",
   "metadata": {
    "execution": {
     "iopub.execute_input": "2022-08-02T10:11:09.366565Z",
     "iopub.status.busy": "2022-08-02T10:11:09.366080Z",
     "iopub.status.idle": "2022-08-02T10:11:09.436884Z",
     "shell.execute_reply": "2022-08-02T10:11:09.436393Z"
    },
    "papermill": {
     "duration": 0.114147,
     "end_time": "2022-08-02T10:11:09.438954",
     "exception": false,
     "start_time": "2022-08-02T10:11:09.324807",
     "status": "completed"
    },
    "tags": []
   },
   "outputs": [],
   "source": [
    "spredixcan_genes_sum_of_n_snps_in_model = (\n",
    "    spredixcan_dfs.groupby(\"gene_id\")[\"n_snps_in_model\"]\n",
    "    .sum()\n",
    "    .rename(\"n_snps_in_model_sum\")\n",
    ")"
   ]
  },
  {
   "cell_type": "code",
   "execution_count": 126,
   "id": "10431f5c-1f56-4664-a09f-53c608bec631",
   "metadata": {
    "execution": {
     "iopub.execute_input": "2022-08-02T10:11:09.522453Z",
     "iopub.status.busy": "2022-08-02T10:11:09.522156Z",
     "iopub.status.idle": "2022-08-02T10:11:09.542389Z",
     "shell.execute_reply": "2022-08-02T10:11:09.541999Z"
    },
    "papermill": {
     "duration": 0.065517,
     "end_time": "2022-08-02T10:11:09.543780",
     "exception": false,
     "start_time": "2022-08-02T10:11:09.478263",
     "status": "completed"
    },
    "tags": []
   },
   "outputs": [
    {
     "data": {
      "text/plain": [
       "gene_id\n",
       "ENSG00000000419     2\n",
       "ENSG00000000938    40\n",
       "ENSG00000000971    44\n",
       "ENSG00000001084    46\n",
       "ENSG00000001167    48\n",
       "                   ..\n",
       "ENSG00000278540    44\n",
       "ENSG00000278828     5\n",
       "ENSG00000278845    91\n",
       "ENSG00000281005    81\n",
       "ENSG00000282608    40\n",
       "Name: n_snps_in_model_sum, Length: 6444, dtype: int64"
      ]
     },
     "execution_count": 126,
     "metadata": {},
     "output_type": "execute_result"
    }
   ],
   "source": [
    "spredixcan_genes_sum_of_n_snps_in_model"
   ]
  },
  {
   "cell_type": "code",
   "execution_count": 127,
   "id": "d13e1d65-0dcb-4a94-aba8-bcdcd09d17c3",
   "metadata": {
    "execution": {
     "iopub.execute_input": "2022-08-02T10:11:09.624260Z",
     "iopub.status.busy": "2022-08-02T10:11:09.623972Z",
     "iopub.status.idle": "2022-08-02T10:11:09.646657Z",
     "shell.execute_reply": "2022-08-02T10:11:09.646244Z"
    },
    "papermill": {
     "duration": 0.057301,
     "end_time": "2022-08-02T10:11:09.647922",
     "exception": false,
     "start_time": "2022-08-02T10:11:09.590621",
     "status": "completed"
    },
    "tags": []
   },
   "outputs": [],
   "source": [
    "# add sum of snps in model to spredixcan_genes_models\n",
    "spredixcan_genes_models = spredixcan_genes_models.join(\n",
    "    spredixcan_genes_sum_of_n_snps_in_model\n",
    ")"
   ]
  },
  {
   "cell_type": "code",
   "execution_count": 128,
   "id": "0d3973d8-5da2-4c9d-b406-2525f615035c",
   "metadata": {
    "execution": {
     "iopub.execute_input": "2022-08-02T10:11:09.717420Z",
     "iopub.status.busy": "2022-08-02T10:11:09.717117Z",
     "iopub.status.idle": "2022-08-02T10:11:09.744246Z",
     "shell.execute_reply": "2022-08-02T10:11:09.743722Z"
    },
    "papermill": {
     "duration": 0.074111,
     "end_time": "2022-08-02T10:11:09.745706",
     "exception": false,
     "start_time": "2022-08-02T10:11:09.671595",
     "status": "completed"
    },
    "tags": []
   },
   "outputs": [
    {
     "data": {
      "text/plain": [
       "(6444, 8)"
      ]
     },
     "execution_count": 128,
     "metadata": {},
     "output_type": "execute_result"
    }
   ],
   "source": [
    "spredixcan_genes_models.shape"
   ]
  },
  {
   "cell_type": "code",
   "execution_count": 129,
   "id": "76c27f05-c5c6-4ed9-9363-fcba871a3572",
   "metadata": {
    "execution": {
     "iopub.execute_input": "2022-08-02T10:11:09.854958Z",
     "iopub.status.busy": "2022-08-02T10:11:09.854671Z",
     "iopub.status.idle": "2022-08-02T10:11:09.881824Z",
     "shell.execute_reply": "2022-08-02T10:11:09.881333Z"
    },
    "papermill": {
     "duration": 0.059211,
     "end_time": "2022-08-02T10:11:09.883037",
     "exception": false,
     "start_time": "2022-08-02T10:11:09.823826",
     "status": "completed"
    },
    "tags": []
   },
   "outputs": [
    {
     "data": {
      "text/html": [
       "<div>\n",
       "<style scoped>\n",
       "    .dataframe tbody tr th:only-of-type {\n",
       "        vertical-align: middle;\n",
       "    }\n",
       "\n",
       "    .dataframe tbody tr th {\n",
       "        vertical-align: top;\n",
       "    }\n",
       "\n",
       "    .dataframe thead th {\n",
       "        text-align: right;\n",
       "    }\n",
       "</style>\n",
       "<table border=\"1\" class=\"dataframe\">\n",
       "  <thead>\n",
       "    <tr style=\"text-align: right;\">\n",
       "      <th></th>\n",
       "      <th>gene_name</th>\n",
       "      <th>tissue</th>\n",
       "      <th>n_tissues</th>\n",
       "      <th>tissues_pc_variances</th>\n",
       "      <th>tissues_pc_variances_cov</th>\n",
       "      <th>tissues_variances</th>\n",
       "      <th>n_snps_used_sum</th>\n",
       "      <th>n_snps_in_model_sum</th>\n",
       "    </tr>\n",
       "    <tr>\n",
       "      <th>gene_id</th>\n",
       "      <th></th>\n",
       "      <th></th>\n",
       "      <th></th>\n",
       "      <th></th>\n",
       "      <th></th>\n",
       "      <th></th>\n",
       "      <th></th>\n",
       "      <th></th>\n",
       "    </tr>\n",
       "  </thead>\n",
       "  <tbody>\n",
       "    <tr>\n",
       "      <th>ENSG00000000419</th>\n",
       "      <td>DPM1</td>\n",
       "      <td>(Brain_Hypothalamus, Brain_Substantia_nigra)</td>\n",
       "      <td>2</td>\n",
       "      <td>[1.0442398458252409, 0.9557601541747592]</td>\n",
       "      <td>[0.013163142634155849, 0.00048574890347684763]</td>\n",
       "      <td>{'Brain_Hypothalamus': 0.013162153504206677, '...</td>\n",
       "      <td>2</td>\n",
       "      <td>2</td>\n",
       "    </tr>\n",
       "    <tr>\n",
       "      <th>ENSG00000000938</th>\n",
       "      <td>FGR</td>\n",
       "      <td>(Breast_Mammary_Tissue, Esophagus_Mucosa, Pros...</td>\n",
       "      <td>36</td>\n",
       "      <td>[31.63266933637128, 2.0783677518511436, 1.2716...</td>\n",
       "      <td>[0.17159486570780277]</td>\n",
       "      <td>{'Breast_Mammary_Tissue': 0.002243819216617953...</td>\n",
       "      <td>40</td>\n",
       "      <td>40</td>\n",
       "    </tr>\n",
       "    <tr>\n",
       "      <th>ENSG00000000971</th>\n",
       "      <td>CFH</td>\n",
       "      <td>(Breast_Mammary_Tissue, Stomach, Artery_Corona...</td>\n",
       "      <td>34</td>\n",
       "      <td>[21.560769925683296, 7.3101709870454625, 1.837...</td>\n",
       "      <td>[0.2093060319587451, 0.058234347656008094, 0.0...</td>\n",
       "      <td>{'Breast_Mammary_Tissue': 0.01068561006340443,...</td>\n",
       "      <td>44</td>\n",
       "      <td>44</td>\n",
       "    </tr>\n",
       "    <tr>\n",
       "      <th>ENSG00000001084</th>\n",
       "      <td>GCLC</td>\n",
       "      <td>(Pancreas, Artery_Coronary, Lung, Brain_Putame...</td>\n",
       "      <td>32</td>\n",
       "      <td>[21.291939080546523, 4.699418748743197, 2.2489...</td>\n",
       "      <td>[0.39430527375123775, 0.11627488888534823, 0.0...</td>\n",
       "      <td>{'Pancreas': 0.015199520517598328, 'Artery_Cor...</td>\n",
       "      <td>46</td>\n",
       "      <td>46</td>\n",
       "    </tr>\n",
       "    <tr>\n",
       "      <th>ENSG00000001167</th>\n",
       "      <td>NFYA</td>\n",
       "      <td>(Breast_Mammary_Tissue, Esophagus_Mucosa, Pros...</td>\n",
       "      <td>40</td>\n",
       "      <td>[37.33566029549769, 1.3914019604538364]</td>\n",
       "      <td>[1.1642639979821048, 0.05742881287671711]</td>\n",
       "      <td>{'Breast_Mammary_Tissue': 0.03313519857456931,...</td>\n",
       "      <td>47</td>\n",
       "      <td>48</td>\n",
       "    </tr>\n",
       "  </tbody>\n",
       "</table>\n",
       "</div>"
      ],
      "text/plain": [
       "                gene_name                                             tissue  \\\n",
       "gene_id                                                                        \n",
       "ENSG00000000419      DPM1       (Brain_Hypothalamus, Brain_Substantia_nigra)   \n",
       "ENSG00000000938       FGR  (Breast_Mammary_Tissue, Esophagus_Mucosa, Pros...   \n",
       "ENSG00000000971       CFH  (Breast_Mammary_Tissue, Stomach, Artery_Corona...   \n",
       "ENSG00000001084      GCLC  (Pancreas, Artery_Coronary, Lung, Brain_Putame...   \n",
       "ENSG00000001167      NFYA  (Breast_Mammary_Tissue, Esophagus_Mucosa, Pros...   \n",
       "\n",
       "                 n_tissues                               tissues_pc_variances  \\\n",
       "gene_id                                                                         \n",
       "ENSG00000000419          2           [1.0442398458252409, 0.9557601541747592]   \n",
       "ENSG00000000938         36  [31.63266933637128, 2.0783677518511436, 1.2716...   \n",
       "ENSG00000000971         34  [21.560769925683296, 7.3101709870454625, 1.837...   \n",
       "ENSG00000001084         32  [21.291939080546523, 4.699418748743197, 2.2489...   \n",
       "ENSG00000001167         40            [37.33566029549769, 1.3914019604538364]   \n",
       "\n",
       "                                          tissues_pc_variances_cov  \\\n",
       "gene_id                                                              \n",
       "ENSG00000000419     [0.013163142634155849, 0.00048574890347684763]   \n",
       "ENSG00000000938                              [0.17159486570780277]   \n",
       "ENSG00000000971  [0.2093060319587451, 0.058234347656008094, 0.0...   \n",
       "ENSG00000001084  [0.39430527375123775, 0.11627488888534823, 0.0...   \n",
       "ENSG00000001167          [1.1642639979821048, 0.05742881287671711]   \n",
       "\n",
       "                                                 tissues_variances  \\\n",
       "gene_id                                                              \n",
       "ENSG00000000419  {'Brain_Hypothalamus': 0.013162153504206677, '...   \n",
       "ENSG00000000938  {'Breast_Mammary_Tissue': 0.002243819216617953...   \n",
       "ENSG00000000971  {'Breast_Mammary_Tissue': 0.01068561006340443,...   \n",
       "ENSG00000001084  {'Pancreas': 0.015199520517598328, 'Artery_Cor...   \n",
       "ENSG00000001167  {'Breast_Mammary_Tissue': 0.03313519857456931,...   \n",
       "\n",
       "                 n_snps_used_sum  n_snps_in_model_sum  \n",
       "gene_id                                                \n",
       "ENSG00000000419                2                    2  \n",
       "ENSG00000000938               40                   40  \n",
       "ENSG00000000971               44                   44  \n",
       "ENSG00000001084               46                   46  \n",
       "ENSG00000001167               47                   48  "
      ]
     },
     "execution_count": 129,
     "metadata": {},
     "output_type": "execute_result"
    }
   ],
   "source": [
    "spredixcan_genes_models.head()"
   ]
  },
  {
   "cell_type": "markdown",
   "id": "e9f61a50-a5b5-4c85-9dec-3ceaaf65c61d",
   "metadata": {
    "papermill": {
     "duration": 0.02801,
     "end_time": "2022-08-02T10:11:09.954487",
     "exception": false,
     "start_time": "2022-08-02T10:11:09.926477",
     "status": "completed"
    },
    "tags": []
   },
   "source": [
    "### Summarize prediction models for each gene"
   ]
  },
  {
   "cell_type": "code",
   "execution_count": 130,
   "id": "4f44928f-b401-4abb-ac00-3b15b2746504",
   "metadata": {
    "execution": {
     "iopub.execute_input": "2022-08-02T10:11:10.003087Z",
     "iopub.status.busy": "2022-08-02T10:11:10.002921Z",
     "iopub.status.idle": "2022-08-02T10:11:10.019786Z",
     "shell.execute_reply": "2022-08-02T10:11:10.019285Z"
    },
    "papermill": {
     "duration": 0.043086,
     "end_time": "2022-08-02T10:11:10.021207",
     "exception": false,
     "start_time": "2022-08-02T10:11:09.978121",
     "status": "completed"
    },
    "tags": []
   },
   "outputs": [],
   "source": [
    "def _summarize_gene_models(gene_id):\n",
    "    \"\"\"\n",
    "    For a given gene ID, it returns a dataframe with predictor SNPs in rows and tissues in columns, where\n",
    "    values are the weights of SNPs in those tissues.\n",
    "    It can contain NaNs.\n",
    "    \"\"\"\n",
    "    gene_obj = spredixcan_gene_obj[gene_id]\n",
    "    gene_tissues = spredixcan_genes_models.loc[gene_id, \"tissue\"]\n",
    "\n",
    "    gene_models = {}\n",
    "    gene_unique_snps = set()\n",
    "    for t in gene_tissues:\n",
    "        gene_model = gene_obj.get_prediction_weights(tissue=t, model_type=EQTL_MODEL)\n",
    "        gene_models[t] = gene_model\n",
    "\n",
    "        gene_unique_snps.update(set(gene_model.index))\n",
    "\n",
    "    df = pd.DataFrame(\n",
    "        data=np.nan, index=list(gene_unique_snps), columns=list(gene_tissues)\n",
    "    )\n",
    "\n",
    "    for t in df.columns:\n",
    "        for snp in df.index:\n",
    "            gene_model = gene_models[t]\n",
    "\n",
    "            if snp in gene_model.index:\n",
    "                df.loc[snp, t] = gene_model.loc[snp]\n",
    "\n",
    "    return df"
   ]
  },
  {
   "cell_type": "code",
   "execution_count": 131,
   "id": "71bb0b5a-fe44-4076-91df-d8077ff85c71",
   "metadata": {
    "execution": {
     "iopub.execute_input": "2022-08-02T10:11:10.087213Z",
     "iopub.status.busy": "2022-08-02T10:11:10.087043Z",
     "iopub.status.idle": "2022-08-02T10:11:10.106440Z",
     "shell.execute_reply": "2022-08-02T10:11:10.105983Z"
    },
    "papermill": {
     "duration": 0.04577,
     "end_time": "2022-08-02T10:11:10.107739",
     "exception": false,
     "start_time": "2022-08-02T10:11:10.061969",
     "status": "completed"
    },
    "tags": []
   },
   "outputs": [
    {
     "data": {
      "text/plain": [
       "varID\n",
       "chr20_50862947_C_T_b38    0.431375\n",
       "Name: weight, dtype: float64"
      ]
     },
     "execution_count": 131,
     "metadata": {},
     "output_type": "execute_result"
    }
   ],
   "source": [
    "# testing\n",
    "spredixcan_gene_obj[\"ENSG00000000419\"].get_prediction_weights(\n",
    "    tissue=\"Brain_Hypothalamus\", model_type=EQTL_MODEL\n",
    ")"
   ]
  },
  {
   "cell_type": "code",
   "execution_count": 132,
   "id": "ad18b2d9-f585-445b-a809-bd694d417a8a",
   "metadata": {
    "execution": {
     "iopub.execute_input": "2022-08-02T10:11:10.158483Z",
     "iopub.status.busy": "2022-08-02T10:11:10.158195Z",
     "iopub.status.idle": "2022-08-02T10:11:10.189418Z",
     "shell.execute_reply": "2022-08-02T10:11:10.188977Z"
    },
    "papermill": {
     "duration": 0.058872,
     "end_time": "2022-08-02T10:11:10.190634",
     "exception": false,
     "start_time": "2022-08-02T10:11:10.131762",
     "status": "completed"
    },
    "tags": []
   },
   "outputs": [
    {
     "data": {
      "text/plain": [
       "varID\n",
       "chr20_50957480_C_T_b38   -0.146796\n",
       "Name: weight, dtype: float64"
      ]
     },
     "execution_count": 132,
     "metadata": {},
     "output_type": "execute_result"
    }
   ],
   "source": [
    "spredixcan_gene_obj[\"ENSG00000000419\"].get_prediction_weights(\n",
    "    tissue=\"Brain_Substantia_nigra\", model_type=EQTL_MODEL\n",
    ")"
   ]
  },
  {
   "cell_type": "code",
   "execution_count": 133,
   "id": "82ef5dec-283c-44ee-a118-b28d87a5b298",
   "metadata": {
    "execution": {
     "iopub.execute_input": "2022-08-02T10:11:10.240555Z",
     "iopub.status.busy": "2022-08-02T10:11:10.240260Z",
     "iopub.status.idle": "2022-08-02T10:11:10.258186Z",
     "shell.execute_reply": "2022-08-02T10:11:10.257332Z"
    },
    "papermill": {
     "duration": 0.044632,
     "end_time": "2022-08-02T10:11:10.260146",
     "exception": false,
     "start_time": "2022-08-02T10:11:10.215514",
     "status": "completed"
    },
    "tags": []
   },
   "outputs": [],
   "source": [
    "# # testing\n",
    "# _gene_id = \"ENSG00000000419\"\n",
    "\n",
    "# _gene_model = _summarize_gene_models(_gene_id)\n",
    "# assert (\n",
    "#     _gene_model.loc[\"chr20_50862947_C_T_b38\", \"Brain_Hypothalamus\"].round(5) == 0.43138\n",
    "# )\n",
    "# assert pd.isnull(_gene_model.loc[\"chr20_50957480_C_T_b38\", \"Brain_Hypothalamus\"])\n",
    "\n",
    "# assert pd.isnull(_gene_model.loc[\"chr20_50862947_C_T_b38\", \"Brain_Substantia_nigra\"])\n",
    "# assert (\n",
    "#     _gene_model.loc[\"chr20_50957480_C_T_b38\", \"Brain_Substantia_nigra\"].round(5)\n",
    "#     == -0.1468\n",
    "# )"
   ]
  },
  {
   "cell_type": "code",
   "execution_count": 134,
   "id": "134a7533-69e8-4858-8763-1fd45cbdec77",
   "metadata": {
    "execution": {
     "iopub.execute_input": "2022-08-02T10:11:10.313796Z",
     "iopub.status.busy": "2022-08-02T10:11:10.313503Z",
     "iopub.status.idle": "2022-08-02T10:28:15.908109Z",
     "shell.execute_reply": "2022-08-02T10:28:15.907679Z"
    },
    "papermill": {
     "duration": 1025.624143,
     "end_time": "2022-08-02T10:28:15.909373",
     "exception": false,
     "start_time": "2022-08-02T10:11:10.285230",
     "status": "completed"
    },
    "tags": []
   },
   "outputs": [],
   "source": [
    "gene_models = {}\n",
    "\n",
    "for gene_id in spredixcan_genes_models.index:\n",
    "    gene_models[gene_id] = _summarize_gene_models(gene_id)"
   ]
  },
  {
   "cell_type": "code",
   "execution_count": 135,
   "id": "97117dc0-0476-4e7b-98cb-6738dbb28c8a",
   "metadata": {
    "execution": {
     "iopub.execute_input": "2022-08-02T10:28:15.989328Z",
     "iopub.status.busy": "2022-08-02T10:28:15.988877Z",
     "iopub.status.idle": "2022-08-02T10:28:16.009199Z",
     "shell.execute_reply": "2022-08-02T10:28:16.008773Z"
    },
    "papermill": {
     "duration": 0.058846,
     "end_time": "2022-08-02T10:28:16.010446",
     "exception": false,
     "start_time": "2022-08-02T10:28:15.951600",
     "status": "completed"
    },
    "tags": []
   },
   "outputs": [],
   "source": [
    "# # testing\n",
    "# _gene_id = \"ENSG00000000419\"\n",
    "\n",
    "# _gene_model = gene_models[_gene_id]\n",
    "# assert (\n",
    "#     _gene_model.loc[\"chr20_50862947_C_T_b38\", \"Brain_Hypothalamus\"].round(5) == 0.43138\n",
    "# )\n",
    "# assert pd.isnull(_gene_model.loc[\"chr20_50957480_C_T_b38\", \"Brain_Hypothalamus\"])\n",
    "\n",
    "# assert pd.isnull(_gene_model.loc[\"chr20_50862947_C_T_b38\", \"Brain_Substantia_nigra\"])\n",
    "# assert (\n",
    "#     _gene_model.loc[\"chr20_50957480_C_T_b38\", \"Brain_Substantia_nigra\"].round(5)\n",
    "#     == -0.1468\n",
    "# )"
   ]
  },
  {
   "cell_type": "code",
   "execution_count": 136,
   "id": "806cd4a5-51b1-4ed3-8aa3-4970c128ccff",
   "metadata": {
    "execution": {
     "iopub.execute_input": "2022-08-02T10:28:16.077013Z",
     "iopub.status.busy": "2022-08-02T10:28:16.076706Z",
     "iopub.status.idle": "2022-08-02T10:28:19.188147Z",
     "shell.execute_reply": "2022-08-02T10:28:19.187613Z"
    },
    "papermill": {
     "duration": 3.138075,
     "end_time": "2022-08-02T10:28:19.189676",
     "exception": false,
     "start_time": "2022-08-02T10:28:16.051601",
     "status": "completed"
    },
    "tags": []
   },
   "outputs": [],
   "source": [
    "# save\n",
    "import gzip\n",
    "\n",
    "with gzip.GzipFile(OUTPUT_DIR_BASE / \"gene_tissues_models.pkl.gz\", \"w\") as f:\n",
    "    pickle.dump(gene_models, f)"
   ]
  },
  {
   "cell_type": "code",
   "execution_count": 137,
   "id": "a12a9597-dd0a-40a0-9a42-f288af22e0d2",
   "metadata": {
    "execution": {
     "iopub.execute_input": "2022-08-02T10:28:19.296097Z",
     "iopub.status.busy": "2022-08-02T10:28:19.295881Z",
     "iopub.status.idle": "2022-08-02T10:28:21.030137Z",
     "shell.execute_reply": "2022-08-02T10:28:21.025961Z"
    },
    "papermill": {
     "duration": 1.780815,
     "end_time": "2022-08-02T10:28:21.031622",
     "exception": false,
     "start_time": "2022-08-02T10:28:19.250807",
     "status": "completed"
    },
    "tags": []
   },
   "outputs": [],
   "source": [
    "# testing saved file\n",
    "with gzip.GzipFile(OUTPUT_DIR_BASE / \"gene_tissues_models.pkl.gz\", \"r\") as f:\n",
    "    _tmp = pickle.load(f)"
   ]
  },
  {
   "cell_type": "code",
   "execution_count": 138,
   "id": "a90a8f83-75db-4f73-8f1a-7e0563ba3685",
   "metadata": {
    "execution": {
     "iopub.execute_input": "2022-08-02T10:28:21.144299Z",
     "iopub.status.busy": "2022-08-02T10:28:21.144118Z",
     "iopub.status.idle": "2022-08-02T10:28:21.167262Z",
     "shell.execute_reply": "2022-08-02T10:28:21.166795Z"
    },
    "papermill": {
     "duration": 0.079285,
     "end_time": "2022-08-02T10:28:21.170063",
     "exception": false,
     "start_time": "2022-08-02T10:28:21.090778",
     "status": "completed"
    },
    "tags": []
   },
   "outputs": [],
   "source": [
    "assert len(gene_models) == len(_tmp)\n",
    "assert gene_models[\"ENSG00000000419\"].equals(_tmp[\"ENSG00000000419\"])"
   ]
  },
  {
   "cell_type": "markdown",
   "id": "a147f3a8-4efd-457b-9581-00cbfacd4b3d",
   "metadata": {
    "papermill": {
     "duration": 0.033348,
     "end_time": "2022-08-02T10:28:21.249902",
     "exception": false,
     "start_time": "2022-08-02T10:28:21.216554",
     "status": "completed"
    },
    "tags": []
   },
   "source": [
    "### Count number of _unique_ SNPs predictors used and available across tissue models"
   ]
  },
  {
   "cell_type": "code",
   "execution_count": 139,
   "id": "38d5bc57-3c25-4abe-93bd-09bbe200f2ef",
   "metadata": {
    "execution": {
     "iopub.execute_input": "2022-08-02T10:28:21.318201Z",
     "iopub.status.busy": "2022-08-02T10:28:21.318038Z",
     "iopub.status.idle": "2022-08-02T10:28:21.354376Z",
     "shell.execute_reply": "2022-08-02T10:28:21.353918Z"
    },
    "papermill": {
     "duration": 0.075183,
     "end_time": "2022-08-02T10:28:21.358555",
     "exception": false,
     "start_time": "2022-08-02T10:28:21.283372",
     "status": "completed"
    },
    "tags": []
   },
   "outputs": [],
   "source": [
    "def _count_unique_snps(gene_id):\n",
    "    \"\"\"\n",
    "    For a gene_id, it counts unique SNPs in all models and their intersection with GWAS SNPs (therefore, used by S-PrediXcan).\n",
    "    \"\"\"\n",
    "    gene_obj = spredixcan_gene_obj[gene_id]\n",
    "    gene_tissues = spredixcan_genes_models.loc[gene_id, \"tissue\"]\n",
    "\n",
    "    gene_unique_snps = set()\n",
    "    for t in gene_tissues:\n",
    "        t_snps = set(gene_models[gene_id].index)\n",
    "        gene_unique_snps.update(t_snps)\n",
    "\n",
    "    gene_unique_snps_in_gwas = gwas_variants_ids_set.intersection(gene_unique_snps)\n",
    "\n",
    "    return pd.Series(\n",
    "        {\n",
    "            \"unique_n_snps_in_model\": len(gene_unique_snps),\n",
    "            \"unique_n_snps_used\": len(gene_unique_snps_in_gwas),\n",
    "        }\n",
    "    )"
   ]
  },
  {
   "cell_type": "code",
   "execution_count": 140,
   "id": "059c6e02-67e2-4376-a3e5-b815070779c9",
   "metadata": {
    "execution": {
     "iopub.execute_input": "2022-08-02T10:28:21.429339Z",
     "iopub.status.busy": "2022-08-02T10:28:21.429165Z",
     "iopub.status.idle": "2022-08-02T10:28:21.482022Z",
     "shell.execute_reply": "2022-08-02T10:28:21.481457Z"
    },
    "papermill": {
     "duration": 0.094125,
     "end_time": "2022-08-02T10:28:21.488840",
     "exception": false,
     "start_time": "2022-08-02T10:28:21.394715",
     "status": "completed"
    },
    "tags": []
   },
   "outputs": [
    {
     "data": {
      "text/html": [
       "<div>\n",
       "<style scoped>\n",
       "    .dataframe tbody tr th:only-of-type {\n",
       "        vertical-align: middle;\n",
       "    }\n",
       "\n",
       "    .dataframe tbody tr th {\n",
       "        vertical-align: top;\n",
       "    }\n",
       "\n",
       "    .dataframe thead th {\n",
       "        text-align: right;\n",
       "    }\n",
       "</style>\n",
       "<table border=\"1\" class=\"dataframe\">\n",
       "  <thead>\n",
       "    <tr style=\"text-align: right;\">\n",
       "      <th></th>\n",
       "      <th>gene_name</th>\n",
       "      <th>tissue</th>\n",
       "      <th>n_tissues</th>\n",
       "      <th>tissues_pc_variances</th>\n",
       "      <th>tissues_pc_variances_cov</th>\n",
       "      <th>tissues_variances</th>\n",
       "      <th>n_snps_used_sum</th>\n",
       "      <th>n_snps_in_model_sum</th>\n",
       "    </tr>\n",
       "    <tr>\n",
       "      <th>gene_id</th>\n",
       "      <th></th>\n",
       "      <th></th>\n",
       "      <th></th>\n",
       "      <th></th>\n",
       "      <th></th>\n",
       "      <th></th>\n",
       "      <th></th>\n",
       "      <th></th>\n",
       "    </tr>\n",
       "  </thead>\n",
       "  <tbody>\n",
       "    <tr>\n",
       "      <th>ENSG00000000419</th>\n",
       "      <td>DPM1</td>\n",
       "      <td>(Brain_Hypothalamus, Brain_Substantia_nigra)</td>\n",
       "      <td>2</td>\n",
       "      <td>[1.0442398458252409, 0.9557601541747592]</td>\n",
       "      <td>[0.013163142634155849, 0.00048574890347684763]</td>\n",
       "      <td>{'Brain_Hypothalamus': 0.013162153504206677, '...</td>\n",
       "      <td>2</td>\n",
       "      <td>2</td>\n",
       "    </tr>\n",
       "    <tr>\n",
       "      <th>ENSG00000010256</th>\n",
       "      <td>UQCRC1</td>\n",
       "      <td>(Thyroid, Whole_Blood)</td>\n",
       "      <td>2</td>\n",
       "      <td>[1.1048350039574655, 0.8951649960425345]</td>\n",
       "      <td>[0.0008061424968110495, 0.0002308709788283639]</td>\n",
       "      <td>{'Thyroid': 0.0008025245652862433, 'Whole_Bloo...</td>\n",
       "      <td>2</td>\n",
       "      <td>2</td>\n",
       "    </tr>\n",
       "    <tr>\n",
       "      <th>ENSG00000017427</th>\n",
       "      <td>IGF1</td>\n",
       "      <td>(Brain_Amygdala, Testis)</td>\n",
       "      <td>2</td>\n",
       "      <td>[1.0389319526404415, 0.9610680473595585]</td>\n",
       "      <td>[0.02060052225760429, 0.003854854256224178]</td>\n",
       "      <td>{'Brain_Amygdala': 0.02059332044751194, 'Testi...</td>\n",
       "      <td>2</td>\n",
       "      <td>2</td>\n",
       "    </tr>\n",
       "    <tr>\n",
       "      <th>ENSG00000043093</th>\n",
       "      <td>DCUN1D1</td>\n",
       "      <td>(Esophagus_Muscularis, Esophagus_Gastroesophag...</td>\n",
       "      <td>2</td>\n",
       "      <td>[1.4951653523020276, 0.5048346476979725]</td>\n",
       "      <td>[0.0005196522562331344, 0.00014798630499321565]</td>\n",
       "      <td>{'Esophagus_Muscularis': 0.0004315621222418269...</td>\n",
       "      <td>2</td>\n",
       "      <td>2</td>\n",
       "    </tr>\n",
       "    <tr>\n",
       "      <th>ENSG00000081377</th>\n",
       "      <td>CDC14B</td>\n",
       "      <td>(Brain_Nucleus_accumbens_basal_ganglia, Muscle...</td>\n",
       "      <td>2</td>\n",
       "      <td>[1.1285007973441137, 0.8714992026558863]</td>\n",
       "      <td>[0.014647518608411533, 0.0074225002067654835]</td>\n",
       "      <td>{'Brain_Nucleus_accumbens_basal_ganglia': 0.01...</td>\n",
       "      <td>2</td>\n",
       "      <td>2</td>\n",
       "    </tr>\n",
       "  </tbody>\n",
       "</table>\n",
       "</div>"
      ],
      "text/plain": [
       "                gene_name                                             tissue  \\\n",
       "gene_id                                                                        \n",
       "ENSG00000000419      DPM1       (Brain_Hypothalamus, Brain_Substantia_nigra)   \n",
       "ENSG00000010256    UQCRC1                             (Thyroid, Whole_Blood)   \n",
       "ENSG00000017427      IGF1                           (Brain_Amygdala, Testis)   \n",
       "ENSG00000043093   DCUN1D1  (Esophagus_Muscularis, Esophagus_Gastroesophag...   \n",
       "ENSG00000081377    CDC14B  (Brain_Nucleus_accumbens_basal_ganglia, Muscle...   \n",
       "\n",
       "                 n_tissues                      tissues_pc_variances  \\\n",
       "gene_id                                                                \n",
       "ENSG00000000419          2  [1.0442398458252409, 0.9557601541747592]   \n",
       "ENSG00000010256          2  [1.1048350039574655, 0.8951649960425345]   \n",
       "ENSG00000017427          2  [1.0389319526404415, 0.9610680473595585]   \n",
       "ENSG00000043093          2  [1.4951653523020276, 0.5048346476979725]   \n",
       "ENSG00000081377          2  [1.1285007973441137, 0.8714992026558863]   \n",
       "\n",
       "                                        tissues_pc_variances_cov  \\\n",
       "gene_id                                                            \n",
       "ENSG00000000419   [0.013163142634155849, 0.00048574890347684763]   \n",
       "ENSG00000010256   [0.0008061424968110495, 0.0002308709788283639]   \n",
       "ENSG00000017427      [0.02060052225760429, 0.003854854256224178]   \n",
       "ENSG00000043093  [0.0005196522562331344, 0.00014798630499321565]   \n",
       "ENSG00000081377    [0.014647518608411533, 0.0074225002067654835]   \n",
       "\n",
       "                                                 tissues_variances  \\\n",
       "gene_id                                                              \n",
       "ENSG00000000419  {'Brain_Hypothalamus': 0.013162153504206677, '...   \n",
       "ENSG00000010256  {'Thyroid': 0.0008025245652862433, 'Whole_Bloo...   \n",
       "ENSG00000017427  {'Brain_Amygdala': 0.02059332044751194, 'Testi...   \n",
       "ENSG00000043093  {'Esophagus_Muscularis': 0.0004315621222418269...   \n",
       "ENSG00000081377  {'Brain_Nucleus_accumbens_basal_ganglia': 0.01...   \n",
       "\n",
       "                 n_snps_used_sum  n_snps_in_model_sum  \n",
       "gene_id                                                \n",
       "ENSG00000000419                2                    2  \n",
       "ENSG00000010256                2                    2  \n",
       "ENSG00000017427                2                    2  \n",
       "ENSG00000043093                2                    2  \n",
       "ENSG00000081377                2                    2  "
      ]
     },
     "execution_count": 140,
     "metadata": {},
     "output_type": "execute_result"
    }
   ],
   "source": [
    "# testing\n",
    "spredixcan_genes_models[spredixcan_genes_models[\"n_snps_used_sum\"] == 2].head()"
   ]
  },
  {
   "cell_type": "code",
   "execution_count": 141,
   "id": "4f8a444c-c3e2-4688-a50b-08481d41f614",
   "metadata": {
    "execution": {
     "iopub.execute_input": "2022-08-02T10:28:21.555074Z",
     "iopub.status.busy": "2022-08-02T10:28:21.554899Z",
     "iopub.status.idle": "2022-08-02T10:28:21.583491Z",
     "shell.execute_reply": "2022-08-02T10:28:21.583060Z"
    },
    "papermill": {
     "duration": 0.059177,
     "end_time": "2022-08-02T10:28:21.584760",
     "exception": false,
     "start_time": "2022-08-02T10:28:21.525583",
     "status": "completed"
    },
    "tags": []
   },
   "outputs": [
    {
     "data": {
      "text/plain": [
       "varID\n",
       "chr20_50862947_C_T_b38    0.431375\n",
       "Name: weight, dtype: float64"
      ]
     },
     "metadata": {},
     "output_type": "display_data"
    },
    {
     "data": {
      "text/plain": [
       "varID\n",
       "chr20_50957480_C_T_b38   -0.146796\n",
       "Name: weight, dtype: float64"
      ]
     },
     "metadata": {},
     "output_type": "display_data"
    }
   ],
   "source": [
    "# case with two snps, not repeated across tissues\n",
    "_gene_id = \"ENSG00000000419\"\n",
    "display(\n",
    "    spredixcan_gene_obj[_gene_id].get_prediction_weights(\n",
    "        tissue=\"Brain_Hypothalamus\", model_type=EQTL_MODEL\n",
    "    )\n",
    ")\n",
    "display(\n",
    "    spredixcan_gene_obj[_gene_id].get_prediction_weights(\n",
    "        tissue=\"Brain_Substantia_nigra\", model_type=EQTL_MODEL\n",
    "    )\n",
    ")"
   ]
  },
  {
   "cell_type": "code",
   "execution_count": 142,
   "id": "f835cf57-eea6-4468-aaf2-d85c8164d177",
   "metadata": {
    "execution": {
     "iopub.execute_input": "2022-08-02T10:28:21.642115Z",
     "iopub.status.busy": "2022-08-02T10:28:21.641808Z",
     "iopub.status.idle": "2022-08-02T10:28:21.662798Z",
     "shell.execute_reply": "2022-08-02T10:28:21.662325Z"
    },
    "papermill": {
     "duration": 0.05372,
     "end_time": "2022-08-02T10:28:21.664185",
     "exception": false,
     "start_time": "2022-08-02T10:28:21.610465",
     "status": "completed"
    },
    "tags": []
   },
   "outputs": [],
   "source": [
    "# _tmp = _count_unique_snps(_gene_id)\n",
    "# assert _tmp.shape[0] == 2\n",
    "# assert _tmp[\"unique_n_snps_in_model\"] == 2\n",
    "# assert _tmp[\"unique_n_snps_used\"] == 2"
   ]
  },
  {
   "cell_type": "code",
   "execution_count": 143,
   "id": "520837f6-5cdd-4958-aa98-00cd1ebab484",
   "metadata": {
    "execution": {
     "iopub.execute_input": "2022-08-02T10:28:21.743377Z",
     "iopub.status.busy": "2022-08-02T10:28:21.743081Z",
     "iopub.status.idle": "2022-08-02T10:28:24.233705Z",
     "shell.execute_reply": "2022-08-02T10:28:24.233183Z"
    },
    "papermill": {
     "duration": 2.528828,
     "end_time": "2022-08-02T10:28:24.235050",
     "exception": false,
     "start_time": "2022-08-02T10:28:21.706222",
     "status": "completed"
    },
    "tags": []
   },
   "outputs": [],
   "source": [
    "# get unique snps for all genes\n",
    "spredixcan_genes_unique_n_snps = spredixcan_genes_models.groupby(\"gene_id\").apply(\n",
    "    lambda x: _count_unique_snps(x.name)\n",
    ")"
   ]
  },
  {
   "cell_type": "code",
   "execution_count": 144,
   "id": "72633373-73d7-4796-b915-06fcb18feca0",
   "metadata": {
    "execution": {
     "iopub.execute_input": "2022-08-02T10:28:24.288023Z",
     "iopub.status.busy": "2022-08-02T10:28:24.287712Z",
     "iopub.status.idle": "2022-08-02T10:28:24.314834Z",
     "shell.execute_reply": "2022-08-02T10:28:24.314402Z"
    },
    "papermill": {
     "duration": 0.054904,
     "end_time": "2022-08-02T10:28:24.316256",
     "exception": false,
     "start_time": "2022-08-02T10:28:24.261352",
     "status": "completed"
    },
    "tags": []
   },
   "outputs": [
    {
     "data": {
      "text/html": [
       "<div>\n",
       "<style scoped>\n",
       "    .dataframe tbody tr th:only-of-type {\n",
       "        vertical-align: middle;\n",
       "    }\n",
       "\n",
       "    .dataframe tbody tr th {\n",
       "        vertical-align: top;\n",
       "    }\n",
       "\n",
       "    .dataframe thead th {\n",
       "        text-align: right;\n",
       "    }\n",
       "</style>\n",
       "<table border=\"1\" class=\"dataframe\">\n",
       "  <thead>\n",
       "    <tr style=\"text-align: right;\">\n",
       "      <th></th>\n",
       "      <th>unique_n_snps_in_model</th>\n",
       "      <th>unique_n_snps_used</th>\n",
       "    </tr>\n",
       "    <tr>\n",
       "      <th>gene_id</th>\n",
       "      <th></th>\n",
       "      <th></th>\n",
       "    </tr>\n",
       "  </thead>\n",
       "  <tbody>\n",
       "    <tr>\n",
       "      <th>ENSG00000000419</th>\n",
       "      <td>2</td>\n",
       "      <td>2</td>\n",
       "    </tr>\n",
       "    <tr>\n",
       "      <th>ENSG00000000938</th>\n",
       "      <td>5</td>\n",
       "      <td>5</td>\n",
       "    </tr>\n",
       "    <tr>\n",
       "      <th>ENSG00000000971</th>\n",
       "      <td>12</td>\n",
       "      <td>12</td>\n",
       "    </tr>\n",
       "    <tr>\n",
       "      <th>ENSG00000001084</th>\n",
       "      <td>23</td>\n",
       "      <td>23</td>\n",
       "    </tr>\n",
       "    <tr>\n",
       "      <th>ENSG00000001167</th>\n",
       "      <td>14</td>\n",
       "      <td>13</td>\n",
       "    </tr>\n",
       "  </tbody>\n",
       "</table>\n",
       "</div>"
      ],
      "text/plain": [
       "                 unique_n_snps_in_model  unique_n_snps_used\n",
       "gene_id                                                    \n",
       "ENSG00000000419                       2                   2\n",
       "ENSG00000000938                       5                   5\n",
       "ENSG00000000971                      12                  12\n",
       "ENSG00000001084                      23                  23\n",
       "ENSG00000001167                      14                  13"
      ]
     },
     "execution_count": 144,
     "metadata": {},
     "output_type": "execute_result"
    }
   ],
   "source": [
    "spredixcan_genes_unique_n_snps.head()"
   ]
  },
  {
   "cell_type": "code",
   "execution_count": 145,
   "id": "3d2b6676-2168-44b8-8d02-d29b934ba2ec",
   "metadata": {
    "execution": {
     "iopub.execute_input": "2022-08-02T10:28:24.396392Z",
     "iopub.status.busy": "2022-08-02T10:28:24.396214Z",
     "iopub.status.idle": "2022-08-02T10:28:24.424438Z",
     "shell.execute_reply": "2022-08-02T10:28:24.423941Z"
    },
    "papermill": {
     "duration": 0.074258,
     "end_time": "2022-08-02T10:28:24.425776",
     "exception": false,
     "start_time": "2022-08-02T10:28:24.351518",
     "status": "completed"
    },
    "tags": []
   },
   "outputs": [],
   "source": [
    "assert (\n",
    "    spredixcan_genes_unique_n_snps[\"unique_n_snps_in_model\"]\n",
    "    >= spredixcan_genes_unique_n_snps[\"unique_n_snps_used\"]\n",
    ").all()"
   ]
  },
  {
   "cell_type": "code",
   "execution_count": 146,
   "id": "6accf2fe-93fe-4f7c-86ff-5f0ea3d17e11",
   "metadata": {
    "execution": {
     "iopub.execute_input": "2022-08-02T10:28:24.492407Z",
     "iopub.status.busy": "2022-08-02T10:28:24.492213Z",
     "iopub.status.idle": "2022-08-02T10:28:24.520765Z",
     "shell.execute_reply": "2022-08-02T10:28:24.519622Z"
    },
    "papermill": {
     "duration": 0.070849,
     "end_time": "2022-08-02T10:28:24.522308",
     "exception": false,
     "start_time": "2022-08-02T10:28:24.451459",
     "status": "completed"
    },
    "tags": []
   },
   "outputs": [],
   "source": [
    "# add unique snps to spredixcan_genes_models\n",
    "spredixcan_genes_models = spredixcan_genes_models.join(spredixcan_genes_unique_n_snps)"
   ]
  },
  {
   "cell_type": "code",
   "execution_count": 147,
   "id": "25a28358-843b-4421-9d8f-8edc41f016e3",
   "metadata": {
    "execution": {
     "iopub.execute_input": "2022-08-02T10:28:24.609630Z",
     "iopub.status.busy": "2022-08-02T10:28:24.609330Z",
     "iopub.status.idle": "2022-08-02T10:28:24.624054Z",
     "shell.execute_reply": "2022-08-02T10:28:24.623622Z"
    },
    "papermill": {
     "duration": 0.052396,
     "end_time": "2022-08-02T10:28:24.625239",
     "exception": false,
     "start_time": "2022-08-02T10:28:24.572843",
     "status": "completed"
    },
    "tags": []
   },
   "outputs": [
    {
     "data": {
      "text/plain": [
       "(6444, 10)"
      ]
     },
     "execution_count": 147,
     "metadata": {},
     "output_type": "execute_result"
    }
   ],
   "source": [
    "spredixcan_genes_models.shape"
   ]
  },
  {
   "cell_type": "code",
   "execution_count": 148,
   "id": "ae4f0cd6-a823-4f55-82cf-1a78f0392acf",
   "metadata": {
    "execution": {
     "iopub.execute_input": "2022-08-02T10:28:24.684656Z",
     "iopub.status.busy": "2022-08-02T10:28:24.684369Z",
     "iopub.status.idle": "2022-08-02T10:28:24.724882Z",
     "shell.execute_reply": "2022-08-02T10:28:24.724464Z"
    },
    "papermill": {
     "duration": 0.070817,
     "end_time": "2022-08-02T10:28:24.726335",
     "exception": false,
     "start_time": "2022-08-02T10:28:24.655518",
     "status": "completed"
    },
    "tags": []
   },
   "outputs": [
    {
     "data": {
      "text/html": [
       "<div>\n",
       "<style scoped>\n",
       "    .dataframe tbody tr th:only-of-type {\n",
       "        vertical-align: middle;\n",
       "    }\n",
       "\n",
       "    .dataframe tbody tr th {\n",
       "        vertical-align: top;\n",
       "    }\n",
       "\n",
       "    .dataframe thead th {\n",
       "        text-align: right;\n",
       "    }\n",
       "</style>\n",
       "<table border=\"1\" class=\"dataframe\">\n",
       "  <thead>\n",
       "    <tr style=\"text-align: right;\">\n",
       "      <th></th>\n",
       "      <th>gene_name</th>\n",
       "      <th>tissue</th>\n",
       "      <th>n_tissues</th>\n",
       "      <th>tissues_pc_variances</th>\n",
       "      <th>tissues_pc_variances_cov</th>\n",
       "      <th>tissues_variances</th>\n",
       "      <th>n_snps_used_sum</th>\n",
       "      <th>n_snps_in_model_sum</th>\n",
       "      <th>unique_n_snps_in_model</th>\n",
       "      <th>unique_n_snps_used</th>\n",
       "    </tr>\n",
       "    <tr>\n",
       "      <th>gene_id</th>\n",
       "      <th></th>\n",
       "      <th></th>\n",
       "      <th></th>\n",
       "      <th></th>\n",
       "      <th></th>\n",
       "      <th></th>\n",
       "      <th></th>\n",
       "      <th></th>\n",
       "      <th></th>\n",
       "      <th></th>\n",
       "    </tr>\n",
       "  </thead>\n",
       "  <tbody>\n",
       "    <tr>\n",
       "      <th>ENSG00000000419</th>\n",
       "      <td>DPM1</td>\n",
       "      <td>(Brain_Hypothalamus, Brain_Substantia_nigra)</td>\n",
       "      <td>2</td>\n",
       "      <td>[1.0442398458252409, 0.9557601541747592]</td>\n",
       "      <td>[0.013163142634155849, 0.00048574890347684763]</td>\n",
       "      <td>{'Brain_Hypothalamus': 0.013162153504206677, '...</td>\n",
       "      <td>2</td>\n",
       "      <td>2</td>\n",
       "      <td>2</td>\n",
       "      <td>2</td>\n",
       "    </tr>\n",
       "    <tr>\n",
       "      <th>ENSG00000000938</th>\n",
       "      <td>FGR</td>\n",
       "      <td>(Breast_Mammary_Tissue, Esophagus_Mucosa, Pros...</td>\n",
       "      <td>36</td>\n",
       "      <td>[31.63266933637128, 2.0783677518511436, 1.2716...</td>\n",
       "      <td>[0.17159486570780277]</td>\n",
       "      <td>{'Breast_Mammary_Tissue': 0.002243819216617953...</td>\n",
       "      <td>40</td>\n",
       "      <td>40</td>\n",
       "      <td>5</td>\n",
       "      <td>5</td>\n",
       "    </tr>\n",
       "    <tr>\n",
       "      <th>ENSG00000000971</th>\n",
       "      <td>CFH</td>\n",
       "      <td>(Breast_Mammary_Tissue, Stomach, Artery_Corona...</td>\n",
       "      <td>34</td>\n",
       "      <td>[21.560769925683296, 7.3101709870454625, 1.837...</td>\n",
       "      <td>[0.2093060319587451, 0.058234347656008094, 0.0...</td>\n",
       "      <td>{'Breast_Mammary_Tissue': 0.01068561006340443,...</td>\n",
       "      <td>44</td>\n",
       "      <td>44</td>\n",
       "      <td>12</td>\n",
       "      <td>12</td>\n",
       "    </tr>\n",
       "    <tr>\n",
       "      <th>ENSG00000001084</th>\n",
       "      <td>GCLC</td>\n",
       "      <td>(Pancreas, Artery_Coronary, Lung, Brain_Putame...</td>\n",
       "      <td>32</td>\n",
       "      <td>[21.291939080546523, 4.699418748743197, 2.2489...</td>\n",
       "      <td>[0.39430527375123775, 0.11627488888534823, 0.0...</td>\n",
       "      <td>{'Pancreas': 0.015199520517598328, 'Artery_Cor...</td>\n",
       "      <td>46</td>\n",
       "      <td>46</td>\n",
       "      <td>23</td>\n",
       "      <td>23</td>\n",
       "    </tr>\n",
       "    <tr>\n",
       "      <th>ENSG00000001167</th>\n",
       "      <td>NFYA</td>\n",
       "      <td>(Breast_Mammary_Tissue, Esophagus_Mucosa, Pros...</td>\n",
       "      <td>40</td>\n",
       "      <td>[37.33566029549769, 1.3914019604538364]</td>\n",
       "      <td>[1.1642639979821048, 0.05742881287671711]</td>\n",
       "      <td>{'Breast_Mammary_Tissue': 0.03313519857456931,...</td>\n",
       "      <td>47</td>\n",
       "      <td>48</td>\n",
       "      <td>14</td>\n",
       "      <td>13</td>\n",
       "    </tr>\n",
       "  </tbody>\n",
       "</table>\n",
       "</div>"
      ],
      "text/plain": [
       "                gene_name                                             tissue  \\\n",
       "gene_id                                                                        \n",
       "ENSG00000000419      DPM1       (Brain_Hypothalamus, Brain_Substantia_nigra)   \n",
       "ENSG00000000938       FGR  (Breast_Mammary_Tissue, Esophagus_Mucosa, Pros...   \n",
       "ENSG00000000971       CFH  (Breast_Mammary_Tissue, Stomach, Artery_Corona...   \n",
       "ENSG00000001084      GCLC  (Pancreas, Artery_Coronary, Lung, Brain_Putame...   \n",
       "ENSG00000001167      NFYA  (Breast_Mammary_Tissue, Esophagus_Mucosa, Pros...   \n",
       "\n",
       "                 n_tissues                               tissues_pc_variances  \\\n",
       "gene_id                                                                         \n",
       "ENSG00000000419          2           [1.0442398458252409, 0.9557601541747592]   \n",
       "ENSG00000000938         36  [31.63266933637128, 2.0783677518511436, 1.2716...   \n",
       "ENSG00000000971         34  [21.560769925683296, 7.3101709870454625, 1.837...   \n",
       "ENSG00000001084         32  [21.291939080546523, 4.699418748743197, 2.2489...   \n",
       "ENSG00000001167         40            [37.33566029549769, 1.3914019604538364]   \n",
       "\n",
       "                                          tissues_pc_variances_cov  \\\n",
       "gene_id                                                              \n",
       "ENSG00000000419     [0.013163142634155849, 0.00048574890347684763]   \n",
       "ENSG00000000938                              [0.17159486570780277]   \n",
       "ENSG00000000971  [0.2093060319587451, 0.058234347656008094, 0.0...   \n",
       "ENSG00000001084  [0.39430527375123775, 0.11627488888534823, 0.0...   \n",
       "ENSG00000001167          [1.1642639979821048, 0.05742881287671711]   \n",
       "\n",
       "                                                 tissues_variances  \\\n",
       "gene_id                                                              \n",
       "ENSG00000000419  {'Brain_Hypothalamus': 0.013162153504206677, '...   \n",
       "ENSG00000000938  {'Breast_Mammary_Tissue': 0.002243819216617953...   \n",
       "ENSG00000000971  {'Breast_Mammary_Tissue': 0.01068561006340443,...   \n",
       "ENSG00000001084  {'Pancreas': 0.015199520517598328, 'Artery_Cor...   \n",
       "ENSG00000001167  {'Breast_Mammary_Tissue': 0.03313519857456931,...   \n",
       "\n",
       "                 n_snps_used_sum  n_snps_in_model_sum  unique_n_snps_in_model  \\\n",
       "gene_id                                                                         \n",
       "ENSG00000000419                2                    2                       2   \n",
       "ENSG00000000938               40                   40                       5   \n",
       "ENSG00000000971               44                   44                      12   \n",
       "ENSG00000001084               46                   46                      23   \n",
       "ENSG00000001167               47                   48                      14   \n",
       "\n",
       "                 unique_n_snps_used  \n",
       "gene_id                              \n",
       "ENSG00000000419                   2  \n",
       "ENSG00000000938                   5  \n",
       "ENSG00000000971                  12  \n",
       "ENSG00000001084                  23  \n",
       "ENSG00000001167                  13  "
      ]
     },
     "execution_count": 148,
     "metadata": {},
     "output_type": "execute_result"
    }
   ],
   "source": [
    "spredixcan_genes_models.head()"
   ]
  },
  {
   "cell_type": "markdown",
   "id": "d6947d45-ea78-4c6b-bf71-f7413d1687e3",
   "metadata": {
    "papermill": {
     "duration": 0.038569,
     "end_time": "2022-08-02T10:28:24.812163",
     "exception": false,
     "start_time": "2022-08-02T10:28:24.773594",
     "status": "completed"
    },
    "tags": []
   },
   "source": [
    "### Save"
   ]
  },
  {
   "cell_type": "code",
   "execution_count": 149,
   "id": "ebc3a430-7bd5-4099-8b01-aa77e704e3e7",
   "metadata": {
    "execution": {
     "iopub.execute_input": "2022-08-02T10:28:24.885535Z",
     "iopub.status.busy": "2022-08-02T10:28:24.885050Z",
     "iopub.status.idle": "2022-08-02T10:28:24.907374Z",
     "shell.execute_reply": "2022-08-02T10:28:24.906961Z"
    },
    "papermill": {
     "duration": 0.060298,
     "end_time": "2022-08-02T10:28:24.908608",
     "exception": false,
     "start_time": "2022-08-02T10:28:24.848310",
     "status": "completed"
    },
    "tags": []
   },
   "outputs": [],
   "source": [
    "# this is important, other scripts depend on gene_name to be unique\n",
    "assert spredixcan_genes_models[\"gene_name\"].is_unique"
   ]
  },
  {
   "cell_type": "code",
   "execution_count": 150,
   "id": "e2db5302-3051-4492-97e1-e759d2fb512f",
   "metadata": {
    "execution": {
     "iopub.execute_input": "2022-08-02T10:28:24.976534Z",
     "iopub.status.busy": "2022-08-02T10:28:24.976280Z",
     "iopub.status.idle": "2022-08-02T10:28:24.992919Z",
     "shell.execute_reply": "2022-08-02T10:28:24.992492Z"
    },
    "papermill": {
     "duration": 0.054717,
     "end_time": "2022-08-02T10:28:24.999893",
     "exception": false,
     "start_time": "2022-08-02T10:28:24.945176",
     "status": "completed"
    },
    "tags": []
   },
   "outputs": [],
   "source": [
    "assert not spredixcan_genes_models.isna().any(None)"
   ]
  },
  {
   "cell_type": "code",
   "execution_count": 151,
   "id": "10e19441-8390-4eb1-8da4-24752597bb54",
   "metadata": {
    "execution": {
     "iopub.execute_input": "2022-08-02T10:28:25.059654Z",
     "iopub.status.busy": "2022-08-02T10:28:25.059313Z",
     "iopub.status.idle": "2022-08-02T10:28:25.859399Z",
     "shell.execute_reply": "2022-08-02T10:28:25.858858Z"
    },
    "papermill": {
     "duration": 0.837319,
     "end_time": "2022-08-02T10:28:25.868291",
     "exception": false,
     "start_time": "2022-08-02T10:28:25.030972",
     "status": "completed"
    },
    "tags": []
   },
   "outputs": [],
   "source": [
    "spredixcan_genes_models.to_pickle(OUTPUT_DIR_BASE / \"gene_tissues.pkl\")"
   ]
  },
  {
   "cell_type": "code",
   "execution_count": null,
   "id": "b25e3ead",
   "metadata": {
    "papermill": {
     "duration": 0.04358,
     "end_time": "2022-08-02T10:28:25.965249",
     "exception": false,
     "start_time": "2022-08-02T10:28:25.921669",
     "status": "completed"
    },
    "tags": []
   },
   "outputs": [],
   "source": []
  }
 ],
 "metadata": {
  "jupytext": {
   "cell_metadata_filter": "all,-execution,-papermill,-trusted",
   "formats": "ipynb,py//py:percent"
  },
  "kernelspec": {
   "display_name": "Python 3 (ipykernel)",
   "language": "python",
   "name": "python3"
  },
  "language_info": {
   "codemirror_mode": {
    "name": "ipython",
    "version": 3
   },
   "file_extension": ".py",
   "mimetype": "text/x-python",
   "name": "python",
   "nbconvert_exporter": "python",
   "pygments_lexer": "ipython3",
   "version": "3.8.13"
  },
  "papermill": {
   "default_parameters": {},
   "duration": 12230.898748,
   "end_time": "2022-08-02T10:28:28.846780",
   "environment_variables": {},
   "exception": null,
   "input_path": "nbs/15_gsa_gls/07-compile_gwas_snps_and_twas_genes.ipynb",
   "output_path": "nbs/15_gsa_gls/gene_corrs/cohorts/1000g_eur/gtex_v8/mashr/07-compile_gwas_snps_and_twas_genes.run.ipynb",
   "parameters": {
    "COHORT_NAME": "1000G_EUR",
    "EQTL_MODEL": "MASHR",
    "GWAS_FILE": "/opt/data/results/gls/null_sims/final_imputed_gwas/random.pheno0.glm-imputed.txt.gz",
    "REFERENCE_PANEL": "GTEX_V8",
    "SMULTIXCAN_FILE": "/opt/data/results/gls/null_sims/twas/smultixcan/random.pheno0-gtex_v8-mashr-smultixcan.txt",
    "SPREDIXCAN_FILE_PATTERN": "random.pheno0-gtex_v8-mashr-{tissue}.csv",
    "SPREDIXCAN_FOLDER": "/opt/data/results/gls/null_sims/twas/spredixcan/"
   },
   "start_time": "2022-08-02T07:04:37.948032",
   "version": "2.2.2"
  }
 },
 "nbformat": 4,
 "nbformat_minor": 5
}
