{
 "cells": [
  {
   "cell_type": "markdown",
   "id": "7a6632fb",
   "metadata": {
    "papermill": {
     "duration": 0.022762,
     "end_time": "2022-08-28T14:28:00.859119",
     "exception": false,
     "start_time": "2022-08-28T14:28:00.836357",
     "status": "completed"
    },
    "tags": []
   },
   "source": [
    "# Description"
   ]
  },
  {
   "cell_type": "markdown",
   "id": "7097c346",
   "metadata": {
    "papermill": {
     "duration": 0.017872,
     "end_time": "2022-08-28T14:28:00.895766",
     "exception": false,
     "start_time": "2022-08-28T14:28:00.877894",
     "status": "completed"
    },
    "tags": []
   },
   "source": [
    "(Please, take a look at the README.md file in this directory for instructions on how to run this notebook)\n",
    "\n",
    "This notebook computes predicted expression correlations between all genes in the MultiPLIER models.\n",
    "\n",
    "It also has a parameter set for papermill to run on a single chromosome to run in parallel (see under `Settings` below).\n",
    "\n",
    "This notebook is not directly run. See README.md."
   ]
  },
  {
   "cell_type": "markdown",
   "id": "c61d8427",
   "metadata": {
    "papermill": {
     "duration": 0.020948,
     "end_time": "2022-08-28T14:28:00.934592",
     "exception": false,
     "start_time": "2022-08-28T14:28:00.913644",
     "status": "completed"
    },
    "tags": []
   },
   "source": [
    "# Modules"
   ]
  },
  {
   "cell_type": "code",
   "execution_count": 1,
   "id": "bbc0234f",
   "metadata": {
    "execution": {
     "iopub.execute_input": "2022-08-28T14:28:00.997603Z",
     "iopub.status.busy": "2022-08-28T14:28:00.997014Z",
     "iopub.status.idle": "2022-08-28T14:28:01.374300Z",
     "shell.execute_reply": "2022-08-28T14:28:01.373137Z"
    },
    "papermill": {
     "duration": 0.408888,
     "end_time": "2022-08-28T14:28:01.378460",
     "exception": false,
     "start_time": "2022-08-28T14:28:00.969572",
     "status": "completed"
    },
    "tags": []
   },
   "outputs": [],
   "source": [
    "%load_ext autoreload\n",
    "%autoreload 2"
   ]
  },
  {
   "cell_type": "code",
   "execution_count": 2,
   "id": "1d5f5a59",
   "metadata": {
    "execution": {
     "iopub.execute_input": "2022-08-28T14:28:01.418038Z",
     "iopub.status.busy": "2022-08-28T14:28:01.417626Z",
     "iopub.status.idle": "2022-08-28T14:28:05.857628Z",
     "shell.execute_reply": "2022-08-28T14:28:05.856284Z"
    },
    "papermill": {
     "duration": 4.465235,
     "end_time": "2022-08-28T14:28:05.862062",
     "exception": false,
     "start_time": "2022-08-28T14:28:01.396827",
     "status": "completed"
    },
    "tags": []
   },
   "outputs": [],
   "source": [
    "from random import sample, seed\n",
    "import warnings\n",
    "from pathlib import Path\n",
    "import pickle\n",
    "import traceback\n",
    "\n",
    "import numpy as np\n",
    "from scipy.spatial.distance import squareform\n",
    "import pandas as pd\n",
    "from tqdm import tqdm\n",
    "import matplotlib.pyplot as plt\n",
    "import seaborn as sns\n",
    "\n",
    "import conf\n",
    "from entity import Gene"
   ]
  },
  {
   "cell_type": "markdown",
   "id": "1eac24b5",
   "metadata": {
    "papermill": {
     "duration": 0.01548,
     "end_time": "2022-08-28T14:28:05.952061",
     "exception": false,
     "start_time": "2022-08-28T14:28:05.936581",
     "status": "completed"
    },
    "tags": []
   },
   "source": [
    "# Settings"
   ]
  },
  {
   "cell_type": "code",
   "execution_count": 3,
   "id": "ca4560ba",
   "metadata": {
    "execution": {
     "iopub.execute_input": "2022-08-28T14:28:05.981661Z",
     "iopub.status.busy": "2022-08-28T14:28:05.981232Z",
     "iopub.status.idle": "2022-08-28T14:28:06.244553Z",
     "shell.execute_reply": "2022-08-28T14:28:06.243383Z"
    },
    "papermill": {
     "duration": 0.282575,
     "end_time": "2022-08-28T14:28:06.248171",
     "exception": false,
     "start_time": "2022-08-28T14:28:05.965596",
     "status": "completed"
    },
    "tags": [
     "parameters"
    ]
   },
   "outputs": [],
   "source": [
    "# a cohort name (it could be something like UK_BIOBANK, etc)\n",
    "COHORT_NAME = None\n",
    "\n",
    "# reference panel such as 1000G or GTEX_V8\n",
    "REFERENCE_PANEL = None\n",
    "\n",
    "# predictions models such as MASHR or ELASTIC_NET\n",
    "EQTL_MODEL = None\n",
    "\n",
    "# this is the default value used in S-MultiXcan to select the\n",
    "# top principal components of the expression correlation matrix\n",
    "SMULTIXCAN_CONDITION_NUMBER = 30\n",
    "\n",
    "# specifies a single chromosome value\n",
    "CHROMOSOME = None\n",
    "\n",
    "# If True, computes the correlation between closeby genes only;\n",
    "# otherwise, it computes correlations for all genes in a chromosome\n",
    "COMPUTE_CORRELATIONS_WITHIN_DISTANCE = False\n",
    "\n",
    "# if True, then it will continue if a gene pair correlation fails,\n",
    "# printing the warning/error for debugging. If False, any warning/error\n",
    "# will be thrown\n",
    "DEBUG_MODE = False"
   ]
  },
  {
   "cell_type": "code",
   "execution_count": 4,
   "id": "c82441ad",
   "metadata": {
    "execution": {
     "iopub.execute_input": "2022-08-28T14:28:06.290207Z",
     "iopub.status.busy": "2022-08-28T14:28:06.289779Z",
     "iopub.status.idle": "2022-08-28T14:28:06.367480Z",
     "shell.execute_reply": "2022-08-28T14:28:06.366305Z"
    },
    "papermill": {
     "duration": 0.100478,
     "end_time": "2022-08-28T14:28:06.371060",
     "exception": false,
     "start_time": "2022-08-28T14:28:06.270582",
     "status": "completed"
    },
    "tags": [
     "injected-parameters"
    ]
   },
   "outputs": [],
   "source": [
    "# Parameters\n",
    "COHORT_NAME = \"1000g_eur\"\n",
    "REFERENCE_PANEL = \"GTEX_V8\"\n",
    "EQTL_MODEL = \"MASHR\"\n",
    "CHROMOSOME = 8\n"
   ]
  },
  {
   "cell_type": "code",
   "execution_count": 5,
   "id": "3190631f-27fc-480f-b18e-571d580425a5",
   "metadata": {
    "execution": {
     "iopub.execute_input": "2022-08-28T14:28:06.415516Z",
     "iopub.status.busy": "2022-08-28T14:28:06.415083Z",
     "iopub.status.idle": "2022-08-28T14:28:06.457775Z",
     "shell.execute_reply": "2022-08-28T14:28:06.457004Z"
    },
    "papermill": {
     "duration": 0.066711,
     "end_time": "2022-08-28T14:28:06.460088",
     "exception": false,
     "start_time": "2022-08-28T14:28:06.393377",
     "status": "completed"
    },
    "tags": []
   },
   "outputs": [
    {
     "data": {
      "text/plain": [
       "'Cohort name: 1000g_eur'"
      ]
     },
     "metadata": {},
     "output_type": "display_data"
    }
   ],
   "source": [
    "assert COHORT_NAME is not None and len(COHORT_NAME) > 0, \"A cohort name must be given\"\n",
    "\n",
    "COHORT_NAME = COHORT_NAME.lower()\n",
    "display(f\"Cohort name: {COHORT_NAME}\")"
   ]
  },
  {
   "cell_type": "code",
   "execution_count": 6,
   "id": "f53ba19b-0f93-4fa2-a047-63b375939d1a",
   "metadata": {
    "execution": {
     "iopub.execute_input": "2022-08-28T14:28:06.504727Z",
     "iopub.status.busy": "2022-08-28T14:28:06.504400Z",
     "iopub.status.idle": "2022-08-28T14:28:06.536657Z",
     "shell.execute_reply": "2022-08-28T14:28:06.535869Z"
    },
    "papermill": {
     "duration": 0.052584,
     "end_time": "2022-08-28T14:28:06.538730",
     "exception": false,
     "start_time": "2022-08-28T14:28:06.486146",
     "status": "completed"
    },
    "tags": []
   },
   "outputs": [
    {
     "data": {
      "text/plain": [
       "'Reference panel: GTEX_V8'"
      ]
     },
     "metadata": {},
     "output_type": "display_data"
    }
   ],
   "source": [
    "assert (\n",
    "    REFERENCE_PANEL is not None and len(REFERENCE_PANEL) > 0\n",
    "), \"A reference panel must be given\"\n",
    "\n",
    "display(f\"Reference panel: {REFERENCE_PANEL}\")"
   ]
  },
  {
   "cell_type": "code",
   "execution_count": 7,
   "id": "e024d130-c139-429a-9c6e-ccf149e297b0",
   "metadata": {
    "execution": {
     "iopub.execute_input": "2022-08-28T14:28:06.569580Z",
     "iopub.status.busy": "2022-08-28T14:28:06.569290Z",
     "iopub.status.idle": "2022-08-28T14:28:06.660214Z",
     "shell.execute_reply": "2022-08-28T14:28:06.659044Z"
    },
    "papermill": {
     "duration": 0.109484,
     "end_time": "2022-08-28T14:28:06.663748",
     "exception": false,
     "start_time": "2022-08-28T14:28:06.554264",
     "status": "completed"
    },
    "tags": []
   },
   "outputs": [
    {
     "data": {
      "text/plain": [
       "'eQTL model: MASHR) / mashr_'"
      ]
     },
     "metadata": {},
     "output_type": "display_data"
    }
   ],
   "source": [
    "assert (\n",
    "    EQTL_MODEL is not None and len(EQTL_MODEL) > 0\n",
    "), \"A prediction/eQTL model must be given\"\n",
    "\n",
    "EQTL_MODEL_FILES_PREFIX = conf.PHENOMEXCAN[\"PREDICTION_MODELS\"][f\"{EQTL_MODEL}_PREFIX\"]\n",
    "display(f\"eQTL model: {EQTL_MODEL}) / {EQTL_MODEL_FILES_PREFIX}\")"
   ]
  },
  {
   "cell_type": "code",
   "execution_count": 8,
   "id": "552a7f63-a18c-4d3e-bb6a-94f99b431291",
   "metadata": {
    "execution": {
     "iopub.execute_input": "2022-08-28T14:28:06.710901Z",
     "iopub.status.busy": "2022-08-28T14:28:06.710486Z",
     "iopub.status.idle": "2022-08-28T14:28:06.755885Z",
     "shell.execute_reply": "2022-08-28T14:28:06.755033Z"
    },
    "papermill": {
     "duration": 0.069141,
     "end_time": "2022-08-28T14:28:06.758491",
     "exception": false,
     "start_time": "2022-08-28T14:28:06.689350",
     "status": "completed"
    },
    "tags": []
   },
   "outputs": [
    {
     "data": {
      "text/plain": [
       "'S-MultiXcan condition number: 30'"
      ]
     },
     "metadata": {},
     "output_type": "display_data"
    }
   ],
   "source": [
    "assert (\n",
    "    SMULTIXCAN_CONDITION_NUMBER is not None and SMULTIXCAN_CONDITION_NUMBER > 0\n",
    "), \"The S-MultiXcan condition number (positive integer) must be given\"\n",
    "\n",
    "display(f\"S-MultiXcan condition number: {SMULTIXCAN_CONDITION_NUMBER}\")"
   ]
  },
  {
   "cell_type": "code",
   "execution_count": 9,
   "id": "f34a336f-548e-4afe-8955-90eaea4f42c6",
   "metadata": {
    "execution": {
     "iopub.execute_input": "2022-08-28T14:28:06.790587Z",
     "iopub.status.busy": "2022-08-28T14:28:06.790230Z",
     "iopub.status.idle": "2022-08-28T14:28:06.828516Z",
     "shell.execute_reply": "2022-08-28T14:28:06.827589Z"
    },
    "papermill": {
     "duration": 0.05591,
     "end_time": "2022-08-28T14:28:06.830820",
     "exception": false,
     "start_time": "2022-08-28T14:28:06.774910",
     "status": "completed"
    },
    "tags": []
   },
   "outputs": [
    {
     "data": {
      "text/plain": [
       "'Working on chromosome 8'"
      ]
     },
     "metadata": {},
     "output_type": "display_data"
    }
   ],
   "source": [
    "assert CHROMOSOME is not None and (\n",
    "    1 <= CHROMOSOME <= 22\n",
    "), \"You have to select one chromosome (format: number between 1 and 22)\"\n",
    "\n",
    "# CHROMOSOME = str(CHROMOSOME)\n",
    "display(f\"Working on chromosome {CHROMOSOME}\")"
   ]
  },
  {
   "cell_type": "code",
   "execution_count": 10,
   "id": "ab8e96e8-06b5-4363-9dcd-dc4d78cc27f7",
   "metadata": {
    "execution": {
     "iopub.execute_input": "2022-08-28T14:28:06.860747Z",
     "iopub.status.busy": "2022-08-28T14:28:06.860444Z",
     "iopub.status.idle": "2022-08-28T14:28:06.904128Z",
     "shell.execute_reply": "2022-08-28T14:28:06.903357Z"
    },
    "papermill": {
     "duration": 0.060767,
     "end_time": "2022-08-28T14:28:06.906443",
     "exception": false,
     "start_time": "2022-08-28T14:28:06.845676",
     "status": "completed"
    },
    "tags": []
   },
   "outputs": [
    {
     "data": {
      "text/plain": [
       "'Compute correlation within distance False'"
      ]
     },
     "metadata": {},
     "output_type": "display_data"
    }
   ],
   "source": [
    "display(f\"Compute correlation within distance {COMPUTE_CORRELATIONS_WITHIN_DISTANCE}\")"
   ]
  },
  {
   "cell_type": "code",
   "execution_count": 11,
   "id": "396392dc-0340-4540-9b02-e182b833f909",
   "metadata": {
    "execution": {
     "iopub.execute_input": "2022-08-28T14:28:06.936112Z",
     "iopub.status.busy": "2022-08-28T14:28:06.935808Z",
     "iopub.status.idle": "2022-08-28T14:28:06.971336Z",
     "shell.execute_reply": "2022-08-28T14:28:06.970662Z"
    },
    "papermill": {
     "duration": 0.052439,
     "end_time": "2022-08-28T14:28:06.973465",
     "exception": false,
     "start_time": "2022-08-28T14:28:06.921026",
     "status": "completed"
    },
    "tags": []
   },
   "outputs": [
    {
     "data": {
      "text/plain": [
       "'Using output dir base: /project/ritchie20/projects/phenoplier/base/results/gls/gene_corrs/cohorts/1000g_eur/gtex_v8/mashr'"
      ]
     },
     "metadata": {},
     "output_type": "display_data"
    }
   ],
   "source": [
    "OUTPUT_DIR_BASE = (\n",
    "    conf.RESULTS[\"GLS\"]\n",
    "    / \"gene_corrs\"\n",
    "    / \"cohorts\"\n",
    "    / COHORT_NAME\n",
    "    / REFERENCE_PANEL.lower()\n",
    "    / EQTL_MODEL.lower()\n",
    ")\n",
    "OUTPUT_DIR_BASE.mkdir(parents=True, exist_ok=True)\n",
    "\n",
    "display(f\"Using output dir base: {OUTPUT_DIR_BASE}\")"
   ]
  },
  {
   "cell_type": "markdown",
   "id": "d2ba085e",
   "metadata": {
    "papermill": {
     "duration": 0.012006,
     "end_time": "2022-08-28T14:28:06.998238",
     "exception": false,
     "start_time": "2022-08-28T14:28:06.986232",
     "status": "completed"
    },
    "tags": []
   },
   "source": [
    "# Load data"
   ]
  },
  {
   "cell_type": "markdown",
   "id": "7dcb8db7",
   "metadata": {
    "papermill": {
     "duration": 0.012666,
     "end_time": "2022-08-28T14:28:07.024691",
     "exception": false,
     "start_time": "2022-08-28T14:28:07.012025",
     "status": "completed"
    },
    "tags": []
   },
   "source": [
    "## GWAS variants"
   ]
  },
  {
   "cell_type": "code",
   "execution_count": 12,
   "id": "29434c4e-8cd3-4b9b-82e4-b5a251d9dd19",
   "metadata": {
    "execution": {
     "iopub.execute_input": "2022-08-28T14:28:07.052079Z",
     "iopub.status.busy": "2022-08-28T14:28:07.051808Z",
     "iopub.status.idle": "2022-08-28T14:28:09.838115Z",
     "shell.execute_reply": "2022-08-28T14:28:09.837378Z"
    },
    "papermill": {
     "duration": 2.802737,
     "end_time": "2022-08-28T14:28:09.840006",
     "exception": false,
     "start_time": "2022-08-28T14:28:07.037269",
     "status": "completed"
    },
    "tags": []
   },
   "outputs": [],
   "source": [
    "with open(OUTPUT_DIR_BASE / \"gwas_variant_ids.pkl\", \"rb\") as handle:\n",
    "    gwas_variants_ids_set = pickle.load(handle)"
   ]
  },
  {
   "cell_type": "code",
   "execution_count": 13,
   "id": "b9d9dec2-4a76-4bf9-bde2-e24c95acb8a0",
   "metadata": {
    "execution": {
     "iopub.execute_input": "2022-08-28T14:28:09.858474Z",
     "iopub.status.busy": "2022-08-28T14:28:09.858256Z",
     "iopub.status.idle": "2022-08-28T14:28:10.051875Z",
     "shell.execute_reply": "2022-08-28T14:28:10.050762Z"
    },
    "papermill": {
     "duration": 0.206336,
     "end_time": "2022-08-28T14:28:10.055148",
     "exception": false,
     "start_time": "2022-08-28T14:28:09.848812",
     "status": "completed"
    },
    "tags": []
   },
   "outputs": [
    {
     "data": {
      "text/plain": [
       "8325729"
      ]
     },
     "execution_count": 13,
     "metadata": {},
     "output_type": "execute_result"
    }
   ],
   "source": [
    "len(gwas_variants_ids_set)"
   ]
  },
  {
   "cell_type": "code",
   "execution_count": 14,
   "id": "4235b06a-6034-4ee4-a0a3-2ae35d122418",
   "metadata": {
    "execution": {
     "iopub.execute_input": "2022-08-28T14:28:10.092939Z",
     "iopub.status.busy": "2022-08-28T14:28:10.092552Z",
     "iopub.status.idle": "2022-08-28T14:28:10.615874Z",
     "shell.execute_reply": "2022-08-28T14:28:10.615214Z"
    },
    "papermill": {
     "duration": 0.543884,
     "end_time": "2022-08-28T14:28:10.617217",
     "exception": false,
     "start_time": "2022-08-28T14:28:10.073333",
     "status": "completed"
    },
    "tags": []
   },
   "outputs": [
    {
     "data": {
      "text/plain": [
       "['chr3_86255938_G_A_b38',\n",
       " 'chr2_231040283_G_T_b38',\n",
       " 'chr14_87639917_A_C_b38',\n",
       " 'chr19_6413234_A_T_b38',\n",
       " 'chr5_131015809_G_GT_b38']"
      ]
     },
     "execution_count": 14,
     "metadata": {},
     "output_type": "execute_result"
    }
   ],
   "source": [
    "list(gwas_variants_ids_set)[:5]"
   ]
  },
  {
   "cell_type": "markdown",
   "id": "07866999-2305-41f9-a144-e69c9122c212",
   "metadata": {
    "papermill": {
     "duration": 0.034455,
     "end_time": "2022-08-28T14:28:10.665603",
     "exception": false,
     "start_time": "2022-08-28T14:28:10.631148",
     "status": "completed"
    },
    "tags": []
   },
   "source": [
    "## S-PrediXcan tissue models"
   ]
  },
  {
   "cell_type": "code",
   "execution_count": 15,
   "id": "780611d9-77c8-405f-90a4-f271f7b09397",
   "metadata": {
    "execution": {
     "iopub.execute_input": "2022-08-28T14:28:10.698487Z",
     "iopub.status.busy": "2022-08-28T14:28:10.698111Z",
     "iopub.status.idle": "2022-08-28T14:28:11.644980Z",
     "shell.execute_reply": "2022-08-28T14:28:11.644495Z"
    },
    "papermill": {
     "duration": 0.965361,
     "end_time": "2022-08-28T14:28:11.646765",
     "exception": false,
     "start_time": "2022-08-28T14:28:10.681404",
     "status": "completed"
    },
    "tags": []
   },
   "outputs": [],
   "source": [
    "spredixcan_genes_models = pd.read_pickle(OUTPUT_DIR_BASE / \"gene_tissues.pkl\")"
   ]
  },
  {
   "cell_type": "code",
   "execution_count": 16,
   "id": "726dd1f6-9557-4225-91fa-b3b879ea96e1",
   "metadata": {
    "execution": {
     "iopub.execute_input": "2022-08-28T14:28:11.669252Z",
     "iopub.status.busy": "2022-08-28T14:28:11.669041Z",
     "iopub.status.idle": "2022-08-28T14:28:11.732293Z",
     "shell.execute_reply": "2022-08-28T14:28:11.731362Z"
    },
    "papermill": {
     "duration": 0.077389,
     "end_time": "2022-08-28T14:28:11.734643",
     "exception": false,
     "start_time": "2022-08-28T14:28:11.657254",
     "status": "completed"
    },
    "tags": []
   },
   "outputs": [
    {
     "data": {
      "text/plain": [
       "(6442, 9)"
      ]
     },
     "execution_count": 16,
     "metadata": {},
     "output_type": "execute_result"
    }
   ],
   "source": [
    "spredixcan_genes_models.shape"
   ]
  },
  {
   "cell_type": "code",
   "execution_count": 17,
   "id": "944a1b48-222c-4eb0-b252-b9de2cbca215",
   "metadata": {
    "execution": {
     "iopub.execute_input": "2022-08-28T14:28:11.797070Z",
     "iopub.status.busy": "2022-08-28T14:28:11.796651Z",
     "iopub.status.idle": "2022-08-28T14:28:12.848468Z",
     "shell.execute_reply": "2022-08-28T14:28:12.847516Z"
    },
    "papermill": {
     "duration": 1.092599,
     "end_time": "2022-08-28T14:28:12.851387",
     "exception": false,
     "start_time": "2022-08-28T14:28:11.758788",
     "status": "completed"
    },
    "tags": []
   },
   "outputs": [
    {
     "data": {
      "text/html": [
       "<div>\n",
       "<style scoped>\n",
       "    .dataframe tbody tr th:only-of-type {\n",
       "        vertical-align: middle;\n",
       "    }\n",
       "\n",
       "    .dataframe tbody tr th {\n",
       "        vertical-align: top;\n",
       "    }\n",
       "\n",
       "    .dataframe thead th {\n",
       "        text-align: right;\n",
       "    }\n",
       "</style>\n",
       "<table border=\"1\" class=\"dataframe\">\n",
       "  <thead>\n",
       "    <tr style=\"text-align: right;\">\n",
       "      <th></th>\n",
       "      <th>gene_name</th>\n",
       "      <th>tissue</th>\n",
       "      <th>n_tissues</th>\n",
       "      <th>tissues_pc_variances</th>\n",
       "      <th>tissues_variances</th>\n",
       "      <th>n_snps_used_sum</th>\n",
       "      <th>n_snps_in_model_sum</th>\n",
       "      <th>unique_n_snps_in_model</th>\n",
       "      <th>unique_n_snps_used</th>\n",
       "    </tr>\n",
       "    <tr>\n",
       "      <th>gene_id</th>\n",
       "      <th></th>\n",
       "      <th></th>\n",
       "      <th></th>\n",
       "      <th></th>\n",
       "      <th></th>\n",
       "      <th></th>\n",
       "      <th></th>\n",
       "      <th></th>\n",
       "      <th></th>\n",
       "    </tr>\n",
       "  </thead>\n",
       "  <tbody>\n",
       "    <tr>\n",
       "      <th>ENSG00000000419</th>\n",
       "      <td>DPM1</td>\n",
       "      <td>(Brain_Hypothalamus, Brain_Substantia_nigra)</td>\n",
       "      <td>2</td>\n",
       "      <td>[1.0442398458252409, 0.9557601541747592]</td>\n",
       "      <td>{'Brain_Hypothalamus': 0.013162153504206677, '...</td>\n",
       "      <td>2</td>\n",
       "      <td>2</td>\n",
       "      <td>2</td>\n",
       "      <td>2</td>\n",
       "    </tr>\n",
       "    <tr>\n",
       "      <th>ENSG00000000938</th>\n",
       "      <td>FGR</td>\n",
       "      <td>(Brain_Caudate_basal_ganglia, Liver, Artery_Ti...</td>\n",
       "      <td>36</td>\n",
       "      <td>[31.63266933637127, 2.0783677518511445, 1.2716...</td>\n",
       "      <td>{'Muscle_Skeletal': 0.011422007299369654, 'Liv...</td>\n",
       "      <td>40</td>\n",
       "      <td>40</td>\n",
       "      <td>5</td>\n",
       "      <td>5</td>\n",
       "    </tr>\n",
       "    <tr>\n",
       "      <th>ENSG00000000971</th>\n",
       "      <td>CFH</td>\n",
       "      <td>(Brain_Caudate_basal_ganglia, Heart_Atrial_App...</td>\n",
       "      <td>34</td>\n",
       "      <td>[21.56076992568329, 7.310170987045466, 1.83778...</td>\n",
       "      <td>{'Testis': 0.004542368000299983, 'Heart_Atrial...</td>\n",
       "      <td>44</td>\n",
       "      <td>44</td>\n",
       "      <td>12</td>\n",
       "      <td>12</td>\n",
       "    </tr>\n",
       "    <tr>\n",
       "      <th>ENSG00000001084</th>\n",
       "      <td>GCLC</td>\n",
       "      <td>(Heart_Atrial_Appendage, Artery_Tibial, Skin_N...</td>\n",
       "      <td>32</td>\n",
       "      <td>[21.291939080546527, 4.699418748743194, 2.2489...</td>\n",
       "      <td>{'Muscle_Skeletal': 0.0052333336977804, 'Testi...</td>\n",
       "      <td>46</td>\n",
       "      <td>46</td>\n",
       "      <td>23</td>\n",
       "      <td>23</td>\n",
       "    </tr>\n",
       "    <tr>\n",
       "      <th>ENSG00000001167</th>\n",
       "      <td>NFYA</td>\n",
       "      <td>(Brain_Caudate_basal_ganglia, Heart_Atrial_App...</td>\n",
       "      <td>40</td>\n",
       "      <td>[37.335660295497696, 1.391401960453836]</td>\n",
       "      <td>{'Muscle_Skeletal': 0.01510698551052935, 'Test...</td>\n",
       "      <td>47</td>\n",
       "      <td>48</td>\n",
       "      <td>14</td>\n",
       "      <td>13</td>\n",
       "    </tr>\n",
       "  </tbody>\n",
       "</table>\n",
       "</div>"
      ],
      "text/plain": [
       "                gene_name                                             tissue  \\\n",
       "gene_id                                                                        \n",
       "ENSG00000000419      DPM1       (Brain_Hypothalamus, Brain_Substantia_nigra)   \n",
       "ENSG00000000938       FGR  (Brain_Caudate_basal_ganglia, Liver, Artery_Ti...   \n",
       "ENSG00000000971       CFH  (Brain_Caudate_basal_ganglia, Heart_Atrial_App...   \n",
       "ENSG00000001084      GCLC  (Heart_Atrial_Appendage, Artery_Tibial, Skin_N...   \n",
       "ENSG00000001167      NFYA  (Brain_Caudate_basal_ganglia, Heart_Atrial_App...   \n",
       "\n",
       "                 n_tissues                               tissues_pc_variances  \\\n",
       "gene_id                                                                         \n",
       "ENSG00000000419          2           [1.0442398458252409, 0.9557601541747592]   \n",
       "ENSG00000000938         36  [31.63266933637127, 2.0783677518511445, 1.2716...   \n",
       "ENSG00000000971         34  [21.56076992568329, 7.310170987045466, 1.83778...   \n",
       "ENSG00000001084         32  [21.291939080546527, 4.699418748743194, 2.2489...   \n",
       "ENSG00000001167         40            [37.335660295497696, 1.391401960453836]   \n",
       "\n",
       "                                                 tissues_variances  \\\n",
       "gene_id                                                              \n",
       "ENSG00000000419  {'Brain_Hypothalamus': 0.013162153504206677, '...   \n",
       "ENSG00000000938  {'Muscle_Skeletal': 0.011422007299369654, 'Liv...   \n",
       "ENSG00000000971  {'Testis': 0.004542368000299983, 'Heart_Atrial...   \n",
       "ENSG00000001084  {'Muscle_Skeletal': 0.0052333336977804, 'Testi...   \n",
       "ENSG00000001167  {'Muscle_Skeletal': 0.01510698551052935, 'Test...   \n",
       "\n",
       "                 n_snps_used_sum  n_snps_in_model_sum  unique_n_snps_in_model  \\\n",
       "gene_id                                                                         \n",
       "ENSG00000000419                2                    2                       2   \n",
       "ENSG00000000938               40                   40                       5   \n",
       "ENSG00000000971               44                   44                      12   \n",
       "ENSG00000001084               46                   46                      23   \n",
       "ENSG00000001167               47                   48                      14   \n",
       "\n",
       "                 unique_n_snps_used  \n",
       "gene_id                              \n",
       "ENSG00000000419                   2  \n",
       "ENSG00000000938                   5  \n",
       "ENSG00000000971                  12  \n",
       "ENSG00000001084                  23  \n",
       "ENSG00000001167                  13  "
      ]
     },
     "execution_count": 17,
     "metadata": {},
     "output_type": "execute_result"
    }
   ],
   "source": [
    "spredixcan_genes_models.head()"
   ]
  },
  {
   "cell_type": "code",
   "execution_count": 18,
   "id": "d1c11bb1-be0b-4f40-b360-633d6827109f",
   "metadata": {
    "execution": {
     "iopub.execute_input": "2022-08-28T14:28:12.896525Z",
     "iopub.status.busy": "2022-08-28T14:28:12.896146Z",
     "iopub.status.idle": "2022-08-28T14:28:12.999492Z",
     "shell.execute_reply": "2022-08-28T14:28:12.998228Z"
    },
    "papermill": {
     "duration": 0.128112,
     "end_time": "2022-08-28T14:28:13.003569",
     "exception": false,
     "start_time": "2022-08-28T14:28:12.875457",
     "status": "completed"
    },
    "tags": []
   },
   "outputs": [],
   "source": [
    "assert spredixcan_genes_models.index.is_unique"
   ]
  },
  {
   "cell_type": "markdown",
   "id": "a5b5092c-a13e-47c4-a92a-480fcc08f3ae",
   "metadata": {
    "papermill": {
     "duration": 0.025023,
     "end_time": "2022-08-28T14:28:13.058358",
     "exception": false,
     "start_time": "2022-08-28T14:28:13.033335",
     "status": "completed"
    },
    "tags": []
   },
   "source": [
    "## Gene info"
   ]
  },
  {
   "cell_type": "code",
   "execution_count": 19,
   "id": "7d6bb224-88e9-4358-ac10-43a41d92cdad",
   "metadata": {
    "execution": {
     "iopub.execute_input": "2022-08-28T14:28:13.107062Z",
     "iopub.status.busy": "2022-08-28T14:28:13.106674Z",
     "iopub.status.idle": "2022-08-28T14:28:13.241593Z",
     "shell.execute_reply": "2022-08-28T14:28:13.240370Z"
    },
    "papermill": {
     "duration": 0.16325,
     "end_time": "2022-08-28T14:28:13.245469",
     "exception": false,
     "start_time": "2022-08-28T14:28:13.082219",
     "status": "completed"
    },
    "tags": []
   },
   "outputs": [],
   "source": [
    "genes_info = pd.read_pickle(OUTPUT_DIR_BASE / \"genes_info.pkl\")"
   ]
  },
  {
   "cell_type": "code",
   "execution_count": 20,
   "id": "9e32abfa-546d-483e-8c18-d526e9e05903",
   "metadata": {
    "execution": {
     "iopub.execute_input": "2022-08-28T14:28:13.301634Z",
     "iopub.status.busy": "2022-08-28T14:28:13.301213Z",
     "iopub.status.idle": "2022-08-28T14:28:13.340074Z",
     "shell.execute_reply": "2022-08-28T14:28:13.339236Z"
    },
    "papermill": {
     "duration": 0.070015,
     "end_time": "2022-08-28T14:28:13.342545",
     "exception": false,
     "start_time": "2022-08-28T14:28:13.272530",
     "status": "completed"
    },
    "tags": []
   },
   "outputs": [
    {
     "data": {
      "text/plain": [
       "(6442, 7)"
      ]
     },
     "execution_count": 20,
     "metadata": {},
     "output_type": "execute_result"
    }
   ],
   "source": [
    "genes_info.shape"
   ]
  },
  {
   "cell_type": "code",
   "execution_count": 21,
   "id": "d16c3e92-85ec-468a-9a56-e25a9774a1cb",
   "metadata": {
    "execution": {
     "iopub.execute_input": "2022-08-28T14:28:13.392002Z",
     "iopub.status.busy": "2022-08-28T14:28:13.391675Z",
     "iopub.status.idle": "2022-08-28T14:28:13.432216Z",
     "shell.execute_reply": "2022-08-28T14:28:13.431416Z"
    },
    "papermill": {
     "duration": 0.067613,
     "end_time": "2022-08-28T14:28:13.434301",
     "exception": false,
     "start_time": "2022-08-28T14:28:13.366688",
     "status": "completed"
    },
    "tags": []
   },
   "outputs": [
    {
     "data": {
      "text/html": [
       "<div>\n",
       "<style scoped>\n",
       "    .dataframe tbody tr th:only-of-type {\n",
       "        vertical-align: middle;\n",
       "    }\n",
       "\n",
       "    .dataframe tbody tr th {\n",
       "        vertical-align: top;\n",
       "    }\n",
       "\n",
       "    .dataframe thead th {\n",
       "        text-align: right;\n",
       "    }\n",
       "</style>\n",
       "<table border=\"1\" class=\"dataframe\">\n",
       "  <thead>\n",
       "    <tr style=\"text-align: right;\">\n",
       "      <th></th>\n",
       "      <th>name</th>\n",
       "      <th>id</th>\n",
       "      <th>chr</th>\n",
       "      <th>band</th>\n",
       "      <th>start_position</th>\n",
       "      <th>end_position</th>\n",
       "      <th>gene_length</th>\n",
       "    </tr>\n",
       "  </thead>\n",
       "  <tbody>\n",
       "    <tr>\n",
       "      <th>0</th>\n",
       "      <td>SNAPC3</td>\n",
       "      <td>ENSG00000164975</td>\n",
       "      <td>9</td>\n",
       "      <td>9p22.3</td>\n",
       "      <td>15422704</td>\n",
       "      <td>15465953</td>\n",
       "      <td>43249</td>\n",
       "    </tr>\n",
       "    <tr>\n",
       "      <th>1</th>\n",
       "      <td>SEC13</td>\n",
       "      <td>ENSG00000157020</td>\n",
       "      <td>3</td>\n",
       "      <td>3p25.3</td>\n",
       "      <td>10293131</td>\n",
       "      <td>10321112</td>\n",
       "      <td>27981</td>\n",
       "    </tr>\n",
       "    <tr>\n",
       "      <th>2</th>\n",
       "      <td>PTH2R</td>\n",
       "      <td>ENSG00000144407</td>\n",
       "      <td>2</td>\n",
       "      <td>2q34</td>\n",
       "      <td>208359714</td>\n",
       "      <td>208854503</td>\n",
       "      <td>494789</td>\n",
       "    </tr>\n",
       "    <tr>\n",
       "      <th>3</th>\n",
       "      <td>MDC1</td>\n",
       "      <td>ENSG00000137337</td>\n",
       "      <td>6</td>\n",
       "      <td>6p21.33</td>\n",
       "      <td>30699807</td>\n",
       "      <td>30717447</td>\n",
       "      <td>17640</td>\n",
       "    </tr>\n",
       "    <tr>\n",
       "      <th>4</th>\n",
       "      <td>TNFRSF6B</td>\n",
       "      <td>ENSG00000243509</td>\n",
       "      <td>20</td>\n",
       "      <td>20q13.33</td>\n",
       "      <td>63696652</td>\n",
       "      <td>63698684</td>\n",
       "      <td>2032</td>\n",
       "    </tr>\n",
       "  </tbody>\n",
       "</table>\n",
       "</div>"
      ],
      "text/plain": [
       "       name               id  chr      band  start_position  end_position  \\\n",
       "0    SNAPC3  ENSG00000164975    9    9p22.3        15422704      15465953   \n",
       "1     SEC13  ENSG00000157020    3    3p25.3        10293131      10321112   \n",
       "2     PTH2R  ENSG00000144407    2      2q34       208359714     208854503   \n",
       "3      MDC1  ENSG00000137337    6   6p21.33        30699807      30717447   \n",
       "4  TNFRSF6B  ENSG00000243509   20  20q13.33        63696652      63698684   \n",
       "\n",
       "   gene_length  \n",
       "0        43249  \n",
       "1        27981  \n",
       "2       494789  \n",
       "3        17640  \n",
       "4         2032  "
      ]
     },
     "execution_count": 21,
     "metadata": {},
     "output_type": "execute_result"
    }
   ],
   "source": [
    "genes_info.head()"
   ]
  },
  {
   "cell_type": "markdown",
   "id": "d3843e06",
   "metadata": {
    "papermill": {
     "duration": 0.017474,
     "end_time": "2022-08-28T14:28:13.473606",
     "exception": false,
     "start_time": "2022-08-28T14:28:13.456132",
     "status": "completed"
    },
    "tags": []
   },
   "source": [
    "# Compute correlations"
   ]
  },
  {
   "cell_type": "code",
   "execution_count": 22,
   "id": "cb859c15-d1f3-4006-a74c-2b83c0db9611",
   "metadata": {
    "execution": {
     "iopub.execute_input": "2022-08-28T14:28:13.510228Z",
     "iopub.status.busy": "2022-08-28T14:28:13.509950Z",
     "iopub.status.idle": "2022-08-28T14:28:13.542125Z",
     "shell.execute_reply": "2022-08-28T14:28:13.541424Z"
    },
    "papermill": {
     "duration": 0.052032,
     "end_time": "2022-08-28T14:28:13.544005",
     "exception": false,
     "start_time": "2022-08-28T14:28:13.491973",
     "status": "completed"
    },
    "tags": []
   },
   "outputs": [
    {
     "data": {
      "text/plain": [
       "PosixPath('/project/ritchie20/projects/phenoplier/base/results/gls/gene_corrs/cohorts/1000g_eur/gtex_v8/mashr/by_chr/gene_corrs-chr8.pkl')"
      ]
     },
     "metadata": {},
     "output_type": "display_data"
    }
   ],
   "source": [
    "output_dir = OUTPUT_DIR_BASE / \"by_chr\"\n",
    "output_dir.mkdir(exist_ok=True, parents=True)\n",
    "output_file = output_dir / f\"gene_corrs-chr{CHROMOSOME}.pkl\"\n",
    "display(output_file)"
   ]
  },
  {
   "cell_type": "code",
   "execution_count": 23,
   "id": "aa674fe4-6794-4eed-98fa-32b39d1d4ace",
   "metadata": {
    "execution": {
     "iopub.execute_input": "2022-08-28T14:28:13.578643Z",
     "iopub.status.busy": "2022-08-28T14:28:13.578378Z",
     "iopub.status.idle": "2022-08-28T14:28:13.602589Z",
     "shell.execute_reply": "2022-08-28T14:28:13.601970Z"
    },
    "papermill": {
     "duration": 0.0424,
     "end_time": "2022-08-28T14:28:13.604477",
     "exception": false,
     "start_time": "2022-08-28T14:28:13.562077",
     "status": "completed"
    },
    "tags": []
   },
   "outputs": [],
   "source": [
    "warnings.filterwarnings(\"error\")"
   ]
  },
  {
   "cell_type": "code",
   "execution_count": 24,
   "id": "44d5450b-3baf-43f1-9e2e-4b06f1a785f8",
   "metadata": {
    "execution": {
     "iopub.execute_input": "2022-08-28T14:28:13.639502Z",
     "iopub.status.busy": "2022-08-28T14:28:13.639253Z",
     "iopub.status.idle": "2022-08-28T14:28:13.662895Z",
     "shell.execute_reply": "2022-08-28T14:28:13.662100Z"
    },
    "papermill": {
     "duration": 0.042945,
     "end_time": "2022-08-28T14:28:13.664712",
     "exception": false,
     "start_time": "2022-08-28T14:28:13.621767",
     "status": "completed"
    },
    "tags": []
   },
   "outputs": [],
   "source": [
    "# standard checks\n",
    "all_chrs = genes_info[\"chr\"].dropna().unique()\n",
    "assert all_chrs.shape[0] == 22\n",
    "\n",
    "# select chromosome given by the user\n",
    "assert CHROMOSOME in all_chrs"
   ]
  },
  {
   "cell_type": "code",
   "execution_count": 25,
   "id": "2d7c043c-92a7-4d35-991b-fa69ac1e0268",
   "metadata": {
    "execution": {
     "iopub.execute_input": "2022-08-28T14:28:13.703256Z",
     "iopub.status.busy": "2022-08-28T14:28:13.703023Z",
     "iopub.status.idle": "2022-08-28T14:28:13.775084Z",
     "shell.execute_reply": "2022-08-28T14:28:13.773957Z"
    },
    "papermill": {
     "duration": 0.09777,
     "end_time": "2022-08-28T14:28:13.778663",
     "exception": false,
     "start_time": "2022-08-28T14:28:13.680893",
     "status": "completed"
    },
    "tags": []
   },
   "outputs": [
    {
     "name": "stdout",
     "output_type": "stream",
     "text": [
      "Number of genes in chromosome: 222\n"
     ]
    }
   ],
   "source": [
    "# run only on the chromosome specified\n",
    "all_chrs = [CHROMOSOME]\n",
    "genes_chr = genes_info[genes_info[\"chr\"] == CHROMOSOME]\n",
    "\n",
    "# For testing purposes\n",
    "# genes_chr = genes_chr.sample(n=20)\n",
    "\n",
    "print(f\"Number of genes in chromosome: {genes_chr.shape[0]}\", flush=True)"
   ]
  },
  {
   "cell_type": "code",
   "execution_count": 26,
   "id": "916015d8-2979-46d3-a9b9-1cf5a0932c6a",
   "metadata": {
    "execution": {
     "iopub.execute_input": "2022-08-28T14:28:13.832979Z",
     "iopub.status.busy": "2022-08-28T14:28:13.832562Z",
     "iopub.status.idle": "2022-08-28T14:28:13.872595Z",
     "shell.execute_reply": "2022-08-28T14:28:13.871754Z"
    },
    "papermill": {
     "duration": 0.069666,
     "end_time": "2022-08-28T14:28:13.875268",
     "exception": false,
     "start_time": "2022-08-28T14:28:13.805602",
     "status": "completed"
    },
    "tags": []
   },
   "outputs": [],
   "source": [
    "# sort genes by starting position to make visualizations better later\n",
    "genes_chr = genes_chr.sort_values(\"start_position\")"
   ]
  },
  {
   "cell_type": "code",
   "execution_count": 27,
   "id": "a38aa74a-8ad3-47f6-8ef9-56be0e011774",
   "metadata": {
    "execution": {
     "iopub.execute_input": "2022-08-28T14:28:13.921510Z",
     "iopub.status.busy": "2022-08-28T14:28:13.921171Z",
     "iopub.status.idle": "2022-08-28T14:28:13.951725Z",
     "shell.execute_reply": "2022-08-28T14:28:13.951040Z"
    },
    "papermill": {
     "duration": 0.056942,
     "end_time": "2022-08-28T14:28:13.954004",
     "exception": false,
     "start_time": "2022-08-28T14:28:13.897062",
     "status": "completed"
    },
    "tags": []
   },
   "outputs": [],
   "source": [
    "gene_chr_objs = [Gene(ensembl_id=gene_id) for gene_id in genes_chr[\"id\"]]"
   ]
  },
  {
   "cell_type": "code",
   "execution_count": 28,
   "id": "570f974f-13c3-42b6-ad3a-ce99ca885c1a",
   "metadata": {
    "execution": {
     "iopub.execute_input": "2022-08-28T14:28:13.992804Z",
     "iopub.status.busy": "2022-08-28T14:28:13.992523Z",
     "iopub.status.idle": "2022-08-28T14:28:14.020611Z",
     "shell.execute_reply": "2022-08-28T14:28:14.019819Z"
    },
    "papermill": {
     "duration": 0.049531,
     "end_time": "2022-08-28T14:28:14.022680",
     "exception": false,
     "start_time": "2022-08-28T14:28:13.973149",
     "status": "completed"
    },
    "tags": []
   },
   "outputs": [
    {
     "name": "stdout",
     "output_type": "stream",
     "text": [
      "Number of gene combinations: 24531\n"
     ]
    }
   ],
   "source": [
    "n = len(gene_chr_objs)\n",
    "n_comb = int(n * (n - 1) / 2.0)\n",
    "print(f\"Number of gene combinations: {n_comb}\", flush=True)"
   ]
  },
  {
   "cell_type": "code",
   "execution_count": 29,
   "id": "cdbb90a1",
   "metadata": {
    "execution": {
     "iopub.execute_input": "2022-08-28T14:28:14.068514Z",
     "iopub.status.busy": "2022-08-28T14:28:14.068195Z",
     "iopub.status.idle": "2022-08-28T14:51:47.271832Z",
     "shell.execute_reply": "2022-08-28T14:51:47.270190Z"
    },
    "papermill": {
     "duration": 1413.230912,
     "end_time": "2022-08-28T14:51:47.275413",
     "exception": false,
     "start_time": "2022-08-28T14:28:14.044501",
     "status": "completed"
    },
    "tags": []
   },
   "outputs": [
    {
     "name": "stderr",
     "output_type": "stream",
     "text": [
      "ENSG00000196150 / ENSG00000196150: : 24753it [23:32, 17.52it/s]\n"
     ]
    },
    {
     "data": {
      "text/plain": [
       "PosixPath('/project/ritchie20/projects/phenoplier/base/results/gls/gene_corrs/cohorts/1000g_eur/gtex_v8/mashr/by_chr/gene_corrs-chr8.pkl')"
      ]
     },
     "metadata": {},
     "output_type": "display_data"
    }
   ],
   "source": [
    "gene_corrs = []\n",
    "gene_corrs_data = np.full(\n",
    "    (n, n),\n",
    "    np.nan,\n",
    "    dtype=np.float64,\n",
    ")\n",
    "\n",
    "i = 0\n",
    "with tqdm(ncols=100, total=n_comb) as pbar:\n",
    "    for gene1_idx in range(0, len(gene_chr_objs)):\n",
    "        gene1_obj = gene_chr_objs[gene1_idx]\n",
    "        gene1_tissues = spredixcan_genes_models.loc[gene1_obj.ensembl_id, \"tissue\"]\n",
    "\n",
    "        for gene2_idx in range(gene1_idx, len(gene_chr_objs)):\n",
    "            gene2_obj = gene_chr_objs[gene2_idx]\n",
    "            gene2_tissues = spredixcan_genes_models.loc[gene2_obj.ensembl_id, \"tissue\"]\n",
    "\n",
    "            pbar.set_description(f\"{gene1_obj.ensembl_id} / {gene2_obj.ensembl_id}\")\n",
    "\n",
    "            try:\n",
    "                r = gene1_obj.get_ssm_correlation(\n",
    "                    other_gene=gene2_obj,\n",
    "                    tissues=gene1_tissues,\n",
    "                    other_tissues=gene2_tissues,\n",
    "                    snps_subset=gwas_variants_ids_set,\n",
    "                    condition_number=SMULTIXCAN_CONDITION_NUMBER,\n",
    "                    reference_panel=REFERENCE_PANEL,\n",
    "                    model_type=EQTL_MODEL,\n",
    "                    use_within_distance=COMPUTE_CORRELATIONS_WITHIN_DISTANCE,\n",
    "                )\n",
    "\n",
    "                if r is None:\n",
    "                    # if r is None, it's very likely because:\n",
    "                    #  * one of the genes has no prediction models\n",
    "                    #  * all the SNPs predictors for the gene are not present in the reference\n",
    "                    #    panel\n",
    "\n",
    "                    r = 0.0\n",
    "\n",
    "                gene_corrs.append(r)\n",
    "\n",
    "                gene_corrs_data[gene1_idx, gene2_idx] = r\n",
    "                gene_corrs_data[gene2_idx, gene1_idx] = r\n",
    "            except Warning as e:\n",
    "                if not DEBUG_MODE:\n",
    "                    raise e\n",
    "\n",
    "                print(\n",
    "                    f\"RuntimeWarning for genes {gene1_obj.ensembl_id} and {gene2_obj.ensembl_id}\",\n",
    "                    flush=True,\n",
    "                )\n",
    "                print(traceback.format_exc(), flush=True)\n",
    "\n",
    "                gene_corrs.append(np.nan)\n",
    "            except Exception as e:\n",
    "                if not DEBUG_MODE:\n",
    "                    raise e\n",
    "\n",
    "                print(\n",
    "                    f\"Exception for genes {gene1_obj.ensembl_id} and {gene2_obj.ensembl_id}\",\n",
    "                    flush=True,\n",
    "                )\n",
    "                print(traceback.format_exc(), flush=True)\n",
    "\n",
    "                gene_corrs.append(np.nan)\n",
    "\n",
    "            pbar.update(1)\n",
    "\n",
    "# create a pandas series\n",
    "gene_corrs_flat = pd.Series(gene_corrs)\n",
    "\n",
    "# save\n",
    "# FIXME: consider saving only the condenced matrix here. See here for\n",
    "# more details: https://github.com/greenelab/phenoplier/pull/38#discussion_r634600813\n",
    "# gene_corrs_data = squareform(np.array(gene_corrs, dtype=np.float64))\n",
    "# np.fill_diagonal(gene_corrs_data, 1.0)\n",
    "\n",
    "gene_chr_ids = [g.ensembl_id for g in gene_chr_objs]\n",
    "gene_corrs_df = pd.DataFrame(\n",
    "    data=gene_corrs_data,\n",
    "    index=gene_chr_ids,\n",
    "    columns=gene_chr_ids,\n",
    ")\n",
    "\n",
    "output_dir.mkdir(exist_ok=True, parents=True)\n",
    "display(output_file)\n",
    "\n",
    "gene_corrs_df.to_pickle(output_file)"
   ]
  },
  {
   "cell_type": "markdown",
   "id": "faa67b51-5373-470f-aa72-2ded53fa6dfe",
   "metadata": {
    "papermill": {
     "duration": 1.185095,
     "end_time": "2022-08-28T14:51:49.689331",
     "exception": false,
     "start_time": "2022-08-28T14:51:48.504236",
     "status": "completed"
    },
    "tags": []
   },
   "source": [
    "# Testing"
   ]
  },
  {
   "cell_type": "code",
   "execution_count": 30,
   "id": "14f7d046-4b55-4896-a56b-990127bcc388",
   "metadata": {
    "execution": {
     "iopub.execute_input": "2022-08-28T14:51:51.940954Z",
     "iopub.status.busy": "2022-08-28T14:51:51.940702Z",
     "iopub.status.idle": "2022-08-28T14:51:52.231338Z",
     "shell.execute_reply": "2022-08-28T14:51:52.230111Z"
    },
    "papermill": {
     "duration": 1.419928,
     "end_time": "2022-08-28T14:51:52.234992",
     "exception": false,
     "start_time": "2022-08-28T14:51:50.815064",
     "status": "completed"
    },
    "tags": []
   },
   "outputs": [
    {
     "data": {
      "text/plain": [
       "(222, 222)"
      ]
     },
     "execution_count": 30,
     "metadata": {},
     "output_type": "execute_result"
    }
   ],
   "source": [
    "gene_corrs_df.shape"
   ]
  },
  {
   "cell_type": "code",
   "execution_count": 31,
   "id": "c7d15414-3297-4537-a7c6-7588c0baeb75",
   "metadata": {
    "execution": {
     "iopub.execute_input": "2022-08-28T14:51:54.633992Z",
     "iopub.status.busy": "2022-08-28T14:51:54.633757Z",
     "iopub.status.idle": "2022-08-28T14:51:54.670022Z",
     "shell.execute_reply": "2022-08-28T14:51:54.669501Z"
    },
    "papermill": {
     "duration": 1.208193,
     "end_time": "2022-08-28T14:51:54.671201",
     "exception": false,
     "start_time": "2022-08-28T14:51:53.463008",
     "status": "completed"
    },
    "tags": []
   },
   "outputs": [
    {
     "data": {
      "text/html": [
       "<div>\n",
       "<style scoped>\n",
       "    .dataframe tbody tr th:only-of-type {\n",
       "        vertical-align: middle;\n",
       "    }\n",
       "\n",
       "    .dataframe tbody tr th {\n",
       "        vertical-align: top;\n",
       "    }\n",
       "\n",
       "    .dataframe thead th {\n",
       "        text-align: right;\n",
       "    }\n",
       "</style>\n",
       "<table border=\"1\" class=\"dataframe\">\n",
       "  <thead>\n",
       "    <tr style=\"text-align: right;\">\n",
       "      <th></th>\n",
       "      <th>ENSG00000172748</th>\n",
       "      <th>ENSG00000182372</th>\n",
       "      <th>ENSG00000104728</th>\n",
       "      <th>ENSG00000036448</th>\n",
       "      <th>ENSG00000091879</th>\n",
       "      <th>ENSG00000155189</th>\n",
       "      <th>ENSG00000164821</th>\n",
       "      <th>ENSG00000253958</th>\n",
       "      <th>ENSG00000147324</th>\n",
       "      <th>ENSG00000173281</th>\n",
       "      <th>...</th>\n",
       "      <th>ENSG00000071894</th>\n",
       "      <th>ENSG00000147804</th>\n",
       "      <th>ENSG00000160948</th>\n",
       "      <th>ENSG00000160949</th>\n",
       "      <th>ENSG00000187954</th>\n",
       "      <th>ENSG00000160972</th>\n",
       "      <th>ENSG00000167701</th>\n",
       "      <th>ENSG00000161016</th>\n",
       "      <th>ENSG00000197363</th>\n",
       "      <th>ENSG00000196150</th>\n",
       "    </tr>\n",
       "  </thead>\n",
       "  <tbody>\n",
       "    <tr>\n",
       "      <th>ENSG00000172748</th>\n",
       "      <td>1.000000</td>\n",
       "      <td>0.008203</td>\n",
       "      <td>0.011613</td>\n",
       "      <td>0.010156</td>\n",
       "      <td>0.008627</td>\n",
       "      <td>0.009669</td>\n",
       "      <td>0.008393</td>\n",
       "      <td>0.005253</td>\n",
       "      <td>0.011801</td>\n",
       "      <td>0.009020</td>\n",
       "      <td>...</td>\n",
       "      <td>0.001993</td>\n",
       "      <td>0.006521</td>\n",
       "      <td>0.004225</td>\n",
       "      <td>0.006685</td>\n",
       "      <td>0.004219</td>\n",
       "      <td>0.006528</td>\n",
       "      <td>0.004982</td>\n",
       "      <td>0.003141</td>\n",
       "      <td>0.005833</td>\n",
       "      <td>0.004734</td>\n",
       "    </tr>\n",
       "    <tr>\n",
       "      <th>ENSG00000182372</th>\n",
       "      <td>0.008203</td>\n",
       "      <td>1.000000</td>\n",
       "      <td>0.189051</td>\n",
       "      <td>0.009172</td>\n",
       "      <td>0.007909</td>\n",
       "      <td>0.006291</td>\n",
       "      <td>0.007841</td>\n",
       "      <td>0.004648</td>\n",
       "      <td>0.007929</td>\n",
       "      <td>0.008676</td>\n",
       "      <td>...</td>\n",
       "      <td>0.001879</td>\n",
       "      <td>0.005246</td>\n",
       "      <td>0.000381</td>\n",
       "      <td>0.003757</td>\n",
       "      <td>0.003516</td>\n",
       "      <td>0.008463</td>\n",
       "      <td>0.003099</td>\n",
       "      <td>0.000870</td>\n",
       "      <td>0.004912</td>\n",
       "      <td>0.004808</td>\n",
       "    </tr>\n",
       "    <tr>\n",
       "      <th>ENSG00000104728</th>\n",
       "      <td>0.011613</td>\n",
       "      <td>0.189051</td>\n",
       "      <td>1.000000</td>\n",
       "      <td>0.029011</td>\n",
       "      <td>0.014948</td>\n",
       "      <td>0.016137</td>\n",
       "      <td>0.014452</td>\n",
       "      <td>0.007752</td>\n",
       "      <td>0.012311</td>\n",
       "      <td>0.012879</td>\n",
       "      <td>...</td>\n",
       "      <td>0.006652</td>\n",
       "      <td>0.012688</td>\n",
       "      <td>0.006217</td>\n",
       "      <td>0.008066</td>\n",
       "      <td>0.012269</td>\n",
       "      <td>0.010834</td>\n",
       "      <td>0.011402</td>\n",
       "      <td>0.004419</td>\n",
       "      <td>0.010505</td>\n",
       "      <td>0.010042</td>\n",
       "    </tr>\n",
       "    <tr>\n",
       "      <th>ENSG00000036448</th>\n",
       "      <td>0.010156</td>\n",
       "      <td>0.009172</td>\n",
       "      <td>0.029011</td>\n",
       "      <td>1.000000</td>\n",
       "      <td>0.008107</td>\n",
       "      <td>0.010894</td>\n",
       "      <td>0.007994</td>\n",
       "      <td>0.005571</td>\n",
       "      <td>0.009629</td>\n",
       "      <td>0.005914</td>\n",
       "      <td>...</td>\n",
       "      <td>0.004426</td>\n",
       "      <td>0.008704</td>\n",
       "      <td>0.005407</td>\n",
       "      <td>0.004682</td>\n",
       "      <td>0.004497</td>\n",
       "      <td>0.007968</td>\n",
       "      <td>0.006094</td>\n",
       "      <td>0.001531</td>\n",
       "      <td>0.003576</td>\n",
       "      <td>0.005336</td>\n",
       "    </tr>\n",
       "    <tr>\n",
       "      <th>ENSG00000091879</th>\n",
       "      <td>0.008627</td>\n",
       "      <td>0.007909</td>\n",
       "      <td>0.014948</td>\n",
       "      <td>0.008107</td>\n",
       "      <td>1.000000</td>\n",
       "      <td>0.098748</td>\n",
       "      <td>0.032149</td>\n",
       "      <td>0.005437</td>\n",
       "      <td>0.011595</td>\n",
       "      <td>0.006861</td>\n",
       "      <td>...</td>\n",
       "      <td>0.004385</td>\n",
       "      <td>0.005745</td>\n",
       "      <td>0.003638</td>\n",
       "      <td>0.002782</td>\n",
       "      <td>0.004476</td>\n",
       "      <td>0.006157</td>\n",
       "      <td>0.007570</td>\n",
       "      <td>0.000583</td>\n",
       "      <td>0.001587</td>\n",
       "      <td>0.002434</td>\n",
       "    </tr>\n",
       "  </tbody>\n",
       "</table>\n",
       "<p>5 rows × 222 columns</p>\n",
       "</div>"
      ],
      "text/plain": [
       "                 ENSG00000172748  ENSG00000182372  ENSG00000104728  \\\n",
       "ENSG00000172748         1.000000         0.008203         0.011613   \n",
       "ENSG00000182372         0.008203         1.000000         0.189051   \n",
       "ENSG00000104728         0.011613         0.189051         1.000000   \n",
       "ENSG00000036448         0.010156         0.009172         0.029011   \n",
       "ENSG00000091879         0.008627         0.007909         0.014948   \n",
       "\n",
       "                 ENSG00000036448  ENSG00000091879  ENSG00000155189  \\\n",
       "ENSG00000172748         0.010156         0.008627         0.009669   \n",
       "ENSG00000182372         0.009172         0.007909         0.006291   \n",
       "ENSG00000104728         0.029011         0.014948         0.016137   \n",
       "ENSG00000036448         1.000000         0.008107         0.010894   \n",
       "ENSG00000091879         0.008107         1.000000         0.098748   \n",
       "\n",
       "                 ENSG00000164821  ENSG00000253958  ENSG00000147324  \\\n",
       "ENSG00000172748         0.008393         0.005253         0.011801   \n",
       "ENSG00000182372         0.007841         0.004648         0.007929   \n",
       "ENSG00000104728         0.014452         0.007752         0.012311   \n",
       "ENSG00000036448         0.007994         0.005571         0.009629   \n",
       "ENSG00000091879         0.032149         0.005437         0.011595   \n",
       "\n",
       "                 ENSG00000173281  ...  ENSG00000071894  ENSG00000147804  \\\n",
       "ENSG00000172748         0.009020  ...         0.001993         0.006521   \n",
       "ENSG00000182372         0.008676  ...         0.001879         0.005246   \n",
       "ENSG00000104728         0.012879  ...         0.006652         0.012688   \n",
       "ENSG00000036448         0.005914  ...         0.004426         0.008704   \n",
       "ENSG00000091879         0.006861  ...         0.004385         0.005745   \n",
       "\n",
       "                 ENSG00000160948  ENSG00000160949  ENSG00000187954  \\\n",
       "ENSG00000172748         0.004225         0.006685         0.004219   \n",
       "ENSG00000182372         0.000381         0.003757         0.003516   \n",
       "ENSG00000104728         0.006217         0.008066         0.012269   \n",
       "ENSG00000036448         0.005407         0.004682         0.004497   \n",
       "ENSG00000091879         0.003638         0.002782         0.004476   \n",
       "\n",
       "                 ENSG00000160972  ENSG00000167701  ENSG00000161016  \\\n",
       "ENSG00000172748         0.006528         0.004982         0.003141   \n",
       "ENSG00000182372         0.008463         0.003099         0.000870   \n",
       "ENSG00000104728         0.010834         0.011402         0.004419   \n",
       "ENSG00000036448         0.007968         0.006094         0.001531   \n",
       "ENSG00000091879         0.006157         0.007570         0.000583   \n",
       "\n",
       "                 ENSG00000197363  ENSG00000196150  \n",
       "ENSG00000172748         0.005833         0.004734  \n",
       "ENSG00000182372         0.004912         0.004808  \n",
       "ENSG00000104728         0.010505         0.010042  \n",
       "ENSG00000036448         0.003576         0.005336  \n",
       "ENSG00000091879         0.001587         0.002434  \n",
       "\n",
       "[5 rows x 222 columns]"
      ]
     },
     "execution_count": 31,
     "metadata": {},
     "output_type": "execute_result"
    }
   ],
   "source": [
    "gene_corrs_df.head()"
   ]
  },
  {
   "cell_type": "markdown",
   "id": "dad6603f-01c6-41fb-a6f6-241051207dd8",
   "metadata": {
    "papermill": {
     "duration": 1.174225,
     "end_time": "2022-08-28T14:51:56.993929",
     "exception": false,
     "start_time": "2022-08-28T14:51:55.819704",
     "status": "completed"
    },
    "tags": []
   },
   "source": [
    "## Standard checks and stats"
   ]
  },
  {
   "cell_type": "code",
   "execution_count": 32,
   "id": "286686af-1b7b-4440-8453-6bdcbd8de19c",
   "metadata": {
    "execution": {
     "iopub.execute_input": "2022-08-28T14:51:59.249354Z",
     "iopub.status.busy": "2022-08-28T14:51:59.249096Z",
     "iopub.status.idle": "2022-08-28T14:51:59.269915Z",
     "shell.execute_reply": "2022-08-28T14:51:59.269503Z"
    },
    "papermill": {
     "duration": 1.148086,
     "end_time": "2022-08-28T14:51:59.271303",
     "exception": false,
     "start_time": "2022-08-28T14:51:58.123217",
     "status": "completed"
    },
    "tags": []
   },
   "outputs": [],
   "source": [
    "assert not gene_corrs_df.isna().any().any()"
   ]
  },
  {
   "cell_type": "code",
   "execution_count": 33,
   "id": "00583efc-7068-4270-ad1e-4a418e91db96",
   "metadata": {
    "execution": {
     "iopub.execute_input": "2022-08-28T14:52:01.566674Z",
     "iopub.status.busy": "2022-08-28T14:52:01.566428Z",
     "iopub.status.idle": "2022-08-28T14:52:01.587657Z",
     "shell.execute_reply": "2022-08-28T14:52:01.587168Z"
    },
    "papermill": {
     "duration": 1.192453,
     "end_time": "2022-08-28T14:52:01.588977",
     "exception": false,
     "start_time": "2022-08-28T14:52:00.396524",
     "status": "completed"
    },
    "tags": []
   },
   "outputs": [
    {
     "data": {
      "text/plain": [
       "1.5288509741727199e-06"
      ]
     },
     "metadata": {},
     "output_type": "display_data"
    }
   ],
   "source": [
    "_min_val = gene_corrs_df.min().min()\n",
    "display(_min_val)\n",
    "assert _min_val >= -0.05"
   ]
  },
  {
   "cell_type": "code",
   "execution_count": 34,
   "id": "d04fb2cf-1050-475b-b855-f5f7cc04092b",
   "metadata": {
    "execution": {
     "iopub.execute_input": "2022-08-28T14:52:03.892715Z",
     "iopub.status.busy": "2022-08-28T14:52:03.892472Z",
     "iopub.status.idle": "2022-08-28T14:52:03.913408Z",
     "shell.execute_reply": "2022-08-28T14:52:03.913002Z"
    },
    "papermill": {
     "duration": 1.199602,
     "end_time": "2022-08-28T14:52:03.914595",
     "exception": false,
     "start_time": "2022-08-28T14:52:02.714993",
     "status": "completed"
    },
    "tags": []
   },
   "outputs": [
    {
     "data": {
      "text/plain": [
       "1.000000000000003"
      ]
     },
     "metadata": {},
     "output_type": "display_data"
    }
   ],
   "source": [
    "_max_val = gene_corrs_df.max().max()  # this captures the diagonal\n",
    "display(_max_val)\n",
    "assert _max_val <= 1.05"
   ]
  },
  {
   "cell_type": "code",
   "execution_count": 35,
   "id": "96d02c44-1fba-47be-8a93-8f2608420b9c",
   "metadata": {
    "execution": {
     "iopub.execute_input": "2022-08-28T14:52:06.203691Z",
     "iopub.status.busy": "2022-08-28T14:52:06.203444Z",
     "iopub.status.idle": "2022-08-28T14:52:06.238226Z",
     "shell.execute_reply": "2022-08-28T14:52:06.237730Z"
    },
    "papermill": {
     "duration": 1.169012,
     "end_time": "2022-08-28T14:52:06.239927",
     "exception": false,
     "start_time": "2022-08-28T14:52:05.070915",
     "status": "completed"
    },
    "tags": []
   },
   "outputs": [],
   "source": [
    "# check upper triangular values\n",
    "# assert len(gene_corrs) == int(genes_chr.shape[0] * (genes_chr.shape[0] - 1) / 2)"
   ]
  },
  {
   "cell_type": "code",
   "execution_count": 36,
   "id": "fe283586-c348-40e0-8841-f6d97bfb021c",
   "metadata": {
    "execution": {
     "iopub.execute_input": "2022-08-28T14:52:08.550730Z",
     "iopub.status.busy": "2022-08-28T14:52:08.550487Z",
     "iopub.status.idle": "2022-08-28T14:52:08.577932Z",
     "shell.execute_reply": "2022-08-28T14:52:08.577536Z"
    },
    "papermill": {
     "duration": 1.203328,
     "end_time": "2022-08-28T14:52:08.579156",
     "exception": false,
     "start_time": "2022-08-28T14:52:07.375828",
     "status": "completed"
    },
    "tags": []
   },
   "outputs": [
    {
     "data": {
      "text/plain": [
       "count    24753.000000\n",
       "mean         0.017052\n",
       "std          0.096667\n",
       "min          0.000002\n",
       "25%          0.004062\n",
       "50%          0.006140\n",
       "75%          0.008505\n",
       "max          1.000000\n",
       "dtype: float64"
      ]
     },
     "execution_count": 36,
     "metadata": {},
     "output_type": "execute_result"
    }
   ],
   "source": [
    "gene_corrs_flat.describe()"
   ]
  },
  {
   "cell_type": "code",
   "execution_count": 37,
   "id": "b3815678-0f93-4b35-897b-a9d047a2aa78",
   "metadata": {
    "execution": {
     "iopub.execute_input": "2022-08-28T14:52:10.909147Z",
     "iopub.status.busy": "2022-08-28T14:52:10.908898Z",
     "iopub.status.idle": "2022-08-28T14:52:10.931839Z",
     "shell.execute_reply": "2022-08-28T14:52:10.931266Z"
    },
    "papermill": {
     "duration": 1.201987,
     "end_time": "2022-08-28T14:52:10.933188",
     "exception": false,
     "start_time": "2022-08-28T14:52:09.731201",
     "status": "completed"
    },
    "tags": []
   },
   "outputs": [
    {
     "data": {
      "text/plain": [
       "0.00    0.000002\n",
       "0.05    0.001608\n",
       "0.10    0.002435\n",
       "0.15    0.003040\n",
       "0.20    0.003583\n",
       "0.25    0.004062\n",
       "0.30    0.004509\n",
       "0.35    0.004921\n",
       "0.40    0.005313\n",
       "0.45    0.005713\n",
       "0.50    0.006140\n",
       "0.55    0.006553\n",
       "0.60    0.006980\n",
       "0.65    0.007428\n",
       "0.70    0.007940\n",
       "0.75    0.008505\n",
       "0.80    0.009172\n",
       "0.85    0.009988\n",
       "0.90    0.011098\n",
       "0.95    0.013162\n",
       "dtype: float64"
      ]
     },
     "metadata": {},
     "output_type": "display_data"
    }
   ],
   "source": [
    "gene_corrs_quantiles = gene_corrs_flat.quantile(np.arange(0, 1, 0.05))\n",
    "display(gene_corrs_quantiles)"
   ]
  },
  {
   "cell_type": "markdown",
   "id": "87134509-b145-4a10-8bc9-b7e914c2b0fa",
   "metadata": {
    "papermill": {
     "duration": 1.126107,
     "end_time": "2022-08-28T14:52:13.202882",
     "exception": false,
     "start_time": "2022-08-28T14:52:12.076775",
     "status": "completed"
    },
    "tags": []
   },
   "source": [
    "## Positive definiteness"
   ]
  },
  {
   "cell_type": "code",
   "execution_count": 38,
   "id": "07d9a9a1-a4f7-48aa-b916-6d42a8cc6186",
   "metadata": {
    "execution": {
     "iopub.execute_input": "2022-08-28T14:52:15.494827Z",
     "iopub.status.busy": "2022-08-28T14:52:15.494582Z",
     "iopub.status.idle": "2022-08-28T14:52:15.525709Z",
     "shell.execute_reply": "2022-08-28T14:52:15.525212Z"
    },
    "papermill": {
     "duration": 1.198549,
     "end_time": "2022-08-28T14:52:15.526869",
     "exception": false,
     "start_time": "2022-08-28T14:52:14.328320",
     "status": "completed"
    },
    "tags": []
   },
   "outputs": [
    {
     "data": {
      "text/plain": [
       "0"
      ]
     },
     "metadata": {},
     "output_type": "display_data"
    },
    {
     "data": {
      "text/plain": [
       "array([], dtype=float64)"
      ]
     },
     "metadata": {},
     "output_type": "display_data"
    }
   ],
   "source": [
    "# print negative eigenvalues\n",
    "eigs = np.linalg.eigvals(gene_corrs_df.to_numpy())\n",
    "display(len(eigs[eigs < 0]))\n",
    "display(eigs[eigs < 0])"
   ]
  },
  {
   "cell_type": "code",
   "execution_count": 39,
   "id": "6e218436-c3c5-4028-8c94-a4fa6260efce",
   "metadata": {
    "execution": {
     "iopub.execute_input": "2022-08-28T14:52:17.833586Z",
     "iopub.status.busy": "2022-08-28T14:52:17.833327Z",
     "iopub.status.idle": "2022-08-28T14:52:18.072024Z",
     "shell.execute_reply": "2022-08-28T14:52:18.070934Z"
    },
    "papermill": {
     "duration": 1.415541,
     "end_time": "2022-08-28T14:52:18.075271",
     "exception": false,
     "start_time": "2022-08-28T14:52:16.659730",
     "status": "completed"
    },
    "tags": []
   },
   "outputs": [
    {
     "name": "stdout",
     "output_type": "stream",
     "text": [
      "Works!\n"
     ]
    }
   ],
   "source": [
    "try:\n",
    "    chol_mat = np.linalg.cholesky(gene_corrs_df.to_numpy())\n",
    "    cov_inv = np.linalg.inv(chol_mat)\n",
    "    print(\"Works!\")\n",
    "except Exception as e:\n",
    "    print(f\"Cholesky decomposition failed: {str(e)}\")"
   ]
  },
  {
   "cell_type": "code",
   "execution_count": 40,
   "id": "dd8827fb-faf9-4c7c-9454-015e94752706",
   "metadata": {
    "execution": {
     "iopub.execute_input": "2022-08-28T14:52:20.424641Z",
     "iopub.status.busy": "2022-08-28T14:52:20.424395Z",
     "iopub.status.idle": "2022-08-28T14:52:20.446667Z",
     "shell.execute_reply": "2022-08-28T14:52:20.445980Z"
    },
    "papermill": {
     "duration": 1.154163,
     "end_time": "2022-08-28T14:52:20.447991",
     "exception": false,
     "start_time": "2022-08-28T14:52:19.293828",
     "status": "completed"
    },
    "tags": []
   },
   "outputs": [
    {
     "name": "stdout",
     "output_type": "stream",
     "text": [
      "Works!\n"
     ]
    }
   ],
   "source": [
    "try:\n",
    "    # decomposition used by statsmodels.GLS\n",
    "    cholsigmainv = np.linalg.cholesky(np.linalg.inv(gene_corrs_df.to_numpy())).T\n",
    "    print(\"Works!\")\n",
    "except Exception as e:\n",
    "    print(f\"Cholesky decomposition failed (statsmodels.GLS): {str(e)}\")"
   ]
  },
  {
   "cell_type": "markdown",
   "id": "8e60a080-edb2-4e9c-b2ef-22961693200c",
   "metadata": {
    "papermill": {
     "duration": 1.130723,
     "end_time": "2022-08-28T14:52:22.755072",
     "exception": false,
     "start_time": "2022-08-28T14:52:21.624349",
     "status": "completed"
    },
    "tags": []
   },
   "source": [
    "## Plot: distribution"
   ]
  },
  {
   "cell_type": "code",
   "execution_count": 41,
   "id": "8301126b-a7d4-4744-9c7d-f0f86eb6f54c",
   "metadata": {
    "execution": {
     "iopub.execute_input": "2022-08-28T14:52:25.057772Z",
     "iopub.status.busy": "2022-08-28T14:52:25.057529Z",
     "iopub.status.idle": "2022-08-28T14:52:30.206873Z",
     "shell.execute_reply": "2022-08-28T14:52:30.206390Z"
    },
    "papermill": {
     "duration": 6.32439,
     "end_time": "2022-08-28T14:52:30.208484",
     "exception": false,
     "start_time": "2022-08-28T14:52:23.884094",
     "status": "completed"
    },
    "tags": []
   },
   "outputs": [
    {
     "data": {
      "image/png": "[encoded data removed]",
      "text/plain": [
       "<Figure size 504x504 with 1 Axes>"
      ]
     },
     "metadata": {
      "needs_background": "light"
     },
     "output_type": "display_data"
    }
   ],
   "source": [
    "with sns.plotting_context(\"paper\", font_scale=1.5):\n",
    "    g = sns.displot(gene_corrs_flat, kde=True, height=7)\n",
    "    g.ax.set_title(\n",
    "        f\"Distribution of gene correlation values in chromosome {CHROMOSOME}\"\n",
    "    )"
   ]
  },
  {
   "cell_type": "markdown",
   "id": "cbd52bca-d878-4a2f-b684-5c83aa3038d4",
   "metadata": {
    "papermill": {
     "duration": 1.123815,
     "end_time": "2022-08-28T14:52:32.459342",
     "exception": false,
     "start_time": "2022-08-28T14:52:31.335527",
     "status": "completed"
    },
    "tags": []
   },
   "source": [
    "## Plot: heatmap"
   ]
  },
  {
   "cell_type": "code",
   "execution_count": 42,
   "id": "d03fe63a-c7b2-4fb9-a53c-db362ce843c9",
   "metadata": {
    "execution": {
     "iopub.execute_input": "2022-08-28T14:52:34.753689Z",
     "iopub.status.busy": "2022-08-28T14:52:34.753439Z",
     "iopub.status.idle": "2022-08-28T14:52:34.793886Z",
     "shell.execute_reply": "2022-08-28T14:52:34.793455Z"
    },
    "papermill": {
     "duration": 1.162458,
     "end_time": "2022-08-28T14:52:34.795235",
     "exception": false,
     "start_time": "2022-08-28T14:52:33.632777",
     "status": "completed"
    },
    "tags": []
   },
   "outputs": [
    {
     "data": {
      "text/plain": [
       "'0.0 / 0.05'"
      ]
     },
     "metadata": {},
     "output_type": "display_data"
    }
   ],
   "source": [
    "vmin_val = min(0.00, gene_corrs_quantiles[0.10])\n",
    "vmax_val = max(0.05, gene_corrs_quantiles[0.90])\n",
    "display(f\"{vmin_val} / {vmax_val}\")"
   ]
  },
  {
   "cell_type": "code",
   "execution_count": 43,
   "id": "dc41b70b-5bcc-4d9e-9f33-a22c4a94dab5",
   "metadata": {
    "execution": {
     "iopub.execute_input": "2022-08-28T14:52:37.096849Z",
     "iopub.status.busy": "2022-08-28T14:52:37.096601Z",
     "iopub.status.idle": "2022-08-28T14:52:37.284877Z",
     "shell.execute_reply": "2022-08-28T14:52:37.284336Z"
    },
    "papermill": {
     "duration": 1.359263,
     "end_time": "2022-08-28T14:52:37.286251",
     "exception": false,
     "start_time": "2022-08-28T14:52:35.926988",
     "status": "completed"
    },
    "tags": []
   },
   "outputs": [
    {
     "data": {
      "text/plain": [
       "Text(0.5, 1.0, 'Gene correlations in chromosome 8')"
      ]
     },
     "execution_count": 43,
     "metadata": {},
     "output_type": "execute_result"
    },
    {
     "data": {
      "image/png": "[encoded data removed]",
      "text/plain": [
       "<Figure size 720x720 with 2 Axes>"
      ]
     },
     "metadata": {
      "needs_background": "light"
     },
     "output_type": "display_data"
    }
   ],
   "source": [
    "f, ax = plt.subplots(figsize=(10, 10))\n",
    "sns.heatmap(\n",
    "    gene_corrs_df,\n",
    "    xticklabels=False,\n",
    "    yticklabels=False,\n",
    "    square=True,\n",
    "    vmin=vmin_val,\n",
    "    vmax=vmax_val,\n",
    "    cmap=\"rocket_r\",\n",
    "    ax=ax,\n",
    ")\n",
    "ax.set_title(f\"Gene correlations in chromosome {CHROMOSOME}\")"
   ]
  },
  {
   "cell_type": "code",
   "execution_count": null,
   "id": "b25e3ead",
   "metadata": {
    "papermill": {
     "duration": 1.121547,
     "end_time": "2022-08-28T14:52:39.536033",
     "exception": false,
     "start_time": "2022-08-28T14:52:38.414486",
     "status": "completed"
    },
    "tags": []
   },
   "outputs": [],
   "source": []
  }
 ],
 "metadata": {
  "jupytext": {
   "cell_metadata_filter": "all,-execution,-papermill,-trusted",
   "formats": "ipynb,py//py:percent"
  },
  "kernelspec": {
   "display_name": "Python 3 (ipykernel)",
   "language": "python",
   "name": "python3"
  },
  "language_info": {
   "codemirror_mode": {
    "name": "ipython",
    "version": 3
   },
   "file_extension": ".py",
   "mimetype": "text/x-python",
   "name": "python",
   "nbconvert_exporter": "python",
   "pygments_lexer": "ipython3",
   "version": "3.8.13"
  },
  "papermill": {
   "default_parameters": {},
   "duration": 1486.036685,
   "end_time": "2022-08-28T14:52:43.436326",
   "environment_variables": {},
   "exception": null,
   "input_path": "nbs/15_gsa_gls/10-gene_expr_correlations.ipynb",
   "output_path": "nbs/15_gsa_gls/gene_corrs/cohorts/1000g_eur/gtex_v8/mashr/10-gene_expr_corrs/10-gene_expr_correlations-chr8.run.ipynb",
   "parameters": {
    "CHROMOSOME": 8,
    "COHORT_NAME": "1000g_eur",
    "EQTL_MODEL": "MASHR",
    "REFERENCE_PANEL": "GTEX_V8"
   },
   "start_time": "2022-08-28T14:27:57.399641",
   "version": "2.2.2"
  }
 },
 "nbformat": 4,
 "nbformat_minor": 5
}
