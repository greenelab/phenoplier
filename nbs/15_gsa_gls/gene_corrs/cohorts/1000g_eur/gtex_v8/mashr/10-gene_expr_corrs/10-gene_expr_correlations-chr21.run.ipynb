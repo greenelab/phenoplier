{
 "cells": [
  {
   "cell_type": "markdown",
   "id": "7a6632fb",
   "metadata": {
    "papermill": {
     "duration": 0.01953,
     "end_time": "2022-08-28T14:27:59.995070",
     "exception": false,
     "start_time": "2022-08-28T14:27:59.975540",
     "status": "completed"
    },
    "tags": []
   },
   "source": [
    "# Description"
   ]
  },
  {
   "cell_type": "markdown",
   "id": "7097c346",
   "metadata": {
    "papermill": {
     "duration": 0.015019,
     "end_time": "2022-08-28T14:28:00.026309",
     "exception": false,
     "start_time": "2022-08-28T14:28:00.011290",
     "status": "completed"
    },
    "tags": []
   },
   "source": [
    "(Please, take a look at the README.md file in this directory for instructions on how to run this notebook)\n",
    "\n",
    "This notebook computes predicted expression correlations between all genes in the MultiPLIER models.\n",
    "\n",
    "It also has a parameter set for papermill to run on a single chromosome to run in parallel (see under `Settings` below).\n",
    "\n",
    "This notebook is not directly run. See README.md."
   ]
  },
  {
   "cell_type": "markdown",
   "id": "c61d8427",
   "metadata": {
    "papermill": {
     "duration": 0.013018,
     "end_time": "2022-08-28T14:28:00.053702",
     "exception": false,
     "start_time": "2022-08-28T14:28:00.040684",
     "status": "completed"
    },
    "tags": []
   },
   "source": [
    "# Modules"
   ]
  },
  {
   "cell_type": "code",
   "execution_count": 1,
   "id": "bbc0234f",
   "metadata": {
    "execution": {
     "iopub.execute_input": "2022-08-28T14:28:00.082551Z",
     "iopub.status.busy": "2022-08-28T14:28:00.082189Z",
     "iopub.status.idle": "2022-08-28T14:28:00.136393Z",
     "shell.execute_reply": "2022-08-28T14:28:00.135319Z"
    },
    "papermill": {
     "duration": 0.073009,
     "end_time": "2022-08-28T14:28:00.139780",
     "exception": false,
     "start_time": "2022-08-28T14:28:00.066771",
     "status": "completed"
    },
    "tags": []
   },
   "outputs": [],
   "source": [
    "%load_ext autoreload\n",
    "%autoreload 2"
   ]
  },
  {
   "cell_type": "code",
   "execution_count": 2,
   "id": "1d5f5a59",
   "metadata": {
    "execution": {
     "iopub.execute_input": "2022-08-28T14:28:00.172401Z",
     "iopub.status.busy": "2022-08-28T14:28:00.172059Z",
     "iopub.status.idle": "2022-08-28T14:28:04.305997Z",
     "shell.execute_reply": "2022-08-28T14:28:04.305396Z"
    },
    "papermill": {
     "duration": 4.153233,
     "end_time": "2022-08-28T14:28:04.307928",
     "exception": false,
     "start_time": "2022-08-28T14:28:00.154695",
     "status": "completed"
    },
    "tags": []
   },
   "outputs": [],
   "source": [
    "from random import sample, seed\n",
    "import warnings\n",
    "from pathlib import Path\n",
    "import pickle\n",
    "import traceback\n",
    "\n",
    "import numpy as np\n",
    "from scipy.spatial.distance import squareform\n",
    "import pandas as pd\n",
    "from tqdm import tqdm\n",
    "import matplotlib.pyplot as plt\n",
    "import seaborn as sns\n",
    "\n",
    "import conf\n",
    "from entity import Gene"
   ]
  },
  {
   "cell_type": "markdown",
   "id": "1eac24b5",
   "metadata": {
    "papermill": {
     "duration": 0.008212,
     "end_time": "2022-08-28T14:28:04.348495",
     "exception": false,
     "start_time": "2022-08-28T14:28:04.340283",
     "status": "completed"
    },
    "tags": []
   },
   "source": [
    "# Settings"
   ]
  },
  {
   "cell_type": "code",
   "execution_count": 3,
   "id": "ca4560ba",
   "metadata": {
    "execution": {
     "iopub.execute_input": "2022-08-28T14:28:04.366269Z",
     "iopub.status.busy": "2022-08-28T14:28:04.365989Z",
     "iopub.status.idle": "2022-08-28T14:28:04.498542Z",
     "shell.execute_reply": "2022-08-28T14:28:04.497776Z"
    },
    "papermill": {
     "duration": 0.143579,
     "end_time": "2022-08-28T14:28:04.500203",
     "exception": false,
     "start_time": "2022-08-28T14:28:04.356624",
     "status": "completed"
    },
    "tags": [
     "parameters"
    ]
   },
   "outputs": [],
   "source": [
    "# a cohort name (it could be something like UK_BIOBANK, etc)\n",
    "COHORT_NAME = None\n",
    "\n",
    "# reference panel such as 1000G or GTEX_V8\n",
    "REFERENCE_PANEL = None\n",
    "\n",
    "# predictions models such as MASHR or ELASTIC_NET\n",
    "EQTL_MODEL = None\n",
    "\n",
    "# this is the default value used in S-MultiXcan to select the\n",
    "# top principal components of the expression correlation matrix\n",
    "SMULTIXCAN_CONDITION_NUMBER = 30\n",
    "\n",
    "# specifies a single chromosome value\n",
    "CHROMOSOME = None\n",
    "\n",
    "# If True, computes the correlation between closeby genes only;\n",
    "# otherwise, it computes correlations for all genes in a chromosome\n",
    "COMPUTE_CORRELATIONS_WITHIN_DISTANCE = False\n",
    "\n",
    "# if True, then it will continue if a gene pair correlation fails,\n",
    "# printing the warning/error for debugging. If False, any warning/error\n",
    "# will be thrown\n",
    "DEBUG_MODE = False"
   ]
  },
  {
   "cell_type": "code",
   "execution_count": 4,
   "id": "086481ad",
   "metadata": {
    "execution": {
     "iopub.execute_input": "2022-08-28T14:28:04.518114Z",
     "iopub.status.busy": "2022-08-28T14:28:04.517922Z",
     "iopub.status.idle": "2022-08-28T14:28:04.539039Z",
     "shell.execute_reply": "2022-08-28T14:28:04.538292Z"
    },
    "papermill": {
     "duration": 0.032047,
     "end_time": "2022-08-28T14:28:04.540572",
     "exception": false,
     "start_time": "2022-08-28T14:28:04.508525",
     "status": "completed"
    },
    "tags": [
     "injected-parameters"
    ]
   },
   "outputs": [],
   "source": [
    "# Parameters\n",
    "COHORT_NAME = \"1000g_eur\"\n",
    "REFERENCE_PANEL = \"GTEX_V8\"\n",
    "EQTL_MODEL = \"MASHR\"\n",
    "CHROMOSOME = 21\n"
   ]
  },
  {
   "cell_type": "code",
   "execution_count": 5,
   "id": "3190631f-27fc-480f-b18e-571d580425a5",
   "metadata": {
    "execution": {
     "iopub.execute_input": "2022-08-28T14:28:04.571592Z",
     "iopub.status.busy": "2022-08-28T14:28:04.571390Z",
     "iopub.status.idle": "2022-08-28T14:28:04.594976Z",
     "shell.execute_reply": "2022-08-28T14:28:04.594241Z"
    },
    "papermill": {
     "duration": 0.047539,
     "end_time": "2022-08-28T14:28:04.596408",
     "exception": false,
     "start_time": "2022-08-28T14:28:04.548869",
     "status": "completed"
    },
    "tags": []
   },
   "outputs": [
    {
     "data": {
      "text/plain": [
       "'Cohort name: 1000g_eur'"
      ]
     },
     "metadata": {},
     "output_type": "display_data"
    }
   ],
   "source": [
    "assert COHORT_NAME is not None and len(COHORT_NAME) > 0, \"A cohort name must be given\"\n",
    "\n",
    "COHORT_NAME = COHORT_NAME.lower()\n",
    "display(f\"Cohort name: {COHORT_NAME}\")"
   ]
  },
  {
   "cell_type": "code",
   "execution_count": 6,
   "id": "f53ba19b-0f93-4fa2-a047-63b375939d1a",
   "metadata": {
    "execution": {
     "iopub.execute_input": "2022-08-28T14:28:04.613789Z",
     "iopub.status.busy": "2022-08-28T14:28:04.613599Z",
     "iopub.status.idle": "2022-08-28T14:28:04.636413Z",
     "shell.execute_reply": "2022-08-28T14:28:04.635819Z"
    },
    "papermill": {
     "duration": 0.03329,
     "end_time": "2022-08-28T14:28:04.637933",
     "exception": false,
     "start_time": "2022-08-28T14:28:04.604643",
     "status": "completed"
    },
    "tags": []
   },
   "outputs": [
    {
     "data": {
      "text/plain": [
       "'Reference panel: GTEX_V8'"
      ]
     },
     "metadata": {},
     "output_type": "display_data"
    }
   ],
   "source": [
    "assert (\n",
    "    REFERENCE_PANEL is not None and len(REFERENCE_PANEL) > 0\n",
    "), \"A reference panel must be given\"\n",
    "\n",
    "display(f\"Reference panel: {REFERENCE_PANEL}\")"
   ]
  },
  {
   "cell_type": "code",
   "execution_count": 7,
   "id": "e024d130-c139-429a-9c6e-ccf149e297b0",
   "metadata": {
    "execution": {
     "iopub.execute_input": "2022-08-28T14:28:04.656810Z",
     "iopub.status.busy": "2022-08-28T14:28:04.656622Z",
     "iopub.status.idle": "2022-08-28T14:28:04.681878Z",
     "shell.execute_reply": "2022-08-28T14:28:04.681119Z"
    },
    "papermill": {
     "duration": 0.035638,
     "end_time": "2022-08-28T14:28:04.683427",
     "exception": false,
     "start_time": "2022-08-28T14:28:04.647789",
     "status": "completed"
    },
    "tags": []
   },
   "outputs": [
    {
     "data": {
      "text/plain": [
       "'eQTL model: MASHR) / mashr_'"
      ]
     },
     "metadata": {},
     "output_type": "display_data"
    }
   ],
   "source": [
    "assert (\n",
    "    EQTL_MODEL is not None and len(EQTL_MODEL) > 0\n",
    "), \"A prediction/eQTL model must be given\"\n",
    "\n",
    "EQTL_MODEL_FILES_PREFIX = conf.PHENOMEXCAN[\"PREDICTION_MODELS\"][f\"{EQTL_MODEL}_PREFIX\"]\n",
    "display(f\"eQTL model: {EQTL_MODEL}) / {EQTL_MODEL_FILES_PREFIX}\")"
   ]
  },
  {
   "cell_type": "code",
   "execution_count": 8,
   "id": "552a7f63-a18c-4d3e-bb6a-94f99b431291",
   "metadata": {
    "execution": {
     "iopub.execute_input": "2022-08-28T14:28:04.701893Z",
     "iopub.status.busy": "2022-08-28T14:28:04.701704Z",
     "iopub.status.idle": "2022-08-28T14:28:04.732373Z",
     "shell.execute_reply": "2022-08-28T14:28:04.731719Z"
    },
    "papermill": {
     "duration": 0.041835,
     "end_time": "2022-08-28T14:28:04.733927",
     "exception": false,
     "start_time": "2022-08-28T14:28:04.692092",
     "status": "completed"
    },
    "tags": []
   },
   "outputs": [
    {
     "data": {
      "text/plain": [
       "'S-MultiXcan condition number: 30'"
      ]
     },
     "metadata": {},
     "output_type": "display_data"
    }
   ],
   "source": [
    "assert (\n",
    "    SMULTIXCAN_CONDITION_NUMBER is not None and SMULTIXCAN_CONDITION_NUMBER > 0\n",
    "), \"The S-MultiXcan condition number (positive integer) must be given\"\n",
    "\n",
    "display(f\"S-MultiXcan condition number: {SMULTIXCAN_CONDITION_NUMBER}\")"
   ]
  },
  {
   "cell_type": "code",
   "execution_count": 9,
   "id": "f34a336f-548e-4afe-8955-90eaea4f42c6",
   "metadata": {
    "execution": {
     "iopub.execute_input": "2022-08-28T14:28:04.752859Z",
     "iopub.status.busy": "2022-08-28T14:28:04.752670Z",
     "iopub.status.idle": "2022-08-28T14:28:04.776511Z",
     "shell.execute_reply": "2022-08-28T14:28:04.775750Z"
    },
    "papermill": {
     "duration": 0.03466,
     "end_time": "2022-08-28T14:28:04.778029",
     "exception": false,
     "start_time": "2022-08-28T14:28:04.743369",
     "status": "completed"
    },
    "tags": []
   },
   "outputs": [
    {
     "data": {
      "text/plain": [
       "'Working on chromosome 21'"
      ]
     },
     "metadata": {},
     "output_type": "display_data"
    }
   ],
   "source": [
    "assert CHROMOSOME is not None and (\n",
    "    1 <= CHROMOSOME <= 22\n",
    "), \"You have to select one chromosome (format: number between 1 and 22)\"\n",
    "\n",
    "# CHROMOSOME = str(CHROMOSOME)\n",
    "display(f\"Working on chromosome {CHROMOSOME}\")"
   ]
  },
  {
   "cell_type": "code",
   "execution_count": 10,
   "id": "ab8e96e8-06b5-4363-9dcd-dc4d78cc27f7",
   "metadata": {
    "execution": {
     "iopub.execute_input": "2022-08-28T14:28:04.797242Z",
     "iopub.status.busy": "2022-08-28T14:28:04.797045Z",
     "iopub.status.idle": "2022-08-28T14:28:04.818269Z",
     "shell.execute_reply": "2022-08-28T14:28:04.817478Z"
    },
    "papermill": {
     "duration": 0.032374,
     "end_time": "2022-08-28T14:28:04.819782",
     "exception": false,
     "start_time": "2022-08-28T14:28:04.787408",
     "status": "completed"
    },
    "tags": []
   },
   "outputs": [
    {
     "data": {
      "text/plain": [
       "'Compute correlation within distance False'"
      ]
     },
     "metadata": {},
     "output_type": "display_data"
    }
   ],
   "source": [
    "display(f\"Compute correlation within distance {COMPUTE_CORRELATIONS_WITHIN_DISTANCE}\")"
   ]
  },
  {
   "cell_type": "code",
   "execution_count": 11,
   "id": "396392dc-0340-4540-9b02-e182b833f909",
   "metadata": {
    "execution": {
     "iopub.execute_input": "2022-08-28T14:28:04.838496Z",
     "iopub.status.busy": "2022-08-28T14:28:04.838307Z",
     "iopub.status.idle": "2022-08-28T14:28:04.864871Z",
     "shell.execute_reply": "2022-08-28T14:28:04.864092Z"
    },
    "papermill": {
     "duration": 0.037892,
     "end_time": "2022-08-28T14:28:04.866410",
     "exception": false,
     "start_time": "2022-08-28T14:28:04.828518",
     "status": "completed"
    },
    "tags": []
   },
   "outputs": [
    {
     "data": {
      "text/plain": [
       "'Using output dir base: /project/ritchie20/projects/phenoplier/base/results/gls/gene_corrs/cohorts/1000g_eur/gtex_v8/mashr'"
      ]
     },
     "metadata": {},
     "output_type": "display_data"
    }
   ],
   "source": [
    "OUTPUT_DIR_BASE = (\n",
    "    conf.RESULTS[\"GLS\"]\n",
    "    / \"gene_corrs\"\n",
    "    / \"cohorts\"\n",
    "    / COHORT_NAME\n",
    "    / REFERENCE_PANEL.lower()\n",
    "    / EQTL_MODEL.lower()\n",
    ")\n",
    "OUTPUT_DIR_BASE.mkdir(parents=True, exist_ok=True)\n",
    "\n",
    "display(f\"Using output dir base: {OUTPUT_DIR_BASE}\")"
   ]
  },
  {
   "cell_type": "markdown",
   "id": "d2ba085e",
   "metadata": {
    "papermill": {
     "duration": 0.010555,
     "end_time": "2022-08-28T14:28:04.886271",
     "exception": false,
     "start_time": "2022-08-28T14:28:04.875716",
     "status": "completed"
    },
    "tags": []
   },
   "source": [
    "# Load data"
   ]
  },
  {
   "cell_type": "markdown",
   "id": "7dcb8db7",
   "metadata": {
    "papermill": {
     "duration": 0.011112,
     "end_time": "2022-08-28T14:28:04.906139",
     "exception": false,
     "start_time": "2022-08-28T14:28:04.895027",
     "status": "completed"
    },
    "tags": []
   },
   "source": [
    "## GWAS variants"
   ]
  },
  {
   "cell_type": "code",
   "execution_count": 12,
   "id": "29434c4e-8cd3-4b9b-82e4-b5a251d9dd19",
   "metadata": {
    "execution": {
     "iopub.execute_input": "2022-08-28T14:28:04.936328Z",
     "iopub.status.busy": "2022-08-28T14:28:04.936137Z",
     "iopub.status.idle": "2022-08-28T14:28:07.196147Z",
     "shell.execute_reply": "2022-08-28T14:28:07.195553Z"
    },
    "papermill": {
     "duration": 2.278102,
     "end_time": "2022-08-28T14:28:07.198010",
     "exception": false,
     "start_time": "2022-08-28T14:28:04.919908",
     "status": "completed"
    },
    "tags": []
   },
   "outputs": [],
   "source": [
    "with open(OUTPUT_DIR_BASE / \"gwas_variant_ids.pkl\", \"rb\") as handle:\n",
    "    gwas_variants_ids_set = pickle.load(handle)"
   ]
  },
  {
   "cell_type": "code",
   "execution_count": 13,
   "id": "b9d9dec2-4a76-4bf9-bde2-e24c95acb8a0",
   "metadata": {
    "execution": {
     "iopub.execute_input": "2022-08-28T14:28:07.220216Z",
     "iopub.status.busy": "2022-08-28T14:28:07.220014Z",
     "iopub.status.idle": "2022-08-28T14:28:08.709695Z",
     "shell.execute_reply": "2022-08-28T14:28:08.708504Z"
    },
    "papermill": {
     "duration": 1.504051,
     "end_time": "2022-08-28T14:28:08.713051",
     "exception": false,
     "start_time": "2022-08-28T14:28:07.209000",
     "status": "completed"
    },
    "tags": []
   },
   "outputs": [
    {
     "data": {
      "text/plain": [
       "8325729"
      ]
     },
     "execution_count": 13,
     "metadata": {},
     "output_type": "execute_result"
    }
   ],
   "source": [
    "len(gwas_variants_ids_set)"
   ]
  },
  {
   "cell_type": "code",
   "execution_count": 14,
   "id": "4235b06a-6034-4ee4-a0a3-2ae35d122418",
   "metadata": {
    "execution": {
     "iopub.execute_input": "2022-08-28T14:28:08.754612Z",
     "iopub.status.busy": "2022-08-28T14:28:08.750920Z",
     "iopub.status.idle": "2022-08-28T14:28:09.422747Z",
     "shell.execute_reply": "2022-08-28T14:28:09.422050Z"
    },
    "papermill": {
     "duration": 0.692853,
     "end_time": "2022-08-28T14:28:09.424304",
     "exception": false,
     "start_time": "2022-08-28T14:28:08.731451",
     "status": "completed"
    },
    "tags": []
   },
   "outputs": [
    {
     "data": {
      "text/plain": [
       "['chr2_148541657_G_T_b38',\n",
       " 'chr14_31254587_G_C_b38',\n",
       " 'chr18_55077174_C_T_b38',\n",
       " 'chr12_66138320_A_G_b38',\n",
       " 'chr18_32139111_C_T_b38']"
      ]
     },
     "execution_count": 14,
     "metadata": {},
     "output_type": "execute_result"
    }
   ],
   "source": [
    "list(gwas_variants_ids_set)[:5]"
   ]
  },
  {
   "cell_type": "markdown",
   "id": "07866999-2305-41f9-a144-e69c9122c212",
   "metadata": {
    "papermill": {
     "duration": 0.009113,
     "end_time": "2022-08-28T14:28:09.443148",
     "exception": false,
     "start_time": "2022-08-28T14:28:09.434035",
     "status": "completed"
    },
    "tags": []
   },
   "source": [
    "## S-PrediXcan tissue models"
   ]
  },
  {
   "cell_type": "code",
   "execution_count": 15,
   "id": "780611d9-77c8-405f-90a4-f271f7b09397",
   "metadata": {
    "execution": {
     "iopub.execute_input": "2022-08-28T14:28:09.464505Z",
     "iopub.status.busy": "2022-08-28T14:28:09.464309Z",
     "iopub.status.idle": "2022-08-28T14:28:10.484108Z",
     "shell.execute_reply": "2022-08-28T14:28:10.483518Z"
    },
    "papermill": {
     "duration": 1.032105,
     "end_time": "2022-08-28T14:28:10.485970",
     "exception": false,
     "start_time": "2022-08-28T14:28:09.453865",
     "status": "completed"
    },
    "tags": []
   },
   "outputs": [],
   "source": [
    "spredixcan_genes_models = pd.read_pickle(OUTPUT_DIR_BASE / \"gene_tissues.pkl\")"
   ]
  },
  {
   "cell_type": "code",
   "execution_count": 16,
   "id": "726dd1f6-9557-4225-91fa-b3b879ea96e1",
   "metadata": {
    "execution": {
     "iopub.execute_input": "2022-08-28T14:28:10.509719Z",
     "iopub.status.busy": "2022-08-28T14:28:10.509521Z",
     "iopub.status.idle": "2022-08-28T14:28:10.789288Z",
     "shell.execute_reply": "2022-08-28T14:28:10.788199Z"
    },
    "papermill": {
     "duration": 0.29411,
     "end_time": "2022-08-28T14:28:10.792474",
     "exception": false,
     "start_time": "2022-08-28T14:28:10.498364",
     "status": "completed"
    },
    "tags": []
   },
   "outputs": [
    {
     "data": {
      "text/plain": [
       "(6442, 9)"
      ]
     },
     "execution_count": 16,
     "metadata": {},
     "output_type": "execute_result"
    }
   ],
   "source": [
    "spredixcan_genes_models.shape"
   ]
  },
  {
   "cell_type": "code",
   "execution_count": 17,
   "id": "944a1b48-222c-4eb0-b252-b9de2cbca215",
   "metadata": {
    "execution": {
     "iopub.execute_input": "2022-08-28T14:28:10.833524Z",
     "iopub.status.busy": "2022-08-28T14:28:10.833171Z",
     "iopub.status.idle": "2022-08-28T14:28:10.893763Z",
     "shell.execute_reply": "2022-08-28T14:28:10.892879Z"
    },
    "papermill": {
     "duration": 0.082158,
     "end_time": "2022-08-28T14:28:10.896051",
     "exception": false,
     "start_time": "2022-08-28T14:28:10.813893",
     "status": "completed"
    },
    "tags": []
   },
   "outputs": [
    {
     "data": {
      "text/html": [
       "<div>\n",
       "<style scoped>\n",
       "    .dataframe tbody tr th:only-of-type {\n",
       "        vertical-align: middle;\n",
       "    }\n",
       "\n",
       "    .dataframe tbody tr th {\n",
       "        vertical-align: top;\n",
       "    }\n",
       "\n",
       "    .dataframe thead th {\n",
       "        text-align: right;\n",
       "    }\n",
       "</style>\n",
       "<table border=\"1\" class=\"dataframe\">\n",
       "  <thead>\n",
       "    <tr style=\"text-align: right;\">\n",
       "      <th></th>\n",
       "      <th>gene_name</th>\n",
       "      <th>tissue</th>\n",
       "      <th>n_tissues</th>\n",
       "      <th>tissues_pc_variances</th>\n",
       "      <th>tissues_variances</th>\n",
       "      <th>n_snps_used_sum</th>\n",
       "      <th>n_snps_in_model_sum</th>\n",
       "      <th>unique_n_snps_in_model</th>\n",
       "      <th>unique_n_snps_used</th>\n",
       "    </tr>\n",
       "    <tr>\n",
       "      <th>gene_id</th>\n",
       "      <th></th>\n",
       "      <th></th>\n",
       "      <th></th>\n",
       "      <th></th>\n",
       "      <th></th>\n",
       "      <th></th>\n",
       "      <th></th>\n",
       "      <th></th>\n",
       "      <th></th>\n",
       "    </tr>\n",
       "  </thead>\n",
       "  <tbody>\n",
       "    <tr>\n",
       "      <th>ENSG00000000419</th>\n",
       "      <td>DPM1</td>\n",
       "      <td>(Brain_Substantia_nigra, Brain_Hypothalamus)</td>\n",
       "      <td>2</td>\n",
       "      <td>[1.0442398458252409, 0.9557601541747592]</td>\n",
       "      <td>{'Brain_Hypothalamus': 0.013162153504206677, '...</td>\n",
       "      <td>2</td>\n",
       "      <td>2</td>\n",
       "      <td>2</td>\n",
       "      <td>2</td>\n",
       "    </tr>\n",
       "    <tr>\n",
       "      <th>ENSG00000000938</th>\n",
       "      <td>FGR</td>\n",
       "      <td>(Brain_Anterior_cingulate_cortex_BA24, Adipose...</td>\n",
       "      <td>36</td>\n",
       "      <td>[31.63266933637127, 2.0783677518511445, 1.2716...</td>\n",
       "      <td>{'Muscle_Skeletal': 0.011422007299369654, 'Liv...</td>\n",
       "      <td>40</td>\n",
       "      <td>40</td>\n",
       "      <td>5</td>\n",
       "      <td>5</td>\n",
       "    </tr>\n",
       "    <tr>\n",
       "      <th>ENSG00000000971</th>\n",
       "      <td>CFH</td>\n",
       "      <td>(Brain_Anterior_cingulate_cortex_BA24, Stomach...</td>\n",
       "      <td>34</td>\n",
       "      <td>[21.56076992568329, 7.310170987045466, 1.83778...</td>\n",
       "      <td>{'Testis': 0.004542368000299983, 'Heart_Atrial...</td>\n",
       "      <td>44</td>\n",
       "      <td>44</td>\n",
       "      <td>12</td>\n",
       "      <td>12</td>\n",
       "    </tr>\n",
       "    <tr>\n",
       "      <th>ENSG00000001084</th>\n",
       "      <td>GCLC</td>\n",
       "      <td>(Brain_Anterior_cingulate_cortex_BA24, Brain_F...</td>\n",
       "      <td>32</td>\n",
       "      <td>[21.291939080546527, 4.699418748743194, 2.2489...</td>\n",
       "      <td>{'Muscle_Skeletal': 0.0052333336977804, 'Testi...</td>\n",
       "      <td>46</td>\n",
       "      <td>46</td>\n",
       "      <td>23</td>\n",
       "      <td>23</td>\n",
       "    </tr>\n",
       "    <tr>\n",
       "      <th>ENSG00000001167</th>\n",
       "      <td>NFYA</td>\n",
       "      <td>(Brain_Anterior_cingulate_cortex_BA24, Adipose...</td>\n",
       "      <td>40</td>\n",
       "      <td>[37.335660295497696, 1.391401960453836]</td>\n",
       "      <td>{'Muscle_Skeletal': 0.01510698551052935, 'Test...</td>\n",
       "      <td>47</td>\n",
       "      <td>48</td>\n",
       "      <td>14</td>\n",
       "      <td>13</td>\n",
       "    </tr>\n",
       "  </tbody>\n",
       "</table>\n",
       "</div>"
      ],
      "text/plain": [
       "                gene_name                                             tissue  \\\n",
       "gene_id                                                                        \n",
       "ENSG00000000419      DPM1       (Brain_Substantia_nigra, Brain_Hypothalamus)   \n",
       "ENSG00000000938       FGR  (Brain_Anterior_cingulate_cortex_BA24, Adipose...   \n",
       "ENSG00000000971       CFH  (Brain_Anterior_cingulate_cortex_BA24, Stomach...   \n",
       "ENSG00000001084      GCLC  (Brain_Anterior_cingulate_cortex_BA24, Brain_F...   \n",
       "ENSG00000001167      NFYA  (Brain_Anterior_cingulate_cortex_BA24, Adipose...   \n",
       "\n",
       "                 n_tissues                               tissues_pc_variances  \\\n",
       "gene_id                                                                         \n",
       "ENSG00000000419          2           [1.0442398458252409, 0.9557601541747592]   \n",
       "ENSG00000000938         36  [31.63266933637127, 2.0783677518511445, 1.2716...   \n",
       "ENSG00000000971         34  [21.56076992568329, 7.310170987045466, 1.83778...   \n",
       "ENSG00000001084         32  [21.291939080546527, 4.699418748743194, 2.2489...   \n",
       "ENSG00000001167         40            [37.335660295497696, 1.391401960453836]   \n",
       "\n",
       "                                                 tissues_variances  \\\n",
       "gene_id                                                              \n",
       "ENSG00000000419  {'Brain_Hypothalamus': 0.013162153504206677, '...   \n",
       "ENSG00000000938  {'Muscle_Skeletal': 0.011422007299369654, 'Liv...   \n",
       "ENSG00000000971  {'Testis': 0.004542368000299983, 'Heart_Atrial...   \n",
       "ENSG00000001084  {'Muscle_Skeletal': 0.0052333336977804, 'Testi...   \n",
       "ENSG00000001167  {'Muscle_Skeletal': 0.01510698551052935, 'Test...   \n",
       "\n",
       "                 n_snps_used_sum  n_snps_in_model_sum  unique_n_snps_in_model  \\\n",
       "gene_id                                                                         \n",
       "ENSG00000000419                2                    2                       2   \n",
       "ENSG00000000938               40                   40                       5   \n",
       "ENSG00000000971               44                   44                      12   \n",
       "ENSG00000001084               46                   46                      23   \n",
       "ENSG00000001167               47                   48                      14   \n",
       "\n",
       "                 unique_n_snps_used  \n",
       "gene_id                              \n",
       "ENSG00000000419                   2  \n",
       "ENSG00000000938                   5  \n",
       "ENSG00000000971                  12  \n",
       "ENSG00000001084                  23  \n",
       "ENSG00000001167                  13  "
      ]
     },
     "execution_count": 17,
     "metadata": {},
     "output_type": "execute_result"
    }
   ],
   "source": [
    "spredixcan_genes_models.head()"
   ]
  },
  {
   "cell_type": "code",
   "execution_count": 18,
   "id": "d1c11bb1-be0b-4f40-b360-633d6827109f",
   "metadata": {
    "execution": {
     "iopub.execute_input": "2022-08-28T14:28:10.930982Z",
     "iopub.status.busy": "2022-08-28T14:28:10.930700Z",
     "iopub.status.idle": "2022-08-28T14:28:10.955608Z",
     "shell.execute_reply": "2022-08-28T14:28:10.954861Z"
    },
    "papermill": {
     "duration": 0.043911,
     "end_time": "2022-08-28T14:28:10.957681",
     "exception": false,
     "start_time": "2022-08-28T14:28:10.913770",
     "status": "completed"
    },
    "tags": []
   },
   "outputs": [],
   "source": [
    "assert spredixcan_genes_models.index.is_unique"
   ]
  },
  {
   "cell_type": "markdown",
   "id": "a5b5092c-a13e-47c4-a92a-480fcc08f3ae",
   "metadata": {
    "papermill": {
     "duration": 0.012278,
     "end_time": "2022-08-28T14:28:10.986843",
     "exception": false,
     "start_time": "2022-08-28T14:28:10.974565",
     "status": "completed"
    },
    "tags": []
   },
   "source": [
    "## Gene info"
   ]
  },
  {
   "cell_type": "code",
   "execution_count": 19,
   "id": "7d6bb224-88e9-4358-ac10-43a41d92cdad",
   "metadata": {
    "execution": {
     "iopub.execute_input": "2022-08-28T14:28:11.014188Z",
     "iopub.status.busy": "2022-08-28T14:28:11.013935Z",
     "iopub.status.idle": "2022-08-28T14:28:11.038380Z",
     "shell.execute_reply": "2022-08-28T14:28:11.037870Z"
    },
    "papermill": {
     "duration": 0.038461,
     "end_time": "2022-08-28T14:28:11.039907",
     "exception": false,
     "start_time": "2022-08-28T14:28:11.001446",
     "status": "completed"
    },
    "tags": []
   },
   "outputs": [],
   "source": [
    "genes_info = pd.read_pickle(OUTPUT_DIR_BASE / \"genes_info.pkl\")"
   ]
  },
  {
   "cell_type": "code",
   "execution_count": 20,
   "id": "9e32abfa-546d-483e-8c18-d526e9e05903",
   "metadata": {
    "execution": {
     "iopub.execute_input": "2022-08-28T14:28:11.090003Z",
     "iopub.status.busy": "2022-08-28T14:28:11.089814Z",
     "iopub.status.idle": "2022-08-28T14:28:11.108086Z",
     "shell.execute_reply": "2022-08-28T14:28:11.107358Z"
    },
    "papermill": {
     "duration": 0.032124,
     "end_time": "2022-08-28T14:28:11.109612",
     "exception": false,
     "start_time": "2022-08-28T14:28:11.077488",
     "status": "completed"
    },
    "tags": []
   },
   "outputs": [
    {
     "data": {
      "text/plain": [
       "(6442, 7)"
      ]
     },
     "execution_count": 20,
     "metadata": {},
     "output_type": "execute_result"
    }
   ],
   "source": [
    "genes_info.shape"
   ]
  },
  {
   "cell_type": "code",
   "execution_count": 21,
   "id": "d16c3e92-85ec-468a-9a56-e25a9774a1cb",
   "metadata": {
    "execution": {
     "iopub.execute_input": "2022-08-28T14:28:11.130141Z",
     "iopub.status.busy": "2022-08-28T14:28:11.129945Z",
     "iopub.status.idle": "2022-08-28T14:28:11.152398Z",
     "shell.execute_reply": "2022-08-28T14:28:11.151738Z"
    },
    "papermill": {
     "duration": 0.034537,
     "end_time": "2022-08-28T14:28:11.153919",
     "exception": false,
     "start_time": "2022-08-28T14:28:11.119382",
     "status": "completed"
    },
    "tags": []
   },
   "outputs": [
    {
     "data": {
      "text/html": [
       "<div>\n",
       "<style scoped>\n",
       "    .dataframe tbody tr th:only-of-type {\n",
       "        vertical-align: middle;\n",
       "    }\n",
       "\n",
       "    .dataframe tbody tr th {\n",
       "        vertical-align: top;\n",
       "    }\n",
       "\n",
       "    .dataframe thead th {\n",
       "        text-align: right;\n",
       "    }\n",
       "</style>\n",
       "<table border=\"1\" class=\"dataframe\">\n",
       "  <thead>\n",
       "    <tr style=\"text-align: right;\">\n",
       "      <th></th>\n",
       "      <th>name</th>\n",
       "      <th>id</th>\n",
       "      <th>chr</th>\n",
       "      <th>band</th>\n",
       "      <th>start_position</th>\n",
       "      <th>end_position</th>\n",
       "      <th>gene_length</th>\n",
       "    </tr>\n",
       "  </thead>\n",
       "  <tbody>\n",
       "    <tr>\n",
       "      <th>0</th>\n",
       "      <td>SNAPC3</td>\n",
       "      <td>ENSG00000164975</td>\n",
       "      <td>9</td>\n",
       "      <td>9p22.3</td>\n",
       "      <td>15422704</td>\n",
       "      <td>15465953</td>\n",
       "      <td>43249</td>\n",
       "    </tr>\n",
       "    <tr>\n",
       "      <th>1</th>\n",
       "      <td>SEC13</td>\n",
       "      <td>ENSG00000157020</td>\n",
       "      <td>3</td>\n",
       "      <td>3p25.3</td>\n",
       "      <td>10293131</td>\n",
       "      <td>10321112</td>\n",
       "      <td>27981</td>\n",
       "    </tr>\n",
       "    <tr>\n",
       "      <th>2</th>\n",
       "      <td>PTH2R</td>\n",
       "      <td>ENSG00000144407</td>\n",
       "      <td>2</td>\n",
       "      <td>2q34</td>\n",
       "      <td>208359714</td>\n",
       "      <td>208854503</td>\n",
       "      <td>494789</td>\n",
       "    </tr>\n",
       "    <tr>\n",
       "      <th>3</th>\n",
       "      <td>MDC1</td>\n",
       "      <td>ENSG00000137337</td>\n",
       "      <td>6</td>\n",
       "      <td>6p21.33</td>\n",
       "      <td>30699807</td>\n",
       "      <td>30717447</td>\n",
       "      <td>17640</td>\n",
       "    </tr>\n",
       "    <tr>\n",
       "      <th>4</th>\n",
       "      <td>TNFRSF6B</td>\n",
       "      <td>ENSG00000243509</td>\n",
       "      <td>20</td>\n",
       "      <td>20q13.33</td>\n",
       "      <td>63696652</td>\n",
       "      <td>63698684</td>\n",
       "      <td>2032</td>\n",
       "    </tr>\n",
       "  </tbody>\n",
       "</table>\n",
       "</div>"
      ],
      "text/plain": [
       "       name               id  chr      band  start_position  end_position  \\\n",
       "0    SNAPC3  ENSG00000164975    9    9p22.3        15422704      15465953   \n",
       "1     SEC13  ENSG00000157020    3    3p25.3        10293131      10321112   \n",
       "2     PTH2R  ENSG00000144407    2      2q34       208359714     208854503   \n",
       "3      MDC1  ENSG00000137337    6   6p21.33        30699807      30717447   \n",
       "4  TNFRSF6B  ENSG00000243509   20  20q13.33        63696652      63698684   \n",
       "\n",
       "   gene_length  \n",
       "0        43249  \n",
       "1        27981  \n",
       "2       494789  \n",
       "3        17640  \n",
       "4         2032  "
      ]
     },
     "execution_count": 21,
     "metadata": {},
     "output_type": "execute_result"
    }
   ],
   "source": [
    "genes_info.head()"
   ]
  },
  {
   "cell_type": "markdown",
   "id": "d3843e06",
   "metadata": {
    "papermill": {
     "duration": 0.0106,
     "end_time": "2022-08-28T14:28:11.174817",
     "exception": false,
     "start_time": "2022-08-28T14:28:11.164217",
     "status": "completed"
    },
    "tags": []
   },
   "source": [
    "# Compute correlations"
   ]
  },
  {
   "cell_type": "code",
   "execution_count": 22,
   "id": "cb859c15-d1f3-4006-a74c-2b83c0db9611",
   "metadata": {
    "execution": {
     "iopub.execute_input": "2022-08-28T14:28:11.195099Z",
     "iopub.status.busy": "2022-08-28T14:28:11.194909Z",
     "iopub.status.idle": "2022-08-28T14:28:11.213756Z",
     "shell.execute_reply": "2022-08-28T14:28:11.213260Z"
    },
    "papermill": {
     "duration": 0.03062,
     "end_time": "2022-08-28T14:28:11.215184",
     "exception": false,
     "start_time": "2022-08-28T14:28:11.184564",
     "status": "completed"
    },
    "tags": []
   },
   "outputs": [
    {
     "data": {
      "text/plain": [
       "PosixPath('/project/ritchie20/projects/phenoplier/base/results/gls/gene_corrs/cohorts/1000g_eur/gtex_v8/mashr/by_chr/gene_corrs-chr21.pkl')"
      ]
     },
     "metadata": {},
     "output_type": "display_data"
    }
   ],
   "source": [
    "output_dir = OUTPUT_DIR_BASE / \"by_chr\"\n",
    "output_dir.mkdir(exist_ok=True, parents=True)\n",
    "output_file = output_dir / f\"gene_corrs-chr{CHROMOSOME}.pkl\"\n",
    "display(output_file)"
   ]
  },
  {
   "cell_type": "code",
   "execution_count": 23,
   "id": "aa674fe4-6794-4eed-98fa-32b39d1d4ace",
   "metadata": {
    "execution": {
     "iopub.execute_input": "2022-08-28T14:28:11.253956Z",
     "iopub.status.busy": "2022-08-28T14:28:11.253765Z",
     "iopub.status.idle": "2022-08-28T14:28:11.270060Z",
     "shell.execute_reply": "2022-08-28T14:28:11.269562Z"
    },
    "papermill": {
     "duration": 0.028674,
     "end_time": "2022-08-28T14:28:11.271583",
     "exception": false,
     "start_time": "2022-08-28T14:28:11.242909",
     "status": "completed"
    },
    "tags": []
   },
   "outputs": [],
   "source": [
    "warnings.filterwarnings(\"error\")"
   ]
  },
  {
   "cell_type": "code",
   "execution_count": 24,
   "id": "44d5450b-3baf-43f1-9e2e-4b06f1a785f8",
   "metadata": {
    "execution": {
     "iopub.execute_input": "2022-08-28T14:28:11.292325Z",
     "iopub.status.busy": "2022-08-28T14:28:11.292135Z",
     "iopub.status.idle": "2022-08-28T14:28:11.309157Z",
     "shell.execute_reply": "2022-08-28T14:28:11.308651Z"
    },
    "papermill": {
     "duration": 0.029243,
     "end_time": "2022-08-28T14:28:11.310668",
     "exception": false,
     "start_time": "2022-08-28T14:28:11.281425",
     "status": "completed"
    },
    "tags": []
   },
   "outputs": [],
   "source": [
    "# standard checks\n",
    "all_chrs = genes_info[\"chr\"].dropna().unique()\n",
    "assert all_chrs.shape[0] == 22\n",
    "\n",
    "# select chromosome given by the user\n",
    "assert CHROMOSOME in all_chrs"
   ]
  },
  {
   "cell_type": "code",
   "execution_count": 25,
   "id": "2d7c043c-92a7-4d35-991b-fa69ac1e0268",
   "metadata": {
    "execution": {
     "iopub.execute_input": "2022-08-28T14:28:11.332466Z",
     "iopub.status.busy": "2022-08-28T14:28:11.332276Z",
     "iopub.status.idle": "2022-08-28T14:28:11.364660Z",
     "shell.execute_reply": "2022-08-28T14:28:11.364112Z"
    },
    "papermill": {
     "duration": 0.044989,
     "end_time": "2022-08-28T14:28:11.366203",
     "exception": false,
     "start_time": "2022-08-28T14:28:11.321214",
     "status": "completed"
    },
    "tags": []
   },
   "outputs": [
    {
     "name": "stdout",
     "output_type": "stream",
     "text": [
      "Number of genes in chromosome: 62\n"
     ]
    }
   ],
   "source": [
    "# run only on the chromosome specified\n",
    "all_chrs = [CHROMOSOME]\n",
    "genes_chr = genes_info[genes_info[\"chr\"] == CHROMOSOME]\n",
    "\n",
    "# For testing purposes\n",
    "# genes_chr = genes_chr.sample(n=20)\n",
    "\n",
    "print(f\"Number of genes in chromosome: {genes_chr.shape[0]}\", flush=True)"
   ]
  },
  {
   "cell_type": "code",
   "execution_count": 26,
   "id": "916015d8-2979-46d3-a9b9-1cf5a0932c6a",
   "metadata": {
    "execution": {
     "iopub.execute_input": "2022-08-28T14:28:11.388224Z",
     "iopub.status.busy": "2022-08-28T14:28:11.388010Z",
     "iopub.status.idle": "2022-08-28T14:28:11.405152Z",
     "shell.execute_reply": "2022-08-28T14:28:11.404570Z"
    },
    "papermill": {
     "duration": 0.03011,
     "end_time": "2022-08-28T14:28:11.406672",
     "exception": false,
     "start_time": "2022-08-28T14:28:11.376562",
     "status": "completed"
    },
    "tags": []
   },
   "outputs": [],
   "source": [
    "# sort genes by starting position to make visualizations better later\n",
    "genes_chr = genes_chr.sort_values(\"start_position\")"
   ]
  },
  {
   "cell_type": "code",
   "execution_count": 27,
   "id": "a38aa74a-8ad3-47f6-8ef9-56be0e011774",
   "metadata": {
    "execution": {
     "iopub.execute_input": "2022-08-28T14:28:11.428138Z",
     "iopub.status.busy": "2022-08-28T14:28:11.427940Z",
     "iopub.status.idle": "2022-08-28T14:28:11.444712Z",
     "shell.execute_reply": "2022-08-28T14:28:11.444204Z"
    },
    "papermill": {
     "duration": 0.029211,
     "end_time": "2022-08-28T14:28:11.446240",
     "exception": false,
     "start_time": "2022-08-28T14:28:11.417029",
     "status": "completed"
    },
    "tags": []
   },
   "outputs": [],
   "source": [
    "gene_chr_objs = [Gene(ensembl_id=gene_id) for gene_id in genes_chr[\"id\"]]"
   ]
  },
  {
   "cell_type": "code",
   "execution_count": 28,
   "id": "570f974f-13c3-42b6-ad3a-ce99ca885c1a",
   "metadata": {
    "execution": {
     "iopub.execute_input": "2022-08-28T14:28:11.468948Z",
     "iopub.status.busy": "2022-08-28T14:28:11.468758Z",
     "iopub.status.idle": "2022-08-28T14:28:11.486699Z",
     "shell.execute_reply": "2022-08-28T14:28:11.486195Z"
    },
    "papermill": {
     "duration": 0.031344,
     "end_time": "2022-08-28T14:28:11.488230",
     "exception": false,
     "start_time": "2022-08-28T14:28:11.456886",
     "status": "completed"
    },
    "tags": []
   },
   "outputs": [
    {
     "name": "stdout",
     "output_type": "stream",
     "text": [
      "Number of gene combinations: 1891\n"
     ]
    }
   ],
   "source": [
    "n = len(gene_chr_objs)\n",
    "n_comb = int(n * (n - 1) / 2.0)\n",
    "print(f\"Number of gene combinations: {n_comb}\", flush=True)"
   ]
  },
  {
   "cell_type": "code",
   "execution_count": 29,
   "id": "cdbb90a1",
   "metadata": {
    "execution": {
     "iopub.execute_input": "2022-08-28T14:28:11.514148Z",
     "iopub.status.busy": "2022-08-28T14:28:11.513951Z",
     "iopub.status.idle": "2022-08-28T14:32:10.961162Z",
     "shell.execute_reply": "2022-08-28T14:32:10.960432Z"
    },
    "papermill": {
     "duration": 239.462077,
     "end_time": "2022-08-28T14:32:10.962978",
     "exception": false,
     "start_time": "2022-08-28T14:28:11.500901",
     "status": "completed"
    },
    "tags": []
   },
   "outputs": [
    {
     "name": "stderr",
     "output_type": "stream",
     "text": [
      "ENSG00000160307 / ENSG00000160307: : 1953it [03:59,  8.16it/s]\n"
     ]
    },
    {
     "data": {
      "text/plain": [
       "PosixPath('/project/ritchie20/projects/phenoplier/base/results/gls/gene_corrs/cohorts/1000g_eur/gtex_v8/mashr/by_chr/gene_corrs-chr21.pkl')"
      ]
     },
     "metadata": {},
     "output_type": "display_data"
    }
   ],
   "source": [
    "gene_corrs = []\n",
    "gene_corrs_data = np.full(\n",
    "    (n, n),\n",
    "    np.nan,\n",
    "    dtype=np.float64,\n",
    ")\n",
    "\n",
    "i = 0\n",
    "with tqdm(ncols=100, total=n_comb) as pbar:\n",
    "    for gene1_idx in range(0, len(gene_chr_objs)):\n",
    "        gene1_obj = gene_chr_objs[gene1_idx]\n",
    "        gene1_tissues = spredixcan_genes_models.loc[gene1_obj.ensembl_id, \"tissue\"]\n",
    "\n",
    "        for gene2_idx in range(gene1_idx, len(gene_chr_objs)):\n",
    "            gene2_obj = gene_chr_objs[gene2_idx]\n",
    "            gene2_tissues = spredixcan_genes_models.loc[gene2_obj.ensembl_id, \"tissue\"]\n",
    "\n",
    "            pbar.set_description(f\"{gene1_obj.ensembl_id} / {gene2_obj.ensembl_id}\")\n",
    "\n",
    "            try:\n",
    "                r = gene1_obj.get_ssm_correlation(\n",
    "                    other_gene=gene2_obj,\n",
    "                    tissues=gene1_tissues,\n",
    "                    other_tissues=gene2_tissues,\n",
    "                    snps_subset=gwas_variants_ids_set,\n",
    "                    condition_number=SMULTIXCAN_CONDITION_NUMBER,\n",
    "                    reference_panel=REFERENCE_PANEL,\n",
    "                    model_type=EQTL_MODEL,\n",
    "                    use_within_distance=COMPUTE_CORRELATIONS_WITHIN_DISTANCE,\n",
    "                )\n",
    "\n",
    "                if r is None:\n",
    "                    # if r is None, it's very likely because:\n",
    "                    #  * one of the genes has no prediction models\n",
    "                    #  * all the SNPs predictors for the gene are not present in the reference\n",
    "                    #    panel\n",
    "\n",
    "                    r = 0.0\n",
    "\n",
    "                gene_corrs.append(r)\n",
    "\n",
    "                gene_corrs_data[gene1_idx, gene2_idx] = r\n",
    "                gene_corrs_data[gene2_idx, gene1_idx] = r\n",
    "            except Warning as e:\n",
    "                if not DEBUG_MODE:\n",
    "                    raise e\n",
    "\n",
    "                print(\n",
    "                    f\"RuntimeWarning for genes {gene1_obj.ensembl_id} and {gene2_obj.ensembl_id}\",\n",
    "                    flush=True,\n",
    "                )\n",
    "                print(traceback.format_exc(), flush=True)\n",
    "\n",
    "                gene_corrs.append(np.nan)\n",
    "            except Exception as e:\n",
    "                if not DEBUG_MODE:\n",
    "                    raise e\n",
    "\n",
    "                print(\n",
    "                    f\"Exception for genes {gene1_obj.ensembl_id} and {gene2_obj.ensembl_id}\",\n",
    "                    flush=True,\n",
    "                )\n",
    "                print(traceback.format_exc(), flush=True)\n",
    "\n",
    "                gene_corrs.append(np.nan)\n",
    "\n",
    "            pbar.update(1)\n",
    "\n",
    "# create a pandas series\n",
    "gene_corrs_flat = pd.Series(gene_corrs)\n",
    "\n",
    "# save\n",
    "# FIXME: consider saving only the condenced matrix here. See here for\n",
    "# more details: https://github.com/greenelab/phenoplier/pull/38#discussion_r634600813\n",
    "# gene_corrs_data = squareform(np.array(gene_corrs, dtype=np.float64))\n",
    "# np.fill_diagonal(gene_corrs_data, 1.0)\n",
    "\n",
    "gene_chr_ids = [g.ensembl_id for g in gene_chr_objs]\n",
    "gene_corrs_df = pd.DataFrame(\n",
    "    data=gene_corrs_data,\n",
    "    index=gene_chr_ids,\n",
    "    columns=gene_chr_ids,\n",
    ")\n",
    "\n",
    "output_dir.mkdir(exist_ok=True, parents=True)\n",
    "display(output_file)\n",
    "\n",
    "gene_corrs_df.to_pickle(output_file)"
   ]
  },
  {
   "cell_type": "markdown",
   "id": "faa67b51-5373-470f-aa72-2ded53fa6dfe",
   "metadata": {
    "papermill": {
     "duration": 0.127178,
     "end_time": "2022-08-28T14:32:11.250790",
     "exception": false,
     "start_time": "2022-08-28T14:32:11.123612",
     "status": "completed"
    },
    "tags": []
   },
   "source": [
    "# Testing"
   ]
  },
  {
   "cell_type": "code",
   "execution_count": 30,
   "id": "14f7d046-4b55-4896-a56b-990127bcc388",
   "metadata": {
    "execution": {
     "iopub.execute_input": "2022-08-28T14:32:11.506995Z",
     "iopub.status.busy": "2022-08-28T14:32:11.506730Z",
     "iopub.status.idle": "2022-08-28T14:32:11.751085Z",
     "shell.execute_reply": "2022-08-28T14:32:11.750580Z"
    },
    "papermill": {
     "duration": 0.375548,
     "end_time": "2022-08-28T14:32:11.752590",
     "exception": false,
     "start_time": "2022-08-28T14:32:11.377042",
     "status": "completed"
    },
    "tags": []
   },
   "outputs": [
    {
     "data": {
      "text/plain": [
       "(62, 62)"
      ]
     },
     "execution_count": 30,
     "metadata": {},
     "output_type": "execute_result"
    }
   ],
   "source": [
    "gene_corrs_df.shape"
   ]
  },
  {
   "cell_type": "code",
   "execution_count": 31,
   "id": "c7d15414-3297-4537-a7c6-7588c0baeb75",
   "metadata": {
    "execution": {
     "iopub.execute_input": "2022-08-28T14:32:12.007442Z",
     "iopub.status.busy": "2022-08-28T14:32:12.007229Z",
     "iopub.status.idle": "2022-08-28T14:32:12.041170Z",
     "shell.execute_reply": "2022-08-28T14:32:12.040657Z"
    },
    "papermill": {
     "duration": 0.162544,
     "end_time": "2022-08-28T14:32:12.042588",
     "exception": false,
     "start_time": "2022-08-28T14:32:11.880044",
     "status": "completed"
    },
    "tags": []
   },
   "outputs": [
    {
     "data": {
      "text/html": [
       "<div>\n",
       "<style scoped>\n",
       "    .dataframe tbody tr th:only-of-type {\n",
       "        vertical-align: middle;\n",
       "    }\n",
       "\n",
       "    .dataframe tbody tr th {\n",
       "        vertical-align: top;\n",
       "    }\n",
       "\n",
       "    .dataframe thead th {\n",
       "        text-align: right;\n",
       "    }\n",
       "</style>\n",
       "<table border=\"1\" class=\"dataframe\">\n",
       "  <thead>\n",
       "    <tr style=\"text-align: right;\">\n",
       "      <th></th>\n",
       "      <th>ENSG00000155307</th>\n",
       "      <th>ENSG00000180530</th>\n",
       "      <th>ENSG00000154719</th>\n",
       "      <th>ENSG00000154721</th>\n",
       "      <th>ENSG00000154723</th>\n",
       "      <th>ENSG00000142192</th>\n",
       "      <th>ENSG00000154734</th>\n",
       "      <th>ENSG00000156261</th>\n",
       "      <th>ENSG00000171189</th>\n",
       "      <th>ENSG00000156299</th>\n",
       "      <th>...</th>\n",
       "      <th>ENSG00000160255</th>\n",
       "      <th>ENSG00000197381</th>\n",
       "      <th>ENSG00000182871</th>\n",
       "      <th>ENSG00000173638</th>\n",
       "      <th>ENSG00000142156</th>\n",
       "      <th>ENSG00000142173</th>\n",
       "      <th>ENSG00000160282</th>\n",
       "      <th>ENSG00000160285</th>\n",
       "      <th>ENSG00000160299</th>\n",
       "      <th>ENSG00000160307</th>\n",
       "    </tr>\n",
       "  </thead>\n",
       "  <tbody>\n",
       "    <tr>\n",
       "      <th>ENSG00000155307</th>\n",
       "      <td>1.000000</td>\n",
       "      <td>0.005178</td>\n",
       "      <td>0.004880</td>\n",
       "      <td>0.003141</td>\n",
       "      <td>0.005415</td>\n",
       "      <td>0.005186</td>\n",
       "      <td>0.003721</td>\n",
       "      <td>0.002872</td>\n",
       "      <td>0.006022</td>\n",
       "      <td>0.005140</td>\n",
       "      <td>...</td>\n",
       "      <td>0.013646</td>\n",
       "      <td>0.009796</td>\n",
       "      <td>0.008700</td>\n",
       "      <td>0.012405</td>\n",
       "      <td>0.009493</td>\n",
       "      <td>0.009552</td>\n",
       "      <td>0.008362</td>\n",
       "      <td>0.006249</td>\n",
       "      <td>0.008688</td>\n",
       "      <td>0.008517</td>\n",
       "    </tr>\n",
       "    <tr>\n",
       "      <th>ENSG00000180530</th>\n",
       "      <td>0.005178</td>\n",
       "      <td>1.000000</td>\n",
       "      <td>0.004544</td>\n",
       "      <td>0.006682</td>\n",
       "      <td>0.008033</td>\n",
       "      <td>0.008056</td>\n",
       "      <td>0.008561</td>\n",
       "      <td>0.002112</td>\n",
       "      <td>0.004616</td>\n",
       "      <td>0.009805</td>\n",
       "      <td>...</td>\n",
       "      <td>0.008660</td>\n",
       "      <td>0.011084</td>\n",
       "      <td>0.013233</td>\n",
       "      <td>0.014953</td>\n",
       "      <td>0.012049</td>\n",
       "      <td>0.010289</td>\n",
       "      <td>0.005715</td>\n",
       "      <td>0.006857</td>\n",
       "      <td>0.006533</td>\n",
       "      <td>0.008145</td>\n",
       "    </tr>\n",
       "    <tr>\n",
       "      <th>ENSG00000154719</th>\n",
       "      <td>0.004880</td>\n",
       "      <td>0.004544</td>\n",
       "      <td>1.000000</td>\n",
       "      <td>0.423625</td>\n",
       "      <td>0.151819</td>\n",
       "      <td>0.013556</td>\n",
       "      <td>0.006876</td>\n",
       "      <td>0.003509</td>\n",
       "      <td>0.000581</td>\n",
       "      <td>0.012442</td>\n",
       "      <td>...</td>\n",
       "      <td>0.006062</td>\n",
       "      <td>0.011233</td>\n",
       "      <td>0.008460</td>\n",
       "      <td>0.011899</td>\n",
       "      <td>0.008213</td>\n",
       "      <td>0.012071</td>\n",
       "      <td>0.004726</td>\n",
       "      <td>0.007143</td>\n",
       "      <td>0.006077</td>\n",
       "      <td>0.006459</td>\n",
       "    </tr>\n",
       "    <tr>\n",
       "      <th>ENSG00000154721</th>\n",
       "      <td>0.003141</td>\n",
       "      <td>0.006682</td>\n",
       "      <td>0.423625</td>\n",
       "      <td>1.000000</td>\n",
       "      <td>0.347390</td>\n",
       "      <td>0.012909</td>\n",
       "      <td>0.006788</td>\n",
       "      <td>0.003180</td>\n",
       "      <td>0.001469</td>\n",
       "      <td>0.008599</td>\n",
       "      <td>...</td>\n",
       "      <td>0.008081</td>\n",
       "      <td>0.007519</td>\n",
       "      <td>0.007651</td>\n",
       "      <td>0.009511</td>\n",
       "      <td>0.011769</td>\n",
       "      <td>0.013917</td>\n",
       "      <td>0.004619</td>\n",
       "      <td>0.004425</td>\n",
       "      <td>0.006521</td>\n",
       "      <td>0.006946</td>\n",
       "    </tr>\n",
       "    <tr>\n",
       "      <th>ENSG00000154723</th>\n",
       "      <td>0.005415</td>\n",
       "      <td>0.008033</td>\n",
       "      <td>0.151819</td>\n",
       "      <td>0.347390</td>\n",
       "      <td>1.000000</td>\n",
       "      <td>0.028369</td>\n",
       "      <td>0.005127</td>\n",
       "      <td>0.002333</td>\n",
       "      <td>0.002249</td>\n",
       "      <td>0.012492</td>\n",
       "      <td>...</td>\n",
       "      <td>0.010031</td>\n",
       "      <td>0.011980</td>\n",
       "      <td>0.011263</td>\n",
       "      <td>0.010536</td>\n",
       "      <td>0.011250</td>\n",
       "      <td>0.010151</td>\n",
       "      <td>0.006915</td>\n",
       "      <td>0.004478</td>\n",
       "      <td>0.009942</td>\n",
       "      <td>0.004872</td>\n",
       "    </tr>\n",
       "  </tbody>\n",
       "</table>\n",
       "<p>5 rows × 62 columns</p>\n",
       "</div>"
      ],
      "text/plain": [
       "                 ENSG00000155307  ENSG00000180530  ENSG00000154719  \\\n",
       "ENSG00000155307         1.000000         0.005178         0.004880   \n",
       "ENSG00000180530         0.005178         1.000000         0.004544   \n",
       "ENSG00000154719         0.004880         0.004544         1.000000   \n",
       "ENSG00000154721         0.003141         0.006682         0.423625   \n",
       "ENSG00000154723         0.005415         0.008033         0.151819   \n",
       "\n",
       "                 ENSG00000154721  ENSG00000154723  ENSG00000142192  \\\n",
       "ENSG00000155307         0.003141         0.005415         0.005186   \n",
       "ENSG00000180530         0.006682         0.008033         0.008056   \n",
       "ENSG00000154719         0.423625         0.151819         0.013556   \n",
       "ENSG00000154721         1.000000         0.347390         0.012909   \n",
       "ENSG00000154723         0.347390         1.000000         0.028369   \n",
       "\n",
       "                 ENSG00000154734  ENSG00000156261  ENSG00000171189  \\\n",
       "ENSG00000155307         0.003721         0.002872         0.006022   \n",
       "ENSG00000180530         0.008561         0.002112         0.004616   \n",
       "ENSG00000154719         0.006876         0.003509         0.000581   \n",
       "ENSG00000154721         0.006788         0.003180         0.001469   \n",
       "ENSG00000154723         0.005127         0.002333         0.002249   \n",
       "\n",
       "                 ENSG00000156299  ...  ENSG00000160255  ENSG00000197381  \\\n",
       "ENSG00000155307         0.005140  ...         0.013646         0.009796   \n",
       "ENSG00000180530         0.009805  ...         0.008660         0.011084   \n",
       "ENSG00000154719         0.012442  ...         0.006062         0.011233   \n",
       "ENSG00000154721         0.008599  ...         0.008081         0.007519   \n",
       "ENSG00000154723         0.012492  ...         0.010031         0.011980   \n",
       "\n",
       "                 ENSG00000182871  ENSG00000173638  ENSG00000142156  \\\n",
       "ENSG00000155307         0.008700         0.012405         0.009493   \n",
       "ENSG00000180530         0.013233         0.014953         0.012049   \n",
       "ENSG00000154719         0.008460         0.011899         0.008213   \n",
       "ENSG00000154721         0.007651         0.009511         0.011769   \n",
       "ENSG00000154723         0.011263         0.010536         0.011250   \n",
       "\n",
       "                 ENSG00000142173  ENSG00000160282  ENSG00000160285  \\\n",
       "ENSG00000155307         0.009552         0.008362         0.006249   \n",
       "ENSG00000180530         0.010289         0.005715         0.006857   \n",
       "ENSG00000154719         0.012071         0.004726         0.007143   \n",
       "ENSG00000154721         0.013917         0.004619         0.004425   \n",
       "ENSG00000154723         0.010151         0.006915         0.004478   \n",
       "\n",
       "                 ENSG00000160299  ENSG00000160307  \n",
       "ENSG00000155307         0.008688         0.008517  \n",
       "ENSG00000180530         0.006533         0.008145  \n",
       "ENSG00000154719         0.006077         0.006459  \n",
       "ENSG00000154721         0.006521         0.006946  \n",
       "ENSG00000154723         0.009942         0.004872  \n",
       "\n",
       "[5 rows x 62 columns]"
      ]
     },
     "execution_count": 31,
     "metadata": {},
     "output_type": "execute_result"
    }
   ],
   "source": [
    "gene_corrs_df.head()"
   ]
  },
  {
   "cell_type": "markdown",
   "id": "dad6603f-01c6-41fb-a6f6-241051207dd8",
   "metadata": {
    "papermill": {
     "duration": 0.146399,
     "end_time": "2022-08-28T14:32:12.316972",
     "exception": false,
     "start_time": "2022-08-28T14:32:12.170573",
     "status": "completed"
    },
    "tags": []
   },
   "source": [
    "## Standard checks and stats"
   ]
  },
  {
   "cell_type": "code",
   "execution_count": 32,
   "id": "286686af-1b7b-4440-8453-6bdcbd8de19c",
   "metadata": {
    "execution": {
     "iopub.execute_input": "2022-08-28T14:32:12.574499Z",
     "iopub.status.busy": "2022-08-28T14:32:12.574228Z",
     "iopub.status.idle": "2022-08-28T14:32:12.594168Z",
     "shell.execute_reply": "2022-08-28T14:32:12.593656Z"
    },
    "papermill": {
     "duration": 0.152178,
     "end_time": "2022-08-28T14:32:12.595692",
     "exception": false,
     "start_time": "2022-08-28T14:32:12.443514",
     "status": "completed"
    },
    "tags": []
   },
   "outputs": [],
   "source": [
    "assert not gene_corrs_df.isna().any().any()"
   ]
  },
  {
   "cell_type": "code",
   "execution_count": 33,
   "id": "00583efc-7068-4270-ad1e-4a418e91db96",
   "metadata": {
    "execution": {
     "iopub.execute_input": "2022-08-28T14:32:12.851311Z",
     "iopub.status.busy": "2022-08-28T14:32:12.851105Z",
     "iopub.status.idle": "2022-08-28T14:32:12.871390Z",
     "shell.execute_reply": "2022-08-28T14:32:12.870886Z"
    },
    "papermill": {
     "duration": 0.148516,
     "end_time": "2022-08-28T14:32:12.872811",
     "exception": false,
     "start_time": "2022-08-28T14:32:12.724295",
     "status": "completed"
    },
    "tags": []
   },
   "outputs": [
    {
     "data": {
      "text/plain": [
       "0.0005813800282471678"
      ]
     },
     "metadata": {},
     "output_type": "display_data"
    }
   ],
   "source": [
    "_min_val = gene_corrs_df.min().min()\n",
    "display(_min_val)\n",
    "assert _min_val >= -0.05"
   ]
  },
  {
   "cell_type": "code",
   "execution_count": 34,
   "id": "d04fb2cf-1050-475b-b855-f5f7cc04092b",
   "metadata": {
    "execution": {
     "iopub.execute_input": "2022-08-28T14:32:13.131446Z",
     "iopub.status.busy": "2022-08-28T14:32:13.131229Z",
     "iopub.status.idle": "2022-08-28T14:32:13.152355Z",
     "shell.execute_reply": "2022-08-28T14:32:13.151844Z"
    },
    "papermill": {
     "duration": 0.155175,
     "end_time": "2022-08-28T14:32:13.153782",
     "exception": false,
     "start_time": "2022-08-28T14:32:12.998607",
     "status": "completed"
    },
    "tags": []
   },
   "outputs": [
    {
     "data": {
      "text/plain": [
       "1.0000000000000013"
      ]
     },
     "metadata": {},
     "output_type": "display_data"
    }
   ],
   "source": [
    "_max_val = gene_corrs_df.max().max()  # this captures the diagonal\n",
    "display(_max_val)\n",
    "assert _max_val <= 1.05"
   ]
  },
  {
   "cell_type": "code",
   "execution_count": 35,
   "id": "96d02c44-1fba-47be-8a93-8f2608420b9c",
   "metadata": {
    "execution": {
     "iopub.execute_input": "2022-08-28T14:32:13.430009Z",
     "iopub.status.busy": "2022-08-28T14:32:13.429755Z",
     "iopub.status.idle": "2022-08-28T14:32:13.448942Z",
     "shell.execute_reply": "2022-08-28T14:32:13.448441Z"
    },
    "papermill": {
     "duration": 0.16904,
     "end_time": "2022-08-28T14:32:13.450462",
     "exception": false,
     "start_time": "2022-08-28T14:32:13.281422",
     "status": "completed"
    },
    "tags": []
   },
   "outputs": [],
   "source": [
    "# check upper triangular values\n",
    "# assert len(gene_corrs) == int(genes_chr.shape[0] * (genes_chr.shape[0] - 1) / 2)"
   ]
  },
  {
   "cell_type": "code",
   "execution_count": 36,
   "id": "fe283586-c348-40e0-8841-f6d97bfb021c",
   "metadata": {
    "execution": {
     "iopub.execute_input": "2022-08-28T14:32:13.704839Z",
     "iopub.status.busy": "2022-08-28T14:32:13.704643Z",
     "iopub.status.idle": "2022-08-28T14:32:13.726783Z",
     "shell.execute_reply": "2022-08-28T14:32:13.726283Z"
    },
    "papermill": {
     "duration": 0.150925,
     "end_time": "2022-08-28T14:32:13.728203",
     "exception": false,
     "start_time": "2022-08-28T14:32:13.577278",
     "status": "completed"
    },
    "tags": []
   },
   "outputs": [
    {
     "data": {
      "text/plain": [
       "count    1953.000000\n",
       "mean        0.045072\n",
       "std         0.177295\n",
       "min         0.000581\n",
       "25%         0.005853\n",
       "50%         0.007940\n",
       "75%         0.010810\n",
       "max         1.000000\n",
       "dtype: float64"
      ]
     },
     "execution_count": 36,
     "metadata": {},
     "output_type": "execute_result"
    }
   ],
   "source": [
    "gene_corrs_flat.describe()"
   ]
  },
  {
   "cell_type": "code",
   "execution_count": 37,
   "id": "b3815678-0f93-4b35-897b-a9d047a2aa78",
   "metadata": {
    "execution": {
     "iopub.execute_input": "2022-08-28T14:32:13.982036Z",
     "iopub.status.busy": "2022-08-28T14:32:13.981838Z",
     "iopub.status.idle": "2022-08-28T14:32:14.003337Z",
     "shell.execute_reply": "2022-08-28T14:32:14.002828Z"
    },
    "papermill": {
     "duration": 0.14998,
     "end_time": "2022-08-28T14:32:14.004753",
     "exception": false,
     "start_time": "2022-08-28T14:32:13.854773",
     "status": "completed"
    },
    "tags": []
   },
   "outputs": [
    {
     "data": {
      "text/plain": [
       "0.00    0.000581\n",
       "0.05    0.003267\n",
       "0.10    0.004199\n",
       "0.15    0.004790\n",
       "0.20    0.005255\n",
       "0.25    0.005853\n",
       "0.30    0.006324\n",
       "0.35    0.006732\n",
       "0.40    0.007169\n",
       "0.45    0.007538\n",
       "0.50    0.007940\n",
       "0.55    0.008318\n",
       "0.60    0.008774\n",
       "0.65    0.009303\n",
       "0.70    0.009984\n",
       "0.75    0.010810\n",
       "0.80    0.011708\n",
       "0.85    0.013005\n",
       "0.90    0.015396\n",
       "0.95    0.106192\n",
       "dtype: float64"
      ]
     },
     "metadata": {},
     "output_type": "display_data"
    }
   ],
   "source": [
    "gene_corrs_quantiles = gene_corrs_flat.quantile(np.arange(0, 1, 0.05))\n",
    "display(gene_corrs_quantiles)"
   ]
  },
  {
   "cell_type": "markdown",
   "id": "87134509-b145-4a10-8bc9-b7e914c2b0fa",
   "metadata": {
    "papermill": {
     "duration": 0.146313,
     "end_time": "2022-08-28T14:32:14.277306",
     "exception": false,
     "start_time": "2022-08-28T14:32:14.130993",
     "status": "completed"
    },
    "tags": []
   },
   "source": [
    "## Positive definiteness"
   ]
  },
  {
   "cell_type": "code",
   "execution_count": 38,
   "id": "07d9a9a1-a4f7-48aa-b916-6d42a8cc6186",
   "metadata": {
    "execution": {
     "iopub.execute_input": "2022-08-28T14:32:14.532921Z",
     "iopub.status.busy": "2022-08-28T14:32:14.532664Z",
     "iopub.status.idle": "2022-08-28T14:32:14.556437Z",
     "shell.execute_reply": "2022-08-28T14:32:14.555924Z"
    },
    "papermill": {
     "duration": 0.153528,
     "end_time": "2022-08-28T14:32:14.557858",
     "exception": false,
     "start_time": "2022-08-28T14:32:14.404330",
     "status": "completed"
    },
    "tags": []
   },
   "outputs": [
    {
     "data": {
      "text/plain": [
       "0"
      ]
     },
     "metadata": {},
     "output_type": "display_data"
    },
    {
     "data": {
      "text/plain": [
       "array([], dtype=float64)"
      ]
     },
     "metadata": {},
     "output_type": "display_data"
    }
   ],
   "source": [
    "# print negative eigenvalues\n",
    "eigs = np.linalg.eigvals(gene_corrs_df.to_numpy())\n",
    "display(len(eigs[eigs < 0]))\n",
    "display(eigs[eigs < 0])"
   ]
  },
  {
   "cell_type": "code",
   "execution_count": 39,
   "id": "6e218436-c3c5-4028-8c94-a4fa6260efce",
   "metadata": {
    "execution": {
     "iopub.execute_input": "2022-08-28T14:32:14.814828Z",
     "iopub.status.busy": "2022-08-28T14:32:14.814631Z",
     "iopub.status.idle": "2022-08-28T14:32:14.834545Z",
     "shell.execute_reply": "2022-08-28T14:32:14.834031Z"
    },
    "papermill": {
     "duration": 0.150023,
     "end_time": "2022-08-28T14:32:14.835965",
     "exception": false,
     "start_time": "2022-08-28T14:32:14.685942",
     "status": "completed"
    },
    "tags": []
   },
   "outputs": [
    {
     "name": "stdout",
     "output_type": "stream",
     "text": [
      "Works!\n"
     ]
    }
   ],
   "source": [
    "try:\n",
    "    chol_mat = np.linalg.cholesky(gene_corrs_df.to_numpy())\n",
    "    cov_inv = np.linalg.inv(chol_mat)\n",
    "    print(\"Works!\")\n",
    "except Exception as e:\n",
    "    print(f\"Cholesky decomposition failed: {str(e)}\")"
   ]
  },
  {
   "cell_type": "code",
   "execution_count": 40,
   "id": "dd8827fb-faf9-4c7c-9454-015e94752706",
   "metadata": {
    "execution": {
     "iopub.execute_input": "2022-08-28T14:32:15.090480Z",
     "iopub.status.busy": "2022-08-28T14:32:15.090284Z",
     "iopub.status.idle": "2022-08-28T14:32:15.110644Z",
     "shell.execute_reply": "2022-08-28T14:32:15.110136Z"
    },
    "papermill": {
     "duration": 0.14876,
     "end_time": "2022-08-28T14:32:15.112065",
     "exception": false,
     "start_time": "2022-08-28T14:32:14.963305",
     "status": "completed"
    },
    "tags": []
   },
   "outputs": [
    {
     "name": "stdout",
     "output_type": "stream",
     "text": [
      "Works!\n"
     ]
    }
   ],
   "source": [
    "try:\n",
    "    # decomposition used by statsmodels.GLS\n",
    "    cholsigmainv = np.linalg.cholesky(np.linalg.inv(gene_corrs_df.to_numpy())).T\n",
    "    print(\"Works!\")\n",
    "except Exception as e:\n",
    "    print(f\"Cholesky decomposition failed (statsmodels.GLS): {str(e)}\")"
   ]
  },
  {
   "cell_type": "markdown",
   "id": "8e60a080-edb2-4e9c-b2ef-22961693200c",
   "metadata": {
    "papermill": {
     "duration": 0.128367,
     "end_time": "2022-08-28T14:32:15.386831",
     "exception": false,
     "start_time": "2022-08-28T14:32:15.258464",
     "status": "completed"
    },
    "tags": []
   },
   "source": [
    "## Plot: distribution"
   ]
  },
  {
   "cell_type": "code",
   "execution_count": 41,
   "id": "8301126b-a7d4-4744-9c7d-f0f86eb6f54c",
   "metadata": {
    "execution": {
     "iopub.execute_input": "2022-08-28T14:32:15.643652Z",
     "iopub.status.busy": "2022-08-28T14:32:15.643400Z",
     "iopub.status.idle": "2022-08-28T14:32:19.074388Z",
     "shell.execute_reply": "2022-08-28T14:32:19.073442Z"
    },
    "papermill": {
     "duration": 3.562218,
     "end_time": "2022-08-28T14:32:19.077091",
     "exception": false,
     "start_time": "2022-08-28T14:32:15.514873",
     "status": "completed"
    },
    "tags": []
   },
   "outputs": [
    {
     "data": {
      "image/png": "[encoded data removed]",
      "text/plain": [
       "<Figure size 504x504 with 1 Axes>"
      ]
     },
     "metadata": {
      "needs_background": "light"
     },
     "output_type": "display_data"
    }
   ],
   "source": [
    "with sns.plotting_context(\"paper\", font_scale=1.5):\n",
    "    g = sns.displot(gene_corrs_flat, kde=True, height=7)\n",
    "    g.ax.set_title(\n",
    "        f\"Distribution of gene correlation values in chromosome {CHROMOSOME}\"\n",
    "    )"
   ]
  },
  {
   "cell_type": "markdown",
   "id": "cbd52bca-d878-4a2f-b684-5c83aa3038d4",
   "metadata": {
    "papermill": {
     "duration": 0.129566,
     "end_time": "2022-08-28T14:32:19.373491",
     "exception": false,
     "start_time": "2022-08-28T14:32:19.243925",
     "status": "completed"
    },
    "tags": []
   },
   "source": [
    "## Plot: heatmap"
   ]
  },
  {
   "cell_type": "code",
   "execution_count": 42,
   "id": "d03fe63a-c7b2-4fb9-a53c-db362ce843c9",
   "metadata": {
    "execution": {
     "iopub.execute_input": "2022-08-28T14:32:19.661491Z",
     "iopub.status.busy": "2022-08-28T14:32:19.661216Z",
     "iopub.status.idle": "2022-08-28T14:32:19.687889Z",
     "shell.execute_reply": "2022-08-28T14:32:19.687352Z"
    },
    "papermill": {
     "duration": 0.188154,
     "end_time": "2022-08-28T14:32:19.689490",
     "exception": false,
     "start_time": "2022-08-28T14:32:19.501336",
     "status": "completed"
    },
    "tags": []
   },
   "outputs": [
    {
     "data": {
      "text/plain": [
       "'0.0 / 0.05'"
      ]
     },
     "metadata": {},
     "output_type": "display_data"
    }
   ],
   "source": [
    "vmin_val = min(0.00, gene_corrs_quantiles[0.10])\n",
    "vmax_val = max(0.05, gene_corrs_quantiles[0.90])\n",
    "display(f\"{vmin_val} / {vmax_val}\")"
   ]
  },
  {
   "cell_type": "code",
   "execution_count": 43,
   "id": "dc41b70b-5bcc-4d9e-9f33-a22c4a94dab5",
   "metadata": {
    "execution": {
     "iopub.execute_input": "2022-08-28T14:32:19.949561Z",
     "iopub.status.busy": "2022-08-28T14:32:19.949358Z",
     "iopub.status.idle": "2022-08-28T14:32:20.098280Z",
     "shell.execute_reply": "2022-08-28T14:32:20.097759Z"
    },
    "papermill": {
     "duration": 0.279145,
     "end_time": "2022-08-28T14:32:20.099822",
     "exception": false,
     "start_time": "2022-08-28T14:32:19.820677",
     "status": "completed"
    },
    "tags": []
   },
   "outputs": [
    {
     "data": {
      "text/plain": [
       "Text(0.5, 1.0, 'Gene correlations in chromosome 21')"
      ]
     },
     "execution_count": 43,
     "metadata": {},
     "output_type": "execute_result"
    },
    {
     "data": {
      "image/png": "[encoded data removed]",
      "text/plain": [
       "<Figure size 720x720 with 2 Axes>"
      ]
     },
     "metadata": {
      "needs_background": "light"
     },
     "output_type": "display_data"
    }
   ],
   "source": [
    "f, ax = plt.subplots(figsize=(10, 10))\n",
    "sns.heatmap(\n",
    "    gene_corrs_df,\n",
    "    xticklabels=False,\n",
    "    yticklabels=False,\n",
    "    square=True,\n",
    "    vmin=vmin_val,\n",
    "    vmax=vmax_val,\n",
    "    cmap=\"rocket_r\",\n",
    "    ax=ax,\n",
    ")\n",
    "ax.set_title(f\"Gene correlations in chromosome {CHROMOSOME}\")"
   ]
  },
  {
   "cell_type": "code",
   "execution_count": null,
   "id": "b25e3ead",
   "metadata": {
    "papermill": {
     "duration": 0.126821,
     "end_time": "2022-08-28T14:32:20.355092",
     "exception": false,
     "start_time": "2022-08-28T14:32:20.228271",
     "status": "completed"
    },
    "tags": []
   },
   "outputs": [],
   "source": []
  }
 ],
 "metadata": {
  "jupytext": {
   "cell_metadata_filter": "all,-execution,-papermill,-trusted",
   "formats": "ipynb,py//py:percent"
  },
  "kernelspec": {
   "display_name": "Python 3 (ipykernel)",
   "language": "python",
   "name": "python3"
  },
  "language_info": {
   "codemirror_mode": {
    "name": "ipython",
    "version": 3
   },
   "file_extension": ".py",
   "mimetype": "text/x-python",
   "name": "python",
   "nbconvert_exporter": "python",
   "pygments_lexer": "ipython3",
   "version": "3.8.13"
  },
  "papermill": {
   "default_parameters": {},
   "duration": 265.983978,
   "end_time": "2022-08-28T14:32:23.122761",
   "environment_variables": {},
   "exception": null,
   "input_path": "nbs/15_gsa_gls/10-gene_expr_correlations.ipynb",
   "output_path": "nbs/15_gsa_gls/gene_corrs/cohorts/1000g_eur/gtex_v8/mashr/10-gene_expr_corrs/10-gene_expr_correlations-chr21.run.ipynb",
   "parameters": {
    "CHROMOSOME": 21,
    "COHORT_NAME": "1000g_eur",
    "EQTL_MODEL": "MASHR",
    "REFERENCE_PANEL": "GTEX_V8"
   },
   "start_time": "2022-08-28T14:27:57.138783",
   "version": "2.2.2"
  }
 },
 "nbformat": 4,
 "nbformat_minor": 5
}
