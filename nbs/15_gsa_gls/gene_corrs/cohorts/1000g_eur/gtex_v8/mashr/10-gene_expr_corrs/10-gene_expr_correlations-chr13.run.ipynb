{
 "cells": [
  {
   "cell_type": "markdown",
   "id": "7a6632fb",
   "metadata": {
    "papermill": {
     "duration": 0.024827,
     "end_time": "2022-08-28T14:28:00.182439",
     "exception": false,
     "start_time": "2022-08-28T14:28:00.157612",
     "status": "completed"
    },
    "tags": []
   },
   "source": [
    "# Description"
   ]
  },
  {
   "cell_type": "markdown",
   "id": "7097c346",
   "metadata": {
    "papermill": {
     "duration": 0.018492,
     "end_time": "2022-08-28T14:28:00.221402",
     "exception": false,
     "start_time": "2022-08-28T14:28:00.202910",
     "status": "completed"
    },
    "tags": []
   },
   "source": [
    "(Please, take a look at the README.md file in this directory for instructions on how to run this notebook)\n",
    "\n",
    "This notebook computes predicted expression correlations between all genes in the MultiPLIER models.\n",
    "\n",
    "It also has a parameter set for papermill to run on a single chromosome to run in parallel (see under `Settings` below).\n",
    "\n",
    "This notebook is not directly run. See README.md."
   ]
  },
  {
   "cell_type": "markdown",
   "id": "c61d8427",
   "metadata": {
    "papermill": {
     "duration": 0.035569,
     "end_time": "2022-08-28T14:28:00.282927",
     "exception": false,
     "start_time": "2022-08-28T14:28:00.247358",
     "status": "completed"
    },
    "tags": []
   },
   "source": [
    "# Modules"
   ]
  },
  {
   "cell_type": "code",
   "execution_count": 1,
   "id": "bbc0234f",
   "metadata": {
    "execution": {
     "iopub.execute_input": "2022-08-28T14:28:00.341939Z",
     "iopub.status.busy": "2022-08-28T14:28:00.341406Z",
     "iopub.status.idle": "2022-08-28T14:28:00.528949Z",
     "shell.execute_reply": "2022-08-28T14:28:00.527745Z"
    },
    "papermill": {
     "duration": 0.223821,
     "end_time": "2022-08-28T14:28:00.532774",
     "exception": false,
     "start_time": "2022-08-28T14:28:00.308953",
     "status": "completed"
    },
    "tags": []
   },
   "outputs": [],
   "source": [
    "%load_ext autoreload\n",
    "%autoreload 2"
   ]
  },
  {
   "cell_type": "code",
   "execution_count": 2,
   "id": "1d5f5a59",
   "metadata": {
    "execution": {
     "iopub.execute_input": "2022-08-28T14:28:00.567633Z",
     "iopub.status.busy": "2022-08-28T14:28:00.567217Z",
     "iopub.status.idle": "2022-08-28T14:28:04.613663Z",
     "shell.execute_reply": "2022-08-28T14:28:04.612792Z"
    },
    "papermill": {
     "duration": 4.067356,
     "end_time": "2022-08-28T14:28:04.616536",
     "exception": false,
     "start_time": "2022-08-28T14:28:00.549180",
     "status": "completed"
    },
    "tags": []
   },
   "outputs": [],
   "source": [
    "from random import sample, seed\n",
    "import warnings\n",
    "from pathlib import Path\n",
    "import pickle\n",
    "import traceback\n",
    "\n",
    "import numpy as np\n",
    "from scipy.spatial.distance import squareform\n",
    "import pandas as pd\n",
    "from tqdm import tqdm\n",
    "import matplotlib.pyplot as plt\n",
    "import seaborn as sns\n",
    "\n",
    "import conf\n",
    "from entity import Gene"
   ]
  },
  {
   "cell_type": "markdown",
   "id": "1eac24b5",
   "metadata": {
    "papermill": {
     "duration": 0.009946,
     "end_time": "2022-08-28T14:28:04.676500",
     "exception": false,
     "start_time": "2022-08-28T14:28:04.666554",
     "status": "completed"
    },
    "tags": []
   },
   "source": [
    "# Settings"
   ]
  },
  {
   "cell_type": "code",
   "execution_count": 3,
   "id": "ca4560ba",
   "metadata": {
    "execution": {
     "iopub.execute_input": "2022-08-28T14:28:04.699814Z",
     "iopub.status.busy": "2022-08-28T14:28:04.699496Z",
     "iopub.status.idle": "2022-08-28T14:28:04.843119Z",
     "shell.execute_reply": "2022-08-28T14:28:04.841977Z"
    },
    "papermill": {
     "duration": 0.158643,
     "end_time": "2022-08-28T14:28:04.846724",
     "exception": false,
     "start_time": "2022-08-28T14:28:04.688081",
     "status": "completed"
    },
    "tags": [
     "parameters"
    ]
   },
   "outputs": [],
   "source": [
    "# a cohort name (it could be something like UK_BIOBANK, etc)\n",
    "COHORT_NAME = None\n",
    "\n",
    "# reference panel such as 1000G or GTEX_V8\n",
    "REFERENCE_PANEL = None\n",
    "\n",
    "# predictions models such as MASHR or ELASTIC_NET\n",
    "EQTL_MODEL = None\n",
    "\n",
    "# this is the default value used in S-MultiXcan to select the\n",
    "# top principal components of the expression correlation matrix\n",
    "SMULTIXCAN_CONDITION_NUMBER = 30\n",
    "\n",
    "# specifies a single chromosome value\n",
    "CHROMOSOME = None\n",
    "\n",
    "# If True, computes the correlation between closeby genes only;\n",
    "# otherwise, it computes correlations for all genes in a chromosome\n",
    "COMPUTE_CORRELATIONS_WITHIN_DISTANCE = False\n",
    "\n",
    "# if True, then it will continue if a gene pair correlation fails,\n",
    "# printing the warning/error for debugging. If False, any warning/error\n",
    "# will be thrown\n",
    "DEBUG_MODE = False"
   ]
  },
  {
   "cell_type": "code",
   "execution_count": 4,
   "id": "0e1a8d68",
   "metadata": {
    "execution": {
     "iopub.execute_input": "2022-08-28T14:28:04.880197Z",
     "iopub.status.busy": "2022-08-28T14:28:04.879807Z",
     "iopub.status.idle": "2022-08-28T14:28:04.962000Z",
     "shell.execute_reply": "2022-08-28T14:28:04.960824Z"
    },
    "papermill": {
     "duration": 0.102796,
     "end_time": "2022-08-28T14:28:04.965884",
     "exception": false,
     "start_time": "2022-08-28T14:28:04.863088",
     "status": "completed"
    },
    "tags": [
     "injected-parameters"
    ]
   },
   "outputs": [],
   "source": [
    "# Parameters\n",
    "COHORT_NAME = \"1000g_eur\"\n",
    "REFERENCE_PANEL = \"GTEX_V8\"\n",
    "EQTL_MODEL = \"MASHR\"\n",
    "CHROMOSOME = 13\n"
   ]
  },
  {
   "cell_type": "code",
   "execution_count": 5,
   "id": "3190631f-27fc-480f-b18e-571d580425a5",
   "metadata": {
    "execution": {
     "iopub.execute_input": "2022-08-28T14:28:05.004994Z",
     "iopub.status.busy": "2022-08-28T14:28:05.004610Z",
     "iopub.status.idle": "2022-08-28T14:28:05.128948Z",
     "shell.execute_reply": "2022-08-28T14:28:05.127846Z"
    },
    "papermill": {
     "duration": 0.147765,
     "end_time": "2022-08-28T14:28:05.132219",
     "exception": false,
     "start_time": "2022-08-28T14:28:04.984454",
     "status": "completed"
    },
    "tags": []
   },
   "outputs": [
    {
     "data": {
      "text/plain": [
       "'Cohort name: 1000g_eur'"
      ]
     },
     "metadata": {},
     "output_type": "display_data"
    }
   ],
   "source": [
    "assert COHORT_NAME is not None and len(COHORT_NAME) > 0, \"A cohort name must be given\"\n",
    "\n",
    "COHORT_NAME = COHORT_NAME.lower()\n",
    "display(f\"Cohort name: {COHORT_NAME}\")"
   ]
  },
  {
   "cell_type": "code",
   "execution_count": 6,
   "id": "f53ba19b-0f93-4fa2-a047-63b375939d1a",
   "metadata": {
    "execution": {
     "iopub.execute_input": "2022-08-28T14:28:05.185179Z",
     "iopub.status.busy": "2022-08-28T14:28:05.184698Z",
     "iopub.status.idle": "2022-08-28T14:28:05.480237Z",
     "shell.execute_reply": "2022-08-28T14:28:05.479145Z"
    },
    "papermill": {
     "duration": 0.325095,
     "end_time": "2022-08-28T14:28:05.483527",
     "exception": false,
     "start_time": "2022-08-28T14:28:05.158432",
     "status": "completed"
    },
    "tags": []
   },
   "outputs": [
    {
     "data": {
      "text/plain": [
       "'Reference panel: GTEX_V8'"
      ]
     },
     "metadata": {},
     "output_type": "display_data"
    }
   ],
   "source": [
    "assert (\n",
    "    REFERENCE_PANEL is not None and len(REFERENCE_PANEL) > 0\n",
    "), \"A reference panel must be given\"\n",
    "\n",
    "display(f\"Reference panel: {REFERENCE_PANEL}\")"
   ]
  },
  {
   "cell_type": "code",
   "execution_count": 7,
   "id": "e024d130-c139-429a-9c6e-ccf149e297b0",
   "metadata": {
    "execution": {
     "iopub.execute_input": "2022-08-28T14:28:05.553868Z",
     "iopub.status.busy": "2022-08-28T14:28:05.553316Z",
     "iopub.status.idle": "2022-08-28T14:28:05.795568Z",
     "shell.execute_reply": "2022-08-28T14:28:05.794400Z"
    },
    "papermill": {
     "duration": 0.285318,
     "end_time": "2022-08-28T14:28:05.799104",
     "exception": false,
     "start_time": "2022-08-28T14:28:05.513786",
     "status": "completed"
    },
    "tags": []
   },
   "outputs": [
    {
     "data": {
      "text/plain": [
       "'eQTL model: MASHR) / mashr_'"
      ]
     },
     "metadata": {},
     "output_type": "display_data"
    }
   ],
   "source": [
    "assert (\n",
    "    EQTL_MODEL is not None and len(EQTL_MODEL) > 0\n",
    "), \"A prediction/eQTL model must be given\"\n",
    "\n",
    "EQTL_MODEL_FILES_PREFIX = conf.PHENOMEXCAN[\"PREDICTION_MODELS\"][f\"{EQTL_MODEL}_PREFIX\"]\n",
    "display(f\"eQTL model: {EQTL_MODEL}) / {EQTL_MODEL_FILES_PREFIX}\")"
   ]
  },
  {
   "cell_type": "code",
   "execution_count": 8,
   "id": "552a7f63-a18c-4d3e-bb6a-94f99b431291",
   "metadata": {
    "execution": {
     "iopub.execute_input": "2022-08-28T14:28:05.838386Z",
     "iopub.status.busy": "2022-08-28T14:28:05.838005Z",
     "iopub.status.idle": "2022-08-28T14:28:05.886527Z",
     "shell.execute_reply": "2022-08-28T14:28:05.885552Z"
    },
    "papermill": {
     "duration": 0.07062,
     "end_time": "2022-08-28T14:28:05.889147",
     "exception": false,
     "start_time": "2022-08-28T14:28:05.818527",
     "status": "completed"
    },
    "tags": []
   },
   "outputs": [
    {
     "data": {
      "text/plain": [
       "'S-MultiXcan condition number: 30'"
      ]
     },
     "metadata": {},
     "output_type": "display_data"
    }
   ],
   "source": [
    "assert (\n",
    "    SMULTIXCAN_CONDITION_NUMBER is not None and SMULTIXCAN_CONDITION_NUMBER > 0\n",
    "), \"The S-MultiXcan condition number (positive integer) must be given\"\n",
    "\n",
    "display(f\"S-MultiXcan condition number: {SMULTIXCAN_CONDITION_NUMBER}\")"
   ]
  },
  {
   "cell_type": "code",
   "execution_count": 9,
   "id": "f34a336f-548e-4afe-8955-90eaea4f42c6",
   "metadata": {
    "execution": {
     "iopub.execute_input": "2022-08-28T14:28:05.921046Z",
     "iopub.status.busy": "2022-08-28T14:28:05.920713Z",
     "iopub.status.idle": "2022-08-28T14:28:05.958785Z",
     "shell.execute_reply": "2022-08-28T14:28:05.957867Z"
    },
    "papermill": {
     "duration": 0.056506,
     "end_time": "2022-08-28T14:28:05.961101",
     "exception": false,
     "start_time": "2022-08-28T14:28:05.904595",
     "status": "completed"
    },
    "tags": []
   },
   "outputs": [
    {
     "data": {
      "text/plain": [
       "'Working on chromosome 13'"
      ]
     },
     "metadata": {},
     "output_type": "display_data"
    }
   ],
   "source": [
    "assert CHROMOSOME is not None and (\n",
    "    1 <= CHROMOSOME <= 22\n",
    "), \"You have to select one chromosome (format: number between 1 and 22)\"\n",
    "\n",
    "# CHROMOSOME = str(CHROMOSOME)\n",
    "display(f\"Working on chromosome {CHROMOSOME}\")"
   ]
  },
  {
   "cell_type": "code",
   "execution_count": 10,
   "id": "ab8e96e8-06b5-4363-9dcd-dc4d78cc27f7",
   "metadata": {
    "execution": {
     "iopub.execute_input": "2022-08-28T14:28:05.990370Z",
     "iopub.status.busy": "2022-08-28T14:28:05.990071Z",
     "iopub.status.idle": "2022-08-28T14:28:06.044061Z",
     "shell.execute_reply": "2022-08-28T14:28:06.042939Z"
    },
    "papermill": {
     "duration": 0.072481,
     "end_time": "2022-08-28T14:28:06.047338",
     "exception": false,
     "start_time": "2022-08-28T14:28:05.974857",
     "status": "completed"
    },
    "tags": []
   },
   "outputs": [
    {
     "data": {
      "text/plain": [
       "'Compute correlation within distance False'"
      ]
     },
     "metadata": {},
     "output_type": "display_data"
    }
   ],
   "source": [
    "display(f\"Compute correlation within distance {COMPUTE_CORRELATIONS_WITHIN_DISTANCE}\")"
   ]
  },
  {
   "cell_type": "code",
   "execution_count": 11,
   "id": "396392dc-0340-4540-9b02-e182b833f909",
   "metadata": {
    "execution": {
     "iopub.execute_input": "2022-08-28T14:28:06.098745Z",
     "iopub.status.busy": "2022-08-28T14:28:06.098344Z",
     "iopub.status.idle": "2022-08-28T14:28:06.157185Z",
     "shell.execute_reply": "2022-08-28T14:28:06.156251Z"
    },
    "papermill": {
     "duration": 0.081581,
     "end_time": "2022-08-28T14:28:06.159977",
     "exception": false,
     "start_time": "2022-08-28T14:28:06.078396",
     "status": "completed"
    },
    "tags": []
   },
   "outputs": [
    {
     "data": {
      "text/plain": [
       "'Using output dir base: /project/ritchie20/projects/phenoplier/base/results/gls/gene_corrs/cohorts/1000g_eur/gtex_v8/mashr'"
      ]
     },
     "metadata": {},
     "output_type": "display_data"
    }
   ],
   "source": [
    "OUTPUT_DIR_BASE = (\n",
    "    conf.RESULTS[\"GLS\"]\n",
    "    / \"gene_corrs\"\n",
    "    / \"cohorts\"\n",
    "    / COHORT_NAME\n",
    "    / REFERENCE_PANEL.lower()\n",
    "    / EQTL_MODEL.lower()\n",
    ")\n",
    "OUTPUT_DIR_BASE.mkdir(parents=True, exist_ok=True)\n",
    "\n",
    "display(f\"Using output dir base: {OUTPUT_DIR_BASE}\")"
   ]
  },
  {
   "cell_type": "markdown",
   "id": "d2ba085e",
   "metadata": {
    "papermill": {
     "duration": 0.023768,
     "end_time": "2022-08-28T14:28:06.200596",
     "exception": false,
     "start_time": "2022-08-28T14:28:06.176828",
     "status": "completed"
    },
    "tags": []
   },
   "source": [
    "# Load data"
   ]
  },
  {
   "cell_type": "markdown",
   "id": "7dcb8db7",
   "metadata": {
    "papermill": {
     "duration": 0.015125,
     "end_time": "2022-08-28T14:28:06.234513",
     "exception": false,
     "start_time": "2022-08-28T14:28:06.219388",
     "status": "completed"
    },
    "tags": []
   },
   "source": [
    "## GWAS variants"
   ]
  },
  {
   "cell_type": "code",
   "execution_count": 12,
   "id": "29434c4e-8cd3-4b9b-82e4-b5a251d9dd19",
   "metadata": {
    "execution": {
     "iopub.execute_input": "2022-08-28T14:28:06.278776Z",
     "iopub.status.busy": "2022-08-28T14:28:06.278427Z",
     "iopub.status.idle": "2022-08-28T14:28:09.060226Z",
     "shell.execute_reply": "2022-08-28T14:28:09.059481Z"
    },
    "papermill": {
     "duration": 2.802994,
     "end_time": "2022-08-28T14:28:09.062106",
     "exception": false,
     "start_time": "2022-08-28T14:28:06.259112",
     "status": "completed"
    },
    "tags": []
   },
   "outputs": [],
   "source": [
    "with open(OUTPUT_DIR_BASE / \"gwas_variant_ids.pkl\", \"rb\") as handle:\n",
    "    gwas_variants_ids_set = pickle.load(handle)"
   ]
  },
  {
   "cell_type": "code",
   "execution_count": 13,
   "id": "b9d9dec2-4a76-4bf9-bde2-e24c95acb8a0",
   "metadata": {
    "execution": {
     "iopub.execute_input": "2022-08-28T14:28:09.079751Z",
     "iopub.status.busy": "2022-08-28T14:28:09.079545Z",
     "iopub.status.idle": "2022-08-28T14:28:09.210090Z",
     "shell.execute_reply": "2022-08-28T14:28:09.209038Z"
    },
    "papermill": {
     "duration": 0.142825,
     "end_time": "2022-08-28T14:28:09.213366",
     "exception": false,
     "start_time": "2022-08-28T14:28:09.070541",
     "status": "completed"
    },
    "tags": []
   },
   "outputs": [
    {
     "data": {
      "text/plain": [
       "8325729"
      ]
     },
     "execution_count": 13,
     "metadata": {},
     "output_type": "execute_result"
    }
   ],
   "source": [
    "len(gwas_variants_ids_set)"
   ]
  },
  {
   "cell_type": "code",
   "execution_count": 14,
   "id": "4235b06a-6034-4ee4-a0a3-2ae35d122418",
   "metadata": {
    "execution": {
     "iopub.execute_input": "2022-08-28T14:28:09.251474Z",
     "iopub.status.busy": "2022-08-28T14:28:09.251074Z",
     "iopub.status.idle": "2022-08-28T14:28:09.785048Z",
     "shell.execute_reply": "2022-08-28T14:28:09.784429Z"
    },
    "papermill": {
     "duration": 0.554478,
     "end_time": "2022-08-28T14:28:09.786451",
     "exception": false,
     "start_time": "2022-08-28T14:28:09.231973",
     "status": "completed"
    },
    "tags": []
   },
   "outputs": [
    {
     "data": {
      "text/plain": [
       "['chr20_38574447_T_C_b38',\n",
       " 'chr19_16178594_G_T_b38',\n",
       " 'chr5_172369091_C_T_b38',\n",
       " 'chr10_116058101_A_G_b38',\n",
       " 'chr1_106214284_C_G_b38']"
      ]
     },
     "execution_count": 14,
     "metadata": {},
     "output_type": "execute_result"
    }
   ],
   "source": [
    "list(gwas_variants_ids_set)[:5]"
   ]
  },
  {
   "cell_type": "markdown",
   "id": "07866999-2305-41f9-a144-e69c9122c212",
   "metadata": {
    "papermill": {
     "duration": 0.008393,
     "end_time": "2022-08-28T14:28:09.803801",
     "exception": false,
     "start_time": "2022-08-28T14:28:09.795408",
     "status": "completed"
    },
    "tags": []
   },
   "source": [
    "## S-PrediXcan tissue models"
   ]
  },
  {
   "cell_type": "code",
   "execution_count": 15,
   "id": "780611d9-77c8-405f-90a4-f271f7b09397",
   "metadata": {
    "execution": {
     "iopub.execute_input": "2022-08-28T14:28:09.845360Z",
     "iopub.status.busy": "2022-08-28T14:28:09.845140Z",
     "iopub.status.idle": "2022-08-28T14:28:10.871323Z",
     "shell.execute_reply": "2022-08-28T14:28:10.870840Z"
    },
    "papermill": {
     "duration": 1.038103,
     "end_time": "2022-08-28T14:28:10.873064",
     "exception": false,
     "start_time": "2022-08-28T14:28:09.834961",
     "status": "completed"
    },
    "tags": []
   },
   "outputs": [],
   "source": [
    "spredixcan_genes_models = pd.read_pickle(OUTPUT_DIR_BASE / \"gene_tissues.pkl\")"
   ]
  },
  {
   "cell_type": "code",
   "execution_count": 16,
   "id": "726dd1f6-9557-4225-91fa-b3b879ea96e1",
   "metadata": {
    "execution": {
     "iopub.execute_input": "2022-08-28T14:28:10.898655Z",
     "iopub.status.busy": "2022-08-28T14:28:10.898437Z",
     "iopub.status.idle": "2022-08-28T14:28:11.100867Z",
     "shell.execute_reply": "2022-08-28T14:28:11.099780Z"
    },
    "papermill": {
     "duration": 0.222054,
     "end_time": "2022-08-28T14:28:11.104151",
     "exception": false,
     "start_time": "2022-08-28T14:28:10.882097",
     "status": "completed"
    },
    "tags": []
   },
   "outputs": [
    {
     "data": {
      "text/plain": [
       "(6442, 9)"
      ]
     },
     "execution_count": 16,
     "metadata": {},
     "output_type": "execute_result"
    }
   ],
   "source": [
    "spredixcan_genes_models.shape"
   ]
  },
  {
   "cell_type": "code",
   "execution_count": 17,
   "id": "944a1b48-222c-4eb0-b252-b9de2cbca215",
   "metadata": {
    "execution": {
     "iopub.execute_input": "2022-08-28T14:28:11.147865Z",
     "iopub.status.busy": "2022-08-28T14:28:11.147480Z",
     "iopub.status.idle": "2022-08-28T14:28:11.220889Z",
     "shell.execute_reply": "2022-08-28T14:28:11.220096Z"
    },
    "papermill": {
     "duration": 0.098899,
     "end_time": "2022-08-28T14:28:11.223096",
     "exception": false,
     "start_time": "2022-08-28T14:28:11.124197",
     "status": "completed"
    },
    "tags": []
   },
   "outputs": [
    {
     "data": {
      "text/html": [
       "<div>\n",
       "<style scoped>\n",
       "    .dataframe tbody tr th:only-of-type {\n",
       "        vertical-align: middle;\n",
       "    }\n",
       "\n",
       "    .dataframe tbody tr th {\n",
       "        vertical-align: top;\n",
       "    }\n",
       "\n",
       "    .dataframe thead th {\n",
       "        text-align: right;\n",
       "    }\n",
       "</style>\n",
       "<table border=\"1\" class=\"dataframe\">\n",
       "  <thead>\n",
       "    <tr style=\"text-align: right;\">\n",
       "      <th></th>\n",
       "      <th>gene_name</th>\n",
       "      <th>tissue</th>\n",
       "      <th>n_tissues</th>\n",
       "      <th>tissues_pc_variances</th>\n",
       "      <th>tissues_variances</th>\n",
       "      <th>n_snps_used_sum</th>\n",
       "      <th>n_snps_in_model_sum</th>\n",
       "      <th>unique_n_snps_in_model</th>\n",
       "      <th>unique_n_snps_used</th>\n",
       "    </tr>\n",
       "    <tr>\n",
       "      <th>gene_id</th>\n",
       "      <th></th>\n",
       "      <th></th>\n",
       "      <th></th>\n",
       "      <th></th>\n",
       "      <th></th>\n",
       "      <th></th>\n",
       "      <th></th>\n",
       "      <th></th>\n",
       "      <th></th>\n",
       "    </tr>\n",
       "  </thead>\n",
       "  <tbody>\n",
       "    <tr>\n",
       "      <th>ENSG00000000419</th>\n",
       "      <td>DPM1</td>\n",
       "      <td>(Brain_Substantia_nigra, Brain_Hypothalamus)</td>\n",
       "      <td>2</td>\n",
       "      <td>[1.0442398458252409, 0.9557601541747592]</td>\n",
       "      <td>{'Brain_Hypothalamus': 0.013162153504206677, '...</td>\n",
       "      <td>2</td>\n",
       "      <td>2</td>\n",
       "      <td>2</td>\n",
       "      <td>2</td>\n",
       "    </tr>\n",
       "    <tr>\n",
       "      <th>ENSG00000000938</th>\n",
       "      <td>FGR</td>\n",
       "      <td>(Liver, Brain_Spinal_cord_cervical_c-1, Brain_...</td>\n",
       "      <td>36</td>\n",
       "      <td>[31.63266933637127, 2.0783677518511445, 1.2716...</td>\n",
       "      <td>{'Muscle_Skeletal': 0.011422007299369654, 'Liv...</td>\n",
       "      <td>40</td>\n",
       "      <td>40</td>\n",
       "      <td>5</td>\n",
       "      <td>5</td>\n",
       "    </tr>\n",
       "    <tr>\n",
       "      <th>ENSG00000000971</th>\n",
       "      <td>CFH</td>\n",
       "      <td>(Brain_Spinal_cord_cervical_c-1, Brain_Caudate...</td>\n",
       "      <td>34</td>\n",
       "      <td>[21.56076992568329, 7.310170987045466, 1.83778...</td>\n",
       "      <td>{'Testis': 0.004542368000299983, 'Heart_Atrial...</td>\n",
       "      <td>44</td>\n",
       "      <td>44</td>\n",
       "      <td>12</td>\n",
       "      <td>12</td>\n",
       "    </tr>\n",
       "    <tr>\n",
       "      <th>ENSG00000001084</th>\n",
       "      <td>GCLC</td>\n",
       "      <td>(Adrenal_Gland, Artery_Coronary, Cells_Culture...</td>\n",
       "      <td>32</td>\n",
       "      <td>[21.291939080546527, 4.699418748743194, 2.2489...</td>\n",
       "      <td>{'Muscle_Skeletal': 0.0052333336977804, 'Testi...</td>\n",
       "      <td>46</td>\n",
       "      <td>46</td>\n",
       "      <td>23</td>\n",
       "      <td>23</td>\n",
       "    </tr>\n",
       "    <tr>\n",
       "      <th>ENSG00000001167</th>\n",
       "      <td>NFYA</td>\n",
       "      <td>(Adrenal_Gland, Brain_Spinal_cord_cervical_c-1...</td>\n",
       "      <td>40</td>\n",
       "      <td>[37.335660295497696, 1.391401960453836]</td>\n",
       "      <td>{'Muscle_Skeletal': 0.01510698551052935, 'Test...</td>\n",
       "      <td>47</td>\n",
       "      <td>48</td>\n",
       "      <td>14</td>\n",
       "      <td>13</td>\n",
       "    </tr>\n",
       "  </tbody>\n",
       "</table>\n",
       "</div>"
      ],
      "text/plain": [
       "                gene_name                                             tissue  \\\n",
       "gene_id                                                                        \n",
       "ENSG00000000419      DPM1       (Brain_Substantia_nigra, Brain_Hypothalamus)   \n",
       "ENSG00000000938       FGR  (Liver, Brain_Spinal_cord_cervical_c-1, Brain_...   \n",
       "ENSG00000000971       CFH  (Brain_Spinal_cord_cervical_c-1, Brain_Caudate...   \n",
       "ENSG00000001084      GCLC  (Adrenal_Gland, Artery_Coronary, Cells_Culture...   \n",
       "ENSG00000001167      NFYA  (Adrenal_Gland, Brain_Spinal_cord_cervical_c-1...   \n",
       "\n",
       "                 n_tissues                               tissues_pc_variances  \\\n",
       "gene_id                                                                         \n",
       "ENSG00000000419          2           [1.0442398458252409, 0.9557601541747592]   \n",
       "ENSG00000000938         36  [31.63266933637127, 2.0783677518511445, 1.2716...   \n",
       "ENSG00000000971         34  [21.56076992568329, 7.310170987045466, 1.83778...   \n",
       "ENSG00000001084         32  [21.291939080546527, 4.699418748743194, 2.2489...   \n",
       "ENSG00000001167         40            [37.335660295497696, 1.391401960453836]   \n",
       "\n",
       "                                                 tissues_variances  \\\n",
       "gene_id                                                              \n",
       "ENSG00000000419  {'Brain_Hypothalamus': 0.013162153504206677, '...   \n",
       "ENSG00000000938  {'Muscle_Skeletal': 0.011422007299369654, 'Liv...   \n",
       "ENSG00000000971  {'Testis': 0.004542368000299983, 'Heart_Atrial...   \n",
       "ENSG00000001084  {'Muscle_Skeletal': 0.0052333336977804, 'Testi...   \n",
       "ENSG00000001167  {'Muscle_Skeletal': 0.01510698551052935, 'Test...   \n",
       "\n",
       "                 n_snps_used_sum  n_snps_in_model_sum  unique_n_snps_in_model  \\\n",
       "gene_id                                                                         \n",
       "ENSG00000000419                2                    2                       2   \n",
       "ENSG00000000938               40                   40                       5   \n",
       "ENSG00000000971               44                   44                      12   \n",
       "ENSG00000001084               46                   46                      23   \n",
       "ENSG00000001167               47                   48                      14   \n",
       "\n",
       "                 unique_n_snps_used  \n",
       "gene_id                              \n",
       "ENSG00000000419                   2  \n",
       "ENSG00000000938                   5  \n",
       "ENSG00000000971                  12  \n",
       "ENSG00000001084                  23  \n",
       "ENSG00000001167                  13  "
      ]
     },
     "execution_count": 17,
     "metadata": {},
     "output_type": "execute_result"
    }
   ],
   "source": [
    "spredixcan_genes_models.head()"
   ]
  },
  {
   "cell_type": "code",
   "execution_count": 18,
   "id": "d1c11bb1-be0b-4f40-b360-633d6827109f",
   "metadata": {
    "execution": {
     "iopub.execute_input": "2022-08-28T14:28:11.259627Z",
     "iopub.status.busy": "2022-08-28T14:28:11.259329Z",
     "iopub.status.idle": "2022-08-28T14:28:11.287043Z",
     "shell.execute_reply": "2022-08-28T14:28:11.286438Z"
    },
    "papermill": {
     "duration": 0.045219,
     "end_time": "2022-08-28T14:28:11.289105",
     "exception": false,
     "start_time": "2022-08-28T14:28:11.243886",
     "status": "completed"
    },
    "tags": []
   },
   "outputs": [],
   "source": [
    "assert spredixcan_genes_models.index.is_unique"
   ]
  },
  {
   "cell_type": "markdown",
   "id": "a5b5092c-a13e-47c4-a92a-480fcc08f3ae",
   "metadata": {
    "papermill": {
     "duration": 0.012249,
     "end_time": "2022-08-28T14:28:11.313334",
     "exception": false,
     "start_time": "2022-08-28T14:28:11.301085",
     "status": "completed"
    },
    "tags": []
   },
   "source": [
    "## Gene info"
   ]
  },
  {
   "cell_type": "code",
   "execution_count": 19,
   "id": "7d6bb224-88e9-4358-ac10-43a41d92cdad",
   "metadata": {
    "execution": {
     "iopub.execute_input": "2022-08-28T14:28:11.339664Z",
     "iopub.status.busy": "2022-08-28T14:28:11.339410Z",
     "iopub.status.idle": "2022-08-28T14:28:11.372862Z",
     "shell.execute_reply": "2022-08-28T14:28:11.372294Z"
    },
    "papermill": {
     "duration": 0.048479,
     "end_time": "2022-08-28T14:28:11.374819",
     "exception": false,
     "start_time": "2022-08-28T14:28:11.326340",
     "status": "completed"
    },
    "tags": []
   },
   "outputs": [],
   "source": [
    "genes_info = pd.read_pickle(OUTPUT_DIR_BASE / \"genes_info.pkl\")"
   ]
  },
  {
   "cell_type": "code",
   "execution_count": 20,
   "id": "9e32abfa-546d-483e-8c18-d526e9e05903",
   "metadata": {
    "execution": {
     "iopub.execute_input": "2022-08-28T14:28:11.399118Z",
     "iopub.status.busy": "2022-08-28T14:28:11.398895Z",
     "iopub.status.idle": "2022-08-28T14:28:11.426035Z",
     "shell.execute_reply": "2022-08-28T14:28:11.425427Z"
    },
    "papermill": {
     "duration": 0.041375,
     "end_time": "2022-08-28T14:28:11.427650",
     "exception": false,
     "start_time": "2022-08-28T14:28:11.386275",
     "status": "completed"
    },
    "tags": []
   },
   "outputs": [
    {
     "data": {
      "text/plain": [
       "(6442, 7)"
      ]
     },
     "execution_count": 20,
     "metadata": {},
     "output_type": "execute_result"
    }
   ],
   "source": [
    "genes_info.shape"
   ]
  },
  {
   "cell_type": "code",
   "execution_count": 21,
   "id": "d16c3e92-85ec-468a-9a56-e25a9774a1cb",
   "metadata": {
    "execution": {
     "iopub.execute_input": "2022-08-28T14:28:11.450985Z",
     "iopub.status.busy": "2022-08-28T14:28:11.450762Z",
     "iopub.status.idle": "2022-08-28T14:28:11.485338Z",
     "shell.execute_reply": "2022-08-28T14:28:11.484733Z"
    },
    "papermill": {
     "duration": 0.048124,
     "end_time": "2022-08-28T14:28:11.487016",
     "exception": false,
     "start_time": "2022-08-28T14:28:11.438892",
     "status": "completed"
    },
    "tags": []
   },
   "outputs": [
    {
     "data": {
      "text/html": [
       "<div>\n",
       "<style scoped>\n",
       "    .dataframe tbody tr th:only-of-type {\n",
       "        vertical-align: middle;\n",
       "    }\n",
       "\n",
       "    .dataframe tbody tr th {\n",
       "        vertical-align: top;\n",
       "    }\n",
       "\n",
       "    .dataframe thead th {\n",
       "        text-align: right;\n",
       "    }\n",
       "</style>\n",
       "<table border=\"1\" class=\"dataframe\">\n",
       "  <thead>\n",
       "    <tr style=\"text-align: right;\">\n",
       "      <th></th>\n",
       "      <th>name</th>\n",
       "      <th>id</th>\n",
       "      <th>chr</th>\n",
       "      <th>band</th>\n",
       "      <th>start_position</th>\n",
       "      <th>end_position</th>\n",
       "      <th>gene_length</th>\n",
       "    </tr>\n",
       "  </thead>\n",
       "  <tbody>\n",
       "    <tr>\n",
       "      <th>0</th>\n",
       "      <td>SNAPC3</td>\n",
       "      <td>ENSG00000164975</td>\n",
       "      <td>9</td>\n",
       "      <td>9p22.3</td>\n",
       "      <td>15422704</td>\n",
       "      <td>15465953</td>\n",
       "      <td>43249</td>\n",
       "    </tr>\n",
       "    <tr>\n",
       "      <th>1</th>\n",
       "      <td>SEC13</td>\n",
       "      <td>ENSG00000157020</td>\n",
       "      <td>3</td>\n",
       "      <td>3p25.3</td>\n",
       "      <td>10293131</td>\n",
       "      <td>10321112</td>\n",
       "      <td>27981</td>\n",
       "    </tr>\n",
       "    <tr>\n",
       "      <th>2</th>\n",
       "      <td>PTH2R</td>\n",
       "      <td>ENSG00000144407</td>\n",
       "      <td>2</td>\n",
       "      <td>2q34</td>\n",
       "      <td>208359714</td>\n",
       "      <td>208854503</td>\n",
       "      <td>494789</td>\n",
       "    </tr>\n",
       "    <tr>\n",
       "      <th>3</th>\n",
       "      <td>MDC1</td>\n",
       "      <td>ENSG00000137337</td>\n",
       "      <td>6</td>\n",
       "      <td>6p21.33</td>\n",
       "      <td>30699807</td>\n",
       "      <td>30717447</td>\n",
       "      <td>17640</td>\n",
       "    </tr>\n",
       "    <tr>\n",
       "      <th>4</th>\n",
       "      <td>TNFRSF6B</td>\n",
       "      <td>ENSG00000243509</td>\n",
       "      <td>20</td>\n",
       "      <td>20q13.33</td>\n",
       "      <td>63696652</td>\n",
       "      <td>63698684</td>\n",
       "      <td>2032</td>\n",
       "    </tr>\n",
       "  </tbody>\n",
       "</table>\n",
       "</div>"
      ],
      "text/plain": [
       "       name               id  chr      band  start_position  end_position  \\\n",
       "0    SNAPC3  ENSG00000164975    9    9p22.3        15422704      15465953   \n",
       "1     SEC13  ENSG00000157020    3    3p25.3        10293131      10321112   \n",
       "2     PTH2R  ENSG00000144407    2      2q34       208359714     208854503   \n",
       "3      MDC1  ENSG00000137337    6   6p21.33        30699807      30717447   \n",
       "4  TNFRSF6B  ENSG00000243509   20  20q13.33        63696652      63698684   \n",
       "\n",
       "   gene_length  \n",
       "0        43249  \n",
       "1        27981  \n",
       "2       494789  \n",
       "3        17640  \n",
       "4         2032  "
      ]
     },
     "execution_count": 21,
     "metadata": {},
     "output_type": "execute_result"
    }
   ],
   "source": [
    "genes_info.head()"
   ]
  },
  {
   "cell_type": "markdown",
   "id": "d3843e06",
   "metadata": {
    "papermill": {
     "duration": 0.013541,
     "end_time": "2022-08-28T14:28:11.514763",
     "exception": false,
     "start_time": "2022-08-28T14:28:11.501222",
     "status": "completed"
    },
    "tags": []
   },
   "source": [
    "# Compute correlations"
   ]
  },
  {
   "cell_type": "code",
   "execution_count": 22,
   "id": "cb859c15-d1f3-4006-a74c-2b83c0db9611",
   "metadata": {
    "execution": {
     "iopub.execute_input": "2022-08-28T14:28:11.542534Z",
     "iopub.status.busy": "2022-08-28T14:28:11.542294Z",
     "iopub.status.idle": "2022-08-28T14:28:11.567543Z",
     "shell.execute_reply": "2022-08-28T14:28:11.567020Z"
    },
    "papermill": {
     "duration": 0.040458,
     "end_time": "2022-08-28T14:28:11.569149",
     "exception": false,
     "start_time": "2022-08-28T14:28:11.528691",
     "status": "completed"
    },
    "tags": []
   },
   "outputs": [
    {
     "data": {
      "text/plain": [
       "PosixPath('/project/ritchie20/projects/phenoplier/base/results/gls/gene_corrs/cohorts/1000g_eur/gtex_v8/mashr/by_chr/gene_corrs-chr13.pkl')"
      ]
     },
     "metadata": {},
     "output_type": "display_data"
    }
   ],
   "source": [
    "output_dir = OUTPUT_DIR_BASE / \"by_chr\"\n",
    "output_dir.mkdir(exist_ok=True, parents=True)\n",
    "output_file = output_dir / f\"gene_corrs-chr{CHROMOSOME}.pkl\"\n",
    "display(output_file)"
   ]
  },
  {
   "cell_type": "code",
   "execution_count": 23,
   "id": "aa674fe4-6794-4eed-98fa-32b39d1d4ace",
   "metadata": {
    "execution": {
     "iopub.execute_input": "2022-08-28T14:28:11.594875Z",
     "iopub.status.busy": "2022-08-28T14:28:11.594653Z",
     "iopub.status.idle": "2022-08-28T14:28:11.615786Z",
     "shell.execute_reply": "2022-08-28T14:28:11.615208Z"
    },
    "papermill": {
     "duration": 0.036061,
     "end_time": "2022-08-28T14:28:11.617497",
     "exception": false,
     "start_time": "2022-08-28T14:28:11.581436",
     "status": "completed"
    },
    "tags": []
   },
   "outputs": [],
   "source": [
    "warnings.filterwarnings(\"error\")"
   ]
  },
  {
   "cell_type": "code",
   "execution_count": 24,
   "id": "44d5450b-3baf-43f1-9e2e-4b06f1a785f8",
   "metadata": {
    "execution": {
     "iopub.execute_input": "2022-08-28T14:28:11.655636Z",
     "iopub.status.busy": "2022-08-28T14:28:11.655384Z",
     "iopub.status.idle": "2022-08-28T14:28:11.685910Z",
     "shell.execute_reply": "2022-08-28T14:28:11.685134Z"
    },
    "papermill": {
     "duration": 0.050456,
     "end_time": "2022-08-28T14:28:11.687801",
     "exception": false,
     "start_time": "2022-08-28T14:28:11.637345",
     "status": "completed"
    },
    "tags": []
   },
   "outputs": [],
   "source": [
    "# standard checks\n",
    "all_chrs = genes_info[\"chr\"].dropna().unique()\n",
    "assert all_chrs.shape[0] == 22\n",
    "\n",
    "# select chromosome given by the user\n",
    "assert CHROMOSOME in all_chrs"
   ]
  },
  {
   "cell_type": "code",
   "execution_count": 25,
   "id": "2d7c043c-92a7-4d35-991b-fa69ac1e0268",
   "metadata": {
    "execution": {
     "iopub.execute_input": "2022-08-28T14:28:11.724667Z",
     "iopub.status.busy": "2022-08-28T14:28:11.724413Z",
     "iopub.status.idle": "2022-08-28T14:28:12.181929Z",
     "shell.execute_reply": "2022-08-28T14:28:12.180725Z"
    },
    "papermill": {
     "duration": 0.485025,
     "end_time": "2022-08-28T14:28:12.185331",
     "exception": false,
     "start_time": "2022-08-28T14:28:11.700306",
     "status": "completed"
    },
    "tags": []
   },
   "outputs": [
    {
     "name": "stdout",
     "output_type": "stream",
     "text": [
      "Number of genes in chromosome: 118\n"
     ]
    }
   ],
   "source": [
    "# run only on the chromosome specified\n",
    "all_chrs = [CHROMOSOME]\n",
    "genes_chr = genes_info[genes_info[\"chr\"] == CHROMOSOME]\n",
    "\n",
    "# For testing purposes\n",
    "# genes_chr = genes_chr.sample(n=20)\n",
    "\n",
    "print(f\"Number of genes in chromosome: {genes_chr.shape[0]}\", flush=True)"
   ]
  },
  {
   "cell_type": "code",
   "execution_count": 26,
   "id": "916015d8-2979-46d3-a9b9-1cf5a0932c6a",
   "metadata": {
    "execution": {
     "iopub.execute_input": "2022-08-28T14:28:12.273082Z",
     "iopub.status.busy": "2022-08-28T14:28:12.272598Z",
     "iopub.status.idle": "2022-08-28T14:28:12.600819Z",
     "shell.execute_reply": "2022-08-28T14:28:12.599556Z"
    },
    "papermill": {
     "duration": 0.380512,
     "end_time": "2022-08-28T14:28:12.604796",
     "exception": false,
     "start_time": "2022-08-28T14:28:12.224284",
     "status": "completed"
    },
    "tags": []
   },
   "outputs": [],
   "source": [
    "# sort genes by starting position to make visualizations better later\n",
    "genes_chr = genes_chr.sort_values(\"start_position\")"
   ]
  },
  {
   "cell_type": "code",
   "execution_count": 27,
   "id": "a38aa74a-8ad3-47f6-8ef9-56be0e011774",
   "metadata": {
    "execution": {
     "iopub.execute_input": "2022-08-28T14:28:12.680383Z",
     "iopub.status.busy": "2022-08-28T14:28:12.679936Z",
     "iopub.status.idle": "2022-08-28T14:28:12.719428Z",
     "shell.execute_reply": "2022-08-28T14:28:12.718522Z"
    },
    "papermill": {
     "duration": 0.074555,
     "end_time": "2022-08-28T14:28:12.722285",
     "exception": false,
     "start_time": "2022-08-28T14:28:12.647730",
     "status": "completed"
    },
    "tags": []
   },
   "outputs": [],
   "source": [
    "gene_chr_objs = [Gene(ensembl_id=gene_id) for gene_id in genes_chr[\"id\"]]"
   ]
  },
  {
   "cell_type": "code",
   "execution_count": 28,
   "id": "570f974f-13c3-42b6-ad3a-ce99ca885c1a",
   "metadata": {
    "execution": {
     "iopub.execute_input": "2022-08-28T14:28:12.762350Z",
     "iopub.status.busy": "2022-08-28T14:28:12.762032Z",
     "iopub.status.idle": "2022-08-28T14:28:12.794108Z",
     "shell.execute_reply": "2022-08-28T14:28:12.793235Z"
    },
    "papermill": {
     "duration": 0.055882,
     "end_time": "2022-08-28T14:28:12.796377",
     "exception": false,
     "start_time": "2022-08-28T14:28:12.740495",
     "status": "completed"
    },
    "tags": []
   },
   "outputs": [
    {
     "name": "stdout",
     "output_type": "stream",
     "text": [
      "Number of gene combinations: 6903\n"
     ]
    }
   ],
   "source": [
    "n = len(gene_chr_objs)\n",
    "n_comb = int(n * (n - 1) / 2.0)\n",
    "print(f\"Number of gene combinations: {n_comb}\", flush=True)"
   ]
  },
  {
   "cell_type": "code",
   "execution_count": 29,
   "id": "cdbb90a1",
   "metadata": {
    "execution": {
     "iopub.execute_input": "2022-08-28T14:28:12.832649Z",
     "iopub.status.busy": "2022-08-28T14:28:12.832351Z",
     "iopub.status.idle": "2022-08-28T14:34:59.296855Z",
     "shell.execute_reply": "2022-08-28T14:34:59.296243Z"
    },
    "papermill": {
     "duration": 406.483514,
     "end_time": "2022-08-28T14:34:59.298420",
     "exception": false,
     "start_time": "2022-08-28T14:28:12.814906",
     "status": "completed"
    },
    "tags": []
   },
   "outputs": [
    {
     "name": "stderr",
     "output_type": "stream",
     "text": [
      "ENSG00000169062 / ENSG00000169062: : 7021it [06:46, 17.28it/s]\n"
     ]
    },
    {
     "data": {
      "text/plain": [
       "PosixPath('/project/ritchie20/projects/phenoplier/base/results/gls/gene_corrs/cohorts/1000g_eur/gtex_v8/mashr/by_chr/gene_corrs-chr13.pkl')"
      ]
     },
     "metadata": {},
     "output_type": "display_data"
    }
   ],
   "source": [
    "gene_corrs = []\n",
    "gene_corrs_data = np.full(\n",
    "    (n, n),\n",
    "    np.nan,\n",
    "    dtype=np.float64,\n",
    ")\n",
    "\n",
    "i = 0\n",
    "with tqdm(ncols=100, total=n_comb) as pbar:\n",
    "    for gene1_idx in range(0, len(gene_chr_objs)):\n",
    "        gene1_obj = gene_chr_objs[gene1_idx]\n",
    "        gene1_tissues = spredixcan_genes_models.loc[gene1_obj.ensembl_id, \"tissue\"]\n",
    "\n",
    "        for gene2_idx in range(gene1_idx, len(gene_chr_objs)):\n",
    "            gene2_obj = gene_chr_objs[gene2_idx]\n",
    "            gene2_tissues = spredixcan_genes_models.loc[gene2_obj.ensembl_id, \"tissue\"]\n",
    "\n",
    "            pbar.set_description(f\"{gene1_obj.ensembl_id} / {gene2_obj.ensembl_id}\")\n",
    "\n",
    "            try:\n",
    "                r = gene1_obj.get_ssm_correlation(\n",
    "                    other_gene=gene2_obj,\n",
    "                    tissues=gene1_tissues,\n",
    "                    other_tissues=gene2_tissues,\n",
    "                    snps_subset=gwas_variants_ids_set,\n",
    "                    condition_number=SMULTIXCAN_CONDITION_NUMBER,\n",
    "                    reference_panel=REFERENCE_PANEL,\n",
    "                    model_type=EQTL_MODEL,\n",
    "                    use_within_distance=COMPUTE_CORRELATIONS_WITHIN_DISTANCE,\n",
    "                )\n",
    "\n",
    "                if r is None:\n",
    "                    # if r is None, it's very likely because:\n",
    "                    #  * one of the genes has no prediction models\n",
    "                    #  * all the SNPs predictors for the gene are not present in the reference\n",
    "                    #    panel\n",
    "\n",
    "                    r = 0.0\n",
    "\n",
    "                gene_corrs.append(r)\n",
    "\n",
    "                gene_corrs_data[gene1_idx, gene2_idx] = r\n",
    "                gene_corrs_data[gene2_idx, gene1_idx] = r\n",
    "            except Warning as e:\n",
    "                if not DEBUG_MODE:\n",
    "                    raise e\n",
    "\n",
    "                print(\n",
    "                    f\"RuntimeWarning for genes {gene1_obj.ensembl_id} and {gene2_obj.ensembl_id}\",\n",
    "                    flush=True,\n",
    "                )\n",
    "                print(traceback.format_exc(), flush=True)\n",
    "\n",
    "                gene_corrs.append(np.nan)\n",
    "            except Exception as e:\n",
    "                if not DEBUG_MODE:\n",
    "                    raise e\n",
    "\n",
    "                print(\n",
    "                    f\"Exception for genes {gene1_obj.ensembl_id} and {gene2_obj.ensembl_id}\",\n",
    "                    flush=True,\n",
    "                )\n",
    "                print(traceback.format_exc(), flush=True)\n",
    "\n",
    "                gene_corrs.append(np.nan)\n",
    "\n",
    "            pbar.update(1)\n",
    "\n",
    "# create a pandas series\n",
    "gene_corrs_flat = pd.Series(gene_corrs)\n",
    "\n",
    "# save\n",
    "# FIXME: consider saving only the condenced matrix here. See here for\n",
    "# more details: https://github.com/greenelab/phenoplier/pull/38#discussion_r634600813\n",
    "# gene_corrs_data = squareform(np.array(gene_corrs, dtype=np.float64))\n",
    "# np.fill_diagonal(gene_corrs_data, 1.0)\n",
    "\n",
    "gene_chr_ids = [g.ensembl_id for g in gene_chr_objs]\n",
    "gene_corrs_df = pd.DataFrame(\n",
    "    data=gene_corrs_data,\n",
    "    index=gene_chr_ids,\n",
    "    columns=gene_chr_ids,\n",
    ")\n",
    "\n",
    "output_dir.mkdir(exist_ok=True, parents=True)\n",
    "display(output_file)\n",
    "\n",
    "gene_corrs_df.to_pickle(output_file)"
   ]
  },
  {
   "cell_type": "markdown",
   "id": "faa67b51-5373-470f-aa72-2ded53fa6dfe",
   "metadata": {
    "papermill": {
     "duration": 0.304825,
     "end_time": "2022-08-28T14:34:59.923100",
     "exception": false,
     "start_time": "2022-08-28T14:34:59.618275",
     "status": "completed"
    },
    "tags": []
   },
   "source": [
    "# Testing"
   ]
  },
  {
   "cell_type": "code",
   "execution_count": 30,
   "id": "14f7d046-4b55-4896-a56b-990127bcc388",
   "metadata": {
    "execution": {
     "iopub.execute_input": "2022-08-28T14:35:00.561203Z",
     "iopub.status.busy": "2022-08-28T14:35:00.560939Z",
     "iopub.status.idle": "2022-08-28T14:35:00.841708Z",
     "shell.execute_reply": "2022-08-28T14:35:00.840631Z"
    },
    "papermill": {
     "duration": 0.586692,
     "end_time": "2022-08-28T14:35:00.844789",
     "exception": false,
     "start_time": "2022-08-28T14:35:00.258097",
     "status": "completed"
    },
    "tags": []
   },
   "outputs": [
    {
     "data": {
      "text/plain": [
       "(118, 118)"
      ]
     },
     "execution_count": 30,
     "metadata": {},
     "output_type": "execute_result"
    }
   ],
   "source": [
    "gene_corrs_df.shape"
   ]
  },
  {
   "cell_type": "code",
   "execution_count": 31,
   "id": "c7d15414-3297-4537-a7c6-7588c0baeb75",
   "metadata": {
    "execution": {
     "iopub.execute_input": "2022-08-28T14:35:01.583402Z",
     "iopub.status.busy": "2022-08-28T14:35:01.583149Z",
     "iopub.status.idle": "2022-08-28T14:35:01.615246Z",
     "shell.execute_reply": "2022-08-28T14:35:01.614830Z"
    },
    "papermill": {
     "duration": 0.350142,
     "end_time": "2022-08-28T14:35:01.616545",
     "exception": false,
     "start_time": "2022-08-28T14:35:01.266403",
     "status": "completed"
    },
    "tags": []
   },
   "outputs": [
    {
     "data": {
      "text/html": [
       "<div>\n",
       "<style scoped>\n",
       "    .dataframe tbody tr th:only-of-type {\n",
       "        vertical-align: middle;\n",
       "    }\n",
       "\n",
       "    .dataframe tbody tr th {\n",
       "        vertical-align: top;\n",
       "    }\n",
       "\n",
       "    .dataframe thead th {\n",
       "        text-align: right;\n",
       "    }\n",
       "</style>\n",
       "<table border=\"1\" class=\"dataframe\">\n",
       "  <thead>\n",
       "    <tr style=\"text-align: right;\">\n",
       "      <th></th>\n",
       "      <th>ENSG00000121741</th>\n",
       "      <th>ENSG00000121743</th>\n",
       "      <th>ENSG00000121742</th>\n",
       "      <th>ENSG00000032742</th>\n",
       "      <th>ENSG00000150457</th>\n",
       "      <th>ENSG00000150459</th>\n",
       "      <th>ENSG00000102678</th>\n",
       "      <th>ENSG00000127863</th>\n",
       "      <th>ENSG00000228741</th>\n",
       "      <th>ENSG00000102699</th>\n",
       "      <th>...</th>\n",
       "      <th>ENSG00000126217</th>\n",
       "      <th>ENSG00000057593</th>\n",
       "      <th>ENSG00000126231</th>\n",
       "      <th>ENSG00000139842</th>\n",
       "      <th>ENSG00000185896</th>\n",
       "      <th>ENSG00000198176</th>\n",
       "      <th>ENSG00000183087</th>\n",
       "      <th>ENSG00000185989</th>\n",
       "      <th>ENSG00000130177</th>\n",
       "      <th>ENSG00000169062</th>\n",
       "    </tr>\n",
       "  </thead>\n",
       "  <tbody>\n",
       "    <tr>\n",
       "      <th>ENSG00000121741</th>\n",
       "      <td>1.000000</td>\n",
       "      <td>0.012097</td>\n",
       "      <td>0.011184</td>\n",
       "      <td>0.002933</td>\n",
       "      <td>0.002772</td>\n",
       "      <td>0.002907</td>\n",
       "      <td>0.004328</td>\n",
       "      <td>0.008426</td>\n",
       "      <td>0.008153</td>\n",
       "      <td>0.005306</td>\n",
       "      <td>...</td>\n",
       "      <td>0.002487</td>\n",
       "      <td>0.002328</td>\n",
       "      <td>0.004101</td>\n",
       "      <td>0.002655</td>\n",
       "      <td>0.003584</td>\n",
       "      <td>0.005325</td>\n",
       "      <td>0.005511</td>\n",
       "      <td>0.004851</td>\n",
       "      <td>0.002478</td>\n",
       "      <td>0.001612</td>\n",
       "    </tr>\n",
       "    <tr>\n",
       "      <th>ENSG00000121743</th>\n",
       "      <td>0.012097</td>\n",
       "      <td>1.000000</td>\n",
       "      <td>0.028466</td>\n",
       "      <td>0.009301</td>\n",
       "      <td>0.013014</td>\n",
       "      <td>0.006714</td>\n",
       "      <td>0.003147</td>\n",
       "      <td>0.008373</td>\n",
       "      <td>0.006775</td>\n",
       "      <td>0.006577</td>\n",
       "      <td>...</td>\n",
       "      <td>0.014388</td>\n",
       "      <td>0.005054</td>\n",
       "      <td>0.005796</td>\n",
       "      <td>0.005822</td>\n",
       "      <td>0.007454</td>\n",
       "      <td>0.009804</td>\n",
       "      <td>0.011914</td>\n",
       "      <td>0.009311</td>\n",
       "      <td>0.005826</td>\n",
       "      <td>0.006949</td>\n",
       "    </tr>\n",
       "    <tr>\n",
       "      <th>ENSG00000121742</th>\n",
       "      <td>0.011184</td>\n",
       "      <td>0.028466</td>\n",
       "      <td>1.000000</td>\n",
       "      <td>0.010330</td>\n",
       "      <td>0.005040</td>\n",
       "      <td>0.006599</td>\n",
       "      <td>0.006706</td>\n",
       "      <td>0.012004</td>\n",
       "      <td>0.009493</td>\n",
       "      <td>0.004909</td>\n",
       "      <td>...</td>\n",
       "      <td>0.008468</td>\n",
       "      <td>0.003761</td>\n",
       "      <td>0.008086</td>\n",
       "      <td>0.009492</td>\n",
       "      <td>0.009668</td>\n",
       "      <td>0.007234</td>\n",
       "      <td>0.008366</td>\n",
       "      <td>0.010232</td>\n",
       "      <td>0.002535</td>\n",
       "      <td>0.004487</td>\n",
       "    </tr>\n",
       "    <tr>\n",
       "      <th>ENSG00000032742</th>\n",
       "      <td>0.002933</td>\n",
       "      <td>0.009301</td>\n",
       "      <td>0.010330</td>\n",
       "      <td>1.000000</td>\n",
       "      <td>0.017363</td>\n",
       "      <td>0.008529</td>\n",
       "      <td>0.005442</td>\n",
       "      <td>0.007502</td>\n",
       "      <td>0.008291</td>\n",
       "      <td>0.006997</td>\n",
       "      <td>...</td>\n",
       "      <td>0.008915</td>\n",
       "      <td>0.005578</td>\n",
       "      <td>0.005795</td>\n",
       "      <td>0.005745</td>\n",
       "      <td>0.005541</td>\n",
       "      <td>0.004671</td>\n",
       "      <td>0.006215</td>\n",
       "      <td>0.006101</td>\n",
       "      <td>0.004329</td>\n",
       "      <td>0.009767</td>\n",
       "    </tr>\n",
       "    <tr>\n",
       "      <th>ENSG00000150457</th>\n",
       "      <td>0.002772</td>\n",
       "      <td>0.013014</td>\n",
       "      <td>0.005040</td>\n",
       "      <td>0.017363</td>\n",
       "      <td>1.000000</td>\n",
       "      <td>0.003299</td>\n",
       "      <td>0.009922</td>\n",
       "      <td>0.014383</td>\n",
       "      <td>0.005669</td>\n",
       "      <td>0.005084</td>\n",
       "      <td>...</td>\n",
       "      <td>0.008691</td>\n",
       "      <td>0.006059</td>\n",
       "      <td>0.005640</td>\n",
       "      <td>0.005839</td>\n",
       "      <td>0.005654</td>\n",
       "      <td>0.006113</td>\n",
       "      <td>0.009080</td>\n",
       "      <td>0.005411</td>\n",
       "      <td>0.000850</td>\n",
       "      <td>0.002359</td>\n",
       "    </tr>\n",
       "  </tbody>\n",
       "</table>\n",
       "<p>5 rows × 118 columns</p>\n",
       "</div>"
      ],
      "text/plain": [
       "                 ENSG00000121741  ENSG00000121743  ENSG00000121742  \\\n",
       "ENSG00000121741         1.000000         0.012097         0.011184   \n",
       "ENSG00000121743         0.012097         1.000000         0.028466   \n",
       "ENSG00000121742         0.011184         0.028466         1.000000   \n",
       "ENSG00000032742         0.002933         0.009301         0.010330   \n",
       "ENSG00000150457         0.002772         0.013014         0.005040   \n",
       "\n",
       "                 ENSG00000032742  ENSG00000150457  ENSG00000150459  \\\n",
       "ENSG00000121741         0.002933         0.002772         0.002907   \n",
       "ENSG00000121743         0.009301         0.013014         0.006714   \n",
       "ENSG00000121742         0.010330         0.005040         0.006599   \n",
       "ENSG00000032742         1.000000         0.017363         0.008529   \n",
       "ENSG00000150457         0.017363         1.000000         0.003299   \n",
       "\n",
       "                 ENSG00000102678  ENSG00000127863  ENSG00000228741  \\\n",
       "ENSG00000121741         0.004328         0.008426         0.008153   \n",
       "ENSG00000121743         0.003147         0.008373         0.006775   \n",
       "ENSG00000121742         0.006706         0.012004         0.009493   \n",
       "ENSG00000032742         0.005442         0.007502         0.008291   \n",
       "ENSG00000150457         0.009922         0.014383         0.005669   \n",
       "\n",
       "                 ENSG00000102699  ...  ENSG00000126217  ENSG00000057593  \\\n",
       "ENSG00000121741         0.005306  ...         0.002487         0.002328   \n",
       "ENSG00000121743         0.006577  ...         0.014388         0.005054   \n",
       "ENSG00000121742         0.004909  ...         0.008468         0.003761   \n",
       "ENSG00000032742         0.006997  ...         0.008915         0.005578   \n",
       "ENSG00000150457         0.005084  ...         0.008691         0.006059   \n",
       "\n",
       "                 ENSG00000126231  ENSG00000139842  ENSG00000185896  \\\n",
       "ENSG00000121741         0.004101         0.002655         0.003584   \n",
       "ENSG00000121743         0.005796         0.005822         0.007454   \n",
       "ENSG00000121742         0.008086         0.009492         0.009668   \n",
       "ENSG00000032742         0.005795         0.005745         0.005541   \n",
       "ENSG00000150457         0.005640         0.005839         0.005654   \n",
       "\n",
       "                 ENSG00000198176  ENSG00000183087  ENSG00000185989  \\\n",
       "ENSG00000121741         0.005325         0.005511         0.004851   \n",
       "ENSG00000121743         0.009804         0.011914         0.009311   \n",
       "ENSG00000121742         0.007234         0.008366         0.010232   \n",
       "ENSG00000032742         0.004671         0.006215         0.006101   \n",
       "ENSG00000150457         0.006113         0.009080         0.005411   \n",
       "\n",
       "                 ENSG00000130177  ENSG00000169062  \n",
       "ENSG00000121741         0.002478         0.001612  \n",
       "ENSG00000121743         0.005826         0.006949  \n",
       "ENSG00000121742         0.002535         0.004487  \n",
       "ENSG00000032742         0.004329         0.009767  \n",
       "ENSG00000150457         0.000850         0.002359  \n",
       "\n",
       "[5 rows x 118 columns]"
      ]
     },
     "execution_count": 31,
     "metadata": {},
     "output_type": "execute_result"
    }
   ],
   "source": [
    "gene_corrs_df.head()"
   ]
  },
  {
   "cell_type": "markdown",
   "id": "dad6603f-01c6-41fb-a6f6-241051207dd8",
   "metadata": {
    "papermill": {
     "duration": 0.344104,
     "end_time": "2022-08-28T14:35:02.271425",
     "exception": false,
     "start_time": "2022-08-28T14:35:01.927321",
     "status": "completed"
    },
    "tags": []
   },
   "source": [
    "## Standard checks and stats"
   ]
  },
  {
   "cell_type": "code",
   "execution_count": 32,
   "id": "286686af-1b7b-4440-8453-6bdcbd8de19c",
   "metadata": {
    "execution": {
     "iopub.execute_input": "2022-08-28T14:35:02.923263Z",
     "iopub.status.busy": "2022-08-28T14:35:02.923022Z",
     "iopub.status.idle": "2022-08-28T14:35:02.942084Z",
     "shell.execute_reply": "2022-08-28T14:35:02.941689Z"
    },
    "papermill": {
     "duration": 0.356333,
     "end_time": "2022-08-28T14:35:02.943439",
     "exception": false,
     "start_time": "2022-08-28T14:35:02.587106",
     "status": "completed"
    },
    "tags": []
   },
   "outputs": [],
   "source": [
    "assert not gene_corrs_df.isna().any().any()"
   ]
  },
  {
   "cell_type": "code",
   "execution_count": 33,
   "id": "00583efc-7068-4270-ad1e-4a418e91db96",
   "metadata": {
    "execution": {
     "iopub.execute_input": "2022-08-28T14:35:03.581510Z",
     "iopub.status.busy": "2022-08-28T14:35:03.581250Z",
     "iopub.status.idle": "2022-08-28T14:35:03.602684Z",
     "shell.execute_reply": "2022-08-28T14:35:03.602066Z"
    },
    "papermill": {
     "duration": 0.361219,
     "end_time": "2022-08-28T14:35:03.604000",
     "exception": false,
     "start_time": "2022-08-28T14:35:03.242781",
     "status": "completed"
    },
    "tags": []
   },
   "outputs": [
    {
     "data": {
      "text/plain": [
       "2.699395436490209e-05"
      ]
     },
     "metadata": {},
     "output_type": "display_data"
    }
   ],
   "source": [
    "_min_val = gene_corrs_df.min().min()\n",
    "display(_min_val)\n",
    "assert _min_val >= -0.05"
   ]
  },
  {
   "cell_type": "code",
   "execution_count": 34,
   "id": "d04fb2cf-1050-475b-b855-f5f7cc04092b",
   "metadata": {
    "execution": {
     "iopub.execute_input": "2022-08-28T14:35:04.222063Z",
     "iopub.status.busy": "2022-08-28T14:35:04.221819Z",
     "iopub.status.idle": "2022-08-28T14:35:04.242760Z",
     "shell.execute_reply": "2022-08-28T14:35:04.242360Z"
    },
    "papermill": {
     "duration": 0.338403,
     "end_time": "2022-08-28T14:35:04.243963",
     "exception": false,
     "start_time": "2022-08-28T14:35:03.905560",
     "status": "completed"
    },
    "tags": []
   },
   "outputs": [
    {
     "data": {
      "text/plain": [
       "1.0000000000000029"
      ]
     },
     "metadata": {},
     "output_type": "display_data"
    }
   ],
   "source": [
    "_max_val = gene_corrs_df.max().max()  # this captures the diagonal\n",
    "display(_max_val)\n",
    "assert _max_val <= 1.05"
   ]
  },
  {
   "cell_type": "code",
   "execution_count": 35,
   "id": "96d02c44-1fba-47be-8a93-8f2608420b9c",
   "metadata": {
    "execution": {
     "iopub.execute_input": "2022-08-28T14:35:04.880380Z",
     "iopub.status.busy": "2022-08-28T14:35:04.880132Z",
     "iopub.status.idle": "2022-08-28T14:35:04.898665Z",
     "shell.execute_reply": "2022-08-28T14:35:04.897980Z"
    },
    "papermill": {
     "duration": 0.323049,
     "end_time": "2022-08-28T14:35:04.899994",
     "exception": false,
     "start_time": "2022-08-28T14:35:04.576945",
     "status": "completed"
    },
    "tags": []
   },
   "outputs": [],
   "source": [
    "# check upper triangular values\n",
    "# assert len(gene_corrs) == int(genes_chr.shape[0] * (genes_chr.shape[0] - 1) / 2)"
   ]
  },
  {
   "cell_type": "code",
   "execution_count": 36,
   "id": "fe283586-c348-40e0-8841-f6d97bfb021c",
   "metadata": {
    "execution": {
     "iopub.execute_input": "2022-08-28T14:35:05.536215Z",
     "iopub.status.busy": "2022-08-28T14:35:05.535963Z",
     "iopub.status.idle": "2022-08-28T14:35:05.563577Z",
     "shell.execute_reply": "2022-08-28T14:35:05.563151Z"
    },
    "papermill": {
     "duration": 0.331706,
     "end_time": "2022-08-28T14:35:05.564808",
     "exception": false,
     "start_time": "2022-08-28T14:35:05.233102",
     "status": "completed"
    },
    "tags": []
   },
   "outputs": [
    {
     "data": {
      "text/plain": [
       "count    7021.000000\n",
       "mean        0.026556\n",
       "std         0.132428\n",
       "min         0.000027\n",
       "25%         0.004421\n",
       "50%         0.006555\n",
       "75%         0.009064\n",
       "max         1.000000\n",
       "dtype: float64"
      ]
     },
     "execution_count": 36,
     "metadata": {},
     "output_type": "execute_result"
    }
   ],
   "source": [
    "gene_corrs_flat.describe()"
   ]
  },
  {
   "cell_type": "code",
   "execution_count": 37,
   "id": "b3815678-0f93-4b35-897b-a9d047a2aa78",
   "metadata": {
    "execution": {
     "iopub.execute_input": "2022-08-28T14:35:06.205900Z",
     "iopub.status.busy": "2022-08-28T14:35:06.205653Z",
     "iopub.status.idle": "2022-08-28T14:35:06.227976Z",
     "shell.execute_reply": "2022-08-28T14:35:06.227544Z"
    },
    "papermill": {
     "duration": 0.355314,
     "end_time": "2022-08-28T14:35:06.229188",
     "exception": false,
     "start_time": "2022-08-28T14:35:05.873874",
     "status": "completed"
    },
    "tags": []
   },
   "outputs": [
    {
     "data": {
      "text/plain": [
       "0.00    0.000027\n",
       "0.05    0.002066\n",
       "0.10    0.002902\n",
       "0.15    0.003468\n",
       "0.20    0.003956\n",
       "0.25    0.004421\n",
       "0.30    0.004890\n",
       "0.35    0.005323\n",
       "0.40    0.005738\n",
       "0.45    0.006150\n",
       "0.50    0.006555\n",
       "0.55    0.007004\n",
       "0.60    0.007437\n",
       "0.65    0.007889\n",
       "0.70    0.008439\n",
       "0.75    0.009064\n",
       "0.80    0.009721\n",
       "0.85    0.010536\n",
       "0.90    0.011834\n",
       "0.95    0.014186\n",
       "dtype: float64"
      ]
     },
     "metadata": {},
     "output_type": "display_data"
    }
   ],
   "source": [
    "gene_corrs_quantiles = gene_corrs_flat.quantile(np.arange(0, 1, 0.05))\n",
    "display(gene_corrs_quantiles)"
   ]
  },
  {
   "cell_type": "markdown",
   "id": "87134509-b145-4a10-8bc9-b7e914c2b0fa",
   "metadata": {
    "papermill": {
     "duration": 0.331995,
     "end_time": "2022-08-28T14:35:06.867433",
     "exception": false,
     "start_time": "2022-08-28T14:35:06.535438",
     "status": "completed"
    },
    "tags": []
   },
   "source": [
    "## Positive definiteness"
   ]
  },
  {
   "cell_type": "code",
   "execution_count": 38,
   "id": "07d9a9a1-a4f7-48aa-b916-6d42a8cc6186",
   "metadata": {
    "execution": {
     "iopub.execute_input": "2022-08-28T14:35:07.502810Z",
     "iopub.status.busy": "2022-08-28T14:35:07.502555Z",
     "iopub.status.idle": "2022-08-28T14:35:07.528974Z",
     "shell.execute_reply": "2022-08-28T14:35:07.528499Z"
    },
    "papermill": {
     "duration": 0.360236,
     "end_time": "2022-08-28T14:35:07.530178",
     "exception": false,
     "start_time": "2022-08-28T14:35:07.169942",
     "status": "completed"
    },
    "tags": []
   },
   "outputs": [
    {
     "data": {
      "text/plain": [
       "0"
      ]
     },
     "metadata": {},
     "output_type": "display_data"
    },
    {
     "data": {
      "text/plain": [
       "array([], dtype=float64)"
      ]
     },
     "metadata": {},
     "output_type": "display_data"
    }
   ],
   "source": [
    "# print negative eigenvalues\n",
    "eigs = np.linalg.eigvals(gene_corrs_df.to_numpy())\n",
    "display(len(eigs[eigs < 0]))\n",
    "display(eigs[eigs < 0])"
   ]
  },
  {
   "cell_type": "code",
   "execution_count": 39,
   "id": "6e218436-c3c5-4028-8c94-a4fa6260efce",
   "metadata": {
    "execution": {
     "iopub.execute_input": "2022-08-28T14:35:08.148653Z",
     "iopub.status.busy": "2022-08-28T14:35:08.148393Z",
     "iopub.status.idle": "2022-08-28T14:35:08.169819Z",
     "shell.execute_reply": "2022-08-28T14:35:08.169252Z"
    },
    "papermill": {
     "duration": 0.331545,
     "end_time": "2022-08-28T14:35:08.171087",
     "exception": false,
     "start_time": "2022-08-28T14:35:07.839542",
     "status": "completed"
    },
    "tags": []
   },
   "outputs": [
    {
     "name": "stdout",
     "output_type": "stream",
     "text": [
      "Works!\n"
     ]
    }
   ],
   "source": [
    "try:\n",
    "    chol_mat = np.linalg.cholesky(gene_corrs_df.to_numpy())\n",
    "    cov_inv = np.linalg.inv(chol_mat)\n",
    "    print(\"Works!\")\n",
    "except Exception as e:\n",
    "    print(f\"Cholesky decomposition failed: {str(e)}\")"
   ]
  },
  {
   "cell_type": "code",
   "execution_count": 40,
   "id": "dd8827fb-faf9-4c7c-9454-015e94752706",
   "metadata": {
    "execution": {
     "iopub.execute_input": "2022-08-28T14:35:08.827982Z",
     "iopub.status.busy": "2022-08-28T14:35:08.827730Z",
     "iopub.status.idle": "2022-08-28T14:35:08.848820Z",
     "shell.execute_reply": "2022-08-28T14:35:08.848209Z"
    },
    "papermill": {
     "duration": 0.332613,
     "end_time": "2022-08-28T14:35:08.850148",
     "exception": false,
     "start_time": "2022-08-28T14:35:08.517535",
     "status": "completed"
    },
    "tags": []
   },
   "outputs": [
    {
     "name": "stdout",
     "output_type": "stream",
     "text": [
      "Works!\n"
     ]
    }
   ],
   "source": [
    "try:\n",
    "    # decomposition used by statsmodels.GLS\n",
    "    cholsigmainv = np.linalg.cholesky(np.linalg.inv(gene_corrs_df.to_numpy())).T\n",
    "    print(\"Works!\")\n",
    "except Exception as e:\n",
    "    print(f\"Cholesky decomposition failed (statsmodels.GLS): {str(e)}\")"
   ]
  },
  {
   "cell_type": "markdown",
   "id": "8e60a080-edb2-4e9c-b2ef-22961693200c",
   "metadata": {
    "papermill": {
     "duration": 0.303752,
     "end_time": "2022-08-28T14:35:09.487675",
     "exception": false,
     "start_time": "2022-08-28T14:35:09.183923",
     "status": "completed"
    },
    "tags": []
   },
   "source": [
    "## Plot: distribution"
   ]
  },
  {
   "cell_type": "code",
   "execution_count": 41,
   "id": "8301126b-a7d4-4744-9c7d-f0f86eb6f54c",
   "metadata": {
    "execution": {
     "iopub.execute_input": "2022-08-28T14:35:10.126780Z",
     "iopub.status.busy": "2022-08-28T14:35:10.126520Z",
     "iopub.status.idle": "2022-08-28T14:35:14.749959Z",
     "shell.execute_reply": "2022-08-28T14:35:14.749213Z"
    },
    "papermill": {
     "duration": 4.92664,
     "end_time": "2022-08-28T14:35:14.751450",
     "exception": false,
     "start_time": "2022-08-28T14:35:09.824810",
     "status": "completed"
    },
    "tags": []
   },
   "outputs": [
    {
     "data": {
      "image/png": "[encoded data removed]",
      "text/plain": [
       "<Figure size 504x504 with 1 Axes>"
      ]
     },
     "metadata": {
      "needs_background": "light"
     },
     "output_type": "display_data"
    }
   ],
   "source": [
    "with sns.plotting_context(\"paper\", font_scale=1.5):\n",
    "    g = sns.displot(gene_corrs_flat, kde=True, height=7)\n",
    "    g.ax.set_title(\n",
    "        f\"Distribution of gene correlation values in chromosome {CHROMOSOME}\"\n",
    "    )"
   ]
  },
  {
   "cell_type": "markdown",
   "id": "cbd52bca-d878-4a2f-b684-5c83aa3038d4",
   "metadata": {
    "papermill": {
     "duration": 0.332608,
     "end_time": "2022-08-28T14:35:15.390674",
     "exception": false,
     "start_time": "2022-08-28T14:35:15.058066",
     "status": "completed"
    },
    "tags": []
   },
   "source": [
    "## Plot: heatmap"
   ]
  },
  {
   "cell_type": "code",
   "execution_count": 42,
   "id": "d03fe63a-c7b2-4fb9-a53c-db362ce843c9",
   "metadata": {
    "execution": {
     "iopub.execute_input": "2022-08-28T14:35:16.028433Z",
     "iopub.status.busy": "2022-08-28T14:35:16.028181Z",
     "iopub.status.idle": "2022-08-28T14:35:16.069899Z",
     "shell.execute_reply": "2022-08-28T14:35:16.069396Z"
    },
    "papermill": {
     "duration": 0.380484,
     "end_time": "2022-08-28T14:35:16.071401",
     "exception": false,
     "start_time": "2022-08-28T14:35:15.690917",
     "status": "completed"
    },
    "tags": []
   },
   "outputs": [
    {
     "data": {
      "text/plain": [
       "'0.0 / 0.05'"
      ]
     },
     "metadata": {},
     "output_type": "display_data"
    }
   ],
   "source": [
    "vmin_val = min(0.00, gene_corrs_quantiles[0.10])\n",
    "vmax_val = max(0.05, gene_corrs_quantiles[0.90])\n",
    "display(f\"{vmin_val} / {vmax_val}\")"
   ]
  },
  {
   "cell_type": "code",
   "execution_count": 43,
   "id": "dc41b70b-5bcc-4d9e-9f33-a22c4a94dab5",
   "metadata": {
    "execution": {
     "iopub.execute_input": "2022-08-28T14:35:16.693560Z",
     "iopub.status.busy": "2022-08-28T14:35:16.693295Z",
     "iopub.status.idle": "2022-08-28T14:35:16.849891Z",
     "shell.execute_reply": "2022-08-28T14:35:16.849228Z"
    },
    "papermill": {
     "duration": 0.462363,
     "end_time": "2022-08-28T14:35:16.851310",
     "exception": false,
     "start_time": "2022-08-28T14:35:16.388947",
     "status": "completed"
    },
    "tags": []
   },
   "outputs": [
    {
     "data": {
      "text/plain": [
       "Text(0.5, 1.0, 'Gene correlations in chromosome 13')"
      ]
     },
     "execution_count": 43,
     "metadata": {},
     "output_type": "execute_result"
    },
    {
     "data": {
      "image/png": "[encoded data removed]",
      "text/plain": [
       "<Figure size 720x720 with 2 Axes>"
      ]
     },
     "metadata": {
      "needs_background": "light"
     },
     "output_type": "display_data"
    }
   ],
   "source": [
    "f, ax = plt.subplots(figsize=(10, 10))\n",
    "sns.heatmap(\n",
    "    gene_corrs_df,\n",
    "    xticklabels=False,\n",
    "    yticklabels=False,\n",
    "    square=True,\n",
    "    vmin=vmin_val,\n",
    "    vmax=vmax_val,\n",
    "    cmap=\"rocket_r\",\n",
    "    ax=ax,\n",
    ")\n",
    "ax.set_title(f\"Gene correlations in chromosome {CHROMOSOME}\")"
   ]
  },
  {
   "cell_type": "code",
   "execution_count": null,
   "id": "b25e3ead",
   "metadata": {
    "papermill": {
     "duration": 0.302626,
     "end_time": "2022-08-28T14:35:17.488955",
     "exception": false,
     "start_time": "2022-08-28T14:35:17.186329",
     "status": "completed"
    },
    "tags": []
   },
   "outputs": [],
   "source": []
  }
 ],
 "metadata": {
  "jupytext": {
   "cell_metadata_filter": "all,-execution,-papermill,-trusted",
   "formats": "ipynb,py//py:percent"
  },
  "kernelspec": {
   "display_name": "Python 3 (ipykernel)",
   "language": "python",
   "name": "python3"
  },
  "language_info": {
   "codemirror_mode": {
    "name": "ipython",
    "version": 3
   },
   "file_extension": ".py",
   "mimetype": "text/x-python",
   "name": "python",
   "nbconvert_exporter": "python",
   "pygments_lexer": "ipython3",
   "version": "3.8.13"
  },
  "papermill": {
   "default_parameters": {},
   "duration": 443.337717,
   "end_time": "2022-08-28T14:35:20.671475",
   "environment_variables": {},
   "exception": null,
   "input_path": "nbs/15_gsa_gls/10-gene_expr_correlations.ipynb",
   "output_path": "nbs/15_gsa_gls/gene_corrs/cohorts/1000g_eur/gtex_v8/mashr/10-gene_expr_corrs/10-gene_expr_correlations-chr13.run.ipynb",
   "parameters": {
    "CHROMOSOME": 13,
    "COHORT_NAME": "1000g_eur",
    "EQTL_MODEL": "MASHR",
    "REFERENCE_PANEL": "GTEX_V8"
   },
   "start_time": "2022-08-28T14:27:57.333758",
   "version": "2.2.2"
  }
 },
 "nbformat": 4,
 "nbformat_minor": 5
}
