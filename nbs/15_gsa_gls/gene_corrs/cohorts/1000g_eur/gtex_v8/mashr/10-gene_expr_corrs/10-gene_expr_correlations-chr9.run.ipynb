{
 "cells": [
  {
   "cell_type": "markdown",
   "id": "7a6632fb",
   "metadata": {
    "papermill": {
     "duration": 0.021616,
     "end_time": "2022-08-28T14:28:00.530536",
     "exception": false,
     "start_time": "2022-08-28T14:28:00.508920",
     "status": "completed"
    },
    "tags": []
   },
   "source": [
    "# Description"
   ]
  },
  {
   "cell_type": "markdown",
   "id": "7097c346",
   "metadata": {
    "papermill": {
     "duration": 0.015931,
     "end_time": "2022-08-28T14:28:00.563307",
     "exception": false,
     "start_time": "2022-08-28T14:28:00.547376",
     "status": "completed"
    },
    "tags": []
   },
   "source": [
    "(Please, take a look at the README.md file in this directory for instructions on how to run this notebook)\n",
    "\n",
    "This notebook computes predicted expression correlations between all genes in the MultiPLIER models.\n",
    "\n",
    "It also has a parameter set for papermill to run on a single chromosome to run in parallel (see under `Settings` below).\n",
    "\n",
    "This notebook is not directly run. See README.md."
   ]
  },
  {
   "cell_type": "markdown",
   "id": "c61d8427",
   "metadata": {
    "papermill": {
     "duration": 0.014999,
     "end_time": "2022-08-28T14:28:00.594167",
     "exception": false,
     "start_time": "2022-08-28T14:28:00.579168",
     "status": "completed"
    },
    "tags": []
   },
   "source": [
    "# Modules"
   ]
  },
  {
   "cell_type": "code",
   "execution_count": 1,
   "id": "bbc0234f",
   "metadata": {
    "execution": {
     "iopub.execute_input": "2022-08-28T14:28:00.627880Z",
     "iopub.status.busy": "2022-08-28T14:28:00.627478Z",
     "iopub.status.idle": "2022-08-28T14:28:00.816459Z",
     "shell.execute_reply": "2022-08-28T14:28:00.815153Z"
    },
    "papermill": {
     "duration": 0.211149,
     "end_time": "2022-08-28T14:28:00.820639",
     "exception": false,
     "start_time": "2022-08-28T14:28:00.609490",
     "status": "completed"
    },
    "tags": []
   },
   "outputs": [],
   "source": [
    "%load_ext autoreload\n",
    "%autoreload 2"
   ]
  },
  {
   "cell_type": "code",
   "execution_count": 2,
   "id": "1d5f5a59",
   "metadata": {
    "execution": {
     "iopub.execute_input": "2022-08-28T14:28:00.859149Z",
     "iopub.status.busy": "2022-08-28T14:28:00.858747Z",
     "iopub.status.idle": "2022-08-28T14:28:05.814704Z",
     "shell.execute_reply": "2022-08-28T14:28:05.813367Z"
    },
    "papermill": {
     "duration": 4.980227,
     "end_time": "2022-08-28T14:28:05.819156",
     "exception": false,
     "start_time": "2022-08-28T14:28:00.838929",
     "status": "completed"
    },
    "tags": []
   },
   "outputs": [],
   "source": [
    "from random import sample, seed\n",
    "import warnings\n",
    "from pathlib import Path\n",
    "import pickle\n",
    "import traceback\n",
    "\n",
    "import numpy as np\n",
    "from scipy.spatial.distance import squareform\n",
    "import pandas as pd\n",
    "from tqdm import tqdm\n",
    "import matplotlib.pyplot as plt\n",
    "import seaborn as sns\n",
    "\n",
    "import conf\n",
    "from entity import Gene"
   ]
  },
  {
   "cell_type": "markdown",
   "id": "1eac24b5",
   "metadata": {
    "papermill": {
     "duration": 0.014971,
     "end_time": "2022-08-28T14:28:05.904130",
     "exception": false,
     "start_time": "2022-08-28T14:28:05.889159",
     "status": "completed"
    },
    "tags": []
   },
   "source": [
    "# Settings"
   ]
  },
  {
   "cell_type": "code",
   "execution_count": 3,
   "id": "ca4560ba",
   "metadata": {
    "execution": {
     "iopub.execute_input": "2022-08-28T14:28:05.941803Z",
     "iopub.status.busy": "2022-08-28T14:28:05.941413Z",
     "iopub.status.idle": "2022-08-28T14:28:06.348702Z",
     "shell.execute_reply": "2022-08-28T14:28:06.347485Z"
    },
    "papermill": {
     "duration": 0.435145,
     "end_time": "2022-08-28T14:28:06.352659",
     "exception": false,
     "start_time": "2022-08-28T14:28:05.917514",
     "status": "completed"
    },
    "tags": [
     "parameters"
    ]
   },
   "outputs": [],
   "source": [
    "# a cohort name (it could be something like UK_BIOBANK, etc)\n",
    "COHORT_NAME = None\n",
    "\n",
    "# reference panel such as 1000G or GTEX_V8\n",
    "REFERENCE_PANEL = None\n",
    "\n",
    "# predictions models such as MASHR or ELASTIC_NET\n",
    "EQTL_MODEL = None\n",
    "\n",
    "# this is the default value used in S-MultiXcan to select the\n",
    "# top principal components of the expression correlation matrix\n",
    "SMULTIXCAN_CONDITION_NUMBER = 30\n",
    "\n",
    "# specifies a single chromosome value\n",
    "CHROMOSOME = None\n",
    "\n",
    "# If True, computes the correlation between closeby genes only;\n",
    "# otherwise, it computes correlations for all genes in a chromosome\n",
    "COMPUTE_CORRELATIONS_WITHIN_DISTANCE = False\n",
    "\n",
    "# if True, then it will continue if a gene pair correlation fails,\n",
    "# printing the warning/error for debugging. If False, any warning/error\n",
    "# will be thrown\n",
    "DEBUG_MODE = False"
   ]
  },
  {
   "cell_type": "code",
   "execution_count": 4,
   "id": "5c5e4cfd",
   "metadata": {
    "execution": {
     "iopub.execute_input": "2022-08-28T14:28:06.400665Z",
     "iopub.status.busy": "2022-08-28T14:28:06.400223Z",
     "iopub.status.idle": "2022-08-28T14:28:06.441114Z",
     "shell.execute_reply": "2022-08-28T14:28:06.440153Z"
    },
    "papermill": {
     "duration": 0.070524,
     "end_time": "2022-08-28T14:28:06.443978",
     "exception": false,
     "start_time": "2022-08-28T14:28:06.373454",
     "status": "completed"
    },
    "tags": [
     "injected-parameters"
    ]
   },
   "outputs": [],
   "source": [
    "# Parameters\n",
    "COHORT_NAME = \"1000g_eur\"\n",
    "REFERENCE_PANEL = \"GTEX_V8\"\n",
    "EQTL_MODEL = \"MASHR\"\n",
    "CHROMOSOME = 9\n"
   ]
  },
  {
   "cell_type": "code",
   "execution_count": 5,
   "id": "3190631f-27fc-480f-b18e-571d580425a5",
   "metadata": {
    "execution": {
     "iopub.execute_input": "2022-08-28T14:28:06.489204Z",
     "iopub.status.busy": "2022-08-28T14:28:06.488819Z",
     "iopub.status.idle": "2022-08-28T14:28:06.552311Z",
     "shell.execute_reply": "2022-08-28T14:28:06.551287Z"
    },
    "papermill": {
     "duration": 0.089287,
     "end_time": "2022-08-28T14:28:06.555589",
     "exception": false,
     "start_time": "2022-08-28T14:28:06.466302",
     "status": "completed"
    },
    "tags": []
   },
   "outputs": [
    {
     "data": {
      "text/plain": [
       "'Cohort name: 1000g_eur'"
      ]
     },
     "metadata": {},
     "output_type": "display_data"
    }
   ],
   "source": [
    "assert COHORT_NAME is not None and len(COHORT_NAME) > 0, \"A cohort name must be given\"\n",
    "\n",
    "COHORT_NAME = COHORT_NAME.lower()\n",
    "display(f\"Cohort name: {COHORT_NAME}\")"
   ]
  },
  {
   "cell_type": "code",
   "execution_count": 6,
   "id": "f53ba19b-0f93-4fa2-a047-63b375939d1a",
   "metadata": {
    "execution": {
     "iopub.execute_input": "2022-08-28T14:28:06.597079Z",
     "iopub.status.busy": "2022-08-28T14:28:06.596666Z",
     "iopub.status.idle": "2022-08-28T14:28:06.703860Z",
     "shell.execute_reply": "2022-08-28T14:28:06.702705Z"
    },
    "papermill": {
     "duration": 0.133965,
     "end_time": "2022-08-28T14:28:06.707418",
     "exception": false,
     "start_time": "2022-08-28T14:28:06.573453",
     "status": "completed"
    },
    "tags": []
   },
   "outputs": [
    {
     "data": {
      "text/plain": [
       "'Reference panel: GTEX_V8'"
      ]
     },
     "metadata": {},
     "output_type": "display_data"
    }
   ],
   "source": [
    "assert (\n",
    "    REFERENCE_PANEL is not None and len(REFERENCE_PANEL) > 0\n",
    "), \"A reference panel must be given\"\n",
    "\n",
    "display(f\"Reference panel: {REFERENCE_PANEL}\")"
   ]
  },
  {
   "cell_type": "code",
   "execution_count": 7,
   "id": "e024d130-c139-429a-9c6e-ccf149e297b0",
   "metadata": {
    "execution": {
     "iopub.execute_input": "2022-08-28T14:28:06.758994Z",
     "iopub.status.busy": "2022-08-28T14:28:06.758552Z",
     "iopub.status.idle": "2022-08-28T14:28:06.931178Z",
     "shell.execute_reply": "2022-08-28T14:28:06.930055Z"
    },
    "papermill": {
     "duration": 0.196562,
     "end_time": "2022-08-28T14:28:06.934731",
     "exception": false,
     "start_time": "2022-08-28T14:28:06.738169",
     "status": "completed"
    },
    "tags": []
   },
   "outputs": [
    {
     "data": {
      "text/plain": [
       "'eQTL model: MASHR) / mashr_'"
      ]
     },
     "metadata": {},
     "output_type": "display_data"
    }
   ],
   "source": [
    "assert (\n",
    "    EQTL_MODEL is not None and len(EQTL_MODEL) > 0\n",
    "), \"A prediction/eQTL model must be given\"\n",
    "\n",
    "EQTL_MODEL_FILES_PREFIX = conf.PHENOMEXCAN[\"PREDICTION_MODELS\"][f\"{EQTL_MODEL}_PREFIX\"]\n",
    "display(f\"eQTL model: {EQTL_MODEL}) / {EQTL_MODEL_FILES_PREFIX}\")"
   ]
  },
  {
   "cell_type": "code",
   "execution_count": 8,
   "id": "552a7f63-a18c-4d3e-bb6a-94f99b431291",
   "metadata": {
    "execution": {
     "iopub.execute_input": "2022-08-28T14:28:06.972064Z",
     "iopub.status.busy": "2022-08-28T14:28:06.971689Z",
     "iopub.status.idle": "2022-08-28T14:28:07.036330Z",
     "shell.execute_reply": "2022-08-28T14:28:07.035152Z"
    },
    "papermill": {
     "duration": 0.086812,
     "end_time": "2022-08-28T14:28:07.039856",
     "exception": false,
     "start_time": "2022-08-28T14:28:06.953044",
     "status": "completed"
    },
    "tags": []
   },
   "outputs": [
    {
     "data": {
      "text/plain": [
       "'S-MultiXcan condition number: 30'"
      ]
     },
     "metadata": {},
     "output_type": "display_data"
    }
   ],
   "source": [
    "assert (\n",
    "    SMULTIXCAN_CONDITION_NUMBER is not None and SMULTIXCAN_CONDITION_NUMBER > 0\n",
    "), \"The S-MultiXcan condition number (positive integer) must be given\"\n",
    "\n",
    "display(f\"S-MultiXcan condition number: {SMULTIXCAN_CONDITION_NUMBER}\")"
   ]
  },
  {
   "cell_type": "code",
   "execution_count": 9,
   "id": "f34a336f-548e-4afe-8955-90eaea4f42c6",
   "metadata": {
    "execution": {
     "iopub.execute_input": "2022-08-28T14:28:07.081405Z",
     "iopub.status.busy": "2022-08-28T14:28:07.080990Z",
     "iopub.status.idle": "2022-08-28T14:28:07.120742Z",
     "shell.execute_reply": "2022-08-28T14:28:07.119842Z"
    },
    "papermill": {
     "duration": 0.063376,
     "end_time": "2022-08-28T14:28:07.123190",
     "exception": false,
     "start_time": "2022-08-28T14:28:07.059814",
     "status": "completed"
    },
    "tags": []
   },
   "outputs": [
    {
     "data": {
      "text/plain": [
       "'Working on chromosome 9'"
      ]
     },
     "metadata": {},
     "output_type": "display_data"
    }
   ],
   "source": [
    "assert CHROMOSOME is not None and (\n",
    "    1 <= CHROMOSOME <= 22\n",
    "), \"You have to select one chromosome (format: number between 1 and 22)\"\n",
    "\n",
    "# CHROMOSOME = str(CHROMOSOME)\n",
    "display(f\"Working on chromosome {CHROMOSOME}\")"
   ]
  },
  {
   "cell_type": "code",
   "execution_count": 10,
   "id": "ab8e96e8-06b5-4363-9dcd-dc4d78cc27f7",
   "metadata": {
    "execution": {
     "iopub.execute_input": "2022-08-28T14:28:07.157766Z",
     "iopub.status.busy": "2022-08-28T14:28:07.157434Z",
     "iopub.status.idle": "2022-08-28T14:28:07.190727Z",
     "shell.execute_reply": "2022-08-28T14:28:07.189963Z"
    },
    "papermill": {
     "duration": 0.054109,
     "end_time": "2022-08-28T14:28:07.192802",
     "exception": false,
     "start_time": "2022-08-28T14:28:07.138693",
     "status": "completed"
    },
    "tags": []
   },
   "outputs": [
    {
     "data": {
      "text/plain": [
       "'Compute correlation within distance False'"
      ]
     },
     "metadata": {},
     "output_type": "display_data"
    }
   ],
   "source": [
    "display(f\"Compute correlation within distance {COMPUTE_CORRELATIONS_WITHIN_DISTANCE}\")"
   ]
  },
  {
   "cell_type": "code",
   "execution_count": 11,
   "id": "396392dc-0340-4540-9b02-e182b833f909",
   "metadata": {
    "execution": {
     "iopub.execute_input": "2022-08-28T14:28:07.220798Z",
     "iopub.status.busy": "2022-08-28T14:28:07.220517Z",
     "iopub.status.idle": "2022-08-28T14:28:07.256202Z",
     "shell.execute_reply": "2022-08-28T14:28:07.255430Z"
    },
    "papermill": {
     "duration": 0.052709,
     "end_time": "2022-08-28T14:28:07.258488",
     "exception": false,
     "start_time": "2022-08-28T14:28:07.205779",
     "status": "completed"
    },
    "tags": []
   },
   "outputs": [
    {
     "data": {
      "text/plain": [
       "'Using output dir base: /project/ritchie20/projects/phenoplier/base/results/gls/gene_corrs/cohorts/1000g_eur/gtex_v8/mashr'"
      ]
     },
     "metadata": {},
     "output_type": "display_data"
    }
   ],
   "source": [
    "OUTPUT_DIR_BASE = (\n",
    "    conf.RESULTS[\"GLS\"]\n",
    "    / \"gene_corrs\"\n",
    "    / \"cohorts\"\n",
    "    / COHORT_NAME\n",
    "    / REFERENCE_PANEL.lower()\n",
    "    / EQTL_MODEL.lower()\n",
    ")\n",
    "OUTPUT_DIR_BASE.mkdir(parents=True, exist_ok=True)\n",
    "\n",
    "display(f\"Using output dir base: {OUTPUT_DIR_BASE}\")"
   ]
  },
  {
   "cell_type": "markdown",
   "id": "d2ba085e",
   "metadata": {
    "papermill": {
     "duration": 0.013262,
     "end_time": "2022-08-28T14:28:07.284965",
     "exception": false,
     "start_time": "2022-08-28T14:28:07.271703",
     "status": "completed"
    },
    "tags": []
   },
   "source": [
    "# Load data"
   ]
  },
  {
   "cell_type": "markdown",
   "id": "7dcb8db7",
   "metadata": {
    "papermill": {
     "duration": 0.020035,
     "end_time": "2022-08-28T14:28:07.325802",
     "exception": false,
     "start_time": "2022-08-28T14:28:07.305767",
     "status": "completed"
    },
    "tags": []
   },
   "source": [
    "## GWAS variants"
   ]
  },
  {
   "cell_type": "code",
   "execution_count": 12,
   "id": "29434c4e-8cd3-4b9b-82e4-b5a251d9dd19",
   "metadata": {
    "execution": {
     "iopub.execute_input": "2022-08-28T14:28:07.363418Z",
     "iopub.status.busy": "2022-08-28T14:28:07.363066Z",
     "iopub.status.idle": "2022-08-28T14:28:10.251587Z",
     "shell.execute_reply": "2022-08-28T14:28:10.250831Z"
    },
    "papermill": {
     "duration": 2.912023,
     "end_time": "2022-08-28T14:28:10.253532",
     "exception": false,
     "start_time": "2022-08-28T14:28:07.341509",
     "status": "completed"
    },
    "tags": []
   },
   "outputs": [],
   "source": [
    "with open(OUTPUT_DIR_BASE / \"gwas_variant_ids.pkl\", \"rb\") as handle:\n",
    "    gwas_variants_ids_set = pickle.load(handle)"
   ]
  },
  {
   "cell_type": "code",
   "execution_count": 13,
   "id": "b9d9dec2-4a76-4bf9-bde2-e24c95acb8a0",
   "metadata": {
    "execution": {
     "iopub.execute_input": "2022-08-28T14:28:10.272578Z",
     "iopub.status.busy": "2022-08-28T14:28:10.272368Z",
     "iopub.status.idle": "2022-08-28T14:28:10.301462Z",
     "shell.execute_reply": "2022-08-28T14:28:10.300842Z"
    },
    "papermill": {
     "duration": 0.040419,
     "end_time": "2022-08-28T14:28:10.302830",
     "exception": false,
     "start_time": "2022-08-28T14:28:10.262411",
     "status": "completed"
    },
    "tags": []
   },
   "outputs": [
    {
     "data": {
      "text/plain": [
       "8325729"
      ]
     },
     "execution_count": 13,
     "metadata": {},
     "output_type": "execute_result"
    }
   ],
   "source": [
    "len(gwas_variants_ids_set)"
   ]
  },
  {
   "cell_type": "code",
   "execution_count": 14,
   "id": "4235b06a-6034-4ee4-a0a3-2ae35d122418",
   "metadata": {
    "execution": {
     "iopub.execute_input": "2022-08-28T14:28:10.346787Z",
     "iopub.status.busy": "2022-08-28T14:28:10.346538Z",
     "iopub.status.idle": "2022-08-28T14:28:10.934551Z",
     "shell.execute_reply": "2022-08-28T14:28:10.934091Z"
    },
    "papermill": {
     "duration": 0.621189,
     "end_time": "2022-08-28T14:28:10.935913",
     "exception": false,
     "start_time": "2022-08-28T14:28:10.314724",
     "status": "completed"
    },
    "tags": []
   },
   "outputs": [
    {
     "data": {
      "text/plain": [
       "['chr3_80867480_A_T_b38',\n",
       " 'chr5_11608467_G_C_b38',\n",
       " 'chr11_118810755_T_C_b38',\n",
       " 'chr18_42935273_C_T_b38',\n",
       " 'chr4_132649328_T_C_b38']"
      ]
     },
     "execution_count": 14,
     "metadata": {},
     "output_type": "execute_result"
    }
   ],
   "source": [
    "list(gwas_variants_ids_set)[:5]"
   ]
  },
  {
   "cell_type": "markdown",
   "id": "07866999-2305-41f9-a144-e69c9122c212",
   "metadata": {
    "papermill": {
     "duration": 0.008954,
     "end_time": "2022-08-28T14:28:10.953501",
     "exception": false,
     "start_time": "2022-08-28T14:28:10.944547",
     "status": "completed"
    },
    "tags": []
   },
   "source": [
    "## S-PrediXcan tissue models"
   ]
  },
  {
   "cell_type": "code",
   "execution_count": 15,
   "id": "780611d9-77c8-405f-90a4-f271f7b09397",
   "metadata": {
    "execution": {
     "iopub.execute_input": "2022-08-28T14:28:10.974860Z",
     "iopub.status.busy": "2022-08-28T14:28:10.974672Z",
     "iopub.status.idle": "2022-08-28T14:28:11.874094Z",
     "shell.execute_reply": "2022-08-28T14:28:11.873615Z"
    },
    "papermill": {
     "duration": 0.913871,
     "end_time": "2022-08-28T14:28:11.875856",
     "exception": false,
     "start_time": "2022-08-28T14:28:10.961985",
     "status": "completed"
    },
    "tags": []
   },
   "outputs": [],
   "source": [
    "spredixcan_genes_models = pd.read_pickle(OUTPUT_DIR_BASE / \"gene_tissues.pkl\")"
   ]
  },
  {
   "cell_type": "code",
   "execution_count": 16,
   "id": "726dd1f6-9557-4225-91fa-b3b879ea96e1",
   "metadata": {
    "execution": {
     "iopub.execute_input": "2022-08-28T14:28:11.946873Z",
     "iopub.status.busy": "2022-08-28T14:28:11.946475Z",
     "iopub.status.idle": "2022-08-28T14:28:13.018026Z",
     "shell.execute_reply": "2022-08-28T14:28:13.016854Z"
    },
    "papermill": {
     "duration": 1.108608,
     "end_time": "2022-08-28T14:28:13.021621",
     "exception": false,
     "start_time": "2022-08-28T14:28:11.913013",
     "status": "completed"
    },
    "tags": []
   },
   "outputs": [
    {
     "data": {
      "text/plain": [
       "(6442, 9)"
      ]
     },
     "execution_count": 16,
     "metadata": {},
     "output_type": "execute_result"
    }
   ],
   "source": [
    "spredixcan_genes_models.shape"
   ]
  },
  {
   "cell_type": "code",
   "execution_count": 17,
   "id": "944a1b48-222c-4eb0-b252-b9de2cbca215",
   "metadata": {
    "execution": {
     "iopub.execute_input": "2022-08-28T14:28:13.075574Z",
     "iopub.status.busy": "2022-08-28T14:28:13.075138Z",
     "iopub.status.idle": "2022-08-28T14:28:13.545556Z",
     "shell.execute_reply": "2022-08-28T14:28:13.544519Z"
    },
    "papermill": {
     "duration": 0.499804,
     "end_time": "2022-08-28T14:28:13.548577",
     "exception": false,
     "start_time": "2022-08-28T14:28:13.048773",
     "status": "completed"
    },
    "tags": []
   },
   "outputs": [
    {
     "data": {
      "text/html": [
       "<div>\n",
       "<style scoped>\n",
       "    .dataframe tbody tr th:only-of-type {\n",
       "        vertical-align: middle;\n",
       "    }\n",
       "\n",
       "    .dataframe tbody tr th {\n",
       "        vertical-align: top;\n",
       "    }\n",
       "\n",
       "    .dataframe thead th {\n",
       "        text-align: right;\n",
       "    }\n",
       "</style>\n",
       "<table border=\"1\" class=\"dataframe\">\n",
       "  <thead>\n",
       "    <tr style=\"text-align: right;\">\n",
       "      <th></th>\n",
       "      <th>gene_name</th>\n",
       "      <th>tissue</th>\n",
       "      <th>n_tissues</th>\n",
       "      <th>tissues_pc_variances</th>\n",
       "      <th>tissues_variances</th>\n",
       "      <th>n_snps_used_sum</th>\n",
       "      <th>n_snps_in_model_sum</th>\n",
       "      <th>unique_n_snps_in_model</th>\n",
       "      <th>unique_n_snps_used</th>\n",
       "    </tr>\n",
       "    <tr>\n",
       "      <th>gene_id</th>\n",
       "      <th></th>\n",
       "      <th></th>\n",
       "      <th></th>\n",
       "      <th></th>\n",
       "      <th></th>\n",
       "      <th></th>\n",
       "      <th></th>\n",
       "      <th></th>\n",
       "      <th></th>\n",
       "    </tr>\n",
       "  </thead>\n",
       "  <tbody>\n",
       "    <tr>\n",
       "      <th>ENSG00000000419</th>\n",
       "      <td>DPM1</td>\n",
       "      <td>(Brain_Substantia_nigra, Brain_Hypothalamus)</td>\n",
       "      <td>2</td>\n",
       "      <td>[1.0442398458252409, 0.9557601541747592]</td>\n",
       "      <td>{'Brain_Hypothalamus': 0.013162153504206677, '...</td>\n",
       "      <td>2</td>\n",
       "      <td>2</td>\n",
       "      <td>2</td>\n",
       "      <td>2</td>\n",
       "    </tr>\n",
       "    <tr>\n",
       "      <th>ENSG00000000938</th>\n",
       "      <td>FGR</td>\n",
       "      <td>(Pituitary, Brain_Cerebellar_Hemisphere, Colon...</td>\n",
       "      <td>36</td>\n",
       "      <td>[31.63266933637127, 2.0783677518511445, 1.2716...</td>\n",
       "      <td>{'Muscle_Skeletal': 0.011422007299369654, 'Liv...</td>\n",
       "      <td>40</td>\n",
       "      <td>40</td>\n",
       "      <td>5</td>\n",
       "      <td>5</td>\n",
       "    </tr>\n",
       "    <tr>\n",
       "      <th>ENSG00000000971</th>\n",
       "      <td>CFH</td>\n",
       "      <td>(Heart_Atrial_Appendage, Pituitary, Brain_Cere...</td>\n",
       "      <td>34</td>\n",
       "      <td>[21.56076992568329, 7.310170987045466, 1.83778...</td>\n",
       "      <td>{'Testis': 0.004542368000299983, 'Heart_Atrial...</td>\n",
       "      <td>44</td>\n",
       "      <td>44</td>\n",
       "      <td>12</td>\n",
       "      <td>12</td>\n",
       "    </tr>\n",
       "    <tr>\n",
       "      <th>ENSG00000001084</th>\n",
       "      <td>GCLC</td>\n",
       "      <td>(Heart_Atrial_Appendage, Pituitary, Brain_Cere...</td>\n",
       "      <td>32</td>\n",
       "      <td>[21.291939080546527, 4.699418748743194, 2.2489...</td>\n",
       "      <td>{'Muscle_Skeletal': 0.0052333336977804, 'Testi...</td>\n",
       "      <td>46</td>\n",
       "      <td>46</td>\n",
       "      <td>23</td>\n",
       "      <td>23</td>\n",
       "    </tr>\n",
       "    <tr>\n",
       "      <th>ENSG00000001167</th>\n",
       "      <td>NFYA</td>\n",
       "      <td>(Heart_Atrial_Appendage, Brain_Cerebellar_Hemi...</td>\n",
       "      <td>40</td>\n",
       "      <td>[37.335660295497696, 1.391401960453836]</td>\n",
       "      <td>{'Muscle_Skeletal': 0.01510698551052935, 'Test...</td>\n",
       "      <td>47</td>\n",
       "      <td>48</td>\n",
       "      <td>14</td>\n",
       "      <td>13</td>\n",
       "    </tr>\n",
       "  </tbody>\n",
       "</table>\n",
       "</div>"
      ],
      "text/plain": [
       "                gene_name                                             tissue  \\\n",
       "gene_id                                                                        \n",
       "ENSG00000000419      DPM1       (Brain_Substantia_nigra, Brain_Hypothalamus)   \n",
       "ENSG00000000938       FGR  (Pituitary, Brain_Cerebellar_Hemisphere, Colon...   \n",
       "ENSG00000000971       CFH  (Heart_Atrial_Appendage, Pituitary, Brain_Cere...   \n",
       "ENSG00000001084      GCLC  (Heart_Atrial_Appendage, Pituitary, Brain_Cere...   \n",
       "ENSG00000001167      NFYA  (Heart_Atrial_Appendage, Brain_Cerebellar_Hemi...   \n",
       "\n",
       "                 n_tissues                               tissues_pc_variances  \\\n",
       "gene_id                                                                         \n",
       "ENSG00000000419          2           [1.0442398458252409, 0.9557601541747592]   \n",
       "ENSG00000000938         36  [31.63266933637127, 2.0783677518511445, 1.2716...   \n",
       "ENSG00000000971         34  [21.56076992568329, 7.310170987045466, 1.83778...   \n",
       "ENSG00000001084         32  [21.291939080546527, 4.699418748743194, 2.2489...   \n",
       "ENSG00000001167         40            [37.335660295497696, 1.391401960453836]   \n",
       "\n",
       "                                                 tissues_variances  \\\n",
       "gene_id                                                              \n",
       "ENSG00000000419  {'Brain_Hypothalamus': 0.013162153504206677, '...   \n",
       "ENSG00000000938  {'Muscle_Skeletal': 0.011422007299369654, 'Liv...   \n",
       "ENSG00000000971  {'Testis': 0.004542368000299983, 'Heart_Atrial...   \n",
       "ENSG00000001084  {'Muscle_Skeletal': 0.0052333336977804, 'Testi...   \n",
       "ENSG00000001167  {'Muscle_Skeletal': 0.01510698551052935, 'Test...   \n",
       "\n",
       "                 n_snps_used_sum  n_snps_in_model_sum  unique_n_snps_in_model  \\\n",
       "gene_id                                                                         \n",
       "ENSG00000000419                2                    2                       2   \n",
       "ENSG00000000938               40                   40                       5   \n",
       "ENSG00000000971               44                   44                      12   \n",
       "ENSG00000001084               46                   46                      23   \n",
       "ENSG00000001167               47                   48                      14   \n",
       "\n",
       "                 unique_n_snps_used  \n",
       "gene_id                              \n",
       "ENSG00000000419                   2  \n",
       "ENSG00000000938                   5  \n",
       "ENSG00000000971                  12  \n",
       "ENSG00000001084                  23  \n",
       "ENSG00000001167                  13  "
      ]
     },
     "execution_count": 17,
     "metadata": {},
     "output_type": "execute_result"
    }
   ],
   "source": [
    "spredixcan_genes_models.head()"
   ]
  },
  {
   "cell_type": "code",
   "execution_count": 18,
   "id": "d1c11bb1-be0b-4f40-b360-633d6827109f",
   "metadata": {
    "execution": {
     "iopub.execute_input": "2022-08-28T14:28:13.592513Z",
     "iopub.status.busy": "2022-08-28T14:28:13.592138Z",
     "iopub.status.idle": "2022-08-28T14:28:13.641970Z",
     "shell.execute_reply": "2022-08-28T14:28:13.640727Z"
    },
    "papermill": {
     "duration": 0.075705,
     "end_time": "2022-08-28T14:28:13.646195",
     "exception": false,
     "start_time": "2022-08-28T14:28:13.570490",
     "status": "completed"
    },
    "tags": []
   },
   "outputs": [],
   "source": [
    "assert spredixcan_genes_models.index.is_unique"
   ]
  },
  {
   "cell_type": "markdown",
   "id": "a5b5092c-a13e-47c4-a92a-480fcc08f3ae",
   "metadata": {
    "papermill": {
     "duration": 0.025587,
     "end_time": "2022-08-28T14:28:13.696470",
     "exception": false,
     "start_time": "2022-08-28T14:28:13.670883",
     "status": "completed"
    },
    "tags": []
   },
   "source": [
    "## Gene info"
   ]
  },
  {
   "cell_type": "code",
   "execution_count": 19,
   "id": "7d6bb224-88e9-4358-ac10-43a41d92cdad",
   "metadata": {
    "execution": {
     "iopub.execute_input": "2022-08-28T14:28:13.743896Z",
     "iopub.status.busy": "2022-08-28T14:28:13.743517Z",
     "iopub.status.idle": "2022-08-28T14:28:13.788564Z",
     "shell.execute_reply": "2022-08-28T14:28:13.787631Z"
    },
    "papermill": {
     "duration": 0.071033,
     "end_time": "2022-08-28T14:28:13.791123",
     "exception": false,
     "start_time": "2022-08-28T14:28:13.720090",
     "status": "completed"
    },
    "tags": []
   },
   "outputs": [],
   "source": [
    "genes_info = pd.read_pickle(OUTPUT_DIR_BASE / \"genes_info.pkl\")"
   ]
  },
  {
   "cell_type": "code",
   "execution_count": 20,
   "id": "9e32abfa-546d-483e-8c18-d526e9e05903",
   "metadata": {
    "execution": {
     "iopub.execute_input": "2022-08-28T14:28:13.834185Z",
     "iopub.status.busy": "2022-08-28T14:28:13.833868Z",
     "iopub.status.idle": "2022-08-28T14:28:13.865884Z",
     "shell.execute_reply": "2022-08-28T14:28:13.865113Z"
    },
    "papermill": {
     "duration": 0.054687,
     "end_time": "2022-08-28T14:28:13.867966",
     "exception": false,
     "start_time": "2022-08-28T14:28:13.813279",
     "status": "completed"
    },
    "tags": []
   },
   "outputs": [
    {
     "data": {
      "text/plain": [
       "(6442, 7)"
      ]
     },
     "execution_count": 20,
     "metadata": {},
     "output_type": "execute_result"
    }
   ],
   "source": [
    "genes_info.shape"
   ]
  },
  {
   "cell_type": "code",
   "execution_count": 21,
   "id": "d16c3e92-85ec-468a-9a56-e25a9774a1cb",
   "metadata": {
    "execution": {
     "iopub.execute_input": "2022-08-28T14:28:13.909108Z",
     "iopub.status.busy": "2022-08-28T14:28:13.908835Z",
     "iopub.status.idle": "2022-08-28T14:28:13.942561Z",
     "shell.execute_reply": "2022-08-28T14:28:13.941743Z"
    },
    "papermill": {
     "duration": 0.057205,
     "end_time": "2022-08-28T14:28:13.944376",
     "exception": false,
     "start_time": "2022-08-28T14:28:13.887171",
     "status": "completed"
    },
    "tags": []
   },
   "outputs": [
    {
     "data": {
      "text/html": [
       "<div>\n",
       "<style scoped>\n",
       "    .dataframe tbody tr th:only-of-type {\n",
       "        vertical-align: middle;\n",
       "    }\n",
       "\n",
       "    .dataframe tbody tr th {\n",
       "        vertical-align: top;\n",
       "    }\n",
       "\n",
       "    .dataframe thead th {\n",
       "        text-align: right;\n",
       "    }\n",
       "</style>\n",
       "<table border=\"1\" class=\"dataframe\">\n",
       "  <thead>\n",
       "    <tr style=\"text-align: right;\">\n",
       "      <th></th>\n",
       "      <th>name</th>\n",
       "      <th>id</th>\n",
       "      <th>chr</th>\n",
       "      <th>band</th>\n",
       "      <th>start_position</th>\n",
       "      <th>end_position</th>\n",
       "      <th>gene_length</th>\n",
       "    </tr>\n",
       "  </thead>\n",
       "  <tbody>\n",
       "    <tr>\n",
       "      <th>0</th>\n",
       "      <td>SNAPC3</td>\n",
       "      <td>ENSG00000164975</td>\n",
       "      <td>9</td>\n",
       "      <td>9p22.3</td>\n",
       "      <td>15422704</td>\n",
       "      <td>15465953</td>\n",
       "      <td>43249</td>\n",
       "    </tr>\n",
       "    <tr>\n",
       "      <th>1</th>\n",
       "      <td>SEC13</td>\n",
       "      <td>ENSG00000157020</td>\n",
       "      <td>3</td>\n",
       "      <td>3p25.3</td>\n",
       "      <td>10293131</td>\n",
       "      <td>10321112</td>\n",
       "      <td>27981</td>\n",
       "    </tr>\n",
       "    <tr>\n",
       "      <th>2</th>\n",
       "      <td>PTH2R</td>\n",
       "      <td>ENSG00000144407</td>\n",
       "      <td>2</td>\n",
       "      <td>2q34</td>\n",
       "      <td>208359714</td>\n",
       "      <td>208854503</td>\n",
       "      <td>494789</td>\n",
       "    </tr>\n",
       "    <tr>\n",
       "      <th>3</th>\n",
       "      <td>MDC1</td>\n",
       "      <td>ENSG00000137337</td>\n",
       "      <td>6</td>\n",
       "      <td>6p21.33</td>\n",
       "      <td>30699807</td>\n",
       "      <td>30717447</td>\n",
       "      <td>17640</td>\n",
       "    </tr>\n",
       "    <tr>\n",
       "      <th>4</th>\n",
       "      <td>TNFRSF6B</td>\n",
       "      <td>ENSG00000243509</td>\n",
       "      <td>20</td>\n",
       "      <td>20q13.33</td>\n",
       "      <td>63696652</td>\n",
       "      <td>63698684</td>\n",
       "      <td>2032</td>\n",
       "    </tr>\n",
       "  </tbody>\n",
       "</table>\n",
       "</div>"
      ],
      "text/plain": [
       "       name               id  chr      band  start_position  end_position  \\\n",
       "0    SNAPC3  ENSG00000164975    9    9p22.3        15422704      15465953   \n",
       "1     SEC13  ENSG00000157020    3    3p25.3        10293131      10321112   \n",
       "2     PTH2R  ENSG00000144407    2      2q34       208359714     208854503   \n",
       "3      MDC1  ENSG00000137337    6   6p21.33        30699807      30717447   \n",
       "4  TNFRSF6B  ENSG00000243509   20  20q13.33        63696652      63698684   \n",
       "\n",
       "   gene_length  \n",
       "0        43249  \n",
       "1        27981  \n",
       "2       494789  \n",
       "3        17640  \n",
       "4         2032  "
      ]
     },
     "execution_count": 21,
     "metadata": {},
     "output_type": "execute_result"
    }
   ],
   "source": [
    "genes_info.head()"
   ]
  },
  {
   "cell_type": "markdown",
   "id": "d3843e06",
   "metadata": {
    "papermill": {
     "duration": 0.02043,
     "end_time": "2022-08-28T14:28:13.983911",
     "exception": false,
     "start_time": "2022-08-28T14:28:13.963481",
     "status": "completed"
    },
    "tags": []
   },
   "source": [
    "# Compute correlations"
   ]
  },
  {
   "cell_type": "code",
   "execution_count": 22,
   "id": "cb859c15-d1f3-4006-a74c-2b83c0db9611",
   "metadata": {
    "execution": {
     "iopub.execute_input": "2022-08-28T14:28:14.025449Z",
     "iopub.status.busy": "2022-08-28T14:28:14.025165Z",
     "iopub.status.idle": "2022-08-28T14:28:14.060659Z",
     "shell.execute_reply": "2022-08-28T14:28:14.060058Z"
    },
    "papermill": {
     "duration": 0.057711,
     "end_time": "2022-08-28T14:28:14.062545",
     "exception": false,
     "start_time": "2022-08-28T14:28:14.004834",
     "status": "completed"
    },
    "tags": []
   },
   "outputs": [
    {
     "data": {
      "text/plain": [
       "PosixPath('/project/ritchie20/projects/phenoplier/base/results/gls/gene_corrs/cohorts/1000g_eur/gtex_v8/mashr/by_chr/gene_corrs-chr9.pkl')"
      ]
     },
     "metadata": {},
     "output_type": "display_data"
    }
   ],
   "source": [
    "output_dir = OUTPUT_DIR_BASE / \"by_chr\"\n",
    "output_dir.mkdir(exist_ok=True, parents=True)\n",
    "output_file = output_dir / f\"gene_corrs-chr{CHROMOSOME}.pkl\"\n",
    "display(output_file)"
   ]
  },
  {
   "cell_type": "code",
   "execution_count": 23,
   "id": "aa674fe4-6794-4eed-98fa-32b39d1d4ace",
   "metadata": {
    "execution": {
     "iopub.execute_input": "2022-08-28T14:28:14.101537Z",
     "iopub.status.busy": "2022-08-28T14:28:14.101251Z",
     "iopub.status.idle": "2022-08-28T14:28:14.126327Z",
     "shell.execute_reply": "2022-08-28T14:28:14.125591Z"
    },
    "papermill": {
     "duration": 0.046482,
     "end_time": "2022-08-28T14:28:14.128311",
     "exception": false,
     "start_time": "2022-08-28T14:28:14.081829",
     "status": "completed"
    },
    "tags": []
   },
   "outputs": [],
   "source": [
    "warnings.filterwarnings(\"error\")"
   ]
  },
  {
   "cell_type": "code",
   "execution_count": 24,
   "id": "44d5450b-3baf-43f1-9e2e-4b06f1a785f8",
   "metadata": {
    "execution": {
     "iopub.execute_input": "2022-08-28T14:28:14.163512Z",
     "iopub.status.busy": "2022-08-28T14:28:14.163254Z",
     "iopub.status.idle": "2022-08-28T14:28:14.188579Z",
     "shell.execute_reply": "2022-08-28T14:28:14.187811Z"
    },
    "papermill": {
     "duration": 0.045572,
     "end_time": "2022-08-28T14:28:14.190488",
     "exception": false,
     "start_time": "2022-08-28T14:28:14.144916",
     "status": "completed"
    },
    "tags": []
   },
   "outputs": [],
   "source": [
    "# standard checks\n",
    "all_chrs = genes_info[\"chr\"].dropna().unique()\n",
    "assert all_chrs.shape[0] == 22\n",
    "\n",
    "# select chromosome given by the user\n",
    "assert CHROMOSOME in all_chrs"
   ]
  },
  {
   "cell_type": "code",
   "execution_count": 25,
   "id": "2d7c043c-92a7-4d35-991b-fa69ac1e0268",
   "metadata": {
    "execution": {
     "iopub.execute_input": "2022-08-28T14:28:14.227685Z",
     "iopub.status.busy": "2022-08-28T14:28:14.227328Z",
     "iopub.status.idle": "2022-08-28T14:28:14.315929Z",
     "shell.execute_reply": "2022-08-28T14:28:14.314815Z"
    },
    "papermill": {
     "duration": 0.11212,
     "end_time": "2022-08-28T14:28:14.319211",
     "exception": false,
     "start_time": "2022-08-28T14:28:14.207091",
     "status": "completed"
    },
    "tags": []
   },
   "outputs": [
    {
     "name": "stdout",
     "output_type": "stream",
     "text": [
      "Number of genes in chromosome: 245\n"
     ]
    }
   ],
   "source": [
    "# run only on the chromosome specified\n",
    "all_chrs = [CHROMOSOME]\n",
    "genes_chr = genes_info[genes_info[\"chr\"] == CHROMOSOME]\n",
    "\n",
    "# For testing purposes\n",
    "# genes_chr = genes_chr.sample(n=20)\n",
    "\n",
    "print(f\"Number of genes in chromosome: {genes_chr.shape[0]}\", flush=True)"
   ]
  },
  {
   "cell_type": "code",
   "execution_count": 26,
   "id": "916015d8-2979-46d3-a9b9-1cf5a0932c6a",
   "metadata": {
    "execution": {
     "iopub.execute_input": "2022-08-28T14:28:14.369315Z",
     "iopub.status.busy": "2022-08-28T14:28:14.368916Z",
     "iopub.status.idle": "2022-08-28T14:28:14.403551Z",
     "shell.execute_reply": "2022-08-28T14:28:14.402706Z"
    },
    "papermill": {
     "duration": 0.062215,
     "end_time": "2022-08-28T14:28:14.406080",
     "exception": false,
     "start_time": "2022-08-28T14:28:14.343865",
     "status": "completed"
    },
    "tags": []
   },
   "outputs": [],
   "source": [
    "# sort genes by starting position to make visualizations better later\n",
    "genes_chr = genes_chr.sort_values(\"start_position\")"
   ]
  },
  {
   "cell_type": "code",
   "execution_count": 27,
   "id": "a38aa74a-8ad3-47f6-8ef9-56be0e011774",
   "metadata": {
    "execution": {
     "iopub.execute_input": "2022-08-28T14:28:14.448203Z",
     "iopub.status.busy": "2022-08-28T14:28:14.447904Z",
     "iopub.status.idle": "2022-08-28T14:28:14.477075Z",
     "shell.execute_reply": "2022-08-28T14:28:14.476451Z"
    },
    "papermill": {
     "duration": 0.053397,
     "end_time": "2022-08-28T14:28:14.479251",
     "exception": false,
     "start_time": "2022-08-28T14:28:14.425854",
     "status": "completed"
    },
    "tags": []
   },
   "outputs": [],
   "source": [
    "gene_chr_objs = [Gene(ensembl_id=gene_id) for gene_id in genes_chr[\"id\"]]"
   ]
  },
  {
   "cell_type": "code",
   "execution_count": 28,
   "id": "570f974f-13c3-42b6-ad3a-ce99ca885c1a",
   "metadata": {
    "execution": {
     "iopub.execute_input": "2022-08-28T14:28:14.517032Z",
     "iopub.status.busy": "2022-08-28T14:28:14.516772Z",
     "iopub.status.idle": "2022-08-28T14:28:14.543083Z",
     "shell.execute_reply": "2022-08-28T14:28:14.542455Z"
    },
    "papermill": {
     "duration": 0.04645,
     "end_time": "2022-08-28T14:28:14.544975",
     "exception": false,
     "start_time": "2022-08-28T14:28:14.498525",
     "status": "completed"
    },
    "tags": []
   },
   "outputs": [
    {
     "name": "stdout",
     "output_type": "stream",
     "text": [
      "Number of gene combinations: 29890\n"
     ]
    }
   ],
   "source": [
    "n = len(gene_chr_objs)\n",
    "n_comb = int(n * (n - 1) / 2.0)\n",
    "print(f\"Number of gene combinations: {n_comb}\", flush=True)"
   ]
  },
  {
   "cell_type": "code",
   "execution_count": 29,
   "id": "cdbb90a1",
   "metadata": {
    "execution": {
     "iopub.execute_input": "2022-08-28T14:28:14.579512Z",
     "iopub.status.busy": "2022-08-28T14:28:14.579259Z",
     "iopub.status.idle": "2022-08-28T14:57:56.313204Z",
     "shell.execute_reply": "2022-08-28T14:57:56.311556Z"
    },
    "papermill": {
     "duration": 1781.75536,
     "end_time": "2022-08-28T14:57:56.317481",
     "exception": false,
     "start_time": "2022-08-28T14:28:14.562121",
     "status": "completed"
    },
    "tags": []
   },
   "outputs": [
    {
     "name": "stderr",
     "output_type": "stream",
     "text": [
      "ENSG00000181090 / ENSG00000181090: : 30135it [29:41, 16.92it/s]\n"
     ]
    },
    {
     "data": {
      "text/plain": [
       "PosixPath('/project/ritchie20/projects/phenoplier/base/results/gls/gene_corrs/cohorts/1000g_eur/gtex_v8/mashr/by_chr/gene_corrs-chr9.pkl')"
      ]
     },
     "metadata": {},
     "output_type": "display_data"
    }
   ],
   "source": [
    "gene_corrs = []\n",
    "gene_corrs_data = np.full(\n",
    "    (n, n),\n",
    "    np.nan,\n",
    "    dtype=np.float64,\n",
    ")\n",
    "\n",
    "i = 0\n",
    "with tqdm(ncols=100, total=n_comb) as pbar:\n",
    "    for gene1_idx in range(0, len(gene_chr_objs)):\n",
    "        gene1_obj = gene_chr_objs[gene1_idx]\n",
    "        gene1_tissues = spredixcan_genes_models.loc[gene1_obj.ensembl_id, \"tissue\"]\n",
    "\n",
    "        for gene2_idx in range(gene1_idx, len(gene_chr_objs)):\n",
    "            gene2_obj = gene_chr_objs[gene2_idx]\n",
    "            gene2_tissues = spredixcan_genes_models.loc[gene2_obj.ensembl_id, \"tissue\"]\n",
    "\n",
    "            pbar.set_description(f\"{gene1_obj.ensembl_id} / {gene2_obj.ensembl_id}\")\n",
    "\n",
    "            try:\n",
    "                r = gene1_obj.get_ssm_correlation(\n",
    "                    other_gene=gene2_obj,\n",
    "                    tissues=gene1_tissues,\n",
    "                    other_tissues=gene2_tissues,\n",
    "                    snps_subset=gwas_variants_ids_set,\n",
    "                    condition_number=SMULTIXCAN_CONDITION_NUMBER,\n",
    "                    reference_panel=REFERENCE_PANEL,\n",
    "                    model_type=EQTL_MODEL,\n",
    "                    use_within_distance=COMPUTE_CORRELATIONS_WITHIN_DISTANCE,\n",
    "                )\n",
    "\n",
    "                if r is None:\n",
    "                    # if r is None, it's very likely because:\n",
    "                    #  * one of the genes has no prediction models\n",
    "                    #  * all the SNPs predictors for the gene are not present in the reference\n",
    "                    #    panel\n",
    "\n",
    "                    r = 0.0\n",
    "\n",
    "                gene_corrs.append(r)\n",
    "\n",
    "                gene_corrs_data[gene1_idx, gene2_idx] = r\n",
    "                gene_corrs_data[gene2_idx, gene1_idx] = r\n",
    "            except Warning as e:\n",
    "                if not DEBUG_MODE:\n",
    "                    raise e\n",
    "\n",
    "                print(\n",
    "                    f\"RuntimeWarning for genes {gene1_obj.ensembl_id} and {gene2_obj.ensembl_id}\",\n",
    "                    flush=True,\n",
    "                )\n",
    "                print(traceback.format_exc(), flush=True)\n",
    "\n",
    "                gene_corrs.append(np.nan)\n",
    "            except Exception as e:\n",
    "                if not DEBUG_MODE:\n",
    "                    raise e\n",
    "\n",
    "                print(\n",
    "                    f\"Exception for genes {gene1_obj.ensembl_id} and {gene2_obj.ensembl_id}\",\n",
    "                    flush=True,\n",
    "                )\n",
    "                print(traceback.format_exc(), flush=True)\n",
    "\n",
    "                gene_corrs.append(np.nan)\n",
    "\n",
    "            pbar.update(1)\n",
    "\n",
    "# create a pandas series\n",
    "gene_corrs_flat = pd.Series(gene_corrs)\n",
    "\n",
    "# save\n",
    "# FIXME: consider saving only the condenced matrix here. See here for\n",
    "# more details: https://github.com/greenelab/phenoplier/pull/38#discussion_r634600813\n",
    "# gene_corrs_data = squareform(np.array(gene_corrs, dtype=np.float64))\n",
    "# np.fill_diagonal(gene_corrs_data, 1.0)\n",
    "\n",
    "gene_chr_ids = [g.ensembl_id for g in gene_chr_objs]\n",
    "gene_corrs_df = pd.DataFrame(\n",
    "    data=gene_corrs_data,\n",
    "    index=gene_chr_ids,\n",
    "    columns=gene_chr_ids,\n",
    ")\n",
    "\n",
    "output_dir.mkdir(exist_ok=True, parents=True)\n",
    "display(output_file)\n",
    "\n",
    "gene_corrs_df.to_pickle(output_file)"
   ]
  },
  {
   "cell_type": "markdown",
   "id": "faa67b51-5373-470f-aa72-2ded53fa6dfe",
   "metadata": {
    "papermill": {
     "duration": 1.427618,
     "end_time": "2022-08-28T14:57:59.235328",
     "exception": false,
     "start_time": "2022-08-28T14:57:57.807710",
     "status": "completed"
    },
    "tags": []
   },
   "source": [
    "# Testing"
   ]
  },
  {
   "cell_type": "code",
   "execution_count": 30,
   "id": "14f7d046-4b55-4896-a56b-990127bcc388",
   "metadata": {
    "execution": {
     "iopub.execute_input": "2022-08-28T14:58:02.038945Z",
     "iopub.status.busy": "2022-08-28T14:58:02.038696Z",
     "iopub.status.idle": "2022-08-28T14:58:02.356220Z",
     "shell.execute_reply": "2022-08-28T14:58:02.355020Z"
    },
    "papermill": {
     "duration": 1.699578,
     "end_time": "2022-08-28T14:58:02.360082",
     "exception": false,
     "start_time": "2022-08-28T14:58:00.660504",
     "status": "completed"
    },
    "tags": []
   },
   "outputs": [
    {
     "data": {
      "text/plain": [
       "(245, 245)"
      ]
     },
     "execution_count": 30,
     "metadata": {},
     "output_type": "execute_result"
    }
   ],
   "source": [
    "gene_corrs_df.shape"
   ]
  },
  {
   "cell_type": "code",
   "execution_count": 31,
   "id": "c7d15414-3297-4537-a7c6-7588c0baeb75",
   "metadata": {
    "execution": {
     "iopub.execute_input": "2022-08-28T14:58:05.309318Z",
     "iopub.status.busy": "2022-08-28T14:58:05.309065Z",
     "iopub.status.idle": "2022-08-28T14:58:05.339735Z",
     "shell.execute_reply": "2022-08-28T14:58:05.339343Z"
    },
    "papermill": {
     "duration": 1.468454,
     "end_time": "2022-08-28T14:58:05.340953",
     "exception": false,
     "start_time": "2022-08-28T14:58:03.872499",
     "status": "completed"
    },
    "tags": []
   },
   "outputs": [
    {
     "data": {
      "text/html": [
       "<div>\n",
       "<style scoped>\n",
       "    .dataframe tbody tr th:only-of-type {\n",
       "        vertical-align: middle;\n",
       "    }\n",
       "\n",
       "    .dataframe tbody tr th {\n",
       "        vertical-align: top;\n",
       "    }\n",
       "\n",
       "    .dataframe thead th {\n",
       "        text-align: right;\n",
       "    }\n",
       "</style>\n",
       "<table border=\"1\" class=\"dataframe\">\n",
       "  <thead>\n",
       "    <tr style=\"text-align: right;\">\n",
       "      <th></th>\n",
       "      <th>ENSG00000107099</th>\n",
       "      <th>ENSG00000080503</th>\n",
       "      <th>ENSG00000147852</th>\n",
       "      <th>ENSG00000107249</th>\n",
       "      <th>ENSG00000147853</th>\n",
       "      <th>ENSG00000096968</th>\n",
       "      <th>ENSG00000107014</th>\n",
       "      <th>ENSG00000120217</th>\n",
       "      <th>ENSG00000197646</th>\n",
       "      <th>ENSG00000178445</th>\n",
       "      <th>...</th>\n",
       "      <th>ENSG00000107317</th>\n",
       "      <th>ENSG00000169583</th>\n",
       "      <th>ENSG00000107331</th>\n",
       "      <th>ENSG00000054179</th>\n",
       "      <th>ENSG00000177239</th>\n",
       "      <th>ENSG00000176248</th>\n",
       "      <th>ENSG00000176101</th>\n",
       "      <th>ENSG00000188747</th>\n",
       "      <th>ENSG00000182154</th>\n",
       "      <th>ENSG00000181090</th>\n",
       "    </tr>\n",
       "  </thead>\n",
       "  <tbody>\n",
       "    <tr>\n",
       "      <th>ENSG00000107099</th>\n",
       "      <td>1.000000</td>\n",
       "      <td>0.004888</td>\n",
       "      <td>0.014494</td>\n",
       "      <td>0.011179</td>\n",
       "      <td>0.008516</td>\n",
       "      <td>0.010086</td>\n",
       "      <td>0.007350</td>\n",
       "      <td>0.010925</td>\n",
       "      <td>0.003667</td>\n",
       "      <td>0.007955</td>\n",
       "      <td>...</td>\n",
       "      <td>0.005502</td>\n",
       "      <td>0.004963</td>\n",
       "      <td>0.006625</td>\n",
       "      <td>0.010763</td>\n",
       "      <td>0.007247</td>\n",
       "      <td>0.006464</td>\n",
       "      <td>0.005777</td>\n",
       "      <td>0.012972</td>\n",
       "      <td>0.002313</td>\n",
       "      <td>0.003386</td>\n",
       "    </tr>\n",
       "    <tr>\n",
       "      <th>ENSG00000080503</th>\n",
       "      <td>0.004888</td>\n",
       "      <td>1.000000</td>\n",
       "      <td>0.012514</td>\n",
       "      <td>0.009019</td>\n",
       "      <td>0.008423</td>\n",
       "      <td>0.010715</td>\n",
       "      <td>0.006403</td>\n",
       "      <td>0.009085</td>\n",
       "      <td>0.005355</td>\n",
       "      <td>0.011907</td>\n",
       "      <td>...</td>\n",
       "      <td>0.007106</td>\n",
       "      <td>0.010396</td>\n",
       "      <td>0.007528</td>\n",
       "      <td>0.010023</td>\n",
       "      <td>0.007058</td>\n",
       "      <td>0.008733</td>\n",
       "      <td>0.008615</td>\n",
       "      <td>0.007522</td>\n",
       "      <td>0.004690</td>\n",
       "      <td>0.007634</td>\n",
       "    </tr>\n",
       "    <tr>\n",
       "      <th>ENSG00000147852</th>\n",
       "      <td>0.014494</td>\n",
       "      <td>0.012514</td>\n",
       "      <td>1.000000</td>\n",
       "      <td>0.012784</td>\n",
       "      <td>0.014738</td>\n",
       "      <td>0.018716</td>\n",
       "      <td>0.013753</td>\n",
       "      <td>0.018750</td>\n",
       "      <td>0.009735</td>\n",
       "      <td>0.014577</td>\n",
       "      <td>...</td>\n",
       "      <td>0.013352</td>\n",
       "      <td>0.014501</td>\n",
       "      <td>0.011443</td>\n",
       "      <td>0.021091</td>\n",
       "      <td>0.016032</td>\n",
       "      <td>0.011940</td>\n",
       "      <td>0.004968</td>\n",
       "      <td>0.011630</td>\n",
       "      <td>0.008648</td>\n",
       "      <td>0.012216</td>\n",
       "    </tr>\n",
       "    <tr>\n",
       "      <th>ENSG00000107249</th>\n",
       "      <td>0.011179</td>\n",
       "      <td>0.009019</td>\n",
       "      <td>0.012784</td>\n",
       "      <td>1.000000</td>\n",
       "      <td>0.013043</td>\n",
       "      <td>0.012821</td>\n",
       "      <td>0.009166</td>\n",
       "      <td>0.012765</td>\n",
       "      <td>0.004407</td>\n",
       "      <td>0.010986</td>\n",
       "      <td>...</td>\n",
       "      <td>0.010055</td>\n",
       "      <td>0.009929</td>\n",
       "      <td>0.008257</td>\n",
       "      <td>0.011060</td>\n",
       "      <td>0.011360</td>\n",
       "      <td>0.009262</td>\n",
       "      <td>0.004310</td>\n",
       "      <td>0.012206</td>\n",
       "      <td>0.004476</td>\n",
       "      <td>0.006118</td>\n",
       "    </tr>\n",
       "    <tr>\n",
       "      <th>ENSG00000147853</th>\n",
       "      <td>0.008516</td>\n",
       "      <td>0.008423</td>\n",
       "      <td>0.014738</td>\n",
       "      <td>0.013043</td>\n",
       "      <td>1.000000</td>\n",
       "      <td>0.035341</td>\n",
       "      <td>0.010092</td>\n",
       "      <td>0.014017</td>\n",
       "      <td>0.008673</td>\n",
       "      <td>0.014867</td>\n",
       "      <td>...</td>\n",
       "      <td>0.009349</td>\n",
       "      <td>0.010215</td>\n",
       "      <td>0.008240</td>\n",
       "      <td>0.006939</td>\n",
       "      <td>0.005548</td>\n",
       "      <td>0.004861</td>\n",
       "      <td>0.001863</td>\n",
       "      <td>0.006116</td>\n",
       "      <td>0.007484</td>\n",
       "      <td>0.007050</td>\n",
       "    </tr>\n",
       "  </tbody>\n",
       "</table>\n",
       "<p>5 rows × 245 columns</p>\n",
       "</div>"
      ],
      "text/plain": [
       "                 ENSG00000107099  ENSG00000080503  ENSG00000147852  \\\n",
       "ENSG00000107099         1.000000         0.004888         0.014494   \n",
       "ENSG00000080503         0.004888         1.000000         0.012514   \n",
       "ENSG00000147852         0.014494         0.012514         1.000000   \n",
       "ENSG00000107249         0.011179         0.009019         0.012784   \n",
       "ENSG00000147853         0.008516         0.008423         0.014738   \n",
       "\n",
       "                 ENSG00000107249  ENSG00000147853  ENSG00000096968  \\\n",
       "ENSG00000107099         0.011179         0.008516         0.010086   \n",
       "ENSG00000080503         0.009019         0.008423         0.010715   \n",
       "ENSG00000147852         0.012784         0.014738         0.018716   \n",
       "ENSG00000107249         1.000000         0.013043         0.012821   \n",
       "ENSG00000147853         0.013043         1.000000         0.035341   \n",
       "\n",
       "                 ENSG00000107014  ENSG00000120217  ENSG00000197646  \\\n",
       "ENSG00000107099         0.007350         0.010925         0.003667   \n",
       "ENSG00000080503         0.006403         0.009085         0.005355   \n",
       "ENSG00000147852         0.013753         0.018750         0.009735   \n",
       "ENSG00000107249         0.009166         0.012765         0.004407   \n",
       "ENSG00000147853         0.010092         0.014017         0.008673   \n",
       "\n",
       "                 ENSG00000178445  ...  ENSG00000107317  ENSG00000169583  \\\n",
       "ENSG00000107099         0.007955  ...         0.005502         0.004963   \n",
       "ENSG00000080503         0.011907  ...         0.007106         0.010396   \n",
       "ENSG00000147852         0.014577  ...         0.013352         0.014501   \n",
       "ENSG00000107249         0.010986  ...         0.010055         0.009929   \n",
       "ENSG00000147853         0.014867  ...         0.009349         0.010215   \n",
       "\n",
       "                 ENSG00000107331  ENSG00000054179  ENSG00000177239  \\\n",
       "ENSG00000107099         0.006625         0.010763         0.007247   \n",
       "ENSG00000080503         0.007528         0.010023         0.007058   \n",
       "ENSG00000147852         0.011443         0.021091         0.016032   \n",
       "ENSG00000107249         0.008257         0.011060         0.011360   \n",
       "ENSG00000147853         0.008240         0.006939         0.005548   \n",
       "\n",
       "                 ENSG00000176248  ENSG00000176101  ENSG00000188747  \\\n",
       "ENSG00000107099         0.006464         0.005777         0.012972   \n",
       "ENSG00000080503         0.008733         0.008615         0.007522   \n",
       "ENSG00000147852         0.011940         0.004968         0.011630   \n",
       "ENSG00000107249         0.009262         0.004310         0.012206   \n",
       "ENSG00000147853         0.004861         0.001863         0.006116   \n",
       "\n",
       "                 ENSG00000182154  ENSG00000181090  \n",
       "ENSG00000107099         0.002313         0.003386  \n",
       "ENSG00000080503         0.004690         0.007634  \n",
       "ENSG00000147852         0.008648         0.012216  \n",
       "ENSG00000107249         0.004476         0.006118  \n",
       "ENSG00000147853         0.007484         0.007050  \n",
       "\n",
       "[5 rows x 245 columns]"
      ]
     },
     "execution_count": 31,
     "metadata": {},
     "output_type": "execute_result"
    }
   ],
   "source": [
    "gene_corrs_df.head()"
   ]
  },
  {
   "cell_type": "markdown",
   "id": "dad6603f-01c6-41fb-a6f6-241051207dd8",
   "metadata": {
    "papermill": {
     "duration": 1.42946,
     "end_time": "2022-08-28T14:58:08.162949",
     "exception": false,
     "start_time": "2022-08-28T14:58:06.733489",
     "status": "completed"
    },
    "tags": []
   },
   "source": [
    "## Standard checks and stats"
   ]
  },
  {
   "cell_type": "code",
   "execution_count": 32,
   "id": "286686af-1b7b-4440-8453-6bdcbd8de19c",
   "metadata": {
    "execution": {
     "iopub.execute_input": "2022-08-28T14:58:10.967911Z",
     "iopub.status.busy": "2022-08-28T14:58:10.967669Z",
     "iopub.status.idle": "2022-08-28T14:58:10.988440Z",
     "shell.execute_reply": "2022-08-28T14:58:10.988041Z"
    },
    "papermill": {
     "duration": 1.398873,
     "end_time": "2022-08-28T14:58:10.989791",
     "exception": false,
     "start_time": "2022-08-28T14:58:09.590918",
     "status": "completed"
    },
    "tags": []
   },
   "outputs": [],
   "source": [
    "assert not gene_corrs_df.isna().any().any()"
   ]
  },
  {
   "cell_type": "code",
   "execution_count": 33,
   "id": "00583efc-7068-4270-ad1e-4a418e91db96",
   "metadata": {
    "execution": {
     "iopub.execute_input": "2022-08-28T14:58:13.854216Z",
     "iopub.status.busy": "2022-08-28T14:58:13.853969Z",
     "iopub.status.idle": "2022-08-28T14:58:13.875277Z",
     "shell.execute_reply": "2022-08-28T14:58:13.874820Z"
    },
    "papermill": {
     "duration": 1.453574,
     "end_time": "2022-08-28T14:58:13.876604",
     "exception": false,
     "start_time": "2022-08-28T14:58:12.423030",
     "status": "completed"
    },
    "tags": []
   },
   "outputs": [
    {
     "data": {
      "text/plain": [
       "1.1199333351450861e-07"
      ]
     },
     "metadata": {},
     "output_type": "display_data"
    }
   ],
   "source": [
    "_min_val = gene_corrs_df.min().min()\n",
    "display(_min_val)\n",
    "assert _min_val >= -0.05"
   ]
  },
  {
   "cell_type": "code",
   "execution_count": 34,
   "id": "d04fb2cf-1050-475b-b855-f5f7cc04092b",
   "metadata": {
    "execution": {
     "iopub.execute_input": "2022-08-28T14:58:16.695949Z",
     "iopub.status.busy": "2022-08-28T14:58:16.695712Z",
     "iopub.status.idle": "2022-08-28T14:58:16.722537Z",
     "shell.execute_reply": "2022-08-28T14:58:16.722152Z"
    },
    "papermill": {
     "duration": 1.405161,
     "end_time": "2022-08-28T14:58:16.723727",
     "exception": false,
     "start_time": "2022-08-28T14:58:15.318566",
     "status": "completed"
    },
    "tags": []
   },
   "outputs": [
    {
     "data": {
      "text/plain": [
       "1.0000000000000029"
      ]
     },
     "metadata": {},
     "output_type": "display_data"
    }
   ],
   "source": [
    "_max_val = gene_corrs_df.max().max()  # this captures the diagonal\n",
    "display(_max_val)\n",
    "assert _max_val <= 1.05"
   ]
  },
  {
   "cell_type": "code",
   "execution_count": 35,
   "id": "96d02c44-1fba-47be-8a93-8f2608420b9c",
   "metadata": {
    "execution": {
     "iopub.execute_input": "2022-08-28T14:58:19.517739Z",
     "iopub.status.busy": "2022-08-28T14:58:19.517499Z",
     "iopub.status.idle": "2022-08-28T14:58:19.535326Z",
     "shell.execute_reply": "2022-08-28T14:58:19.534848Z"
    },
    "papermill": {
     "duration": 1.439509,
     "end_time": "2022-08-28T14:58:19.536660",
     "exception": false,
     "start_time": "2022-08-28T14:58:18.097151",
     "status": "completed"
    },
    "tags": []
   },
   "outputs": [],
   "source": [
    "# check upper triangular values\n",
    "# assert len(gene_corrs) == int(genes_chr.shape[0] * (genes_chr.shape[0] - 1) / 2)"
   ]
  },
  {
   "cell_type": "code",
   "execution_count": 36,
   "id": "fe283586-c348-40e0-8841-f6d97bfb021c",
   "metadata": {
    "execution": {
     "iopub.execute_input": "2022-08-28T14:58:22.352983Z",
     "iopub.status.busy": "2022-08-28T14:58:22.352748Z",
     "iopub.status.idle": "2022-08-28T14:58:22.376802Z",
     "shell.execute_reply": "2022-08-28T14:58:22.376093Z"
    },
    "papermill": {
     "duration": 1.401128,
     "end_time": "2022-08-28T14:58:22.378147",
     "exception": false,
     "start_time": "2022-08-28T14:58:20.977019",
     "status": "completed"
    },
    "tags": []
   },
   "outputs": [
    {
     "data": {
      "text/plain": [
       "count    3.013500e+04\n",
       "mean     1.639772e-02\n",
       "std      9.327703e-02\n",
       "min      1.119933e-07\n",
       "25%      3.774902e-03\n",
       "50%      5.931754e-03\n",
       "75%      8.365670e-03\n",
       "max      1.000000e+00\n",
       "dtype: float64"
      ]
     },
     "execution_count": 36,
     "metadata": {},
     "output_type": "execute_result"
    }
   ],
   "source": [
    "gene_corrs_flat.describe()"
   ]
  },
  {
   "cell_type": "code",
   "execution_count": 37,
   "id": "b3815678-0f93-4b35-897b-a9d047a2aa78",
   "metadata": {
    "execution": {
     "iopub.execute_input": "2022-08-28T14:58:25.243879Z",
     "iopub.status.busy": "2022-08-28T14:58:25.243640Z",
     "iopub.status.idle": "2022-08-28T14:58:25.267613Z",
     "shell.execute_reply": "2022-08-28T14:58:25.266931Z"
    },
    "papermill": {
     "duration": 1.452836,
     "end_time": "2022-08-28T14:58:25.268972",
     "exception": false,
     "start_time": "2022-08-28T14:58:23.816136",
     "status": "completed"
    },
    "tags": []
   },
   "outputs": [
    {
     "data": {
      "text/plain": [
       "0.00    1.119933e-07\n",
       "0.05    1.438712e-03\n",
       "0.10    2.180701e-03\n",
       "0.15    2.779908e-03\n",
       "0.20    3.299904e-03\n",
       "0.25    3.774902e-03\n",
       "0.30    4.226136e-03\n",
       "0.35    4.651167e-03\n",
       "0.40    5.083150e-03\n",
       "0.45    5.494260e-03\n",
       "0.50    5.931754e-03\n",
       "0.55    6.346496e-03\n",
       "0.60    6.776390e-03\n",
       "0.65    7.253664e-03\n",
       "0.70    7.777444e-03\n",
       "0.75    8.365670e-03\n",
       "0.80    9.052434e-03\n",
       "0.85    9.881331e-03\n",
       "0.90    1.093429e-02\n",
       "0.95    1.300193e-02\n",
       "dtype: float64"
      ]
     },
     "metadata": {},
     "output_type": "display_data"
    }
   ],
   "source": [
    "gene_corrs_quantiles = gene_corrs_flat.quantile(np.arange(0, 1, 0.05))\n",
    "display(gene_corrs_quantiles)"
   ]
  },
  {
   "cell_type": "markdown",
   "id": "87134509-b145-4a10-8bc9-b7e914c2b0fa",
   "metadata": {
    "papermill": {
     "duration": 1.420937,
     "end_time": "2022-08-28T14:58:28.076819",
     "exception": false,
     "start_time": "2022-08-28T14:58:26.655882",
     "status": "completed"
    },
    "tags": []
   },
   "source": [
    "## Positive definiteness"
   ]
  },
  {
   "cell_type": "code",
   "execution_count": 38,
   "id": "07d9a9a1-a4f7-48aa-b916-6d42a8cc6186",
   "metadata": {
    "execution": {
     "iopub.execute_input": "2022-08-28T14:58:30.888323Z",
     "iopub.status.busy": "2022-08-28T14:58:30.888060Z",
     "iopub.status.idle": "2022-08-28T14:58:31.173307Z",
     "shell.execute_reply": "2022-08-28T14:58:31.172408Z"
    },
    "papermill": {
     "duration": 1.66934,
     "end_time": "2022-08-28T14:58:31.175919",
     "exception": false,
     "start_time": "2022-08-28T14:58:29.506579",
     "status": "completed"
    },
    "tags": []
   },
   "outputs": [
    {
     "data": {
      "text/plain": [
       "0"
      ]
     },
     "metadata": {},
     "output_type": "display_data"
    },
    {
     "data": {
      "text/plain": [
       "array([], dtype=float64)"
      ]
     },
     "metadata": {},
     "output_type": "display_data"
    }
   ],
   "source": [
    "# print negative eigenvalues\n",
    "eigs = np.linalg.eigvals(gene_corrs_df.to_numpy())\n",
    "display(len(eigs[eigs < 0]))\n",
    "display(eigs[eigs < 0])"
   ]
  },
  {
   "cell_type": "code",
   "execution_count": 39,
   "id": "6e218436-c3c5-4028-8c94-a4fa6260efce",
   "metadata": {
    "execution": {
     "iopub.execute_input": "2022-08-28T14:58:34.106210Z",
     "iopub.status.busy": "2022-08-28T14:58:34.105966Z",
     "iopub.status.idle": "2022-08-28T14:58:34.168134Z",
     "shell.execute_reply": "2022-08-28T14:58:34.167318Z"
    },
    "papermill": {
     "duration": 1.497626,
     "end_time": "2022-08-28T14:58:34.169873",
     "exception": false,
     "start_time": "2022-08-28T14:58:32.672247",
     "status": "completed"
    },
    "tags": []
   },
   "outputs": [
    {
     "name": "stdout",
     "output_type": "stream",
     "text": [
      "Works!\n"
     ]
    }
   ],
   "source": [
    "try:\n",
    "    chol_mat = np.linalg.cholesky(gene_corrs_df.to_numpy())\n",
    "    cov_inv = np.linalg.inv(chol_mat)\n",
    "    print(\"Works!\")\n",
    "except Exception as e:\n",
    "    print(f\"Cholesky decomposition failed: {str(e)}\")"
   ]
  },
  {
   "cell_type": "code",
   "execution_count": 40,
   "id": "dd8827fb-faf9-4c7c-9454-015e94752706",
   "metadata": {
    "execution": {
     "iopub.execute_input": "2022-08-28T14:58:37.025361Z",
     "iopub.status.busy": "2022-08-28T14:58:37.025109Z",
     "iopub.status.idle": "2022-08-28T14:58:37.047887Z",
     "shell.execute_reply": "2022-08-28T14:58:37.047437Z"
    },
    "papermill": {
     "duration": 1.409622,
     "end_time": "2022-08-28T14:58:37.049128",
     "exception": false,
     "start_time": "2022-08-28T14:58:35.639506",
     "status": "completed"
    },
    "tags": []
   },
   "outputs": [
    {
     "name": "stdout",
     "output_type": "stream",
     "text": [
      "Works!\n"
     ]
    }
   ],
   "source": [
    "try:\n",
    "    # decomposition used by statsmodels.GLS\n",
    "    cholsigmainv = np.linalg.cholesky(np.linalg.inv(gene_corrs_df.to_numpy())).T\n",
    "    print(\"Works!\")\n",
    "except Exception as e:\n",
    "    print(f\"Cholesky decomposition failed (statsmodels.GLS): {str(e)}\")"
   ]
  },
  {
   "cell_type": "markdown",
   "id": "8e60a080-edb2-4e9c-b2ef-22961693200c",
   "metadata": {
    "papermill": {
     "duration": 1.425359,
     "end_time": "2022-08-28T14:58:39.845232",
     "exception": false,
     "start_time": "2022-08-28T14:58:38.419873",
     "status": "completed"
    },
    "tags": []
   },
   "source": [
    "## Plot: distribution"
   ]
  },
  {
   "cell_type": "code",
   "execution_count": 41,
   "id": "8301126b-a7d4-4744-9c7d-f0f86eb6f54c",
   "metadata": {
    "execution": {
     "iopub.execute_input": "2022-08-28T14:58:42.642618Z",
     "iopub.status.busy": "2022-08-28T14:58:42.642368Z",
     "iopub.status.idle": "2022-08-28T14:58:47.782263Z",
     "shell.execute_reply": "2022-08-28T14:58:47.781679Z"
    },
    "papermill": {
     "duration": 6.512663,
     "end_time": "2022-08-28T14:58:47.783845",
     "exception": false,
     "start_time": "2022-08-28T14:58:41.271182",
     "status": "completed"
    },
    "tags": []
   },
   "outputs": [
    {
     "data": {
      "image/png": "[encoded data removed]",
      "text/plain": [
       "<Figure size 504x504 with 1 Axes>"
      ]
     },
     "metadata": {
      "needs_background": "light"
     },
     "output_type": "display_data"
    }
   ],
   "source": [
    "with sns.plotting_context(\"paper\", font_scale=1.5):\n",
    "    g = sns.displot(gene_corrs_flat, kde=True, height=7)\n",
    "    g.ax.set_title(\n",
    "        f\"Distribution of gene correlation values in chromosome {CHROMOSOME}\"\n",
    "    )"
   ]
  },
  {
   "cell_type": "markdown",
   "id": "cbd52bca-d878-4a2f-b684-5c83aa3038d4",
   "metadata": {
    "papermill": {
     "duration": 1.460686,
     "end_time": "2022-08-28T14:58:50.669045",
     "exception": false,
     "start_time": "2022-08-28T14:58:49.208359",
     "status": "completed"
    },
    "tags": []
   },
   "source": [
    "## Plot: heatmap"
   ]
  },
  {
   "cell_type": "code",
   "execution_count": 42,
   "id": "d03fe63a-c7b2-4fb9-a53c-db362ce843c9",
   "metadata": {
    "execution": {
     "iopub.execute_input": "2022-08-28T14:58:53.427833Z",
     "iopub.status.busy": "2022-08-28T14:58:53.427580Z",
     "iopub.status.idle": "2022-08-28T14:58:53.452852Z",
     "shell.execute_reply": "2022-08-28T14:58:53.452295Z"
    },
    "papermill": {
     "duration": 1.40545,
     "end_time": "2022-08-28T14:58:53.454165",
     "exception": false,
     "start_time": "2022-08-28T14:58:52.048715",
     "status": "completed"
    },
    "tags": []
   },
   "outputs": [
    {
     "data": {
      "text/plain": [
       "'0.0 / 0.05'"
      ]
     },
     "metadata": {},
     "output_type": "display_data"
    }
   ],
   "source": [
    "vmin_val = min(0.00, gene_corrs_quantiles[0.10])\n",
    "vmax_val = max(0.05, gene_corrs_quantiles[0.90])\n",
    "display(f\"{vmin_val} / {vmax_val}\")"
   ]
  },
  {
   "cell_type": "code",
   "execution_count": 43,
   "id": "dc41b70b-5bcc-4d9e-9f33-a22c4a94dab5",
   "metadata": {
    "execution": {
     "iopub.execute_input": "2022-08-28T14:58:56.297206Z",
     "iopub.status.busy": "2022-08-28T14:58:56.296965Z",
     "iopub.status.idle": "2022-08-28T14:58:56.498136Z",
     "shell.execute_reply": "2022-08-28T14:58:56.497719Z"
    },
    "papermill": {
     "duration": 1.627889,
     "end_time": "2022-08-28T14:58:56.499524",
     "exception": false,
     "start_time": "2022-08-28T14:58:54.871635",
     "status": "completed"
    },
    "tags": []
   },
   "outputs": [
    {
     "data": {
      "text/plain": [
       "Text(0.5, 1.0, 'Gene correlations in chromosome 9')"
      ]
     },
     "execution_count": 43,
     "metadata": {},
     "output_type": "execute_result"
    },
    {
     "data": {
      "image/png": "[encoded data removed]",
      "text/plain": [
       "<Figure size 720x720 with 2 Axes>"
      ]
     },
     "metadata": {
      "needs_background": "light"
     },
     "output_type": "display_data"
    }
   ],
   "source": [
    "f, ax = plt.subplots(figsize=(10, 10))\n",
    "sns.heatmap(\n",
    "    gene_corrs_df,\n",
    "    xticklabels=False,\n",
    "    yticklabels=False,\n",
    "    square=True,\n",
    "    vmin=vmin_val,\n",
    "    vmax=vmax_val,\n",
    "    cmap=\"rocket_r\",\n",
    "    ax=ax,\n",
    ")\n",
    "ax.set_title(f\"Gene correlations in chromosome {CHROMOSOME}\")"
   ]
  },
  {
   "cell_type": "code",
   "execution_count": null,
   "id": "b25e3ead",
   "metadata": {
    "papermill": {
     "duration": 1.423111,
     "end_time": "2022-08-28T14:58:59.305248",
     "exception": false,
     "start_time": "2022-08-28T14:58:57.882137",
     "status": "completed"
    },
    "tags": []
   },
   "outputs": [],
   "source": []
  }
 ],
 "metadata": {
  "jupytext": {
   "cell_metadata_filter": "all,-execution,-papermill,-trusted",
   "formats": "ipynb,py//py:percent"
  },
  "kernelspec": {
   "display_name": "Python 3 (ipykernel)",
   "language": "python",
   "name": "python3"
  },
  "language_info": {
   "codemirror_mode": {
    "name": "ipython",
    "version": 3
   },
   "file_extension": ".py",
   "mimetype": "text/x-python",
   "name": "python",
   "nbconvert_exporter": "python",
   "pygments_lexer": "ipython3",
   "version": "3.8.13"
  },
  "papermill": {
   "default_parameters": {},
   "duration": 1866.224712,
   "end_time": "2022-08-28T14:59:03.595303",
   "environment_variables": {},
   "exception": null,
   "input_path": "nbs/15_gsa_gls/10-gene_expr_correlations.ipynb",
   "output_path": "nbs/15_gsa_gls/gene_corrs/cohorts/1000g_eur/gtex_v8/mashr/10-gene_expr_corrs/10-gene_expr_correlations-chr9.run.ipynb",
   "parameters": {
    "CHROMOSOME": 9,
    "COHORT_NAME": "1000g_eur",
    "EQTL_MODEL": "MASHR",
    "REFERENCE_PANEL": "GTEX_V8"
   },
   "start_time": "2022-08-28T14:27:57.370591",
   "version": "2.2.2"
  }
 },
 "nbformat": 4,
 "nbformat_minor": 5
}
