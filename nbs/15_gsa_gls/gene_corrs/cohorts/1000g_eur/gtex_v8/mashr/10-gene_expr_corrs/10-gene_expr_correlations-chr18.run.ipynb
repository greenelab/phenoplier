{
 "cells": [
  {
   "cell_type": "markdown",
   "id": "7a6632fb",
   "metadata": {
    "papermill": {
     "duration": 0.026457,
     "end_time": "2022-08-28T14:28:00.651772",
     "exception": false,
     "start_time": "2022-08-28T14:28:00.625315",
     "status": "completed"
    },
    "tags": []
   },
   "source": [
    "# Description"
   ]
  },
  {
   "cell_type": "markdown",
   "id": "7097c346",
   "metadata": {
    "papermill": {
     "duration": 0.017691,
     "end_time": "2022-08-28T14:28:00.689790",
     "exception": false,
     "start_time": "2022-08-28T14:28:00.672099",
     "status": "completed"
    },
    "tags": []
   },
   "source": [
    "(Please, take a look at the README.md file in this directory for instructions on how to run this notebook)\n",
    "\n",
    "This notebook computes predicted expression correlations between all genes in the MultiPLIER models.\n",
    "\n",
    "It also has a parameter set for papermill to run on a single chromosome to run in parallel (see under `Settings` below).\n",
    "\n",
    "This notebook is not directly run. See README.md."
   ]
  },
  {
   "cell_type": "markdown",
   "id": "c61d8427",
   "metadata": {
    "papermill": {
     "duration": 0.016749,
     "end_time": "2022-08-28T14:28:00.735436",
     "exception": false,
     "start_time": "2022-08-28T14:28:00.718687",
     "status": "completed"
    },
    "tags": []
   },
   "source": [
    "# Modules"
   ]
  },
  {
   "cell_type": "code",
   "execution_count": 1,
   "id": "bbc0234f",
   "metadata": {
    "execution": {
     "iopub.execute_input": "2022-08-28T14:28:00.766759Z",
     "iopub.status.busy": "2022-08-28T14:28:00.766367Z",
     "iopub.status.idle": "2022-08-28T14:28:00.902063Z",
     "shell.execute_reply": "2022-08-28T14:28:00.900889Z"
    },
    "papermill": {
     "duration": 0.155941,
     "end_time": "2022-08-28T14:28:00.906211",
     "exception": false,
     "start_time": "2022-08-28T14:28:00.750270",
     "status": "completed"
    },
    "tags": []
   },
   "outputs": [],
   "source": [
    "%load_ext autoreload\n",
    "%autoreload 2"
   ]
  },
  {
   "cell_type": "code",
   "execution_count": 2,
   "id": "1d5f5a59",
   "metadata": {
    "execution": {
     "iopub.execute_input": "2022-08-28T14:28:00.970051Z",
     "iopub.status.busy": "2022-08-28T14:28:00.969574Z",
     "iopub.status.idle": "2022-08-28T14:28:05.850391Z",
     "shell.execute_reply": "2022-08-28T14:28:05.849088Z"
    },
    "papermill": {
     "duration": 4.924411,
     "end_time": "2022-08-28T14:28:05.854848",
     "exception": false,
     "start_time": "2022-08-28T14:28:00.930437",
     "status": "completed"
    },
    "tags": []
   },
   "outputs": [],
   "source": [
    "from random import sample, seed\n",
    "import warnings\n",
    "from pathlib import Path\n",
    "import pickle\n",
    "import traceback\n",
    "\n",
    "import numpy as np\n",
    "from scipy.spatial.distance import squareform\n",
    "import pandas as pd\n",
    "from tqdm import tqdm\n",
    "import matplotlib.pyplot as plt\n",
    "import seaborn as sns\n",
    "\n",
    "import conf\n",
    "from entity import Gene"
   ]
  },
  {
   "cell_type": "markdown",
   "id": "1eac24b5",
   "metadata": {
    "papermill": {
     "duration": 0.020191,
     "end_time": "2022-08-28T14:28:05.940492",
     "exception": false,
     "start_time": "2022-08-28T14:28:05.920301",
     "status": "completed"
    },
    "tags": []
   },
   "source": [
    "# Settings"
   ]
  },
  {
   "cell_type": "code",
   "execution_count": 3,
   "id": "ca4560ba",
   "metadata": {
    "execution": {
     "iopub.execute_input": "2022-08-28T14:28:05.970624Z",
     "iopub.status.busy": "2022-08-28T14:28:05.970225Z",
     "iopub.status.idle": "2022-08-28T14:28:06.358448Z",
     "shell.execute_reply": "2022-08-28T14:28:06.357241Z"
    },
    "papermill": {
     "duration": 0.407428,
     "end_time": "2022-08-28T14:28:06.362400",
     "exception": false,
     "start_time": "2022-08-28T14:28:05.954972",
     "status": "completed"
    },
    "tags": [
     "parameters"
    ]
   },
   "outputs": [],
   "source": [
    "# a cohort name (it could be something like UK_BIOBANK, etc)\n",
    "COHORT_NAME = None\n",
    "\n",
    "# reference panel such as 1000G or GTEX_V8\n",
    "REFERENCE_PANEL = None\n",
    "\n",
    "# predictions models such as MASHR or ELASTIC_NET\n",
    "EQTL_MODEL = None\n",
    "\n",
    "# this is the default value used in S-MultiXcan to select the\n",
    "# top principal components of the expression correlation matrix\n",
    "SMULTIXCAN_CONDITION_NUMBER = 30\n",
    "\n",
    "# specifies a single chromosome value\n",
    "CHROMOSOME = None\n",
    "\n",
    "# If True, computes the correlation between closeby genes only;\n",
    "# otherwise, it computes correlations for all genes in a chromosome\n",
    "COMPUTE_CORRELATIONS_WITHIN_DISTANCE = False\n",
    "\n",
    "# if True, then it will continue if a gene pair correlation fails,\n",
    "# printing the warning/error for debugging. If False, any warning/error\n",
    "# will be thrown\n",
    "DEBUG_MODE = False"
   ]
  },
  {
   "cell_type": "code",
   "execution_count": 4,
   "id": "f6b98af2",
   "metadata": {
    "execution": {
     "iopub.execute_input": "2022-08-28T14:28:06.408327Z",
     "iopub.status.busy": "2022-08-28T14:28:06.407859Z",
     "iopub.status.idle": "2022-08-28T14:28:06.452708Z",
     "shell.execute_reply": "2022-08-28T14:28:06.451818Z"
    },
    "papermill": {
     "duration": 0.072543,
     "end_time": "2022-08-28T14:28:06.455581",
     "exception": false,
     "start_time": "2022-08-28T14:28:06.383038",
     "status": "completed"
    },
    "tags": [
     "injected-parameters"
    ]
   },
   "outputs": [],
   "source": [
    "# Parameters\n",
    "COHORT_NAME = \"1000g_eur\"\n",
    "REFERENCE_PANEL = \"GTEX_V8\"\n",
    "EQTL_MODEL = \"MASHR\"\n",
    "CHROMOSOME = 18\n"
   ]
  },
  {
   "cell_type": "code",
   "execution_count": 5,
   "id": "3190631f-27fc-480f-b18e-571d580425a5",
   "metadata": {
    "execution": {
     "iopub.execute_input": "2022-08-28T14:28:06.498532Z",
     "iopub.status.busy": "2022-08-28T14:28:06.498199Z",
     "iopub.status.idle": "2022-08-28T14:28:06.539915Z",
     "shell.execute_reply": "2022-08-28T14:28:06.539076Z"
    },
    "papermill": {
     "duration": 0.062798,
     "end_time": "2022-08-28T14:28:06.542145",
     "exception": false,
     "start_time": "2022-08-28T14:28:06.479347",
     "status": "completed"
    },
    "tags": []
   },
   "outputs": [
    {
     "data": {
      "text/plain": [
       "'Cohort name: 1000g_eur'"
      ]
     },
     "metadata": {},
     "output_type": "display_data"
    }
   ],
   "source": [
    "assert COHORT_NAME is not None and len(COHORT_NAME) > 0, \"A cohort name must be given\"\n",
    "\n",
    "COHORT_NAME = COHORT_NAME.lower()\n",
    "display(f\"Cohort name: {COHORT_NAME}\")"
   ]
  },
  {
   "cell_type": "code",
   "execution_count": 6,
   "id": "f53ba19b-0f93-4fa2-a047-63b375939d1a",
   "metadata": {
    "execution": {
     "iopub.execute_input": "2022-08-28T14:28:06.574163Z",
     "iopub.status.busy": "2022-08-28T14:28:06.573855Z",
     "iopub.status.idle": "2022-08-28T14:28:06.637846Z",
     "shell.execute_reply": "2022-08-28T14:28:06.636683Z"
    },
    "papermill": {
     "duration": 0.083065,
     "end_time": "2022-08-28T14:28:06.641415",
     "exception": false,
     "start_time": "2022-08-28T14:28:06.558350",
     "status": "completed"
    },
    "tags": []
   },
   "outputs": [
    {
     "data": {
      "text/plain": [
       "'Reference panel: GTEX_V8'"
      ]
     },
     "metadata": {},
     "output_type": "display_data"
    }
   ],
   "source": [
    "assert (\n",
    "    REFERENCE_PANEL is not None and len(REFERENCE_PANEL) > 0\n",
    "), \"A reference panel must be given\"\n",
    "\n",
    "display(f\"Reference panel: {REFERENCE_PANEL}\")"
   ]
  },
  {
   "cell_type": "code",
   "execution_count": 7,
   "id": "e024d130-c139-429a-9c6e-ccf149e297b0",
   "metadata": {
    "execution": {
     "iopub.execute_input": "2022-08-28T14:28:06.698627Z",
     "iopub.status.busy": "2022-08-28T14:28:06.698190Z",
     "iopub.status.idle": "2022-08-28T14:28:06.763807Z",
     "shell.execute_reply": "2022-08-28T14:28:06.762731Z"
    },
    "papermill": {
     "duration": 0.094761,
     "end_time": "2022-08-28T14:28:06.767070",
     "exception": false,
     "start_time": "2022-08-28T14:28:06.672309",
     "status": "completed"
    },
    "tags": []
   },
   "outputs": [
    {
     "data": {
      "text/plain": [
       "'eQTL model: MASHR) / mashr_'"
      ]
     },
     "metadata": {},
     "output_type": "display_data"
    }
   ],
   "source": [
    "assert (\n",
    "    EQTL_MODEL is not None and len(EQTL_MODEL) > 0\n",
    "), \"A prediction/eQTL model must be given\"\n",
    "\n",
    "EQTL_MODEL_FILES_PREFIX = conf.PHENOMEXCAN[\"PREDICTION_MODELS\"][f\"{EQTL_MODEL}_PREFIX\"]\n",
    "display(f\"eQTL model: {EQTL_MODEL}) / {EQTL_MODEL_FILES_PREFIX}\")"
   ]
  },
  {
   "cell_type": "code",
   "execution_count": 8,
   "id": "552a7f63-a18c-4d3e-bb6a-94f99b431291",
   "metadata": {
    "execution": {
     "iopub.execute_input": "2022-08-28T14:28:06.812642Z",
     "iopub.status.busy": "2022-08-28T14:28:06.812240Z",
     "iopub.status.idle": "2022-08-28T14:28:06.988771Z",
     "shell.execute_reply": "2022-08-28T14:28:06.987647Z"
    },
    "papermill": {
     "duration": 0.207839,
     "end_time": "2022-08-28T14:28:06.992332",
     "exception": false,
     "start_time": "2022-08-28T14:28:06.784493",
     "status": "completed"
    },
    "tags": []
   },
   "outputs": [
    {
     "data": {
      "text/plain": [
       "'S-MultiXcan condition number: 30'"
      ]
     },
     "metadata": {},
     "output_type": "display_data"
    }
   ],
   "source": [
    "assert (\n",
    "    SMULTIXCAN_CONDITION_NUMBER is not None and SMULTIXCAN_CONDITION_NUMBER > 0\n",
    "), \"The S-MultiXcan condition number (positive integer) must be given\"\n",
    "\n",
    "display(f\"S-MultiXcan condition number: {SMULTIXCAN_CONDITION_NUMBER}\")"
   ]
  },
  {
   "cell_type": "code",
   "execution_count": 9,
   "id": "f34a336f-548e-4afe-8955-90eaea4f42c6",
   "metadata": {
    "execution": {
     "iopub.execute_input": "2022-08-28T14:28:07.030165Z",
     "iopub.status.busy": "2022-08-28T14:28:07.029776Z",
     "iopub.status.idle": "2022-08-28T14:28:07.107233Z",
     "shell.execute_reply": "2022-08-28T14:28:07.106058Z"
    },
    "papermill": {
     "duration": 0.099732,
     "end_time": "2022-08-28T14:28:07.110805",
     "exception": false,
     "start_time": "2022-08-28T14:28:07.011073",
     "status": "completed"
    },
    "tags": []
   },
   "outputs": [
    {
     "data": {
      "text/plain": [
       "'Working on chromosome 18'"
      ]
     },
     "metadata": {},
     "output_type": "display_data"
    }
   ],
   "source": [
    "assert CHROMOSOME is not None and (\n",
    "    1 <= CHROMOSOME <= 22\n",
    "), \"You have to select one chromosome (format: number between 1 and 22)\"\n",
    "\n",
    "# CHROMOSOME = str(CHROMOSOME)\n",
    "display(f\"Working on chromosome {CHROMOSOME}\")"
   ]
  },
  {
   "cell_type": "code",
   "execution_count": 10,
   "id": "ab8e96e8-06b5-4363-9dcd-dc4d78cc27f7",
   "metadata": {
    "execution": {
     "iopub.execute_input": "2022-08-28T14:28:07.152194Z",
     "iopub.status.busy": "2022-08-28T14:28:07.151781Z",
     "iopub.status.idle": "2022-08-28T14:28:07.218746Z",
     "shell.execute_reply": "2022-08-28T14:28:07.217658Z"
    },
    "papermill": {
     "duration": 0.091206,
     "end_time": "2022-08-28T14:28:07.221987",
     "exception": false,
     "start_time": "2022-08-28T14:28:07.130781",
     "status": "completed"
    },
    "tags": []
   },
   "outputs": [
    {
     "data": {
      "text/plain": [
       "'Compute correlation within distance False'"
      ]
     },
     "metadata": {},
     "output_type": "display_data"
    }
   ],
   "source": [
    "display(f\"Compute correlation within distance {COMPUTE_CORRELATIONS_WITHIN_DISTANCE}\")"
   ]
  },
  {
   "cell_type": "code",
   "execution_count": 11,
   "id": "396392dc-0340-4540-9b02-e182b833f909",
   "metadata": {
    "execution": {
     "iopub.execute_input": "2022-08-28T14:28:07.265925Z",
     "iopub.status.busy": "2022-08-28T14:28:07.265556Z",
     "iopub.status.idle": "2022-08-28T14:28:07.323042Z",
     "shell.execute_reply": "2022-08-28T14:28:07.321782Z"
    },
    "papermill": {
     "duration": 0.081673,
     "end_time": "2022-08-28T14:28:07.326741",
     "exception": false,
     "start_time": "2022-08-28T14:28:07.245068",
     "status": "completed"
    },
    "tags": []
   },
   "outputs": [
    {
     "data": {
      "text/plain": [
       "'Using output dir base: /project/ritchie20/projects/phenoplier/base/results/gls/gene_corrs/cohorts/1000g_eur/gtex_v8/mashr'"
      ]
     },
     "metadata": {},
     "output_type": "display_data"
    }
   ],
   "source": [
    "OUTPUT_DIR_BASE = (\n",
    "    conf.RESULTS[\"GLS\"]\n",
    "    / \"gene_corrs\"\n",
    "    / \"cohorts\"\n",
    "    / COHORT_NAME\n",
    "    / REFERENCE_PANEL.lower()\n",
    "    / EQTL_MODEL.lower()\n",
    ")\n",
    "OUTPUT_DIR_BASE.mkdir(parents=True, exist_ok=True)\n",
    "\n",
    "display(f\"Using output dir base: {OUTPUT_DIR_BASE}\")"
   ]
  },
  {
   "cell_type": "markdown",
   "id": "d2ba085e",
   "metadata": {
    "papermill": {
     "duration": 0.023853,
     "end_time": "2022-08-28T14:28:07.376473",
     "exception": false,
     "start_time": "2022-08-28T14:28:07.352620",
     "status": "completed"
    },
    "tags": []
   },
   "source": [
    "# Load data"
   ]
  },
  {
   "cell_type": "markdown",
   "id": "7dcb8db7",
   "metadata": {
    "papermill": {
     "duration": 0.031942,
     "end_time": "2022-08-28T14:28:07.438633",
     "exception": false,
     "start_time": "2022-08-28T14:28:07.406691",
     "status": "completed"
    },
    "tags": []
   },
   "source": [
    "## GWAS variants"
   ]
  },
  {
   "cell_type": "code",
   "execution_count": 12,
   "id": "29434c4e-8cd3-4b9b-82e4-b5a251d9dd19",
   "metadata": {
    "execution": {
     "iopub.execute_input": "2022-08-28T14:28:07.529698Z",
     "iopub.status.busy": "2022-08-28T14:28:07.529262Z",
     "iopub.status.idle": "2022-08-28T14:28:10.455414Z",
     "shell.execute_reply": "2022-08-28T14:28:10.454679Z"
    },
    "papermill": {
     "duration": 2.968609,
     "end_time": "2022-08-28T14:28:10.457299",
     "exception": false,
     "start_time": "2022-08-28T14:28:07.488690",
     "status": "completed"
    },
    "tags": []
   },
   "outputs": [],
   "source": [
    "with open(OUTPUT_DIR_BASE / \"gwas_variant_ids.pkl\", \"rb\") as handle:\n",
    "    gwas_variants_ids_set = pickle.load(handle)"
   ]
  },
  {
   "cell_type": "code",
   "execution_count": 13,
   "id": "b9d9dec2-4a76-4bf9-bde2-e24c95acb8a0",
   "metadata": {
    "execution": {
     "iopub.execute_input": "2022-08-28T14:28:10.500634Z",
     "iopub.status.busy": "2022-08-28T14:28:10.500326Z",
     "iopub.status.idle": "2022-08-28T14:28:10.537010Z",
     "shell.execute_reply": "2022-08-28T14:28:10.536219Z"
    },
    "papermill": {
     "duration": 0.05266,
     "end_time": "2022-08-28T14:28:10.538858",
     "exception": false,
     "start_time": "2022-08-28T14:28:10.486198",
     "status": "completed"
    },
    "tags": []
   },
   "outputs": [
    {
     "data": {
      "text/plain": [
       "8325729"
      ]
     },
     "execution_count": 13,
     "metadata": {},
     "output_type": "execute_result"
    }
   ],
   "source": [
    "len(gwas_variants_ids_set)"
   ]
  },
  {
   "cell_type": "code",
   "execution_count": 14,
   "id": "4235b06a-6034-4ee4-a0a3-2ae35d122418",
   "metadata": {
    "execution": {
     "iopub.execute_input": "2022-08-28T14:28:10.567048Z",
     "iopub.status.busy": "2022-08-28T14:28:10.566791Z",
     "iopub.status.idle": "2022-08-28T14:28:11.135183Z",
     "shell.execute_reply": "2022-08-28T14:28:11.134488Z"
    },
    "papermill": {
     "duration": 0.58306,
     "end_time": "2022-08-28T14:28:11.136654",
     "exception": false,
     "start_time": "2022-08-28T14:28:10.553594",
     "status": "completed"
    },
    "tags": []
   },
   "outputs": [
    {
     "data": {
      "text/plain": [
       "['chr3_174761246_T_C_b38',\n",
       " 'chr7_66674300_C_G_b38',\n",
       " 'chr8_49194674_A_T_b38',\n",
       " 'chr20_55487229_A_G_b38',\n",
       " 'chr8_136110404_A_G_b38']"
      ]
     },
     "execution_count": 14,
     "metadata": {},
     "output_type": "execute_result"
    }
   ],
   "source": [
    "list(gwas_variants_ids_set)[:5]"
   ]
  },
  {
   "cell_type": "markdown",
   "id": "07866999-2305-41f9-a144-e69c9122c212",
   "metadata": {
    "papermill": {
     "duration": 0.009021,
     "end_time": "2022-08-28T14:28:11.158629",
     "exception": false,
     "start_time": "2022-08-28T14:28:11.149608",
     "status": "completed"
    },
    "tags": []
   },
   "source": [
    "## S-PrediXcan tissue models"
   ]
  },
  {
   "cell_type": "code",
   "execution_count": 15,
   "id": "780611d9-77c8-405f-90a4-f271f7b09397",
   "metadata": {
    "execution": {
     "iopub.execute_input": "2022-08-28T14:28:11.177187Z",
     "iopub.status.busy": "2022-08-28T14:28:11.176993Z",
     "iopub.status.idle": "2022-08-28T14:28:12.089252Z",
     "shell.execute_reply": "2022-08-28T14:28:12.088763Z"
    },
    "papermill": {
     "duration": 0.923753,
     "end_time": "2022-08-28T14:28:12.090992",
     "exception": false,
     "start_time": "2022-08-28T14:28:11.167239",
     "status": "completed"
    },
    "tags": []
   },
   "outputs": [],
   "source": [
    "spredixcan_genes_models = pd.read_pickle(OUTPUT_DIR_BASE / \"gene_tissues.pkl\")"
   ]
  },
  {
   "cell_type": "code",
   "execution_count": 16,
   "id": "726dd1f6-9557-4225-91fa-b3b879ea96e1",
   "metadata": {
    "execution": {
     "iopub.execute_input": "2022-08-28T14:28:12.160435Z",
     "iopub.status.busy": "2022-08-28T14:28:12.160000Z",
     "iopub.status.idle": "2022-08-28T14:28:13.397009Z",
     "shell.execute_reply": "2022-08-28T14:28:13.395828Z"
    },
    "papermill": {
     "duration": 1.271361,
     "end_time": "2022-08-28T14:28:13.400593",
     "exception": false,
     "start_time": "2022-08-28T14:28:12.129232",
     "status": "completed"
    },
    "tags": []
   },
   "outputs": [
    {
     "data": {
      "text/plain": [
       "(6442, 9)"
      ]
     },
     "execution_count": 16,
     "metadata": {},
     "output_type": "execute_result"
    }
   ],
   "source": [
    "spredixcan_genes_models.shape"
   ]
  },
  {
   "cell_type": "code",
   "execution_count": 17,
   "id": "944a1b48-222c-4eb0-b252-b9de2cbca215",
   "metadata": {
    "execution": {
     "iopub.execute_input": "2022-08-28T14:28:13.445260Z",
     "iopub.status.busy": "2022-08-28T14:28:13.444863Z",
     "iopub.status.idle": "2022-08-28T14:28:13.509918Z",
     "shell.execute_reply": "2022-08-28T14:28:13.509162Z"
    },
    "papermill": {
     "duration": 0.089317,
     "end_time": "2022-08-28T14:28:13.512144",
     "exception": false,
     "start_time": "2022-08-28T14:28:13.422827",
     "status": "completed"
    },
    "tags": []
   },
   "outputs": [
    {
     "data": {
      "text/html": [
       "<div>\n",
       "<style scoped>\n",
       "    .dataframe tbody tr th:only-of-type {\n",
       "        vertical-align: middle;\n",
       "    }\n",
       "\n",
       "    .dataframe tbody tr th {\n",
       "        vertical-align: top;\n",
       "    }\n",
       "\n",
       "    .dataframe thead th {\n",
       "        text-align: right;\n",
       "    }\n",
       "</style>\n",
       "<table border=\"1\" class=\"dataframe\">\n",
       "  <thead>\n",
       "    <tr style=\"text-align: right;\">\n",
       "      <th></th>\n",
       "      <th>gene_name</th>\n",
       "      <th>tissue</th>\n",
       "      <th>n_tissues</th>\n",
       "      <th>tissues_pc_variances</th>\n",
       "      <th>tissues_variances</th>\n",
       "      <th>n_snps_used_sum</th>\n",
       "      <th>n_snps_in_model_sum</th>\n",
       "      <th>unique_n_snps_in_model</th>\n",
       "      <th>unique_n_snps_used</th>\n",
       "    </tr>\n",
       "    <tr>\n",
       "      <th>gene_id</th>\n",
       "      <th></th>\n",
       "      <th></th>\n",
       "      <th></th>\n",
       "      <th></th>\n",
       "      <th></th>\n",
       "      <th></th>\n",
       "      <th></th>\n",
       "      <th></th>\n",
       "      <th></th>\n",
       "    </tr>\n",
       "  </thead>\n",
       "  <tbody>\n",
       "    <tr>\n",
       "      <th>ENSG00000000419</th>\n",
       "      <td>DPM1</td>\n",
       "      <td>(Brain_Hypothalamus, Brain_Substantia_nigra)</td>\n",
       "      <td>2</td>\n",
       "      <td>[1.0442398458252409, 0.9557601541747592]</td>\n",
       "      <td>{'Brain_Hypothalamus': 0.013162153504206677, '...</td>\n",
       "      <td>2</td>\n",
       "      <td>2</td>\n",
       "      <td>2</td>\n",
       "      <td>2</td>\n",
       "    </tr>\n",
       "    <tr>\n",
       "      <th>ENSG00000000938</th>\n",
       "      <td>FGR</td>\n",
       "      <td>(Muscle_Skeletal, Brain_Hippocampus, Thyroid, ...</td>\n",
       "      <td>36</td>\n",
       "      <td>[31.63266933637127, 2.0783677518511445, 1.2716...</td>\n",
       "      <td>{'Muscle_Skeletal': 0.011422007299369654, 'Liv...</td>\n",
       "      <td>40</td>\n",
       "      <td>40</td>\n",
       "      <td>5</td>\n",
       "      <td>5</td>\n",
       "    </tr>\n",
       "    <tr>\n",
       "      <th>ENSG00000000971</th>\n",
       "      <td>CFH</td>\n",
       "      <td>(Brain_Hippocampus, Brain_Substantia_nigra, Th...</td>\n",
       "      <td>34</td>\n",
       "      <td>[21.56076992568329, 7.310170987045466, 1.83778...</td>\n",
       "      <td>{'Testis': 0.004542368000299983, 'Heart_Atrial...</td>\n",
       "      <td>44</td>\n",
       "      <td>44</td>\n",
       "      <td>12</td>\n",
       "      <td>12</td>\n",
       "    </tr>\n",
       "    <tr>\n",
       "      <th>ENSG00000001084</th>\n",
       "      <td>GCLC</td>\n",
       "      <td>(Muscle_Skeletal, Brain_Hippocampus, Brain_Sub...</td>\n",
       "      <td>32</td>\n",
       "      <td>[21.291939080546527, 4.699418748743194, 2.2489...</td>\n",
       "      <td>{'Muscle_Skeletal': 0.0052333336977804, 'Testi...</td>\n",
       "      <td>46</td>\n",
       "      <td>46</td>\n",
       "      <td>23</td>\n",
       "      <td>23</td>\n",
       "    </tr>\n",
       "    <tr>\n",
       "      <th>ENSG00000001167</th>\n",
       "      <td>NFYA</td>\n",
       "      <td>(Minor_Salivary_Gland, Muscle_Skeletal, Vagina...</td>\n",
       "      <td>40</td>\n",
       "      <td>[37.335660295497696, 1.391401960453836]</td>\n",
       "      <td>{'Muscle_Skeletal': 0.01510698551052935, 'Test...</td>\n",
       "      <td>47</td>\n",
       "      <td>48</td>\n",
       "      <td>14</td>\n",
       "      <td>13</td>\n",
       "    </tr>\n",
       "  </tbody>\n",
       "</table>\n",
       "</div>"
      ],
      "text/plain": [
       "                gene_name                                             tissue  \\\n",
       "gene_id                                                                        \n",
       "ENSG00000000419      DPM1       (Brain_Hypothalamus, Brain_Substantia_nigra)   \n",
       "ENSG00000000938       FGR  (Muscle_Skeletal, Brain_Hippocampus, Thyroid, ...   \n",
       "ENSG00000000971       CFH  (Brain_Hippocampus, Brain_Substantia_nigra, Th...   \n",
       "ENSG00000001084      GCLC  (Muscle_Skeletal, Brain_Hippocampus, Brain_Sub...   \n",
       "ENSG00000001167      NFYA  (Minor_Salivary_Gland, Muscle_Skeletal, Vagina...   \n",
       "\n",
       "                 n_tissues                               tissues_pc_variances  \\\n",
       "gene_id                                                                         \n",
       "ENSG00000000419          2           [1.0442398458252409, 0.9557601541747592]   \n",
       "ENSG00000000938         36  [31.63266933637127, 2.0783677518511445, 1.2716...   \n",
       "ENSG00000000971         34  [21.56076992568329, 7.310170987045466, 1.83778...   \n",
       "ENSG00000001084         32  [21.291939080546527, 4.699418748743194, 2.2489...   \n",
       "ENSG00000001167         40            [37.335660295497696, 1.391401960453836]   \n",
       "\n",
       "                                                 tissues_variances  \\\n",
       "gene_id                                                              \n",
       "ENSG00000000419  {'Brain_Hypothalamus': 0.013162153504206677, '...   \n",
       "ENSG00000000938  {'Muscle_Skeletal': 0.011422007299369654, 'Liv...   \n",
       "ENSG00000000971  {'Testis': 0.004542368000299983, 'Heart_Atrial...   \n",
       "ENSG00000001084  {'Muscle_Skeletal': 0.0052333336977804, 'Testi...   \n",
       "ENSG00000001167  {'Muscle_Skeletal': 0.01510698551052935, 'Test...   \n",
       "\n",
       "                 n_snps_used_sum  n_snps_in_model_sum  unique_n_snps_in_model  \\\n",
       "gene_id                                                                         \n",
       "ENSG00000000419                2                    2                       2   \n",
       "ENSG00000000938               40                   40                       5   \n",
       "ENSG00000000971               44                   44                      12   \n",
       "ENSG00000001084               46                   46                      23   \n",
       "ENSG00000001167               47                   48                      14   \n",
       "\n",
       "                 unique_n_snps_used  \n",
       "gene_id                              \n",
       "ENSG00000000419                   2  \n",
       "ENSG00000000938                   5  \n",
       "ENSG00000000971                  12  \n",
       "ENSG00000001084                  23  \n",
       "ENSG00000001167                  13  "
      ]
     },
     "execution_count": 17,
     "metadata": {},
     "output_type": "execute_result"
    }
   ],
   "source": [
    "spredixcan_genes_models.head()"
   ]
  },
  {
   "cell_type": "code",
   "execution_count": 18,
   "id": "d1c11bb1-be0b-4f40-b360-633d6827109f",
   "metadata": {
    "execution": {
     "iopub.execute_input": "2022-08-28T14:28:13.550166Z",
     "iopub.status.busy": "2022-08-28T14:28:13.549872Z",
     "iopub.status.idle": "2022-08-28T14:28:13.580130Z",
     "shell.execute_reply": "2022-08-28T14:28:13.579390Z"
    },
    "papermill": {
     "duration": 0.052901,
     "end_time": "2022-08-28T14:28:13.582307",
     "exception": false,
     "start_time": "2022-08-28T14:28:13.529406",
     "status": "completed"
    },
    "tags": []
   },
   "outputs": [],
   "source": [
    "assert spredixcan_genes_models.index.is_unique"
   ]
  },
  {
   "cell_type": "markdown",
   "id": "a5b5092c-a13e-47c4-a92a-480fcc08f3ae",
   "metadata": {
    "papermill": {
     "duration": 0.01609,
     "end_time": "2022-08-28T14:28:13.615468",
     "exception": false,
     "start_time": "2022-08-28T14:28:13.599378",
     "status": "completed"
    },
    "tags": []
   },
   "source": [
    "## Gene info"
   ]
  },
  {
   "cell_type": "code",
   "execution_count": 19,
   "id": "7d6bb224-88e9-4358-ac10-43a41d92cdad",
   "metadata": {
    "execution": {
     "iopub.execute_input": "2022-08-28T14:28:13.654358Z",
     "iopub.status.busy": "2022-08-28T14:28:13.654073Z",
     "iopub.status.idle": "2022-08-28T14:28:13.735294Z",
     "shell.execute_reply": "2022-08-28T14:28:13.734134Z"
    },
    "papermill": {
     "duration": 0.105035,
     "end_time": "2022-08-28T14:28:13.739204",
     "exception": false,
     "start_time": "2022-08-28T14:28:13.634169",
     "status": "completed"
    },
    "tags": []
   },
   "outputs": [],
   "source": [
    "genes_info = pd.read_pickle(OUTPUT_DIR_BASE / \"genes_info.pkl\")"
   ]
  },
  {
   "cell_type": "code",
   "execution_count": 20,
   "id": "9e32abfa-546d-483e-8c18-d526e9e05903",
   "metadata": {
    "execution": {
     "iopub.execute_input": "2022-08-28T14:28:13.788611Z",
     "iopub.status.busy": "2022-08-28T14:28:13.788235Z",
     "iopub.status.idle": "2022-08-28T14:28:13.831214Z",
     "shell.execute_reply": "2022-08-28T14:28:13.830349Z"
    },
    "papermill": {
     "duration": 0.069706,
     "end_time": "2022-08-28T14:28:13.833665",
     "exception": false,
     "start_time": "2022-08-28T14:28:13.763959",
     "status": "completed"
    },
    "tags": []
   },
   "outputs": [
    {
     "data": {
      "text/plain": [
       "(6442, 7)"
      ]
     },
     "execution_count": 20,
     "metadata": {},
     "output_type": "execute_result"
    }
   ],
   "source": [
    "genes_info.shape"
   ]
  },
  {
   "cell_type": "code",
   "execution_count": 21,
   "id": "d16c3e92-85ec-468a-9a56-e25a9774a1cb",
   "metadata": {
    "execution": {
     "iopub.execute_input": "2022-08-28T14:28:13.878090Z",
     "iopub.status.busy": "2022-08-28T14:28:13.877745Z",
     "iopub.status.idle": "2022-08-28T14:28:13.918286Z",
     "shell.execute_reply": "2022-08-28T14:28:13.917612Z"
    },
    "papermill": {
     "duration": 0.06537,
     "end_time": "2022-08-28T14:28:13.920356",
     "exception": false,
     "start_time": "2022-08-28T14:28:13.854986",
     "status": "completed"
    },
    "tags": []
   },
   "outputs": [
    {
     "data": {
      "text/html": [
       "<div>\n",
       "<style scoped>\n",
       "    .dataframe tbody tr th:only-of-type {\n",
       "        vertical-align: middle;\n",
       "    }\n",
       "\n",
       "    .dataframe tbody tr th {\n",
       "        vertical-align: top;\n",
       "    }\n",
       "\n",
       "    .dataframe thead th {\n",
       "        text-align: right;\n",
       "    }\n",
       "</style>\n",
       "<table border=\"1\" class=\"dataframe\">\n",
       "  <thead>\n",
       "    <tr style=\"text-align: right;\">\n",
       "      <th></th>\n",
       "      <th>name</th>\n",
       "      <th>id</th>\n",
       "      <th>chr</th>\n",
       "      <th>band</th>\n",
       "      <th>start_position</th>\n",
       "      <th>end_position</th>\n",
       "      <th>gene_length</th>\n",
       "    </tr>\n",
       "  </thead>\n",
       "  <tbody>\n",
       "    <tr>\n",
       "      <th>0</th>\n",
       "      <td>SNAPC3</td>\n",
       "      <td>ENSG00000164975</td>\n",
       "      <td>9</td>\n",
       "      <td>9p22.3</td>\n",
       "      <td>15422704</td>\n",
       "      <td>15465953</td>\n",
       "      <td>43249</td>\n",
       "    </tr>\n",
       "    <tr>\n",
       "      <th>1</th>\n",
       "      <td>SEC13</td>\n",
       "      <td>ENSG00000157020</td>\n",
       "      <td>3</td>\n",
       "      <td>3p25.3</td>\n",
       "      <td>10293131</td>\n",
       "      <td>10321112</td>\n",
       "      <td>27981</td>\n",
       "    </tr>\n",
       "    <tr>\n",
       "      <th>2</th>\n",
       "      <td>PTH2R</td>\n",
       "      <td>ENSG00000144407</td>\n",
       "      <td>2</td>\n",
       "      <td>2q34</td>\n",
       "      <td>208359714</td>\n",
       "      <td>208854503</td>\n",
       "      <td>494789</td>\n",
       "    </tr>\n",
       "    <tr>\n",
       "      <th>3</th>\n",
       "      <td>MDC1</td>\n",
       "      <td>ENSG00000137337</td>\n",
       "      <td>6</td>\n",
       "      <td>6p21.33</td>\n",
       "      <td>30699807</td>\n",
       "      <td>30717447</td>\n",
       "      <td>17640</td>\n",
       "    </tr>\n",
       "    <tr>\n",
       "      <th>4</th>\n",
       "      <td>TNFRSF6B</td>\n",
       "      <td>ENSG00000243509</td>\n",
       "      <td>20</td>\n",
       "      <td>20q13.33</td>\n",
       "      <td>63696652</td>\n",
       "      <td>63698684</td>\n",
       "      <td>2032</td>\n",
       "    </tr>\n",
       "  </tbody>\n",
       "</table>\n",
       "</div>"
      ],
      "text/plain": [
       "       name               id  chr      band  start_position  end_position  \\\n",
       "0    SNAPC3  ENSG00000164975    9    9p22.3        15422704      15465953   \n",
       "1     SEC13  ENSG00000157020    3    3p25.3        10293131      10321112   \n",
       "2     PTH2R  ENSG00000144407    2      2q34       208359714     208854503   \n",
       "3      MDC1  ENSG00000137337    6   6p21.33        30699807      30717447   \n",
       "4  TNFRSF6B  ENSG00000243509   20  20q13.33        63696652      63698684   \n",
       "\n",
       "   gene_length  \n",
       "0        43249  \n",
       "1        27981  \n",
       "2       494789  \n",
       "3        17640  \n",
       "4         2032  "
      ]
     },
     "execution_count": 21,
     "metadata": {},
     "output_type": "execute_result"
    }
   ],
   "source": [
    "genes_info.head()"
   ]
  },
  {
   "cell_type": "markdown",
   "id": "d3843e06",
   "metadata": {
    "papermill": {
     "duration": 0.019344,
     "end_time": "2022-08-28T14:28:13.960239",
     "exception": false,
     "start_time": "2022-08-28T14:28:13.940895",
     "status": "completed"
    },
    "tags": []
   },
   "source": [
    "# Compute correlations"
   ]
  },
  {
   "cell_type": "code",
   "execution_count": 22,
   "id": "cb859c15-d1f3-4006-a74c-2b83c0db9611",
   "metadata": {
    "execution": {
     "iopub.execute_input": "2022-08-28T14:28:14.004745Z",
     "iopub.status.busy": "2022-08-28T14:28:14.004460Z",
     "iopub.status.idle": "2022-08-28T14:28:14.035496Z",
     "shell.execute_reply": "2022-08-28T14:28:14.034778Z"
    },
    "papermill": {
     "duration": 0.055446,
     "end_time": "2022-08-28T14:28:14.037390",
     "exception": false,
     "start_time": "2022-08-28T14:28:13.981944",
     "status": "completed"
    },
    "tags": []
   },
   "outputs": [
    {
     "data": {
      "text/plain": [
       "PosixPath('/project/ritchie20/projects/phenoplier/base/results/gls/gene_corrs/cohorts/1000g_eur/gtex_v8/mashr/by_chr/gene_corrs-chr18.pkl')"
      ]
     },
     "metadata": {},
     "output_type": "display_data"
    }
   ],
   "source": [
    "output_dir = OUTPUT_DIR_BASE / \"by_chr\"\n",
    "output_dir.mkdir(exist_ok=True, parents=True)\n",
    "output_file = output_dir / f\"gene_corrs-chr{CHROMOSOME}.pkl\"\n",
    "display(output_file)"
   ]
  },
  {
   "cell_type": "code",
   "execution_count": 23,
   "id": "aa674fe4-6794-4eed-98fa-32b39d1d4ace",
   "metadata": {
    "execution": {
     "iopub.execute_input": "2022-08-28T14:28:14.083300Z",
     "iopub.status.busy": "2022-08-28T14:28:14.083042Z",
     "iopub.status.idle": "2022-08-28T14:28:14.108519Z",
     "shell.execute_reply": "2022-08-28T14:28:14.107814Z"
    },
    "papermill": {
     "duration": 0.048215,
     "end_time": "2022-08-28T14:28:14.110503",
     "exception": false,
     "start_time": "2022-08-28T14:28:14.062288",
     "status": "completed"
    },
    "tags": []
   },
   "outputs": [],
   "source": [
    "warnings.filterwarnings(\"error\")"
   ]
  },
  {
   "cell_type": "code",
   "execution_count": 24,
   "id": "44d5450b-3baf-43f1-9e2e-4b06f1a785f8",
   "metadata": {
    "execution": {
     "iopub.execute_input": "2022-08-28T14:28:14.152009Z",
     "iopub.status.busy": "2022-08-28T14:28:14.151743Z",
     "iopub.status.idle": "2022-08-28T14:28:14.178779Z",
     "shell.execute_reply": "2022-08-28T14:28:14.178111Z"
    },
    "papermill": {
     "duration": 0.050758,
     "end_time": "2022-08-28T14:28:14.180852",
     "exception": false,
     "start_time": "2022-08-28T14:28:14.130094",
     "status": "completed"
    },
    "tags": []
   },
   "outputs": [],
   "source": [
    "# standard checks\n",
    "all_chrs = genes_info[\"chr\"].dropna().unique()\n",
    "assert all_chrs.shape[0] == 22\n",
    "\n",
    "# select chromosome given by the user\n",
    "assert CHROMOSOME in all_chrs"
   ]
  },
  {
   "cell_type": "code",
   "execution_count": 25,
   "id": "2d7c043c-92a7-4d35-991b-fa69ac1e0268",
   "metadata": {
    "execution": {
     "iopub.execute_input": "2022-08-28T14:28:14.218453Z",
     "iopub.status.busy": "2022-08-28T14:28:14.218198Z",
     "iopub.status.idle": "2022-08-28T14:28:14.289682Z",
     "shell.execute_reply": "2022-08-28T14:28:14.288530Z"
    },
    "papermill": {
     "duration": 0.095404,
     "end_time": "2022-08-28T14:28:14.292960",
     "exception": false,
     "start_time": "2022-08-28T14:28:14.197556",
     "status": "completed"
    },
    "tags": []
   },
   "outputs": [
    {
     "name": "stdout",
     "output_type": "stream",
     "text": [
      "Number of genes in chromosome: 96\n"
     ]
    }
   ],
   "source": [
    "# run only on the chromosome specified\n",
    "all_chrs = [CHROMOSOME]\n",
    "genes_chr = genes_info[genes_info[\"chr\"] == CHROMOSOME]\n",
    "\n",
    "# For testing purposes\n",
    "# genes_chr = genes_chr.sample(n=20)\n",
    "\n",
    "print(f\"Number of genes in chromosome: {genes_chr.shape[0]}\", flush=True)"
   ]
  },
  {
   "cell_type": "code",
   "execution_count": 26,
   "id": "916015d8-2979-46d3-a9b9-1cf5a0932c6a",
   "metadata": {
    "execution": {
     "iopub.execute_input": "2022-08-28T14:28:14.342459Z",
     "iopub.status.busy": "2022-08-28T14:28:14.342108Z",
     "iopub.status.idle": "2022-08-28T14:28:14.375152Z",
     "shell.execute_reply": "2022-08-28T14:28:14.374323Z"
    },
    "papermill": {
     "duration": 0.060246,
     "end_time": "2022-08-28T14:28:14.377685",
     "exception": false,
     "start_time": "2022-08-28T14:28:14.317439",
     "status": "completed"
    },
    "tags": []
   },
   "outputs": [],
   "source": [
    "# sort genes by starting position to make visualizations better later\n",
    "genes_chr = genes_chr.sort_values(\"start_position\")"
   ]
  },
  {
   "cell_type": "code",
   "execution_count": 27,
   "id": "a38aa74a-8ad3-47f6-8ef9-56be0e011774",
   "metadata": {
    "execution": {
     "iopub.execute_input": "2022-08-28T14:28:14.420143Z",
     "iopub.status.busy": "2022-08-28T14:28:14.419818Z",
     "iopub.status.idle": "2022-08-28T14:28:14.450442Z",
     "shell.execute_reply": "2022-08-28T14:28:14.449643Z"
    },
    "papermill": {
     "duration": 0.051337,
     "end_time": "2022-08-28T14:28:14.452719",
     "exception": false,
     "start_time": "2022-08-28T14:28:14.401382",
     "status": "completed"
    },
    "tags": []
   },
   "outputs": [],
   "source": [
    "gene_chr_objs = [Gene(ensembl_id=gene_id) for gene_id in genes_chr[\"id\"]]"
   ]
  },
  {
   "cell_type": "code",
   "execution_count": 28,
   "id": "570f974f-13c3-42b6-ad3a-ce99ca885c1a",
   "metadata": {
    "execution": {
     "iopub.execute_input": "2022-08-28T14:28:14.497926Z",
     "iopub.status.busy": "2022-08-28T14:28:14.497644Z",
     "iopub.status.idle": "2022-08-28T14:28:14.527991Z",
     "shell.execute_reply": "2022-08-28T14:28:14.527143Z"
    },
    "papermill": {
     "duration": 0.054996,
     "end_time": "2022-08-28T14:28:14.530195",
     "exception": false,
     "start_time": "2022-08-28T14:28:14.475199",
     "status": "completed"
    },
    "tags": []
   },
   "outputs": [
    {
     "name": "stdout",
     "output_type": "stream",
     "text": [
      "Number of gene combinations: 4560\n"
     ]
    }
   ],
   "source": [
    "n = len(gene_chr_objs)\n",
    "n_comb = int(n * (n - 1) / 2.0)\n",
    "print(f\"Number of gene combinations: {n_comb}\", flush=True)"
   ]
  },
  {
   "cell_type": "code",
   "execution_count": 29,
   "id": "cdbb90a1",
   "metadata": {
    "execution": {
     "iopub.execute_input": "2022-08-28T14:28:14.564918Z",
     "iopub.status.busy": "2022-08-28T14:28:14.564650Z",
     "iopub.status.idle": "2022-08-28T14:33:40.207663Z",
     "shell.execute_reply": "2022-08-28T14:33:40.206200Z"
    },
    "papermill": {
     "duration": 325.665072,
     "end_time": "2022-08-28T14:33:40.211345",
     "exception": false,
     "start_time": "2022-08-28T14:28:14.546273",
     "status": "completed"
    },
    "tags": []
   },
   "outputs": [
    {
     "name": "stderr",
     "output_type": "stream",
     "text": [
      "ENSG00000178184 / ENSG00000178184: : 4656it [05:25, 14.30it/s]\n"
     ]
    },
    {
     "data": {
      "text/plain": [
       "PosixPath('/project/ritchie20/projects/phenoplier/base/results/gls/gene_corrs/cohorts/1000g_eur/gtex_v8/mashr/by_chr/gene_corrs-chr18.pkl')"
      ]
     },
     "metadata": {},
     "output_type": "display_data"
    }
   ],
   "source": [
    "gene_corrs = []\n",
    "gene_corrs_data = np.full(\n",
    "    (n, n),\n",
    "    np.nan,\n",
    "    dtype=np.float64,\n",
    ")\n",
    "\n",
    "i = 0\n",
    "with tqdm(ncols=100, total=n_comb) as pbar:\n",
    "    for gene1_idx in range(0, len(gene_chr_objs)):\n",
    "        gene1_obj = gene_chr_objs[gene1_idx]\n",
    "        gene1_tissues = spredixcan_genes_models.loc[gene1_obj.ensembl_id, \"tissue\"]\n",
    "\n",
    "        for gene2_idx in range(gene1_idx, len(gene_chr_objs)):\n",
    "            gene2_obj = gene_chr_objs[gene2_idx]\n",
    "            gene2_tissues = spredixcan_genes_models.loc[gene2_obj.ensembl_id, \"tissue\"]\n",
    "\n",
    "            pbar.set_description(f\"{gene1_obj.ensembl_id} / {gene2_obj.ensembl_id}\")\n",
    "\n",
    "            try:\n",
    "                r = gene1_obj.get_ssm_correlation(\n",
    "                    other_gene=gene2_obj,\n",
    "                    tissues=gene1_tissues,\n",
    "                    other_tissues=gene2_tissues,\n",
    "                    snps_subset=gwas_variants_ids_set,\n",
    "                    condition_number=SMULTIXCAN_CONDITION_NUMBER,\n",
    "                    reference_panel=REFERENCE_PANEL,\n",
    "                    model_type=EQTL_MODEL,\n",
    "                    use_within_distance=COMPUTE_CORRELATIONS_WITHIN_DISTANCE,\n",
    "                )\n",
    "\n",
    "                if r is None:\n",
    "                    # if r is None, it's very likely because:\n",
    "                    #  * one of the genes has no prediction models\n",
    "                    #  * all the SNPs predictors for the gene are not present in the reference\n",
    "                    #    panel\n",
    "\n",
    "                    r = 0.0\n",
    "\n",
    "                gene_corrs.append(r)\n",
    "\n",
    "                gene_corrs_data[gene1_idx, gene2_idx] = r\n",
    "                gene_corrs_data[gene2_idx, gene1_idx] = r\n",
    "            except Warning as e:\n",
    "                if not DEBUG_MODE:\n",
    "                    raise e\n",
    "\n",
    "                print(\n",
    "                    f\"RuntimeWarning for genes {gene1_obj.ensembl_id} and {gene2_obj.ensembl_id}\",\n",
    "                    flush=True,\n",
    "                )\n",
    "                print(traceback.format_exc(), flush=True)\n",
    "\n",
    "                gene_corrs.append(np.nan)\n",
    "            except Exception as e:\n",
    "                if not DEBUG_MODE:\n",
    "                    raise e\n",
    "\n",
    "                print(\n",
    "                    f\"Exception for genes {gene1_obj.ensembl_id} and {gene2_obj.ensembl_id}\",\n",
    "                    flush=True,\n",
    "                )\n",
    "                print(traceback.format_exc(), flush=True)\n",
    "\n",
    "                gene_corrs.append(np.nan)\n",
    "\n",
    "            pbar.update(1)\n",
    "\n",
    "# create a pandas series\n",
    "gene_corrs_flat = pd.Series(gene_corrs)\n",
    "\n",
    "# save\n",
    "# FIXME: consider saving only the condenced matrix here. See here for\n",
    "# more details: https://github.com/greenelab/phenoplier/pull/38#discussion_r634600813\n",
    "# gene_corrs_data = squareform(np.array(gene_corrs, dtype=np.float64))\n",
    "# np.fill_diagonal(gene_corrs_data, 1.0)\n",
    "\n",
    "gene_chr_ids = [g.ensembl_id for g in gene_chr_objs]\n",
    "gene_corrs_df = pd.DataFrame(\n",
    "    data=gene_corrs_data,\n",
    "    index=gene_chr_ids,\n",
    "    columns=gene_chr_ids,\n",
    ")\n",
    "\n",
    "output_dir.mkdir(exist_ok=True, parents=True)\n",
    "display(output_file)\n",
    "\n",
    "gene_corrs_df.to_pickle(output_file)"
   ]
  },
  {
   "cell_type": "markdown",
   "id": "faa67b51-5373-470f-aa72-2ded53fa6dfe",
   "metadata": {
    "papermill": {
     "duration": 0.245535,
     "end_time": "2022-08-28T14:33:40.756809",
     "exception": false,
     "start_time": "2022-08-28T14:33:40.511274",
     "status": "completed"
    },
    "tags": []
   },
   "source": [
    "# Testing"
   ]
  },
  {
   "cell_type": "code",
   "execution_count": 30,
   "id": "14f7d046-4b55-4896-a56b-990127bcc388",
   "metadata": {
    "execution": {
     "iopub.execute_input": "2022-08-28T14:33:41.186278Z",
     "iopub.status.busy": "2022-08-28T14:33:41.186027Z",
     "iopub.status.idle": "2022-08-28T14:33:41.503801Z",
     "shell.execute_reply": "2022-08-28T14:33:41.502724Z"
    },
    "papermill": {
     "duration": 0.536195,
     "end_time": "2022-08-28T14:33:41.507080",
     "exception": false,
     "start_time": "2022-08-28T14:33:40.970885",
     "status": "completed"
    },
    "tags": []
   },
   "outputs": [
    {
     "data": {
      "text/plain": [
       "(96, 96)"
      ]
     },
     "execution_count": 30,
     "metadata": {},
     "output_type": "execute_result"
    }
   ],
   "source": [
    "gene_corrs_df.shape"
   ]
  },
  {
   "cell_type": "code",
   "execution_count": 31,
   "id": "c7d15414-3297-4537-a7c6-7588c0baeb75",
   "metadata": {
    "execution": {
     "iopub.execute_input": "2022-08-28T14:33:42.056127Z",
     "iopub.status.busy": "2022-08-28T14:33:42.055880Z",
     "iopub.status.idle": "2022-08-28T14:33:42.088632Z",
     "shell.execute_reply": "2022-08-28T14:33:42.088087Z"
    },
    "papermill": {
     "duration": 0.253579,
     "end_time": "2022-08-28T14:33:42.089937",
     "exception": false,
     "start_time": "2022-08-28T14:33:41.836358",
     "status": "completed"
    },
    "tags": []
   },
   "outputs": [
    {
     "data": {
      "text/html": [
       "<div>\n",
       "<style scoped>\n",
       "    .dataframe tbody tr th:only-of-type {\n",
       "        vertical-align: middle;\n",
       "    }\n",
       "\n",
       "    .dataframe tbody tr th {\n",
       "        vertical-align: top;\n",
       "    }\n",
       "\n",
       "    .dataframe thead th {\n",
       "        text-align: right;\n",
       "    }\n",
       "</style>\n",
       "<table border=\"1\" class=\"dataframe\">\n",
       "  <thead>\n",
       "    <tr style=\"text-align: right;\">\n",
       "      <th></th>\n",
       "      <th>ENSG00000079134</th>\n",
       "      <th>ENSG00000158270</th>\n",
       "      <th>ENSG00000176890</th>\n",
       "      <th>ENSG00000176105</th>\n",
       "      <th>ENSG00000080986</th>\n",
       "      <th>ENSG00000132205</th>\n",
       "      <th>ENSG00000101577</th>\n",
       "      <th>ENSG00000101608</th>\n",
       "      <th>ENSG00000118680</th>\n",
       "      <th>ENSG00000177426</th>\n",
       "      <th>...</th>\n",
       "      <th>ENSG00000166347</th>\n",
       "      <th>ENSG00000133313</th>\n",
       "      <th>ENSG00000166573</th>\n",
       "      <th>ENSG00000166377</th>\n",
       "      <th>ENSG00000131196</th>\n",
       "      <th>ENSG00000060069</th>\n",
       "      <th>ENSG00000178342</th>\n",
       "      <th>ENSG00000122490</th>\n",
       "      <th>ENSG00000141759</th>\n",
       "      <th>ENSG00000178184</th>\n",
       "    </tr>\n",
       "  </thead>\n",
       "  <tbody>\n",
       "    <tr>\n",
       "      <th>ENSG00000079134</th>\n",
       "      <td>1.000000</td>\n",
       "      <td>0.029305</td>\n",
       "      <td>0.013882</td>\n",
       "      <td>0.005950</td>\n",
       "      <td>0.005183</td>\n",
       "      <td>0.012554</td>\n",
       "      <td>0.009131</td>\n",
       "      <td>0.009353</td>\n",
       "      <td>0.007307</td>\n",
       "      <td>0.010012</td>\n",
       "      <td>...</td>\n",
       "      <td>0.008454</td>\n",
       "      <td>0.007036</td>\n",
       "      <td>0.007683</td>\n",
       "      <td>0.010245</td>\n",
       "      <td>0.011029</td>\n",
       "      <td>0.005111</td>\n",
       "      <td>0.008828</td>\n",
       "      <td>0.014122</td>\n",
       "      <td>0.007873</td>\n",
       "      <td>0.006508</td>\n",
       "    </tr>\n",
       "    <tr>\n",
       "      <th>ENSG00000158270</th>\n",
       "      <td>0.029305</td>\n",
       "      <td>1.000000</td>\n",
       "      <td>0.019775</td>\n",
       "      <td>0.012679</td>\n",
       "      <td>0.009545</td>\n",
       "      <td>0.014871</td>\n",
       "      <td>0.015987</td>\n",
       "      <td>0.010495</td>\n",
       "      <td>0.009077</td>\n",
       "      <td>0.013425</td>\n",
       "      <td>...</td>\n",
       "      <td>0.010546</td>\n",
       "      <td>0.007464</td>\n",
       "      <td>0.009267</td>\n",
       "      <td>0.012360</td>\n",
       "      <td>0.009260</td>\n",
       "      <td>0.008293</td>\n",
       "      <td>0.011034</td>\n",
       "      <td>0.013615</td>\n",
       "      <td>0.008953</td>\n",
       "      <td>0.014019</td>\n",
       "    </tr>\n",
       "    <tr>\n",
       "      <th>ENSG00000176890</th>\n",
       "      <td>0.013882</td>\n",
       "      <td>0.019775</td>\n",
       "      <td>1.000000</td>\n",
       "      <td>0.146938</td>\n",
       "      <td>0.013808</td>\n",
       "      <td>0.013879</td>\n",
       "      <td>0.011692</td>\n",
       "      <td>0.009375</td>\n",
       "      <td>0.009894</td>\n",
       "      <td>0.009753</td>\n",
       "      <td>...</td>\n",
       "      <td>0.008767</td>\n",
       "      <td>0.008129</td>\n",
       "      <td>0.009717</td>\n",
       "      <td>0.006060</td>\n",
       "      <td>0.010982</td>\n",
       "      <td>0.009868</td>\n",
       "      <td>0.010699</td>\n",
       "      <td>0.013568</td>\n",
       "      <td>0.013722</td>\n",
       "      <td>0.010427</td>\n",
       "    </tr>\n",
       "    <tr>\n",
       "      <th>ENSG00000176105</th>\n",
       "      <td>0.005950</td>\n",
       "      <td>0.012679</td>\n",
       "      <td>0.146938</td>\n",
       "      <td>1.000000</td>\n",
       "      <td>0.006168</td>\n",
       "      <td>0.004893</td>\n",
       "      <td>0.007443</td>\n",
       "      <td>0.005115</td>\n",
       "      <td>0.001838</td>\n",
       "      <td>0.009098</td>\n",
       "      <td>...</td>\n",
       "      <td>0.003879</td>\n",
       "      <td>0.006295</td>\n",
       "      <td>0.005225</td>\n",
       "      <td>0.006308</td>\n",
       "      <td>0.006937</td>\n",
       "      <td>0.009834</td>\n",
       "      <td>0.011135</td>\n",
       "      <td>0.004686</td>\n",
       "      <td>0.004601</td>\n",
       "      <td>0.006430</td>\n",
       "    </tr>\n",
       "    <tr>\n",
       "      <th>ENSG00000080986</th>\n",
       "      <td>0.005183</td>\n",
       "      <td>0.009545</td>\n",
       "      <td>0.013808</td>\n",
       "      <td>0.006168</td>\n",
       "      <td>1.000000</td>\n",
       "      <td>0.013972</td>\n",
       "      <td>0.015091</td>\n",
       "      <td>0.005943</td>\n",
       "      <td>0.007946</td>\n",
       "      <td>0.004584</td>\n",
       "      <td>...</td>\n",
       "      <td>0.005524</td>\n",
       "      <td>0.005384</td>\n",
       "      <td>0.010306</td>\n",
       "      <td>0.004825</td>\n",
       "      <td>0.007560</td>\n",
       "      <td>0.006147</td>\n",
       "      <td>0.009038</td>\n",
       "      <td>0.007745</td>\n",
       "      <td>0.005143</td>\n",
       "      <td>0.004009</td>\n",
       "    </tr>\n",
       "  </tbody>\n",
       "</table>\n",
       "<p>5 rows × 96 columns</p>\n",
       "</div>"
      ],
      "text/plain": [
       "                 ENSG00000079134  ENSG00000158270  ENSG00000176890  \\\n",
       "ENSG00000079134         1.000000         0.029305         0.013882   \n",
       "ENSG00000158270         0.029305         1.000000         0.019775   \n",
       "ENSG00000176890         0.013882         0.019775         1.000000   \n",
       "ENSG00000176105         0.005950         0.012679         0.146938   \n",
       "ENSG00000080986         0.005183         0.009545         0.013808   \n",
       "\n",
       "                 ENSG00000176105  ENSG00000080986  ENSG00000132205  \\\n",
       "ENSG00000079134         0.005950         0.005183         0.012554   \n",
       "ENSG00000158270         0.012679         0.009545         0.014871   \n",
       "ENSG00000176890         0.146938         0.013808         0.013879   \n",
       "ENSG00000176105         1.000000         0.006168         0.004893   \n",
       "ENSG00000080986         0.006168         1.000000         0.013972   \n",
       "\n",
       "                 ENSG00000101577  ENSG00000101608  ENSG00000118680  \\\n",
       "ENSG00000079134         0.009131         0.009353         0.007307   \n",
       "ENSG00000158270         0.015987         0.010495         0.009077   \n",
       "ENSG00000176890         0.011692         0.009375         0.009894   \n",
       "ENSG00000176105         0.007443         0.005115         0.001838   \n",
       "ENSG00000080986         0.015091         0.005943         0.007946   \n",
       "\n",
       "                 ENSG00000177426  ...  ENSG00000166347  ENSG00000133313  \\\n",
       "ENSG00000079134         0.010012  ...         0.008454         0.007036   \n",
       "ENSG00000158270         0.013425  ...         0.010546         0.007464   \n",
       "ENSG00000176890         0.009753  ...         0.008767         0.008129   \n",
       "ENSG00000176105         0.009098  ...         0.003879         0.006295   \n",
       "ENSG00000080986         0.004584  ...         0.005524         0.005384   \n",
       "\n",
       "                 ENSG00000166573  ENSG00000166377  ENSG00000131196  \\\n",
       "ENSG00000079134         0.007683         0.010245         0.011029   \n",
       "ENSG00000158270         0.009267         0.012360         0.009260   \n",
       "ENSG00000176890         0.009717         0.006060         0.010982   \n",
       "ENSG00000176105         0.005225         0.006308         0.006937   \n",
       "ENSG00000080986         0.010306         0.004825         0.007560   \n",
       "\n",
       "                 ENSG00000060069  ENSG00000178342  ENSG00000122490  \\\n",
       "ENSG00000079134         0.005111         0.008828         0.014122   \n",
       "ENSG00000158270         0.008293         0.011034         0.013615   \n",
       "ENSG00000176890         0.009868         0.010699         0.013568   \n",
       "ENSG00000176105         0.009834         0.011135         0.004686   \n",
       "ENSG00000080986         0.006147         0.009038         0.007745   \n",
       "\n",
       "                 ENSG00000141759  ENSG00000178184  \n",
       "ENSG00000079134         0.007873         0.006508  \n",
       "ENSG00000158270         0.008953         0.014019  \n",
       "ENSG00000176890         0.013722         0.010427  \n",
       "ENSG00000176105         0.004601         0.006430  \n",
       "ENSG00000080986         0.005143         0.004009  \n",
       "\n",
       "[5 rows x 96 columns]"
      ]
     },
     "execution_count": 31,
     "metadata": {},
     "output_type": "execute_result"
    }
   ],
   "source": [
    "gene_corrs_df.head()"
   ]
  },
  {
   "cell_type": "markdown",
   "id": "dad6603f-01c6-41fb-a6f6-241051207dd8",
   "metadata": {
    "papermill": {
     "duration": 0.210681,
     "end_time": "2022-08-28T14:33:42.517819",
     "exception": false,
     "start_time": "2022-08-28T14:33:42.307138",
     "status": "completed"
    },
    "tags": []
   },
   "source": [
    "## Standard checks and stats"
   ]
  },
  {
   "cell_type": "code",
   "execution_count": 32,
   "id": "286686af-1b7b-4440-8453-6bdcbd8de19c",
   "metadata": {
    "execution": {
     "iopub.execute_input": "2022-08-28T14:33:42.981665Z",
     "iopub.status.busy": "2022-08-28T14:33:42.981428Z",
     "iopub.status.idle": "2022-08-28T14:33:43.000780Z",
     "shell.execute_reply": "2022-08-28T14:33:43.000216Z"
    },
    "papermill": {
     "duration": 0.2331,
     "end_time": "2022-08-28T14:33:43.002134",
     "exception": false,
     "start_time": "2022-08-28T14:33:42.769034",
     "status": "completed"
    },
    "tags": []
   },
   "outputs": [],
   "source": [
    "assert not gene_corrs_df.isna().any().any()"
   ]
  },
  {
   "cell_type": "code",
   "execution_count": 33,
   "id": "00583efc-7068-4270-ad1e-4a418e91db96",
   "metadata": {
    "execution": {
     "iopub.execute_input": "2022-08-28T14:33:43.455837Z",
     "iopub.status.busy": "2022-08-28T14:33:43.455602Z",
     "iopub.status.idle": "2022-08-28T14:33:43.476664Z",
     "shell.execute_reply": "2022-08-28T14:33:43.475972Z"
    },
    "papermill": {
     "duration": 0.263148,
     "end_time": "2022-08-28T14:33:43.477962",
     "exception": false,
     "start_time": "2022-08-28T14:33:43.214814",
     "status": "completed"
    },
    "tags": []
   },
   "outputs": [
    {
     "data": {
      "text/plain": [
       "6.961089756410934e-07"
      ]
     },
     "metadata": {},
     "output_type": "display_data"
    }
   ],
   "source": [
    "_min_val = gene_corrs_df.min().min()\n",
    "display(_min_val)\n",
    "assert _min_val >= -0.05"
   ]
  },
  {
   "cell_type": "code",
   "execution_count": 34,
   "id": "d04fb2cf-1050-475b-b855-f5f7cc04092b",
   "metadata": {
    "execution": {
     "iopub.execute_input": "2022-08-28T14:33:43.903775Z",
     "iopub.status.busy": "2022-08-28T14:33:43.903540Z",
     "iopub.status.idle": "2022-08-28T14:33:43.924314Z",
     "shell.execute_reply": "2022-08-28T14:33:43.923913Z"
    },
    "papermill": {
     "duration": 0.234341,
     "end_time": "2022-08-28T14:33:43.925727",
     "exception": false,
     "start_time": "2022-08-28T14:33:43.691386",
     "status": "completed"
    },
    "tags": []
   },
   "outputs": [
    {
     "data": {
      "text/plain": [
       "1.0000000000000029"
      ]
     },
     "metadata": {},
     "output_type": "display_data"
    }
   ],
   "source": [
    "_max_val = gene_corrs_df.max().max()  # this captures the diagonal\n",
    "display(_max_val)\n",
    "assert _max_val <= 1.05"
   ]
  },
  {
   "cell_type": "code",
   "execution_count": 35,
   "id": "96d02c44-1fba-47be-8a93-8f2608420b9c",
   "metadata": {
    "execution": {
     "iopub.execute_input": "2022-08-28T14:33:44.381847Z",
     "iopub.status.busy": "2022-08-28T14:33:44.381608Z",
     "iopub.status.idle": "2022-08-28T14:33:44.400212Z",
     "shell.execute_reply": "2022-08-28T14:33:44.399679Z"
    },
    "papermill": {
     "duration": 0.232413,
     "end_time": "2022-08-28T14:33:44.401578",
     "exception": false,
     "start_time": "2022-08-28T14:33:44.169165",
     "status": "completed"
    },
    "tags": []
   },
   "outputs": [],
   "source": [
    "# check upper triangular values\n",
    "# assert len(gene_corrs) == int(genes_chr.shape[0] * (genes_chr.shape[0] - 1) / 2)"
   ]
  },
  {
   "cell_type": "code",
   "execution_count": 36,
   "id": "fe283586-c348-40e0-8841-f6d97bfb021c",
   "metadata": {
    "execution": {
     "iopub.execute_input": "2022-08-28T14:33:44.828035Z",
     "iopub.status.busy": "2022-08-28T14:33:44.827795Z",
     "iopub.status.idle": "2022-08-28T14:33:44.850644Z",
     "shell.execute_reply": "2022-08-28T14:33:44.850068Z"
    },
    "papermill": {
     "duration": 0.238534,
     "end_time": "2022-08-28T14:33:44.851981",
     "exception": false,
     "start_time": "2022-08-28T14:33:44.613447",
     "status": "completed"
    },
    "tags": []
   },
   "outputs": [
    {
     "data": {
      "text/plain": [
       "count    4.656000e+03\n",
       "mean     2.938172e-02\n",
       "std      1.425332e-01\n",
       "min      6.961090e-07\n",
       "25%      4.963056e-03\n",
       "50%      7.111068e-03\n",
       "75%      9.555506e-03\n",
       "max      1.000000e+00\n",
       "dtype: float64"
      ]
     },
     "execution_count": 36,
     "metadata": {},
     "output_type": "execute_result"
    }
   ],
   "source": [
    "gene_corrs_flat.describe()"
   ]
  },
  {
   "cell_type": "code",
   "execution_count": 37,
   "id": "b3815678-0f93-4b35-897b-a9d047a2aa78",
   "metadata": {
    "execution": {
     "iopub.execute_input": "2022-08-28T14:33:45.308700Z",
     "iopub.status.busy": "2022-08-28T14:33:45.308465Z",
     "iopub.status.idle": "2022-08-28T14:33:45.330560Z",
     "shell.execute_reply": "2022-08-28T14:33:45.330010Z"
    },
    "papermill": {
     "duration": 0.236539,
     "end_time": "2022-08-28T14:33:45.331906",
     "exception": false,
     "start_time": "2022-08-28T14:33:45.095367",
     "status": "completed"
    },
    "tags": []
   },
   "outputs": [
    {
     "data": {
      "text/plain": [
       "0.00    6.961090e-07\n",
       "0.05    2.297334e-03\n",
       "0.10    3.316853e-03\n",
       "0.15    3.927588e-03\n",
       "0.20    4.508856e-03\n",
       "0.25    4.963056e-03\n",
       "0.30    5.356601e-03\n",
       "0.35    5.805058e-03\n",
       "0.40    6.218596e-03\n",
       "0.45    6.685045e-03\n",
       "0.50    7.111068e-03\n",
       "0.55    7.541601e-03\n",
       "0.60    7.982748e-03\n",
       "0.65    8.449553e-03\n",
       "0.70    8.954663e-03\n",
       "0.75    9.555506e-03\n",
       "0.80    1.018289e-02\n",
       "0.85    1.103006e-02\n",
       "0.90    1.222104e-02\n",
       "0.95    1.454165e-02\n",
       "dtype: float64"
      ]
     },
     "metadata": {},
     "output_type": "display_data"
    }
   ],
   "source": [
    "gene_corrs_quantiles = gene_corrs_flat.quantile(np.arange(0, 1, 0.05))\n",
    "display(gene_corrs_quantiles)"
   ]
  },
  {
   "cell_type": "markdown",
   "id": "87134509-b145-4a10-8bc9-b7e914c2b0fa",
   "metadata": {
    "papermill": {
     "duration": 0.245416,
     "end_time": "2022-08-28T14:33:45.794832",
     "exception": false,
     "start_time": "2022-08-28T14:33:45.549416",
     "status": "completed"
    },
    "tags": []
   },
   "source": [
    "## Positive definiteness"
   ]
  },
  {
   "cell_type": "code",
   "execution_count": 38,
   "id": "07d9a9a1-a4f7-48aa-b916-6d42a8cc6186",
   "metadata": {
    "execution": {
     "iopub.execute_input": "2022-08-28T14:33:46.224378Z",
     "iopub.status.busy": "2022-08-28T14:33:46.224133Z",
     "iopub.status.idle": "2022-08-28T14:33:46.253827Z",
     "shell.execute_reply": "2022-08-28T14:33:46.253272Z"
    },
    "papermill": {
     "duration": 0.245893,
     "end_time": "2022-08-28T14:33:46.255072",
     "exception": false,
     "start_time": "2022-08-28T14:33:46.009179",
     "status": "completed"
    },
    "tags": []
   },
   "outputs": [
    {
     "data": {
      "text/plain": [
       "0"
      ]
     },
     "metadata": {},
     "output_type": "display_data"
    },
    {
     "data": {
      "text/plain": [
       "array([], dtype=float64)"
      ]
     },
     "metadata": {},
     "output_type": "display_data"
    }
   ],
   "source": [
    "# print negative eigenvalues\n",
    "eigs = np.linalg.eigvals(gene_corrs_df.to_numpy())\n",
    "display(len(eigs[eigs < 0]))\n",
    "display(eigs[eigs < 0])"
   ]
  },
  {
   "cell_type": "code",
   "execution_count": 39,
   "id": "6e218436-c3c5-4028-8c94-a4fa6260efce",
   "metadata": {
    "execution": {
     "iopub.execute_input": "2022-08-28T14:33:46.711218Z",
     "iopub.status.busy": "2022-08-28T14:33:46.710974Z",
     "iopub.status.idle": "2022-08-28T14:33:46.732704Z",
     "shell.execute_reply": "2022-08-28T14:33:46.731993Z"
    },
    "papermill": {
     "duration": 0.265952,
     "end_time": "2022-08-28T14:33:46.734114",
     "exception": false,
     "start_time": "2022-08-28T14:33:46.468162",
     "status": "completed"
    },
    "tags": []
   },
   "outputs": [
    {
     "name": "stdout",
     "output_type": "stream",
     "text": [
      "Works!\n"
     ]
    }
   ],
   "source": [
    "try:\n",
    "    chol_mat = np.linalg.cholesky(gene_corrs_df.to_numpy())\n",
    "    cov_inv = np.linalg.inv(chol_mat)\n",
    "    print(\"Works!\")\n",
    "except Exception as e:\n",
    "    print(f\"Cholesky decomposition failed: {str(e)}\")"
   ]
  },
  {
   "cell_type": "code",
   "execution_count": 40,
   "id": "dd8827fb-faf9-4c7c-9454-015e94752706",
   "metadata": {
    "execution": {
     "iopub.execute_input": "2022-08-28T14:33:47.163062Z",
     "iopub.status.busy": "2022-08-28T14:33:47.162810Z",
     "iopub.status.idle": "2022-08-28T14:33:47.183661Z",
     "shell.execute_reply": "2022-08-28T14:33:47.183139Z"
    },
    "papermill": {
     "duration": 0.236176,
     "end_time": "2022-08-28T14:33:47.184873",
     "exception": false,
     "start_time": "2022-08-28T14:33:46.948697",
     "status": "completed"
    },
    "tags": []
   },
   "outputs": [
    {
     "name": "stdout",
     "output_type": "stream",
     "text": [
      "Works!\n"
     ]
    }
   ],
   "source": [
    "try:\n",
    "    # decomposition used by statsmodels.GLS\n",
    "    cholsigmainv = np.linalg.cholesky(np.linalg.inv(gene_corrs_df.to_numpy())).T\n",
    "    print(\"Works!\")\n",
    "except Exception as e:\n",
    "    print(f\"Cholesky decomposition failed (statsmodels.GLS): {str(e)}\")"
   ]
  },
  {
   "cell_type": "markdown",
   "id": "8e60a080-edb2-4e9c-b2ef-22961693200c",
   "metadata": {
    "papermill": {
     "duration": 0.214557,
     "end_time": "2022-08-28T14:33:47.640354",
     "exception": false,
     "start_time": "2022-08-28T14:33:47.425797",
     "status": "completed"
    },
    "tags": []
   },
   "source": [
    "## Plot: distribution"
   ]
  },
  {
   "cell_type": "code",
   "execution_count": 41,
   "id": "8301126b-a7d4-4744-9c7d-f0f86eb6f54c",
   "metadata": {
    "execution": {
     "iopub.execute_input": "2022-08-28T14:33:48.096923Z",
     "iopub.status.busy": "2022-08-28T14:33:48.096685Z",
     "iopub.status.idle": "2022-08-28T14:33:51.483567Z",
     "shell.execute_reply": "2022-08-28T14:33:51.483091Z"
    },
    "papermill": {
     "duration": 3.63072,
     "end_time": "2022-08-28T14:33:51.485081",
     "exception": false,
     "start_time": "2022-08-28T14:33:47.854361",
     "status": "completed"
    },
    "tags": []
   },
   "outputs": [
    {
     "data": {
      "image/png": "[encoded data removed]",
      "text/plain": [
       "<Figure size 504x504 with 1 Axes>"
      ]
     },
     "metadata": {
      "needs_background": "light"
     },
     "output_type": "display_data"
    }
   ],
   "source": [
    "with sns.plotting_context(\"paper\", font_scale=1.5):\n",
    "    g = sns.displot(gene_corrs_flat, kde=True, height=7)\n",
    "    g.ax.set_title(\n",
    "        f\"Distribution of gene correlation values in chromosome {CHROMOSOME}\"\n",
    "    )"
   ]
  },
  {
   "cell_type": "markdown",
   "id": "cbd52bca-d878-4a2f-b684-5c83aa3038d4",
   "metadata": {
    "papermill": {
     "duration": 0.210612,
     "end_time": "2022-08-28T14:33:51.910502",
     "exception": false,
     "start_time": "2022-08-28T14:33:51.699890",
     "status": "completed"
    },
    "tags": []
   },
   "source": [
    "## Plot: heatmap"
   ]
  },
  {
   "cell_type": "code",
   "execution_count": 42,
   "id": "d03fe63a-c7b2-4fb9-a53c-db362ce843c9",
   "metadata": {
    "execution": {
     "iopub.execute_input": "2022-08-28T14:33:52.368291Z",
     "iopub.status.busy": "2022-08-28T14:33:52.368048Z",
     "iopub.status.idle": "2022-08-28T14:33:52.388936Z",
     "shell.execute_reply": "2022-08-28T14:33:52.388522Z"
    },
    "papermill": {
     "duration": 0.265812,
     "end_time": "2022-08-28T14:33:52.390255",
     "exception": false,
     "start_time": "2022-08-28T14:33:52.124443",
     "status": "completed"
    },
    "tags": []
   },
   "outputs": [
    {
     "data": {
      "text/plain": [
       "'0.0 / 0.05'"
      ]
     },
     "metadata": {},
     "output_type": "display_data"
    }
   ],
   "source": [
    "vmin_val = min(0.00, gene_corrs_quantiles[0.10])\n",
    "vmax_val = max(0.05, gene_corrs_quantiles[0.90])\n",
    "display(f\"{vmin_val} / {vmax_val}\")"
   ]
  },
  {
   "cell_type": "code",
   "execution_count": 43,
   "id": "dc41b70b-5bcc-4d9e-9f33-a22c4a94dab5",
   "metadata": {
    "execution": {
     "iopub.execute_input": "2022-08-28T14:33:52.813264Z",
     "iopub.status.busy": "2022-08-28T14:33:52.813029Z",
     "iopub.status.idle": "2022-08-28T14:33:52.945188Z",
     "shell.execute_reply": "2022-08-28T14:33:52.944498Z"
    },
    "papermill": {
     "duration": 0.344893,
     "end_time": "2022-08-28T14:33:52.946523",
     "exception": false,
     "start_time": "2022-08-28T14:33:52.601630",
     "status": "completed"
    },
    "tags": []
   },
   "outputs": [
    {
     "data": {
      "text/plain": [
       "Text(0.5, 1.0, 'Gene correlations in chromosome 18')"
      ]
     },
     "execution_count": 43,
     "metadata": {},
     "output_type": "execute_result"
    },
    {
     "data": {
      "image/png": "[encoded data removed]",
      "text/plain": [
       "<Figure size 720x720 with 2 Axes>"
      ]
     },
     "metadata": {
      "needs_background": "light"
     },
     "output_type": "display_data"
    }
   ],
   "source": [
    "f, ax = plt.subplots(figsize=(10, 10))\n",
    "sns.heatmap(\n",
    "    gene_corrs_df,\n",
    "    xticklabels=False,\n",
    "    yticklabels=False,\n",
    "    square=True,\n",
    "    vmin=vmin_val,\n",
    "    vmax=vmax_val,\n",
    "    cmap=\"rocket_r\",\n",
    "    ax=ax,\n",
    ")\n",
    "ax.set_title(f\"Gene correlations in chromosome {CHROMOSOME}\")"
   ]
  },
  {
   "cell_type": "code",
   "execution_count": null,
   "id": "b25e3ead",
   "metadata": {
    "papermill": {
     "duration": 0.214369,
     "end_time": "2022-08-28T14:33:53.406838",
     "exception": false,
     "start_time": "2022-08-28T14:33:53.192469",
     "status": "completed"
    },
    "tags": []
   },
   "outputs": [],
   "source": []
  }
 ],
 "metadata": {
  "jupytext": {
   "cell_metadata_filter": "all,-execution,-papermill,-trusted",
   "formats": "ipynb,py//py:percent"
  },
  "kernelspec": {
   "display_name": "Python 3 (ipykernel)",
   "language": "python",
   "name": "python3"
  },
  "language_info": {
   "codemirror_mode": {
    "name": "ipython",
    "version": 3
   },
   "file_extension": ".py",
   "mimetype": "text/x-python",
   "name": "python",
   "nbconvert_exporter": "python",
   "pygments_lexer": "ipython3",
   "version": "3.8.13"
  },
  "papermill": {
   "default_parameters": {},
   "duration": 359.321902,
   "end_time": "2022-08-28T14:33:56.758490",
   "environment_variables": {},
   "exception": null,
   "input_path": "nbs/15_gsa_gls/10-gene_expr_correlations.ipynb",
   "output_path": "nbs/15_gsa_gls/gene_corrs/cohorts/1000g_eur/gtex_v8/mashr/10-gene_expr_corrs/10-gene_expr_correlations-chr18.run.ipynb",
   "parameters": {
    "CHROMOSOME": 18,
    "COHORT_NAME": "1000g_eur",
    "EQTL_MODEL": "MASHR",
    "REFERENCE_PANEL": "GTEX_V8"
   },
   "start_time": "2022-08-28T14:27:57.436588",
   "version": "2.2.2"
  }
 },
 "nbformat": 4,
 "nbformat_minor": 5
}
