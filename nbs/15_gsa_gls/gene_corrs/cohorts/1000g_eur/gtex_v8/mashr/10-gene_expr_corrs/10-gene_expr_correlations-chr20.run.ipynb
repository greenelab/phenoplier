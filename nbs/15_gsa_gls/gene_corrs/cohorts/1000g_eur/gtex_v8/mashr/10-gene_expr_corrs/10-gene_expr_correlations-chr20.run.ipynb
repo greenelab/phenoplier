{
 "cells": [
  {
   "cell_type": "markdown",
   "id": "7a6632fb",
   "metadata": {
    "papermill": {
     "duration": 0.020261,
     "end_time": "2022-08-28T14:28:00.027844",
     "exception": false,
     "start_time": "2022-08-28T14:28:00.007583",
     "status": "completed"
    },
    "tags": []
   },
   "source": [
    "# Description"
   ]
  },
  {
   "cell_type": "markdown",
   "id": "7097c346",
   "metadata": {
    "papermill": {
     "duration": 0.016025,
     "end_time": "2022-08-28T14:28:00.060644",
     "exception": false,
     "start_time": "2022-08-28T14:28:00.044619",
     "status": "completed"
    },
    "tags": []
   },
   "source": [
    "(Please, take a look at the README.md file in this directory for instructions on how to run this notebook)\n",
    "\n",
    "This notebook computes predicted expression correlations between all genes in the MultiPLIER models.\n",
    "\n",
    "It also has a parameter set for papermill to run on a single chromosome to run in parallel (see under `Settings` below).\n",
    "\n",
    "This notebook is not directly run. See README.md."
   ]
  },
  {
   "cell_type": "markdown",
   "id": "c61d8427",
   "metadata": {
    "papermill": {
     "duration": 0.013575,
     "end_time": "2022-08-28T14:28:00.089050",
     "exception": false,
     "start_time": "2022-08-28T14:28:00.075475",
     "status": "completed"
    },
    "tags": []
   },
   "source": [
    "# Modules"
   ]
  },
  {
   "cell_type": "code",
   "execution_count": 1,
   "id": "bbc0234f",
   "metadata": {
    "execution": {
     "iopub.execute_input": "2022-08-28T14:28:00.118466Z",
     "iopub.status.busy": "2022-08-28T14:28:00.118085Z",
     "iopub.status.idle": "2022-08-28T14:28:00.175718Z",
     "shell.execute_reply": "2022-08-28T14:28:00.174736Z"
    },
    "papermill": {
     "duration": 0.076317,
     "end_time": "2022-08-28T14:28:00.178906",
     "exception": false,
     "start_time": "2022-08-28T14:28:00.102589",
     "status": "completed"
    },
    "tags": []
   },
   "outputs": [],
   "source": [
    "%load_ext autoreload\n",
    "%autoreload 2"
   ]
  },
  {
   "cell_type": "code",
   "execution_count": 2,
   "id": "1d5f5a59",
   "metadata": {
    "execution": {
     "iopub.execute_input": "2022-08-28T14:28:00.214746Z",
     "iopub.status.busy": "2022-08-28T14:28:00.214384Z",
     "iopub.status.idle": "2022-08-28T14:28:04.457484Z",
     "shell.execute_reply": "2022-08-28T14:28:04.456728Z"
    },
    "papermill": {
     "duration": 4.263176,
     "end_time": "2022-08-28T14:28:04.459874",
     "exception": false,
     "start_time": "2022-08-28T14:28:00.196698",
     "status": "completed"
    },
    "tags": []
   },
   "outputs": [],
   "source": [
    "from random import sample, seed\n",
    "import warnings\n",
    "from pathlib import Path\n",
    "import pickle\n",
    "import traceback\n",
    "\n",
    "import numpy as np\n",
    "from scipy.spatial.distance import squareform\n",
    "import pandas as pd\n",
    "from tqdm import tqdm\n",
    "import matplotlib.pyplot as plt\n",
    "import seaborn as sns\n",
    "\n",
    "import conf\n",
    "from entity import Gene"
   ]
  },
  {
   "cell_type": "markdown",
   "id": "1eac24b5",
   "metadata": {
    "papermill": {
     "duration": 0.008367,
     "end_time": "2022-08-28T14:28:04.504279",
     "exception": false,
     "start_time": "2022-08-28T14:28:04.495912",
     "status": "completed"
    },
    "tags": []
   },
   "source": [
    "# Settings"
   ]
  },
  {
   "cell_type": "code",
   "execution_count": 3,
   "id": "ca4560ba",
   "metadata": {
    "execution": {
     "iopub.execute_input": "2022-08-28T14:28:04.523982Z",
     "iopub.status.busy": "2022-08-28T14:28:04.523720Z",
     "iopub.status.idle": "2022-08-28T14:28:04.679162Z",
     "shell.execute_reply": "2022-08-28T14:28:04.678037Z"
    },
    "papermill": {
     "duration": 0.16901,
     "end_time": "2022-08-28T14:28:04.682679",
     "exception": false,
     "start_time": "2022-08-28T14:28:04.513669",
     "status": "completed"
    },
    "tags": [
     "parameters"
    ]
   },
   "outputs": [],
   "source": [
    "# a cohort name (it could be something like UK_BIOBANK, etc)\n",
    "COHORT_NAME = None\n",
    "\n",
    "# reference panel such as 1000G or GTEX_V8\n",
    "REFERENCE_PANEL = None\n",
    "\n",
    "# predictions models such as MASHR or ELASTIC_NET\n",
    "EQTL_MODEL = None\n",
    "\n",
    "# this is the default value used in S-MultiXcan to select the\n",
    "# top principal components of the expression correlation matrix\n",
    "SMULTIXCAN_CONDITION_NUMBER = 30\n",
    "\n",
    "# specifies a single chromosome value\n",
    "CHROMOSOME = None\n",
    "\n",
    "# If True, computes the correlation between closeby genes only;\n",
    "# otherwise, it computes correlations for all genes in a chromosome\n",
    "COMPUTE_CORRELATIONS_WITHIN_DISTANCE = False\n",
    "\n",
    "# if True, then it will continue if a gene pair correlation fails,\n",
    "# printing the warning/error for debugging. If False, any warning/error\n",
    "# will be thrown\n",
    "DEBUG_MODE = False"
   ]
  },
  {
   "cell_type": "code",
   "execution_count": 4,
   "id": "0901f2f2",
   "metadata": {
    "execution": {
     "iopub.execute_input": "2022-08-28T14:28:04.716910Z",
     "iopub.status.busy": "2022-08-28T14:28:04.716535Z",
     "iopub.status.idle": "2022-08-28T14:28:04.760417Z",
     "shell.execute_reply": "2022-08-28T14:28:04.759441Z"
    },
    "papermill": {
     "duration": 0.064301,
     "end_time": "2022-08-28T14:28:04.763220",
     "exception": false,
     "start_time": "2022-08-28T14:28:04.698919",
     "status": "completed"
    },
    "tags": [
     "injected-parameters"
    ]
   },
   "outputs": [],
   "source": [
    "# Parameters\n",
    "COHORT_NAME = \"1000g_eur\"\n",
    "REFERENCE_PANEL = \"GTEX_V8\"\n",
    "EQTL_MODEL = \"MASHR\"\n",
    "CHROMOSOME = 20\n"
   ]
  },
  {
   "cell_type": "code",
   "execution_count": 5,
   "id": "3190631f-27fc-480f-b18e-571d580425a5",
   "metadata": {
    "execution": {
     "iopub.execute_input": "2022-08-28T14:28:04.793959Z",
     "iopub.status.busy": "2022-08-28T14:28:04.793620Z",
     "iopub.status.idle": "2022-08-28T14:28:04.841987Z",
     "shell.execute_reply": "2022-08-28T14:28:04.841136Z"
    },
    "papermill": {
     "duration": 0.065356,
     "end_time": "2022-08-28T14:28:04.844329",
     "exception": false,
     "start_time": "2022-08-28T14:28:04.778973",
     "status": "completed"
    },
    "tags": []
   },
   "outputs": [
    {
     "data": {
      "text/plain": [
       "'Cohort name: 1000g_eur'"
      ]
     },
     "metadata": {},
     "output_type": "display_data"
    }
   ],
   "source": [
    "assert COHORT_NAME is not None and len(COHORT_NAME) > 0, \"A cohort name must be given\"\n",
    "\n",
    "COHORT_NAME = COHORT_NAME.lower()\n",
    "display(f\"Cohort name: {COHORT_NAME}\")"
   ]
  },
  {
   "cell_type": "code",
   "execution_count": 6,
   "id": "f53ba19b-0f93-4fa2-a047-63b375939d1a",
   "metadata": {
    "execution": {
     "iopub.execute_input": "2022-08-28T14:28:04.872397Z",
     "iopub.status.busy": "2022-08-28T14:28:04.872103Z",
     "iopub.status.idle": "2022-08-28T14:28:04.910570Z",
     "shell.execute_reply": "2022-08-28T14:28:04.909793Z"
    },
    "papermill": {
     "duration": 0.054377,
     "end_time": "2022-08-28T14:28:04.912640",
     "exception": false,
     "start_time": "2022-08-28T14:28:04.858263",
     "status": "completed"
    },
    "tags": []
   },
   "outputs": [
    {
     "data": {
      "text/plain": [
       "'Reference panel: GTEX_V8'"
      ]
     },
     "metadata": {},
     "output_type": "display_data"
    }
   ],
   "source": [
    "assert (\n",
    "    REFERENCE_PANEL is not None and len(REFERENCE_PANEL) > 0\n",
    "), \"A reference panel must be given\"\n",
    "\n",
    "display(f\"Reference panel: {REFERENCE_PANEL}\")"
   ]
  },
  {
   "cell_type": "code",
   "execution_count": 7,
   "id": "e024d130-c139-429a-9c6e-ccf149e297b0",
   "metadata": {
    "execution": {
     "iopub.execute_input": "2022-08-28T14:28:04.947707Z",
     "iopub.status.busy": "2022-08-28T14:28:04.947423Z",
     "iopub.status.idle": "2022-08-28T14:28:04.989356Z",
     "shell.execute_reply": "2022-08-28T14:28:04.988681Z"
    },
    "papermill": {
     "duration": 0.060393,
     "end_time": "2022-08-28T14:28:04.991336",
     "exception": false,
     "start_time": "2022-08-28T14:28:04.930943",
     "status": "completed"
    },
    "tags": []
   },
   "outputs": [
    {
     "data": {
      "text/plain": [
       "'eQTL model: MASHR) / mashr_'"
      ]
     },
     "metadata": {},
     "output_type": "display_data"
    }
   ],
   "source": [
    "assert (\n",
    "    EQTL_MODEL is not None and len(EQTL_MODEL) > 0\n",
    "), \"A prediction/eQTL model must be given\"\n",
    "\n",
    "EQTL_MODEL_FILES_PREFIX = conf.PHENOMEXCAN[\"PREDICTION_MODELS\"][f\"{EQTL_MODEL}_PREFIX\"]\n",
    "display(f\"eQTL model: {EQTL_MODEL}) / {EQTL_MODEL_FILES_PREFIX}\")"
   ]
  },
  {
   "cell_type": "code",
   "execution_count": 8,
   "id": "552a7f63-a18c-4d3e-bb6a-94f99b431291",
   "metadata": {
    "execution": {
     "iopub.execute_input": "2022-08-28T14:28:05.017685Z",
     "iopub.status.busy": "2022-08-28T14:28:05.017439Z",
     "iopub.status.idle": "2022-08-28T14:28:05.060609Z",
     "shell.execute_reply": "2022-08-28T14:28:05.059937Z"
    },
    "papermill": {
     "duration": 0.057749,
     "end_time": "2022-08-28T14:28:05.062528",
     "exception": false,
     "start_time": "2022-08-28T14:28:05.004779",
     "status": "completed"
    },
    "tags": []
   },
   "outputs": [
    {
     "data": {
      "text/plain": [
       "'S-MultiXcan condition number: 30'"
      ]
     },
     "metadata": {},
     "output_type": "display_data"
    }
   ],
   "source": [
    "assert (\n",
    "    SMULTIXCAN_CONDITION_NUMBER is not None and SMULTIXCAN_CONDITION_NUMBER > 0\n",
    "), \"The S-MultiXcan condition number (positive integer) must be given\"\n",
    "\n",
    "display(f\"S-MultiXcan condition number: {SMULTIXCAN_CONDITION_NUMBER}\")"
   ]
  },
  {
   "cell_type": "code",
   "execution_count": 9,
   "id": "f34a336f-548e-4afe-8955-90eaea4f42c6",
   "metadata": {
    "execution": {
     "iopub.execute_input": "2022-08-28T14:28:05.091995Z",
     "iopub.status.busy": "2022-08-28T14:28:05.091738Z",
     "iopub.status.idle": "2022-08-28T14:28:05.127519Z",
     "shell.execute_reply": "2022-08-28T14:28:05.126779Z"
    },
    "papermill": {
     "duration": 0.053078,
     "end_time": "2022-08-28T14:28:05.129597",
     "exception": false,
     "start_time": "2022-08-28T14:28:05.076519",
     "status": "completed"
    },
    "tags": []
   },
   "outputs": [
    {
     "data": {
      "text/plain": [
       "'Working on chromosome 20'"
      ]
     },
     "metadata": {},
     "output_type": "display_data"
    }
   ],
   "source": [
    "assert CHROMOSOME is not None and (\n",
    "    1 <= CHROMOSOME <= 22\n",
    "), \"You have to select one chromosome (format: number between 1 and 22)\"\n",
    "\n",
    "# CHROMOSOME = str(CHROMOSOME)\n",
    "display(f\"Working on chromosome {CHROMOSOME}\")"
   ]
  },
  {
   "cell_type": "code",
   "execution_count": 10,
   "id": "ab8e96e8-06b5-4363-9dcd-dc4d78cc27f7",
   "metadata": {
    "execution": {
     "iopub.execute_input": "2022-08-28T14:28:05.169982Z",
     "iopub.status.busy": "2022-08-28T14:28:05.169719Z",
     "iopub.status.idle": "2022-08-28T14:28:05.261737Z",
     "shell.execute_reply": "2022-08-28T14:28:05.260661Z"
    },
    "papermill": {
     "duration": 0.116568,
     "end_time": "2022-08-28T14:28:05.264662",
     "exception": false,
     "start_time": "2022-08-28T14:28:05.148094",
     "status": "completed"
    },
    "tags": []
   },
   "outputs": [
    {
     "data": {
      "text/plain": [
       "'Compute correlation within distance False'"
      ]
     },
     "metadata": {},
     "output_type": "display_data"
    }
   ],
   "source": [
    "display(f\"Compute correlation within distance {COMPUTE_CORRELATIONS_WITHIN_DISTANCE}\")"
   ]
  },
  {
   "cell_type": "code",
   "execution_count": 11,
   "id": "396392dc-0340-4540-9b02-e182b833f909",
   "metadata": {
    "execution": {
     "iopub.execute_input": "2022-08-28T14:28:05.323589Z",
     "iopub.status.busy": "2022-08-28T14:28:05.323200Z",
     "iopub.status.idle": "2022-08-28T14:28:05.710404Z",
     "shell.execute_reply": "2022-08-28T14:28:05.709334Z"
    },
    "papermill": {
     "duration": 0.416773,
     "end_time": "2022-08-28T14:28:05.713521",
     "exception": false,
     "start_time": "2022-08-28T14:28:05.296748",
     "status": "completed"
    },
    "tags": []
   },
   "outputs": [
    {
     "data": {
      "text/plain": [
       "'Using output dir base: /project/ritchie20/projects/phenoplier/base/results/gls/gene_corrs/cohorts/1000g_eur/gtex_v8/mashr'"
      ]
     },
     "metadata": {},
     "output_type": "display_data"
    }
   ],
   "source": [
    "OUTPUT_DIR_BASE = (\n",
    "    conf.RESULTS[\"GLS\"]\n",
    "    / \"gene_corrs\"\n",
    "    / \"cohorts\"\n",
    "    / COHORT_NAME\n",
    "    / REFERENCE_PANEL.lower()\n",
    "    / EQTL_MODEL.lower()\n",
    ")\n",
    "OUTPUT_DIR_BASE.mkdir(parents=True, exist_ok=True)\n",
    "\n",
    "display(f\"Using output dir base: {OUTPUT_DIR_BASE}\")"
   ]
  },
  {
   "cell_type": "markdown",
   "id": "d2ba085e",
   "metadata": {
    "papermill": {
     "duration": 0.020218,
     "end_time": "2022-08-28T14:28:05.754623",
     "exception": false,
     "start_time": "2022-08-28T14:28:05.734405",
     "status": "completed"
    },
    "tags": []
   },
   "source": [
    "# Load data"
   ]
  },
  {
   "cell_type": "markdown",
   "id": "7dcb8db7",
   "metadata": {
    "papermill": {
     "duration": 0.016181,
     "end_time": "2022-08-28T14:28:05.789775",
     "exception": false,
     "start_time": "2022-08-28T14:28:05.773594",
     "status": "completed"
    },
    "tags": []
   },
   "source": [
    "## GWAS variants"
   ]
  },
  {
   "cell_type": "code",
   "execution_count": 12,
   "id": "29434c4e-8cd3-4b9b-82e4-b5a251d9dd19",
   "metadata": {
    "execution": {
     "iopub.execute_input": "2022-08-28T14:28:05.822010Z",
     "iopub.status.busy": "2022-08-28T14:28:05.821705Z",
     "iopub.status.idle": "2022-08-28T14:28:08.218906Z",
     "shell.execute_reply": "2022-08-28T14:28:08.218049Z"
    },
    "papermill": {
     "duration": 2.416166,
     "end_time": "2022-08-28T14:28:08.220910",
     "exception": false,
     "start_time": "2022-08-28T14:28:05.804744",
     "status": "completed"
    },
    "tags": []
   },
   "outputs": [],
   "source": [
    "with open(OUTPUT_DIR_BASE / \"gwas_variant_ids.pkl\", \"rb\") as handle:\n",
    "    gwas_variants_ids_set = pickle.load(handle)"
   ]
  },
  {
   "cell_type": "code",
   "execution_count": 13,
   "id": "b9d9dec2-4a76-4bf9-bde2-e24c95acb8a0",
   "metadata": {
    "execution": {
     "iopub.execute_input": "2022-08-28T14:28:08.282060Z",
     "iopub.status.busy": "2022-08-28T14:28:08.281847Z",
     "iopub.status.idle": "2022-08-28T14:28:08.778199Z",
     "shell.execute_reply": "2022-08-28T14:28:08.777064Z"
    },
    "papermill": {
     "duration": 0.523544,
     "end_time": "2022-08-28T14:28:08.781569",
     "exception": false,
     "start_time": "2022-08-28T14:28:08.258025",
     "status": "completed"
    },
    "tags": []
   },
   "outputs": [
    {
     "data": {
      "text/plain": [
       "8325729"
      ]
     },
     "execution_count": 13,
     "metadata": {},
     "output_type": "execute_result"
    }
   ],
   "source": [
    "len(gwas_variants_ids_set)"
   ]
  },
  {
   "cell_type": "code",
   "execution_count": 14,
   "id": "4235b06a-6034-4ee4-a0a3-2ae35d122418",
   "metadata": {
    "execution": {
     "iopub.execute_input": "2022-08-28T14:28:08.819169Z",
     "iopub.status.busy": "2022-08-28T14:28:08.818792Z",
     "iopub.status.idle": "2022-08-28T14:28:09.373079Z",
     "shell.execute_reply": "2022-08-28T14:28:09.372470Z"
    },
    "papermill": {
     "duration": 0.574322,
     "end_time": "2022-08-28T14:28:09.374596",
     "exception": false,
     "start_time": "2022-08-28T14:28:08.800274",
     "status": "completed"
    },
    "tags": []
   },
   "outputs": [
    {
     "data": {
      "text/plain": [
       "['chr22_21798534_C_T_b38',\n",
       " 'chr10_16316027_G_A_b38',\n",
       " 'chr6_58065097_G_A_b38',\n",
       " 'chr3_95446041_T_C_b38',\n",
       " 'chr10_89236387_A_G_b38']"
      ]
     },
     "execution_count": 14,
     "metadata": {},
     "output_type": "execute_result"
    }
   ],
   "source": [
    "list(gwas_variants_ids_set)[:5]"
   ]
  },
  {
   "cell_type": "markdown",
   "id": "07866999-2305-41f9-a144-e69c9122c212",
   "metadata": {
    "papermill": {
     "duration": 0.010176,
     "end_time": "2022-08-28T14:28:09.395559",
     "exception": false,
     "start_time": "2022-08-28T14:28:09.385383",
     "status": "completed"
    },
    "tags": []
   },
   "source": [
    "## S-PrediXcan tissue models"
   ]
  },
  {
   "cell_type": "code",
   "execution_count": 15,
   "id": "780611d9-77c8-405f-90a4-f271f7b09397",
   "metadata": {
    "execution": {
     "iopub.execute_input": "2022-08-28T14:28:09.415807Z",
     "iopub.status.busy": "2022-08-28T14:28:09.415605Z",
     "iopub.status.idle": "2022-08-28T14:28:10.333207Z",
     "shell.execute_reply": "2022-08-28T14:28:10.332627Z"
    },
    "papermill": {
     "duration": 0.929781,
     "end_time": "2022-08-28T14:28:10.335126",
     "exception": false,
     "start_time": "2022-08-28T14:28:09.405345",
     "status": "completed"
    },
    "tags": []
   },
   "outputs": [],
   "source": [
    "spredixcan_genes_models = pd.read_pickle(OUTPUT_DIR_BASE / \"gene_tissues.pkl\")"
   ]
  },
  {
   "cell_type": "code",
   "execution_count": 16,
   "id": "726dd1f6-9557-4225-91fa-b3b879ea96e1",
   "metadata": {
    "execution": {
     "iopub.execute_input": "2022-08-28T14:28:10.371351Z",
     "iopub.status.busy": "2022-08-28T14:28:10.371088Z",
     "iopub.status.idle": "2022-08-28T14:28:10.402721Z",
     "shell.execute_reply": "2022-08-28T14:28:10.402102Z"
    },
    "papermill": {
     "duration": 0.048848,
     "end_time": "2022-08-28T14:28:10.404503",
     "exception": false,
     "start_time": "2022-08-28T14:28:10.355655",
     "status": "completed"
    },
    "tags": []
   },
   "outputs": [
    {
     "data": {
      "text/plain": [
       "(6442, 9)"
      ]
     },
     "execution_count": 16,
     "metadata": {},
     "output_type": "execute_result"
    }
   ],
   "source": [
    "spredixcan_genes_models.shape"
   ]
  },
  {
   "cell_type": "code",
   "execution_count": 17,
   "id": "944a1b48-222c-4eb0-b252-b9de2cbca215",
   "metadata": {
    "execution": {
     "iopub.execute_input": "2022-08-28T14:28:10.428095Z",
     "iopub.status.busy": "2022-08-28T14:28:10.427899Z",
     "iopub.status.idle": "2022-08-28T14:28:10.541552Z",
     "shell.execute_reply": "2022-08-28T14:28:10.540594Z"
    },
    "papermill": {
     "duration": 0.128506,
     "end_time": "2022-08-28T14:28:10.544484",
     "exception": false,
     "start_time": "2022-08-28T14:28:10.415978",
     "status": "completed"
    },
    "tags": []
   },
   "outputs": [
    {
     "data": {
      "text/html": [
       "<div>\n",
       "<style scoped>\n",
       "    .dataframe tbody tr th:only-of-type {\n",
       "        vertical-align: middle;\n",
       "    }\n",
       "\n",
       "    .dataframe tbody tr th {\n",
       "        vertical-align: top;\n",
       "    }\n",
       "\n",
       "    .dataframe thead th {\n",
       "        text-align: right;\n",
       "    }\n",
       "</style>\n",
       "<table border=\"1\" class=\"dataframe\">\n",
       "  <thead>\n",
       "    <tr style=\"text-align: right;\">\n",
       "      <th></th>\n",
       "      <th>gene_name</th>\n",
       "      <th>tissue</th>\n",
       "      <th>n_tissues</th>\n",
       "      <th>tissues_pc_variances</th>\n",
       "      <th>tissues_variances</th>\n",
       "      <th>n_snps_used_sum</th>\n",
       "      <th>n_snps_in_model_sum</th>\n",
       "      <th>unique_n_snps_in_model</th>\n",
       "      <th>unique_n_snps_used</th>\n",
       "    </tr>\n",
       "    <tr>\n",
       "      <th>gene_id</th>\n",
       "      <th></th>\n",
       "      <th></th>\n",
       "      <th></th>\n",
       "      <th></th>\n",
       "      <th></th>\n",
       "      <th></th>\n",
       "      <th></th>\n",
       "      <th></th>\n",
       "      <th></th>\n",
       "    </tr>\n",
       "  </thead>\n",
       "  <tbody>\n",
       "    <tr>\n",
       "      <th>ENSG00000000419</th>\n",
       "      <td>DPM1</td>\n",
       "      <td>(Brain_Substantia_nigra, Brain_Hypothalamus)</td>\n",
       "      <td>2</td>\n",
       "      <td>[1.0442398458252409, 0.9557601541747592]</td>\n",
       "      <td>{'Brain_Hypothalamus': 0.013162153504206677, '...</td>\n",
       "      <td>2</td>\n",
       "      <td>2</td>\n",
       "      <td>2</td>\n",
       "      <td>2</td>\n",
       "    </tr>\n",
       "    <tr>\n",
       "      <th>ENSG00000000938</th>\n",
       "      <td>FGR</td>\n",
       "      <td>(Muscle_Skeletal, Artery_Aorta, Cells_EBV-tran...</td>\n",
       "      <td>36</td>\n",
       "      <td>[31.63266933637127, 2.0783677518511445, 1.2716...</td>\n",
       "      <td>{'Muscle_Skeletal': 0.011422007299369654, 'Liv...</td>\n",
       "      <td>40</td>\n",
       "      <td>40</td>\n",
       "      <td>5</td>\n",
       "      <td>5</td>\n",
       "    </tr>\n",
       "    <tr>\n",
       "      <th>ENSG00000000971</th>\n",
       "      <td>CFH</td>\n",
       "      <td>(Uterus, Artery_Aorta, Artery_Coronary, Skin_N...</td>\n",
       "      <td>34</td>\n",
       "      <td>[21.56076992568329, 7.310170987045466, 1.83778...</td>\n",
       "      <td>{'Testis': 0.004542368000299983, 'Heart_Atrial...</td>\n",
       "      <td>44</td>\n",
       "      <td>44</td>\n",
       "      <td>12</td>\n",
       "      <td>12</td>\n",
       "    </tr>\n",
       "    <tr>\n",
       "      <th>ENSG00000001084</th>\n",
       "      <td>GCLC</td>\n",
       "      <td>(Muscle_Skeletal, Artery_Aorta, Cells_EBV-tran...</td>\n",
       "      <td>32</td>\n",
       "      <td>[21.291939080546527, 4.699418748743194, 2.2489...</td>\n",
       "      <td>{'Muscle_Skeletal': 0.0052333336977804, 'Testi...</td>\n",
       "      <td>46</td>\n",
       "      <td>46</td>\n",
       "      <td>23</td>\n",
       "      <td>23</td>\n",
       "    </tr>\n",
       "    <tr>\n",
       "      <th>ENSG00000001167</th>\n",
       "      <td>NFYA</td>\n",
       "      <td>(Muscle_Skeletal, Artery_Aorta, Prostate, Arte...</td>\n",
       "      <td>40</td>\n",
       "      <td>[37.335660295497696, 1.391401960453836]</td>\n",
       "      <td>{'Muscle_Skeletal': 0.01510698551052935, 'Test...</td>\n",
       "      <td>47</td>\n",
       "      <td>48</td>\n",
       "      <td>14</td>\n",
       "      <td>13</td>\n",
       "    </tr>\n",
       "  </tbody>\n",
       "</table>\n",
       "</div>"
      ],
      "text/plain": [
       "                gene_name                                             tissue  \\\n",
       "gene_id                                                                        \n",
       "ENSG00000000419      DPM1       (Brain_Substantia_nigra, Brain_Hypothalamus)   \n",
       "ENSG00000000938       FGR  (Muscle_Skeletal, Artery_Aorta, Cells_EBV-tran...   \n",
       "ENSG00000000971       CFH  (Uterus, Artery_Aorta, Artery_Coronary, Skin_N...   \n",
       "ENSG00000001084      GCLC  (Muscle_Skeletal, Artery_Aorta, Cells_EBV-tran...   \n",
       "ENSG00000001167      NFYA  (Muscle_Skeletal, Artery_Aorta, Prostate, Arte...   \n",
       "\n",
       "                 n_tissues                               tissues_pc_variances  \\\n",
       "gene_id                                                                         \n",
       "ENSG00000000419          2           [1.0442398458252409, 0.9557601541747592]   \n",
       "ENSG00000000938         36  [31.63266933637127, 2.0783677518511445, 1.2716...   \n",
       "ENSG00000000971         34  [21.56076992568329, 7.310170987045466, 1.83778...   \n",
       "ENSG00000001084         32  [21.291939080546527, 4.699418748743194, 2.2489...   \n",
       "ENSG00000001167         40            [37.335660295497696, 1.391401960453836]   \n",
       "\n",
       "                                                 tissues_variances  \\\n",
       "gene_id                                                              \n",
       "ENSG00000000419  {'Brain_Hypothalamus': 0.013162153504206677, '...   \n",
       "ENSG00000000938  {'Muscle_Skeletal': 0.011422007299369654, 'Liv...   \n",
       "ENSG00000000971  {'Testis': 0.004542368000299983, 'Heart_Atrial...   \n",
       "ENSG00000001084  {'Muscle_Skeletal': 0.0052333336977804, 'Testi...   \n",
       "ENSG00000001167  {'Muscle_Skeletal': 0.01510698551052935, 'Test...   \n",
       "\n",
       "                 n_snps_used_sum  n_snps_in_model_sum  unique_n_snps_in_model  \\\n",
       "gene_id                                                                         \n",
       "ENSG00000000419                2                    2                       2   \n",
       "ENSG00000000938               40                   40                       5   \n",
       "ENSG00000000971               44                   44                      12   \n",
       "ENSG00000001084               46                   46                      23   \n",
       "ENSG00000001167               47                   48                      14   \n",
       "\n",
       "                 unique_n_snps_used  \n",
       "gene_id                              \n",
       "ENSG00000000419                   2  \n",
       "ENSG00000000938                   5  \n",
       "ENSG00000000971                  12  \n",
       "ENSG00000001084                  23  \n",
       "ENSG00000001167                  13  "
      ]
     },
     "execution_count": 17,
     "metadata": {},
     "output_type": "execute_result"
    }
   ],
   "source": [
    "spredixcan_genes_models.head()"
   ]
  },
  {
   "cell_type": "code",
   "execution_count": 18,
   "id": "d1c11bb1-be0b-4f40-b360-633d6827109f",
   "metadata": {
    "execution": {
     "iopub.execute_input": "2022-08-28T14:28:10.581918Z",
     "iopub.status.busy": "2022-08-28T14:28:10.581574Z",
     "iopub.status.idle": "2022-08-28T14:28:10.793607Z",
     "shell.execute_reply": "2022-08-28T14:28:10.792597Z"
    },
    "papermill": {
     "duration": 0.232923,
     "end_time": "2022-08-28T14:28:10.796742",
     "exception": false,
     "start_time": "2022-08-28T14:28:10.563819",
     "status": "completed"
    },
    "tags": []
   },
   "outputs": [],
   "source": [
    "assert spredixcan_genes_models.index.is_unique"
   ]
  },
  {
   "cell_type": "markdown",
   "id": "a5b5092c-a13e-47c4-a92a-480fcc08f3ae",
   "metadata": {
    "papermill": {
     "duration": 0.017108,
     "end_time": "2022-08-28T14:28:10.833297",
     "exception": false,
     "start_time": "2022-08-28T14:28:10.816189",
     "status": "completed"
    },
    "tags": []
   },
   "source": [
    "## Gene info"
   ]
  },
  {
   "cell_type": "code",
   "execution_count": 19,
   "id": "7d6bb224-88e9-4358-ac10-43a41d92cdad",
   "metadata": {
    "execution": {
     "iopub.execute_input": "2022-08-28T14:28:10.865315Z",
     "iopub.status.busy": "2022-08-28T14:28:10.864988Z",
     "iopub.status.idle": "2022-08-28T14:28:10.909617Z",
     "shell.execute_reply": "2022-08-28T14:28:10.908844Z"
    },
    "papermill": {
     "duration": 0.063022,
     "end_time": "2022-08-28T14:28:10.912042",
     "exception": false,
     "start_time": "2022-08-28T14:28:10.849020",
     "status": "completed"
    },
    "tags": []
   },
   "outputs": [],
   "source": [
    "genes_info = pd.read_pickle(OUTPUT_DIR_BASE / \"genes_info.pkl\")"
   ]
  },
  {
   "cell_type": "code",
   "execution_count": 20,
   "id": "9e32abfa-546d-483e-8c18-d526e9e05903",
   "metadata": {
    "execution": {
     "iopub.execute_input": "2022-08-28T14:28:10.944083Z",
     "iopub.status.busy": "2022-08-28T14:28:10.943798Z",
     "iopub.status.idle": "2022-08-28T14:28:10.970618Z",
     "shell.execute_reply": "2022-08-28T14:28:10.969932Z"
    },
    "papermill": {
     "duration": 0.044944,
     "end_time": "2022-08-28T14:28:10.972591",
     "exception": false,
     "start_time": "2022-08-28T14:28:10.927647",
     "status": "completed"
    },
    "tags": []
   },
   "outputs": [
    {
     "data": {
      "text/plain": [
       "(6442, 7)"
      ]
     },
     "execution_count": 20,
     "metadata": {},
     "output_type": "execute_result"
    }
   ],
   "source": [
    "genes_info.shape"
   ]
  },
  {
   "cell_type": "code",
   "execution_count": 21,
   "id": "d16c3e92-85ec-468a-9a56-e25a9774a1cb",
   "metadata": {
    "execution": {
     "iopub.execute_input": "2022-08-28T14:28:11.000515Z",
     "iopub.status.busy": "2022-08-28T14:28:11.000259Z",
     "iopub.status.idle": "2022-08-28T14:28:11.025906Z",
     "shell.execute_reply": "2022-08-28T14:28:11.025235Z"
    },
    "papermill": {
     "duration": 0.041509,
     "end_time": "2022-08-28T14:28:11.027413",
     "exception": false,
     "start_time": "2022-08-28T14:28:10.985904",
     "status": "completed"
    },
    "tags": []
   },
   "outputs": [
    {
     "data": {
      "text/html": [
       "<div>\n",
       "<style scoped>\n",
       "    .dataframe tbody tr th:only-of-type {\n",
       "        vertical-align: middle;\n",
       "    }\n",
       "\n",
       "    .dataframe tbody tr th {\n",
       "        vertical-align: top;\n",
       "    }\n",
       "\n",
       "    .dataframe thead th {\n",
       "        text-align: right;\n",
       "    }\n",
       "</style>\n",
       "<table border=\"1\" class=\"dataframe\">\n",
       "  <thead>\n",
       "    <tr style=\"text-align: right;\">\n",
       "      <th></th>\n",
       "      <th>name</th>\n",
       "      <th>id</th>\n",
       "      <th>chr</th>\n",
       "      <th>band</th>\n",
       "      <th>start_position</th>\n",
       "      <th>end_position</th>\n",
       "      <th>gene_length</th>\n",
       "    </tr>\n",
       "  </thead>\n",
       "  <tbody>\n",
       "    <tr>\n",
       "      <th>0</th>\n",
       "      <td>SNAPC3</td>\n",
       "      <td>ENSG00000164975</td>\n",
       "      <td>9</td>\n",
       "      <td>9p22.3</td>\n",
       "      <td>15422704</td>\n",
       "      <td>15465953</td>\n",
       "      <td>43249</td>\n",
       "    </tr>\n",
       "    <tr>\n",
       "      <th>1</th>\n",
       "      <td>SEC13</td>\n",
       "      <td>ENSG00000157020</td>\n",
       "      <td>3</td>\n",
       "      <td>3p25.3</td>\n",
       "      <td>10293131</td>\n",
       "      <td>10321112</td>\n",
       "      <td>27981</td>\n",
       "    </tr>\n",
       "    <tr>\n",
       "      <th>2</th>\n",
       "      <td>PTH2R</td>\n",
       "      <td>ENSG00000144407</td>\n",
       "      <td>2</td>\n",
       "      <td>2q34</td>\n",
       "      <td>208359714</td>\n",
       "      <td>208854503</td>\n",
       "      <td>494789</td>\n",
       "    </tr>\n",
       "    <tr>\n",
       "      <th>3</th>\n",
       "      <td>MDC1</td>\n",
       "      <td>ENSG00000137337</td>\n",
       "      <td>6</td>\n",
       "      <td>6p21.33</td>\n",
       "      <td>30699807</td>\n",
       "      <td>30717447</td>\n",
       "      <td>17640</td>\n",
       "    </tr>\n",
       "    <tr>\n",
       "      <th>4</th>\n",
       "      <td>TNFRSF6B</td>\n",
       "      <td>ENSG00000243509</td>\n",
       "      <td>20</td>\n",
       "      <td>20q13.33</td>\n",
       "      <td>63696652</td>\n",
       "      <td>63698684</td>\n",
       "      <td>2032</td>\n",
       "    </tr>\n",
       "  </tbody>\n",
       "</table>\n",
       "</div>"
      ],
      "text/plain": [
       "       name               id  chr      band  start_position  end_position  \\\n",
       "0    SNAPC3  ENSG00000164975    9    9p22.3        15422704      15465953   \n",
       "1     SEC13  ENSG00000157020    3    3p25.3        10293131      10321112   \n",
       "2     PTH2R  ENSG00000144407    2      2q34       208359714     208854503   \n",
       "3      MDC1  ENSG00000137337    6   6p21.33        30699807      30717447   \n",
       "4  TNFRSF6B  ENSG00000243509   20  20q13.33        63696652      63698684   \n",
       "\n",
       "   gene_length  \n",
       "0        43249  \n",
       "1        27981  \n",
       "2       494789  \n",
       "3        17640  \n",
       "4         2032  "
      ]
     },
     "execution_count": 21,
     "metadata": {},
     "output_type": "execute_result"
    }
   ],
   "source": [
    "genes_info.head()"
   ]
  },
  {
   "cell_type": "markdown",
   "id": "d3843e06",
   "metadata": {
    "papermill": {
     "duration": 0.018951,
     "end_time": "2022-08-28T14:28:11.057255",
     "exception": false,
     "start_time": "2022-08-28T14:28:11.038304",
     "status": "completed"
    },
    "tags": []
   },
   "source": [
    "# Compute correlations"
   ]
  },
  {
   "cell_type": "code",
   "execution_count": 22,
   "id": "cb859c15-d1f3-4006-a74c-2b83c0db9611",
   "metadata": {
    "execution": {
     "iopub.execute_input": "2022-08-28T14:28:11.093530Z",
     "iopub.status.busy": "2022-08-28T14:28:11.093329Z",
     "iopub.status.idle": "2022-08-28T14:28:11.114624Z",
     "shell.execute_reply": "2022-08-28T14:28:11.113858Z"
    },
    "papermill": {
     "duration": 0.033949,
     "end_time": "2022-08-28T14:28:11.116131",
     "exception": false,
     "start_time": "2022-08-28T14:28:11.082182",
     "status": "completed"
    },
    "tags": []
   },
   "outputs": [
    {
     "data": {
      "text/plain": [
       "PosixPath('/project/ritchie20/projects/phenoplier/base/results/gls/gene_corrs/cohorts/1000g_eur/gtex_v8/mashr/by_chr/gene_corrs-chr20.pkl')"
      ]
     },
     "metadata": {},
     "output_type": "display_data"
    }
   ],
   "source": [
    "output_dir = OUTPUT_DIR_BASE / \"by_chr\"\n",
    "output_dir.mkdir(exist_ok=True, parents=True)\n",
    "output_file = output_dir / f\"gene_corrs-chr{CHROMOSOME}.pkl\"\n",
    "display(output_file)"
   ]
  },
  {
   "cell_type": "code",
   "execution_count": 23,
   "id": "aa674fe4-6794-4eed-98fa-32b39d1d4ace",
   "metadata": {
    "execution": {
     "iopub.execute_input": "2022-08-28T14:28:11.137880Z",
     "iopub.status.busy": "2022-08-28T14:28:11.137665Z",
     "iopub.status.idle": "2022-08-28T14:28:11.158713Z",
     "shell.execute_reply": "2022-08-28T14:28:11.158175Z"
    },
    "papermill": {
     "duration": 0.033857,
     "end_time": "2022-08-28T14:28:11.160221",
     "exception": false,
     "start_time": "2022-08-28T14:28:11.126364",
     "status": "completed"
    },
    "tags": []
   },
   "outputs": [],
   "source": [
    "warnings.filterwarnings(\"error\")"
   ]
  },
  {
   "cell_type": "code",
   "execution_count": 24,
   "id": "44d5450b-3baf-43f1-9e2e-4b06f1a785f8",
   "metadata": {
    "execution": {
     "iopub.execute_input": "2022-08-28T14:28:11.181209Z",
     "iopub.status.busy": "2022-08-28T14:28:11.181013Z",
     "iopub.status.idle": "2022-08-28T14:28:11.198611Z",
     "shell.execute_reply": "2022-08-28T14:28:11.197997Z"
    },
    "papermill": {
     "duration": 0.029966,
     "end_time": "2022-08-28T14:28:11.200120",
     "exception": false,
     "start_time": "2022-08-28T14:28:11.170154",
     "status": "completed"
    },
    "tags": []
   },
   "outputs": [],
   "source": [
    "# standard checks\n",
    "all_chrs = genes_info[\"chr\"].dropna().unique()\n",
    "assert all_chrs.shape[0] == 22\n",
    "\n",
    "# select chromosome given by the user\n",
    "assert CHROMOSOME in all_chrs"
   ]
  },
  {
   "cell_type": "code",
   "execution_count": 25,
   "id": "2d7c043c-92a7-4d35-991b-fa69ac1e0268",
   "metadata": {
    "execution": {
     "iopub.execute_input": "2022-08-28T14:28:11.220512Z",
     "iopub.status.busy": "2022-08-28T14:28:11.220294Z",
     "iopub.status.idle": "2022-08-28T14:28:11.272622Z",
     "shell.execute_reply": "2022-08-28T14:28:11.272075Z"
    },
    "papermill": {
     "duration": 0.0644,
     "end_time": "2022-08-28T14:28:11.274262",
     "exception": false,
     "start_time": "2022-08-28T14:28:11.209862",
     "status": "completed"
    },
    "tags": []
   },
   "outputs": [
    {
     "name": "stdout",
     "output_type": "stream",
     "text": [
      "Number of genes in chromosome: 187\n"
     ]
    }
   ],
   "source": [
    "# run only on the chromosome specified\n",
    "all_chrs = [CHROMOSOME]\n",
    "genes_chr = genes_info[genes_info[\"chr\"] == CHROMOSOME]\n",
    "\n",
    "# For testing purposes\n",
    "# genes_chr = genes_chr.sample(n=20)\n",
    "\n",
    "print(f\"Number of genes in chromosome: {genes_chr.shape[0]}\", flush=True)"
   ]
  },
  {
   "cell_type": "code",
   "execution_count": 26,
   "id": "916015d8-2979-46d3-a9b9-1cf5a0932c6a",
   "metadata": {
    "execution": {
     "iopub.execute_input": "2022-08-28T14:28:11.296003Z",
     "iopub.status.busy": "2022-08-28T14:28:11.295807Z",
     "iopub.status.idle": "2022-08-28T14:28:11.312652Z",
     "shell.execute_reply": "2022-08-28T14:28:11.311994Z"
    },
    "papermill": {
     "duration": 0.029631,
     "end_time": "2022-08-28T14:28:11.314225",
     "exception": false,
     "start_time": "2022-08-28T14:28:11.284594",
     "status": "completed"
    },
    "tags": []
   },
   "outputs": [],
   "source": [
    "# sort genes by starting position to make visualizations better later\n",
    "genes_chr = genes_chr.sort_values(\"start_position\")"
   ]
  },
  {
   "cell_type": "code",
   "execution_count": 27,
   "id": "a38aa74a-8ad3-47f6-8ef9-56be0e011774",
   "metadata": {
    "execution": {
     "iopub.execute_input": "2022-08-28T14:28:11.338675Z",
     "iopub.status.busy": "2022-08-28T14:28:11.338469Z",
     "iopub.status.idle": "2022-08-28T14:28:11.355149Z",
     "shell.execute_reply": "2022-08-28T14:28:11.354628Z"
    },
    "papermill": {
     "duration": 0.030367,
     "end_time": "2022-08-28T14:28:11.356756",
     "exception": false,
     "start_time": "2022-08-28T14:28:11.326389",
     "status": "completed"
    },
    "tags": []
   },
   "outputs": [],
   "source": [
    "gene_chr_objs = [Gene(ensembl_id=gene_id) for gene_id in genes_chr[\"id\"]]"
   ]
  },
  {
   "cell_type": "code",
   "execution_count": 28,
   "id": "570f974f-13c3-42b6-ad3a-ce99ca885c1a",
   "metadata": {
    "execution": {
     "iopub.execute_input": "2022-08-28T14:28:11.378465Z",
     "iopub.status.busy": "2022-08-28T14:28:11.378249Z",
     "iopub.status.idle": "2022-08-28T14:28:11.396533Z",
     "shell.execute_reply": "2022-08-28T14:28:11.395792Z"
    },
    "papermill": {
     "duration": 0.030804,
     "end_time": "2022-08-28T14:28:11.398043",
     "exception": false,
     "start_time": "2022-08-28T14:28:11.367239",
     "status": "completed"
    },
    "tags": []
   },
   "outputs": [
    {
     "name": "stdout",
     "output_type": "stream",
     "text": [
      "Number of gene combinations: 17391\n"
     ]
    }
   ],
   "source": [
    "n = len(gene_chr_objs)\n",
    "n_comb = int(n * (n - 1) / 2.0)\n",
    "print(f\"Number of gene combinations: {n_comb}\", flush=True)"
   ]
  },
  {
   "cell_type": "code",
   "execution_count": 29,
   "id": "cdbb90a1",
   "metadata": {
    "execution": {
     "iopub.execute_input": "2022-08-28T14:28:11.420096Z",
     "iopub.status.busy": "2022-08-28T14:28:11.419900Z",
     "iopub.status.idle": "2022-08-28T14:50:34.719324Z",
     "shell.execute_reply": "2022-08-28T14:50:34.717881Z"
    },
    "papermill": {
     "duration": 1343.314475,
     "end_time": "2022-08-28T14:50:34.723221",
     "exception": false,
     "start_time": "2022-08-28T14:28:11.408746",
     "status": "completed"
    },
    "tags": []
   },
   "outputs": [
    {
     "name": "stderr",
     "output_type": "stream",
     "text": [
      "ENSG00000125510 / ENSG00000125510: : 17578it [22:22, 13.10it/s]\n"
     ]
    },
    {
     "data": {
      "text/plain": [
       "PosixPath('/project/ritchie20/projects/phenoplier/base/results/gls/gene_corrs/cohorts/1000g_eur/gtex_v8/mashr/by_chr/gene_corrs-chr20.pkl')"
      ]
     },
     "metadata": {},
     "output_type": "display_data"
    }
   ],
   "source": [
    "gene_corrs = []\n",
    "gene_corrs_data = np.full(\n",
    "    (n, n),\n",
    "    np.nan,\n",
    "    dtype=np.float64,\n",
    ")\n",
    "\n",
    "i = 0\n",
    "with tqdm(ncols=100, total=n_comb) as pbar:\n",
    "    for gene1_idx in range(0, len(gene_chr_objs)):\n",
    "        gene1_obj = gene_chr_objs[gene1_idx]\n",
    "        gene1_tissues = spredixcan_genes_models.loc[gene1_obj.ensembl_id, \"tissue\"]\n",
    "\n",
    "        for gene2_idx in range(gene1_idx, len(gene_chr_objs)):\n",
    "            gene2_obj = gene_chr_objs[gene2_idx]\n",
    "            gene2_tissues = spredixcan_genes_models.loc[gene2_obj.ensembl_id, \"tissue\"]\n",
    "\n",
    "            pbar.set_description(f\"{gene1_obj.ensembl_id} / {gene2_obj.ensembl_id}\")\n",
    "\n",
    "            try:\n",
    "                r = gene1_obj.get_ssm_correlation(\n",
    "                    other_gene=gene2_obj,\n",
    "                    tissues=gene1_tissues,\n",
    "                    other_tissues=gene2_tissues,\n",
    "                    snps_subset=gwas_variants_ids_set,\n",
    "                    condition_number=SMULTIXCAN_CONDITION_NUMBER,\n",
    "                    reference_panel=REFERENCE_PANEL,\n",
    "                    model_type=EQTL_MODEL,\n",
    "                    use_within_distance=COMPUTE_CORRELATIONS_WITHIN_DISTANCE,\n",
    "                )\n",
    "\n",
    "                if r is None:\n",
    "                    # if r is None, it's very likely because:\n",
    "                    #  * one of the genes has no prediction models\n",
    "                    #  * all the SNPs predictors for the gene are not present in the reference\n",
    "                    #    panel\n",
    "\n",
    "                    r = 0.0\n",
    "\n",
    "                gene_corrs.append(r)\n",
    "\n",
    "                gene_corrs_data[gene1_idx, gene2_idx] = r\n",
    "                gene_corrs_data[gene2_idx, gene1_idx] = r\n",
    "            except Warning as e:\n",
    "                if not DEBUG_MODE:\n",
    "                    raise e\n",
    "\n",
    "                print(\n",
    "                    f\"RuntimeWarning for genes {gene1_obj.ensembl_id} and {gene2_obj.ensembl_id}\",\n",
    "                    flush=True,\n",
    "                )\n",
    "                print(traceback.format_exc(), flush=True)\n",
    "\n",
    "                gene_corrs.append(np.nan)\n",
    "            except Exception as e:\n",
    "                if not DEBUG_MODE:\n",
    "                    raise e\n",
    "\n",
    "                print(\n",
    "                    f\"Exception for genes {gene1_obj.ensembl_id} and {gene2_obj.ensembl_id}\",\n",
    "                    flush=True,\n",
    "                )\n",
    "                print(traceback.format_exc(), flush=True)\n",
    "\n",
    "                gene_corrs.append(np.nan)\n",
    "\n",
    "            pbar.update(1)\n",
    "\n",
    "# create a pandas series\n",
    "gene_corrs_flat = pd.Series(gene_corrs)\n",
    "\n",
    "# save\n",
    "# FIXME: consider saving only the condenced matrix here. See here for\n",
    "# more details: https://github.com/greenelab/phenoplier/pull/38#discussion_r634600813\n",
    "# gene_corrs_data = squareform(np.array(gene_corrs, dtype=np.float64))\n",
    "# np.fill_diagonal(gene_corrs_data, 1.0)\n",
    "\n",
    "gene_chr_ids = [g.ensembl_id for g in gene_chr_objs]\n",
    "gene_corrs_df = pd.DataFrame(\n",
    "    data=gene_corrs_data,\n",
    "    index=gene_chr_ids,\n",
    "    columns=gene_chr_ids,\n",
    ")\n",
    "\n",
    "output_dir.mkdir(exist_ok=True, parents=True)\n",
    "display(output_file)\n",
    "\n",
    "gene_corrs_df.to_pickle(output_file)"
   ]
  },
  {
   "cell_type": "markdown",
   "id": "faa67b51-5373-470f-aa72-2ded53fa6dfe",
   "metadata": {
    "papermill": {
     "duration": 0.979998,
     "end_time": "2022-08-28T14:50:36.728713",
     "exception": false,
     "start_time": "2022-08-28T14:50:35.748715",
     "status": "completed"
    },
    "tags": []
   },
   "source": [
    "# Testing"
   ]
  },
  {
   "cell_type": "code",
   "execution_count": 30,
   "id": "14f7d046-4b55-4896-a56b-990127bcc388",
   "metadata": {
    "execution": {
     "iopub.execute_input": "2022-08-28T14:50:38.691505Z",
     "iopub.status.busy": "2022-08-28T14:50:38.691201Z",
     "iopub.status.idle": "2022-08-28T14:50:38.972183Z",
     "shell.execute_reply": "2022-08-28T14:50:38.971206Z"
    },
    "papermill": {
     "duration": 1.25178,
     "end_time": "2022-08-28T14:50:38.974901",
     "exception": false,
     "start_time": "2022-08-28T14:50:37.723121",
     "status": "completed"
    },
    "tags": []
   },
   "outputs": [
    {
     "data": {
      "text/plain": [
       "(187, 187)"
      ]
     },
     "execution_count": 30,
     "metadata": {},
     "output_type": "execute_result"
    }
   ],
   "source": [
    "gene_corrs_df.shape"
   ]
  },
  {
   "cell_type": "code",
   "execution_count": 31,
   "id": "c7d15414-3297-4537-a7c6-7588c0baeb75",
   "metadata": {
    "execution": {
     "iopub.execute_input": "2022-08-28T14:50:40.947454Z",
     "iopub.status.busy": "2022-08-28T14:50:40.947167Z",
     "iopub.status.idle": "2022-08-28T14:50:40.987871Z",
     "shell.execute_reply": "2022-08-28T14:50:40.987331Z"
    },
    "papermill": {
     "duration": 1.012092,
     "end_time": "2022-08-28T14:50:40.989318",
     "exception": false,
     "start_time": "2022-08-28T14:50:39.977226",
     "status": "completed"
    },
    "tags": []
   },
   "outputs": [
    {
     "data": {
      "text/html": [
       "<div>\n",
       "<style scoped>\n",
       "    .dataframe tbody tr th:only-of-type {\n",
       "        vertical-align: middle;\n",
       "    }\n",
       "\n",
       "    .dataframe tbody tr th {\n",
       "        vertical-align: top;\n",
       "    }\n",
       "\n",
       "    .dataframe thead th {\n",
       "        text-align: right;\n",
       "    }\n",
       "</style>\n",
       "<table border=\"1\" class=\"dataframe\">\n",
       "  <thead>\n",
       "    <tr style=\"text-align: right;\">\n",
       "      <th></th>\n",
       "      <th>ENSG00000101255</th>\n",
       "      <th>ENSG00000125826</th>\n",
       "      <th>ENSG00000101266</th>\n",
       "      <th>ENSG00000101280</th>\n",
       "      <th>ENSG00000125818</th>\n",
       "      <th>ENSG00000101298</th>\n",
       "      <th>ENSG00000088832</th>\n",
       "      <th>ENSG00000101307</th>\n",
       "      <th>ENSG00000089012</th>\n",
       "      <th>ENSG00000198053</th>\n",
       "      <th>...</th>\n",
       "      <th>ENSG00000092758</th>\n",
       "      <th>ENSG00000101191</th>\n",
       "      <th>ENSG00000101199</th>\n",
       "      <th>ENSG00000243509</th>\n",
       "      <th>ENSG00000203896</th>\n",
       "      <th>ENSG00000101152</th>\n",
       "      <th>ENSG00000198276</th>\n",
       "      <th>ENSG00000101161</th>\n",
       "      <th>ENSG00000171700</th>\n",
       "      <th>ENSG00000125510</th>\n",
       "    </tr>\n",
       "  </thead>\n",
       "  <tbody>\n",
       "    <tr>\n",
       "      <th>ENSG00000101255</th>\n",
       "      <td>1.000000</td>\n",
       "      <td>0.060890</td>\n",
       "      <td>0.017767</td>\n",
       "      <td>0.006848</td>\n",
       "      <td>0.001665</td>\n",
       "      <td>0.008264</td>\n",
       "      <td>0.004312</td>\n",
       "      <td>0.001363</td>\n",
       "      <td>0.003985</td>\n",
       "      <td>0.006856</td>\n",
       "      <td>...</td>\n",
       "      <td>0.007001</td>\n",
       "      <td>0.006527</td>\n",
       "      <td>0.003598</td>\n",
       "      <td>0.003637</td>\n",
       "      <td>0.004460</td>\n",
       "      <td>0.004138</td>\n",
       "      <td>0.004843</td>\n",
       "      <td>0.002018</td>\n",
       "      <td>0.006384</td>\n",
       "      <td>0.006945</td>\n",
       "    </tr>\n",
       "    <tr>\n",
       "      <th>ENSG00000125826</th>\n",
       "      <td>0.060890</td>\n",
       "      <td>1.000000</td>\n",
       "      <td>0.059804</td>\n",
       "      <td>0.009671</td>\n",
       "      <td>0.001098</td>\n",
       "      <td>0.008286</td>\n",
       "      <td>0.008844</td>\n",
       "      <td>0.005670</td>\n",
       "      <td>0.004607</td>\n",
       "      <td>0.007537</td>\n",
       "      <td>...</td>\n",
       "      <td>0.016202</td>\n",
       "      <td>0.004381</td>\n",
       "      <td>0.003153</td>\n",
       "      <td>0.008969</td>\n",
       "      <td>0.011099</td>\n",
       "      <td>0.005297</td>\n",
       "      <td>0.010397</td>\n",
       "      <td>0.004811</td>\n",
       "      <td>0.004526</td>\n",
       "      <td>0.006186</td>\n",
       "    </tr>\n",
       "    <tr>\n",
       "      <th>ENSG00000101266</th>\n",
       "      <td>0.017767</td>\n",
       "      <td>0.059804</td>\n",
       "      <td>1.000000</td>\n",
       "      <td>0.013558</td>\n",
       "      <td>0.007299</td>\n",
       "      <td>0.008606</td>\n",
       "      <td>0.004531</td>\n",
       "      <td>0.003558</td>\n",
       "      <td>0.006842</td>\n",
       "      <td>0.009198</td>\n",
       "      <td>...</td>\n",
       "      <td>0.010541</td>\n",
       "      <td>0.004541</td>\n",
       "      <td>0.005871</td>\n",
       "      <td>0.010686</td>\n",
       "      <td>0.005084</td>\n",
       "      <td>0.005603</td>\n",
       "      <td>0.007585</td>\n",
       "      <td>0.003302</td>\n",
       "      <td>0.002549</td>\n",
       "      <td>0.005166</td>\n",
       "    </tr>\n",
       "    <tr>\n",
       "      <th>ENSG00000101280</th>\n",
       "      <td>0.006848</td>\n",
       "      <td>0.009671</td>\n",
       "      <td>0.013558</td>\n",
       "      <td>1.000000</td>\n",
       "      <td>0.002424</td>\n",
       "      <td>0.013497</td>\n",
       "      <td>0.010529</td>\n",
       "      <td>0.006470</td>\n",
       "      <td>0.007434</td>\n",
       "      <td>0.009474</td>\n",
       "      <td>...</td>\n",
       "      <td>0.010156</td>\n",
       "      <td>0.006206</td>\n",
       "      <td>0.009392</td>\n",
       "      <td>0.013101</td>\n",
       "      <td>0.006206</td>\n",
       "      <td>0.003421</td>\n",
       "      <td>0.010968</td>\n",
       "      <td>0.009519</td>\n",
       "      <td>0.003310</td>\n",
       "      <td>0.003093</td>\n",
       "    </tr>\n",
       "    <tr>\n",
       "      <th>ENSG00000125818</th>\n",
       "      <td>0.001665</td>\n",
       "      <td>0.001098</td>\n",
       "      <td>0.007299</td>\n",
       "      <td>0.002424</td>\n",
       "      <td>1.000000</td>\n",
       "      <td>0.009390</td>\n",
       "      <td>0.014527</td>\n",
       "      <td>0.000604</td>\n",
       "      <td>0.005739</td>\n",
       "      <td>0.003763</td>\n",
       "      <td>...</td>\n",
       "      <td>0.008907</td>\n",
       "      <td>0.002832</td>\n",
       "      <td>0.001146</td>\n",
       "      <td>0.007084</td>\n",
       "      <td>0.002838</td>\n",
       "      <td>0.002040</td>\n",
       "      <td>0.003925</td>\n",
       "      <td>0.004944</td>\n",
       "      <td>0.000403</td>\n",
       "      <td>0.000381</td>\n",
       "    </tr>\n",
       "  </tbody>\n",
       "</table>\n",
       "<p>5 rows × 187 columns</p>\n",
       "</div>"
      ],
      "text/plain": [
       "                 ENSG00000101255  ENSG00000125826  ENSG00000101266  \\\n",
       "ENSG00000101255         1.000000         0.060890         0.017767   \n",
       "ENSG00000125826         0.060890         1.000000         0.059804   \n",
       "ENSG00000101266         0.017767         0.059804         1.000000   \n",
       "ENSG00000101280         0.006848         0.009671         0.013558   \n",
       "ENSG00000125818         0.001665         0.001098         0.007299   \n",
       "\n",
       "                 ENSG00000101280  ENSG00000125818  ENSG00000101298  \\\n",
       "ENSG00000101255         0.006848         0.001665         0.008264   \n",
       "ENSG00000125826         0.009671         0.001098         0.008286   \n",
       "ENSG00000101266         0.013558         0.007299         0.008606   \n",
       "ENSG00000101280         1.000000         0.002424         0.013497   \n",
       "ENSG00000125818         0.002424         1.000000         0.009390   \n",
       "\n",
       "                 ENSG00000088832  ENSG00000101307  ENSG00000089012  \\\n",
       "ENSG00000101255         0.004312         0.001363         0.003985   \n",
       "ENSG00000125826         0.008844         0.005670         0.004607   \n",
       "ENSG00000101266         0.004531         0.003558         0.006842   \n",
       "ENSG00000101280         0.010529         0.006470         0.007434   \n",
       "ENSG00000125818         0.014527         0.000604         0.005739   \n",
       "\n",
       "                 ENSG00000198053  ...  ENSG00000092758  ENSG00000101191  \\\n",
       "ENSG00000101255         0.006856  ...         0.007001         0.006527   \n",
       "ENSG00000125826         0.007537  ...         0.016202         0.004381   \n",
       "ENSG00000101266         0.009198  ...         0.010541         0.004541   \n",
       "ENSG00000101280         0.009474  ...         0.010156         0.006206   \n",
       "ENSG00000125818         0.003763  ...         0.008907         0.002832   \n",
       "\n",
       "                 ENSG00000101199  ENSG00000243509  ENSG00000203896  \\\n",
       "ENSG00000101255         0.003598         0.003637         0.004460   \n",
       "ENSG00000125826         0.003153         0.008969         0.011099   \n",
       "ENSG00000101266         0.005871         0.010686         0.005084   \n",
       "ENSG00000101280         0.009392         0.013101         0.006206   \n",
       "ENSG00000125818         0.001146         0.007084         0.002838   \n",
       "\n",
       "                 ENSG00000101152  ENSG00000198276  ENSG00000101161  \\\n",
       "ENSG00000101255         0.004138         0.004843         0.002018   \n",
       "ENSG00000125826         0.005297         0.010397         0.004811   \n",
       "ENSG00000101266         0.005603         0.007585         0.003302   \n",
       "ENSG00000101280         0.003421         0.010968         0.009519   \n",
       "ENSG00000125818         0.002040         0.003925         0.004944   \n",
       "\n",
       "                 ENSG00000171700  ENSG00000125510  \n",
       "ENSG00000101255         0.006384         0.006945  \n",
       "ENSG00000125826         0.004526         0.006186  \n",
       "ENSG00000101266         0.002549         0.005166  \n",
       "ENSG00000101280         0.003310         0.003093  \n",
       "ENSG00000125818         0.000403         0.000381  \n",
       "\n",
       "[5 rows x 187 columns]"
      ]
     },
     "execution_count": 31,
     "metadata": {},
     "output_type": "execute_result"
    }
   ],
   "source": [
    "gene_corrs_df.head()"
   ]
  },
  {
   "cell_type": "markdown",
   "id": "dad6603f-01c6-41fb-a6f6-241051207dd8",
   "metadata": {
    "papermill": {
     "duration": 0.962851,
     "end_time": "2022-08-28T14:50:42.936518",
     "exception": false,
     "start_time": "2022-08-28T14:50:41.973667",
     "status": "completed"
    },
    "tags": []
   },
   "source": [
    "## Standard checks and stats"
   ]
  },
  {
   "cell_type": "code",
   "execution_count": 32,
   "id": "286686af-1b7b-4440-8453-6bdcbd8de19c",
   "metadata": {
    "execution": {
     "iopub.execute_input": "2022-08-28T14:50:44.922941Z",
     "iopub.status.busy": "2022-08-28T14:50:44.922662Z",
     "iopub.status.idle": "2022-08-28T14:50:44.943357Z",
     "shell.execute_reply": "2022-08-28T14:50:44.942760Z"
    },
    "papermill": {
     "duration": 1.024865,
     "end_time": "2022-08-28T14:50:44.944959",
     "exception": false,
     "start_time": "2022-08-28T14:50:43.920094",
     "status": "completed"
    },
    "tags": []
   },
   "outputs": [],
   "source": [
    "assert not gene_corrs_df.isna().any().any()"
   ]
  },
  {
   "cell_type": "code",
   "execution_count": 33,
   "id": "00583efc-7068-4270-ad1e-4a418e91db96",
   "metadata": {
    "execution": {
     "iopub.execute_input": "2022-08-28T14:50:46.885987Z",
     "iopub.status.busy": "2022-08-28T14:50:46.885709Z",
     "iopub.status.idle": "2022-08-28T14:50:46.909188Z",
     "shell.execute_reply": "2022-08-28T14:50:46.908678Z"
    },
    "papermill": {
     "duration": 0.991911,
     "end_time": "2022-08-28T14:50:46.910666",
     "exception": false,
     "start_time": "2022-08-28T14:50:45.918755",
     "status": "completed"
    },
    "tags": []
   },
   "outputs": [
    {
     "data": {
      "text/plain": [
       "2.5794161085216264e-07"
      ]
     },
     "metadata": {},
     "output_type": "display_data"
    }
   ],
   "source": [
    "_min_val = gene_corrs_df.min().min()\n",
    "display(_min_val)\n",
    "assert _min_val >= -0.05"
   ]
  },
  {
   "cell_type": "code",
   "execution_count": 34,
   "id": "d04fb2cf-1050-475b-b855-f5f7cc04092b",
   "metadata": {
    "execution": {
     "iopub.execute_input": "2022-08-28T14:50:48.891760Z",
     "iopub.status.busy": "2022-08-28T14:50:48.891474Z",
     "iopub.status.idle": "2022-08-28T14:50:48.913611Z",
     "shell.execute_reply": "2022-08-28T14:50:48.913081Z"
    },
    "papermill": {
     "duration": 0.996199,
     "end_time": "2022-08-28T14:50:48.915209",
     "exception": false,
     "start_time": "2022-08-28T14:50:47.919010",
     "status": "completed"
    },
    "tags": []
   },
   "outputs": [
    {
     "data": {
      "text/plain": [
       "1.0000000000000029"
      ]
     },
     "metadata": {},
     "output_type": "display_data"
    }
   ],
   "source": [
    "_max_val = gene_corrs_df.max().max()  # this captures the diagonal\n",
    "display(_max_val)\n",
    "assert _max_val <= 1.05"
   ]
  },
  {
   "cell_type": "code",
   "execution_count": 35,
   "id": "96d02c44-1fba-47be-8a93-8f2608420b9c",
   "metadata": {
    "execution": {
     "iopub.execute_input": "2022-08-28T14:50:50.857419Z",
     "iopub.status.busy": "2022-08-28T14:50:50.857158Z",
     "iopub.status.idle": "2022-08-28T14:50:50.877155Z",
     "shell.execute_reply": "2022-08-28T14:50:50.876388Z"
    },
    "papermill": {
     "duration": 0.995174,
     "end_time": "2022-08-28T14:50:50.878762",
     "exception": false,
     "start_time": "2022-08-28T14:50:49.883588",
     "status": "completed"
    },
    "tags": []
   },
   "outputs": [],
   "source": [
    "# check upper triangular values\n",
    "# assert len(gene_corrs) == int(genes_chr.shape[0] * (genes_chr.shape[0] - 1) / 2)"
   ]
  },
  {
   "cell_type": "code",
   "execution_count": 36,
   "id": "fe283586-c348-40e0-8841-f6d97bfb021c",
   "metadata": {
    "execution": {
     "iopub.execute_input": "2022-08-28T14:50:52.849223Z",
     "iopub.status.busy": "2022-08-28T14:50:52.848962Z",
     "iopub.status.idle": "2022-08-28T14:50:52.916267Z",
     "shell.execute_reply": "2022-08-28T14:50:52.915758Z"
    },
    "papermill": {
     "duration": 1.043905,
     "end_time": "2022-08-28T14:50:52.917823",
     "exception": false,
     "start_time": "2022-08-28T14:50:51.873918",
     "status": "completed"
    },
    "tags": []
   },
   "outputs": [
    {
     "data": {
      "text/plain": [
       "count    1.757800e+04\n",
       "mean     2.088548e-02\n",
       "std      1.093815e-01\n",
       "min      2.579416e-07\n",
       "25%      3.769200e-03\n",
       "50%      5.901192e-03\n",
       "75%      8.559026e-03\n",
       "max      1.000000e+00\n",
       "dtype: float64"
      ]
     },
     "execution_count": 36,
     "metadata": {},
     "output_type": "execute_result"
    }
   ],
   "source": [
    "gene_corrs_flat.describe()"
   ]
  },
  {
   "cell_type": "code",
   "execution_count": 37,
   "id": "b3815678-0f93-4b35-897b-a9d047a2aa78",
   "metadata": {
    "execution": {
     "iopub.execute_input": "2022-08-28T14:50:54.917726Z",
     "iopub.status.busy": "2022-08-28T14:50:54.917459Z",
     "iopub.status.idle": "2022-08-28T14:50:54.945331Z",
     "shell.execute_reply": "2022-08-28T14:50:54.944843Z"
    },
    "papermill": {
     "duration": 1.013196,
     "end_time": "2022-08-28T14:50:54.946831",
     "exception": false,
     "start_time": "2022-08-28T14:50:53.933635",
     "status": "completed"
    },
    "tags": []
   },
   "outputs": [
    {
     "data": {
      "text/plain": [
       "0.00    2.579416e-07\n",
       "0.05    1.466998e-03\n",
       "0.10    2.239162e-03\n",
       "0.15    2.819386e-03\n",
       "0.20    3.291687e-03\n",
       "0.25    3.769200e-03\n",
       "0.30    4.196956e-03\n",
       "0.35    4.630687e-03\n",
       "0.40    5.045039e-03\n",
       "0.45    5.475231e-03\n",
       "0.50    5.901192e-03\n",
       "0.55    6.354457e-03\n",
       "0.60    6.865519e-03\n",
       "0.65    7.414060e-03\n",
       "0.70    7.956720e-03\n",
       "0.75    8.559026e-03\n",
       "0.80    9.320427e-03\n",
       "0.85    1.022728e-02\n",
       "0.90    1.155660e-02\n",
       "0.95    1.442536e-02\n",
       "dtype: float64"
      ]
     },
     "metadata": {},
     "output_type": "display_data"
    }
   ],
   "source": [
    "gene_corrs_quantiles = gene_corrs_flat.quantile(np.arange(0, 1, 0.05))\n",
    "display(gene_corrs_quantiles)"
   ]
  },
  {
   "cell_type": "markdown",
   "id": "87134509-b145-4a10-8bc9-b7e914c2b0fa",
   "metadata": {
    "papermill": {
     "duration": 0.968297,
     "end_time": "2022-08-28T14:50:56.889550",
     "exception": false,
     "start_time": "2022-08-28T14:50:55.921253",
     "status": "completed"
    },
    "tags": []
   },
   "source": [
    "## Positive definiteness"
   ]
  },
  {
   "cell_type": "code",
   "execution_count": 38,
   "id": "07d9a9a1-a4f7-48aa-b916-6d42a8cc6186",
   "metadata": {
    "execution": {
     "iopub.execute_input": "2022-08-28T14:50:58.835620Z",
     "iopub.status.busy": "2022-08-28T14:50:58.835317Z",
     "iopub.status.idle": "2022-08-28T14:50:58.866738Z",
     "shell.execute_reply": "2022-08-28T14:50:58.866198Z"
    },
    "papermill": {
     "duration": 1.005178,
     "end_time": "2022-08-28T14:50:58.868188",
     "exception": false,
     "start_time": "2022-08-28T14:50:57.863010",
     "status": "completed"
    },
    "tags": []
   },
   "outputs": [
    {
     "data": {
      "text/plain": [
       "0"
      ]
     },
     "metadata": {},
     "output_type": "display_data"
    },
    {
     "data": {
      "text/plain": [
       "array([], dtype=float64)"
      ]
     },
     "metadata": {},
     "output_type": "display_data"
    }
   ],
   "source": [
    "# print negative eigenvalues\n",
    "eigs = np.linalg.eigvals(gene_corrs_df.to_numpy())\n",
    "display(len(eigs[eigs < 0]))\n",
    "display(eigs[eigs < 0])"
   ]
  },
  {
   "cell_type": "code",
   "execution_count": 39,
   "id": "6e218436-c3c5-4028-8c94-a4fa6260efce",
   "metadata": {
    "execution": {
     "iopub.execute_input": "2022-08-28T14:51:00.818388Z",
     "iopub.status.busy": "2022-08-28T14:51:00.818129Z",
     "iopub.status.idle": "2022-08-28T14:51:00.842251Z",
     "shell.execute_reply": "2022-08-28T14:51:00.841745Z"
    },
    "papermill": {
     "duration": 0.993644,
     "end_time": "2022-08-28T14:51:00.843858",
     "exception": false,
     "start_time": "2022-08-28T14:50:59.850214",
     "status": "completed"
    },
    "tags": []
   },
   "outputs": [
    {
     "name": "stdout",
     "output_type": "stream",
     "text": [
      "Works!\n"
     ]
    }
   ],
   "source": [
    "try:\n",
    "    chol_mat = np.linalg.cholesky(gene_corrs_df.to_numpy())\n",
    "    cov_inv = np.linalg.inv(chol_mat)\n",
    "    print(\"Works!\")\n",
    "except Exception as e:\n",
    "    print(f\"Cholesky decomposition failed: {str(e)}\")"
   ]
  },
  {
   "cell_type": "code",
   "execution_count": 40,
   "id": "dd8827fb-faf9-4c7c-9454-015e94752706",
   "metadata": {
    "execution": {
     "iopub.execute_input": "2022-08-28T14:51:02.835081Z",
     "iopub.status.busy": "2022-08-28T14:51:02.834821Z",
     "iopub.status.idle": "2022-08-28T14:51:02.998694Z",
     "shell.execute_reply": "2022-08-28T14:51:02.998159Z"
    },
    "papermill": {
     "duration": 1.139057,
     "end_time": "2022-08-28T14:51:03.000181",
     "exception": false,
     "start_time": "2022-08-28T14:51:01.861124",
     "status": "completed"
    },
    "tags": []
   },
   "outputs": [
    {
     "name": "stdout",
     "output_type": "stream",
     "text": [
      "Works!\n"
     ]
    }
   ],
   "source": [
    "try:\n",
    "    # decomposition used by statsmodels.GLS\n",
    "    cholsigmainv = np.linalg.cholesky(np.linalg.inv(gene_corrs_df.to_numpy())).T\n",
    "    print(\"Works!\")\n",
    "except Exception as e:\n",
    "    print(f\"Cholesky decomposition failed (statsmodels.GLS): {str(e)}\")"
   ]
  },
  {
   "cell_type": "markdown",
   "id": "8e60a080-edb2-4e9c-b2ef-22961693200c",
   "metadata": {
    "papermill": {
     "duration": 0.960279,
     "end_time": "2022-08-28T14:51:04.925115",
     "exception": false,
     "start_time": "2022-08-28T14:51:03.964836",
     "status": "completed"
    },
    "tags": []
   },
   "source": [
    "## Plot: distribution"
   ]
  },
  {
   "cell_type": "code",
   "execution_count": 41,
   "id": "8301126b-a7d4-4744-9c7d-f0f86eb6f54c",
   "metadata": {
    "execution": {
     "iopub.execute_input": "2022-08-28T14:51:06.888640Z",
     "iopub.status.busy": "2022-08-28T14:51:06.888349Z",
     "iopub.status.idle": "2022-08-28T14:51:12.134692Z",
     "shell.execute_reply": "2022-08-28T14:51:12.134142Z"
    },
    "papermill": {
     "duration": 6.246785,
     "end_time": "2022-08-28T14:51:12.136347",
     "exception": false,
     "start_time": "2022-08-28T14:51:05.889562",
     "status": "completed"
    },
    "tags": []
   },
   "outputs": [
    {
     "data": {
      "image/png": "[encoded data removed]",
      "text/plain": [
       "<Figure size 504x504 with 1 Axes>"
      ]
     },
     "metadata": {
      "needs_background": "light"
     },
     "output_type": "display_data"
    }
   ],
   "source": [
    "with sns.plotting_context(\"paper\", font_scale=1.5):\n",
    "    g = sns.displot(gene_corrs_flat, kde=True, height=7)\n",
    "    g.ax.set_title(\n",
    "        f\"Distribution of gene correlation values in chromosome {CHROMOSOME}\"\n",
    "    )"
   ]
  },
  {
   "cell_type": "markdown",
   "id": "cbd52bca-d878-4a2f-b684-5c83aa3038d4",
   "metadata": {
    "papermill": {
     "duration": 0.98907,
     "end_time": "2022-08-28T14:51:14.089497",
     "exception": false,
     "start_time": "2022-08-28T14:51:13.100427",
     "status": "completed"
    },
    "tags": []
   },
   "source": [
    "## Plot: heatmap"
   ]
  },
  {
   "cell_type": "code",
   "execution_count": 42,
   "id": "d03fe63a-c7b2-4fb9-a53c-db362ce843c9",
   "metadata": {
    "execution": {
     "iopub.execute_input": "2022-08-28T14:51:16.056864Z",
     "iopub.status.busy": "2022-08-28T14:51:16.056580Z",
     "iopub.status.idle": "2022-08-28T14:51:16.106760Z",
     "shell.execute_reply": "2022-08-28T14:51:16.105953Z"
    },
    "papermill": {
     "duration": 1.015587,
     "end_time": "2022-08-28T14:51:16.108329",
     "exception": false,
     "start_time": "2022-08-28T14:51:15.092742",
     "status": "completed"
    },
    "tags": []
   },
   "outputs": [
    {
     "data": {
      "text/plain": [
       "'0.0 / 0.05'"
      ]
     },
     "metadata": {},
     "output_type": "display_data"
    }
   ],
   "source": [
    "vmin_val = min(0.00, gene_corrs_quantiles[0.10])\n",
    "vmax_val = max(0.05, gene_corrs_quantiles[0.90])\n",
    "display(f\"{vmin_val} / {vmax_val}\")"
   ]
  },
  {
   "cell_type": "code",
   "execution_count": 43,
   "id": "dc41b70b-5bcc-4d9e-9f33-a22c4a94dab5",
   "metadata": {
    "execution": {
     "iopub.execute_input": "2022-08-28T14:51:18.039692Z",
     "iopub.status.busy": "2022-08-28T14:51:18.039398Z",
     "iopub.status.idle": "2022-08-28T14:51:18.274156Z",
     "shell.execute_reply": "2022-08-28T14:51:18.273652Z"
    },
    "papermill": {
     "duration": 1.211732,
     "end_time": "2022-08-28T14:51:18.275736",
     "exception": false,
     "start_time": "2022-08-28T14:51:17.064004",
     "status": "completed"
    },
    "tags": []
   },
   "outputs": [
    {
     "data": {
      "text/plain": [
       "Text(0.5, 1.0, 'Gene correlations in chromosome 20')"
      ]
     },
     "execution_count": 43,
     "metadata": {},
     "output_type": "execute_result"
    },
    {
     "data": {
      "image/png": "[encoded data removed]",
      "text/plain": [
       "<Figure size 720x720 with 2 Axes>"
      ]
     },
     "metadata": {
      "needs_background": "light"
     },
     "output_type": "display_data"
    }
   ],
   "source": [
    "f, ax = plt.subplots(figsize=(10, 10))\n",
    "sns.heatmap(\n",
    "    gene_corrs_df,\n",
    "    xticklabels=False,\n",
    "    yticklabels=False,\n",
    "    square=True,\n",
    "    vmin=vmin_val,\n",
    "    vmax=vmax_val,\n",
    "    cmap=\"rocket_r\",\n",
    "    ax=ax,\n",
    ")\n",
    "ax.set_title(f\"Gene correlations in chromosome {CHROMOSOME}\")"
   ]
  },
  {
   "cell_type": "code",
   "execution_count": null,
   "id": "b25e3ead",
   "metadata": {
    "papermill": {
     "duration": 0.967852,
     "end_time": "2022-08-28T14:51:20.234651",
     "exception": false,
     "start_time": "2022-08-28T14:51:19.266799",
     "status": "completed"
    },
    "tags": []
   },
   "outputs": [],
   "source": []
  }
 ],
 "metadata": {
  "jupytext": {
   "cell_metadata_filter": "all,-execution,-papermill,-trusted",
   "formats": "ipynb,py//py:percent"
  },
  "kernelspec": {
   "display_name": "Python 3 (ipykernel)",
   "language": "python",
   "name": "python3"
  },
  "language_info": {
   "codemirror_mode": {
    "name": "ipython",
    "version": 3
   },
   "file_extension": ".py",
   "mimetype": "text/x-python",
   "name": "python",
   "nbconvert_exporter": "python",
   "pygments_lexer": "ipython3",
   "version": "3.8.13"
  },
  "papermill": {
   "default_parameters": {},
   "duration": 1406.654414,
   "end_time": "2022-08-28T14:51:23.861851",
   "environment_variables": {},
   "exception": null,
   "input_path": "nbs/15_gsa_gls/10-gene_expr_correlations.ipynb",
   "output_path": "nbs/15_gsa_gls/gene_corrs/cohorts/1000g_eur/gtex_v8/mashr/10-gene_expr_corrs/10-gene_expr_correlations-chr20.run.ipynb",
   "parameters": {
    "CHROMOSOME": 20,
    "COHORT_NAME": "1000g_eur",
    "EQTL_MODEL": "MASHR",
    "REFERENCE_PANEL": "GTEX_V8"
   },
   "start_time": "2022-08-28T14:27:57.207437",
   "version": "2.2.2"
  }
 },
 "nbformat": 4,
 "nbformat_minor": 5
}
