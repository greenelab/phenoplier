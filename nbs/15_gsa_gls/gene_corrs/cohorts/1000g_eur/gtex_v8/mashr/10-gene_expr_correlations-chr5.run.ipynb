{
 "cells": [
  {
   "cell_type": "markdown",
   "id": "7a6632fb",
   "metadata": {
    "papermill": {
     "duration": 0.006705,
     "end_time": "2022-08-08T04:57:17.578761",
     "exception": false,
     "start_time": "2022-08-08T04:57:17.572056",
     "status": "completed"
    },
    "tags": []
   },
   "source": [
    "# Description"
   ]
  },
  {
   "cell_type": "markdown",
   "id": "7097c346",
   "metadata": {
    "papermill": {
     "duration": 0.0066,
     "end_time": "2022-08-08T04:57:17.591915",
     "exception": false,
     "start_time": "2022-08-08T04:57:17.585315",
     "status": "completed"
    },
    "tags": []
   },
   "source": [
    "(Please, take a look at the README.md file in this directory for instructions on how to run this notebook)\n",
    "\n",
    "This notebook computes predicted expression correlations between all genes in the MultiPLIER models.\n",
    "\n",
    "It also has a parameter set for papermill to run on a single chromosome to run in parallel (see under `Settings` below).\n",
    "\n",
    "This notebook is not directly run. See README.md."
   ]
  },
  {
   "cell_type": "markdown",
   "id": "c61d8427",
   "metadata": {
    "papermill": {
     "duration": 0.0053,
     "end_time": "2022-08-08T04:57:17.602799",
     "exception": false,
     "start_time": "2022-08-08T04:57:17.597499",
     "status": "completed"
    },
    "tags": []
   },
   "source": [
    "# Modules"
   ]
  },
  {
   "cell_type": "code",
   "execution_count": 1,
   "id": "bbc0234f",
   "metadata": {
    "execution": {
     "iopub.execute_input": "2022-08-08T04:57:17.615268Z",
     "iopub.status.busy": "2022-08-08T04:57:17.615080Z",
     "iopub.status.idle": "2022-08-08T04:57:17.630690Z",
     "shell.execute_reply": "2022-08-08T04:57:17.630298Z"
    },
    "papermill": {
     "duration": 0.023283,
     "end_time": "2022-08-08T04:57:17.632201",
     "exception": false,
     "start_time": "2022-08-08T04:57:17.608918",
     "status": "completed"
    },
    "tags": []
   },
   "outputs": [],
   "source": [
    "%load_ext autoreload\n",
    "%autoreload 2"
   ]
  },
  {
   "cell_type": "code",
   "execution_count": 2,
   "id": "1d5f5a59",
   "metadata": {
    "execution": {
     "iopub.execute_input": "2022-08-08T04:57:17.644604Z",
     "iopub.status.busy": "2022-08-08T04:57:17.644447Z",
     "iopub.status.idle": "2022-08-08T04:57:18.654438Z",
     "shell.execute_reply": "2022-08-08T04:57:18.653758Z"
    },
    "papermill": {
     "duration": 1.018542,
     "end_time": "2022-08-08T04:57:18.656437",
     "exception": false,
     "start_time": "2022-08-08T04:57:17.637895",
     "status": "completed"
    },
    "tags": []
   },
   "outputs": [],
   "source": [
    "from random import sample, seed\n",
    "import warnings\n",
    "from pathlib import Path\n",
    "import pickle\n",
    "import traceback\n",
    "\n",
    "import numpy as np\n",
    "from scipy.spatial.distance import squareform\n",
    "import pandas as pd\n",
    "from tqdm import tqdm\n",
    "import matplotlib.pyplot as plt\n",
    "import seaborn as sns\n",
    "\n",
    "import conf\n",
    "from entity import Gene"
   ]
  },
  {
   "cell_type": "markdown",
   "id": "1eac24b5",
   "metadata": {
    "papermill": {
     "duration": 0.006344,
     "end_time": "2022-08-08T04:57:18.702006",
     "exception": false,
     "start_time": "2022-08-08T04:57:18.695662",
     "status": "completed"
    },
    "tags": []
   },
   "source": [
    "# Settings"
   ]
  },
  {
   "cell_type": "code",
   "execution_count": 3,
   "id": "ca4560ba",
   "metadata": {
    "execution": {
     "iopub.execute_input": "2022-08-08T04:57:18.716929Z",
     "iopub.status.busy": "2022-08-08T04:57:18.716746Z",
     "iopub.status.idle": "2022-08-08T04:57:18.734351Z",
     "shell.execute_reply": "2022-08-08T04:57:18.733938Z"
    },
    "papermill": {
     "duration": 0.027259,
     "end_time": "2022-08-08T04:57:18.735844",
     "exception": false,
     "start_time": "2022-08-08T04:57:18.708585",
     "status": "completed"
    },
    "tags": [
     "parameters"
    ]
   },
   "outputs": [],
   "source": [
    "# a cohort name (it could be something like UK_BIOBANK, etc)\n",
    "COHORT_NAME = None\n",
    "\n",
    "# reference panel such as 1000G or GTEX_V8\n",
    "REFERENCE_PANEL = None\n",
    "\n",
    "# predictions models such as MASHR or ELASTIC_NET\n",
    "EQTL_MODEL = None\n",
    "\n",
    "# this is the default value used in S-MultiXcan to select the\n",
    "# top principal components of the expression correlation matrix\n",
    "SMULTIXCAN_CONDITION_NUMBER = 30\n",
    "\n",
    "# specifies a single chromosome value\n",
    "CHROMOSOME = None\n",
    "\n",
    "# If True, computes the correlation between closeby genes only;\n",
    "# otherwise, it computes correlations for all genes in a chromosome\n",
    "COMPUTE_CORRELATIONS_WITHIN_DISTANCE = False\n",
    "\n",
    "# if True, then it will continue if a gene pair correlation fails,\n",
    "# printing the warning/error for debugging. If False, any warning/error\n",
    "# will be thrown\n",
    "DEBUG_MODE = False"
   ]
  },
  {
   "cell_type": "code",
   "execution_count": 4,
   "id": "ae1ab2b6",
   "metadata": {
    "execution": {
     "iopub.execute_input": "2022-08-08T04:57:18.748028Z",
     "iopub.status.busy": "2022-08-08T04:57:18.747869Z",
     "iopub.status.idle": "2022-08-08T04:57:18.762487Z",
     "shell.execute_reply": "2022-08-08T04:57:18.762087Z"
    },
    "papermill": {
     "duration": 0.021972,
     "end_time": "2022-08-08T04:57:18.763796",
     "exception": false,
     "start_time": "2022-08-08T04:57:18.741824",
     "status": "completed"
    },
    "tags": [
     "injected-parameters"
    ]
   },
   "outputs": [],
   "source": [
    "# Parameters\n",
    "COHORT_NAME = \"1000G_EUR\"\n",
    "REFERENCE_PANEL = \"GTEX_V8\"\n",
    "EQTL_MODEL = \"MASHR\"\n",
    "CHROMOSOME = 5\n"
   ]
  },
  {
   "cell_type": "code",
   "execution_count": 5,
   "id": "3190631f-27fc-480f-b18e-571d580425a5",
   "metadata": {
    "execution": {
     "iopub.execute_input": "2022-08-08T04:57:18.775783Z",
     "iopub.status.busy": "2022-08-08T04:57:18.775380Z",
     "iopub.status.idle": "2022-08-08T04:57:18.793326Z",
     "shell.execute_reply": "2022-08-08T04:57:18.792952Z"
    },
    "papermill": {
     "duration": 0.025305,
     "end_time": "2022-08-08T04:57:18.794772",
     "exception": false,
     "start_time": "2022-08-08T04:57:18.769467",
     "status": "completed"
    },
    "tags": []
   },
   "outputs": [
    {
     "data": {
      "text/plain": [
       "'Cohort name: 1000g_eur'"
      ]
     },
     "metadata": {},
     "output_type": "display_data"
    }
   ],
   "source": [
    "assert COHORT_NAME is not None and len(COHORT_NAME) > 0, \"A cohort name must be given\"\n",
    "\n",
    "COHORT_NAME = COHORT_NAME.lower()\n",
    "display(f\"Cohort name: {COHORT_NAME}\")"
   ]
  },
  {
   "cell_type": "code",
   "execution_count": 6,
   "id": "f53ba19b-0f93-4fa2-a047-63b375939d1a",
   "metadata": {
    "execution": {
     "iopub.execute_input": "2022-08-08T04:57:18.807024Z",
     "iopub.status.busy": "2022-08-08T04:57:18.806636Z",
     "iopub.status.idle": "2022-08-08T04:57:18.822948Z",
     "shell.execute_reply": "2022-08-08T04:57:18.822581Z"
    },
    "papermill": {
     "duration": 0.023768,
     "end_time": "2022-08-08T04:57:18.824295",
     "exception": false,
     "start_time": "2022-08-08T04:57:18.800527",
     "status": "completed"
    },
    "tags": []
   },
   "outputs": [
    {
     "data": {
      "text/plain": [
       "'Reference panel: GTEX_V8'"
      ]
     },
     "metadata": {},
     "output_type": "display_data"
    }
   ],
   "source": [
    "assert (\n",
    "    REFERENCE_PANEL is not None and len(REFERENCE_PANEL) > 0\n",
    "), \"A reference panel must be given\"\n",
    "\n",
    "display(f\"Reference panel: {REFERENCE_PANEL}\")"
   ]
  },
  {
   "cell_type": "code",
   "execution_count": 7,
   "id": "e024d130-c139-429a-9c6e-ccf149e297b0",
   "metadata": {
    "execution": {
     "iopub.execute_input": "2022-08-08T04:57:18.836590Z",
     "iopub.status.busy": "2022-08-08T04:57:18.836229Z",
     "iopub.status.idle": "2022-08-08T04:57:18.852752Z",
     "shell.execute_reply": "2022-08-08T04:57:18.852385Z"
    },
    "papermill": {
     "duration": 0.024087,
     "end_time": "2022-08-08T04:57:18.854089",
     "exception": false,
     "start_time": "2022-08-08T04:57:18.830002",
     "status": "completed"
    },
    "tags": []
   },
   "outputs": [
    {
     "data": {
      "text/plain": [
       "'eQTL model: MASHR) / mashr_'"
      ]
     },
     "metadata": {},
     "output_type": "display_data"
    }
   ],
   "source": [
    "assert (\n",
    "    EQTL_MODEL is not None and len(EQTL_MODEL) > 0\n",
    "), \"A prediction/eQTL model must be given\"\n",
    "\n",
    "EQTL_MODEL_FILES_PREFIX = conf.PHENOMEXCAN[\"PREDICTION_MODELS\"][f\"{EQTL_MODEL}_PREFIX\"]\n",
    "display(f\"eQTL model: {EQTL_MODEL}) / {EQTL_MODEL_FILES_PREFIX}\")"
   ]
  },
  {
   "cell_type": "code",
   "execution_count": 8,
   "id": "552a7f63-a18c-4d3e-bb6a-94f99b431291",
   "metadata": {
    "execution": {
     "iopub.execute_input": "2022-08-08T04:57:18.866441Z",
     "iopub.status.busy": "2022-08-08T04:57:18.866085Z",
     "iopub.status.idle": "2022-08-08T04:57:18.882362Z",
     "shell.execute_reply": "2022-08-08T04:57:18.881945Z"
    },
    "papermill": {
     "duration": 0.023972,
     "end_time": "2022-08-08T04:57:18.883782",
     "exception": false,
     "start_time": "2022-08-08T04:57:18.859810",
     "status": "completed"
    },
    "tags": []
   },
   "outputs": [
    {
     "data": {
      "text/plain": [
       "'S-MultiXcan condition number: 30'"
      ]
     },
     "metadata": {},
     "output_type": "display_data"
    }
   ],
   "source": [
    "assert (\n",
    "    SMULTIXCAN_CONDITION_NUMBER is not None and SMULTIXCAN_CONDITION_NUMBER > 0\n",
    "), \"The S-MultiXcan condition number (positive integer) must be given\"\n",
    "\n",
    "display(f\"S-MultiXcan condition number: {SMULTIXCAN_CONDITION_NUMBER}\")"
   ]
  },
  {
   "cell_type": "code",
   "execution_count": 9,
   "id": "f34a336f-548e-4afe-8955-90eaea4f42c6",
   "metadata": {
    "execution": {
     "iopub.execute_input": "2022-08-08T04:57:18.896188Z",
     "iopub.status.busy": "2022-08-08T04:57:18.895836Z",
     "iopub.status.idle": "2022-08-08T04:57:18.912052Z",
     "shell.execute_reply": "2022-08-08T04:57:18.911679Z"
    },
    "papermill": {
     "duration": 0.023859,
     "end_time": "2022-08-08T04:57:18.913428",
     "exception": false,
     "start_time": "2022-08-08T04:57:18.889569",
     "status": "completed"
    },
    "tags": []
   },
   "outputs": [
    {
     "data": {
      "text/plain": [
       "'Working on chromosome 5'"
      ]
     },
     "metadata": {},
     "output_type": "display_data"
    }
   ],
   "source": [
    "assert CHROMOSOME is not None and (\n",
    "    1 <= CHROMOSOME <= 22\n",
    "), \"You have to select one chromosome (format: number between 1 and 22)\"\n",
    "\n",
    "# CHROMOSOME = str(CHROMOSOME)\n",
    "display(f\"Working on chromosome {CHROMOSOME}\")"
   ]
  },
  {
   "cell_type": "code",
   "execution_count": 10,
   "id": "ab8e96e8-06b5-4363-9dcd-dc4d78cc27f7",
   "metadata": {
    "execution": {
     "iopub.execute_input": "2022-08-08T04:57:18.926031Z",
     "iopub.status.busy": "2022-08-08T04:57:18.925687Z",
     "iopub.status.idle": "2022-08-08T04:57:18.941977Z",
     "shell.execute_reply": "2022-08-08T04:57:18.941609Z"
    },
    "papermill": {
     "duration": 0.023998,
     "end_time": "2022-08-08T04:57:18.943305",
     "exception": false,
     "start_time": "2022-08-08T04:57:18.919307",
     "status": "completed"
    },
    "tags": []
   },
   "outputs": [
    {
     "data": {
      "text/plain": [
       "'Compute correlation within distance False'"
      ]
     },
     "metadata": {},
     "output_type": "display_data"
    }
   ],
   "source": [
    "display(f\"Compute correlation within distance {COMPUTE_CORRELATIONS_WITHIN_DISTANCE}\")"
   ]
  },
  {
   "cell_type": "code",
   "execution_count": 11,
   "id": "396392dc-0340-4540-9b02-e182b833f909",
   "metadata": {
    "execution": {
     "iopub.execute_input": "2022-08-08T04:57:18.956201Z",
     "iopub.status.busy": "2022-08-08T04:57:18.955762Z",
     "iopub.status.idle": "2022-08-08T04:57:18.972994Z",
     "shell.execute_reply": "2022-08-08T04:57:18.972588Z"
    },
    "papermill": {
     "duration": 0.025148,
     "end_time": "2022-08-08T04:57:18.974360",
     "exception": false,
     "start_time": "2022-08-08T04:57:18.949212",
     "status": "completed"
    },
    "tags": []
   },
   "outputs": [
    {
     "data": {
      "text/plain": [
       "'Using output dir base: /opt/data/results/gls/gene_corrs/cohorts/1000g_eur/gtex_v8/mashr'"
      ]
     },
     "metadata": {},
     "output_type": "display_data"
    }
   ],
   "source": [
    "OUTPUT_DIR_BASE = (\n",
    "    conf.RESULTS[\"GLS\"]\n",
    "    / \"gene_corrs\"\n",
    "    / \"cohorts\"\n",
    "    / COHORT_NAME\n",
    "    / REFERENCE_PANEL.lower()\n",
    "    / EQTL_MODEL.lower()\n",
    ")\n",
    "OUTPUT_DIR_BASE.mkdir(parents=True, exist_ok=True)\n",
    "\n",
    "display(f\"Using output dir base: {OUTPUT_DIR_BASE}\")"
   ]
  },
  {
   "cell_type": "markdown",
   "id": "d2ba085e",
   "metadata": {
    "papermill": {
     "duration": 0.009279,
     "end_time": "2022-08-08T04:57:18.989913",
     "exception": false,
     "start_time": "2022-08-08T04:57:18.980634",
     "status": "completed"
    },
    "tags": []
   },
   "source": [
    "# Load data"
   ]
  },
  {
   "cell_type": "markdown",
   "id": "7dcb8db7",
   "metadata": {
    "papermill": {
     "duration": 0.005799,
     "end_time": "2022-08-08T04:57:19.001947",
     "exception": false,
     "start_time": "2022-08-08T04:57:18.996148",
     "status": "completed"
    },
    "tags": []
   },
   "source": [
    "## GWAS variants"
   ]
  },
  {
   "cell_type": "code",
   "execution_count": 12,
   "id": "29434c4e-8cd3-4b9b-82e4-b5a251d9dd19",
   "metadata": {
    "execution": {
     "iopub.execute_input": "2022-08-08T04:57:19.020836Z",
     "iopub.status.busy": "2022-08-08T04:57:19.020005Z",
     "iopub.status.idle": "2022-08-08T04:57:21.670228Z",
     "shell.execute_reply": "2022-08-08T04:57:21.669733Z"
    },
    "papermill": {
     "duration": 2.658289,
     "end_time": "2022-08-08T04:57:21.671714",
     "exception": false,
     "start_time": "2022-08-08T04:57:19.013425",
     "status": "completed"
    },
    "tags": []
   },
   "outputs": [],
   "source": [
    "with open(OUTPUT_DIR_BASE / \"gwas_variant_ids.pkl\", \"rb\") as handle:\n",
    "    gwas_variants_ids_set = pickle.load(handle)"
   ]
  },
  {
   "cell_type": "code",
   "execution_count": 13,
   "id": "b9d9dec2-4a76-4bf9-bde2-e24c95acb8a0",
   "metadata": {
    "execution": {
     "iopub.execute_input": "2022-08-08T04:57:21.687755Z",
     "iopub.status.busy": "2022-08-08T04:57:21.687330Z",
     "iopub.status.idle": "2022-08-08T04:57:21.704969Z",
     "shell.execute_reply": "2022-08-08T04:57:21.704536Z"
    },
    "papermill": {
     "duration": 0.026916,
     "end_time": "2022-08-08T04:57:21.706371",
     "exception": false,
     "start_time": "2022-08-08T04:57:21.679455",
     "status": "completed"
    },
    "tags": []
   },
   "outputs": [
    {
     "data": {
      "text/plain": [
       "8325729"
      ]
     },
     "execution_count": 13,
     "metadata": {},
     "output_type": "execute_result"
    }
   ],
   "source": [
    "len(gwas_variants_ids_set)"
   ]
  },
  {
   "cell_type": "code",
   "execution_count": 14,
   "id": "4235b06a-6034-4ee4-a0a3-2ae35d122418",
   "metadata": {
    "execution": {
     "iopub.execute_input": "2022-08-08T04:57:21.720499Z",
     "iopub.status.busy": "2022-08-08T04:57:21.720106Z",
     "iopub.status.idle": "2022-08-08T04:57:22.232236Z",
     "shell.execute_reply": "2022-08-08T04:57:22.231766Z"
    },
    "papermill": {
     "duration": 0.520506,
     "end_time": "2022-08-08T04:57:22.233704",
     "exception": false,
     "start_time": "2022-08-08T04:57:21.713198",
     "status": "completed"
    },
    "tags": []
   },
   "outputs": [
    {
     "data": {
      "text/plain": [
       "['chr1_147321659_A_G_b38',\n",
       " 'chr16_14055455_T_C_b38',\n",
       " 'chr4_132747715_T_C_b38',\n",
       " 'chr1_104516076_G_A_b38',\n",
       " 'chr8_123117534_G_C_b38']"
      ]
     },
     "execution_count": 14,
     "metadata": {},
     "output_type": "execute_result"
    }
   ],
   "source": [
    "list(gwas_variants_ids_set)[:5]"
   ]
  },
  {
   "cell_type": "markdown",
   "id": "07866999-2305-41f9-a144-e69c9122c212",
   "metadata": {
    "papermill": {
     "duration": 0.007364,
     "end_time": "2022-08-08T04:57:22.248771",
     "exception": false,
     "start_time": "2022-08-08T04:57:22.241407",
     "status": "completed"
    },
    "tags": []
   },
   "source": [
    "## S-PrediXcan tissue models"
   ]
  },
  {
   "cell_type": "code",
   "execution_count": 15,
   "id": "780611d9-77c8-405f-90a4-f271f7b09397",
   "metadata": {
    "execution": {
     "iopub.execute_input": "2022-08-08T04:57:22.264206Z",
     "iopub.status.busy": "2022-08-08T04:57:22.263977Z",
     "iopub.status.idle": "2022-08-08T04:57:23.059702Z",
     "shell.execute_reply": "2022-08-08T04:57:23.059216Z"
    },
    "papermill": {
     "duration": 0.804943,
     "end_time": "2022-08-08T04:57:23.061234",
     "exception": false,
     "start_time": "2022-08-08T04:57:22.256291",
     "status": "completed"
    },
    "tags": []
   },
   "outputs": [],
   "source": [
    "spredixcan_genes_models = pd.read_pickle(OUTPUT_DIR_BASE / \"gene_tissues.pkl\")"
   ]
  },
  {
   "cell_type": "code",
   "execution_count": 16,
   "id": "726dd1f6-9557-4225-91fa-b3b879ea96e1",
   "metadata": {
    "execution": {
     "iopub.execute_input": "2022-08-08T04:57:23.078214Z",
     "iopub.status.busy": "2022-08-08T04:57:23.077050Z",
     "iopub.status.idle": "2022-08-08T04:57:23.097248Z",
     "shell.execute_reply": "2022-08-08T04:57:23.096810Z"
    },
    "papermill": {
     "duration": 0.029728,
     "end_time": "2022-08-08T04:57:23.098689",
     "exception": false,
     "start_time": "2022-08-08T04:57:23.068961",
     "status": "completed"
    },
    "tags": []
   },
   "outputs": [
    {
     "data": {
      "text/plain": [
       "(6442, 3)"
      ]
     },
     "execution_count": 16,
     "metadata": {},
     "output_type": "execute_result"
    }
   ],
   "source": [
    "spredixcan_genes_models.shape"
   ]
  },
  {
   "cell_type": "code",
   "execution_count": 17,
   "id": "944a1b48-222c-4eb0-b252-b9de2cbca215",
   "metadata": {
    "execution": {
     "iopub.execute_input": "2022-08-08T04:57:23.113634Z",
     "iopub.status.busy": "2022-08-08T04:57:23.113467Z",
     "iopub.status.idle": "2022-08-08T04:57:23.136832Z",
     "shell.execute_reply": "2022-08-08T04:57:23.136413Z"
    },
    "papermill": {
     "duration": 0.032305,
     "end_time": "2022-08-08T04:57:23.138222",
     "exception": false,
     "start_time": "2022-08-08T04:57:23.105917",
     "status": "completed"
    },
    "tags": []
   },
   "outputs": [
    {
     "data": {
      "text/html": [
       "<div>\n",
       "<style scoped>\n",
       "    .dataframe tbody tr th:only-of-type {\n",
       "        vertical-align: middle;\n",
       "    }\n",
       "\n",
       "    .dataframe tbody tr th {\n",
       "        vertical-align: top;\n",
       "    }\n",
       "\n",
       "    .dataframe thead th {\n",
       "        text-align: right;\n",
       "    }\n",
       "</style>\n",
       "<table border=\"1\" class=\"dataframe\">\n",
       "  <thead>\n",
       "    <tr style=\"text-align: right;\">\n",
       "      <th></th>\n",
       "      <th>gene_name</th>\n",
       "      <th>tissue</th>\n",
       "      <th>n_tissues</th>\n",
       "    </tr>\n",
       "    <tr>\n",
       "      <th>gene_id</th>\n",
       "      <th></th>\n",
       "      <th></th>\n",
       "      <th></th>\n",
       "    </tr>\n",
       "  </thead>\n",
       "  <tbody>\n",
       "    <tr>\n",
       "      <th>ENSG00000000419</th>\n",
       "      <td>DPM1</td>\n",
       "      <td>(Brain_Substantia_nigra, Brain_Hypothalamus)</td>\n",
       "      <td>2</td>\n",
       "    </tr>\n",
       "    <tr>\n",
       "      <th>ENSG00000000938</th>\n",
       "      <td>FGR</td>\n",
       "      <td>(Prostate, Colon_Transverse, Skin_Not_Sun_Expo...</td>\n",
       "      <td>36</td>\n",
       "    </tr>\n",
       "    <tr>\n",
       "      <th>ENSG00000000971</th>\n",
       "      <td>CFH</td>\n",
       "      <td>(Cells_Cultured_fibroblasts, Colon_Transverse,...</td>\n",
       "      <td>34</td>\n",
       "    </tr>\n",
       "    <tr>\n",
       "      <th>ENSG00000001084</th>\n",
       "      <td>GCLC</td>\n",
       "      <td>(Cells_Cultured_fibroblasts, Colon_Transverse,...</td>\n",
       "      <td>32</td>\n",
       "    </tr>\n",
       "    <tr>\n",
       "      <th>ENSG00000001167</th>\n",
       "      <td>NFYA</td>\n",
       "      <td>(Cells_Cultured_fibroblasts, Prostate, Colon_T...</td>\n",
       "      <td>40</td>\n",
       "    </tr>\n",
       "  </tbody>\n",
       "</table>\n",
       "</div>"
      ],
      "text/plain": [
       "                gene_name                                             tissue  \\\n",
       "gene_id                                                                        \n",
       "ENSG00000000419      DPM1       (Brain_Substantia_nigra, Brain_Hypothalamus)   \n",
       "ENSG00000000938       FGR  (Prostate, Colon_Transverse, Skin_Not_Sun_Expo...   \n",
       "ENSG00000000971       CFH  (Cells_Cultured_fibroblasts, Colon_Transverse,...   \n",
       "ENSG00000001084      GCLC  (Cells_Cultured_fibroblasts, Colon_Transverse,...   \n",
       "ENSG00000001167      NFYA  (Cells_Cultured_fibroblasts, Prostate, Colon_T...   \n",
       "\n",
       "                 n_tissues  \n",
       "gene_id                     \n",
       "ENSG00000000419          2  \n",
       "ENSG00000000938         36  \n",
       "ENSG00000000971         34  \n",
       "ENSG00000001084         32  \n",
       "ENSG00000001167         40  "
      ]
     },
     "execution_count": 17,
     "metadata": {},
     "output_type": "execute_result"
    }
   ],
   "source": [
    "spredixcan_genes_models.head()"
   ]
  },
  {
   "cell_type": "code",
   "execution_count": 18,
   "id": "d1c11bb1-be0b-4f40-b360-633d6827109f",
   "metadata": {
    "execution": {
     "iopub.execute_input": "2022-08-08T04:57:23.152453Z",
     "iopub.status.busy": "2022-08-08T04:57:23.152286Z",
     "iopub.status.idle": "2022-08-08T04:57:23.170544Z",
     "shell.execute_reply": "2022-08-08T04:57:23.169952Z"
    },
    "papermill": {
     "duration": 0.027409,
     "end_time": "2022-08-08T04:57:23.172458",
     "exception": false,
     "start_time": "2022-08-08T04:57:23.145049",
     "status": "completed"
    },
    "tags": []
   },
   "outputs": [],
   "source": [
    "assert spredixcan_genes_models.index.is_unique"
   ]
  },
  {
   "cell_type": "markdown",
   "id": "a5b5092c-a13e-47c4-a92a-480fcc08f3ae",
   "metadata": {
    "papermill": {
     "duration": 0.008029,
     "end_time": "2022-08-08T04:57:23.188983",
     "exception": false,
     "start_time": "2022-08-08T04:57:23.180954",
     "status": "completed"
    },
    "tags": []
   },
   "source": [
    "## Gene info"
   ]
  },
  {
   "cell_type": "code",
   "execution_count": 19,
   "id": "7d6bb224-88e9-4358-ac10-43a41d92cdad",
   "metadata": {
    "execution": {
     "iopub.execute_input": "2022-08-08T04:57:23.206322Z",
     "iopub.status.busy": "2022-08-08T04:57:23.206084Z",
     "iopub.status.idle": "2022-08-08T04:57:23.227833Z",
     "shell.execute_reply": "2022-08-08T04:57:23.227383Z"
    },
    "papermill": {
     "duration": 0.032267,
     "end_time": "2022-08-08T04:57:23.229414",
     "exception": false,
     "start_time": "2022-08-08T04:57:23.197147",
     "status": "completed"
    },
    "tags": []
   },
   "outputs": [],
   "source": [
    "genes_info = pd.read_pickle(OUTPUT_DIR_BASE / \"genes_info.pkl\")"
   ]
  },
  {
   "cell_type": "code",
   "execution_count": 20,
   "id": "9e32abfa-546d-483e-8c18-d526e9e05903",
   "metadata": {
    "execution": {
     "iopub.execute_input": "2022-08-08T04:57:23.245005Z",
     "iopub.status.busy": "2022-08-08T04:57:23.244827Z",
     "iopub.status.idle": "2022-08-08T04:57:23.262256Z",
     "shell.execute_reply": "2022-08-08T04:57:23.261856Z"
    },
    "papermill": {
     "duration": 0.02658,
     "end_time": "2022-08-08T04:57:23.263646",
     "exception": false,
     "start_time": "2022-08-08T04:57:23.237066",
     "status": "completed"
    },
    "tags": []
   },
   "outputs": [
    {
     "data": {
      "text/plain": [
       "(6442, 7)"
      ]
     },
     "execution_count": 20,
     "metadata": {},
     "output_type": "execute_result"
    }
   ],
   "source": [
    "genes_info.shape"
   ]
  },
  {
   "cell_type": "code",
   "execution_count": 21,
   "id": "d16c3e92-85ec-468a-9a56-e25a9774a1cb",
   "metadata": {
    "execution": {
     "iopub.execute_input": "2022-08-08T04:57:23.278375Z",
     "iopub.status.busy": "2022-08-08T04:57:23.278213Z",
     "iopub.status.idle": "2022-08-08T04:57:23.299358Z",
     "shell.execute_reply": "2022-08-08T04:57:23.298970Z"
    },
    "papermill": {
     "duration": 0.029879,
     "end_time": "2022-08-08T04:57:23.300732",
     "exception": false,
     "start_time": "2022-08-08T04:57:23.270853",
     "status": "completed"
    },
    "tags": []
   },
   "outputs": [
    {
     "data": {
      "text/html": [
       "<div>\n",
       "<style scoped>\n",
       "    .dataframe tbody tr th:only-of-type {\n",
       "        vertical-align: middle;\n",
       "    }\n",
       "\n",
       "    .dataframe tbody tr th {\n",
       "        vertical-align: top;\n",
       "    }\n",
       "\n",
       "    .dataframe thead th {\n",
       "        text-align: right;\n",
       "    }\n",
       "</style>\n",
       "<table border=\"1\" class=\"dataframe\">\n",
       "  <thead>\n",
       "    <tr style=\"text-align: right;\">\n",
       "      <th></th>\n",
       "      <th>name</th>\n",
       "      <th>id</th>\n",
       "      <th>chr</th>\n",
       "      <th>band</th>\n",
       "      <th>start_position</th>\n",
       "      <th>end_position</th>\n",
       "      <th>gene_length</th>\n",
       "    </tr>\n",
       "  </thead>\n",
       "  <tbody>\n",
       "    <tr>\n",
       "      <th>0</th>\n",
       "      <td>FKBP8</td>\n",
       "      <td>ENSG00000105701</td>\n",
       "      <td>19</td>\n",
       "      <td>19p13.11</td>\n",
       "      <td>18531751</td>\n",
       "      <td>18544077</td>\n",
       "      <td>12326</td>\n",
       "    </tr>\n",
       "    <tr>\n",
       "      <th>1</th>\n",
       "      <td>HERPUD1</td>\n",
       "      <td>ENSG00000051108</td>\n",
       "      <td>16</td>\n",
       "      <td>16q13</td>\n",
       "      <td>56932142</td>\n",
       "      <td>56944864</td>\n",
       "      <td>12722</td>\n",
       "    </tr>\n",
       "    <tr>\n",
       "      <th>2</th>\n",
       "      <td>SEPT2</td>\n",
       "      <td>ENSG00000168385</td>\n",
       "      <td>2</td>\n",
       "      <td>2q37.3</td>\n",
       "      <td>241315100</td>\n",
       "      <td>241354027</td>\n",
       "      <td>38927</td>\n",
       "    </tr>\n",
       "    <tr>\n",
       "      <th>3</th>\n",
       "      <td>FXYD6</td>\n",
       "      <td>ENSG00000137726</td>\n",
       "      <td>11</td>\n",
       "      <td>11q23.3</td>\n",
       "      <td>117836976</td>\n",
       "      <td>117877486</td>\n",
       "      <td>40510</td>\n",
       "    </tr>\n",
       "    <tr>\n",
       "      <th>4</th>\n",
       "      <td>RBM15</td>\n",
       "      <td>ENSG00000162775</td>\n",
       "      <td>1</td>\n",
       "      <td>1p13.3</td>\n",
       "      <td>110338506</td>\n",
       "      <td>110346681</td>\n",
       "      <td>8175</td>\n",
       "    </tr>\n",
       "  </tbody>\n",
       "</table>\n",
       "</div>"
      ],
      "text/plain": [
       "      name               id  chr      band  start_position  end_position  \\\n",
       "0    FKBP8  ENSG00000105701   19  19p13.11        18531751      18544077   \n",
       "1  HERPUD1  ENSG00000051108   16     16q13        56932142      56944864   \n",
       "2    SEPT2  ENSG00000168385    2    2q37.3       241315100     241354027   \n",
       "3    FXYD6  ENSG00000137726   11   11q23.3       117836976     117877486   \n",
       "4    RBM15  ENSG00000162775    1    1p13.3       110338506     110346681   \n",
       "\n",
       "   gene_length  \n",
       "0        12326  \n",
       "1        12722  \n",
       "2        38927  \n",
       "3        40510  \n",
       "4         8175  "
      ]
     },
     "execution_count": 21,
     "metadata": {},
     "output_type": "execute_result"
    }
   ],
   "source": [
    "genes_info.head()"
   ]
  },
  {
   "cell_type": "markdown",
   "id": "d3843e06",
   "metadata": {
    "papermill": {
     "duration": 0.007675,
     "end_time": "2022-08-08T04:57:23.315805",
     "exception": false,
     "start_time": "2022-08-08T04:57:23.308130",
     "status": "completed"
    },
    "tags": []
   },
   "source": [
    "# Compute correlations"
   ]
  },
  {
   "cell_type": "code",
   "execution_count": 22,
   "id": "cb859c15-d1f3-4006-a74c-2b83c0db9611",
   "metadata": {
    "execution": {
     "iopub.execute_input": "2022-08-08T04:57:23.333790Z",
     "iopub.status.busy": "2022-08-08T04:57:23.333582Z",
     "iopub.status.idle": "2022-08-08T04:57:23.354622Z",
     "shell.execute_reply": "2022-08-08T04:57:23.354163Z"
    },
    "papermill": {
     "duration": 0.031984,
     "end_time": "2022-08-08T04:57:23.356249",
     "exception": false,
     "start_time": "2022-08-08T04:57:23.324265",
     "status": "completed"
    },
    "tags": []
   },
   "outputs": [
    {
     "data": {
      "text/plain": [
       "PosixPath('/opt/data/results/gls/gene_corrs/cohorts/1000g_eur/gtex_v8/mashr/by_chr/gene_corrs-chr5.pkl')"
      ]
     },
     "metadata": {},
     "output_type": "display_data"
    }
   ],
   "source": [
    "output_dir = OUTPUT_DIR_BASE / \"by_chr\"\n",
    "output_dir.mkdir(exist_ok=True, parents=True)\n",
    "output_file = output_dir / f\"gene_corrs-chr{CHROMOSOME}.pkl\"\n",
    "display(output_file)"
   ]
  },
  {
   "cell_type": "code",
   "execution_count": 23,
   "id": "aa674fe4-6794-4eed-98fa-32b39d1d4ace",
   "metadata": {
    "execution": {
     "iopub.execute_input": "2022-08-08T04:57:23.374199Z",
     "iopub.status.busy": "2022-08-08T04:57:23.374009Z",
     "iopub.status.idle": "2022-08-08T04:57:23.391334Z",
     "shell.execute_reply": "2022-08-08T04:57:23.390862Z"
    },
    "papermill": {
     "duration": 0.027958,
     "end_time": "2022-08-08T04:57:23.392927",
     "exception": false,
     "start_time": "2022-08-08T04:57:23.364969",
     "status": "completed"
    },
    "tags": []
   },
   "outputs": [],
   "source": [
    "warnings.filterwarnings(\"error\")"
   ]
  },
  {
   "cell_type": "code",
   "execution_count": 24,
   "id": "44d5450b-3baf-43f1-9e2e-4b06f1a785f8",
   "metadata": {
    "execution": {
     "iopub.execute_input": "2022-08-08T04:57:23.409046Z",
     "iopub.status.busy": "2022-08-08T04:57:23.408872Z",
     "iopub.status.idle": "2022-08-08T04:57:23.425571Z",
     "shell.execute_reply": "2022-08-08T04:57:23.425139Z"
    },
    "papermill": {
     "duration": 0.026244,
     "end_time": "2022-08-08T04:57:23.427058",
     "exception": false,
     "start_time": "2022-08-08T04:57:23.400814",
     "status": "completed"
    },
    "tags": []
   },
   "outputs": [],
   "source": [
    "# standard checks\n",
    "all_chrs = genes_info[\"chr\"].dropna().unique()\n",
    "assert all_chrs.shape[0] == 22\n",
    "\n",
    "# select chromosome given by the user\n",
    "assert CHROMOSOME in all_chrs"
   ]
  },
  {
   "cell_type": "code",
   "execution_count": 25,
   "id": "2d7c043c-92a7-4d35-991b-fa69ac1e0268",
   "metadata": {
    "execution": {
     "iopub.execute_input": "2022-08-08T04:57:23.442425Z",
     "iopub.status.busy": "2022-08-08T04:57:23.442263Z",
     "iopub.status.idle": "2022-08-08T04:57:23.483223Z",
     "shell.execute_reply": "2022-08-08T04:57:23.482782Z"
    },
    "papermill": {
     "duration": 0.050198,
     "end_time": "2022-08-08T04:57:23.484788",
     "exception": false,
     "start_time": "2022-08-08T04:57:23.434590",
     "status": "completed"
    },
    "tags": []
   },
   "outputs": [
    {
     "name": "stdout",
     "output_type": "stream",
     "text": [
      "Number of genes in chromosome: 305\n"
     ]
    }
   ],
   "source": [
    "# run only on the chromosome specified\n",
    "all_chrs = [CHROMOSOME]\n",
    "genes_chr = genes_info[genes_info[\"chr\"] == CHROMOSOME]\n",
    "\n",
    "# For testing purposes\n",
    "# genes_chr = genes_chr.sample(n=20)\n",
    "\n",
    "print(f\"Number of genes in chromosome: {genes_chr.shape[0]}\", flush=True)"
   ]
  },
  {
   "cell_type": "code",
   "execution_count": 26,
   "id": "916015d8-2979-46d3-a9b9-1cf5a0932c6a",
   "metadata": {
    "execution": {
     "iopub.execute_input": "2022-08-08T04:57:23.500076Z",
     "iopub.status.busy": "2022-08-08T04:57:23.499914Z",
     "iopub.status.idle": "2022-08-08T04:57:23.515872Z",
     "shell.execute_reply": "2022-08-08T04:57:23.515407Z"
    },
    "papermill": {
     "duration": 0.025271,
     "end_time": "2022-08-08T04:57:23.517285",
     "exception": false,
     "start_time": "2022-08-08T04:57:23.492014",
     "status": "completed"
    },
    "tags": []
   },
   "outputs": [],
   "source": [
    "# sort genes by starting position to make visualizations better later\n",
    "genes_chr = genes_chr.sort_values(\"start_position\")"
   ]
  },
  {
   "cell_type": "code",
   "execution_count": 27,
   "id": "a38aa74a-8ad3-47f6-8ef9-56be0e011774",
   "metadata": {
    "execution": {
     "iopub.execute_input": "2022-08-08T04:57:23.532495Z",
     "iopub.status.busy": "2022-08-08T04:57:23.532330Z",
     "iopub.status.idle": "2022-08-08T04:57:23.548595Z",
     "shell.execute_reply": "2022-08-08T04:57:23.548153Z"
    },
    "papermill": {
     "duration": 0.025337,
     "end_time": "2022-08-08T04:57:23.550025",
     "exception": false,
     "start_time": "2022-08-08T04:57:23.524688",
     "status": "completed"
    },
    "tags": []
   },
   "outputs": [],
   "source": [
    "gene_chr_objs = [Gene(ensembl_id=gene_id) for gene_id in genes_chr[\"id\"]]"
   ]
  },
  {
   "cell_type": "code",
   "execution_count": 28,
   "id": "570f974f-13c3-42b6-ad3a-ce99ca885c1a",
   "metadata": {
    "execution": {
     "iopub.execute_input": "2022-08-08T04:57:23.565257Z",
     "iopub.status.busy": "2022-08-08T04:57:23.565095Z",
     "iopub.status.idle": "2022-08-08T04:57:23.582232Z",
     "shell.execute_reply": "2022-08-08T04:57:23.581810Z"
    },
    "papermill": {
     "duration": 0.026175,
     "end_time": "2022-08-08T04:57:23.583590",
     "exception": false,
     "start_time": "2022-08-08T04:57:23.557415",
     "status": "completed"
    },
    "tags": []
   },
   "outputs": [
    {
     "name": "stdout",
     "output_type": "stream",
     "text": [
      "Number of gene combinations: 46360\n"
     ]
    }
   ],
   "source": [
    "n = len(gene_chr_objs)\n",
    "n_comb = int(n * (n - 1) / 2.0)\n",
    "print(f\"Number of gene combinations: {n_comb}\", flush=True)"
   ]
  },
  {
   "cell_type": "code",
   "execution_count": 29,
   "id": "cdbb90a1",
   "metadata": {
    "execution": {
     "iopub.execute_input": "2022-08-08T04:57:23.599145Z",
     "iopub.status.busy": "2022-08-08T04:57:23.598981Z",
     "iopub.status.idle": "2022-08-08T05:54:57.144063Z",
     "shell.execute_reply": "2022-08-08T05:54:57.143606Z"
    },
    "papermill": {
     "duration": 3453.554363,
     "end_time": "2022-08-08T05:54:57.145412",
     "exception": false,
     "start_time": "2022-08-08T04:57:23.591049",
     "status": "completed"
    },
    "tags": []
   },
   "outputs": [
    {
     "name": "stderr",
     "output_type": "stream",
     "text": [
      "ENSG00000113303 / ENSG00000165810: 100%|██████████████████████| 46360/46360 [57:33<00:00, 13.42it/s]\n"
     ]
    },
    {
     "data": {
      "text/plain": [
       "PosixPath('/opt/data/results/gls/gene_corrs/cohorts/1000g_eur/gtex_v8/mashr/by_chr/gene_corrs-chr5.pkl')"
      ]
     },
     "metadata": {},
     "output_type": "display_data"
    }
   ],
   "source": [
    "gene_corrs = []\n",
    "\n",
    "i = 0\n",
    "with tqdm(ncols=100, total=n_comb) as pbar:\n",
    "    for gene1_idx in range(0, len(gene_chr_objs) - 1):\n",
    "        gene1_obj = gene_chr_objs[gene1_idx]\n",
    "        gene1_tissues = spredixcan_genes_models.loc[gene1_obj.ensembl_id, \"tissue\"]\n",
    "\n",
    "        for gene2_idx in range(gene1_idx + 1, len(gene_chr_objs)):\n",
    "            gene2_obj = gene_chr_objs[gene2_idx]\n",
    "            gene2_tissues = spredixcan_genes_models.loc[gene2_obj.ensembl_id, \"tissue\"]\n",
    "\n",
    "            pbar.set_description(f\"{gene1_obj.ensembl_id} / {gene2_obj.ensembl_id}\")\n",
    "\n",
    "            try:\n",
    "                r = gene1_obj.get_ssm_correlation(\n",
    "                    other_gene=gene2_obj,\n",
    "                    tissues=gene1_tissues,\n",
    "                    other_tissues=gene2_tissues,\n",
    "                    snps_subset=gwas_variants_ids_set,\n",
    "                    condition_number=SMULTIXCAN_CONDITION_NUMBER,\n",
    "                    reference_panel=REFERENCE_PANEL,\n",
    "                    model_type=EQTL_MODEL,\n",
    "                    use_within_distance=COMPUTE_CORRELATIONS_WITHIN_DISTANCE,\n",
    "                )\n",
    "\n",
    "                if r is None:\n",
    "                    # if r is None, it's very likely because:\n",
    "                    #  * one of the genes has no prediction models\n",
    "                    #  * all the SNPs predictors for the gene are not present in the reference\n",
    "                    #    panel\n",
    "\n",
    "                    r = 0.0\n",
    "\n",
    "                gene_corrs.append(r)\n",
    "            except Warning as e:\n",
    "                if not DEBUG_MODE:\n",
    "                    raise e\n",
    "\n",
    "                print(\n",
    "                    f\"RuntimeWarning for genes {gene1_obj.ensembl_id} and {gene2_obj.ensembl_id}\",\n",
    "                    flush=True,\n",
    "                )\n",
    "                print(traceback.format_exc(), flush=True)\n",
    "\n",
    "                gene_corrs.append(np.nan)\n",
    "            except Exception as e:\n",
    "                if not DEBUG_MODE:\n",
    "                    raise e\n",
    "\n",
    "                print(\n",
    "                    f\"Exception for genes {gene1_obj.ensembl_id} and {gene2_obj.ensembl_id}\",\n",
    "                    flush=True,\n",
    "                )\n",
    "                print(traceback.format_exc(), flush=True)\n",
    "\n",
    "                gene_corrs.append(np.nan)\n",
    "\n",
    "            pbar.update(1)\n",
    "\n",
    "# create a pandas series\n",
    "gene_corrs_flat = pd.Series(gene_corrs)\n",
    "\n",
    "# save\n",
    "# FIXME: consider saving only the condenced matrix here. See here for\n",
    "# more details: https://github.com/greenelab/phenoplier/pull/38#discussion_r634600813\n",
    "gene_corrs_data = squareform(np.array(gene_corrs, dtype=np.float64))\n",
    "np.fill_diagonal(gene_corrs_data, 1.0)\n",
    "\n",
    "gene_chr_ids = [g.ensembl_id for g in gene_chr_objs]\n",
    "gene_corrs_df = pd.DataFrame(\n",
    "    data=gene_corrs_data,\n",
    "    index=gene_chr_ids,\n",
    "    columns=gene_chr_ids,\n",
    ")\n",
    "\n",
    "output_dir.mkdir(exist_ok=True, parents=True)\n",
    "display(output_file)\n",
    "\n",
    "gene_corrs_df.to_pickle(output_file)"
   ]
  },
  {
   "cell_type": "markdown",
   "id": "faa67b51-5373-470f-aa72-2ded53fa6dfe",
   "metadata": {
    "papermill": {
     "duration": 2.474163,
     "end_time": "2022-08-08T05:55:02.142314",
     "exception": false,
     "start_time": "2022-08-08T05:54:59.668151",
     "status": "completed"
    },
    "tags": []
   },
   "source": [
    "# Testing"
   ]
  },
  {
   "cell_type": "code",
   "execution_count": 30,
   "id": "14f7d046-4b55-4896-a56b-990127bcc388",
   "metadata": {
    "execution": {
     "iopub.execute_input": "2022-08-08T05:55:06.988748Z",
     "iopub.status.busy": "2022-08-08T05:55:06.988550Z",
     "iopub.status.idle": "2022-08-08T05:55:07.004150Z",
     "shell.execute_reply": "2022-08-08T05:55:07.003679Z"
    },
    "papermill": {
     "duration": 2.462037,
     "end_time": "2022-08-08T05:55:07.005332",
     "exception": false,
     "start_time": "2022-08-08T05:55:04.543295",
     "status": "completed"
    },
    "tags": []
   },
   "outputs": [
    {
     "data": {
      "text/plain": [
       "(305, 305)"
      ]
     },
     "execution_count": 30,
     "metadata": {},
     "output_type": "execute_result"
    }
   ],
   "source": [
    "gene_corrs_df.shape"
   ]
  },
  {
   "cell_type": "code",
   "execution_count": 31,
   "id": "c7d15414-3297-4537-a7c6-7588c0baeb75",
   "metadata": {
    "execution": {
     "iopub.execute_input": "2022-08-08T05:55:11.874196Z",
     "iopub.status.busy": "2022-08-08T05:55:11.874022Z",
     "iopub.status.idle": "2022-08-08T05:55:11.909266Z",
     "shell.execute_reply": "2022-08-08T05:55:11.908781Z"
    },
    "papermill": {
     "duration": 2.487525,
     "end_time": "2022-08-08T05:55:11.910965",
     "exception": false,
     "start_time": "2022-08-08T05:55:09.423440",
     "status": "completed"
    },
    "tags": []
   },
   "outputs": [
    {
     "data": {
      "text/html": [
       "<div>\n",
       "<style scoped>\n",
       "    .dataframe tbody tr th:only-of-type {\n",
       "        vertical-align: middle;\n",
       "    }\n",
       "\n",
       "    .dataframe tbody tr th {\n",
       "        vertical-align: top;\n",
       "    }\n",
       "\n",
       "    .dataframe thead th {\n",
       "        text-align: right;\n",
       "    }\n",
       "</style>\n",
       "<table border=\"1\" class=\"dataframe\">\n",
       "  <thead>\n",
       "    <tr style=\"text-align: right;\">\n",
       "      <th></th>\n",
       "      <th>ENSG00000073578</th>\n",
       "      <th>ENSG00000180104</th>\n",
       "      <th>ENSG00000066230</th>\n",
       "      <th>ENSG00000112877</th>\n",
       "      <th>ENSG00000113504</th>\n",
       "      <th>ENSG00000174358</th>\n",
       "      <th>ENSG00000164362</th>\n",
       "      <th>ENSG00000049656</th>\n",
       "      <th>ENSG00000153395</th>\n",
       "      <th>ENSG00000171421</th>\n",
       "      <th>...</th>\n",
       "      <th>ENSG00000161021</th>\n",
       "      <th>ENSG00000161013</th>\n",
       "      <th>ENSG00000161011</th>\n",
       "      <th>ENSG00000050748</th>\n",
       "      <th>ENSG00000131459</th>\n",
       "      <th>ENSG00000113300</th>\n",
       "      <th>ENSG00000037280</th>\n",
       "      <th>ENSG00000131446</th>\n",
       "      <th>ENSG00000113303</th>\n",
       "      <th>ENSG00000165810</th>\n",
       "    </tr>\n",
       "  </thead>\n",
       "  <tbody>\n",
       "    <tr>\n",
       "      <th>ENSG00000073578</th>\n",
       "      <td>1.000000</td>\n",
       "      <td>0.240815</td>\n",
       "      <td>0.161150</td>\n",
       "      <td>0.049611</td>\n",
       "      <td>0.015151</td>\n",
       "      <td>0.011679</td>\n",
       "      <td>0.008640</td>\n",
       "      <td>0.010104</td>\n",
       "      <td>0.012698</td>\n",
       "      <td>0.008122</td>\n",
       "      <td>...</td>\n",
       "      <td>0.007564</td>\n",
       "      <td>0.009874</td>\n",
       "      <td>0.010103</td>\n",
       "      <td>0.010862</td>\n",
       "      <td>0.014451</td>\n",
       "      <td>0.007847</td>\n",
       "      <td>0.011302</td>\n",
       "      <td>0.014864</td>\n",
       "      <td>0.012576</td>\n",
       "      <td>0.008547</td>\n",
       "    </tr>\n",
       "    <tr>\n",
       "      <th>ENSG00000180104</th>\n",
       "      <td>0.240815</td>\n",
       "      <td>1.000000</td>\n",
       "      <td>0.394044</td>\n",
       "      <td>0.092476</td>\n",
       "      <td>0.006065</td>\n",
       "      <td>0.010590</td>\n",
       "      <td>0.007414</td>\n",
       "      <td>0.004419</td>\n",
       "      <td>0.004101</td>\n",
       "      <td>0.006108</td>\n",
       "      <td>...</td>\n",
       "      <td>0.006200</td>\n",
       "      <td>0.002856</td>\n",
       "      <td>0.005054</td>\n",
       "      <td>0.007138</td>\n",
       "      <td>0.008508</td>\n",
       "      <td>0.005820</td>\n",
       "      <td>0.006728</td>\n",
       "      <td>0.006830</td>\n",
       "      <td>0.002946</td>\n",
       "      <td>0.004173</td>\n",
       "    </tr>\n",
       "    <tr>\n",
       "      <th>ENSG00000066230</th>\n",
       "      <td>0.161150</td>\n",
       "      <td>0.394044</td>\n",
       "      <td>1.000000</td>\n",
       "      <td>0.216369</td>\n",
       "      <td>0.012961</td>\n",
       "      <td>0.008745</td>\n",
       "      <td>0.006762</td>\n",
       "      <td>0.009393</td>\n",
       "      <td>0.012246</td>\n",
       "      <td>0.008238</td>\n",
       "      <td>...</td>\n",
       "      <td>0.007781</td>\n",
       "      <td>0.005530</td>\n",
       "      <td>0.008153</td>\n",
       "      <td>0.006234</td>\n",
       "      <td>0.008947</td>\n",
       "      <td>0.004306</td>\n",
       "      <td>0.007579</td>\n",
       "      <td>0.006019</td>\n",
       "      <td>0.002829</td>\n",
       "      <td>0.005606</td>\n",
       "    </tr>\n",
       "    <tr>\n",
       "      <th>ENSG00000112877</th>\n",
       "      <td>0.049611</td>\n",
       "      <td>0.092476</td>\n",
       "      <td>0.216369</td>\n",
       "      <td>1.000000</td>\n",
       "      <td>0.021994</td>\n",
       "      <td>0.007444</td>\n",
       "      <td>0.007431</td>\n",
       "      <td>0.008093</td>\n",
       "      <td>0.011573</td>\n",
       "      <td>0.003085</td>\n",
       "      <td>...</td>\n",
       "      <td>0.007642</td>\n",
       "      <td>0.007418</td>\n",
       "      <td>0.008980</td>\n",
       "      <td>0.009363</td>\n",
       "      <td>0.014036</td>\n",
       "      <td>0.009913</td>\n",
       "      <td>0.011692</td>\n",
       "      <td>0.008511</td>\n",
       "      <td>0.005459</td>\n",
       "      <td>0.005300</td>\n",
       "    </tr>\n",
       "    <tr>\n",
       "      <th>ENSG00000113504</th>\n",
       "      <td>0.015151</td>\n",
       "      <td>0.006065</td>\n",
       "      <td>0.012961</td>\n",
       "      <td>0.021994</td>\n",
       "      <td>1.000000</td>\n",
       "      <td>0.023247</td>\n",
       "      <td>0.009773</td>\n",
       "      <td>0.008319</td>\n",
       "      <td>0.114610</td>\n",
       "      <td>0.008152</td>\n",
       "      <td>...</td>\n",
       "      <td>0.010535</td>\n",
       "      <td>0.006446</td>\n",
       "      <td>0.007964</td>\n",
       "      <td>0.009621</td>\n",
       "      <td>0.011645</td>\n",
       "      <td>0.010967</td>\n",
       "      <td>0.013630</td>\n",
       "      <td>0.009901</td>\n",
       "      <td>0.007452</td>\n",
       "      <td>0.007947</td>\n",
       "    </tr>\n",
       "  </tbody>\n",
       "</table>\n",
       "<p>5 rows × 305 columns</p>\n",
       "</div>"
      ],
      "text/plain": [
       "                 ENSG00000073578  ENSG00000180104  ENSG00000066230  \\\n",
       "ENSG00000073578         1.000000         0.240815         0.161150   \n",
       "ENSG00000180104         0.240815         1.000000         0.394044   \n",
       "ENSG00000066230         0.161150         0.394044         1.000000   \n",
       "ENSG00000112877         0.049611         0.092476         0.216369   \n",
       "ENSG00000113504         0.015151         0.006065         0.012961   \n",
       "\n",
       "                 ENSG00000112877  ENSG00000113504  ENSG00000174358  \\\n",
       "ENSG00000073578         0.049611         0.015151         0.011679   \n",
       "ENSG00000180104         0.092476         0.006065         0.010590   \n",
       "ENSG00000066230         0.216369         0.012961         0.008745   \n",
       "ENSG00000112877         1.000000         0.021994         0.007444   \n",
       "ENSG00000113504         0.021994         1.000000         0.023247   \n",
       "\n",
       "                 ENSG00000164362  ENSG00000049656  ENSG00000153395  \\\n",
       "ENSG00000073578         0.008640         0.010104         0.012698   \n",
       "ENSG00000180104         0.007414         0.004419         0.004101   \n",
       "ENSG00000066230         0.006762         0.009393         0.012246   \n",
       "ENSG00000112877         0.007431         0.008093         0.011573   \n",
       "ENSG00000113504         0.009773         0.008319         0.114610   \n",
       "\n",
       "                 ENSG00000171421  ...  ENSG00000161021  ENSG00000161013  \\\n",
       "ENSG00000073578         0.008122  ...         0.007564         0.009874   \n",
       "ENSG00000180104         0.006108  ...         0.006200         0.002856   \n",
       "ENSG00000066230         0.008238  ...         0.007781         0.005530   \n",
       "ENSG00000112877         0.003085  ...         0.007642         0.007418   \n",
       "ENSG00000113504         0.008152  ...         0.010535         0.006446   \n",
       "\n",
       "                 ENSG00000161011  ENSG00000050748  ENSG00000131459  \\\n",
       "ENSG00000073578         0.010103         0.010862         0.014451   \n",
       "ENSG00000180104         0.005054         0.007138         0.008508   \n",
       "ENSG00000066230         0.008153         0.006234         0.008947   \n",
       "ENSG00000112877         0.008980         0.009363         0.014036   \n",
       "ENSG00000113504         0.007964         0.009621         0.011645   \n",
       "\n",
       "                 ENSG00000113300  ENSG00000037280  ENSG00000131446  \\\n",
       "ENSG00000073578         0.007847         0.011302         0.014864   \n",
       "ENSG00000180104         0.005820         0.006728         0.006830   \n",
       "ENSG00000066230         0.004306         0.007579         0.006019   \n",
       "ENSG00000112877         0.009913         0.011692         0.008511   \n",
       "ENSG00000113504         0.010967         0.013630         0.009901   \n",
       "\n",
       "                 ENSG00000113303  ENSG00000165810  \n",
       "ENSG00000073578         0.012576         0.008547  \n",
       "ENSG00000180104         0.002946         0.004173  \n",
       "ENSG00000066230         0.002829         0.005606  \n",
       "ENSG00000112877         0.005459         0.005300  \n",
       "ENSG00000113504         0.007452         0.007947  \n",
       "\n",
       "[5 rows x 305 columns]"
      ]
     },
     "execution_count": 31,
     "metadata": {},
     "output_type": "execute_result"
    }
   ],
   "source": [
    "gene_corrs_df.head()"
   ]
  },
  {
   "cell_type": "markdown",
   "id": "dad6603f-01c6-41fb-a6f6-241051207dd8",
   "metadata": {
    "papermill": {
     "duration": 2.685721,
     "end_time": "2022-08-08T05:55:17.020452",
     "exception": false,
     "start_time": "2022-08-08T05:55:14.334731",
     "status": "completed"
    },
    "tags": []
   },
   "source": [
    "## Standard checks and stats"
   ]
  },
  {
   "cell_type": "code",
   "execution_count": 32,
   "id": "286686af-1b7b-4440-8453-6bdcbd8de19c",
   "metadata": {
    "execution": {
     "iopub.execute_input": "2022-08-08T05:55:21.936652Z",
     "iopub.status.busy": "2022-08-08T05:55:21.936401Z",
     "iopub.status.idle": "2022-08-08T05:55:21.952402Z",
     "shell.execute_reply": "2022-08-08T05:55:21.951956Z"
    },
    "papermill": {
     "duration": 2.530999,
     "end_time": "2022-08-08T05:55:21.953693",
     "exception": false,
     "start_time": "2022-08-08T05:55:19.422694",
     "status": "completed"
    },
    "tags": []
   },
   "outputs": [],
   "source": [
    "assert not gene_corrs_df.isna().any().any()"
   ]
  },
  {
   "cell_type": "code",
   "execution_count": 33,
   "id": "00583efc-7068-4270-ad1e-4a418e91db96",
   "metadata": {
    "execution": {
     "iopub.execute_input": "2022-08-08T05:55:26.811563Z",
     "iopub.status.busy": "2022-08-08T05:55:26.811325Z",
     "iopub.status.idle": "2022-08-08T05:55:26.829000Z",
     "shell.execute_reply": "2022-08-08T05:55:26.828501Z"
    },
    "papermill": {
     "duration": 2.48729,
     "end_time": "2022-08-08T05:55:26.830159",
     "exception": false,
     "start_time": "2022-08-08T05:55:24.342869",
     "status": "completed"
    },
    "tags": []
   },
   "outputs": [
    {
     "data": {
      "text/plain": [
       "6.6177825020691e-09"
      ]
     },
     "metadata": {},
     "output_type": "display_data"
    }
   ],
   "source": [
    "_min_val = gene_corrs_df.min().min()\n",
    "display(_min_val)\n",
    "assert _min_val >= 0.0"
   ]
  },
  {
   "cell_type": "code",
   "execution_count": 34,
   "id": "d04fb2cf-1050-475b-b855-f5f7cc04092b",
   "metadata": {
    "execution": {
     "iopub.execute_input": "2022-08-08T05:55:31.891937Z",
     "iopub.status.busy": "2022-08-08T05:55:31.891733Z",
     "iopub.status.idle": "2022-08-08T05:55:31.910394Z",
     "shell.execute_reply": "2022-08-08T05:55:31.909965Z"
    },
    "papermill": {
     "duration": 2.503166,
     "end_time": "2022-08-08T05:55:31.911752",
     "exception": false,
     "start_time": "2022-08-08T05:55:29.408586",
     "status": "completed"
    },
    "tags": []
   },
   "outputs": [
    {
     "data": {
      "text/plain": [
       "1.0"
      ]
     },
     "metadata": {},
     "output_type": "display_data"
    }
   ],
   "source": [
    "_max_val = gene_corrs_df.max().max()  # this captures the diagonal\n",
    "display(_max_val)\n",
    "assert _max_val <= 1.0"
   ]
  },
  {
   "cell_type": "code",
   "execution_count": 35,
   "id": "96d02c44-1fba-47be-8a93-8f2608420b9c",
   "metadata": {
    "execution": {
     "iopub.execute_input": "2022-08-08T05:55:36.813659Z",
     "iopub.status.busy": "2022-08-08T05:55:36.813409Z",
     "iopub.status.idle": "2022-08-08T05:55:36.828357Z",
     "shell.execute_reply": "2022-08-08T05:55:36.827858Z"
    },
    "papermill": {
     "duration": 2.528391,
     "end_time": "2022-08-08T05:55:36.829587",
     "exception": false,
     "start_time": "2022-08-08T05:55:34.301196",
     "status": "completed"
    },
    "tags": []
   },
   "outputs": [],
   "source": [
    "# check upper triangular values\n",
    "assert len(gene_corrs) == int(genes_chr.shape[0] * (genes_chr.shape[0] - 1) / 2)"
   ]
  },
  {
   "cell_type": "code",
   "execution_count": 36,
   "id": "fe283586-c348-40e0-8841-f6d97bfb021c",
   "metadata": {
    "execution": {
     "iopub.execute_input": "2022-08-08T05:55:41.661038Z",
     "iopub.status.busy": "2022-08-08T05:55:41.660813Z",
     "iopub.status.idle": "2022-08-08T05:55:41.680392Z",
     "shell.execute_reply": "2022-08-08T05:55:41.679911Z"
    },
    "papermill": {
     "duration": 2.469795,
     "end_time": "2022-08-08T05:55:41.681599",
     "exception": false,
     "start_time": "2022-08-08T05:55:39.211804",
     "status": "completed"
    },
    "tags": []
   },
   "outputs": [
    {
     "data": {
      "text/plain": [
       "count    4.636000e+04\n",
       "mean     8.145746e-03\n",
       "std      3.008407e-02\n",
       "min      6.617783e-09\n",
       "25%      3.850211e-03\n",
       "50%      5.808159e-03\n",
       "75%      8.047767e-03\n",
       "max      9.806959e-01\n",
       "dtype: float64"
      ]
     },
     "execution_count": 36,
     "metadata": {},
     "output_type": "execute_result"
    }
   ],
   "source": [
    "gene_corrs_flat.describe()"
   ]
  },
  {
   "cell_type": "code",
   "execution_count": 37,
   "id": "b3815678-0f93-4b35-897b-a9d047a2aa78",
   "metadata": {
    "execution": {
     "iopub.execute_input": "2022-08-08T05:55:46.586751Z",
     "iopub.status.busy": "2022-08-08T05:55:46.586584Z",
     "iopub.status.idle": "2022-08-08T05:55:46.607119Z",
     "shell.execute_reply": "2022-08-08T05:55:46.606710Z"
    },
    "papermill": {
     "duration": 2.412631,
     "end_time": "2022-08-08T05:55:46.608553",
     "exception": false,
     "start_time": "2022-08-08T05:55:44.195922",
     "status": "completed"
    },
    "tags": []
   },
   "outputs": [
    {
     "data": {
      "text/plain": [
       "0.00    6.617783e-09\n",
       "0.05    1.531653e-03\n",
       "0.10    2.306711e-03\n",
       "0.15    2.891282e-03\n",
       "0.20    3.398122e-03\n",
       "0.25    3.850211e-03\n",
       "0.30    4.272478e-03\n",
       "0.35    4.663866e-03\n",
       "0.40    5.058091e-03\n",
       "0.45    5.421722e-03\n",
       "0.50    5.808159e-03\n",
       "0.55    6.199253e-03\n",
       "0.60    6.617559e-03\n",
       "0.65    7.050265e-03\n",
       "0.70    7.539378e-03\n",
       "0.75    8.047767e-03\n",
       "0.80    8.637379e-03\n",
       "0.85    9.366412e-03\n",
       "0.90    1.033566e-02\n",
       "0.95    1.193236e-02\n",
       "dtype: float64"
      ]
     },
     "metadata": {},
     "output_type": "display_data"
    }
   ],
   "source": [
    "gene_corrs_quantiles = gene_corrs_flat.quantile(np.arange(0, 1, 0.05))\n",
    "display(gene_corrs_quantiles)"
   ]
  },
  {
   "cell_type": "markdown",
   "id": "87134509-b145-4a10-8bc9-b7e914c2b0fa",
   "metadata": {
    "papermill": {
     "duration": 2.422999,
     "end_time": "2022-08-08T05:55:51.585800",
     "exception": false,
     "start_time": "2022-08-08T05:55:49.162801",
     "status": "completed"
    },
    "tags": []
   },
   "source": [
    "## Positive definiteness"
   ]
  },
  {
   "cell_type": "code",
   "execution_count": 38,
   "id": "07d9a9a1-a4f7-48aa-b916-6d42a8cc6186",
   "metadata": {
    "execution": {
     "iopub.execute_input": "2022-08-08T05:55:56.500721Z",
     "iopub.status.busy": "2022-08-08T05:55:56.500507Z",
     "iopub.status.idle": "2022-08-08T05:55:56.556783Z",
     "shell.execute_reply": "2022-08-08T05:55:56.556415Z"
    },
    "papermill": {
     "duration": 2.455476,
     "end_time": "2022-08-08T05:55:56.558425",
     "exception": false,
     "start_time": "2022-08-08T05:55:54.102949",
     "status": "completed"
    },
    "tags": []
   },
   "outputs": [
    {
     "data": {
      "text/plain": [
       "0"
      ]
     },
     "metadata": {},
     "output_type": "display_data"
    },
    {
     "data": {
      "text/plain": [
       "array([], dtype=float64)"
      ]
     },
     "metadata": {},
     "output_type": "display_data"
    }
   ],
   "source": [
    "# print negative eigenvalues\n",
    "eigs = np.linalg.eigvals(gene_corrs_df.to_numpy())\n",
    "display(len(eigs[eigs < 0]))\n",
    "display(eigs[eigs < 0])"
   ]
  },
  {
   "cell_type": "code",
   "execution_count": 39,
   "id": "6e218436-c3c5-4028-8c94-a4fa6260efce",
   "metadata": {
    "execution": {
     "iopub.execute_input": "2022-08-08T05:56:01.581644Z",
     "iopub.status.busy": "2022-08-08T05:56:01.581391Z",
     "iopub.status.idle": "2022-08-08T05:56:01.627082Z",
     "shell.execute_reply": "2022-08-08T05:56:01.626707Z"
    },
    "papermill": {
     "duration": 2.573583,
     "end_time": "2022-08-08T05:56:01.628185",
     "exception": false,
     "start_time": "2022-08-08T05:55:59.054602",
     "status": "completed"
    },
    "tags": []
   },
   "outputs": [
    {
     "name": "stdout",
     "output_type": "stream",
     "text": [
      "Works!\n"
     ]
    }
   ],
   "source": [
    "try:\n",
    "    chol_mat = np.linalg.cholesky(gene_corrs_df.to_numpy())\n",
    "    cov_inv = np.linalg.inv(chol_mat)\n",
    "    print(\"Works!\")\n",
    "except:\n",
    "    print(\"Cholesky decomposition failed\")"
   ]
  },
  {
   "cell_type": "markdown",
   "id": "8e60a080-edb2-4e9c-b2ef-22961693200c",
   "metadata": {
    "papermill": {
     "duration": 2.552671,
     "end_time": "2022-08-08T05:56:06.611053",
     "exception": false,
     "start_time": "2022-08-08T05:56:04.058382",
     "status": "completed"
    },
    "tags": []
   },
   "source": [
    "## Plot: distribution"
   ]
  },
  {
   "cell_type": "code",
   "execution_count": 40,
   "id": "8301126b-a7d4-4744-9c7d-f0f86eb6f54c",
   "metadata": {
    "execution": {
     "iopub.execute_input": "2022-08-08T05:56:11.509131Z",
     "iopub.status.busy": "2022-08-08T05:56:11.508688Z",
     "iopub.status.idle": "2022-08-08T05:56:21.122889Z",
     "shell.execute_reply": "2022-08-08T05:56:21.122410Z"
    },
    "papermill": {
     "duration": 12.112721,
     "end_time": "2022-08-08T05:56:21.124353",
     "exception": false,
     "start_time": "2022-08-08T05:56:09.011632",
     "status": "completed"
    },
    "tags": []
   },
   "outputs": [
    {
     "data": {
      "image/png": "[encoded data removed]",
      "text/plain": [
       "<Figure size 504x504 with 1 Axes>"
      ]
     },
     "metadata": {
      "needs_background": "light"
     },
     "output_type": "display_data"
    }
   ],
   "source": [
    "with sns.plotting_context(\"paper\", font_scale=1.5):\n",
    "    g = sns.displot(gene_corrs_flat, kde=True, height=7)\n",
    "    g.ax.set_title(\n",
    "        f\"Distribution of gene correlation values in chromosome {CHROMOSOME}\"\n",
    "    )"
   ]
  },
  {
   "cell_type": "markdown",
   "id": "cbd52bca-d878-4a2f-b684-5c83aa3038d4",
   "metadata": {
    "papermill": {
     "duration": 2.41689,
     "end_time": "2022-08-08T05:56:26.042183",
     "exception": false,
     "start_time": "2022-08-08T05:56:23.625293",
     "status": "completed"
    },
    "tags": []
   },
   "source": [
    "## Plot: heatmap"
   ]
  },
  {
   "cell_type": "code",
   "execution_count": 41,
   "id": "d03fe63a-c7b2-4fb9-a53c-db362ce843c9",
   "metadata": {
    "execution": {
     "iopub.execute_input": "2022-08-08T05:56:31.112578Z",
     "iopub.status.busy": "2022-08-08T05:56:31.112343Z",
     "iopub.status.idle": "2022-08-08T05:56:31.128829Z",
     "shell.execute_reply": "2022-08-08T05:56:31.128384Z"
    },
    "papermill": {
     "duration": 2.477032,
     "end_time": "2022-08-08T05:56:31.129979",
     "exception": false,
     "start_time": "2022-08-08T05:56:28.652947",
     "status": "completed"
    },
    "tags": []
   },
   "outputs": [
    {
     "data": {
      "text/plain": [
       "'0.0 / 0.05'"
      ]
     },
     "metadata": {},
     "output_type": "display_data"
    }
   ],
   "source": [
    "vmin_val = min(0.00, gene_corrs_quantiles[0.10])\n",
    "vmax_val = max(0.05, gene_corrs_quantiles[0.90])\n",
    "display(f\"{vmin_val} / {vmax_val}\")"
   ]
  },
  {
   "cell_type": "code",
   "execution_count": 42,
   "id": "dc41b70b-5bcc-4d9e-9f33-a22c4a94dab5",
   "metadata": {
    "execution": {
     "iopub.execute_input": "2022-08-08T05:56:35.958430Z",
     "iopub.status.busy": "2022-08-08T05:56:35.958227Z",
     "iopub.status.idle": "2022-08-08T05:56:36.215789Z",
     "shell.execute_reply": "2022-08-08T05:56:36.215295Z"
    },
    "papermill": {
     "duration": 2.671195,
     "end_time": "2022-08-08T05:56:36.218648",
     "exception": false,
     "start_time": "2022-08-08T05:56:33.547453",
     "status": "completed"
    },
    "tags": []
   },
   "outputs": [
    {
     "data": {
      "text/plain": [
       "Text(0.5, 1.0, 'Gene correlations in chromosome 5')"
      ]
     },
     "execution_count": 42,
     "metadata": {},
     "output_type": "execute_result"
    },
    {
     "data": {
      "image/png": "[encoded data removed]",
      "text/plain": [
       "<Figure size 720x720 with 2 Axes>"
      ]
     },
     "metadata": {
      "needs_background": "light"
     },
     "output_type": "display_data"
    }
   ],
   "source": [
    "f, ax = plt.subplots(figsize=(10, 10))\n",
    "sns.heatmap(\n",
    "    gene_corrs_df,\n",
    "    xticklabels=False,\n",
    "    yticklabels=False,\n",
    "    square=True,\n",
    "    vmin=vmin_val,\n",
    "    vmax=vmax_val,\n",
    "    cmap=\"rocket_r\",\n",
    "    ax=ax,\n",
    ")\n",
    "ax.set_title(f\"Gene correlations in chromosome {CHROMOSOME}\")"
   ]
  },
  {
   "cell_type": "code",
   "execution_count": null,
   "id": "b25e3ead",
   "metadata": {
    "papermill": {
     "duration": 2.489423,
     "end_time": "2022-08-08T05:56:41.256577",
     "exception": false,
     "start_time": "2022-08-08T05:56:38.767154",
     "status": "completed"
    },
    "tags": []
   },
   "outputs": [],
   "source": []
  }
 ],
 "metadata": {
  "jupytext": {
   "cell_metadata_filter": "all,-execution,-papermill,-trusted",
   "formats": "ipynb,py//py:percent"
  },
  "kernelspec": {
   "display_name": "Python 3 (ipykernel)",
   "language": "python",
   "name": "python3"
  },
  "language_info": {
   "codemirror_mode": {
    "name": "ipython",
    "version": 3
   },
   "file_extension": ".py",
   "mimetype": "text/x-python",
   "name": "python",
   "nbconvert_exporter": "python",
   "pygments_lexer": "ipython3",
   "version": "3.8.13"
  },
  "papermill": {
   "default_parameters": {},
   "duration": 3570.300001,
   "end_time": "2022-08-08T05:56:46.524675",
   "environment_variables": {},
   "exception": null,
   "input_path": "nbs/15_gsa_gls/10-gene_expr_correlations.ipynb",
   "output_path": "nbs/15_gsa_gls/gene_corrs/cohorts/1000g_eur/gtex_v8/mashr/10-gene_expr_correlations-chr5.run.ipynb",
   "parameters": {
    "CHROMOSOME": 5,
    "COHORT_NAME": "1000G_EUR",
    "EQTL_MODEL": "MASHR",
    "REFERENCE_PANEL": "GTEX_V8"
   },
   "start_time": "2022-08-08T04:57:16.224674",
   "version": "2.2.2"
  }
 },
 "nbformat": 4,
 "nbformat_minor": 5
}
