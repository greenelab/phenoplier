{
 "cells": [
  {
   "cell_type": "markdown",
   "id": "7a6632fb",
   "metadata": {
    "papermill": {
     "duration": 0.007686,
     "end_time": "2022-08-08T06:47:05.295691",
     "exception": false,
     "start_time": "2022-08-08T06:47:05.288005",
     "status": "completed"
    },
    "tags": []
   },
   "source": [
    "# Description"
   ]
  },
  {
   "cell_type": "markdown",
   "id": "7097c346",
   "metadata": {
    "papermill": {
     "duration": 0.005345,
     "end_time": "2022-08-08T06:47:05.306502",
     "exception": false,
     "start_time": "2022-08-08T06:47:05.301157",
     "status": "completed"
    },
    "tags": []
   },
   "source": [
    "(Please, take a look at the README.md file in this directory for instructions on how to run this notebook)\n",
    "\n",
    "This notebook computes predicted expression correlations between all genes in the MultiPLIER models.\n",
    "\n",
    "It also has a parameter set for papermill to run on a single chromosome to run in parallel (see under `Settings` below).\n",
    "\n",
    "This notebook is not directly run. See README.md."
   ]
  },
  {
   "cell_type": "markdown",
   "id": "c61d8427",
   "metadata": {
    "papermill": {
     "duration": 0.005144,
     "end_time": "2022-08-08T06:47:05.317051",
     "exception": false,
     "start_time": "2022-08-08T06:47:05.311907",
     "status": "completed"
    },
    "tags": []
   },
   "source": [
    "# Modules"
   ]
  },
  {
   "cell_type": "code",
   "execution_count": 1,
   "id": "bbc0234f",
   "metadata": {
    "execution": {
     "iopub.execute_input": "2022-08-08T06:47:05.329049Z",
     "iopub.status.busy": "2022-08-08T06:47:05.328864Z",
     "iopub.status.idle": "2022-08-08T06:47:05.343498Z",
     "shell.execute_reply": "2022-08-08T06:47:05.343078Z"
    },
    "papermill": {
     "duration": 0.022351,
     "end_time": "2022-08-08T06:47:05.344979",
     "exception": false,
     "start_time": "2022-08-08T06:47:05.322628",
     "status": "completed"
    },
    "tags": []
   },
   "outputs": [],
   "source": [
    "%load_ext autoreload\n",
    "%autoreload 2"
   ]
  },
  {
   "cell_type": "code",
   "execution_count": 2,
   "id": "1d5f5a59",
   "metadata": {
    "execution": {
     "iopub.execute_input": "2022-08-08T06:47:05.358004Z",
     "iopub.status.busy": "2022-08-08T06:47:05.357647Z",
     "iopub.status.idle": "2022-08-08T06:47:06.239064Z",
     "shell.execute_reply": "2022-08-08T06:47:06.238644Z"
    },
    "papermill": {
     "duration": 0.889567,
     "end_time": "2022-08-08T06:47:06.240378",
     "exception": false,
     "start_time": "2022-08-08T06:47:05.350811",
     "status": "completed"
    },
    "tags": []
   },
   "outputs": [],
   "source": [
    "from random import sample, seed\n",
    "import warnings\n",
    "from pathlib import Path\n",
    "import pickle\n",
    "import traceback\n",
    "\n",
    "import numpy as np\n",
    "from scipy.spatial.distance import squareform\n",
    "import pandas as pd\n",
    "from tqdm import tqdm\n",
    "import matplotlib.pyplot as plt\n",
    "import seaborn as sns\n",
    "\n",
    "import conf\n",
    "from entity import Gene"
   ]
  },
  {
   "cell_type": "markdown",
   "id": "1eac24b5",
   "metadata": {
    "papermill": {
     "duration": 0.00592,
     "end_time": "2022-08-08T06:47:06.277758",
     "exception": false,
     "start_time": "2022-08-08T06:47:06.271838",
     "status": "completed"
    },
    "tags": []
   },
   "source": [
    "# Settings"
   ]
  },
  {
   "cell_type": "code",
   "execution_count": 3,
   "id": "ca4560ba",
   "metadata": {
    "execution": {
     "iopub.execute_input": "2022-08-08T06:47:06.290169Z",
     "iopub.status.busy": "2022-08-08T06:47:06.289954Z",
     "iopub.status.idle": "2022-08-08T06:47:06.305035Z",
     "shell.execute_reply": "2022-08-08T06:47:06.304655Z"
    },
    "papermill": {
     "duration": 0.022838,
     "end_time": "2022-08-08T06:47:06.306321",
     "exception": false,
     "start_time": "2022-08-08T06:47:06.283483",
     "status": "completed"
    },
    "tags": [
     "parameters"
    ]
   },
   "outputs": [],
   "source": [
    "# a cohort name (it could be something like UK_BIOBANK, etc)\n",
    "COHORT_NAME = None\n",
    "\n",
    "# reference panel such as 1000G or GTEX_V8\n",
    "REFERENCE_PANEL = None\n",
    "\n",
    "# predictions models such as MASHR or ELASTIC_NET\n",
    "EQTL_MODEL = None\n",
    "\n",
    "# this is the default value used in S-MultiXcan to select the\n",
    "# top principal components of the expression correlation matrix\n",
    "SMULTIXCAN_CONDITION_NUMBER = 30\n",
    "\n",
    "# specifies a single chromosome value\n",
    "CHROMOSOME = None\n",
    "\n",
    "# If True, computes the correlation between closeby genes only;\n",
    "# otherwise, it computes correlations for all genes in a chromosome\n",
    "COMPUTE_CORRELATIONS_WITHIN_DISTANCE = False\n",
    "\n",
    "# if True, then it will continue if a gene pair correlation fails,\n",
    "# printing the warning/error for debugging. If False, any warning/error\n",
    "# will be thrown\n",
    "DEBUG_MODE = False"
   ]
  },
  {
   "cell_type": "code",
   "execution_count": 4,
   "id": "c3998464",
   "metadata": {
    "execution": {
     "iopub.execute_input": "2022-08-08T06:47:06.318030Z",
     "iopub.status.busy": "2022-08-08T06:47:06.317829Z",
     "iopub.status.idle": "2022-08-08T06:47:06.332702Z",
     "shell.execute_reply": "2022-08-08T06:47:06.332323Z"
    },
    "papermill": {
     "duration": 0.022155,
     "end_time": "2022-08-08T06:47:06.333996",
     "exception": false,
     "start_time": "2022-08-08T06:47:06.311841",
     "status": "completed"
    },
    "tags": [
     "injected-parameters"
    ]
   },
   "outputs": [],
   "source": [
    "# Parameters\n",
    "COHORT_NAME = \"1000G_EUR\"\n",
    "REFERENCE_PANEL = \"GTEX_V8\"\n",
    "EQTL_MODEL = \"MASHR\"\n",
    "CHROMOSOME = 10\n"
   ]
  },
  {
   "cell_type": "code",
   "execution_count": 5,
   "id": "3190631f-27fc-480f-b18e-571d580425a5",
   "metadata": {
    "execution": {
     "iopub.execute_input": "2022-08-08T06:47:06.349143Z",
     "iopub.status.busy": "2022-08-08T06:47:06.348860Z",
     "iopub.status.idle": "2022-08-08T06:47:06.365563Z",
     "shell.execute_reply": "2022-08-08T06:47:06.365187Z"
    },
    "papermill": {
     "duration": 0.027337,
     "end_time": "2022-08-08T06:47:06.366736",
     "exception": false,
     "start_time": "2022-08-08T06:47:06.339399",
     "status": "completed"
    },
    "tags": []
   },
   "outputs": [
    {
     "data": {
      "text/plain": [
       "'Cohort name: 1000g_eur'"
      ]
     },
     "metadata": {},
     "output_type": "display_data"
    }
   ],
   "source": [
    "assert COHORT_NAME is not None and len(COHORT_NAME) > 0, \"A cohort name must be given\"\n",
    "\n",
    "COHORT_NAME = COHORT_NAME.lower()\n",
    "display(f\"Cohort name: {COHORT_NAME}\")"
   ]
  },
  {
   "cell_type": "code",
   "execution_count": 6,
   "id": "f53ba19b-0f93-4fa2-a047-63b375939d1a",
   "metadata": {
    "execution": {
     "iopub.execute_input": "2022-08-08T06:47:06.378574Z",
     "iopub.status.busy": "2022-08-08T06:47:06.378287Z",
     "iopub.status.idle": "2022-08-08T06:47:06.393873Z",
     "shell.execute_reply": "2022-08-08T06:47:06.393134Z"
    },
    "papermill": {
     "duration": 0.022937,
     "end_time": "2022-08-08T06:47:06.395295",
     "exception": false,
     "start_time": "2022-08-08T06:47:06.372358",
     "status": "completed"
    },
    "tags": []
   },
   "outputs": [
    {
     "data": {
      "text/plain": [
       "'Reference panel: GTEX_V8'"
      ]
     },
     "metadata": {},
     "output_type": "display_data"
    }
   ],
   "source": [
    "assert (\n",
    "    REFERENCE_PANEL is not None and len(REFERENCE_PANEL) > 0\n",
    "), \"A reference panel must be given\"\n",
    "\n",
    "display(f\"Reference panel: {REFERENCE_PANEL}\")"
   ]
  },
  {
   "cell_type": "code",
   "execution_count": 7,
   "id": "e024d130-c139-429a-9c6e-ccf149e297b0",
   "metadata": {
    "execution": {
     "iopub.execute_input": "2022-08-08T06:47:06.407479Z",
     "iopub.status.busy": "2022-08-08T06:47:06.407307Z",
     "iopub.status.idle": "2022-08-08T06:47:06.422570Z",
     "shell.execute_reply": "2022-08-08T06:47:06.422127Z"
    },
    "papermill": {
     "duration": 0.022783,
     "end_time": "2022-08-08T06:47:06.423744",
     "exception": false,
     "start_time": "2022-08-08T06:47:06.400961",
     "status": "completed"
    },
    "tags": []
   },
   "outputs": [
    {
     "data": {
      "text/plain": [
       "'eQTL model: MASHR) / mashr_'"
      ]
     },
     "metadata": {},
     "output_type": "display_data"
    }
   ],
   "source": [
    "assert (\n",
    "    EQTL_MODEL is not None and len(EQTL_MODEL) > 0\n",
    "), \"A prediction/eQTL model must be given\"\n",
    "\n",
    "EQTL_MODEL_FILES_PREFIX = conf.PHENOMEXCAN[\"PREDICTION_MODELS\"][f\"{EQTL_MODEL}_PREFIX\"]\n",
    "display(f\"eQTL model: {EQTL_MODEL}) / {EQTL_MODEL_FILES_PREFIX}\")"
   ]
  },
  {
   "cell_type": "code",
   "execution_count": 8,
   "id": "552a7f63-a18c-4d3e-bb6a-94f99b431291",
   "metadata": {
    "execution": {
     "iopub.execute_input": "2022-08-08T06:47:06.436022Z",
     "iopub.status.busy": "2022-08-08T06:47:06.435825Z",
     "iopub.status.idle": "2022-08-08T06:47:06.450876Z",
     "shell.execute_reply": "2022-08-08T06:47:06.450379Z"
    },
    "papermill": {
     "duration": 0.023589,
     "end_time": "2022-08-08T06:47:06.453218",
     "exception": false,
     "start_time": "2022-08-08T06:47:06.429629",
     "status": "completed"
    },
    "tags": []
   },
   "outputs": [
    {
     "data": {
      "text/plain": [
       "'S-MultiXcan condition number: 30'"
      ]
     },
     "metadata": {},
     "output_type": "display_data"
    }
   ],
   "source": [
    "assert (\n",
    "    SMULTIXCAN_CONDITION_NUMBER is not None and SMULTIXCAN_CONDITION_NUMBER > 0\n",
    "), \"The S-MultiXcan condition number (positive integer) must be given\"\n",
    "\n",
    "display(f\"S-MultiXcan condition number: {SMULTIXCAN_CONDITION_NUMBER}\")"
   ]
  },
  {
   "cell_type": "code",
   "execution_count": 9,
   "id": "f34a336f-548e-4afe-8955-90eaea4f42c6",
   "metadata": {
    "execution": {
     "iopub.execute_input": "2022-08-08T06:47:06.466616Z",
     "iopub.status.busy": "2022-08-08T06:47:06.466262Z",
     "iopub.status.idle": "2022-08-08T06:47:06.480836Z",
     "shell.execute_reply": "2022-08-08T06:47:06.480421Z"
    },
    "papermill": {
     "duration": 0.021921,
     "end_time": "2022-08-08T06:47:06.481971",
     "exception": false,
     "start_time": "2022-08-08T06:47:06.460050",
     "status": "completed"
    },
    "tags": []
   },
   "outputs": [
    {
     "data": {
      "text/plain": [
       "'Working on chromosome 10'"
      ]
     },
     "metadata": {},
     "output_type": "display_data"
    }
   ],
   "source": [
    "assert CHROMOSOME is not None and (\n",
    "    1 <= CHROMOSOME <= 22\n",
    "), \"You have to select one chromosome (format: number between 1 and 22)\"\n",
    "\n",
    "# CHROMOSOME = str(CHROMOSOME)\n",
    "display(f\"Working on chromosome {CHROMOSOME}\")"
   ]
  },
  {
   "cell_type": "code",
   "execution_count": 10,
   "id": "ab8e96e8-06b5-4363-9dcd-dc4d78cc27f7",
   "metadata": {
    "execution": {
     "iopub.execute_input": "2022-08-08T06:47:06.494916Z",
     "iopub.status.busy": "2022-08-08T06:47:06.494708Z",
     "iopub.status.idle": "2022-08-08T06:47:06.510417Z",
     "shell.execute_reply": "2022-08-08T06:47:06.510035Z"
    },
    "papermill": {
     "duration": 0.02348,
     "end_time": "2022-08-08T06:47:06.511602",
     "exception": false,
     "start_time": "2022-08-08T06:47:06.488122",
     "status": "completed"
    },
    "tags": []
   },
   "outputs": [
    {
     "data": {
      "text/plain": [
       "'Compute correlation within distance False'"
      ]
     },
     "metadata": {},
     "output_type": "display_data"
    }
   ],
   "source": [
    "display(f\"Compute correlation within distance {COMPUTE_CORRELATIONS_WITHIN_DISTANCE}\")"
   ]
  },
  {
   "cell_type": "code",
   "execution_count": 11,
   "id": "396392dc-0340-4540-9b02-e182b833f909",
   "metadata": {
    "execution": {
     "iopub.execute_input": "2022-08-08T06:47:06.524427Z",
     "iopub.status.busy": "2022-08-08T06:47:06.524107Z",
     "iopub.status.idle": "2022-08-08T06:47:06.539668Z",
     "shell.execute_reply": "2022-08-08T06:47:06.539188Z"
    },
    "papermill": {
     "duration": 0.023151,
     "end_time": "2022-08-08T06:47:06.540837",
     "exception": false,
     "start_time": "2022-08-08T06:47:06.517686",
     "status": "completed"
    },
    "tags": []
   },
   "outputs": [
    {
     "data": {
      "text/plain": [
       "'Using output dir base: /opt/data/results/gls/gene_corrs/cohorts/1000g_eur/gtex_v8/mashr'"
      ]
     },
     "metadata": {},
     "output_type": "display_data"
    }
   ],
   "source": [
    "OUTPUT_DIR_BASE = (\n",
    "    conf.RESULTS[\"GLS\"]\n",
    "    / \"gene_corrs\"\n",
    "    / \"cohorts\"\n",
    "    / COHORT_NAME\n",
    "    / REFERENCE_PANEL.lower()\n",
    "    / EQTL_MODEL.lower()\n",
    ")\n",
    "OUTPUT_DIR_BASE.mkdir(parents=True, exist_ok=True)\n",
    "\n",
    "display(f\"Using output dir base: {OUTPUT_DIR_BASE}\")"
   ]
  },
  {
   "cell_type": "markdown",
   "id": "d2ba085e",
   "metadata": {
    "papermill": {
     "duration": 0.006153,
     "end_time": "2022-08-08T06:47:06.553577",
     "exception": false,
     "start_time": "2022-08-08T06:47:06.547424",
     "status": "completed"
    },
    "tags": []
   },
   "source": [
    "# Load data"
   ]
  },
  {
   "cell_type": "markdown",
   "id": "7dcb8db7",
   "metadata": {
    "papermill": {
     "duration": 0.006088,
     "end_time": "2022-08-08T06:47:06.565856",
     "exception": false,
     "start_time": "2022-08-08T06:47:06.559768",
     "status": "completed"
    },
    "tags": []
   },
   "source": [
    "## GWAS variants"
   ]
  },
  {
   "cell_type": "code",
   "execution_count": 12,
   "id": "29434c4e-8cd3-4b9b-82e4-b5a251d9dd19",
   "metadata": {
    "execution": {
     "iopub.execute_input": "2022-08-08T06:47:06.578878Z",
     "iopub.status.busy": "2022-08-08T06:47:06.578675Z",
     "iopub.status.idle": "2022-08-08T06:47:09.113571Z",
     "shell.execute_reply": "2022-08-08T06:47:09.113091Z"
    },
    "papermill": {
     "duration": 2.543066,
     "end_time": "2022-08-08T06:47:09.115065",
     "exception": false,
     "start_time": "2022-08-08T06:47:06.571999",
     "status": "completed"
    },
    "tags": []
   },
   "outputs": [],
   "source": [
    "with open(OUTPUT_DIR_BASE / \"gwas_variant_ids.pkl\", \"rb\") as handle:\n",
    "    gwas_variants_ids_set = pickle.load(handle)"
   ]
  },
  {
   "cell_type": "code",
   "execution_count": 13,
   "id": "b9d9dec2-4a76-4bf9-bde2-e24c95acb8a0",
   "metadata": {
    "execution": {
     "iopub.execute_input": "2022-08-08T06:47:09.130392Z",
     "iopub.status.busy": "2022-08-08T06:47:09.130203Z",
     "iopub.status.idle": "2022-08-08T06:47:09.146277Z",
     "shell.execute_reply": "2022-08-08T06:47:09.145823Z"
    },
    "papermill": {
     "duration": 0.025432,
     "end_time": "2022-08-08T06:47:09.147724",
     "exception": false,
     "start_time": "2022-08-08T06:47:09.122292",
     "status": "completed"
    },
    "tags": []
   },
   "outputs": [
    {
     "data": {
      "text/plain": [
       "8325729"
      ]
     },
     "execution_count": 13,
     "metadata": {},
     "output_type": "execute_result"
    }
   ],
   "source": [
    "len(gwas_variants_ids_set)"
   ]
  },
  {
   "cell_type": "code",
   "execution_count": 14,
   "id": "4235b06a-6034-4ee4-a0a3-2ae35d122418",
   "metadata": {
    "execution": {
     "iopub.execute_input": "2022-08-08T06:47:09.161385Z",
     "iopub.status.busy": "2022-08-08T06:47:09.161183Z",
     "iopub.status.idle": "2022-08-08T06:47:09.639056Z",
     "shell.execute_reply": "2022-08-08T06:47:09.638530Z"
    },
    "papermill": {
     "duration": 0.486164,
     "end_time": "2022-08-08T06:47:09.640582",
     "exception": false,
     "start_time": "2022-08-08T06:47:09.154418",
     "status": "completed"
    },
    "tags": []
   },
   "outputs": [
    {
     "data": {
      "text/plain": [
       "['chr8_87191233_A_G_b38',\n",
       " 'chr2_11735200_G_A_b38',\n",
       " 'chr7_5754668_T_C_b38',\n",
       " 'chr6_106429451_C_T_b38',\n",
       " 'chr21_28851734_T_C_b38']"
      ]
     },
     "execution_count": 14,
     "metadata": {},
     "output_type": "execute_result"
    }
   ],
   "source": [
    "list(gwas_variants_ids_set)[:5]"
   ]
  },
  {
   "cell_type": "markdown",
   "id": "07866999-2305-41f9-a144-e69c9122c212",
   "metadata": {
    "papermill": {
     "duration": 0.007217,
     "end_time": "2022-08-08T06:47:09.655249",
     "exception": false,
     "start_time": "2022-08-08T06:47:09.648032",
     "status": "completed"
    },
    "tags": []
   },
   "source": [
    "## S-PrediXcan tissue models"
   ]
  },
  {
   "cell_type": "code",
   "execution_count": 15,
   "id": "780611d9-77c8-405f-90a4-f271f7b09397",
   "metadata": {
    "execution": {
     "iopub.execute_input": "2022-08-08T06:47:09.670440Z",
     "iopub.status.busy": "2022-08-08T06:47:09.670217Z",
     "iopub.status.idle": "2022-08-08T06:47:10.470251Z",
     "shell.execute_reply": "2022-08-08T06:47:10.469815Z"
    },
    "papermill": {
     "duration": 0.809035,
     "end_time": "2022-08-08T06:47:10.471570",
     "exception": false,
     "start_time": "2022-08-08T06:47:09.662535",
     "status": "completed"
    },
    "tags": []
   },
   "outputs": [],
   "source": [
    "spredixcan_genes_models = pd.read_pickle(OUTPUT_DIR_BASE / \"gene_tissues.pkl\")"
   ]
  },
  {
   "cell_type": "code",
   "execution_count": 16,
   "id": "726dd1f6-9557-4225-91fa-b3b879ea96e1",
   "metadata": {
    "execution": {
     "iopub.execute_input": "2022-08-08T06:47:10.484851Z",
     "iopub.status.busy": "2022-08-08T06:47:10.484622Z",
     "iopub.status.idle": "2022-08-08T06:47:10.500003Z",
     "shell.execute_reply": "2022-08-08T06:47:10.499542Z"
    },
    "papermill": {
     "duration": 0.023873,
     "end_time": "2022-08-08T06:47:10.501771",
     "exception": false,
     "start_time": "2022-08-08T06:47:10.477898",
     "status": "completed"
    },
    "tags": []
   },
   "outputs": [
    {
     "data": {
      "text/plain": [
       "(6442, 10)"
      ]
     },
     "execution_count": 16,
     "metadata": {},
     "output_type": "execute_result"
    }
   ],
   "source": [
    "spredixcan_genes_models.shape"
   ]
  },
  {
   "cell_type": "code",
   "execution_count": 17,
   "id": "944a1b48-222c-4eb0-b252-b9de2cbca215",
   "metadata": {
    "execution": {
     "iopub.execute_input": "2022-08-08T06:47:10.515427Z",
     "iopub.status.busy": "2022-08-08T06:47:10.514865Z",
     "iopub.status.idle": "2022-08-08T06:47:10.544189Z",
     "shell.execute_reply": "2022-08-08T06:47:10.543767Z"
    },
    "papermill": {
     "duration": 0.037263,
     "end_time": "2022-08-08T06:47:10.545401",
     "exception": false,
     "start_time": "2022-08-08T06:47:10.508138",
     "status": "completed"
    },
    "tags": []
   },
   "outputs": [
    {
     "data": {
      "text/html": [
       "<div>\n",
       "<style scoped>\n",
       "    .dataframe tbody tr th:only-of-type {\n",
       "        vertical-align: middle;\n",
       "    }\n",
       "\n",
       "    .dataframe tbody tr th {\n",
       "        vertical-align: top;\n",
       "    }\n",
       "\n",
       "    .dataframe thead th {\n",
       "        text-align: right;\n",
       "    }\n",
       "</style>\n",
       "<table border=\"1\" class=\"dataframe\">\n",
       "  <thead>\n",
       "    <tr style=\"text-align: right;\">\n",
       "      <th></th>\n",
       "      <th>gene_name</th>\n",
       "      <th>tissue</th>\n",
       "      <th>n_tissues</th>\n",
       "      <th>tissues_pc_variances</th>\n",
       "      <th>tissues_pc_variances_cov</th>\n",
       "      <th>tissues_variances</th>\n",
       "      <th>n_snps_used_sum</th>\n",
       "      <th>n_snps_in_model_sum</th>\n",
       "      <th>unique_n_snps_in_model</th>\n",
       "      <th>unique_n_snps_used</th>\n",
       "    </tr>\n",
       "    <tr>\n",
       "      <th>gene_id</th>\n",
       "      <th></th>\n",
       "      <th></th>\n",
       "      <th></th>\n",
       "      <th></th>\n",
       "      <th></th>\n",
       "      <th></th>\n",
       "      <th></th>\n",
       "      <th></th>\n",
       "      <th></th>\n",
       "      <th></th>\n",
       "    </tr>\n",
       "  </thead>\n",
       "  <tbody>\n",
       "    <tr>\n",
       "      <th>ENSG00000000419</th>\n",
       "      <td>DPM1</td>\n",
       "      <td>(Brain_Substantia_nigra, Brain_Hypothalamus)</td>\n",
       "      <td>2</td>\n",
       "      <td>[1.0442398458252409, 0.9557601541747592]</td>\n",
       "      <td>[0.013163142634155849, 0.00048574890347684763]</td>\n",
       "      <td>{'Brain_Hypothalamus': 0.013162153504206677, '...</td>\n",
       "      <td>2</td>\n",
       "      <td>2</td>\n",
       "      <td>2</td>\n",
       "      <td>2</td>\n",
       "    </tr>\n",
       "    <tr>\n",
       "      <th>ENSG00000000938</th>\n",
       "      <td>FGR</td>\n",
       "      <td>(Whole_Blood, Thyroid, Artery_Aorta, Esophagus...</td>\n",
       "      <td>36</td>\n",
       "      <td>[31.632669336371276, 2.078367751851144, 1.2716...</td>\n",
       "      <td>[0.17159486570780275]</td>\n",
       "      <td>{'Brain_Frontal_Cortex_BA9': 0.005461342207578...</td>\n",
       "      <td>40</td>\n",
       "      <td>40</td>\n",
       "      <td>5</td>\n",
       "      <td>5</td>\n",
       "    </tr>\n",
       "    <tr>\n",
       "      <th>ENSG00000000971</th>\n",
       "      <td>CFH</td>\n",
       "      <td>(Whole_Blood, Thyroid, Brain_Putamen_basal_gan...</td>\n",
       "      <td>34</td>\n",
       "      <td>[21.560769925683292, 7.310170987045467, 1.8377...</td>\n",
       "      <td>[0.20930603195874506, 0.05823434765600799, 0.0...</td>\n",
       "      <td>{'Brain_Frontal_Cortex_BA9': 0.005194353597795...</td>\n",
       "      <td>44</td>\n",
       "      <td>44</td>\n",
       "      <td>12</td>\n",
       "      <td>12</td>\n",
       "    </tr>\n",
       "    <tr>\n",
       "      <th>ENSG00000001084</th>\n",
       "      <td>GCLC</td>\n",
       "      <td>(Whole_Blood, Thyroid, Brain_Putamen_basal_gan...</td>\n",
       "      <td>32</td>\n",
       "      <td>[21.291939080546523, 4.699418748743194, 2.2489...</td>\n",
       "      <td>[0.3943052737512377, 0.11627488888534836, 0.01...</td>\n",
       "      <td>{'Brain_Frontal_Cortex_BA9': 0.015455998643262...</td>\n",
       "      <td>46</td>\n",
       "      <td>46</td>\n",
       "      <td>23</td>\n",
       "      <td>23</td>\n",
       "    </tr>\n",
       "    <tr>\n",
       "      <th>ENSG00000001167</th>\n",
       "      <td>NFYA</td>\n",
       "      <td>(Whole_Blood, Thyroid, Brain_Putamen_basal_gan...</td>\n",
       "      <td>40</td>\n",
       "      <td>[37.33566029549769, 1.3914019604538361]</td>\n",
       "      <td>[1.164263997982105, 0.05742881287671713]</td>\n",
       "      <td>{'Heart_Left_Ventricle': 0.01552640772964782, ...</td>\n",
       "      <td>47</td>\n",
       "      <td>48</td>\n",
       "      <td>14</td>\n",
       "      <td>13</td>\n",
       "    </tr>\n",
       "  </tbody>\n",
       "</table>\n",
       "</div>"
      ],
      "text/plain": [
       "                gene_name                                             tissue  \\\n",
       "gene_id                                                                        \n",
       "ENSG00000000419      DPM1       (Brain_Substantia_nigra, Brain_Hypothalamus)   \n",
       "ENSG00000000938       FGR  (Whole_Blood, Thyroid, Artery_Aorta, Esophagus...   \n",
       "ENSG00000000971       CFH  (Whole_Blood, Thyroid, Brain_Putamen_basal_gan...   \n",
       "ENSG00000001084      GCLC  (Whole_Blood, Thyroid, Brain_Putamen_basal_gan...   \n",
       "ENSG00000001167      NFYA  (Whole_Blood, Thyroid, Brain_Putamen_basal_gan...   \n",
       "\n",
       "                 n_tissues                               tissues_pc_variances  \\\n",
       "gene_id                                                                         \n",
       "ENSG00000000419          2           [1.0442398458252409, 0.9557601541747592]   \n",
       "ENSG00000000938         36  [31.632669336371276, 2.078367751851144, 1.2716...   \n",
       "ENSG00000000971         34  [21.560769925683292, 7.310170987045467, 1.8377...   \n",
       "ENSG00000001084         32  [21.291939080546523, 4.699418748743194, 2.2489...   \n",
       "ENSG00000001167         40            [37.33566029549769, 1.3914019604538361]   \n",
       "\n",
       "                                          tissues_pc_variances_cov  \\\n",
       "gene_id                                                              \n",
       "ENSG00000000419     [0.013163142634155849, 0.00048574890347684763]   \n",
       "ENSG00000000938                              [0.17159486570780275]   \n",
       "ENSG00000000971  [0.20930603195874506, 0.05823434765600799, 0.0...   \n",
       "ENSG00000001084  [0.3943052737512377, 0.11627488888534836, 0.01...   \n",
       "ENSG00000001167           [1.164263997982105, 0.05742881287671713]   \n",
       "\n",
       "                                                 tissues_variances  \\\n",
       "gene_id                                                              \n",
       "ENSG00000000419  {'Brain_Hypothalamus': 0.013162153504206677, '...   \n",
       "ENSG00000000938  {'Brain_Frontal_Cortex_BA9': 0.005461342207578...   \n",
       "ENSG00000000971  {'Brain_Frontal_Cortex_BA9': 0.005194353597795...   \n",
       "ENSG00000001084  {'Brain_Frontal_Cortex_BA9': 0.015455998643262...   \n",
       "ENSG00000001167  {'Heart_Left_Ventricle': 0.01552640772964782, ...   \n",
       "\n",
       "                 n_snps_used_sum  n_snps_in_model_sum  unique_n_snps_in_model  \\\n",
       "gene_id                                                                         \n",
       "ENSG00000000419                2                    2                       2   \n",
       "ENSG00000000938               40                   40                       5   \n",
       "ENSG00000000971               44                   44                      12   \n",
       "ENSG00000001084               46                   46                      23   \n",
       "ENSG00000001167               47                   48                      14   \n",
       "\n",
       "                 unique_n_snps_used  \n",
       "gene_id                              \n",
       "ENSG00000000419                   2  \n",
       "ENSG00000000938                   5  \n",
       "ENSG00000000971                  12  \n",
       "ENSG00000001084                  23  \n",
       "ENSG00000001167                  13  "
      ]
     },
     "execution_count": 17,
     "metadata": {},
     "output_type": "execute_result"
    }
   ],
   "source": [
    "spredixcan_genes_models.head()"
   ]
  },
  {
   "cell_type": "code",
   "execution_count": 18,
   "id": "d1c11bb1-be0b-4f40-b360-633d6827109f",
   "metadata": {
    "execution": {
     "iopub.execute_input": "2022-08-08T06:47:10.559372Z",
     "iopub.status.busy": "2022-08-08T06:47:10.559175Z",
     "iopub.status.idle": "2022-08-08T06:47:10.574565Z",
     "shell.execute_reply": "2022-08-08T06:47:10.574157Z"
    },
    "papermill": {
     "duration": 0.023726,
     "end_time": "2022-08-08T06:47:10.575867",
     "exception": false,
     "start_time": "2022-08-08T06:47:10.552141",
     "status": "completed"
    },
    "tags": []
   },
   "outputs": [],
   "source": [
    "assert spredixcan_genes_models.index.is_unique"
   ]
  },
  {
   "cell_type": "markdown",
   "id": "a5b5092c-a13e-47c4-a92a-480fcc08f3ae",
   "metadata": {
    "papermill": {
     "duration": 0.006437,
     "end_time": "2022-08-08T06:47:10.588955",
     "exception": false,
     "start_time": "2022-08-08T06:47:10.582518",
     "status": "completed"
    },
    "tags": []
   },
   "source": [
    "## Gene info"
   ]
  },
  {
   "cell_type": "code",
   "execution_count": 19,
   "id": "7d6bb224-88e9-4358-ac10-43a41d92cdad",
   "metadata": {
    "execution": {
     "iopub.execute_input": "2022-08-08T06:47:10.603439Z",
     "iopub.status.busy": "2022-08-08T06:47:10.603239Z",
     "iopub.status.idle": "2022-08-08T06:47:10.620049Z",
     "shell.execute_reply": "2022-08-08T06:47:10.619616Z"
    },
    "papermill": {
     "duration": 0.025395,
     "end_time": "2022-08-08T06:47:10.621280",
     "exception": false,
     "start_time": "2022-08-08T06:47:10.595885",
     "status": "completed"
    },
    "tags": []
   },
   "outputs": [],
   "source": [
    "genes_info = pd.read_pickle(OUTPUT_DIR_BASE / \"genes_info.pkl\")"
   ]
  },
  {
   "cell_type": "code",
   "execution_count": 20,
   "id": "9e32abfa-546d-483e-8c18-d526e9e05903",
   "metadata": {
    "execution": {
     "iopub.execute_input": "2022-08-08T06:47:10.635385Z",
     "iopub.status.busy": "2022-08-08T06:47:10.635083Z",
     "iopub.status.idle": "2022-08-08T06:47:10.649880Z",
     "shell.execute_reply": "2022-08-08T06:47:10.649391Z"
    },
    "papermill": {
     "duration": 0.023002,
     "end_time": "2022-08-08T06:47:10.651100",
     "exception": false,
     "start_time": "2022-08-08T06:47:10.628098",
     "status": "completed"
    },
    "tags": []
   },
   "outputs": [
    {
     "data": {
      "text/plain": [
       "(6442, 7)"
      ]
     },
     "execution_count": 20,
     "metadata": {},
     "output_type": "execute_result"
    }
   ],
   "source": [
    "genes_info.shape"
   ]
  },
  {
   "cell_type": "code",
   "execution_count": 21,
   "id": "d16c3e92-85ec-468a-9a56-e25a9774a1cb",
   "metadata": {
    "execution": {
     "iopub.execute_input": "2022-08-08T06:47:10.666064Z",
     "iopub.status.busy": "2022-08-08T06:47:10.665818Z",
     "iopub.status.idle": "2022-08-08T06:47:10.685414Z",
     "shell.execute_reply": "2022-08-08T06:47:10.685051Z"
    },
    "papermill": {
     "duration": 0.029101,
     "end_time": "2022-08-08T06:47:10.687141",
     "exception": false,
     "start_time": "2022-08-08T06:47:10.658040",
     "status": "completed"
    },
    "tags": []
   },
   "outputs": [
    {
     "data": {
      "text/html": [
       "<div>\n",
       "<style scoped>\n",
       "    .dataframe tbody tr th:only-of-type {\n",
       "        vertical-align: middle;\n",
       "    }\n",
       "\n",
       "    .dataframe tbody tr th {\n",
       "        vertical-align: top;\n",
       "    }\n",
       "\n",
       "    .dataframe thead th {\n",
       "        text-align: right;\n",
       "    }\n",
       "</style>\n",
       "<table border=\"1\" class=\"dataframe\">\n",
       "  <thead>\n",
       "    <tr style=\"text-align: right;\">\n",
       "      <th></th>\n",
       "      <th>name</th>\n",
       "      <th>id</th>\n",
       "      <th>chr</th>\n",
       "      <th>band</th>\n",
       "      <th>start_position</th>\n",
       "      <th>end_position</th>\n",
       "      <th>gene_length</th>\n",
       "    </tr>\n",
       "  </thead>\n",
       "  <tbody>\n",
       "    <tr>\n",
       "      <th>0</th>\n",
       "      <td>FKBP8</td>\n",
       "      <td>ENSG00000105701</td>\n",
       "      <td>19</td>\n",
       "      <td>19p13.11</td>\n",
       "      <td>18531751</td>\n",
       "      <td>18544077</td>\n",
       "      <td>12326</td>\n",
       "    </tr>\n",
       "    <tr>\n",
       "      <th>1</th>\n",
       "      <td>HERPUD1</td>\n",
       "      <td>ENSG00000051108</td>\n",
       "      <td>16</td>\n",
       "      <td>16q13</td>\n",
       "      <td>56932142</td>\n",
       "      <td>56944864</td>\n",
       "      <td>12722</td>\n",
       "    </tr>\n",
       "    <tr>\n",
       "      <th>2</th>\n",
       "      <td>SEPT2</td>\n",
       "      <td>ENSG00000168385</td>\n",
       "      <td>2</td>\n",
       "      <td>2q37.3</td>\n",
       "      <td>241315100</td>\n",
       "      <td>241354027</td>\n",
       "      <td>38927</td>\n",
       "    </tr>\n",
       "    <tr>\n",
       "      <th>3</th>\n",
       "      <td>FXYD6</td>\n",
       "      <td>ENSG00000137726</td>\n",
       "      <td>11</td>\n",
       "      <td>11q23.3</td>\n",
       "      <td>117836976</td>\n",
       "      <td>117877486</td>\n",
       "      <td>40510</td>\n",
       "    </tr>\n",
       "    <tr>\n",
       "      <th>4</th>\n",
       "      <td>RBM15</td>\n",
       "      <td>ENSG00000162775</td>\n",
       "      <td>1</td>\n",
       "      <td>1p13.3</td>\n",
       "      <td>110338506</td>\n",
       "      <td>110346681</td>\n",
       "      <td>8175</td>\n",
       "    </tr>\n",
       "  </tbody>\n",
       "</table>\n",
       "</div>"
      ],
      "text/plain": [
       "      name               id  chr      band  start_position  end_position  \\\n",
       "0    FKBP8  ENSG00000105701   19  19p13.11        18531751      18544077   \n",
       "1  HERPUD1  ENSG00000051108   16     16q13        56932142      56944864   \n",
       "2    SEPT2  ENSG00000168385    2    2q37.3       241315100     241354027   \n",
       "3    FXYD6  ENSG00000137726   11   11q23.3       117836976     117877486   \n",
       "4    RBM15  ENSG00000162775    1    1p13.3       110338506     110346681   \n",
       "\n",
       "   gene_length  \n",
       "0        12326  \n",
       "1        12722  \n",
       "2        38927  \n",
       "3        40510  \n",
       "4         8175  "
      ]
     },
     "execution_count": 21,
     "metadata": {},
     "output_type": "execute_result"
    }
   ],
   "source": [
    "genes_info.head()"
   ]
  },
  {
   "cell_type": "markdown",
   "id": "d3843e06",
   "metadata": {
    "papermill": {
     "duration": 0.006952,
     "end_time": "2022-08-08T06:47:10.701511",
     "exception": false,
     "start_time": "2022-08-08T06:47:10.694559",
     "status": "completed"
    },
    "tags": []
   },
   "source": [
    "# Compute correlations"
   ]
  },
  {
   "cell_type": "code",
   "execution_count": 22,
   "id": "cb859c15-d1f3-4006-a74c-2b83c0db9611",
   "metadata": {
    "execution": {
     "iopub.execute_input": "2022-08-08T06:47:10.715916Z",
     "iopub.status.busy": "2022-08-08T06:47:10.715591Z",
     "iopub.status.idle": "2022-08-08T06:47:10.731222Z",
     "shell.execute_reply": "2022-08-08T06:47:10.730808Z"
    },
    "papermill": {
     "duration": 0.024096,
     "end_time": "2022-08-08T06:47:10.732400",
     "exception": false,
     "start_time": "2022-08-08T06:47:10.708304",
     "status": "completed"
    },
    "tags": []
   },
   "outputs": [
    {
     "data": {
      "text/plain": [
       "PosixPath('/opt/data/results/gls/gene_corrs/cohorts/1000g_eur/gtex_v8/mashr/by_chr/gene_corrs-chr10.pkl')"
      ]
     },
     "metadata": {},
     "output_type": "display_data"
    }
   ],
   "source": [
    "output_dir = OUTPUT_DIR_BASE / \"by_chr\"\n",
    "output_dir.mkdir(exist_ok=True, parents=True)\n",
    "output_file = output_dir / f\"gene_corrs-chr{CHROMOSOME}.pkl\"\n",
    "display(output_file)"
   ]
  },
  {
   "cell_type": "code",
   "execution_count": 23,
   "id": "aa674fe4-6794-4eed-98fa-32b39d1d4ace",
   "metadata": {
    "execution": {
     "iopub.execute_input": "2022-08-08T06:47:10.747147Z",
     "iopub.status.busy": "2022-08-08T06:47:10.746832Z",
     "iopub.status.idle": "2022-08-08T06:47:10.761341Z",
     "shell.execute_reply": "2022-08-08T06:47:10.760871Z"
    },
    "papermill": {
     "duration": 0.023179,
     "end_time": "2022-08-08T06:47:10.762574",
     "exception": false,
     "start_time": "2022-08-08T06:47:10.739395",
     "status": "completed"
    },
    "tags": []
   },
   "outputs": [],
   "source": [
    "warnings.filterwarnings(\"error\")"
   ]
  },
  {
   "cell_type": "code",
   "execution_count": 24,
   "id": "44d5450b-3baf-43f1-9e2e-4b06f1a785f8",
   "metadata": {
    "execution": {
     "iopub.execute_input": "2022-08-08T06:47:10.777543Z",
     "iopub.status.busy": "2022-08-08T06:47:10.777206Z",
     "iopub.status.idle": "2022-08-08T06:47:10.792092Z",
     "shell.execute_reply": "2022-08-08T06:47:10.791707Z"
    },
    "papermill": {
     "duration": 0.023876,
     "end_time": "2022-08-08T06:47:10.793468",
     "exception": false,
     "start_time": "2022-08-08T06:47:10.769592",
     "status": "completed"
    },
    "tags": []
   },
   "outputs": [],
   "source": [
    "# standard checks\n",
    "all_chrs = genes_info[\"chr\"].dropna().unique()\n",
    "assert all_chrs.shape[0] == 22\n",
    "\n",
    "# select chromosome given by the user\n",
    "assert CHROMOSOME in all_chrs"
   ]
  },
  {
   "cell_type": "code",
   "execution_count": 25,
   "id": "2d7c043c-92a7-4d35-991b-fa69ac1e0268",
   "metadata": {
    "execution": {
     "iopub.execute_input": "2022-08-08T06:47:10.808143Z",
     "iopub.status.busy": "2022-08-08T06:47:10.807929Z",
     "iopub.status.idle": "2022-08-08T06:47:10.841775Z",
     "shell.execute_reply": "2022-08-08T06:47:10.841317Z"
    },
    "papermill": {
     "duration": 0.042552,
     "end_time": "2022-08-08T06:47:10.842967",
     "exception": false,
     "start_time": "2022-08-08T06:47:10.800415",
     "status": "completed"
    },
    "tags": []
   },
   "outputs": [
    {
     "name": "stdout",
     "output_type": "stream",
     "text": [
      "Number of genes in chromosome: 245\n"
     ]
    }
   ],
   "source": [
    "# run only on the chromosome specified\n",
    "all_chrs = [CHROMOSOME]\n",
    "genes_chr = genes_info[genes_info[\"chr\"] == CHROMOSOME]\n",
    "\n",
    "# For testing purposes\n",
    "# genes_chr = genes_chr.sample(n=20)\n",
    "\n",
    "print(f\"Number of genes in chromosome: {genes_chr.shape[0]}\", flush=True)"
   ]
  },
  {
   "cell_type": "code",
   "execution_count": 26,
   "id": "916015d8-2979-46d3-a9b9-1cf5a0932c6a",
   "metadata": {
    "execution": {
     "iopub.execute_input": "2022-08-08T06:47:10.857910Z",
     "iopub.status.busy": "2022-08-08T06:47:10.857509Z",
     "iopub.status.idle": "2022-08-08T06:47:10.872127Z",
     "shell.execute_reply": "2022-08-08T06:47:10.871603Z"
    },
    "papermill": {
     "duration": 0.023535,
     "end_time": "2022-08-08T06:47:10.873581",
     "exception": false,
     "start_time": "2022-08-08T06:47:10.850046",
     "status": "completed"
    },
    "tags": []
   },
   "outputs": [],
   "source": [
    "# sort genes by starting position to make visualizations better later\n",
    "genes_chr = genes_chr.sort_values(\"start_position\")"
   ]
  },
  {
   "cell_type": "code",
   "execution_count": 27,
   "id": "a38aa74a-8ad3-47f6-8ef9-56be0e011774",
   "metadata": {
    "execution": {
     "iopub.execute_input": "2022-08-08T06:47:10.889163Z",
     "iopub.status.busy": "2022-08-08T06:47:10.888922Z",
     "iopub.status.idle": "2022-08-08T06:47:10.904524Z",
     "shell.execute_reply": "2022-08-08T06:47:10.904087Z"
    },
    "papermill": {
     "duration": 0.024972,
     "end_time": "2022-08-08T06:47:10.905793",
     "exception": false,
     "start_time": "2022-08-08T06:47:10.880821",
     "status": "completed"
    },
    "tags": []
   },
   "outputs": [],
   "source": [
    "gene_chr_objs = [Gene(ensembl_id=gene_id) for gene_id in genes_chr[\"id\"]]"
   ]
  },
  {
   "cell_type": "code",
   "execution_count": 28,
   "id": "570f974f-13c3-42b6-ad3a-ce99ca885c1a",
   "metadata": {
    "execution": {
     "iopub.execute_input": "2022-08-08T06:47:10.921301Z",
     "iopub.status.busy": "2022-08-08T06:47:10.921096Z",
     "iopub.status.idle": "2022-08-08T06:47:10.936824Z",
     "shell.execute_reply": "2022-08-08T06:47:10.936402Z"
    },
    "papermill": {
     "duration": 0.024945,
     "end_time": "2022-08-08T06:47:10.938128",
     "exception": false,
     "start_time": "2022-08-08T06:47:10.913183",
     "status": "completed"
    },
    "tags": []
   },
   "outputs": [
    {
     "name": "stdout",
     "output_type": "stream",
     "text": [
      "Number of gene combinations: 29890\n"
     ]
    }
   ],
   "source": [
    "n = len(gene_chr_objs)\n",
    "n_comb = int(n * (n - 1) / 2.0)\n",
    "print(f\"Number of gene combinations: {n_comb}\", flush=True)"
   ]
  },
  {
   "cell_type": "code",
   "execution_count": 29,
   "id": "cdbb90a1",
   "metadata": {
    "execution": {
     "iopub.execute_input": "2022-08-08T06:47:10.954384Z",
     "iopub.status.busy": "2022-08-08T06:47:10.953935Z",
     "iopub.status.idle": "2022-08-08T07:27:39.295281Z",
     "shell.execute_reply": "2022-08-08T07:27:39.294727Z"
    },
    "papermill": {
     "duration": 2428.350899,
     "end_time": "2022-08-08T07:27:39.296683",
     "exception": false,
     "start_time": "2022-08-08T06:47:10.945784",
     "status": "completed"
    },
    "tags": []
   },
   "outputs": [
    {
     "name": "stderr",
     "output_type": "stream",
     "text": [
      "ENSG00000148832 / ENSG00000130649: 100%|██████████████████████| 29890/29890 [40:28<00:00, 12.31it/s]\n"
     ]
    },
    {
     "data": {
      "text/plain": [
       "PosixPath('/opt/data/results/gls/gene_corrs/cohorts/1000g_eur/gtex_v8/mashr/by_chr/gene_corrs-chr10.pkl')"
      ]
     },
     "metadata": {},
     "output_type": "display_data"
    }
   ],
   "source": [
    "gene_corrs = []\n",
    "\n",
    "i = 0\n",
    "with tqdm(ncols=100, total=n_comb) as pbar:\n",
    "    for gene1_idx in range(0, len(gene_chr_objs) - 1):\n",
    "        gene1_obj = gene_chr_objs[gene1_idx]\n",
    "        gene1_tissues = spredixcan_genes_models.loc[gene1_obj.ensembl_id, \"tissue\"]\n",
    "\n",
    "        for gene2_idx in range(gene1_idx + 1, len(gene_chr_objs)):\n",
    "            gene2_obj = gene_chr_objs[gene2_idx]\n",
    "            gene2_tissues = spredixcan_genes_models.loc[gene2_obj.ensembl_id, \"tissue\"]\n",
    "\n",
    "            pbar.set_description(f\"{gene1_obj.ensembl_id} / {gene2_obj.ensembl_id}\")\n",
    "\n",
    "            try:\n",
    "                r = gene1_obj.get_ssm_correlation(\n",
    "                    other_gene=gene2_obj,\n",
    "                    tissues=gene1_tissues,\n",
    "                    other_tissues=gene2_tissues,\n",
    "                    snps_subset=gwas_variants_ids_set,\n",
    "                    condition_number=SMULTIXCAN_CONDITION_NUMBER,\n",
    "                    reference_panel=REFERENCE_PANEL,\n",
    "                    model_type=EQTL_MODEL,\n",
    "                    use_within_distance=COMPUTE_CORRELATIONS_WITHIN_DISTANCE,\n",
    "                )\n",
    "\n",
    "                if r is None:\n",
    "                    # if r is None, it's very likely because:\n",
    "                    #  * one of the genes has no prediction models\n",
    "                    #  * all the SNPs predictors for the gene are not present in the reference\n",
    "                    #    panel\n",
    "\n",
    "                    r = 0.0\n",
    "\n",
    "                gene_corrs.append(r)\n",
    "            except Warning as e:\n",
    "                if not DEBUG_MODE:\n",
    "                    raise e\n",
    "\n",
    "                print(\n",
    "                    f\"RuntimeWarning for genes {gene1_obj.ensembl_id} and {gene2_obj.ensembl_id}\",\n",
    "                    flush=True,\n",
    "                )\n",
    "                print(traceback.format_exc(), flush=True)\n",
    "\n",
    "                gene_corrs.append(np.nan)\n",
    "            except Exception as e:\n",
    "                if not DEBUG_MODE:\n",
    "                    raise e\n",
    "\n",
    "                print(\n",
    "                    f\"Exception for genes {gene1_obj.ensembl_id} and {gene2_obj.ensembl_id}\",\n",
    "                    flush=True,\n",
    "                )\n",
    "                print(traceback.format_exc(), flush=True)\n",
    "\n",
    "                gene_corrs.append(np.nan)\n",
    "\n",
    "            pbar.update(1)\n",
    "\n",
    "# create a pandas series\n",
    "gene_corrs_flat = pd.Series(gene_corrs)\n",
    "\n",
    "# save\n",
    "# FIXME: consider saving only the condenced matrix here. See here for\n",
    "# more details: https://github.com/greenelab/phenoplier/pull/38#discussion_r634600813\n",
    "gene_corrs_data = squareform(np.array(gene_corrs, dtype=np.float64))\n",
    "np.fill_diagonal(gene_corrs_data, 1.0)\n",
    "\n",
    "gene_chr_ids = [g.ensembl_id for g in gene_chr_objs]\n",
    "gene_corrs_df = pd.DataFrame(\n",
    "    data=gene_corrs_data,\n",
    "    index=gene_chr_ids,\n",
    "    columns=gene_chr_ids,\n",
    ")\n",
    "\n",
    "output_dir.mkdir(exist_ok=True, parents=True)\n",
    "display(output_file)\n",
    "\n",
    "gene_corrs_df.to_pickle(output_file)"
   ]
  },
  {
   "cell_type": "markdown",
   "id": "faa67b51-5373-470f-aa72-2ded53fa6dfe",
   "metadata": {
    "papermill": {
     "duration": 1.652971,
     "end_time": "2022-08-08T07:27:42.529792",
     "exception": false,
     "start_time": "2022-08-08T07:27:40.876821",
     "status": "completed"
    },
    "tags": []
   },
   "source": [
    "# Testing"
   ]
  },
  {
   "cell_type": "code",
   "execution_count": 30,
   "id": "14f7d046-4b55-4896-a56b-990127bcc388",
   "metadata": {
    "execution": {
     "iopub.execute_input": "2022-08-08T07:27:45.805650Z",
     "iopub.status.busy": "2022-08-08T07:27:45.805322Z",
     "iopub.status.idle": "2022-08-08T07:27:45.823144Z",
     "shell.execute_reply": "2022-08-08T07:27:45.822639Z"
    },
    "papermill": {
     "duration": 1.699403,
     "end_time": "2022-08-08T07:27:45.824410",
     "exception": false,
     "start_time": "2022-08-08T07:27:44.125007",
     "status": "completed"
    },
    "tags": []
   },
   "outputs": [
    {
     "data": {
      "text/plain": [
       "(245, 245)"
      ]
     },
     "execution_count": 30,
     "metadata": {},
     "output_type": "execute_result"
    }
   ],
   "source": [
    "gene_corrs_df.shape"
   ]
  },
  {
   "cell_type": "code",
   "execution_count": 31,
   "id": "c7d15414-3297-4537-a7c6-7588c0baeb75",
   "metadata": {
    "execution": {
     "iopub.execute_input": "2022-08-08T07:27:49.080353Z",
     "iopub.status.busy": "2022-08-08T07:27:49.080110Z",
     "iopub.status.idle": "2022-08-08T07:27:49.107102Z",
     "shell.execute_reply": "2022-08-08T07:27:49.106729Z"
    },
    "papermill": {
     "duration": 1.684974,
     "end_time": "2022-08-08T07:27:49.108300",
     "exception": false,
     "start_time": "2022-08-08T07:27:47.423326",
     "status": "completed"
    },
    "tags": []
   },
   "outputs": [
    {
     "data": {
      "text/html": [
       "<div>\n",
       "<style scoped>\n",
       "    .dataframe tbody tr th:only-of-type {\n",
       "        vertical-align: middle;\n",
       "    }\n",
       "\n",
       "    .dataframe tbody tr th {\n",
       "        vertical-align: top;\n",
       "    }\n",
       "\n",
       "    .dataframe thead th {\n",
       "        text-align: right;\n",
       "    }\n",
       "</style>\n",
       "<table border=\"1\" class=\"dataframe\">\n",
       "  <thead>\n",
       "    <tr style=\"text-align: right;\">\n",
       "      <th></th>\n",
       "      <th>ENSG00000261456</th>\n",
       "      <th>ENSG00000148377</th>\n",
       "      <th>ENSG00000067064</th>\n",
       "      <th>ENSG00000067057</th>\n",
       "      <th>ENSG00000067082</th>\n",
       "      <th>ENSG00000187134</th>\n",
       "      <th>ENSG00000151632</th>\n",
       "      <th>ENSG00000196139</th>\n",
       "      <th>ENSG00000173848</th>\n",
       "      <th>ENSG00000196372</th>\n",
       "      <th>...</th>\n",
       "      <th>ENSG00000148773</th>\n",
       "      <th>ENSG00000170430</th>\n",
       "      <th>ENSG00000175470</th>\n",
       "      <th>ENSG00000176171</th>\n",
       "      <th>ENSG00000151640</th>\n",
       "      <th>ENSG00000068383</th>\n",
       "      <th>ENSG00000130640</th>\n",
       "      <th>ENSG00000127884</th>\n",
       "      <th>ENSG00000148832</th>\n",
       "      <th>ENSG00000130649</th>\n",
       "    </tr>\n",
       "  </thead>\n",
       "  <tbody>\n",
       "    <tr>\n",
       "      <th>ENSG00000261456</th>\n",
       "      <td>1.000000</td>\n",
       "      <td>0.003790</td>\n",
       "      <td>0.012337</td>\n",
       "      <td>0.007815</td>\n",
       "      <td>0.005915</td>\n",
       "      <td>0.007852</td>\n",
       "      <td>0.010083</td>\n",
       "      <td>0.011510</td>\n",
       "      <td>0.011865</td>\n",
       "      <td>0.015398</td>\n",
       "      <td>...</td>\n",
       "      <td>0.005145</td>\n",
       "      <td>0.005479</td>\n",
       "      <td>0.010121</td>\n",
       "      <td>0.007184</td>\n",
       "      <td>0.008490</td>\n",
       "      <td>0.006958</td>\n",
       "      <td>0.008215</td>\n",
       "      <td>0.003880</td>\n",
       "      <td>0.005341</td>\n",
       "      <td>0.005365</td>\n",
       "    </tr>\n",
       "    <tr>\n",
       "      <th>ENSG00000148377</th>\n",
       "      <td>0.003790</td>\n",
       "      <td>1.000000</td>\n",
       "      <td>0.084105</td>\n",
       "      <td>0.004528</td>\n",
       "      <td>0.003054</td>\n",
       "      <td>0.006786</td>\n",
       "      <td>0.005735</td>\n",
       "      <td>0.001551</td>\n",
       "      <td>0.000925</td>\n",
       "      <td>0.000890</td>\n",
       "      <td>...</td>\n",
       "      <td>0.004963</td>\n",
       "      <td>0.003932</td>\n",
       "      <td>0.000509</td>\n",
       "      <td>0.002153</td>\n",
       "      <td>0.005198</td>\n",
       "      <td>0.003080</td>\n",
       "      <td>0.000634</td>\n",
       "      <td>0.000971</td>\n",
       "      <td>0.000899</td>\n",
       "      <td>0.003436</td>\n",
       "    </tr>\n",
       "    <tr>\n",
       "      <th>ENSG00000067064</th>\n",
       "      <td>0.012337</td>\n",
       "      <td>0.084105</td>\n",
       "      <td>1.000000</td>\n",
       "      <td>0.014470</td>\n",
       "      <td>0.010029</td>\n",
       "      <td>0.010480</td>\n",
       "      <td>0.008932</td>\n",
       "      <td>0.007868</td>\n",
       "      <td>0.006230</td>\n",
       "      <td>0.009131</td>\n",
       "      <td>...</td>\n",
       "      <td>0.010357</td>\n",
       "      <td>0.002676</td>\n",
       "      <td>0.005628</td>\n",
       "      <td>0.005965</td>\n",
       "      <td>0.004388</td>\n",
       "      <td>0.008257</td>\n",
       "      <td>0.013420</td>\n",
       "      <td>0.005779</td>\n",
       "      <td>0.008882</td>\n",
       "      <td>0.005899</td>\n",
       "    </tr>\n",
       "    <tr>\n",
       "      <th>ENSG00000067057</th>\n",
       "      <td>0.007815</td>\n",
       "      <td>0.004528</td>\n",
       "      <td>0.014470</td>\n",
       "      <td>1.000000</td>\n",
       "      <td>0.010449</td>\n",
       "      <td>0.012528</td>\n",
       "      <td>0.017848</td>\n",
       "      <td>0.015077</td>\n",
       "      <td>0.011976</td>\n",
       "      <td>0.015208</td>\n",
       "      <td>...</td>\n",
       "      <td>0.012882</td>\n",
       "      <td>0.007954</td>\n",
       "      <td>0.010215</td>\n",
       "      <td>0.012404</td>\n",
       "      <td>0.006633</td>\n",
       "      <td>0.017375</td>\n",
       "      <td>0.012677</td>\n",
       "      <td>0.008571</td>\n",
       "      <td>0.012765</td>\n",
       "      <td>0.010577</td>\n",
       "    </tr>\n",
       "    <tr>\n",
       "      <th>ENSG00000067082</th>\n",
       "      <td>0.005915</td>\n",
       "      <td>0.003054</td>\n",
       "      <td>0.010029</td>\n",
       "      <td>0.010449</td>\n",
       "      <td>1.000000</td>\n",
       "      <td>0.005393</td>\n",
       "      <td>0.012874</td>\n",
       "      <td>0.010219</td>\n",
       "      <td>0.007214</td>\n",
       "      <td>0.011455</td>\n",
       "      <td>...</td>\n",
       "      <td>0.007006</td>\n",
       "      <td>0.005376</td>\n",
       "      <td>0.010541</td>\n",
       "      <td>0.007171</td>\n",
       "      <td>0.006784</td>\n",
       "      <td>0.008806</td>\n",
       "      <td>0.007240</td>\n",
       "      <td>0.005152</td>\n",
       "      <td>0.006803</td>\n",
       "      <td>0.007594</td>\n",
       "    </tr>\n",
       "  </tbody>\n",
       "</table>\n",
       "<p>5 rows × 245 columns</p>\n",
       "</div>"
      ],
      "text/plain": [
       "                 ENSG00000261456  ENSG00000148377  ENSG00000067064  \\\n",
       "ENSG00000261456         1.000000         0.003790         0.012337   \n",
       "ENSG00000148377         0.003790         1.000000         0.084105   \n",
       "ENSG00000067064         0.012337         0.084105         1.000000   \n",
       "ENSG00000067057         0.007815         0.004528         0.014470   \n",
       "ENSG00000067082         0.005915         0.003054         0.010029   \n",
       "\n",
       "                 ENSG00000067057  ENSG00000067082  ENSG00000187134  \\\n",
       "ENSG00000261456         0.007815         0.005915         0.007852   \n",
       "ENSG00000148377         0.004528         0.003054         0.006786   \n",
       "ENSG00000067064         0.014470         0.010029         0.010480   \n",
       "ENSG00000067057         1.000000         0.010449         0.012528   \n",
       "ENSG00000067082         0.010449         1.000000         0.005393   \n",
       "\n",
       "                 ENSG00000151632  ENSG00000196139  ENSG00000173848  \\\n",
       "ENSG00000261456         0.010083         0.011510         0.011865   \n",
       "ENSG00000148377         0.005735         0.001551         0.000925   \n",
       "ENSG00000067064         0.008932         0.007868         0.006230   \n",
       "ENSG00000067057         0.017848         0.015077         0.011976   \n",
       "ENSG00000067082         0.012874         0.010219         0.007214   \n",
       "\n",
       "                 ENSG00000196372  ...  ENSG00000148773  ENSG00000170430  \\\n",
       "ENSG00000261456         0.015398  ...         0.005145         0.005479   \n",
       "ENSG00000148377         0.000890  ...         0.004963         0.003932   \n",
       "ENSG00000067064         0.009131  ...         0.010357         0.002676   \n",
       "ENSG00000067057         0.015208  ...         0.012882         0.007954   \n",
       "ENSG00000067082         0.011455  ...         0.007006         0.005376   \n",
       "\n",
       "                 ENSG00000175470  ENSG00000176171  ENSG00000151640  \\\n",
       "ENSG00000261456         0.010121         0.007184         0.008490   \n",
       "ENSG00000148377         0.000509         0.002153         0.005198   \n",
       "ENSG00000067064         0.005628         0.005965         0.004388   \n",
       "ENSG00000067057         0.010215         0.012404         0.006633   \n",
       "ENSG00000067082         0.010541         0.007171         0.006784   \n",
       "\n",
       "                 ENSG00000068383  ENSG00000130640  ENSG00000127884  \\\n",
       "ENSG00000261456         0.006958         0.008215         0.003880   \n",
       "ENSG00000148377         0.003080         0.000634         0.000971   \n",
       "ENSG00000067064         0.008257         0.013420         0.005779   \n",
       "ENSG00000067057         0.017375         0.012677         0.008571   \n",
       "ENSG00000067082         0.008806         0.007240         0.005152   \n",
       "\n",
       "                 ENSG00000148832  ENSG00000130649  \n",
       "ENSG00000261456         0.005341         0.005365  \n",
       "ENSG00000148377         0.000899         0.003436  \n",
       "ENSG00000067064         0.008882         0.005899  \n",
       "ENSG00000067057         0.012765         0.010577  \n",
       "ENSG00000067082         0.006803         0.007594  \n",
       "\n",
       "[5 rows x 245 columns]"
      ]
     },
     "execution_count": 31,
     "metadata": {},
     "output_type": "execute_result"
    }
   ],
   "source": [
    "gene_corrs_df.head()"
   ]
  },
  {
   "cell_type": "markdown",
   "id": "dad6603f-01c6-41fb-a6f6-241051207dd8",
   "metadata": {
    "papermill": {
     "duration": 1.594538,
     "end_time": "2022-08-08T07:27:52.338334",
     "exception": false,
     "start_time": "2022-08-08T07:27:50.743796",
     "status": "completed"
    },
    "tags": []
   },
   "source": [
    "## Standard checks and stats"
   ]
  },
  {
   "cell_type": "code",
   "execution_count": 32,
   "id": "286686af-1b7b-4440-8453-6bdcbd8de19c",
   "metadata": {
    "execution": {
     "iopub.execute_input": "2022-08-08T07:27:55.652411Z",
     "iopub.status.busy": "2022-08-08T07:27:55.651943Z",
     "iopub.status.idle": "2022-08-08T07:27:55.667328Z",
     "shell.execute_reply": "2022-08-08T07:27:55.666927Z"
    },
    "papermill": {
     "duration": 1.632757,
     "end_time": "2022-08-08T07:27:55.668594",
     "exception": false,
     "start_time": "2022-08-08T07:27:54.035837",
     "status": "completed"
    },
    "tags": []
   },
   "outputs": [],
   "source": [
    "assert not gene_corrs_df.isna().any().any()"
   ]
  },
  {
   "cell_type": "code",
   "execution_count": 33,
   "id": "00583efc-7068-4270-ad1e-4a418e91db96",
   "metadata": {
    "execution": {
     "iopub.execute_input": "2022-08-08T07:27:58.968392Z",
     "iopub.status.busy": "2022-08-08T07:27:58.968231Z",
     "iopub.status.idle": "2022-08-08T07:27:58.996384Z",
     "shell.execute_reply": "2022-08-08T07:27:58.996015Z"
    },
    "papermill": {
     "duration": 1.693746,
     "end_time": "2022-08-08T07:27:59.002170",
     "exception": false,
     "start_time": "2022-08-08T07:27:57.308424",
     "status": "completed"
    },
    "tags": []
   },
   "outputs": [
    {
     "data": {
      "text/plain": [
       "3.016476512982382e-08"
      ]
     },
     "metadata": {},
     "output_type": "display_data"
    }
   ],
   "source": [
    "_min_val = gene_corrs_df.min().min()\n",
    "display(_min_val)\n",
    "assert _min_val >= 0.0"
   ]
  },
  {
   "cell_type": "code",
   "execution_count": 34,
   "id": "d04fb2cf-1050-475b-b855-f5f7cc04092b",
   "metadata": {
    "execution": {
     "iopub.execute_input": "2022-08-08T07:28:02.222085Z",
     "iopub.status.busy": "2022-08-08T07:28:02.221748Z",
     "iopub.status.idle": "2022-08-08T07:28:02.238897Z",
     "shell.execute_reply": "2022-08-08T07:28:02.238413Z"
    },
    "papermill": {
     "duration": 1.624217,
     "end_time": "2022-08-08T07:28:02.240205",
     "exception": false,
     "start_time": "2022-08-08T07:28:00.615988",
     "status": "completed"
    },
    "tags": []
   },
   "outputs": [
    {
     "data": {
      "text/plain": [
       "1.0"
      ]
     },
     "metadata": {},
     "output_type": "display_data"
    }
   ],
   "source": [
    "_max_val = gene_corrs_df.max().max()  # this captures the diagonal\n",
    "display(_max_val)\n",
    "assert _max_val <= 1.0"
   ]
  },
  {
   "cell_type": "code",
   "execution_count": 35,
   "id": "96d02c44-1fba-47be-8a93-8f2608420b9c",
   "metadata": {
    "execution": {
     "iopub.execute_input": "2022-08-08T07:28:05.494058Z",
     "iopub.status.busy": "2022-08-08T07:28:05.493725Z",
     "iopub.status.idle": "2022-08-08T07:28:05.509895Z",
     "shell.execute_reply": "2022-08-08T07:28:05.509351Z"
    },
    "papermill": {
     "duration": 1.609828,
     "end_time": "2022-08-08T07:28:05.511234",
     "exception": false,
     "start_time": "2022-08-08T07:28:03.901406",
     "status": "completed"
    },
    "tags": []
   },
   "outputs": [],
   "source": [
    "# check upper triangular values\n",
    "assert len(gene_corrs) == int(genes_chr.shape[0] * (genes_chr.shape[0] - 1) / 2)"
   ]
  },
  {
   "cell_type": "code",
   "execution_count": 36,
   "id": "fe283586-c348-40e0-8841-f6d97bfb021c",
   "metadata": {
    "execution": {
     "iopub.execute_input": "2022-08-08T07:28:08.803600Z",
     "iopub.status.busy": "2022-08-08T07:28:08.803428Z",
     "iopub.status.idle": "2022-08-08T07:28:08.822114Z",
     "shell.execute_reply": "2022-08-08T07:28:08.821633Z"
    },
    "papermill": {
     "duration": 1.678834,
     "end_time": "2022-08-08T07:28:08.823256",
     "exception": false,
     "start_time": "2022-08-08T07:28:07.144422",
     "status": "completed"
    },
    "tags": []
   },
   "outputs": [
    {
     "data": {
      "text/plain": [
       "count    2.989000e+04\n",
       "mean     8.627361e-03\n",
       "std      2.921058e-02\n",
       "min      3.016477e-08\n",
       "25%      4.224074e-03\n",
       "50%      6.386952e-03\n",
       "75%      8.824873e-03\n",
       "max      9.989238e-01\n",
       "dtype: float64"
      ]
     },
     "execution_count": 36,
     "metadata": {},
     "output_type": "execute_result"
    }
   ],
   "source": [
    "gene_corrs_flat.describe()"
   ]
  },
  {
   "cell_type": "code",
   "execution_count": 37,
   "id": "b3815678-0f93-4b35-897b-a9d047a2aa78",
   "metadata": {
    "execution": {
     "iopub.execute_input": "2022-08-08T07:28:12.150345Z",
     "iopub.status.busy": "2022-08-08T07:28:12.150170Z",
     "iopub.status.idle": "2022-08-08T07:28:12.168788Z",
     "shell.execute_reply": "2022-08-08T07:28:12.168339Z"
    },
    "papermill": {
     "duration": 1.720211,
     "end_time": "2022-08-08T07:28:12.170055",
     "exception": false,
     "start_time": "2022-08-08T07:28:10.449844",
     "status": "completed"
    },
    "tags": []
   },
   "outputs": [
    {
     "data": {
      "text/plain": [
       "0.00    3.016477e-08\n",
       "0.05    1.674750e-03\n",
       "0.10    2.533133e-03\n",
       "0.15    3.187648e-03\n",
       "0.20    3.742775e-03\n",
       "0.25    4.224074e-03\n",
       "0.30    4.674584e-03\n",
       "0.35    5.142446e-03\n",
       "0.40    5.555289e-03\n",
       "0.45    5.971790e-03\n",
       "0.50    6.386952e-03\n",
       "0.55    6.825759e-03\n",
       "0.60    7.295644e-03\n",
       "0.65    7.772418e-03\n",
       "0.70    8.277202e-03\n",
       "0.75    8.824873e-03\n",
       "0.80    9.496091e-03\n",
       "0.85    1.029476e-02\n",
       "0.90    1.136213e-02\n",
       "0.95    1.315085e-02\n",
       "dtype: float64"
      ]
     },
     "metadata": {},
     "output_type": "display_data"
    }
   ],
   "source": [
    "gene_corrs_quantiles = gene_corrs_flat.quantile(np.arange(0, 1, 0.05))\n",
    "display(gene_corrs_quantiles)"
   ]
  },
  {
   "cell_type": "markdown",
   "id": "87134509-b145-4a10-8bc9-b7e914c2b0fa",
   "metadata": {
    "papermill": {
     "duration": 1.616096,
     "end_time": "2022-08-08T07:28:15.388745",
     "exception": false,
     "start_time": "2022-08-08T07:28:13.772649",
     "status": "completed"
    },
    "tags": []
   },
   "source": [
    "## Positive definiteness"
   ]
  },
  {
   "cell_type": "code",
   "execution_count": 38,
   "id": "07d9a9a1-a4f7-48aa-b916-6d42a8cc6186",
   "metadata": {
    "execution": {
     "iopub.execute_input": "2022-08-08T07:28:18.713263Z",
     "iopub.status.busy": "2022-08-08T07:28:18.712619Z",
     "iopub.status.idle": "2022-08-08T07:28:18.743512Z",
     "shell.execute_reply": "2022-08-08T07:28:18.743118Z"
    },
    "papermill": {
     "duration": 1.7743,
     "end_time": "2022-08-08T07:28:18.744571",
     "exception": false,
     "start_time": "2022-08-08T07:28:16.970271",
     "status": "completed"
    },
    "tags": []
   },
   "outputs": [
    {
     "data": {
      "text/plain": [
       "0"
      ]
     },
     "metadata": {},
     "output_type": "display_data"
    },
    {
     "data": {
      "text/plain": [
       "array([], dtype=float64)"
      ]
     },
     "metadata": {},
     "output_type": "display_data"
    }
   ],
   "source": [
    "# print negative eigenvalues\n",
    "eigs = np.linalg.eigvals(gene_corrs_df.to_numpy())\n",
    "display(len(eigs[eigs < 0]))\n",
    "display(eigs[eigs < 0])"
   ]
  },
  {
   "cell_type": "code",
   "execution_count": 39,
   "id": "6e218436-c3c5-4028-8c94-a4fa6260efce",
   "metadata": {
    "execution": {
     "iopub.execute_input": "2022-08-08T07:28:21.991530Z",
     "iopub.status.busy": "2022-08-08T07:28:21.991139Z",
     "iopub.status.idle": "2022-08-08T07:28:22.030719Z",
     "shell.execute_reply": "2022-08-08T07:28:22.030315Z"
    },
    "papermill": {
     "duration": 1.68555,
     "end_time": "2022-08-08T07:28:22.031943",
     "exception": false,
     "start_time": "2022-08-08T07:28:20.346393",
     "status": "completed"
    },
    "tags": []
   },
   "outputs": [
    {
     "name": "stdout",
     "output_type": "stream",
     "text": [
      "Works!\n"
     ]
    }
   ],
   "source": [
    "try:\n",
    "    chol_mat = np.linalg.cholesky(gene_corrs_df.to_numpy())\n",
    "    cov_inv = np.linalg.inv(chol_mat)\n",
    "    print(\"Works!\")\n",
    "except:\n",
    "    print(\"Cholesky decomposition failed\")"
   ]
  },
  {
   "cell_type": "markdown",
   "id": "8e60a080-edb2-4e9c-b2ef-22961693200c",
   "metadata": {
    "papermill": {
     "duration": 1.602755,
     "end_time": "2022-08-08T07:28:25.319466",
     "exception": false,
     "start_time": "2022-08-08T07:28:23.716711",
     "status": "completed"
    },
    "tags": []
   },
   "source": [
    "## Plot: distribution"
   ]
  },
  {
   "cell_type": "code",
   "execution_count": 40,
   "id": "8301126b-a7d4-4744-9c7d-f0f86eb6f54c",
   "metadata": {
    "execution": {
     "iopub.execute_input": "2022-08-08T07:28:28.564895Z",
     "iopub.status.busy": "2022-08-08T07:28:28.564530Z",
     "iopub.status.idle": "2022-08-08T07:28:34.474877Z",
     "shell.execute_reply": "2022-08-08T07:28:34.474172Z"
    },
    "papermill": {
     "duration": 7.59604,
     "end_time": "2022-08-08T07:28:34.476577",
     "exception": false,
     "start_time": "2022-08-08T07:28:26.880537",
     "status": "completed"
    },
    "tags": []
   },
   "outputs": [
    {
     "data": {
      "image/png": "[encoded data removed]",
      "text/plain": [
       "<Figure size 504x504 with 1 Axes>"
      ]
     },
     "metadata": {
      "needs_background": "light"
     },
     "output_type": "display_data"
    }
   ],
   "source": [
    "with sns.plotting_context(\"paper\", font_scale=1.5):\n",
    "    g = sns.displot(gene_corrs_flat, kde=True, height=7)\n",
    "    g.ax.set_title(\n",
    "        f\"Distribution of gene correlation values in chromosome {CHROMOSOME}\"\n",
    "    )"
   ]
  },
  {
   "cell_type": "markdown",
   "id": "cbd52bca-d878-4a2f-b684-5c83aa3038d4",
   "metadata": {
    "papermill": {
     "duration": 1.644428,
     "end_time": "2022-08-08T07:28:37.839999",
     "exception": false,
     "start_time": "2022-08-08T07:28:36.195571",
     "status": "completed"
    },
    "tags": []
   },
   "source": [
    "## Plot: heatmap"
   ]
  },
  {
   "cell_type": "code",
   "execution_count": 41,
   "id": "d03fe63a-c7b2-4fb9-a53c-db362ce843c9",
   "metadata": {
    "execution": {
     "iopub.execute_input": "2022-08-08T07:28:41.077593Z",
     "iopub.status.busy": "2022-08-08T07:28:41.077373Z",
     "iopub.status.idle": "2022-08-08T07:28:41.095018Z",
     "shell.execute_reply": "2022-08-08T07:28:41.094560Z"
    },
    "papermill": {
     "duration": 1.56046,
     "end_time": "2022-08-08T07:28:41.096204",
     "exception": false,
     "start_time": "2022-08-08T07:28:39.535744",
     "status": "completed"
    },
    "tags": []
   },
   "outputs": [
    {
     "data": {
      "text/plain": [
       "'0.0 / 0.05'"
      ]
     },
     "metadata": {},
     "output_type": "display_data"
    }
   ],
   "source": [
    "vmin_val = min(0.00, gene_corrs_quantiles[0.10])\n",
    "vmax_val = max(0.05, gene_corrs_quantiles[0.90])\n",
    "display(f\"{vmin_val} / {vmax_val}\")"
   ]
  },
  {
   "cell_type": "code",
   "execution_count": 42,
   "id": "dc41b70b-5bcc-4d9e-9f33-a22c4a94dab5",
   "metadata": {
    "execution": {
     "iopub.execute_input": "2022-08-08T07:28:44.330516Z",
     "iopub.status.busy": "2022-08-08T07:28:44.330346Z",
     "iopub.status.idle": "2022-08-08T07:28:44.543184Z",
     "shell.execute_reply": "2022-08-08T07:28:44.542777Z"
    },
    "papermill": {
     "duration": 1.800914,
     "end_time": "2022-08-08T07:28:44.545923",
     "exception": false,
     "start_time": "2022-08-08T07:28:42.745009",
     "status": "completed"
    },
    "tags": []
   },
   "outputs": [
    {
     "data": {
      "text/plain": [
       "Text(0.5, 1.0, 'Gene correlations in chromosome 10')"
      ]
     },
     "execution_count": 42,
     "metadata": {},
     "output_type": "execute_result"
    },
    {
     "data": {
      "image/png": "[encoded data removed]",
      "text/plain": [
       "<Figure size 720x720 with 2 Axes>"
      ]
     },
     "metadata": {
      "needs_background": "light"
     },
     "output_type": "display_data"
    }
   ],
   "source": [
    "f, ax = plt.subplots(figsize=(10, 10))\n",
    "sns.heatmap(\n",
    "    gene_corrs_df,\n",
    "    xticklabels=False,\n",
    "    yticklabels=False,\n",
    "    square=True,\n",
    "    vmin=vmin_val,\n",
    "    vmax=vmax_val,\n",
    "    cmap=\"rocket_r\",\n",
    "    ax=ax,\n",
    ")\n",
    "ax.set_title(f\"Gene correlations in chromosome {CHROMOSOME}\")"
   ]
  },
  {
   "cell_type": "code",
   "execution_count": null,
   "id": "b25e3ead",
   "metadata": {
    "papermill": {
     "duration": 1.712437,
     "end_time": "2022-08-08T07:28:47.878888",
     "exception": false,
     "start_time": "2022-08-08T07:28:46.166451",
     "status": "completed"
    },
    "tags": []
   },
   "outputs": [],
   "source": []
  }
 ],
 "metadata": {
  "jupytext": {
   "cell_metadata_filter": "all,-execution,-papermill,-trusted",
   "formats": "ipynb,py//py:percent"
  },
  "kernelspec": {
   "display_name": "Python 3 (ipykernel)",
   "language": "python",
   "name": "python3"
  },
  "language_info": {
   "codemirror_mode": {
    "name": "ipython",
    "version": 3
   },
   "file_extension": ".py",
   "mimetype": "text/x-python",
   "name": "python",
   "nbconvert_exporter": "python",
   "pygments_lexer": "ipython3",
   "version": "3.8.13"
  },
  "papermill": {
   "default_parameters": {},
   "duration": 2508.32073,
   "end_time": "2022-08-08T07:28:52.268578",
   "environment_variables": {},
   "exception": null,
   "input_path": "nbs/15_gsa_gls/10-gene_expr_correlations.ipynb",
   "output_path": "nbs/15_gsa_gls/gene_corrs/cohorts/1000g_eur/gtex_v8/mashr/10-gene_expr_correlations-chr10.run.ipynb",
   "parameters": {
    "CHROMOSOME": 10,
    "COHORT_NAME": "1000G_EUR",
    "EQTL_MODEL": "MASHR",
    "REFERENCE_PANEL": "GTEX_V8"
   },
   "start_time": "2022-08-08T06:47:03.947848",
   "version": "2.2.2"
  }
 },
 "nbformat": 4,
 "nbformat_minor": 5
}
