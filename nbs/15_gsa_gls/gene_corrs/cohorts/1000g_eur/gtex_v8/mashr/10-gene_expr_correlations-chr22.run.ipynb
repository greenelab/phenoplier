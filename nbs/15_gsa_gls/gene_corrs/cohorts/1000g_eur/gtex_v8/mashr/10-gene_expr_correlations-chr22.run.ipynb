{
 "cells": [
  {
   "cell_type": "markdown",
   "id": "7a6632fb",
   "metadata": {
    "papermill": {
     "duration": 0.053287,
     "end_time": "2022-08-03T02:17:08.243679",
     "exception": false,
     "start_time": "2022-08-03T02:17:08.190392",
     "status": "completed"
    },
    "tags": []
   },
   "source": [
    "# Description"
   ]
  },
  {
   "cell_type": "markdown",
   "id": "7097c346",
   "metadata": {
    "papermill": {
     "duration": 0.081527,
     "end_time": "2022-08-03T02:17:08.347188",
     "exception": false,
     "start_time": "2022-08-03T02:17:08.265661",
     "status": "completed"
    },
    "tags": []
   },
   "source": [
    "(Please, take a look at the README.md file in this directory for instructions on how to run this notebook)\n",
    "\n",
    "This notebook computes predicted expression correlations between all genes in the MultiPLIER models.\n",
    "\n",
    "It also has a parameter set for papermill to run on a single chromosome to run in parallel (see under `Settings` below).\n",
    "\n",
    "This notebook is not directly run. See README.md."
   ]
  },
  {
   "cell_type": "markdown",
   "id": "c61d8427",
   "metadata": {
    "papermill": {
     "duration": 0.030261,
     "end_time": "2022-08-03T02:17:08.392479",
     "exception": false,
     "start_time": "2022-08-03T02:17:08.362218",
     "status": "completed"
    },
    "tags": []
   },
   "source": [
    "# Modules"
   ]
  },
  {
   "cell_type": "code",
   "execution_count": 1,
   "id": "bbc0234f",
   "metadata": {
    "execution": {
     "iopub.execute_input": "2022-08-03T02:17:08.430347Z",
     "iopub.status.busy": "2022-08-03T02:17:08.430024Z",
     "iopub.status.idle": "2022-08-03T02:17:08.456594Z",
     "shell.execute_reply": "2022-08-03T02:17:08.456125Z"
    },
    "papermill": {
     "duration": 0.050691,
     "end_time": "2022-08-03T02:17:08.458239",
     "exception": false,
     "start_time": "2022-08-03T02:17:08.407548",
     "status": "completed"
    },
    "tags": []
   },
   "outputs": [],
   "source": [
    "%load_ext autoreload\n",
    "%autoreload 2"
   ]
  },
  {
   "cell_type": "code",
   "execution_count": 2,
   "id": "1d5f5a59",
   "metadata": {
    "execution": {
     "iopub.execute_input": "2022-08-03T02:17:08.504039Z",
     "iopub.status.busy": "2022-08-03T02:17:08.503836Z",
     "iopub.status.idle": "2022-08-03T02:17:17.567335Z",
     "shell.execute_reply": "2022-08-03T02:17:17.566797Z"
    },
    "papermill": {
     "duration": 9.096404,
     "end_time": "2022-08-03T02:17:17.569241",
     "exception": false,
     "start_time": "2022-08-03T02:17:08.472837",
     "status": "completed"
    },
    "tags": []
   },
   "outputs": [],
   "source": [
    "from random import sample, seed\n",
    "import warnings\n",
    "from pathlib import Path\n",
    "import pickle\n",
    "import traceback\n",
    "\n",
    "import numpy as np\n",
    "from scipy.spatial.distance import squareform\n",
    "import pandas as pd\n",
    "from tqdm import tqdm\n",
    "import matplotlib.pyplot as plt\n",
    "import seaborn as sns\n",
    "\n",
    "import conf\n",
    "from entity import Gene"
   ]
  },
  {
   "cell_type": "markdown",
   "id": "1eac24b5",
   "metadata": {
    "papermill": {
     "duration": 0.029003,
     "end_time": "2022-08-03T02:17:17.616337",
     "exception": false,
     "start_time": "2022-08-03T02:17:17.587334",
     "status": "completed"
    },
    "tags": []
   },
   "source": [
    "# Settings"
   ]
  },
  {
   "cell_type": "code",
   "execution_count": 3,
   "id": "ca4560ba",
   "metadata": {
    "execution": {
     "iopub.execute_input": "2022-08-03T02:17:17.647836Z",
     "iopub.status.busy": "2022-08-03T02:17:17.647615Z",
     "iopub.status.idle": "2022-08-03T02:17:17.667583Z",
     "shell.execute_reply": "2022-08-03T02:17:17.667172Z"
    },
    "papermill": {
     "duration": 0.038405,
     "end_time": "2022-08-03T02:17:17.668984",
     "exception": false,
     "start_time": "2022-08-03T02:17:17.630579",
     "status": "completed"
    },
    "tags": [
     "parameters"
    ]
   },
   "outputs": [],
   "source": [
    "# a cohort name (it could be something like UK_BIOBANK, etc)\n",
    "COHORT_NAME = None\n",
    "\n",
    "# reference panel such as 1000G or GTEX_V8\n",
    "REFERENCE_PANEL = None\n",
    "\n",
    "# predictions models such as MASHR or ELASTIC_NET\n",
    "EQTL_MODEL = None\n",
    "\n",
    "# this is the default value used in S-MultiXcan to select the\n",
    "# top principal components of the expression correlation matrix\n",
    "SMULTIXCAN_CONDITION_NUMBER = 30\n",
    "\n",
    "# specifies a single chromosome value\n",
    "CHROMOSOME = None\n",
    "\n",
    "# If True, computes the correlation between closeby genes only;\n",
    "# otherwise, it computes correlations for all genes in a chromosome\n",
    "COMPUTE_CORRELATIONS_WITHIN_DISTANCE = False\n",
    "\n",
    "# if True, then it will continue if a gene pair correlation fails,\n",
    "# printing the warning/error for debugging. If False, any warning/error\n",
    "# will be thrown\n",
    "DEBUG_MODE = False"
   ]
  },
  {
   "cell_type": "code",
   "execution_count": 4,
   "id": "f2ee8139",
   "metadata": {
    "execution": {
     "iopub.execute_input": "2022-08-03T02:17:17.704029Z",
     "iopub.status.busy": "2022-08-03T02:17:17.703847Z",
     "iopub.status.idle": "2022-08-03T02:17:17.722446Z",
     "shell.execute_reply": "2022-08-03T02:17:17.722038Z"
    },
    "papermill": {
     "duration": 0.035832,
     "end_time": "2022-08-03T02:17:17.723847",
     "exception": false,
     "start_time": "2022-08-03T02:17:17.688015",
     "status": "completed"
    },
    "tags": [
     "injected-parameters"
    ]
   },
   "outputs": [],
   "source": [
    "# Parameters\n",
    "COHORT_NAME = \"1000G_EUR\"\n",
    "REFERENCE_PANEL = \"GTEX_V8\"\n",
    "EQTL_MODEL = \"MASHR\"\n",
    "CHROMOSOME = 22\n"
   ]
  },
  {
   "cell_type": "code",
   "execution_count": 5,
   "id": "3190631f-27fc-480f-b18e-571d580425a5",
   "metadata": {
    "execution": {
     "iopub.execute_input": "2022-08-03T02:17:17.761959Z",
     "iopub.status.busy": "2022-08-03T02:17:17.761779Z",
     "iopub.status.idle": "2022-08-03T02:17:17.782745Z",
     "shell.execute_reply": "2022-08-03T02:17:17.782348Z"
    },
    "papermill": {
     "duration": 0.038467,
     "end_time": "2022-08-03T02:17:17.783987",
     "exception": false,
     "start_time": "2022-08-03T02:17:17.745520",
     "status": "completed"
    },
    "tags": []
   },
   "outputs": [
    {
     "data": {
      "text/plain": [
       "'Cohort name: 1000g_eur'"
      ]
     },
     "metadata": {},
     "output_type": "display_data"
    }
   ],
   "source": [
    "assert COHORT_NAME is not None and len(COHORT_NAME) > 0, \"A cohort name must be given\"\n",
    "\n",
    "COHORT_NAME = COHORT_NAME.lower()\n",
    "display(f\"Cohort name: {COHORT_NAME}\")"
   ]
  },
  {
   "cell_type": "code",
   "execution_count": 6,
   "id": "f53ba19b-0f93-4fa2-a047-63b375939d1a",
   "metadata": {
    "execution": {
     "iopub.execute_input": "2022-08-03T02:17:17.817301Z",
     "iopub.status.busy": "2022-08-03T02:17:17.817102Z",
     "iopub.status.idle": "2022-08-03T02:17:17.836502Z",
     "shell.execute_reply": "2022-08-03T02:17:17.836107Z"
    },
    "papermill": {
     "duration": 0.037866,
     "end_time": "2022-08-03T02:17:17.837775",
     "exception": false,
     "start_time": "2022-08-03T02:17:17.799909",
     "status": "completed"
    },
    "tags": []
   },
   "outputs": [
    {
     "data": {
      "text/plain": [
       "'Reference panel: GTEX_V8'"
      ]
     },
     "metadata": {},
     "output_type": "display_data"
    }
   ],
   "source": [
    "assert (\n",
    "    REFERENCE_PANEL is not None and len(REFERENCE_PANEL) > 0\n",
    "), \"A reference panel must be given\"\n",
    "\n",
    "display(f\"Reference panel: {REFERENCE_PANEL}\")"
   ]
  },
  {
   "cell_type": "code",
   "execution_count": 7,
   "id": "e024d130-c139-429a-9c6e-ccf149e297b0",
   "metadata": {
    "execution": {
     "iopub.execute_input": "2022-08-03T02:17:17.879685Z",
     "iopub.status.busy": "2022-08-03T02:17:17.879503Z",
     "iopub.status.idle": "2022-08-03T02:17:17.899069Z",
     "shell.execute_reply": "2022-08-03T02:17:17.898679Z"
    },
    "papermill": {
     "duration": 0.037467,
     "end_time": "2022-08-03T02:17:17.900298",
     "exception": false,
     "start_time": "2022-08-03T02:17:17.862831",
     "status": "completed"
    },
    "tags": []
   },
   "outputs": [
    {
     "data": {
      "text/plain": [
       "'eQTL model: MASHR) / mashr_'"
      ]
     },
     "metadata": {},
     "output_type": "display_data"
    }
   ],
   "source": [
    "assert (\n",
    "    EQTL_MODEL is not None and len(EQTL_MODEL) > 0\n",
    "), \"A prediction/eQTL model must be given\"\n",
    "\n",
    "EQTL_MODEL_FILES_PREFIX = conf.PHENOMEXCAN[\"PREDICTION_MODELS\"][f\"{EQTL_MODEL}_PREFIX\"]\n",
    "display(f\"eQTL model: {EQTL_MODEL}) / {EQTL_MODEL_FILES_PREFIX}\")"
   ]
  },
  {
   "cell_type": "code",
   "execution_count": 8,
   "id": "552a7f63-a18c-4d3e-bb6a-94f99b431291",
   "metadata": {
    "execution": {
     "iopub.execute_input": "2022-08-03T02:17:17.943321Z",
     "iopub.status.busy": "2022-08-03T02:17:17.943134Z",
     "iopub.status.idle": "2022-08-03T02:17:17.962346Z",
     "shell.execute_reply": "2022-08-03T02:17:17.961939Z"
    },
    "papermill": {
     "duration": 0.035886,
     "end_time": "2022-08-03T02:17:17.963593",
     "exception": false,
     "start_time": "2022-08-03T02:17:17.927707",
     "status": "completed"
    },
    "tags": []
   },
   "outputs": [
    {
     "data": {
      "text/plain": [
       "'S-MultiXcan condition number: 30'"
      ]
     },
     "metadata": {},
     "output_type": "display_data"
    }
   ],
   "source": [
    "assert (\n",
    "    SMULTIXCAN_CONDITION_NUMBER is not None and SMULTIXCAN_CONDITION_NUMBER > 0\n",
    "), \"The S-MultiXcan condition number (positive integer) must be given\"\n",
    "\n",
    "display(f\"S-MultiXcan condition number: {SMULTIXCAN_CONDITION_NUMBER}\")"
   ]
  },
  {
   "cell_type": "code",
   "execution_count": 9,
   "id": "f34a336f-548e-4afe-8955-90eaea4f42c6",
   "metadata": {
    "execution": {
     "iopub.execute_input": "2022-08-03T02:17:18.059774Z",
     "iopub.status.busy": "2022-08-03T02:17:18.059540Z",
     "iopub.status.idle": "2022-08-03T02:17:18.083152Z",
     "shell.execute_reply": "2022-08-03T02:17:18.082672Z"
    },
    "papermill": {
     "duration": 0.044248,
     "end_time": "2022-08-03T02:17:18.084642",
     "exception": false,
     "start_time": "2022-08-03T02:17:18.040394",
     "status": "completed"
    },
    "tags": []
   },
   "outputs": [
    {
     "data": {
      "text/plain": [
       "'Working on chromosome 22'"
      ]
     },
     "metadata": {},
     "output_type": "display_data"
    }
   ],
   "source": [
    "assert CHROMOSOME is not None and (\n",
    "    1 <= CHROMOSOME <= 22\n",
    "), \"You have to select one chromosome (format: number between 1 and 22)\"\n",
    "\n",
    "CHROMOSOME = str(CHROMOSOME)\n",
    "display(f\"Working on chromosome {CHROMOSOME}\")"
   ]
  },
  {
   "cell_type": "code",
   "execution_count": 10,
   "id": "ab8e96e8-06b5-4363-9dcd-dc4d78cc27f7",
   "metadata": {
    "execution": {
     "iopub.execute_input": "2022-08-03T02:17:18.127638Z",
     "iopub.status.busy": "2022-08-03T02:17:18.127445Z",
     "iopub.status.idle": "2022-08-03T02:17:18.147653Z",
     "shell.execute_reply": "2022-08-03T02:17:18.147245Z"
    },
    "papermill": {
     "duration": 0.039111,
     "end_time": "2022-08-03T02:17:18.148920",
     "exception": false,
     "start_time": "2022-08-03T02:17:18.109809",
     "status": "completed"
    },
    "tags": []
   },
   "outputs": [
    {
     "data": {
      "text/plain": [
       "'Compute correlation within distance False'"
      ]
     },
     "metadata": {},
     "output_type": "display_data"
    }
   ],
   "source": [
    "display(f\"Compute correlation within distance {COMPUTE_CORRELATIONS_WITHIN_DISTANCE}\")"
   ]
  },
  {
   "cell_type": "code",
   "execution_count": 11,
   "id": "396392dc-0340-4540-9b02-e182b833f909",
   "metadata": {
    "execution": {
     "iopub.execute_input": "2022-08-03T02:17:18.195191Z",
     "iopub.status.busy": "2022-08-03T02:17:18.194963Z",
     "iopub.status.idle": "2022-08-03T02:17:18.241744Z",
     "shell.execute_reply": "2022-08-03T02:17:18.240902Z"
    },
    "papermill": {
     "duration": 0.064637,
     "end_time": "2022-08-03T02:17:18.244314",
     "exception": false,
     "start_time": "2022-08-03T02:17:18.179677",
     "status": "completed"
    },
    "tags": []
   },
   "outputs": [
    {
     "data": {
      "text/plain": [
       "'Using output dir base: /project/ritchie20/projects/phenoplier/base/results/gls/gene_corrs/cohorts/1000g_eur/gtex_v8/mashr'"
      ]
     },
     "metadata": {},
     "output_type": "display_data"
    }
   ],
   "source": [
    "OUTPUT_DIR_BASE = (\n",
    "    conf.RESULTS[\"GLS\"]\n",
    "    / \"gene_corrs\"\n",
    "    / \"cohorts\"\n",
    "    / COHORT_NAME\n",
    "    / REFERENCE_PANEL.lower()\n",
    "    / EQTL_MODEL.lower()\n",
    ")\n",
    "OUTPUT_DIR_BASE.mkdir(parents=True, exist_ok=True)\n",
    "\n",
    "display(f\"Using output dir base: {OUTPUT_DIR_BASE}\")"
   ]
  },
  {
   "cell_type": "markdown",
   "id": "d2ba085e",
   "metadata": {
    "papermill": {
     "duration": 0.029488,
     "end_time": "2022-08-03T02:17:18.293700",
     "exception": false,
     "start_time": "2022-08-03T02:17:18.264212",
     "status": "completed"
    },
    "tags": []
   },
   "source": [
    "# Load data"
   ]
  },
  {
   "cell_type": "markdown",
   "id": "7dcb8db7",
   "metadata": {
    "papermill": {
     "duration": 0.015853,
     "end_time": "2022-08-03T02:17:18.327293",
     "exception": false,
     "start_time": "2022-08-03T02:17:18.311440",
     "status": "completed"
    },
    "tags": []
   },
   "source": [
    "## GWAS variants"
   ]
  },
  {
   "cell_type": "code",
   "execution_count": 12,
   "id": "29434c4e-8cd3-4b9b-82e4-b5a251d9dd19",
   "metadata": {
    "execution": {
     "iopub.execute_input": "2022-08-03T02:17:18.365203Z",
     "iopub.status.busy": "2022-08-03T02:17:18.364910Z",
     "iopub.status.idle": "2022-08-03T02:17:20.883572Z",
     "shell.execute_reply": "2022-08-03T02:17:20.883030Z"
    },
    "papermill": {
     "duration": 2.540165,
     "end_time": "2022-08-03T02:17:20.885437",
     "exception": false,
     "start_time": "2022-08-03T02:17:18.345272",
     "status": "completed"
    },
    "tags": []
   },
   "outputs": [],
   "source": [
    "with open(OUTPUT_DIR_BASE / \"gwas_variant_ids.pkl\", \"rb\") as handle:\n",
    "    gwas_variants_ids_set = pickle.load(handle)"
   ]
  },
  {
   "cell_type": "code",
   "execution_count": 13,
   "id": "b9d9dec2-4a76-4bf9-bde2-e24c95acb8a0",
   "metadata": {
    "execution": {
     "iopub.execute_input": "2022-08-03T02:17:20.920786Z",
     "iopub.status.busy": "2022-08-03T02:17:20.920573Z",
     "iopub.status.idle": "2022-08-03T02:17:20.943957Z",
     "shell.execute_reply": "2022-08-03T02:17:20.943518Z"
    },
    "papermill": {
     "duration": 0.041172,
     "end_time": "2022-08-03T02:17:20.945257",
     "exception": false,
     "start_time": "2022-08-03T02:17:20.904085",
     "status": "completed"
    },
    "tags": []
   },
   "outputs": [
    {
     "data": {
      "text/plain": [
       "8325729"
      ]
     },
     "execution_count": 13,
     "metadata": {},
     "output_type": "execute_result"
    }
   ],
   "source": [
    "len(gwas_variants_ids_set)"
   ]
  },
  {
   "cell_type": "code",
   "execution_count": 14,
   "id": "4235b06a-6034-4ee4-a0a3-2ae35d122418",
   "metadata": {
    "execution": {
     "iopub.execute_input": "2022-08-03T02:17:20.996426Z",
     "iopub.status.busy": "2022-08-03T02:17:20.996233Z",
     "iopub.status.idle": "2022-08-03T02:17:21.493688Z",
     "shell.execute_reply": "2022-08-03T02:17:21.493232Z"
    },
    "papermill": {
     "duration": 0.529577,
     "end_time": "2022-08-03T02:17:21.495164",
     "exception": false,
     "start_time": "2022-08-03T02:17:20.965587",
     "status": "completed"
    },
    "tags": []
   },
   "outputs": [
    {
     "data": {
      "text/plain": [
       "['chr2_190778146_G_A_b38',\n",
       " 'chr10_17300490_T_C_b38',\n",
       " 'chr3_31129466_T_C_b38',\n",
       " 'chr1_46637500_C_T_b38',\n",
       " 'chr5_160913192_C_A_b38']"
      ]
     },
     "execution_count": 14,
     "metadata": {},
     "output_type": "execute_result"
    }
   ],
   "source": [
    "list(gwas_variants_ids_set)[:5]"
   ]
  },
  {
   "cell_type": "markdown",
   "id": "07866999-2305-41f9-a144-e69c9122c212",
   "metadata": {
    "papermill": {
     "duration": 0.016776,
     "end_time": "2022-08-03T02:17:21.527368",
     "exception": false,
     "start_time": "2022-08-03T02:17:21.510592",
     "status": "completed"
    },
    "tags": []
   },
   "source": [
    "## S-PrediXcan tissue models"
   ]
  },
  {
   "cell_type": "code",
   "execution_count": 15,
   "id": "780611d9-77c8-405f-90a4-f271f7b09397",
   "metadata": {
    "execution": {
     "iopub.execute_input": "2022-08-03T02:17:21.579581Z",
     "iopub.status.busy": "2022-08-03T02:17:21.579369Z",
     "iopub.status.idle": "2022-08-03T02:17:22.566996Z",
     "shell.execute_reply": "2022-08-03T02:17:22.566256Z"
    },
    "papermill": {
     "duration": 1.005985,
     "end_time": "2022-08-03T02:17:22.568955",
     "exception": false,
     "start_time": "2022-08-03T02:17:21.562970",
     "status": "completed"
    },
    "tags": []
   },
   "outputs": [],
   "source": [
    "spredixcan_genes_models = pd.read_pickle(OUTPUT_DIR_BASE / \"gene_tissues.pkl\")"
   ]
  },
  {
   "cell_type": "code",
   "execution_count": 16,
   "id": "726dd1f6-9557-4225-91fa-b3b879ea96e1",
   "metadata": {
    "execution": {
     "iopub.execute_input": "2022-08-03T02:17:22.617137Z",
     "iopub.status.busy": "2022-08-03T02:17:22.616890Z",
     "iopub.status.idle": "2022-08-03T02:17:22.640821Z",
     "shell.execute_reply": "2022-08-03T02:17:22.640420Z"
    },
    "papermill": {
     "duration": 0.054153,
     "end_time": "2022-08-03T02:17:22.642078",
     "exception": false,
     "start_time": "2022-08-03T02:17:22.587925",
     "status": "completed"
    },
    "tags": []
   },
   "outputs": [
    {
     "data": {
      "text/plain": [
       "(6444, 10)"
      ]
     },
     "execution_count": 16,
     "metadata": {},
     "output_type": "execute_result"
    }
   ],
   "source": [
    "spredixcan_genes_models.shape"
   ]
  },
  {
   "cell_type": "code",
   "execution_count": 17,
   "id": "944a1b48-222c-4eb0-b252-b9de2cbca215",
   "metadata": {
    "execution": {
     "iopub.execute_input": "2022-08-03T02:17:22.705811Z",
     "iopub.status.busy": "2022-08-03T02:17:22.705505Z",
     "iopub.status.idle": "2022-08-03T02:17:22.762475Z",
     "shell.execute_reply": "2022-08-03T02:17:22.761923Z"
    },
    "papermill": {
     "duration": 0.086987,
     "end_time": "2022-08-03T02:17:22.764166",
     "exception": false,
     "start_time": "2022-08-03T02:17:22.677179",
     "status": "completed"
    },
    "tags": []
   },
   "outputs": [
    {
     "data": {
      "text/html": [
       "<div>\n",
       "<style scoped>\n",
       "    .dataframe tbody tr th:only-of-type {\n",
       "        vertical-align: middle;\n",
       "    }\n",
       "\n",
       "    .dataframe tbody tr th {\n",
       "        vertical-align: top;\n",
       "    }\n",
       "\n",
       "    .dataframe thead th {\n",
       "        text-align: right;\n",
       "    }\n",
       "</style>\n",
       "<table border=\"1\" class=\"dataframe\">\n",
       "  <thead>\n",
       "    <tr style=\"text-align: right;\">\n",
       "      <th></th>\n",
       "      <th>gene_name</th>\n",
       "      <th>tissue</th>\n",
       "      <th>n_tissues</th>\n",
       "      <th>tissues_pc_variances</th>\n",
       "      <th>tissues_pc_variances_cov</th>\n",
       "      <th>tissues_variances</th>\n",
       "      <th>n_snps_used_sum</th>\n",
       "      <th>n_snps_in_model_sum</th>\n",
       "      <th>unique_n_snps_in_model</th>\n",
       "      <th>unique_n_snps_used</th>\n",
       "    </tr>\n",
       "    <tr>\n",
       "      <th>gene_id</th>\n",
       "      <th></th>\n",
       "      <th></th>\n",
       "      <th></th>\n",
       "      <th></th>\n",
       "      <th></th>\n",
       "      <th></th>\n",
       "      <th></th>\n",
       "      <th></th>\n",
       "      <th></th>\n",
       "      <th></th>\n",
       "    </tr>\n",
       "  </thead>\n",
       "  <tbody>\n",
       "    <tr>\n",
       "      <th>ENSG00000000419</th>\n",
       "      <td>DPM1</td>\n",
       "      <td>(Brain_Substantia_nigra, Brain_Hypothalamus)</td>\n",
       "      <td>2</td>\n",
       "      <td>[1.0442398458252409, 0.9557601541747592]</td>\n",
       "      <td>[0.013163142634155849, 0.00048574890347684763]</td>\n",
       "      <td>{'Brain_Hypothalamus': 0.013162153504206677, '...</td>\n",
       "      <td>2</td>\n",
       "      <td>2</td>\n",
       "      <td>2</td>\n",
       "      <td>2</td>\n",
       "    </tr>\n",
       "    <tr>\n",
       "      <th>ENSG00000000938</th>\n",
       "      <td>FGR</td>\n",
       "      <td>(Liver, Brain_Anterior_cingulate_cortex_BA24, ...</td>\n",
       "      <td>36</td>\n",
       "      <td>[31.63266933637129, 2.078367751851144, 1.27161...</td>\n",
       "      <td>[0.1715948657078027]</td>\n",
       "      <td>{'Esophagus_Muscularis': 0.006536602044478473,...</td>\n",
       "      <td>40</td>\n",
       "      <td>40</td>\n",
       "      <td>5</td>\n",
       "      <td>5</td>\n",
       "    </tr>\n",
       "    <tr>\n",
       "      <th>ENSG00000000971</th>\n",
       "      <td>CFH</td>\n",
       "      <td>(Small_Intestine_Terminal_Ileum, Brain_Anterio...</td>\n",
       "      <td>34</td>\n",
       "      <td>[21.56076992568329, 7.310170987045463, 1.83778...</td>\n",
       "      <td>[0.2093060319587451, 0.058234347656008024, 0.0...</td>\n",
       "      <td>{'Esophagus_Muscularis': 0.01739410990047228, ...</td>\n",
       "      <td>44</td>\n",
       "      <td>44</td>\n",
       "      <td>12</td>\n",
       "      <td>12</td>\n",
       "    </tr>\n",
       "    <tr>\n",
       "      <th>ENSG00000001084</th>\n",
       "      <td>GCLC</td>\n",
       "      <td>(Small_Intestine_Terminal_Ileum, Brain_Anterio...</td>\n",
       "      <td>32</td>\n",
       "      <td>[21.291939080546538, 4.699418748743195, 2.2489...</td>\n",
       "      <td>[0.39430527375123775, 0.11627488888534836, 0.0...</td>\n",
       "      <td>{'Thyroid': 0.009654918580686024, 'Brain_Corte...</td>\n",
       "      <td>46</td>\n",
       "      <td>46</td>\n",
       "      <td>23</td>\n",
       "      <td>23</td>\n",
       "    </tr>\n",
       "    <tr>\n",
       "      <th>ENSG00000001167</th>\n",
       "      <td>NFYA</td>\n",
       "      <td>(Small_Intestine_Terminal_Ileum, Brain_Anterio...</td>\n",
       "      <td>40</td>\n",
       "      <td>[37.3356602954977, 1.3914019604538357]</td>\n",
       "      <td>[1.1642639979821048, 0.05742881287671712]</td>\n",
       "      <td>{'Esophagus_Muscularis': 0.0318781600881541, '...</td>\n",
       "      <td>47</td>\n",
       "      <td>48</td>\n",
       "      <td>14</td>\n",
       "      <td>13</td>\n",
       "    </tr>\n",
       "  </tbody>\n",
       "</table>\n",
       "</div>"
      ],
      "text/plain": [
       "                gene_name                                             tissue  \\\n",
       "gene_id                                                                        \n",
       "ENSG00000000419      DPM1       (Brain_Substantia_nigra, Brain_Hypothalamus)   \n",
       "ENSG00000000938       FGR  (Liver, Brain_Anterior_cingulate_cortex_BA24, ...   \n",
       "ENSG00000000971       CFH  (Small_Intestine_Terminal_Ileum, Brain_Anterio...   \n",
       "ENSG00000001084      GCLC  (Small_Intestine_Terminal_Ileum, Brain_Anterio...   \n",
       "ENSG00000001167      NFYA  (Small_Intestine_Terminal_Ileum, Brain_Anterio...   \n",
       "\n",
       "                 n_tissues                               tissues_pc_variances  \\\n",
       "gene_id                                                                         \n",
       "ENSG00000000419          2           [1.0442398458252409, 0.9557601541747592]   \n",
       "ENSG00000000938         36  [31.63266933637129, 2.078367751851144, 1.27161...   \n",
       "ENSG00000000971         34  [21.56076992568329, 7.310170987045463, 1.83778...   \n",
       "ENSG00000001084         32  [21.291939080546538, 4.699418748743195, 2.2489...   \n",
       "ENSG00000001167         40             [37.3356602954977, 1.3914019604538357]   \n",
       "\n",
       "                                          tissues_pc_variances_cov  \\\n",
       "gene_id                                                              \n",
       "ENSG00000000419     [0.013163142634155849, 0.00048574890347684763]   \n",
       "ENSG00000000938                               [0.1715948657078027]   \n",
       "ENSG00000000971  [0.2093060319587451, 0.058234347656008024, 0.0...   \n",
       "ENSG00000001084  [0.39430527375123775, 0.11627488888534836, 0.0...   \n",
       "ENSG00000001167          [1.1642639979821048, 0.05742881287671712]   \n",
       "\n",
       "                                                 tissues_variances  \\\n",
       "gene_id                                                              \n",
       "ENSG00000000419  {'Brain_Hypothalamus': 0.013162153504206677, '...   \n",
       "ENSG00000000938  {'Esophagus_Muscularis': 0.006536602044478473,...   \n",
       "ENSG00000000971  {'Esophagus_Muscularis': 0.01739410990047228, ...   \n",
       "ENSG00000001084  {'Thyroid': 0.009654918580686024, 'Brain_Corte...   \n",
       "ENSG00000001167  {'Esophagus_Muscularis': 0.0318781600881541, '...   \n",
       "\n",
       "                 n_snps_used_sum  n_snps_in_model_sum  unique_n_snps_in_model  \\\n",
       "gene_id                                                                         \n",
       "ENSG00000000419                2                    2                       2   \n",
       "ENSG00000000938               40                   40                       5   \n",
       "ENSG00000000971               44                   44                      12   \n",
       "ENSG00000001084               46                   46                      23   \n",
       "ENSG00000001167               47                   48                      14   \n",
       "\n",
       "                 unique_n_snps_used  \n",
       "gene_id                              \n",
       "ENSG00000000419                   2  \n",
       "ENSG00000000938                   5  \n",
       "ENSG00000000971                  12  \n",
       "ENSG00000001084                  23  \n",
       "ENSG00000001167                  13  "
      ]
     },
     "execution_count": 17,
     "metadata": {},
     "output_type": "execute_result"
    }
   ],
   "source": [
    "spredixcan_genes_models.head()"
   ]
  },
  {
   "cell_type": "code",
   "execution_count": 18,
   "id": "d1c11bb1-be0b-4f40-b360-633d6827109f",
   "metadata": {
    "execution": {
     "iopub.execute_input": "2022-08-03T02:17:22.836930Z",
     "iopub.status.busy": "2022-08-03T02:17:22.836498Z",
     "iopub.status.idle": "2022-08-03T02:17:22.876897Z",
     "shell.execute_reply": "2022-08-03T02:17:22.876068Z"
    },
    "papermill": {
     "duration": 0.078165,
     "end_time": "2022-08-03T02:17:22.879590",
     "exception": false,
     "start_time": "2022-08-03T02:17:22.801425",
     "status": "completed"
    },
    "tags": []
   },
   "outputs": [],
   "source": [
    "assert spredixcan_genes_models.index.is_unique"
   ]
  },
  {
   "cell_type": "markdown",
   "id": "a5b5092c-a13e-47c4-a92a-480fcc08f3ae",
   "metadata": {
    "papermill": {
     "duration": 0.028198,
     "end_time": "2022-08-03T02:17:22.957661",
     "exception": false,
     "start_time": "2022-08-03T02:17:22.929463",
     "status": "completed"
    },
    "tags": []
   },
   "source": [
    "## Gene info"
   ]
  },
  {
   "cell_type": "code",
   "execution_count": 19,
   "id": "7d6bb224-88e9-4358-ac10-43a41d92cdad",
   "metadata": {
    "execution": {
     "iopub.execute_input": "2022-08-03T02:17:23.021128Z",
     "iopub.status.busy": "2022-08-03T02:17:23.020783Z",
     "iopub.status.idle": "2022-08-03T02:17:23.062346Z",
     "shell.execute_reply": "2022-08-03T02:17:23.061707Z"
    },
    "papermill": {
     "duration": 0.068066,
     "end_time": "2022-08-03T02:17:23.064536",
     "exception": false,
     "start_time": "2022-08-03T02:17:22.996470",
     "status": "completed"
    },
    "tags": []
   },
   "outputs": [],
   "source": [
    "genes_info = pd.read_pickle(OUTPUT_DIR_BASE / \"genes_info.pkl\")"
   ]
  },
  {
   "cell_type": "code",
   "execution_count": 20,
   "id": "9e32abfa-546d-483e-8c18-d526e9e05903",
   "metadata": {
    "execution": {
     "iopub.execute_input": "2022-08-03T02:17:23.140885Z",
     "iopub.status.busy": "2022-08-03T02:17:23.140631Z",
     "iopub.status.idle": "2022-08-03T02:17:23.165787Z",
     "shell.execute_reply": "2022-08-03T02:17:23.165298Z"
    },
    "papermill": {
     "duration": 0.061749,
     "end_time": "2022-08-03T02:17:23.167312",
     "exception": false,
     "start_time": "2022-08-03T02:17:23.105563",
     "status": "completed"
    },
    "tags": []
   },
   "outputs": [
    {
     "data": {
      "text/plain": [
       "(6444, 7)"
      ]
     },
     "execution_count": 20,
     "metadata": {},
     "output_type": "execute_result"
    }
   ],
   "source": [
    "genes_info.shape"
   ]
  },
  {
   "cell_type": "code",
   "execution_count": 21,
   "id": "d16c3e92-85ec-468a-9a56-e25a9774a1cb",
   "metadata": {
    "execution": {
     "iopub.execute_input": "2022-08-03T02:17:23.205523Z",
     "iopub.status.busy": "2022-08-03T02:17:23.205311Z",
     "iopub.status.idle": "2022-08-03T02:17:23.233093Z",
     "shell.execute_reply": "2022-08-03T02:17:23.232660Z"
    },
    "papermill": {
     "duration": 0.046613,
     "end_time": "2022-08-03T02:17:23.234460",
     "exception": false,
     "start_time": "2022-08-03T02:17:23.187847",
     "status": "completed"
    },
    "tags": []
   },
   "outputs": [
    {
     "data": {
      "text/html": [
       "<div>\n",
       "<style scoped>\n",
       "    .dataframe tbody tr th:only-of-type {\n",
       "        vertical-align: middle;\n",
       "    }\n",
       "\n",
       "    .dataframe tbody tr th {\n",
       "        vertical-align: top;\n",
       "    }\n",
       "\n",
       "    .dataframe thead th {\n",
       "        text-align: right;\n",
       "    }\n",
       "</style>\n",
       "<table border=\"1\" class=\"dataframe\">\n",
       "  <thead>\n",
       "    <tr style=\"text-align: right;\">\n",
       "      <th></th>\n",
       "      <th>name</th>\n",
       "      <th>id</th>\n",
       "      <th>chr</th>\n",
       "      <th>band</th>\n",
       "      <th>start_position</th>\n",
       "      <th>end_position</th>\n",
       "      <th>gene_length</th>\n",
       "    </tr>\n",
       "  </thead>\n",
       "  <tbody>\n",
       "    <tr>\n",
       "      <th>0</th>\n",
       "      <td>HEYL</td>\n",
       "      <td>ENSG00000163909</td>\n",
       "      <td>1</td>\n",
       "      <td>1p34.2</td>\n",
       "      <td>39623435.0</td>\n",
       "      <td>39639643.0</td>\n",
       "      <td>16208.0</td>\n",
       "    </tr>\n",
       "    <tr>\n",
       "      <th>1</th>\n",
       "      <td>CYP24A1</td>\n",
       "      <td>ENSG00000019186</td>\n",
       "      <td>20</td>\n",
       "      <td>20q13.2</td>\n",
       "      <td>54153446.0</td>\n",
       "      <td>54173986.0</td>\n",
       "      <td>20540.0</td>\n",
       "    </tr>\n",
       "    <tr>\n",
       "      <th>2</th>\n",
       "      <td>ITGB4</td>\n",
       "      <td>ENSG00000132470</td>\n",
       "      <td>17</td>\n",
       "      <td>17q25.1</td>\n",
       "      <td>75721328.0</td>\n",
       "      <td>75757818.0</td>\n",
       "      <td>36490.0</td>\n",
       "    </tr>\n",
       "    <tr>\n",
       "      <th>3</th>\n",
       "      <td>SPINT1</td>\n",
       "      <td>ENSG00000166145</td>\n",
       "      <td>15</td>\n",
       "      <td>15q15.1</td>\n",
       "      <td>40844018.0</td>\n",
       "      <td>40858207.0</td>\n",
       "      <td>14189.0</td>\n",
       "    </tr>\n",
       "    <tr>\n",
       "      <th>4</th>\n",
       "      <td>PCSK6</td>\n",
       "      <td>ENSG00000140479</td>\n",
       "      <td>15</td>\n",
       "      <td>15q26.3</td>\n",
       "      <td>101297142.0</td>\n",
       "      <td>101525202.0</td>\n",
       "      <td>228060.0</td>\n",
       "    </tr>\n",
       "  </tbody>\n",
       "</table>\n",
       "</div>"
      ],
      "text/plain": [
       "      name               id chr     band  start_position  end_position  \\\n",
       "0     HEYL  ENSG00000163909   1   1p34.2      39623435.0    39639643.0   \n",
       "1  CYP24A1  ENSG00000019186  20  20q13.2      54153446.0    54173986.0   \n",
       "2    ITGB4  ENSG00000132470  17  17q25.1      75721328.0    75757818.0   \n",
       "3   SPINT1  ENSG00000166145  15  15q15.1      40844018.0    40858207.0   \n",
       "4    PCSK6  ENSG00000140479  15  15q26.3     101297142.0   101525202.0   \n",
       "\n",
       "   gene_length  \n",
       "0      16208.0  \n",
       "1      20540.0  \n",
       "2      36490.0  \n",
       "3      14189.0  \n",
       "4     228060.0  "
      ]
     },
     "execution_count": 21,
     "metadata": {},
     "output_type": "execute_result"
    }
   ],
   "source": [
    "genes_info.head()"
   ]
  },
  {
   "cell_type": "markdown",
   "id": "d3843e06",
   "metadata": {
    "papermill": {
     "duration": 0.014091,
     "end_time": "2022-08-03T02:17:23.267290",
     "exception": false,
     "start_time": "2022-08-03T02:17:23.253199",
     "status": "completed"
    },
    "tags": []
   },
   "source": [
    "# Compute correlations"
   ]
  },
  {
   "cell_type": "code",
   "execution_count": 22,
   "id": "cb859c15-d1f3-4006-a74c-2b83c0db9611",
   "metadata": {
    "execution": {
     "iopub.execute_input": "2022-08-03T02:17:23.316040Z",
     "iopub.status.busy": "2022-08-03T02:17:23.315842Z",
     "iopub.status.idle": "2022-08-03T02:17:23.349848Z",
     "shell.execute_reply": "2022-08-03T02:17:23.349441Z"
    },
    "papermill": {
     "duration": 0.056631,
     "end_time": "2022-08-03T02:17:23.351134",
     "exception": false,
     "start_time": "2022-08-03T02:17:23.294503",
     "status": "completed"
    },
    "tags": []
   },
   "outputs": [
    {
     "data": {
      "text/plain": [
       "PosixPath('/project/ritchie20/projects/phenoplier/base/results/gls/gene_corrs/cohorts/1000g_eur/gtex_v8/mashr/by_chr/gene_corrs-chr22.pkl')"
      ]
     },
     "metadata": {},
     "output_type": "display_data"
    }
   ],
   "source": [
    "output_dir = OUTPUT_DIR_BASE / \"by_chr\"\n",
    "output_dir.mkdir(exist_ok=True, parents=True)\n",
    "output_file = output_dir / f\"gene_corrs-chr{CHROMOSOME}.pkl\"\n",
    "display(output_file)"
   ]
  },
  {
   "cell_type": "code",
   "execution_count": 23,
   "id": "aa674fe4-6794-4eed-98fa-32b39d1d4ace",
   "metadata": {
    "execution": {
     "iopub.execute_input": "2022-08-03T02:17:23.388841Z",
     "iopub.status.busy": "2022-08-03T02:17:23.388662Z",
     "iopub.status.idle": "2022-08-03T02:17:23.407130Z",
     "shell.execute_reply": "2022-08-03T02:17:23.406723Z"
    },
    "papermill": {
     "duration": 0.037166,
     "end_time": "2022-08-03T02:17:23.408527",
     "exception": false,
     "start_time": "2022-08-03T02:17:23.371361",
     "status": "completed"
    },
    "tags": []
   },
   "outputs": [],
   "source": [
    "warnings.filterwarnings(\"error\")"
   ]
  },
  {
   "cell_type": "code",
   "execution_count": 24,
   "id": "44d5450b-3baf-43f1-9e2e-4b06f1a785f8",
   "metadata": {
    "execution": {
     "iopub.execute_input": "2022-08-03T02:17:23.446677Z",
     "iopub.status.busy": "2022-08-03T02:17:23.446496Z",
     "iopub.status.idle": "2022-08-03T02:17:23.466790Z",
     "shell.execute_reply": "2022-08-03T02:17:23.466397Z"
    },
    "papermill": {
     "duration": 0.041742,
     "end_time": "2022-08-03T02:17:23.468211",
     "exception": false,
     "start_time": "2022-08-03T02:17:23.426469",
     "status": "completed"
    },
    "tags": []
   },
   "outputs": [],
   "source": [
    "# standard checks\n",
    "all_chrs = genes_info[\"chr\"].dropna().unique()\n",
    "assert all_chrs.shape[0] == 22\n",
    "\n",
    "# select chromosome given by the user\n",
    "assert CHROMOSOME in all_chrs"
   ]
  },
  {
   "cell_type": "code",
   "execution_count": 25,
   "id": "2d7c043c-92a7-4d35-991b-fa69ac1e0268",
   "metadata": {
    "execution": {
     "iopub.execute_input": "2022-08-03T02:17:23.505183Z",
     "iopub.status.busy": "2022-08-03T02:17:23.504989Z",
     "iopub.status.idle": "2022-08-03T02:17:23.567706Z",
     "shell.execute_reply": "2022-08-03T02:17:23.567302Z"
    },
    "papermill": {
     "duration": 0.083563,
     "end_time": "2022-08-03T02:17:23.569010",
     "exception": false,
     "start_time": "2022-08-03T02:17:23.485447",
     "status": "completed"
    },
    "tags": []
   },
   "outputs": [
    {
     "name": "stdout",
     "output_type": "stream",
     "text": [
      "Number of genes in chromosome: 170\n"
     ]
    }
   ],
   "source": [
    "# run only on the chromosome specified\n",
    "all_chrs = [CHROMOSOME]\n",
    "genes_chr = genes_info[genes_info[\"chr\"] == CHROMOSOME]\n",
    "\n",
    "# For testing purposes\n",
    "# genes_chr = genes_chr.sample(n=20)\n",
    "\n",
    "print(f\"Number of genes in chromosome: {genes_chr.shape[0]}\", flush=True)"
   ]
  },
  {
   "cell_type": "code",
   "execution_count": 26,
   "id": "916015d8-2979-46d3-a9b9-1cf5a0932c6a",
   "metadata": {
    "execution": {
     "iopub.execute_input": "2022-08-03T02:17:23.633366Z",
     "iopub.status.busy": "2022-08-03T02:17:23.633180Z",
     "iopub.status.idle": "2022-08-03T02:17:23.719262Z",
     "shell.execute_reply": "2022-08-03T02:17:23.718422Z"
    },
    "papermill": {
     "duration": 0.113718,
     "end_time": "2022-08-03T02:17:23.722245",
     "exception": false,
     "start_time": "2022-08-03T02:17:23.608527",
     "status": "completed"
    },
    "tags": []
   },
   "outputs": [],
   "source": [
    "# sort genes by starting position to make visualizations better later\n",
    "genes_chr = genes_chr.sort_values(\"start_position\")"
   ]
  },
  {
   "cell_type": "code",
   "execution_count": 27,
   "id": "a38aa74a-8ad3-47f6-8ef9-56be0e011774",
   "metadata": {
    "execution": {
     "iopub.execute_input": "2022-08-03T02:17:23.779705Z",
     "iopub.status.busy": "2022-08-03T02:17:23.779393Z",
     "iopub.status.idle": "2022-08-03T02:17:23.890811Z",
     "shell.execute_reply": "2022-08-03T02:17:23.889965Z"
    },
    "papermill": {
     "duration": 0.139601,
     "end_time": "2022-08-03T02:17:23.893782",
     "exception": false,
     "start_time": "2022-08-03T02:17:23.754181",
     "status": "completed"
    },
    "tags": []
   },
   "outputs": [],
   "source": [
    "gene_chr_objs = [Gene(ensembl_id=gene_id) for gene_id in genes_chr[\"id\"]]"
   ]
  },
  {
   "cell_type": "code",
   "execution_count": 28,
   "id": "570f974f-13c3-42b6-ad3a-ce99ca885c1a",
   "metadata": {
    "execution": {
     "iopub.execute_input": "2022-08-03T02:17:23.949985Z",
     "iopub.status.busy": "2022-08-03T02:17:23.949695Z",
     "iopub.status.idle": "2022-08-03T02:17:23.989531Z",
     "shell.execute_reply": "2022-08-03T02:17:23.988973Z"
    },
    "papermill": {
     "duration": 0.068815,
     "end_time": "2022-08-03T02:17:23.991174",
     "exception": false,
     "start_time": "2022-08-03T02:17:23.922359",
     "status": "completed"
    },
    "tags": []
   },
   "outputs": [
    {
     "name": "stdout",
     "output_type": "stream",
     "text": [
      "Number of gene combinations: 14365\n"
     ]
    }
   ],
   "source": [
    "n = len(gene_chr_objs)\n",
    "n_comb = int(n * (n - 1) / 2.0)\n",
    "print(f\"Number of gene combinations: {n_comb}\", flush=True)"
   ]
  },
  {
   "cell_type": "code",
   "execution_count": 29,
   "id": "cdbb90a1",
   "metadata": {
    "execution": {
     "iopub.execute_input": "2022-08-03T02:17:24.030105Z",
     "iopub.status.busy": "2022-08-03T02:17:24.029885Z",
     "iopub.status.idle": "2022-08-03T02:35:17.803679Z",
     "shell.execute_reply": "2022-08-03T02:35:17.802400Z"
    },
    "papermill": {
     "duration": 1073.795235,
     "end_time": "2022-08-03T02:35:17.806792",
     "exception": false,
     "start_time": "2022-08-03T02:17:24.011557",
     "status": "completed"
    },
    "tags": []
   },
   "outputs": [
    {
     "name": "stderr",
     "output_type": "stream",
     "text": [
      "ENSG00000100299 / ENSG00000251322: 100%|██████████████████████| 14365/14365 [17:53<00:00, 13.38it/s]\n"
     ]
    },
    {
     "data": {
      "text/plain": [
       "PosixPath('/project/ritchie20/projects/phenoplier/base/results/gls/gene_corrs/cohorts/1000g_eur/gtex_v8/mashr/by_chr/gene_corrs-chr22.pkl')"
      ]
     },
     "metadata": {},
     "output_type": "display_data"
    }
   ],
   "source": [
    "gene_corrs = []\n",
    "\n",
    "i = 0\n",
    "with tqdm(ncols=100, total=n_comb) as pbar:\n",
    "    for gene1_idx in range(0, len(gene_chr_objs) - 1):\n",
    "        gene1_obj = gene_chr_objs[gene1_idx]\n",
    "        gene1_tissues = spredixcan_genes_models.loc[gene1_obj.ensembl_id, \"tissue\"]\n",
    "\n",
    "        for gene2_idx in range(gene1_idx + 1, len(gene_chr_objs)):\n",
    "            gene2_obj = gene_chr_objs[gene2_idx]\n",
    "            gene2_tissues = spredixcan_genes_models.loc[gene2_obj.ensembl_id, \"tissue\"]\n",
    "\n",
    "            pbar.set_description(f\"{gene1_obj.ensembl_id} / {gene2_obj.ensembl_id}\")\n",
    "\n",
    "            try:\n",
    "                r = gene1_obj.get_ssm_correlation(\n",
    "                    other_gene=gene2_obj,\n",
    "                    tissues=gene1_tissues,\n",
    "                    other_tissues=gene2_tissues,\n",
    "                    snps_subset=gwas_variants_ids_set,\n",
    "                    condition_number=SMULTIXCAN_CONDITION_NUMBER,\n",
    "                    reference_panel=REFERENCE_PANEL,\n",
    "                    model_type=EQTL_MODEL,\n",
    "                    use_within_distance=COMPUTE_CORRELATIONS_WITHIN_DISTANCE,\n",
    "                )\n",
    "\n",
    "                if r is None:\n",
    "                    # if r is None, it's very likely because:\n",
    "                    #  * one of the genes has no prediction models\n",
    "                    #  * all the SNPs predictors for the gene are not present in the reference\n",
    "                    #    panel\n",
    "\n",
    "                    r = 0.0\n",
    "\n",
    "                gene_corrs.append(r)\n",
    "            except Warning as e:\n",
    "                if not DEBUG_MODE:\n",
    "                    raise e\n",
    "\n",
    "                print(\n",
    "                    f\"RuntimeWarning for genes {gene1_obj.ensembl_id} and {gene2_obj.ensembl_id}\",\n",
    "                    flush=True,\n",
    "                )\n",
    "                print(traceback.format_exc(), flush=True)\n",
    "\n",
    "                gene_corrs.append(np.nan)\n",
    "            except Exception as e:\n",
    "                if not DEBUG_MODE:\n",
    "                    raise e\n",
    "\n",
    "                print(\n",
    "                    f\"Exception for genes {gene1_obj.ensembl_id} and {gene2_obj.ensembl_id}\",\n",
    "                    flush=True,\n",
    "                )\n",
    "                print(traceback.format_exc(), flush=True)\n",
    "\n",
    "                gene_corrs.append(np.nan)\n",
    "\n",
    "            pbar.update(1)\n",
    "\n",
    "# create a pandas series\n",
    "gene_corrs_flat = pd.Series(gene_corrs)\n",
    "\n",
    "# save\n",
    "# FIXME: consider saving only the condenced matrix here. See here for\n",
    "# more details: https://github.com/greenelab/phenoplier/pull/38#discussion_r634600813\n",
    "gene_corrs_data = squareform(np.array(gene_corrs, dtype=np.float64))\n",
    "np.fill_diagonal(gene_corrs_data, 1.0)\n",
    "\n",
    "gene_chr_ids = [g.ensembl_id for g in gene_chr_objs]\n",
    "gene_corrs_df = pd.DataFrame(\n",
    "    data=gene_corrs_data,\n",
    "    index=gene_chr_ids,\n",
    "    columns=gene_chr_ids,\n",
    ")\n",
    "\n",
    "output_dir.mkdir(exist_ok=True, parents=True)\n",
    "display(output_file)\n",
    "\n",
    "gene_corrs_df.to_pickle(output_file)"
   ]
  },
  {
   "cell_type": "markdown",
   "id": "faa67b51-5373-470f-aa72-2ded53fa6dfe",
   "metadata": {
    "papermill": {
     "duration": 0.734929,
     "end_time": "2022-08-03T02:35:19.319926",
     "exception": false,
     "start_time": "2022-08-03T02:35:18.584997",
     "status": "completed"
    },
    "tags": []
   },
   "source": [
    "# Testing"
   ]
  },
  {
   "cell_type": "code",
   "execution_count": 30,
   "id": "14f7d046-4b55-4896-a56b-990127bcc388",
   "metadata": {
    "execution": {
     "iopub.execute_input": "2022-08-03T02:35:20.799179Z",
     "iopub.status.busy": "2022-08-03T02:35:20.798904Z",
     "iopub.status.idle": "2022-08-03T02:35:21.022588Z",
     "shell.execute_reply": "2022-08-03T02:35:21.022141Z"
    },
    "papermill": {
     "duration": 0.979361,
     "end_time": "2022-08-03T02:35:21.023993",
     "exception": false,
     "start_time": "2022-08-03T02:35:20.044632",
     "status": "completed"
    },
    "tags": []
   },
   "outputs": [
    {
     "data": {
      "text/plain": [
       "(170, 170)"
      ]
     },
     "execution_count": 30,
     "metadata": {},
     "output_type": "execute_result"
    }
   ],
   "source": [
    "gene_corrs_df.shape"
   ]
  },
  {
   "cell_type": "code",
   "execution_count": 31,
   "id": "c7d15414-3297-4537-a7c6-7588c0baeb75",
   "metadata": {
    "execution": {
     "iopub.execute_input": "2022-08-03T02:35:22.537943Z",
     "iopub.status.busy": "2022-08-03T02:35:22.537695Z",
     "iopub.status.idle": "2022-08-03T02:35:22.572069Z",
     "shell.execute_reply": "2022-08-03T02:35:22.571611Z"
    },
    "papermill": {
     "duration": 0.791505,
     "end_time": "2022-08-03T02:35:22.573501",
     "exception": false,
     "start_time": "2022-08-03T02:35:21.781996",
     "status": "completed"
    },
    "tags": []
   },
   "outputs": [
    {
     "data": {
      "text/html": [
       "<div>\n",
       "<style scoped>\n",
       "    .dataframe tbody tr th:only-of-type {\n",
       "        vertical-align: middle;\n",
       "    }\n",
       "\n",
       "    .dataframe tbody tr th {\n",
       "        vertical-align: top;\n",
       "    }\n",
       "\n",
       "    .dataframe thead th {\n",
       "        text-align: right;\n",
       "    }\n",
       "</style>\n",
       "<table border=\"1\" class=\"dataframe\">\n",
       "  <thead>\n",
       "    <tr style=\"text-align: right;\">\n",
       "      <th></th>\n",
       "      <th>ENSG00000177663</th>\n",
       "      <th>ENSG00000131100</th>\n",
       "      <th>ENSG00000099968</th>\n",
       "      <th>ENSG00000015475</th>\n",
       "      <th>ENSG00000243156</th>\n",
       "      <th>ENSG00000215193</th>\n",
       "      <th>ENSG00000183785</th>\n",
       "      <th>ENSG00000184979</th>\n",
       "      <th>ENSG00000100033</th>\n",
       "      <th>ENSG00000100075</th>\n",
       "      <th>...</th>\n",
       "      <th>ENSG00000196576</th>\n",
       "      <th>ENSG00000128165</th>\n",
       "      <th>ENSG00000100253</th>\n",
       "      <th>ENSG00000130489</th>\n",
       "      <th>ENSG00000025708</th>\n",
       "      <th>ENSG00000205560</th>\n",
       "      <th>ENSG00000100288</th>\n",
       "      <th>ENSG00000008735</th>\n",
       "      <th>ENSG00000100299</th>\n",
       "      <th>ENSG00000251322</th>\n",
       "    </tr>\n",
       "  </thead>\n",
       "  <tbody>\n",
       "    <tr>\n",
       "      <th>ENSG00000177663</th>\n",
       "      <td>1.000000</td>\n",
       "      <td>0.003816</td>\n",
       "      <td>0.006914</td>\n",
       "      <td>0.006409</td>\n",
       "      <td>0.005393</td>\n",
       "      <td>0.009169</td>\n",
       "      <td>0.011137</td>\n",
       "      <td>0.007916</td>\n",
       "      <td>0.005694</td>\n",
       "      <td>0.002630</td>\n",
       "      <td>...</td>\n",
       "      <td>0.008032</td>\n",
       "      <td>0.009928</td>\n",
       "      <td>0.008238</td>\n",
       "      <td>0.003678</td>\n",
       "      <td>0.003232</td>\n",
       "      <td>0.006669</td>\n",
       "      <td>0.004615</td>\n",
       "      <td>0.009432</td>\n",
       "      <td>0.004205</td>\n",
       "      <td>0.002770</td>\n",
       "    </tr>\n",
       "    <tr>\n",
       "      <th>ENSG00000131100</th>\n",
       "      <td>0.003816</td>\n",
       "      <td>1.000000</td>\n",
       "      <td>0.542060</td>\n",
       "      <td>0.258362</td>\n",
       "      <td>0.008517</td>\n",
       "      <td>0.003627</td>\n",
       "      <td>0.005205</td>\n",
       "      <td>0.003437</td>\n",
       "      <td>0.008233</td>\n",
       "      <td>0.005908</td>\n",
       "      <td>...</td>\n",
       "      <td>0.008277</td>\n",
       "      <td>0.007869</td>\n",
       "      <td>0.011249</td>\n",
       "      <td>0.004228</td>\n",
       "      <td>0.006198</td>\n",
       "      <td>0.004357</td>\n",
       "      <td>0.003490</td>\n",
       "      <td>0.005618</td>\n",
       "      <td>0.002902</td>\n",
       "      <td>0.001054</td>\n",
       "    </tr>\n",
       "    <tr>\n",
       "      <th>ENSG00000099968</th>\n",
       "      <td>0.006914</td>\n",
       "      <td>0.542060</td>\n",
       "      <td>1.000000</td>\n",
       "      <td>0.393204</td>\n",
       "      <td>0.017352</td>\n",
       "      <td>0.006770</td>\n",
       "      <td>0.010656</td>\n",
       "      <td>0.005821</td>\n",
       "      <td>0.011148</td>\n",
       "      <td>0.008450</td>\n",
       "      <td>...</td>\n",
       "      <td>0.012225</td>\n",
       "      <td>0.009133</td>\n",
       "      <td>0.010688</td>\n",
       "      <td>0.006931</td>\n",
       "      <td>0.006989</td>\n",
       "      <td>0.006061</td>\n",
       "      <td>0.006840</td>\n",
       "      <td>0.007914</td>\n",
       "      <td>0.006822</td>\n",
       "      <td>0.006200</td>\n",
       "    </tr>\n",
       "    <tr>\n",
       "      <th>ENSG00000015475</th>\n",
       "      <td>0.006409</td>\n",
       "      <td>0.258362</td>\n",
       "      <td>0.393204</td>\n",
       "      <td>1.000000</td>\n",
       "      <td>0.023707</td>\n",
       "      <td>0.013641</td>\n",
       "      <td>0.012742</td>\n",
       "      <td>0.009569</td>\n",
       "      <td>0.012669</td>\n",
       "      <td>0.003952</td>\n",
       "      <td>...</td>\n",
       "      <td>0.012598</td>\n",
       "      <td>0.012137</td>\n",
       "      <td>0.012556</td>\n",
       "      <td>0.006271</td>\n",
       "      <td>0.007571</td>\n",
       "      <td>0.005518</td>\n",
       "      <td>0.007376</td>\n",
       "      <td>0.012388</td>\n",
       "      <td>0.007987</td>\n",
       "      <td>0.007268</td>\n",
       "    </tr>\n",
       "    <tr>\n",
       "      <th>ENSG00000243156</th>\n",
       "      <td>0.005393</td>\n",
       "      <td>0.008517</td>\n",
       "      <td>0.017352</td>\n",
       "      <td>0.023707</td>\n",
       "      <td>1.000000</td>\n",
       "      <td>0.041902</td>\n",
       "      <td>0.025743</td>\n",
       "      <td>0.023831</td>\n",
       "      <td>0.012505</td>\n",
       "      <td>0.004385</td>\n",
       "      <td>...</td>\n",
       "      <td>0.017565</td>\n",
       "      <td>0.017028</td>\n",
       "      <td>0.008356</td>\n",
       "      <td>0.006808</td>\n",
       "      <td>0.010760</td>\n",
       "      <td>0.009518</td>\n",
       "      <td>0.011146</td>\n",
       "      <td>0.011820</td>\n",
       "      <td>0.005771</td>\n",
       "      <td>0.008866</td>\n",
       "    </tr>\n",
       "  </tbody>\n",
       "</table>\n",
       "<p>5 rows × 170 columns</p>\n",
       "</div>"
      ],
      "text/plain": [
       "                 ENSG00000177663  ENSG00000131100  ENSG00000099968  \\\n",
       "ENSG00000177663         1.000000         0.003816         0.006914   \n",
       "ENSG00000131100         0.003816         1.000000         0.542060   \n",
       "ENSG00000099968         0.006914         0.542060         1.000000   \n",
       "ENSG00000015475         0.006409         0.258362         0.393204   \n",
       "ENSG00000243156         0.005393         0.008517         0.017352   \n",
       "\n",
       "                 ENSG00000015475  ENSG00000243156  ENSG00000215193  \\\n",
       "ENSG00000177663         0.006409         0.005393         0.009169   \n",
       "ENSG00000131100         0.258362         0.008517         0.003627   \n",
       "ENSG00000099968         0.393204         0.017352         0.006770   \n",
       "ENSG00000015475         1.000000         0.023707         0.013641   \n",
       "ENSG00000243156         0.023707         1.000000         0.041902   \n",
       "\n",
       "                 ENSG00000183785  ENSG00000184979  ENSG00000100033  \\\n",
       "ENSG00000177663         0.011137         0.007916         0.005694   \n",
       "ENSG00000131100         0.005205         0.003437         0.008233   \n",
       "ENSG00000099968         0.010656         0.005821         0.011148   \n",
       "ENSG00000015475         0.012742         0.009569         0.012669   \n",
       "ENSG00000243156         0.025743         0.023831         0.012505   \n",
       "\n",
       "                 ENSG00000100075  ...  ENSG00000196576  ENSG00000128165  \\\n",
       "ENSG00000177663         0.002630  ...         0.008032         0.009928   \n",
       "ENSG00000131100         0.005908  ...         0.008277         0.007869   \n",
       "ENSG00000099968         0.008450  ...         0.012225         0.009133   \n",
       "ENSG00000015475         0.003952  ...         0.012598         0.012137   \n",
       "ENSG00000243156         0.004385  ...         0.017565         0.017028   \n",
       "\n",
       "                 ENSG00000100253  ENSG00000130489  ENSG00000025708  \\\n",
       "ENSG00000177663         0.008238         0.003678         0.003232   \n",
       "ENSG00000131100         0.011249         0.004228         0.006198   \n",
       "ENSG00000099968         0.010688         0.006931         0.006989   \n",
       "ENSG00000015475         0.012556         0.006271         0.007571   \n",
       "ENSG00000243156         0.008356         0.006808         0.010760   \n",
       "\n",
       "                 ENSG00000205560  ENSG00000100288  ENSG00000008735  \\\n",
       "ENSG00000177663         0.006669         0.004615         0.009432   \n",
       "ENSG00000131100         0.004357         0.003490         0.005618   \n",
       "ENSG00000099968         0.006061         0.006840         0.007914   \n",
       "ENSG00000015475         0.005518         0.007376         0.012388   \n",
       "ENSG00000243156         0.009518         0.011146         0.011820   \n",
       "\n",
       "                 ENSG00000100299  ENSG00000251322  \n",
       "ENSG00000177663         0.004205         0.002770  \n",
       "ENSG00000131100         0.002902         0.001054  \n",
       "ENSG00000099968         0.006822         0.006200  \n",
       "ENSG00000015475         0.007987         0.007268  \n",
       "ENSG00000243156         0.005771         0.008866  \n",
       "\n",
       "[5 rows x 170 columns]"
      ]
     },
     "execution_count": 31,
     "metadata": {},
     "output_type": "execute_result"
    }
   ],
   "source": [
    "gene_corrs_df.head()"
   ]
  },
  {
   "cell_type": "markdown",
   "id": "dad6603f-01c6-41fb-a6f6-241051207dd8",
   "metadata": {
    "papermill": {
     "duration": 0.732947,
     "end_time": "2022-08-03T02:35:23.986985",
     "exception": false,
     "start_time": "2022-08-03T02:35:23.254038",
     "status": "completed"
    },
    "tags": []
   },
   "source": [
    "## Standard checks and stats"
   ]
  },
  {
   "cell_type": "code",
   "execution_count": 32,
   "id": "286686af-1b7b-4440-8453-6bdcbd8de19c",
   "metadata": {
    "execution": {
     "iopub.execute_input": "2022-08-03T02:35:25.407140Z",
     "iopub.status.busy": "2022-08-03T02:35:25.406880Z",
     "iopub.status.idle": "2022-08-03T02:35:25.427568Z",
     "shell.execute_reply": "2022-08-03T02:35:25.427139Z"
    },
    "papermill": {
     "duration": 0.737137,
     "end_time": "2022-08-03T02:35:25.429025",
     "exception": false,
     "start_time": "2022-08-03T02:35:24.691888",
     "status": "completed"
    },
    "tags": []
   },
   "outputs": [],
   "source": [
    "assert not gene_corrs_df.isna().any().any()"
   ]
  },
  {
   "cell_type": "code",
   "execution_count": 33,
   "id": "00583efc-7068-4270-ad1e-4a418e91db96",
   "metadata": {
    "execution": {
     "iopub.execute_input": "2022-08-03T02:35:26.867172Z",
     "iopub.status.busy": "2022-08-03T02:35:26.866913Z",
     "iopub.status.idle": "2022-08-03T02:35:26.889442Z",
     "shell.execute_reply": "2022-08-03T02:35:26.889048Z"
    },
    "papermill": {
     "duration": 0.7309,
     "end_time": "2022-08-03T02:35:26.890654",
     "exception": false,
     "start_time": "2022-08-03T02:35:26.159754",
     "status": "completed"
    },
    "tags": []
   },
   "outputs": [
    {
     "data": {
      "text/plain": [
       "1.7872532327778982e-07"
      ]
     },
     "metadata": {},
     "output_type": "display_data"
    }
   ],
   "source": [
    "_min_val = gene_corrs_df.min().min()\n",
    "display(_min_val)\n",
    "assert _min_val >= 0.0"
   ]
  },
  {
   "cell_type": "code",
   "execution_count": 34,
   "id": "d04fb2cf-1050-475b-b855-f5f7cc04092b",
   "metadata": {
    "execution": {
     "iopub.execute_input": "2022-08-03T02:35:28.299532Z",
     "iopub.status.busy": "2022-08-03T02:35:28.299274Z",
     "iopub.status.idle": "2022-08-03T02:35:28.322491Z",
     "shell.execute_reply": "2022-08-03T02:35:28.322071Z"
    },
    "papermill": {
     "duration": 0.72945,
     "end_time": "2022-08-03T02:35:28.323752",
     "exception": false,
     "start_time": "2022-08-03T02:35:27.594302",
     "status": "completed"
    },
    "tags": []
   },
   "outputs": [
    {
     "data": {
      "text/plain": [
       "1.0"
      ]
     },
     "metadata": {},
     "output_type": "display_data"
    }
   ],
   "source": [
    "_max_val = gene_corrs_df.max().max()  # this captures the diagonal\n",
    "display(_max_val)\n",
    "assert _max_val <= 1.0"
   ]
  },
  {
   "cell_type": "code",
   "execution_count": 35,
   "id": "96d02c44-1fba-47be-8a93-8f2608420b9c",
   "metadata": {
    "execution": {
     "iopub.execute_input": "2022-08-03T02:35:29.800615Z",
     "iopub.status.busy": "2022-08-03T02:35:29.800368Z",
     "iopub.status.idle": "2022-08-03T02:35:29.826600Z",
     "shell.execute_reply": "2022-08-03T02:35:29.826175Z"
    },
    "papermill": {
     "duration": 0.764544,
     "end_time": "2022-08-03T02:35:29.828020",
     "exception": false,
     "start_time": "2022-08-03T02:35:29.063476",
     "status": "completed"
    },
    "tags": []
   },
   "outputs": [],
   "source": [
    "# check upper triangular values\n",
    "assert len(gene_corrs) == int(genes_chr.shape[0] * (genes_chr.shape[0] - 1) / 2)"
   ]
  },
  {
   "cell_type": "code",
   "execution_count": 36,
   "id": "fe283586-c348-40e0-8841-f6d97bfb021c",
   "metadata": {
    "execution": {
     "iopub.execute_input": "2022-08-03T02:35:31.275199Z",
     "iopub.status.busy": "2022-08-03T02:35:31.274936Z",
     "iopub.status.idle": "2022-08-03T02:35:31.299880Z",
     "shell.execute_reply": "2022-08-03T02:35:31.299456Z"
    },
    "papermill": {
     "duration": 0.758214,
     "end_time": "2022-08-03T02:35:31.301180",
     "exception": false,
     "start_time": "2022-08-03T02:35:30.542966",
     "status": "completed"
    },
    "tags": []
   },
   "outputs": [
    {
     "data": {
      "text/plain": [
       "count    1.436500e+04\n",
       "mean     1.114985e-02\n",
       "std      4.098405e-02\n",
       "min      1.787253e-07\n",
       "25%      3.853423e-03\n",
       "50%      5.945592e-03\n",
       "75%      8.373803e-03\n",
       "max      9.553975e-01\n",
       "dtype: float64"
      ]
     },
     "execution_count": 36,
     "metadata": {},
     "output_type": "execute_result"
    }
   ],
   "source": [
    "gene_corrs_flat.describe()"
   ]
  },
  {
   "cell_type": "code",
   "execution_count": 37,
   "id": "b3815678-0f93-4b35-897b-a9d047a2aa78",
   "metadata": {
    "execution": {
     "iopub.execute_input": "2022-08-03T02:35:32.715206Z",
     "iopub.status.busy": "2022-08-03T02:35:32.714946Z",
     "iopub.status.idle": "2022-08-03T02:35:32.738983Z",
     "shell.execute_reply": "2022-08-03T02:35:32.738565Z"
    },
    "papermill": {
     "duration": 0.732809,
     "end_time": "2022-08-03T02:35:32.740284",
     "exception": false,
     "start_time": "2022-08-03T02:35:32.007475",
     "status": "completed"
    },
    "tags": []
   },
   "outputs": [
    {
     "data": {
      "text/plain": [
       "0.00    1.787253e-07\n",
       "0.05    1.510282e-03\n",
       "0.10    2.247558e-03\n",
       "0.15    2.879824e-03\n",
       "0.20    3.390639e-03\n",
       "0.25    3.853423e-03\n",
       "0.30    4.290689e-03\n",
       "0.35    4.694317e-03\n",
       "0.40    5.106759e-03\n",
       "0.45    5.512460e-03\n",
       "0.50    5.945592e-03\n",
       "0.55    6.369986e-03\n",
       "0.60    6.808949e-03\n",
       "0.65    7.300097e-03\n",
       "0.70    7.804831e-03\n",
       "0.75    8.373803e-03\n",
       "0.80    9.039426e-03\n",
       "0.85    9.857509e-03\n",
       "0.90    1.106795e-02\n",
       "0.95    1.379503e-02\n",
       "dtype: float64"
      ]
     },
     "metadata": {},
     "output_type": "display_data"
    }
   ],
   "source": [
    "gene_corrs_quantiles = gene_corrs_flat.quantile(np.arange(0, 1, 0.05))\n",
    "display(gene_corrs_quantiles)"
   ]
  },
  {
   "cell_type": "markdown",
   "id": "87134509-b145-4a10-8bc9-b7e914c2b0fa",
   "metadata": {
    "papermill": {
     "duration": 0.722326,
     "end_time": "2022-08-03T02:35:34.177208",
     "exception": false,
     "start_time": "2022-08-03T02:35:33.454882",
     "status": "completed"
    },
    "tags": []
   },
   "source": [
    "## Positive definiteness"
   ]
  },
  {
   "cell_type": "code",
   "execution_count": 38,
   "id": "07d9a9a1-a4f7-48aa-b916-6d42a8cc6186",
   "metadata": {
    "execution": {
     "iopub.execute_input": "2022-08-03T02:35:35.588892Z",
     "iopub.status.busy": "2022-08-03T02:35:35.588647Z",
     "iopub.status.idle": "2022-08-03T02:35:35.618218Z",
     "shell.execute_reply": "2022-08-03T02:35:35.617799Z"
    },
    "papermill": {
     "duration": 0.746817,
     "end_time": "2022-08-03T02:35:35.619474",
     "exception": false,
     "start_time": "2022-08-03T02:35:34.872657",
     "status": "completed"
    },
    "tags": []
   },
   "outputs": [
    {
     "data": {
      "text/plain": [
       "0"
      ]
     },
     "metadata": {},
     "output_type": "display_data"
    },
    {
     "data": {
      "text/plain": [
       "array([], dtype=float64)"
      ]
     },
     "metadata": {},
     "output_type": "display_data"
    }
   ],
   "source": [
    "# print negative eigenvalues\n",
    "eigs = np.linalg.eigvals(gene_corrs_df.to_numpy())\n",
    "display(len(eigs[eigs < 0]))\n",
    "display(eigs[eigs < 0])"
   ]
  },
  {
   "cell_type": "code",
   "execution_count": 39,
   "id": "6e218436-c3c5-4028-8c94-a4fa6260efce",
   "metadata": {
    "execution": {
     "iopub.execute_input": "2022-08-03T02:35:37.081773Z",
     "iopub.status.busy": "2022-08-03T02:35:37.081524Z",
     "iopub.status.idle": "2022-08-03T02:35:37.104905Z",
     "shell.execute_reply": "2022-08-03T02:35:37.104453Z"
    },
    "papermill": {
     "duration": 0.759644,
     "end_time": "2022-08-03T02:35:37.106330",
     "exception": false,
     "start_time": "2022-08-03T02:35:36.346686",
     "status": "completed"
    },
    "tags": []
   },
   "outputs": [
    {
     "name": "stdout",
     "output_type": "stream",
     "text": [
      "Works!\n"
     ]
    }
   ],
   "source": [
    "try:\n",
    "    chol_mat = np.linalg.cholesky(gene_corrs_df.to_numpy())\n",
    "    cov_inv = np.linalg.inv(chol_mat)\n",
    "    print(\"Works!\")\n",
    "except:\n",
    "    print(\"Cholesky decomposition failed\")"
   ]
  },
  {
   "cell_type": "markdown",
   "id": "8e60a080-edb2-4e9c-b2ef-22961693200c",
   "metadata": {
    "papermill": {
     "duration": 0.712772,
     "end_time": "2022-08-03T02:35:38.551691",
     "exception": false,
     "start_time": "2022-08-03T02:35:37.838919",
     "status": "completed"
    },
    "tags": []
   },
   "source": [
    "## Plot: distribution"
   ]
  },
  {
   "cell_type": "code",
   "execution_count": 40,
   "id": "8301126b-a7d4-4744-9c7d-f0f86eb6f54c",
   "metadata": {
    "execution": {
     "iopub.execute_input": "2022-08-03T02:35:40.024048Z",
     "iopub.status.busy": "2022-08-03T02:35:40.023799Z",
     "iopub.status.idle": "2022-08-03T02:35:46.048799Z",
     "shell.execute_reply": "2022-08-03T02:35:46.048335Z"
    },
    "papermill": {
     "duration": 6.760393,
     "end_time": "2022-08-03T02:35:46.050231",
     "exception": false,
     "start_time": "2022-08-03T02:35:39.289838",
     "status": "completed"
    },
    "tags": []
   },
   "outputs": [
    {
     "data": {
      "image/png": "[encoded data removed]",
      "text/plain": [
       "<Figure size 504x504 with 1 Axes>"
      ]
     },
     "metadata": {
      "needs_background": "light"
     },
     "output_type": "display_data"
    }
   ],
   "source": [
    "with sns.plotting_context(\"paper\", font_scale=1.5):\n",
    "    g = sns.displot(gene_corrs_flat, kde=True, height=7)\n",
    "    g.ax.set_title(\n",
    "        f\"Distribution of gene correlation values in chromosome {CHROMOSOME}\"\n",
    "    )"
   ]
  },
  {
   "cell_type": "markdown",
   "id": "cbd52bca-d878-4a2f-b684-5c83aa3038d4",
   "metadata": {
    "papermill": {
     "duration": 0.746951,
     "end_time": "2022-08-03T02:35:47.463574",
     "exception": false,
     "start_time": "2022-08-03T02:35:46.716623",
     "status": "completed"
    },
    "tags": []
   },
   "source": [
    "## Plot: heatmap"
   ]
  },
  {
   "cell_type": "code",
   "execution_count": 41,
   "id": "d03fe63a-c7b2-4fb9-a53c-db362ce843c9",
   "metadata": {
    "execution": {
     "iopub.execute_input": "2022-08-03T02:35:48.958593Z",
     "iopub.status.busy": "2022-08-03T02:35:48.958337Z",
     "iopub.status.idle": "2022-08-03T02:35:49.012561Z",
     "shell.execute_reply": "2022-08-03T02:35:49.012126Z"
    },
    "papermill": {
     "duration": 0.804647,
     "end_time": "2022-08-03T02:35:49.013947",
     "exception": false,
     "start_time": "2022-08-03T02:35:48.209300",
     "status": "completed"
    },
    "tags": []
   },
   "outputs": [
    {
     "data": {
      "text/plain": [
       "'0.0 / 0.05'"
      ]
     },
     "metadata": {},
     "output_type": "display_data"
    }
   ],
   "source": [
    "vmin_val = min(0.00, gene_corrs_quantiles[0.10])\n",
    "vmax_val = max(0.05, gene_corrs_quantiles[0.90])\n",
    "display(f\"{vmin_val} / {vmax_val}\")"
   ]
  },
  {
   "cell_type": "code",
   "execution_count": 42,
   "id": "dc41b70b-5bcc-4d9e-9f33-a22c4a94dab5",
   "metadata": {
    "execution": {
     "iopub.execute_input": "2022-08-03T02:35:50.458287Z",
     "iopub.status.busy": "2022-08-03T02:35:50.458025Z",
     "iopub.status.idle": "2022-08-03T02:35:50.631478Z",
     "shell.execute_reply": "2022-08-03T02:35:50.630990Z"
    },
    "papermill": {
     "duration": 0.899275,
     "end_time": "2022-08-03T02:35:50.633039",
     "exception": false,
     "start_time": "2022-08-03T02:35:49.733764",
     "status": "completed"
    },
    "tags": []
   },
   "outputs": [
    {
     "data": {
      "text/plain": [
       "Text(0.5, 1.0, 'Gene correlations in chromosome 22')"
      ]
     },
     "execution_count": 42,
     "metadata": {},
     "output_type": "execute_result"
    },
    {
     "data": {
      "image/png": "[encoded data removed]",
      "text/plain": [
       "<Figure size 720x720 with 2 Axes>"
      ]
     },
     "metadata": {
      "needs_background": "light"
     },
     "output_type": "display_data"
    }
   ],
   "source": [
    "f, ax = plt.subplots(figsize=(10, 10))\n",
    "sns.heatmap(\n",
    "    gene_corrs_df,\n",
    "    xticklabels=False,\n",
    "    yticklabels=False,\n",
    "    square=True,\n",
    "    vmin=vmin_val,\n",
    "    vmax=vmax_val,\n",
    "    cmap=\"rocket_r\",\n",
    "    ax=ax,\n",
    ")\n",
    "ax.set_title(f\"Gene correlations in chromosome {CHROMOSOME}\")"
   ]
  },
  {
   "cell_type": "code",
   "execution_count": null,
   "id": "b25e3ead",
   "metadata": {
    "papermill": {
     "duration": 0.732959,
     "end_time": "2022-08-03T02:35:52.069704",
     "exception": false,
     "start_time": "2022-08-03T02:35:51.336745",
     "status": "completed"
    },
    "tags": []
   },
   "outputs": [],
   "source": []
  }
 ],
 "metadata": {
  "jupytext": {
   "cell_metadata_filter": "all,-execution,-papermill,-trusted",
   "formats": "ipynb,py//py:percent"
  },
  "kernelspec": {
   "display_name": "Python 3 (ipykernel)",
   "language": "python",
   "name": "python3"
  },
  "language_info": {
   "codemirror_mode": {
    "name": "ipython",
    "version": 3
   },
   "file_extension": ".py",
   "mimetype": "text/x-python",
   "name": "python",
   "nbconvert_exporter": "python",
   "pygments_lexer": "ipython3",
   "version": "3.8.13"
  },
  "papermill": {
   "default_parameters": {},
   "duration": 1132.325852,
   "end_time": "2022-08-03T02:35:55.801574",
   "environment_variables": {},
   "exception": null,
   "input_path": "nbs/15_gsa_gls/10-gene_expr_correlations.ipynb",
   "output_path": "nbs/15_gsa_gls/gene_corrs/cohorts/1000g_eur/gtex_v8/mashr/10-gene_expr_correlations-chr22.run.ipynb",
   "parameters": {
    "CHROMOSOME": 22,
    "COHORT_NAME": "1000G_EUR",
    "EQTL_MODEL": "MASHR",
    "REFERENCE_PANEL": "GTEX_V8"
   },
   "start_time": "2022-08-03T02:17:03.475722",
   "version": "2.2.2"
  }
 },
 "nbformat": 4,
 "nbformat_minor": 5
}
