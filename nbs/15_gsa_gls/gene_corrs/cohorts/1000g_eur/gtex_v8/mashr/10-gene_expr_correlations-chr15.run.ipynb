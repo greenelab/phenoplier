{
 "cells": [
  {
   "cell_type": "markdown",
   "id": "7a6632fb",
   "metadata": {
    "papermill": {
     "duration": 0.019615,
     "end_time": "2022-08-03T02:16:31.494887",
     "exception": false,
     "start_time": "2022-08-03T02:16:31.475272",
     "status": "completed"
    },
    "tags": []
   },
   "source": [
    "# Description"
   ]
  },
  {
   "cell_type": "markdown",
   "id": "7097c346",
   "metadata": {
    "papermill": {
     "duration": 0.055355,
     "end_time": "2022-08-03T02:16:31.567984",
     "exception": false,
     "start_time": "2022-08-03T02:16:31.512629",
     "status": "completed"
    },
    "tags": []
   },
   "source": [
    "(Please, take a look at the README.md file in this directory for instructions on how to run this notebook)\n",
    "\n",
    "This notebook computes predicted expression correlations between all genes in the MultiPLIER models.\n",
    "\n",
    "It also has a parameter set for papermill to run on a single chromosome to run in parallel (see under `Settings` below).\n",
    "\n",
    "This notebook is not directly run. See README.md."
   ]
  },
  {
   "cell_type": "markdown",
   "id": "c61d8427",
   "metadata": {
    "papermill": {
     "duration": 0.010422,
     "end_time": "2022-08-03T02:16:31.590277",
     "exception": false,
     "start_time": "2022-08-03T02:16:31.579855",
     "status": "completed"
    },
    "tags": []
   },
   "source": [
    "# Modules"
   ]
  },
  {
   "cell_type": "code",
   "execution_count": 1,
   "id": "bbc0234f",
   "metadata": {
    "execution": {
     "iopub.execute_input": "2022-08-03T02:16:31.612068Z",
     "iopub.status.busy": "2022-08-03T02:16:31.611712Z",
     "iopub.status.idle": "2022-08-03T02:16:31.673337Z",
     "shell.execute_reply": "2022-08-03T02:16:31.672857Z"
    },
    "papermill": {
     "duration": 0.074863,
     "end_time": "2022-08-03T02:16:31.675028",
     "exception": false,
     "start_time": "2022-08-03T02:16:31.600165",
     "status": "completed"
    },
    "tags": []
   },
   "outputs": [],
   "source": [
    "%load_ext autoreload\n",
    "%autoreload 2"
   ]
  },
  {
   "cell_type": "code",
   "execution_count": 2,
   "id": "1d5f5a59",
   "metadata": {
    "execution": {
     "iopub.execute_input": "2022-08-03T02:16:31.693528Z",
     "iopub.status.busy": "2022-08-03T02:16:31.693333Z",
     "iopub.status.idle": "2022-08-03T02:16:34.784102Z",
     "shell.execute_reply": "2022-08-03T02:16:34.783580Z"
    },
    "papermill": {
     "duration": 3.101971,
     "end_time": "2022-08-03T02:16:34.785954",
     "exception": false,
     "start_time": "2022-08-03T02:16:31.683983",
     "status": "completed"
    },
    "tags": []
   },
   "outputs": [],
   "source": [
    "from random import sample, seed\n",
    "import warnings\n",
    "from pathlib import Path\n",
    "import pickle\n",
    "import traceback\n",
    "\n",
    "import numpy as np\n",
    "from scipy.spatial.distance import squareform\n",
    "import pandas as pd\n",
    "from tqdm import tqdm\n",
    "import matplotlib.pyplot as plt\n",
    "import seaborn as sns\n",
    "\n",
    "import conf\n",
    "from entity import Gene"
   ]
  },
  {
   "cell_type": "markdown",
   "id": "1eac24b5",
   "metadata": {
    "papermill": {
     "duration": 0.010159,
     "end_time": "2022-08-03T02:16:34.804205",
     "exception": false,
     "start_time": "2022-08-03T02:16:34.794046",
     "status": "completed"
    },
    "tags": []
   },
   "source": [
    "# Settings"
   ]
  },
  {
   "cell_type": "code",
   "execution_count": 3,
   "id": "ca4560ba",
   "metadata": {
    "execution": {
     "iopub.execute_input": "2022-08-03T02:16:34.824466Z",
     "iopub.status.busy": "2022-08-03T02:16:34.824246Z",
     "iopub.status.idle": "2022-08-03T02:16:34.991681Z",
     "shell.execute_reply": "2022-08-03T02:16:34.991198Z"
    },
    "papermill": {
     "duration": 0.179808,
     "end_time": "2022-08-03T02:16:34.993544",
     "exception": false,
     "start_time": "2022-08-03T02:16:34.813736",
     "status": "completed"
    },
    "tags": [
     "parameters"
    ]
   },
   "outputs": [],
   "source": [
    "# a cohort name (it could be something like UK_BIOBANK, etc)\n",
    "COHORT_NAME = None\n",
    "\n",
    "# reference panel such as 1000G or GTEX_V8\n",
    "REFERENCE_PANEL = None\n",
    "\n",
    "# predictions models such as MASHR or ELASTIC_NET\n",
    "EQTL_MODEL = None\n",
    "\n",
    "# this is the default value used in S-MultiXcan to select the\n",
    "# top principal components of the expression correlation matrix\n",
    "SMULTIXCAN_CONDITION_NUMBER = 30\n",
    "\n",
    "# specifies a single chromosome value\n",
    "CHROMOSOME = None\n",
    "\n",
    "# If True, computes the correlation between closeby genes only;\n",
    "# otherwise, it computes correlations for all genes in a chromosome\n",
    "COMPUTE_CORRELATIONS_WITHIN_DISTANCE = False\n",
    "\n",
    "# if True, then it will continue if a gene pair correlation fails,\n",
    "# printing the warning/error for debugging. If False, any warning/error\n",
    "# will be thrown\n",
    "DEBUG_MODE = False"
   ]
  },
  {
   "cell_type": "code",
   "execution_count": 4,
   "id": "ddf94d0e",
   "metadata": {
    "execution": {
     "iopub.execute_input": "2022-08-03T02:16:35.011180Z",
     "iopub.status.busy": "2022-08-03T02:16:35.010949Z",
     "iopub.status.idle": "2022-08-03T02:16:35.034064Z",
     "shell.execute_reply": "2022-08-03T02:16:35.033644Z"
    },
    "papermill": {
     "duration": 0.034396,
     "end_time": "2022-08-03T02:16:35.035559",
     "exception": false,
     "start_time": "2022-08-03T02:16:35.001163",
     "status": "completed"
    },
    "tags": [
     "injected-parameters"
    ]
   },
   "outputs": [],
   "source": [
    "# Parameters\n",
    "COHORT_NAME = \"1000G_EUR\"\n",
    "REFERENCE_PANEL = \"GTEX_V8\"\n",
    "EQTL_MODEL = \"MASHR\"\n",
    "CHROMOSOME = 15\n"
   ]
  },
  {
   "cell_type": "code",
   "execution_count": 5,
   "id": "3190631f-27fc-480f-b18e-571d580425a5",
   "metadata": {
    "execution": {
     "iopub.execute_input": "2022-08-03T02:16:35.055290Z",
     "iopub.status.busy": "2022-08-03T02:16:35.055081Z",
     "iopub.status.idle": "2022-08-03T02:16:35.090045Z",
     "shell.execute_reply": "2022-08-03T02:16:35.089649Z"
    },
    "papermill": {
     "duration": 0.046682,
     "end_time": "2022-08-03T02:16:35.091335",
     "exception": false,
     "start_time": "2022-08-03T02:16:35.044653",
     "status": "completed"
    },
    "tags": []
   },
   "outputs": [
    {
     "data": {
      "text/plain": [
       "'Cohort name: 1000g_eur'"
      ]
     },
     "metadata": {},
     "output_type": "display_data"
    }
   ],
   "source": [
    "assert COHORT_NAME is not None and len(COHORT_NAME) > 0, \"A cohort name must be given\"\n",
    "\n",
    "COHORT_NAME = COHORT_NAME.lower()\n",
    "display(f\"Cohort name: {COHORT_NAME}\")"
   ]
  },
  {
   "cell_type": "code",
   "execution_count": 6,
   "id": "f53ba19b-0f93-4fa2-a047-63b375939d1a",
   "metadata": {
    "execution": {
     "iopub.execute_input": "2022-08-03T02:16:35.108349Z",
     "iopub.status.busy": "2022-08-03T02:16:35.108157Z",
     "iopub.status.idle": "2022-08-03T02:16:35.127955Z",
     "shell.execute_reply": "2022-08-03T02:16:35.127577Z"
    },
    "papermill": {
     "duration": 0.029964,
     "end_time": "2022-08-03T02:16:35.129169",
     "exception": false,
     "start_time": "2022-08-03T02:16:35.099205",
     "status": "completed"
    },
    "tags": []
   },
   "outputs": [
    {
     "data": {
      "text/plain": [
       "'Reference panel: GTEX_V8'"
      ]
     },
     "metadata": {},
     "output_type": "display_data"
    }
   ],
   "source": [
    "assert (\n",
    "    REFERENCE_PANEL is not None and len(REFERENCE_PANEL) > 0\n",
    "), \"A reference panel must be given\"\n",
    "\n",
    "display(f\"Reference panel: {REFERENCE_PANEL}\")"
   ]
  },
  {
   "cell_type": "code",
   "execution_count": 7,
   "id": "e024d130-c139-429a-9c6e-ccf149e297b0",
   "metadata": {
    "execution": {
     "iopub.execute_input": "2022-08-03T02:16:35.147441Z",
     "iopub.status.busy": "2022-08-03T02:16:35.147261Z",
     "iopub.status.idle": "2022-08-03T02:16:35.165708Z",
     "shell.execute_reply": "2022-08-03T02:16:35.165328Z"
    },
    "papermill": {
     "duration": 0.028741,
     "end_time": "2022-08-03T02:16:35.166894",
     "exception": false,
     "start_time": "2022-08-03T02:16:35.138153",
     "status": "completed"
    },
    "tags": []
   },
   "outputs": [
    {
     "data": {
      "text/plain": [
       "'eQTL model: MASHR) / mashr_'"
      ]
     },
     "metadata": {},
     "output_type": "display_data"
    }
   ],
   "source": [
    "assert (\n",
    "    EQTL_MODEL is not None and len(EQTL_MODEL) > 0\n",
    "), \"A prediction/eQTL model must be given\"\n",
    "\n",
    "EQTL_MODEL_FILES_PREFIX = conf.PHENOMEXCAN[\"PREDICTION_MODELS\"][f\"{EQTL_MODEL}_PREFIX\"]\n",
    "display(f\"eQTL model: {EQTL_MODEL}) / {EQTL_MODEL_FILES_PREFIX}\")"
   ]
  },
  {
   "cell_type": "code",
   "execution_count": 8,
   "id": "552a7f63-a18c-4d3e-bb6a-94f99b431291",
   "metadata": {
    "execution": {
     "iopub.execute_input": "2022-08-03T02:16:35.182857Z",
     "iopub.status.busy": "2022-08-03T02:16:35.182690Z",
     "iopub.status.idle": "2022-08-03T02:16:35.216589Z",
     "shell.execute_reply": "2022-08-03T02:16:35.216211Z"
    },
    "papermill": {
     "duration": 0.04342,
     "end_time": "2022-08-03T02:16:35.217776",
     "exception": false,
     "start_time": "2022-08-03T02:16:35.174356",
     "status": "completed"
    },
    "tags": []
   },
   "outputs": [
    {
     "data": {
      "text/plain": [
       "'S-MultiXcan condition number: 30'"
      ]
     },
     "metadata": {},
     "output_type": "display_data"
    }
   ],
   "source": [
    "assert (\n",
    "    SMULTIXCAN_CONDITION_NUMBER is not None and SMULTIXCAN_CONDITION_NUMBER > 0\n",
    "), \"The S-MultiXcan condition number (positive integer) must be given\"\n",
    "\n",
    "display(f\"S-MultiXcan condition number: {SMULTIXCAN_CONDITION_NUMBER}\")"
   ]
  },
  {
   "cell_type": "code",
   "execution_count": 9,
   "id": "f34a336f-548e-4afe-8955-90eaea4f42c6",
   "metadata": {
    "execution": {
     "iopub.execute_input": "2022-08-03T02:16:35.240997Z",
     "iopub.status.busy": "2022-08-03T02:16:35.240818Z",
     "iopub.status.idle": "2022-08-03T02:16:35.258351Z",
     "shell.execute_reply": "2022-08-03T02:16:35.257980Z"
    },
    "papermill": {
     "duration": 0.029587,
     "end_time": "2022-08-03T02:16:35.259529",
     "exception": false,
     "start_time": "2022-08-03T02:16:35.229942",
     "status": "completed"
    },
    "tags": []
   },
   "outputs": [
    {
     "data": {
      "text/plain": [
       "'Working on chromosome 15'"
      ]
     },
     "metadata": {},
     "output_type": "display_data"
    }
   ],
   "source": [
    "assert CHROMOSOME is not None and (\n",
    "    1 <= CHROMOSOME <= 22\n",
    "), \"You have to select one chromosome (format: number between 1 and 22)\"\n",
    "\n",
    "CHROMOSOME = str(CHROMOSOME)\n",
    "display(f\"Working on chromosome {CHROMOSOME}\")"
   ]
  },
  {
   "cell_type": "code",
   "execution_count": 10,
   "id": "ab8e96e8-06b5-4363-9dcd-dc4d78cc27f7",
   "metadata": {
    "execution": {
     "iopub.execute_input": "2022-08-03T02:16:35.280724Z",
     "iopub.status.busy": "2022-08-03T02:16:35.280546Z",
     "iopub.status.idle": "2022-08-03T02:16:35.297848Z",
     "shell.execute_reply": "2022-08-03T02:16:35.297474Z"
    },
    "papermill": {
     "duration": 0.029313,
     "end_time": "2022-08-03T02:16:35.299023",
     "exception": false,
     "start_time": "2022-08-03T02:16:35.269710",
     "status": "completed"
    },
    "tags": []
   },
   "outputs": [
    {
     "data": {
      "text/plain": [
       "'Compute correlation within distance False'"
      ]
     },
     "metadata": {},
     "output_type": "display_data"
    }
   ],
   "source": [
    "display(f\"Compute correlation within distance {COMPUTE_CORRELATIONS_WITHIN_DISTANCE}\")"
   ]
  },
  {
   "cell_type": "code",
   "execution_count": 11,
   "id": "396392dc-0340-4540-9b02-e182b833f909",
   "metadata": {
    "execution": {
     "iopub.execute_input": "2022-08-03T02:16:35.318008Z",
     "iopub.status.busy": "2022-08-03T02:16:35.317830Z",
     "iopub.status.idle": "2022-08-03T02:16:35.348279Z",
     "shell.execute_reply": "2022-08-03T02:16:35.347895Z"
    },
    "papermill": {
     "duration": 0.040017,
     "end_time": "2022-08-03T02:16:35.349468",
     "exception": false,
     "start_time": "2022-08-03T02:16:35.309451",
     "status": "completed"
    },
    "tags": []
   },
   "outputs": [
    {
     "data": {
      "text/plain": [
       "'Using output dir base: /project/ritchie20/projects/phenoplier/base/results/gls/gene_corrs/cohorts/1000g_eur/gtex_v8/mashr'"
      ]
     },
     "metadata": {},
     "output_type": "display_data"
    }
   ],
   "source": [
    "OUTPUT_DIR_BASE = (\n",
    "    conf.RESULTS[\"GLS\"]\n",
    "    / \"gene_corrs\"\n",
    "    / \"cohorts\"\n",
    "    / COHORT_NAME\n",
    "    / REFERENCE_PANEL.lower()\n",
    "    / EQTL_MODEL.lower()\n",
    ")\n",
    "OUTPUT_DIR_BASE.mkdir(parents=True, exist_ok=True)\n",
    "\n",
    "display(f\"Using output dir base: {OUTPUT_DIR_BASE}\")"
   ]
  },
  {
   "cell_type": "markdown",
   "id": "d2ba085e",
   "metadata": {
    "papermill": {
     "duration": 0.010727,
     "end_time": "2022-08-03T02:16:35.372321",
     "exception": false,
     "start_time": "2022-08-03T02:16:35.361594",
     "status": "completed"
    },
    "tags": []
   },
   "source": [
    "# Load data"
   ]
  },
  {
   "cell_type": "markdown",
   "id": "7dcb8db7",
   "metadata": {
    "papermill": {
     "duration": 0.008847,
     "end_time": "2022-08-03T02:16:35.391216",
     "exception": false,
     "start_time": "2022-08-03T02:16:35.382369",
     "status": "completed"
    },
    "tags": []
   },
   "source": [
    "## GWAS variants"
   ]
  },
  {
   "cell_type": "code",
   "execution_count": 12,
   "id": "29434c4e-8cd3-4b9b-82e4-b5a251d9dd19",
   "metadata": {
    "execution": {
     "iopub.execute_input": "2022-08-03T02:16:35.412096Z",
     "iopub.status.busy": "2022-08-03T02:16:35.411917Z",
     "iopub.status.idle": "2022-08-03T02:16:37.909140Z",
     "shell.execute_reply": "2022-08-03T02:16:37.908646Z"
    },
    "papermill": {
     "duration": 2.509961,
     "end_time": "2022-08-03T02:16:37.910916",
     "exception": false,
     "start_time": "2022-08-03T02:16:35.400955",
     "status": "completed"
    },
    "tags": []
   },
   "outputs": [],
   "source": [
    "with open(OUTPUT_DIR_BASE / \"gwas_variant_ids.pkl\", \"rb\") as handle:\n",
    "    gwas_variants_ids_set = pickle.load(handle)"
   ]
  },
  {
   "cell_type": "code",
   "execution_count": 13,
   "id": "b9d9dec2-4a76-4bf9-bde2-e24c95acb8a0",
   "metadata": {
    "execution": {
     "iopub.execute_input": "2022-08-03T02:16:37.959861Z",
     "iopub.status.busy": "2022-08-03T02:16:37.959657Z",
     "iopub.status.idle": "2022-08-03T02:16:38.483354Z",
     "shell.execute_reply": "2022-08-03T02:16:38.482919Z"
    },
    "papermill": {
     "duration": 0.548476,
     "end_time": "2022-08-03T02:16:38.484799",
     "exception": false,
     "start_time": "2022-08-03T02:16:37.936323",
     "status": "completed"
    },
    "tags": []
   },
   "outputs": [
    {
     "data": {
      "text/plain": [
       "8325729"
      ]
     },
     "execution_count": 13,
     "metadata": {},
     "output_type": "execute_result"
    }
   ],
   "source": [
    "len(gwas_variants_ids_set)"
   ]
  },
  {
   "cell_type": "code",
   "execution_count": 14,
   "id": "4235b06a-6034-4ee4-a0a3-2ae35d122418",
   "metadata": {
    "execution": {
     "iopub.execute_input": "2022-08-03T02:16:38.506154Z",
     "iopub.status.busy": "2022-08-03T02:16:38.505948Z",
     "iopub.status.idle": "2022-08-03T02:16:38.998814Z",
     "shell.execute_reply": "2022-08-03T02:16:38.998363Z"
    },
    "papermill": {
     "duration": 0.506313,
     "end_time": "2022-08-03T02:16:39.000180",
     "exception": false,
     "start_time": "2022-08-03T02:16:38.493867",
     "status": "completed"
    },
    "tags": []
   },
   "outputs": [
    {
     "data": {
      "text/plain": [
       "['chr1_234675291_CA_C_b38',\n",
       " 'chr3_37180400_C_T_b38',\n",
       " 'chr20_51388540_C_T_b38',\n",
       " 'chr14_64382953_G_A_b38',\n",
       " 'chr15_65686794_A_G_b38']"
      ]
     },
     "execution_count": 14,
     "metadata": {},
     "output_type": "execute_result"
    }
   ],
   "source": [
    "list(gwas_variants_ids_set)[:5]"
   ]
  },
  {
   "cell_type": "markdown",
   "id": "07866999-2305-41f9-a144-e69c9122c212",
   "metadata": {
    "papermill": {
     "duration": 0.008375,
     "end_time": "2022-08-03T02:16:39.017581",
     "exception": false,
     "start_time": "2022-08-03T02:16:39.009206",
     "status": "completed"
    },
    "tags": []
   },
   "source": [
    "## S-PrediXcan tissue models"
   ]
  },
  {
   "cell_type": "code",
   "execution_count": 15,
   "id": "780611d9-77c8-405f-90a4-f271f7b09397",
   "metadata": {
    "execution": {
     "iopub.execute_input": "2022-08-03T02:16:39.035393Z",
     "iopub.status.busy": "2022-08-03T02:16:39.035187Z",
     "iopub.status.idle": "2022-08-03T02:16:39.991039Z",
     "shell.execute_reply": "2022-08-03T02:16:39.990281Z"
    },
    "papermill": {
     "duration": 0.967116,
     "end_time": "2022-08-03T02:16:39.992927",
     "exception": false,
     "start_time": "2022-08-03T02:16:39.025811",
     "status": "completed"
    },
    "tags": []
   },
   "outputs": [],
   "source": [
    "spredixcan_genes_models = pd.read_pickle(OUTPUT_DIR_BASE / \"gene_tissues.pkl\")"
   ]
  },
  {
   "cell_type": "code",
   "execution_count": 16,
   "id": "726dd1f6-9557-4225-91fa-b3b879ea96e1",
   "metadata": {
    "execution": {
     "iopub.execute_input": "2022-08-03T02:16:40.011304Z",
     "iopub.status.busy": "2022-08-03T02:16:40.011094Z",
     "iopub.status.idle": "2022-08-03T02:16:40.034644Z",
     "shell.execute_reply": "2022-08-03T02:16:40.034257Z"
    },
    "papermill": {
     "duration": 0.034417,
     "end_time": "2022-08-03T02:16:40.035851",
     "exception": false,
     "start_time": "2022-08-03T02:16:40.001434",
     "status": "completed"
    },
    "tags": []
   },
   "outputs": [
    {
     "data": {
      "text/plain": [
       "(6444, 10)"
      ]
     },
     "execution_count": 16,
     "metadata": {},
     "output_type": "execute_result"
    }
   ],
   "source": [
    "spredixcan_genes_models.shape"
   ]
  },
  {
   "cell_type": "code",
   "execution_count": 17,
   "id": "944a1b48-222c-4eb0-b252-b9de2cbca215",
   "metadata": {
    "execution": {
     "iopub.execute_input": "2022-08-03T02:16:40.053747Z",
     "iopub.status.busy": "2022-08-03T02:16:40.053567Z",
     "iopub.status.idle": "2022-08-03T02:16:40.086722Z",
     "shell.execute_reply": "2022-08-03T02:16:40.086337Z"
    },
    "papermill": {
     "duration": 0.043856,
     "end_time": "2022-08-03T02:16:40.087915",
     "exception": false,
     "start_time": "2022-08-03T02:16:40.044059",
     "status": "completed"
    },
    "tags": []
   },
   "outputs": [
    {
     "data": {
      "text/html": [
       "<div>\n",
       "<style scoped>\n",
       "    .dataframe tbody tr th:only-of-type {\n",
       "        vertical-align: middle;\n",
       "    }\n",
       "\n",
       "    .dataframe tbody tr th {\n",
       "        vertical-align: top;\n",
       "    }\n",
       "\n",
       "    .dataframe thead th {\n",
       "        text-align: right;\n",
       "    }\n",
       "</style>\n",
       "<table border=\"1\" class=\"dataframe\">\n",
       "  <thead>\n",
       "    <tr style=\"text-align: right;\">\n",
       "      <th></th>\n",
       "      <th>gene_name</th>\n",
       "      <th>tissue</th>\n",
       "      <th>n_tissues</th>\n",
       "      <th>tissues_pc_variances</th>\n",
       "      <th>tissues_pc_variances_cov</th>\n",
       "      <th>tissues_variances</th>\n",
       "      <th>n_snps_used_sum</th>\n",
       "      <th>n_snps_in_model_sum</th>\n",
       "      <th>unique_n_snps_in_model</th>\n",
       "      <th>unique_n_snps_used</th>\n",
       "    </tr>\n",
       "    <tr>\n",
       "      <th>gene_id</th>\n",
       "      <th></th>\n",
       "      <th></th>\n",
       "      <th></th>\n",
       "      <th></th>\n",
       "      <th></th>\n",
       "      <th></th>\n",
       "      <th></th>\n",
       "      <th></th>\n",
       "      <th></th>\n",
       "      <th></th>\n",
       "    </tr>\n",
       "  </thead>\n",
       "  <tbody>\n",
       "    <tr>\n",
       "      <th>ENSG00000000419</th>\n",
       "      <td>DPM1</td>\n",
       "      <td>(Brain_Substantia_nigra, Brain_Hypothalamus)</td>\n",
       "      <td>2</td>\n",
       "      <td>[1.0442398458252409, 0.9557601541747592]</td>\n",
       "      <td>[0.013163142634155849, 0.00048574890347684763]</td>\n",
       "      <td>{'Brain_Hypothalamus': 0.013162153504206677, '...</td>\n",
       "      <td>2</td>\n",
       "      <td>2</td>\n",
       "      <td>2</td>\n",
       "      <td>2</td>\n",
       "    </tr>\n",
       "    <tr>\n",
       "      <th>ENSG00000000938</th>\n",
       "      <td>FGR</td>\n",
       "      <td>(Brain_Hippocampus, Brain_Nucleus_accumbens_ba...</td>\n",
       "      <td>36</td>\n",
       "      <td>[31.63266933637129, 2.078367751851144, 1.27161...</td>\n",
       "      <td>[0.1715948657078027]</td>\n",
       "      <td>{'Esophagus_Muscularis': 0.006536602044478473,...</td>\n",
       "      <td>40</td>\n",
       "      <td>40</td>\n",
       "      <td>5</td>\n",
       "      <td>5</td>\n",
       "    </tr>\n",
       "    <tr>\n",
       "      <th>ENSG00000000971</th>\n",
       "      <td>CFH</td>\n",
       "      <td>(Kidney_Cortex, Brain_Hippocampus, Whole_Blood...</td>\n",
       "      <td>34</td>\n",
       "      <td>[21.56076992568329, 7.310170987045463, 1.83778...</td>\n",
       "      <td>[0.2093060319587451, 0.058234347656008024, 0.0...</td>\n",
       "      <td>{'Esophagus_Muscularis': 0.01739410990047228, ...</td>\n",
       "      <td>44</td>\n",
       "      <td>44</td>\n",
       "      <td>12</td>\n",
       "      <td>12</td>\n",
       "    </tr>\n",
       "    <tr>\n",
       "      <th>ENSG00000001084</th>\n",
       "      <td>GCLC</td>\n",
       "      <td>(Brain_Hippocampus, Brain_Nucleus_accumbens_ba...</td>\n",
       "      <td>32</td>\n",
       "      <td>[21.291939080546538, 4.699418748743195, 2.2489...</td>\n",
       "      <td>[0.39430527375123775, 0.11627488888534836, 0.0...</td>\n",
       "      <td>{'Thyroid': 0.009654918580686024, 'Brain_Corte...</td>\n",
       "      <td>46</td>\n",
       "      <td>46</td>\n",
       "      <td>23</td>\n",
       "      <td>23</td>\n",
       "    </tr>\n",
       "    <tr>\n",
       "      <th>ENSG00000001167</th>\n",
       "      <td>NFYA</td>\n",
       "      <td>(Kidney_Cortex, Brain_Hippocampus, Brain_Nucle...</td>\n",
       "      <td>40</td>\n",
       "      <td>[37.3356602954977, 1.3914019604538357]</td>\n",
       "      <td>[1.1642639979821048, 0.05742881287671712]</td>\n",
       "      <td>{'Esophagus_Muscularis': 0.0318781600881541, '...</td>\n",
       "      <td>47</td>\n",
       "      <td>48</td>\n",
       "      <td>14</td>\n",
       "      <td>13</td>\n",
       "    </tr>\n",
       "  </tbody>\n",
       "</table>\n",
       "</div>"
      ],
      "text/plain": [
       "                gene_name                                             tissue  \\\n",
       "gene_id                                                                        \n",
       "ENSG00000000419      DPM1       (Brain_Substantia_nigra, Brain_Hypothalamus)   \n",
       "ENSG00000000938       FGR  (Brain_Hippocampus, Brain_Nucleus_accumbens_ba...   \n",
       "ENSG00000000971       CFH  (Kidney_Cortex, Brain_Hippocampus, Whole_Blood...   \n",
       "ENSG00000001084      GCLC  (Brain_Hippocampus, Brain_Nucleus_accumbens_ba...   \n",
       "ENSG00000001167      NFYA  (Kidney_Cortex, Brain_Hippocampus, Brain_Nucle...   \n",
       "\n",
       "                 n_tissues                               tissues_pc_variances  \\\n",
       "gene_id                                                                         \n",
       "ENSG00000000419          2           [1.0442398458252409, 0.9557601541747592]   \n",
       "ENSG00000000938         36  [31.63266933637129, 2.078367751851144, 1.27161...   \n",
       "ENSG00000000971         34  [21.56076992568329, 7.310170987045463, 1.83778...   \n",
       "ENSG00000001084         32  [21.291939080546538, 4.699418748743195, 2.2489...   \n",
       "ENSG00000001167         40             [37.3356602954977, 1.3914019604538357]   \n",
       "\n",
       "                                          tissues_pc_variances_cov  \\\n",
       "gene_id                                                              \n",
       "ENSG00000000419     [0.013163142634155849, 0.00048574890347684763]   \n",
       "ENSG00000000938                               [0.1715948657078027]   \n",
       "ENSG00000000971  [0.2093060319587451, 0.058234347656008024, 0.0...   \n",
       "ENSG00000001084  [0.39430527375123775, 0.11627488888534836, 0.0...   \n",
       "ENSG00000001167          [1.1642639979821048, 0.05742881287671712]   \n",
       "\n",
       "                                                 tissues_variances  \\\n",
       "gene_id                                                              \n",
       "ENSG00000000419  {'Brain_Hypothalamus': 0.013162153504206677, '...   \n",
       "ENSG00000000938  {'Esophagus_Muscularis': 0.006536602044478473,...   \n",
       "ENSG00000000971  {'Esophagus_Muscularis': 0.01739410990047228, ...   \n",
       "ENSG00000001084  {'Thyroid': 0.009654918580686024, 'Brain_Corte...   \n",
       "ENSG00000001167  {'Esophagus_Muscularis': 0.0318781600881541, '...   \n",
       "\n",
       "                 n_snps_used_sum  n_snps_in_model_sum  unique_n_snps_in_model  \\\n",
       "gene_id                                                                         \n",
       "ENSG00000000419                2                    2                       2   \n",
       "ENSG00000000938               40                   40                       5   \n",
       "ENSG00000000971               44                   44                      12   \n",
       "ENSG00000001084               46                   46                      23   \n",
       "ENSG00000001167               47                   48                      14   \n",
       "\n",
       "                 unique_n_snps_used  \n",
       "gene_id                              \n",
       "ENSG00000000419                   2  \n",
       "ENSG00000000938                   5  \n",
       "ENSG00000000971                  12  \n",
       "ENSG00000001084                  23  \n",
       "ENSG00000001167                  13  "
      ]
     },
     "execution_count": 17,
     "metadata": {},
     "output_type": "execute_result"
    }
   ],
   "source": [
    "spredixcan_genes_models.head()"
   ]
  },
  {
   "cell_type": "code",
   "execution_count": 18,
   "id": "d1c11bb1-be0b-4f40-b360-633d6827109f",
   "metadata": {
    "execution": {
     "iopub.execute_input": "2022-08-03T02:16:40.120416Z",
     "iopub.status.busy": "2022-08-03T02:16:40.120235Z",
     "iopub.status.idle": "2022-08-03T02:16:40.137660Z",
     "shell.execute_reply": "2022-08-03T02:16:40.137263Z"
    },
    "papermill": {
     "duration": 0.028459,
     "end_time": "2022-08-03T02:16:40.138962",
     "exception": false,
     "start_time": "2022-08-03T02:16:40.110503",
     "status": "completed"
    },
    "tags": []
   },
   "outputs": [],
   "source": [
    "assert spredixcan_genes_models.index.is_unique"
   ]
  },
  {
   "cell_type": "markdown",
   "id": "a5b5092c-a13e-47c4-a92a-480fcc08f3ae",
   "metadata": {
    "papermill": {
     "duration": 0.009077,
     "end_time": "2022-08-03T02:16:40.156666",
     "exception": false,
     "start_time": "2022-08-03T02:16:40.147589",
     "status": "completed"
    },
    "tags": []
   },
   "source": [
    "## Gene info"
   ]
  },
  {
   "cell_type": "code",
   "execution_count": 19,
   "id": "7d6bb224-88e9-4358-ac10-43a41d92cdad",
   "metadata": {
    "execution": {
     "iopub.execute_input": "2022-08-03T02:16:40.175263Z",
     "iopub.status.busy": "2022-08-03T02:16:40.175084Z",
     "iopub.status.idle": "2022-08-03T02:16:40.195715Z",
     "shell.execute_reply": "2022-08-03T02:16:40.195327Z"
    },
    "papermill": {
     "duration": 0.031365,
     "end_time": "2022-08-03T02:16:40.197061",
     "exception": false,
     "start_time": "2022-08-03T02:16:40.165696",
     "status": "completed"
    },
    "tags": []
   },
   "outputs": [],
   "source": [
    "genes_info = pd.read_pickle(OUTPUT_DIR_BASE / \"genes_info.pkl\")"
   ]
  },
  {
   "cell_type": "code",
   "execution_count": 20,
   "id": "9e32abfa-546d-483e-8c18-d526e9e05903",
   "metadata": {
    "execution": {
     "iopub.execute_input": "2022-08-03T02:16:40.215948Z",
     "iopub.status.busy": "2022-08-03T02:16:40.215774Z",
     "iopub.status.idle": "2022-08-03T02:16:40.234682Z",
     "shell.execute_reply": "2022-08-03T02:16:40.234300Z"
    },
    "papermill": {
     "duration": 0.029433,
     "end_time": "2022-08-03T02:16:40.235871",
     "exception": false,
     "start_time": "2022-08-03T02:16:40.206438",
     "status": "completed"
    },
    "tags": []
   },
   "outputs": [
    {
     "data": {
      "text/plain": [
       "(6444, 7)"
      ]
     },
     "execution_count": 20,
     "metadata": {},
     "output_type": "execute_result"
    }
   ],
   "source": [
    "genes_info.shape"
   ]
  },
  {
   "cell_type": "code",
   "execution_count": 21,
   "id": "d16c3e92-85ec-468a-9a56-e25a9774a1cb",
   "metadata": {
    "execution": {
     "iopub.execute_input": "2022-08-03T02:16:40.254946Z",
     "iopub.status.busy": "2022-08-03T02:16:40.254779Z",
     "iopub.status.idle": "2022-08-03T02:16:40.277625Z",
     "shell.execute_reply": "2022-08-03T02:16:40.277233Z"
    },
    "papermill": {
     "duration": 0.034301,
     "end_time": "2022-08-03T02:16:40.278836",
     "exception": false,
     "start_time": "2022-08-03T02:16:40.244535",
     "status": "completed"
    },
    "tags": []
   },
   "outputs": [
    {
     "data": {
      "text/html": [
       "<div>\n",
       "<style scoped>\n",
       "    .dataframe tbody tr th:only-of-type {\n",
       "        vertical-align: middle;\n",
       "    }\n",
       "\n",
       "    .dataframe tbody tr th {\n",
       "        vertical-align: top;\n",
       "    }\n",
       "\n",
       "    .dataframe thead th {\n",
       "        text-align: right;\n",
       "    }\n",
       "</style>\n",
       "<table border=\"1\" class=\"dataframe\">\n",
       "  <thead>\n",
       "    <tr style=\"text-align: right;\">\n",
       "      <th></th>\n",
       "      <th>name</th>\n",
       "      <th>id</th>\n",
       "      <th>chr</th>\n",
       "      <th>band</th>\n",
       "      <th>start_position</th>\n",
       "      <th>end_position</th>\n",
       "      <th>gene_length</th>\n",
       "    </tr>\n",
       "  </thead>\n",
       "  <tbody>\n",
       "    <tr>\n",
       "      <th>0</th>\n",
       "      <td>HEYL</td>\n",
       "      <td>ENSG00000163909</td>\n",
       "      <td>1</td>\n",
       "      <td>1p34.2</td>\n",
       "      <td>39623435.0</td>\n",
       "      <td>39639643.0</td>\n",
       "      <td>16208.0</td>\n",
       "    </tr>\n",
       "    <tr>\n",
       "      <th>1</th>\n",
       "      <td>CYP24A1</td>\n",
       "      <td>ENSG00000019186</td>\n",
       "      <td>20</td>\n",
       "      <td>20q13.2</td>\n",
       "      <td>54153446.0</td>\n",
       "      <td>54173986.0</td>\n",
       "      <td>20540.0</td>\n",
       "    </tr>\n",
       "    <tr>\n",
       "      <th>2</th>\n",
       "      <td>ITGB4</td>\n",
       "      <td>ENSG00000132470</td>\n",
       "      <td>17</td>\n",
       "      <td>17q25.1</td>\n",
       "      <td>75721328.0</td>\n",
       "      <td>75757818.0</td>\n",
       "      <td>36490.0</td>\n",
       "    </tr>\n",
       "    <tr>\n",
       "      <th>3</th>\n",
       "      <td>SPINT1</td>\n",
       "      <td>ENSG00000166145</td>\n",
       "      <td>15</td>\n",
       "      <td>15q15.1</td>\n",
       "      <td>40844018.0</td>\n",
       "      <td>40858207.0</td>\n",
       "      <td>14189.0</td>\n",
       "    </tr>\n",
       "    <tr>\n",
       "      <th>4</th>\n",
       "      <td>PCSK6</td>\n",
       "      <td>ENSG00000140479</td>\n",
       "      <td>15</td>\n",
       "      <td>15q26.3</td>\n",
       "      <td>101297142.0</td>\n",
       "      <td>101525202.0</td>\n",
       "      <td>228060.0</td>\n",
       "    </tr>\n",
       "  </tbody>\n",
       "</table>\n",
       "</div>"
      ],
      "text/plain": [
       "      name               id chr     band  start_position  end_position  \\\n",
       "0     HEYL  ENSG00000163909   1   1p34.2      39623435.0    39639643.0   \n",
       "1  CYP24A1  ENSG00000019186  20  20q13.2      54153446.0    54173986.0   \n",
       "2    ITGB4  ENSG00000132470  17  17q25.1      75721328.0    75757818.0   \n",
       "3   SPINT1  ENSG00000166145  15  15q15.1      40844018.0    40858207.0   \n",
       "4    PCSK6  ENSG00000140479  15  15q26.3     101297142.0   101525202.0   \n",
       "\n",
       "   gene_length  \n",
       "0      16208.0  \n",
       "1      20540.0  \n",
       "2      36490.0  \n",
       "3      14189.0  \n",
       "4     228060.0  "
      ]
     },
     "execution_count": 21,
     "metadata": {},
     "output_type": "execute_result"
    }
   ],
   "source": [
    "genes_info.head()"
   ]
  },
  {
   "cell_type": "markdown",
   "id": "d3843e06",
   "metadata": {
    "papermill": {
     "duration": 0.008882,
     "end_time": "2022-08-03T02:16:40.296529",
     "exception": false,
     "start_time": "2022-08-03T02:16:40.287647",
     "status": "completed"
    },
    "tags": []
   },
   "source": [
    "# Compute correlations"
   ]
  },
  {
   "cell_type": "code",
   "execution_count": 22,
   "id": "cb859c15-d1f3-4006-a74c-2b83c0db9611",
   "metadata": {
    "execution": {
     "iopub.execute_input": "2022-08-03T02:16:40.316273Z",
     "iopub.status.busy": "2022-08-03T02:16:40.316093Z",
     "iopub.status.idle": "2022-08-03T02:16:40.334577Z",
     "shell.execute_reply": "2022-08-03T02:16:40.334183Z"
    },
    "papermill": {
     "duration": 0.030046,
     "end_time": "2022-08-03T02:16:40.335796",
     "exception": false,
     "start_time": "2022-08-03T02:16:40.305750",
     "status": "completed"
    },
    "tags": []
   },
   "outputs": [
    {
     "data": {
      "text/plain": [
       "PosixPath('/project/ritchie20/projects/phenoplier/base/results/gls/gene_corrs/cohorts/1000g_eur/gtex_v8/mashr/by_chr/gene_corrs-chr15.pkl')"
      ]
     },
     "metadata": {},
     "output_type": "display_data"
    }
   ],
   "source": [
    "output_dir = OUTPUT_DIR_BASE / \"by_chr\"\n",
    "output_dir.mkdir(exist_ok=True, parents=True)\n",
    "output_file = output_dir / f\"gene_corrs-chr{CHROMOSOME}.pkl\"\n",
    "display(output_file)"
   ]
  },
  {
   "cell_type": "code",
   "execution_count": 23,
   "id": "aa674fe4-6794-4eed-98fa-32b39d1d4ace",
   "metadata": {
    "execution": {
     "iopub.execute_input": "2022-08-03T02:16:40.354934Z",
     "iopub.status.busy": "2022-08-03T02:16:40.354764Z",
     "iopub.status.idle": "2022-08-03T02:16:40.371242Z",
     "shell.execute_reply": "2022-08-03T02:16:40.370866Z"
    },
    "papermill": {
     "duration": 0.027439,
     "end_time": "2022-08-03T02:16:40.372561",
     "exception": false,
     "start_time": "2022-08-03T02:16:40.345122",
     "status": "completed"
    },
    "tags": []
   },
   "outputs": [],
   "source": [
    "warnings.filterwarnings(\"error\")"
   ]
  },
  {
   "cell_type": "code",
   "execution_count": 24,
   "id": "44d5450b-3baf-43f1-9e2e-4b06f1a785f8",
   "metadata": {
    "execution": {
     "iopub.execute_input": "2022-08-03T02:16:40.392464Z",
     "iopub.status.busy": "2022-08-03T02:16:40.392272Z",
     "iopub.status.idle": "2022-08-03T02:16:40.411864Z",
     "shell.execute_reply": "2022-08-03T02:16:40.411461Z"
    },
    "papermill": {
     "duration": 0.031414,
     "end_time": "2022-08-03T02:16:40.413247",
     "exception": false,
     "start_time": "2022-08-03T02:16:40.381833",
     "status": "completed"
    },
    "tags": []
   },
   "outputs": [],
   "source": [
    "# standard checks\n",
    "all_chrs = genes_info[\"chr\"].dropna().unique()\n",
    "assert all_chrs.shape[0] == 22\n",
    "\n",
    "# select chromosome given by the user\n",
    "assert CHROMOSOME in all_chrs"
   ]
  },
  {
   "cell_type": "code",
   "execution_count": 25,
   "id": "2d7c043c-92a7-4d35-991b-fa69ac1e0268",
   "metadata": {
    "execution": {
     "iopub.execute_input": "2022-08-03T02:16:40.432913Z",
     "iopub.status.busy": "2022-08-03T02:16:40.432718Z",
     "iopub.status.idle": "2022-08-03T02:16:40.453743Z",
     "shell.execute_reply": "2022-08-03T02:16:40.453319Z"
    },
    "papermill": {
     "duration": 0.032204,
     "end_time": "2022-08-03T02:16:40.454981",
     "exception": false,
     "start_time": "2022-08-03T02:16:40.422777",
     "status": "completed"
    },
    "tags": []
   },
   "outputs": [
    {
     "name": "stdout",
     "output_type": "stream",
     "text": [
      "Number of genes in chromosome: 187\n"
     ]
    }
   ],
   "source": [
    "# run only on the chromosome specified\n",
    "all_chrs = [CHROMOSOME]\n",
    "genes_chr = genes_info[genes_info[\"chr\"] == CHROMOSOME]\n",
    "\n",
    "# For testing purposes\n",
    "# genes_chr = genes_chr.sample(n=20)\n",
    "\n",
    "print(f\"Number of genes in chromosome: {genes_chr.shape[0]}\", flush=True)"
   ]
  },
  {
   "cell_type": "code",
   "execution_count": 26,
   "id": "916015d8-2979-46d3-a9b9-1cf5a0932c6a",
   "metadata": {
    "execution": {
     "iopub.execute_input": "2022-08-03T02:16:40.474259Z",
     "iopub.status.busy": "2022-08-03T02:16:40.474076Z",
     "iopub.status.idle": "2022-08-03T02:16:40.492702Z",
     "shell.execute_reply": "2022-08-03T02:16:40.492299Z"
    },
    "papermill": {
     "duration": 0.029909,
     "end_time": "2022-08-03T02:16:40.494058",
     "exception": false,
     "start_time": "2022-08-03T02:16:40.464149",
     "status": "completed"
    },
    "tags": []
   },
   "outputs": [],
   "source": [
    "# sort genes by starting position to make visualizations better later\n",
    "genes_chr = genes_chr.sort_values(\"start_position\")"
   ]
  },
  {
   "cell_type": "code",
   "execution_count": 27,
   "id": "a38aa74a-8ad3-47f6-8ef9-56be0e011774",
   "metadata": {
    "execution": {
     "iopub.execute_input": "2022-08-03T02:16:40.512789Z",
     "iopub.status.busy": "2022-08-03T02:16:40.512605Z",
     "iopub.status.idle": "2022-08-03T02:16:40.530634Z",
     "shell.execute_reply": "2022-08-03T02:16:40.530246Z"
    },
    "papermill": {
     "duration": 0.02902,
     "end_time": "2022-08-03T02:16:40.531954",
     "exception": false,
     "start_time": "2022-08-03T02:16:40.502934",
     "status": "completed"
    },
    "tags": []
   },
   "outputs": [],
   "source": [
    "gene_chr_objs = [Gene(ensembl_id=gene_id) for gene_id in genes_chr[\"id\"]]"
   ]
  },
  {
   "cell_type": "code",
   "execution_count": 28,
   "id": "570f974f-13c3-42b6-ad3a-ce99ca885c1a",
   "metadata": {
    "execution": {
     "iopub.execute_input": "2022-08-03T02:16:40.551755Z",
     "iopub.status.busy": "2022-08-03T02:16:40.551586Z",
     "iopub.status.idle": "2022-08-03T02:16:40.569607Z",
     "shell.execute_reply": "2022-08-03T02:16:40.569223Z"
    },
    "papermill": {
     "duration": 0.030036,
     "end_time": "2022-08-03T02:16:40.570918",
     "exception": false,
     "start_time": "2022-08-03T02:16:40.540882",
     "status": "completed"
    },
    "tags": []
   },
   "outputs": [
    {
     "name": "stdout",
     "output_type": "stream",
     "text": [
      "Number of gene combinations: 17391\n"
     ]
    }
   ],
   "source": [
    "n = len(gene_chr_objs)\n",
    "n_comb = int(n * (n - 1) / 2.0)\n",
    "print(f\"Number of gene combinations: {n_comb}\", flush=True)"
   ]
  },
  {
   "cell_type": "code",
   "execution_count": 29,
   "id": "cdbb90a1",
   "metadata": {
    "execution": {
     "iopub.execute_input": "2022-08-03T02:16:40.590602Z",
     "iopub.status.busy": "2022-08-03T02:16:40.590427Z",
     "iopub.status.idle": "2022-08-03T02:35:31.778097Z",
     "shell.execute_reply": "2022-08-03T02:35:31.776696Z"
    },
    "papermill": {
     "duration": 1131.201201,
     "end_time": "2022-08-03T02:35:31.781781",
     "exception": false,
     "start_time": "2022-08-03T02:16:40.580580",
     "status": "completed"
    },
    "tags": []
   },
   "outputs": [
    {
     "name": "stderr",
     "output_type": "stream",
     "text": [
      "ENSG00000140479 / ENSG00000185418: 100%|██████████████████████| 17391/17391 [18:50<00:00, 15.38it/s]\n"
     ]
    },
    {
     "data": {
      "text/plain": [
       "PosixPath('/project/ritchie20/projects/phenoplier/base/results/gls/gene_corrs/cohorts/1000g_eur/gtex_v8/mashr/by_chr/gene_corrs-chr15.pkl')"
      ]
     },
     "metadata": {},
     "output_type": "display_data"
    }
   ],
   "source": [
    "gene_corrs = []\n",
    "\n",
    "i = 0\n",
    "with tqdm(ncols=100, total=n_comb) as pbar:\n",
    "    for gene1_idx in range(0, len(gene_chr_objs) - 1):\n",
    "        gene1_obj = gene_chr_objs[gene1_idx]\n",
    "        gene1_tissues = spredixcan_genes_models.loc[gene1_obj.ensembl_id, \"tissue\"]\n",
    "\n",
    "        for gene2_idx in range(gene1_idx + 1, len(gene_chr_objs)):\n",
    "            gene2_obj = gene_chr_objs[gene2_idx]\n",
    "            gene2_tissues = spredixcan_genes_models.loc[gene2_obj.ensembl_id, \"tissue\"]\n",
    "\n",
    "            pbar.set_description(f\"{gene1_obj.ensembl_id} / {gene2_obj.ensembl_id}\")\n",
    "\n",
    "            try:\n",
    "                r = gene1_obj.get_ssm_correlation(\n",
    "                    other_gene=gene2_obj,\n",
    "                    tissues=gene1_tissues,\n",
    "                    other_tissues=gene2_tissues,\n",
    "                    snps_subset=gwas_variants_ids_set,\n",
    "                    condition_number=SMULTIXCAN_CONDITION_NUMBER,\n",
    "                    reference_panel=REFERENCE_PANEL,\n",
    "                    model_type=EQTL_MODEL,\n",
    "                    use_within_distance=COMPUTE_CORRELATIONS_WITHIN_DISTANCE,\n",
    "                )\n",
    "\n",
    "                if r is None:\n",
    "                    # if r is None, it's very likely because:\n",
    "                    #  * one of the genes has no prediction models\n",
    "                    #  * all the SNPs predictors for the gene are not present in the reference\n",
    "                    #    panel\n",
    "\n",
    "                    r = 0.0\n",
    "\n",
    "                gene_corrs.append(r)\n",
    "            except Warning as e:\n",
    "                if not DEBUG_MODE:\n",
    "                    raise e\n",
    "\n",
    "                print(\n",
    "                    f\"RuntimeWarning for genes {gene1_obj.ensembl_id} and {gene2_obj.ensembl_id}\",\n",
    "                    flush=True,\n",
    "                )\n",
    "                print(traceback.format_exc(), flush=True)\n",
    "\n",
    "                gene_corrs.append(np.nan)\n",
    "            except Exception as e:\n",
    "                if not DEBUG_MODE:\n",
    "                    raise e\n",
    "\n",
    "                print(\n",
    "                    f\"Exception for genes {gene1_obj.ensembl_id} and {gene2_obj.ensembl_id}\",\n",
    "                    flush=True,\n",
    "                )\n",
    "                print(traceback.format_exc(), flush=True)\n",
    "\n",
    "                gene_corrs.append(np.nan)\n",
    "\n",
    "            pbar.update(1)\n",
    "\n",
    "# create a pandas series\n",
    "gene_corrs_flat = pd.Series(gene_corrs)\n",
    "\n",
    "# save\n",
    "# FIXME: consider saving only the condenced matrix here. See here for\n",
    "# more details: https://github.com/greenelab/phenoplier/pull/38#discussion_r634600813\n",
    "gene_corrs_data = squareform(np.array(gene_corrs, dtype=np.float64))\n",
    "np.fill_diagonal(gene_corrs_data, 1.0)\n",
    "\n",
    "gene_chr_ids = [g.ensembl_id for g in gene_chr_objs]\n",
    "gene_corrs_df = pd.DataFrame(\n",
    "    data=gene_corrs_data,\n",
    "    index=gene_chr_ids,\n",
    "    columns=gene_chr_ids,\n",
    ")\n",
    "\n",
    "output_dir.mkdir(exist_ok=True, parents=True)\n",
    "display(output_file)\n",
    "\n",
    "gene_corrs_df.to_pickle(output_file)"
   ]
  },
  {
   "cell_type": "markdown",
   "id": "faa67b51-5373-470f-aa72-2ded53fa6dfe",
   "metadata": {
    "papermill": {
     "duration": 0.882348,
     "end_time": "2022-08-03T02:35:33.627282",
     "exception": false,
     "start_time": "2022-08-03T02:35:32.744934",
     "status": "completed"
    },
    "tags": []
   },
   "source": [
    "# Testing"
   ]
  },
  {
   "cell_type": "code",
   "execution_count": 30,
   "id": "14f7d046-4b55-4896-a56b-990127bcc388",
   "metadata": {
    "execution": {
     "iopub.execute_input": "2022-08-03T02:35:35.396817Z",
     "iopub.status.busy": "2022-08-03T02:35:35.396560Z",
     "iopub.status.idle": "2022-08-03T02:35:35.635383Z",
     "shell.execute_reply": "2022-08-03T02:35:35.634961Z"
    },
    "papermill": {
     "duration": 1.127375,
     "end_time": "2022-08-03T02:35:35.636711",
     "exception": false,
     "start_time": "2022-08-03T02:35:34.509336",
     "status": "completed"
    },
    "tags": []
   },
   "outputs": [
    {
     "data": {
      "text/plain": [
       "(187, 187)"
      ]
     },
     "execution_count": 30,
     "metadata": {},
     "output_type": "execute_result"
    }
   ],
   "source": [
    "gene_corrs_df.shape"
   ]
  },
  {
   "cell_type": "code",
   "execution_count": 31,
   "id": "c7d15414-3297-4537-a7c6-7588c0baeb75",
   "metadata": {
    "execution": {
     "iopub.execute_input": "2022-08-03T02:35:37.383391Z",
     "iopub.status.busy": "2022-08-03T02:35:37.383145Z",
     "iopub.status.idle": "2022-08-03T02:35:37.415868Z",
     "shell.execute_reply": "2022-08-03T02:35:37.415443Z"
    },
    "papermill": {
     "duration": 0.898334,
     "end_time": "2022-08-03T02:35:37.417168",
     "exception": false,
     "start_time": "2022-08-03T02:35:36.518834",
     "status": "completed"
    },
    "tags": []
   },
   "outputs": [
    {
     "data": {
      "text/html": [
       "<div>\n",
       "<style scoped>\n",
       "    .dataframe tbody tr th:only-of-type {\n",
       "        vertical-align: middle;\n",
       "    }\n",
       "\n",
       "    .dataframe tbody tr th {\n",
       "        vertical-align: top;\n",
       "    }\n",
       "\n",
       "    .dataframe thead th {\n",
       "        text-align: right;\n",
       "    }\n",
       "</style>\n",
       "<table border=\"1\" class=\"dataframe\">\n",
       "  <thead>\n",
       "    <tr style=\"text-align: right;\">\n",
       "      <th></th>\n",
       "      <th>ENSG00000273749</th>\n",
       "      <th>ENSG00000275835</th>\n",
       "      <th>ENSG00000182636</th>\n",
       "      <th>ENSG00000273173</th>\n",
       "      <th>ENSG00000114062</th>\n",
       "      <th>ENSG00000206190</th>\n",
       "      <th>ENSG00000128731</th>\n",
       "      <th>ENSG00000034053</th>\n",
       "      <th>ENSG00000198690</th>\n",
       "      <th>ENSG00000166912</th>\n",
       "      <th>...</th>\n",
       "      <th>ENSG00000182175</th>\n",
       "      <th>ENSG00000140450</th>\n",
       "      <th>ENSG00000140443</th>\n",
       "      <th>ENSG00000068305</th>\n",
       "      <th>ENSG00000183475</th>\n",
       "      <th>ENSG00000184254</th>\n",
       "      <th>ENSG00000131873</th>\n",
       "      <th>ENSG00000131876</th>\n",
       "      <th>ENSG00000140479</th>\n",
       "      <th>ENSG00000185418</th>\n",
       "    </tr>\n",
       "  </thead>\n",
       "  <tbody>\n",
       "    <tr>\n",
       "      <th>ENSG00000273749</th>\n",
       "      <td>1.000000</td>\n",
       "      <td>0.068873</td>\n",
       "      <td>0.008446</td>\n",
       "      <td>0.008907</td>\n",
       "      <td>0.009432</td>\n",
       "      <td>0.017126</td>\n",
       "      <td>0.007201</td>\n",
       "      <td>0.013265</td>\n",
       "      <td>0.010937</td>\n",
       "      <td>0.009226</td>\n",
       "      <td>...</td>\n",
       "      <td>0.012522</td>\n",
       "      <td>0.010874</td>\n",
       "      <td>0.015120</td>\n",
       "      <td>0.012204</td>\n",
       "      <td>0.009437</td>\n",
       "      <td>0.015749</td>\n",
       "      <td>0.012546</td>\n",
       "      <td>0.005736</td>\n",
       "      <td>0.017050</td>\n",
       "      <td>0.010679</td>\n",
       "    </tr>\n",
       "    <tr>\n",
       "      <th>ENSG00000275835</th>\n",
       "      <td>0.068873</td>\n",
       "      <td>1.000000</td>\n",
       "      <td>0.005037</td>\n",
       "      <td>0.002480</td>\n",
       "      <td>0.013665</td>\n",
       "      <td>0.008140</td>\n",
       "      <td>0.003082</td>\n",
       "      <td>0.002283</td>\n",
       "      <td>0.006679</td>\n",
       "      <td>0.007161</td>\n",
       "      <td>...</td>\n",
       "      <td>0.009150</td>\n",
       "      <td>0.004690</td>\n",
       "      <td>0.004164</td>\n",
       "      <td>0.006907</td>\n",
       "      <td>0.007157</td>\n",
       "      <td>0.007988</td>\n",
       "      <td>0.007549</td>\n",
       "      <td>0.000690</td>\n",
       "      <td>0.006626</td>\n",
       "      <td>0.003953</td>\n",
       "    </tr>\n",
       "    <tr>\n",
       "      <th>ENSG00000182636</th>\n",
       "      <td>0.008446</td>\n",
       "      <td>0.005037</td>\n",
       "      <td>1.000000</td>\n",
       "      <td>0.006649</td>\n",
       "      <td>0.002525</td>\n",
       "      <td>0.006553</td>\n",
       "      <td>0.002722</td>\n",
       "      <td>0.007057</td>\n",
       "      <td>0.004193</td>\n",
       "      <td>0.002655</td>\n",
       "      <td>...</td>\n",
       "      <td>0.007108</td>\n",
       "      <td>0.003026</td>\n",
       "      <td>0.010363</td>\n",
       "      <td>0.005937</td>\n",
       "      <td>0.003900</td>\n",
       "      <td>0.008911</td>\n",
       "      <td>0.006874</td>\n",
       "      <td>0.001699</td>\n",
       "      <td>0.009652</td>\n",
       "      <td>0.006376</td>\n",
       "    </tr>\n",
       "    <tr>\n",
       "      <th>ENSG00000273173</th>\n",
       "      <td>0.008907</td>\n",
       "      <td>0.002480</td>\n",
       "      <td>0.006649</td>\n",
       "      <td>1.000000</td>\n",
       "      <td>0.003555</td>\n",
       "      <td>0.010707</td>\n",
       "      <td>0.001674</td>\n",
       "      <td>0.005661</td>\n",
       "      <td>0.008288</td>\n",
       "      <td>0.001972</td>\n",
       "      <td>...</td>\n",
       "      <td>0.006183</td>\n",
       "      <td>0.001526</td>\n",
       "      <td>0.005175</td>\n",
       "      <td>0.004713</td>\n",
       "      <td>0.004148</td>\n",
       "      <td>0.006153</td>\n",
       "      <td>0.004745</td>\n",
       "      <td>0.001569</td>\n",
       "      <td>0.012111</td>\n",
       "      <td>0.005871</td>\n",
       "    </tr>\n",
       "    <tr>\n",
       "      <th>ENSG00000114062</th>\n",
       "      <td>0.009432</td>\n",
       "      <td>0.013665</td>\n",
       "      <td>0.002525</td>\n",
       "      <td>0.003555</td>\n",
       "      <td>1.000000</td>\n",
       "      <td>0.006857</td>\n",
       "      <td>0.001057</td>\n",
       "      <td>0.002283</td>\n",
       "      <td>0.005018</td>\n",
       "      <td>0.005493</td>\n",
       "      <td>...</td>\n",
       "      <td>0.001941</td>\n",
       "      <td>0.003827</td>\n",
       "      <td>0.008193</td>\n",
       "      <td>0.007731</td>\n",
       "      <td>0.001945</td>\n",
       "      <td>0.007949</td>\n",
       "      <td>0.006237</td>\n",
       "      <td>0.001975</td>\n",
       "      <td>0.007276</td>\n",
       "      <td>0.005428</td>\n",
       "    </tr>\n",
       "  </tbody>\n",
       "</table>\n",
       "<p>5 rows × 187 columns</p>\n",
       "</div>"
      ],
      "text/plain": [
       "                 ENSG00000273749  ENSG00000275835  ENSG00000182636  \\\n",
       "ENSG00000273749         1.000000         0.068873         0.008446   \n",
       "ENSG00000275835         0.068873         1.000000         0.005037   \n",
       "ENSG00000182636         0.008446         0.005037         1.000000   \n",
       "ENSG00000273173         0.008907         0.002480         0.006649   \n",
       "ENSG00000114062         0.009432         0.013665         0.002525   \n",
       "\n",
       "                 ENSG00000273173  ENSG00000114062  ENSG00000206190  \\\n",
       "ENSG00000273749         0.008907         0.009432         0.017126   \n",
       "ENSG00000275835         0.002480         0.013665         0.008140   \n",
       "ENSG00000182636         0.006649         0.002525         0.006553   \n",
       "ENSG00000273173         1.000000         0.003555         0.010707   \n",
       "ENSG00000114062         0.003555         1.000000         0.006857   \n",
       "\n",
       "                 ENSG00000128731  ENSG00000034053  ENSG00000198690  \\\n",
       "ENSG00000273749         0.007201         0.013265         0.010937   \n",
       "ENSG00000275835         0.003082         0.002283         0.006679   \n",
       "ENSG00000182636         0.002722         0.007057         0.004193   \n",
       "ENSG00000273173         0.001674         0.005661         0.008288   \n",
       "ENSG00000114062         0.001057         0.002283         0.005018   \n",
       "\n",
       "                 ENSG00000166912  ...  ENSG00000182175  ENSG00000140450  \\\n",
       "ENSG00000273749         0.009226  ...         0.012522         0.010874   \n",
       "ENSG00000275835         0.007161  ...         0.009150         0.004690   \n",
       "ENSG00000182636         0.002655  ...         0.007108         0.003026   \n",
       "ENSG00000273173         0.001972  ...         0.006183         0.001526   \n",
       "ENSG00000114062         0.005493  ...         0.001941         0.003827   \n",
       "\n",
       "                 ENSG00000140443  ENSG00000068305  ENSG00000183475  \\\n",
       "ENSG00000273749         0.015120         0.012204         0.009437   \n",
       "ENSG00000275835         0.004164         0.006907         0.007157   \n",
       "ENSG00000182636         0.010363         0.005937         0.003900   \n",
       "ENSG00000273173         0.005175         0.004713         0.004148   \n",
       "ENSG00000114062         0.008193         0.007731         0.001945   \n",
       "\n",
       "                 ENSG00000184254  ENSG00000131873  ENSG00000131876  \\\n",
       "ENSG00000273749         0.015749         0.012546         0.005736   \n",
       "ENSG00000275835         0.007988         0.007549         0.000690   \n",
       "ENSG00000182636         0.008911         0.006874         0.001699   \n",
       "ENSG00000273173         0.006153         0.004745         0.001569   \n",
       "ENSG00000114062         0.007949         0.006237         0.001975   \n",
       "\n",
       "                 ENSG00000140479  ENSG00000185418  \n",
       "ENSG00000273749         0.017050         0.010679  \n",
       "ENSG00000275835         0.006626         0.003953  \n",
       "ENSG00000182636         0.009652         0.006376  \n",
       "ENSG00000273173         0.012111         0.005871  \n",
       "ENSG00000114062         0.007276         0.005428  \n",
       "\n",
       "[5 rows x 187 columns]"
      ]
     },
     "execution_count": 31,
     "metadata": {},
     "output_type": "execute_result"
    }
   ],
   "source": [
    "gene_corrs_df.head()"
   ]
  },
  {
   "cell_type": "markdown",
   "id": "dad6603f-01c6-41fb-a6f6-241051207dd8",
   "metadata": {
    "papermill": {
     "duration": 0.864009,
     "end_time": "2022-08-03T02:35:39.153487",
     "exception": false,
     "start_time": "2022-08-03T02:35:38.289478",
     "status": "completed"
    },
    "tags": []
   },
   "source": [
    "## Standard checks and stats"
   ]
  },
  {
   "cell_type": "code",
   "execution_count": 32,
   "id": "286686af-1b7b-4440-8453-6bdcbd8de19c",
   "metadata": {
    "execution": {
     "iopub.execute_input": "2022-08-03T02:35:40.886868Z",
     "iopub.status.busy": "2022-08-03T02:35:40.886619Z",
     "iopub.status.idle": "2022-08-03T02:35:40.912904Z",
     "shell.execute_reply": "2022-08-03T02:35:40.912479Z"
    },
    "papermill": {
     "duration": 0.884762,
     "end_time": "2022-08-03T02:35:40.914328",
     "exception": false,
     "start_time": "2022-08-03T02:35:40.029566",
     "status": "completed"
    },
    "tags": []
   },
   "outputs": [],
   "source": [
    "assert not gene_corrs_df.isna().any().any()"
   ]
  },
  {
   "cell_type": "code",
   "execution_count": 33,
   "id": "00583efc-7068-4270-ad1e-4a418e91db96",
   "metadata": {
    "execution": {
     "iopub.execute_input": "2022-08-03T02:35:42.723330Z",
     "iopub.status.busy": "2022-08-03T02:35:42.723086Z",
     "iopub.status.idle": "2022-08-03T02:35:42.746209Z",
     "shell.execute_reply": "2022-08-03T02:35:42.745787Z"
    },
    "papermill": {
     "duration": 0.905032,
     "end_time": "2022-08-03T02:35:42.747551",
     "exception": false,
     "start_time": "2022-08-03T02:35:41.842519",
     "status": "completed"
    },
    "tags": []
   },
   "outputs": [
    {
     "data": {
      "text/plain": [
       "2.9690984676582273e-06"
      ]
     },
     "metadata": {},
     "output_type": "display_data"
    }
   ],
   "source": [
    "_min_val = gene_corrs_df.min().min()\n",
    "display(_min_val)\n",
    "assert _min_val >= 0.0"
   ]
  },
  {
   "cell_type": "code",
   "execution_count": 34,
   "id": "d04fb2cf-1050-475b-b855-f5f7cc04092b",
   "metadata": {
    "execution": {
     "iopub.execute_input": "2022-08-03T02:35:44.517035Z",
     "iopub.status.busy": "2022-08-03T02:35:44.516792Z",
     "iopub.status.idle": "2022-08-03T02:35:44.539564Z",
     "shell.execute_reply": "2022-08-03T02:35:44.539146Z"
    },
    "papermill": {
     "duration": 0.914908,
     "end_time": "2022-08-03T02:35:44.540830",
     "exception": false,
     "start_time": "2022-08-03T02:35:43.625922",
     "status": "completed"
    },
    "tags": []
   },
   "outputs": [
    {
     "data": {
      "text/plain": [
       "1.0"
      ]
     },
     "metadata": {},
     "output_type": "display_data"
    }
   ],
   "source": [
    "_max_val = gene_corrs_df.max().max()  # this captures the diagonal\n",
    "display(_max_val)\n",
    "assert _max_val <= 1.0"
   ]
  },
  {
   "cell_type": "code",
   "execution_count": 35,
   "id": "96d02c44-1fba-47be-8a93-8f2608420b9c",
   "metadata": {
    "execution": {
     "iopub.execute_input": "2022-08-03T02:35:46.258106Z",
     "iopub.status.busy": "2022-08-03T02:35:46.257862Z",
     "iopub.status.idle": "2022-08-03T02:35:46.277221Z",
     "shell.execute_reply": "2022-08-03T02:35:46.276803Z"
    },
    "papermill": {
     "duration": 0.861255,
     "end_time": "2022-08-03T02:35:46.278626",
     "exception": false,
     "start_time": "2022-08-03T02:35:45.417371",
     "status": "completed"
    },
    "tags": []
   },
   "outputs": [],
   "source": [
    "# check upper triangular values\n",
    "assert len(gene_corrs) == int(genes_chr.shape[0] * (genes_chr.shape[0] - 1) / 2)"
   ]
  },
  {
   "cell_type": "code",
   "execution_count": 36,
   "id": "fe283586-c348-40e0-8841-f6d97bfb021c",
   "metadata": {
    "execution": {
     "iopub.execute_input": "2022-08-03T02:35:48.063414Z",
     "iopub.status.busy": "2022-08-03T02:35:48.063168Z",
     "iopub.status.idle": "2022-08-03T02:35:48.251717Z",
     "shell.execute_reply": "2022-08-03T02:35:48.251203Z"
    },
    "papermill": {
     "duration": 1.10048,
     "end_time": "2022-08-03T02:35:48.253210",
     "exception": false,
     "start_time": "2022-08-03T02:35:47.152730",
     "status": "completed"
    },
    "tags": []
   },
   "outputs": [
    {
     "data": {
      "text/plain": [
       "count    17391.000000\n",
       "mean         0.009908\n",
       "std          0.038168\n",
       "min          0.000003\n",
       "25%          0.003774\n",
       "50%          0.005765\n",
       "75%          0.008208\n",
       "max          0.943556\n",
       "dtype: float64"
      ]
     },
     "execution_count": 36,
     "metadata": {},
     "output_type": "execute_result"
    }
   ],
   "source": [
    "gene_corrs_flat.describe()"
   ]
  },
  {
   "cell_type": "code",
   "execution_count": 37,
   "id": "b3815678-0f93-4b35-897b-a9d047a2aa78",
   "metadata": {
    "execution": {
     "iopub.execute_input": "2022-08-03T02:35:50.022828Z",
     "iopub.status.busy": "2022-08-03T02:35:50.022579Z",
     "iopub.status.idle": "2022-08-03T02:35:50.045993Z",
     "shell.execute_reply": "2022-08-03T02:35:50.045579Z"
    },
    "papermill": {
     "duration": 0.904282,
     "end_time": "2022-08-03T02:35:50.047280",
     "exception": false,
     "start_time": "2022-08-03T02:35:49.142998",
     "status": "completed"
    },
    "tags": []
   },
   "outputs": [
    {
     "data": {
      "text/plain": [
       "0.00    0.000003\n",
       "0.05    0.001539\n",
       "0.10    0.002272\n",
       "0.15    0.002827\n",
       "0.20    0.003320\n",
       "0.25    0.003774\n",
       "0.30    0.004192\n",
       "0.35    0.004589\n",
       "0.40    0.004984\n",
       "0.45    0.005374\n",
       "0.50    0.005765\n",
       "0.55    0.006190\n",
       "0.60    0.006635\n",
       "0.65    0.007107\n",
       "0.70    0.007652\n",
       "0.75    0.008208\n",
       "0.80    0.008847\n",
       "0.85    0.009666\n",
       "0.90    0.010826\n",
       "0.95    0.012789\n",
       "dtype: float64"
      ]
     },
     "metadata": {},
     "output_type": "display_data"
    }
   ],
   "source": [
    "gene_corrs_quantiles = gene_corrs_flat.quantile(np.arange(0, 1, 0.05))\n",
    "display(gene_corrs_quantiles)"
   ]
  },
  {
   "cell_type": "markdown",
   "id": "87134509-b145-4a10-8bc9-b7e914c2b0fa",
   "metadata": {
    "papermill": {
     "duration": 0.84174,
     "end_time": "2022-08-03T02:35:51.786384",
     "exception": false,
     "start_time": "2022-08-03T02:35:50.944644",
     "status": "completed"
    },
    "tags": []
   },
   "source": [
    "## Positive definiteness"
   ]
  },
  {
   "cell_type": "code",
   "execution_count": 38,
   "id": "07d9a9a1-a4f7-48aa-b916-6d42a8cc6186",
   "metadata": {
    "execution": {
     "iopub.execute_input": "2022-08-03T02:35:53.561369Z",
     "iopub.status.busy": "2022-08-03T02:35:53.561124Z",
     "iopub.status.idle": "2022-08-03T02:35:53.595372Z",
     "shell.execute_reply": "2022-08-03T02:35:53.594982Z"
    },
    "papermill": {
     "duration": 0.934837,
     "end_time": "2022-08-03T02:35:53.596590",
     "exception": false,
     "start_time": "2022-08-03T02:35:52.661753",
     "status": "completed"
    },
    "tags": []
   },
   "outputs": [
    {
     "data": {
      "text/plain": [
       "0"
      ]
     },
     "metadata": {},
     "output_type": "display_data"
    },
    {
     "data": {
      "text/plain": [
       "array([], dtype=float64)"
      ]
     },
     "metadata": {},
     "output_type": "display_data"
    }
   ],
   "source": [
    "# print negative eigenvalues\n",
    "eigs = np.linalg.eigvals(gene_corrs_df.to_numpy())\n",
    "display(len(eigs[eigs < 0]))\n",
    "display(eigs[eigs < 0])"
   ]
  },
  {
   "cell_type": "code",
   "execution_count": 39,
   "id": "6e218436-c3c5-4028-8c94-a4fa6260efce",
   "metadata": {
    "execution": {
     "iopub.execute_input": "2022-08-03T02:35:55.330766Z",
     "iopub.status.busy": "2022-08-03T02:35:55.330523Z",
     "iopub.status.idle": "2022-08-03T02:35:55.353715Z",
     "shell.execute_reply": "2022-08-03T02:35:55.353303Z"
    },
    "papermill": {
     "duration": 0.898097,
     "end_time": "2022-08-03T02:35:55.354946",
     "exception": false,
     "start_time": "2022-08-03T02:35:54.456849",
     "status": "completed"
    },
    "tags": []
   },
   "outputs": [
    {
     "name": "stdout",
     "output_type": "stream",
     "text": [
      "Works!\n"
     ]
    }
   ],
   "source": [
    "try:\n",
    "    chol_mat = np.linalg.cholesky(gene_corrs_df.to_numpy())\n",
    "    cov_inv = np.linalg.inv(chol_mat)\n",
    "    print(\"Works!\")\n",
    "except:\n",
    "    print(\"Cholesky decomposition failed\")"
   ]
  },
  {
   "cell_type": "markdown",
   "id": "8e60a080-edb2-4e9c-b2ef-22961693200c",
   "metadata": {
    "papermill": {
     "duration": 0.826205,
     "end_time": "2022-08-03T02:35:57.073122",
     "exception": false,
     "start_time": "2022-08-03T02:35:56.246917",
     "status": "completed"
    },
    "tags": []
   },
   "source": [
    "## Plot: distribution"
   ]
  },
  {
   "cell_type": "code",
   "execution_count": 40,
   "id": "8301126b-a7d4-4744-9c7d-f0f86eb6f54c",
   "metadata": {
    "execution": {
     "iopub.execute_input": "2022-08-03T02:35:58.832472Z",
     "iopub.status.busy": "2022-08-03T02:35:58.832226Z",
     "iopub.status.idle": "2022-08-03T02:36:03.700062Z",
     "shell.execute_reply": "2022-08-03T02:36:03.699548Z"
    },
    "papermill": {
     "duration": 5.772639,
     "end_time": "2022-08-03T02:36:03.701668",
     "exception": false,
     "start_time": "2022-08-03T02:35:57.929029",
     "status": "completed"
    },
    "tags": []
   },
   "outputs": [
    {
     "data": {
      "image/png": "[encoded data removed]",
      "text/plain": [
       "<Figure size 504x504 with 1 Axes>"
      ]
     },
     "metadata": {
      "needs_background": "light"
     },
     "output_type": "display_data"
    }
   ],
   "source": [
    "with sns.plotting_context(\"paper\", font_scale=1.5):\n",
    "    g = sns.displot(gene_corrs_flat, kde=True, height=7)\n",
    "    g.ax.set_title(\n",
    "        f\"Distribution of gene correlation values in chromosome {CHROMOSOME}\"\n",
    "    )"
   ]
  },
  {
   "cell_type": "markdown",
   "id": "cbd52bca-d878-4a2f-b684-5c83aa3038d4",
   "metadata": {
    "papermill": {
     "duration": 0.870686,
     "end_time": "2022-08-03T02:36:05.432875",
     "exception": false,
     "start_time": "2022-08-03T02:36:04.562189",
     "status": "completed"
    },
    "tags": []
   },
   "source": [
    "## Plot: heatmap"
   ]
  },
  {
   "cell_type": "code",
   "execution_count": 41,
   "id": "d03fe63a-c7b2-4fb9-a53c-db362ce843c9",
   "metadata": {
    "execution": {
     "iopub.execute_input": "2022-08-03T02:36:07.110021Z",
     "iopub.status.busy": "2022-08-03T02:36:07.109769Z",
     "iopub.status.idle": "2022-08-03T02:36:07.178739Z",
     "shell.execute_reply": "2022-08-03T02:36:07.178325Z"
    },
    "papermill": {
     "duration": 0.888151,
     "end_time": "2022-08-03T02:36:07.180029",
     "exception": false,
     "start_time": "2022-08-03T02:36:06.291878",
     "status": "completed"
    },
    "tags": []
   },
   "outputs": [
    {
     "data": {
      "text/plain": [
       "'0.0 / 0.05'"
      ]
     },
     "metadata": {},
     "output_type": "display_data"
    }
   ],
   "source": [
    "vmin_val = min(0.00, gene_corrs_quantiles[0.10])\n",
    "vmax_val = max(0.05, gene_corrs_quantiles[0.90])\n",
    "display(f\"{vmin_val} / {vmax_val}\")"
   ]
  },
  {
   "cell_type": "code",
   "execution_count": 42,
   "id": "dc41b70b-5bcc-4d9e-9f33-a22c4a94dab5",
   "metadata": {
    "execution": {
     "iopub.execute_input": "2022-08-03T02:36:08.964953Z",
     "iopub.status.busy": "2022-08-03T02:36:08.964700Z",
     "iopub.status.idle": "2022-08-03T02:36:09.146057Z",
     "shell.execute_reply": "2022-08-03T02:36:09.145612Z"
    },
    "papermill": {
     "duration": 1.105101,
     "end_time": "2022-08-03T02:36:09.147544",
     "exception": false,
     "start_time": "2022-08-03T02:36:08.042443",
     "status": "completed"
    },
    "tags": []
   },
   "outputs": [
    {
     "data": {
      "text/plain": [
       "Text(0.5, 1.0, 'Gene correlations in chromosome 15')"
      ]
     },
     "execution_count": 42,
     "metadata": {},
     "output_type": "execute_result"
    },
    {
     "data": {
      "image/png": "[encoded data removed]",
      "text/plain": [
       "<Figure size 720x720 with 2 Axes>"
      ]
     },
     "metadata": {
      "needs_background": "light"
     },
     "output_type": "display_data"
    }
   ],
   "source": [
    "f, ax = plt.subplots(figsize=(10, 10))\n",
    "sns.heatmap(\n",
    "    gene_corrs_df,\n",
    "    xticklabels=False,\n",
    "    yticklabels=False,\n",
    "    square=True,\n",
    "    vmin=vmin_val,\n",
    "    vmax=vmax_val,\n",
    "    cmap=\"rocket_r\",\n",
    "    ax=ax,\n",
    ")\n",
    "ax.set_title(f\"Gene correlations in chromosome {CHROMOSOME}\")"
   ]
  },
  {
   "cell_type": "code",
   "execution_count": null,
   "id": "b25e3ead",
   "metadata": {
    "papermill": {
     "duration": 0.865821,
     "end_time": "2022-08-03T02:36:10.876557",
     "exception": false,
     "start_time": "2022-08-03T02:36:10.010736",
     "status": "completed"
    },
    "tags": []
   },
   "outputs": [],
   "source": []
  }
 ],
 "metadata": {
  "jupytext": {
   "cell_metadata_filter": "all,-execution,-papermill,-trusted",
   "formats": "ipynb,py//py:percent"
  },
  "kernelspec": {
   "display_name": "Python 3 (ipykernel)",
   "language": "python",
   "name": "python3"
  },
  "language_info": {
   "codemirror_mode": {
    "name": "ipython",
    "version": 3
   },
   "file_extension": ".py",
   "mimetype": "text/x-python",
   "name": "python",
   "nbconvert_exporter": "python",
   "pygments_lexer": "ipython3",
   "version": "3.8.13"
  },
  "papermill": {
   "default_parameters": {},
   "duration": 1185.680157,
   "end_time": "2022-08-03T02:36:14.973742",
   "environment_variables": {},
   "exception": null,
   "input_path": "nbs/15_gsa_gls/10-gene_expr_correlations.ipynb",
   "output_path": "nbs/15_gsa_gls/gene_corrs/cohorts/1000g_eur/gtex_v8/mashr/10-gene_expr_correlations-chr15.run.ipynb",
   "parameters": {
    "CHROMOSOME": 15,
    "COHORT_NAME": "1000G_EUR",
    "EQTL_MODEL": "MASHR",
    "REFERENCE_PANEL": "GTEX_V8"
   },
   "start_time": "2022-08-03T02:16:29.293585",
   "version": "2.2.2"
  }
 },
 "nbformat": 4,
 "nbformat_minor": 5
}
