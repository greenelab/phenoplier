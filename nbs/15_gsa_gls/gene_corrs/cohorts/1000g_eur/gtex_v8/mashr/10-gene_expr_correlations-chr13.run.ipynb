{
 "cells": [
  {
   "cell_type": "markdown",
   "id": "7a6632fb",
   "metadata": {
    "papermill": {
     "duration": 0.02201,
     "end_time": "2022-08-03T02:16:31.899606",
     "exception": false,
     "start_time": "2022-08-03T02:16:31.877596",
     "status": "completed"
    },
    "tags": []
   },
   "source": [
    "# Description"
   ]
  },
  {
   "cell_type": "markdown",
   "id": "7097c346",
   "metadata": {
    "papermill": {
     "duration": 0.058396,
     "end_time": "2022-08-03T02:16:31.980123",
     "exception": false,
     "start_time": "2022-08-03T02:16:31.921727",
     "status": "completed"
    },
    "tags": []
   },
   "source": [
    "(Please, take a look at the README.md file in this directory for instructions on how to run this notebook)\n",
    "\n",
    "This notebook computes predicted expression correlations between all genes in the MultiPLIER models.\n",
    "\n",
    "It also has a parameter set for papermill to run on a single chromosome to run in parallel (see under `Settings` below).\n",
    "\n",
    "This notebook is not directly run. See README.md."
   ]
  },
  {
   "cell_type": "markdown",
   "id": "c61d8427",
   "metadata": {
    "papermill": {
     "duration": 0.010645,
     "end_time": "2022-08-03T02:16:32.004049",
     "exception": false,
     "start_time": "2022-08-03T02:16:31.993404",
     "status": "completed"
    },
    "tags": []
   },
   "source": [
    "# Modules"
   ]
  },
  {
   "cell_type": "code",
   "execution_count": 1,
   "id": "bbc0234f",
   "metadata": {
    "execution": {
     "iopub.execute_input": "2022-08-03T02:16:32.025836Z",
     "iopub.status.busy": "2022-08-03T02:16:32.025480Z",
     "iopub.status.idle": "2022-08-03T02:16:32.087142Z",
     "shell.execute_reply": "2022-08-03T02:16:32.086653Z"
    },
    "papermill": {
     "duration": 0.074347,
     "end_time": "2022-08-03T02:16:32.088867",
     "exception": false,
     "start_time": "2022-08-03T02:16:32.014520",
     "status": "completed"
    },
    "tags": []
   },
   "outputs": [],
   "source": [
    "%load_ext autoreload\n",
    "%autoreload 2"
   ]
  },
  {
   "cell_type": "code",
   "execution_count": 2,
   "id": "1d5f5a59",
   "metadata": {
    "execution": {
     "iopub.execute_input": "2022-08-03T02:16:32.108968Z",
     "iopub.status.busy": "2022-08-03T02:16:32.108772Z",
     "iopub.status.idle": "2022-08-03T02:16:35.027588Z",
     "shell.execute_reply": "2022-08-03T02:16:35.027079Z"
    },
    "papermill": {
     "duration": 2.930333,
     "end_time": "2022-08-03T02:16:35.029424",
     "exception": false,
     "start_time": "2022-08-03T02:16:32.099091",
     "status": "completed"
    },
    "tags": []
   },
   "outputs": [],
   "source": [
    "from random import sample, seed\n",
    "import warnings\n",
    "from pathlib import Path\n",
    "import pickle\n",
    "import traceback\n",
    "\n",
    "import numpy as np\n",
    "from scipy.spatial.distance import squareform\n",
    "import pandas as pd\n",
    "from tqdm import tqdm\n",
    "import matplotlib.pyplot as plt\n",
    "import seaborn as sns\n",
    "\n",
    "import conf\n",
    "from entity import Gene"
   ]
  },
  {
   "cell_type": "markdown",
   "id": "1eac24b5",
   "metadata": {
    "papermill": {
     "duration": 0.008624,
     "end_time": "2022-08-03T02:16:35.046675",
     "exception": false,
     "start_time": "2022-08-03T02:16:35.038051",
     "status": "completed"
    },
    "tags": []
   },
   "source": [
    "# Settings"
   ]
  },
  {
   "cell_type": "code",
   "execution_count": 3,
   "id": "ca4560ba",
   "metadata": {
    "execution": {
     "iopub.execute_input": "2022-08-03T02:16:35.063556Z",
     "iopub.status.busy": "2022-08-03T02:16:35.063333Z",
     "iopub.status.idle": "2022-08-03T02:16:35.295722Z",
     "shell.execute_reply": "2022-08-03T02:16:35.295277Z"
    },
    "papermill": {
     "duration": 0.242115,
     "end_time": "2022-08-03T02:16:35.297102",
     "exception": false,
     "start_time": "2022-08-03T02:16:35.054987",
     "status": "completed"
    },
    "tags": [
     "parameters"
    ]
   },
   "outputs": [],
   "source": [
    "# a cohort name (it could be something like UK_BIOBANK, etc)\n",
    "COHORT_NAME = None\n",
    "\n",
    "# reference panel such as 1000G or GTEX_V8\n",
    "REFERENCE_PANEL = None\n",
    "\n",
    "# predictions models such as MASHR or ELASTIC_NET\n",
    "EQTL_MODEL = None\n",
    "\n",
    "# this is the default value used in S-MultiXcan to select the\n",
    "# top principal components of the expression correlation matrix\n",
    "SMULTIXCAN_CONDITION_NUMBER = 30\n",
    "\n",
    "# specifies a single chromosome value\n",
    "CHROMOSOME = None\n",
    "\n",
    "# If True, computes the correlation between closeby genes only;\n",
    "# otherwise, it computes correlations for all genes in a chromosome\n",
    "COMPUTE_CORRELATIONS_WITHIN_DISTANCE = False\n",
    "\n",
    "# if True, then it will continue if a gene pair correlation fails,\n",
    "# printing the warning/error for debugging. If False, any warning/error\n",
    "# will be thrown\n",
    "DEBUG_MODE = False"
   ]
  },
  {
   "cell_type": "code",
   "execution_count": 4,
   "id": "b2b3cdac",
   "metadata": {
    "execution": {
     "iopub.execute_input": "2022-08-03T02:16:35.315024Z",
     "iopub.status.busy": "2022-08-03T02:16:35.314847Z",
     "iopub.status.idle": "2022-08-03T02:16:35.331945Z",
     "shell.execute_reply": "2022-08-03T02:16:35.331576Z"
    },
    "papermill": {
     "duration": 0.026578,
     "end_time": "2022-08-03T02:16:35.333265",
     "exception": false,
     "start_time": "2022-08-03T02:16:35.306687",
     "status": "completed"
    },
    "tags": [
     "injected-parameters"
    ]
   },
   "outputs": [],
   "source": [
    "# Parameters\n",
    "COHORT_NAME = \"1000G_EUR\"\n",
    "REFERENCE_PANEL = \"GTEX_V8\"\n",
    "EQTL_MODEL = \"MASHR\"\n",
    "CHROMOSOME = 13\n"
   ]
  },
  {
   "cell_type": "code",
   "execution_count": 5,
   "id": "3190631f-27fc-480f-b18e-571d580425a5",
   "metadata": {
    "execution": {
     "iopub.execute_input": "2022-08-03T02:16:35.363274Z",
     "iopub.status.busy": "2022-08-03T02:16:35.363105Z",
     "iopub.status.idle": "2022-08-03T02:16:35.384645Z",
     "shell.execute_reply": "2022-08-03T02:16:35.384275Z"
    },
    "papermill": {
     "duration": 0.035319,
     "end_time": "2022-08-03T02:16:35.385883",
     "exception": false,
     "start_time": "2022-08-03T02:16:35.350564",
     "status": "completed"
    },
    "tags": []
   },
   "outputs": [
    {
     "data": {
      "text/plain": [
       "'Cohort name: 1000g_eur'"
      ]
     },
     "metadata": {},
     "output_type": "display_data"
    }
   ],
   "source": [
    "assert COHORT_NAME is not None and len(COHORT_NAME) > 0, \"A cohort name must be given\"\n",
    "\n",
    "COHORT_NAME = COHORT_NAME.lower()\n",
    "display(f\"Cohort name: {COHORT_NAME}\")"
   ]
  },
  {
   "cell_type": "code",
   "execution_count": 6,
   "id": "f53ba19b-0f93-4fa2-a047-63b375939d1a",
   "metadata": {
    "execution": {
     "iopub.execute_input": "2022-08-03T02:16:35.406010Z",
     "iopub.status.busy": "2022-08-03T02:16:35.405838Z",
     "iopub.status.idle": "2022-08-03T02:16:35.423548Z",
     "shell.execute_reply": "2022-08-03T02:16:35.423164Z"
    },
    "papermill": {
     "duration": 0.029328,
     "end_time": "2022-08-03T02:16:35.424786",
     "exception": false,
     "start_time": "2022-08-03T02:16:35.395458",
     "status": "completed"
    },
    "tags": []
   },
   "outputs": [
    {
     "data": {
      "text/plain": [
       "'Reference panel: GTEX_V8'"
      ]
     },
     "metadata": {},
     "output_type": "display_data"
    }
   ],
   "source": [
    "assert (\n",
    "    REFERENCE_PANEL is not None and len(REFERENCE_PANEL) > 0\n",
    "), \"A reference panel must be given\"\n",
    "\n",
    "display(f\"Reference panel: {REFERENCE_PANEL}\")"
   ]
  },
  {
   "cell_type": "code",
   "execution_count": 7,
   "id": "e024d130-c139-429a-9c6e-ccf149e297b0",
   "metadata": {
    "execution": {
     "iopub.execute_input": "2022-08-03T02:16:35.446497Z",
     "iopub.status.busy": "2022-08-03T02:16:35.446318Z",
     "iopub.status.idle": "2022-08-03T02:16:35.463717Z",
     "shell.execute_reply": "2022-08-03T02:16:35.463326Z"
    },
    "papermill": {
     "duration": 0.030834,
     "end_time": "2022-08-03T02:16:35.464940",
     "exception": false,
     "start_time": "2022-08-03T02:16:35.434106",
     "status": "completed"
    },
    "tags": []
   },
   "outputs": [
    {
     "data": {
      "text/plain": [
       "'eQTL model: MASHR) / mashr_'"
      ]
     },
     "metadata": {},
     "output_type": "display_data"
    }
   ],
   "source": [
    "assert (\n",
    "    EQTL_MODEL is not None and len(EQTL_MODEL) > 0\n",
    "), \"A prediction/eQTL model must be given\"\n",
    "\n",
    "EQTL_MODEL_FILES_PREFIX = conf.PHENOMEXCAN[\"PREDICTION_MODELS\"][f\"{EQTL_MODEL}_PREFIX\"]\n",
    "display(f\"eQTL model: {EQTL_MODEL}) / {EQTL_MODEL_FILES_PREFIX}\")"
   ]
  },
  {
   "cell_type": "code",
   "execution_count": 8,
   "id": "552a7f63-a18c-4d3e-bb6a-94f99b431291",
   "metadata": {
    "execution": {
     "iopub.execute_input": "2022-08-03T02:16:35.513595Z",
     "iopub.status.busy": "2022-08-03T02:16:35.513385Z",
     "iopub.status.idle": "2022-08-03T02:16:35.737855Z",
     "shell.execute_reply": "2022-08-03T02:16:35.737464Z"
    },
    "papermill": {
     "duration": 0.246403,
     "end_time": "2022-08-03T02:16:35.739099",
     "exception": false,
     "start_time": "2022-08-03T02:16:35.492696",
     "status": "completed"
    },
    "tags": []
   },
   "outputs": [
    {
     "data": {
      "text/plain": [
       "'S-MultiXcan condition number: 30'"
      ]
     },
     "metadata": {},
     "output_type": "display_data"
    }
   ],
   "source": [
    "assert (\n",
    "    SMULTIXCAN_CONDITION_NUMBER is not None and SMULTIXCAN_CONDITION_NUMBER > 0\n",
    "), \"The S-MultiXcan condition number (positive integer) must be given\"\n",
    "\n",
    "display(f\"S-MultiXcan condition number: {SMULTIXCAN_CONDITION_NUMBER}\")"
   ]
  },
  {
   "cell_type": "code",
   "execution_count": 9,
   "id": "f34a336f-548e-4afe-8955-90eaea4f42c6",
   "metadata": {
    "execution": {
     "iopub.execute_input": "2022-08-03T02:16:35.790810Z",
     "iopub.status.busy": "2022-08-03T02:16:35.790640Z",
     "iopub.status.idle": "2022-08-03T02:16:36.088310Z",
     "shell.execute_reply": "2022-08-03T02:16:36.087915Z"
    },
    "papermill": {
     "duration": 0.322484,
     "end_time": "2022-08-03T02:16:36.089603",
     "exception": false,
     "start_time": "2022-08-03T02:16:35.767119",
     "status": "completed"
    },
    "tags": []
   },
   "outputs": [
    {
     "data": {
      "text/plain": [
       "'Working on chromosome 13'"
      ]
     },
     "metadata": {},
     "output_type": "display_data"
    }
   ],
   "source": [
    "assert CHROMOSOME is not None and (\n",
    "    1 <= CHROMOSOME <= 22\n",
    "), \"You have to select one chromosome (format: number between 1 and 22)\"\n",
    "\n",
    "CHROMOSOME = str(CHROMOSOME)\n",
    "display(f\"Working on chromosome {CHROMOSOME}\")"
   ]
  },
  {
   "cell_type": "code",
   "execution_count": 10,
   "id": "ab8e96e8-06b5-4363-9dcd-dc4d78cc27f7",
   "metadata": {
    "execution": {
     "iopub.execute_input": "2022-08-03T02:16:36.107213Z",
     "iopub.status.busy": "2022-08-03T02:16:36.107033Z",
     "iopub.status.idle": "2022-08-03T02:16:36.126014Z",
     "shell.execute_reply": "2022-08-03T02:16:36.125636Z"
    },
    "papermill": {
     "duration": 0.028463,
     "end_time": "2022-08-03T02:16:36.127199",
     "exception": false,
     "start_time": "2022-08-03T02:16:36.098736",
     "status": "completed"
    },
    "tags": []
   },
   "outputs": [
    {
     "data": {
      "text/plain": [
       "'Compute correlation within distance False'"
      ]
     },
     "metadata": {},
     "output_type": "display_data"
    }
   ],
   "source": [
    "display(f\"Compute correlation within distance {COMPUTE_CORRELATIONS_WITHIN_DISTANCE}\")"
   ]
  },
  {
   "cell_type": "code",
   "execution_count": 11,
   "id": "396392dc-0340-4540-9b02-e182b833f909",
   "metadata": {
    "execution": {
     "iopub.execute_input": "2022-08-03T02:16:36.150274Z",
     "iopub.status.busy": "2022-08-03T02:16:36.150098Z",
     "iopub.status.idle": "2022-08-03T02:16:36.175120Z",
     "shell.execute_reply": "2022-08-03T02:16:36.174752Z"
    },
    "papermill": {
     "duration": 0.035975,
     "end_time": "2022-08-03T02:16:36.176335",
     "exception": false,
     "start_time": "2022-08-03T02:16:36.140360",
     "status": "completed"
    },
    "tags": []
   },
   "outputs": [
    {
     "data": {
      "text/plain": [
       "'Using output dir base: /project/ritchie20/projects/phenoplier/base/results/gls/gene_corrs/cohorts/1000g_eur/gtex_v8/mashr'"
      ]
     },
     "metadata": {},
     "output_type": "display_data"
    }
   ],
   "source": [
    "OUTPUT_DIR_BASE = (\n",
    "    conf.RESULTS[\"GLS\"]\n",
    "    / \"gene_corrs\"\n",
    "    / \"cohorts\"\n",
    "    / COHORT_NAME\n",
    "    / REFERENCE_PANEL.lower()\n",
    "    / EQTL_MODEL.lower()\n",
    ")\n",
    "OUTPUT_DIR_BASE.mkdir(parents=True, exist_ok=True)\n",
    "\n",
    "display(f\"Using output dir base: {OUTPUT_DIR_BASE}\")"
   ]
  },
  {
   "cell_type": "markdown",
   "id": "d2ba085e",
   "metadata": {
    "papermill": {
     "duration": 0.019673,
     "end_time": "2022-08-03T02:16:36.206488",
     "exception": false,
     "start_time": "2022-08-03T02:16:36.186815",
     "status": "completed"
    },
    "tags": []
   },
   "source": [
    "# Load data"
   ]
  },
  {
   "cell_type": "markdown",
   "id": "7dcb8db7",
   "metadata": {
    "papermill": {
     "duration": 0.01211,
     "end_time": "2022-08-03T02:16:36.238322",
     "exception": false,
     "start_time": "2022-08-03T02:16:36.226212",
     "status": "completed"
    },
    "tags": []
   },
   "source": [
    "## GWAS variants"
   ]
  },
  {
   "cell_type": "code",
   "execution_count": 12,
   "id": "29434c4e-8cd3-4b9b-82e4-b5a251d9dd19",
   "metadata": {
    "execution": {
     "iopub.execute_input": "2022-08-03T02:16:36.264513Z",
     "iopub.status.busy": "2022-08-03T02:16:36.264259Z",
     "iopub.status.idle": "2022-08-03T02:16:38.840116Z",
     "shell.execute_reply": "2022-08-03T02:16:38.839302Z"
    },
    "papermill": {
     "duration": 2.593026,
     "end_time": "2022-08-03T02:16:38.842088",
     "exception": false,
     "start_time": "2022-08-03T02:16:36.249062",
     "status": "completed"
    },
    "tags": []
   },
   "outputs": [],
   "source": [
    "with open(OUTPUT_DIR_BASE / \"gwas_variant_ids.pkl\", \"rb\") as handle:\n",
    "    gwas_variants_ids_set = pickle.load(handle)"
   ]
  },
  {
   "cell_type": "code",
   "execution_count": 13,
   "id": "b9d9dec2-4a76-4bf9-bde2-e24c95acb8a0",
   "metadata": {
    "execution": {
     "iopub.execute_input": "2022-08-03T02:16:38.861619Z",
     "iopub.status.busy": "2022-08-03T02:16:38.861409Z",
     "iopub.status.idle": "2022-08-03T02:16:38.971730Z",
     "shell.execute_reply": "2022-08-03T02:16:38.971330Z"
    },
    "papermill": {
     "duration": 0.121859,
     "end_time": "2022-08-03T02:16:38.972985",
     "exception": false,
     "start_time": "2022-08-03T02:16:38.851126",
     "status": "completed"
    },
    "tags": []
   },
   "outputs": [
    {
     "data": {
      "text/plain": [
       "8325729"
      ]
     },
     "execution_count": 13,
     "metadata": {},
     "output_type": "execute_result"
    }
   ],
   "source": [
    "len(gwas_variants_ids_set)"
   ]
  },
  {
   "cell_type": "code",
   "execution_count": 14,
   "id": "4235b06a-6034-4ee4-a0a3-2ae35d122418",
   "metadata": {
    "execution": {
     "iopub.execute_input": "2022-08-03T02:16:38.990989Z",
     "iopub.status.busy": "2022-08-03T02:16:38.990817Z",
     "iopub.status.idle": "2022-08-03T02:16:39.476109Z",
     "shell.execute_reply": "2022-08-03T02:16:39.475659Z"
    },
    "papermill": {
     "duration": 0.495951,
     "end_time": "2022-08-03T02:16:39.477484",
     "exception": false,
     "start_time": "2022-08-03T02:16:38.981533",
     "status": "completed"
    },
    "tags": []
   },
   "outputs": [
    {
     "data": {
      "text/plain": [
       "['chr2_171511005_T_C_b38',\n",
       " 'chr2_14454645_G_A_b38',\n",
       " 'chr4_119392285_A_G_b38',\n",
       " 'chr3_40435451_C_T_b38',\n",
       " 'chr8_51087117_T_A_b38']"
      ]
     },
     "execution_count": 14,
     "metadata": {},
     "output_type": "execute_result"
    }
   ],
   "source": [
    "list(gwas_variants_ids_set)[:5]"
   ]
  },
  {
   "cell_type": "markdown",
   "id": "07866999-2305-41f9-a144-e69c9122c212",
   "metadata": {
    "papermill": {
     "duration": 0.007979,
     "end_time": "2022-08-03T02:16:39.494007",
     "exception": false,
     "start_time": "2022-08-03T02:16:39.486028",
     "status": "completed"
    },
    "tags": []
   },
   "source": [
    "## S-PrediXcan tissue models"
   ]
  },
  {
   "cell_type": "code",
   "execution_count": 15,
   "id": "780611d9-77c8-405f-90a4-f271f7b09397",
   "metadata": {
    "execution": {
     "iopub.execute_input": "2022-08-03T02:16:39.511154Z",
     "iopub.status.busy": "2022-08-03T02:16:39.510964Z",
     "iopub.status.idle": "2022-08-03T02:16:40.503606Z",
     "shell.execute_reply": "2022-08-03T02:16:40.503104Z"
    },
    "papermill": {
     "duration": 1.003291,
     "end_time": "2022-08-03T02:16:40.505425",
     "exception": false,
     "start_time": "2022-08-03T02:16:39.502134",
     "status": "completed"
    },
    "tags": []
   },
   "outputs": [],
   "source": [
    "spredixcan_genes_models = pd.read_pickle(OUTPUT_DIR_BASE / \"gene_tissues.pkl\")"
   ]
  },
  {
   "cell_type": "code",
   "execution_count": 16,
   "id": "726dd1f6-9557-4225-91fa-b3b879ea96e1",
   "metadata": {
    "execution": {
     "iopub.execute_input": "2022-08-03T02:16:40.525166Z",
     "iopub.status.busy": "2022-08-03T02:16:40.524962Z",
     "iopub.status.idle": "2022-08-03T02:16:40.545383Z",
     "shell.execute_reply": "2022-08-03T02:16:40.545009Z"
    },
    "papermill": {
     "duration": 0.031188,
     "end_time": "2022-08-03T02:16:40.546578",
     "exception": false,
     "start_time": "2022-08-03T02:16:40.515390",
     "status": "completed"
    },
    "tags": []
   },
   "outputs": [
    {
     "data": {
      "text/plain": [
       "(6444, 10)"
      ]
     },
     "execution_count": 16,
     "metadata": {},
     "output_type": "execute_result"
    }
   ],
   "source": [
    "spredixcan_genes_models.shape"
   ]
  },
  {
   "cell_type": "code",
   "execution_count": 17,
   "id": "944a1b48-222c-4eb0-b252-b9de2cbca215",
   "metadata": {
    "execution": {
     "iopub.execute_input": "2022-08-03T02:16:40.564177Z",
     "iopub.status.busy": "2022-08-03T02:16:40.563998Z",
     "iopub.status.idle": "2022-08-03T02:16:40.596834Z",
     "shell.execute_reply": "2022-08-03T02:16:40.596446Z"
    },
    "papermill": {
     "duration": 0.043321,
     "end_time": "2022-08-03T02:16:40.598033",
     "exception": false,
     "start_time": "2022-08-03T02:16:40.554712",
     "status": "completed"
    },
    "tags": []
   },
   "outputs": [
    {
     "data": {
      "text/html": [
       "<div>\n",
       "<style scoped>\n",
       "    .dataframe tbody tr th:only-of-type {\n",
       "        vertical-align: middle;\n",
       "    }\n",
       "\n",
       "    .dataframe tbody tr th {\n",
       "        vertical-align: top;\n",
       "    }\n",
       "\n",
       "    .dataframe thead th {\n",
       "        text-align: right;\n",
       "    }\n",
       "</style>\n",
       "<table border=\"1\" class=\"dataframe\">\n",
       "  <thead>\n",
       "    <tr style=\"text-align: right;\">\n",
       "      <th></th>\n",
       "      <th>gene_name</th>\n",
       "      <th>tissue</th>\n",
       "      <th>n_tissues</th>\n",
       "      <th>tissues_pc_variances</th>\n",
       "      <th>tissues_pc_variances_cov</th>\n",
       "      <th>tissues_variances</th>\n",
       "      <th>n_snps_used_sum</th>\n",
       "      <th>n_snps_in_model_sum</th>\n",
       "      <th>unique_n_snps_in_model</th>\n",
       "      <th>unique_n_snps_used</th>\n",
       "    </tr>\n",
       "    <tr>\n",
       "      <th>gene_id</th>\n",
       "      <th></th>\n",
       "      <th></th>\n",
       "      <th></th>\n",
       "      <th></th>\n",
       "      <th></th>\n",
       "      <th></th>\n",
       "      <th></th>\n",
       "      <th></th>\n",
       "      <th></th>\n",
       "      <th></th>\n",
       "    </tr>\n",
       "  </thead>\n",
       "  <tbody>\n",
       "    <tr>\n",
       "      <th>ENSG00000000419</th>\n",
       "      <td>DPM1</td>\n",
       "      <td>(Brain_Hypothalamus, Brain_Substantia_nigra)</td>\n",
       "      <td>2</td>\n",
       "      <td>[1.0442398458252409, 0.9557601541747592]</td>\n",
       "      <td>[0.013163142634155849, 0.00048574890347684763]</td>\n",
       "      <td>{'Brain_Hypothalamus': 0.013162153504206677, '...</td>\n",
       "      <td>2</td>\n",
       "      <td>2</td>\n",
       "      <td>2</td>\n",
       "      <td>2</td>\n",
       "    </tr>\n",
       "    <tr>\n",
       "      <th>ENSG00000000938</th>\n",
       "      <td>FGR</td>\n",
       "      <td>(Whole_Blood, Brain_Hippocampus, Prostate, Pan...</td>\n",
       "      <td>36</td>\n",
       "      <td>[31.63266933637129, 2.078367751851144, 1.27161...</td>\n",
       "      <td>[0.1715948657078027]</td>\n",
       "      <td>{'Esophagus_Muscularis': 0.006536602044478473,...</td>\n",
       "      <td>40</td>\n",
       "      <td>40</td>\n",
       "      <td>5</td>\n",
       "      <td>5</td>\n",
       "    </tr>\n",
       "    <tr>\n",
       "      <th>ENSG00000000971</th>\n",
       "      <td>CFH</td>\n",
       "      <td>(Whole_Blood, Artery_Coronary, Brain_Hippocamp...</td>\n",
       "      <td>34</td>\n",
       "      <td>[21.56076992568329, 7.310170987045463, 1.83778...</td>\n",
       "      <td>[0.2093060319587451, 0.058234347656008024, 0.0...</td>\n",
       "      <td>{'Esophagus_Muscularis': 0.01739410990047228, ...</td>\n",
       "      <td>44</td>\n",
       "      <td>44</td>\n",
       "      <td>12</td>\n",
       "      <td>12</td>\n",
       "    </tr>\n",
       "    <tr>\n",
       "      <th>ENSG00000001084</th>\n",
       "      <td>GCLC</td>\n",
       "      <td>(Whole_Blood, Artery_Coronary, Brain_Hippocamp...</td>\n",
       "      <td>32</td>\n",
       "      <td>[21.291939080546538, 4.699418748743195, 2.2489...</td>\n",
       "      <td>[0.39430527375123775, 0.11627488888534836, 0.0...</td>\n",
       "      <td>{'Thyroid': 0.009654918580686024, 'Brain_Corte...</td>\n",
       "      <td>46</td>\n",
       "      <td>46</td>\n",
       "      <td>23</td>\n",
       "      <td>23</td>\n",
       "    </tr>\n",
       "    <tr>\n",
       "      <th>ENSG00000001167</th>\n",
       "      <td>NFYA</td>\n",
       "      <td>(Whole_Blood, Artery_Coronary, Brain_Hippocamp...</td>\n",
       "      <td>40</td>\n",
       "      <td>[37.3356602954977, 1.3914019604538357]</td>\n",
       "      <td>[1.1642639979821048, 0.05742881287671712]</td>\n",
       "      <td>{'Esophagus_Muscularis': 0.0318781600881541, '...</td>\n",
       "      <td>47</td>\n",
       "      <td>48</td>\n",
       "      <td>14</td>\n",
       "      <td>13</td>\n",
       "    </tr>\n",
       "  </tbody>\n",
       "</table>\n",
       "</div>"
      ],
      "text/plain": [
       "                gene_name                                             tissue  \\\n",
       "gene_id                                                                        \n",
       "ENSG00000000419      DPM1       (Brain_Hypothalamus, Brain_Substantia_nigra)   \n",
       "ENSG00000000938       FGR  (Whole_Blood, Brain_Hippocampus, Prostate, Pan...   \n",
       "ENSG00000000971       CFH  (Whole_Blood, Artery_Coronary, Brain_Hippocamp...   \n",
       "ENSG00000001084      GCLC  (Whole_Blood, Artery_Coronary, Brain_Hippocamp...   \n",
       "ENSG00000001167      NFYA  (Whole_Blood, Artery_Coronary, Brain_Hippocamp...   \n",
       "\n",
       "                 n_tissues                               tissues_pc_variances  \\\n",
       "gene_id                                                                         \n",
       "ENSG00000000419          2           [1.0442398458252409, 0.9557601541747592]   \n",
       "ENSG00000000938         36  [31.63266933637129, 2.078367751851144, 1.27161...   \n",
       "ENSG00000000971         34  [21.56076992568329, 7.310170987045463, 1.83778...   \n",
       "ENSG00000001084         32  [21.291939080546538, 4.699418748743195, 2.2489...   \n",
       "ENSG00000001167         40             [37.3356602954977, 1.3914019604538357]   \n",
       "\n",
       "                                          tissues_pc_variances_cov  \\\n",
       "gene_id                                                              \n",
       "ENSG00000000419     [0.013163142634155849, 0.00048574890347684763]   \n",
       "ENSG00000000938                               [0.1715948657078027]   \n",
       "ENSG00000000971  [0.2093060319587451, 0.058234347656008024, 0.0...   \n",
       "ENSG00000001084  [0.39430527375123775, 0.11627488888534836, 0.0...   \n",
       "ENSG00000001167          [1.1642639979821048, 0.05742881287671712]   \n",
       "\n",
       "                                                 tissues_variances  \\\n",
       "gene_id                                                              \n",
       "ENSG00000000419  {'Brain_Hypothalamus': 0.013162153504206677, '...   \n",
       "ENSG00000000938  {'Esophagus_Muscularis': 0.006536602044478473,...   \n",
       "ENSG00000000971  {'Esophagus_Muscularis': 0.01739410990047228, ...   \n",
       "ENSG00000001084  {'Thyroid': 0.009654918580686024, 'Brain_Corte...   \n",
       "ENSG00000001167  {'Esophagus_Muscularis': 0.0318781600881541, '...   \n",
       "\n",
       "                 n_snps_used_sum  n_snps_in_model_sum  unique_n_snps_in_model  \\\n",
       "gene_id                                                                         \n",
       "ENSG00000000419                2                    2                       2   \n",
       "ENSG00000000938               40                   40                       5   \n",
       "ENSG00000000971               44                   44                      12   \n",
       "ENSG00000001084               46                   46                      23   \n",
       "ENSG00000001167               47                   48                      14   \n",
       "\n",
       "                 unique_n_snps_used  \n",
       "gene_id                              \n",
       "ENSG00000000419                   2  \n",
       "ENSG00000000938                   5  \n",
       "ENSG00000000971                  12  \n",
       "ENSG00000001084                  23  \n",
       "ENSG00000001167                  13  "
      ]
     },
     "execution_count": 17,
     "metadata": {},
     "output_type": "execute_result"
    }
   ],
   "source": [
    "spredixcan_genes_models.head()"
   ]
  },
  {
   "cell_type": "code",
   "execution_count": 18,
   "id": "d1c11bb1-be0b-4f40-b360-633d6827109f",
   "metadata": {
    "execution": {
     "iopub.execute_input": "2022-08-03T02:16:40.616443Z",
     "iopub.status.busy": "2022-08-03T02:16:40.616272Z",
     "iopub.status.idle": "2022-08-03T02:16:40.633053Z",
     "shell.execute_reply": "2022-08-03T02:16:40.632682Z"
    },
    "papermill": {
     "duration": 0.027869,
     "end_time": "2022-08-03T02:16:40.634361",
     "exception": false,
     "start_time": "2022-08-03T02:16:40.606492",
     "status": "completed"
    },
    "tags": []
   },
   "outputs": [],
   "source": [
    "assert spredixcan_genes_models.index.is_unique"
   ]
  },
  {
   "cell_type": "markdown",
   "id": "a5b5092c-a13e-47c4-a92a-480fcc08f3ae",
   "metadata": {
    "papermill": {
     "duration": 0.00858,
     "end_time": "2022-08-03T02:16:40.652246",
     "exception": false,
     "start_time": "2022-08-03T02:16:40.643666",
     "status": "completed"
    },
    "tags": []
   },
   "source": [
    "## Gene info"
   ]
  },
  {
   "cell_type": "code",
   "execution_count": 19,
   "id": "7d6bb224-88e9-4358-ac10-43a41d92cdad",
   "metadata": {
    "execution": {
     "iopub.execute_input": "2022-08-03T02:16:40.670161Z",
     "iopub.status.busy": "2022-08-03T02:16:40.669980Z",
     "iopub.status.idle": "2022-08-03T02:16:40.690342Z",
     "shell.execute_reply": "2022-08-03T02:16:40.689959Z"
    },
    "papermill": {
     "duration": 0.030936,
     "end_time": "2022-08-03T02:16:40.691745",
     "exception": false,
     "start_time": "2022-08-03T02:16:40.660809",
     "status": "completed"
    },
    "tags": []
   },
   "outputs": [],
   "source": [
    "genes_info = pd.read_pickle(OUTPUT_DIR_BASE / \"genes_info.pkl\")"
   ]
  },
  {
   "cell_type": "code",
   "execution_count": 20,
   "id": "9e32abfa-546d-483e-8c18-d526e9e05903",
   "metadata": {
    "execution": {
     "iopub.execute_input": "2022-08-03T02:16:40.710392Z",
     "iopub.status.busy": "2022-08-03T02:16:40.710218Z",
     "iopub.status.idle": "2022-08-03T02:16:40.728180Z",
     "shell.execute_reply": "2022-08-03T02:16:40.727794Z"
    },
    "papermill": {
     "duration": 0.028432,
     "end_time": "2022-08-03T02:16:40.729399",
     "exception": false,
     "start_time": "2022-08-03T02:16:40.700967",
     "status": "completed"
    },
    "tags": []
   },
   "outputs": [
    {
     "data": {
      "text/plain": [
       "(6444, 7)"
      ]
     },
     "execution_count": 20,
     "metadata": {},
     "output_type": "execute_result"
    }
   ],
   "source": [
    "genes_info.shape"
   ]
  },
  {
   "cell_type": "code",
   "execution_count": 21,
   "id": "d16c3e92-85ec-468a-9a56-e25a9774a1cb",
   "metadata": {
    "execution": {
     "iopub.execute_input": "2022-08-03T02:16:40.750335Z",
     "iopub.status.busy": "2022-08-03T02:16:40.750156Z",
     "iopub.status.idle": "2022-08-03T02:16:40.772440Z",
     "shell.execute_reply": "2022-08-03T02:16:40.772054Z"
    },
    "papermill": {
     "duration": 0.035588,
     "end_time": "2022-08-03T02:16:40.773794",
     "exception": false,
     "start_time": "2022-08-03T02:16:40.738206",
     "status": "completed"
    },
    "tags": []
   },
   "outputs": [
    {
     "data": {
      "text/html": [
       "<div>\n",
       "<style scoped>\n",
       "    .dataframe tbody tr th:only-of-type {\n",
       "        vertical-align: middle;\n",
       "    }\n",
       "\n",
       "    .dataframe tbody tr th {\n",
       "        vertical-align: top;\n",
       "    }\n",
       "\n",
       "    .dataframe thead th {\n",
       "        text-align: right;\n",
       "    }\n",
       "</style>\n",
       "<table border=\"1\" class=\"dataframe\">\n",
       "  <thead>\n",
       "    <tr style=\"text-align: right;\">\n",
       "      <th></th>\n",
       "      <th>name</th>\n",
       "      <th>id</th>\n",
       "      <th>chr</th>\n",
       "      <th>band</th>\n",
       "      <th>start_position</th>\n",
       "      <th>end_position</th>\n",
       "      <th>gene_length</th>\n",
       "    </tr>\n",
       "  </thead>\n",
       "  <tbody>\n",
       "    <tr>\n",
       "      <th>0</th>\n",
       "      <td>HEYL</td>\n",
       "      <td>ENSG00000163909</td>\n",
       "      <td>1</td>\n",
       "      <td>1p34.2</td>\n",
       "      <td>39623435.0</td>\n",
       "      <td>39639643.0</td>\n",
       "      <td>16208.0</td>\n",
       "    </tr>\n",
       "    <tr>\n",
       "      <th>1</th>\n",
       "      <td>CYP24A1</td>\n",
       "      <td>ENSG00000019186</td>\n",
       "      <td>20</td>\n",
       "      <td>20q13.2</td>\n",
       "      <td>54153446.0</td>\n",
       "      <td>54173986.0</td>\n",
       "      <td>20540.0</td>\n",
       "    </tr>\n",
       "    <tr>\n",
       "      <th>2</th>\n",
       "      <td>ITGB4</td>\n",
       "      <td>ENSG00000132470</td>\n",
       "      <td>17</td>\n",
       "      <td>17q25.1</td>\n",
       "      <td>75721328.0</td>\n",
       "      <td>75757818.0</td>\n",
       "      <td>36490.0</td>\n",
       "    </tr>\n",
       "    <tr>\n",
       "      <th>3</th>\n",
       "      <td>SPINT1</td>\n",
       "      <td>ENSG00000166145</td>\n",
       "      <td>15</td>\n",
       "      <td>15q15.1</td>\n",
       "      <td>40844018.0</td>\n",
       "      <td>40858207.0</td>\n",
       "      <td>14189.0</td>\n",
       "    </tr>\n",
       "    <tr>\n",
       "      <th>4</th>\n",
       "      <td>PCSK6</td>\n",
       "      <td>ENSG00000140479</td>\n",
       "      <td>15</td>\n",
       "      <td>15q26.3</td>\n",
       "      <td>101297142.0</td>\n",
       "      <td>101525202.0</td>\n",
       "      <td>228060.0</td>\n",
       "    </tr>\n",
       "  </tbody>\n",
       "</table>\n",
       "</div>"
      ],
      "text/plain": [
       "      name               id chr     band  start_position  end_position  \\\n",
       "0     HEYL  ENSG00000163909   1   1p34.2      39623435.0    39639643.0   \n",
       "1  CYP24A1  ENSG00000019186  20  20q13.2      54153446.0    54173986.0   \n",
       "2    ITGB4  ENSG00000132470  17  17q25.1      75721328.0    75757818.0   \n",
       "3   SPINT1  ENSG00000166145  15  15q15.1      40844018.0    40858207.0   \n",
       "4    PCSK6  ENSG00000140479  15  15q26.3     101297142.0   101525202.0   \n",
       "\n",
       "   gene_length  \n",
       "0      16208.0  \n",
       "1      20540.0  \n",
       "2      36490.0  \n",
       "3      14189.0  \n",
       "4     228060.0  "
      ]
     },
     "execution_count": 21,
     "metadata": {},
     "output_type": "execute_result"
    }
   ],
   "source": [
    "genes_info.head()"
   ]
  },
  {
   "cell_type": "markdown",
   "id": "d3843e06",
   "metadata": {
    "papermill": {
     "duration": 0.010325,
     "end_time": "2022-08-03T02:16:40.795338",
     "exception": false,
     "start_time": "2022-08-03T02:16:40.785013",
     "status": "completed"
    },
    "tags": []
   },
   "source": [
    "# Compute correlations"
   ]
  },
  {
   "cell_type": "code",
   "execution_count": 22,
   "id": "cb859c15-d1f3-4006-a74c-2b83c0db9611",
   "metadata": {
    "execution": {
     "iopub.execute_input": "2022-08-03T02:16:40.828638Z",
     "iopub.status.busy": "2022-08-03T02:16:40.828459Z",
     "iopub.status.idle": "2022-08-03T02:16:40.854534Z",
     "shell.execute_reply": "2022-08-03T02:16:40.854154Z"
    },
    "papermill": {
     "duration": 0.04458,
     "end_time": "2022-08-03T02:16:40.855727",
     "exception": false,
     "start_time": "2022-08-03T02:16:40.811147",
     "status": "completed"
    },
    "tags": []
   },
   "outputs": [
    {
     "data": {
      "text/plain": [
       "PosixPath('/project/ritchie20/projects/phenoplier/base/results/gls/gene_corrs/cohorts/1000g_eur/gtex_v8/mashr/by_chr/gene_corrs-chr13.pkl')"
      ]
     },
     "metadata": {},
     "output_type": "display_data"
    }
   ],
   "source": [
    "output_dir = OUTPUT_DIR_BASE / \"by_chr\"\n",
    "output_dir.mkdir(exist_ok=True, parents=True)\n",
    "output_file = output_dir / f\"gene_corrs-chr{CHROMOSOME}.pkl\"\n",
    "display(output_file)"
   ]
  },
  {
   "cell_type": "code",
   "execution_count": 23,
   "id": "aa674fe4-6794-4eed-98fa-32b39d1d4ace",
   "metadata": {
    "execution": {
     "iopub.execute_input": "2022-08-03T02:16:40.885996Z",
     "iopub.status.busy": "2022-08-03T02:16:40.885827Z",
     "iopub.status.idle": "2022-08-03T02:16:40.902046Z",
     "shell.execute_reply": "2022-08-03T02:16:40.901677Z"
    },
    "papermill": {
     "duration": 0.036686,
     "end_time": "2022-08-03T02:16:40.903353",
     "exception": false,
     "start_time": "2022-08-03T02:16:40.866667",
     "status": "completed"
    },
    "tags": []
   },
   "outputs": [],
   "source": [
    "warnings.filterwarnings(\"error\")"
   ]
  },
  {
   "cell_type": "code",
   "execution_count": 24,
   "id": "44d5450b-3baf-43f1-9e2e-4b06f1a785f8",
   "metadata": {
    "execution": {
     "iopub.execute_input": "2022-08-03T02:16:40.936722Z",
     "iopub.status.busy": "2022-08-03T02:16:40.936544Z",
     "iopub.status.idle": "2022-08-03T02:16:40.953440Z",
     "shell.execute_reply": "2022-08-03T02:16:40.953070Z"
    },
    "papermill": {
     "duration": 0.028999,
     "end_time": "2022-08-03T02:16:40.954767",
     "exception": false,
     "start_time": "2022-08-03T02:16:40.925768",
     "status": "completed"
    },
    "tags": []
   },
   "outputs": [],
   "source": [
    "# standard checks\n",
    "all_chrs = genes_info[\"chr\"].dropna().unique()\n",
    "assert all_chrs.shape[0] == 22\n",
    "\n",
    "# select chromosome given by the user\n",
    "assert CHROMOSOME in all_chrs"
   ]
  },
  {
   "cell_type": "code",
   "execution_count": 25,
   "id": "2d7c043c-92a7-4d35-991b-fa69ac1e0268",
   "metadata": {
    "execution": {
     "iopub.execute_input": "2022-08-03T02:16:40.989256Z",
     "iopub.status.busy": "2022-08-03T02:16:40.989076Z",
     "iopub.status.idle": "2022-08-03T02:16:41.007537Z",
     "shell.execute_reply": "2022-08-03T02:16:41.007131Z"
    },
    "papermill": {
     "duration": 0.030906,
     "end_time": "2022-08-03T02:16:41.008763",
     "exception": false,
     "start_time": "2022-08-03T02:16:40.977857",
     "status": "completed"
    },
    "tags": []
   },
   "outputs": [
    {
     "name": "stdout",
     "output_type": "stream",
     "text": [
      "Number of genes in chromosome: 118\n"
     ]
    }
   ],
   "source": [
    "# run only on the chromosome specified\n",
    "all_chrs = [CHROMOSOME]\n",
    "genes_chr = genes_info[genes_info[\"chr\"] == CHROMOSOME]\n",
    "\n",
    "# For testing purposes\n",
    "# genes_chr = genes_chr.sample(n=20)\n",
    "\n",
    "print(f\"Number of genes in chromosome: {genes_chr.shape[0]}\", flush=True)"
   ]
  },
  {
   "cell_type": "code",
   "execution_count": 26,
   "id": "916015d8-2979-46d3-a9b9-1cf5a0932c6a",
   "metadata": {
    "execution": {
     "iopub.execute_input": "2022-08-03T02:16:41.042631Z",
     "iopub.status.busy": "2022-08-03T02:16:41.042454Z",
     "iopub.status.idle": "2022-08-03T02:16:41.058950Z",
     "shell.execute_reply": "2022-08-03T02:16:41.058557Z"
    },
    "papermill": {
     "duration": 0.039719,
     "end_time": "2022-08-03T02:16:41.060307",
     "exception": false,
     "start_time": "2022-08-03T02:16:41.020588",
     "status": "completed"
    },
    "tags": []
   },
   "outputs": [],
   "source": [
    "# sort genes by starting position to make visualizations better later\n",
    "genes_chr = genes_chr.sort_values(\"start_position\")"
   ]
  },
  {
   "cell_type": "code",
   "execution_count": 27,
   "id": "a38aa74a-8ad3-47f6-8ef9-56be0e011774",
   "metadata": {
    "execution": {
     "iopub.execute_input": "2022-08-03T02:16:41.132626Z",
     "iopub.status.busy": "2022-08-03T02:16:41.132274Z",
     "iopub.status.idle": "2022-08-03T02:16:41.706437Z",
     "shell.execute_reply": "2022-08-03T02:16:41.706026Z"
    },
    "papermill": {
     "duration": 0.634533,
     "end_time": "2022-08-03T02:16:41.707958",
     "exception": false,
     "start_time": "2022-08-03T02:16:41.073425",
     "status": "completed"
    },
    "tags": []
   },
   "outputs": [],
   "source": [
    "gene_chr_objs = [Gene(ensembl_id=gene_id) for gene_id in genes_chr[\"id\"]]"
   ]
  },
  {
   "cell_type": "code",
   "execution_count": 28,
   "id": "570f974f-13c3-42b6-ad3a-ce99ca885c1a",
   "metadata": {
    "execution": {
     "iopub.execute_input": "2022-08-03T02:16:41.749412Z",
     "iopub.status.busy": "2022-08-03T02:16:41.749229Z",
     "iopub.status.idle": "2022-08-03T02:16:41.772638Z",
     "shell.execute_reply": "2022-08-03T02:16:41.772257Z"
    },
    "papermill": {
     "duration": 0.036029,
     "end_time": "2022-08-03T02:16:41.773976",
     "exception": false,
     "start_time": "2022-08-03T02:16:41.737947",
     "status": "completed"
    },
    "tags": []
   },
   "outputs": [
    {
     "name": "stdout",
     "output_type": "stream",
     "text": [
      "Number of gene combinations: 6903\n"
     ]
    }
   ],
   "source": [
    "n = len(gene_chr_objs)\n",
    "n_comb = int(n * (n - 1) / 2.0)\n",
    "print(f\"Number of gene combinations: {n_comb}\", flush=True)"
   ]
  },
  {
   "cell_type": "code",
   "execution_count": 29,
   "id": "cdbb90a1",
   "metadata": {
    "execution": {
     "iopub.execute_input": "2022-08-03T02:16:41.798262Z",
     "iopub.status.busy": "2022-08-03T02:16:41.798084Z",
     "iopub.status.idle": "2022-08-03T02:24:08.078215Z",
     "shell.execute_reply": "2022-08-03T02:24:08.076679Z"
    },
    "papermill": {
     "duration": 446.298196,
     "end_time": "2022-08-03T02:24:08.082301",
     "exception": false,
     "start_time": "2022-08-03T02:16:41.784105",
     "status": "completed"
    },
    "tags": []
   },
   "outputs": [
    {
     "name": "stderr",
     "output_type": "stream",
     "text": [
      "ENSG00000130177 / ENSG00000169062: 100%|████████████████████████| 6903/6903 [07:26<00:00, 15.48it/s]\n"
     ]
    },
    {
     "data": {
      "text/plain": [
       "PosixPath('/project/ritchie20/projects/phenoplier/base/results/gls/gene_corrs/cohorts/1000g_eur/gtex_v8/mashr/by_chr/gene_corrs-chr13.pkl')"
      ]
     },
     "metadata": {},
     "output_type": "display_data"
    }
   ],
   "source": [
    "gene_corrs = []\n",
    "\n",
    "i = 0\n",
    "with tqdm(ncols=100, total=n_comb) as pbar:\n",
    "    for gene1_idx in range(0, len(gene_chr_objs) - 1):\n",
    "        gene1_obj = gene_chr_objs[gene1_idx]\n",
    "        gene1_tissues = spredixcan_genes_models.loc[gene1_obj.ensembl_id, \"tissue\"]\n",
    "\n",
    "        for gene2_idx in range(gene1_idx + 1, len(gene_chr_objs)):\n",
    "            gene2_obj = gene_chr_objs[gene2_idx]\n",
    "            gene2_tissues = spredixcan_genes_models.loc[gene2_obj.ensembl_id, \"tissue\"]\n",
    "\n",
    "            pbar.set_description(f\"{gene1_obj.ensembl_id} / {gene2_obj.ensembl_id}\")\n",
    "\n",
    "            try:\n",
    "                r = gene1_obj.get_ssm_correlation(\n",
    "                    other_gene=gene2_obj,\n",
    "                    tissues=gene1_tissues,\n",
    "                    other_tissues=gene2_tissues,\n",
    "                    snps_subset=gwas_variants_ids_set,\n",
    "                    condition_number=SMULTIXCAN_CONDITION_NUMBER,\n",
    "                    reference_panel=REFERENCE_PANEL,\n",
    "                    model_type=EQTL_MODEL,\n",
    "                    use_within_distance=COMPUTE_CORRELATIONS_WITHIN_DISTANCE,\n",
    "                )\n",
    "\n",
    "                if r is None:\n",
    "                    # if r is None, it's very likely because:\n",
    "                    #  * one of the genes has no prediction models\n",
    "                    #  * all the SNPs predictors for the gene are not present in the reference\n",
    "                    #    panel\n",
    "\n",
    "                    r = 0.0\n",
    "\n",
    "                gene_corrs.append(r)\n",
    "            except Warning as e:\n",
    "                if not DEBUG_MODE:\n",
    "                    raise e\n",
    "\n",
    "                print(\n",
    "                    f\"RuntimeWarning for genes {gene1_obj.ensembl_id} and {gene2_obj.ensembl_id}\",\n",
    "                    flush=True,\n",
    "                )\n",
    "                print(traceback.format_exc(), flush=True)\n",
    "\n",
    "                gene_corrs.append(np.nan)\n",
    "            except Exception as e:\n",
    "                if not DEBUG_MODE:\n",
    "                    raise e\n",
    "\n",
    "                print(\n",
    "                    f\"Exception for genes {gene1_obj.ensembl_id} and {gene2_obj.ensembl_id}\",\n",
    "                    flush=True,\n",
    "                )\n",
    "                print(traceback.format_exc(), flush=True)\n",
    "\n",
    "                gene_corrs.append(np.nan)\n",
    "\n",
    "            pbar.update(1)\n",
    "\n",
    "# create a pandas series\n",
    "gene_corrs_flat = pd.Series(gene_corrs)\n",
    "\n",
    "# save\n",
    "# FIXME: consider saving only the condenced matrix here. See here for\n",
    "# more details: https://github.com/greenelab/phenoplier/pull/38#discussion_r634600813\n",
    "gene_corrs_data = squareform(np.array(gene_corrs, dtype=np.float64))\n",
    "np.fill_diagonal(gene_corrs_data, 1.0)\n",
    "\n",
    "gene_chr_ids = [g.ensembl_id for g in gene_chr_objs]\n",
    "gene_corrs_df = pd.DataFrame(\n",
    "    data=gene_corrs_data,\n",
    "    index=gene_chr_ids,\n",
    "    columns=gene_chr_ids,\n",
    ")\n",
    "\n",
    "output_dir.mkdir(exist_ok=True, parents=True)\n",
    "display(output_file)\n",
    "\n",
    "gene_corrs_df.to_pickle(output_file)"
   ]
  },
  {
   "cell_type": "markdown",
   "id": "faa67b51-5373-470f-aa72-2ded53fa6dfe",
   "metadata": {
    "papermill": {
     "duration": 0.354276,
     "end_time": "2022-08-03T02:24:08.840517",
     "exception": false,
     "start_time": "2022-08-03T02:24:08.486241",
     "status": "completed"
    },
    "tags": []
   },
   "source": [
    "# Testing"
   ]
  },
  {
   "cell_type": "code",
   "execution_count": 30,
   "id": "14f7d046-4b55-4896-a56b-990127bcc388",
   "metadata": {
    "execution": {
     "iopub.execute_input": "2022-08-03T02:24:09.490225Z",
     "iopub.status.busy": "2022-08-03T02:24:09.489972Z",
     "iopub.status.idle": "2022-08-03T02:24:09.731385Z",
     "shell.execute_reply": "2022-08-03T02:24:09.730965Z"
    },
    "papermill": {
     "duration": 0.57149,
     "end_time": "2022-08-03T02:24:09.732767",
     "exception": false,
     "start_time": "2022-08-03T02:24:09.161277",
     "status": "completed"
    },
    "tags": []
   },
   "outputs": [
    {
     "data": {
      "text/plain": [
       "(118, 118)"
      ]
     },
     "execution_count": 30,
     "metadata": {},
     "output_type": "execute_result"
    }
   ],
   "source": [
    "gene_corrs_df.shape"
   ]
  },
  {
   "cell_type": "code",
   "execution_count": 31,
   "id": "c7d15414-3297-4537-a7c6-7588c0baeb75",
   "metadata": {
    "execution": {
     "iopub.execute_input": "2022-08-03T02:24:10.427197Z",
     "iopub.status.busy": "2022-08-03T02:24:10.426944Z",
     "iopub.status.idle": "2022-08-03T02:24:10.459752Z",
     "shell.execute_reply": "2022-08-03T02:24:10.459325Z"
    },
    "papermill": {
     "duration": 0.358063,
     "end_time": "2022-08-03T02:24:10.461063",
     "exception": false,
     "start_time": "2022-08-03T02:24:10.103000",
     "status": "completed"
    },
    "tags": []
   },
   "outputs": [
    {
     "data": {
      "text/html": [
       "<div>\n",
       "<style scoped>\n",
       "    .dataframe tbody tr th:only-of-type {\n",
       "        vertical-align: middle;\n",
       "    }\n",
       "\n",
       "    .dataframe tbody tr th {\n",
       "        vertical-align: top;\n",
       "    }\n",
       "\n",
       "    .dataframe thead th {\n",
       "        text-align: right;\n",
       "    }\n",
       "</style>\n",
       "<table border=\"1\" class=\"dataframe\">\n",
       "  <thead>\n",
       "    <tr style=\"text-align: right;\">\n",
       "      <th></th>\n",
       "      <th>ENSG00000121741</th>\n",
       "      <th>ENSG00000121743</th>\n",
       "      <th>ENSG00000121742</th>\n",
       "      <th>ENSG00000032742</th>\n",
       "      <th>ENSG00000150457</th>\n",
       "      <th>ENSG00000150459</th>\n",
       "      <th>ENSG00000102678</th>\n",
       "      <th>ENSG00000127863</th>\n",
       "      <th>ENSG00000228741</th>\n",
       "      <th>ENSG00000102699</th>\n",
       "      <th>...</th>\n",
       "      <th>ENSG00000126217</th>\n",
       "      <th>ENSG00000057593</th>\n",
       "      <th>ENSG00000126231</th>\n",
       "      <th>ENSG00000139842</th>\n",
       "      <th>ENSG00000185896</th>\n",
       "      <th>ENSG00000198176</th>\n",
       "      <th>ENSG00000183087</th>\n",
       "      <th>ENSG00000185989</th>\n",
       "      <th>ENSG00000130177</th>\n",
       "      <th>ENSG00000169062</th>\n",
       "    </tr>\n",
       "  </thead>\n",
       "  <tbody>\n",
       "    <tr>\n",
       "      <th>ENSG00000121741</th>\n",
       "      <td>1.000000</td>\n",
       "      <td>0.012097</td>\n",
       "      <td>0.011184</td>\n",
       "      <td>0.002933</td>\n",
       "      <td>0.002772</td>\n",
       "      <td>0.002907</td>\n",
       "      <td>0.004328</td>\n",
       "      <td>0.008426</td>\n",
       "      <td>0.008153</td>\n",
       "      <td>0.005306</td>\n",
       "      <td>...</td>\n",
       "      <td>0.002487</td>\n",
       "      <td>0.002328</td>\n",
       "      <td>0.004101</td>\n",
       "      <td>0.002655</td>\n",
       "      <td>0.003584</td>\n",
       "      <td>0.005325</td>\n",
       "      <td>0.005511</td>\n",
       "      <td>0.004851</td>\n",
       "      <td>0.002478</td>\n",
       "      <td>0.001612</td>\n",
       "    </tr>\n",
       "    <tr>\n",
       "      <th>ENSG00000121743</th>\n",
       "      <td>0.012097</td>\n",
       "      <td>1.000000</td>\n",
       "      <td>0.028466</td>\n",
       "      <td>0.009301</td>\n",
       "      <td>0.013014</td>\n",
       "      <td>0.006714</td>\n",
       "      <td>0.003147</td>\n",
       "      <td>0.008373</td>\n",
       "      <td>0.006775</td>\n",
       "      <td>0.006577</td>\n",
       "      <td>...</td>\n",
       "      <td>0.014388</td>\n",
       "      <td>0.005054</td>\n",
       "      <td>0.005796</td>\n",
       "      <td>0.005822</td>\n",
       "      <td>0.007454</td>\n",
       "      <td>0.009804</td>\n",
       "      <td>0.011914</td>\n",
       "      <td>0.009311</td>\n",
       "      <td>0.005826</td>\n",
       "      <td>0.006949</td>\n",
       "    </tr>\n",
       "    <tr>\n",
       "      <th>ENSG00000121742</th>\n",
       "      <td>0.011184</td>\n",
       "      <td>0.028466</td>\n",
       "      <td>1.000000</td>\n",
       "      <td>0.010330</td>\n",
       "      <td>0.005040</td>\n",
       "      <td>0.006599</td>\n",
       "      <td>0.006706</td>\n",
       "      <td>0.012004</td>\n",
       "      <td>0.009493</td>\n",
       "      <td>0.004909</td>\n",
       "      <td>...</td>\n",
       "      <td>0.008468</td>\n",
       "      <td>0.003761</td>\n",
       "      <td>0.008086</td>\n",
       "      <td>0.009492</td>\n",
       "      <td>0.009668</td>\n",
       "      <td>0.007234</td>\n",
       "      <td>0.008366</td>\n",
       "      <td>0.010232</td>\n",
       "      <td>0.002535</td>\n",
       "      <td>0.004487</td>\n",
       "    </tr>\n",
       "    <tr>\n",
       "      <th>ENSG00000032742</th>\n",
       "      <td>0.002933</td>\n",
       "      <td>0.009301</td>\n",
       "      <td>0.010330</td>\n",
       "      <td>1.000000</td>\n",
       "      <td>0.017363</td>\n",
       "      <td>0.008529</td>\n",
       "      <td>0.005442</td>\n",
       "      <td>0.007502</td>\n",
       "      <td>0.008291</td>\n",
       "      <td>0.006997</td>\n",
       "      <td>...</td>\n",
       "      <td>0.008915</td>\n",
       "      <td>0.005578</td>\n",
       "      <td>0.005795</td>\n",
       "      <td>0.005745</td>\n",
       "      <td>0.005541</td>\n",
       "      <td>0.004671</td>\n",
       "      <td>0.006215</td>\n",
       "      <td>0.006101</td>\n",
       "      <td>0.004329</td>\n",
       "      <td>0.009767</td>\n",
       "    </tr>\n",
       "    <tr>\n",
       "      <th>ENSG00000150457</th>\n",
       "      <td>0.002772</td>\n",
       "      <td>0.013014</td>\n",
       "      <td>0.005040</td>\n",
       "      <td>0.017363</td>\n",
       "      <td>1.000000</td>\n",
       "      <td>0.003299</td>\n",
       "      <td>0.009922</td>\n",
       "      <td>0.014383</td>\n",
       "      <td>0.005669</td>\n",
       "      <td>0.005084</td>\n",
       "      <td>...</td>\n",
       "      <td>0.008691</td>\n",
       "      <td>0.006059</td>\n",
       "      <td>0.005640</td>\n",
       "      <td>0.005839</td>\n",
       "      <td>0.005654</td>\n",
       "      <td>0.006113</td>\n",
       "      <td>0.009080</td>\n",
       "      <td>0.005411</td>\n",
       "      <td>0.000850</td>\n",
       "      <td>0.002359</td>\n",
       "    </tr>\n",
       "  </tbody>\n",
       "</table>\n",
       "<p>5 rows × 118 columns</p>\n",
       "</div>"
      ],
      "text/plain": [
       "                 ENSG00000121741  ENSG00000121743  ENSG00000121742  \\\n",
       "ENSG00000121741         1.000000         0.012097         0.011184   \n",
       "ENSG00000121743         0.012097         1.000000         0.028466   \n",
       "ENSG00000121742         0.011184         0.028466         1.000000   \n",
       "ENSG00000032742         0.002933         0.009301         0.010330   \n",
       "ENSG00000150457         0.002772         0.013014         0.005040   \n",
       "\n",
       "                 ENSG00000032742  ENSG00000150457  ENSG00000150459  \\\n",
       "ENSG00000121741         0.002933         0.002772         0.002907   \n",
       "ENSG00000121743         0.009301         0.013014         0.006714   \n",
       "ENSG00000121742         0.010330         0.005040         0.006599   \n",
       "ENSG00000032742         1.000000         0.017363         0.008529   \n",
       "ENSG00000150457         0.017363         1.000000         0.003299   \n",
       "\n",
       "                 ENSG00000102678  ENSG00000127863  ENSG00000228741  \\\n",
       "ENSG00000121741         0.004328         0.008426         0.008153   \n",
       "ENSG00000121743         0.003147         0.008373         0.006775   \n",
       "ENSG00000121742         0.006706         0.012004         0.009493   \n",
       "ENSG00000032742         0.005442         0.007502         0.008291   \n",
       "ENSG00000150457         0.009922         0.014383         0.005669   \n",
       "\n",
       "                 ENSG00000102699  ...  ENSG00000126217  ENSG00000057593  \\\n",
       "ENSG00000121741         0.005306  ...         0.002487         0.002328   \n",
       "ENSG00000121743         0.006577  ...         0.014388         0.005054   \n",
       "ENSG00000121742         0.004909  ...         0.008468         0.003761   \n",
       "ENSG00000032742         0.006997  ...         0.008915         0.005578   \n",
       "ENSG00000150457         0.005084  ...         0.008691         0.006059   \n",
       "\n",
       "                 ENSG00000126231  ENSG00000139842  ENSG00000185896  \\\n",
       "ENSG00000121741         0.004101         0.002655         0.003584   \n",
       "ENSG00000121743         0.005796         0.005822         0.007454   \n",
       "ENSG00000121742         0.008086         0.009492         0.009668   \n",
       "ENSG00000032742         0.005795         0.005745         0.005541   \n",
       "ENSG00000150457         0.005640         0.005839         0.005654   \n",
       "\n",
       "                 ENSG00000198176  ENSG00000183087  ENSG00000185989  \\\n",
       "ENSG00000121741         0.005325         0.005511         0.004851   \n",
       "ENSG00000121743         0.009804         0.011914         0.009311   \n",
       "ENSG00000121742         0.007234         0.008366         0.010232   \n",
       "ENSG00000032742         0.004671         0.006215         0.006101   \n",
       "ENSG00000150457         0.006113         0.009080         0.005411   \n",
       "\n",
       "                 ENSG00000130177  ENSG00000169062  \n",
       "ENSG00000121741         0.002478         0.001612  \n",
       "ENSG00000121743         0.005826         0.006949  \n",
       "ENSG00000121742         0.002535         0.004487  \n",
       "ENSG00000032742         0.004329         0.009767  \n",
       "ENSG00000150457         0.000850         0.002359  \n",
       "\n",
       "[5 rows x 118 columns]"
      ]
     },
     "execution_count": 31,
     "metadata": {},
     "output_type": "execute_result"
    }
   ],
   "source": [
    "gene_corrs_df.head()"
   ]
  },
  {
   "cell_type": "markdown",
   "id": "dad6603f-01c6-41fb-a6f6-241051207dd8",
   "metadata": {
    "papermill": {
     "duration": 0.31964,
     "end_time": "2022-08-03T02:24:11.147829",
     "exception": false,
     "start_time": "2022-08-03T02:24:10.828189",
     "status": "completed"
    },
    "tags": []
   },
   "source": [
    "## Standard checks and stats"
   ]
  },
  {
   "cell_type": "code",
   "execution_count": 32,
   "id": "286686af-1b7b-4440-8453-6bdcbd8de19c",
   "metadata": {
    "execution": {
     "iopub.execute_input": "2022-08-03T02:24:11.819085Z",
     "iopub.status.busy": "2022-08-03T02:24:11.818839Z",
     "iopub.status.idle": "2022-08-03T02:24:11.838625Z",
     "shell.execute_reply": "2022-08-03T02:24:11.838165Z"
    },
    "papermill": {
     "duration": 0.373079,
     "end_time": "2022-08-03T02:24:11.840050",
     "exception": false,
     "start_time": "2022-08-03T02:24:11.466971",
     "status": "completed"
    },
    "tags": []
   },
   "outputs": [],
   "source": [
    "assert not gene_corrs_df.isna().any().any()"
   ]
  },
  {
   "cell_type": "code",
   "execution_count": 33,
   "id": "00583efc-7068-4270-ad1e-4a418e91db96",
   "metadata": {
    "execution": {
     "iopub.execute_input": "2022-08-03T02:24:12.512809Z",
     "iopub.status.busy": "2022-08-03T02:24:12.512563Z",
     "iopub.status.idle": "2022-08-03T02:24:12.533934Z",
     "shell.execute_reply": "2022-08-03T02:24:12.533521Z"
    },
    "papermill": {
     "duration": 0.375222,
     "end_time": "2022-08-03T02:24:12.535208",
     "exception": false,
     "start_time": "2022-08-03T02:24:12.159986",
     "status": "completed"
    },
    "tags": []
   },
   "outputs": [
    {
     "data": {
      "text/plain": [
       "2.699395436490206e-05"
      ]
     },
     "metadata": {},
     "output_type": "display_data"
    }
   ],
   "source": [
    "_min_val = gene_corrs_df.min().min()\n",
    "display(_min_val)\n",
    "assert _min_val >= 0.0"
   ]
  },
  {
   "cell_type": "code",
   "execution_count": 34,
   "id": "d04fb2cf-1050-475b-b855-f5f7cc04092b",
   "metadata": {
    "execution": {
     "iopub.execute_input": "2022-08-03T02:24:13.214136Z",
     "iopub.status.busy": "2022-08-03T02:24:13.213889Z",
     "iopub.status.idle": "2022-08-03T02:24:13.235013Z",
     "shell.execute_reply": "2022-08-03T02:24:13.234613Z"
    },
    "papermill": {
     "duration": 0.38247,
     "end_time": "2022-08-03T02:24:13.236311",
     "exception": false,
     "start_time": "2022-08-03T02:24:12.853841",
     "status": "completed"
    },
    "tags": []
   },
   "outputs": [
    {
     "data": {
      "text/plain": [
       "1.0"
      ]
     },
     "metadata": {},
     "output_type": "display_data"
    }
   ],
   "source": [
    "_max_val = gene_corrs_df.max().max()  # this captures the diagonal\n",
    "display(_max_val)\n",
    "assert _max_val <= 1.0"
   ]
  },
  {
   "cell_type": "code",
   "execution_count": 35,
   "id": "96d02c44-1fba-47be-8a93-8f2608420b9c",
   "metadata": {
    "execution": {
     "iopub.execute_input": "2022-08-03T02:24:13.877076Z",
     "iopub.status.busy": "2022-08-03T02:24:13.876824Z",
     "iopub.status.idle": "2022-08-03T02:24:13.896085Z",
     "shell.execute_reply": "2022-08-03T02:24:13.895674Z"
    },
    "papermill": {
     "duration": 0.339592,
     "end_time": "2022-08-03T02:24:13.897520",
     "exception": false,
     "start_time": "2022-08-03T02:24:13.557928",
     "status": "completed"
    },
    "tags": []
   },
   "outputs": [],
   "source": [
    "# check upper triangular values\n",
    "assert len(gene_corrs) == int(genes_chr.shape[0] * (genes_chr.shape[0] - 1) / 2)"
   ]
  },
  {
   "cell_type": "code",
   "execution_count": 36,
   "id": "fe283586-c348-40e0-8841-f6d97bfb021c",
   "metadata": {
    "execution": {
     "iopub.execute_input": "2022-08-03T02:24:14.572828Z",
     "iopub.status.busy": "2022-08-03T02:24:14.572580Z",
     "iopub.status.idle": "2022-08-03T02:24:14.601788Z",
     "shell.execute_reply": "2022-08-03T02:24:14.601358Z"
    },
    "papermill": {
     "duration": 0.354295,
     "end_time": "2022-08-03T02:24:14.603083",
     "exception": false,
     "start_time": "2022-08-03T02:24:14.248788",
     "status": "completed"
    },
    "tags": []
   },
   "outputs": [
    {
     "data": {
      "text/plain": [
       "count    6903.000000\n",
       "mean        0.009915\n",
       "std         0.036872\n",
       "min         0.000027\n",
       "25%         0.004390\n",
       "50%         0.006488\n",
       "75%         0.008907\n",
       "max         0.985596\n",
       "dtype: float64"
      ]
     },
     "execution_count": 36,
     "metadata": {},
     "output_type": "execute_result"
    }
   ],
   "source": [
    "gene_corrs_flat.describe()"
   ]
  },
  {
   "cell_type": "code",
   "execution_count": 37,
   "id": "b3815678-0f93-4b35-897b-a9d047a2aa78",
   "metadata": {
    "execution": {
     "iopub.execute_input": "2022-08-03T02:24:15.284561Z",
     "iopub.status.busy": "2022-08-03T02:24:15.284308Z",
     "iopub.status.idle": "2022-08-03T02:24:15.306628Z",
     "shell.execute_reply": "2022-08-03T02:24:15.306210Z"
    },
    "papermill": {
     "duration": 0.343138,
     "end_time": "2022-08-03T02:24:15.307840",
     "exception": false,
     "start_time": "2022-08-03T02:24:14.964702",
     "status": "completed"
    },
    "tags": []
   },
   "outputs": [
    {
     "data": {
      "text/plain": [
       "0.00    0.000027\n",
       "0.05    0.002059\n",
       "0.10    0.002882\n",
       "0.15    0.003443\n",
       "0.20    0.003911\n",
       "0.25    0.004390\n",
       "0.30    0.004850\n",
       "0.35    0.005280\n",
       "0.40    0.005681\n",
       "0.45    0.006089\n",
       "0.50    0.006488\n",
       "0.55    0.006946\n",
       "0.60    0.007338\n",
       "0.65    0.007798\n",
       "0.70    0.008312\n",
       "0.75    0.008907\n",
       "0.80    0.009517\n",
       "0.85    0.010254\n",
       "0.90    0.011367\n",
       "0.95    0.013160\n",
       "dtype: float64"
      ]
     },
     "metadata": {},
     "output_type": "display_data"
    }
   ],
   "source": [
    "gene_corrs_quantiles = gene_corrs_flat.quantile(np.arange(0, 1, 0.05))\n",
    "display(gene_corrs_quantiles)"
   ]
  },
  {
   "cell_type": "markdown",
   "id": "87134509-b145-4a10-8bc9-b7e914c2b0fa",
   "metadata": {
    "papermill": {
     "duration": 0.320386,
     "end_time": "2022-08-03T02:24:15.993326",
     "exception": false,
     "start_time": "2022-08-03T02:24:15.672940",
     "status": "completed"
    },
    "tags": []
   },
   "source": [
    "## Positive definiteness"
   ]
  },
  {
   "cell_type": "code",
   "execution_count": 38,
   "id": "07d9a9a1-a4f7-48aa-b916-6d42a8cc6186",
   "metadata": {
    "execution": {
     "iopub.execute_input": "2022-08-03T02:24:16.667066Z",
     "iopub.status.busy": "2022-08-03T02:24:16.666817Z",
     "iopub.status.idle": "2022-08-03T02:24:16.692330Z",
     "shell.execute_reply": "2022-08-03T02:24:16.691922Z"
    },
    "papermill": {
     "duration": 0.379871,
     "end_time": "2022-08-03T02:24:16.693581",
     "exception": false,
     "start_time": "2022-08-03T02:24:16.313710",
     "status": "completed"
    },
    "tags": []
   },
   "outputs": [
    {
     "data": {
      "text/plain": [
       "0"
      ]
     },
     "metadata": {},
     "output_type": "display_data"
    },
    {
     "data": {
      "text/plain": [
       "array([], dtype=float64)"
      ]
     },
     "metadata": {},
     "output_type": "display_data"
    }
   ],
   "source": [
    "# print negative eigenvalues\n",
    "eigs = np.linalg.eigvals(gene_corrs_df.to_numpy())\n",
    "display(len(eigs[eigs < 0]))\n",
    "display(eigs[eigs < 0])"
   ]
  },
  {
   "cell_type": "code",
   "execution_count": 39,
   "id": "6e218436-c3c5-4028-8c94-a4fa6260efce",
   "metadata": {
    "execution": {
     "iopub.execute_input": "2022-08-03T02:24:17.365829Z",
     "iopub.status.busy": "2022-08-03T02:24:17.365585Z",
     "iopub.status.idle": "2022-08-03T02:24:17.386853Z",
     "shell.execute_reply": "2022-08-03T02:24:17.386429Z"
    },
    "papermill": {
     "duration": 0.373586,
     "end_time": "2022-08-03T02:24:17.388099",
     "exception": false,
     "start_time": "2022-08-03T02:24:17.014513",
     "status": "completed"
    },
    "tags": []
   },
   "outputs": [
    {
     "name": "stdout",
     "output_type": "stream",
     "text": [
      "Works!\n"
     ]
    }
   ],
   "source": [
    "try:\n",
    "    chol_mat = np.linalg.cholesky(gene_corrs_df.to_numpy())\n",
    "    cov_inv = np.linalg.inv(chol_mat)\n",
    "    print(\"Works!\")\n",
    "except:\n",
    "    print(\"Cholesky decomposition failed\")"
   ]
  },
  {
   "cell_type": "markdown",
   "id": "8e60a080-edb2-4e9c-b2ef-22961693200c",
   "metadata": {
    "papermill": {
     "duration": 0.319996,
     "end_time": "2022-08-03T02:24:18.034747",
     "exception": false,
     "start_time": "2022-08-03T02:24:17.714751",
     "status": "completed"
    },
    "tags": []
   },
   "source": [
    "## Plot: distribution"
   ]
  },
  {
   "cell_type": "code",
   "execution_count": 40,
   "id": "8301126b-a7d4-4744-9c7d-f0f86eb6f54c",
   "metadata": {
    "execution": {
     "iopub.execute_input": "2022-08-03T02:24:18.714907Z",
     "iopub.status.busy": "2022-08-03T02:24:18.714653Z",
     "iopub.status.idle": "2022-08-03T02:24:22.675010Z",
     "shell.execute_reply": "2022-08-03T02:24:22.674486Z"
    },
    "papermill": {
     "duration": 4.287208,
     "end_time": "2022-08-03T02:24:22.676627",
     "exception": false,
     "start_time": "2022-08-03T02:24:18.389419",
     "status": "completed"
    },
    "tags": []
   },
   "outputs": [
    {
     "data": {
      "image/png": "[encoded data removed]",
      "text/plain": [
       "<Figure size 504x504 with 1 Axes>"
      ]
     },
     "metadata": {
      "needs_background": "light"
     },
     "output_type": "display_data"
    }
   ],
   "source": [
    "with sns.plotting_context(\"paper\", font_scale=1.5):\n",
    "    g = sns.displot(gene_corrs_flat, kde=True, height=7)\n",
    "    g.ax.set_title(\n",
    "        f\"Distribution of gene correlation values in chromosome {CHROMOSOME}\"\n",
    "    )"
   ]
  },
  {
   "cell_type": "markdown",
   "id": "cbd52bca-d878-4a2f-b684-5c83aa3038d4",
   "metadata": {
    "papermill": {
     "duration": 0.331942,
     "end_time": "2022-08-03T02:24:23.372202",
     "exception": false,
     "start_time": "2022-08-03T02:24:23.040260",
     "status": "completed"
    },
    "tags": []
   },
   "source": [
    "## Plot: heatmap"
   ]
  },
  {
   "cell_type": "code",
   "execution_count": 41,
   "id": "d03fe63a-c7b2-4fb9-a53c-db362ce843c9",
   "metadata": {
    "execution": {
     "iopub.execute_input": "2022-08-03T02:24:24.046564Z",
     "iopub.status.busy": "2022-08-03T02:24:24.046294Z",
     "iopub.status.idle": "2022-08-03T02:24:24.140943Z",
     "shell.execute_reply": "2022-08-03T02:24:24.140511Z"
    },
    "papermill": {
     "duration": 0.414818,
     "end_time": "2022-08-03T02:24:24.142232",
     "exception": false,
     "start_time": "2022-08-03T02:24:23.727414",
     "status": "completed"
    },
    "tags": []
   },
   "outputs": [
    {
     "data": {
      "text/plain": [
       "'0.0 / 0.05'"
      ]
     },
     "metadata": {},
     "output_type": "display_data"
    }
   ],
   "source": [
    "vmin_val = min(0.00, gene_corrs_quantiles[0.10])\n",
    "vmax_val = max(0.05, gene_corrs_quantiles[0.90])\n",
    "display(f\"{vmin_val} / {vmax_val}\")"
   ]
  },
  {
   "cell_type": "code",
   "execution_count": 42,
   "id": "dc41b70b-5bcc-4d9e-9f33-a22c4a94dab5",
   "metadata": {
    "execution": {
     "iopub.execute_input": "2022-08-03T02:24:24.815688Z",
     "iopub.status.busy": "2022-08-03T02:24:24.815429Z",
     "iopub.status.idle": "2022-08-03T02:24:24.962543Z",
     "shell.execute_reply": "2022-08-03T02:24:24.962094Z"
    },
    "papermill": {
     "duration": 0.498198,
     "end_time": "2022-08-03T02:24:24.963984",
     "exception": false,
     "start_time": "2022-08-03T02:24:24.465786",
     "status": "completed"
    },
    "tags": []
   },
   "outputs": [
    {
     "data": {
      "text/plain": [
       "Text(0.5, 1.0, 'Gene correlations in chromosome 13')"
      ]
     },
     "execution_count": 42,
     "metadata": {},
     "output_type": "execute_result"
    },
    {
     "data": {
      "image/png": "[encoded data removed]",
      "text/plain": [
       "<Figure size 720x720 with 2 Axes>"
      ]
     },
     "metadata": {
      "needs_background": "light"
     },
     "output_type": "display_data"
    }
   ],
   "source": [
    "f, ax = plt.subplots(figsize=(10, 10))\n",
    "sns.heatmap(\n",
    "    gene_corrs_df,\n",
    "    xticklabels=False,\n",
    "    yticklabels=False,\n",
    "    square=True,\n",
    "    vmin=vmin_val,\n",
    "    vmax=vmax_val,\n",
    "    cmap=\"rocket_r\",\n",
    "    ax=ax,\n",
    ")\n",
    "ax.set_title(f\"Gene correlations in chromosome {CHROMOSOME}\")"
   ]
  },
  {
   "cell_type": "code",
   "execution_count": null,
   "id": "b25e3ead",
   "metadata": {
    "papermill": {
     "duration": 0.351886,
     "end_time": "2022-08-03T02:24:25.636952",
     "exception": false,
     "start_time": "2022-08-03T02:24:25.285066",
     "status": "completed"
    },
    "tags": []
   },
   "outputs": [],
   "source": []
  }
 ],
 "metadata": {
  "jupytext": {
   "cell_metadata_filter": "all,-execution,-papermill,-trusted",
   "formats": "ipynb,py//py:percent"
  },
  "kernelspec": {
   "display_name": "Python 3 (ipykernel)",
   "language": "python",
   "name": "python3"
  },
  "language_info": {
   "codemirror_mode": {
    "name": "ipython",
    "version": 3
   },
   "file_extension": ".py",
   "mimetype": "text/x-python",
   "name": "python",
   "nbconvert_exporter": "python",
   "pygments_lexer": "ipython3",
   "version": "3.8.13"
  },
  "papermill": {
   "default_parameters": {},
   "duration": 479.925261,
   "end_time": "2022-08-03T02:24:29.566664",
   "environment_variables": {},
   "exception": null,
   "input_path": "nbs/15_gsa_gls/10-gene_expr_correlations.ipynb",
   "output_path": "nbs/15_gsa_gls/gene_corrs/cohorts/1000g_eur/gtex_v8/mashr/10-gene_expr_correlations-chr13.run.ipynb",
   "parameters": {
    "CHROMOSOME": 13,
    "COHORT_NAME": "1000G_EUR",
    "EQTL_MODEL": "MASHR",
    "REFERENCE_PANEL": "GTEX_V8"
   },
   "start_time": "2022-08-03T02:16:29.641403",
   "version": "2.2.2"
  }
 },
 "nbformat": 4,
 "nbformat_minor": 5
}
