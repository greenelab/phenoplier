{
 "cells": [
  {
   "cell_type": "markdown",
   "id": "7a6632fb",
   "metadata": {
    "papermill": {
     "duration": 0.036842,
     "end_time": "2022-07-22T03:10:34.270994",
     "exception": false,
     "start_time": "2022-07-22T03:10:34.234152",
     "status": "completed"
    },
    "tags": []
   },
   "source": [
    "# Description"
   ]
  },
  {
   "cell_type": "markdown",
   "id": "7097c346",
   "metadata": {
    "papermill": {
     "duration": 0.011794,
     "end_time": "2022-07-22T03:10:34.298766",
     "exception": false,
     "start_time": "2022-07-22T03:10:34.286972",
     "status": "completed"
    },
    "tags": []
   },
   "source": [
    "(Please, take a look at the README.md file in this directory for instructions on how to run this notebook)\n",
    "\n",
    "**TODO:** update\n",
    "\n",
    "This notebook computes predicted expression correlations between all genes in the MultiPLIER models.\n",
    "\n",
    "It also has a parameter set for papermill to run on a single chromosome to run in parallel (see under `Settings` below).\n",
    "\n",
    "This notebook is not directly run. See README.md."
   ]
  },
  {
   "cell_type": "markdown",
   "id": "c61d8427",
   "metadata": {
    "papermill": {
     "duration": 0.010454,
     "end_time": "2022-07-22T03:10:34.345540",
     "exception": false,
     "start_time": "2022-07-22T03:10:34.335086",
     "status": "completed"
    },
    "tags": []
   },
   "source": [
    "# Modules"
   ]
  },
  {
   "cell_type": "code",
   "execution_count": 1,
   "id": "bbc0234f",
   "metadata": {
    "execution": {
     "iopub.execute_input": "2022-07-22T03:10:34.367319Z",
     "iopub.status.busy": "2022-07-22T03:10:34.367115Z",
     "iopub.status.idle": "2022-07-22T03:10:34.382688Z",
     "shell.execute_reply": "2022-07-22T03:10:34.382106Z"
    },
    "papermill": {
     "duration": 0.028163,
     "end_time": "2022-07-22T03:10:34.384169",
     "exception": false,
     "start_time": "2022-07-22T03:10:34.356006",
     "status": "completed"
    },
    "tags": []
   },
   "outputs": [],
   "source": [
    "%load_ext autoreload\n",
    "%autoreload 2"
   ]
  },
  {
   "cell_type": "code",
   "execution_count": 2,
   "id": "1d5f5a59",
   "metadata": {
    "execution": {
     "iopub.execute_input": "2022-07-22T03:10:34.404223Z",
     "iopub.status.busy": "2022-07-22T03:10:34.404058Z",
     "iopub.status.idle": "2022-07-22T03:10:34.858833Z",
     "shell.execute_reply": "2022-07-22T03:10:34.858243Z"
    },
    "papermill": {
     "duration": 0.466362,
     "end_time": "2022-07-22T03:10:34.860286",
     "exception": false,
     "start_time": "2022-07-22T03:10:34.393924",
     "status": "completed"
    },
    "tags": []
   },
   "outputs": [],
   "source": [
    "# from random import sample, seed\n",
    "# import warnings\n",
    "from pathlib import Path\n",
    "import pickle\n",
    "\n",
    "import numpy as np\n",
    "\n",
    "# from scipy.spatial.distance import squareform\n",
    "import pandas as pd\n",
    "from tqdm import tqdm\n",
    "\n",
    "# import matplotlib.pyplot as plt\n",
    "# import seaborn as sns\n",
    "\n",
    "import conf\n",
    "from entity import Gene"
   ]
  },
  {
   "cell_type": "markdown",
   "id": "1eac24b5",
   "metadata": {
    "papermill": {
     "duration": 0.008418,
     "end_time": "2022-07-22T03:10:34.877774",
     "exception": false,
     "start_time": "2022-07-22T03:10:34.869356",
     "status": "completed"
    },
    "tags": []
   },
   "source": [
    "# Settings"
   ]
  },
  {
   "cell_type": "code",
   "execution_count": 3,
   "id": "ca4560ba",
   "metadata": {
    "execution": {
     "iopub.execute_input": "2022-07-22T03:10:34.895877Z",
     "iopub.status.busy": "2022-07-22T03:10:34.895661Z",
     "iopub.status.idle": "2022-07-22T03:10:34.907859Z",
     "shell.execute_reply": "2022-07-22T03:10:34.907275Z"
    },
    "papermill": {
     "duration": 0.023033,
     "end_time": "2022-07-22T03:10:34.909134",
     "exception": false,
     "start_time": "2022-07-22T03:10:34.886101",
     "status": "completed"
    },
    "tags": [
     "parameters"
    ]
   },
   "outputs": [],
   "source": [
    "# a cohort name (it could be something like UK_BIOBANK, etc)\n",
    "COHORT_NAME = None\n",
    "\n",
    "# a string with a path pointing to an imputed GWAS\n",
    "GWAS_FILE = None\n",
    "\n",
    "# a string with a path pointing where S-PrediXcan results (tissue-specific are located\n",
    "SPREDIXCAN_FOLDER = None\n",
    "\n",
    "# an f-string with one placeholder {tissue}\n",
    "SPREDIXCAN_FILE_PATTERN = None\n",
    "\n",
    "# a string with a path pointing to an S-MultiXcan result\n",
    "SMULTIXCAN_FILE = None\n",
    "\n",
    "# predictions models such as MASHR or ELASTIC_NET\n",
    "EQTL_MODEL = None"
   ]
  },
  {
   "cell_type": "code",
   "execution_count": 4,
   "id": "8221dd18",
   "metadata": {
    "execution": {
     "iopub.execute_input": "2022-07-22T03:10:34.927275Z",
     "iopub.status.busy": "2022-07-22T03:10:34.927121Z",
     "iopub.status.idle": "2022-07-22T03:10:34.938943Z",
     "shell.execute_reply": "2022-07-22T03:10:34.938288Z"
    },
    "papermill": {
     "duration": 0.022307,
     "end_time": "2022-07-22T03:10:34.940203",
     "exception": false,
     "start_time": "2022-07-22T03:10:34.917896",
     "status": "completed"
    },
    "tags": [
     "injected-parameters"
    ]
   },
   "outputs": [],
   "source": [
    "# Parameters\n",
    "COHORT_NAME = \"1000G_EUR\"\n",
    "GWAS_FILE = \"/opt/data/results/gls/null_sims/final_imputed_gwas/random.pheno0.glm-imputed.txt.gz\"\n",
    "SPREDIXCAN_FOLDER = \"/opt/data/results/gls/null_sims/twas/spredixcan/\"\n",
    "SPREDIXCAN_FILE_PATTERN = \"random.pheno0-gtex_v8-mashr-{tissue}.csv\"\n",
    "SMULTIXCAN_FILE = \"/opt/data/results/gls/null_sims/twas/smultixcan/random.pheno0-gtex_v8-mashr-smultixcan.txt\"\n",
    "EQTL_MODEL = \"MASHR\"\n"
   ]
  },
  {
   "cell_type": "code",
   "execution_count": 5,
   "id": "8fe24bef",
   "metadata": {
    "execution": {
     "iopub.execute_input": "2022-07-22T03:10:34.958337Z",
     "iopub.status.busy": "2022-07-22T03:10:34.958181Z",
     "iopub.status.idle": "2022-07-22T03:10:34.974248Z",
     "shell.execute_reply": "2022-07-22T03:10:34.973766Z"
    },
    "papermill": {
     "duration": 0.026471,
     "end_time": "2022-07-22T03:10:34.975417",
     "exception": false,
     "start_time": "2022-07-22T03:10:34.948946",
     "status": "completed"
    },
    "tags": []
   },
   "outputs": [
    {
     "data": {
      "text/plain": [
       "'Cohort name: 1000g_eur'"
      ]
     },
     "metadata": {},
     "output_type": "display_data"
    }
   ],
   "source": [
    "assert COHORT_NAME is not None and len(COHORT_NAME) > 0, \"A cohort name must be given\"\n",
    "\n",
    "COHORT_NAME = COHORT_NAME.lower()\n",
    "display(f\"Cohort name: {COHORT_NAME}\")"
   ]
  },
  {
   "cell_type": "code",
   "execution_count": 6,
   "id": "7a970044-2d34-4e5b-a850-eff44079afe8",
   "metadata": {
    "execution": {
     "iopub.execute_input": "2022-07-22T03:10:34.993956Z",
     "iopub.status.busy": "2022-07-22T03:10:34.993486Z",
     "iopub.status.idle": "2022-07-22T03:10:35.006323Z",
     "shell.execute_reply": "2022-07-22T03:10:35.005816Z"
    },
    "papermill": {
     "duration": 0.02325,
     "end_time": "2022-07-22T03:10:35.007541",
     "exception": false,
     "start_time": "2022-07-22T03:10:34.984291",
     "status": "completed"
    },
    "tags": []
   },
   "outputs": [
    {
     "data": {
      "text/plain": [
       "'GWAS file path: /opt/data/results/gls/null_sims/final_imputed_gwas/random.pheno0.glm-imputed.txt.gz'"
      ]
     },
     "metadata": {},
     "output_type": "display_data"
    }
   ],
   "source": [
    "assert GWAS_FILE is not None and len(GWAS_FILE) > 0, \"A GWAS file path must be given\"\n",
    "GWAS_FILE = Path(GWAS_FILE).resolve()\n",
    "assert GWAS_FILE.exists(), \"GWAS file does not exist\"\n",
    "\n",
    "display(f\"GWAS file path: {str(GWAS_FILE)}\")"
   ]
  },
  {
   "cell_type": "code",
   "execution_count": 7,
   "id": "552a7f63-a18c-4d3e-bb6a-94f99b431291",
   "metadata": {
    "execution": {
     "iopub.execute_input": "2022-07-22T03:10:35.026492Z",
     "iopub.status.busy": "2022-07-22T03:10:35.025817Z",
     "iopub.status.idle": "2022-07-22T03:10:35.038417Z",
     "shell.execute_reply": "2022-07-22T03:10:35.037933Z"
    },
    "papermill": {
     "duration": 0.023422,
     "end_time": "2022-07-22T03:10:35.039731",
     "exception": false,
     "start_time": "2022-07-22T03:10:35.016309",
     "status": "completed"
    },
    "tags": []
   },
   "outputs": [
    {
     "data": {
      "text/plain": [
       "'S-PrediXcan folder path: /opt/data/results/gls/null_sims/twas/spredixcan'"
      ]
     },
     "metadata": {},
     "output_type": "display_data"
    }
   ],
   "source": [
    "assert (\n",
    "    SPREDIXCAN_FOLDER is not None and len(SPREDIXCAN_FOLDER) > 0\n",
    "), \"An S-PrediXcan folder path must be given\"\n",
    "SPREDIXCAN_FOLDER = Path(SPREDIXCAN_FOLDER).resolve()\n",
    "assert SPREDIXCAN_FOLDER.exists(), \"S-PrediXcan folder does not exist\"\n",
    "\n",
    "display(f\"S-PrediXcan folder path: {str(SPREDIXCAN_FOLDER)}\")"
   ]
  },
  {
   "cell_type": "code",
   "execution_count": 8,
   "id": "6e2000dc-f1dc-4db8-93d5-9a7209a2e121",
   "metadata": {
    "execution": {
     "iopub.execute_input": "2022-07-22T03:10:35.058538Z",
     "iopub.status.busy": "2022-07-22T03:10:35.058382Z",
     "iopub.status.idle": "2022-07-22T03:10:35.070666Z",
     "shell.execute_reply": "2022-07-22T03:10:35.070166Z"
    },
    "papermill": {
     "duration": 0.02314,
     "end_time": "2022-07-22T03:10:35.071911",
     "exception": false,
     "start_time": "2022-07-22T03:10:35.048771",
     "status": "completed"
    },
    "tags": []
   },
   "outputs": [
    {
     "data": {
      "text/plain": [
       "'S-PrediXcan file template: random.pheno0-gtex_v8-mashr-{tissue}.csv'"
      ]
     },
     "metadata": {},
     "output_type": "display_data"
    }
   ],
   "source": [
    "assert (\n",
    "    SPREDIXCAN_FILE_PATTERN is not None and len(SPREDIXCAN_FILE_PATTERN) > 0\n",
    "), \"An S-PrediXcan file pattern must be given\"\n",
    "assert (\n",
    "    \"{tissue}\" in SPREDIXCAN_FILE_PATTERN\n",
    "), \"S-PrediXcan file pattern must have a '{tissue}' placeholder\"\n",
    "\n",
    "display(f\"S-PrediXcan file template: {SPREDIXCAN_FILE_PATTERN}\")"
   ]
  },
  {
   "cell_type": "code",
   "execution_count": 9,
   "id": "f5a5aa9d-c6f3-4fb5-9351-37382b6e67bc",
   "metadata": {
    "execution": {
     "iopub.execute_input": "2022-07-22T03:10:35.092477Z",
     "iopub.status.busy": "2022-07-22T03:10:35.092181Z",
     "iopub.status.idle": "2022-07-22T03:10:35.105318Z",
     "shell.execute_reply": "2022-07-22T03:10:35.104686Z"
    },
    "papermill": {
     "duration": 0.025299,
     "end_time": "2022-07-22T03:10:35.106627",
     "exception": false,
     "start_time": "2022-07-22T03:10:35.081328",
     "status": "completed"
    },
    "tags": []
   },
   "outputs": [
    {
     "data": {
      "text/plain": [
       "'S-MultiXcan file path: /opt/data/results/gls/null_sims/twas/smultixcan/random.pheno0-gtex_v8-mashr-smultixcan.txt'"
      ]
     },
     "metadata": {},
     "output_type": "display_data"
    }
   ],
   "source": [
    "assert (\n",
    "    SMULTIXCAN_FILE is not None and len(SMULTIXCAN_FILE) > 0\n",
    "), \"An S-MultiXcan result file path must be given\"\n",
    "SMULTIXCAN_FILE = Path(SMULTIXCAN_FILE).resolve()\n",
    "assert SMULTIXCAN_FILE.exists(), \"S-MultiXcan result file does not exist\"\n",
    "\n",
    "display(f\"S-MultiXcan file path: {str(SMULTIXCAN_FILE)}\")"
   ]
  },
  {
   "cell_type": "code",
   "execution_count": 10,
   "id": "0723dc2f-34d1-407c-a55b-d6d13c55d63d",
   "metadata": {
    "execution": {
     "iopub.execute_input": "2022-07-22T03:10:35.126363Z",
     "iopub.status.busy": "2022-07-22T03:10:35.126202Z",
     "iopub.status.idle": "2022-07-22T03:10:35.138774Z",
     "shell.execute_reply": "2022-07-22T03:10:35.138199Z"
    },
    "papermill": {
     "duration": 0.023723,
     "end_time": "2022-07-22T03:10:35.139916",
     "exception": false,
     "start_time": "2022-07-22T03:10:35.116193",
     "status": "completed"
    },
    "tags": []
   },
   "outputs": [
    {
     "data": {
      "text/plain": [
       "'eQTL model: MASHR'"
      ]
     },
     "metadata": {},
     "output_type": "display_data"
    }
   ],
   "source": [
    "assert (\n",
    "    EQTL_MODEL is not None and len(EQTL_MODEL) > 0\n",
    "), \"A prediction/eQTL model must be given\"\n",
    "\n",
    "display(f\"eQTL model: {EQTL_MODEL}\")"
   ]
  },
  {
   "cell_type": "code",
   "execution_count": 11,
   "id": "396392dc-0340-4540-9b02-e182b833f909",
   "metadata": {
    "execution": {
     "iopub.execute_input": "2022-07-22T03:10:35.160280Z",
     "iopub.status.busy": "2022-07-22T03:10:35.159629Z",
     "iopub.status.idle": "2022-07-22T03:10:35.172379Z",
     "shell.execute_reply": "2022-07-22T03:10:35.171813Z"
    },
    "papermill": {
     "duration": 0.024214,
     "end_time": "2022-07-22T03:10:35.173676",
     "exception": false,
     "start_time": "2022-07-22T03:10:35.149462",
     "status": "completed"
    },
    "tags": []
   },
   "outputs": [
    {
     "data": {
      "text/plain": [
       "'Using output dir base: /opt/data/results/gls/gene_corrs/cohorts/1000g_eur'"
      ]
     },
     "metadata": {},
     "output_type": "display_data"
    }
   ],
   "source": [
    "OUTPUT_DIR_BASE = conf.RESULTS[\"GLS\"] / \"gene_corrs\" / \"cohorts\" / COHORT_NAME\n",
    "OUTPUT_DIR_BASE.mkdir(parents=True, exist_ok=True)\n",
    "\n",
    "display(f\"Using output dir base: {OUTPUT_DIR_BASE}\")"
   ]
  },
  {
   "cell_type": "markdown",
   "id": "b6ebb422-8204-494b-8c72-360a71ce9863",
   "metadata": {
    "papermill": {
     "duration": 0.009061,
     "end_time": "2022-07-22T03:10:35.192113",
     "exception": false,
     "start_time": "2022-07-22T03:10:35.183052",
     "status": "completed"
    },
    "tags": []
   },
   "source": [
    "# Load MultiPLIER Z genes"
   ]
  },
  {
   "cell_type": "code",
   "execution_count": 12,
   "id": "c48ef527",
   "metadata": {
    "execution": {
     "iopub.execute_input": "2022-07-22T03:10:35.211156Z",
     "iopub.status.busy": "2022-07-22T03:10:35.210957Z",
     "iopub.status.idle": "2022-07-22T03:10:35.247990Z",
     "shell.execute_reply": "2022-07-22T03:10:35.247394Z"
    },
    "papermill": {
     "duration": 0.048227,
     "end_time": "2022-07-22T03:10:35.249559",
     "exception": false,
     "start_time": "2022-07-22T03:10:35.201332",
     "status": "completed"
    },
    "tags": []
   },
   "outputs": [],
   "source": [
    "multiplier_z_genes = pd.read_pickle(\n",
    "    conf.MULTIPLIER[\"MODEL_Z_MATRIX_FILE\"]\n",
    ").index.tolist()"
   ]
  },
  {
   "cell_type": "code",
   "execution_count": 13,
   "id": "0a4ecbd9",
   "metadata": {
    "execution": {
     "iopub.execute_input": "2022-07-22T03:10:35.271764Z",
     "iopub.status.busy": "2022-07-22T03:10:35.271592Z",
     "iopub.status.idle": "2022-07-22T03:10:35.284525Z",
     "shell.execute_reply": "2022-07-22T03:10:35.284006Z"
    },
    "papermill": {
     "duration": 0.025462,
     "end_time": "2022-07-22T03:10:35.285818",
     "exception": false,
     "start_time": "2022-07-22T03:10:35.260356",
     "status": "completed"
    },
    "tags": []
   },
   "outputs": [
    {
     "data": {
      "text/plain": [
       "6750"
      ]
     },
     "execution_count": 13,
     "metadata": {},
     "output_type": "execute_result"
    }
   ],
   "source": [
    "len(multiplier_z_genes)"
   ]
  },
  {
   "cell_type": "code",
   "execution_count": 14,
   "id": "a18ce359-0759-4260-ae6f-053e8c0041b7",
   "metadata": {
    "execution": {
     "iopub.execute_input": "2022-07-22T03:10:35.306297Z",
     "iopub.status.busy": "2022-07-22T03:10:35.305920Z",
     "iopub.status.idle": "2022-07-22T03:10:35.318182Z",
     "shell.execute_reply": "2022-07-22T03:10:35.317594Z"
    },
    "papermill": {
     "duration": 0.023857,
     "end_time": "2022-07-22T03:10:35.319502",
     "exception": false,
     "start_time": "2022-07-22T03:10:35.295645",
     "status": "completed"
    },
    "tags": []
   },
   "outputs": [],
   "source": [
    "assert len(multiplier_z_genes) == len(set(multiplier_z_genes))"
   ]
  },
  {
   "cell_type": "code",
   "execution_count": 15,
   "id": "115e8864",
   "metadata": {
    "execution": {
     "iopub.execute_input": "2022-07-22T03:10:35.339873Z",
     "iopub.status.busy": "2022-07-22T03:10:35.339715Z",
     "iopub.status.idle": "2022-07-22T03:10:35.352014Z",
     "shell.execute_reply": "2022-07-22T03:10:35.351602Z"
    },
    "papermill": {
     "duration": 0.023833,
     "end_time": "2022-07-22T03:10:35.353177",
     "exception": false,
     "start_time": "2022-07-22T03:10:35.329344",
     "status": "completed"
    },
    "tags": []
   },
   "outputs": [
    {
     "data": {
      "text/plain": [
       "['GAS6', 'MMP14', 'DSP', 'MARCKSL1', 'SPARC']"
      ]
     },
     "execution_count": 15,
     "metadata": {},
     "output_type": "execute_result"
    }
   ],
   "source": [
    "multiplier_z_genes[:5]"
   ]
  },
  {
   "cell_type": "markdown",
   "id": "7bed0ce0-e7c7-4300-9a61-5412450b1904",
   "metadata": {
    "papermill": {
     "duration": 0.009406,
     "end_time": "2022-07-22T03:10:35.372113",
     "exception": false,
     "start_time": "2022-07-22T03:10:35.362707",
     "status": "completed"
    },
    "tags": []
   },
   "source": [
    "# GWAS"
   ]
  },
  {
   "cell_type": "code",
   "execution_count": 16,
   "id": "331e5691-c014-43e4-b94c-060c64d329df",
   "metadata": {
    "execution": {
     "iopub.execute_input": "2022-07-22T03:10:35.391693Z",
     "iopub.status.busy": "2022-07-22T03:10:35.391491Z",
     "iopub.status.idle": "2022-07-22T03:10:35.408092Z",
     "shell.execute_reply": "2022-07-22T03:10:35.407603Z"
    },
    "papermill": {
     "duration": 0.027889,
     "end_time": "2022-07-22T03:10:35.409425",
     "exception": false,
     "start_time": "2022-07-22T03:10:35.381536",
     "status": "completed"
    },
    "tags": []
   },
   "outputs": [],
   "source": [
    "gwas_file_columns = pd.read_csv(GWAS_FILE, sep=\"\\t\", nrows=2).columns\n",
    "assert (\n",
    "    \"panel_variant_id\" in gwas_file_columns\n",
    "), \"GWAS file must be final imputed one with column 'panel_variant_id'\"\n",
    "# FIXME: add other needed columns here"
   ]
  },
  {
   "cell_type": "code",
   "execution_count": 17,
   "id": "8d419629-8f4d-4c83-bed3-cfc071a58090",
   "metadata": {
    "execution": {
     "iopub.execute_input": "2022-07-22T03:10:35.429218Z",
     "iopub.status.busy": "2022-07-22T03:10:35.429017Z",
     "iopub.status.idle": "2022-07-22T03:10:48.932782Z",
     "shell.execute_reply": "2022-07-22T03:10:48.932194Z"
    },
    "papermill": {
     "duration": 13.515399,
     "end_time": "2022-07-22T03:10:48.934422",
     "exception": false,
     "start_time": "2022-07-22T03:10:35.419023",
     "status": "completed"
    },
    "tags": []
   },
   "outputs": [],
   "source": [
    "gwas_data = pd.read_csv(\n",
    "    GWAS_FILE,\n",
    "    sep=\"\\t\",\n",
    "    usecols=[\"panel_variant_id\", \"pvalue\", \"zscore\", \"imputation_status\"],\n",
    ")"
   ]
  },
  {
   "cell_type": "code",
   "execution_count": 18,
   "id": "3f4e814e-6b41-407e-9099-86795eec6ed9",
   "metadata": {
    "execution": {
     "iopub.execute_input": "2022-07-22T03:10:48.960232Z",
     "iopub.status.busy": "2022-07-22T03:10:48.960046Z",
     "iopub.status.idle": "2022-07-22T03:10:48.974459Z",
     "shell.execute_reply": "2022-07-22T03:10:48.973894Z"
    },
    "papermill": {
     "duration": 0.029005,
     "end_time": "2022-07-22T03:10:48.975901",
     "exception": false,
     "start_time": "2022-07-22T03:10:48.946896",
     "status": "completed"
    },
    "tags": []
   },
   "outputs": [
    {
     "data": {
      "text/plain": [
       "(8339505, 4)"
      ]
     },
     "execution_count": 18,
     "metadata": {},
     "output_type": "execute_result"
    }
   ],
   "source": [
    "gwas_data.shape"
   ]
  },
  {
   "cell_type": "code",
   "execution_count": 19,
   "id": "b4a906e9-c80a-47fc-9d73-5adb046f8b76",
   "metadata": {
    "execution": {
     "iopub.execute_input": "2022-07-22T03:10:48.998037Z",
     "iopub.status.busy": "2022-07-22T03:10:48.997879Z",
     "iopub.status.idle": "2022-07-22T03:10:49.015082Z",
     "shell.execute_reply": "2022-07-22T03:10:49.014613Z"
    },
    "papermill": {
     "duration": 0.0292,
     "end_time": "2022-07-22T03:10:49.016373",
     "exception": false,
     "start_time": "2022-07-22T03:10:48.987173",
     "status": "completed"
    },
    "tags": []
   },
   "outputs": [
    {
     "data": {
      "text/html": [
       "<div>\n",
       "<style scoped>\n",
       "    .dataframe tbody tr th:only-of-type {\n",
       "        vertical-align: middle;\n",
       "    }\n",
       "\n",
       "    .dataframe tbody tr th {\n",
       "        vertical-align: top;\n",
       "    }\n",
       "\n",
       "    .dataframe thead th {\n",
       "        text-align: right;\n",
       "    }\n",
       "</style>\n",
       "<table border=\"1\" class=\"dataframe\">\n",
       "  <thead>\n",
       "    <tr style=\"text-align: right;\">\n",
       "      <th></th>\n",
       "      <th>panel_variant_id</th>\n",
       "      <th>zscore</th>\n",
       "      <th>pvalue</th>\n",
       "      <th>imputation_status</th>\n",
       "    </tr>\n",
       "  </thead>\n",
       "  <tbody>\n",
       "    <tr>\n",
       "      <th>0</th>\n",
       "      <td>chr1_54490_G_A_b38</td>\n",
       "      <td>1.567452</td>\n",
       "      <td>0.117009</td>\n",
       "      <td>original</td>\n",
       "    </tr>\n",
       "    <tr>\n",
       "      <th>1</th>\n",
       "      <td>chr1_87021_T_C_b38</td>\n",
       "      <td>0.244372</td>\n",
       "      <td>0.806943</td>\n",
       "      <td>imputed</td>\n",
       "    </tr>\n",
       "    <tr>\n",
       "      <th>2</th>\n",
       "      <td>chr1_263722_C_G_b38</td>\n",
       "      <td>1.155239</td>\n",
       "      <td>0.247993</td>\n",
       "      <td>imputed</td>\n",
       "    </tr>\n",
       "    <tr>\n",
       "      <th>3</th>\n",
       "      <td>chr1_594402_C_T_b38</td>\n",
       "      <td>0.851234</td>\n",
       "      <td>0.394639</td>\n",
       "      <td>imputed</td>\n",
       "    </tr>\n",
       "    <tr>\n",
       "      <th>4</th>\n",
       "      <td>chr1_630555_C_T_b38</td>\n",
       "      <td>0.855129</td>\n",
       "      <td>0.392480</td>\n",
       "      <td>imputed</td>\n",
       "    </tr>\n",
       "  </tbody>\n",
       "</table>\n",
       "</div>"
      ],
      "text/plain": [
       "      panel_variant_id    zscore    pvalue imputation_status\n",
       "0   chr1_54490_G_A_b38  1.567452  0.117009          original\n",
       "1   chr1_87021_T_C_b38  0.244372  0.806943           imputed\n",
       "2  chr1_263722_C_G_b38  1.155239  0.247993           imputed\n",
       "3  chr1_594402_C_T_b38  0.851234  0.394639           imputed\n",
       "4  chr1_630555_C_T_b38  0.855129  0.392480           imputed"
      ]
     },
     "execution_count": 19,
     "metadata": {},
     "output_type": "execute_result"
    }
   ],
   "source": [
    "gwas_data.head()"
   ]
  },
  {
   "cell_type": "code",
   "execution_count": 20,
   "id": "346e2f88-44c6-4067-8752-118e2491f6fa",
   "metadata": {
    "execution": {
     "iopub.execute_input": "2022-07-22T03:10:49.037067Z",
     "iopub.status.busy": "2022-07-22T03:10:49.036866Z",
     "iopub.status.idle": "2022-07-22T03:10:49.416309Z",
     "shell.execute_reply": "2022-07-22T03:10:49.415634Z"
    },
    "papermill": {
     "duration": 0.390819,
     "end_time": "2022-07-22T03:10:49.417565",
     "exception": false,
     "start_time": "2022-07-22T03:10:49.026746",
     "status": "completed"
    },
    "tags": []
   },
   "outputs": [
    {
     "data": {
      "text/plain": [
       "array(['original', 'imputed'], dtype=object)"
      ]
     },
     "execution_count": 20,
     "metadata": {},
     "output_type": "execute_result"
    }
   ],
   "source": [
    "gwas_data[\"imputation_status\"].unique()"
   ]
  },
  {
   "cell_type": "code",
   "execution_count": 21,
   "id": "033c24fb-9c60-4ffd-929e-b0e6089820ae",
   "metadata": {
    "execution": {
     "iopub.execute_input": "2022-07-22T03:10:49.438005Z",
     "iopub.status.busy": "2022-07-22T03:10:49.437852Z",
     "iopub.status.idle": "2022-07-22T03:10:50.373611Z",
     "shell.execute_reply": "2022-07-22T03:10:50.373005Z"
    },
    "papermill": {
     "duration": 0.947745,
     "end_time": "2022-07-22T03:10:50.375053",
     "exception": false,
     "start_time": "2022-07-22T03:10:49.427308",
     "status": "completed"
    },
    "tags": []
   },
   "outputs": [
    {
     "data": {
      "text/plain": [
       "(8339505, 4)"
      ]
     },
     "execution_count": 21,
     "metadata": {},
     "output_type": "execute_result"
    }
   ],
   "source": [
    "gwas_data.dropna().shape"
   ]
  },
  {
   "cell_type": "code",
   "execution_count": 22,
   "id": "28232ce5-0afd-464e-9be3-64c3a68c2b25",
   "metadata": {
    "execution": {
     "iopub.execute_input": "2022-07-22T03:10:50.400601Z",
     "iopub.status.busy": "2022-07-22T03:10:50.400412Z",
     "iopub.status.idle": "2022-07-22T03:10:51.232625Z",
     "shell.execute_reply": "2022-07-22T03:10:51.231881Z"
    },
    "papermill": {
     "duration": 0.846648,
     "end_time": "2022-07-22T03:10:51.234237",
     "exception": false,
     "start_time": "2022-07-22T03:10:50.387589",
     "status": "completed"
    },
    "tags": []
   },
   "outputs": [],
   "source": [
    "# remove SNPs with no results\n",
    "gwas_data = gwas_data.dropna()"
   ]
  },
  {
   "cell_type": "code",
   "execution_count": 23,
   "id": "d9a6c31f-eedd-43e5-b762-5a9663be1b77",
   "metadata": {
    "execution": {
     "iopub.execute_input": "2022-07-22T03:10:51.258364Z",
     "iopub.status.busy": "2022-07-22T03:10:51.258190Z",
     "iopub.status.idle": "2022-07-22T03:10:51.271907Z",
     "shell.execute_reply": "2022-07-22T03:10:51.271378Z"
    },
    "papermill": {
     "duration": 0.027091,
     "end_time": "2022-07-22T03:10:51.273233",
     "exception": false,
     "start_time": "2022-07-22T03:10:51.246142",
     "status": "completed"
    },
    "tags": []
   },
   "outputs": [
    {
     "data": {
      "text/plain": [
       "(8339505, 4)"
      ]
     },
     "execution_count": 23,
     "metadata": {},
     "output_type": "execute_result"
    }
   ],
   "source": [
    "gwas_data.shape"
   ]
  },
  {
   "cell_type": "markdown",
   "id": "8da344de-2aa5-48a9-98ec-e8c3397ae7e6",
   "metadata": {
    "papermill": {
     "duration": 0.009649,
     "end_time": "2022-07-22T03:10:51.293722",
     "exception": false,
     "start_time": "2022-07-22T03:10:51.284073",
     "status": "completed"
    },
    "tags": []
   },
   "source": [
    "## Save GWAS variants"
   ]
  },
  {
   "cell_type": "code",
   "execution_count": 24,
   "id": "ac11fb33-ea3c-4d5c-a90b-0ceebdac43d3",
   "metadata": {
    "execution": {
     "iopub.execute_input": "2022-07-22T03:10:51.313993Z",
     "iopub.status.busy": "2022-07-22T03:10:51.313785Z",
     "iopub.status.idle": "2022-07-22T03:10:51.330175Z",
     "shell.execute_reply": "2022-07-22T03:10:51.329549Z"
    },
    "papermill": {
     "duration": 0.028236,
     "end_time": "2022-07-22T03:10:51.331470",
     "exception": false,
     "start_time": "2022-07-22T03:10:51.303234",
     "status": "completed"
    },
    "tags": []
   },
   "outputs": [
    {
     "data": {
      "text/html": [
       "<div>\n",
       "<style scoped>\n",
       "    .dataframe tbody tr th:only-of-type {\n",
       "        vertical-align: middle;\n",
       "    }\n",
       "\n",
       "    .dataframe tbody tr th {\n",
       "        vertical-align: top;\n",
       "    }\n",
       "\n",
       "    .dataframe thead th {\n",
       "        text-align: right;\n",
       "    }\n",
       "</style>\n",
       "<table border=\"1\" class=\"dataframe\">\n",
       "  <thead>\n",
       "    <tr style=\"text-align: right;\">\n",
       "      <th></th>\n",
       "      <th>panel_variant_id</th>\n",
       "      <th>zscore</th>\n",
       "      <th>pvalue</th>\n",
       "      <th>imputation_status</th>\n",
       "    </tr>\n",
       "  </thead>\n",
       "  <tbody>\n",
       "    <tr>\n",
       "      <th>0</th>\n",
       "      <td>chr1_54490_G_A_b38</td>\n",
       "      <td>1.567452</td>\n",
       "      <td>0.117009</td>\n",
       "      <td>original</td>\n",
       "    </tr>\n",
       "    <tr>\n",
       "      <th>1</th>\n",
       "      <td>chr1_87021_T_C_b38</td>\n",
       "      <td>0.244372</td>\n",
       "      <td>0.806943</td>\n",
       "      <td>imputed</td>\n",
       "    </tr>\n",
       "    <tr>\n",
       "      <th>2</th>\n",
       "      <td>chr1_263722_C_G_b38</td>\n",
       "      <td>1.155239</td>\n",
       "      <td>0.247993</td>\n",
       "      <td>imputed</td>\n",
       "    </tr>\n",
       "    <tr>\n",
       "      <th>3</th>\n",
       "      <td>chr1_594402_C_T_b38</td>\n",
       "      <td>0.851234</td>\n",
       "      <td>0.394639</td>\n",
       "      <td>imputed</td>\n",
       "    </tr>\n",
       "    <tr>\n",
       "      <th>4</th>\n",
       "      <td>chr1_630555_C_T_b38</td>\n",
       "      <td>0.855129</td>\n",
       "      <td>0.392480</td>\n",
       "      <td>imputed</td>\n",
       "    </tr>\n",
       "  </tbody>\n",
       "</table>\n",
       "</div>"
      ],
      "text/plain": [
       "      panel_variant_id    zscore    pvalue imputation_status\n",
       "0   chr1_54490_G_A_b38  1.567452  0.117009          original\n",
       "1   chr1_87021_T_C_b38  0.244372  0.806943           imputed\n",
       "2  chr1_263722_C_G_b38  1.155239  0.247993           imputed\n",
       "3  chr1_594402_C_T_b38  0.851234  0.394639           imputed\n",
       "4  chr1_630555_C_T_b38  0.855129  0.392480           imputed"
      ]
     },
     "execution_count": 24,
     "metadata": {},
     "output_type": "execute_result"
    }
   ],
   "source": [
    "gwas_data.head()"
   ]
  },
  {
   "cell_type": "code",
   "execution_count": 25,
   "id": "5f34bb3d-761a-4860-a179-77ea5f5784ad",
   "metadata": {
    "execution": {
     "iopub.execute_input": "2022-07-22T03:10:51.352288Z",
     "iopub.status.busy": "2022-07-22T03:10:51.352100Z",
     "iopub.status.idle": "2022-07-22T03:10:55.911702Z",
     "shell.execute_reply": "2022-07-22T03:10:55.910984Z"
    },
    "papermill": {
     "duration": 4.571954,
     "end_time": "2022-07-22T03:10:55.913479",
     "exception": false,
     "start_time": "2022-07-22T03:10:51.341525",
     "status": "completed"
    },
    "tags": []
   },
   "outputs": [],
   "source": [
    "assert gwas_data[\"panel_variant_id\"].is_unique"
   ]
  },
  {
   "cell_type": "code",
   "execution_count": 26,
   "id": "d4f23b2f-01a3-4a45-a2b6-31b245b5778e",
   "metadata": {
    "execution": {
     "iopub.execute_input": "2022-07-22T03:10:55.940179Z",
     "iopub.status.busy": "2022-07-22T03:10:55.939994Z",
     "iopub.status.idle": "2022-07-22T03:10:58.726028Z",
     "shell.execute_reply": "2022-07-22T03:10:58.725046Z"
    },
    "papermill": {
     "duration": 2.801555,
     "end_time": "2022-07-22T03:10:58.728317",
     "exception": false,
     "start_time": "2022-07-22T03:10:55.926762",
     "status": "completed"
    },
    "tags": []
   },
   "outputs": [
    {
     "data": {
      "text/plain": [
       "['chr3_36680774_C_T_b38',\n",
       " 'chr7_8936021_C_G_b38',\n",
       " 'chr17_33558929_G_A_b38',\n",
       " 'chr1_88354607_TAAAAC_T_b38',\n",
       " 'chr8_61816515_T_C_b38']"
      ]
     },
     "execution_count": 26,
     "metadata": {},
     "output_type": "execute_result"
    }
   ],
   "source": [
    "gwas_variants_ids_set = frozenset(gwas_data[\"panel_variant_id\"])\n",
    "list(gwas_variants_ids_set)[:5]"
   ]
  },
  {
   "cell_type": "code",
   "execution_count": 27,
   "id": "b4a441df-07d7-48dc-be36-cdb3f92be651",
   "metadata": {
    "execution": {
     "iopub.execute_input": "2022-07-22T03:10:58.760224Z",
     "iopub.status.busy": "2022-07-22T03:10:58.759937Z",
     "iopub.status.idle": "2022-07-22T03:11:03.019034Z",
     "shell.execute_reply": "2022-07-22T03:11:03.017094Z"
    },
    "papermill": {
     "duration": 4.278125,
     "end_time": "2022-07-22T03:11:03.024029",
     "exception": false,
     "start_time": "2022-07-22T03:10:58.745904",
     "status": "completed"
    },
    "tags": []
   },
   "outputs": [],
   "source": [
    "with open(OUTPUT_DIR_BASE / \"gwas_variant_ids.pkl\", \"wb\") as handle:\n",
    "    pickle.dump(gwas_variants_ids_set, handle, protocol=pickle.HIGHEST_PROTOCOL)"
   ]
  },
  {
   "cell_type": "markdown",
   "id": "abcc4b3d",
   "metadata": {
    "papermill": {
     "duration": 0.014726,
     "end_time": "2022-07-22T03:11:03.050425",
     "exception": false,
     "start_time": "2022-07-22T03:11:03.035699",
     "status": "completed"
    },
    "tags": []
   },
   "source": [
    "# TWAS"
   ]
  },
  {
   "cell_type": "markdown",
   "id": "2fbc7358-0563-4fc6-bc47-a0fbcc5cdfd4",
   "metadata": {
    "papermill": {
     "duration": 0.013165,
     "end_time": "2022-07-22T03:11:03.074875",
     "exception": false,
     "start_time": "2022-07-22T03:11:03.061710",
     "status": "completed"
    },
    "tags": []
   },
   "source": [
    "## Available tissues for eQTL model"
   ]
  },
  {
   "cell_type": "code",
   "execution_count": 28,
   "id": "f32c0a84-030a-436b-b597-852b6150d2ac",
   "metadata": {
    "execution": {
     "iopub.execute_input": "2022-07-22T03:11:03.100263Z",
     "iopub.status.busy": "2022-07-22T03:11:03.100098Z",
     "iopub.status.idle": "2022-07-22T03:11:03.113329Z",
     "shell.execute_reply": "2022-07-22T03:11:03.112783Z"
    },
    "papermill": {
     "duration": 0.027118,
     "end_time": "2022-07-22T03:11:03.114826",
     "exception": false,
     "start_time": "2022-07-22T03:11:03.087708",
     "status": "completed"
    },
    "tags": []
   },
   "outputs": [],
   "source": [
    "prediction_model_tissues = conf.PHENOMEXCAN[\"PREDICTION_MODELS\"][\n",
    "    f\"{EQTL_MODEL}_TISSUES\"\n",
    "].split(\" \")"
   ]
  },
  {
   "cell_type": "code",
   "execution_count": 29,
   "id": "0e760d0e-f23d-4590-abfb-811a43f7c237",
   "metadata": {
    "execution": {
     "iopub.execute_input": "2022-07-22T03:11:03.139600Z",
     "iopub.status.busy": "2022-07-22T03:11:03.139428Z",
     "iopub.status.idle": "2022-07-22T03:11:03.152469Z",
     "shell.execute_reply": "2022-07-22T03:11:03.151950Z"
    },
    "papermill": {
     "duration": 0.026656,
     "end_time": "2022-07-22T03:11:03.153839",
     "exception": false,
     "start_time": "2022-07-22T03:11:03.127183",
     "status": "completed"
    },
    "tags": []
   },
   "outputs": [
    {
     "data": {
      "text/plain": [
       "49"
      ]
     },
     "execution_count": 29,
     "metadata": {},
     "output_type": "execute_result"
    }
   ],
   "source": [
    "len(prediction_model_tissues)"
   ]
  },
  {
   "cell_type": "code",
   "execution_count": 30,
   "id": "fa4d942c-cd67-4b31-9491-585c887c0ee3",
   "metadata": {
    "execution": {
     "iopub.execute_input": "2022-07-22T03:11:03.177786Z",
     "iopub.status.busy": "2022-07-22T03:11:03.177619Z",
     "iopub.status.idle": "2022-07-22T03:11:03.191235Z",
     "shell.execute_reply": "2022-07-22T03:11:03.190649Z"
    },
    "papermill": {
     "duration": 0.027086,
     "end_time": "2022-07-22T03:11:03.192535",
     "exception": false,
     "start_time": "2022-07-22T03:11:03.165449",
     "status": "completed"
    },
    "tags": []
   },
   "outputs": [
    {
     "data": {
      "text/plain": [
       "['Skin_Not_Sun_Exposed_Suprapubic',\n",
       " 'Cells_EBV-transformed_lymphocytes',\n",
       " 'Brain_Frontal_Cortex_BA9',\n",
       " 'Kidney_Cortex',\n",
       " 'Brain_Substantia_nigra']"
      ]
     },
     "execution_count": 30,
     "metadata": {},
     "output_type": "execute_result"
    }
   ],
   "source": [
    "prediction_model_tissues[:5]"
   ]
  },
  {
   "cell_type": "markdown",
   "id": "5b9f384a-5a91-4a8d-9007-cfe43f2d86f8",
   "metadata": {
    "papermill": {
     "duration": 0.010739,
     "end_time": "2022-07-22T03:11:03.215077",
     "exception": false,
     "start_time": "2022-07-22T03:11:03.204338",
     "status": "completed"
    },
    "tags": []
   },
   "source": [
    "## S-PrediXcan results"
   ]
  },
  {
   "cell_type": "markdown",
   "id": "fc0a2a4c-960c-4a0a-9b23-b66c3d5d6e07",
   "metadata": {
    "papermill": {
     "duration": 0.010158,
     "end_time": "2022-07-22T03:11:03.235801",
     "exception": false,
     "start_time": "2022-07-22T03:11:03.225643",
     "status": "completed"
    },
    "tags": []
   },
   "source": [
    "### Load results across all tissues"
   ]
  },
  {
   "cell_type": "code",
   "execution_count": 31,
   "id": "0b4867d7-a608-4b08-9d77-1782be3a0c94",
   "metadata": {
    "execution": {
     "iopub.execute_input": "2022-07-22T03:11:03.257214Z",
     "iopub.status.busy": "2022-07-22T03:11:03.257027Z",
     "iopub.status.idle": "2022-07-22T03:11:03.269411Z",
     "shell.execute_reply": "2022-07-22T03:11:03.268848Z"
    },
    "papermill": {
     "duration": 0.024624,
     "end_time": "2022-07-22T03:11:03.270624",
     "exception": false,
     "start_time": "2022-07-22T03:11:03.246000",
     "status": "completed"
    },
    "tags": []
   },
   "outputs": [],
   "source": [
    "spredixcan_result_files = {\n",
    "    t: SPREDIXCAN_FOLDER / SPREDIXCAN_FILE_PATTERN.format(tissue=t)\n",
    "    for t in prediction_model_tissues\n",
    "}"
   ]
  },
  {
   "cell_type": "code",
   "execution_count": 32,
   "id": "0ce270dd-46ac-4eaa-9d86-2b201d67d82f",
   "metadata": {
    "execution": {
     "iopub.execute_input": "2022-07-22T03:11:03.292233Z",
     "iopub.status.busy": "2022-07-22T03:11:03.292003Z",
     "iopub.status.idle": "2022-07-22T03:11:03.305188Z",
     "shell.execute_reply": "2022-07-22T03:11:03.304669Z"
    },
    "papermill": {
     "duration": 0.025278,
     "end_time": "2022-07-22T03:11:03.306357",
     "exception": false,
     "start_time": "2022-07-22T03:11:03.281079",
     "status": "completed"
    },
    "tags": []
   },
   "outputs": [
    {
     "data": {
      "text/plain": [
       "[PosixPath('/opt/data/results/gls/null_sims/twas/spredixcan/random.pheno0-gtex_v8-mashr-Skin_Not_Sun_Exposed_Suprapubic.csv'),\n",
       " PosixPath('/opt/data/results/gls/null_sims/twas/spredixcan/random.pheno0-gtex_v8-mashr-Cells_EBV-transformed_lymphocytes.csv'),\n",
       " PosixPath('/opt/data/results/gls/null_sims/twas/spredixcan/random.pheno0-gtex_v8-mashr-Brain_Frontal_Cortex_BA9.csv'),\n",
       " PosixPath('/opt/data/results/gls/null_sims/twas/spredixcan/random.pheno0-gtex_v8-mashr-Kidney_Cortex.csv'),\n",
       " PosixPath('/opt/data/results/gls/null_sims/twas/spredixcan/random.pheno0-gtex_v8-mashr-Brain_Substantia_nigra.csv')]"
      ]
     },
     "metadata": {},
     "output_type": "display_data"
    }
   ],
   "source": [
    "assert len(spredixcan_result_files) == len(prediction_model_tissues)\n",
    "display(list(spredixcan_result_files.values())[:5])"
   ]
  },
  {
   "cell_type": "code",
   "execution_count": 33,
   "id": "4381b9ff-6ab5-47f1-89d1-560f88fdf07f",
   "metadata": {
    "execution": {
     "iopub.execute_input": "2022-07-22T03:11:03.328591Z",
     "iopub.status.busy": "2022-07-22T03:11:03.328437Z",
     "iopub.status.idle": "2022-07-22T03:11:03.340578Z",
     "shell.execute_reply": "2022-07-22T03:11:03.339930Z"
    },
    "papermill": {
     "duration": 0.024627,
     "end_time": "2022-07-22T03:11:03.341816",
     "exception": false,
     "start_time": "2022-07-22T03:11:03.317189",
     "status": "completed"
    },
    "tags": []
   },
   "outputs": [],
   "source": [
    "assert all(f.exists() for f in spredixcan_result_files.values())"
   ]
  },
  {
   "cell_type": "code",
   "execution_count": 34,
   "id": "d477157f-51e9-4c7c-b826-7ab5f4fdf3e3",
   "metadata": {
    "execution": {
     "iopub.execute_input": "2022-07-22T03:11:03.364108Z",
     "iopub.status.busy": "2022-07-22T03:11:03.363954Z",
     "iopub.status.idle": "2022-07-22T03:11:04.697818Z",
     "shell.execute_reply": "2022-07-22T03:11:04.697323Z"
    },
    "papermill": {
     "duration": 1.346507,
     "end_time": "2022-07-22T03:11:04.699170",
     "exception": false,
     "start_time": "2022-07-22T03:11:03.352663",
     "status": "completed"
    },
    "tags": []
   },
   "outputs": [],
   "source": [
    "spredixcan_dfs = [\n",
    "    pd.read_csv(f, usecols=[\"gene\", \"zscore\", \"pvalue\"]).dropna().assign(tissue=t)\n",
    "    for t, f in spredixcan_result_files.items()\n",
    "]"
   ]
  },
  {
   "cell_type": "code",
   "execution_count": 35,
   "id": "9730bd37-b769-411f-bb6b-bb658d1ff88c",
   "metadata": {
    "execution": {
     "iopub.execute_input": "2022-07-22T03:11:04.721144Z",
     "iopub.status.busy": "2022-07-22T03:11:04.720960Z",
     "iopub.status.idle": "2022-07-22T03:11:04.733208Z",
     "shell.execute_reply": "2022-07-22T03:11:04.732718Z"
    },
    "papermill": {
     "duration": 0.024407,
     "end_time": "2022-07-22T03:11:04.734406",
     "exception": false,
     "start_time": "2022-07-22T03:11:04.709999",
     "status": "completed"
    },
    "tags": []
   },
   "outputs": [],
   "source": [
    "assert len(spredixcan_dfs) == len(prediction_model_tissues)"
   ]
  },
  {
   "cell_type": "code",
   "execution_count": 36,
   "id": "bcd73f53-1283-4ff6-bbb5-25fb71f5cb72",
   "metadata": {
    "execution": {
     "iopub.execute_input": "2022-07-22T03:11:04.756388Z",
     "iopub.status.busy": "2022-07-22T03:11:04.756188Z",
     "iopub.status.idle": "2022-07-22T03:11:05.267120Z",
     "shell.execute_reply": "2022-07-22T03:11:05.266522Z"
    },
    "papermill": {
     "duration": 0.523564,
     "end_time": "2022-07-22T03:11:05.268742",
     "exception": false,
     "start_time": "2022-07-22T03:11:04.745178",
     "status": "completed"
    },
    "tags": []
   },
   "outputs": [],
   "source": [
    "spredixcan_dfs = pd.concat(spredixcan_dfs)"
   ]
  },
  {
   "cell_type": "code",
   "execution_count": 37,
   "id": "ae99c7b5-14fc-4b39-a6b2-40fc703acd0a",
   "metadata": {
    "execution": {
     "iopub.execute_input": "2022-07-22T03:11:05.296412Z",
     "iopub.status.busy": "2022-07-22T03:11:05.296230Z",
     "iopub.status.idle": "2022-07-22T03:11:05.343384Z",
     "shell.execute_reply": "2022-07-22T03:11:05.342841Z"
    },
    "papermill": {
     "duration": 0.062482,
     "end_time": "2022-07-22T03:11:05.344859",
     "exception": false,
     "start_time": "2022-07-22T03:11:05.282377",
     "status": "completed"
    },
    "tags": []
   },
   "outputs": [],
   "source": [
    "assert spredixcan_dfs[\"tissue\"].unique().shape[0] == len(prediction_model_tissues)"
   ]
  },
  {
   "cell_type": "code",
   "execution_count": 38,
   "id": "b7223a23-e40f-4cd3-8988-72033f8739bd",
   "metadata": {
    "execution": {
     "iopub.execute_input": "2022-07-22T03:11:05.366624Z",
     "iopub.status.busy": "2022-07-22T03:11:05.366423Z",
     "iopub.status.idle": "2022-07-22T03:11:05.378997Z",
     "shell.execute_reply": "2022-07-22T03:11:05.378489Z"
    },
    "papermill": {
     "duration": 0.024702,
     "end_time": "2022-07-22T03:11:05.380180",
     "exception": false,
     "start_time": "2022-07-22T03:11:05.355478",
     "status": "completed"
    },
    "tags": []
   },
   "outputs": [
    {
     "data": {
      "text/plain": [
       "(653140, 4)"
      ]
     },
     "execution_count": 38,
     "metadata": {},
     "output_type": "execute_result"
    }
   ],
   "source": [
    "spredixcan_dfs.shape"
   ]
  },
  {
   "cell_type": "code",
   "execution_count": 39,
   "id": "6b47d026-01c0-4f7c-a90e-f0baa13235f4",
   "metadata": {
    "execution": {
     "iopub.execute_input": "2022-07-22T03:11:05.403381Z",
     "iopub.status.busy": "2022-07-22T03:11:05.402651Z",
     "iopub.status.idle": "2022-07-22T03:11:05.418535Z",
     "shell.execute_reply": "2022-07-22T03:11:05.417978Z"
    },
    "papermill": {
     "duration": 0.028626,
     "end_time": "2022-07-22T03:11:05.419808",
     "exception": false,
     "start_time": "2022-07-22T03:11:05.391182",
     "status": "completed"
    },
    "tags": []
   },
   "outputs": [
    {
     "data": {
      "text/html": [
       "<div>\n",
       "<style scoped>\n",
       "    .dataframe tbody tr th:only-of-type {\n",
       "        vertical-align: middle;\n",
       "    }\n",
       "\n",
       "    .dataframe tbody tr th {\n",
       "        vertical-align: top;\n",
       "    }\n",
       "\n",
       "    .dataframe thead th {\n",
       "        text-align: right;\n",
       "    }\n",
       "</style>\n",
       "<table border=\"1\" class=\"dataframe\">\n",
       "  <thead>\n",
       "    <tr style=\"text-align: right;\">\n",
       "      <th></th>\n",
       "      <th>gene</th>\n",
       "      <th>zscore</th>\n",
       "      <th>pvalue</th>\n",
       "      <th>tissue</th>\n",
       "    </tr>\n",
       "  </thead>\n",
       "  <tbody>\n",
       "    <tr>\n",
       "      <th>0</th>\n",
       "      <td>ENSG00000131236.16</td>\n",
       "      <td>-3.882684</td>\n",
       "      <td>0.000103</td>\n",
       "      <td>Skin_Not_Sun_Exposed_Suprapubic</td>\n",
       "    </tr>\n",
       "    <tr>\n",
       "      <th>1</th>\n",
       "      <td>ENSG00000196172.9</td>\n",
       "      <td>-3.710444</td>\n",
       "      <td>0.000207</td>\n",
       "      <td>Skin_Not_Sun_Exposed_Suprapubic</td>\n",
       "    </tr>\n",
       "    <tr>\n",
       "      <th>2</th>\n",
       "      <td>ENSG00000280789.1</td>\n",
       "      <td>3.403263</td>\n",
       "      <td>0.000666</td>\n",
       "      <td>Skin_Not_Sun_Exposed_Suprapubic</td>\n",
       "    </tr>\n",
       "    <tr>\n",
       "      <th>3</th>\n",
       "      <td>ENSG00000215218.3</td>\n",
       "      <td>3.385093</td>\n",
       "      <td>0.000712</td>\n",
       "      <td>Skin_Not_Sun_Exposed_Suprapubic</td>\n",
       "    </tr>\n",
       "    <tr>\n",
       "      <th>4</th>\n",
       "      <td>ENSG00000167371.17</td>\n",
       "      <td>3.381834</td>\n",
       "      <td>0.000720</td>\n",
       "      <td>Skin_Not_Sun_Exposed_Suprapubic</td>\n",
       "    </tr>\n",
       "  </tbody>\n",
       "</table>\n",
       "</div>"
      ],
      "text/plain": [
       "                 gene    zscore    pvalue                           tissue\n",
       "0  ENSG00000131236.16 -3.882684  0.000103  Skin_Not_Sun_Exposed_Suprapubic\n",
       "1   ENSG00000196172.9 -3.710444  0.000207  Skin_Not_Sun_Exposed_Suprapubic\n",
       "2   ENSG00000280789.1  3.403263  0.000666  Skin_Not_Sun_Exposed_Suprapubic\n",
       "3   ENSG00000215218.3  3.385093  0.000712  Skin_Not_Sun_Exposed_Suprapubic\n",
       "4  ENSG00000167371.17  3.381834  0.000720  Skin_Not_Sun_Exposed_Suprapubic"
      ]
     },
     "execution_count": 39,
     "metadata": {},
     "output_type": "execute_result"
    }
   ],
   "source": [
    "spredixcan_dfs.head()"
   ]
  },
  {
   "cell_type": "markdown",
   "id": "5ecfd141-ecb8-47cf-905e-25cc1b4d3f9d",
   "metadata": {
    "papermill": {
     "duration": 0.010709,
     "end_time": "2022-07-22T03:11:05.441576",
     "exception": false,
     "start_time": "2022-07-22T03:11:05.430867",
     "status": "completed"
    },
    "tags": []
   },
   "source": [
    "### Count number of tissues available per gene"
   ]
  },
  {
   "cell_type": "code",
   "execution_count": 40,
   "id": "86fe37e1-a303-4221-a12e-3a54a04dd510",
   "metadata": {
    "execution": {
     "iopub.execute_input": "2022-07-22T03:11:05.463825Z",
     "iopub.status.busy": "2022-07-22T03:11:05.463572Z",
     "iopub.status.idle": "2022-07-22T03:11:05.673633Z",
     "shell.execute_reply": "2022-07-22T03:11:05.673056Z"
    },
    "papermill": {
     "duration": 0.222961,
     "end_time": "2022-07-22T03:11:05.675252",
     "exception": false,
     "start_time": "2022-07-22T03:11:05.452291",
     "status": "completed"
    },
    "tags": []
   },
   "outputs": [],
   "source": [
    "spredixcan_genes_n_models = spredixcan_dfs.groupby(\"gene\")[\"tissue\"].nunique()"
   ]
  },
  {
   "cell_type": "code",
   "execution_count": 41,
   "id": "31416d48-1e4d-463f-9a5c-34d29803c3f8",
   "metadata": {
    "execution": {
     "iopub.execute_input": "2022-07-22T03:11:05.702666Z",
     "iopub.status.busy": "2022-07-22T03:11:05.702499Z",
     "iopub.status.idle": "2022-07-22T03:11:05.720173Z",
     "shell.execute_reply": "2022-07-22T03:11:05.719609Z"
    },
    "papermill": {
     "duration": 0.032547,
     "end_time": "2022-07-22T03:11:05.721578",
     "exception": false,
     "start_time": "2022-07-22T03:11:05.689031",
     "status": "completed"
    },
    "tags": []
   },
   "outputs": [
    {
     "data": {
      "text/plain": [
       "gene\n",
       "ENSG00000000419.12     2\n",
       "ENSG00000000457.13    48\n",
       "ENSG00000000460.16    39\n",
       "ENSG00000000938.12    36\n",
       "ENSG00000000971.15    34\n",
       "                      ..\n",
       "ENSG00000284430.1      6\n",
       "ENSG00000284452.1      1\n",
       "ENSG00000284513.1      1\n",
       "ENSG00000284526.1     42\n",
       "ENSG00000284552.1      1\n",
       "Name: tissue, Length: 22314, dtype: int64"
      ]
     },
     "execution_count": 41,
     "metadata": {},
     "output_type": "execute_result"
    }
   ],
   "source": [
    "spredixcan_genes_n_models"
   ]
  },
  {
   "cell_type": "markdown",
   "id": "904d7d30-9c2d-4c3e-b674-3f081954fe8b",
   "metadata": {
    "papermill": {
     "duration": 0.011558,
     "end_time": "2022-07-22T03:11:05.745872",
     "exception": false,
     "start_time": "2022-07-22T03:11:05.734314",
     "status": "completed"
    },
    "tags": []
   },
   "source": [
    "### Get tissues available per gene"
   ]
  },
  {
   "cell_type": "code",
   "execution_count": 42,
   "id": "cf014e81-4b4e-4c46-9265-67718b3ab08e",
   "metadata": {
    "execution": {
     "iopub.execute_input": "2022-07-22T03:11:05.768623Z",
     "iopub.status.busy": "2022-07-22T03:11:05.768069Z",
     "iopub.status.idle": "2022-07-22T03:11:06.287723Z",
     "shell.execute_reply": "2022-07-22T03:11:06.287206Z"
    },
    "papermill": {
     "duration": 0.532461,
     "end_time": "2022-07-22T03:11:06.289216",
     "exception": false,
     "start_time": "2022-07-22T03:11:05.756755",
     "status": "completed"
    },
    "tags": []
   },
   "outputs": [],
   "source": [
    "spredixcan_genes_models = spredixcan_dfs.groupby(\"gene\")[\"tissue\"].apply(\n",
    "    lambda x: frozenset(x.tolist())\n",
    ")"
   ]
  },
  {
   "cell_type": "code",
   "execution_count": 43,
   "id": "5df09d7f-39c9-408f-9fef-5189e8ca1c87",
   "metadata": {
    "execution": {
     "iopub.execute_input": "2022-07-22T03:11:06.311927Z",
     "iopub.status.busy": "2022-07-22T03:11:06.311726Z",
     "iopub.status.idle": "2022-07-22T03:11:06.329295Z",
     "shell.execute_reply": "2022-07-22T03:11:06.328813Z"
    },
    "papermill": {
     "duration": 0.030263,
     "end_time": "2022-07-22T03:11:06.330546",
     "exception": false,
     "start_time": "2022-07-22T03:11:06.300283",
     "status": "completed"
    },
    "tags": []
   },
   "outputs": [
    {
     "data": {
      "text/plain": [
       "gene\n",
       "ENSG00000000419.12         (Brain_Substantia_nigra, Brain_Hypothalamus)\n",
       "ENSG00000000457.13    (Adrenal_Gland, Brain_Cerebellum, Small_Intest...\n",
       "ENSG00000000460.16    (Adrenal_Gland, Brain_Cerebellum, Small_Intest...\n",
       "ENSG00000000938.12    (Brain_Cerebellum, Brain_Caudate_basal_ganglia...\n",
       "ENSG00000000971.15    (Brain_Cerebellum, Small_Intestine_Terminal_Il...\n",
       "                                            ...                        \n",
       "ENSG00000284430.1     (Ovary, Vagina, Esophagus_Gastroesophageal_Jun...\n",
       "ENSG00000284452.1                                              (Testis)\n",
       "ENSG00000284513.1                         (Brain_Cerebellar_Hemisphere)\n",
       "ENSG00000284526.1     (Adrenal_Gland, Small_Intestine_Terminal_Ileum...\n",
       "ENSG00000284552.1                                              (Spleen)\n",
       "Name: tissue, Length: 22314, dtype: object"
      ]
     },
     "execution_count": 43,
     "metadata": {},
     "output_type": "execute_result"
    }
   ],
   "source": [
    "spredixcan_genes_models"
   ]
  },
  {
   "cell_type": "code",
   "execution_count": 44,
   "id": "97c46886-5a48-4813-b890-1dcdb09ec09d",
   "metadata": {
    "execution": {
     "iopub.execute_input": "2022-07-22T03:11:06.355043Z",
     "iopub.status.busy": "2022-07-22T03:11:06.354841Z",
     "iopub.status.idle": "2022-07-22T03:11:06.367382Z",
     "shell.execute_reply": "2022-07-22T03:11:06.366871Z"
    },
    "papermill": {
     "duration": 0.025911,
     "end_time": "2022-07-22T03:11:06.368634",
     "exception": false,
     "start_time": "2022-07-22T03:11:06.342723",
     "status": "completed"
    },
    "tags": []
   },
   "outputs": [],
   "source": [
    "assert spredixcan_genes_n_models.shape[0] == spredixcan_genes_models.shape[0]"
   ]
  },
  {
   "cell_type": "code",
   "execution_count": 45,
   "id": "abc13913-a681-4297-a0e6-dde62f43c36f",
   "metadata": {
    "execution": {
     "iopub.execute_input": "2022-07-22T03:11:06.392308Z",
     "iopub.status.busy": "2022-07-22T03:11:06.392151Z",
     "iopub.status.idle": "2022-07-22T03:11:06.405837Z",
     "shell.execute_reply": "2022-07-22T03:11:06.405330Z"
    },
    "papermill": {
     "duration": 0.027042,
     "end_time": "2022-07-22T03:11:06.407127",
     "exception": false,
     "start_time": "2022-07-22T03:11:06.380085",
     "status": "completed"
    },
    "tags": []
   },
   "outputs": [],
   "source": [
    "assert spredixcan_genes_n_models.index.equals(spredixcan_genes_models.index)"
   ]
  },
  {
   "cell_type": "code",
   "execution_count": 46,
   "id": "995a02e7-b836-471b-b438-17c8c46e4fde",
   "metadata": {
    "execution": {
     "iopub.execute_input": "2022-07-22T03:11:06.431403Z",
     "iopub.status.busy": "2022-07-22T03:11:06.431243Z",
     "iopub.status.idle": "2022-07-22T03:11:06.449174Z",
     "shell.execute_reply": "2022-07-22T03:11:06.448574Z"
    },
    "papermill": {
     "duration": 0.031537,
     "end_time": "2022-07-22T03:11:06.450530",
     "exception": false,
     "start_time": "2022-07-22T03:11:06.418993",
     "status": "completed"
    },
    "tags": []
   },
   "outputs": [],
   "source": [
    "assert (spredixcan_genes_models.apply(len) <= len(prediction_model_tissues)).all()"
   ]
  },
  {
   "cell_type": "code",
   "execution_count": 47,
   "id": "0c1d0c68-1a06-480c-b6d6-d3c4fdf0f5aa",
   "metadata": {
    "execution": {
     "iopub.execute_input": "2022-07-22T03:11:06.474797Z",
     "iopub.status.busy": "2022-07-22T03:11:06.474595Z",
     "iopub.status.idle": "2022-07-22T03:11:06.494531Z",
     "shell.execute_reply": "2022-07-22T03:11:06.494024Z"
    },
    "papermill": {
     "duration": 0.033345,
     "end_time": "2022-07-22T03:11:06.495725",
     "exception": false,
     "start_time": "2022-07-22T03:11:06.462380",
     "status": "completed"
    },
    "tags": []
   },
   "outputs": [
    {
     "data": {
      "text/plain": [
       "count    22314.000000\n",
       "mean        29.270413\n",
       "std         17.208404\n",
       "min          1.000000\n",
       "25%         13.000000\n",
       "50%         35.000000\n",
       "75%         45.000000\n",
       "max         49.000000\n",
       "Name: tissue, dtype: float64"
      ]
     },
     "execution_count": 47,
     "metadata": {},
     "output_type": "execute_result"
    }
   ],
   "source": [
    "spredixcan_genes_models.apply(len).describe()"
   ]
  },
  {
   "cell_type": "code",
   "execution_count": 48,
   "id": "991b9441-6bb5-4b72-9285-5fd579875e40",
   "metadata": {
    "execution": {
     "iopub.execute_input": "2022-07-22T03:11:06.519610Z",
     "iopub.status.busy": "2022-07-22T03:11:06.519397Z",
     "iopub.status.idle": "2022-07-22T03:11:06.542544Z",
     "shell.execute_reply": "2022-07-22T03:11:06.541911Z"
    },
    "papermill": {
     "duration": 0.036723,
     "end_time": "2022-07-22T03:11:06.544025",
     "exception": false,
     "start_time": "2022-07-22T03:11:06.507302",
     "status": "completed"
    },
    "tags": []
   },
   "outputs": [],
   "source": [
    "# testing\n",
    "assert (\n",
    "    spredixcan_genes_models.loc[spredixcan_genes_n_models.index]\n",
    "    .apply(len)\n",
    "    .equals(spredixcan_genes_n_models)\n",
    ")"
   ]
  },
  {
   "cell_type": "markdown",
   "id": "3042b22d-9d88-4e21-b112-ab23cf8d24ea",
   "metadata": {
    "papermill": {
     "duration": 0.011817,
     "end_time": "2022-07-22T03:11:06.568075",
     "exception": false,
     "start_time": "2022-07-22T03:11:06.556258",
     "status": "completed"
    },
    "tags": []
   },
   "source": [
    "### Get simple gene id and add gene name"
   ]
  },
  {
   "cell_type": "code",
   "execution_count": 49,
   "id": "3b7b0e76-7aca-44bf-beff-5f1c1b6193ee",
   "metadata": {
    "execution": {
     "iopub.execute_input": "2022-07-22T03:11:06.591679Z",
     "iopub.status.busy": "2022-07-22T03:11:06.591492Z",
     "iopub.status.idle": "2022-07-22T03:11:06.605440Z",
     "shell.execute_reply": "2022-07-22T03:11:06.604961Z"
    },
    "papermill": {
     "duration": 0.027255,
     "end_time": "2022-07-22T03:11:06.606766",
     "exception": false,
     "start_time": "2022-07-22T03:11:06.579511",
     "status": "completed"
    },
    "tags": []
   },
   "outputs": [],
   "source": [
    "spredixcan_genes_models = spredixcan_genes_models.to_frame().reset_index()"
   ]
  },
  {
   "cell_type": "code",
   "execution_count": 50,
   "id": "ffab4b61-c2d4-4bcc-a147-23a4bf30f715",
   "metadata": {
    "execution": {
     "iopub.execute_input": "2022-07-22T03:11:06.630912Z",
     "iopub.status.busy": "2022-07-22T03:11:06.630712Z",
     "iopub.status.idle": "2022-07-22T03:11:06.647410Z",
     "shell.execute_reply": "2022-07-22T03:11:06.646682Z"
    },
    "papermill": {
     "duration": 0.029869,
     "end_time": "2022-07-22T03:11:06.648697",
     "exception": false,
     "start_time": "2022-07-22T03:11:06.618828",
     "status": "completed"
    },
    "tags": []
   },
   "outputs": [
    {
     "data": {
      "text/html": [
       "<div>\n",
       "<style scoped>\n",
       "    .dataframe tbody tr th:only-of-type {\n",
       "        vertical-align: middle;\n",
       "    }\n",
       "\n",
       "    .dataframe tbody tr th {\n",
       "        vertical-align: top;\n",
       "    }\n",
       "\n",
       "    .dataframe thead th {\n",
       "        text-align: right;\n",
       "    }\n",
       "</style>\n",
       "<table border=\"1\" class=\"dataframe\">\n",
       "  <thead>\n",
       "    <tr style=\"text-align: right;\">\n",
       "      <th></th>\n",
       "      <th>gene</th>\n",
       "      <th>tissue</th>\n",
       "    </tr>\n",
       "  </thead>\n",
       "  <tbody>\n",
       "    <tr>\n",
       "      <th>0</th>\n",
       "      <td>ENSG00000000419.12</td>\n",
       "      <td>(Brain_Substantia_nigra, Brain_Hypothalamus)</td>\n",
       "    </tr>\n",
       "    <tr>\n",
       "      <th>1</th>\n",
       "      <td>ENSG00000000457.13</td>\n",
       "      <td>(Adrenal_Gland, Brain_Cerebellum, Small_Intest...</td>\n",
       "    </tr>\n",
       "    <tr>\n",
       "      <th>2</th>\n",
       "      <td>ENSG00000000460.16</td>\n",
       "      <td>(Adrenal_Gland, Brain_Cerebellum, Small_Intest...</td>\n",
       "    </tr>\n",
       "    <tr>\n",
       "      <th>3</th>\n",
       "      <td>ENSG00000000938.12</td>\n",
       "      <td>(Brain_Cerebellum, Brain_Caudate_basal_ganglia...</td>\n",
       "    </tr>\n",
       "    <tr>\n",
       "      <th>4</th>\n",
       "      <td>ENSG00000000971.15</td>\n",
       "      <td>(Brain_Cerebellum, Small_Intestine_Terminal_Il...</td>\n",
       "    </tr>\n",
       "  </tbody>\n",
       "</table>\n",
       "</div>"
      ],
      "text/plain": [
       "                 gene                                             tissue\n",
       "0  ENSG00000000419.12       (Brain_Substantia_nigra, Brain_Hypothalamus)\n",
       "1  ENSG00000000457.13  (Adrenal_Gland, Brain_Cerebellum, Small_Intest...\n",
       "2  ENSG00000000460.16  (Adrenal_Gland, Brain_Cerebellum, Small_Intest...\n",
       "3  ENSG00000000938.12  (Brain_Cerebellum, Brain_Caudate_basal_ganglia...\n",
       "4  ENSG00000000971.15  (Brain_Cerebellum, Small_Intestine_Terminal_Il..."
      ]
     },
     "execution_count": 50,
     "metadata": {},
     "output_type": "execute_result"
    }
   ],
   "source": [
    "spredixcan_genes_models.head()"
   ]
  },
  {
   "cell_type": "code",
   "execution_count": 51,
   "id": "7462e77a-5436-420d-a551-ec61ef42ebf0",
   "metadata": {
    "execution": {
     "iopub.execute_input": "2022-07-22T03:11:06.672892Z",
     "iopub.status.busy": "2022-07-22T03:11:06.672677Z",
     "iopub.status.idle": "2022-07-22T03:11:06.693013Z",
     "shell.execute_reply": "2022-07-22T03:11:06.692478Z"
    },
    "papermill": {
     "duration": 0.034055,
     "end_time": "2022-07-22T03:11:06.694461",
     "exception": false,
     "start_time": "2022-07-22T03:11:06.660406",
     "status": "completed"
    },
    "tags": []
   },
   "outputs": [],
   "source": [
    "spredixcan_genes_models = spredixcan_genes_models.assign(\n",
    "    gene_id=spredixcan_genes_models[\"gene\"].apply(lambda g: g.split(\".\")[0])\n",
    ")"
   ]
  },
  {
   "cell_type": "code",
   "execution_count": 52,
   "id": "25d6c953-4cc9-4cf6-b338-d4e653c2a231",
   "metadata": {
    "execution": {
     "iopub.execute_input": "2022-07-22T03:11:06.719918Z",
     "iopub.status.busy": "2022-07-22T03:11:06.719702Z",
     "iopub.status.idle": "2022-07-22T03:11:06.737278Z",
     "shell.execute_reply": "2022-07-22T03:11:06.736766Z"
    },
    "papermill": {
     "duration": 0.031362,
     "end_time": "2022-07-22T03:11:06.738505",
     "exception": false,
     "start_time": "2022-07-22T03:11:06.707143",
     "status": "completed"
    },
    "tags": []
   },
   "outputs": [
    {
     "data": {
      "text/html": [
       "<div>\n",
       "<style scoped>\n",
       "    .dataframe tbody tr th:only-of-type {\n",
       "        vertical-align: middle;\n",
       "    }\n",
       "\n",
       "    .dataframe tbody tr th {\n",
       "        vertical-align: top;\n",
       "    }\n",
       "\n",
       "    .dataframe thead th {\n",
       "        text-align: right;\n",
       "    }\n",
       "</style>\n",
       "<table border=\"1\" class=\"dataframe\">\n",
       "  <thead>\n",
       "    <tr style=\"text-align: right;\">\n",
       "      <th></th>\n",
       "      <th>gene</th>\n",
       "      <th>tissue</th>\n",
       "      <th>gene_id</th>\n",
       "    </tr>\n",
       "  </thead>\n",
       "  <tbody>\n",
       "    <tr>\n",
       "      <th>0</th>\n",
       "      <td>ENSG00000000419.12</td>\n",
       "      <td>(Brain_Substantia_nigra, Brain_Hypothalamus)</td>\n",
       "      <td>ENSG00000000419</td>\n",
       "    </tr>\n",
       "    <tr>\n",
       "      <th>1</th>\n",
       "      <td>ENSG00000000457.13</td>\n",
       "      <td>(Adrenal_Gland, Brain_Cerebellum, Small_Intest...</td>\n",
       "      <td>ENSG00000000457</td>\n",
       "    </tr>\n",
       "    <tr>\n",
       "      <th>2</th>\n",
       "      <td>ENSG00000000460.16</td>\n",
       "      <td>(Adrenal_Gland, Brain_Cerebellum, Small_Intest...</td>\n",
       "      <td>ENSG00000000460</td>\n",
       "    </tr>\n",
       "    <tr>\n",
       "      <th>3</th>\n",
       "      <td>ENSG00000000938.12</td>\n",
       "      <td>(Brain_Cerebellum, Brain_Caudate_basal_ganglia...</td>\n",
       "      <td>ENSG00000000938</td>\n",
       "    </tr>\n",
       "    <tr>\n",
       "      <th>4</th>\n",
       "      <td>ENSG00000000971.15</td>\n",
       "      <td>(Brain_Cerebellum, Small_Intestine_Terminal_Il...</td>\n",
       "      <td>ENSG00000000971</td>\n",
       "    </tr>\n",
       "  </tbody>\n",
       "</table>\n",
       "</div>"
      ],
      "text/plain": [
       "                 gene                                             tissue  \\\n",
       "0  ENSG00000000419.12       (Brain_Substantia_nigra, Brain_Hypothalamus)   \n",
       "1  ENSG00000000457.13  (Adrenal_Gland, Brain_Cerebellum, Small_Intest...   \n",
       "2  ENSG00000000460.16  (Adrenal_Gland, Brain_Cerebellum, Small_Intest...   \n",
       "3  ENSG00000000938.12  (Brain_Cerebellum, Brain_Caudate_basal_ganglia...   \n",
       "4  ENSG00000000971.15  (Brain_Cerebellum, Small_Intestine_Terminal_Il...   \n",
       "\n",
       "           gene_id  \n",
       "0  ENSG00000000419  \n",
       "1  ENSG00000000457  \n",
       "2  ENSG00000000460  \n",
       "3  ENSG00000000938  \n",
       "4  ENSG00000000971  "
      ]
     },
     "execution_count": 52,
     "metadata": {},
     "output_type": "execute_result"
    }
   ],
   "source": [
    "spredixcan_genes_models.head()"
   ]
  },
  {
   "cell_type": "code",
   "execution_count": 53,
   "id": "e1cb2fe5-969f-4526-bca7-a3b8919b3509",
   "metadata": {
    "execution": {
     "iopub.execute_input": "2022-07-22T03:11:06.763004Z",
     "iopub.status.busy": "2022-07-22T03:11:06.762801Z",
     "iopub.status.idle": "2022-07-22T03:11:06.782030Z",
     "shell.execute_reply": "2022-07-22T03:11:06.781448Z"
    },
    "papermill": {
     "duration": 0.032963,
     "end_time": "2022-07-22T03:11:06.783489",
     "exception": false,
     "start_time": "2022-07-22T03:11:06.750526",
     "status": "completed"
    },
    "tags": []
   },
   "outputs": [],
   "source": [
    "spredixcan_genes_models = spredixcan_genes_models.assign(\n",
    "    gene_name=spredixcan_genes_models[\"gene_id\"].apply(\n",
    "        lambda g: Gene.GENE_ID_TO_NAME_MAP[g]\n",
    "    )\n",
    ")"
   ]
  },
  {
   "cell_type": "code",
   "execution_count": 54,
   "id": "ff078ce5-3f18-442e-a593-3326436c758e",
   "metadata": {
    "execution": {
     "iopub.execute_input": "2022-07-22T03:11:06.809047Z",
     "iopub.status.busy": "2022-07-22T03:11:06.808887Z",
     "iopub.status.idle": "2022-07-22T03:11:06.825931Z",
     "shell.execute_reply": "2022-07-22T03:11:06.825335Z"
    },
    "papermill": {
     "duration": 0.031482,
     "end_time": "2022-07-22T03:11:06.827559",
     "exception": false,
     "start_time": "2022-07-22T03:11:06.796077",
     "status": "completed"
    },
    "tags": []
   },
   "outputs": [],
   "source": [
    "spredixcan_genes_models = spredixcan_genes_models[[\"gene_id\", \"gene_name\", \"tissue\"]]"
   ]
  },
  {
   "cell_type": "code",
   "execution_count": 55,
   "id": "af6b40b9-fc58-47a1-a1b5-4404034b008b",
   "metadata": {
    "execution": {
     "iopub.execute_input": "2022-07-22T03:11:06.856393Z",
     "iopub.status.busy": "2022-07-22T03:11:06.856235Z",
     "iopub.status.idle": "2022-07-22T03:11:06.873476Z",
     "shell.execute_reply": "2022-07-22T03:11:06.872989Z"
    },
    "papermill": {
     "duration": 0.032619,
     "end_time": "2022-07-22T03:11:06.874754",
     "exception": false,
     "start_time": "2022-07-22T03:11:06.842135",
     "status": "completed"
    },
    "tags": []
   },
   "outputs": [
    {
     "data": {
      "text/html": [
       "<div>\n",
       "<style scoped>\n",
       "    .dataframe tbody tr th:only-of-type {\n",
       "        vertical-align: middle;\n",
       "    }\n",
       "\n",
       "    .dataframe tbody tr th {\n",
       "        vertical-align: top;\n",
       "    }\n",
       "\n",
       "    .dataframe thead th {\n",
       "        text-align: right;\n",
       "    }\n",
       "</style>\n",
       "<table border=\"1\" class=\"dataframe\">\n",
       "  <thead>\n",
       "    <tr style=\"text-align: right;\">\n",
       "      <th></th>\n",
       "      <th>gene_id</th>\n",
       "      <th>gene_name</th>\n",
       "      <th>tissue</th>\n",
       "    </tr>\n",
       "  </thead>\n",
       "  <tbody>\n",
       "    <tr>\n",
       "      <th>0</th>\n",
       "      <td>ENSG00000000419</td>\n",
       "      <td>DPM1</td>\n",
       "      <td>(Brain_Substantia_nigra, Brain_Hypothalamus)</td>\n",
       "    </tr>\n",
       "    <tr>\n",
       "      <th>1</th>\n",
       "      <td>ENSG00000000457</td>\n",
       "      <td>SCYL3</td>\n",
       "      <td>(Adrenal_Gland, Brain_Cerebellum, Small_Intest...</td>\n",
       "    </tr>\n",
       "    <tr>\n",
       "      <th>2</th>\n",
       "      <td>ENSG00000000460</td>\n",
       "      <td>C1orf112</td>\n",
       "      <td>(Adrenal_Gland, Brain_Cerebellum, Small_Intest...</td>\n",
       "    </tr>\n",
       "    <tr>\n",
       "      <th>3</th>\n",
       "      <td>ENSG00000000938</td>\n",
       "      <td>FGR</td>\n",
       "      <td>(Brain_Cerebellum, Brain_Caudate_basal_ganglia...</td>\n",
       "    </tr>\n",
       "    <tr>\n",
       "      <th>4</th>\n",
       "      <td>ENSG00000000971</td>\n",
       "      <td>CFH</td>\n",
       "      <td>(Brain_Cerebellum, Small_Intestine_Terminal_Il...</td>\n",
       "    </tr>\n",
       "  </tbody>\n",
       "</table>\n",
       "</div>"
      ],
      "text/plain": [
       "           gene_id gene_name  \\\n",
       "0  ENSG00000000419      DPM1   \n",
       "1  ENSG00000000457     SCYL3   \n",
       "2  ENSG00000000460  C1orf112   \n",
       "3  ENSG00000000938       FGR   \n",
       "4  ENSG00000000971       CFH   \n",
       "\n",
       "                                              tissue  \n",
       "0       (Brain_Substantia_nigra, Brain_Hypothalamus)  \n",
       "1  (Adrenal_Gland, Brain_Cerebellum, Small_Intest...  \n",
       "2  (Adrenal_Gland, Brain_Cerebellum, Small_Intest...  \n",
       "3  (Brain_Cerebellum, Brain_Caudate_basal_ganglia...  \n",
       "4  (Brain_Cerebellum, Small_Intestine_Terminal_Il...  "
      ]
     },
     "execution_count": 55,
     "metadata": {},
     "output_type": "execute_result"
    }
   ],
   "source": [
    "spredixcan_genes_models.head()"
   ]
  },
  {
   "cell_type": "markdown",
   "id": "d6947d45-ea78-4c6b-bf71-f7413d1687e3",
   "metadata": {
    "papermill": {
     "duration": 0.011502,
     "end_time": "2022-07-22T03:11:06.898716",
     "exception": false,
     "start_time": "2022-07-22T03:11:06.887214",
     "status": "completed"
    },
    "tags": []
   },
   "source": [
    "### Save"
   ]
  },
  {
   "cell_type": "code",
   "execution_count": 56,
   "id": "10e19441-8390-4eb1-8da4-24752597bb54",
   "metadata": {
    "execution": {
     "iopub.execute_input": "2022-07-22T03:11:06.922772Z",
     "iopub.status.busy": "2022-07-22T03:11:06.922570Z",
     "iopub.status.idle": "2022-07-22T03:11:06.965907Z",
     "shell.execute_reply": "2022-07-22T03:11:06.965421Z"
    },
    "papermill": {
     "duration": 0.056974,
     "end_time": "2022-07-22T03:11:06.967281",
     "exception": false,
     "start_time": "2022-07-22T03:11:06.910307",
     "status": "completed"
    },
    "tags": []
   },
   "outputs": [],
   "source": [
    "spredixcan_genes_models.to_pickle(OUTPUT_DIR_BASE / \"gene_tissues.pkl\")"
   ]
  },
  {
   "cell_type": "markdown",
   "id": "d5b7f4ea-1844-420a-8037-53095f3823c5",
   "metadata": {
    "papermill": {
     "duration": 0.011859,
     "end_time": "2022-07-22T03:11:06.991266",
     "exception": false,
     "start_time": "2022-07-22T03:11:06.979407",
     "status": "completed"
    },
    "tags": []
   },
   "source": [
    "## S-MultiXcan results"
   ]
  },
  {
   "cell_type": "code",
   "execution_count": 57,
   "id": "2b73c11e-9aa2-410e-84b4-a70be34d02e4",
   "metadata": {
    "execution": {
     "iopub.execute_input": "2022-07-22T03:11:07.015207Z",
     "iopub.status.busy": "2022-07-22T03:11:07.015034Z",
     "iopub.status.idle": "2022-07-22T03:11:07.067092Z",
     "shell.execute_reply": "2022-07-22T03:11:07.066493Z"
    },
    "papermill": {
     "duration": 0.065784,
     "end_time": "2022-07-22T03:11:07.068562",
     "exception": false,
     "start_time": "2022-07-22T03:11:07.002778",
     "status": "completed"
    },
    "tags": []
   },
   "outputs": [],
   "source": [
    "# TODO: something that could be interesting to do is to compare `n_indep` with the number of independent components I get\n",
    "smultixcan_results = pd.read_csv(\n",
    "    SMULTIXCAN_FILE, sep=\"\\t\", usecols=[\"gene\", \"gene_name\", \"pvalue\", \"n\"]\n",
    ")"
   ]
  },
  {
   "cell_type": "code",
   "execution_count": 58,
   "id": "8b5abebd-baab-4188-9e3d-655ebbe32401",
   "metadata": {
    "execution": {
     "iopub.execute_input": "2022-07-22T03:11:07.101356Z",
     "iopub.status.busy": "2022-07-22T03:11:07.101180Z",
     "iopub.status.idle": "2022-07-22T03:11:07.115313Z",
     "shell.execute_reply": "2022-07-22T03:11:07.114807Z"
    },
    "papermill": {
     "duration": 0.032356,
     "end_time": "2022-07-22T03:11:07.116735",
     "exception": false,
     "start_time": "2022-07-22T03:11:07.084379",
     "status": "completed"
    },
    "tags": []
   },
   "outputs": [
    {
     "data": {
      "text/plain": [
       "(22317, 4)"
      ]
     },
     "execution_count": 58,
     "metadata": {},
     "output_type": "execute_result"
    }
   ],
   "source": [
    "smultixcan_results.shape"
   ]
  },
  {
   "cell_type": "code",
   "execution_count": 59,
   "id": "c65e233f-9ef6-4883-9386-7abf1d6d1cbd",
   "metadata": {
    "execution": {
     "iopub.execute_input": "2022-07-22T03:11:07.143502Z",
     "iopub.status.busy": "2022-07-22T03:11:07.143319Z",
     "iopub.status.idle": "2022-07-22T03:11:07.158664Z",
     "shell.execute_reply": "2022-07-22T03:11:07.158103Z"
    },
    "papermill": {
     "duration": 0.029625,
     "end_time": "2022-07-22T03:11:07.160065",
     "exception": false,
     "start_time": "2022-07-22T03:11:07.130440",
     "status": "completed"
    },
    "tags": []
   },
   "outputs": [],
   "source": [
    "smultixcan_results = smultixcan_results.dropna()"
   ]
  },
  {
   "cell_type": "code",
   "execution_count": 60,
   "id": "57d2d311-4a42-4725-9e37-b124ed13ad33",
   "metadata": {
    "execution": {
     "iopub.execute_input": "2022-07-22T03:11:07.185576Z",
     "iopub.status.busy": "2022-07-22T03:11:07.185378Z",
     "iopub.status.idle": "2022-07-22T03:11:07.197982Z",
     "shell.execute_reply": "2022-07-22T03:11:07.197517Z"
    },
    "papermill": {
     "duration": 0.026392,
     "end_time": "2022-07-22T03:11:07.199227",
     "exception": false,
     "start_time": "2022-07-22T03:11:07.172835",
     "status": "completed"
    },
    "tags": []
   },
   "outputs": [
    {
     "data": {
      "text/plain": [
       "(22314, 4)"
      ]
     },
     "execution_count": 60,
     "metadata": {},
     "output_type": "execute_result"
    }
   ],
   "source": [
    "smultixcan_results.shape"
   ]
  },
  {
   "cell_type": "code",
   "execution_count": 61,
   "id": "c49f62a9-a01a-44af-87da-47d195b0ef7e",
   "metadata": {
    "execution": {
     "iopub.execute_input": "2022-07-22T03:11:07.224819Z",
     "iopub.status.busy": "2022-07-22T03:11:07.224661Z",
     "iopub.status.idle": "2022-07-22T03:11:07.240502Z",
     "shell.execute_reply": "2022-07-22T03:11:07.239949Z"
    },
    "papermill": {
     "duration": 0.030018,
     "end_time": "2022-07-22T03:11:07.241794",
     "exception": false,
     "start_time": "2022-07-22T03:11:07.211776",
     "status": "completed"
    },
    "tags": []
   },
   "outputs": [
    {
     "data": {
      "text/html": [
       "<div>\n",
       "<style scoped>\n",
       "    .dataframe tbody tr th:only-of-type {\n",
       "        vertical-align: middle;\n",
       "    }\n",
       "\n",
       "    .dataframe tbody tr th {\n",
       "        vertical-align: top;\n",
       "    }\n",
       "\n",
       "    .dataframe thead th {\n",
       "        text-align: right;\n",
       "    }\n",
       "</style>\n",
       "<table border=\"1\" class=\"dataframe\">\n",
       "  <thead>\n",
       "    <tr style=\"text-align: right;\">\n",
       "      <th></th>\n",
       "      <th>gene</th>\n",
       "      <th>gene_name</th>\n",
       "      <th>pvalue</th>\n",
       "      <th>n</th>\n",
       "    </tr>\n",
       "  </thead>\n",
       "  <tbody>\n",
       "    <tr>\n",
       "      <th>0</th>\n",
       "      <td>ENSG00000131941.7</td>\n",
       "      <td>RHPN2</td>\n",
       "      <td>0.000040</td>\n",
       "      <td>48.0</td>\n",
       "    </tr>\n",
       "    <tr>\n",
       "      <th>1</th>\n",
       "      <td>ENSG00000076650.6</td>\n",
       "      <td>GPATCH1</td>\n",
       "      <td>0.000078</td>\n",
       "      <td>40.0</td>\n",
       "    </tr>\n",
       "    <tr>\n",
       "      <th>2</th>\n",
       "      <td>ENSG00000100906.10</td>\n",
       "      <td>NFKBIA</td>\n",
       "      <td>0.000096</td>\n",
       "      <td>1.0</td>\n",
       "    </tr>\n",
       "    <tr>\n",
       "      <th>3</th>\n",
       "      <td>ENSG00000136319.11</td>\n",
       "      <td>TTC5</td>\n",
       "      <td>0.000109</td>\n",
       "      <td>47.0</td>\n",
       "    </tr>\n",
       "    <tr>\n",
       "      <th>4</th>\n",
       "      <td>ENSG00000152990.13</td>\n",
       "      <td>ADGRA3</td>\n",
       "      <td>0.000135</td>\n",
       "      <td>41.0</td>\n",
       "    </tr>\n",
       "  </tbody>\n",
       "</table>\n",
       "</div>"
      ],
      "text/plain": [
       "                 gene gene_name    pvalue     n\n",
       "0   ENSG00000131941.7     RHPN2  0.000040  48.0\n",
       "1   ENSG00000076650.6   GPATCH1  0.000078  40.0\n",
       "2  ENSG00000100906.10    NFKBIA  0.000096   1.0\n",
       "3  ENSG00000136319.11      TTC5  0.000109  47.0\n",
       "4  ENSG00000152990.13    ADGRA3  0.000135  41.0"
      ]
     },
     "execution_count": 61,
     "metadata": {},
     "output_type": "execute_result"
    }
   ],
   "source": [
    "smultixcan_results.head()"
   ]
  },
  {
   "cell_type": "code",
   "execution_count": 62,
   "id": "9c4c023c-86d6-4c4b-8d57-c2b6b93aaf84",
   "metadata": {
    "execution": {
     "iopub.execute_input": "2022-07-22T03:11:07.267357Z",
     "iopub.status.busy": "2022-07-22T03:11:07.267158Z",
     "iopub.status.idle": "2022-07-22T03:11:07.282426Z",
     "shell.execute_reply": "2022-07-22T03:11:07.281861Z"
    },
    "papermill": {
     "duration": 0.029444,
     "end_time": "2022-07-22T03:11:07.283769",
     "exception": false,
     "start_time": "2022-07-22T03:11:07.254325",
     "status": "completed"
    },
    "tags": []
   },
   "outputs": [],
   "source": [
    "assert smultixcan_results[\"gene\"].is_unique"
   ]
  },
  {
   "cell_type": "code",
   "execution_count": 63,
   "id": "d737ad4f-f821-4546-9a3e-6703fe264b49",
   "metadata": {
    "execution": {
     "iopub.execute_input": "2022-07-22T03:11:07.309275Z",
     "iopub.status.busy": "2022-07-22T03:11:07.309078Z",
     "iopub.status.idle": "2022-07-22T03:11:07.333245Z",
     "shell.execute_reply": "2022-07-22T03:11:07.332682Z"
    },
    "papermill": {
     "duration": 0.038436,
     "end_time": "2022-07-22T03:11:07.334703",
     "exception": false,
     "start_time": "2022-07-22T03:11:07.296267",
     "status": "completed"
    },
    "tags": []
   },
   "outputs": [],
   "source": [
    "# testing\n",
    "_tmp_smultixcan_results_n_models = (\n",
    "    smultixcan_results.set_index(\"gene\")[\"n\"].astype(int).rename(\"tissue\")\n",
    ")\n",
    "\n",
    "assert spredixcan_genes_n_models.shape[0] == _tmp_smultixcan_results_n_models.shape[0]\n",
    "assert spredixcan_genes_n_models.equals(\n",
    "    _tmp_smultixcan_results_n_models.loc[spredixcan_genes_n_models.index]\n",
    ")"
   ]
  },
  {
   "cell_type": "markdown",
   "id": "12f04660-3c26-4580-8372-7c29ee3ab7df",
   "metadata": {
    "papermill": {
     "duration": 0.013543,
     "end_time": "2022-07-22T03:11:07.362257",
     "exception": false,
     "start_time": "2022-07-22T03:11:07.348714",
     "status": "completed"
    },
    "tags": []
   },
   "source": [
    "### Remove duplicated gene names"
   ]
  },
  {
   "cell_type": "code",
   "execution_count": 64,
   "id": "3db4cebf-7f10-4651-be4e-c50e65b855c5",
   "metadata": {
    "execution": {
     "iopub.execute_input": "2022-07-22T03:11:07.387539Z",
     "iopub.status.busy": "2022-07-22T03:11:07.387354Z",
     "iopub.status.idle": "2022-07-22T03:11:07.402593Z",
     "shell.execute_reply": "2022-07-22T03:11:07.401936Z"
    },
    "papermill": {
     "duration": 0.029229,
     "end_time": "2022-07-22T03:11:07.403812",
     "exception": false,
     "start_time": "2022-07-22T03:11:07.374583",
     "status": "completed"
    },
    "tags": []
   },
   "outputs": [
    {
     "data": {
      "text/plain": [
       "False"
      ]
     },
     "execution_count": 64,
     "metadata": {},
     "output_type": "execute_result"
    }
   ],
   "source": [
    "smultixcan_results[\"gene_name\"].is_unique"
   ]
  },
  {
   "cell_type": "code",
   "execution_count": 65,
   "id": "359a302e-d9a9-4bce-bc45-89ab285d8ad5",
   "metadata": {
    "execution": {
     "iopub.execute_input": "2022-07-22T03:11:07.430307Z",
     "iopub.status.busy": "2022-07-22T03:11:07.429556Z",
     "iopub.status.idle": "2022-07-22T03:11:07.448931Z",
     "shell.execute_reply": "2022-07-22T03:11:07.448253Z"
    },
    "papermill": {
     "duration": 0.033846,
     "end_time": "2022-07-22T03:11:07.450150",
     "exception": false,
     "start_time": "2022-07-22T03:11:07.416304",
     "status": "completed"
    },
    "tags": []
   },
   "outputs": [
    {
     "data": {
      "text/html": [
       "<div>\n",
       "<style scoped>\n",
       "    .dataframe tbody tr th:only-of-type {\n",
       "        vertical-align: middle;\n",
       "    }\n",
       "\n",
       "    .dataframe tbody tr th {\n",
       "        vertical-align: top;\n",
       "    }\n",
       "\n",
       "    .dataframe thead th {\n",
       "        text-align: right;\n",
       "    }\n",
       "</style>\n",
       "<table border=\"1\" class=\"dataframe\">\n",
       "  <thead>\n",
       "    <tr style=\"text-align: right;\">\n",
       "      <th></th>\n",
       "      <th>gene</th>\n",
       "      <th>gene_name</th>\n",
       "      <th>pvalue</th>\n",
       "      <th>n</th>\n",
       "    </tr>\n",
       "  </thead>\n",
       "  <tbody>\n",
       "    <tr>\n",
       "      <th>1461</th>\n",
       "      <td>ENSG00000235641.4</td>\n",
       "      <td>LINC00484</td>\n",
       "      <td>0.068450</td>\n",
       "      <td>35.0</td>\n",
       "    </tr>\n",
       "    <tr>\n",
       "      <th>2390</th>\n",
       "      <td>ENSG00000237667.5</td>\n",
       "      <td>LINC01115</td>\n",
       "      <td>0.112329</td>\n",
       "      <td>22.0</td>\n",
       "    </tr>\n",
       "    <tr>\n",
       "      <th>5198</th>\n",
       "      <td>ENSG00000272342.1</td>\n",
       "      <td>LINC01115</td>\n",
       "      <td>0.243122</td>\n",
       "      <td>4.0</td>\n",
       "    </tr>\n",
       "    <tr>\n",
       "      <th>5883</th>\n",
       "      <td>ENSG00000229694.6</td>\n",
       "      <td>LINC00484</td>\n",
       "      <td>0.274814</td>\n",
       "      <td>40.0</td>\n",
       "    </tr>\n",
       "    <tr>\n",
       "      <th>6129</th>\n",
       "      <td>ENSG00000147676.13</td>\n",
       "      <td>MAL2</td>\n",
       "      <td>0.286003</td>\n",
       "      <td>29.0</td>\n",
       "    </tr>\n",
       "    <tr>\n",
       "      <th>6207</th>\n",
       "      <td>ENSG00000283992.1</td>\n",
       "      <td>LYNX1</td>\n",
       "      <td>0.289628</td>\n",
       "      <td>45.0</td>\n",
       "    </tr>\n",
       "    <tr>\n",
       "      <th>10559</th>\n",
       "      <td>ENSG00000180155.19</td>\n",
       "      <td>LYNX1</td>\n",
       "      <td>0.486960</td>\n",
       "      <td>48.0</td>\n",
       "    </tr>\n",
       "    <tr>\n",
       "      <th>14026</th>\n",
       "      <td>ENSG00000235271.5</td>\n",
       "      <td>LINC01422</td>\n",
       "      <td>0.643355</td>\n",
       "      <td>38.0</td>\n",
       "    </tr>\n",
       "    <tr>\n",
       "      <th>14251</th>\n",
       "      <td>ENSG00000253972.5</td>\n",
       "      <td>MAL2</td>\n",
       "      <td>0.654873</td>\n",
       "      <td>6.0</td>\n",
       "    </tr>\n",
       "    <tr>\n",
       "      <th>20086</th>\n",
       "      <td>ENSG00000182957.15</td>\n",
       "      <td>SPATA13</td>\n",
       "      <td>0.906729</td>\n",
       "      <td>40.0</td>\n",
       "    </tr>\n",
       "    <tr>\n",
       "      <th>21031</th>\n",
       "      <td>ENSG00000223704.1</td>\n",
       "      <td>LINC01422</td>\n",
       "      <td>0.946342</td>\n",
       "      <td>48.0</td>\n",
       "    </tr>\n",
       "    <tr>\n",
       "      <th>21040</th>\n",
       "      <td>ENSG00000228741.2</td>\n",
       "      <td>SPATA13</td>\n",
       "      <td>0.946653</td>\n",
       "      <td>23.0</td>\n",
       "    </tr>\n",
       "  </tbody>\n",
       "</table>\n",
       "</div>"
      ],
      "text/plain": [
       "                     gene  gene_name    pvalue     n\n",
       "1461    ENSG00000235641.4  LINC00484  0.068450  35.0\n",
       "2390    ENSG00000237667.5  LINC01115  0.112329  22.0\n",
       "5198    ENSG00000272342.1  LINC01115  0.243122   4.0\n",
       "5883    ENSG00000229694.6  LINC00484  0.274814  40.0\n",
       "6129   ENSG00000147676.13       MAL2  0.286003  29.0\n",
       "6207    ENSG00000283992.1      LYNX1  0.289628  45.0\n",
       "10559  ENSG00000180155.19      LYNX1  0.486960  48.0\n",
       "14026   ENSG00000235271.5  LINC01422  0.643355  38.0\n",
       "14251   ENSG00000253972.5       MAL2  0.654873   6.0\n",
       "20086  ENSG00000182957.15    SPATA13  0.906729  40.0\n",
       "21031   ENSG00000223704.1  LINC01422  0.946342  48.0\n",
       "21040   ENSG00000228741.2    SPATA13  0.946653  23.0"
      ]
     },
     "metadata": {},
     "output_type": "display_data"
    }
   ],
   "source": [
    "# list duplicated gene names\n",
    "_smultixcan_duplicated_gene_names = smultixcan_results[\n",
    "    smultixcan_results[\"gene_name\"].duplicated(keep=False)\n",
    "]\n",
    "display(_smultixcan_duplicated_gene_names)"
   ]
  },
  {
   "cell_type": "code",
   "execution_count": 66,
   "id": "d8ff3ec1-312a-48be-b33f-50fb6f103c21",
   "metadata": {
    "execution": {
     "iopub.execute_input": "2022-07-22T03:11:07.476471Z",
     "iopub.status.busy": "2022-07-22T03:11:07.475915Z",
     "iopub.status.idle": "2022-07-22T03:11:07.487213Z",
     "shell.execute_reply": "2022-07-22T03:11:07.486790Z"
    },
    "papermill": {
     "duration": 0.025621,
     "end_time": "2022-07-22T03:11:07.488417",
     "exception": false,
     "start_time": "2022-07-22T03:11:07.462796",
     "status": "completed"
    },
    "tags": []
   },
   "outputs": [],
   "source": [
    "# TODO: my strategy below to handle duplicated gene names is to keep the first one\n",
    "#  it might be better to have another strategy, maybe keeping the most significant"
   ]
  },
  {
   "cell_type": "code",
   "execution_count": 67,
   "id": "11e348f5-ba33-487a-9dfe-cd493a02f320",
   "metadata": {
    "execution": {
     "iopub.execute_input": "2022-07-22T03:11:07.514446Z",
     "iopub.status.busy": "2022-07-22T03:11:07.514291Z",
     "iopub.status.idle": "2022-07-22T03:11:07.531365Z",
     "shell.execute_reply": "2022-07-22T03:11:07.530798Z"
    },
    "papermill": {
     "duration": 0.031453,
     "end_time": "2022-07-22T03:11:07.532578",
     "exception": false,
     "start_time": "2022-07-22T03:11:07.501125",
     "status": "completed"
    },
    "tags": []
   },
   "outputs": [
    {
     "data": {
      "text/plain": [
       "(22308, 4)"
      ]
     },
     "metadata": {},
     "output_type": "display_data"
    }
   ],
   "source": [
    "smultixcan_results = smultixcan_results.drop_duplicates(\n",
    "    subset=[\"gene_name\"], keep=\"first\"\n",
    ")\n",
    "display(smultixcan_results.shape)"
   ]
  },
  {
   "cell_type": "markdown",
   "id": "7dcb8db7",
   "metadata": {
    "papermill": {
     "duration": 0.012595,
     "end_time": "2022-07-22T03:11:07.558392",
     "exception": false,
     "start_time": "2022-07-22T03:11:07.545797",
     "status": "completed"
    },
    "tags": []
   },
   "source": [
    "### Get common genes with MultiPLIER"
   ]
  },
  {
   "cell_type": "code",
   "execution_count": 68,
   "id": "c820e6cf-6350-45af-b49a-0abd94f570ff",
   "metadata": {
    "execution": {
     "iopub.execute_input": "2022-07-22T03:11:07.584149Z",
     "iopub.status.busy": "2022-07-22T03:11:07.583936Z",
     "iopub.status.idle": "2022-07-22T03:11:07.599126Z",
     "shell.execute_reply": "2022-07-22T03:11:07.598646Z"
    },
    "papermill": {
     "duration": 0.029725,
     "end_time": "2022-07-22T03:11:07.600471",
     "exception": false,
     "start_time": "2022-07-22T03:11:07.570746",
     "status": "completed"
    },
    "tags": []
   },
   "outputs": [],
   "source": [
    "common_genes = set(multiplier_z_genes).intersection(\n",
    "    set(smultixcan_results[\"gene_name\"])\n",
    ")"
   ]
  },
  {
   "cell_type": "code",
   "execution_count": 69,
   "id": "0a7328f9-96c7-4ac6-a9a6-ae4fa121a4cd",
   "metadata": {
    "execution": {
     "iopub.execute_input": "2022-07-22T03:11:07.626627Z",
     "iopub.status.busy": "2022-07-22T03:11:07.626415Z",
     "iopub.status.idle": "2022-07-22T03:11:07.639350Z",
     "shell.execute_reply": "2022-07-22T03:11:07.638797Z"
    },
    "papermill": {
     "duration": 0.027243,
     "end_time": "2022-07-22T03:11:07.640570",
     "exception": false,
     "start_time": "2022-07-22T03:11:07.613327",
     "status": "completed"
    },
    "tags": []
   },
   "outputs": [
    {
     "data": {
      "text/plain": [
       "6444"
      ]
     },
     "execution_count": 69,
     "metadata": {},
     "output_type": "execute_result"
    }
   ],
   "source": [
    "len(common_genes)"
   ]
  },
  {
   "cell_type": "code",
   "execution_count": 70,
   "id": "5b08d362-44c8-4db2-9258-670e2e2a9cc0",
   "metadata": {
    "execution": {
     "iopub.execute_input": "2022-07-22T03:11:07.667055Z",
     "iopub.status.busy": "2022-07-22T03:11:07.666905Z",
     "iopub.status.idle": "2022-07-22T03:11:07.681100Z",
     "shell.execute_reply": "2022-07-22T03:11:07.680361Z"
    },
    "papermill": {
     "duration": 0.028744,
     "end_time": "2022-07-22T03:11:07.682304",
     "exception": false,
     "start_time": "2022-07-22T03:11:07.653560",
     "status": "completed"
    },
    "tags": []
   },
   "outputs": [
    {
     "data": {
      "text/plain": [
       "['A2M', 'AAAS', 'AANAT', 'AARS', 'AARS2']"
      ]
     },
     "execution_count": 70,
     "metadata": {},
     "output_type": "execute_result"
    }
   ],
   "source": [
    "sorted(list(common_genes))[:5]"
   ]
  },
  {
   "cell_type": "code",
   "execution_count": 71,
   "id": "ddc47580-bd3d-4168-bbb2-0763d227369b",
   "metadata": {
    "execution": {
     "iopub.execute_input": "2022-07-22T03:11:07.708972Z",
     "iopub.status.busy": "2022-07-22T03:11:07.708786Z",
     "iopub.status.idle": "2022-07-22T03:11:07.723055Z",
     "shell.execute_reply": "2022-07-22T03:11:07.722481Z"
    },
    "papermill": {
     "duration": 0.029028,
     "end_time": "2022-07-22T03:11:07.724435",
     "exception": false,
     "start_time": "2022-07-22T03:11:07.695407",
     "status": "completed"
    },
    "tags": []
   },
   "outputs": [],
   "source": [
    "assert smultixcan_results[smultixcan_results[\"gene_name\"].isin(common_genes)].shape[\n",
    "    0\n",
    "] == len(common_genes)"
   ]
  },
  {
   "cell_type": "markdown",
   "id": "94587312-9a1c-4c46-a131-6921a729a8cc",
   "metadata": {
    "papermill": {
     "duration": 0.012351,
     "end_time": "2022-07-22T03:11:07.749988",
     "exception": false,
     "start_time": "2022-07-22T03:11:07.737637",
     "status": "completed"
    },
    "tags": []
   },
   "source": [
    "### Save"
   ]
  },
  {
   "cell_type": "code",
   "execution_count": 72,
   "id": "1fc57e26-d415-4565-be7f-e7e1de935dbb",
   "metadata": {
    "execution": {
     "iopub.execute_input": "2022-07-22T03:11:07.775778Z",
     "iopub.status.busy": "2022-07-22T03:11:07.775526Z",
     "iopub.status.idle": "2022-07-22T03:11:07.788698Z",
     "shell.execute_reply": "2022-07-22T03:11:07.788047Z"
    },
    "papermill": {
     "duration": 0.027722,
     "end_time": "2022-07-22T03:11:07.790149",
     "exception": false,
     "start_time": "2022-07-22T03:11:07.762427",
     "status": "completed"
    },
    "tags": []
   },
   "outputs": [],
   "source": [
    "with open(OUTPUT_DIR_BASE / \"common_genes.pkl\", \"wb\") as handle:\n",
    "    pickle.dump(common_genes, handle, protocol=pickle.HIGHEST_PROTOCOL)"
   ]
  },
  {
   "cell_type": "markdown",
   "id": "19fa0a3e-2fe7-43de-9939-9e8fcd0579e3",
   "metadata": {
    "papermill": {
     "duration": 0.012785,
     "end_time": "2022-07-22T03:11:07.816019",
     "exception": false,
     "start_time": "2022-07-22T03:11:07.803234",
     "status": "completed"
    },
    "tags": []
   },
   "source": [
    "# Get gene objects"
   ]
  },
  {
   "cell_type": "code",
   "execution_count": 73,
   "id": "bb932812",
   "metadata": {
    "execution": {
     "iopub.execute_input": "2022-07-22T03:11:07.842439Z",
     "iopub.status.busy": "2022-07-22T03:11:07.842238Z",
     "iopub.status.idle": "2022-07-22T03:11:07.862491Z",
     "shell.execute_reply": "2022-07-22T03:11:07.862008Z"
    },
    "papermill": {
     "duration": 0.035063,
     "end_time": "2022-07-22T03:11:07.863843",
     "exception": false,
     "start_time": "2022-07-22T03:11:07.828780",
     "status": "completed"
    },
    "tags": []
   },
   "outputs": [],
   "source": [
    "multiplier_gene_obj = {\n",
    "    gene_name: Gene(name=gene_name)\n",
    "    for gene_name in common_genes\n",
    "    if gene_name in Gene.GENE_NAME_TO_ID_MAP\n",
    "}"
   ]
  },
  {
   "cell_type": "code",
   "execution_count": 74,
   "id": "39533214",
   "metadata": {
    "execution": {
     "iopub.execute_input": "2022-07-22T03:11:07.890735Z",
     "iopub.status.busy": "2022-07-22T03:11:07.890536Z",
     "iopub.status.idle": "2022-07-22T03:11:07.903231Z",
     "shell.execute_reply": "2022-07-22T03:11:07.902655Z"
    },
    "papermill": {
     "duration": 0.027175,
     "end_time": "2022-07-22T03:11:07.904397",
     "exception": false,
     "start_time": "2022-07-22T03:11:07.877222",
     "status": "completed"
    },
    "tags": []
   },
   "outputs": [
    {
     "data": {
      "text/plain": [
       "6444"
      ]
     },
     "execution_count": 74,
     "metadata": {},
     "output_type": "execute_result"
    }
   ],
   "source": [
    "len(multiplier_gene_obj)"
   ]
  },
  {
   "cell_type": "code",
   "execution_count": 75,
   "id": "9a5d0b84",
   "metadata": {
    "execution": {
     "iopub.execute_input": "2022-07-22T03:11:07.932473Z",
     "iopub.status.busy": "2022-07-22T03:11:07.932318Z",
     "iopub.status.idle": "2022-07-22T03:11:07.944107Z",
     "shell.execute_reply": "2022-07-22T03:11:07.943620Z"
    },
    "papermill": {
     "duration": 0.027422,
     "end_time": "2022-07-22T03:11:07.945431",
     "exception": false,
     "start_time": "2022-07-22T03:11:07.918009",
     "status": "completed"
    },
    "tags": []
   },
   "outputs": [],
   "source": [
    "assert multiplier_gene_obj[\"GAS6\"].ensembl_id == \"ENSG00000183087\""
   ]
  },
  {
   "cell_type": "code",
   "execution_count": 76,
   "id": "e3ffabc7",
   "metadata": {
    "execution": {
     "iopub.execute_input": "2022-07-22T03:11:07.973043Z",
     "iopub.status.busy": "2022-07-22T03:11:07.972892Z",
     "iopub.status.idle": "2022-07-22T03:11:11.029491Z",
     "shell.execute_reply": "2022-07-22T03:11:11.028934Z"
    },
    "papermill": {
     "duration": 3.072105,
     "end_time": "2022-07-22T03:11:11.031066",
     "exception": false,
     "start_time": "2022-07-22T03:11:07.958961",
     "status": "completed"
    },
    "tags": []
   },
   "outputs": [],
   "source": [
    "_gene_obj = list(multiplier_gene_obj.values())\n",
    "\n",
    "genes_info = pd.DataFrame(\n",
    "    {\n",
    "        \"name\": [g.name for g in _gene_obj],\n",
    "        \"id\": [g.ensembl_id for g in _gene_obj],\n",
    "        \"chr\": [g.chromosome for g in _gene_obj],\n",
    "        \"band\": [g.band for g in _gene_obj],\n",
    "        \"start_position\": [g.get_attribute(\"start_position\") for g in _gene_obj],\n",
    "        \"end_position\": [g.get_attribute(\"end_position\") for g in _gene_obj],\n",
    "    }\n",
    ")"
   ]
  },
  {
   "cell_type": "code",
   "execution_count": 77,
   "id": "00475e72-1cfc-485f-8b4e-1d9cce695f58",
   "metadata": {
    "execution": {
     "iopub.execute_input": "2022-07-22T03:11:11.057489Z",
     "iopub.status.busy": "2022-07-22T03:11:11.057306Z",
     "iopub.status.idle": "2022-07-22T03:11:11.122128Z",
     "shell.execute_reply": "2022-07-22T03:11:11.121586Z"
    },
    "papermill": {
     "duration": 0.079614,
     "end_time": "2022-07-22T03:11:11.123528",
     "exception": false,
     "start_time": "2022-07-22T03:11:11.043914",
     "status": "completed"
    },
    "tags": []
   },
   "outputs": [],
   "source": [
    "genes_info = genes_info.assign(\n",
    "    gene_length=genes_info.apply(\n",
    "        lambda x: x[\"end_position\"] - x[\"start_position\"], axis=1\n",
    "    )\n",
    ")"
   ]
  },
  {
   "cell_type": "code",
   "execution_count": 78,
   "id": "e23519b8",
   "metadata": {
    "execution": {
     "iopub.execute_input": "2022-07-22T03:11:11.152226Z",
     "iopub.status.busy": "2022-07-22T03:11:11.152024Z",
     "iopub.status.idle": "2022-07-22T03:11:11.164704Z",
     "shell.execute_reply": "2022-07-22T03:11:11.164154Z"
    },
    "papermill": {
     "duration": 0.027738,
     "end_time": "2022-07-22T03:11:11.165853",
     "exception": false,
     "start_time": "2022-07-22T03:11:11.138115",
     "status": "completed"
    },
    "tags": []
   },
   "outputs": [
    {
     "data": {
      "text/plain": [
       "(6444, 7)"
      ]
     },
     "execution_count": 78,
     "metadata": {},
     "output_type": "execute_result"
    }
   ],
   "source": [
    "genes_info.shape"
   ]
  },
  {
   "cell_type": "code",
   "execution_count": 79,
   "id": "0d71881c",
   "metadata": {
    "execution": {
     "iopub.execute_input": "2022-07-22T03:11:11.192865Z",
     "iopub.status.busy": "2022-07-22T03:11:11.192664Z",
     "iopub.status.idle": "2022-07-22T03:11:11.211407Z",
     "shell.execute_reply": "2022-07-22T03:11:11.210715Z"
    },
    "papermill": {
     "duration": 0.033399,
     "end_time": "2022-07-22T03:11:11.212642",
     "exception": false,
     "start_time": "2022-07-22T03:11:11.179243",
     "status": "completed"
    },
    "tags": []
   },
   "outputs": [
    {
     "data": {
      "text/html": [
       "<div>\n",
       "<style scoped>\n",
       "    .dataframe tbody tr th:only-of-type {\n",
       "        vertical-align: middle;\n",
       "    }\n",
       "\n",
       "    .dataframe tbody tr th {\n",
       "        vertical-align: top;\n",
       "    }\n",
       "\n",
       "    .dataframe thead th {\n",
       "        text-align: right;\n",
       "    }\n",
       "</style>\n",
       "<table border=\"1\" class=\"dataframe\">\n",
       "  <thead>\n",
       "    <tr style=\"text-align: right;\">\n",
       "      <th></th>\n",
       "      <th>name</th>\n",
       "      <th>id</th>\n",
       "      <th>chr</th>\n",
       "      <th>band</th>\n",
       "      <th>start_position</th>\n",
       "      <th>end_position</th>\n",
       "      <th>gene_length</th>\n",
       "    </tr>\n",
       "  </thead>\n",
       "  <tbody>\n",
       "    <tr>\n",
       "      <th>0</th>\n",
       "      <td>MFN2</td>\n",
       "      <td>ENSG00000116688</td>\n",
       "      <td>1</td>\n",
       "      <td>1p36.22</td>\n",
       "      <td>11980181.0</td>\n",
       "      <td>12013514.0</td>\n",
       "      <td>33333.0</td>\n",
       "    </tr>\n",
       "    <tr>\n",
       "      <th>1</th>\n",
       "      <td>PPA2</td>\n",
       "      <td>ENSG00000138777</td>\n",
       "      <td>4</td>\n",
       "      <td>4q24</td>\n",
       "      <td>105369077.0</td>\n",
       "      <td>105474067.0</td>\n",
       "      <td>104990.0</td>\n",
       "    </tr>\n",
       "    <tr>\n",
       "      <th>2</th>\n",
       "      <td>ADRA2A</td>\n",
       "      <td>ENSG00000150594</td>\n",
       "      <td>10</td>\n",
       "      <td>10q25.2</td>\n",
       "      <td>111077163.0</td>\n",
       "      <td>111080907.0</td>\n",
       "      <td>3744.0</td>\n",
       "    </tr>\n",
       "    <tr>\n",
       "      <th>3</th>\n",
       "      <td>RYR2</td>\n",
       "      <td>ENSG00000198626</td>\n",
       "      <td>1</td>\n",
       "      <td>1q43</td>\n",
       "      <td>237042184.0</td>\n",
       "      <td>237833988.0</td>\n",
       "      <td>791804.0</td>\n",
       "    </tr>\n",
       "    <tr>\n",
       "      <th>4</th>\n",
       "      <td>VAV2</td>\n",
       "      <td>ENSG00000160293</td>\n",
       "      <td>9</td>\n",
       "      <td>9q34.2</td>\n",
       "      <td>133761894.0</td>\n",
       "      <td>133992604.0</td>\n",
       "      <td>230710.0</td>\n",
       "    </tr>\n",
       "  </tbody>\n",
       "</table>\n",
       "</div>"
      ],
      "text/plain": [
       "     name               id chr     band  start_position  end_position  \\\n",
       "0    MFN2  ENSG00000116688   1  1p36.22      11980181.0    12013514.0   \n",
       "1    PPA2  ENSG00000138777   4     4q24     105369077.0   105474067.0   \n",
       "2  ADRA2A  ENSG00000150594  10  10q25.2     111077163.0   111080907.0   \n",
       "3    RYR2  ENSG00000198626   1     1q43     237042184.0   237833988.0   \n",
       "4    VAV2  ENSG00000160293   9   9q34.2     133761894.0   133992604.0   \n",
       "\n",
       "   gene_length  \n",
       "0      33333.0  \n",
       "1     104990.0  \n",
       "2       3744.0  \n",
       "3     791804.0  \n",
       "4     230710.0  "
      ]
     },
     "execution_count": 79,
     "metadata": {},
     "output_type": "execute_result"
    }
   ],
   "source": [
    "genes_info.head()"
   ]
  },
  {
   "cell_type": "markdown",
   "id": "f036828d-da4b-4f74-a0a2-e851a3f30a7c",
   "metadata": {
    "papermill": {
     "duration": 0.012771,
     "end_time": "2022-07-22T03:11:11.238761",
     "exception": false,
     "start_time": "2022-07-22T03:11:11.225990",
     "status": "completed"
    },
    "tags": []
   },
   "source": [
    "## Save"
   ]
  },
  {
   "cell_type": "code",
   "execution_count": 80,
   "id": "32cf6566-03bb-4a85-81e1-da46fc9f37ad",
   "metadata": {
    "execution": {
     "iopub.execute_input": "2022-07-22T03:11:11.265980Z",
     "iopub.status.busy": "2022-07-22T03:11:11.265364Z",
     "iopub.status.idle": "2022-07-22T03:11:11.280153Z",
     "shell.execute_reply": "2022-07-22T03:11:11.279607Z"
    },
    "papermill": {
     "duration": 0.029891,
     "end_time": "2022-07-22T03:11:11.281533",
     "exception": false,
     "start_time": "2022-07-22T03:11:11.251642",
     "status": "completed"
    },
    "tags": []
   },
   "outputs": [],
   "source": [
    "genes_info.to_pickle(OUTPUT_DIR_BASE / \"genes_info.pkl\")"
   ]
  },
  {
   "cell_type": "code",
   "execution_count": null,
   "id": "b25e3ead",
   "metadata": {
    "papermill": {
     "duration": 0.012811,
     "end_time": "2022-07-22T03:11:11.307785",
     "exception": false,
     "start_time": "2022-07-22T03:11:11.294974",
     "status": "completed"
    },
    "tags": []
   },
   "outputs": [],
   "source": []
  }
 ],
 "metadata": {
  "jupytext": {
   "cell_metadata_filter": "all,-execution,-papermill,-trusted",
   "formats": "ipynb,py//py:percent"
  },
  "kernelspec": {
   "display_name": "Python 3 (ipykernel)",
   "language": "python",
   "name": "python3"
  },
  "language_info": {
   "codemirror_mode": {
    "name": "ipython",
    "version": 3
   },
   "file_extension": ".py",
   "mimetype": "text/x-python",
   "name": "python",
   "nbconvert_exporter": "python",
   "pygments_lexer": "ipython3",
   "version": "3.8.13"
  },
  "papermill": {
   "default_parameters": {},
   "duration": 39.528518,
   "end_time": "2022-07-22T03:11:12.546884",
   "environment_variables": {},
   "exception": null,
   "input_path": "nbs/15_gsa_gls/07-compile_gwas_snps_and_twas_genes.ipynb",
   "output_path": "nbs/15_gsa_gls/gene_corrs/cohorts/1000g_eur/07-compile_gwas_snps_and_twas_genes.run.ipynb",
   "parameters": {
    "COHORT_NAME": "1000G_EUR",
    "EQTL_MODEL": "MASHR",
    "GWAS_FILE": "/opt/data/results/gls/null_sims/final_imputed_gwas/random.pheno0.glm-imputed.txt.gz",
    "SMULTIXCAN_FILE": "/opt/data/results/gls/null_sims/twas/smultixcan/random.pheno0-gtex_v8-mashr-smultixcan.txt",
    "SPREDIXCAN_FILE_PATTERN": "random.pheno0-gtex_v8-mashr-{tissue}.csv",
    "SPREDIXCAN_FOLDER": "/opt/data/results/gls/null_sims/twas/spredixcan/"
   },
   "start_time": "2022-07-22T03:10:33.018366",
   "version": "2.2.2"
  }
 },
 "nbformat": 4,
 "nbformat_minor": 5
}
