{
 "cells": [
  {
   "cell_type": "markdown",
   "id": "7a6632fb",
   "metadata": {
    "papermill": {
     "duration": 0.01571,
     "end_time": "2022-07-27T17:32:56.282416",
     "exception": false,
     "start_time": "2022-07-27T17:32:56.266706",
     "status": "completed"
    },
    "tags": []
   },
   "source": [
    "# Description"
   ]
  },
  {
   "cell_type": "markdown",
   "id": "7097c346",
   "metadata": {
    "papermill": {
     "duration": 0.013389,
     "end_time": "2022-07-27T17:32:56.334880",
     "exception": false,
     "start_time": "2022-07-27T17:32:56.321491",
     "status": "completed"
    },
    "tags": []
   },
   "source": [
    "(Please, take a look at the README.md file in this directory for instructions on how to run this notebook)\n",
    "\n",
    "**TODO:** update\n",
    "\n",
    "This notebook computes predicted expression correlations between all genes in the MultiPLIER models.\n",
    "\n",
    "It also has a parameter set for papermill to run on a single chromosome to run in parallel (see under `Settings` below).\n",
    "\n",
    "This notebook is not directly run. See README.md."
   ]
  },
  {
   "cell_type": "markdown",
   "id": "c61d8427",
   "metadata": {
    "papermill": {
     "duration": 0.013917,
     "end_time": "2022-07-27T17:32:56.362984",
     "exception": false,
     "start_time": "2022-07-27T17:32:56.349067",
     "status": "completed"
    },
    "tags": []
   },
   "source": [
    "# Modules"
   ]
  },
  {
   "cell_type": "code",
   "execution_count": 1,
   "id": "bbc0234f",
   "metadata": {
    "execution": {
     "iopub.execute_input": "2022-07-27T17:32:56.389877Z",
     "iopub.status.busy": "2022-07-27T17:32:56.389677Z",
     "iopub.status.idle": "2022-07-27T17:32:56.404642Z",
     "shell.execute_reply": "2022-07-27T17:32:56.404135Z"
    },
    "papermill": {
     "duration": 0.029553,
     "end_time": "2022-07-27T17:32:56.406083",
     "exception": false,
     "start_time": "2022-07-27T17:32:56.376530",
     "status": "completed"
    },
    "tags": []
   },
   "outputs": [],
   "source": [
    "%load_ext autoreload\n",
    "%autoreload 2"
   ]
  },
  {
   "cell_type": "code",
   "execution_count": 2,
   "id": "1d5f5a59",
   "metadata": {
    "execution": {
     "iopub.execute_input": "2022-07-27T17:32:56.430772Z",
     "iopub.status.busy": "2022-07-27T17:32:56.430616Z",
     "iopub.status.idle": "2022-07-27T17:32:56.882748Z",
     "shell.execute_reply": "2022-07-27T17:32:56.882205Z"
    },
    "papermill": {
     "duration": 0.466062,
     "end_time": "2022-07-27T17:32:56.884223",
     "exception": false,
     "start_time": "2022-07-27T17:32:56.418161",
     "status": "completed"
    },
    "tags": []
   },
   "outputs": [],
   "source": [
    "from pathlib import Path\n",
    "import pickle\n",
    "\n",
    "import numpy as np\n",
    "\n",
    "import pandas as pd\n",
    "from tqdm import tqdm\n",
    "\n",
    "import conf\n",
    "from entity import Gene"
   ]
  },
  {
   "cell_type": "markdown",
   "id": "1eac24b5",
   "metadata": {
    "papermill": {
     "duration": 0.010936,
     "end_time": "2022-07-27T17:32:56.907093",
     "exception": false,
     "start_time": "2022-07-27T17:32:56.896157",
     "status": "completed"
    },
    "tags": []
   },
   "source": [
    "# Settings"
   ]
  },
  {
   "cell_type": "code",
   "execution_count": 3,
   "id": "ca4560ba",
   "metadata": {
    "execution": {
     "iopub.execute_input": "2022-07-27T17:32:56.929708Z",
     "iopub.status.busy": "2022-07-27T17:32:56.929502Z",
     "iopub.status.idle": "2022-07-27T17:32:56.941805Z",
     "shell.execute_reply": "2022-07-27T17:32:56.941223Z"
    },
    "papermill": {
     "duration": 0.025195,
     "end_time": "2022-07-27T17:32:56.943092",
     "exception": false,
     "start_time": "2022-07-27T17:32:56.917897",
     "status": "completed"
    },
    "tags": [
     "parameters"
    ]
   },
   "outputs": [],
   "source": [
    "# a cohort name (it could be something like UK_BIOBANK, etc)\n",
    "COHORT_NAME = None\n",
    "\n",
    "# a string with a path pointing to an imputed GWAS\n",
    "GWAS_FILE = None\n",
    "\n",
    "# a string with a path pointing where S-PrediXcan results (tissue-specific are located\n",
    "SPREDIXCAN_FOLDER = None\n",
    "\n",
    "# an f-string with one placeholder {tissue}\n",
    "SPREDIXCAN_FILE_PATTERN = None\n",
    "\n",
    "# a string with a path pointing to an S-MultiXcan result\n",
    "SMULTIXCAN_FILE = None\n",
    "\n",
    "# predictions models such as MASHR or ELASTIC_NET\n",
    "EQTL_MODEL = None"
   ]
  },
  {
   "cell_type": "code",
   "execution_count": 4,
   "id": "b4b7218f",
   "metadata": {
    "execution": {
     "iopub.execute_input": "2022-07-27T17:32:56.966432Z",
     "iopub.status.busy": "2022-07-27T17:32:56.966274Z",
     "iopub.status.idle": "2022-07-27T17:32:56.978054Z",
     "shell.execute_reply": "2022-07-27T17:32:56.977557Z"
    },
    "papermill": {
     "duration": 0.024868,
     "end_time": "2022-07-27T17:32:56.979343",
     "exception": false,
     "start_time": "2022-07-27T17:32:56.954475",
     "status": "completed"
    },
    "tags": [
     "injected-parameters"
    ]
   },
   "outputs": [],
   "source": [
    "# Parameters\n",
    "COHORT_NAME = \"1000G_EUR\"\n",
    "GWAS_FILE = \"/opt/data/results/gls/null_sims/final_imputed_gwas/random.pheno0.glm-imputed.txt.gz\"\n",
    "SPREDIXCAN_FOLDER = \"/opt/data/results/gls/null_sims/twas/spredixcan/\"\n",
    "SPREDIXCAN_FILE_PATTERN = \"random.pheno0-gtex_v8-mashr-{tissue}.csv\"\n",
    "SMULTIXCAN_FILE = \"/opt/data/results/gls/null_sims/twas/smultixcan/random.pheno0-gtex_v8-mashr-smultixcan.txt\"\n",
    "EQTL_MODEL = \"MASHR\"\n"
   ]
  },
  {
   "cell_type": "code",
   "execution_count": 5,
   "id": "8fe24bef",
   "metadata": {
    "execution": {
     "iopub.execute_input": "2022-07-27T17:32:57.002560Z",
     "iopub.status.busy": "2022-07-27T17:32:57.002407Z",
     "iopub.status.idle": "2022-07-27T17:32:57.019075Z",
     "shell.execute_reply": "2022-07-27T17:32:57.018606Z"
    },
    "papermill": {
     "duration": 0.029645,
     "end_time": "2022-07-27T17:32:57.020268",
     "exception": false,
     "start_time": "2022-07-27T17:32:56.990623",
     "status": "completed"
    },
    "tags": []
   },
   "outputs": [
    {
     "data": {
      "text/plain": [
       "'Cohort name: 1000g_eur'"
      ]
     },
     "metadata": {},
     "output_type": "display_data"
    }
   ],
   "source": [
    "assert COHORT_NAME is not None and len(COHORT_NAME) > 0, \"A cohort name must be given\"\n",
    "\n",
    "COHORT_NAME = COHORT_NAME.lower()\n",
    "display(f\"Cohort name: {COHORT_NAME}\")"
   ]
  },
  {
   "cell_type": "code",
   "execution_count": 6,
   "id": "7a970044-2d34-4e5b-a850-eff44079afe8",
   "metadata": {
    "execution": {
     "iopub.execute_input": "2022-07-27T17:32:57.043465Z",
     "iopub.status.busy": "2022-07-27T17:32:57.043290Z",
     "iopub.status.idle": "2022-07-27T17:32:57.056438Z",
     "shell.execute_reply": "2022-07-27T17:32:57.055964Z"
    },
    "papermill": {
     "duration": 0.026153,
     "end_time": "2022-07-27T17:32:57.057786",
     "exception": false,
     "start_time": "2022-07-27T17:32:57.031633",
     "status": "completed"
    },
    "tags": []
   },
   "outputs": [
    {
     "data": {
      "text/plain": [
       "'GWAS file path: /opt/data/results/gls/null_sims/final_imputed_gwas/random.pheno0.glm-imputed.txt.gz'"
      ]
     },
     "metadata": {},
     "output_type": "display_data"
    }
   ],
   "source": [
    "assert GWAS_FILE is not None and len(GWAS_FILE) > 0, \"A GWAS file path must be given\"\n",
    "GWAS_FILE = Path(GWAS_FILE).resolve()\n",
    "assert GWAS_FILE.exists(), \"GWAS file does not exist\"\n",
    "\n",
    "display(f\"GWAS file path: {str(GWAS_FILE)}\")"
   ]
  },
  {
   "cell_type": "code",
   "execution_count": 7,
   "id": "552a7f63-a18c-4d3e-bb6a-94f99b431291",
   "metadata": {
    "execution": {
     "iopub.execute_input": "2022-07-27T17:32:57.082112Z",
     "iopub.status.busy": "2022-07-27T17:32:57.081950Z",
     "iopub.status.idle": "2022-07-27T17:32:57.095017Z",
     "shell.execute_reply": "2022-07-27T17:32:57.094571Z"
    },
    "papermill": {
     "duration": 0.026603,
     "end_time": "2022-07-27T17:32:57.096202",
     "exception": false,
     "start_time": "2022-07-27T17:32:57.069599",
     "status": "completed"
    },
    "tags": []
   },
   "outputs": [
    {
     "data": {
      "text/plain": [
       "'S-PrediXcan folder path: /opt/data/results/gls/null_sims/twas/spredixcan'"
      ]
     },
     "metadata": {},
     "output_type": "display_data"
    }
   ],
   "source": [
    "assert (\n",
    "    SPREDIXCAN_FOLDER is not None and len(SPREDIXCAN_FOLDER) > 0\n",
    "), \"An S-PrediXcan folder path must be given\"\n",
    "SPREDIXCAN_FOLDER = Path(SPREDIXCAN_FOLDER).resolve()\n",
    "assert SPREDIXCAN_FOLDER.exists(), \"S-PrediXcan folder does not exist\"\n",
    "\n",
    "display(f\"S-PrediXcan folder path: {str(SPREDIXCAN_FOLDER)}\")"
   ]
  },
  {
   "cell_type": "code",
   "execution_count": 8,
   "id": "6e2000dc-f1dc-4db8-93d5-9a7209a2e121",
   "metadata": {
    "execution": {
     "iopub.execute_input": "2022-07-27T17:32:57.123715Z",
     "iopub.status.busy": "2022-07-27T17:32:57.123255Z",
     "iopub.status.idle": "2022-07-27T17:32:57.137928Z",
     "shell.execute_reply": "2022-07-27T17:32:57.137443Z"
    },
    "papermill": {
     "duration": 0.031063,
     "end_time": "2022-07-27T17:32:57.139096",
     "exception": false,
     "start_time": "2022-07-27T17:32:57.108033",
     "status": "completed"
    },
    "tags": []
   },
   "outputs": [
    {
     "data": {
      "text/plain": [
       "'S-PrediXcan file template: random.pheno0-gtex_v8-mashr-{tissue}.csv'"
      ]
     },
     "metadata": {},
     "output_type": "display_data"
    }
   ],
   "source": [
    "assert (\n",
    "    SPREDIXCAN_FILE_PATTERN is not None and len(SPREDIXCAN_FILE_PATTERN) > 0\n",
    "), \"An S-PrediXcan file pattern must be given\"\n",
    "assert (\n",
    "    \"{tissue}\" in SPREDIXCAN_FILE_PATTERN\n",
    "), \"S-PrediXcan file pattern must have a '{tissue}' placeholder\"\n",
    "\n",
    "display(f\"S-PrediXcan file template: {SPREDIXCAN_FILE_PATTERN}\")"
   ]
  },
  {
   "cell_type": "code",
   "execution_count": 9,
   "id": "f5a5aa9d-c6f3-4fb5-9351-37382b6e67bc",
   "metadata": {
    "execution": {
     "iopub.execute_input": "2022-07-27T17:32:57.163403Z",
     "iopub.status.busy": "2022-07-27T17:32:57.162660Z",
     "iopub.status.idle": "2022-07-27T17:32:57.175526Z",
     "shell.execute_reply": "2022-07-27T17:32:57.174891Z"
    },
    "papermill": {
     "duration": 0.026078,
     "end_time": "2022-07-27T17:32:57.176750",
     "exception": false,
     "start_time": "2022-07-27T17:32:57.150672",
     "status": "completed"
    },
    "tags": []
   },
   "outputs": [
    {
     "data": {
      "text/plain": [
       "'S-MultiXcan file path: /opt/data/results/gls/null_sims/twas/smultixcan/random.pheno0-gtex_v8-mashr-smultixcan.txt'"
      ]
     },
     "metadata": {},
     "output_type": "display_data"
    }
   ],
   "source": [
    "assert (\n",
    "    SMULTIXCAN_FILE is not None and len(SMULTIXCAN_FILE) > 0\n",
    "), \"An S-MultiXcan result file path must be given\"\n",
    "SMULTIXCAN_FILE = Path(SMULTIXCAN_FILE).resolve()\n",
    "assert SMULTIXCAN_FILE.exists(), \"S-MultiXcan result file does not exist\"\n",
    "\n",
    "display(f\"S-MultiXcan file path: {str(SMULTIXCAN_FILE)}\")"
   ]
  },
  {
   "cell_type": "code",
   "execution_count": 10,
   "id": "0723dc2f-34d1-407c-a55b-d6d13c55d63d",
   "metadata": {
    "execution": {
     "iopub.execute_input": "2022-07-27T17:32:57.200970Z",
     "iopub.status.busy": "2022-07-27T17:32:57.200597Z",
     "iopub.status.idle": "2022-07-27T17:32:57.212916Z",
     "shell.execute_reply": "2022-07-27T17:32:57.212488Z"
    },
    "papermill": {
     "duration": 0.02563,
     "end_time": "2022-07-27T17:32:57.214109",
     "exception": false,
     "start_time": "2022-07-27T17:32:57.188479",
     "status": "completed"
    },
    "tags": []
   },
   "outputs": [
    {
     "data": {
      "text/plain": [
       "'eQTL model: MASHR'"
      ]
     },
     "metadata": {},
     "output_type": "display_data"
    }
   ],
   "source": [
    "assert (\n",
    "    EQTL_MODEL is not None and len(EQTL_MODEL) > 0\n",
    "), \"A prediction/eQTL model must be given\"\n",
    "\n",
    "display(f\"eQTL model: {EQTL_MODEL}\")"
   ]
  },
  {
   "cell_type": "code",
   "execution_count": 11,
   "id": "396392dc-0340-4540-9b02-e182b833f909",
   "metadata": {
    "execution": {
     "iopub.execute_input": "2022-07-27T17:32:57.238227Z",
     "iopub.status.busy": "2022-07-27T17:32:57.238068Z",
     "iopub.status.idle": "2022-07-27T17:32:57.250404Z",
     "shell.execute_reply": "2022-07-27T17:32:57.249882Z"
    },
    "papermill": {
     "duration": 0.025747,
     "end_time": "2022-07-27T17:32:57.251608",
     "exception": false,
     "start_time": "2022-07-27T17:32:57.225861",
     "status": "completed"
    },
    "tags": []
   },
   "outputs": [
    {
     "data": {
      "text/plain": [
       "'Using output dir base: /opt/data/results/gls/gene_corrs/cohorts/1000g_eur'"
      ]
     },
     "metadata": {},
     "output_type": "display_data"
    }
   ],
   "source": [
    "OUTPUT_DIR_BASE = conf.RESULTS[\"GLS\"] / \"gene_corrs\" / \"cohorts\" / COHORT_NAME\n",
    "OUTPUT_DIR_BASE.mkdir(parents=True, exist_ok=True)\n",
    "\n",
    "display(f\"Using output dir base: {OUTPUT_DIR_BASE}\")"
   ]
  },
  {
   "cell_type": "markdown",
   "id": "b6ebb422-8204-494b-8c72-360a71ce9863",
   "metadata": {
    "papermill": {
     "duration": 0.011558,
     "end_time": "2022-07-27T17:32:57.274971",
     "exception": false,
     "start_time": "2022-07-27T17:32:57.263413",
     "status": "completed"
    },
    "tags": []
   },
   "source": [
    "# Load MultiPLIER Z genes"
   ]
  },
  {
   "cell_type": "code",
   "execution_count": 12,
   "id": "c48ef527",
   "metadata": {
    "execution": {
     "iopub.execute_input": "2022-07-27T17:32:57.299319Z",
     "iopub.status.busy": "2022-07-27T17:32:57.298542Z",
     "iopub.status.idle": "2022-07-27T17:32:57.334409Z",
     "shell.execute_reply": "2022-07-27T17:32:57.333851Z"
    },
    "papermill": {
     "duration": 0.049605,
     "end_time": "2022-07-27T17:32:57.335958",
     "exception": false,
     "start_time": "2022-07-27T17:32:57.286353",
     "status": "completed"
    },
    "tags": []
   },
   "outputs": [],
   "source": [
    "multiplier_z_genes = pd.read_pickle(\n",
    "    conf.MULTIPLIER[\"MODEL_Z_MATRIX_FILE\"]\n",
    ").index.tolist()"
   ]
  },
  {
   "cell_type": "code",
   "execution_count": 13,
   "id": "0a4ecbd9",
   "metadata": {
    "execution": {
     "iopub.execute_input": "2022-07-27T17:32:57.366162Z",
     "iopub.status.busy": "2022-07-27T17:32:57.365977Z",
     "iopub.status.idle": "2022-07-27T17:32:57.380328Z",
     "shell.execute_reply": "2022-07-27T17:32:57.379770Z"
    },
    "papermill": {
     "duration": 0.031452,
     "end_time": "2022-07-27T17:32:57.381726",
     "exception": false,
     "start_time": "2022-07-27T17:32:57.350274",
     "status": "completed"
    },
    "tags": []
   },
   "outputs": [
    {
     "data": {
      "text/plain": [
       "6750"
      ]
     },
     "execution_count": 13,
     "metadata": {},
     "output_type": "execute_result"
    }
   ],
   "source": [
    "len(multiplier_z_genes)"
   ]
  },
  {
   "cell_type": "code",
   "execution_count": 14,
   "id": "a18ce359-0759-4260-ae6f-053e8c0041b7",
   "metadata": {
    "execution": {
     "iopub.execute_input": "2022-07-27T17:32:57.408333Z",
     "iopub.status.busy": "2022-07-27T17:32:57.408174Z",
     "iopub.status.idle": "2022-07-27T17:32:57.420525Z",
     "shell.execute_reply": "2022-07-27T17:32:57.419934Z"
    },
    "papermill": {
     "duration": 0.026448,
     "end_time": "2022-07-27T17:32:57.421837",
     "exception": false,
     "start_time": "2022-07-27T17:32:57.395389",
     "status": "completed"
    },
    "tags": []
   },
   "outputs": [],
   "source": [
    "assert len(multiplier_z_genes) == len(set(multiplier_z_genes))"
   ]
  },
  {
   "cell_type": "code",
   "execution_count": 15,
   "id": "115e8864",
   "metadata": {
    "execution": {
     "iopub.execute_input": "2022-07-27T17:32:57.447156Z",
     "iopub.status.busy": "2022-07-27T17:32:57.446995Z",
     "iopub.status.idle": "2022-07-27T17:32:57.459661Z",
     "shell.execute_reply": "2022-07-27T17:32:57.459204Z"
    },
    "papermill": {
     "duration": 0.026636,
     "end_time": "2022-07-27T17:32:57.460885",
     "exception": false,
     "start_time": "2022-07-27T17:32:57.434249",
     "status": "completed"
    },
    "tags": []
   },
   "outputs": [
    {
     "data": {
      "text/plain": [
       "['GAS6', 'MMP14', 'DSP', 'MARCKSL1', 'SPARC']"
      ]
     },
     "execution_count": 15,
     "metadata": {},
     "output_type": "execute_result"
    }
   ],
   "source": [
    "multiplier_z_genes[:5]"
   ]
  },
  {
   "cell_type": "markdown",
   "id": "7bed0ce0-e7c7-4300-9a61-5412450b1904",
   "metadata": {
    "papermill": {
     "duration": 0.012016,
     "end_time": "2022-07-27T17:32:57.485449",
     "exception": false,
     "start_time": "2022-07-27T17:32:57.473433",
     "status": "completed"
    },
    "tags": []
   },
   "source": [
    "# GWAS"
   ]
  },
  {
   "cell_type": "code",
   "execution_count": 16,
   "id": "331e5691-c014-43e4-b94c-060c64d329df",
   "metadata": {
    "execution": {
     "iopub.execute_input": "2022-07-27T17:32:57.510755Z",
     "iopub.status.busy": "2022-07-27T17:32:57.510537Z",
     "iopub.status.idle": "2022-07-27T17:32:57.527519Z",
     "shell.execute_reply": "2022-07-27T17:32:57.527083Z"
    },
    "papermill": {
     "duration": 0.031005,
     "end_time": "2022-07-27T17:32:57.528877",
     "exception": false,
     "start_time": "2022-07-27T17:32:57.497872",
     "status": "completed"
    },
    "tags": []
   },
   "outputs": [],
   "source": [
    "gwas_file_columns = pd.read_csv(GWAS_FILE, sep=\"\\t\", nrows=2).columns\n",
    "assert (\n",
    "    \"panel_variant_id\" in gwas_file_columns\n",
    "), \"GWAS file must be final imputed one with column 'panel_variant_id'\"\n",
    "# FIXME: add other needed columns here"
   ]
  },
  {
   "cell_type": "code",
   "execution_count": 17,
   "id": "8d419629-8f4d-4c83-bed3-cfc071a58090",
   "metadata": {
    "execution": {
     "iopub.execute_input": "2022-07-27T17:32:57.553462Z",
     "iopub.status.busy": "2022-07-27T17:32:57.553259Z",
     "iopub.status.idle": "2022-07-27T17:33:10.960380Z",
     "shell.execute_reply": "2022-07-27T17:33:10.959664Z"
    },
    "papermill": {
     "duration": 13.420988,
     "end_time": "2022-07-27T17:33:10.961978",
     "exception": false,
     "start_time": "2022-07-27T17:32:57.540990",
     "status": "completed"
    },
    "tags": []
   },
   "outputs": [],
   "source": [
    "gwas_data = pd.read_csv(\n",
    "    GWAS_FILE,\n",
    "    sep=\"\\t\",\n",
    "    usecols=[\"panel_variant_id\", \"pvalue\", \"zscore\", \"imputation_status\"],\n",
    ")"
   ]
  },
  {
   "cell_type": "code",
   "execution_count": 18,
   "id": "3f4e814e-6b41-407e-9099-86795eec6ed9",
   "metadata": {
    "execution": {
     "iopub.execute_input": "2022-07-27T17:33:10.992141Z",
     "iopub.status.busy": "2022-07-27T17:33:10.991959Z",
     "iopub.status.idle": "2022-07-27T17:33:11.005437Z",
     "shell.execute_reply": "2022-07-27T17:33:11.004887Z"
    },
    "papermill": {
     "duration": 0.029848,
     "end_time": "2022-07-27T17:33:11.006738",
     "exception": false,
     "start_time": "2022-07-27T17:33:10.976890",
     "status": "completed"
    },
    "tags": []
   },
   "outputs": [
    {
     "data": {
      "text/plain": [
       "(8339505, 4)"
      ]
     },
     "execution_count": 18,
     "metadata": {},
     "output_type": "execute_result"
    }
   ],
   "source": [
    "gwas_data.shape"
   ]
  },
  {
   "cell_type": "code",
   "execution_count": 19,
   "id": "b4a906e9-c80a-47fc-9d73-5adb046f8b76",
   "metadata": {
    "execution": {
     "iopub.execute_input": "2022-07-27T17:33:11.033448Z",
     "iopub.status.busy": "2022-07-27T17:33:11.032855Z",
     "iopub.status.idle": "2022-07-27T17:33:11.049334Z",
     "shell.execute_reply": "2022-07-27T17:33:11.048849Z"
    },
    "papermill": {
     "duration": 0.030425,
     "end_time": "2022-07-27T17:33:11.050522",
     "exception": false,
     "start_time": "2022-07-27T17:33:11.020097",
     "status": "completed"
    },
    "tags": []
   },
   "outputs": [
    {
     "data": {
      "text/html": [
       "<div>\n",
       "<style scoped>\n",
       "    .dataframe tbody tr th:only-of-type {\n",
       "        vertical-align: middle;\n",
       "    }\n",
       "\n",
       "    .dataframe tbody tr th {\n",
       "        vertical-align: top;\n",
       "    }\n",
       "\n",
       "    .dataframe thead th {\n",
       "        text-align: right;\n",
       "    }\n",
       "</style>\n",
       "<table border=\"1\" class=\"dataframe\">\n",
       "  <thead>\n",
       "    <tr style=\"text-align: right;\">\n",
       "      <th></th>\n",
       "      <th>panel_variant_id</th>\n",
       "      <th>zscore</th>\n",
       "      <th>pvalue</th>\n",
       "      <th>imputation_status</th>\n",
       "    </tr>\n",
       "  </thead>\n",
       "  <tbody>\n",
       "    <tr>\n",
       "      <th>0</th>\n",
       "      <td>chr1_54490_G_A_b38</td>\n",
       "      <td>1.567452</td>\n",
       "      <td>0.117009</td>\n",
       "      <td>original</td>\n",
       "    </tr>\n",
       "    <tr>\n",
       "      <th>1</th>\n",
       "      <td>chr1_87021_T_C_b38</td>\n",
       "      <td>0.244372</td>\n",
       "      <td>0.806943</td>\n",
       "      <td>imputed</td>\n",
       "    </tr>\n",
       "    <tr>\n",
       "      <th>2</th>\n",
       "      <td>chr1_263722_C_G_b38</td>\n",
       "      <td>1.155239</td>\n",
       "      <td>0.247993</td>\n",
       "      <td>imputed</td>\n",
       "    </tr>\n",
       "    <tr>\n",
       "      <th>3</th>\n",
       "      <td>chr1_594402_C_T_b38</td>\n",
       "      <td>0.851234</td>\n",
       "      <td>0.394639</td>\n",
       "      <td>imputed</td>\n",
       "    </tr>\n",
       "    <tr>\n",
       "      <th>4</th>\n",
       "      <td>chr1_630555_C_T_b38</td>\n",
       "      <td>0.855129</td>\n",
       "      <td>0.392480</td>\n",
       "      <td>imputed</td>\n",
       "    </tr>\n",
       "  </tbody>\n",
       "</table>\n",
       "</div>"
      ],
      "text/plain": [
       "      panel_variant_id    zscore    pvalue imputation_status\n",
       "0   chr1_54490_G_A_b38  1.567452  0.117009          original\n",
       "1   chr1_87021_T_C_b38  0.244372  0.806943           imputed\n",
       "2  chr1_263722_C_G_b38  1.155239  0.247993           imputed\n",
       "3  chr1_594402_C_T_b38  0.851234  0.394639           imputed\n",
       "4  chr1_630555_C_T_b38  0.855129  0.392480           imputed"
      ]
     },
     "execution_count": 19,
     "metadata": {},
     "output_type": "execute_result"
    }
   ],
   "source": [
    "gwas_data.head()"
   ]
  },
  {
   "cell_type": "code",
   "execution_count": 20,
   "id": "346e2f88-44c6-4067-8752-118e2491f6fa",
   "metadata": {
    "execution": {
     "iopub.execute_input": "2022-07-27T17:33:11.075523Z",
     "iopub.status.busy": "2022-07-27T17:33:11.075312Z",
     "iopub.status.idle": "2022-07-27T17:33:11.463317Z",
     "shell.execute_reply": "2022-07-27T17:33:11.462718Z"
    },
    "papermill": {
     "duration": 0.401944,
     "end_time": "2022-07-27T17:33:11.464626",
     "exception": false,
     "start_time": "2022-07-27T17:33:11.062682",
     "status": "completed"
    },
    "tags": []
   },
   "outputs": [
    {
     "data": {
      "text/plain": [
       "array(['original', 'imputed'], dtype=object)"
      ]
     },
     "execution_count": 20,
     "metadata": {},
     "output_type": "execute_result"
    }
   ],
   "source": [
    "gwas_data[\"imputation_status\"].unique()"
   ]
  },
  {
   "cell_type": "code",
   "execution_count": 21,
   "id": "033c24fb-9c60-4ffd-929e-b0e6089820ae",
   "metadata": {
    "execution": {
     "iopub.execute_input": "2022-07-27T17:33:11.489948Z",
     "iopub.status.busy": "2022-07-27T17:33:11.489417Z",
     "iopub.status.idle": "2022-07-27T17:33:12.410605Z",
     "shell.execute_reply": "2022-07-27T17:33:12.410102Z"
    },
    "papermill": {
     "duration": 0.935326,
     "end_time": "2022-07-27T17:33:12.412167",
     "exception": false,
     "start_time": "2022-07-27T17:33:11.476841",
     "status": "completed"
    },
    "tags": []
   },
   "outputs": [
    {
     "data": {
      "text/plain": [
       "(8339505, 4)"
      ]
     },
     "execution_count": 21,
     "metadata": {},
     "output_type": "execute_result"
    }
   ],
   "source": [
    "gwas_data.dropna().shape"
   ]
  },
  {
   "cell_type": "code",
   "execution_count": 22,
   "id": "28232ce5-0afd-464e-9be3-64c3a68c2b25",
   "metadata": {
    "execution": {
     "iopub.execute_input": "2022-07-27T17:33:12.445832Z",
     "iopub.status.busy": "2022-07-27T17:33:12.445642Z",
     "iopub.status.idle": "2022-07-27T17:33:13.269805Z",
     "shell.execute_reply": "2022-07-27T17:33:13.269199Z"
    },
    "papermill": {
     "duration": 0.84207,
     "end_time": "2022-07-27T17:33:13.271412",
     "exception": false,
     "start_time": "2022-07-27T17:33:12.429342",
     "status": "completed"
    },
    "tags": []
   },
   "outputs": [],
   "source": [
    "# remove SNPs with no results\n",
    "gwas_data = gwas_data.dropna()"
   ]
  },
  {
   "cell_type": "code",
   "execution_count": 23,
   "id": "d9a6c31f-eedd-43e5-b762-5a9663be1b77",
   "metadata": {
    "execution": {
     "iopub.execute_input": "2022-07-27T17:33:13.300347Z",
     "iopub.status.busy": "2022-07-27T17:33:13.300185Z",
     "iopub.status.idle": "2022-07-27T17:33:13.312992Z",
     "shell.execute_reply": "2022-07-27T17:33:13.312425Z"
    },
    "papermill": {
     "duration": 0.027918,
     "end_time": "2022-07-27T17:33:13.314267",
     "exception": false,
     "start_time": "2022-07-27T17:33:13.286349",
     "status": "completed"
    },
    "tags": []
   },
   "outputs": [
    {
     "data": {
      "text/plain": [
       "(8339505, 4)"
      ]
     },
     "execution_count": 23,
     "metadata": {},
     "output_type": "execute_result"
    }
   ],
   "source": [
    "gwas_data.shape"
   ]
  },
  {
   "cell_type": "markdown",
   "id": "8da344de-2aa5-48a9-98ec-e8c3397ae7e6",
   "metadata": {
    "papermill": {
     "duration": 0.012074,
     "end_time": "2022-07-27T17:33:13.338698",
     "exception": false,
     "start_time": "2022-07-27T17:33:13.326624",
     "status": "completed"
    },
    "tags": []
   },
   "source": [
    "## Save GWAS variants"
   ]
  },
  {
   "cell_type": "code",
   "execution_count": 24,
   "id": "ac11fb33-ea3c-4d5c-a90b-0ceebdac43d3",
   "metadata": {
    "execution": {
     "iopub.execute_input": "2022-07-27T17:33:13.363674Z",
     "iopub.status.busy": "2022-07-27T17:33:13.363445Z",
     "iopub.status.idle": "2022-07-27T17:33:13.380385Z",
     "shell.execute_reply": "2022-07-27T17:33:13.379716Z"
    },
    "papermill": {
     "duration": 0.030818,
     "end_time": "2022-07-27T17:33:13.381581",
     "exception": false,
     "start_time": "2022-07-27T17:33:13.350763",
     "status": "completed"
    },
    "tags": []
   },
   "outputs": [
    {
     "data": {
      "text/html": [
       "<div>\n",
       "<style scoped>\n",
       "    .dataframe tbody tr th:only-of-type {\n",
       "        vertical-align: middle;\n",
       "    }\n",
       "\n",
       "    .dataframe tbody tr th {\n",
       "        vertical-align: top;\n",
       "    }\n",
       "\n",
       "    .dataframe thead th {\n",
       "        text-align: right;\n",
       "    }\n",
       "</style>\n",
       "<table border=\"1\" class=\"dataframe\">\n",
       "  <thead>\n",
       "    <tr style=\"text-align: right;\">\n",
       "      <th></th>\n",
       "      <th>panel_variant_id</th>\n",
       "      <th>zscore</th>\n",
       "      <th>pvalue</th>\n",
       "      <th>imputation_status</th>\n",
       "    </tr>\n",
       "  </thead>\n",
       "  <tbody>\n",
       "    <tr>\n",
       "      <th>0</th>\n",
       "      <td>chr1_54490_G_A_b38</td>\n",
       "      <td>1.567452</td>\n",
       "      <td>0.117009</td>\n",
       "      <td>original</td>\n",
       "    </tr>\n",
       "    <tr>\n",
       "      <th>1</th>\n",
       "      <td>chr1_87021_T_C_b38</td>\n",
       "      <td>0.244372</td>\n",
       "      <td>0.806943</td>\n",
       "      <td>imputed</td>\n",
       "    </tr>\n",
       "    <tr>\n",
       "      <th>2</th>\n",
       "      <td>chr1_263722_C_G_b38</td>\n",
       "      <td>1.155239</td>\n",
       "      <td>0.247993</td>\n",
       "      <td>imputed</td>\n",
       "    </tr>\n",
       "    <tr>\n",
       "      <th>3</th>\n",
       "      <td>chr1_594402_C_T_b38</td>\n",
       "      <td>0.851234</td>\n",
       "      <td>0.394639</td>\n",
       "      <td>imputed</td>\n",
       "    </tr>\n",
       "    <tr>\n",
       "      <th>4</th>\n",
       "      <td>chr1_630555_C_T_b38</td>\n",
       "      <td>0.855129</td>\n",
       "      <td>0.392480</td>\n",
       "      <td>imputed</td>\n",
       "    </tr>\n",
       "  </tbody>\n",
       "</table>\n",
       "</div>"
      ],
      "text/plain": [
       "      panel_variant_id    zscore    pvalue imputation_status\n",
       "0   chr1_54490_G_A_b38  1.567452  0.117009          original\n",
       "1   chr1_87021_T_C_b38  0.244372  0.806943           imputed\n",
       "2  chr1_263722_C_G_b38  1.155239  0.247993           imputed\n",
       "3  chr1_594402_C_T_b38  0.851234  0.394639           imputed\n",
       "4  chr1_630555_C_T_b38  0.855129  0.392480           imputed"
      ]
     },
     "execution_count": 24,
     "metadata": {},
     "output_type": "execute_result"
    }
   ],
   "source": [
    "gwas_data.head()"
   ]
  },
  {
   "cell_type": "code",
   "execution_count": 25,
   "id": "5f34bb3d-761a-4860-a179-77ea5f5784ad",
   "metadata": {
    "execution": {
     "iopub.execute_input": "2022-07-27T17:33:13.407300Z",
     "iopub.status.busy": "2022-07-27T17:33:13.407095Z",
     "iopub.status.idle": "2022-07-27T17:33:17.946969Z",
     "shell.execute_reply": "2022-07-27T17:33:17.946244Z"
    },
    "papermill": {
     "duration": 4.554651,
     "end_time": "2022-07-27T17:33:17.948726",
     "exception": false,
     "start_time": "2022-07-27T17:33:13.394075",
     "status": "completed"
    },
    "tags": []
   },
   "outputs": [],
   "source": [
    "assert gwas_data[\"panel_variant_id\"].is_unique"
   ]
  },
  {
   "cell_type": "code",
   "execution_count": 26,
   "id": "d4f23b2f-01a3-4a45-a2b6-31b245b5778e",
   "metadata": {
    "execution": {
     "iopub.execute_input": "2022-07-27T17:33:17.981085Z",
     "iopub.status.busy": "2022-07-27T17:33:17.980898Z",
     "iopub.status.idle": "2022-07-27T17:33:20.790824Z",
     "shell.execute_reply": "2022-07-27T17:33:20.789868Z"
    },
    "papermill": {
     "duration": 2.828408,
     "end_time": "2022-07-27T17:33:20.793282",
     "exception": false,
     "start_time": "2022-07-27T17:33:17.964874",
     "status": "completed"
    },
    "tags": []
   },
   "outputs": [
    {
     "data": {
      "text/plain": [
       "['chr2_165831678_T_C_b38',\n",
       " 'chr4_85678484_A_C_b38',\n",
       " 'chr13_18893534_A_T_b38',\n",
       " 'chr13_30710910_A_G_b38',\n",
       " 'chr1_233708632_G_C_b38']"
      ]
     },
     "execution_count": 26,
     "metadata": {},
     "output_type": "execute_result"
    }
   ],
   "source": [
    "gwas_variants_ids_set = frozenset(gwas_data[\"panel_variant_id\"])\n",
    "list(gwas_variants_ids_set)[:5]"
   ]
  },
  {
   "cell_type": "code",
   "execution_count": 27,
   "id": "b4a441df-07d7-48dc-be36-cdb3f92be651",
   "metadata": {
    "execution": {
     "iopub.execute_input": "2022-07-27T17:33:20.834014Z",
     "iopub.status.busy": "2022-07-27T17:33:20.833828Z",
     "iopub.status.idle": "2022-07-27T17:33:25.145899Z",
     "shell.execute_reply": "2022-07-27T17:33:25.144940Z"
    },
    "papermill": {
     "duration": 4.333583,
     "end_time": "2022-07-27T17:33:25.148478",
     "exception": false,
     "start_time": "2022-07-27T17:33:20.814895",
     "status": "completed"
    },
    "tags": []
   },
   "outputs": [],
   "source": [
    "with open(OUTPUT_DIR_BASE / \"gwas_variant_ids.pkl\", \"wb\") as handle:\n",
    "    pickle.dump(gwas_variants_ids_set, handle, protocol=pickle.HIGHEST_PROTOCOL)"
   ]
  },
  {
   "cell_type": "markdown",
   "id": "abcc4b3d",
   "metadata": {
    "papermill": {
     "duration": 0.01821,
     "end_time": "2022-07-27T17:33:25.199273",
     "exception": false,
     "start_time": "2022-07-27T17:33:25.181063",
     "status": "completed"
    },
    "tags": []
   },
   "source": [
    "# TWAS"
   ]
  },
  {
   "cell_type": "markdown",
   "id": "2fbc7358-0563-4fc6-bc47-a0fbcc5cdfd4",
   "metadata": {
    "papermill": {
     "duration": 0.012085,
     "end_time": "2022-07-27T17:33:25.223403",
     "exception": false,
     "start_time": "2022-07-27T17:33:25.211318",
     "status": "completed"
    },
    "tags": []
   },
   "source": [
    "## Available tissues for eQTL model"
   ]
  },
  {
   "cell_type": "code",
   "execution_count": 28,
   "id": "f32c0a84-030a-436b-b597-852b6150d2ac",
   "metadata": {
    "execution": {
     "iopub.execute_input": "2022-07-27T17:33:25.248614Z",
     "iopub.status.busy": "2022-07-27T17:33:25.248398Z",
     "iopub.status.idle": "2022-07-27T17:33:25.260560Z",
     "shell.execute_reply": "2022-07-27T17:33:25.259968Z"
    },
    "papermill": {
     "duration": 0.026387,
     "end_time": "2022-07-27T17:33:25.261847",
     "exception": false,
     "start_time": "2022-07-27T17:33:25.235460",
     "status": "completed"
    },
    "tags": []
   },
   "outputs": [],
   "source": [
    "prediction_model_tissues = conf.PHENOMEXCAN[\"PREDICTION_MODELS\"][\n",
    "    f\"{EQTL_MODEL}_TISSUES\"\n",
    "].split(\" \")"
   ]
  },
  {
   "cell_type": "code",
   "execution_count": 29,
   "id": "0e760d0e-f23d-4590-abfb-811a43f7c237",
   "metadata": {
    "execution": {
     "iopub.execute_input": "2022-07-27T17:33:25.287548Z",
     "iopub.status.busy": "2022-07-27T17:33:25.287345Z",
     "iopub.status.idle": "2022-07-27T17:33:25.300307Z",
     "shell.execute_reply": "2022-07-27T17:33:25.299772Z"
    },
    "papermill": {
     "duration": 0.02711,
     "end_time": "2022-07-27T17:33:25.301534",
     "exception": false,
     "start_time": "2022-07-27T17:33:25.274424",
     "status": "completed"
    },
    "tags": []
   },
   "outputs": [
    {
     "data": {
      "text/plain": [
       "49"
      ]
     },
     "execution_count": 29,
     "metadata": {},
     "output_type": "execute_result"
    }
   ],
   "source": [
    "len(prediction_model_tissues)"
   ]
  },
  {
   "cell_type": "code",
   "execution_count": 30,
   "id": "fa4d942c-cd67-4b31-9491-585c887c0ee3",
   "metadata": {
    "execution": {
     "iopub.execute_input": "2022-07-27T17:33:25.327507Z",
     "iopub.status.busy": "2022-07-27T17:33:25.327327Z",
     "iopub.status.idle": "2022-07-27T17:33:25.340213Z",
     "shell.execute_reply": "2022-07-27T17:33:25.339725Z"
    },
    "papermill": {
     "duration": 0.027025,
     "end_time": "2022-07-27T17:33:25.341360",
     "exception": false,
     "start_time": "2022-07-27T17:33:25.314335",
     "status": "completed"
    },
    "tags": []
   },
   "outputs": [
    {
     "data": {
      "text/plain": [
       "['Skin_Not_Sun_Exposed_Suprapubic',\n",
       " 'Cells_EBV-transformed_lymphocytes',\n",
       " 'Brain_Frontal_Cortex_BA9',\n",
       " 'Kidney_Cortex',\n",
       " 'Brain_Substantia_nigra']"
      ]
     },
     "execution_count": 30,
     "metadata": {},
     "output_type": "execute_result"
    }
   ],
   "source": [
    "prediction_model_tissues[:5]"
   ]
  },
  {
   "cell_type": "markdown",
   "id": "5b9f384a-5a91-4a8d-9007-cfe43f2d86f8",
   "metadata": {
    "papermill": {
     "duration": 0.012585,
     "end_time": "2022-07-27T17:33:25.366728",
     "exception": false,
     "start_time": "2022-07-27T17:33:25.354143",
     "status": "completed"
    },
    "tags": []
   },
   "source": [
    "## S-PrediXcan results"
   ]
  },
  {
   "cell_type": "markdown",
   "id": "fc0a2a4c-960c-4a0a-9b23-b66c3d5d6e07",
   "metadata": {
    "papermill": {
     "duration": 0.012965,
     "end_time": "2022-07-27T17:33:25.392075",
     "exception": false,
     "start_time": "2022-07-27T17:33:25.379110",
     "status": "completed"
    },
    "tags": []
   },
   "source": [
    "### Load results across all tissues"
   ]
  },
  {
   "cell_type": "code",
   "execution_count": 31,
   "id": "0b4867d7-a608-4b08-9d77-1782be3a0c94",
   "metadata": {
    "execution": {
     "iopub.execute_input": "2022-07-27T17:33:25.418529Z",
     "iopub.status.busy": "2022-07-27T17:33:25.418323Z",
     "iopub.status.idle": "2022-07-27T17:33:25.430466Z",
     "shell.execute_reply": "2022-07-27T17:33:25.429999Z"
    },
    "papermill": {
     "duration": 0.026947,
     "end_time": "2022-07-27T17:33:25.431761",
     "exception": false,
     "start_time": "2022-07-27T17:33:25.404814",
     "status": "completed"
    },
    "tags": []
   },
   "outputs": [],
   "source": [
    "spredixcan_result_files = {\n",
    "    t: SPREDIXCAN_FOLDER / SPREDIXCAN_FILE_PATTERN.format(tissue=t)\n",
    "    for t in prediction_model_tissues\n",
    "}"
   ]
  },
  {
   "cell_type": "code",
   "execution_count": 32,
   "id": "0ce270dd-46ac-4eaa-9d86-2b201d67d82f",
   "metadata": {
    "execution": {
     "iopub.execute_input": "2022-07-27T17:33:25.458088Z",
     "iopub.status.busy": "2022-07-27T17:33:25.457885Z",
     "iopub.status.idle": "2022-07-27T17:33:25.470898Z",
     "shell.execute_reply": "2022-07-27T17:33:25.470355Z"
    },
    "papermill": {
     "duration": 0.027608,
     "end_time": "2022-07-27T17:33:25.472158",
     "exception": false,
     "start_time": "2022-07-27T17:33:25.444550",
     "status": "completed"
    },
    "tags": []
   },
   "outputs": [
    {
     "data": {
      "text/plain": [
       "[PosixPath('/opt/data/results/gls/null_sims/twas/spredixcan/random.pheno0-gtex_v8-mashr-Skin_Not_Sun_Exposed_Suprapubic.csv'),\n",
       " PosixPath('/opt/data/results/gls/null_sims/twas/spredixcan/random.pheno0-gtex_v8-mashr-Cells_EBV-transformed_lymphocytes.csv'),\n",
       " PosixPath('/opt/data/results/gls/null_sims/twas/spredixcan/random.pheno0-gtex_v8-mashr-Brain_Frontal_Cortex_BA9.csv'),\n",
       " PosixPath('/opt/data/results/gls/null_sims/twas/spredixcan/random.pheno0-gtex_v8-mashr-Kidney_Cortex.csv'),\n",
       " PosixPath('/opt/data/results/gls/null_sims/twas/spredixcan/random.pheno0-gtex_v8-mashr-Brain_Substantia_nigra.csv')]"
      ]
     },
     "metadata": {},
     "output_type": "display_data"
    }
   ],
   "source": [
    "assert len(spredixcan_result_files) == len(prediction_model_tissues)\n",
    "display(list(spredixcan_result_files.values())[:5])"
   ]
  },
  {
   "cell_type": "code",
   "execution_count": 33,
   "id": "aa140259-303e-4912-b2bf-e7adce662f88",
   "metadata": {
    "execution": {
     "iopub.execute_input": "2022-07-27T17:33:25.499172Z",
     "iopub.status.busy": "2022-07-27T17:33:25.499012Z",
     "iopub.status.idle": "2022-07-27T17:33:25.539132Z",
     "shell.execute_reply": "2022-07-27T17:33:25.538283Z"
    },
    "papermill": {
     "duration": 0.05501,
     "end_time": "2022-07-27T17:33:25.540331",
     "exception": false,
     "start_time": "2022-07-27T17:33:25.485321",
     "status": "completed"
    },
    "tags": []
   },
   "outputs": [
    {
     "data": {
      "text/html": [
       "<div>\n",
       "<style scoped>\n",
       "    .dataframe tbody tr th:only-of-type {\n",
       "        vertical-align: middle;\n",
       "    }\n",
       "\n",
       "    .dataframe tbody tr th {\n",
       "        vertical-align: top;\n",
       "    }\n",
       "\n",
       "    .dataframe thead th {\n",
       "        text-align: right;\n",
       "    }\n",
       "</style>\n",
       "<table border=\"1\" class=\"dataframe\">\n",
       "  <thead>\n",
       "    <tr style=\"text-align: right;\">\n",
       "      <th></th>\n",
       "      <th>gene</th>\n",
       "      <th>gene_name</th>\n",
       "      <th>zscore</th>\n",
       "      <th>effect_size</th>\n",
       "      <th>pvalue</th>\n",
       "      <th>var_g</th>\n",
       "      <th>pred_perf_r2</th>\n",
       "      <th>pred_perf_pval</th>\n",
       "      <th>pred_perf_qval</th>\n",
       "      <th>n_snps_used</th>\n",
       "      <th>n_snps_in_cov</th>\n",
       "      <th>n_snps_in_model</th>\n",
       "      <th>best_gwas_p</th>\n",
       "      <th>largest_weight</th>\n",
       "    </tr>\n",
       "  </thead>\n",
       "  <tbody>\n",
       "    <tr>\n",
       "      <th>0</th>\n",
       "      <td>ENSG00000131236.16</td>\n",
       "      <td>CAP1</td>\n",
       "      <td>-3.882684</td>\n",
       "      <td>NaN</td>\n",
       "      <td>0.000103</td>\n",
       "      <td>8.369900e-05</td>\n",
       "      <td>NaN</td>\n",
       "      <td>NaN</td>\n",
       "      <td>NaN</td>\n",
       "      <td>1</td>\n",
       "      <td>1</td>\n",
       "      <td>1</td>\n",
       "      <td>0.000103</td>\n",
       "      <td>0.021593</td>\n",
       "    </tr>\n",
       "    <tr>\n",
       "      <th>1</th>\n",
       "      <td>ENSG00000130787.13</td>\n",
       "      <td>HIP1R</td>\n",
       "      <td>3.862583</td>\n",
       "      <td>NaN</td>\n",
       "      <td>0.000112</td>\n",
       "      <td>3.039669e-03</td>\n",
       "      <td>NaN</td>\n",
       "      <td>NaN</td>\n",
       "      <td>NaN</td>\n",
       "      <td>2</td>\n",
       "      <td>2</td>\n",
       "      <td>2</td>\n",
       "      <td>0.001681</td>\n",
       "      <td>0.087495</td>\n",
       "    </tr>\n",
       "    <tr>\n",
       "      <th>2</th>\n",
       "      <td>ENSG00000103018.16</td>\n",
       "      <td>CYB5B</td>\n",
       "      <td>3.478682</td>\n",
       "      <td>NaN</td>\n",
       "      <td>0.000504</td>\n",
       "      <td>6.455623e-03</td>\n",
       "      <td>NaN</td>\n",
       "      <td>NaN</td>\n",
       "      <td>NaN</td>\n",
       "      <td>1</td>\n",
       "      <td>1</td>\n",
       "      <td>1</td>\n",
       "      <td>0.000504</td>\n",
       "      <td>0.114291</td>\n",
       "    </tr>\n",
       "    <tr>\n",
       "      <th>3</th>\n",
       "      <td>ENSG00000117906.13</td>\n",
       "      <td>RCN2</td>\n",
       "      <td>3.431258</td>\n",
       "      <td>NaN</td>\n",
       "      <td>0.000601</td>\n",
       "      <td>5.848182e-07</td>\n",
       "      <td>NaN</td>\n",
       "      <td>NaN</td>\n",
       "      <td>NaN</td>\n",
       "      <td>1</td>\n",
       "      <td>1</td>\n",
       "      <td>1</td>\n",
       "      <td>0.000601</td>\n",
       "      <td>0.001696</td>\n",
       "    </tr>\n",
       "    <tr>\n",
       "      <th>4</th>\n",
       "      <td>ENSG00000135469.13</td>\n",
       "      <td>COQ10A</td>\n",
       "      <td>3.363631</td>\n",
       "      <td>NaN</td>\n",
       "      <td>0.000769</td>\n",
       "      <td>4.312235e-04</td>\n",
       "      <td>NaN</td>\n",
       "      <td>NaN</td>\n",
       "      <td>NaN</td>\n",
       "      <td>2</td>\n",
       "      <td>2</td>\n",
       "      <td>2</td>\n",
       "      <td>0.013565</td>\n",
       "      <td>0.064460</td>\n",
       "    </tr>\n",
       "  </tbody>\n",
       "</table>\n",
       "</div>"
      ],
      "text/plain": [
       "                 gene gene_name    zscore  effect_size    pvalue  \\\n",
       "0  ENSG00000131236.16      CAP1 -3.882684          NaN  0.000103   \n",
       "1  ENSG00000130787.13     HIP1R  3.862583          NaN  0.000112   \n",
       "2  ENSG00000103018.16     CYB5B  3.478682          NaN  0.000504   \n",
       "3  ENSG00000117906.13      RCN2  3.431258          NaN  0.000601   \n",
       "4  ENSG00000135469.13    COQ10A  3.363631          NaN  0.000769   \n",
       "\n",
       "          var_g  pred_perf_r2  pred_perf_pval  pred_perf_qval  n_snps_used  \\\n",
       "0  8.369900e-05           NaN             NaN             NaN            1   \n",
       "1  3.039669e-03           NaN             NaN             NaN            2   \n",
       "2  6.455623e-03           NaN             NaN             NaN            1   \n",
       "3  5.848182e-07           NaN             NaN             NaN            1   \n",
       "4  4.312235e-04           NaN             NaN             NaN            2   \n",
       "\n",
       "   n_snps_in_cov  n_snps_in_model  best_gwas_p  largest_weight  \n",
       "0              1                1     0.000103        0.021593  \n",
       "1              2                2     0.001681        0.087495  \n",
       "2              1                1     0.000504        0.114291  \n",
       "3              1                1     0.000601        0.001696  \n",
       "4              2                2     0.013565        0.064460  "
      ]
     },
     "execution_count": 33,
     "metadata": {},
     "output_type": "execute_result"
    }
   ],
   "source": [
    "# look at the structure of one result\n",
    "pd.read_csv(spredixcan_result_files[\"Whole_Blood\"]).head()"
   ]
  },
  {
   "cell_type": "code",
   "execution_count": 34,
   "id": "4381b9ff-6ab5-47f1-89d1-560f88fdf07f",
   "metadata": {
    "execution": {
     "iopub.execute_input": "2022-07-27T17:33:25.567347Z",
     "iopub.status.busy": "2022-07-27T17:33:25.567142Z",
     "iopub.status.idle": "2022-07-27T17:33:25.579855Z",
     "shell.execute_reply": "2022-07-27T17:33:25.579273Z"
    },
    "papermill": {
     "duration": 0.02769,
     "end_time": "2022-07-27T17:33:25.581113",
     "exception": false,
     "start_time": "2022-07-27T17:33:25.553423",
     "status": "completed"
    },
    "tags": []
   },
   "outputs": [],
   "source": [
    "assert all(f.exists() for f in spredixcan_result_files.values())"
   ]
  },
  {
   "cell_type": "code",
   "execution_count": 35,
   "id": "d477157f-51e9-4c7c-b826-7ab5f4fdf3e3",
   "metadata": {
    "execution": {
     "iopub.execute_input": "2022-07-27T17:33:25.608977Z",
     "iopub.status.busy": "2022-07-27T17:33:25.608818Z",
     "iopub.status.idle": "2022-07-27T17:33:26.976675Z",
     "shell.execute_reply": "2022-07-27T17:33:26.976190Z"
    },
    "papermill": {
     "duration": 1.383184,
     "end_time": "2022-07-27T17:33:26.977991",
     "exception": false,
     "start_time": "2022-07-27T17:33:25.594807",
     "status": "completed"
    },
    "tags": []
   },
   "outputs": [],
   "source": [
    "spredixcan_dfs = [\n",
    "    pd.read_csv(\n",
    "        f, usecols=[\"gene\", \"zscore\", \"pvalue\", \"n_snps_used\", \"n_snps_in_model\"]\n",
    "    )\n",
    "    .dropna(subset=[\"gene\", \"zscore\", \"pvalue\"])\n",
    "    .assign(tissue=t)\n",
    "    for t, f in spredixcan_result_files.items()\n",
    "]"
   ]
  },
  {
   "cell_type": "code",
   "execution_count": 36,
   "id": "9730bd37-b769-411f-bb6b-bb658d1ff88c",
   "metadata": {
    "execution": {
     "iopub.execute_input": "2022-07-27T17:33:27.004879Z",
     "iopub.status.busy": "2022-07-27T17:33:27.004688Z",
     "iopub.status.idle": "2022-07-27T17:33:27.016846Z",
     "shell.execute_reply": "2022-07-27T17:33:27.016345Z"
    },
    "papermill": {
     "duration": 0.026853,
     "end_time": "2022-07-27T17:33:27.018031",
     "exception": false,
     "start_time": "2022-07-27T17:33:26.991178",
     "status": "completed"
    },
    "tags": []
   },
   "outputs": [],
   "source": [
    "assert len(spredixcan_dfs) == len(prediction_model_tissues)"
   ]
  },
  {
   "cell_type": "code",
   "execution_count": 37,
   "id": "bcd73f53-1283-4ff6-bbb5-25fb71f5cb72",
   "metadata": {
    "execution": {
     "iopub.execute_input": "2022-07-27T17:33:27.045233Z",
     "iopub.status.busy": "2022-07-27T17:33:27.045030Z",
     "iopub.status.idle": "2022-07-27T17:33:27.551490Z",
     "shell.execute_reply": "2022-07-27T17:33:27.550900Z"
    },
    "papermill": {
     "duration": 0.521773,
     "end_time": "2022-07-27T17:33:27.553155",
     "exception": false,
     "start_time": "2022-07-27T17:33:27.031382",
     "status": "completed"
    },
    "tags": []
   },
   "outputs": [],
   "source": [
    "spredixcan_dfs = pd.concat(spredixcan_dfs)"
   ]
  },
  {
   "cell_type": "code",
   "execution_count": 38,
   "id": "ae99c7b5-14fc-4b39-a6b2-40fc703acd0a",
   "metadata": {
    "execution": {
     "iopub.execute_input": "2022-07-27T17:33:27.587840Z",
     "iopub.status.busy": "2022-07-27T17:33:27.587663Z",
     "iopub.status.idle": "2022-07-27T17:33:27.632163Z",
     "shell.execute_reply": "2022-07-27T17:33:27.631454Z"
    },
    "papermill": {
     "duration": 0.063059,
     "end_time": "2022-07-27T17:33:27.633649",
     "exception": false,
     "start_time": "2022-07-27T17:33:27.570590",
     "status": "completed"
    },
    "tags": []
   },
   "outputs": [],
   "source": [
    "assert spredixcan_dfs[\"tissue\"].unique().shape[0] == len(prediction_model_tissues)"
   ]
  },
  {
   "cell_type": "code",
   "execution_count": 39,
   "id": "b7223a23-e40f-4cd3-8988-72033f8739bd",
   "metadata": {
    "execution": {
     "iopub.execute_input": "2022-07-27T17:33:27.660557Z",
     "iopub.status.busy": "2022-07-27T17:33:27.660343Z",
     "iopub.status.idle": "2022-07-27T17:33:27.673220Z",
     "shell.execute_reply": "2022-07-27T17:33:27.672647Z"
    },
    "papermill": {
     "duration": 0.027839,
     "end_time": "2022-07-27T17:33:27.674546",
     "exception": false,
     "start_time": "2022-07-27T17:33:27.646707",
     "status": "completed"
    },
    "tags": []
   },
   "outputs": [
    {
     "data": {
      "text/plain": [
       "(653140, 6)"
      ]
     },
     "execution_count": 39,
     "metadata": {},
     "output_type": "execute_result"
    }
   ],
   "source": [
    "spredixcan_dfs.shape"
   ]
  },
  {
   "cell_type": "code",
   "execution_count": 40,
   "id": "4987073a-3b70-4162-93fb-beeb351ebfe0",
   "metadata": {
    "execution": {
     "iopub.execute_input": "2022-07-27T17:33:27.702157Z",
     "iopub.status.busy": "2022-07-27T17:33:27.702003Z",
     "iopub.status.idle": "2022-07-27T17:33:27.883241Z",
     "shell.execute_reply": "2022-07-27T17:33:27.882531Z"
    },
    "papermill": {
     "duration": 0.19673,
     "end_time": "2022-07-27T17:33:27.884811",
     "exception": false,
     "start_time": "2022-07-27T17:33:27.688081",
     "status": "completed"
    },
    "tags": []
   },
   "outputs": [],
   "source": [
    "spredixcan_dfs = spredixcan_dfs.assign(\n",
    "    gene_id=spredixcan_dfs[\"gene\"].apply(lambda g: g.split(\".\")[0])\n",
    ")"
   ]
  },
  {
   "cell_type": "code",
   "execution_count": 41,
   "id": "6b47d026-01c0-4f7c-a90e-f0baa13235f4",
   "metadata": {
    "execution": {
     "iopub.execute_input": "2022-07-27T17:33:27.918442Z",
     "iopub.status.busy": "2022-07-27T17:33:27.918262Z",
     "iopub.status.idle": "2022-07-27T17:33:27.937074Z",
     "shell.execute_reply": "2022-07-27T17:33:27.936338Z"
    },
    "papermill": {
     "duration": 0.036917,
     "end_time": "2022-07-27T17:33:27.938459",
     "exception": false,
     "start_time": "2022-07-27T17:33:27.901542",
     "status": "completed"
    },
    "tags": []
   },
   "outputs": [
    {
     "data": {
      "text/html": [
       "<div>\n",
       "<style scoped>\n",
       "    .dataframe tbody tr th:only-of-type {\n",
       "        vertical-align: middle;\n",
       "    }\n",
       "\n",
       "    .dataframe tbody tr th {\n",
       "        vertical-align: top;\n",
       "    }\n",
       "\n",
       "    .dataframe thead th {\n",
       "        text-align: right;\n",
       "    }\n",
       "</style>\n",
       "<table border=\"1\" class=\"dataframe\">\n",
       "  <thead>\n",
       "    <tr style=\"text-align: right;\">\n",
       "      <th></th>\n",
       "      <th>gene</th>\n",
       "      <th>zscore</th>\n",
       "      <th>pvalue</th>\n",
       "      <th>n_snps_used</th>\n",
       "      <th>n_snps_in_model</th>\n",
       "      <th>tissue</th>\n",
       "      <th>gene_id</th>\n",
       "    </tr>\n",
       "  </thead>\n",
       "  <tbody>\n",
       "    <tr>\n",
       "      <th>0</th>\n",
       "      <td>ENSG00000131236.16</td>\n",
       "      <td>-3.882684</td>\n",
       "      <td>0.000103</td>\n",
       "      <td>1</td>\n",
       "      <td>1</td>\n",
       "      <td>Skin_Not_Sun_Exposed_Suprapubic</td>\n",
       "      <td>ENSG00000131236</td>\n",
       "    </tr>\n",
       "    <tr>\n",
       "      <th>1</th>\n",
       "      <td>ENSG00000196172.9</td>\n",
       "      <td>-3.710444</td>\n",
       "      <td>0.000207</td>\n",
       "      <td>1</td>\n",
       "      <td>1</td>\n",
       "      <td>Skin_Not_Sun_Exposed_Suprapubic</td>\n",
       "      <td>ENSG00000196172</td>\n",
       "    </tr>\n",
       "    <tr>\n",
       "      <th>2</th>\n",
       "      <td>ENSG00000280789.1</td>\n",
       "      <td>3.403263</td>\n",
       "      <td>0.000666</td>\n",
       "      <td>2</td>\n",
       "      <td>2</td>\n",
       "      <td>Skin_Not_Sun_Exposed_Suprapubic</td>\n",
       "      <td>ENSG00000280789</td>\n",
       "    </tr>\n",
       "    <tr>\n",
       "      <th>3</th>\n",
       "      <td>ENSG00000215218.3</td>\n",
       "      <td>3.385093</td>\n",
       "      <td>0.000712</td>\n",
       "      <td>3</td>\n",
       "      <td>3</td>\n",
       "      <td>Skin_Not_Sun_Exposed_Suprapubic</td>\n",
       "      <td>ENSG00000215218</td>\n",
       "    </tr>\n",
       "    <tr>\n",
       "      <th>4</th>\n",
       "      <td>ENSG00000167371.17</td>\n",
       "      <td>3.381834</td>\n",
       "      <td>0.000720</td>\n",
       "      <td>2</td>\n",
       "      <td>2</td>\n",
       "      <td>Skin_Not_Sun_Exposed_Suprapubic</td>\n",
       "      <td>ENSG00000167371</td>\n",
       "    </tr>\n",
       "  </tbody>\n",
       "</table>\n",
       "</div>"
      ],
      "text/plain": [
       "                 gene    zscore    pvalue  n_snps_used  n_snps_in_model  \\\n",
       "0  ENSG00000131236.16 -3.882684  0.000103            1                1   \n",
       "1   ENSG00000196172.9 -3.710444  0.000207            1                1   \n",
       "2   ENSG00000280789.1  3.403263  0.000666            2                2   \n",
       "3   ENSG00000215218.3  3.385093  0.000712            3                3   \n",
       "4  ENSG00000167371.17  3.381834  0.000720            2                2   \n",
       "\n",
       "                            tissue          gene_id  \n",
       "0  Skin_Not_Sun_Exposed_Suprapubic  ENSG00000131236  \n",
       "1  Skin_Not_Sun_Exposed_Suprapubic  ENSG00000196172  \n",
       "2  Skin_Not_Sun_Exposed_Suprapubic  ENSG00000280789  \n",
       "3  Skin_Not_Sun_Exposed_Suprapubic  ENSG00000215218  \n",
       "4  Skin_Not_Sun_Exposed_Suprapubic  ENSG00000167371  "
      ]
     },
     "execution_count": 41,
     "metadata": {},
     "output_type": "execute_result"
    }
   ],
   "source": [
    "spredixcan_dfs.head()"
   ]
  },
  {
   "cell_type": "markdown",
   "id": "5ecfd141-ecb8-47cf-905e-25cc1b4d3f9d",
   "metadata": {
    "papermill": {
     "duration": 0.013536,
     "end_time": "2022-07-27T17:33:27.966285",
     "exception": false,
     "start_time": "2022-07-27T17:33:27.952749",
     "status": "completed"
    },
    "tags": []
   },
   "source": [
    "### Count number of tissues available per gene"
   ]
  },
  {
   "cell_type": "code",
   "execution_count": 42,
   "id": "86fe37e1-a303-4221-a12e-3a54a04dd510",
   "metadata": {
    "execution": {
     "iopub.execute_input": "2022-07-27T17:33:27.993881Z",
     "iopub.status.busy": "2022-07-27T17:33:27.993680Z",
     "iopub.status.idle": "2022-07-27T17:33:28.178279Z",
     "shell.execute_reply": "2022-07-27T17:33:28.177599Z"
    },
    "papermill": {
     "duration": 0.20036,
     "end_time": "2022-07-27T17:33:28.179905",
     "exception": false,
     "start_time": "2022-07-27T17:33:27.979545",
     "status": "completed"
    },
    "tags": []
   },
   "outputs": [],
   "source": [
    "spredixcan_genes_n_models = spredixcan_dfs.groupby(\"gene_id\")[\"tissue\"].nunique()"
   ]
  },
  {
   "cell_type": "code",
   "execution_count": 43,
   "id": "31416d48-1e4d-463f-9a5c-34d29803c3f8",
   "metadata": {
    "execution": {
     "iopub.execute_input": "2022-07-27T17:33:28.212043Z",
     "iopub.status.busy": "2022-07-27T17:33:28.211886Z",
     "iopub.status.idle": "2022-07-27T17:33:28.228564Z",
     "shell.execute_reply": "2022-07-27T17:33:28.227888Z"
    },
    "papermill": {
     "duration": 0.033437,
     "end_time": "2022-07-27T17:33:28.229861",
     "exception": false,
     "start_time": "2022-07-27T17:33:28.196424",
     "status": "completed"
    },
    "tags": []
   },
   "outputs": [
    {
     "data": {
      "text/plain": [
       "gene_id\n",
       "ENSG00000000419     2\n",
       "ENSG00000000457    48\n",
       "ENSG00000000460    39\n",
       "ENSG00000000938    36\n",
       "ENSG00000000971    34\n",
       "                   ..\n",
       "ENSG00000284430     6\n",
       "ENSG00000284452     1\n",
       "ENSG00000284513     1\n",
       "ENSG00000284526    42\n",
       "ENSG00000284552     1\n",
       "Name: tissue, Length: 22314, dtype: int64"
      ]
     },
     "execution_count": 43,
     "metadata": {},
     "output_type": "execute_result"
    }
   ],
   "source": [
    "spredixcan_genes_n_models"
   ]
  },
  {
   "cell_type": "markdown",
   "id": "904d7d30-9c2d-4c3e-b674-3f081954fe8b",
   "metadata": {
    "papermill": {
     "duration": 0.013422,
     "end_time": "2022-07-27T17:33:28.258195",
     "exception": false,
     "start_time": "2022-07-27T17:33:28.244773",
     "status": "completed"
    },
    "tags": []
   },
   "source": [
    "### Get tissues available per gene"
   ]
  },
  {
   "cell_type": "code",
   "execution_count": 44,
   "id": "cf014e81-4b4e-4c46-9265-67718b3ab08e",
   "metadata": {
    "execution": {
     "iopub.execute_input": "2022-07-27T17:33:28.286017Z",
     "iopub.status.busy": "2022-07-27T17:33:28.285815Z",
     "iopub.status.idle": "2022-07-27T17:33:28.805954Z",
     "shell.execute_reply": "2022-07-27T17:33:28.805370Z"
    },
    "papermill": {
     "duration": 0.535981,
     "end_time": "2022-07-27T17:33:28.807459",
     "exception": false,
     "start_time": "2022-07-27T17:33:28.271478",
     "status": "completed"
    },
    "tags": []
   },
   "outputs": [],
   "source": [
    "spredixcan_genes_models = spredixcan_dfs.groupby(\"gene_id\")[\"tissue\"].apply(\n",
    "    lambda x: frozenset(x.tolist())\n",
    ")"
   ]
  },
  {
   "cell_type": "code",
   "execution_count": 45,
   "id": "5df09d7f-39c9-408f-9fef-5189e8ca1c87",
   "metadata": {
    "execution": {
     "iopub.execute_input": "2022-07-27T17:33:28.836707Z",
     "iopub.status.busy": "2022-07-27T17:33:28.835888Z",
     "iopub.status.idle": "2022-07-27T17:33:28.852622Z",
     "shell.execute_reply": "2022-07-27T17:33:28.852167Z"
    },
    "papermill": {
     "duration": 0.032778,
     "end_time": "2022-07-27T17:33:28.853998",
     "exception": false,
     "start_time": "2022-07-27T17:33:28.821220",
     "status": "completed"
    },
    "tags": []
   },
   "outputs": [
    {
     "data": {
      "text/plain": [
       "gene_id\n",
       "ENSG00000000419         (Brain_Substantia_nigra, Brain_Hypothalamus)\n",
       "ENSG00000000457    (Uterus, Muscle_Skeletal, Brain_Cerebellum, Sp...\n",
       "ENSG00000000460    (Muscle_Skeletal, Brain_Cerebellum, Esophagus_...\n",
       "ENSG00000000938    (Muscle_Skeletal, Brain_Cerebellum, Spleen, Es...\n",
       "ENSG00000000971    (Uterus, Brain_Cerebellum, Esophagus_Musculari...\n",
       "                                         ...                        \n",
       "ENSG00000284430    (Nerve_Tibial, Uterus, Thyroid, Ovary, Vagina,...\n",
       "ENSG00000284452                                             (Testis)\n",
       "ENSG00000284513                        (Brain_Cerebellar_Hemisphere)\n",
       "ENSG00000284526    (Uterus, Muscle_Skeletal, Spleen, Esophagus_Mu...\n",
       "ENSG00000284552                                             (Spleen)\n",
       "Name: tissue, Length: 22314, dtype: object"
      ]
     },
     "execution_count": 45,
     "metadata": {},
     "output_type": "execute_result"
    }
   ],
   "source": [
    "spredixcan_genes_models"
   ]
  },
  {
   "cell_type": "code",
   "execution_count": 46,
   "id": "97c46886-5a48-4813-b890-1dcdb09ec09d",
   "metadata": {
    "execution": {
     "iopub.execute_input": "2022-07-27T17:33:28.884569Z",
     "iopub.status.busy": "2022-07-27T17:33:28.884030Z",
     "iopub.status.idle": "2022-07-27T17:33:28.896173Z",
     "shell.execute_reply": "2022-07-27T17:33:28.895600Z"
    },
    "papermill": {
     "duration": 0.028294,
     "end_time": "2022-07-27T17:33:28.897473",
     "exception": false,
     "start_time": "2022-07-27T17:33:28.869179",
     "status": "completed"
    },
    "tags": []
   },
   "outputs": [],
   "source": [
    "assert spredixcan_genes_n_models.shape[0] == spredixcan_genes_models.shape[0]"
   ]
  },
  {
   "cell_type": "code",
   "execution_count": 47,
   "id": "abc13913-a681-4297-a0e6-dde62f43c36f",
   "metadata": {
    "execution": {
     "iopub.execute_input": "2022-07-27T17:33:28.925593Z",
     "iopub.status.busy": "2022-07-27T17:33:28.925391Z",
     "iopub.status.idle": "2022-07-27T17:33:28.939563Z",
     "shell.execute_reply": "2022-07-27T17:33:28.939128Z"
    },
    "papermill": {
     "duration": 0.029633,
     "end_time": "2022-07-27T17:33:28.940873",
     "exception": false,
     "start_time": "2022-07-27T17:33:28.911240",
     "status": "completed"
    },
    "tags": []
   },
   "outputs": [],
   "source": [
    "assert spredixcan_genes_n_models.index.equals(spredixcan_genes_models.index)"
   ]
  },
  {
   "cell_type": "code",
   "execution_count": 48,
   "id": "995a02e7-b836-471b-b438-17c8c46e4fde",
   "metadata": {
    "execution": {
     "iopub.execute_input": "2022-07-27T17:33:28.969660Z",
     "iopub.status.busy": "2022-07-27T17:33:28.969470Z",
     "iopub.status.idle": "2022-07-27T17:33:28.987129Z",
     "shell.execute_reply": "2022-07-27T17:33:28.986632Z"
    },
    "papermill": {
     "duration": 0.033403,
     "end_time": "2022-07-27T17:33:28.988455",
     "exception": false,
     "start_time": "2022-07-27T17:33:28.955052",
     "status": "completed"
    },
    "tags": []
   },
   "outputs": [],
   "source": [
    "assert (spredixcan_genes_models.apply(len) <= len(prediction_model_tissues)).all()"
   ]
  },
  {
   "cell_type": "code",
   "execution_count": 49,
   "id": "0c1d0c68-1a06-480c-b6d6-d3c4fdf0f5aa",
   "metadata": {
    "execution": {
     "iopub.execute_input": "2022-07-27T17:33:29.017674Z",
     "iopub.status.busy": "2022-07-27T17:33:29.017459Z",
     "iopub.status.idle": "2022-07-27T17:33:29.037828Z",
     "shell.execute_reply": "2022-07-27T17:33:29.037320Z"
    },
    "papermill": {
     "duration": 0.035779,
     "end_time": "2022-07-27T17:33:29.039048",
     "exception": false,
     "start_time": "2022-07-27T17:33:29.003269",
     "status": "completed"
    },
    "tags": []
   },
   "outputs": [
    {
     "data": {
      "text/plain": [
       "count    22314.000000\n",
       "mean        29.270413\n",
       "std         17.208404\n",
       "min          1.000000\n",
       "25%         13.000000\n",
       "50%         35.000000\n",
       "75%         45.000000\n",
       "max         49.000000\n",
       "Name: tissue, dtype: float64"
      ]
     },
     "execution_count": 49,
     "metadata": {},
     "output_type": "execute_result"
    }
   ],
   "source": [
    "spredixcan_genes_models.apply(len).describe()"
   ]
  },
  {
   "cell_type": "code",
   "execution_count": 50,
   "id": "991b9441-6bb5-4b72-9285-5fd579875e40",
   "metadata": {
    "execution": {
     "iopub.execute_input": "2022-07-27T17:33:29.067929Z",
     "iopub.status.busy": "2022-07-27T17:33:29.067713Z",
     "iopub.status.idle": "2022-07-27T17:33:29.090266Z",
     "shell.execute_reply": "2022-07-27T17:33:29.089747Z"
    },
    "papermill": {
     "duration": 0.038354,
     "end_time": "2022-07-27T17:33:29.091720",
     "exception": false,
     "start_time": "2022-07-27T17:33:29.053366",
     "status": "completed"
    },
    "tags": []
   },
   "outputs": [],
   "source": [
    "# testing\n",
    "assert (\n",
    "    spredixcan_genes_models.loc[spredixcan_genes_n_models.index]\n",
    "    .apply(len)\n",
    "    .equals(spredixcan_genes_n_models)\n",
    ")"
   ]
  },
  {
   "cell_type": "markdown",
   "id": "3042b22d-9d88-4e21-b112-ab23cf8d24ea",
   "metadata": {
    "papermill": {
     "duration": 0.014051,
     "end_time": "2022-07-27T17:33:29.121056",
     "exception": false,
     "start_time": "2022-07-27T17:33:29.107005",
     "status": "completed"
    },
    "tags": []
   },
   "source": [
    "### Add gene name and set index"
   ]
  },
  {
   "cell_type": "code",
   "execution_count": 51,
   "id": "3b7b0e76-7aca-44bf-beff-5f1c1b6193ee",
   "metadata": {
    "execution": {
     "iopub.execute_input": "2022-07-27T17:33:29.149374Z",
     "iopub.status.busy": "2022-07-27T17:33:29.149170Z",
     "iopub.status.idle": "2022-07-27T17:33:29.163717Z",
     "shell.execute_reply": "2022-07-27T17:33:29.163267Z"
    },
    "papermill": {
     "duration": 0.030399,
     "end_time": "2022-07-27T17:33:29.165103",
     "exception": false,
     "start_time": "2022-07-27T17:33:29.134704",
     "status": "completed"
    },
    "tags": []
   },
   "outputs": [],
   "source": [
    "spredixcan_genes_models = spredixcan_genes_models.to_frame().reset_index()"
   ]
  },
  {
   "cell_type": "code",
   "execution_count": 52,
   "id": "ffab4b61-c2d4-4bcc-a147-23a4bf30f715",
   "metadata": {
    "execution": {
     "iopub.execute_input": "2022-07-27T17:33:29.194149Z",
     "iopub.status.busy": "2022-07-27T17:33:29.193945Z",
     "iopub.status.idle": "2022-07-27T17:33:29.211399Z",
     "shell.execute_reply": "2022-07-27T17:33:29.210810Z"
    },
    "papermill": {
     "duration": 0.032855,
     "end_time": "2022-07-27T17:33:29.212604",
     "exception": false,
     "start_time": "2022-07-27T17:33:29.179749",
     "status": "completed"
    },
    "tags": []
   },
   "outputs": [
    {
     "data": {
      "text/html": [
       "<div>\n",
       "<style scoped>\n",
       "    .dataframe tbody tr th:only-of-type {\n",
       "        vertical-align: middle;\n",
       "    }\n",
       "\n",
       "    .dataframe tbody tr th {\n",
       "        vertical-align: top;\n",
       "    }\n",
       "\n",
       "    .dataframe thead th {\n",
       "        text-align: right;\n",
       "    }\n",
       "</style>\n",
       "<table border=\"1\" class=\"dataframe\">\n",
       "  <thead>\n",
       "    <tr style=\"text-align: right;\">\n",
       "      <th></th>\n",
       "      <th>gene_id</th>\n",
       "      <th>tissue</th>\n",
       "    </tr>\n",
       "  </thead>\n",
       "  <tbody>\n",
       "    <tr>\n",
       "      <th>0</th>\n",
       "      <td>ENSG00000000419</td>\n",
       "      <td>(Brain_Substantia_nigra, Brain_Hypothalamus)</td>\n",
       "    </tr>\n",
       "    <tr>\n",
       "      <th>1</th>\n",
       "      <td>ENSG00000000457</td>\n",
       "      <td>(Uterus, Muscle_Skeletal, Brain_Cerebellum, Sp...</td>\n",
       "    </tr>\n",
       "    <tr>\n",
       "      <th>2</th>\n",
       "      <td>ENSG00000000460</td>\n",
       "      <td>(Muscle_Skeletal, Brain_Cerebellum, Esophagus_...</td>\n",
       "    </tr>\n",
       "    <tr>\n",
       "      <th>3</th>\n",
       "      <td>ENSG00000000938</td>\n",
       "      <td>(Muscle_Skeletal, Brain_Cerebellum, Spleen, Es...</td>\n",
       "    </tr>\n",
       "    <tr>\n",
       "      <th>4</th>\n",
       "      <td>ENSG00000000971</td>\n",
       "      <td>(Uterus, Brain_Cerebellum, Esophagus_Musculari...</td>\n",
       "    </tr>\n",
       "  </tbody>\n",
       "</table>\n",
       "</div>"
      ],
      "text/plain": [
       "           gene_id                                             tissue\n",
       "0  ENSG00000000419       (Brain_Substantia_nigra, Brain_Hypothalamus)\n",
       "1  ENSG00000000457  (Uterus, Muscle_Skeletal, Brain_Cerebellum, Sp...\n",
       "2  ENSG00000000460  (Muscle_Skeletal, Brain_Cerebellum, Esophagus_...\n",
       "3  ENSG00000000938  (Muscle_Skeletal, Brain_Cerebellum, Spleen, Es...\n",
       "4  ENSG00000000971  (Uterus, Brain_Cerebellum, Esophagus_Musculari..."
      ]
     },
     "execution_count": 52,
     "metadata": {},
     "output_type": "execute_result"
    }
   ],
   "source": [
    "spredixcan_genes_models.head()"
   ]
  },
  {
   "cell_type": "code",
   "execution_count": 53,
   "id": "e1cb2fe5-969f-4526-bca7-a3b8919b3509",
   "metadata": {
    "execution": {
     "iopub.execute_input": "2022-07-27T17:33:29.242466Z",
     "iopub.status.busy": "2022-07-27T17:33:29.241845Z",
     "iopub.status.idle": "2022-07-27T17:33:29.261443Z",
     "shell.execute_reply": "2022-07-27T17:33:29.260908Z"
    },
    "papermill": {
     "duration": 0.03551,
     "end_time": "2022-07-27T17:33:29.262905",
     "exception": false,
     "start_time": "2022-07-27T17:33:29.227395",
     "status": "completed"
    },
    "tags": []
   },
   "outputs": [],
   "source": [
    "spredixcan_genes_models = spredixcan_genes_models.assign(\n",
    "    gene_name=spredixcan_genes_models[\"gene_id\"].apply(\n",
    "        lambda g: Gene.GENE_ID_TO_NAME_MAP[g]\n",
    "    )\n",
    ")"
   ]
  },
  {
   "cell_type": "code",
   "execution_count": 54,
   "id": "ff078ce5-3f18-442e-a593-3326436c758e",
   "metadata": {
    "execution": {
     "iopub.execute_input": "2022-07-27T17:33:29.294497Z",
     "iopub.status.busy": "2022-07-27T17:33:29.294327Z",
     "iopub.status.idle": "2022-07-27T17:33:29.310972Z",
     "shell.execute_reply": "2022-07-27T17:33:29.310413Z"
    },
    "papermill": {
     "duration": 0.034171,
     "end_time": "2022-07-27T17:33:29.312589",
     "exception": false,
     "start_time": "2022-07-27T17:33:29.278418",
     "status": "completed"
    },
    "tags": []
   },
   "outputs": [],
   "source": [
    "spredixcan_genes_models = spredixcan_genes_models[[\"gene_id\", \"gene_name\", \"tissue\"]]"
   ]
  },
  {
   "cell_type": "code",
   "execution_count": 55,
   "id": "a65c8bf2-5ecd-4f80-a857-11f8a0c019c4",
   "metadata": {
    "execution": {
     "iopub.execute_input": "2022-07-27T17:33:29.347198Z",
     "iopub.status.busy": "2022-07-27T17:33:29.346671Z",
     "iopub.status.idle": "2022-07-27T17:33:29.361855Z",
     "shell.execute_reply": "2022-07-27T17:33:29.361325Z"
    },
    "papermill": {
     "duration": 0.03641,
     "end_time": "2022-07-27T17:33:29.366109",
     "exception": false,
     "start_time": "2022-07-27T17:33:29.329699",
     "status": "completed"
    },
    "tags": []
   },
   "outputs": [],
   "source": [
    "spredixcan_genes_models = spredixcan_genes_models.set_index(\"gene_id\")"
   ]
  },
  {
   "cell_type": "code",
   "execution_count": 56,
   "id": "af6b40b9-fc58-47a1-a1b5-4404034b008b",
   "metadata": {
    "execution": {
     "iopub.execute_input": "2022-07-27T17:33:29.413789Z",
     "iopub.status.busy": "2022-07-27T17:33:29.413586Z",
     "iopub.status.idle": "2022-07-27T17:33:29.431105Z",
     "shell.execute_reply": "2022-07-27T17:33:29.430502Z"
    },
    "papermill": {
     "duration": 0.033737,
     "end_time": "2022-07-27T17:33:29.432369",
     "exception": false,
     "start_time": "2022-07-27T17:33:29.398632",
     "status": "completed"
    },
    "tags": []
   },
   "outputs": [
    {
     "data": {
      "text/html": [
       "<div>\n",
       "<style scoped>\n",
       "    .dataframe tbody tr th:only-of-type {\n",
       "        vertical-align: middle;\n",
       "    }\n",
       "\n",
       "    .dataframe tbody tr th {\n",
       "        vertical-align: top;\n",
       "    }\n",
       "\n",
       "    .dataframe thead th {\n",
       "        text-align: right;\n",
       "    }\n",
       "</style>\n",
       "<table border=\"1\" class=\"dataframe\">\n",
       "  <thead>\n",
       "    <tr style=\"text-align: right;\">\n",
       "      <th></th>\n",
       "      <th>gene_name</th>\n",
       "      <th>tissue</th>\n",
       "    </tr>\n",
       "    <tr>\n",
       "      <th>gene_id</th>\n",
       "      <th></th>\n",
       "      <th></th>\n",
       "    </tr>\n",
       "  </thead>\n",
       "  <tbody>\n",
       "    <tr>\n",
       "      <th>ENSG00000000419</th>\n",
       "      <td>DPM1</td>\n",
       "      <td>(Brain_Substantia_nigra, Brain_Hypothalamus)</td>\n",
       "    </tr>\n",
       "    <tr>\n",
       "      <th>ENSG00000000457</th>\n",
       "      <td>SCYL3</td>\n",
       "      <td>(Uterus, Muscle_Skeletal, Brain_Cerebellum, Sp...</td>\n",
       "    </tr>\n",
       "    <tr>\n",
       "      <th>ENSG00000000460</th>\n",
       "      <td>C1orf112</td>\n",
       "      <td>(Muscle_Skeletal, Brain_Cerebellum, Esophagus_...</td>\n",
       "    </tr>\n",
       "    <tr>\n",
       "      <th>ENSG00000000938</th>\n",
       "      <td>FGR</td>\n",
       "      <td>(Muscle_Skeletal, Brain_Cerebellum, Spleen, Es...</td>\n",
       "    </tr>\n",
       "    <tr>\n",
       "      <th>ENSG00000000971</th>\n",
       "      <td>CFH</td>\n",
       "      <td>(Uterus, Brain_Cerebellum, Esophagus_Musculari...</td>\n",
       "    </tr>\n",
       "  </tbody>\n",
       "</table>\n",
       "</div>"
      ],
      "text/plain": [
       "                gene_name                                             tissue\n",
       "gene_id                                                                     \n",
       "ENSG00000000419      DPM1       (Brain_Substantia_nigra, Brain_Hypothalamus)\n",
       "ENSG00000000457     SCYL3  (Uterus, Muscle_Skeletal, Brain_Cerebellum, Sp...\n",
       "ENSG00000000460  C1orf112  (Muscle_Skeletal, Brain_Cerebellum, Esophagus_...\n",
       "ENSG00000000938       FGR  (Muscle_Skeletal, Brain_Cerebellum, Spleen, Es...\n",
       "ENSG00000000971       CFH  (Uterus, Brain_Cerebellum, Esophagus_Musculari..."
      ]
     },
     "execution_count": 56,
     "metadata": {},
     "output_type": "execute_result"
    }
   ],
   "source": [
    "spredixcan_genes_models.head()"
   ]
  },
  {
   "cell_type": "markdown",
   "id": "d1e67be9-9094-4a07-b89d-3a0815d503e6",
   "metadata": {
    "papermill": {
     "duration": 0.013911,
     "end_time": "2022-07-27T17:33:29.460830",
     "exception": false,
     "start_time": "2022-07-27T17:33:29.446919",
     "status": "completed"
    },
    "tags": []
   },
   "source": [
    "### Add number of tissues"
   ]
  },
  {
   "cell_type": "code",
   "execution_count": 57,
   "id": "b2702bdb-b3bc-48e6-9c3e-855924d9e74b",
   "metadata": {
    "execution": {
     "iopub.execute_input": "2022-07-27T17:33:29.490991Z",
     "iopub.status.busy": "2022-07-27T17:33:29.490806Z",
     "iopub.status.idle": "2022-07-27T17:33:29.510550Z",
     "shell.execute_reply": "2022-07-27T17:33:29.510012Z"
    },
    "papermill": {
     "duration": 0.037063,
     "end_time": "2022-07-27T17:33:29.512058",
     "exception": false,
     "start_time": "2022-07-27T17:33:29.474995",
     "status": "completed"
    },
    "tags": []
   },
   "outputs": [],
   "source": [
    "spredixcan_genes_models = spredixcan_genes_models.assign(\n",
    "    n_tissues=spredixcan_genes_models[\"tissue\"].apply(len)\n",
    ")"
   ]
  },
  {
   "cell_type": "code",
   "execution_count": 58,
   "id": "4a5eb4b8-5e11-45a3-a991-0515bd83fc03",
   "metadata": {
    "execution": {
     "iopub.execute_input": "2022-07-27T17:33:29.543287Z",
     "iopub.status.busy": "2022-07-27T17:33:29.543085Z",
     "iopub.status.idle": "2022-07-27T17:33:29.560732Z",
     "shell.execute_reply": "2022-07-27T17:33:29.560141Z"
    },
    "papermill": {
     "duration": 0.033854,
     "end_time": "2022-07-27T17:33:29.561931",
     "exception": false,
     "start_time": "2022-07-27T17:33:29.528077",
     "status": "completed"
    },
    "tags": []
   },
   "outputs": [
    {
     "data": {
      "text/html": [
       "<div>\n",
       "<style scoped>\n",
       "    .dataframe tbody tr th:only-of-type {\n",
       "        vertical-align: middle;\n",
       "    }\n",
       "\n",
       "    .dataframe tbody tr th {\n",
       "        vertical-align: top;\n",
       "    }\n",
       "\n",
       "    .dataframe thead th {\n",
       "        text-align: right;\n",
       "    }\n",
       "</style>\n",
       "<table border=\"1\" class=\"dataframe\">\n",
       "  <thead>\n",
       "    <tr style=\"text-align: right;\">\n",
       "      <th></th>\n",
       "      <th>gene_name</th>\n",
       "      <th>tissue</th>\n",
       "      <th>n_tissues</th>\n",
       "    </tr>\n",
       "    <tr>\n",
       "      <th>gene_id</th>\n",
       "      <th></th>\n",
       "      <th></th>\n",
       "      <th></th>\n",
       "    </tr>\n",
       "  </thead>\n",
       "  <tbody>\n",
       "    <tr>\n",
       "      <th>ENSG00000000419</th>\n",
       "      <td>DPM1</td>\n",
       "      <td>(Brain_Substantia_nigra, Brain_Hypothalamus)</td>\n",
       "      <td>2</td>\n",
       "    </tr>\n",
       "    <tr>\n",
       "      <th>ENSG00000000457</th>\n",
       "      <td>SCYL3</td>\n",
       "      <td>(Uterus, Muscle_Skeletal, Brain_Cerebellum, Sp...</td>\n",
       "      <td>48</td>\n",
       "    </tr>\n",
       "    <tr>\n",
       "      <th>ENSG00000000460</th>\n",
       "      <td>C1orf112</td>\n",
       "      <td>(Muscle_Skeletal, Brain_Cerebellum, Esophagus_...</td>\n",
       "      <td>39</td>\n",
       "    </tr>\n",
       "    <tr>\n",
       "      <th>ENSG00000000938</th>\n",
       "      <td>FGR</td>\n",
       "      <td>(Muscle_Skeletal, Brain_Cerebellum, Spleen, Es...</td>\n",
       "      <td>36</td>\n",
       "    </tr>\n",
       "    <tr>\n",
       "      <th>ENSG00000000971</th>\n",
       "      <td>CFH</td>\n",
       "      <td>(Uterus, Brain_Cerebellum, Esophagus_Musculari...</td>\n",
       "      <td>34</td>\n",
       "    </tr>\n",
       "  </tbody>\n",
       "</table>\n",
       "</div>"
      ],
      "text/plain": [
       "                gene_name                                             tissue  \\\n",
       "gene_id                                                                        \n",
       "ENSG00000000419      DPM1       (Brain_Substantia_nigra, Brain_Hypothalamus)   \n",
       "ENSG00000000457     SCYL3  (Uterus, Muscle_Skeletal, Brain_Cerebellum, Sp...   \n",
       "ENSG00000000460  C1orf112  (Muscle_Skeletal, Brain_Cerebellum, Esophagus_...   \n",
       "ENSG00000000938       FGR  (Muscle_Skeletal, Brain_Cerebellum, Spleen, Es...   \n",
       "ENSG00000000971       CFH  (Uterus, Brain_Cerebellum, Esophagus_Musculari...   \n",
       "\n",
       "                 n_tissues  \n",
       "gene_id                     \n",
       "ENSG00000000419          2  \n",
       "ENSG00000000457         48  \n",
       "ENSG00000000460         39  \n",
       "ENSG00000000938         36  \n",
       "ENSG00000000971         34  "
      ]
     },
     "execution_count": 58,
     "metadata": {},
     "output_type": "execute_result"
    }
   ],
   "source": [
    "spredixcan_genes_models.head()"
   ]
  },
  {
   "cell_type": "markdown",
   "id": "ab6ff41a-0949-4eea-abef-7dc4f0b373fc",
   "metadata": {
    "papermill": {
     "duration": 0.013942,
     "end_time": "2022-07-27T17:33:29.590742",
     "exception": false,
     "start_time": "2022-07-27T17:33:29.576800",
     "status": "completed"
    },
    "tags": []
   },
   "source": [
    "### Count number of SNPs predictors used across tissue models"
   ]
  },
  {
   "cell_type": "code",
   "execution_count": 59,
   "id": "c8f6cc6f-5812-45c9-b775-6f2193f8a360",
   "metadata": {
    "execution": {
     "iopub.execute_input": "2022-07-27T17:33:29.619968Z",
     "iopub.status.busy": "2022-07-27T17:33:29.619762Z",
     "iopub.status.idle": "2022-07-27T17:33:29.705600Z",
     "shell.execute_reply": "2022-07-27T17:33:29.704999Z"
    },
    "papermill": {
     "duration": 0.102177,
     "end_time": "2022-07-27T17:33:29.706946",
     "exception": false,
     "start_time": "2022-07-27T17:33:29.604769",
     "status": "completed"
    },
    "tags": []
   },
   "outputs": [],
   "source": [
    "spredixcan_genes_sum_of_n_snps_used = (\n",
    "    spredixcan_dfs.groupby(\"gene_id\")[\"n_snps_used\"].sum().rename(\"n_snps_used_sum\")\n",
    ")"
   ]
  },
  {
   "cell_type": "code",
   "execution_count": 60,
   "id": "7255df64-7b9f-4504-a4fa-1f2a9aa56ec0",
   "metadata": {
    "execution": {
     "iopub.execute_input": "2022-07-27T17:33:29.736959Z",
     "iopub.status.busy": "2022-07-27T17:33:29.736798Z",
     "iopub.status.idle": "2022-07-27T17:33:29.752475Z",
     "shell.execute_reply": "2022-07-27T17:33:29.751843Z"
    },
    "papermill": {
     "duration": 0.031948,
     "end_time": "2022-07-27T17:33:29.753667",
     "exception": false,
     "start_time": "2022-07-27T17:33:29.721719",
     "status": "completed"
    },
    "tags": []
   },
   "outputs": [
    {
     "data": {
      "text/plain": [
       "gene_id\n",
       "ENSG00000000419     2\n",
       "ENSG00000000457    88\n",
       "ENSG00000000460    62\n",
       "ENSG00000000938    40\n",
       "ENSG00000000971    44\n",
       "                   ..\n",
       "ENSG00000284430     7\n",
       "ENSG00000284452     2\n",
       "ENSG00000284513     1\n",
       "ENSG00000284526    75\n",
       "ENSG00000284552     1\n",
       "Name: n_snps_used_sum, Length: 22314, dtype: int64"
      ]
     },
     "execution_count": 60,
     "metadata": {},
     "output_type": "execute_result"
    }
   ],
   "source": [
    "spredixcan_genes_sum_of_n_snps_used"
   ]
  },
  {
   "cell_type": "code",
   "execution_count": 61,
   "id": "44bc1222-b334-4ce2-8997-494d0e584cf9",
   "metadata": {
    "execution": {
     "iopub.execute_input": "2022-07-27T17:33:29.785172Z",
     "iopub.status.busy": "2022-07-27T17:33:29.784506Z",
     "iopub.status.idle": "2022-07-27T17:33:29.802581Z",
     "shell.execute_reply": "2022-07-27T17:33:29.801976Z"
    },
    "papermill": {
     "duration": 0.034796,
     "end_time": "2022-07-27T17:33:29.804019",
     "exception": false,
     "start_time": "2022-07-27T17:33:29.769223",
     "status": "completed"
    },
    "tags": []
   },
   "outputs": [],
   "source": [
    "# add sum of snps used to spredixcan_genes_models\n",
    "spredixcan_genes_models = spredixcan_genes_models.join(\n",
    "    spredixcan_genes_sum_of_n_snps_used\n",
    ")"
   ]
  },
  {
   "cell_type": "code",
   "execution_count": 62,
   "id": "5e5e6d7f-b970-4f21-9322-b76bc22afd71",
   "metadata": {
    "execution": {
     "iopub.execute_input": "2022-07-27T17:33:29.836819Z",
     "iopub.status.busy": "2022-07-27T17:33:29.836624Z",
     "iopub.status.idle": "2022-07-27T17:33:29.849042Z",
     "shell.execute_reply": "2022-07-27T17:33:29.848461Z"
    },
    "papermill": {
     "duration": 0.03015,
     "end_time": "2022-07-27T17:33:29.850334",
     "exception": false,
     "start_time": "2022-07-27T17:33:29.820184",
     "status": "completed"
    },
    "tags": []
   },
   "outputs": [
    {
     "data": {
      "text/plain": [
       "(22314, 4)"
      ]
     },
     "execution_count": 62,
     "metadata": {},
     "output_type": "execute_result"
    }
   ],
   "source": [
    "spredixcan_genes_models.shape"
   ]
  },
  {
   "cell_type": "code",
   "execution_count": 63,
   "id": "22c096c2-213a-4001-8454-1633997d404f",
   "metadata": {
    "execution": {
     "iopub.execute_input": "2022-07-27T17:33:29.880807Z",
     "iopub.status.busy": "2022-07-27T17:33:29.880655Z",
     "iopub.status.idle": "2022-07-27T17:33:29.897954Z",
     "shell.execute_reply": "2022-07-27T17:33:29.897333Z"
    },
    "papermill": {
     "duration": 0.033967,
     "end_time": "2022-07-27T17:33:29.899206",
     "exception": false,
     "start_time": "2022-07-27T17:33:29.865239",
     "status": "completed"
    },
    "tags": []
   },
   "outputs": [
    {
     "data": {
      "text/html": [
       "<div>\n",
       "<style scoped>\n",
       "    .dataframe tbody tr th:only-of-type {\n",
       "        vertical-align: middle;\n",
       "    }\n",
       "\n",
       "    .dataframe tbody tr th {\n",
       "        vertical-align: top;\n",
       "    }\n",
       "\n",
       "    .dataframe thead th {\n",
       "        text-align: right;\n",
       "    }\n",
       "</style>\n",
       "<table border=\"1\" class=\"dataframe\">\n",
       "  <thead>\n",
       "    <tr style=\"text-align: right;\">\n",
       "      <th></th>\n",
       "      <th>gene_name</th>\n",
       "      <th>tissue</th>\n",
       "      <th>n_tissues</th>\n",
       "      <th>n_snps_used_sum</th>\n",
       "    </tr>\n",
       "    <tr>\n",
       "      <th>gene_id</th>\n",
       "      <th></th>\n",
       "      <th></th>\n",
       "      <th></th>\n",
       "      <th></th>\n",
       "    </tr>\n",
       "  </thead>\n",
       "  <tbody>\n",
       "    <tr>\n",
       "      <th>ENSG00000000419</th>\n",
       "      <td>DPM1</td>\n",
       "      <td>(Brain_Substantia_nigra, Brain_Hypothalamus)</td>\n",
       "      <td>2</td>\n",
       "      <td>2</td>\n",
       "    </tr>\n",
       "    <tr>\n",
       "      <th>ENSG00000000457</th>\n",
       "      <td>SCYL3</td>\n",
       "      <td>(Uterus, Muscle_Skeletal, Brain_Cerebellum, Sp...</td>\n",
       "      <td>48</td>\n",
       "      <td>88</td>\n",
       "    </tr>\n",
       "    <tr>\n",
       "      <th>ENSG00000000460</th>\n",
       "      <td>C1orf112</td>\n",
       "      <td>(Muscle_Skeletal, Brain_Cerebellum, Esophagus_...</td>\n",
       "      <td>39</td>\n",
       "      <td>62</td>\n",
       "    </tr>\n",
       "    <tr>\n",
       "      <th>ENSG00000000938</th>\n",
       "      <td>FGR</td>\n",
       "      <td>(Muscle_Skeletal, Brain_Cerebellum, Spleen, Es...</td>\n",
       "      <td>36</td>\n",
       "      <td>40</td>\n",
       "    </tr>\n",
       "    <tr>\n",
       "      <th>ENSG00000000971</th>\n",
       "      <td>CFH</td>\n",
       "      <td>(Uterus, Brain_Cerebellum, Esophagus_Musculari...</td>\n",
       "      <td>34</td>\n",
       "      <td>44</td>\n",
       "    </tr>\n",
       "  </tbody>\n",
       "</table>\n",
       "</div>"
      ],
      "text/plain": [
       "                gene_name                                             tissue  \\\n",
       "gene_id                                                                        \n",
       "ENSG00000000419      DPM1       (Brain_Substantia_nigra, Brain_Hypothalamus)   \n",
       "ENSG00000000457     SCYL3  (Uterus, Muscle_Skeletal, Brain_Cerebellum, Sp...   \n",
       "ENSG00000000460  C1orf112  (Muscle_Skeletal, Brain_Cerebellum, Esophagus_...   \n",
       "ENSG00000000938       FGR  (Muscle_Skeletal, Brain_Cerebellum, Spleen, Es...   \n",
       "ENSG00000000971       CFH  (Uterus, Brain_Cerebellum, Esophagus_Musculari...   \n",
       "\n",
       "                 n_tissues  n_snps_used_sum  \n",
       "gene_id                                      \n",
       "ENSG00000000419          2                2  \n",
       "ENSG00000000457         48               88  \n",
       "ENSG00000000460         39               62  \n",
       "ENSG00000000938         36               40  \n",
       "ENSG00000000971         34               44  "
      ]
     },
     "execution_count": 63,
     "metadata": {},
     "output_type": "execute_result"
    }
   ],
   "source": [
    "spredixcan_genes_models.head()"
   ]
  },
  {
   "cell_type": "markdown",
   "id": "f4692315-d7be-465e-b756-f6d76fec949e",
   "metadata": {
    "papermill": {
     "duration": 0.014314,
     "end_time": "2022-07-27T17:33:29.928434",
     "exception": false,
     "start_time": "2022-07-27T17:33:29.914120",
     "status": "completed"
    },
    "tags": []
   },
   "source": [
    "### Count number of SNPs predictors in models across tissue models"
   ]
  },
  {
   "cell_type": "code",
   "execution_count": 64,
   "id": "08eed385-36eb-4e42-b28e-51333f9cfcd3",
   "metadata": {
    "execution": {
     "iopub.execute_input": "2022-07-27T17:33:29.958899Z",
     "iopub.status.busy": "2022-07-27T17:33:29.958254Z",
     "iopub.status.idle": "2022-07-27T17:33:30.043585Z",
     "shell.execute_reply": "2022-07-27T17:33:30.043095Z"
    },
    "papermill": {
     "duration": 0.102045,
     "end_time": "2022-07-27T17:33:30.045000",
     "exception": false,
     "start_time": "2022-07-27T17:33:29.942955",
     "status": "completed"
    },
    "tags": []
   },
   "outputs": [],
   "source": [
    "spredixcan_genes_sum_of_n_snps_in_model = (\n",
    "    spredixcan_dfs.groupby(\"gene_id\")[\"n_snps_in_model\"]\n",
    "    .sum()\n",
    "    .rename(\"n_snps_in_model_sum\")\n",
    ")"
   ]
  },
  {
   "cell_type": "code",
   "execution_count": 65,
   "id": "10431f5c-1f56-4664-a09f-53c608bec631",
   "metadata": {
    "execution": {
     "iopub.execute_input": "2022-07-27T17:33:30.076619Z",
     "iopub.status.busy": "2022-07-27T17:33:30.076464Z",
     "iopub.status.idle": "2022-07-27T17:33:30.092354Z",
     "shell.execute_reply": "2022-07-27T17:33:30.091640Z"
    },
    "papermill": {
     "duration": 0.033184,
     "end_time": "2022-07-27T17:33:30.093598",
     "exception": false,
     "start_time": "2022-07-27T17:33:30.060414",
     "status": "completed"
    },
    "tags": []
   },
   "outputs": [
    {
     "data": {
      "text/plain": [
       "gene_id\n",
       "ENSG00000000419     2\n",
       "ENSG00000000457    90\n",
       "ENSG00000000460    64\n",
       "ENSG00000000938    40\n",
       "ENSG00000000971    44\n",
       "                   ..\n",
       "ENSG00000284430     7\n",
       "ENSG00000284452     2\n",
       "ENSG00000284513     1\n",
       "ENSG00000284526    79\n",
       "ENSG00000284552     1\n",
       "Name: n_snps_in_model_sum, Length: 22314, dtype: int64"
      ]
     },
     "execution_count": 65,
     "metadata": {},
     "output_type": "execute_result"
    }
   ],
   "source": [
    "spredixcan_genes_sum_of_n_snps_in_model"
   ]
  },
  {
   "cell_type": "code",
   "execution_count": 66,
   "id": "d13e1d65-0dcb-4a94-aba8-bcdcd09d17c3",
   "metadata": {
    "execution": {
     "iopub.execute_input": "2022-07-27T17:33:30.127195Z",
     "iopub.status.busy": "2022-07-27T17:33:30.127011Z",
     "iopub.status.idle": "2022-07-27T17:33:30.143466Z",
     "shell.execute_reply": "2022-07-27T17:33:30.142952Z"
    },
    "papermill": {
     "duration": 0.034879,
     "end_time": "2022-07-27T17:33:30.144886",
     "exception": false,
     "start_time": "2022-07-27T17:33:30.110007",
     "status": "completed"
    },
    "tags": []
   },
   "outputs": [],
   "source": [
    "# add sum of snps in model to spredixcan_genes_models\n",
    "spredixcan_genes_models = spredixcan_genes_models.join(\n",
    "    spredixcan_genes_sum_of_n_snps_in_model\n",
    ")"
   ]
  },
  {
   "cell_type": "code",
   "execution_count": 67,
   "id": "0d3973d8-5da2-4c9d-b406-2525f615035c",
   "metadata": {
    "execution": {
     "iopub.execute_input": "2022-07-27T17:33:30.178329Z",
     "iopub.status.busy": "2022-07-27T17:33:30.178144Z",
     "iopub.status.idle": "2022-07-27T17:33:30.190614Z",
     "shell.execute_reply": "2022-07-27T17:33:30.190222Z"
    },
    "papermill": {
     "duration": 0.03048,
     "end_time": "2022-07-27T17:33:30.191825",
     "exception": false,
     "start_time": "2022-07-27T17:33:30.161345",
     "status": "completed"
    },
    "tags": []
   },
   "outputs": [
    {
     "data": {
      "text/plain": [
       "(22314, 5)"
      ]
     },
     "execution_count": 67,
     "metadata": {},
     "output_type": "execute_result"
    }
   ],
   "source": [
    "spredixcan_genes_models.shape"
   ]
  },
  {
   "cell_type": "code",
   "execution_count": 68,
   "id": "76c27f05-c5c6-4ed9-9363-fcba871a3572",
   "metadata": {
    "execution": {
     "iopub.execute_input": "2022-07-27T17:33:30.222959Z",
     "iopub.status.busy": "2022-07-27T17:33:30.222742Z",
     "iopub.status.idle": "2022-07-27T17:33:30.240618Z",
     "shell.execute_reply": "2022-07-27T17:33:30.239915Z"
    },
    "papermill": {
     "duration": 0.034579,
     "end_time": "2022-07-27T17:33:30.241818",
     "exception": false,
     "start_time": "2022-07-27T17:33:30.207239",
     "status": "completed"
    },
    "tags": []
   },
   "outputs": [
    {
     "data": {
      "text/html": [
       "<div>\n",
       "<style scoped>\n",
       "    .dataframe tbody tr th:only-of-type {\n",
       "        vertical-align: middle;\n",
       "    }\n",
       "\n",
       "    .dataframe tbody tr th {\n",
       "        vertical-align: top;\n",
       "    }\n",
       "\n",
       "    .dataframe thead th {\n",
       "        text-align: right;\n",
       "    }\n",
       "</style>\n",
       "<table border=\"1\" class=\"dataframe\">\n",
       "  <thead>\n",
       "    <tr style=\"text-align: right;\">\n",
       "      <th></th>\n",
       "      <th>gene_name</th>\n",
       "      <th>tissue</th>\n",
       "      <th>n_tissues</th>\n",
       "      <th>n_snps_used_sum</th>\n",
       "      <th>n_snps_in_model_sum</th>\n",
       "    </tr>\n",
       "    <tr>\n",
       "      <th>gene_id</th>\n",
       "      <th></th>\n",
       "      <th></th>\n",
       "      <th></th>\n",
       "      <th></th>\n",
       "      <th></th>\n",
       "    </tr>\n",
       "  </thead>\n",
       "  <tbody>\n",
       "    <tr>\n",
       "      <th>ENSG00000000419</th>\n",
       "      <td>DPM1</td>\n",
       "      <td>(Brain_Substantia_nigra, Brain_Hypothalamus)</td>\n",
       "      <td>2</td>\n",
       "      <td>2</td>\n",
       "      <td>2</td>\n",
       "    </tr>\n",
       "    <tr>\n",
       "      <th>ENSG00000000457</th>\n",
       "      <td>SCYL3</td>\n",
       "      <td>(Uterus, Muscle_Skeletal, Brain_Cerebellum, Sp...</td>\n",
       "      <td>48</td>\n",
       "      <td>88</td>\n",
       "      <td>90</td>\n",
       "    </tr>\n",
       "    <tr>\n",
       "      <th>ENSG00000000460</th>\n",
       "      <td>C1orf112</td>\n",
       "      <td>(Muscle_Skeletal, Brain_Cerebellum, Esophagus_...</td>\n",
       "      <td>39</td>\n",
       "      <td>62</td>\n",
       "      <td>64</td>\n",
       "    </tr>\n",
       "    <tr>\n",
       "      <th>ENSG00000000938</th>\n",
       "      <td>FGR</td>\n",
       "      <td>(Muscle_Skeletal, Brain_Cerebellum, Spleen, Es...</td>\n",
       "      <td>36</td>\n",
       "      <td>40</td>\n",
       "      <td>40</td>\n",
       "    </tr>\n",
       "    <tr>\n",
       "      <th>ENSG00000000971</th>\n",
       "      <td>CFH</td>\n",
       "      <td>(Uterus, Brain_Cerebellum, Esophagus_Musculari...</td>\n",
       "      <td>34</td>\n",
       "      <td>44</td>\n",
       "      <td>44</td>\n",
       "    </tr>\n",
       "  </tbody>\n",
       "</table>\n",
       "</div>"
      ],
      "text/plain": [
       "                gene_name                                             tissue  \\\n",
       "gene_id                                                                        \n",
       "ENSG00000000419      DPM1       (Brain_Substantia_nigra, Brain_Hypothalamus)   \n",
       "ENSG00000000457     SCYL3  (Uterus, Muscle_Skeletal, Brain_Cerebellum, Sp...   \n",
       "ENSG00000000460  C1orf112  (Muscle_Skeletal, Brain_Cerebellum, Esophagus_...   \n",
       "ENSG00000000938       FGR  (Muscle_Skeletal, Brain_Cerebellum, Spleen, Es...   \n",
       "ENSG00000000971       CFH  (Uterus, Brain_Cerebellum, Esophagus_Musculari...   \n",
       "\n",
       "                 n_tissues  n_snps_used_sum  n_snps_in_model_sum  \n",
       "gene_id                                                           \n",
       "ENSG00000000419          2                2                    2  \n",
       "ENSG00000000457         48               88                   90  \n",
       "ENSG00000000460         39               62                   64  \n",
       "ENSG00000000938         36               40                   40  \n",
       "ENSG00000000971         34               44                   44  "
      ]
     },
     "execution_count": 68,
     "metadata": {},
     "output_type": "execute_result"
    }
   ],
   "source": [
    "spredixcan_genes_models.head()"
   ]
  },
  {
   "cell_type": "markdown",
   "id": "e9f61a50-a5b5-4c85-9dec-3ceaaf65c61d",
   "metadata": {
    "papermill": {
     "duration": 0.014802,
     "end_time": "2022-07-27T17:33:30.272300",
     "exception": false,
     "start_time": "2022-07-27T17:33:30.257498",
     "status": "completed"
    },
    "tags": []
   },
   "source": [
    "### Count number of _unique_ SNPs predictors used and available across tissue models"
   ]
  },
  {
   "cell_type": "code",
   "execution_count": 69,
   "id": "e874a675-1d04-40fb-94f5-c160396ea964",
   "metadata": {
    "execution": {
     "iopub.execute_input": "2022-07-27T17:33:30.303552Z",
     "iopub.status.busy": "2022-07-27T17:33:30.303093Z",
     "iopub.status.idle": "2022-07-27T17:33:30.815523Z",
     "shell.execute_reply": "2022-07-27T17:33:30.814900Z"
    },
    "papermill": {
     "duration": 0.529959,
     "end_time": "2022-07-27T17:33:30.817180",
     "exception": false,
     "start_time": "2022-07-27T17:33:30.287221",
     "status": "completed"
    },
    "tags": []
   },
   "outputs": [],
   "source": [
    "spredixcan_gene_obj = {\n",
    "    gene_id: Gene(ensembl_id=gene_id) for gene_id in spredixcan_genes_models.index\n",
    "}"
   ]
  },
  {
   "cell_type": "code",
   "execution_count": 70,
   "id": "27a0142c-faf9-4144-b072-7bbd64b8a3b4",
   "metadata": {
    "execution": {
     "iopub.execute_input": "2022-07-27T17:33:30.856421Z",
     "iopub.status.busy": "2022-07-27T17:33:30.856244Z",
     "iopub.status.idle": "2022-07-27T17:33:30.869952Z",
     "shell.execute_reply": "2022-07-27T17:33:30.869391Z"
    },
    "papermill": {
     "duration": 0.034511,
     "end_time": "2022-07-27T17:33:30.871321",
     "exception": false,
     "start_time": "2022-07-27T17:33:30.836810",
     "status": "completed"
    },
    "tags": []
   },
   "outputs": [
    {
     "data": {
      "text/plain": [
       "22314"
      ]
     },
     "execution_count": 70,
     "metadata": {},
     "output_type": "execute_result"
    }
   ],
   "source": [
    "len(spredixcan_gene_obj)"
   ]
  },
  {
   "cell_type": "code",
   "execution_count": 71,
   "id": "38d5bc57-3c25-4abe-93bd-09bbe200f2ef",
   "metadata": {
    "execution": {
     "iopub.execute_input": "2022-07-27T17:33:30.906348Z",
     "iopub.status.busy": "2022-07-27T17:33:30.906147Z",
     "iopub.status.idle": "2022-07-27T17:33:30.919990Z",
     "shell.execute_reply": "2022-07-27T17:33:30.919462Z"
    },
    "papermill": {
     "duration": 0.032048,
     "end_time": "2022-07-27T17:33:30.921246",
     "exception": false,
     "start_time": "2022-07-27T17:33:30.889198",
     "status": "completed"
    },
    "tags": []
   },
   "outputs": [],
   "source": [
    "def _count_unique_snps(gene_id):\n",
    "    \"\"\"\n",
    "    For a gene_id, it counts unique SNPs in all models and their intersection with GWAS SNPs (therefore, used by S-PrediXcan).\n",
    "    \"\"\"\n",
    "    gene_obj = spredixcan_gene_obj[gene_id]\n",
    "    gene_tissues = spredixcan_genes_models.loc[gene_id, \"tissue\"]\n",
    "\n",
    "    gene_unique_snps = set()\n",
    "    for t in gene_tissues:\n",
    "        t_snps = set(\n",
    "            gene_obj.get_prediction_weights(tissue=t, model_type=EQTL_MODEL).index\n",
    "        )\n",
    "        gene_unique_snps.update(t_snps)\n",
    "\n",
    "    gene_unique_snps_in_gwas = gwas_variants_ids_set.intersection(gene_unique_snps)\n",
    "\n",
    "    return pd.Series(\n",
    "        {\n",
    "            \"unique_n_snps_in_model\": len(gene_unique_snps),\n",
    "            \"unique_n_snps_used\": len(gene_unique_snps_in_gwas),\n",
    "        }\n",
    "    )"
   ]
  },
  {
   "cell_type": "code",
   "execution_count": 72,
   "id": "059c6e02-67e2-4376-a3e5-b815070779c9",
   "metadata": {
    "execution": {
     "iopub.execute_input": "2022-07-27T17:33:30.953200Z",
     "iopub.status.busy": "2022-07-27T17:33:30.952997Z",
     "iopub.status.idle": "2022-07-27T17:33:30.971330Z",
     "shell.execute_reply": "2022-07-27T17:33:30.970853Z"
    },
    "papermill": {
     "duration": 0.035744,
     "end_time": "2022-07-27T17:33:30.972514",
     "exception": false,
     "start_time": "2022-07-27T17:33:30.936770",
     "status": "completed"
    },
    "tags": []
   },
   "outputs": [
    {
     "data": {
      "text/html": [
       "<div>\n",
       "<style scoped>\n",
       "    .dataframe tbody tr th:only-of-type {\n",
       "        vertical-align: middle;\n",
       "    }\n",
       "\n",
       "    .dataframe tbody tr th {\n",
       "        vertical-align: top;\n",
       "    }\n",
       "\n",
       "    .dataframe thead th {\n",
       "        text-align: right;\n",
       "    }\n",
       "</style>\n",
       "<table border=\"1\" class=\"dataframe\">\n",
       "  <thead>\n",
       "    <tr style=\"text-align: right;\">\n",
       "      <th></th>\n",
       "      <th>gene_name</th>\n",
       "      <th>tissue</th>\n",
       "      <th>n_tissues</th>\n",
       "      <th>n_snps_used_sum</th>\n",
       "      <th>n_snps_in_model_sum</th>\n",
       "    </tr>\n",
       "    <tr>\n",
       "      <th>gene_id</th>\n",
       "      <th></th>\n",
       "      <th></th>\n",
       "      <th></th>\n",
       "      <th></th>\n",
       "      <th></th>\n",
       "    </tr>\n",
       "  </thead>\n",
       "  <tbody>\n",
       "    <tr>\n",
       "      <th>ENSG00000000419</th>\n",
       "      <td>DPM1</td>\n",
       "      <td>(Brain_Substantia_nigra, Brain_Hypothalamus)</td>\n",
       "      <td>2</td>\n",
       "      <td>2</td>\n",
       "      <td>2</td>\n",
       "    </tr>\n",
       "    <tr>\n",
       "      <th>ENSG00000007001</th>\n",
       "      <td>UPP2</td>\n",
       "      <td>(Brain_Nucleus_accumbens_basal_ganglia, Brain_...</td>\n",
       "      <td>2</td>\n",
       "      <td>2</td>\n",
       "      <td>2</td>\n",
       "    </tr>\n",
       "    <tr>\n",
       "      <th>ENSG00000007202</th>\n",
       "      <td>KIAA0100</td>\n",
       "      <td>(Adipose_Subcutaneous, Esophagus_Mucosa)</td>\n",
       "      <td>2</td>\n",
       "      <td>2</td>\n",
       "      <td>2</td>\n",
       "    </tr>\n",
       "    <tr>\n",
       "      <th>ENSG00000010256</th>\n",
       "      <td>UQCRC1</td>\n",
       "      <td>(Whole_Blood, Thyroid)</td>\n",
       "      <td>2</td>\n",
       "      <td>2</td>\n",
       "      <td>2</td>\n",
       "    </tr>\n",
       "    <tr>\n",
       "      <th>ENSG00000011451</th>\n",
       "      <td>WIZ</td>\n",
       "      <td>(Brain_Anterior_cingulate_cortex_BA24, Skin_Su...</td>\n",
       "      <td>2</td>\n",
       "      <td>2</td>\n",
       "      <td>2</td>\n",
       "    </tr>\n",
       "  </tbody>\n",
       "</table>\n",
       "</div>"
      ],
      "text/plain": [
       "                gene_name                                             tissue  \\\n",
       "gene_id                                                                        \n",
       "ENSG00000000419      DPM1       (Brain_Substantia_nigra, Brain_Hypothalamus)   \n",
       "ENSG00000007001      UPP2  (Brain_Nucleus_accumbens_basal_ganglia, Brain_...   \n",
       "ENSG00000007202  KIAA0100           (Adipose_Subcutaneous, Esophagus_Mucosa)   \n",
       "ENSG00000010256    UQCRC1                             (Whole_Blood, Thyroid)   \n",
       "ENSG00000011451       WIZ  (Brain_Anterior_cingulate_cortex_BA24, Skin_Su...   \n",
       "\n",
       "                 n_tissues  n_snps_used_sum  n_snps_in_model_sum  \n",
       "gene_id                                                           \n",
       "ENSG00000000419          2                2                    2  \n",
       "ENSG00000007001          2                2                    2  \n",
       "ENSG00000007202          2                2                    2  \n",
       "ENSG00000010256          2                2                    2  \n",
       "ENSG00000011451          2                2                    2  "
      ]
     },
     "execution_count": 72,
     "metadata": {},
     "output_type": "execute_result"
    }
   ],
   "source": [
    "# testing\n",
    "spredixcan_genes_models[spredixcan_genes_models[\"n_snps_used_sum\"] == 2].head()"
   ]
  },
  {
   "cell_type": "code",
   "execution_count": 73,
   "id": "4f8a444c-c3e2-4688-a50b-08481d41f614",
   "metadata": {
    "execution": {
     "iopub.execute_input": "2022-07-27T17:33:31.004956Z",
     "iopub.status.busy": "2022-07-27T17:33:31.004399Z",
     "iopub.status.idle": "2022-07-27T17:33:31.026164Z",
     "shell.execute_reply": "2022-07-27T17:33:31.025653Z"
    },
    "papermill": {
     "duration": 0.038919,
     "end_time": "2022-07-27T17:33:31.027376",
     "exception": false,
     "start_time": "2022-07-27T17:33:30.988457",
     "status": "completed"
    },
    "tags": []
   },
   "outputs": [
    {
     "data": {
      "text/plain": [
       "varID\n",
       "chr20_50862947_C_T_b38    0.431375\n",
       "Name: weight, dtype: float64"
      ]
     },
     "metadata": {},
     "output_type": "display_data"
    },
    {
     "data": {
      "text/plain": [
       "varID\n",
       "chr20_50957480_C_T_b38   -0.146796\n",
       "Name: weight, dtype: float64"
      ]
     },
     "metadata": {},
     "output_type": "display_data"
    }
   ],
   "source": [
    "# case with two snps, not repeated across tissues\n",
    "_gene_id = \"ENSG00000000419\"\n",
    "display(\n",
    "    spredixcan_gene_obj[_gene_id].get_prediction_weights(\n",
    "        tissue=\"Brain_Hypothalamus\", model_type=EQTL_MODEL\n",
    "    )\n",
    ")\n",
    "display(\n",
    "    spredixcan_gene_obj[_gene_id].get_prediction_weights(\n",
    "        tissue=\"Brain_Substantia_nigra\", model_type=EQTL_MODEL\n",
    "    )\n",
    ")"
   ]
  },
  {
   "cell_type": "code",
   "execution_count": 74,
   "id": "f835cf57-eea6-4468-aaf2-d85c8164d177",
   "metadata": {
    "execution": {
     "iopub.execute_input": "2022-07-27T17:33:31.060575Z",
     "iopub.status.busy": "2022-07-27T17:33:31.060375Z",
     "iopub.status.idle": "2022-07-27T17:33:31.073367Z",
     "shell.execute_reply": "2022-07-27T17:33:31.072907Z"
    },
    "papermill": {
     "duration": 0.030965,
     "end_time": "2022-07-27T17:33:31.074687",
     "exception": false,
     "start_time": "2022-07-27T17:33:31.043722",
     "status": "completed"
    },
    "tags": []
   },
   "outputs": [],
   "source": [
    "_tmp = _count_unique_snps(_gene_id)\n",
    "assert _tmp.shape[0] == 2\n",
    "assert _tmp[\"unique_n_snps_in_model\"] == 2\n",
    "assert _tmp[\"unique_n_snps_used\"] == 2"
   ]
  },
  {
   "cell_type": "code",
   "execution_count": 75,
   "id": "799b6581-7a05-4c99-8bf4-b3ecbc874c2a",
   "metadata": {
    "execution": {
     "iopub.execute_input": "2022-07-27T17:33:31.107215Z",
     "iopub.status.busy": "2022-07-27T17:33:31.107011Z",
     "iopub.status.idle": "2022-07-27T17:33:31.130827Z",
     "shell.execute_reply": "2022-07-27T17:33:31.130280Z"
    },
    "papermill": {
     "duration": 0.041336,
     "end_time": "2022-07-27T17:33:31.131973",
     "exception": false,
     "start_time": "2022-07-27T17:33:31.090637",
     "status": "completed"
    },
    "tags": []
   },
   "outputs": [
    {
     "data": {
      "text/plain": [
       "varID\n",
       "chr17_28638994_C_T_b38    0.057102\n",
       "Name: weight, dtype: float64"
      ]
     },
     "metadata": {},
     "output_type": "display_data"
    },
    {
     "data": {
      "text/plain": [
       "varID\n",
       "chr17_28638994_C_T_b38   -0.159508\n",
       "Name: weight, dtype: float64"
      ]
     },
     "metadata": {},
     "output_type": "display_data"
    }
   ],
   "source": [
    "# case with two snps, repeated across tissues\n",
    "_gene_id = \"ENSG00000007202\"\n",
    "display(\n",
    "    spredixcan_gene_obj[_gene_id].get_prediction_weights(\n",
    "        tissue=\"Adipose_Subcutaneous\", model_type=EQTL_MODEL\n",
    "    )\n",
    ")\n",
    "display(\n",
    "    spredixcan_gene_obj[_gene_id].get_prediction_weights(\n",
    "        tissue=\"Esophagus_Mucosa\", model_type=EQTL_MODEL\n",
    "    )\n",
    ")"
   ]
  },
  {
   "cell_type": "code",
   "execution_count": 76,
   "id": "1688e307-f302-4b6d-9859-db2c6c053005",
   "metadata": {
    "execution": {
     "iopub.execute_input": "2022-07-27T17:33:31.164784Z",
     "iopub.status.busy": "2022-07-27T17:33:31.164576Z",
     "iopub.status.idle": "2022-07-27T17:33:31.176970Z",
     "shell.execute_reply": "2022-07-27T17:33:31.176460Z"
    },
    "papermill": {
     "duration": 0.029948,
     "end_time": "2022-07-27T17:33:31.178259",
     "exception": false,
     "start_time": "2022-07-27T17:33:31.148311",
     "status": "completed"
    },
    "tags": []
   },
   "outputs": [
    {
     "data": {
      "text/plain": [
       "True"
      ]
     },
     "execution_count": 76,
     "metadata": {},
     "output_type": "execute_result"
    }
   ],
   "source": [
    "\"chr17_28638994_C_T_b38\" in gwas_variants_ids_set"
   ]
  },
  {
   "cell_type": "code",
   "execution_count": 77,
   "id": "27908aaa-b9e2-420a-bff2-0f1e054e3199",
   "metadata": {
    "execution": {
     "iopub.execute_input": "2022-07-27T17:33:31.210971Z",
     "iopub.status.busy": "2022-07-27T17:33:31.210768Z",
     "iopub.status.idle": "2022-07-27T17:33:31.223706Z",
     "shell.execute_reply": "2022-07-27T17:33:31.223202Z"
    },
    "papermill": {
     "duration": 0.030777,
     "end_time": "2022-07-27T17:33:31.225008",
     "exception": false,
     "start_time": "2022-07-27T17:33:31.194231",
     "status": "completed"
    },
    "tags": []
   },
   "outputs": [],
   "source": [
    "_tmp = _count_unique_snps(_gene_id)\n",
    "assert _tmp.shape[0] == 2\n",
    "assert _tmp[\"unique_n_snps_in_model\"] == 1\n",
    "assert _tmp[\"unique_n_snps_used\"] == 1"
   ]
  },
  {
   "cell_type": "code",
   "execution_count": 78,
   "id": "520837f6-5cdd-4958-aa98-00cd1ebab484",
   "metadata": {
    "execution": {
     "iopub.execute_input": "2022-07-27T17:33:31.258012Z",
     "iopub.status.busy": "2022-07-27T17:33:31.257807Z",
     "iopub.status.idle": "2022-07-27T18:11:42.012387Z",
     "shell.execute_reply": "2022-07-27T18:11:42.011593Z"
    },
    "papermill": {
     "duration": 2290.774241,
     "end_time": "2022-07-27T18:11:42.015650",
     "exception": false,
     "start_time": "2022-07-27T17:33:31.241409",
     "status": "completed"
    },
    "tags": []
   },
   "outputs": [],
   "source": [
    "# get unique snps for all genes\n",
    "spredixcan_genes_unique_n_snps = spredixcan_genes_models.groupby(\"gene_id\").apply(\n",
    "    lambda x: _count_unique_snps(x.name)\n",
    ")"
   ]
  },
  {
   "cell_type": "code",
   "execution_count": 79,
   "id": "72633373-73d7-4796-b915-06fcb18feca0",
   "metadata": {
    "execution": {
     "iopub.execute_input": "2022-07-27T18:11:42.063134Z",
     "iopub.status.busy": "2022-07-27T18:11:42.062928Z",
     "iopub.status.idle": "2022-07-27T18:11:42.080405Z",
     "shell.execute_reply": "2022-07-27T18:11:42.079743Z"
    },
    "papermill": {
     "duration": 0.043718,
     "end_time": "2022-07-27T18:11:42.081870",
     "exception": false,
     "start_time": "2022-07-27T18:11:42.038152",
     "status": "completed"
    },
    "tags": []
   },
   "outputs": [
    {
     "data": {
      "text/html": [
       "<div>\n",
       "<style scoped>\n",
       "    .dataframe tbody tr th:only-of-type {\n",
       "        vertical-align: middle;\n",
       "    }\n",
       "\n",
       "    .dataframe tbody tr th {\n",
       "        vertical-align: top;\n",
       "    }\n",
       "\n",
       "    .dataframe thead th {\n",
       "        text-align: right;\n",
       "    }\n",
       "</style>\n",
       "<table border=\"1\" class=\"dataframe\">\n",
       "  <thead>\n",
       "    <tr style=\"text-align: right;\">\n",
       "      <th></th>\n",
       "      <th>unique_n_snps_in_model</th>\n",
       "      <th>unique_n_snps_used</th>\n",
       "    </tr>\n",
       "    <tr>\n",
       "      <th>gene_id</th>\n",
       "      <th></th>\n",
       "      <th></th>\n",
       "    </tr>\n",
       "  </thead>\n",
       "  <tbody>\n",
       "    <tr>\n",
       "      <th>ENSG00000000419</th>\n",
       "      <td>2</td>\n",
       "      <td>2</td>\n",
       "    </tr>\n",
       "    <tr>\n",
       "      <th>ENSG00000000457</th>\n",
       "      <td>18</td>\n",
       "      <td>17</td>\n",
       "    </tr>\n",
       "    <tr>\n",
       "      <th>ENSG00000000460</th>\n",
       "      <td>24</td>\n",
       "      <td>22</td>\n",
       "    </tr>\n",
       "    <tr>\n",
       "      <th>ENSG00000000938</th>\n",
       "      <td>5</td>\n",
       "      <td>5</td>\n",
       "    </tr>\n",
       "    <tr>\n",
       "      <th>ENSG00000000971</th>\n",
       "      <td>12</td>\n",
       "      <td>12</td>\n",
       "    </tr>\n",
       "  </tbody>\n",
       "</table>\n",
       "</div>"
      ],
      "text/plain": [
       "                 unique_n_snps_in_model  unique_n_snps_used\n",
       "gene_id                                                    \n",
       "ENSG00000000419                       2                   2\n",
       "ENSG00000000457                      18                  17\n",
       "ENSG00000000460                      24                  22\n",
       "ENSG00000000938                       5                   5\n",
       "ENSG00000000971                      12                  12"
      ]
     },
     "execution_count": 79,
     "metadata": {},
     "output_type": "execute_result"
    }
   ],
   "source": [
    "spredixcan_genes_unique_n_snps.head()"
   ]
  },
  {
   "cell_type": "code",
   "execution_count": 80,
   "id": "3d2b6676-2168-44b8-8d02-d29b934ba2ec",
   "metadata": {
    "execution": {
     "iopub.execute_input": "2022-07-27T18:11:42.119662Z",
     "iopub.status.busy": "2022-07-27T18:11:42.119490Z",
     "iopub.status.idle": "2022-07-27T18:11:42.132798Z",
     "shell.execute_reply": "2022-07-27T18:11:42.132168Z"
    },
    "papermill": {
     "duration": 0.032664,
     "end_time": "2022-07-27T18:11:42.134217",
     "exception": false,
     "start_time": "2022-07-27T18:11:42.101553",
     "status": "completed"
    },
    "tags": []
   },
   "outputs": [],
   "source": [
    "assert (\n",
    "    spredixcan_genes_unique_n_snps[\"unique_n_snps_in_model\"]\n",
    "    >= spredixcan_genes_unique_n_snps[\"unique_n_snps_used\"]\n",
    ").all()"
   ]
  },
  {
   "cell_type": "code",
   "execution_count": 81,
   "id": "6accf2fe-93fe-4f7c-86ff-5f0ea3d17e11",
   "metadata": {
    "execution": {
     "iopub.execute_input": "2022-07-27T18:11:42.169480Z",
     "iopub.status.busy": "2022-07-27T18:11:42.169264Z",
     "iopub.status.idle": "2022-07-27T18:11:42.186742Z",
     "shell.execute_reply": "2022-07-27T18:11:42.186151Z"
    },
    "papermill": {
     "duration": 0.036634,
     "end_time": "2022-07-27T18:11:42.188248",
     "exception": false,
     "start_time": "2022-07-27T18:11:42.151614",
     "status": "completed"
    },
    "tags": []
   },
   "outputs": [],
   "source": [
    "# add unique snps to spredixcan_genes_models\n",
    "spredixcan_genes_models = spredixcan_genes_models.join(spredixcan_genes_unique_n_snps)"
   ]
  },
  {
   "cell_type": "code",
   "execution_count": 82,
   "id": "25a28358-843b-4421-9d8f-8edc41f016e3",
   "metadata": {
    "execution": {
     "iopub.execute_input": "2022-07-27T18:11:42.223533Z",
     "iopub.status.busy": "2022-07-27T18:11:42.223356Z",
     "iopub.status.idle": "2022-07-27T18:11:42.236388Z",
     "shell.execute_reply": "2022-07-27T18:11:42.235780Z"
    },
    "papermill": {
     "duration": 0.031773,
     "end_time": "2022-07-27T18:11:42.237615",
     "exception": false,
     "start_time": "2022-07-27T18:11:42.205842",
     "status": "completed"
    },
    "tags": []
   },
   "outputs": [
    {
     "data": {
      "text/plain": [
       "(22314, 7)"
      ]
     },
     "execution_count": 82,
     "metadata": {},
     "output_type": "execute_result"
    }
   ],
   "source": [
    "spredixcan_genes_models.shape"
   ]
  },
  {
   "cell_type": "code",
   "execution_count": 83,
   "id": "ae4f0cd6-a823-4f55-82cf-1a78f0392acf",
   "metadata": {
    "execution": {
     "iopub.execute_input": "2022-07-27T18:11:42.271639Z",
     "iopub.status.busy": "2022-07-27T18:11:42.271434Z",
     "iopub.status.idle": "2022-07-27T18:11:42.291153Z",
     "shell.execute_reply": "2022-07-27T18:11:42.290742Z"
    },
    "papermill": {
     "duration": 0.038118,
     "end_time": "2022-07-27T18:11:42.292392",
     "exception": false,
     "start_time": "2022-07-27T18:11:42.254274",
     "status": "completed"
    },
    "tags": []
   },
   "outputs": [
    {
     "data": {
      "text/html": [
       "<div>\n",
       "<style scoped>\n",
       "    .dataframe tbody tr th:only-of-type {\n",
       "        vertical-align: middle;\n",
       "    }\n",
       "\n",
       "    .dataframe tbody tr th {\n",
       "        vertical-align: top;\n",
       "    }\n",
       "\n",
       "    .dataframe thead th {\n",
       "        text-align: right;\n",
       "    }\n",
       "</style>\n",
       "<table border=\"1\" class=\"dataframe\">\n",
       "  <thead>\n",
       "    <tr style=\"text-align: right;\">\n",
       "      <th></th>\n",
       "      <th>gene_name</th>\n",
       "      <th>tissue</th>\n",
       "      <th>n_tissues</th>\n",
       "      <th>n_snps_used_sum</th>\n",
       "      <th>n_snps_in_model_sum</th>\n",
       "      <th>unique_n_snps_in_model</th>\n",
       "      <th>unique_n_snps_used</th>\n",
       "    </tr>\n",
       "    <tr>\n",
       "      <th>gene_id</th>\n",
       "      <th></th>\n",
       "      <th></th>\n",
       "      <th></th>\n",
       "      <th></th>\n",
       "      <th></th>\n",
       "      <th></th>\n",
       "      <th></th>\n",
       "    </tr>\n",
       "  </thead>\n",
       "  <tbody>\n",
       "    <tr>\n",
       "      <th>ENSG00000000419</th>\n",
       "      <td>DPM1</td>\n",
       "      <td>(Brain_Substantia_nigra, Brain_Hypothalamus)</td>\n",
       "      <td>2</td>\n",
       "      <td>2</td>\n",
       "      <td>2</td>\n",
       "      <td>2</td>\n",
       "      <td>2</td>\n",
       "    </tr>\n",
       "    <tr>\n",
       "      <th>ENSG00000000457</th>\n",
       "      <td>SCYL3</td>\n",
       "      <td>(Uterus, Muscle_Skeletal, Brain_Cerebellum, Sp...</td>\n",
       "      <td>48</td>\n",
       "      <td>88</td>\n",
       "      <td>90</td>\n",
       "      <td>18</td>\n",
       "      <td>17</td>\n",
       "    </tr>\n",
       "    <tr>\n",
       "      <th>ENSG00000000460</th>\n",
       "      <td>C1orf112</td>\n",
       "      <td>(Muscle_Skeletal, Brain_Cerebellum, Esophagus_...</td>\n",
       "      <td>39</td>\n",
       "      <td>62</td>\n",
       "      <td>64</td>\n",
       "      <td>24</td>\n",
       "      <td>22</td>\n",
       "    </tr>\n",
       "    <tr>\n",
       "      <th>ENSG00000000938</th>\n",
       "      <td>FGR</td>\n",
       "      <td>(Muscle_Skeletal, Brain_Cerebellum, Spleen, Es...</td>\n",
       "      <td>36</td>\n",
       "      <td>40</td>\n",
       "      <td>40</td>\n",
       "      <td>5</td>\n",
       "      <td>5</td>\n",
       "    </tr>\n",
       "    <tr>\n",
       "      <th>ENSG00000000971</th>\n",
       "      <td>CFH</td>\n",
       "      <td>(Uterus, Brain_Cerebellum, Esophagus_Musculari...</td>\n",
       "      <td>34</td>\n",
       "      <td>44</td>\n",
       "      <td>44</td>\n",
       "      <td>12</td>\n",
       "      <td>12</td>\n",
       "    </tr>\n",
       "  </tbody>\n",
       "</table>\n",
       "</div>"
      ],
      "text/plain": [
       "                gene_name                                             tissue  \\\n",
       "gene_id                                                                        \n",
       "ENSG00000000419      DPM1       (Brain_Substantia_nigra, Brain_Hypothalamus)   \n",
       "ENSG00000000457     SCYL3  (Uterus, Muscle_Skeletal, Brain_Cerebellum, Sp...   \n",
       "ENSG00000000460  C1orf112  (Muscle_Skeletal, Brain_Cerebellum, Esophagus_...   \n",
       "ENSG00000000938       FGR  (Muscle_Skeletal, Brain_Cerebellum, Spleen, Es...   \n",
       "ENSG00000000971       CFH  (Uterus, Brain_Cerebellum, Esophagus_Musculari...   \n",
       "\n",
       "                 n_tissues  n_snps_used_sum  n_snps_in_model_sum  \\\n",
       "gene_id                                                            \n",
       "ENSG00000000419          2                2                    2   \n",
       "ENSG00000000457         48               88                   90   \n",
       "ENSG00000000460         39               62                   64   \n",
       "ENSG00000000938         36               40                   40   \n",
       "ENSG00000000971         34               44                   44   \n",
       "\n",
       "                 unique_n_snps_in_model  unique_n_snps_used  \n",
       "gene_id                                                      \n",
       "ENSG00000000419                       2                   2  \n",
       "ENSG00000000457                      18                  17  \n",
       "ENSG00000000460                      24                  22  \n",
       "ENSG00000000938                       5                   5  \n",
       "ENSG00000000971                      12                  12  "
      ]
     },
     "execution_count": 83,
     "metadata": {},
     "output_type": "execute_result"
    }
   ],
   "source": [
    "spredixcan_genes_models.head()"
   ]
  },
  {
   "cell_type": "markdown",
   "id": "d6947d45-ea78-4c6b-bf71-f7413d1687e3",
   "metadata": {
    "papermill": {
     "duration": 0.015717,
     "end_time": "2022-07-27T18:11:42.324915",
     "exception": false,
     "start_time": "2022-07-27T18:11:42.309198",
     "status": "completed"
    },
    "tags": []
   },
   "source": [
    "### Save"
   ]
  },
  {
   "cell_type": "code",
   "execution_count": 84,
   "id": "10e19441-8390-4eb1-8da4-24752597bb54",
   "metadata": {
    "execution": {
     "iopub.execute_input": "2022-07-27T18:11:42.358049Z",
     "iopub.status.busy": "2022-07-27T18:11:42.357868Z",
     "iopub.status.idle": "2022-07-27T18:11:42.406996Z",
     "shell.execute_reply": "2022-07-27T18:11:42.406380Z"
    },
    "papermill": {
     "duration": 0.067312,
     "end_time": "2022-07-27T18:11:42.408454",
     "exception": false,
     "start_time": "2022-07-27T18:11:42.341142",
     "status": "completed"
    },
    "tags": []
   },
   "outputs": [],
   "source": [
    "spredixcan_genes_models.to_pickle(OUTPUT_DIR_BASE / \"gene_tissues.pkl\")"
   ]
  },
  {
   "cell_type": "markdown",
   "id": "d5b7f4ea-1844-420a-8037-53095f3823c5",
   "metadata": {
    "papermill": {
     "duration": 0.016716,
     "end_time": "2022-07-27T18:11:42.442581",
     "exception": false,
     "start_time": "2022-07-27T18:11:42.425865",
     "status": "completed"
    },
    "tags": []
   },
   "source": [
    "## S-MultiXcan results"
   ]
  },
  {
   "cell_type": "code",
   "execution_count": 85,
   "id": "2b73c11e-9aa2-410e-84b4-a70be34d02e4",
   "metadata": {
    "execution": {
     "iopub.execute_input": "2022-07-27T18:11:42.475298Z",
     "iopub.status.busy": "2022-07-27T18:11:42.475093Z",
     "iopub.status.idle": "2022-07-27T18:11:42.536186Z",
     "shell.execute_reply": "2022-07-27T18:11:42.535594Z"
    },
    "papermill": {
     "duration": 0.07937,
     "end_time": "2022-07-27T18:11:42.537815",
     "exception": false,
     "start_time": "2022-07-27T18:11:42.458445",
     "status": "completed"
    },
    "tags": []
   },
   "outputs": [],
   "source": [
    "# TODO: something that could be interesting to do is to compare `n_indep` with the number of independent components I get\n",
    "smultixcan_results = pd.read_csv(\n",
    "    SMULTIXCAN_FILE, sep=\"\\t\", usecols=[\"gene\", \"gene_name\", \"pvalue\", \"n\"]\n",
    ")"
   ]
  },
  {
   "cell_type": "code",
   "execution_count": 86,
   "id": "8b5abebd-baab-4188-9e3d-655ebbe32401",
   "metadata": {
    "execution": {
     "iopub.execute_input": "2022-07-27T18:11:42.576482Z",
     "iopub.status.busy": "2022-07-27T18:11:42.576327Z",
     "iopub.status.idle": "2022-07-27T18:11:42.589322Z",
     "shell.execute_reply": "2022-07-27T18:11:42.588844Z"
    },
    "papermill": {
     "duration": 0.033213,
     "end_time": "2022-07-27T18:11:42.590725",
     "exception": false,
     "start_time": "2022-07-27T18:11:42.557512",
     "status": "completed"
    },
    "tags": []
   },
   "outputs": [
    {
     "data": {
      "text/plain": [
       "(22317, 4)"
      ]
     },
     "execution_count": 86,
     "metadata": {},
     "output_type": "execute_result"
    }
   ],
   "source": [
    "smultixcan_results.shape"
   ]
  },
  {
   "cell_type": "code",
   "execution_count": 87,
   "id": "c65e233f-9ef6-4883-9386-7abf1d6d1cbd",
   "metadata": {
    "execution": {
     "iopub.execute_input": "2022-07-27T18:11:42.626307Z",
     "iopub.status.busy": "2022-07-27T18:11:42.625848Z",
     "iopub.status.idle": "2022-07-27T18:11:42.645158Z",
     "shell.execute_reply": "2022-07-27T18:11:42.644571Z"
    },
    "papermill": {
     "duration": 0.038534,
     "end_time": "2022-07-27T18:11:42.646727",
     "exception": false,
     "start_time": "2022-07-27T18:11:42.608193",
     "status": "completed"
    },
    "tags": []
   },
   "outputs": [],
   "source": [
    "smultixcan_results = smultixcan_results.dropna()"
   ]
  },
  {
   "cell_type": "code",
   "execution_count": 88,
   "id": "57d2d311-4a42-4725-9e37-b124ed13ad33",
   "metadata": {
    "execution": {
     "iopub.execute_input": "2022-07-27T18:11:42.687760Z",
     "iopub.status.busy": "2022-07-27T18:11:42.687508Z",
     "iopub.status.idle": "2022-07-27T18:11:42.700126Z",
     "shell.execute_reply": "2022-07-27T18:11:42.699657Z"
    },
    "papermill": {
     "duration": 0.033574,
     "end_time": "2022-07-27T18:11:42.701393",
     "exception": false,
     "start_time": "2022-07-27T18:11:42.667819",
     "status": "completed"
    },
    "tags": []
   },
   "outputs": [
    {
     "data": {
      "text/plain": [
       "(22314, 4)"
      ]
     },
     "execution_count": 88,
     "metadata": {},
     "output_type": "execute_result"
    }
   ],
   "source": [
    "smultixcan_results.shape"
   ]
  },
  {
   "cell_type": "code",
   "execution_count": 89,
   "id": "a36b5b59-f4b6-45bf-b241-ffc9671b357f",
   "metadata": {
    "execution": {
     "iopub.execute_input": "2022-07-27T18:11:42.735464Z",
     "iopub.status.busy": "2022-07-27T18:11:42.734708Z",
     "iopub.status.idle": "2022-07-27T18:11:42.758849Z",
     "shell.execute_reply": "2022-07-27T18:11:42.758220Z"
    },
    "papermill": {
     "duration": 0.042576,
     "end_time": "2022-07-27T18:11:42.760486",
     "exception": false,
     "start_time": "2022-07-27T18:11:42.717910",
     "status": "completed"
    },
    "tags": []
   },
   "outputs": [],
   "source": [
    "smultixcan_results = smultixcan_results.assign(\n",
    "    gene_id=smultixcan_results[\"gene\"].apply(lambda g: g.split(\".\")[0])\n",
    ")"
   ]
  },
  {
   "cell_type": "code",
   "execution_count": 90,
   "id": "c49f62a9-a01a-44af-87da-47d195b0ef7e",
   "metadata": {
    "execution": {
     "iopub.execute_input": "2022-07-27T18:11:42.799393Z",
     "iopub.status.busy": "2022-07-27T18:11:42.799234Z",
     "iopub.status.idle": "2022-07-27T18:11:42.816461Z",
     "shell.execute_reply": "2022-07-27T18:11:42.815962Z"
    },
    "papermill": {
     "duration": 0.036416,
     "end_time": "2022-07-27T18:11:42.817772",
     "exception": false,
     "start_time": "2022-07-27T18:11:42.781356",
     "status": "completed"
    },
    "tags": []
   },
   "outputs": [
    {
     "data": {
      "text/html": [
       "<div>\n",
       "<style scoped>\n",
       "    .dataframe tbody tr th:only-of-type {\n",
       "        vertical-align: middle;\n",
       "    }\n",
       "\n",
       "    .dataframe tbody tr th {\n",
       "        vertical-align: top;\n",
       "    }\n",
       "\n",
       "    .dataframe thead th {\n",
       "        text-align: right;\n",
       "    }\n",
       "</style>\n",
       "<table border=\"1\" class=\"dataframe\">\n",
       "  <thead>\n",
       "    <tr style=\"text-align: right;\">\n",
       "      <th></th>\n",
       "      <th>gene</th>\n",
       "      <th>gene_name</th>\n",
       "      <th>pvalue</th>\n",
       "      <th>n</th>\n",
       "      <th>gene_id</th>\n",
       "    </tr>\n",
       "  </thead>\n",
       "  <tbody>\n",
       "    <tr>\n",
       "      <th>0</th>\n",
       "      <td>ENSG00000131941.7</td>\n",
       "      <td>RHPN2</td>\n",
       "      <td>0.000040</td>\n",
       "      <td>48.0</td>\n",
       "      <td>ENSG00000131941</td>\n",
       "    </tr>\n",
       "    <tr>\n",
       "      <th>1</th>\n",
       "      <td>ENSG00000076650.6</td>\n",
       "      <td>GPATCH1</td>\n",
       "      <td>0.000078</td>\n",
       "      <td>40.0</td>\n",
       "      <td>ENSG00000076650</td>\n",
       "    </tr>\n",
       "    <tr>\n",
       "      <th>2</th>\n",
       "      <td>ENSG00000100906.10</td>\n",
       "      <td>NFKBIA</td>\n",
       "      <td>0.000096</td>\n",
       "      <td>1.0</td>\n",
       "      <td>ENSG00000100906</td>\n",
       "    </tr>\n",
       "    <tr>\n",
       "      <th>3</th>\n",
       "      <td>ENSG00000136319.11</td>\n",
       "      <td>TTC5</td>\n",
       "      <td>0.000109</td>\n",
       "      <td>47.0</td>\n",
       "      <td>ENSG00000136319</td>\n",
       "    </tr>\n",
       "    <tr>\n",
       "      <th>4</th>\n",
       "      <td>ENSG00000152990.13</td>\n",
       "      <td>ADGRA3</td>\n",
       "      <td>0.000135</td>\n",
       "      <td>41.0</td>\n",
       "      <td>ENSG00000152990</td>\n",
       "    </tr>\n",
       "  </tbody>\n",
       "</table>\n",
       "</div>"
      ],
      "text/plain": [
       "                 gene gene_name    pvalue     n          gene_id\n",
       "0   ENSG00000131941.7     RHPN2  0.000040  48.0  ENSG00000131941\n",
       "1   ENSG00000076650.6   GPATCH1  0.000078  40.0  ENSG00000076650\n",
       "2  ENSG00000100906.10    NFKBIA  0.000096   1.0  ENSG00000100906\n",
       "3  ENSG00000136319.11      TTC5  0.000109  47.0  ENSG00000136319\n",
       "4  ENSG00000152990.13    ADGRA3  0.000135  41.0  ENSG00000152990"
      ]
     },
     "execution_count": 90,
     "metadata": {},
     "output_type": "execute_result"
    }
   ],
   "source": [
    "smultixcan_results.head()"
   ]
  },
  {
   "cell_type": "code",
   "execution_count": 91,
   "id": "9c4c023c-86d6-4c4b-8d57-c2b6b93aaf84",
   "metadata": {
    "execution": {
     "iopub.execute_input": "2022-07-27T18:11:42.853670Z",
     "iopub.status.busy": "2022-07-27T18:11:42.853457Z",
     "iopub.status.idle": "2022-07-27T18:11:42.871499Z",
     "shell.execute_reply": "2022-07-27T18:11:42.870971Z"
    },
    "papermill": {
     "duration": 0.037744,
     "end_time": "2022-07-27T18:11:42.873106",
     "exception": false,
     "start_time": "2022-07-27T18:11:42.835362",
     "status": "completed"
    },
    "tags": []
   },
   "outputs": [],
   "source": [
    "assert smultixcan_results[\"gene_id\"].is_unique"
   ]
  },
  {
   "cell_type": "code",
   "execution_count": 92,
   "id": "d737ad4f-f821-4546-9a3e-6703fe264b49",
   "metadata": {
    "execution": {
     "iopub.execute_input": "2022-07-27T18:11:42.913081Z",
     "iopub.status.busy": "2022-07-27T18:11:42.912876Z",
     "iopub.status.idle": "2022-07-27T18:11:42.944896Z",
     "shell.execute_reply": "2022-07-27T18:11:42.944312Z"
    },
    "papermill": {
     "duration": 0.053158,
     "end_time": "2022-07-27T18:11:42.946492",
     "exception": false,
     "start_time": "2022-07-27T18:11:42.893334",
     "status": "completed"
    },
    "tags": []
   },
   "outputs": [],
   "source": [
    "# testing\n",
    "_tmp_smultixcan_results_n_models = (\n",
    "    smultixcan_results.set_index(\"gene_id\")[\"n\"].astype(int).rename(\"tissue\")\n",
    ")\n",
    "\n",
    "assert spredixcan_genes_n_models.shape[0] == _tmp_smultixcan_results_n_models.shape[0]\n",
    "assert spredixcan_genes_n_models.equals(\n",
    "    _tmp_smultixcan_results_n_models.loc[spredixcan_genes_n_models.index]\n",
    ")"
   ]
  },
  {
   "cell_type": "markdown",
   "id": "12f04660-3c26-4580-8372-7c29ee3ab7df",
   "metadata": {
    "papermill": {
     "duration": 0.019461,
     "end_time": "2022-07-27T18:11:42.986914",
     "exception": false,
     "start_time": "2022-07-27T18:11:42.967453",
     "status": "completed"
    },
    "tags": []
   },
   "source": [
    "### Remove duplicated gene names"
   ]
  },
  {
   "cell_type": "code",
   "execution_count": 93,
   "id": "3db4cebf-7f10-4651-be4e-c50e65b855c5",
   "metadata": {
    "execution": {
     "iopub.execute_input": "2022-07-27T18:11:43.025557Z",
     "iopub.status.busy": "2022-07-27T18:11:43.025364Z",
     "iopub.status.idle": "2022-07-27T18:11:43.047523Z",
     "shell.execute_reply": "2022-07-27T18:11:43.047002Z"
    },
    "papermill": {
     "duration": 0.04512,
     "end_time": "2022-07-27T18:11:43.049004",
     "exception": false,
     "start_time": "2022-07-27T18:11:43.003884",
     "status": "completed"
    },
    "tags": []
   },
   "outputs": [
    {
     "data": {
      "text/plain": [
       "False"
      ]
     },
     "execution_count": 93,
     "metadata": {},
     "output_type": "execute_result"
    }
   ],
   "source": [
    "smultixcan_results[\"gene_name\"].is_unique"
   ]
  },
  {
   "cell_type": "code",
   "execution_count": 94,
   "id": "359a302e-d9a9-4bce-bc45-89ab285d8ad5",
   "metadata": {
    "execution": {
     "iopub.execute_input": "2022-07-27T18:11:43.088843Z",
     "iopub.status.busy": "2022-07-27T18:11:43.088682Z",
     "iopub.status.idle": "2022-07-27T18:11:43.115311Z",
     "shell.execute_reply": "2022-07-27T18:11:43.114703Z"
    },
    "papermill": {
     "duration": 0.047003,
     "end_time": "2022-07-27T18:11:43.116784",
     "exception": false,
     "start_time": "2022-07-27T18:11:43.069781",
     "status": "completed"
    },
    "tags": []
   },
   "outputs": [
    {
     "data": {
      "text/html": [
       "<div>\n",
       "<style scoped>\n",
       "    .dataframe tbody tr th:only-of-type {\n",
       "        vertical-align: middle;\n",
       "    }\n",
       "\n",
       "    .dataframe tbody tr th {\n",
       "        vertical-align: top;\n",
       "    }\n",
       "\n",
       "    .dataframe thead th {\n",
       "        text-align: right;\n",
       "    }\n",
       "</style>\n",
       "<table border=\"1\" class=\"dataframe\">\n",
       "  <thead>\n",
       "    <tr style=\"text-align: right;\">\n",
       "      <th></th>\n",
       "      <th>gene</th>\n",
       "      <th>gene_name</th>\n",
       "      <th>pvalue</th>\n",
       "      <th>n</th>\n",
       "      <th>gene_id</th>\n",
       "    </tr>\n",
       "  </thead>\n",
       "  <tbody>\n",
       "    <tr>\n",
       "      <th>1461</th>\n",
       "      <td>ENSG00000235641.4</td>\n",
       "      <td>LINC00484</td>\n",
       "      <td>0.068450</td>\n",
       "      <td>35.0</td>\n",
       "      <td>ENSG00000235641</td>\n",
       "    </tr>\n",
       "    <tr>\n",
       "      <th>2390</th>\n",
       "      <td>ENSG00000237667.5</td>\n",
       "      <td>LINC01115</td>\n",
       "      <td>0.112329</td>\n",
       "      <td>22.0</td>\n",
       "      <td>ENSG00000237667</td>\n",
       "    </tr>\n",
       "    <tr>\n",
       "      <th>5198</th>\n",
       "      <td>ENSG00000272342.1</td>\n",
       "      <td>LINC01115</td>\n",
       "      <td>0.243122</td>\n",
       "      <td>4.0</td>\n",
       "      <td>ENSG00000272342</td>\n",
       "    </tr>\n",
       "    <tr>\n",
       "      <th>5883</th>\n",
       "      <td>ENSG00000229694.6</td>\n",
       "      <td>LINC00484</td>\n",
       "      <td>0.274814</td>\n",
       "      <td>40.0</td>\n",
       "      <td>ENSG00000229694</td>\n",
       "    </tr>\n",
       "    <tr>\n",
       "      <th>6129</th>\n",
       "      <td>ENSG00000147676.13</td>\n",
       "      <td>MAL2</td>\n",
       "      <td>0.286003</td>\n",
       "      <td>29.0</td>\n",
       "      <td>ENSG00000147676</td>\n",
       "    </tr>\n",
       "    <tr>\n",
       "      <th>6207</th>\n",
       "      <td>ENSG00000283992.1</td>\n",
       "      <td>LYNX1</td>\n",
       "      <td>0.289628</td>\n",
       "      <td>45.0</td>\n",
       "      <td>ENSG00000283992</td>\n",
       "    </tr>\n",
       "    <tr>\n",
       "      <th>10559</th>\n",
       "      <td>ENSG00000180155.19</td>\n",
       "      <td>LYNX1</td>\n",
       "      <td>0.486960</td>\n",
       "      <td>48.0</td>\n",
       "      <td>ENSG00000180155</td>\n",
       "    </tr>\n",
       "    <tr>\n",
       "      <th>14026</th>\n",
       "      <td>ENSG00000235271.5</td>\n",
       "      <td>LINC01422</td>\n",
       "      <td>0.643355</td>\n",
       "      <td>38.0</td>\n",
       "      <td>ENSG00000235271</td>\n",
       "    </tr>\n",
       "    <tr>\n",
       "      <th>14251</th>\n",
       "      <td>ENSG00000253972.5</td>\n",
       "      <td>MAL2</td>\n",
       "      <td>0.654873</td>\n",
       "      <td>6.0</td>\n",
       "      <td>ENSG00000253972</td>\n",
       "    </tr>\n",
       "    <tr>\n",
       "      <th>20086</th>\n",
       "      <td>ENSG00000182957.15</td>\n",
       "      <td>SPATA13</td>\n",
       "      <td>0.906729</td>\n",
       "      <td>40.0</td>\n",
       "      <td>ENSG00000182957</td>\n",
       "    </tr>\n",
       "    <tr>\n",
       "      <th>21031</th>\n",
       "      <td>ENSG00000223704.1</td>\n",
       "      <td>LINC01422</td>\n",
       "      <td>0.946342</td>\n",
       "      <td>48.0</td>\n",
       "      <td>ENSG00000223704</td>\n",
       "    </tr>\n",
       "    <tr>\n",
       "      <th>21040</th>\n",
       "      <td>ENSG00000228741.2</td>\n",
       "      <td>SPATA13</td>\n",
       "      <td>0.946653</td>\n",
       "      <td>23.0</td>\n",
       "      <td>ENSG00000228741</td>\n",
       "    </tr>\n",
       "  </tbody>\n",
       "</table>\n",
       "</div>"
      ],
      "text/plain": [
       "                     gene  gene_name    pvalue     n          gene_id\n",
       "1461    ENSG00000235641.4  LINC00484  0.068450  35.0  ENSG00000235641\n",
       "2390    ENSG00000237667.5  LINC01115  0.112329  22.0  ENSG00000237667\n",
       "5198    ENSG00000272342.1  LINC01115  0.243122   4.0  ENSG00000272342\n",
       "5883    ENSG00000229694.6  LINC00484  0.274814  40.0  ENSG00000229694\n",
       "6129   ENSG00000147676.13       MAL2  0.286003  29.0  ENSG00000147676\n",
       "6207    ENSG00000283992.1      LYNX1  0.289628  45.0  ENSG00000283992\n",
       "10559  ENSG00000180155.19      LYNX1  0.486960  48.0  ENSG00000180155\n",
       "14026   ENSG00000235271.5  LINC01422  0.643355  38.0  ENSG00000235271\n",
       "14251   ENSG00000253972.5       MAL2  0.654873   6.0  ENSG00000253972\n",
       "20086  ENSG00000182957.15    SPATA13  0.906729  40.0  ENSG00000182957\n",
       "21031   ENSG00000223704.1  LINC01422  0.946342  48.0  ENSG00000223704\n",
       "21040   ENSG00000228741.2    SPATA13  0.946653  23.0  ENSG00000228741"
      ]
     },
     "metadata": {},
     "output_type": "display_data"
    }
   ],
   "source": [
    "# list duplicated gene names\n",
    "_smultixcan_duplicated_gene_names = smultixcan_results[\n",
    "    smultixcan_results[\"gene_name\"].duplicated(keep=False)\n",
    "]\n",
    "display(_smultixcan_duplicated_gene_names)"
   ]
  },
  {
   "cell_type": "code",
   "execution_count": 95,
   "id": "d8ff3ec1-312a-48be-b33f-50fb6f103c21",
   "metadata": {
    "execution": {
     "iopub.execute_input": "2022-07-27T18:11:43.156344Z",
     "iopub.status.busy": "2022-07-27T18:11:43.156137Z",
     "iopub.status.idle": "2022-07-27T18:11:43.168291Z",
     "shell.execute_reply": "2022-07-27T18:11:43.167713Z"
    },
    "papermill": {
     "duration": 0.031645,
     "end_time": "2022-07-27T18:11:43.169545",
     "exception": false,
     "start_time": "2022-07-27T18:11:43.137900",
     "status": "completed"
    },
    "tags": []
   },
   "outputs": [],
   "source": [
    "# TODO: my strategy below to handle duplicated gene names is to keep the first one\n",
    "#  it might be better to have another strategy, maybe keeping the most significant"
   ]
  },
  {
   "cell_type": "code",
   "execution_count": 96,
   "id": "11e348f5-ba33-487a-9dfe-cd493a02f320",
   "metadata": {
    "execution": {
     "iopub.execute_input": "2022-07-27T18:11:43.205533Z",
     "iopub.status.busy": "2022-07-27T18:11:43.205328Z",
     "iopub.status.idle": "2022-07-27T18:11:43.228416Z",
     "shell.execute_reply": "2022-07-27T18:11:43.227749Z"
    },
    "papermill": {
     "duration": 0.042407,
     "end_time": "2022-07-27T18:11:43.229795",
     "exception": false,
     "start_time": "2022-07-27T18:11:43.187388",
     "status": "completed"
    },
    "tags": []
   },
   "outputs": [
    {
     "data": {
      "text/plain": [
       "(22308, 5)"
      ]
     },
     "metadata": {},
     "output_type": "display_data"
    }
   ],
   "source": [
    "smultixcan_results = smultixcan_results.drop_duplicates(\n",
    "    subset=[\"gene_name\"], keep=\"first\"\n",
    ")\n",
    "display(smultixcan_results.shape)"
   ]
  },
  {
   "cell_type": "markdown",
   "id": "7dcb8db7",
   "metadata": {
    "papermill": {
     "duration": 0.01851,
     "end_time": "2022-07-27T18:11:43.269122",
     "exception": false,
     "start_time": "2022-07-27T18:11:43.250612",
     "status": "completed"
    },
    "tags": []
   },
   "source": [
    "### Get common genes with MultiPLIER"
   ]
  },
  {
   "cell_type": "code",
   "execution_count": 97,
   "id": "c820e6cf-6350-45af-b49a-0abd94f570ff",
   "metadata": {
    "execution": {
     "iopub.execute_input": "2022-07-27T18:11:43.304091Z",
     "iopub.status.busy": "2022-07-27T18:11:43.303890Z",
     "iopub.status.idle": "2022-07-27T18:11:43.321950Z",
     "shell.execute_reply": "2022-07-27T18:11:43.321358Z"
    },
    "papermill": {
     "duration": 0.037338,
     "end_time": "2022-07-27T18:11:43.323436",
     "exception": false,
     "start_time": "2022-07-27T18:11:43.286098",
     "status": "completed"
    },
    "tags": []
   },
   "outputs": [],
   "source": [
    "common_genes = set(multiplier_z_genes).intersection(\n",
    "    set(smultixcan_results[\"gene_name\"])\n",
    ")"
   ]
  },
  {
   "cell_type": "code",
   "execution_count": 98,
   "id": "0a7328f9-96c7-4ac6-a9a6-ae4fa121a4cd",
   "metadata": {
    "execution": {
     "iopub.execute_input": "2022-07-27T18:11:43.360509Z",
     "iopub.status.busy": "2022-07-27T18:11:43.360306Z",
     "iopub.status.idle": "2022-07-27T18:11:43.373592Z",
     "shell.execute_reply": "2022-07-27T18:11:43.373058Z"
    },
    "papermill": {
     "duration": 0.032254,
     "end_time": "2022-07-27T18:11:43.374797",
     "exception": false,
     "start_time": "2022-07-27T18:11:43.342543",
     "status": "completed"
    },
    "tags": []
   },
   "outputs": [
    {
     "data": {
      "text/plain": [
       "6444"
      ]
     },
     "execution_count": 98,
     "metadata": {},
     "output_type": "execute_result"
    }
   ],
   "source": [
    "len(common_genes)"
   ]
  },
  {
   "cell_type": "code",
   "execution_count": 99,
   "id": "5b08d362-44c8-4db2-9258-670e2e2a9cc0",
   "metadata": {
    "execution": {
     "iopub.execute_input": "2022-07-27T18:11:43.410177Z",
     "iopub.status.busy": "2022-07-27T18:11:43.409974Z",
     "iopub.status.idle": "2022-07-27T18:11:43.424130Z",
     "shell.execute_reply": "2022-07-27T18:11:43.423661Z"
    },
    "papermill": {
     "duration": 0.033129,
     "end_time": "2022-07-27T18:11:43.425302",
     "exception": false,
     "start_time": "2022-07-27T18:11:43.392173",
     "status": "completed"
    },
    "tags": []
   },
   "outputs": [
    {
     "data": {
      "text/plain": [
       "['A2M', 'AAAS', 'AANAT', 'AARS', 'AARS2']"
      ]
     },
     "execution_count": 99,
     "metadata": {},
     "output_type": "execute_result"
    }
   ],
   "source": [
    "sorted(list(common_genes))[:5]"
   ]
  },
  {
   "cell_type": "code",
   "execution_count": 100,
   "id": "ddc47580-bd3d-4168-bbb2-0763d227369b",
   "metadata": {
    "execution": {
     "iopub.execute_input": "2022-07-27T18:11:43.461224Z",
     "iopub.status.busy": "2022-07-27T18:11:43.460640Z",
     "iopub.status.idle": "2022-07-27T18:11:43.476998Z",
     "shell.execute_reply": "2022-07-27T18:11:43.476420Z"
    },
    "papermill": {
     "duration": 0.036056,
     "end_time": "2022-07-27T18:11:43.478472",
     "exception": false,
     "start_time": "2022-07-27T18:11:43.442416",
     "status": "completed"
    },
    "tags": []
   },
   "outputs": [],
   "source": [
    "assert smultixcan_results[smultixcan_results[\"gene_name\"].isin(common_genes)].shape[\n",
    "    0\n",
    "] == len(common_genes)"
   ]
  },
  {
   "cell_type": "markdown",
   "id": "94587312-9a1c-4c46-a131-6921a729a8cc",
   "metadata": {
    "papermill": {
     "duration": 0.018347,
     "end_time": "2022-07-27T18:11:43.517058",
     "exception": false,
     "start_time": "2022-07-27T18:11:43.498711",
     "status": "completed"
    },
    "tags": []
   },
   "source": [
    "### Save"
   ]
  },
  {
   "cell_type": "code",
   "execution_count": 101,
   "id": "1fc57e26-d415-4565-be7f-e7e1de935dbb",
   "metadata": {
    "execution": {
     "iopub.execute_input": "2022-07-27T18:11:43.552325Z",
     "iopub.status.busy": "2022-07-27T18:11:43.552136Z",
     "iopub.status.idle": "2022-07-27T18:11:43.565970Z",
     "shell.execute_reply": "2022-07-27T18:11:43.565306Z"
    },
    "papermill": {
     "duration": 0.032965,
     "end_time": "2022-07-27T18:11:43.567277",
     "exception": false,
     "start_time": "2022-07-27T18:11:43.534312",
     "status": "completed"
    },
    "tags": []
   },
   "outputs": [],
   "source": [
    "with open(OUTPUT_DIR_BASE / \"common_genes.pkl\", \"wb\") as handle:\n",
    "    pickle.dump(common_genes, handle, protocol=pickle.HIGHEST_PROTOCOL)"
   ]
  },
  {
   "cell_type": "markdown",
   "id": "19fa0a3e-2fe7-43de-9939-9e8fcd0579e3",
   "metadata": {
    "papermill": {
     "duration": 0.016938,
     "end_time": "2022-07-27T18:11:43.601684",
     "exception": false,
     "start_time": "2022-07-27T18:11:43.584746",
     "status": "completed"
    },
    "tags": []
   },
   "source": [
    "# Get gene objects"
   ]
  },
  {
   "cell_type": "code",
   "execution_count": 102,
   "id": "bb932812",
   "metadata": {
    "execution": {
     "iopub.execute_input": "2022-07-27T18:11:43.636421Z",
     "iopub.status.busy": "2022-07-27T18:11:43.635955Z",
     "iopub.status.idle": "2022-07-27T18:11:43.656600Z",
     "shell.execute_reply": "2022-07-27T18:11:43.656076Z"
    },
    "papermill": {
     "duration": 0.039621,
     "end_time": "2022-07-27T18:11:43.658027",
     "exception": false,
     "start_time": "2022-07-27T18:11:43.618406",
     "status": "completed"
    },
    "tags": []
   },
   "outputs": [],
   "source": [
    "multiplier_gene_obj = {\n",
    "    gene_name: Gene(name=gene_name)\n",
    "    for gene_name in common_genes\n",
    "    if gene_name in Gene.GENE_NAME_TO_ID_MAP\n",
    "}"
   ]
  },
  {
   "cell_type": "code",
   "execution_count": 103,
   "id": "39533214",
   "metadata": {
    "execution": {
     "iopub.execute_input": "2022-07-27T18:11:43.696157Z",
     "iopub.status.busy": "2022-07-27T18:11:43.695953Z",
     "iopub.status.idle": "2022-07-27T18:11:43.708802Z",
     "shell.execute_reply": "2022-07-27T18:11:43.708274Z"
    },
    "papermill": {
     "duration": 0.033046,
     "end_time": "2022-07-27T18:11:43.710004",
     "exception": false,
     "start_time": "2022-07-27T18:11:43.676958",
     "status": "completed"
    },
    "tags": []
   },
   "outputs": [
    {
     "data": {
      "text/plain": [
       "6444"
      ]
     },
     "execution_count": 103,
     "metadata": {},
     "output_type": "execute_result"
    }
   ],
   "source": [
    "len(multiplier_gene_obj)"
   ]
  },
  {
   "cell_type": "code",
   "execution_count": 104,
   "id": "9a5d0b84",
   "metadata": {
    "execution": {
     "iopub.execute_input": "2022-07-27T18:11:43.745964Z",
     "iopub.status.busy": "2022-07-27T18:11:43.745755Z",
     "iopub.status.idle": "2022-07-27T18:11:43.758158Z",
     "shell.execute_reply": "2022-07-27T18:11:43.757671Z"
    },
    "papermill": {
     "duration": 0.031795,
     "end_time": "2022-07-27T18:11:43.759460",
     "exception": false,
     "start_time": "2022-07-27T18:11:43.727665",
     "status": "completed"
    },
    "tags": []
   },
   "outputs": [],
   "source": [
    "assert multiplier_gene_obj[\"GAS6\"].ensembl_id == \"ENSG00000183087\""
   ]
  },
  {
   "cell_type": "code",
   "execution_count": 105,
   "id": "e3ffabc7",
   "metadata": {
    "execution": {
     "iopub.execute_input": "2022-07-27T18:11:43.797271Z",
     "iopub.status.busy": "2022-07-27T18:11:43.797066Z",
     "iopub.status.idle": "2022-07-27T18:11:46.409564Z",
     "shell.execute_reply": "2022-07-27T18:11:46.409022Z"
    },
    "papermill": {
     "duration": 2.63295,
     "end_time": "2022-07-27T18:11:46.410947",
     "exception": false,
     "start_time": "2022-07-27T18:11:43.777997",
     "status": "completed"
    },
    "tags": []
   },
   "outputs": [],
   "source": [
    "_gene_obj = list(multiplier_gene_obj.values())\n",
    "\n",
    "genes_info = pd.DataFrame(\n",
    "    {\n",
    "        \"name\": [g.name for g in _gene_obj],\n",
    "        \"id\": [g.ensembl_id for g in _gene_obj],\n",
    "        \"chr\": [g.chromosome for g in _gene_obj],\n",
    "        \"band\": [g.band for g in _gene_obj],\n",
    "        \"start_position\": [g.get_attribute(\"start_position\") for g in _gene_obj],\n",
    "        \"end_position\": [g.get_attribute(\"end_position\") for g in _gene_obj],\n",
    "    }\n",
    ")"
   ]
  },
  {
   "cell_type": "code",
   "execution_count": 106,
   "id": "00475e72-1cfc-485f-8b4e-1d9cce695f58",
   "metadata": {
    "execution": {
     "iopub.execute_input": "2022-07-27T18:11:46.447344Z",
     "iopub.status.busy": "2022-07-27T18:11:46.447137Z",
     "iopub.status.idle": "2022-07-27T18:11:46.514003Z",
     "shell.execute_reply": "2022-07-27T18:11:46.513464Z"
    },
    "papermill": {
     "duration": 0.086886,
     "end_time": "2022-07-27T18:11:46.515375",
     "exception": false,
     "start_time": "2022-07-27T18:11:46.428489",
     "status": "completed"
    },
    "tags": []
   },
   "outputs": [],
   "source": [
    "genes_info = genes_info.assign(\n",
    "    gene_length=genes_info.apply(\n",
    "        lambda x: x[\"end_position\"] - x[\"start_position\"], axis=1\n",
    "    )\n",
    ")"
   ]
  },
  {
   "cell_type": "code",
   "execution_count": 107,
   "id": "e23519b8",
   "metadata": {
    "execution": {
     "iopub.execute_input": "2022-07-27T18:11:46.551915Z",
     "iopub.status.busy": "2022-07-27T18:11:46.551711Z",
     "iopub.status.idle": "2022-07-27T18:11:46.564470Z",
     "shell.execute_reply": "2022-07-27T18:11:46.563976Z"
    },
    "papermill": {
     "duration": 0.032095,
     "end_time": "2022-07-27T18:11:46.565739",
     "exception": false,
     "start_time": "2022-07-27T18:11:46.533644",
     "status": "completed"
    },
    "tags": []
   },
   "outputs": [
    {
     "data": {
      "text/plain": [
       "(6444, 7)"
      ]
     },
     "execution_count": 107,
     "metadata": {},
     "output_type": "execute_result"
    }
   ],
   "source": [
    "genes_info.shape"
   ]
  },
  {
   "cell_type": "code",
   "execution_count": 108,
   "id": "0d71881c",
   "metadata": {
    "execution": {
     "iopub.execute_input": "2022-07-27T18:11:46.602097Z",
     "iopub.status.busy": "2022-07-27T18:11:46.601894Z",
     "iopub.status.idle": "2022-07-27T18:11:46.619610Z",
     "shell.execute_reply": "2022-07-27T18:11:46.619082Z"
    },
    "papermill": {
     "duration": 0.037411,
     "end_time": "2022-07-27T18:11:46.620781",
     "exception": false,
     "start_time": "2022-07-27T18:11:46.583370",
     "status": "completed"
    },
    "tags": []
   },
   "outputs": [
    {
     "data": {
      "text/html": [
       "<div>\n",
       "<style scoped>\n",
       "    .dataframe tbody tr th:only-of-type {\n",
       "        vertical-align: middle;\n",
       "    }\n",
       "\n",
       "    .dataframe tbody tr th {\n",
       "        vertical-align: top;\n",
       "    }\n",
       "\n",
       "    .dataframe thead th {\n",
       "        text-align: right;\n",
       "    }\n",
       "</style>\n",
       "<table border=\"1\" class=\"dataframe\">\n",
       "  <thead>\n",
       "    <tr style=\"text-align: right;\">\n",
       "      <th></th>\n",
       "      <th>name</th>\n",
       "      <th>id</th>\n",
       "      <th>chr</th>\n",
       "      <th>band</th>\n",
       "      <th>start_position</th>\n",
       "      <th>end_position</th>\n",
       "      <th>gene_length</th>\n",
       "    </tr>\n",
       "  </thead>\n",
       "  <tbody>\n",
       "    <tr>\n",
       "      <th>0</th>\n",
       "      <td>PDGFRB</td>\n",
       "      <td>ENSG00000113721</td>\n",
       "      <td>5</td>\n",
       "      <td>5q32</td>\n",
       "      <td>150113839.0</td>\n",
       "      <td>150155872.0</td>\n",
       "      <td>42033.0</td>\n",
       "    </tr>\n",
       "    <tr>\n",
       "      <th>1</th>\n",
       "      <td>ASB1</td>\n",
       "      <td>ENSG00000065802</td>\n",
       "      <td>2</td>\n",
       "      <td>2q37.3</td>\n",
       "      <td>238426742.0</td>\n",
       "      <td>238452250.0</td>\n",
       "      <td>25508.0</td>\n",
       "    </tr>\n",
       "    <tr>\n",
       "      <th>2</th>\n",
       "      <td>RPS8</td>\n",
       "      <td>ENSG00000142937</td>\n",
       "      <td>1</td>\n",
       "      <td>1p34.1</td>\n",
       "      <td>44775251.0</td>\n",
       "      <td>44778779.0</td>\n",
       "      <td>3528.0</td>\n",
       "    </tr>\n",
       "    <tr>\n",
       "      <th>3</th>\n",
       "      <td>ZNF473</td>\n",
       "      <td>ENSG00000142528</td>\n",
       "      <td>19</td>\n",
       "      <td>19q13.33</td>\n",
       "      <td>50025714.0</td>\n",
       "      <td>50053414.0</td>\n",
       "      <td>27700.0</td>\n",
       "    </tr>\n",
       "    <tr>\n",
       "      <th>4</th>\n",
       "      <td>FDPS</td>\n",
       "      <td>ENSG00000160752</td>\n",
       "      <td>1</td>\n",
       "      <td>1q22</td>\n",
       "      <td>155308748.0</td>\n",
       "      <td>155320666.0</td>\n",
       "      <td>11918.0</td>\n",
       "    </tr>\n",
       "  </tbody>\n",
       "</table>\n",
       "</div>"
      ],
      "text/plain": [
       "     name               id chr      band  start_position  end_position  \\\n",
       "0  PDGFRB  ENSG00000113721   5      5q32     150113839.0   150155872.0   \n",
       "1    ASB1  ENSG00000065802   2    2q37.3     238426742.0   238452250.0   \n",
       "2    RPS8  ENSG00000142937   1    1p34.1      44775251.0    44778779.0   \n",
       "3  ZNF473  ENSG00000142528  19  19q13.33      50025714.0    50053414.0   \n",
       "4    FDPS  ENSG00000160752   1      1q22     155308748.0   155320666.0   \n",
       "\n",
       "   gene_length  \n",
       "0      42033.0  \n",
       "1      25508.0  \n",
       "2       3528.0  \n",
       "3      27700.0  \n",
       "4      11918.0  "
      ]
     },
     "execution_count": 108,
     "metadata": {},
     "output_type": "execute_result"
    }
   ],
   "source": [
    "genes_info.head()"
   ]
  },
  {
   "cell_type": "markdown",
   "id": "f036828d-da4b-4f74-a0a2-e851a3f30a7c",
   "metadata": {
    "papermill": {
     "duration": 0.017782,
     "end_time": "2022-07-27T18:11:46.656388",
     "exception": false,
     "start_time": "2022-07-27T18:11:46.638606",
     "status": "completed"
    },
    "tags": []
   },
   "source": [
    "## Save"
   ]
  },
  {
   "cell_type": "code",
   "execution_count": 109,
   "id": "32cf6566-03bb-4a85-81e1-da46fc9f37ad",
   "metadata": {
    "execution": {
     "iopub.execute_input": "2022-07-27T18:11:46.692729Z",
     "iopub.status.busy": "2022-07-27T18:11:46.691945Z",
     "iopub.status.idle": "2022-07-27T18:11:46.707653Z",
     "shell.execute_reply": "2022-07-27T18:11:46.707128Z"
    },
    "papermill": {
     "duration": 0.035299,
     "end_time": "2022-07-27T18:11:46.708952",
     "exception": false,
     "start_time": "2022-07-27T18:11:46.673653",
     "status": "completed"
    },
    "tags": []
   },
   "outputs": [],
   "source": [
    "genes_info.to_pickle(OUTPUT_DIR_BASE / \"genes_info.pkl\")"
   ]
  },
  {
   "cell_type": "code",
   "execution_count": null,
   "id": "b25e3ead",
   "metadata": {
    "papermill": {
     "duration": 0.021485,
     "end_time": "2022-07-27T18:11:46.749602",
     "exception": false,
     "start_time": "2022-07-27T18:11:46.728117",
     "status": "completed"
    },
    "tags": []
   },
   "outputs": [],
   "source": []
  }
 ],
 "metadata": {
  "jupytext": {
   "cell_metadata_filter": "all,-execution,-papermill,-trusted",
   "formats": "ipynb,py//py:percent"
  },
  "kernelspec": {
   "display_name": "Python 3 (ipykernel)",
   "language": "python",
   "name": "python3"
  },
  "language_info": {
   "codemirror_mode": {
    "name": "ipython",
    "version": 3
   },
   "file_extension": ".py",
   "mimetype": "text/x-python",
   "name": "python",
   "nbconvert_exporter": "python",
   "pygments_lexer": "ipython3",
   "version": "3.8.13"
  },
  "papermill": {
   "default_parameters": {},
   "duration": 2334.346558,
   "end_time": "2022-07-27T18:11:49.496586",
   "environment_variables": {},
   "exception": null,
   "input_path": "nbs/15_gsa_gls/07-compile_gwas_snps_and_twas_genes.ipynb",
   "output_path": "nbs/15_gsa_gls/gene_corrs/cohorts/1000g_eur/07-compile_gwas_snps_and_twas_genes.run.ipynb",
   "parameters": {
    "COHORT_NAME": "1000G_EUR",
    "EQTL_MODEL": "MASHR",
    "GWAS_FILE": "/opt/data/results/gls/null_sims/final_imputed_gwas/random.pheno0.glm-imputed.txt.gz",
    "SMULTIXCAN_FILE": "/opt/data/results/gls/null_sims/twas/smultixcan/random.pheno0-gtex_v8-mashr-smultixcan.txt",
    "SPREDIXCAN_FILE_PATTERN": "random.pheno0-gtex_v8-mashr-{tissue}.csv",
    "SPREDIXCAN_FOLDER": "/opt/data/results/gls/null_sims/twas/spredixcan/"
   },
   "start_time": "2022-07-27T17:32:55.150028",
   "version": "2.2.2"
  }
 },
 "nbformat": 4,
 "nbformat_minor": 5
}
