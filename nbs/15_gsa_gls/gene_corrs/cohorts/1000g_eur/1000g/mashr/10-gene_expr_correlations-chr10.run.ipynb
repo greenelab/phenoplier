{
 "cells": [
  {
   "cell_type": "markdown",
   "id": "7a6632fb",
   "metadata": {
    "papermill": {
     "duration": 0.021005,
     "end_time": "2022-08-02T20:33:13.851095",
     "exception": false,
     "start_time": "2022-08-02T20:33:13.830090",
     "status": "completed"
    },
    "tags": []
   },
   "source": [
    "# Description"
   ]
  },
  {
   "cell_type": "markdown",
   "id": "7097c346",
   "metadata": {
    "papermill": {
     "duration": 0.085474,
     "end_time": "2022-08-02T20:33:13.955167",
     "exception": false,
     "start_time": "2022-08-02T20:33:13.869693",
     "status": "completed"
    },
    "tags": []
   },
   "source": [
    "(Please, take a look at the README.md file in this directory for instructions on how to run this notebook)\n",
    "\n",
    "This notebook computes predicted expression correlations between all genes in the MultiPLIER models.\n",
    "\n",
    "It also has a parameter set for papermill to run on a single chromosome to run in parallel (see under `Settings` below).\n",
    "\n",
    "This notebook is not directly run. See README.md."
   ]
  },
  {
   "cell_type": "markdown",
   "id": "c61d8427",
   "metadata": {
    "papermill": {
     "duration": 0.010541,
     "end_time": "2022-08-02T20:33:13.976921",
     "exception": false,
     "start_time": "2022-08-02T20:33:13.966380",
     "status": "completed"
    },
    "tags": []
   },
   "source": [
    "# Modules"
   ]
  },
  {
   "cell_type": "code",
   "execution_count": 1,
   "id": "bbc0234f",
   "metadata": {
    "execution": {
     "iopub.execute_input": "2022-08-02T20:33:13.999871Z",
     "iopub.status.busy": "2022-08-02T20:33:13.999525Z",
     "iopub.status.idle": "2022-08-02T20:33:14.046939Z",
     "shell.execute_reply": "2022-08-02T20:33:14.046455Z"
    },
    "papermill": {
     "duration": 0.060906,
     "end_time": "2022-08-02T20:33:14.048691",
     "exception": false,
     "start_time": "2022-08-02T20:33:13.987785",
     "status": "completed"
    },
    "tags": []
   },
   "outputs": [],
   "source": [
    "%load_ext autoreload\n",
    "%autoreload 2"
   ]
  },
  {
   "cell_type": "code",
   "execution_count": 2,
   "id": "1d5f5a59",
   "metadata": {
    "execution": {
     "iopub.execute_input": "2022-08-02T20:33:14.065666Z",
     "iopub.status.busy": "2022-08-02T20:33:14.065454Z",
     "iopub.status.idle": "2022-08-02T20:33:17.440498Z",
     "shell.execute_reply": "2022-08-02T20:33:17.439985Z"
    },
    "papermill": {
     "duration": 3.385691,
     "end_time": "2022-08-02T20:33:17.442351",
     "exception": false,
     "start_time": "2022-08-02T20:33:14.056660",
     "status": "completed"
    },
    "tags": []
   },
   "outputs": [],
   "source": [
    "from random import sample, seed\n",
    "import warnings\n",
    "from pathlib import Path\n",
    "import pickle\n",
    "import traceback\n",
    "\n",
    "import numpy as np\n",
    "from scipy.spatial.distance import squareform\n",
    "import pandas as pd\n",
    "from tqdm import tqdm\n",
    "import matplotlib.pyplot as plt\n",
    "import seaborn as sns\n",
    "\n",
    "import conf\n",
    "from entity import Gene"
   ]
  },
  {
   "cell_type": "markdown",
   "id": "1eac24b5",
   "metadata": {
    "papermill": {
     "duration": 0.007067,
     "end_time": "2022-08-02T20:33:17.457437",
     "exception": false,
     "start_time": "2022-08-02T20:33:17.450370",
     "status": "completed"
    },
    "tags": []
   },
   "source": [
    "# Settings"
   ]
  },
  {
   "cell_type": "code",
   "execution_count": 3,
   "id": "ca4560ba",
   "metadata": {
    "execution": {
     "iopub.execute_input": "2022-08-02T20:33:17.473593Z",
     "iopub.status.busy": "2022-08-02T20:33:17.473375Z",
     "iopub.status.idle": "2022-08-02T20:33:17.589547Z",
     "shell.execute_reply": "2022-08-02T20:33:17.589137Z"
    },
    "papermill": {
     "duration": 0.126012,
     "end_time": "2022-08-02T20:33:17.590941",
     "exception": false,
     "start_time": "2022-08-02T20:33:17.464929",
     "status": "completed"
    },
    "tags": [
     "parameters"
    ]
   },
   "outputs": [],
   "source": [
    "# a cohort name (it could be something like UK_BIOBANK, etc)\n",
    "COHORT_NAME = None\n",
    "\n",
    "# reference panel such as 1000G or GTEX_V8\n",
    "REFERENCE_PANEL = None\n",
    "\n",
    "# predictions models such as MASHR or ELASTIC_NET\n",
    "EQTL_MODEL = None\n",
    "\n",
    "# this is the default value used in S-MultiXcan to select the\n",
    "# top principal components of the expression correlation matrix\n",
    "SMULTIXCAN_CONDITION_NUMBER = 30\n",
    "\n",
    "# specifies a single chromosome value\n",
    "CHROMOSOME = None\n",
    "\n",
    "# If True, computes the correlation between closeby genes only;\n",
    "# otherwise, it computes correlations for all genes in a chromosome\n",
    "COMPUTE_CORRELATIONS_WITHIN_DISTANCE = False\n",
    "\n",
    "# if True, then it will continue if a gene pair correlation fails,\n",
    "# printing the warning/error for debugging. If False, any warning/error\n",
    "# will be thrown\n",
    "DEBUG_MODE = False"
   ]
  },
  {
   "cell_type": "code",
   "execution_count": 4,
   "id": "3693c062",
   "metadata": {
    "execution": {
     "iopub.execute_input": "2022-08-02T20:33:17.606772Z",
     "iopub.status.busy": "2022-08-02T20:33:17.606580Z",
     "iopub.status.idle": "2022-08-02T20:33:17.625156Z",
     "shell.execute_reply": "2022-08-02T20:33:17.624755Z"
    },
    "papermill": {
     "duration": 0.02822,
     "end_time": "2022-08-02T20:33:17.626533",
     "exception": false,
     "start_time": "2022-08-02T20:33:17.598313",
     "status": "completed"
    },
    "tags": [
     "injected-parameters"
    ]
   },
   "outputs": [],
   "source": [
    "# Parameters\n",
    "COHORT_NAME = \"1000G_EUR\"\n",
    "REFERENCE_PANEL = \"1000G\"\n",
    "EQTL_MODEL = \"MASHR\"\n",
    "CHROMOSOME = 10\n"
   ]
  },
  {
   "cell_type": "code",
   "execution_count": 5,
   "id": "3190631f-27fc-480f-b18e-571d580425a5",
   "metadata": {
    "execution": {
     "iopub.execute_input": "2022-08-02T20:33:17.644690Z",
     "iopub.status.busy": "2022-08-02T20:33:17.644493Z",
     "iopub.status.idle": "2022-08-02T20:33:17.667649Z",
     "shell.execute_reply": "2022-08-02T20:33:17.667265Z"
    },
    "papermill": {
     "duration": 0.033778,
     "end_time": "2022-08-02T20:33:17.668879",
     "exception": false,
     "start_time": "2022-08-02T20:33:17.635101",
     "status": "completed"
    },
    "tags": []
   },
   "outputs": [
    {
     "data": {
      "text/plain": [
       "'Cohort name: 1000g_eur'"
      ]
     },
     "metadata": {},
     "output_type": "display_data"
    }
   ],
   "source": [
    "assert COHORT_NAME is not None and len(COHORT_NAME) > 0, \"A cohort name must be given\"\n",
    "\n",
    "COHORT_NAME = COHORT_NAME.lower()\n",
    "display(f\"Cohort name: {COHORT_NAME}\")"
   ]
  },
  {
   "cell_type": "code",
   "execution_count": 6,
   "id": "f53ba19b-0f93-4fa2-a047-63b375939d1a",
   "metadata": {
    "execution": {
     "iopub.execute_input": "2022-08-02T20:33:17.685361Z",
     "iopub.status.busy": "2022-08-02T20:33:17.685170Z",
     "iopub.status.idle": "2022-08-02T20:33:17.706217Z",
     "shell.execute_reply": "2022-08-02T20:33:17.705828Z"
    },
    "papermill": {
     "duration": 0.03083,
     "end_time": "2022-08-02T20:33:17.707447",
     "exception": false,
     "start_time": "2022-08-02T20:33:17.676617",
     "status": "completed"
    },
    "tags": []
   },
   "outputs": [
    {
     "data": {
      "text/plain": [
       "'Reference panel: 1000G'"
      ]
     },
     "metadata": {},
     "output_type": "display_data"
    }
   ],
   "source": [
    "assert (\n",
    "    REFERENCE_PANEL is not None and len(REFERENCE_PANEL) > 0\n",
    "), \"A reference panel must be given\"\n",
    "\n",
    "display(f\"Reference panel: {REFERENCE_PANEL}\")"
   ]
  },
  {
   "cell_type": "code",
   "execution_count": 7,
   "id": "e024d130-c139-429a-9c6e-ccf149e297b0",
   "metadata": {
    "execution": {
     "iopub.execute_input": "2022-08-02T20:33:17.723727Z",
     "iopub.status.busy": "2022-08-02T20:33:17.723542Z",
     "iopub.status.idle": "2022-08-02T20:33:17.743751Z",
     "shell.execute_reply": "2022-08-02T20:33:17.743373Z"
    },
    "papermill": {
     "duration": 0.029816,
     "end_time": "2022-08-02T20:33:17.744956",
     "exception": false,
     "start_time": "2022-08-02T20:33:17.715140",
     "status": "completed"
    },
    "tags": []
   },
   "outputs": [
    {
     "data": {
      "text/plain": [
       "'eQTL model: MASHR) / mashr_'"
      ]
     },
     "metadata": {},
     "output_type": "display_data"
    }
   ],
   "source": [
    "assert (\n",
    "    EQTL_MODEL is not None and len(EQTL_MODEL) > 0\n",
    "), \"A prediction/eQTL model must be given\"\n",
    "\n",
    "EQTL_MODEL_FILES_PREFIX = conf.PHENOMEXCAN[\"PREDICTION_MODELS\"][f\"{EQTL_MODEL}_PREFIX\"]\n",
    "display(f\"eQTL model: {EQTL_MODEL}) / {EQTL_MODEL_FILES_PREFIX}\")"
   ]
  },
  {
   "cell_type": "code",
   "execution_count": 8,
   "id": "552a7f63-a18c-4d3e-bb6a-94f99b431291",
   "metadata": {
    "execution": {
     "iopub.execute_input": "2022-08-02T20:33:17.766573Z",
     "iopub.status.busy": "2022-08-02T20:33:17.766390Z",
     "iopub.status.idle": "2022-08-02T20:33:17.801666Z",
     "shell.execute_reply": "2022-08-02T20:33:17.801288Z"
    },
    "papermill": {
     "duration": 0.048167,
     "end_time": "2022-08-02T20:33:17.802877",
     "exception": false,
     "start_time": "2022-08-02T20:33:17.754710",
     "status": "completed"
    },
    "tags": []
   },
   "outputs": [
    {
     "data": {
      "text/plain": [
       "'S-MultiXcan condition number: 30'"
      ]
     },
     "metadata": {},
     "output_type": "display_data"
    }
   ],
   "source": [
    "assert (\n",
    "    SMULTIXCAN_CONDITION_NUMBER is not None and SMULTIXCAN_CONDITION_NUMBER > 0\n",
    "), \"The S-MultiXcan condition number (positive integer) must be given\"\n",
    "\n",
    "display(f\"S-MultiXcan condition number: {SMULTIXCAN_CONDITION_NUMBER}\")"
   ]
  },
  {
   "cell_type": "code",
   "execution_count": 9,
   "id": "f34a336f-548e-4afe-8955-90eaea4f42c6",
   "metadata": {
    "execution": {
     "iopub.execute_input": "2022-08-02T20:33:17.823137Z",
     "iopub.status.busy": "2022-08-02T20:33:17.822955Z",
     "iopub.status.idle": "2022-08-02T20:33:17.843842Z",
     "shell.execute_reply": "2022-08-02T20:33:17.843467Z"
    },
    "papermill": {
     "duration": 0.033269,
     "end_time": "2022-08-02T20:33:17.845046",
     "exception": false,
     "start_time": "2022-08-02T20:33:17.811777",
     "status": "completed"
    },
    "tags": []
   },
   "outputs": [
    {
     "data": {
      "text/plain": [
       "'Working on chromosome 10'"
      ]
     },
     "metadata": {},
     "output_type": "display_data"
    }
   ],
   "source": [
    "assert CHROMOSOME is not None and (\n",
    "    1 <= CHROMOSOME <= 22\n",
    "), \"You have to select one chromosome (format: number between 1 and 22)\"\n",
    "\n",
    "CHROMOSOME = str(CHROMOSOME)\n",
    "display(f\"Working on chromosome {CHROMOSOME}\")"
   ]
  },
  {
   "cell_type": "code",
   "execution_count": 10,
   "id": "ab8e96e8-06b5-4363-9dcd-dc4d78cc27f7",
   "metadata": {
    "execution": {
     "iopub.execute_input": "2022-08-02T20:33:17.862892Z",
     "iopub.status.busy": "2022-08-02T20:33:17.862710Z",
     "iopub.status.idle": "2022-08-02T20:33:17.881236Z",
     "shell.execute_reply": "2022-08-02T20:33:17.880851Z"
    },
    "papermill": {
     "duration": 0.028933,
     "end_time": "2022-08-02T20:33:17.882430",
     "exception": false,
     "start_time": "2022-08-02T20:33:17.853497",
     "status": "completed"
    },
    "tags": []
   },
   "outputs": [
    {
     "data": {
      "text/plain": [
       "'Compute correlation within distance False'"
      ]
     },
     "metadata": {},
     "output_type": "display_data"
    }
   ],
   "source": [
    "display(f\"Compute correlation within distance {COMPUTE_CORRELATIONS_WITHIN_DISTANCE}\")"
   ]
  },
  {
   "cell_type": "code",
   "execution_count": 11,
   "id": "396392dc-0340-4540-9b02-e182b833f909",
   "metadata": {
    "execution": {
     "iopub.execute_input": "2022-08-02T20:33:17.907123Z",
     "iopub.status.busy": "2022-08-02T20:33:17.906934Z",
     "iopub.status.idle": "2022-08-02T20:33:17.934479Z",
     "shell.execute_reply": "2022-08-02T20:33:17.934102Z"
    },
    "papermill": {
     "duration": 0.041915,
     "end_time": "2022-08-02T20:33:17.935670",
     "exception": false,
     "start_time": "2022-08-02T20:33:17.893755",
     "status": "completed"
    },
    "tags": []
   },
   "outputs": [
    {
     "data": {
      "text/plain": [
       "'Using output dir base: /project/ritchie20/projects/phenoplier/base/results/gls/gene_corrs/cohorts/1000g_eur/1000g/mashr'"
      ]
     },
     "metadata": {},
     "output_type": "display_data"
    }
   ],
   "source": [
    "OUTPUT_DIR_BASE = (\n",
    "    conf.RESULTS[\"GLS\"]\n",
    "    / \"gene_corrs\"\n",
    "    / \"cohorts\"\n",
    "    / COHORT_NAME\n",
    "    / REFERENCE_PANEL.lower()\n",
    "    / EQTL_MODEL.lower()\n",
    ")\n",
    "OUTPUT_DIR_BASE.mkdir(parents=True, exist_ok=True)\n",
    "\n",
    "display(f\"Using output dir base: {OUTPUT_DIR_BASE}\")"
   ]
  },
  {
   "cell_type": "markdown",
   "id": "d2ba085e",
   "metadata": {
    "papermill": {
     "duration": 0.016319,
     "end_time": "2022-08-02T20:33:17.965072",
     "exception": false,
     "start_time": "2022-08-02T20:33:17.948753",
     "status": "completed"
    },
    "tags": []
   },
   "source": [
    "# Load data"
   ]
  },
  {
   "cell_type": "markdown",
   "id": "7dcb8db7",
   "metadata": {
    "papermill": {
     "duration": 0.020239,
     "end_time": "2022-08-02T20:33:18.000329",
     "exception": false,
     "start_time": "2022-08-02T20:33:17.980090",
     "status": "completed"
    },
    "tags": []
   },
   "source": [
    "## GWAS variants"
   ]
  },
  {
   "cell_type": "code",
   "execution_count": 12,
   "id": "29434c4e-8cd3-4b9b-82e4-b5a251d9dd19",
   "metadata": {
    "execution": {
     "iopub.execute_input": "2022-08-02T20:33:18.037348Z",
     "iopub.status.busy": "2022-08-02T20:33:18.037110Z",
     "iopub.status.idle": "2022-08-02T20:33:20.865098Z",
     "shell.execute_reply": "2022-08-02T20:33:20.864312Z"
    },
    "papermill": {
     "duration": 2.84561,
     "end_time": "2022-08-02T20:33:20.867053",
     "exception": false,
     "start_time": "2022-08-02T20:33:18.021443",
     "status": "completed"
    },
    "tags": []
   },
   "outputs": [],
   "source": [
    "with open(OUTPUT_DIR_BASE / \"gwas_variant_ids.pkl\", \"rb\") as handle:\n",
    "    gwas_variants_ids_set = pickle.load(handle)"
   ]
  },
  {
   "cell_type": "code",
   "execution_count": 13,
   "id": "b9d9dec2-4a76-4bf9-bde2-e24c95acb8a0",
   "metadata": {
    "execution": {
     "iopub.execute_input": "2022-08-02T20:33:20.913008Z",
     "iopub.status.busy": "2022-08-02T20:33:20.912781Z",
     "iopub.status.idle": "2022-08-02T20:33:21.653003Z",
     "shell.execute_reply": "2022-08-02T20:33:21.652565Z"
    },
    "papermill": {
     "duration": 0.770463,
     "end_time": "2022-08-02T20:33:21.654412",
     "exception": false,
     "start_time": "2022-08-02T20:33:20.883949",
     "status": "completed"
    },
    "tags": []
   },
   "outputs": [
    {
     "data": {
      "text/plain": [
       "8325729"
      ]
     },
     "execution_count": 13,
     "metadata": {},
     "output_type": "execute_result"
    }
   ],
   "source": [
    "len(gwas_variants_ids_set)"
   ]
  },
  {
   "cell_type": "code",
   "execution_count": 14,
   "id": "4235b06a-6034-4ee4-a0a3-2ae35d122418",
   "metadata": {
    "execution": {
     "iopub.execute_input": "2022-08-02T20:33:21.673095Z",
     "iopub.status.busy": "2022-08-02T20:33:21.672872Z",
     "iopub.status.idle": "2022-08-02T20:33:22.169653Z",
     "shell.execute_reply": "2022-08-02T20:33:22.169206Z"
    },
    "papermill": {
     "duration": 0.507538,
     "end_time": "2022-08-02T20:33:22.171042",
     "exception": false,
     "start_time": "2022-08-02T20:33:21.663504",
     "status": "completed"
    },
    "tags": []
   },
   "outputs": [
    {
     "data": {
      "text/plain": [
       "['chr4_140539610_G_T_b38',\n",
       " 'chr1_28444862_C_T_b38',\n",
       " 'chr10_6734485_C_T_b38',\n",
       " 'chr15_57948824_C_T_b38',\n",
       " 'chr1_95111166_T_C_b38']"
      ]
     },
     "execution_count": 14,
     "metadata": {},
     "output_type": "execute_result"
    }
   ],
   "source": [
    "list(gwas_variants_ids_set)[:5]"
   ]
  },
  {
   "cell_type": "markdown",
   "id": "07866999-2305-41f9-a144-e69c9122c212",
   "metadata": {
    "papermill": {
     "duration": 0.008669,
     "end_time": "2022-08-02T20:33:22.188930",
     "exception": false,
     "start_time": "2022-08-02T20:33:22.180261",
     "status": "completed"
    },
    "tags": []
   },
   "source": [
    "## S-PrediXcan tissue models"
   ]
  },
  {
   "cell_type": "code",
   "execution_count": 15,
   "id": "780611d9-77c8-405f-90a4-f271f7b09397",
   "metadata": {
    "execution": {
     "iopub.execute_input": "2022-08-02T20:33:22.206223Z",
     "iopub.status.busy": "2022-08-02T20:33:22.206016Z",
     "iopub.status.idle": "2022-08-02T20:33:23.213350Z",
     "shell.execute_reply": "2022-08-02T20:33:23.212849Z"
    },
    "papermill": {
     "duration": 1.018006,
     "end_time": "2022-08-02T20:33:23.215104",
     "exception": false,
     "start_time": "2022-08-02T20:33:22.197098",
     "status": "completed"
    },
    "tags": []
   },
   "outputs": [],
   "source": [
    "spredixcan_genes_models = pd.read_pickle(OUTPUT_DIR_BASE / \"gene_tissues.pkl\")"
   ]
  },
  {
   "cell_type": "code",
   "execution_count": 16,
   "id": "726dd1f6-9557-4225-91fa-b3b879ea96e1",
   "metadata": {
    "execution": {
     "iopub.execute_input": "2022-08-02T20:33:23.281477Z",
     "iopub.status.busy": "2022-08-02T20:33:23.281081Z",
     "iopub.status.idle": "2022-08-02T20:33:23.324721Z",
     "shell.execute_reply": "2022-08-02T20:33:23.324052Z"
    },
    "papermill": {
     "duration": 0.087076,
     "end_time": "2022-08-02T20:33:23.326815",
     "exception": false,
     "start_time": "2022-08-02T20:33:23.239739",
     "status": "completed"
    },
    "tags": []
   },
   "outputs": [
    {
     "data": {
      "text/plain": [
       "(6444, 10)"
      ]
     },
     "execution_count": 16,
     "metadata": {},
     "output_type": "execute_result"
    }
   ],
   "source": [
    "spredixcan_genes_models.shape"
   ]
  },
  {
   "cell_type": "code",
   "execution_count": 17,
   "id": "944a1b48-222c-4eb0-b252-b9de2cbca215",
   "metadata": {
    "execution": {
     "iopub.execute_input": "2022-08-02T20:33:23.382895Z",
     "iopub.status.busy": "2022-08-02T20:33:23.382641Z",
     "iopub.status.idle": "2022-08-02T20:33:23.430039Z",
     "shell.execute_reply": "2022-08-02T20:33:23.429556Z"
    },
    "papermill": {
     "duration": 0.080312,
     "end_time": "2022-08-02T20:33:23.431498",
     "exception": false,
     "start_time": "2022-08-02T20:33:23.351186",
     "status": "completed"
    },
    "tags": []
   },
   "outputs": [
    {
     "data": {
      "text/html": [
       "<div>\n",
       "<style scoped>\n",
       "    .dataframe tbody tr th:only-of-type {\n",
       "        vertical-align: middle;\n",
       "    }\n",
       "\n",
       "    .dataframe tbody tr th {\n",
       "        vertical-align: top;\n",
       "    }\n",
       "\n",
       "    .dataframe thead th {\n",
       "        text-align: right;\n",
       "    }\n",
       "</style>\n",
       "<table border=\"1\" class=\"dataframe\">\n",
       "  <thead>\n",
       "    <tr style=\"text-align: right;\">\n",
       "      <th></th>\n",
       "      <th>gene_name</th>\n",
       "      <th>tissue</th>\n",
       "      <th>n_tissues</th>\n",
       "      <th>tissues_pc_variances</th>\n",
       "      <th>tissues_pc_variances_cov</th>\n",
       "      <th>tissues_variances</th>\n",
       "      <th>n_snps_used_sum</th>\n",
       "      <th>n_snps_in_model_sum</th>\n",
       "      <th>unique_n_snps_in_model</th>\n",
       "      <th>unique_n_snps_used</th>\n",
       "    </tr>\n",
       "    <tr>\n",
       "      <th>gene_id</th>\n",
       "      <th></th>\n",
       "      <th></th>\n",
       "      <th></th>\n",
       "      <th></th>\n",
       "      <th></th>\n",
       "      <th></th>\n",
       "      <th></th>\n",
       "      <th></th>\n",
       "      <th></th>\n",
       "      <th></th>\n",
       "    </tr>\n",
       "  </thead>\n",
       "  <tbody>\n",
       "    <tr>\n",
       "      <th>ENSG00000000419</th>\n",
       "      <td>DPM1</td>\n",
       "      <td>(Brain_Substantia_nigra, Brain_Hypothalamus)</td>\n",
       "      <td>2</td>\n",
       "      <td>[1.0372585612589562, 0.9627414387410438]</td>\n",
       "      <td>[0.008284978865240098, 0.000732674839341259]</td>\n",
       "      <td>{'Brain_Substantia_nigra': 0.00073379232755585...</td>\n",
       "      <td>2</td>\n",
       "      <td>2</td>\n",
       "      <td>2</td>\n",
       "      <td>2</td>\n",
       "    </tr>\n",
       "    <tr>\n",
       "      <th>ENSG00000000938</th>\n",
       "      <td>FGR</td>\n",
       "      <td>(Colon_Sigmoid, Artery_Aorta, Brain_Caudate_ba...</td>\n",
       "      <td>36</td>\n",
       "      <td>[30.57880701512375, 2.029732645600111, 1.40179...</td>\n",
       "      <td>[0.22478471249969334, 0.00881387381303179]</td>\n",
       "      <td>{'Brain_Cerebellum': 0.020204550992367513, 'Ne...</td>\n",
       "      <td>40</td>\n",
       "      <td>40</td>\n",
       "      <td>5</td>\n",
       "      <td>5</td>\n",
       "    </tr>\n",
       "    <tr>\n",
       "      <th>ENSG00000000971</th>\n",
       "      <td>CFH</td>\n",
       "      <td>(Cells_Cultured_fibroblasts, Colon_Sigmoid, Ar...</td>\n",
       "      <td>34</td>\n",
       "      <td>[20.77260827663932, 8.17715814232484, 1.864649...</td>\n",
       "      <td>[0.19699534279580108, 0.05731825316349161, 0.0...</td>\n",
       "      <td>{'Brain_Cerebellum': 0.0042432870992385, 'Nerv...</td>\n",
       "      <td>44</td>\n",
       "      <td>44</td>\n",
       "      <td>12</td>\n",
       "      <td>12</td>\n",
       "    </tr>\n",
       "    <tr>\n",
       "      <th>ENSG00000001084</th>\n",
       "      <td>GCLC</td>\n",
       "      <td>(Cells_Cultured_fibroblasts, Adrenal_Gland, Ar...</td>\n",
       "      <td>32</td>\n",
       "      <td>[20.976449940269084, 4.772354749306766, 2.2362...</td>\n",
       "      <td>[0.36578096389253945, 0.12645413710424552, 0.0...</td>\n",
       "      <td>{'Brain_Cerebellum': 0.03163805534230767, 'Ner...</td>\n",
       "      <td>46</td>\n",
       "      <td>46</td>\n",
       "      <td>23</td>\n",
       "      <td>23</td>\n",
       "    </tr>\n",
       "    <tr>\n",
       "      <th>ENSG00000001167</th>\n",
       "      <td>NFYA</td>\n",
       "      <td>(Vagina, Cells_Cultured_fibroblasts, Colon_Sig...</td>\n",
       "      <td>40</td>\n",
       "      <td>[37.638369782404986]</td>\n",
       "      <td>[1.4787144508923995, 0.049690618387739104]</td>\n",
       "      <td>{'Brain_Cerebellum': 0.1311467889326876, 'Nerv...</td>\n",
       "      <td>47</td>\n",
       "      <td>48</td>\n",
       "      <td>14</td>\n",
       "      <td>13</td>\n",
       "    </tr>\n",
       "  </tbody>\n",
       "</table>\n",
       "</div>"
      ],
      "text/plain": [
       "                gene_name                                             tissue  \\\n",
       "gene_id                                                                        \n",
       "ENSG00000000419      DPM1       (Brain_Substantia_nigra, Brain_Hypothalamus)   \n",
       "ENSG00000000938       FGR  (Colon_Sigmoid, Artery_Aorta, Brain_Caudate_ba...   \n",
       "ENSG00000000971       CFH  (Cells_Cultured_fibroblasts, Colon_Sigmoid, Ar...   \n",
       "ENSG00000001084      GCLC  (Cells_Cultured_fibroblasts, Adrenal_Gland, Ar...   \n",
       "ENSG00000001167      NFYA  (Vagina, Cells_Cultured_fibroblasts, Colon_Sig...   \n",
       "\n",
       "                 n_tissues                               tissues_pc_variances  \\\n",
       "gene_id                                                                         \n",
       "ENSG00000000419          2           [1.0372585612589562, 0.9627414387410438]   \n",
       "ENSG00000000938         36  [30.57880701512375, 2.029732645600111, 1.40179...   \n",
       "ENSG00000000971         34  [20.77260827663932, 8.17715814232484, 1.864649...   \n",
       "ENSG00000001084         32  [20.976449940269084, 4.772354749306766, 2.2362...   \n",
       "ENSG00000001167         40                               [37.638369782404986]   \n",
       "\n",
       "                                          tissues_pc_variances_cov  \\\n",
       "gene_id                                                              \n",
       "ENSG00000000419       [0.008284978865240098, 0.000732674839341259]   \n",
       "ENSG00000000938         [0.22478471249969334, 0.00881387381303179]   \n",
       "ENSG00000000971  [0.19699534279580108, 0.05731825316349161, 0.0...   \n",
       "ENSG00000001084  [0.36578096389253945, 0.12645413710424552, 0.0...   \n",
       "ENSG00000001167         [1.4787144508923995, 0.049690618387739104]   \n",
       "\n",
       "                                                 tissues_variances  \\\n",
       "gene_id                                                              \n",
       "ENSG00000000419  {'Brain_Substantia_nigra': 0.00073379232755585...   \n",
       "ENSG00000000938  {'Brain_Cerebellum': 0.020204550992367513, 'Ne...   \n",
       "ENSG00000000971  {'Brain_Cerebellum': 0.0042432870992385, 'Nerv...   \n",
       "ENSG00000001084  {'Brain_Cerebellum': 0.03163805534230767, 'Ner...   \n",
       "ENSG00000001167  {'Brain_Cerebellum': 0.1311467889326876, 'Nerv...   \n",
       "\n",
       "                 n_snps_used_sum  n_snps_in_model_sum  unique_n_snps_in_model  \\\n",
       "gene_id                                                                         \n",
       "ENSG00000000419                2                    2                       2   \n",
       "ENSG00000000938               40                   40                       5   \n",
       "ENSG00000000971               44                   44                      12   \n",
       "ENSG00000001084               46                   46                      23   \n",
       "ENSG00000001167               47                   48                      14   \n",
       "\n",
       "                 unique_n_snps_used  \n",
       "gene_id                              \n",
       "ENSG00000000419                   2  \n",
       "ENSG00000000938                   5  \n",
       "ENSG00000000971                  12  \n",
       "ENSG00000001084                  23  \n",
       "ENSG00000001167                  13  "
      ]
     },
     "execution_count": 17,
     "metadata": {},
     "output_type": "execute_result"
    }
   ],
   "source": [
    "spredixcan_genes_models.head()"
   ]
  },
  {
   "cell_type": "code",
   "execution_count": 18,
   "id": "d1c11bb1-be0b-4f40-b360-633d6827109f",
   "metadata": {
    "execution": {
     "iopub.execute_input": "2022-08-02T20:33:23.463766Z",
     "iopub.status.busy": "2022-08-02T20:33:23.463558Z",
     "iopub.status.idle": "2022-08-02T20:33:23.526842Z",
     "shell.execute_reply": "2022-08-02T20:33:23.526425Z"
    },
    "papermill": {
     "duration": 0.081866,
     "end_time": "2022-08-02T20:33:23.528300",
     "exception": false,
     "start_time": "2022-08-02T20:33:23.446434",
     "status": "completed"
    },
    "tags": []
   },
   "outputs": [],
   "source": [
    "assert spredixcan_genes_models.index.is_unique"
   ]
  },
  {
   "cell_type": "markdown",
   "id": "a5b5092c-a13e-47c4-a92a-480fcc08f3ae",
   "metadata": {
    "papermill": {
     "duration": 0.012132,
     "end_time": "2022-08-02T20:33:23.561603",
     "exception": false,
     "start_time": "2022-08-02T20:33:23.549471",
     "status": "completed"
    },
    "tags": []
   },
   "source": [
    "## Gene info"
   ]
  },
  {
   "cell_type": "code",
   "execution_count": 19,
   "id": "7d6bb224-88e9-4358-ac10-43a41d92cdad",
   "metadata": {
    "execution": {
     "iopub.execute_input": "2022-08-02T20:33:23.600870Z",
     "iopub.status.busy": "2022-08-02T20:33:23.600665Z",
     "iopub.status.idle": "2022-08-02T20:33:23.992651Z",
     "shell.execute_reply": "2022-08-02T20:33:23.992175Z"
    },
    "papermill": {
     "duration": 0.419063,
     "end_time": "2022-08-02T20:33:23.994475",
     "exception": false,
     "start_time": "2022-08-02T20:33:23.575412",
     "status": "completed"
    },
    "tags": []
   },
   "outputs": [],
   "source": [
    "genes_info = pd.read_pickle(OUTPUT_DIR_BASE / \"genes_info.pkl\")"
   ]
  },
  {
   "cell_type": "code",
   "execution_count": 20,
   "id": "9e32abfa-546d-483e-8c18-d526e9e05903",
   "metadata": {
    "execution": {
     "iopub.execute_input": "2022-08-02T20:33:24.015490Z",
     "iopub.status.busy": "2022-08-02T20:33:24.015271Z",
     "iopub.status.idle": "2022-08-02T20:33:24.035581Z",
     "shell.execute_reply": "2022-08-02T20:33:24.035173Z"
    },
    "papermill": {
     "duration": 0.032497,
     "end_time": "2022-08-02T20:33:24.036869",
     "exception": false,
     "start_time": "2022-08-02T20:33:24.004372",
     "status": "completed"
    },
    "tags": []
   },
   "outputs": [
    {
     "data": {
      "text/plain": [
       "(6444, 7)"
      ]
     },
     "execution_count": 20,
     "metadata": {},
     "output_type": "execute_result"
    }
   ],
   "source": [
    "genes_info.shape"
   ]
  },
  {
   "cell_type": "code",
   "execution_count": 21,
   "id": "d16c3e92-85ec-468a-9a56-e25a9774a1cb",
   "metadata": {
    "execution": {
     "iopub.execute_input": "2022-08-02T20:33:24.057157Z",
     "iopub.status.busy": "2022-08-02T20:33:24.056954Z",
     "iopub.status.idle": "2022-08-02T20:33:24.083787Z",
     "shell.execute_reply": "2022-08-02T20:33:24.083393Z"
    },
    "papermill": {
     "duration": 0.038442,
     "end_time": "2022-08-02T20:33:24.085037",
     "exception": false,
     "start_time": "2022-08-02T20:33:24.046595",
     "status": "completed"
    },
    "tags": []
   },
   "outputs": [
    {
     "data": {
      "text/html": [
       "<div>\n",
       "<style scoped>\n",
       "    .dataframe tbody tr th:only-of-type {\n",
       "        vertical-align: middle;\n",
       "    }\n",
       "\n",
       "    .dataframe tbody tr th {\n",
       "        vertical-align: top;\n",
       "    }\n",
       "\n",
       "    .dataframe thead th {\n",
       "        text-align: right;\n",
       "    }\n",
       "</style>\n",
       "<table border=\"1\" class=\"dataframe\">\n",
       "  <thead>\n",
       "    <tr style=\"text-align: right;\">\n",
       "      <th></th>\n",
       "      <th>name</th>\n",
       "      <th>id</th>\n",
       "      <th>chr</th>\n",
       "      <th>band</th>\n",
       "      <th>start_position</th>\n",
       "      <th>end_position</th>\n",
       "      <th>gene_length</th>\n",
       "    </tr>\n",
       "  </thead>\n",
       "  <tbody>\n",
       "    <tr>\n",
       "      <th>0</th>\n",
       "      <td>CDC14B</td>\n",
       "      <td>ENSG00000081377</td>\n",
       "      <td>9</td>\n",
       "      <td>9q22.33</td>\n",
       "      <td>96490241.0</td>\n",
       "      <td>96619830.0</td>\n",
       "      <td>129589.0</td>\n",
       "    </tr>\n",
       "    <tr>\n",
       "      <th>1</th>\n",
       "      <td>DOCK3</td>\n",
       "      <td>ENSG00000088538</td>\n",
       "      <td>3</td>\n",
       "      <td>3p21.2</td>\n",
       "      <td>50674927.0</td>\n",
       "      <td>51384198.0</td>\n",
       "      <td>709271.0</td>\n",
       "    </tr>\n",
       "    <tr>\n",
       "      <th>2</th>\n",
       "      <td>SLCO4C1</td>\n",
       "      <td>ENSG00000173930</td>\n",
       "      <td>5</td>\n",
       "      <td>5q21.1</td>\n",
       "      <td>102233986.0</td>\n",
       "      <td>102296284.0</td>\n",
       "      <td>62298.0</td>\n",
       "    </tr>\n",
       "    <tr>\n",
       "      <th>3</th>\n",
       "      <td>UST</td>\n",
       "      <td>ENSG00000111962</td>\n",
       "      <td>6</td>\n",
       "      <td>6q25.1</td>\n",
       "      <td>148747030.0</td>\n",
       "      <td>149076990.0</td>\n",
       "      <td>329960.0</td>\n",
       "    </tr>\n",
       "    <tr>\n",
       "      <th>4</th>\n",
       "      <td>CFH</td>\n",
       "      <td>ENSG00000000971</td>\n",
       "      <td>1</td>\n",
       "      <td>1q31.3</td>\n",
       "      <td>196651878.0</td>\n",
       "      <td>196747504.0</td>\n",
       "      <td>95626.0</td>\n",
       "    </tr>\n",
       "  </tbody>\n",
       "</table>\n",
       "</div>"
      ],
      "text/plain": [
       "      name               id chr     band  start_position  end_position  \\\n",
       "0   CDC14B  ENSG00000081377   9  9q22.33      96490241.0    96619830.0   \n",
       "1    DOCK3  ENSG00000088538   3   3p21.2      50674927.0    51384198.0   \n",
       "2  SLCO4C1  ENSG00000173930   5   5q21.1     102233986.0   102296284.0   \n",
       "3      UST  ENSG00000111962   6   6q25.1     148747030.0   149076990.0   \n",
       "4      CFH  ENSG00000000971   1   1q31.3     196651878.0   196747504.0   \n",
       "\n",
       "   gene_length  \n",
       "0     129589.0  \n",
       "1     709271.0  \n",
       "2      62298.0  \n",
       "3     329960.0  \n",
       "4      95626.0  "
      ]
     },
     "execution_count": 21,
     "metadata": {},
     "output_type": "execute_result"
    }
   ],
   "source": [
    "genes_info.head()"
   ]
  },
  {
   "cell_type": "markdown",
   "id": "d3843e06",
   "metadata": {
    "papermill": {
     "duration": 0.009141,
     "end_time": "2022-08-02T20:33:24.106057",
     "exception": false,
     "start_time": "2022-08-02T20:33:24.096916",
     "status": "completed"
    },
    "tags": []
   },
   "source": [
    "# Compute correlations"
   ]
  },
  {
   "cell_type": "code",
   "execution_count": 22,
   "id": "cb859c15-d1f3-4006-a74c-2b83c0db9611",
   "metadata": {
    "execution": {
     "iopub.execute_input": "2022-08-02T20:33:24.127229Z",
     "iopub.status.busy": "2022-08-02T20:33:24.127048Z",
     "iopub.status.idle": "2022-08-02T20:33:24.157036Z",
     "shell.execute_reply": "2022-08-02T20:33:24.156649Z"
    },
    "papermill": {
     "duration": 0.042107,
     "end_time": "2022-08-02T20:33:24.158309",
     "exception": false,
     "start_time": "2022-08-02T20:33:24.116202",
     "status": "completed"
    },
    "tags": []
   },
   "outputs": [
    {
     "data": {
      "text/plain": [
       "PosixPath('/project/ritchie20/projects/phenoplier/base/results/gls/gene_corrs/cohorts/1000g_eur/1000g/mashr/by_chr/gene_corrs-chr10.pkl')"
      ]
     },
     "metadata": {},
     "output_type": "display_data"
    }
   ],
   "source": [
    "output_dir = OUTPUT_DIR_BASE / \"by_chr\"\n",
    "output_dir.mkdir(exist_ok=True, parents=True)\n",
    "output_file = output_dir / f\"gene_corrs-chr{CHROMOSOME}.pkl\"\n",
    "display(output_file)"
   ]
  },
  {
   "cell_type": "code",
   "execution_count": 23,
   "id": "aa674fe4-6794-4eed-98fa-32b39d1d4ace",
   "metadata": {
    "execution": {
     "iopub.execute_input": "2022-08-02T20:33:24.180495Z",
     "iopub.status.busy": "2022-08-02T20:33:24.180316Z",
     "iopub.status.idle": "2022-08-02T20:33:24.197834Z",
     "shell.execute_reply": "2022-08-02T20:33:24.197460Z"
    },
    "papermill": {
     "duration": 0.02984,
     "end_time": "2022-08-02T20:33:24.199161",
     "exception": false,
     "start_time": "2022-08-02T20:33:24.169321",
     "status": "completed"
    },
    "tags": []
   },
   "outputs": [],
   "source": [
    "warnings.filterwarnings(\"error\")"
   ]
  },
  {
   "cell_type": "code",
   "execution_count": 24,
   "id": "44d5450b-3baf-43f1-9e2e-4b06f1a785f8",
   "metadata": {
    "execution": {
     "iopub.execute_input": "2022-08-02T20:33:24.220530Z",
     "iopub.status.busy": "2022-08-02T20:33:24.220350Z",
     "iopub.status.idle": "2022-08-02T20:33:24.239157Z",
     "shell.execute_reply": "2022-08-02T20:33:24.238776Z"
    },
    "papermill": {
     "duration": 0.030712,
     "end_time": "2022-08-02T20:33:24.240483",
     "exception": false,
     "start_time": "2022-08-02T20:33:24.209771",
     "status": "completed"
    },
    "tags": []
   },
   "outputs": [],
   "source": [
    "# standard checks\n",
    "all_chrs = genes_info[\"chr\"].dropna().unique()\n",
    "assert all_chrs.shape[0] == 22\n",
    "\n",
    "# select chromosome given by the user\n",
    "assert CHROMOSOME in all_chrs"
   ]
  },
  {
   "cell_type": "code",
   "execution_count": 25,
   "id": "2d7c043c-92a7-4d35-991b-fa69ac1e0268",
   "metadata": {
    "execution": {
     "iopub.execute_input": "2022-08-02T20:33:24.262680Z",
     "iopub.status.busy": "2022-08-02T20:33:24.262498Z",
     "iopub.status.idle": "2022-08-02T20:33:24.282904Z",
     "shell.execute_reply": "2022-08-02T20:33:24.282519Z"
    },
    "papermill": {
     "duration": 0.033124,
     "end_time": "2022-08-02T20:33:24.284135",
     "exception": false,
     "start_time": "2022-08-02T20:33:24.251011",
     "status": "completed"
    },
    "tags": []
   },
   "outputs": [
    {
     "name": "stdout",
     "output_type": "stream",
     "text": [
      "Number of genes in chromosome: 245\n"
     ]
    }
   ],
   "source": [
    "# run only on the chromosome specified\n",
    "all_chrs = [CHROMOSOME]\n",
    "genes_chr = genes_info[genes_info[\"chr\"] == CHROMOSOME]\n",
    "\n",
    "# For testing purposes\n",
    "# genes_chr = genes_chr.sample(n=20)\n",
    "\n",
    "print(f\"Number of genes in chromosome: {genes_chr.shape[0]}\", flush=True)"
   ]
  },
  {
   "cell_type": "code",
   "execution_count": 26,
   "id": "916015d8-2979-46d3-a9b9-1cf5a0932c6a",
   "metadata": {
    "execution": {
     "iopub.execute_input": "2022-08-02T20:33:24.306145Z",
     "iopub.status.busy": "2022-08-02T20:33:24.305951Z",
     "iopub.status.idle": "2022-08-02T20:33:24.323953Z",
     "shell.execute_reply": "2022-08-02T20:33:24.323565Z"
    },
    "papermill": {
     "duration": 0.030869,
     "end_time": "2022-08-02T20:33:24.325307",
     "exception": false,
     "start_time": "2022-08-02T20:33:24.294438",
     "status": "completed"
    },
    "tags": []
   },
   "outputs": [],
   "source": [
    "# sort genes by starting position to make visualizations better later\n",
    "genes_chr = genes_chr.sort_values(\"start_position\")"
   ]
  },
  {
   "cell_type": "code",
   "execution_count": 27,
   "id": "a38aa74a-8ad3-47f6-8ef9-56be0e011774",
   "metadata": {
    "execution": {
     "iopub.execute_input": "2022-08-02T20:33:24.349038Z",
     "iopub.status.busy": "2022-08-02T20:33:24.348838Z",
     "iopub.status.idle": "2022-08-02T20:33:24.367419Z",
     "shell.execute_reply": "2022-08-02T20:33:24.367024Z"
    },
    "papermill": {
     "duration": 0.03337,
     "end_time": "2022-08-02T20:33:24.368781",
     "exception": false,
     "start_time": "2022-08-02T20:33:24.335411",
     "status": "completed"
    },
    "tags": []
   },
   "outputs": [],
   "source": [
    "gene_chr_objs = [Gene(ensembl_id=gene_id) for gene_id in genes_chr[\"id\"]]"
   ]
  },
  {
   "cell_type": "code",
   "execution_count": 28,
   "id": "570f974f-13c3-42b6-ad3a-ce99ca885c1a",
   "metadata": {
    "execution": {
     "iopub.execute_input": "2022-08-02T20:33:24.391777Z",
     "iopub.status.busy": "2022-08-02T20:33:24.391596Z",
     "iopub.status.idle": "2022-08-02T20:33:24.410747Z",
     "shell.execute_reply": "2022-08-02T20:33:24.410355Z"
    },
    "papermill": {
     "duration": 0.033047,
     "end_time": "2022-08-02T20:33:24.411961",
     "exception": false,
     "start_time": "2022-08-02T20:33:24.378914",
     "status": "completed"
    },
    "tags": []
   },
   "outputs": [
    {
     "name": "stdout",
     "output_type": "stream",
     "text": [
      "Number of gene combinations: 29890\n"
     ]
    }
   ],
   "source": [
    "n = len(gene_chr_objs)\n",
    "n_comb = int(n * (n - 1) / 2.0)\n",
    "print(f\"Number of gene combinations: {n_comb}\", flush=True)"
   ]
  },
  {
   "cell_type": "code",
   "execution_count": 29,
   "id": "cdbb90a1",
   "metadata": {
    "execution": {
     "iopub.execute_input": "2022-08-02T20:33:24.435190Z",
     "iopub.status.busy": "2022-08-02T20:33:24.434978Z",
     "iopub.status.idle": "2022-08-02T21:05:58.241852Z",
     "shell.execute_reply": "2022-08-02T21:05:58.240410Z"
    },
    "papermill": {
     "duration": 1953.82266,
     "end_time": "2022-08-02T21:05:58.245530",
     "exception": false,
     "start_time": "2022-08-02T20:33:24.422870",
     "status": "completed"
    },
    "tags": []
   },
   "outputs": [
    {
     "name": "stderr",
     "output_type": "stream",
     "text": [
      "ENSG00000148832 / ENSG00000130649: 100%|██████████████████████| 29890/29890 [32:33<00:00, 15.30it/s]\n"
     ]
    },
    {
     "data": {
      "text/plain": [
       "PosixPath('/project/ritchie20/projects/phenoplier/base/results/gls/gene_corrs/cohorts/1000g_eur/1000g/mashr/by_chr/gene_corrs-chr10.pkl')"
      ]
     },
     "metadata": {},
     "output_type": "display_data"
    }
   ],
   "source": [
    "gene_corrs = []\n",
    "\n",
    "i = 0\n",
    "with tqdm(ncols=100, total=n_comb) as pbar:\n",
    "    for gene1_idx in range(0, len(gene_chr_objs) - 1):\n",
    "        gene1_obj = gene_chr_objs[gene1_idx]\n",
    "        gene1_tissues = spredixcan_genes_models.loc[gene1_obj.ensembl_id, \"tissue\"]\n",
    "\n",
    "        for gene2_idx in range(gene1_idx + 1, len(gene_chr_objs)):\n",
    "            gene2_obj = gene_chr_objs[gene2_idx]\n",
    "            gene2_tissues = spredixcan_genes_models.loc[gene2_obj.ensembl_id, \"tissue\"]\n",
    "\n",
    "            pbar.set_description(f\"{gene1_obj.ensembl_id} / {gene2_obj.ensembl_id}\")\n",
    "\n",
    "            try:\n",
    "                r = gene1_obj.get_ssm_correlation(\n",
    "                    other_gene=gene2_obj,\n",
    "                    tissues=gene1_tissues,\n",
    "                    other_tissues=gene2_tissues,\n",
    "                    snps_subset=gwas_variants_ids_set,\n",
    "                    condition_number=SMULTIXCAN_CONDITION_NUMBER,\n",
    "                    reference_panel=REFERENCE_PANEL,\n",
    "                    model_type=EQTL_MODEL,\n",
    "                    use_within_distance=COMPUTE_CORRELATIONS_WITHIN_DISTANCE,\n",
    "                )\n",
    "\n",
    "                if r is None:\n",
    "                    # if r is None, it's very likely because:\n",
    "                    #  * one of the genes has no prediction models\n",
    "                    #  * all the SNPs predictors for the gene are not present in the reference\n",
    "                    #    panel\n",
    "\n",
    "                    r = 0.0\n",
    "\n",
    "                gene_corrs.append(r)\n",
    "            except Warning as e:\n",
    "                if not DEBUG_MODE:\n",
    "                    raise e\n",
    "\n",
    "                print(\n",
    "                    f\"RuntimeWarning for genes {gene1_obj.ensembl_id} and {gene2_obj.ensembl_id}\",\n",
    "                    flush=True,\n",
    "                )\n",
    "                print(traceback.format_exc(), flush=True)\n",
    "\n",
    "                gene_corrs.append(np.nan)\n",
    "            except Exception as e:\n",
    "                if not DEBUG_MODE:\n",
    "                    raise e\n",
    "\n",
    "                print(\n",
    "                    f\"Exception for genes {gene1_obj.ensembl_id} and {gene2_obj.ensembl_id}\",\n",
    "                    flush=True,\n",
    "                )\n",
    "                print(traceback.format_exc(), flush=True)\n",
    "\n",
    "                gene_corrs.append(np.nan)\n",
    "\n",
    "            pbar.update(1)\n",
    "\n",
    "# create a pandas series\n",
    "gene_corrs_flat = pd.Series(gene_corrs)\n",
    "\n",
    "# save\n",
    "# FIXME: consider saving only the condenced matrix here. See here for\n",
    "# more details: https://github.com/greenelab/phenoplier/pull/38#discussion_r634600813\n",
    "gene_corrs_data = squareform(np.array(gene_corrs, dtype=np.float64))\n",
    "np.fill_diagonal(gene_corrs_data, 1.0)\n",
    "\n",
    "gene_chr_ids = [g.ensembl_id for g in gene_chr_objs]\n",
    "gene_corrs_df = pd.DataFrame(\n",
    "    data=gene_corrs_data,\n",
    "    index=gene_chr_ids,\n",
    "    columns=gene_chr_ids,\n",
    ")\n",
    "\n",
    "output_dir.mkdir(exist_ok=True, parents=True)\n",
    "display(output_file)\n",
    "\n",
    "gene_corrs_df.to_pickle(output_file)"
   ]
  },
  {
   "cell_type": "markdown",
   "id": "faa67b51-5373-470f-aa72-2ded53fa6dfe",
   "metadata": {
    "papermill": {
     "duration": 1.516197,
     "end_time": "2022-08-02T21:06:01.261707",
     "exception": false,
     "start_time": "2022-08-02T21:05:59.745510",
     "status": "completed"
    },
    "tags": []
   },
   "source": [
    "# Testing"
   ]
  },
  {
   "cell_type": "code",
   "execution_count": 30,
   "id": "14f7d046-4b55-4896-a56b-990127bcc388",
   "metadata": {
    "execution": {
     "iopub.execute_input": "2022-08-02T21:06:04.215125Z",
     "iopub.status.busy": "2022-08-02T21:06:04.214862Z",
     "iopub.status.idle": "2022-08-02T21:06:04.421867Z",
     "shell.execute_reply": "2022-08-02T21:06:04.421418Z"
    },
    "papermill": {
     "duration": 1.743565,
     "end_time": "2022-08-02T21:06:04.423306",
     "exception": false,
     "start_time": "2022-08-02T21:06:02.679741",
     "status": "completed"
    },
    "tags": []
   },
   "outputs": [
    {
     "data": {
      "text/plain": [
       "(245, 245)"
      ]
     },
     "execution_count": 30,
     "metadata": {},
     "output_type": "execute_result"
    }
   ],
   "source": [
    "gene_corrs_df.shape"
   ]
  },
  {
   "cell_type": "code",
   "execution_count": 31,
   "id": "c7d15414-3297-4537-a7c6-7588c0baeb75",
   "metadata": {
    "execution": {
     "iopub.execute_input": "2022-08-02T21:06:07.401061Z",
     "iopub.status.busy": "2022-08-02T21:06:07.400800Z",
     "iopub.status.idle": "2022-08-02T21:06:07.434150Z",
     "shell.execute_reply": "2022-08-02T21:06:07.433712Z"
    },
    "papermill": {
     "duration": 1.519239,
     "end_time": "2022-08-02T21:06:07.435455",
     "exception": false,
     "start_time": "2022-08-02T21:06:05.916216",
     "status": "completed"
    },
    "tags": []
   },
   "outputs": [
    {
     "data": {
      "text/html": [
       "<div>\n",
       "<style scoped>\n",
       "    .dataframe tbody tr th:only-of-type {\n",
       "        vertical-align: middle;\n",
       "    }\n",
       "\n",
       "    .dataframe tbody tr th {\n",
       "        vertical-align: top;\n",
       "    }\n",
       "\n",
       "    .dataframe thead th {\n",
       "        text-align: right;\n",
       "    }\n",
       "</style>\n",
       "<table border=\"1\" class=\"dataframe\">\n",
       "  <thead>\n",
       "    <tr style=\"text-align: right;\">\n",
       "      <th></th>\n",
       "      <th>ENSG00000261456</th>\n",
       "      <th>ENSG00000148377</th>\n",
       "      <th>ENSG00000067064</th>\n",
       "      <th>ENSG00000067057</th>\n",
       "      <th>ENSG00000067082</th>\n",
       "      <th>ENSG00000187134</th>\n",
       "      <th>ENSG00000151632</th>\n",
       "      <th>ENSG00000196139</th>\n",
       "      <th>ENSG00000173848</th>\n",
       "      <th>ENSG00000196372</th>\n",
       "      <th>...</th>\n",
       "      <th>ENSG00000148773</th>\n",
       "      <th>ENSG00000170430</th>\n",
       "      <th>ENSG00000175470</th>\n",
       "      <th>ENSG00000176171</th>\n",
       "      <th>ENSG00000151640</th>\n",
       "      <th>ENSG00000068383</th>\n",
       "      <th>ENSG00000130640</th>\n",
       "      <th>ENSG00000127884</th>\n",
       "      <th>ENSG00000148832</th>\n",
       "      <th>ENSG00000130649</th>\n",
       "    </tr>\n",
       "  </thead>\n",
       "  <tbody>\n",
       "    <tr>\n",
       "      <th>ENSG00000261456</th>\n",
       "      <td>1.000000</td>\n",
       "      <td>0.009276</td>\n",
       "      <td>0.011251</td>\n",
       "      <td>0.018050</td>\n",
       "      <td>0.007918</td>\n",
       "      <td>0.008961</td>\n",
       "      <td>0.011278</td>\n",
       "      <td>0.011212</td>\n",
       "      <td>0.009100</td>\n",
       "      <td>0.020101</td>\n",
       "      <td>...</td>\n",
       "      <td>0.010152</td>\n",
       "      <td>0.005868</td>\n",
       "      <td>0.007588</td>\n",
       "      <td>0.012484</td>\n",
       "      <td>0.007523</td>\n",
       "      <td>0.008147</td>\n",
       "      <td>0.014677</td>\n",
       "      <td>0.006019</td>\n",
       "      <td>0.008514</td>\n",
       "      <td>0.007687</td>\n",
       "    </tr>\n",
       "    <tr>\n",
       "      <th>ENSG00000148377</th>\n",
       "      <td>0.009276</td>\n",
       "      <td>1.000000</td>\n",
       "      <td>0.082265</td>\n",
       "      <td>0.008849</td>\n",
       "      <td>0.002638</td>\n",
       "      <td>0.005402</td>\n",
       "      <td>0.002854</td>\n",
       "      <td>0.006662</td>\n",
       "      <td>0.003950</td>\n",
       "      <td>0.006822</td>\n",
       "      <td>...</td>\n",
       "      <td>0.001948</td>\n",
       "      <td>0.004004</td>\n",
       "      <td>0.004415</td>\n",
       "      <td>0.002538</td>\n",
       "      <td>0.005284</td>\n",
       "      <td>0.004551</td>\n",
       "      <td>0.009475</td>\n",
       "      <td>0.001292</td>\n",
       "      <td>0.001342</td>\n",
       "      <td>0.002738</td>\n",
       "    </tr>\n",
       "    <tr>\n",
       "      <th>ENSG00000067064</th>\n",
       "      <td>0.011251</td>\n",
       "      <td>0.082265</td>\n",
       "      <td>1.000000</td>\n",
       "      <td>0.014118</td>\n",
       "      <td>0.010838</td>\n",
       "      <td>0.010339</td>\n",
       "      <td>0.019729</td>\n",
       "      <td>0.015975</td>\n",
       "      <td>0.013213</td>\n",
       "      <td>0.013264</td>\n",
       "      <td>...</td>\n",
       "      <td>0.010608</td>\n",
       "      <td>0.007741</td>\n",
       "      <td>0.012950</td>\n",
       "      <td>0.008105</td>\n",
       "      <td>0.010058</td>\n",
       "      <td>0.018294</td>\n",
       "      <td>0.017131</td>\n",
       "      <td>0.021504</td>\n",
       "      <td>0.020720</td>\n",
       "      <td>0.009231</td>\n",
       "    </tr>\n",
       "    <tr>\n",
       "      <th>ENSG00000067057</th>\n",
       "      <td>0.018050</td>\n",
       "      <td>0.008849</td>\n",
       "      <td>0.014118</td>\n",
       "      <td>1.000000</td>\n",
       "      <td>0.012992</td>\n",
       "      <td>0.020653</td>\n",
       "      <td>0.026357</td>\n",
       "      <td>0.026792</td>\n",
       "      <td>0.014648</td>\n",
       "      <td>0.026515</td>\n",
       "      <td>...</td>\n",
       "      <td>0.016340</td>\n",
       "      <td>0.008307</td>\n",
       "      <td>0.023652</td>\n",
       "      <td>0.018932</td>\n",
       "      <td>0.012589</td>\n",
       "      <td>0.020674</td>\n",
       "      <td>0.021889</td>\n",
       "      <td>0.013410</td>\n",
       "      <td>0.016956</td>\n",
       "      <td>0.012558</td>\n",
       "    </tr>\n",
       "    <tr>\n",
       "      <th>ENSG00000067082</th>\n",
       "      <td>0.007918</td>\n",
       "      <td>0.002638</td>\n",
       "      <td>0.010838</td>\n",
       "      <td>0.012992</td>\n",
       "      <td>1.000000</td>\n",
       "      <td>0.019430</td>\n",
       "      <td>0.016258</td>\n",
       "      <td>0.012085</td>\n",
       "      <td>0.015885</td>\n",
       "      <td>0.017250</td>\n",
       "      <td>...</td>\n",
       "      <td>0.013997</td>\n",
       "      <td>0.012025</td>\n",
       "      <td>0.006131</td>\n",
       "      <td>0.007410</td>\n",
       "      <td>0.012551</td>\n",
       "      <td>0.013883</td>\n",
       "      <td>0.009349</td>\n",
       "      <td>0.005773</td>\n",
       "      <td>0.010563</td>\n",
       "      <td>0.009960</td>\n",
       "    </tr>\n",
       "  </tbody>\n",
       "</table>\n",
       "<p>5 rows × 245 columns</p>\n",
       "</div>"
      ],
      "text/plain": [
       "                 ENSG00000261456  ENSG00000148377  ENSG00000067064  \\\n",
       "ENSG00000261456         1.000000         0.009276         0.011251   \n",
       "ENSG00000148377         0.009276         1.000000         0.082265   \n",
       "ENSG00000067064         0.011251         0.082265         1.000000   \n",
       "ENSG00000067057         0.018050         0.008849         0.014118   \n",
       "ENSG00000067082         0.007918         0.002638         0.010838   \n",
       "\n",
       "                 ENSG00000067057  ENSG00000067082  ENSG00000187134  \\\n",
       "ENSG00000261456         0.018050         0.007918         0.008961   \n",
       "ENSG00000148377         0.008849         0.002638         0.005402   \n",
       "ENSG00000067064         0.014118         0.010838         0.010339   \n",
       "ENSG00000067057         1.000000         0.012992         0.020653   \n",
       "ENSG00000067082         0.012992         1.000000         0.019430   \n",
       "\n",
       "                 ENSG00000151632  ENSG00000196139  ENSG00000173848  \\\n",
       "ENSG00000261456         0.011278         0.011212         0.009100   \n",
       "ENSG00000148377         0.002854         0.006662         0.003950   \n",
       "ENSG00000067064         0.019729         0.015975         0.013213   \n",
       "ENSG00000067057         0.026357         0.026792         0.014648   \n",
       "ENSG00000067082         0.016258         0.012085         0.015885   \n",
       "\n",
       "                 ENSG00000196372  ...  ENSG00000148773  ENSG00000170430  \\\n",
       "ENSG00000261456         0.020101  ...         0.010152         0.005868   \n",
       "ENSG00000148377         0.006822  ...         0.001948         0.004004   \n",
       "ENSG00000067064         0.013264  ...         0.010608         0.007741   \n",
       "ENSG00000067057         0.026515  ...         0.016340         0.008307   \n",
       "ENSG00000067082         0.017250  ...         0.013997         0.012025   \n",
       "\n",
       "                 ENSG00000175470  ENSG00000176171  ENSG00000151640  \\\n",
       "ENSG00000261456         0.007588         0.012484         0.007523   \n",
       "ENSG00000148377         0.004415         0.002538         0.005284   \n",
       "ENSG00000067064         0.012950         0.008105         0.010058   \n",
       "ENSG00000067057         0.023652         0.018932         0.012589   \n",
       "ENSG00000067082         0.006131         0.007410         0.012551   \n",
       "\n",
       "                 ENSG00000068383  ENSG00000130640  ENSG00000127884  \\\n",
       "ENSG00000261456         0.008147         0.014677         0.006019   \n",
       "ENSG00000148377         0.004551         0.009475         0.001292   \n",
       "ENSG00000067064         0.018294         0.017131         0.021504   \n",
       "ENSG00000067057         0.020674         0.021889         0.013410   \n",
       "ENSG00000067082         0.013883         0.009349         0.005773   \n",
       "\n",
       "                 ENSG00000148832  ENSG00000130649  \n",
       "ENSG00000261456         0.008514         0.007687  \n",
       "ENSG00000148377         0.001342         0.002738  \n",
       "ENSG00000067064         0.020720         0.009231  \n",
       "ENSG00000067057         0.016956         0.012558  \n",
       "ENSG00000067082         0.010563         0.009960  \n",
       "\n",
       "[5 rows x 245 columns]"
      ]
     },
     "execution_count": 31,
     "metadata": {},
     "output_type": "execute_result"
    }
   ],
   "source": [
    "gene_corrs_df.head()"
   ]
  },
  {
   "cell_type": "markdown",
   "id": "dad6603f-01c6-41fb-a6f6-241051207dd8",
   "metadata": {
    "papermill": {
     "duration": 1.424429,
     "end_time": "2022-08-02T21:06:10.302680",
     "exception": false,
     "start_time": "2022-08-02T21:06:08.878251",
     "status": "completed"
    },
    "tags": []
   },
   "source": [
    "## Standard checks and stats"
   ]
  },
  {
   "cell_type": "code",
   "execution_count": 32,
   "id": "286686af-1b7b-4440-8453-6bdcbd8de19c",
   "metadata": {
    "execution": {
     "iopub.execute_input": "2022-08-02T21:06:13.311428Z",
     "iopub.status.busy": "2022-08-02T21:06:13.311183Z",
     "iopub.status.idle": "2022-08-02T21:06:13.332071Z",
     "shell.execute_reply": "2022-08-02T21:06:13.331662Z"
    },
    "papermill": {
     "duration": 1.50506,
     "end_time": "2022-08-02T21:06:13.333444",
     "exception": false,
     "start_time": "2022-08-02T21:06:11.828384",
     "status": "completed"
    },
    "tags": []
   },
   "outputs": [],
   "source": [
    "assert not gene_corrs_df.isna().any().any()"
   ]
  },
  {
   "cell_type": "code",
   "execution_count": 33,
   "id": "00583efc-7068-4270-ad1e-4a418e91db96",
   "metadata": {
    "execution": {
     "iopub.execute_input": "2022-08-02T21:06:16.208486Z",
     "iopub.status.busy": "2022-08-02T21:06:16.208235Z",
     "iopub.status.idle": "2022-08-02T21:06:16.230543Z",
     "shell.execute_reply": "2022-08-02T21:06:16.230104Z"
    },
    "papermill": {
     "duration": 1.485513,
     "end_time": "2022-08-02T21:06:16.231937",
     "exception": false,
     "start_time": "2022-08-02T21:06:14.746424",
     "status": "completed"
    },
    "tags": []
   },
   "outputs": [
    {
     "data": {
      "text/plain": [
       "3.5725034689903694e-07"
      ]
     },
     "metadata": {},
     "output_type": "display_data"
    }
   ],
   "source": [
    "_min_val = gene_corrs_df.min().min()\n",
    "display(_min_val)\n",
    "assert _min_val >= 0.0"
   ]
  },
  {
   "cell_type": "code",
   "execution_count": 34,
   "id": "d04fb2cf-1050-475b-b855-f5f7cc04092b",
   "metadata": {
    "execution": {
     "iopub.execute_input": "2022-08-02T21:06:19.235919Z",
     "iopub.status.busy": "2022-08-02T21:06:19.235670Z",
     "iopub.status.idle": "2022-08-02T21:06:19.317365Z",
     "shell.execute_reply": "2022-08-02T21:06:19.316948Z"
    },
    "papermill": {
     "duration": 1.587705,
     "end_time": "2022-08-02T21:06:19.318617",
     "exception": false,
     "start_time": "2022-08-02T21:06:17.730912",
     "status": "completed"
    },
    "tags": []
   },
   "outputs": [
    {
     "data": {
      "text/plain": [
       "1.0"
      ]
     },
     "metadata": {},
     "output_type": "display_data"
    }
   ],
   "source": [
    "_max_val = gene_corrs_df.max().max()  # this captures the diagonal\n",
    "display(_max_val)\n",
    "assert _max_val <= 1.0"
   ]
  },
  {
   "cell_type": "code",
   "execution_count": 35,
   "id": "96d02c44-1fba-47be-8a93-8f2608420b9c",
   "metadata": {
    "execution": {
     "iopub.execute_input": "2022-08-02T21:06:22.185900Z",
     "iopub.status.busy": "2022-08-02T21:06:22.185646Z",
     "iopub.status.idle": "2022-08-02T21:06:22.205223Z",
     "shell.execute_reply": "2022-08-02T21:06:22.204764Z"
    },
    "papermill": {
     "duration": 1.442995,
     "end_time": "2022-08-02T21:06:22.206764",
     "exception": false,
     "start_time": "2022-08-02T21:06:20.763769",
     "status": "completed"
    },
    "tags": []
   },
   "outputs": [],
   "source": [
    "# check upper triangular values\n",
    "assert len(gene_corrs) == int(genes_chr.shape[0] * (genes_chr.shape[0] - 1) / 2)"
   ]
  },
  {
   "cell_type": "code",
   "execution_count": 36,
   "id": "fe283586-c348-40e0-8841-f6d97bfb021c",
   "metadata": {
    "execution": {
     "iopub.execute_input": "2022-08-02T21:06:25.153070Z",
     "iopub.status.busy": "2022-08-02T21:06:25.152811Z",
     "iopub.status.idle": "2022-08-02T21:06:25.176859Z",
     "shell.execute_reply": "2022-08-02T21:06:25.176464Z"
    },
    "papermill": {
     "duration": 1.506573,
     "end_time": "2022-08-02T21:06:25.178078",
     "exception": false,
     "start_time": "2022-08-02T21:06:23.671505",
     "status": "completed"
    },
    "tags": []
   },
   "outputs": [
    {
     "data": {
      "text/plain": [
       "count    2.989000e+04\n",
       "mean     1.096635e-02\n",
       "std      2.913266e-02\n",
       "min      3.572503e-07\n",
       "25%      5.732096e-03\n",
       "50%      8.689718e-03\n",
       "75%      1.201843e-02\n",
       "max      9.890639e-01\n",
       "dtype: float64"
      ]
     },
     "execution_count": 36,
     "metadata": {},
     "output_type": "execute_result"
    }
   ],
   "source": [
    "gene_corrs_flat.describe()"
   ]
  },
  {
   "cell_type": "code",
   "execution_count": 37,
   "id": "b3815678-0f93-4b35-897b-a9d047a2aa78",
   "metadata": {
    "execution": {
     "iopub.execute_input": "2022-08-02T21:06:28.104875Z",
     "iopub.status.busy": "2022-08-02T21:06:28.104633Z",
     "iopub.status.idle": "2022-08-02T21:06:28.128588Z",
     "shell.execute_reply": "2022-08-02T21:06:28.128176Z"
    },
    "papermill": {
     "duration": 1.460146,
     "end_time": "2022-08-02T21:06:28.129857",
     "exception": false,
     "start_time": "2022-08-02T21:06:26.669711",
     "status": "completed"
    },
    "tags": []
   },
   "outputs": [
    {
     "data": {
      "text/plain": [
       "0.00    3.572503e-07\n",
       "0.05    2.218779e-03\n",
       "0.10    3.390426e-03\n",
       "0.15    4.284104e-03\n",
       "0.20    5.056828e-03\n",
       "0.25    5.732096e-03\n",
       "0.30    6.324268e-03\n",
       "0.35    6.918208e-03\n",
       "0.40    7.510424e-03\n",
       "0.45    8.112537e-03\n",
       "0.50    8.689718e-03\n",
       "0.55    9.274910e-03\n",
       "0.60    9.901904e-03\n",
       "0.65    1.055630e-02\n",
       "0.70    1.126201e-02\n",
       "0.75    1.201843e-02\n",
       "0.80    1.290325e-02\n",
       "0.85    1.401459e-02\n",
       "0.90    1.539423e-02\n",
       "0.95    1.772320e-02\n",
       "dtype: float64"
      ]
     },
     "metadata": {},
     "output_type": "display_data"
    }
   ],
   "source": [
    "gene_corrs_quantiles = gene_corrs_flat.quantile(np.arange(0, 1, 0.05))\n",
    "display(gene_corrs_quantiles)"
   ]
  },
  {
   "cell_type": "markdown",
   "id": "87134509-b145-4a10-8bc9-b7e914c2b0fa",
   "metadata": {
    "papermill": {
     "duration": 1.449069,
     "end_time": "2022-08-02T21:06:31.047822",
     "exception": false,
     "start_time": "2022-08-02T21:06:29.598753",
     "status": "completed"
    },
    "tags": []
   },
   "source": [
    "## Positive definiteness"
   ]
  },
  {
   "cell_type": "code",
   "execution_count": 38,
   "id": "07d9a9a1-a4f7-48aa-b916-6d42a8cc6186",
   "metadata": {
    "execution": {
     "iopub.execute_input": "2022-08-02T21:06:33.952750Z",
     "iopub.status.busy": "2022-08-02T21:06:33.952508Z",
     "iopub.status.idle": "2022-08-02T21:06:34.104334Z",
     "shell.execute_reply": "2022-08-02T21:06:34.103911Z"
    },
    "papermill": {
     "duration": 1.592152,
     "end_time": "2022-08-02T21:06:34.105602",
     "exception": false,
     "start_time": "2022-08-02T21:06:32.513450",
     "status": "completed"
    },
    "tags": []
   },
   "outputs": [
    {
     "data": {
      "text/plain": [
       "0"
      ]
     },
     "metadata": {},
     "output_type": "display_data"
    },
    {
     "data": {
      "text/plain": [
       "array([], dtype=float64)"
      ]
     },
     "metadata": {},
     "output_type": "display_data"
    }
   ],
   "source": [
    "# print negative eigenvalues\n",
    "eigs = np.linalg.eigvals(gene_corrs_df.to_numpy())\n",
    "display(len(eigs[eigs < 0]))\n",
    "display(eigs[eigs < 0])"
   ]
  },
  {
   "cell_type": "code",
   "execution_count": 39,
   "id": "6e218436-c3c5-4028-8c94-a4fa6260efce",
   "metadata": {
    "execution": {
     "iopub.execute_input": "2022-08-02T21:06:37.081104Z",
     "iopub.status.busy": "2022-08-02T21:06:37.080843Z",
     "iopub.status.idle": "2022-08-02T21:06:37.134606Z",
     "shell.execute_reply": "2022-08-02T21:06:37.134139Z"
    },
    "papermill": {
     "duration": 1.5307,
     "end_time": "2022-08-02T21:06:37.136015",
     "exception": false,
     "start_time": "2022-08-02T21:06:35.605315",
     "status": "completed"
    },
    "tags": []
   },
   "outputs": [
    {
     "name": "stdout",
     "output_type": "stream",
     "text": [
      "Works!\n"
     ]
    }
   ],
   "source": [
    "try:\n",
    "    chol_mat = np.linalg.cholesky(gene_corrs_df.to_numpy())\n",
    "    cov_inv = np.linalg.inv(chol_mat)\n",
    "    print(\"Works!\")\n",
    "except:\n",
    "    print(\"Cholesky decomposition failed\")"
   ]
  },
  {
   "cell_type": "markdown",
   "id": "8e60a080-edb2-4e9c-b2ef-22961693200c",
   "metadata": {
    "papermill": {
     "duration": 1.483172,
     "end_time": "2022-08-02T21:06:40.063980",
     "exception": false,
     "start_time": "2022-08-02T21:06:38.580808",
     "status": "completed"
    },
    "tags": []
   },
   "source": [
    "## Plot: distribution"
   ]
  },
  {
   "cell_type": "code",
   "execution_count": 40,
   "id": "8301126b-a7d4-4744-9c7d-f0f86eb6f54c",
   "metadata": {
    "execution": {
     "iopub.execute_input": "2022-08-02T21:06:42.980869Z",
     "iopub.status.busy": "2022-08-02T21:06:42.980622Z",
     "iopub.status.idle": "2022-08-02T21:06:48.529619Z",
     "shell.execute_reply": "2022-08-02T21:06:48.529135Z"
    },
    "papermill": {
     "duration": 6.97644,
     "end_time": "2022-08-02T21:06:48.531183",
     "exception": false,
     "start_time": "2022-08-02T21:06:41.554743",
     "status": "completed"
    },
    "tags": []
   },
   "outputs": [
    {
     "data": {
      "image/png": "[encoded data removed]",
      "text/plain": [
       "<Figure size 504x504 with 1 Axes>"
      ]
     },
     "metadata": {
      "needs_background": "light"
     },
     "output_type": "display_data"
    }
   ],
   "source": [
    "with sns.plotting_context(\"paper\", font_scale=1.5):\n",
    "    g = sns.displot(gene_corrs_flat, kde=True, height=7)\n",
    "    g.ax.set_title(\n",
    "        f\"Distribution of gene correlation values in chromosome {CHROMOSOME}\"\n",
    "    )"
   ]
  },
  {
   "cell_type": "markdown",
   "id": "cbd52bca-d878-4a2f-b684-5c83aa3038d4",
   "metadata": {
    "papermill": {
     "duration": 1.464274,
     "end_time": "2022-08-02T21:06:51.470697",
     "exception": false,
     "start_time": "2022-08-02T21:06:50.006423",
     "status": "completed"
    },
    "tags": []
   },
   "source": [
    "## Plot: heatmap"
   ]
  },
  {
   "cell_type": "code",
   "execution_count": 41,
   "id": "d03fe63a-c7b2-4fb9-a53c-db362ce843c9",
   "metadata": {
    "execution": {
     "iopub.execute_input": "2022-08-02T21:06:54.396891Z",
     "iopub.status.busy": "2022-08-02T21:06:54.396641Z",
     "iopub.status.idle": "2022-08-02T21:06:54.490138Z",
     "shell.execute_reply": "2022-08-02T21:06:54.489725Z"
    },
    "papermill": {
     "duration": 1.520935,
     "end_time": "2022-08-02T21:06:54.491512",
     "exception": false,
     "start_time": "2022-08-02T21:06:52.970577",
     "status": "completed"
    },
    "tags": []
   },
   "outputs": [
    {
     "data": {
      "text/plain": [
       "'0.0 / 0.05'"
      ]
     },
     "metadata": {},
     "output_type": "display_data"
    }
   ],
   "source": [
    "vmin_val = min(0.00, gene_corrs_quantiles[0.10])\n",
    "vmax_val = max(0.05, gene_corrs_quantiles[0.90])\n",
    "display(f\"{vmin_val} / {vmax_val}\")"
   ]
  },
  {
   "cell_type": "code",
   "execution_count": 42,
   "id": "dc41b70b-5bcc-4d9e-9f33-a22c4a94dab5",
   "metadata": {
    "execution": {
     "iopub.execute_input": "2022-08-02T21:06:57.444814Z",
     "iopub.status.busy": "2022-08-02T21:06:57.444567Z",
     "iopub.status.idle": "2022-08-02T21:06:57.660985Z",
     "shell.execute_reply": "2022-08-02T21:06:57.660548Z"
    },
    "papermill": {
     "duration": 1.734913,
     "end_time": "2022-08-02T21:06:57.662471",
     "exception": false,
     "start_time": "2022-08-02T21:06:55.927558",
     "status": "completed"
    },
    "tags": []
   },
   "outputs": [
    {
     "data": {
      "text/plain": [
       "Text(0.5, 1.0, 'Gene correlations in chromosome 10')"
      ]
     },
     "execution_count": 42,
     "metadata": {},
     "output_type": "execute_result"
    },
    {
     "data": {
      "image/png": "[encoded data removed]",
      "text/plain": [
       "<Figure size 720x720 with 2 Axes>"
      ]
     },
     "metadata": {
      "needs_background": "light"
     },
     "output_type": "display_data"
    }
   ],
   "source": [
    "f, ax = plt.subplots(figsize=(10, 10))\n",
    "sns.heatmap(\n",
    "    gene_corrs_df,\n",
    "    xticklabels=False,\n",
    "    yticklabels=False,\n",
    "    square=True,\n",
    "    vmin=vmin_val,\n",
    "    vmax=vmax_val,\n",
    "    cmap=\"rocket_r\",\n",
    "    ax=ax,\n",
    ")\n",
    "ax.set_title(f\"Gene correlations in chromosome {CHROMOSOME}\")"
   ]
  },
  {
   "cell_type": "code",
   "execution_count": null,
   "id": "b25e3ead",
   "metadata": {
    "papermill": {
     "duration": 1.496158,
     "end_time": "2022-08-02T21:07:00.634848",
     "exception": false,
     "start_time": "2022-08-02T21:06:59.138690",
     "status": "completed"
    },
    "tags": []
   },
   "outputs": [],
   "source": []
  }
 ],
 "metadata": {
  "jupytext": {
   "cell_metadata_filter": "all,-execution,-papermill,-trusted",
   "formats": "ipynb,py//py:percent"
  },
  "kernelspec": {
   "display_name": "Python 3 (ipykernel)",
   "language": "python",
   "name": "python3"
  },
  "language_info": {
   "codemirror_mode": {
    "name": "ipython",
    "version": 3
   },
   "file_extension": ".py",
   "mimetype": "text/x-python",
   "name": "python",
   "nbconvert_exporter": "python",
   "pygments_lexer": "ipython3",
   "version": "3.8.13"
  },
  "papermill": {
   "default_parameters": {},
   "duration": 2034.250385,
   "end_time": "2022-08-02T21:07:05.729767",
   "environment_variables": {},
   "exception": null,
   "input_path": "nbs/15_gsa_gls/10-gene_expr_correlations.ipynb",
   "output_path": "nbs/15_gsa_gls/gene_corrs/cohorts/1000g_eur/1000g/mashr/10-gene_expr_correlations-chr10.run.ipynb",
   "parameters": {
    "CHROMOSOME": 10,
    "COHORT_NAME": "1000G_EUR",
    "EQTL_MODEL": "MASHR",
    "REFERENCE_PANEL": "1000G"
   },
   "start_time": "2022-08-02T20:33:11.479382",
   "version": "2.2.2"
  }
 },
 "nbformat": 4,
 "nbformat_minor": 5
}
