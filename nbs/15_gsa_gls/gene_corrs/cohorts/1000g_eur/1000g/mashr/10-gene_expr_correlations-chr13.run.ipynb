{
 "cells": [
  {
   "cell_type": "markdown",
   "id": "7a6632fb",
   "metadata": {
    "papermill": {
     "duration": 0.00614,
     "end_time": "2022-08-08T21:05:44.988855",
     "exception": false,
     "start_time": "2022-08-08T21:05:44.982715",
     "status": "completed"
    },
    "tags": []
   },
   "source": [
    "# Description"
   ]
  },
  {
   "cell_type": "markdown",
   "id": "7097c346",
   "metadata": {
    "papermill": {
     "duration": 0.005155,
     "end_time": "2022-08-08T21:05:44.999557",
     "exception": false,
     "start_time": "2022-08-08T21:05:44.994402",
     "status": "completed"
    },
    "tags": []
   },
   "source": [
    "(Please, take a look at the README.md file in this directory for instructions on how to run this notebook)\n",
    "\n",
    "This notebook computes predicted expression correlations between all genes in the MultiPLIER models.\n",
    "\n",
    "It also has a parameter set for papermill to run on a single chromosome to run in parallel (see under `Settings` below).\n",
    "\n",
    "This notebook is not directly run. See README.md."
   ]
  },
  {
   "cell_type": "markdown",
   "id": "c61d8427",
   "metadata": {
    "papermill": {
     "duration": 0.005202,
     "end_time": "2022-08-08T21:05:45.010066",
     "exception": false,
     "start_time": "2022-08-08T21:05:45.004864",
     "status": "completed"
    },
    "tags": []
   },
   "source": [
    "# Modules"
   ]
  },
  {
   "cell_type": "code",
   "execution_count": 1,
   "id": "bbc0234f",
   "metadata": {
    "execution": {
     "iopub.execute_input": "2022-08-08T21:05:45.021733Z",
     "iopub.status.busy": "2022-08-08T21:05:45.021514Z",
     "iopub.status.idle": "2022-08-08T21:05:45.036400Z",
     "shell.execute_reply": "2022-08-08T21:05:45.035989Z"
    },
    "papermill": {
     "duration": 0.02238,
     "end_time": "2022-08-08T21:05:45.037783",
     "exception": false,
     "start_time": "2022-08-08T21:05:45.015403",
     "status": "completed"
    },
    "tags": []
   },
   "outputs": [],
   "source": [
    "%load_ext autoreload\n",
    "%autoreload 2"
   ]
  },
  {
   "cell_type": "code",
   "execution_count": 2,
   "id": "1d5f5a59",
   "metadata": {
    "execution": {
     "iopub.execute_input": "2022-08-08T21:05:45.050036Z",
     "iopub.status.busy": "2022-08-08T21:05:45.049742Z",
     "iopub.status.idle": "2022-08-08T21:05:45.960996Z",
     "shell.execute_reply": "2022-08-08T21:05:45.960467Z"
    },
    "papermill": {
     "duration": 0.919182,
     "end_time": "2022-08-08T21:05:45.962544",
     "exception": false,
     "start_time": "2022-08-08T21:05:45.043362",
     "status": "completed"
    },
    "tags": []
   },
   "outputs": [],
   "source": [
    "from random import sample, seed\n",
    "import warnings\n",
    "from pathlib import Path\n",
    "import pickle\n",
    "import traceback\n",
    "\n",
    "import numpy as np\n",
    "from scipy.spatial.distance import squareform\n",
    "import pandas as pd\n",
    "from tqdm import tqdm\n",
    "import matplotlib.pyplot as plt\n",
    "import seaborn as sns\n",
    "\n",
    "import conf\n",
    "from entity import Gene"
   ]
  },
  {
   "cell_type": "markdown",
   "id": "1eac24b5",
   "metadata": {
    "papermill": {
     "duration": 0.006241,
     "end_time": "2022-08-08T21:05:46.003197",
     "exception": false,
     "start_time": "2022-08-08T21:05:45.996956",
     "status": "completed"
    },
    "tags": []
   },
   "source": [
    "# Settings"
   ]
  },
  {
   "cell_type": "code",
   "execution_count": 3,
   "id": "ca4560ba",
   "metadata": {
    "execution": {
     "iopub.execute_input": "2022-08-08T21:05:46.017177Z",
     "iopub.status.busy": "2022-08-08T21:05:46.016943Z",
     "iopub.status.idle": "2022-08-08T21:05:46.032886Z",
     "shell.execute_reply": "2022-08-08T21:05:46.032447Z"
    },
    "papermill": {
     "duration": 0.02455,
     "end_time": "2022-08-08T21:05:46.034335",
     "exception": false,
     "start_time": "2022-08-08T21:05:46.009785",
     "status": "completed"
    },
    "tags": [
     "parameters"
    ]
   },
   "outputs": [],
   "source": [
    "# a cohort name (it could be something like UK_BIOBANK, etc)\n",
    "COHORT_NAME = None\n",
    "\n",
    "# reference panel such as 1000G or GTEX_V8\n",
    "REFERENCE_PANEL = None\n",
    "\n",
    "# predictions models such as MASHR or ELASTIC_NET\n",
    "EQTL_MODEL = None\n",
    "\n",
    "# this is the default value used in S-MultiXcan to select the\n",
    "# top principal components of the expression correlation matrix\n",
    "SMULTIXCAN_CONDITION_NUMBER = 30\n",
    "\n",
    "# specifies a single chromosome value\n",
    "CHROMOSOME = None\n",
    "\n",
    "# If True, computes the correlation between closeby genes only;\n",
    "# otherwise, it computes correlations for all genes in a chromosome\n",
    "COMPUTE_CORRELATIONS_WITHIN_DISTANCE = False\n",
    "\n",
    "# if True, then it will continue if a gene pair correlation fails,\n",
    "# printing the warning/error for debugging. If False, any warning/error\n",
    "# will be thrown\n",
    "DEBUG_MODE = False"
   ]
  },
  {
   "cell_type": "code",
   "execution_count": 4,
   "id": "f244bd34",
   "metadata": {
    "execution": {
     "iopub.execute_input": "2022-08-08T21:05:46.046723Z",
     "iopub.status.busy": "2022-08-08T21:05:46.046419Z",
     "iopub.status.idle": "2022-08-08T21:05:46.061597Z",
     "shell.execute_reply": "2022-08-08T21:05:46.061073Z"
    },
    "papermill": {
     "duration": 0.022805,
     "end_time": "2022-08-08T21:05:46.063021",
     "exception": false,
     "start_time": "2022-08-08T21:05:46.040216",
     "status": "completed"
    },
    "tags": [
     "injected-parameters"
    ]
   },
   "outputs": [],
   "source": [
    "# Parameters\n",
    "COHORT_NAME = \"1000G_EUR\"\n",
    "REFERENCE_PANEL = \"1000G\"\n",
    "EQTL_MODEL = \"MASHR\"\n",
    "CHROMOSOME = 13\n"
   ]
  },
  {
   "cell_type": "code",
   "execution_count": 5,
   "id": "3190631f-27fc-480f-b18e-571d580425a5",
   "metadata": {
    "execution": {
     "iopub.execute_input": "2022-08-08T21:05:46.075373Z",
     "iopub.status.busy": "2022-08-08T21:05:46.075098Z",
     "iopub.status.idle": "2022-08-08T21:05:46.091782Z",
     "shell.execute_reply": "2022-08-08T21:05:46.091366Z"
    },
    "papermill": {
     "duration": 0.024096,
     "end_time": "2022-08-08T21:05:46.093020",
     "exception": false,
     "start_time": "2022-08-08T21:05:46.068924",
     "status": "completed"
    },
    "tags": []
   },
   "outputs": [
    {
     "data": {
      "text/plain": [
       "'Cohort name: 1000g_eur'"
      ]
     },
     "metadata": {},
     "output_type": "display_data"
    }
   ],
   "source": [
    "assert COHORT_NAME is not None and len(COHORT_NAME) > 0, \"A cohort name must be given\"\n",
    "\n",
    "COHORT_NAME = COHORT_NAME.lower()\n",
    "display(f\"Cohort name: {COHORT_NAME}\")"
   ]
  },
  {
   "cell_type": "code",
   "execution_count": 6,
   "id": "f53ba19b-0f93-4fa2-a047-63b375939d1a",
   "metadata": {
    "execution": {
     "iopub.execute_input": "2022-08-08T21:05:46.106011Z",
     "iopub.status.busy": "2022-08-08T21:05:46.105474Z",
     "iopub.status.idle": "2022-08-08T21:05:46.121134Z",
     "shell.execute_reply": "2022-08-08T21:05:46.120617Z"
    },
    "papermill": {
     "duration": 0.02343,
     "end_time": "2022-08-08T21:05:46.122443",
     "exception": false,
     "start_time": "2022-08-08T21:05:46.099013",
     "status": "completed"
    },
    "tags": []
   },
   "outputs": [
    {
     "data": {
      "text/plain": [
       "'Reference panel: 1000G'"
      ]
     },
     "metadata": {},
     "output_type": "display_data"
    }
   ],
   "source": [
    "assert (\n",
    "    REFERENCE_PANEL is not None and len(REFERENCE_PANEL) > 0\n",
    "), \"A reference panel must be given\"\n",
    "\n",
    "display(f\"Reference panel: {REFERENCE_PANEL}\")"
   ]
  },
  {
   "cell_type": "code",
   "execution_count": 7,
   "id": "e024d130-c139-429a-9c6e-ccf149e297b0",
   "metadata": {
    "execution": {
     "iopub.execute_input": "2022-08-08T21:05:46.135640Z",
     "iopub.status.busy": "2022-08-08T21:05:46.135324Z",
     "iopub.status.idle": "2022-08-08T21:05:46.153442Z",
     "shell.execute_reply": "2022-08-08T21:05:46.152914Z"
    },
    "papermill": {
     "duration": 0.026152,
     "end_time": "2022-08-08T21:05:46.154768",
     "exception": false,
     "start_time": "2022-08-08T21:05:46.128616",
     "status": "completed"
    },
    "tags": []
   },
   "outputs": [
    {
     "data": {
      "text/plain": [
       "'eQTL model: MASHR) / mashr_'"
      ]
     },
     "metadata": {},
     "output_type": "display_data"
    }
   ],
   "source": [
    "assert (\n",
    "    EQTL_MODEL is not None and len(EQTL_MODEL) > 0\n",
    "), \"A prediction/eQTL model must be given\"\n",
    "\n",
    "EQTL_MODEL_FILES_PREFIX = conf.PHENOMEXCAN[\"PREDICTION_MODELS\"][f\"{EQTL_MODEL}_PREFIX\"]\n",
    "display(f\"eQTL model: {EQTL_MODEL}) / {EQTL_MODEL_FILES_PREFIX}\")"
   ]
  },
  {
   "cell_type": "code",
   "execution_count": 8,
   "id": "552a7f63-a18c-4d3e-bb6a-94f99b431291",
   "metadata": {
    "execution": {
     "iopub.execute_input": "2022-08-08T21:05:46.167564Z",
     "iopub.status.busy": "2022-08-08T21:05:46.167065Z",
     "iopub.status.idle": "2022-08-08T21:05:46.183756Z",
     "shell.execute_reply": "2022-08-08T21:05:46.183233Z"
    },
    "papermill": {
     "duration": 0.024394,
     "end_time": "2022-08-08T21:05:46.185091",
     "exception": false,
     "start_time": "2022-08-08T21:05:46.160697",
     "status": "completed"
    },
    "tags": []
   },
   "outputs": [
    {
     "data": {
      "text/plain": [
       "'S-MultiXcan condition number: 30'"
      ]
     },
     "metadata": {},
     "output_type": "display_data"
    }
   ],
   "source": [
    "assert (\n",
    "    SMULTIXCAN_CONDITION_NUMBER is not None and SMULTIXCAN_CONDITION_NUMBER > 0\n",
    "), \"The S-MultiXcan condition number (positive integer) must be given\"\n",
    "\n",
    "display(f\"S-MultiXcan condition number: {SMULTIXCAN_CONDITION_NUMBER}\")"
   ]
  },
  {
   "cell_type": "code",
   "execution_count": 9,
   "id": "f34a336f-548e-4afe-8955-90eaea4f42c6",
   "metadata": {
    "execution": {
     "iopub.execute_input": "2022-08-08T21:05:46.197753Z",
     "iopub.status.busy": "2022-08-08T21:05:46.197444Z",
     "iopub.status.idle": "2022-08-08T21:05:46.213873Z",
     "shell.execute_reply": "2022-08-08T21:05:46.213352Z"
    },
    "papermill": {
     "duration": 0.024127,
     "end_time": "2022-08-08T21:05:46.215170",
     "exception": false,
     "start_time": "2022-08-08T21:05:46.191043",
     "status": "completed"
    },
    "tags": []
   },
   "outputs": [
    {
     "data": {
      "text/plain": [
       "'Working on chromosome 13'"
      ]
     },
     "metadata": {},
     "output_type": "display_data"
    }
   ],
   "source": [
    "assert CHROMOSOME is not None and (\n",
    "    1 <= CHROMOSOME <= 22\n",
    "), \"You have to select one chromosome (format: number between 1 and 22)\"\n",
    "\n",
    "# CHROMOSOME = str(CHROMOSOME)\n",
    "display(f\"Working on chromosome {CHROMOSOME}\")"
   ]
  },
  {
   "cell_type": "code",
   "execution_count": 10,
   "id": "ab8e96e8-06b5-4363-9dcd-dc4d78cc27f7",
   "metadata": {
    "execution": {
     "iopub.execute_input": "2022-08-08T21:05:46.228345Z",
     "iopub.status.busy": "2022-08-08T21:05:46.227842Z",
     "iopub.status.idle": "2022-08-08T21:05:46.244297Z",
     "shell.execute_reply": "2022-08-08T21:05:46.243779Z"
    },
    "papermill": {
     "duration": 0.024388,
     "end_time": "2022-08-08T21:05:46.245641",
     "exception": false,
     "start_time": "2022-08-08T21:05:46.221253",
     "status": "completed"
    },
    "tags": []
   },
   "outputs": [
    {
     "data": {
      "text/plain": [
       "'Compute correlation within distance False'"
      ]
     },
     "metadata": {},
     "output_type": "display_data"
    }
   ],
   "source": [
    "display(f\"Compute correlation within distance {COMPUTE_CORRELATIONS_WITHIN_DISTANCE}\")"
   ]
  },
  {
   "cell_type": "code",
   "execution_count": 11,
   "id": "396392dc-0340-4540-9b02-e182b833f909",
   "metadata": {
    "execution": {
     "iopub.execute_input": "2022-08-08T21:05:46.259457Z",
     "iopub.status.busy": "2022-08-08T21:05:46.259134Z",
     "iopub.status.idle": "2022-08-08T21:05:46.274970Z",
     "shell.execute_reply": "2022-08-08T21:05:46.274530Z"
    },
    "papermill": {
     "duration": 0.024011,
     "end_time": "2022-08-08T21:05:46.276226",
     "exception": false,
     "start_time": "2022-08-08T21:05:46.252215",
     "status": "completed"
    },
    "tags": []
   },
   "outputs": [
    {
     "data": {
      "text/plain": [
       "'Using output dir base: /opt/data/results/gls/gene_corrs/cohorts/1000g_eur/1000g/mashr'"
      ]
     },
     "metadata": {},
     "output_type": "display_data"
    }
   ],
   "source": [
    "OUTPUT_DIR_BASE = (\n",
    "    conf.RESULTS[\"GLS\"]\n",
    "    / \"gene_corrs\"\n",
    "    / \"cohorts\"\n",
    "    / COHORT_NAME\n",
    "    / REFERENCE_PANEL.lower()\n",
    "    / EQTL_MODEL.lower()\n",
    ")\n",
    "OUTPUT_DIR_BASE.mkdir(parents=True, exist_ok=True)\n",
    "\n",
    "display(f\"Using output dir base: {OUTPUT_DIR_BASE}\")"
   ]
  },
  {
   "cell_type": "markdown",
   "id": "d2ba085e",
   "metadata": {
    "papermill": {
     "duration": 0.006228,
     "end_time": "2022-08-08T21:05:46.288600",
     "exception": false,
     "start_time": "2022-08-08T21:05:46.282372",
     "status": "completed"
    },
    "tags": []
   },
   "source": [
    "# Load data"
   ]
  },
  {
   "cell_type": "markdown",
   "id": "7dcb8db7",
   "metadata": {
    "papermill": {
     "duration": 0.006737,
     "end_time": "2022-08-08T21:05:46.302174",
     "exception": false,
     "start_time": "2022-08-08T21:05:46.295437",
     "status": "completed"
    },
    "tags": []
   },
   "source": [
    "## GWAS variants"
   ]
  },
  {
   "cell_type": "code",
   "execution_count": 12,
   "id": "29434c4e-8cd3-4b9b-82e4-b5a251d9dd19",
   "metadata": {
    "execution": {
     "iopub.execute_input": "2022-08-08T21:05:46.326425Z",
     "iopub.status.busy": "2022-08-08T21:05:46.326228Z",
     "iopub.status.idle": "2022-08-08T21:05:48.959920Z",
     "shell.execute_reply": "2022-08-08T21:05:48.959303Z"
    },
    "papermill": {
     "duration": 2.643825,
     "end_time": "2022-08-08T21:05:48.961737",
     "exception": false,
     "start_time": "2022-08-08T21:05:46.317912",
     "status": "completed"
    },
    "tags": []
   },
   "outputs": [],
   "source": [
    "with open(OUTPUT_DIR_BASE / \"gwas_variant_ids.pkl\", \"rb\") as handle:\n",
    "    gwas_variants_ids_set = pickle.load(handle)"
   ]
  },
  {
   "cell_type": "code",
   "execution_count": 13,
   "id": "b9d9dec2-4a76-4bf9-bde2-e24c95acb8a0",
   "metadata": {
    "execution": {
     "iopub.execute_input": "2022-08-08T21:05:48.977159Z",
     "iopub.status.busy": "2022-08-08T21:05:48.976968Z",
     "iopub.status.idle": "2022-08-08T21:05:48.995217Z",
     "shell.execute_reply": "2022-08-08T21:05:48.994611Z"
    },
    "papermill": {
     "duration": 0.027635,
     "end_time": "2022-08-08T21:05:48.996686",
     "exception": false,
     "start_time": "2022-08-08T21:05:48.969051",
     "status": "completed"
    },
    "tags": []
   },
   "outputs": [
    {
     "data": {
      "text/plain": [
       "8325729"
      ]
     },
     "execution_count": 13,
     "metadata": {},
     "output_type": "execute_result"
    }
   ],
   "source": [
    "len(gwas_variants_ids_set)"
   ]
  },
  {
   "cell_type": "code",
   "execution_count": 14,
   "id": "4235b06a-6034-4ee4-a0a3-2ae35d122418",
   "metadata": {
    "execution": {
     "iopub.execute_input": "2022-08-08T21:05:49.011828Z",
     "iopub.status.busy": "2022-08-08T21:05:49.011647Z",
     "iopub.status.idle": "2022-08-08T21:05:49.527789Z",
     "shell.execute_reply": "2022-08-08T21:05:49.527251Z"
    },
    "papermill": {
     "duration": 0.525218,
     "end_time": "2022-08-08T21:05:49.529257",
     "exception": false,
     "start_time": "2022-08-08T21:05:49.004039",
     "status": "completed"
    },
    "tags": []
   },
   "outputs": [
    {
     "data": {
      "text/plain": [
       "['chr1_72616856_A_G_b38',\n",
       " 'chr7_152646736_C_T_b38',\n",
       " 'chr4_123110717_C_T_b38',\n",
       " 'chr3_100520541_G_C_b38',\n",
       " 'chr1_31930536_T_C_b38']"
      ]
     },
     "execution_count": 14,
     "metadata": {},
     "output_type": "execute_result"
    }
   ],
   "source": [
    "list(gwas_variants_ids_set)[:5]"
   ]
  },
  {
   "cell_type": "markdown",
   "id": "07866999-2305-41f9-a144-e69c9122c212",
   "metadata": {
    "papermill": {
     "duration": 0.007244,
     "end_time": "2022-08-08T21:05:49.544068",
     "exception": false,
     "start_time": "2022-08-08T21:05:49.536824",
     "status": "completed"
    },
    "tags": []
   },
   "source": [
    "## S-PrediXcan tissue models"
   ]
  },
  {
   "cell_type": "code",
   "execution_count": 15,
   "id": "780611d9-77c8-405f-90a4-f271f7b09397",
   "metadata": {
    "execution": {
     "iopub.execute_input": "2022-08-08T21:05:49.560294Z",
     "iopub.status.busy": "2022-08-08T21:05:49.559842Z",
     "iopub.status.idle": "2022-08-08T21:05:50.419232Z",
     "shell.execute_reply": "2022-08-08T21:05:50.418685Z"
    },
    "papermill": {
     "duration": 0.869025,
     "end_time": "2022-08-08T21:05:50.420716",
     "exception": false,
     "start_time": "2022-08-08T21:05:49.551691",
     "status": "completed"
    },
    "tags": []
   },
   "outputs": [],
   "source": [
    "spredixcan_genes_models = pd.read_pickle(OUTPUT_DIR_BASE / \"gene_tissues.pkl\")"
   ]
  },
  {
   "cell_type": "code",
   "execution_count": 16,
   "id": "726dd1f6-9557-4225-91fa-b3b879ea96e1",
   "metadata": {
    "execution": {
     "iopub.execute_input": "2022-08-08T21:05:50.434933Z",
     "iopub.status.busy": "2022-08-08T21:05:50.434766Z",
     "iopub.status.idle": "2022-08-08T21:05:50.450730Z",
     "shell.execute_reply": "2022-08-08T21:05:50.450317Z"
    },
    "papermill": {
     "duration": 0.024359,
     "end_time": "2022-08-08T21:05:50.452041",
     "exception": false,
     "start_time": "2022-08-08T21:05:50.427682",
     "status": "completed"
    },
    "tags": []
   },
   "outputs": [
    {
     "data": {
      "text/plain": [
       "(6442, 10)"
      ]
     },
     "execution_count": 16,
     "metadata": {},
     "output_type": "execute_result"
    }
   ],
   "source": [
    "spredixcan_genes_models.shape"
   ]
  },
  {
   "cell_type": "code",
   "execution_count": 17,
   "id": "944a1b48-222c-4eb0-b252-b9de2cbca215",
   "metadata": {
    "execution": {
     "iopub.execute_input": "2022-08-08T21:05:50.466485Z",
     "iopub.status.busy": "2022-08-08T21:05:50.466282Z",
     "iopub.status.idle": "2022-08-08T21:05:50.494784Z",
     "shell.execute_reply": "2022-08-08T21:05:50.494335Z"
    },
    "papermill": {
     "duration": 0.037315,
     "end_time": "2022-08-08T21:05:50.496369",
     "exception": false,
     "start_time": "2022-08-08T21:05:50.459054",
     "status": "completed"
    },
    "tags": []
   },
   "outputs": [
    {
     "data": {
      "text/html": [
       "<div>\n",
       "<style scoped>\n",
       "    .dataframe tbody tr th:only-of-type {\n",
       "        vertical-align: middle;\n",
       "    }\n",
       "\n",
       "    .dataframe tbody tr th {\n",
       "        vertical-align: top;\n",
       "    }\n",
       "\n",
       "    .dataframe thead th {\n",
       "        text-align: right;\n",
       "    }\n",
       "</style>\n",
       "<table border=\"1\" class=\"dataframe\">\n",
       "  <thead>\n",
       "    <tr style=\"text-align: right;\">\n",
       "      <th></th>\n",
       "      <th>gene_name</th>\n",
       "      <th>tissue</th>\n",
       "      <th>n_tissues</th>\n",
       "      <th>tissues_pc_variances</th>\n",
       "      <th>tissues_pc_variances_cov</th>\n",
       "      <th>tissues_variances</th>\n",
       "      <th>n_snps_used_sum</th>\n",
       "      <th>n_snps_in_model_sum</th>\n",
       "      <th>unique_n_snps_in_model</th>\n",
       "      <th>unique_n_snps_used</th>\n",
       "    </tr>\n",
       "    <tr>\n",
       "      <th>gene_id</th>\n",
       "      <th></th>\n",
       "      <th></th>\n",
       "      <th></th>\n",
       "      <th></th>\n",
       "      <th></th>\n",
       "      <th></th>\n",
       "      <th></th>\n",
       "      <th></th>\n",
       "      <th></th>\n",
       "      <th></th>\n",
       "    </tr>\n",
       "  </thead>\n",
       "  <tbody>\n",
       "    <tr>\n",
       "      <th>ENSG00000000419</th>\n",
       "      <td>DPM1</td>\n",
       "      <td>(Brain_Substantia_nigra, Brain_Hypothalamus)</td>\n",
       "      <td>2</td>\n",
       "      <td>[1.0372585612589562, 0.9627414387410438]</td>\n",
       "      <td>[0.008284978865240098, 0.0007326748393412591]</td>\n",
       "      <td>{'Brain_Hypothalamus': 0.0082838613770255, 'Br...</td>\n",
       "      <td>2</td>\n",
       "      <td>2</td>\n",
       "      <td>2</td>\n",
       "      <td>2</td>\n",
       "    </tr>\n",
       "    <tr>\n",
       "      <th>ENSG00000000938</th>\n",
       "      <td>FGR</td>\n",
       "      <td>(Colon_Transverse, Skin_Sun_Exposed_Lower_leg,...</td>\n",
       "      <td>36</td>\n",
       "      <td>[30.57880701512373, 2.0297326456001104, 1.4017...</td>\n",
       "      <td>[0.22478471249969328, 0.008813873813031791]</td>\n",
       "      <td>{'Adipose_Visceral_Omentum': 0.001932839939705...</td>\n",
       "      <td>40</td>\n",
       "      <td>40</td>\n",
       "      <td>5</td>\n",
       "      <td>5</td>\n",
       "    </tr>\n",
       "    <tr>\n",
       "      <th>ENSG00000000971</th>\n",
       "      <td>CFH</td>\n",
       "      <td>(Colon_Transverse, Skin_Sun_Exposed_Lower_leg,...</td>\n",
       "      <td>34</td>\n",
       "      <td>[20.772608276639335, 8.177158142324833, 1.8646...</td>\n",
       "      <td>[0.1969953427958011, 0.05731825316349161, 0.02...</td>\n",
       "      <td>{'Uterus': 0.00888478850189283, 'Brain_Putamen...</td>\n",
       "      <td>44</td>\n",
       "      <td>44</td>\n",
       "      <td>12</td>\n",
       "      <td>12</td>\n",
       "    </tr>\n",
       "    <tr>\n",
       "      <th>ENSG00000001084</th>\n",
       "      <td>GCLC</td>\n",
       "      <td>(Colon_Transverse, Skin_Sun_Exposed_Lower_leg,...</td>\n",
       "      <td>32</td>\n",
       "      <td>[20.976449940269102, 4.772354749306767, 2.2362...</td>\n",
       "      <td>[0.3657809638925394, 0.1264541371042455, 0.016...</td>\n",
       "      <td>{'Brain_Putamen_basal_ganglia': 0.022230612685...</td>\n",
       "      <td>46</td>\n",
       "      <td>46</td>\n",
       "      <td>23</td>\n",
       "      <td>23</td>\n",
       "    </tr>\n",
       "    <tr>\n",
       "      <th>ENSG00000001167</th>\n",
       "      <td>NFYA</td>\n",
       "      <td>(Colon_Transverse, Skin_Sun_Exposed_Lower_leg,...</td>\n",
       "      <td>40</td>\n",
       "      <td>[37.638369782404986]</td>\n",
       "      <td>[1.4787144508923984, 0.049690618387739166]</td>\n",
       "      <td>{'Adipose_Visceral_Omentum': 0.037274400234795...</td>\n",
       "      <td>47</td>\n",
       "      <td>48</td>\n",
       "      <td>14</td>\n",
       "      <td>13</td>\n",
       "    </tr>\n",
       "  </tbody>\n",
       "</table>\n",
       "</div>"
      ],
      "text/plain": [
       "                gene_name                                             tissue  \\\n",
       "gene_id                                                                        \n",
       "ENSG00000000419      DPM1       (Brain_Substantia_nigra, Brain_Hypothalamus)   \n",
       "ENSG00000000938       FGR  (Colon_Transverse, Skin_Sun_Exposed_Lower_leg,...   \n",
       "ENSG00000000971       CFH  (Colon_Transverse, Skin_Sun_Exposed_Lower_leg,...   \n",
       "ENSG00000001084      GCLC  (Colon_Transverse, Skin_Sun_Exposed_Lower_leg,...   \n",
       "ENSG00000001167      NFYA  (Colon_Transverse, Skin_Sun_Exposed_Lower_leg,...   \n",
       "\n",
       "                 n_tissues                               tissues_pc_variances  \\\n",
       "gene_id                                                                         \n",
       "ENSG00000000419          2           [1.0372585612589562, 0.9627414387410438]   \n",
       "ENSG00000000938         36  [30.57880701512373, 2.0297326456001104, 1.4017...   \n",
       "ENSG00000000971         34  [20.772608276639335, 8.177158142324833, 1.8646...   \n",
       "ENSG00000001084         32  [20.976449940269102, 4.772354749306767, 2.2362...   \n",
       "ENSG00000001167         40                               [37.638369782404986]   \n",
       "\n",
       "                                          tissues_pc_variances_cov  \\\n",
       "gene_id                                                              \n",
       "ENSG00000000419      [0.008284978865240098, 0.0007326748393412591]   \n",
       "ENSG00000000938        [0.22478471249969328, 0.008813873813031791]   \n",
       "ENSG00000000971  [0.1969953427958011, 0.05731825316349161, 0.02...   \n",
       "ENSG00000001084  [0.3657809638925394, 0.1264541371042455, 0.016...   \n",
       "ENSG00000001167         [1.4787144508923984, 0.049690618387739166]   \n",
       "\n",
       "                                                 tissues_variances  \\\n",
       "gene_id                                                              \n",
       "ENSG00000000419  {'Brain_Hypothalamus': 0.0082838613770255, 'Br...   \n",
       "ENSG00000000938  {'Adipose_Visceral_Omentum': 0.001932839939705...   \n",
       "ENSG00000000971  {'Uterus': 0.00888478850189283, 'Brain_Putamen...   \n",
       "ENSG00000001084  {'Brain_Putamen_basal_ganglia': 0.022230612685...   \n",
       "ENSG00000001167  {'Adipose_Visceral_Omentum': 0.037274400234795...   \n",
       "\n",
       "                 n_snps_used_sum  n_snps_in_model_sum  unique_n_snps_in_model  \\\n",
       "gene_id                                                                         \n",
       "ENSG00000000419                2                    2                       2   \n",
       "ENSG00000000938               40                   40                       5   \n",
       "ENSG00000000971               44                   44                      12   \n",
       "ENSG00000001084               46                   46                      23   \n",
       "ENSG00000001167               47                   48                      14   \n",
       "\n",
       "                 unique_n_snps_used  \n",
       "gene_id                              \n",
       "ENSG00000000419                   2  \n",
       "ENSG00000000938                   5  \n",
       "ENSG00000000971                  12  \n",
       "ENSG00000001084                  23  \n",
       "ENSG00000001167                  13  "
      ]
     },
     "execution_count": 17,
     "metadata": {},
     "output_type": "execute_result"
    }
   ],
   "source": [
    "spredixcan_genes_models.head()"
   ]
  },
  {
   "cell_type": "code",
   "execution_count": 18,
   "id": "d1c11bb1-be0b-4f40-b360-633d6827109f",
   "metadata": {
    "execution": {
     "iopub.execute_input": "2022-08-08T21:05:50.510705Z",
     "iopub.status.busy": "2022-08-08T21:05:50.510543Z",
     "iopub.status.idle": "2022-08-08T21:05:50.525222Z",
     "shell.execute_reply": "2022-08-08T21:05:50.524816Z"
    },
    "papermill": {
     "duration": 0.023311,
     "end_time": "2022-08-08T21:05:50.526546",
     "exception": false,
     "start_time": "2022-08-08T21:05:50.503235",
     "status": "completed"
    },
    "tags": []
   },
   "outputs": [],
   "source": [
    "assert spredixcan_genes_models.index.is_unique"
   ]
  },
  {
   "cell_type": "markdown",
   "id": "a5b5092c-a13e-47c4-a92a-480fcc08f3ae",
   "metadata": {
    "papermill": {
     "duration": 0.006574,
     "end_time": "2022-08-08T21:05:50.540185",
     "exception": false,
     "start_time": "2022-08-08T21:05:50.533611",
     "status": "completed"
    },
    "tags": []
   },
   "source": [
    "## Gene info"
   ]
  },
  {
   "cell_type": "code",
   "execution_count": 19,
   "id": "7d6bb224-88e9-4358-ac10-43a41d92cdad",
   "metadata": {
    "execution": {
     "iopub.execute_input": "2022-08-08T21:05:50.554052Z",
     "iopub.status.busy": "2022-08-08T21:05:50.553851Z",
     "iopub.status.idle": "2022-08-08T21:05:50.570107Z",
     "shell.execute_reply": "2022-08-08T21:05:50.569696Z"
    },
    "papermill": {
     "duration": 0.02479,
     "end_time": "2022-08-08T21:05:50.571483",
     "exception": false,
     "start_time": "2022-08-08T21:05:50.546693",
     "status": "completed"
    },
    "tags": []
   },
   "outputs": [],
   "source": [
    "genes_info = pd.read_pickle(OUTPUT_DIR_BASE / \"genes_info.pkl\")"
   ]
  },
  {
   "cell_type": "code",
   "execution_count": 20,
   "id": "9e32abfa-546d-483e-8c18-d526e9e05903",
   "metadata": {
    "execution": {
     "iopub.execute_input": "2022-08-08T21:05:50.585946Z",
     "iopub.status.busy": "2022-08-08T21:05:50.585744Z",
     "iopub.status.idle": "2022-08-08T21:05:50.601908Z",
     "shell.execute_reply": "2022-08-08T21:05:50.601378Z"
    },
    "papermill": {
     "duration": 0.024827,
     "end_time": "2022-08-08T21:05:50.603279",
     "exception": false,
     "start_time": "2022-08-08T21:05:50.578452",
     "status": "completed"
    },
    "tags": []
   },
   "outputs": [
    {
     "data": {
      "text/plain": [
       "(6442, 7)"
      ]
     },
     "execution_count": 20,
     "metadata": {},
     "output_type": "execute_result"
    }
   ],
   "source": [
    "genes_info.shape"
   ]
  },
  {
   "cell_type": "code",
   "execution_count": 21,
   "id": "d16c3e92-85ec-468a-9a56-e25a9774a1cb",
   "metadata": {
    "execution": {
     "iopub.execute_input": "2022-08-08T21:05:50.618646Z",
     "iopub.status.busy": "2022-08-08T21:05:50.618310Z",
     "iopub.status.idle": "2022-08-08T21:05:50.638452Z",
     "shell.execute_reply": "2022-08-08T21:05:50.637959Z"
    },
    "papermill": {
     "duration": 0.029105,
     "end_time": "2022-08-08T21:05:50.639681",
     "exception": false,
     "start_time": "2022-08-08T21:05:50.610576",
     "status": "completed"
    },
    "tags": []
   },
   "outputs": [
    {
     "data": {
      "text/html": [
       "<div>\n",
       "<style scoped>\n",
       "    .dataframe tbody tr th:only-of-type {\n",
       "        vertical-align: middle;\n",
       "    }\n",
       "\n",
       "    .dataframe tbody tr th {\n",
       "        vertical-align: top;\n",
       "    }\n",
       "\n",
       "    .dataframe thead th {\n",
       "        text-align: right;\n",
       "    }\n",
       "</style>\n",
       "<table border=\"1\" class=\"dataframe\">\n",
       "  <thead>\n",
       "    <tr style=\"text-align: right;\">\n",
       "      <th></th>\n",
       "      <th>name</th>\n",
       "      <th>id</th>\n",
       "      <th>chr</th>\n",
       "      <th>band</th>\n",
       "      <th>start_position</th>\n",
       "      <th>end_position</th>\n",
       "      <th>gene_length</th>\n",
       "    </tr>\n",
       "  </thead>\n",
       "  <tbody>\n",
       "    <tr>\n",
       "      <th>0</th>\n",
       "      <td>CTSF</td>\n",
       "      <td>ENSG00000174080</td>\n",
       "      <td>11</td>\n",
       "      <td>11q13.2</td>\n",
       "      <td>66563464</td>\n",
       "      <td>66568841</td>\n",
       "      <td>5377</td>\n",
       "    </tr>\n",
       "    <tr>\n",
       "      <th>1</th>\n",
       "      <td>GUCY2D</td>\n",
       "      <td>ENSG00000132518</td>\n",
       "      <td>17</td>\n",
       "      <td>17p13.1</td>\n",
       "      <td>8002594</td>\n",
       "      <td>8020339</td>\n",
       "      <td>17745</td>\n",
       "    </tr>\n",
       "    <tr>\n",
       "      <th>2</th>\n",
       "      <td>NDUFB8</td>\n",
       "      <td>ENSG00000166136</td>\n",
       "      <td>10</td>\n",
       "      <td>10q24.31</td>\n",
       "      <td>100523740</td>\n",
       "      <td>100530000</td>\n",
       "      <td>6260</td>\n",
       "    </tr>\n",
       "    <tr>\n",
       "      <th>3</th>\n",
       "      <td>KIF5B</td>\n",
       "      <td>ENSG00000170759</td>\n",
       "      <td>10</td>\n",
       "      <td>10p11.22</td>\n",
       "      <td>32009015</td>\n",
       "      <td>32056425</td>\n",
       "      <td>47410</td>\n",
       "    </tr>\n",
       "    <tr>\n",
       "      <th>4</th>\n",
       "      <td>SAE1</td>\n",
       "      <td>ENSG00000142230</td>\n",
       "      <td>19</td>\n",
       "      <td>19q13.32</td>\n",
       "      <td>47113274</td>\n",
       "      <td>47210636</td>\n",
       "      <td>97362</td>\n",
       "    </tr>\n",
       "  </tbody>\n",
       "</table>\n",
       "</div>"
      ],
      "text/plain": [
       "     name               id  chr      band  start_position  end_position  \\\n",
       "0    CTSF  ENSG00000174080   11   11q13.2        66563464      66568841   \n",
       "1  GUCY2D  ENSG00000132518   17   17p13.1         8002594       8020339   \n",
       "2  NDUFB8  ENSG00000166136   10  10q24.31       100523740     100530000   \n",
       "3   KIF5B  ENSG00000170759   10  10p11.22        32009015      32056425   \n",
       "4    SAE1  ENSG00000142230   19  19q13.32        47113274      47210636   \n",
       "\n",
       "   gene_length  \n",
       "0         5377  \n",
       "1        17745  \n",
       "2         6260  \n",
       "3        47410  \n",
       "4        97362  "
      ]
     },
     "execution_count": 21,
     "metadata": {},
     "output_type": "execute_result"
    }
   ],
   "source": [
    "genes_info.head()"
   ]
  },
  {
   "cell_type": "markdown",
   "id": "d3843e06",
   "metadata": {
    "papermill": {
     "duration": 0.006953,
     "end_time": "2022-08-08T21:05:50.653745",
     "exception": false,
     "start_time": "2022-08-08T21:05:50.646792",
     "status": "completed"
    },
    "tags": []
   },
   "source": [
    "# Compute correlations"
   ]
  },
  {
   "cell_type": "code",
   "execution_count": 22,
   "id": "cb859c15-d1f3-4006-a74c-2b83c0db9611",
   "metadata": {
    "execution": {
     "iopub.execute_input": "2022-08-08T21:05:50.668486Z",
     "iopub.status.busy": "2022-08-08T21:05:50.668090Z",
     "iopub.status.idle": "2022-08-08T21:05:50.683043Z",
     "shell.execute_reply": "2022-08-08T21:05:50.682586Z"
    },
    "papermill": {
     "duration": 0.023741,
     "end_time": "2022-08-08T21:05:50.684332",
     "exception": false,
     "start_time": "2022-08-08T21:05:50.660591",
     "status": "completed"
    },
    "tags": []
   },
   "outputs": [
    {
     "data": {
      "text/plain": [
       "PosixPath('/opt/data/results/gls/gene_corrs/cohorts/1000g_eur/1000g/mashr/by_chr/gene_corrs-chr13.pkl')"
      ]
     },
     "metadata": {},
     "output_type": "display_data"
    }
   ],
   "source": [
    "output_dir = OUTPUT_DIR_BASE / \"by_chr\"\n",
    "output_dir.mkdir(exist_ok=True, parents=True)\n",
    "output_file = output_dir / f\"gene_corrs-chr{CHROMOSOME}.pkl\"\n",
    "display(output_file)"
   ]
  },
  {
   "cell_type": "code",
   "execution_count": 23,
   "id": "aa674fe4-6794-4eed-98fa-32b39d1d4ace",
   "metadata": {
    "execution": {
     "iopub.execute_input": "2022-08-08T21:05:50.699600Z",
     "iopub.status.busy": "2022-08-08T21:05:50.699297Z",
     "iopub.status.idle": "2022-08-08T21:05:50.714402Z",
     "shell.execute_reply": "2022-08-08T21:05:50.714011Z"
    },
    "papermill": {
     "duration": 0.024084,
     "end_time": "2022-08-08T21:05:50.715748",
     "exception": false,
     "start_time": "2022-08-08T21:05:50.691664",
     "status": "completed"
    },
    "tags": []
   },
   "outputs": [],
   "source": [
    "warnings.filterwarnings(\"error\")"
   ]
  },
  {
   "cell_type": "code",
   "execution_count": 24,
   "id": "44d5450b-3baf-43f1-9e2e-4b06f1a785f8",
   "metadata": {
    "execution": {
     "iopub.execute_input": "2022-08-08T21:05:50.731331Z",
     "iopub.status.busy": "2022-08-08T21:05:50.731026Z",
     "iopub.status.idle": "2022-08-08T21:05:50.745698Z",
     "shell.execute_reply": "2022-08-08T21:05:50.745260Z"
    },
    "papermill": {
     "duration": 0.023971,
     "end_time": "2022-08-08T21:05:50.747008",
     "exception": false,
     "start_time": "2022-08-08T21:05:50.723037",
     "status": "completed"
    },
    "tags": []
   },
   "outputs": [],
   "source": [
    "# standard checks\n",
    "all_chrs = genes_info[\"chr\"].dropna().unique()\n",
    "assert all_chrs.shape[0] == 22\n",
    "\n",
    "# select chromosome given by the user\n",
    "assert CHROMOSOME in all_chrs"
   ]
  },
  {
   "cell_type": "code",
   "execution_count": 25,
   "id": "2d7c043c-92a7-4d35-991b-fa69ac1e0268",
   "metadata": {
    "execution": {
     "iopub.execute_input": "2022-08-08T21:05:50.762175Z",
     "iopub.status.busy": "2022-08-08T21:05:50.761858Z",
     "iopub.status.idle": "2022-08-08T21:05:50.796259Z",
     "shell.execute_reply": "2022-08-08T21:05:50.795799Z"
    },
    "papermill": {
     "duration": 0.043575,
     "end_time": "2022-08-08T21:05:50.797719",
     "exception": false,
     "start_time": "2022-08-08T21:05:50.754144",
     "status": "completed"
    },
    "tags": []
   },
   "outputs": [
    {
     "name": "stdout",
     "output_type": "stream",
     "text": [
      "Number of genes in chromosome: 118\n"
     ]
    }
   ],
   "source": [
    "# run only on the chromosome specified\n",
    "all_chrs = [CHROMOSOME]\n",
    "genes_chr = genes_info[genes_info[\"chr\"] == CHROMOSOME]\n",
    "\n",
    "# For testing purposes\n",
    "# genes_chr = genes_chr.sample(n=20)\n",
    "\n",
    "print(f\"Number of genes in chromosome: {genes_chr.shape[0]}\", flush=True)"
   ]
  },
  {
   "cell_type": "code",
   "execution_count": 26,
   "id": "916015d8-2979-46d3-a9b9-1cf5a0932c6a",
   "metadata": {
    "execution": {
     "iopub.execute_input": "2022-08-08T21:05:50.813647Z",
     "iopub.status.busy": "2022-08-08T21:05:50.813476Z",
     "iopub.status.idle": "2022-08-08T21:05:50.828411Z",
     "shell.execute_reply": "2022-08-08T21:05:50.828011Z"
    },
    "papermill": {
     "duration": 0.024176,
     "end_time": "2022-08-08T21:05:50.829670",
     "exception": false,
     "start_time": "2022-08-08T21:05:50.805494",
     "status": "completed"
    },
    "tags": []
   },
   "outputs": [],
   "source": [
    "# sort genes by starting position to make visualizations better later\n",
    "genes_chr = genes_chr.sort_values(\"start_position\")"
   ]
  },
  {
   "cell_type": "code",
   "execution_count": 27,
   "id": "a38aa74a-8ad3-47f6-8ef9-56be0e011774",
   "metadata": {
    "execution": {
     "iopub.execute_input": "2022-08-08T21:05:50.845365Z",
     "iopub.status.busy": "2022-08-08T21:05:50.845078Z",
     "iopub.status.idle": "2022-08-08T21:05:50.860208Z",
     "shell.execute_reply": "2022-08-08T21:05:50.859689Z"
    },
    "papermill": {
     "duration": 0.024739,
     "end_time": "2022-08-08T21:05:50.861629",
     "exception": false,
     "start_time": "2022-08-08T21:05:50.836890",
     "status": "completed"
    },
    "tags": []
   },
   "outputs": [],
   "source": [
    "gene_chr_objs = [Gene(ensembl_id=gene_id) for gene_id in genes_chr[\"id\"]]"
   ]
  },
  {
   "cell_type": "code",
   "execution_count": 28,
   "id": "570f974f-13c3-42b6-ad3a-ce99ca885c1a",
   "metadata": {
    "execution": {
     "iopub.execute_input": "2022-08-08T21:05:50.877151Z",
     "iopub.status.busy": "2022-08-08T21:05:50.876645Z",
     "iopub.status.idle": "2022-08-08T21:05:50.892163Z",
     "shell.execute_reply": "2022-08-08T21:05:50.891608Z"
    },
    "papermill": {
     "duration": 0.024489,
     "end_time": "2022-08-08T21:05:50.893441",
     "exception": false,
     "start_time": "2022-08-08T21:05:50.868952",
     "status": "completed"
    },
    "tags": []
   },
   "outputs": [
    {
     "name": "stdout",
     "output_type": "stream",
     "text": [
      "Number of gene combinations: 6903\n"
     ]
    }
   ],
   "source": [
    "n = len(gene_chr_objs)\n",
    "n_comb = int(n * (n - 1) / 2.0)\n",
    "print(f\"Number of gene combinations: {n_comb}\", flush=True)"
   ]
  },
  {
   "cell_type": "code",
   "execution_count": 29,
   "id": "cdbb90a1",
   "metadata": {
    "execution": {
     "iopub.execute_input": "2022-08-08T21:05:50.909499Z",
     "iopub.status.busy": "2022-08-08T21:05:50.909044Z",
     "iopub.status.idle": "2022-08-08T21:14:26.862613Z",
     "shell.execute_reply": "2022-08-08T21:14:26.862221Z"
    },
    "papermill": {
     "duration": 515.963011,
     "end_time": "2022-08-08T21:14:26.863921",
     "exception": false,
     "start_time": "2022-08-08T21:05:50.900910",
     "status": "completed"
    },
    "tags": []
   },
   "outputs": [
    {
     "name": "stderr",
     "output_type": "stream",
     "text": [
      "ENSG00000130177 / ENSG00000169062: 100%|████████████████████████| 6903/6903 [08:35<00:00, 13.38it/s]\n"
     ]
    },
    {
     "data": {
      "text/plain": [
       "PosixPath('/opt/data/results/gls/gene_corrs/cohorts/1000g_eur/1000g/mashr/by_chr/gene_corrs-chr13.pkl')"
      ]
     },
     "metadata": {},
     "output_type": "display_data"
    }
   ],
   "source": [
    "gene_corrs = []\n",
    "\n",
    "i = 0\n",
    "with tqdm(ncols=100, total=n_comb) as pbar:\n",
    "    for gene1_idx in range(0, len(gene_chr_objs) - 1):\n",
    "        gene1_obj = gene_chr_objs[gene1_idx]\n",
    "        gene1_tissues = spredixcan_genes_models.loc[gene1_obj.ensembl_id, \"tissue\"]\n",
    "\n",
    "        for gene2_idx in range(gene1_idx + 1, len(gene_chr_objs)):\n",
    "            gene2_obj = gene_chr_objs[gene2_idx]\n",
    "            gene2_tissues = spredixcan_genes_models.loc[gene2_obj.ensembl_id, \"tissue\"]\n",
    "\n",
    "            pbar.set_description(f\"{gene1_obj.ensembl_id} / {gene2_obj.ensembl_id}\")\n",
    "\n",
    "            try:\n",
    "                r = gene1_obj.get_ssm_correlation(\n",
    "                    other_gene=gene2_obj,\n",
    "                    tissues=gene1_tissues,\n",
    "                    other_tissues=gene2_tissues,\n",
    "                    snps_subset=gwas_variants_ids_set,\n",
    "                    condition_number=SMULTIXCAN_CONDITION_NUMBER,\n",
    "                    reference_panel=REFERENCE_PANEL,\n",
    "                    model_type=EQTL_MODEL,\n",
    "                    use_within_distance=COMPUTE_CORRELATIONS_WITHIN_DISTANCE,\n",
    "                )\n",
    "\n",
    "                if r is None:\n",
    "                    # if r is None, it's very likely because:\n",
    "                    #  * one of the genes has no prediction models\n",
    "                    #  * all the SNPs predictors for the gene are not present in the reference\n",
    "                    #    panel\n",
    "\n",
    "                    r = 0.0\n",
    "\n",
    "                gene_corrs.append(r)\n",
    "            except Warning as e:\n",
    "                if not DEBUG_MODE:\n",
    "                    raise e\n",
    "\n",
    "                print(\n",
    "                    f\"RuntimeWarning for genes {gene1_obj.ensembl_id} and {gene2_obj.ensembl_id}\",\n",
    "                    flush=True,\n",
    "                )\n",
    "                print(traceback.format_exc(), flush=True)\n",
    "\n",
    "                gene_corrs.append(np.nan)\n",
    "            except Exception as e:\n",
    "                if not DEBUG_MODE:\n",
    "                    raise e\n",
    "\n",
    "                print(\n",
    "                    f\"Exception for genes {gene1_obj.ensembl_id} and {gene2_obj.ensembl_id}\",\n",
    "                    flush=True,\n",
    "                )\n",
    "                print(traceback.format_exc(), flush=True)\n",
    "\n",
    "                gene_corrs.append(np.nan)\n",
    "\n",
    "            pbar.update(1)\n",
    "\n",
    "# create a pandas series\n",
    "gene_corrs_flat = pd.Series(gene_corrs)\n",
    "\n",
    "# save\n",
    "# FIXME: consider saving only the condenced matrix here. See here for\n",
    "# more details: https://github.com/greenelab/phenoplier/pull/38#discussion_r634600813\n",
    "gene_corrs_data = squareform(np.array(gene_corrs, dtype=np.float64))\n",
    "np.fill_diagonal(gene_corrs_data, 1.0)\n",
    "\n",
    "gene_chr_ids = [g.ensembl_id for g in gene_chr_objs]\n",
    "gene_corrs_df = pd.DataFrame(\n",
    "    data=gene_corrs_data,\n",
    "    index=gene_chr_ids,\n",
    "    columns=gene_chr_ids,\n",
    ")\n",
    "\n",
    "output_dir.mkdir(exist_ok=True, parents=True)\n",
    "display(output_file)\n",
    "\n",
    "gene_corrs_df.to_pickle(output_file)"
   ]
  },
  {
   "cell_type": "markdown",
   "id": "faa67b51-5373-470f-aa72-2ded53fa6dfe",
   "metadata": {
    "papermill": {
     "duration": 0.37989,
     "end_time": "2022-08-08T21:14:27.600455",
     "exception": false,
     "start_time": "2022-08-08T21:14:27.220565",
     "status": "completed"
    },
    "tags": []
   },
   "source": [
    "# Testing"
   ]
  },
  {
   "cell_type": "code",
   "execution_count": 30,
   "id": "14f7d046-4b55-4896-a56b-990127bcc388",
   "metadata": {
    "execution": {
     "iopub.execute_input": "2022-08-08T21:14:28.340161Z",
     "iopub.status.busy": "2022-08-08T21:14:28.339972Z",
     "iopub.status.idle": "2022-08-08T21:14:28.358572Z",
     "shell.execute_reply": "2022-08-08T21:14:28.357930Z"
    },
    "papermill": {
     "duration": 0.418702,
     "end_time": "2022-08-08T21:14:28.360123",
     "exception": false,
     "start_time": "2022-08-08T21:14:27.941421",
     "status": "completed"
    },
    "tags": []
   },
   "outputs": [
    {
     "data": {
      "text/plain": [
       "(118, 118)"
      ]
     },
     "execution_count": 30,
     "metadata": {},
     "output_type": "execute_result"
    }
   ],
   "source": [
    "gene_corrs_df.shape"
   ]
  },
  {
   "cell_type": "code",
   "execution_count": 31,
   "id": "c7d15414-3297-4537-a7c6-7588c0baeb75",
   "metadata": {
    "execution": {
     "iopub.execute_input": "2022-08-08T21:14:29.046592Z",
     "iopub.status.busy": "2022-08-08T21:14:29.046413Z",
     "iopub.status.idle": "2022-08-08T21:14:29.089817Z",
     "shell.execute_reply": "2022-08-08T21:14:29.089241Z"
    },
    "papermill": {
     "duration": 0.390962,
     "end_time": "2022-08-08T21:14:29.091494",
     "exception": false,
     "start_time": "2022-08-08T21:14:28.700532",
     "status": "completed"
    },
    "tags": []
   },
   "outputs": [
    {
     "data": {
      "text/html": [
       "<div>\n",
       "<style scoped>\n",
       "    .dataframe tbody tr th:only-of-type {\n",
       "        vertical-align: middle;\n",
       "    }\n",
       "\n",
       "    .dataframe tbody tr th {\n",
       "        vertical-align: top;\n",
       "    }\n",
       "\n",
       "    .dataframe thead th {\n",
       "        text-align: right;\n",
       "    }\n",
       "</style>\n",
       "<table border=\"1\" class=\"dataframe\">\n",
       "  <thead>\n",
       "    <tr style=\"text-align: right;\">\n",
       "      <th></th>\n",
       "      <th>ENSG00000121741</th>\n",
       "      <th>ENSG00000121743</th>\n",
       "      <th>ENSG00000121742</th>\n",
       "      <th>ENSG00000032742</th>\n",
       "      <th>ENSG00000150457</th>\n",
       "      <th>ENSG00000150459</th>\n",
       "      <th>ENSG00000102678</th>\n",
       "      <th>ENSG00000127863</th>\n",
       "      <th>ENSG00000228741</th>\n",
       "      <th>ENSG00000102699</th>\n",
       "      <th>...</th>\n",
       "      <th>ENSG00000126217</th>\n",
       "      <th>ENSG00000057593</th>\n",
       "      <th>ENSG00000126231</th>\n",
       "      <th>ENSG00000139842</th>\n",
       "      <th>ENSG00000185896</th>\n",
       "      <th>ENSG00000198176</th>\n",
       "      <th>ENSG00000183087</th>\n",
       "      <th>ENSG00000185989</th>\n",
       "      <th>ENSG00000130177</th>\n",
       "      <th>ENSG00000169062</th>\n",
       "    </tr>\n",
       "  </thead>\n",
       "  <tbody>\n",
       "    <tr>\n",
       "      <th>ENSG00000121741</th>\n",
       "      <td>1.000000</td>\n",
       "      <td>0.024613</td>\n",
       "      <td>0.001492</td>\n",
       "      <td>0.003548</td>\n",
       "      <td>0.003639</td>\n",
       "      <td>0.008662</td>\n",
       "      <td>0.002423</td>\n",
       "      <td>0.007004</td>\n",
       "      <td>0.008166</td>\n",
       "      <td>0.003152</td>\n",
       "      <td>...</td>\n",
       "      <td>0.007279</td>\n",
       "      <td>0.001116</td>\n",
       "      <td>0.006852</td>\n",
       "      <td>0.005484</td>\n",
       "      <td>0.006947</td>\n",
       "      <td>0.002988</td>\n",
       "      <td>0.008084</td>\n",
       "      <td>0.006641</td>\n",
       "      <td>0.001595</td>\n",
       "      <td>0.002074</td>\n",
       "    </tr>\n",
       "    <tr>\n",
       "      <th>ENSG00000121743</th>\n",
       "      <td>0.024613</td>\n",
       "      <td>1.000000</td>\n",
       "      <td>0.021914</td>\n",
       "      <td>0.011446</td>\n",
       "      <td>0.011739</td>\n",
       "      <td>0.015606</td>\n",
       "      <td>0.005606</td>\n",
       "      <td>0.013557</td>\n",
       "      <td>0.012553</td>\n",
       "      <td>0.010330</td>\n",
       "      <td>...</td>\n",
       "      <td>0.020927</td>\n",
       "      <td>0.007494</td>\n",
       "      <td>0.008356</td>\n",
       "      <td>0.013306</td>\n",
       "      <td>0.014509</td>\n",
       "      <td>0.010368</td>\n",
       "      <td>0.015935</td>\n",
       "      <td>0.017481</td>\n",
       "      <td>0.006573</td>\n",
       "      <td>0.010895</td>\n",
       "    </tr>\n",
       "    <tr>\n",
       "      <th>ENSG00000121742</th>\n",
       "      <td>0.001492</td>\n",
       "      <td>0.021914</td>\n",
       "      <td>1.000000</td>\n",
       "      <td>0.012936</td>\n",
       "      <td>0.004079</td>\n",
       "      <td>0.009687</td>\n",
       "      <td>0.011754</td>\n",
       "      <td>0.010938</td>\n",
       "      <td>0.015156</td>\n",
       "      <td>0.010538</td>\n",
       "      <td>...</td>\n",
       "      <td>0.018975</td>\n",
       "      <td>0.005844</td>\n",
       "      <td>0.005124</td>\n",
       "      <td>0.009142</td>\n",
       "      <td>0.007948</td>\n",
       "      <td>0.007054</td>\n",
       "      <td>0.015231</td>\n",
       "      <td>0.015358</td>\n",
       "      <td>0.004793</td>\n",
       "      <td>0.005011</td>\n",
       "    </tr>\n",
       "    <tr>\n",
       "      <th>ENSG00000032742</th>\n",
       "      <td>0.003548</td>\n",
       "      <td>0.011446</td>\n",
       "      <td>0.012936</td>\n",
       "      <td>1.000000</td>\n",
       "      <td>0.018501</td>\n",
       "      <td>0.010798</td>\n",
       "      <td>0.015445</td>\n",
       "      <td>0.013732</td>\n",
       "      <td>0.007938</td>\n",
       "      <td>0.005516</td>\n",
       "      <td>...</td>\n",
       "      <td>0.008975</td>\n",
       "      <td>0.002511</td>\n",
       "      <td>0.006473</td>\n",
       "      <td>0.003935</td>\n",
       "      <td>0.009126</td>\n",
       "      <td>0.008815</td>\n",
       "      <td>0.014643</td>\n",
       "      <td>0.013683</td>\n",
       "      <td>0.010212</td>\n",
       "      <td>0.009735</td>\n",
       "    </tr>\n",
       "    <tr>\n",
       "      <th>ENSG00000150457</th>\n",
       "      <td>0.003639</td>\n",
       "      <td>0.011739</td>\n",
       "      <td>0.004079</td>\n",
       "      <td>0.018501</td>\n",
       "      <td>1.000000</td>\n",
       "      <td>0.008830</td>\n",
       "      <td>0.005361</td>\n",
       "      <td>0.009503</td>\n",
       "      <td>0.009976</td>\n",
       "      <td>0.005388</td>\n",
       "      <td>...</td>\n",
       "      <td>0.006938</td>\n",
       "      <td>0.003229</td>\n",
       "      <td>0.002438</td>\n",
       "      <td>0.002860</td>\n",
       "      <td>0.011085</td>\n",
       "      <td>0.003664</td>\n",
       "      <td>0.012050</td>\n",
       "      <td>0.011360</td>\n",
       "      <td>0.007059</td>\n",
       "      <td>0.007655</td>\n",
       "    </tr>\n",
       "  </tbody>\n",
       "</table>\n",
       "<p>5 rows × 118 columns</p>\n",
       "</div>"
      ],
      "text/plain": [
       "                 ENSG00000121741  ENSG00000121743  ENSG00000121742  \\\n",
       "ENSG00000121741         1.000000         0.024613         0.001492   \n",
       "ENSG00000121743         0.024613         1.000000         0.021914   \n",
       "ENSG00000121742         0.001492         0.021914         1.000000   \n",
       "ENSG00000032742         0.003548         0.011446         0.012936   \n",
       "ENSG00000150457         0.003639         0.011739         0.004079   \n",
       "\n",
       "                 ENSG00000032742  ENSG00000150457  ENSG00000150459  \\\n",
       "ENSG00000121741         0.003548         0.003639         0.008662   \n",
       "ENSG00000121743         0.011446         0.011739         0.015606   \n",
       "ENSG00000121742         0.012936         0.004079         0.009687   \n",
       "ENSG00000032742         1.000000         0.018501         0.010798   \n",
       "ENSG00000150457         0.018501         1.000000         0.008830   \n",
       "\n",
       "                 ENSG00000102678  ENSG00000127863  ENSG00000228741  \\\n",
       "ENSG00000121741         0.002423         0.007004         0.008166   \n",
       "ENSG00000121743         0.005606         0.013557         0.012553   \n",
       "ENSG00000121742         0.011754         0.010938         0.015156   \n",
       "ENSG00000032742         0.015445         0.013732         0.007938   \n",
       "ENSG00000150457         0.005361         0.009503         0.009976   \n",
       "\n",
       "                 ENSG00000102699  ...  ENSG00000126217  ENSG00000057593  \\\n",
       "ENSG00000121741         0.003152  ...         0.007279         0.001116   \n",
       "ENSG00000121743         0.010330  ...         0.020927         0.007494   \n",
       "ENSG00000121742         0.010538  ...         0.018975         0.005844   \n",
       "ENSG00000032742         0.005516  ...         0.008975         0.002511   \n",
       "ENSG00000150457         0.005388  ...         0.006938         0.003229   \n",
       "\n",
       "                 ENSG00000126231  ENSG00000139842  ENSG00000185896  \\\n",
       "ENSG00000121741         0.006852         0.005484         0.006947   \n",
       "ENSG00000121743         0.008356         0.013306         0.014509   \n",
       "ENSG00000121742         0.005124         0.009142         0.007948   \n",
       "ENSG00000032742         0.006473         0.003935         0.009126   \n",
       "ENSG00000150457         0.002438         0.002860         0.011085   \n",
       "\n",
       "                 ENSG00000198176  ENSG00000183087  ENSG00000185989  \\\n",
       "ENSG00000121741         0.002988         0.008084         0.006641   \n",
       "ENSG00000121743         0.010368         0.015935         0.017481   \n",
       "ENSG00000121742         0.007054         0.015231         0.015358   \n",
       "ENSG00000032742         0.008815         0.014643         0.013683   \n",
       "ENSG00000150457         0.003664         0.012050         0.011360   \n",
       "\n",
       "                 ENSG00000130177  ENSG00000169062  \n",
       "ENSG00000121741         0.001595         0.002074  \n",
       "ENSG00000121743         0.006573         0.010895  \n",
       "ENSG00000121742         0.004793         0.005011  \n",
       "ENSG00000032742         0.010212         0.009735  \n",
       "ENSG00000150457         0.007059         0.007655  \n",
       "\n",
       "[5 rows x 118 columns]"
      ]
     },
     "execution_count": 31,
     "metadata": {},
     "output_type": "execute_result"
    }
   ],
   "source": [
    "gene_corrs_df.head()"
   ]
  },
  {
   "cell_type": "markdown",
   "id": "dad6603f-01c6-41fb-a6f6-241051207dd8",
   "metadata": {
    "papermill": {
     "duration": 0.338893,
     "end_time": "2022-08-08T21:14:29.861532",
     "exception": false,
     "start_time": "2022-08-08T21:14:29.522639",
     "status": "completed"
    },
    "tags": []
   },
   "source": [
    "## Standard checks and stats"
   ]
  },
  {
   "cell_type": "code",
   "execution_count": 32,
   "id": "286686af-1b7b-4440-8453-6bdcbd8de19c",
   "metadata": {
    "execution": {
     "iopub.execute_input": "2022-08-08T21:14:30.638079Z",
     "iopub.status.busy": "2022-08-08T21:14:30.637587Z",
     "iopub.status.idle": "2022-08-08T21:14:30.664813Z",
     "shell.execute_reply": "2022-08-08T21:14:30.664413Z"
    },
    "papermill": {
     "duration": 0.37264,
     "end_time": "2022-08-08T21:14:30.666076",
     "exception": false,
     "start_time": "2022-08-08T21:14:30.293436",
     "status": "completed"
    },
    "tags": []
   },
   "outputs": [],
   "source": [
    "assert not gene_corrs_df.isna().any().any()"
   ]
  },
  {
   "cell_type": "code",
   "execution_count": 33,
   "id": "00583efc-7068-4270-ad1e-4a418e91db96",
   "metadata": {
    "execution": {
     "iopub.execute_input": "2022-08-08T21:14:31.439635Z",
     "iopub.status.busy": "2022-08-08T21:14:31.439223Z",
     "iopub.status.idle": "2022-08-08T21:14:31.457471Z",
     "shell.execute_reply": "2022-08-08T21:14:31.456919Z"
    },
    "papermill": {
     "duration": 0.384321,
     "end_time": "2022-08-08T21:14:31.458915",
     "exception": false,
     "start_time": "2022-08-08T21:14:31.074594",
     "status": "completed"
    },
    "tags": []
   },
   "outputs": [
    {
     "data": {
      "text/plain": [
       "6.251107216191769e-06"
      ]
     },
     "metadata": {},
     "output_type": "display_data"
    }
   ],
   "source": [
    "_min_val = gene_corrs_df.min().min()\n",
    "display(_min_val)\n",
    "assert _min_val >= 0.0"
   ]
  },
  {
   "cell_type": "code",
   "execution_count": 34,
   "id": "d04fb2cf-1050-475b-b855-f5f7cc04092b",
   "metadata": {
    "execution": {
     "iopub.execute_input": "2022-08-08T21:14:32.244147Z",
     "iopub.status.busy": "2022-08-08T21:14:32.243964Z",
     "iopub.status.idle": "2022-08-08T21:14:32.261785Z",
     "shell.execute_reply": "2022-08-08T21:14:32.261287Z"
    },
    "papermill": {
     "duration": 0.41933,
     "end_time": "2022-08-08T21:14:32.263109",
     "exception": false,
     "start_time": "2022-08-08T21:14:31.843779",
     "status": "completed"
    },
    "tags": []
   },
   "outputs": [
    {
     "data": {
      "text/plain": [
       "1.0"
      ]
     },
     "metadata": {},
     "output_type": "display_data"
    }
   ],
   "source": [
    "_max_val = gene_corrs_df.max().max()  # this captures the diagonal\n",
    "display(_max_val)\n",
    "assert _max_val <= 1.0"
   ]
  },
  {
   "cell_type": "code",
   "execution_count": 35,
   "id": "96d02c44-1fba-47be-8a93-8f2608420b9c",
   "metadata": {
    "execution": {
     "iopub.execute_input": "2022-08-08T21:14:33.026194Z",
     "iopub.status.busy": "2022-08-08T21:14:33.026016Z",
     "iopub.status.idle": "2022-08-08T21:14:33.041515Z",
     "shell.execute_reply": "2022-08-08T21:14:33.041112Z"
    },
    "papermill": {
     "duration": 0.399431,
     "end_time": "2022-08-08T21:14:33.042829",
     "exception": false,
     "start_time": "2022-08-08T21:14:32.643398",
     "status": "completed"
    },
    "tags": []
   },
   "outputs": [],
   "source": [
    "# check upper triangular values\n",
    "assert len(gene_corrs) == int(genes_chr.shape[0] * (genes_chr.shape[0] - 1) / 2)"
   ]
  },
  {
   "cell_type": "code",
   "execution_count": 36,
   "id": "fe283586-c348-40e0-8841-f6d97bfb021c",
   "metadata": {
    "execution": {
     "iopub.execute_input": "2022-08-08T21:14:33.830894Z",
     "iopub.status.busy": "2022-08-08T21:14:33.830362Z",
     "iopub.status.idle": "2022-08-08T21:14:33.851557Z",
     "shell.execute_reply": "2022-08-08T21:14:33.851022Z"
    },
    "papermill": {
     "duration": 0.447644,
     "end_time": "2022-08-08T21:14:33.853052",
     "exception": false,
     "start_time": "2022-08-08T21:14:33.405408",
     "status": "completed"
    },
    "tags": []
   },
   "outputs": [
    {
     "data": {
      "text/plain": [
       "count    6903.000000\n",
       "mean        0.012218\n",
       "std         0.036099\n",
       "min         0.000006\n",
       "25%         0.005963\n",
       "50%         0.008791\n",
       "75%         0.012023\n",
       "max         0.977987\n",
       "dtype: float64"
      ]
     },
     "execution_count": 36,
     "metadata": {},
     "output_type": "execute_result"
    }
   ],
   "source": [
    "gene_corrs_flat.describe()"
   ]
  },
  {
   "cell_type": "code",
   "execution_count": 37,
   "id": "b3815678-0f93-4b35-897b-a9d047a2aa78",
   "metadata": {
    "execution": {
     "iopub.execute_input": "2022-08-08T21:14:34.588299Z",
     "iopub.status.busy": "2022-08-08T21:14:34.587746Z",
     "iopub.status.idle": "2022-08-08T21:14:34.607336Z",
     "shell.execute_reply": "2022-08-08T21:14:34.606757Z"
    },
    "papermill": {
     "duration": 0.395762,
     "end_time": "2022-08-08T21:14:34.608706",
     "exception": false,
     "start_time": "2022-08-08T21:14:34.212944",
     "status": "completed"
    },
    "tags": []
   },
   "outputs": [
    {
     "data": {
      "text/plain": [
       "0.00    0.000006\n",
       "0.05    0.002658\n",
       "0.10    0.003770\n",
       "0.15    0.004540\n",
       "0.20    0.005297\n",
       "0.25    0.005963\n",
       "0.30    0.006595\n",
       "0.35    0.007122\n",
       "0.40    0.007699\n",
       "0.45    0.008234\n",
       "0.50    0.008791\n",
       "0.55    0.009370\n",
       "0.60    0.009953\n",
       "0.65    0.010566\n",
       "0.70    0.011245\n",
       "0.75    0.012023\n",
       "0.80    0.012966\n",
       "0.85    0.013970\n",
       "0.90    0.015433\n",
       "0.95    0.017749\n",
       "dtype: float64"
      ]
     },
     "metadata": {},
     "output_type": "display_data"
    }
   ],
   "source": [
    "gene_corrs_quantiles = gene_corrs_flat.quantile(np.arange(0, 1, 0.05))\n",
    "display(gene_corrs_quantiles)"
   ]
  },
  {
   "cell_type": "markdown",
   "id": "87134509-b145-4a10-8bc9-b7e914c2b0fa",
   "metadata": {
    "papermill": {
     "duration": 0.358314,
     "end_time": "2022-08-08T21:14:35.305722",
     "exception": false,
     "start_time": "2022-08-08T21:14:34.947408",
     "status": "completed"
    },
    "tags": []
   },
   "source": [
    "## Positive definiteness"
   ]
  },
  {
   "cell_type": "code",
   "execution_count": 38,
   "id": "07d9a9a1-a4f7-48aa-b916-6d42a8cc6186",
   "metadata": {
    "execution": {
     "iopub.execute_input": "2022-08-08T21:14:36.027203Z",
     "iopub.status.busy": "2022-08-08T21:14:36.027012Z",
     "iopub.status.idle": "2022-08-08T21:14:36.049053Z",
     "shell.execute_reply": "2022-08-08T21:14:36.048581Z"
    },
    "papermill": {
     "duration": 0.361398,
     "end_time": "2022-08-08T21:14:36.050456",
     "exception": false,
     "start_time": "2022-08-08T21:14:35.689058",
     "status": "completed"
    },
    "tags": []
   },
   "outputs": [
    {
     "data": {
      "text/plain": [
       "0"
      ]
     },
     "metadata": {},
     "output_type": "display_data"
    },
    {
     "data": {
      "text/plain": [
       "array([], dtype=float64)"
      ]
     },
     "metadata": {},
     "output_type": "display_data"
    }
   ],
   "source": [
    "# print negative eigenvalues\n",
    "eigs = np.linalg.eigvals(gene_corrs_df.to_numpy())\n",
    "display(len(eigs[eigs < 0]))\n",
    "display(eigs[eigs < 0])"
   ]
  },
  {
   "cell_type": "code",
   "execution_count": 39,
   "id": "6e218436-c3c5-4028-8c94-a4fa6260efce",
   "metadata": {
    "execution": {
     "iopub.execute_input": "2022-08-08T21:14:36.788883Z",
     "iopub.status.busy": "2022-08-08T21:14:36.788688Z",
     "iopub.status.idle": "2022-08-08T21:14:36.828074Z",
     "shell.execute_reply": "2022-08-08T21:14:36.827633Z"
    },
    "papermill": {
     "duration": 0.387203,
     "end_time": "2022-08-08T21:14:36.829321",
     "exception": false,
     "start_time": "2022-08-08T21:14:36.442118",
     "status": "completed"
    },
    "tags": []
   },
   "outputs": [
    {
     "name": "stdout",
     "output_type": "stream",
     "text": [
      "Works!\n"
     ]
    }
   ],
   "source": [
    "try:\n",
    "    chol_mat = np.linalg.cholesky(gene_corrs_df.to_numpy())\n",
    "    cov_inv = np.linalg.inv(chol_mat)\n",
    "    print(\"Works!\")\n",
    "except:\n",
    "    print(\"Cholesky decomposition failed\")"
   ]
  },
  {
   "cell_type": "markdown",
   "id": "8e60a080-edb2-4e9c-b2ef-22961693200c",
   "metadata": {
    "papermill": {
     "duration": 0.345999,
     "end_time": "2022-08-08T21:14:37.607405",
     "exception": false,
     "start_time": "2022-08-08T21:14:37.261406",
     "status": "completed"
    },
    "tags": []
   },
   "source": [
    "## Plot: distribution"
   ]
  },
  {
   "cell_type": "code",
   "execution_count": 40,
   "id": "8301126b-a7d4-4744-9c7d-f0f86eb6f54c",
   "metadata": {
    "execution": {
     "iopub.execute_input": "2022-08-08T21:14:38.349472Z",
     "iopub.status.busy": "2022-08-08T21:14:38.349289Z",
     "iopub.status.idle": "2022-08-08T21:14:41.138620Z",
     "shell.execute_reply": "2022-08-08T21:14:41.138116Z"
    },
    "papermill": {
     "duration": 3.148556,
     "end_time": "2022-08-08T21:14:41.140216",
     "exception": false,
     "start_time": "2022-08-08T21:14:37.991660",
     "status": "completed"
    },
    "tags": []
   },
   "outputs": [
    {
     "data": {
      "image/png": "[encoded data removed]",
      "text/plain": [
       "<Figure size 504x504 with 1 Axes>"
      ]
     },
     "metadata": {
      "needs_background": "light"
     },
     "output_type": "display_data"
    }
   ],
   "source": [
    "with sns.plotting_context(\"paper\", font_scale=1.5):\n",
    "    g = sns.displot(gene_corrs_flat, kde=True, height=7)\n",
    "    g.ax.set_title(\n",
    "        f\"Distribution of gene correlation values in chromosome {CHROMOSOME}\"\n",
    "    )"
   ]
  },
  {
   "cell_type": "markdown",
   "id": "cbd52bca-d878-4a2f-b684-5c83aa3038d4",
   "metadata": {
    "papermill": {
     "duration": 0.380781,
     "end_time": "2022-08-08T21:14:41.879783",
     "exception": false,
     "start_time": "2022-08-08T21:14:41.499002",
     "status": "completed"
    },
    "tags": []
   },
   "source": [
    "## Plot: heatmap"
   ]
  },
  {
   "cell_type": "code",
   "execution_count": 41,
   "id": "d03fe63a-c7b2-4fb9-a53c-db362ce843c9",
   "metadata": {
    "execution": {
     "iopub.execute_input": "2022-08-08T21:14:42.627939Z",
     "iopub.status.busy": "2022-08-08T21:14:42.627753Z",
     "iopub.status.idle": "2022-08-08T21:14:42.645558Z",
     "shell.execute_reply": "2022-08-08T21:14:42.644991Z"
    },
    "papermill": {
     "duration": 0.407927,
     "end_time": "2022-08-08T21:14:42.646918",
     "exception": false,
     "start_time": "2022-08-08T21:14:42.238991",
     "status": "completed"
    },
    "tags": []
   },
   "outputs": [
    {
     "data": {
      "text/plain": [
       "'0.0 / 0.05'"
      ]
     },
     "metadata": {},
     "output_type": "display_data"
    }
   ],
   "source": [
    "vmin_val = min(0.00, gene_corrs_quantiles[0.10])\n",
    "vmax_val = max(0.05, gene_corrs_quantiles[0.90])\n",
    "display(f\"{vmin_val} / {vmax_val}\")"
   ]
  },
  {
   "cell_type": "code",
   "execution_count": 42,
   "id": "dc41b70b-5bcc-4d9e-9f33-a22c4a94dab5",
   "metadata": {
    "execution": {
     "iopub.execute_input": "2022-08-08T21:14:43.375427Z",
     "iopub.status.busy": "2022-08-08T21:14:43.375253Z",
     "iopub.status.idle": "2022-08-08T21:14:43.537908Z",
     "shell.execute_reply": "2022-08-08T21:14:43.537423Z"
    },
    "papermill": {
     "duration": 0.557711,
     "end_time": "2022-08-08T21:14:43.539842",
     "exception": false,
     "start_time": "2022-08-08T21:14:42.982131",
     "status": "completed"
    },
    "tags": []
   },
   "outputs": [
    {
     "data": {
      "text/plain": [
       "Text(0.5, 1.0, 'Gene correlations in chromosome 13')"
      ]
     },
     "execution_count": 42,
     "metadata": {},
     "output_type": "execute_result"
    },
    {
     "data": {
      "image/png": "[encoded data removed]",
      "text/plain": [
       "<Figure size 720x720 with 2 Axes>"
      ]
     },
     "metadata": {
      "needs_background": "light"
     },
     "output_type": "display_data"
    }
   ],
   "source": [
    "f, ax = plt.subplots(figsize=(10, 10))\n",
    "sns.heatmap(\n",
    "    gene_corrs_df,\n",
    "    xticklabels=False,\n",
    "    yticklabels=False,\n",
    "    square=True,\n",
    "    vmin=vmin_val,\n",
    "    vmax=vmax_val,\n",
    "    cmap=\"rocket_r\",\n",
    "    ax=ax,\n",
    ")\n",
    "ax.set_title(f\"Gene correlations in chromosome {CHROMOSOME}\")"
   ]
  },
  {
   "cell_type": "code",
   "execution_count": null,
   "id": "b25e3ead",
   "metadata": {
    "papermill": {
     "duration": 0.38915,
     "end_time": "2022-08-08T21:14:44.269337",
     "exception": false,
     "start_time": "2022-08-08T21:14:43.880187",
     "status": "completed"
    },
    "tags": []
   },
   "outputs": [],
   "source": []
  }
 ],
 "metadata": {
  "jupytext": {
   "cell_metadata_filter": "all,-execution,-papermill,-trusted",
   "formats": "ipynb,py//py:percent"
  },
  "kernelspec": {
   "display_name": "Python 3 (ipykernel)",
   "language": "python",
   "name": "python3"
  },
  "language_info": {
   "codemirror_mode": {
    "name": "ipython",
    "version": 3
   },
   "file_extension": ".py",
   "mimetype": "text/x-python",
   "name": "python",
   "nbconvert_exporter": "python",
   "pygments_lexer": "ipython3",
   "version": "3.8.13"
  },
  "papermill": {
   "default_parameters": {},
   "duration": 543.692621,
   "end_time": "2022-08-08T21:14:47.465394",
   "environment_variables": {},
   "exception": null,
   "input_path": "nbs/15_gsa_gls/10-gene_expr_correlations.ipynb",
   "output_path": "nbs/15_gsa_gls/gene_corrs/cohorts/1000g_eur/1000g/mashr/10-gene_expr_correlations-chr13.run.ipynb",
   "parameters": {
    "CHROMOSOME": 13,
    "COHORT_NAME": "1000G_EUR",
    "EQTL_MODEL": "MASHR",
    "REFERENCE_PANEL": "1000G"
   },
   "start_time": "2022-08-08T21:05:43.772773",
   "version": "2.2.2"
  }
 },
 "nbformat": 4,
 "nbformat_minor": 5
}
