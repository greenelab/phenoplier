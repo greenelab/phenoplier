{
 "cells": [
  {
   "cell_type": "markdown",
   "id": "7a6632fb",
   "metadata": {
    "papermill": {
     "duration": 0.007931,
     "end_time": "2022-07-22T04:31:45.624153",
     "exception": false,
     "start_time": "2022-07-22T04:31:45.616222",
     "status": "completed"
    },
    "tags": []
   },
   "source": [
    "# Description"
   ]
  },
  {
   "cell_type": "markdown",
   "id": "7097c346",
   "metadata": {
    "papermill": {
     "duration": 0.007046,
     "end_time": "2022-07-22T04:31:45.638443",
     "exception": false,
     "start_time": "2022-07-22T04:31:45.631397",
     "status": "completed"
    },
    "tags": []
   },
   "source": [
    "(Please, take a look at the README.md file in this directory for instructions on how to run this notebook)\n",
    "\n",
    "This notebook computes predicted expression correlations between all genes in the MultiPLIER models.\n",
    "\n",
    "It also has a parameter set for papermill to run on a single chromosome to run in parallel (see under `Settings` below).\n",
    "\n",
    "This notebook is not directly run. See README.md."
   ]
  },
  {
   "cell_type": "markdown",
   "id": "c61d8427",
   "metadata": {
    "papermill": {
     "duration": 0.00692,
     "end_time": "2022-07-22T04:31:45.652464",
     "exception": false,
     "start_time": "2022-07-22T04:31:45.645544",
     "status": "completed"
    },
    "tags": []
   },
   "source": [
    "# Modules"
   ]
  },
  {
   "cell_type": "code",
   "execution_count": 1,
   "id": "bbc0234f",
   "metadata": {
    "execution": {
     "iopub.execute_input": "2022-07-22T04:31:45.669021Z",
     "iopub.status.busy": "2022-07-22T04:31:45.668301Z",
     "iopub.status.idle": "2022-07-22T04:31:45.686190Z",
     "shell.execute_reply": "2022-07-22T04:31:45.685578Z"
    },
    "papermill": {
     "duration": 0.0284,
     "end_time": "2022-07-22T04:31:45.688007",
     "exception": false,
     "start_time": "2022-07-22T04:31:45.659607",
     "status": "completed"
    },
    "tags": []
   },
   "outputs": [],
   "source": [
    "%load_ext autoreload\n",
    "%autoreload 2"
   ]
  },
  {
   "cell_type": "code",
   "execution_count": 2,
   "id": "1d5f5a59",
   "metadata": {
    "execution": {
     "iopub.execute_input": "2022-07-22T04:31:45.741835Z",
     "iopub.status.busy": "2022-07-22T04:31:45.741158Z",
     "iopub.status.idle": "2022-07-22T04:31:46.841890Z",
     "shell.execute_reply": "2022-07-22T04:31:46.841352Z"
    },
    "papermill": {
     "duration": 1.113523,
     "end_time": "2022-07-22T04:31:46.846426",
     "exception": false,
     "start_time": "2022-07-22T04:31:45.732903",
     "status": "completed"
    },
    "tags": []
   },
   "outputs": [],
   "source": [
    "from random import sample, seed\n",
    "import warnings\n",
    "from pathlib import Path\n",
    "import pickle\n",
    "import traceback\n",
    "\n",
    "import numpy as np\n",
    "from scipy.spatial.distance import squareform\n",
    "import pandas as pd\n",
    "from tqdm import tqdm\n",
    "import matplotlib.pyplot as plt\n",
    "import seaborn as sns\n",
    "\n",
    "import conf\n",
    "from entity import Gene"
   ]
  },
  {
   "cell_type": "markdown",
   "id": "1eac24b5",
   "metadata": {
    "papermill": {
     "duration": 0.009432,
     "end_time": "2022-07-22T04:31:46.874008",
     "exception": false,
     "start_time": "2022-07-22T04:31:46.864576",
     "status": "completed"
    },
    "tags": []
   },
   "source": [
    "# Settings"
   ]
  },
  {
   "cell_type": "code",
   "execution_count": 3,
   "id": "ca4560ba",
   "metadata": {
    "execution": {
     "iopub.execute_input": "2022-07-22T04:31:46.889764Z",
     "iopub.status.busy": "2022-07-22T04:31:46.889551Z",
     "iopub.status.idle": "2022-07-22T04:31:46.908037Z",
     "shell.execute_reply": "2022-07-22T04:31:46.907392Z"
    },
    "papermill": {
     "duration": 0.028633,
     "end_time": "2022-07-22T04:31:46.909986",
     "exception": false,
     "start_time": "2022-07-22T04:31:46.881353",
     "status": "completed"
    },
    "tags": [
     "parameters"
    ]
   },
   "outputs": [],
   "source": [
    "# a cohort name (it could be something like UK_BIOBANK, etc)\n",
    "COHORT_NAME = None\n",
    "\n",
    "# reference panel such as 1000G or GTEX_V8\n",
    "REFERENCE_PANEL = None\n",
    "\n",
    "# predictions models such as MASHR or ELASTIC_NET\n",
    "EQTL_MODEL = None\n",
    "\n",
    "# this is the default value used in S-MultiXcan to select the\n",
    "# top principal components of the expression correlation matrix\n",
    "SMULTIXCAN_CONDITION_NUMBER = 30\n",
    "\n",
    "# specifies a single chromosome value\n",
    "CHROMOSOME = None\n",
    "\n",
    "# if True, then it will continue if a gene pair correlation fails,\n",
    "# printing the warning/error for debugging. If False, any warning/error\n",
    "# will be thrown\n",
    "# FIXME: make it False when all is working\n",
    "DEBUG_MODE = True"
   ]
  },
  {
   "cell_type": "code",
   "execution_count": 4,
   "id": "0b7a27c2",
   "metadata": {
    "execution": {
     "iopub.execute_input": "2022-07-22T04:31:46.926193Z",
     "iopub.status.busy": "2022-07-22T04:31:46.925485Z",
     "iopub.status.idle": "2022-07-22T04:31:46.943320Z",
     "shell.execute_reply": "2022-07-22T04:31:46.942702Z"
    },
    "papermill": {
     "duration": 0.027669,
     "end_time": "2022-07-22T04:31:46.945021",
     "exception": false,
     "start_time": "2022-07-22T04:31:46.917352",
     "status": "completed"
    },
    "tags": [
     "injected-parameters"
    ]
   },
   "outputs": [],
   "source": [
    "# Parameters\n",
    "COHORT_NAME = \"1000G_EUR\"\n",
    "REFERENCE_PANEL = \"1000G\"\n",
    "EQTL_MODEL = \"MASHR\"\n",
    "CHROMOSOME = 13\n"
   ]
  },
  {
   "cell_type": "code",
   "execution_count": 5,
   "id": "3190631f-27fc-480f-b18e-571d580425a5",
   "metadata": {
    "execution": {
     "iopub.execute_input": "2022-07-22T04:31:46.960935Z",
     "iopub.status.busy": "2022-07-22T04:31:46.960308Z",
     "iopub.status.idle": "2022-07-22T04:31:46.982389Z",
     "shell.execute_reply": "2022-07-22T04:31:46.981750Z"
    },
    "papermill": {
     "duration": 0.03179,
     "end_time": "2022-07-22T04:31:46.984083",
     "exception": false,
     "start_time": "2022-07-22T04:31:46.952293",
     "status": "completed"
    },
    "tags": []
   },
   "outputs": [
    {
     "data": {
      "text/plain": [
       "'Cohort name: 1000g_eur'"
      ]
     },
     "metadata": {},
     "output_type": "display_data"
    }
   ],
   "source": [
    "assert COHORT_NAME is not None or len(COHORT_NAME) == 0, \"A cohort name must be given\"\n",
    "\n",
    "COHORT_NAME = COHORT_NAME.lower()\n",
    "display(f\"Cohort name: {COHORT_NAME}\")"
   ]
  },
  {
   "cell_type": "code",
   "execution_count": 6,
   "id": "f53ba19b-0f93-4fa2-a047-63b375939d1a",
   "metadata": {
    "execution": {
     "iopub.execute_input": "2022-07-22T04:31:47.000056Z",
     "iopub.status.busy": "2022-07-22T04:31:46.999474Z",
     "iopub.status.idle": "2022-07-22T04:31:47.019392Z",
     "shell.execute_reply": "2022-07-22T04:31:47.018776Z"
    },
    "papermill": {
     "duration": 0.029539,
     "end_time": "2022-07-22T04:31:47.020955",
     "exception": false,
     "start_time": "2022-07-22T04:31:46.991416",
     "status": "completed"
    },
    "tags": []
   },
   "outputs": [
    {
     "data": {
      "text/plain": [
       "'Reference panel: 1000G'"
      ]
     },
     "metadata": {},
     "output_type": "display_data"
    }
   ],
   "source": [
    "assert (\n",
    "    REFERENCE_PANEL is not None or len(REFERENCE_PANEL) == 0\n",
    "), \"A reference panel must be given\"\n",
    "\n",
    "display(f\"Reference panel: {REFERENCE_PANEL}\")"
   ]
  },
  {
   "cell_type": "code",
   "execution_count": 7,
   "id": "e024d130-c139-429a-9c6e-ccf149e297b0",
   "metadata": {
    "execution": {
     "iopub.execute_input": "2022-07-22T04:31:47.037123Z",
     "iopub.status.busy": "2022-07-22T04:31:47.036700Z",
     "iopub.status.idle": "2022-07-22T04:31:47.057060Z",
     "shell.execute_reply": "2022-07-22T04:31:47.056411Z"
    },
    "papermill": {
     "duration": 0.030316,
     "end_time": "2022-07-22T04:31:47.058729",
     "exception": false,
     "start_time": "2022-07-22T04:31:47.028413",
     "status": "completed"
    },
    "tags": []
   },
   "outputs": [
    {
     "data": {
      "text/plain": [
       "'eQTL model: MASHR) / mashr_'"
      ]
     },
     "metadata": {},
     "output_type": "display_data"
    }
   ],
   "source": [
    "assert (\n",
    "    EQTL_MODEL is not None or len(EQTL_MODEL) == 0\n",
    "), \"A prediction/eQTL model must be given\"\n",
    "\n",
    "EQTL_MODEL_FILES_PREFIX = conf.PHENOMEXCAN[\"PREDICTION_MODELS\"][f\"{EQTL_MODEL}_PREFIX\"]\n",
    "display(f\"eQTL model: {EQTL_MODEL}) / {EQTL_MODEL_FILES_PREFIX}\")"
   ]
  },
  {
   "cell_type": "code",
   "execution_count": 8,
   "id": "552a7f63-a18c-4d3e-bb6a-94f99b431291",
   "metadata": {
    "execution": {
     "iopub.execute_input": "2022-07-22T04:31:47.075307Z",
     "iopub.status.busy": "2022-07-22T04:31:47.074635Z",
     "iopub.status.idle": "2022-07-22T04:31:47.094619Z",
     "shell.execute_reply": "2022-07-22T04:31:47.094025Z"
    },
    "papermill": {
     "duration": 0.02981,
     "end_time": "2022-07-22T04:31:47.096168",
     "exception": false,
     "start_time": "2022-07-22T04:31:47.066358",
     "status": "completed"
    },
    "tags": []
   },
   "outputs": [
    {
     "data": {
      "text/plain": [
       "'S-MultiXcan condition number: 30'"
      ]
     },
     "metadata": {},
     "output_type": "display_data"
    }
   ],
   "source": [
    "assert (\n",
    "    SMULTIXCAN_CONDITION_NUMBER is not None or SMULTIXCAN_CONDITION_NUMBER > 0\n",
    "), \"The S-MultiXcan condition number (positive integer) must be given\"\n",
    "\n",
    "display(f\"S-MultiXcan condition number: {SMULTIXCAN_CONDITION_NUMBER}\")"
   ]
  },
  {
   "cell_type": "code",
   "execution_count": 9,
   "id": "f34a336f-548e-4afe-8955-90eaea4f42c6",
   "metadata": {
    "execution": {
     "iopub.execute_input": "2022-07-22T04:31:47.112829Z",
     "iopub.status.busy": "2022-07-22T04:31:47.112257Z",
     "iopub.status.idle": "2022-07-22T04:31:47.133094Z",
     "shell.execute_reply": "2022-07-22T04:31:47.132428Z"
    },
    "papermill": {
     "duration": 0.030883,
     "end_time": "2022-07-22T04:31:47.134755",
     "exception": false,
     "start_time": "2022-07-22T04:31:47.103872",
     "status": "completed"
    },
    "tags": []
   },
   "outputs": [
    {
     "data": {
      "text/plain": [
       "'Working on chromosome 13'"
      ]
     },
     "metadata": {},
     "output_type": "display_data"
    }
   ],
   "source": [
    "assert CHROMOSOME is not None and (\n",
    "    1 <= CHROMOSOME <= 22\n",
    "), \"You have to select one chromosome (format: number between 1 and 22)\"\n",
    "\n",
    "CHROMOSOME = str(CHROMOSOME)\n",
    "display(f\"Working on chromosome {CHROMOSOME}\")"
   ]
  },
  {
   "cell_type": "code",
   "execution_count": 10,
   "id": "ab8e96e8-06b5-4363-9dcd-dc4d78cc27f7",
   "metadata": {
    "execution": {
     "iopub.execute_input": "2022-07-22T04:31:47.151508Z",
     "iopub.status.busy": "2022-07-22T04:31:47.151098Z",
     "iopub.status.idle": "2022-07-22T04:31:47.169757Z",
     "shell.execute_reply": "2022-07-22T04:31:47.169227Z"
    },
    "papermill": {
     "duration": 0.02876,
     "end_time": "2022-07-22T04:31:47.171306",
     "exception": false,
     "start_time": "2022-07-22T04:31:47.142546",
     "status": "completed"
    },
    "tags": []
   },
   "outputs": [
    {
     "data": {
      "text/plain": [
       "'Compute correlation within distance True'"
      ]
     },
     "metadata": {},
     "output_type": "display_data"
    }
   ],
   "source": [
    "# TODO: see if this is necessary; if so, make it a parameter with default value True\n",
    "# This parameter, if True, computes the correlation between closeby genes only\n",
    "\n",
    "COMPUTE_CORRELATIONS_WITHIN_DISTANCE = True\n",
    "display(f\"Compute correlation within distance {COMPUTE_CORRELATIONS_WITHIN_DISTANCE}\")"
   ]
  },
  {
   "cell_type": "code",
   "execution_count": 11,
   "id": "396392dc-0340-4540-9b02-e182b833f909",
   "metadata": {
    "execution": {
     "iopub.execute_input": "2022-07-22T04:31:47.188485Z",
     "iopub.status.busy": "2022-07-22T04:31:47.187809Z",
     "iopub.status.idle": "2022-07-22T04:31:47.208407Z",
     "shell.execute_reply": "2022-07-22T04:31:47.207794Z"
    },
    "papermill": {
     "duration": 0.030748,
     "end_time": "2022-07-22T04:31:47.209963",
     "exception": false,
     "start_time": "2022-07-22T04:31:47.179215",
     "status": "completed"
    },
    "tags": []
   },
   "outputs": [
    {
     "data": {
      "text/plain": [
       "'Using output dir base: /opt/data/results/gls/gene_corrs/cohorts/1000g_eur/1000g/mashr'"
      ]
     },
     "metadata": {},
     "output_type": "display_data"
    }
   ],
   "source": [
    "OUTPUT_DIR_BASE = (\n",
    "    conf.RESULTS[\"GLS\"]\n",
    "    / \"gene_corrs\"\n",
    "    / \"cohorts\"\n",
    "    / COHORT_NAME\n",
    "    / REFERENCE_PANEL.lower()\n",
    "    / EQTL_MODEL.lower()\n",
    ")\n",
    "OUTPUT_DIR_BASE.mkdir(parents=True, exist_ok=True)\n",
    "\n",
    "display(f\"Using output dir base: {OUTPUT_DIR_BASE}\")"
   ]
  },
  {
   "cell_type": "code",
   "execution_count": 12,
   "id": "974b4bb1-aa98-4e30-b221-7cd034ad3833",
   "metadata": {
    "execution": {
     "iopub.execute_input": "2022-07-22T04:31:47.227499Z",
     "iopub.status.busy": "2022-07-22T04:31:47.227095Z",
     "iopub.status.idle": "2022-07-22T04:31:47.246082Z",
     "shell.execute_reply": "2022-07-22T04:31:47.245584Z"
    },
    "papermill": {
     "duration": 0.029331,
     "end_time": "2022-07-22T04:31:47.247636",
     "exception": false,
     "start_time": "2022-07-22T04:31:47.218305",
     "status": "completed"
    },
    "tags": []
   },
   "outputs": [
    {
     "data": {
      "text/plain": [
       "PosixPath('/opt/data/results/gls/gene_corrs/cohorts/1000g_eur')"
      ]
     },
     "metadata": {},
     "output_type": "display_data"
    }
   ],
   "source": [
    "INPUT_DIR = conf.RESULTS[\"GLS\"] / \"gene_corrs\" / \"cohorts\" / COHORT_NAME\n",
    "assert INPUT_DIR.exists()\n",
    "\n",
    "display(INPUT_DIR)"
   ]
  },
  {
   "cell_type": "markdown",
   "id": "d2ba085e",
   "metadata": {
    "papermill": {
     "duration": 0.007892,
     "end_time": "2022-07-22T04:31:47.263555",
     "exception": false,
     "start_time": "2022-07-22T04:31:47.255663",
     "status": "completed"
    },
    "tags": []
   },
   "source": [
    "# Load data"
   ]
  },
  {
   "cell_type": "markdown",
   "id": "7dcb8db7",
   "metadata": {
    "papermill": {
     "duration": 0.007766,
     "end_time": "2022-07-22T04:31:47.279297",
     "exception": false,
     "start_time": "2022-07-22T04:31:47.271531",
     "status": "completed"
    },
    "tags": []
   },
   "source": [
    "## GWAS variants"
   ]
  },
  {
   "cell_type": "code",
   "execution_count": 13,
   "id": "29434c4e-8cd3-4b9b-82e4-b5a251d9dd19",
   "metadata": {
    "execution": {
     "iopub.execute_input": "2022-07-22T04:31:47.296729Z",
     "iopub.status.busy": "2022-07-22T04:31:47.296153Z",
     "iopub.status.idle": "2022-07-22T04:31:50.533762Z",
     "shell.execute_reply": "2022-07-22T04:31:50.533069Z"
    },
    "papermill": {
     "duration": 3.248468,
     "end_time": "2022-07-22T04:31:50.535795",
     "exception": false,
     "start_time": "2022-07-22T04:31:47.287327",
     "status": "completed"
    },
    "tags": []
   },
   "outputs": [],
   "source": [
    "with open(INPUT_DIR / \"gwas_variant_ids.pkl\", \"rb\") as handle:\n",
    "    gwas_variants_ids_set = pickle.load(handle)"
   ]
  },
  {
   "cell_type": "code",
   "execution_count": 14,
   "id": "b9d9dec2-4a76-4bf9-bde2-e24c95acb8a0",
   "metadata": {
    "execution": {
     "iopub.execute_input": "2022-07-22T04:31:50.553587Z",
     "iopub.status.busy": "2022-07-22T04:31:50.553370Z",
     "iopub.status.idle": "2022-07-22T04:31:50.572375Z",
     "shell.execute_reply": "2022-07-22T04:31:50.571817Z"
    },
    "papermill": {
     "duration": 0.030211,
     "end_time": "2022-07-22T04:31:50.574450",
     "exception": false,
     "start_time": "2022-07-22T04:31:50.544239",
     "status": "completed"
    },
    "tags": []
   },
   "outputs": [
    {
     "data": {
      "text/plain": [
       "8339505"
      ]
     },
     "execution_count": 14,
     "metadata": {},
     "output_type": "execute_result"
    }
   ],
   "source": [
    "len(gwas_variants_ids_set)"
   ]
  },
  {
   "cell_type": "code",
   "execution_count": 15,
   "id": "4235b06a-6034-4ee4-a0a3-2ae35d122418",
   "metadata": {
    "execution": {
     "iopub.execute_input": "2022-07-22T04:31:50.592070Z",
     "iopub.status.busy": "2022-07-22T04:31:50.591856Z",
     "iopub.status.idle": "2022-07-22T04:31:51.251098Z",
     "shell.execute_reply": "2022-07-22T04:31:51.250460Z"
    },
    "papermill": {
     "duration": 0.669701,
     "end_time": "2022-07-22T04:31:51.252649",
     "exception": false,
     "start_time": "2022-07-22T04:31:50.582948",
     "status": "completed"
    },
    "tags": []
   },
   "outputs": [
    {
     "data": {
      "text/plain": [
       "['chr19_9583777_C_T_b38',\n",
       " 'chr2_40142505_C_A_b38',\n",
       " 'chr5_4898878_G_A_b38',\n",
       " 'chr20_7539242_A_C_b38',\n",
       " 'chr1_52085572_G_A_b38']"
      ]
     },
     "execution_count": 15,
     "metadata": {},
     "output_type": "execute_result"
    }
   ],
   "source": [
    "list(gwas_variants_ids_set)[:5]"
   ]
  },
  {
   "cell_type": "markdown",
   "id": "07866999-2305-41f9-a144-e69c9122c212",
   "metadata": {
    "papermill": {
     "duration": 0.008272,
     "end_time": "2022-07-22T04:31:51.269813",
     "exception": false,
     "start_time": "2022-07-22T04:31:51.261541",
     "status": "completed"
    },
    "tags": []
   },
   "source": [
    "## S-PrediXcan tissue models"
   ]
  },
  {
   "cell_type": "code",
   "execution_count": 16,
   "id": "780611d9-77c8-405f-90a4-f271f7b09397",
   "metadata": {
    "execution": {
     "iopub.execute_input": "2022-07-22T04:31:51.287954Z",
     "iopub.status.busy": "2022-07-22T04:31:51.287731Z",
     "iopub.status.idle": "2022-07-22T04:31:52.360233Z",
     "shell.execute_reply": "2022-07-22T04:31:52.359612Z"
    },
    "papermill": {
     "duration": 1.083471,
     "end_time": "2022-07-22T04:31:52.362059",
     "exception": false,
     "start_time": "2022-07-22T04:31:51.278588",
     "status": "completed"
    },
    "tags": []
   },
   "outputs": [],
   "source": [
    "spredixcan_genes_models = pd.read_pickle(INPUT_DIR / \"gene_tissues.pkl\").set_index(\n",
    "    \"gene_id\"\n",
    ")"
   ]
  },
  {
   "cell_type": "code",
   "execution_count": 17,
   "id": "726dd1f6-9557-4225-91fa-b3b879ea96e1",
   "metadata": {
    "execution": {
     "iopub.execute_input": "2022-07-22T04:31:52.384410Z",
     "iopub.status.busy": "2022-07-22T04:31:52.384185Z",
     "iopub.status.idle": "2022-07-22T04:31:52.404188Z",
     "shell.execute_reply": "2022-07-22T04:31:52.403531Z"
    },
    "papermill": {
     "duration": 0.035007,
     "end_time": "2022-07-22T04:31:52.405877",
     "exception": false,
     "start_time": "2022-07-22T04:31:52.370870",
     "status": "completed"
    },
    "tags": []
   },
   "outputs": [
    {
     "data": {
      "text/plain": [
       "(22314, 2)"
      ]
     },
     "execution_count": 17,
     "metadata": {},
     "output_type": "execute_result"
    }
   ],
   "source": [
    "spredixcan_genes_models.shape"
   ]
  },
  {
   "cell_type": "code",
   "execution_count": 18,
   "id": "944a1b48-222c-4eb0-b252-b9de2cbca215",
   "metadata": {
    "execution": {
     "iopub.execute_input": "2022-07-22T04:31:52.423765Z",
     "iopub.status.busy": "2022-07-22T04:31:52.423509Z",
     "iopub.status.idle": "2022-07-22T04:31:52.450268Z",
     "shell.execute_reply": "2022-07-22T04:31:52.449626Z"
    },
    "papermill": {
     "duration": 0.037661,
     "end_time": "2022-07-22T04:31:52.451952",
     "exception": false,
     "start_time": "2022-07-22T04:31:52.414291",
     "status": "completed"
    },
    "tags": []
   },
   "outputs": [
    {
     "data": {
      "text/html": [
       "<div>\n",
       "<style scoped>\n",
       "    .dataframe tbody tr th:only-of-type {\n",
       "        vertical-align: middle;\n",
       "    }\n",
       "\n",
       "    .dataframe tbody tr th {\n",
       "        vertical-align: top;\n",
       "    }\n",
       "\n",
       "    .dataframe thead th {\n",
       "        text-align: right;\n",
       "    }\n",
       "</style>\n",
       "<table border=\"1\" class=\"dataframe\">\n",
       "  <thead>\n",
       "    <tr style=\"text-align: right;\">\n",
       "      <th></th>\n",
       "      <th>gene_name</th>\n",
       "      <th>tissue</th>\n",
       "    </tr>\n",
       "    <tr>\n",
       "      <th>gene_id</th>\n",
       "      <th></th>\n",
       "      <th></th>\n",
       "    </tr>\n",
       "  </thead>\n",
       "  <tbody>\n",
       "    <tr>\n",
       "      <th>ENSG00000000419</th>\n",
       "      <td>DPM1</td>\n",
       "      <td>(Brain_Hypothalamus, Brain_Substantia_nigra)</td>\n",
       "    </tr>\n",
       "    <tr>\n",
       "      <th>ENSG00000000457</th>\n",
       "      <td>SCYL3</td>\n",
       "      <td>(Testis, Muscle_Skeletal, Nerve_Tibial, Brain_...</td>\n",
       "    </tr>\n",
       "    <tr>\n",
       "      <th>ENSG00000000460</th>\n",
       "      <td>C1orf112</td>\n",
       "      <td>(Testis, Muscle_Skeletal, Nerve_Tibial, Brain_...</td>\n",
       "    </tr>\n",
       "    <tr>\n",
       "      <th>ENSG00000000938</th>\n",
       "      <td>FGR</td>\n",
       "      <td>(Testis, Muscle_Skeletal, Nerve_Tibial, Brain_...</td>\n",
       "    </tr>\n",
       "    <tr>\n",
       "      <th>ENSG00000000971</th>\n",
       "      <td>CFH</td>\n",
       "      <td>(Testis, Nerve_Tibial, Brain_Hippocampus, Thyr...</td>\n",
       "    </tr>\n",
       "  </tbody>\n",
       "</table>\n",
       "</div>"
      ],
      "text/plain": [
       "                gene_name                                             tissue\n",
       "gene_id                                                                     \n",
       "ENSG00000000419      DPM1       (Brain_Hypothalamus, Brain_Substantia_nigra)\n",
       "ENSG00000000457     SCYL3  (Testis, Muscle_Skeletal, Nerve_Tibial, Brain_...\n",
       "ENSG00000000460  C1orf112  (Testis, Muscle_Skeletal, Nerve_Tibial, Brain_...\n",
       "ENSG00000000938       FGR  (Testis, Muscle_Skeletal, Nerve_Tibial, Brain_...\n",
       "ENSG00000000971       CFH  (Testis, Nerve_Tibial, Brain_Hippocampus, Thyr..."
      ]
     },
     "execution_count": 18,
     "metadata": {},
     "output_type": "execute_result"
    }
   ],
   "source": [
    "spredixcan_genes_models.head()"
   ]
  },
  {
   "cell_type": "code",
   "execution_count": 19,
   "id": "d1c11bb1-be0b-4f40-b360-633d6827109f",
   "metadata": {
    "execution": {
     "iopub.execute_input": "2022-07-22T04:31:52.470497Z",
     "iopub.status.busy": "2022-07-22T04:31:52.469860Z",
     "iopub.status.idle": "2022-07-22T04:31:52.490209Z",
     "shell.execute_reply": "2022-07-22T04:31:52.489586Z"
    },
    "papermill": {
     "duration": 0.031523,
     "end_time": "2022-07-22T04:31:52.492114",
     "exception": false,
     "start_time": "2022-07-22T04:31:52.460591",
     "status": "completed"
    },
    "tags": []
   },
   "outputs": [],
   "source": [
    "assert spredixcan_genes_models.index.is_unique"
   ]
  },
  {
   "cell_type": "markdown",
   "id": "6caf9d10-eda8-4ad2-8811-a983aa77a25a",
   "metadata": {
    "papermill": {
     "duration": 0.008341,
     "end_time": "2022-07-22T04:31:52.509098",
     "exception": false,
     "start_time": "2022-07-22T04:31:52.500757",
     "status": "completed"
    },
    "tags": []
   },
   "source": [
    "## Get common genes"
   ]
  },
  {
   "cell_type": "code",
   "execution_count": 20,
   "id": "f8d1e317-1cc8-4bdf-bbe9-c3b0a5478359",
   "metadata": {
    "execution": {
     "iopub.execute_input": "2022-07-22T04:31:52.527046Z",
     "iopub.status.busy": "2022-07-22T04:31:52.526826Z",
     "iopub.status.idle": "2022-07-22T04:31:52.546315Z",
     "shell.execute_reply": "2022-07-22T04:31:52.545698Z"
    },
    "papermill": {
     "duration": 0.030489,
     "end_time": "2022-07-22T04:31:52.548062",
     "exception": false,
     "start_time": "2022-07-22T04:31:52.517573",
     "status": "completed"
    },
    "tags": []
   },
   "outputs": [],
   "source": [
    "with open(INPUT_DIR / \"common_genes.pkl\", \"rb\") as handle:\n",
    "    common_genes = pickle.load(handle)"
   ]
  },
  {
   "cell_type": "code",
   "execution_count": 21,
   "id": "ce9506aa-2f38-4e46-b9c2-84d750fac0da",
   "metadata": {
    "execution": {
     "iopub.execute_input": "2022-07-22T04:31:52.566891Z",
     "iopub.status.busy": "2022-07-22T04:31:52.566320Z",
     "iopub.status.idle": "2022-07-22T04:31:52.586328Z",
     "shell.execute_reply": "2022-07-22T04:31:52.585675Z"
    },
    "papermill": {
     "duration": 0.031114,
     "end_time": "2022-07-22T04:31:52.588002",
     "exception": false,
     "start_time": "2022-07-22T04:31:52.556888",
     "status": "completed"
    },
    "tags": []
   },
   "outputs": [
    {
     "data": {
      "text/plain": [
       "6444"
      ]
     },
     "execution_count": 21,
     "metadata": {},
     "output_type": "execute_result"
    }
   ],
   "source": [
    "len(common_genes)"
   ]
  },
  {
   "cell_type": "code",
   "execution_count": 22,
   "id": "f525a698-506a-48e0-9aee-1aca62def5dd",
   "metadata": {
    "execution": {
     "iopub.execute_input": "2022-07-22T04:31:52.606870Z",
     "iopub.status.busy": "2022-07-22T04:31:52.606302Z",
     "iopub.status.idle": "2022-07-22T04:31:52.628241Z",
     "shell.execute_reply": "2022-07-22T04:31:52.627567Z"
    },
    "papermill": {
     "duration": 0.033063,
     "end_time": "2022-07-22T04:31:52.629875",
     "exception": false,
     "start_time": "2022-07-22T04:31:52.596812",
     "status": "completed"
    },
    "tags": []
   },
   "outputs": [
    {
     "data": {
      "text/plain": [
       "['A2M', 'AAAS', 'AANAT', 'AARS', 'AARS2']"
      ]
     },
     "execution_count": 22,
     "metadata": {},
     "output_type": "execute_result"
    }
   ],
   "source": [
    "sorted(list(common_genes))[:5]"
   ]
  },
  {
   "cell_type": "markdown",
   "id": "a5b5092c-a13e-47c4-a92a-480fcc08f3ae",
   "metadata": {
    "papermill": {
     "duration": 0.008577,
     "end_time": "2022-07-22T04:31:52.647464",
     "exception": false,
     "start_time": "2022-07-22T04:31:52.638887",
     "status": "completed"
    },
    "tags": []
   },
   "source": [
    "## Gene info"
   ]
  },
  {
   "cell_type": "code",
   "execution_count": 23,
   "id": "7d6bb224-88e9-4358-ac10-43a41d92cdad",
   "metadata": {
    "execution": {
     "iopub.execute_input": "2022-07-22T04:31:52.666259Z",
     "iopub.status.busy": "2022-07-22T04:31:52.665699Z",
     "iopub.status.idle": "2022-07-22T04:31:52.687678Z",
     "shell.execute_reply": "2022-07-22T04:31:52.687096Z"
    },
    "papermill": {
     "duration": 0.033263,
     "end_time": "2022-07-22T04:31:52.689506",
     "exception": false,
     "start_time": "2022-07-22T04:31:52.656243",
     "status": "completed"
    },
    "tags": []
   },
   "outputs": [],
   "source": [
    "genes_info = pd.read_pickle(INPUT_DIR / \"genes_info.pkl\")"
   ]
  },
  {
   "cell_type": "code",
   "execution_count": 24,
   "id": "9e32abfa-546d-483e-8c18-d526e9e05903",
   "metadata": {
    "execution": {
     "iopub.execute_input": "2022-07-22T04:31:52.708686Z",
     "iopub.status.busy": "2022-07-22T04:31:52.708123Z",
     "iopub.status.idle": "2022-07-22T04:31:52.728036Z",
     "shell.execute_reply": "2022-07-22T04:31:52.727413Z"
    },
    "papermill": {
     "duration": 0.031221,
     "end_time": "2022-07-22T04:31:52.729738",
     "exception": false,
     "start_time": "2022-07-22T04:31:52.698517",
     "status": "completed"
    },
    "tags": []
   },
   "outputs": [
    {
     "data": {
      "text/plain": [
       "(6444, 7)"
      ]
     },
     "execution_count": 24,
     "metadata": {},
     "output_type": "execute_result"
    }
   ],
   "source": [
    "genes_info.shape"
   ]
  },
  {
   "cell_type": "code",
   "execution_count": 25,
   "id": "d16c3e92-85ec-468a-9a56-e25a9774a1cb",
   "metadata": {
    "execution": {
     "iopub.execute_input": "2022-07-22T04:31:52.749112Z",
     "iopub.status.busy": "2022-07-22T04:31:52.748536Z",
     "iopub.status.idle": "2022-07-22T04:31:52.774966Z",
     "shell.execute_reply": "2022-07-22T04:31:52.774377Z"
    },
    "papermill": {
     "duration": 0.037792,
     "end_time": "2022-07-22T04:31:52.776579",
     "exception": false,
     "start_time": "2022-07-22T04:31:52.738787",
     "status": "completed"
    },
    "tags": []
   },
   "outputs": [
    {
     "data": {
      "text/html": [
       "<div>\n",
       "<style scoped>\n",
       "    .dataframe tbody tr th:only-of-type {\n",
       "        vertical-align: middle;\n",
       "    }\n",
       "\n",
       "    .dataframe tbody tr th {\n",
       "        vertical-align: top;\n",
       "    }\n",
       "\n",
       "    .dataframe thead th {\n",
       "        text-align: right;\n",
       "    }\n",
       "</style>\n",
       "<table border=\"1\" class=\"dataframe\">\n",
       "  <thead>\n",
       "    <tr style=\"text-align: right;\">\n",
       "      <th></th>\n",
       "      <th>name</th>\n",
       "      <th>id</th>\n",
       "      <th>chr</th>\n",
       "      <th>band</th>\n",
       "      <th>start_position</th>\n",
       "      <th>end_position</th>\n",
       "      <th>gene_length</th>\n",
       "    </tr>\n",
       "  </thead>\n",
       "  <tbody>\n",
       "    <tr>\n",
       "      <th>0</th>\n",
       "      <td>MFN2</td>\n",
       "      <td>ENSG00000116688</td>\n",
       "      <td>1</td>\n",
       "      <td>1p36.22</td>\n",
       "      <td>11980181.0</td>\n",
       "      <td>12013514.0</td>\n",
       "      <td>33333.0</td>\n",
       "    </tr>\n",
       "    <tr>\n",
       "      <th>1</th>\n",
       "      <td>PPA2</td>\n",
       "      <td>ENSG00000138777</td>\n",
       "      <td>4</td>\n",
       "      <td>4q24</td>\n",
       "      <td>105369077.0</td>\n",
       "      <td>105474067.0</td>\n",
       "      <td>104990.0</td>\n",
       "    </tr>\n",
       "    <tr>\n",
       "      <th>2</th>\n",
       "      <td>ADRA2A</td>\n",
       "      <td>ENSG00000150594</td>\n",
       "      <td>10</td>\n",
       "      <td>10q25.2</td>\n",
       "      <td>111077163.0</td>\n",
       "      <td>111080907.0</td>\n",
       "      <td>3744.0</td>\n",
       "    </tr>\n",
       "    <tr>\n",
       "      <th>3</th>\n",
       "      <td>RYR2</td>\n",
       "      <td>ENSG00000198626</td>\n",
       "      <td>1</td>\n",
       "      <td>1q43</td>\n",
       "      <td>237042184.0</td>\n",
       "      <td>237833988.0</td>\n",
       "      <td>791804.0</td>\n",
       "    </tr>\n",
       "    <tr>\n",
       "      <th>4</th>\n",
       "      <td>VAV2</td>\n",
       "      <td>ENSG00000160293</td>\n",
       "      <td>9</td>\n",
       "      <td>9q34.2</td>\n",
       "      <td>133761894.0</td>\n",
       "      <td>133992604.0</td>\n",
       "      <td>230710.0</td>\n",
       "    </tr>\n",
       "  </tbody>\n",
       "</table>\n",
       "</div>"
      ],
      "text/plain": [
       "     name               id chr     band  start_position  end_position  \\\n",
       "0    MFN2  ENSG00000116688   1  1p36.22      11980181.0    12013514.0   \n",
       "1    PPA2  ENSG00000138777   4     4q24     105369077.0   105474067.0   \n",
       "2  ADRA2A  ENSG00000150594  10  10q25.2     111077163.0   111080907.0   \n",
       "3    RYR2  ENSG00000198626   1     1q43     237042184.0   237833988.0   \n",
       "4    VAV2  ENSG00000160293   9   9q34.2     133761894.0   133992604.0   \n",
       "\n",
       "   gene_length  \n",
       "0      33333.0  \n",
       "1     104990.0  \n",
       "2       3744.0  \n",
       "3     791804.0  \n",
       "4     230710.0  "
      ]
     },
     "execution_count": 25,
     "metadata": {},
     "output_type": "execute_result"
    }
   ],
   "source": [
    "genes_info.head()"
   ]
  },
  {
   "cell_type": "markdown",
   "id": "d3843e06",
   "metadata": {
    "papermill": {
     "duration": 0.008948,
     "end_time": "2022-07-22T04:31:52.794812",
     "exception": false,
     "start_time": "2022-07-22T04:31:52.785864",
     "status": "completed"
    },
    "tags": []
   },
   "source": [
    "# Compute correlations"
   ]
  },
  {
   "cell_type": "code",
   "execution_count": 26,
   "id": "cb859c15-d1f3-4006-a74c-2b83c0db9611",
   "metadata": {
    "execution": {
     "iopub.execute_input": "2022-07-22T04:31:52.814395Z",
     "iopub.status.busy": "2022-07-22T04:31:52.813826Z",
     "iopub.status.idle": "2022-07-22T04:31:52.832827Z",
     "shell.execute_reply": "2022-07-22T04:31:52.832340Z"
    },
    "papermill": {
     "duration": 0.030384,
     "end_time": "2022-07-22T04:31:52.834294",
     "exception": false,
     "start_time": "2022-07-22T04:31:52.803910",
     "status": "completed"
    },
    "tags": []
   },
   "outputs": [
    {
     "data": {
      "text/plain": [
       "PosixPath('/opt/data/results/gls/gene_corrs/cohorts/1000g_eur/1000g/mashr/by_chr/gene_corrs-chr13.pkl')"
      ]
     },
     "metadata": {},
     "output_type": "display_data"
    }
   ],
   "source": [
    "output_dir = OUTPUT_DIR_BASE / \"by_chr\"\n",
    "output_dir.mkdir(exist_ok=True, parents=True)\n",
    "output_file = output_dir / f\"gene_corrs-chr{CHROMOSOME}.pkl\"\n",
    "display(output_file)"
   ]
  },
  {
   "cell_type": "code",
   "execution_count": 27,
   "id": "aa674fe4-6794-4eed-98fa-32b39d1d4ace",
   "metadata": {
    "execution": {
     "iopub.execute_input": "2022-07-22T04:31:52.854432Z",
     "iopub.status.busy": "2022-07-22T04:31:52.853846Z",
     "iopub.status.idle": "2022-07-22T04:31:52.871452Z",
     "shell.execute_reply": "2022-07-22T04:31:52.870871Z"
    },
    "papermill": {
     "duration": 0.029378,
     "end_time": "2022-07-22T04:31:52.873084",
     "exception": false,
     "start_time": "2022-07-22T04:31:52.843706",
     "status": "completed"
    },
    "tags": []
   },
   "outputs": [],
   "source": [
    "warnings.filterwarnings(\"error\")"
   ]
  },
  {
   "cell_type": "code",
   "execution_count": 28,
   "id": "44d5450b-3baf-43f1-9e2e-4b06f1a785f8",
   "metadata": {
    "execution": {
     "iopub.execute_input": "2022-07-22T04:31:52.903376Z",
     "iopub.status.busy": "2022-07-22T04:31:52.902748Z",
     "iopub.status.idle": "2022-07-22T04:31:52.926830Z",
     "shell.execute_reply": "2022-07-22T04:31:52.926200Z"
    },
    "papermill": {
     "duration": 0.045615,
     "end_time": "2022-07-22T04:31:52.928543",
     "exception": false,
     "start_time": "2022-07-22T04:31:52.882928",
     "status": "completed"
    },
    "tags": []
   },
   "outputs": [],
   "source": [
    "# standard checks\n",
    "all_chrs = genes_info[\"chr\"].dropna().unique()\n",
    "assert all_chrs.shape[0] == 22\n",
    "\n",
    "# select chromosome given by the user\n",
    "assert CHROMOSOME in all_chrs"
   ]
  },
  {
   "cell_type": "code",
   "execution_count": 29,
   "id": "2d7c043c-92a7-4d35-991b-fa69ac1e0268",
   "metadata": {
    "execution": {
     "iopub.execute_input": "2022-07-22T04:31:52.951838Z",
     "iopub.status.busy": "2022-07-22T04:31:52.951220Z",
     "iopub.status.idle": "2022-07-22T04:31:52.971330Z",
     "shell.execute_reply": "2022-07-22T04:31:52.970825Z"
    },
    "papermill": {
     "duration": 0.03471,
     "end_time": "2022-07-22T04:31:52.972881",
     "exception": false,
     "start_time": "2022-07-22T04:31:52.938171",
     "status": "completed"
    },
    "tags": []
   },
   "outputs": [
    {
     "name": "stdout",
     "output_type": "stream",
     "text": [
      "Number of genes in chromosome: 118\n"
     ]
    }
   ],
   "source": [
    "# run only on the chromosome specified\n",
    "all_chrs = [CHROMOSOME]\n",
    "genes_chr = genes_info[genes_info[\"chr\"] == CHROMOSOME]\n",
    "\n",
    "# For testing purposes\n",
    "# genes_chr = genes_chr.sample(n=20)\n",
    "\n",
    "print(f\"Number of genes in chromosome: {genes_chr.shape[0]}\", flush=True)"
   ]
  },
  {
   "cell_type": "code",
   "execution_count": 30,
   "id": "916015d8-2979-46d3-a9b9-1cf5a0932c6a",
   "metadata": {
    "execution": {
     "iopub.execute_input": "2022-07-22T04:31:52.993431Z",
     "iopub.status.busy": "2022-07-22T04:31:52.992744Z",
     "iopub.status.idle": "2022-07-22T04:31:53.010968Z",
     "shell.execute_reply": "2022-07-22T04:31:53.010325Z"
    },
    "papermill": {
     "duration": 0.030203,
     "end_time": "2022-07-22T04:31:53.012641",
     "exception": false,
     "start_time": "2022-07-22T04:31:52.982438",
     "status": "completed"
    },
    "tags": []
   },
   "outputs": [],
   "source": [
    "# sort genes by starting position to make visualizations better later\n",
    "genes_chr = genes_chr.sort_values(\"start_position\")"
   ]
  },
  {
   "cell_type": "code",
   "execution_count": 31,
   "id": "a38aa74a-8ad3-47f6-8ef9-56be0e011774",
   "metadata": {
    "execution": {
     "iopub.execute_input": "2022-07-22T04:31:53.032943Z",
     "iopub.status.busy": "2022-07-22T04:31:53.032367Z",
     "iopub.status.idle": "2022-07-22T04:31:53.050588Z",
     "shell.execute_reply": "2022-07-22T04:31:53.049949Z"
    },
    "papermill": {
     "duration": 0.03011,
     "end_time": "2022-07-22T04:31:53.052264",
     "exception": false,
     "start_time": "2022-07-22T04:31:53.022154",
     "status": "completed"
    },
    "tags": []
   },
   "outputs": [],
   "source": [
    "gene_chr_objs = [Gene(ensembl_id=gene_id) for gene_id in genes_chr[\"id\"]]"
   ]
  },
  {
   "cell_type": "code",
   "execution_count": 32,
   "id": "570f974f-13c3-42b6-ad3a-ce99ca885c1a",
   "metadata": {
    "execution": {
     "iopub.execute_input": "2022-07-22T04:31:53.072618Z",
     "iopub.status.busy": "2022-07-22T04:31:53.072044Z",
     "iopub.status.idle": "2022-07-22T04:31:53.090593Z",
     "shell.execute_reply": "2022-07-22T04:31:53.090038Z"
    },
    "papermill": {
     "duration": 0.030376,
     "end_time": "2022-07-22T04:31:53.092149",
     "exception": false,
     "start_time": "2022-07-22T04:31:53.061773",
     "status": "completed"
    },
    "tags": []
   },
   "outputs": [
    {
     "name": "stdout",
     "output_type": "stream",
     "text": [
      "Number of gene combinations: 6903\n"
     ]
    }
   ],
   "source": [
    "n = len(gene_chr_objs)\n",
    "n_comb = int(n * (n - 1) / 2.0)\n",
    "print(f\"Number of gene combinations: {n_comb}\", flush=True)"
   ]
  },
  {
   "cell_type": "code",
   "execution_count": 33,
   "id": "cdbb90a1",
   "metadata": {
    "execution": {
     "iopub.execute_input": "2022-07-22T04:31:53.112774Z",
     "iopub.status.busy": "2022-07-22T04:31:53.112199Z",
     "iopub.status.idle": "2022-07-22T04:33:39.683629Z",
     "shell.execute_reply": "2022-07-22T04:33:39.683230Z"
    },
    "papermill": {
     "duration": 106.583225,
     "end_time": "2022-07-22T04:33:39.684930",
     "exception": false,
     "start_time": "2022-07-22T04:31:53.101705",
     "status": "completed"
    },
    "tags": []
   },
   "outputs": [
    {
     "name": "stderr",
     "output_type": "stream",
     "text": [
      "ENSG00000130177 / ENSG00000169062: 100%|████████████████████████| 6903/6903 [01:46<00:00, 64.79it/s]\n"
     ]
    },
    {
     "data": {
      "text/plain": [
       "PosixPath('/opt/data/results/gls/gene_corrs/cohorts/1000g_eur/1000g/mashr/by_chr/gene_corrs-chr13.pkl')"
      ]
     },
     "metadata": {},
     "output_type": "display_data"
    }
   ],
   "source": [
    "gene_corrs = []\n",
    "\n",
    "i = 0\n",
    "with tqdm(ncols=100, total=n_comb) as pbar:\n",
    "    for gene1_idx in range(0, len(gene_chr_objs) - 1):\n",
    "        gene1_obj = gene_chr_objs[gene1_idx]\n",
    "        gene1_tissues = spredixcan_genes_models.loc[gene1_obj.ensembl_id, \"tissue\"]\n",
    "\n",
    "        for gene2_idx in range(gene1_idx + 1, len(gene_chr_objs)):\n",
    "            gene2_obj = gene_chr_objs[gene2_idx]\n",
    "            gene2_tissues = spredixcan_genes_models.loc[gene2_obj.ensembl_id, \"tissue\"]\n",
    "\n",
    "            pbar.set_description(f\"{gene1_obj.ensembl_id} / {gene2_obj.ensembl_id}\")\n",
    "\n",
    "            try:\n",
    "                r = gene1_obj.get_ssm_correlation(\n",
    "                    other_gene=gene2_obj,\n",
    "                    tissues=gene1_tissues,\n",
    "                    other_tissues=gene2_tissues,\n",
    "                    snps_subset=gwas_variants_ids_set,\n",
    "                    condition_number=SMULTIXCAN_CONDITION_NUMBER,\n",
    "                    reference_panel=REFERENCE_PANEL,\n",
    "                    model_type=EQTL_MODEL,\n",
    "                    use_within_distance=COMPUTE_CORRELATIONS_WITHIN_DISTANCE,\n",
    "                )\n",
    "\n",
    "                if r is None:\n",
    "                    # if r is None, it's very likely because:\n",
    "                    #  * one of the genes has no prediction models\n",
    "                    #  * all the SNPs predictors for the gene are not present in the reference\n",
    "                    #    panel\n",
    "\n",
    "                    r = 0.0\n",
    "\n",
    "                gene_corrs.append(r)\n",
    "            except Warning as e:\n",
    "                if not DEBUG_MODE:\n",
    "                    raise e\n",
    "\n",
    "                print(\n",
    "                    f\"RuntimeWarning for genes {gene1_obj.ensembl_id} and {gene2_obj.ensembl_id}\",\n",
    "                    flush=True,\n",
    "                )\n",
    "                print(traceback.format_exc(), flush=True)\n",
    "\n",
    "                gene_corrs.append(np.nan)\n",
    "            except Exception as e:\n",
    "                if not DEBUG_MODE:\n",
    "                    raise e\n",
    "\n",
    "                print(\n",
    "                    f\"Exception for genes {gene1_obj.ensembl_id} and {gene2_obj.ensembl_id}\",\n",
    "                    flush=True,\n",
    "                )\n",
    "                print(traceback.format_exc(), flush=True)\n",
    "\n",
    "                gene_corrs.append(np.nan)\n",
    "\n",
    "            pbar.update(1)\n",
    "\n",
    "# create a pandas series\n",
    "gene_corrs_flat = pd.Series(gene_corrs)\n",
    "\n",
    "# save\n",
    "# FIXME: consider saving only the condenced matrix here. See here for\n",
    "# more details: https://github.com/greenelab/phenoplier/pull/38#discussion_r634600813\n",
    "gene_corrs_data = squareform(np.array(gene_corrs, dtype=np.float64))\n",
    "np.fill_diagonal(gene_corrs_data, 1.0)\n",
    "\n",
    "gene_chr_ids = [g.ensembl_id for g in gene_chr_objs]\n",
    "gene_corrs_df = pd.DataFrame(\n",
    "    data=gene_corrs_data,\n",
    "    index=gene_chr_ids,\n",
    "    columns=gene_chr_ids,\n",
    ")\n",
    "\n",
    "output_dir.mkdir(exist_ok=True, parents=True)\n",
    "display(output_file)\n",
    "\n",
    "gene_corrs_df.to_pickle(output_file)"
   ]
  },
  {
   "cell_type": "markdown",
   "id": "faa67b51-5373-470f-aa72-2ded53fa6dfe",
   "metadata": {
    "papermill": {
     "duration": 0.247543,
     "end_time": "2022-07-22T04:33:40.186005",
     "exception": false,
     "start_time": "2022-07-22T04:33:39.938462",
     "status": "completed"
    },
    "tags": []
   },
   "source": [
    "# Testing"
   ]
  },
  {
   "cell_type": "code",
   "execution_count": 34,
   "id": "14f7d046-4b55-4896-a56b-990127bcc388",
   "metadata": {
    "execution": {
     "iopub.execute_input": "2022-07-22T04:33:40.758467Z",
     "iopub.status.busy": "2022-07-22T04:33:40.757980Z",
     "iopub.status.idle": "2022-07-22T04:33:40.777113Z",
     "shell.execute_reply": "2022-07-22T04:33:40.776694Z"
    },
    "papermill": {
     "duration": 0.285039,
     "end_time": "2022-07-22T04:33:40.778568",
     "exception": false,
     "start_time": "2022-07-22T04:33:40.493529",
     "status": "completed"
    },
    "tags": []
   },
   "outputs": [
    {
     "data": {
      "text/plain": [
       "(118, 118)"
      ]
     },
     "execution_count": 34,
     "metadata": {},
     "output_type": "execute_result"
    }
   ],
   "source": [
    "gene_corrs_df.shape"
   ]
  },
  {
   "cell_type": "code",
   "execution_count": 35,
   "id": "c7d15414-3297-4537-a7c6-7588c0baeb75",
   "metadata": {
    "execution": {
     "iopub.execute_input": "2022-07-22T04:33:41.338306Z",
     "iopub.status.busy": "2022-07-22T04:33:41.338097Z",
     "iopub.status.idle": "2022-07-22T04:33:41.367823Z",
     "shell.execute_reply": "2022-07-22T04:33:41.367370Z"
    },
    "papermill": {
     "duration": 0.318138,
     "end_time": "2022-07-22T04:33:41.368999",
     "exception": false,
     "start_time": "2022-07-22T04:33:41.050861",
     "status": "completed"
    },
    "tags": []
   },
   "outputs": [
    {
     "data": {
      "text/html": [
       "<div>\n",
       "<style scoped>\n",
       "    .dataframe tbody tr th:only-of-type {\n",
       "        vertical-align: middle;\n",
       "    }\n",
       "\n",
       "    .dataframe tbody tr th {\n",
       "        vertical-align: top;\n",
       "    }\n",
       "\n",
       "    .dataframe thead th {\n",
       "        text-align: right;\n",
       "    }\n",
       "</style>\n",
       "<table border=\"1\" class=\"dataframe\">\n",
       "  <thead>\n",
       "    <tr style=\"text-align: right;\">\n",
       "      <th></th>\n",
       "      <th>ENSG00000121741</th>\n",
       "      <th>ENSG00000121743</th>\n",
       "      <th>ENSG00000121742</th>\n",
       "      <th>ENSG00000032742</th>\n",
       "      <th>ENSG00000150457</th>\n",
       "      <th>ENSG00000150459</th>\n",
       "      <th>ENSG00000102678</th>\n",
       "      <th>ENSG00000127863</th>\n",
       "      <th>ENSG00000228741</th>\n",
       "      <th>ENSG00000102699</th>\n",
       "      <th>...</th>\n",
       "      <th>ENSG00000126217</th>\n",
       "      <th>ENSG00000057593</th>\n",
       "      <th>ENSG00000126231</th>\n",
       "      <th>ENSG00000139842</th>\n",
       "      <th>ENSG00000185896</th>\n",
       "      <th>ENSG00000198176</th>\n",
       "      <th>ENSG00000183087</th>\n",
       "      <th>ENSG00000185989</th>\n",
       "      <th>ENSG00000130177</th>\n",
       "      <th>ENSG00000169062</th>\n",
       "    </tr>\n",
       "  </thead>\n",
       "  <tbody>\n",
       "    <tr>\n",
       "      <th>ENSG00000121741</th>\n",
       "      <td>1.000000</td>\n",
       "      <td>0.024613</td>\n",
       "      <td>0.001492</td>\n",
       "      <td>0.003548</td>\n",
       "      <td>0.003639</td>\n",
       "      <td>0.008662</td>\n",
       "      <td>0.002423</td>\n",
       "      <td>0.007004</td>\n",
       "      <td>0.008166</td>\n",
       "      <td>0.003152</td>\n",
       "      <td>...</td>\n",
       "      <td>0.0</td>\n",
       "      <td>0.0</td>\n",
       "      <td>0.0</td>\n",
       "      <td>0.0</td>\n",
       "      <td>0.0</td>\n",
       "      <td>0.0</td>\n",
       "      <td>0.0</td>\n",
       "      <td>0.0</td>\n",
       "      <td>0.0</td>\n",
       "      <td>0.0</td>\n",
       "    </tr>\n",
       "    <tr>\n",
       "      <th>ENSG00000121743</th>\n",
       "      <td>0.024613</td>\n",
       "      <td>1.000000</td>\n",
       "      <td>0.021914</td>\n",
       "      <td>0.011446</td>\n",
       "      <td>0.011739</td>\n",
       "      <td>0.015606</td>\n",
       "      <td>0.005606</td>\n",
       "      <td>0.013557</td>\n",
       "      <td>0.012553</td>\n",
       "      <td>0.010330</td>\n",
       "      <td>...</td>\n",
       "      <td>0.0</td>\n",
       "      <td>0.0</td>\n",
       "      <td>0.0</td>\n",
       "      <td>0.0</td>\n",
       "      <td>0.0</td>\n",
       "      <td>0.0</td>\n",
       "      <td>0.0</td>\n",
       "      <td>0.0</td>\n",
       "      <td>0.0</td>\n",
       "      <td>0.0</td>\n",
       "    </tr>\n",
       "    <tr>\n",
       "      <th>ENSG00000121742</th>\n",
       "      <td>0.001492</td>\n",
       "      <td>0.021914</td>\n",
       "      <td>1.000000</td>\n",
       "      <td>0.012936</td>\n",
       "      <td>0.004079</td>\n",
       "      <td>0.009687</td>\n",
       "      <td>0.011754</td>\n",
       "      <td>0.010938</td>\n",
       "      <td>0.015156</td>\n",
       "      <td>0.010538</td>\n",
       "      <td>...</td>\n",
       "      <td>0.0</td>\n",
       "      <td>0.0</td>\n",
       "      <td>0.0</td>\n",
       "      <td>0.0</td>\n",
       "      <td>0.0</td>\n",
       "      <td>0.0</td>\n",
       "      <td>0.0</td>\n",
       "      <td>0.0</td>\n",
       "      <td>0.0</td>\n",
       "      <td>0.0</td>\n",
       "    </tr>\n",
       "    <tr>\n",
       "      <th>ENSG00000032742</th>\n",
       "      <td>0.003548</td>\n",
       "      <td>0.011446</td>\n",
       "      <td>0.012936</td>\n",
       "      <td>1.000000</td>\n",
       "      <td>0.018501</td>\n",
       "      <td>0.010798</td>\n",
       "      <td>0.015445</td>\n",
       "      <td>0.013732</td>\n",
       "      <td>0.007938</td>\n",
       "      <td>0.005516</td>\n",
       "      <td>...</td>\n",
       "      <td>0.0</td>\n",
       "      <td>0.0</td>\n",
       "      <td>0.0</td>\n",
       "      <td>0.0</td>\n",
       "      <td>0.0</td>\n",
       "      <td>0.0</td>\n",
       "      <td>0.0</td>\n",
       "      <td>0.0</td>\n",
       "      <td>0.0</td>\n",
       "      <td>0.0</td>\n",
       "    </tr>\n",
       "    <tr>\n",
       "      <th>ENSG00000150457</th>\n",
       "      <td>0.003639</td>\n",
       "      <td>0.011739</td>\n",
       "      <td>0.004079</td>\n",
       "      <td>0.018501</td>\n",
       "      <td>1.000000</td>\n",
       "      <td>0.008830</td>\n",
       "      <td>0.005361</td>\n",
       "      <td>0.009503</td>\n",
       "      <td>0.009976</td>\n",
       "      <td>0.005388</td>\n",
       "      <td>...</td>\n",
       "      <td>0.0</td>\n",
       "      <td>0.0</td>\n",
       "      <td>0.0</td>\n",
       "      <td>0.0</td>\n",
       "      <td>0.0</td>\n",
       "      <td>0.0</td>\n",
       "      <td>0.0</td>\n",
       "      <td>0.0</td>\n",
       "      <td>0.0</td>\n",
       "      <td>0.0</td>\n",
       "    </tr>\n",
       "  </tbody>\n",
       "</table>\n",
       "<p>5 rows × 118 columns</p>\n",
       "</div>"
      ],
      "text/plain": [
       "                 ENSG00000121741  ENSG00000121743  ENSG00000121742  \\\n",
       "ENSG00000121741         1.000000         0.024613         0.001492   \n",
       "ENSG00000121743         0.024613         1.000000         0.021914   \n",
       "ENSG00000121742         0.001492         0.021914         1.000000   \n",
       "ENSG00000032742         0.003548         0.011446         0.012936   \n",
       "ENSG00000150457         0.003639         0.011739         0.004079   \n",
       "\n",
       "                 ENSG00000032742  ENSG00000150457  ENSG00000150459  \\\n",
       "ENSG00000121741         0.003548         0.003639         0.008662   \n",
       "ENSG00000121743         0.011446         0.011739         0.015606   \n",
       "ENSG00000121742         0.012936         0.004079         0.009687   \n",
       "ENSG00000032742         1.000000         0.018501         0.010798   \n",
       "ENSG00000150457         0.018501         1.000000         0.008830   \n",
       "\n",
       "                 ENSG00000102678  ENSG00000127863  ENSG00000228741  \\\n",
       "ENSG00000121741         0.002423         0.007004         0.008166   \n",
       "ENSG00000121743         0.005606         0.013557         0.012553   \n",
       "ENSG00000121742         0.011754         0.010938         0.015156   \n",
       "ENSG00000032742         0.015445         0.013732         0.007938   \n",
       "ENSG00000150457         0.005361         0.009503         0.009976   \n",
       "\n",
       "                 ENSG00000102699  ...  ENSG00000126217  ENSG00000057593  \\\n",
       "ENSG00000121741         0.003152  ...              0.0              0.0   \n",
       "ENSG00000121743         0.010330  ...              0.0              0.0   \n",
       "ENSG00000121742         0.010538  ...              0.0              0.0   \n",
       "ENSG00000032742         0.005516  ...              0.0              0.0   \n",
       "ENSG00000150457         0.005388  ...              0.0              0.0   \n",
       "\n",
       "                 ENSG00000126231  ENSG00000139842  ENSG00000185896  \\\n",
       "ENSG00000121741              0.0              0.0              0.0   \n",
       "ENSG00000121743              0.0              0.0              0.0   \n",
       "ENSG00000121742              0.0              0.0              0.0   \n",
       "ENSG00000032742              0.0              0.0              0.0   \n",
       "ENSG00000150457              0.0              0.0              0.0   \n",
       "\n",
       "                 ENSG00000198176  ENSG00000183087  ENSG00000185989  \\\n",
       "ENSG00000121741              0.0              0.0              0.0   \n",
       "ENSG00000121743              0.0              0.0              0.0   \n",
       "ENSG00000121742              0.0              0.0              0.0   \n",
       "ENSG00000032742              0.0              0.0              0.0   \n",
       "ENSG00000150457              0.0              0.0              0.0   \n",
       "\n",
       "                 ENSG00000130177  ENSG00000169062  \n",
       "ENSG00000121741              0.0              0.0  \n",
       "ENSG00000121743              0.0              0.0  \n",
       "ENSG00000121742              0.0              0.0  \n",
       "ENSG00000032742              0.0              0.0  \n",
       "ENSG00000150457              0.0              0.0  \n",
       "\n",
       "[5 rows x 118 columns]"
      ]
     },
     "execution_count": 35,
     "metadata": {},
     "output_type": "execute_result"
    }
   ],
   "source": [
    "gene_corrs_df.head()"
   ]
  },
  {
   "cell_type": "markdown",
   "id": "dad6603f-01c6-41fb-a6f6-241051207dd8",
   "metadata": {
    "papermill": {
     "duration": 0.258275,
     "end_time": "2022-07-22T04:33:41.912134",
     "exception": false,
     "start_time": "2022-07-22T04:33:41.653859",
     "status": "completed"
    },
    "tags": []
   },
   "source": [
    "## Standard checks and stats"
   ]
  },
  {
   "cell_type": "code",
   "execution_count": 36,
   "id": "286686af-1b7b-4440-8453-6bdcbd8de19c",
   "metadata": {
    "execution": {
     "iopub.execute_input": "2022-07-22T04:33:42.462078Z",
     "iopub.status.busy": "2022-07-22T04:33:42.461756Z",
     "iopub.status.idle": "2022-07-22T04:33:42.478546Z",
     "shell.execute_reply": "2022-07-22T04:33:42.478016Z"
    },
    "papermill": {
     "duration": 0.278191,
     "end_time": "2022-07-22T04:33:42.479992",
     "exception": false,
     "start_time": "2022-07-22T04:33:42.201801",
     "status": "completed"
    },
    "tags": []
   },
   "outputs": [],
   "source": [
    "assert not gene_corrs_df.isna().any().any()"
   ]
  },
  {
   "cell_type": "code",
   "execution_count": 37,
   "id": "00583efc-7068-4270-ad1e-4a418e91db96",
   "metadata": {
    "execution": {
     "iopub.execute_input": "2022-07-22T04:33:43.042764Z",
     "iopub.status.busy": "2022-07-22T04:33:43.042373Z",
     "iopub.status.idle": "2022-07-22T04:33:43.058951Z",
     "shell.execute_reply": "2022-07-22T04:33:43.058500Z"
    },
    "papermill": {
     "duration": 0.310158,
     "end_time": "2022-07-22T04:33:43.060112",
     "exception": false,
     "start_time": "2022-07-22T04:33:42.749954",
     "status": "completed"
    },
    "tags": []
   },
   "outputs": [
    {
     "data": {
      "text/plain": [
       "0.0"
      ]
     },
     "metadata": {},
     "output_type": "display_data"
    }
   ],
   "source": [
    "_min_val = gene_corrs_df.min().min()\n",
    "display(_min_val)\n",
    "assert _min_val >= 0.0"
   ]
  },
  {
   "cell_type": "code",
   "execution_count": 38,
   "id": "d04fb2cf-1050-475b-b855-f5f7cc04092b",
   "metadata": {
    "execution": {
     "iopub.execute_input": "2022-07-22T04:33:43.566526Z",
     "iopub.status.busy": "2022-07-22T04:33:43.566076Z",
     "iopub.status.idle": "2022-07-22T04:33:43.595431Z",
     "shell.execute_reply": "2022-07-22T04:33:43.594945Z"
    },
    "papermill": {
     "duration": 0.289223,
     "end_time": "2022-07-22T04:33:43.600657",
     "exception": false,
     "start_time": "2022-07-22T04:33:43.311434",
     "status": "completed"
    },
    "tags": []
   },
   "outputs": [
    {
     "data": {
      "text/plain": [
       "1.0"
      ]
     },
     "metadata": {},
     "output_type": "display_data"
    }
   ],
   "source": [
    "_max_val = gene_corrs_df.max().max()  # this captures the diagonal\n",
    "display(_max_val)\n",
    "assert _max_val <= 1.0"
   ]
  },
  {
   "cell_type": "code",
   "execution_count": 39,
   "id": "96d02c44-1fba-47be-8a93-8f2608420b9c",
   "metadata": {
    "execution": {
     "iopub.execute_input": "2022-07-22T04:33:44.132985Z",
     "iopub.status.busy": "2022-07-22T04:33:44.132755Z",
     "iopub.status.idle": "2022-07-22T04:33:44.147946Z",
     "shell.execute_reply": "2022-07-22T04:33:44.147529Z"
    },
    "papermill": {
     "duration": 0.301271,
     "end_time": "2022-07-22T04:33:44.149224",
     "exception": false,
     "start_time": "2022-07-22T04:33:43.847953",
     "status": "completed"
    },
    "tags": []
   },
   "outputs": [],
   "source": [
    "# check upper triangular values\n",
    "assert len(gene_corrs) == int(genes_chr.shape[0] * (genes_chr.shape[0] - 1) / 2)"
   ]
  },
  {
   "cell_type": "code",
   "execution_count": 40,
   "id": "fe283586-c348-40e0-8841-f6d97bfb021c",
   "metadata": {
    "execution": {
     "iopub.execute_input": "2022-07-22T04:33:44.665819Z",
     "iopub.status.busy": "2022-07-22T04:33:44.665617Z",
     "iopub.status.idle": "2022-07-22T04:33:44.683595Z",
     "shell.execute_reply": "2022-07-22T04:33:44.683154Z"
    },
    "papermill": {
     "duration": 0.277936,
     "end_time": "2022-07-22T04:33:44.684781",
     "exception": false,
     "start_time": "2022-07-22T04:33:44.406845",
     "status": "completed"
    },
    "tags": []
   },
   "outputs": [
    {
     "data": {
      "text/plain": [
       "count    6903.000000\n",
       "mean        0.004448\n",
       "std         0.036692\n",
       "min         0.000000\n",
       "25%         0.000000\n",
       "50%         0.000000\n",
       "75%         0.000000\n",
       "max         0.977987\n",
       "dtype: float64"
      ]
     },
     "execution_count": 40,
     "metadata": {},
     "output_type": "execute_result"
    }
   ],
   "source": [
    "gene_corrs_flat.describe()"
   ]
  },
  {
   "cell_type": "code",
   "execution_count": 41,
   "id": "b3815678-0f93-4b35-897b-a9d047a2aa78",
   "metadata": {
    "execution": {
     "iopub.execute_input": "2022-07-22T04:33:45.227710Z",
     "iopub.status.busy": "2022-07-22T04:33:45.227533Z",
     "iopub.status.idle": "2022-07-22T04:33:45.246361Z",
     "shell.execute_reply": "2022-07-22T04:33:45.245854Z"
    },
    "papermill": {
     "duration": 0.275537,
     "end_time": "2022-07-22T04:33:45.247622",
     "exception": false,
     "start_time": "2022-07-22T04:33:44.972085",
     "status": "completed"
    },
    "tags": []
   },
   "outputs": [
    {
     "data": {
      "text/plain": [
       "0.00    0.000000\n",
       "0.05    0.000000\n",
       "0.10    0.000000\n",
       "0.15    0.000000\n",
       "0.20    0.000000\n",
       "0.25    0.000000\n",
       "0.30    0.000000\n",
       "0.35    0.000000\n",
       "0.40    0.000000\n",
       "0.45    0.000000\n",
       "0.50    0.000000\n",
       "0.55    0.000000\n",
       "0.60    0.000000\n",
       "0.65    0.000000\n",
       "0.70    0.000000\n",
       "0.75    0.000000\n",
       "0.80    0.000000\n",
       "0.85    0.000000\n",
       "0.90    0.006996\n",
       "0.95    0.011974\n",
       "dtype: float64"
      ]
     },
     "metadata": {},
     "output_type": "display_data"
    }
   ],
   "source": [
    "gene_corrs_quantiles = gene_corrs_flat.quantile(np.arange(0, 1, 0.05))\n",
    "display(gene_corrs_quantiles)"
   ]
  },
  {
   "cell_type": "markdown",
   "id": "87134509-b145-4a10-8bc9-b7e914c2b0fa",
   "metadata": {
    "papermill": {
     "duration": 0.281627,
     "end_time": "2022-07-22T04:33:45.801417",
     "exception": false,
     "start_time": "2022-07-22T04:33:45.519790",
     "status": "completed"
    },
    "tags": []
   },
   "source": [
    "## Positive definiteness"
   ]
  },
  {
   "cell_type": "code",
   "execution_count": 42,
   "id": "07d9a9a1-a4f7-48aa-b916-6d42a8cc6186",
   "metadata": {
    "execution": {
     "iopub.execute_input": "2022-07-22T04:33:46.309643Z",
     "iopub.status.busy": "2022-07-22T04:33:46.309479Z",
     "iopub.status.idle": "2022-07-22T04:33:46.328694Z",
     "shell.execute_reply": "2022-07-22T04:33:46.328259Z"
    },
    "papermill": {
     "duration": 0.27862,
     "end_time": "2022-07-22T04:33:46.329906",
     "exception": false,
     "start_time": "2022-07-22T04:33:46.051286",
     "status": "completed"
    },
    "tags": []
   },
   "outputs": [
    {
     "data": {
      "text/plain": [
       "0"
      ]
     },
     "metadata": {},
     "output_type": "display_data"
    },
    {
     "data": {
      "text/plain": [
       "array([], dtype=float64)"
      ]
     },
     "metadata": {},
     "output_type": "display_data"
    }
   ],
   "source": [
    "# print negative eigenvalues\n",
    "eigs = np.linalg.eigvals(gene_corrs_df.to_numpy())\n",
    "display(len(eigs[eigs < 0]))\n",
    "display(eigs[eigs < 0])"
   ]
  },
  {
   "cell_type": "code",
   "execution_count": 43,
   "id": "6e218436-c3c5-4028-8c94-a4fa6260efce",
   "metadata": {
    "execution": {
     "iopub.execute_input": "2022-07-22T04:33:46.863241Z",
     "iopub.status.busy": "2022-07-22T04:33:46.863074Z",
     "iopub.status.idle": "2022-07-22T04:33:46.879178Z",
     "shell.execute_reply": "2022-07-22T04:33:46.878788Z"
    },
    "papermill": {
     "duration": 0.264184,
     "end_time": "2022-07-22T04:33:46.880337",
     "exception": false,
     "start_time": "2022-07-22T04:33:46.616153",
     "status": "completed"
    },
    "tags": []
   },
   "outputs": [
    {
     "name": "stdout",
     "output_type": "stream",
     "text": [
      "Works!\n"
     ]
    }
   ],
   "source": [
    "try:\n",
    "    chol_mat = np.linalg.cholesky(gene_corrs_df.to_numpy())\n",
    "    cov_inv = np.linalg.inv(chol_mat)\n",
    "    print(\"Works!\")\n",
    "except:\n",
    "    print(\"Cholesky decomposition failed\")"
   ]
  },
  {
   "cell_type": "markdown",
   "id": "8e60a080-edb2-4e9c-b2ef-22961693200c",
   "metadata": {
    "papermill": {
     "duration": 0.287931,
     "end_time": "2022-07-22T04:33:47.459739",
     "exception": false,
     "start_time": "2022-07-22T04:33:47.171808",
     "status": "completed"
    },
    "tags": []
   },
   "source": [
    "## Plot: distribution"
   ]
  },
  {
   "cell_type": "code",
   "execution_count": 44,
   "id": "8301126b-a7d4-4744-9c7d-f0f86eb6f54c",
   "metadata": {
    "execution": {
     "iopub.execute_input": "2022-07-22T04:33:47.974009Z",
     "iopub.status.busy": "2022-07-22T04:33:47.973621Z",
     "iopub.status.idle": "2022-07-22T04:33:48.188431Z",
     "shell.execute_reply": "2022-07-22T04:33:48.188034Z"
    },
    "papermill": {
     "duration": 0.471721,
     "end_time": "2022-07-22T04:33:48.189722",
     "exception": false,
     "start_time": "2022-07-22T04:33:47.718001",
     "status": "completed"
    },
    "tags": []
   },
   "outputs": [
    {
     "data": {
      "image/png": "[encoded data removed]",
      "text/plain": [
       "<Figure size 504x504 with 1 Axes>"
      ]
     },
     "metadata": {
      "needs_background": "light"
     },
     "output_type": "display_data"
    }
   ],
   "source": [
    "with sns.plotting_context(\"paper\", font_scale=1.5):\n",
    "    g = sns.displot(gene_corrs_flat, kde=True, height=7)\n",
    "    g.ax.set_title(\n",
    "        f\"Distribution of gene correlation values in chromosome {CHROMOSOME}\"\n",
    "    )"
   ]
  },
  {
   "cell_type": "markdown",
   "id": "cbd52bca-d878-4a2f-b684-5c83aa3038d4",
   "metadata": {
    "papermill": {
     "duration": 0.251525,
     "end_time": "2022-07-22T04:33:48.731633",
     "exception": false,
     "start_time": "2022-07-22T04:33:48.480108",
     "status": "completed"
    },
    "tags": []
   },
   "source": [
    "## Plot: heatmap"
   ]
  },
  {
   "cell_type": "code",
   "execution_count": 45,
   "id": "d03fe63a-c7b2-4fb9-a53c-db362ce843c9",
   "metadata": {
    "execution": {
     "iopub.execute_input": "2022-07-22T04:33:49.273817Z",
     "iopub.status.busy": "2022-07-22T04:33:49.273642Z",
     "iopub.status.idle": "2022-07-22T04:33:49.290631Z",
     "shell.execute_reply": "2022-07-22T04:33:49.290122Z"
    },
    "papermill": {
     "duration": 0.308664,
     "end_time": "2022-07-22T04:33:49.291879",
     "exception": false,
     "start_time": "2022-07-22T04:33:48.983215",
     "status": "completed"
    },
    "tags": []
   },
   "outputs": [
    {
     "data": {
      "text/plain": [
       "'0.0 / 0.05'"
      ]
     },
     "metadata": {},
     "output_type": "display_data"
    }
   ],
   "source": [
    "vmin_val = min(0.00, gene_corrs_quantiles[0.10])\n",
    "vmax_val = max(0.05, gene_corrs_quantiles[0.90])\n",
    "display(f\"{vmin_val} / {vmax_val}\")"
   ]
  },
  {
   "cell_type": "code",
   "execution_count": 46,
   "id": "dc41b70b-5bcc-4d9e-9f33-a22c4a94dab5",
   "metadata": {
    "execution": {
     "iopub.execute_input": "2022-07-22T04:33:49.813010Z",
     "iopub.status.busy": "2022-07-22T04:33:49.812842Z",
     "iopub.status.idle": "2022-07-22T04:33:49.954482Z",
     "shell.execute_reply": "2022-07-22T04:33:49.953888Z"
    },
    "papermill": {
     "duration": 0.400483,
     "end_time": "2022-07-22T04:33:49.955734",
     "exception": false,
     "start_time": "2022-07-22T04:33:49.555251",
     "status": "completed"
    },
    "tags": []
   },
   "outputs": [
    {
     "data": {
      "text/plain": [
       "Text(0.5, 1.0, 'Gene correlations in chromosome 13')"
      ]
     },
     "execution_count": 46,
     "metadata": {},
     "output_type": "execute_result"
    },
    {
     "data": {
      "image/png": "[encoded data removed]",
      "text/plain": [
       "<Figure size 720x720 with 2 Axes>"
      ]
     },
     "metadata": {
      "needs_background": "light"
     },
     "output_type": "display_data"
    }
   ],
   "source": [
    "f, ax = plt.subplots(figsize=(10, 10))\n",
    "sns.heatmap(\n",
    "    gene_corrs_df,\n",
    "    xticklabels=False,\n",
    "    yticklabels=False,\n",
    "    square=True,\n",
    "    vmin=vmin_val,\n",
    "    vmax=vmax_val,\n",
    "    cmap=\"rocket_r\",\n",
    "    ax=ax,\n",
    ")\n",
    "ax.set_title(f\"Gene correlations in chromosome {CHROMOSOME}\")"
   ]
  },
  {
   "cell_type": "code",
   "execution_count": null,
   "id": "b25e3ead",
   "metadata": {
    "papermill": {
     "duration": 0.257506,
     "end_time": "2022-07-22T04:33:50.494558",
     "exception": false,
     "start_time": "2022-07-22T04:33:50.237052",
     "status": "completed"
    },
    "tags": []
   },
   "outputs": [],
   "source": []
  }
 ],
 "metadata": {
  "jupytext": {
   "cell_metadata_filter": "all,-execution,-papermill,-trusted",
   "formats": "ipynb,py//py:percent"
  },
  "kernelspec": {
   "display_name": "Python 3 (ipykernel)",
   "language": "python",
   "name": "python3"
  },
  "language_info": {
   "codemirror_mode": {
    "name": "ipython",
    "version": 3
   },
   "file_extension": ".py",
   "mimetype": "text/x-python",
   "name": "python",
   "nbconvert_exporter": "python",
   "pygments_lexer": "ipython3",
   "version": "3.8.13"
  },
  "papermill": {
   "default_parameters": {},
   "duration": 129.622674,
   "end_time": "2022-07-22T04:33:53.739386",
   "environment_variables": {},
   "exception": null,
   "input_path": "nbs/15_gsa_gls/10-gene_expr_correlations.ipynb",
   "output_path": "nbs/15_gsa_gls/gene_corrs/cohorts/1000g_eur/1000g/mashr/10-gene_expr_correlations-chr13.run.ipynb",
   "parameters": {
    "CHROMOSOME": 13,
    "COHORT_NAME": "1000G_EUR",
    "EQTL_MODEL": "MASHR",
    "REFERENCE_PANEL": "1000G"
   },
   "start_time": "2022-07-22T04:31:44.116712",
   "version": "2.2.2"
  }
 },
 "nbformat": 4,
 "nbformat_minor": 5
}
