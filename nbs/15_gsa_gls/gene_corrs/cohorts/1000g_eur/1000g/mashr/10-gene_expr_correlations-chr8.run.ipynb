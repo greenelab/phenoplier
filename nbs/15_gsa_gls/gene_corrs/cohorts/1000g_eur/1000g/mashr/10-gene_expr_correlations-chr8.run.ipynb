{
 "cells": [
  {
   "cell_type": "markdown",
   "id": "7a6632fb",
   "metadata": {
    "papermill": {
     "duration": 0.006252,
     "end_time": "2022-08-08T18:16:26.765124",
     "exception": false,
     "start_time": "2022-08-08T18:16:26.758872",
     "status": "completed"
    },
    "tags": []
   },
   "source": [
    "# Description"
   ]
  },
  {
   "cell_type": "markdown",
   "id": "7097c346",
   "metadata": {
    "papermill": {
     "duration": 0.005484,
     "end_time": "2022-08-08T18:16:26.776267",
     "exception": false,
     "start_time": "2022-08-08T18:16:26.770783",
     "status": "completed"
    },
    "tags": []
   },
   "source": [
    "(Please, take a look at the README.md file in this directory for instructions on how to run this notebook)\n",
    "\n",
    "This notebook computes predicted expression correlations between all genes in the MultiPLIER models.\n",
    "\n",
    "It also has a parameter set for papermill to run on a single chromosome to run in parallel (see under `Settings` below).\n",
    "\n",
    "This notebook is not directly run. See README.md."
   ]
  },
  {
   "cell_type": "markdown",
   "id": "c61d8427",
   "metadata": {
    "papermill": {
     "duration": 0.005614,
     "end_time": "2022-08-08T18:16:26.787300",
     "exception": false,
     "start_time": "2022-08-08T18:16:26.781686",
     "status": "completed"
    },
    "tags": []
   },
   "source": [
    "# Modules"
   ]
  },
  {
   "cell_type": "code",
   "execution_count": 1,
   "id": "bbc0234f",
   "metadata": {
    "execution": {
     "iopub.execute_input": "2022-08-08T18:16:26.799318Z",
     "iopub.status.busy": "2022-08-08T18:16:26.799061Z",
     "iopub.status.idle": "2022-08-08T18:16:26.821109Z",
     "shell.execute_reply": "2022-08-08T18:16:26.820719Z"
    },
    "papermill": {
     "duration": 0.029683,
     "end_time": "2022-08-08T18:16:26.822403",
     "exception": false,
     "start_time": "2022-08-08T18:16:26.792720",
     "status": "completed"
    },
    "tags": []
   },
   "outputs": [],
   "source": [
    "%load_ext autoreload\n",
    "%autoreload 2"
   ]
  },
  {
   "cell_type": "code",
   "execution_count": 2,
   "id": "1d5f5a59",
   "metadata": {
    "execution": {
     "iopub.execute_input": "2022-08-08T18:16:26.834677Z",
     "iopub.status.busy": "2022-08-08T18:16:26.834386Z",
     "iopub.status.idle": "2022-08-08T18:16:27.725751Z",
     "shell.execute_reply": "2022-08-08T18:16:27.725347Z"
    },
    "papermill": {
     "duration": 0.898986,
     "end_time": "2022-08-08T18:16:27.727036",
     "exception": false,
     "start_time": "2022-08-08T18:16:26.828050",
     "status": "completed"
    },
    "tags": []
   },
   "outputs": [],
   "source": [
    "from random import sample, seed\n",
    "import warnings\n",
    "from pathlib import Path\n",
    "import pickle\n",
    "import traceback\n",
    "\n",
    "import numpy as np\n",
    "from scipy.spatial.distance import squareform\n",
    "import pandas as pd\n",
    "from tqdm import tqdm\n",
    "import matplotlib.pyplot as plt\n",
    "import seaborn as sns\n",
    "\n",
    "import conf\n",
    "from entity import Gene"
   ]
  },
  {
   "cell_type": "markdown",
   "id": "1eac24b5",
   "metadata": {
    "papermill": {
     "duration": 0.005991,
     "end_time": "2022-08-08T18:16:27.766197",
     "exception": false,
     "start_time": "2022-08-08T18:16:27.760206",
     "status": "completed"
    },
    "tags": []
   },
   "source": [
    "# Settings"
   ]
  },
  {
   "cell_type": "code",
   "execution_count": 3,
   "id": "ca4560ba",
   "metadata": {
    "execution": {
     "iopub.execute_input": "2022-08-08T18:16:27.778992Z",
     "iopub.status.busy": "2022-08-08T18:16:27.778651Z",
     "iopub.status.idle": "2022-08-08T18:16:27.793948Z",
     "shell.execute_reply": "2022-08-08T18:16:27.793427Z"
    },
    "papermill": {
     "duration": 0.023149,
     "end_time": "2022-08-08T18:16:27.795427",
     "exception": false,
     "start_time": "2022-08-08T18:16:27.772278",
     "status": "completed"
    },
    "tags": [
     "parameters"
    ]
   },
   "outputs": [],
   "source": [
    "# a cohort name (it could be something like UK_BIOBANK, etc)\n",
    "COHORT_NAME = None\n",
    "\n",
    "# reference panel such as 1000G or GTEX_V8\n",
    "REFERENCE_PANEL = None\n",
    "\n",
    "# predictions models such as MASHR or ELASTIC_NET\n",
    "EQTL_MODEL = None\n",
    "\n",
    "# this is the default value used in S-MultiXcan to select the\n",
    "# top principal components of the expression correlation matrix\n",
    "SMULTIXCAN_CONDITION_NUMBER = 30\n",
    "\n",
    "# specifies a single chromosome value\n",
    "CHROMOSOME = None\n",
    "\n",
    "# If True, computes the correlation between closeby genes only;\n",
    "# otherwise, it computes correlations for all genes in a chromosome\n",
    "COMPUTE_CORRELATIONS_WITHIN_DISTANCE = False\n",
    "\n",
    "# if True, then it will continue if a gene pair correlation fails,\n",
    "# printing the warning/error for debugging. If False, any warning/error\n",
    "# will be thrown\n",
    "DEBUG_MODE = False"
   ]
  },
  {
   "cell_type": "code",
   "execution_count": 4,
   "id": "7ab41611",
   "metadata": {
    "execution": {
     "iopub.execute_input": "2022-08-08T18:16:27.808747Z",
     "iopub.status.busy": "2022-08-08T18:16:27.808374Z",
     "iopub.status.idle": "2022-08-08T18:16:27.822587Z",
     "shell.execute_reply": "2022-08-08T18:16:27.822064Z"
    },
    "papermill": {
     "duration": 0.021506,
     "end_time": "2022-08-08T18:16:27.823847",
     "exception": false,
     "start_time": "2022-08-08T18:16:27.802341",
     "status": "completed"
    },
    "tags": [
     "injected-parameters"
    ]
   },
   "outputs": [],
   "source": [
    "# Parameters\n",
    "COHORT_NAME = \"1000G_EUR\"\n",
    "REFERENCE_PANEL = \"1000G\"\n",
    "EQTL_MODEL = \"MASHR\"\n",
    "CHROMOSOME = 8\n"
   ]
  },
  {
   "cell_type": "code",
   "execution_count": 5,
   "id": "3190631f-27fc-480f-b18e-571d580425a5",
   "metadata": {
    "execution": {
     "iopub.execute_input": "2022-08-08T18:16:27.836065Z",
     "iopub.status.busy": "2022-08-08T18:16:27.835723Z",
     "iopub.status.idle": "2022-08-08T18:16:27.851695Z",
     "shell.execute_reply": "2022-08-08T18:16:27.851281Z"
    },
    "papermill": {
     "duration": 0.023678,
     "end_time": "2022-08-08T18:16:27.853092",
     "exception": false,
     "start_time": "2022-08-08T18:16:27.829414",
     "status": "completed"
    },
    "tags": []
   },
   "outputs": [
    {
     "data": {
      "text/plain": [
       "'Cohort name: 1000g_eur'"
      ]
     },
     "metadata": {},
     "output_type": "display_data"
    }
   ],
   "source": [
    "assert COHORT_NAME is not None and len(COHORT_NAME) > 0, \"A cohort name must be given\"\n",
    "\n",
    "COHORT_NAME = COHORT_NAME.lower()\n",
    "display(f\"Cohort name: {COHORT_NAME}\")"
   ]
  },
  {
   "cell_type": "code",
   "execution_count": 6,
   "id": "f53ba19b-0f93-4fa2-a047-63b375939d1a",
   "metadata": {
    "execution": {
     "iopub.execute_input": "2022-08-08T18:16:27.865019Z",
     "iopub.status.busy": "2022-08-08T18:16:27.864669Z",
     "iopub.status.idle": "2022-08-08T18:16:27.878943Z",
     "shell.execute_reply": "2022-08-08T18:16:27.878536Z"
    },
    "papermill": {
     "duration": 0.021519,
     "end_time": "2022-08-08T18:16:27.880143",
     "exception": false,
     "start_time": "2022-08-08T18:16:27.858624",
     "status": "completed"
    },
    "tags": []
   },
   "outputs": [
    {
     "data": {
      "text/plain": [
       "'Reference panel: 1000G'"
      ]
     },
     "metadata": {},
     "output_type": "display_data"
    }
   ],
   "source": [
    "assert (\n",
    "    REFERENCE_PANEL is not None and len(REFERENCE_PANEL) > 0\n",
    "), \"A reference panel must be given\"\n",
    "\n",
    "display(f\"Reference panel: {REFERENCE_PANEL}\")"
   ]
  },
  {
   "cell_type": "code",
   "execution_count": 7,
   "id": "e024d130-c139-429a-9c6e-ccf149e297b0",
   "metadata": {
    "execution": {
     "iopub.execute_input": "2022-08-08T18:16:27.892128Z",
     "iopub.status.busy": "2022-08-08T18:16:27.891903Z",
     "iopub.status.idle": "2022-08-08T18:16:27.907379Z",
     "shell.execute_reply": "2022-08-08T18:16:27.906939Z"
    },
    "papermill": {
     "duration": 0.022833,
     "end_time": "2022-08-08T18:16:27.908596",
     "exception": false,
     "start_time": "2022-08-08T18:16:27.885763",
     "status": "completed"
    },
    "tags": []
   },
   "outputs": [
    {
     "data": {
      "text/plain": [
       "'eQTL model: MASHR) / mashr_'"
      ]
     },
     "metadata": {},
     "output_type": "display_data"
    }
   ],
   "source": [
    "assert (\n",
    "    EQTL_MODEL is not None and len(EQTL_MODEL) > 0\n",
    "), \"A prediction/eQTL model must be given\"\n",
    "\n",
    "EQTL_MODEL_FILES_PREFIX = conf.PHENOMEXCAN[\"PREDICTION_MODELS\"][f\"{EQTL_MODEL}_PREFIX\"]\n",
    "display(f\"eQTL model: {EQTL_MODEL}) / {EQTL_MODEL_FILES_PREFIX}\")"
   ]
  },
  {
   "cell_type": "code",
   "execution_count": 8,
   "id": "552a7f63-a18c-4d3e-bb6a-94f99b431291",
   "metadata": {
    "execution": {
     "iopub.execute_input": "2022-08-08T18:16:27.920686Z",
     "iopub.status.busy": "2022-08-08T18:16:27.920492Z",
     "iopub.status.idle": "2022-08-08T18:16:27.935157Z",
     "shell.execute_reply": "2022-08-08T18:16:27.934699Z"
    },
    "papermill": {
     "duration": 0.023159,
     "end_time": "2022-08-08T18:16:27.937466",
     "exception": false,
     "start_time": "2022-08-08T18:16:27.914307",
     "status": "completed"
    },
    "tags": []
   },
   "outputs": [
    {
     "data": {
      "text/plain": [
       "'S-MultiXcan condition number: 30'"
      ]
     },
     "metadata": {},
     "output_type": "display_data"
    }
   ],
   "source": [
    "assert (\n",
    "    SMULTIXCAN_CONDITION_NUMBER is not None and SMULTIXCAN_CONDITION_NUMBER > 0\n",
    "), \"The S-MultiXcan condition number (positive integer) must be given\"\n",
    "\n",
    "display(f\"S-MultiXcan condition number: {SMULTIXCAN_CONDITION_NUMBER}\")"
   ]
  },
  {
   "cell_type": "code",
   "execution_count": 9,
   "id": "f34a336f-548e-4afe-8955-90eaea4f42c6",
   "metadata": {
    "execution": {
     "iopub.execute_input": "2022-08-08T18:16:27.951849Z",
     "iopub.status.busy": "2022-08-08T18:16:27.951649Z",
     "iopub.status.idle": "2022-08-08T18:16:27.968326Z",
     "shell.execute_reply": "2022-08-08T18:16:27.967854Z"
    },
    "papermill": {
     "duration": 0.025426,
     "end_time": "2022-08-08T18:16:27.969573",
     "exception": false,
     "start_time": "2022-08-08T18:16:27.944147",
     "status": "completed"
    },
    "tags": []
   },
   "outputs": [
    {
     "data": {
      "text/plain": [
       "'Working on chromosome 8'"
      ]
     },
     "metadata": {},
     "output_type": "display_data"
    }
   ],
   "source": [
    "assert CHROMOSOME is not None and (\n",
    "    1 <= CHROMOSOME <= 22\n",
    "), \"You have to select one chromosome (format: number between 1 and 22)\"\n",
    "\n",
    "# CHROMOSOME = str(CHROMOSOME)\n",
    "display(f\"Working on chromosome {CHROMOSOME}\")"
   ]
  },
  {
   "cell_type": "code",
   "execution_count": 10,
   "id": "ab8e96e8-06b5-4363-9dcd-dc4d78cc27f7",
   "metadata": {
    "execution": {
     "iopub.execute_input": "2022-08-08T18:16:27.982267Z",
     "iopub.status.busy": "2022-08-08T18:16:27.981983Z",
     "iopub.status.idle": "2022-08-08T18:16:27.997007Z",
     "shell.execute_reply": "2022-08-08T18:16:27.996535Z"
    },
    "papermill": {
     "duration": 0.022749,
     "end_time": "2022-08-08T18:16:27.998168",
     "exception": false,
     "start_time": "2022-08-08T18:16:27.975419",
     "status": "completed"
    },
    "tags": []
   },
   "outputs": [
    {
     "data": {
      "text/plain": [
       "'Compute correlation within distance False'"
      ]
     },
     "metadata": {},
     "output_type": "display_data"
    }
   ],
   "source": [
    "display(f\"Compute correlation within distance {COMPUTE_CORRELATIONS_WITHIN_DISTANCE}\")"
   ]
  },
  {
   "cell_type": "code",
   "execution_count": 11,
   "id": "396392dc-0340-4540-9b02-e182b833f909",
   "metadata": {
    "execution": {
     "iopub.execute_input": "2022-08-08T18:16:28.011407Z",
     "iopub.status.busy": "2022-08-08T18:16:28.010980Z",
     "iopub.status.idle": "2022-08-08T18:16:28.026044Z",
     "shell.execute_reply": "2022-08-08T18:16:28.025629Z"
    },
    "papermill": {
     "duration": 0.022951,
     "end_time": "2022-08-08T18:16:28.027202",
     "exception": false,
     "start_time": "2022-08-08T18:16:28.004251",
     "status": "completed"
    },
    "tags": []
   },
   "outputs": [
    {
     "data": {
      "text/plain": [
       "'Using output dir base: /opt/data/results/gls/gene_corrs/cohorts/1000g_eur/1000g/mashr'"
      ]
     },
     "metadata": {},
     "output_type": "display_data"
    }
   ],
   "source": [
    "OUTPUT_DIR_BASE = (\n",
    "    conf.RESULTS[\"GLS\"]\n",
    "    / \"gene_corrs\"\n",
    "    / \"cohorts\"\n",
    "    / COHORT_NAME\n",
    "    / REFERENCE_PANEL.lower()\n",
    "    / EQTL_MODEL.lower()\n",
    ")\n",
    "OUTPUT_DIR_BASE.mkdir(parents=True, exist_ok=True)\n",
    "\n",
    "display(f\"Using output dir base: {OUTPUT_DIR_BASE}\")"
   ]
  },
  {
   "cell_type": "markdown",
   "id": "d2ba085e",
   "metadata": {
    "papermill": {
     "duration": 0.005914,
     "end_time": "2022-08-08T18:16:28.039329",
     "exception": false,
     "start_time": "2022-08-08T18:16:28.033415",
     "status": "completed"
    },
    "tags": []
   },
   "source": [
    "# Load data"
   ]
  },
  {
   "cell_type": "markdown",
   "id": "7dcb8db7",
   "metadata": {
    "papermill": {
     "duration": 0.00605,
     "end_time": "2022-08-08T18:16:28.051668",
     "exception": false,
     "start_time": "2022-08-08T18:16:28.045618",
     "status": "completed"
    },
    "tags": []
   },
   "source": [
    "## GWAS variants"
   ]
  },
  {
   "cell_type": "code",
   "execution_count": 12,
   "id": "29434c4e-8cd3-4b9b-82e4-b5a251d9dd19",
   "metadata": {
    "execution": {
     "iopub.execute_input": "2022-08-08T18:16:28.064264Z",
     "iopub.status.busy": "2022-08-08T18:16:28.064063Z",
     "iopub.status.idle": "2022-08-08T18:16:30.641766Z",
     "shell.execute_reply": "2022-08-08T18:16:30.641306Z"
    },
    "papermill": {
     "duration": 2.585661,
     "end_time": "2022-08-08T18:16:30.643244",
     "exception": false,
     "start_time": "2022-08-08T18:16:28.057583",
     "status": "completed"
    },
    "tags": []
   },
   "outputs": [],
   "source": [
    "with open(OUTPUT_DIR_BASE / \"gwas_variant_ids.pkl\", \"rb\") as handle:\n",
    "    gwas_variants_ids_set = pickle.load(handle)"
   ]
  },
  {
   "cell_type": "code",
   "execution_count": 13,
   "id": "b9d9dec2-4a76-4bf9-bde2-e24c95acb8a0",
   "metadata": {
    "execution": {
     "iopub.execute_input": "2022-08-08T18:16:30.658771Z",
     "iopub.status.busy": "2022-08-08T18:16:30.658276Z",
     "iopub.status.idle": "2022-08-08T18:16:30.676188Z",
     "shell.execute_reply": "2022-08-08T18:16:30.675732Z"
    },
    "papermill": {
     "duration": 0.026936,
     "end_time": "2022-08-08T18:16:30.677495",
     "exception": false,
     "start_time": "2022-08-08T18:16:30.650559",
     "status": "completed"
    },
    "tags": []
   },
   "outputs": [
    {
     "data": {
      "text/plain": [
       "8325729"
      ]
     },
     "execution_count": 13,
     "metadata": {},
     "output_type": "execute_result"
    }
   ],
   "source": [
    "len(gwas_variants_ids_set)"
   ]
  },
  {
   "cell_type": "code",
   "execution_count": 14,
   "id": "4235b06a-6034-4ee4-a0a3-2ae35d122418",
   "metadata": {
    "execution": {
     "iopub.execute_input": "2022-08-08T18:16:30.691753Z",
     "iopub.status.busy": "2022-08-08T18:16:30.691313Z",
     "iopub.status.idle": "2022-08-08T18:16:31.181243Z",
     "shell.execute_reply": "2022-08-08T18:16:31.180752Z"
    },
    "papermill": {
     "duration": 0.498673,
     "end_time": "2022-08-08T18:16:31.182820",
     "exception": false,
     "start_time": "2022-08-08T18:16:30.684147",
     "status": "completed"
    },
    "tags": []
   },
   "outputs": [
    {
     "data": {
      "text/plain": [
       "['chr6_107041204_G_T_b38',\n",
       " 'chr5_122798956_T_A_b38',\n",
       " 'chr8_119487691_G_C_b38',\n",
       " 'chr7_49138032_G_A_b38',\n",
       " 'chr7_67907409_C_A_b38']"
      ]
     },
     "execution_count": 14,
     "metadata": {},
     "output_type": "execute_result"
    }
   ],
   "source": [
    "list(gwas_variants_ids_set)[:5]"
   ]
  },
  {
   "cell_type": "markdown",
   "id": "07866999-2305-41f9-a144-e69c9122c212",
   "metadata": {
    "papermill": {
     "duration": 0.00729,
     "end_time": "2022-08-08T18:16:31.197916",
     "exception": false,
     "start_time": "2022-08-08T18:16:31.190626",
     "status": "completed"
    },
    "tags": []
   },
   "source": [
    "## S-PrediXcan tissue models"
   ]
  },
  {
   "cell_type": "code",
   "execution_count": 15,
   "id": "780611d9-77c8-405f-90a4-f271f7b09397",
   "metadata": {
    "execution": {
     "iopub.execute_input": "2022-08-08T18:16:31.213113Z",
     "iopub.status.busy": "2022-08-08T18:16:31.212943Z",
     "iopub.status.idle": "2022-08-08T18:16:32.069484Z",
     "shell.execute_reply": "2022-08-08T18:16:32.068950Z"
    },
    "papermill": {
     "duration": 0.865426,
     "end_time": "2022-08-08T18:16:32.070793",
     "exception": false,
     "start_time": "2022-08-08T18:16:31.205367",
     "status": "completed"
    },
    "tags": []
   },
   "outputs": [],
   "source": [
    "spredixcan_genes_models = pd.read_pickle(OUTPUT_DIR_BASE / \"gene_tissues.pkl\")"
   ]
  },
  {
   "cell_type": "code",
   "execution_count": 16,
   "id": "726dd1f6-9557-4225-91fa-b3b879ea96e1",
   "metadata": {
    "execution": {
     "iopub.execute_input": "2022-08-08T18:16:32.084845Z",
     "iopub.status.busy": "2022-08-08T18:16:32.084551Z",
     "iopub.status.idle": "2022-08-08T18:16:32.100733Z",
     "shell.execute_reply": "2022-08-08T18:16:32.100141Z"
    },
    "papermill": {
     "duration": 0.02462,
     "end_time": "2022-08-08T18:16:32.101934",
     "exception": false,
     "start_time": "2022-08-08T18:16:32.077314",
     "status": "completed"
    },
    "tags": []
   },
   "outputs": [
    {
     "data": {
      "text/plain": [
       "(6442, 10)"
      ]
     },
     "execution_count": 16,
     "metadata": {},
     "output_type": "execute_result"
    }
   ],
   "source": [
    "spredixcan_genes_models.shape"
   ]
  },
  {
   "cell_type": "code",
   "execution_count": 17,
   "id": "944a1b48-222c-4eb0-b252-b9de2cbca215",
   "metadata": {
    "execution": {
     "iopub.execute_input": "2022-08-08T18:16:32.115452Z",
     "iopub.status.busy": "2022-08-08T18:16:32.115258Z",
     "iopub.status.idle": "2022-08-08T18:16:32.142461Z",
     "shell.execute_reply": "2022-08-08T18:16:32.142025Z"
    },
    "papermill": {
     "duration": 0.035386,
     "end_time": "2022-08-08T18:16:32.143867",
     "exception": false,
     "start_time": "2022-08-08T18:16:32.108481",
     "status": "completed"
    },
    "tags": []
   },
   "outputs": [
    {
     "data": {
      "text/html": [
       "<div>\n",
       "<style scoped>\n",
       "    .dataframe tbody tr th:only-of-type {\n",
       "        vertical-align: middle;\n",
       "    }\n",
       "\n",
       "    .dataframe tbody tr th {\n",
       "        vertical-align: top;\n",
       "    }\n",
       "\n",
       "    .dataframe thead th {\n",
       "        text-align: right;\n",
       "    }\n",
       "</style>\n",
       "<table border=\"1\" class=\"dataframe\">\n",
       "  <thead>\n",
       "    <tr style=\"text-align: right;\">\n",
       "      <th></th>\n",
       "      <th>gene_name</th>\n",
       "      <th>tissue</th>\n",
       "      <th>n_tissues</th>\n",
       "      <th>tissues_pc_variances</th>\n",
       "      <th>tissues_pc_variances_cov</th>\n",
       "      <th>tissues_variances</th>\n",
       "      <th>n_snps_used_sum</th>\n",
       "      <th>n_snps_in_model_sum</th>\n",
       "      <th>unique_n_snps_in_model</th>\n",
       "      <th>unique_n_snps_used</th>\n",
       "    </tr>\n",
       "    <tr>\n",
       "      <th>gene_id</th>\n",
       "      <th></th>\n",
       "      <th></th>\n",
       "      <th></th>\n",
       "      <th></th>\n",
       "      <th></th>\n",
       "      <th></th>\n",
       "      <th></th>\n",
       "      <th></th>\n",
       "      <th></th>\n",
       "      <th></th>\n",
       "    </tr>\n",
       "  </thead>\n",
       "  <tbody>\n",
       "    <tr>\n",
       "      <th>ENSG00000000419</th>\n",
       "      <td>DPM1</td>\n",
       "      <td>(Brain_Hypothalamus, Brain_Substantia_nigra)</td>\n",
       "      <td>2</td>\n",
       "      <td>[1.0372585612589562, 0.9627414387410438]</td>\n",
       "      <td>[0.008284978865240098, 0.0007326748393412591]</td>\n",
       "      <td>{'Brain_Hypothalamus': 0.0082838613770255, 'Br...</td>\n",
       "      <td>2</td>\n",
       "      <td>2</td>\n",
       "      <td>2</td>\n",
       "      <td>2</td>\n",
       "    </tr>\n",
       "    <tr>\n",
       "      <th>ENSG00000000938</th>\n",
       "      <td>FGR</td>\n",
       "      <td>(Brain_Caudate_basal_ganglia, Muscle_Skeletal,...</td>\n",
       "      <td>36</td>\n",
       "      <td>[30.57880701512373, 2.0297326456001104, 1.4017...</td>\n",
       "      <td>[0.22478471249969328, 0.008813873813031791]</td>\n",
       "      <td>{'Adipose_Visceral_Omentum': 0.001932839939705...</td>\n",
       "      <td>40</td>\n",
       "      <td>40</td>\n",
       "      <td>5</td>\n",
       "      <td>5</td>\n",
       "    </tr>\n",
       "    <tr>\n",
       "      <th>ENSG00000000971</th>\n",
       "      <td>CFH</td>\n",
       "      <td>(Brain_Caudate_basal_ganglia, Brain_Substantia...</td>\n",
       "      <td>34</td>\n",
       "      <td>[20.772608276639335, 8.177158142324833, 1.8646...</td>\n",
       "      <td>[0.1969953427958011, 0.05731825316349161, 0.02...</td>\n",
       "      <td>{'Uterus': 0.00888478850189283, 'Brain_Putamen...</td>\n",
       "      <td>44</td>\n",
       "      <td>44</td>\n",
       "      <td>12</td>\n",
       "      <td>12</td>\n",
       "    </tr>\n",
       "    <tr>\n",
       "      <th>ENSG00000001084</th>\n",
       "      <td>GCLC</td>\n",
       "      <td>(Brain_Substantia_nigra, Muscle_Skeletal, Brai...</td>\n",
       "      <td>32</td>\n",
       "      <td>[20.976449940269102, 4.772354749306767, 2.2362...</td>\n",
       "      <td>[0.3657809638925394, 0.1264541371042455, 0.016...</td>\n",
       "      <td>{'Brain_Putamen_basal_ganglia': 0.022230612685...</td>\n",
       "      <td>46</td>\n",
       "      <td>46</td>\n",
       "      <td>23</td>\n",
       "      <td>23</td>\n",
       "    </tr>\n",
       "    <tr>\n",
       "      <th>ENSG00000001167</th>\n",
       "      <td>NFYA</td>\n",
       "      <td>(Brain_Caudate_basal_ganglia, Muscle_Skeletal,...</td>\n",
       "      <td>40</td>\n",
       "      <td>[37.638369782404986]</td>\n",
       "      <td>[1.4787144508923984, 0.049690618387739166]</td>\n",
       "      <td>{'Adipose_Visceral_Omentum': 0.037274400234795...</td>\n",
       "      <td>47</td>\n",
       "      <td>48</td>\n",
       "      <td>14</td>\n",
       "      <td>13</td>\n",
       "    </tr>\n",
       "  </tbody>\n",
       "</table>\n",
       "</div>"
      ],
      "text/plain": [
       "                gene_name                                             tissue  \\\n",
       "gene_id                                                                        \n",
       "ENSG00000000419      DPM1       (Brain_Hypothalamus, Brain_Substantia_nigra)   \n",
       "ENSG00000000938       FGR  (Brain_Caudate_basal_ganglia, Muscle_Skeletal,...   \n",
       "ENSG00000000971       CFH  (Brain_Caudate_basal_ganglia, Brain_Substantia...   \n",
       "ENSG00000001084      GCLC  (Brain_Substantia_nigra, Muscle_Skeletal, Brai...   \n",
       "ENSG00000001167      NFYA  (Brain_Caudate_basal_ganglia, Muscle_Skeletal,...   \n",
       "\n",
       "                 n_tissues                               tissues_pc_variances  \\\n",
       "gene_id                                                                         \n",
       "ENSG00000000419          2           [1.0372585612589562, 0.9627414387410438]   \n",
       "ENSG00000000938         36  [30.57880701512373, 2.0297326456001104, 1.4017...   \n",
       "ENSG00000000971         34  [20.772608276639335, 8.177158142324833, 1.8646...   \n",
       "ENSG00000001084         32  [20.976449940269102, 4.772354749306767, 2.2362...   \n",
       "ENSG00000001167         40                               [37.638369782404986]   \n",
       "\n",
       "                                          tissues_pc_variances_cov  \\\n",
       "gene_id                                                              \n",
       "ENSG00000000419      [0.008284978865240098, 0.0007326748393412591]   \n",
       "ENSG00000000938        [0.22478471249969328, 0.008813873813031791]   \n",
       "ENSG00000000971  [0.1969953427958011, 0.05731825316349161, 0.02...   \n",
       "ENSG00000001084  [0.3657809638925394, 0.1264541371042455, 0.016...   \n",
       "ENSG00000001167         [1.4787144508923984, 0.049690618387739166]   \n",
       "\n",
       "                                                 tissues_variances  \\\n",
       "gene_id                                                              \n",
       "ENSG00000000419  {'Brain_Hypothalamus': 0.0082838613770255, 'Br...   \n",
       "ENSG00000000938  {'Adipose_Visceral_Omentum': 0.001932839939705...   \n",
       "ENSG00000000971  {'Uterus': 0.00888478850189283, 'Brain_Putamen...   \n",
       "ENSG00000001084  {'Brain_Putamen_basal_ganglia': 0.022230612685...   \n",
       "ENSG00000001167  {'Adipose_Visceral_Omentum': 0.037274400234795...   \n",
       "\n",
       "                 n_snps_used_sum  n_snps_in_model_sum  unique_n_snps_in_model  \\\n",
       "gene_id                                                                         \n",
       "ENSG00000000419                2                    2                       2   \n",
       "ENSG00000000938               40                   40                       5   \n",
       "ENSG00000000971               44                   44                      12   \n",
       "ENSG00000001084               46                   46                      23   \n",
       "ENSG00000001167               47                   48                      14   \n",
       "\n",
       "                 unique_n_snps_used  \n",
       "gene_id                              \n",
       "ENSG00000000419                   2  \n",
       "ENSG00000000938                   5  \n",
       "ENSG00000000971                  12  \n",
       "ENSG00000001084                  23  \n",
       "ENSG00000001167                  13  "
      ]
     },
     "execution_count": 17,
     "metadata": {},
     "output_type": "execute_result"
    }
   ],
   "source": [
    "spredixcan_genes_models.head()"
   ]
  },
  {
   "cell_type": "code",
   "execution_count": 18,
   "id": "d1c11bb1-be0b-4f40-b360-633d6827109f",
   "metadata": {
    "execution": {
     "iopub.execute_input": "2022-08-08T18:16:32.159091Z",
     "iopub.status.busy": "2022-08-08T18:16:32.158875Z",
     "iopub.status.idle": "2022-08-08T18:16:32.173370Z",
     "shell.execute_reply": "2022-08-08T18:16:32.172948Z"
    },
    "papermill": {
     "duration": 0.023329,
     "end_time": "2022-08-08T18:16:32.174627",
     "exception": false,
     "start_time": "2022-08-08T18:16:32.151298",
     "status": "completed"
    },
    "tags": []
   },
   "outputs": [],
   "source": [
    "assert spredixcan_genes_models.index.is_unique"
   ]
  },
  {
   "cell_type": "markdown",
   "id": "a5b5092c-a13e-47c4-a92a-480fcc08f3ae",
   "metadata": {
    "papermill": {
     "duration": 0.00635,
     "end_time": "2022-08-08T18:16:32.187681",
     "exception": false,
     "start_time": "2022-08-08T18:16:32.181331",
     "status": "completed"
    },
    "tags": []
   },
   "source": [
    "## Gene info"
   ]
  },
  {
   "cell_type": "code",
   "execution_count": 19,
   "id": "7d6bb224-88e9-4358-ac10-43a41d92cdad",
   "metadata": {
    "execution": {
     "iopub.execute_input": "2022-08-08T18:16:32.201584Z",
     "iopub.status.busy": "2022-08-08T18:16:32.201367Z",
     "iopub.status.idle": "2022-08-08T18:16:32.217773Z",
     "shell.execute_reply": "2022-08-08T18:16:32.217217Z"
    },
    "papermill": {
     "duration": 0.024953,
     "end_time": "2022-08-08T18:16:32.219164",
     "exception": false,
     "start_time": "2022-08-08T18:16:32.194211",
     "status": "completed"
    },
    "tags": []
   },
   "outputs": [],
   "source": [
    "genes_info = pd.read_pickle(OUTPUT_DIR_BASE / \"genes_info.pkl\")"
   ]
  },
  {
   "cell_type": "code",
   "execution_count": 20,
   "id": "9e32abfa-546d-483e-8c18-d526e9e05903",
   "metadata": {
    "execution": {
     "iopub.execute_input": "2022-08-08T18:16:32.233233Z",
     "iopub.status.busy": "2022-08-08T18:16:32.233029Z",
     "iopub.status.idle": "2022-08-08T18:16:32.248882Z",
     "shell.execute_reply": "2022-08-08T18:16:32.248449Z"
    },
    "papermill": {
     "duration": 0.024344,
     "end_time": "2022-08-08T18:16:32.250139",
     "exception": false,
     "start_time": "2022-08-08T18:16:32.225795",
     "status": "completed"
    },
    "tags": []
   },
   "outputs": [
    {
     "data": {
      "text/plain": [
       "(6442, 7)"
      ]
     },
     "execution_count": 20,
     "metadata": {},
     "output_type": "execute_result"
    }
   ],
   "source": [
    "genes_info.shape"
   ]
  },
  {
   "cell_type": "code",
   "execution_count": 21,
   "id": "d16c3e92-85ec-468a-9a56-e25a9774a1cb",
   "metadata": {
    "execution": {
     "iopub.execute_input": "2022-08-08T18:16:32.264617Z",
     "iopub.status.busy": "2022-08-08T18:16:32.264341Z",
     "iopub.status.idle": "2022-08-08T18:16:32.283647Z",
     "shell.execute_reply": "2022-08-08T18:16:32.283160Z"
    },
    "papermill": {
     "duration": 0.028003,
     "end_time": "2022-08-08T18:16:32.284905",
     "exception": false,
     "start_time": "2022-08-08T18:16:32.256902",
     "status": "completed"
    },
    "tags": []
   },
   "outputs": [
    {
     "data": {
      "text/html": [
       "<div>\n",
       "<style scoped>\n",
       "    .dataframe tbody tr th:only-of-type {\n",
       "        vertical-align: middle;\n",
       "    }\n",
       "\n",
       "    .dataframe tbody tr th {\n",
       "        vertical-align: top;\n",
       "    }\n",
       "\n",
       "    .dataframe thead th {\n",
       "        text-align: right;\n",
       "    }\n",
       "</style>\n",
       "<table border=\"1\" class=\"dataframe\">\n",
       "  <thead>\n",
       "    <tr style=\"text-align: right;\">\n",
       "      <th></th>\n",
       "      <th>name</th>\n",
       "      <th>id</th>\n",
       "      <th>chr</th>\n",
       "      <th>band</th>\n",
       "      <th>start_position</th>\n",
       "      <th>end_position</th>\n",
       "      <th>gene_length</th>\n",
       "    </tr>\n",
       "  </thead>\n",
       "  <tbody>\n",
       "    <tr>\n",
       "      <th>0</th>\n",
       "      <td>CTSF</td>\n",
       "      <td>ENSG00000174080</td>\n",
       "      <td>11</td>\n",
       "      <td>11q13.2</td>\n",
       "      <td>66563464</td>\n",
       "      <td>66568841</td>\n",
       "      <td>5377</td>\n",
       "    </tr>\n",
       "    <tr>\n",
       "      <th>1</th>\n",
       "      <td>GUCY2D</td>\n",
       "      <td>ENSG00000132518</td>\n",
       "      <td>17</td>\n",
       "      <td>17p13.1</td>\n",
       "      <td>8002594</td>\n",
       "      <td>8020339</td>\n",
       "      <td>17745</td>\n",
       "    </tr>\n",
       "    <tr>\n",
       "      <th>2</th>\n",
       "      <td>NDUFB8</td>\n",
       "      <td>ENSG00000166136</td>\n",
       "      <td>10</td>\n",
       "      <td>10q24.31</td>\n",
       "      <td>100523740</td>\n",
       "      <td>100530000</td>\n",
       "      <td>6260</td>\n",
       "    </tr>\n",
       "    <tr>\n",
       "      <th>3</th>\n",
       "      <td>KIF5B</td>\n",
       "      <td>ENSG00000170759</td>\n",
       "      <td>10</td>\n",
       "      <td>10p11.22</td>\n",
       "      <td>32009015</td>\n",
       "      <td>32056425</td>\n",
       "      <td>47410</td>\n",
       "    </tr>\n",
       "    <tr>\n",
       "      <th>4</th>\n",
       "      <td>SAE1</td>\n",
       "      <td>ENSG00000142230</td>\n",
       "      <td>19</td>\n",
       "      <td>19q13.32</td>\n",
       "      <td>47113274</td>\n",
       "      <td>47210636</td>\n",
       "      <td>97362</td>\n",
       "    </tr>\n",
       "  </tbody>\n",
       "</table>\n",
       "</div>"
      ],
      "text/plain": [
       "     name               id  chr      band  start_position  end_position  \\\n",
       "0    CTSF  ENSG00000174080   11   11q13.2        66563464      66568841   \n",
       "1  GUCY2D  ENSG00000132518   17   17p13.1         8002594       8020339   \n",
       "2  NDUFB8  ENSG00000166136   10  10q24.31       100523740     100530000   \n",
       "3   KIF5B  ENSG00000170759   10  10p11.22        32009015      32056425   \n",
       "4    SAE1  ENSG00000142230   19  19q13.32        47113274      47210636   \n",
       "\n",
       "   gene_length  \n",
       "0         5377  \n",
       "1        17745  \n",
       "2         6260  \n",
       "3        47410  \n",
       "4        97362  "
      ]
     },
     "execution_count": 21,
     "metadata": {},
     "output_type": "execute_result"
    }
   ],
   "source": [
    "genes_info.head()"
   ]
  },
  {
   "cell_type": "markdown",
   "id": "d3843e06",
   "metadata": {
    "papermill": {
     "duration": 0.006902,
     "end_time": "2022-08-08T18:16:32.299318",
     "exception": false,
     "start_time": "2022-08-08T18:16:32.292416",
     "status": "completed"
    },
    "tags": []
   },
   "source": [
    "# Compute correlations"
   ]
  },
  {
   "cell_type": "code",
   "execution_count": 22,
   "id": "cb859c15-d1f3-4006-a74c-2b83c0db9611",
   "metadata": {
    "execution": {
     "iopub.execute_input": "2022-08-08T18:16:32.314099Z",
     "iopub.status.busy": "2022-08-08T18:16:32.313664Z",
     "iopub.status.idle": "2022-08-08T18:16:32.328722Z",
     "shell.execute_reply": "2022-08-08T18:16:32.328247Z"
    },
    "papermill": {
     "duration": 0.023807,
     "end_time": "2022-08-08T18:16:32.329895",
     "exception": false,
     "start_time": "2022-08-08T18:16:32.306088",
     "status": "completed"
    },
    "tags": []
   },
   "outputs": [
    {
     "data": {
      "text/plain": [
       "PosixPath('/opt/data/results/gls/gene_corrs/cohorts/1000g_eur/1000g/mashr/by_chr/gene_corrs-chr8.pkl')"
      ]
     },
     "metadata": {},
     "output_type": "display_data"
    }
   ],
   "source": [
    "output_dir = OUTPUT_DIR_BASE / \"by_chr\"\n",
    "output_dir.mkdir(exist_ok=True, parents=True)\n",
    "output_file = output_dir / f\"gene_corrs-chr{CHROMOSOME}.pkl\"\n",
    "display(output_file)"
   ]
  },
  {
   "cell_type": "code",
   "execution_count": 23,
   "id": "aa674fe4-6794-4eed-98fa-32b39d1d4ace",
   "metadata": {
    "execution": {
     "iopub.execute_input": "2022-08-08T18:16:32.344807Z",
     "iopub.status.busy": "2022-08-08T18:16:32.344496Z",
     "iopub.status.idle": "2022-08-08T18:16:32.358282Z",
     "shell.execute_reply": "2022-08-08T18:16:32.357902Z"
    },
    "papermill": {
     "duration": 0.022569,
     "end_time": "2022-08-08T18:16:32.359574",
     "exception": false,
     "start_time": "2022-08-08T18:16:32.337005",
     "status": "completed"
    },
    "tags": []
   },
   "outputs": [],
   "source": [
    "warnings.filterwarnings(\"error\")"
   ]
  },
  {
   "cell_type": "code",
   "execution_count": 24,
   "id": "44d5450b-3baf-43f1-9e2e-4b06f1a785f8",
   "metadata": {
    "execution": {
     "iopub.execute_input": "2022-08-08T18:16:32.375154Z",
     "iopub.status.busy": "2022-08-08T18:16:32.374761Z",
     "iopub.status.idle": "2022-08-08T18:16:32.407395Z",
     "shell.execute_reply": "2022-08-08T18:16:32.405881Z"
    },
    "papermill": {
     "duration": 0.042321,
     "end_time": "2022-08-08T18:16:32.409132",
     "exception": false,
     "start_time": "2022-08-08T18:16:32.366811",
     "status": "completed"
    },
    "tags": []
   },
   "outputs": [],
   "source": [
    "# standard checks\n",
    "all_chrs = genes_info[\"chr\"].dropna().unique()\n",
    "assert all_chrs.shape[0] == 22\n",
    "\n",
    "# select chromosome given by the user\n",
    "assert CHROMOSOME in all_chrs"
   ]
  },
  {
   "cell_type": "code",
   "execution_count": 25,
   "id": "2d7c043c-92a7-4d35-991b-fa69ac1e0268",
   "metadata": {
    "execution": {
     "iopub.execute_input": "2022-08-08T18:16:32.427323Z",
     "iopub.status.busy": "2022-08-08T18:16:32.427101Z",
     "iopub.status.idle": "2022-08-08T18:16:32.464905Z",
     "shell.execute_reply": "2022-08-08T18:16:32.464500Z"
    },
    "papermill": {
     "duration": 0.048204,
     "end_time": "2022-08-08T18:16:32.466180",
     "exception": false,
     "start_time": "2022-08-08T18:16:32.417976",
     "status": "completed"
    },
    "tags": []
   },
   "outputs": [
    {
     "name": "stdout",
     "output_type": "stream",
     "text": [
      "Number of genes in chromosome: 222\n"
     ]
    }
   ],
   "source": [
    "# run only on the chromosome specified\n",
    "all_chrs = [CHROMOSOME]\n",
    "genes_chr = genes_info[genes_info[\"chr\"] == CHROMOSOME]\n",
    "\n",
    "# For testing purposes\n",
    "# genes_chr = genes_chr.sample(n=20)\n",
    "\n",
    "print(f\"Number of genes in chromosome: {genes_chr.shape[0]}\", flush=True)"
   ]
  },
  {
   "cell_type": "code",
   "execution_count": 26,
   "id": "916015d8-2979-46d3-a9b9-1cf5a0932c6a",
   "metadata": {
    "execution": {
     "iopub.execute_input": "2022-08-08T18:16:32.481799Z",
     "iopub.status.busy": "2022-08-08T18:16:32.481464Z",
     "iopub.status.idle": "2022-08-08T18:16:32.495816Z",
     "shell.execute_reply": "2022-08-08T18:16:32.495398Z"
    },
    "papermill": {
     "duration": 0.023432,
     "end_time": "2022-08-08T18:16:32.497135",
     "exception": false,
     "start_time": "2022-08-08T18:16:32.473703",
     "status": "completed"
    },
    "tags": []
   },
   "outputs": [],
   "source": [
    "# sort genes by starting position to make visualizations better later\n",
    "genes_chr = genes_chr.sort_values(\"start_position\")"
   ]
  },
  {
   "cell_type": "code",
   "execution_count": 27,
   "id": "a38aa74a-8ad3-47f6-8ef9-56be0e011774",
   "metadata": {
    "execution": {
     "iopub.execute_input": "2022-08-08T18:16:32.512926Z",
     "iopub.status.busy": "2022-08-08T18:16:32.512543Z",
     "iopub.status.idle": "2022-08-08T18:16:32.527535Z",
     "shell.execute_reply": "2022-08-08T18:16:32.527099Z"
    },
    "papermill": {
     "duration": 0.02419,
     "end_time": "2022-08-08T18:16:32.528783",
     "exception": false,
     "start_time": "2022-08-08T18:16:32.504593",
     "status": "completed"
    },
    "tags": []
   },
   "outputs": [],
   "source": [
    "gene_chr_objs = [Gene(ensembl_id=gene_id) for gene_id in genes_chr[\"id\"]]"
   ]
  },
  {
   "cell_type": "code",
   "execution_count": 28,
   "id": "570f974f-13c3-42b6-ad3a-ce99ca885c1a",
   "metadata": {
    "execution": {
     "iopub.execute_input": "2022-08-08T18:16:32.544250Z",
     "iopub.status.busy": "2022-08-08T18:16:32.544022Z",
     "iopub.status.idle": "2022-08-08T18:16:32.559102Z",
     "shell.execute_reply": "2022-08-08T18:16:32.558673Z"
    },
    "papermill": {
     "duration": 0.024326,
     "end_time": "2022-08-08T18:16:32.560278",
     "exception": false,
     "start_time": "2022-08-08T18:16:32.535952",
     "status": "completed"
    },
    "tags": []
   },
   "outputs": [
    {
     "name": "stdout",
     "output_type": "stream",
     "text": [
      "Number of gene combinations: 24531\n"
     ]
    }
   ],
   "source": [
    "n = len(gene_chr_objs)\n",
    "n_comb = int(n * (n - 1) / 2.0)\n",
    "print(f\"Number of gene combinations: {n_comb}\", flush=True)"
   ]
  },
  {
   "cell_type": "code",
   "execution_count": 29,
   "id": "cdbb90a1",
   "metadata": {
    "execution": {
     "iopub.execute_input": "2022-08-08T18:16:32.575870Z",
     "iopub.status.busy": "2022-08-08T18:16:32.575560Z",
     "iopub.status.idle": "2022-08-08T18:46:08.385996Z",
     "shell.execute_reply": "2022-08-08T18:46:08.385553Z"
    },
    "papermill": {
     "duration": 1775.819316,
     "end_time": "2022-08-08T18:46:08.387254",
     "exception": false,
     "start_time": "2022-08-08T18:16:32.567938",
     "status": "completed"
    },
    "tags": []
   },
   "outputs": [
    {
     "name": "stderr",
     "output_type": "stream",
     "text": [
      "ENSG00000197363 / ENSG00000196150: 100%|██████████████████████| 24531/24531 [29:35<00:00, 13.81it/s]\n"
     ]
    },
    {
     "data": {
      "text/plain": [
       "PosixPath('/opt/data/results/gls/gene_corrs/cohorts/1000g_eur/1000g/mashr/by_chr/gene_corrs-chr8.pkl')"
      ]
     },
     "metadata": {},
     "output_type": "display_data"
    }
   ],
   "source": [
    "gene_corrs = []\n",
    "\n",
    "i = 0\n",
    "with tqdm(ncols=100, total=n_comb) as pbar:\n",
    "    for gene1_idx in range(0, len(gene_chr_objs) - 1):\n",
    "        gene1_obj = gene_chr_objs[gene1_idx]\n",
    "        gene1_tissues = spredixcan_genes_models.loc[gene1_obj.ensembl_id, \"tissue\"]\n",
    "\n",
    "        for gene2_idx in range(gene1_idx + 1, len(gene_chr_objs)):\n",
    "            gene2_obj = gene_chr_objs[gene2_idx]\n",
    "            gene2_tissues = spredixcan_genes_models.loc[gene2_obj.ensembl_id, \"tissue\"]\n",
    "\n",
    "            pbar.set_description(f\"{gene1_obj.ensembl_id} / {gene2_obj.ensembl_id}\")\n",
    "\n",
    "            try:\n",
    "                r = gene1_obj.get_ssm_correlation(\n",
    "                    other_gene=gene2_obj,\n",
    "                    tissues=gene1_tissues,\n",
    "                    other_tissues=gene2_tissues,\n",
    "                    snps_subset=gwas_variants_ids_set,\n",
    "                    condition_number=SMULTIXCAN_CONDITION_NUMBER,\n",
    "                    reference_panel=REFERENCE_PANEL,\n",
    "                    model_type=EQTL_MODEL,\n",
    "                    use_within_distance=COMPUTE_CORRELATIONS_WITHIN_DISTANCE,\n",
    "                )\n",
    "\n",
    "                if r is None:\n",
    "                    # if r is None, it's very likely because:\n",
    "                    #  * one of the genes has no prediction models\n",
    "                    #  * all the SNPs predictors for the gene are not present in the reference\n",
    "                    #    panel\n",
    "\n",
    "                    r = 0.0\n",
    "\n",
    "                gene_corrs.append(r)\n",
    "            except Warning as e:\n",
    "                if not DEBUG_MODE:\n",
    "                    raise e\n",
    "\n",
    "                print(\n",
    "                    f\"RuntimeWarning for genes {gene1_obj.ensembl_id} and {gene2_obj.ensembl_id}\",\n",
    "                    flush=True,\n",
    "                )\n",
    "                print(traceback.format_exc(), flush=True)\n",
    "\n",
    "                gene_corrs.append(np.nan)\n",
    "            except Exception as e:\n",
    "                if not DEBUG_MODE:\n",
    "                    raise e\n",
    "\n",
    "                print(\n",
    "                    f\"Exception for genes {gene1_obj.ensembl_id} and {gene2_obj.ensembl_id}\",\n",
    "                    flush=True,\n",
    "                )\n",
    "                print(traceback.format_exc(), flush=True)\n",
    "\n",
    "                gene_corrs.append(np.nan)\n",
    "\n",
    "            pbar.update(1)\n",
    "\n",
    "# create a pandas series\n",
    "gene_corrs_flat = pd.Series(gene_corrs)\n",
    "\n",
    "# save\n",
    "# FIXME: consider saving only the condenced matrix here. See here for\n",
    "# more details: https://github.com/greenelab/phenoplier/pull/38#discussion_r634600813\n",
    "gene_corrs_data = squareform(np.array(gene_corrs, dtype=np.float64))\n",
    "np.fill_diagonal(gene_corrs_data, 1.0)\n",
    "\n",
    "gene_chr_ids = [g.ensembl_id for g in gene_chr_objs]\n",
    "gene_corrs_df = pd.DataFrame(\n",
    "    data=gene_corrs_data,\n",
    "    index=gene_chr_ids,\n",
    "    columns=gene_chr_ids,\n",
    ")\n",
    "\n",
    "output_dir.mkdir(exist_ok=True, parents=True)\n",
    "display(output_file)\n",
    "\n",
    "gene_corrs_df.to_pickle(output_file)"
   ]
  },
  {
   "cell_type": "markdown",
   "id": "faa67b51-5373-470f-aa72-2ded53fa6dfe",
   "metadata": {
    "papermill": {
     "duration": 1.291494,
     "end_time": "2022-08-08T18:46:10.991933",
     "exception": false,
     "start_time": "2022-08-08T18:46:09.700439",
     "status": "completed"
    },
    "tags": []
   },
   "source": [
    "# Testing"
   ]
  },
  {
   "cell_type": "code",
   "execution_count": 30,
   "id": "14f7d046-4b55-4896-a56b-990127bcc388",
   "metadata": {
    "execution": {
     "iopub.execute_input": "2022-08-08T18:46:13.582359Z",
     "iopub.status.busy": "2022-08-08T18:46:13.582195Z",
     "iopub.status.idle": "2022-08-08T18:46:13.597915Z",
     "shell.execute_reply": "2022-08-08T18:46:13.597378Z"
    },
    "papermill": {
     "duration": 1.288301,
     "end_time": "2022-08-08T18:46:13.599073",
     "exception": false,
     "start_time": "2022-08-08T18:46:12.310772",
     "status": "completed"
    },
    "tags": []
   },
   "outputs": [
    {
     "data": {
      "text/plain": [
       "(222, 222)"
      ]
     },
     "execution_count": 30,
     "metadata": {},
     "output_type": "execute_result"
    }
   ],
   "source": [
    "gene_corrs_df.shape"
   ]
  },
  {
   "cell_type": "code",
   "execution_count": 31,
   "id": "c7d15414-3297-4537-a7c6-7588c0baeb75",
   "metadata": {
    "execution": {
     "iopub.execute_input": "2022-08-08T18:46:16.209712Z",
     "iopub.status.busy": "2022-08-08T18:46:16.209480Z",
     "iopub.status.idle": "2022-08-08T18:46:16.237961Z",
     "shell.execute_reply": "2022-08-08T18:46:16.237086Z"
    },
    "papermill": {
     "duration": 1.306119,
     "end_time": "2022-08-08T18:46:16.239219",
     "exception": false,
     "start_time": "2022-08-08T18:46:14.933100",
     "status": "completed"
    },
    "tags": []
   },
   "outputs": [
    {
     "data": {
      "text/html": [
       "<div>\n",
       "<style scoped>\n",
       "    .dataframe tbody tr th:only-of-type {\n",
       "        vertical-align: middle;\n",
       "    }\n",
       "\n",
       "    .dataframe tbody tr th {\n",
       "        vertical-align: top;\n",
       "    }\n",
       "\n",
       "    .dataframe thead th {\n",
       "        text-align: right;\n",
       "    }\n",
       "</style>\n",
       "<table border=\"1\" class=\"dataframe\">\n",
       "  <thead>\n",
       "    <tr style=\"text-align: right;\">\n",
       "      <th></th>\n",
       "      <th>ENSG00000172748</th>\n",
       "      <th>ENSG00000182372</th>\n",
       "      <th>ENSG00000104728</th>\n",
       "      <th>ENSG00000036448</th>\n",
       "      <th>ENSG00000091879</th>\n",
       "      <th>ENSG00000155189</th>\n",
       "      <th>ENSG00000164821</th>\n",
       "      <th>ENSG00000253958</th>\n",
       "      <th>ENSG00000147324</th>\n",
       "      <th>ENSG00000173281</th>\n",
       "      <th>...</th>\n",
       "      <th>ENSG00000071894</th>\n",
       "      <th>ENSG00000147804</th>\n",
       "      <th>ENSG00000160948</th>\n",
       "      <th>ENSG00000160949</th>\n",
       "      <th>ENSG00000187954</th>\n",
       "      <th>ENSG00000160972</th>\n",
       "      <th>ENSG00000167701</th>\n",
       "      <th>ENSG00000161016</th>\n",
       "      <th>ENSG00000197363</th>\n",
       "      <th>ENSG00000196150</th>\n",
       "    </tr>\n",
       "  </thead>\n",
       "  <tbody>\n",
       "    <tr>\n",
       "      <th>ENSG00000172748</th>\n",
       "      <td>1.000000</td>\n",
       "      <td>0.008854</td>\n",
       "      <td>0.017059</td>\n",
       "      <td>0.015724</td>\n",
       "      <td>0.011965</td>\n",
       "      <td>0.010225</td>\n",
       "      <td>0.007858</td>\n",
       "      <td>0.009687</td>\n",
       "      <td>0.006447</td>\n",
       "      <td>0.008447</td>\n",
       "      <td>...</td>\n",
       "      <td>0.005088</td>\n",
       "      <td>0.008847</td>\n",
       "      <td>0.008583</td>\n",
       "      <td>0.005571</td>\n",
       "      <td>0.015063</td>\n",
       "      <td>0.014035</td>\n",
       "      <td>0.016177</td>\n",
       "      <td>0.003297</td>\n",
       "      <td>0.005426</td>\n",
       "      <td>0.005038</td>\n",
       "    </tr>\n",
       "    <tr>\n",
       "      <th>ENSG00000182372</th>\n",
       "      <td>0.008854</td>\n",
       "      <td>1.000000</td>\n",
       "      <td>0.185009</td>\n",
       "      <td>0.014785</td>\n",
       "      <td>0.011253</td>\n",
       "      <td>0.007711</td>\n",
       "      <td>0.002467</td>\n",
       "      <td>0.007908</td>\n",
       "      <td>0.007764</td>\n",
       "      <td>0.007042</td>\n",
       "      <td>...</td>\n",
       "      <td>0.004255</td>\n",
       "      <td>0.008133</td>\n",
       "      <td>0.004954</td>\n",
       "      <td>0.002933</td>\n",
       "      <td>0.003456</td>\n",
       "      <td>0.004687</td>\n",
       "      <td>0.005454</td>\n",
       "      <td>0.003934</td>\n",
       "      <td>0.002449</td>\n",
       "      <td>0.003326</td>\n",
       "    </tr>\n",
       "    <tr>\n",
       "      <th>ENSG00000104728</th>\n",
       "      <td>0.017059</td>\n",
       "      <td>0.185009</td>\n",
       "      <td>1.000000</td>\n",
       "      <td>0.038948</td>\n",
       "      <td>0.018172</td>\n",
       "      <td>0.021263</td>\n",
       "      <td>0.013428</td>\n",
       "      <td>0.020485</td>\n",
       "      <td>0.021880</td>\n",
       "      <td>0.017372</td>\n",
       "      <td>...</td>\n",
       "      <td>0.006847</td>\n",
       "      <td>0.019338</td>\n",
       "      <td>0.009489</td>\n",
       "      <td>0.010789</td>\n",
       "      <td>0.018178</td>\n",
       "      <td>0.014963</td>\n",
       "      <td>0.021112</td>\n",
       "      <td>0.005855</td>\n",
       "      <td>0.006231</td>\n",
       "      <td>0.009069</td>\n",
       "    </tr>\n",
       "    <tr>\n",
       "      <th>ENSG00000036448</th>\n",
       "      <td>0.015724</td>\n",
       "      <td>0.014785</td>\n",
       "      <td>0.038948</td>\n",
       "      <td>1.000000</td>\n",
       "      <td>0.014444</td>\n",
       "      <td>0.013368</td>\n",
       "      <td>0.015180</td>\n",
       "      <td>0.011163</td>\n",
       "      <td>0.012421</td>\n",
       "      <td>0.013131</td>\n",
       "      <td>...</td>\n",
       "      <td>0.010455</td>\n",
       "      <td>0.012223</td>\n",
       "      <td>0.003352</td>\n",
       "      <td>0.010045</td>\n",
       "      <td>0.013373</td>\n",
       "      <td>0.009370</td>\n",
       "      <td>0.012734</td>\n",
       "      <td>0.005159</td>\n",
       "      <td>0.007342</td>\n",
       "      <td>0.007739</td>\n",
       "    </tr>\n",
       "    <tr>\n",
       "      <th>ENSG00000091879</th>\n",
       "      <td>0.011965</td>\n",
       "      <td>0.011253</td>\n",
       "      <td>0.018172</td>\n",
       "      <td>0.014444</td>\n",
       "      <td>1.000000</td>\n",
       "      <td>0.090980</td>\n",
       "      <td>0.029294</td>\n",
       "      <td>0.007567</td>\n",
       "      <td>0.011896</td>\n",
       "      <td>0.017696</td>\n",
       "      <td>...</td>\n",
       "      <td>0.001479</td>\n",
       "      <td>0.008290</td>\n",
       "      <td>0.002738</td>\n",
       "      <td>0.011152</td>\n",
       "      <td>0.009326</td>\n",
       "      <td>0.006116</td>\n",
       "      <td>0.006579</td>\n",
       "      <td>0.003858</td>\n",
       "      <td>0.008162</td>\n",
       "      <td>0.007860</td>\n",
       "    </tr>\n",
       "  </tbody>\n",
       "</table>\n",
       "<p>5 rows × 222 columns</p>\n",
       "</div>"
      ],
      "text/plain": [
       "                 ENSG00000172748  ENSG00000182372  ENSG00000104728  \\\n",
       "ENSG00000172748         1.000000         0.008854         0.017059   \n",
       "ENSG00000182372         0.008854         1.000000         0.185009   \n",
       "ENSG00000104728         0.017059         0.185009         1.000000   \n",
       "ENSG00000036448         0.015724         0.014785         0.038948   \n",
       "ENSG00000091879         0.011965         0.011253         0.018172   \n",
       "\n",
       "                 ENSG00000036448  ENSG00000091879  ENSG00000155189  \\\n",
       "ENSG00000172748         0.015724         0.011965         0.010225   \n",
       "ENSG00000182372         0.014785         0.011253         0.007711   \n",
       "ENSG00000104728         0.038948         0.018172         0.021263   \n",
       "ENSG00000036448         1.000000         0.014444         0.013368   \n",
       "ENSG00000091879         0.014444         1.000000         0.090980   \n",
       "\n",
       "                 ENSG00000164821  ENSG00000253958  ENSG00000147324  \\\n",
       "ENSG00000172748         0.007858         0.009687         0.006447   \n",
       "ENSG00000182372         0.002467         0.007908         0.007764   \n",
       "ENSG00000104728         0.013428         0.020485         0.021880   \n",
       "ENSG00000036448         0.015180         0.011163         0.012421   \n",
       "ENSG00000091879         0.029294         0.007567         0.011896   \n",
       "\n",
       "                 ENSG00000173281  ...  ENSG00000071894  ENSG00000147804  \\\n",
       "ENSG00000172748         0.008447  ...         0.005088         0.008847   \n",
       "ENSG00000182372         0.007042  ...         0.004255         0.008133   \n",
       "ENSG00000104728         0.017372  ...         0.006847         0.019338   \n",
       "ENSG00000036448         0.013131  ...         0.010455         0.012223   \n",
       "ENSG00000091879         0.017696  ...         0.001479         0.008290   \n",
       "\n",
       "                 ENSG00000160948  ENSG00000160949  ENSG00000187954  \\\n",
       "ENSG00000172748         0.008583         0.005571         0.015063   \n",
       "ENSG00000182372         0.004954         0.002933         0.003456   \n",
       "ENSG00000104728         0.009489         0.010789         0.018178   \n",
       "ENSG00000036448         0.003352         0.010045         0.013373   \n",
       "ENSG00000091879         0.002738         0.011152         0.009326   \n",
       "\n",
       "                 ENSG00000160972  ENSG00000167701  ENSG00000161016  \\\n",
       "ENSG00000172748         0.014035         0.016177         0.003297   \n",
       "ENSG00000182372         0.004687         0.005454         0.003934   \n",
       "ENSG00000104728         0.014963         0.021112         0.005855   \n",
       "ENSG00000036448         0.009370         0.012734         0.005159   \n",
       "ENSG00000091879         0.006116         0.006579         0.003858   \n",
       "\n",
       "                 ENSG00000197363  ENSG00000196150  \n",
       "ENSG00000172748         0.005426         0.005038  \n",
       "ENSG00000182372         0.002449         0.003326  \n",
       "ENSG00000104728         0.006231         0.009069  \n",
       "ENSG00000036448         0.007342         0.007739  \n",
       "ENSG00000091879         0.008162         0.007860  \n",
       "\n",
       "[5 rows x 222 columns]"
      ]
     },
     "execution_count": 31,
     "metadata": {},
     "output_type": "execute_result"
    }
   ],
   "source": [
    "gene_corrs_df.head()"
   ]
  },
  {
   "cell_type": "markdown",
   "id": "dad6603f-01c6-41fb-a6f6-241051207dd8",
   "metadata": {
    "papermill": {
     "duration": 1.271838,
     "end_time": "2022-08-08T18:46:18.854752",
     "exception": false,
     "start_time": "2022-08-08T18:46:17.582914",
     "status": "completed"
    },
    "tags": []
   },
   "source": [
    "## Standard checks and stats"
   ]
  },
  {
   "cell_type": "code",
   "execution_count": 32,
   "id": "286686af-1b7b-4440-8453-6bdcbd8de19c",
   "metadata": {
    "execution": {
     "iopub.execute_input": "2022-08-08T18:46:21.466430Z",
     "iopub.status.busy": "2022-08-08T18:46:21.466190Z",
     "iopub.status.idle": "2022-08-08T18:46:21.481607Z",
     "shell.execute_reply": "2022-08-08T18:46:21.481211Z"
    },
    "papermill": {
     "duration": 1.290522,
     "end_time": "2022-08-08T18:46:21.482854",
     "exception": false,
     "start_time": "2022-08-08T18:46:20.192332",
     "status": "completed"
    },
    "tags": []
   },
   "outputs": [],
   "source": [
    "assert not gene_corrs_df.isna().any().any()"
   ]
  },
  {
   "cell_type": "code",
   "execution_count": 33,
   "id": "00583efc-7068-4270-ad1e-4a418e91db96",
   "metadata": {
    "execution": {
     "iopub.execute_input": "2022-08-08T18:46:24.122706Z",
     "iopub.status.busy": "2022-08-08T18:46:24.122233Z",
     "iopub.status.idle": "2022-08-08T18:46:24.138897Z",
     "shell.execute_reply": "2022-08-08T18:46:24.138444Z"
    },
    "papermill": {
     "duration": 1.321719,
     "end_time": "2022-08-08T18:46:24.140173",
     "exception": false,
     "start_time": "2022-08-08T18:46:22.818454",
     "status": "completed"
    },
    "tags": []
   },
   "outputs": [
    {
     "data": {
      "text/plain": [
       "1.5672774387899464e-09"
      ]
     },
     "metadata": {},
     "output_type": "display_data"
    }
   ],
   "source": [
    "_min_val = gene_corrs_df.min().min()\n",
    "display(_min_val)\n",
    "assert _min_val >= 0.0"
   ]
  },
  {
   "cell_type": "code",
   "execution_count": 34,
   "id": "d04fb2cf-1050-475b-b855-f5f7cc04092b",
   "metadata": {
    "execution": {
     "iopub.execute_input": "2022-08-08T18:46:26.771153Z",
     "iopub.status.busy": "2022-08-08T18:46:26.770992Z",
     "iopub.status.idle": "2022-08-08T18:46:26.788727Z",
     "shell.execute_reply": "2022-08-08T18:46:26.788353Z"
    },
    "papermill": {
     "duration": 1.345506,
     "end_time": "2022-08-08T18:46:26.789956",
     "exception": false,
     "start_time": "2022-08-08T18:46:25.444450",
     "status": "completed"
    },
    "tags": []
   },
   "outputs": [
    {
     "data": {
      "text/plain": [
       "1.0"
      ]
     },
     "metadata": {},
     "output_type": "display_data"
    }
   ],
   "source": [
    "_max_val = gene_corrs_df.max().max()  # this captures the diagonal\n",
    "display(_max_val)\n",
    "assert _max_val <= 1.0"
   ]
  },
  {
   "cell_type": "code",
   "execution_count": 35,
   "id": "96d02c44-1fba-47be-8a93-8f2608420b9c",
   "metadata": {
    "execution": {
     "iopub.execute_input": "2022-08-08T18:46:29.441348Z",
     "iopub.status.busy": "2022-08-08T18:46:29.440887Z",
     "iopub.status.idle": "2022-08-08T18:46:29.456976Z",
     "shell.execute_reply": "2022-08-08T18:46:29.456593Z"
    },
    "papermill": {
     "duration": 1.320323,
     "end_time": "2022-08-08T18:46:29.458348",
     "exception": false,
     "start_time": "2022-08-08T18:46:28.138025",
     "status": "completed"
    },
    "tags": []
   },
   "outputs": [],
   "source": [
    "# check upper triangular values\n",
    "assert len(gene_corrs) == int(genes_chr.shape[0] * (genes_chr.shape[0] - 1) / 2)"
   ]
  },
  {
   "cell_type": "code",
   "execution_count": 36,
   "id": "fe283586-c348-40e0-8841-f6d97bfb021c",
   "metadata": {
    "execution": {
     "iopub.execute_input": "2022-08-08T18:46:32.095922Z",
     "iopub.status.busy": "2022-08-08T18:46:32.095722Z",
     "iopub.status.idle": "2022-08-08T18:46:32.121608Z",
     "shell.execute_reply": "2022-08-08T18:46:32.121062Z"
    },
    "papermill": {
     "duration": 1.339456,
     "end_time": "2022-08-08T18:46:32.123326",
     "exception": false,
     "start_time": "2022-08-08T18:46:30.783870",
     "status": "completed"
    },
    "tags": []
   },
   "outputs": [
    {
     "data": {
      "text/plain": [
       "count    2.453100e+04\n",
       "mean     1.033733e-02\n",
       "std      2.354916e-02\n",
       "min      1.567277e-09\n",
       "25%      5.420177e-03\n",
       "50%      8.246965e-03\n",
       "75%      1.149031e-02\n",
       "max      7.580059e-01\n",
       "dtype: float64"
      ]
     },
     "execution_count": 36,
     "metadata": {},
     "output_type": "execute_result"
    }
   ],
   "source": [
    "gene_corrs_flat.describe()"
   ]
  },
  {
   "cell_type": "code",
   "execution_count": 37,
   "id": "b3815678-0f93-4b35-897b-a9d047a2aa78",
   "metadata": {
    "execution": {
     "iopub.execute_input": "2022-08-08T18:46:34.765989Z",
     "iopub.status.busy": "2022-08-08T18:46:34.765829Z",
     "iopub.status.idle": "2022-08-08T18:46:34.785763Z",
     "shell.execute_reply": "2022-08-08T18:46:34.785399Z"
    },
    "papermill": {
     "duration": 1.268163,
     "end_time": "2022-08-08T18:46:34.787044",
     "exception": false,
     "start_time": "2022-08-08T18:46:33.518881",
     "status": "completed"
    },
    "tags": []
   },
   "outputs": [
    {
     "data": {
      "text/plain": [
       "0.00    1.567277e-09\n",
       "0.05    2.227980e-03\n",
       "0.10    3.288855e-03\n",
       "0.15    4.082140e-03\n",
       "0.20    4.783009e-03\n",
       "0.25    5.420177e-03\n",
       "0.30    6.024056e-03\n",
       "0.35    6.586313e-03\n",
       "0.40    7.149226e-03\n",
       "0.45    7.717546e-03\n",
       "0.50    8.246965e-03\n",
       "0.55    8.812253e-03\n",
       "0.60    9.400257e-03\n",
       "0.65    1.003626e-02\n",
       "0.70    1.076075e-02\n",
       "0.75    1.149031e-02\n",
       "0.80    1.235539e-02\n",
       "0.85    1.343842e-02\n",
       "0.90    1.492601e-02\n",
       "0.95    1.744088e-02\n",
       "dtype: float64"
      ]
     },
     "metadata": {},
     "output_type": "display_data"
    }
   ],
   "source": [
    "gene_corrs_quantiles = gene_corrs_flat.quantile(np.arange(0, 1, 0.05))\n",
    "display(gene_corrs_quantiles)"
   ]
  },
  {
   "cell_type": "markdown",
   "id": "87134509-b145-4a10-8bc9-b7e914c2b0fa",
   "metadata": {
    "papermill": {
     "duration": 1.329009,
     "end_time": "2022-08-08T18:46:37.434640",
     "exception": false,
     "start_time": "2022-08-08T18:46:36.105631",
     "status": "completed"
    },
    "tags": []
   },
   "source": [
    "## Positive definiteness"
   ]
  },
  {
   "cell_type": "code",
   "execution_count": 38,
   "id": "07d9a9a1-a4f7-48aa-b916-6d42a8cc6186",
   "metadata": {
    "execution": {
     "iopub.execute_input": "2022-08-08T18:46:40.032690Z",
     "iopub.status.busy": "2022-08-08T18:46:40.032485Z",
     "iopub.status.idle": "2022-08-08T18:46:40.071711Z",
     "shell.execute_reply": "2022-08-08T18:46:40.071343Z"
    },
    "papermill": {
     "duration": 1.329796,
     "end_time": "2022-08-08T18:46:40.072776",
     "exception": false,
     "start_time": "2022-08-08T18:46:38.742980",
     "status": "completed"
    },
    "tags": []
   },
   "outputs": [
    {
     "data": {
      "text/plain": [
       "0"
      ]
     },
     "metadata": {},
     "output_type": "display_data"
    },
    {
     "data": {
      "text/plain": [
       "array([], dtype=float64)"
      ]
     },
     "metadata": {},
     "output_type": "display_data"
    }
   ],
   "source": [
    "# print negative eigenvalues\n",
    "eigs = np.linalg.eigvals(gene_corrs_df.to_numpy())\n",
    "display(len(eigs[eigs < 0]))\n",
    "display(eigs[eigs < 0])"
   ]
  },
  {
   "cell_type": "code",
   "execution_count": 39,
   "id": "6e218436-c3c5-4028-8c94-a4fa6260efce",
   "metadata": {
    "execution": {
     "iopub.execute_input": "2022-08-08T18:46:42.718743Z",
     "iopub.status.busy": "2022-08-08T18:46:42.718271Z",
     "iopub.status.idle": "2022-08-08T18:46:42.739506Z",
     "shell.execute_reply": "2022-08-08T18:46:42.739026Z"
    },
    "papermill": {
     "duration": 1.292185,
     "end_time": "2022-08-08T18:46:42.740783",
     "exception": false,
     "start_time": "2022-08-08T18:46:41.448598",
     "status": "completed"
    },
    "tags": []
   },
   "outputs": [
    {
     "name": "stdout",
     "output_type": "stream",
     "text": [
      "Works!\n"
     ]
    }
   ],
   "source": [
    "try:\n",
    "    chol_mat = np.linalg.cholesky(gene_corrs_df.to_numpy())\n",
    "    cov_inv = np.linalg.inv(chol_mat)\n",
    "    print(\"Works!\")\n",
    "except:\n",
    "    print(\"Cholesky decomposition failed\")"
   ]
  },
  {
   "cell_type": "markdown",
   "id": "8e60a080-edb2-4e9c-b2ef-22961693200c",
   "metadata": {
    "papermill": {
     "duration": 1.288305,
     "end_time": "2022-08-08T18:46:45.371155",
     "exception": false,
     "start_time": "2022-08-08T18:46:44.082850",
     "status": "completed"
    },
    "tags": []
   },
   "source": [
    "## Plot: distribution"
   ]
  },
  {
   "cell_type": "code",
   "execution_count": 40,
   "id": "8301126b-a7d4-4744-9c7d-f0f86eb6f54c",
   "metadata": {
    "execution": {
     "iopub.execute_input": "2022-08-08T18:46:47.992584Z",
     "iopub.status.busy": "2022-08-08T18:46:47.992380Z",
     "iopub.status.idle": "2022-08-08T18:46:51.299639Z",
     "shell.execute_reply": "2022-08-08T18:46:51.299216Z"
    },
    "papermill": {
     "duration": 4.607854,
     "end_time": "2022-08-08T18:46:51.300853",
     "exception": false,
     "start_time": "2022-08-08T18:46:46.692999",
     "status": "completed"
    },
    "tags": []
   },
   "outputs": [
    {
     "data": {
      "image/png": "[encoded data removed]",
      "text/plain": [
       "<Figure size 504x504 with 1 Axes>"
      ]
     },
     "metadata": {
      "needs_background": "light"
     },
     "output_type": "display_data"
    }
   ],
   "source": [
    "with sns.plotting_context(\"paper\", font_scale=1.5):\n",
    "    g = sns.displot(gene_corrs_flat, kde=True, height=7)\n",
    "    g.ax.set_title(\n",
    "        f\"Distribution of gene correlation values in chromosome {CHROMOSOME}\"\n",
    "    )"
   ]
  },
  {
   "cell_type": "markdown",
   "id": "cbd52bca-d878-4a2f-b684-5c83aa3038d4",
   "metadata": {
    "papermill": {
     "duration": 1.283065,
     "end_time": "2022-08-08T18:46:53.909509",
     "exception": false,
     "start_time": "2022-08-08T18:46:52.626444",
     "status": "completed"
    },
    "tags": []
   },
   "source": [
    "## Plot: heatmap"
   ]
  },
  {
   "cell_type": "code",
   "execution_count": 41,
   "id": "d03fe63a-c7b2-4fb9-a53c-db362ce843c9",
   "metadata": {
    "execution": {
     "iopub.execute_input": "2022-08-08T18:46:56.537351Z",
     "iopub.status.busy": "2022-08-08T18:46:56.537122Z",
     "iopub.status.idle": "2022-08-08T18:46:56.553022Z",
     "shell.execute_reply": "2022-08-08T18:46:56.552554Z"
    },
    "papermill": {
     "duration": 1.335201,
     "end_time": "2022-08-08T18:46:56.554247",
     "exception": false,
     "start_time": "2022-08-08T18:46:55.219046",
     "status": "completed"
    },
    "tags": []
   },
   "outputs": [
    {
     "data": {
      "text/plain": [
       "'0.0 / 0.05'"
      ]
     },
     "metadata": {},
     "output_type": "display_data"
    }
   ],
   "source": [
    "vmin_val = min(0.00, gene_corrs_quantiles[0.10])\n",
    "vmax_val = max(0.05, gene_corrs_quantiles[0.90])\n",
    "display(f\"{vmin_val} / {vmax_val}\")"
   ]
  },
  {
   "cell_type": "code",
   "execution_count": 42,
   "id": "dc41b70b-5bcc-4d9e-9f33-a22c4a94dab5",
   "metadata": {
    "execution": {
     "iopub.execute_input": "2022-08-08T18:46:59.177353Z",
     "iopub.status.busy": "2022-08-08T18:46:59.176804Z",
     "iopub.status.idle": "2022-08-08T18:46:59.382447Z",
     "shell.execute_reply": "2022-08-08T18:46:59.381967Z"
    },
    "papermill": {
     "duration": 1.49356,
     "end_time": "2022-08-08T18:46:59.383771",
     "exception": false,
     "start_time": "2022-08-08T18:46:57.890211",
     "status": "completed"
    },
    "tags": []
   },
   "outputs": [
    {
     "data": {
      "text/plain": [
       "Text(0.5, 1.0, 'Gene correlations in chromosome 8')"
      ]
     },
     "execution_count": 42,
     "metadata": {},
     "output_type": "execute_result"
    },
    {
     "data": {
      "image/png": "[encoded data removed]",
      "text/plain": [
       "<Figure size 720x720 with 2 Axes>"
      ]
     },
     "metadata": {
      "needs_background": "light"
     },
     "output_type": "display_data"
    }
   ],
   "source": [
    "f, ax = plt.subplots(figsize=(10, 10))\n",
    "sns.heatmap(\n",
    "    gene_corrs_df,\n",
    "    xticklabels=False,\n",
    "    yticklabels=False,\n",
    "    square=True,\n",
    "    vmin=vmin_val,\n",
    "    vmax=vmax_val,\n",
    "    cmap=\"rocket_r\",\n",
    "    ax=ax,\n",
    ")\n",
    "ax.set_title(f\"Gene correlations in chromosome {CHROMOSOME}\")"
   ]
  },
  {
   "cell_type": "code",
   "execution_count": null,
   "id": "b25e3ead",
   "metadata": {
    "papermill": {
     "duration": 1.273609,
     "end_time": "2022-08-08T18:47:01.990649",
     "exception": false,
     "start_time": "2022-08-08T18:47:00.717040",
     "status": "completed"
    },
    "tags": []
   },
   "outputs": [],
   "source": []
  }
 ],
 "metadata": {
  "jupytext": {
   "cell_metadata_filter": "all,-execution,-papermill,-trusted",
   "formats": "ipynb,py//py:percent"
  },
  "kernelspec": {
   "display_name": "Python 3 (ipykernel)",
   "language": "python",
   "name": "python3"
  },
  "language_info": {
   "codemirror_mode": {
    "name": "ipython",
    "version": 3
   },
   "file_extension": ".py",
   "mimetype": "text/x-python",
   "name": "python",
   "nbconvert_exporter": "python",
   "pygments_lexer": "ipython3",
   "version": "3.8.13"
  },
  "papermill": {
   "default_parameters": {},
   "duration": 1840.936298,
   "end_time": "2022-08-08T18:47:06.342500",
   "environment_variables": {},
   "exception": null,
   "input_path": "nbs/15_gsa_gls/10-gene_expr_correlations.ipynb",
   "output_path": "nbs/15_gsa_gls/gene_corrs/cohorts/1000g_eur/1000g/mashr/10-gene_expr_correlations-chr8.run.ipynb",
   "parameters": {
    "CHROMOSOME": 8,
    "COHORT_NAME": "1000G_EUR",
    "EQTL_MODEL": "MASHR",
    "REFERENCE_PANEL": "1000G"
   },
   "start_time": "2022-08-08T18:16:25.406202",
   "version": "2.2.2"
  }
 },
 "nbformat": 4,
 "nbformat_minor": 5
}
