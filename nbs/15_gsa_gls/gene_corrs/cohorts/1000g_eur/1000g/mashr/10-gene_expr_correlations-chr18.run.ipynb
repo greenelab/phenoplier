{
 "cells": [
  {
   "cell_type": "markdown",
   "id": "7a6632fb",
   "metadata": {
    "papermill": {
     "duration": 0.006476,
     "end_time": "2022-07-22T04:48:07.720400",
     "exception": false,
     "start_time": "2022-07-22T04:48:07.713924",
     "status": "completed"
    },
    "tags": []
   },
   "source": [
    "# Description"
   ]
  },
  {
   "cell_type": "markdown",
   "id": "7097c346",
   "metadata": {
    "papermill": {
     "duration": 0.005836,
     "end_time": "2022-07-22T04:48:07.732014",
     "exception": false,
     "start_time": "2022-07-22T04:48:07.726178",
     "status": "completed"
    },
    "tags": []
   },
   "source": [
    "(Please, take a look at the README.md file in this directory for instructions on how to run this notebook)\n",
    "\n",
    "This notebook computes predicted expression correlations between all genes in the MultiPLIER models.\n",
    "\n",
    "It also has a parameter set for papermill to run on a single chromosome to run in parallel (see under `Settings` below).\n",
    "\n",
    "This notebook is not directly run. See README.md."
   ]
  },
  {
   "cell_type": "markdown",
   "id": "c61d8427",
   "metadata": {
    "papermill": {
     "duration": 0.005723,
     "end_time": "2022-07-22T04:48:07.743445",
     "exception": false,
     "start_time": "2022-07-22T04:48:07.737722",
     "status": "completed"
    },
    "tags": []
   },
   "source": [
    "# Modules"
   ]
  },
  {
   "cell_type": "code",
   "execution_count": 1,
   "id": "bbc0234f",
   "metadata": {
    "execution": {
     "iopub.execute_input": "2022-07-22T04:48:07.757041Z",
     "iopub.status.busy": "2022-07-22T04:48:07.756660Z",
     "iopub.status.idle": "2022-07-22T04:48:07.770823Z",
     "shell.execute_reply": "2022-07-22T04:48:07.770307Z"
    },
    "papermill": {
     "duration": 0.022507,
     "end_time": "2022-07-22T04:48:07.772260",
     "exception": false,
     "start_time": "2022-07-22T04:48:07.749753",
     "status": "completed"
    },
    "tags": []
   },
   "outputs": [],
   "source": [
    "%load_ext autoreload\n",
    "%autoreload 2"
   ]
  },
  {
   "cell_type": "code",
   "execution_count": 2,
   "id": "1d5f5a59",
   "metadata": {
    "execution": {
     "iopub.execute_input": "2022-07-22T04:48:07.811549Z",
     "iopub.status.busy": "2022-07-22T04:48:07.811018Z",
     "iopub.status.idle": "2022-07-22T04:48:08.710561Z",
     "shell.execute_reply": "2022-07-22T04:48:08.710132Z"
    },
    "papermill": {
     "duration": 0.908001,
     "end_time": "2022-07-22T04:48:08.711913",
     "exception": false,
     "start_time": "2022-07-22T04:48:07.803912",
     "status": "completed"
    },
    "tags": []
   },
   "outputs": [],
   "source": [
    "from random import sample, seed\n",
    "import warnings\n",
    "from pathlib import Path\n",
    "import pickle\n",
    "import traceback\n",
    "\n",
    "import numpy as np\n",
    "from scipy.spatial.distance import squareform\n",
    "import pandas as pd\n",
    "from tqdm import tqdm\n",
    "import matplotlib.pyplot as plt\n",
    "import seaborn as sns\n",
    "\n",
    "import conf\n",
    "from entity import Gene"
   ]
  },
  {
   "cell_type": "markdown",
   "id": "1eac24b5",
   "metadata": {
    "papermill": {
     "duration": 0.005652,
     "end_time": "2022-07-22T04:48:08.723406",
     "exception": false,
     "start_time": "2022-07-22T04:48:08.717754",
     "status": "completed"
    },
    "tags": []
   },
   "source": [
    "# Settings"
   ]
  },
  {
   "cell_type": "code",
   "execution_count": 3,
   "id": "ca4560ba",
   "metadata": {
    "execution": {
     "iopub.execute_input": "2022-07-22T04:48:08.735665Z",
     "iopub.status.busy": "2022-07-22T04:48:08.735421Z",
     "iopub.status.idle": "2022-07-22T04:48:08.750021Z",
     "shell.execute_reply": "2022-07-22T04:48:08.749490Z"
    },
    "papermill": {
     "duration": 0.02242,
     "end_time": "2022-07-22T04:48:08.751471",
     "exception": false,
     "start_time": "2022-07-22T04:48:08.729051",
     "status": "completed"
    },
    "tags": [
     "parameters"
    ]
   },
   "outputs": [],
   "source": [
    "# a cohort name (it could be something like UK_BIOBANK, etc)\n",
    "COHORT_NAME = None\n",
    "\n",
    "# reference panel such as 1000G or GTEX_V8\n",
    "REFERENCE_PANEL = None\n",
    "\n",
    "# predictions models such as MASHR or ELASTIC_NET\n",
    "EQTL_MODEL = None\n",
    "\n",
    "# this is the default value used in S-MultiXcan to select the\n",
    "# top principal components of the expression correlation matrix\n",
    "SMULTIXCAN_CONDITION_NUMBER = 30\n",
    "\n",
    "# specifies a single chromosome value\n",
    "CHROMOSOME = None\n",
    "\n",
    "# if True, then it will continue if a gene pair correlation fails,\n",
    "# printing the warning/error for debugging. If False, any warning/error\n",
    "# will be thrown\n",
    "# FIXME: make it False when all is working\n",
    "DEBUG_MODE = True"
   ]
  },
  {
   "cell_type": "code",
   "execution_count": 4,
   "id": "1e2faca3",
   "metadata": {
    "execution": {
     "iopub.execute_input": "2022-07-22T04:48:08.764043Z",
     "iopub.status.busy": "2022-07-22T04:48:08.763829Z",
     "iopub.status.idle": "2022-07-22T04:48:08.777792Z",
     "shell.execute_reply": "2022-07-22T04:48:08.777353Z"
    },
    "papermill": {
     "duration": 0.02189,
     "end_time": "2022-07-22T04:48:08.779080",
     "exception": false,
     "start_time": "2022-07-22T04:48:08.757190",
     "status": "completed"
    },
    "tags": [
     "injected-parameters"
    ]
   },
   "outputs": [],
   "source": [
    "# Parameters\n",
    "COHORT_NAME = \"1000G_EUR\"\n",
    "REFERENCE_PANEL = \"1000G\"\n",
    "EQTL_MODEL = \"MASHR\"\n",
    "CHROMOSOME = 18\n"
   ]
  },
  {
   "cell_type": "code",
   "execution_count": 5,
   "id": "3190631f-27fc-480f-b18e-571d580425a5",
   "metadata": {
    "execution": {
     "iopub.execute_input": "2022-07-22T04:48:08.791691Z",
     "iopub.status.busy": "2022-07-22T04:48:08.791488Z",
     "iopub.status.idle": "2022-07-22T04:48:08.807561Z",
     "shell.execute_reply": "2022-07-22T04:48:08.807146Z"
    },
    "papermill": {
     "duration": 0.024009,
     "end_time": "2022-07-22T04:48:08.808948",
     "exception": false,
     "start_time": "2022-07-22T04:48:08.784939",
     "status": "completed"
    },
    "tags": []
   },
   "outputs": [
    {
     "data": {
      "text/plain": [
       "'Cohort name: 1000g_eur'"
      ]
     },
     "metadata": {},
     "output_type": "display_data"
    }
   ],
   "source": [
    "assert COHORT_NAME is not None or len(COHORT_NAME) == 0, \"A cohort name must be given\"\n",
    "\n",
    "COHORT_NAME = COHORT_NAME.lower()\n",
    "display(f\"Cohort name: {COHORT_NAME}\")"
   ]
  },
  {
   "cell_type": "code",
   "execution_count": 6,
   "id": "f53ba19b-0f93-4fa2-a047-63b375939d1a",
   "metadata": {
    "execution": {
     "iopub.execute_input": "2022-07-22T04:48:08.821770Z",
     "iopub.status.busy": "2022-07-22T04:48:08.821578Z",
     "iopub.status.idle": "2022-07-22T04:48:08.836367Z",
     "shell.execute_reply": "2022-07-22T04:48:08.835929Z"
    },
    "papermill": {
     "duration": 0.022608,
     "end_time": "2022-07-22T04:48:08.837581",
     "exception": false,
     "start_time": "2022-07-22T04:48:08.814973",
     "status": "completed"
    },
    "tags": []
   },
   "outputs": [
    {
     "data": {
      "text/plain": [
       "'Reference panel: 1000G'"
      ]
     },
     "metadata": {},
     "output_type": "display_data"
    }
   ],
   "source": [
    "assert (\n",
    "    REFERENCE_PANEL is not None or len(REFERENCE_PANEL) == 0\n",
    "), \"A reference panel must be given\"\n",
    "\n",
    "display(f\"Reference panel: {REFERENCE_PANEL}\")"
   ]
  },
  {
   "cell_type": "code",
   "execution_count": 7,
   "id": "e024d130-c139-429a-9c6e-ccf149e297b0",
   "metadata": {
    "execution": {
     "iopub.execute_input": "2022-07-22T04:48:08.850256Z",
     "iopub.status.busy": "2022-07-22T04:48:08.850064Z",
     "iopub.status.idle": "2022-07-22T04:48:08.865420Z",
     "shell.execute_reply": "2022-07-22T04:48:08.865015Z"
    },
    "papermill": {
     "duration": 0.023022,
     "end_time": "2022-07-22T04:48:08.866571",
     "exception": false,
     "start_time": "2022-07-22T04:48:08.843549",
     "status": "completed"
    },
    "tags": []
   },
   "outputs": [
    {
     "data": {
      "text/plain": [
       "'eQTL model: MASHR) / mashr_'"
      ]
     },
     "metadata": {},
     "output_type": "display_data"
    }
   ],
   "source": [
    "assert (\n",
    "    EQTL_MODEL is not None or len(EQTL_MODEL) == 0\n",
    "), \"A prediction/eQTL model must be given\"\n",
    "\n",
    "EQTL_MODEL_FILES_PREFIX = conf.PHENOMEXCAN[\"PREDICTION_MODELS\"][f\"{EQTL_MODEL}_PREFIX\"]\n",
    "display(f\"eQTL model: {EQTL_MODEL}) / {EQTL_MODEL_FILES_PREFIX}\")"
   ]
  },
  {
   "cell_type": "code",
   "execution_count": 8,
   "id": "552a7f63-a18c-4d3e-bb6a-94f99b431291",
   "metadata": {
    "execution": {
     "iopub.execute_input": "2022-07-22T04:48:08.879860Z",
     "iopub.status.busy": "2022-07-22T04:48:08.879462Z",
     "iopub.status.idle": "2022-07-22T04:48:08.893984Z",
     "shell.execute_reply": "2022-07-22T04:48:08.893551Z"
    },
    "papermill": {
     "duration": 0.022466,
     "end_time": "2022-07-22T04:48:08.895124",
     "exception": false,
     "start_time": "2022-07-22T04:48:08.872658",
     "status": "completed"
    },
    "tags": []
   },
   "outputs": [
    {
     "data": {
      "text/plain": [
       "'S-MultiXcan condition number: 30'"
      ]
     },
     "metadata": {},
     "output_type": "display_data"
    }
   ],
   "source": [
    "assert (\n",
    "    SMULTIXCAN_CONDITION_NUMBER is not None or SMULTIXCAN_CONDITION_NUMBER > 0\n",
    "), \"The S-MultiXcan condition number (positive integer) must be given\"\n",
    "\n",
    "display(f\"S-MultiXcan condition number: {SMULTIXCAN_CONDITION_NUMBER}\")"
   ]
  },
  {
   "cell_type": "code",
   "execution_count": 9,
   "id": "f34a336f-548e-4afe-8955-90eaea4f42c6",
   "metadata": {
    "execution": {
     "iopub.execute_input": "2022-07-22T04:48:08.908911Z",
     "iopub.status.busy": "2022-07-22T04:48:08.908623Z",
     "iopub.status.idle": "2022-07-22T04:48:08.923888Z",
     "shell.execute_reply": "2022-07-22T04:48:08.923464Z"
    },
    "papermill": {
     "duration": 0.023402,
     "end_time": "2022-07-22T04:48:08.925130",
     "exception": false,
     "start_time": "2022-07-22T04:48:08.901728",
     "status": "completed"
    },
    "tags": []
   },
   "outputs": [
    {
     "data": {
      "text/plain": [
       "'Working on chromosome 18'"
      ]
     },
     "metadata": {},
     "output_type": "display_data"
    }
   ],
   "source": [
    "assert CHROMOSOME is not None and (\n",
    "    1 <= CHROMOSOME <= 22\n",
    "), \"You have to select one chromosome (format: number between 1 and 22)\"\n",
    "\n",
    "CHROMOSOME = str(CHROMOSOME)\n",
    "display(f\"Working on chromosome {CHROMOSOME}\")"
   ]
  },
  {
   "cell_type": "code",
   "execution_count": 10,
   "id": "ab8e96e8-06b5-4363-9dcd-dc4d78cc27f7",
   "metadata": {
    "execution": {
     "iopub.execute_input": "2022-07-22T04:48:08.938601Z",
     "iopub.status.busy": "2022-07-22T04:48:08.938363Z",
     "iopub.status.idle": "2022-07-22T04:48:08.953433Z",
     "shell.execute_reply": "2022-07-22T04:48:08.952995Z"
    },
    "papermill": {
     "duration": 0.023109,
     "end_time": "2022-07-22T04:48:08.954620",
     "exception": false,
     "start_time": "2022-07-22T04:48:08.931511",
     "status": "completed"
    },
    "tags": []
   },
   "outputs": [
    {
     "data": {
      "text/plain": [
       "'Compute correlation within distance True'"
      ]
     },
     "metadata": {},
     "output_type": "display_data"
    }
   ],
   "source": [
    "# TODO: see if this is necessary; if so, make it a parameter with default value True\n",
    "# This parameter, if True, computes the correlation between closeby genes only\n",
    "\n",
    "COMPUTE_CORRELATIONS_WITHIN_DISTANCE = True\n",
    "display(f\"Compute correlation within distance {COMPUTE_CORRELATIONS_WITHIN_DISTANCE}\")"
   ]
  },
  {
   "cell_type": "code",
   "execution_count": 11,
   "id": "396392dc-0340-4540-9b02-e182b833f909",
   "metadata": {
    "execution": {
     "iopub.execute_input": "2022-07-22T04:48:08.968342Z",
     "iopub.status.busy": "2022-07-22T04:48:08.968137Z",
     "iopub.status.idle": "2022-07-22T04:48:08.984426Z",
     "shell.execute_reply": "2022-07-22T04:48:08.983923Z"
    },
    "papermill": {
     "duration": 0.024719,
     "end_time": "2022-07-22T04:48:08.985837",
     "exception": false,
     "start_time": "2022-07-22T04:48:08.961118",
     "status": "completed"
    },
    "tags": []
   },
   "outputs": [
    {
     "data": {
      "text/plain": [
       "'Using output dir base: /opt/data/results/gls/gene_corrs/cohorts/1000g_eur/1000g/mashr'"
      ]
     },
     "metadata": {},
     "output_type": "display_data"
    }
   ],
   "source": [
    "OUTPUT_DIR_BASE = (\n",
    "    conf.RESULTS[\"GLS\"]\n",
    "    / \"gene_corrs\"\n",
    "    / \"cohorts\"\n",
    "    / COHORT_NAME\n",
    "    / REFERENCE_PANEL.lower()\n",
    "    / EQTL_MODEL.lower()\n",
    ")\n",
    "OUTPUT_DIR_BASE.mkdir(parents=True, exist_ok=True)\n",
    "\n",
    "display(f\"Using output dir base: {OUTPUT_DIR_BASE}\")"
   ]
  },
  {
   "cell_type": "code",
   "execution_count": 12,
   "id": "974b4bb1-aa98-4e30-b221-7cd034ad3833",
   "metadata": {
    "execution": {
     "iopub.execute_input": "2022-07-22T04:48:09.001929Z",
     "iopub.status.busy": "2022-07-22T04:48:09.001603Z",
     "iopub.status.idle": "2022-07-22T04:48:09.019975Z",
     "shell.execute_reply": "2022-07-22T04:48:09.019438Z"
    },
    "papermill": {
     "duration": 0.0279,
     "end_time": "2022-07-22T04:48:09.021324",
     "exception": false,
     "start_time": "2022-07-22T04:48:08.993424",
     "status": "completed"
    },
    "tags": []
   },
   "outputs": [
    {
     "data": {
      "text/plain": [
       "PosixPath('/opt/data/results/gls/gene_corrs/cohorts/1000g_eur')"
      ]
     },
     "metadata": {},
     "output_type": "display_data"
    }
   ],
   "source": [
    "INPUT_DIR = conf.RESULTS[\"GLS\"] / \"gene_corrs\" / \"cohorts\" / COHORT_NAME\n",
    "assert INPUT_DIR.exists()\n",
    "\n",
    "display(INPUT_DIR)"
   ]
  },
  {
   "cell_type": "markdown",
   "id": "d2ba085e",
   "metadata": {
    "papermill": {
     "duration": 0.006636,
     "end_time": "2022-07-22T04:48:09.038023",
     "exception": false,
     "start_time": "2022-07-22T04:48:09.031387",
     "status": "completed"
    },
    "tags": []
   },
   "source": [
    "# Load data"
   ]
  },
  {
   "cell_type": "markdown",
   "id": "7dcb8db7",
   "metadata": {
    "papermill": {
     "duration": 0.006142,
     "end_time": "2022-07-22T04:48:09.050629",
     "exception": false,
     "start_time": "2022-07-22T04:48:09.044487",
     "status": "completed"
    },
    "tags": []
   },
   "source": [
    "## GWAS variants"
   ]
  },
  {
   "cell_type": "code",
   "execution_count": 13,
   "id": "29434c4e-8cd3-4b9b-82e4-b5a251d9dd19",
   "metadata": {
    "execution": {
     "iopub.execute_input": "2022-07-22T04:48:09.064354Z",
     "iopub.status.busy": "2022-07-22T04:48:09.064131Z",
     "iopub.status.idle": "2022-07-22T04:48:11.582894Z",
     "shell.execute_reply": "2022-07-22T04:48:11.582425Z"
    },
    "papermill": {
     "duration": 2.527317,
     "end_time": "2022-07-22T04:48:11.584409",
     "exception": false,
     "start_time": "2022-07-22T04:48:09.057092",
     "status": "completed"
    },
    "tags": []
   },
   "outputs": [],
   "source": [
    "with open(INPUT_DIR / \"gwas_variant_ids.pkl\", \"rb\") as handle:\n",
    "    gwas_variants_ids_set = pickle.load(handle)"
   ]
  },
  {
   "cell_type": "code",
   "execution_count": 14,
   "id": "b9d9dec2-4a76-4bf9-bde2-e24c95acb8a0",
   "metadata": {
    "execution": {
     "iopub.execute_input": "2022-07-22T04:48:11.601139Z",
     "iopub.status.busy": "2022-07-22T04:48:11.600905Z",
     "iopub.status.idle": "2022-07-22T04:48:11.618843Z",
     "shell.execute_reply": "2022-07-22T04:48:11.618420Z"
    },
    "papermill": {
     "duration": 0.027883,
     "end_time": "2022-07-22T04:48:11.620167",
     "exception": false,
     "start_time": "2022-07-22T04:48:11.592284",
     "status": "completed"
    },
    "tags": []
   },
   "outputs": [
    {
     "data": {
      "text/plain": [
       "8339505"
      ]
     },
     "execution_count": 14,
     "metadata": {},
     "output_type": "execute_result"
    }
   ],
   "source": [
    "len(gwas_variants_ids_set)"
   ]
  },
  {
   "cell_type": "code",
   "execution_count": 15,
   "id": "4235b06a-6034-4ee4-a0a3-2ae35d122418",
   "metadata": {
    "execution": {
     "iopub.execute_input": "2022-07-22T04:48:11.636743Z",
     "iopub.status.busy": "2022-07-22T04:48:11.636344Z",
     "iopub.status.idle": "2022-07-22T04:48:12.108475Z",
     "shell.execute_reply": "2022-07-22T04:48:12.107882Z"
    },
    "papermill": {
     "duration": 0.482407,
     "end_time": "2022-07-22T04:48:12.110019",
     "exception": false,
     "start_time": "2022-07-22T04:48:11.627612",
     "status": "completed"
    },
    "tags": []
   },
   "outputs": [
    {
     "data": {
      "text/plain": [
       "['chr9_93489201_C_A_b38',\n",
       " 'chr5_80336180_A_G_b38',\n",
       " 'chr5_129586902_T_G_b38',\n",
       " 'chr11_37546454_C_A_b38',\n",
       " 'chr1_166740405_G_A_b38']"
      ]
     },
     "execution_count": 15,
     "metadata": {},
     "output_type": "execute_result"
    }
   ],
   "source": [
    "list(gwas_variants_ids_set)[:5]"
   ]
  },
  {
   "cell_type": "markdown",
   "id": "07866999-2305-41f9-a144-e69c9122c212",
   "metadata": {
    "papermill": {
     "duration": 0.007851,
     "end_time": "2022-07-22T04:48:12.126317",
     "exception": false,
     "start_time": "2022-07-22T04:48:12.118466",
     "status": "completed"
    },
    "tags": []
   },
   "source": [
    "## S-PrediXcan tissue models"
   ]
  },
  {
   "cell_type": "code",
   "execution_count": 16,
   "id": "780611d9-77c8-405f-90a4-f271f7b09397",
   "metadata": {
    "execution": {
     "iopub.execute_input": "2022-07-22T04:48:12.167681Z",
     "iopub.status.busy": "2022-07-22T04:48:12.167467Z",
     "iopub.status.idle": "2022-07-22T04:48:12.916122Z",
     "shell.execute_reply": "2022-07-22T04:48:12.915605Z"
    },
    "papermill": {
     "duration": 0.783037,
     "end_time": "2022-07-22T04:48:12.917558",
     "exception": false,
     "start_time": "2022-07-22T04:48:12.134521",
     "status": "completed"
    },
    "tags": []
   },
   "outputs": [],
   "source": [
    "spredixcan_genes_models = pd.read_pickle(INPUT_DIR / \"gene_tissues.pkl\").set_index(\n",
    "    \"gene_id\"\n",
    ")"
   ]
  },
  {
   "cell_type": "code",
   "execution_count": 17,
   "id": "726dd1f6-9557-4225-91fa-b3b879ea96e1",
   "metadata": {
    "execution": {
     "iopub.execute_input": "2022-07-22T04:48:12.932231Z",
     "iopub.status.busy": "2022-07-22T04:48:12.931972Z",
     "iopub.status.idle": "2022-07-22T04:48:12.946613Z",
     "shell.execute_reply": "2022-07-22T04:48:12.946183Z"
    },
    "papermill": {
     "duration": 0.023182,
     "end_time": "2022-07-22T04:48:12.947842",
     "exception": false,
     "start_time": "2022-07-22T04:48:12.924660",
     "status": "completed"
    },
    "tags": []
   },
   "outputs": [
    {
     "data": {
      "text/plain": [
       "(22314, 2)"
      ]
     },
     "execution_count": 17,
     "metadata": {},
     "output_type": "execute_result"
    }
   ],
   "source": [
    "spredixcan_genes_models.shape"
   ]
  },
  {
   "cell_type": "code",
   "execution_count": 18,
   "id": "944a1b48-222c-4eb0-b252-b9de2cbca215",
   "metadata": {
    "execution": {
     "iopub.execute_input": "2022-07-22T04:48:12.962375Z",
     "iopub.status.busy": "2022-07-22T04:48:12.962179Z",
     "iopub.status.idle": "2022-07-22T04:48:12.981938Z",
     "shell.execute_reply": "2022-07-22T04:48:12.981521Z"
    },
    "papermill": {
     "duration": 0.028452,
     "end_time": "2022-07-22T04:48:12.983179",
     "exception": false,
     "start_time": "2022-07-22T04:48:12.954727",
     "status": "completed"
    },
    "tags": []
   },
   "outputs": [
    {
     "data": {
      "text/html": [
       "<div>\n",
       "<style scoped>\n",
       "    .dataframe tbody tr th:only-of-type {\n",
       "        vertical-align: middle;\n",
       "    }\n",
       "\n",
       "    .dataframe tbody tr th {\n",
       "        vertical-align: top;\n",
       "    }\n",
       "\n",
       "    .dataframe thead th {\n",
       "        text-align: right;\n",
       "    }\n",
       "</style>\n",
       "<table border=\"1\" class=\"dataframe\">\n",
       "  <thead>\n",
       "    <tr style=\"text-align: right;\">\n",
       "      <th></th>\n",
       "      <th>gene_name</th>\n",
       "      <th>tissue</th>\n",
       "    </tr>\n",
       "    <tr>\n",
       "      <th>gene_id</th>\n",
       "      <th></th>\n",
       "      <th></th>\n",
       "    </tr>\n",
       "  </thead>\n",
       "  <tbody>\n",
       "    <tr>\n",
       "      <th>ENSG00000000419</th>\n",
       "      <td>DPM1</td>\n",
       "      <td>(Brain_Substantia_nigra, Brain_Hypothalamus)</td>\n",
       "    </tr>\n",
       "    <tr>\n",
       "      <th>ENSG00000000457</th>\n",
       "      <td>SCYL3</td>\n",
       "      <td>(Brain_Amygdala, Spleen, Liver, Uterus, Brain_...</td>\n",
       "    </tr>\n",
       "    <tr>\n",
       "      <th>ENSG00000000460</th>\n",
       "      <td>C1orf112</td>\n",
       "      <td>(Brain_Hippocampus, Artery_Aorta, Brain_Nucleu...</td>\n",
       "    </tr>\n",
       "    <tr>\n",
       "      <th>ENSG00000000938</th>\n",
       "      <td>FGR</td>\n",
       "      <td>(Spleen, Liver, Brain_Hippocampus, Artery_Aort...</td>\n",
       "    </tr>\n",
       "    <tr>\n",
       "      <th>ENSG00000000971</th>\n",
       "      <td>CFH</td>\n",
       "      <td>(Uterus, Brain_Hippocampus, Artery_Aorta, Thyr...</td>\n",
       "    </tr>\n",
       "  </tbody>\n",
       "</table>\n",
       "</div>"
      ],
      "text/plain": [
       "                gene_name                                             tissue\n",
       "gene_id                                                                     \n",
       "ENSG00000000419      DPM1       (Brain_Substantia_nigra, Brain_Hypothalamus)\n",
       "ENSG00000000457     SCYL3  (Brain_Amygdala, Spleen, Liver, Uterus, Brain_...\n",
       "ENSG00000000460  C1orf112  (Brain_Hippocampus, Artery_Aorta, Brain_Nucleu...\n",
       "ENSG00000000938       FGR  (Spleen, Liver, Brain_Hippocampus, Artery_Aort...\n",
       "ENSG00000000971       CFH  (Uterus, Brain_Hippocampus, Artery_Aorta, Thyr..."
      ]
     },
     "execution_count": 18,
     "metadata": {},
     "output_type": "execute_result"
    }
   ],
   "source": [
    "spredixcan_genes_models.head()"
   ]
  },
  {
   "cell_type": "code",
   "execution_count": 19,
   "id": "d1c11bb1-be0b-4f40-b360-633d6827109f",
   "metadata": {
    "execution": {
     "iopub.execute_input": "2022-07-22T04:48:12.997619Z",
     "iopub.status.busy": "2022-07-22T04:48:12.997425Z",
     "iopub.status.idle": "2022-07-22T04:48:13.013132Z",
     "shell.execute_reply": "2022-07-22T04:48:13.012696Z"
    },
    "papermill": {
     "duration": 0.02434,
     "end_time": "2022-07-22T04:48:13.014377",
     "exception": false,
     "start_time": "2022-07-22T04:48:12.990037",
     "status": "completed"
    },
    "tags": []
   },
   "outputs": [],
   "source": [
    "assert spredixcan_genes_models.index.is_unique"
   ]
  },
  {
   "cell_type": "markdown",
   "id": "6caf9d10-eda8-4ad2-8811-a983aa77a25a",
   "metadata": {
    "papermill": {
     "duration": 0.006672,
     "end_time": "2022-07-22T04:48:13.028049",
     "exception": false,
     "start_time": "2022-07-22T04:48:13.021377",
     "status": "completed"
    },
    "tags": []
   },
   "source": [
    "## Get common genes"
   ]
  },
  {
   "cell_type": "code",
   "execution_count": 20,
   "id": "f8d1e317-1cc8-4bdf-bbe9-c3b0a5478359",
   "metadata": {
    "execution": {
     "iopub.execute_input": "2022-07-22T04:48:13.043131Z",
     "iopub.status.busy": "2022-07-22T04:48:13.042667Z",
     "iopub.status.idle": "2022-07-22T04:48:13.057447Z",
     "shell.execute_reply": "2022-07-22T04:48:13.057055Z"
    },
    "papermill": {
     "duration": 0.023771,
     "end_time": "2022-07-22T04:48:13.058720",
     "exception": false,
     "start_time": "2022-07-22T04:48:13.034949",
     "status": "completed"
    },
    "tags": []
   },
   "outputs": [],
   "source": [
    "with open(INPUT_DIR / \"common_genes.pkl\", \"rb\") as handle:\n",
    "    common_genes = pickle.load(handle)"
   ]
  },
  {
   "cell_type": "code",
   "execution_count": 21,
   "id": "ce9506aa-2f38-4e46-b9c2-84d750fac0da",
   "metadata": {
    "execution": {
     "iopub.execute_input": "2022-07-22T04:48:13.073837Z",
     "iopub.status.busy": "2022-07-22T04:48:13.073614Z",
     "iopub.status.idle": "2022-07-22T04:48:13.088660Z",
     "shell.execute_reply": "2022-07-22T04:48:13.088225Z"
    },
    "papermill": {
     "duration": 0.023902,
     "end_time": "2022-07-22T04:48:13.089809",
     "exception": false,
     "start_time": "2022-07-22T04:48:13.065907",
     "status": "completed"
    },
    "tags": []
   },
   "outputs": [
    {
     "data": {
      "text/plain": [
       "6444"
      ]
     },
     "execution_count": 21,
     "metadata": {},
     "output_type": "execute_result"
    }
   ],
   "source": [
    "len(common_genes)"
   ]
  },
  {
   "cell_type": "code",
   "execution_count": 22,
   "id": "f525a698-506a-48e0-9aee-1aca62def5dd",
   "metadata": {
    "execution": {
     "iopub.execute_input": "2022-07-22T04:48:13.104938Z",
     "iopub.status.busy": "2022-07-22T04:48:13.104591Z",
     "iopub.status.idle": "2022-07-22T04:48:13.120642Z",
     "shell.execute_reply": "2022-07-22T04:48:13.120228Z"
    },
    "papermill": {
     "duration": 0.025093,
     "end_time": "2022-07-22T04:48:13.121946",
     "exception": false,
     "start_time": "2022-07-22T04:48:13.096853",
     "status": "completed"
    },
    "tags": []
   },
   "outputs": [
    {
     "data": {
      "text/plain": [
       "['A2M', 'AAAS', 'AANAT', 'AARS', 'AARS2']"
      ]
     },
     "execution_count": 22,
     "metadata": {},
     "output_type": "execute_result"
    }
   ],
   "source": [
    "sorted(list(common_genes))[:5]"
   ]
  },
  {
   "cell_type": "markdown",
   "id": "a5b5092c-a13e-47c4-a92a-480fcc08f3ae",
   "metadata": {
    "papermill": {
     "duration": 0.006906,
     "end_time": "2022-07-22T04:48:13.135983",
     "exception": false,
     "start_time": "2022-07-22T04:48:13.129077",
     "status": "completed"
    },
    "tags": []
   },
   "source": [
    "## Gene info"
   ]
  },
  {
   "cell_type": "code",
   "execution_count": 23,
   "id": "7d6bb224-88e9-4358-ac10-43a41d92cdad",
   "metadata": {
    "execution": {
     "iopub.execute_input": "2022-07-22T04:48:13.151640Z",
     "iopub.status.busy": "2022-07-22T04:48:13.151322Z",
     "iopub.status.idle": "2022-07-22T04:48:13.168855Z",
     "shell.execute_reply": "2022-07-22T04:48:13.168426Z"
    },
    "papermill": {
     "duration": 0.026886,
     "end_time": "2022-07-22T04:48:13.170230",
     "exception": false,
     "start_time": "2022-07-22T04:48:13.143344",
     "status": "completed"
    },
    "tags": []
   },
   "outputs": [],
   "source": [
    "genes_info = pd.read_pickle(INPUT_DIR / \"genes_info.pkl\")"
   ]
  },
  {
   "cell_type": "code",
   "execution_count": 24,
   "id": "9e32abfa-546d-483e-8c18-d526e9e05903",
   "metadata": {
    "execution": {
     "iopub.execute_input": "2022-07-22T04:48:13.185768Z",
     "iopub.status.busy": "2022-07-22T04:48:13.185476Z",
     "iopub.status.idle": "2022-07-22T04:48:13.200679Z",
     "shell.execute_reply": "2022-07-22T04:48:13.200264Z"
    },
    "papermill": {
     "duration": 0.02415,
     "end_time": "2022-07-22T04:48:13.201795",
     "exception": false,
     "start_time": "2022-07-22T04:48:13.177645",
     "status": "completed"
    },
    "tags": []
   },
   "outputs": [
    {
     "data": {
      "text/plain": [
       "(6444, 7)"
      ]
     },
     "execution_count": 24,
     "metadata": {},
     "output_type": "execute_result"
    }
   ],
   "source": [
    "genes_info.shape"
   ]
  },
  {
   "cell_type": "code",
   "execution_count": 25,
   "id": "d16c3e92-85ec-468a-9a56-e25a9774a1cb",
   "metadata": {
    "execution": {
     "iopub.execute_input": "2022-07-22T04:48:13.218399Z",
     "iopub.status.busy": "2022-07-22T04:48:13.217995Z",
     "iopub.status.idle": "2022-07-22T04:48:13.244206Z",
     "shell.execute_reply": "2022-07-22T04:48:13.243713Z"
    },
    "papermill": {
     "duration": 0.036424,
     "end_time": "2022-07-22T04:48:13.245710",
     "exception": false,
     "start_time": "2022-07-22T04:48:13.209286",
     "status": "completed"
    },
    "tags": []
   },
   "outputs": [
    {
     "data": {
      "text/html": [
       "<div>\n",
       "<style scoped>\n",
       "    .dataframe tbody tr th:only-of-type {\n",
       "        vertical-align: middle;\n",
       "    }\n",
       "\n",
       "    .dataframe tbody tr th {\n",
       "        vertical-align: top;\n",
       "    }\n",
       "\n",
       "    .dataframe thead th {\n",
       "        text-align: right;\n",
       "    }\n",
       "</style>\n",
       "<table border=\"1\" class=\"dataframe\">\n",
       "  <thead>\n",
       "    <tr style=\"text-align: right;\">\n",
       "      <th></th>\n",
       "      <th>name</th>\n",
       "      <th>id</th>\n",
       "      <th>chr</th>\n",
       "      <th>band</th>\n",
       "      <th>start_position</th>\n",
       "      <th>end_position</th>\n",
       "      <th>gene_length</th>\n",
       "    </tr>\n",
       "  </thead>\n",
       "  <tbody>\n",
       "    <tr>\n",
       "      <th>0</th>\n",
       "      <td>MFN2</td>\n",
       "      <td>ENSG00000116688</td>\n",
       "      <td>1</td>\n",
       "      <td>1p36.22</td>\n",
       "      <td>11980181.0</td>\n",
       "      <td>12013514.0</td>\n",
       "      <td>33333.0</td>\n",
       "    </tr>\n",
       "    <tr>\n",
       "      <th>1</th>\n",
       "      <td>PPA2</td>\n",
       "      <td>ENSG00000138777</td>\n",
       "      <td>4</td>\n",
       "      <td>4q24</td>\n",
       "      <td>105369077.0</td>\n",
       "      <td>105474067.0</td>\n",
       "      <td>104990.0</td>\n",
       "    </tr>\n",
       "    <tr>\n",
       "      <th>2</th>\n",
       "      <td>ADRA2A</td>\n",
       "      <td>ENSG00000150594</td>\n",
       "      <td>10</td>\n",
       "      <td>10q25.2</td>\n",
       "      <td>111077163.0</td>\n",
       "      <td>111080907.0</td>\n",
       "      <td>3744.0</td>\n",
       "    </tr>\n",
       "    <tr>\n",
       "      <th>3</th>\n",
       "      <td>RYR2</td>\n",
       "      <td>ENSG00000198626</td>\n",
       "      <td>1</td>\n",
       "      <td>1q43</td>\n",
       "      <td>237042184.0</td>\n",
       "      <td>237833988.0</td>\n",
       "      <td>791804.0</td>\n",
       "    </tr>\n",
       "    <tr>\n",
       "      <th>4</th>\n",
       "      <td>VAV2</td>\n",
       "      <td>ENSG00000160293</td>\n",
       "      <td>9</td>\n",
       "      <td>9q34.2</td>\n",
       "      <td>133761894.0</td>\n",
       "      <td>133992604.0</td>\n",
       "      <td>230710.0</td>\n",
       "    </tr>\n",
       "  </tbody>\n",
       "</table>\n",
       "</div>"
      ],
      "text/plain": [
       "     name               id chr     band  start_position  end_position  \\\n",
       "0    MFN2  ENSG00000116688   1  1p36.22      11980181.0    12013514.0   \n",
       "1    PPA2  ENSG00000138777   4     4q24     105369077.0   105474067.0   \n",
       "2  ADRA2A  ENSG00000150594  10  10q25.2     111077163.0   111080907.0   \n",
       "3    RYR2  ENSG00000198626   1     1q43     237042184.0   237833988.0   \n",
       "4    VAV2  ENSG00000160293   9   9q34.2     133761894.0   133992604.0   \n",
       "\n",
       "   gene_length  \n",
       "0      33333.0  \n",
       "1     104990.0  \n",
       "2       3744.0  \n",
       "3     791804.0  \n",
       "4     230710.0  "
      ]
     },
     "execution_count": 25,
     "metadata": {},
     "output_type": "execute_result"
    }
   ],
   "source": [
    "genes_info.head()"
   ]
  },
  {
   "cell_type": "markdown",
   "id": "d3843e06",
   "metadata": {
    "papermill": {
     "duration": 0.008743,
     "end_time": "2022-07-22T04:48:13.263563",
     "exception": false,
     "start_time": "2022-07-22T04:48:13.254820",
     "status": "completed"
    },
    "tags": []
   },
   "source": [
    "# Compute correlations"
   ]
  },
  {
   "cell_type": "code",
   "execution_count": 26,
   "id": "cb859c15-d1f3-4006-a74c-2b83c0db9611",
   "metadata": {
    "execution": {
     "iopub.execute_input": "2022-07-22T04:48:13.281610Z",
     "iopub.status.busy": "2022-07-22T04:48:13.281278Z",
     "iopub.status.idle": "2022-07-22T04:48:13.298693Z",
     "shell.execute_reply": "2022-07-22T04:48:13.298253Z"
    },
    "papermill": {
     "duration": 0.027681,
     "end_time": "2022-07-22T04:48:13.300000",
     "exception": false,
     "start_time": "2022-07-22T04:48:13.272319",
     "status": "completed"
    },
    "tags": []
   },
   "outputs": [
    {
     "data": {
      "text/plain": [
       "PosixPath('/opt/data/results/gls/gene_corrs/cohorts/1000g_eur/1000g/mashr/by_chr/gene_corrs-chr18.pkl')"
      ]
     },
     "metadata": {},
     "output_type": "display_data"
    }
   ],
   "source": [
    "output_dir = OUTPUT_DIR_BASE / \"by_chr\"\n",
    "output_dir.mkdir(exist_ok=True, parents=True)\n",
    "output_file = output_dir / f\"gene_corrs-chr{CHROMOSOME}.pkl\"\n",
    "display(output_file)"
   ]
  },
  {
   "cell_type": "code",
   "execution_count": 27,
   "id": "aa674fe4-6794-4eed-98fa-32b39d1d4ace",
   "metadata": {
    "execution": {
     "iopub.execute_input": "2022-07-22T04:48:13.316978Z",
     "iopub.status.busy": "2022-07-22T04:48:13.316627Z",
     "iopub.status.idle": "2022-07-22T04:48:13.330523Z",
     "shell.execute_reply": "2022-07-22T04:48:13.330101Z"
    },
    "papermill": {
     "duration": 0.023625,
     "end_time": "2022-07-22T04:48:13.331806",
     "exception": false,
     "start_time": "2022-07-22T04:48:13.308181",
     "status": "completed"
    },
    "tags": []
   },
   "outputs": [],
   "source": [
    "warnings.filterwarnings(\"error\")"
   ]
  },
  {
   "cell_type": "code",
   "execution_count": 28,
   "id": "44d5450b-3baf-43f1-9e2e-4b06f1a785f8",
   "metadata": {
    "execution": {
     "iopub.execute_input": "2022-07-22T04:48:13.347916Z",
     "iopub.status.busy": "2022-07-22T04:48:13.347618Z",
     "iopub.status.idle": "2022-07-22T04:48:13.362648Z",
     "shell.execute_reply": "2022-07-22T04:48:13.362115Z"
    },
    "papermill": {
     "duration": 0.024386,
     "end_time": "2022-07-22T04:48:13.363924",
     "exception": false,
     "start_time": "2022-07-22T04:48:13.339538",
     "status": "completed"
    },
    "tags": []
   },
   "outputs": [],
   "source": [
    "# standard checks\n",
    "all_chrs = genes_info[\"chr\"].dropna().unique()\n",
    "assert all_chrs.shape[0] == 22\n",
    "\n",
    "# select chromosome given by the user\n",
    "assert CHROMOSOME in all_chrs"
   ]
  },
  {
   "cell_type": "code",
   "execution_count": 29,
   "id": "2d7c043c-92a7-4d35-991b-fa69ac1e0268",
   "metadata": {
    "execution": {
     "iopub.execute_input": "2022-07-22T04:48:13.380187Z",
     "iopub.status.busy": "2022-07-22T04:48:13.379513Z",
     "iopub.status.idle": "2022-07-22T04:48:13.395359Z",
     "shell.execute_reply": "2022-07-22T04:48:13.394899Z"
    },
    "papermill": {
     "duration": 0.025112,
     "end_time": "2022-07-22T04:48:13.396554",
     "exception": false,
     "start_time": "2022-07-22T04:48:13.371442",
     "status": "completed"
    },
    "tags": []
   },
   "outputs": [
    {
     "name": "stdout",
     "output_type": "stream",
     "text": [
      "Number of genes in chromosome: 96\n"
     ]
    }
   ],
   "source": [
    "# run only on the chromosome specified\n",
    "all_chrs = [CHROMOSOME]\n",
    "genes_chr = genes_info[genes_info[\"chr\"] == CHROMOSOME]\n",
    "\n",
    "# For testing purposes\n",
    "# genes_chr = genes_chr.sample(n=20)\n",
    "\n",
    "print(f\"Number of genes in chromosome: {genes_chr.shape[0]}\", flush=True)"
   ]
  },
  {
   "cell_type": "code",
   "execution_count": 30,
   "id": "916015d8-2979-46d3-a9b9-1cf5a0932c6a",
   "metadata": {
    "execution": {
     "iopub.execute_input": "2022-07-22T04:48:13.413009Z",
     "iopub.status.busy": "2022-07-22T04:48:13.412802Z",
     "iopub.status.idle": "2022-07-22T04:48:13.427427Z",
     "shell.execute_reply": "2022-07-22T04:48:13.426989Z"
    },
    "papermill": {
     "duration": 0.024384,
     "end_time": "2022-07-22T04:48:13.428683",
     "exception": false,
     "start_time": "2022-07-22T04:48:13.404299",
     "status": "completed"
    },
    "tags": []
   },
   "outputs": [],
   "source": [
    "# sort genes by starting position to make visualizations better later\n",
    "genes_chr = genes_chr.sort_values(\"start_position\")"
   ]
  },
  {
   "cell_type": "code",
   "execution_count": 31,
   "id": "a38aa74a-8ad3-47f6-8ef9-56be0e011774",
   "metadata": {
    "execution": {
     "iopub.execute_input": "2022-07-22T04:48:13.445066Z",
     "iopub.status.busy": "2022-07-22T04:48:13.444874Z",
     "iopub.status.idle": "2022-07-22T04:48:13.459543Z",
     "shell.execute_reply": "2022-07-22T04:48:13.459149Z"
    },
    "papermill": {
     "duration": 0.024449,
     "end_time": "2022-07-22T04:48:13.460850",
     "exception": false,
     "start_time": "2022-07-22T04:48:13.436401",
     "status": "completed"
    },
    "tags": []
   },
   "outputs": [],
   "source": [
    "gene_chr_objs = [Gene(ensembl_id=gene_id) for gene_id in genes_chr[\"id\"]]"
   ]
  },
  {
   "cell_type": "code",
   "execution_count": 32,
   "id": "570f974f-13c3-42b6-ad3a-ce99ca885c1a",
   "metadata": {
    "execution": {
     "iopub.execute_input": "2022-07-22T04:48:13.481742Z",
     "iopub.status.busy": "2022-07-22T04:48:13.480426Z",
     "iopub.status.idle": "2022-07-22T04:48:13.497682Z",
     "shell.execute_reply": "2022-07-22T04:48:13.497135Z"
    },
    "papermill": {
     "duration": 0.028182,
     "end_time": "2022-07-22T04:48:13.498814",
     "exception": false,
     "start_time": "2022-07-22T04:48:13.470632",
     "status": "completed"
    },
    "tags": []
   },
   "outputs": [
    {
     "name": "stdout",
     "output_type": "stream",
     "text": [
      "Number of gene combinations: 4560\n"
     ]
    }
   ],
   "source": [
    "n = len(gene_chr_objs)\n",
    "n_comb = int(n * (n - 1) / 2.0)\n",
    "print(f\"Number of gene combinations: {n_comb}\", flush=True)"
   ]
  },
  {
   "cell_type": "code",
   "execution_count": 33,
   "id": "cdbb90a1",
   "metadata": {
    "execution": {
     "iopub.execute_input": "2022-07-22T04:48:13.515321Z",
     "iopub.status.busy": "2022-07-22T04:48:13.515151Z",
     "iopub.status.idle": "2022-07-22T04:49:31.675219Z",
     "shell.execute_reply": "2022-07-22T04:49:31.674789Z"
    },
    "papermill": {
     "duration": 78.169853,
     "end_time": "2022-07-22T04:49:31.676497",
     "exception": false,
     "start_time": "2022-07-22T04:48:13.506644",
     "status": "completed"
    },
    "tags": []
   },
   "outputs": [
    {
     "name": "stderr",
     "output_type": "stream",
     "text": [
      "ENSG00000141759 / ENSG00000178184: 100%|████████████████████████| 4560/4560 [01:18<00:00, 58.36it/s]\n"
     ]
    },
    {
     "data": {
      "text/plain": [
       "PosixPath('/opt/data/results/gls/gene_corrs/cohorts/1000g_eur/1000g/mashr/by_chr/gene_corrs-chr18.pkl')"
      ]
     },
     "metadata": {},
     "output_type": "display_data"
    }
   ],
   "source": [
    "gene_corrs = []\n",
    "\n",
    "i = 0\n",
    "with tqdm(ncols=100, total=n_comb) as pbar:\n",
    "    for gene1_idx in range(0, len(gene_chr_objs) - 1):\n",
    "        gene1_obj = gene_chr_objs[gene1_idx]\n",
    "        gene1_tissues = spredixcan_genes_models.loc[gene1_obj.ensembl_id, \"tissue\"]\n",
    "\n",
    "        for gene2_idx in range(gene1_idx + 1, len(gene_chr_objs)):\n",
    "            gene2_obj = gene_chr_objs[gene2_idx]\n",
    "            gene2_tissues = spredixcan_genes_models.loc[gene2_obj.ensembl_id, \"tissue\"]\n",
    "\n",
    "            pbar.set_description(f\"{gene1_obj.ensembl_id} / {gene2_obj.ensembl_id}\")\n",
    "\n",
    "            try:\n",
    "                r = gene1_obj.get_ssm_correlation(\n",
    "                    other_gene=gene2_obj,\n",
    "                    tissues=gene1_tissues,\n",
    "                    other_tissues=gene2_tissues,\n",
    "                    snps_subset=gwas_variants_ids_set,\n",
    "                    condition_number=SMULTIXCAN_CONDITION_NUMBER,\n",
    "                    reference_panel=REFERENCE_PANEL,\n",
    "                    model_type=EQTL_MODEL,\n",
    "                    use_within_distance=COMPUTE_CORRELATIONS_WITHIN_DISTANCE,\n",
    "                )\n",
    "\n",
    "                if r is None:\n",
    "                    # if r is None, it's very likely because:\n",
    "                    #  * one of the genes has no prediction models\n",
    "                    #  * all the SNPs predictors for the gene are not present in the reference\n",
    "                    #    panel\n",
    "\n",
    "                    r = 0.0\n",
    "\n",
    "                gene_corrs.append(r)\n",
    "            except Warning as e:\n",
    "                if not DEBUG_MODE:\n",
    "                    raise e\n",
    "\n",
    "                print(\n",
    "                    f\"RuntimeWarning for genes {gene1_obj.ensembl_id} and {gene2_obj.ensembl_id}\",\n",
    "                    flush=True,\n",
    "                )\n",
    "                print(traceback.format_exc(), flush=True)\n",
    "\n",
    "                gene_corrs.append(np.nan)\n",
    "            except Exception as e:\n",
    "                if not DEBUG_MODE:\n",
    "                    raise e\n",
    "\n",
    "                print(\n",
    "                    f\"Exception for genes {gene1_obj.ensembl_id} and {gene2_obj.ensembl_id}\",\n",
    "                    flush=True,\n",
    "                )\n",
    "                print(traceback.format_exc(), flush=True)\n",
    "\n",
    "                gene_corrs.append(np.nan)\n",
    "\n",
    "            pbar.update(1)\n",
    "\n",
    "# create a pandas series\n",
    "gene_corrs_flat = pd.Series(gene_corrs)\n",
    "\n",
    "# save\n",
    "# FIXME: consider saving only the condenced matrix here. See here for\n",
    "# more details: https://github.com/greenelab/phenoplier/pull/38#discussion_r634600813\n",
    "gene_corrs_data = squareform(np.array(gene_corrs, dtype=np.float64))\n",
    "np.fill_diagonal(gene_corrs_data, 1.0)\n",
    "\n",
    "gene_chr_ids = [g.ensembl_id for g in gene_chr_objs]\n",
    "gene_corrs_df = pd.DataFrame(\n",
    "    data=gene_corrs_data,\n",
    "    index=gene_chr_ids,\n",
    "    columns=gene_chr_ids,\n",
    ")\n",
    "\n",
    "output_dir.mkdir(exist_ok=True, parents=True)\n",
    "display(output_file)\n",
    "\n",
    "gene_corrs_df.to_pickle(output_file)"
   ]
  },
  {
   "cell_type": "markdown",
   "id": "faa67b51-5373-470f-aa72-2ded53fa6dfe",
   "metadata": {
    "papermill": {
     "duration": 0.201189,
     "end_time": "2022-07-22T04:49:32.052834",
     "exception": false,
     "start_time": "2022-07-22T04:49:31.851645",
     "status": "completed"
    },
    "tags": []
   },
   "source": [
    "# Testing"
   ]
  },
  {
   "cell_type": "code",
   "execution_count": 34,
   "id": "14f7d046-4b55-4896-a56b-990127bcc388",
   "metadata": {
    "execution": {
     "iopub.execute_input": "2022-07-22T04:49:32.427297Z",
     "iopub.status.busy": "2022-07-22T04:49:32.426859Z",
     "iopub.status.idle": "2022-07-22T04:49:32.441857Z",
     "shell.execute_reply": "2022-07-22T04:49:32.441446Z"
    },
    "papermill": {
     "duration": 0.182226,
     "end_time": "2022-07-22T04:49:32.442986",
     "exception": false,
     "start_time": "2022-07-22T04:49:32.260760",
     "status": "completed"
    },
    "tags": []
   },
   "outputs": [
    {
     "data": {
      "text/plain": [
       "(96, 96)"
      ]
     },
     "execution_count": 34,
     "metadata": {},
     "output_type": "execute_result"
    }
   ],
   "source": [
    "gene_corrs_df.shape"
   ]
  },
  {
   "cell_type": "code",
   "execution_count": 35,
   "id": "c7d15414-3297-4537-a7c6-7588c0baeb75",
   "metadata": {
    "execution": {
     "iopub.execute_input": "2022-07-22T04:49:32.778211Z",
     "iopub.status.busy": "2022-07-22T04:49:32.778012Z",
     "iopub.status.idle": "2022-07-22T04:49:32.806193Z",
     "shell.execute_reply": "2022-07-22T04:49:32.805803Z"
    },
    "papermill": {
     "duration": 0.195762,
     "end_time": "2022-07-22T04:49:32.807399",
     "exception": false,
     "start_time": "2022-07-22T04:49:32.611637",
     "status": "completed"
    },
    "tags": []
   },
   "outputs": [
    {
     "data": {
      "text/html": [
       "<div>\n",
       "<style scoped>\n",
       "    .dataframe tbody tr th:only-of-type {\n",
       "        vertical-align: middle;\n",
       "    }\n",
       "\n",
       "    .dataframe tbody tr th {\n",
       "        vertical-align: top;\n",
       "    }\n",
       "\n",
       "    .dataframe thead th {\n",
       "        text-align: right;\n",
       "    }\n",
       "</style>\n",
       "<table border=\"1\" class=\"dataframe\">\n",
       "  <thead>\n",
       "    <tr style=\"text-align: right;\">\n",
       "      <th></th>\n",
       "      <th>ENSG00000079134</th>\n",
       "      <th>ENSG00000158270</th>\n",
       "      <th>ENSG00000176890</th>\n",
       "      <th>ENSG00000176105</th>\n",
       "      <th>ENSG00000080986</th>\n",
       "      <th>ENSG00000132205</th>\n",
       "      <th>ENSG00000101577</th>\n",
       "      <th>ENSG00000101608</th>\n",
       "      <th>ENSG00000118680</th>\n",
       "      <th>ENSG00000177426</th>\n",
       "      <th>...</th>\n",
       "      <th>ENSG00000166347</th>\n",
       "      <th>ENSG00000133313</th>\n",
       "      <th>ENSG00000166573</th>\n",
       "      <th>ENSG00000166377</th>\n",
       "      <th>ENSG00000131196</th>\n",
       "      <th>ENSG00000060069</th>\n",
       "      <th>ENSG00000178342</th>\n",
       "      <th>ENSG00000122490</th>\n",
       "      <th>ENSG00000141759</th>\n",
       "      <th>ENSG00000178184</th>\n",
       "    </tr>\n",
       "  </thead>\n",
       "  <tbody>\n",
       "    <tr>\n",
       "      <th>ENSG00000079134</th>\n",
       "      <td>1.000000</td>\n",
       "      <td>0.027327</td>\n",
       "      <td>0.010986</td>\n",
       "      <td>0.008946</td>\n",
       "      <td>0.012392</td>\n",
       "      <td>0.012360</td>\n",
       "      <td>0.019389</td>\n",
       "      <td>0.015498</td>\n",
       "      <td>0.019813</td>\n",
       "      <td>0.011800</td>\n",
       "      <td>...</td>\n",
       "      <td>0.0</td>\n",
       "      <td>0.0</td>\n",
       "      <td>0.0</td>\n",
       "      <td>0.0</td>\n",
       "      <td>0.0</td>\n",
       "      <td>0.0</td>\n",
       "      <td>0.0</td>\n",
       "      <td>0.0</td>\n",
       "      <td>0.0</td>\n",
       "      <td>0.0</td>\n",
       "    </tr>\n",
       "    <tr>\n",
       "      <th>ENSG00000158270</th>\n",
       "      <td>0.027327</td>\n",
       "      <td>1.000000</td>\n",
       "      <td>0.020645</td>\n",
       "      <td>0.013929</td>\n",
       "      <td>0.012565</td>\n",
       "      <td>0.020533</td>\n",
       "      <td>0.020772</td>\n",
       "      <td>0.016313</td>\n",
       "      <td>0.009782</td>\n",
       "      <td>0.010886</td>\n",
       "      <td>...</td>\n",
       "      <td>0.0</td>\n",
       "      <td>0.0</td>\n",
       "      <td>0.0</td>\n",
       "      <td>0.0</td>\n",
       "      <td>0.0</td>\n",
       "      <td>0.0</td>\n",
       "      <td>0.0</td>\n",
       "      <td>0.0</td>\n",
       "      <td>0.0</td>\n",
       "      <td>0.0</td>\n",
       "    </tr>\n",
       "    <tr>\n",
       "      <th>ENSG00000176890</th>\n",
       "      <td>0.010986</td>\n",
       "      <td>0.020645</td>\n",
       "      <td>1.000000</td>\n",
       "      <td>0.127420</td>\n",
       "      <td>0.017522</td>\n",
       "      <td>0.019661</td>\n",
       "      <td>0.016672</td>\n",
       "      <td>0.012178</td>\n",
       "      <td>0.008710</td>\n",
       "      <td>0.014963</td>\n",
       "      <td>...</td>\n",
       "      <td>0.0</td>\n",
       "      <td>0.0</td>\n",
       "      <td>0.0</td>\n",
       "      <td>0.0</td>\n",
       "      <td>0.0</td>\n",
       "      <td>0.0</td>\n",
       "      <td>0.0</td>\n",
       "      <td>0.0</td>\n",
       "      <td>0.0</td>\n",
       "      <td>0.0</td>\n",
       "    </tr>\n",
       "    <tr>\n",
       "      <th>ENSG00000176105</th>\n",
       "      <td>0.008946</td>\n",
       "      <td>0.013929</td>\n",
       "      <td>0.127420</td>\n",
       "      <td>1.000000</td>\n",
       "      <td>0.006701</td>\n",
       "      <td>0.013199</td>\n",
       "      <td>0.019516</td>\n",
       "      <td>0.007399</td>\n",
       "      <td>0.004687</td>\n",
       "      <td>0.005911</td>\n",
       "      <td>...</td>\n",
       "      <td>0.0</td>\n",
       "      <td>0.0</td>\n",
       "      <td>0.0</td>\n",
       "      <td>0.0</td>\n",
       "      <td>0.0</td>\n",
       "      <td>0.0</td>\n",
       "      <td>0.0</td>\n",
       "      <td>0.0</td>\n",
       "      <td>0.0</td>\n",
       "      <td>0.0</td>\n",
       "    </tr>\n",
       "    <tr>\n",
       "      <th>ENSG00000080986</th>\n",
       "      <td>0.012392</td>\n",
       "      <td>0.012565</td>\n",
       "      <td>0.017522</td>\n",
       "      <td>0.006701</td>\n",
       "      <td>1.000000</td>\n",
       "      <td>0.025655</td>\n",
       "      <td>0.019390</td>\n",
       "      <td>0.008464</td>\n",
       "      <td>0.007467</td>\n",
       "      <td>0.008447</td>\n",
       "      <td>...</td>\n",
       "      <td>0.0</td>\n",
       "      <td>0.0</td>\n",
       "      <td>0.0</td>\n",
       "      <td>0.0</td>\n",
       "      <td>0.0</td>\n",
       "      <td>0.0</td>\n",
       "      <td>0.0</td>\n",
       "      <td>0.0</td>\n",
       "      <td>0.0</td>\n",
       "      <td>0.0</td>\n",
       "    </tr>\n",
       "  </tbody>\n",
       "</table>\n",
       "<p>5 rows × 96 columns</p>\n",
       "</div>"
      ],
      "text/plain": [
       "                 ENSG00000079134  ENSG00000158270  ENSG00000176890  \\\n",
       "ENSG00000079134         1.000000         0.027327         0.010986   \n",
       "ENSG00000158270         0.027327         1.000000         0.020645   \n",
       "ENSG00000176890         0.010986         0.020645         1.000000   \n",
       "ENSG00000176105         0.008946         0.013929         0.127420   \n",
       "ENSG00000080986         0.012392         0.012565         0.017522   \n",
       "\n",
       "                 ENSG00000176105  ENSG00000080986  ENSG00000132205  \\\n",
       "ENSG00000079134         0.008946         0.012392         0.012360   \n",
       "ENSG00000158270         0.013929         0.012565         0.020533   \n",
       "ENSG00000176890         0.127420         0.017522         0.019661   \n",
       "ENSG00000176105         1.000000         0.006701         0.013199   \n",
       "ENSG00000080986         0.006701         1.000000         0.025655   \n",
       "\n",
       "                 ENSG00000101577  ENSG00000101608  ENSG00000118680  \\\n",
       "ENSG00000079134         0.019389         0.015498         0.019813   \n",
       "ENSG00000158270         0.020772         0.016313         0.009782   \n",
       "ENSG00000176890         0.016672         0.012178         0.008710   \n",
       "ENSG00000176105         0.019516         0.007399         0.004687   \n",
       "ENSG00000080986         0.019390         0.008464         0.007467   \n",
       "\n",
       "                 ENSG00000177426  ...  ENSG00000166347  ENSG00000133313  \\\n",
       "ENSG00000079134         0.011800  ...              0.0              0.0   \n",
       "ENSG00000158270         0.010886  ...              0.0              0.0   \n",
       "ENSG00000176890         0.014963  ...              0.0              0.0   \n",
       "ENSG00000176105         0.005911  ...              0.0              0.0   \n",
       "ENSG00000080986         0.008447  ...              0.0              0.0   \n",
       "\n",
       "                 ENSG00000166573  ENSG00000166377  ENSG00000131196  \\\n",
       "ENSG00000079134              0.0              0.0              0.0   \n",
       "ENSG00000158270              0.0              0.0              0.0   \n",
       "ENSG00000176890              0.0              0.0              0.0   \n",
       "ENSG00000176105              0.0              0.0              0.0   \n",
       "ENSG00000080986              0.0              0.0              0.0   \n",
       "\n",
       "                 ENSG00000060069  ENSG00000178342  ENSG00000122490  \\\n",
       "ENSG00000079134              0.0              0.0              0.0   \n",
       "ENSG00000158270              0.0              0.0              0.0   \n",
       "ENSG00000176890              0.0              0.0              0.0   \n",
       "ENSG00000176105              0.0              0.0              0.0   \n",
       "ENSG00000080986              0.0              0.0              0.0   \n",
       "\n",
       "                 ENSG00000141759  ENSG00000178184  \n",
       "ENSG00000079134              0.0              0.0  \n",
       "ENSG00000158270              0.0              0.0  \n",
       "ENSG00000176890              0.0              0.0  \n",
       "ENSG00000176105              0.0              0.0  \n",
       "ENSG00000080986              0.0              0.0  \n",
       "\n",
       "[5 rows x 96 columns]"
      ]
     },
     "execution_count": 35,
     "metadata": {},
     "output_type": "execute_result"
    }
   ],
   "source": [
    "gene_corrs_df.head()"
   ]
  },
  {
   "cell_type": "markdown",
   "id": "dad6603f-01c6-41fb-a6f6-241051207dd8",
   "metadata": {
    "papermill": {
     "duration": 0.182118,
     "end_time": "2022-07-22T04:49:33.187444",
     "exception": false,
     "start_time": "2022-07-22T04:49:33.005326",
     "status": "completed"
    },
    "tags": []
   },
   "source": [
    "## Standard checks and stats"
   ]
  },
  {
   "cell_type": "code",
   "execution_count": 36,
   "id": "286686af-1b7b-4440-8453-6bdcbd8de19c",
   "metadata": {
    "execution": {
     "iopub.execute_input": "2022-07-22T04:49:33.524062Z",
     "iopub.status.busy": "2022-07-22T04:49:33.523856Z",
     "iopub.status.idle": "2022-07-22T04:49:33.539345Z",
     "shell.execute_reply": "2022-07-22T04:49:33.538919Z"
    },
    "papermill": {
     "duration": 0.187447,
     "end_time": "2022-07-22T04:49:33.540653",
     "exception": false,
     "start_time": "2022-07-22T04:49:33.353206",
     "status": "completed"
    },
    "tags": []
   },
   "outputs": [],
   "source": [
    "assert not gene_corrs_df.isna().any().any()"
   ]
  },
  {
   "cell_type": "code",
   "execution_count": 37,
   "id": "00583efc-7068-4270-ad1e-4a418e91db96",
   "metadata": {
    "execution": {
     "iopub.execute_input": "2022-07-22T04:49:33.906428Z",
     "iopub.status.busy": "2022-07-22T04:49:33.906264Z",
     "iopub.status.idle": "2022-07-22T04:49:33.927085Z",
     "shell.execute_reply": "2022-07-22T04:49:33.926506Z"
    },
    "papermill": {
     "duration": 0.191129,
     "end_time": "2022-07-22T04:49:33.928239",
     "exception": false,
     "start_time": "2022-07-22T04:49:33.737110",
     "status": "completed"
    },
    "tags": []
   },
   "outputs": [
    {
     "data": {
      "text/plain": [
       "0.0"
      ]
     },
     "metadata": {},
     "output_type": "display_data"
    }
   ],
   "source": [
    "_min_val = gene_corrs_df.min().min()\n",
    "display(_min_val)\n",
    "assert _min_val >= 0.0"
   ]
  },
  {
   "cell_type": "code",
   "execution_count": 38,
   "id": "d04fb2cf-1050-475b-b855-f5f7cc04092b",
   "metadata": {
    "execution": {
     "iopub.execute_input": "2022-07-22T04:49:34.293897Z",
     "iopub.status.busy": "2022-07-22T04:49:34.293734Z",
     "iopub.status.idle": "2022-07-22T04:49:34.310480Z",
     "shell.execute_reply": "2022-07-22T04:49:34.309978Z"
    },
    "papermill": {
     "duration": 0.21138,
     "end_time": "2022-07-22T04:49:34.311751",
     "exception": false,
     "start_time": "2022-07-22T04:49:34.100371",
     "status": "completed"
    },
    "tags": []
   },
   "outputs": [
    {
     "data": {
      "text/plain": [
       "1.0"
      ]
     },
     "metadata": {},
     "output_type": "display_data"
    }
   ],
   "source": [
    "_max_val = gene_corrs_df.max().max()  # this captures the diagonal\n",
    "display(_max_val)\n",
    "assert _max_val <= 1.0"
   ]
  },
  {
   "cell_type": "code",
   "execution_count": 39,
   "id": "96d02c44-1fba-47be-8a93-8f2608420b9c",
   "metadata": {
    "execution": {
     "iopub.execute_input": "2022-07-22T04:49:34.724082Z",
     "iopub.status.busy": "2022-07-22T04:49:34.723873Z",
     "iopub.status.idle": "2022-07-22T04:49:34.739163Z",
     "shell.execute_reply": "2022-07-22T04:49:34.738744Z"
    },
    "papermill": {
     "duration": 0.214051,
     "end_time": "2022-07-22T04:49:34.740480",
     "exception": false,
     "start_time": "2022-07-22T04:49:34.526429",
     "status": "completed"
    },
    "tags": []
   },
   "outputs": [],
   "source": [
    "# check upper triangular values\n",
    "assert len(gene_corrs) == int(genes_chr.shape[0] * (genes_chr.shape[0] - 1) / 2)"
   ]
  },
  {
   "cell_type": "code",
   "execution_count": 40,
   "id": "fe283586-c348-40e0-8841-f6d97bfb021c",
   "metadata": {
    "execution": {
     "iopub.execute_input": "2022-07-22T04:49:35.077286Z",
     "iopub.status.busy": "2022-07-22T04:49:35.077077Z",
     "iopub.status.idle": "2022-07-22T04:49:35.095546Z",
     "shell.execute_reply": "2022-07-22T04:49:35.095127Z"
    },
    "papermill": {
     "duration": 0.186435,
     "end_time": "2022-07-22T04:49:35.096763",
     "exception": false,
     "start_time": "2022-07-22T04:49:34.910328",
     "status": "completed"
    },
    "tags": []
   },
   "outputs": [
    {
     "data": {
      "text/plain": [
       "count    4560.000000\n",
       "mean        0.003069\n",
       "std         0.023126\n",
       "min         0.000000\n",
       "25%         0.000000\n",
       "50%         0.000000\n",
       "75%         0.000000\n",
       "max         0.703521\n",
       "dtype: float64"
      ]
     },
     "execution_count": 40,
     "metadata": {},
     "output_type": "execute_result"
    }
   ],
   "source": [
    "gene_corrs_flat.describe()"
   ]
  },
  {
   "cell_type": "code",
   "execution_count": 41,
   "id": "b3815678-0f93-4b35-897b-a9d047a2aa78",
   "metadata": {
    "execution": {
     "iopub.execute_input": "2022-07-22T04:49:35.437331Z",
     "iopub.status.busy": "2022-07-22T04:49:35.437123Z",
     "iopub.status.idle": "2022-07-22T04:49:35.454555Z",
     "shell.execute_reply": "2022-07-22T04:49:35.454094Z"
    },
    "papermill": {
     "duration": 0.185911,
     "end_time": "2022-07-22T04:49:35.455788",
     "exception": false,
     "start_time": "2022-07-22T04:49:35.269877",
     "status": "completed"
    },
    "tags": []
   },
   "outputs": [
    {
     "data": {
      "text/plain": [
       "0.00    0.000000\n",
       "0.05    0.000000\n",
       "0.10    0.000000\n",
       "0.15    0.000000\n",
       "0.20    0.000000\n",
       "0.25    0.000000\n",
       "0.30    0.000000\n",
       "0.35    0.000000\n",
       "0.40    0.000000\n",
       "0.45    0.000000\n",
       "0.50    0.000000\n",
       "0.55    0.000000\n",
       "0.60    0.000000\n",
       "0.65    0.000000\n",
       "0.70    0.000000\n",
       "0.75    0.000000\n",
       "0.80    0.000000\n",
       "0.85    0.000000\n",
       "0.90    0.006456\n",
       "0.95    0.012293\n",
       "dtype: float64"
      ]
     },
     "metadata": {},
     "output_type": "display_data"
    }
   ],
   "source": [
    "gene_corrs_quantiles = gene_corrs_flat.quantile(np.arange(0, 1, 0.05))\n",
    "display(gene_corrs_quantiles)"
   ]
  },
  {
   "cell_type": "markdown",
   "id": "87134509-b145-4a10-8bc9-b7e914c2b0fa",
   "metadata": {
    "papermill": {
     "duration": 0.172481,
     "end_time": "2022-07-22T04:49:35.820848",
     "exception": false,
     "start_time": "2022-07-22T04:49:35.648367",
     "status": "completed"
    },
    "tags": []
   },
   "source": [
    "## Positive definiteness"
   ]
  },
  {
   "cell_type": "code",
   "execution_count": 42,
   "id": "07d9a9a1-a4f7-48aa-b916-6d42a8cc6186",
   "metadata": {
    "execution": {
     "iopub.execute_input": "2022-07-22T04:49:36.157672Z",
     "iopub.status.busy": "2022-07-22T04:49:36.157502Z",
     "iopub.status.idle": "2022-07-22T04:49:36.180565Z",
     "shell.execute_reply": "2022-07-22T04:49:36.179370Z"
    },
    "papermill": {
     "duration": 0.193216,
     "end_time": "2022-07-22T04:49:36.182029",
     "exception": false,
     "start_time": "2022-07-22T04:49:35.988813",
     "status": "completed"
    },
    "tags": []
   },
   "outputs": [
    {
     "data": {
      "text/plain": [
       "0"
      ]
     },
     "metadata": {},
     "output_type": "display_data"
    },
    {
     "data": {
      "text/plain": [
       "array([], dtype=float64)"
      ]
     },
     "metadata": {},
     "output_type": "display_data"
    }
   ],
   "source": [
    "# print negative eigenvalues\n",
    "eigs = np.linalg.eigvals(gene_corrs_df.to_numpy())\n",
    "display(len(eigs[eigs < 0]))\n",
    "display(eigs[eigs < 0])"
   ]
  },
  {
   "cell_type": "code",
   "execution_count": 43,
   "id": "6e218436-c3c5-4028-8c94-a4fa6260efce",
   "metadata": {
    "execution": {
     "iopub.execute_input": "2022-07-22T04:49:36.562252Z",
     "iopub.status.busy": "2022-07-22T04:49:36.562088Z",
     "iopub.status.idle": "2022-07-22T04:49:36.577672Z",
     "shell.execute_reply": "2022-07-22T04:49:36.577299Z"
    },
    "papermill": {
     "duration": 0.189428,
     "end_time": "2022-07-22T04:49:36.578815",
     "exception": false,
     "start_time": "2022-07-22T04:49:36.389387",
     "status": "completed"
    },
    "tags": []
   },
   "outputs": [
    {
     "name": "stdout",
     "output_type": "stream",
     "text": [
      "Works!\n"
     ]
    }
   ],
   "source": [
    "try:\n",
    "    chol_mat = np.linalg.cholesky(gene_corrs_df.to_numpy())\n",
    "    cov_inv = np.linalg.inv(chol_mat)\n",
    "    print(\"Works!\")\n",
    "except:\n",
    "    print(\"Cholesky decomposition failed\")"
   ]
  },
  {
   "cell_type": "markdown",
   "id": "8e60a080-edb2-4e9c-b2ef-22961693200c",
   "metadata": {
    "papermill": {
     "duration": 0.177726,
     "end_time": "2022-07-22T04:49:36.928348",
     "exception": false,
     "start_time": "2022-07-22T04:49:36.750622",
     "status": "completed"
    },
    "tags": []
   },
   "source": [
    "## Plot: distribution"
   ]
  },
  {
   "cell_type": "code",
   "execution_count": 44,
   "id": "8301126b-a7d4-4744-9c7d-f0f86eb6f54c",
   "metadata": {
    "execution": {
     "iopub.execute_input": "2022-07-22T04:49:37.295006Z",
     "iopub.status.busy": "2022-07-22T04:49:37.294837Z",
     "iopub.status.idle": "2022-07-22T04:49:37.546591Z",
     "shell.execute_reply": "2022-07-22T04:49:37.546162Z"
    },
    "papermill": {
     "duration": 0.446936,
     "end_time": "2022-07-22T04:49:37.547772",
     "exception": false,
     "start_time": "2022-07-22T04:49:37.100836",
     "status": "completed"
    },
    "tags": []
   },
   "outputs": [
    {
     "data": {
      "image/png": "[encoded data removed]",
      "text/plain": [
       "<Figure size 504x504 with 1 Axes>"
      ]
     },
     "metadata": {
      "needs_background": "light"
     },
     "output_type": "display_data"
    }
   ],
   "source": [
    "with sns.plotting_context(\"paper\", font_scale=1.5):\n",
    "    g = sns.displot(gene_corrs_flat, kde=True, height=7)\n",
    "    g.ax.set_title(\n",
    "        f\"Distribution of gene correlation values in chromosome {CHROMOSOME}\"\n",
    "    )"
   ]
  },
  {
   "cell_type": "markdown",
   "id": "cbd52bca-d878-4a2f-b684-5c83aa3038d4",
   "metadata": {
    "papermill": {
     "duration": 0.164673,
     "end_time": "2022-07-22T04:49:37.887993",
     "exception": false,
     "start_time": "2022-07-22T04:49:37.723320",
     "status": "completed"
    },
    "tags": []
   },
   "source": [
    "## Plot: heatmap"
   ]
  },
  {
   "cell_type": "code",
   "execution_count": 45,
   "id": "d03fe63a-c7b2-4fb9-a53c-db362ce843c9",
   "metadata": {
    "execution": {
     "iopub.execute_input": "2022-07-22T04:49:38.216261Z",
     "iopub.status.busy": "2022-07-22T04:49:38.216098Z",
     "iopub.status.idle": "2022-07-22T04:49:38.233275Z",
     "shell.execute_reply": "2022-07-22T04:49:38.232907Z"
    },
    "papermill": {
     "duration": 0.182007,
     "end_time": "2022-07-22T04:49:38.234527",
     "exception": false,
     "start_time": "2022-07-22T04:49:38.052520",
     "status": "completed"
    },
    "tags": []
   },
   "outputs": [
    {
     "data": {
      "text/plain": [
       "'0.0 / 0.05'"
      ]
     },
     "metadata": {},
     "output_type": "display_data"
    }
   ],
   "source": [
    "vmin_val = min(0.00, gene_corrs_quantiles[0.10])\n",
    "vmax_val = max(0.05, gene_corrs_quantiles[0.90])\n",
    "display(f\"{vmin_val} / {vmax_val}\")"
   ]
  },
  {
   "cell_type": "code",
   "execution_count": 46,
   "id": "dc41b70b-5bcc-4d9e-9f33-a22c4a94dab5",
   "metadata": {
    "execution": {
     "iopub.execute_input": "2022-07-22T04:49:38.590296Z",
     "iopub.status.busy": "2022-07-22T04:49:38.590134Z",
     "iopub.status.idle": "2022-07-22T04:49:39.158294Z",
     "shell.execute_reply": "2022-07-22T04:49:39.157910Z"
    },
    "papermill": {
     "duration": 0.73448,
     "end_time": "2022-07-22T04:49:39.159543",
     "exception": false,
     "start_time": "2022-07-22T04:49:38.425063",
     "status": "completed"
    },
    "tags": []
   },
   "outputs": [
    {
     "data": {
      "text/plain": [
       "Text(0.5, 1.0, 'Gene correlations in chromosome 18')"
      ]
     },
     "execution_count": 46,
     "metadata": {},
     "output_type": "execute_result"
    },
    {
     "data": {
      "image/png": "[encoded data removed]",
      "text/plain": [
       "<Figure size 720x720 with 2 Axes>"
      ]
     },
     "metadata": {
      "needs_background": "light"
     },
     "output_type": "display_data"
    }
   ],
   "source": [
    "f, ax = plt.subplots(figsize=(10, 10))\n",
    "sns.heatmap(\n",
    "    gene_corrs_df,\n",
    "    xticklabels=False,\n",
    "    yticklabels=False,\n",
    "    square=True,\n",
    "    vmin=vmin_val,\n",
    "    vmax=vmax_val,\n",
    "    cmap=\"rocket_r\",\n",
    "    ax=ax,\n",
    ")\n",
    "ax.set_title(f\"Gene correlations in chromosome {CHROMOSOME}\")"
   ]
  },
  {
   "cell_type": "code",
   "execution_count": null,
   "id": "b25e3ead",
   "metadata": {
    "papermill": {
     "duration": 0.212553,
     "end_time": "2022-07-22T04:49:39.536633",
     "exception": false,
     "start_time": "2022-07-22T04:49:39.324080",
     "status": "completed"
    },
    "tags": []
   },
   "outputs": [],
   "source": []
  }
 ],
 "metadata": {
  "jupytext": {
   "cell_metadata_filter": "all,-execution,-papermill,-trusted",
   "formats": "ipynb,py//py:percent"
  },
  "kernelspec": {
   "display_name": "Python 3 (ipykernel)",
   "language": "python",
   "name": "python3"
  },
  "language_info": {
   "codemirror_mode": {
    "name": "ipython",
    "version": 3
   },
   "file_extension": ".py",
   "mimetype": "text/x-python",
   "name": "python",
   "nbconvert_exporter": "python",
   "pygments_lexer": "ipython3",
   "version": "3.8.13"
  },
  "papermill": {
   "default_parameters": {},
   "duration": 96.50318,
   "end_time": "2022-07-22T04:49:43.008066",
   "environment_variables": {},
   "exception": null,
   "input_path": "nbs/15_gsa_gls/10-gene_expr_correlations.ipynb",
   "output_path": "nbs/15_gsa_gls/gene_corrs/cohorts/1000g_eur/1000g/mashr/10-gene_expr_correlations-chr18.run.ipynb",
   "parameters": {
    "CHROMOSOME": 18,
    "COHORT_NAME": "1000G_EUR",
    "EQTL_MODEL": "MASHR",
    "REFERENCE_PANEL": "1000G"
   },
   "start_time": "2022-07-22T04:48:06.504886",
   "version": "2.2.2"
  }
 },
 "nbformat": 4,
 "nbformat_minor": 5
}
