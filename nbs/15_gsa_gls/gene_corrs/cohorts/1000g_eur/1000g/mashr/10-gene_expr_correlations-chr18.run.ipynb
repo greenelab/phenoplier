{
 "cells": [
  {
   "cell_type": "markdown",
   "id": "7a6632fb",
   "metadata": {
    "papermill": {
     "duration": 0.006194,
     "end_time": "2022-08-08T21:42:38.300098",
     "exception": false,
     "start_time": "2022-08-08T21:42:38.293904",
     "status": "completed"
    },
    "tags": []
   },
   "source": [
    "# Description"
   ]
  },
  {
   "cell_type": "markdown",
   "id": "7097c346",
   "metadata": {
    "papermill": {
     "duration": 0.005427,
     "end_time": "2022-08-08T21:42:38.311204",
     "exception": false,
     "start_time": "2022-08-08T21:42:38.305777",
     "status": "completed"
    },
    "tags": []
   },
   "source": [
    "(Please, take a look at the README.md file in this directory for instructions on how to run this notebook)\n",
    "\n",
    "This notebook computes predicted expression correlations between all genes in the MultiPLIER models.\n",
    "\n",
    "It also has a parameter set for papermill to run on a single chromosome to run in parallel (see under `Settings` below).\n",
    "\n",
    "This notebook is not directly run. See README.md."
   ]
  },
  {
   "cell_type": "markdown",
   "id": "c61d8427",
   "metadata": {
    "papermill": {
     "duration": 0.005264,
     "end_time": "2022-08-08T21:42:38.321772",
     "exception": false,
     "start_time": "2022-08-08T21:42:38.316508",
     "status": "completed"
    },
    "tags": []
   },
   "source": [
    "# Modules"
   ]
  },
  {
   "cell_type": "code",
   "execution_count": 1,
   "id": "bbc0234f",
   "metadata": {
    "execution": {
     "iopub.execute_input": "2022-08-08T21:42:38.333850Z",
     "iopub.status.busy": "2022-08-08T21:42:38.333592Z",
     "iopub.status.idle": "2022-08-08T21:42:38.348218Z",
     "shell.execute_reply": "2022-08-08T21:42:38.347771Z"
    },
    "papermill": {
     "duration": 0.022173,
     "end_time": "2022-08-08T21:42:38.349558",
     "exception": false,
     "start_time": "2022-08-08T21:42:38.327385",
     "status": "completed"
    },
    "tags": []
   },
   "outputs": [],
   "source": [
    "%load_ext autoreload\n",
    "%autoreload 2"
   ]
  },
  {
   "cell_type": "code",
   "execution_count": 2,
   "id": "1d5f5a59",
   "metadata": {
    "execution": {
     "iopub.execute_input": "2022-08-08T21:42:38.361976Z",
     "iopub.status.busy": "2022-08-08T21:42:38.361673Z",
     "iopub.status.idle": "2022-08-08T21:42:39.266068Z",
     "shell.execute_reply": "2022-08-08T21:42:39.265569Z"
    },
    "papermill": {
     "duration": 0.912284,
     "end_time": "2022-08-08T21:42:39.267362",
     "exception": false,
     "start_time": "2022-08-08T21:42:38.355078",
     "status": "completed"
    },
    "tags": []
   },
   "outputs": [],
   "source": [
    "from random import sample, seed\n",
    "import warnings\n",
    "from pathlib import Path\n",
    "import pickle\n",
    "import traceback\n",
    "\n",
    "import numpy as np\n",
    "from scipy.spatial.distance import squareform\n",
    "import pandas as pd\n",
    "from tqdm import tqdm\n",
    "import matplotlib.pyplot as plt\n",
    "import seaborn as sns\n",
    "\n",
    "import conf\n",
    "from entity import Gene"
   ]
  },
  {
   "cell_type": "markdown",
   "id": "1eac24b5",
   "metadata": {
    "papermill": {
     "duration": 0.006137,
     "end_time": "2022-08-08T21:42:39.306095",
     "exception": false,
     "start_time": "2022-08-08T21:42:39.299958",
     "status": "completed"
    },
    "tags": []
   },
   "source": [
    "# Settings"
   ]
  },
  {
   "cell_type": "code",
   "execution_count": 3,
   "id": "ca4560ba",
   "metadata": {
    "execution": {
     "iopub.execute_input": "2022-08-08T21:42:39.318702Z",
     "iopub.status.busy": "2022-08-08T21:42:39.318482Z",
     "iopub.status.idle": "2022-08-08T21:42:39.333414Z",
     "shell.execute_reply": "2022-08-08T21:42:39.332980Z"
    },
    "papermill": {
     "duration": 0.022607,
     "end_time": "2022-08-08T21:42:39.334700",
     "exception": false,
     "start_time": "2022-08-08T21:42:39.312093",
     "status": "completed"
    },
    "tags": [
     "parameters"
    ]
   },
   "outputs": [],
   "source": [
    "# a cohort name (it could be something like UK_BIOBANK, etc)\n",
    "COHORT_NAME = None\n",
    "\n",
    "# reference panel such as 1000G or GTEX_V8\n",
    "REFERENCE_PANEL = None\n",
    "\n",
    "# predictions models such as MASHR or ELASTIC_NET\n",
    "EQTL_MODEL = None\n",
    "\n",
    "# this is the default value used in S-MultiXcan to select the\n",
    "# top principal components of the expression correlation matrix\n",
    "SMULTIXCAN_CONDITION_NUMBER = 30\n",
    "\n",
    "# specifies a single chromosome value\n",
    "CHROMOSOME = None\n",
    "\n",
    "# If True, computes the correlation between closeby genes only;\n",
    "# otherwise, it computes correlations for all genes in a chromosome\n",
    "COMPUTE_CORRELATIONS_WITHIN_DISTANCE = False\n",
    "\n",
    "# if True, then it will continue if a gene pair correlation fails,\n",
    "# printing the warning/error for debugging. If False, any warning/error\n",
    "# will be thrown\n",
    "DEBUG_MODE = False"
   ]
  },
  {
   "cell_type": "code",
   "execution_count": 4,
   "id": "de93279a",
   "metadata": {
    "execution": {
     "iopub.execute_input": "2022-08-08T21:42:39.346353Z",
     "iopub.status.busy": "2022-08-08T21:42:39.346040Z",
     "iopub.status.idle": "2022-08-08T21:42:39.359854Z",
     "shell.execute_reply": "2022-08-08T21:42:39.359450Z"
    },
    "papermill": {
     "duration": 0.020859,
     "end_time": "2022-08-08T21:42:39.361107",
     "exception": false,
     "start_time": "2022-08-08T21:42:39.340248",
     "status": "completed"
    },
    "tags": [
     "injected-parameters"
    ]
   },
   "outputs": [],
   "source": [
    "# Parameters\n",
    "COHORT_NAME = \"1000G_EUR\"\n",
    "REFERENCE_PANEL = \"1000G\"\n",
    "EQTL_MODEL = \"MASHR\"\n",
    "CHROMOSOME = 18\n"
   ]
  },
  {
   "cell_type": "code",
   "execution_count": 5,
   "id": "3190631f-27fc-480f-b18e-571d580425a5",
   "metadata": {
    "execution": {
     "iopub.execute_input": "2022-08-08T21:42:39.373713Z",
     "iopub.status.busy": "2022-08-08T21:42:39.373346Z",
     "iopub.status.idle": "2022-08-08T21:42:39.388735Z",
     "shell.execute_reply": "2022-08-08T21:42:39.388333Z"
    },
    "papermill": {
     "duration": 0.022804,
     "end_time": "2022-08-08T21:42:39.390086",
     "exception": false,
     "start_time": "2022-08-08T21:42:39.367282",
     "status": "completed"
    },
    "tags": []
   },
   "outputs": [
    {
     "data": {
      "text/plain": [
       "'Cohort name: 1000g_eur'"
      ]
     },
     "metadata": {},
     "output_type": "display_data"
    }
   ],
   "source": [
    "assert COHORT_NAME is not None and len(COHORT_NAME) > 0, \"A cohort name must be given\"\n",
    "\n",
    "COHORT_NAME = COHORT_NAME.lower()\n",
    "display(f\"Cohort name: {COHORT_NAME}\")"
   ]
  },
  {
   "cell_type": "code",
   "execution_count": 6,
   "id": "f53ba19b-0f93-4fa2-a047-63b375939d1a",
   "metadata": {
    "execution": {
     "iopub.execute_input": "2022-08-08T21:42:39.402421Z",
     "iopub.status.busy": "2022-08-08T21:42:39.402162Z",
     "iopub.status.idle": "2022-08-08T21:42:39.417221Z",
     "shell.execute_reply": "2022-08-08T21:42:39.416767Z"
    },
    "papermill": {
     "duration": 0.022794,
     "end_time": "2022-08-08T21:42:39.418423",
     "exception": false,
     "start_time": "2022-08-08T21:42:39.395629",
     "status": "completed"
    },
    "tags": []
   },
   "outputs": [
    {
     "data": {
      "text/plain": [
       "'Reference panel: 1000G'"
      ]
     },
     "metadata": {},
     "output_type": "display_data"
    }
   ],
   "source": [
    "assert (\n",
    "    REFERENCE_PANEL is not None and len(REFERENCE_PANEL) > 0\n",
    "), \"A reference panel must be given\"\n",
    "\n",
    "display(f\"Reference panel: {REFERENCE_PANEL}\")"
   ]
  },
  {
   "cell_type": "code",
   "execution_count": 7,
   "id": "e024d130-c139-429a-9c6e-ccf149e297b0",
   "metadata": {
    "execution": {
     "iopub.execute_input": "2022-08-08T21:42:39.430409Z",
     "iopub.status.busy": "2022-08-08T21:42:39.430177Z",
     "iopub.status.idle": "2022-08-08T21:42:39.445983Z",
     "shell.execute_reply": "2022-08-08T21:42:39.445570Z"
    },
    "papermill": {
     "duration": 0.023035,
     "end_time": "2022-08-08T21:42:39.447133",
     "exception": false,
     "start_time": "2022-08-08T21:42:39.424098",
     "status": "completed"
    },
    "tags": []
   },
   "outputs": [
    {
     "data": {
      "text/plain": [
       "'eQTL model: MASHR) / mashr_'"
      ]
     },
     "metadata": {},
     "output_type": "display_data"
    }
   ],
   "source": [
    "assert (\n",
    "    EQTL_MODEL is not None and len(EQTL_MODEL) > 0\n",
    "), \"A prediction/eQTL model must be given\"\n",
    "\n",
    "EQTL_MODEL_FILES_PREFIX = conf.PHENOMEXCAN[\"PREDICTION_MODELS\"][f\"{EQTL_MODEL}_PREFIX\"]\n",
    "display(f\"eQTL model: {EQTL_MODEL}) / {EQTL_MODEL_FILES_PREFIX}\")"
   ]
  },
  {
   "cell_type": "code",
   "execution_count": 8,
   "id": "552a7f63-a18c-4d3e-bb6a-94f99b431291",
   "metadata": {
    "execution": {
     "iopub.execute_input": "2022-08-08T21:42:39.459205Z",
     "iopub.status.busy": "2022-08-08T21:42:39.458889Z",
     "iopub.status.idle": "2022-08-08T21:42:39.473379Z",
     "shell.execute_reply": "2022-08-08T21:42:39.472933Z"
    },
    "papermill": {
     "duration": 0.021707,
     "end_time": "2022-08-08T21:42:39.474528",
     "exception": false,
     "start_time": "2022-08-08T21:42:39.452821",
     "status": "completed"
    },
    "tags": []
   },
   "outputs": [
    {
     "data": {
      "text/plain": [
       "'S-MultiXcan condition number: 30'"
      ]
     },
     "metadata": {},
     "output_type": "display_data"
    }
   ],
   "source": [
    "assert (\n",
    "    SMULTIXCAN_CONDITION_NUMBER is not None and SMULTIXCAN_CONDITION_NUMBER > 0\n",
    "), \"The S-MultiXcan condition number (positive integer) must be given\"\n",
    "\n",
    "display(f\"S-MultiXcan condition number: {SMULTIXCAN_CONDITION_NUMBER}\")"
   ]
  },
  {
   "cell_type": "code",
   "execution_count": 9,
   "id": "f34a336f-548e-4afe-8955-90eaea4f42c6",
   "metadata": {
    "execution": {
     "iopub.execute_input": "2022-08-08T21:42:39.487827Z",
     "iopub.status.busy": "2022-08-08T21:42:39.487481Z",
     "iopub.status.idle": "2022-08-08T21:42:39.506091Z",
     "shell.execute_reply": "2022-08-08T21:42:39.505693Z"
    },
    "papermill": {
     "duration": 0.027005,
     "end_time": "2022-08-08T21:42:39.507239",
     "exception": false,
     "start_time": "2022-08-08T21:42:39.480234",
     "status": "completed"
    },
    "tags": []
   },
   "outputs": [
    {
     "data": {
      "text/plain": [
       "'Working on chromosome 18'"
      ]
     },
     "metadata": {},
     "output_type": "display_data"
    }
   ],
   "source": [
    "assert CHROMOSOME is not None and (\n",
    "    1 <= CHROMOSOME <= 22\n",
    "), \"You have to select one chromosome (format: number between 1 and 22)\"\n",
    "\n",
    "# CHROMOSOME = str(CHROMOSOME)\n",
    "display(f\"Working on chromosome {CHROMOSOME}\")"
   ]
  },
  {
   "cell_type": "code",
   "execution_count": 10,
   "id": "ab8e96e8-06b5-4363-9dcd-dc4d78cc27f7",
   "metadata": {
    "execution": {
     "iopub.execute_input": "2022-08-08T21:42:39.520116Z",
     "iopub.status.busy": "2022-08-08T21:42:39.519753Z",
     "iopub.status.idle": "2022-08-08T21:42:39.536145Z",
     "shell.execute_reply": "2022-08-08T21:42:39.535664Z"
    },
    "papermill": {
     "duration": 0.02399,
     "end_time": "2022-08-08T21:42:39.537357",
     "exception": false,
     "start_time": "2022-08-08T21:42:39.513367",
     "status": "completed"
    },
    "tags": []
   },
   "outputs": [
    {
     "data": {
      "text/plain": [
       "'Compute correlation within distance False'"
      ]
     },
     "metadata": {},
     "output_type": "display_data"
    }
   ],
   "source": [
    "display(f\"Compute correlation within distance {COMPUTE_CORRELATIONS_WITHIN_DISTANCE}\")"
   ]
  },
  {
   "cell_type": "code",
   "execution_count": 11,
   "id": "396392dc-0340-4540-9b02-e182b833f909",
   "metadata": {
    "execution": {
     "iopub.execute_input": "2022-08-08T21:42:39.550626Z",
     "iopub.status.busy": "2022-08-08T21:42:39.550160Z",
     "iopub.status.idle": "2022-08-08T21:42:39.569856Z",
     "shell.execute_reply": "2022-08-08T21:42:39.569359Z"
    },
    "papermill": {
     "duration": 0.028124,
     "end_time": "2022-08-08T21:42:39.571609",
     "exception": false,
     "start_time": "2022-08-08T21:42:39.543485",
     "status": "completed"
    },
    "tags": []
   },
   "outputs": [
    {
     "data": {
      "text/plain": [
       "'Using output dir base: /opt/data/results/gls/gene_corrs/cohorts/1000g_eur/1000g/mashr'"
      ]
     },
     "metadata": {},
     "output_type": "display_data"
    }
   ],
   "source": [
    "OUTPUT_DIR_BASE = (\n",
    "    conf.RESULTS[\"GLS\"]\n",
    "    / \"gene_corrs\"\n",
    "    / \"cohorts\"\n",
    "    / COHORT_NAME\n",
    "    / REFERENCE_PANEL.lower()\n",
    "    / EQTL_MODEL.lower()\n",
    ")\n",
    "OUTPUT_DIR_BASE.mkdir(parents=True, exist_ok=True)\n",
    "\n",
    "display(f\"Using output dir base: {OUTPUT_DIR_BASE}\")"
   ]
  },
  {
   "cell_type": "markdown",
   "id": "d2ba085e",
   "metadata": {
    "papermill": {
     "duration": 0.006094,
     "end_time": "2022-08-08T21:42:39.585382",
     "exception": false,
     "start_time": "2022-08-08T21:42:39.579288",
     "status": "completed"
    },
    "tags": []
   },
   "source": [
    "# Load data"
   ]
  },
  {
   "cell_type": "markdown",
   "id": "7dcb8db7",
   "metadata": {
    "papermill": {
     "duration": 0.00809,
     "end_time": "2022-08-08T21:42:39.600141",
     "exception": false,
     "start_time": "2022-08-08T21:42:39.592051",
     "status": "completed"
    },
    "tags": []
   },
   "source": [
    "## GWAS variants"
   ]
  },
  {
   "cell_type": "code",
   "execution_count": 12,
   "id": "29434c4e-8cd3-4b9b-82e4-b5a251d9dd19",
   "metadata": {
    "execution": {
     "iopub.execute_input": "2022-08-08T21:42:39.615679Z",
     "iopub.status.busy": "2022-08-08T21:42:39.615482Z",
     "iopub.status.idle": "2022-08-08T21:42:42.181102Z",
     "shell.execute_reply": "2022-08-08T21:42:42.180578Z"
    },
    "papermill": {
     "duration": 2.574806,
     "end_time": "2022-08-08T21:42:42.182615",
     "exception": false,
     "start_time": "2022-08-08T21:42:39.607809",
     "status": "completed"
    },
    "tags": []
   },
   "outputs": [],
   "source": [
    "with open(OUTPUT_DIR_BASE / \"gwas_variant_ids.pkl\", \"rb\") as handle:\n",
    "    gwas_variants_ids_set = pickle.load(handle)"
   ]
  },
  {
   "cell_type": "code",
   "execution_count": 13,
   "id": "b9d9dec2-4a76-4bf9-bde2-e24c95acb8a0",
   "metadata": {
    "execution": {
     "iopub.execute_input": "2022-08-08T21:42:42.198174Z",
     "iopub.status.busy": "2022-08-08T21:42:42.197814Z",
     "iopub.status.idle": "2022-08-08T21:42:42.214578Z",
     "shell.execute_reply": "2022-08-08T21:42:42.214157Z"
    },
    "papermill": {
     "duration": 0.025746,
     "end_time": "2022-08-08T21:42:42.215832",
     "exception": false,
     "start_time": "2022-08-08T21:42:42.190086",
     "status": "completed"
    },
    "tags": []
   },
   "outputs": [
    {
     "data": {
      "text/plain": [
       "8325729"
      ]
     },
     "execution_count": 13,
     "metadata": {},
     "output_type": "execute_result"
    }
   ],
   "source": [
    "len(gwas_variants_ids_set)"
   ]
  },
  {
   "cell_type": "code",
   "execution_count": 14,
   "id": "4235b06a-6034-4ee4-a0a3-2ae35d122418",
   "metadata": {
    "execution": {
     "iopub.execute_input": "2022-08-08T21:42:42.230146Z",
     "iopub.status.busy": "2022-08-08T21:42:42.229984Z",
     "iopub.status.idle": "2022-08-08T21:42:42.735634Z",
     "shell.execute_reply": "2022-08-08T21:42:42.734967Z"
    },
    "papermill": {
     "duration": 0.514802,
     "end_time": "2022-08-08T21:42:42.737087",
     "exception": false,
     "start_time": "2022-08-08T21:42:42.222285",
     "status": "completed"
    },
    "tags": []
   },
   "outputs": [
    {
     "data": {
      "text/plain": [
       "['chr4_8040134_G_A_b38',\n",
       " 'chr3_60946962_T_C_b38',\n",
       " 'chr20_37404490_C_T_b38',\n",
       " 'chr11_112556644_C_T_b38',\n",
       " 'chr1_83079233_T_A_b38']"
      ]
     },
     "execution_count": 14,
     "metadata": {},
     "output_type": "execute_result"
    }
   ],
   "source": [
    "list(gwas_variants_ids_set)[:5]"
   ]
  },
  {
   "cell_type": "markdown",
   "id": "07866999-2305-41f9-a144-e69c9122c212",
   "metadata": {
    "papermill": {
     "duration": 0.007211,
     "end_time": "2022-08-08T21:42:42.751986",
     "exception": false,
     "start_time": "2022-08-08T21:42:42.744775",
     "status": "completed"
    },
    "tags": []
   },
   "source": [
    "## S-PrediXcan tissue models"
   ]
  },
  {
   "cell_type": "code",
   "execution_count": 15,
   "id": "780611d9-77c8-405f-90a4-f271f7b09397",
   "metadata": {
    "execution": {
     "iopub.execute_input": "2022-08-08T21:42:42.767527Z",
     "iopub.status.busy": "2022-08-08T21:42:42.767295Z",
     "iopub.status.idle": "2022-08-08T21:42:43.568449Z",
     "shell.execute_reply": "2022-08-08T21:42:43.568036Z"
    },
    "papermill": {
     "duration": 0.817398,
     "end_time": "2022-08-08T21:42:43.576795",
     "exception": false,
     "start_time": "2022-08-08T21:42:42.759397",
     "status": "completed"
    },
    "tags": []
   },
   "outputs": [],
   "source": [
    "spredixcan_genes_models = pd.read_pickle(OUTPUT_DIR_BASE / \"gene_tissues.pkl\")"
   ]
  },
  {
   "cell_type": "code",
   "execution_count": 16,
   "id": "726dd1f6-9557-4225-91fa-b3b879ea96e1",
   "metadata": {
    "execution": {
     "iopub.execute_input": "2022-08-08T21:42:43.604262Z",
     "iopub.status.busy": "2022-08-08T21:42:43.603819Z",
     "iopub.status.idle": "2022-08-08T21:42:43.623401Z",
     "shell.execute_reply": "2022-08-08T21:42:43.622870Z"
    },
    "papermill": {
     "duration": 0.032074,
     "end_time": "2022-08-08T21:42:43.625109",
     "exception": false,
     "start_time": "2022-08-08T21:42:43.593035",
     "status": "completed"
    },
    "tags": []
   },
   "outputs": [
    {
     "data": {
      "text/plain": [
       "(6442, 10)"
      ]
     },
     "execution_count": 16,
     "metadata": {},
     "output_type": "execute_result"
    }
   ],
   "source": [
    "spredixcan_genes_models.shape"
   ]
  },
  {
   "cell_type": "code",
   "execution_count": 17,
   "id": "944a1b48-222c-4eb0-b252-b9de2cbca215",
   "metadata": {
    "execution": {
     "iopub.execute_input": "2022-08-08T21:42:43.641078Z",
     "iopub.status.busy": "2022-08-08T21:42:43.640756Z",
     "iopub.status.idle": "2022-08-08T21:42:43.672114Z",
     "shell.execute_reply": "2022-08-08T21:42:43.671703Z"
    },
    "papermill": {
     "duration": 0.040474,
     "end_time": "2022-08-08T21:42:43.673362",
     "exception": false,
     "start_time": "2022-08-08T21:42:43.632888",
     "status": "completed"
    },
    "tags": []
   },
   "outputs": [
    {
     "data": {
      "text/html": [
       "<div>\n",
       "<style scoped>\n",
       "    .dataframe tbody tr th:only-of-type {\n",
       "        vertical-align: middle;\n",
       "    }\n",
       "\n",
       "    .dataframe tbody tr th {\n",
       "        vertical-align: top;\n",
       "    }\n",
       "\n",
       "    .dataframe thead th {\n",
       "        text-align: right;\n",
       "    }\n",
       "</style>\n",
       "<table border=\"1\" class=\"dataframe\">\n",
       "  <thead>\n",
       "    <tr style=\"text-align: right;\">\n",
       "      <th></th>\n",
       "      <th>gene_name</th>\n",
       "      <th>tissue</th>\n",
       "      <th>n_tissues</th>\n",
       "      <th>tissues_pc_variances</th>\n",
       "      <th>tissues_pc_variances_cov</th>\n",
       "      <th>tissues_variances</th>\n",
       "      <th>n_snps_used_sum</th>\n",
       "      <th>n_snps_in_model_sum</th>\n",
       "      <th>unique_n_snps_in_model</th>\n",
       "      <th>unique_n_snps_used</th>\n",
       "    </tr>\n",
       "    <tr>\n",
       "      <th>gene_id</th>\n",
       "      <th></th>\n",
       "      <th></th>\n",
       "      <th></th>\n",
       "      <th></th>\n",
       "      <th></th>\n",
       "      <th></th>\n",
       "      <th></th>\n",
       "      <th></th>\n",
       "      <th></th>\n",
       "      <th></th>\n",
       "    </tr>\n",
       "  </thead>\n",
       "  <tbody>\n",
       "    <tr>\n",
       "      <th>ENSG00000000419</th>\n",
       "      <td>DPM1</td>\n",
       "      <td>(Brain_Substantia_nigra, Brain_Hypothalamus)</td>\n",
       "      <td>2</td>\n",
       "      <td>[1.0372585612589562, 0.9627414387410438]</td>\n",
       "      <td>[0.008284978865240098, 0.0007326748393412591]</td>\n",
       "      <td>{'Brain_Hypothalamus': 0.0082838613770255, 'Br...</td>\n",
       "      <td>2</td>\n",
       "      <td>2</td>\n",
       "      <td>2</td>\n",
       "      <td>2</td>\n",
       "    </tr>\n",
       "    <tr>\n",
       "      <th>ENSG00000000938</th>\n",
       "      <td>FGR</td>\n",
       "      <td>(Nerve_Tibial, Artery_Aorta, Pituitary, Muscle...</td>\n",
       "      <td>36</td>\n",
       "      <td>[30.57880701512373, 2.0297326456001104, 1.4017...</td>\n",
       "      <td>[0.22478471249969328, 0.008813873813031791]</td>\n",
       "      <td>{'Adipose_Visceral_Omentum': 0.001932839939705...</td>\n",
       "      <td>40</td>\n",
       "      <td>40</td>\n",
       "      <td>5</td>\n",
       "      <td>5</td>\n",
       "    </tr>\n",
       "    <tr>\n",
       "      <th>ENSG00000000971</th>\n",
       "      <td>CFH</td>\n",
       "      <td>(Nerve_Tibial, Artery_Aorta, Pituitary, Brain_...</td>\n",
       "      <td>34</td>\n",
       "      <td>[20.772608276639335, 8.177158142324833, 1.8646...</td>\n",
       "      <td>[0.1969953427958011, 0.05731825316349161, 0.02...</td>\n",
       "      <td>{'Uterus': 0.00888478850189283, 'Brain_Putamen...</td>\n",
       "      <td>44</td>\n",
       "      <td>44</td>\n",
       "      <td>12</td>\n",
       "      <td>12</td>\n",
       "    </tr>\n",
       "    <tr>\n",
       "      <th>ENSG00000001084</th>\n",
       "      <td>GCLC</td>\n",
       "      <td>(Nerve_Tibial, Artery_Aorta, Pituitary, Muscle...</td>\n",
       "      <td>32</td>\n",
       "      <td>[20.976449940269102, 4.772354749306767, 2.2362...</td>\n",
       "      <td>[0.3657809638925394, 0.1264541371042455, 0.016...</td>\n",
       "      <td>{'Brain_Putamen_basal_ganglia': 0.022230612685...</td>\n",
       "      <td>46</td>\n",
       "      <td>46</td>\n",
       "      <td>23</td>\n",
       "      <td>23</td>\n",
       "    </tr>\n",
       "    <tr>\n",
       "      <th>ENSG00000001167</th>\n",
       "      <td>NFYA</td>\n",
       "      <td>(Nerve_Tibial, Artery_Aorta, Muscle_Skeletal, ...</td>\n",
       "      <td>40</td>\n",
       "      <td>[37.638369782404986]</td>\n",
       "      <td>[1.4787144508923984, 0.049690618387739166]</td>\n",
       "      <td>{'Adipose_Visceral_Omentum': 0.037274400234795...</td>\n",
       "      <td>47</td>\n",
       "      <td>48</td>\n",
       "      <td>14</td>\n",
       "      <td>13</td>\n",
       "    </tr>\n",
       "  </tbody>\n",
       "</table>\n",
       "</div>"
      ],
      "text/plain": [
       "                gene_name                                             tissue  \\\n",
       "gene_id                                                                        \n",
       "ENSG00000000419      DPM1       (Brain_Substantia_nigra, Brain_Hypothalamus)   \n",
       "ENSG00000000938       FGR  (Nerve_Tibial, Artery_Aorta, Pituitary, Muscle...   \n",
       "ENSG00000000971       CFH  (Nerve_Tibial, Artery_Aorta, Pituitary, Brain_...   \n",
       "ENSG00000001084      GCLC  (Nerve_Tibial, Artery_Aorta, Pituitary, Muscle...   \n",
       "ENSG00000001167      NFYA  (Nerve_Tibial, Artery_Aorta, Muscle_Skeletal, ...   \n",
       "\n",
       "                 n_tissues                               tissues_pc_variances  \\\n",
       "gene_id                                                                         \n",
       "ENSG00000000419          2           [1.0372585612589562, 0.9627414387410438]   \n",
       "ENSG00000000938         36  [30.57880701512373, 2.0297326456001104, 1.4017...   \n",
       "ENSG00000000971         34  [20.772608276639335, 8.177158142324833, 1.8646...   \n",
       "ENSG00000001084         32  [20.976449940269102, 4.772354749306767, 2.2362...   \n",
       "ENSG00000001167         40                               [37.638369782404986]   \n",
       "\n",
       "                                          tissues_pc_variances_cov  \\\n",
       "gene_id                                                              \n",
       "ENSG00000000419      [0.008284978865240098, 0.0007326748393412591]   \n",
       "ENSG00000000938        [0.22478471249969328, 0.008813873813031791]   \n",
       "ENSG00000000971  [0.1969953427958011, 0.05731825316349161, 0.02...   \n",
       "ENSG00000001084  [0.3657809638925394, 0.1264541371042455, 0.016...   \n",
       "ENSG00000001167         [1.4787144508923984, 0.049690618387739166]   \n",
       "\n",
       "                                                 tissues_variances  \\\n",
       "gene_id                                                              \n",
       "ENSG00000000419  {'Brain_Hypothalamus': 0.0082838613770255, 'Br...   \n",
       "ENSG00000000938  {'Adipose_Visceral_Omentum': 0.001932839939705...   \n",
       "ENSG00000000971  {'Uterus': 0.00888478850189283, 'Brain_Putamen...   \n",
       "ENSG00000001084  {'Brain_Putamen_basal_ganglia': 0.022230612685...   \n",
       "ENSG00000001167  {'Adipose_Visceral_Omentum': 0.037274400234795...   \n",
       "\n",
       "                 n_snps_used_sum  n_snps_in_model_sum  unique_n_snps_in_model  \\\n",
       "gene_id                                                                         \n",
       "ENSG00000000419                2                    2                       2   \n",
       "ENSG00000000938               40                   40                       5   \n",
       "ENSG00000000971               44                   44                      12   \n",
       "ENSG00000001084               46                   46                      23   \n",
       "ENSG00000001167               47                   48                      14   \n",
       "\n",
       "                 unique_n_snps_used  \n",
       "gene_id                              \n",
       "ENSG00000000419                   2  \n",
       "ENSG00000000938                   5  \n",
       "ENSG00000000971                  12  \n",
       "ENSG00000001084                  23  \n",
       "ENSG00000001167                  13  "
      ]
     },
     "execution_count": 17,
     "metadata": {},
     "output_type": "execute_result"
    }
   ],
   "source": [
    "spredixcan_genes_models.head()"
   ]
  },
  {
   "cell_type": "code",
   "execution_count": 18,
   "id": "d1c11bb1-be0b-4f40-b360-633d6827109f",
   "metadata": {
    "execution": {
     "iopub.execute_input": "2022-08-08T21:42:43.687531Z",
     "iopub.status.busy": "2022-08-08T21:42:43.687242Z",
     "iopub.status.idle": "2022-08-08T21:42:43.701821Z",
     "shell.execute_reply": "2022-08-08T21:42:43.701409Z"
    },
    "papermill": {
     "duration": 0.022932,
     "end_time": "2022-08-08T21:42:43.703172",
     "exception": false,
     "start_time": "2022-08-08T21:42:43.680240",
     "status": "completed"
    },
    "tags": []
   },
   "outputs": [],
   "source": [
    "assert spredixcan_genes_models.index.is_unique"
   ]
  },
  {
   "cell_type": "markdown",
   "id": "a5b5092c-a13e-47c4-a92a-480fcc08f3ae",
   "metadata": {
    "papermill": {
     "duration": 0.00636,
     "end_time": "2022-08-08T21:42:43.716208",
     "exception": false,
     "start_time": "2022-08-08T21:42:43.709848",
     "status": "completed"
    },
    "tags": []
   },
   "source": [
    "## Gene info"
   ]
  },
  {
   "cell_type": "code",
   "execution_count": 19,
   "id": "7d6bb224-88e9-4358-ac10-43a41d92cdad",
   "metadata": {
    "execution": {
     "iopub.execute_input": "2022-08-08T21:42:43.730522Z",
     "iopub.status.busy": "2022-08-08T21:42:43.730324Z",
     "iopub.status.idle": "2022-08-08T21:42:43.746786Z",
     "shell.execute_reply": "2022-08-08T21:42:43.746358Z"
    },
    "papermill": {
     "duration": 0.025065,
     "end_time": "2022-08-08T21:42:43.748121",
     "exception": false,
     "start_time": "2022-08-08T21:42:43.723056",
     "status": "completed"
    },
    "tags": []
   },
   "outputs": [],
   "source": [
    "genes_info = pd.read_pickle(OUTPUT_DIR_BASE / \"genes_info.pkl\")"
   ]
  },
  {
   "cell_type": "code",
   "execution_count": 20,
   "id": "9e32abfa-546d-483e-8c18-d526e9e05903",
   "metadata": {
    "execution": {
     "iopub.execute_input": "2022-08-08T21:42:43.763321Z",
     "iopub.status.busy": "2022-08-08T21:42:43.763098Z",
     "iopub.status.idle": "2022-08-08T21:42:43.777716Z",
     "shell.execute_reply": "2022-08-08T21:42:43.777288Z"
    },
    "papermill": {
     "duration": 0.023119,
     "end_time": "2022-08-08T21:42:43.778911",
     "exception": false,
     "start_time": "2022-08-08T21:42:43.755792",
     "status": "completed"
    },
    "tags": []
   },
   "outputs": [
    {
     "data": {
      "text/plain": [
       "(6442, 7)"
      ]
     },
     "execution_count": 20,
     "metadata": {},
     "output_type": "execute_result"
    }
   ],
   "source": [
    "genes_info.shape"
   ]
  },
  {
   "cell_type": "code",
   "execution_count": 21,
   "id": "d16c3e92-85ec-468a-9a56-e25a9774a1cb",
   "metadata": {
    "execution": {
     "iopub.execute_input": "2022-08-08T21:42:43.794151Z",
     "iopub.status.busy": "2022-08-08T21:42:43.793956Z",
     "iopub.status.idle": "2022-08-08T21:42:43.812868Z",
     "shell.execute_reply": "2022-08-08T21:42:43.812444Z"
    },
    "papermill": {
     "duration": 0.028185,
     "end_time": "2022-08-08T21:42:43.814161",
     "exception": false,
     "start_time": "2022-08-08T21:42:43.785976",
     "status": "completed"
    },
    "tags": []
   },
   "outputs": [
    {
     "data": {
      "text/html": [
       "<div>\n",
       "<style scoped>\n",
       "    .dataframe tbody tr th:only-of-type {\n",
       "        vertical-align: middle;\n",
       "    }\n",
       "\n",
       "    .dataframe tbody tr th {\n",
       "        vertical-align: top;\n",
       "    }\n",
       "\n",
       "    .dataframe thead th {\n",
       "        text-align: right;\n",
       "    }\n",
       "</style>\n",
       "<table border=\"1\" class=\"dataframe\">\n",
       "  <thead>\n",
       "    <tr style=\"text-align: right;\">\n",
       "      <th></th>\n",
       "      <th>name</th>\n",
       "      <th>id</th>\n",
       "      <th>chr</th>\n",
       "      <th>band</th>\n",
       "      <th>start_position</th>\n",
       "      <th>end_position</th>\n",
       "      <th>gene_length</th>\n",
       "    </tr>\n",
       "  </thead>\n",
       "  <tbody>\n",
       "    <tr>\n",
       "      <th>0</th>\n",
       "      <td>CTSF</td>\n",
       "      <td>ENSG00000174080</td>\n",
       "      <td>11</td>\n",
       "      <td>11q13.2</td>\n",
       "      <td>66563464</td>\n",
       "      <td>66568841</td>\n",
       "      <td>5377</td>\n",
       "    </tr>\n",
       "    <tr>\n",
       "      <th>1</th>\n",
       "      <td>GUCY2D</td>\n",
       "      <td>ENSG00000132518</td>\n",
       "      <td>17</td>\n",
       "      <td>17p13.1</td>\n",
       "      <td>8002594</td>\n",
       "      <td>8020339</td>\n",
       "      <td>17745</td>\n",
       "    </tr>\n",
       "    <tr>\n",
       "      <th>2</th>\n",
       "      <td>NDUFB8</td>\n",
       "      <td>ENSG00000166136</td>\n",
       "      <td>10</td>\n",
       "      <td>10q24.31</td>\n",
       "      <td>100523740</td>\n",
       "      <td>100530000</td>\n",
       "      <td>6260</td>\n",
       "    </tr>\n",
       "    <tr>\n",
       "      <th>3</th>\n",
       "      <td>KIF5B</td>\n",
       "      <td>ENSG00000170759</td>\n",
       "      <td>10</td>\n",
       "      <td>10p11.22</td>\n",
       "      <td>32009015</td>\n",
       "      <td>32056425</td>\n",
       "      <td>47410</td>\n",
       "    </tr>\n",
       "    <tr>\n",
       "      <th>4</th>\n",
       "      <td>SAE1</td>\n",
       "      <td>ENSG00000142230</td>\n",
       "      <td>19</td>\n",
       "      <td>19q13.32</td>\n",
       "      <td>47113274</td>\n",
       "      <td>47210636</td>\n",
       "      <td>97362</td>\n",
       "    </tr>\n",
       "  </tbody>\n",
       "</table>\n",
       "</div>"
      ],
      "text/plain": [
       "     name               id  chr      band  start_position  end_position  \\\n",
       "0    CTSF  ENSG00000174080   11   11q13.2        66563464      66568841   \n",
       "1  GUCY2D  ENSG00000132518   17   17p13.1         8002594       8020339   \n",
       "2  NDUFB8  ENSG00000166136   10  10q24.31       100523740     100530000   \n",
       "3   KIF5B  ENSG00000170759   10  10p11.22        32009015      32056425   \n",
       "4    SAE1  ENSG00000142230   19  19q13.32        47113274      47210636   \n",
       "\n",
       "   gene_length  \n",
       "0         5377  \n",
       "1        17745  \n",
       "2         6260  \n",
       "3        47410  \n",
       "4        97362  "
      ]
     },
     "execution_count": 21,
     "metadata": {},
     "output_type": "execute_result"
    }
   ],
   "source": [
    "genes_info.head()"
   ]
  },
  {
   "cell_type": "markdown",
   "id": "d3843e06",
   "metadata": {
    "papermill": {
     "duration": 0.006924,
     "end_time": "2022-08-08T21:42:43.828334",
     "exception": false,
     "start_time": "2022-08-08T21:42:43.821410",
     "status": "completed"
    },
    "tags": []
   },
   "source": [
    "# Compute correlations"
   ]
  },
  {
   "cell_type": "code",
   "execution_count": 22,
   "id": "cb859c15-d1f3-4006-a74c-2b83c0db9611",
   "metadata": {
    "execution": {
     "iopub.execute_input": "2022-08-08T21:42:43.843369Z",
     "iopub.status.busy": "2022-08-08T21:42:43.843148Z",
     "iopub.status.idle": "2022-08-08T21:42:43.858623Z",
     "shell.execute_reply": "2022-08-08T21:42:43.858206Z"
    },
    "papermill": {
     "duration": 0.024297,
     "end_time": "2022-08-08T21:42:43.859935",
     "exception": false,
     "start_time": "2022-08-08T21:42:43.835638",
     "status": "completed"
    },
    "tags": []
   },
   "outputs": [
    {
     "data": {
      "text/plain": [
       "PosixPath('/opt/data/results/gls/gene_corrs/cohorts/1000g_eur/1000g/mashr/by_chr/gene_corrs-chr18.pkl')"
      ]
     },
     "metadata": {},
     "output_type": "display_data"
    }
   ],
   "source": [
    "output_dir = OUTPUT_DIR_BASE / \"by_chr\"\n",
    "output_dir.mkdir(exist_ok=True, parents=True)\n",
    "output_file = output_dir / f\"gene_corrs-chr{CHROMOSOME}.pkl\"\n",
    "display(output_file)"
   ]
  },
  {
   "cell_type": "code",
   "execution_count": 23,
   "id": "aa674fe4-6794-4eed-98fa-32b39d1d4ace",
   "metadata": {
    "execution": {
     "iopub.execute_input": "2022-08-08T21:42:43.875373Z",
     "iopub.status.busy": "2022-08-08T21:42:43.874886Z",
     "iopub.status.idle": "2022-08-08T21:42:43.889295Z",
     "shell.execute_reply": "2022-08-08T21:42:43.888843Z"
    },
    "papermill": {
     "duration": 0.023245,
     "end_time": "2022-08-08T21:42:43.890591",
     "exception": false,
     "start_time": "2022-08-08T21:42:43.867346",
     "status": "completed"
    },
    "tags": []
   },
   "outputs": [],
   "source": [
    "warnings.filterwarnings(\"error\")"
   ]
  },
  {
   "cell_type": "code",
   "execution_count": 24,
   "id": "44d5450b-3baf-43f1-9e2e-4b06f1a785f8",
   "metadata": {
    "execution": {
     "iopub.execute_input": "2022-08-08T21:42:43.905791Z",
     "iopub.status.busy": "2022-08-08T21:42:43.905500Z",
     "iopub.status.idle": "2022-08-08T21:42:43.920044Z",
     "shell.execute_reply": "2022-08-08T21:42:43.919606Z"
    },
    "papermill": {
     "duration": 0.023393,
     "end_time": "2022-08-08T21:42:43.921287",
     "exception": false,
     "start_time": "2022-08-08T21:42:43.897894",
     "status": "completed"
    },
    "tags": []
   },
   "outputs": [],
   "source": [
    "# standard checks\n",
    "all_chrs = genes_info[\"chr\"].dropna().unique()\n",
    "assert all_chrs.shape[0] == 22\n",
    "\n",
    "# select chromosome given by the user\n",
    "assert CHROMOSOME in all_chrs"
   ]
  },
  {
   "cell_type": "code",
   "execution_count": 25,
   "id": "2d7c043c-92a7-4d35-991b-fa69ac1e0268",
   "metadata": {
    "execution": {
     "iopub.execute_input": "2022-08-08T21:42:43.936251Z",
     "iopub.status.busy": "2022-08-08T21:42:43.935912Z",
     "iopub.status.idle": "2022-08-08T21:42:43.968313Z",
     "shell.execute_reply": "2022-08-08T21:42:43.967878Z"
    },
    "papermill": {
     "duration": 0.04111,
     "end_time": "2022-08-08T21:42:43.969472",
     "exception": false,
     "start_time": "2022-08-08T21:42:43.928362",
     "status": "completed"
    },
    "tags": []
   },
   "outputs": [
    {
     "name": "stdout",
     "output_type": "stream",
     "text": [
      "Number of genes in chromosome: 96\n"
     ]
    }
   ],
   "source": [
    "# run only on the chromosome specified\n",
    "all_chrs = [CHROMOSOME]\n",
    "genes_chr = genes_info[genes_info[\"chr\"] == CHROMOSOME]\n",
    "\n",
    "# For testing purposes\n",
    "# genes_chr = genes_chr.sample(n=20)\n",
    "\n",
    "print(f\"Number of genes in chromosome: {genes_chr.shape[0]}\", flush=True)"
   ]
  },
  {
   "cell_type": "code",
   "execution_count": 26,
   "id": "916015d8-2979-46d3-a9b9-1cf5a0932c6a",
   "metadata": {
    "execution": {
     "iopub.execute_input": "2022-08-08T21:42:43.984959Z",
     "iopub.status.busy": "2022-08-08T21:42:43.984433Z",
     "iopub.status.idle": "2022-08-08T21:42:44.000640Z",
     "shell.execute_reply": "2022-08-08T21:42:44.000210Z"
    },
    "papermill": {
     "duration": 0.025077,
     "end_time": "2022-08-08T21:42:44.001886",
     "exception": false,
     "start_time": "2022-08-08T21:42:43.976809",
     "status": "completed"
    },
    "tags": []
   },
   "outputs": [],
   "source": [
    "# sort genes by starting position to make visualizations better later\n",
    "genes_chr = genes_chr.sort_values(\"start_position\")"
   ]
  },
  {
   "cell_type": "code",
   "execution_count": 27,
   "id": "a38aa74a-8ad3-47f6-8ef9-56be0e011774",
   "metadata": {
    "execution": {
     "iopub.execute_input": "2022-08-08T21:42:44.016679Z",
     "iopub.status.busy": "2022-08-08T21:42:44.016379Z",
     "iopub.status.idle": "2022-08-08T21:42:44.030786Z",
     "shell.execute_reply": "2022-08-08T21:42:44.030279Z"
    },
    "papermill": {
     "duration": 0.023284,
     "end_time": "2022-08-08T21:42:44.032264",
     "exception": false,
     "start_time": "2022-08-08T21:42:44.008980",
     "status": "completed"
    },
    "tags": []
   },
   "outputs": [],
   "source": [
    "gene_chr_objs = [Gene(ensembl_id=gene_id) for gene_id in genes_chr[\"id\"]]"
   ]
  },
  {
   "cell_type": "code",
   "execution_count": 28,
   "id": "570f974f-13c3-42b6-ad3a-ce99ca885c1a",
   "metadata": {
    "execution": {
     "iopub.execute_input": "2022-08-08T21:42:44.047158Z",
     "iopub.status.busy": "2022-08-08T21:42:44.046971Z",
     "iopub.status.idle": "2022-08-08T21:42:44.061934Z",
     "shell.execute_reply": "2022-08-08T21:42:44.061517Z"
    },
    "papermill": {
     "duration": 0.02375,
     "end_time": "2022-08-08T21:42:44.063108",
     "exception": false,
     "start_time": "2022-08-08T21:42:44.039358",
     "status": "completed"
    },
    "tags": []
   },
   "outputs": [
    {
     "name": "stdout",
     "output_type": "stream",
     "text": [
      "Number of gene combinations: 4560\n"
     ]
    }
   ],
   "source": [
    "n = len(gene_chr_objs)\n",
    "n_comb = int(n * (n - 1) / 2.0)\n",
    "print(f\"Number of gene combinations: {n_comb}\", flush=True)"
   ]
  },
  {
   "cell_type": "code",
   "execution_count": 29,
   "id": "cdbb90a1",
   "metadata": {
    "execution": {
     "iopub.execute_input": "2022-08-08T21:42:44.078748Z",
     "iopub.status.busy": "2022-08-08T21:42:44.078397Z",
     "iopub.status.idle": "2022-08-08T21:49:06.873739Z",
     "shell.execute_reply": "2022-08-08T21:49:06.873351Z"
    },
    "papermill": {
     "duration": 382.804395,
     "end_time": "2022-08-08T21:49:06.874877",
     "exception": false,
     "start_time": "2022-08-08T21:42:44.070482",
     "status": "completed"
    },
    "tags": []
   },
   "outputs": [
    {
     "name": "stderr",
     "output_type": "stream",
     "text": [
      "ENSG00000141759 / ENSG00000178184: 100%|████████████████████████| 4560/4560 [06:22<00:00, 11.91it/s]\n"
     ]
    },
    {
     "data": {
      "text/plain": [
       "PosixPath('/opt/data/results/gls/gene_corrs/cohorts/1000g_eur/1000g/mashr/by_chr/gene_corrs-chr18.pkl')"
      ]
     },
     "metadata": {},
     "output_type": "display_data"
    }
   ],
   "source": [
    "gene_corrs = []\n",
    "\n",
    "i = 0\n",
    "with tqdm(ncols=100, total=n_comb) as pbar:\n",
    "    for gene1_idx in range(0, len(gene_chr_objs) - 1):\n",
    "        gene1_obj = gene_chr_objs[gene1_idx]\n",
    "        gene1_tissues = spredixcan_genes_models.loc[gene1_obj.ensembl_id, \"tissue\"]\n",
    "\n",
    "        for gene2_idx in range(gene1_idx + 1, len(gene_chr_objs)):\n",
    "            gene2_obj = gene_chr_objs[gene2_idx]\n",
    "            gene2_tissues = spredixcan_genes_models.loc[gene2_obj.ensembl_id, \"tissue\"]\n",
    "\n",
    "            pbar.set_description(f\"{gene1_obj.ensembl_id} / {gene2_obj.ensembl_id}\")\n",
    "\n",
    "            try:\n",
    "                r = gene1_obj.get_ssm_correlation(\n",
    "                    other_gene=gene2_obj,\n",
    "                    tissues=gene1_tissues,\n",
    "                    other_tissues=gene2_tissues,\n",
    "                    snps_subset=gwas_variants_ids_set,\n",
    "                    condition_number=SMULTIXCAN_CONDITION_NUMBER,\n",
    "                    reference_panel=REFERENCE_PANEL,\n",
    "                    model_type=EQTL_MODEL,\n",
    "                    use_within_distance=COMPUTE_CORRELATIONS_WITHIN_DISTANCE,\n",
    "                )\n",
    "\n",
    "                if r is None:\n",
    "                    # if r is None, it's very likely because:\n",
    "                    #  * one of the genes has no prediction models\n",
    "                    #  * all the SNPs predictors for the gene are not present in the reference\n",
    "                    #    panel\n",
    "\n",
    "                    r = 0.0\n",
    "\n",
    "                gene_corrs.append(r)\n",
    "            except Warning as e:\n",
    "                if not DEBUG_MODE:\n",
    "                    raise e\n",
    "\n",
    "                print(\n",
    "                    f\"RuntimeWarning for genes {gene1_obj.ensembl_id} and {gene2_obj.ensembl_id}\",\n",
    "                    flush=True,\n",
    "                )\n",
    "                print(traceback.format_exc(), flush=True)\n",
    "\n",
    "                gene_corrs.append(np.nan)\n",
    "            except Exception as e:\n",
    "                if not DEBUG_MODE:\n",
    "                    raise e\n",
    "\n",
    "                print(\n",
    "                    f\"Exception for genes {gene1_obj.ensembl_id} and {gene2_obj.ensembl_id}\",\n",
    "                    flush=True,\n",
    "                )\n",
    "                print(traceback.format_exc(), flush=True)\n",
    "\n",
    "                gene_corrs.append(np.nan)\n",
    "\n",
    "            pbar.update(1)\n",
    "\n",
    "# create a pandas series\n",
    "gene_corrs_flat = pd.Series(gene_corrs)\n",
    "\n",
    "# save\n",
    "# FIXME: consider saving only the condenced matrix here. See here for\n",
    "# more details: https://github.com/greenelab/phenoplier/pull/38#discussion_r634600813\n",
    "gene_corrs_data = squareform(np.array(gene_corrs, dtype=np.float64))\n",
    "np.fill_diagonal(gene_corrs_data, 1.0)\n",
    "\n",
    "gene_chr_ids = [g.ensembl_id for g in gene_chr_objs]\n",
    "gene_corrs_df = pd.DataFrame(\n",
    "    data=gene_corrs_data,\n",
    "    index=gene_chr_ids,\n",
    "    columns=gene_chr_ids,\n",
    ")\n",
    "\n",
    "output_dir.mkdir(exist_ok=True, parents=True)\n",
    "display(output_file)\n",
    "\n",
    "gene_corrs_df.to_pickle(output_file)"
   ]
  },
  {
   "cell_type": "markdown",
   "id": "faa67b51-5373-470f-aa72-2ded53fa6dfe",
   "metadata": {
    "papermill": {
     "duration": 0.255947,
     "end_time": "2022-08-08T21:49:07.371199",
     "exception": false,
     "start_time": "2022-08-08T21:49:07.115252",
     "status": "completed"
    },
    "tags": []
   },
   "source": [
    "# Testing"
   ]
  },
  {
   "cell_type": "code",
   "execution_count": 30,
   "id": "14f7d046-4b55-4896-a56b-990127bcc388",
   "metadata": {
    "execution": {
     "iopub.execute_input": "2022-08-08T21:49:07.878144Z",
     "iopub.status.busy": "2022-08-08T21:49:07.877637Z",
     "iopub.status.idle": "2022-08-08T21:49:07.895289Z",
     "shell.execute_reply": "2022-08-08T21:49:07.894103Z"
    },
    "papermill": {
     "duration": 0.257455,
     "end_time": "2022-08-08T21:49:07.896573",
     "exception": false,
     "start_time": "2022-08-08T21:49:07.639118",
     "status": "completed"
    },
    "tags": []
   },
   "outputs": [
    {
     "data": {
      "text/plain": [
       "(96, 96)"
      ]
     },
     "execution_count": 30,
     "metadata": {},
     "output_type": "execute_result"
    }
   ],
   "source": [
    "gene_corrs_df.shape"
   ]
  },
  {
   "cell_type": "code",
   "execution_count": 31,
   "id": "c7d15414-3297-4537-a7c6-7588c0baeb75",
   "metadata": {
    "execution": {
     "iopub.execute_input": "2022-08-08T21:49:08.378052Z",
     "iopub.status.busy": "2022-08-08T21:49:08.377715Z",
     "iopub.status.idle": "2022-08-08T21:49:08.407091Z",
     "shell.execute_reply": "2022-08-08T21:49:08.406675Z"
    },
    "papermill": {
     "duration": 0.277127,
     "end_time": "2022-08-08T21:49:08.408328",
     "exception": false,
     "start_time": "2022-08-08T21:49:08.131201",
     "status": "completed"
    },
    "tags": []
   },
   "outputs": [
    {
     "data": {
      "text/html": [
       "<div>\n",
       "<style scoped>\n",
       "    .dataframe tbody tr th:only-of-type {\n",
       "        vertical-align: middle;\n",
       "    }\n",
       "\n",
       "    .dataframe tbody tr th {\n",
       "        vertical-align: top;\n",
       "    }\n",
       "\n",
       "    .dataframe thead th {\n",
       "        text-align: right;\n",
       "    }\n",
       "</style>\n",
       "<table border=\"1\" class=\"dataframe\">\n",
       "  <thead>\n",
       "    <tr style=\"text-align: right;\">\n",
       "      <th></th>\n",
       "      <th>ENSG00000079134</th>\n",
       "      <th>ENSG00000158270</th>\n",
       "      <th>ENSG00000176890</th>\n",
       "      <th>ENSG00000176105</th>\n",
       "      <th>ENSG00000080986</th>\n",
       "      <th>ENSG00000132205</th>\n",
       "      <th>ENSG00000101577</th>\n",
       "      <th>ENSG00000101608</th>\n",
       "      <th>ENSG00000118680</th>\n",
       "      <th>ENSG00000177426</th>\n",
       "      <th>...</th>\n",
       "      <th>ENSG00000166347</th>\n",
       "      <th>ENSG00000133313</th>\n",
       "      <th>ENSG00000166573</th>\n",
       "      <th>ENSG00000166377</th>\n",
       "      <th>ENSG00000131196</th>\n",
       "      <th>ENSG00000060069</th>\n",
       "      <th>ENSG00000178342</th>\n",
       "      <th>ENSG00000122490</th>\n",
       "      <th>ENSG00000141759</th>\n",
       "      <th>ENSG00000178184</th>\n",
       "    </tr>\n",
       "  </thead>\n",
       "  <tbody>\n",
       "    <tr>\n",
       "      <th>ENSG00000079134</th>\n",
       "      <td>1.000000</td>\n",
       "      <td>0.027327</td>\n",
       "      <td>0.010986</td>\n",
       "      <td>0.008946</td>\n",
       "      <td>0.012392</td>\n",
       "      <td>0.012360</td>\n",
       "      <td>0.019389</td>\n",
       "      <td>0.015498</td>\n",
       "      <td>0.019813</td>\n",
       "      <td>0.011800</td>\n",
       "      <td>...</td>\n",
       "      <td>0.003919</td>\n",
       "      <td>0.009734</td>\n",
       "      <td>0.009201</td>\n",
       "      <td>0.014786</td>\n",
       "      <td>0.012942</td>\n",
       "      <td>0.006651</td>\n",
       "      <td>0.014672</td>\n",
       "      <td>0.012833</td>\n",
       "      <td>0.006671</td>\n",
       "      <td>0.007594</td>\n",
       "    </tr>\n",
       "    <tr>\n",
       "      <th>ENSG00000158270</th>\n",
       "      <td>0.027327</td>\n",
       "      <td>1.000000</td>\n",
       "      <td>0.020645</td>\n",
       "      <td>0.013929</td>\n",
       "      <td>0.012565</td>\n",
       "      <td>0.020533</td>\n",
       "      <td>0.020772</td>\n",
       "      <td>0.016313</td>\n",
       "      <td>0.009782</td>\n",
       "      <td>0.010886</td>\n",
       "      <td>...</td>\n",
       "      <td>0.016299</td>\n",
       "      <td>0.014239</td>\n",
       "      <td>0.011356</td>\n",
       "      <td>0.012852</td>\n",
       "      <td>0.019969</td>\n",
       "      <td>0.016831</td>\n",
       "      <td>0.020905</td>\n",
       "      <td>0.016625</td>\n",
       "      <td>0.013392</td>\n",
       "      <td>0.014581</td>\n",
       "    </tr>\n",
       "    <tr>\n",
       "      <th>ENSG00000176890</th>\n",
       "      <td>0.010986</td>\n",
       "      <td>0.020645</td>\n",
       "      <td>1.000000</td>\n",
       "      <td>0.127420</td>\n",
       "      <td>0.017522</td>\n",
       "      <td>0.019661</td>\n",
       "      <td>0.016672</td>\n",
       "      <td>0.012178</td>\n",
       "      <td>0.008710</td>\n",
       "      <td>0.014963</td>\n",
       "      <td>...</td>\n",
       "      <td>0.012292</td>\n",
       "      <td>0.016050</td>\n",
       "      <td>0.016586</td>\n",
       "      <td>0.016665</td>\n",
       "      <td>0.022466</td>\n",
       "      <td>0.010011</td>\n",
       "      <td>0.019482</td>\n",
       "      <td>0.022939</td>\n",
       "      <td>0.012715</td>\n",
       "      <td>0.009927</td>\n",
       "    </tr>\n",
       "    <tr>\n",
       "      <th>ENSG00000176105</th>\n",
       "      <td>0.008946</td>\n",
       "      <td>0.013929</td>\n",
       "      <td>0.127420</td>\n",
       "      <td>1.000000</td>\n",
       "      <td>0.006701</td>\n",
       "      <td>0.013199</td>\n",
       "      <td>0.019516</td>\n",
       "      <td>0.007399</td>\n",
       "      <td>0.004687</td>\n",
       "      <td>0.005911</td>\n",
       "      <td>...</td>\n",
       "      <td>0.007936</td>\n",
       "      <td>0.010360</td>\n",
       "      <td>0.008155</td>\n",
       "      <td>0.008284</td>\n",
       "      <td>0.010604</td>\n",
       "      <td>0.011195</td>\n",
       "      <td>0.013459</td>\n",
       "      <td>0.011080</td>\n",
       "      <td>0.007823</td>\n",
       "      <td>0.006347</td>\n",
       "    </tr>\n",
       "    <tr>\n",
       "      <th>ENSG00000080986</th>\n",
       "      <td>0.012392</td>\n",
       "      <td>0.012565</td>\n",
       "      <td>0.017522</td>\n",
       "      <td>0.006701</td>\n",
       "      <td>1.000000</td>\n",
       "      <td>0.025655</td>\n",
       "      <td>0.019390</td>\n",
       "      <td>0.008464</td>\n",
       "      <td>0.007467</td>\n",
       "      <td>0.008447</td>\n",
       "      <td>...</td>\n",
       "      <td>0.012674</td>\n",
       "      <td>0.010497</td>\n",
       "      <td>0.010510</td>\n",
       "      <td>0.009253</td>\n",
       "      <td>0.011384</td>\n",
       "      <td>0.009363</td>\n",
       "      <td>0.011387</td>\n",
       "      <td>0.012776</td>\n",
       "      <td>0.008177</td>\n",
       "      <td>0.006802</td>\n",
       "    </tr>\n",
       "  </tbody>\n",
       "</table>\n",
       "<p>5 rows × 96 columns</p>\n",
       "</div>"
      ],
      "text/plain": [
       "                 ENSG00000079134  ENSG00000158270  ENSG00000176890  \\\n",
       "ENSG00000079134         1.000000         0.027327         0.010986   \n",
       "ENSG00000158270         0.027327         1.000000         0.020645   \n",
       "ENSG00000176890         0.010986         0.020645         1.000000   \n",
       "ENSG00000176105         0.008946         0.013929         0.127420   \n",
       "ENSG00000080986         0.012392         0.012565         0.017522   \n",
       "\n",
       "                 ENSG00000176105  ENSG00000080986  ENSG00000132205  \\\n",
       "ENSG00000079134         0.008946         0.012392         0.012360   \n",
       "ENSG00000158270         0.013929         0.012565         0.020533   \n",
       "ENSG00000176890         0.127420         0.017522         0.019661   \n",
       "ENSG00000176105         1.000000         0.006701         0.013199   \n",
       "ENSG00000080986         0.006701         1.000000         0.025655   \n",
       "\n",
       "                 ENSG00000101577  ENSG00000101608  ENSG00000118680  \\\n",
       "ENSG00000079134         0.019389         0.015498         0.019813   \n",
       "ENSG00000158270         0.020772         0.016313         0.009782   \n",
       "ENSG00000176890         0.016672         0.012178         0.008710   \n",
       "ENSG00000176105         0.019516         0.007399         0.004687   \n",
       "ENSG00000080986         0.019390         0.008464         0.007467   \n",
       "\n",
       "                 ENSG00000177426  ...  ENSG00000166347  ENSG00000133313  \\\n",
       "ENSG00000079134         0.011800  ...         0.003919         0.009734   \n",
       "ENSG00000158270         0.010886  ...         0.016299         0.014239   \n",
       "ENSG00000176890         0.014963  ...         0.012292         0.016050   \n",
       "ENSG00000176105         0.005911  ...         0.007936         0.010360   \n",
       "ENSG00000080986         0.008447  ...         0.012674         0.010497   \n",
       "\n",
       "                 ENSG00000166573  ENSG00000166377  ENSG00000131196  \\\n",
       "ENSG00000079134         0.009201         0.014786         0.012942   \n",
       "ENSG00000158270         0.011356         0.012852         0.019969   \n",
       "ENSG00000176890         0.016586         0.016665         0.022466   \n",
       "ENSG00000176105         0.008155         0.008284         0.010604   \n",
       "ENSG00000080986         0.010510         0.009253         0.011384   \n",
       "\n",
       "                 ENSG00000060069  ENSG00000178342  ENSG00000122490  \\\n",
       "ENSG00000079134         0.006651         0.014672         0.012833   \n",
       "ENSG00000158270         0.016831         0.020905         0.016625   \n",
       "ENSG00000176890         0.010011         0.019482         0.022939   \n",
       "ENSG00000176105         0.011195         0.013459         0.011080   \n",
       "ENSG00000080986         0.009363         0.011387         0.012776   \n",
       "\n",
       "                 ENSG00000141759  ENSG00000178184  \n",
       "ENSG00000079134         0.006671         0.007594  \n",
       "ENSG00000158270         0.013392         0.014581  \n",
       "ENSG00000176890         0.012715         0.009927  \n",
       "ENSG00000176105         0.007823         0.006347  \n",
       "ENSG00000080986         0.008177         0.006802  \n",
       "\n",
       "[5 rows x 96 columns]"
      ]
     },
     "execution_count": 31,
     "metadata": {},
     "output_type": "execute_result"
    }
   ],
   "source": [
    "gene_corrs_df.head()"
   ]
  },
  {
   "cell_type": "markdown",
   "id": "dad6603f-01c6-41fb-a6f6-241051207dd8",
   "metadata": {
    "papermill": {
     "duration": 0.23547,
     "end_time": "2022-08-08T21:49:08.905296",
     "exception": false,
     "start_time": "2022-08-08T21:49:08.669826",
     "status": "completed"
    },
    "tags": []
   },
   "source": [
    "## Standard checks and stats"
   ]
  },
  {
   "cell_type": "code",
   "execution_count": 32,
   "id": "286686af-1b7b-4440-8453-6bdcbd8de19c",
   "metadata": {
    "execution": {
     "iopub.execute_input": "2022-08-08T21:49:09.407854Z",
     "iopub.status.busy": "2022-08-08T21:49:09.407655Z",
     "iopub.status.idle": "2022-08-08T21:49:09.422990Z",
     "shell.execute_reply": "2022-08-08T21:49:09.422548Z"
    },
    "papermill": {
     "duration": 0.285066,
     "end_time": "2022-08-08T21:49:09.424248",
     "exception": false,
     "start_time": "2022-08-08T21:49:09.139182",
     "status": "completed"
    },
    "tags": []
   },
   "outputs": [],
   "source": [
    "assert not gene_corrs_df.isna().any().any()"
   ]
  },
  {
   "cell_type": "code",
   "execution_count": 33,
   "id": "00583efc-7068-4270-ad1e-4a418e91db96",
   "metadata": {
    "execution": {
     "iopub.execute_input": "2022-08-08T21:49:09.896364Z",
     "iopub.status.busy": "2022-08-08T21:49:09.896166Z",
     "iopub.status.idle": "2022-08-08T21:49:09.912736Z",
     "shell.execute_reply": "2022-08-08T21:49:09.912277Z"
    },
    "papermill": {
     "duration": 0.253848,
     "end_time": "2022-08-08T21:49:09.914169",
     "exception": false,
     "start_time": "2022-08-08T21:49:09.660321",
     "status": "completed"
    },
    "tags": []
   },
   "outputs": [
    {
     "data": {
      "text/plain": [
       "3.0547930950904735e-05"
      ]
     },
     "metadata": {},
     "output_type": "display_data"
    }
   ],
   "source": [
    "_min_val = gene_corrs_df.min().min()\n",
    "display(_min_val)\n",
    "assert _min_val >= 0.0"
   ]
  },
  {
   "cell_type": "code",
   "execution_count": 34,
   "id": "d04fb2cf-1050-475b-b855-f5f7cc04092b",
   "metadata": {
    "execution": {
     "iopub.execute_input": "2022-08-08T21:49:10.437571Z",
     "iopub.status.busy": "2022-08-08T21:49:10.437327Z",
     "iopub.status.idle": "2022-08-08T21:49:10.453513Z",
     "shell.execute_reply": "2022-08-08T21:49:10.453091Z"
    },
    "papermill": {
     "duration": 0.274996,
     "end_time": "2022-08-08T21:49:10.454601",
     "exception": false,
     "start_time": "2022-08-08T21:49:10.179605",
     "status": "completed"
    },
    "tags": []
   },
   "outputs": [
    {
     "data": {
      "text/plain": [
       "1.0"
      ]
     },
     "metadata": {},
     "output_type": "display_data"
    }
   ],
   "source": [
    "_max_val = gene_corrs_df.max().max()  # this captures the diagonal\n",
    "display(_max_val)\n",
    "assert _max_val <= 1.0"
   ]
  },
  {
   "cell_type": "code",
   "execution_count": 35,
   "id": "96d02c44-1fba-47be-8a93-8f2608420b9c",
   "metadata": {
    "execution": {
     "iopub.execute_input": "2022-08-08T21:49:10.929306Z",
     "iopub.status.busy": "2022-08-08T21:49:10.929103Z",
     "iopub.status.idle": "2022-08-08T21:49:10.944395Z",
     "shell.execute_reply": "2022-08-08T21:49:10.943979Z"
    },
    "papermill": {
     "duration": 0.25616,
     "end_time": "2022-08-08T21:49:10.945658",
     "exception": false,
     "start_time": "2022-08-08T21:49:10.689498",
     "status": "completed"
    },
    "tags": []
   },
   "outputs": [],
   "source": [
    "# check upper triangular values\n",
    "assert len(gene_corrs) == int(genes_chr.shape[0] * (genes_chr.shape[0] - 1) / 2)"
   ]
  },
  {
   "cell_type": "code",
   "execution_count": 36,
   "id": "fe283586-c348-40e0-8841-f6d97bfb021c",
   "metadata": {
    "execution": {
     "iopub.execute_input": "2022-08-08T21:49:11.459155Z",
     "iopub.status.busy": "2022-08-08T21:49:11.458932Z",
     "iopub.status.idle": "2022-08-08T21:49:11.477010Z",
     "shell.execute_reply": "2022-08-08T21:49:11.476556Z"
    },
    "papermill": {
     "duration": 0.256799,
     "end_time": "2022-08-08T21:49:11.478176",
     "exception": false,
     "start_time": "2022-08-08T21:49:11.221377",
     "status": "completed"
    },
    "tags": []
   },
   "outputs": [
    {
     "data": {
      "text/plain": [
       "count    4560.000000\n",
       "mean        0.011738\n",
       "std         0.022536\n",
       "min         0.000031\n",
       "25%         0.006884\n",
       "50%         0.009769\n",
       "75%         0.012833\n",
       "max         0.703521\n",
       "dtype: float64"
      ]
     },
     "execution_count": 36,
     "metadata": {},
     "output_type": "execute_result"
    }
   ],
   "source": [
    "gene_corrs_flat.describe()"
   ]
  },
  {
   "cell_type": "code",
   "execution_count": 37,
   "id": "b3815678-0f93-4b35-897b-a9d047a2aa78",
   "metadata": {
    "execution": {
     "iopub.execute_input": "2022-08-08T21:49:11.977797Z",
     "iopub.status.busy": "2022-08-08T21:49:11.977568Z",
     "iopub.status.idle": "2022-08-08T21:49:11.994706Z",
     "shell.execute_reply": "2022-08-08T21:49:11.994257Z"
    },
    "papermill": {
     "duration": 0.280948,
     "end_time": "2022-08-08T21:49:11.995827",
     "exception": false,
     "start_time": "2022-08-08T21:49:11.714879",
     "status": "completed"
    },
    "tags": []
   },
   "outputs": [
    {
     "data": {
      "text/plain": [
       "0.00    0.000031\n",
       "0.05    0.003278\n",
       "0.10    0.004669\n",
       "0.15    0.005538\n",
       "0.20    0.006314\n",
       "0.25    0.006884\n",
       "0.30    0.007551\n",
       "0.35    0.008124\n",
       "0.40    0.008723\n",
       "0.45    0.009273\n",
       "0.50    0.009769\n",
       "0.55    0.010372\n",
       "0.60    0.010944\n",
       "0.65    0.011538\n",
       "0.70    0.012202\n",
       "0.75    0.012833\n",
       "0.80    0.013655\n",
       "0.85    0.014607\n",
       "0.90    0.016052\n",
       "0.95    0.018226\n",
       "dtype: float64"
      ]
     },
     "metadata": {},
     "output_type": "display_data"
    }
   ],
   "source": [
    "gene_corrs_quantiles = gene_corrs_flat.quantile(np.arange(0, 1, 0.05))\n",
    "display(gene_corrs_quantiles)"
   ]
  },
  {
   "cell_type": "markdown",
   "id": "87134509-b145-4a10-8bc9-b7e914c2b0fa",
   "metadata": {
    "papermill": {
     "duration": 0.23562,
     "end_time": "2022-08-08T21:49:12.468881",
     "exception": false,
     "start_time": "2022-08-08T21:49:12.233261",
     "status": "completed"
    },
    "tags": []
   },
   "source": [
    "## Positive definiteness"
   ]
  },
  {
   "cell_type": "code",
   "execution_count": 38,
   "id": "07d9a9a1-a4f7-48aa-b916-6d42a8cc6186",
   "metadata": {
    "execution": {
     "iopub.execute_input": "2022-08-08T21:49:12.981026Z",
     "iopub.status.busy": "2022-08-08T21:49:12.980863Z",
     "iopub.status.idle": "2022-08-08T21:49:13.001137Z",
     "shell.execute_reply": "2022-08-08T21:49:13.000711Z"
    },
    "papermill": {
     "duration": 0.25935,
     "end_time": "2022-08-08T21:49:13.002452",
     "exception": false,
     "start_time": "2022-08-08T21:49:12.743102",
     "status": "completed"
    },
    "tags": []
   },
   "outputs": [
    {
     "data": {
      "text/plain": [
       "0"
      ]
     },
     "metadata": {},
     "output_type": "display_data"
    },
    {
     "data": {
      "text/plain": [
       "array([], dtype=float64)"
      ]
     },
     "metadata": {},
     "output_type": "display_data"
    }
   ],
   "source": [
    "# print negative eigenvalues\n",
    "eigs = np.linalg.eigvals(gene_corrs_df.to_numpy())\n",
    "display(len(eigs[eigs < 0]))\n",
    "display(eigs[eigs < 0])"
   ]
  },
  {
   "cell_type": "code",
   "execution_count": 39,
   "id": "6e218436-c3c5-4028-8c94-a4fa6260efce",
   "metadata": {
    "execution": {
     "iopub.execute_input": "2022-08-08T21:49:13.495107Z",
     "iopub.status.busy": "2022-08-08T21:49:13.494725Z",
     "iopub.status.idle": "2022-08-08T21:49:13.526579Z",
     "shell.execute_reply": "2022-08-08T21:49:13.526174Z"
    },
    "papermill": {
     "duration": 0.267932,
     "end_time": "2022-08-08T21:49:13.532115",
     "exception": false,
     "start_time": "2022-08-08T21:49:13.264183",
     "status": "completed"
    },
    "tags": []
   },
   "outputs": [
    {
     "name": "stdout",
     "output_type": "stream",
     "text": [
      "Works!\n"
     ]
    }
   ],
   "source": [
    "try:\n",
    "    chol_mat = np.linalg.cholesky(gene_corrs_df.to_numpy())\n",
    "    cov_inv = np.linalg.inv(chol_mat)\n",
    "    print(\"Works!\")\n",
    "except:\n",
    "    print(\"Cholesky decomposition failed\")"
   ]
  },
  {
   "cell_type": "markdown",
   "id": "8e60a080-edb2-4e9c-b2ef-22961693200c",
   "metadata": {
    "papermill": {
     "duration": 0.229106,
     "end_time": "2022-08-08T21:49:14.085323",
     "exception": false,
     "start_time": "2022-08-08T21:49:13.856217",
     "status": "completed"
    },
    "tags": []
   },
   "source": [
    "## Plot: distribution"
   ]
  },
  {
   "cell_type": "code",
   "execution_count": 40,
   "id": "8301126b-a7d4-4744-9c7d-f0f86eb6f54c",
   "metadata": {
    "execution": {
     "iopub.execute_input": "2022-08-08T21:49:14.598812Z",
     "iopub.status.busy": "2022-08-08T21:49:14.598362Z",
     "iopub.status.idle": "2022-08-08T21:49:17.049829Z",
     "shell.execute_reply": "2022-08-08T21:49:17.049376Z"
    },
    "papermill": {
     "duration": 2.714667,
     "end_time": "2022-08-08T21:49:17.051012",
     "exception": false,
     "start_time": "2022-08-08T21:49:14.336345",
     "status": "completed"
    },
    "tags": []
   },
   "outputs": [
    {
     "data": {
      "image/png": "[encoded data removed]",
      "text/plain": [
       "<Figure size 504x504 with 1 Axes>"
      ]
     },
     "metadata": {
      "needs_background": "light"
     },
     "output_type": "display_data"
    }
   ],
   "source": [
    "with sns.plotting_context(\"paper\", font_scale=1.5):\n",
    "    g = sns.displot(gene_corrs_flat, kde=True, height=7)\n",
    "    g.ax.set_title(\n",
    "        f\"Distribution of gene correlation values in chromosome {CHROMOSOME}\"\n",
    "    )"
   ]
  },
  {
   "cell_type": "markdown",
   "id": "cbd52bca-d878-4a2f-b684-5c83aa3038d4",
   "metadata": {
    "papermill": {
     "duration": 0.233883,
     "end_time": "2022-08-08T21:49:17.540867",
     "exception": false,
     "start_time": "2022-08-08T21:49:17.306984",
     "status": "completed"
    },
    "tags": []
   },
   "source": [
    "## Plot: heatmap"
   ]
  },
  {
   "cell_type": "code",
   "execution_count": 41,
   "id": "d03fe63a-c7b2-4fb9-a53c-db362ce843c9",
   "metadata": {
    "execution": {
     "iopub.execute_input": "2022-08-08T21:49:18.039110Z",
     "iopub.status.busy": "2022-08-08T21:49:18.038724Z",
     "iopub.status.idle": "2022-08-08T21:49:18.055025Z",
     "shell.execute_reply": "2022-08-08T21:49:18.054619Z"
    },
    "papermill": {
     "duration": 0.249696,
     "end_time": "2022-08-08T21:49:18.056183",
     "exception": false,
     "start_time": "2022-08-08T21:49:17.806487",
     "status": "completed"
    },
    "tags": []
   },
   "outputs": [
    {
     "data": {
      "text/plain": [
       "'0.0 / 0.05'"
      ]
     },
     "metadata": {},
     "output_type": "display_data"
    }
   ],
   "source": [
    "vmin_val = min(0.00, gene_corrs_quantiles[0.10])\n",
    "vmax_val = max(0.05, gene_corrs_quantiles[0.90])\n",
    "display(f\"{vmin_val} / {vmax_val}\")"
   ]
  },
  {
   "cell_type": "code",
   "execution_count": 42,
   "id": "dc41b70b-5bcc-4d9e-9f33-a22c4a94dab5",
   "metadata": {
    "execution": {
     "iopub.execute_input": "2022-08-08T21:49:18.547891Z",
     "iopub.status.busy": "2022-08-08T21:49:18.547654Z",
     "iopub.status.idle": "2022-08-08T21:49:18.693862Z",
     "shell.execute_reply": "2022-08-08T21:49:18.693265Z"
    },
    "papermill": {
     "duration": 0.382838,
     "end_time": "2022-08-08T21:49:18.695245",
     "exception": false,
     "start_time": "2022-08-08T21:49:18.312407",
     "status": "completed"
    },
    "tags": []
   },
   "outputs": [
    {
     "data": {
      "text/plain": [
       "Text(0.5, 1.0, 'Gene correlations in chromosome 18')"
      ]
     },
     "execution_count": 42,
     "metadata": {},
     "output_type": "execute_result"
    },
    {
     "data": {
      "image/png": "[encoded data removed]",
      "text/plain": [
       "<Figure size 720x720 with 2 Axes>"
      ]
     },
     "metadata": {
      "needs_background": "light"
     },
     "output_type": "display_data"
    }
   ],
   "source": [
    "f, ax = plt.subplots(figsize=(10, 10))\n",
    "sns.heatmap(\n",
    "    gene_corrs_df,\n",
    "    xticklabels=False,\n",
    "    yticklabels=False,\n",
    "    square=True,\n",
    "    vmin=vmin_val,\n",
    "    vmax=vmax_val,\n",
    "    cmap=\"rocket_r\",\n",
    "    ax=ax,\n",
    ")\n",
    "ax.set_title(f\"Gene correlations in chromosome {CHROMOSOME}\")"
   ]
  },
  {
   "cell_type": "code",
   "execution_count": null,
   "id": "b25e3ead",
   "metadata": {
    "papermill": {
     "duration": 0.236988,
     "end_time": "2022-08-08T21:49:19.195828",
     "exception": false,
     "start_time": "2022-08-08T21:49:18.958840",
     "status": "completed"
    },
    "tags": []
   },
   "outputs": [],
   "source": []
  }
 ],
 "metadata": {
  "jupytext": {
   "cell_metadata_filter": "all,-execution,-papermill,-trusted",
   "formats": "ipynb,py//py:percent"
  },
  "kernelspec": {
   "display_name": "Python 3 (ipykernel)",
   "language": "python",
   "name": "python3"
  },
  "language_info": {
   "codemirror_mode": {
    "name": "ipython",
    "version": 3
   },
   "file_extension": ".py",
   "mimetype": "text/x-python",
   "name": "python",
   "nbconvert_exporter": "python",
   "pygments_lexer": "ipython3",
   "version": "3.8.13"
  },
  "papermill": {
   "default_parameters": {},
   "duration": 405.667068,
   "end_time": "2022-08-08T21:49:22.753643",
   "environment_variables": {},
   "exception": null,
   "input_path": "nbs/15_gsa_gls/10-gene_expr_correlations.ipynb",
   "output_path": "nbs/15_gsa_gls/gene_corrs/cohorts/1000g_eur/1000g/mashr/10-gene_expr_correlations-chr18.run.ipynb",
   "parameters": {
    "CHROMOSOME": 18,
    "COHORT_NAME": "1000G_EUR",
    "EQTL_MODEL": "MASHR",
    "REFERENCE_PANEL": "1000G"
   },
   "start_time": "2022-08-08T21:42:37.086575",
   "version": "2.2.2"
  }
 },
 "nbformat": 4,
 "nbformat_minor": 5
}
