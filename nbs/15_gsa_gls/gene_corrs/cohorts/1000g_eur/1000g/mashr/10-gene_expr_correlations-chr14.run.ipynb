{
 "cells": [
  {
   "cell_type": "markdown",
   "id": "7a6632fb",
   "metadata": {
    "papermill": {
     "duration": 0.006751,
     "end_time": "2022-07-22T04:31:59.782589",
     "exception": false,
     "start_time": "2022-07-22T04:31:59.775838",
     "status": "completed"
    },
    "tags": []
   },
   "source": [
    "# Description"
   ]
  },
  {
   "cell_type": "markdown",
   "id": "7097c346",
   "metadata": {
    "papermill": {
     "duration": 0.006019,
     "end_time": "2022-07-22T04:31:59.794925",
     "exception": false,
     "start_time": "2022-07-22T04:31:59.788906",
     "status": "completed"
    },
    "tags": []
   },
   "source": [
    "(Please, take a look at the README.md file in this directory for instructions on how to run this notebook)\n",
    "\n",
    "This notebook computes predicted expression correlations between all genes in the MultiPLIER models.\n",
    "\n",
    "It also has a parameter set for papermill to run on a single chromosome to run in parallel (see under `Settings` below).\n",
    "\n",
    "This notebook is not directly run. See README.md."
   ]
  },
  {
   "cell_type": "markdown",
   "id": "c61d8427",
   "metadata": {
    "papermill": {
     "duration": 0.005902,
     "end_time": "2022-07-22T04:31:59.806826",
     "exception": false,
     "start_time": "2022-07-22T04:31:59.800924",
     "status": "completed"
    },
    "tags": []
   },
   "source": [
    "# Modules"
   ]
  },
  {
   "cell_type": "code",
   "execution_count": 1,
   "id": "bbc0234f",
   "metadata": {
    "execution": {
     "iopub.execute_input": "2022-07-22T04:31:59.820217Z",
     "iopub.status.busy": "2022-07-22T04:31:59.819955Z",
     "iopub.status.idle": "2022-07-22T04:31:59.834815Z",
     "shell.execute_reply": "2022-07-22T04:31:59.834415Z"
    },
    "papermill": {
     "duration": 0.023473,
     "end_time": "2022-07-22T04:31:59.836294",
     "exception": false,
     "start_time": "2022-07-22T04:31:59.812821",
     "status": "completed"
    },
    "tags": []
   },
   "outputs": [],
   "source": [
    "%load_ext autoreload\n",
    "%autoreload 2"
   ]
  },
  {
   "cell_type": "code",
   "execution_count": 2,
   "id": "1d5f5a59",
   "metadata": {
    "execution": {
     "iopub.execute_input": "2022-07-22T04:31:59.878103Z",
     "iopub.status.busy": "2022-07-22T04:31:59.877509Z",
     "iopub.status.idle": "2022-07-22T04:32:00.788730Z",
     "shell.execute_reply": "2022-07-22T04:32:00.788269Z"
    },
    "papermill": {
     "duration": 0.920655,
     "end_time": "2022-07-22T04:32:00.790441",
     "exception": false,
     "start_time": "2022-07-22T04:31:59.869786",
     "status": "completed"
    },
    "tags": []
   },
   "outputs": [],
   "source": [
    "from random import sample, seed\n",
    "import warnings\n",
    "from pathlib import Path\n",
    "import pickle\n",
    "import traceback\n",
    "\n",
    "import numpy as np\n",
    "from scipy.spatial.distance import squareform\n",
    "import pandas as pd\n",
    "from tqdm import tqdm\n",
    "import matplotlib.pyplot as plt\n",
    "import seaborn as sns\n",
    "\n",
    "import conf\n",
    "from entity import Gene"
   ]
  },
  {
   "cell_type": "markdown",
   "id": "1eac24b5",
   "metadata": {
    "papermill": {
     "duration": 0.005899,
     "end_time": "2022-07-22T04:32:00.802712",
     "exception": false,
     "start_time": "2022-07-22T04:32:00.796813",
     "status": "completed"
    },
    "tags": []
   },
   "source": [
    "# Settings"
   ]
  },
  {
   "cell_type": "code",
   "execution_count": 3,
   "id": "ca4560ba",
   "metadata": {
    "execution": {
     "iopub.execute_input": "2022-07-22T04:32:00.815395Z",
     "iopub.status.busy": "2022-07-22T04:32:00.815181Z",
     "iopub.status.idle": "2022-07-22T04:32:00.829939Z",
     "shell.execute_reply": "2022-07-22T04:32:00.829497Z"
    },
    "papermill": {
     "duration": 0.022581,
     "end_time": "2022-07-22T04:32:00.831223",
     "exception": false,
     "start_time": "2022-07-22T04:32:00.808642",
     "status": "completed"
    },
    "tags": [
     "parameters"
    ]
   },
   "outputs": [],
   "source": [
    "# a cohort name (it could be something like UK_BIOBANK, etc)\n",
    "COHORT_NAME = None\n",
    "\n",
    "# reference panel such as 1000G or GTEX_V8\n",
    "REFERENCE_PANEL = None\n",
    "\n",
    "# predictions models such as MASHR or ELASTIC_NET\n",
    "EQTL_MODEL = None\n",
    "\n",
    "# this is the default value used in S-MultiXcan to select the\n",
    "# top principal components of the expression correlation matrix\n",
    "SMULTIXCAN_CONDITION_NUMBER = 30\n",
    "\n",
    "# specifies a single chromosome value\n",
    "CHROMOSOME = None\n",
    "\n",
    "# if True, then it will continue if a gene pair correlation fails,\n",
    "# printing the warning/error for debugging. If False, any warning/error\n",
    "# will be thrown\n",
    "# FIXME: make it False when all is working\n",
    "DEBUG_MODE = True"
   ]
  },
  {
   "cell_type": "code",
   "execution_count": 4,
   "id": "8b2113fa",
   "metadata": {
    "execution": {
     "iopub.execute_input": "2022-07-22T04:32:00.843986Z",
     "iopub.status.busy": "2022-07-22T04:32:00.843776Z",
     "iopub.status.idle": "2022-07-22T04:32:00.858438Z",
     "shell.execute_reply": "2022-07-22T04:32:00.857947Z"
    },
    "papermill": {
     "duration": 0.022634,
     "end_time": "2022-07-22T04:32:00.859878",
     "exception": false,
     "start_time": "2022-07-22T04:32:00.837244",
     "status": "completed"
    },
    "tags": [
     "injected-parameters"
    ]
   },
   "outputs": [],
   "source": [
    "# Parameters\n",
    "COHORT_NAME = \"1000G_EUR\"\n",
    "REFERENCE_PANEL = \"1000G\"\n",
    "EQTL_MODEL = \"MASHR\"\n",
    "CHROMOSOME = 14\n"
   ]
  },
  {
   "cell_type": "code",
   "execution_count": 5,
   "id": "3190631f-27fc-480f-b18e-571d580425a5",
   "metadata": {
    "execution": {
     "iopub.execute_input": "2022-07-22T04:32:00.873549Z",
     "iopub.status.busy": "2022-07-22T04:32:00.873098Z",
     "iopub.status.idle": "2022-07-22T04:32:00.891822Z",
     "shell.execute_reply": "2022-07-22T04:32:00.891199Z"
    },
    "papermill": {
     "duration": 0.027052,
     "end_time": "2022-07-22T04:32:00.893240",
     "exception": false,
     "start_time": "2022-07-22T04:32:00.866188",
     "status": "completed"
    },
    "tags": []
   },
   "outputs": [
    {
     "data": {
      "text/plain": [
       "'Cohort name: 1000g_eur'"
      ]
     },
     "metadata": {},
     "output_type": "display_data"
    }
   ],
   "source": [
    "assert COHORT_NAME is not None or len(COHORT_NAME) == 0, \"A cohort name must be given\"\n",
    "\n",
    "COHORT_NAME = COHORT_NAME.lower()\n",
    "display(f\"Cohort name: {COHORT_NAME}\")"
   ]
  },
  {
   "cell_type": "code",
   "execution_count": 6,
   "id": "f53ba19b-0f93-4fa2-a047-63b375939d1a",
   "metadata": {
    "execution": {
     "iopub.execute_input": "2022-07-22T04:32:00.907483Z",
     "iopub.status.busy": "2022-07-22T04:32:00.907294Z",
     "iopub.status.idle": "2022-07-22T04:32:00.933155Z",
     "shell.execute_reply": "2022-07-22T04:32:00.932647Z"
    },
    "papermill": {
     "duration": 0.03482,
     "end_time": "2022-07-22T04:32:00.934912",
     "exception": false,
     "start_time": "2022-07-22T04:32:00.900092",
     "status": "completed"
    },
    "tags": []
   },
   "outputs": [
    {
     "data": {
      "text/plain": [
       "'Reference panel: 1000G'"
      ]
     },
     "metadata": {},
     "output_type": "display_data"
    }
   ],
   "source": [
    "assert (\n",
    "    REFERENCE_PANEL is not None or len(REFERENCE_PANEL) == 0\n",
    "), \"A reference panel must be given\"\n",
    "\n",
    "display(f\"Reference panel: {REFERENCE_PANEL}\")"
   ]
  },
  {
   "cell_type": "code",
   "execution_count": 7,
   "id": "e024d130-c139-429a-9c6e-ccf149e297b0",
   "metadata": {
    "execution": {
     "iopub.execute_input": "2022-07-22T04:32:00.952513Z",
     "iopub.status.busy": "2022-07-22T04:32:00.952317Z",
     "iopub.status.idle": "2022-07-22T04:32:00.972533Z",
     "shell.execute_reply": "2022-07-22T04:32:00.971964Z"
    },
    "papermill": {
     "duration": 0.030538,
     "end_time": "2022-07-22T04:32:00.974036",
     "exception": false,
     "start_time": "2022-07-22T04:32:00.943498",
     "status": "completed"
    },
    "tags": []
   },
   "outputs": [
    {
     "data": {
      "text/plain": [
       "'eQTL model: MASHR) / mashr_'"
      ]
     },
     "metadata": {},
     "output_type": "display_data"
    }
   ],
   "source": [
    "assert (\n",
    "    EQTL_MODEL is not None or len(EQTL_MODEL) == 0\n",
    "), \"A prediction/eQTL model must be given\"\n",
    "\n",
    "EQTL_MODEL_FILES_PREFIX = conf.PHENOMEXCAN[\"PREDICTION_MODELS\"][f\"{EQTL_MODEL}_PREFIX\"]\n",
    "display(f\"eQTL model: {EQTL_MODEL}) / {EQTL_MODEL_FILES_PREFIX}\")"
   ]
  },
  {
   "cell_type": "code",
   "execution_count": 8,
   "id": "552a7f63-a18c-4d3e-bb6a-94f99b431291",
   "metadata": {
    "execution": {
     "iopub.execute_input": "2022-07-22T04:32:00.991234Z",
     "iopub.status.busy": "2022-07-22T04:32:00.990721Z",
     "iopub.status.idle": "2022-07-22T04:32:01.008100Z",
     "shell.execute_reply": "2022-07-22T04:32:01.007340Z"
    },
    "papermill": {
     "duration": 0.026722,
     "end_time": "2022-07-22T04:32:01.009558",
     "exception": false,
     "start_time": "2022-07-22T04:32:00.982836",
     "status": "completed"
    },
    "tags": []
   },
   "outputs": [
    {
     "data": {
      "text/plain": [
       "'S-MultiXcan condition number: 30'"
      ]
     },
     "metadata": {},
     "output_type": "display_data"
    }
   ],
   "source": [
    "assert (\n",
    "    SMULTIXCAN_CONDITION_NUMBER is not None or SMULTIXCAN_CONDITION_NUMBER > 0\n",
    "), \"The S-MultiXcan condition number (positive integer) must be given\"\n",
    "\n",
    "display(f\"S-MultiXcan condition number: {SMULTIXCAN_CONDITION_NUMBER}\")"
   ]
  },
  {
   "cell_type": "code",
   "execution_count": 9,
   "id": "f34a336f-548e-4afe-8955-90eaea4f42c6",
   "metadata": {
    "execution": {
     "iopub.execute_input": "2022-07-22T04:32:01.024699Z",
     "iopub.status.busy": "2022-07-22T04:32:01.024511Z",
     "iopub.status.idle": "2022-07-22T04:32:01.042668Z",
     "shell.execute_reply": "2022-07-22T04:32:01.042020Z"
    },
    "papermill": {
     "duration": 0.027464,
     "end_time": "2022-07-22T04:32:01.044180",
     "exception": false,
     "start_time": "2022-07-22T04:32:01.016716",
     "status": "completed"
    },
    "tags": []
   },
   "outputs": [
    {
     "data": {
      "text/plain": [
       "'Working on chromosome 14'"
      ]
     },
     "metadata": {},
     "output_type": "display_data"
    }
   ],
   "source": [
    "assert CHROMOSOME is not None and (\n",
    "    1 <= CHROMOSOME <= 22\n",
    "), \"You have to select one chromosome (format: number between 1 and 22)\"\n",
    "\n",
    "CHROMOSOME = str(CHROMOSOME)\n",
    "display(f\"Working on chromosome {CHROMOSOME}\")"
   ]
  },
  {
   "cell_type": "code",
   "execution_count": 10,
   "id": "ab8e96e8-06b5-4363-9dcd-dc4d78cc27f7",
   "metadata": {
    "execution": {
     "iopub.execute_input": "2022-07-22T04:32:01.059244Z",
     "iopub.status.busy": "2022-07-22T04:32:01.059064Z",
     "iopub.status.idle": "2022-07-22T04:32:01.076937Z",
     "shell.execute_reply": "2022-07-22T04:32:01.076347Z"
    },
    "papermill": {
     "duration": 0.027002,
     "end_time": "2022-07-22T04:32:01.078382",
     "exception": false,
     "start_time": "2022-07-22T04:32:01.051380",
     "status": "completed"
    },
    "tags": []
   },
   "outputs": [
    {
     "data": {
      "text/plain": [
       "'Compute correlation within distance True'"
      ]
     },
     "metadata": {},
     "output_type": "display_data"
    }
   ],
   "source": [
    "# TODO: see if this is necessary; if so, make it a parameter with default value True\n",
    "# This parameter, if True, computes the correlation between closeby genes only\n",
    "\n",
    "COMPUTE_CORRELATIONS_WITHIN_DISTANCE = True\n",
    "display(f\"Compute correlation within distance {COMPUTE_CORRELATIONS_WITHIN_DISTANCE}\")"
   ]
  },
  {
   "cell_type": "code",
   "execution_count": 11,
   "id": "396392dc-0340-4540-9b02-e182b833f909",
   "metadata": {
    "execution": {
     "iopub.execute_input": "2022-07-22T04:32:01.093615Z",
     "iopub.status.busy": "2022-07-22T04:32:01.093136Z",
     "iopub.status.idle": "2022-07-22T04:32:01.110259Z",
     "shell.execute_reply": "2022-07-22T04:32:01.109748Z"
    },
    "papermill": {
     "duration": 0.025977,
     "end_time": "2022-07-22T04:32:01.111534",
     "exception": false,
     "start_time": "2022-07-22T04:32:01.085557",
     "status": "completed"
    },
    "tags": []
   },
   "outputs": [
    {
     "data": {
      "text/plain": [
       "'Using output dir base: /opt/data/results/gls/gene_corrs/cohorts/1000g_eur/1000g/mashr'"
      ]
     },
     "metadata": {},
     "output_type": "display_data"
    }
   ],
   "source": [
    "OUTPUT_DIR_BASE = (\n",
    "    conf.RESULTS[\"GLS\"]\n",
    "    / \"gene_corrs\"\n",
    "    / \"cohorts\"\n",
    "    / COHORT_NAME\n",
    "    / REFERENCE_PANEL.lower()\n",
    "    / EQTL_MODEL.lower()\n",
    ")\n",
    "OUTPUT_DIR_BASE.mkdir(parents=True, exist_ok=True)\n",
    "\n",
    "display(f\"Using output dir base: {OUTPUT_DIR_BASE}\")"
   ]
  },
  {
   "cell_type": "code",
   "execution_count": 12,
   "id": "974b4bb1-aa98-4e30-b221-7cd034ad3833",
   "metadata": {
    "execution": {
     "iopub.execute_input": "2022-07-22T04:32:01.126033Z",
     "iopub.status.busy": "2022-07-22T04:32:01.125606Z",
     "iopub.status.idle": "2022-07-22T04:32:01.141954Z",
     "shell.execute_reply": "2022-07-22T04:32:01.141387Z"
    },
    "papermill": {
     "duration": 0.024939,
     "end_time": "2022-07-22T04:32:01.143275",
     "exception": false,
     "start_time": "2022-07-22T04:32:01.118336",
     "status": "completed"
    },
    "tags": []
   },
   "outputs": [
    {
     "data": {
      "text/plain": [
       "PosixPath('/opt/data/results/gls/gene_corrs/cohorts/1000g_eur')"
      ]
     },
     "metadata": {},
     "output_type": "display_data"
    }
   ],
   "source": [
    "INPUT_DIR = conf.RESULTS[\"GLS\"] / \"gene_corrs\" / \"cohorts\" / COHORT_NAME\n",
    "assert INPUT_DIR.exists()\n",
    "\n",
    "display(INPUT_DIR)"
   ]
  },
  {
   "cell_type": "markdown",
   "id": "d2ba085e",
   "metadata": {
    "papermill": {
     "duration": 0.006467,
     "end_time": "2022-07-22T04:32:01.156403",
     "exception": false,
     "start_time": "2022-07-22T04:32:01.149936",
     "status": "completed"
    },
    "tags": []
   },
   "source": [
    "# Load data"
   ]
  },
  {
   "cell_type": "markdown",
   "id": "7dcb8db7",
   "metadata": {
    "papermill": {
     "duration": 0.006345,
     "end_time": "2022-07-22T04:32:01.169361",
     "exception": false,
     "start_time": "2022-07-22T04:32:01.163016",
     "status": "completed"
    },
    "tags": []
   },
   "source": [
    "## GWAS variants"
   ]
  },
  {
   "cell_type": "code",
   "execution_count": 13,
   "id": "29434c4e-8cd3-4b9b-82e4-b5a251d9dd19",
   "metadata": {
    "execution": {
     "iopub.execute_input": "2022-07-22T04:32:01.183295Z",
     "iopub.status.busy": "2022-07-22T04:32:01.182635Z",
     "iopub.status.idle": "2022-07-22T04:32:03.844343Z",
     "shell.execute_reply": "2022-07-22T04:32:03.843713Z"
    },
    "papermill": {
     "duration": 2.670252,
     "end_time": "2022-07-22T04:32:03.845916",
     "exception": false,
     "start_time": "2022-07-22T04:32:01.175664",
     "status": "completed"
    },
    "tags": []
   },
   "outputs": [],
   "source": [
    "with open(INPUT_DIR / \"gwas_variant_ids.pkl\", \"rb\") as handle:\n",
    "    gwas_variants_ids_set = pickle.load(handle)"
   ]
  },
  {
   "cell_type": "code",
   "execution_count": 14,
   "id": "b9d9dec2-4a76-4bf9-bde2-e24c95acb8a0",
   "metadata": {
    "execution": {
     "iopub.execute_input": "2022-07-22T04:32:03.862518Z",
     "iopub.status.busy": "2022-07-22T04:32:03.862322Z",
     "iopub.status.idle": "2022-07-22T04:32:03.881052Z",
     "shell.execute_reply": "2022-07-22T04:32:03.880414Z"
    },
    "papermill": {
     "duration": 0.028756,
     "end_time": "2022-07-22T04:32:03.882650",
     "exception": false,
     "start_time": "2022-07-22T04:32:03.853894",
     "status": "completed"
    },
    "tags": []
   },
   "outputs": [
    {
     "data": {
      "text/plain": [
       "8339505"
      ]
     },
     "execution_count": 14,
     "metadata": {},
     "output_type": "execute_result"
    }
   ],
   "source": [
    "len(gwas_variants_ids_set)"
   ]
  },
  {
   "cell_type": "code",
   "execution_count": 15,
   "id": "4235b06a-6034-4ee4-a0a3-2ae35d122418",
   "metadata": {
    "execution": {
     "iopub.execute_input": "2022-07-22T04:32:03.898881Z",
     "iopub.status.busy": "2022-07-22T04:32:03.898694Z",
     "iopub.status.idle": "2022-07-22T04:32:04.407259Z",
     "shell.execute_reply": "2022-07-22T04:32:04.406596Z"
    },
    "papermill": {
     "duration": 0.518256,
     "end_time": "2022-07-22T04:32:04.408729",
     "exception": false,
     "start_time": "2022-07-22T04:32:03.890473",
     "status": "completed"
    },
    "tags": []
   },
   "outputs": [
    {
     "data": {
      "text/plain": [
       "['chr18_8590361_G_A_b38',\n",
       " 'chr5_6582909_C_T_b38',\n",
       " 'chr2_183988968_T_G_b38',\n",
       " 'chr20_57140449_G_A_b38',\n",
       " 'chr8_24448815_A_C_b38']"
      ]
     },
     "execution_count": 15,
     "metadata": {},
     "output_type": "execute_result"
    }
   ],
   "source": [
    "list(gwas_variants_ids_set)[:5]"
   ]
  },
  {
   "cell_type": "markdown",
   "id": "07866999-2305-41f9-a144-e69c9122c212",
   "metadata": {
    "papermill": {
     "duration": 0.0091,
     "end_time": "2022-07-22T04:32:04.426085",
     "exception": false,
     "start_time": "2022-07-22T04:32:04.416985",
     "status": "completed"
    },
    "tags": []
   },
   "source": [
    "## S-PrediXcan tissue models"
   ]
  },
  {
   "cell_type": "code",
   "execution_count": 16,
   "id": "780611d9-77c8-405f-90a4-f271f7b09397",
   "metadata": {
    "execution": {
     "iopub.execute_input": "2022-07-22T04:32:04.443639Z",
     "iopub.status.busy": "2022-07-22T04:32:04.443213Z",
     "iopub.status.idle": "2022-07-22T04:32:05.276812Z",
     "shell.execute_reply": "2022-07-22T04:32:05.276253Z"
    },
    "papermill": {
     "duration": 0.843871,
     "end_time": "2022-07-22T04:32:05.278254",
     "exception": false,
     "start_time": "2022-07-22T04:32:04.434383",
     "status": "completed"
    },
    "tags": []
   },
   "outputs": [],
   "source": [
    "spredixcan_genes_models = pd.read_pickle(INPUT_DIR / \"gene_tissues.pkl\").set_index(\n",
    "    \"gene_id\"\n",
    ")"
   ]
  },
  {
   "cell_type": "code",
   "execution_count": 17,
   "id": "726dd1f6-9557-4225-91fa-b3b879ea96e1",
   "metadata": {
    "execution": {
     "iopub.execute_input": "2022-07-22T04:32:05.293648Z",
     "iopub.status.busy": "2022-07-22T04:32:05.293475Z",
     "iopub.status.idle": "2022-07-22T04:32:05.309873Z",
     "shell.execute_reply": "2022-07-22T04:32:05.309317Z"
    },
    "papermill": {
     "duration": 0.025314,
     "end_time": "2022-07-22T04:32:05.311227",
     "exception": false,
     "start_time": "2022-07-22T04:32:05.285913",
     "status": "completed"
    },
    "tags": []
   },
   "outputs": [
    {
     "data": {
      "text/plain": [
       "(22314, 2)"
      ]
     },
     "execution_count": 17,
     "metadata": {},
     "output_type": "execute_result"
    }
   ],
   "source": [
    "spredixcan_genes_models.shape"
   ]
  },
  {
   "cell_type": "code",
   "execution_count": 18,
   "id": "944a1b48-222c-4eb0-b252-b9de2cbca215",
   "metadata": {
    "execution": {
     "iopub.execute_input": "2022-07-22T04:32:05.325922Z",
     "iopub.status.busy": "2022-07-22T04:32:05.325755Z",
     "iopub.status.idle": "2022-07-22T04:32:05.347523Z",
     "shell.execute_reply": "2022-07-22T04:32:05.347021Z"
    },
    "papermill": {
     "duration": 0.030676,
     "end_time": "2022-07-22T04:32:05.348879",
     "exception": false,
     "start_time": "2022-07-22T04:32:05.318203",
     "status": "completed"
    },
    "tags": []
   },
   "outputs": [
    {
     "data": {
      "text/html": [
       "<div>\n",
       "<style scoped>\n",
       "    .dataframe tbody tr th:only-of-type {\n",
       "        vertical-align: middle;\n",
       "    }\n",
       "\n",
       "    .dataframe tbody tr th {\n",
       "        vertical-align: top;\n",
       "    }\n",
       "\n",
       "    .dataframe thead th {\n",
       "        text-align: right;\n",
       "    }\n",
       "</style>\n",
       "<table border=\"1\" class=\"dataframe\">\n",
       "  <thead>\n",
       "    <tr style=\"text-align: right;\">\n",
       "      <th></th>\n",
       "      <th>gene_name</th>\n",
       "      <th>tissue</th>\n",
       "    </tr>\n",
       "    <tr>\n",
       "      <th>gene_id</th>\n",
       "      <th></th>\n",
       "      <th></th>\n",
       "    </tr>\n",
       "  </thead>\n",
       "  <tbody>\n",
       "    <tr>\n",
       "      <th>ENSG00000000419</th>\n",
       "      <td>DPM1</td>\n",
       "      <td>(Brain_Substantia_nigra, Brain_Hypothalamus)</td>\n",
       "    </tr>\n",
       "    <tr>\n",
       "      <th>ENSG00000000457</th>\n",
       "      <td>SCYL3</td>\n",
       "      <td>(Brain_Spinal_cord_cervical_c-1, Prostate, Cel...</td>\n",
       "    </tr>\n",
       "    <tr>\n",
       "      <th>ENSG00000000460</th>\n",
       "      <td>C1orf112</td>\n",
       "      <td>(Brain_Spinal_cord_cervical_c-1, Prostate, Art...</td>\n",
       "    </tr>\n",
       "    <tr>\n",
       "      <th>ENSG00000000938</th>\n",
       "      <td>FGR</td>\n",
       "      <td>(Brain_Spinal_cord_cervical_c-1, Prostate, Art...</td>\n",
       "    </tr>\n",
       "    <tr>\n",
       "      <th>ENSG00000000971</th>\n",
       "      <td>CFH</td>\n",
       "      <td>(Brain_Spinal_cord_cervical_c-1, Cells_Culture...</td>\n",
       "    </tr>\n",
       "  </tbody>\n",
       "</table>\n",
       "</div>"
      ],
      "text/plain": [
       "                gene_name                                             tissue\n",
       "gene_id                                                                     \n",
       "ENSG00000000419      DPM1       (Brain_Substantia_nigra, Brain_Hypothalamus)\n",
       "ENSG00000000457     SCYL3  (Brain_Spinal_cord_cervical_c-1, Prostate, Cel...\n",
       "ENSG00000000460  C1orf112  (Brain_Spinal_cord_cervical_c-1, Prostate, Art...\n",
       "ENSG00000000938       FGR  (Brain_Spinal_cord_cervical_c-1, Prostate, Art...\n",
       "ENSG00000000971       CFH  (Brain_Spinal_cord_cervical_c-1, Cells_Culture..."
      ]
     },
     "execution_count": 18,
     "metadata": {},
     "output_type": "execute_result"
    }
   ],
   "source": [
    "spredixcan_genes_models.head()"
   ]
  },
  {
   "cell_type": "code",
   "execution_count": 19,
   "id": "d1c11bb1-be0b-4f40-b360-633d6827109f",
   "metadata": {
    "execution": {
     "iopub.execute_input": "2022-07-22T04:32:05.364811Z",
     "iopub.status.busy": "2022-07-22T04:32:05.364633Z",
     "iopub.status.idle": "2022-07-22T04:32:05.382141Z",
     "shell.execute_reply": "2022-07-22T04:32:05.381590Z"
    },
    "papermill": {
     "duration": 0.027061,
     "end_time": "2022-07-22T04:32:05.383624",
     "exception": false,
     "start_time": "2022-07-22T04:32:05.356563",
     "status": "completed"
    },
    "tags": []
   },
   "outputs": [],
   "source": [
    "assert spredixcan_genes_models.index.is_unique"
   ]
  },
  {
   "cell_type": "markdown",
   "id": "6caf9d10-eda8-4ad2-8811-a983aa77a25a",
   "metadata": {
    "papermill": {
     "duration": 0.007566,
     "end_time": "2022-07-22T04:32:05.398965",
     "exception": false,
     "start_time": "2022-07-22T04:32:05.391399",
     "status": "completed"
    },
    "tags": []
   },
   "source": [
    "## Get common genes"
   ]
  },
  {
   "cell_type": "code",
   "execution_count": 20,
   "id": "f8d1e317-1cc8-4bdf-bbe9-c3b0a5478359",
   "metadata": {
    "execution": {
     "iopub.execute_input": "2022-07-22T04:32:05.415283Z",
     "iopub.status.busy": "2022-07-22T04:32:05.414748Z",
     "iopub.status.idle": "2022-07-22T04:32:05.431119Z",
     "shell.execute_reply": "2022-07-22T04:32:05.430576Z"
    },
    "papermill": {
     "duration": 0.025983,
     "end_time": "2022-07-22T04:32:05.432516",
     "exception": false,
     "start_time": "2022-07-22T04:32:05.406533",
     "status": "completed"
    },
    "tags": []
   },
   "outputs": [],
   "source": [
    "with open(INPUT_DIR / \"common_genes.pkl\", \"rb\") as handle:\n",
    "    common_genes = pickle.load(handle)"
   ]
  },
  {
   "cell_type": "code",
   "execution_count": 21,
   "id": "ce9506aa-2f38-4e46-b9c2-84d750fac0da",
   "metadata": {
    "execution": {
     "iopub.execute_input": "2022-07-22T04:32:05.448347Z",
     "iopub.status.busy": "2022-07-22T04:32:05.447882Z",
     "iopub.status.idle": "2022-07-22T04:32:05.464059Z",
     "shell.execute_reply": "2022-07-22T04:32:05.463542Z"
    },
    "papermill": {
     "duration": 0.025295,
     "end_time": "2022-07-22T04:32:05.465345",
     "exception": false,
     "start_time": "2022-07-22T04:32:05.440050",
     "status": "completed"
    },
    "tags": []
   },
   "outputs": [
    {
     "data": {
      "text/plain": [
       "6444"
      ]
     },
     "execution_count": 21,
     "metadata": {},
     "output_type": "execute_result"
    }
   ],
   "source": [
    "len(common_genes)"
   ]
  },
  {
   "cell_type": "code",
   "execution_count": 22,
   "id": "f525a698-506a-48e0-9aee-1aca62def5dd",
   "metadata": {
    "execution": {
     "iopub.execute_input": "2022-07-22T04:32:05.480532Z",
     "iopub.status.busy": "2022-07-22T04:32:05.480219Z",
     "iopub.status.idle": "2022-07-22T04:32:05.498966Z",
     "shell.execute_reply": "2022-07-22T04:32:05.498399Z"
    },
    "papermill": {
     "duration": 0.027812,
     "end_time": "2022-07-22T04:32:05.500373",
     "exception": false,
     "start_time": "2022-07-22T04:32:05.472561",
     "status": "completed"
    },
    "tags": []
   },
   "outputs": [
    {
     "data": {
      "text/plain": [
       "['A2M', 'AAAS', 'AANAT', 'AARS', 'AARS2']"
      ]
     },
     "execution_count": 22,
     "metadata": {},
     "output_type": "execute_result"
    }
   ],
   "source": [
    "sorted(list(common_genes))[:5]"
   ]
  },
  {
   "cell_type": "markdown",
   "id": "a5b5092c-a13e-47c4-a92a-480fcc08f3ae",
   "metadata": {
    "papermill": {
     "duration": 0.007638,
     "end_time": "2022-07-22T04:32:05.515818",
     "exception": false,
     "start_time": "2022-07-22T04:32:05.508180",
     "status": "completed"
    },
    "tags": []
   },
   "source": [
    "## Gene info"
   ]
  },
  {
   "cell_type": "code",
   "execution_count": 23,
   "id": "7d6bb224-88e9-4358-ac10-43a41d92cdad",
   "metadata": {
    "execution": {
     "iopub.execute_input": "2022-07-22T04:32:05.531476Z",
     "iopub.status.busy": "2022-07-22T04:32:05.531009Z",
     "iopub.status.idle": "2022-07-22T04:32:05.548997Z",
     "shell.execute_reply": "2022-07-22T04:32:05.548555Z"
    },
    "papermill": {
     "duration": 0.027129,
     "end_time": "2022-07-22T04:32:05.550325",
     "exception": false,
     "start_time": "2022-07-22T04:32:05.523196",
     "status": "completed"
    },
    "tags": []
   },
   "outputs": [],
   "source": [
    "genes_info = pd.read_pickle(INPUT_DIR / \"genes_info.pkl\")"
   ]
  },
  {
   "cell_type": "code",
   "execution_count": 24,
   "id": "9e32abfa-546d-483e-8c18-d526e9e05903",
   "metadata": {
    "execution": {
     "iopub.execute_input": "2022-07-22T04:32:05.578777Z",
     "iopub.status.busy": "2022-07-22T04:32:05.578602Z",
     "iopub.status.idle": "2022-07-22T04:32:05.595950Z",
     "shell.execute_reply": "2022-07-22T04:32:05.595467Z"
    },
    "papermill": {
     "duration": 0.035083,
     "end_time": "2022-07-22T04:32:05.597316",
     "exception": false,
     "start_time": "2022-07-22T04:32:05.562233",
     "status": "completed"
    },
    "tags": []
   },
   "outputs": [
    {
     "data": {
      "text/plain": [
       "(6444, 7)"
      ]
     },
     "execution_count": 24,
     "metadata": {},
     "output_type": "execute_result"
    }
   ],
   "source": [
    "genes_info.shape"
   ]
  },
  {
   "cell_type": "code",
   "execution_count": 25,
   "id": "d16c3e92-85ec-468a-9a56-e25a9774a1cb",
   "metadata": {
    "execution": {
     "iopub.execute_input": "2022-07-22T04:32:05.613897Z",
     "iopub.status.busy": "2022-07-22T04:32:05.613724Z",
     "iopub.status.idle": "2022-07-22T04:32:05.635227Z",
     "shell.execute_reply": "2022-07-22T04:32:05.634774Z"
    },
    "papermill": {
     "duration": 0.031183,
     "end_time": "2022-07-22T04:32:05.636464",
     "exception": false,
     "start_time": "2022-07-22T04:32:05.605281",
     "status": "completed"
    },
    "tags": []
   },
   "outputs": [
    {
     "data": {
      "text/html": [
       "<div>\n",
       "<style scoped>\n",
       "    .dataframe tbody tr th:only-of-type {\n",
       "        vertical-align: middle;\n",
       "    }\n",
       "\n",
       "    .dataframe tbody tr th {\n",
       "        vertical-align: top;\n",
       "    }\n",
       "\n",
       "    .dataframe thead th {\n",
       "        text-align: right;\n",
       "    }\n",
       "</style>\n",
       "<table border=\"1\" class=\"dataframe\">\n",
       "  <thead>\n",
       "    <tr style=\"text-align: right;\">\n",
       "      <th></th>\n",
       "      <th>name</th>\n",
       "      <th>id</th>\n",
       "      <th>chr</th>\n",
       "      <th>band</th>\n",
       "      <th>start_position</th>\n",
       "      <th>end_position</th>\n",
       "      <th>gene_length</th>\n",
       "    </tr>\n",
       "  </thead>\n",
       "  <tbody>\n",
       "    <tr>\n",
       "      <th>0</th>\n",
       "      <td>MFN2</td>\n",
       "      <td>ENSG00000116688</td>\n",
       "      <td>1</td>\n",
       "      <td>1p36.22</td>\n",
       "      <td>11980181.0</td>\n",
       "      <td>12013514.0</td>\n",
       "      <td>33333.0</td>\n",
       "    </tr>\n",
       "    <tr>\n",
       "      <th>1</th>\n",
       "      <td>PPA2</td>\n",
       "      <td>ENSG00000138777</td>\n",
       "      <td>4</td>\n",
       "      <td>4q24</td>\n",
       "      <td>105369077.0</td>\n",
       "      <td>105474067.0</td>\n",
       "      <td>104990.0</td>\n",
       "    </tr>\n",
       "    <tr>\n",
       "      <th>2</th>\n",
       "      <td>ADRA2A</td>\n",
       "      <td>ENSG00000150594</td>\n",
       "      <td>10</td>\n",
       "      <td>10q25.2</td>\n",
       "      <td>111077163.0</td>\n",
       "      <td>111080907.0</td>\n",
       "      <td>3744.0</td>\n",
       "    </tr>\n",
       "    <tr>\n",
       "      <th>3</th>\n",
       "      <td>RYR2</td>\n",
       "      <td>ENSG00000198626</td>\n",
       "      <td>1</td>\n",
       "      <td>1q43</td>\n",
       "      <td>237042184.0</td>\n",
       "      <td>237833988.0</td>\n",
       "      <td>791804.0</td>\n",
       "    </tr>\n",
       "    <tr>\n",
       "      <th>4</th>\n",
       "      <td>VAV2</td>\n",
       "      <td>ENSG00000160293</td>\n",
       "      <td>9</td>\n",
       "      <td>9q34.2</td>\n",
       "      <td>133761894.0</td>\n",
       "      <td>133992604.0</td>\n",
       "      <td>230710.0</td>\n",
       "    </tr>\n",
       "  </tbody>\n",
       "</table>\n",
       "</div>"
      ],
      "text/plain": [
       "     name               id chr     band  start_position  end_position  \\\n",
       "0    MFN2  ENSG00000116688   1  1p36.22      11980181.0    12013514.0   \n",
       "1    PPA2  ENSG00000138777   4     4q24     105369077.0   105474067.0   \n",
       "2  ADRA2A  ENSG00000150594  10  10q25.2     111077163.0   111080907.0   \n",
       "3    RYR2  ENSG00000198626   1     1q43     237042184.0   237833988.0   \n",
       "4    VAV2  ENSG00000160293   9   9q34.2     133761894.0   133992604.0   \n",
       "\n",
       "   gene_length  \n",
       "0      33333.0  \n",
       "1     104990.0  \n",
       "2       3744.0  \n",
       "3     791804.0  \n",
       "4     230710.0  "
      ]
     },
     "execution_count": 25,
     "metadata": {},
     "output_type": "execute_result"
    }
   ],
   "source": [
    "genes_info.head()"
   ]
  },
  {
   "cell_type": "markdown",
   "id": "d3843e06",
   "metadata": {
    "papermill": {
     "duration": 0.008322,
     "end_time": "2022-07-22T04:32:05.652349",
     "exception": false,
     "start_time": "2022-07-22T04:32:05.644027",
     "status": "completed"
    },
    "tags": []
   },
   "source": [
    "# Compute correlations"
   ]
  },
  {
   "cell_type": "code",
   "execution_count": 26,
   "id": "cb859c15-d1f3-4006-a74c-2b83c0db9611",
   "metadata": {
    "execution": {
     "iopub.execute_input": "2022-07-22T04:32:05.668314Z",
     "iopub.status.busy": "2022-07-22T04:32:05.667756Z",
     "iopub.status.idle": "2022-07-22T04:32:05.683093Z",
     "shell.execute_reply": "2022-07-22T04:32:05.682632Z"
    },
    "papermill": {
     "duration": 0.024514,
     "end_time": "2022-07-22T04:32:05.684328",
     "exception": false,
     "start_time": "2022-07-22T04:32:05.659814",
     "status": "completed"
    },
    "tags": []
   },
   "outputs": [
    {
     "data": {
      "text/plain": [
       "PosixPath('/opt/data/results/gls/gene_corrs/cohorts/1000g_eur/1000g/mashr/by_chr/gene_corrs-chr14.pkl')"
      ]
     },
     "metadata": {},
     "output_type": "display_data"
    }
   ],
   "source": [
    "output_dir = OUTPUT_DIR_BASE / \"by_chr\"\n",
    "output_dir.mkdir(exist_ok=True, parents=True)\n",
    "output_file = output_dir / f\"gene_corrs-chr{CHROMOSOME}.pkl\"\n",
    "display(output_file)"
   ]
  },
  {
   "cell_type": "code",
   "execution_count": 27,
   "id": "aa674fe4-6794-4eed-98fa-32b39d1d4ace",
   "metadata": {
    "execution": {
     "iopub.execute_input": "2022-07-22T04:32:05.700635Z",
     "iopub.status.busy": "2022-07-22T04:32:05.700333Z",
     "iopub.status.idle": "2022-07-22T04:32:05.717980Z",
     "shell.execute_reply": "2022-07-22T04:32:05.716623Z"
    },
    "papermill": {
     "duration": 0.027484,
     "end_time": "2022-07-22T04:32:05.719554",
     "exception": false,
     "start_time": "2022-07-22T04:32:05.692070",
     "status": "completed"
    },
    "tags": []
   },
   "outputs": [],
   "source": [
    "warnings.filterwarnings(\"error\")"
   ]
  },
  {
   "cell_type": "code",
   "execution_count": 28,
   "id": "44d5450b-3baf-43f1-9e2e-4b06f1a785f8",
   "metadata": {
    "execution": {
     "iopub.execute_input": "2022-07-22T04:32:05.736352Z",
     "iopub.status.busy": "2022-07-22T04:32:05.736181Z",
     "iopub.status.idle": "2022-07-22T04:32:05.753935Z",
     "shell.execute_reply": "2022-07-22T04:32:05.753496Z"
    },
    "papermill": {
     "duration": 0.027814,
     "end_time": "2022-07-22T04:32:05.755291",
     "exception": false,
     "start_time": "2022-07-22T04:32:05.727477",
     "status": "completed"
    },
    "tags": []
   },
   "outputs": [],
   "source": [
    "# standard checks\n",
    "all_chrs = genes_info[\"chr\"].dropna().unique()\n",
    "assert all_chrs.shape[0] == 22\n",
    "\n",
    "# select chromosome given by the user\n",
    "assert CHROMOSOME in all_chrs"
   ]
  },
  {
   "cell_type": "code",
   "execution_count": 29,
   "id": "2d7c043c-92a7-4d35-991b-fa69ac1e0268",
   "metadata": {
    "execution": {
     "iopub.execute_input": "2022-07-22T04:32:05.771822Z",
     "iopub.status.busy": "2022-07-22T04:32:05.771471Z",
     "iopub.status.idle": "2022-07-22T04:32:05.787516Z",
     "shell.execute_reply": "2022-07-22T04:32:05.787053Z"
    },
    "papermill": {
     "duration": 0.025659,
     "end_time": "2022-07-22T04:32:05.788786",
     "exception": false,
     "start_time": "2022-07-22T04:32:05.763127",
     "status": "completed"
    },
    "tags": []
   },
   "outputs": [
    {
     "name": "stdout",
     "output_type": "stream",
     "text": [
      "Number of genes in chromosome: 209\n"
     ]
    }
   ],
   "source": [
    "# run only on the chromosome specified\n",
    "all_chrs = [CHROMOSOME]\n",
    "genes_chr = genes_info[genes_info[\"chr\"] == CHROMOSOME]\n",
    "\n",
    "# For testing purposes\n",
    "# genes_chr = genes_chr.sample(n=20)\n",
    "\n",
    "print(f\"Number of genes in chromosome: {genes_chr.shape[0]}\", flush=True)"
   ]
  },
  {
   "cell_type": "code",
   "execution_count": 30,
   "id": "916015d8-2979-46d3-a9b9-1cf5a0932c6a",
   "metadata": {
    "execution": {
     "iopub.execute_input": "2022-07-22T04:32:05.805478Z",
     "iopub.status.busy": "2022-07-22T04:32:05.805267Z",
     "iopub.status.idle": "2022-07-22T04:32:05.819837Z",
     "shell.execute_reply": "2022-07-22T04:32:05.819356Z"
    },
    "papermill": {
     "duration": 0.024225,
     "end_time": "2022-07-22T04:32:05.821168",
     "exception": false,
     "start_time": "2022-07-22T04:32:05.796943",
     "status": "completed"
    },
    "tags": []
   },
   "outputs": [],
   "source": [
    "# sort genes by starting position to make visualizations better later\n",
    "genes_chr = genes_chr.sort_values(\"start_position\")"
   ]
  },
  {
   "cell_type": "code",
   "execution_count": 31,
   "id": "a38aa74a-8ad3-47f6-8ef9-56be0e011774",
   "metadata": {
    "execution": {
     "iopub.execute_input": "2022-07-22T04:32:05.837539Z",
     "iopub.status.busy": "2022-07-22T04:32:05.837282Z",
     "iopub.status.idle": "2022-07-22T04:32:05.851996Z",
     "shell.execute_reply": "2022-07-22T04:32:05.851551Z"
    },
    "papermill": {
     "duration": 0.024377,
     "end_time": "2022-07-22T04:32:05.853369",
     "exception": false,
     "start_time": "2022-07-22T04:32:05.828992",
     "status": "completed"
    },
    "tags": []
   },
   "outputs": [],
   "source": [
    "gene_chr_objs = [Gene(ensembl_id=gene_id) for gene_id in genes_chr[\"id\"]]"
   ]
  },
  {
   "cell_type": "code",
   "execution_count": 32,
   "id": "570f974f-13c3-42b6-ad3a-ce99ca885c1a",
   "metadata": {
    "execution": {
     "iopub.execute_input": "2022-07-22T04:32:05.869991Z",
     "iopub.status.busy": "2022-07-22T04:32:05.869784Z",
     "iopub.status.idle": "2022-07-22T04:32:05.884867Z",
     "shell.execute_reply": "2022-07-22T04:32:05.884387Z"
    },
    "papermill": {
     "duration": 0.024678,
     "end_time": "2022-07-22T04:32:05.886150",
     "exception": false,
     "start_time": "2022-07-22T04:32:05.861472",
     "status": "completed"
    },
    "tags": []
   },
   "outputs": [
    {
     "name": "stdout",
     "output_type": "stream",
     "text": [
      "Number of gene combinations: 21736\n"
     ]
    }
   ],
   "source": [
    "n = len(gene_chr_objs)\n",
    "n_comb = int(n * (n - 1) / 2.0)\n",
    "print(f\"Number of gene combinations: {n_comb}\", flush=True)"
   ]
  },
  {
   "cell_type": "code",
   "execution_count": 33,
   "id": "cdbb90a1",
   "metadata": {
    "execution": {
     "iopub.execute_input": "2022-07-22T04:32:05.902974Z",
     "iopub.status.busy": "2022-07-22T04:32:05.902661Z",
     "iopub.status.idle": "2022-07-22T04:37:30.384643Z",
     "shell.execute_reply": "2022-07-22T04:37:30.384206Z"
    },
    "papermill": {
     "duration": 324.49188,
     "end_time": "2022-07-22T04:37:30.386045",
     "exception": false,
     "start_time": "2022-07-22T04:32:05.894165",
     "status": "completed"
    },
    "tags": []
   },
   "outputs": [
    {
     "name": "stderr",
     "output_type": "stream",
     "text": [
      "ENSG00000185024 / ENSG00000182979: 100%|██████████████████████| 21736/21736 [05:24<00:00, 66.99it/s]\n"
     ]
    },
    {
     "data": {
      "text/plain": [
       "PosixPath('/opt/data/results/gls/gene_corrs/cohorts/1000g_eur/1000g/mashr/by_chr/gene_corrs-chr14.pkl')"
      ]
     },
     "metadata": {},
     "output_type": "display_data"
    }
   ],
   "source": [
    "gene_corrs = []\n",
    "\n",
    "i = 0\n",
    "with tqdm(ncols=100, total=n_comb) as pbar:\n",
    "    for gene1_idx in range(0, len(gene_chr_objs) - 1):\n",
    "        gene1_obj = gene_chr_objs[gene1_idx]\n",
    "        gene1_tissues = spredixcan_genes_models.loc[gene1_obj.ensembl_id, \"tissue\"]\n",
    "\n",
    "        for gene2_idx in range(gene1_idx + 1, len(gene_chr_objs)):\n",
    "            gene2_obj = gene_chr_objs[gene2_idx]\n",
    "            gene2_tissues = spredixcan_genes_models.loc[gene2_obj.ensembl_id, \"tissue\"]\n",
    "\n",
    "            pbar.set_description(f\"{gene1_obj.ensembl_id} / {gene2_obj.ensembl_id}\")\n",
    "\n",
    "            try:\n",
    "                r = gene1_obj.get_ssm_correlation(\n",
    "                    other_gene=gene2_obj,\n",
    "                    tissues=gene1_tissues,\n",
    "                    other_tissues=gene2_tissues,\n",
    "                    snps_subset=gwas_variants_ids_set,\n",
    "                    condition_number=SMULTIXCAN_CONDITION_NUMBER,\n",
    "                    reference_panel=REFERENCE_PANEL,\n",
    "                    model_type=EQTL_MODEL,\n",
    "                    use_within_distance=COMPUTE_CORRELATIONS_WITHIN_DISTANCE,\n",
    "                )\n",
    "\n",
    "                if r is None:\n",
    "                    # if r is None, it's very likely because:\n",
    "                    #  * one of the genes has no prediction models\n",
    "                    #  * all the SNPs predictors for the gene are not present in the reference\n",
    "                    #    panel\n",
    "\n",
    "                    r = 0.0\n",
    "\n",
    "                gene_corrs.append(r)\n",
    "            except Warning as e:\n",
    "                if not DEBUG_MODE:\n",
    "                    raise e\n",
    "\n",
    "                print(\n",
    "                    f\"RuntimeWarning for genes {gene1_obj.ensembl_id} and {gene2_obj.ensembl_id}\",\n",
    "                    flush=True,\n",
    "                )\n",
    "                print(traceback.format_exc(), flush=True)\n",
    "\n",
    "                gene_corrs.append(np.nan)\n",
    "            except Exception as e:\n",
    "                if not DEBUG_MODE:\n",
    "                    raise e\n",
    "\n",
    "                print(\n",
    "                    f\"Exception for genes {gene1_obj.ensembl_id} and {gene2_obj.ensembl_id}\",\n",
    "                    flush=True,\n",
    "                )\n",
    "                print(traceback.format_exc(), flush=True)\n",
    "\n",
    "                gene_corrs.append(np.nan)\n",
    "\n",
    "            pbar.update(1)\n",
    "\n",
    "# create a pandas series\n",
    "gene_corrs_flat = pd.Series(gene_corrs)\n",
    "\n",
    "# save\n",
    "# FIXME: consider saving only the condenced matrix here. See here for\n",
    "# more details: https://github.com/greenelab/phenoplier/pull/38#discussion_r634600813\n",
    "gene_corrs_data = squareform(np.array(gene_corrs, dtype=np.float64))\n",
    "np.fill_diagonal(gene_corrs_data, 1.0)\n",
    "\n",
    "gene_chr_ids = [g.ensembl_id for g in gene_chr_objs]\n",
    "gene_corrs_df = pd.DataFrame(\n",
    "    data=gene_corrs_data,\n",
    "    index=gene_chr_ids,\n",
    "    columns=gene_chr_ids,\n",
    ")\n",
    "\n",
    "output_dir.mkdir(exist_ok=True, parents=True)\n",
    "display(output_file)\n",
    "\n",
    "gene_corrs_df.to_pickle(output_file)"
   ]
  },
  {
   "cell_type": "markdown",
   "id": "faa67b51-5373-470f-aa72-2ded53fa6dfe",
   "metadata": {
    "papermill": {
     "duration": 0.866582,
     "end_time": "2022-07-22T04:37:32.153370",
     "exception": false,
     "start_time": "2022-07-22T04:37:31.286788",
     "status": "completed"
    },
    "tags": []
   },
   "source": [
    "# Testing"
   ]
  },
  {
   "cell_type": "code",
   "execution_count": 34,
   "id": "14f7d046-4b55-4896-a56b-990127bcc388",
   "metadata": {
    "execution": {
     "iopub.execute_input": "2022-07-22T04:37:33.917167Z",
     "iopub.status.busy": "2022-07-22T04:37:33.916976Z",
     "iopub.status.idle": "2022-07-22T04:37:33.934881Z",
     "shell.execute_reply": "2022-07-22T04:37:33.934322Z"
    },
    "papermill": {
     "duration": 0.946761,
     "end_time": "2022-07-22T04:37:33.936331",
     "exception": false,
     "start_time": "2022-07-22T04:37:32.989570",
     "status": "completed"
    },
    "tags": []
   },
   "outputs": [
    {
     "data": {
      "text/plain": [
       "(209, 209)"
      ]
     },
     "execution_count": 34,
     "metadata": {},
     "output_type": "execute_result"
    }
   ],
   "source": [
    "gene_corrs_df.shape"
   ]
  },
  {
   "cell_type": "code",
   "execution_count": 35,
   "id": "c7d15414-3297-4537-a7c6-7588c0baeb75",
   "metadata": {
    "execution": {
     "iopub.execute_input": "2022-07-22T04:37:35.669894Z",
     "iopub.status.busy": "2022-07-22T04:37:35.669420Z",
     "iopub.status.idle": "2022-07-22T04:37:35.700565Z",
     "shell.execute_reply": "2022-07-22T04:37:35.700100Z"
    },
    "papermill": {
     "duration": 0.900662,
     "end_time": "2022-07-22T04:37:35.701842",
     "exception": false,
     "start_time": "2022-07-22T04:37:34.801180",
     "status": "completed"
    },
    "tags": []
   },
   "outputs": [
    {
     "data": {
      "text/html": [
       "<div>\n",
       "<style scoped>\n",
       "    .dataframe tbody tr th:only-of-type {\n",
       "        vertical-align: middle;\n",
       "    }\n",
       "\n",
       "    .dataframe tbody tr th {\n",
       "        vertical-align: top;\n",
       "    }\n",
       "\n",
       "    .dataframe thead th {\n",
       "        text-align: right;\n",
       "    }\n",
       "</style>\n",
       "<table border=\"1\" class=\"dataframe\">\n",
       "  <thead>\n",
       "    <tr style=\"text-align: right;\">\n",
       "      <th></th>\n",
       "      <th>ENSG00000136319</th>\n",
       "      <th>ENSG00000129484</th>\n",
       "      <th>ENSG00000129566</th>\n",
       "      <th>ENSG00000100823</th>\n",
       "      <th>ENSG00000198805</th>\n",
       "      <th>ENSG00000214274</th>\n",
       "      <th>ENSG00000258818</th>\n",
       "      <th>ENSG00000169413</th>\n",
       "      <th>ENSG00000169397</th>\n",
       "      <th>ENSG00000169385</th>\n",
       "      <th>...</th>\n",
       "      <th>ENSG00000126215</th>\n",
       "      <th>ENSG00000088808</th>\n",
       "      <th>ENSG00000066735</th>\n",
       "      <th>ENSG00000185100</th>\n",
       "      <th>ENSG00000142208</th>\n",
       "      <th>ENSG00000166428</th>\n",
       "      <th>ENSG00000183484</th>\n",
       "      <th>ENSG00000184916</th>\n",
       "      <th>ENSG00000185024</th>\n",
       "      <th>ENSG00000182979</th>\n",
       "    </tr>\n",
       "  </thead>\n",
       "  <tbody>\n",
       "    <tr>\n",
       "      <th>ENSG00000136319</th>\n",
       "      <td>1.000000</td>\n",
       "      <td>0.419074</td>\n",
       "      <td>0.016664</td>\n",
       "      <td>0.012118</td>\n",
       "      <td>0.004729</td>\n",
       "      <td>0.008026</td>\n",
       "      <td>0.007009</td>\n",
       "      <td>0.012458</td>\n",
       "      <td>0.010864</td>\n",
       "      <td>0.010334</td>\n",
       "      <td>...</td>\n",
       "      <td>0.0</td>\n",
       "      <td>0.0</td>\n",
       "      <td>0.0</td>\n",
       "      <td>0.0</td>\n",
       "      <td>0.0</td>\n",
       "      <td>0.0</td>\n",
       "      <td>0.0</td>\n",
       "      <td>0.0</td>\n",
       "      <td>0.0</td>\n",
       "      <td>0.0</td>\n",
       "    </tr>\n",
       "    <tr>\n",
       "      <th>ENSG00000129484</th>\n",
       "      <td>0.419074</td>\n",
       "      <td>1.000000</td>\n",
       "      <td>0.020049</td>\n",
       "      <td>0.008024</td>\n",
       "      <td>0.006075</td>\n",
       "      <td>0.009880</td>\n",
       "      <td>0.007815</td>\n",
       "      <td>0.007987</td>\n",
       "      <td>0.005828</td>\n",
       "      <td>0.009660</td>\n",
       "      <td>...</td>\n",
       "      <td>0.0</td>\n",
       "      <td>0.0</td>\n",
       "      <td>0.0</td>\n",
       "      <td>0.0</td>\n",
       "      <td>0.0</td>\n",
       "      <td>0.0</td>\n",
       "      <td>0.0</td>\n",
       "      <td>0.0</td>\n",
       "      <td>0.0</td>\n",
       "      <td>0.0</td>\n",
       "    </tr>\n",
       "    <tr>\n",
       "      <th>ENSG00000129566</th>\n",
       "      <td>0.016664</td>\n",
       "      <td>0.020049</td>\n",
       "      <td>1.000000</td>\n",
       "      <td>0.073406</td>\n",
       "      <td>0.022526</td>\n",
       "      <td>0.011225</td>\n",
       "      <td>0.009912</td>\n",
       "      <td>0.012395</td>\n",
       "      <td>0.005955</td>\n",
       "      <td>0.009182</td>\n",
       "      <td>...</td>\n",
       "      <td>0.0</td>\n",
       "      <td>0.0</td>\n",
       "      <td>0.0</td>\n",
       "      <td>0.0</td>\n",
       "      <td>0.0</td>\n",
       "      <td>0.0</td>\n",
       "      <td>0.0</td>\n",
       "      <td>0.0</td>\n",
       "      <td>0.0</td>\n",
       "      <td>0.0</td>\n",
       "    </tr>\n",
       "    <tr>\n",
       "      <th>ENSG00000100823</th>\n",
       "      <td>0.012118</td>\n",
       "      <td>0.008024</td>\n",
       "      <td>0.073406</td>\n",
       "      <td>1.000000</td>\n",
       "      <td>0.273603</td>\n",
       "      <td>0.011445</td>\n",
       "      <td>0.009452</td>\n",
       "      <td>0.010661</td>\n",
       "      <td>0.013565</td>\n",
       "      <td>0.010577</td>\n",
       "      <td>...</td>\n",
       "      <td>0.0</td>\n",
       "      <td>0.0</td>\n",
       "      <td>0.0</td>\n",
       "      <td>0.0</td>\n",
       "      <td>0.0</td>\n",
       "      <td>0.0</td>\n",
       "      <td>0.0</td>\n",
       "      <td>0.0</td>\n",
       "      <td>0.0</td>\n",
       "      <td>0.0</td>\n",
       "    </tr>\n",
       "    <tr>\n",
       "      <th>ENSG00000198805</th>\n",
       "      <td>0.004729</td>\n",
       "      <td>0.006075</td>\n",
       "      <td>0.022526</td>\n",
       "      <td>0.273603</td>\n",
       "      <td>1.000000</td>\n",
       "      <td>0.011463</td>\n",
       "      <td>0.006022</td>\n",
       "      <td>0.012083</td>\n",
       "      <td>0.012789</td>\n",
       "      <td>0.005912</td>\n",
       "      <td>...</td>\n",
       "      <td>0.0</td>\n",
       "      <td>0.0</td>\n",
       "      <td>0.0</td>\n",
       "      <td>0.0</td>\n",
       "      <td>0.0</td>\n",
       "      <td>0.0</td>\n",
       "      <td>0.0</td>\n",
       "      <td>0.0</td>\n",
       "      <td>0.0</td>\n",
       "      <td>0.0</td>\n",
       "    </tr>\n",
       "  </tbody>\n",
       "</table>\n",
       "<p>5 rows × 209 columns</p>\n",
       "</div>"
      ],
      "text/plain": [
       "                 ENSG00000136319  ENSG00000129484  ENSG00000129566  \\\n",
       "ENSG00000136319         1.000000         0.419074         0.016664   \n",
       "ENSG00000129484         0.419074         1.000000         0.020049   \n",
       "ENSG00000129566         0.016664         0.020049         1.000000   \n",
       "ENSG00000100823         0.012118         0.008024         0.073406   \n",
       "ENSG00000198805         0.004729         0.006075         0.022526   \n",
       "\n",
       "                 ENSG00000100823  ENSG00000198805  ENSG00000214274  \\\n",
       "ENSG00000136319         0.012118         0.004729         0.008026   \n",
       "ENSG00000129484         0.008024         0.006075         0.009880   \n",
       "ENSG00000129566         0.073406         0.022526         0.011225   \n",
       "ENSG00000100823         1.000000         0.273603         0.011445   \n",
       "ENSG00000198805         0.273603         1.000000         0.011463   \n",
       "\n",
       "                 ENSG00000258818  ENSG00000169413  ENSG00000169397  \\\n",
       "ENSG00000136319         0.007009         0.012458         0.010864   \n",
       "ENSG00000129484         0.007815         0.007987         0.005828   \n",
       "ENSG00000129566         0.009912         0.012395         0.005955   \n",
       "ENSG00000100823         0.009452         0.010661         0.013565   \n",
       "ENSG00000198805         0.006022         0.012083         0.012789   \n",
       "\n",
       "                 ENSG00000169385  ...  ENSG00000126215  ENSG00000088808  \\\n",
       "ENSG00000136319         0.010334  ...              0.0              0.0   \n",
       "ENSG00000129484         0.009660  ...              0.0              0.0   \n",
       "ENSG00000129566         0.009182  ...              0.0              0.0   \n",
       "ENSG00000100823         0.010577  ...              0.0              0.0   \n",
       "ENSG00000198805         0.005912  ...              0.0              0.0   \n",
       "\n",
       "                 ENSG00000066735  ENSG00000185100  ENSG00000142208  \\\n",
       "ENSG00000136319              0.0              0.0              0.0   \n",
       "ENSG00000129484              0.0              0.0              0.0   \n",
       "ENSG00000129566              0.0              0.0              0.0   \n",
       "ENSG00000100823              0.0              0.0              0.0   \n",
       "ENSG00000198805              0.0              0.0              0.0   \n",
       "\n",
       "                 ENSG00000166428  ENSG00000183484  ENSG00000184916  \\\n",
       "ENSG00000136319              0.0              0.0              0.0   \n",
       "ENSG00000129484              0.0              0.0              0.0   \n",
       "ENSG00000129566              0.0              0.0              0.0   \n",
       "ENSG00000100823              0.0              0.0              0.0   \n",
       "ENSG00000198805              0.0              0.0              0.0   \n",
       "\n",
       "                 ENSG00000185024  ENSG00000182979  \n",
       "ENSG00000136319              0.0              0.0  \n",
       "ENSG00000129484              0.0              0.0  \n",
       "ENSG00000129566              0.0              0.0  \n",
       "ENSG00000100823              0.0              0.0  \n",
       "ENSG00000198805              0.0              0.0  \n",
       "\n",
       "[5 rows x 209 columns]"
      ]
     },
     "execution_count": 35,
     "metadata": {},
     "output_type": "execute_result"
    }
   ],
   "source": [
    "gene_corrs_df.head()"
   ]
  },
  {
   "cell_type": "markdown",
   "id": "dad6603f-01c6-41fb-a6f6-241051207dd8",
   "metadata": {
    "papermill": {
     "duration": 0.859251,
     "end_time": "2022-07-22T04:37:37.384668",
     "exception": false,
     "start_time": "2022-07-22T04:37:36.525417",
     "status": "completed"
    },
    "tags": []
   },
   "source": [
    "## Standard checks and stats"
   ]
  },
  {
   "cell_type": "code",
   "execution_count": 36,
   "id": "286686af-1b7b-4440-8453-6bdcbd8de19c",
   "metadata": {
    "execution": {
     "iopub.execute_input": "2022-07-22T04:37:39.116325Z",
     "iopub.status.busy": "2022-07-22T04:37:39.115998Z",
     "iopub.status.idle": "2022-07-22T04:37:39.132576Z",
     "shell.execute_reply": "2022-07-22T04:37:39.131927Z"
    },
    "papermill": {
     "duration": 0.895924,
     "end_time": "2022-07-22T04:37:39.133994",
     "exception": false,
     "start_time": "2022-07-22T04:37:38.238070",
     "status": "completed"
    },
    "tags": []
   },
   "outputs": [],
   "source": [
    "assert not gene_corrs_df.isna().any().any()"
   ]
  },
  {
   "cell_type": "code",
   "execution_count": 37,
   "id": "00583efc-7068-4270-ad1e-4a418e91db96",
   "metadata": {
    "execution": {
     "iopub.execute_input": "2022-07-22T04:37:40.869174Z",
     "iopub.status.busy": "2022-07-22T04:37:40.868989Z",
     "iopub.status.idle": "2022-07-22T04:37:40.887118Z",
     "shell.execute_reply": "2022-07-22T04:37:40.886109Z"
    },
    "papermill": {
     "duration": 0.893789,
     "end_time": "2022-07-22T04:37:40.888389",
     "exception": false,
     "start_time": "2022-07-22T04:37:39.994600",
     "status": "completed"
    },
    "tags": []
   },
   "outputs": [
    {
     "data": {
      "text/plain": [
       "0.0"
      ]
     },
     "metadata": {},
     "output_type": "display_data"
    }
   ],
   "source": [
    "_min_val = gene_corrs_df.min().min()\n",
    "display(_min_val)\n",
    "assert _min_val >= 0.0"
   ]
  },
  {
   "cell_type": "code",
   "execution_count": 38,
   "id": "d04fb2cf-1050-475b-b855-f5f7cc04092b",
   "metadata": {
    "execution": {
     "iopub.execute_input": "2022-07-22T04:37:42.607166Z",
     "iopub.status.busy": "2022-07-22T04:37:42.606755Z",
     "iopub.status.idle": "2022-07-22T04:37:42.624215Z",
     "shell.execute_reply": "2022-07-22T04:37:42.623763Z"
    },
    "papermill": {
     "duration": 0.881378,
     "end_time": "2022-07-22T04:37:42.625455",
     "exception": false,
     "start_time": "2022-07-22T04:37:41.744077",
     "status": "completed"
    },
    "tags": []
   },
   "outputs": [
    {
     "data": {
      "text/plain": [
       "1.0"
      ]
     },
     "metadata": {},
     "output_type": "display_data"
    }
   ],
   "source": [
    "_max_val = gene_corrs_df.max().max()  # this captures the diagonal\n",
    "display(_max_val)\n",
    "assert _max_val <= 1.0"
   ]
  },
  {
   "cell_type": "code",
   "execution_count": 39,
   "id": "96d02c44-1fba-47be-8a93-8f2608420b9c",
   "metadata": {
    "execution": {
     "iopub.execute_input": "2022-07-22T04:37:44.382885Z",
     "iopub.status.busy": "2022-07-22T04:37:44.382572Z",
     "iopub.status.idle": "2022-07-22T04:37:44.397939Z",
     "shell.execute_reply": "2022-07-22T04:37:44.397520Z"
    },
    "papermill": {
     "duration": 0.896108,
     "end_time": "2022-07-22T04:37:44.399309",
     "exception": false,
     "start_time": "2022-07-22T04:37:43.503201",
     "status": "completed"
    },
    "tags": []
   },
   "outputs": [],
   "source": [
    "# check upper triangular values\n",
    "assert len(gene_corrs) == int(genes_chr.shape[0] * (genes_chr.shape[0] - 1) / 2)"
   ]
  },
  {
   "cell_type": "code",
   "execution_count": 40,
   "id": "fe283586-c348-40e0-8841-f6d97bfb021c",
   "metadata": {
    "execution": {
     "iopub.execute_input": "2022-07-22T04:37:46.086430Z",
     "iopub.status.busy": "2022-07-22T04:37:46.086164Z",
     "iopub.status.idle": "2022-07-22T04:37:46.105915Z",
     "shell.execute_reply": "2022-07-22T04:37:46.105465Z"
    },
    "papermill": {
     "duration": 0.867251,
     "end_time": "2022-07-22T04:37:46.107098",
     "exception": false,
     "start_time": "2022-07-22T04:37:45.239847",
     "status": "completed"
    },
    "tags": []
   },
   "outputs": [
    {
     "data": {
      "text/plain": [
       "count    21736.000000\n",
       "mean         0.004315\n",
       "std          0.034295\n",
       "min          0.000000\n",
       "25%          0.000000\n",
       "50%          0.000000\n",
       "75%          0.000000\n",
       "max          0.964613\n",
       "dtype: float64"
      ]
     },
     "execution_count": 40,
     "metadata": {},
     "output_type": "execute_result"
    }
   ],
   "source": [
    "gene_corrs_flat.describe()"
   ]
  },
  {
   "cell_type": "code",
   "execution_count": 41,
   "id": "b3815678-0f93-4b35-897b-a9d047a2aa78",
   "metadata": {
    "execution": {
     "iopub.execute_input": "2022-07-22T04:37:47.760525Z",
     "iopub.status.busy": "2022-07-22T04:37:47.760305Z",
     "iopub.status.idle": "2022-07-22T04:37:47.779000Z",
     "shell.execute_reply": "2022-07-22T04:37:47.778520Z"
    },
    "papermill": {
     "duration": 0.850891,
     "end_time": "2022-07-22T04:37:47.780261",
     "exception": false,
     "start_time": "2022-07-22T04:37:46.929370",
     "status": "completed"
    },
    "tags": []
   },
   "outputs": [
    {
     "data": {
      "text/plain": [
       "0.00    0.000000\n",
       "0.05    0.000000\n",
       "0.10    0.000000\n",
       "0.15    0.000000\n",
       "0.20    0.000000\n",
       "0.25    0.000000\n",
       "0.30    0.000000\n",
       "0.35    0.000000\n",
       "0.40    0.000000\n",
       "0.45    0.000000\n",
       "0.50    0.000000\n",
       "0.55    0.000000\n",
       "0.60    0.000000\n",
       "0.65    0.000000\n",
       "0.70    0.000000\n",
       "0.75    0.000000\n",
       "0.80    0.000000\n",
       "0.85    0.000000\n",
       "0.90    0.007509\n",
       "0.95    0.012302\n",
       "dtype: float64"
      ]
     },
     "metadata": {},
     "output_type": "display_data"
    }
   ],
   "source": [
    "gene_corrs_quantiles = gene_corrs_flat.quantile(np.arange(0, 1, 0.05))\n",
    "display(gene_corrs_quantiles)"
   ]
  },
  {
   "cell_type": "markdown",
   "id": "87134509-b145-4a10-8bc9-b7e914c2b0fa",
   "metadata": {
    "papermill": {
     "duration": 0.842633,
     "end_time": "2022-07-22T04:37:49.446013",
     "exception": false,
     "start_time": "2022-07-22T04:37:48.603380",
     "status": "completed"
    },
    "tags": []
   },
   "source": [
    "## Positive definiteness"
   ]
  },
  {
   "cell_type": "code",
   "execution_count": 42,
   "id": "07d9a9a1-a4f7-48aa-b916-6d42a8cc6186",
   "metadata": {
    "execution": {
     "iopub.execute_input": "2022-07-22T04:37:51.118488Z",
     "iopub.status.busy": "2022-07-22T04:37:51.118310Z",
     "iopub.status.idle": "2022-07-22T04:37:51.143871Z",
     "shell.execute_reply": "2022-07-22T04:37:51.143457Z"
    },
    "papermill": {
     "duration": 0.864,
     "end_time": "2022-07-22T04:37:51.145146",
     "exception": false,
     "start_time": "2022-07-22T04:37:50.281146",
     "status": "completed"
    },
    "tags": []
   },
   "outputs": [
    {
     "data": {
      "text/plain": [
       "0"
      ]
     },
     "metadata": {},
     "output_type": "display_data"
    },
    {
     "data": {
      "text/plain": [
       "array([], dtype=float64)"
      ]
     },
     "metadata": {},
     "output_type": "display_data"
    }
   ],
   "source": [
    "# print negative eigenvalues\n",
    "eigs = np.linalg.eigvals(gene_corrs_df.to_numpy())\n",
    "display(len(eigs[eigs < 0]))\n",
    "display(eigs[eigs < 0])"
   ]
  },
  {
   "cell_type": "code",
   "execution_count": 43,
   "id": "6e218436-c3c5-4028-8c94-a4fa6260efce",
   "metadata": {
    "execution": {
     "iopub.execute_input": "2022-07-22T04:37:52.859182Z",
     "iopub.status.busy": "2022-07-22T04:37:52.858975Z",
     "iopub.status.idle": "2022-07-22T04:37:52.888322Z",
     "shell.execute_reply": "2022-07-22T04:37:52.887934Z"
    },
    "papermill": {
     "duration": 0.900781,
     "end_time": "2022-07-22T04:37:52.889390",
     "exception": false,
     "start_time": "2022-07-22T04:37:51.988609",
     "status": "completed"
    },
    "tags": []
   },
   "outputs": [
    {
     "name": "stdout",
     "output_type": "stream",
     "text": [
      "Works!\n"
     ]
    }
   ],
   "source": [
    "try:\n",
    "    chol_mat = np.linalg.cholesky(gene_corrs_df.to_numpy())\n",
    "    cov_inv = np.linalg.inv(chol_mat)\n",
    "    print(\"Works!\")\n",
    "except:\n",
    "    print(\"Cholesky decomposition failed\")"
   ]
  },
  {
   "cell_type": "markdown",
   "id": "8e60a080-edb2-4e9c-b2ef-22961693200c",
   "metadata": {
    "papermill": {
     "duration": 0.820843,
     "end_time": "2022-07-22T04:37:54.612583",
     "exception": false,
     "start_time": "2022-07-22T04:37:53.791740",
     "status": "completed"
    },
    "tags": []
   },
   "source": [
    "## Plot: distribution"
   ]
  },
  {
   "cell_type": "code",
   "execution_count": 44,
   "id": "8301126b-a7d4-4744-9c7d-f0f86eb6f54c",
   "metadata": {
    "execution": {
     "iopub.execute_input": "2022-07-22T04:37:56.296739Z",
     "iopub.status.busy": "2022-07-22T04:37:56.296433Z",
     "iopub.status.idle": "2022-07-22T04:37:56.572514Z",
     "shell.execute_reply": "2022-07-22T04:37:56.571936Z"
    },
    "papermill": {
     "duration": 1.09635,
     "end_time": "2022-07-22T04:37:56.573797",
     "exception": false,
     "start_time": "2022-07-22T04:37:55.477447",
     "status": "completed"
    },
    "tags": []
   },
   "outputs": [
    {
     "data": {
      "image/png": "[encoded data removed]",
      "text/plain": [
       "<Figure size 504x504 with 1 Axes>"
      ]
     },
     "metadata": {
      "needs_background": "light"
     },
     "output_type": "display_data"
    }
   ],
   "source": [
    "with sns.plotting_context(\"paper\", font_scale=1.5):\n",
    "    g = sns.displot(gene_corrs_flat, kde=True, height=7)\n",
    "    g.ax.set_title(\n",
    "        f\"Distribution of gene correlation values in chromosome {CHROMOSOME}\"\n",
    "    )"
   ]
  },
  {
   "cell_type": "markdown",
   "id": "cbd52bca-d878-4a2f-b684-5c83aa3038d4",
   "metadata": {
    "papermill": {
     "duration": 0.831063,
     "end_time": "2022-07-22T04:37:58.230525",
     "exception": false,
     "start_time": "2022-07-22T04:37:57.399462",
     "status": "completed"
    },
    "tags": []
   },
   "source": [
    "## Plot: heatmap"
   ]
  },
  {
   "cell_type": "code",
   "execution_count": 45,
   "id": "d03fe63a-c7b2-4fb9-a53c-db362ce843c9",
   "metadata": {
    "execution": {
     "iopub.execute_input": "2022-07-22T04:37:59.887474Z",
     "iopub.status.busy": "2022-07-22T04:37:59.887287Z",
     "iopub.status.idle": "2022-07-22T04:37:59.905477Z",
     "shell.execute_reply": "2022-07-22T04:37:59.904975Z"
    },
    "papermill": {
     "duration": 0.838141,
     "end_time": "2022-07-22T04:37:59.906842",
     "exception": false,
     "start_time": "2022-07-22T04:37:59.068701",
     "status": "completed"
    },
    "tags": []
   },
   "outputs": [
    {
     "data": {
      "text/plain": [
       "'0.0 / 0.05'"
      ]
     },
     "metadata": {},
     "output_type": "display_data"
    }
   ],
   "source": [
    "vmin_val = min(0.00, gene_corrs_quantiles[0.10])\n",
    "vmax_val = max(0.05, gene_corrs_quantiles[0.90])\n",
    "display(f\"{vmin_val} / {vmax_val}\")"
   ]
  },
  {
   "cell_type": "code",
   "execution_count": 46,
   "id": "dc41b70b-5bcc-4d9e-9f33-a22c4a94dab5",
   "metadata": {
    "execution": {
     "iopub.execute_input": "2022-07-22T04:38:01.561810Z",
     "iopub.status.busy": "2022-07-22T04:38:01.561624Z",
     "iopub.status.idle": "2022-07-22T04:38:01.769979Z",
     "shell.execute_reply": "2022-07-22T04:38:01.769511Z"
    },
    "papermill": {
     "duration": 1.03006,
     "end_time": "2022-07-22T04:38:01.771923",
     "exception": false,
     "start_time": "2022-07-22T04:38:00.741863",
     "status": "completed"
    },
    "tags": []
   },
   "outputs": [
    {
     "data": {
      "text/plain": [
       "Text(0.5, 1.0, 'Gene correlations in chromosome 14')"
      ]
     },
     "execution_count": 46,
     "metadata": {},
     "output_type": "execute_result"
    },
    {
     "data": {
      "image/png": "[encoded data removed]",
      "text/plain": [
       "<Figure size 720x720 with 2 Axes>"
      ]
     },
     "metadata": {
      "needs_background": "light"
     },
     "output_type": "display_data"
    }
   ],
   "source": [
    "f, ax = plt.subplots(figsize=(10, 10))\n",
    "sns.heatmap(\n",
    "    gene_corrs_df,\n",
    "    xticklabels=False,\n",
    "    yticklabels=False,\n",
    "    square=True,\n",
    "    vmin=vmin_val,\n",
    "    vmax=vmax_val,\n",
    "    cmap=\"rocket_r\",\n",
    "    ax=ax,\n",
    ")\n",
    "ax.set_title(f\"Gene correlations in chromosome {CHROMOSOME}\")"
   ]
  },
  {
   "cell_type": "code",
   "execution_count": null,
   "id": "b25e3ead",
   "metadata": {
    "papermill": {
     "duration": 0.857795,
     "end_time": "2022-07-22T04:38:03.512017",
     "exception": false,
     "start_time": "2022-07-22T04:38:02.654222",
     "status": "completed"
    },
    "tags": []
   },
   "outputs": [],
   "source": []
  }
 ],
 "metadata": {
  "jupytext": {
   "cell_metadata_filter": "all,-execution,-papermill,-trusted",
   "formats": "ipynb,py//py:percent"
  },
  "kernelspec": {
   "display_name": "Python 3 (ipykernel)",
   "language": "python",
   "name": "python3"
  },
  "language_info": {
   "codemirror_mode": {
    "name": "ipython",
    "version": 3
   },
   "file_extension": ".py",
   "mimetype": "text/x-python",
   "name": "python",
   "nbconvert_exporter": "python",
   "pygments_lexer": "ipython3",
   "version": "3.8.13"
  },
  "papermill": {
   "default_parameters": {},
   "duration": 368.975396,
   "end_time": "2022-07-22T04:38:07.379075",
   "environment_variables": {},
   "exception": null,
   "input_path": "nbs/15_gsa_gls/10-gene_expr_correlations.ipynb",
   "output_path": "nbs/15_gsa_gls/gene_corrs/cohorts/1000g_eur/1000g/mashr/10-gene_expr_correlations-chr14.run.ipynb",
   "parameters": {
    "CHROMOSOME": 14,
    "COHORT_NAME": "1000G_EUR",
    "EQTL_MODEL": "MASHR",
    "REFERENCE_PANEL": "1000G"
   },
   "start_time": "2022-07-22T04:31:58.403679",
   "version": "2.2.2"
  }
 },
 "nbformat": 4,
 "nbformat_minor": 5
}
