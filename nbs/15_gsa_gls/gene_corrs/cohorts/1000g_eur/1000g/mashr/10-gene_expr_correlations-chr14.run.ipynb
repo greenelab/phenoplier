{
 "cells": [
  {
   "cell_type": "markdown",
   "id": "7a6632fb",
   "metadata": {
    "papermill": {
     "duration": 0.006156,
     "end_time": "2022-08-08T21:14:03.465620",
     "exception": false,
     "start_time": "2022-08-08T21:14:03.459464",
     "status": "completed"
    },
    "tags": []
   },
   "source": [
    "# Description"
   ]
  },
  {
   "cell_type": "markdown",
   "id": "7097c346",
   "metadata": {
    "papermill": {
     "duration": 0.005335,
     "end_time": "2022-08-08T21:14:03.476321",
     "exception": false,
     "start_time": "2022-08-08T21:14:03.470986",
     "status": "completed"
    },
    "tags": []
   },
   "source": [
    "(Please, take a look at the README.md file in this directory for instructions on how to run this notebook)\n",
    "\n",
    "This notebook computes predicted expression correlations between all genes in the MultiPLIER models.\n",
    "\n",
    "It also has a parameter set for papermill to run on a single chromosome to run in parallel (see under `Settings` below).\n",
    "\n",
    "This notebook is not directly run. See README.md."
   ]
  },
  {
   "cell_type": "markdown",
   "id": "c61d8427",
   "metadata": {
    "papermill": {
     "duration": 0.005274,
     "end_time": "2022-08-08T21:14:03.486905",
     "exception": false,
     "start_time": "2022-08-08T21:14:03.481631",
     "status": "completed"
    },
    "tags": []
   },
   "source": [
    "# Modules"
   ]
  },
  {
   "cell_type": "code",
   "execution_count": 1,
   "id": "bbc0234f",
   "metadata": {
    "execution": {
     "iopub.execute_input": "2022-08-08T21:14:03.500060Z",
     "iopub.status.busy": "2022-08-08T21:14:03.499861Z",
     "iopub.status.idle": "2022-08-08T21:14:03.514240Z",
     "shell.execute_reply": "2022-08-08T21:14:03.513813Z"
    },
    "papermill": {
     "duration": 0.023139,
     "end_time": "2022-08-08T21:14:03.515622",
     "exception": false,
     "start_time": "2022-08-08T21:14:03.492483",
     "status": "completed"
    },
    "tags": []
   },
   "outputs": [],
   "source": [
    "%load_ext autoreload\n",
    "%autoreload 2"
   ]
  },
  {
   "cell_type": "code",
   "execution_count": 2,
   "id": "1d5f5a59",
   "metadata": {
    "execution": {
     "iopub.execute_input": "2022-08-08T21:14:03.527603Z",
     "iopub.status.busy": "2022-08-08T21:14:03.527299Z",
     "iopub.status.idle": "2022-08-08T21:14:04.448063Z",
     "shell.execute_reply": "2022-08-08T21:14:04.447610Z"
    },
    "papermill": {
     "duration": 0.928506,
     "end_time": "2022-08-08T21:14:04.449560",
     "exception": false,
     "start_time": "2022-08-08T21:14:03.521054",
     "status": "completed"
    },
    "tags": []
   },
   "outputs": [],
   "source": [
    "from random import sample, seed\n",
    "import warnings\n",
    "from pathlib import Path\n",
    "import pickle\n",
    "import traceback\n",
    "\n",
    "import numpy as np\n",
    "from scipy.spatial.distance import squareform\n",
    "import pandas as pd\n",
    "from tqdm import tqdm\n",
    "import matplotlib.pyplot as plt\n",
    "import seaborn as sns\n",
    "\n",
    "import conf\n",
    "from entity import Gene"
   ]
  },
  {
   "cell_type": "markdown",
   "id": "1eac24b5",
   "metadata": {
    "papermill": {
     "duration": 0.006518,
     "end_time": "2022-08-08T21:14:04.490751",
     "exception": false,
     "start_time": "2022-08-08T21:14:04.484233",
     "status": "completed"
    },
    "tags": []
   },
   "source": [
    "# Settings"
   ]
  },
  {
   "cell_type": "code",
   "execution_count": 3,
   "id": "ca4560ba",
   "metadata": {
    "execution": {
     "iopub.execute_input": "2022-08-08T21:14:04.505039Z",
     "iopub.status.busy": "2022-08-08T21:14:04.504798Z",
     "iopub.status.idle": "2022-08-08T21:14:04.521872Z",
     "shell.execute_reply": "2022-08-08T21:14:04.521322Z"
    },
    "papermill": {
     "duration": 0.02575,
     "end_time": "2022-08-08T21:14:04.523479",
     "exception": false,
     "start_time": "2022-08-08T21:14:04.497729",
     "status": "completed"
    },
    "tags": [
     "parameters"
    ]
   },
   "outputs": [],
   "source": [
    "# a cohort name (it could be something like UK_BIOBANK, etc)\n",
    "COHORT_NAME = None\n",
    "\n",
    "# reference panel such as 1000G or GTEX_V8\n",
    "REFERENCE_PANEL = None\n",
    "\n",
    "# predictions models such as MASHR or ELASTIC_NET\n",
    "EQTL_MODEL = None\n",
    "\n",
    "# this is the default value used in S-MultiXcan to select the\n",
    "# top principal components of the expression correlation matrix\n",
    "SMULTIXCAN_CONDITION_NUMBER = 30\n",
    "\n",
    "# specifies a single chromosome value\n",
    "CHROMOSOME = None\n",
    "\n",
    "# If True, computes the correlation between closeby genes only;\n",
    "# otherwise, it computes correlations for all genes in a chromosome\n",
    "COMPUTE_CORRELATIONS_WITHIN_DISTANCE = False\n",
    "\n",
    "# if True, then it will continue if a gene pair correlation fails,\n",
    "# printing the warning/error for debugging. If False, any warning/error\n",
    "# will be thrown\n",
    "DEBUG_MODE = False"
   ]
  },
  {
   "cell_type": "code",
   "execution_count": 4,
   "id": "f4003ece",
   "metadata": {
    "execution": {
     "iopub.execute_input": "2022-08-08T21:14:04.536389Z",
     "iopub.status.busy": "2022-08-08T21:14:04.535992Z",
     "iopub.status.idle": "2022-08-08T21:14:04.550831Z",
     "shell.execute_reply": "2022-08-08T21:14:04.550422Z"
    },
    "papermill": {
     "duration": 0.022724,
     "end_time": "2022-08-08T21:14:04.552205",
     "exception": false,
     "start_time": "2022-08-08T21:14:04.529481",
     "status": "completed"
    },
    "tags": [
     "injected-parameters"
    ]
   },
   "outputs": [],
   "source": [
    "# Parameters\n",
    "COHORT_NAME = \"1000G_EUR\"\n",
    "REFERENCE_PANEL = \"1000G\"\n",
    "EQTL_MODEL = \"MASHR\"\n",
    "CHROMOSOME = 14\n"
   ]
  },
  {
   "cell_type": "code",
   "execution_count": 5,
   "id": "3190631f-27fc-480f-b18e-571d580425a5",
   "metadata": {
    "execution": {
     "iopub.execute_input": "2022-08-08T21:14:04.564407Z",
     "iopub.status.busy": "2022-08-08T21:14:04.564162Z",
     "iopub.status.idle": "2022-08-08T21:14:04.580734Z",
     "shell.execute_reply": "2022-08-08T21:14:04.580279Z"
    },
    "papermill": {
     "duration": 0.024229,
     "end_time": "2022-08-08T21:14:04.582275",
     "exception": false,
     "start_time": "2022-08-08T21:14:04.558046",
     "status": "completed"
    },
    "tags": []
   },
   "outputs": [
    {
     "data": {
      "text/plain": [
       "'Cohort name: 1000g_eur'"
      ]
     },
     "metadata": {},
     "output_type": "display_data"
    }
   ],
   "source": [
    "assert COHORT_NAME is not None and len(COHORT_NAME) > 0, \"A cohort name must be given\"\n",
    "\n",
    "COHORT_NAME = COHORT_NAME.lower()\n",
    "display(f\"Cohort name: {COHORT_NAME}\")"
   ]
  },
  {
   "cell_type": "code",
   "execution_count": 6,
   "id": "f53ba19b-0f93-4fa2-a047-63b375939d1a",
   "metadata": {
    "execution": {
     "iopub.execute_input": "2022-08-08T21:14:04.594630Z",
     "iopub.status.busy": "2022-08-08T21:14:04.594429Z",
     "iopub.status.idle": "2022-08-08T21:14:04.609521Z",
     "shell.execute_reply": "2022-08-08T21:14:04.609080Z"
    },
    "papermill": {
     "duration": 0.022658,
     "end_time": "2022-08-08T21:14:04.610795",
     "exception": false,
     "start_time": "2022-08-08T21:14:04.588137",
     "status": "completed"
    },
    "tags": []
   },
   "outputs": [
    {
     "data": {
      "text/plain": [
       "'Reference panel: 1000G'"
      ]
     },
     "metadata": {},
     "output_type": "display_data"
    }
   ],
   "source": [
    "assert (\n",
    "    REFERENCE_PANEL is not None and len(REFERENCE_PANEL) > 0\n",
    "), \"A reference panel must be given\"\n",
    "\n",
    "display(f\"Reference panel: {REFERENCE_PANEL}\")"
   ]
  },
  {
   "cell_type": "code",
   "execution_count": 7,
   "id": "e024d130-c139-429a-9c6e-ccf149e297b0",
   "metadata": {
    "execution": {
     "iopub.execute_input": "2022-08-08T21:14:04.624694Z",
     "iopub.status.busy": "2022-08-08T21:14:04.624484Z",
     "iopub.status.idle": "2022-08-08T21:14:04.640088Z",
     "shell.execute_reply": "2022-08-08T21:14:04.639648Z"
    },
    "papermill": {
     "duration": 0.023523,
     "end_time": "2022-08-08T21:14:04.641324",
     "exception": false,
     "start_time": "2022-08-08T21:14:04.617801",
     "status": "completed"
    },
    "tags": []
   },
   "outputs": [
    {
     "data": {
      "text/plain": [
       "'eQTL model: MASHR) / mashr_'"
      ]
     },
     "metadata": {},
     "output_type": "display_data"
    }
   ],
   "source": [
    "assert (\n",
    "    EQTL_MODEL is not None and len(EQTL_MODEL) > 0\n",
    "), \"A prediction/eQTL model must be given\"\n",
    "\n",
    "EQTL_MODEL_FILES_PREFIX = conf.PHENOMEXCAN[\"PREDICTION_MODELS\"][f\"{EQTL_MODEL}_PREFIX\"]\n",
    "display(f\"eQTL model: {EQTL_MODEL}) / {EQTL_MODEL_FILES_PREFIX}\")"
   ]
  },
  {
   "cell_type": "code",
   "execution_count": 8,
   "id": "552a7f63-a18c-4d3e-bb6a-94f99b431291",
   "metadata": {
    "execution": {
     "iopub.execute_input": "2022-08-08T21:14:04.653691Z",
     "iopub.status.busy": "2022-08-08T21:14:04.653497Z",
     "iopub.status.idle": "2022-08-08T21:14:04.668776Z",
     "shell.execute_reply": "2022-08-08T21:14:04.668335Z"
    },
    "papermill": {
     "duration": 0.022785,
     "end_time": "2022-08-08T21:14:04.670034",
     "exception": false,
     "start_time": "2022-08-08T21:14:04.647249",
     "status": "completed"
    },
    "tags": []
   },
   "outputs": [
    {
     "data": {
      "text/plain": [
       "'S-MultiXcan condition number: 30'"
      ]
     },
     "metadata": {},
     "output_type": "display_data"
    }
   ],
   "source": [
    "assert (\n",
    "    SMULTIXCAN_CONDITION_NUMBER is not None and SMULTIXCAN_CONDITION_NUMBER > 0\n",
    "), \"The S-MultiXcan condition number (positive integer) must be given\"\n",
    "\n",
    "display(f\"S-MultiXcan condition number: {SMULTIXCAN_CONDITION_NUMBER}\")"
   ]
  },
  {
   "cell_type": "code",
   "execution_count": 9,
   "id": "f34a336f-548e-4afe-8955-90eaea4f42c6",
   "metadata": {
    "execution": {
     "iopub.execute_input": "2022-08-08T21:14:04.682731Z",
     "iopub.status.busy": "2022-08-08T21:14:04.682531Z",
     "iopub.status.idle": "2022-08-08T21:14:04.697651Z",
     "shell.execute_reply": "2022-08-08T21:14:04.697185Z"
    },
    "papermill": {
     "duration": 0.022865,
     "end_time": "2022-08-08T21:14:04.698943",
     "exception": false,
     "start_time": "2022-08-08T21:14:04.676078",
     "status": "completed"
    },
    "tags": []
   },
   "outputs": [
    {
     "data": {
      "text/plain": [
       "'Working on chromosome 14'"
      ]
     },
     "metadata": {},
     "output_type": "display_data"
    }
   ],
   "source": [
    "assert CHROMOSOME is not None and (\n",
    "    1 <= CHROMOSOME <= 22\n",
    "), \"You have to select one chromosome (format: number between 1 and 22)\"\n",
    "\n",
    "# CHROMOSOME = str(CHROMOSOME)\n",
    "display(f\"Working on chromosome {CHROMOSOME}\")"
   ]
  },
  {
   "cell_type": "code",
   "execution_count": 10,
   "id": "ab8e96e8-06b5-4363-9dcd-dc4d78cc27f7",
   "metadata": {
    "execution": {
     "iopub.execute_input": "2022-08-08T21:14:04.713325Z",
     "iopub.status.busy": "2022-08-08T21:14:04.713153Z",
     "iopub.status.idle": "2022-08-08T21:14:04.728154Z",
     "shell.execute_reply": "2022-08-08T21:14:04.727716Z"
    },
    "papermill": {
     "duration": 0.023067,
     "end_time": "2022-08-08T21:14:04.729421",
     "exception": false,
     "start_time": "2022-08-08T21:14:04.706354",
     "status": "completed"
    },
    "tags": []
   },
   "outputs": [
    {
     "data": {
      "text/plain": [
       "'Compute correlation within distance False'"
      ]
     },
     "metadata": {},
     "output_type": "display_data"
    }
   ],
   "source": [
    "display(f\"Compute correlation within distance {COMPUTE_CORRELATIONS_WITHIN_DISTANCE}\")"
   ]
  },
  {
   "cell_type": "code",
   "execution_count": 11,
   "id": "396392dc-0340-4540-9b02-e182b833f909",
   "metadata": {
    "execution": {
     "iopub.execute_input": "2022-08-08T21:14:04.742882Z",
     "iopub.status.busy": "2022-08-08T21:14:04.742674Z",
     "iopub.status.idle": "2022-08-08T21:14:04.758238Z",
     "shell.execute_reply": "2022-08-08T21:14:04.757798Z"
    },
    "papermill": {
     "duration": 0.023699,
     "end_time": "2022-08-08T21:14:04.759497",
     "exception": false,
     "start_time": "2022-08-08T21:14:04.735798",
     "status": "completed"
    },
    "tags": []
   },
   "outputs": [
    {
     "data": {
      "text/plain": [
       "'Using output dir base: /opt/data/results/gls/gene_corrs/cohorts/1000g_eur/1000g/mashr'"
      ]
     },
     "metadata": {},
     "output_type": "display_data"
    }
   ],
   "source": [
    "OUTPUT_DIR_BASE = (\n",
    "    conf.RESULTS[\"GLS\"]\n",
    "    / \"gene_corrs\"\n",
    "    / \"cohorts\"\n",
    "    / COHORT_NAME\n",
    "    / REFERENCE_PANEL.lower()\n",
    "    / EQTL_MODEL.lower()\n",
    ")\n",
    "OUTPUT_DIR_BASE.mkdir(parents=True, exist_ok=True)\n",
    "\n",
    "display(f\"Using output dir base: {OUTPUT_DIR_BASE}\")"
   ]
  },
  {
   "cell_type": "markdown",
   "id": "d2ba085e",
   "metadata": {
    "papermill": {
     "duration": 0.005736,
     "end_time": "2022-08-08T21:14:04.771450",
     "exception": false,
     "start_time": "2022-08-08T21:14:04.765714",
     "status": "completed"
    },
    "tags": []
   },
   "source": [
    "# Load data"
   ]
  },
  {
   "cell_type": "markdown",
   "id": "7dcb8db7",
   "metadata": {
    "papermill": {
     "duration": 0.006026,
     "end_time": "2022-08-08T21:14:04.783395",
     "exception": false,
     "start_time": "2022-08-08T21:14:04.777369",
     "status": "completed"
    },
    "tags": []
   },
   "source": [
    "## GWAS variants"
   ]
  },
  {
   "cell_type": "code",
   "execution_count": 12,
   "id": "29434c4e-8cd3-4b9b-82e4-b5a251d9dd19",
   "metadata": {
    "execution": {
     "iopub.execute_input": "2022-08-08T21:14:04.796164Z",
     "iopub.status.busy": "2022-08-08T21:14:04.795828Z",
     "iopub.status.idle": "2022-08-08T21:14:07.409954Z",
     "shell.execute_reply": "2022-08-08T21:14:07.409318Z"
    },
    "papermill": {
     "duration": 2.62248,
     "end_time": "2022-08-08T21:14:07.411787",
     "exception": false,
     "start_time": "2022-08-08T21:14:04.789307",
     "status": "completed"
    },
    "tags": []
   },
   "outputs": [],
   "source": [
    "with open(OUTPUT_DIR_BASE / \"gwas_variant_ids.pkl\", \"rb\") as handle:\n",
    "    gwas_variants_ids_set = pickle.load(handle)"
   ]
  },
  {
   "cell_type": "code",
   "execution_count": 13,
   "id": "b9d9dec2-4a76-4bf9-bde2-e24c95acb8a0",
   "metadata": {
    "execution": {
     "iopub.execute_input": "2022-08-08T21:14:07.427554Z",
     "iopub.status.busy": "2022-08-08T21:14:07.427366Z",
     "iopub.status.idle": "2022-08-08T21:14:07.444190Z",
     "shell.execute_reply": "2022-08-08T21:14:07.443680Z"
    },
    "papermill": {
     "duration": 0.0264,
     "end_time": "2022-08-08T21:14:07.445894",
     "exception": false,
     "start_time": "2022-08-08T21:14:07.419494",
     "status": "completed"
    },
    "tags": []
   },
   "outputs": [
    {
     "data": {
      "text/plain": [
       "8325729"
      ]
     },
     "execution_count": 13,
     "metadata": {},
     "output_type": "execute_result"
    }
   ],
   "source": [
    "len(gwas_variants_ids_set)"
   ]
  },
  {
   "cell_type": "code",
   "execution_count": 14,
   "id": "4235b06a-6034-4ee4-a0a3-2ae35d122418",
   "metadata": {
    "execution": {
     "iopub.execute_input": "2022-08-08T21:14:07.461245Z",
     "iopub.status.busy": "2022-08-08T21:14:07.461024Z",
     "iopub.status.idle": "2022-08-08T21:14:07.953271Z",
     "shell.execute_reply": "2022-08-08T21:14:07.952729Z"
    },
    "papermill": {
     "duration": 0.501256,
     "end_time": "2022-08-08T21:14:07.954681",
     "exception": false,
     "start_time": "2022-08-08T21:14:07.453425",
     "status": "completed"
    },
    "tags": []
   },
   "outputs": [
    {
     "data": {
      "text/plain": [
       "['chr20_45338670_G_A_b38',\n",
       " 'chr10_23590228_A_G_b38',\n",
       " 'chr18_74770678_A_G_b38',\n",
       " 'chr5_180564841_A_G_b38',\n",
       " 'chr18_5801349_T_C_b38']"
      ]
     },
     "execution_count": 14,
     "metadata": {},
     "output_type": "execute_result"
    }
   ],
   "source": [
    "list(gwas_variants_ids_set)[:5]"
   ]
  },
  {
   "cell_type": "markdown",
   "id": "07866999-2305-41f9-a144-e69c9122c212",
   "metadata": {
    "papermill": {
     "duration": 0.013764,
     "end_time": "2022-08-08T21:14:07.985997",
     "exception": false,
     "start_time": "2022-08-08T21:14:07.972233",
     "status": "completed"
    },
    "tags": []
   },
   "source": [
    "## S-PrediXcan tissue models"
   ]
  },
  {
   "cell_type": "code",
   "execution_count": 15,
   "id": "780611d9-77c8-405f-90a4-f271f7b09397",
   "metadata": {
    "execution": {
     "iopub.execute_input": "2022-08-08T21:14:08.006383Z",
     "iopub.status.busy": "2022-08-08T21:14:08.005935Z",
     "iopub.status.idle": "2022-08-08T21:14:08.848040Z",
     "shell.execute_reply": "2022-08-08T21:14:08.847519Z"
    },
    "papermill": {
     "duration": 0.852977,
     "end_time": "2022-08-08T21:14:08.849518",
     "exception": false,
     "start_time": "2022-08-08T21:14:07.996541",
     "status": "completed"
    },
    "tags": []
   },
   "outputs": [],
   "source": [
    "spredixcan_genes_models = pd.read_pickle(OUTPUT_DIR_BASE / \"gene_tissues.pkl\")"
   ]
  },
  {
   "cell_type": "code",
   "execution_count": 16,
   "id": "726dd1f6-9557-4225-91fa-b3b879ea96e1",
   "metadata": {
    "execution": {
     "iopub.execute_input": "2022-08-08T21:14:08.864257Z",
     "iopub.status.busy": "2022-08-08T21:14:08.864045Z",
     "iopub.status.idle": "2022-08-08T21:14:08.881289Z",
     "shell.execute_reply": "2022-08-08T21:14:08.878884Z"
    },
    "papermill": {
     "duration": 0.026018,
     "end_time": "2022-08-08T21:14:08.882547",
     "exception": false,
     "start_time": "2022-08-08T21:14:08.856529",
     "status": "completed"
    },
    "tags": []
   },
   "outputs": [
    {
     "data": {
      "text/plain": [
       "(6442, 10)"
      ]
     },
     "execution_count": 16,
     "metadata": {},
     "output_type": "execute_result"
    }
   ],
   "source": [
    "spredixcan_genes_models.shape"
   ]
  },
  {
   "cell_type": "code",
   "execution_count": 17,
   "id": "944a1b48-222c-4eb0-b252-b9de2cbca215",
   "metadata": {
    "execution": {
     "iopub.execute_input": "2022-08-08T21:14:08.896689Z",
     "iopub.status.busy": "2022-08-08T21:14:08.896523Z",
     "iopub.status.idle": "2022-08-08T21:14:08.924345Z",
     "shell.execute_reply": "2022-08-08T21:14:08.923759Z"
    },
    "papermill": {
     "duration": 0.036389,
     "end_time": "2022-08-08T21:14:08.925621",
     "exception": false,
     "start_time": "2022-08-08T21:14:08.889232",
     "status": "completed"
    },
    "tags": []
   },
   "outputs": [
    {
     "data": {
      "text/html": [
       "<div>\n",
       "<style scoped>\n",
       "    .dataframe tbody tr th:only-of-type {\n",
       "        vertical-align: middle;\n",
       "    }\n",
       "\n",
       "    .dataframe tbody tr th {\n",
       "        vertical-align: top;\n",
       "    }\n",
       "\n",
       "    .dataframe thead th {\n",
       "        text-align: right;\n",
       "    }\n",
       "</style>\n",
       "<table border=\"1\" class=\"dataframe\">\n",
       "  <thead>\n",
       "    <tr style=\"text-align: right;\">\n",
       "      <th></th>\n",
       "      <th>gene_name</th>\n",
       "      <th>tissue</th>\n",
       "      <th>n_tissues</th>\n",
       "      <th>tissues_pc_variances</th>\n",
       "      <th>tissues_pc_variances_cov</th>\n",
       "      <th>tissues_variances</th>\n",
       "      <th>n_snps_used_sum</th>\n",
       "      <th>n_snps_in_model_sum</th>\n",
       "      <th>unique_n_snps_in_model</th>\n",
       "      <th>unique_n_snps_used</th>\n",
       "    </tr>\n",
       "    <tr>\n",
       "      <th>gene_id</th>\n",
       "      <th></th>\n",
       "      <th></th>\n",
       "      <th></th>\n",
       "      <th></th>\n",
       "      <th></th>\n",
       "      <th></th>\n",
       "      <th></th>\n",
       "      <th></th>\n",
       "      <th></th>\n",
       "      <th></th>\n",
       "    </tr>\n",
       "  </thead>\n",
       "  <tbody>\n",
       "    <tr>\n",
       "      <th>ENSG00000000419</th>\n",
       "      <td>DPM1</td>\n",
       "      <td>(Brain_Substantia_nigra, Brain_Hypothalamus)</td>\n",
       "      <td>2</td>\n",
       "      <td>[1.0372585612589562, 0.9627414387410438]</td>\n",
       "      <td>[0.008284978865240098, 0.0007326748393412591]</td>\n",
       "      <td>{'Brain_Hypothalamus': 0.0082838613770255, 'Br...</td>\n",
       "      <td>2</td>\n",
       "      <td>2</td>\n",
       "      <td>2</td>\n",
       "      <td>2</td>\n",
       "    </tr>\n",
       "    <tr>\n",
       "      <th>ENSG00000000938</th>\n",
       "      <td>FGR</td>\n",
       "      <td>(Artery_Aorta, Stomach, Cells_EBV-transformed_...</td>\n",
       "      <td>36</td>\n",
       "      <td>[30.57880701512373, 2.0297326456001104, 1.4017...</td>\n",
       "      <td>[0.22478471249969328, 0.008813873813031791]</td>\n",
       "      <td>{'Adipose_Visceral_Omentum': 0.001932839939705...</td>\n",
       "      <td>40</td>\n",
       "      <td>40</td>\n",
       "      <td>5</td>\n",
       "      <td>5</td>\n",
       "    </tr>\n",
       "    <tr>\n",
       "      <th>ENSG00000000971</th>\n",
       "      <td>CFH</td>\n",
       "      <td>(Artery_Aorta, Stomach, Kidney_Cortex, Brain_C...</td>\n",
       "      <td>34</td>\n",
       "      <td>[20.772608276639335, 8.177158142324833, 1.8646...</td>\n",
       "      <td>[0.1969953427958011, 0.05731825316349161, 0.02...</td>\n",
       "      <td>{'Uterus': 0.00888478850189283, 'Brain_Putamen...</td>\n",
       "      <td>44</td>\n",
       "      <td>44</td>\n",
       "      <td>12</td>\n",
       "      <td>12</td>\n",
       "    </tr>\n",
       "    <tr>\n",
       "      <th>ENSG00000001084</th>\n",
       "      <td>GCLC</td>\n",
       "      <td>(Artery_Aorta, Cells_EBV-transformed_lymphocyt...</td>\n",
       "      <td>32</td>\n",
       "      <td>[20.976449940269102, 4.772354749306767, 2.2362...</td>\n",
       "      <td>[0.3657809638925394, 0.1264541371042455, 0.016...</td>\n",
       "      <td>{'Brain_Putamen_basal_ganglia': 0.022230612685...</td>\n",
       "      <td>46</td>\n",
       "      <td>46</td>\n",
       "      <td>23</td>\n",
       "      <td>23</td>\n",
       "    </tr>\n",
       "    <tr>\n",
       "      <th>ENSG00000001167</th>\n",
       "      <td>NFYA</td>\n",
       "      <td>(Minor_Salivary_Gland, Artery_Aorta, Stomach, ...</td>\n",
       "      <td>40</td>\n",
       "      <td>[37.638369782404986]</td>\n",
       "      <td>[1.4787144508923984, 0.049690618387739166]</td>\n",
       "      <td>{'Adipose_Visceral_Omentum': 0.037274400234795...</td>\n",
       "      <td>47</td>\n",
       "      <td>48</td>\n",
       "      <td>14</td>\n",
       "      <td>13</td>\n",
       "    </tr>\n",
       "  </tbody>\n",
       "</table>\n",
       "</div>"
      ],
      "text/plain": [
       "                gene_name                                             tissue  \\\n",
       "gene_id                                                                        \n",
       "ENSG00000000419      DPM1       (Brain_Substantia_nigra, Brain_Hypothalamus)   \n",
       "ENSG00000000938       FGR  (Artery_Aorta, Stomach, Cells_EBV-transformed_...   \n",
       "ENSG00000000971       CFH  (Artery_Aorta, Stomach, Kidney_Cortex, Brain_C...   \n",
       "ENSG00000001084      GCLC  (Artery_Aorta, Cells_EBV-transformed_lymphocyt...   \n",
       "ENSG00000001167      NFYA  (Minor_Salivary_Gland, Artery_Aorta, Stomach, ...   \n",
       "\n",
       "                 n_tissues                               tissues_pc_variances  \\\n",
       "gene_id                                                                         \n",
       "ENSG00000000419          2           [1.0372585612589562, 0.9627414387410438]   \n",
       "ENSG00000000938         36  [30.57880701512373, 2.0297326456001104, 1.4017...   \n",
       "ENSG00000000971         34  [20.772608276639335, 8.177158142324833, 1.8646...   \n",
       "ENSG00000001084         32  [20.976449940269102, 4.772354749306767, 2.2362...   \n",
       "ENSG00000001167         40                               [37.638369782404986]   \n",
       "\n",
       "                                          tissues_pc_variances_cov  \\\n",
       "gene_id                                                              \n",
       "ENSG00000000419      [0.008284978865240098, 0.0007326748393412591]   \n",
       "ENSG00000000938        [0.22478471249969328, 0.008813873813031791]   \n",
       "ENSG00000000971  [0.1969953427958011, 0.05731825316349161, 0.02...   \n",
       "ENSG00000001084  [0.3657809638925394, 0.1264541371042455, 0.016...   \n",
       "ENSG00000001167         [1.4787144508923984, 0.049690618387739166]   \n",
       "\n",
       "                                                 tissues_variances  \\\n",
       "gene_id                                                              \n",
       "ENSG00000000419  {'Brain_Hypothalamus': 0.0082838613770255, 'Br...   \n",
       "ENSG00000000938  {'Adipose_Visceral_Omentum': 0.001932839939705...   \n",
       "ENSG00000000971  {'Uterus': 0.00888478850189283, 'Brain_Putamen...   \n",
       "ENSG00000001084  {'Brain_Putamen_basal_ganglia': 0.022230612685...   \n",
       "ENSG00000001167  {'Adipose_Visceral_Omentum': 0.037274400234795...   \n",
       "\n",
       "                 n_snps_used_sum  n_snps_in_model_sum  unique_n_snps_in_model  \\\n",
       "gene_id                                                                         \n",
       "ENSG00000000419                2                    2                       2   \n",
       "ENSG00000000938               40                   40                       5   \n",
       "ENSG00000000971               44                   44                      12   \n",
       "ENSG00000001084               46                   46                      23   \n",
       "ENSG00000001167               47                   48                      14   \n",
       "\n",
       "                 unique_n_snps_used  \n",
       "gene_id                              \n",
       "ENSG00000000419                   2  \n",
       "ENSG00000000938                   5  \n",
       "ENSG00000000971                  12  \n",
       "ENSG00000001084                  23  \n",
       "ENSG00000001167                  13  "
      ]
     },
     "execution_count": 17,
     "metadata": {},
     "output_type": "execute_result"
    }
   ],
   "source": [
    "spredixcan_genes_models.head()"
   ]
  },
  {
   "cell_type": "code",
   "execution_count": 18,
   "id": "d1c11bb1-be0b-4f40-b360-633d6827109f",
   "metadata": {
    "execution": {
     "iopub.execute_input": "2022-08-08T21:14:08.940087Z",
     "iopub.status.busy": "2022-08-08T21:14:08.939884Z",
     "iopub.status.idle": "2022-08-08T21:14:08.954544Z",
     "shell.execute_reply": "2022-08-08T21:14:08.954159Z"
    },
    "papermill": {
     "duration": 0.023312,
     "end_time": "2022-08-08T21:14:08.955854",
     "exception": false,
     "start_time": "2022-08-08T21:14:08.932542",
     "status": "completed"
    },
    "tags": []
   },
   "outputs": [],
   "source": [
    "assert spredixcan_genes_models.index.is_unique"
   ]
  },
  {
   "cell_type": "markdown",
   "id": "a5b5092c-a13e-47c4-a92a-480fcc08f3ae",
   "metadata": {
    "papermill": {
     "duration": 0.006659,
     "end_time": "2022-08-08T21:14:08.969206",
     "exception": false,
     "start_time": "2022-08-08T21:14:08.962547",
     "status": "completed"
    },
    "tags": []
   },
   "source": [
    "## Gene info"
   ]
  },
  {
   "cell_type": "code",
   "execution_count": 19,
   "id": "7d6bb224-88e9-4358-ac10-43a41d92cdad",
   "metadata": {
    "execution": {
     "iopub.execute_input": "2022-08-08T21:14:08.983501Z",
     "iopub.status.busy": "2022-08-08T21:14:08.983299Z",
     "iopub.status.idle": "2022-08-08T21:14:09.000635Z",
     "shell.execute_reply": "2022-08-08T21:14:09.000211Z"
    },
    "papermill": {
     "duration": 0.025797,
     "end_time": "2022-08-08T21:14:09.001956",
     "exception": false,
     "start_time": "2022-08-08T21:14:08.976159",
     "status": "completed"
    },
    "tags": []
   },
   "outputs": [],
   "source": [
    "genes_info = pd.read_pickle(OUTPUT_DIR_BASE / \"genes_info.pkl\")"
   ]
  },
  {
   "cell_type": "code",
   "execution_count": 20,
   "id": "9e32abfa-546d-483e-8c18-d526e9e05903",
   "metadata": {
    "execution": {
     "iopub.execute_input": "2022-08-08T21:14:09.016675Z",
     "iopub.status.busy": "2022-08-08T21:14:09.016464Z",
     "iopub.status.idle": "2022-08-08T21:14:09.032287Z",
     "shell.execute_reply": "2022-08-08T21:14:09.031782Z"
    },
    "papermill": {
     "duration": 0.024705,
     "end_time": "2022-08-08T21:14:09.033564",
     "exception": false,
     "start_time": "2022-08-08T21:14:09.008859",
     "status": "completed"
    },
    "tags": []
   },
   "outputs": [
    {
     "data": {
      "text/plain": [
       "(6442, 7)"
      ]
     },
     "execution_count": 20,
     "metadata": {},
     "output_type": "execute_result"
    }
   ],
   "source": [
    "genes_info.shape"
   ]
  },
  {
   "cell_type": "code",
   "execution_count": 21,
   "id": "d16c3e92-85ec-468a-9a56-e25a9774a1cb",
   "metadata": {
    "execution": {
     "iopub.execute_input": "2022-08-08T21:14:09.048287Z",
     "iopub.status.busy": "2022-08-08T21:14:09.047866Z",
     "iopub.status.idle": "2022-08-08T21:14:09.067266Z",
     "shell.execute_reply": "2022-08-08T21:14:09.066840Z"
    },
    "papermill": {
     "duration": 0.028102,
     "end_time": "2022-08-08T21:14:09.068563",
     "exception": false,
     "start_time": "2022-08-08T21:14:09.040461",
     "status": "completed"
    },
    "tags": []
   },
   "outputs": [
    {
     "data": {
      "text/html": [
       "<div>\n",
       "<style scoped>\n",
       "    .dataframe tbody tr th:only-of-type {\n",
       "        vertical-align: middle;\n",
       "    }\n",
       "\n",
       "    .dataframe tbody tr th {\n",
       "        vertical-align: top;\n",
       "    }\n",
       "\n",
       "    .dataframe thead th {\n",
       "        text-align: right;\n",
       "    }\n",
       "</style>\n",
       "<table border=\"1\" class=\"dataframe\">\n",
       "  <thead>\n",
       "    <tr style=\"text-align: right;\">\n",
       "      <th></th>\n",
       "      <th>name</th>\n",
       "      <th>id</th>\n",
       "      <th>chr</th>\n",
       "      <th>band</th>\n",
       "      <th>start_position</th>\n",
       "      <th>end_position</th>\n",
       "      <th>gene_length</th>\n",
       "    </tr>\n",
       "  </thead>\n",
       "  <tbody>\n",
       "    <tr>\n",
       "      <th>0</th>\n",
       "      <td>CTSF</td>\n",
       "      <td>ENSG00000174080</td>\n",
       "      <td>11</td>\n",
       "      <td>11q13.2</td>\n",
       "      <td>66563464</td>\n",
       "      <td>66568841</td>\n",
       "      <td>5377</td>\n",
       "    </tr>\n",
       "    <tr>\n",
       "      <th>1</th>\n",
       "      <td>GUCY2D</td>\n",
       "      <td>ENSG00000132518</td>\n",
       "      <td>17</td>\n",
       "      <td>17p13.1</td>\n",
       "      <td>8002594</td>\n",
       "      <td>8020339</td>\n",
       "      <td>17745</td>\n",
       "    </tr>\n",
       "    <tr>\n",
       "      <th>2</th>\n",
       "      <td>NDUFB8</td>\n",
       "      <td>ENSG00000166136</td>\n",
       "      <td>10</td>\n",
       "      <td>10q24.31</td>\n",
       "      <td>100523740</td>\n",
       "      <td>100530000</td>\n",
       "      <td>6260</td>\n",
       "    </tr>\n",
       "    <tr>\n",
       "      <th>3</th>\n",
       "      <td>KIF5B</td>\n",
       "      <td>ENSG00000170759</td>\n",
       "      <td>10</td>\n",
       "      <td>10p11.22</td>\n",
       "      <td>32009015</td>\n",
       "      <td>32056425</td>\n",
       "      <td>47410</td>\n",
       "    </tr>\n",
       "    <tr>\n",
       "      <th>4</th>\n",
       "      <td>SAE1</td>\n",
       "      <td>ENSG00000142230</td>\n",
       "      <td>19</td>\n",
       "      <td>19q13.32</td>\n",
       "      <td>47113274</td>\n",
       "      <td>47210636</td>\n",
       "      <td>97362</td>\n",
       "    </tr>\n",
       "  </tbody>\n",
       "</table>\n",
       "</div>"
      ],
      "text/plain": [
       "     name               id  chr      band  start_position  end_position  \\\n",
       "0    CTSF  ENSG00000174080   11   11q13.2        66563464      66568841   \n",
       "1  GUCY2D  ENSG00000132518   17   17p13.1         8002594       8020339   \n",
       "2  NDUFB8  ENSG00000166136   10  10q24.31       100523740     100530000   \n",
       "3   KIF5B  ENSG00000170759   10  10p11.22        32009015      32056425   \n",
       "4    SAE1  ENSG00000142230   19  19q13.32        47113274      47210636   \n",
       "\n",
       "   gene_length  \n",
       "0         5377  \n",
       "1        17745  \n",
       "2         6260  \n",
       "3        47410  \n",
       "4        97362  "
      ]
     },
     "execution_count": 21,
     "metadata": {},
     "output_type": "execute_result"
    }
   ],
   "source": [
    "genes_info.head()"
   ]
  },
  {
   "cell_type": "markdown",
   "id": "d3843e06",
   "metadata": {
    "papermill": {
     "duration": 0.007185,
     "end_time": "2022-08-08T21:14:09.083039",
     "exception": false,
     "start_time": "2022-08-08T21:14:09.075854",
     "status": "completed"
    },
    "tags": []
   },
   "source": [
    "# Compute correlations"
   ]
  },
  {
   "cell_type": "code",
   "execution_count": 22,
   "id": "cb859c15-d1f3-4006-a74c-2b83c0db9611",
   "metadata": {
    "execution": {
     "iopub.execute_input": "2022-08-08T21:14:09.098406Z",
     "iopub.status.busy": "2022-08-08T21:14:09.097991Z",
     "iopub.status.idle": "2022-08-08T21:14:09.113884Z",
     "shell.execute_reply": "2022-08-08T21:14:09.113427Z"
    },
    "papermill": {
     "duration": 0.024918,
     "end_time": "2022-08-08T21:14:09.115148",
     "exception": false,
     "start_time": "2022-08-08T21:14:09.090230",
     "status": "completed"
    },
    "tags": []
   },
   "outputs": [
    {
     "data": {
      "text/plain": [
       "PosixPath('/opt/data/results/gls/gene_corrs/cohorts/1000g_eur/1000g/mashr/by_chr/gene_corrs-chr14.pkl')"
      ]
     },
     "metadata": {},
     "output_type": "display_data"
    }
   ],
   "source": [
    "output_dir = OUTPUT_DIR_BASE / \"by_chr\"\n",
    "output_dir.mkdir(exist_ok=True, parents=True)\n",
    "output_file = output_dir / f\"gene_corrs-chr{CHROMOSOME}.pkl\"\n",
    "display(output_file)"
   ]
  },
  {
   "cell_type": "code",
   "execution_count": 23,
   "id": "aa674fe4-6794-4eed-98fa-32b39d1d4ace",
   "metadata": {
    "execution": {
     "iopub.execute_input": "2022-08-08T21:14:09.130416Z",
     "iopub.status.busy": "2022-08-08T21:14:09.129929Z",
     "iopub.status.idle": "2022-08-08T21:14:09.143960Z",
     "shell.execute_reply": "2022-08-08T21:14:09.143433Z"
    },
    "papermill": {
     "duration": 0.022978,
     "end_time": "2022-08-08T21:14:09.145323",
     "exception": false,
     "start_time": "2022-08-08T21:14:09.122345",
     "status": "completed"
    },
    "tags": []
   },
   "outputs": [],
   "source": [
    "warnings.filterwarnings(\"error\")"
   ]
  },
  {
   "cell_type": "code",
   "execution_count": 24,
   "id": "44d5450b-3baf-43f1-9e2e-4b06f1a785f8",
   "metadata": {
    "execution": {
     "iopub.execute_input": "2022-08-08T21:14:09.160339Z",
     "iopub.status.busy": "2022-08-08T21:14:09.160063Z",
     "iopub.status.idle": "2022-08-08T21:14:09.175157Z",
     "shell.execute_reply": "2022-08-08T21:14:09.174740Z"
    },
    "papermill": {
     "duration": 0.024046,
     "end_time": "2022-08-08T21:14:09.176517",
     "exception": false,
     "start_time": "2022-08-08T21:14:09.152471",
     "status": "completed"
    },
    "tags": []
   },
   "outputs": [],
   "source": [
    "# standard checks\n",
    "all_chrs = genes_info[\"chr\"].dropna().unique()\n",
    "assert all_chrs.shape[0] == 22\n",
    "\n",
    "# select chromosome given by the user\n",
    "assert CHROMOSOME in all_chrs"
   ]
  },
  {
   "cell_type": "code",
   "execution_count": 25,
   "id": "2d7c043c-92a7-4d35-991b-fa69ac1e0268",
   "metadata": {
    "execution": {
     "iopub.execute_input": "2022-08-08T21:14:09.191858Z",
     "iopub.status.busy": "2022-08-08T21:14:09.191558Z",
     "iopub.status.idle": "2022-08-08T21:14:09.225437Z",
     "shell.execute_reply": "2022-08-08T21:14:09.224976Z"
    },
    "papermill": {
     "duration": 0.042891,
     "end_time": "2022-08-08T21:14:09.226776",
     "exception": false,
     "start_time": "2022-08-08T21:14:09.183885",
     "status": "completed"
    },
    "tags": []
   },
   "outputs": [
    {
     "name": "stdout",
     "output_type": "stream",
     "text": [
      "Number of genes in chromosome: 209\n"
     ]
    }
   ],
   "source": [
    "# run only on the chromosome specified\n",
    "all_chrs = [CHROMOSOME]\n",
    "genes_chr = genes_info[genes_info[\"chr\"] == CHROMOSOME]\n",
    "\n",
    "# For testing purposes\n",
    "# genes_chr = genes_chr.sample(n=20)\n",
    "\n",
    "print(f\"Number of genes in chromosome: {genes_chr.shape[0]}\", flush=True)"
   ]
  },
  {
   "cell_type": "code",
   "execution_count": 26,
   "id": "916015d8-2979-46d3-a9b9-1cf5a0932c6a",
   "metadata": {
    "execution": {
     "iopub.execute_input": "2022-08-08T21:14:09.242147Z",
     "iopub.status.busy": "2022-08-08T21:14:09.241945Z",
     "iopub.status.idle": "2022-08-08T21:14:09.257435Z",
     "shell.execute_reply": "2022-08-08T21:14:09.256882Z"
    },
    "papermill": {
     "duration": 0.0247,
     "end_time": "2022-08-08T21:14:09.258860",
     "exception": false,
     "start_time": "2022-08-08T21:14:09.234160",
     "status": "completed"
    },
    "tags": []
   },
   "outputs": [],
   "source": [
    "# sort genes by starting position to make visualizations better later\n",
    "genes_chr = genes_chr.sort_values(\"start_position\")"
   ]
  },
  {
   "cell_type": "code",
   "execution_count": 27,
   "id": "a38aa74a-8ad3-47f6-8ef9-56be0e011774",
   "metadata": {
    "execution": {
     "iopub.execute_input": "2022-08-08T21:14:09.274795Z",
     "iopub.status.busy": "2022-08-08T21:14:09.274318Z",
     "iopub.status.idle": "2022-08-08T21:14:09.289342Z",
     "shell.execute_reply": "2022-08-08T21:14:09.288892Z"
    },
    "papermill": {
     "duration": 0.024266,
     "end_time": "2022-08-08T21:14:09.290741",
     "exception": false,
     "start_time": "2022-08-08T21:14:09.266475",
     "status": "completed"
    },
    "tags": []
   },
   "outputs": [],
   "source": [
    "gene_chr_objs = [Gene(ensembl_id=gene_id) for gene_id in genes_chr[\"id\"]]"
   ]
  },
  {
   "cell_type": "code",
   "execution_count": 28,
   "id": "570f974f-13c3-42b6-ad3a-ce99ca885c1a",
   "metadata": {
    "execution": {
     "iopub.execute_input": "2022-08-08T21:14:09.306782Z",
     "iopub.status.busy": "2022-08-08T21:14:09.306577Z",
     "iopub.status.idle": "2022-08-08T21:14:09.321809Z",
     "shell.execute_reply": "2022-08-08T21:14:09.321376Z"
    },
    "papermill": {
     "duration": 0.024526,
     "end_time": "2022-08-08T21:14:09.323018",
     "exception": false,
     "start_time": "2022-08-08T21:14:09.298492",
     "status": "completed"
    },
    "tags": []
   },
   "outputs": [
    {
     "name": "stdout",
     "output_type": "stream",
     "text": [
      "Number of gene combinations: 21736\n"
     ]
    }
   ],
   "source": [
    "n = len(gene_chr_objs)\n",
    "n_comb = int(n * (n - 1) / 2.0)\n",
    "print(f\"Number of gene combinations: {n_comb}\", flush=True)"
   ]
  },
  {
   "cell_type": "code",
   "execution_count": 29,
   "id": "cdbb90a1",
   "metadata": {
    "execution": {
     "iopub.execute_input": "2022-08-08T21:14:09.338943Z",
     "iopub.status.busy": "2022-08-08T21:14:09.338614Z",
     "iopub.status.idle": "2022-08-08T21:41:27.400396Z",
     "shell.execute_reply": "2022-08-08T21:41:27.399932Z"
    },
    "papermill": {
     "duration": 1638.070989,
     "end_time": "2022-08-08T21:41:27.401558",
     "exception": false,
     "start_time": "2022-08-08T21:14:09.330569",
     "status": "completed"
    },
    "tags": []
   },
   "outputs": [
    {
     "name": "stderr",
     "output_type": "stream",
     "text": [
      "ENSG00000185024 / ENSG00000182979: 100%|██████████████████████| 21736/21736 [27:18<00:00, 13.27it/s]\n"
     ]
    },
    {
     "data": {
      "text/plain": [
       "PosixPath('/opt/data/results/gls/gene_corrs/cohorts/1000g_eur/1000g/mashr/by_chr/gene_corrs-chr14.pkl')"
      ]
     },
     "metadata": {},
     "output_type": "display_data"
    }
   ],
   "source": [
    "gene_corrs = []\n",
    "\n",
    "i = 0\n",
    "with tqdm(ncols=100, total=n_comb) as pbar:\n",
    "    for gene1_idx in range(0, len(gene_chr_objs) - 1):\n",
    "        gene1_obj = gene_chr_objs[gene1_idx]\n",
    "        gene1_tissues = spredixcan_genes_models.loc[gene1_obj.ensembl_id, \"tissue\"]\n",
    "\n",
    "        for gene2_idx in range(gene1_idx + 1, len(gene_chr_objs)):\n",
    "            gene2_obj = gene_chr_objs[gene2_idx]\n",
    "            gene2_tissues = spredixcan_genes_models.loc[gene2_obj.ensembl_id, \"tissue\"]\n",
    "\n",
    "            pbar.set_description(f\"{gene1_obj.ensembl_id} / {gene2_obj.ensembl_id}\")\n",
    "\n",
    "            try:\n",
    "                r = gene1_obj.get_ssm_correlation(\n",
    "                    other_gene=gene2_obj,\n",
    "                    tissues=gene1_tissues,\n",
    "                    other_tissues=gene2_tissues,\n",
    "                    snps_subset=gwas_variants_ids_set,\n",
    "                    condition_number=SMULTIXCAN_CONDITION_NUMBER,\n",
    "                    reference_panel=REFERENCE_PANEL,\n",
    "                    model_type=EQTL_MODEL,\n",
    "                    use_within_distance=COMPUTE_CORRELATIONS_WITHIN_DISTANCE,\n",
    "                )\n",
    "\n",
    "                if r is None:\n",
    "                    # if r is None, it's very likely because:\n",
    "                    #  * one of the genes has no prediction models\n",
    "                    #  * all the SNPs predictors for the gene are not present in the reference\n",
    "                    #    panel\n",
    "\n",
    "                    r = 0.0\n",
    "\n",
    "                gene_corrs.append(r)\n",
    "            except Warning as e:\n",
    "                if not DEBUG_MODE:\n",
    "                    raise e\n",
    "\n",
    "                print(\n",
    "                    f\"RuntimeWarning for genes {gene1_obj.ensembl_id} and {gene2_obj.ensembl_id}\",\n",
    "                    flush=True,\n",
    "                )\n",
    "                print(traceback.format_exc(), flush=True)\n",
    "\n",
    "                gene_corrs.append(np.nan)\n",
    "            except Exception as e:\n",
    "                if not DEBUG_MODE:\n",
    "                    raise e\n",
    "\n",
    "                print(\n",
    "                    f\"Exception for genes {gene1_obj.ensembl_id} and {gene2_obj.ensembl_id}\",\n",
    "                    flush=True,\n",
    "                )\n",
    "                print(traceback.format_exc(), flush=True)\n",
    "\n",
    "                gene_corrs.append(np.nan)\n",
    "\n",
    "            pbar.update(1)\n",
    "\n",
    "# create a pandas series\n",
    "gene_corrs_flat = pd.Series(gene_corrs)\n",
    "\n",
    "# save\n",
    "# FIXME: consider saving only the condenced matrix here. See here for\n",
    "# more details: https://github.com/greenelab/phenoplier/pull/38#discussion_r634600813\n",
    "gene_corrs_data = squareform(np.array(gene_corrs, dtype=np.float64))\n",
    "np.fill_diagonal(gene_corrs_data, 1.0)\n",
    "\n",
    "gene_chr_ids = [g.ensembl_id for g in gene_chr_objs]\n",
    "gene_corrs_df = pd.DataFrame(\n",
    "    data=gene_corrs_data,\n",
    "    index=gene_chr_ids,\n",
    "    columns=gene_chr_ids,\n",
    ")\n",
    "\n",
    "output_dir.mkdir(exist_ok=True, parents=True)\n",
    "display(output_file)\n",
    "\n",
    "gene_corrs_df.to_pickle(output_file)"
   ]
  },
  {
   "cell_type": "markdown",
   "id": "faa67b51-5373-470f-aa72-2ded53fa6dfe",
   "metadata": {
    "papermill": {
     "duration": 1.190106,
     "end_time": "2022-08-08T21:41:29.755252",
     "exception": false,
     "start_time": "2022-08-08T21:41:28.565146",
     "status": "completed"
    },
    "tags": []
   },
   "source": [
    "# Testing"
   ]
  },
  {
   "cell_type": "code",
   "execution_count": 30,
   "id": "14f7d046-4b55-4896-a56b-990127bcc388",
   "metadata": {
    "execution": {
     "iopub.execute_input": "2022-08-08T21:41:32.053309Z",
     "iopub.status.busy": "2022-08-08T21:41:32.053146Z",
     "iopub.status.idle": "2022-08-08T21:41:32.068292Z",
     "shell.execute_reply": "2022-08-08T21:41:32.067770Z"
    },
    "papermill": {
     "duration": 1.167932,
     "end_time": "2022-08-08T21:41:32.069506",
     "exception": false,
     "start_time": "2022-08-08T21:41:30.901574",
     "status": "completed"
    },
    "tags": []
   },
   "outputs": [
    {
     "data": {
      "text/plain": [
       "(209, 209)"
      ]
     },
     "execution_count": 30,
     "metadata": {},
     "output_type": "execute_result"
    }
   ],
   "source": [
    "gene_corrs_df.shape"
   ]
  },
  {
   "cell_type": "code",
   "execution_count": 31,
   "id": "c7d15414-3297-4537-a7c6-7588c0baeb75",
   "metadata": {
    "execution": {
     "iopub.execute_input": "2022-08-08T21:41:34.413121Z",
     "iopub.status.busy": "2022-08-08T21:41:34.412924Z",
     "iopub.status.idle": "2022-08-08T21:41:34.440927Z",
     "shell.execute_reply": "2022-08-08T21:41:34.440541Z"
    },
    "papermill": {
     "duration": 1.182366,
     "end_time": "2022-08-08T21:41:34.442151",
     "exception": false,
     "start_time": "2022-08-08T21:41:33.259785",
     "status": "completed"
    },
    "tags": []
   },
   "outputs": [
    {
     "data": {
      "text/html": [
       "<div>\n",
       "<style scoped>\n",
       "    .dataframe tbody tr th:only-of-type {\n",
       "        vertical-align: middle;\n",
       "    }\n",
       "\n",
       "    .dataframe tbody tr th {\n",
       "        vertical-align: top;\n",
       "    }\n",
       "\n",
       "    .dataframe thead th {\n",
       "        text-align: right;\n",
       "    }\n",
       "</style>\n",
       "<table border=\"1\" class=\"dataframe\">\n",
       "  <thead>\n",
       "    <tr style=\"text-align: right;\">\n",
       "      <th></th>\n",
       "      <th>ENSG00000136319</th>\n",
       "      <th>ENSG00000129484</th>\n",
       "      <th>ENSG00000129566</th>\n",
       "      <th>ENSG00000100823</th>\n",
       "      <th>ENSG00000198805</th>\n",
       "      <th>ENSG00000214274</th>\n",
       "      <th>ENSG00000258818</th>\n",
       "      <th>ENSG00000169413</th>\n",
       "      <th>ENSG00000169397</th>\n",
       "      <th>ENSG00000169385</th>\n",
       "      <th>...</th>\n",
       "      <th>ENSG00000126215</th>\n",
       "      <th>ENSG00000088808</th>\n",
       "      <th>ENSG00000066735</th>\n",
       "      <th>ENSG00000185100</th>\n",
       "      <th>ENSG00000142208</th>\n",
       "      <th>ENSG00000166428</th>\n",
       "      <th>ENSG00000183484</th>\n",
       "      <th>ENSG00000184916</th>\n",
       "      <th>ENSG00000185024</th>\n",
       "      <th>ENSG00000182979</th>\n",
       "    </tr>\n",
       "  </thead>\n",
       "  <tbody>\n",
       "    <tr>\n",
       "      <th>ENSG00000136319</th>\n",
       "      <td>1.000000</td>\n",
       "      <td>0.419074</td>\n",
       "      <td>0.016664</td>\n",
       "      <td>0.012118</td>\n",
       "      <td>0.004729</td>\n",
       "      <td>0.008026</td>\n",
       "      <td>0.007009</td>\n",
       "      <td>0.012458</td>\n",
       "      <td>0.010864</td>\n",
       "      <td>0.010334</td>\n",
       "      <td>...</td>\n",
       "      <td>0.009388</td>\n",
       "      <td>0.011313</td>\n",
       "      <td>0.010363</td>\n",
       "      <td>0.008891</td>\n",
       "      <td>0.011653</td>\n",
       "      <td>0.013682</td>\n",
       "      <td>0.007958</td>\n",
       "      <td>0.014073</td>\n",
       "      <td>0.006576</td>\n",
       "      <td>0.002089</td>\n",
       "    </tr>\n",
       "    <tr>\n",
       "      <th>ENSG00000129484</th>\n",
       "      <td>0.419074</td>\n",
       "      <td>1.000000</td>\n",
       "      <td>0.020049</td>\n",
       "      <td>0.008024</td>\n",
       "      <td>0.006075</td>\n",
       "      <td>0.009880</td>\n",
       "      <td>0.007815</td>\n",
       "      <td>0.007987</td>\n",
       "      <td>0.005828</td>\n",
       "      <td>0.009660</td>\n",
       "      <td>...</td>\n",
       "      <td>0.005181</td>\n",
       "      <td>0.005304</td>\n",
       "      <td>0.005240</td>\n",
       "      <td>0.004100</td>\n",
       "      <td>0.007543</td>\n",
       "      <td>0.009343</td>\n",
       "      <td>0.004827</td>\n",
       "      <td>0.009384</td>\n",
       "      <td>0.006872</td>\n",
       "      <td>0.001732</td>\n",
       "    </tr>\n",
       "    <tr>\n",
       "      <th>ENSG00000129566</th>\n",
       "      <td>0.016664</td>\n",
       "      <td>0.020049</td>\n",
       "      <td>1.000000</td>\n",
       "      <td>0.073406</td>\n",
       "      <td>0.022526</td>\n",
       "      <td>0.011225</td>\n",
       "      <td>0.009912</td>\n",
       "      <td>0.012395</td>\n",
       "      <td>0.005955</td>\n",
       "      <td>0.009182</td>\n",
       "      <td>...</td>\n",
       "      <td>0.008125</td>\n",
       "      <td>0.007928</td>\n",
       "      <td>0.013348</td>\n",
       "      <td>0.005628</td>\n",
       "      <td>0.009525</td>\n",
       "      <td>0.005877</td>\n",
       "      <td>0.004259</td>\n",
       "      <td>0.008523</td>\n",
       "      <td>0.011035</td>\n",
       "      <td>0.007485</td>\n",
       "    </tr>\n",
       "    <tr>\n",
       "      <th>ENSG00000100823</th>\n",
       "      <td>0.012118</td>\n",
       "      <td>0.008024</td>\n",
       "      <td>0.073406</td>\n",
       "      <td>1.000000</td>\n",
       "      <td>0.273603</td>\n",
       "      <td>0.011445</td>\n",
       "      <td>0.009452</td>\n",
       "      <td>0.010661</td>\n",
       "      <td>0.013565</td>\n",
       "      <td>0.010577</td>\n",
       "      <td>...</td>\n",
       "      <td>0.004334</td>\n",
       "      <td>0.003701</td>\n",
       "      <td>0.010433</td>\n",
       "      <td>0.005350</td>\n",
       "      <td>0.013003</td>\n",
       "      <td>0.008230</td>\n",
       "      <td>0.005814</td>\n",
       "      <td>0.011017</td>\n",
       "      <td>0.010771</td>\n",
       "      <td>0.005184</td>\n",
       "    </tr>\n",
       "    <tr>\n",
       "      <th>ENSG00000198805</th>\n",
       "      <td>0.004729</td>\n",
       "      <td>0.006075</td>\n",
       "      <td>0.022526</td>\n",
       "      <td>0.273603</td>\n",
       "      <td>1.000000</td>\n",
       "      <td>0.011463</td>\n",
       "      <td>0.006022</td>\n",
       "      <td>0.012083</td>\n",
       "      <td>0.012789</td>\n",
       "      <td>0.005912</td>\n",
       "      <td>...</td>\n",
       "      <td>0.007099</td>\n",
       "      <td>0.011066</td>\n",
       "      <td>0.016187</td>\n",
       "      <td>0.006238</td>\n",
       "      <td>0.007679</td>\n",
       "      <td>0.007593</td>\n",
       "      <td>0.003706</td>\n",
       "      <td>0.011583</td>\n",
       "      <td>0.012261</td>\n",
       "      <td>0.002937</td>\n",
       "    </tr>\n",
       "  </tbody>\n",
       "</table>\n",
       "<p>5 rows × 209 columns</p>\n",
       "</div>"
      ],
      "text/plain": [
       "                 ENSG00000136319  ENSG00000129484  ENSG00000129566  \\\n",
       "ENSG00000136319         1.000000         0.419074         0.016664   \n",
       "ENSG00000129484         0.419074         1.000000         0.020049   \n",
       "ENSG00000129566         0.016664         0.020049         1.000000   \n",
       "ENSG00000100823         0.012118         0.008024         0.073406   \n",
       "ENSG00000198805         0.004729         0.006075         0.022526   \n",
       "\n",
       "                 ENSG00000100823  ENSG00000198805  ENSG00000214274  \\\n",
       "ENSG00000136319         0.012118         0.004729         0.008026   \n",
       "ENSG00000129484         0.008024         0.006075         0.009880   \n",
       "ENSG00000129566         0.073406         0.022526         0.011225   \n",
       "ENSG00000100823         1.000000         0.273603         0.011445   \n",
       "ENSG00000198805         0.273603         1.000000         0.011463   \n",
       "\n",
       "                 ENSG00000258818  ENSG00000169413  ENSG00000169397  \\\n",
       "ENSG00000136319         0.007009         0.012458         0.010864   \n",
       "ENSG00000129484         0.007815         0.007987         0.005828   \n",
       "ENSG00000129566         0.009912         0.012395         0.005955   \n",
       "ENSG00000100823         0.009452         0.010661         0.013565   \n",
       "ENSG00000198805         0.006022         0.012083         0.012789   \n",
       "\n",
       "                 ENSG00000169385  ...  ENSG00000126215  ENSG00000088808  \\\n",
       "ENSG00000136319         0.010334  ...         0.009388         0.011313   \n",
       "ENSG00000129484         0.009660  ...         0.005181         0.005304   \n",
       "ENSG00000129566         0.009182  ...         0.008125         0.007928   \n",
       "ENSG00000100823         0.010577  ...         0.004334         0.003701   \n",
       "ENSG00000198805         0.005912  ...         0.007099         0.011066   \n",
       "\n",
       "                 ENSG00000066735  ENSG00000185100  ENSG00000142208  \\\n",
       "ENSG00000136319         0.010363         0.008891         0.011653   \n",
       "ENSG00000129484         0.005240         0.004100         0.007543   \n",
       "ENSG00000129566         0.013348         0.005628         0.009525   \n",
       "ENSG00000100823         0.010433         0.005350         0.013003   \n",
       "ENSG00000198805         0.016187         0.006238         0.007679   \n",
       "\n",
       "                 ENSG00000166428  ENSG00000183484  ENSG00000184916  \\\n",
       "ENSG00000136319         0.013682         0.007958         0.014073   \n",
       "ENSG00000129484         0.009343         0.004827         0.009384   \n",
       "ENSG00000129566         0.005877         0.004259         0.008523   \n",
       "ENSG00000100823         0.008230         0.005814         0.011017   \n",
       "ENSG00000198805         0.007593         0.003706         0.011583   \n",
       "\n",
       "                 ENSG00000185024  ENSG00000182979  \n",
       "ENSG00000136319         0.006576         0.002089  \n",
       "ENSG00000129484         0.006872         0.001732  \n",
       "ENSG00000129566         0.011035         0.007485  \n",
       "ENSG00000100823         0.010771         0.005184  \n",
       "ENSG00000198805         0.012261         0.002937  \n",
       "\n",
       "[5 rows x 209 columns]"
      ]
     },
     "execution_count": 31,
     "metadata": {},
     "output_type": "execute_result"
    }
   ],
   "source": [
    "gene_corrs_df.head()"
   ]
  },
  {
   "cell_type": "markdown",
   "id": "dad6603f-01c6-41fb-a6f6-241051207dd8",
   "metadata": {
    "papermill": {
     "duration": 1.200918,
     "end_time": "2022-08-08T21:41:36.788605",
     "exception": false,
     "start_time": "2022-08-08T21:41:35.587687",
     "status": "completed"
    },
    "tags": []
   },
   "source": [
    "## Standard checks and stats"
   ]
  },
  {
   "cell_type": "code",
   "execution_count": 32,
   "id": "286686af-1b7b-4440-8453-6bdcbd8de19c",
   "metadata": {
    "execution": {
     "iopub.execute_input": "2022-08-08T21:41:39.082795Z",
     "iopub.status.busy": "2022-08-08T21:41:39.082571Z",
     "iopub.status.idle": "2022-08-08T21:41:39.097478Z",
     "shell.execute_reply": "2022-08-08T21:41:39.097063Z"
    },
    "papermill": {
     "duration": 1.162964,
     "end_time": "2022-08-08T21:41:39.098702",
     "exception": false,
     "start_time": "2022-08-08T21:41:37.935738",
     "status": "completed"
    },
    "tags": []
   },
   "outputs": [],
   "source": [
    "assert not gene_corrs_df.isna().any().any()"
   ]
  },
  {
   "cell_type": "code",
   "execution_count": 33,
   "id": "00583efc-7068-4270-ad1e-4a418e91db96",
   "metadata": {
    "execution": {
     "iopub.execute_input": "2022-08-08T21:41:41.447040Z",
     "iopub.status.busy": "2022-08-08T21:41:41.446844Z",
     "iopub.status.idle": "2022-08-08T21:41:41.463874Z",
     "shell.execute_reply": "2022-08-08T21:41:41.463450Z"
    },
    "papermill": {
     "duration": 1.185178,
     "end_time": "2022-08-08T21:41:41.465205",
     "exception": false,
     "start_time": "2022-08-08T21:41:40.280027",
     "status": "completed"
    },
    "tags": []
   },
   "outputs": [
    {
     "data": {
      "text/plain": [
       "8.123800883440407e-07"
      ]
     },
     "metadata": {},
     "output_type": "display_data"
    }
   ],
   "source": [
    "_min_val = gene_corrs_df.min().min()\n",
    "display(_min_val)\n",
    "assert _min_val >= 0.0"
   ]
  },
  {
   "cell_type": "code",
   "execution_count": 34,
   "id": "d04fb2cf-1050-475b-b855-f5f7cc04092b",
   "metadata": {
    "execution": {
     "iopub.execute_input": "2022-08-08T21:41:43.820106Z",
     "iopub.status.busy": "2022-08-08T21:41:43.819873Z",
     "iopub.status.idle": "2022-08-08T21:41:43.836303Z",
     "shell.execute_reply": "2022-08-08T21:41:43.835880Z"
    },
    "papermill": {
     "duration": 1.21189,
     "end_time": "2022-08-08T21:41:43.837410",
     "exception": false,
     "start_time": "2022-08-08T21:41:42.625520",
     "status": "completed"
    },
    "tags": []
   },
   "outputs": [
    {
     "data": {
      "text/plain": [
       "1.0"
      ]
     },
     "metadata": {},
     "output_type": "display_data"
    }
   ],
   "source": [
    "_max_val = gene_corrs_df.max().max()  # this captures the diagonal\n",
    "display(_max_val)\n",
    "assert _max_val <= 1.0"
   ]
  },
  {
   "cell_type": "code",
   "execution_count": 35,
   "id": "96d02c44-1fba-47be-8a93-8f2608420b9c",
   "metadata": {
    "execution": {
     "iopub.execute_input": "2022-08-08T21:41:46.162492Z",
     "iopub.status.busy": "2022-08-08T21:41:46.162291Z",
     "iopub.status.idle": "2022-08-08T21:41:46.177169Z",
     "shell.execute_reply": "2022-08-08T21:41:46.176745Z"
    },
    "papermill": {
     "duration": 1.195676,
     "end_time": "2022-08-08T21:41:46.178458",
     "exception": false,
     "start_time": "2022-08-08T21:41:44.982782",
     "status": "completed"
    },
    "tags": []
   },
   "outputs": [],
   "source": [
    "# check upper triangular values\n",
    "assert len(gene_corrs) == int(genes_chr.shape[0] * (genes_chr.shape[0] - 1) / 2)"
   ]
  },
  {
   "cell_type": "code",
   "execution_count": 36,
   "id": "fe283586-c348-40e0-8841-f6d97bfb021c",
   "metadata": {
    "execution": {
     "iopub.execute_input": "2022-08-08T21:41:48.461735Z",
     "iopub.status.busy": "2022-08-08T21:41:48.461512Z",
     "iopub.status.idle": "2022-08-08T21:41:48.479516Z",
     "shell.execute_reply": "2022-08-08T21:41:48.479094Z"
    },
    "papermill": {
     "duration": 1.158868,
     "end_time": "2022-08-08T21:41:48.480670",
     "exception": false,
     "start_time": "2022-08-08T21:41:47.321802",
     "status": "completed"
    },
    "tags": []
   },
   "outputs": [
    {
     "data": {
      "text/plain": [
       "count    2.173600e+04\n",
       "mean     1.157278e-02\n",
       "std      3.372753e-02\n",
       "min      8.123801e-07\n",
       "25%      5.634463e-03\n",
       "50%      8.379372e-03\n",
       "75%      1.149835e-02\n",
       "max      9.646130e-01\n",
       "dtype: float64"
      ]
     },
     "execution_count": 36,
     "metadata": {},
     "output_type": "execute_result"
    }
   ],
   "source": [
    "gene_corrs_flat.describe()"
   ]
  },
  {
   "cell_type": "code",
   "execution_count": 37,
   "id": "b3815678-0f93-4b35-897b-a9d047a2aa78",
   "metadata": {
    "execution": {
     "iopub.execute_input": "2022-08-08T21:41:50.755327Z",
     "iopub.status.busy": "2022-08-08T21:41:50.755096Z",
     "iopub.status.idle": "2022-08-08T21:41:50.772829Z",
     "shell.execute_reply": "2022-08-08T21:41:50.772343Z"
    },
    "papermill": {
     "duration": 1.159746,
     "end_time": "2022-08-08T21:41:50.774076",
     "exception": false,
     "start_time": "2022-08-08T21:41:49.614330",
     "status": "completed"
    },
    "tags": []
   },
   "outputs": [
    {
     "data": {
      "text/plain": [
       "0.00    8.123801e-07\n",
       "0.05    2.385589e-03\n",
       "0.10    3.430776e-03\n",
       "0.15    4.282260e-03\n",
       "0.20    4.993967e-03\n",
       "0.25    5.634463e-03\n",
       "0.30    6.196578e-03\n",
       "0.35    6.747807e-03\n",
       "0.40    7.280639e-03\n",
       "0.45    7.823637e-03\n",
       "0.50    8.379372e-03\n",
       "0.55    8.929383e-03\n",
       "0.60    9.521866e-03\n",
       "0.65    1.012578e-02\n",
       "0.70    1.078143e-02\n",
       "0.75    1.149835e-02\n",
       "0.80    1.233921e-02\n",
       "0.85    1.340662e-02\n",
       "0.90    1.483666e-02\n",
       "0.95    1.737541e-02\n",
       "dtype: float64"
      ]
     },
     "metadata": {},
     "output_type": "display_data"
    }
   ],
   "source": [
    "gene_corrs_quantiles = gene_corrs_flat.quantile(np.arange(0, 1, 0.05))\n",
    "display(gene_corrs_quantiles)"
   ]
  },
  {
   "cell_type": "markdown",
   "id": "87134509-b145-4a10-8bc9-b7e914c2b0fa",
   "metadata": {
    "papermill": {
     "duration": 1.153401,
     "end_time": "2022-08-08T21:41:53.093358",
     "exception": false,
     "start_time": "2022-08-08T21:41:51.939957",
     "status": "completed"
    },
    "tags": []
   },
   "source": [
    "## Positive definiteness"
   ]
  },
  {
   "cell_type": "code",
   "execution_count": 38,
   "id": "07d9a9a1-a4f7-48aa-b916-6d42a8cc6186",
   "metadata": {
    "execution": {
     "iopub.execute_input": "2022-08-08T21:41:55.412384Z",
     "iopub.status.busy": "2022-08-08T21:41:55.412210Z",
     "iopub.status.idle": "2022-08-08T21:41:55.453752Z",
     "shell.execute_reply": "2022-08-08T21:41:55.453379Z"
    },
    "papermill": {
     "duration": 1.227691,
     "end_time": "2022-08-08T21:41:55.455050",
     "exception": false,
     "start_time": "2022-08-08T21:41:54.227359",
     "status": "completed"
    },
    "tags": []
   },
   "outputs": [
    {
     "data": {
      "text/plain": [
       "0"
      ]
     },
     "metadata": {},
     "output_type": "display_data"
    },
    {
     "data": {
      "text/plain": [
       "array([], dtype=float64)"
      ]
     },
     "metadata": {},
     "output_type": "display_data"
    }
   ],
   "source": [
    "# print negative eigenvalues\n",
    "eigs = np.linalg.eigvals(gene_corrs_df.to_numpy())\n",
    "display(len(eigs[eigs < 0]))\n",
    "display(eigs[eigs < 0])"
   ]
  },
  {
   "cell_type": "code",
   "execution_count": 39,
   "id": "6e218436-c3c5-4028-8c94-a4fa6260efce",
   "metadata": {
    "execution": {
     "iopub.execute_input": "2022-08-08T21:41:57.771537Z",
     "iopub.status.busy": "2022-08-08T21:41:57.771319Z",
     "iopub.status.idle": "2022-08-08T21:41:57.803703Z",
     "shell.execute_reply": "2022-08-08T21:41:57.803308Z"
    },
    "papermill": {
     "duration": 1.184972,
     "end_time": "2022-08-08T21:41:57.804810",
     "exception": false,
     "start_time": "2022-08-08T21:41:56.619838",
     "status": "completed"
    },
    "tags": []
   },
   "outputs": [
    {
     "name": "stdout",
     "output_type": "stream",
     "text": [
      "Works!\n"
     ]
    }
   ],
   "source": [
    "try:\n",
    "    chol_mat = np.linalg.cholesky(gene_corrs_df.to_numpy())\n",
    "    cov_inv = np.linalg.inv(chol_mat)\n",
    "    print(\"Works!\")\n",
    "except:\n",
    "    print(\"Cholesky decomposition failed\")"
   ]
  },
  {
   "cell_type": "markdown",
   "id": "8e60a080-edb2-4e9c-b2ef-22961693200c",
   "metadata": {
    "papermill": {
     "duration": 1.157904,
     "end_time": "2022-08-08T21:42:00.163344",
     "exception": false,
     "start_time": "2022-08-08T21:41:59.005440",
     "status": "completed"
    },
    "tags": []
   },
   "source": [
    "## Plot: distribution"
   ]
  },
  {
   "cell_type": "code",
   "execution_count": 40,
   "id": "8301126b-a7d4-4744-9c7d-f0f86eb6f54c",
   "metadata": {
    "execution": {
     "iopub.execute_input": "2022-08-08T21:42:02.488735Z",
     "iopub.status.busy": "2022-08-08T21:42:02.488567Z",
     "iopub.status.idle": "2022-08-08T21:42:08.132392Z",
     "shell.execute_reply": "2022-08-08T21:42:08.131814Z"
    },
    "papermill": {
     "duration": 6.831784,
     "end_time": "2022-08-08T21:42:08.133859",
     "exception": false,
     "start_time": "2022-08-08T21:42:01.302075",
     "status": "completed"
    },
    "tags": []
   },
   "outputs": [
    {
     "data": {
      "image/png": "[encoded data removed]",
      "text/plain": [
       "<Figure size 504x504 with 1 Axes>"
      ]
     },
     "metadata": {
      "needs_background": "light"
     },
     "output_type": "display_data"
    }
   ],
   "source": [
    "with sns.plotting_context(\"paper\", font_scale=1.5):\n",
    "    g = sns.displot(gene_corrs_flat, kde=True, height=7)\n",
    "    g.ax.set_title(\n",
    "        f\"Distribution of gene correlation values in chromosome {CHROMOSOME}\"\n",
    "    )"
   ]
  },
  {
   "cell_type": "markdown",
   "id": "cbd52bca-d878-4a2f-b684-5c83aa3038d4",
   "metadata": {
    "papermill": {
     "duration": 1.217347,
     "end_time": "2022-08-08T21:42:10.501881",
     "exception": false,
     "start_time": "2022-08-08T21:42:09.284534",
     "status": "completed"
    },
    "tags": []
   },
   "source": [
    "## Plot: heatmap"
   ]
  },
  {
   "cell_type": "code",
   "execution_count": 41,
   "id": "d03fe63a-c7b2-4fb9-a53c-db362ce843c9",
   "metadata": {
    "execution": {
     "iopub.execute_input": "2022-08-08T21:42:12.784694Z",
     "iopub.status.busy": "2022-08-08T21:42:12.784492Z",
     "iopub.status.idle": "2022-08-08T21:42:12.799842Z",
     "shell.execute_reply": "2022-08-08T21:42:12.799425Z"
    },
    "papermill": {
     "duration": 1.158881,
     "end_time": "2022-08-08T21:42:12.800933",
     "exception": false,
     "start_time": "2022-08-08T21:42:11.642052",
     "status": "completed"
    },
    "tags": []
   },
   "outputs": [
    {
     "data": {
      "text/plain": [
       "'0.0 / 0.05'"
      ]
     },
     "metadata": {},
     "output_type": "display_data"
    }
   ],
   "source": [
    "vmin_val = min(0.00, gene_corrs_quantiles[0.10])\n",
    "vmax_val = max(0.05, gene_corrs_quantiles[0.90])\n",
    "display(f\"{vmin_val} / {vmax_val}\")"
   ]
  },
  {
   "cell_type": "code",
   "execution_count": 42,
   "id": "dc41b70b-5bcc-4d9e-9f33-a22c4a94dab5",
   "metadata": {
    "execution": {
     "iopub.execute_input": "2022-08-08T21:42:15.112466Z",
     "iopub.status.busy": "2022-08-08T21:42:15.112253Z",
     "iopub.status.idle": "2022-08-08T21:42:15.310754Z",
     "shell.execute_reply": "2022-08-08T21:42:15.310357Z"
    },
    "papermill": {
     "duration": 1.368431,
     "end_time": "2022-08-08T21:42:15.313400",
     "exception": false,
     "start_time": "2022-08-08T21:42:13.944969",
     "status": "completed"
    },
    "tags": []
   },
   "outputs": [
    {
     "data": {
      "text/plain": [
       "Text(0.5, 1.0, 'Gene correlations in chromosome 14')"
      ]
     },
     "execution_count": 42,
     "metadata": {},
     "output_type": "execute_result"
    },
    {
     "data": {
      "image/png": "[encoded data removed]",
      "text/plain": [
       "<Figure size 720x720 with 2 Axes>"
      ]
     },
     "metadata": {
      "needs_background": "light"
     },
     "output_type": "display_data"
    }
   ],
   "source": [
    "f, ax = plt.subplots(figsize=(10, 10))\n",
    "sns.heatmap(\n",
    "    gene_corrs_df,\n",
    "    xticklabels=False,\n",
    "    yticklabels=False,\n",
    "    square=True,\n",
    "    vmin=vmin_val,\n",
    "    vmax=vmax_val,\n",
    "    cmap=\"rocket_r\",\n",
    "    ax=ax,\n",
    ")\n",
    "ax.set_title(f\"Gene correlations in chromosome {CHROMOSOME}\")"
   ]
  },
  {
   "cell_type": "code",
   "execution_count": null,
   "id": "b25e3ead",
   "metadata": {
    "papermill": {
     "duration": 1.122248,
     "end_time": "2022-08-08T21:42:17.624866",
     "exception": false,
     "start_time": "2022-08-08T21:42:16.502618",
     "status": "completed"
    },
    "tags": []
   },
   "outputs": [],
   "source": []
  }
 ],
 "metadata": {
  "jupytext": {
   "cell_metadata_filter": "all,-execution,-papermill,-trusted",
   "formats": "ipynb,py//py:percent"
  },
  "kernelspec": {
   "display_name": "Python 3 (ipykernel)",
   "language": "python",
   "name": "python3"
  },
  "language_info": {
   "codemirror_mode": {
    "name": "ipython",
    "version": 3
   },
   "file_extension": ".py",
   "mimetype": "text/x-python",
   "name": "python",
   "nbconvert_exporter": "python",
   "pygments_lexer": "ipython3",
   "version": "3.8.13"
  },
  "papermill": {
   "default_parameters": {},
   "duration": 1699.792827,
   "end_time": "2022-08-08T21:42:22.046674",
   "environment_variables": {},
   "exception": null,
   "input_path": "nbs/15_gsa_gls/10-gene_expr_correlations.ipynb",
   "output_path": "nbs/15_gsa_gls/gene_corrs/cohorts/1000g_eur/1000g/mashr/10-gene_expr_correlations-chr14.run.ipynb",
   "parameters": {
    "CHROMOSOME": 14,
    "COHORT_NAME": "1000G_EUR",
    "EQTL_MODEL": "MASHR",
    "REFERENCE_PANEL": "1000G"
   },
   "start_time": "2022-08-08T21:14:02.253847",
   "version": "2.2.2"
  }
 },
 "nbformat": 4,
 "nbformat_minor": 5
}
