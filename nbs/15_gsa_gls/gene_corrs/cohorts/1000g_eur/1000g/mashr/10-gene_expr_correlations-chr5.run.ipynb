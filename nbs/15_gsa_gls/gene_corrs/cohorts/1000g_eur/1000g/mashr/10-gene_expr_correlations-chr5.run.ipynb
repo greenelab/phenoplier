{
 "cells": [
  {
   "cell_type": "markdown",
   "id": "7a6632fb",
   "metadata": {
    "papermill": {
     "duration": 0.022328,
     "end_time": "2022-08-02T20:33:14.465760",
     "exception": false,
     "start_time": "2022-08-02T20:33:14.443432",
     "status": "completed"
    },
    "tags": []
   },
   "source": [
    "# Description"
   ]
  },
  {
   "cell_type": "markdown",
   "id": "7097c346",
   "metadata": {
    "papermill": {
     "duration": 0.057103,
     "end_time": "2022-08-02T20:33:14.546018",
     "exception": false,
     "start_time": "2022-08-02T20:33:14.488915",
     "status": "completed"
    },
    "tags": []
   },
   "source": [
    "(Please, take a look at the README.md file in this directory for instructions on how to run this notebook)\n",
    "\n",
    "This notebook computes predicted expression correlations between all genes in the MultiPLIER models.\n",
    "\n",
    "It also has a parameter set for papermill to run on a single chromosome to run in parallel (see under `Settings` below).\n",
    "\n",
    "This notebook is not directly run. See README.md."
   ]
  },
  {
   "cell_type": "markdown",
   "id": "c61d8427",
   "metadata": {
    "papermill": {
     "duration": 0.017985,
     "end_time": "2022-08-02T20:33:14.578800",
     "exception": false,
     "start_time": "2022-08-02T20:33:14.560815",
     "status": "completed"
    },
    "tags": []
   },
   "source": [
    "# Modules"
   ]
  },
  {
   "cell_type": "code",
   "execution_count": 1,
   "id": "bbc0234f",
   "metadata": {
    "execution": {
     "iopub.execute_input": "2022-08-02T20:33:14.612246Z",
     "iopub.status.busy": "2022-08-02T20:33:14.611891Z",
     "iopub.status.idle": "2022-08-02T20:33:14.766163Z",
     "shell.execute_reply": "2022-08-02T20:33:14.765499Z"
    },
    "papermill": {
     "duration": 0.173713,
     "end_time": "2022-08-02T20:33:14.768265",
     "exception": false,
     "start_time": "2022-08-02T20:33:14.594552",
     "status": "completed"
    },
    "tags": []
   },
   "outputs": [],
   "source": [
    "%load_ext autoreload\n",
    "%autoreload 2"
   ]
  },
  {
   "cell_type": "code",
   "execution_count": 2,
   "id": "1d5f5a59",
   "metadata": {
    "execution": {
     "iopub.execute_input": "2022-08-02T20:33:14.796963Z",
     "iopub.status.busy": "2022-08-02T20:33:14.796722Z",
     "iopub.status.idle": "2022-08-02T20:33:17.773972Z",
     "shell.execute_reply": "2022-08-02T20:33:17.773318Z"
    },
    "papermill": {
     "duration": 2.994115,
     "end_time": "2022-08-02T20:33:17.776053",
     "exception": false,
     "start_time": "2022-08-02T20:33:14.781938",
     "status": "completed"
    },
    "tags": []
   },
   "outputs": [],
   "source": [
    "from random import sample, seed\n",
    "import warnings\n",
    "from pathlib import Path\n",
    "import pickle\n",
    "import traceback\n",
    "\n",
    "import numpy as np\n",
    "from scipy.spatial.distance import squareform\n",
    "import pandas as pd\n",
    "from tqdm import tqdm\n",
    "import matplotlib.pyplot as plt\n",
    "import seaborn as sns\n",
    "\n",
    "import conf\n",
    "from entity import Gene"
   ]
  },
  {
   "cell_type": "markdown",
   "id": "1eac24b5",
   "metadata": {
    "papermill": {
     "duration": 0.010145,
     "end_time": "2022-08-02T20:33:17.798489",
     "exception": false,
     "start_time": "2022-08-02T20:33:17.788344",
     "status": "completed"
    },
    "tags": []
   },
   "source": [
    "# Settings"
   ]
  },
  {
   "cell_type": "code",
   "execution_count": 3,
   "id": "ca4560ba",
   "metadata": {
    "execution": {
     "iopub.execute_input": "2022-08-02T20:33:17.822286Z",
     "iopub.status.busy": "2022-08-02T20:33:17.822069Z",
     "iopub.status.idle": "2022-08-02T20:33:19.258510Z",
     "shell.execute_reply": "2022-08-02T20:33:19.257843Z"
    },
    "papermill": {
     "duration": 1.452612,
     "end_time": "2022-08-02T20:33:19.260651",
     "exception": false,
     "start_time": "2022-08-02T20:33:17.808039",
     "status": "completed"
    },
    "tags": [
     "parameters"
    ]
   },
   "outputs": [],
   "source": [
    "# a cohort name (it could be something like UK_BIOBANK, etc)\n",
    "COHORT_NAME = None\n",
    "\n",
    "# reference panel such as 1000G or GTEX_V8\n",
    "REFERENCE_PANEL = None\n",
    "\n",
    "# predictions models such as MASHR or ELASTIC_NET\n",
    "EQTL_MODEL = None\n",
    "\n",
    "# this is the default value used in S-MultiXcan to select the\n",
    "# top principal components of the expression correlation matrix\n",
    "SMULTIXCAN_CONDITION_NUMBER = 30\n",
    "\n",
    "# specifies a single chromosome value\n",
    "CHROMOSOME = None\n",
    "\n",
    "# If True, computes the correlation between closeby genes only;\n",
    "# otherwise, it computes correlations for all genes in a chromosome\n",
    "COMPUTE_CORRELATIONS_WITHIN_DISTANCE = False\n",
    "\n",
    "# if True, then it will continue if a gene pair correlation fails,\n",
    "# printing the warning/error for debugging. If False, any warning/error\n",
    "# will be thrown\n",
    "DEBUG_MODE = False"
   ]
  },
  {
   "cell_type": "code",
   "execution_count": 4,
   "id": "ada9fa4a",
   "metadata": {
    "execution": {
     "iopub.execute_input": "2022-08-02T20:33:19.281762Z",
     "iopub.status.busy": "2022-08-02T20:33:19.281506Z",
     "iopub.status.idle": "2022-08-02T20:33:19.469098Z",
     "shell.execute_reply": "2022-08-02T20:33:19.468532Z"
    },
    "papermill": {
     "duration": 0.199713,
     "end_time": "2022-08-02T20:33:19.470813",
     "exception": false,
     "start_time": "2022-08-02T20:33:19.271100",
     "status": "completed"
    },
    "tags": [
     "injected-parameters"
    ]
   },
   "outputs": [],
   "source": [
    "# Parameters\n",
    "COHORT_NAME = \"1000G_EUR\"\n",
    "REFERENCE_PANEL = \"1000G\"\n",
    "EQTL_MODEL = \"MASHR\"\n",
    "CHROMOSOME = 5\n"
   ]
  },
  {
   "cell_type": "code",
   "execution_count": 5,
   "id": "3190631f-27fc-480f-b18e-571d580425a5",
   "metadata": {
    "execution": {
     "iopub.execute_input": "2022-08-02T20:33:19.516615Z",
     "iopub.status.busy": "2022-08-02T20:33:19.516401Z",
     "iopub.status.idle": "2022-08-02T20:33:19.895116Z",
     "shell.execute_reply": "2022-08-02T20:33:19.894471Z"
    },
    "papermill": {
     "duration": 0.408796,
     "end_time": "2022-08-02T20:33:19.896942",
     "exception": false,
     "start_time": "2022-08-02T20:33:19.488146",
     "status": "completed"
    },
    "tags": []
   },
   "outputs": [
    {
     "data": {
      "text/plain": [
       "'Cohort name: 1000g_eur'"
      ]
     },
     "metadata": {},
     "output_type": "display_data"
    }
   ],
   "source": [
    "assert COHORT_NAME is not None and len(COHORT_NAME) > 0, \"A cohort name must be given\"\n",
    "\n",
    "COHORT_NAME = COHORT_NAME.lower()\n",
    "display(f\"Cohort name: {COHORT_NAME}\")"
   ]
  },
  {
   "cell_type": "code",
   "execution_count": 6,
   "id": "f53ba19b-0f93-4fa2-a047-63b375939d1a",
   "metadata": {
    "execution": {
     "iopub.execute_input": "2022-08-02T20:33:19.950666Z",
     "iopub.status.busy": "2022-08-02T20:33:19.950405Z",
     "iopub.status.idle": "2022-08-02T20:33:20.479576Z",
     "shell.execute_reply": "2022-08-02T20:33:20.479000Z"
    },
    "papermill": {
     "duration": 0.555308,
     "end_time": "2022-08-02T20:33:20.481271",
     "exception": false,
     "start_time": "2022-08-02T20:33:19.925963",
     "status": "completed"
    },
    "tags": []
   },
   "outputs": [
    {
     "data": {
      "text/plain": [
       "'Reference panel: 1000G'"
      ]
     },
     "metadata": {},
     "output_type": "display_data"
    }
   ],
   "source": [
    "assert (\n",
    "    REFERENCE_PANEL is not None and len(REFERENCE_PANEL) > 0\n",
    "), \"A reference panel must be given\"\n",
    "\n",
    "display(f\"Reference panel: {REFERENCE_PANEL}\")"
   ]
  },
  {
   "cell_type": "code",
   "execution_count": 7,
   "id": "e024d130-c139-429a-9c6e-ccf149e297b0",
   "metadata": {
    "execution": {
     "iopub.execute_input": "2022-08-02T20:33:20.517793Z",
     "iopub.status.busy": "2022-08-02T20:33:20.517580Z",
     "iopub.status.idle": "2022-08-02T20:33:20.537940Z",
     "shell.execute_reply": "2022-08-02T20:33:20.537385Z"
    },
    "papermill": {
     "duration": 0.036087,
     "end_time": "2022-08-02T20:33:20.539419",
     "exception": false,
     "start_time": "2022-08-02T20:33:20.503332",
     "status": "completed"
    },
    "tags": []
   },
   "outputs": [
    {
     "data": {
      "text/plain": [
       "'eQTL model: MASHR) / mashr_'"
      ]
     },
     "metadata": {},
     "output_type": "display_data"
    }
   ],
   "source": [
    "assert (\n",
    "    EQTL_MODEL is not None and len(EQTL_MODEL) > 0\n",
    "), \"A prediction/eQTL model must be given\"\n",
    "\n",
    "EQTL_MODEL_FILES_PREFIX = conf.PHENOMEXCAN[\"PREDICTION_MODELS\"][f\"{EQTL_MODEL}_PREFIX\"]\n",
    "display(f\"eQTL model: {EQTL_MODEL}) / {EQTL_MODEL_FILES_PREFIX}\")"
   ]
  },
  {
   "cell_type": "code",
   "execution_count": 8,
   "id": "552a7f63-a18c-4d3e-bb6a-94f99b431291",
   "metadata": {
    "execution": {
     "iopub.execute_input": "2022-08-02T20:33:20.567097Z",
     "iopub.status.busy": "2022-08-02T20:33:20.566887Z",
     "iopub.status.idle": "2022-08-02T20:33:20.584745Z",
     "shell.execute_reply": "2022-08-02T20:33:20.584217Z"
    },
    "papermill": {
     "duration": 0.035495,
     "end_time": "2022-08-02T20:33:20.586239",
     "exception": false,
     "start_time": "2022-08-02T20:33:20.550744",
     "status": "completed"
    },
    "tags": []
   },
   "outputs": [
    {
     "data": {
      "text/plain": [
       "'S-MultiXcan condition number: 30'"
      ]
     },
     "metadata": {},
     "output_type": "display_data"
    }
   ],
   "source": [
    "assert (\n",
    "    SMULTIXCAN_CONDITION_NUMBER is not None and SMULTIXCAN_CONDITION_NUMBER > 0\n",
    "), \"The S-MultiXcan condition number (positive integer) must be given\"\n",
    "\n",
    "display(f\"S-MultiXcan condition number: {SMULTIXCAN_CONDITION_NUMBER}\")"
   ]
  },
  {
   "cell_type": "code",
   "execution_count": 9,
   "id": "f34a336f-548e-4afe-8955-90eaea4f42c6",
   "metadata": {
    "execution": {
     "iopub.execute_input": "2022-08-02T20:33:20.607299Z",
     "iopub.status.busy": "2022-08-02T20:33:20.607101Z",
     "iopub.status.idle": "2022-08-02T20:33:20.625173Z",
     "shell.execute_reply": "2022-08-02T20:33:20.624646Z"
    },
    "papermill": {
     "duration": 0.031309,
     "end_time": "2022-08-02T20:33:20.626667",
     "exception": false,
     "start_time": "2022-08-02T20:33:20.595358",
     "status": "completed"
    },
    "tags": []
   },
   "outputs": [
    {
     "data": {
      "text/plain": [
       "'Working on chromosome 5'"
      ]
     },
     "metadata": {},
     "output_type": "display_data"
    }
   ],
   "source": [
    "assert CHROMOSOME is not None and (\n",
    "    1 <= CHROMOSOME <= 22\n",
    "), \"You have to select one chromosome (format: number between 1 and 22)\"\n",
    "\n",
    "CHROMOSOME = str(CHROMOSOME)\n",
    "display(f\"Working on chromosome {CHROMOSOME}\")"
   ]
  },
  {
   "cell_type": "code",
   "execution_count": 10,
   "id": "ab8e96e8-06b5-4363-9dcd-dc4d78cc27f7",
   "metadata": {
    "execution": {
     "iopub.execute_input": "2022-08-02T20:33:20.645705Z",
     "iopub.status.busy": "2022-08-02T20:33:20.645487Z",
     "iopub.status.idle": "2022-08-02T20:33:20.672181Z",
     "shell.execute_reply": "2022-08-02T20:33:20.671662Z"
    },
    "papermill": {
     "duration": 0.038138,
     "end_time": "2022-08-02T20:33:20.673685",
     "exception": false,
     "start_time": "2022-08-02T20:33:20.635547",
     "status": "completed"
    },
    "tags": []
   },
   "outputs": [
    {
     "data": {
      "text/plain": [
       "'Compute correlation within distance False'"
      ]
     },
     "metadata": {},
     "output_type": "display_data"
    }
   ],
   "source": [
    "display(f\"Compute correlation within distance {COMPUTE_CORRELATIONS_WITHIN_DISTANCE}\")"
   ]
  },
  {
   "cell_type": "code",
   "execution_count": 11,
   "id": "396392dc-0340-4540-9b02-e182b833f909",
   "metadata": {
    "execution": {
     "iopub.execute_input": "2022-08-02T20:33:20.708876Z",
     "iopub.status.busy": "2022-08-02T20:33:20.708663Z",
     "iopub.status.idle": "2022-08-02T20:33:20.746411Z",
     "shell.execute_reply": "2022-08-02T20:33:20.745905Z"
    },
    "papermill": {
     "duration": 0.051416,
     "end_time": "2022-08-02T20:33:20.747942",
     "exception": false,
     "start_time": "2022-08-02T20:33:20.696526",
     "status": "completed"
    },
    "tags": []
   },
   "outputs": [
    {
     "data": {
      "text/plain": [
       "'Using output dir base: /project/ritchie20/projects/phenoplier/base/results/gls/gene_corrs/cohorts/1000g_eur/1000g/mashr'"
      ]
     },
     "metadata": {},
     "output_type": "display_data"
    }
   ],
   "source": [
    "OUTPUT_DIR_BASE = (\n",
    "    conf.RESULTS[\"GLS\"]\n",
    "    / \"gene_corrs\"\n",
    "    / \"cohorts\"\n",
    "    / COHORT_NAME\n",
    "    / REFERENCE_PANEL.lower()\n",
    "    / EQTL_MODEL.lower()\n",
    ")\n",
    "OUTPUT_DIR_BASE.mkdir(parents=True, exist_ok=True)\n",
    "\n",
    "display(f\"Using output dir base: {OUTPUT_DIR_BASE}\")"
   ]
  },
  {
   "cell_type": "markdown",
   "id": "d2ba085e",
   "metadata": {
    "papermill": {
     "duration": 0.010057,
     "end_time": "2022-08-02T20:33:20.768815",
     "exception": false,
     "start_time": "2022-08-02T20:33:20.758758",
     "status": "completed"
    },
    "tags": []
   },
   "source": [
    "# Load data"
   ]
  },
  {
   "cell_type": "markdown",
   "id": "7dcb8db7",
   "metadata": {
    "papermill": {
     "duration": 0.009387,
     "end_time": "2022-08-02T20:33:20.787571",
     "exception": false,
     "start_time": "2022-08-02T20:33:20.778184",
     "status": "completed"
    },
    "tags": []
   },
   "source": [
    "## GWAS variants"
   ]
  },
  {
   "cell_type": "code",
   "execution_count": 12,
   "id": "29434c4e-8cd3-4b9b-82e4-b5a251d9dd19",
   "metadata": {
    "execution": {
     "iopub.execute_input": "2022-08-02T20:33:20.825959Z",
     "iopub.status.busy": "2022-08-02T20:33:20.825701Z",
     "iopub.status.idle": "2022-08-02T20:33:23.479118Z",
     "shell.execute_reply": "2022-08-02T20:33:23.478137Z"
    },
    "papermill": {
     "duration": 2.67614,
     "end_time": "2022-08-02T20:33:23.481519",
     "exception": false,
     "start_time": "2022-08-02T20:33:20.805379",
     "status": "completed"
    },
    "tags": []
   },
   "outputs": [],
   "source": [
    "with open(OUTPUT_DIR_BASE / \"gwas_variant_ids.pkl\", \"rb\") as handle:\n",
    "    gwas_variants_ids_set = pickle.load(handle)"
   ]
  },
  {
   "cell_type": "code",
   "execution_count": 13,
   "id": "b9d9dec2-4a76-4bf9-bde2-e24c95acb8a0",
   "metadata": {
    "execution": {
     "iopub.execute_input": "2022-08-02T20:33:23.512692Z",
     "iopub.status.busy": "2022-08-02T20:33:23.512377Z",
     "iopub.status.idle": "2022-08-02T20:33:23.564079Z",
     "shell.execute_reply": "2022-08-02T20:33:23.563528Z"
    },
    "papermill": {
     "duration": 0.070604,
     "end_time": "2022-08-02T20:33:23.565621",
     "exception": false,
     "start_time": "2022-08-02T20:33:23.495017",
     "status": "completed"
    },
    "tags": []
   },
   "outputs": [
    {
     "data": {
      "text/plain": [
       "8325729"
      ]
     },
     "execution_count": 13,
     "metadata": {},
     "output_type": "execute_result"
    }
   ],
   "source": [
    "len(gwas_variants_ids_set)"
   ]
  },
  {
   "cell_type": "code",
   "execution_count": 14,
   "id": "4235b06a-6034-4ee4-a0a3-2ae35d122418",
   "metadata": {
    "execution": {
     "iopub.execute_input": "2022-08-02T20:33:23.615795Z",
     "iopub.status.busy": "2022-08-02T20:33:23.615564Z",
     "iopub.status.idle": "2022-08-02T20:33:24.271963Z",
     "shell.execute_reply": "2022-08-02T20:33:24.271282Z"
    },
    "papermill": {
     "duration": 0.689131,
     "end_time": "2022-08-02T20:33:24.274039",
     "exception": false,
     "start_time": "2022-08-02T20:33:23.584908",
     "status": "completed"
    },
    "tags": []
   },
   "outputs": [
    {
     "data": {
      "text/plain": [
       "['chr11_115919160_A_G_b38',\n",
       " 'chr5_72156423_G_A_b38',\n",
       " 'chr15_82180971_G_A_b38',\n",
       " 'chr13_75456137_A_C_b38',\n",
       " 'chr12_22829172_C_T_b38']"
      ]
     },
     "execution_count": 14,
     "metadata": {},
     "output_type": "execute_result"
    }
   ],
   "source": [
    "list(gwas_variants_ids_set)[:5]"
   ]
  },
  {
   "cell_type": "markdown",
   "id": "07866999-2305-41f9-a144-e69c9122c212",
   "metadata": {
    "papermill": {
     "duration": 0.014165,
     "end_time": "2022-08-02T20:33:24.302413",
     "exception": false,
     "start_time": "2022-08-02T20:33:24.288248",
     "status": "completed"
    },
    "tags": []
   },
   "source": [
    "## S-PrediXcan tissue models"
   ]
  },
  {
   "cell_type": "code",
   "execution_count": 15,
   "id": "780611d9-77c8-405f-90a4-f271f7b09397",
   "metadata": {
    "execution": {
     "iopub.execute_input": "2022-08-02T20:33:24.328846Z",
     "iopub.status.busy": "2022-08-02T20:33:24.328543Z",
     "iopub.status.idle": "2022-08-02T20:33:25.589194Z",
     "shell.execute_reply": "2022-08-02T20:33:25.588484Z"
    },
    "papermill": {
     "duration": 1.27737,
     "end_time": "2022-08-02T20:33:25.591293",
     "exception": false,
     "start_time": "2022-08-02T20:33:24.313923",
     "status": "completed"
    },
    "tags": []
   },
   "outputs": [],
   "source": [
    "spredixcan_genes_models = pd.read_pickle(OUTPUT_DIR_BASE / \"gene_tissues.pkl\")"
   ]
  },
  {
   "cell_type": "code",
   "execution_count": 16,
   "id": "726dd1f6-9557-4225-91fa-b3b879ea96e1",
   "metadata": {
    "execution": {
     "iopub.execute_input": "2022-08-02T20:33:25.648853Z",
     "iopub.status.busy": "2022-08-02T20:33:25.648642Z",
     "iopub.status.idle": "2022-08-02T20:33:27.144949Z",
     "shell.execute_reply": "2022-08-02T20:33:27.144310Z"
    },
    "papermill": {
     "duration": 1.518916,
     "end_time": "2022-08-02T20:33:27.146742",
     "exception": false,
     "start_time": "2022-08-02T20:33:25.627826",
     "status": "completed"
    },
    "tags": []
   },
   "outputs": [
    {
     "data": {
      "text/plain": [
       "(6444, 10)"
      ]
     },
     "execution_count": 16,
     "metadata": {},
     "output_type": "execute_result"
    }
   ],
   "source": [
    "spredixcan_genes_models.shape"
   ]
  },
  {
   "cell_type": "code",
   "execution_count": 17,
   "id": "944a1b48-222c-4eb0-b252-b9de2cbca215",
   "metadata": {
    "execution": {
     "iopub.execute_input": "2022-08-02T20:33:27.180536Z",
     "iopub.status.busy": "2022-08-02T20:33:27.180316Z",
     "iopub.status.idle": "2022-08-02T20:33:27.224175Z",
     "shell.execute_reply": "2022-08-02T20:33:27.223650Z"
    },
    "papermill": {
     "duration": 0.061335,
     "end_time": "2022-08-02T20:33:27.225724",
     "exception": false,
     "start_time": "2022-08-02T20:33:27.164389",
     "status": "completed"
    },
    "tags": []
   },
   "outputs": [
    {
     "data": {
      "text/html": [
       "<div>\n",
       "<style scoped>\n",
       "    .dataframe tbody tr th:only-of-type {\n",
       "        vertical-align: middle;\n",
       "    }\n",
       "\n",
       "    .dataframe tbody tr th {\n",
       "        vertical-align: top;\n",
       "    }\n",
       "\n",
       "    .dataframe thead th {\n",
       "        text-align: right;\n",
       "    }\n",
       "</style>\n",
       "<table border=\"1\" class=\"dataframe\">\n",
       "  <thead>\n",
       "    <tr style=\"text-align: right;\">\n",
       "      <th></th>\n",
       "      <th>gene_name</th>\n",
       "      <th>tissue</th>\n",
       "      <th>n_tissues</th>\n",
       "      <th>tissues_pc_variances</th>\n",
       "      <th>tissues_pc_variances_cov</th>\n",
       "      <th>tissues_variances</th>\n",
       "      <th>n_snps_used_sum</th>\n",
       "      <th>n_snps_in_model_sum</th>\n",
       "      <th>unique_n_snps_in_model</th>\n",
       "      <th>unique_n_snps_used</th>\n",
       "    </tr>\n",
       "    <tr>\n",
       "      <th>gene_id</th>\n",
       "      <th></th>\n",
       "      <th></th>\n",
       "      <th></th>\n",
       "      <th></th>\n",
       "      <th></th>\n",
       "      <th></th>\n",
       "      <th></th>\n",
       "      <th></th>\n",
       "      <th></th>\n",
       "      <th></th>\n",
       "    </tr>\n",
       "  </thead>\n",
       "  <tbody>\n",
       "    <tr>\n",
       "      <th>ENSG00000000419</th>\n",
       "      <td>DPM1</td>\n",
       "      <td>(Brain_Hypothalamus, Brain_Substantia_nigra)</td>\n",
       "      <td>2</td>\n",
       "      <td>[1.0372585612589562, 0.9627414387410438]</td>\n",
       "      <td>[0.008284978865240098, 0.000732674839341259]</td>\n",
       "      <td>{'Brain_Substantia_nigra': 0.00073379232755585...</td>\n",
       "      <td>2</td>\n",
       "      <td>2</td>\n",
       "      <td>2</td>\n",
       "      <td>2</td>\n",
       "    </tr>\n",
       "    <tr>\n",
       "      <th>ENSG00000000938</th>\n",
       "      <td>FGR</td>\n",
       "      <td>(Stomach, Brain_Cerebellum, Artery_Aorta, Pitu...</td>\n",
       "      <td>36</td>\n",
       "      <td>[30.57880701512375, 2.029732645600111, 1.40179...</td>\n",
       "      <td>[0.22478471249969334, 0.00881387381303179]</td>\n",
       "      <td>{'Brain_Cerebellum': 0.020204550992367513, 'Ne...</td>\n",
       "      <td>40</td>\n",
       "      <td>40</td>\n",
       "      <td>5</td>\n",
       "      <td>5</td>\n",
       "    </tr>\n",
       "    <tr>\n",
       "      <th>ENSG00000000971</th>\n",
       "      <td>CFH</td>\n",
       "      <td>(Stomach, Brain_Cerebellum, Artery_Aorta, Brai...</td>\n",
       "      <td>34</td>\n",
       "      <td>[20.77260827663932, 8.17715814232484, 1.864649...</td>\n",
       "      <td>[0.19699534279580108, 0.05731825316349161, 0.0...</td>\n",
       "      <td>{'Brain_Cerebellum': 0.0042432870992385, 'Nerv...</td>\n",
       "      <td>44</td>\n",
       "      <td>44</td>\n",
       "      <td>12</td>\n",
       "      <td>12</td>\n",
       "    </tr>\n",
       "    <tr>\n",
       "      <th>ENSG00000001084</th>\n",
       "      <td>GCLC</td>\n",
       "      <td>(Brain_Cerebellum, Artery_Aorta, Brain_Substan...</td>\n",
       "      <td>32</td>\n",
       "      <td>[20.976449940269084, 4.772354749306766, 2.2362...</td>\n",
       "      <td>[0.36578096389253945, 0.12645413710424552, 0.0...</td>\n",
       "      <td>{'Brain_Cerebellum': 0.03163805534230767, 'Ner...</td>\n",
       "      <td>46</td>\n",
       "      <td>46</td>\n",
       "      <td>23</td>\n",
       "      <td>23</td>\n",
       "    </tr>\n",
       "    <tr>\n",
       "      <th>ENSG00000001167</th>\n",
       "      <td>NFYA</td>\n",
       "      <td>(Stomach, Brain_Cerebellum, Artery_Aorta, Lung...</td>\n",
       "      <td>40</td>\n",
       "      <td>[37.638369782404986]</td>\n",
       "      <td>[1.4787144508923995, 0.049690618387739104]</td>\n",
       "      <td>{'Brain_Cerebellum': 0.1311467889326876, 'Nerv...</td>\n",
       "      <td>47</td>\n",
       "      <td>48</td>\n",
       "      <td>14</td>\n",
       "      <td>13</td>\n",
       "    </tr>\n",
       "  </tbody>\n",
       "</table>\n",
       "</div>"
      ],
      "text/plain": [
       "                gene_name                                             tissue  \\\n",
       "gene_id                                                                        \n",
       "ENSG00000000419      DPM1       (Brain_Hypothalamus, Brain_Substantia_nigra)   \n",
       "ENSG00000000938       FGR  (Stomach, Brain_Cerebellum, Artery_Aorta, Pitu...   \n",
       "ENSG00000000971       CFH  (Stomach, Brain_Cerebellum, Artery_Aorta, Brai...   \n",
       "ENSG00000001084      GCLC  (Brain_Cerebellum, Artery_Aorta, Brain_Substan...   \n",
       "ENSG00000001167      NFYA  (Stomach, Brain_Cerebellum, Artery_Aorta, Lung...   \n",
       "\n",
       "                 n_tissues                               tissues_pc_variances  \\\n",
       "gene_id                                                                         \n",
       "ENSG00000000419          2           [1.0372585612589562, 0.9627414387410438]   \n",
       "ENSG00000000938         36  [30.57880701512375, 2.029732645600111, 1.40179...   \n",
       "ENSG00000000971         34  [20.77260827663932, 8.17715814232484, 1.864649...   \n",
       "ENSG00000001084         32  [20.976449940269084, 4.772354749306766, 2.2362...   \n",
       "ENSG00000001167         40                               [37.638369782404986]   \n",
       "\n",
       "                                          tissues_pc_variances_cov  \\\n",
       "gene_id                                                              \n",
       "ENSG00000000419       [0.008284978865240098, 0.000732674839341259]   \n",
       "ENSG00000000938         [0.22478471249969334, 0.00881387381303179]   \n",
       "ENSG00000000971  [0.19699534279580108, 0.05731825316349161, 0.0...   \n",
       "ENSG00000001084  [0.36578096389253945, 0.12645413710424552, 0.0...   \n",
       "ENSG00000001167         [1.4787144508923995, 0.049690618387739104]   \n",
       "\n",
       "                                                 tissues_variances  \\\n",
       "gene_id                                                              \n",
       "ENSG00000000419  {'Brain_Substantia_nigra': 0.00073379232755585...   \n",
       "ENSG00000000938  {'Brain_Cerebellum': 0.020204550992367513, 'Ne...   \n",
       "ENSG00000000971  {'Brain_Cerebellum': 0.0042432870992385, 'Nerv...   \n",
       "ENSG00000001084  {'Brain_Cerebellum': 0.03163805534230767, 'Ner...   \n",
       "ENSG00000001167  {'Brain_Cerebellum': 0.1311467889326876, 'Nerv...   \n",
       "\n",
       "                 n_snps_used_sum  n_snps_in_model_sum  unique_n_snps_in_model  \\\n",
       "gene_id                                                                         \n",
       "ENSG00000000419                2                    2                       2   \n",
       "ENSG00000000938               40                   40                       5   \n",
       "ENSG00000000971               44                   44                      12   \n",
       "ENSG00000001084               46                   46                      23   \n",
       "ENSG00000001167               47                   48                      14   \n",
       "\n",
       "                 unique_n_snps_used  \n",
       "gene_id                              \n",
       "ENSG00000000419                   2  \n",
       "ENSG00000000938                   5  \n",
       "ENSG00000000971                  12  \n",
       "ENSG00000001084                  23  \n",
       "ENSG00000001167                  13  "
      ]
     },
     "execution_count": 17,
     "metadata": {},
     "output_type": "execute_result"
    }
   ],
   "source": [
    "spredixcan_genes_models.head()"
   ]
  },
  {
   "cell_type": "code",
   "execution_count": 18,
   "id": "d1c11bb1-be0b-4f40-b360-633d6827109f",
   "metadata": {
    "execution": {
     "iopub.execute_input": "2022-08-02T20:33:27.259820Z",
     "iopub.status.busy": "2022-08-02T20:33:27.259621Z",
     "iopub.status.idle": "2022-08-02T20:33:27.276842Z",
     "shell.execute_reply": "2022-08-02T20:33:27.276308Z"
    },
    "papermill": {
     "duration": 0.034561,
     "end_time": "2022-08-02T20:33:27.278445",
     "exception": false,
     "start_time": "2022-08-02T20:33:27.243884",
     "status": "completed"
    },
    "tags": []
   },
   "outputs": [],
   "source": [
    "assert spredixcan_genes_models.index.is_unique"
   ]
  },
  {
   "cell_type": "markdown",
   "id": "a5b5092c-a13e-47c4-a92a-480fcc08f3ae",
   "metadata": {
    "papermill": {
     "duration": 0.013557,
     "end_time": "2022-08-02T20:33:27.309046",
     "exception": false,
     "start_time": "2022-08-02T20:33:27.295489",
     "status": "completed"
    },
    "tags": []
   },
   "source": [
    "## Gene info"
   ]
  },
  {
   "cell_type": "code",
   "execution_count": 19,
   "id": "7d6bb224-88e9-4358-ac10-43a41d92cdad",
   "metadata": {
    "execution": {
     "iopub.execute_input": "2022-08-02T20:33:27.342337Z",
     "iopub.status.busy": "2022-08-02T20:33:27.342139Z",
     "iopub.status.idle": "2022-08-02T20:33:27.368084Z",
     "shell.execute_reply": "2022-08-02T20:33:27.367569Z"
    },
    "papermill": {
     "duration": 0.044212,
     "end_time": "2022-08-02T20:33:27.369720",
     "exception": false,
     "start_time": "2022-08-02T20:33:27.325508",
     "status": "completed"
    },
    "tags": []
   },
   "outputs": [],
   "source": [
    "genes_info = pd.read_pickle(OUTPUT_DIR_BASE / \"genes_info.pkl\")"
   ]
  },
  {
   "cell_type": "code",
   "execution_count": 20,
   "id": "9e32abfa-546d-483e-8c18-d526e9e05903",
   "metadata": {
    "execution": {
     "iopub.execute_input": "2022-08-02T20:33:27.403929Z",
     "iopub.status.busy": "2022-08-02T20:33:27.403719Z",
     "iopub.status.idle": "2022-08-02T20:33:27.421559Z",
     "shell.execute_reply": "2022-08-02T20:33:27.421048Z"
    },
    "papermill": {
     "duration": 0.039069,
     "end_time": "2022-08-02T20:33:27.423104",
     "exception": false,
     "start_time": "2022-08-02T20:33:27.384035",
     "status": "completed"
    },
    "tags": []
   },
   "outputs": [
    {
     "data": {
      "text/plain": [
       "(6444, 7)"
      ]
     },
     "execution_count": 20,
     "metadata": {},
     "output_type": "execute_result"
    }
   ],
   "source": [
    "genes_info.shape"
   ]
  },
  {
   "cell_type": "code",
   "execution_count": 21,
   "id": "d16c3e92-85ec-468a-9a56-e25a9774a1cb",
   "metadata": {
    "execution": {
     "iopub.execute_input": "2022-08-02T20:33:27.457141Z",
     "iopub.status.busy": "2022-08-02T20:33:27.456943Z",
     "iopub.status.idle": "2022-08-02T20:33:27.480146Z",
     "shell.execute_reply": "2022-08-02T20:33:27.479621Z"
    },
    "papermill": {
     "duration": 0.041561,
     "end_time": "2022-08-02T20:33:27.481668",
     "exception": false,
     "start_time": "2022-08-02T20:33:27.440107",
     "status": "completed"
    },
    "tags": []
   },
   "outputs": [
    {
     "data": {
      "text/html": [
       "<div>\n",
       "<style scoped>\n",
       "    .dataframe tbody tr th:only-of-type {\n",
       "        vertical-align: middle;\n",
       "    }\n",
       "\n",
       "    .dataframe tbody tr th {\n",
       "        vertical-align: top;\n",
       "    }\n",
       "\n",
       "    .dataframe thead th {\n",
       "        text-align: right;\n",
       "    }\n",
       "</style>\n",
       "<table border=\"1\" class=\"dataframe\">\n",
       "  <thead>\n",
       "    <tr style=\"text-align: right;\">\n",
       "      <th></th>\n",
       "      <th>name</th>\n",
       "      <th>id</th>\n",
       "      <th>chr</th>\n",
       "      <th>band</th>\n",
       "      <th>start_position</th>\n",
       "      <th>end_position</th>\n",
       "      <th>gene_length</th>\n",
       "    </tr>\n",
       "  </thead>\n",
       "  <tbody>\n",
       "    <tr>\n",
       "      <th>0</th>\n",
       "      <td>CDC14B</td>\n",
       "      <td>ENSG00000081377</td>\n",
       "      <td>9</td>\n",
       "      <td>9q22.33</td>\n",
       "      <td>96490241.0</td>\n",
       "      <td>96619830.0</td>\n",
       "      <td>129589.0</td>\n",
       "    </tr>\n",
       "    <tr>\n",
       "      <th>1</th>\n",
       "      <td>DOCK3</td>\n",
       "      <td>ENSG00000088538</td>\n",
       "      <td>3</td>\n",
       "      <td>3p21.2</td>\n",
       "      <td>50674927.0</td>\n",
       "      <td>51384198.0</td>\n",
       "      <td>709271.0</td>\n",
       "    </tr>\n",
       "    <tr>\n",
       "      <th>2</th>\n",
       "      <td>SLCO4C1</td>\n",
       "      <td>ENSG00000173930</td>\n",
       "      <td>5</td>\n",
       "      <td>5q21.1</td>\n",
       "      <td>102233986.0</td>\n",
       "      <td>102296284.0</td>\n",
       "      <td>62298.0</td>\n",
       "    </tr>\n",
       "    <tr>\n",
       "      <th>3</th>\n",
       "      <td>UST</td>\n",
       "      <td>ENSG00000111962</td>\n",
       "      <td>6</td>\n",
       "      <td>6q25.1</td>\n",
       "      <td>148747030.0</td>\n",
       "      <td>149076990.0</td>\n",
       "      <td>329960.0</td>\n",
       "    </tr>\n",
       "    <tr>\n",
       "      <th>4</th>\n",
       "      <td>CFH</td>\n",
       "      <td>ENSG00000000971</td>\n",
       "      <td>1</td>\n",
       "      <td>1q31.3</td>\n",
       "      <td>196651878.0</td>\n",
       "      <td>196747504.0</td>\n",
       "      <td>95626.0</td>\n",
       "    </tr>\n",
       "  </tbody>\n",
       "</table>\n",
       "</div>"
      ],
      "text/plain": [
       "      name               id chr     band  start_position  end_position  \\\n",
       "0   CDC14B  ENSG00000081377   9  9q22.33      96490241.0    96619830.0   \n",
       "1    DOCK3  ENSG00000088538   3   3p21.2      50674927.0    51384198.0   \n",
       "2  SLCO4C1  ENSG00000173930   5   5q21.1     102233986.0   102296284.0   \n",
       "3      UST  ENSG00000111962   6   6q25.1     148747030.0   149076990.0   \n",
       "4      CFH  ENSG00000000971   1   1q31.3     196651878.0   196747504.0   \n",
       "\n",
       "   gene_length  \n",
       "0     129589.0  \n",
       "1     709271.0  \n",
       "2      62298.0  \n",
       "3     329960.0  \n",
       "4      95626.0  "
      ]
     },
     "execution_count": 21,
     "metadata": {},
     "output_type": "execute_result"
    }
   ],
   "source": [
    "genes_info.head()"
   ]
  },
  {
   "cell_type": "markdown",
   "id": "d3843e06",
   "metadata": {
    "papermill": {
     "duration": 0.019808,
     "end_time": "2022-08-02T20:33:27.518461",
     "exception": false,
     "start_time": "2022-08-02T20:33:27.498653",
     "status": "completed"
    },
    "tags": []
   },
   "source": [
    "# Compute correlations"
   ]
  },
  {
   "cell_type": "code",
   "execution_count": 22,
   "id": "cb859c15-d1f3-4006-a74c-2b83c0db9611",
   "metadata": {
    "execution": {
     "iopub.execute_input": "2022-08-02T20:33:27.552537Z",
     "iopub.status.busy": "2022-08-02T20:33:27.552338Z",
     "iopub.status.idle": "2022-08-02T20:33:27.574243Z",
     "shell.execute_reply": "2022-08-02T20:33:27.573722Z"
    },
    "papermill": {
     "duration": 0.041296,
     "end_time": "2022-08-02T20:33:27.575782",
     "exception": false,
     "start_time": "2022-08-02T20:33:27.534486",
     "status": "completed"
    },
    "tags": []
   },
   "outputs": [
    {
     "data": {
      "text/plain": [
       "PosixPath('/project/ritchie20/projects/phenoplier/base/results/gls/gene_corrs/cohorts/1000g_eur/1000g/mashr/by_chr/gene_corrs-chr5.pkl')"
      ]
     },
     "metadata": {},
     "output_type": "display_data"
    }
   ],
   "source": [
    "output_dir = OUTPUT_DIR_BASE / \"by_chr\"\n",
    "output_dir.mkdir(exist_ok=True, parents=True)\n",
    "output_file = output_dir / f\"gene_corrs-chr{CHROMOSOME}.pkl\"\n",
    "display(output_file)"
   ]
  },
  {
   "cell_type": "code",
   "execution_count": 23,
   "id": "aa674fe4-6794-4eed-98fa-32b39d1d4ace",
   "metadata": {
    "execution": {
     "iopub.execute_input": "2022-08-02T20:33:27.612657Z",
     "iopub.status.busy": "2022-08-02T20:33:27.612434Z",
     "iopub.status.idle": "2022-08-02T20:33:27.628560Z",
     "shell.execute_reply": "2022-08-02T20:33:27.628065Z"
    },
    "papermill": {
     "duration": 0.036472,
     "end_time": "2022-08-02T20:33:27.630180",
     "exception": false,
     "start_time": "2022-08-02T20:33:27.593708",
     "status": "completed"
    },
    "tags": []
   },
   "outputs": [],
   "source": [
    "warnings.filterwarnings(\"error\")"
   ]
  },
  {
   "cell_type": "code",
   "execution_count": 24,
   "id": "44d5450b-3baf-43f1-9e2e-4b06f1a785f8",
   "metadata": {
    "execution": {
     "iopub.execute_input": "2022-08-02T20:33:27.664977Z",
     "iopub.status.busy": "2022-08-02T20:33:27.664750Z",
     "iopub.status.idle": "2022-08-02T20:33:27.682239Z",
     "shell.execute_reply": "2022-08-02T20:33:27.681723Z"
    },
    "papermill": {
     "duration": 0.037285,
     "end_time": "2022-08-02T20:33:27.683853",
     "exception": false,
     "start_time": "2022-08-02T20:33:27.646568",
     "status": "completed"
    },
    "tags": []
   },
   "outputs": [],
   "source": [
    "# standard checks\n",
    "all_chrs = genes_info[\"chr\"].dropna().unique()\n",
    "assert all_chrs.shape[0] == 22\n",
    "\n",
    "# select chromosome given by the user\n",
    "assert CHROMOSOME in all_chrs"
   ]
  },
  {
   "cell_type": "code",
   "execution_count": 25,
   "id": "2d7c043c-92a7-4d35-991b-fa69ac1e0268",
   "metadata": {
    "execution": {
     "iopub.execute_input": "2022-08-02T20:33:27.718417Z",
     "iopub.status.busy": "2022-08-02T20:33:27.718218Z",
     "iopub.status.idle": "2022-08-02T20:33:27.737360Z",
     "shell.execute_reply": "2022-08-02T20:33:27.736818Z"
    },
    "papermill": {
     "duration": 0.037508,
     "end_time": "2022-08-02T20:33:27.739020",
     "exception": false,
     "start_time": "2022-08-02T20:33:27.701512",
     "status": "completed"
    },
    "tags": []
   },
   "outputs": [
    {
     "name": "stdout",
     "output_type": "stream",
     "text": [
      "Number of genes in chromosome: 305\n"
     ]
    }
   ],
   "source": [
    "# run only on the chromosome specified\n",
    "all_chrs = [CHROMOSOME]\n",
    "genes_chr = genes_info[genes_info[\"chr\"] == CHROMOSOME]\n",
    "\n",
    "# For testing purposes\n",
    "# genes_chr = genes_chr.sample(n=20)\n",
    "\n",
    "print(f\"Number of genes in chromosome: {genes_chr.shape[0]}\", flush=True)"
   ]
  },
  {
   "cell_type": "code",
   "execution_count": 26,
   "id": "916015d8-2979-46d3-a9b9-1cf5a0932c6a",
   "metadata": {
    "execution": {
     "iopub.execute_input": "2022-08-02T20:33:27.772992Z",
     "iopub.status.busy": "2022-08-02T20:33:27.772763Z",
     "iopub.status.idle": "2022-08-02T20:33:27.789232Z",
     "shell.execute_reply": "2022-08-02T20:33:27.788700Z"
    },
    "papermill": {
     "duration": 0.034761,
     "end_time": "2022-08-02T20:33:27.790869",
     "exception": false,
     "start_time": "2022-08-02T20:33:27.756108",
     "status": "completed"
    },
    "tags": []
   },
   "outputs": [],
   "source": [
    "# sort genes by starting position to make visualizations better later\n",
    "genes_chr = genes_chr.sort_values(\"start_position\")"
   ]
  },
  {
   "cell_type": "code",
   "execution_count": 27,
   "id": "a38aa74a-8ad3-47f6-8ef9-56be0e011774",
   "metadata": {
    "execution": {
     "iopub.execute_input": "2022-08-02T20:33:27.825924Z",
     "iopub.status.busy": "2022-08-02T20:33:27.825706Z",
     "iopub.status.idle": "2022-08-02T20:33:27.843032Z",
     "shell.execute_reply": "2022-08-02T20:33:27.842470Z"
    },
    "papermill": {
     "duration": 0.035933,
     "end_time": "2022-08-02T20:33:27.844698",
     "exception": false,
     "start_time": "2022-08-02T20:33:27.808765",
     "status": "completed"
    },
    "tags": []
   },
   "outputs": [],
   "source": [
    "gene_chr_objs = [Gene(ensembl_id=gene_id) for gene_id in genes_chr[\"id\"]]"
   ]
  },
  {
   "cell_type": "code",
   "execution_count": 28,
   "id": "570f974f-13c3-42b6-ad3a-ce99ca885c1a",
   "metadata": {
    "execution": {
     "iopub.execute_input": "2022-08-02T20:33:27.877703Z",
     "iopub.status.busy": "2022-08-02T20:33:27.877480Z",
     "iopub.status.idle": "2022-08-02T20:33:27.896984Z",
     "shell.execute_reply": "2022-08-02T20:33:27.896430Z"
    },
    "papermill": {
     "duration": 0.036836,
     "end_time": "2022-08-02T20:33:27.898656",
     "exception": false,
     "start_time": "2022-08-02T20:33:27.861820",
     "status": "completed"
    },
    "tags": []
   },
   "outputs": [
    {
     "name": "stdout",
     "output_type": "stream",
     "text": [
      "Number of gene combinations: 46360\n"
     ]
    }
   ],
   "source": [
    "n = len(gene_chr_objs)\n",
    "n_comb = int(n * (n - 1) / 2.0)\n",
    "print(f\"Number of gene combinations: {n_comb}\", flush=True)"
   ]
  },
  {
   "cell_type": "code",
   "execution_count": 29,
   "id": "cdbb90a1",
   "metadata": {
    "execution": {
     "iopub.execute_input": "2022-08-02T20:33:27.934915Z",
     "iopub.status.busy": "2022-08-02T20:33:27.934709Z",
     "iopub.status.idle": "2022-08-02T21:36:59.435512Z",
     "shell.execute_reply": "2022-08-02T21:36:59.434434Z"
    },
    "papermill": {
     "duration": 3811.521723,
     "end_time": "2022-08-02T21:36:59.438394",
     "exception": false,
     "start_time": "2022-08-02T20:33:27.916671",
     "status": "completed"
    },
    "tags": []
   },
   "outputs": [
    {
     "name": "stderr",
     "output_type": "stream",
     "text": [
      "ENSG00000113303 / ENSG00000165810: 100%|████████████████████| 46360/46360 [1:03:31<00:00, 12.16it/s]\n"
     ]
    },
    {
     "data": {
      "text/plain": [
       "PosixPath('/project/ritchie20/projects/phenoplier/base/results/gls/gene_corrs/cohorts/1000g_eur/1000g/mashr/by_chr/gene_corrs-chr5.pkl')"
      ]
     },
     "metadata": {},
     "output_type": "display_data"
    }
   ],
   "source": [
    "gene_corrs = []\n",
    "\n",
    "i = 0\n",
    "with tqdm(ncols=100, total=n_comb) as pbar:\n",
    "    for gene1_idx in range(0, len(gene_chr_objs) - 1):\n",
    "        gene1_obj = gene_chr_objs[gene1_idx]\n",
    "        gene1_tissues = spredixcan_genes_models.loc[gene1_obj.ensembl_id, \"tissue\"]\n",
    "\n",
    "        for gene2_idx in range(gene1_idx + 1, len(gene_chr_objs)):\n",
    "            gene2_obj = gene_chr_objs[gene2_idx]\n",
    "            gene2_tissues = spredixcan_genes_models.loc[gene2_obj.ensembl_id, \"tissue\"]\n",
    "\n",
    "            pbar.set_description(f\"{gene1_obj.ensembl_id} / {gene2_obj.ensembl_id}\")\n",
    "\n",
    "            try:\n",
    "                r = gene1_obj.get_ssm_correlation(\n",
    "                    other_gene=gene2_obj,\n",
    "                    tissues=gene1_tissues,\n",
    "                    other_tissues=gene2_tissues,\n",
    "                    snps_subset=gwas_variants_ids_set,\n",
    "                    condition_number=SMULTIXCAN_CONDITION_NUMBER,\n",
    "                    reference_panel=REFERENCE_PANEL,\n",
    "                    model_type=EQTL_MODEL,\n",
    "                    use_within_distance=COMPUTE_CORRELATIONS_WITHIN_DISTANCE,\n",
    "                )\n",
    "\n",
    "                if r is None:\n",
    "                    # if r is None, it's very likely because:\n",
    "                    #  * one of the genes has no prediction models\n",
    "                    #  * all the SNPs predictors for the gene are not present in the reference\n",
    "                    #    panel\n",
    "\n",
    "                    r = 0.0\n",
    "\n",
    "                gene_corrs.append(r)\n",
    "            except Warning as e:\n",
    "                if not DEBUG_MODE:\n",
    "                    raise e\n",
    "\n",
    "                print(\n",
    "                    f\"RuntimeWarning for genes {gene1_obj.ensembl_id} and {gene2_obj.ensembl_id}\",\n",
    "                    flush=True,\n",
    "                )\n",
    "                print(traceback.format_exc(), flush=True)\n",
    "\n",
    "                gene_corrs.append(np.nan)\n",
    "            except Exception as e:\n",
    "                if not DEBUG_MODE:\n",
    "                    raise e\n",
    "\n",
    "                print(\n",
    "                    f\"Exception for genes {gene1_obj.ensembl_id} and {gene2_obj.ensembl_id}\",\n",
    "                    flush=True,\n",
    "                )\n",
    "                print(traceback.format_exc(), flush=True)\n",
    "\n",
    "                gene_corrs.append(np.nan)\n",
    "\n",
    "            pbar.update(1)\n",
    "\n",
    "# create a pandas series\n",
    "gene_corrs_flat = pd.Series(gene_corrs)\n",
    "\n",
    "# save\n",
    "# FIXME: consider saving only the condenced matrix here. See here for\n",
    "# more details: https://github.com/greenelab/phenoplier/pull/38#discussion_r634600813\n",
    "gene_corrs_data = squareform(np.array(gene_corrs, dtype=np.float64))\n",
    "np.fill_diagonal(gene_corrs_data, 1.0)\n",
    "\n",
    "gene_chr_ids = [g.ensembl_id for g in gene_chr_objs]\n",
    "gene_corrs_df = pd.DataFrame(\n",
    "    data=gene_corrs_data,\n",
    "    index=gene_chr_ids,\n",
    "    columns=gene_chr_ids,\n",
    ")\n",
    "\n",
    "output_dir.mkdir(exist_ok=True, parents=True)\n",
    "display(output_file)\n",
    "\n",
    "gene_corrs_df.to_pickle(output_file)"
   ]
  },
  {
   "cell_type": "markdown",
   "id": "faa67b51-5373-470f-aa72-2ded53fa6dfe",
   "metadata": {
    "papermill": {
     "duration": 2.767931,
     "end_time": "2022-08-02T21:37:05.103381",
     "exception": false,
     "start_time": "2022-08-02T21:37:02.335450",
     "status": "completed"
    },
    "tags": []
   },
   "source": [
    "# Testing"
   ]
  },
  {
   "cell_type": "code",
   "execution_count": 30,
   "id": "14f7d046-4b55-4896-a56b-990127bcc388",
   "metadata": {
    "execution": {
     "iopub.execute_input": "2022-08-02T21:37:11.124676Z",
     "iopub.status.busy": "2022-08-02T21:37:11.124355Z",
     "iopub.status.idle": "2022-08-02T21:37:11.347760Z",
     "shell.execute_reply": "2022-08-02T21:37:11.347129Z"
    },
    "papermill": {
     "duration": 3.246092,
     "end_time": "2022-08-02T21:37:11.349505",
     "exception": false,
     "start_time": "2022-08-02T21:37:08.103413",
     "status": "completed"
    },
    "tags": []
   },
   "outputs": [
    {
     "data": {
      "text/plain": [
       "(305, 305)"
      ]
     },
     "execution_count": 30,
     "metadata": {},
     "output_type": "execute_result"
    }
   ],
   "source": [
    "gene_corrs_df.shape"
   ]
  },
  {
   "cell_type": "code",
   "execution_count": 31,
   "id": "c7d15414-3297-4537-a7c6-7588c0baeb75",
   "metadata": {
    "execution": {
     "iopub.execute_input": "2022-08-02T21:37:17.152308Z",
     "iopub.status.busy": "2022-08-02T21:37:17.152008Z",
     "iopub.status.idle": "2022-08-02T21:37:17.194160Z",
     "shell.execute_reply": "2022-08-02T21:37:17.193533Z"
    },
    "papermill": {
     "duration": 2.972113,
     "end_time": "2022-08-02T21:37:17.196079",
     "exception": false,
     "start_time": "2022-08-02T21:37:14.223966",
     "status": "completed"
    },
    "tags": []
   },
   "outputs": [
    {
     "data": {
      "text/html": [
       "<div>\n",
       "<style scoped>\n",
       "    .dataframe tbody tr th:only-of-type {\n",
       "        vertical-align: middle;\n",
       "    }\n",
       "\n",
       "    .dataframe tbody tr th {\n",
       "        vertical-align: top;\n",
       "    }\n",
       "\n",
       "    .dataframe thead th {\n",
       "        text-align: right;\n",
       "    }\n",
       "</style>\n",
       "<table border=\"1\" class=\"dataframe\">\n",
       "  <thead>\n",
       "    <tr style=\"text-align: right;\">\n",
       "      <th></th>\n",
       "      <th>ENSG00000073578</th>\n",
       "      <th>ENSG00000180104</th>\n",
       "      <th>ENSG00000066230</th>\n",
       "      <th>ENSG00000112877</th>\n",
       "      <th>ENSG00000113504</th>\n",
       "      <th>ENSG00000174358</th>\n",
       "      <th>ENSG00000164362</th>\n",
       "      <th>ENSG00000049656</th>\n",
       "      <th>ENSG00000153395</th>\n",
       "      <th>ENSG00000171421</th>\n",
       "      <th>...</th>\n",
       "      <th>ENSG00000161021</th>\n",
       "      <th>ENSG00000161013</th>\n",
       "      <th>ENSG00000161011</th>\n",
       "      <th>ENSG00000050748</th>\n",
       "      <th>ENSG00000131459</th>\n",
       "      <th>ENSG00000113300</th>\n",
       "      <th>ENSG00000037280</th>\n",
       "      <th>ENSG00000131446</th>\n",
       "      <th>ENSG00000113303</th>\n",
       "      <th>ENSG00000165810</th>\n",
       "    </tr>\n",
       "  </thead>\n",
       "  <tbody>\n",
       "    <tr>\n",
       "      <th>ENSG00000073578</th>\n",
       "      <td>1.000000</td>\n",
       "      <td>0.225308</td>\n",
       "      <td>0.164263</td>\n",
       "      <td>0.057726</td>\n",
       "      <td>0.017171</td>\n",
       "      <td>0.013519</td>\n",
       "      <td>0.011427</td>\n",
       "      <td>0.009907</td>\n",
       "      <td>0.017186</td>\n",
       "      <td>0.012019</td>\n",
       "      <td>...</td>\n",
       "      <td>0.017758</td>\n",
       "      <td>0.016203</td>\n",
       "      <td>0.017967</td>\n",
       "      <td>0.015522</td>\n",
       "      <td>0.016078</td>\n",
       "      <td>0.008165</td>\n",
       "      <td>0.016126</td>\n",
       "      <td>0.014331</td>\n",
       "      <td>0.010405</td>\n",
       "      <td>0.005570</td>\n",
       "    </tr>\n",
       "    <tr>\n",
       "      <th>ENSG00000180104</th>\n",
       "      <td>0.225308</td>\n",
       "      <td>1.000000</td>\n",
       "      <td>0.393923</td>\n",
       "      <td>0.091437</td>\n",
       "      <td>0.015572</td>\n",
       "      <td>0.007593</td>\n",
       "      <td>0.007360</td>\n",
       "      <td>0.010788</td>\n",
       "      <td>0.008868</td>\n",
       "      <td>0.007662</td>\n",
       "      <td>...</td>\n",
       "      <td>0.010666</td>\n",
       "      <td>0.008302</td>\n",
       "      <td>0.010758</td>\n",
       "      <td>0.013825</td>\n",
       "      <td>0.018204</td>\n",
       "      <td>0.011619</td>\n",
       "      <td>0.011841</td>\n",
       "      <td>0.010544</td>\n",
       "      <td>0.007059</td>\n",
       "      <td>0.005950</td>\n",
       "    </tr>\n",
       "    <tr>\n",
       "      <th>ENSG00000066230</th>\n",
       "      <td>0.164263</td>\n",
       "      <td>0.393923</td>\n",
       "      <td>1.000000</td>\n",
       "      <td>0.223077</td>\n",
       "      <td>0.020293</td>\n",
       "      <td>0.008163</td>\n",
       "      <td>0.010617</td>\n",
       "      <td>0.005244</td>\n",
       "      <td>0.012261</td>\n",
       "      <td>0.007169</td>\n",
       "      <td>...</td>\n",
       "      <td>0.006819</td>\n",
       "      <td>0.006202</td>\n",
       "      <td>0.008288</td>\n",
       "      <td>0.011754</td>\n",
       "      <td>0.012430</td>\n",
       "      <td>0.004778</td>\n",
       "      <td>0.005685</td>\n",
       "      <td>0.011523</td>\n",
       "      <td>0.010949</td>\n",
       "      <td>0.010190</td>\n",
       "    </tr>\n",
       "    <tr>\n",
       "      <th>ENSG00000112877</th>\n",
       "      <td>0.057726</td>\n",
       "      <td>0.091437</td>\n",
       "      <td>0.223077</td>\n",
       "      <td>1.000000</td>\n",
       "      <td>0.023220</td>\n",
       "      <td>0.013198</td>\n",
       "      <td>0.007208</td>\n",
       "      <td>0.014335</td>\n",
       "      <td>0.014422</td>\n",
       "      <td>0.008983</td>\n",
       "      <td>...</td>\n",
       "      <td>0.005887</td>\n",
       "      <td>0.006799</td>\n",
       "      <td>0.009682</td>\n",
       "      <td>0.017877</td>\n",
       "      <td>0.015078</td>\n",
       "      <td>0.008716</td>\n",
       "      <td>0.013810</td>\n",
       "      <td>0.015534</td>\n",
       "      <td>0.012996</td>\n",
       "      <td>0.014768</td>\n",
       "    </tr>\n",
       "    <tr>\n",
       "      <th>ENSG00000113504</th>\n",
       "      <td>0.017171</td>\n",
       "      <td>0.015572</td>\n",
       "      <td>0.020293</td>\n",
       "      <td>0.023220</td>\n",
       "      <td>1.000000</td>\n",
       "      <td>0.042883</td>\n",
       "      <td>0.017868</td>\n",
       "      <td>0.016642</td>\n",
       "      <td>0.130196</td>\n",
       "      <td>0.014295</td>\n",
       "      <td>...</td>\n",
       "      <td>0.009866</td>\n",
       "      <td>0.013612</td>\n",
       "      <td>0.019207</td>\n",
       "      <td>0.015343</td>\n",
       "      <td>0.018398</td>\n",
       "      <td>0.009893</td>\n",
       "      <td>0.022002</td>\n",
       "      <td>0.018121</td>\n",
       "      <td>0.011200</td>\n",
       "      <td>0.013537</td>\n",
       "    </tr>\n",
       "  </tbody>\n",
       "</table>\n",
       "<p>5 rows × 305 columns</p>\n",
       "</div>"
      ],
      "text/plain": [
       "                 ENSG00000073578  ENSG00000180104  ENSG00000066230  \\\n",
       "ENSG00000073578         1.000000         0.225308         0.164263   \n",
       "ENSG00000180104         0.225308         1.000000         0.393923   \n",
       "ENSG00000066230         0.164263         0.393923         1.000000   \n",
       "ENSG00000112877         0.057726         0.091437         0.223077   \n",
       "ENSG00000113504         0.017171         0.015572         0.020293   \n",
       "\n",
       "                 ENSG00000112877  ENSG00000113504  ENSG00000174358  \\\n",
       "ENSG00000073578         0.057726         0.017171         0.013519   \n",
       "ENSG00000180104         0.091437         0.015572         0.007593   \n",
       "ENSG00000066230         0.223077         0.020293         0.008163   \n",
       "ENSG00000112877         1.000000         0.023220         0.013198   \n",
       "ENSG00000113504         0.023220         1.000000         0.042883   \n",
       "\n",
       "                 ENSG00000164362  ENSG00000049656  ENSG00000153395  \\\n",
       "ENSG00000073578         0.011427         0.009907         0.017186   \n",
       "ENSG00000180104         0.007360         0.010788         0.008868   \n",
       "ENSG00000066230         0.010617         0.005244         0.012261   \n",
       "ENSG00000112877         0.007208         0.014335         0.014422   \n",
       "ENSG00000113504         0.017868         0.016642         0.130196   \n",
       "\n",
       "                 ENSG00000171421  ...  ENSG00000161021  ENSG00000161013  \\\n",
       "ENSG00000073578         0.012019  ...         0.017758         0.016203   \n",
       "ENSG00000180104         0.007662  ...         0.010666         0.008302   \n",
       "ENSG00000066230         0.007169  ...         0.006819         0.006202   \n",
       "ENSG00000112877         0.008983  ...         0.005887         0.006799   \n",
       "ENSG00000113504         0.014295  ...         0.009866         0.013612   \n",
       "\n",
       "                 ENSG00000161011  ENSG00000050748  ENSG00000131459  \\\n",
       "ENSG00000073578         0.017967         0.015522         0.016078   \n",
       "ENSG00000180104         0.010758         0.013825         0.018204   \n",
       "ENSG00000066230         0.008288         0.011754         0.012430   \n",
       "ENSG00000112877         0.009682         0.017877         0.015078   \n",
       "ENSG00000113504         0.019207         0.015343         0.018398   \n",
       "\n",
       "                 ENSG00000113300  ENSG00000037280  ENSG00000131446  \\\n",
       "ENSG00000073578         0.008165         0.016126         0.014331   \n",
       "ENSG00000180104         0.011619         0.011841         0.010544   \n",
       "ENSG00000066230         0.004778         0.005685         0.011523   \n",
       "ENSG00000112877         0.008716         0.013810         0.015534   \n",
       "ENSG00000113504         0.009893         0.022002         0.018121   \n",
       "\n",
       "                 ENSG00000113303  ENSG00000165810  \n",
       "ENSG00000073578         0.010405         0.005570  \n",
       "ENSG00000180104         0.007059         0.005950  \n",
       "ENSG00000066230         0.010949         0.010190  \n",
       "ENSG00000112877         0.012996         0.014768  \n",
       "ENSG00000113504         0.011200         0.013537  \n",
       "\n",
       "[5 rows x 305 columns]"
      ]
     },
     "execution_count": 31,
     "metadata": {},
     "output_type": "execute_result"
    }
   ],
   "source": [
    "gene_corrs_df.head()"
   ]
  },
  {
   "cell_type": "markdown",
   "id": "dad6603f-01c6-41fb-a6f6-241051207dd8",
   "metadata": {
    "papermill": {
     "duration": 2.866952,
     "end_time": "2022-08-02T21:37:23.097983",
     "exception": false,
     "start_time": "2022-08-02T21:37:20.231031",
     "status": "completed"
    },
    "tags": []
   },
   "source": [
    "## Standard checks and stats"
   ]
  },
  {
   "cell_type": "code",
   "execution_count": 32,
   "id": "286686af-1b7b-4440-8453-6bdcbd8de19c",
   "metadata": {
    "execution": {
     "iopub.execute_input": "2022-08-02T21:37:29.086328Z",
     "iopub.status.busy": "2022-08-02T21:37:29.086015Z",
     "iopub.status.idle": "2022-08-02T21:37:29.114817Z",
     "shell.execute_reply": "2022-08-02T21:37:29.114237Z"
    },
    "papermill": {
     "duration": 3.074985,
     "end_time": "2022-08-02T21:37:29.116649",
     "exception": false,
     "start_time": "2022-08-02T21:37:26.041664",
     "status": "completed"
    },
    "tags": []
   },
   "outputs": [],
   "source": [
    "assert not gene_corrs_df.isna().any().any()"
   ]
  },
  {
   "cell_type": "code",
   "execution_count": 33,
   "id": "00583efc-7068-4270-ad1e-4a418e91db96",
   "metadata": {
    "execution": {
     "iopub.execute_input": "2022-08-02T21:37:34.902662Z",
     "iopub.status.busy": "2022-08-02T21:37:34.902347Z",
     "iopub.status.idle": "2022-08-02T21:37:34.929434Z",
     "shell.execute_reply": "2022-08-02T21:37:34.928895Z"
    },
    "papermill": {
     "duration": 2.945145,
     "end_time": "2022-08-02T21:37:34.930996",
     "exception": false,
     "start_time": "2022-08-02T21:37:31.985851",
     "status": "completed"
    },
    "tags": []
   },
   "outputs": [
    {
     "data": {
      "text/plain": [
       "8.99110004959398e-10"
      ]
     },
     "metadata": {},
     "output_type": "display_data"
    }
   ],
   "source": [
    "_min_val = gene_corrs_df.min().min()\n",
    "display(_min_val)\n",
    "assert _min_val >= 0.0"
   ]
  },
  {
   "cell_type": "code",
   "execution_count": 34,
   "id": "d04fb2cf-1050-475b-b855-f5f7cc04092b",
   "metadata": {
    "execution": {
     "iopub.execute_input": "2022-08-02T21:37:40.827353Z",
     "iopub.status.busy": "2022-08-02T21:37:40.827052Z",
     "iopub.status.idle": "2022-08-02T21:37:41.015323Z",
     "shell.execute_reply": "2022-08-02T21:37:41.014755Z"
    },
    "papermill": {
     "duration": 3.055681,
     "end_time": "2022-08-02T21:37:41.017004",
     "exception": false,
     "start_time": "2022-08-02T21:37:37.961323",
     "status": "completed"
    },
    "tags": []
   },
   "outputs": [
    {
     "data": {
      "text/plain": [
       "1.0"
      ]
     },
     "metadata": {},
     "output_type": "display_data"
    }
   ],
   "source": [
    "_max_val = gene_corrs_df.max().max()  # this captures the diagonal\n",
    "display(_max_val)\n",
    "assert _max_val <= 1.0"
   ]
  },
  {
   "cell_type": "code",
   "execution_count": 35,
   "id": "96d02c44-1fba-47be-8a93-8f2608420b9c",
   "metadata": {
    "execution": {
     "iopub.execute_input": "2022-08-02T21:37:46.974400Z",
     "iopub.status.busy": "2022-08-02T21:37:46.974102Z",
     "iopub.status.idle": "2022-08-02T21:37:47.020737Z",
     "shell.execute_reply": "2022-08-02T21:37:47.020169Z"
    },
    "papermill": {
     "duration": 3.064029,
     "end_time": "2022-08-02T21:37:47.022487",
     "exception": false,
     "start_time": "2022-08-02T21:37:43.958458",
     "status": "completed"
    },
    "tags": []
   },
   "outputs": [],
   "source": [
    "# check upper triangular values\n",
    "assert len(gene_corrs) == int(genes_chr.shape[0] * (genes_chr.shape[0] - 1) / 2)"
   ]
  },
  {
   "cell_type": "code",
   "execution_count": 36,
   "id": "fe283586-c348-40e0-8841-f6d97bfb021c",
   "metadata": {
    "execution": {
     "iopub.execute_input": "2022-08-02T21:37:52.718890Z",
     "iopub.status.busy": "2022-08-02T21:37:52.718566Z",
     "iopub.status.idle": "2022-08-02T21:37:52.746973Z",
     "shell.execute_reply": "2022-08-02T21:37:52.746395Z"
    },
    "papermill": {
     "duration": 2.870446,
     "end_time": "2022-08-02T21:37:52.748706",
     "exception": false,
     "start_time": "2022-08-02T21:37:49.878260",
     "status": "completed"
    },
    "tags": []
   },
   "outputs": [
    {
     "data": {
      "text/plain": [
       "count    4.636000e+04\n",
       "mean     1.046579e-02\n",
       "std      3.040766e-02\n",
       "min      8.991100e-10\n",
       "25%      5.304859e-03\n",
       "50%      8.063849e-03\n",
       "75%      1.120281e-02\n",
       "max      9.767082e-01\n",
       "dtype: float64"
      ]
     },
     "execution_count": 36,
     "metadata": {},
     "output_type": "execute_result"
    }
   ],
   "source": [
    "gene_corrs_flat.describe()"
   ]
  },
  {
   "cell_type": "code",
   "execution_count": 37,
   "id": "b3815678-0f93-4b35-897b-a9d047a2aa78",
   "metadata": {
    "execution": {
     "iopub.execute_input": "2022-08-02T21:37:58.456249Z",
     "iopub.status.busy": "2022-08-02T21:37:58.455953Z",
     "iopub.status.idle": "2022-08-02T21:37:58.487367Z",
     "shell.execute_reply": "2022-08-02T21:37:58.486800Z"
    },
    "papermill": {
     "duration": 2.809869,
     "end_time": "2022-08-02T21:37:58.489006",
     "exception": false,
     "start_time": "2022-08-02T21:37:55.679137",
     "status": "completed"
    },
    "tags": []
   },
   "outputs": [
    {
     "data": {
      "text/plain": [
       "0.00    8.991100e-10\n",
       "0.05    2.150231e-03\n",
       "0.10    3.199907e-03\n",
       "0.15    3.988660e-03\n",
       "0.20    4.682873e-03\n",
       "0.25    5.304859e-03\n",
       "0.30    5.887245e-03\n",
       "0.35    6.440583e-03\n",
       "0.40    6.975871e-03\n",
       "0.45    7.515329e-03\n",
       "0.50    8.063849e-03\n",
       "0.55    8.635291e-03\n",
       "0.60    9.205989e-03\n",
       "0.65    9.833221e-03\n",
       "0.70    1.047551e-02\n",
       "0.75    1.120281e-02\n",
       "0.80    1.202440e-02\n",
       "0.85    1.301351e-02\n",
       "0.90    1.428744e-02\n",
       "0.95    1.642266e-02\n",
       "dtype: float64"
      ]
     },
     "metadata": {},
     "output_type": "display_data"
    }
   ],
   "source": [
    "gene_corrs_quantiles = gene_corrs_flat.quantile(np.arange(0, 1, 0.05))\n",
    "display(gene_corrs_quantiles)"
   ]
  },
  {
   "cell_type": "markdown",
   "id": "87134509-b145-4a10-8bc9-b7e914c2b0fa",
   "metadata": {
    "papermill": {
     "duration": 2.927096,
     "end_time": "2022-08-02T21:38:04.253652",
     "exception": false,
     "start_time": "2022-08-02T21:38:01.326556",
     "status": "completed"
    },
    "tags": []
   },
   "source": [
    "## Positive definiteness"
   ]
  },
  {
   "cell_type": "code",
   "execution_count": 38,
   "id": "07d9a9a1-a4f7-48aa-b916-6d42a8cc6186",
   "metadata": {
    "execution": {
     "iopub.execute_input": "2022-08-02T21:38:09.936120Z",
     "iopub.status.busy": "2022-08-02T21:38:09.935823Z",
     "iopub.status.idle": "2022-08-02T21:38:09.989508Z",
     "shell.execute_reply": "2022-08-02T21:38:09.988911Z"
    },
    "papermill": {
     "duration": 2.919754,
     "end_time": "2022-08-02T21:38:09.991122",
     "exception": false,
     "start_time": "2022-08-02T21:38:07.071368",
     "status": "completed"
    },
    "tags": []
   },
   "outputs": [
    {
     "data": {
      "text/plain": [
       "0"
      ]
     },
     "metadata": {},
     "output_type": "display_data"
    },
    {
     "data": {
      "text/plain": [
       "array([], dtype=float64)"
      ]
     },
     "metadata": {},
     "output_type": "display_data"
    }
   ],
   "source": [
    "# print negative eigenvalues\n",
    "eigs = np.linalg.eigvals(gene_corrs_df.to_numpy())\n",
    "display(len(eigs[eigs < 0]))\n",
    "display(eigs[eigs < 0])"
   ]
  },
  {
   "cell_type": "code",
   "execution_count": 39,
   "id": "6e218436-c3c5-4028-8c94-a4fa6260efce",
   "metadata": {
    "execution": {
     "iopub.execute_input": "2022-08-02T21:38:15.701313Z",
     "iopub.status.busy": "2022-08-02T21:38:15.701005Z",
     "iopub.status.idle": "2022-08-02T21:38:15.732888Z",
     "shell.execute_reply": "2022-08-02T21:38:15.732310Z"
    },
    "papermill": {
     "duration": 2.805393,
     "end_time": "2022-08-02T21:38:15.734535",
     "exception": false,
     "start_time": "2022-08-02T21:38:12.929142",
     "status": "completed"
    },
    "tags": []
   },
   "outputs": [
    {
     "name": "stdout",
     "output_type": "stream",
     "text": [
      "Works!\n"
     ]
    }
   ],
   "source": [
    "try:\n",
    "    chol_mat = np.linalg.cholesky(gene_corrs_df.to_numpy())\n",
    "    cov_inv = np.linalg.inv(chol_mat)\n",
    "    print(\"Works!\")\n",
    "except:\n",
    "    print(\"Cholesky decomposition failed\")"
   ]
  },
  {
   "cell_type": "markdown",
   "id": "8e60a080-edb2-4e9c-b2ef-22961693200c",
   "metadata": {
    "papermill": {
     "duration": 2.936332,
     "end_time": "2022-08-02T21:38:21.508808",
     "exception": false,
     "start_time": "2022-08-02T21:38:18.572476",
     "status": "completed"
    },
    "tags": []
   },
   "source": [
    "## Plot: distribution"
   ]
  },
  {
   "cell_type": "code",
   "execution_count": 40,
   "id": "8301126b-a7d4-4744-9c7d-f0f86eb6f54c",
   "metadata": {
    "execution": {
     "iopub.execute_input": "2022-08-02T21:38:27.089170Z",
     "iopub.status.busy": "2022-08-02T21:38:27.088871Z",
     "iopub.status.idle": "2022-08-02T21:38:34.372855Z",
     "shell.execute_reply": "2022-08-02T21:38:34.372214Z"
    },
    "papermill": {
     "duration": 10.113826,
     "end_time": "2022-08-02T21:38:34.374724",
     "exception": false,
     "start_time": "2022-08-02T21:38:24.260898",
     "status": "completed"
    },
    "tags": []
   },
   "outputs": [
    {
     "data": {
      "image/png": "[encoded data removed]",
      "text/plain": [
       "<Figure size 504x504 with 1 Axes>"
      ]
     },
     "metadata": {
      "needs_background": "light"
     },
     "output_type": "display_data"
    }
   ],
   "source": [
    "with sns.plotting_context(\"paper\", font_scale=1.5):\n",
    "    g = sns.displot(gene_corrs_flat, kde=True, height=7)\n",
    "    g.ax.set_title(\n",
    "        f\"Distribution of gene correlation values in chromosome {CHROMOSOME}\"\n",
    "    )"
   ]
  },
  {
   "cell_type": "markdown",
   "id": "cbd52bca-d878-4a2f-b684-5c83aa3038d4",
   "metadata": {
    "papermill": {
     "duration": 2.77808,
     "end_time": "2022-08-02T21:38:40.065833",
     "exception": false,
     "start_time": "2022-08-02T21:38:37.287753",
     "status": "completed"
    },
    "tags": []
   },
   "source": [
    "## Plot: heatmap"
   ]
  },
  {
   "cell_type": "code",
   "execution_count": 41,
   "id": "d03fe63a-c7b2-4fb9-a53c-db362ce843c9",
   "metadata": {
    "execution": {
     "iopub.execute_input": "2022-08-02T21:38:45.805622Z",
     "iopub.status.busy": "2022-08-02T21:38:45.805308Z",
     "iopub.status.idle": "2022-08-02T21:38:46.017400Z",
     "shell.execute_reply": "2022-08-02T21:38:46.016788Z"
    },
    "papermill": {
     "duration": 3.130735,
     "end_time": "2022-08-02T21:38:46.019248",
     "exception": false,
     "start_time": "2022-08-02T21:38:42.888513",
     "status": "completed"
    },
    "tags": []
   },
   "outputs": [
    {
     "data": {
      "text/plain": [
       "'0.0 / 0.05'"
      ]
     },
     "metadata": {},
     "output_type": "display_data"
    }
   ],
   "source": [
    "vmin_val = min(0.00, gene_corrs_quantiles[0.10])\n",
    "vmax_val = max(0.05, gene_corrs_quantiles[0.90])\n",
    "display(f\"{vmin_val} / {vmax_val}\")"
   ]
  },
  {
   "cell_type": "code",
   "execution_count": 42,
   "id": "dc41b70b-5bcc-4d9e-9f33-a22c4a94dab5",
   "metadata": {
    "execution": {
     "iopub.execute_input": "2022-08-02T21:38:51.607375Z",
     "iopub.status.busy": "2022-08-02T21:38:51.607072Z",
     "iopub.status.idle": "2022-08-02T21:38:51.896531Z",
     "shell.execute_reply": "2022-08-02T21:38:51.895984Z"
    },
    "papermill": {
     "duration": 3.108228,
     "end_time": "2022-08-02T21:38:51.898197",
     "exception": false,
     "start_time": "2022-08-02T21:38:48.789969",
     "status": "completed"
    },
    "tags": []
   },
   "outputs": [
    {
     "data": {
      "text/plain": [
       "Text(0.5, 1.0, 'Gene correlations in chromosome 5')"
      ]
     },
     "execution_count": 42,
     "metadata": {},
     "output_type": "execute_result"
    },
    {
     "data": {
      "image/png": "[encoded data removed]",
      "text/plain": [
       "<Figure size 720x720 with 2 Axes>"
      ]
     },
     "metadata": {
      "needs_background": "light"
     },
     "output_type": "display_data"
    }
   ],
   "source": [
    "f, ax = plt.subplots(figsize=(10, 10))\n",
    "sns.heatmap(\n",
    "    gene_corrs_df,\n",
    "    xticklabels=False,\n",
    "    yticklabels=False,\n",
    "    square=True,\n",
    "    vmin=vmin_val,\n",
    "    vmax=vmax_val,\n",
    "    cmap=\"rocket_r\",\n",
    "    ax=ax,\n",
    ")\n",
    "ax.set_title(f\"Gene correlations in chromosome {CHROMOSOME}\")"
   ]
  },
  {
   "cell_type": "code",
   "execution_count": null,
   "id": "b25e3ead",
   "metadata": {
    "papermill": {
     "duration": 2.762996,
     "end_time": "2022-08-02T21:38:57.603575",
     "exception": false,
     "start_time": "2022-08-02T21:38:54.840579",
     "status": "completed"
    },
    "tags": []
   },
   "outputs": [],
   "source": []
  }
 ],
 "metadata": {
  "jupytext": {
   "cell_metadata_filter": "all,-execution,-papermill,-trusted",
   "formats": "ipynb,py//py:percent"
  },
  "kernelspec": {
   "display_name": "Python 3 (ipykernel)",
   "language": "python",
   "name": "python3"
  },
  "language_info": {
   "codemirror_mode": {
    "name": "ipython",
    "version": 3
   },
   "file_extension": ".py",
   "mimetype": "text/x-python",
   "name": "python",
   "nbconvert_exporter": "python",
   "pygments_lexer": "ipython3",
   "version": "3.8.13"
  },
  "papermill": {
   "default_parameters": {},
   "duration": 3951.680582,
   "end_time": "2022-08-02T21:39:03.453111",
   "environment_variables": {},
   "exception": null,
   "input_path": "nbs/15_gsa_gls/10-gene_expr_correlations.ipynb",
   "output_path": "nbs/15_gsa_gls/gene_corrs/cohorts/1000g_eur/1000g/mashr/10-gene_expr_correlations-chr5.run.ipynb",
   "parameters": {
    "CHROMOSOME": 5,
    "COHORT_NAME": "1000G_EUR",
    "EQTL_MODEL": "MASHR",
    "REFERENCE_PANEL": "1000G"
   },
   "start_time": "2022-08-02T20:33:11.772529",
   "version": "2.2.2"
  }
 },
 "nbformat": 4,
 "nbformat_minor": 5
}
