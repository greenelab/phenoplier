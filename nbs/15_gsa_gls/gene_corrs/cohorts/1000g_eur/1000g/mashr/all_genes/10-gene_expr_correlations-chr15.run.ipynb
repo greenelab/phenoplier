{
 "cells": [
  {
   "cell_type": "markdown",
   "id": "7a6632fb",
   "metadata": {
    "papermill": {
     "duration": 0.006435,
     "end_time": "2022-07-22T22:32:57.188639",
     "exception": false,
     "start_time": "2022-07-22T22:32:57.182204",
     "status": "completed"
    },
    "tags": []
   },
   "source": [
    "# Description"
   ]
  },
  {
   "cell_type": "markdown",
   "id": "7097c346",
   "metadata": {
    "papermill": {
     "duration": 0.005783,
     "end_time": "2022-07-22T22:32:57.200410",
     "exception": false,
     "start_time": "2022-07-22T22:32:57.194627",
     "status": "completed"
    },
    "tags": []
   },
   "source": [
    "(Please, take a look at the README.md file in this directory for instructions on how to run this notebook)\n",
    "\n",
    "This notebook computes predicted expression correlations between all genes in the MultiPLIER models.\n",
    "\n",
    "It also has a parameter set for papermill to run on a single chromosome to run in parallel (see under `Settings` below).\n",
    "\n",
    "This notebook is not directly run. See README.md."
   ]
  },
  {
   "cell_type": "markdown",
   "id": "c61d8427",
   "metadata": {
    "papermill": {
     "duration": 0.005503,
     "end_time": "2022-07-22T22:32:57.211838",
     "exception": false,
     "start_time": "2022-07-22T22:32:57.206335",
     "status": "completed"
    },
    "tags": []
   },
   "source": [
    "# Modules"
   ]
  },
  {
   "cell_type": "code",
   "execution_count": 1,
   "id": "bbc0234f",
   "metadata": {
    "execution": {
     "iopub.execute_input": "2022-07-22T22:32:57.224889Z",
     "iopub.status.busy": "2022-07-22T22:32:57.224493Z",
     "iopub.status.idle": "2022-07-22T22:32:57.239125Z",
     "shell.execute_reply": "2022-07-22T22:32:57.238593Z"
    },
    "papermill": {
     "duration": 0.02299,
     "end_time": "2022-07-22T22:32:57.240616",
     "exception": false,
     "start_time": "2022-07-22T22:32:57.217626",
     "status": "completed"
    },
    "tags": []
   },
   "outputs": [],
   "source": [
    "%load_ext autoreload\n",
    "%autoreload 2"
   ]
  },
  {
   "cell_type": "code",
   "execution_count": 2,
   "id": "1d5f5a59",
   "metadata": {
    "execution": {
     "iopub.execute_input": "2022-07-22T22:32:57.283116Z",
     "iopub.status.busy": "2022-07-22T22:32:57.282927Z",
     "iopub.status.idle": "2022-07-22T22:32:58.197126Z",
     "shell.execute_reply": "2022-07-22T22:32:58.196681Z"
    },
    "papermill": {
     "duration": 0.923469,
     "end_time": "2022-07-22T22:32:58.198683",
     "exception": false,
     "start_time": "2022-07-22T22:32:57.275214",
     "status": "completed"
    },
    "tags": []
   },
   "outputs": [],
   "source": [
    "from random import sample, seed\n",
    "import warnings\n",
    "from pathlib import Path\n",
    "import pickle\n",
    "import traceback\n",
    "\n",
    "import numpy as np\n",
    "from scipy.spatial.distance import squareform\n",
    "import pandas as pd\n",
    "from tqdm import tqdm\n",
    "import matplotlib.pyplot as plt\n",
    "import seaborn as sns\n",
    "\n",
    "import conf\n",
    "from entity import Gene"
   ]
  },
  {
   "cell_type": "markdown",
   "id": "1eac24b5",
   "metadata": {
    "papermill": {
     "duration": 0.006155,
     "end_time": "2022-07-22T22:32:58.211405",
     "exception": false,
     "start_time": "2022-07-22T22:32:58.205250",
     "status": "completed"
    },
    "tags": []
   },
   "source": [
    "# Settings"
   ]
  },
  {
   "cell_type": "code",
   "execution_count": 3,
   "id": "ca4560ba",
   "metadata": {
    "execution": {
     "iopub.execute_input": "2022-07-22T22:32:58.224438Z",
     "iopub.status.busy": "2022-07-22T22:32:58.224266Z",
     "iopub.status.idle": "2022-07-22T22:32:58.241300Z",
     "shell.execute_reply": "2022-07-22T22:32:58.240887Z"
    },
    "papermill": {
     "duration": 0.025255,
     "end_time": "2022-07-22T22:32:58.242826",
     "exception": false,
     "start_time": "2022-07-22T22:32:58.217571",
     "status": "completed"
    },
    "tags": [
     "parameters"
    ]
   },
   "outputs": [],
   "source": [
    "# a cohort name (it could be something like UK_BIOBANK, etc)\n",
    "COHORT_NAME = None\n",
    "\n",
    "# reference panel such as 1000G or GTEX_V8\n",
    "REFERENCE_PANEL = None\n",
    "\n",
    "# predictions models such as MASHR or ELASTIC_NET\n",
    "EQTL_MODEL = None\n",
    "\n",
    "# this is the default value used in S-MultiXcan to select the\n",
    "# top principal components of the expression correlation matrix\n",
    "SMULTIXCAN_CONDITION_NUMBER = 30\n",
    "\n",
    "# specifies a single chromosome value\n",
    "CHROMOSOME = None\n",
    "\n",
    "# If True, computes the correlation between closeby genes only;\n",
    "# otherwise, it computes correlations for all genes in a chromosome\n",
    "COMPUTE_CORRELATIONS_WITHIN_DISTANCE = False\n",
    "\n",
    "# if True, then it will continue if a gene pair correlation fails,\n",
    "# printing the warning/error for debugging. If False, any warning/error\n",
    "# will be thrown\n",
    "DEBUG_MODE = False"
   ]
  },
  {
   "cell_type": "code",
   "execution_count": 4,
   "id": "c371e4d9",
   "metadata": {
    "execution": {
     "iopub.execute_input": "2022-07-22T22:32:58.256026Z",
     "iopub.status.busy": "2022-07-22T22:32:58.255860Z",
     "iopub.status.idle": "2022-07-22T22:32:58.271816Z",
     "shell.execute_reply": "2022-07-22T22:32:58.271389Z"
    },
    "papermill": {
     "duration": 0.024162,
     "end_time": "2022-07-22T22:32:58.273332",
     "exception": false,
     "start_time": "2022-07-22T22:32:58.249170",
     "status": "completed"
    },
    "tags": [
     "injected-parameters"
    ]
   },
   "outputs": [],
   "source": [
    "# Parameters\n",
    "COHORT_NAME = \"1000G_EUR\"\n",
    "REFERENCE_PANEL = \"1000G\"\n",
    "EQTL_MODEL = \"MASHR\"\n",
    "CHROMOSOME = 15\n"
   ]
  },
  {
   "cell_type": "code",
   "execution_count": 5,
   "id": "3190631f-27fc-480f-b18e-571d580425a5",
   "metadata": {
    "execution": {
     "iopub.execute_input": "2022-07-22T22:32:58.286784Z",
     "iopub.status.busy": "2022-07-22T22:32:58.286620Z",
     "iopub.status.idle": "2022-07-22T22:32:58.307223Z",
     "shell.execute_reply": "2022-07-22T22:32:58.306735Z"
    },
    "papermill": {
     "duration": 0.028926,
     "end_time": "2022-07-22T22:32:58.308744",
     "exception": false,
     "start_time": "2022-07-22T22:32:58.279818",
     "status": "completed"
    },
    "tags": []
   },
   "outputs": [
    {
     "data": {
      "text/plain": [
       "'Cohort name: 1000g_eur'"
      ]
     },
     "metadata": {},
     "output_type": "display_data"
    }
   ],
   "source": [
    "assert COHORT_NAME is not None and len(COHORT_NAME) > 0, \"A cohort name must be given\"\n",
    "\n",
    "COHORT_NAME = COHORT_NAME.lower()\n",
    "display(f\"Cohort name: {COHORT_NAME}\")"
   ]
  },
  {
   "cell_type": "code",
   "execution_count": 6,
   "id": "f53ba19b-0f93-4fa2-a047-63b375939d1a",
   "metadata": {
    "execution": {
     "iopub.execute_input": "2022-07-22T22:32:58.323057Z",
     "iopub.status.busy": "2022-07-22T22:32:58.322520Z",
     "iopub.status.idle": "2022-07-22T22:32:58.339596Z",
     "shell.execute_reply": "2022-07-22T22:32:58.339160Z"
    },
    "papermill": {
     "duration": 0.025461,
     "end_time": "2022-07-22T22:32:58.340856",
     "exception": false,
     "start_time": "2022-07-22T22:32:58.315395",
     "status": "completed"
    },
    "tags": []
   },
   "outputs": [
    {
     "data": {
      "text/plain": [
       "'Reference panel: 1000G'"
      ]
     },
     "metadata": {},
     "output_type": "display_data"
    }
   ],
   "source": [
    "assert (\n",
    "    REFERENCE_PANEL is not None and len(REFERENCE_PANEL) > 0\n",
    "), \"A reference panel must be given\"\n",
    "\n",
    "display(f\"Reference panel: {REFERENCE_PANEL}\")"
   ]
  },
  {
   "cell_type": "code",
   "execution_count": 7,
   "id": "e024d130-c139-429a-9c6e-ccf149e297b0",
   "metadata": {
    "execution": {
     "iopub.execute_input": "2022-07-22T22:32:58.358555Z",
     "iopub.status.busy": "2022-07-22T22:32:58.358148Z",
     "iopub.status.idle": "2022-07-22T22:32:58.375142Z",
     "shell.execute_reply": "2022-07-22T22:32:58.374673Z"
    },
    "papermill": {
     "duration": 0.025207,
     "end_time": "2022-07-22T22:32:58.376407",
     "exception": false,
     "start_time": "2022-07-22T22:32:58.351200",
     "status": "completed"
    },
    "tags": []
   },
   "outputs": [
    {
     "data": {
      "text/plain": [
       "'eQTL model: MASHR) / mashr_'"
      ]
     },
     "metadata": {},
     "output_type": "display_data"
    }
   ],
   "source": [
    "assert (\n",
    "    EQTL_MODEL is not None and len(EQTL_MODEL) > 0\n",
    "), \"A prediction/eQTL model must be given\"\n",
    "\n",
    "EQTL_MODEL_FILES_PREFIX = conf.PHENOMEXCAN[\"PREDICTION_MODELS\"][f\"{EQTL_MODEL}_PREFIX\"]\n",
    "display(f\"eQTL model: {EQTL_MODEL}) / {EQTL_MODEL_FILES_PREFIX}\")"
   ]
  },
  {
   "cell_type": "code",
   "execution_count": 8,
   "id": "552a7f63-a18c-4d3e-bb6a-94f99b431291",
   "metadata": {
    "execution": {
     "iopub.execute_input": "2022-07-22T22:32:58.390171Z",
     "iopub.status.busy": "2022-07-22T22:32:58.389999Z",
     "iopub.status.idle": "2022-07-22T22:32:58.407856Z",
     "shell.execute_reply": "2022-07-22T22:32:58.407151Z"
    },
    "papermill": {
     "duration": 0.026259,
     "end_time": "2022-07-22T22:32:58.409160",
     "exception": false,
     "start_time": "2022-07-22T22:32:58.382901",
     "status": "completed"
    },
    "tags": []
   },
   "outputs": [
    {
     "data": {
      "text/plain": [
       "'S-MultiXcan condition number: 30'"
      ]
     },
     "metadata": {},
     "output_type": "display_data"
    }
   ],
   "source": [
    "assert (\n",
    "    SMULTIXCAN_CONDITION_NUMBER is not None and SMULTIXCAN_CONDITION_NUMBER > 0\n",
    "), \"The S-MultiXcan condition number (positive integer) must be given\"\n",
    "\n",
    "display(f\"S-MultiXcan condition number: {SMULTIXCAN_CONDITION_NUMBER}\")"
   ]
  },
  {
   "cell_type": "code",
   "execution_count": 9,
   "id": "f34a336f-548e-4afe-8955-90eaea4f42c6",
   "metadata": {
    "execution": {
     "iopub.execute_input": "2022-07-22T22:32:58.422978Z",
     "iopub.status.busy": "2022-07-22T22:32:58.422777Z",
     "iopub.status.idle": "2022-07-22T22:32:58.438324Z",
     "shell.execute_reply": "2022-07-22T22:32:58.437886Z"
    },
    "papermill": {
     "duration": 0.023875,
     "end_time": "2022-07-22T22:32:58.439707",
     "exception": false,
     "start_time": "2022-07-22T22:32:58.415832",
     "status": "completed"
    },
    "tags": []
   },
   "outputs": [
    {
     "data": {
      "text/plain": [
       "'Working on chromosome 15'"
      ]
     },
     "metadata": {},
     "output_type": "display_data"
    }
   ],
   "source": [
    "assert CHROMOSOME is not None and (\n",
    "    1 <= CHROMOSOME <= 22\n",
    "), \"You have to select one chromosome (format: number between 1 and 22)\"\n",
    "\n",
    "CHROMOSOME = str(CHROMOSOME)\n",
    "display(f\"Working on chromosome {CHROMOSOME}\")"
   ]
  },
  {
   "cell_type": "code",
   "execution_count": 10,
   "id": "ab8e96e8-06b5-4363-9dcd-dc4d78cc27f7",
   "metadata": {
    "execution": {
     "iopub.execute_input": "2022-07-22T22:32:58.453573Z",
     "iopub.status.busy": "2022-07-22T22:32:58.453369Z",
     "iopub.status.idle": "2022-07-22T22:32:58.468592Z",
     "shell.execute_reply": "2022-07-22T22:32:58.468109Z"
    },
    "papermill": {
     "duration": 0.023506,
     "end_time": "2022-07-22T22:32:58.469907",
     "exception": false,
     "start_time": "2022-07-22T22:32:58.446401",
     "status": "completed"
    },
    "tags": []
   },
   "outputs": [
    {
     "data": {
      "text/plain": [
       "'Compute correlation within distance False'"
      ]
     },
     "metadata": {},
     "output_type": "display_data"
    }
   ],
   "source": [
    "display(f\"Compute correlation within distance {COMPUTE_CORRELATIONS_WITHIN_DISTANCE}\")"
   ]
  },
  {
   "cell_type": "code",
   "execution_count": 11,
   "id": "396392dc-0340-4540-9b02-e182b833f909",
   "metadata": {
    "execution": {
     "iopub.execute_input": "2022-07-22T22:32:58.485334Z",
     "iopub.status.busy": "2022-07-22T22:32:58.485162Z",
     "iopub.status.idle": "2022-07-22T22:32:58.506542Z",
     "shell.execute_reply": "2022-07-22T22:32:58.506007Z"
    },
    "papermill": {
     "duration": 0.030101,
     "end_time": "2022-07-22T22:32:58.507830",
     "exception": false,
     "start_time": "2022-07-22T22:32:58.477729",
     "status": "completed"
    },
    "tags": []
   },
   "outputs": [
    {
     "data": {
      "text/plain": [
       "'Using output dir base: /opt/data/results/gls/gene_corrs/cohorts/1000g_eur/1000g/mashr'"
      ]
     },
     "metadata": {},
     "output_type": "display_data"
    }
   ],
   "source": [
    "OUTPUT_DIR_BASE = (\n",
    "    conf.RESULTS[\"GLS\"]\n",
    "    / \"gene_corrs\"\n",
    "    / \"cohorts\"\n",
    "    / COHORT_NAME\n",
    "    / REFERENCE_PANEL.lower()\n",
    "    / EQTL_MODEL.lower()\n",
    ")\n",
    "OUTPUT_DIR_BASE.mkdir(parents=True, exist_ok=True)\n",
    "\n",
    "display(f\"Using output dir base: {OUTPUT_DIR_BASE}\")"
   ]
  },
  {
   "cell_type": "code",
   "execution_count": 12,
   "id": "974b4bb1-aa98-4e30-b221-7cd034ad3833",
   "metadata": {
    "execution": {
     "iopub.execute_input": "2022-07-22T22:32:58.523461Z",
     "iopub.status.busy": "2022-07-22T22:32:58.522531Z",
     "iopub.status.idle": "2022-07-22T22:32:58.538855Z",
     "shell.execute_reply": "2022-07-22T22:32:58.538413Z"
    },
    "papermill": {
     "duration": 0.025193,
     "end_time": "2022-07-22T22:32:58.540111",
     "exception": false,
     "start_time": "2022-07-22T22:32:58.514918",
     "status": "completed"
    },
    "tags": []
   },
   "outputs": [
    {
     "data": {
      "text/plain": [
       "PosixPath('/opt/data/results/gls/gene_corrs/cohorts/1000g_eur')"
      ]
     },
     "metadata": {},
     "output_type": "display_data"
    }
   ],
   "source": [
    "INPUT_DIR = conf.RESULTS[\"GLS\"] / \"gene_corrs\" / \"cohorts\" / COHORT_NAME\n",
    "assert INPUT_DIR.exists()\n",
    "\n",
    "display(INPUT_DIR)"
   ]
  },
  {
   "cell_type": "markdown",
   "id": "d2ba085e",
   "metadata": {
    "papermill": {
     "duration": 0.00706,
     "end_time": "2022-07-22T22:32:58.554087",
     "exception": false,
     "start_time": "2022-07-22T22:32:58.547027",
     "status": "completed"
    },
    "tags": []
   },
   "source": [
    "# Load data"
   ]
  },
  {
   "cell_type": "markdown",
   "id": "7dcb8db7",
   "metadata": {
    "papermill": {
     "duration": 0.00659,
     "end_time": "2022-07-22T22:32:58.567778",
     "exception": false,
     "start_time": "2022-07-22T22:32:58.561188",
     "status": "completed"
    },
    "tags": []
   },
   "source": [
    "## GWAS variants"
   ]
  },
  {
   "cell_type": "code",
   "execution_count": 13,
   "id": "29434c4e-8cd3-4b9b-82e4-b5a251d9dd19",
   "metadata": {
    "execution": {
     "iopub.execute_input": "2022-07-22T22:32:58.581679Z",
     "iopub.status.busy": "2022-07-22T22:32:58.581425Z",
     "iopub.status.idle": "2022-07-22T22:33:01.173935Z",
     "shell.execute_reply": "2022-07-22T22:33:01.173354Z"
    },
    "papermill": {
     "duration": 2.601164,
     "end_time": "2022-07-22T22:33:01.175483",
     "exception": false,
     "start_time": "2022-07-22T22:32:58.574319",
     "status": "completed"
    },
    "tags": []
   },
   "outputs": [],
   "source": [
    "with open(INPUT_DIR / \"gwas_variant_ids.pkl\", \"rb\") as handle:\n",
    "    gwas_variants_ids_set = pickle.load(handle)"
   ]
  },
  {
   "cell_type": "code",
   "execution_count": 14,
   "id": "b9d9dec2-4a76-4bf9-bde2-e24c95acb8a0",
   "metadata": {
    "execution": {
     "iopub.execute_input": "2022-07-22T22:33:01.194056Z",
     "iopub.status.busy": "2022-07-22T22:33:01.193864Z",
     "iopub.status.idle": "2022-07-22T22:33:01.212675Z",
     "shell.execute_reply": "2022-07-22T22:33:01.212096Z"
    },
    "papermill": {
     "duration": 0.030716,
     "end_time": "2022-07-22T22:33:01.214132",
     "exception": false,
     "start_time": "2022-07-22T22:33:01.183416",
     "status": "completed"
    },
    "tags": []
   },
   "outputs": [
    {
     "data": {
      "text/plain": [
       "8339505"
      ]
     },
     "execution_count": 14,
     "metadata": {},
     "output_type": "execute_result"
    }
   ],
   "source": [
    "len(gwas_variants_ids_set)"
   ]
  },
  {
   "cell_type": "code",
   "execution_count": 15,
   "id": "4235b06a-6034-4ee4-a0a3-2ae35d122418",
   "metadata": {
    "execution": {
     "iopub.execute_input": "2022-07-22T22:33:01.229908Z",
     "iopub.status.busy": "2022-07-22T22:33:01.229733Z",
     "iopub.status.idle": "2022-07-22T22:33:01.726874Z",
     "shell.execute_reply": "2022-07-22T22:33:01.726400Z"
    },
    "papermill": {
     "duration": 0.506559,
     "end_time": "2022-07-22T22:33:01.728376",
     "exception": false,
     "start_time": "2022-07-22T22:33:01.221817",
     "status": "completed"
    },
    "tags": []
   },
   "outputs": [
    {
     "data": {
      "text/plain": [
       "['chr10_77432264_C_T_b38',\n",
       " 'chr4_109662878_C_T_b38',\n",
       " 'chr18_10395222_C_T_b38',\n",
       " 'chr22_27477607_C_T_b38',\n",
       " 'chr3_26975621_T_C_b38']"
      ]
     },
     "execution_count": 15,
     "metadata": {},
     "output_type": "execute_result"
    }
   ],
   "source": [
    "list(gwas_variants_ids_set)[:5]"
   ]
  },
  {
   "cell_type": "markdown",
   "id": "07866999-2305-41f9-a144-e69c9122c212",
   "metadata": {
    "papermill": {
     "duration": 0.008109,
     "end_time": "2022-07-22T22:33:01.744671",
     "exception": false,
     "start_time": "2022-07-22T22:33:01.736562",
     "status": "completed"
    },
    "tags": []
   },
   "source": [
    "## S-PrediXcan tissue models"
   ]
  },
  {
   "cell_type": "code",
   "execution_count": 16,
   "id": "780611d9-77c8-405f-90a4-f271f7b09397",
   "metadata": {
    "execution": {
     "iopub.execute_input": "2022-07-22T22:33:01.762156Z",
     "iopub.status.busy": "2022-07-22T22:33:01.761593Z",
     "iopub.status.idle": "2022-07-22T22:33:02.547363Z",
     "shell.execute_reply": "2022-07-22T22:33:02.546937Z"
    },
    "papermill": {
     "duration": 0.796049,
     "end_time": "2022-07-22T22:33:02.548847",
     "exception": false,
     "start_time": "2022-07-22T22:33:01.752798",
     "status": "completed"
    },
    "tags": []
   },
   "outputs": [],
   "source": [
    "spredixcan_genes_models = pd.read_pickle(INPUT_DIR / \"gene_tissues.pkl\").set_index(\n",
    "    \"gene_id\"\n",
    ")"
   ]
  },
  {
   "cell_type": "code",
   "execution_count": 17,
   "id": "726dd1f6-9557-4225-91fa-b3b879ea96e1",
   "metadata": {
    "execution": {
     "iopub.execute_input": "2022-07-22T22:33:02.565345Z",
     "iopub.status.busy": "2022-07-22T22:33:02.564608Z",
     "iopub.status.idle": "2022-07-22T22:33:02.582307Z",
     "shell.execute_reply": "2022-07-22T22:33:02.581895Z"
    },
    "papermill": {
     "duration": 0.027045,
     "end_time": "2022-07-22T22:33:02.583582",
     "exception": false,
     "start_time": "2022-07-22T22:33:02.556537",
     "status": "completed"
    },
    "tags": []
   },
   "outputs": [
    {
     "data": {
      "text/plain": [
       "(22314, 2)"
      ]
     },
     "execution_count": 17,
     "metadata": {},
     "output_type": "execute_result"
    }
   ],
   "source": [
    "spredixcan_genes_models.shape"
   ]
  },
  {
   "cell_type": "code",
   "execution_count": 18,
   "id": "944a1b48-222c-4eb0-b252-b9de2cbca215",
   "metadata": {
    "execution": {
     "iopub.execute_input": "2022-07-22T22:33:02.598838Z",
     "iopub.status.busy": "2022-07-22T22:33:02.598617Z",
     "iopub.status.idle": "2022-07-22T22:33:02.619707Z",
     "shell.execute_reply": "2022-07-22T22:33:02.619249Z"
    },
    "papermill": {
     "duration": 0.030314,
     "end_time": "2022-07-22T22:33:02.621139",
     "exception": false,
     "start_time": "2022-07-22T22:33:02.590825",
     "status": "completed"
    },
    "tags": []
   },
   "outputs": [
    {
     "data": {
      "text/html": [
       "<div>\n",
       "<style scoped>\n",
       "    .dataframe tbody tr th:only-of-type {\n",
       "        vertical-align: middle;\n",
       "    }\n",
       "\n",
       "    .dataframe tbody tr th {\n",
       "        vertical-align: top;\n",
       "    }\n",
       "\n",
       "    .dataframe thead th {\n",
       "        text-align: right;\n",
       "    }\n",
       "</style>\n",
       "<table border=\"1\" class=\"dataframe\">\n",
       "  <thead>\n",
       "    <tr style=\"text-align: right;\">\n",
       "      <th></th>\n",
       "      <th>gene_name</th>\n",
       "      <th>tissue</th>\n",
       "    </tr>\n",
       "    <tr>\n",
       "      <th>gene_id</th>\n",
       "      <th></th>\n",
       "      <th></th>\n",
       "    </tr>\n",
       "  </thead>\n",
       "  <tbody>\n",
       "    <tr>\n",
       "      <th>ENSG00000000419</th>\n",
       "      <td>DPM1</td>\n",
       "      <td>(Brain_Substantia_nigra, Brain_Hypothalamus)</td>\n",
       "    </tr>\n",
       "    <tr>\n",
       "      <th>ENSG00000000457</th>\n",
       "      <td>SCYL3</td>\n",
       "      <td>(Cells_EBV-transformed_lymphocytes, Testis, Ki...</td>\n",
       "    </tr>\n",
       "    <tr>\n",
       "      <th>ENSG00000000460</th>\n",
       "      <td>C1orf112</td>\n",
       "      <td>(Cells_EBV-transformed_lymphocytes, Testis, Ki...</td>\n",
       "    </tr>\n",
       "    <tr>\n",
       "      <th>ENSG00000000938</th>\n",
       "      <td>FGR</td>\n",
       "      <td>(Cells_EBV-transformed_lymphocytes, Testis, Th...</td>\n",
       "    </tr>\n",
       "    <tr>\n",
       "      <th>ENSG00000000971</th>\n",
       "      <td>CFH</td>\n",
       "      <td>(Testis, Kidney_Cortex, Small_Intestine_Termin...</td>\n",
       "    </tr>\n",
       "  </tbody>\n",
       "</table>\n",
       "</div>"
      ],
      "text/plain": [
       "                gene_name                                             tissue\n",
       "gene_id                                                                     \n",
       "ENSG00000000419      DPM1       (Brain_Substantia_nigra, Brain_Hypothalamus)\n",
       "ENSG00000000457     SCYL3  (Cells_EBV-transformed_lymphocytes, Testis, Ki...\n",
       "ENSG00000000460  C1orf112  (Cells_EBV-transformed_lymphocytes, Testis, Ki...\n",
       "ENSG00000000938       FGR  (Cells_EBV-transformed_lymphocytes, Testis, Th...\n",
       "ENSG00000000971       CFH  (Testis, Kidney_Cortex, Small_Intestine_Termin..."
      ]
     },
     "execution_count": 18,
     "metadata": {},
     "output_type": "execute_result"
    }
   ],
   "source": [
    "spredixcan_genes_models.head()"
   ]
  },
  {
   "cell_type": "code",
   "execution_count": 19,
   "id": "d1c11bb1-be0b-4f40-b360-633d6827109f",
   "metadata": {
    "execution": {
     "iopub.execute_input": "2022-07-22T22:33:02.636288Z",
     "iopub.status.busy": "2022-07-22T22:33:02.636079Z",
     "iopub.status.idle": "2022-07-22T22:33:02.652992Z",
     "shell.execute_reply": "2022-07-22T22:33:02.652579Z"
    },
    "papermill": {
     "duration": 0.025921,
     "end_time": "2022-07-22T22:33:02.654367",
     "exception": false,
     "start_time": "2022-07-22T22:33:02.628446",
     "status": "completed"
    },
    "tags": []
   },
   "outputs": [],
   "source": [
    "assert spredixcan_genes_models.index.is_unique"
   ]
  },
  {
   "cell_type": "markdown",
   "id": "6caf9d10-eda8-4ad2-8811-a983aa77a25a",
   "metadata": {
    "papermill": {
     "duration": 0.006838,
     "end_time": "2022-07-22T22:33:02.668594",
     "exception": false,
     "start_time": "2022-07-22T22:33:02.661756",
     "status": "completed"
    },
    "tags": []
   },
   "source": [
    "## Get common genes"
   ]
  },
  {
   "cell_type": "code",
   "execution_count": 20,
   "id": "f8d1e317-1cc8-4bdf-bbe9-c3b0a5478359",
   "metadata": {
    "execution": {
     "iopub.execute_input": "2022-07-22T22:33:02.683695Z",
     "iopub.status.busy": "2022-07-22T22:33:02.683469Z",
     "iopub.status.idle": "2022-07-22T22:33:02.699547Z",
     "shell.execute_reply": "2022-07-22T22:33:02.699068Z"
    },
    "papermill": {
     "duration": 0.025324,
     "end_time": "2022-07-22T22:33:02.700920",
     "exception": false,
     "start_time": "2022-07-22T22:33:02.675596",
     "status": "completed"
    },
    "tags": []
   },
   "outputs": [],
   "source": [
    "with open(INPUT_DIR / \"common_genes.pkl\", \"rb\") as handle:\n",
    "    common_genes = pickle.load(handle)"
   ]
  },
  {
   "cell_type": "code",
   "execution_count": 21,
   "id": "ce9506aa-2f38-4e46-b9c2-84d750fac0da",
   "metadata": {
    "execution": {
     "iopub.execute_input": "2022-07-22T22:33:02.716439Z",
     "iopub.status.busy": "2022-07-22T22:33:02.715907Z",
     "iopub.status.idle": "2022-07-22T22:33:02.731413Z",
     "shell.execute_reply": "2022-07-22T22:33:02.730967Z"
    },
    "papermill": {
     "duration": 0.024557,
     "end_time": "2022-07-22T22:33:02.732721",
     "exception": false,
     "start_time": "2022-07-22T22:33:02.708164",
     "status": "completed"
    },
    "tags": []
   },
   "outputs": [
    {
     "data": {
      "text/plain": [
       "6444"
      ]
     },
     "execution_count": 21,
     "metadata": {},
     "output_type": "execute_result"
    }
   ],
   "source": [
    "len(common_genes)"
   ]
  },
  {
   "cell_type": "code",
   "execution_count": 22,
   "id": "f525a698-506a-48e0-9aee-1aca62def5dd",
   "metadata": {
    "execution": {
     "iopub.execute_input": "2022-07-22T22:33:02.748371Z",
     "iopub.status.busy": "2022-07-22T22:33:02.748072Z",
     "iopub.status.idle": "2022-07-22T22:33:02.765130Z",
     "shell.execute_reply": "2022-07-22T22:33:02.764683Z"
    },
    "papermill": {
     "duration": 0.026186,
     "end_time": "2022-07-22T22:33:02.766405",
     "exception": false,
     "start_time": "2022-07-22T22:33:02.740219",
     "status": "completed"
    },
    "tags": []
   },
   "outputs": [
    {
     "data": {
      "text/plain": [
       "['A2M', 'AAAS', 'AANAT', 'AARS', 'AARS2']"
      ]
     },
     "execution_count": 22,
     "metadata": {},
     "output_type": "execute_result"
    }
   ],
   "source": [
    "sorted(list(common_genes))[:5]"
   ]
  },
  {
   "cell_type": "markdown",
   "id": "a5b5092c-a13e-47c4-a92a-480fcc08f3ae",
   "metadata": {
    "papermill": {
     "duration": 0.007139,
     "end_time": "2022-07-22T22:33:02.781357",
     "exception": false,
     "start_time": "2022-07-22T22:33:02.774218",
     "status": "completed"
    },
    "tags": []
   },
   "source": [
    "## Gene info"
   ]
  },
  {
   "cell_type": "code",
   "execution_count": 23,
   "id": "7d6bb224-88e9-4358-ac10-43a41d92cdad",
   "metadata": {
    "execution": {
     "iopub.execute_input": "2022-07-22T22:33:02.796547Z",
     "iopub.status.busy": "2022-07-22T22:33:02.796323Z",
     "iopub.status.idle": "2022-07-22T22:33:02.814084Z",
     "shell.execute_reply": "2022-07-22T22:33:02.813671Z"
    },
    "papermill": {
     "duration": 0.026904,
     "end_time": "2022-07-22T22:33:02.815466",
     "exception": false,
     "start_time": "2022-07-22T22:33:02.788562",
     "status": "completed"
    },
    "tags": []
   },
   "outputs": [],
   "source": [
    "genes_info = pd.read_pickle(INPUT_DIR / \"genes_info.pkl\")"
   ]
  },
  {
   "cell_type": "code",
   "execution_count": 24,
   "id": "9e32abfa-546d-483e-8c18-d526e9e05903",
   "metadata": {
    "execution": {
     "iopub.execute_input": "2022-07-22T22:33:02.845861Z",
     "iopub.status.busy": "2022-07-22T22:33:02.844455Z",
     "iopub.status.idle": "2022-07-22T22:33:02.863119Z",
     "shell.execute_reply": "2022-07-22T22:33:02.862614Z"
    },
    "papermill": {
     "duration": 0.041361,
     "end_time": "2022-07-22T22:33:02.864574",
     "exception": false,
     "start_time": "2022-07-22T22:33:02.823213",
     "status": "completed"
    },
    "tags": []
   },
   "outputs": [
    {
     "data": {
      "text/plain": [
       "(6444, 7)"
      ]
     },
     "execution_count": 24,
     "metadata": {},
     "output_type": "execute_result"
    }
   ],
   "source": [
    "genes_info.shape"
   ]
  },
  {
   "cell_type": "code",
   "execution_count": 25,
   "id": "d16c3e92-85ec-468a-9a56-e25a9774a1cb",
   "metadata": {
    "execution": {
     "iopub.execute_input": "2022-07-22T22:33:02.881715Z",
     "iopub.status.busy": "2022-07-22T22:33:02.881250Z",
     "iopub.status.idle": "2022-07-22T22:33:02.902833Z",
     "shell.execute_reply": "2022-07-22T22:33:02.902436Z"
    },
    "papermill": {
     "duration": 0.031354,
     "end_time": "2022-07-22T22:33:02.904152",
     "exception": false,
     "start_time": "2022-07-22T22:33:02.872798",
     "status": "completed"
    },
    "tags": []
   },
   "outputs": [
    {
     "data": {
      "text/html": [
       "<div>\n",
       "<style scoped>\n",
       "    .dataframe tbody tr th:only-of-type {\n",
       "        vertical-align: middle;\n",
       "    }\n",
       "\n",
       "    .dataframe tbody tr th {\n",
       "        vertical-align: top;\n",
       "    }\n",
       "\n",
       "    .dataframe thead th {\n",
       "        text-align: right;\n",
       "    }\n",
       "</style>\n",
       "<table border=\"1\" class=\"dataframe\">\n",
       "  <thead>\n",
       "    <tr style=\"text-align: right;\">\n",
       "      <th></th>\n",
       "      <th>name</th>\n",
       "      <th>id</th>\n",
       "      <th>chr</th>\n",
       "      <th>band</th>\n",
       "      <th>start_position</th>\n",
       "      <th>end_position</th>\n",
       "      <th>gene_length</th>\n",
       "    </tr>\n",
       "  </thead>\n",
       "  <tbody>\n",
       "    <tr>\n",
       "      <th>0</th>\n",
       "      <td>MFN2</td>\n",
       "      <td>ENSG00000116688</td>\n",
       "      <td>1</td>\n",
       "      <td>1p36.22</td>\n",
       "      <td>11980181.0</td>\n",
       "      <td>12013514.0</td>\n",
       "      <td>33333.0</td>\n",
       "    </tr>\n",
       "    <tr>\n",
       "      <th>1</th>\n",
       "      <td>PPA2</td>\n",
       "      <td>ENSG00000138777</td>\n",
       "      <td>4</td>\n",
       "      <td>4q24</td>\n",
       "      <td>105369077.0</td>\n",
       "      <td>105474067.0</td>\n",
       "      <td>104990.0</td>\n",
       "    </tr>\n",
       "    <tr>\n",
       "      <th>2</th>\n",
       "      <td>ADRA2A</td>\n",
       "      <td>ENSG00000150594</td>\n",
       "      <td>10</td>\n",
       "      <td>10q25.2</td>\n",
       "      <td>111077163.0</td>\n",
       "      <td>111080907.0</td>\n",
       "      <td>3744.0</td>\n",
       "    </tr>\n",
       "    <tr>\n",
       "      <th>3</th>\n",
       "      <td>RYR2</td>\n",
       "      <td>ENSG00000198626</td>\n",
       "      <td>1</td>\n",
       "      <td>1q43</td>\n",
       "      <td>237042184.0</td>\n",
       "      <td>237833988.0</td>\n",
       "      <td>791804.0</td>\n",
       "    </tr>\n",
       "    <tr>\n",
       "      <th>4</th>\n",
       "      <td>VAV2</td>\n",
       "      <td>ENSG00000160293</td>\n",
       "      <td>9</td>\n",
       "      <td>9q34.2</td>\n",
       "      <td>133761894.0</td>\n",
       "      <td>133992604.0</td>\n",
       "      <td>230710.0</td>\n",
       "    </tr>\n",
       "  </tbody>\n",
       "</table>\n",
       "</div>"
      ],
      "text/plain": [
       "     name               id chr     band  start_position  end_position  \\\n",
       "0    MFN2  ENSG00000116688   1  1p36.22      11980181.0    12013514.0   \n",
       "1    PPA2  ENSG00000138777   4     4q24     105369077.0   105474067.0   \n",
       "2  ADRA2A  ENSG00000150594  10  10q25.2     111077163.0   111080907.0   \n",
       "3    RYR2  ENSG00000198626   1     1q43     237042184.0   237833988.0   \n",
       "4    VAV2  ENSG00000160293   9   9q34.2     133761894.0   133992604.0   \n",
       "\n",
       "   gene_length  \n",
       "0      33333.0  \n",
       "1     104990.0  \n",
       "2       3744.0  \n",
       "3     791804.0  \n",
       "4     230710.0  "
      ]
     },
     "execution_count": 25,
     "metadata": {},
     "output_type": "execute_result"
    }
   ],
   "source": [
    "genes_info.head()"
   ]
  },
  {
   "cell_type": "markdown",
   "id": "d3843e06",
   "metadata": {
    "papermill": {
     "duration": 0.007307,
     "end_time": "2022-07-22T22:33:02.919608",
     "exception": false,
     "start_time": "2022-07-22T22:33:02.912301",
     "status": "completed"
    },
    "tags": []
   },
   "source": [
    "# Compute correlations"
   ]
  },
  {
   "cell_type": "code",
   "execution_count": 26,
   "id": "cb859c15-d1f3-4006-a74c-2b83c0db9611",
   "metadata": {
    "execution": {
     "iopub.execute_input": "2022-07-22T22:33:02.936963Z",
     "iopub.status.busy": "2022-07-22T22:33:02.935638Z",
     "iopub.status.idle": "2022-07-22T22:33:02.952327Z",
     "shell.execute_reply": "2022-07-22T22:33:02.951781Z"
    },
    "papermill": {
     "duration": 0.02646,
     "end_time": "2022-07-22T22:33:02.953736",
     "exception": false,
     "start_time": "2022-07-22T22:33:02.927276",
     "status": "completed"
    },
    "tags": []
   },
   "outputs": [
    {
     "data": {
      "text/plain": [
       "PosixPath('/opt/data/results/gls/gene_corrs/cohorts/1000g_eur/1000g/mashr/by_chr/gene_corrs-chr15.pkl')"
      ]
     },
     "metadata": {},
     "output_type": "display_data"
    }
   ],
   "source": [
    "output_dir = OUTPUT_DIR_BASE / \"by_chr\"\n",
    "output_dir.mkdir(exist_ok=True, parents=True)\n",
    "output_file = output_dir / f\"gene_corrs-chr{CHROMOSOME}.pkl\"\n",
    "display(output_file)"
   ]
  },
  {
   "cell_type": "code",
   "execution_count": 27,
   "id": "aa674fe4-6794-4eed-98fa-32b39d1d4ace",
   "metadata": {
    "execution": {
     "iopub.execute_input": "2022-07-22T22:33:02.970593Z",
     "iopub.status.busy": "2022-07-22T22:33:02.970286Z",
     "iopub.status.idle": "2022-07-22T22:33:02.984885Z",
     "shell.execute_reply": "2022-07-22T22:33:02.984319Z"
    },
    "papermill": {
     "duration": 0.024634,
     "end_time": "2022-07-22T22:33:02.986255",
     "exception": false,
     "start_time": "2022-07-22T22:33:02.961621",
     "status": "completed"
    },
    "tags": []
   },
   "outputs": [],
   "source": [
    "warnings.filterwarnings(\"error\")"
   ]
  },
  {
   "cell_type": "code",
   "execution_count": 28,
   "id": "44d5450b-3baf-43f1-9e2e-4b06f1a785f8",
   "metadata": {
    "execution": {
     "iopub.execute_input": "2022-07-22T22:33:03.002970Z",
     "iopub.status.busy": "2022-07-22T22:33:03.002529Z",
     "iopub.status.idle": "2022-07-22T22:33:03.018505Z",
     "shell.execute_reply": "2022-07-22T22:33:03.017981Z"
    },
    "papermill": {
     "duration": 0.025813,
     "end_time": "2022-07-22T22:33:03.019907",
     "exception": false,
     "start_time": "2022-07-22T22:33:02.994094",
     "status": "completed"
    },
    "tags": []
   },
   "outputs": [],
   "source": [
    "# standard checks\n",
    "all_chrs = genes_info[\"chr\"].dropna().unique()\n",
    "assert all_chrs.shape[0] == 22\n",
    "\n",
    "# select chromosome given by the user\n",
    "assert CHROMOSOME in all_chrs"
   ]
  },
  {
   "cell_type": "code",
   "execution_count": 29,
   "id": "2d7c043c-92a7-4d35-991b-fa69ac1e0268",
   "metadata": {
    "execution": {
     "iopub.execute_input": "2022-07-22T22:33:03.037366Z",
     "iopub.status.busy": "2022-07-22T22:33:03.037197Z",
     "iopub.status.idle": "2022-07-22T22:33:03.054012Z",
     "shell.execute_reply": "2022-07-22T22:33:03.053544Z"
    },
    "papermill": {
     "duration": 0.027438,
     "end_time": "2022-07-22T22:33:03.055283",
     "exception": false,
     "start_time": "2022-07-22T22:33:03.027845",
     "status": "completed"
    },
    "tags": []
   },
   "outputs": [
    {
     "name": "stdout",
     "output_type": "stream",
     "text": [
      "Number of genes in chromosome: 187\n"
     ]
    }
   ],
   "source": [
    "# run only on the chromosome specified\n",
    "all_chrs = [CHROMOSOME]\n",
    "genes_chr = genes_info[genes_info[\"chr\"] == CHROMOSOME]\n",
    "\n",
    "# For testing purposes\n",
    "# genes_chr = genes_chr.sample(n=20)\n",
    "\n",
    "print(f\"Number of genes in chromosome: {genes_chr.shape[0]}\", flush=True)"
   ]
  },
  {
   "cell_type": "code",
   "execution_count": 30,
   "id": "916015d8-2979-46d3-a9b9-1cf5a0932c6a",
   "metadata": {
    "execution": {
     "iopub.execute_input": "2022-07-22T22:33:03.072136Z",
     "iopub.status.busy": "2022-07-22T22:33:03.071934Z",
     "iopub.status.idle": "2022-07-22T22:33:03.087035Z",
     "shell.execute_reply": "2022-07-22T22:33:03.086570Z"
    },
    "papermill": {
     "duration": 0.025001,
     "end_time": "2022-07-22T22:33:03.088489",
     "exception": false,
     "start_time": "2022-07-22T22:33:03.063488",
     "status": "completed"
    },
    "tags": []
   },
   "outputs": [],
   "source": [
    "# sort genes by starting position to make visualizations better later\n",
    "genes_chr = genes_chr.sort_values(\"start_position\")"
   ]
  },
  {
   "cell_type": "code",
   "execution_count": 31,
   "id": "a38aa74a-8ad3-47f6-8ef9-56be0e011774",
   "metadata": {
    "execution": {
     "iopub.execute_input": "2022-07-22T22:33:03.105355Z",
     "iopub.status.busy": "2022-07-22T22:33:03.105148Z",
     "iopub.status.idle": "2022-07-22T22:33:03.119897Z",
     "shell.execute_reply": "2022-07-22T22:33:03.119487Z"
    },
    "papermill": {
     "duration": 0.024556,
     "end_time": "2022-07-22T22:33:03.121271",
     "exception": false,
     "start_time": "2022-07-22T22:33:03.096715",
     "status": "completed"
    },
    "tags": []
   },
   "outputs": [],
   "source": [
    "gene_chr_objs = [Gene(ensembl_id=gene_id) for gene_id in genes_chr[\"id\"]]"
   ]
  },
  {
   "cell_type": "code",
   "execution_count": 32,
   "id": "570f974f-13c3-42b6-ad3a-ce99ca885c1a",
   "metadata": {
    "execution": {
     "iopub.execute_input": "2022-07-22T22:33:03.138406Z",
     "iopub.status.busy": "2022-07-22T22:33:03.138101Z",
     "iopub.status.idle": "2022-07-22T22:33:03.154255Z",
     "shell.execute_reply": "2022-07-22T22:33:03.153780Z"
    },
    "papermill": {
     "duration": 0.025968,
     "end_time": "2022-07-22T22:33:03.155556",
     "exception": false,
     "start_time": "2022-07-22T22:33:03.129588",
     "status": "completed"
    },
    "tags": []
   },
   "outputs": [
    {
     "name": "stdout",
     "output_type": "stream",
     "text": [
      "Number of gene combinations: 17391\n"
     ]
    }
   ],
   "source": [
    "n = len(gene_chr_objs)\n",
    "n_comb = int(n * (n - 1) / 2.0)\n",
    "print(f\"Number of gene combinations: {n_comb}\", flush=True)"
   ]
  },
  {
   "cell_type": "code",
   "execution_count": 33,
   "id": "cdbb90a1",
   "metadata": {
    "execution": {
     "iopub.execute_input": "2022-07-22T22:33:03.173402Z",
     "iopub.status.busy": "2022-07-22T22:33:03.173076Z",
     "iopub.status.idle": "2022-07-22T22:56:54.133092Z",
     "shell.execute_reply": "2022-07-22T22:56:54.132687Z"
    },
    "papermill": {
     "duration": 1430.970333,
     "end_time": "2022-07-22T22:56:54.134272",
     "exception": false,
     "start_time": "2022-07-22T22:33:03.163939",
     "status": "completed"
    },
    "tags": []
   },
   "outputs": [
    {
     "name": "stderr",
     "output_type": "stream",
     "text": [
      "ENSG00000140479 / ENSG00000185418: 100%|██████████████████████| 17391/17391 [23:50<00:00, 12.15it/s]\n"
     ]
    },
    {
     "data": {
      "text/plain": [
       "PosixPath('/opt/data/results/gls/gene_corrs/cohorts/1000g_eur/1000g/mashr/by_chr/gene_corrs-chr15.pkl')"
      ]
     },
     "metadata": {},
     "output_type": "display_data"
    }
   ],
   "source": [
    "gene_corrs = []\n",
    "\n",
    "i = 0\n",
    "with tqdm(ncols=100, total=n_comb) as pbar:\n",
    "    for gene1_idx in range(0, len(gene_chr_objs) - 1):\n",
    "        gene1_obj = gene_chr_objs[gene1_idx]\n",
    "        gene1_tissues = spredixcan_genes_models.loc[gene1_obj.ensembl_id, \"tissue\"]\n",
    "\n",
    "        for gene2_idx in range(gene1_idx + 1, len(gene_chr_objs)):\n",
    "            gene2_obj = gene_chr_objs[gene2_idx]\n",
    "            gene2_tissues = spredixcan_genes_models.loc[gene2_obj.ensembl_id, \"tissue\"]\n",
    "\n",
    "            pbar.set_description(f\"{gene1_obj.ensembl_id} / {gene2_obj.ensembl_id}\")\n",
    "\n",
    "            try:\n",
    "                r = gene1_obj.get_ssm_correlation(\n",
    "                    other_gene=gene2_obj,\n",
    "                    tissues=gene1_tissues,\n",
    "                    other_tissues=gene2_tissues,\n",
    "                    snps_subset=gwas_variants_ids_set,\n",
    "                    condition_number=SMULTIXCAN_CONDITION_NUMBER,\n",
    "                    reference_panel=REFERENCE_PANEL,\n",
    "                    model_type=EQTL_MODEL,\n",
    "                    use_within_distance=COMPUTE_CORRELATIONS_WITHIN_DISTANCE,\n",
    "                )\n",
    "\n",
    "                if r is None:\n",
    "                    # if r is None, it's very likely because:\n",
    "                    #  * one of the genes has no prediction models\n",
    "                    #  * all the SNPs predictors for the gene are not present in the reference\n",
    "                    #    panel\n",
    "\n",
    "                    r = 0.0\n",
    "\n",
    "                gene_corrs.append(r)\n",
    "            except Warning as e:\n",
    "                if not DEBUG_MODE:\n",
    "                    raise e\n",
    "\n",
    "                print(\n",
    "                    f\"RuntimeWarning for genes {gene1_obj.ensembl_id} and {gene2_obj.ensembl_id}\",\n",
    "                    flush=True,\n",
    "                )\n",
    "                print(traceback.format_exc(), flush=True)\n",
    "\n",
    "                gene_corrs.append(np.nan)\n",
    "            except Exception as e:\n",
    "                if not DEBUG_MODE:\n",
    "                    raise e\n",
    "\n",
    "                print(\n",
    "                    f\"Exception for genes {gene1_obj.ensembl_id} and {gene2_obj.ensembl_id}\",\n",
    "                    flush=True,\n",
    "                )\n",
    "                print(traceback.format_exc(), flush=True)\n",
    "\n",
    "                gene_corrs.append(np.nan)\n",
    "\n",
    "            pbar.update(1)\n",
    "\n",
    "# create a pandas series\n",
    "gene_corrs_flat = pd.Series(gene_corrs)\n",
    "\n",
    "# save\n",
    "# FIXME: consider saving only the condenced matrix here. See here for\n",
    "# more details: https://github.com/greenelab/phenoplier/pull/38#discussion_r634600813\n",
    "gene_corrs_data = squareform(np.array(gene_corrs, dtype=np.float64))\n",
    "np.fill_diagonal(gene_corrs_data, 1.0)\n",
    "\n",
    "gene_chr_ids = [g.ensembl_id for g in gene_chr_objs]\n",
    "gene_corrs_df = pd.DataFrame(\n",
    "    data=gene_corrs_data,\n",
    "    index=gene_chr_ids,\n",
    "    columns=gene_chr_ids,\n",
    ")\n",
    "\n",
    "output_dir.mkdir(exist_ok=True, parents=True)\n",
    "display(output_file)\n",
    "\n",
    "gene_corrs_df.to_pickle(output_file)"
   ]
  },
  {
   "cell_type": "markdown",
   "id": "faa67b51-5373-470f-aa72-2ded53fa6dfe",
   "metadata": {
    "papermill": {
     "duration": 0.913337,
     "end_time": "2022-07-22T22:56:55.992523",
     "exception": false,
     "start_time": "2022-07-22T22:56:55.079186",
     "status": "completed"
    },
    "tags": []
   },
   "source": [
    "# Testing"
   ]
  },
  {
   "cell_type": "code",
   "execution_count": 34,
   "id": "14f7d046-4b55-4896-a56b-990127bcc388",
   "metadata": {
    "execution": {
     "iopub.execute_input": "2022-07-22T22:56:57.875445Z",
     "iopub.status.busy": "2022-07-22T22:56:57.875233Z",
     "iopub.status.idle": "2022-07-22T22:56:57.890702Z",
     "shell.execute_reply": "2022-07-22T22:56:57.890257Z"
    },
    "papermill": {
     "duration": 0.93668,
     "end_time": "2022-07-22T22:56:57.891835",
     "exception": false,
     "start_time": "2022-07-22T22:56:56.955155",
     "status": "completed"
    },
    "tags": []
   },
   "outputs": [
    {
     "data": {
      "text/plain": [
       "(187, 187)"
      ]
     },
     "execution_count": 34,
     "metadata": {},
     "output_type": "execute_result"
    }
   ],
   "source": [
    "gene_corrs_df.shape"
   ]
  },
  {
   "cell_type": "code",
   "execution_count": 35,
   "id": "c7d15414-3297-4537-a7c6-7588c0baeb75",
   "metadata": {
    "execution": {
     "iopub.execute_input": "2022-07-22T22:56:59.767248Z",
     "iopub.status.busy": "2022-07-22T22:56:59.767022Z",
     "iopub.status.idle": "2022-07-22T22:56:59.797310Z",
     "shell.execute_reply": "2022-07-22T22:56:59.796874Z"
    },
    "papermill": {
     "duration": 0.966718,
     "end_time": "2022-07-22T22:56:59.798520",
     "exception": false,
     "start_time": "2022-07-22T22:56:58.831802",
     "status": "completed"
    },
    "tags": []
   },
   "outputs": [
    {
     "data": {
      "text/html": [
       "<div>\n",
       "<style scoped>\n",
       "    .dataframe tbody tr th:only-of-type {\n",
       "        vertical-align: middle;\n",
       "    }\n",
       "\n",
       "    .dataframe tbody tr th {\n",
       "        vertical-align: top;\n",
       "    }\n",
       "\n",
       "    .dataframe thead th {\n",
       "        text-align: right;\n",
       "    }\n",
       "</style>\n",
       "<table border=\"1\" class=\"dataframe\">\n",
       "  <thead>\n",
       "    <tr style=\"text-align: right;\">\n",
       "      <th></th>\n",
       "      <th>ENSG00000273749</th>\n",
       "      <th>ENSG00000275835</th>\n",
       "      <th>ENSG00000182636</th>\n",
       "      <th>ENSG00000273173</th>\n",
       "      <th>ENSG00000114062</th>\n",
       "      <th>ENSG00000206190</th>\n",
       "      <th>ENSG00000128731</th>\n",
       "      <th>ENSG00000034053</th>\n",
       "      <th>ENSG00000198690</th>\n",
       "      <th>ENSG00000166912</th>\n",
       "      <th>...</th>\n",
       "      <th>ENSG00000182175</th>\n",
       "      <th>ENSG00000140450</th>\n",
       "      <th>ENSG00000140443</th>\n",
       "      <th>ENSG00000068305</th>\n",
       "      <th>ENSG00000183475</th>\n",
       "      <th>ENSG00000184254</th>\n",
       "      <th>ENSG00000131873</th>\n",
       "      <th>ENSG00000131876</th>\n",
       "      <th>ENSG00000140479</th>\n",
       "      <th>ENSG00000185418</th>\n",
       "    </tr>\n",
       "  </thead>\n",
       "  <tbody>\n",
       "    <tr>\n",
       "      <th>ENSG00000273749</th>\n",
       "      <td>1.000000</td>\n",
       "      <td>0.068878</td>\n",
       "      <td>0.015976</td>\n",
       "      <td>0.013542</td>\n",
       "      <td>0.011531</td>\n",
       "      <td>0.019480</td>\n",
       "      <td>0.008207</td>\n",
       "      <td>0.022045</td>\n",
       "      <td>0.017294</td>\n",
       "      <td>0.009861</td>\n",
       "      <td>...</td>\n",
       "      <td>0.019340</td>\n",
       "      <td>0.011871</td>\n",
       "      <td>0.013547</td>\n",
       "      <td>0.014340</td>\n",
       "      <td>0.013604</td>\n",
       "      <td>0.019427</td>\n",
       "      <td>0.018833</td>\n",
       "      <td>0.006046</td>\n",
       "      <td>0.023218</td>\n",
       "      <td>0.017759</td>\n",
       "    </tr>\n",
       "    <tr>\n",
       "      <th>ENSG00000275835</th>\n",
       "      <td>0.068878</td>\n",
       "      <td>1.000000</td>\n",
       "      <td>0.007951</td>\n",
       "      <td>0.010579</td>\n",
       "      <td>0.006857</td>\n",
       "      <td>0.006705</td>\n",
       "      <td>0.004377</td>\n",
       "      <td>0.009970</td>\n",
       "      <td>0.008688</td>\n",
       "      <td>0.006987</td>\n",
       "      <td>...</td>\n",
       "      <td>0.010449</td>\n",
       "      <td>0.004441</td>\n",
       "      <td>0.009396</td>\n",
       "      <td>0.005541</td>\n",
       "      <td>0.003863</td>\n",
       "      <td>0.012959</td>\n",
       "      <td>0.005307</td>\n",
       "      <td>0.009018</td>\n",
       "      <td>0.011632</td>\n",
       "      <td>0.006417</td>\n",
       "    </tr>\n",
       "    <tr>\n",
       "      <th>ENSG00000182636</th>\n",
       "      <td>0.015976</td>\n",
       "      <td>0.007951</td>\n",
       "      <td>1.000000</td>\n",
       "      <td>0.005602</td>\n",
       "      <td>0.005393</td>\n",
       "      <td>0.014057</td>\n",
       "      <td>0.005148</td>\n",
       "      <td>0.006174</td>\n",
       "      <td>0.010823</td>\n",
       "      <td>0.006586</td>\n",
       "      <td>...</td>\n",
       "      <td>0.011744</td>\n",
       "      <td>0.002718</td>\n",
       "      <td>0.007966</td>\n",
       "      <td>0.010136</td>\n",
       "      <td>0.006312</td>\n",
       "      <td>0.008257</td>\n",
       "      <td>0.010351</td>\n",
       "      <td>0.004728</td>\n",
       "      <td>0.016069</td>\n",
       "      <td>0.010738</td>\n",
       "    </tr>\n",
       "    <tr>\n",
       "      <th>ENSG00000273173</th>\n",
       "      <td>0.013542</td>\n",
       "      <td>0.010579</td>\n",
       "      <td>0.005602</td>\n",
       "      <td>1.000000</td>\n",
       "      <td>0.005033</td>\n",
       "      <td>0.010688</td>\n",
       "      <td>0.010784</td>\n",
       "      <td>0.012473</td>\n",
       "      <td>0.007749</td>\n",
       "      <td>0.002529</td>\n",
       "      <td>...</td>\n",
       "      <td>0.011012</td>\n",
       "      <td>0.003857</td>\n",
       "      <td>0.009366</td>\n",
       "      <td>0.007097</td>\n",
       "      <td>0.006938</td>\n",
       "      <td>0.007451</td>\n",
       "      <td>0.006776</td>\n",
       "      <td>0.004886</td>\n",
       "      <td>0.011908</td>\n",
       "      <td>0.005284</td>\n",
       "    </tr>\n",
       "    <tr>\n",
       "      <th>ENSG00000114062</th>\n",
       "      <td>0.011531</td>\n",
       "      <td>0.006857</td>\n",
       "      <td>0.005393</td>\n",
       "      <td>0.005033</td>\n",
       "      <td>1.000000</td>\n",
       "      <td>0.010618</td>\n",
       "      <td>0.000671</td>\n",
       "      <td>0.008269</td>\n",
       "      <td>0.005982</td>\n",
       "      <td>0.007081</td>\n",
       "      <td>...</td>\n",
       "      <td>0.014353</td>\n",
       "      <td>0.003440</td>\n",
       "      <td>0.012516</td>\n",
       "      <td>0.004445</td>\n",
       "      <td>0.013307</td>\n",
       "      <td>0.010773</td>\n",
       "      <td>0.004767</td>\n",
       "      <td>0.006088</td>\n",
       "      <td>0.017310</td>\n",
       "      <td>0.010861</td>\n",
       "    </tr>\n",
       "  </tbody>\n",
       "</table>\n",
       "<p>5 rows × 187 columns</p>\n",
       "</div>"
      ],
      "text/plain": [
       "                 ENSG00000273749  ENSG00000275835  ENSG00000182636  \\\n",
       "ENSG00000273749         1.000000         0.068878         0.015976   \n",
       "ENSG00000275835         0.068878         1.000000         0.007951   \n",
       "ENSG00000182636         0.015976         0.007951         1.000000   \n",
       "ENSG00000273173         0.013542         0.010579         0.005602   \n",
       "ENSG00000114062         0.011531         0.006857         0.005393   \n",
       "\n",
       "                 ENSG00000273173  ENSG00000114062  ENSG00000206190  \\\n",
       "ENSG00000273749         0.013542         0.011531         0.019480   \n",
       "ENSG00000275835         0.010579         0.006857         0.006705   \n",
       "ENSG00000182636         0.005602         0.005393         0.014057   \n",
       "ENSG00000273173         1.000000         0.005033         0.010688   \n",
       "ENSG00000114062         0.005033         1.000000         0.010618   \n",
       "\n",
       "                 ENSG00000128731  ENSG00000034053  ENSG00000198690  \\\n",
       "ENSG00000273749         0.008207         0.022045         0.017294   \n",
       "ENSG00000275835         0.004377         0.009970         0.008688   \n",
       "ENSG00000182636         0.005148         0.006174         0.010823   \n",
       "ENSG00000273173         0.010784         0.012473         0.007749   \n",
       "ENSG00000114062         0.000671         0.008269         0.005982   \n",
       "\n",
       "                 ENSG00000166912  ...  ENSG00000182175  ENSG00000140450  \\\n",
       "ENSG00000273749         0.009861  ...         0.019340         0.011871   \n",
       "ENSG00000275835         0.006987  ...         0.010449         0.004441   \n",
       "ENSG00000182636         0.006586  ...         0.011744         0.002718   \n",
       "ENSG00000273173         0.002529  ...         0.011012         0.003857   \n",
       "ENSG00000114062         0.007081  ...         0.014353         0.003440   \n",
       "\n",
       "                 ENSG00000140443  ENSG00000068305  ENSG00000183475  \\\n",
       "ENSG00000273749         0.013547         0.014340         0.013604   \n",
       "ENSG00000275835         0.009396         0.005541         0.003863   \n",
       "ENSG00000182636         0.007966         0.010136         0.006312   \n",
       "ENSG00000273173         0.009366         0.007097         0.006938   \n",
       "ENSG00000114062         0.012516         0.004445         0.013307   \n",
       "\n",
       "                 ENSG00000184254  ENSG00000131873  ENSG00000131876  \\\n",
       "ENSG00000273749         0.019427         0.018833         0.006046   \n",
       "ENSG00000275835         0.012959         0.005307         0.009018   \n",
       "ENSG00000182636         0.008257         0.010351         0.004728   \n",
       "ENSG00000273173         0.007451         0.006776         0.004886   \n",
       "ENSG00000114062         0.010773         0.004767         0.006088   \n",
       "\n",
       "                 ENSG00000140479  ENSG00000185418  \n",
       "ENSG00000273749         0.023218         0.017759  \n",
       "ENSG00000275835         0.011632         0.006417  \n",
       "ENSG00000182636         0.016069         0.010738  \n",
       "ENSG00000273173         0.011908         0.005284  \n",
       "ENSG00000114062         0.017310         0.010861  \n",
       "\n",
       "[5 rows x 187 columns]"
      ]
     },
     "execution_count": 35,
     "metadata": {},
     "output_type": "execute_result"
    }
   ],
   "source": [
    "gene_corrs_df.head()"
   ]
  },
  {
   "cell_type": "markdown",
   "id": "dad6603f-01c6-41fb-a6f6-241051207dd8",
   "metadata": {
    "papermill": {
     "duration": 0.937595,
     "end_time": "2022-07-22T22:57:01.676903",
     "exception": false,
     "start_time": "2022-07-22T22:57:00.739308",
     "status": "completed"
    },
    "tags": []
   },
   "source": [
    "## Standard checks and stats"
   ]
  },
  {
   "cell_type": "code",
   "execution_count": 36,
   "id": "286686af-1b7b-4440-8453-6bdcbd8de19c",
   "metadata": {
    "execution": {
     "iopub.execute_input": "2022-07-22T22:57:03.541625Z",
     "iopub.status.busy": "2022-07-22T22:57:03.541462Z",
     "iopub.status.idle": "2022-07-22T22:57:03.556869Z",
     "shell.execute_reply": "2022-07-22T22:57:03.556480Z"
    },
    "papermill": {
     "duration": 0.94367,
     "end_time": "2022-07-22T22:57:03.558069",
     "exception": false,
     "start_time": "2022-07-22T22:57:02.614399",
     "status": "completed"
    },
    "tags": []
   },
   "outputs": [],
   "source": [
    "assert not gene_corrs_df.isna().any().any()"
   ]
  },
  {
   "cell_type": "code",
   "execution_count": 37,
   "id": "00583efc-7068-4270-ad1e-4a418e91db96",
   "metadata": {
    "execution": {
     "iopub.execute_input": "2022-07-22T22:57:05.456213Z",
     "iopub.status.busy": "2022-07-22T22:57:05.456006Z",
     "iopub.status.idle": "2022-07-22T22:57:05.472986Z",
     "shell.execute_reply": "2022-07-22T22:57:05.472530Z"
    },
    "papermill": {
     "duration": 0.957273,
     "end_time": "2022-07-22T22:57:05.474255",
     "exception": false,
     "start_time": "2022-07-22T22:57:04.516982",
     "status": "completed"
    },
    "tags": []
   },
   "outputs": [
    {
     "data": {
      "text/plain": [
       "1.8419511747861633e-06"
      ]
     },
     "metadata": {},
     "output_type": "display_data"
    }
   ],
   "source": [
    "_min_val = gene_corrs_df.min().min()\n",
    "display(_min_val)\n",
    "assert _min_val >= 0.0"
   ]
  },
  {
   "cell_type": "code",
   "execution_count": 38,
   "id": "d04fb2cf-1050-475b-b855-f5f7cc04092b",
   "metadata": {
    "execution": {
     "iopub.execute_input": "2022-07-22T22:57:07.336060Z",
     "iopub.status.busy": "2022-07-22T22:57:07.335864Z",
     "iopub.status.idle": "2022-07-22T22:57:07.351907Z",
     "shell.execute_reply": "2022-07-22T22:57:07.351459Z"
    },
    "papermill": {
     "duration": 0.961115,
     "end_time": "2022-07-22T22:57:07.358714",
     "exception": false,
     "start_time": "2022-07-22T22:57:06.397599",
     "status": "completed"
    },
    "tags": []
   },
   "outputs": [
    {
     "data": {
      "text/plain": [
       "1.0"
      ]
     },
     "metadata": {},
     "output_type": "display_data"
    }
   ],
   "source": [
    "_max_val = gene_corrs_df.max().max()  # this captures the diagonal\n",
    "display(_max_val)\n",
    "assert _max_val <= 1.0"
   ]
  },
  {
   "cell_type": "code",
   "execution_count": 39,
   "id": "96d02c44-1fba-47be-8a93-8f2608420b9c",
   "metadata": {
    "execution": {
     "iopub.execute_input": "2022-07-22T22:57:09.235796Z",
     "iopub.status.busy": "2022-07-22T22:57:09.235593Z",
     "iopub.status.idle": "2022-07-22T22:57:09.250313Z",
     "shell.execute_reply": "2022-07-22T22:57:09.249904Z"
    },
    "papermill": {
     "duration": 0.955752,
     "end_time": "2022-07-22T22:57:09.251560",
     "exception": false,
     "start_time": "2022-07-22T22:57:08.295808",
     "status": "completed"
    },
    "tags": []
   },
   "outputs": [],
   "source": [
    "# check upper triangular values\n",
    "assert len(gene_corrs) == int(genes_chr.shape[0] * (genes_chr.shape[0] - 1) / 2)"
   ]
  },
  {
   "cell_type": "code",
   "execution_count": 40,
   "id": "fe283586-c348-40e0-8841-f6d97bfb021c",
   "metadata": {
    "execution": {
     "iopub.execute_input": "2022-07-22T22:57:11.123174Z",
     "iopub.status.busy": "2022-07-22T22:57:11.123005Z",
     "iopub.status.idle": "2022-07-22T22:57:11.162469Z",
     "shell.execute_reply": "2022-07-22T22:57:11.161510Z"
    },
    "papermill": {
     "duration": 0.967151,
     "end_time": "2022-07-22T22:57:11.166945",
     "exception": false,
     "start_time": "2022-07-22T22:57:10.199794",
     "status": "completed"
    },
    "tags": []
   },
   "outputs": [
    {
     "data": {
      "text/plain": [
       "count    17391.000000\n",
       "mean         0.012145\n",
       "std          0.037194\n",
       "min          0.000002\n",
       "25%          0.005274\n",
       "50%          0.008043\n",
       "75%          0.011331\n",
       "max          0.959944\n",
       "dtype: float64"
      ]
     },
     "execution_count": 40,
     "metadata": {},
     "output_type": "execute_result"
    }
   ],
   "source": [
    "gene_corrs_flat.describe()"
   ]
  },
  {
   "cell_type": "code",
   "execution_count": 41,
   "id": "b3815678-0f93-4b35-897b-a9d047a2aa78",
   "metadata": {
    "execution": {
     "iopub.execute_input": "2022-07-22T22:57:13.011343Z",
     "iopub.status.busy": "2022-07-22T22:57:13.011071Z",
     "iopub.status.idle": "2022-07-22T22:57:13.030355Z",
     "shell.execute_reply": "2022-07-22T22:57:13.029918Z"
    },
    "papermill": {
     "duration": 0.946032,
     "end_time": "2022-07-22T22:57:13.031563",
     "exception": false,
     "start_time": "2022-07-22T22:57:12.085531",
     "status": "completed"
    },
    "tags": []
   },
   "outputs": [
    {
     "data": {
      "text/plain": [
       "0.00    0.000002\n",
       "0.05    0.002209\n",
       "0.10    0.003220\n",
       "0.15    0.003941\n",
       "0.20    0.004664\n",
       "0.25    0.005274\n",
       "0.30    0.005847\n",
       "0.35    0.006379\n",
       "0.40    0.006939\n",
       "0.45    0.007481\n",
       "0.50    0.008043\n",
       "0.55    0.008632\n",
       "0.60    0.009225\n",
       "0.65    0.009881\n",
       "0.70    0.010561\n",
       "0.75    0.011331\n",
       "0.80    0.012226\n",
       "0.85    0.013388\n",
       "0.90    0.014934\n",
       "0.95    0.017637\n",
       "dtype: float64"
      ]
     },
     "metadata": {},
     "output_type": "display_data"
    }
   ],
   "source": [
    "gene_corrs_quantiles = gene_corrs_flat.quantile(np.arange(0, 1, 0.05))\n",
    "display(gene_corrs_quantiles)"
   ]
  },
  {
   "cell_type": "markdown",
   "id": "87134509-b145-4a10-8bc9-b7e914c2b0fa",
   "metadata": {
    "papermill": {
     "duration": 0.922396,
     "end_time": "2022-07-22T22:57:14.898877",
     "exception": false,
     "start_time": "2022-07-22T22:57:13.976481",
     "status": "completed"
    },
    "tags": []
   },
   "source": [
    "## Positive definiteness"
   ]
  },
  {
   "cell_type": "code",
   "execution_count": 42,
   "id": "07d9a9a1-a4f7-48aa-b916-6d42a8cc6186",
   "metadata": {
    "execution": {
     "iopub.execute_input": "2022-07-22T22:57:16.748964Z",
     "iopub.status.busy": "2022-07-22T22:57:16.748765Z",
     "iopub.status.idle": "2022-07-22T22:57:16.777850Z",
     "shell.execute_reply": "2022-07-22T22:57:16.777490Z"
    },
    "papermill": {
     "duration": 0.943729,
     "end_time": "2022-07-22T22:57:16.778911",
     "exception": false,
     "start_time": "2022-07-22T22:57:15.835182",
     "status": "completed"
    },
    "tags": []
   },
   "outputs": [
    {
     "data": {
      "text/plain": [
       "0"
      ]
     },
     "metadata": {},
     "output_type": "display_data"
    },
    {
     "data": {
      "text/plain": [
       "array([], dtype=float64)"
      ]
     },
     "metadata": {},
     "output_type": "display_data"
    }
   ],
   "source": [
    "# print negative eigenvalues\n",
    "eigs = np.linalg.eigvals(gene_corrs_df.to_numpy())\n",
    "display(len(eigs[eigs < 0]))\n",
    "display(eigs[eigs < 0])"
   ]
  },
  {
   "cell_type": "code",
   "execution_count": 43,
   "id": "6e218436-c3c5-4028-8c94-a4fa6260efce",
   "metadata": {
    "execution": {
     "iopub.execute_input": "2022-07-22T22:57:18.666978Z",
     "iopub.status.busy": "2022-07-22T22:57:18.666775Z",
     "iopub.status.idle": "2022-07-22T22:57:18.686038Z",
     "shell.execute_reply": "2022-07-22T22:57:18.685601Z"
    },
    "papermill": {
     "duration": 0.932995,
     "end_time": "2022-07-22T22:57:18.687347",
     "exception": false,
     "start_time": "2022-07-22T22:57:17.754352",
     "status": "completed"
    },
    "tags": []
   },
   "outputs": [
    {
     "name": "stdout",
     "output_type": "stream",
     "text": [
      "Works!\n"
     ]
    }
   ],
   "source": [
    "try:\n",
    "    chol_mat = np.linalg.cholesky(gene_corrs_df.to_numpy())\n",
    "    cov_inv = np.linalg.inv(chol_mat)\n",
    "    print(\"Works!\")\n",
    "except:\n",
    "    print(\"Cholesky decomposition failed\")"
   ]
  },
  {
   "cell_type": "markdown",
   "id": "8e60a080-edb2-4e9c-b2ef-22961693200c",
   "metadata": {
    "papermill": {
     "duration": 0.928855,
     "end_time": "2022-07-22T22:57:20.582515",
     "exception": false,
     "start_time": "2022-07-22T22:57:19.653660",
     "status": "completed"
    },
    "tags": []
   },
   "source": [
    "## Plot: distribution"
   ]
  },
  {
   "cell_type": "code",
   "execution_count": 44,
   "id": "8301126b-a7d4-4744-9c7d-f0f86eb6f54c",
   "metadata": {
    "execution": {
     "iopub.execute_input": "2022-07-22T22:57:22.437058Z",
     "iopub.status.busy": "2022-07-22T22:57:22.436860Z",
     "iopub.status.idle": "2022-07-22T22:57:27.264144Z",
     "shell.execute_reply": "2022-07-22T22:57:27.263537Z"
    },
    "papermill": {
     "duration": 5.756022,
     "end_time": "2022-07-22T22:57:27.265734",
     "exception": false,
     "start_time": "2022-07-22T22:57:21.509712",
     "status": "completed"
    },
    "tags": []
   },
   "outputs": [
    {
     "data": {
      "image/png": "[encoded data removed]",
      "text/plain": [
       "<Figure size 504x504 with 1 Axes>"
      ]
     },
     "metadata": {
      "needs_background": "light"
     },
     "output_type": "display_data"
    }
   ],
   "source": [
    "with sns.plotting_context(\"paper\", font_scale=1.5):\n",
    "    g = sns.displot(gene_corrs_flat, kde=True, height=7)\n",
    "    g.ax.set_title(\n",
    "        f\"Distribution of gene correlation values in chromosome {CHROMOSOME}\"\n",
    "    )"
   ]
  },
  {
   "cell_type": "markdown",
   "id": "cbd52bca-d878-4a2f-b684-5c83aa3038d4",
   "metadata": {
    "papermill": {
     "duration": 0.926052,
     "end_time": "2022-07-22T22:57:29.109823",
     "exception": false,
     "start_time": "2022-07-22T22:57:28.183771",
     "status": "completed"
    },
    "tags": []
   },
   "source": [
    "## Plot: heatmap"
   ]
  },
  {
   "cell_type": "code",
   "execution_count": 45,
   "id": "d03fe63a-c7b2-4fb9-a53c-db362ce843c9",
   "metadata": {
    "execution": {
     "iopub.execute_input": "2022-07-22T22:57:30.976891Z",
     "iopub.status.busy": "2022-07-22T22:57:30.976636Z",
     "iopub.status.idle": "2022-07-22T22:57:30.992801Z",
     "shell.execute_reply": "2022-07-22T22:57:30.992342Z"
    },
    "papermill": {
     "duration": 0.946593,
     "end_time": "2022-07-22T22:57:30.993938",
     "exception": false,
     "start_time": "2022-07-22T22:57:30.047345",
     "status": "completed"
    },
    "tags": []
   },
   "outputs": [
    {
     "data": {
      "text/plain": [
       "'0.0 / 0.05'"
      ]
     },
     "metadata": {},
     "output_type": "display_data"
    }
   ],
   "source": [
    "vmin_val = min(0.00, gene_corrs_quantiles[0.10])\n",
    "vmax_val = max(0.05, gene_corrs_quantiles[0.90])\n",
    "display(f\"{vmin_val} / {vmax_val}\")"
   ]
  },
  {
   "cell_type": "code",
   "execution_count": 46,
   "id": "dc41b70b-5bcc-4d9e-9f33-a22c4a94dab5",
   "metadata": {
    "execution": {
     "iopub.execute_input": "2022-07-22T22:57:32.852827Z",
     "iopub.status.busy": "2022-07-22T22:57:32.852417Z",
     "iopub.status.idle": "2022-07-22T22:57:33.034579Z",
     "shell.execute_reply": "2022-07-22T22:57:33.034157Z"
    },
    "papermill": {
     "duration": 1.117797,
     "end_time": "2022-07-22T22:57:33.037027",
     "exception": false,
     "start_time": "2022-07-22T22:57:31.919230",
     "status": "completed"
    },
    "tags": []
   },
   "outputs": [
    {
     "data": {
      "text/plain": [
       "Text(0.5, 1.0, 'Gene correlations in chromosome 15')"
      ]
     },
     "execution_count": 46,
     "metadata": {},
     "output_type": "execute_result"
    },
    {
     "data": {
      "image/png": "[encoded data removed]",
      "text/plain": [
       "<Figure size 720x720 with 2 Axes>"
      ]
     },
     "metadata": {
      "needs_background": "light"
     },
     "output_type": "display_data"
    }
   ],
   "source": [
    "f, ax = plt.subplots(figsize=(10, 10))\n",
    "sns.heatmap(\n",
    "    gene_corrs_df,\n",
    "    xticklabels=False,\n",
    "    yticklabels=False,\n",
    "    square=True,\n",
    "    vmin=vmin_val,\n",
    "    vmax=vmax_val,\n",
    "    cmap=\"rocket_r\",\n",
    "    ax=ax,\n",
    ")\n",
    "ax.set_title(f\"Gene correlations in chromosome {CHROMOSOME}\")"
   ]
  },
  {
   "cell_type": "code",
   "execution_count": null,
   "id": "b25e3ead",
   "metadata": {
    "papermill": {
     "duration": 0.938285,
     "end_time": "2022-07-22T22:57:34.898531",
     "exception": false,
     "start_time": "2022-07-22T22:57:33.960246",
     "status": "completed"
    },
    "tags": []
   },
   "outputs": [],
   "source": []
  }
 ],
 "metadata": {
  "jupytext": {
   "cell_metadata_filter": "all,-execution,-papermill,-trusted",
   "formats": "ipynb,py//py:percent"
  },
  "kernelspec": {
   "display_name": "Python 3 (ipykernel)",
   "language": "python",
   "name": "python3"
  },
  "language_info": {
   "codemirror_mode": {
    "name": "ipython",
    "version": 3
   },
   "file_extension": ".py",
   "mimetype": "text/x-python",
   "name": "python",
   "nbconvert_exporter": "python",
   "pygments_lexer": "ipython3",
   "version": "3.8.13"
  },
  "papermill": {
   "default_parameters": {},
   "duration": 1482.614573,
   "end_time": "2022-07-22T22:57:38.586202",
   "environment_variables": {},
   "exception": null,
   "input_path": "nbs/15_gsa_gls/10-gene_expr_correlations.ipynb",
   "output_path": "nbs/15_gsa_gls/gene_corrs/cohorts/1000g_eur/1000g/mashr/10-gene_expr_correlations-chr15.run.ipynb",
   "parameters": {
    "CHROMOSOME": 15,
    "COHORT_NAME": "1000G_EUR",
    "EQTL_MODEL": "MASHR",
    "REFERENCE_PANEL": "1000G"
   },
   "start_time": "2022-07-22T22:32:55.971629",
   "version": "2.2.2"
  }
 },
 "nbformat": 4,
 "nbformat_minor": 5
}
