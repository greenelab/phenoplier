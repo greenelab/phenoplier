{
 "cells": [
  {
   "cell_type": "markdown",
   "id": "5ef66977",
   "metadata": {
    "papermill": {
     "duration": 0.022605,
     "end_time": "2022-07-23T16:00:28.439610",
     "exception": false,
     "start_time": "2022-07-23T16:00:28.417005",
     "status": "completed"
    },
    "tags": []
   },
   "source": [
    "# Description"
   ]
  },
  {
   "cell_type": "markdown",
   "id": "658d4f7c",
   "metadata": {
    "papermill": {
     "duration": 0.008395,
     "end_time": "2022-07-23T16:00:28.458924",
     "exception": false,
     "start_time": "2022-07-23T16:00:28.450529",
     "status": "completed"
    },
    "tags": []
   },
   "source": [
    "**TODO UPDATE**\n",
    "\n",
    "(Please, take a look at the README.md file in this directory for instructions on how to run this notebook)\n",
    "\n",
    "This notebook reads all gene correlations across all chromosomes and computes a single correlation matrix by assembling a big correlation matrix with all genes."
   ]
  },
  {
   "cell_type": "markdown",
   "id": "60fa4530",
   "metadata": {
    "papermill": {
     "duration": 0.005314,
     "end_time": "2022-07-23T16:00:28.470207",
     "exception": false,
     "start_time": "2022-07-23T16:00:28.464893",
     "status": "completed"
    },
    "tags": []
   },
   "source": [
    "# Modules"
   ]
  },
  {
   "cell_type": "code",
   "execution_count": 1,
   "id": "d70b0833",
   "metadata": {
    "execution": {
     "iopub.execute_input": "2022-07-23T16:00:28.483544Z",
     "iopub.status.busy": "2022-07-23T16:00:28.483123Z",
     "iopub.status.idle": "2022-07-23T16:00:28.500145Z",
     "shell.execute_reply": "2022-07-23T16:00:28.499618Z"
    },
    "papermill": {
     "duration": 0.025609,
     "end_time": "2022-07-23T16:00:28.501755",
     "exception": false,
     "start_time": "2022-07-23T16:00:28.476146",
     "status": "completed"
    },
    "tags": []
   },
   "outputs": [],
   "source": [
    "%load_ext autoreload\n",
    "%autoreload 2"
   ]
  },
  {
   "cell_type": "code",
   "execution_count": 2,
   "id": "6b2f9ca0",
   "metadata": {
    "execution": {
     "iopub.execute_input": "2022-07-23T16:00:28.514431Z",
     "iopub.status.busy": "2022-07-23T16:00:28.514262Z",
     "iopub.status.idle": "2022-07-23T16:00:29.011401Z",
     "shell.execute_reply": "2022-07-23T16:00:29.010839Z"
    },
    "papermill": {
     "duration": 0.505031,
     "end_time": "2022-07-23T16:00:29.012835",
     "exception": false,
     "start_time": "2022-07-23T16:00:28.507804",
     "status": "completed"
    },
    "tags": []
   },
   "outputs": [],
   "source": [
    "from pathlib import Path\n",
    "from concurrent.futures import ProcessPoolExecutor, as_completed\n",
    "\n",
    "import numpy as np\n",
    "from scipy.spatial.distance import squareform\n",
    "from scipy import sparse\n",
    "import pandas as pd\n",
    "from tqdm import tqdm\n",
    "\n",
    "import conf\n",
    "from utils import chunker\n",
    "from entity import Gene"
   ]
  },
  {
   "cell_type": "markdown",
   "id": "5b96e797",
   "metadata": {
    "papermill": {
     "duration": 0.006159,
     "end_time": "2022-07-23T16:00:29.024658",
     "exception": false,
     "start_time": "2022-07-23T16:00:29.018499",
     "status": "completed"
    },
    "tags": []
   },
   "source": [
    "# Settings"
   ]
  },
  {
   "cell_type": "code",
   "execution_count": 3,
   "id": "4fc1b6a0",
   "metadata": {
    "execution": {
     "iopub.execute_input": "2022-07-23T16:00:29.039717Z",
     "iopub.status.busy": "2022-07-23T16:00:29.039523Z",
     "iopub.status.idle": "2022-07-23T16:00:29.053283Z",
     "shell.execute_reply": "2022-07-23T16:00:29.052625Z"
    },
    "papermill": {
     "duration": 0.022655,
     "end_time": "2022-07-23T16:00:29.054798",
     "exception": false,
     "start_time": "2022-07-23T16:00:29.032143",
     "status": "completed"
    },
    "tags": [
     "parameters"
    ]
   },
   "outputs": [],
   "source": [
    "# a cohort name (it could be something like UK_BIOBANK, etc)\n",
    "COHORT_NAME = None\n",
    "\n",
    "# reference panel such as 1000G or GTEX_V8\n",
    "REFERENCE_PANEL = None\n",
    "\n",
    "# predictions models such as MASHR or ELASTIC_NET\n",
    "EQTL_MODEL = None\n",
    "\n",
    "# This is one S-MultiXcan result file on the same target cohort\n",
    "# Genes will be read from here to align the correlation matrices\n",
    "SMULTIXCAN_RESULTS_TEMPLATE = (\n",
    "    conf.RESULTS[\"GLS_NULL_SIMS\"]\n",
    "    / \"twas\"\n",
    "    / \"smultixcan\"\n",
    "    / \"random.pheno0-gtex_v8-mashr-smultixcan.txt\"\n",
    ")"
   ]
  },
  {
   "cell_type": "code",
   "execution_count": 4,
   "id": "9723d0a4",
   "metadata": {
    "execution": {
     "iopub.execute_input": "2022-07-23T16:00:29.067848Z",
     "iopub.status.busy": "2022-07-23T16:00:29.067669Z",
     "iopub.status.idle": "2022-07-23T16:00:29.082229Z",
     "shell.execute_reply": "2022-07-23T16:00:29.081573Z"
    },
    "lines_to_next_cell": 2,
    "papermill": {
     "duration": 0.022725,
     "end_time": "2022-07-23T16:00:29.083735",
     "exception": false,
     "start_time": "2022-07-23T16:00:29.061010",
     "status": "completed"
    },
    "tags": [
     "injected-parameters"
    ]
   },
   "outputs": [],
   "source": [
    "# FIXME: remove later\n",
    "# Parameters\n",
    "COHORT_NAME = \"1000G_EUR\"\n",
    "REFERENCE_PANEL = \"1000G\"\n",
    "EQTL_MODEL = \"MASHR\""
   ]
  },
  {
   "cell_type": "code",
   "execution_count": 5,
   "id": "10c1d77a-c024-4d52-8888-7806944731ff",
   "metadata": {
    "execution": {
     "iopub.execute_input": "2022-07-23T16:00:29.096889Z",
     "iopub.status.busy": "2022-07-23T16:00:29.096714Z",
     "iopub.status.idle": "2022-07-23T16:00:29.115301Z",
     "shell.execute_reply": "2022-07-23T16:00:29.114779Z"
    },
    "papermill": {
     "duration": 0.026628,
     "end_time": "2022-07-23T16:00:29.116623",
     "exception": false,
     "start_time": "2022-07-23T16:00:29.089995",
     "status": "completed"
    },
    "tags": []
   },
   "outputs": [
    {
     "data": {
      "text/plain": [
       "'Cohort name: 1000g_eur'"
      ]
     },
     "metadata": {},
     "output_type": "display_data"
    }
   ],
   "source": [
    "assert COHORT_NAME is not None and len(COHORT_NAME) > 0, \"A cohort name must be given\"\n",
    "\n",
    "COHORT_NAME = COHORT_NAME.lower()\n",
    "display(f\"Cohort name: {COHORT_NAME}\")"
   ]
  },
  {
   "cell_type": "code",
   "execution_count": 6,
   "id": "2d74d598-860b-4994-a8ab-495c6ea1d93d",
   "metadata": {
    "execution": {
     "iopub.execute_input": "2022-07-23T16:00:29.129955Z",
     "iopub.status.busy": "2022-07-23T16:00:29.129769Z",
     "iopub.status.idle": "2022-07-23T16:00:29.144121Z",
     "shell.execute_reply": "2022-07-23T16:00:29.143557Z"
    },
    "papermill": {
     "duration": 0.022548,
     "end_time": "2022-07-23T16:00:29.145454",
     "exception": false,
     "start_time": "2022-07-23T16:00:29.122906",
     "status": "completed"
    },
    "tags": []
   },
   "outputs": [
    {
     "data": {
      "text/plain": [
       "'Reference panel: 1000G'"
      ]
     },
     "metadata": {},
     "output_type": "display_data"
    }
   ],
   "source": [
    "assert (\n",
    "    REFERENCE_PANEL is not None and len(REFERENCE_PANEL) > 0\n",
    "), \"A reference panel must be given\"\n",
    "\n",
    "display(f\"Reference panel: {REFERENCE_PANEL}\")"
   ]
  },
  {
   "cell_type": "code",
   "execution_count": 7,
   "id": "23fccc89-f877-46a0-86c9-caa7b2cd71e2",
   "metadata": {
    "execution": {
     "iopub.execute_input": "2022-07-23T16:00:29.158946Z",
     "iopub.status.busy": "2022-07-23T16:00:29.158772Z",
     "iopub.status.idle": "2022-07-23T16:00:29.173202Z",
     "shell.execute_reply": "2022-07-23T16:00:29.172673Z"
    },
    "papermill": {
     "duration": 0.022757,
     "end_time": "2022-07-23T16:00:29.174571",
     "exception": false,
     "start_time": "2022-07-23T16:00:29.151814",
     "status": "completed"
    },
    "tags": []
   },
   "outputs": [
    {
     "data": {
      "text/plain": [
       "'eQTL model: MASHR) / mashr_'"
      ]
     },
     "metadata": {},
     "output_type": "display_data"
    }
   ],
   "source": [
    "assert (\n",
    "    EQTL_MODEL is not None and len(EQTL_MODEL) > 0\n",
    "), \"A prediction/eQTL model must be given\"\n",
    "\n",
    "EQTL_MODEL_FILES_PREFIX = conf.PHENOMEXCAN[\"PREDICTION_MODELS\"][f\"{EQTL_MODEL}_PREFIX\"]\n",
    "display(f\"eQTL model: {EQTL_MODEL}) / {EQTL_MODEL_FILES_PREFIX}\")"
   ]
  },
  {
   "cell_type": "code",
   "execution_count": 8,
   "id": "92e6297a",
   "metadata": {
    "execution": {
     "iopub.execute_input": "2022-07-23T16:00:29.188421Z",
     "iopub.status.busy": "2022-07-23T16:00:29.188246Z",
     "iopub.status.idle": "2022-07-23T16:00:29.201723Z",
     "shell.execute_reply": "2022-07-23T16:00:29.201178Z"
    },
    "papermill": {
     "duration": 0.021964,
     "end_time": "2022-07-23T16:00:29.203142",
     "exception": false,
     "start_time": "2022-07-23T16:00:29.181178",
     "status": "completed"
    },
    "tags": []
   },
   "outputs": [],
   "source": [
    "assert (SMULTIXCAN_RESULTS_TEMPLATE is not None) and (\n",
    "    SMULTIXCAN_RESULTS_TEMPLATE.exists()\n",
    "), \"You have to provide the path to a S-MultiXcan results file\""
   ]
  },
  {
   "cell_type": "code",
   "execution_count": 9,
   "id": "b3320631-6bf0-4878-85d4-9a81497c0b3c",
   "metadata": {
    "execution": {
     "iopub.execute_input": "2022-07-23T16:00:29.217029Z",
     "iopub.status.busy": "2022-07-23T16:00:29.216851Z",
     "iopub.status.idle": "2022-07-23T16:00:29.231545Z",
     "shell.execute_reply": "2022-07-23T16:00:29.230978Z"
    },
    "papermill": {
     "duration": 0.023138,
     "end_time": "2022-07-23T16:00:29.232880",
     "exception": false,
     "start_time": "2022-07-23T16:00:29.209742",
     "status": "completed"
    },
    "tags": []
   },
   "outputs": [
    {
     "data": {
      "text/plain": [
       "'Using output dir base: /opt/data/results/gls/gene_corrs/cohorts/1000g_eur/1000g/mashr/all_genes'"
      ]
     },
     "metadata": {},
     "output_type": "display_data"
    }
   ],
   "source": [
    "OUTPUT_DIR_BASE = (\n",
    "    conf.RESULTS[\"GLS\"]\n",
    "    / \"gene_corrs\"\n",
    "    / \"cohorts\"\n",
    "    / COHORT_NAME.lower()\n",
    "    / REFERENCE_PANEL.lower()\n",
    "    / EQTL_MODEL.lower()\n",
    "    / \"all_genes\" # FIXME: remove this later\n",
    ")\n",
    "OUTPUT_DIR_BASE.mkdir(parents=True, exist_ok=True)\n",
    "\n",
    "display(f\"Using output dir base: {OUTPUT_DIR_BASE}\")"
   ]
  },
  {
   "cell_type": "markdown",
   "id": "99ccb166",
   "metadata": {
    "papermill": {
     "duration": 0.006351,
     "end_time": "2022-07-23T16:00:29.245829",
     "exception": false,
     "start_time": "2022-07-23T16:00:29.239478",
     "status": "completed"
    },
    "tags": []
   },
   "source": [
    "# Load data"
   ]
  },
  {
   "cell_type": "markdown",
   "id": "028bdd42",
   "metadata": {
    "papermill": {
     "duration": 0.00572,
     "end_time": "2022-07-23T16:00:29.257997",
     "exception": false,
     "start_time": "2022-07-23T16:00:29.252277",
     "status": "completed"
    },
    "tags": []
   },
   "source": [
    "## S-MultiXcan genes"
   ]
  },
  {
   "cell_type": "code",
   "execution_count": 10,
   "id": "98d934ea-4bc1-4b03-8d07-7c4b82832929",
   "metadata": {
    "execution": {
     "iopub.execute_input": "2022-07-23T16:00:29.295544Z",
     "iopub.status.busy": "2022-07-23T16:00:29.295358Z",
     "iopub.status.idle": "2022-07-23T16:00:29.384745Z",
     "shell.execute_reply": "2022-07-23T16:00:29.384065Z"
    },
    "papermill": {
     "duration": 0.098502,
     "end_time": "2022-07-23T16:00:29.386238",
     "exception": false,
     "start_time": "2022-07-23T16:00:29.287736",
     "status": "completed"
    },
    "tags": []
   },
   "outputs": [],
   "source": [
    "smultixcan_df = pd.read_csv(SMULTIXCAN_RESULTS_TEMPLATE, sep=\"\\t\")"
   ]
  },
  {
   "cell_type": "code",
   "execution_count": 11,
   "id": "c854324f-61ca-4c6a-b215-d8cf38c4a809",
   "metadata": {
    "execution": {
     "iopub.execute_input": "2022-07-23T16:00:29.399273Z",
     "iopub.status.busy": "2022-07-23T16:00:29.399116Z",
     "iopub.status.idle": "2022-07-23T16:00:29.412373Z",
     "shell.execute_reply": "2022-07-23T16:00:29.411832Z"
    },
    "papermill": {
     "duration": 0.021018,
     "end_time": "2022-07-23T16:00:29.413597",
     "exception": false,
     "start_time": "2022-07-23T16:00:29.392579",
     "status": "completed"
    },
    "tags": []
   },
   "outputs": [
    {
     "data": {
      "text/plain": [
       "(22317, 18)"
      ]
     },
     "execution_count": 11,
     "metadata": {},
     "output_type": "execute_result"
    }
   ],
   "source": [
    "smultixcan_df.shape"
   ]
  },
  {
   "cell_type": "code",
   "execution_count": 12,
   "id": "3543a030-c979-43e0-82d8-b425b93f341b",
   "metadata": {
    "execution": {
     "iopub.execute_input": "2022-07-23T16:00:29.426220Z",
     "iopub.status.busy": "2022-07-23T16:00:29.426071Z",
     "iopub.status.idle": "2022-07-23T16:00:29.450400Z",
     "shell.execute_reply": "2022-07-23T16:00:29.449736Z"
    },
    "papermill": {
     "duration": 0.031904,
     "end_time": "2022-07-23T16:00:29.451679",
     "exception": false,
     "start_time": "2022-07-23T16:00:29.419775",
     "status": "completed"
    },
    "tags": []
   },
   "outputs": [
    {
     "data": {
      "text/html": [
       "<div>\n",
       "<style scoped>\n",
       "    .dataframe tbody tr th:only-of-type {\n",
       "        vertical-align: middle;\n",
       "    }\n",
       "\n",
       "    .dataframe tbody tr th {\n",
       "        vertical-align: top;\n",
       "    }\n",
       "\n",
       "    .dataframe thead th {\n",
       "        text-align: right;\n",
       "    }\n",
       "</style>\n",
       "<table border=\"1\" class=\"dataframe\">\n",
       "  <thead>\n",
       "    <tr style=\"text-align: right;\">\n",
       "      <th></th>\n",
       "      <th>gene</th>\n",
       "      <th>gene_name</th>\n",
       "      <th>pvalue</th>\n",
       "      <th>n</th>\n",
       "      <th>n_indep</th>\n",
       "      <th>p_i_best</th>\n",
       "      <th>t_i_best</th>\n",
       "      <th>p_i_worst</th>\n",
       "      <th>t_i_worst</th>\n",
       "      <th>eigen_max</th>\n",
       "      <th>eigen_min</th>\n",
       "      <th>eigen_min_kept</th>\n",
       "      <th>z_min</th>\n",
       "      <th>z_max</th>\n",
       "      <th>z_mean</th>\n",
       "      <th>z_sd</th>\n",
       "      <th>tmi</th>\n",
       "      <th>status</th>\n",
       "    </tr>\n",
       "  </thead>\n",
       "  <tbody>\n",
       "    <tr>\n",
       "      <th>0</th>\n",
       "      <td>ENSG00000131941.7</td>\n",
       "      <td>RHPN2</td>\n",
       "      <td>0.000040</td>\n",
       "      <td>48.0</td>\n",
       "      <td>3.0</td>\n",
       "      <td>2.139470e-04</td>\n",
       "      <td>Artery_Tibial</td>\n",
       "      <td>0.990132</td>\n",
       "      <td>Brain_Nucleus_accumbens_basal_ganglia</td>\n",
       "      <td>36.556432</td>\n",
       "      <td>7.692089e-16</td>\n",
       "      <td>2.519701</td>\n",
       "      <td>-2.721185</td>\n",
       "      <td>3.701952</td>\n",
       "      <td>1.283152</td>\n",
       "      <td>1.825567</td>\n",
       "      <td>3.0</td>\n",
       "      <td>0</td>\n",
       "    </tr>\n",
       "    <tr>\n",
       "      <th>1</th>\n",
       "      <td>ENSG00000076650.6</td>\n",
       "      <td>GPATCH1</td>\n",
       "      <td>0.000078</td>\n",
       "      <td>40.0</td>\n",
       "      <td>3.0</td>\n",
       "      <td>4.534390e-04</td>\n",
       "      <td>Brain_Cerebellum</td>\n",
       "      <td>0.817384</td>\n",
       "      <td>Brain_Frontal_Cortex_BA9</td>\n",
       "      <td>29.990208</td>\n",
       "      <td>2.086487e-15</td>\n",
       "      <td>1.815203</td>\n",
       "      <td>-3.506853</td>\n",
       "      <td>2.383485</td>\n",
       "      <td>-2.016745</td>\n",
       "      <td>1.715495</td>\n",
       "      <td>3.0</td>\n",
       "      <td>0</td>\n",
       "    </tr>\n",
       "    <tr>\n",
       "      <th>2</th>\n",
       "      <td>ENSG00000100906.10</td>\n",
       "      <td>NFKBIA</td>\n",
       "      <td>0.000096</td>\n",
       "      <td>1.0</td>\n",
       "      <td>1.0</td>\n",
       "      <td>9.591208e-05</td>\n",
       "      <td>Brain_Frontal_Cortex_BA9</td>\n",
       "      <td>0.000096</td>\n",
       "      <td>Brain_Frontal_Cortex_BA9</td>\n",
       "      <td>1.000000</td>\n",
       "      <td>1.000000e+00</td>\n",
       "      <td>1.000000</td>\n",
       "      <td>-3.900707</td>\n",
       "      <td>-3.900707</td>\n",
       "      <td>-3.900707</td>\n",
       "      <td>NaN</td>\n",
       "      <td>1.0</td>\n",
       "      <td>0</td>\n",
       "    </tr>\n",
       "    <tr>\n",
       "      <th>3</th>\n",
       "      <td>ENSG00000136319.11</td>\n",
       "      <td>TTC5</td>\n",
       "      <td>0.000109</td>\n",
       "      <td>47.0</td>\n",
       "      <td>5.0</td>\n",
       "      <td>1.402826e-03</td>\n",
       "      <td>Brain_Hippocampus</td>\n",
       "      <td>0.961887</td>\n",
       "      <td>Colon_Sigmoid</td>\n",
       "      <td>21.272442</td>\n",
       "      <td>8.142339e-16</td>\n",
       "      <td>0.732606</td>\n",
       "      <td>-3.194069</td>\n",
       "      <td>1.397514</td>\n",
       "      <td>-0.916662</td>\n",
       "      <td>1.068989</td>\n",
       "      <td>5.0</td>\n",
       "      <td>0</td>\n",
       "    </tr>\n",
       "    <tr>\n",
       "      <th>4</th>\n",
       "      <td>ENSG00000152990.13</td>\n",
       "      <td>ADGRA3</td>\n",
       "      <td>0.000135</td>\n",
       "      <td>41.0</td>\n",
       "      <td>12.0</td>\n",
       "      <td>3.211289e-07</td>\n",
       "      <td>Heart_Atrial_Appendage</td>\n",
       "      <td>0.653657</td>\n",
       "      <td>Whole_Blood</td>\n",
       "      <td>12.988248</td>\n",
       "      <td>3.499412e-16</td>\n",
       "      <td>0.444682</td>\n",
       "      <td>-5.110605</td>\n",
       "      <td>3.599410</td>\n",
       "      <td>-0.464735</td>\n",
       "      <td>2.316607</td>\n",
       "      <td>12.0</td>\n",
       "      <td>0</td>\n",
       "    </tr>\n",
       "  </tbody>\n",
       "</table>\n",
       "</div>"
      ],
      "text/plain": [
       "                 gene gene_name    pvalue     n  n_indep      p_i_best  \\\n",
       "0   ENSG00000131941.7     RHPN2  0.000040  48.0      3.0  2.139470e-04   \n",
       "1   ENSG00000076650.6   GPATCH1  0.000078  40.0      3.0  4.534390e-04   \n",
       "2  ENSG00000100906.10    NFKBIA  0.000096   1.0      1.0  9.591208e-05   \n",
       "3  ENSG00000136319.11      TTC5  0.000109  47.0      5.0  1.402826e-03   \n",
       "4  ENSG00000152990.13    ADGRA3  0.000135  41.0     12.0  3.211289e-07   \n",
       "\n",
       "                   t_i_best  p_i_worst                              t_i_worst  \\\n",
       "0             Artery_Tibial   0.990132  Brain_Nucleus_accumbens_basal_ganglia   \n",
       "1          Brain_Cerebellum   0.817384               Brain_Frontal_Cortex_BA9   \n",
       "2  Brain_Frontal_Cortex_BA9   0.000096               Brain_Frontal_Cortex_BA9   \n",
       "3         Brain_Hippocampus   0.961887                          Colon_Sigmoid   \n",
       "4    Heart_Atrial_Appendage   0.653657                            Whole_Blood   \n",
       "\n",
       "   eigen_max     eigen_min  eigen_min_kept     z_min     z_max    z_mean  \\\n",
       "0  36.556432  7.692089e-16        2.519701 -2.721185  3.701952  1.283152   \n",
       "1  29.990208  2.086487e-15        1.815203 -3.506853  2.383485 -2.016745   \n",
       "2   1.000000  1.000000e+00        1.000000 -3.900707 -3.900707 -3.900707   \n",
       "3  21.272442  8.142339e-16        0.732606 -3.194069  1.397514 -0.916662   \n",
       "4  12.988248  3.499412e-16        0.444682 -5.110605  3.599410 -0.464735   \n",
       "\n",
       "       z_sd   tmi  status  \n",
       "0  1.825567   3.0       0  \n",
       "1  1.715495   3.0       0  \n",
       "2       NaN   1.0       0  \n",
       "3  1.068989   5.0       0  \n",
       "4  2.316607  12.0       0  "
      ]
     },
     "execution_count": 12,
     "metadata": {},
     "output_type": "execute_result"
    }
   ],
   "source": [
    "smultixcan_df.head()"
   ]
  },
  {
   "cell_type": "code",
   "execution_count": 13,
   "id": "18997b82-d0c7-432c-b6fc-376c2ce303ca",
   "metadata": {
    "execution": {
     "iopub.execute_input": "2022-07-23T16:00:29.464849Z",
     "iopub.status.busy": "2022-07-23T16:00:29.464644Z",
     "iopub.status.idle": "2022-07-23T16:00:29.510872Z",
     "shell.execute_reply": "2022-07-23T16:00:29.510282Z"
    },
    "papermill": {
     "duration": 0.05441,
     "end_time": "2022-07-23T16:00:29.512288",
     "exception": false,
     "start_time": "2022-07-23T16:00:29.457878",
     "status": "completed"
    },
    "tags": []
   },
   "outputs": [],
   "source": [
    "assert not smultixcan_df.isin([np.inf, -np.inf]).any().any()"
   ]
  },
  {
   "cell_type": "code",
   "execution_count": 14,
   "id": "9d35ce7a-ecd7-4eb4-99cb-42863608ae5e",
   "metadata": {
    "execution": {
     "iopub.execute_input": "2022-07-23T16:00:29.525191Z",
     "iopub.status.busy": "2022-07-23T16:00:29.525038Z",
     "iopub.status.idle": "2022-07-23T16:00:29.558739Z",
     "shell.execute_reply": "2022-07-23T16:00:29.558241Z"
    },
    "papermill": {
     "duration": 0.041613,
     "end_time": "2022-07-23T16:00:29.560072",
     "exception": false,
     "start_time": "2022-07-23T16:00:29.518459",
     "status": "completed"
    },
    "tags": []
   },
   "outputs": [
    {
     "data": {
      "text/plain": [
       "(22314, 18)"
      ]
     },
     "metadata": {},
     "output_type": "display_data"
    }
   ],
   "source": [
    "# remove NaNs\n",
    "smultixcan_df = smultixcan_df.dropna(subset=[\"pvalue\"])\n",
    "display(smultixcan_df.shape)"
   ]
  },
  {
   "cell_type": "code",
   "execution_count": 15,
   "id": "813a8892-7ed5-4adb-8bae-c92a215d25b4",
   "metadata": {
    "execution": {
     "iopub.execute_input": "2022-07-23T16:00:29.573840Z",
     "iopub.status.busy": "2022-07-23T16:00:29.573460Z",
     "iopub.status.idle": "2022-07-23T16:00:29.587496Z",
     "shell.execute_reply": "2022-07-23T16:00:29.586928Z"
    },
    "papermill": {
     "duration": 0.022202,
     "end_time": "2022-07-23T16:00:29.588874",
     "exception": false,
     "start_time": "2022-07-23T16:00:29.566672",
     "status": "completed"
    },
    "tags": []
   },
   "outputs": [],
   "source": [
    "smultixcan_genes = set(smultixcan_df[\"gene_name\"].tolist())"
   ]
  },
  {
   "cell_type": "code",
   "execution_count": 16,
   "id": "767e3c24-ea25-4374-a62d-49a35f1990e1",
   "metadata": {
    "execution": {
     "iopub.execute_input": "2022-07-23T16:00:29.602194Z",
     "iopub.status.busy": "2022-07-23T16:00:29.602033Z",
     "iopub.status.idle": "2022-07-23T16:00:29.614937Z",
     "shell.execute_reply": "2022-07-23T16:00:29.614465Z"
    },
    "papermill": {
     "duration": 0.020929,
     "end_time": "2022-07-23T16:00:29.616153",
     "exception": false,
     "start_time": "2022-07-23T16:00:29.595224",
     "status": "completed"
    },
    "tags": []
   },
   "outputs": [
    {
     "data": {
      "text/plain": [
       "22308"
      ]
     },
     "execution_count": 16,
     "metadata": {},
     "output_type": "execute_result"
    }
   ],
   "source": [
    "len(smultixcan_genes)"
   ]
  },
  {
   "cell_type": "code",
   "execution_count": 17,
   "id": "341dbe45-8024-46fa-848d-52fdd23fd72f",
   "metadata": {
    "execution": {
     "iopub.execute_input": "2022-07-23T16:00:29.629661Z",
     "iopub.status.busy": "2022-07-23T16:00:29.629501Z",
     "iopub.status.idle": "2022-07-23T16:00:29.648485Z",
     "shell.execute_reply": "2022-07-23T16:00:29.647948Z"
    },
    "papermill": {
     "duration": 0.029105,
     "end_time": "2022-07-23T16:00:29.651671",
     "exception": false,
     "start_time": "2022-07-23T16:00:29.622566",
     "status": "completed"
    },
    "tags": []
   },
   "outputs": [
    {
     "data": {
      "text/plain": [
       "['A1BG', 'A1CF', 'A2M', 'A2ML1', 'A3GALT2']"
      ]
     },
     "execution_count": 17,
     "metadata": {},
     "output_type": "execute_result"
    }
   ],
   "source": [
    "sorted(list(smultixcan_genes))[:5]"
   ]
  },
  {
   "cell_type": "markdown",
   "id": "d5262187-494c-4399-8b71-cbbc3e20a9df",
   "metadata": {
    "papermill": {
     "duration": 0.006298,
     "end_time": "2022-07-23T16:00:29.670601",
     "exception": false,
     "start_time": "2022-07-23T16:00:29.664303",
     "status": "completed"
    },
    "tags": []
   },
   "source": [
    "## Gene correlations"
   ]
  },
  {
   "cell_type": "code",
   "execution_count": 18,
   "id": "2f174f95-2be3-4b63-95fb-451413ad361d",
   "metadata": {
    "execution": {
     "iopub.execute_input": "2022-07-23T16:00:29.684450Z",
     "iopub.status.busy": "2022-07-23T16:00:29.684261Z",
     "iopub.status.idle": "2022-07-23T16:00:29.697372Z",
     "shell.execute_reply": "2022-07-23T16:00:29.696822Z"
    },
    "papermill": {
     "duration": 0.021279,
     "end_time": "2022-07-23T16:00:29.698539",
     "exception": false,
     "start_time": "2022-07-23T16:00:29.677260",
     "status": "completed"
    },
    "tags": []
   },
   "outputs": [
    {
     "data": {
      "text/plain": [
       "PosixPath('/opt/data/results/gls/gene_corrs/cohorts/1000g_eur/1000g/mashr/all_genes/gene_corrs-symbols.pkl')"
      ]
     },
     "metadata": {},
     "output_type": "display_data"
    }
   ],
   "source": [
    "input_file = OUTPUT_DIR_BASE / \"gene_corrs-symbols.pkl\"\n",
    "display(input_file)\n",
    "assert input_file.exists()"
   ]
  },
  {
   "cell_type": "code",
   "execution_count": 19,
   "id": "e6838c80-57e3-4a7a-8ee1-ed5948645508",
   "metadata": {
    "execution": {
     "iopub.execute_input": "2022-07-23T16:00:29.712105Z",
     "iopub.status.busy": "2022-07-23T16:00:29.711922Z",
     "iopub.status.idle": "2022-07-23T16:00:29.863301Z",
     "shell.execute_reply": "2022-07-23T16:00:29.862700Z"
    },
    "papermill": {
     "duration": 0.159771,
     "end_time": "2022-07-23T16:00:29.864854",
     "exception": false,
     "start_time": "2022-07-23T16:00:29.705083",
     "status": "completed"
    },
    "tags": []
   },
   "outputs": [],
   "source": [
    "# load correlation matrix\n",
    "gene_corrs = pd.read_pickle(input_file)"
   ]
  },
  {
   "cell_type": "code",
   "execution_count": 20,
   "id": "981b0c08-4217-4d0b-b0f7-57c8cf015055",
   "metadata": {
    "execution": {
     "iopub.execute_input": "2022-07-23T16:00:29.880147Z",
     "iopub.status.busy": "2022-07-23T16:00:29.879983Z",
     "iopub.status.idle": "2022-07-23T16:00:29.893322Z",
     "shell.execute_reply": "2022-07-23T16:00:29.892820Z"
    },
    "papermill": {
     "duration": 0.022257,
     "end_time": "2022-07-23T16:00:29.894599",
     "exception": false,
     "start_time": "2022-07-23T16:00:29.872342",
     "status": "completed"
    },
    "tags": []
   },
   "outputs": [
    {
     "data": {
      "text/plain": [
       "(6442, 6442)"
      ]
     },
     "execution_count": 20,
     "metadata": {},
     "output_type": "execute_result"
    }
   ],
   "source": [
    "gene_corrs.shape"
   ]
  },
  {
   "cell_type": "code",
   "execution_count": 21,
   "id": "49fb8383-23fc-40d7-adf6-70f5770ee37f",
   "metadata": {
    "execution": {
     "iopub.execute_input": "2022-07-23T16:00:29.909631Z",
     "iopub.status.busy": "2022-07-23T16:00:29.909465Z",
     "iopub.status.idle": "2022-07-23T16:00:29.939177Z",
     "shell.execute_reply": "2022-07-23T16:00:29.938492Z"
    },
    "papermill": {
     "duration": 0.038762,
     "end_time": "2022-07-23T16:00:29.940496",
     "exception": false,
     "start_time": "2022-07-23T16:00:29.901734",
     "status": "completed"
    },
    "tags": []
   },
   "outputs": [
    {
     "data": {
      "text/html": [
       "<div>\n",
       "<style scoped>\n",
       "    .dataframe tbody tr th:only-of-type {\n",
       "        vertical-align: middle;\n",
       "    }\n",
       "\n",
       "    .dataframe tbody tr th {\n",
       "        vertical-align: top;\n",
       "    }\n",
       "\n",
       "    .dataframe thead th {\n",
       "        text-align: right;\n",
       "    }\n",
       "</style>\n",
       "<table border=\"1\" class=\"dataframe\">\n",
       "  <thead>\n",
       "    <tr style=\"text-align: right;\">\n",
       "      <th></th>\n",
       "      <th>NOC2L</th>\n",
       "      <th>HES4</th>\n",
       "      <th>ISG15</th>\n",
       "      <th>AGRN</th>\n",
       "      <th>TNFRSF18</th>\n",
       "      <th>TNFRSF4</th>\n",
       "      <th>B3GALT6</th>\n",
       "      <th>UBE2J2</th>\n",
       "      <th>ACAP3</th>\n",
       "      <th>TAS1R3</th>\n",
       "      <th>...</th>\n",
       "      <th>PLXNB2</th>\n",
       "      <th>ADM2</th>\n",
       "      <th>MIOX</th>\n",
       "      <th>SCO2</th>\n",
       "      <th>TYMP</th>\n",
       "      <th>CPT1B</th>\n",
       "      <th>CHKB</th>\n",
       "      <th>MAPK8IP2</th>\n",
       "      <th>ARSA</th>\n",
       "      <th>SHANK3</th>\n",
       "    </tr>\n",
       "  </thead>\n",
       "  <tbody>\n",
       "    <tr>\n",
       "      <th>NOC2L</th>\n",
       "      <td>1.000000</td>\n",
       "      <td>0.115011</td>\n",
       "      <td>0.173138</td>\n",
       "      <td>0.056096</td>\n",
       "      <td>0.008032</td>\n",
       "      <td>0.008727</td>\n",
       "      <td>0.006797</td>\n",
       "      <td>0.004533</td>\n",
       "      <td>0.007350</td>\n",
       "      <td>0.010391</td>\n",
       "      <td>...</td>\n",
       "      <td>0.0</td>\n",
       "      <td>0.0</td>\n",
       "      <td>0.0</td>\n",
       "      <td>0.0</td>\n",
       "      <td>0.0</td>\n",
       "      <td>0.0</td>\n",
       "      <td>0.0</td>\n",
       "      <td>0.0</td>\n",
       "      <td>0.0</td>\n",
       "      <td>0.0</td>\n",
       "    </tr>\n",
       "    <tr>\n",
       "      <th>HES4</th>\n",
       "      <td>0.115011</td>\n",
       "      <td>1.000000</td>\n",
       "      <td>0.681368</td>\n",
       "      <td>0.360588</td>\n",
       "      <td>0.011545</td>\n",
       "      <td>0.010729</td>\n",
       "      <td>0.003577</td>\n",
       "      <td>0.010230</td>\n",
       "      <td>0.010747</td>\n",
       "      <td>0.008769</td>\n",
       "      <td>...</td>\n",
       "      <td>0.0</td>\n",
       "      <td>0.0</td>\n",
       "      <td>0.0</td>\n",
       "      <td>0.0</td>\n",
       "      <td>0.0</td>\n",
       "      <td>0.0</td>\n",
       "      <td>0.0</td>\n",
       "      <td>0.0</td>\n",
       "      <td>0.0</td>\n",
       "      <td>0.0</td>\n",
       "    </tr>\n",
       "    <tr>\n",
       "      <th>ISG15</th>\n",
       "      <td>0.173138</td>\n",
       "      <td>0.681368</td>\n",
       "      <td>1.000000</td>\n",
       "      <td>0.381394</td>\n",
       "      <td>0.011774</td>\n",
       "      <td>0.012527</td>\n",
       "      <td>0.003754</td>\n",
       "      <td>0.012096</td>\n",
       "      <td>0.012679</td>\n",
       "      <td>0.010442</td>\n",
       "      <td>...</td>\n",
       "      <td>0.0</td>\n",
       "      <td>0.0</td>\n",
       "      <td>0.0</td>\n",
       "      <td>0.0</td>\n",
       "      <td>0.0</td>\n",
       "      <td>0.0</td>\n",
       "      <td>0.0</td>\n",
       "      <td>0.0</td>\n",
       "      <td>0.0</td>\n",
       "      <td>0.0</td>\n",
       "    </tr>\n",
       "    <tr>\n",
       "      <th>AGRN</th>\n",
       "      <td>0.056096</td>\n",
       "      <td>0.360588</td>\n",
       "      <td>0.381394</td>\n",
       "      <td>1.000000</td>\n",
       "      <td>0.013005</td>\n",
       "      <td>0.015775</td>\n",
       "      <td>0.006184</td>\n",
       "      <td>0.006813</td>\n",
       "      <td>0.010775</td>\n",
       "      <td>0.009189</td>\n",
       "      <td>...</td>\n",
       "      <td>0.0</td>\n",
       "      <td>0.0</td>\n",
       "      <td>0.0</td>\n",
       "      <td>0.0</td>\n",
       "      <td>0.0</td>\n",
       "      <td>0.0</td>\n",
       "      <td>0.0</td>\n",
       "      <td>0.0</td>\n",
       "      <td>0.0</td>\n",
       "      <td>0.0</td>\n",
       "    </tr>\n",
       "    <tr>\n",
       "      <th>TNFRSF18</th>\n",
       "      <td>0.008032</td>\n",
       "      <td>0.011545</td>\n",
       "      <td>0.011774</td>\n",
       "      <td>0.013005</td>\n",
       "      <td>1.000000</td>\n",
       "      <td>0.356676</td>\n",
       "      <td>0.454010</td>\n",
       "      <td>0.137643</td>\n",
       "      <td>0.200340</td>\n",
       "      <td>0.093210</td>\n",
       "      <td>...</td>\n",
       "      <td>0.0</td>\n",
       "      <td>0.0</td>\n",
       "      <td>0.0</td>\n",
       "      <td>0.0</td>\n",
       "      <td>0.0</td>\n",
       "      <td>0.0</td>\n",
       "      <td>0.0</td>\n",
       "      <td>0.0</td>\n",
       "      <td>0.0</td>\n",
       "      <td>0.0</td>\n",
       "    </tr>\n",
       "  </tbody>\n",
       "</table>\n",
       "<p>5 rows × 6442 columns</p>\n",
       "</div>"
      ],
      "text/plain": [
       "             NOC2L      HES4     ISG15      AGRN  TNFRSF18   TNFRSF4  \\\n",
       "NOC2L     1.000000  0.115011  0.173138  0.056096  0.008032  0.008727   \n",
       "HES4      0.115011  1.000000  0.681368  0.360588  0.011545  0.010729   \n",
       "ISG15     0.173138  0.681368  1.000000  0.381394  0.011774  0.012527   \n",
       "AGRN      0.056096  0.360588  0.381394  1.000000  0.013005  0.015775   \n",
       "TNFRSF18  0.008032  0.011545  0.011774  0.013005  1.000000  0.356676   \n",
       "\n",
       "           B3GALT6    UBE2J2     ACAP3    TAS1R3  ...  PLXNB2  ADM2  MIOX  \\\n",
       "NOC2L     0.006797  0.004533  0.007350  0.010391  ...     0.0   0.0   0.0   \n",
       "HES4      0.003577  0.010230  0.010747  0.008769  ...     0.0   0.0   0.0   \n",
       "ISG15     0.003754  0.012096  0.012679  0.010442  ...     0.0   0.0   0.0   \n",
       "AGRN      0.006184  0.006813  0.010775  0.009189  ...     0.0   0.0   0.0   \n",
       "TNFRSF18  0.454010  0.137643  0.200340  0.093210  ...     0.0   0.0   0.0   \n",
       "\n",
       "          SCO2  TYMP  CPT1B  CHKB  MAPK8IP2  ARSA  SHANK3  \n",
       "NOC2L      0.0   0.0    0.0   0.0       0.0   0.0     0.0  \n",
       "HES4       0.0   0.0    0.0   0.0       0.0   0.0     0.0  \n",
       "ISG15      0.0   0.0    0.0   0.0       0.0   0.0     0.0  \n",
       "AGRN       0.0   0.0    0.0   0.0       0.0   0.0     0.0  \n",
       "TNFRSF18   0.0   0.0    0.0   0.0       0.0   0.0     0.0  \n",
       "\n",
       "[5 rows x 6442 columns]"
      ]
     },
     "execution_count": 21,
     "metadata": {},
     "output_type": "execute_result"
    }
   ],
   "source": [
    "gene_corrs.head()"
   ]
  },
  {
   "cell_type": "markdown",
   "id": "d1b5cc71-f04f-454a-9c43-145ac72e9cd3",
   "metadata": {
    "papermill": {
     "duration": 0.007353,
     "end_time": "2022-07-23T16:00:29.955346",
     "exception": false,
     "start_time": "2022-07-23T16:00:29.947993",
     "status": "completed"
    },
    "tags": []
   },
   "source": [
    "## Define output dir (based on gene correlation's file)"
   ]
  },
  {
   "cell_type": "code",
   "execution_count": 22,
   "id": "bc5a4b5e-ed03-4814-83da-3043aa67e051",
   "metadata": {
    "execution": {
     "iopub.execute_input": "2022-07-23T16:00:29.970666Z",
     "iopub.status.busy": "2022-07-23T16:00:29.970510Z",
     "iopub.status.idle": "2022-07-23T16:00:29.983371Z",
     "shell.execute_reply": "2022-07-23T16:00:29.982790Z"
    },
    "papermill": {
     "duration": 0.021893,
     "end_time": "2022-07-23T16:00:29.984620",
     "exception": false,
     "start_time": "2022-07-23T16:00:29.962727",
     "status": "completed"
    },
    "tags": []
   },
   "outputs": [
    {
     "data": {
      "text/plain": [
       "PosixPath('/opt/data/results/gls/gene_corrs/cohorts/1000g_eur/1000g/mashr/all_genes/gene_corrs-symbols.per_lv')"
      ]
     },
     "metadata": {},
     "output_type": "display_data"
    }
   ],
   "source": [
    "# output file (hdf5)\n",
    "output_dir = Path(input_file).with_suffix(\".per_lv\")\n",
    "output_dir.mkdir(parents=True, exist_ok=True)\n",
    "\n",
    "display(output_dir)"
   ]
  },
  {
   "cell_type": "markdown",
   "id": "46ae0b3e",
   "metadata": {
    "papermill": {
     "duration": 0.006608,
     "end_time": "2022-07-23T16:00:29.998003",
     "exception": false,
     "start_time": "2022-07-23T16:00:29.991395",
     "status": "completed"
    },
    "tags": []
   },
   "source": [
    "## MultiPLIER Z"
   ]
  },
  {
   "cell_type": "code",
   "execution_count": 23,
   "id": "d38d9749",
   "metadata": {
    "execution": {
     "iopub.execute_input": "2022-07-23T16:00:30.012457Z",
     "iopub.status.busy": "2022-07-23T16:00:30.011990Z",
     "iopub.status.idle": "2022-07-23T16:00:30.049421Z",
     "shell.execute_reply": "2022-07-23T16:00:30.048838Z"
    },
    "papermill": {
     "duration": 0.046267,
     "end_time": "2022-07-23T16:00:30.050989",
     "exception": false,
     "start_time": "2022-07-23T16:00:30.004722",
     "status": "completed"
    },
    "tags": []
   },
   "outputs": [],
   "source": [
    "multiplier_z = pd.read_pickle(conf.MULTIPLIER[\"MODEL_Z_MATRIX_FILE\"])"
   ]
  },
  {
   "cell_type": "code",
   "execution_count": 24,
   "id": "67e93797",
   "metadata": {
    "execution": {
     "iopub.execute_input": "2022-07-23T16:00:30.069518Z",
     "iopub.status.busy": "2022-07-23T16:00:30.069342Z",
     "iopub.status.idle": "2022-07-23T16:00:30.083845Z",
     "shell.execute_reply": "2022-07-23T16:00:30.083301Z"
    },
    "papermill": {
     "duration": 0.026064,
     "end_time": "2022-07-23T16:00:30.085218",
     "exception": false,
     "start_time": "2022-07-23T16:00:30.059154",
     "status": "completed"
    },
    "tags": []
   },
   "outputs": [
    {
     "data": {
      "text/plain": [
       "(6750, 987)"
      ]
     },
     "execution_count": 24,
     "metadata": {},
     "output_type": "execute_result"
    }
   ],
   "source": [
    "multiplier_z.shape"
   ]
  },
  {
   "cell_type": "code",
   "execution_count": 25,
   "id": "e1ba1ead",
   "metadata": {
    "execution": {
     "iopub.execute_input": "2022-07-23T16:00:30.101232Z",
     "iopub.status.busy": "2022-07-23T16:00:30.100849Z",
     "iopub.status.idle": "2022-07-23T16:00:30.127662Z",
     "shell.execute_reply": "2022-07-23T16:00:30.127039Z"
    },
    "papermill": {
     "duration": 0.03583,
     "end_time": "2022-07-23T16:00:30.128960",
     "exception": false,
     "start_time": "2022-07-23T16:00:30.093130",
     "status": "completed"
    },
    "tags": []
   },
   "outputs": [
    {
     "data": {
      "text/html": [
       "<div>\n",
       "<style scoped>\n",
       "    .dataframe tbody tr th:only-of-type {\n",
       "        vertical-align: middle;\n",
       "    }\n",
       "\n",
       "    .dataframe tbody tr th {\n",
       "        vertical-align: top;\n",
       "    }\n",
       "\n",
       "    .dataframe thead th {\n",
       "        text-align: right;\n",
       "    }\n",
       "</style>\n",
       "<table border=\"1\" class=\"dataframe\">\n",
       "  <thead>\n",
       "    <tr style=\"text-align: right;\">\n",
       "      <th></th>\n",
       "      <th>LV1</th>\n",
       "      <th>LV2</th>\n",
       "      <th>LV3</th>\n",
       "      <th>LV4</th>\n",
       "      <th>LV5</th>\n",
       "      <th>LV6</th>\n",
       "      <th>LV7</th>\n",
       "      <th>LV8</th>\n",
       "      <th>LV9</th>\n",
       "      <th>LV10</th>\n",
       "      <th>...</th>\n",
       "      <th>LV978</th>\n",
       "      <th>LV979</th>\n",
       "      <th>LV980</th>\n",
       "      <th>LV981</th>\n",
       "      <th>LV982</th>\n",
       "      <th>LV983</th>\n",
       "      <th>LV984</th>\n",
       "      <th>LV985</th>\n",
       "      <th>LV986</th>\n",
       "      <th>LV987</th>\n",
       "    </tr>\n",
       "  </thead>\n",
       "  <tbody>\n",
       "    <tr>\n",
       "      <th>GAS6</th>\n",
       "      <td>0.000000</td>\n",
       "      <td>0.0</td>\n",
       "      <td>0.039438</td>\n",
       "      <td>0.0</td>\n",
       "      <td>0.050476</td>\n",
       "      <td>0.000000</td>\n",
       "      <td>0.0</td>\n",
       "      <td>0.000000</td>\n",
       "      <td>0.590949</td>\n",
       "      <td>0.000000</td>\n",
       "      <td>...</td>\n",
       "      <td>0.050125</td>\n",
       "      <td>0.00000</td>\n",
       "      <td>0.033407</td>\n",
       "      <td>0.000000</td>\n",
       "      <td>0.000000</td>\n",
       "      <td>0.005963</td>\n",
       "      <td>0.347362</td>\n",
       "      <td>0.0</td>\n",
       "      <td>0.000000</td>\n",
       "      <td>0.000000</td>\n",
       "    </tr>\n",
       "    <tr>\n",
       "      <th>MMP14</th>\n",
       "      <td>0.000000</td>\n",
       "      <td>0.0</td>\n",
       "      <td>0.000000</td>\n",
       "      <td>0.0</td>\n",
       "      <td>0.070072</td>\n",
       "      <td>0.000000</td>\n",
       "      <td>0.0</td>\n",
       "      <td>0.004904</td>\n",
       "      <td>1.720179</td>\n",
       "      <td>2.423595</td>\n",
       "      <td>...</td>\n",
       "      <td>0.000000</td>\n",
       "      <td>0.00000</td>\n",
       "      <td>0.001007</td>\n",
       "      <td>0.000000</td>\n",
       "      <td>0.035747</td>\n",
       "      <td>0.000000</td>\n",
       "      <td>0.000000</td>\n",
       "      <td>0.0</td>\n",
       "      <td>0.014978</td>\n",
       "      <td>0.000000</td>\n",
       "    </tr>\n",
       "    <tr>\n",
       "      <th>DSP</th>\n",
       "      <td>0.000000</td>\n",
       "      <td>0.0</td>\n",
       "      <td>0.000000</td>\n",
       "      <td>0.0</td>\n",
       "      <td>0.000000</td>\n",
       "      <td>0.041697</td>\n",
       "      <td>0.0</td>\n",
       "      <td>0.005718</td>\n",
       "      <td>0.000000</td>\n",
       "      <td>0.000000</td>\n",
       "      <td>...</td>\n",
       "      <td>0.020853</td>\n",
       "      <td>0.00000</td>\n",
       "      <td>0.000000</td>\n",
       "      <td>0.000000</td>\n",
       "      <td>0.000000</td>\n",
       "      <td>0.005774</td>\n",
       "      <td>0.000000</td>\n",
       "      <td>0.0</td>\n",
       "      <td>0.000000</td>\n",
       "      <td>0.416405</td>\n",
       "    </tr>\n",
       "    <tr>\n",
       "      <th>MARCKSL1</th>\n",
       "      <td>0.305212</td>\n",
       "      <td>0.0</td>\n",
       "      <td>0.000000</td>\n",
       "      <td>0.0</td>\n",
       "      <td>0.000000</td>\n",
       "      <td>0.000000</td>\n",
       "      <td>0.0</td>\n",
       "      <td>0.000000</td>\n",
       "      <td>0.161843</td>\n",
       "      <td>0.149471</td>\n",
       "      <td>...</td>\n",
       "      <td>0.027134</td>\n",
       "      <td>0.05272</td>\n",
       "      <td>0.000000</td>\n",
       "      <td>0.030189</td>\n",
       "      <td>0.060884</td>\n",
       "      <td>0.000000</td>\n",
       "      <td>0.000000</td>\n",
       "      <td>0.0</td>\n",
       "      <td>0.000000</td>\n",
       "      <td>0.448480</td>\n",
       "    </tr>\n",
       "    <tr>\n",
       "      <th>SPARC</th>\n",
       "      <td>0.000000</td>\n",
       "      <td>0.0</td>\n",
       "      <td>0.000000</td>\n",
       "      <td>0.0</td>\n",
       "      <td>0.000000</td>\n",
       "      <td>0.000000</td>\n",
       "      <td>0.0</td>\n",
       "      <td>0.000000</td>\n",
       "      <td>0.000000</td>\n",
       "      <td>0.014014</td>\n",
       "      <td>...</td>\n",
       "      <td>0.000000</td>\n",
       "      <td>0.00000</td>\n",
       "      <td>0.000000</td>\n",
       "      <td>0.000000</td>\n",
       "      <td>0.000000</td>\n",
       "      <td>0.000000</td>\n",
       "      <td>0.067779</td>\n",
       "      <td>0.0</td>\n",
       "      <td>0.122417</td>\n",
       "      <td>0.062665</td>\n",
       "    </tr>\n",
       "  </tbody>\n",
       "</table>\n",
       "<p>5 rows × 987 columns</p>\n",
       "</div>"
      ],
      "text/plain": [
       "               LV1  LV2       LV3  LV4       LV5       LV6  LV7       LV8  \\\n",
       "GAS6      0.000000  0.0  0.039438  0.0  0.050476  0.000000  0.0  0.000000   \n",
       "MMP14     0.000000  0.0  0.000000  0.0  0.070072  0.000000  0.0  0.004904   \n",
       "DSP       0.000000  0.0  0.000000  0.0  0.000000  0.041697  0.0  0.005718   \n",
       "MARCKSL1  0.305212  0.0  0.000000  0.0  0.000000  0.000000  0.0  0.000000   \n",
       "SPARC     0.000000  0.0  0.000000  0.0  0.000000  0.000000  0.0  0.000000   \n",
       "\n",
       "               LV9      LV10  ...     LV978    LV979     LV980     LV981  \\\n",
       "GAS6      0.590949  0.000000  ...  0.050125  0.00000  0.033407  0.000000   \n",
       "MMP14     1.720179  2.423595  ...  0.000000  0.00000  0.001007  0.000000   \n",
       "DSP       0.000000  0.000000  ...  0.020853  0.00000  0.000000  0.000000   \n",
       "MARCKSL1  0.161843  0.149471  ...  0.027134  0.05272  0.000000  0.030189   \n",
       "SPARC     0.000000  0.014014  ...  0.000000  0.00000  0.000000  0.000000   \n",
       "\n",
       "             LV982     LV983     LV984  LV985     LV986     LV987  \n",
       "GAS6      0.000000  0.005963  0.347362    0.0  0.000000  0.000000  \n",
       "MMP14     0.035747  0.000000  0.000000    0.0  0.014978  0.000000  \n",
       "DSP       0.000000  0.005774  0.000000    0.0  0.000000  0.416405  \n",
       "MARCKSL1  0.060884  0.000000  0.000000    0.0  0.000000  0.448480  \n",
       "SPARC     0.000000  0.000000  0.067779    0.0  0.122417  0.062665  \n",
       "\n",
       "[5 rows x 987 columns]"
      ]
     },
     "execution_count": 25,
     "metadata": {},
     "output_type": "execute_result"
    }
   ],
   "source": [
    "multiplier_z.head()"
   ]
  },
  {
   "cell_type": "markdown",
   "id": "4abd0c7f-364f-4d4c-b775-7a7a072256e1",
   "metadata": {
    "papermill": {
     "duration": 0.007478,
     "end_time": "2022-07-23T16:00:30.144254",
     "exception": false,
     "start_time": "2022-07-23T16:00:30.136776",
     "status": "completed"
    },
    "tags": []
   },
   "source": [
    "## Common genes"
   ]
  },
  {
   "cell_type": "code",
   "execution_count": 26,
   "id": "437441f9-13d0-44b0-9d56-0df568761a23",
   "metadata": {
    "execution": {
     "iopub.execute_input": "2022-07-23T16:00:30.159971Z",
     "iopub.status.busy": "2022-07-23T16:00:30.159770Z",
     "iopub.status.idle": "2022-07-23T16:00:30.176159Z",
     "shell.execute_reply": "2022-07-23T16:00:30.175590Z"
    },
    "papermill": {
     "duration": 0.025542,
     "end_time": "2022-07-23T16:00:30.177517",
     "exception": false,
     "start_time": "2022-07-23T16:00:30.151975",
     "status": "completed"
    },
    "tags": []
   },
   "outputs": [],
   "source": [
    "common_genes = sorted(\n",
    "    list(\n",
    "        smultixcan_genes.intersection(multiplier_z.index).intersection(gene_corrs.index)\n",
    "    )\n",
    ")"
   ]
  },
  {
   "cell_type": "code",
   "execution_count": 27,
   "id": "61df3595-1260-4306-98d4-35f5f8093136",
   "metadata": {
    "execution": {
     "iopub.execute_input": "2022-07-23T16:00:30.192973Z",
     "iopub.status.busy": "2022-07-23T16:00:30.192813Z",
     "iopub.status.idle": "2022-07-23T16:00:30.205641Z",
     "shell.execute_reply": "2022-07-23T16:00:30.205167Z"
    },
    "papermill": {
     "duration": 0.021946,
     "end_time": "2022-07-23T16:00:30.206838",
     "exception": false,
     "start_time": "2022-07-23T16:00:30.184892",
     "status": "completed"
    },
    "tags": []
   },
   "outputs": [
    {
     "data": {
      "text/plain": [
       "6442"
      ]
     },
     "execution_count": 27,
     "metadata": {},
     "output_type": "execute_result"
    }
   ],
   "source": [
    "len(common_genes)"
   ]
  },
  {
   "cell_type": "code",
   "execution_count": 28,
   "id": "e0be3422-db57-4f76-8fe4-da7baa759d44",
   "metadata": {
    "execution": {
     "iopub.execute_input": "2022-07-23T16:00:30.222065Z",
     "iopub.status.busy": "2022-07-23T16:00:30.221864Z",
     "iopub.status.idle": "2022-07-23T16:00:30.234753Z",
     "shell.execute_reply": "2022-07-23T16:00:30.234307Z"
    },
    "papermill": {
     "duration": 0.021772,
     "end_time": "2022-07-23T16:00:30.236012",
     "exception": false,
     "start_time": "2022-07-23T16:00:30.214240",
     "status": "completed"
    },
    "tags": []
   },
   "outputs": [
    {
     "data": {
      "text/plain": [
       "['A2M', 'AAAS', 'AANAT', 'AARS', 'AARS2']"
      ]
     },
     "execution_count": 28,
     "metadata": {},
     "output_type": "execute_result"
    }
   ],
   "source": [
    "common_genes[:5]"
   ]
  },
  {
   "cell_type": "markdown",
   "id": "f4d4f177",
   "metadata": {
    "papermill": {
     "duration": 0.00702,
     "end_time": "2022-07-23T16:00:30.250339",
     "exception": false,
     "start_time": "2022-07-23T16:00:30.243319",
     "status": "completed"
    },
    "tags": []
   },
   "source": [
    "# Compute inverse correlation matrix for each LV"
   ]
  },
  {
   "cell_type": "code",
   "execution_count": 29,
   "id": "f5bd311e-e0f0-424e-8384-763f4bf7e21c",
   "metadata": {
    "execution": {
     "iopub.execute_input": "2022-07-23T16:00:30.265697Z",
     "iopub.status.busy": "2022-07-23T16:00:30.265496Z",
     "iopub.status.idle": "2022-07-23T16:00:30.278255Z",
     "shell.execute_reply": "2022-07-23T16:00:30.277787Z"
    },
    "papermill": {
     "duration": 0.022081,
     "end_time": "2022-07-23T16:00:30.279574",
     "exception": false,
     "start_time": "2022-07-23T16:00:30.257493",
     "status": "completed"
    },
    "tags": []
   },
   "outputs": [],
   "source": [
    "def store_df(nparray, base_filename):\n",
    "    if base_filename in (\"metadata\", \"gene_names\"):\n",
    "        np.savez_compressed(output_dir / (base_filename + \".npz\"), data=nparray)\n",
    "    else:\n",
    "        sparse.save_npz(\n",
    "            output_dir / (base_filename + \".npz\"),\n",
    "            sparse.csc_matrix(nparray),\n",
    "            compressed=False,\n",
    "        )"
   ]
  },
  {
   "cell_type": "code",
   "execution_count": 30,
   "id": "4c6bda34-d02f-403c-9ac2-f807f802fe50",
   "metadata": {
    "execution": {
     "iopub.execute_input": "2022-07-23T16:00:30.295116Z",
     "iopub.status.busy": "2022-07-23T16:00:30.294929Z",
     "iopub.status.idle": "2022-07-23T16:00:30.308500Z",
     "shell.execute_reply": "2022-07-23T16:00:30.307840Z"
    },
    "papermill": {
     "duration": 0.022677,
     "end_time": "2022-07-23T16:00:30.309751",
     "exception": false,
     "start_time": "2022-07-23T16:00:30.287074",
     "status": "completed"
    },
    "tags": []
   },
   "outputs": [],
   "source": [
    "def compute_chol_inv(lv_codes):\n",
    "    for lv_code in lv_codes:\n",
    "        corr_mat_sub = pd.DataFrame(\n",
    "            np.identity(len(common_genes)),\n",
    "            index=common_genes.copy(),\n",
    "            columns=common_genes.copy(),\n",
    "        )\n",
    "\n",
    "        lv_data = multiplier_z[lv_code]\n",
    "        lv_nonzero_genes = lv_data[lv_data > 0].index\n",
    "        lv_nonzero_genes = lv_nonzero_genes.intersection(corr_mat_sub.index)\n",
    "\n",
    "        corr_mat_sub.loc[lv_nonzero_genes, lv_nonzero_genes] = gene_corrs.loc[\n",
    "            lv_nonzero_genes, lv_nonzero_genes\n",
    "        ]\n",
    "\n",
    "        chol_mat = np.linalg.cholesky(corr_mat_sub)\n",
    "        chol_inv = np.linalg.inv(chol_mat)\n",
    "\n",
    "        store_df(chol_inv, lv_code)"
   ]
  },
  {
   "cell_type": "code",
   "execution_count": 31,
   "id": "e605c772-15c3-43e0-850b-1bc81bef2dcc",
   "metadata": {
    "execution": {
     "iopub.execute_input": "2022-07-23T16:00:30.325269Z",
     "iopub.status.busy": "2022-07-23T16:00:30.325071Z",
     "iopub.status.idle": "2022-07-23T16:00:30.337331Z",
     "shell.execute_reply": "2022-07-23T16:00:30.336866Z"
    },
    "papermill": {
     "duration": 0.021426,
     "end_time": "2022-07-23T16:00:30.338569",
     "exception": false,
     "start_time": "2022-07-23T16:00:30.317143",
     "status": "completed"
    },
    "tags": []
   },
   "outputs": [],
   "source": [
    "# divide LVs in chunks for parallel processing\n",
    "lvs_chunks = list(chunker(list(multiplier_z.columns), 50))"
   ]
  },
  {
   "cell_type": "code",
   "execution_count": 32,
   "id": "e2511bd6-73c2-4f92-9fb4-ee6ad5a2923f",
   "metadata": {
    "execution": {
     "iopub.execute_input": "2022-07-23T16:00:30.353982Z",
     "iopub.status.busy": "2022-07-23T16:00:30.353827Z",
     "iopub.status.idle": "2022-07-23T17:41:20.166735Z",
     "shell.execute_reply": "2022-07-23T17:41:20.166103Z"
    },
    "papermill": {
     "duration": 6049.822308,
     "end_time": "2022-07-23T17:41:20.168240",
     "exception": false,
     "start_time": "2022-07-23T16:00:30.345932",
     "status": "completed"
    },
    "tags": []
   },
   "outputs": [
    {
     "name": "stderr",
     "output_type": "stream",
     "text": [
      "100%|████████████████████████████████████████████████████████████| 20/20 [1:40:49<00:00, 302.49s/it]\n"
     ]
    }
   ],
   "source": [
    "# metadata\n",
    "metadata = np.array([REFERENCE_PANEL, EQTL_MODEL])\n",
    "store_df(metadata, \"metadata\")\n",
    "\n",
    "# gene names\n",
    "gene_names = np.array(common_genes)\n",
    "store_df(gene_names, \"gene_names\")\n",
    "\n",
    "# pbar = tqdm(total=multiplier_z.columns.shape[0])\n",
    "\n",
    "with ProcessPoolExecutor(max_workers=conf.GENERAL[\"N_JOBS\"]) as executor, tqdm(\n",
    "    total=len(lvs_chunks), ncols=100\n",
    ") as pbar:\n",
    "    tasks = [executor.submit(compute_chol_inv, chunk) for chunk in lvs_chunks]\n",
    "    for future in as_completed(tasks):\n",
    "        res = future.result()\n",
    "        pbar.update(1)"
   ]
  },
  {
   "cell_type": "markdown",
   "id": "1169db4b-9af2-4d3c-a27a-198d7730fa67",
   "metadata": {
    "papermill": {
     "duration": 0.009666,
     "end_time": "2022-07-23T17:41:20.187991",
     "exception": false,
     "start_time": "2022-07-23T17:41:20.178325",
     "status": "completed"
    },
    "tags": []
   },
   "source": [
    "## Some checks"
   ]
  },
  {
   "cell_type": "code",
   "execution_count": 33,
   "id": "02e6758b-9e64-4829-bc64-ca0b08221d13",
   "metadata": {
    "execution": {
     "iopub.execute_input": "2022-07-23T17:41:20.206503Z",
     "iopub.status.busy": "2022-07-23T17:41:20.206312Z",
     "iopub.status.idle": "2022-07-23T17:41:20.221311Z",
     "shell.execute_reply": "2022-07-23T17:41:20.220704Z"
    },
    "papermill": {
     "duration": 0.025652,
     "end_time": "2022-07-23T17:41:20.222684",
     "exception": false,
     "start_time": "2022-07-23T17:41:20.197032",
     "status": "completed"
    },
    "tags": []
   },
   "outputs": [],
   "source": [
    "def load_df(base_filename):\n",
    "    full_filepath = output_dir / (base_filename + \".npz\")\n",
    "\n",
    "    if base_filename in (\"metadata\", \"gene_names\"):\n",
    "        return np.load(full_filepath)[\"data\"]\n",
    "    else:\n",
    "        return sparse.load_npz(full_filepath).toarray()"
   ]
  },
  {
   "cell_type": "code",
   "execution_count": 34,
   "id": "38cf09b7",
   "metadata": {
    "execution": {
     "iopub.execute_input": "2022-07-23T17:41:20.240972Z",
     "iopub.status.busy": "2022-07-23T17:41:20.240809Z",
     "iopub.status.idle": "2022-07-23T17:41:20.255556Z",
     "shell.execute_reply": "2022-07-23T17:41:20.255098Z"
    },
    "papermill": {
     "duration": 0.025473,
     "end_time": "2022-07-23T17:41:20.256930",
     "exception": false,
     "start_time": "2022-07-23T17:41:20.231457",
     "status": "completed"
    },
    "tags": []
   },
   "outputs": [],
   "source": [
    "_genes = load_df(\"gene_names\")"
   ]
  },
  {
   "cell_type": "code",
   "execution_count": 35,
   "id": "407e202b-5d10-47c5-b751-0d7b79fc32b7",
   "metadata": {
    "execution": {
     "iopub.execute_input": "2022-07-23T17:41:20.275347Z",
     "iopub.status.busy": "2022-07-23T17:41:20.275181Z",
     "iopub.status.idle": "2022-07-23T17:41:20.288725Z",
     "shell.execute_reply": "2022-07-23T17:41:20.288218Z"
    },
    "papermill": {
     "duration": 0.0241,
     "end_time": "2022-07-23T17:41:20.289881",
     "exception": false,
     "start_time": "2022-07-23T17:41:20.265781",
     "status": "completed"
    },
    "tags": []
   },
   "outputs": [
    {
     "data": {
      "text/plain": [
       "6442"
      ]
     },
     "metadata": {},
     "output_type": "display_data"
    }
   ],
   "source": [
    "display(len(_genes))\n",
    "assert len(_genes) == len(common_genes)"
   ]
  },
  {
   "cell_type": "code",
   "execution_count": 36,
   "id": "e66abf5b-ba1b-4f16-96a6-a48e9e7035cc",
   "metadata": {
    "execution": {
     "iopub.execute_input": "2022-07-23T17:41:20.334893Z",
     "iopub.status.busy": "2022-07-23T17:41:20.334365Z",
     "iopub.status.idle": "2022-07-23T17:41:20.349346Z",
     "shell.execute_reply": "2022-07-23T17:41:20.348622Z"
    },
    "papermill": {
     "duration": 0.027488,
     "end_time": "2022-07-23T17:41:20.350910",
     "exception": false,
     "start_time": "2022-07-23T17:41:20.323422",
     "status": "completed"
    },
    "tags": []
   },
   "outputs": [],
   "source": [
    "_metadata = load_df(\"metadata\")"
   ]
  },
  {
   "cell_type": "code",
   "execution_count": 37,
   "id": "c4a58892-1b3f-414e-b5c3-da63a0f0e387",
   "metadata": {
    "execution": {
     "iopub.execute_input": "2022-07-23T17:41:20.372088Z",
     "iopub.status.busy": "2022-07-23T17:41:20.371901Z",
     "iopub.status.idle": "2022-07-23T17:41:20.387023Z",
     "shell.execute_reply": "2022-07-23T17:41:20.386451Z"
    },
    "papermill": {
     "duration": 0.027294,
     "end_time": "2022-07-23T17:41:20.388437",
     "exception": false,
     "start_time": "2022-07-23T17:41:20.361143",
     "status": "completed"
    },
    "tags": []
   },
   "outputs": [
    {
     "data": {
      "text/plain": [
       "array(['1000G', 'MASHR'], dtype='<U5')"
      ]
     },
     "metadata": {},
     "output_type": "display_data"
    }
   ],
   "source": [
    "display(_metadata)\n",
    "assert _metadata[0] == REFERENCE_PANEL\n",
    "assert _metadata[1] == EQTL_MODEL"
   ]
  },
  {
   "cell_type": "code",
   "execution_count": 38,
   "id": "e488e3a4-000d-498b-a489-5a4b98ab32b7",
   "metadata": {
    "execution": {
     "iopub.execute_input": "2022-07-23T17:41:20.409782Z",
     "iopub.status.busy": "2022-07-23T17:41:20.409601Z",
     "iopub.status.idle": "2022-07-23T17:41:20.495485Z",
     "shell.execute_reply": "2022-07-23T17:41:20.494811Z"
    },
    "papermill": {
     "duration": 0.09826,
     "end_time": "2022-07-23T17:41:20.497072",
     "exception": false,
     "start_time": "2022-07-23T17:41:20.398812",
     "status": "completed"
    },
    "tags": []
   },
   "outputs": [],
   "source": [
    "lv1_inv = load_df(\"LV1\")"
   ]
  },
  {
   "cell_type": "code",
   "execution_count": 39,
   "id": "aceb8b24-ad6d-4566-9e28-edc1aa9a4594",
   "metadata": {
    "execution": {
     "iopub.execute_input": "2022-07-23T17:41:20.514477Z",
     "iopub.status.busy": "2022-07-23T17:41:20.514278Z",
     "iopub.status.idle": "2022-07-23T17:41:20.569168Z",
     "shell.execute_reply": "2022-07-23T17:41:20.568564Z"
    },
    "papermill": {
     "duration": 0.065334,
     "end_time": "2022-07-23T17:41:20.570703",
     "exception": false,
     "start_time": "2022-07-23T17:41:20.505369",
     "status": "completed"
    },
    "tags": []
   },
   "outputs": [],
   "source": [
    "lv2_inv = load_df(\"LV2\")"
   ]
  },
  {
   "cell_type": "code",
   "execution_count": 40,
   "id": "91d3c6b8-1320-4c68-b11d-c5db52021b28",
   "metadata": {
    "execution": {
     "iopub.execute_input": "2022-07-23T17:41:20.588144Z",
     "iopub.status.busy": "2022-07-23T17:41:20.587945Z",
     "iopub.status.idle": "2022-07-23T17:41:20.682590Z",
     "shell.execute_reply": "2022-07-23T17:41:20.682000Z"
    },
    "papermill": {
     "duration": 0.104972,
     "end_time": "2022-07-23T17:41:20.684092",
     "exception": false,
     "start_time": "2022-07-23T17:41:20.579120",
     "status": "completed"
    },
    "tags": []
   },
   "outputs": [],
   "source": [
    "lv_last_inv = load_df(\"LV987\")"
   ]
  },
  {
   "cell_type": "code",
   "execution_count": 41,
   "id": "0bdc0f18-976f-4fa0-aeac-3b51dece86f4",
   "metadata": {
    "execution": {
     "iopub.execute_input": "2022-07-23T17:41:20.701855Z",
     "iopub.status.busy": "2022-07-23T17:41:20.701642Z",
     "iopub.status.idle": "2022-07-23T17:41:20.714166Z",
     "shell.execute_reply": "2022-07-23T17:41:20.713602Z"
    },
    "papermill": {
     "duration": 0.022931,
     "end_time": "2022-07-23T17:41:20.715454",
     "exception": false,
     "start_time": "2022-07-23T17:41:20.692523",
     "status": "completed"
    },
    "tags": []
   },
   "outputs": [],
   "source": [
    "assert lv1_inv.shape == lv2_inv.shape"
   ]
  },
  {
   "cell_type": "code",
   "execution_count": 42,
   "id": "c8417609-7894-480b-8246-ee71adeda36b",
   "metadata": {
    "execution": {
     "iopub.execute_input": "2022-07-23T17:41:20.733308Z",
     "iopub.status.busy": "2022-07-23T17:41:20.733154Z",
     "iopub.status.idle": "2022-07-23T17:41:21.109849Z",
     "shell.execute_reply": "2022-07-23T17:41:21.109178Z"
    },
    "papermill": {
     "duration": 0.387415,
     "end_time": "2022-07-23T17:41:21.111488",
     "exception": false,
     "start_time": "2022-07-23T17:41:20.724073",
     "status": "completed"
    },
    "tags": []
   },
   "outputs": [],
   "source": [
    "assert not np.allclose(lv1_inv, lv2_inv)"
   ]
  },
  {
   "cell_type": "code",
   "execution_count": 43,
   "id": "835ee1c3-0733-4aa5-935d-bf1e4efab348",
   "metadata": {
    "execution": {
     "iopub.execute_input": "2022-07-23T17:41:21.133193Z",
     "iopub.status.busy": "2022-07-23T17:41:21.133019Z",
     "iopub.status.idle": "2022-07-23T17:41:21.478580Z",
     "shell.execute_reply": "2022-07-23T17:41:21.477989Z"
    },
    "papermill": {
     "duration": 0.358194,
     "end_time": "2022-07-23T17:41:21.480161",
     "exception": false,
     "start_time": "2022-07-23T17:41:21.121967",
     "status": "completed"
    },
    "tags": []
   },
   "outputs": [],
   "source": [
    "assert not np.allclose(lv1_inv, lv_last_inv)"
   ]
  },
  {
   "cell_type": "code",
   "execution_count": 44,
   "id": "392ba167-af78-414e-a3cf-9a8ed2063ed2",
   "metadata": {
    "execution": {
     "iopub.execute_input": "2022-07-23T17:41:21.502066Z",
     "iopub.status.busy": "2022-07-23T17:41:21.501888Z",
     "iopub.status.idle": "2022-07-23T17:41:21.801793Z",
     "shell.execute_reply": "2022-07-23T17:41:21.801198Z"
    },
    "papermill": {
     "duration": 0.312643,
     "end_time": "2022-07-23T17:41:21.803374",
     "exception": false,
     "start_time": "2022-07-23T17:41:21.490731",
     "status": "completed"
    },
    "tags": []
   },
   "outputs": [],
   "source": [
    "assert not np.allclose(lv2_inv, lv_last_inv)"
   ]
  },
  {
   "cell_type": "code",
   "execution_count": null,
   "id": "f02e1ec2-095a-4041-987a-bda1a33a9897",
   "metadata": {
    "papermill": {
     "duration": 0.010413,
     "end_time": "2022-07-23T17:41:21.824407",
     "exception": false,
     "start_time": "2022-07-23T17:41:21.813994",
     "status": "completed"
    },
    "tags": []
   },
   "outputs": [],
   "source": []
  }
 ],
 "metadata": {
  "jupytext": {
   "cell_metadata_filter": "all,-execution,-papermill,-trusted",
   "formats": "ipynb,py//py:percent"
  },
  "kernelspec": {
   "display_name": "Python 3 (ipykernel)",
   "language": "python",
   "name": "python3"
  },
  "language_info": {
   "codemirror_mode": {
    "name": "ipython",
    "version": 3
   },
   "file_extension": ".py",
   "mimetype": "text/x-python",
   "name": "python",
   "nbconvert_exporter": "python",
   "pygments_lexer": "ipython3",
   "version": "3.8.13"
  },
  "papermill": {
   "default_parameters": {},
   "duration": 6054.936915,
   "end_time": "2022-07-23T17:41:22.162739",
   "environment_variables": {},
   "exception": null,
   "input_path": "nbs/15_gsa_gls/18-create_corr_mat_per_lv.ipynb",
   "output_path": "nbs/15_gsa_gls/gene_corrs/cohorts/1000g_eur/1000g/mashr/all_genes/18-create_corr_mat_per_lv.ipynb",
   "parameters": {
    "EQTL_MODEL": "MASHR",
    "REFERENCE_PANEL": "1000G"
   },
   "start_time": "2022-07-23T16:00:27.225824",
   "version": "2.2.2"
  }
 },
 "nbformat": 4,
 "nbformat_minor": 5
}
