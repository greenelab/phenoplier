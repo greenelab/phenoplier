{
 "cells": [
  {
   "cell_type": "markdown",
   "id": "7a6632fb",
   "metadata": {
    "papermill": {
     "duration": 0.008627,
     "end_time": "2022-07-22T22:39:14.754498",
     "exception": false,
     "start_time": "2022-07-22T22:39:14.745871",
     "status": "completed"
    },
    "tags": []
   },
   "source": [
    "# Description"
   ]
  },
  {
   "cell_type": "markdown",
   "id": "7097c346",
   "metadata": {
    "papermill": {
     "duration": 0.006334,
     "end_time": "2022-07-22T22:39:14.769291",
     "exception": false,
     "start_time": "2022-07-22T22:39:14.762957",
     "status": "completed"
    },
    "tags": []
   },
   "source": [
    "(Please, take a look at the README.md file in this directory for instructions on how to run this notebook)\n",
    "\n",
    "This notebook computes predicted expression correlations between all genes in the MultiPLIER models.\n",
    "\n",
    "It also has a parameter set for papermill to run on a single chromosome to run in parallel (see under `Settings` below).\n",
    "\n",
    "This notebook is not directly run. See README.md."
   ]
  },
  {
   "cell_type": "markdown",
   "id": "c61d8427",
   "metadata": {
    "papermill": {
     "duration": 0.006139,
     "end_time": "2022-07-22T22:39:14.781910",
     "exception": false,
     "start_time": "2022-07-22T22:39:14.775771",
     "status": "completed"
    },
    "tags": []
   },
   "source": [
    "# Modules"
   ]
  },
  {
   "cell_type": "code",
   "execution_count": 1,
   "id": "bbc0234f",
   "metadata": {
    "execution": {
     "iopub.execute_input": "2022-07-22T22:39:14.794695Z",
     "iopub.status.busy": "2022-07-22T22:39:14.794471Z",
     "iopub.status.idle": "2022-07-22T22:39:14.808877Z",
     "shell.execute_reply": "2022-07-22T22:39:14.808465Z"
    },
    "papermill": {
     "duration": 0.022455,
     "end_time": "2022-07-22T22:39:14.810223",
     "exception": false,
     "start_time": "2022-07-22T22:39:14.787768",
     "status": "completed"
    },
    "tags": []
   },
   "outputs": [],
   "source": [
    "%load_ext autoreload\n",
    "%autoreload 2"
   ]
  },
  {
   "cell_type": "code",
   "execution_count": 2,
   "id": "1d5f5a59",
   "metadata": {
    "execution": {
     "iopub.execute_input": "2022-07-22T22:39:14.850474Z",
     "iopub.status.busy": "2022-07-22T22:39:14.850256Z",
     "iopub.status.idle": "2022-07-22T22:39:15.765456Z",
     "shell.execute_reply": "2022-07-22T22:39:15.764943Z"
    },
    "papermill": {
     "duration": 0.924172,
     "end_time": "2022-07-22T22:39:15.767194",
     "exception": false,
     "start_time": "2022-07-22T22:39:14.843022",
     "status": "completed"
    },
    "tags": []
   },
   "outputs": [],
   "source": [
    "from random import sample, seed\n",
    "import warnings\n",
    "from pathlib import Path\n",
    "import pickle\n",
    "import traceback\n",
    "\n",
    "import numpy as np\n",
    "from scipy.spatial.distance import squareform\n",
    "import pandas as pd\n",
    "from tqdm import tqdm\n",
    "import matplotlib.pyplot as plt\n",
    "import seaborn as sns\n",
    "\n",
    "import conf\n",
    "from entity import Gene"
   ]
  },
  {
   "cell_type": "markdown",
   "id": "1eac24b5",
   "metadata": {
    "papermill": {
     "duration": 0.006494,
     "end_time": "2022-07-22T22:39:15.780880",
     "exception": false,
     "start_time": "2022-07-22T22:39:15.774386",
     "status": "completed"
    },
    "tags": []
   },
   "source": [
    "# Settings"
   ]
  },
  {
   "cell_type": "code",
   "execution_count": 3,
   "id": "ca4560ba",
   "metadata": {
    "execution": {
     "iopub.execute_input": "2022-07-22T22:39:15.794674Z",
     "iopub.status.busy": "2022-07-22T22:39:15.794216Z",
     "iopub.status.idle": "2022-07-22T22:39:15.810492Z",
     "shell.execute_reply": "2022-07-22T22:39:15.810074Z"
    },
    "papermill": {
     "duration": 0.024427,
     "end_time": "2022-07-22T22:39:15.811930",
     "exception": false,
     "start_time": "2022-07-22T22:39:15.787503",
     "status": "completed"
    },
    "tags": [
     "parameters"
    ]
   },
   "outputs": [],
   "source": [
    "# a cohort name (it could be something like UK_BIOBANK, etc)\n",
    "COHORT_NAME = None\n",
    "\n",
    "# reference panel such as 1000G or GTEX_V8\n",
    "REFERENCE_PANEL = None\n",
    "\n",
    "# predictions models such as MASHR or ELASTIC_NET\n",
    "EQTL_MODEL = None\n",
    "\n",
    "# this is the default value used in S-MultiXcan to select the\n",
    "# top principal components of the expression correlation matrix\n",
    "SMULTIXCAN_CONDITION_NUMBER = 30\n",
    "\n",
    "# specifies a single chromosome value\n",
    "CHROMOSOME = None\n",
    "\n",
    "# If True, computes the correlation between closeby genes only;\n",
    "# otherwise, it computes correlations for all genes in a chromosome\n",
    "COMPUTE_CORRELATIONS_WITHIN_DISTANCE = False\n",
    "\n",
    "# if True, then it will continue if a gene pair correlation fails,\n",
    "# printing the warning/error for debugging. If False, any warning/error\n",
    "# will be thrown\n",
    "DEBUG_MODE = False"
   ]
  },
  {
   "cell_type": "code",
   "execution_count": 4,
   "id": "806f6d7a",
   "metadata": {
    "execution": {
     "iopub.execute_input": "2022-07-22T22:39:15.825519Z",
     "iopub.status.busy": "2022-07-22T22:39:15.825360Z",
     "iopub.status.idle": "2022-07-22T22:39:15.839215Z",
     "shell.execute_reply": "2022-07-22T22:39:15.838831Z"
    },
    "papermill": {
     "duration": 0.022357,
     "end_time": "2022-07-22T22:39:15.840501",
     "exception": false,
     "start_time": "2022-07-22T22:39:15.818144",
     "status": "completed"
    },
    "tags": [
     "injected-parameters"
    ]
   },
   "outputs": [],
   "source": [
    "# Parameters\n",
    "COHORT_NAME = \"1000G_EUR\"\n",
    "REFERENCE_PANEL = \"1000G\"\n",
    "EQTL_MODEL = \"MASHR\"\n",
    "CHROMOSOME = 16\n"
   ]
  },
  {
   "cell_type": "code",
   "execution_count": 5,
   "id": "3190631f-27fc-480f-b18e-571d580425a5",
   "metadata": {
    "execution": {
     "iopub.execute_input": "2022-07-22T22:39:15.852806Z",
     "iopub.status.busy": "2022-07-22T22:39:15.852617Z",
     "iopub.status.idle": "2022-07-22T22:39:15.868643Z",
     "shell.execute_reply": "2022-07-22T22:39:15.868243Z"
    },
    "papermill": {
     "duration": 0.023764,
     "end_time": "2022-07-22T22:39:15.870102",
     "exception": false,
     "start_time": "2022-07-22T22:39:15.846338",
     "status": "completed"
    },
    "tags": []
   },
   "outputs": [
    {
     "data": {
      "text/plain": [
       "'Cohort name: 1000g_eur'"
      ]
     },
     "metadata": {},
     "output_type": "display_data"
    }
   ],
   "source": [
    "assert COHORT_NAME is not None and len(COHORT_NAME) > 0, \"A cohort name must be given\"\n",
    "\n",
    "COHORT_NAME = COHORT_NAME.lower()\n",
    "display(f\"Cohort name: {COHORT_NAME}\")"
   ]
  },
  {
   "cell_type": "code",
   "execution_count": 6,
   "id": "f53ba19b-0f93-4fa2-a047-63b375939d1a",
   "metadata": {
    "execution": {
     "iopub.execute_input": "2022-07-22T22:39:15.882733Z",
     "iopub.status.busy": "2022-07-22T22:39:15.882518Z",
     "iopub.status.idle": "2022-07-22T22:39:15.897374Z",
     "shell.execute_reply": "2022-07-22T22:39:15.896954Z"
    },
    "papermill": {
     "duration": 0.022441,
     "end_time": "2022-07-22T22:39:15.898533",
     "exception": false,
     "start_time": "2022-07-22T22:39:15.876092",
     "status": "completed"
    },
    "tags": []
   },
   "outputs": [
    {
     "data": {
      "text/plain": [
       "'Reference panel: 1000G'"
      ]
     },
     "metadata": {},
     "output_type": "display_data"
    }
   ],
   "source": [
    "assert (\n",
    "    REFERENCE_PANEL is not None and len(REFERENCE_PANEL) > 0\n",
    "), \"A reference panel must be given\"\n",
    "\n",
    "display(f\"Reference panel: {REFERENCE_PANEL}\")"
   ]
  },
  {
   "cell_type": "code",
   "execution_count": 7,
   "id": "e024d130-c139-429a-9c6e-ccf149e297b0",
   "metadata": {
    "execution": {
     "iopub.execute_input": "2022-07-22T22:39:15.912345Z",
     "iopub.status.busy": "2022-07-22T22:39:15.911951Z",
     "iopub.status.idle": "2022-07-22T22:39:15.927794Z",
     "shell.execute_reply": "2022-07-22T22:39:15.927328Z"
    },
    "papermill": {
     "duration": 0.024027,
     "end_time": "2022-07-22T22:39:15.929011",
     "exception": false,
     "start_time": "2022-07-22T22:39:15.904984",
     "status": "completed"
    },
    "tags": []
   },
   "outputs": [
    {
     "data": {
      "text/plain": [
       "'eQTL model: MASHR) / mashr_'"
      ]
     },
     "metadata": {},
     "output_type": "display_data"
    }
   ],
   "source": [
    "assert (\n",
    "    EQTL_MODEL is not None and len(EQTL_MODEL) > 0\n",
    "), \"A prediction/eQTL model must be given\"\n",
    "\n",
    "EQTL_MODEL_FILES_PREFIX = conf.PHENOMEXCAN[\"PREDICTION_MODELS\"][f\"{EQTL_MODEL}_PREFIX\"]\n",
    "display(f\"eQTL model: {EQTL_MODEL}) / {EQTL_MODEL_FILES_PREFIX}\")"
   ]
  },
  {
   "cell_type": "code",
   "execution_count": 8,
   "id": "552a7f63-a18c-4d3e-bb6a-94f99b431291",
   "metadata": {
    "execution": {
     "iopub.execute_input": "2022-07-22T22:39:15.942284Z",
     "iopub.status.busy": "2022-07-22T22:39:15.941999Z",
     "iopub.status.idle": "2022-07-22T22:39:15.956508Z",
     "shell.execute_reply": "2022-07-22T22:39:15.956103Z"
    },
    "papermill": {
     "duration": 0.022608,
     "end_time": "2022-07-22T22:39:15.957720",
     "exception": false,
     "start_time": "2022-07-22T22:39:15.935112",
     "status": "completed"
    },
    "tags": []
   },
   "outputs": [
    {
     "data": {
      "text/plain": [
       "'S-MultiXcan condition number: 30'"
      ]
     },
     "metadata": {},
     "output_type": "display_data"
    }
   ],
   "source": [
    "assert (\n",
    "    SMULTIXCAN_CONDITION_NUMBER is not None and SMULTIXCAN_CONDITION_NUMBER > 0\n",
    "), \"The S-MultiXcan condition number (positive integer) must be given\"\n",
    "\n",
    "display(f\"S-MultiXcan condition number: {SMULTIXCAN_CONDITION_NUMBER}\")"
   ]
  },
  {
   "cell_type": "code",
   "execution_count": 9,
   "id": "f34a336f-548e-4afe-8955-90eaea4f42c6",
   "metadata": {
    "execution": {
     "iopub.execute_input": "2022-07-22T22:39:15.971717Z",
     "iopub.status.busy": "2022-07-22T22:39:15.971494Z",
     "iopub.status.idle": "2022-07-22T22:39:15.986547Z",
     "shell.execute_reply": "2022-07-22T22:39:15.986136Z"
    },
    "papermill": {
     "duration": 0.0234,
     "end_time": "2022-07-22T22:39:15.987794",
     "exception": false,
     "start_time": "2022-07-22T22:39:15.964394",
     "status": "completed"
    },
    "tags": []
   },
   "outputs": [
    {
     "data": {
      "text/plain": [
       "'Working on chromosome 16'"
      ]
     },
     "metadata": {},
     "output_type": "display_data"
    }
   ],
   "source": [
    "assert CHROMOSOME is not None and (\n",
    "    1 <= CHROMOSOME <= 22\n",
    "), \"You have to select one chromosome (format: number between 1 and 22)\"\n",
    "\n",
    "CHROMOSOME = str(CHROMOSOME)\n",
    "display(f\"Working on chromosome {CHROMOSOME}\")"
   ]
  },
  {
   "cell_type": "code",
   "execution_count": 10,
   "id": "ab8e96e8-06b5-4363-9dcd-dc4d78cc27f7",
   "metadata": {
    "execution": {
     "iopub.execute_input": "2022-07-22T22:39:16.001912Z",
     "iopub.status.busy": "2022-07-22T22:39:16.001683Z",
     "iopub.status.idle": "2022-07-22T22:39:16.016972Z",
     "shell.execute_reply": "2022-07-22T22:39:16.016496Z"
    },
    "papermill": {
     "duration": 0.023852,
     "end_time": "2022-07-22T22:39:16.018164",
     "exception": false,
     "start_time": "2022-07-22T22:39:15.994312",
     "status": "completed"
    },
    "tags": []
   },
   "outputs": [
    {
     "data": {
      "text/plain": [
       "'Compute correlation within distance False'"
      ]
     },
     "metadata": {},
     "output_type": "display_data"
    }
   ],
   "source": [
    "display(f\"Compute correlation within distance {COMPUTE_CORRELATIONS_WITHIN_DISTANCE}\")"
   ]
  },
  {
   "cell_type": "code",
   "execution_count": 11,
   "id": "396392dc-0340-4540-9b02-e182b833f909",
   "metadata": {
    "execution": {
     "iopub.execute_input": "2022-07-22T22:39:16.032250Z",
     "iopub.status.busy": "2022-07-22T22:39:16.031990Z",
     "iopub.status.idle": "2022-07-22T22:39:16.047126Z",
     "shell.execute_reply": "2022-07-22T22:39:16.046657Z"
    },
    "papermill": {
     "duration": 0.02333,
     "end_time": "2022-07-22T22:39:16.048387",
     "exception": false,
     "start_time": "2022-07-22T22:39:16.025057",
     "status": "completed"
    },
    "tags": []
   },
   "outputs": [
    {
     "data": {
      "text/plain": [
       "'Using output dir base: /opt/data/results/gls/gene_corrs/cohorts/1000g_eur/1000g/mashr'"
      ]
     },
     "metadata": {},
     "output_type": "display_data"
    }
   ],
   "source": [
    "OUTPUT_DIR_BASE = (\n",
    "    conf.RESULTS[\"GLS\"]\n",
    "    / \"gene_corrs\"\n",
    "    / \"cohorts\"\n",
    "    / COHORT_NAME\n",
    "    / REFERENCE_PANEL.lower()\n",
    "    / EQTL_MODEL.lower()\n",
    ")\n",
    "OUTPUT_DIR_BASE.mkdir(parents=True, exist_ok=True)\n",
    "\n",
    "display(f\"Using output dir base: {OUTPUT_DIR_BASE}\")"
   ]
  },
  {
   "cell_type": "code",
   "execution_count": 12,
   "id": "974b4bb1-aa98-4e30-b221-7cd034ad3833",
   "metadata": {
    "execution": {
     "iopub.execute_input": "2022-07-22T22:39:16.062966Z",
     "iopub.status.busy": "2022-07-22T22:39:16.061912Z",
     "iopub.status.idle": "2022-07-22T22:39:16.077967Z",
     "shell.execute_reply": "2022-07-22T22:39:16.077533Z"
    },
    "papermill": {
     "duration": 0.024333,
     "end_time": "2022-07-22T22:39:16.079120",
     "exception": false,
     "start_time": "2022-07-22T22:39:16.054787",
     "status": "completed"
    },
    "tags": []
   },
   "outputs": [
    {
     "data": {
      "text/plain": [
       "PosixPath('/opt/data/results/gls/gene_corrs/cohorts/1000g_eur')"
      ]
     },
     "metadata": {},
     "output_type": "display_data"
    }
   ],
   "source": [
    "INPUT_DIR = conf.RESULTS[\"GLS\"] / \"gene_corrs\" / \"cohorts\" / COHORT_NAME\n",
    "assert INPUT_DIR.exists()\n",
    "\n",
    "display(INPUT_DIR)"
   ]
  },
  {
   "cell_type": "markdown",
   "id": "d2ba085e",
   "metadata": {
    "papermill": {
     "duration": 0.006279,
     "end_time": "2022-07-22T22:39:16.092124",
     "exception": false,
     "start_time": "2022-07-22T22:39:16.085845",
     "status": "completed"
    },
    "tags": []
   },
   "source": [
    "# Load data"
   ]
  },
  {
   "cell_type": "markdown",
   "id": "7dcb8db7",
   "metadata": {
    "papermill": {
     "duration": 0.006416,
     "end_time": "2022-07-22T22:39:16.105232",
     "exception": false,
     "start_time": "2022-07-22T22:39:16.098816",
     "status": "completed"
    },
    "tags": []
   },
   "source": [
    "## GWAS variants"
   ]
  },
  {
   "cell_type": "code",
   "execution_count": 13,
   "id": "29434c4e-8cd3-4b9b-82e4-b5a251d9dd19",
   "metadata": {
    "execution": {
     "iopub.execute_input": "2022-07-22T22:39:16.119036Z",
     "iopub.status.busy": "2022-07-22T22:39:16.118838Z",
     "iopub.status.idle": "2022-07-22T22:39:18.665030Z",
     "shell.execute_reply": "2022-07-22T22:39:18.664553Z"
    },
    "papermill": {
     "duration": 2.554854,
     "end_time": "2022-07-22T22:39:18.666595",
     "exception": false,
     "start_time": "2022-07-22T22:39:16.111741",
     "status": "completed"
    },
    "tags": []
   },
   "outputs": [],
   "source": [
    "with open(INPUT_DIR / \"gwas_variant_ids.pkl\", \"rb\") as handle:\n",
    "    gwas_variants_ids_set = pickle.load(handle)"
   ]
  },
  {
   "cell_type": "code",
   "execution_count": 14,
   "id": "b9d9dec2-4a76-4bf9-bde2-e24c95acb8a0",
   "metadata": {
    "execution": {
     "iopub.execute_input": "2022-07-22T22:39:18.689231Z",
     "iopub.status.busy": "2022-07-22T22:39:18.688824Z",
     "iopub.status.idle": "2022-07-22T22:39:18.704448Z",
     "shell.execute_reply": "2022-07-22T22:39:18.704004Z"
    },
    "papermill": {
     "duration": 0.025427,
     "end_time": "2022-07-22T22:39:18.705831",
     "exception": false,
     "start_time": "2022-07-22T22:39:18.680404",
     "status": "completed"
    },
    "tags": []
   },
   "outputs": [
    {
     "data": {
      "text/plain": [
       "8339505"
      ]
     },
     "execution_count": 14,
     "metadata": {},
     "output_type": "execute_result"
    }
   ],
   "source": [
    "len(gwas_variants_ids_set)"
   ]
  },
  {
   "cell_type": "code",
   "execution_count": 15,
   "id": "4235b06a-6034-4ee4-a0a3-2ae35d122418",
   "metadata": {
    "execution": {
     "iopub.execute_input": "2022-07-22T22:39:18.720107Z",
     "iopub.status.busy": "2022-07-22T22:39:18.719917Z",
     "iopub.status.idle": "2022-07-22T22:39:19.217398Z",
     "shell.execute_reply": "2022-07-22T22:39:19.216882Z"
    },
    "papermill": {
     "duration": 0.50596,
     "end_time": "2022-07-22T22:39:19.218800",
     "exception": false,
     "start_time": "2022-07-22T22:39:18.712840",
     "status": "completed"
    },
    "tags": []
   },
   "outputs": [
    {
     "data": {
      "text/plain": [
       "['chr13_65023390_C_A_b38',\n",
       " 'chr5_107669767_C_G_b38',\n",
       " 'chr9_12907049_G_A_b38',\n",
       " 'chr17_11154396_T_C_b38',\n",
       " 'chr12_21820081_A_T_b38']"
      ]
     },
     "execution_count": 15,
     "metadata": {},
     "output_type": "execute_result"
    }
   ],
   "source": [
    "list(gwas_variants_ids_set)[:5]"
   ]
  },
  {
   "cell_type": "markdown",
   "id": "07866999-2305-41f9-a144-e69c9122c212",
   "metadata": {
    "papermill": {
     "duration": 0.00788,
     "end_time": "2022-07-22T22:39:19.234728",
     "exception": false,
     "start_time": "2022-07-22T22:39:19.226848",
     "status": "completed"
    },
    "tags": []
   },
   "source": [
    "## S-PrediXcan tissue models"
   ]
  },
  {
   "cell_type": "code",
   "execution_count": 16,
   "id": "780611d9-77c8-405f-90a4-f271f7b09397",
   "metadata": {
    "execution": {
     "iopub.execute_input": "2022-07-22T22:39:19.251725Z",
     "iopub.status.busy": "2022-07-22T22:39:19.251486Z",
     "iopub.status.idle": "2022-07-22T22:39:20.019139Z",
     "shell.execute_reply": "2022-07-22T22:39:20.018731Z"
    },
    "papermill": {
     "duration": 0.777448,
     "end_time": "2022-07-22T22:39:20.020507",
     "exception": false,
     "start_time": "2022-07-22T22:39:19.243059",
     "status": "completed"
    },
    "tags": []
   },
   "outputs": [],
   "source": [
    "spredixcan_genes_models = pd.read_pickle(INPUT_DIR / \"gene_tissues.pkl\").set_index(\n",
    "    \"gene_id\"\n",
    ")"
   ]
  },
  {
   "cell_type": "code",
   "execution_count": 17,
   "id": "726dd1f6-9557-4225-91fa-b3b879ea96e1",
   "metadata": {
    "execution": {
     "iopub.execute_input": "2022-07-22T22:39:20.035224Z",
     "iopub.status.busy": "2022-07-22T22:39:20.035020Z",
     "iopub.status.idle": "2022-07-22T22:39:20.050230Z",
     "shell.execute_reply": "2022-07-22T22:39:20.049849Z"
    },
    "papermill": {
     "duration": 0.02412,
     "end_time": "2022-07-22T22:39:20.051390",
     "exception": false,
     "start_time": "2022-07-22T22:39:20.027270",
     "status": "completed"
    },
    "tags": []
   },
   "outputs": [
    {
     "data": {
      "text/plain": [
       "(22314, 2)"
      ]
     },
     "execution_count": 17,
     "metadata": {},
     "output_type": "execute_result"
    }
   ],
   "source": [
    "spredixcan_genes_models.shape"
   ]
  },
  {
   "cell_type": "code",
   "execution_count": 18,
   "id": "944a1b48-222c-4eb0-b252-b9de2cbca215",
   "metadata": {
    "execution": {
     "iopub.execute_input": "2022-07-22T22:39:20.065592Z",
     "iopub.status.busy": "2022-07-22T22:39:20.065402Z",
     "iopub.status.idle": "2022-07-22T22:39:20.085153Z",
     "shell.execute_reply": "2022-07-22T22:39:20.084742Z"
    },
    "papermill": {
     "duration": 0.028304,
     "end_time": "2022-07-22T22:39:20.086439",
     "exception": false,
     "start_time": "2022-07-22T22:39:20.058135",
     "status": "completed"
    },
    "tags": []
   },
   "outputs": [
    {
     "data": {
      "text/html": [
       "<div>\n",
       "<style scoped>\n",
       "    .dataframe tbody tr th:only-of-type {\n",
       "        vertical-align: middle;\n",
       "    }\n",
       "\n",
       "    .dataframe tbody tr th {\n",
       "        vertical-align: top;\n",
       "    }\n",
       "\n",
       "    .dataframe thead th {\n",
       "        text-align: right;\n",
       "    }\n",
       "</style>\n",
       "<table border=\"1\" class=\"dataframe\">\n",
       "  <thead>\n",
       "    <tr style=\"text-align: right;\">\n",
       "      <th></th>\n",
       "      <th>gene_name</th>\n",
       "      <th>tissue</th>\n",
       "    </tr>\n",
       "    <tr>\n",
       "      <th>gene_id</th>\n",
       "      <th></th>\n",
       "      <th></th>\n",
       "    </tr>\n",
       "  </thead>\n",
       "  <tbody>\n",
       "    <tr>\n",
       "      <th>ENSG00000000419</th>\n",
       "      <td>DPM1</td>\n",
       "      <td>(Brain_Substantia_nigra, Brain_Hypothalamus)</td>\n",
       "    </tr>\n",
       "    <tr>\n",
       "      <th>ENSG00000000457</th>\n",
       "      <td>SCYL3</td>\n",
       "      <td>(Brain_Substantia_nigra, Lung, Kidney_Cortex, ...</td>\n",
       "    </tr>\n",
       "    <tr>\n",
       "      <th>ENSG00000000460</th>\n",
       "      <td>C1orf112</td>\n",
       "      <td>(Brain_Substantia_nigra, Lung, Kidney_Cortex, ...</td>\n",
       "    </tr>\n",
       "    <tr>\n",
       "      <th>ENSG00000000938</th>\n",
       "      <td>FGR</td>\n",
       "      <td>(Lung, Skin_Not_Sun_Exposed_Suprapubic, Esopha...</td>\n",
       "    </tr>\n",
       "    <tr>\n",
       "      <th>ENSG00000000971</th>\n",
       "      <td>CFH</td>\n",
       "      <td>(Brain_Substantia_nigra, Lung, Kidney_Cortex, ...</td>\n",
       "    </tr>\n",
       "  </tbody>\n",
       "</table>\n",
       "</div>"
      ],
      "text/plain": [
       "                gene_name                                             tissue\n",
       "gene_id                                                                     \n",
       "ENSG00000000419      DPM1       (Brain_Substantia_nigra, Brain_Hypothalamus)\n",
       "ENSG00000000457     SCYL3  (Brain_Substantia_nigra, Lung, Kidney_Cortex, ...\n",
       "ENSG00000000460  C1orf112  (Brain_Substantia_nigra, Lung, Kidney_Cortex, ...\n",
       "ENSG00000000938       FGR  (Lung, Skin_Not_Sun_Exposed_Suprapubic, Esopha...\n",
       "ENSG00000000971       CFH  (Brain_Substantia_nigra, Lung, Kidney_Cortex, ..."
      ]
     },
     "execution_count": 18,
     "metadata": {},
     "output_type": "execute_result"
    }
   ],
   "source": [
    "spredixcan_genes_models.head()"
   ]
  },
  {
   "cell_type": "code",
   "execution_count": 19,
   "id": "d1c11bb1-be0b-4f40-b360-633d6827109f",
   "metadata": {
    "execution": {
     "iopub.execute_input": "2022-07-22T22:39:20.101205Z",
     "iopub.status.busy": "2022-07-22T22:39:20.100966Z",
     "iopub.status.idle": "2022-07-22T22:39:20.117357Z",
     "shell.execute_reply": "2022-07-22T22:39:20.116876Z"
    },
    "papermill": {
     "duration": 0.025187,
     "end_time": "2022-07-22T22:39:20.118643",
     "exception": false,
     "start_time": "2022-07-22T22:39:20.093456",
     "status": "completed"
    },
    "tags": []
   },
   "outputs": [],
   "source": [
    "assert spredixcan_genes_models.index.is_unique"
   ]
  },
  {
   "cell_type": "markdown",
   "id": "6caf9d10-eda8-4ad2-8811-a983aa77a25a",
   "metadata": {
    "papermill": {
     "duration": 0.008084,
     "end_time": "2022-07-22T22:39:20.133970",
     "exception": false,
     "start_time": "2022-07-22T22:39:20.125886",
     "status": "completed"
    },
    "tags": []
   },
   "source": [
    "## Get common genes"
   ]
  },
  {
   "cell_type": "code",
   "execution_count": 20,
   "id": "f8d1e317-1cc8-4bdf-bbe9-c3b0a5478359",
   "metadata": {
    "execution": {
     "iopub.execute_input": "2022-07-22T22:39:20.149744Z",
     "iopub.status.busy": "2022-07-22T22:39:20.149545Z",
     "iopub.status.idle": "2022-07-22T22:39:20.164387Z",
     "shell.execute_reply": "2022-07-22T22:39:20.163904Z"
    },
    "papermill": {
     "duration": 0.023682,
     "end_time": "2022-07-22T22:39:20.165716",
     "exception": false,
     "start_time": "2022-07-22T22:39:20.142034",
     "status": "completed"
    },
    "tags": []
   },
   "outputs": [],
   "source": [
    "with open(INPUT_DIR / \"common_genes.pkl\", \"rb\") as handle:\n",
    "    common_genes = pickle.load(handle)"
   ]
  },
  {
   "cell_type": "code",
   "execution_count": 21,
   "id": "ce9506aa-2f38-4e46-b9c2-84d750fac0da",
   "metadata": {
    "execution": {
     "iopub.execute_input": "2022-07-22T22:39:20.181364Z",
     "iopub.status.busy": "2022-07-22T22:39:20.181041Z",
     "iopub.status.idle": "2022-07-22T22:39:20.195620Z",
     "shell.execute_reply": "2022-07-22T22:39:20.195196Z"
    },
    "papermill": {
     "duration": 0.023143,
     "end_time": "2022-07-22T22:39:20.196760",
     "exception": false,
     "start_time": "2022-07-22T22:39:20.173617",
     "status": "completed"
    },
    "tags": []
   },
   "outputs": [
    {
     "data": {
      "text/plain": [
       "6444"
      ]
     },
     "execution_count": 21,
     "metadata": {},
     "output_type": "execute_result"
    }
   ],
   "source": [
    "len(common_genes)"
   ]
  },
  {
   "cell_type": "code",
   "execution_count": 22,
   "id": "f525a698-506a-48e0-9aee-1aca62def5dd",
   "metadata": {
    "execution": {
     "iopub.execute_input": "2022-07-22T22:39:20.211435Z",
     "iopub.status.busy": "2022-07-22T22:39:20.211139Z",
     "iopub.status.idle": "2022-07-22T22:39:20.228816Z",
     "shell.execute_reply": "2022-07-22T22:39:20.228357Z"
    },
    "papermill": {
     "duration": 0.026244,
     "end_time": "2022-07-22T22:39:20.230002",
     "exception": false,
     "start_time": "2022-07-22T22:39:20.203758",
     "status": "completed"
    },
    "tags": []
   },
   "outputs": [
    {
     "data": {
      "text/plain": [
       "['A2M', 'AAAS', 'AANAT', 'AARS', 'AARS2']"
      ]
     },
     "execution_count": 22,
     "metadata": {},
     "output_type": "execute_result"
    }
   ],
   "source": [
    "sorted(list(common_genes))[:5]"
   ]
  },
  {
   "cell_type": "markdown",
   "id": "a5b5092c-a13e-47c4-a92a-480fcc08f3ae",
   "metadata": {
    "papermill": {
     "duration": 0.007415,
     "end_time": "2022-07-22T22:39:20.244759",
     "exception": false,
     "start_time": "2022-07-22T22:39:20.237344",
     "status": "completed"
    },
    "tags": []
   },
   "source": [
    "## Gene info"
   ]
  },
  {
   "cell_type": "code",
   "execution_count": 23,
   "id": "7d6bb224-88e9-4358-ac10-43a41d92cdad",
   "metadata": {
    "execution": {
     "iopub.execute_input": "2022-07-22T22:39:20.260486Z",
     "iopub.status.busy": "2022-07-22T22:39:20.260168Z",
     "iopub.status.idle": "2022-07-22T22:39:20.277507Z",
     "shell.execute_reply": "2022-07-22T22:39:20.277087Z"
    },
    "papermill": {
     "duration": 0.026633,
     "end_time": "2022-07-22T22:39:20.278797",
     "exception": false,
     "start_time": "2022-07-22T22:39:20.252164",
     "status": "completed"
    },
    "tags": []
   },
   "outputs": [],
   "source": [
    "genes_info = pd.read_pickle(INPUT_DIR / \"genes_info.pkl\")"
   ]
  },
  {
   "cell_type": "code",
   "execution_count": 24,
   "id": "9e32abfa-546d-483e-8c18-d526e9e05903",
   "metadata": {
    "execution": {
     "iopub.execute_input": "2022-07-22T22:39:20.294944Z",
     "iopub.status.busy": "2022-07-22T22:39:20.294652Z",
     "iopub.status.idle": "2022-07-22T22:39:20.309683Z",
     "shell.execute_reply": "2022-07-22T22:39:20.309221Z"
    },
    "papermill": {
     "duration": 0.024393,
     "end_time": "2022-07-22T22:39:20.310862",
     "exception": false,
     "start_time": "2022-07-22T22:39:20.286469",
     "status": "completed"
    },
    "tags": []
   },
   "outputs": [
    {
     "data": {
      "text/plain": [
       "(6444, 7)"
      ]
     },
     "execution_count": 24,
     "metadata": {},
     "output_type": "execute_result"
    }
   ],
   "source": [
    "genes_info.shape"
   ]
  },
  {
   "cell_type": "code",
   "execution_count": 25,
   "id": "d16c3e92-85ec-468a-9a56-e25a9774a1cb",
   "metadata": {
    "execution": {
     "iopub.execute_input": "2022-07-22T22:39:20.327269Z",
     "iopub.status.busy": "2022-07-22T22:39:20.326929Z",
     "iopub.status.idle": "2022-07-22T22:39:20.350063Z",
     "shell.execute_reply": "2022-07-22T22:39:20.349630Z"
    },
    "papermill": {
     "duration": 0.032579,
     "end_time": "2022-07-22T22:39:20.351412",
     "exception": false,
     "start_time": "2022-07-22T22:39:20.318833",
     "status": "completed"
    },
    "tags": []
   },
   "outputs": [
    {
     "data": {
      "text/html": [
       "<div>\n",
       "<style scoped>\n",
       "    .dataframe tbody tr th:only-of-type {\n",
       "        vertical-align: middle;\n",
       "    }\n",
       "\n",
       "    .dataframe tbody tr th {\n",
       "        vertical-align: top;\n",
       "    }\n",
       "\n",
       "    .dataframe thead th {\n",
       "        text-align: right;\n",
       "    }\n",
       "</style>\n",
       "<table border=\"1\" class=\"dataframe\">\n",
       "  <thead>\n",
       "    <tr style=\"text-align: right;\">\n",
       "      <th></th>\n",
       "      <th>name</th>\n",
       "      <th>id</th>\n",
       "      <th>chr</th>\n",
       "      <th>band</th>\n",
       "      <th>start_position</th>\n",
       "      <th>end_position</th>\n",
       "      <th>gene_length</th>\n",
       "    </tr>\n",
       "  </thead>\n",
       "  <tbody>\n",
       "    <tr>\n",
       "      <th>0</th>\n",
       "      <td>MFN2</td>\n",
       "      <td>ENSG00000116688</td>\n",
       "      <td>1</td>\n",
       "      <td>1p36.22</td>\n",
       "      <td>11980181.0</td>\n",
       "      <td>12013514.0</td>\n",
       "      <td>33333.0</td>\n",
       "    </tr>\n",
       "    <tr>\n",
       "      <th>1</th>\n",
       "      <td>PPA2</td>\n",
       "      <td>ENSG00000138777</td>\n",
       "      <td>4</td>\n",
       "      <td>4q24</td>\n",
       "      <td>105369077.0</td>\n",
       "      <td>105474067.0</td>\n",
       "      <td>104990.0</td>\n",
       "    </tr>\n",
       "    <tr>\n",
       "      <th>2</th>\n",
       "      <td>ADRA2A</td>\n",
       "      <td>ENSG00000150594</td>\n",
       "      <td>10</td>\n",
       "      <td>10q25.2</td>\n",
       "      <td>111077163.0</td>\n",
       "      <td>111080907.0</td>\n",
       "      <td>3744.0</td>\n",
       "    </tr>\n",
       "    <tr>\n",
       "      <th>3</th>\n",
       "      <td>RYR2</td>\n",
       "      <td>ENSG00000198626</td>\n",
       "      <td>1</td>\n",
       "      <td>1q43</td>\n",
       "      <td>237042184.0</td>\n",
       "      <td>237833988.0</td>\n",
       "      <td>791804.0</td>\n",
       "    </tr>\n",
       "    <tr>\n",
       "      <th>4</th>\n",
       "      <td>VAV2</td>\n",
       "      <td>ENSG00000160293</td>\n",
       "      <td>9</td>\n",
       "      <td>9q34.2</td>\n",
       "      <td>133761894.0</td>\n",
       "      <td>133992604.0</td>\n",
       "      <td>230710.0</td>\n",
       "    </tr>\n",
       "  </tbody>\n",
       "</table>\n",
       "</div>"
      ],
      "text/plain": [
       "     name               id chr     band  start_position  end_position  \\\n",
       "0    MFN2  ENSG00000116688   1  1p36.22      11980181.0    12013514.0   \n",
       "1    PPA2  ENSG00000138777   4     4q24     105369077.0   105474067.0   \n",
       "2  ADRA2A  ENSG00000150594  10  10q25.2     111077163.0   111080907.0   \n",
       "3    RYR2  ENSG00000198626   1     1q43     237042184.0   237833988.0   \n",
       "4    VAV2  ENSG00000160293   9   9q34.2     133761894.0   133992604.0   \n",
       "\n",
       "   gene_length  \n",
       "0      33333.0  \n",
       "1     104990.0  \n",
       "2       3744.0  \n",
       "3     791804.0  \n",
       "4     230710.0  "
      ]
     },
     "execution_count": 25,
     "metadata": {},
     "output_type": "execute_result"
    }
   ],
   "source": [
    "genes_info.head()"
   ]
  },
  {
   "cell_type": "markdown",
   "id": "d3843e06",
   "metadata": {
    "papermill": {
     "duration": 0.007746,
     "end_time": "2022-07-22T22:39:20.367193",
     "exception": false,
     "start_time": "2022-07-22T22:39:20.359447",
     "status": "completed"
    },
    "tags": []
   },
   "source": [
    "# Compute correlations"
   ]
  },
  {
   "cell_type": "code",
   "execution_count": 26,
   "id": "cb859c15-d1f3-4006-a74c-2b83c0db9611",
   "metadata": {
    "execution": {
     "iopub.execute_input": "2022-07-22T22:39:20.383353Z",
     "iopub.status.busy": "2022-07-22T22:39:20.383149Z",
     "iopub.status.idle": "2022-07-22T22:39:20.398699Z",
     "shell.execute_reply": "2022-07-22T22:39:20.398266Z"
    },
    "papermill": {
     "duration": 0.024929,
     "end_time": "2022-07-22T22:39:20.399986",
     "exception": false,
     "start_time": "2022-07-22T22:39:20.375057",
     "status": "completed"
    },
    "tags": []
   },
   "outputs": [
    {
     "data": {
      "text/plain": [
       "PosixPath('/opt/data/results/gls/gene_corrs/cohorts/1000g_eur/1000g/mashr/by_chr/gene_corrs-chr16.pkl')"
      ]
     },
     "metadata": {},
     "output_type": "display_data"
    }
   ],
   "source": [
    "output_dir = OUTPUT_DIR_BASE / \"by_chr\"\n",
    "output_dir.mkdir(exist_ok=True, parents=True)\n",
    "output_file = output_dir / f\"gene_corrs-chr{CHROMOSOME}.pkl\"\n",
    "display(output_file)"
   ]
  },
  {
   "cell_type": "code",
   "execution_count": 27,
   "id": "aa674fe4-6794-4eed-98fa-32b39d1d4ace",
   "metadata": {
    "execution": {
     "iopub.execute_input": "2022-07-22T22:39:20.415852Z",
     "iopub.status.busy": "2022-07-22T22:39:20.415633Z",
     "iopub.status.idle": "2022-07-22T22:39:20.430523Z",
     "shell.execute_reply": "2022-07-22T22:39:20.430093Z"
    },
    "papermill": {
     "duration": 0.024301,
     "end_time": "2022-07-22T22:39:20.431851",
     "exception": false,
     "start_time": "2022-07-22T22:39:20.407550",
     "status": "completed"
    },
    "tags": []
   },
   "outputs": [],
   "source": [
    "warnings.filterwarnings(\"error\")"
   ]
  },
  {
   "cell_type": "code",
   "execution_count": 28,
   "id": "44d5450b-3baf-43f1-9e2e-4b06f1a785f8",
   "metadata": {
    "execution": {
     "iopub.execute_input": "2022-07-22T22:39:20.448503Z",
     "iopub.status.busy": "2022-07-22T22:39:20.448261Z",
     "iopub.status.idle": "2022-07-22T22:39:20.463696Z",
     "shell.execute_reply": "2022-07-22T22:39:20.463216Z"
    },
    "papermill": {
     "duration": 0.025239,
     "end_time": "2022-07-22T22:39:20.464936",
     "exception": false,
     "start_time": "2022-07-22T22:39:20.439697",
     "status": "completed"
    },
    "tags": []
   },
   "outputs": [],
   "source": [
    "# standard checks\n",
    "all_chrs = genes_info[\"chr\"].dropna().unique()\n",
    "assert all_chrs.shape[0] == 22\n",
    "\n",
    "# select chromosome given by the user\n",
    "assert CHROMOSOME in all_chrs"
   ]
  },
  {
   "cell_type": "code",
   "execution_count": 29,
   "id": "2d7c043c-92a7-4d35-991b-fa69ac1e0268",
   "metadata": {
    "execution": {
     "iopub.execute_input": "2022-07-22T22:39:20.481102Z",
     "iopub.status.busy": "2022-07-22T22:39:20.480813Z",
     "iopub.status.idle": "2022-07-22T22:39:20.497300Z",
     "shell.execute_reply": "2022-07-22T22:39:20.496871Z"
    },
    "papermill": {
     "duration": 0.025883,
     "end_time": "2022-07-22T22:39:20.498487",
     "exception": false,
     "start_time": "2022-07-22T22:39:20.472604",
     "status": "completed"
    },
    "tags": []
   },
   "outputs": [
    {
     "name": "stdout",
     "output_type": "stream",
     "text": [
      "Number of genes in chromosome: 274\n"
     ]
    }
   ],
   "source": [
    "# run only on the chromosome specified\n",
    "all_chrs = [CHROMOSOME]\n",
    "genes_chr = genes_info[genes_info[\"chr\"] == CHROMOSOME]\n",
    "\n",
    "# For testing purposes\n",
    "# genes_chr = genes_chr.sample(n=20)\n",
    "\n",
    "print(f\"Number of genes in chromosome: {genes_chr.shape[0]}\", flush=True)"
   ]
  },
  {
   "cell_type": "code",
   "execution_count": 30,
   "id": "916015d8-2979-46d3-a9b9-1cf5a0932c6a",
   "metadata": {
    "execution": {
     "iopub.execute_input": "2022-07-22T22:39:20.515044Z",
     "iopub.status.busy": "2022-07-22T22:39:20.514705Z",
     "iopub.status.idle": "2022-07-22T22:39:20.528921Z",
     "shell.execute_reply": "2022-07-22T22:39:20.528418Z"
    },
    "papermill": {
     "duration": 0.023656,
     "end_time": "2022-07-22T22:39:20.530180",
     "exception": false,
     "start_time": "2022-07-22T22:39:20.506524",
     "status": "completed"
    },
    "tags": []
   },
   "outputs": [],
   "source": [
    "# sort genes by starting position to make visualizations better later\n",
    "genes_chr = genes_chr.sort_values(\"start_position\")"
   ]
  },
  {
   "cell_type": "code",
   "execution_count": 31,
   "id": "a38aa74a-8ad3-47f6-8ef9-56be0e011774",
   "metadata": {
    "execution": {
     "iopub.execute_input": "2022-07-22T22:39:20.546934Z",
     "iopub.status.busy": "2022-07-22T22:39:20.546571Z",
     "iopub.status.idle": "2022-07-22T22:39:20.561031Z",
     "shell.execute_reply": "2022-07-22T22:39:20.560481Z"
    },
    "papermill": {
     "duration": 0.024409,
     "end_time": "2022-07-22T22:39:20.562429",
     "exception": false,
     "start_time": "2022-07-22T22:39:20.538020",
     "status": "completed"
    },
    "tags": []
   },
   "outputs": [],
   "source": [
    "gene_chr_objs = [Gene(ensembl_id=gene_id) for gene_id in genes_chr[\"id\"]]"
   ]
  },
  {
   "cell_type": "code",
   "execution_count": 32,
   "id": "570f974f-13c3-42b6-ad3a-ce99ca885c1a",
   "metadata": {
    "execution": {
     "iopub.execute_input": "2022-07-22T22:39:20.578661Z",
     "iopub.status.busy": "2022-07-22T22:39:20.578318Z",
     "iopub.status.idle": "2022-07-22T22:39:20.593068Z",
     "shell.execute_reply": "2022-07-22T22:39:20.592627Z"
    },
    "papermill": {
     "duration": 0.024268,
     "end_time": "2022-07-22T22:39:20.594269",
     "exception": false,
     "start_time": "2022-07-22T22:39:20.570001",
     "status": "completed"
    },
    "tags": []
   },
   "outputs": [
    {
     "name": "stdout",
     "output_type": "stream",
     "text": [
      "Number of gene combinations: 37401\n"
     ]
    }
   ],
   "source": [
    "n = len(gene_chr_objs)\n",
    "n_comb = int(n * (n - 1) / 2.0)\n",
    "print(f\"Number of gene combinations: {n_comb}\", flush=True)"
   ]
  },
  {
   "cell_type": "code",
   "execution_count": 33,
   "id": "cdbb90a1",
   "metadata": {
    "execution": {
     "iopub.execute_input": "2022-07-22T22:39:20.611986Z",
     "iopub.status.busy": "2022-07-22T22:39:20.611554Z",
     "iopub.status.idle": "2022-07-22T23:26:11.935080Z",
     "shell.execute_reply": "2022-07-22T23:26:11.934670Z"
    },
    "papermill": {
     "duration": 2811.333941,
     "end_time": "2022-07-22T23:26:11.936328",
     "exception": false,
     "start_time": "2022-07-22T22:39:20.602387",
     "status": "completed"
    },
    "tags": []
   },
   "outputs": [
    {
     "name": "stderr",
     "output_type": "stream",
     "text": [
      "ENSG00000258839 / ENSG00000258947: 100%|██████████████████████| 37401/37401 [46:51<00:00, 13.30it/s]\n"
     ]
    },
    {
     "data": {
      "text/plain": [
       "PosixPath('/opt/data/results/gls/gene_corrs/cohorts/1000g_eur/1000g/mashr/by_chr/gene_corrs-chr16.pkl')"
      ]
     },
     "metadata": {},
     "output_type": "display_data"
    }
   ],
   "source": [
    "gene_corrs = []\n",
    "\n",
    "i = 0\n",
    "with tqdm(ncols=100, total=n_comb) as pbar:\n",
    "    for gene1_idx in range(0, len(gene_chr_objs) - 1):\n",
    "        gene1_obj = gene_chr_objs[gene1_idx]\n",
    "        gene1_tissues = spredixcan_genes_models.loc[gene1_obj.ensembl_id, \"tissue\"]\n",
    "\n",
    "        for gene2_idx in range(gene1_idx + 1, len(gene_chr_objs)):\n",
    "            gene2_obj = gene_chr_objs[gene2_idx]\n",
    "            gene2_tissues = spredixcan_genes_models.loc[gene2_obj.ensembl_id, \"tissue\"]\n",
    "\n",
    "            pbar.set_description(f\"{gene1_obj.ensembl_id} / {gene2_obj.ensembl_id}\")\n",
    "\n",
    "            try:\n",
    "                r = gene1_obj.get_ssm_correlation(\n",
    "                    other_gene=gene2_obj,\n",
    "                    tissues=gene1_tissues,\n",
    "                    other_tissues=gene2_tissues,\n",
    "                    snps_subset=gwas_variants_ids_set,\n",
    "                    condition_number=SMULTIXCAN_CONDITION_NUMBER,\n",
    "                    reference_panel=REFERENCE_PANEL,\n",
    "                    model_type=EQTL_MODEL,\n",
    "                    use_within_distance=COMPUTE_CORRELATIONS_WITHIN_DISTANCE,\n",
    "                )\n",
    "\n",
    "                if r is None:\n",
    "                    # if r is None, it's very likely because:\n",
    "                    #  * one of the genes has no prediction models\n",
    "                    #  * all the SNPs predictors for the gene are not present in the reference\n",
    "                    #    panel\n",
    "\n",
    "                    r = 0.0\n",
    "\n",
    "                gene_corrs.append(r)\n",
    "            except Warning as e:\n",
    "                if not DEBUG_MODE:\n",
    "                    raise e\n",
    "\n",
    "                print(\n",
    "                    f\"RuntimeWarning for genes {gene1_obj.ensembl_id} and {gene2_obj.ensembl_id}\",\n",
    "                    flush=True,\n",
    "                )\n",
    "                print(traceback.format_exc(), flush=True)\n",
    "\n",
    "                gene_corrs.append(np.nan)\n",
    "            except Exception as e:\n",
    "                if not DEBUG_MODE:\n",
    "                    raise e\n",
    "\n",
    "                print(\n",
    "                    f\"Exception for genes {gene1_obj.ensembl_id} and {gene2_obj.ensembl_id}\",\n",
    "                    flush=True,\n",
    "                )\n",
    "                print(traceback.format_exc(), flush=True)\n",
    "\n",
    "                gene_corrs.append(np.nan)\n",
    "\n",
    "            pbar.update(1)\n",
    "\n",
    "# create a pandas series\n",
    "gene_corrs_flat = pd.Series(gene_corrs)\n",
    "\n",
    "# save\n",
    "# FIXME: consider saving only the condenced matrix here. See here for\n",
    "# more details: https://github.com/greenelab/phenoplier/pull/38#discussion_r634600813\n",
    "gene_corrs_data = squareform(np.array(gene_corrs, dtype=np.float64))\n",
    "np.fill_diagonal(gene_corrs_data, 1.0)\n",
    "\n",
    "gene_chr_ids = [g.ensembl_id for g in gene_chr_objs]\n",
    "gene_corrs_df = pd.DataFrame(\n",
    "    data=gene_corrs_data,\n",
    "    index=gene_chr_ids,\n",
    "    columns=gene_chr_ids,\n",
    ")\n",
    "\n",
    "output_dir.mkdir(exist_ok=True, parents=True)\n",
    "display(output_file)\n",
    "\n",
    "gene_corrs_df.to_pickle(output_file)"
   ]
  },
  {
   "cell_type": "markdown",
   "id": "faa67b51-5373-470f-aa72-2ded53fa6dfe",
   "metadata": {
    "papermill": {
     "duration": 2.007457,
     "end_time": "2022-07-22T23:26:15.969135",
     "exception": false,
     "start_time": "2022-07-22T23:26:13.961678",
     "status": "completed"
    },
    "tags": []
   },
   "source": [
    "# Testing"
   ]
  },
  {
   "cell_type": "code",
   "execution_count": 34,
   "id": "14f7d046-4b55-4896-a56b-990127bcc388",
   "metadata": {
    "execution": {
     "iopub.execute_input": "2022-07-22T23:26:20.005186Z",
     "iopub.status.busy": "2022-07-22T23:26:20.004977Z",
     "iopub.status.idle": "2022-07-22T23:26:20.020293Z",
     "shell.execute_reply": "2022-07-22T23:26:20.019860Z"
    },
    "papermill": {
     "duration": 2.02969,
     "end_time": "2022-07-22T23:26:20.021602",
     "exception": false,
     "start_time": "2022-07-22T23:26:17.991912",
     "status": "completed"
    },
    "tags": []
   },
   "outputs": [
    {
     "data": {
      "text/plain": [
       "(274, 274)"
      ]
     },
     "execution_count": 34,
     "metadata": {},
     "output_type": "execute_result"
    }
   ],
   "source": [
    "gene_corrs_df.shape"
   ]
  },
  {
   "cell_type": "code",
   "execution_count": 35,
   "id": "c7d15414-3297-4537-a7c6-7588c0baeb75",
   "metadata": {
    "execution": {
     "iopub.execute_input": "2022-07-22T23:26:23.998896Z",
     "iopub.status.busy": "2022-07-22T23:26:23.998700Z",
     "iopub.status.idle": "2022-07-22T23:26:24.027772Z",
     "shell.execute_reply": "2022-07-22T23:26:24.027348Z"
    },
    "papermill": {
     "duration": 2.018211,
     "end_time": "2022-07-22T23:26:24.028884",
     "exception": false,
     "start_time": "2022-07-22T23:26:22.010673",
     "status": "completed"
    },
    "tags": []
   },
   "outputs": [
    {
     "data": {
      "text/html": [
       "<div>\n",
       "<style scoped>\n",
       "    .dataframe tbody tr th:only-of-type {\n",
       "        vertical-align: middle;\n",
       "    }\n",
       "\n",
       "    .dataframe tbody tr th {\n",
       "        vertical-align: top;\n",
       "    }\n",
       "\n",
       "    .dataframe thead th {\n",
       "        text-align: right;\n",
       "    }\n",
       "</style>\n",
       "<table border=\"1\" class=\"dataframe\">\n",
       "  <thead>\n",
       "    <tr style=\"text-align: right;\">\n",
       "      <th></th>\n",
       "      <th>ENSG00000161980</th>\n",
       "      <th>ENSG00000103152</th>\n",
       "      <th>ENSG00000206172</th>\n",
       "      <th>ENSG00000086506</th>\n",
       "      <th>ENSG00000076344</th>\n",
       "      <th>ENSG00000103126</th>\n",
       "      <th>ENSG00000086504</th>\n",
       "      <th>ENSG00000103202</th>\n",
       "      <th>ENSG00000242612</th>\n",
       "      <th>ENSG00000090565</th>\n",
       "      <th>...</th>\n",
       "      <th>ENSG00000051523</th>\n",
       "      <th>ENSG00000167508</th>\n",
       "      <th>ENSG00000167513</th>\n",
       "      <th>ENSG00000198931</th>\n",
       "      <th>ENSG00000141012</th>\n",
       "      <th>ENSG00000129993</th>\n",
       "      <th>ENSG00000167526</th>\n",
       "      <th>ENSG00000187741</th>\n",
       "      <th>ENSG00000258839</th>\n",
       "      <th>ENSG00000258947</th>\n",
       "    </tr>\n",
       "  </thead>\n",
       "  <tbody>\n",
       "    <tr>\n",
       "      <th>ENSG00000161980</th>\n",
       "      <td>1.000000</td>\n",
       "      <td>0.292930</td>\n",
       "      <td>0.014457</td>\n",
       "      <td>0.028432</td>\n",
       "      <td>0.015629</td>\n",
       "      <td>0.008790</td>\n",
       "      <td>0.007649</td>\n",
       "      <td>0.007969</td>\n",
       "      <td>0.003933</td>\n",
       "      <td>0.008701</td>\n",
       "      <td>...</td>\n",
       "      <td>0.002006</td>\n",
       "      <td>0.006925</td>\n",
       "      <td>0.009883</td>\n",
       "      <td>0.001879</td>\n",
       "      <td>0.008853</td>\n",
       "      <td>0.005369</td>\n",
       "      <td>0.005263</td>\n",
       "      <td>0.004385</td>\n",
       "      <td>0.001860</td>\n",
       "      <td>0.008423</td>\n",
       "    </tr>\n",
       "    <tr>\n",
       "      <th>ENSG00000103152</th>\n",
       "      <td>0.292930</td>\n",
       "      <td>1.000000</td>\n",
       "      <td>0.042781</td>\n",
       "      <td>0.098459</td>\n",
       "      <td>0.044858</td>\n",
       "      <td>0.016963</td>\n",
       "      <td>0.025569</td>\n",
       "      <td>0.012671</td>\n",
       "      <td>0.006444</td>\n",
       "      <td>0.008860</td>\n",
       "      <td>...</td>\n",
       "      <td>0.008798</td>\n",
       "      <td>0.009553</td>\n",
       "      <td>0.006641</td>\n",
       "      <td>0.005099</td>\n",
       "      <td>0.008189</td>\n",
       "      <td>0.010075</td>\n",
       "      <td>0.006950</td>\n",
       "      <td>0.006212</td>\n",
       "      <td>0.001907</td>\n",
       "      <td>0.007604</td>\n",
       "    </tr>\n",
       "    <tr>\n",
       "      <th>ENSG00000206172</th>\n",
       "      <td>0.014457</td>\n",
       "      <td>0.042781</td>\n",
       "      <td>1.000000</td>\n",
       "      <td>0.080993</td>\n",
       "      <td>0.062208</td>\n",
       "      <td>0.044024</td>\n",
       "      <td>0.134139</td>\n",
       "      <td>0.022336</td>\n",
       "      <td>0.016887</td>\n",
       "      <td>0.009029</td>\n",
       "      <td>...</td>\n",
       "      <td>0.006354</td>\n",
       "      <td>0.011887</td>\n",
       "      <td>0.003186</td>\n",
       "      <td>0.002618</td>\n",
       "      <td>0.006948</td>\n",
       "      <td>0.002248</td>\n",
       "      <td>0.000148</td>\n",
       "      <td>0.003438</td>\n",
       "      <td>0.000579</td>\n",
       "      <td>0.003412</td>\n",
       "    </tr>\n",
       "    <tr>\n",
       "      <th>ENSG00000086506</th>\n",
       "      <td>0.028432</td>\n",
       "      <td>0.098459</td>\n",
       "      <td>0.080993</td>\n",
       "      <td>1.000000</td>\n",
       "      <td>0.146688</td>\n",
       "      <td>0.072761</td>\n",
       "      <td>0.085225</td>\n",
       "      <td>0.027458</td>\n",
       "      <td>0.016960</td>\n",
       "      <td>0.025167</td>\n",
       "      <td>...</td>\n",
       "      <td>0.008719</td>\n",
       "      <td>0.006825</td>\n",
       "      <td>0.009605</td>\n",
       "      <td>0.004181</td>\n",
       "      <td>0.011971</td>\n",
       "      <td>0.005305</td>\n",
       "      <td>0.003089</td>\n",
       "      <td>0.006359</td>\n",
       "      <td>0.002860</td>\n",
       "      <td>0.014454</td>\n",
       "    </tr>\n",
       "    <tr>\n",
       "      <th>ENSG00000076344</th>\n",
       "      <td>0.015629</td>\n",
       "      <td>0.044858</td>\n",
       "      <td>0.062208</td>\n",
       "      <td>0.146688</td>\n",
       "      <td>1.000000</td>\n",
       "      <td>0.116543</td>\n",
       "      <td>0.101193</td>\n",
       "      <td>0.019713</td>\n",
       "      <td>0.015065</td>\n",
       "      <td>0.024127</td>\n",
       "      <td>...</td>\n",
       "      <td>0.015484</td>\n",
       "      <td>0.003233</td>\n",
       "      <td>0.003517</td>\n",
       "      <td>0.002114</td>\n",
       "      <td>0.005677</td>\n",
       "      <td>0.004680</td>\n",
       "      <td>0.001778</td>\n",
       "      <td>0.002743</td>\n",
       "      <td>0.001457</td>\n",
       "      <td>0.008008</td>\n",
       "    </tr>\n",
       "  </tbody>\n",
       "</table>\n",
       "<p>5 rows × 274 columns</p>\n",
       "</div>"
      ],
      "text/plain": [
       "                 ENSG00000161980  ENSG00000103152  ENSG00000206172  \\\n",
       "ENSG00000161980         1.000000         0.292930         0.014457   \n",
       "ENSG00000103152         0.292930         1.000000         0.042781   \n",
       "ENSG00000206172         0.014457         0.042781         1.000000   \n",
       "ENSG00000086506         0.028432         0.098459         0.080993   \n",
       "ENSG00000076344         0.015629         0.044858         0.062208   \n",
       "\n",
       "                 ENSG00000086506  ENSG00000076344  ENSG00000103126  \\\n",
       "ENSG00000161980         0.028432         0.015629         0.008790   \n",
       "ENSG00000103152         0.098459         0.044858         0.016963   \n",
       "ENSG00000206172         0.080993         0.062208         0.044024   \n",
       "ENSG00000086506         1.000000         0.146688         0.072761   \n",
       "ENSG00000076344         0.146688         1.000000         0.116543   \n",
       "\n",
       "                 ENSG00000086504  ENSG00000103202  ENSG00000242612  \\\n",
       "ENSG00000161980         0.007649         0.007969         0.003933   \n",
       "ENSG00000103152         0.025569         0.012671         0.006444   \n",
       "ENSG00000206172         0.134139         0.022336         0.016887   \n",
       "ENSG00000086506         0.085225         0.027458         0.016960   \n",
       "ENSG00000076344         0.101193         0.019713         0.015065   \n",
       "\n",
       "                 ENSG00000090565  ...  ENSG00000051523  ENSG00000167508  \\\n",
       "ENSG00000161980         0.008701  ...         0.002006         0.006925   \n",
       "ENSG00000103152         0.008860  ...         0.008798         0.009553   \n",
       "ENSG00000206172         0.009029  ...         0.006354         0.011887   \n",
       "ENSG00000086506         0.025167  ...         0.008719         0.006825   \n",
       "ENSG00000076344         0.024127  ...         0.015484         0.003233   \n",
       "\n",
       "                 ENSG00000167513  ENSG00000198931  ENSG00000141012  \\\n",
       "ENSG00000161980         0.009883         0.001879         0.008853   \n",
       "ENSG00000103152         0.006641         0.005099         0.008189   \n",
       "ENSG00000206172         0.003186         0.002618         0.006948   \n",
       "ENSG00000086506         0.009605         0.004181         0.011971   \n",
       "ENSG00000076344         0.003517         0.002114         0.005677   \n",
       "\n",
       "                 ENSG00000129993  ENSG00000167526  ENSG00000187741  \\\n",
       "ENSG00000161980         0.005369         0.005263         0.004385   \n",
       "ENSG00000103152         0.010075         0.006950         0.006212   \n",
       "ENSG00000206172         0.002248         0.000148         0.003438   \n",
       "ENSG00000086506         0.005305         0.003089         0.006359   \n",
       "ENSG00000076344         0.004680         0.001778         0.002743   \n",
       "\n",
       "                 ENSG00000258839  ENSG00000258947  \n",
       "ENSG00000161980         0.001860         0.008423  \n",
       "ENSG00000103152         0.001907         0.007604  \n",
       "ENSG00000206172         0.000579         0.003412  \n",
       "ENSG00000086506         0.002860         0.014454  \n",
       "ENSG00000076344         0.001457         0.008008  \n",
       "\n",
       "[5 rows x 274 columns]"
      ]
     },
     "execution_count": 35,
     "metadata": {},
     "output_type": "execute_result"
    }
   ],
   "source": [
    "gene_corrs_df.head()"
   ]
  },
  {
   "cell_type": "markdown",
   "id": "dad6603f-01c6-41fb-a6f6-241051207dd8",
   "metadata": {
    "papermill": {
     "duration": 2.064525,
     "end_time": "2022-07-22T23:26:28.050213",
     "exception": false,
     "start_time": "2022-07-22T23:26:25.985688",
     "status": "completed"
    },
    "tags": []
   },
   "source": [
    "## Standard checks and stats"
   ]
  },
  {
   "cell_type": "code",
   "execution_count": 36,
   "id": "286686af-1b7b-4440-8453-6bdcbd8de19c",
   "metadata": {
    "execution": {
     "iopub.execute_input": "2022-07-22T23:26:31.980124Z",
     "iopub.status.busy": "2022-07-22T23:26:31.979776Z",
     "iopub.status.idle": "2022-07-22T23:26:31.996436Z",
     "shell.execute_reply": "2022-07-22T23:26:31.996020Z"
    },
    "papermill": {
     "duration": 2.007435,
     "end_time": "2022-07-22T23:26:31.998667",
     "exception": false,
     "start_time": "2022-07-22T23:26:29.991232",
     "status": "completed"
    },
    "tags": []
   },
   "outputs": [],
   "source": [
    "assert not gene_corrs_df.isna().any().any()"
   ]
  },
  {
   "cell_type": "code",
   "execution_count": 37,
   "id": "00583efc-7068-4270-ad1e-4a418e91db96",
   "metadata": {
    "execution": {
     "iopub.execute_input": "2022-07-22T23:26:35.939848Z",
     "iopub.status.busy": "2022-07-22T23:26:35.939607Z",
     "iopub.status.idle": "2022-07-22T23:26:35.956444Z",
     "shell.execute_reply": "2022-07-22T23:26:35.955843Z"
    },
    "papermill": {
     "duration": 1.959365,
     "end_time": "2022-07-22T23:26:35.957568",
     "exception": false,
     "start_time": "2022-07-22T23:26:33.998203",
     "status": "completed"
    },
    "tags": []
   },
   "outputs": [
    {
     "data": {
      "text/plain": [
       "3.12391216480415e-08"
      ]
     },
     "metadata": {},
     "output_type": "display_data"
    }
   ],
   "source": [
    "_min_val = gene_corrs_df.min().min()\n",
    "display(_min_val)\n",
    "assert _min_val >= 0.0"
   ]
  },
  {
   "cell_type": "code",
   "execution_count": 38,
   "id": "d04fb2cf-1050-475b-b855-f5f7cc04092b",
   "metadata": {
    "execution": {
     "iopub.execute_input": "2022-07-22T23:26:39.936091Z",
     "iopub.status.busy": "2022-07-22T23:26:39.935667Z",
     "iopub.status.idle": "2022-07-22T23:26:39.953035Z",
     "shell.execute_reply": "2022-07-22T23:26:39.952549Z"
    },
    "papermill": {
     "duration": 2.012263,
     "end_time": "2022-07-22T23:26:39.954204",
     "exception": false,
     "start_time": "2022-07-22T23:26:37.941941",
     "status": "completed"
    },
    "tags": []
   },
   "outputs": [
    {
     "data": {
      "text/plain": [
       "1.0"
      ]
     },
     "metadata": {},
     "output_type": "display_data"
    }
   ],
   "source": [
    "_max_val = gene_corrs_df.max().max()  # this captures the diagonal\n",
    "display(_max_val)\n",
    "assert _max_val <= 1.0"
   ]
  },
  {
   "cell_type": "code",
   "execution_count": 39,
   "id": "96d02c44-1fba-47be-8a93-8f2608420b9c",
   "metadata": {
    "execution": {
     "iopub.execute_input": "2022-07-22T23:26:43.937857Z",
     "iopub.status.busy": "2022-07-22T23:26:43.937644Z",
     "iopub.status.idle": "2022-07-22T23:26:43.953228Z",
     "shell.execute_reply": "2022-07-22T23:26:43.952789Z"
    },
    "papermill": {
     "duration": 2.03216,
     "end_time": "2022-07-22T23:26:43.954533",
     "exception": false,
     "start_time": "2022-07-22T23:26:41.922373",
     "status": "completed"
    },
    "tags": []
   },
   "outputs": [],
   "source": [
    "# check upper triangular values\n",
    "assert len(gene_corrs) == int(genes_chr.shape[0] * (genes_chr.shape[0] - 1) / 2)"
   ]
  },
  {
   "cell_type": "code",
   "execution_count": 40,
   "id": "fe283586-c348-40e0-8841-f6d97bfb021c",
   "metadata": {
    "execution": {
     "iopub.execute_input": "2022-07-22T23:26:47.957239Z",
     "iopub.status.busy": "2022-07-22T23:26:47.957068Z",
     "iopub.status.idle": "2022-07-22T23:26:47.976159Z",
     "shell.execute_reply": "2022-07-22T23:26:47.975732Z"
    },
    "papermill": {
     "duration": 2.040266,
     "end_time": "2022-07-22T23:26:47.977330",
     "exception": false,
     "start_time": "2022-07-22T23:26:45.937064",
     "status": "completed"
    },
    "tags": []
   },
   "outputs": [
    {
     "data": {
      "text/plain": [
       "count    3.740100e+04\n",
       "mean     1.298232e-02\n",
       "std      4.575817e-02\n",
       "min      3.123912e-08\n",
       "25%      4.563197e-03\n",
       "50%      7.234812e-03\n",
       "75%      1.045284e-02\n",
       "max      9.835110e-01\n",
       "dtype: float64"
      ]
     },
     "execution_count": 40,
     "metadata": {},
     "output_type": "execute_result"
    }
   ],
   "source": [
    "gene_corrs_flat.describe()"
   ]
  },
  {
   "cell_type": "code",
   "execution_count": 41,
   "id": "b3815678-0f93-4b35-897b-a9d047a2aa78",
   "metadata": {
    "execution": {
     "iopub.execute_input": "2022-07-22T23:26:51.930321Z",
     "iopub.status.busy": "2022-07-22T23:26:51.930113Z",
     "iopub.status.idle": "2022-07-22T23:26:51.949690Z",
     "shell.execute_reply": "2022-07-22T23:26:51.949266Z"
    },
    "papermill": {
     "duration": 2.026835,
     "end_time": "2022-07-22T23:26:51.950920",
     "exception": false,
     "start_time": "2022-07-22T23:26:49.924085",
     "status": "completed"
    },
    "tags": []
   },
   "outputs": [
    {
     "data": {
      "text/plain": [
       "0.00    3.123912e-08\n",
       "0.05    1.678381e-03\n",
       "0.10    2.622395e-03\n",
       "0.15    3.365291e-03\n",
       "0.20    3.991169e-03\n",
       "0.25    4.563197e-03\n",
       "0.30    5.117564e-03\n",
       "0.35    5.654608e-03\n",
       "0.40    6.175040e-03\n",
       "0.45    6.693214e-03\n",
       "0.50    7.234812e-03\n",
       "0.55    7.787914e-03\n",
       "0.60    8.361568e-03\n",
       "0.65    8.975658e-03\n",
       "0.70    9.670719e-03\n",
       "0.75    1.045284e-02\n",
       "0.80    1.136074e-02\n",
       "0.85    1.243787e-02\n",
       "0.90    1.404795e-02\n",
       "0.95    1.757283e-02\n",
       "dtype: float64"
      ]
     },
     "metadata": {},
     "output_type": "display_data"
    }
   ],
   "source": [
    "gene_corrs_quantiles = gene_corrs_flat.quantile(np.arange(0, 1, 0.05))\n",
    "display(gene_corrs_quantiles)"
   ]
  },
  {
   "cell_type": "markdown",
   "id": "87134509-b145-4a10-8bc9-b7e914c2b0fa",
   "metadata": {
    "papermill": {
     "duration": 1.955356,
     "end_time": "2022-07-22T23:26:55.911491",
     "exception": false,
     "start_time": "2022-07-22T23:26:53.956135",
     "status": "completed"
    },
    "tags": []
   },
   "source": [
    "## Positive definiteness"
   ]
  },
  {
   "cell_type": "code",
   "execution_count": 42,
   "id": "07d9a9a1-a4f7-48aa-b916-6d42a8cc6186",
   "metadata": {
    "execution": {
     "iopub.execute_input": "2022-07-22T23:26:59.889961Z",
     "iopub.status.busy": "2022-07-22T23:26:59.889741Z",
     "iopub.status.idle": "2022-07-22T23:26:59.939786Z",
     "shell.execute_reply": "2022-07-22T23:26:59.939372Z"
    },
    "papermill": {
     "duration": 2.05557,
     "end_time": "2022-07-22T23:26:59.941061",
     "exception": false,
     "start_time": "2022-07-22T23:26:57.885491",
     "status": "completed"
    },
    "tags": []
   },
   "outputs": [
    {
     "data": {
      "text/plain": [
       "0"
      ]
     },
     "metadata": {},
     "output_type": "display_data"
    },
    {
     "data": {
      "text/plain": [
       "array([], dtype=float64)"
      ]
     },
     "metadata": {},
     "output_type": "display_data"
    }
   ],
   "source": [
    "# print negative eigenvalues\n",
    "eigs = np.linalg.eigvals(gene_corrs_df.to_numpy())\n",
    "display(len(eigs[eigs < 0]))\n",
    "display(eigs[eigs < 0])"
   ]
  },
  {
   "cell_type": "code",
   "execution_count": 43,
   "id": "6e218436-c3c5-4028-8c94-a4fa6260efce",
   "metadata": {
    "execution": {
     "iopub.execute_input": "2022-07-22T23:27:03.963112Z",
     "iopub.status.busy": "2022-07-22T23:27:03.962907Z",
     "iopub.status.idle": "2022-07-22T23:27:04.005584Z",
     "shell.execute_reply": "2022-07-22T23:27:04.005138Z"
    },
    "papermill": {
     "duration": 2.023383,
     "end_time": "2022-07-22T23:27:04.006720",
     "exception": false,
     "start_time": "2022-07-22T23:27:01.983337",
     "status": "completed"
    },
    "tags": []
   },
   "outputs": [
    {
     "name": "stdout",
     "output_type": "stream",
     "text": [
      "Works!\n"
     ]
    }
   ],
   "source": [
    "try:\n",
    "    chol_mat = np.linalg.cholesky(gene_corrs_df.to_numpy())\n",
    "    cov_inv = np.linalg.inv(chol_mat)\n",
    "    print(\"Works!\")\n",
    "except:\n",
    "    print(\"Cholesky decomposition failed\")"
   ]
  },
  {
   "cell_type": "markdown",
   "id": "8e60a080-edb2-4e9c-b2ef-22961693200c",
   "metadata": {
    "papermill": {
     "duration": 1.956114,
     "end_time": "2022-07-22T23:27:07.964363",
     "exception": false,
     "start_time": "2022-07-22T23:27:06.008249",
     "status": "completed"
    },
    "tags": []
   },
   "source": [
    "## Plot: distribution"
   ]
  },
  {
   "cell_type": "code",
   "execution_count": 44,
   "id": "8301126b-a7d4-4744-9c7d-f0f86eb6f54c",
   "metadata": {
    "execution": {
     "iopub.execute_input": "2022-07-22T23:27:11.976969Z",
     "iopub.status.busy": "2022-07-22T23:27:11.976715Z",
     "iopub.status.idle": "2022-07-22T23:27:16.778193Z",
     "shell.execute_reply": "2022-07-22T23:27:16.777011Z"
    },
    "papermill": {
     "duration": 6.795295,
     "end_time": "2022-07-22T23:27:16.779664",
     "exception": false,
     "start_time": "2022-07-22T23:27:09.984369",
     "status": "completed"
    },
    "tags": []
   },
   "outputs": [
    {
     "data": {
      "image/png": "[encoded data removed]",
      "text/plain": [
       "<Figure size 504x504 with 1 Axes>"
      ]
     },
     "metadata": {
      "needs_background": "light"
     },
     "output_type": "display_data"
    }
   ],
   "source": [
    "with sns.plotting_context(\"paper\", font_scale=1.5):\n",
    "    g = sns.displot(gene_corrs_flat, kde=True, height=7)\n",
    "    g.ax.set_title(\n",
    "        f\"Distribution of gene correlation values in chromosome {CHROMOSOME}\"\n",
    "    )"
   ]
  },
  {
   "cell_type": "markdown",
   "id": "cbd52bca-d878-4a2f-b684-5c83aa3038d4",
   "metadata": {
    "papermill": {
     "duration": 1.989217,
     "end_time": "2022-07-22T23:27:20.803922",
     "exception": false,
     "start_time": "2022-07-22T23:27:18.814705",
     "status": "completed"
    },
    "tags": []
   },
   "source": [
    "## Plot: heatmap"
   ]
  },
  {
   "cell_type": "code",
   "execution_count": 45,
   "id": "d03fe63a-c7b2-4fb9-a53c-db362ce843c9",
   "metadata": {
    "execution": {
     "iopub.execute_input": "2022-07-22T23:27:24.792447Z",
     "iopub.status.busy": "2022-07-22T23:27:24.792221Z",
     "iopub.status.idle": "2022-07-22T23:27:24.810041Z",
     "shell.execute_reply": "2022-07-22T23:27:24.809630Z"
    },
    "papermill": {
     "duration": 2.008989,
     "end_time": "2022-07-22T23:27:24.811194",
     "exception": false,
     "start_time": "2022-07-22T23:27:22.802205",
     "status": "completed"
    },
    "tags": []
   },
   "outputs": [
    {
     "data": {
      "text/plain": [
       "'0.0 / 0.05'"
      ]
     },
     "metadata": {},
     "output_type": "display_data"
    }
   ],
   "source": [
    "vmin_val = min(0.00, gene_corrs_quantiles[0.10])\n",
    "vmax_val = max(0.05, gene_corrs_quantiles[0.90])\n",
    "display(f\"{vmin_val} / {vmax_val}\")"
   ]
  },
  {
   "cell_type": "code",
   "execution_count": 46,
   "id": "dc41b70b-5bcc-4d9e-9f33-a22c4a94dab5",
   "metadata": {
    "execution": {
     "iopub.execute_input": "2022-07-22T23:27:28.826098Z",
     "iopub.status.busy": "2022-07-22T23:27:28.825642Z",
     "iopub.status.idle": "2022-07-22T23:27:29.060514Z",
     "shell.execute_reply": "2022-07-22T23:27:29.060056Z"
    },
    "papermill": {
     "duration": 2.234963,
     "end_time": "2022-07-22T23:27:29.063678",
     "exception": false,
     "start_time": "2022-07-22T23:27:26.828715",
     "status": "completed"
    },
    "tags": []
   },
   "outputs": [
    {
     "data": {
      "text/plain": [
       "Text(0.5, 1.0, 'Gene correlations in chromosome 16')"
      ]
     },
     "execution_count": 46,
     "metadata": {},
     "output_type": "execute_result"
    },
    {
     "data": {
      "image/png": "[encoded data removed]",
      "text/plain": [
       "<Figure size 720x720 with 2 Axes>"
      ]
     },
     "metadata": {
      "needs_background": "light"
     },
     "output_type": "display_data"
    }
   ],
   "source": [
    "f, ax = plt.subplots(figsize=(10, 10))\n",
    "sns.heatmap(\n",
    "    gene_corrs_df,\n",
    "    xticklabels=False,\n",
    "    yticklabels=False,\n",
    "    square=True,\n",
    "    vmin=vmin_val,\n",
    "    vmax=vmax_val,\n",
    "    cmap=\"rocket_r\",\n",
    "    ax=ax,\n",
    ")\n",
    "ax.set_title(f\"Gene correlations in chromosome {CHROMOSOME}\")"
   ]
  },
  {
   "cell_type": "code",
   "execution_count": null,
   "id": "b25e3ead",
   "metadata": {
    "papermill": {
     "duration": 1.954565,
     "end_time": "2022-07-22T23:27:32.980483",
     "exception": false,
     "start_time": "2022-07-22T23:27:31.025918",
     "status": "completed"
    },
    "tags": []
   },
   "outputs": [],
   "source": []
  }
 ],
 "metadata": {
  "jupytext": {
   "cell_metadata_filter": "all,-execution,-papermill,-trusted",
   "formats": "ipynb,py//py:percent"
  },
  "kernelspec": {
   "display_name": "Python 3 (ipykernel)",
   "language": "python",
   "name": "python3"
  },
  "language_info": {
   "codemirror_mode": {
    "name": "ipython",
    "version": 3
   },
   "file_extension": ".py",
   "mimetype": "text/x-python",
   "name": "python",
   "nbconvert_exporter": "python",
   "pygments_lexer": "ipython3",
   "version": "3.8.13"
  },
  "papermill": {
   "default_parameters": {},
   "duration": 2904.459297,
   "end_time": "2022-07-22T23:27:37.848354",
   "environment_variables": {},
   "exception": null,
   "input_path": "nbs/15_gsa_gls/10-gene_expr_correlations.ipynb",
   "output_path": "nbs/15_gsa_gls/gene_corrs/cohorts/1000g_eur/1000g/mashr/10-gene_expr_correlations-chr16.run.ipynb",
   "parameters": {
    "CHROMOSOME": 16,
    "COHORT_NAME": "1000G_EUR",
    "EQTL_MODEL": "MASHR",
    "REFERENCE_PANEL": "1000G"
   },
   "start_time": "2022-07-22T22:39:13.389057",
   "version": "2.2.2"
  }
 },
 "nbformat": 4,
 "nbformat_minor": 5
}
