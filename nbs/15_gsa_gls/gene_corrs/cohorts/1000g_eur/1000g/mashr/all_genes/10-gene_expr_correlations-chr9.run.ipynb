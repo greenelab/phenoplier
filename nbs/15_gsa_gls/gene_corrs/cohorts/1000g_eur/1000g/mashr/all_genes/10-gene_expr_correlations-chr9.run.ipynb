{
 "cells": [
  {
   "cell_type": "markdown",
   "id": "7a6632fb",
   "metadata": {
    "papermill": {
     "duration": 0.006912,
     "end_time": "2022-07-22T19:59:47.562966",
     "exception": false,
     "start_time": "2022-07-22T19:59:47.556054",
     "status": "completed"
    },
    "tags": []
   },
   "source": [
    "# Description"
   ]
  },
  {
   "cell_type": "markdown",
   "id": "7097c346",
   "metadata": {
    "papermill": {
     "duration": 0.006327,
     "end_time": "2022-07-22T19:59:47.575573",
     "exception": false,
     "start_time": "2022-07-22T19:59:47.569246",
     "status": "completed"
    },
    "tags": []
   },
   "source": [
    "(Please, take a look at the README.md file in this directory for instructions on how to run this notebook)\n",
    "\n",
    "This notebook computes predicted expression correlations between all genes in the MultiPLIER models.\n",
    "\n",
    "It also has a parameter set for papermill to run on a single chromosome to run in parallel (see under `Settings` below).\n",
    "\n",
    "This notebook is not directly run. See README.md."
   ]
  },
  {
   "cell_type": "markdown",
   "id": "c61d8427",
   "metadata": {
    "papermill": {
     "duration": 0.006544,
     "end_time": "2022-07-22T19:59:47.588291",
     "exception": false,
     "start_time": "2022-07-22T19:59:47.581747",
     "status": "completed"
    },
    "tags": []
   },
   "source": [
    "# Modules"
   ]
  },
  {
   "cell_type": "code",
   "execution_count": 1,
   "id": "bbc0234f",
   "metadata": {
    "execution": {
     "iopub.execute_input": "2022-07-22T19:59:47.601569Z",
     "iopub.status.busy": "2022-07-22T19:59:47.601328Z",
     "iopub.status.idle": "2022-07-22T19:59:47.615514Z",
     "shell.execute_reply": "2022-07-22T19:59:47.615135Z"
    },
    "papermill": {
     "duration": 0.02249,
     "end_time": "2022-07-22T19:59:47.616859",
     "exception": false,
     "start_time": "2022-07-22T19:59:47.594369",
     "status": "completed"
    },
    "tags": []
   },
   "outputs": [],
   "source": [
    "%load_ext autoreload\n",
    "%autoreload 2"
   ]
  },
  {
   "cell_type": "code",
   "execution_count": 2,
   "id": "1d5f5a59",
   "metadata": {
    "execution": {
     "iopub.execute_input": "2022-07-22T19:59:47.657548Z",
     "iopub.status.busy": "2022-07-22T19:59:47.657331Z",
     "iopub.status.idle": "2022-07-22T19:59:48.568176Z",
     "shell.execute_reply": "2022-07-22T19:59:48.567692Z"
    },
    "papermill": {
     "duration": 0.919562,
     "end_time": "2022-07-22T19:59:48.569488",
     "exception": false,
     "start_time": "2022-07-22T19:59:47.649926",
     "status": "completed"
    },
    "tags": []
   },
   "outputs": [],
   "source": [
    "from random import sample, seed\n",
    "import warnings\n",
    "from pathlib import Path\n",
    "import pickle\n",
    "import traceback\n",
    "\n",
    "import numpy as np\n",
    "from scipy.spatial.distance import squareform\n",
    "import pandas as pd\n",
    "from tqdm import tqdm\n",
    "import matplotlib.pyplot as plt\n",
    "import seaborn as sns\n",
    "\n",
    "import conf\n",
    "from entity import Gene"
   ]
  },
  {
   "cell_type": "markdown",
   "id": "1eac24b5",
   "metadata": {
    "papermill": {
     "duration": 0.005644,
     "end_time": "2022-07-22T19:59:48.580999",
     "exception": false,
     "start_time": "2022-07-22T19:59:48.575355",
     "status": "completed"
    },
    "tags": []
   },
   "source": [
    "# Settings"
   ]
  },
  {
   "cell_type": "code",
   "execution_count": 3,
   "id": "ca4560ba",
   "metadata": {
    "execution": {
     "iopub.execute_input": "2022-07-22T19:59:48.594072Z",
     "iopub.status.busy": "2022-07-22T19:59:48.593859Z",
     "iopub.status.idle": "2022-07-22T19:59:48.609065Z",
     "shell.execute_reply": "2022-07-22T19:59:48.608691Z"
    },
    "papermill": {
     "duration": 0.023339,
     "end_time": "2022-07-22T19:59:48.610333",
     "exception": false,
     "start_time": "2022-07-22T19:59:48.586994",
     "status": "completed"
    },
    "tags": [
     "parameters"
    ]
   },
   "outputs": [],
   "source": [
    "# a cohort name (it could be something like UK_BIOBANK, etc)\n",
    "COHORT_NAME = None\n",
    "\n",
    "# reference panel such as 1000G or GTEX_V8\n",
    "REFERENCE_PANEL = None\n",
    "\n",
    "# predictions models such as MASHR or ELASTIC_NET\n",
    "EQTL_MODEL = None\n",
    "\n",
    "# this is the default value used in S-MultiXcan to select the\n",
    "# top principal components of the expression correlation matrix\n",
    "SMULTIXCAN_CONDITION_NUMBER = 30\n",
    "\n",
    "# specifies a single chromosome value\n",
    "CHROMOSOME = None\n",
    "\n",
    "# If True, computes the correlation between closeby genes only;\n",
    "# otherwise, it computes correlations for all genes in a chromosome\n",
    "COMPUTE_CORRELATIONS_WITHIN_DISTANCE = False\n",
    "\n",
    "# if True, then it will continue if a gene pair correlation fails,\n",
    "# printing the warning/error for debugging. If False, any warning/error\n",
    "# will be thrown\n",
    "DEBUG_MODE = False"
   ]
  },
  {
   "cell_type": "code",
   "execution_count": 4,
   "id": "9c467e54",
   "metadata": {
    "execution": {
     "iopub.execute_input": "2022-07-22T19:59:48.623002Z",
     "iopub.status.busy": "2022-07-22T19:59:48.622806Z",
     "iopub.status.idle": "2022-07-22T19:59:48.636694Z",
     "shell.execute_reply": "2022-07-22T19:59:48.636313Z"
    },
    "papermill": {
     "duration": 0.021599,
     "end_time": "2022-07-22T19:59:48.637991",
     "exception": false,
     "start_time": "2022-07-22T19:59:48.616392",
     "status": "completed"
    },
    "tags": [
     "injected-parameters"
    ]
   },
   "outputs": [],
   "source": [
    "# Parameters\n",
    "COHORT_NAME = \"1000G_EUR\"\n",
    "REFERENCE_PANEL = \"1000G\"\n",
    "EQTL_MODEL = \"MASHR\"\n",
    "CHROMOSOME = 9\n"
   ]
  },
  {
   "cell_type": "code",
   "execution_count": 5,
   "id": "3190631f-27fc-480f-b18e-571d580425a5",
   "metadata": {
    "execution": {
     "iopub.execute_input": "2022-07-22T19:59:48.650462Z",
     "iopub.status.busy": "2022-07-22T19:59:48.650197Z",
     "iopub.status.idle": "2022-07-22T19:59:48.667012Z",
     "shell.execute_reply": "2022-07-22T19:59:48.666601Z"
    },
    "papermill": {
     "duration": 0.024681,
     "end_time": "2022-07-22T19:59:48.668449",
     "exception": false,
     "start_time": "2022-07-22T19:59:48.643768",
     "status": "completed"
    },
    "tags": []
   },
   "outputs": [
    {
     "data": {
      "text/plain": [
       "'Cohort name: 1000g_eur'"
      ]
     },
     "metadata": {},
     "output_type": "display_data"
    }
   ],
   "source": [
    "assert COHORT_NAME is not None and len(COHORT_NAME) > 0, \"A cohort name must be given\"\n",
    "\n",
    "COHORT_NAME = COHORT_NAME.lower()\n",
    "display(f\"Cohort name: {COHORT_NAME}\")"
   ]
  },
  {
   "cell_type": "code",
   "execution_count": 6,
   "id": "f53ba19b-0f93-4fa2-a047-63b375939d1a",
   "metadata": {
    "execution": {
     "iopub.execute_input": "2022-07-22T19:59:48.682440Z",
     "iopub.status.busy": "2022-07-22T19:59:48.682262Z",
     "iopub.status.idle": "2022-07-22T19:59:48.704944Z",
     "shell.execute_reply": "2022-07-22T19:59:48.704490Z"
    },
    "papermill": {
     "duration": 0.031969,
     "end_time": "2022-07-22T19:59:48.706450",
     "exception": false,
     "start_time": "2022-07-22T19:59:48.674481",
     "status": "completed"
    },
    "tags": []
   },
   "outputs": [
    {
     "data": {
      "text/plain": [
       "'Reference panel: 1000G'"
      ]
     },
     "metadata": {},
     "output_type": "display_data"
    }
   ],
   "source": [
    "assert (\n",
    "    REFERENCE_PANEL is not None and len(REFERENCE_PANEL) > 0\n",
    "), \"A reference panel must be given\"\n",
    "\n",
    "display(f\"Reference panel: {REFERENCE_PANEL}\")"
   ]
  },
  {
   "cell_type": "code",
   "execution_count": 7,
   "id": "e024d130-c139-429a-9c6e-ccf149e297b0",
   "metadata": {
    "execution": {
     "iopub.execute_input": "2022-07-22T19:59:48.721083Z",
     "iopub.status.busy": "2022-07-22T19:59:48.720869Z",
     "iopub.status.idle": "2022-07-22T19:59:48.740437Z",
     "shell.execute_reply": "2022-07-22T19:59:48.740008Z"
    },
    "papermill": {
     "duration": 0.028118,
     "end_time": "2022-07-22T19:59:48.741714",
     "exception": false,
     "start_time": "2022-07-22T19:59:48.713596",
     "status": "completed"
    },
    "tags": []
   },
   "outputs": [
    {
     "data": {
      "text/plain": [
       "'eQTL model: MASHR) / mashr_'"
      ]
     },
     "metadata": {},
     "output_type": "display_data"
    }
   ],
   "source": [
    "assert (\n",
    "    EQTL_MODEL is not None and len(EQTL_MODEL) > 0\n",
    "), \"A prediction/eQTL model must be given\"\n",
    "\n",
    "EQTL_MODEL_FILES_PREFIX = conf.PHENOMEXCAN[\"PREDICTION_MODELS\"][f\"{EQTL_MODEL}_PREFIX\"]\n",
    "display(f\"eQTL model: {EQTL_MODEL}) / {EQTL_MODEL_FILES_PREFIX}\")"
   ]
  },
  {
   "cell_type": "code",
   "execution_count": 8,
   "id": "552a7f63-a18c-4d3e-bb6a-94f99b431291",
   "metadata": {
    "execution": {
     "iopub.execute_input": "2022-07-22T19:59:48.755814Z",
     "iopub.status.busy": "2022-07-22T19:59:48.755349Z",
     "iopub.status.idle": "2022-07-22T19:59:48.770618Z",
     "shell.execute_reply": "2022-07-22T19:59:48.770224Z"
    },
    "papermill": {
     "duration": 0.024241,
     "end_time": "2022-07-22T19:59:48.772336",
     "exception": false,
     "start_time": "2022-07-22T19:59:48.748095",
     "status": "completed"
    },
    "tags": []
   },
   "outputs": [
    {
     "data": {
      "text/plain": [
       "'S-MultiXcan condition number: 30'"
      ]
     },
     "metadata": {},
     "output_type": "display_data"
    }
   ],
   "source": [
    "assert (\n",
    "    SMULTIXCAN_CONDITION_NUMBER is not None and SMULTIXCAN_CONDITION_NUMBER > 0\n",
    "), \"The S-MultiXcan condition number (positive integer) must be given\"\n",
    "\n",
    "display(f\"S-MultiXcan condition number: {SMULTIXCAN_CONDITION_NUMBER}\")"
   ]
  },
  {
   "cell_type": "code",
   "execution_count": 9,
   "id": "f34a336f-548e-4afe-8955-90eaea4f42c6",
   "metadata": {
    "execution": {
     "iopub.execute_input": "2022-07-22T19:59:48.785945Z",
     "iopub.status.busy": "2022-07-22T19:59:48.785490Z",
     "iopub.status.idle": "2022-07-22T19:59:48.799889Z",
     "shell.execute_reply": "2022-07-22T19:59:48.799469Z"
    },
    "papermill": {
     "duration": 0.022383,
     "end_time": "2022-07-22T19:59:48.801073",
     "exception": false,
     "start_time": "2022-07-22T19:59:48.778690",
     "status": "completed"
    },
    "tags": []
   },
   "outputs": [
    {
     "data": {
      "text/plain": [
       "'Working on chromosome 9'"
      ]
     },
     "metadata": {},
     "output_type": "display_data"
    }
   ],
   "source": [
    "assert CHROMOSOME is not None and (\n",
    "    1 <= CHROMOSOME <= 22\n",
    "), \"You have to select one chromosome (format: number between 1 and 22)\"\n",
    "\n",
    "CHROMOSOME = str(CHROMOSOME)\n",
    "display(f\"Working on chromosome {CHROMOSOME}\")"
   ]
  },
  {
   "cell_type": "code",
   "execution_count": 10,
   "id": "ab8e96e8-06b5-4363-9dcd-dc4d78cc27f7",
   "metadata": {
    "execution": {
     "iopub.execute_input": "2022-07-22T19:59:48.814376Z",
     "iopub.status.busy": "2022-07-22T19:59:48.814176Z",
     "iopub.status.idle": "2022-07-22T19:59:48.828605Z",
     "shell.execute_reply": "2022-07-22T19:59:48.828132Z"
    },
    "papermill": {
     "duration": 0.022488,
     "end_time": "2022-07-22T19:59:48.829791",
     "exception": false,
     "start_time": "2022-07-22T19:59:48.807303",
     "status": "completed"
    },
    "tags": []
   },
   "outputs": [
    {
     "data": {
      "text/plain": [
       "'Compute correlation within distance False'"
      ]
     },
     "metadata": {},
     "output_type": "display_data"
    }
   ],
   "source": [
    "display(f\"Compute correlation within distance {COMPUTE_CORRELATIONS_WITHIN_DISTANCE}\")"
   ]
  },
  {
   "cell_type": "code",
   "execution_count": 11,
   "id": "396392dc-0340-4540-9b02-e182b833f909",
   "metadata": {
    "execution": {
     "iopub.execute_input": "2022-07-22T19:59:48.843379Z",
     "iopub.status.busy": "2022-07-22T19:59:48.843089Z",
     "iopub.status.idle": "2022-07-22T19:59:48.860117Z",
     "shell.execute_reply": "2022-07-22T19:59:48.859739Z"
    },
    "papermill": {
     "duration": 0.025016,
     "end_time": "2022-07-22T19:59:48.861357",
     "exception": false,
     "start_time": "2022-07-22T19:59:48.836341",
     "status": "completed"
    },
    "tags": []
   },
   "outputs": [
    {
     "data": {
      "text/plain": [
       "'Using output dir base: /opt/data/results/gls/gene_corrs/cohorts/1000g_eur/1000g/mashr'"
      ]
     },
     "metadata": {},
     "output_type": "display_data"
    }
   ],
   "source": [
    "OUTPUT_DIR_BASE = (\n",
    "    conf.RESULTS[\"GLS\"]\n",
    "    / \"gene_corrs\"\n",
    "    / \"cohorts\"\n",
    "    / COHORT_NAME\n",
    "    / REFERENCE_PANEL.lower()\n",
    "    / EQTL_MODEL.lower()\n",
    ")\n",
    "OUTPUT_DIR_BASE.mkdir(parents=True, exist_ok=True)\n",
    "\n",
    "display(f\"Using output dir base: {OUTPUT_DIR_BASE}\")"
   ]
  },
  {
   "cell_type": "code",
   "execution_count": 12,
   "id": "974b4bb1-aa98-4e30-b221-7cd034ad3833",
   "metadata": {
    "execution": {
     "iopub.execute_input": "2022-07-22T19:59:48.875108Z",
     "iopub.status.busy": "2022-07-22T19:59:48.874912Z",
     "iopub.status.idle": "2022-07-22T19:59:48.889646Z",
     "shell.execute_reply": "2022-07-22T19:59:48.889236Z"
    },
    "papermill": {
     "duration": 0.022927,
     "end_time": "2022-07-22T19:59:48.890798",
     "exception": false,
     "start_time": "2022-07-22T19:59:48.867871",
     "status": "completed"
    },
    "tags": []
   },
   "outputs": [
    {
     "data": {
      "text/plain": [
       "PosixPath('/opt/data/results/gls/gene_corrs/cohorts/1000g_eur')"
      ]
     },
     "metadata": {},
     "output_type": "display_data"
    }
   ],
   "source": [
    "INPUT_DIR = conf.RESULTS[\"GLS\"] / \"gene_corrs\" / \"cohorts\" / COHORT_NAME\n",
    "assert INPUT_DIR.exists()\n",
    "\n",
    "display(INPUT_DIR)"
   ]
  },
  {
   "cell_type": "markdown",
   "id": "d2ba085e",
   "metadata": {
    "papermill": {
     "duration": 0.007045,
     "end_time": "2022-07-22T19:59:48.905104",
     "exception": false,
     "start_time": "2022-07-22T19:59:48.898059",
     "status": "completed"
    },
    "tags": []
   },
   "source": [
    "# Load data"
   ]
  },
  {
   "cell_type": "markdown",
   "id": "7dcb8db7",
   "metadata": {
    "papermill": {
     "duration": 0.006602,
     "end_time": "2022-07-22T19:59:48.918751",
     "exception": false,
     "start_time": "2022-07-22T19:59:48.912149",
     "status": "completed"
    },
    "tags": []
   },
   "source": [
    "## GWAS variants"
   ]
  },
  {
   "cell_type": "code",
   "execution_count": 13,
   "id": "29434c4e-8cd3-4b9b-82e4-b5a251d9dd19",
   "metadata": {
    "execution": {
     "iopub.execute_input": "2022-07-22T19:59:48.932985Z",
     "iopub.status.busy": "2022-07-22T19:59:48.932786Z",
     "iopub.status.idle": "2022-07-22T19:59:51.520958Z",
     "shell.execute_reply": "2022-07-22T19:59:51.520426Z"
    },
    "papermill": {
     "duration": 2.597015,
     "end_time": "2022-07-22T19:59:51.522523",
     "exception": false,
     "start_time": "2022-07-22T19:59:48.925508",
     "status": "completed"
    },
    "tags": []
   },
   "outputs": [],
   "source": [
    "with open(INPUT_DIR / \"gwas_variant_ids.pkl\", \"rb\") as handle:\n",
    "    gwas_variants_ids_set = pickle.load(handle)"
   ]
  },
  {
   "cell_type": "code",
   "execution_count": 14,
   "id": "b9d9dec2-4a76-4bf9-bde2-e24c95acb8a0",
   "metadata": {
    "execution": {
     "iopub.execute_input": "2022-07-22T19:59:51.543934Z",
     "iopub.status.busy": "2022-07-22T19:59:51.543699Z",
     "iopub.status.idle": "2022-07-22T19:59:51.560435Z",
     "shell.execute_reply": "2022-07-22T19:59:51.560001Z"
    },
    "papermill": {
     "duration": 0.030921,
     "end_time": "2022-07-22T19:59:51.561781",
     "exception": false,
     "start_time": "2022-07-22T19:59:51.530860",
     "status": "completed"
    },
    "tags": []
   },
   "outputs": [
    {
     "data": {
      "text/plain": [
       "8339505"
      ]
     },
     "execution_count": 14,
     "metadata": {},
     "output_type": "execute_result"
    }
   ],
   "source": [
    "len(gwas_variants_ids_set)"
   ]
  },
  {
   "cell_type": "code",
   "execution_count": 15,
   "id": "4235b06a-6034-4ee4-a0a3-2ae35d122418",
   "metadata": {
    "execution": {
     "iopub.execute_input": "2022-07-22T19:59:51.576830Z",
     "iopub.status.busy": "2022-07-22T19:59:51.576667Z",
     "iopub.status.idle": "2022-07-22T19:59:52.067319Z",
     "shell.execute_reply": "2022-07-22T19:59:52.066875Z"
    },
    "papermill": {
     "duration": 0.49983,
     "end_time": "2022-07-22T19:59:52.068822",
     "exception": false,
     "start_time": "2022-07-22T19:59:51.568992",
     "status": "completed"
    },
    "tags": []
   },
   "outputs": [
    {
     "data": {
      "text/plain": [
       "['chr3_85566434_A_G_b38',\n",
       " 'chr2_229441077_G_A_b38',\n",
       " 'chr2_81364177_A_G_b38',\n",
       " 'chr15_44370973_C_T_b38',\n",
       " 'chr9_877017_A_G_b38']"
      ]
     },
     "execution_count": 15,
     "metadata": {},
     "output_type": "execute_result"
    }
   ],
   "source": [
    "list(gwas_variants_ids_set)[:5]"
   ]
  },
  {
   "cell_type": "markdown",
   "id": "07866999-2305-41f9-a144-e69c9122c212",
   "metadata": {
    "papermill": {
     "duration": 0.007694,
     "end_time": "2022-07-22T19:59:52.084535",
     "exception": false,
     "start_time": "2022-07-22T19:59:52.076841",
     "status": "completed"
    },
    "tags": []
   },
   "source": [
    "## S-PrediXcan tissue models"
   ]
  },
  {
   "cell_type": "code",
   "execution_count": 16,
   "id": "780611d9-77c8-405f-90a4-f271f7b09397",
   "metadata": {
    "execution": {
     "iopub.execute_input": "2022-07-22T19:59:52.101193Z",
     "iopub.status.busy": "2022-07-22T19:59:52.101013Z",
     "iopub.status.idle": "2022-07-22T19:59:52.859845Z",
     "shell.execute_reply": "2022-07-22T19:59:52.859418Z"
    },
    "papermill": {
     "duration": 0.768531,
     "end_time": "2022-07-22T19:59:52.861180",
     "exception": false,
     "start_time": "2022-07-22T19:59:52.092649",
     "status": "completed"
    },
    "tags": []
   },
   "outputs": [],
   "source": [
    "spredixcan_genes_models = pd.read_pickle(INPUT_DIR / \"gene_tissues.pkl\").set_index(\n",
    "    \"gene_id\"\n",
    ")"
   ]
  },
  {
   "cell_type": "code",
   "execution_count": 17,
   "id": "726dd1f6-9557-4225-91fa-b3b879ea96e1",
   "metadata": {
    "execution": {
     "iopub.execute_input": "2022-07-22T19:59:52.875605Z",
     "iopub.status.busy": "2022-07-22T19:59:52.875399Z",
     "iopub.status.idle": "2022-07-22T19:59:52.889996Z",
     "shell.execute_reply": "2022-07-22T19:59:52.889582Z"
    },
    "papermill": {
     "duration": 0.023009,
     "end_time": "2022-07-22T19:59:52.891157",
     "exception": false,
     "start_time": "2022-07-22T19:59:52.868148",
     "status": "completed"
    },
    "tags": []
   },
   "outputs": [
    {
     "data": {
      "text/plain": [
       "(22314, 2)"
      ]
     },
     "execution_count": 17,
     "metadata": {},
     "output_type": "execute_result"
    }
   ],
   "source": [
    "spredixcan_genes_models.shape"
   ]
  },
  {
   "cell_type": "code",
   "execution_count": 18,
   "id": "944a1b48-222c-4eb0-b252-b9de2cbca215",
   "metadata": {
    "execution": {
     "iopub.execute_input": "2022-07-22T19:59:52.906813Z",
     "iopub.status.busy": "2022-07-22T19:59:52.906616Z",
     "iopub.status.idle": "2022-07-22T19:59:52.926856Z",
     "shell.execute_reply": "2022-07-22T19:59:52.926411Z"
    },
    "papermill": {
     "duration": 0.029209,
     "end_time": "2022-07-22T19:59:52.928158",
     "exception": false,
     "start_time": "2022-07-22T19:59:52.898949",
     "status": "completed"
    },
    "tags": []
   },
   "outputs": [
    {
     "data": {
      "text/html": [
       "<div>\n",
       "<style scoped>\n",
       "    .dataframe tbody tr th:only-of-type {\n",
       "        vertical-align: middle;\n",
       "    }\n",
       "\n",
       "    .dataframe tbody tr th {\n",
       "        vertical-align: top;\n",
       "    }\n",
       "\n",
       "    .dataframe thead th {\n",
       "        text-align: right;\n",
       "    }\n",
       "</style>\n",
       "<table border=\"1\" class=\"dataframe\">\n",
       "  <thead>\n",
       "    <tr style=\"text-align: right;\">\n",
       "      <th></th>\n",
       "      <th>gene_name</th>\n",
       "      <th>tissue</th>\n",
       "    </tr>\n",
       "    <tr>\n",
       "      <th>gene_id</th>\n",
       "      <th></th>\n",
       "      <th></th>\n",
       "    </tr>\n",
       "  </thead>\n",
       "  <tbody>\n",
       "    <tr>\n",
       "      <th>ENSG00000000419</th>\n",
       "      <td>DPM1</td>\n",
       "      <td>(Brain_Hypothalamus, Brain_Substantia_nigra)</td>\n",
       "    </tr>\n",
       "    <tr>\n",
       "      <th>ENSG00000000457</th>\n",
       "      <td>SCYL3</td>\n",
       "      <td>(Liver, Vagina, Brain_Substantia_nigra, Brain_...</td>\n",
       "    </tr>\n",
       "    <tr>\n",
       "      <th>ENSG00000000460</th>\n",
       "      <td>C1orf112</td>\n",
       "      <td>(Vagina, Brain_Substantia_nigra, Brain_Hippoca...</td>\n",
       "    </tr>\n",
       "    <tr>\n",
       "      <th>ENSG00000000938</th>\n",
       "      <td>FGR</td>\n",
       "      <td>(Liver, Brain_Hippocampus, Brain_Caudate_basal...</td>\n",
       "    </tr>\n",
       "    <tr>\n",
       "      <th>ENSG00000000971</th>\n",
       "      <td>CFH</td>\n",
       "      <td>(Brain_Substantia_nigra, Brain_Hippocampus, Ov...</td>\n",
       "    </tr>\n",
       "  </tbody>\n",
       "</table>\n",
       "</div>"
      ],
      "text/plain": [
       "                gene_name                                             tissue\n",
       "gene_id                                                                     \n",
       "ENSG00000000419      DPM1       (Brain_Hypothalamus, Brain_Substantia_nigra)\n",
       "ENSG00000000457     SCYL3  (Liver, Vagina, Brain_Substantia_nigra, Brain_...\n",
       "ENSG00000000460  C1orf112  (Vagina, Brain_Substantia_nigra, Brain_Hippoca...\n",
       "ENSG00000000938       FGR  (Liver, Brain_Hippocampus, Brain_Caudate_basal...\n",
       "ENSG00000000971       CFH  (Brain_Substantia_nigra, Brain_Hippocampus, Ov..."
      ]
     },
     "execution_count": 18,
     "metadata": {},
     "output_type": "execute_result"
    }
   ],
   "source": [
    "spredixcan_genes_models.head()"
   ]
  },
  {
   "cell_type": "code",
   "execution_count": 19,
   "id": "d1c11bb1-be0b-4f40-b360-633d6827109f",
   "metadata": {
    "execution": {
     "iopub.execute_input": "2022-07-22T19:59:52.943219Z",
     "iopub.status.busy": "2022-07-22T19:59:52.943021Z",
     "iopub.status.idle": "2022-07-22T19:59:52.958971Z",
     "shell.execute_reply": "2022-07-22T19:59:52.958554Z"
    },
    "papermill": {
     "duration": 0.025048,
     "end_time": "2022-07-22T19:59:52.960222",
     "exception": false,
     "start_time": "2022-07-22T19:59:52.935174",
     "status": "completed"
    },
    "tags": []
   },
   "outputs": [],
   "source": [
    "assert spredixcan_genes_models.index.is_unique"
   ]
  },
  {
   "cell_type": "markdown",
   "id": "6caf9d10-eda8-4ad2-8811-a983aa77a25a",
   "metadata": {
    "papermill": {
     "duration": 0.006849,
     "end_time": "2022-07-22T19:59:52.973977",
     "exception": false,
     "start_time": "2022-07-22T19:59:52.967128",
     "status": "completed"
    },
    "tags": []
   },
   "source": [
    "## Get common genes"
   ]
  },
  {
   "cell_type": "code",
   "execution_count": 20,
   "id": "f8d1e317-1cc8-4bdf-bbe9-c3b0a5478359",
   "metadata": {
    "execution": {
     "iopub.execute_input": "2022-07-22T19:59:52.989857Z",
     "iopub.status.busy": "2022-07-22T19:59:52.989569Z",
     "iopub.status.idle": "2022-07-22T19:59:53.005649Z",
     "shell.execute_reply": "2022-07-22T19:59:53.005138Z"
    },
    "papermill": {
     "duration": 0.024908,
     "end_time": "2022-07-22T19:59:53.006978",
     "exception": false,
     "start_time": "2022-07-22T19:59:52.982070",
     "status": "completed"
    },
    "tags": []
   },
   "outputs": [],
   "source": [
    "with open(INPUT_DIR / \"common_genes.pkl\", \"rb\") as handle:\n",
    "    common_genes = pickle.load(handle)"
   ]
  },
  {
   "cell_type": "code",
   "execution_count": 21,
   "id": "ce9506aa-2f38-4e46-b9c2-84d750fac0da",
   "metadata": {
    "execution": {
     "iopub.execute_input": "2022-07-22T19:59:53.022153Z",
     "iopub.status.busy": "2022-07-22T19:59:53.021962Z",
     "iopub.status.idle": "2022-07-22T19:59:53.036222Z",
     "shell.execute_reply": "2022-07-22T19:59:53.035789Z"
    },
    "papermill": {
     "duration": 0.022927,
     "end_time": "2022-07-22T19:59:53.037397",
     "exception": false,
     "start_time": "2022-07-22T19:59:53.014470",
     "status": "completed"
    },
    "tags": []
   },
   "outputs": [
    {
     "data": {
      "text/plain": [
       "6444"
      ]
     },
     "execution_count": 21,
     "metadata": {},
     "output_type": "execute_result"
    }
   ],
   "source": [
    "len(common_genes)"
   ]
  },
  {
   "cell_type": "code",
   "execution_count": 22,
   "id": "f525a698-506a-48e0-9aee-1aca62def5dd",
   "metadata": {
    "execution": {
     "iopub.execute_input": "2022-07-22T19:59:53.053006Z",
     "iopub.status.busy": "2022-07-22T19:59:53.052810Z",
     "iopub.status.idle": "2022-07-22T19:59:53.069206Z",
     "shell.execute_reply": "2022-07-22T19:59:53.068794Z"
    },
    "papermill": {
     "duration": 0.025743,
     "end_time": "2022-07-22T19:59:53.070350",
     "exception": false,
     "start_time": "2022-07-22T19:59:53.044607",
     "status": "completed"
    },
    "tags": []
   },
   "outputs": [
    {
     "data": {
      "text/plain": [
       "['A2M', 'AAAS', 'AANAT', 'AARS', 'AARS2']"
      ]
     },
     "execution_count": 22,
     "metadata": {},
     "output_type": "execute_result"
    }
   ],
   "source": [
    "sorted(list(common_genes))[:5]"
   ]
  },
  {
   "cell_type": "markdown",
   "id": "a5b5092c-a13e-47c4-a92a-480fcc08f3ae",
   "metadata": {
    "papermill": {
     "duration": 0.007063,
     "end_time": "2022-07-22T19:59:53.084626",
     "exception": false,
     "start_time": "2022-07-22T19:59:53.077563",
     "status": "completed"
    },
    "tags": []
   },
   "source": [
    "## Gene info"
   ]
  },
  {
   "cell_type": "code",
   "execution_count": 23,
   "id": "7d6bb224-88e9-4358-ac10-43a41d92cdad",
   "metadata": {
    "execution": {
     "iopub.execute_input": "2022-07-22T19:59:53.099467Z",
     "iopub.status.busy": "2022-07-22T19:59:53.099223Z",
     "iopub.status.idle": "2022-07-22T19:59:53.116354Z",
     "shell.execute_reply": "2022-07-22T19:59:53.115864Z"
    },
    "papermill": {
     "duration": 0.026135,
     "end_time": "2022-07-22T19:59:53.117650",
     "exception": false,
     "start_time": "2022-07-22T19:59:53.091515",
     "status": "completed"
    },
    "tags": []
   },
   "outputs": [],
   "source": [
    "genes_info = pd.read_pickle(INPUT_DIR / \"genes_info.pkl\")"
   ]
  },
  {
   "cell_type": "code",
   "execution_count": 24,
   "id": "9e32abfa-546d-483e-8c18-d526e9e05903",
   "metadata": {
    "execution": {
     "iopub.execute_input": "2022-07-22T19:59:53.132728Z",
     "iopub.status.busy": "2022-07-22T19:59:53.132308Z",
     "iopub.status.idle": "2022-07-22T19:59:53.147381Z",
     "shell.execute_reply": "2022-07-22T19:59:53.146851Z"
    },
    "papermill": {
     "duration": 0.023822,
     "end_time": "2022-07-22T19:59:53.148599",
     "exception": false,
     "start_time": "2022-07-22T19:59:53.124777",
     "status": "completed"
    },
    "tags": []
   },
   "outputs": [
    {
     "data": {
      "text/plain": [
       "(6444, 7)"
      ]
     },
     "execution_count": 24,
     "metadata": {},
     "output_type": "execute_result"
    }
   ],
   "source": [
    "genes_info.shape"
   ]
  },
  {
   "cell_type": "code",
   "execution_count": 25,
   "id": "d16c3e92-85ec-468a-9a56-e25a9774a1cb",
   "metadata": {
    "execution": {
     "iopub.execute_input": "2022-07-22T19:59:53.165088Z",
     "iopub.status.busy": "2022-07-22T19:59:53.164845Z",
     "iopub.status.idle": "2022-07-22T19:59:53.185542Z",
     "shell.execute_reply": "2022-07-22T19:59:53.185070Z"
    },
    "papermill": {
     "duration": 0.030382,
     "end_time": "2022-07-22T19:59:53.186760",
     "exception": false,
     "start_time": "2022-07-22T19:59:53.156378",
     "status": "completed"
    },
    "tags": []
   },
   "outputs": [
    {
     "data": {
      "text/html": [
       "<div>\n",
       "<style scoped>\n",
       "    .dataframe tbody tr th:only-of-type {\n",
       "        vertical-align: middle;\n",
       "    }\n",
       "\n",
       "    .dataframe tbody tr th {\n",
       "        vertical-align: top;\n",
       "    }\n",
       "\n",
       "    .dataframe thead th {\n",
       "        text-align: right;\n",
       "    }\n",
       "</style>\n",
       "<table border=\"1\" class=\"dataframe\">\n",
       "  <thead>\n",
       "    <tr style=\"text-align: right;\">\n",
       "      <th></th>\n",
       "      <th>name</th>\n",
       "      <th>id</th>\n",
       "      <th>chr</th>\n",
       "      <th>band</th>\n",
       "      <th>start_position</th>\n",
       "      <th>end_position</th>\n",
       "      <th>gene_length</th>\n",
       "    </tr>\n",
       "  </thead>\n",
       "  <tbody>\n",
       "    <tr>\n",
       "      <th>0</th>\n",
       "      <td>MFN2</td>\n",
       "      <td>ENSG00000116688</td>\n",
       "      <td>1</td>\n",
       "      <td>1p36.22</td>\n",
       "      <td>11980181.0</td>\n",
       "      <td>12013514.0</td>\n",
       "      <td>33333.0</td>\n",
       "    </tr>\n",
       "    <tr>\n",
       "      <th>1</th>\n",
       "      <td>PPA2</td>\n",
       "      <td>ENSG00000138777</td>\n",
       "      <td>4</td>\n",
       "      <td>4q24</td>\n",
       "      <td>105369077.0</td>\n",
       "      <td>105474067.0</td>\n",
       "      <td>104990.0</td>\n",
       "    </tr>\n",
       "    <tr>\n",
       "      <th>2</th>\n",
       "      <td>ADRA2A</td>\n",
       "      <td>ENSG00000150594</td>\n",
       "      <td>10</td>\n",
       "      <td>10q25.2</td>\n",
       "      <td>111077163.0</td>\n",
       "      <td>111080907.0</td>\n",
       "      <td>3744.0</td>\n",
       "    </tr>\n",
       "    <tr>\n",
       "      <th>3</th>\n",
       "      <td>RYR2</td>\n",
       "      <td>ENSG00000198626</td>\n",
       "      <td>1</td>\n",
       "      <td>1q43</td>\n",
       "      <td>237042184.0</td>\n",
       "      <td>237833988.0</td>\n",
       "      <td>791804.0</td>\n",
       "    </tr>\n",
       "    <tr>\n",
       "      <th>4</th>\n",
       "      <td>VAV2</td>\n",
       "      <td>ENSG00000160293</td>\n",
       "      <td>9</td>\n",
       "      <td>9q34.2</td>\n",
       "      <td>133761894.0</td>\n",
       "      <td>133992604.0</td>\n",
       "      <td>230710.0</td>\n",
       "    </tr>\n",
       "  </tbody>\n",
       "</table>\n",
       "</div>"
      ],
      "text/plain": [
       "     name               id chr     band  start_position  end_position  \\\n",
       "0    MFN2  ENSG00000116688   1  1p36.22      11980181.0    12013514.0   \n",
       "1    PPA2  ENSG00000138777   4     4q24     105369077.0   105474067.0   \n",
       "2  ADRA2A  ENSG00000150594  10  10q25.2     111077163.0   111080907.0   \n",
       "3    RYR2  ENSG00000198626   1     1q43     237042184.0   237833988.0   \n",
       "4    VAV2  ENSG00000160293   9   9q34.2     133761894.0   133992604.0   \n",
       "\n",
       "   gene_length  \n",
       "0      33333.0  \n",
       "1     104990.0  \n",
       "2       3744.0  \n",
       "3     791804.0  \n",
       "4     230710.0  "
      ]
     },
     "execution_count": 25,
     "metadata": {},
     "output_type": "execute_result"
    }
   ],
   "source": [
    "genes_info.head()"
   ]
  },
  {
   "cell_type": "markdown",
   "id": "d3843e06",
   "metadata": {
    "papermill": {
     "duration": 0.007768,
     "end_time": "2022-07-22T19:59:53.203085",
     "exception": false,
     "start_time": "2022-07-22T19:59:53.195317",
     "status": "completed"
    },
    "tags": []
   },
   "source": [
    "# Compute correlations"
   ]
  },
  {
   "cell_type": "code",
   "execution_count": 26,
   "id": "cb859c15-d1f3-4006-a74c-2b83c0db9611",
   "metadata": {
    "execution": {
     "iopub.execute_input": "2022-07-22T19:59:53.218800Z",
     "iopub.status.busy": "2022-07-22T19:59:53.218601Z",
     "iopub.status.idle": "2022-07-22T19:59:53.234789Z",
     "shell.execute_reply": "2022-07-22T19:59:53.234353Z"
    },
    "papermill": {
     "duration": 0.025453,
     "end_time": "2022-07-22T19:59:53.236009",
     "exception": false,
     "start_time": "2022-07-22T19:59:53.210556",
     "status": "completed"
    },
    "tags": []
   },
   "outputs": [
    {
     "data": {
      "text/plain": [
       "PosixPath('/opt/data/results/gls/gene_corrs/cohorts/1000g_eur/1000g/mashr/by_chr/gene_corrs-chr9.pkl')"
      ]
     },
     "metadata": {},
     "output_type": "display_data"
    }
   ],
   "source": [
    "output_dir = OUTPUT_DIR_BASE / \"by_chr\"\n",
    "output_dir.mkdir(exist_ok=True, parents=True)\n",
    "output_file = output_dir / f\"gene_corrs-chr{CHROMOSOME}.pkl\"\n",
    "display(output_file)"
   ]
  },
  {
   "cell_type": "code",
   "execution_count": 27,
   "id": "aa674fe4-6794-4eed-98fa-32b39d1d4ace",
   "metadata": {
    "execution": {
     "iopub.execute_input": "2022-07-22T19:59:53.252620Z",
     "iopub.status.busy": "2022-07-22T19:59:53.252328Z",
     "iopub.status.idle": "2022-07-22T19:59:53.267003Z",
     "shell.execute_reply": "2022-07-22T19:59:53.266622Z"
    },
    "papermill": {
     "duration": 0.024378,
     "end_time": "2022-07-22T19:59:53.268289",
     "exception": false,
     "start_time": "2022-07-22T19:59:53.243911",
     "status": "completed"
    },
    "tags": []
   },
   "outputs": [],
   "source": [
    "warnings.filterwarnings(\"error\")"
   ]
  },
  {
   "cell_type": "code",
   "execution_count": 28,
   "id": "44d5450b-3baf-43f1-9e2e-4b06f1a785f8",
   "metadata": {
    "execution": {
     "iopub.execute_input": "2022-07-22T19:59:53.284547Z",
     "iopub.status.busy": "2022-07-22T19:59:53.284254Z",
     "iopub.status.idle": "2022-07-22T19:59:53.299329Z",
     "shell.execute_reply": "2022-07-22T19:59:53.298943Z"
    },
    "papermill": {
     "duration": 0.024601,
     "end_time": "2022-07-22T19:59:53.300563",
     "exception": false,
     "start_time": "2022-07-22T19:59:53.275962",
     "status": "completed"
    },
    "tags": []
   },
   "outputs": [],
   "source": [
    "# standard checks\n",
    "all_chrs = genes_info[\"chr\"].dropna().unique()\n",
    "assert all_chrs.shape[0] == 22\n",
    "\n",
    "# select chromosome given by the user\n",
    "assert CHROMOSOME in all_chrs"
   ]
  },
  {
   "cell_type": "code",
   "execution_count": 29,
   "id": "2d7c043c-92a7-4d35-991b-fa69ac1e0268",
   "metadata": {
    "execution": {
     "iopub.execute_input": "2022-07-22T19:59:53.316823Z",
     "iopub.status.busy": "2022-07-22T19:59:53.316625Z",
     "iopub.status.idle": "2022-07-22T19:59:53.333866Z",
     "shell.execute_reply": "2022-07-22T19:59:53.333411Z"
    },
    "papermill": {
     "duration": 0.026578,
     "end_time": "2022-07-22T19:59:53.335074",
     "exception": false,
     "start_time": "2022-07-22T19:59:53.308496",
     "status": "completed"
    },
    "tags": []
   },
   "outputs": [
    {
     "name": "stdout",
     "output_type": "stream",
     "text": [
      "Number of genes in chromosome: 245\n"
     ]
    }
   ],
   "source": [
    "# run only on the chromosome specified\n",
    "all_chrs = [CHROMOSOME]\n",
    "genes_chr = genes_info[genes_info[\"chr\"] == CHROMOSOME]\n",
    "\n",
    "# For testing purposes\n",
    "# genes_chr = genes_chr.sample(n=20)\n",
    "\n",
    "print(f\"Number of genes in chromosome: {genes_chr.shape[0]}\", flush=True)"
   ]
  },
  {
   "cell_type": "code",
   "execution_count": 30,
   "id": "916015d8-2979-46d3-a9b9-1cf5a0932c6a",
   "metadata": {
    "execution": {
     "iopub.execute_input": "2022-07-22T19:59:53.351914Z",
     "iopub.status.busy": "2022-07-22T19:59:53.351694Z",
     "iopub.status.idle": "2022-07-22T19:59:53.367049Z",
     "shell.execute_reply": "2022-07-22T19:59:53.366629Z"
    },
    "papermill": {
     "duration": 0.026034,
     "end_time": "2022-07-22T19:59:53.368805",
     "exception": false,
     "start_time": "2022-07-22T19:59:53.342771",
     "status": "completed"
    },
    "tags": []
   },
   "outputs": [],
   "source": [
    "# sort genes by starting position to make visualizations better later\n",
    "genes_chr = genes_chr.sort_values(\"start_position\")"
   ]
  },
  {
   "cell_type": "code",
   "execution_count": 31,
   "id": "a38aa74a-8ad3-47f6-8ef9-56be0e011774",
   "metadata": {
    "execution": {
     "iopub.execute_input": "2022-07-22T19:59:53.385144Z",
     "iopub.status.busy": "2022-07-22T19:59:53.384676Z",
     "iopub.status.idle": "2022-07-22T19:59:53.399295Z",
     "shell.execute_reply": "2022-07-22T19:59:53.398891Z"
    },
    "papermill": {
     "duration": 0.024135,
     "end_time": "2022-07-22T19:59:53.400529",
     "exception": false,
     "start_time": "2022-07-22T19:59:53.376394",
     "status": "completed"
    },
    "tags": []
   },
   "outputs": [],
   "source": [
    "gene_chr_objs = [Gene(ensembl_id=gene_id) for gene_id in genes_chr[\"id\"]]"
   ]
  },
  {
   "cell_type": "code",
   "execution_count": 32,
   "id": "570f974f-13c3-42b6-ad3a-ce99ca885c1a",
   "metadata": {
    "execution": {
     "iopub.execute_input": "2022-07-22T19:59:53.418047Z",
     "iopub.status.busy": "2022-07-22T19:59:53.417754Z",
     "iopub.status.idle": "2022-07-22T19:59:53.433996Z",
     "shell.execute_reply": "2022-07-22T19:59:53.433538Z"
    },
    "papermill": {
     "duration": 0.026329,
     "end_time": "2022-07-22T19:59:53.435186",
     "exception": false,
     "start_time": "2022-07-22T19:59:53.408857",
     "status": "completed"
    },
    "tags": []
   },
   "outputs": [
    {
     "name": "stdout",
     "output_type": "stream",
     "text": [
      "Number of gene combinations: 29890\n"
     ]
    }
   ],
   "source": [
    "n = len(gene_chr_objs)\n",
    "n_comb = int(n * (n - 1) / 2.0)\n",
    "print(f\"Number of gene combinations: {n_comb}\", flush=True)"
   ]
  },
  {
   "cell_type": "code",
   "execution_count": 33,
   "id": "cdbb90a1",
   "metadata": {
    "execution": {
     "iopub.execute_input": "2022-07-22T19:59:53.452969Z",
     "iopub.status.busy": "2022-07-22T19:59:53.452615Z",
     "iopub.status.idle": "2022-07-22T20:37:56.883902Z",
     "shell.execute_reply": "2022-07-22T20:37:56.883488Z"
    },
    "papermill": {
     "duration": 2283.441394,
     "end_time": "2022-07-22T20:37:56.885080",
     "exception": false,
     "start_time": "2022-07-22T19:59:53.443686",
     "status": "completed"
    },
    "tags": []
   },
   "outputs": [
    {
     "name": "stderr",
     "output_type": "stream",
     "text": [
      "ENSG00000182154 / ENSG00000181090: 100%|██████████████████████| 29890/29890 [38:03<00:00, 13.09it/s]\n"
     ]
    },
    {
     "data": {
      "text/plain": [
       "PosixPath('/opt/data/results/gls/gene_corrs/cohorts/1000g_eur/1000g/mashr/by_chr/gene_corrs-chr9.pkl')"
      ]
     },
     "metadata": {},
     "output_type": "display_data"
    }
   ],
   "source": [
    "gene_corrs = []\n",
    "\n",
    "i = 0\n",
    "with tqdm(ncols=100, total=n_comb) as pbar:\n",
    "    for gene1_idx in range(0, len(gene_chr_objs) - 1):\n",
    "        gene1_obj = gene_chr_objs[gene1_idx]\n",
    "        gene1_tissues = spredixcan_genes_models.loc[gene1_obj.ensembl_id, \"tissue\"]\n",
    "\n",
    "        for gene2_idx in range(gene1_idx + 1, len(gene_chr_objs)):\n",
    "            gene2_obj = gene_chr_objs[gene2_idx]\n",
    "            gene2_tissues = spredixcan_genes_models.loc[gene2_obj.ensembl_id, \"tissue\"]\n",
    "\n",
    "            pbar.set_description(f\"{gene1_obj.ensembl_id} / {gene2_obj.ensembl_id}\")\n",
    "\n",
    "            try:\n",
    "                r = gene1_obj.get_ssm_correlation(\n",
    "                    other_gene=gene2_obj,\n",
    "                    tissues=gene1_tissues,\n",
    "                    other_tissues=gene2_tissues,\n",
    "                    snps_subset=gwas_variants_ids_set,\n",
    "                    condition_number=SMULTIXCAN_CONDITION_NUMBER,\n",
    "                    reference_panel=REFERENCE_PANEL,\n",
    "                    model_type=EQTL_MODEL,\n",
    "                    use_within_distance=COMPUTE_CORRELATIONS_WITHIN_DISTANCE,\n",
    "                )\n",
    "\n",
    "                if r is None:\n",
    "                    # if r is None, it's very likely because:\n",
    "                    #  * one of the genes has no prediction models\n",
    "                    #  * all the SNPs predictors for the gene are not present in the reference\n",
    "                    #    panel\n",
    "\n",
    "                    r = 0.0\n",
    "\n",
    "                gene_corrs.append(r)\n",
    "            except Warning as e:\n",
    "                if not DEBUG_MODE:\n",
    "                    raise e\n",
    "\n",
    "                print(\n",
    "                    f\"RuntimeWarning for genes {gene1_obj.ensembl_id} and {gene2_obj.ensembl_id}\",\n",
    "                    flush=True,\n",
    "                )\n",
    "                print(traceback.format_exc(), flush=True)\n",
    "\n",
    "                gene_corrs.append(np.nan)\n",
    "            except Exception as e:\n",
    "                if not DEBUG_MODE:\n",
    "                    raise e\n",
    "\n",
    "                print(\n",
    "                    f\"Exception for genes {gene1_obj.ensembl_id} and {gene2_obj.ensembl_id}\",\n",
    "                    flush=True,\n",
    "                )\n",
    "                print(traceback.format_exc(), flush=True)\n",
    "\n",
    "                gene_corrs.append(np.nan)\n",
    "\n",
    "            pbar.update(1)\n",
    "\n",
    "# create a pandas series\n",
    "gene_corrs_flat = pd.Series(gene_corrs)\n",
    "\n",
    "# save\n",
    "# FIXME: consider saving only the condenced matrix here. See here for\n",
    "# more details: https://github.com/greenelab/phenoplier/pull/38#discussion_r634600813\n",
    "gene_corrs_data = squareform(np.array(gene_corrs, dtype=np.float64))\n",
    "np.fill_diagonal(gene_corrs_data, 1.0)\n",
    "\n",
    "gene_chr_ids = [g.ensembl_id for g in gene_chr_objs]\n",
    "gene_corrs_df = pd.DataFrame(\n",
    "    data=gene_corrs_data,\n",
    "    index=gene_chr_ids,\n",
    "    columns=gene_chr_ids,\n",
    ")\n",
    "\n",
    "output_dir.mkdir(exist_ok=True, parents=True)\n",
    "display(output_file)\n",
    "\n",
    "gene_corrs_df.to_pickle(output_file)"
   ]
  },
  {
   "cell_type": "markdown",
   "id": "faa67b51-5373-470f-aa72-2ded53fa6dfe",
   "metadata": {
    "papermill": {
     "duration": 1.627874,
     "end_time": "2022-07-22T20:38:00.103301",
     "exception": false,
     "start_time": "2022-07-22T20:37:58.475427",
     "status": "completed"
    },
    "tags": []
   },
   "source": [
    "# Testing"
   ]
  },
  {
   "cell_type": "code",
   "execution_count": 34,
   "id": "14f7d046-4b55-4896-a56b-990127bcc388",
   "metadata": {
    "execution": {
     "iopub.execute_input": "2022-07-22T20:38:03.324749Z",
     "iopub.status.busy": "2022-07-22T20:38:03.324559Z",
     "iopub.status.idle": "2022-07-22T20:38:03.345649Z",
     "shell.execute_reply": "2022-07-22T20:38:03.345111Z"
    },
    "papermill": {
     "duration": 1.613424,
     "end_time": "2022-07-22T20:38:03.347299",
     "exception": false,
     "start_time": "2022-07-22T20:38:01.733875",
     "status": "completed"
    },
    "tags": []
   },
   "outputs": [
    {
     "data": {
      "text/plain": [
       "(245, 245)"
      ]
     },
     "execution_count": 34,
     "metadata": {},
     "output_type": "execute_result"
    }
   ],
   "source": [
    "gene_corrs_df.shape"
   ]
  },
  {
   "cell_type": "code",
   "execution_count": 35,
   "id": "c7d15414-3297-4537-a7c6-7588c0baeb75",
   "metadata": {
    "execution": {
     "iopub.execute_input": "2022-07-22T20:38:06.702815Z",
     "iopub.status.busy": "2022-07-22T20:38:06.702589Z",
     "iopub.status.idle": "2022-07-22T20:38:06.731647Z",
     "shell.execute_reply": "2022-07-22T20:38:06.731181Z"
    },
    "papermill": {
     "duration": 1.710253,
     "end_time": "2022-07-22T20:38:06.732904",
     "exception": false,
     "start_time": "2022-07-22T20:38:05.022651",
     "status": "completed"
    },
    "tags": []
   },
   "outputs": [
    {
     "data": {
      "text/html": [
       "<div>\n",
       "<style scoped>\n",
       "    .dataframe tbody tr th:only-of-type {\n",
       "        vertical-align: middle;\n",
       "    }\n",
       "\n",
       "    .dataframe tbody tr th {\n",
       "        vertical-align: top;\n",
       "    }\n",
       "\n",
       "    .dataframe thead th {\n",
       "        text-align: right;\n",
       "    }\n",
       "</style>\n",
       "<table border=\"1\" class=\"dataframe\">\n",
       "  <thead>\n",
       "    <tr style=\"text-align: right;\">\n",
       "      <th></th>\n",
       "      <th>ENSG00000107099</th>\n",
       "      <th>ENSG00000080503</th>\n",
       "      <th>ENSG00000147852</th>\n",
       "      <th>ENSG00000107249</th>\n",
       "      <th>ENSG00000147853</th>\n",
       "      <th>ENSG00000096968</th>\n",
       "      <th>ENSG00000107014</th>\n",
       "      <th>ENSG00000120217</th>\n",
       "      <th>ENSG00000197646</th>\n",
       "      <th>ENSG00000178445</th>\n",
       "      <th>...</th>\n",
       "      <th>ENSG00000107317</th>\n",
       "      <th>ENSG00000169583</th>\n",
       "      <th>ENSG00000107331</th>\n",
       "      <th>ENSG00000054179</th>\n",
       "      <th>ENSG00000177239</th>\n",
       "      <th>ENSG00000176248</th>\n",
       "      <th>ENSG00000176101</th>\n",
       "      <th>ENSG00000188747</th>\n",
       "      <th>ENSG00000182154</th>\n",
       "      <th>ENSG00000181090</th>\n",
       "    </tr>\n",
       "  </thead>\n",
       "  <tbody>\n",
       "    <tr>\n",
       "      <th>ENSG00000107099</th>\n",
       "      <td>1.000000</td>\n",
       "      <td>0.010578</td>\n",
       "      <td>0.028120</td>\n",
       "      <td>0.011640</td>\n",
       "      <td>0.017930</td>\n",
       "      <td>0.010548</td>\n",
       "      <td>0.006667</td>\n",
       "      <td>0.013394</td>\n",
       "      <td>0.008972</td>\n",
       "      <td>0.011997</td>\n",
       "      <td>...</td>\n",
       "      <td>0.009464</td>\n",
       "      <td>0.015654</td>\n",
       "      <td>0.011517</td>\n",
       "      <td>0.011900</td>\n",
       "      <td>0.009459</td>\n",
       "      <td>0.004668</td>\n",
       "      <td>0.003919</td>\n",
       "      <td>0.010221</td>\n",
       "      <td>0.004733</td>\n",
       "      <td>0.007673</td>\n",
       "    </tr>\n",
       "    <tr>\n",
       "      <th>ENSG00000080503</th>\n",
       "      <td>0.010578</td>\n",
       "      <td>1.000000</td>\n",
       "      <td>0.019059</td>\n",
       "      <td>0.012062</td>\n",
       "      <td>0.010278</td>\n",
       "      <td>0.011658</td>\n",
       "      <td>0.008593</td>\n",
       "      <td>0.013771</td>\n",
       "      <td>0.007175</td>\n",
       "      <td>0.011470</td>\n",
       "      <td>...</td>\n",
       "      <td>0.011470</td>\n",
       "      <td>0.007884</td>\n",
       "      <td>0.008273</td>\n",
       "      <td>0.012437</td>\n",
       "      <td>0.011655</td>\n",
       "      <td>0.010204</td>\n",
       "      <td>0.006983</td>\n",
       "      <td>0.012846</td>\n",
       "      <td>0.004564</td>\n",
       "      <td>0.005521</td>\n",
       "    </tr>\n",
       "    <tr>\n",
       "      <th>ENSG00000147852</th>\n",
       "      <td>0.028120</td>\n",
       "      <td>0.019059</td>\n",
       "      <td>1.000000</td>\n",
       "      <td>0.022365</td>\n",
       "      <td>0.020779</td>\n",
       "      <td>0.031613</td>\n",
       "      <td>0.017493</td>\n",
       "      <td>0.025442</td>\n",
       "      <td>0.015485</td>\n",
       "      <td>0.018156</td>\n",
       "      <td>...</td>\n",
       "      <td>0.015846</td>\n",
       "      <td>0.017687</td>\n",
       "      <td>0.020235</td>\n",
       "      <td>0.026399</td>\n",
       "      <td>0.020783</td>\n",
       "      <td>0.018425</td>\n",
       "      <td>0.015372</td>\n",
       "      <td>0.010632</td>\n",
       "      <td>0.010178</td>\n",
       "      <td>0.019004</td>\n",
       "    </tr>\n",
       "    <tr>\n",
       "      <th>ENSG00000107249</th>\n",
       "      <td>0.011640</td>\n",
       "      <td>0.012062</td>\n",
       "      <td>0.022365</td>\n",
       "      <td>1.000000</td>\n",
       "      <td>0.022874</td>\n",
       "      <td>0.018729</td>\n",
       "      <td>0.011897</td>\n",
       "      <td>0.015548</td>\n",
       "      <td>0.009184</td>\n",
       "      <td>0.013681</td>\n",
       "      <td>...</td>\n",
       "      <td>0.011880</td>\n",
       "      <td>0.016320</td>\n",
       "      <td>0.013399</td>\n",
       "      <td>0.015291</td>\n",
       "      <td>0.013300</td>\n",
       "      <td>0.008497</td>\n",
       "      <td>0.002623</td>\n",
       "      <td>0.014571</td>\n",
       "      <td>0.005581</td>\n",
       "      <td>0.009162</td>\n",
       "    </tr>\n",
       "    <tr>\n",
       "      <th>ENSG00000147853</th>\n",
       "      <td>0.017930</td>\n",
       "      <td>0.010278</td>\n",
       "      <td>0.020779</td>\n",
       "      <td>0.022874</td>\n",
       "      <td>1.000000</td>\n",
       "      <td>0.032336</td>\n",
       "      <td>0.012458</td>\n",
       "      <td>0.015127</td>\n",
       "      <td>0.013069</td>\n",
       "      <td>0.016242</td>\n",
       "      <td>...</td>\n",
       "      <td>0.010237</td>\n",
       "      <td>0.010770</td>\n",
       "      <td>0.009416</td>\n",
       "      <td>0.016856</td>\n",
       "      <td>0.017485</td>\n",
       "      <td>0.011616</td>\n",
       "      <td>0.008834</td>\n",
       "      <td>0.016662</td>\n",
       "      <td>0.004722</td>\n",
       "      <td>0.008815</td>\n",
       "    </tr>\n",
       "  </tbody>\n",
       "</table>\n",
       "<p>5 rows × 245 columns</p>\n",
       "</div>"
      ],
      "text/plain": [
       "                 ENSG00000107099  ENSG00000080503  ENSG00000147852  \\\n",
       "ENSG00000107099         1.000000         0.010578         0.028120   \n",
       "ENSG00000080503         0.010578         1.000000         0.019059   \n",
       "ENSG00000147852         0.028120         0.019059         1.000000   \n",
       "ENSG00000107249         0.011640         0.012062         0.022365   \n",
       "ENSG00000147853         0.017930         0.010278         0.020779   \n",
       "\n",
       "                 ENSG00000107249  ENSG00000147853  ENSG00000096968  \\\n",
       "ENSG00000107099         0.011640         0.017930         0.010548   \n",
       "ENSG00000080503         0.012062         0.010278         0.011658   \n",
       "ENSG00000147852         0.022365         0.020779         0.031613   \n",
       "ENSG00000107249         1.000000         0.022874         0.018729   \n",
       "ENSG00000147853         0.022874         1.000000         0.032336   \n",
       "\n",
       "                 ENSG00000107014  ENSG00000120217  ENSG00000197646  \\\n",
       "ENSG00000107099         0.006667         0.013394         0.008972   \n",
       "ENSG00000080503         0.008593         0.013771         0.007175   \n",
       "ENSG00000147852         0.017493         0.025442         0.015485   \n",
       "ENSG00000107249         0.011897         0.015548         0.009184   \n",
       "ENSG00000147853         0.012458         0.015127         0.013069   \n",
       "\n",
       "                 ENSG00000178445  ...  ENSG00000107317  ENSG00000169583  \\\n",
       "ENSG00000107099         0.011997  ...         0.009464         0.015654   \n",
       "ENSG00000080503         0.011470  ...         0.011470         0.007884   \n",
       "ENSG00000147852         0.018156  ...         0.015846         0.017687   \n",
       "ENSG00000107249         0.013681  ...         0.011880         0.016320   \n",
       "ENSG00000147853         0.016242  ...         0.010237         0.010770   \n",
       "\n",
       "                 ENSG00000107331  ENSG00000054179  ENSG00000177239  \\\n",
       "ENSG00000107099         0.011517         0.011900         0.009459   \n",
       "ENSG00000080503         0.008273         0.012437         0.011655   \n",
       "ENSG00000147852         0.020235         0.026399         0.020783   \n",
       "ENSG00000107249         0.013399         0.015291         0.013300   \n",
       "ENSG00000147853         0.009416         0.016856         0.017485   \n",
       "\n",
       "                 ENSG00000176248  ENSG00000176101  ENSG00000188747  \\\n",
       "ENSG00000107099         0.004668         0.003919         0.010221   \n",
       "ENSG00000080503         0.010204         0.006983         0.012846   \n",
       "ENSG00000147852         0.018425         0.015372         0.010632   \n",
       "ENSG00000107249         0.008497         0.002623         0.014571   \n",
       "ENSG00000147853         0.011616         0.008834         0.016662   \n",
       "\n",
       "                 ENSG00000182154  ENSG00000181090  \n",
       "ENSG00000107099         0.004733         0.007673  \n",
       "ENSG00000080503         0.004564         0.005521  \n",
       "ENSG00000147852         0.010178         0.019004  \n",
       "ENSG00000107249         0.005581         0.009162  \n",
       "ENSG00000147853         0.004722         0.008815  \n",
       "\n",
       "[5 rows x 245 columns]"
      ]
     },
     "execution_count": 35,
     "metadata": {},
     "output_type": "execute_result"
    }
   ],
   "source": [
    "gene_corrs_df.head()"
   ]
  },
  {
   "cell_type": "markdown",
   "id": "dad6603f-01c6-41fb-a6f6-241051207dd8",
   "metadata": {
    "papermill": {
     "duration": 1.657553,
     "end_time": "2022-07-22T20:38:09.993621",
     "exception": false,
     "start_time": "2022-07-22T20:38:08.336068",
     "status": "completed"
    },
    "tags": []
   },
   "source": [
    "## Standard checks and stats"
   ]
  },
  {
   "cell_type": "code",
   "execution_count": 36,
   "id": "286686af-1b7b-4440-8453-6bdcbd8de19c",
   "metadata": {
    "execution": {
     "iopub.execute_input": "2022-07-22T20:38:13.280623Z",
     "iopub.status.busy": "2022-07-22T20:38:13.280411Z",
     "iopub.status.idle": "2022-07-22T20:38:13.297223Z",
     "shell.execute_reply": "2022-07-22T20:38:13.296836Z"
    },
    "papermill": {
     "duration": 1.656136,
     "end_time": "2022-07-22T20:38:13.298493",
     "exception": false,
     "start_time": "2022-07-22T20:38:11.642357",
     "status": "completed"
    },
    "tags": []
   },
   "outputs": [],
   "source": [
    "assert not gene_corrs_df.isna().any().any()"
   ]
  },
  {
   "cell_type": "code",
   "execution_count": 37,
   "id": "00583efc-7068-4270-ad1e-4a418e91db96",
   "metadata": {
    "execution": {
     "iopub.execute_input": "2022-07-22T20:38:16.515178Z",
     "iopub.status.busy": "2022-07-22T20:38:16.514950Z",
     "iopub.status.idle": "2022-07-22T20:38:16.532706Z",
     "shell.execute_reply": "2022-07-22T20:38:16.532230Z"
    },
    "papermill": {
     "duration": 1.637115,
     "end_time": "2022-07-22T20:38:16.533887",
     "exception": false,
     "start_time": "2022-07-22T20:38:14.896772",
     "status": "completed"
    },
    "tags": []
   },
   "outputs": [
    {
     "data": {
      "text/plain": [
       "5.745133795963117e-08"
      ]
     },
     "metadata": {},
     "output_type": "display_data"
    }
   ],
   "source": [
    "_min_val = gene_corrs_df.min().min()\n",
    "display(_min_val)\n",
    "assert _min_val >= 0.0"
   ]
  },
  {
   "cell_type": "code",
   "execution_count": 38,
   "id": "d04fb2cf-1050-475b-b855-f5f7cc04092b",
   "metadata": {
    "execution": {
     "iopub.execute_input": "2022-07-22T20:38:19.762583Z",
     "iopub.status.busy": "2022-07-22T20:38:19.762385Z",
     "iopub.status.idle": "2022-07-22T20:38:19.778592Z",
     "shell.execute_reply": "2022-07-22T20:38:19.778095Z"
    },
    "papermill": {
     "duration": 1.599913,
     "end_time": "2022-07-22T20:38:19.779755",
     "exception": false,
     "start_time": "2022-07-22T20:38:18.179842",
     "status": "completed"
    },
    "tags": []
   },
   "outputs": [
    {
     "data": {
      "text/plain": [
       "1.0"
      ]
     },
     "metadata": {},
     "output_type": "display_data"
    }
   ],
   "source": [
    "_max_val = gene_corrs_df.max().max()  # this captures the diagonal\n",
    "display(_max_val)\n",
    "assert _max_val <= 1.0"
   ]
  },
  {
   "cell_type": "code",
   "execution_count": 39,
   "id": "96d02c44-1fba-47be-8a93-8f2608420b9c",
   "metadata": {
    "execution": {
     "iopub.execute_input": "2022-07-22T20:38:22.984043Z",
     "iopub.status.busy": "2022-07-22T20:38:22.983842Z",
     "iopub.status.idle": "2022-07-22T20:38:22.998833Z",
     "shell.execute_reply": "2022-07-22T20:38:22.998347Z"
    },
    "papermill": {
     "duration": 1.608991,
     "end_time": "2022-07-22T20:38:23.000141",
     "exception": false,
     "start_time": "2022-07-22T20:38:21.391150",
     "status": "completed"
    },
    "tags": []
   },
   "outputs": [],
   "source": [
    "# check upper triangular values\n",
    "assert len(gene_corrs) == int(genes_chr.shape[0] * (genes_chr.shape[0] - 1) / 2)"
   ]
  },
  {
   "cell_type": "code",
   "execution_count": 40,
   "id": "fe283586-c348-40e0-8841-f6d97bfb021c",
   "metadata": {
    "execution": {
     "iopub.execute_input": "2022-07-22T20:38:26.213810Z",
     "iopub.status.busy": "2022-07-22T20:38:26.213613Z",
     "iopub.status.idle": "2022-07-22T20:38:26.233550Z",
     "shell.execute_reply": "2022-07-22T20:38:26.233020Z"
    },
    "papermill": {
     "duration": 1.64525,
     "end_time": "2022-07-22T20:38:26.234780",
     "exception": false,
     "start_time": "2022-07-22T20:38:24.589530",
     "status": "completed"
    },
    "tags": []
   },
   "outputs": [
    {
     "data": {
      "text/plain": [
       "count    2.989000e+04\n",
       "mean     1.056197e-02\n",
       "std      2.732999e-02\n",
       "min      5.745134e-08\n",
       "25%      5.233789e-03\n",
       "50%      8.035382e-03\n",
       "75%      1.133240e-02\n",
       "max      9.236841e-01\n",
       "dtype: float64"
      ]
     },
     "execution_count": 40,
     "metadata": {},
     "output_type": "execute_result"
    }
   ],
   "source": [
    "gene_corrs_flat.describe()"
   ]
  },
  {
   "cell_type": "code",
   "execution_count": 41,
   "id": "b3815678-0f93-4b35-897b-a9d047a2aa78",
   "metadata": {
    "execution": {
     "iopub.execute_input": "2022-07-22T20:38:29.447663Z",
     "iopub.status.busy": "2022-07-22T20:38:29.444924Z",
     "iopub.status.idle": "2022-07-22T20:38:29.477139Z",
     "shell.execute_reply": "2022-07-22T20:38:29.476679Z"
    },
    "papermill": {
     "duration": 1.591673,
     "end_time": "2022-07-22T20:38:29.478655",
     "exception": false,
     "start_time": "2022-07-22T20:38:27.886982",
     "status": "completed"
    },
    "tags": []
   },
   "outputs": [
    {
     "data": {
      "text/plain": [
       "0.00    5.745134e-08\n",
       "0.05    2.027428e-03\n",
       "0.10    3.068383e-03\n",
       "0.15    3.895332e-03\n",
       "0.20    4.604305e-03\n",
       "0.25    5.233789e-03\n",
       "0.30    5.825128e-03\n",
       "0.35    6.378283e-03\n",
       "0.40    6.942091e-03\n",
       "0.45    7.507282e-03\n",
       "0.50    8.035382e-03\n",
       "0.55    8.629605e-03\n",
       "0.60    9.245419e-03\n",
       "0.65    9.881362e-03\n",
       "0.70    1.058576e-02\n",
       "0.75    1.133240e-02\n",
       "0.80    1.221436e-02\n",
       "0.85    1.327135e-02\n",
       "0.90    1.474265e-02\n",
       "0.95    1.720666e-02\n",
       "dtype: float64"
      ]
     },
     "metadata": {},
     "output_type": "display_data"
    }
   ],
   "source": [
    "gene_corrs_quantiles = gene_corrs_flat.quantile(np.arange(0, 1, 0.05))\n",
    "display(gene_corrs_quantiles)"
   ]
  },
  {
   "cell_type": "markdown",
   "id": "87134509-b145-4a10-8bc9-b7e914c2b0fa",
   "metadata": {
    "papermill": {
     "duration": 1.675066,
     "end_time": "2022-07-22T20:38:32.697501",
     "exception": false,
     "start_time": "2022-07-22T20:38:31.022435",
     "status": "completed"
    },
    "tags": []
   },
   "source": [
    "## Positive definiteness"
   ]
  },
  {
   "cell_type": "code",
   "execution_count": 42,
   "id": "07d9a9a1-a4f7-48aa-b916-6d42a8cc6186",
   "metadata": {
    "execution": {
     "iopub.execute_input": "2022-07-22T20:38:35.989478Z",
     "iopub.status.busy": "2022-07-22T20:38:35.989265Z",
     "iopub.status.idle": "2022-07-22T20:38:36.112164Z",
     "shell.execute_reply": "2022-07-22T20:38:36.111520Z"
    },
    "papermill": {
     "duration": 1.746094,
     "end_time": "2022-07-22T20:38:36.113795",
     "exception": false,
     "start_time": "2022-07-22T20:38:34.367701",
     "status": "completed"
    },
    "tags": []
   },
   "outputs": [
    {
     "data": {
      "text/plain": [
       "0"
      ]
     },
     "metadata": {},
     "output_type": "display_data"
    },
    {
     "data": {
      "text/plain": [
       "array([], dtype=float64)"
      ]
     },
     "metadata": {},
     "output_type": "display_data"
    }
   ],
   "source": [
    "# print negative eigenvalues\n",
    "eigs = np.linalg.eigvals(gene_corrs_df.to_numpy())\n",
    "display(len(eigs[eigs < 0]))\n",
    "display(eigs[eigs < 0])"
   ]
  },
  {
   "cell_type": "code",
   "execution_count": 43,
   "id": "6e218436-c3c5-4028-8c94-a4fa6260efce",
   "metadata": {
    "execution": {
     "iopub.execute_input": "2022-07-22T20:38:39.632091Z",
     "iopub.status.busy": "2022-07-22T20:38:39.631923Z",
     "iopub.status.idle": "2022-07-22T20:38:39.685084Z",
     "shell.execute_reply": "2022-07-22T20:38:39.684688Z"
    },
    "papermill": {
     "duration": 1.687443,
     "end_time": "2022-07-22T20:38:39.686354",
     "exception": false,
     "start_time": "2022-07-22T20:38:37.998911",
     "status": "completed"
    },
    "tags": []
   },
   "outputs": [
    {
     "name": "stdout",
     "output_type": "stream",
     "text": [
      "Works!\n"
     ]
    }
   ],
   "source": [
    "try:\n",
    "    chol_mat = np.linalg.cholesky(gene_corrs_df.to_numpy())\n",
    "    cov_inv = np.linalg.inv(chol_mat)\n",
    "    print(\"Works!\")\n",
    "except:\n",
    "    print(\"Cholesky decomposition failed\")"
   ]
  },
  {
   "cell_type": "markdown",
   "id": "8e60a080-edb2-4e9c-b2ef-22961693200c",
   "metadata": {
    "papermill": {
     "duration": 1.633358,
     "end_time": "2022-07-22T20:38:43.051978",
     "exception": false,
     "start_time": "2022-07-22T20:38:41.418620",
     "status": "completed"
    },
    "tags": []
   },
   "source": [
    "## Plot: distribution"
   ]
  },
  {
   "cell_type": "code",
   "execution_count": 44,
   "id": "8301126b-a7d4-4744-9c7d-f0f86eb6f54c",
   "metadata": {
    "execution": {
     "iopub.execute_input": "2022-07-22T20:38:46.253593Z",
     "iopub.status.busy": "2022-07-22T20:38:46.253255Z",
     "iopub.status.idle": "2022-07-22T20:38:50.308768Z",
     "shell.execute_reply": "2022-07-22T20:38:50.308296Z"
    },
    "papermill": {
     "duration": 5.6218,
     "end_time": "2022-07-22T20:38:50.310125",
     "exception": false,
     "start_time": "2022-07-22T20:38:44.688325",
     "status": "completed"
    },
    "tags": []
   },
   "outputs": [
    {
     "data": {
      "image/png": "[encoded data removed]",
      "text/plain": [
       "<Figure size 504x504 with 1 Axes>"
      ]
     },
     "metadata": {
      "needs_background": "light"
     },
     "output_type": "display_data"
    }
   ],
   "source": [
    "with sns.plotting_context(\"paper\", font_scale=1.5):\n",
    "    g = sns.displot(gene_corrs_flat, kde=True, height=7)\n",
    "    g.ax.set_title(\n",
    "        f\"Distribution of gene correlation values in chromosome {CHROMOSOME}\"\n",
    "    )"
   ]
  },
  {
   "cell_type": "markdown",
   "id": "cbd52bca-d878-4a2f-b684-5c83aa3038d4",
   "metadata": {
    "papermill": {
     "duration": 1.626966,
     "end_time": "2022-07-22T20:38:53.509161",
     "exception": false,
     "start_time": "2022-07-22T20:38:51.882195",
     "status": "completed"
    },
    "tags": []
   },
   "source": [
    "## Plot: heatmap"
   ]
  },
  {
   "cell_type": "code",
   "execution_count": 45,
   "id": "d03fe63a-c7b2-4fb9-a53c-db362ce843c9",
   "metadata": {
    "execution": {
     "iopub.execute_input": "2022-07-22T20:38:56.713143Z",
     "iopub.status.busy": "2022-07-22T20:38:56.712897Z",
     "iopub.status.idle": "2022-07-22T20:38:56.729519Z",
     "shell.execute_reply": "2022-07-22T20:38:56.729057Z"
    },
    "papermill": {
     "duration": 1.586726,
     "end_time": "2022-07-22T20:38:56.730688",
     "exception": false,
     "start_time": "2022-07-22T20:38:55.143962",
     "status": "completed"
    },
    "tags": []
   },
   "outputs": [
    {
     "data": {
      "text/plain": [
       "'0.0 / 0.05'"
      ]
     },
     "metadata": {},
     "output_type": "display_data"
    }
   ],
   "source": [
    "vmin_val = min(0.00, gene_corrs_quantiles[0.10])\n",
    "vmax_val = max(0.05, gene_corrs_quantiles[0.90])\n",
    "display(f\"{vmin_val} / {vmax_val}\")"
   ]
  },
  {
   "cell_type": "code",
   "execution_count": 46,
   "id": "dc41b70b-5bcc-4d9e-9f33-a22c4a94dab5",
   "metadata": {
    "execution": {
     "iopub.execute_input": "2022-07-22T20:39:00.022372Z",
     "iopub.status.busy": "2022-07-22T20:39:00.021643Z",
     "iopub.status.idle": "2022-07-22T20:39:00.816160Z",
     "shell.execute_reply": "2022-07-22T20:39:00.815756Z"
    },
    "papermill": {
     "duration": 2.456117,
     "end_time": "2022-07-22T20:39:00.819369",
     "exception": false,
     "start_time": "2022-07-22T20:38:58.363252",
     "status": "completed"
    },
    "tags": []
   },
   "outputs": [
    {
     "data": {
      "text/plain": [
       "Text(0.5, 1.0, 'Gene correlations in chromosome 9')"
      ]
     },
     "execution_count": 46,
     "metadata": {},
     "output_type": "execute_result"
    },
    {
     "data": {
      "image/png": "[encoded data removed]",
      "text/plain": [
       "<Figure size 720x720 with 2 Axes>"
      ]
     },
     "metadata": {
      "needs_background": "light"
     },
     "output_type": "display_data"
    }
   ],
   "source": [
    "f, ax = plt.subplots(figsize=(10, 10))\n",
    "sns.heatmap(\n",
    "    gene_corrs_df,\n",
    "    xticklabels=False,\n",
    "    yticklabels=False,\n",
    "    square=True,\n",
    "    vmin=vmin_val,\n",
    "    vmax=vmax_val,\n",
    "    cmap=\"rocket_r\",\n",
    "    ax=ax,\n",
    ")\n",
    "ax.set_title(f\"Gene correlations in chromosome {CHROMOSOME}\")"
   ]
  },
  {
   "cell_type": "code",
   "execution_count": null,
   "id": "b25e3ead",
   "metadata": {
    "papermill": {
     "duration": 1.620217,
     "end_time": "2022-07-22T20:39:04.031120",
     "exception": false,
     "start_time": "2022-07-22T20:39:02.410903",
     "status": "completed"
    },
    "tags": []
   },
   "outputs": [],
   "source": []
  }
 ],
 "metadata": {
  "jupytext": {
   "cell_metadata_filter": "all,-execution,-papermill,-trusted",
   "formats": "ipynb,py//py:percent"
  },
  "kernelspec": {
   "display_name": "Python 3 (ipykernel)",
   "language": "python",
   "name": "python3"
  },
  "language_info": {
   "codemirror_mode": {
    "name": "ipython",
    "version": 3
   },
   "file_extension": ".py",
   "mimetype": "text/x-python",
   "name": "python",
   "nbconvert_exporter": "python",
   "pygments_lexer": "ipython3",
   "version": "3.8.13"
  },
  "papermill": {
   "default_parameters": {},
   "duration": 2362.453035,
   "end_time": "2022-07-22T20:39:08.669367",
   "environment_variables": {},
   "exception": null,
   "input_path": "nbs/15_gsa_gls/10-gene_expr_correlations.ipynb",
   "output_path": "nbs/15_gsa_gls/gene_corrs/cohorts/1000g_eur/1000g/mashr/10-gene_expr_correlations-chr9.run.ipynb",
   "parameters": {
    "CHROMOSOME": 9,
    "COHORT_NAME": "1000G_EUR",
    "EQTL_MODEL": "MASHR",
    "REFERENCE_PANEL": "1000G"
   },
   "start_time": "2022-07-22T19:59:46.216332",
   "version": "2.2.2"
  }
 },
 "nbformat": 4,
 "nbformat_minor": 5
}
