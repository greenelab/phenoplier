{
 "cells": [
  {
   "cell_type": "markdown",
   "id": "5ef66977",
   "metadata": {
    "papermill": {
     "duration": 0.034979,
     "end_time": "2022-07-23T02:46:33.786679",
     "exception": false,
     "start_time": "2022-07-23T02:46:33.751700",
     "status": "completed"
    },
    "tags": []
   },
   "source": [
    "# Description"
   ]
  },
  {
   "cell_type": "markdown",
   "id": "658d4f7c",
   "metadata": {
    "papermill": {
     "duration": 0.010162,
     "end_time": "2022-07-23T02:46:33.811257",
     "exception": false,
     "start_time": "2022-07-23T02:46:33.801095",
     "status": "completed"
    },
    "tags": []
   },
   "source": [
    "(Please, take a look at the README.md file in this directory for instructions on how to run this notebook)\n",
    "\n",
    "This notebook reads all gene correlations across all chromosomes and computes a single correlation matrix by assembling a big correlation matrix with all genes."
   ]
  },
  {
   "cell_type": "markdown",
   "id": "60fa4530",
   "metadata": {
    "papermill": {
     "duration": 0.008967,
     "end_time": "2022-07-23T02:46:33.856626",
     "exception": false,
     "start_time": "2022-07-23T02:46:33.847659",
     "status": "completed"
    },
    "tags": []
   },
   "source": [
    "# Modules"
   ]
  },
  {
   "cell_type": "code",
   "execution_count": 1,
   "id": "d70b0833",
   "metadata": {
    "execution": {
     "iopub.execute_input": "2022-07-23T02:46:33.878267Z",
     "iopub.status.busy": "2022-07-23T02:46:33.878049Z",
     "iopub.status.idle": "2022-07-23T02:46:33.894021Z",
     "shell.execute_reply": "2022-07-23T02:46:33.893469Z"
    },
    "papermill": {
     "duration": 0.028598,
     "end_time": "2022-07-23T02:46:33.895620",
     "exception": false,
     "start_time": "2022-07-23T02:46:33.867022",
     "status": "completed"
    },
    "tags": []
   },
   "outputs": [],
   "source": [
    "%load_ext autoreload\n",
    "%autoreload 2"
   ]
  },
  {
   "cell_type": "code",
   "execution_count": 2,
   "id": "6b2f9ca0",
   "metadata": {
    "execution": {
     "iopub.execute_input": "2022-07-23T02:46:33.916114Z",
     "iopub.status.busy": "2022-07-23T02:46:33.915939Z",
     "iopub.status.idle": "2022-07-23T02:46:34.732035Z",
     "shell.execute_reply": "2022-07-23T02:46:34.731462Z"
    },
    "papermill": {
     "duration": 0.827947,
     "end_time": "2022-07-23T02:46:34.733438",
     "exception": false,
     "start_time": "2022-07-23T02:46:33.905491",
     "status": "completed"
    },
    "tags": []
   },
   "outputs": [],
   "source": [
    "import pickle\n",
    "\n",
    "import numpy as np\n",
    "from scipy.spatial.distance import squareform\n",
    "import pandas as pd\n",
    "import matplotlib.pyplot as plt\n",
    "import seaborn as sns\n",
    "\n",
    "import conf\n",
    "from entity import Gene"
   ]
  },
  {
   "cell_type": "markdown",
   "id": "5b96e797",
   "metadata": {
    "papermill": {
     "duration": 0.008338,
     "end_time": "2022-07-23T02:46:34.750923",
     "exception": false,
     "start_time": "2022-07-23T02:46:34.742585",
     "status": "completed"
    },
    "tags": []
   },
   "source": [
    "# Settings"
   ]
  },
  {
   "cell_type": "code",
   "execution_count": 3,
   "id": "4fc1b6a0",
   "metadata": {
    "execution": {
     "iopub.execute_input": "2022-07-23T02:46:34.768823Z",
     "iopub.status.busy": "2022-07-23T02:46:34.768615Z",
     "iopub.status.idle": "2022-07-23T02:46:34.782941Z",
     "shell.execute_reply": "2022-07-23T02:46:34.782335Z"
    },
    "papermill": {
     "duration": 0.024903,
     "end_time": "2022-07-23T02:46:34.784261",
     "exception": false,
     "start_time": "2022-07-23T02:46:34.759358",
     "status": "completed"
    },
    "tags": [
     "parameters"
    ]
   },
   "outputs": [],
   "source": [
    "# a cohort name (it could be something like UK_BIOBANK, etc)\n",
    "COHORT_NAME = None\n",
    "\n",
    "# reference panel such as 1000G or GTEX_V8\n",
    "REFERENCE_PANEL = None\n",
    "\n",
    "# predictions models such as MASHR or ELASTIC_NET\n",
    "EQTL_MODEL = None"
   ]
  },
  {
   "cell_type": "code",
   "execution_count": 4,
   "id": "93e6a232",
   "metadata": {
    "execution": {
     "iopub.execute_input": "2022-07-23T02:46:34.802168Z",
     "iopub.status.busy": "2022-07-23T02:46:34.802009Z",
     "iopub.status.idle": "2022-07-23T02:46:34.816416Z",
     "shell.execute_reply": "2022-07-23T02:46:34.815711Z"
    },
    "papermill": {
     "duration": 0.024961,
     "end_time": "2022-07-23T02:46:34.817839",
     "exception": false,
     "start_time": "2022-07-23T02:46:34.792878",
     "status": "completed"
    },
    "tags": [
     "injected-parameters"
    ]
   },
   "outputs": [],
   "source": [
    "# Parameters\n",
    "COHORT_NAME = \"1000G_EUR\"\n",
    "REFERENCE_PANEL = \"1000G\"\n",
    "EQTL_MODEL = \"MASHR\"\n"
   ]
  },
  {
   "cell_type": "code",
   "execution_count": 5,
   "id": "6dba5c90-40a4-4a62-899e-1711ab4e40bb",
   "metadata": {
    "execution": {
     "iopub.execute_input": "2022-07-23T02:46:34.836887Z",
     "iopub.status.busy": "2022-07-23T02:46:34.836717Z",
     "iopub.status.idle": "2022-07-23T02:46:34.853802Z",
     "shell.execute_reply": "2022-07-23T02:46:34.853289Z"
    },
    "papermill": {
     "duration": 0.028074,
     "end_time": "2022-07-23T02:46:34.855117",
     "exception": false,
     "start_time": "2022-07-23T02:46:34.827043",
     "status": "completed"
    },
    "tags": []
   },
   "outputs": [
    {
     "data": {
      "text/plain": [
       "'Cohort name: 1000g_eur'"
      ]
     },
     "metadata": {},
     "output_type": "display_data"
    }
   ],
   "source": [
    "assert COHORT_NAME is not None and len(COHORT_NAME) > 0, \"A cohort name must be given\"\n",
    "\n",
    "COHORT_NAME = COHORT_NAME.lower()\n",
    "display(f\"Cohort name: {COHORT_NAME}\")"
   ]
  },
  {
   "cell_type": "code",
   "execution_count": 6,
   "id": "90be4359-19db-4c2d-a3ca-202674476164",
   "metadata": {
    "execution": {
     "iopub.execute_input": "2022-07-23T02:46:34.874168Z",
     "iopub.status.busy": "2022-07-23T02:46:34.873983Z",
     "iopub.status.idle": "2022-07-23T02:46:34.888732Z",
     "shell.execute_reply": "2022-07-23T02:46:34.888207Z"
    },
    "papermill": {
     "duration": 0.025644,
     "end_time": "2022-07-23T02:46:34.890013",
     "exception": false,
     "start_time": "2022-07-23T02:46:34.864369",
     "status": "completed"
    },
    "tags": []
   },
   "outputs": [
    {
     "data": {
      "text/plain": [
       "'Reference panel: 1000G'"
      ]
     },
     "metadata": {},
     "output_type": "display_data"
    }
   ],
   "source": [
    "assert (\n",
    "    REFERENCE_PANEL is not None and len(REFERENCE_PANEL) > 0\n",
    "), \"A reference panel must be given\"\n",
    "\n",
    "display(f\"Reference panel: {REFERENCE_PANEL}\")"
   ]
  },
  {
   "cell_type": "code",
   "execution_count": 7,
   "id": "d959f3f4-8f7b-4313-b3b1-37606e7250bf",
   "metadata": {
    "execution": {
     "iopub.execute_input": "2022-07-23T02:46:34.908517Z",
     "iopub.status.busy": "2022-07-23T02:46:34.908048Z",
     "iopub.status.idle": "2022-07-23T02:46:34.924067Z",
     "shell.execute_reply": "2022-07-23T02:46:34.923483Z"
    },
    "papermill": {
     "duration": 0.026637,
     "end_time": "2022-07-23T02:46:34.925367",
     "exception": false,
     "start_time": "2022-07-23T02:46:34.898730",
     "status": "completed"
    },
    "tags": []
   },
   "outputs": [
    {
     "data": {
      "text/plain": [
       "'eQTL model: MASHR) / mashr_'"
      ]
     },
     "metadata": {},
     "output_type": "display_data"
    }
   ],
   "source": [
    "assert (\n",
    "    EQTL_MODEL is not None and len(EQTL_MODEL) > 0\n",
    "), \"A prediction/eQTL model must be given\"\n",
    "\n",
    "EQTL_MODEL_FILES_PREFIX = conf.PHENOMEXCAN[\"PREDICTION_MODELS\"][f\"{EQTL_MODEL}_PREFIX\"]\n",
    "display(f\"eQTL model: {EQTL_MODEL}) / {EQTL_MODEL_FILES_PREFIX}\")"
   ]
  },
  {
   "cell_type": "code",
   "execution_count": 8,
   "id": "ac0c0705-90e4-42f8-8298-a457c7e778ff",
   "metadata": {
    "execution": {
     "iopub.execute_input": "2022-07-23T02:46:34.945545Z",
     "iopub.status.busy": "2022-07-23T02:46:34.945074Z",
     "iopub.status.idle": "2022-07-23T02:46:34.962376Z",
     "shell.execute_reply": "2022-07-23T02:46:34.961833Z"
    },
    "papermill": {
     "duration": 0.028812,
     "end_time": "2022-07-23T02:46:34.963766",
     "exception": false,
     "start_time": "2022-07-23T02:46:34.934954",
     "status": "completed"
    },
    "tags": []
   },
   "outputs": [
    {
     "data": {
      "text/plain": [
       "'Using output dir base: /opt/data/results/gls/gene_corrs/cohorts/1000g_eur/1000g/mashr'"
      ]
     },
     "metadata": {},
     "output_type": "display_data"
    }
   ],
   "source": [
    "OUTPUT_DIR_BASE = (\n",
    "    conf.RESULTS[\"GLS\"]\n",
    "    / \"gene_corrs\"\n",
    "    / \"cohorts\"\n",
    "    / COHORT_NAME.lower()\n",
    "    / REFERENCE_PANEL.lower()\n",
    "    / EQTL_MODEL.lower()\n",
    ")\n",
    "OUTPUT_DIR_BASE.mkdir(parents=True, exist_ok=True)\n",
    "\n",
    "display(f\"Using output dir base: {OUTPUT_DIR_BASE}\")"
   ]
  },
  {
   "cell_type": "code",
   "execution_count": 9,
   "id": "4d87fab9-c714-45de-9c05-4f6c276cd497",
   "metadata": {
    "execution": {
     "iopub.execute_input": "2022-07-23T02:46:34.985621Z",
     "iopub.status.busy": "2022-07-23T02:46:34.985221Z",
     "iopub.status.idle": "2022-07-23T02:46:35.001369Z",
     "shell.execute_reply": "2022-07-23T02:46:35.000778Z"
    },
    "papermill": {
     "duration": 0.028098,
     "end_time": "2022-07-23T02:46:35.002664",
     "exception": false,
     "start_time": "2022-07-23T02:46:34.974566",
     "status": "completed"
    },
    "tags": []
   },
   "outputs": [
    {
     "data": {
      "text/plain": [
       "'Cohort input dir: /opt/data/results/gls/gene_corrs/cohorts/1000g_eur'"
      ]
     },
     "metadata": {},
     "output_type": "display_data"
    }
   ],
   "source": [
    "COHORT_INPUT_DIR = conf.RESULTS[\"GLS\"] / \"gene_corrs\" / \"cohorts\" / COHORT_NAME\n",
    "\n",
    "display(f\"Cohort input dir: {COHORT_INPUT_DIR}\")\n",
    "assert COHORT_INPUT_DIR.exists()"
   ]
  },
  {
   "cell_type": "code",
   "execution_count": 10,
   "id": "1afd50f7",
   "metadata": {
    "execution": {
     "iopub.execute_input": "2022-07-23T02:46:35.023451Z",
     "iopub.status.busy": "2022-07-23T02:46:35.023056Z",
     "iopub.status.idle": "2022-07-23T02:46:35.038216Z",
     "shell.execute_reply": "2022-07-23T02:46:35.037745Z"
    },
    "papermill": {
     "duration": 0.026842,
     "end_time": "2022-07-23T02:46:35.039478",
     "exception": false,
     "start_time": "2022-07-23T02:46:35.012636",
     "status": "completed"
    },
    "tags": []
   },
   "outputs": [
    {
     "data": {
      "text/plain": [
       "'Gene correlations input dir: /opt/data/results/gls/gene_corrs/cohorts/1000g_eur/1000g/mashr/by_chr'"
      ]
     },
     "metadata": {},
     "output_type": "display_data"
    }
   ],
   "source": [
    "INPUT_DIR = OUTPUT_DIR_BASE / \"by_chr\"\n",
    "\n",
    "display(f\"Gene correlations input dir: {INPUT_DIR}\")\n",
    "assert INPUT_DIR.exists()"
   ]
  },
  {
   "cell_type": "markdown",
   "id": "99ccb166",
   "metadata": {
    "papermill": {
     "duration": 0.009342,
     "end_time": "2022-07-23T02:46:35.058548",
     "exception": false,
     "start_time": "2022-07-23T02:46:35.049206",
     "status": "completed"
    },
    "tags": []
   },
   "source": [
    "# Load data"
   ]
  },
  {
   "cell_type": "markdown",
   "id": "028bdd42",
   "metadata": {
    "papermill": {
     "duration": 0.008794,
     "end_time": "2022-07-23T02:46:35.077271",
     "exception": false,
     "start_time": "2022-07-23T02:46:35.068477",
     "status": "completed"
    },
    "tags": []
   },
   "source": [
    "## Gene correlations"
   ]
  },
  {
   "cell_type": "code",
   "execution_count": 11,
   "id": "04624465",
   "metadata": {
    "execution": {
     "iopub.execute_input": "2022-07-23T02:46:35.095698Z",
     "iopub.status.busy": "2022-07-23T02:46:35.095481Z",
     "iopub.status.idle": "2022-07-23T02:46:35.109831Z",
     "shell.execute_reply": "2022-07-23T02:46:35.109362Z"
    },
    "papermill": {
     "duration": 0.025093,
     "end_time": "2022-07-23T02:46:35.111125",
     "exception": false,
     "start_time": "2022-07-23T02:46:35.086032",
     "status": "completed"
    },
    "tags": []
   },
   "outputs": [],
   "source": [
    "all_gene_corr_files = list(INPUT_DIR.glob(\"gene_corrs-chr*.pkl\"))"
   ]
  },
  {
   "cell_type": "code",
   "execution_count": 12,
   "id": "be5869e7-d0e4-4b8f-8c6d-a1c6a9419fe2",
   "metadata": {
    "execution": {
     "iopub.execute_input": "2022-07-23T02:46:35.130357Z",
     "iopub.status.busy": "2022-07-23T02:46:35.130200Z",
     "iopub.status.idle": "2022-07-23T02:46:35.144466Z",
     "shell.execute_reply": "2022-07-23T02:46:35.143796Z"
    },
    "papermill": {
     "duration": 0.025254,
     "end_time": "2022-07-23T02:46:35.145718",
     "exception": false,
     "start_time": "2022-07-23T02:46:35.120464",
     "status": "completed"
    },
    "tags": []
   },
   "outputs": [],
   "source": [
    "# sort by chromosome\n",
    "all_gene_corr_files = sorted(\n",
    "    all_gene_corr_files, key=lambda x: int(x.name.split(\"-chr\")[1].split(\".pkl\")[0])\n",
    ")"
   ]
  },
  {
   "cell_type": "code",
   "execution_count": 13,
   "id": "7d1168f5",
   "metadata": {
    "execution": {
     "iopub.execute_input": "2022-07-23T02:46:35.164752Z",
     "iopub.status.busy": "2022-07-23T02:46:35.164593Z",
     "iopub.status.idle": "2022-07-23T02:46:35.179304Z",
     "shell.execute_reply": "2022-07-23T02:46:35.178830Z"
    },
    "papermill": {
     "duration": 0.02553,
     "end_time": "2022-07-23T02:46:35.180485",
     "exception": false,
     "start_time": "2022-07-23T02:46:35.154955",
     "status": "completed"
    },
    "tags": []
   },
   "outputs": [
    {
     "data": {
      "text/plain": [
       "22"
      ]
     },
     "execution_count": 13,
     "metadata": {},
     "output_type": "execute_result"
    }
   ],
   "source": [
    "len(all_gene_corr_files)"
   ]
  },
  {
   "cell_type": "code",
   "execution_count": 14,
   "id": "39364170",
   "metadata": {
    "execution": {
     "iopub.execute_input": "2022-07-23T02:46:35.199781Z",
     "iopub.status.busy": "2022-07-23T02:46:35.199544Z",
     "iopub.status.idle": "2022-07-23T02:46:35.214718Z",
     "shell.execute_reply": "2022-07-23T02:46:35.214149Z"
    },
    "papermill": {
     "duration": 0.026158,
     "end_time": "2022-07-23T02:46:35.215931",
     "exception": false,
     "start_time": "2022-07-23T02:46:35.189773",
     "status": "completed"
    },
    "tags": []
   },
   "outputs": [
    {
     "data": {
      "text/plain": [
       "[PosixPath('/opt/data/results/gls/gene_corrs/cohorts/1000g_eur/1000g/mashr/by_chr/gene_corrs-chr1.pkl'),\n",
       " PosixPath('/opt/data/results/gls/gene_corrs/cohorts/1000g_eur/1000g/mashr/by_chr/gene_corrs-chr2.pkl'),\n",
       " PosixPath('/opt/data/results/gls/gene_corrs/cohorts/1000g_eur/1000g/mashr/by_chr/gene_corrs-chr3.pkl'),\n",
       " PosixPath('/opt/data/results/gls/gene_corrs/cohorts/1000g_eur/1000g/mashr/by_chr/gene_corrs-chr4.pkl'),\n",
       " PosixPath('/opt/data/results/gls/gene_corrs/cohorts/1000g_eur/1000g/mashr/by_chr/gene_corrs-chr5.pkl'),\n",
       " PosixPath('/opt/data/results/gls/gene_corrs/cohorts/1000g_eur/1000g/mashr/by_chr/gene_corrs-chr6.pkl'),\n",
       " PosixPath('/opt/data/results/gls/gene_corrs/cohorts/1000g_eur/1000g/mashr/by_chr/gene_corrs-chr7.pkl'),\n",
       " PosixPath('/opt/data/results/gls/gene_corrs/cohorts/1000g_eur/1000g/mashr/by_chr/gene_corrs-chr8.pkl'),\n",
       " PosixPath('/opt/data/results/gls/gene_corrs/cohorts/1000g_eur/1000g/mashr/by_chr/gene_corrs-chr9.pkl'),\n",
       " PosixPath('/opt/data/results/gls/gene_corrs/cohorts/1000g_eur/1000g/mashr/by_chr/gene_corrs-chr10.pkl'),\n",
       " PosixPath('/opt/data/results/gls/gene_corrs/cohorts/1000g_eur/1000g/mashr/by_chr/gene_corrs-chr11.pkl'),\n",
       " PosixPath('/opt/data/results/gls/gene_corrs/cohorts/1000g_eur/1000g/mashr/by_chr/gene_corrs-chr12.pkl'),\n",
       " PosixPath('/opt/data/results/gls/gene_corrs/cohorts/1000g_eur/1000g/mashr/by_chr/gene_corrs-chr13.pkl'),\n",
       " PosixPath('/opt/data/results/gls/gene_corrs/cohorts/1000g_eur/1000g/mashr/by_chr/gene_corrs-chr14.pkl'),\n",
       " PosixPath('/opt/data/results/gls/gene_corrs/cohorts/1000g_eur/1000g/mashr/by_chr/gene_corrs-chr15.pkl'),\n",
       " PosixPath('/opt/data/results/gls/gene_corrs/cohorts/1000g_eur/1000g/mashr/by_chr/gene_corrs-chr16.pkl'),\n",
       " PosixPath('/opt/data/results/gls/gene_corrs/cohorts/1000g_eur/1000g/mashr/by_chr/gene_corrs-chr17.pkl'),\n",
       " PosixPath('/opt/data/results/gls/gene_corrs/cohorts/1000g_eur/1000g/mashr/by_chr/gene_corrs-chr18.pkl'),\n",
       " PosixPath('/opt/data/results/gls/gene_corrs/cohorts/1000g_eur/1000g/mashr/by_chr/gene_corrs-chr19.pkl'),\n",
       " PosixPath('/opt/data/results/gls/gene_corrs/cohorts/1000g_eur/1000g/mashr/by_chr/gene_corrs-chr20.pkl'),\n",
       " PosixPath('/opt/data/results/gls/gene_corrs/cohorts/1000g_eur/1000g/mashr/by_chr/gene_corrs-chr21.pkl'),\n",
       " PosixPath('/opt/data/results/gls/gene_corrs/cohorts/1000g_eur/1000g/mashr/by_chr/gene_corrs-chr22.pkl')]"
      ]
     },
     "execution_count": 14,
     "metadata": {},
     "output_type": "execute_result"
    }
   ],
   "source": [
    "all_gene_corr_files"
   ]
  },
  {
   "cell_type": "code",
   "execution_count": 15,
   "id": "6e48c284",
   "metadata": {
    "execution": {
     "iopub.execute_input": "2022-07-23T02:46:35.235465Z",
     "iopub.status.busy": "2022-07-23T02:46:35.235293Z",
     "iopub.status.idle": "2022-07-23T02:46:35.249450Z",
     "shell.execute_reply": "2022-07-23T02:46:35.248966Z"
    },
    "papermill": {
     "duration": 0.025087,
     "end_time": "2022-07-23T02:46:35.250724",
     "exception": false,
     "start_time": "2022-07-23T02:46:35.225637",
     "status": "completed"
    },
    "tags": []
   },
   "outputs": [],
   "source": [
    "assert len(all_gene_corr_files) == 22"
   ]
  },
  {
   "cell_type": "markdown",
   "id": "99d01a88-2f71-41eb-a423-a17378bbb174",
   "metadata": {
    "papermill": {
     "duration": 0.009156,
     "end_time": "2022-07-23T02:46:35.269474",
     "exception": false,
     "start_time": "2022-07-23T02:46:35.260318",
     "status": "completed"
    },
    "tags": []
   },
   "source": [
    "## Get common genes"
   ]
  },
  {
   "cell_type": "code",
   "execution_count": 16,
   "id": "6a5e95f0-eeab-4716-8982-b1dbbd8763d8",
   "metadata": {
    "execution": {
     "iopub.execute_input": "2022-07-23T02:46:35.288854Z",
     "iopub.status.busy": "2022-07-23T02:46:35.288649Z",
     "iopub.status.idle": "2022-07-23T02:46:35.319113Z",
     "shell.execute_reply": "2022-07-23T02:46:35.318592Z"
    },
    "papermill": {
     "duration": 0.041786,
     "end_time": "2022-07-23T02:46:35.320470",
     "exception": false,
     "start_time": "2022-07-23T02:46:35.278684",
     "status": "completed"
    },
    "tags": []
   },
   "outputs": [],
   "source": [
    "gene_ids = set()\n",
    "for f in all_gene_corr_files:\n",
    "    chr_genes = pd.read_pickle(f).index.tolist()\n",
    "    gene_ids.update(chr_genes)"
   ]
  },
  {
   "cell_type": "code",
   "execution_count": 17,
   "id": "81ca7c6e-69c4-48c4-b44f-ec9a2b8bb527",
   "metadata": {
    "execution": {
     "iopub.execute_input": "2022-07-23T02:46:35.340088Z",
     "iopub.status.busy": "2022-07-23T02:46:35.339926Z",
     "iopub.status.idle": "2022-07-23T02:46:35.354378Z",
     "shell.execute_reply": "2022-07-23T02:46:35.353885Z"
    },
    "papermill": {
     "duration": 0.025678,
     "end_time": "2022-07-23T02:46:35.355658",
     "exception": false,
     "start_time": "2022-07-23T02:46:35.329980",
     "status": "completed"
    },
    "tags": []
   },
   "outputs": [
    {
     "data": {
      "text/plain": [
       "6442"
      ]
     },
     "metadata": {},
     "output_type": "display_data"
    }
   ],
   "source": [
    "display(len(gene_ids))"
   ]
  },
  {
   "cell_type": "code",
   "execution_count": 18,
   "id": "5e8a7f17-c84b-4d71-bf0d-11116a66084e",
   "metadata": {
    "execution": {
     "iopub.execute_input": "2022-07-23T02:46:35.376504Z",
     "iopub.status.busy": "2022-07-23T02:46:35.375937Z",
     "iopub.status.idle": "2022-07-23T02:46:35.392275Z",
     "shell.execute_reply": "2022-07-23T02:46:35.391836Z"
    },
    "papermill": {
     "duration": 0.027902,
     "end_time": "2022-07-23T02:46:35.393476",
     "exception": false,
     "start_time": "2022-07-23T02:46:35.365574",
     "status": "completed"
    },
    "tags": []
   },
   "outputs": [
    {
     "data": {
      "text/plain": [
       "['ENSG00000000419',\n",
       " 'ENSG00000000938',\n",
       " 'ENSG00000000971',\n",
       " 'ENSG00000001084',\n",
       " 'ENSG00000001167']"
      ]
     },
     "execution_count": 18,
     "metadata": {},
     "output_type": "execute_result"
    }
   ],
   "source": [
    "sorted(list(gene_ids))[:5]"
   ]
  },
  {
   "cell_type": "markdown",
   "id": "afb94d22-07be-4b67-b448-1d15d787e882",
   "metadata": {
    "papermill": {
     "duration": 0.009034,
     "end_time": "2022-07-23T02:46:35.412043",
     "exception": false,
     "start_time": "2022-07-23T02:46:35.403009",
     "status": "completed"
    },
    "tags": []
   },
   "source": [
    "## Gene info"
   ]
  },
  {
   "cell_type": "code",
   "execution_count": 19,
   "id": "66346539-e969-46dd-997d-c1f404646caa",
   "metadata": {
    "execution": {
     "iopub.execute_input": "2022-07-23T02:46:35.431437Z",
     "iopub.status.busy": "2022-07-23T02:46:35.431196Z",
     "iopub.status.idle": "2022-07-23T02:46:35.447741Z",
     "shell.execute_reply": "2022-07-23T02:46:35.447219Z"
    },
    "papermill": {
     "duration": 0.027745,
     "end_time": "2022-07-23T02:46:35.449073",
     "exception": false,
     "start_time": "2022-07-23T02:46:35.421328",
     "status": "completed"
    },
    "tags": []
   },
   "outputs": [],
   "source": [
    "genes_info = pd.read_pickle(COHORT_INPUT_DIR / \"genes_info.pkl\")"
   ]
  },
  {
   "cell_type": "code",
   "execution_count": 20,
   "id": "6cf6e7f6-5c5c-4ee5-a3d6-1fab3f88fd20",
   "metadata": {
    "execution": {
     "iopub.execute_input": "2022-07-23T02:46:35.470113Z",
     "iopub.status.busy": "2022-07-23T02:46:35.469606Z",
     "iopub.status.idle": "2022-07-23T02:46:35.484783Z",
     "shell.execute_reply": "2022-07-23T02:46:35.484259Z"
    },
    "papermill": {
     "duration": 0.027127,
     "end_time": "2022-07-23T02:46:35.485967",
     "exception": false,
     "start_time": "2022-07-23T02:46:35.458840",
     "status": "completed"
    },
    "tags": []
   },
   "outputs": [
    {
     "data": {
      "text/plain": [
       "(6444, 7)"
      ]
     },
     "execution_count": 20,
     "metadata": {},
     "output_type": "execute_result"
    }
   ],
   "source": [
    "genes_info.shape"
   ]
  },
  {
   "cell_type": "code",
   "execution_count": 21,
   "id": "c0c00e56-a168-4502-bad1-178fa736b055",
   "metadata": {
    "execution": {
     "iopub.execute_input": "2022-07-23T02:46:35.506254Z",
     "iopub.status.busy": "2022-07-23T02:46:35.506091Z",
     "iopub.status.idle": "2022-07-23T02:46:35.529479Z",
     "shell.execute_reply": "2022-07-23T02:46:35.528800Z"
    },
    "papermill": {
     "duration": 0.035526,
     "end_time": "2022-07-23T02:46:35.531266",
     "exception": false,
     "start_time": "2022-07-23T02:46:35.495740",
     "status": "completed"
    },
    "tags": []
   },
   "outputs": [
    {
     "data": {
      "text/html": [
       "<div>\n",
       "<style scoped>\n",
       "    .dataframe tbody tr th:only-of-type {\n",
       "        vertical-align: middle;\n",
       "    }\n",
       "\n",
       "    .dataframe tbody tr th {\n",
       "        vertical-align: top;\n",
       "    }\n",
       "\n",
       "    .dataframe thead th {\n",
       "        text-align: right;\n",
       "    }\n",
       "</style>\n",
       "<table border=\"1\" class=\"dataframe\">\n",
       "  <thead>\n",
       "    <tr style=\"text-align: right;\">\n",
       "      <th></th>\n",
       "      <th>name</th>\n",
       "      <th>id</th>\n",
       "      <th>chr</th>\n",
       "      <th>band</th>\n",
       "      <th>start_position</th>\n",
       "      <th>end_position</th>\n",
       "      <th>gene_length</th>\n",
       "    </tr>\n",
       "  </thead>\n",
       "  <tbody>\n",
       "    <tr>\n",
       "      <th>0</th>\n",
       "      <td>MFN2</td>\n",
       "      <td>ENSG00000116688</td>\n",
       "      <td>1</td>\n",
       "      <td>1p36.22</td>\n",
       "      <td>11980181.0</td>\n",
       "      <td>12013514.0</td>\n",
       "      <td>33333.0</td>\n",
       "    </tr>\n",
       "    <tr>\n",
       "      <th>1</th>\n",
       "      <td>PPA2</td>\n",
       "      <td>ENSG00000138777</td>\n",
       "      <td>4</td>\n",
       "      <td>4q24</td>\n",
       "      <td>105369077.0</td>\n",
       "      <td>105474067.0</td>\n",
       "      <td>104990.0</td>\n",
       "    </tr>\n",
       "    <tr>\n",
       "      <th>2</th>\n",
       "      <td>ADRA2A</td>\n",
       "      <td>ENSG00000150594</td>\n",
       "      <td>10</td>\n",
       "      <td>10q25.2</td>\n",
       "      <td>111077163.0</td>\n",
       "      <td>111080907.0</td>\n",
       "      <td>3744.0</td>\n",
       "    </tr>\n",
       "    <tr>\n",
       "      <th>3</th>\n",
       "      <td>RYR2</td>\n",
       "      <td>ENSG00000198626</td>\n",
       "      <td>1</td>\n",
       "      <td>1q43</td>\n",
       "      <td>237042184.0</td>\n",
       "      <td>237833988.0</td>\n",
       "      <td>791804.0</td>\n",
       "    </tr>\n",
       "    <tr>\n",
       "      <th>4</th>\n",
       "      <td>VAV2</td>\n",
       "      <td>ENSG00000160293</td>\n",
       "      <td>9</td>\n",
       "      <td>9q34.2</td>\n",
       "      <td>133761894.0</td>\n",
       "      <td>133992604.0</td>\n",
       "      <td>230710.0</td>\n",
       "    </tr>\n",
       "  </tbody>\n",
       "</table>\n",
       "</div>"
      ],
      "text/plain": [
       "     name               id chr     band  start_position  end_position  \\\n",
       "0    MFN2  ENSG00000116688   1  1p36.22      11980181.0    12013514.0   \n",
       "1    PPA2  ENSG00000138777   4     4q24     105369077.0   105474067.0   \n",
       "2  ADRA2A  ENSG00000150594  10  10q25.2     111077163.0   111080907.0   \n",
       "3    RYR2  ENSG00000198626   1     1q43     237042184.0   237833988.0   \n",
       "4    VAV2  ENSG00000160293   9   9q34.2     133761894.0   133992604.0   \n",
       "\n",
       "   gene_length  \n",
       "0      33333.0  \n",
       "1     104990.0  \n",
       "2       3744.0  \n",
       "3     791804.0  \n",
       "4     230710.0  "
      ]
     },
     "execution_count": 21,
     "metadata": {},
     "output_type": "execute_result"
    }
   ],
   "source": [
    "genes_info.head()"
   ]
  },
  {
   "cell_type": "code",
   "execution_count": 22,
   "id": "c6f52a23-0e0c-4def-8ebe-714793743f4e",
   "metadata": {
    "execution": {
     "iopub.execute_input": "2022-07-23T02:46:35.556620Z",
     "iopub.status.busy": "2022-07-23T02:46:35.556145Z",
     "iopub.status.idle": "2022-07-23T02:46:35.574397Z",
     "shell.execute_reply": "2022-07-23T02:46:35.573817Z"
    },
    "papermill": {
     "duration": 0.031802,
     "end_time": "2022-07-23T02:46:35.575925",
     "exception": false,
     "start_time": "2022-07-23T02:46:35.544123",
     "status": "completed"
    },
    "tags": []
   },
   "outputs": [],
   "source": [
    "# keep genes in correlation matrices only\n",
    "genes_info = genes_info[genes_info[\"id\"].isin(gene_ids)]"
   ]
  },
  {
   "cell_type": "code",
   "execution_count": 23,
   "id": "19cde9f2-0cad-4b4e-a409-0cff052cc77c",
   "metadata": {
    "execution": {
     "iopub.execute_input": "2022-07-23T02:46:35.598024Z",
     "iopub.status.busy": "2022-07-23T02:46:35.597861Z",
     "iopub.status.idle": "2022-07-23T02:46:35.612624Z",
     "shell.execute_reply": "2022-07-23T02:46:35.612152Z"
    },
    "papermill": {
     "duration": 0.026859,
     "end_time": "2022-07-23T02:46:35.613894",
     "exception": false,
     "start_time": "2022-07-23T02:46:35.587035",
     "status": "completed"
    },
    "tags": []
   },
   "outputs": [
    {
     "data": {
      "text/plain": [
       "(6442, 7)"
      ]
     },
     "execution_count": 23,
     "metadata": {},
     "output_type": "execute_result"
    }
   ],
   "source": [
    "genes_info.shape"
   ]
  },
  {
   "cell_type": "code",
   "execution_count": 24,
   "id": "f9e52a95-4c6e-4ce6-ae1d-df635d5dbe47",
   "metadata": {
    "execution": {
     "iopub.execute_input": "2022-07-23T02:46:35.635124Z",
     "iopub.status.busy": "2022-07-23T02:46:35.634935Z",
     "iopub.status.idle": "2022-07-23T02:46:35.650681Z",
     "shell.execute_reply": "2022-07-23T02:46:35.650179Z"
    },
    "papermill": {
     "duration": 0.027799,
     "end_time": "2022-07-23T02:46:35.652024",
     "exception": false,
     "start_time": "2022-07-23T02:46:35.624225",
     "status": "completed"
    },
    "tags": []
   },
   "outputs": [],
   "source": [
    "assert not genes_info.isna().any().any()"
   ]
  },
  {
   "cell_type": "code",
   "execution_count": 25,
   "id": "683d8106-61e7-4484-a97c-4b3f48780647",
   "metadata": {
    "execution": {
     "iopub.execute_input": "2022-07-23T02:46:35.672606Z",
     "iopub.status.busy": "2022-07-23T02:46:35.672450Z",
     "iopub.status.idle": "2022-07-23T02:46:35.687794Z",
     "shell.execute_reply": "2022-07-23T02:46:35.687269Z"
    },
    "papermill": {
     "duration": 0.027038,
     "end_time": "2022-07-23T02:46:35.689096",
     "exception": false,
     "start_time": "2022-07-23T02:46:35.662058",
     "status": "completed"
    },
    "tags": []
   },
   "outputs": [
    {
     "data": {
      "text/plain": [
       "name               object\n",
       "id                 object\n",
       "chr                object\n",
       "band               object\n",
       "start_position    float64\n",
       "end_position      float64\n",
       "gene_length       float64\n",
       "dtype: object"
      ]
     },
     "execution_count": 25,
     "metadata": {},
     "output_type": "execute_result"
    }
   ],
   "source": [
    "genes_info.dtypes"
   ]
  },
  {
   "cell_type": "code",
   "execution_count": 26,
   "id": "4e10fc0f-3287-4595-afa4-5b6db9ad6b6e",
   "metadata": {
    "execution": {
     "iopub.execute_input": "2022-07-23T02:46:35.710640Z",
     "iopub.status.busy": "2022-07-23T02:46:35.710475Z",
     "iopub.status.idle": "2022-07-23T02:46:36.279434Z",
     "shell.execute_reply": "2022-07-23T02:46:36.278798Z"
    },
    "papermill": {
     "duration": 0.581291,
     "end_time": "2022-07-23T02:46:36.280844",
     "exception": false,
     "start_time": "2022-07-23T02:46:35.699553",
     "status": "completed"
    },
    "tags": []
   },
   "outputs": [],
   "source": [
    "genes_info[\"chr\"] = genes_info[\"chr\"].apply(pd.to_numeric, downcast=\"integer\")\n",
    "genes_info[\"start_position\"] = genes_info[\"start_position\"].astype(int)\n",
    "genes_info[\"end_position\"] = genes_info[\"end_position\"].astype(int)\n",
    "genes_info[\"gene_length\"] = genes_info[\"gene_length\"].astype(int)"
   ]
  },
  {
   "cell_type": "code",
   "execution_count": 27,
   "id": "90028a9b-781e-46c7-97b8-9e1676e682d4",
   "metadata": {
    "execution": {
     "iopub.execute_input": "2022-07-23T02:46:36.301306Z",
     "iopub.status.busy": "2022-07-23T02:46:36.301098Z",
     "iopub.status.idle": "2022-07-23T02:46:36.316546Z",
     "shell.execute_reply": "2022-07-23T02:46:36.315979Z"
    },
    "papermill": {
     "duration": 0.027158,
     "end_time": "2022-07-23T02:46:36.317796",
     "exception": false,
     "start_time": "2022-07-23T02:46:36.290638",
     "status": "completed"
    },
    "tags": []
   },
   "outputs": [
    {
     "data": {
      "text/plain": [
       "name              object\n",
       "id                object\n",
       "chr                int64\n",
       "band              object\n",
       "start_position     int64\n",
       "end_position       int64\n",
       "gene_length        int64\n",
       "dtype: object"
      ]
     },
     "execution_count": 27,
     "metadata": {},
     "output_type": "execute_result"
    }
   ],
   "source": [
    "genes_info.dtypes"
   ]
  },
  {
   "cell_type": "code",
   "execution_count": 28,
   "id": "9a46994f-4625-45ee-9357-1e06b9ba1d2a",
   "metadata": {
    "execution": {
     "iopub.execute_input": "2022-07-23T02:46:36.338938Z",
     "iopub.status.busy": "2022-07-23T02:46:36.338734Z",
     "iopub.status.idle": "2022-07-23T02:46:36.353885Z",
     "shell.execute_reply": "2022-07-23T02:46:36.353315Z"
    },
    "papermill": {
     "duration": 0.027303,
     "end_time": "2022-07-23T02:46:36.355190",
     "exception": false,
     "start_time": "2022-07-23T02:46:36.327887",
     "status": "completed"
    },
    "tags": []
   },
   "outputs": [],
   "source": [
    "assert not genes_info.isna().any(None)"
   ]
  },
  {
   "cell_type": "code",
   "execution_count": 29,
   "id": "adb6d5ce-d010-41f8-bb63-7b5f66bf2c51",
   "metadata": {
    "execution": {
     "iopub.execute_input": "2022-07-23T02:46:36.376001Z",
     "iopub.status.busy": "2022-07-23T02:46:36.375798Z",
     "iopub.status.idle": "2022-07-23T02:46:36.394775Z",
     "shell.execute_reply": "2022-07-23T02:46:36.394159Z"
    },
    "papermill": {
     "duration": 0.030645,
     "end_time": "2022-07-23T02:46:36.396038",
     "exception": false,
     "start_time": "2022-07-23T02:46:36.365393",
     "status": "completed"
    },
    "tags": []
   },
   "outputs": [
    {
     "data": {
      "text/html": [
       "<div>\n",
       "<style scoped>\n",
       "    .dataframe tbody tr th:only-of-type {\n",
       "        vertical-align: middle;\n",
       "    }\n",
       "\n",
       "    .dataframe tbody tr th {\n",
       "        vertical-align: top;\n",
       "    }\n",
       "\n",
       "    .dataframe thead th {\n",
       "        text-align: right;\n",
       "    }\n",
       "</style>\n",
       "<table border=\"1\" class=\"dataframe\">\n",
       "  <thead>\n",
       "    <tr style=\"text-align: right;\">\n",
       "      <th></th>\n",
       "      <th>name</th>\n",
       "      <th>id</th>\n",
       "      <th>chr</th>\n",
       "      <th>band</th>\n",
       "      <th>start_position</th>\n",
       "      <th>end_position</th>\n",
       "      <th>gene_length</th>\n",
       "    </tr>\n",
       "  </thead>\n",
       "  <tbody>\n",
       "    <tr>\n",
       "      <th>0</th>\n",
       "      <td>MFN2</td>\n",
       "      <td>ENSG00000116688</td>\n",
       "      <td>1</td>\n",
       "      <td>1p36.22</td>\n",
       "      <td>11980181</td>\n",
       "      <td>12013514</td>\n",
       "      <td>33333</td>\n",
       "    </tr>\n",
       "    <tr>\n",
       "      <th>1</th>\n",
       "      <td>PPA2</td>\n",
       "      <td>ENSG00000138777</td>\n",
       "      <td>4</td>\n",
       "      <td>4q24</td>\n",
       "      <td>105369077</td>\n",
       "      <td>105474067</td>\n",
       "      <td>104990</td>\n",
       "    </tr>\n",
       "    <tr>\n",
       "      <th>2</th>\n",
       "      <td>ADRA2A</td>\n",
       "      <td>ENSG00000150594</td>\n",
       "      <td>10</td>\n",
       "      <td>10q25.2</td>\n",
       "      <td>111077163</td>\n",
       "      <td>111080907</td>\n",
       "      <td>3744</td>\n",
       "    </tr>\n",
       "    <tr>\n",
       "      <th>3</th>\n",
       "      <td>RYR2</td>\n",
       "      <td>ENSG00000198626</td>\n",
       "      <td>1</td>\n",
       "      <td>1q43</td>\n",
       "      <td>237042184</td>\n",
       "      <td>237833988</td>\n",
       "      <td>791804</td>\n",
       "    </tr>\n",
       "    <tr>\n",
       "      <th>4</th>\n",
       "      <td>VAV2</td>\n",
       "      <td>ENSG00000160293</td>\n",
       "      <td>9</td>\n",
       "      <td>9q34.2</td>\n",
       "      <td>133761894</td>\n",
       "      <td>133992604</td>\n",
       "      <td>230710</td>\n",
       "    </tr>\n",
       "  </tbody>\n",
       "</table>\n",
       "</div>"
      ],
      "text/plain": [
       "     name               id  chr     band  start_position  end_position  \\\n",
       "0    MFN2  ENSG00000116688    1  1p36.22        11980181      12013514   \n",
       "1    PPA2  ENSG00000138777    4     4q24       105369077     105474067   \n",
       "2  ADRA2A  ENSG00000150594   10  10q25.2       111077163     111080907   \n",
       "3    RYR2  ENSG00000198626    1     1q43       237042184     237833988   \n",
       "4    VAV2  ENSG00000160293    9   9q34.2       133761894     133992604   \n",
       "\n",
       "   gene_length  \n",
       "0        33333  \n",
       "1       104990  \n",
       "2         3744  \n",
       "3       791804  \n",
       "4       230710  "
      ]
     },
     "execution_count": 29,
     "metadata": {},
     "output_type": "execute_result"
    }
   ],
   "source": [
    "genes_info.head()"
   ]
  },
  {
   "cell_type": "markdown",
   "id": "f4d4f177",
   "metadata": {
    "papermill": {
     "duration": 0.010192,
     "end_time": "2022-07-23T02:46:36.416699",
     "exception": false,
     "start_time": "2022-07-23T02:46:36.406507",
     "status": "completed"
    },
    "tags": []
   },
   "source": [
    "# Create full correlation matrix"
   ]
  },
  {
   "cell_type": "code",
   "execution_count": 30,
   "id": "fad655cb-e830-496d-8ae1-bd9088623515",
   "metadata": {
    "execution": {
     "iopub.execute_input": "2022-07-23T02:46:36.438157Z",
     "iopub.status.busy": "2022-07-23T02:46:36.437561Z",
     "iopub.status.idle": "2022-07-23T02:46:36.454854Z",
     "shell.execute_reply": "2022-07-23T02:46:36.454354Z"
    },
    "papermill": {
     "duration": 0.029458,
     "end_time": "2022-07-23T02:46:36.456160",
     "exception": false,
     "start_time": "2022-07-23T02:46:36.426702",
     "status": "completed"
    },
    "tags": []
   },
   "outputs": [],
   "source": [
    "genes_info = genes_info.sort_values([\"chr\", \"start_position\"])"
   ]
  },
  {
   "cell_type": "code",
   "execution_count": 31,
   "id": "3d93727c-e045-434b-99ec-2bfc661003f4",
   "metadata": {
    "execution": {
     "iopub.execute_input": "2022-07-23T02:46:36.477819Z",
     "iopub.status.busy": "2022-07-23T02:46:36.477659Z",
     "iopub.status.idle": "2022-07-23T02:46:36.499781Z",
     "shell.execute_reply": "2022-07-23T02:46:36.499246Z"
    },
    "papermill": {
     "duration": 0.034376,
     "end_time": "2022-07-23T02:46:36.500999",
     "exception": false,
     "start_time": "2022-07-23T02:46:36.466623",
     "status": "completed"
    },
    "tags": []
   },
   "outputs": [
    {
     "data": {
      "text/html": [
       "<div>\n",
       "<style scoped>\n",
       "    .dataframe tbody tr th:only-of-type {\n",
       "        vertical-align: middle;\n",
       "    }\n",
       "\n",
       "    .dataframe tbody tr th {\n",
       "        vertical-align: top;\n",
       "    }\n",
       "\n",
       "    .dataframe thead th {\n",
       "        text-align: right;\n",
       "    }\n",
       "</style>\n",
       "<table border=\"1\" class=\"dataframe\">\n",
       "  <thead>\n",
       "    <tr style=\"text-align: right;\">\n",
       "      <th></th>\n",
       "      <th>name</th>\n",
       "      <th>id</th>\n",
       "      <th>chr</th>\n",
       "      <th>band</th>\n",
       "      <th>start_position</th>\n",
       "      <th>end_position</th>\n",
       "      <th>gene_length</th>\n",
       "    </tr>\n",
       "  </thead>\n",
       "  <tbody>\n",
       "    <tr>\n",
       "      <th>3661</th>\n",
       "      <td>NOC2L</td>\n",
       "      <td>ENSG00000188976</td>\n",
       "      <td>1</td>\n",
       "      <td>1p36.33</td>\n",
       "      <td>944203</td>\n",
       "      <td>959309</td>\n",
       "      <td>15106</td>\n",
       "    </tr>\n",
       "    <tr>\n",
       "      <th>5620</th>\n",
       "      <td>HES4</td>\n",
       "      <td>ENSG00000188290</td>\n",
       "      <td>1</td>\n",
       "      <td>1p36.33</td>\n",
       "      <td>998962</td>\n",
       "      <td>1000172</td>\n",
       "      <td>1210</td>\n",
       "    </tr>\n",
       "    <tr>\n",
       "      <th>192</th>\n",
       "      <td>ISG15</td>\n",
       "      <td>ENSG00000187608</td>\n",
       "      <td>1</td>\n",
       "      <td>1p36.33</td>\n",
       "      <td>1001138</td>\n",
       "      <td>1014540</td>\n",
       "      <td>13402</td>\n",
       "    </tr>\n",
       "    <tr>\n",
       "      <th>2239</th>\n",
       "      <td>AGRN</td>\n",
       "      <td>ENSG00000188157</td>\n",
       "      <td>1</td>\n",
       "      <td>1p36.33</td>\n",
       "      <td>1020120</td>\n",
       "      <td>1056118</td>\n",
       "      <td>35998</td>\n",
       "    </tr>\n",
       "    <tr>\n",
       "      <th>5164</th>\n",
       "      <td>TNFRSF18</td>\n",
       "      <td>ENSG00000186891</td>\n",
       "      <td>1</td>\n",
       "      <td>1p36.33</td>\n",
       "      <td>1203508</td>\n",
       "      <td>1206592</td>\n",
       "      <td>3084</td>\n",
       "    </tr>\n",
       "    <tr>\n",
       "      <th>...</th>\n",
       "      <td>...</td>\n",
       "      <td>...</td>\n",
       "      <td>...</td>\n",
       "      <td>...</td>\n",
       "      <td>...</td>\n",
       "      <td>...</td>\n",
       "      <td>...</td>\n",
       "    </tr>\n",
       "    <tr>\n",
       "      <th>2566</th>\n",
       "      <td>CPT1B</td>\n",
       "      <td>ENSG00000205560</td>\n",
       "      <td>22</td>\n",
       "      <td>22q13.33</td>\n",
       "      <td>50568861</td>\n",
       "      <td>50578465</td>\n",
       "      <td>9604</td>\n",
       "    </tr>\n",
       "    <tr>\n",
       "      <th>2722</th>\n",
       "      <td>CHKB</td>\n",
       "      <td>ENSG00000100288</td>\n",
       "      <td>22</td>\n",
       "      <td>22q13.33</td>\n",
       "      <td>50578949</td>\n",
       "      <td>50601455</td>\n",
       "      <td>22506</td>\n",
       "    </tr>\n",
       "    <tr>\n",
       "      <th>899</th>\n",
       "      <td>MAPK8IP2</td>\n",
       "      <td>ENSG00000008735</td>\n",
       "      <td>22</td>\n",
       "      <td>22q13.33</td>\n",
       "      <td>50600793</td>\n",
       "      <td>50613981</td>\n",
       "      <td>13188</td>\n",
       "    </tr>\n",
       "    <tr>\n",
       "      <th>1926</th>\n",
       "      <td>ARSA</td>\n",
       "      <td>ENSG00000100299</td>\n",
       "      <td>22</td>\n",
       "      <td>22q13.33</td>\n",
       "      <td>50622754</td>\n",
       "      <td>50628173</td>\n",
       "      <td>5419</td>\n",
       "    </tr>\n",
       "    <tr>\n",
       "      <th>3098</th>\n",
       "      <td>SHANK3</td>\n",
       "      <td>ENSG00000251322</td>\n",
       "      <td>22</td>\n",
       "      <td>22q13.33</td>\n",
       "      <td>50674415</td>\n",
       "      <td>50733298</td>\n",
       "      <td>58883</td>\n",
       "    </tr>\n",
       "  </tbody>\n",
       "</table>\n",
       "<p>6442 rows × 7 columns</p>\n",
       "</div>"
      ],
      "text/plain": [
       "          name               id  chr      band  start_position  end_position  \\\n",
       "3661     NOC2L  ENSG00000188976    1   1p36.33          944203        959309   \n",
       "5620      HES4  ENSG00000188290    1   1p36.33          998962       1000172   \n",
       "192      ISG15  ENSG00000187608    1   1p36.33         1001138       1014540   \n",
       "2239      AGRN  ENSG00000188157    1   1p36.33         1020120       1056118   \n",
       "5164  TNFRSF18  ENSG00000186891    1   1p36.33         1203508       1206592   \n",
       "...        ...              ...  ...       ...             ...           ...   \n",
       "2566     CPT1B  ENSG00000205560   22  22q13.33        50568861      50578465   \n",
       "2722      CHKB  ENSG00000100288   22  22q13.33        50578949      50601455   \n",
       "899   MAPK8IP2  ENSG00000008735   22  22q13.33        50600793      50613981   \n",
       "1926      ARSA  ENSG00000100299   22  22q13.33        50622754      50628173   \n",
       "3098    SHANK3  ENSG00000251322   22  22q13.33        50674415      50733298   \n",
       "\n",
       "      gene_length  \n",
       "3661        15106  \n",
       "5620         1210  \n",
       "192         13402  \n",
       "2239        35998  \n",
       "5164         3084  \n",
       "...           ...  \n",
       "2566         9604  \n",
       "2722        22506  \n",
       "899         13188  \n",
       "1926         5419  \n",
       "3098        58883  \n",
       "\n",
       "[6442 rows x 7 columns]"
      ]
     },
     "execution_count": 31,
     "metadata": {},
     "output_type": "execute_result"
    }
   ],
   "source": [
    "genes_info"
   ]
  },
  {
   "cell_type": "code",
   "execution_count": 32,
   "id": "1277c7cb-6850-476f-932e-0d166362392c",
   "metadata": {
    "execution": {
     "iopub.execute_input": "2022-07-23T02:46:36.523326Z",
     "iopub.status.busy": "2022-07-23T02:46:36.523165Z",
     "iopub.status.idle": "2022-07-23T02:46:36.541389Z",
     "shell.execute_reply": "2022-07-23T02:46:36.540791Z"
    },
    "papermill": {
     "duration": 0.031211,
     "end_time": "2022-07-23T02:46:36.543065",
     "exception": false,
     "start_time": "2022-07-23T02:46:36.511854",
     "status": "completed"
    },
    "tags": []
   },
   "outputs": [],
   "source": [
    "full_corr_matrix = pd.DataFrame(\n",
    "    np.zeros((genes_info.shape[0], genes_info.shape[0])),\n",
    "    index=genes_info[\"id\"].tolist(),\n",
    "    columns=genes_info[\"id\"].tolist(),\n",
    ")"
   ]
  },
  {
   "cell_type": "code",
   "execution_count": 33,
   "id": "5aa375f4-775a-4dab-80c9-a68a52c69adc",
   "metadata": {
    "execution": {
     "iopub.execute_input": "2022-07-23T02:46:36.568034Z",
     "iopub.status.busy": "2022-07-23T02:46:36.567859Z",
     "iopub.status.idle": "2022-07-23T02:46:36.583772Z",
     "shell.execute_reply": "2022-07-23T02:46:36.583227Z"
    },
    "papermill": {
     "duration": 0.029395,
     "end_time": "2022-07-23T02:46:36.585223",
     "exception": false,
     "start_time": "2022-07-23T02:46:36.555828",
     "status": "completed"
    },
    "tags": []
   },
   "outputs": [],
   "source": [
    "assert full_corr_matrix.index.is_unique & full_corr_matrix.columns.is_unique"
   ]
  },
  {
   "cell_type": "code",
   "execution_count": 34,
   "id": "0afc4716-f607-4634-8a02-5f116fd2c318",
   "metadata": {
    "execution": {
     "iopub.execute_input": "2022-07-23T02:46:36.608597Z",
     "iopub.status.busy": "2022-07-23T02:46:36.608395Z",
     "iopub.status.idle": "2022-07-23T02:46:36.736258Z",
     "shell.execute_reply": "2022-07-23T02:46:36.735713Z"
    },
    "papermill": {
     "duration": 0.140567,
     "end_time": "2022-07-23T02:46:36.737692",
     "exception": false,
     "start_time": "2022-07-23T02:46:36.597125",
     "status": "completed"
    },
    "tags": []
   },
   "outputs": [
    {
     "name": "stdout",
     "output_type": "stream",
     "text": [
      "gene_corrs-chr1.pkl\n",
      "gene_corrs-chr2.pkl\n",
      "gene_corrs-chr3.pkl\n",
      "gene_corrs-chr4.pkl\n",
      "gene_corrs-chr5.pkl\n",
      "gene_corrs-chr6.pkl\n",
      "gene_corrs-chr7.pkl\n",
      "gene_corrs-chr8.pkl\n",
      "gene_corrs-chr9.pkl\n",
      "gene_corrs-chr10.pkl\n",
      "gene_corrs-chr11.pkl\n",
      "gene_corrs-chr12.pkl\n",
      "gene_corrs-chr13.pkl\n",
      "gene_corrs-chr14.pkl\n",
      "gene_corrs-chr15.pkl\n",
      "gene_corrs-chr16.pkl\n",
      "gene_corrs-chr17.pkl\n",
      "gene_corrs-chr18.pkl\n",
      "gene_corrs-chr19.pkl\n",
      "gene_corrs-chr20.pkl\n",
      "gene_corrs-chr21.pkl\n",
      "gene_corrs-chr22.pkl\n"
     ]
    }
   ],
   "source": [
    "for chr_corr_file in all_gene_corr_files:\n",
    "    print(chr_corr_file.name, flush=True)\n",
    "\n",
    "    corr_data = pd.read_pickle(chr_corr_file)\n",
    "    full_corr_matrix.loc[corr_data.index, corr_data.columns] = corr_data"
   ]
  },
  {
   "cell_type": "code",
   "execution_count": 35,
   "id": "a6be3bf7-d1c1-4f90-b074-a6e74d9285a5",
   "metadata": {
    "execution": {
     "iopub.execute_input": "2022-07-23T02:46:36.764454Z",
     "iopub.status.busy": "2022-07-23T02:46:36.764292Z",
     "iopub.status.idle": "2022-07-23T02:46:36.779309Z",
     "shell.execute_reply": "2022-07-23T02:46:36.778885Z"
    },
    "papermill": {
     "duration": 0.029645,
     "end_time": "2022-07-23T02:46:36.780561",
     "exception": false,
     "start_time": "2022-07-23T02:46:36.750916",
     "status": "completed"
    },
    "tags": []
   },
   "outputs": [
    {
     "data": {
      "text/plain": [
       "(6442, 6442)"
      ]
     },
     "execution_count": 35,
     "metadata": {},
     "output_type": "execute_result"
    }
   ],
   "source": [
    "full_corr_matrix.shape"
   ]
  },
  {
   "cell_type": "code",
   "execution_count": 36,
   "id": "aac21a65-87b3-4b87-b17a-cbe3692c88a9",
   "metadata": {
    "execution": {
     "iopub.execute_input": "2022-07-23T02:46:36.804799Z",
     "iopub.status.busy": "2022-07-23T02:46:36.804583Z",
     "iopub.status.idle": "2022-07-23T02:46:36.832519Z",
     "shell.execute_reply": "2022-07-23T02:46:36.831847Z"
    },
    "papermill": {
     "duration": 0.041335,
     "end_time": "2022-07-23T02:46:36.833823",
     "exception": false,
     "start_time": "2022-07-23T02:46:36.792488",
     "status": "completed"
    },
    "tags": []
   },
   "outputs": [
    {
     "data": {
      "text/html": [
       "<div>\n",
       "<style scoped>\n",
       "    .dataframe tbody tr th:only-of-type {\n",
       "        vertical-align: middle;\n",
       "    }\n",
       "\n",
       "    .dataframe tbody tr th {\n",
       "        vertical-align: top;\n",
       "    }\n",
       "\n",
       "    .dataframe thead th {\n",
       "        text-align: right;\n",
       "    }\n",
       "</style>\n",
       "<table border=\"1\" class=\"dataframe\">\n",
       "  <thead>\n",
       "    <tr style=\"text-align: right;\">\n",
       "      <th></th>\n",
       "      <th>ENSG00000188976</th>\n",
       "      <th>ENSG00000188290</th>\n",
       "      <th>ENSG00000187608</th>\n",
       "      <th>ENSG00000188157</th>\n",
       "      <th>ENSG00000186891</th>\n",
       "      <th>ENSG00000186827</th>\n",
       "      <th>ENSG00000176022</th>\n",
       "      <th>ENSG00000160087</th>\n",
       "      <th>ENSG00000131584</th>\n",
       "      <th>ENSG00000169962</th>\n",
       "      <th>...</th>\n",
       "      <th>ENSG00000196576</th>\n",
       "      <th>ENSG00000128165</th>\n",
       "      <th>ENSG00000100253</th>\n",
       "      <th>ENSG00000130489</th>\n",
       "      <th>ENSG00000025708</th>\n",
       "      <th>ENSG00000205560</th>\n",
       "      <th>ENSG00000100288</th>\n",
       "      <th>ENSG00000008735</th>\n",
       "      <th>ENSG00000100299</th>\n",
       "      <th>ENSG00000251322</th>\n",
       "    </tr>\n",
       "  </thead>\n",
       "  <tbody>\n",
       "    <tr>\n",
       "      <th>ENSG00000188976</th>\n",
       "      <td>1.000000</td>\n",
       "      <td>0.115011</td>\n",
       "      <td>0.173138</td>\n",
       "      <td>0.056096</td>\n",
       "      <td>0.008032</td>\n",
       "      <td>0.008727</td>\n",
       "      <td>0.006797</td>\n",
       "      <td>0.004533</td>\n",
       "      <td>0.007350</td>\n",
       "      <td>0.010391</td>\n",
       "      <td>...</td>\n",
       "      <td>0.0</td>\n",
       "      <td>0.0</td>\n",
       "      <td>0.0</td>\n",
       "      <td>0.0</td>\n",
       "      <td>0.0</td>\n",
       "      <td>0.0</td>\n",
       "      <td>0.0</td>\n",
       "      <td>0.0</td>\n",
       "      <td>0.0</td>\n",
       "      <td>0.0</td>\n",
       "    </tr>\n",
       "    <tr>\n",
       "      <th>ENSG00000188290</th>\n",
       "      <td>0.115011</td>\n",
       "      <td>1.000000</td>\n",
       "      <td>0.681368</td>\n",
       "      <td>0.360588</td>\n",
       "      <td>0.011545</td>\n",
       "      <td>0.010729</td>\n",
       "      <td>0.003577</td>\n",
       "      <td>0.010230</td>\n",
       "      <td>0.010747</td>\n",
       "      <td>0.008769</td>\n",
       "      <td>...</td>\n",
       "      <td>0.0</td>\n",
       "      <td>0.0</td>\n",
       "      <td>0.0</td>\n",
       "      <td>0.0</td>\n",
       "      <td>0.0</td>\n",
       "      <td>0.0</td>\n",
       "      <td>0.0</td>\n",
       "      <td>0.0</td>\n",
       "      <td>0.0</td>\n",
       "      <td>0.0</td>\n",
       "    </tr>\n",
       "    <tr>\n",
       "      <th>ENSG00000187608</th>\n",
       "      <td>0.173138</td>\n",
       "      <td>0.681368</td>\n",
       "      <td>1.000000</td>\n",
       "      <td>0.381394</td>\n",
       "      <td>0.011774</td>\n",
       "      <td>0.012527</td>\n",
       "      <td>0.003754</td>\n",
       "      <td>0.012096</td>\n",
       "      <td>0.012679</td>\n",
       "      <td>0.010442</td>\n",
       "      <td>...</td>\n",
       "      <td>0.0</td>\n",
       "      <td>0.0</td>\n",
       "      <td>0.0</td>\n",
       "      <td>0.0</td>\n",
       "      <td>0.0</td>\n",
       "      <td>0.0</td>\n",
       "      <td>0.0</td>\n",
       "      <td>0.0</td>\n",
       "      <td>0.0</td>\n",
       "      <td>0.0</td>\n",
       "    </tr>\n",
       "    <tr>\n",
       "      <th>ENSG00000188157</th>\n",
       "      <td>0.056096</td>\n",
       "      <td>0.360588</td>\n",
       "      <td>0.381394</td>\n",
       "      <td>1.000000</td>\n",
       "      <td>0.013005</td>\n",
       "      <td>0.015775</td>\n",
       "      <td>0.006184</td>\n",
       "      <td>0.006813</td>\n",
       "      <td>0.010775</td>\n",
       "      <td>0.009189</td>\n",
       "      <td>...</td>\n",
       "      <td>0.0</td>\n",
       "      <td>0.0</td>\n",
       "      <td>0.0</td>\n",
       "      <td>0.0</td>\n",
       "      <td>0.0</td>\n",
       "      <td>0.0</td>\n",
       "      <td>0.0</td>\n",
       "      <td>0.0</td>\n",
       "      <td>0.0</td>\n",
       "      <td>0.0</td>\n",
       "    </tr>\n",
       "    <tr>\n",
       "      <th>ENSG00000186891</th>\n",
       "      <td>0.008032</td>\n",
       "      <td>0.011545</td>\n",
       "      <td>0.011774</td>\n",
       "      <td>0.013005</td>\n",
       "      <td>1.000000</td>\n",
       "      <td>0.356676</td>\n",
       "      <td>0.454010</td>\n",
       "      <td>0.137643</td>\n",
       "      <td>0.200340</td>\n",
       "      <td>0.093210</td>\n",
       "      <td>...</td>\n",
       "      <td>0.0</td>\n",
       "      <td>0.0</td>\n",
       "      <td>0.0</td>\n",
       "      <td>0.0</td>\n",
       "      <td>0.0</td>\n",
       "      <td>0.0</td>\n",
       "      <td>0.0</td>\n",
       "      <td>0.0</td>\n",
       "      <td>0.0</td>\n",
       "      <td>0.0</td>\n",
       "    </tr>\n",
       "  </tbody>\n",
       "</table>\n",
       "<p>5 rows × 6442 columns</p>\n",
       "</div>"
      ],
      "text/plain": [
       "                 ENSG00000188976  ENSG00000188290  ENSG00000187608  \\\n",
       "ENSG00000188976         1.000000         0.115011         0.173138   \n",
       "ENSG00000188290         0.115011         1.000000         0.681368   \n",
       "ENSG00000187608         0.173138         0.681368         1.000000   \n",
       "ENSG00000188157         0.056096         0.360588         0.381394   \n",
       "ENSG00000186891         0.008032         0.011545         0.011774   \n",
       "\n",
       "                 ENSG00000188157  ENSG00000186891  ENSG00000186827  \\\n",
       "ENSG00000188976         0.056096         0.008032         0.008727   \n",
       "ENSG00000188290         0.360588         0.011545         0.010729   \n",
       "ENSG00000187608         0.381394         0.011774         0.012527   \n",
       "ENSG00000188157         1.000000         0.013005         0.015775   \n",
       "ENSG00000186891         0.013005         1.000000         0.356676   \n",
       "\n",
       "                 ENSG00000176022  ENSG00000160087  ENSG00000131584  \\\n",
       "ENSG00000188976         0.006797         0.004533         0.007350   \n",
       "ENSG00000188290         0.003577         0.010230         0.010747   \n",
       "ENSG00000187608         0.003754         0.012096         0.012679   \n",
       "ENSG00000188157         0.006184         0.006813         0.010775   \n",
       "ENSG00000186891         0.454010         0.137643         0.200340   \n",
       "\n",
       "                 ENSG00000169962  ...  ENSG00000196576  ENSG00000128165  \\\n",
       "ENSG00000188976         0.010391  ...              0.0              0.0   \n",
       "ENSG00000188290         0.008769  ...              0.0              0.0   \n",
       "ENSG00000187608         0.010442  ...              0.0              0.0   \n",
       "ENSG00000188157         0.009189  ...              0.0              0.0   \n",
       "ENSG00000186891         0.093210  ...              0.0              0.0   \n",
       "\n",
       "                 ENSG00000100253  ENSG00000130489  ENSG00000025708  \\\n",
       "ENSG00000188976              0.0              0.0              0.0   \n",
       "ENSG00000188290              0.0              0.0              0.0   \n",
       "ENSG00000187608              0.0              0.0              0.0   \n",
       "ENSG00000188157              0.0              0.0              0.0   \n",
       "ENSG00000186891              0.0              0.0              0.0   \n",
       "\n",
       "                 ENSG00000205560  ENSG00000100288  ENSG00000008735  \\\n",
       "ENSG00000188976              0.0              0.0              0.0   \n",
       "ENSG00000188290              0.0              0.0              0.0   \n",
       "ENSG00000187608              0.0              0.0              0.0   \n",
       "ENSG00000188157              0.0              0.0              0.0   \n",
       "ENSG00000186891              0.0              0.0              0.0   \n",
       "\n",
       "                 ENSG00000100299  ENSG00000251322  \n",
       "ENSG00000188976              0.0              0.0  \n",
       "ENSG00000188290              0.0              0.0  \n",
       "ENSG00000187608              0.0              0.0  \n",
       "ENSG00000188157              0.0              0.0  \n",
       "ENSG00000186891              0.0              0.0  \n",
       "\n",
       "[5 rows x 6442 columns]"
      ]
     },
     "execution_count": 36,
     "metadata": {},
     "output_type": "execute_result"
    }
   ],
   "source": [
    "full_corr_matrix.head()"
   ]
  },
  {
   "cell_type": "code",
   "execution_count": 37,
   "id": "0d43f268-ad27-4117-b43b-df581deedae5",
   "metadata": {
    "execution": {
     "iopub.execute_input": "2022-07-23T02:46:36.858061Z",
     "iopub.status.busy": "2022-07-23T02:46:36.857902Z",
     "iopub.status.idle": "2022-07-23T02:46:36.872988Z",
     "shell.execute_reply": "2022-07-23T02:46:36.872511Z"
    },
    "papermill": {
     "duration": 0.028596,
     "end_time": "2022-07-23T02:46:36.874170",
     "exception": false,
     "start_time": "2022-07-23T02:46:36.845574",
     "status": "completed"
    },
    "tags": []
   },
   "outputs": [
    {
     "data": {
      "text/plain": [
       "True"
      ]
     },
     "execution_count": 37,
     "metadata": {},
     "output_type": "execute_result"
    }
   ],
   "source": [
    "np.all(full_corr_matrix.to_numpy().diagonal() == 1.0)"
   ]
  },
  {
   "cell_type": "markdown",
   "id": "1169db4b-9af2-4d3c-a27a-198d7730fa67",
   "metadata": {
    "papermill": {
     "duration": 0.011641,
     "end_time": "2022-07-23T02:46:36.897746",
     "exception": false,
     "start_time": "2022-07-23T02:46:36.886105",
     "status": "completed"
    },
    "tags": []
   },
   "source": [
    "## Some checks"
   ]
  },
  {
   "cell_type": "code",
   "execution_count": 38,
   "id": "776749ae-cf4d-46d8-9fae-49ea728f9002",
   "metadata": {
    "execution": {
     "iopub.execute_input": "2022-07-23T02:46:36.921719Z",
     "iopub.status.busy": "2022-07-23T02:46:36.921470Z",
     "iopub.status.idle": "2022-07-23T02:46:37.044520Z",
     "shell.execute_reply": "2022-07-23T02:46:37.043944Z"
    },
    "papermill": {
     "duration": 0.137031,
     "end_time": "2022-07-23T02:46:37.046066",
     "exception": false,
     "start_time": "2022-07-23T02:46:36.909035",
     "status": "completed"
    },
    "tags": []
   },
   "outputs": [],
   "source": [
    "assert not full_corr_matrix.isna().any(None)\n",
    "assert not np.isinf(full_corr_matrix.to_numpy()).any()\n",
    "assert not np.iscomplex(full_corr_matrix.to_numpy()).any()"
   ]
  },
  {
   "cell_type": "code",
   "execution_count": 39,
   "id": "31b4e109-a020-4667-9326-c63e6d80a33e",
   "metadata": {
    "execution": {
     "iopub.execute_input": "2022-07-23T02:46:37.069959Z",
     "iopub.status.busy": "2022-07-23T02:46:37.069740Z",
     "iopub.status.idle": "2022-07-23T02:46:37.231870Z",
     "shell.execute_reply": "2022-07-23T02:46:37.231259Z"
    },
    "papermill": {
     "duration": 0.175628,
     "end_time": "2022-07-23T02:46:37.233178",
     "exception": false,
     "start_time": "2022-07-23T02:46:37.057550",
     "status": "completed"
    },
    "tags": []
   },
   "outputs": [
    {
     "data": {
      "text/plain": [
       "0.0"
      ]
     },
     "metadata": {},
     "output_type": "display_data"
    }
   ],
   "source": [
    "_min_val = full_corr_matrix.min().min()\n",
    "display(_min_val)\n",
    "assert _min_val >= 0.0"
   ]
  },
  {
   "cell_type": "code",
   "execution_count": 40,
   "id": "df674d11-939a-4704-a718-f246527a1880",
   "metadata": {
    "execution": {
     "iopub.execute_input": "2022-07-23T02:46:37.257264Z",
     "iopub.status.busy": "2022-07-23T02:46:37.256993Z",
     "iopub.status.idle": "2022-07-23T02:46:37.418939Z",
     "shell.execute_reply": "2022-07-23T02:46:37.418366Z"
    },
    "papermill": {
     "duration": 0.175462,
     "end_time": "2022-07-23T02:46:37.420333",
     "exception": false,
     "start_time": "2022-07-23T02:46:37.244871",
     "status": "completed"
    },
    "tags": []
   },
   "outputs": [
    {
     "data": {
      "text/plain": [
       "1.0"
      ]
     },
     "metadata": {},
     "output_type": "display_data"
    }
   ],
   "source": [
    "_max_val = full_corr_matrix.max().max()  # this will capture the 1.0 in the diagonal\n",
    "display(_max_val)\n",
    "assert _max_val <= 1.00"
   ]
  },
  {
   "cell_type": "markdown",
   "id": "c44e801b-ef0c-424e-a880-85c1a75e9782",
   "metadata": {
    "papermill": {
     "duration": 0.011368,
     "end_time": "2022-07-23T02:46:37.443316",
     "exception": false,
     "start_time": "2022-07-23T02:46:37.431948",
     "status": "completed"
    },
    "tags": []
   },
   "source": [
    "# Positive definiteness"
   ]
  },
  {
   "cell_type": "code",
   "execution_count": 41,
   "id": "07d9a9a1-a4f7-48aa-b916-6d42a8cc6186",
   "metadata": {
    "execution": {
     "iopub.execute_input": "2022-07-23T02:46:37.467609Z",
     "iopub.status.busy": "2022-07-23T02:46:37.467037Z",
     "iopub.status.idle": "2022-07-23T02:47:28.325319Z",
     "shell.execute_reply": "2022-07-23T02:47:28.324950Z"
    },
    "papermill": {
     "duration": 50.879555,
     "end_time": "2022-07-23T02:47:28.334377",
     "exception": false,
     "start_time": "2022-07-23T02:46:37.454822",
     "status": "completed"
    },
    "tags": []
   },
   "outputs": [
    {
     "data": {
      "text/plain": [
       "1"
      ]
     },
     "metadata": {},
     "output_type": "display_data"
    },
    {
     "data": {
      "text/plain": [
       "array([-1.11100854e-15])"
      ]
     },
     "metadata": {},
     "output_type": "display_data"
    }
   ],
   "source": [
    "# print negative eigenvalues\n",
    "eigs = np.linalg.eigvals(full_corr_matrix.to_numpy())\n",
    "display(len(eigs[eigs < 0]))\n",
    "display(eigs[eigs < 0])"
   ]
  },
  {
   "cell_type": "code",
   "execution_count": 42,
   "id": "e514a575-dc67-45bc-9550-276389349bd1",
   "metadata": {
    "execution": {
     "iopub.execute_input": "2022-07-23T02:47:28.359536Z",
     "iopub.status.busy": "2022-07-23T02:47:28.359250Z",
     "iopub.status.idle": "2022-07-23T02:47:29.091553Z",
     "shell.execute_reply": "2022-07-23T02:47:29.090821Z"
    },
    "papermill": {
     "duration": 0.746505,
     "end_time": "2022-07-23T02:47:29.093064",
     "exception": false,
     "start_time": "2022-07-23T02:47:28.346559",
     "status": "completed"
    },
    "tags": []
   },
   "outputs": [
    {
     "name": "stdout",
     "output_type": "stream",
     "text": [
      "Cholesky decomposition failed: Matrix is not positive definite\n"
     ]
    }
   ],
   "source": [
    "CHOL_DECOMPOSITION_FAILED = None\n",
    "\n",
    "try:\n",
    "    chol_mat = np.linalg.cholesky(full_corr_matrix.to_numpy())\n",
    "    cov_inv = np.linalg.inv(chol_mat)\n",
    "    print(\"Works!\")\n",
    "    CHOL_DECOMPOSITION_FAILED = False\n",
    "except Exception as e:\n",
    "    print(f\"Cholesky decomposition failed: {str(e)}\")\n",
    "    CHOL_DECOMPOSITION_FAILED = True"
   ]
  },
  {
   "cell_type": "markdown",
   "id": "e33fce11-235d-42c3-aad3-dd6577518ab8",
   "metadata": {
    "papermill": {
     "duration": 0.013191,
     "end_time": "2022-07-23T02:47:29.120665",
     "exception": false,
     "start_time": "2022-07-23T02:47:29.107474",
     "status": "completed"
    },
    "tags": []
   },
   "source": [
    "## Adjust"
   ]
  },
  {
   "cell_type": "code",
   "execution_count": 43,
   "id": "8b0f307d-046f-480c-a246-2b777a26a031",
   "metadata": {
    "execution": {
     "iopub.execute_input": "2022-07-23T02:47:29.145331Z",
     "iopub.status.busy": "2022-07-23T02:47:29.145126Z",
     "iopub.status.idle": "2022-07-23T02:47:29.642209Z",
     "shell.execute_reply": "2022-07-23T02:47:29.641655Z"
    },
    "papermill": {
     "duration": 0.511192,
     "end_time": "2022-07-23T02:47:29.643856",
     "exception": false,
     "start_time": "2022-07-23T02:47:29.132664",
     "status": "completed"
    },
    "tags": []
   },
   "outputs": [],
   "source": [
    "%load_ext rpy2.ipython"
   ]
  },
  {
   "cell_type": "code",
   "execution_count": 44,
   "id": "45b1b1dd-e5c8-4137-85e4-15a14739404d",
   "metadata": {
    "execution": {
     "iopub.execute_input": "2022-07-23T02:47:29.668584Z",
     "iopub.status.busy": "2022-07-23T02:47:29.668371Z",
     "iopub.status.idle": "2022-07-23T02:47:29.692758Z",
     "shell.execute_reply": "2022-07-23T02:47:29.692234Z"
    },
    "papermill": {
     "duration": 0.038341,
     "end_time": "2022-07-23T02:47:29.694169",
     "exception": false,
     "start_time": "2022-07-23T02:47:29.655828",
     "status": "completed"
    },
    "tags": []
   },
   "outputs": [],
   "source": [
    "%%R\n",
    "# taken and adapted from https://www.r-bloggers.com/2013/08/correcting-a-pseudo-correlation-matrix-to-be-positive-semidefinite/\n",
    "CorrectCM <- function(CM, p = 0) {\n",
    "  n <- dim(CM)[1L]\n",
    "  E <- eigen(CM)\n",
    "  CM1 <- E$vectors %*% tcrossprod(diag(pmax(E$values, p), n), E$vectors)\n",
    "  Balance <- diag(1 / sqrt(diag(CM1)))\n",
    "  CM2 <- Balance %*% CM1 %*% Balance\n",
    "  return(CM2)\n",
    "}"
   ]
  },
  {
   "cell_type": "code",
   "execution_count": 45,
   "id": "e072d1dc-fa74-44da-8a09-67a092f2adaf",
   "metadata": {
    "execution": {
     "iopub.execute_input": "2022-07-23T02:47:29.718978Z",
     "iopub.status.busy": "2022-07-23T02:47:29.718785Z",
     "iopub.status.idle": "2022-07-23T02:48:20.979569Z",
     "shell.execute_reply": "2022-07-23T02:48:20.979091Z"
    },
    "papermill": {
     "duration": 51.274793,
     "end_time": "2022-07-23T02:48:20.980953",
     "exception": false,
     "start_time": "2022-07-23T02:47:29.706160",
     "status": "completed"
    },
    "tags": []
   },
   "outputs": [
    {
     "data": {
      "text/plain": [
       "(6442, 6442)"
      ]
     },
     "metadata": {},
     "output_type": "display_data"
    },
    {
     "data": {
      "text/plain": [
       "(6442, 6442)"
      ]
     },
     "metadata": {},
     "output_type": "display_data"
    },
    {
     "data": {
      "text/html": [
       "<div>\n",
       "<style scoped>\n",
       "    .dataframe tbody tr th:only-of-type {\n",
       "        vertical-align: middle;\n",
       "    }\n",
       "\n",
       "    .dataframe tbody tr th {\n",
       "        vertical-align: top;\n",
       "    }\n",
       "\n",
       "    .dataframe thead th {\n",
       "        text-align: right;\n",
       "    }\n",
       "</style>\n",
       "<table border=\"1\" class=\"dataframe\">\n",
       "  <thead>\n",
       "    <tr style=\"text-align: right;\">\n",
       "      <th></th>\n",
       "      <th>ENSG00000188976</th>\n",
       "      <th>ENSG00000188290</th>\n",
       "      <th>ENSG00000187608</th>\n",
       "      <th>ENSG00000188157</th>\n",
       "      <th>ENSG00000186891</th>\n",
       "      <th>ENSG00000186827</th>\n",
       "      <th>ENSG00000176022</th>\n",
       "      <th>ENSG00000160087</th>\n",
       "      <th>ENSG00000131584</th>\n",
       "      <th>ENSG00000169962</th>\n",
       "      <th>...</th>\n",
       "      <th>ENSG00000196576</th>\n",
       "      <th>ENSG00000128165</th>\n",
       "      <th>ENSG00000100253</th>\n",
       "      <th>ENSG00000130489</th>\n",
       "      <th>ENSG00000025708</th>\n",
       "      <th>ENSG00000205560</th>\n",
       "      <th>ENSG00000100288</th>\n",
       "      <th>ENSG00000008735</th>\n",
       "      <th>ENSG00000100299</th>\n",
       "      <th>ENSG00000251322</th>\n",
       "    </tr>\n",
       "  </thead>\n",
       "  <tbody>\n",
       "    <tr>\n",
       "      <th>ENSG00000188976</th>\n",
       "      <td>1.000000</td>\n",
       "      <td>0.115011</td>\n",
       "      <td>0.173138</td>\n",
       "      <td>0.056096</td>\n",
       "      <td>0.008032</td>\n",
       "      <td>0.008727</td>\n",
       "      <td>0.006797</td>\n",
       "      <td>0.004533</td>\n",
       "      <td>0.007350</td>\n",
       "      <td>0.010391</td>\n",
       "      <td>...</td>\n",
       "      <td>0.000000</td>\n",
       "      <td>0.000000</td>\n",
       "      <td>0.000000</td>\n",
       "      <td>0.000000</td>\n",
       "      <td>0.000000</td>\n",
       "      <td>0.000000</td>\n",
       "      <td>0.000000</td>\n",
       "      <td>0.000000</td>\n",
       "      <td>0.000000</td>\n",
       "      <td>0.000000</td>\n",
       "    </tr>\n",
       "    <tr>\n",
       "      <th>ENSG00000188290</th>\n",
       "      <td>0.115011</td>\n",
       "      <td>1.000000</td>\n",
       "      <td>0.681368</td>\n",
       "      <td>0.360588</td>\n",
       "      <td>0.011545</td>\n",
       "      <td>0.010729</td>\n",
       "      <td>0.003577</td>\n",
       "      <td>0.010230</td>\n",
       "      <td>0.010747</td>\n",
       "      <td>0.008769</td>\n",
       "      <td>...</td>\n",
       "      <td>0.000000</td>\n",
       "      <td>0.000000</td>\n",
       "      <td>0.000000</td>\n",
       "      <td>0.000000</td>\n",
       "      <td>0.000000</td>\n",
       "      <td>0.000000</td>\n",
       "      <td>0.000000</td>\n",
       "      <td>0.000000</td>\n",
       "      <td>0.000000</td>\n",
       "      <td>0.000000</td>\n",
       "    </tr>\n",
       "    <tr>\n",
       "      <th>ENSG00000187608</th>\n",
       "      <td>0.173138</td>\n",
       "      <td>0.681368</td>\n",
       "      <td>1.000000</td>\n",
       "      <td>0.381394</td>\n",
       "      <td>0.011774</td>\n",
       "      <td>0.012527</td>\n",
       "      <td>0.003754</td>\n",
       "      <td>0.012096</td>\n",
       "      <td>0.012679</td>\n",
       "      <td>0.010442</td>\n",
       "      <td>...</td>\n",
       "      <td>0.000000</td>\n",
       "      <td>0.000000</td>\n",
       "      <td>0.000000</td>\n",
       "      <td>0.000000</td>\n",
       "      <td>0.000000</td>\n",
       "      <td>0.000000</td>\n",
       "      <td>0.000000</td>\n",
       "      <td>0.000000</td>\n",
       "      <td>0.000000</td>\n",
       "      <td>0.000000</td>\n",
       "    </tr>\n",
       "    <tr>\n",
       "      <th>ENSG00000188157</th>\n",
       "      <td>0.056096</td>\n",
       "      <td>0.360588</td>\n",
       "      <td>0.381394</td>\n",
       "      <td>1.000000</td>\n",
       "      <td>0.013005</td>\n",
       "      <td>0.015775</td>\n",
       "      <td>0.006184</td>\n",
       "      <td>0.006813</td>\n",
       "      <td>0.010775</td>\n",
       "      <td>0.009189</td>\n",
       "      <td>...</td>\n",
       "      <td>0.000000</td>\n",
       "      <td>0.000000</td>\n",
       "      <td>0.000000</td>\n",
       "      <td>0.000000</td>\n",
       "      <td>0.000000</td>\n",
       "      <td>0.000000</td>\n",
       "      <td>0.000000</td>\n",
       "      <td>0.000000</td>\n",
       "      <td>0.000000</td>\n",
       "      <td>0.000000</td>\n",
       "    </tr>\n",
       "    <tr>\n",
       "      <th>ENSG00000186891</th>\n",
       "      <td>0.008032</td>\n",
       "      <td>0.011545</td>\n",
       "      <td>0.011774</td>\n",
       "      <td>0.013005</td>\n",
       "      <td>1.000000</td>\n",
       "      <td>0.356676</td>\n",
       "      <td>0.454010</td>\n",
       "      <td>0.137643</td>\n",
       "      <td>0.200340</td>\n",
       "      <td>0.093210</td>\n",
       "      <td>...</td>\n",
       "      <td>0.000000</td>\n",
       "      <td>0.000000</td>\n",
       "      <td>0.000000</td>\n",
       "      <td>0.000000</td>\n",
       "      <td>0.000000</td>\n",
       "      <td>0.000000</td>\n",
       "      <td>0.000000</td>\n",
       "      <td>0.000000</td>\n",
       "      <td>0.000000</td>\n",
       "      <td>0.000000</td>\n",
       "    </tr>\n",
       "    <tr>\n",
       "      <th>...</th>\n",
       "      <td>...</td>\n",
       "      <td>...</td>\n",
       "      <td>...</td>\n",
       "      <td>...</td>\n",
       "      <td>...</td>\n",
       "      <td>...</td>\n",
       "      <td>...</td>\n",
       "      <td>...</td>\n",
       "      <td>...</td>\n",
       "      <td>...</td>\n",
       "      <td>...</td>\n",
       "      <td>...</td>\n",
       "      <td>...</td>\n",
       "      <td>...</td>\n",
       "      <td>...</td>\n",
       "      <td>...</td>\n",
       "      <td>...</td>\n",
       "      <td>...</td>\n",
       "      <td>...</td>\n",
       "      <td>...</td>\n",
       "      <td>...</td>\n",
       "    </tr>\n",
       "    <tr>\n",
       "      <th>ENSG00000205560</th>\n",
       "      <td>0.000000</td>\n",
       "      <td>0.000000</td>\n",
       "      <td>0.000000</td>\n",
       "      <td>0.000000</td>\n",
       "      <td>0.000000</td>\n",
       "      <td>0.000000</td>\n",
       "      <td>0.000000</td>\n",
       "      <td>0.000000</td>\n",
       "      <td>0.000000</td>\n",
       "      <td>0.000000</td>\n",
       "      <td>...</td>\n",
       "      <td>0.016479</td>\n",
       "      <td>0.065197</td>\n",
       "      <td>0.008608</td>\n",
       "      <td>0.293494</td>\n",
       "      <td>0.233187</td>\n",
       "      <td>1.000000</td>\n",
       "      <td>0.732548</td>\n",
       "      <td>0.197890</td>\n",
       "      <td>0.036229</td>\n",
       "      <td>0.008387</td>\n",
       "    </tr>\n",
       "    <tr>\n",
       "      <th>ENSG00000100288</th>\n",
       "      <td>0.000000</td>\n",
       "      <td>0.000000</td>\n",
       "      <td>0.000000</td>\n",
       "      <td>0.000000</td>\n",
       "      <td>0.000000</td>\n",
       "      <td>0.000000</td>\n",
       "      <td>0.000000</td>\n",
       "      <td>0.000000</td>\n",
       "      <td>0.000000</td>\n",
       "      <td>0.000000</td>\n",
       "      <td>...</td>\n",
       "      <td>0.022149</td>\n",
       "      <td>0.061143</td>\n",
       "      <td>0.011177</td>\n",
       "      <td>0.240853</td>\n",
       "      <td>0.211789</td>\n",
       "      <td>0.732548</td>\n",
       "      <td>1.000000</td>\n",
       "      <td>0.280542</td>\n",
       "      <td>0.027155</td>\n",
       "      <td>0.020439</td>\n",
       "    </tr>\n",
       "    <tr>\n",
       "      <th>ENSG00000008735</th>\n",
       "      <td>0.000000</td>\n",
       "      <td>0.000000</td>\n",
       "      <td>0.000000</td>\n",
       "      <td>0.000000</td>\n",
       "      <td>0.000000</td>\n",
       "      <td>0.000000</td>\n",
       "      <td>0.000000</td>\n",
       "      <td>0.000000</td>\n",
       "      <td>0.000000</td>\n",
       "      <td>0.000000</td>\n",
       "      <td>...</td>\n",
       "      <td>0.040192</td>\n",
       "      <td>0.097400</td>\n",
       "      <td>0.067715</td>\n",
       "      <td>0.070062</td>\n",
       "      <td>0.132700</td>\n",
       "      <td>0.197890</td>\n",
       "      <td>0.280542</td>\n",
       "      <td>1.000000</td>\n",
       "      <td>0.226706</td>\n",
       "      <td>0.035740</td>\n",
       "    </tr>\n",
       "    <tr>\n",
       "      <th>ENSG00000100299</th>\n",
       "      <td>0.000000</td>\n",
       "      <td>0.000000</td>\n",
       "      <td>0.000000</td>\n",
       "      <td>0.000000</td>\n",
       "      <td>0.000000</td>\n",
       "      <td>0.000000</td>\n",
       "      <td>0.000000</td>\n",
       "      <td>0.000000</td>\n",
       "      <td>0.000000</td>\n",
       "      <td>0.000000</td>\n",
       "      <td>...</td>\n",
       "      <td>0.013862</td>\n",
       "      <td>0.028588</td>\n",
       "      <td>0.013744</td>\n",
       "      <td>0.037442</td>\n",
       "      <td>0.041831</td>\n",
       "      <td>0.036229</td>\n",
       "      <td>0.027155</td>\n",
       "      <td>0.226706</td>\n",
       "      <td>1.000000</td>\n",
       "      <td>0.032019</td>\n",
       "    </tr>\n",
       "    <tr>\n",
       "      <th>ENSG00000251322</th>\n",
       "      <td>0.000000</td>\n",
       "      <td>0.000000</td>\n",
       "      <td>0.000000</td>\n",
       "      <td>0.000000</td>\n",
       "      <td>0.000000</td>\n",
       "      <td>0.000000</td>\n",
       "      <td>0.000000</td>\n",
       "      <td>0.000000</td>\n",
       "      <td>0.000000</td>\n",
       "      <td>0.000000</td>\n",
       "      <td>...</td>\n",
       "      <td>0.013269</td>\n",
       "      <td>0.017828</td>\n",
       "      <td>0.013507</td>\n",
       "      <td>0.000661</td>\n",
       "      <td>0.005277</td>\n",
       "      <td>0.008387</td>\n",
       "      <td>0.020439</td>\n",
       "      <td>0.035740</td>\n",
       "      <td>0.032019</td>\n",
       "      <td>1.000000</td>\n",
       "    </tr>\n",
       "  </tbody>\n",
       "</table>\n",
       "<p>6442 rows × 6442 columns</p>\n",
       "</div>"
      ],
      "text/plain": [
       "                 ENSG00000188976  ENSG00000188290  ENSG00000187608  \\\n",
       "ENSG00000188976         1.000000         0.115011         0.173138   \n",
       "ENSG00000188290         0.115011         1.000000         0.681368   \n",
       "ENSG00000187608         0.173138         0.681368         1.000000   \n",
       "ENSG00000188157         0.056096         0.360588         0.381394   \n",
       "ENSG00000186891         0.008032         0.011545         0.011774   \n",
       "...                          ...              ...              ...   \n",
       "ENSG00000205560         0.000000         0.000000         0.000000   \n",
       "ENSG00000100288         0.000000         0.000000         0.000000   \n",
       "ENSG00000008735         0.000000         0.000000         0.000000   \n",
       "ENSG00000100299         0.000000         0.000000         0.000000   \n",
       "ENSG00000251322         0.000000         0.000000         0.000000   \n",
       "\n",
       "                 ENSG00000188157  ENSG00000186891  ENSG00000186827  \\\n",
       "ENSG00000188976         0.056096         0.008032         0.008727   \n",
       "ENSG00000188290         0.360588         0.011545         0.010729   \n",
       "ENSG00000187608         0.381394         0.011774         0.012527   \n",
       "ENSG00000188157         1.000000         0.013005         0.015775   \n",
       "ENSG00000186891         0.013005         1.000000         0.356676   \n",
       "...                          ...              ...              ...   \n",
       "ENSG00000205560         0.000000         0.000000         0.000000   \n",
       "ENSG00000100288         0.000000         0.000000         0.000000   \n",
       "ENSG00000008735         0.000000         0.000000         0.000000   \n",
       "ENSG00000100299         0.000000         0.000000         0.000000   \n",
       "ENSG00000251322         0.000000         0.000000         0.000000   \n",
       "\n",
       "                 ENSG00000176022  ENSG00000160087  ENSG00000131584  \\\n",
       "ENSG00000188976         0.006797         0.004533         0.007350   \n",
       "ENSG00000188290         0.003577         0.010230         0.010747   \n",
       "ENSG00000187608         0.003754         0.012096         0.012679   \n",
       "ENSG00000188157         0.006184         0.006813         0.010775   \n",
       "ENSG00000186891         0.454010         0.137643         0.200340   \n",
       "...                          ...              ...              ...   \n",
       "ENSG00000205560         0.000000         0.000000         0.000000   \n",
       "ENSG00000100288         0.000000         0.000000         0.000000   \n",
       "ENSG00000008735         0.000000         0.000000         0.000000   \n",
       "ENSG00000100299         0.000000         0.000000         0.000000   \n",
       "ENSG00000251322         0.000000         0.000000         0.000000   \n",
       "\n",
       "                 ENSG00000169962  ...  ENSG00000196576  ENSG00000128165  \\\n",
       "ENSG00000188976         0.010391  ...         0.000000         0.000000   \n",
       "ENSG00000188290         0.008769  ...         0.000000         0.000000   \n",
       "ENSG00000187608         0.010442  ...         0.000000         0.000000   \n",
       "ENSG00000188157         0.009189  ...         0.000000         0.000000   \n",
       "ENSG00000186891         0.093210  ...         0.000000         0.000000   \n",
       "...                          ...  ...              ...              ...   \n",
       "ENSG00000205560         0.000000  ...         0.016479         0.065197   \n",
       "ENSG00000100288         0.000000  ...         0.022149         0.061143   \n",
       "ENSG00000008735         0.000000  ...         0.040192         0.097400   \n",
       "ENSG00000100299         0.000000  ...         0.013862         0.028588   \n",
       "ENSG00000251322         0.000000  ...         0.013269         0.017828   \n",
       "\n",
       "                 ENSG00000100253  ENSG00000130489  ENSG00000025708  \\\n",
       "ENSG00000188976         0.000000         0.000000         0.000000   \n",
       "ENSG00000188290         0.000000         0.000000         0.000000   \n",
       "ENSG00000187608         0.000000         0.000000         0.000000   \n",
       "ENSG00000188157         0.000000         0.000000         0.000000   \n",
       "ENSG00000186891         0.000000         0.000000         0.000000   \n",
       "...                          ...              ...              ...   \n",
       "ENSG00000205560         0.008608         0.293494         0.233187   \n",
       "ENSG00000100288         0.011177         0.240853         0.211789   \n",
       "ENSG00000008735         0.067715         0.070062         0.132700   \n",
       "ENSG00000100299         0.013744         0.037442         0.041831   \n",
       "ENSG00000251322         0.013507         0.000661         0.005277   \n",
       "\n",
       "                 ENSG00000205560  ENSG00000100288  ENSG00000008735  \\\n",
       "ENSG00000188976         0.000000         0.000000         0.000000   \n",
       "ENSG00000188290         0.000000         0.000000         0.000000   \n",
       "ENSG00000187608         0.000000         0.000000         0.000000   \n",
       "ENSG00000188157         0.000000         0.000000         0.000000   \n",
       "ENSG00000186891         0.000000         0.000000         0.000000   \n",
       "...                          ...              ...              ...   \n",
       "ENSG00000205560         1.000000         0.732548         0.197890   \n",
       "ENSG00000100288         0.732548         1.000000         0.280542   \n",
       "ENSG00000008735         0.197890         0.280542         1.000000   \n",
       "ENSG00000100299         0.036229         0.027155         0.226706   \n",
       "ENSG00000251322         0.008387         0.020439         0.035740   \n",
       "\n",
       "                 ENSG00000100299  ENSG00000251322  \n",
       "ENSG00000188976         0.000000         0.000000  \n",
       "ENSG00000188290         0.000000         0.000000  \n",
       "ENSG00000187608         0.000000         0.000000  \n",
       "ENSG00000188157         0.000000         0.000000  \n",
       "ENSG00000186891         0.000000         0.000000  \n",
       "...                          ...              ...  \n",
       "ENSG00000205560         0.036229         0.008387  \n",
       "ENSG00000100288         0.027155         0.020439  \n",
       "ENSG00000008735         0.226706         0.035740  \n",
       "ENSG00000100299         1.000000         0.032019  \n",
       "ENSG00000251322         0.032019         1.000000  \n",
       "\n",
       "[6442 rows x 6442 columns]"
      ]
     },
     "metadata": {},
     "output_type": "display_data"
    }
   ],
   "source": [
    "if CHOL_DECOMPOSITION_FAILED:\n",
    "    corr_mat_r = full_corr_matrix.to_numpy()\n",
    "\n",
    "    %Rpush corr_mat_r\n",
    "    %R -o corr_mat_r_fixed corr_mat_r_fixed <- CorrectCM(corr_mat_r, 1e-5)\n",
    "\n",
    "    display(corr_mat_r_fixed.shape)\n",
    "\n",
    "    full_corr_matrix_fixed = pd.DataFrame(\n",
    "        corr_mat_r_fixed,\n",
    "        index=full_corr_matrix.index.copy(),\n",
    "        columns=full_corr_matrix.columns.copy(),\n",
    "    )\n",
    "    display(full_corr_matrix_fixed.shape)\n",
    "    display(full_corr_matrix_fixed)\n",
    "else:\n",
    "    print(\"No adjustment was necessary\")"
   ]
  },
  {
   "cell_type": "markdown",
   "id": "024b04c6-e0bf-4a88-98af-5ca7a96a8753",
   "metadata": {
    "papermill": {
     "duration": 0.012573,
     "end_time": "2022-07-23T02:48:21.007091",
     "exception": false,
     "start_time": "2022-07-23T02:48:20.994518",
     "status": "completed"
    },
    "tags": []
   },
   "source": [
    "## Make sure the new matrix is positive definite"
   ]
  },
  {
   "cell_type": "code",
   "execution_count": 46,
   "id": "6908be87-1086-45bd-b8f0-4cf923755683",
   "metadata": {
    "execution": {
     "iopub.execute_input": "2022-07-23T02:48:21.033555Z",
     "iopub.status.busy": "2022-07-23T02:48:21.032889Z",
     "iopub.status.idle": "2022-07-23T02:49:18.723184Z",
     "shell.execute_reply": "2022-07-23T02:49:18.722603Z"
    },
    "papermill": {
     "duration": 57.704977,
     "end_time": "2022-07-23T02:49:18.724767",
     "exception": false,
     "start_time": "2022-07-23T02:48:21.019790",
     "status": "completed"
    },
    "tags": []
   },
   "outputs": [
    {
     "data": {
      "text/plain": [
       "0"
      ]
     },
     "metadata": {},
     "output_type": "display_data"
    },
    {
     "data": {
      "text/plain": [
       "array([], dtype=float64)"
      ]
     },
     "metadata": {},
     "output_type": "display_data"
    }
   ],
   "source": [
    "if CHOL_DECOMPOSITION_FAILED:\n",
    "    # print negative eigenvalues\n",
    "    eigs = np.linalg.eigvals(full_corr_matrix_fixed.to_numpy())\n",
    "    display(len(eigs[eigs < 0]))\n",
    "    display(eigs[eigs < 0])\n",
    "\n",
    "    chol_mat = np.linalg.cholesky(full_corr_matrix_fixed.to_numpy())\n",
    "    cov_inv = np.linalg.inv(chol_mat)\n",
    "\n",
    "    assert not np.isnan(chol_mat).any()\n",
    "    assert not np.isinf(chol_mat).any()\n",
    "    assert not np.iscomplex(chol_mat).any()\n",
    "\n",
    "    assert not np.isnan(cov_inv).any()\n",
    "    assert not np.isinf(cov_inv).any()\n",
    "    assert not np.iscomplex(cov_inv).any()\n",
    "else:\n",
    "    print(\"No adjustment was necessary\")"
   ]
  },
  {
   "cell_type": "markdown",
   "id": "ce84a6b4-9590-4b99-9fd6-83724f6d8f29",
   "metadata": {
    "papermill": {
     "duration": 0.013391,
     "end_time": "2022-07-23T02:49:18.752341",
     "exception": false,
     "start_time": "2022-07-23T02:49:18.738950",
     "status": "completed"
    },
    "tags": []
   },
   "source": [
    "## Compare adjusted and original correlation matrix"
   ]
  },
  {
   "cell_type": "code",
   "execution_count": 47,
   "id": "79e6972e-1832-4fd2-8e34-b4732f42a495",
   "metadata": {
    "execution": {
     "iopub.execute_input": "2022-07-23T02:49:18.778369Z",
     "iopub.status.busy": "2022-07-23T02:49:18.778159Z",
     "iopub.status.idle": "2022-07-23T02:49:19.434473Z",
     "shell.execute_reply": "2022-07-23T02:49:19.433801Z"
    },
    "papermill": {
     "duration": 0.671529,
     "end_time": "2022-07-23T02:49:19.436246",
     "exception": false,
     "start_time": "2022-07-23T02:49:18.764717",
     "status": "completed"
    },
    "tags": []
   },
   "outputs": [
    {
     "data": {
      "text/plain": [
       "4.140139545867525e-10"
      ]
     },
     "metadata": {},
     "output_type": "display_data"
    }
   ],
   "source": [
    "if CHOL_DECOMPOSITION_FAILED:\n",
    "    # print the element-wise difference between the original and the adjusted matrix\n",
    "    _diff = ((full_corr_matrix - full_corr_matrix_fixed) ** 2).unstack().sum()\n",
    "    display(_diff)\n",
    "    assert _diff < 1e-5\n",
    "else:\n",
    "    print(\"No adjustment was necessary\")"
   ]
  },
  {
   "cell_type": "markdown",
   "id": "bd9fd435-7a5c-4c52-b00e-32167287cc01",
   "metadata": {
    "papermill": {
     "duration": 0.014439,
     "end_time": "2022-07-23T02:49:19.466622",
     "exception": false,
     "start_time": "2022-07-23T02:49:19.452183",
     "status": "completed"
    },
    "tags": []
   },
   "source": [
    "## Replace original matrix with adjusted one"
   ]
  },
  {
   "cell_type": "code",
   "execution_count": 48,
   "id": "fc8a4108-e93b-478f-b09f-4d64635fe4d5",
   "metadata": {
    "execution": {
     "iopub.execute_input": "2022-07-23T02:49:19.493221Z",
     "iopub.status.busy": "2022-07-23T02:49:19.493017Z",
     "iopub.status.idle": "2022-07-23T02:49:19.508447Z",
     "shell.execute_reply": "2022-07-23T02:49:19.507967Z"
    },
    "papermill": {
     "duration": 0.029949,
     "end_time": "2022-07-23T02:49:19.509725",
     "exception": false,
     "start_time": "2022-07-23T02:49:19.479776",
     "status": "completed"
    },
    "tags": []
   },
   "outputs": [],
   "source": [
    "if CHOL_DECOMPOSITION_FAILED:\n",
    "    full_corr_matrix = full_corr_matrix_fixed\n",
    "else:\n",
    "    print(\"No adjustment was necessary\")"
   ]
  },
  {
   "cell_type": "markdown",
   "id": "551bd31a-ad37-45b5-a0c8-6ff1459faf60",
   "metadata": {
    "papermill": {
     "duration": 0.01241,
     "end_time": "2022-07-23T02:49:19.535100",
     "exception": false,
     "start_time": "2022-07-23T02:49:19.522690",
     "status": "completed"
    },
    "tags": []
   },
   "source": [
    "# Stats"
   ]
  },
  {
   "cell_type": "code",
   "execution_count": 49,
   "id": "33b5482f-7ecf-4365-867f-249f28d09180",
   "metadata": {
    "execution": {
     "iopub.execute_input": "2022-07-23T02:49:19.561401Z",
     "iopub.status.busy": "2022-07-23T02:49:19.561192Z",
     "iopub.status.idle": "2022-07-23T02:49:20.403035Z",
     "shell.execute_reply": "2022-07-23T02:49:20.402473Z"
    },
    "papermill": {
     "duration": 0.856664,
     "end_time": "2022-07-23T02:49:20.404546",
     "exception": false,
     "start_time": "2022-07-23T02:49:19.547882",
     "status": "completed"
    },
    "tags": []
   },
   "outputs": [],
   "source": [
    "full_corr_matrix_flat = full_corr_matrix.mask(\n",
    "    np.triu(np.ones(full_corr_matrix.shape)).astype(bool)\n",
    ").stack()"
   ]
  },
  {
   "cell_type": "code",
   "execution_count": 50,
   "id": "e2d950d1-646a-4ba1-bb91-cf07ad00872d",
   "metadata": {
    "execution": {
     "iopub.execute_input": "2022-07-23T02:49:20.435785Z",
     "iopub.status.busy": "2022-07-23T02:49:20.435591Z",
     "iopub.status.idle": "2022-07-23T02:49:20.454036Z",
     "shell.execute_reply": "2022-07-23T02:49:20.453432Z"
    },
    "papermill": {
     "duration": 0.036791,
     "end_time": "2022-07-23T02:49:20.455350",
     "exception": false,
     "start_time": "2022-07-23T02:49:20.418559",
     "status": "completed"
    },
    "tags": []
   },
   "outputs": [
    {
     "data": {
      "text/plain": [
       "(20746461,)"
      ]
     },
     "metadata": {},
     "output_type": "display_data"
    }
   ],
   "source": [
    "display(full_corr_matrix_flat.shape)\n",
    "assert full_corr_matrix_flat.shape[0] == int(\n",
    "    full_corr_matrix.shape[0] * (full_corr_matrix.shape[0] - 1) / 2\n",
    ")"
   ]
  },
  {
   "cell_type": "markdown",
   "id": "5fd7d482-b7b8-4a84-91b0-749d15f0d2c0",
   "metadata": {
    "papermill": {
     "duration": 0.013717,
     "end_time": "2022-07-23T02:49:20.484047",
     "exception": false,
     "start_time": "2022-07-23T02:49:20.470330",
     "status": "completed"
    },
    "tags": []
   },
   "source": [
    "## On all correlations"
   ]
  },
  {
   "cell_type": "code",
   "execution_count": 51,
   "id": "e58ea199-0cc1-449d-a55e-26970fb674a8",
   "metadata": {
    "execution": {
     "iopub.execute_input": "2022-07-23T02:49:20.510844Z",
     "iopub.status.busy": "2022-07-23T02:49:20.510647Z",
     "iopub.status.idle": "2022-07-23T02:49:20.525596Z",
     "shell.execute_reply": "2022-07-23T02:49:20.525120Z"
    },
    "papermill": {
     "duration": 0.029681,
     "end_time": "2022-07-23T02:49:20.526890",
     "exception": false,
     "start_time": "2022-07-23T02:49:20.497209",
     "status": "completed"
    },
    "tags": []
   },
   "outputs": [],
   "source": [
    "_corr_mat = full_corr_matrix_flat"
   ]
  },
  {
   "cell_type": "code",
   "execution_count": 52,
   "id": "c4e71773-0b74-435f-a9d9-cc8671d7c570",
   "metadata": {
    "execution": {
     "iopub.execute_input": "2022-07-23T02:49:20.554033Z",
     "iopub.status.busy": "2022-07-23T02:49:20.553871Z",
     "iopub.status.idle": "2022-07-23T02:49:20.569661Z",
     "shell.execute_reply": "2022-07-23T02:49:20.569179Z"
    },
    "papermill": {
     "duration": 0.03079,
     "end_time": "2022-07-23T02:49:20.570886",
     "exception": false,
     "start_time": "2022-07-23T02:49:20.540096",
     "status": "completed"
    },
    "tags": []
   },
   "outputs": [
    {
     "data": {
      "text/plain": [
       "(20746461,)"
      ]
     },
     "execution_count": 52,
     "metadata": {},
     "output_type": "execute_result"
    }
   ],
   "source": [
    "_corr_mat.shape"
   ]
  },
  {
   "cell_type": "code",
   "execution_count": 53,
   "id": "9907fbe4-85e1-4690-ae0c-3c6f5a19e9b7",
   "metadata": {
    "execution": {
     "iopub.execute_input": "2022-07-23T02:49:20.598071Z",
     "iopub.status.busy": "2022-07-23T02:49:20.597909Z",
     "iopub.status.idle": "2022-07-23T02:49:20.614531Z",
     "shell.execute_reply": "2022-07-23T02:49:20.614033Z"
    },
    "papermill": {
     "duration": 0.031656,
     "end_time": "2022-07-23T02:49:20.615779",
     "exception": false,
     "start_time": "2022-07-23T02:49:20.584123",
     "status": "completed"
    },
    "tags": []
   },
   "outputs": [
    {
     "data": {
      "text/plain": [
       "ENSG00000188290  ENSG00000188976    0.115011\n",
       "ENSG00000187608  ENSG00000188976    0.173138\n",
       "                 ENSG00000188290    0.681368\n",
       "ENSG00000188157  ENSG00000188976    0.056096\n",
       "                 ENSG00000188290    0.360588\n",
       "dtype: float64"
      ]
     },
     "execution_count": 53,
     "metadata": {},
     "output_type": "execute_result"
    }
   ],
   "source": [
    "_corr_mat.head()"
   ]
  },
  {
   "cell_type": "code",
   "execution_count": 54,
   "id": "cb34e9c9-7488-47f2-aa31-c8a8e83f92ae",
   "metadata": {
    "execution": {
     "iopub.execute_input": "2022-07-23T02:49:20.643041Z",
     "iopub.status.busy": "2022-07-23T02:49:20.642834Z",
     "iopub.status.idle": "2022-07-23T02:49:21.259487Z",
     "shell.execute_reply": "2022-07-23T02:49:21.259018Z"
    },
    "papermill": {
     "duration": 0.63166,
     "end_time": "2022-07-23T02:49:21.260796",
     "exception": false,
     "start_time": "2022-07-23T02:49:20.629136",
     "status": "completed"
    },
    "tags": []
   },
   "outputs": [
    {
     "data": {
      "text/plain": [
       "count               20746461.0\n",
       "mean     0.0005816522085921089\n",
       "std      0.0071792813860001034\n",
       "min                        0.0\n",
       "25%                        0.0\n",
       "50%                        0.0\n",
       "75%                        0.0\n",
       "max         0.9999900000499998\n",
       "dtype: object"
      ]
     },
     "execution_count": 54,
     "metadata": {},
     "output_type": "execute_result"
    }
   ],
   "source": [
    "_corr_mat.describe().apply(str)"
   ]
  },
  {
   "cell_type": "code",
   "execution_count": 55,
   "id": "ccb2fbfa-e381-40a0-a269-e280c12c6039",
   "metadata": {
    "execution": {
     "iopub.execute_input": "2022-07-23T02:49:21.288727Z",
     "iopub.status.busy": "2022-07-23T02:49:21.288520Z",
     "iopub.status.idle": "2022-07-23T02:49:21.610653Z",
     "shell.execute_reply": "2022-07-23T02:49:21.610111Z"
    },
    "papermill": {
     "duration": 0.337411,
     "end_time": "2022-07-23T02:49:21.611911",
     "exception": false,
     "start_time": "2022-07-23T02:49:21.274500",
     "status": "completed"
    },
    "tags": []
   },
   "outputs": [
    {
     "data": {
      "text/plain": [
       "0.00    0.000000\n",
       "0.05    0.000000\n",
       "0.10    0.000000\n",
       "0.15    0.000000\n",
       "0.20    0.000000\n",
       "0.25    0.000000\n",
       "0.30    0.000000\n",
       "0.35    0.000000\n",
       "0.40    0.000000\n",
       "0.45    0.000000\n",
       "0.50    0.000000\n",
       "0.55    0.000000\n",
       "0.60    0.000000\n",
       "0.65    0.000000\n",
       "0.70    0.000000\n",
       "0.75    0.000000\n",
       "0.80    0.000000\n",
       "0.85    0.000000\n",
       "0.90    0.000000\n",
       "0.95    0.003199\n",
       "dtype: float64"
      ]
     },
     "metadata": {},
     "output_type": "display_data"
    }
   ],
   "source": [
    "display(_corr_mat.quantile(np.arange(0, 1, 0.05)))"
   ]
  },
  {
   "cell_type": "code",
   "execution_count": 56,
   "id": "940dcbd0-3a39-4e0b-9b7c-cd3f905ea8fb",
   "metadata": {
    "execution": {
     "iopub.execute_input": "2022-07-23T02:49:21.639263Z",
     "iopub.status.busy": "2022-07-23T02:49:21.639058Z",
     "iopub.status.idle": "2022-07-23T02:49:21.851643Z",
     "shell.execute_reply": "2022-07-23T02:49:21.851123Z"
    },
    "papermill": {
     "duration": 0.227764,
     "end_time": "2022-07-23T02:49:21.852980",
     "exception": false,
     "start_time": "2022-07-23T02:49:21.625216",
     "status": "completed"
    },
    "tags": []
   },
   "outputs": [
    {
     "data": {
      "text/plain": [
       "0.0000    0.0\n",
       "0.0001    0.0\n",
       "0.0002    0.0\n",
       "0.0003    0.0\n",
       "0.0004    0.0\n",
       "0.0005    0.0\n",
       "0.0006    0.0\n",
       "0.0007    0.0\n",
       "0.0008    0.0\n",
       "0.0009    0.0\n",
       "dtype: float64"
      ]
     },
     "metadata": {},
     "output_type": "display_data"
    }
   ],
   "source": [
    "display(_corr_mat.quantile(np.arange(0, 0.001, 0.0001)))"
   ]
  },
  {
   "cell_type": "code",
   "execution_count": 57,
   "id": "9c76b62b-be13-4037-a95b-a8c2104055a3",
   "metadata": {
    "execution": {
     "iopub.execute_input": "2022-07-23T02:49:21.881334Z",
     "iopub.status.busy": "2022-07-23T02:49:21.880543Z",
     "iopub.status.idle": "2022-07-23T02:49:22.011569Z",
     "shell.execute_reply": "2022-07-23T02:49:22.011059Z"
    },
    "papermill": {
     "duration": 0.146258,
     "end_time": "2022-07-23T02:49:22.012885",
     "exception": false,
     "start_time": "2022-07-23T02:49:21.866627",
     "status": "completed"
    },
    "tags": []
   },
   "outputs": [
    {
     "data": {
      "text/plain": [
       "0.9990    0.021681\n",
       "0.9991    0.022703\n",
       "0.9992    0.024414\n",
       "0.9993    0.028023\n",
       "0.9994    0.036368\n",
       "0.9995    0.051164\n",
       "0.9996    0.078884\n",
       "0.9997    0.133181\n",
       "0.9998    0.234881\n",
       "0.9999    0.392450\n",
       "1.0000    0.999990\n",
       "dtype: float64"
      ]
     },
     "metadata": {},
     "output_type": "display_data"
    }
   ],
   "source": [
    "display(_corr_mat.quantile(np.arange(0.999, 1.0, 0.0001)))"
   ]
  },
  {
   "cell_type": "markdown",
   "id": "0ed3b3a6-f1ea-4f39-9363-f33b835413d2",
   "metadata": {
    "papermill": {
     "duration": 0.013412,
     "end_time": "2022-07-23T02:49:22.040556",
     "exception": false,
     "start_time": "2022-07-23T02:49:22.027144",
     "status": "completed"
    },
    "tags": []
   },
   "source": [
    "### Plot: distribution"
   ]
  },
  {
   "cell_type": "code",
   "execution_count": 58,
   "id": "8301126b-a7d4-4744-9c7d-f0f86eb6f54c",
   "metadata": {
    "execution": {
     "iopub.execute_input": "2022-07-23T02:49:22.067511Z",
     "iopub.status.busy": "2022-07-23T02:49:22.067303Z",
     "iopub.status.idle": "2022-07-23T02:50:23.897448Z",
     "shell.execute_reply": "2022-07-23T02:50:23.896899Z"
    },
    "papermill": {
     "duration": 61.858426,
     "end_time": "2022-07-23T02:50:23.912099",
     "exception": false,
     "start_time": "2022-07-23T02:49:22.053673",
     "status": "completed"
    },
    "tags": []
   },
   "outputs": [
    {
     "data": {
      "image/png": "[encoded data removed]",
      "text/plain": [
       "<Figure size 504x504 with 1 Axes>"
      ]
     },
     "metadata": {
      "needs_background": "light"
     },
     "output_type": "display_data"
    }
   ],
   "source": [
    "with sns.plotting_context(\"paper\", font_scale=1.5):\n",
    "    g = sns.displot(_corr_mat, kde=True, height=7)\n",
    "    g.ax.set_title(\"Distribution of gene correlation values in all chromosomes\")"
   ]
  },
  {
   "cell_type": "markdown",
   "id": "e209767d-44b8-48a4-ad28-478703a3b5bd",
   "metadata": {
    "papermill": {
     "duration": 0.013231,
     "end_time": "2022-07-23T02:50:23.938931",
     "exception": false,
     "start_time": "2022-07-23T02:50:23.925700",
     "status": "completed"
    },
    "tags": []
   },
   "source": [
    "### Plot: heatmap"
   ]
  },
  {
   "cell_type": "code",
   "execution_count": 59,
   "id": "d03fe63a-c7b2-4fb9-a53c-db362ce843c9",
   "metadata": {
    "execution": {
     "iopub.execute_input": "2022-07-23T02:50:23.966892Z",
     "iopub.status.busy": "2022-07-23T02:50:23.966656Z",
     "iopub.status.idle": "2022-07-23T02:50:24.096017Z",
     "shell.execute_reply": "2022-07-23T02:50:24.095394Z"
    },
    "papermill": {
     "duration": 0.14496,
     "end_time": "2022-07-23T02:50:24.097302",
     "exception": false,
     "start_time": "2022-07-23T02:50:23.952342",
     "status": "completed"
    },
    "tags": []
   },
   "outputs": [
    {
     "data": {
      "text/plain": [
       "'0.0 / 0.05'"
      ]
     },
     "metadata": {},
     "output_type": "display_data"
    }
   ],
   "source": [
    "vmin_val = 0.0\n",
    "vmax_val = max(0.05, _corr_mat.quantile(0.99))\n",
    "display(f\"{vmin_val} / {vmax_val}\")"
   ]
  },
  {
   "cell_type": "code",
   "execution_count": 60,
   "id": "dc41b70b-5bcc-4d9e-9f33-a22c4a94dab5",
   "metadata": {
    "execution": {
     "iopub.execute_input": "2022-07-23T02:50:24.126958Z",
     "iopub.status.busy": "2022-07-23T02:50:24.126797Z",
     "iopub.status.idle": "2022-07-23T02:50:49.956011Z",
     "shell.execute_reply": "2022-07-23T02:50:49.955379Z"
    },
    "papermill": {
     "duration": 25.845421,
     "end_time": "2022-07-23T02:50:49.957385",
     "exception": false,
     "start_time": "2022-07-23T02:50:24.111964",
     "status": "completed"
    },
    "tags": []
   },
   "outputs": [
    {
     "data": {
      "text/plain": [
       "Text(0.5, 1.0, 'Gene correlations in all chromosomes')"
      ]
     },
     "execution_count": 60,
     "metadata": {},
     "output_type": "execute_result"
    },
    {
     "data": {
      "image/png": "[encoded data removed]",
      "text/plain": [
       "<Figure size 720x720 with 2 Axes>"
      ]
     },
     "metadata": {
      "needs_background": "light"
     },
     "output_type": "display_data"
    }
   ],
   "source": [
    "f, ax = plt.subplots(figsize=(10, 10))\n",
    "sns.heatmap(\n",
    "    full_corr_matrix,\n",
    "    xticklabels=False,\n",
    "    yticklabels=False,\n",
    "    square=True,\n",
    "    vmin=vmin_val,\n",
    "    vmax=vmax_val,\n",
    "    cmap=\"rocket_r\",\n",
    "    ax=ax,\n",
    ")\n",
    "ax.set_title(\"Gene correlations in all chromosomes\")"
   ]
  },
  {
   "cell_type": "markdown",
   "id": "5a1b7488-1c3b-4c8b-b619-3b063b3f83c6",
   "metadata": {
    "papermill": {
     "duration": 0.013999,
     "end_time": "2022-07-23T02:50:49.986081",
     "exception": false,
     "start_time": "2022-07-23T02:50:49.972082",
     "status": "completed"
    },
    "tags": []
   },
   "source": [
    "## On nonzero correlations"
   ]
  },
  {
   "cell_type": "code",
   "execution_count": 61,
   "id": "0a07752e-b62f-4f01-af30-847efe9bba54",
   "metadata": {
    "execution": {
     "iopub.execute_input": "2022-07-23T02:50:50.015800Z",
     "iopub.status.busy": "2022-07-23T02:50:50.015520Z",
     "iopub.status.idle": "2022-07-23T02:50:50.063658Z",
     "shell.execute_reply": "2022-07-23T02:50:50.063146Z"
    },
    "papermill": {
     "duration": 0.064738,
     "end_time": "2022-07-23T02:50:50.065081",
     "exception": false,
     "start_time": "2022-07-23T02:50:50.000343",
     "status": "completed"
    },
    "tags": []
   },
   "outputs": [],
   "source": [
    "nonzero_corrs = full_corr_matrix_flat[full_corr_matrix_flat > 0.0]"
   ]
  },
  {
   "cell_type": "code",
   "execution_count": 62,
   "id": "3b509dde-e4ec-4e14-a7d5-09e3fe584027",
   "metadata": {
    "execution": {
     "iopub.execute_input": "2022-07-23T02:50:50.096562Z",
     "iopub.status.busy": "2022-07-23T02:50:50.096356Z",
     "iopub.status.idle": "2022-07-23T02:50:50.111908Z",
     "shell.execute_reply": "2022-07-23T02:50:50.111298Z"
    },
    "papermill": {
     "duration": 0.032353,
     "end_time": "2022-07-23T02:50:50.113267",
     "exception": false,
     "start_time": "2022-07-23T02:50:50.080914",
     "status": "completed"
    },
    "tags": []
   },
   "outputs": [],
   "source": [
    "_corr_mat = nonzero_corrs"
   ]
  },
  {
   "cell_type": "code",
   "execution_count": 63,
   "id": "427cd6b6-411c-4bce-9129-f7e128c9992f",
   "metadata": {
    "execution": {
     "iopub.execute_input": "2022-07-23T02:50:50.144687Z",
     "iopub.status.busy": "2022-07-23T02:50:50.144469Z",
     "iopub.status.idle": "2022-07-23T02:50:50.160083Z",
     "shell.execute_reply": "2022-07-23T02:50:50.159595Z"
    },
    "papermill": {
     "duration": 0.03266,
     "end_time": "2022-07-23T02:50:50.161217",
     "exception": false,
     "start_time": "2022-07-23T02:50:50.128557",
     "status": "completed"
    },
    "tags": []
   },
   "outputs": [
    {
     "data": {
      "text/plain": [
       "(1175426,)"
      ]
     },
     "execution_count": 63,
     "metadata": {},
     "output_type": "execute_result"
    }
   ],
   "source": [
    "_corr_mat.shape"
   ]
  },
  {
   "cell_type": "code",
   "execution_count": 64,
   "id": "684ee3aa-d1bf-4f39-883e-1c9cda28f332",
   "metadata": {
    "execution": {
     "iopub.execute_input": "2022-07-23T02:50:50.191887Z",
     "iopub.status.busy": "2022-07-23T02:50:50.191246Z",
     "iopub.status.idle": "2022-07-23T02:50:50.208173Z",
     "shell.execute_reply": "2022-07-23T02:50:50.207709Z"
    },
    "papermill": {
     "duration": 0.03318,
     "end_time": "2022-07-23T02:50:50.209440",
     "exception": false,
     "start_time": "2022-07-23T02:50:50.176260",
     "status": "completed"
    },
    "tags": []
   },
   "outputs": [
    {
     "data": {
      "text/plain": [
       "ENSG00000188290  ENSG00000188976    0.115011\n",
       "ENSG00000187608  ENSG00000188976    0.173138\n",
       "                 ENSG00000188290    0.681368\n",
       "ENSG00000188157  ENSG00000188976    0.056096\n",
       "                 ENSG00000188290    0.360588\n",
       "dtype: float64"
      ]
     },
     "execution_count": 64,
     "metadata": {},
     "output_type": "execute_result"
    }
   ],
   "source": [
    "_corr_mat.head()"
   ]
  },
  {
   "cell_type": "code",
   "execution_count": 65,
   "id": "87467e53-a225-48f9-86ef-d00978925faa",
   "metadata": {
    "execution": {
     "iopub.execute_input": "2022-07-23T02:50:50.240716Z",
     "iopub.status.busy": "2022-07-23T02:50:50.240333Z",
     "iopub.status.idle": "2022-07-23T02:50:50.298652Z",
     "shell.execute_reply": "2022-07-23T02:50:50.298105Z"
    },
    "papermill": {
     "duration": 0.075446,
     "end_time": "2022-07-23T02:50:50.300006",
     "exception": false,
     "start_time": "2022-07-23T02:50:50.224560",
     "status": "completed"
    },
    "tags": []
   },
   "outputs": [
    {
     "data": {
      "text/plain": [
       "count                 1175426.0\n",
       "mean       0.010266256541134926\n",
       "std        0.028465807032153165\n",
       "min      1.6979022141093296e-11\n",
       "25%        0.004974360832365826\n",
       "50%        0.007725814268712206\n",
       "75%         0.01089450488318943\n",
       "max          0.9999900000499998\n",
       "dtype: object"
      ]
     },
     "execution_count": 65,
     "metadata": {},
     "output_type": "execute_result"
    }
   ],
   "source": [
    "_corr_mat.describe().apply(str)"
   ]
  },
  {
   "cell_type": "code",
   "execution_count": 66,
   "id": "ece1b4b2-1764-4893-bb0e-837f5d1a6677",
   "metadata": {
    "execution": {
     "iopub.execute_input": "2022-07-23T02:50:50.331489Z",
     "iopub.status.busy": "2022-07-23T02:50:50.331270Z",
     "iopub.status.idle": "2022-07-23T02:50:50.386545Z",
     "shell.execute_reply": "2022-07-23T02:50:50.385813Z"
    },
    "papermill": {
     "duration": 0.072377,
     "end_time": "2022-07-23T02:50:50.387882",
     "exception": false,
     "start_time": "2022-07-23T02:50:50.315505",
     "status": "completed"
    },
    "tags": []
   },
   "outputs": [
    {
     "data": {
      "text/plain": [
       "0.00    1.697902e-11\n",
       "0.05    1.900950e-03\n",
       "0.10    2.905345e-03\n",
       "0.15    3.689235e-03\n",
       "0.20    4.359856e-03\n",
       "0.25    4.974361e-03\n",
       "0.30    5.544995e-03\n",
       "0.35    6.099808e-03\n",
       "0.40    6.642283e-03\n",
       "0.45    7.177706e-03\n",
       "0.50    7.725814e-03\n",
       "0.55    8.284770e-03\n",
       "0.60    8.865867e-03\n",
       "0.65    9.487110e-03\n",
       "0.70    1.015237e-02\n",
       "0.75    1.089450e-02\n",
       "0.80    1.174918e-02\n",
       "0.85    1.279266e-02\n",
       "0.90    1.418922e-02\n",
       "0.95    1.655567e-02\n",
       "dtype: float64"
      ]
     },
     "metadata": {},
     "output_type": "display_data"
    }
   ],
   "source": [
    "display(_corr_mat.quantile(np.arange(0, 1, 0.05)))"
   ]
  },
  {
   "cell_type": "code",
   "execution_count": 67,
   "id": "3543f16e-1453-44e5-ab68-0d03450e559b",
   "metadata": {
    "execution": {
     "iopub.execute_input": "2022-07-23T02:50:50.418081Z",
     "iopub.status.busy": "2022-07-23T02:50:50.417875Z",
     "iopub.status.idle": "2022-07-23T02:50:50.453342Z",
     "shell.execute_reply": "2022-07-23T02:50:50.452843Z"
    },
    "papermill": {
     "duration": 0.052047,
     "end_time": "2022-07-23T02:50:50.454528",
     "exception": false,
     "start_time": "2022-07-23T02:50:50.402481",
     "status": "completed"
    },
    "tags": []
   },
   "outputs": [
    {
     "data": {
      "text/plain": [
       "0.0000    1.697902e-11\n",
       "0.0001    1.371332e-06\n",
       "0.0002    4.637222e-06\n",
       "0.0003    9.346197e-06\n",
       "0.0004    1.453926e-05\n",
       "0.0005    1.939051e-05\n",
       "0.0006    2.594216e-05\n",
       "0.0007    3.307698e-05\n",
       "0.0008    3.995087e-05\n",
       "0.0009    4.739880e-05\n",
       "dtype: float64"
      ]
     },
     "metadata": {},
     "output_type": "display_data"
    }
   ],
   "source": [
    "display(_corr_mat.quantile(np.arange(0, 0.001, 0.0001)))"
   ]
  },
  {
   "cell_type": "code",
   "execution_count": 68,
   "id": "bb34d782-9aaa-48ce-b526-8323522166a3",
   "metadata": {
    "execution": {
     "iopub.execute_input": "2022-07-23T02:50:50.485909Z",
     "iopub.status.busy": "2022-07-23T02:50:50.485706Z",
     "iopub.status.idle": "2022-07-23T02:50:50.505976Z",
     "shell.execute_reply": "2022-07-23T02:50:50.505499Z"
    },
    "papermill": {
     "duration": 0.037308,
     "end_time": "2022-07-23T02:50:50.507251",
     "exception": false,
     "start_time": "2022-07-23T02:50:50.469943",
     "status": "completed"
    },
    "tags": []
   },
   "outputs": [
    {
     "data": {
      "text/plain": [
       "0.9990    0.497081\n",
       "0.9991    0.514762\n",
       "0.9992    0.536626\n",
       "0.9993    0.560535\n",
       "0.9994    0.581584\n",
       "0.9995    0.611738\n",
       "0.9996    0.640323\n",
       "0.9997    0.671240\n",
       "0.9998    0.721949\n",
       "0.9999    0.803545\n",
       "1.0000    0.999990\n",
       "dtype: float64"
      ]
     },
     "metadata": {},
     "output_type": "display_data"
    }
   ],
   "source": [
    "display(_corr_mat.quantile(np.arange(0.999, 1.0, 0.0001)))"
   ]
  },
  {
   "cell_type": "markdown",
   "id": "fd4ce75c-e759-48b5-9b2b-584438302fff",
   "metadata": {
    "papermill": {
     "duration": 0.015711,
     "end_time": "2022-07-23T02:50:50.539388",
     "exception": false,
     "start_time": "2022-07-23T02:50:50.523677",
     "status": "completed"
    },
    "tags": []
   },
   "source": [
    "### Plot: distribution"
   ]
  },
  {
   "cell_type": "code",
   "execution_count": 69,
   "id": "7da6aa50-81da-4f75-9d54-4fad6a3fb5a5",
   "metadata": {
    "execution": {
     "iopub.execute_input": "2022-07-23T02:50:50.570365Z",
     "iopub.status.busy": "2022-07-23T02:50:50.570156Z",
     "iopub.status.idle": "2022-07-23T02:51:06.173423Z",
     "shell.execute_reply": "2022-07-23T02:51:06.172589Z"
    },
    "papermill": {
     "duration": 15.621405,
     "end_time": "2022-07-23T02:51:06.175723",
     "exception": false,
     "start_time": "2022-07-23T02:50:50.554318",
     "status": "completed"
    },
    "tags": []
   },
   "outputs": [
    {
     "data": {
      "image/png": "[encoded data removed]",
      "text/plain": [
       "<Figure size 504x504 with 1 Axes>"
      ]
     },
     "metadata": {
      "needs_background": "light"
     },
     "output_type": "display_data"
    }
   ],
   "source": [
    "with sns.plotting_context(\"paper\", font_scale=1.5):\n",
    "    g = sns.displot(_corr_mat, kde=True, height=7)\n",
    "    g.ax.set_title(\"Distribution of gene correlation values in all chromosomes\")"
   ]
  },
  {
   "cell_type": "markdown",
   "id": "e34db3c2",
   "metadata": {
    "papermill": {
     "duration": 0.02016,
     "end_time": "2022-07-23T02:51:06.221134",
     "exception": false,
     "start_time": "2022-07-23T02:51:06.200974",
     "status": "completed"
    },
    "tags": []
   },
   "source": [
    "# Save"
   ]
  },
  {
   "cell_type": "markdown",
   "id": "510183a9",
   "metadata": {
    "papermill": {
     "duration": 0.016755,
     "end_time": "2022-07-23T02:51:06.256684",
     "exception": false,
     "start_time": "2022-07-23T02:51:06.239929",
     "status": "completed"
    },
    "tags": []
   },
   "source": [
    "## With ensemble ids"
   ]
  },
  {
   "cell_type": "markdown",
   "id": "7f9816a6",
   "metadata": {
    "papermill": {
     "duration": 0.014931,
     "end_time": "2022-07-23T02:51:06.287291",
     "exception": false,
     "start_time": "2022-07-23T02:51:06.272360",
     "status": "completed"
    },
    "tags": []
   },
   "source": [
    "## With gene symbols"
   ]
  },
  {
   "cell_type": "code",
   "execution_count": 70,
   "id": "2f174f95-2be3-4b63-95fb-451413ad361d",
   "metadata": {
    "execution": {
     "iopub.execute_input": "2022-07-23T02:51:06.318182Z",
     "iopub.status.busy": "2022-07-23T02:51:06.317964Z",
     "iopub.status.idle": "2022-07-23T02:51:06.334231Z",
     "shell.execute_reply": "2022-07-23T02:51:06.333625Z"
    },
    "papermill": {
     "duration": 0.033115,
     "end_time": "2022-07-23T02:51:06.335374",
     "exception": false,
     "start_time": "2022-07-23T02:51:06.302259",
     "status": "completed"
    },
    "tags": []
   },
   "outputs": [
    {
     "data": {
      "text/plain": [
       "PosixPath('/opt/data/results/gls/gene_corrs/cohorts/1000g_eur/1000g/mashr/gene_corrs-symbols.pkl')"
      ]
     },
     "metadata": {},
     "output_type": "display_data"
    }
   ],
   "source": [
    "output_file = OUTPUT_DIR_BASE / \"gene_corrs-symbols.pkl\"\n",
    "display(output_file)"
   ]
  },
  {
   "cell_type": "code",
   "execution_count": 71,
   "id": "1436a25d",
   "metadata": {
    "execution": {
     "iopub.execute_input": "2022-07-23T02:51:06.367246Z",
     "iopub.status.busy": "2022-07-23T02:51:06.367037Z",
     "iopub.status.idle": "2022-07-23T02:51:06.450156Z",
     "shell.execute_reply": "2022-07-23T02:51:06.449592Z"
    },
    "papermill": {
     "duration": 0.100384,
     "end_time": "2022-07-23T02:51:06.451626",
     "exception": false,
     "start_time": "2022-07-23T02:51:06.351242",
     "status": "completed"
    },
    "tags": []
   },
   "outputs": [],
   "source": [
    "gene_corrs = full_corr_matrix.rename(\n",
    "    index=Gene.GENE_ID_TO_NAME_MAP, columns=Gene.GENE_ID_TO_NAME_MAP\n",
    ")"
   ]
  },
  {
   "cell_type": "code",
   "execution_count": 72,
   "id": "90794835-3f5b-49d7-aec8-94b0e6a1ba06",
   "metadata": {
    "execution": {
     "iopub.execute_input": "2022-07-23T02:51:06.484148Z",
     "iopub.status.busy": "2022-07-23T02:51:06.483989Z",
     "iopub.status.idle": "2022-07-23T02:51:06.570755Z",
     "shell.execute_reply": "2022-07-23T02:51:06.570169Z"
    },
    "papermill": {
     "duration": 0.104485,
     "end_time": "2022-07-23T02:51:06.572365",
     "exception": false,
     "start_time": "2022-07-23T02:51:06.467880",
     "status": "completed"
    },
    "tags": []
   },
   "outputs": [],
   "source": [
    "assert not gene_corrs.isna().any(None)\n",
    "assert not np.isinf(gene_corrs.to_numpy()).any()\n",
    "assert not np.iscomplex(gene_corrs.to_numpy()).any()"
   ]
  },
  {
   "cell_type": "code",
   "execution_count": 73,
   "id": "b2014f92",
   "metadata": {
    "execution": {
     "iopub.execute_input": "2022-07-23T02:51:06.609261Z",
     "iopub.status.busy": "2022-07-23T02:51:06.609098Z",
     "iopub.status.idle": "2022-07-23T02:51:06.625830Z",
     "shell.execute_reply": "2022-07-23T02:51:06.625223Z"
    },
    "papermill": {
     "duration": 0.036194,
     "end_time": "2022-07-23T02:51:06.627211",
     "exception": false,
     "start_time": "2022-07-23T02:51:06.591017",
     "status": "completed"
    },
    "tags": []
   },
   "outputs": [],
   "source": [
    "assert gene_corrs.index.is_unique\n",
    "assert gene_corrs.columns.is_unique"
   ]
  },
  {
   "cell_type": "code",
   "execution_count": 74,
   "id": "d9e18eab",
   "metadata": {
    "execution": {
     "iopub.execute_input": "2022-07-23T02:51:06.659718Z",
     "iopub.status.busy": "2022-07-23T02:51:06.659548Z",
     "iopub.status.idle": "2022-07-23T02:51:06.675392Z",
     "shell.execute_reply": "2022-07-23T02:51:06.674842Z"
    },
    "papermill": {
     "duration": 0.03344,
     "end_time": "2022-07-23T02:51:06.676671",
     "exception": false,
     "start_time": "2022-07-23T02:51:06.643231",
     "status": "completed"
    },
    "tags": []
   },
   "outputs": [
    {
     "data": {
      "text/plain": [
       "(6442, 6442)"
      ]
     },
     "execution_count": 74,
     "metadata": {},
     "output_type": "execute_result"
    }
   ],
   "source": [
    "gene_corrs.shape"
   ]
  },
  {
   "cell_type": "code",
   "execution_count": 75,
   "id": "44e83e62",
   "metadata": {
    "execution": {
     "iopub.execute_input": "2022-07-23T02:51:06.708751Z",
     "iopub.status.busy": "2022-07-23T02:51:06.708544Z",
     "iopub.status.idle": "2022-07-23T02:51:06.736898Z",
     "shell.execute_reply": "2022-07-23T02:51:06.736358Z"
    },
    "papermill": {
     "duration": 0.045542,
     "end_time": "2022-07-23T02:51:06.738141",
     "exception": false,
     "start_time": "2022-07-23T02:51:06.692599",
     "status": "completed"
    },
    "tags": []
   },
   "outputs": [
    {
     "data": {
      "text/html": [
       "<div>\n",
       "<style scoped>\n",
       "    .dataframe tbody tr th:only-of-type {\n",
       "        vertical-align: middle;\n",
       "    }\n",
       "\n",
       "    .dataframe tbody tr th {\n",
       "        vertical-align: top;\n",
       "    }\n",
       "\n",
       "    .dataframe thead th {\n",
       "        text-align: right;\n",
       "    }\n",
       "</style>\n",
       "<table border=\"1\" class=\"dataframe\">\n",
       "  <thead>\n",
       "    <tr style=\"text-align: right;\">\n",
       "      <th></th>\n",
       "      <th>NOC2L</th>\n",
       "      <th>HES4</th>\n",
       "      <th>ISG15</th>\n",
       "      <th>AGRN</th>\n",
       "      <th>TNFRSF18</th>\n",
       "      <th>TNFRSF4</th>\n",
       "      <th>B3GALT6</th>\n",
       "      <th>UBE2J2</th>\n",
       "      <th>ACAP3</th>\n",
       "      <th>TAS1R3</th>\n",
       "      <th>...</th>\n",
       "      <th>PLXNB2</th>\n",
       "      <th>ADM2</th>\n",
       "      <th>MIOX</th>\n",
       "      <th>SCO2</th>\n",
       "      <th>TYMP</th>\n",
       "      <th>CPT1B</th>\n",
       "      <th>CHKB</th>\n",
       "      <th>MAPK8IP2</th>\n",
       "      <th>ARSA</th>\n",
       "      <th>SHANK3</th>\n",
       "    </tr>\n",
       "  </thead>\n",
       "  <tbody>\n",
       "    <tr>\n",
       "      <th>NOC2L</th>\n",
       "      <td>1.000000</td>\n",
       "      <td>0.115011</td>\n",
       "      <td>0.173138</td>\n",
       "      <td>0.056096</td>\n",
       "      <td>0.008032</td>\n",
       "      <td>0.008727</td>\n",
       "      <td>0.006797</td>\n",
       "      <td>0.004533</td>\n",
       "      <td>0.007350</td>\n",
       "      <td>0.010391</td>\n",
       "      <td>...</td>\n",
       "      <td>0.0</td>\n",
       "      <td>0.0</td>\n",
       "      <td>0.0</td>\n",
       "      <td>0.0</td>\n",
       "      <td>0.0</td>\n",
       "      <td>0.0</td>\n",
       "      <td>0.0</td>\n",
       "      <td>0.0</td>\n",
       "      <td>0.0</td>\n",
       "      <td>0.0</td>\n",
       "    </tr>\n",
       "    <tr>\n",
       "      <th>HES4</th>\n",
       "      <td>0.115011</td>\n",
       "      <td>1.000000</td>\n",
       "      <td>0.681368</td>\n",
       "      <td>0.360588</td>\n",
       "      <td>0.011545</td>\n",
       "      <td>0.010729</td>\n",
       "      <td>0.003577</td>\n",
       "      <td>0.010230</td>\n",
       "      <td>0.010747</td>\n",
       "      <td>0.008769</td>\n",
       "      <td>...</td>\n",
       "      <td>0.0</td>\n",
       "      <td>0.0</td>\n",
       "      <td>0.0</td>\n",
       "      <td>0.0</td>\n",
       "      <td>0.0</td>\n",
       "      <td>0.0</td>\n",
       "      <td>0.0</td>\n",
       "      <td>0.0</td>\n",
       "      <td>0.0</td>\n",
       "      <td>0.0</td>\n",
       "    </tr>\n",
       "    <tr>\n",
       "      <th>ISG15</th>\n",
       "      <td>0.173138</td>\n",
       "      <td>0.681368</td>\n",
       "      <td>1.000000</td>\n",
       "      <td>0.381394</td>\n",
       "      <td>0.011774</td>\n",
       "      <td>0.012527</td>\n",
       "      <td>0.003754</td>\n",
       "      <td>0.012096</td>\n",
       "      <td>0.012679</td>\n",
       "      <td>0.010442</td>\n",
       "      <td>...</td>\n",
       "      <td>0.0</td>\n",
       "      <td>0.0</td>\n",
       "      <td>0.0</td>\n",
       "      <td>0.0</td>\n",
       "      <td>0.0</td>\n",
       "      <td>0.0</td>\n",
       "      <td>0.0</td>\n",
       "      <td>0.0</td>\n",
       "      <td>0.0</td>\n",
       "      <td>0.0</td>\n",
       "    </tr>\n",
       "    <tr>\n",
       "      <th>AGRN</th>\n",
       "      <td>0.056096</td>\n",
       "      <td>0.360588</td>\n",
       "      <td>0.381394</td>\n",
       "      <td>1.000000</td>\n",
       "      <td>0.013005</td>\n",
       "      <td>0.015775</td>\n",
       "      <td>0.006184</td>\n",
       "      <td>0.006813</td>\n",
       "      <td>0.010775</td>\n",
       "      <td>0.009189</td>\n",
       "      <td>...</td>\n",
       "      <td>0.0</td>\n",
       "      <td>0.0</td>\n",
       "      <td>0.0</td>\n",
       "      <td>0.0</td>\n",
       "      <td>0.0</td>\n",
       "      <td>0.0</td>\n",
       "      <td>0.0</td>\n",
       "      <td>0.0</td>\n",
       "      <td>0.0</td>\n",
       "      <td>0.0</td>\n",
       "    </tr>\n",
       "    <tr>\n",
       "      <th>TNFRSF18</th>\n",
       "      <td>0.008032</td>\n",
       "      <td>0.011545</td>\n",
       "      <td>0.011774</td>\n",
       "      <td>0.013005</td>\n",
       "      <td>1.000000</td>\n",
       "      <td>0.356676</td>\n",
       "      <td>0.454010</td>\n",
       "      <td>0.137643</td>\n",
       "      <td>0.200340</td>\n",
       "      <td>0.093210</td>\n",
       "      <td>...</td>\n",
       "      <td>0.0</td>\n",
       "      <td>0.0</td>\n",
       "      <td>0.0</td>\n",
       "      <td>0.0</td>\n",
       "      <td>0.0</td>\n",
       "      <td>0.0</td>\n",
       "      <td>0.0</td>\n",
       "      <td>0.0</td>\n",
       "      <td>0.0</td>\n",
       "      <td>0.0</td>\n",
       "    </tr>\n",
       "  </tbody>\n",
       "</table>\n",
       "<p>5 rows × 6442 columns</p>\n",
       "</div>"
      ],
      "text/plain": [
       "             NOC2L      HES4     ISG15      AGRN  TNFRSF18   TNFRSF4  \\\n",
       "NOC2L     1.000000  0.115011  0.173138  0.056096  0.008032  0.008727   \n",
       "HES4      0.115011  1.000000  0.681368  0.360588  0.011545  0.010729   \n",
       "ISG15     0.173138  0.681368  1.000000  0.381394  0.011774  0.012527   \n",
       "AGRN      0.056096  0.360588  0.381394  1.000000  0.013005  0.015775   \n",
       "TNFRSF18  0.008032  0.011545  0.011774  0.013005  1.000000  0.356676   \n",
       "\n",
       "           B3GALT6    UBE2J2     ACAP3    TAS1R3  ...  PLXNB2  ADM2  MIOX  \\\n",
       "NOC2L     0.006797  0.004533  0.007350  0.010391  ...     0.0   0.0   0.0   \n",
       "HES4      0.003577  0.010230  0.010747  0.008769  ...     0.0   0.0   0.0   \n",
       "ISG15     0.003754  0.012096  0.012679  0.010442  ...     0.0   0.0   0.0   \n",
       "AGRN      0.006184  0.006813  0.010775  0.009189  ...     0.0   0.0   0.0   \n",
       "TNFRSF18  0.454010  0.137643  0.200340  0.093210  ...     0.0   0.0   0.0   \n",
       "\n",
       "          SCO2  TYMP  CPT1B  CHKB  MAPK8IP2  ARSA  SHANK3  \n",
       "NOC2L      0.0   0.0    0.0   0.0       0.0   0.0     0.0  \n",
       "HES4       0.0   0.0    0.0   0.0       0.0   0.0     0.0  \n",
       "ISG15      0.0   0.0    0.0   0.0       0.0   0.0     0.0  \n",
       "AGRN       0.0   0.0    0.0   0.0       0.0   0.0     0.0  \n",
       "TNFRSF18   0.0   0.0    0.0   0.0       0.0   0.0     0.0  \n",
       "\n",
       "[5 rows x 6442 columns]"
      ]
     },
     "execution_count": 75,
     "metadata": {},
     "output_type": "execute_result"
    }
   ],
   "source": [
    "gene_corrs.head()"
   ]
  },
  {
   "cell_type": "code",
   "execution_count": 76,
   "id": "04ec6c52",
   "metadata": {
    "execution": {
     "iopub.execute_input": "2022-07-23T02:51:06.770252Z",
     "iopub.status.busy": "2022-07-23T02:51:06.770037Z",
     "iopub.status.idle": "2022-07-23T02:51:07.691456Z",
     "shell.execute_reply": "2022-07-23T02:51:07.690767Z"
    },
    "papermill": {
     "duration": 0.939248,
     "end_time": "2022-07-23T02:51:07.693049",
     "exception": false,
     "start_time": "2022-07-23T02:51:06.753801",
     "status": "completed"
    },
    "tags": []
   },
   "outputs": [],
   "source": [
    "gene_corrs.to_pickle(output_file)"
   ]
  },
  {
   "cell_type": "code",
   "execution_count": null,
   "id": "38cf09b7",
   "metadata": {
    "papermill": {
     "duration": 0.063948,
     "end_time": "2022-07-23T02:51:07.838899",
     "exception": false,
     "start_time": "2022-07-23T02:51:07.774951",
     "status": "completed"
    },
    "tags": []
   },
   "outputs": [],
   "source": []
  }
 ],
 "metadata": {
  "jupytext": {
   "cell_metadata_filter": "all,-execution,-papermill,-trusted",
   "formats": "ipynb,py//py:percent"
  },
  "kernelspec": {
   "display_name": "Python 3 (ipykernel)",
   "language": "python",
   "name": "python3"
  },
  "language_info": {
   "codemirror_mode": {
    "name": "ipython",
    "version": 3
   },
   "file_extension": ".py",
   "mimetype": "text/x-python",
   "name": "python",
   "nbconvert_exporter": "python",
   "pygments_lexer": "ipython3",
   "version": "3.8.13"
  },
  "papermill": {
   "default_parameters": {},
   "duration": 276.671056,
   "end_time": "2022-07-23T02:51:09.235465",
   "environment_variables": {},
   "exception": null,
   "input_path": "nbs/15_gsa_gls/15-postprocess_gene_expr_correlations.ipynb",
   "output_path": "nbs/15_gsa_gls/gene_corrs/cohorts/1000g_eur/1000g/mashr/15-postprocess_gene_expr_correlations.ipynb",
   "parameters": {
    "COHORT_NAME": "1000G_EUR",
    "EQTL_MODEL": "MASHR",
    "REFERENCE_PANEL": "1000G"
   },
   "start_time": "2022-07-23T02:46:32.564409",
   "version": "2.2.2"
  }
 },
 "nbformat": 4,
 "nbformat_minor": 5
}
