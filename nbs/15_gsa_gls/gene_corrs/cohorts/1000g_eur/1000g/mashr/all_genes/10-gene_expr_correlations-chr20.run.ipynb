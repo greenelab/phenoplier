{
 "cells": [
  {
   "cell_type": "markdown",
   "id": "7a6632fb",
   "metadata": {
    "papermill": {
     "duration": 0.006627,
     "end_time": "2022-07-22T23:28:13.442137",
     "exception": false,
     "start_time": "2022-07-22T23:28:13.435510",
     "status": "completed"
    },
    "tags": []
   },
   "source": [
    "# Description"
   ]
  },
  {
   "cell_type": "markdown",
   "id": "7097c346",
   "metadata": {
    "papermill": {
     "duration": 0.005892,
     "end_time": "2022-07-22T23:28:13.453986",
     "exception": false,
     "start_time": "2022-07-22T23:28:13.448094",
     "status": "completed"
    },
    "tags": []
   },
   "source": [
    "(Please, take a look at the README.md file in this directory for instructions on how to run this notebook)\n",
    "\n",
    "This notebook computes predicted expression correlations between all genes in the MultiPLIER models.\n",
    "\n",
    "It also has a parameter set for papermill to run on a single chromosome to run in parallel (see under `Settings` below).\n",
    "\n",
    "This notebook is not directly run. See README.md."
   ]
  },
  {
   "cell_type": "markdown",
   "id": "c61d8427",
   "metadata": {
    "papermill": {
     "duration": 0.005688,
     "end_time": "2022-07-22T23:28:13.465554",
     "exception": false,
     "start_time": "2022-07-22T23:28:13.459866",
     "status": "completed"
    },
    "tags": []
   },
   "source": [
    "# Modules"
   ]
  },
  {
   "cell_type": "code",
   "execution_count": 1,
   "id": "bbc0234f",
   "metadata": {
    "execution": {
     "iopub.execute_input": "2022-07-22T23:28:13.478695Z",
     "iopub.status.busy": "2022-07-22T23:28:13.478440Z",
     "iopub.status.idle": "2022-07-22T23:28:13.495444Z",
     "shell.execute_reply": "2022-07-22T23:28:13.495054Z"
    },
    "papermill": {
     "duration": 0.025437,
     "end_time": "2022-07-22T23:28:13.496820",
     "exception": false,
     "start_time": "2022-07-22T23:28:13.471383",
     "status": "completed"
    },
    "tags": []
   },
   "outputs": [],
   "source": [
    "%load_ext autoreload\n",
    "%autoreload 2"
   ]
  },
  {
   "cell_type": "code",
   "execution_count": 2,
   "id": "1d5f5a59",
   "metadata": {
    "execution": {
     "iopub.execute_input": "2022-07-22T23:28:13.537697Z",
     "iopub.status.busy": "2022-07-22T23:28:13.537372Z",
     "iopub.status.idle": "2022-07-22T23:28:14.427465Z",
     "shell.execute_reply": "2022-07-22T23:28:14.427064Z"
    },
    "papermill": {
     "duration": 0.898937,
     "end_time": "2022-07-22T23:28:14.428769",
     "exception": false,
     "start_time": "2022-07-22T23:28:13.529832",
     "status": "completed"
    },
    "tags": []
   },
   "outputs": [],
   "source": [
    "from random import sample, seed\n",
    "import warnings\n",
    "from pathlib import Path\n",
    "import pickle\n",
    "import traceback\n",
    "\n",
    "import numpy as np\n",
    "from scipy.spatial.distance import squareform\n",
    "import pandas as pd\n",
    "from tqdm import tqdm\n",
    "import matplotlib.pyplot as plt\n",
    "import seaborn as sns\n",
    "\n",
    "import conf\n",
    "from entity import Gene"
   ]
  },
  {
   "cell_type": "markdown",
   "id": "1eac24b5",
   "metadata": {
    "papermill": {
     "duration": 0.005633,
     "end_time": "2022-07-22T23:28:14.440200",
     "exception": false,
     "start_time": "2022-07-22T23:28:14.434567",
     "status": "completed"
    },
    "tags": []
   },
   "source": [
    "# Settings"
   ]
  },
  {
   "cell_type": "code",
   "execution_count": 3,
   "id": "ca4560ba",
   "metadata": {
    "execution": {
     "iopub.execute_input": "2022-07-22T23:28:14.453225Z",
     "iopub.status.busy": "2022-07-22T23:28:14.453022Z",
     "iopub.status.idle": "2022-07-22T23:28:14.467708Z",
     "shell.execute_reply": "2022-07-22T23:28:14.467316Z"
    },
    "papermill": {
     "duration": 0.022865,
     "end_time": "2022-07-22T23:28:14.468944",
     "exception": false,
     "start_time": "2022-07-22T23:28:14.446079",
     "status": "completed"
    },
    "tags": [
     "parameters"
    ]
   },
   "outputs": [],
   "source": [
    "# a cohort name (it could be something like UK_BIOBANK, etc)\n",
    "COHORT_NAME = None\n",
    "\n",
    "# reference panel such as 1000G or GTEX_V8\n",
    "REFERENCE_PANEL = None\n",
    "\n",
    "# predictions models such as MASHR or ELASTIC_NET\n",
    "EQTL_MODEL = None\n",
    "\n",
    "# this is the default value used in S-MultiXcan to select the\n",
    "# top principal components of the expression correlation matrix\n",
    "SMULTIXCAN_CONDITION_NUMBER = 30\n",
    "\n",
    "# specifies a single chromosome value\n",
    "CHROMOSOME = None\n",
    "\n",
    "# If True, computes the correlation between closeby genes only;\n",
    "# otherwise, it computes correlations for all genes in a chromosome\n",
    "COMPUTE_CORRELATIONS_WITHIN_DISTANCE = False\n",
    "\n",
    "# if True, then it will continue if a gene pair correlation fails,\n",
    "# printing the warning/error for debugging. If False, any warning/error\n",
    "# will be thrown\n",
    "DEBUG_MODE = False"
   ]
  },
  {
   "cell_type": "code",
   "execution_count": 4,
   "id": "8eb97ba7",
   "metadata": {
    "execution": {
     "iopub.execute_input": "2022-07-22T23:28:14.481492Z",
     "iopub.status.busy": "2022-07-22T23:28:14.481293Z",
     "iopub.status.idle": "2022-07-22T23:28:14.496135Z",
     "shell.execute_reply": "2022-07-22T23:28:14.495743Z"
    },
    "papermill": {
     "duration": 0.022537,
     "end_time": "2022-07-22T23:28:14.497387",
     "exception": false,
     "start_time": "2022-07-22T23:28:14.474850",
     "status": "completed"
    },
    "tags": [
     "injected-parameters"
    ]
   },
   "outputs": [],
   "source": [
    "# Parameters\n",
    "COHORT_NAME = \"1000G_EUR\"\n",
    "REFERENCE_PANEL = \"1000G\"\n",
    "EQTL_MODEL = \"MASHR\"\n",
    "CHROMOSOME = 20\n"
   ]
  },
  {
   "cell_type": "code",
   "execution_count": 5,
   "id": "3190631f-27fc-480f-b18e-571d580425a5",
   "metadata": {
    "execution": {
     "iopub.execute_input": "2022-07-22T23:28:14.509816Z",
     "iopub.status.busy": "2022-07-22T23:28:14.509625Z",
     "iopub.status.idle": "2022-07-22T23:28:14.528021Z",
     "shell.execute_reply": "2022-07-22T23:28:14.527493Z"
    },
    "papermill": {
     "duration": 0.025892,
     "end_time": "2022-07-22T23:28:14.529268",
     "exception": false,
     "start_time": "2022-07-22T23:28:14.503376",
     "status": "completed"
    },
    "tags": []
   },
   "outputs": [
    {
     "data": {
      "text/plain": [
       "'Cohort name: 1000g_eur'"
      ]
     },
     "metadata": {},
     "output_type": "display_data"
    }
   ],
   "source": [
    "assert COHORT_NAME is not None and len(COHORT_NAME) > 0, \"A cohort name must be given\"\n",
    "\n",
    "COHORT_NAME = COHORT_NAME.lower()\n",
    "display(f\"Cohort name: {COHORT_NAME}\")"
   ]
  },
  {
   "cell_type": "code",
   "execution_count": 6,
   "id": "f53ba19b-0f93-4fa2-a047-63b375939d1a",
   "metadata": {
    "execution": {
     "iopub.execute_input": "2022-07-22T23:28:14.541823Z",
     "iopub.status.busy": "2022-07-22T23:28:14.541633Z",
     "iopub.status.idle": "2022-07-22T23:28:14.556328Z",
     "shell.execute_reply": "2022-07-22T23:28:14.555905Z"
    },
    "papermill": {
     "duration": 0.02227,
     "end_time": "2022-07-22T23:28:14.557538",
     "exception": false,
     "start_time": "2022-07-22T23:28:14.535268",
     "status": "completed"
    },
    "tags": []
   },
   "outputs": [
    {
     "data": {
      "text/plain": [
       "'Reference panel: 1000G'"
      ]
     },
     "metadata": {},
     "output_type": "display_data"
    }
   ],
   "source": [
    "assert (\n",
    "    REFERENCE_PANEL is not None and len(REFERENCE_PANEL) > 0\n",
    "), \"A reference panel must be given\"\n",
    "\n",
    "display(f\"Reference panel: {REFERENCE_PANEL}\")"
   ]
  },
  {
   "cell_type": "code",
   "execution_count": 7,
   "id": "e024d130-c139-429a-9c6e-ccf149e297b0",
   "metadata": {
    "execution": {
     "iopub.execute_input": "2022-07-22T23:28:14.570652Z",
     "iopub.status.busy": "2022-07-22T23:28:14.570419Z",
     "iopub.status.idle": "2022-07-22T23:28:14.585639Z",
     "shell.execute_reply": "2022-07-22T23:28:14.585226Z"
    },
    "papermill": {
     "duration": 0.023203,
     "end_time": "2022-07-22T23:28:14.586776",
     "exception": false,
     "start_time": "2022-07-22T23:28:14.563573",
     "status": "completed"
    },
    "tags": []
   },
   "outputs": [
    {
     "data": {
      "text/plain": [
       "'eQTL model: MASHR) / mashr_'"
      ]
     },
     "metadata": {},
     "output_type": "display_data"
    }
   ],
   "source": [
    "assert (\n",
    "    EQTL_MODEL is not None and len(EQTL_MODEL) > 0\n",
    "), \"A prediction/eQTL model must be given\"\n",
    "\n",
    "EQTL_MODEL_FILES_PREFIX = conf.PHENOMEXCAN[\"PREDICTION_MODELS\"][f\"{EQTL_MODEL}_PREFIX\"]\n",
    "display(f\"eQTL model: {EQTL_MODEL}) / {EQTL_MODEL_FILES_PREFIX}\")"
   ]
  },
  {
   "cell_type": "code",
   "execution_count": 8,
   "id": "552a7f63-a18c-4d3e-bb6a-94f99b431291",
   "metadata": {
    "execution": {
     "iopub.execute_input": "2022-07-22T23:28:14.599786Z",
     "iopub.status.busy": "2022-07-22T23:28:14.599529Z",
     "iopub.status.idle": "2022-07-22T23:28:14.615508Z",
     "shell.execute_reply": "2022-07-22T23:28:14.615054Z"
    },
    "papermill": {
     "duration": 0.023682,
     "end_time": "2022-07-22T23:28:14.616655",
     "exception": false,
     "start_time": "2022-07-22T23:28:14.592973",
     "status": "completed"
    },
    "tags": []
   },
   "outputs": [
    {
     "data": {
      "text/plain": [
       "'S-MultiXcan condition number: 30'"
      ]
     },
     "metadata": {},
     "output_type": "display_data"
    }
   ],
   "source": [
    "assert (\n",
    "    SMULTIXCAN_CONDITION_NUMBER is not None and SMULTIXCAN_CONDITION_NUMBER > 0\n",
    "), \"The S-MultiXcan condition number (positive integer) must be given\"\n",
    "\n",
    "display(f\"S-MultiXcan condition number: {SMULTIXCAN_CONDITION_NUMBER}\")"
   ]
  },
  {
   "cell_type": "code",
   "execution_count": 9,
   "id": "f34a336f-548e-4afe-8955-90eaea4f42c6",
   "metadata": {
    "execution": {
     "iopub.execute_input": "2022-07-22T23:28:14.629931Z",
     "iopub.status.busy": "2022-07-22T23:28:14.629370Z",
     "iopub.status.idle": "2022-07-22T23:28:14.645261Z",
     "shell.execute_reply": "2022-07-22T23:28:14.644687Z"
    },
    "papermill": {
     "duration": 0.023767,
     "end_time": "2022-07-22T23:28:14.646529",
     "exception": false,
     "start_time": "2022-07-22T23:28:14.622762",
     "status": "completed"
    },
    "tags": []
   },
   "outputs": [
    {
     "data": {
      "text/plain": [
       "'Working on chromosome 20'"
      ]
     },
     "metadata": {},
     "output_type": "display_data"
    }
   ],
   "source": [
    "assert CHROMOSOME is not None and (\n",
    "    1 <= CHROMOSOME <= 22\n",
    "), \"You have to select one chromosome (format: number between 1 and 22)\"\n",
    "\n",
    "CHROMOSOME = str(CHROMOSOME)\n",
    "display(f\"Working on chromosome {CHROMOSOME}\")"
   ]
  },
  {
   "cell_type": "code",
   "execution_count": 10,
   "id": "ab8e96e8-06b5-4363-9dcd-dc4d78cc27f7",
   "metadata": {
    "execution": {
     "iopub.execute_input": "2022-07-22T23:28:14.660335Z",
     "iopub.status.busy": "2022-07-22T23:28:14.659908Z",
     "iopub.status.idle": "2022-07-22T23:28:14.675612Z",
     "shell.execute_reply": "2022-07-22T23:28:14.675173Z"
    },
    "papermill": {
     "duration": 0.023696,
     "end_time": "2022-07-22T23:28:14.676777",
     "exception": false,
     "start_time": "2022-07-22T23:28:14.653081",
     "status": "completed"
    },
    "tags": []
   },
   "outputs": [
    {
     "data": {
      "text/plain": [
       "'Compute correlation within distance False'"
      ]
     },
     "metadata": {},
     "output_type": "display_data"
    }
   ],
   "source": [
    "display(f\"Compute correlation within distance {COMPUTE_CORRELATIONS_WITHIN_DISTANCE}\")"
   ]
  },
  {
   "cell_type": "code",
   "execution_count": 11,
   "id": "396392dc-0340-4540-9b02-e182b833f909",
   "metadata": {
    "execution": {
     "iopub.execute_input": "2022-07-22T23:28:14.690470Z",
     "iopub.status.busy": "2022-07-22T23:28:14.690309Z",
     "iopub.status.idle": "2022-07-22T23:28:14.705113Z",
     "shell.execute_reply": "2022-07-22T23:28:14.704706Z"
    },
    "papermill": {
     "duration": 0.023282,
     "end_time": "2022-07-22T23:28:14.706330",
     "exception": false,
     "start_time": "2022-07-22T23:28:14.683048",
     "status": "completed"
    },
    "tags": []
   },
   "outputs": [
    {
     "data": {
      "text/plain": [
       "'Using output dir base: /opt/data/results/gls/gene_corrs/cohorts/1000g_eur/1000g/mashr'"
      ]
     },
     "metadata": {},
     "output_type": "display_data"
    }
   ],
   "source": [
    "OUTPUT_DIR_BASE = (\n",
    "    conf.RESULTS[\"GLS\"]\n",
    "    / \"gene_corrs\"\n",
    "    / \"cohorts\"\n",
    "    / COHORT_NAME\n",
    "    / REFERENCE_PANEL.lower()\n",
    "    / EQTL_MODEL.lower()\n",
    ")\n",
    "OUTPUT_DIR_BASE.mkdir(parents=True, exist_ok=True)\n",
    "\n",
    "display(f\"Using output dir base: {OUTPUT_DIR_BASE}\")"
   ]
  },
  {
   "cell_type": "code",
   "execution_count": 12,
   "id": "974b4bb1-aa98-4e30-b221-7cd034ad3833",
   "metadata": {
    "execution": {
     "iopub.execute_input": "2022-07-22T23:28:14.719989Z",
     "iopub.status.busy": "2022-07-22T23:28:14.719673Z",
     "iopub.status.idle": "2022-07-22T23:28:14.734641Z",
     "shell.execute_reply": "2022-07-22T23:28:14.734189Z"
    },
    "papermill": {
     "duration": 0.023175,
     "end_time": "2022-07-22T23:28:14.735802",
     "exception": false,
     "start_time": "2022-07-22T23:28:14.712627",
     "status": "completed"
    },
    "tags": []
   },
   "outputs": [
    {
     "data": {
      "text/plain": [
       "PosixPath('/opt/data/results/gls/gene_corrs/cohorts/1000g_eur')"
      ]
     },
     "metadata": {},
     "output_type": "display_data"
    }
   ],
   "source": [
    "INPUT_DIR = conf.RESULTS[\"GLS\"] / \"gene_corrs\" / \"cohorts\" / COHORT_NAME\n",
    "assert INPUT_DIR.exists()\n",
    "\n",
    "display(INPUT_DIR)"
   ]
  },
  {
   "cell_type": "markdown",
   "id": "d2ba085e",
   "metadata": {
    "papermill": {
     "duration": 0.006728,
     "end_time": "2022-07-22T23:28:14.749438",
     "exception": false,
     "start_time": "2022-07-22T23:28:14.742710",
     "status": "completed"
    },
    "tags": []
   },
   "source": [
    "# Load data"
   ]
  },
  {
   "cell_type": "markdown",
   "id": "7dcb8db7",
   "metadata": {
    "papermill": {
     "duration": 0.006375,
     "end_time": "2022-07-22T23:28:14.762342",
     "exception": false,
     "start_time": "2022-07-22T23:28:14.755967",
     "status": "completed"
    },
    "tags": []
   },
   "source": [
    "## GWAS variants"
   ]
  },
  {
   "cell_type": "code",
   "execution_count": 13,
   "id": "29434c4e-8cd3-4b9b-82e4-b5a251d9dd19",
   "metadata": {
    "execution": {
     "iopub.execute_input": "2022-07-22T23:28:14.776184Z",
     "iopub.status.busy": "2022-07-22T23:28:14.775862Z",
     "iopub.status.idle": "2022-07-22T23:28:17.328086Z",
     "shell.execute_reply": "2022-07-22T23:28:17.327483Z"
    },
    "papermill": {
     "duration": 2.560821,
     "end_time": "2022-07-22T23:28:17.329643",
     "exception": false,
     "start_time": "2022-07-22T23:28:14.768822",
     "status": "completed"
    },
    "tags": []
   },
   "outputs": [],
   "source": [
    "with open(INPUT_DIR / \"gwas_variant_ids.pkl\", \"rb\") as handle:\n",
    "    gwas_variants_ids_set = pickle.load(handle)"
   ]
  },
  {
   "cell_type": "code",
   "execution_count": 14,
   "id": "b9d9dec2-4a76-4bf9-bde2-e24c95acb8a0",
   "metadata": {
    "execution": {
     "iopub.execute_input": "2022-07-22T23:28:17.346209Z",
     "iopub.status.busy": "2022-07-22T23:28:17.345871Z",
     "iopub.status.idle": "2022-07-22T23:28:17.363417Z",
     "shell.execute_reply": "2022-07-22T23:28:17.362999Z"
    },
    "papermill": {
     "duration": 0.027229,
     "end_time": "2022-07-22T23:28:17.364749",
     "exception": false,
     "start_time": "2022-07-22T23:28:17.337520",
     "status": "completed"
    },
    "tags": []
   },
   "outputs": [
    {
     "data": {
      "text/plain": [
       "8339505"
      ]
     },
     "execution_count": 14,
     "metadata": {},
     "output_type": "execute_result"
    }
   ],
   "source": [
    "len(gwas_variants_ids_set)"
   ]
  },
  {
   "cell_type": "code",
   "execution_count": 15,
   "id": "4235b06a-6034-4ee4-a0a3-2ae35d122418",
   "metadata": {
    "execution": {
     "iopub.execute_input": "2022-07-22T23:28:17.379371Z",
     "iopub.status.busy": "2022-07-22T23:28:17.379177Z",
     "iopub.status.idle": "2022-07-22T23:28:17.862929Z",
     "shell.execute_reply": "2022-07-22T23:28:17.862435Z"
    },
    "papermill": {
     "duration": 0.492559,
     "end_time": "2022-07-22T23:28:17.864413",
     "exception": false,
     "start_time": "2022-07-22T23:28:17.371854",
     "status": "completed"
    },
    "tags": []
   },
   "outputs": [
    {
     "data": {
      "text/plain": [
       "['chr9_20840034_C_T_b38',\n",
       " 'chr6_25349185_G_A_b38',\n",
       " 'chr3_196120378_A_G_b38',\n",
       " 'chr19_54022110_C_T_b38',\n",
       " 'chr11_39996466_T_C_b38']"
      ]
     },
     "execution_count": 15,
     "metadata": {},
     "output_type": "execute_result"
    }
   ],
   "source": [
    "list(gwas_variants_ids_set)[:5]"
   ]
  },
  {
   "cell_type": "markdown",
   "id": "07866999-2305-41f9-a144-e69c9122c212",
   "metadata": {
    "papermill": {
     "duration": 0.007924,
     "end_time": "2022-07-22T23:28:17.880370",
     "exception": false,
     "start_time": "2022-07-22T23:28:17.872446",
     "status": "completed"
    },
    "tags": []
   },
   "source": [
    "## S-PrediXcan tissue models"
   ]
  },
  {
   "cell_type": "code",
   "execution_count": 16,
   "id": "780611d9-77c8-405f-90a4-f271f7b09397",
   "metadata": {
    "execution": {
     "iopub.execute_input": "2022-07-22T23:28:17.897547Z",
     "iopub.status.busy": "2022-07-22T23:28:17.897363Z",
     "iopub.status.idle": "2022-07-22T23:28:18.639354Z",
     "shell.execute_reply": "2022-07-22T23:28:18.638938Z"
    },
    "papermill": {
     "duration": 0.752182,
     "end_time": "2022-07-22T23:28:18.640727",
     "exception": false,
     "start_time": "2022-07-22T23:28:17.888545",
     "status": "completed"
    },
    "tags": []
   },
   "outputs": [],
   "source": [
    "spredixcan_genes_models = pd.read_pickle(INPUT_DIR / \"gene_tissues.pkl\").set_index(\n",
    "    \"gene_id\"\n",
    ")"
   ]
  },
  {
   "cell_type": "code",
   "execution_count": 17,
   "id": "726dd1f6-9557-4225-91fa-b3b879ea96e1",
   "metadata": {
    "execution": {
     "iopub.execute_input": "2022-07-22T23:28:18.656194Z",
     "iopub.status.busy": "2022-07-22T23:28:18.655997Z",
     "iopub.status.idle": "2022-07-22T23:28:18.670740Z",
     "shell.execute_reply": "2022-07-22T23:28:18.670315Z"
    },
    "papermill": {
     "duration": 0.024216,
     "end_time": "2022-07-22T23:28:18.671948",
     "exception": false,
     "start_time": "2022-07-22T23:28:18.647732",
     "status": "completed"
    },
    "tags": []
   },
   "outputs": [
    {
     "data": {
      "text/plain": [
       "(22314, 2)"
      ]
     },
     "execution_count": 17,
     "metadata": {},
     "output_type": "execute_result"
    }
   ],
   "source": [
    "spredixcan_genes_models.shape"
   ]
  },
  {
   "cell_type": "code",
   "execution_count": 18,
   "id": "944a1b48-222c-4eb0-b252-b9de2cbca215",
   "metadata": {
    "execution": {
     "iopub.execute_input": "2022-07-22T23:28:18.686325Z",
     "iopub.status.busy": "2022-07-22T23:28:18.686116Z",
     "iopub.status.idle": "2022-07-22T23:28:18.706042Z",
     "shell.execute_reply": "2022-07-22T23:28:18.705622Z"
    },
    "papermill": {
     "duration": 0.02852,
     "end_time": "2022-07-22T23:28:18.707314",
     "exception": false,
     "start_time": "2022-07-22T23:28:18.678794",
     "status": "completed"
    },
    "tags": []
   },
   "outputs": [
    {
     "data": {
      "text/html": [
       "<div>\n",
       "<style scoped>\n",
       "    .dataframe tbody tr th:only-of-type {\n",
       "        vertical-align: middle;\n",
       "    }\n",
       "\n",
       "    .dataframe tbody tr th {\n",
       "        vertical-align: top;\n",
       "    }\n",
       "\n",
       "    .dataframe thead th {\n",
       "        text-align: right;\n",
       "    }\n",
       "</style>\n",
       "<table border=\"1\" class=\"dataframe\">\n",
       "  <thead>\n",
       "    <tr style=\"text-align: right;\">\n",
       "      <th></th>\n",
       "      <th>gene_name</th>\n",
       "      <th>tissue</th>\n",
       "    </tr>\n",
       "    <tr>\n",
       "      <th>gene_id</th>\n",
       "      <th></th>\n",
       "      <th></th>\n",
       "    </tr>\n",
       "  </thead>\n",
       "  <tbody>\n",
       "    <tr>\n",
       "      <th>ENSG00000000419</th>\n",
       "      <td>DPM1</td>\n",
       "      <td>(Brain_Substantia_nigra, Brain_Hypothalamus)</td>\n",
       "    </tr>\n",
       "    <tr>\n",
       "      <th>ENSG00000000457</th>\n",
       "      <td>SCYL3</td>\n",
       "      <td>(Adipose_Subcutaneous, Stomach, Muscle_Skeleta...</td>\n",
       "    </tr>\n",
       "    <tr>\n",
       "      <th>ENSG00000000460</th>\n",
       "      <td>C1orf112</td>\n",
       "      <td>(Adipose_Subcutaneous, Muscle_Skeletal, Pituit...</td>\n",
       "    </tr>\n",
       "    <tr>\n",
       "      <th>ENSG00000000938</th>\n",
       "      <td>FGR</td>\n",
       "      <td>(Adipose_Subcutaneous, Stomach, Muscle_Skeleta...</td>\n",
       "    </tr>\n",
       "    <tr>\n",
       "      <th>ENSG00000000971</th>\n",
       "      <td>CFH</td>\n",
       "      <td>(Stomach, Pituitary, Thyroid, Small_Intestine_...</td>\n",
       "    </tr>\n",
       "  </tbody>\n",
       "</table>\n",
       "</div>"
      ],
      "text/plain": [
       "                gene_name                                             tissue\n",
       "gene_id                                                                     \n",
       "ENSG00000000419      DPM1       (Brain_Substantia_nigra, Brain_Hypothalamus)\n",
       "ENSG00000000457     SCYL3  (Adipose_Subcutaneous, Stomach, Muscle_Skeleta...\n",
       "ENSG00000000460  C1orf112  (Adipose_Subcutaneous, Muscle_Skeletal, Pituit...\n",
       "ENSG00000000938       FGR  (Adipose_Subcutaneous, Stomach, Muscle_Skeleta...\n",
       "ENSG00000000971       CFH  (Stomach, Pituitary, Thyroid, Small_Intestine_..."
      ]
     },
     "execution_count": 18,
     "metadata": {},
     "output_type": "execute_result"
    }
   ],
   "source": [
    "spredixcan_genes_models.head()"
   ]
  },
  {
   "cell_type": "code",
   "execution_count": 19,
   "id": "d1c11bb1-be0b-4f40-b360-633d6827109f",
   "metadata": {
    "execution": {
     "iopub.execute_input": "2022-07-22T23:28:18.722278Z",
     "iopub.status.busy": "2022-07-22T23:28:18.722031Z",
     "iopub.status.idle": "2022-07-22T23:28:18.738113Z",
     "shell.execute_reply": "2022-07-22T23:28:18.737685Z"
    },
    "papermill": {
     "duration": 0.025017,
     "end_time": "2022-07-22T23:28:18.739386",
     "exception": false,
     "start_time": "2022-07-22T23:28:18.714369",
     "status": "completed"
    },
    "tags": []
   },
   "outputs": [],
   "source": [
    "assert spredixcan_genes_models.index.is_unique"
   ]
  },
  {
   "cell_type": "markdown",
   "id": "6caf9d10-eda8-4ad2-8811-a983aa77a25a",
   "metadata": {
    "papermill": {
     "duration": 0.007296,
     "end_time": "2022-07-22T23:28:18.753820",
     "exception": false,
     "start_time": "2022-07-22T23:28:18.746524",
     "status": "completed"
    },
    "tags": []
   },
   "source": [
    "## Get common genes"
   ]
  },
  {
   "cell_type": "code",
   "execution_count": 20,
   "id": "f8d1e317-1cc8-4bdf-bbe9-c3b0a5478359",
   "metadata": {
    "execution": {
     "iopub.execute_input": "2022-07-22T23:28:18.768843Z",
     "iopub.status.busy": "2022-07-22T23:28:18.768631Z",
     "iopub.status.idle": "2022-07-22T23:28:18.784468Z",
     "shell.execute_reply": "2022-07-22T23:28:18.783948Z"
    },
    "papermill": {
     "duration": 0.024933,
     "end_time": "2022-07-22T23:28:18.785746",
     "exception": false,
     "start_time": "2022-07-22T23:28:18.760813",
     "status": "completed"
    },
    "tags": []
   },
   "outputs": [],
   "source": [
    "with open(INPUT_DIR / \"common_genes.pkl\", \"rb\") as handle:\n",
    "    common_genes = pickle.load(handle)"
   ]
  },
  {
   "cell_type": "code",
   "execution_count": 21,
   "id": "ce9506aa-2f38-4e46-b9c2-84d750fac0da",
   "metadata": {
    "execution": {
     "iopub.execute_input": "2022-07-22T23:28:18.800818Z",
     "iopub.status.busy": "2022-07-22T23:28:18.800579Z",
     "iopub.status.idle": "2022-07-22T23:28:18.825687Z",
     "shell.execute_reply": "2022-07-22T23:28:18.825219Z"
    },
    "papermill": {
     "duration": 0.036642,
     "end_time": "2022-07-22T23:28:18.829685",
     "exception": false,
     "start_time": "2022-07-22T23:28:18.793043",
     "status": "completed"
    },
    "tags": []
   },
   "outputs": [
    {
     "data": {
      "text/plain": [
       "6444"
      ]
     },
     "execution_count": 21,
     "metadata": {},
     "output_type": "execute_result"
    }
   ],
   "source": [
    "len(common_genes)"
   ]
  },
  {
   "cell_type": "code",
   "execution_count": 22,
   "id": "f525a698-506a-48e0-9aee-1aca62def5dd",
   "metadata": {
    "execution": {
     "iopub.execute_input": "2022-07-22T23:28:18.847181Z",
     "iopub.status.busy": "2022-07-22T23:28:18.846996Z",
     "iopub.status.idle": "2022-07-22T23:28:18.864967Z",
     "shell.execute_reply": "2022-07-22T23:28:18.864387Z"
    },
    "papermill": {
     "duration": 0.02794,
     "end_time": "2022-07-22T23:28:18.866311",
     "exception": false,
     "start_time": "2022-07-22T23:28:18.838371",
     "status": "completed"
    },
    "tags": []
   },
   "outputs": [
    {
     "data": {
      "text/plain": [
       "['A2M', 'AAAS', 'AANAT', 'AARS', 'AARS2']"
      ]
     },
     "execution_count": 22,
     "metadata": {},
     "output_type": "execute_result"
    }
   ],
   "source": [
    "sorted(list(common_genes))[:5]"
   ]
  },
  {
   "cell_type": "markdown",
   "id": "a5b5092c-a13e-47c4-a92a-480fcc08f3ae",
   "metadata": {
    "papermill": {
     "duration": 0.007359,
     "end_time": "2022-07-22T23:28:18.882616",
     "exception": false,
     "start_time": "2022-07-22T23:28:18.875257",
     "status": "completed"
    },
    "tags": []
   },
   "source": [
    "## Gene info"
   ]
  },
  {
   "cell_type": "code",
   "execution_count": 23,
   "id": "7d6bb224-88e9-4358-ac10-43a41d92cdad",
   "metadata": {
    "execution": {
     "iopub.execute_input": "2022-07-22T23:28:18.897776Z",
     "iopub.status.busy": "2022-07-22T23:28:18.897581Z",
     "iopub.status.idle": "2022-07-22T23:28:18.914375Z",
     "shell.execute_reply": "2022-07-22T23:28:18.913942Z"
    },
    "papermill": {
     "duration": 0.025972,
     "end_time": "2022-07-22T23:28:18.915677",
     "exception": false,
     "start_time": "2022-07-22T23:28:18.889705",
     "status": "completed"
    },
    "tags": []
   },
   "outputs": [],
   "source": [
    "genes_info = pd.read_pickle(INPUT_DIR / \"genes_info.pkl\")"
   ]
  },
  {
   "cell_type": "code",
   "execution_count": 24,
   "id": "9e32abfa-546d-483e-8c18-d526e9e05903",
   "metadata": {
    "execution": {
     "iopub.execute_input": "2022-07-22T23:28:18.930950Z",
     "iopub.status.busy": "2022-07-22T23:28:18.930385Z",
     "iopub.status.idle": "2022-07-22T23:28:18.946103Z",
     "shell.execute_reply": "2022-07-22T23:28:18.945534Z"
    },
    "papermill": {
     "duration": 0.024604,
     "end_time": "2022-07-22T23:28:18.947441",
     "exception": false,
     "start_time": "2022-07-22T23:28:18.922837",
     "status": "completed"
    },
    "tags": []
   },
   "outputs": [
    {
     "data": {
      "text/plain": [
       "(6444, 7)"
      ]
     },
     "execution_count": 24,
     "metadata": {},
     "output_type": "execute_result"
    }
   ],
   "source": [
    "genes_info.shape"
   ]
  },
  {
   "cell_type": "code",
   "execution_count": 25,
   "id": "d16c3e92-85ec-468a-9a56-e25a9774a1cb",
   "metadata": {
    "execution": {
     "iopub.execute_input": "2022-07-22T23:28:18.963190Z",
     "iopub.status.busy": "2022-07-22T23:28:18.962811Z",
     "iopub.status.idle": "2022-07-22T23:28:18.982787Z",
     "shell.execute_reply": "2022-07-22T23:28:18.982371Z"
    },
    "papermill": {
     "duration": 0.030142,
     "end_time": "2022-07-22T23:28:18.984932",
     "exception": false,
     "start_time": "2022-07-22T23:28:18.954790",
     "status": "completed"
    },
    "tags": []
   },
   "outputs": [
    {
     "data": {
      "text/html": [
       "<div>\n",
       "<style scoped>\n",
       "    .dataframe tbody tr th:only-of-type {\n",
       "        vertical-align: middle;\n",
       "    }\n",
       "\n",
       "    .dataframe tbody tr th {\n",
       "        vertical-align: top;\n",
       "    }\n",
       "\n",
       "    .dataframe thead th {\n",
       "        text-align: right;\n",
       "    }\n",
       "</style>\n",
       "<table border=\"1\" class=\"dataframe\">\n",
       "  <thead>\n",
       "    <tr style=\"text-align: right;\">\n",
       "      <th></th>\n",
       "      <th>name</th>\n",
       "      <th>id</th>\n",
       "      <th>chr</th>\n",
       "      <th>band</th>\n",
       "      <th>start_position</th>\n",
       "      <th>end_position</th>\n",
       "      <th>gene_length</th>\n",
       "    </tr>\n",
       "  </thead>\n",
       "  <tbody>\n",
       "    <tr>\n",
       "      <th>0</th>\n",
       "      <td>MFN2</td>\n",
       "      <td>ENSG00000116688</td>\n",
       "      <td>1</td>\n",
       "      <td>1p36.22</td>\n",
       "      <td>11980181.0</td>\n",
       "      <td>12013514.0</td>\n",
       "      <td>33333.0</td>\n",
       "    </tr>\n",
       "    <tr>\n",
       "      <th>1</th>\n",
       "      <td>PPA2</td>\n",
       "      <td>ENSG00000138777</td>\n",
       "      <td>4</td>\n",
       "      <td>4q24</td>\n",
       "      <td>105369077.0</td>\n",
       "      <td>105474067.0</td>\n",
       "      <td>104990.0</td>\n",
       "    </tr>\n",
       "    <tr>\n",
       "      <th>2</th>\n",
       "      <td>ADRA2A</td>\n",
       "      <td>ENSG00000150594</td>\n",
       "      <td>10</td>\n",
       "      <td>10q25.2</td>\n",
       "      <td>111077163.0</td>\n",
       "      <td>111080907.0</td>\n",
       "      <td>3744.0</td>\n",
       "    </tr>\n",
       "    <tr>\n",
       "      <th>3</th>\n",
       "      <td>RYR2</td>\n",
       "      <td>ENSG00000198626</td>\n",
       "      <td>1</td>\n",
       "      <td>1q43</td>\n",
       "      <td>237042184.0</td>\n",
       "      <td>237833988.0</td>\n",
       "      <td>791804.0</td>\n",
       "    </tr>\n",
       "    <tr>\n",
       "      <th>4</th>\n",
       "      <td>VAV2</td>\n",
       "      <td>ENSG00000160293</td>\n",
       "      <td>9</td>\n",
       "      <td>9q34.2</td>\n",
       "      <td>133761894.0</td>\n",
       "      <td>133992604.0</td>\n",
       "      <td>230710.0</td>\n",
       "    </tr>\n",
       "  </tbody>\n",
       "</table>\n",
       "</div>"
      ],
      "text/plain": [
       "     name               id chr     band  start_position  end_position  \\\n",
       "0    MFN2  ENSG00000116688   1  1p36.22      11980181.0    12013514.0   \n",
       "1    PPA2  ENSG00000138777   4     4q24     105369077.0   105474067.0   \n",
       "2  ADRA2A  ENSG00000150594  10  10q25.2     111077163.0   111080907.0   \n",
       "3    RYR2  ENSG00000198626   1     1q43     237042184.0   237833988.0   \n",
       "4    VAV2  ENSG00000160293   9   9q34.2     133761894.0   133992604.0   \n",
       "\n",
       "   gene_length  \n",
       "0      33333.0  \n",
       "1     104990.0  \n",
       "2       3744.0  \n",
       "3     791804.0  \n",
       "4     230710.0  "
      ]
     },
     "execution_count": 25,
     "metadata": {},
     "output_type": "execute_result"
    }
   ],
   "source": [
    "genes_info.head()"
   ]
  },
  {
   "cell_type": "markdown",
   "id": "d3843e06",
   "metadata": {
    "papermill": {
     "duration": 0.007368,
     "end_time": "2022-07-22T23:28:18.999979",
     "exception": false,
     "start_time": "2022-07-22T23:28:18.992611",
     "status": "completed"
    },
    "tags": []
   },
   "source": [
    "# Compute correlations"
   ]
  },
  {
   "cell_type": "code",
   "execution_count": 26,
   "id": "cb859c15-d1f3-4006-a74c-2b83c0db9611",
   "metadata": {
    "execution": {
     "iopub.execute_input": "2022-07-22T23:28:19.015828Z",
     "iopub.status.busy": "2022-07-22T23:28:19.015618Z",
     "iopub.status.idle": "2022-07-22T23:28:19.030590Z",
     "shell.execute_reply": "2022-07-22T23:28:19.030157Z"
    },
    "papermill": {
     "duration": 0.024396,
     "end_time": "2022-07-22T23:28:19.031814",
     "exception": false,
     "start_time": "2022-07-22T23:28:19.007418",
     "status": "completed"
    },
    "tags": []
   },
   "outputs": [
    {
     "data": {
      "text/plain": [
       "PosixPath('/opt/data/results/gls/gene_corrs/cohorts/1000g_eur/1000g/mashr/by_chr/gene_corrs-chr20.pkl')"
      ]
     },
     "metadata": {},
     "output_type": "display_data"
    }
   ],
   "source": [
    "output_dir = OUTPUT_DIR_BASE / \"by_chr\"\n",
    "output_dir.mkdir(exist_ok=True, parents=True)\n",
    "output_file = output_dir / f\"gene_corrs-chr{CHROMOSOME}.pkl\"\n",
    "display(output_file)"
   ]
  },
  {
   "cell_type": "code",
   "execution_count": 27,
   "id": "aa674fe4-6794-4eed-98fa-32b39d1d4ace",
   "metadata": {
    "execution": {
     "iopub.execute_input": "2022-07-22T23:28:19.047988Z",
     "iopub.status.busy": "2022-07-22T23:28:19.047645Z",
     "iopub.status.idle": "2022-07-22T23:28:19.061904Z",
     "shell.execute_reply": "2022-07-22T23:28:19.061529Z"
    },
    "papermill": {
     "duration": 0.02381,
     "end_time": "2022-07-22T23:28:19.063183",
     "exception": false,
     "start_time": "2022-07-22T23:28:19.039373",
     "status": "completed"
    },
    "tags": []
   },
   "outputs": [],
   "source": [
    "warnings.filterwarnings(\"error\")"
   ]
  },
  {
   "cell_type": "code",
   "execution_count": 28,
   "id": "44d5450b-3baf-43f1-9e2e-4b06f1a785f8",
   "metadata": {
    "execution": {
     "iopub.execute_input": "2022-07-22T23:28:19.079133Z",
     "iopub.status.busy": "2022-07-22T23:28:19.078849Z",
     "iopub.status.idle": "2022-07-22T23:28:19.094956Z",
     "shell.execute_reply": "2022-07-22T23:28:19.094482Z"
    },
    "papermill": {
     "duration": 0.025463,
     "end_time": "2022-07-22T23:28:19.096238",
     "exception": false,
     "start_time": "2022-07-22T23:28:19.070775",
     "status": "completed"
    },
    "tags": []
   },
   "outputs": [],
   "source": [
    "# standard checks\n",
    "all_chrs = genes_info[\"chr\"].dropna().unique()\n",
    "assert all_chrs.shape[0] == 22\n",
    "\n",
    "# select chromosome given by the user\n",
    "assert CHROMOSOME in all_chrs"
   ]
  },
  {
   "cell_type": "code",
   "execution_count": 29,
   "id": "2d7c043c-92a7-4d35-991b-fa69ac1e0268",
   "metadata": {
    "execution": {
     "iopub.execute_input": "2022-07-22T23:28:19.112771Z",
     "iopub.status.busy": "2022-07-22T23:28:19.112422Z",
     "iopub.status.idle": "2022-07-22T23:28:19.129381Z",
     "shell.execute_reply": "2022-07-22T23:28:19.128637Z"
    },
    "papermill": {
     "duration": 0.026691,
     "end_time": "2022-07-22T23:28:19.130720",
     "exception": false,
     "start_time": "2022-07-22T23:28:19.104029",
     "status": "completed"
    },
    "tags": []
   },
   "outputs": [
    {
     "name": "stdout",
     "output_type": "stream",
     "text": [
      "Number of genes in chromosome: 187\n"
     ]
    }
   ],
   "source": [
    "# run only on the chromosome specified\n",
    "all_chrs = [CHROMOSOME]\n",
    "genes_chr = genes_info[genes_info[\"chr\"] == CHROMOSOME]\n",
    "\n",
    "# For testing purposes\n",
    "# genes_chr = genes_chr.sample(n=20)\n",
    "\n",
    "print(f\"Number of genes in chromosome: {genes_chr.shape[0]}\", flush=True)"
   ]
  },
  {
   "cell_type": "code",
   "execution_count": 30,
   "id": "916015d8-2979-46d3-a9b9-1cf5a0932c6a",
   "metadata": {
    "execution": {
     "iopub.execute_input": "2022-07-22T23:28:19.147045Z",
     "iopub.status.busy": "2022-07-22T23:28:19.146585Z",
     "iopub.status.idle": "2022-07-22T23:28:19.161092Z",
     "shell.execute_reply": "2022-07-22T23:28:19.160670Z"
    },
    "papermill": {
     "duration": 0.023859,
     "end_time": "2022-07-22T23:28:19.162317",
     "exception": false,
     "start_time": "2022-07-22T23:28:19.138458",
     "status": "completed"
    },
    "tags": []
   },
   "outputs": [],
   "source": [
    "# sort genes by starting position to make visualizations better later\n",
    "genes_chr = genes_chr.sort_values(\"start_position\")"
   ]
  },
  {
   "cell_type": "code",
   "execution_count": 31,
   "id": "a38aa74a-8ad3-47f6-8ef9-56be0e011774",
   "metadata": {
    "execution": {
     "iopub.execute_input": "2022-07-22T23:28:19.178881Z",
     "iopub.status.busy": "2022-07-22T23:28:19.178621Z",
     "iopub.status.idle": "2022-07-22T23:28:19.194239Z",
     "shell.execute_reply": "2022-07-22T23:28:19.193775Z"
    },
    "papermill": {
     "duration": 0.025429,
     "end_time": "2022-07-22T23:28:19.195543",
     "exception": false,
     "start_time": "2022-07-22T23:28:19.170114",
     "status": "completed"
    },
    "tags": []
   },
   "outputs": [],
   "source": [
    "gene_chr_objs = [Gene(ensembl_id=gene_id) for gene_id in genes_chr[\"id\"]]"
   ]
  },
  {
   "cell_type": "code",
   "execution_count": 32,
   "id": "570f974f-13c3-42b6-ad3a-ce99ca885c1a",
   "metadata": {
    "execution": {
     "iopub.execute_input": "2022-07-22T23:28:19.212272Z",
     "iopub.status.busy": "2022-07-22T23:28:19.211747Z",
     "iopub.status.idle": "2022-07-22T23:28:19.229100Z",
     "shell.execute_reply": "2022-07-22T23:28:19.228607Z"
    },
    "papermill": {
     "duration": 0.0268,
     "end_time": "2022-07-22T23:28:19.230287",
     "exception": false,
     "start_time": "2022-07-22T23:28:19.203487",
     "status": "completed"
    },
    "tags": []
   },
   "outputs": [
    {
     "name": "stdout",
     "output_type": "stream",
     "text": [
      "Number of gene combinations: 17391\n"
     ]
    }
   ],
   "source": [
    "n = len(gene_chr_objs)\n",
    "n_comb = int(n * (n - 1) / 2.0)\n",
    "print(f\"Number of gene combinations: {n_comb}\", flush=True)"
   ]
  },
  {
   "cell_type": "code",
   "execution_count": 33,
   "id": "cdbb90a1",
   "metadata": {
    "execution": {
     "iopub.execute_input": "2022-07-22T23:28:19.247425Z",
     "iopub.status.busy": "2022-07-22T23:28:19.247095Z",
     "iopub.status.idle": "2022-07-22T23:49:46.624303Z",
     "shell.execute_reply": "2022-07-22T23:49:46.623914Z"
    },
    "papermill": {
     "duration": 1287.387566,
     "end_time": "2022-07-22T23:49:46.625672",
     "exception": false,
     "start_time": "2022-07-22T23:28:19.238106",
     "status": "completed"
    },
    "tags": []
   },
   "outputs": [
    {
     "name": "stderr",
     "output_type": "stream",
     "text": [
      "ENSG00000171700 / ENSG00000125510: 100%|██████████████████████| 17391/17391 [21:27<00:00, 13.51it/s]\n"
     ]
    },
    {
     "data": {
      "text/plain": [
       "PosixPath('/opt/data/results/gls/gene_corrs/cohorts/1000g_eur/1000g/mashr/by_chr/gene_corrs-chr20.pkl')"
      ]
     },
     "metadata": {},
     "output_type": "display_data"
    }
   ],
   "source": [
    "gene_corrs = []\n",
    "\n",
    "i = 0\n",
    "with tqdm(ncols=100, total=n_comb) as pbar:\n",
    "    for gene1_idx in range(0, len(gene_chr_objs) - 1):\n",
    "        gene1_obj = gene_chr_objs[gene1_idx]\n",
    "        gene1_tissues = spredixcan_genes_models.loc[gene1_obj.ensembl_id, \"tissue\"]\n",
    "\n",
    "        for gene2_idx in range(gene1_idx + 1, len(gene_chr_objs)):\n",
    "            gene2_obj = gene_chr_objs[gene2_idx]\n",
    "            gene2_tissues = spredixcan_genes_models.loc[gene2_obj.ensembl_id, \"tissue\"]\n",
    "\n",
    "            pbar.set_description(f\"{gene1_obj.ensembl_id} / {gene2_obj.ensembl_id}\")\n",
    "\n",
    "            try:\n",
    "                r = gene1_obj.get_ssm_correlation(\n",
    "                    other_gene=gene2_obj,\n",
    "                    tissues=gene1_tissues,\n",
    "                    other_tissues=gene2_tissues,\n",
    "                    snps_subset=gwas_variants_ids_set,\n",
    "                    condition_number=SMULTIXCAN_CONDITION_NUMBER,\n",
    "                    reference_panel=REFERENCE_PANEL,\n",
    "                    model_type=EQTL_MODEL,\n",
    "                    use_within_distance=COMPUTE_CORRELATIONS_WITHIN_DISTANCE,\n",
    "                )\n",
    "\n",
    "                if r is None:\n",
    "                    # if r is None, it's very likely because:\n",
    "                    #  * one of the genes has no prediction models\n",
    "                    #  * all the SNPs predictors for the gene are not present in the reference\n",
    "                    #    panel\n",
    "\n",
    "                    r = 0.0\n",
    "\n",
    "                gene_corrs.append(r)\n",
    "            except Warning as e:\n",
    "                if not DEBUG_MODE:\n",
    "                    raise e\n",
    "\n",
    "                print(\n",
    "                    f\"RuntimeWarning for genes {gene1_obj.ensembl_id} and {gene2_obj.ensembl_id}\",\n",
    "                    flush=True,\n",
    "                )\n",
    "                print(traceback.format_exc(), flush=True)\n",
    "\n",
    "                gene_corrs.append(np.nan)\n",
    "            except Exception as e:\n",
    "                if not DEBUG_MODE:\n",
    "                    raise e\n",
    "\n",
    "                print(\n",
    "                    f\"Exception for genes {gene1_obj.ensembl_id} and {gene2_obj.ensembl_id}\",\n",
    "                    flush=True,\n",
    "                )\n",
    "                print(traceback.format_exc(), flush=True)\n",
    "\n",
    "                gene_corrs.append(np.nan)\n",
    "\n",
    "            pbar.update(1)\n",
    "\n",
    "# create a pandas series\n",
    "gene_corrs_flat = pd.Series(gene_corrs)\n",
    "\n",
    "# save\n",
    "# FIXME: consider saving only the condenced matrix here. See here for\n",
    "# more details: https://github.com/greenelab/phenoplier/pull/38#discussion_r634600813\n",
    "gene_corrs_data = squareform(np.array(gene_corrs, dtype=np.float64))\n",
    "np.fill_diagonal(gene_corrs_data, 1.0)\n",
    "\n",
    "gene_chr_ids = [g.ensembl_id for g in gene_chr_objs]\n",
    "gene_corrs_df = pd.DataFrame(\n",
    "    data=gene_corrs_data,\n",
    "    index=gene_chr_ids,\n",
    "    columns=gene_chr_ids,\n",
    ")\n",
    "\n",
    "output_dir.mkdir(exist_ok=True, parents=True)\n",
    "display(output_file)\n",
    "\n",
    "gene_corrs_df.to_pickle(output_file)"
   ]
  },
  {
   "cell_type": "markdown",
   "id": "faa67b51-5373-470f-aa72-2ded53fa6dfe",
   "metadata": {
    "papermill": {
     "duration": 0.909329,
     "end_time": "2022-07-22T23:49:48.466718",
     "exception": false,
     "start_time": "2022-07-22T23:49:47.557389",
     "status": "completed"
    },
    "tags": []
   },
   "source": [
    "# Testing"
   ]
  },
  {
   "cell_type": "code",
   "execution_count": 34,
   "id": "14f7d046-4b55-4896-a56b-990127bcc388",
   "metadata": {
    "execution": {
     "iopub.execute_input": "2022-07-22T23:49:50.326487Z",
     "iopub.status.busy": "2022-07-22T23:49:50.326273Z",
     "iopub.status.idle": "2022-07-22T23:49:50.342530Z",
     "shell.execute_reply": "2022-07-22T23:49:50.341993Z"
    },
    "papermill": {
     "duration": 0.946336,
     "end_time": "2022-07-22T23:49:50.343984",
     "exception": false,
     "start_time": "2022-07-22T23:49:49.397648",
     "status": "completed"
    },
    "tags": []
   },
   "outputs": [
    {
     "data": {
      "text/plain": [
       "(187, 187)"
      ]
     },
     "execution_count": 34,
     "metadata": {},
     "output_type": "execute_result"
    }
   ],
   "source": [
    "gene_corrs_df.shape"
   ]
  },
  {
   "cell_type": "code",
   "execution_count": 35,
   "id": "c7d15414-3297-4537-a7c6-7588c0baeb75",
   "metadata": {
    "execution": {
     "iopub.execute_input": "2022-07-22T23:49:52.154828Z",
     "iopub.status.busy": "2022-07-22T23:49:52.154613Z",
     "iopub.status.idle": "2022-07-22T23:49:52.185511Z",
     "shell.execute_reply": "2022-07-22T23:49:52.185051Z"
    },
    "papermill": {
     "duration": 0.943238,
     "end_time": "2022-07-22T23:49:52.186771",
     "exception": false,
     "start_time": "2022-07-22T23:49:51.243533",
     "status": "completed"
    },
    "tags": []
   },
   "outputs": [
    {
     "data": {
      "text/html": [
       "<div>\n",
       "<style scoped>\n",
       "    .dataframe tbody tr th:only-of-type {\n",
       "        vertical-align: middle;\n",
       "    }\n",
       "\n",
       "    .dataframe tbody tr th {\n",
       "        vertical-align: top;\n",
       "    }\n",
       "\n",
       "    .dataframe thead th {\n",
       "        text-align: right;\n",
       "    }\n",
       "</style>\n",
       "<table border=\"1\" class=\"dataframe\">\n",
       "  <thead>\n",
       "    <tr style=\"text-align: right;\">\n",
       "      <th></th>\n",
       "      <th>ENSG00000101255</th>\n",
       "      <th>ENSG00000125826</th>\n",
       "      <th>ENSG00000101266</th>\n",
       "      <th>ENSG00000101280</th>\n",
       "      <th>ENSG00000125818</th>\n",
       "      <th>ENSG00000101298</th>\n",
       "      <th>ENSG00000088832</th>\n",
       "      <th>ENSG00000101307</th>\n",
       "      <th>ENSG00000089012</th>\n",
       "      <th>ENSG00000198053</th>\n",
       "      <th>...</th>\n",
       "      <th>ENSG00000092758</th>\n",
       "      <th>ENSG00000101191</th>\n",
       "      <th>ENSG00000101199</th>\n",
       "      <th>ENSG00000243509</th>\n",
       "      <th>ENSG00000203896</th>\n",
       "      <th>ENSG00000101152</th>\n",
       "      <th>ENSG00000198276</th>\n",
       "      <th>ENSG00000101161</th>\n",
       "      <th>ENSG00000171700</th>\n",
       "      <th>ENSG00000125510</th>\n",
       "    </tr>\n",
       "  </thead>\n",
       "  <tbody>\n",
       "    <tr>\n",
       "      <th>ENSG00000101255</th>\n",
       "      <td>1.000000</td>\n",
       "      <td>0.050683</td>\n",
       "      <td>0.017861</td>\n",
       "      <td>0.011775</td>\n",
       "      <td>0.002720</td>\n",
       "      <td>0.008144</td>\n",
       "      <td>0.013091</td>\n",
       "      <td>0.003198</td>\n",
       "      <td>0.010456</td>\n",
       "      <td>0.010639</td>\n",
       "      <td>...</td>\n",
       "      <td>0.010817</td>\n",
       "      <td>0.004357</td>\n",
       "      <td>0.004852</td>\n",
       "      <td>0.007574</td>\n",
       "      <td>0.007163</td>\n",
       "      <td>0.009123</td>\n",
       "      <td>0.013946</td>\n",
       "      <td>0.006769</td>\n",
       "      <td>0.003290</td>\n",
       "      <td>0.002943</td>\n",
       "    </tr>\n",
       "    <tr>\n",
       "      <th>ENSG00000125826</th>\n",
       "      <td>0.050683</td>\n",
       "      <td>1.000000</td>\n",
       "      <td>0.066958</td>\n",
       "      <td>0.008757</td>\n",
       "      <td>0.004395</td>\n",
       "      <td>0.016771</td>\n",
       "      <td>0.015061</td>\n",
       "      <td>0.008082</td>\n",
       "      <td>0.013941</td>\n",
       "      <td>0.014500</td>\n",
       "      <td>...</td>\n",
       "      <td>0.017529</td>\n",
       "      <td>0.007586</td>\n",
       "      <td>0.005689</td>\n",
       "      <td>0.011303</td>\n",
       "      <td>0.008357</td>\n",
       "      <td>0.011255</td>\n",
       "      <td>0.013041</td>\n",
       "      <td>0.006812</td>\n",
       "      <td>0.006084</td>\n",
       "      <td>0.010055</td>\n",
       "    </tr>\n",
       "    <tr>\n",
       "      <th>ENSG00000101266</th>\n",
       "      <td>0.017861</td>\n",
       "      <td>0.066958</td>\n",
       "      <td>1.000000</td>\n",
       "      <td>0.014596</td>\n",
       "      <td>0.005386</td>\n",
       "      <td>0.015147</td>\n",
       "      <td>0.015111</td>\n",
       "      <td>0.005819</td>\n",
       "      <td>0.013203</td>\n",
       "      <td>0.012445</td>\n",
       "      <td>...</td>\n",
       "      <td>0.011729</td>\n",
       "      <td>0.003911</td>\n",
       "      <td>0.008595</td>\n",
       "      <td>0.015707</td>\n",
       "      <td>0.013311</td>\n",
       "      <td>0.006752</td>\n",
       "      <td>0.012068</td>\n",
       "      <td>0.007354</td>\n",
       "      <td>0.000585</td>\n",
       "      <td>0.002613</td>\n",
       "    </tr>\n",
       "    <tr>\n",
       "      <th>ENSG00000101280</th>\n",
       "      <td>0.011775</td>\n",
       "      <td>0.008757</td>\n",
       "      <td>0.014596</td>\n",
       "      <td>1.000000</td>\n",
       "      <td>0.009148</td>\n",
       "      <td>0.013900</td>\n",
       "      <td>0.020965</td>\n",
       "      <td>0.006433</td>\n",
       "      <td>0.014777</td>\n",
       "      <td>0.020986</td>\n",
       "      <td>...</td>\n",
       "      <td>0.023218</td>\n",
       "      <td>0.006336</td>\n",
       "      <td>0.009365</td>\n",
       "      <td>0.015356</td>\n",
       "      <td>0.007332</td>\n",
       "      <td>0.011049</td>\n",
       "      <td>0.015375</td>\n",
       "      <td>0.009618</td>\n",
       "      <td>0.003962</td>\n",
       "      <td>0.005697</td>\n",
       "    </tr>\n",
       "    <tr>\n",
       "      <th>ENSG00000125818</th>\n",
       "      <td>0.002720</td>\n",
       "      <td>0.004395</td>\n",
       "      <td>0.005386</td>\n",
       "      <td>0.009148</td>\n",
       "      <td>1.000000</td>\n",
       "      <td>0.016027</td>\n",
       "      <td>0.013208</td>\n",
       "      <td>0.004112</td>\n",
       "      <td>0.007976</td>\n",
       "      <td>0.010889</td>\n",
       "      <td>...</td>\n",
       "      <td>0.009172</td>\n",
       "      <td>0.001576</td>\n",
       "      <td>0.005930</td>\n",
       "      <td>0.013363</td>\n",
       "      <td>0.003094</td>\n",
       "      <td>0.006388</td>\n",
       "      <td>0.013810</td>\n",
       "      <td>0.009317</td>\n",
       "      <td>0.001159</td>\n",
       "      <td>0.000779</td>\n",
       "    </tr>\n",
       "  </tbody>\n",
       "</table>\n",
       "<p>5 rows × 187 columns</p>\n",
       "</div>"
      ],
      "text/plain": [
       "                 ENSG00000101255  ENSG00000125826  ENSG00000101266  \\\n",
       "ENSG00000101255         1.000000         0.050683         0.017861   \n",
       "ENSG00000125826         0.050683         1.000000         0.066958   \n",
       "ENSG00000101266         0.017861         0.066958         1.000000   \n",
       "ENSG00000101280         0.011775         0.008757         0.014596   \n",
       "ENSG00000125818         0.002720         0.004395         0.005386   \n",
       "\n",
       "                 ENSG00000101280  ENSG00000125818  ENSG00000101298  \\\n",
       "ENSG00000101255         0.011775         0.002720         0.008144   \n",
       "ENSG00000125826         0.008757         0.004395         0.016771   \n",
       "ENSG00000101266         0.014596         0.005386         0.015147   \n",
       "ENSG00000101280         1.000000         0.009148         0.013900   \n",
       "ENSG00000125818         0.009148         1.000000         0.016027   \n",
       "\n",
       "                 ENSG00000088832  ENSG00000101307  ENSG00000089012  \\\n",
       "ENSG00000101255         0.013091         0.003198         0.010456   \n",
       "ENSG00000125826         0.015061         0.008082         0.013941   \n",
       "ENSG00000101266         0.015111         0.005819         0.013203   \n",
       "ENSG00000101280         0.020965         0.006433         0.014777   \n",
       "ENSG00000125818         0.013208         0.004112         0.007976   \n",
       "\n",
       "                 ENSG00000198053  ...  ENSG00000092758  ENSG00000101191  \\\n",
       "ENSG00000101255         0.010639  ...         0.010817         0.004357   \n",
       "ENSG00000125826         0.014500  ...         0.017529         0.007586   \n",
       "ENSG00000101266         0.012445  ...         0.011729         0.003911   \n",
       "ENSG00000101280         0.020986  ...         0.023218         0.006336   \n",
       "ENSG00000125818         0.010889  ...         0.009172         0.001576   \n",
       "\n",
       "                 ENSG00000101199  ENSG00000243509  ENSG00000203896  \\\n",
       "ENSG00000101255         0.004852         0.007574         0.007163   \n",
       "ENSG00000125826         0.005689         0.011303         0.008357   \n",
       "ENSG00000101266         0.008595         0.015707         0.013311   \n",
       "ENSG00000101280         0.009365         0.015356         0.007332   \n",
       "ENSG00000125818         0.005930         0.013363         0.003094   \n",
       "\n",
       "                 ENSG00000101152  ENSG00000198276  ENSG00000101161  \\\n",
       "ENSG00000101255         0.009123         0.013946         0.006769   \n",
       "ENSG00000125826         0.011255         0.013041         0.006812   \n",
       "ENSG00000101266         0.006752         0.012068         0.007354   \n",
       "ENSG00000101280         0.011049         0.015375         0.009618   \n",
       "ENSG00000125818         0.006388         0.013810         0.009317   \n",
       "\n",
       "                 ENSG00000171700  ENSG00000125510  \n",
       "ENSG00000101255         0.003290         0.002943  \n",
       "ENSG00000125826         0.006084         0.010055  \n",
       "ENSG00000101266         0.000585         0.002613  \n",
       "ENSG00000101280         0.003962         0.005697  \n",
       "ENSG00000125818         0.001159         0.000779  \n",
       "\n",
       "[5 rows x 187 columns]"
      ]
     },
     "execution_count": 35,
     "metadata": {},
     "output_type": "execute_result"
    }
   ],
   "source": [
    "gene_corrs_df.head()"
   ]
  },
  {
   "cell_type": "markdown",
   "id": "dad6603f-01c6-41fb-a6f6-241051207dd8",
   "metadata": {
    "papermill": {
     "duration": 0.926284,
     "end_time": "2022-07-22T23:49:54.013995",
     "exception": false,
     "start_time": "2022-07-22T23:49:53.087711",
     "status": "completed"
    },
    "tags": []
   },
   "source": [
    "## Standard checks and stats"
   ]
  },
  {
   "cell_type": "code",
   "execution_count": 36,
   "id": "286686af-1b7b-4440-8453-6bdcbd8de19c",
   "metadata": {
    "execution": {
     "iopub.execute_input": "2022-07-22T23:49:55.826624Z",
     "iopub.status.busy": "2022-07-22T23:49:55.826427Z",
     "iopub.status.idle": "2022-07-22T23:49:55.841635Z",
     "shell.execute_reply": "2022-07-22T23:49:55.841208Z"
    },
    "papermill": {
     "duration": 0.91924,
     "end_time": "2022-07-22T23:49:55.842953",
     "exception": false,
     "start_time": "2022-07-22T23:49:54.923713",
     "status": "completed"
    },
    "tags": []
   },
   "outputs": [],
   "source": [
    "assert not gene_corrs_df.isna().any().any()"
   ]
  },
  {
   "cell_type": "code",
   "execution_count": 37,
   "id": "00583efc-7068-4270-ad1e-4a418e91db96",
   "metadata": {
    "execution": {
     "iopub.execute_input": "2022-07-22T23:49:57.668489Z",
     "iopub.status.busy": "2022-07-22T23:49:57.668264Z",
     "iopub.status.idle": "2022-07-22T23:49:57.686374Z",
     "shell.execute_reply": "2022-07-22T23:49:57.685882Z"
    },
    "papermill": {
     "duration": 0.924205,
     "end_time": "2022-07-22T23:49:57.687591",
     "exception": false,
     "start_time": "2022-07-22T23:49:56.763386",
     "status": "completed"
    },
    "tags": []
   },
   "outputs": [
    {
     "data": {
      "text/plain": [
       "7.80725165420396e-06"
      ]
     },
     "metadata": {},
     "output_type": "display_data"
    }
   ],
   "source": [
    "_min_val = gene_corrs_df.min().min()\n",
    "display(_min_val)\n",
    "assert _min_val >= 0.0"
   ]
  },
  {
   "cell_type": "code",
   "execution_count": 38,
   "id": "d04fb2cf-1050-475b-b855-f5f7cc04092b",
   "metadata": {
    "execution": {
     "iopub.execute_input": "2022-07-22T23:49:59.559000Z",
     "iopub.status.busy": "2022-07-22T23:49:59.558836Z",
     "iopub.status.idle": "2022-07-22T23:49:59.574886Z",
     "shell.execute_reply": "2022-07-22T23:49:59.574479Z"
    },
    "papermill": {
     "duration": 0.966714,
     "end_time": "2022-07-22T23:49:59.576016",
     "exception": false,
     "start_time": "2022-07-22T23:49:58.609302",
     "status": "completed"
    },
    "tags": []
   },
   "outputs": [
    {
     "data": {
      "text/plain": [
       "1.0"
      ]
     },
     "metadata": {},
     "output_type": "display_data"
    }
   ],
   "source": [
    "_max_val = gene_corrs_df.max().max()  # this captures the diagonal\n",
    "display(_max_val)\n",
    "assert _max_val <= 1.0"
   ]
  },
  {
   "cell_type": "code",
   "execution_count": 39,
   "id": "96d02c44-1fba-47be-8a93-8f2608420b9c",
   "metadata": {
    "execution": {
     "iopub.execute_input": "2022-07-22T23:50:01.413064Z",
     "iopub.status.busy": "2022-07-22T23:50:01.412904Z",
     "iopub.status.idle": "2022-07-22T23:50:01.428151Z",
     "shell.execute_reply": "2022-07-22T23:50:01.427719Z"
    },
    "papermill": {
     "duration": 0.915484,
     "end_time": "2022-07-22T23:50:01.429411",
     "exception": false,
     "start_time": "2022-07-22T23:50:00.513927",
     "status": "completed"
    },
    "tags": []
   },
   "outputs": [],
   "source": [
    "# check upper triangular values\n",
    "assert len(gene_corrs) == int(genes_chr.shape[0] * (genes_chr.shape[0] - 1) / 2)"
   ]
  },
  {
   "cell_type": "code",
   "execution_count": 40,
   "id": "fe283586-c348-40e0-8841-f6d97bfb021c",
   "metadata": {
    "execution": {
     "iopub.execute_input": "2022-07-22T23:50:03.290367Z",
     "iopub.status.busy": "2022-07-22T23:50:03.290112Z",
     "iopub.status.idle": "2022-07-22T23:50:03.310247Z",
     "shell.execute_reply": "2022-07-22T23:50:03.309815Z"
    },
    "papermill": {
     "duration": 0.942671,
     "end_time": "2022-07-22T23:50:03.311399",
     "exception": false,
     "start_time": "2022-07-22T23:50:02.368728",
     "status": "completed"
    },
    "tags": []
   },
   "outputs": [
    {
     "data": {
      "text/plain": [
       "count    17391.000000\n",
       "mean         0.012472\n",
       "std          0.039222\n",
       "min          0.000008\n",
       "25%          0.005165\n",
       "50%          0.008133\n",
       "75%          0.011536\n",
       "max          0.998564\n",
       "dtype: float64"
      ]
     },
     "execution_count": 40,
     "metadata": {},
     "output_type": "execute_result"
    }
   ],
   "source": [
    "gene_corrs_flat.describe()"
   ]
  },
  {
   "cell_type": "code",
   "execution_count": 41,
   "id": "b3815678-0f93-4b35-897b-a9d047a2aa78",
   "metadata": {
    "execution": {
     "iopub.execute_input": "2022-07-22T23:50:05.142280Z",
     "iopub.status.busy": "2022-07-22T23:50:05.142101Z",
     "iopub.status.idle": "2022-07-22T23:50:05.162468Z",
     "shell.execute_reply": "2022-07-22T23:50:05.162089Z"
    },
    "papermill": {
     "duration": 0.936256,
     "end_time": "2022-07-22T23:50:05.163817",
     "exception": false,
     "start_time": "2022-07-22T23:50:04.227561",
     "status": "completed"
    },
    "tags": []
   },
   "outputs": [
    {
     "data": {
      "text/plain": [
       "0.00    0.000008\n",
       "0.05    0.002091\n",
       "0.10    0.003084\n",
       "0.15    0.003860\n",
       "0.20    0.004526\n",
       "0.25    0.005165\n",
       "0.30    0.005754\n",
       "0.35    0.006361\n",
       "0.40    0.006946\n",
       "0.45    0.007543\n",
       "0.50    0.008133\n",
       "0.55    0.008735\n",
       "0.60    0.009358\n",
       "0.65    0.010034\n",
       "0.70    0.010746\n",
       "0.75    0.011536\n",
       "0.80    0.012516\n",
       "0.85    0.013749\n",
       "0.90    0.015440\n",
       "0.95    0.018539\n",
       "dtype: float64"
      ]
     },
     "metadata": {},
     "output_type": "display_data"
    }
   ],
   "source": [
    "gene_corrs_quantiles = gene_corrs_flat.quantile(np.arange(0, 1, 0.05))\n",
    "display(gene_corrs_quantiles)"
   ]
  },
  {
   "cell_type": "markdown",
   "id": "87134509-b145-4a10-8bc9-b7e914c2b0fa",
   "metadata": {
    "papermill": {
     "duration": 0.892733,
     "end_time": "2022-07-22T23:50:06.992466",
     "exception": false,
     "start_time": "2022-07-22T23:50:06.099733",
     "status": "completed"
    },
    "tags": []
   },
   "source": [
    "## Positive definiteness"
   ]
  },
  {
   "cell_type": "code",
   "execution_count": 42,
   "id": "07d9a9a1-a4f7-48aa-b916-6d42a8cc6186",
   "metadata": {
    "execution": {
     "iopub.execute_input": "2022-07-22T23:50:08.806850Z",
     "iopub.status.busy": "2022-07-22T23:50:08.806687Z",
     "iopub.status.idle": "2022-07-22T23:50:08.847307Z",
     "shell.execute_reply": "2022-07-22T23:50:08.846928Z"
    },
    "papermill": {
     "duration": 0.960622,
     "end_time": "2022-07-22T23:50:08.848669",
     "exception": false,
     "start_time": "2022-07-22T23:50:07.888047",
     "status": "completed"
    },
    "tags": []
   },
   "outputs": [
    {
     "data": {
      "text/plain": [
       "0"
      ]
     },
     "metadata": {},
     "output_type": "display_data"
    },
    {
     "data": {
      "text/plain": [
       "array([], dtype=float64)"
      ]
     },
     "metadata": {},
     "output_type": "display_data"
    }
   ],
   "source": [
    "# print negative eigenvalues\n",
    "eigs = np.linalg.eigvals(gene_corrs_df.to_numpy())\n",
    "display(len(eigs[eigs < 0]))\n",
    "display(eigs[eigs < 0])"
   ]
  },
  {
   "cell_type": "code",
   "execution_count": 43,
   "id": "6e218436-c3c5-4028-8c94-a4fa6260efce",
   "metadata": {
    "execution": {
     "iopub.execute_input": "2022-07-22T23:50:10.766166Z",
     "iopub.status.busy": "2022-07-22T23:50:10.765963Z",
     "iopub.status.idle": "2022-07-22T23:50:10.786313Z",
     "shell.execute_reply": "2022-07-22T23:50:10.785794Z"
    },
    "papermill": {
     "duration": 0.936015,
     "end_time": "2022-07-22T23:50:10.787376",
     "exception": false,
     "start_time": "2022-07-22T23:50:09.851361",
     "status": "completed"
    },
    "tags": []
   },
   "outputs": [
    {
     "name": "stdout",
     "output_type": "stream",
     "text": [
      "Works!\n"
     ]
    }
   ],
   "source": [
    "try:\n",
    "    chol_mat = np.linalg.cholesky(gene_corrs_df.to_numpy())\n",
    "    cov_inv = np.linalg.inv(chol_mat)\n",
    "    print(\"Works!\")\n",
    "except:\n",
    "    print(\"Cholesky decomposition failed\")"
   ]
  },
  {
   "cell_type": "markdown",
   "id": "8e60a080-edb2-4e9c-b2ef-22961693200c",
   "metadata": {
    "papermill": {
     "duration": 0.911102,
     "end_time": "2022-07-22T23:50:12.651209",
     "exception": false,
     "start_time": "2022-07-22T23:50:11.740107",
     "status": "completed"
    },
    "tags": []
   },
   "source": [
    "## Plot: distribution"
   ]
  },
  {
   "cell_type": "code",
   "execution_count": 44,
   "id": "8301126b-a7d4-4744-9c7d-f0f86eb6f54c",
   "metadata": {
    "execution": {
     "iopub.execute_input": "2022-07-22T23:50:14.501874Z",
     "iopub.status.busy": "2022-07-22T23:50:14.501646Z",
     "iopub.status.idle": "2022-07-22T23:50:18.035931Z",
     "shell.execute_reply": "2022-07-22T23:50:18.035370Z"
    },
    "papermill": {
     "duration": 4.471922,
     "end_time": "2022-07-22T23:50:18.037344",
     "exception": false,
     "start_time": "2022-07-22T23:50:13.565422",
     "status": "completed"
    },
    "tags": []
   },
   "outputs": [
    {
     "data": {
      "image/png": "[encoded data removed]",
      "text/plain": [
       "<Figure size 504x504 with 1 Axes>"
      ]
     },
     "metadata": {
      "needs_background": "light"
     },
     "output_type": "display_data"
    }
   ],
   "source": [
    "with sns.plotting_context(\"paper\", font_scale=1.5):\n",
    "    g = sns.displot(gene_corrs_flat, kde=True, height=7)\n",
    "    g.ax.set_title(\n",
    "        f\"Distribution of gene correlation values in chromosome {CHROMOSOME}\"\n",
    "    )"
   ]
  },
  {
   "cell_type": "markdown",
   "id": "cbd52bca-d878-4a2f-b684-5c83aa3038d4",
   "metadata": {
    "papermill": {
     "duration": 0.897643,
     "end_time": "2022-07-22T23:50:19.870109",
     "exception": false,
     "start_time": "2022-07-22T23:50:18.972466",
     "status": "completed"
    },
    "tags": []
   },
   "source": [
    "## Plot: heatmap"
   ]
  },
  {
   "cell_type": "code",
   "execution_count": 45,
   "id": "d03fe63a-c7b2-4fb9-a53c-db362ce843c9",
   "metadata": {
    "execution": {
     "iopub.execute_input": "2022-07-22T23:50:21.708116Z",
     "iopub.status.busy": "2022-07-22T23:50:21.707900Z",
     "iopub.status.idle": "2022-07-22T23:50:21.723808Z",
     "shell.execute_reply": "2022-07-22T23:50:21.723380Z"
    },
    "papermill": {
     "duration": 0.928499,
     "end_time": "2022-07-22T23:50:21.724950",
     "exception": false,
     "start_time": "2022-07-22T23:50:20.796451",
     "status": "completed"
    },
    "tags": []
   },
   "outputs": [
    {
     "data": {
      "text/plain": [
       "'0.0 / 0.05'"
      ]
     },
     "metadata": {},
     "output_type": "display_data"
    }
   ],
   "source": [
    "vmin_val = min(0.00, gene_corrs_quantiles[0.10])\n",
    "vmax_val = max(0.05, gene_corrs_quantiles[0.90])\n",
    "display(f\"{vmin_val} / {vmax_val}\")"
   ]
  },
  {
   "cell_type": "code",
   "execution_count": 46,
   "id": "dc41b70b-5bcc-4d9e-9f33-a22c4a94dab5",
   "metadata": {
    "execution": {
     "iopub.execute_input": "2022-07-22T23:50:23.567781Z",
     "iopub.status.busy": "2022-07-22T23:50:23.567458Z",
     "iopub.status.idle": "2022-07-22T23:50:23.751860Z",
     "shell.execute_reply": "2022-07-22T23:50:23.751423Z"
    },
    "papermill": {
     "duration": 1.117161,
     "end_time": "2022-07-22T23:50:23.754347",
     "exception": false,
     "start_time": "2022-07-22T23:50:22.637186",
     "status": "completed"
    },
    "tags": []
   },
   "outputs": [
    {
     "data": {
      "text/plain": [
       "Text(0.5, 1.0, 'Gene correlations in chromosome 20')"
      ]
     },
     "execution_count": 46,
     "metadata": {},
     "output_type": "execute_result"
    },
    {
     "data": {
      "image/png": "[encoded data removed]",
      "text/plain": [
       "<Figure size 720x720 with 2 Axes>"
      ]
     },
     "metadata": {
      "needs_background": "light"
     },
     "output_type": "display_data"
    }
   ],
   "source": [
    "f, ax = plt.subplots(figsize=(10, 10))\n",
    "sns.heatmap(\n",
    "    gene_corrs_df,\n",
    "    xticklabels=False,\n",
    "    yticklabels=False,\n",
    "    square=True,\n",
    "    vmin=vmin_val,\n",
    "    vmax=vmax_val,\n",
    "    cmap=\"rocket_r\",\n",
    "    ax=ax,\n",
    ")\n",
    "ax.set_title(f\"Gene correlations in chromosome {CHROMOSOME}\")"
   ]
  },
  {
   "cell_type": "code",
   "execution_count": null,
   "id": "b25e3ead",
   "metadata": {
    "papermill": {
     "duration": 0.892933,
     "end_time": "2022-07-22T23:50:25.580406",
     "exception": false,
     "start_time": "2022-07-22T23:50:24.687473",
     "status": "completed"
    },
    "tags": []
   },
   "outputs": [],
   "source": []
  }
 ],
 "metadata": {
  "jupytext": {
   "cell_metadata_filter": "all,-execution,-papermill,-trusted",
   "formats": "ipynb,py//py:percent"
  },
  "kernelspec": {
   "display_name": "Python 3 (ipykernel)",
   "language": "python",
   "name": "python3"
  },
  "language_info": {
   "codemirror_mode": {
    "name": "ipython",
    "version": 3
   },
   "file_extension": ".py",
   "mimetype": "text/x-python",
   "name": "python",
   "nbconvert_exporter": "python",
   "pygments_lexer": "ipython3",
   "version": "3.8.13"
  },
  "papermill": {
   "default_parameters": {},
   "duration": 1337.433786,
   "end_time": "2022-07-22T23:50:29.647786",
   "environment_variables": {},
   "exception": null,
   "input_path": "nbs/15_gsa_gls/10-gene_expr_correlations.ipynb",
   "output_path": "nbs/15_gsa_gls/gene_corrs/cohorts/1000g_eur/1000g/mashr/10-gene_expr_correlations-chr20.run.ipynb",
   "parameters": {
    "CHROMOSOME": 20,
    "COHORT_NAME": "1000G_EUR",
    "EQTL_MODEL": "MASHR",
    "REFERENCE_PANEL": "1000G"
   },
   "start_time": "2022-07-22T23:28:12.214000",
   "version": "2.2.2"
  }
 },
 "nbformat": 4,
 "nbformat_minor": 5
}
