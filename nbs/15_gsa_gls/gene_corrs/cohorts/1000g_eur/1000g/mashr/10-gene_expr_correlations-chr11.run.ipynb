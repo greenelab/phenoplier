{
 "cells": [
  {
   "cell_type": "markdown",
   "id": "7a6632fb",
   "metadata": {
    "papermill": {
     "duration": 0.006377,
     "end_time": "2022-07-22T04:13:51.808467",
     "exception": false,
     "start_time": "2022-07-22T04:13:51.802090",
     "status": "completed"
    },
    "tags": []
   },
   "source": [
    "# Description"
   ]
  },
  {
   "cell_type": "markdown",
   "id": "7097c346",
   "metadata": {
    "papermill": {
     "duration": 0.005731,
     "end_time": "2022-07-22T04:13:51.820036",
     "exception": false,
     "start_time": "2022-07-22T04:13:51.814305",
     "status": "completed"
    },
    "tags": []
   },
   "source": [
    "(Please, take a look at the README.md file in this directory for instructions on how to run this notebook)\n",
    "\n",
    "This notebook computes predicted expression correlations between all genes in the MultiPLIER models.\n",
    "\n",
    "It also has a parameter set for papermill to run on a single chromosome to run in parallel (see under `Settings` below).\n",
    "\n",
    "This notebook is not directly run. See README.md."
   ]
  },
  {
   "cell_type": "markdown",
   "id": "c61d8427",
   "metadata": {
    "papermill": {
     "duration": 0.005762,
     "end_time": "2022-07-22T04:13:51.831630",
     "exception": false,
     "start_time": "2022-07-22T04:13:51.825868",
     "status": "completed"
    },
    "tags": []
   },
   "source": [
    "# Modules"
   ]
  },
  {
   "cell_type": "code",
   "execution_count": 1,
   "id": "bbc0234f",
   "metadata": {
    "execution": {
     "iopub.execute_input": "2022-07-22T04:13:51.848159Z",
     "iopub.status.busy": "2022-07-22T04:13:51.846918Z",
     "iopub.status.idle": "2022-07-22T04:13:51.870549Z",
     "shell.execute_reply": "2022-07-22T04:13:51.870108Z"
    },
    "papermill": {
     "duration": 0.034528,
     "end_time": "2022-07-22T04:13:51.872796",
     "exception": false,
     "start_time": "2022-07-22T04:13:51.838268",
     "status": "completed"
    },
    "tags": []
   },
   "outputs": [],
   "source": [
    "%load_ext autoreload\n",
    "%autoreload 2"
   ]
  },
  {
   "cell_type": "code",
   "execution_count": 2,
   "id": "1d5f5a59",
   "metadata": {
    "execution": {
     "iopub.execute_input": "2022-07-22T04:13:51.918324Z",
     "iopub.status.busy": "2022-07-22T04:13:51.918135Z",
     "iopub.status.idle": "2022-07-22T04:13:52.845838Z",
     "shell.execute_reply": "2022-07-22T04:13:52.844996Z"
    },
    "papermill": {
     "duration": 0.937034,
     "end_time": "2022-07-22T04:13:52.847471",
     "exception": false,
     "start_time": "2022-07-22T04:13:51.910437",
     "status": "completed"
    },
    "tags": []
   },
   "outputs": [],
   "source": [
    "from random import sample, seed\n",
    "import warnings\n",
    "from pathlib import Path\n",
    "import pickle\n",
    "import traceback\n",
    "\n",
    "import numpy as np\n",
    "from scipy.spatial.distance import squareform\n",
    "import pandas as pd\n",
    "from tqdm import tqdm\n",
    "import matplotlib.pyplot as plt\n",
    "import seaborn as sns\n",
    "\n",
    "import conf\n",
    "from entity import Gene"
   ]
  },
  {
   "cell_type": "markdown",
   "id": "1eac24b5",
   "metadata": {
    "papermill": {
     "duration": 0.007407,
     "end_time": "2022-07-22T04:13:52.864532",
     "exception": false,
     "start_time": "2022-07-22T04:13:52.857125",
     "status": "completed"
    },
    "tags": []
   },
   "source": [
    "# Settings"
   ]
  },
  {
   "cell_type": "code",
   "execution_count": 3,
   "id": "ca4560ba",
   "metadata": {
    "execution": {
     "iopub.execute_input": "2022-07-22T04:13:52.879275Z",
     "iopub.status.busy": "2022-07-22T04:13:52.879073Z",
     "iopub.status.idle": "2022-07-22T04:13:52.896226Z",
     "shell.execute_reply": "2022-07-22T04:13:52.895681Z"
    },
    "papermill": {
     "duration": 0.026048,
     "end_time": "2022-07-22T04:13:52.897699",
     "exception": false,
     "start_time": "2022-07-22T04:13:52.871651",
     "status": "completed"
    },
    "tags": [
     "parameters"
    ]
   },
   "outputs": [],
   "source": [
    "# a cohort name (it could be something like UK_BIOBANK, etc)\n",
    "COHORT_NAME = None\n",
    "\n",
    "# reference panel such as 1000G or GTEX_V8\n",
    "REFERENCE_PANEL = None\n",
    "\n",
    "# predictions models such as MASHR or ELASTIC_NET\n",
    "EQTL_MODEL = None\n",
    "\n",
    "# this is the default value used in S-MultiXcan to select the\n",
    "# top principal components of the expression correlation matrix\n",
    "SMULTIXCAN_CONDITION_NUMBER = 30\n",
    "\n",
    "# specifies a single chromosome value\n",
    "CHROMOSOME = None\n",
    "\n",
    "# if True, then it will continue if a gene pair correlation fails,\n",
    "# printing the warning/error for debugging. If False, any warning/error\n",
    "# will be thrown\n",
    "# FIXME: make it False when all is working\n",
    "DEBUG_MODE = True"
   ]
  },
  {
   "cell_type": "code",
   "execution_count": 4,
   "id": "238ac765",
   "metadata": {
    "execution": {
     "iopub.execute_input": "2022-07-22T04:13:52.911294Z",
     "iopub.status.busy": "2022-07-22T04:13:52.911119Z",
     "iopub.status.idle": "2022-07-22T04:13:52.926526Z",
     "shell.execute_reply": "2022-07-22T04:13:52.925967Z"
    },
    "papermill": {
     "duration": 0.023825,
     "end_time": "2022-07-22T04:13:52.928057",
     "exception": false,
     "start_time": "2022-07-22T04:13:52.904232",
     "status": "completed"
    },
    "tags": [
     "injected-parameters"
    ]
   },
   "outputs": [],
   "source": [
    "# Parameters\n",
    "COHORT_NAME = \"1000G_EUR\"\n",
    "REFERENCE_PANEL = \"1000G\"\n",
    "EQTL_MODEL = \"MASHR\"\n",
    "CHROMOSOME = 11\n"
   ]
  },
  {
   "cell_type": "code",
   "execution_count": 5,
   "id": "3190631f-27fc-480f-b18e-571d580425a5",
   "metadata": {
    "execution": {
     "iopub.execute_input": "2022-07-22T04:13:52.941720Z",
     "iopub.status.busy": "2022-07-22T04:13:52.941546Z",
     "iopub.status.idle": "2022-07-22T04:13:52.958973Z",
     "shell.execute_reply": "2022-07-22T04:13:52.958517Z"
    },
    "papermill": {
     "duration": 0.026054,
     "end_time": "2022-07-22T04:13:52.960669",
     "exception": false,
     "start_time": "2022-07-22T04:13:52.934615",
     "status": "completed"
    },
    "tags": []
   },
   "outputs": [
    {
     "data": {
      "text/plain": [
       "'Cohort name: 1000g_eur'"
      ]
     },
     "metadata": {},
     "output_type": "display_data"
    }
   ],
   "source": [
    "assert COHORT_NAME is not None or len(COHORT_NAME) == 0, \"A cohort name must be given\"\n",
    "\n",
    "COHORT_NAME = COHORT_NAME.lower()\n",
    "display(f\"Cohort name: {COHORT_NAME}\")"
   ]
  },
  {
   "cell_type": "code",
   "execution_count": 6,
   "id": "f53ba19b-0f93-4fa2-a047-63b375939d1a",
   "metadata": {
    "execution": {
     "iopub.execute_input": "2022-07-22T04:13:52.974704Z",
     "iopub.status.busy": "2022-07-22T04:13:52.974534Z",
     "iopub.status.idle": "2022-07-22T04:13:52.990283Z",
     "shell.execute_reply": "2022-07-22T04:13:52.989836Z"
    },
    "papermill": {
     "duration": 0.024235,
     "end_time": "2022-07-22T04:13:52.991540",
     "exception": false,
     "start_time": "2022-07-22T04:13:52.967305",
     "status": "completed"
    },
    "tags": []
   },
   "outputs": [
    {
     "data": {
      "text/plain": [
       "'Reference panel: 1000G'"
      ]
     },
     "metadata": {},
     "output_type": "display_data"
    }
   ],
   "source": [
    "assert (\n",
    "    REFERENCE_PANEL is not None or len(REFERENCE_PANEL) == 0\n",
    "), \"A reference panel must be given\"\n",
    "\n",
    "display(f\"Reference panel: {REFERENCE_PANEL}\")"
   ]
  },
  {
   "cell_type": "code",
   "execution_count": 7,
   "id": "e024d130-c139-429a-9c6e-ccf149e297b0",
   "metadata": {
    "execution": {
     "iopub.execute_input": "2022-07-22T04:13:53.005741Z",
     "iopub.status.busy": "2022-07-22T04:13:53.005196Z",
     "iopub.status.idle": "2022-07-22T04:13:53.022494Z",
     "shell.execute_reply": "2022-07-22T04:13:53.021978Z"
    },
    "papermill": {
     "duration": 0.025858,
     "end_time": "2022-07-22T04:13:53.023841",
     "exception": false,
     "start_time": "2022-07-22T04:13:52.997983",
     "status": "completed"
    },
    "tags": []
   },
   "outputs": [
    {
     "data": {
      "text/plain": [
       "'eQTL model: MASHR) / mashr_'"
      ]
     },
     "metadata": {},
     "output_type": "display_data"
    }
   ],
   "source": [
    "assert (\n",
    "    EQTL_MODEL is not None or len(EQTL_MODEL) == 0\n",
    "), \"A prediction/eQTL model must be given\"\n",
    "\n",
    "EQTL_MODEL_FILES_PREFIX = conf.PHENOMEXCAN[\"PREDICTION_MODELS\"][f\"{EQTL_MODEL}_PREFIX\"]\n",
    "display(f\"eQTL model: {EQTL_MODEL}) / {EQTL_MODEL_FILES_PREFIX}\")"
   ]
  },
  {
   "cell_type": "code",
   "execution_count": 8,
   "id": "552a7f63-a18c-4d3e-bb6a-94f99b431291",
   "metadata": {
    "execution": {
     "iopub.execute_input": "2022-07-22T04:13:53.037714Z",
     "iopub.status.busy": "2022-07-22T04:13:53.037400Z",
     "iopub.status.idle": "2022-07-22T04:13:53.054382Z",
     "shell.execute_reply": "2022-07-22T04:13:53.053864Z"
    },
    "papermill": {
     "duration": 0.02534,
     "end_time": "2022-07-22T04:13:53.055701",
     "exception": false,
     "start_time": "2022-07-22T04:13:53.030361",
     "status": "completed"
    },
    "tags": []
   },
   "outputs": [
    {
     "data": {
      "text/plain": [
       "'S-MultiXcan condition number: 30'"
      ]
     },
     "metadata": {},
     "output_type": "display_data"
    }
   ],
   "source": [
    "assert (\n",
    "    SMULTIXCAN_CONDITION_NUMBER is not None or SMULTIXCAN_CONDITION_NUMBER > 0\n",
    "), \"The S-MultiXcan condition number (positive integer) must be given\"\n",
    "\n",
    "display(f\"S-MultiXcan condition number: {SMULTIXCAN_CONDITION_NUMBER}\")"
   ]
  },
  {
   "cell_type": "code",
   "execution_count": 9,
   "id": "f34a336f-548e-4afe-8955-90eaea4f42c6",
   "metadata": {
    "execution": {
     "iopub.execute_input": "2022-07-22T04:13:53.069812Z",
     "iopub.status.busy": "2022-07-22T04:13:53.069416Z",
     "iopub.status.idle": "2022-07-22T04:13:53.086995Z",
     "shell.execute_reply": "2022-07-22T04:13:53.086466Z"
    },
    "papermill": {
     "duration": 0.026097,
     "end_time": "2022-07-22T04:13:53.088323",
     "exception": false,
     "start_time": "2022-07-22T04:13:53.062226",
     "status": "completed"
    },
    "tags": []
   },
   "outputs": [
    {
     "data": {
      "text/plain": [
       "'Working on chromosome 11'"
      ]
     },
     "metadata": {},
     "output_type": "display_data"
    }
   ],
   "source": [
    "assert CHROMOSOME is not None and (\n",
    "    1 <= CHROMOSOME <= 22\n",
    "), \"You have to select one chromosome (format: number between 1 and 22)\"\n",
    "\n",
    "CHROMOSOME = str(CHROMOSOME)\n",
    "display(f\"Working on chromosome {CHROMOSOME}\")"
   ]
  },
  {
   "cell_type": "code",
   "execution_count": 10,
   "id": "ab8e96e8-06b5-4363-9dcd-dc4d78cc27f7",
   "metadata": {
    "execution": {
     "iopub.execute_input": "2022-07-22T04:13:53.103002Z",
     "iopub.status.busy": "2022-07-22T04:13:53.102529Z",
     "iopub.status.idle": "2022-07-22T04:13:53.119298Z",
     "shell.execute_reply": "2022-07-22T04:13:53.118763Z"
    },
    "papermill": {
     "duration": 0.025673,
     "end_time": "2022-07-22T04:13:53.120835",
     "exception": false,
     "start_time": "2022-07-22T04:13:53.095162",
     "status": "completed"
    },
    "tags": []
   },
   "outputs": [
    {
     "data": {
      "text/plain": [
       "'Compute correlation within distance True'"
      ]
     },
     "metadata": {},
     "output_type": "display_data"
    }
   ],
   "source": [
    "# TODO: see if this is necessary; if so, make it a parameter with default value True\n",
    "# This parameter, if True, computes the correlation between closeby genes only\n",
    "\n",
    "COMPUTE_CORRELATIONS_WITHIN_DISTANCE = True\n",
    "display(f\"Compute correlation within distance {COMPUTE_CORRELATIONS_WITHIN_DISTANCE}\")"
   ]
  },
  {
   "cell_type": "code",
   "execution_count": 11,
   "id": "396392dc-0340-4540-9b02-e182b833f909",
   "metadata": {
    "execution": {
     "iopub.execute_input": "2022-07-22T04:13:53.137629Z",
     "iopub.status.busy": "2022-07-22T04:13:53.137095Z",
     "iopub.status.idle": "2022-07-22T04:13:53.162147Z",
     "shell.execute_reply": "2022-07-22T04:13:53.161531Z"
    },
    "papermill": {
     "duration": 0.035372,
     "end_time": "2022-07-22T04:13:53.163623",
     "exception": false,
     "start_time": "2022-07-22T04:13:53.128251",
     "status": "completed"
    },
    "tags": []
   },
   "outputs": [
    {
     "data": {
      "text/plain": [
       "'Using output dir base: /opt/data/results/gls/gene_corrs/cohorts/1000g_eur/1000g/mashr'"
      ]
     },
     "metadata": {},
     "output_type": "display_data"
    }
   ],
   "source": [
    "OUTPUT_DIR_BASE = (\n",
    "    conf.RESULTS[\"GLS\"]\n",
    "    / \"gene_corrs\"\n",
    "    / \"cohorts\"\n",
    "    / COHORT_NAME\n",
    "    / REFERENCE_PANEL.lower()\n",
    "    / EQTL_MODEL.lower()\n",
    ")\n",
    "OUTPUT_DIR_BASE.mkdir(parents=True, exist_ok=True)\n",
    "\n",
    "display(f\"Using output dir base: {OUTPUT_DIR_BASE}\")"
   ]
  },
  {
   "cell_type": "code",
   "execution_count": 12,
   "id": "974b4bb1-aa98-4e30-b221-7cd034ad3833",
   "metadata": {
    "execution": {
     "iopub.execute_input": "2022-07-22T04:13:53.180383Z",
     "iopub.status.busy": "2022-07-22T04:13:53.179869Z",
     "iopub.status.idle": "2022-07-22T04:13:53.198675Z",
     "shell.execute_reply": "2022-07-22T04:13:53.198083Z"
    },
    "papermill": {
     "duration": 0.028831,
     "end_time": "2022-07-22T04:13:53.200242",
     "exception": false,
     "start_time": "2022-07-22T04:13:53.171411",
     "status": "completed"
    },
    "tags": []
   },
   "outputs": [
    {
     "data": {
      "text/plain": [
       "PosixPath('/opt/data/results/gls/gene_corrs/cohorts/1000g_eur')"
      ]
     },
     "metadata": {},
     "output_type": "display_data"
    }
   ],
   "source": [
    "INPUT_DIR = conf.RESULTS[\"GLS\"] / \"gene_corrs\" / \"cohorts\" / COHORT_NAME\n",
    "assert INPUT_DIR.exists()\n",
    "\n",
    "display(INPUT_DIR)"
   ]
  },
  {
   "cell_type": "markdown",
   "id": "d2ba085e",
   "metadata": {
    "papermill": {
     "duration": 0.007138,
     "end_time": "2022-07-22T04:13:53.215139",
     "exception": false,
     "start_time": "2022-07-22T04:13:53.208001",
     "status": "completed"
    },
    "tags": []
   },
   "source": [
    "# Load data"
   ]
  },
  {
   "cell_type": "markdown",
   "id": "7dcb8db7",
   "metadata": {
    "papermill": {
     "duration": 0.00703,
     "end_time": "2022-07-22T04:13:53.229589",
     "exception": false,
     "start_time": "2022-07-22T04:13:53.222559",
     "status": "completed"
    },
    "tags": []
   },
   "source": [
    "## GWAS variants"
   ]
  },
  {
   "cell_type": "code",
   "execution_count": 13,
   "id": "29434c4e-8cd3-4b9b-82e4-b5a251d9dd19",
   "metadata": {
    "execution": {
     "iopub.execute_input": "2022-07-22T04:13:53.244499Z",
     "iopub.status.busy": "2022-07-22T04:13:53.244040Z",
     "iopub.status.idle": "2022-07-22T04:13:55.870136Z",
     "shell.execute_reply": "2022-07-22T04:13:55.869540Z"
    },
    "papermill": {
     "duration": 2.635354,
     "end_time": "2022-07-22T04:13:55.871930",
     "exception": false,
     "start_time": "2022-07-22T04:13:53.236576",
     "status": "completed"
    },
    "tags": []
   },
   "outputs": [],
   "source": [
    "with open(INPUT_DIR / \"gwas_variant_ids.pkl\", \"rb\") as handle:\n",
    "    gwas_variants_ids_set = pickle.load(handle)"
   ]
  },
  {
   "cell_type": "code",
   "execution_count": 14,
   "id": "b9d9dec2-4a76-4bf9-bde2-e24c95acb8a0",
   "metadata": {
    "execution": {
     "iopub.execute_input": "2022-07-22T04:13:55.893279Z",
     "iopub.status.busy": "2022-07-22T04:13:55.893081Z",
     "iopub.status.idle": "2022-07-22T04:13:55.913708Z",
     "shell.execute_reply": "2022-07-22T04:13:55.913123Z"
    },
    "papermill": {
     "duration": 0.031769,
     "end_time": "2022-07-22T04:13:55.915114",
     "exception": false,
     "start_time": "2022-07-22T04:13:55.883345",
     "status": "completed"
    },
    "tags": []
   },
   "outputs": [
    {
     "data": {
      "text/plain": [
       "8339505"
      ]
     },
     "execution_count": 14,
     "metadata": {},
     "output_type": "execute_result"
    }
   ],
   "source": [
    "len(gwas_variants_ids_set)"
   ]
  },
  {
   "cell_type": "code",
   "execution_count": 15,
   "id": "4235b06a-6034-4ee4-a0a3-2ae35d122418",
   "metadata": {
    "execution": {
     "iopub.execute_input": "2022-07-22T04:13:55.933116Z",
     "iopub.status.busy": "2022-07-22T04:13:55.932922Z",
     "iopub.status.idle": "2022-07-22T04:13:56.428685Z",
     "shell.execute_reply": "2022-07-22T04:13:56.428110Z"
    },
    "papermill": {
     "duration": 0.505866,
     "end_time": "2022-07-22T04:13:56.430095",
     "exception": false,
     "start_time": "2022-07-22T04:13:55.924229",
     "status": "completed"
    },
    "tags": []
   },
   "outputs": [
    {
     "data": {
      "text/plain": [
       "['chr1_153568971_A_C_b38',\n",
       " 'chr15_97831609_C_G_b38',\n",
       " 'chr3_33183085_A_G_b38',\n",
       " 'chr20_57920385_A_G_b38',\n",
       " 'chr11_35492235_A_G_b38']"
      ]
     },
     "execution_count": 15,
     "metadata": {},
     "output_type": "execute_result"
    }
   ],
   "source": [
    "list(gwas_variants_ids_set)[:5]"
   ]
  },
  {
   "cell_type": "markdown",
   "id": "07866999-2305-41f9-a144-e69c9122c212",
   "metadata": {
    "papermill": {
     "duration": 0.007872,
     "end_time": "2022-07-22T04:13:56.446241",
     "exception": false,
     "start_time": "2022-07-22T04:13:56.438369",
     "status": "completed"
    },
    "tags": []
   },
   "source": [
    "## S-PrediXcan tissue models"
   ]
  },
  {
   "cell_type": "code",
   "execution_count": 16,
   "id": "780611d9-77c8-405f-90a4-f271f7b09397",
   "metadata": {
    "execution": {
     "iopub.execute_input": "2022-07-22T04:13:56.463102Z",
     "iopub.status.busy": "2022-07-22T04:13:56.462909Z",
     "iopub.status.idle": "2022-07-22T04:13:57.255084Z",
     "shell.execute_reply": "2022-07-22T04:13:57.254506Z"
    },
    "papermill": {
     "duration": 0.802341,
     "end_time": "2022-07-22T04:13:57.256635",
     "exception": false,
     "start_time": "2022-07-22T04:13:56.454294",
     "status": "completed"
    },
    "tags": []
   },
   "outputs": [],
   "source": [
    "spredixcan_genes_models = pd.read_pickle(INPUT_DIR / \"gene_tissues.pkl\").set_index(\n",
    "    \"gene_id\"\n",
    ")"
   ]
  },
  {
   "cell_type": "code",
   "execution_count": 17,
   "id": "726dd1f6-9557-4225-91fa-b3b879ea96e1",
   "metadata": {
    "execution": {
     "iopub.execute_input": "2022-07-22T04:13:57.273051Z",
     "iopub.status.busy": "2022-07-22T04:13:57.272870Z",
     "iopub.status.idle": "2022-07-22T04:13:57.289965Z",
     "shell.execute_reply": "2022-07-22T04:13:57.289435Z"
    },
    "papermill": {
     "duration": 0.026756,
     "end_time": "2022-07-22T04:13:57.291276",
     "exception": false,
     "start_time": "2022-07-22T04:13:57.264520",
     "status": "completed"
    },
    "tags": []
   },
   "outputs": [
    {
     "data": {
      "text/plain": [
       "(22314, 2)"
      ]
     },
     "execution_count": 17,
     "metadata": {},
     "output_type": "execute_result"
    }
   ],
   "source": [
    "spredixcan_genes_models.shape"
   ]
  },
  {
   "cell_type": "code",
   "execution_count": 18,
   "id": "944a1b48-222c-4eb0-b252-b9de2cbca215",
   "metadata": {
    "execution": {
     "iopub.execute_input": "2022-07-22T04:13:57.306917Z",
     "iopub.status.busy": "2022-07-22T04:13:57.306746Z",
     "iopub.status.idle": "2022-07-22T04:13:57.329295Z",
     "shell.execute_reply": "2022-07-22T04:13:57.328767Z"
    },
    "papermill": {
     "duration": 0.031857,
     "end_time": "2022-07-22T04:13:57.330560",
     "exception": false,
     "start_time": "2022-07-22T04:13:57.298703",
     "status": "completed"
    },
    "tags": []
   },
   "outputs": [
    {
     "data": {
      "text/html": [
       "<div>\n",
       "<style scoped>\n",
       "    .dataframe tbody tr th:only-of-type {\n",
       "        vertical-align: middle;\n",
       "    }\n",
       "\n",
       "    .dataframe tbody tr th {\n",
       "        vertical-align: top;\n",
       "    }\n",
       "\n",
       "    .dataframe thead th {\n",
       "        text-align: right;\n",
       "    }\n",
       "</style>\n",
       "<table border=\"1\" class=\"dataframe\">\n",
       "  <thead>\n",
       "    <tr style=\"text-align: right;\">\n",
       "      <th></th>\n",
       "      <th>gene_name</th>\n",
       "      <th>tissue</th>\n",
       "    </tr>\n",
       "    <tr>\n",
       "      <th>gene_id</th>\n",
       "      <th></th>\n",
       "      <th></th>\n",
       "    </tr>\n",
       "  </thead>\n",
       "  <tbody>\n",
       "    <tr>\n",
       "      <th>ENSG00000000419</th>\n",
       "      <td>DPM1</td>\n",
       "      <td>(Brain_Substantia_nigra, Brain_Hypothalamus)</td>\n",
       "    </tr>\n",
       "    <tr>\n",
       "      <th>ENSG00000000457</th>\n",
       "      <td>SCYL3</td>\n",
       "      <td>(Brain_Cortex, Brain_Cerebellum, Prostate, Adr...</td>\n",
       "    </tr>\n",
       "    <tr>\n",
       "      <th>ENSG00000000460</th>\n",
       "      <td>C1orf112</td>\n",
       "      <td>(Brain_Cortex, Brain_Cerebellum, Prostate, Adr...</td>\n",
       "    </tr>\n",
       "    <tr>\n",
       "      <th>ENSG00000000938</th>\n",
       "      <td>FGR</td>\n",
       "      <td>(Brain_Cortex, Brain_Cerebellum, Prostate, Ski...</td>\n",
       "    </tr>\n",
       "    <tr>\n",
       "      <th>ENSG00000000971</th>\n",
       "      <td>CFH</td>\n",
       "      <td>(Brain_Cortex, Brain_Cerebellum, Skin_Not_Sun_...</td>\n",
       "    </tr>\n",
       "  </tbody>\n",
       "</table>\n",
       "</div>"
      ],
      "text/plain": [
       "                gene_name                                             tissue\n",
       "gene_id                                                                     \n",
       "ENSG00000000419      DPM1       (Brain_Substantia_nigra, Brain_Hypothalamus)\n",
       "ENSG00000000457     SCYL3  (Brain_Cortex, Brain_Cerebellum, Prostate, Adr...\n",
       "ENSG00000000460  C1orf112  (Brain_Cortex, Brain_Cerebellum, Prostate, Adr...\n",
       "ENSG00000000938       FGR  (Brain_Cortex, Brain_Cerebellum, Prostate, Ski...\n",
       "ENSG00000000971       CFH  (Brain_Cortex, Brain_Cerebellum, Skin_Not_Sun_..."
      ]
     },
     "execution_count": 18,
     "metadata": {},
     "output_type": "execute_result"
    }
   ],
   "source": [
    "spredixcan_genes_models.head()"
   ]
  },
  {
   "cell_type": "code",
   "execution_count": 19,
   "id": "d1c11bb1-be0b-4f40-b360-633d6827109f",
   "metadata": {
    "execution": {
     "iopub.execute_input": "2022-07-22T04:13:57.345968Z",
     "iopub.status.busy": "2022-07-22T04:13:57.345797Z",
     "iopub.status.idle": "2022-07-22T04:13:57.362425Z",
     "shell.execute_reply": "2022-07-22T04:13:57.361901Z"
    },
    "papermill": {
     "duration": 0.025941,
     "end_time": "2022-07-22T04:13:57.363971",
     "exception": false,
     "start_time": "2022-07-22T04:13:57.338030",
     "status": "completed"
    },
    "tags": []
   },
   "outputs": [],
   "source": [
    "assert spredixcan_genes_models.index.is_unique"
   ]
  },
  {
   "cell_type": "markdown",
   "id": "6caf9d10-eda8-4ad2-8811-a983aa77a25a",
   "metadata": {
    "papermill": {
     "duration": 0.007131,
     "end_time": "2022-07-22T04:13:57.378338",
     "exception": false,
     "start_time": "2022-07-22T04:13:57.371207",
     "status": "completed"
    },
    "tags": []
   },
   "source": [
    "## Get common genes"
   ]
  },
  {
   "cell_type": "code",
   "execution_count": 20,
   "id": "f8d1e317-1cc8-4bdf-bbe9-c3b0a5478359",
   "metadata": {
    "execution": {
     "iopub.execute_input": "2022-07-22T04:13:57.392999Z",
     "iopub.status.busy": "2022-07-22T04:13:57.392831Z",
     "iopub.status.idle": "2022-07-22T04:13:57.408603Z",
     "shell.execute_reply": "2022-07-22T04:13:57.408083Z"
    },
    "papermill": {
     "duration": 0.02465,
     "end_time": "2022-07-22T04:13:57.410016",
     "exception": false,
     "start_time": "2022-07-22T04:13:57.385366",
     "status": "completed"
    },
    "tags": []
   },
   "outputs": [],
   "source": [
    "with open(INPUT_DIR / \"common_genes.pkl\", \"rb\") as handle:\n",
    "    common_genes = pickle.load(handle)"
   ]
  },
  {
   "cell_type": "code",
   "execution_count": 21,
   "id": "ce9506aa-2f38-4e46-b9c2-84d750fac0da",
   "metadata": {
    "execution": {
     "iopub.execute_input": "2022-07-22T04:13:57.425752Z",
     "iopub.status.busy": "2022-07-22T04:13:57.425307Z",
     "iopub.status.idle": "2022-07-22T04:13:57.441557Z",
     "shell.execute_reply": "2022-07-22T04:13:57.440975Z"
    },
    "papermill": {
     "duration": 0.025468,
     "end_time": "2022-07-22T04:13:57.443025",
     "exception": false,
     "start_time": "2022-07-22T04:13:57.417557",
     "status": "completed"
    },
    "tags": []
   },
   "outputs": [
    {
     "data": {
      "text/plain": [
       "6444"
      ]
     },
     "execution_count": 21,
     "metadata": {},
     "output_type": "execute_result"
    }
   ],
   "source": [
    "len(common_genes)"
   ]
  },
  {
   "cell_type": "code",
   "execution_count": 22,
   "id": "f525a698-506a-48e0-9aee-1aca62def5dd",
   "metadata": {
    "execution": {
     "iopub.execute_input": "2022-07-22T04:13:57.459018Z",
     "iopub.status.busy": "2022-07-22T04:13:57.458582Z",
     "iopub.status.idle": "2022-07-22T04:13:57.476923Z",
     "shell.execute_reply": "2022-07-22T04:13:57.476387Z"
    },
    "papermill": {
     "duration": 0.027592,
     "end_time": "2022-07-22T04:13:57.478215",
     "exception": false,
     "start_time": "2022-07-22T04:13:57.450623",
     "status": "completed"
    },
    "tags": []
   },
   "outputs": [
    {
     "data": {
      "text/plain": [
       "['A2M', 'AAAS', 'AANAT', 'AARS', 'AARS2']"
      ]
     },
     "execution_count": 22,
     "metadata": {},
     "output_type": "execute_result"
    }
   ],
   "source": [
    "sorted(list(common_genes))[:5]"
   ]
  },
  {
   "cell_type": "markdown",
   "id": "a5b5092c-a13e-47c4-a92a-480fcc08f3ae",
   "metadata": {
    "papermill": {
     "duration": 0.007223,
     "end_time": "2022-07-22T04:13:57.493097",
     "exception": false,
     "start_time": "2022-07-22T04:13:57.485874",
     "status": "completed"
    },
    "tags": []
   },
   "source": [
    "## Gene info"
   ]
  },
  {
   "cell_type": "code",
   "execution_count": 23,
   "id": "7d6bb224-88e9-4358-ac10-43a41d92cdad",
   "metadata": {
    "execution": {
     "iopub.execute_input": "2022-07-22T04:13:57.509015Z",
     "iopub.status.busy": "2022-07-22T04:13:57.508438Z",
     "iopub.status.idle": "2022-07-22T04:13:57.526436Z",
     "shell.execute_reply": "2022-07-22T04:13:57.525915Z"
    },
    "papermill": {
     "duration": 0.027547,
     "end_time": "2022-07-22T04:13:57.527832",
     "exception": false,
     "start_time": "2022-07-22T04:13:57.500285",
     "status": "completed"
    },
    "tags": []
   },
   "outputs": [],
   "source": [
    "genes_info = pd.read_pickle(INPUT_DIR / \"genes_info.pkl\")"
   ]
  },
  {
   "cell_type": "code",
   "execution_count": 24,
   "id": "9e32abfa-546d-483e-8c18-d526e9e05903",
   "metadata": {
    "execution": {
     "iopub.execute_input": "2022-07-22T04:13:57.543332Z",
     "iopub.status.busy": "2022-07-22T04:13:57.543035Z",
     "iopub.status.idle": "2022-07-22T04:13:57.559240Z",
     "shell.execute_reply": "2022-07-22T04:13:57.558697Z"
    },
    "papermill": {
     "duration": 0.025235,
     "end_time": "2022-07-22T04:13:57.560535",
     "exception": false,
     "start_time": "2022-07-22T04:13:57.535300",
     "status": "completed"
    },
    "tags": []
   },
   "outputs": [
    {
     "data": {
      "text/plain": [
       "(6444, 7)"
      ]
     },
     "execution_count": 24,
     "metadata": {},
     "output_type": "execute_result"
    }
   ],
   "source": [
    "genes_info.shape"
   ]
  },
  {
   "cell_type": "code",
   "execution_count": 25,
   "id": "d16c3e92-85ec-468a-9a56-e25a9774a1cb",
   "metadata": {
    "execution": {
     "iopub.execute_input": "2022-07-22T04:13:57.576660Z",
     "iopub.status.busy": "2022-07-22T04:13:57.576244Z",
     "iopub.status.idle": "2022-07-22T04:13:57.599523Z",
     "shell.execute_reply": "2022-07-22T04:13:57.598931Z"
    },
    "papermill": {
     "duration": 0.032821,
     "end_time": "2022-07-22T04:13:57.601026",
     "exception": false,
     "start_time": "2022-07-22T04:13:57.568205",
     "status": "completed"
    },
    "tags": []
   },
   "outputs": [
    {
     "data": {
      "text/html": [
       "<div>\n",
       "<style scoped>\n",
       "    .dataframe tbody tr th:only-of-type {\n",
       "        vertical-align: middle;\n",
       "    }\n",
       "\n",
       "    .dataframe tbody tr th {\n",
       "        vertical-align: top;\n",
       "    }\n",
       "\n",
       "    .dataframe thead th {\n",
       "        text-align: right;\n",
       "    }\n",
       "</style>\n",
       "<table border=\"1\" class=\"dataframe\">\n",
       "  <thead>\n",
       "    <tr style=\"text-align: right;\">\n",
       "      <th></th>\n",
       "      <th>name</th>\n",
       "      <th>id</th>\n",
       "      <th>chr</th>\n",
       "      <th>band</th>\n",
       "      <th>start_position</th>\n",
       "      <th>end_position</th>\n",
       "      <th>gene_length</th>\n",
       "    </tr>\n",
       "  </thead>\n",
       "  <tbody>\n",
       "    <tr>\n",
       "      <th>0</th>\n",
       "      <td>MFN2</td>\n",
       "      <td>ENSG00000116688</td>\n",
       "      <td>1</td>\n",
       "      <td>1p36.22</td>\n",
       "      <td>11980181.0</td>\n",
       "      <td>12013514.0</td>\n",
       "      <td>33333.0</td>\n",
       "    </tr>\n",
       "    <tr>\n",
       "      <th>1</th>\n",
       "      <td>PPA2</td>\n",
       "      <td>ENSG00000138777</td>\n",
       "      <td>4</td>\n",
       "      <td>4q24</td>\n",
       "      <td>105369077.0</td>\n",
       "      <td>105474067.0</td>\n",
       "      <td>104990.0</td>\n",
       "    </tr>\n",
       "    <tr>\n",
       "      <th>2</th>\n",
       "      <td>ADRA2A</td>\n",
       "      <td>ENSG00000150594</td>\n",
       "      <td>10</td>\n",
       "      <td>10q25.2</td>\n",
       "      <td>111077163.0</td>\n",
       "      <td>111080907.0</td>\n",
       "      <td>3744.0</td>\n",
       "    </tr>\n",
       "    <tr>\n",
       "      <th>3</th>\n",
       "      <td>RYR2</td>\n",
       "      <td>ENSG00000198626</td>\n",
       "      <td>1</td>\n",
       "      <td>1q43</td>\n",
       "      <td>237042184.0</td>\n",
       "      <td>237833988.0</td>\n",
       "      <td>791804.0</td>\n",
       "    </tr>\n",
       "    <tr>\n",
       "      <th>4</th>\n",
       "      <td>VAV2</td>\n",
       "      <td>ENSG00000160293</td>\n",
       "      <td>9</td>\n",
       "      <td>9q34.2</td>\n",
       "      <td>133761894.0</td>\n",
       "      <td>133992604.0</td>\n",
       "      <td>230710.0</td>\n",
       "    </tr>\n",
       "  </tbody>\n",
       "</table>\n",
       "</div>"
      ],
      "text/plain": [
       "     name               id chr     band  start_position  end_position  \\\n",
       "0    MFN2  ENSG00000116688   1  1p36.22      11980181.0    12013514.0   \n",
       "1    PPA2  ENSG00000138777   4     4q24     105369077.0   105474067.0   \n",
       "2  ADRA2A  ENSG00000150594  10  10q25.2     111077163.0   111080907.0   \n",
       "3    RYR2  ENSG00000198626   1     1q43     237042184.0   237833988.0   \n",
       "4    VAV2  ENSG00000160293   9   9q34.2     133761894.0   133992604.0   \n",
       "\n",
       "   gene_length  \n",
       "0      33333.0  \n",
       "1     104990.0  \n",
       "2       3744.0  \n",
       "3     791804.0  \n",
       "4     230710.0  "
      ]
     },
     "execution_count": 25,
     "metadata": {},
     "output_type": "execute_result"
    }
   ],
   "source": [
    "genes_info.head()"
   ]
  },
  {
   "cell_type": "markdown",
   "id": "d3843e06",
   "metadata": {
    "papermill": {
     "duration": 0.008853,
     "end_time": "2022-07-22T04:13:57.618932",
     "exception": false,
     "start_time": "2022-07-22T04:13:57.610079",
     "status": "completed"
    },
    "tags": []
   },
   "source": [
    "# Compute correlations"
   ]
  },
  {
   "cell_type": "code",
   "execution_count": 26,
   "id": "cb859c15-d1f3-4006-a74c-2b83c0db9611",
   "metadata": {
    "execution": {
     "iopub.execute_input": "2022-07-22T04:13:57.642305Z",
     "iopub.status.busy": "2022-07-22T04:13:57.642128Z",
     "iopub.status.idle": "2022-07-22T04:13:57.659048Z",
     "shell.execute_reply": "2022-07-22T04:13:57.658582Z"
    },
    "papermill": {
     "duration": 0.032994,
     "end_time": "2022-07-22T04:13:57.660634",
     "exception": false,
     "start_time": "2022-07-22T04:13:57.627640",
     "status": "completed"
    },
    "tags": []
   },
   "outputs": [
    {
     "data": {
      "text/plain": [
       "PosixPath('/opt/data/results/gls/gene_corrs/cohorts/1000g_eur/1000g/mashr/by_chr/gene_corrs-chr11.pkl')"
      ]
     },
     "metadata": {},
     "output_type": "display_data"
    }
   ],
   "source": [
    "output_dir = OUTPUT_DIR_BASE / \"by_chr\"\n",
    "output_dir.mkdir(exist_ok=True, parents=True)\n",
    "output_file = output_dir / f\"gene_corrs-chr{CHROMOSOME}.pkl\"\n",
    "display(output_file)"
   ]
  },
  {
   "cell_type": "code",
   "execution_count": 27,
   "id": "aa674fe4-6794-4eed-98fa-32b39d1d4ace",
   "metadata": {
    "execution": {
     "iopub.execute_input": "2022-07-22T04:13:57.678250Z",
     "iopub.status.busy": "2022-07-22T04:13:57.677842Z",
     "iopub.status.idle": "2022-07-22T04:13:57.692651Z",
     "shell.execute_reply": "2022-07-22T04:13:57.692113Z"
    },
    "papermill": {
     "duration": 0.024864,
     "end_time": "2022-07-22T04:13:57.694011",
     "exception": false,
     "start_time": "2022-07-22T04:13:57.669147",
     "status": "completed"
    },
    "tags": []
   },
   "outputs": [],
   "source": [
    "warnings.filterwarnings(\"error\")"
   ]
  },
  {
   "cell_type": "code",
   "execution_count": 28,
   "id": "44d5450b-3baf-43f1-9e2e-4b06f1a785f8",
   "metadata": {
    "execution": {
     "iopub.execute_input": "2022-07-22T04:13:57.711084Z",
     "iopub.status.busy": "2022-07-22T04:13:57.710829Z",
     "iopub.status.idle": "2022-07-22T04:13:57.726589Z",
     "shell.execute_reply": "2022-07-22T04:13:57.726069Z"
    },
    "papermill": {
     "duration": 0.025738,
     "end_time": "2022-07-22T04:13:57.728129",
     "exception": false,
     "start_time": "2022-07-22T04:13:57.702391",
     "status": "completed"
    },
    "tags": []
   },
   "outputs": [],
   "source": [
    "# standard checks\n",
    "all_chrs = genes_info[\"chr\"].dropna().unique()\n",
    "assert all_chrs.shape[0] == 22\n",
    "\n",
    "# select chromosome given by the user\n",
    "assert CHROMOSOME in all_chrs"
   ]
  },
  {
   "cell_type": "code",
   "execution_count": 29,
   "id": "2d7c043c-92a7-4d35-991b-fa69ac1e0268",
   "metadata": {
    "execution": {
     "iopub.execute_input": "2022-07-22T04:13:57.745433Z",
     "iopub.status.busy": "2022-07-22T04:13:57.745126Z",
     "iopub.status.idle": "2022-07-22T04:13:57.761645Z",
     "shell.execute_reply": "2022-07-22T04:13:57.761139Z"
    },
    "papermill": {
     "duration": 0.02632,
     "end_time": "2022-07-22T04:13:57.762845",
     "exception": false,
     "start_time": "2022-07-22T04:13:57.736525",
     "status": "completed"
    },
    "tags": []
   },
   "outputs": [
    {
     "name": "stdout",
     "output_type": "stream",
     "text": [
      "Number of genes in chromosome: 387\n"
     ]
    }
   ],
   "source": [
    "# run only on the chromosome specified\n",
    "all_chrs = [CHROMOSOME]\n",
    "genes_chr = genes_info[genes_info[\"chr\"] == CHROMOSOME]\n",
    "\n",
    "# For testing purposes\n",
    "# genes_chr = genes_chr.sample(n=20)\n",
    "\n",
    "print(f\"Number of genes in chromosome: {genes_chr.shape[0]}\", flush=True)"
   ]
  },
  {
   "cell_type": "code",
   "execution_count": 30,
   "id": "916015d8-2979-46d3-a9b9-1cf5a0932c6a",
   "metadata": {
    "execution": {
     "iopub.execute_input": "2022-07-22T04:13:57.779815Z",
     "iopub.status.busy": "2022-07-22T04:13:57.779636Z",
     "iopub.status.idle": "2022-07-22T04:13:57.794495Z",
     "shell.execute_reply": "2022-07-22T04:13:57.793976Z"
    },
    "papermill": {
     "duration": 0.025107,
     "end_time": "2022-07-22T04:13:57.795970",
     "exception": false,
     "start_time": "2022-07-22T04:13:57.770863",
     "status": "completed"
    },
    "tags": []
   },
   "outputs": [],
   "source": [
    "# sort genes by starting position to make visualizations better later\n",
    "genes_chr = genes_chr.sort_values(\"start_position\")"
   ]
  },
  {
   "cell_type": "code",
   "execution_count": 31,
   "id": "a38aa74a-8ad3-47f6-8ef9-56be0e011774",
   "metadata": {
    "execution": {
     "iopub.execute_input": "2022-07-22T04:13:57.812310Z",
     "iopub.status.busy": "2022-07-22T04:13:57.812143Z",
     "iopub.status.idle": "2022-07-22T04:13:57.827449Z",
     "shell.execute_reply": "2022-07-22T04:13:57.826945Z"
    },
    "papermill": {
     "duration": 0.024982,
     "end_time": "2022-07-22T04:13:57.828733",
     "exception": false,
     "start_time": "2022-07-22T04:13:57.803751",
     "status": "completed"
    },
    "tags": []
   },
   "outputs": [],
   "source": [
    "gene_chr_objs = [Gene(ensembl_id=gene_id) for gene_id in genes_chr[\"id\"]]"
   ]
  },
  {
   "cell_type": "code",
   "execution_count": 32,
   "id": "570f974f-13c3-42b6-ad3a-ce99ca885c1a",
   "metadata": {
    "execution": {
     "iopub.execute_input": "2022-07-22T04:13:57.845375Z",
     "iopub.status.busy": "2022-07-22T04:13:57.844892Z",
     "iopub.status.idle": "2022-07-22T04:13:57.859627Z",
     "shell.execute_reply": "2022-07-22T04:13:57.859204Z"
    },
    "papermill": {
     "duration": 0.024154,
     "end_time": "2022-07-22T04:13:57.860838",
     "exception": false,
     "start_time": "2022-07-22T04:13:57.836684",
     "status": "completed"
    },
    "tags": []
   },
   "outputs": [
    {
     "name": "stdout",
     "output_type": "stream",
     "text": [
      "Number of gene combinations: 74691\n"
     ]
    }
   ],
   "source": [
    "n = len(gene_chr_objs)\n",
    "n_comb = int(n * (n - 1) / 2.0)\n",
    "print(f\"Number of gene combinations: {n_comb}\", flush=True)"
   ]
  },
  {
   "cell_type": "code",
   "execution_count": 33,
   "id": "cdbb90a1",
   "metadata": {
    "execution": {
     "iopub.execute_input": "2022-07-22T04:13:57.888529Z",
     "iopub.status.busy": "2022-07-22T04:13:57.887422Z",
     "iopub.status.idle": "2022-07-22T04:28:13.827194Z",
     "shell.execute_reply": "2022-07-22T04:28:13.826614Z"
    },
    "papermill": {
     "duration": 855.952009,
     "end_time": "2022-07-22T04:28:13.828968",
     "exception": false,
     "start_time": "2022-07-22T04:13:57.876959",
     "status": "completed"
    },
    "tags": []
   },
   "outputs": [
    {
     "name": "stderr",
     "output_type": "stream",
     "text": [
      "ENSG00000151498 / ENSG00000109956: 100%|██████████████████████| 74691/74691 [14:15<00:00, 87.27it/s]\n"
     ]
    },
    {
     "data": {
      "text/plain": [
       "PosixPath('/opt/data/results/gls/gene_corrs/cohorts/1000g_eur/1000g/mashr/by_chr/gene_corrs-chr11.pkl')"
      ]
     },
     "metadata": {},
     "output_type": "display_data"
    }
   ],
   "source": [
    "gene_corrs = []\n",
    "\n",
    "i = 0\n",
    "with tqdm(ncols=100, total=n_comb) as pbar:\n",
    "    for gene1_idx in range(0, len(gene_chr_objs) - 1):\n",
    "        gene1_obj = gene_chr_objs[gene1_idx]\n",
    "        gene1_tissues = spredixcan_genes_models.loc[gene1_obj.ensembl_id, \"tissue\"]\n",
    "\n",
    "        for gene2_idx in range(gene1_idx + 1, len(gene_chr_objs)):\n",
    "            gene2_obj = gene_chr_objs[gene2_idx]\n",
    "            gene2_tissues = spredixcan_genes_models.loc[gene2_obj.ensembl_id, \"tissue\"]\n",
    "\n",
    "            pbar.set_description(f\"{gene1_obj.ensembl_id} / {gene2_obj.ensembl_id}\")\n",
    "\n",
    "            try:\n",
    "                r = gene1_obj.get_ssm_correlation(\n",
    "                    other_gene=gene2_obj,\n",
    "                    tissues=gene1_tissues,\n",
    "                    other_tissues=gene2_tissues,\n",
    "                    snps_subset=gwas_variants_ids_set,\n",
    "                    condition_number=SMULTIXCAN_CONDITION_NUMBER,\n",
    "                    reference_panel=REFERENCE_PANEL,\n",
    "                    model_type=EQTL_MODEL,\n",
    "                    use_within_distance=COMPUTE_CORRELATIONS_WITHIN_DISTANCE,\n",
    "                )\n",
    "\n",
    "                if r is None:\n",
    "                    # if r is None, it's very likely because:\n",
    "                    #  * one of the genes has no prediction models\n",
    "                    #  * all the SNPs predictors for the gene are not present in the reference\n",
    "                    #    panel\n",
    "\n",
    "                    r = 0.0\n",
    "\n",
    "                gene_corrs.append(r)\n",
    "            except Warning as e:\n",
    "                if not DEBUG_MODE:\n",
    "                    raise e\n",
    "\n",
    "                print(\n",
    "                    f\"RuntimeWarning for genes {gene1_obj.ensembl_id} and {gene2_obj.ensembl_id}\",\n",
    "                    flush=True,\n",
    "                )\n",
    "                print(traceback.format_exc(), flush=True)\n",
    "\n",
    "                gene_corrs.append(np.nan)\n",
    "            except Exception as e:\n",
    "                if not DEBUG_MODE:\n",
    "                    raise e\n",
    "\n",
    "                print(\n",
    "                    f\"Exception for genes {gene1_obj.ensembl_id} and {gene2_obj.ensembl_id}\",\n",
    "                    flush=True,\n",
    "                )\n",
    "                print(traceback.format_exc(), flush=True)\n",
    "\n",
    "                gene_corrs.append(np.nan)\n",
    "\n",
    "            pbar.update(1)\n",
    "\n",
    "# create a pandas series\n",
    "gene_corrs_flat = pd.Series(gene_corrs)\n",
    "\n",
    "# save\n",
    "# FIXME: consider saving only the condenced matrix here. See here for\n",
    "# more details: https://github.com/greenelab/phenoplier/pull/38#discussion_r634600813\n",
    "gene_corrs_data = squareform(np.array(gene_corrs, dtype=np.float64))\n",
    "np.fill_diagonal(gene_corrs_data, 1.0)\n",
    "\n",
    "gene_chr_ids = [g.ensembl_id for g in gene_chr_objs]\n",
    "gene_corrs_df = pd.DataFrame(\n",
    "    data=gene_corrs_data,\n",
    "    index=gene_chr_ids,\n",
    "    columns=gene_chr_ids,\n",
    ")\n",
    "\n",
    "output_dir.mkdir(exist_ok=True, parents=True)\n",
    "display(output_file)\n",
    "\n",
    "gene_corrs_df.to_pickle(output_file)"
   ]
  },
  {
   "cell_type": "markdown",
   "id": "faa67b51-5373-470f-aa72-2ded53fa6dfe",
   "metadata": {
    "papermill": {
     "duration": 2.904059,
     "end_time": "2022-07-22T04:28:19.733536",
     "exception": false,
     "start_time": "2022-07-22T04:28:16.829477",
     "status": "completed"
    },
    "tags": []
   },
   "source": [
    "# Testing"
   ]
  },
  {
   "cell_type": "code",
   "execution_count": 34,
   "id": "14f7d046-4b55-4896-a56b-990127bcc388",
   "metadata": {
    "execution": {
     "iopub.execute_input": "2022-07-22T04:28:25.436904Z",
     "iopub.status.busy": "2022-07-22T04:28:25.436717Z",
     "iopub.status.idle": "2022-07-22T04:28:25.454139Z",
     "shell.execute_reply": "2022-07-22T04:28:25.453654Z"
    },
    "papermill": {
     "duration": 2.861661,
     "end_time": "2022-07-22T04:28:25.455492",
     "exception": false,
     "start_time": "2022-07-22T04:28:22.593831",
     "status": "completed"
    },
    "tags": []
   },
   "outputs": [
    {
     "data": {
      "text/plain": [
       "(387, 387)"
      ]
     },
     "execution_count": 34,
     "metadata": {},
     "output_type": "execute_result"
    }
   ],
   "source": [
    "gene_corrs_df.shape"
   ]
  },
  {
   "cell_type": "code",
   "execution_count": 35,
   "id": "c7d15414-3297-4537-a7c6-7588c0baeb75",
   "metadata": {
    "execution": {
     "iopub.execute_input": "2022-07-22T04:28:31.066839Z",
     "iopub.status.busy": "2022-07-22T04:28:31.066671Z",
     "iopub.status.idle": "2022-07-22T04:28:31.096007Z",
     "shell.execute_reply": "2022-07-22T04:28:31.095535Z"
    },
    "papermill": {
     "duration": 2.877956,
     "end_time": "2022-07-22T04:28:31.097588",
     "exception": false,
     "start_time": "2022-07-22T04:28:28.219632",
     "status": "completed"
    },
    "tags": []
   },
   "outputs": [
    {
     "data": {
      "text/html": [
       "<div>\n",
       "<style scoped>\n",
       "    .dataframe tbody tr th:only-of-type {\n",
       "        vertical-align: middle;\n",
       "    }\n",
       "\n",
       "    .dataframe tbody tr th {\n",
       "        vertical-align: top;\n",
       "    }\n",
       "\n",
       "    .dataframe thead th {\n",
       "        text-align: right;\n",
       "    }\n",
       "</style>\n",
       "<table border=\"1\" class=\"dataframe\">\n",
       "  <thead>\n",
       "    <tr style=\"text-align: right;\">\n",
       "      <th></th>\n",
       "      <th>ENSG00000177951</th>\n",
       "      <th>ENSG00000142082</th>\n",
       "      <th>ENSG00000185627</th>\n",
       "      <th>ENSG00000185201</th>\n",
       "      <th>ENSG00000185885</th>\n",
       "      <th>ENSG00000142089</th>\n",
       "      <th>ENSG00000185187</th>\n",
       "      <th>ENSG00000174915</th>\n",
       "      <th>ENSG00000174775</th>\n",
       "      <th>ENSG00000185507</th>\n",
       "      <th>...</th>\n",
       "      <th>ENSG00000150455</th>\n",
       "      <th>ENSG00000110063</th>\n",
       "      <th>ENSG00000110080</th>\n",
       "      <th>ENSG00000149571</th>\n",
       "      <th>ENSG00000134954</th>\n",
       "      <th>ENSG00000134909</th>\n",
       "      <th>ENSG00000043039</th>\n",
       "      <th>ENSG00000166086</th>\n",
       "      <th>ENSG00000151498</th>\n",
       "      <th>ENSG00000109956</th>\n",
       "    </tr>\n",
       "  </thead>\n",
       "  <tbody>\n",
       "    <tr>\n",
       "      <th>ENSG00000177951</th>\n",
       "      <td>1.000000</td>\n",
       "      <td>0.650067</td>\n",
       "      <td>0.368669</td>\n",
       "      <td>0.027516</td>\n",
       "      <td>0.034278</td>\n",
       "      <td>0.042097</td>\n",
       "      <td>0.012911</td>\n",
       "      <td>0.013096</td>\n",
       "      <td>0.008951</td>\n",
       "      <td>0.019309</td>\n",
       "      <td>...</td>\n",
       "      <td>0.0</td>\n",
       "      <td>0.0</td>\n",
       "      <td>0.0</td>\n",
       "      <td>0.0</td>\n",
       "      <td>0.0</td>\n",
       "      <td>0.0</td>\n",
       "      <td>0.0</td>\n",
       "      <td>0.0</td>\n",
       "      <td>0.0</td>\n",
       "      <td>0.0</td>\n",
       "    </tr>\n",
       "    <tr>\n",
       "      <th>ENSG00000142082</th>\n",
       "      <td>0.650067</td>\n",
       "      <td>1.000000</td>\n",
       "      <td>0.497743</td>\n",
       "      <td>0.023876</td>\n",
       "      <td>0.032387</td>\n",
       "      <td>0.040002</td>\n",
       "      <td>0.009489</td>\n",
       "      <td>0.007992</td>\n",
       "      <td>0.006318</td>\n",
       "      <td>0.012885</td>\n",
       "      <td>...</td>\n",
       "      <td>0.0</td>\n",
       "      <td>0.0</td>\n",
       "      <td>0.0</td>\n",
       "      <td>0.0</td>\n",
       "      <td>0.0</td>\n",
       "      <td>0.0</td>\n",
       "      <td>0.0</td>\n",
       "      <td>0.0</td>\n",
       "      <td>0.0</td>\n",
       "      <td>0.0</td>\n",
       "    </tr>\n",
       "    <tr>\n",
       "      <th>ENSG00000185627</th>\n",
       "      <td>0.368669</td>\n",
       "      <td>0.497743</td>\n",
       "      <td>1.000000</td>\n",
       "      <td>0.004296</td>\n",
       "      <td>0.003066</td>\n",
       "      <td>0.007544</td>\n",
       "      <td>0.001665</td>\n",
       "      <td>0.002369</td>\n",
       "      <td>0.002762</td>\n",
       "      <td>0.004459</td>\n",
       "      <td>...</td>\n",
       "      <td>0.0</td>\n",
       "      <td>0.0</td>\n",
       "      <td>0.0</td>\n",
       "      <td>0.0</td>\n",
       "      <td>0.0</td>\n",
       "      <td>0.0</td>\n",
       "      <td>0.0</td>\n",
       "      <td>0.0</td>\n",
       "      <td>0.0</td>\n",
       "      <td>0.0</td>\n",
       "    </tr>\n",
       "    <tr>\n",
       "      <th>ENSG00000185201</th>\n",
       "      <td>0.027516</td>\n",
       "      <td>0.023876</td>\n",
       "      <td>0.004296</td>\n",
       "      <td>1.000000</td>\n",
       "      <td>0.352131</td>\n",
       "      <td>0.319250</td>\n",
       "      <td>0.014758</td>\n",
       "      <td>0.015452</td>\n",
       "      <td>0.012131</td>\n",
       "      <td>0.018634</td>\n",
       "      <td>...</td>\n",
       "      <td>0.0</td>\n",
       "      <td>0.0</td>\n",
       "      <td>0.0</td>\n",
       "      <td>0.0</td>\n",
       "      <td>0.0</td>\n",
       "      <td>0.0</td>\n",
       "      <td>0.0</td>\n",
       "      <td>0.0</td>\n",
       "      <td>0.0</td>\n",
       "      <td>0.0</td>\n",
       "    </tr>\n",
       "    <tr>\n",
       "      <th>ENSG00000185885</th>\n",
       "      <td>0.034278</td>\n",
       "      <td>0.032387</td>\n",
       "      <td>0.003066</td>\n",
       "      <td>0.352131</td>\n",
       "      <td>1.000000</td>\n",
       "      <td>0.423385</td>\n",
       "      <td>0.020426</td>\n",
       "      <td>0.019608</td>\n",
       "      <td>0.022478</td>\n",
       "      <td>0.024738</td>\n",
       "      <td>...</td>\n",
       "      <td>0.0</td>\n",
       "      <td>0.0</td>\n",
       "      <td>0.0</td>\n",
       "      <td>0.0</td>\n",
       "      <td>0.0</td>\n",
       "      <td>0.0</td>\n",
       "      <td>0.0</td>\n",
       "      <td>0.0</td>\n",
       "      <td>0.0</td>\n",
       "      <td>0.0</td>\n",
       "    </tr>\n",
       "  </tbody>\n",
       "</table>\n",
       "<p>5 rows × 387 columns</p>\n",
       "</div>"
      ],
      "text/plain": [
       "                 ENSG00000177951  ENSG00000142082  ENSG00000185627  \\\n",
       "ENSG00000177951         1.000000         0.650067         0.368669   \n",
       "ENSG00000142082         0.650067         1.000000         0.497743   \n",
       "ENSG00000185627         0.368669         0.497743         1.000000   \n",
       "ENSG00000185201         0.027516         0.023876         0.004296   \n",
       "ENSG00000185885         0.034278         0.032387         0.003066   \n",
       "\n",
       "                 ENSG00000185201  ENSG00000185885  ENSG00000142089  \\\n",
       "ENSG00000177951         0.027516         0.034278         0.042097   \n",
       "ENSG00000142082         0.023876         0.032387         0.040002   \n",
       "ENSG00000185627         0.004296         0.003066         0.007544   \n",
       "ENSG00000185201         1.000000         0.352131         0.319250   \n",
       "ENSG00000185885         0.352131         1.000000         0.423385   \n",
       "\n",
       "                 ENSG00000185187  ENSG00000174915  ENSG00000174775  \\\n",
       "ENSG00000177951         0.012911         0.013096         0.008951   \n",
       "ENSG00000142082         0.009489         0.007992         0.006318   \n",
       "ENSG00000185627         0.001665         0.002369         0.002762   \n",
       "ENSG00000185201         0.014758         0.015452         0.012131   \n",
       "ENSG00000185885         0.020426         0.019608         0.022478   \n",
       "\n",
       "                 ENSG00000185507  ...  ENSG00000150455  ENSG00000110063  \\\n",
       "ENSG00000177951         0.019309  ...              0.0              0.0   \n",
       "ENSG00000142082         0.012885  ...              0.0              0.0   \n",
       "ENSG00000185627         0.004459  ...              0.0              0.0   \n",
       "ENSG00000185201         0.018634  ...              0.0              0.0   \n",
       "ENSG00000185885         0.024738  ...              0.0              0.0   \n",
       "\n",
       "                 ENSG00000110080  ENSG00000149571  ENSG00000134954  \\\n",
       "ENSG00000177951              0.0              0.0              0.0   \n",
       "ENSG00000142082              0.0              0.0              0.0   \n",
       "ENSG00000185627              0.0              0.0              0.0   \n",
       "ENSG00000185201              0.0              0.0              0.0   \n",
       "ENSG00000185885              0.0              0.0              0.0   \n",
       "\n",
       "                 ENSG00000134909  ENSG00000043039  ENSG00000166086  \\\n",
       "ENSG00000177951              0.0              0.0              0.0   \n",
       "ENSG00000142082              0.0              0.0              0.0   \n",
       "ENSG00000185627              0.0              0.0              0.0   \n",
       "ENSG00000185201              0.0              0.0              0.0   \n",
       "ENSG00000185885              0.0              0.0              0.0   \n",
       "\n",
       "                 ENSG00000151498  ENSG00000109956  \n",
       "ENSG00000177951              0.0              0.0  \n",
       "ENSG00000142082              0.0              0.0  \n",
       "ENSG00000185627              0.0              0.0  \n",
       "ENSG00000185201              0.0              0.0  \n",
       "ENSG00000185885              0.0              0.0  \n",
       "\n",
       "[5 rows x 387 columns]"
      ]
     },
     "execution_count": 35,
     "metadata": {},
     "output_type": "execute_result"
    }
   ],
   "source": [
    "gene_corrs_df.head()"
   ]
  },
  {
   "cell_type": "markdown",
   "id": "dad6603f-01c6-41fb-a6f6-241051207dd8",
   "metadata": {
    "papermill": {
     "duration": 2.853514,
     "end_time": "2022-07-22T04:28:36.740027",
     "exception": false,
     "start_time": "2022-07-22T04:28:33.886513",
     "status": "completed"
    },
    "tags": []
   },
   "source": [
    "## Standard checks and stats"
   ]
  },
  {
   "cell_type": "code",
   "execution_count": 36,
   "id": "286686af-1b7b-4440-8453-6bdcbd8de19c",
   "metadata": {
    "execution": {
     "iopub.execute_input": "2022-07-22T04:28:42.349965Z",
     "iopub.status.busy": "2022-07-22T04:28:42.349796Z",
     "iopub.status.idle": "2022-07-22T04:28:42.366422Z",
     "shell.execute_reply": "2022-07-22T04:28:42.365867Z"
    },
    "papermill": {
     "duration": 2.786513,
     "end_time": "2022-07-22T04:28:42.367815",
     "exception": false,
     "start_time": "2022-07-22T04:28:39.581302",
     "status": "completed"
    },
    "tags": []
   },
   "outputs": [],
   "source": [
    "assert not gene_corrs_df.isna().any().any()"
   ]
  },
  {
   "cell_type": "code",
   "execution_count": 37,
   "id": "00583efc-7068-4270-ad1e-4a418e91db96",
   "metadata": {
    "execution": {
     "iopub.execute_input": "2022-07-22T04:28:47.979037Z",
     "iopub.status.busy": "2022-07-22T04:28:47.970501Z",
     "iopub.status.idle": "2022-07-22T04:28:48.000798Z",
     "shell.execute_reply": "2022-07-22T04:28:48.000324Z"
    },
    "papermill": {
     "duration": 2.776175,
     "end_time": "2022-07-22T04:28:48.002400",
     "exception": false,
     "start_time": "2022-07-22T04:28:45.226225",
     "status": "completed"
    },
    "tags": []
   },
   "outputs": [
    {
     "data": {
      "text/plain": [
       "0.0"
      ]
     },
     "metadata": {},
     "output_type": "display_data"
    }
   ],
   "source": [
    "_min_val = gene_corrs_df.min().min()\n",
    "display(_min_val)\n",
    "assert _min_val >= 0.0"
   ]
  },
  {
   "cell_type": "code",
   "execution_count": 38,
   "id": "d04fb2cf-1050-475b-b855-f5f7cc04092b",
   "metadata": {
    "execution": {
     "iopub.execute_input": "2022-07-22T04:28:53.677861Z",
     "iopub.status.busy": "2022-07-22T04:28:53.677693Z",
     "iopub.status.idle": "2022-07-22T04:28:53.695643Z",
     "shell.execute_reply": "2022-07-22T04:28:53.695195Z"
    },
    "papermill": {
     "duration": 2.801278,
     "end_time": "2022-07-22T04:28:53.696954",
     "exception": false,
     "start_time": "2022-07-22T04:28:50.895676",
     "status": "completed"
    },
    "tags": []
   },
   "outputs": [
    {
     "data": {
      "text/plain": [
       "1.0"
      ]
     },
     "metadata": {},
     "output_type": "display_data"
    }
   ],
   "source": [
    "_max_val = gene_corrs_df.max().max()  # this captures the diagonal\n",
    "display(_max_val)\n",
    "assert _max_val <= 1.0"
   ]
  },
  {
   "cell_type": "code",
   "execution_count": 39,
   "id": "96d02c44-1fba-47be-8a93-8f2608420b9c",
   "metadata": {
    "execution": {
     "iopub.execute_input": "2022-07-22T04:28:59.335650Z",
     "iopub.status.busy": "2022-07-22T04:28:59.335455Z",
     "iopub.status.idle": "2022-07-22T04:28:59.350727Z",
     "shell.execute_reply": "2022-07-22T04:28:59.350187Z"
    },
    "papermill": {
     "duration": 2.797142,
     "end_time": "2022-07-22T04:28:59.352072",
     "exception": false,
     "start_time": "2022-07-22T04:28:56.554930",
     "status": "completed"
    },
    "tags": []
   },
   "outputs": [],
   "source": [
    "# check upper triangular values\n",
    "assert len(gene_corrs) == int(genes_chr.shape[0] * (genes_chr.shape[0] - 1) / 2)"
   ]
  },
  {
   "cell_type": "code",
   "execution_count": 40,
   "id": "fe283586-c348-40e0-8841-f6d97bfb021c",
   "metadata": {
    "execution": {
     "iopub.execute_input": "2022-07-22T04:29:04.988971Z",
     "iopub.status.busy": "2022-07-22T04:29:04.988805Z",
     "iopub.status.idle": "2022-07-22T04:29:05.010358Z",
     "shell.execute_reply": "2022-07-22T04:29:05.009825Z"
    },
    "papermill": {
     "duration": 2.800085,
     "end_time": "2022-07-22T04:29:05.011728",
     "exception": false,
     "start_time": "2022-07-22T04:29:02.211643",
     "status": "completed"
    },
    "tags": []
   },
   "outputs": [
    {
     "data": {
      "text/plain": [
       "count    74691.000000\n",
       "mean         0.003900\n",
       "std          0.033284\n",
       "min          0.000000\n",
       "25%          0.000000\n",
       "50%          0.000000\n",
       "75%          0.000000\n",
       "max          0.999961\n",
       "dtype: float64"
      ]
     },
     "execution_count": 40,
     "metadata": {},
     "output_type": "execute_result"
    }
   ],
   "source": [
    "gene_corrs_flat.describe()"
   ]
  },
  {
   "cell_type": "code",
   "execution_count": 41,
   "id": "b3815678-0f93-4b35-897b-a9d047a2aa78",
   "metadata": {
    "execution": {
     "iopub.execute_input": "2022-07-22T04:29:10.640808Z",
     "iopub.status.busy": "2022-07-22T04:29:10.640644Z",
     "iopub.status.idle": "2022-07-22T04:29:10.661280Z",
     "shell.execute_reply": "2022-07-22T04:29:10.660761Z"
    },
    "papermill": {
     "duration": 2.837522,
     "end_time": "2022-07-22T04:29:10.662544",
     "exception": false,
     "start_time": "2022-07-22T04:29:07.825022",
     "status": "completed"
    },
    "tags": []
   },
   "outputs": [
    {
     "data": {
      "text/plain": [
       "0.00    0.000000\n",
       "0.05    0.000000\n",
       "0.10    0.000000\n",
       "0.15    0.000000\n",
       "0.20    0.000000\n",
       "0.25    0.000000\n",
       "0.30    0.000000\n",
       "0.35    0.000000\n",
       "0.40    0.000000\n",
       "0.45    0.000000\n",
       "0.50    0.000000\n",
       "0.55    0.000000\n",
       "0.60    0.000000\n",
       "0.65    0.000000\n",
       "0.70    0.000000\n",
       "0.75    0.000000\n",
       "0.80    0.000000\n",
       "0.85    0.000000\n",
       "0.90    0.004526\n",
       "0.95    0.010384\n",
       "dtype: float64"
      ]
     },
     "metadata": {},
     "output_type": "display_data"
    }
   ],
   "source": [
    "gene_corrs_quantiles = gene_corrs_flat.quantile(np.arange(0, 1, 0.05))\n",
    "display(gene_corrs_quantiles)"
   ]
  },
  {
   "cell_type": "markdown",
   "id": "87134509-b145-4a10-8bc9-b7e914c2b0fa",
   "metadata": {
    "papermill": {
     "duration": 2.799821,
     "end_time": "2022-07-22T04:29:16.315013",
     "exception": false,
     "start_time": "2022-07-22T04:29:13.515192",
     "status": "completed"
    },
    "tags": []
   },
   "source": [
    "## Positive definiteness"
   ]
  },
  {
   "cell_type": "code",
   "execution_count": 42,
   "id": "07d9a9a1-a4f7-48aa-b916-6d42a8cc6186",
   "metadata": {
    "execution": {
     "iopub.execute_input": "2022-07-22T04:29:21.953158Z",
     "iopub.status.busy": "2022-07-22T04:29:21.952987Z",
     "iopub.status.idle": "2022-07-22T04:29:22.006135Z",
     "shell.execute_reply": "2022-07-22T04:29:22.005741Z"
    },
    "papermill": {
     "duration": 2.901742,
     "end_time": "2022-07-22T04:29:22.007327",
     "exception": false,
     "start_time": "2022-07-22T04:29:19.105585",
     "status": "completed"
    },
    "tags": []
   },
   "outputs": [
    {
     "data": {
      "text/plain": [
       "1"
      ]
     },
     "metadata": {},
     "output_type": "display_data"
    },
    {
     "data": {
      "text/plain": [
       "array([-9.0853369e-06])"
      ]
     },
     "metadata": {},
     "output_type": "display_data"
    }
   ],
   "source": [
    "# print negative eigenvalues\n",
    "eigs = np.linalg.eigvals(gene_corrs_df.to_numpy())\n",
    "display(len(eigs[eigs < 0]))\n",
    "display(eigs[eigs < 0])"
   ]
  },
  {
   "cell_type": "code",
   "execution_count": 43,
   "id": "6e218436-c3c5-4028-8c94-a4fa6260efce",
   "metadata": {
    "execution": {
     "iopub.execute_input": "2022-07-22T04:29:27.644823Z",
     "iopub.status.busy": "2022-07-22T04:29:27.644655Z",
     "iopub.status.idle": "2022-07-22T04:29:27.662213Z",
     "shell.execute_reply": "2022-07-22T04:29:27.661760Z"
    },
    "papermill": {
     "duration": 2.802629,
     "end_time": "2022-07-22T04:29:27.663603",
     "exception": false,
     "start_time": "2022-07-22T04:29:24.860974",
     "status": "completed"
    },
    "tags": []
   },
   "outputs": [
    {
     "name": "stdout",
     "output_type": "stream",
     "text": [
      "Cholesky decomposition failed\n"
     ]
    }
   ],
   "source": [
    "try:\n",
    "    chol_mat = np.linalg.cholesky(gene_corrs_df.to_numpy())\n",
    "    cov_inv = np.linalg.inv(chol_mat)\n",
    "    print(\"Works!\")\n",
    "except:\n",
    "    print(\"Cholesky decomposition failed\")"
   ]
  },
  {
   "cell_type": "markdown",
   "id": "8e60a080-edb2-4e9c-b2ef-22961693200c",
   "metadata": {
    "papermill": {
     "duration": 2.864598,
     "end_time": "2022-07-22T04:29:33.303752",
     "exception": false,
     "start_time": "2022-07-22T04:29:30.439154",
     "status": "completed"
    },
    "tags": []
   },
   "source": [
    "## Plot: distribution"
   ]
  },
  {
   "cell_type": "code",
   "execution_count": 44,
   "id": "8301126b-a7d4-4744-9c7d-f0f86eb6f54c",
   "metadata": {
    "execution": {
     "iopub.execute_input": "2022-07-22T04:29:38.872724Z",
     "iopub.status.busy": "2022-07-22T04:29:38.872527Z",
     "iopub.status.idle": "2022-07-22T04:29:39.338838Z",
     "shell.execute_reply": "2022-07-22T04:29:39.338321Z"
    },
    "papermill": {
     "duration": 3.244237,
     "end_time": "2022-07-22T04:29:39.340127",
     "exception": false,
     "start_time": "2022-07-22T04:29:36.095890",
     "status": "completed"
    },
    "tags": []
   },
   "outputs": [
    {
     "data": {
      "image/png": "[encoded data removed]",
      "text/plain": [
       "<Figure size 504x504 with 1 Axes>"
      ]
     },
     "metadata": {
      "needs_background": "light"
     },
     "output_type": "display_data"
    }
   ],
   "source": [
    "with sns.plotting_context(\"paper\", font_scale=1.5):\n",
    "    g = sns.displot(gene_corrs_flat, kde=True, height=7)\n",
    "    g.ax.set_title(\n",
    "        f\"Distribution of gene correlation values in chromosome {CHROMOSOME}\"\n",
    "    )"
   ]
  },
  {
   "cell_type": "markdown",
   "id": "cbd52bca-d878-4a2f-b684-5c83aa3038d4",
   "metadata": {
    "papermill": {
     "duration": 2.74496,
     "end_time": "2022-07-22T04:29:45.020100",
     "exception": false,
     "start_time": "2022-07-22T04:29:42.275140",
     "status": "completed"
    },
    "tags": []
   },
   "source": [
    "## Plot: heatmap"
   ]
  },
  {
   "cell_type": "code",
   "execution_count": 45,
   "id": "d03fe63a-c7b2-4fb9-a53c-db362ce843c9",
   "metadata": {
    "execution": {
     "iopub.execute_input": "2022-07-22T04:29:50.610929Z",
     "iopub.status.busy": "2022-07-22T04:29:50.610730Z",
     "iopub.status.idle": "2022-07-22T04:29:50.627592Z",
     "shell.execute_reply": "2022-07-22T04:29:50.627171Z"
    },
    "papermill": {
     "duration": 2.84732,
     "end_time": "2022-07-22T04:29:50.628973",
     "exception": false,
     "start_time": "2022-07-22T04:29:47.781653",
     "status": "completed"
    },
    "tags": []
   },
   "outputs": [
    {
     "data": {
      "text/plain": [
       "'0.0 / 0.05'"
      ]
     },
     "metadata": {},
     "output_type": "display_data"
    }
   ],
   "source": [
    "vmin_val = min(0.00, gene_corrs_quantiles[0.10])\n",
    "vmax_val = max(0.05, gene_corrs_quantiles[0.90])\n",
    "display(f\"{vmin_val} / {vmax_val}\")"
   ]
  },
  {
   "cell_type": "code",
   "execution_count": 46,
   "id": "dc41b70b-5bcc-4d9e-9f33-a22c4a94dab5",
   "metadata": {
    "execution": {
     "iopub.execute_input": "2022-07-22T04:29:56.281485Z",
     "iopub.status.busy": "2022-07-22T04:29:56.280986Z",
     "iopub.status.idle": "2022-07-22T04:29:56.547909Z",
     "shell.execute_reply": "2022-07-22T04:29:56.547503Z"
    },
    "papermill": {
     "duration": 3.044339,
     "end_time": "2022-07-22T04:29:56.549434",
     "exception": false,
     "start_time": "2022-07-22T04:29:53.505095",
     "status": "completed"
    },
    "tags": []
   },
   "outputs": [
    {
     "data": {
      "text/plain": [
       "Text(0.5, 1.0, 'Gene correlations in chromosome 11')"
      ]
     },
     "execution_count": 46,
     "metadata": {},
     "output_type": "execute_result"
    },
    {
     "data": {
      "image/png": "[encoded data removed]",
      "text/plain": [
       "<Figure size 720x720 with 2 Axes>"
      ]
     },
     "metadata": {
      "needs_background": "light"
     },
     "output_type": "display_data"
    }
   ],
   "source": [
    "f, ax = plt.subplots(figsize=(10, 10))\n",
    "sns.heatmap(\n",
    "    gene_corrs_df,\n",
    "    xticklabels=False,\n",
    "    yticklabels=False,\n",
    "    square=True,\n",
    "    vmin=vmin_val,\n",
    "    vmax=vmax_val,\n",
    "    cmap=\"rocket_r\",\n",
    "    ax=ax,\n",
    ")\n",
    "ax.set_title(f\"Gene correlations in chromosome {CHROMOSOME}\")"
   ]
  },
  {
   "cell_type": "code",
   "execution_count": null,
   "id": "b25e3ead",
   "metadata": {
    "papermill": {
     "duration": 2.856218,
     "end_time": "2022-07-22T04:30:02.172396",
     "exception": false,
     "start_time": "2022-07-22T04:29:59.316178",
     "status": "completed"
    },
    "tags": []
   },
   "outputs": [],
   "source": []
  }
 ],
 "metadata": {
  "jupytext": {
   "cell_metadata_filter": "all,-execution,-papermill,-trusted",
   "formats": "ipynb,py//py:percent"
  },
  "kernelspec": {
   "display_name": "Python 3 (ipykernel)",
   "language": "python",
   "name": "python3"
  },
  "language_info": {
   "codemirror_mode": {
    "name": "ipython",
    "version": 3
   },
   "file_extension": ".py",
   "mimetype": "text/x-python",
   "name": "python",
   "nbconvert_exporter": "python",
   "pygments_lexer": "ipython3",
   "version": "3.8.13"
  },
  "papermill": {
   "default_parameters": {},
   "duration": 977.703931,
   "end_time": "2022-07-22T04:30:08.288751",
   "environment_variables": {},
   "exception": null,
   "input_path": "nbs/15_gsa_gls/10-gene_expr_correlations.ipynb",
   "output_path": "nbs/15_gsa_gls/gene_corrs/cohorts/1000g_eur/1000g/mashr/10-gene_expr_correlations-chr11.run.ipynb",
   "parameters": {
    "CHROMOSOME": 11,
    "COHORT_NAME": "1000G_EUR",
    "EQTL_MODEL": "MASHR",
    "REFERENCE_PANEL": "1000G"
   },
   "start_time": "2022-07-22T04:13:50.584820",
   "version": "2.2.2"
  }
 },
 "nbformat": 4,
 "nbformat_minor": 5
}
