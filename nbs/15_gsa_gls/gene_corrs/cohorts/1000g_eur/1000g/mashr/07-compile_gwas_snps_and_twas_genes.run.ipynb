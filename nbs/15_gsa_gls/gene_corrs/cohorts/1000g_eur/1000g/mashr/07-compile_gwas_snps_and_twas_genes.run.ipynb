{
 "cells": [
  {
   "cell_type": "markdown",
   "id": "7a6632fb",
   "metadata": {
    "papermill": {
     "duration": 0.019881,
     "end_time": "2022-08-08T14:16:23.028924",
     "exception": false,
     "start_time": "2022-08-08T14:16:23.009043",
     "status": "completed"
    },
    "tags": []
   },
   "source": [
    "# Description"
   ]
  },
  {
   "cell_type": "markdown",
   "id": "7097c346",
   "metadata": {
    "papermill": {
     "duration": 0.01458,
     "end_time": "2022-08-08T14:16:23.058584",
     "exception": false,
     "start_time": "2022-08-08T14:16:23.044004",
     "status": "completed"
    },
    "tags": []
   },
   "source": [
    "(Please, take a look at the README.md file in this directory for instructions on how to run this notebook)\n",
    "\n",
    "This notebook compiles information about the GWAS and TWAS for a particular cohort. For example, the set of GWAS variants, variance of predicted expression of genes, etc.\n",
    "\n",
    "It has specicfic parameters for papermill (see under `Settings` below).\n",
    "\n",
    "This notebook is not directly run. See README.md."
   ]
  },
  {
   "cell_type": "markdown",
   "id": "c61d8427",
   "metadata": {
    "papermill": {
     "duration": 0.014163,
     "end_time": "2022-08-08T14:16:23.087246",
     "exception": false,
     "start_time": "2022-08-08T14:16:23.073083",
     "status": "completed"
    },
    "tags": []
   },
   "source": [
    "# Modules"
   ]
  },
  {
   "cell_type": "code",
   "execution_count": 1,
   "id": "bbc0234f",
   "metadata": {
    "execution": {
     "iopub.execute_input": "2022-08-08T14:16:23.117150Z",
     "iopub.status.busy": "2022-08-08T14:16:23.116907Z",
     "iopub.status.idle": "2022-08-08T14:16:23.130922Z",
     "shell.execute_reply": "2022-08-08T14:16:23.130449Z"
    },
    "papermill": {
     "duration": 0.030862,
     "end_time": "2022-08-08T14:16:23.132396",
     "exception": false,
     "start_time": "2022-08-08T14:16:23.101534",
     "status": "completed"
    },
    "tags": []
   },
   "outputs": [],
   "source": [
    "%load_ext autoreload\n",
    "%autoreload 2"
   ]
  },
  {
   "cell_type": "code",
   "execution_count": 2,
   "id": "1d5f5a59",
   "metadata": {
    "execution": {
     "iopub.execute_input": "2022-08-08T14:16:23.162687Z",
     "iopub.status.busy": "2022-08-08T14:16:23.162489Z",
     "iopub.status.idle": "2022-08-08T14:16:23.617423Z",
     "shell.execute_reply": "2022-08-08T14:16:23.616880Z"
    },
    "papermill": {
     "duration": 0.472048,
     "end_time": "2022-08-08T14:16:23.619118",
     "exception": false,
     "start_time": "2022-08-08T14:16:23.147070",
     "status": "completed"
    },
    "tags": []
   },
   "outputs": [],
   "source": [
    "from pathlib import Path\n",
    "import pickle\n",
    "\n",
    "import numpy as np\n",
    "import pandas as pd\n",
    "\n",
    "import conf\n",
    "from entity import Gene"
   ]
  },
  {
   "cell_type": "markdown",
   "id": "1eac24b5",
   "metadata": {
    "papermill": {
     "duration": 0.015266,
     "end_time": "2022-08-08T14:16:23.650877",
     "exception": false,
     "start_time": "2022-08-08T14:16:23.635611",
     "status": "completed"
    },
    "tags": []
   },
   "source": [
    "# Settings"
   ]
  },
  {
   "cell_type": "code",
   "execution_count": 3,
   "id": "ca4560ba",
   "metadata": {
    "execution": {
     "iopub.execute_input": "2022-08-08T14:16:23.680734Z",
     "iopub.status.busy": "2022-08-08T14:16:23.680526Z",
     "iopub.status.idle": "2022-08-08T14:16:23.692640Z",
     "shell.execute_reply": "2022-08-08T14:16:23.692077Z"
    },
    "papermill": {
     "duration": 0.028505,
     "end_time": "2022-08-08T14:16:23.693897",
     "exception": false,
     "start_time": "2022-08-08T14:16:23.665392",
     "status": "completed"
    },
    "tags": [
     "parameters"
    ]
   },
   "outputs": [],
   "source": [
    "# a cohort name (it could be something like UK_BIOBANK, etc)\n",
    "COHORT_NAME = None\n",
    "\n",
    "# reference panel such as 1000G or GTEX_V8\n",
    "REFERENCE_PANEL = None\n",
    "\n",
    "# predictions models such as MASHR or ELASTIC_NET\n",
    "EQTL_MODEL = None\n",
    "\n",
    "# a string with a path pointing to an imputed GWAS\n",
    "GWAS_FILE = None\n",
    "\n",
    "# a string with a path pointing where S-PrediXcan results (tissue-specific are located\n",
    "SPREDIXCAN_FOLDER = None\n",
    "\n",
    "# an f-string with one placeholder {tissue}\n",
    "SPREDIXCAN_FILE_PATTERN = None\n",
    "\n",
    "# a string with a path pointing to an S-MultiXcan result\n",
    "SMULTIXCAN_FILE = None"
   ]
  },
  {
   "cell_type": "code",
   "execution_count": 4,
   "id": "1f180316",
   "metadata": {
    "execution": {
     "iopub.execute_input": "2022-08-08T14:16:23.724532Z",
     "iopub.status.busy": "2022-08-08T14:16:23.724325Z",
     "iopub.status.idle": "2022-08-08T14:16:23.736696Z",
     "shell.execute_reply": "2022-08-08T14:16:23.736035Z"
    },
    "papermill": {
     "duration": 0.029131,
     "end_time": "2022-08-08T14:16:23.737938",
     "exception": false,
     "start_time": "2022-08-08T14:16:23.708807",
     "status": "completed"
    },
    "tags": [
     "injected-parameters"
    ]
   },
   "outputs": [],
   "source": [
    "# Parameters\n",
    "COHORT_NAME = \"1000G_EUR\"\n",
    "REFERENCE_PANEL = \"1000G\"\n",
    "EQTL_MODEL = \"MASHR\"\n",
    "GWAS_FILE = \"/opt/data/results/gls/null_sims/final_imputed_gwas/random.pheno0.glm-imputed.txt.gz\"\n",
    "SPREDIXCAN_FOLDER = \"/opt/data/results/gls/null_sims/twas/spredixcan/\"\n",
    "SPREDIXCAN_FILE_PATTERN = \"random.pheno0-gtex_v8-mashr-{tissue}.csv\"\n",
    "SMULTIXCAN_FILE = \"/opt/data/results/gls/null_sims/twas/smultixcan/random.pheno0-gtex_v8-mashr-smultixcan.txt\"\n"
   ]
  },
  {
   "cell_type": "code",
   "execution_count": 5,
   "id": "8fe24bef",
   "metadata": {
    "execution": {
     "iopub.execute_input": "2022-08-08T14:16:23.769142Z",
     "iopub.status.busy": "2022-08-08T14:16:23.768936Z",
     "iopub.status.idle": "2022-08-08T14:16:23.785578Z",
     "shell.execute_reply": "2022-08-08T14:16:23.784861Z"
    },
    "papermill": {
     "duration": 0.033732,
     "end_time": "2022-08-08T14:16:23.786850",
     "exception": false,
     "start_time": "2022-08-08T14:16:23.753118",
     "status": "completed"
    },
    "tags": []
   },
   "outputs": [
    {
     "data": {
      "text/plain": [
       "'Cohort name: 1000g_eur'"
      ]
     },
     "metadata": {},
     "output_type": "display_data"
    }
   ],
   "source": [
    "assert COHORT_NAME is not None and len(COHORT_NAME) > 0, \"A cohort name must be given\"\n",
    "\n",
    "COHORT_NAME = COHORT_NAME.lower()\n",
    "display(f\"Cohort name: {COHORT_NAME}\")"
   ]
  },
  {
   "cell_type": "code",
   "execution_count": 6,
   "id": "f53ba19b-0f93-4fa2-a047-63b375939d1a",
   "metadata": {
    "execution": {
     "iopub.execute_input": "2022-08-08T14:16:23.822769Z",
     "iopub.status.busy": "2022-08-08T14:16:23.822543Z",
     "iopub.status.idle": "2022-08-08T14:16:23.838110Z",
     "shell.execute_reply": "2022-08-08T14:16:23.837647Z"
    },
    "papermill": {
     "duration": 0.037301,
     "end_time": "2022-08-08T14:16:23.839447",
     "exception": false,
     "start_time": "2022-08-08T14:16:23.802146",
     "status": "completed"
    },
    "tags": []
   },
   "outputs": [
    {
     "data": {
      "text/plain": [
       "'Reference panel: 1000G'"
      ]
     },
     "metadata": {},
     "output_type": "display_data"
    }
   ],
   "source": [
    "assert (\n",
    "    REFERENCE_PANEL is not None and len(REFERENCE_PANEL) > 0\n",
    "), \"A reference panel must be given\"\n",
    "\n",
    "display(f\"Reference panel: {REFERENCE_PANEL}\")"
   ]
  },
  {
   "cell_type": "code",
   "execution_count": 7,
   "id": "7a970044-2d34-4e5b-a850-eff44079afe8",
   "metadata": {
    "execution": {
     "iopub.execute_input": "2022-08-08T14:16:23.875808Z",
     "iopub.status.busy": "2022-08-08T14:16:23.875641Z",
     "iopub.status.idle": "2022-08-08T14:16:23.888895Z",
     "shell.execute_reply": "2022-08-08T14:16:23.888409Z"
    },
    "papermill": {
     "duration": 0.031899,
     "end_time": "2022-08-08T14:16:23.890131",
     "exception": false,
     "start_time": "2022-08-08T14:16:23.858232",
     "status": "completed"
    },
    "tags": []
   },
   "outputs": [
    {
     "data": {
      "text/plain": [
       "'GWAS file path: /opt/data/results/gls/null_sims/final_imputed_gwas/random.pheno0.glm-imputed.txt.gz'"
      ]
     },
     "metadata": {},
     "output_type": "display_data"
    }
   ],
   "source": [
    "assert GWAS_FILE is not None and len(GWAS_FILE) > 0, \"A GWAS file path must be given\"\n",
    "GWAS_FILE = Path(GWAS_FILE).resolve()\n",
    "assert GWAS_FILE.exists(), \"GWAS file does not exist\"\n",
    "\n",
    "display(f\"GWAS file path: {str(GWAS_FILE)}\")"
   ]
  },
  {
   "cell_type": "code",
   "execution_count": 8,
   "id": "552a7f63-a18c-4d3e-bb6a-94f99b431291",
   "metadata": {
    "execution": {
     "iopub.execute_input": "2022-08-08T14:16:23.921735Z",
     "iopub.status.busy": "2022-08-08T14:16:23.921555Z",
     "iopub.status.idle": "2022-08-08T14:16:23.934285Z",
     "shell.execute_reply": "2022-08-08T14:16:23.933874Z"
    },
    "papermill": {
     "duration": 0.029373,
     "end_time": "2022-08-08T14:16:23.935504",
     "exception": false,
     "start_time": "2022-08-08T14:16:23.906131",
     "status": "completed"
    },
    "tags": []
   },
   "outputs": [
    {
     "data": {
      "text/plain": [
       "'S-PrediXcan folder path: /opt/data/results/gls/null_sims/twas/spredixcan'"
      ]
     },
     "metadata": {},
     "output_type": "display_data"
    }
   ],
   "source": [
    "assert (\n",
    "    SPREDIXCAN_FOLDER is not None and len(SPREDIXCAN_FOLDER) > 0\n",
    "), \"An S-PrediXcan folder path must be given\"\n",
    "SPREDIXCAN_FOLDER = Path(SPREDIXCAN_FOLDER).resolve()\n",
    "assert SPREDIXCAN_FOLDER.exists(), \"S-PrediXcan folder does not exist\"\n",
    "\n",
    "display(f\"S-PrediXcan folder path: {str(SPREDIXCAN_FOLDER)}\")"
   ]
  },
  {
   "cell_type": "code",
   "execution_count": 9,
   "id": "6e2000dc-f1dc-4db8-93d5-9a7209a2e121",
   "metadata": {
    "execution": {
     "iopub.execute_input": "2022-08-08T14:16:23.967453Z",
     "iopub.status.busy": "2022-08-08T14:16:23.967260Z",
     "iopub.status.idle": "2022-08-08T14:16:23.979902Z",
     "shell.execute_reply": "2022-08-08T14:16:23.979383Z"
    },
    "papermill": {
     "duration": 0.029959,
     "end_time": "2022-08-08T14:16:23.981125",
     "exception": false,
     "start_time": "2022-08-08T14:16:23.951166",
     "status": "completed"
    },
    "tags": []
   },
   "outputs": [
    {
     "data": {
      "text/plain": [
       "'S-PrediXcan file template: random.pheno0-gtex_v8-mashr-{tissue}.csv'"
      ]
     },
     "metadata": {},
     "output_type": "display_data"
    }
   ],
   "source": [
    "assert (\n",
    "    SPREDIXCAN_FILE_PATTERN is not None and len(SPREDIXCAN_FILE_PATTERN) > 0\n",
    "), \"An S-PrediXcan file pattern must be given\"\n",
    "assert (\n",
    "    \"{tissue}\" in SPREDIXCAN_FILE_PATTERN\n",
    "), \"S-PrediXcan file pattern must have a '{tissue}' placeholder\"\n",
    "\n",
    "display(f\"S-PrediXcan file template: {SPREDIXCAN_FILE_PATTERN}\")"
   ]
  },
  {
   "cell_type": "code",
   "execution_count": 10,
   "id": "f5a5aa9d-c6f3-4fb5-9351-37382b6e67bc",
   "metadata": {
    "execution": {
     "iopub.execute_input": "2022-08-08T14:16:24.012474Z",
     "iopub.status.busy": "2022-08-08T14:16:24.012316Z",
     "iopub.status.idle": "2022-08-08T14:16:24.025601Z",
     "shell.execute_reply": "2022-08-08T14:16:24.024952Z"
    },
    "papermill": {
     "duration": 0.030391,
     "end_time": "2022-08-08T14:16:24.026837",
     "exception": false,
     "start_time": "2022-08-08T14:16:23.996446",
     "status": "completed"
    },
    "tags": []
   },
   "outputs": [
    {
     "data": {
      "text/plain": [
       "'S-MultiXcan file path: /opt/data/results/gls/null_sims/twas/smultixcan/random.pheno0-gtex_v8-mashr-smultixcan.txt'"
      ]
     },
     "metadata": {},
     "output_type": "display_data"
    }
   ],
   "source": [
    "assert (\n",
    "    SMULTIXCAN_FILE is not None and len(SMULTIXCAN_FILE) > 0\n",
    "), \"An S-MultiXcan result file path must be given\"\n",
    "SMULTIXCAN_FILE = Path(SMULTIXCAN_FILE).resolve()\n",
    "assert SMULTIXCAN_FILE.exists(), \"S-MultiXcan result file does not exist\"\n",
    "\n",
    "display(f\"S-MultiXcan file path: {str(SMULTIXCAN_FILE)}\")"
   ]
  },
  {
   "cell_type": "code",
   "execution_count": 11,
   "id": "0723dc2f-34d1-407c-a55b-d6d13c55d63d",
   "metadata": {
    "execution": {
     "iopub.execute_input": "2022-08-08T14:16:24.058271Z",
     "iopub.status.busy": "2022-08-08T14:16:24.058068Z",
     "iopub.status.idle": "2022-08-08T14:16:24.070922Z",
     "shell.execute_reply": "2022-08-08T14:16:24.070451Z"
    },
    "papermill": {
     "duration": 0.029838,
     "end_time": "2022-08-08T14:16:24.072190",
     "exception": false,
     "start_time": "2022-08-08T14:16:24.042352",
     "status": "completed"
    },
    "tags": []
   },
   "outputs": [
    {
     "data": {
      "text/plain": [
       "'eQTL model: MASHR'"
      ]
     },
     "metadata": {},
     "output_type": "display_data"
    }
   ],
   "source": [
    "assert (\n",
    "    EQTL_MODEL is not None and len(EQTL_MODEL) > 0\n",
    "), \"A prediction/eQTL model must be given\"\n",
    "\n",
    "display(f\"eQTL model: {EQTL_MODEL}\")"
   ]
  },
  {
   "cell_type": "code",
   "execution_count": 12,
   "id": "396392dc-0340-4540-9b02-e182b833f909",
   "metadata": {
    "execution": {
     "iopub.execute_input": "2022-08-08T14:16:24.105050Z",
     "iopub.status.busy": "2022-08-08T14:16:24.104332Z",
     "iopub.status.idle": "2022-08-08T14:16:24.117060Z",
     "shell.execute_reply": "2022-08-08T14:16:24.116583Z"
    },
    "papermill": {
     "duration": 0.029702,
     "end_time": "2022-08-08T14:16:24.118254",
     "exception": false,
     "start_time": "2022-08-08T14:16:24.088552",
     "status": "completed"
    },
    "tags": []
   },
   "outputs": [
    {
     "data": {
      "text/plain": [
       "'Using output dir base: /opt/data/results/gls/gene_corrs/cohorts/1000g_eur/1000g/mashr'"
      ]
     },
     "metadata": {},
     "output_type": "display_data"
    }
   ],
   "source": [
    "OUTPUT_DIR_BASE = (\n",
    "    conf.RESULTS[\"GLS\"]\n",
    "    / \"gene_corrs\"\n",
    "    / \"cohorts\"\n",
    "    / COHORT_NAME\n",
    "    / REFERENCE_PANEL.lower()\n",
    "    / EQTL_MODEL.lower()\n",
    ")\n",
    "\n",
    "OUTPUT_DIR_BASE.mkdir(parents=True, exist_ok=True)\n",
    "\n",
    "display(f\"Using output dir base: {OUTPUT_DIR_BASE}\")"
   ]
  },
  {
   "cell_type": "markdown",
   "id": "b6ebb422-8204-494b-8c72-360a71ce9863",
   "metadata": {
    "papermill": {
     "duration": 0.014834,
     "end_time": "2022-08-08T14:16:24.148592",
     "exception": false,
     "start_time": "2022-08-08T14:16:24.133758",
     "status": "completed"
    },
    "tags": []
   },
   "source": [
    "# Load MultiPLIER Z genes"
   ]
  },
  {
   "cell_type": "code",
   "execution_count": 13,
   "id": "c48ef527",
   "metadata": {
    "execution": {
     "iopub.execute_input": "2022-08-08T14:16:24.179904Z",
     "iopub.status.busy": "2022-08-08T14:16:24.179697Z",
     "iopub.status.idle": "2022-08-08T14:16:24.217737Z",
     "shell.execute_reply": "2022-08-08T14:16:24.217163Z"
    },
    "papermill": {
     "duration": 0.055641,
     "end_time": "2022-08-08T14:16:24.219278",
     "exception": false,
     "start_time": "2022-08-08T14:16:24.163637",
     "status": "completed"
    },
    "tags": []
   },
   "outputs": [],
   "source": [
    "multiplier_z_genes = pd.read_pickle(\n",
    "    conf.MULTIPLIER[\"MODEL_Z_MATRIX_FILE\"]\n",
    ").index.tolist()"
   ]
  },
  {
   "cell_type": "code",
   "execution_count": 14,
   "id": "0a4ecbd9",
   "metadata": {
    "execution": {
     "iopub.execute_input": "2022-08-08T14:16:24.254744Z",
     "iopub.status.busy": "2022-08-08T14:16:24.254555Z",
     "iopub.status.idle": "2022-08-08T14:16:24.266716Z",
     "shell.execute_reply": "2022-08-08T14:16:24.266183Z"
    },
    "papermill": {
     "duration": 0.030916,
     "end_time": "2022-08-08T14:16:24.268042",
     "exception": false,
     "start_time": "2022-08-08T14:16:24.237126",
     "status": "completed"
    },
    "tags": []
   },
   "outputs": [
    {
     "data": {
      "text/plain": [
       "6750"
      ]
     },
     "execution_count": 14,
     "metadata": {},
     "output_type": "execute_result"
    }
   ],
   "source": [
    "len(multiplier_z_genes)"
   ]
  },
  {
   "cell_type": "code",
   "execution_count": 15,
   "id": "a18ce359-0759-4260-ae6f-053e8c0041b7",
   "metadata": {
    "execution": {
     "iopub.execute_input": "2022-08-08T14:16:24.301277Z",
     "iopub.status.busy": "2022-08-08T14:16:24.301073Z",
     "iopub.status.idle": "2022-08-08T14:16:24.313246Z",
     "shell.execute_reply": "2022-08-08T14:16:24.312776Z"
    },
    "papermill": {
     "duration": 0.02995,
     "end_time": "2022-08-08T14:16:24.314509",
     "exception": false,
     "start_time": "2022-08-08T14:16:24.284559",
     "status": "completed"
    },
    "tags": []
   },
   "outputs": [],
   "source": [
    "assert len(multiplier_z_genes) == len(set(multiplier_z_genes))"
   ]
  },
  {
   "cell_type": "code",
   "execution_count": 16,
   "id": "115e8864",
   "metadata": {
    "execution": {
     "iopub.execute_input": "2022-08-08T14:16:24.347691Z",
     "iopub.status.busy": "2022-08-08T14:16:24.347462Z",
     "iopub.status.idle": "2022-08-08T14:16:24.359949Z",
     "shell.execute_reply": "2022-08-08T14:16:24.359475Z"
    },
    "papermill": {
     "duration": 0.030427,
     "end_time": "2022-08-08T14:16:24.361079",
     "exception": false,
     "start_time": "2022-08-08T14:16:24.330652",
     "status": "completed"
    },
    "tags": []
   },
   "outputs": [
    {
     "data": {
      "text/plain": [
       "['GAS6', 'MMP14', 'DSP', 'MARCKSL1', 'SPARC']"
      ]
     },
     "execution_count": 16,
     "metadata": {},
     "output_type": "execute_result"
    }
   ],
   "source": [
    "multiplier_z_genes[:5]"
   ]
  },
  {
   "cell_type": "markdown",
   "id": "7bed0ce0-e7c7-4300-9a61-5412450b1904",
   "metadata": {
    "papermill": {
     "duration": 0.015427,
     "end_time": "2022-08-08T14:16:24.392522",
     "exception": false,
     "start_time": "2022-08-08T14:16:24.377095",
     "status": "completed"
    },
    "tags": []
   },
   "source": [
    "# GWAS"
   ]
  },
  {
   "cell_type": "code",
   "execution_count": 17,
   "id": "331e5691-c014-43e4-b94c-060c64d329df",
   "metadata": {
    "execution": {
     "iopub.execute_input": "2022-08-08T14:16:24.424485Z",
     "iopub.status.busy": "2022-08-08T14:16:24.423893Z",
     "iopub.status.idle": "2022-08-08T14:16:24.440511Z",
     "shell.execute_reply": "2022-08-08T14:16:24.439874Z"
    },
    "papermill": {
     "duration": 0.034169,
     "end_time": "2022-08-08T14:16:24.441939",
     "exception": false,
     "start_time": "2022-08-08T14:16:24.407770",
     "status": "completed"
    },
    "tags": []
   },
   "outputs": [],
   "source": [
    "gwas_file_columns = pd.read_csv(GWAS_FILE, sep=\"\\t\", nrows=2).columns\n",
    "assert (\n",
    "    \"panel_variant_id\" in gwas_file_columns\n",
    "), \"GWAS file must be final imputed one with column 'panel_variant_id'\"\n",
    "# FIXME: add other needed columns here"
   ]
  },
  {
   "cell_type": "code",
   "execution_count": 18,
   "id": "8d419629-8f4d-4c83-bed3-cfc071a58090",
   "metadata": {
    "execution": {
     "iopub.execute_input": "2022-08-08T14:16:24.474566Z",
     "iopub.status.busy": "2022-08-08T14:16:24.474352Z",
     "iopub.status.idle": "2022-08-08T14:16:37.958129Z",
     "shell.execute_reply": "2022-08-08T14:16:37.957530Z"
    },
    "papermill": {
     "duration": 13.502226,
     "end_time": "2022-08-08T14:16:37.959803",
     "exception": false,
     "start_time": "2022-08-08T14:16:24.457577",
     "status": "completed"
    },
    "tags": []
   },
   "outputs": [],
   "source": [
    "gwas_data = pd.read_csv(\n",
    "    GWAS_FILE,\n",
    "    sep=\"\\t\",\n",
    "    usecols=[\"panel_variant_id\", \"pvalue\", \"zscore\", \"imputation_status\"],\n",
    ")"
   ]
  },
  {
   "cell_type": "code",
   "execution_count": 19,
   "id": "3f4e814e-6b41-407e-9099-86795eec6ed9",
   "metadata": {
    "execution": {
     "iopub.execute_input": "2022-08-08T14:16:37.999630Z",
     "iopub.status.busy": "2022-08-08T14:16:37.999453Z",
     "iopub.status.idle": "2022-08-08T14:16:38.012155Z",
     "shell.execute_reply": "2022-08-08T14:16:38.011600Z"
    },
    "papermill": {
     "duration": 0.033152,
     "end_time": "2022-08-08T14:16:38.013423",
     "exception": false,
     "start_time": "2022-08-08T14:16:37.980271",
     "status": "completed"
    },
    "tags": []
   },
   "outputs": [
    {
     "data": {
      "text/plain": [
       "(8325729, 4)"
      ]
     },
     "execution_count": 19,
     "metadata": {},
     "output_type": "execute_result"
    }
   ],
   "source": [
    "gwas_data.shape"
   ]
  },
  {
   "cell_type": "code",
   "execution_count": 20,
   "id": "b4a906e9-c80a-47fc-9d73-5adb046f8b76",
   "metadata": {
    "execution": {
     "iopub.execute_input": "2022-08-08T14:16:38.046733Z",
     "iopub.status.busy": "2022-08-08T14:16:38.046514Z",
     "iopub.status.idle": "2022-08-08T14:16:38.062766Z",
     "shell.execute_reply": "2022-08-08T14:16:38.062112Z"
    },
    "papermill": {
     "duration": 0.033802,
     "end_time": "2022-08-08T14:16:38.063900",
     "exception": false,
     "start_time": "2022-08-08T14:16:38.030098",
     "status": "completed"
    },
    "tags": []
   },
   "outputs": [
    {
     "data": {
      "text/html": [
       "<div>\n",
       "<style scoped>\n",
       "    .dataframe tbody tr th:only-of-type {\n",
       "        vertical-align: middle;\n",
       "    }\n",
       "\n",
       "    .dataframe tbody tr th {\n",
       "        vertical-align: top;\n",
       "    }\n",
       "\n",
       "    .dataframe thead th {\n",
       "        text-align: right;\n",
       "    }\n",
       "</style>\n",
       "<table border=\"1\" class=\"dataframe\">\n",
       "  <thead>\n",
       "    <tr style=\"text-align: right;\">\n",
       "      <th></th>\n",
       "      <th>panel_variant_id</th>\n",
       "      <th>zscore</th>\n",
       "      <th>pvalue</th>\n",
       "      <th>imputation_status</th>\n",
       "    </tr>\n",
       "  </thead>\n",
       "  <tbody>\n",
       "    <tr>\n",
       "      <th>0</th>\n",
       "      <td>chr1_54490_G_A_b38</td>\n",
       "      <td>1.567452</td>\n",
       "      <td>0.117009</td>\n",
       "      <td>original</td>\n",
       "    </tr>\n",
       "    <tr>\n",
       "      <th>1</th>\n",
       "      <td>chr1_87021_T_C_b38</td>\n",
       "      <td>0.244372</td>\n",
       "      <td>0.806943</td>\n",
       "      <td>imputed</td>\n",
       "    </tr>\n",
       "    <tr>\n",
       "      <th>2</th>\n",
       "      <td>chr1_263722_C_G_b38</td>\n",
       "      <td>1.155239</td>\n",
       "      <td>0.247993</td>\n",
       "      <td>imputed</td>\n",
       "    </tr>\n",
       "    <tr>\n",
       "      <th>3</th>\n",
       "      <td>chr1_594402_C_T_b38</td>\n",
       "      <td>0.851234</td>\n",
       "      <td>0.394639</td>\n",
       "      <td>imputed</td>\n",
       "    </tr>\n",
       "    <tr>\n",
       "      <th>4</th>\n",
       "      <td>chr1_630555_C_T_b38</td>\n",
       "      <td>0.855129</td>\n",
       "      <td>0.392480</td>\n",
       "      <td>imputed</td>\n",
       "    </tr>\n",
       "  </tbody>\n",
       "</table>\n",
       "</div>"
      ],
      "text/plain": [
       "      panel_variant_id    zscore    pvalue imputation_status\n",
       "0   chr1_54490_G_A_b38  1.567452  0.117009          original\n",
       "1   chr1_87021_T_C_b38  0.244372  0.806943           imputed\n",
       "2  chr1_263722_C_G_b38  1.155239  0.247993           imputed\n",
       "3  chr1_594402_C_T_b38  0.851234  0.394639           imputed\n",
       "4  chr1_630555_C_T_b38  0.855129  0.392480           imputed"
      ]
     },
     "execution_count": 20,
     "metadata": {},
     "output_type": "execute_result"
    }
   ],
   "source": [
    "gwas_data.head()"
   ]
  },
  {
   "cell_type": "code",
   "execution_count": 21,
   "id": "346e2f88-44c6-4067-8752-118e2491f6fa",
   "metadata": {
    "execution": {
     "iopub.execute_input": "2022-08-08T14:16:38.097597Z",
     "iopub.status.busy": "2022-08-08T14:16:38.097387Z",
     "iopub.status.idle": "2022-08-08T14:16:38.475660Z",
     "shell.execute_reply": "2022-08-08T14:16:38.475086Z"
    },
    "papermill": {
     "duration": 0.396519,
     "end_time": "2022-08-08T14:16:38.476950",
     "exception": false,
     "start_time": "2022-08-08T14:16:38.080431",
     "status": "completed"
    },
    "tags": []
   },
   "outputs": [
    {
     "data": {
      "text/plain": [
       "array(['original', 'imputed'], dtype=object)"
      ]
     },
     "execution_count": 21,
     "metadata": {},
     "output_type": "execute_result"
    }
   ],
   "source": [
    "gwas_data[\"imputation_status\"].unique()"
   ]
  },
  {
   "cell_type": "code",
   "execution_count": 22,
   "id": "033c24fb-9c60-4ffd-929e-b0e6089820ae",
   "metadata": {
    "execution": {
     "iopub.execute_input": "2022-08-08T14:16:38.509365Z",
     "iopub.status.busy": "2022-08-08T14:16:38.509159Z",
     "iopub.status.idle": "2022-08-08T14:16:39.439248Z",
     "shell.execute_reply": "2022-08-08T14:16:39.438621Z"
    },
    "papermill": {
     "duration": 0.948108,
     "end_time": "2022-08-08T14:16:39.440771",
     "exception": false,
     "start_time": "2022-08-08T14:16:38.492663",
     "status": "completed"
    },
    "tags": []
   },
   "outputs": [
    {
     "data": {
      "text/plain": [
       "(8325729, 4)"
      ]
     },
     "execution_count": 22,
     "metadata": {},
     "output_type": "execute_result"
    }
   ],
   "source": [
    "gwas_data.dropna().shape"
   ]
  },
  {
   "cell_type": "code",
   "execution_count": 23,
   "id": "28232ce5-0afd-464e-9be3-64c3a68c2b25",
   "metadata": {
    "execution": {
     "iopub.execute_input": "2022-08-08T14:16:39.481129Z",
     "iopub.status.busy": "2022-08-08T14:16:39.480961Z",
     "iopub.status.idle": "2022-08-08T14:16:40.309601Z",
     "shell.execute_reply": "2022-08-08T14:16:40.308924Z"
    },
    "papermill": {
     "duration": 0.850129,
     "end_time": "2022-08-08T14:16:40.311184",
     "exception": false,
     "start_time": "2022-08-08T14:16:39.461055",
     "status": "completed"
    },
    "tags": []
   },
   "outputs": [],
   "source": [
    "# remove SNPs with no results\n",
    "gwas_data = gwas_data.dropna()"
   ]
  },
  {
   "cell_type": "code",
   "execution_count": 24,
   "id": "d9a6c31f-eedd-43e5-b762-5a9663be1b77",
   "metadata": {
    "execution": {
     "iopub.execute_input": "2022-08-08T14:16:40.350588Z",
     "iopub.status.busy": "2022-08-08T14:16:40.350404Z",
     "iopub.status.idle": "2022-08-08T14:16:40.362760Z",
     "shell.execute_reply": "2022-08-08T14:16:40.362323Z"
    },
    "papermill": {
     "duration": 0.032777,
     "end_time": "2022-08-08T14:16:40.363932",
     "exception": false,
     "start_time": "2022-08-08T14:16:40.331155",
     "status": "completed"
    },
    "tags": []
   },
   "outputs": [
    {
     "data": {
      "text/plain": [
       "(8325729, 4)"
      ]
     },
     "execution_count": 24,
     "metadata": {},
     "output_type": "execute_result"
    }
   ],
   "source": [
    "gwas_data.shape"
   ]
  },
  {
   "cell_type": "markdown",
   "id": "8da344de-2aa5-48a9-98ec-e8c3397ae7e6",
   "metadata": {
    "papermill": {
     "duration": 0.015939,
     "end_time": "2022-08-08T14:16:40.396658",
     "exception": false,
     "start_time": "2022-08-08T14:16:40.380719",
     "status": "completed"
    },
    "tags": []
   },
   "source": [
    "## Save GWAS variants"
   ]
  },
  {
   "cell_type": "code",
   "execution_count": 25,
   "id": "ac11fb33-ea3c-4d5c-a90b-0ceebdac43d3",
   "metadata": {
    "execution": {
     "iopub.execute_input": "2022-08-08T14:16:40.430627Z",
     "iopub.status.busy": "2022-08-08T14:16:40.429875Z",
     "iopub.status.idle": "2022-08-08T14:16:40.445642Z",
     "shell.execute_reply": "2022-08-08T14:16:40.444957Z"
    },
    "papermill": {
     "duration": 0.033611,
     "end_time": "2022-08-08T14:16:40.446882",
     "exception": false,
     "start_time": "2022-08-08T14:16:40.413271",
     "status": "completed"
    },
    "tags": []
   },
   "outputs": [
    {
     "data": {
      "text/html": [
       "<div>\n",
       "<style scoped>\n",
       "    .dataframe tbody tr th:only-of-type {\n",
       "        vertical-align: middle;\n",
       "    }\n",
       "\n",
       "    .dataframe tbody tr th {\n",
       "        vertical-align: top;\n",
       "    }\n",
       "\n",
       "    .dataframe thead th {\n",
       "        text-align: right;\n",
       "    }\n",
       "</style>\n",
       "<table border=\"1\" class=\"dataframe\">\n",
       "  <thead>\n",
       "    <tr style=\"text-align: right;\">\n",
       "      <th></th>\n",
       "      <th>panel_variant_id</th>\n",
       "      <th>zscore</th>\n",
       "      <th>pvalue</th>\n",
       "      <th>imputation_status</th>\n",
       "    </tr>\n",
       "  </thead>\n",
       "  <tbody>\n",
       "    <tr>\n",
       "      <th>0</th>\n",
       "      <td>chr1_54490_G_A_b38</td>\n",
       "      <td>1.567452</td>\n",
       "      <td>0.117009</td>\n",
       "      <td>original</td>\n",
       "    </tr>\n",
       "    <tr>\n",
       "      <th>1</th>\n",
       "      <td>chr1_87021_T_C_b38</td>\n",
       "      <td>0.244372</td>\n",
       "      <td>0.806943</td>\n",
       "      <td>imputed</td>\n",
       "    </tr>\n",
       "    <tr>\n",
       "      <th>2</th>\n",
       "      <td>chr1_263722_C_G_b38</td>\n",
       "      <td>1.155239</td>\n",
       "      <td>0.247993</td>\n",
       "      <td>imputed</td>\n",
       "    </tr>\n",
       "    <tr>\n",
       "      <th>3</th>\n",
       "      <td>chr1_594402_C_T_b38</td>\n",
       "      <td>0.851234</td>\n",
       "      <td>0.394639</td>\n",
       "      <td>imputed</td>\n",
       "    </tr>\n",
       "    <tr>\n",
       "      <th>4</th>\n",
       "      <td>chr1_630555_C_T_b38</td>\n",
       "      <td>0.855129</td>\n",
       "      <td>0.392480</td>\n",
       "      <td>imputed</td>\n",
       "    </tr>\n",
       "  </tbody>\n",
       "</table>\n",
       "</div>"
      ],
      "text/plain": [
       "      panel_variant_id    zscore    pvalue imputation_status\n",
       "0   chr1_54490_G_A_b38  1.567452  0.117009          original\n",
       "1   chr1_87021_T_C_b38  0.244372  0.806943           imputed\n",
       "2  chr1_263722_C_G_b38  1.155239  0.247993           imputed\n",
       "3  chr1_594402_C_T_b38  0.851234  0.394639           imputed\n",
       "4  chr1_630555_C_T_b38  0.855129  0.392480           imputed"
      ]
     },
     "execution_count": 25,
     "metadata": {},
     "output_type": "execute_result"
    }
   ],
   "source": [
    "gwas_data.head()"
   ]
  },
  {
   "cell_type": "code",
   "execution_count": 26,
   "id": "5f34bb3d-761a-4860-a179-77ea5f5784ad",
   "metadata": {
    "execution": {
     "iopub.execute_input": "2022-08-08T14:16:40.480273Z",
     "iopub.status.busy": "2022-08-08T14:16:40.480065Z",
     "iopub.status.idle": "2022-08-08T14:16:45.064654Z",
     "shell.execute_reply": "2022-08-08T14:16:45.063959Z"
    },
    "papermill": {
     "duration": 4.603026,
     "end_time": "2022-08-08T14:16:45.066459",
     "exception": false,
     "start_time": "2022-08-08T14:16:40.463433",
     "status": "completed"
    },
    "tags": []
   },
   "outputs": [],
   "source": [
    "assert gwas_data[\"panel_variant_id\"].is_unique"
   ]
  },
  {
   "cell_type": "code",
   "execution_count": 27,
   "id": "d4f23b2f-01a3-4a45-a2b6-31b245b5778e",
   "metadata": {
    "execution": {
     "iopub.execute_input": "2022-08-08T14:16:45.108823Z",
     "iopub.status.busy": "2022-08-08T14:16:45.108637Z",
     "iopub.status.idle": "2022-08-08T14:16:48.350495Z",
     "shell.execute_reply": "2022-08-08T14:16:48.349490Z"
    },
    "papermill": {
     "duration": 3.26489,
     "end_time": "2022-08-08T14:16:48.352638",
     "exception": false,
     "start_time": "2022-08-08T14:16:45.087748",
     "status": "completed"
    },
    "tags": []
   },
   "outputs": [
    {
     "data": {
      "text/plain": [
       "['chr13_93124205_T_A_b38',\n",
       " 'chr10_130722312_C_A_b38',\n",
       " 'chr10_9616558_C_A_b38',\n",
       " 'chr18_59790252_G_A_b38',\n",
       " 'chr10_122084988_C_T_b38']"
      ]
     },
     "execution_count": 27,
     "metadata": {},
     "output_type": "execute_result"
    }
   ],
   "source": [
    "gwas_variants_ids_set = frozenset(gwas_data[\"panel_variant_id\"])\n",
    "list(gwas_variants_ids_set)[:5]"
   ]
  },
  {
   "cell_type": "code",
   "execution_count": 28,
   "id": "b4a441df-07d7-48dc-be36-cdb3f92be651",
   "metadata": {
    "execution": {
     "iopub.execute_input": "2022-08-08T14:16:48.403403Z",
     "iopub.status.busy": "2022-08-08T14:16:48.403214Z",
     "iopub.status.idle": "2022-08-08T14:16:51.893009Z",
     "shell.execute_reply": "2022-08-08T14:16:51.892401Z"
    },
    "papermill": {
     "duration": 3.514084,
     "end_time": "2022-08-08T14:16:51.894558",
     "exception": false,
     "start_time": "2022-08-08T14:16:48.380474",
     "status": "completed"
    },
    "tags": []
   },
   "outputs": [],
   "source": [
    "with open(OUTPUT_DIR_BASE / \"gwas_variant_ids.pkl\", \"wb\") as handle:\n",
    "    pickle.dump(gwas_variants_ids_set, handle, protocol=pickle.HIGHEST_PROTOCOL)"
   ]
  },
  {
   "cell_type": "markdown",
   "id": "abcc4b3d",
   "metadata": {
    "papermill": {
     "duration": 0.021794,
     "end_time": "2022-08-08T14:16:51.972176",
     "exception": false,
     "start_time": "2022-08-08T14:16:51.950382",
     "status": "completed"
    },
    "tags": []
   },
   "source": [
    "# TWAS"
   ]
  },
  {
   "cell_type": "markdown",
   "id": "2fbc7358-0563-4fc6-bc47-a0fbcc5cdfd4",
   "metadata": {
    "papermill": {
     "duration": 0.017777,
     "end_time": "2022-08-08T14:16:52.017399",
     "exception": false,
     "start_time": "2022-08-08T14:16:51.999622",
     "status": "completed"
    },
    "tags": []
   },
   "source": [
    "## Available tissues for eQTL model"
   ]
  },
  {
   "cell_type": "code",
   "execution_count": 29,
   "id": "f32c0a84-030a-436b-b597-852b6150d2ac",
   "metadata": {
    "execution": {
     "iopub.execute_input": "2022-08-08T14:16:52.051044Z",
     "iopub.status.busy": "2022-08-08T14:16:52.050828Z",
     "iopub.status.idle": "2022-08-08T14:16:52.063020Z",
     "shell.execute_reply": "2022-08-08T14:16:52.062536Z"
    },
    "papermill": {
     "duration": 0.030338,
     "end_time": "2022-08-08T14:16:52.064349",
     "exception": false,
     "start_time": "2022-08-08T14:16:52.034011",
     "status": "completed"
    },
    "tags": []
   },
   "outputs": [],
   "source": [
    "prediction_model_tissues = conf.PHENOMEXCAN[\"PREDICTION_MODELS\"][\n",
    "    f\"{EQTL_MODEL}_TISSUES\"\n",
    "].split(\" \")"
   ]
  },
  {
   "cell_type": "code",
   "execution_count": 30,
   "id": "0e760d0e-f23d-4590-abfb-811a43f7c237",
   "metadata": {
    "execution": {
     "iopub.execute_input": "2022-08-08T14:16:52.098230Z",
     "iopub.status.busy": "2022-08-08T14:16:52.098024Z",
     "iopub.status.idle": "2022-08-08T14:16:52.110906Z",
     "shell.execute_reply": "2022-08-08T14:16:52.110432Z"
    },
    "papermill": {
     "duration": 0.031123,
     "end_time": "2022-08-08T14:16:52.112068",
     "exception": false,
     "start_time": "2022-08-08T14:16:52.080945",
     "status": "completed"
    },
    "tags": []
   },
   "outputs": [
    {
     "data": {
      "text/plain": [
       "49"
      ]
     },
     "execution_count": 30,
     "metadata": {},
     "output_type": "execute_result"
    }
   ],
   "source": [
    "len(prediction_model_tissues)"
   ]
  },
  {
   "cell_type": "code",
   "execution_count": 31,
   "id": "fa4d942c-cd67-4b31-9491-585c887c0ee3",
   "metadata": {
    "execution": {
     "iopub.execute_input": "2022-08-08T14:16:52.146603Z",
     "iopub.status.busy": "2022-08-08T14:16:52.146395Z",
     "iopub.status.idle": "2022-08-08T14:16:52.159591Z",
     "shell.execute_reply": "2022-08-08T14:16:52.159110Z"
    },
    "papermill": {
     "duration": 0.031809,
     "end_time": "2022-08-08T14:16:52.160859",
     "exception": false,
     "start_time": "2022-08-08T14:16:52.129050",
     "status": "completed"
    },
    "tags": []
   },
   "outputs": [
    {
     "data": {
      "text/plain": [
       "['Skin_Not_Sun_Exposed_Suprapubic',\n",
       " 'Cells_EBV-transformed_lymphocytes',\n",
       " 'Brain_Frontal_Cortex_BA9',\n",
       " 'Kidney_Cortex',\n",
       " 'Brain_Substantia_nigra']"
      ]
     },
     "execution_count": 31,
     "metadata": {},
     "output_type": "execute_result"
    }
   ],
   "source": [
    "prediction_model_tissues[:5]"
   ]
  },
  {
   "cell_type": "markdown",
   "id": "fab4814d-757c-4247-b5e4-891bc4863db7",
   "metadata": {
    "papermill": {
     "duration": 0.016589,
     "end_time": "2022-08-08T14:16:52.194345",
     "exception": false,
     "start_time": "2022-08-08T14:16:52.177756",
     "status": "completed"
    },
    "tags": []
   },
   "source": [
    "## S-MultiXcan results"
   ]
  },
  {
   "cell_type": "code",
   "execution_count": 32,
   "id": "2b73c11e-9aa2-410e-84b4-a70be34d02e4",
   "metadata": {
    "execution": {
     "iopub.execute_input": "2022-08-08T14:16:52.227880Z",
     "iopub.status.busy": "2022-08-08T14:16:52.227663Z",
     "iopub.status.idle": "2022-08-08T14:16:52.280018Z",
     "shell.execute_reply": "2022-08-08T14:16:52.279494Z"
    },
    "papermill": {
     "duration": 0.070626,
     "end_time": "2022-08-08T14:16:52.281435",
     "exception": false,
     "start_time": "2022-08-08T14:16:52.210809",
     "status": "completed"
    },
    "tags": []
   },
   "outputs": [],
   "source": [
    "smultixcan_results = pd.read_csv(\n",
    "    SMULTIXCAN_FILE, sep=\"\\t\", usecols=[\"gene\", \"gene_name\", \"pvalue\", \"n\", \"n_indep\"]\n",
    ")"
   ]
  },
  {
   "cell_type": "code",
   "execution_count": 33,
   "id": "8b5abebd-baab-4188-9e3d-655ebbe32401",
   "metadata": {
    "execution": {
     "iopub.execute_input": "2022-08-08T14:16:52.316506Z",
     "iopub.status.busy": "2022-08-08T14:16:52.316297Z",
     "iopub.status.idle": "2022-08-08T14:16:52.329756Z",
     "shell.execute_reply": "2022-08-08T14:16:52.329282Z"
    },
    "papermill": {
     "duration": 0.032198,
     "end_time": "2022-08-08T14:16:52.330907",
     "exception": false,
     "start_time": "2022-08-08T14:16:52.298709",
     "status": "completed"
    },
    "tags": []
   },
   "outputs": [
    {
     "data": {
      "text/plain": [
       "(22317, 5)"
      ]
     },
     "execution_count": 33,
     "metadata": {},
     "output_type": "execute_result"
    }
   ],
   "source": [
    "smultixcan_results.shape"
   ]
  },
  {
   "cell_type": "code",
   "execution_count": 34,
   "id": "c65e233f-9ef6-4883-9386-7abf1d6d1cbd",
   "metadata": {
    "execution": {
     "iopub.execute_input": "2022-08-08T14:16:52.365142Z",
     "iopub.status.busy": "2022-08-08T14:16:52.364958Z",
     "iopub.status.idle": "2022-08-08T14:16:52.379832Z",
     "shell.execute_reply": "2022-08-08T14:16:52.379336Z"
    },
    "papermill": {
     "duration": 0.033589,
     "end_time": "2022-08-08T14:16:52.381186",
     "exception": false,
     "start_time": "2022-08-08T14:16:52.347597",
     "status": "completed"
    },
    "tags": []
   },
   "outputs": [],
   "source": [
    "smultixcan_results = smultixcan_results.dropna()"
   ]
  },
  {
   "cell_type": "code",
   "execution_count": 35,
   "id": "57d2d311-4a42-4725-9e37-b124ed13ad33",
   "metadata": {
    "execution": {
     "iopub.execute_input": "2022-08-08T14:16:52.436413Z",
     "iopub.status.busy": "2022-08-08T14:16:52.436204Z",
     "iopub.status.idle": "2022-08-08T14:16:52.449206Z",
     "shell.execute_reply": "2022-08-08T14:16:52.448555Z"
    },
    "papermill": {
     "duration": 0.051969,
     "end_time": "2022-08-08T14:16:52.450392",
     "exception": false,
     "start_time": "2022-08-08T14:16:52.398423",
     "status": "completed"
    },
    "tags": []
   },
   "outputs": [
    {
     "data": {
      "text/plain": [
       "(22314, 5)"
      ]
     },
     "execution_count": 35,
     "metadata": {},
     "output_type": "execute_result"
    }
   ],
   "source": [
    "smultixcan_results.shape"
   ]
  },
  {
   "cell_type": "code",
   "execution_count": 36,
   "id": "a36b5b59-f4b6-45bf-b241-ffc9671b357f",
   "metadata": {
    "execution": {
     "iopub.execute_input": "2022-08-08T14:16:52.485425Z",
     "iopub.status.busy": "2022-08-08T14:16:52.485030Z",
     "iopub.status.idle": "2022-08-08T14:16:52.503457Z",
     "shell.execute_reply": "2022-08-08T14:16:52.502867Z"
    },
    "papermill": {
     "duration": 0.037545,
     "end_time": "2022-08-08T14:16:52.504909",
     "exception": false,
     "start_time": "2022-08-08T14:16:52.467364",
     "status": "completed"
    },
    "tags": []
   },
   "outputs": [],
   "source": [
    "smultixcan_results = smultixcan_results.assign(\n",
    "    gene_id=smultixcan_results[\"gene\"].apply(lambda g: g.split(\".\")[0])\n",
    ")"
   ]
  },
  {
   "cell_type": "code",
   "execution_count": 37,
   "id": "c49f62a9-a01a-44af-87da-47d195b0ef7e",
   "metadata": {
    "execution": {
     "iopub.execute_input": "2022-08-08T14:16:52.539615Z",
     "iopub.status.busy": "2022-08-08T14:16:52.539386Z",
     "iopub.status.idle": "2022-08-08T14:16:52.556770Z",
     "shell.execute_reply": "2022-08-08T14:16:52.556208Z"
    },
    "papermill": {
     "duration": 0.035983,
     "end_time": "2022-08-08T14:16:52.558088",
     "exception": false,
     "start_time": "2022-08-08T14:16:52.522105",
     "status": "completed"
    },
    "tags": []
   },
   "outputs": [
    {
     "data": {
      "text/html": [
       "<div>\n",
       "<style scoped>\n",
       "    .dataframe tbody tr th:only-of-type {\n",
       "        vertical-align: middle;\n",
       "    }\n",
       "\n",
       "    .dataframe tbody tr th {\n",
       "        vertical-align: top;\n",
       "    }\n",
       "\n",
       "    .dataframe thead th {\n",
       "        text-align: right;\n",
       "    }\n",
       "</style>\n",
       "<table border=\"1\" class=\"dataframe\">\n",
       "  <thead>\n",
       "    <tr style=\"text-align: right;\">\n",
       "      <th></th>\n",
       "      <th>gene</th>\n",
       "      <th>gene_name</th>\n",
       "      <th>pvalue</th>\n",
       "      <th>n</th>\n",
       "      <th>n_indep</th>\n",
       "      <th>gene_id</th>\n",
       "    </tr>\n",
       "  </thead>\n",
       "  <tbody>\n",
       "    <tr>\n",
       "      <th>0</th>\n",
       "      <td>ENSG00000131941.7</td>\n",
       "      <td>RHPN2</td>\n",
       "      <td>0.000040</td>\n",
       "      <td>48.0</td>\n",
       "      <td>3.0</td>\n",
       "      <td>ENSG00000131941</td>\n",
       "    </tr>\n",
       "    <tr>\n",
       "      <th>1</th>\n",
       "      <td>ENSG00000076650.6</td>\n",
       "      <td>GPATCH1</td>\n",
       "      <td>0.000078</td>\n",
       "      <td>40.0</td>\n",
       "      <td>3.0</td>\n",
       "      <td>ENSG00000076650</td>\n",
       "    </tr>\n",
       "    <tr>\n",
       "      <th>2</th>\n",
       "      <td>ENSG00000100906.10</td>\n",
       "      <td>NFKBIA</td>\n",
       "      <td>0.000096</td>\n",
       "      <td>1.0</td>\n",
       "      <td>1.0</td>\n",
       "      <td>ENSG00000100906</td>\n",
       "    </tr>\n",
       "    <tr>\n",
       "      <th>3</th>\n",
       "      <td>ENSG00000136319.11</td>\n",
       "      <td>TTC5</td>\n",
       "      <td>0.000109</td>\n",
       "      <td>47.0</td>\n",
       "      <td>5.0</td>\n",
       "      <td>ENSG00000136319</td>\n",
       "    </tr>\n",
       "    <tr>\n",
       "      <th>4</th>\n",
       "      <td>ENSG00000152990.13</td>\n",
       "      <td>ADGRA3</td>\n",
       "      <td>0.000135</td>\n",
       "      <td>41.0</td>\n",
       "      <td>12.0</td>\n",
       "      <td>ENSG00000152990</td>\n",
       "    </tr>\n",
       "  </tbody>\n",
       "</table>\n",
       "</div>"
      ],
      "text/plain": [
       "                 gene gene_name    pvalue     n  n_indep          gene_id\n",
       "0   ENSG00000131941.7     RHPN2  0.000040  48.0      3.0  ENSG00000131941\n",
       "1   ENSG00000076650.6   GPATCH1  0.000078  40.0      3.0  ENSG00000076650\n",
       "2  ENSG00000100906.10    NFKBIA  0.000096   1.0      1.0  ENSG00000100906\n",
       "3  ENSG00000136319.11      TTC5  0.000109  47.0      5.0  ENSG00000136319\n",
       "4  ENSG00000152990.13    ADGRA3  0.000135  41.0     12.0  ENSG00000152990"
      ]
     },
     "execution_count": 37,
     "metadata": {},
     "output_type": "execute_result"
    }
   ],
   "source": [
    "smultixcan_results.head()"
   ]
  },
  {
   "cell_type": "code",
   "execution_count": 38,
   "id": "9c4c023c-86d6-4c4b-8d57-c2b6b93aaf84",
   "metadata": {
    "execution": {
     "iopub.execute_input": "2022-08-08T14:16:52.593243Z",
     "iopub.status.busy": "2022-08-08T14:16:52.593037Z",
     "iopub.status.idle": "2022-08-08T14:16:52.607865Z",
     "shell.execute_reply": "2022-08-08T14:16:52.607254Z"
    },
    "papermill": {
     "duration": 0.033857,
     "end_time": "2022-08-08T14:16:52.609178",
     "exception": false,
     "start_time": "2022-08-08T14:16:52.575321",
     "status": "completed"
    },
    "tags": []
   },
   "outputs": [],
   "source": [
    "assert smultixcan_results[\"gene_id\"].is_unique"
   ]
  },
  {
   "cell_type": "markdown",
   "id": "1f9939f1-4200-40d9-a8bf-8e4fd68bee48",
   "metadata": {
    "papermill": {
     "duration": 0.016442,
     "end_time": "2022-08-08T14:16:52.643463",
     "exception": false,
     "start_time": "2022-08-08T14:16:52.627021",
     "status": "completed"
    },
    "tags": []
   },
   "source": [
    "### Get common genes with MultiPLIER"
   ]
  },
  {
   "cell_type": "code",
   "execution_count": 39,
   "id": "c820e6cf-6350-45af-b49a-0abd94f570ff",
   "metadata": {
    "execution": {
     "iopub.execute_input": "2022-08-08T14:16:52.677412Z",
     "iopub.status.busy": "2022-08-08T14:16:52.677206Z",
     "iopub.status.idle": "2022-08-08T14:16:52.693263Z",
     "shell.execute_reply": "2022-08-08T14:16:52.692683Z"
    },
    "papermill": {
     "duration": 0.034775,
     "end_time": "2022-08-08T14:16:52.694712",
     "exception": false,
     "start_time": "2022-08-08T14:16:52.659937",
     "status": "completed"
    },
    "tags": []
   },
   "outputs": [],
   "source": [
    "common_genes = set(multiplier_z_genes).intersection(\n",
    "    set(smultixcan_results[\"gene_name\"])\n",
    ")"
   ]
  },
  {
   "cell_type": "code",
   "execution_count": 40,
   "id": "0a7328f9-96c7-4ac6-a9a6-ae4fa121a4cd",
   "metadata": {
    "execution": {
     "iopub.execute_input": "2022-08-08T14:16:52.730049Z",
     "iopub.status.busy": "2022-08-08T14:16:52.729845Z",
     "iopub.status.idle": "2022-08-08T14:16:52.742931Z",
     "shell.execute_reply": "2022-08-08T14:16:52.742491Z"
    },
    "papermill": {
     "duration": 0.032263,
     "end_time": "2022-08-08T14:16:52.744117",
     "exception": false,
     "start_time": "2022-08-08T14:16:52.711854",
     "status": "completed"
    },
    "tags": []
   },
   "outputs": [
    {
     "data": {
      "text/plain": [
       "6444"
      ]
     },
     "execution_count": 40,
     "metadata": {},
     "output_type": "execute_result"
    }
   ],
   "source": [
    "len(common_genes)"
   ]
  },
  {
   "cell_type": "code",
   "execution_count": 41,
   "id": "5b08d362-44c8-4db2-9258-670e2e2a9cc0",
   "metadata": {
    "execution": {
     "iopub.execute_input": "2022-08-08T14:16:52.778974Z",
     "iopub.status.busy": "2022-08-08T14:16:52.778771Z",
     "iopub.status.idle": "2022-08-08T14:16:52.793670Z",
     "shell.execute_reply": "2022-08-08T14:16:52.793098Z"
    },
    "papermill": {
     "duration": 0.033536,
     "end_time": "2022-08-08T14:16:52.794817",
     "exception": false,
     "start_time": "2022-08-08T14:16:52.761281",
     "status": "completed"
    },
    "tags": []
   },
   "outputs": [
    {
     "data": {
      "text/plain": [
       "['A2M', 'AAAS', 'AANAT', 'AARS', 'AARS2']"
      ]
     },
     "execution_count": 41,
     "metadata": {},
     "output_type": "execute_result"
    }
   ],
   "source": [
    "sorted(list(common_genes))[:5]"
   ]
  },
  {
   "cell_type": "markdown",
   "id": "7f51338b-8a75-42c3-a7e5-a0961cefb663",
   "metadata": {
    "papermill": {
     "duration": 0.016846,
     "end_time": "2022-08-08T14:16:52.828904",
     "exception": false,
     "start_time": "2022-08-08T14:16:52.812058",
     "status": "completed"
    },
    "tags": []
   },
   "source": [
    "## Genes info"
   ]
  },
  {
   "cell_type": "code",
   "execution_count": 42,
   "id": "bb932812",
   "metadata": {
    "execution": {
     "iopub.execute_input": "2022-08-08T14:16:52.863614Z",
     "iopub.status.busy": "2022-08-08T14:16:52.863070Z",
     "iopub.status.idle": "2022-08-08T14:16:53.305908Z",
     "shell.execute_reply": "2022-08-08T14:16:53.305109Z"
    },
    "papermill": {
     "duration": 0.462288,
     "end_time": "2022-08-08T14:16:53.307925",
     "exception": false,
     "start_time": "2022-08-08T14:16:52.845637",
     "status": "completed"
    },
    "tags": []
   },
   "outputs": [],
   "source": [
    "multiplier_gene_obj = {\n",
    "    gene_name: Gene(name=gene_name)\n",
    "    for gene_name in common_genes\n",
    "    if gene_name in Gene.GENE_NAME_TO_ID_MAP\n",
    "}"
   ]
  },
  {
   "cell_type": "code",
   "execution_count": 43,
   "id": "cb9d7a45-2b7d-4d10-80dc-212a625b5ae7",
   "metadata": {
    "execution": {
     "iopub.execute_input": "2022-08-08T14:16:53.353780Z",
     "iopub.status.busy": "2022-08-08T14:16:53.353596Z",
     "iopub.status.idle": "2022-08-08T14:16:53.366938Z",
     "shell.execute_reply": "2022-08-08T14:16:53.366391Z"
    },
    "papermill": {
     "duration": 0.036978,
     "end_time": "2022-08-08T14:16:53.368366",
     "exception": false,
     "start_time": "2022-08-08T14:16:53.331388",
     "status": "completed"
    },
    "tags": []
   },
   "outputs": [],
   "source": [
    "# delete common_genes, from now on, genes_info should be used for common genes\n",
    "del common_genes"
   ]
  },
  {
   "cell_type": "code",
   "execution_count": 44,
   "id": "39533214",
   "metadata": {
    "execution": {
     "iopub.execute_input": "2022-08-08T14:16:53.407859Z",
     "iopub.status.busy": "2022-08-08T14:16:53.407598Z",
     "iopub.status.idle": "2022-08-08T14:16:53.420489Z",
     "shell.execute_reply": "2022-08-08T14:16:53.419983Z"
    },
    "papermill": {
     "duration": 0.032984,
     "end_time": "2022-08-08T14:16:53.421684",
     "exception": false,
     "start_time": "2022-08-08T14:16:53.388700",
     "status": "completed"
    },
    "tags": []
   },
   "outputs": [
    {
     "data": {
      "text/plain": [
       "6444"
      ]
     },
     "execution_count": 44,
     "metadata": {},
     "output_type": "execute_result"
    }
   ],
   "source": [
    "len(multiplier_gene_obj)"
   ]
  },
  {
   "cell_type": "code",
   "execution_count": 45,
   "id": "9a5d0b84",
   "metadata": {
    "execution": {
     "iopub.execute_input": "2022-08-08T14:16:53.457236Z",
     "iopub.status.busy": "2022-08-08T14:16:53.457052Z",
     "iopub.status.idle": "2022-08-08T14:16:53.473030Z",
     "shell.execute_reply": "2022-08-08T14:16:53.472171Z"
    },
    "papermill": {
     "duration": 0.037065,
     "end_time": "2022-08-08T14:16:53.476222",
     "exception": false,
     "start_time": "2022-08-08T14:16:53.439157",
     "status": "completed"
    },
    "tags": []
   },
   "outputs": [],
   "source": [
    "assert multiplier_gene_obj[\"GAS6\"].ensembl_id == \"ENSG00000183087\""
   ]
  },
  {
   "cell_type": "code",
   "execution_count": 46,
   "id": "e3ffabc7",
   "metadata": {
    "execution": {
     "iopub.execute_input": "2022-08-08T14:16:53.515104Z",
     "iopub.status.busy": "2022-08-08T14:16:53.514886Z",
     "iopub.status.idle": "2022-08-08T14:16:56.122259Z",
     "shell.execute_reply": "2022-08-08T14:16:56.121082Z"
    },
    "papermill": {
     "duration": 2.629652,
     "end_time": "2022-08-08T14:16:56.125441",
     "exception": false,
     "start_time": "2022-08-08T14:16:53.495789",
     "status": "completed"
    },
    "tags": []
   },
   "outputs": [],
   "source": [
    "_gene_obj = list(multiplier_gene_obj.values())\n",
    "\n",
    "genes_info = pd.DataFrame(\n",
    "    {\n",
    "        \"name\": [g.name for g in _gene_obj],\n",
    "        \"id\": [g.ensembl_id for g in _gene_obj],\n",
    "        \"chr\": [g.chromosome for g in _gene_obj],\n",
    "        \"band\": [g.band for g in _gene_obj],\n",
    "        \"start_position\": [g.get_attribute(\"start_position\") for g in _gene_obj],\n",
    "        \"end_position\": [g.get_attribute(\"end_position\") for g in _gene_obj],\n",
    "    }\n",
    ")"
   ]
  },
  {
   "cell_type": "code",
   "execution_count": 47,
   "id": "00475e72-1cfc-485f-8b4e-1d9cce695f58",
   "metadata": {
    "execution": {
     "iopub.execute_input": "2022-08-08T14:16:56.176747Z",
     "iopub.status.busy": "2022-08-08T14:16:56.176539Z",
     "iopub.status.idle": "2022-08-08T14:16:56.703490Z",
     "shell.execute_reply": "2022-08-08T14:16:56.702665Z"
    },
    "papermill": {
     "duration": 0.54947,
     "end_time": "2022-08-08T14:16:56.705562",
     "exception": false,
     "start_time": "2022-08-08T14:16:56.156092",
     "status": "completed"
    },
    "tags": []
   },
   "outputs": [],
   "source": [
    "genes_info = genes_info.assign(\n",
    "    gene_length=genes_info.apply(\n",
    "        lambda x: x[\"end_position\"] - x[\"start_position\"], axis=1\n",
    "    )\n",
    ")"
   ]
  },
  {
   "cell_type": "code",
   "execution_count": 48,
   "id": "3af1a166-08a0-4333-bc09-b8bc762aa7ef",
   "metadata": {
    "execution": {
     "iopub.execute_input": "2022-08-08T14:16:56.752347Z",
     "iopub.status.busy": "2022-08-08T14:16:56.752155Z",
     "iopub.status.idle": "2022-08-08T14:16:56.767468Z",
     "shell.execute_reply": "2022-08-08T14:16:56.766846Z"
    },
    "papermill": {
     "duration": 0.039392,
     "end_time": "2022-08-08T14:16:56.768888",
     "exception": false,
     "start_time": "2022-08-08T14:16:56.729496",
     "status": "completed"
    },
    "tags": []
   },
   "outputs": [
    {
     "data": {
      "text/plain": [
       "name               object\n",
       "id                 object\n",
       "chr                object\n",
       "band               object\n",
       "start_position    float64\n",
       "end_position      float64\n",
       "gene_length       float64\n",
       "dtype: object"
      ]
     },
     "execution_count": 48,
     "metadata": {},
     "output_type": "execute_result"
    }
   ],
   "source": [
    "genes_info.dtypes"
   ]
  },
  {
   "cell_type": "code",
   "execution_count": 49,
   "id": "08a23f6f-87f6-4072-88c8-010b90a411cd",
   "metadata": {
    "execution": {
     "iopub.execute_input": "2022-08-08T14:16:56.806828Z",
     "iopub.status.busy": "2022-08-08T14:16:56.806646Z",
     "iopub.status.idle": "2022-08-08T14:16:56.825962Z",
     "shell.execute_reply": "2022-08-08T14:16:56.825425Z"
    },
    "papermill": {
     "duration": 0.038596,
     "end_time": "2022-08-08T14:16:56.827146",
     "exception": false,
     "start_time": "2022-08-08T14:16:56.788550",
     "status": "completed"
    },
    "tags": []
   },
   "outputs": [
    {
     "data": {
      "text/html": [
       "<div>\n",
       "<style scoped>\n",
       "    .dataframe tbody tr th:only-of-type {\n",
       "        vertical-align: middle;\n",
       "    }\n",
       "\n",
       "    .dataframe tbody tr th {\n",
       "        vertical-align: top;\n",
       "    }\n",
       "\n",
       "    .dataframe thead th {\n",
       "        text-align: right;\n",
       "    }\n",
       "</style>\n",
       "<table border=\"1\" class=\"dataframe\">\n",
       "  <thead>\n",
       "    <tr style=\"text-align: right;\">\n",
       "      <th></th>\n",
       "      <th>name</th>\n",
       "      <th>id</th>\n",
       "      <th>chr</th>\n",
       "      <th>band</th>\n",
       "      <th>start_position</th>\n",
       "      <th>end_position</th>\n",
       "      <th>gene_length</th>\n",
       "    </tr>\n",
       "  </thead>\n",
       "  <tbody>\n",
       "    <tr>\n",
       "      <th>3468</th>\n",
       "      <td>TMEM133</td>\n",
       "      <td>ENSG00000170647</td>\n",
       "      <td>None</td>\n",
       "      <td>None</td>\n",
       "      <td>NaN</td>\n",
       "      <td>NaN</td>\n",
       "      <td>NaN</td>\n",
       "    </tr>\n",
       "    <tr>\n",
       "      <th>5481</th>\n",
       "      <td>TBCE</td>\n",
       "      <td>ENSG00000116957</td>\n",
       "      <td>None</td>\n",
       "      <td>None</td>\n",
       "      <td>NaN</td>\n",
       "      <td>NaN</td>\n",
       "      <td>NaN</td>\n",
       "    </tr>\n",
       "  </tbody>\n",
       "</table>\n",
       "</div>"
      ],
      "text/plain": [
       "         name               id   chr  band  start_position  end_position  \\\n",
       "3468  TMEM133  ENSG00000170647  None  None             NaN           NaN   \n",
       "5481     TBCE  ENSG00000116957  None  None             NaN           NaN   \n",
       "\n",
       "      gene_length  \n",
       "3468          NaN  \n",
       "5481          NaN  "
      ]
     },
     "metadata": {},
     "output_type": "display_data"
    }
   ],
   "source": [
    "_tmp = genes_info[genes_info.isna().any(axis=1)]\n",
    "display(_tmp)\n",
    "assert _tmp.shape[0] < 5"
   ]
  },
  {
   "cell_type": "code",
   "execution_count": 50,
   "id": "87c010f0-8ad9-4bf0-b12d-02f37a93853a",
   "metadata": {
    "execution": {
     "iopub.execute_input": "2022-08-08T14:16:56.863657Z",
     "iopub.status.busy": "2022-08-08T14:16:56.863409Z",
     "iopub.status.idle": "2022-08-08T14:16:56.878527Z",
     "shell.execute_reply": "2022-08-08T14:16:56.878035Z"
    },
    "papermill": {
     "duration": 0.034733,
     "end_time": "2022-08-08T14:16:56.879897",
     "exception": false,
     "start_time": "2022-08-08T14:16:56.845164",
     "status": "completed"
    },
    "tags": []
   },
   "outputs": [],
   "source": [
    "genes_info = genes_info.dropna()"
   ]
  },
  {
   "cell_type": "code",
   "execution_count": 51,
   "id": "61833f43-3a92-47e9-bca3-e05b6673c7d9",
   "metadata": {
    "execution": {
     "iopub.execute_input": "2022-08-08T14:16:56.917662Z",
     "iopub.status.busy": "2022-08-08T14:16:56.917443Z",
     "iopub.status.idle": "2022-08-08T14:16:57.482380Z",
     "shell.execute_reply": "2022-08-08T14:16:57.481837Z"
    },
    "papermill": {
     "duration": 0.585419,
     "end_time": "2022-08-08T14:16:57.483994",
     "exception": false,
     "start_time": "2022-08-08T14:16:56.898575",
     "status": "completed"
    },
    "tags": []
   },
   "outputs": [],
   "source": [
    "genes_info[\"chr\"] = genes_info[\"chr\"].apply(pd.to_numeric, downcast=\"integer\")\n",
    "genes_info[\"start_position\"] = genes_info[\"start_position\"].astype(int)\n",
    "genes_info[\"end_position\"] = genes_info[\"end_position\"].astype(int)\n",
    "genes_info[\"gene_length\"] = genes_info[\"gene_length\"].astype(int)"
   ]
  },
  {
   "cell_type": "code",
   "execution_count": 52,
   "id": "e4b9ae23-3edb-41a4-97aa-80cc7db6d393",
   "metadata": {
    "execution": {
     "iopub.execute_input": "2022-08-08T14:16:57.519549Z",
     "iopub.status.busy": "2022-08-08T14:16:57.519345Z",
     "iopub.status.idle": "2022-08-08T14:16:57.533214Z",
     "shell.execute_reply": "2022-08-08T14:16:57.532682Z"
    },
    "papermill": {
     "duration": 0.032902,
     "end_time": "2022-08-08T14:16:57.534460",
     "exception": false,
     "start_time": "2022-08-08T14:16:57.501558",
     "status": "completed"
    },
    "tags": []
   },
   "outputs": [
    {
     "data": {
      "text/plain": [
       "name              object\n",
       "id                object\n",
       "chr                int64\n",
       "band              object\n",
       "start_position     int64\n",
       "end_position       int64\n",
       "gene_length        int64\n",
       "dtype: object"
      ]
     },
     "execution_count": 52,
     "metadata": {},
     "output_type": "execute_result"
    }
   ],
   "source": [
    "genes_info.dtypes"
   ]
  },
  {
   "cell_type": "code",
   "execution_count": 53,
   "id": "09d6320a-b1c4-4200-a23e-184bc4be69c7",
   "metadata": {
    "execution": {
     "iopub.execute_input": "2022-08-08T14:16:57.571261Z",
     "iopub.status.busy": "2022-08-08T14:16:57.570681Z",
     "iopub.status.idle": "2022-08-08T14:16:57.583554Z",
     "shell.execute_reply": "2022-08-08T14:16:57.583132Z"
    },
    "papermill": {
     "duration": 0.032374,
     "end_time": "2022-08-08T14:16:57.584915",
     "exception": false,
     "start_time": "2022-08-08T14:16:57.552541",
     "status": "completed"
    },
    "tags": []
   },
   "outputs": [],
   "source": [
    "assert genes_info[\"name\"].is_unique"
   ]
  },
  {
   "cell_type": "code",
   "execution_count": 54,
   "id": "009d11e4-f8cb-4a81-823d-c7f10b906d3b",
   "metadata": {
    "execution": {
     "iopub.execute_input": "2022-08-08T14:16:57.621579Z",
     "iopub.status.busy": "2022-08-08T14:16:57.620766Z",
     "iopub.status.idle": "2022-08-08T14:16:57.634500Z",
     "shell.execute_reply": "2022-08-08T14:16:57.633915Z"
    },
    "papermill": {
     "duration": 0.033188,
     "end_time": "2022-08-08T14:16:57.635870",
     "exception": false,
     "start_time": "2022-08-08T14:16:57.602682",
     "status": "completed"
    },
    "tags": []
   },
   "outputs": [],
   "source": [
    "assert genes_info[\"id\"].is_unique"
   ]
  },
  {
   "cell_type": "code",
   "execution_count": 55,
   "id": "e23519b8",
   "metadata": {
    "execution": {
     "iopub.execute_input": "2022-08-08T14:16:57.673157Z",
     "iopub.status.busy": "2022-08-08T14:16:57.672978Z",
     "iopub.status.idle": "2022-08-08T14:16:57.688960Z",
     "shell.execute_reply": "2022-08-08T14:16:57.688265Z"
    },
    "papermill": {
     "duration": 0.037932,
     "end_time": "2022-08-08T14:16:57.692063",
     "exception": false,
     "start_time": "2022-08-08T14:16:57.654131",
     "status": "completed"
    },
    "tags": []
   },
   "outputs": [
    {
     "data": {
      "text/plain": [
       "(6442, 7)"
      ]
     },
     "execution_count": 55,
     "metadata": {},
     "output_type": "execute_result"
    }
   ],
   "source": [
    "genes_info.shape"
   ]
  },
  {
   "cell_type": "code",
   "execution_count": 56,
   "id": "0d71881c",
   "metadata": {
    "execution": {
     "iopub.execute_input": "2022-08-08T14:16:57.736462Z",
     "iopub.status.busy": "2022-08-08T14:16:57.736293Z",
     "iopub.status.idle": "2022-08-08T14:16:57.753859Z",
     "shell.execute_reply": "2022-08-08T14:16:57.753232Z"
    },
    "papermill": {
     "duration": 0.040191,
     "end_time": "2022-08-08T14:16:57.755083",
     "exception": false,
     "start_time": "2022-08-08T14:16:57.714892",
     "status": "completed"
    },
    "tags": []
   },
   "outputs": [
    {
     "data": {
      "text/html": [
       "<div>\n",
       "<style scoped>\n",
       "    .dataframe tbody tr th:only-of-type {\n",
       "        vertical-align: middle;\n",
       "    }\n",
       "\n",
       "    .dataframe tbody tr th {\n",
       "        vertical-align: top;\n",
       "    }\n",
       "\n",
       "    .dataframe thead th {\n",
       "        text-align: right;\n",
       "    }\n",
       "</style>\n",
       "<table border=\"1\" class=\"dataframe\">\n",
       "  <thead>\n",
       "    <tr style=\"text-align: right;\">\n",
       "      <th></th>\n",
       "      <th>name</th>\n",
       "      <th>id</th>\n",
       "      <th>chr</th>\n",
       "      <th>band</th>\n",
       "      <th>start_position</th>\n",
       "      <th>end_position</th>\n",
       "      <th>gene_length</th>\n",
       "    </tr>\n",
       "  </thead>\n",
       "  <tbody>\n",
       "    <tr>\n",
       "      <th>0</th>\n",
       "      <td>CTSF</td>\n",
       "      <td>ENSG00000174080</td>\n",
       "      <td>11</td>\n",
       "      <td>11q13.2</td>\n",
       "      <td>66563464</td>\n",
       "      <td>66568841</td>\n",
       "      <td>5377</td>\n",
       "    </tr>\n",
       "    <tr>\n",
       "      <th>1</th>\n",
       "      <td>GUCY2D</td>\n",
       "      <td>ENSG00000132518</td>\n",
       "      <td>17</td>\n",
       "      <td>17p13.1</td>\n",
       "      <td>8002594</td>\n",
       "      <td>8020339</td>\n",
       "      <td>17745</td>\n",
       "    </tr>\n",
       "    <tr>\n",
       "      <th>2</th>\n",
       "      <td>NDUFB8</td>\n",
       "      <td>ENSG00000166136</td>\n",
       "      <td>10</td>\n",
       "      <td>10q24.31</td>\n",
       "      <td>100523740</td>\n",
       "      <td>100530000</td>\n",
       "      <td>6260</td>\n",
       "    </tr>\n",
       "    <tr>\n",
       "      <th>3</th>\n",
       "      <td>KIF5B</td>\n",
       "      <td>ENSG00000170759</td>\n",
       "      <td>10</td>\n",
       "      <td>10p11.22</td>\n",
       "      <td>32009015</td>\n",
       "      <td>32056425</td>\n",
       "      <td>47410</td>\n",
       "    </tr>\n",
       "    <tr>\n",
       "      <th>4</th>\n",
       "      <td>SAE1</td>\n",
       "      <td>ENSG00000142230</td>\n",
       "      <td>19</td>\n",
       "      <td>19q13.32</td>\n",
       "      <td>47113274</td>\n",
       "      <td>47210636</td>\n",
       "      <td>97362</td>\n",
       "    </tr>\n",
       "  </tbody>\n",
       "</table>\n",
       "</div>"
      ],
      "text/plain": [
       "     name               id  chr      band  start_position  end_position  \\\n",
       "0    CTSF  ENSG00000174080   11   11q13.2        66563464      66568841   \n",
       "1  GUCY2D  ENSG00000132518   17   17p13.1         8002594       8020339   \n",
       "2  NDUFB8  ENSG00000166136   10  10q24.31       100523740     100530000   \n",
       "3   KIF5B  ENSG00000170759   10  10p11.22        32009015      32056425   \n",
       "4    SAE1  ENSG00000142230   19  19q13.32        47113274      47210636   \n",
       "\n",
       "   gene_length  \n",
       "0         5377  \n",
       "1        17745  \n",
       "2         6260  \n",
       "3        47410  \n",
       "4        97362  "
      ]
     },
     "execution_count": 56,
     "metadata": {},
     "output_type": "execute_result"
    }
   ],
   "source": [
    "genes_info.head()"
   ]
  },
  {
   "cell_type": "code",
   "execution_count": 57,
   "id": "eb968287-d9cf-40f6-a93e-6b322b844404",
   "metadata": {
    "execution": {
     "iopub.execute_input": "2022-08-08T14:16:57.794121Z",
     "iopub.status.busy": "2022-08-08T14:16:57.793539Z",
     "iopub.status.idle": "2022-08-08T14:16:57.814599Z",
     "shell.execute_reply": "2022-08-08T14:16:57.813987Z"
    },
    "papermill": {
     "duration": 0.040746,
     "end_time": "2022-08-08T14:16:57.815850",
     "exception": false,
     "start_time": "2022-08-08T14:16:57.775104",
     "status": "completed"
    },
    "tags": []
   },
   "outputs": [
    {
     "data": {
      "text/html": [
       "<div>\n",
       "<style scoped>\n",
       "    .dataframe tbody tr th:only-of-type {\n",
       "        vertical-align: middle;\n",
       "    }\n",
       "\n",
       "    .dataframe tbody tr th {\n",
       "        vertical-align: top;\n",
       "    }\n",
       "\n",
       "    .dataframe thead th {\n",
       "        text-align: right;\n",
       "    }\n",
       "</style>\n",
       "<table border=\"1\" class=\"dataframe\">\n",
       "  <thead>\n",
       "    <tr style=\"text-align: right;\">\n",
       "      <th></th>\n",
       "      <th>name</th>\n",
       "      <th>id</th>\n",
       "      <th>chr</th>\n",
       "      <th>band</th>\n",
       "      <th>start_position</th>\n",
       "      <th>end_position</th>\n",
       "      <th>gene_length</th>\n",
       "    </tr>\n",
       "  </thead>\n",
       "  <tbody>\n",
       "    <tr>\n",
       "      <th>4999</th>\n",
       "      <td>VAV3</td>\n",
       "      <td>ENSG00000134215</td>\n",
       "      <td>1</td>\n",
       "      <td>1p13.3</td>\n",
       "      <td>107571161</td>\n",
       "      <td>107965180</td>\n",
       "      <td>394019</td>\n",
       "    </tr>\n",
       "    <tr>\n",
       "      <th>2027</th>\n",
       "      <td>USF1</td>\n",
       "      <td>ENSG00000158773</td>\n",
       "      <td>1</td>\n",
       "      <td>1q23.3</td>\n",
       "      <td>161039251</td>\n",
       "      <td>161045977</td>\n",
       "      <td>6726</td>\n",
       "    </tr>\n",
       "    <tr>\n",
       "      <th>4816</th>\n",
       "      <td>RGS13</td>\n",
       "      <td>ENSG00000127074</td>\n",
       "      <td>1</td>\n",
       "      <td>1q31.2</td>\n",
       "      <td>192636138</td>\n",
       "      <td>192660306</td>\n",
       "      <td>24168</td>\n",
       "    </tr>\n",
       "    <tr>\n",
       "      <th>5993</th>\n",
       "      <td>S1PR1</td>\n",
       "      <td>ENSG00000170989</td>\n",
       "      <td>1</td>\n",
       "      <td>1p21.2</td>\n",
       "      <td>101236865</td>\n",
       "      <td>101243713</td>\n",
       "      <td>6848</td>\n",
       "    </tr>\n",
       "    <tr>\n",
       "      <th>2016</th>\n",
       "      <td>MED8</td>\n",
       "      <td>ENSG00000159479</td>\n",
       "      <td>1</td>\n",
       "      <td>1p34.2</td>\n",
       "      <td>43383917</td>\n",
       "      <td>43389808</td>\n",
       "      <td>5891</td>\n",
       "    </tr>\n",
       "    <tr>\n",
       "      <th>...</th>\n",
       "      <td>...</td>\n",
       "      <td>...</td>\n",
       "      <td>...</td>\n",
       "      <td>...</td>\n",
       "      <td>...</td>\n",
       "      <td>...</td>\n",
       "      <td>...</td>\n",
       "    </tr>\n",
       "    <tr>\n",
       "      <th>4118</th>\n",
       "      <td>RAC2</td>\n",
       "      <td>ENSG00000128340</td>\n",
       "      <td>22</td>\n",
       "      <td>22q13.1</td>\n",
       "      <td>37225270</td>\n",
       "      <td>37244448</td>\n",
       "      <td>19178</td>\n",
       "    </tr>\n",
       "    <tr>\n",
       "      <th>1077</th>\n",
       "      <td>POLDIP3</td>\n",
       "      <td>ENSG00000100227</td>\n",
       "      <td>22</td>\n",
       "      <td>22q13.2</td>\n",
       "      <td>42583721</td>\n",
       "      <td>42614962</td>\n",
       "      <td>31241</td>\n",
       "    </tr>\n",
       "    <tr>\n",
       "      <th>1686</th>\n",
       "      <td>CYB5R3</td>\n",
       "      <td>ENSG00000100243</td>\n",
       "      <td>22</td>\n",
       "      <td>22q13.2</td>\n",
       "      <td>42617840</td>\n",
       "      <td>42649392</td>\n",
       "      <td>31552</td>\n",
       "    </tr>\n",
       "    <tr>\n",
       "      <th>1672</th>\n",
       "      <td>KREMEN1</td>\n",
       "      <td>ENSG00000183762</td>\n",
       "      <td>22</td>\n",
       "      <td>22q12.1</td>\n",
       "      <td>29073078</td>\n",
       "      <td>29168333</td>\n",
       "      <td>95255</td>\n",
       "    </tr>\n",
       "    <tr>\n",
       "      <th>5015</th>\n",
       "      <td>SREBF2</td>\n",
       "      <td>ENSG00000198911</td>\n",
       "      <td>22</td>\n",
       "      <td>22q13.2</td>\n",
       "      <td>41833079</td>\n",
       "      <td>41907307</td>\n",
       "      <td>74228</td>\n",
       "    </tr>\n",
       "  </tbody>\n",
       "</table>\n",
       "<p>6442 rows × 7 columns</p>\n",
       "</div>"
      ],
      "text/plain": [
       "         name               id  chr     band  start_position  end_position  \\\n",
       "4999     VAV3  ENSG00000134215    1   1p13.3       107571161     107965180   \n",
       "2027     USF1  ENSG00000158773    1   1q23.3       161039251     161045977   \n",
       "4816    RGS13  ENSG00000127074    1   1q31.2       192636138     192660306   \n",
       "5993    S1PR1  ENSG00000170989    1   1p21.2       101236865     101243713   \n",
       "2016     MED8  ENSG00000159479    1   1p34.2        43383917      43389808   \n",
       "...       ...              ...  ...      ...             ...           ...   \n",
       "4118     RAC2  ENSG00000128340   22  22q13.1        37225270      37244448   \n",
       "1077  POLDIP3  ENSG00000100227   22  22q13.2        42583721      42614962   \n",
       "1686   CYB5R3  ENSG00000100243   22  22q13.2        42617840      42649392   \n",
       "1672  KREMEN1  ENSG00000183762   22  22q12.1        29073078      29168333   \n",
       "5015   SREBF2  ENSG00000198911   22  22q13.2        41833079      41907307   \n",
       "\n",
       "      gene_length  \n",
       "4999       394019  \n",
       "2027         6726  \n",
       "4816        24168  \n",
       "5993         6848  \n",
       "2016         5891  \n",
       "...           ...  \n",
       "4118        19178  \n",
       "1077        31241  \n",
       "1686        31552  \n",
       "1672        95255  \n",
       "5015        74228  \n",
       "\n",
       "[6442 rows x 7 columns]"
      ]
     },
     "execution_count": 57,
     "metadata": {},
     "output_type": "execute_result"
    }
   ],
   "source": [
    "genes_info.sort_values(\"chr\")"
   ]
  },
  {
   "cell_type": "markdown",
   "id": "7282b84d-f4f3-4e8c-9dd8-6319505ed4b5",
   "metadata": {
    "papermill": {
     "duration": 0.018288,
     "end_time": "2022-08-08T14:16:57.853036",
     "exception": false,
     "start_time": "2022-08-08T14:16:57.834748",
     "status": "completed"
    },
    "tags": []
   },
   "source": [
    "### Save"
   ]
  },
  {
   "cell_type": "code",
   "execution_count": 58,
   "id": "32cf6566-03bb-4a85-81e1-da46fc9f37ad",
   "metadata": {
    "execution": {
     "iopub.execute_input": "2022-08-08T14:16:57.889898Z",
     "iopub.status.busy": "2022-08-08T14:16:57.889712Z",
     "iopub.status.idle": "2022-08-08T14:16:57.904543Z",
     "shell.execute_reply": "2022-08-08T14:16:57.903935Z"
    },
    "papermill": {
     "duration": 0.034867,
     "end_time": "2022-08-08T14:16:57.905927",
     "exception": false,
     "start_time": "2022-08-08T14:16:57.871060",
     "status": "completed"
    },
    "tags": []
   },
   "outputs": [],
   "source": [
    "genes_info.to_pickle(OUTPUT_DIR_BASE / \"genes_info.pkl\")"
   ]
  },
  {
   "cell_type": "markdown",
   "id": "5b9f384a-5a91-4a8d-9007-cfe43f2d86f8",
   "metadata": {
    "papermill": {
     "duration": 0.018479,
     "end_time": "2022-08-08T14:16:57.943476",
     "exception": false,
     "start_time": "2022-08-08T14:16:57.924997",
     "status": "completed"
    },
    "tags": []
   },
   "source": [
    "## S-PrediXcan results"
   ]
  },
  {
   "cell_type": "markdown",
   "id": "fc0a2a4c-960c-4a0a-9b23-b66c3d5d6e07",
   "metadata": {
    "papermill": {
     "duration": 0.01811,
     "end_time": "2022-08-08T14:16:57.979746",
     "exception": false,
     "start_time": "2022-08-08T14:16:57.961636",
     "status": "completed"
    },
    "tags": []
   },
   "source": [
    "### Load results across all tissues"
   ]
  },
  {
   "cell_type": "code",
   "execution_count": 59,
   "id": "0b4867d7-a608-4b08-9d77-1782be3a0c94",
   "metadata": {
    "execution": {
     "iopub.execute_input": "2022-08-08T14:16:58.016919Z",
     "iopub.status.busy": "2022-08-08T14:16:58.016714Z",
     "iopub.status.idle": "2022-08-08T14:16:58.029326Z",
     "shell.execute_reply": "2022-08-08T14:16:58.028766Z"
    },
    "papermill": {
     "duration": 0.032869,
     "end_time": "2022-08-08T14:16:58.030651",
     "exception": false,
     "start_time": "2022-08-08T14:16:57.997782",
     "status": "completed"
    },
    "tags": []
   },
   "outputs": [],
   "source": [
    "spredixcan_result_files = {\n",
    "    t: SPREDIXCAN_FOLDER / SPREDIXCAN_FILE_PATTERN.format(tissue=t)\n",
    "    for t in prediction_model_tissues\n",
    "}"
   ]
  },
  {
   "cell_type": "code",
   "execution_count": 60,
   "id": "0ce270dd-46ac-4eaa-9d86-2b201d67d82f",
   "metadata": {
    "execution": {
     "iopub.execute_input": "2022-08-08T14:16:58.068206Z",
     "iopub.status.busy": "2022-08-08T14:16:58.067980Z",
     "iopub.status.idle": "2022-08-08T14:16:58.080751Z",
     "shell.execute_reply": "2022-08-08T14:16:58.080151Z"
    },
    "papermill": {
     "duration": 0.032993,
     "end_time": "2022-08-08T14:16:58.081962",
     "exception": false,
     "start_time": "2022-08-08T14:16:58.048969",
     "status": "completed"
    },
    "tags": []
   },
   "outputs": [
    {
     "data": {
      "text/plain": [
       "[PosixPath('/opt/data/results/gls/null_sims/twas/spredixcan/random.pheno0-gtex_v8-mashr-Skin_Not_Sun_Exposed_Suprapubic.csv'),\n",
       " PosixPath('/opt/data/results/gls/null_sims/twas/spredixcan/random.pheno0-gtex_v8-mashr-Cells_EBV-transformed_lymphocytes.csv'),\n",
       " PosixPath('/opt/data/results/gls/null_sims/twas/spredixcan/random.pheno0-gtex_v8-mashr-Brain_Frontal_Cortex_BA9.csv'),\n",
       " PosixPath('/opt/data/results/gls/null_sims/twas/spredixcan/random.pheno0-gtex_v8-mashr-Kidney_Cortex.csv'),\n",
       " PosixPath('/opt/data/results/gls/null_sims/twas/spredixcan/random.pheno0-gtex_v8-mashr-Brain_Substantia_nigra.csv')]"
      ]
     },
     "metadata": {},
     "output_type": "display_data"
    }
   ],
   "source": [
    "assert len(spredixcan_result_files) == len(prediction_model_tissues)\n",
    "display(list(spredixcan_result_files.values())[:5])"
   ]
  },
  {
   "cell_type": "code",
   "execution_count": 61,
   "id": "aa140259-303e-4912-b2bf-e7adce662f88",
   "metadata": {
    "execution": {
     "iopub.execute_input": "2022-08-08T14:16:58.120061Z",
     "iopub.status.busy": "2022-08-08T14:16:58.119850Z",
     "iopub.status.idle": "2022-08-08T14:16:58.157851Z",
     "shell.execute_reply": "2022-08-08T14:16:58.157311Z"
    },
    "papermill": {
     "duration": 0.058545,
     "end_time": "2022-08-08T14:16:58.159234",
     "exception": false,
     "start_time": "2022-08-08T14:16:58.100689",
     "status": "completed"
    },
    "tags": []
   },
   "outputs": [
    {
     "data": {
      "text/html": [
       "<div>\n",
       "<style scoped>\n",
       "    .dataframe tbody tr th:only-of-type {\n",
       "        vertical-align: middle;\n",
       "    }\n",
       "\n",
       "    .dataframe tbody tr th {\n",
       "        vertical-align: top;\n",
       "    }\n",
       "\n",
       "    .dataframe thead th {\n",
       "        text-align: right;\n",
       "    }\n",
       "</style>\n",
       "<table border=\"1\" class=\"dataframe\">\n",
       "  <thead>\n",
       "    <tr style=\"text-align: right;\">\n",
       "      <th></th>\n",
       "      <th>gene</th>\n",
       "      <th>gene_name</th>\n",
       "      <th>zscore</th>\n",
       "      <th>effect_size</th>\n",
       "      <th>pvalue</th>\n",
       "      <th>var_g</th>\n",
       "      <th>pred_perf_r2</th>\n",
       "      <th>pred_perf_pval</th>\n",
       "      <th>pred_perf_qval</th>\n",
       "      <th>n_snps_used</th>\n",
       "      <th>n_snps_in_cov</th>\n",
       "      <th>n_snps_in_model</th>\n",
       "      <th>best_gwas_p</th>\n",
       "      <th>largest_weight</th>\n",
       "    </tr>\n",
       "  </thead>\n",
       "  <tbody>\n",
       "    <tr>\n",
       "      <th>0</th>\n",
       "      <td>ENSG00000131236.16</td>\n",
       "      <td>CAP1</td>\n",
       "      <td>-3.882684</td>\n",
       "      <td>NaN</td>\n",
       "      <td>0.000103</td>\n",
       "      <td>8.369900e-05</td>\n",
       "      <td>NaN</td>\n",
       "      <td>NaN</td>\n",
       "      <td>NaN</td>\n",
       "      <td>1</td>\n",
       "      <td>1</td>\n",
       "      <td>1</td>\n",
       "      <td>0.000103</td>\n",
       "      <td>0.021593</td>\n",
       "    </tr>\n",
       "    <tr>\n",
       "      <th>1</th>\n",
       "      <td>ENSG00000130787.13</td>\n",
       "      <td>HIP1R</td>\n",
       "      <td>3.862583</td>\n",
       "      <td>NaN</td>\n",
       "      <td>0.000112</td>\n",
       "      <td>3.039669e-03</td>\n",
       "      <td>NaN</td>\n",
       "      <td>NaN</td>\n",
       "      <td>NaN</td>\n",
       "      <td>2</td>\n",
       "      <td>2</td>\n",
       "      <td>2</td>\n",
       "      <td>0.001681</td>\n",
       "      <td>0.087495</td>\n",
       "    </tr>\n",
       "    <tr>\n",
       "      <th>2</th>\n",
       "      <td>ENSG00000103018.16</td>\n",
       "      <td>CYB5B</td>\n",
       "      <td>3.478682</td>\n",
       "      <td>NaN</td>\n",
       "      <td>0.000504</td>\n",
       "      <td>6.455623e-03</td>\n",
       "      <td>NaN</td>\n",
       "      <td>NaN</td>\n",
       "      <td>NaN</td>\n",
       "      <td>1</td>\n",
       "      <td>1</td>\n",
       "      <td>1</td>\n",
       "      <td>0.000504</td>\n",
       "      <td>0.114291</td>\n",
       "    </tr>\n",
       "    <tr>\n",
       "      <th>3</th>\n",
       "      <td>ENSG00000117906.13</td>\n",
       "      <td>RCN2</td>\n",
       "      <td>3.431258</td>\n",
       "      <td>NaN</td>\n",
       "      <td>0.000601</td>\n",
       "      <td>5.848182e-07</td>\n",
       "      <td>NaN</td>\n",
       "      <td>NaN</td>\n",
       "      <td>NaN</td>\n",
       "      <td>1</td>\n",
       "      <td>1</td>\n",
       "      <td>1</td>\n",
       "      <td>0.000601</td>\n",
       "      <td>0.001696</td>\n",
       "    </tr>\n",
       "    <tr>\n",
       "      <th>4</th>\n",
       "      <td>ENSG00000135469.13</td>\n",
       "      <td>COQ10A</td>\n",
       "      <td>3.363631</td>\n",
       "      <td>NaN</td>\n",
       "      <td>0.000769</td>\n",
       "      <td>4.312235e-04</td>\n",
       "      <td>NaN</td>\n",
       "      <td>NaN</td>\n",
       "      <td>NaN</td>\n",
       "      <td>2</td>\n",
       "      <td>2</td>\n",
       "      <td>2</td>\n",
       "      <td>0.013565</td>\n",
       "      <td>0.064460</td>\n",
       "    </tr>\n",
       "  </tbody>\n",
       "</table>\n",
       "</div>"
      ],
      "text/plain": [
       "                 gene gene_name    zscore  effect_size    pvalue  \\\n",
       "0  ENSG00000131236.16      CAP1 -3.882684          NaN  0.000103   \n",
       "1  ENSG00000130787.13     HIP1R  3.862583          NaN  0.000112   \n",
       "2  ENSG00000103018.16     CYB5B  3.478682          NaN  0.000504   \n",
       "3  ENSG00000117906.13      RCN2  3.431258          NaN  0.000601   \n",
       "4  ENSG00000135469.13    COQ10A  3.363631          NaN  0.000769   \n",
       "\n",
       "          var_g  pred_perf_r2  pred_perf_pval  pred_perf_qval  n_snps_used  \\\n",
       "0  8.369900e-05           NaN             NaN             NaN            1   \n",
       "1  3.039669e-03           NaN             NaN             NaN            2   \n",
       "2  6.455623e-03           NaN             NaN             NaN            1   \n",
       "3  5.848182e-07           NaN             NaN             NaN            1   \n",
       "4  4.312235e-04           NaN             NaN             NaN            2   \n",
       "\n",
       "   n_snps_in_cov  n_snps_in_model  best_gwas_p  largest_weight  \n",
       "0              1                1     0.000103        0.021593  \n",
       "1              2                2     0.001681        0.087495  \n",
       "2              1                1     0.000504        0.114291  \n",
       "3              1                1     0.000601        0.001696  \n",
       "4              2                2     0.013565        0.064460  "
      ]
     },
     "execution_count": 61,
     "metadata": {},
     "output_type": "execute_result"
    }
   ],
   "source": [
    "# look at the structure of one result\n",
    "pd.read_csv(spredixcan_result_files[\"Whole_Blood\"]).head()"
   ]
  },
  {
   "cell_type": "code",
   "execution_count": 62,
   "id": "4381b9ff-6ab5-47f1-89d1-560f88fdf07f",
   "metadata": {
    "execution": {
     "iopub.execute_input": "2022-08-08T14:16:58.197902Z",
     "iopub.status.busy": "2022-08-08T14:16:58.197317Z",
     "iopub.status.idle": "2022-08-08T14:16:58.209673Z",
     "shell.execute_reply": "2022-08-08T14:16:58.209151Z"
    },
    "papermill": {
     "duration": 0.033098,
     "end_time": "2022-08-08T14:16:58.211020",
     "exception": false,
     "start_time": "2022-08-08T14:16:58.177922",
     "status": "completed"
    },
    "tags": []
   },
   "outputs": [],
   "source": [
    "assert all(f.exists() for f in spredixcan_result_files.values())"
   ]
  },
  {
   "cell_type": "code",
   "execution_count": 63,
   "id": "d477157f-51e9-4c7c-b826-7ab5f4fdf3e3",
   "metadata": {
    "execution": {
     "iopub.execute_input": "2022-08-08T14:16:58.248719Z",
     "iopub.status.busy": "2022-08-08T14:16:58.248513Z",
     "iopub.status.idle": "2022-08-08T14:16:59.170902Z",
     "shell.execute_reply": "2022-08-08T14:16:59.170418Z"
    },
    "papermill": {
     "duration": 0.942796,
     "end_time": "2022-08-08T14:16:59.172279",
     "exception": false,
     "start_time": "2022-08-08T14:16:58.229483",
     "status": "completed"
    },
    "tags": []
   },
   "outputs": [],
   "source": [
    "spredixcan_dfs = [\n",
    "    pd.read_csv(\n",
    "        f,\n",
    "        usecols=[\n",
    "            \"gene\",\n",
    "            \"zscore\",\n",
    "            \"pvalue\",\n",
    "            \"n_snps_used\",\n",
    "            \"n_snps_in_model\",\n",
    "        ],\n",
    "    )\n",
    "    .dropna(subset=[\"gene\", \"zscore\", \"pvalue\"])\n",
    "    .assign(tissue=t)\n",
    "    for t, f in spredixcan_result_files.items()\n",
    "]"
   ]
  },
  {
   "cell_type": "code",
   "execution_count": 64,
   "id": "9730bd37-b769-411f-bb6b-bb658d1ff88c",
   "metadata": {
    "execution": {
     "iopub.execute_input": "2022-08-08T14:16:59.210960Z",
     "iopub.status.busy": "2022-08-08T14:16:59.210754Z",
     "iopub.status.idle": "2022-08-08T14:16:59.222829Z",
     "shell.execute_reply": "2022-08-08T14:16:59.222253Z"
    },
    "papermill": {
     "duration": 0.033375,
     "end_time": "2022-08-08T14:16:59.224187",
     "exception": false,
     "start_time": "2022-08-08T14:16:59.190812",
     "status": "completed"
    },
    "tags": []
   },
   "outputs": [],
   "source": [
    "assert len(spredixcan_dfs) == len(prediction_model_tissues)"
   ]
  },
  {
   "cell_type": "code",
   "execution_count": 65,
   "id": "bcd73f53-1283-4ff6-bbb5-25fb71f5cb72",
   "metadata": {
    "execution": {
     "iopub.execute_input": "2022-08-08T14:16:59.263000Z",
     "iopub.status.busy": "2022-08-08T14:16:59.262792Z",
     "iopub.status.idle": "2022-08-08T14:16:59.340809Z",
     "shell.execute_reply": "2022-08-08T14:16:59.340209Z"
    },
    "papermill": {
     "duration": 0.099206,
     "end_time": "2022-08-08T14:16:59.342414",
     "exception": false,
     "start_time": "2022-08-08T14:16:59.243208",
     "status": "completed"
    },
    "tags": []
   },
   "outputs": [],
   "source": [
    "spredixcan_dfs = pd.concat(spredixcan_dfs)"
   ]
  },
  {
   "cell_type": "code",
   "execution_count": 66,
   "id": "ae99c7b5-14fc-4b39-a6b2-40fc703acd0a",
   "metadata": {
    "execution": {
     "iopub.execute_input": "2022-08-08T14:16:59.388200Z",
     "iopub.status.busy": "2022-08-08T14:16:59.388040Z",
     "iopub.status.idle": "2022-08-08T14:16:59.435258Z",
     "shell.execute_reply": "2022-08-08T14:16:59.434619Z"
    },
    "papermill": {
     "duration": 0.070542,
     "end_time": "2022-08-08T14:16:59.436598",
     "exception": false,
     "start_time": "2022-08-08T14:16:59.366056",
     "status": "completed"
    },
    "tags": []
   },
   "outputs": [],
   "source": [
    "assert spredixcan_dfs[\"tissue\"].unique().shape[0] == len(prediction_model_tissues)"
   ]
  },
  {
   "cell_type": "code",
   "execution_count": 67,
   "id": "b7223a23-e40f-4cd3-8988-72033f8739bd",
   "metadata": {
    "execution": {
     "iopub.execute_input": "2022-08-08T14:16:59.475347Z",
     "iopub.status.busy": "2022-08-08T14:16:59.475165Z",
     "iopub.status.idle": "2022-08-08T14:16:59.488513Z",
     "shell.execute_reply": "2022-08-08T14:16:59.487878Z"
    },
    "papermill": {
     "duration": 0.034448,
     "end_time": "2022-08-08T14:16:59.489922",
     "exception": false,
     "start_time": "2022-08-08T14:16:59.455474",
     "status": "completed"
    },
    "tags": []
   },
   "outputs": [
    {
     "data": {
      "text/plain": [
       "(652858, 6)"
      ]
     },
     "execution_count": 67,
     "metadata": {},
     "output_type": "execute_result"
    }
   ],
   "source": [
    "spredixcan_dfs.shape"
   ]
  },
  {
   "cell_type": "code",
   "execution_count": 68,
   "id": "4987073a-3b70-4162-93fb-beeb351ebfe0",
   "metadata": {
    "execution": {
     "iopub.execute_input": "2022-08-08T14:16:59.529850Z",
     "iopub.status.busy": "2022-08-08T14:16:59.529646Z",
     "iopub.status.idle": "2022-08-08T14:16:59.709630Z",
     "shell.execute_reply": "2022-08-08T14:16:59.709009Z"
    },
    "papermill": {
     "duration": 0.201446,
     "end_time": "2022-08-08T14:16:59.711253",
     "exception": false,
     "start_time": "2022-08-08T14:16:59.509807",
     "status": "completed"
    },
    "tags": []
   },
   "outputs": [],
   "source": [
    "spredixcan_dfs = spredixcan_dfs.assign(\n",
    "    gene_id=spredixcan_dfs[\"gene\"].apply(lambda g: g.split(\".\")[0])\n",
    ")"
   ]
  },
  {
   "cell_type": "code",
   "execution_count": 69,
   "id": "6b47d026-01c0-4f7c-a90e-f0baa13235f4",
   "metadata": {
    "execution": {
     "iopub.execute_input": "2022-08-08T14:16:59.758223Z",
     "iopub.status.busy": "2022-08-08T14:16:59.758057Z",
     "iopub.status.idle": "2022-08-08T14:16:59.775458Z",
     "shell.execute_reply": "2022-08-08T14:16:59.774917Z"
    },
    "papermill": {
     "duration": 0.041541,
     "end_time": "2022-08-08T14:16:59.776713",
     "exception": false,
     "start_time": "2022-08-08T14:16:59.735172",
     "status": "completed"
    },
    "tags": []
   },
   "outputs": [
    {
     "data": {
      "text/html": [
       "<div>\n",
       "<style scoped>\n",
       "    .dataframe tbody tr th:only-of-type {\n",
       "        vertical-align: middle;\n",
       "    }\n",
       "\n",
       "    .dataframe tbody tr th {\n",
       "        vertical-align: top;\n",
       "    }\n",
       "\n",
       "    .dataframe thead th {\n",
       "        text-align: right;\n",
       "    }\n",
       "</style>\n",
       "<table border=\"1\" class=\"dataframe\">\n",
       "  <thead>\n",
       "    <tr style=\"text-align: right;\">\n",
       "      <th></th>\n",
       "      <th>gene</th>\n",
       "      <th>zscore</th>\n",
       "      <th>pvalue</th>\n",
       "      <th>n_snps_used</th>\n",
       "      <th>n_snps_in_model</th>\n",
       "      <th>tissue</th>\n",
       "      <th>gene_id</th>\n",
       "    </tr>\n",
       "  </thead>\n",
       "  <tbody>\n",
       "    <tr>\n",
       "      <th>0</th>\n",
       "      <td>ENSG00000131236.16</td>\n",
       "      <td>-3.882684</td>\n",
       "      <td>0.000103</td>\n",
       "      <td>1</td>\n",
       "      <td>1</td>\n",
       "      <td>Skin_Not_Sun_Exposed_Suprapubic</td>\n",
       "      <td>ENSG00000131236</td>\n",
       "    </tr>\n",
       "    <tr>\n",
       "      <th>1</th>\n",
       "      <td>ENSG00000196172.9</td>\n",
       "      <td>-3.710444</td>\n",
       "      <td>0.000207</td>\n",
       "      <td>1</td>\n",
       "      <td>1</td>\n",
       "      <td>Skin_Not_Sun_Exposed_Suprapubic</td>\n",
       "      <td>ENSG00000196172</td>\n",
       "    </tr>\n",
       "    <tr>\n",
       "      <th>2</th>\n",
       "      <td>ENSG00000280789.1</td>\n",
       "      <td>3.403263</td>\n",
       "      <td>0.000666</td>\n",
       "      <td>2</td>\n",
       "      <td>2</td>\n",
       "      <td>Skin_Not_Sun_Exposed_Suprapubic</td>\n",
       "      <td>ENSG00000280789</td>\n",
       "    </tr>\n",
       "    <tr>\n",
       "      <th>3</th>\n",
       "      <td>ENSG00000215218.3</td>\n",
       "      <td>3.385093</td>\n",
       "      <td>0.000712</td>\n",
       "      <td>3</td>\n",
       "      <td>3</td>\n",
       "      <td>Skin_Not_Sun_Exposed_Suprapubic</td>\n",
       "      <td>ENSG00000215218</td>\n",
       "    </tr>\n",
       "    <tr>\n",
       "      <th>4</th>\n",
       "      <td>ENSG00000167371.17</td>\n",
       "      <td>3.381834</td>\n",
       "      <td>0.000720</td>\n",
       "      <td>2</td>\n",
       "      <td>2</td>\n",
       "      <td>Skin_Not_Sun_Exposed_Suprapubic</td>\n",
       "      <td>ENSG00000167371</td>\n",
       "    </tr>\n",
       "  </tbody>\n",
       "</table>\n",
       "</div>"
      ],
      "text/plain": [
       "                 gene    zscore    pvalue  n_snps_used  n_snps_in_model  \\\n",
       "0  ENSG00000131236.16 -3.882684  0.000103            1                1   \n",
       "1   ENSG00000196172.9 -3.710444  0.000207            1                1   \n",
       "2   ENSG00000280789.1  3.403263  0.000666            2                2   \n",
       "3   ENSG00000215218.3  3.385093  0.000712            3                3   \n",
       "4  ENSG00000167371.17  3.381834  0.000720            2                2   \n",
       "\n",
       "                            tissue          gene_id  \n",
       "0  Skin_Not_Sun_Exposed_Suprapubic  ENSG00000131236  \n",
       "1  Skin_Not_Sun_Exposed_Suprapubic  ENSG00000196172  \n",
       "2  Skin_Not_Sun_Exposed_Suprapubic  ENSG00000280789  \n",
       "3  Skin_Not_Sun_Exposed_Suprapubic  ENSG00000215218  \n",
       "4  Skin_Not_Sun_Exposed_Suprapubic  ENSG00000167371  "
      ]
     },
     "execution_count": 69,
     "metadata": {},
     "output_type": "execute_result"
    }
   ],
   "source": [
    "spredixcan_dfs.head()"
   ]
  },
  {
   "cell_type": "code",
   "execution_count": 70,
   "id": "d5dbdb2e-b7eb-4665-9fd4-9ce714d6af0c",
   "metadata": {
    "execution": {
     "iopub.execute_input": "2022-08-08T14:16:59.817195Z",
     "iopub.status.busy": "2022-08-08T14:16:59.816959Z",
     "iopub.status.idle": "2022-08-08T14:16:59.928649Z",
     "shell.execute_reply": "2022-08-08T14:16:59.927894Z"
    },
    "papermill": {
     "duration": 0.1333,
     "end_time": "2022-08-08T14:16:59.930280",
     "exception": false,
     "start_time": "2022-08-08T14:16:59.796980",
     "status": "completed"
    },
    "tags": []
   },
   "outputs": [],
   "source": [
    "# leave only common genes\n",
    "spredixcan_dfs = spredixcan_dfs[spredixcan_dfs[\"gene_id\"].isin(set(genes_info[\"id\"]))]"
   ]
  },
  {
   "cell_type": "code",
   "execution_count": 71,
   "id": "8d34f99a-6b43-47aa-bb07-dfc67e169538",
   "metadata": {
    "execution": {
     "iopub.execute_input": "2022-08-08T14:16:59.980649Z",
     "iopub.status.busy": "2022-08-08T14:16:59.980435Z",
     "iopub.status.idle": "2022-08-08T14:16:59.995962Z",
     "shell.execute_reply": "2022-08-08T14:16:59.995390Z"
    },
    "papermill": {
     "duration": 0.042798,
     "end_time": "2022-08-08T14:16:59.997442",
     "exception": false,
     "start_time": "2022-08-08T14:16:59.954644",
     "status": "completed"
    },
    "tags": []
   },
   "outputs": [
    {
     "data": {
      "text/plain": [
       "(233350, 7)"
      ]
     },
     "execution_count": 71,
     "metadata": {},
     "output_type": "execute_result"
    }
   ],
   "source": [
    "spredixcan_dfs.shape"
   ]
  },
  {
   "cell_type": "markdown",
   "id": "5ecfd141-ecb8-47cf-905e-25cc1b4d3f9d",
   "metadata": {
    "papermill": {
     "duration": 0.026097,
     "end_time": "2022-08-08T14:17:00.049087",
     "exception": false,
     "start_time": "2022-08-08T14:17:00.022990",
     "status": "completed"
    },
    "tags": []
   },
   "source": [
    "### Count number of tissues available per gene"
   ]
  },
  {
   "cell_type": "code",
   "execution_count": 72,
   "id": "86fe37e1-a303-4221-a12e-3a54a04dd510",
   "metadata": {
    "execution": {
     "iopub.execute_input": "2022-08-08T14:17:00.098258Z",
     "iopub.status.busy": "2022-08-08T14:17:00.098089Z",
     "iopub.status.idle": "2022-08-08T14:17:00.173429Z",
     "shell.execute_reply": "2022-08-08T14:17:00.172927Z"
    },
    "papermill": {
     "duration": 0.099925,
     "end_time": "2022-08-08T14:17:00.174796",
     "exception": false,
     "start_time": "2022-08-08T14:17:00.074871",
     "status": "completed"
    },
    "tags": []
   },
   "outputs": [],
   "source": [
    "spredixcan_genes_n_models = spredixcan_dfs.groupby(\"gene_id\")[\"tissue\"].nunique()"
   ]
  },
  {
   "cell_type": "code",
   "execution_count": 73,
   "id": "31416d48-1e4d-463f-9a5c-34d29803c3f8",
   "metadata": {
    "execution": {
     "iopub.execute_input": "2022-08-08T14:17:00.214831Z",
     "iopub.status.busy": "2022-08-08T14:17:00.214627Z",
     "iopub.status.idle": "2022-08-08T14:17:00.229484Z",
     "shell.execute_reply": "2022-08-08T14:17:00.229052Z"
    },
    "papermill": {
     "duration": 0.036436,
     "end_time": "2022-08-08T14:17:00.230711",
     "exception": false,
     "start_time": "2022-08-08T14:17:00.194275",
     "status": "completed"
    },
    "tags": []
   },
   "outputs": [
    {
     "data": {
      "text/plain": [
       "gene_id\n",
       "ENSG00000000419     2\n",
       "ENSG00000000938    36\n",
       "ENSG00000000971    34\n",
       "ENSG00000001084    32\n",
       "ENSG00000001167    40\n",
       "                   ..\n",
       "ENSG00000278540    36\n",
       "ENSG00000278828     4\n",
       "ENSG00000278845    49\n",
       "ENSG00000281005    49\n",
       "ENSG00000282608    36\n",
       "Name: tissue, Length: 6442, dtype: int64"
      ]
     },
     "execution_count": 73,
     "metadata": {},
     "output_type": "execute_result"
    }
   ],
   "source": [
    "spredixcan_genes_n_models"
   ]
  },
  {
   "cell_type": "code",
   "execution_count": 74,
   "id": "d737ad4f-f821-4546-9a3e-6703fe264b49",
   "metadata": {
    "execution": {
     "iopub.execute_input": "2022-08-08T14:17:00.270808Z",
     "iopub.status.busy": "2022-08-08T14:17:00.270602Z",
     "iopub.status.idle": "2022-08-08T14:17:00.296782Z",
     "shell.execute_reply": "2022-08-08T14:17:00.296257Z"
    },
    "papermill": {
     "duration": 0.047595,
     "end_time": "2022-08-08T14:17:00.298194",
     "exception": false,
     "start_time": "2022-08-08T14:17:00.250599",
     "status": "completed"
    },
    "tags": []
   },
   "outputs": [],
   "source": [
    "# testing that in S-MultiXcan I get the same number of tissues per gene\n",
    "_tmp_smultixcan_results_n_models = (\n",
    "    smultixcan_results.set_index(\"gene_id\")[\"n\"].astype(int).rename(\"tissue\")\n",
    ")\n",
    "\n",
    "_cg = _tmp_smultixcan_results_n_models.index.intersection(\n",
    "    spredixcan_genes_n_models.index\n",
    ")\n",
    "_tmp_smultixcan_results_n_models = _tmp_smultixcan_results_n_models.loc[_cg]\n",
    "_spredixcan = spredixcan_genes_n_models.loc[_cg]\n",
    "\n",
    "assert _spredixcan.shape[0] == _tmp_smultixcan_results_n_models.shape[0]\n",
    "assert _spredixcan.equals(_tmp_smultixcan_results_n_models.loc[_spredixcan.index])"
   ]
  },
  {
   "cell_type": "markdown",
   "id": "904d7d30-9c2d-4c3e-b674-3f081954fe8b",
   "metadata": {
    "papermill": {
     "duration": 0.01989,
     "end_time": "2022-08-08T14:17:00.338632",
     "exception": false,
     "start_time": "2022-08-08T14:17:00.318742",
     "status": "completed"
    },
    "tags": []
   },
   "source": [
    "### Get tissues available per gene"
   ]
  },
  {
   "cell_type": "code",
   "execution_count": 75,
   "id": "cf014e81-4b4e-4c46-9265-67718b3ab08e",
   "metadata": {
    "execution": {
     "iopub.execute_input": "2022-08-08T14:17:00.377839Z",
     "iopub.status.busy": "2022-08-08T14:17:00.377630Z",
     "iopub.status.idle": "2022-08-08T14:17:00.543726Z",
     "shell.execute_reply": "2022-08-08T14:17:00.543134Z"
    },
    "papermill": {
     "duration": 0.187454,
     "end_time": "2022-08-08T14:17:00.545166",
     "exception": false,
     "start_time": "2022-08-08T14:17:00.357712",
     "status": "completed"
    },
    "tags": []
   },
   "outputs": [],
   "source": [
    "spredixcan_genes_models = spredixcan_dfs.groupby(\"gene_id\")[\"tissue\"].apply(\n",
    "    lambda x: frozenset(x.tolist())\n",
    ")"
   ]
  },
  {
   "cell_type": "code",
   "execution_count": 76,
   "id": "5df09d7f-39c9-408f-9fef-5189e8ca1c87",
   "metadata": {
    "execution": {
     "iopub.execute_input": "2022-08-08T14:17:00.587212Z",
     "iopub.status.busy": "2022-08-08T14:17:00.586709Z",
     "iopub.status.idle": "2022-08-08T14:17:00.602864Z",
     "shell.execute_reply": "2022-08-08T14:17:00.602335Z"
    },
    "papermill": {
     "duration": 0.039187,
     "end_time": "2022-08-08T14:17:00.604090",
     "exception": false,
     "start_time": "2022-08-08T14:17:00.564903",
     "status": "completed"
    },
    "tags": []
   },
   "outputs": [
    {
     "data": {
      "text/plain": [
       "gene_id\n",
       "ENSG00000000419         (Brain_Hypothalamus, Brain_Substantia_nigra)\n",
       "ENSG00000000938    (Adipose_Visceral_Omentum, Esophagus_Musculari...\n",
       "ENSG00000000971    (Uterus, Brain_Putamen_basal_ganglia, Esophagu...\n",
       "ENSG00000001084    (Brain_Putamen_basal_ganglia, Brain_Amygdala, ...\n",
       "ENSG00000001167    (Adipose_Visceral_Omentum, Brain_Putamen_basal...\n",
       "                                         ...                        \n",
       "ENSG00000278540    (Adipose_Visceral_Omentum, Brain_Putamen_basal...\n",
       "ENSG00000278828    (Adipose_Visceral_Omentum, Cells_EBV-transform...\n",
       "ENSG00000278845    (Adipose_Visceral_Omentum, Uterus, Brain_Putam...\n",
       "ENSG00000281005    (Adipose_Visceral_Omentum, Uterus, Brain_Putam...\n",
       "ENSG00000282608    (Adipose_Visceral_Omentum, Uterus, Brain_Putam...\n",
       "Name: tissue, Length: 6442, dtype: object"
      ]
     },
     "execution_count": 76,
     "metadata": {},
     "output_type": "execute_result"
    }
   ],
   "source": [
    "spredixcan_genes_models"
   ]
  },
  {
   "cell_type": "code",
   "execution_count": 77,
   "id": "97c46886-5a48-4813-b890-1dcdb09ec09d",
   "metadata": {
    "execution": {
     "iopub.execute_input": "2022-08-08T14:17:00.645063Z",
     "iopub.status.busy": "2022-08-08T14:17:00.644466Z",
     "iopub.status.idle": "2022-08-08T14:17:00.656349Z",
     "shell.execute_reply": "2022-08-08T14:17:00.655689Z"
    },
    "papermill": {
     "duration": 0.033353,
     "end_time": "2022-08-08T14:17:00.657534",
     "exception": false,
     "start_time": "2022-08-08T14:17:00.624181",
     "status": "completed"
    },
    "tags": []
   },
   "outputs": [],
   "source": [
    "assert spredixcan_genes_n_models.shape[0] == spredixcan_genes_models.shape[0]"
   ]
  },
  {
   "cell_type": "code",
   "execution_count": 78,
   "id": "abc13913-a681-4297-a0e6-dde62f43c36f",
   "metadata": {
    "execution": {
     "iopub.execute_input": "2022-08-08T14:17:00.697725Z",
     "iopub.status.busy": "2022-08-08T14:17:00.697147Z",
     "iopub.status.idle": "2022-08-08T14:17:00.709628Z",
     "shell.execute_reply": "2022-08-08T14:17:00.709155Z"
    },
    "papermill": {
     "duration": 0.033728,
     "end_time": "2022-08-08T14:17:00.710922",
     "exception": false,
     "start_time": "2022-08-08T14:17:00.677194",
     "status": "completed"
    },
    "tags": []
   },
   "outputs": [],
   "source": [
    "assert spredixcan_genes_n_models.index.equals(spredixcan_genes_models.index)"
   ]
  },
  {
   "cell_type": "code",
   "execution_count": 79,
   "id": "995a02e7-b836-471b-b438-17c8c46e4fde",
   "metadata": {
    "execution": {
     "iopub.execute_input": "2022-08-08T14:17:00.751246Z",
     "iopub.status.busy": "2022-08-08T14:17:00.751041Z",
     "iopub.status.idle": "2022-08-08T14:17:00.765222Z",
     "shell.execute_reply": "2022-08-08T14:17:00.764721Z"
    },
    "papermill": {
     "duration": 0.035548,
     "end_time": "2022-08-08T14:17:00.766552",
     "exception": false,
     "start_time": "2022-08-08T14:17:00.731004",
     "status": "completed"
    },
    "tags": []
   },
   "outputs": [],
   "source": [
    "assert (spredixcan_genes_models.apply(len) <= len(prediction_model_tissues)).all()"
   ]
  },
  {
   "cell_type": "code",
   "execution_count": 80,
   "id": "0c1d0c68-1a06-480c-b6d6-d3c4fdf0f5aa",
   "metadata": {
    "execution": {
     "iopub.execute_input": "2022-08-08T14:17:00.807175Z",
     "iopub.status.busy": "2022-08-08T14:17:00.806955Z",
     "iopub.status.idle": "2022-08-08T14:17:00.823684Z",
     "shell.execute_reply": "2022-08-08T14:17:00.823142Z"
    },
    "papermill": {
     "duration": 0.038261,
     "end_time": "2022-08-08T14:17:00.824840",
     "exception": false,
     "start_time": "2022-08-08T14:17:00.786579",
     "status": "completed"
    },
    "tags": []
   },
   "outputs": [
    {
     "data": {
      "text/plain": [
       "count    6442.000000\n",
       "mean       36.223223\n",
       "std        12.976464\n",
       "min         1.000000\n",
       "25%        29.000000\n",
       "50%        41.000000\n",
       "75%        47.000000\n",
       "max        49.000000\n",
       "Name: tissue, dtype: float64"
      ]
     },
     "execution_count": 80,
     "metadata": {},
     "output_type": "execute_result"
    }
   ],
   "source": [
    "spredixcan_genes_models.apply(len).describe()"
   ]
  },
  {
   "cell_type": "code",
   "execution_count": 81,
   "id": "991b9441-6bb5-4b72-9285-5fd579875e40",
   "metadata": {
    "execution": {
     "iopub.execute_input": "2022-08-08T14:17:00.865181Z",
     "iopub.status.busy": "2022-08-08T14:17:00.864974Z",
     "iopub.status.idle": "2022-08-08T14:17:00.880652Z",
     "shell.execute_reply": "2022-08-08T14:17:00.879974Z"
    },
    "papermill": {
     "duration": 0.036962,
     "end_time": "2022-08-08T14:17:00.882010",
     "exception": false,
     "start_time": "2022-08-08T14:17:00.845048",
     "status": "completed"
    },
    "tags": []
   },
   "outputs": [],
   "source": [
    "# testing\n",
    "assert (\n",
    "    spredixcan_genes_models.loc[spredixcan_genes_n_models.index]\n",
    "    .apply(len)\n",
    "    .equals(spredixcan_genes_n_models)\n",
    ")"
   ]
  },
  {
   "cell_type": "markdown",
   "id": "3042b22d-9d88-4e21-b112-ab23cf8d24ea",
   "metadata": {
    "papermill": {
     "duration": 0.01956,
     "end_time": "2022-08-08T14:17:00.921936",
     "exception": false,
     "start_time": "2022-08-08T14:17:00.902376",
     "status": "completed"
    },
    "tags": []
   },
   "source": [
    "### Add gene name and set index"
   ]
  },
  {
   "cell_type": "code",
   "execution_count": 82,
   "id": "3b7b0e76-7aca-44bf-beff-5f1c1b6193ee",
   "metadata": {
    "execution": {
     "iopub.execute_input": "2022-08-08T14:17:00.961377Z",
     "iopub.status.busy": "2022-08-08T14:17:00.961155Z",
     "iopub.status.idle": "2022-08-08T14:17:00.974215Z",
     "shell.execute_reply": "2022-08-08T14:17:00.973734Z"
    },
    "papermill": {
     "duration": 0.034283,
     "end_time": "2022-08-08T14:17:00.975528",
     "exception": false,
     "start_time": "2022-08-08T14:17:00.941245",
     "status": "completed"
    },
    "tags": []
   },
   "outputs": [],
   "source": [
    "spredixcan_genes_models = spredixcan_genes_models.to_frame().reset_index()"
   ]
  },
  {
   "cell_type": "code",
   "execution_count": 83,
   "id": "ffab4b61-c2d4-4bcc-a147-23a4bf30f715",
   "metadata": {
    "execution": {
     "iopub.execute_input": "2022-08-08T14:17:01.016662Z",
     "iopub.status.busy": "2022-08-08T14:17:01.016457Z",
     "iopub.status.idle": "2022-08-08T14:17:01.033347Z",
     "shell.execute_reply": "2022-08-08T14:17:01.032837Z"
    },
    "papermill": {
     "duration": 0.038533,
     "end_time": "2022-08-08T14:17:01.034562",
     "exception": false,
     "start_time": "2022-08-08T14:17:00.996029",
     "status": "completed"
    },
    "tags": []
   },
   "outputs": [
    {
     "data": {
      "text/html": [
       "<div>\n",
       "<style scoped>\n",
       "    .dataframe tbody tr th:only-of-type {\n",
       "        vertical-align: middle;\n",
       "    }\n",
       "\n",
       "    .dataframe tbody tr th {\n",
       "        vertical-align: top;\n",
       "    }\n",
       "\n",
       "    .dataframe thead th {\n",
       "        text-align: right;\n",
       "    }\n",
       "</style>\n",
       "<table border=\"1\" class=\"dataframe\">\n",
       "  <thead>\n",
       "    <tr style=\"text-align: right;\">\n",
       "      <th></th>\n",
       "      <th>gene_id</th>\n",
       "      <th>tissue</th>\n",
       "    </tr>\n",
       "  </thead>\n",
       "  <tbody>\n",
       "    <tr>\n",
       "      <th>0</th>\n",
       "      <td>ENSG00000000419</td>\n",
       "      <td>(Brain_Hypothalamus, Brain_Substantia_nigra)</td>\n",
       "    </tr>\n",
       "    <tr>\n",
       "      <th>1</th>\n",
       "      <td>ENSG00000000938</td>\n",
       "      <td>(Adipose_Visceral_Omentum, Esophagus_Musculari...</td>\n",
       "    </tr>\n",
       "    <tr>\n",
       "      <th>2</th>\n",
       "      <td>ENSG00000000971</td>\n",
       "      <td>(Uterus, Brain_Putamen_basal_ganglia, Esophagu...</td>\n",
       "    </tr>\n",
       "    <tr>\n",
       "      <th>3</th>\n",
       "      <td>ENSG00000001084</td>\n",
       "      <td>(Brain_Putamen_basal_ganglia, Brain_Amygdala, ...</td>\n",
       "    </tr>\n",
       "    <tr>\n",
       "      <th>4</th>\n",
       "      <td>ENSG00000001167</td>\n",
       "      <td>(Adipose_Visceral_Omentum, Brain_Putamen_basal...</td>\n",
       "    </tr>\n",
       "  </tbody>\n",
       "</table>\n",
       "</div>"
      ],
      "text/plain": [
       "           gene_id                                             tissue\n",
       "0  ENSG00000000419       (Brain_Hypothalamus, Brain_Substantia_nigra)\n",
       "1  ENSG00000000938  (Adipose_Visceral_Omentum, Esophagus_Musculari...\n",
       "2  ENSG00000000971  (Uterus, Brain_Putamen_basal_ganglia, Esophagu...\n",
       "3  ENSG00000001084  (Brain_Putamen_basal_ganglia, Brain_Amygdala, ...\n",
       "4  ENSG00000001167  (Adipose_Visceral_Omentum, Brain_Putamen_basal..."
      ]
     },
     "execution_count": 83,
     "metadata": {},
     "output_type": "execute_result"
    }
   ],
   "source": [
    "spredixcan_genes_models.head()"
   ]
  },
  {
   "cell_type": "code",
   "execution_count": 84,
   "id": "e1cb2fe5-969f-4526-bca7-a3b8919b3509",
   "metadata": {
    "execution": {
     "iopub.execute_input": "2022-08-08T14:17:01.076120Z",
     "iopub.status.busy": "2022-08-08T14:17:01.075926Z",
     "iopub.status.idle": "2022-08-08T14:17:01.092142Z",
     "shell.execute_reply": "2022-08-08T14:17:01.091588Z"
    },
    "papermill": {
     "duration": 0.038521,
     "end_time": "2022-08-08T14:17:01.093587",
     "exception": false,
     "start_time": "2022-08-08T14:17:01.055066",
     "status": "completed"
    },
    "tags": []
   },
   "outputs": [],
   "source": [
    "spredixcan_genes_models = spredixcan_genes_models.assign(\n",
    "    gene_name=spredixcan_genes_models[\"gene_id\"].apply(\n",
    "        lambda g: Gene.GENE_ID_TO_NAME_MAP[g]\n",
    "    )\n",
    ")"
   ]
  },
  {
   "cell_type": "code",
   "execution_count": 85,
   "id": "ff078ce5-3f18-442e-a593-3326436c758e",
   "metadata": {
    "execution": {
     "iopub.execute_input": "2022-08-08T14:17:01.135919Z",
     "iopub.status.busy": "2022-08-08T14:17:01.135696Z",
     "iopub.status.idle": "2022-08-08T14:17:01.149365Z",
     "shell.execute_reply": "2022-08-08T14:17:01.148827Z"
    },
    "papermill": {
     "duration": 0.035412,
     "end_time": "2022-08-08T14:17:01.150736",
     "exception": false,
     "start_time": "2022-08-08T14:17:01.115324",
     "status": "completed"
    },
    "tags": []
   },
   "outputs": [],
   "source": [
    "spredixcan_genes_models = spredixcan_genes_models[[\"gene_id\", \"gene_name\", \"tissue\"]]"
   ]
  },
  {
   "cell_type": "code",
   "execution_count": 86,
   "id": "a65c8bf2-5ecd-4f80-a857-11f8a0c019c4",
   "metadata": {
    "execution": {
     "iopub.execute_input": "2022-08-08T14:17:01.192879Z",
     "iopub.status.busy": "2022-08-08T14:17:01.192676Z",
     "iopub.status.idle": "2022-08-08T14:17:01.206136Z",
     "shell.execute_reply": "2022-08-08T14:17:01.205586Z"
    },
    "papermill": {
     "duration": 0.03568,
     "end_time": "2022-08-08T14:17:01.207539",
     "exception": false,
     "start_time": "2022-08-08T14:17:01.171859",
     "status": "completed"
    },
    "tags": []
   },
   "outputs": [],
   "source": [
    "spredixcan_genes_models = spredixcan_genes_models.set_index(\"gene_id\")"
   ]
  },
  {
   "cell_type": "code",
   "execution_count": 87,
   "id": "af6b40b9-fc58-47a1-a1b5-4404034b008b",
   "metadata": {
    "execution": {
     "iopub.execute_input": "2022-08-08T14:17:01.248729Z",
     "iopub.status.busy": "2022-08-08T14:17:01.248525Z",
     "iopub.status.idle": "2022-08-08T14:17:01.270024Z",
     "shell.execute_reply": "2022-08-08T14:17:01.269425Z"
    },
    "papermill": {
     "duration": 0.042977,
     "end_time": "2022-08-08T14:17:01.271259",
     "exception": false,
     "start_time": "2022-08-08T14:17:01.228282",
     "status": "completed"
    },
    "tags": []
   },
   "outputs": [
    {
     "data": {
      "text/html": [
       "<div>\n",
       "<style scoped>\n",
       "    .dataframe tbody tr th:only-of-type {\n",
       "        vertical-align: middle;\n",
       "    }\n",
       "\n",
       "    .dataframe tbody tr th {\n",
       "        vertical-align: top;\n",
       "    }\n",
       "\n",
       "    .dataframe thead th {\n",
       "        text-align: right;\n",
       "    }\n",
       "</style>\n",
       "<table border=\"1\" class=\"dataframe\">\n",
       "  <thead>\n",
       "    <tr style=\"text-align: right;\">\n",
       "      <th></th>\n",
       "      <th>gene_name</th>\n",
       "      <th>tissue</th>\n",
       "    </tr>\n",
       "    <tr>\n",
       "      <th>gene_id</th>\n",
       "      <th></th>\n",
       "      <th></th>\n",
       "    </tr>\n",
       "  </thead>\n",
       "  <tbody>\n",
       "    <tr>\n",
       "      <th>ENSG00000000419</th>\n",
       "      <td>DPM1</td>\n",
       "      <td>(Brain_Hypothalamus, Brain_Substantia_nigra)</td>\n",
       "    </tr>\n",
       "    <tr>\n",
       "      <th>ENSG00000000938</th>\n",
       "      <td>FGR</td>\n",
       "      <td>(Adipose_Visceral_Omentum, Esophagus_Musculari...</td>\n",
       "    </tr>\n",
       "    <tr>\n",
       "      <th>ENSG00000000971</th>\n",
       "      <td>CFH</td>\n",
       "      <td>(Uterus, Brain_Putamen_basal_ganglia, Esophagu...</td>\n",
       "    </tr>\n",
       "    <tr>\n",
       "      <th>ENSG00000001084</th>\n",
       "      <td>GCLC</td>\n",
       "      <td>(Brain_Putamen_basal_ganglia, Brain_Amygdala, ...</td>\n",
       "    </tr>\n",
       "    <tr>\n",
       "      <th>ENSG00000001167</th>\n",
       "      <td>NFYA</td>\n",
       "      <td>(Adipose_Visceral_Omentum, Brain_Putamen_basal...</td>\n",
       "    </tr>\n",
       "  </tbody>\n",
       "</table>\n",
       "</div>"
      ],
      "text/plain": [
       "                gene_name                                             tissue\n",
       "gene_id                                                                     \n",
       "ENSG00000000419      DPM1       (Brain_Hypothalamus, Brain_Substantia_nigra)\n",
       "ENSG00000000938       FGR  (Adipose_Visceral_Omentum, Esophagus_Musculari...\n",
       "ENSG00000000971       CFH  (Uterus, Brain_Putamen_basal_ganglia, Esophagu...\n",
       "ENSG00000001084      GCLC  (Brain_Putamen_basal_ganglia, Brain_Amygdala, ...\n",
       "ENSG00000001167      NFYA  (Adipose_Visceral_Omentum, Brain_Putamen_basal..."
      ]
     },
     "execution_count": 87,
     "metadata": {},
     "output_type": "execute_result"
    }
   ],
   "source": [
    "spredixcan_genes_models.head()"
   ]
  },
  {
   "cell_type": "markdown",
   "id": "d1e67be9-9094-4a07-b89d-3a0815d503e6",
   "metadata": {
    "papermill": {
     "duration": 0.01982,
     "end_time": "2022-08-08T14:17:01.311690",
     "exception": false,
     "start_time": "2022-08-08T14:17:01.291870",
     "status": "completed"
    },
    "tags": []
   },
   "source": [
    "### Add number of tissues"
   ]
  },
  {
   "cell_type": "code",
   "execution_count": 88,
   "id": "b2702bdb-b3bc-48e6-9c3e-855924d9e74b",
   "metadata": {
    "execution": {
     "iopub.execute_input": "2022-08-08T14:17:01.352555Z",
     "iopub.status.busy": "2022-08-08T14:17:01.351957Z",
     "iopub.status.idle": "2022-08-08T14:17:01.366153Z",
     "shell.execute_reply": "2022-08-08T14:17:01.365564Z"
    },
    "papermill": {
     "duration": 0.035942,
     "end_time": "2022-08-08T14:17:01.367451",
     "exception": false,
     "start_time": "2022-08-08T14:17:01.331509",
     "status": "completed"
    },
    "tags": []
   },
   "outputs": [],
   "source": [
    "spredixcan_genes_models = spredixcan_genes_models.assign(\n",
    "    n_tissues=spredixcan_genes_models[\"tissue\"].apply(len)\n",
    ")"
   ]
  },
  {
   "cell_type": "code",
   "execution_count": 89,
   "id": "4a5eb4b8-5e11-45a3-a991-0515bd83fc03",
   "metadata": {
    "execution": {
     "iopub.execute_input": "2022-08-08T14:17:01.407960Z",
     "iopub.status.busy": "2022-08-08T14:17:01.407754Z",
     "iopub.status.idle": "2022-08-08T14:17:01.424912Z",
     "shell.execute_reply": "2022-08-08T14:17:01.424137Z"
    },
    "papermill": {
     "duration": 0.038833,
     "end_time": "2022-08-08T14:17:01.426146",
     "exception": false,
     "start_time": "2022-08-08T14:17:01.387313",
     "status": "completed"
    },
    "tags": []
   },
   "outputs": [
    {
     "data": {
      "text/html": [
       "<div>\n",
       "<style scoped>\n",
       "    .dataframe tbody tr th:only-of-type {\n",
       "        vertical-align: middle;\n",
       "    }\n",
       "\n",
       "    .dataframe tbody tr th {\n",
       "        vertical-align: top;\n",
       "    }\n",
       "\n",
       "    .dataframe thead th {\n",
       "        text-align: right;\n",
       "    }\n",
       "</style>\n",
       "<table border=\"1\" class=\"dataframe\">\n",
       "  <thead>\n",
       "    <tr style=\"text-align: right;\">\n",
       "      <th></th>\n",
       "      <th>gene_name</th>\n",
       "      <th>tissue</th>\n",
       "      <th>n_tissues</th>\n",
       "    </tr>\n",
       "    <tr>\n",
       "      <th>gene_id</th>\n",
       "      <th></th>\n",
       "      <th></th>\n",
       "      <th></th>\n",
       "    </tr>\n",
       "  </thead>\n",
       "  <tbody>\n",
       "    <tr>\n",
       "      <th>ENSG00000000419</th>\n",
       "      <td>DPM1</td>\n",
       "      <td>(Brain_Hypothalamus, Brain_Substantia_nigra)</td>\n",
       "      <td>2</td>\n",
       "    </tr>\n",
       "    <tr>\n",
       "      <th>ENSG00000000938</th>\n",
       "      <td>FGR</td>\n",
       "      <td>(Adipose_Visceral_Omentum, Esophagus_Musculari...</td>\n",
       "      <td>36</td>\n",
       "    </tr>\n",
       "    <tr>\n",
       "      <th>ENSG00000000971</th>\n",
       "      <td>CFH</td>\n",
       "      <td>(Uterus, Brain_Putamen_basal_ganglia, Esophagu...</td>\n",
       "      <td>34</td>\n",
       "    </tr>\n",
       "    <tr>\n",
       "      <th>ENSG00000001084</th>\n",
       "      <td>GCLC</td>\n",
       "      <td>(Brain_Putamen_basal_ganglia, Brain_Amygdala, ...</td>\n",
       "      <td>32</td>\n",
       "    </tr>\n",
       "    <tr>\n",
       "      <th>ENSG00000001167</th>\n",
       "      <td>NFYA</td>\n",
       "      <td>(Adipose_Visceral_Omentum, Brain_Putamen_basal...</td>\n",
       "      <td>40</td>\n",
       "    </tr>\n",
       "  </tbody>\n",
       "</table>\n",
       "</div>"
      ],
      "text/plain": [
       "                gene_name                                             tissue  \\\n",
       "gene_id                                                                        \n",
       "ENSG00000000419      DPM1       (Brain_Hypothalamus, Brain_Substantia_nigra)   \n",
       "ENSG00000000938       FGR  (Adipose_Visceral_Omentum, Esophagus_Musculari...   \n",
       "ENSG00000000971       CFH  (Uterus, Brain_Putamen_basal_ganglia, Esophagu...   \n",
       "ENSG00000001084      GCLC  (Brain_Putamen_basal_ganglia, Brain_Amygdala, ...   \n",
       "ENSG00000001167      NFYA  (Adipose_Visceral_Omentum, Brain_Putamen_basal...   \n",
       "\n",
       "                 n_tissues  \n",
       "gene_id                     \n",
       "ENSG00000000419          2  \n",
       "ENSG00000000938         36  \n",
       "ENSG00000000971         34  \n",
       "ENSG00000001084         32  \n",
       "ENSG00000001167         40  "
      ]
     },
     "execution_count": 89,
     "metadata": {},
     "output_type": "execute_result"
    }
   ],
   "source": [
    "spredixcan_genes_models.head()"
   ]
  },
  {
   "cell_type": "markdown",
   "id": "2abce820-1cb4-4a58-9dc5-b3e37d3ff037",
   "metadata": {
    "papermill": {
     "duration": 0.019915,
     "end_time": "2022-08-08T14:17:01.466445",
     "exception": false,
     "start_time": "2022-08-08T14:17:01.446530",
     "status": "completed"
    },
    "tags": []
   },
   "source": [
    "### Save"
   ]
  },
  {
   "cell_type": "markdown",
   "id": "28462e2a-da49-44c4-ae71-b3830a2b108f",
   "metadata": {
    "papermill": {
     "duration": 0.019598,
     "end_time": "2022-08-08T14:17:01.506026",
     "exception": false,
     "start_time": "2022-08-08T14:17:01.486428",
     "status": "completed"
    },
    "tags": []
   },
   "source": [
    "Here I quickly save these results to a file, given that the next steps (covariates) are slow to compute."
   ]
  },
  {
   "cell_type": "code",
   "execution_count": 90,
   "id": "9cfb687d-5ab2-4e85-9944-f5c685de8046",
   "metadata": {
    "execution": {
     "iopub.execute_input": "2022-08-08T14:17:01.564228Z",
     "iopub.status.busy": "2022-08-08T14:17:01.563490Z",
     "iopub.status.idle": "2022-08-08T14:17:01.576650Z",
     "shell.execute_reply": "2022-08-08T14:17:01.576282Z"
    },
    "papermill": {
     "duration": 0.03845,
     "end_time": "2022-08-08T14:17:01.577911",
     "exception": false,
     "start_time": "2022-08-08T14:17:01.539461",
     "status": "completed"
    },
    "tags": []
   },
   "outputs": [],
   "source": [
    "# this is important, other scripts depend on gene_name to be unique\n",
    "assert spredixcan_genes_models[\"gene_name\"].is_unique"
   ]
  },
  {
   "cell_type": "code",
   "execution_count": 91,
   "id": "b2d9bd26-afaa-4aff-a707-3109e13af9bb",
   "metadata": {
    "execution": {
     "iopub.execute_input": "2022-08-08T14:17:01.619213Z",
     "iopub.status.busy": "2022-08-08T14:17:01.619008Z",
     "iopub.status.idle": "2022-08-08T14:17:01.633156Z",
     "shell.execute_reply": "2022-08-08T14:17:01.632567Z"
    },
    "papermill": {
     "duration": 0.036008,
     "end_time": "2022-08-08T14:17:01.634494",
     "exception": false,
     "start_time": "2022-08-08T14:17:01.598486",
     "status": "completed"
    },
    "tags": []
   },
   "outputs": [],
   "source": [
    "assert not spredixcan_genes_models.isna().any(None)"
   ]
  },
  {
   "cell_type": "code",
   "execution_count": 92,
   "id": "074b103c-2960-4299-a3ac-fa37ab6f2784",
   "metadata": {
    "execution": {
     "iopub.execute_input": "2022-08-08T14:17:01.675529Z",
     "iopub.status.busy": "2022-08-08T14:17:01.675340Z",
     "iopub.status.idle": "2022-08-08T14:17:01.698195Z",
     "shell.execute_reply": "2022-08-08T14:17:01.697696Z"
    },
    "papermill": {
     "duration": 0.044831,
     "end_time": "2022-08-08T14:17:01.699587",
     "exception": false,
     "start_time": "2022-08-08T14:17:01.654756",
     "status": "completed"
    },
    "tags": []
   },
   "outputs": [],
   "source": [
    "spredixcan_genes_models.to_pickle(OUTPUT_DIR_BASE / \"gene_tissues.pkl\")"
   ]
  },
  {
   "cell_type": "markdown",
   "id": "ae18f693-4da8-48ae-85b6-8194abcca684",
   "metadata": {
    "papermill": {
     "duration": 0.020167,
     "end_time": "2022-08-08T14:17:01.740373",
     "exception": false,
     "start_time": "2022-08-08T14:17:01.720206",
     "status": "completed"
    },
    "tags": []
   },
   "source": [
    "## Add covariates based on S-PrediXcan results"
   ]
  },
  {
   "cell_type": "markdown",
   "id": "bed7a46c-4906-40b9-9dd8-0bfb584e6d2a",
   "metadata": {
    "papermill": {
     "duration": 0.019634,
     "end_time": "2022-08-08T14:17:01.779813",
     "exception": false,
     "start_time": "2022-08-08T14:17:01.760179",
     "status": "completed"
    },
    "tags": []
   },
   "source": [
    "This extend the previous file with more columns"
   ]
  },
  {
   "cell_type": "markdown",
   "id": "850c554f-2ace-40a3-a33a-477246bb07c7",
   "metadata": {
    "papermill": {
     "duration": 0.019667,
     "end_time": "2022-08-08T14:17:01.819525",
     "exception": false,
     "start_time": "2022-08-08T14:17:01.799858",
     "status": "completed"
    },
    "tags": []
   },
   "source": [
    "### Get gene's objects"
   ]
  },
  {
   "cell_type": "code",
   "execution_count": 93,
   "id": "dfd93711-5c91-4cb6-8561-f366e270b6b1",
   "metadata": {
    "execution": {
     "iopub.execute_input": "2022-08-08T14:17:01.860257Z",
     "iopub.status.busy": "2022-08-08T14:17:01.860010Z",
     "iopub.status.idle": "2022-08-08T14:17:01.878040Z",
     "shell.execute_reply": "2022-08-08T14:17:01.877484Z"
    },
    "papermill": {
     "duration": 0.039832,
     "end_time": "2022-08-08T14:17:01.879416",
     "exception": false,
     "start_time": "2022-08-08T14:17:01.839584",
     "status": "completed"
    },
    "tags": []
   },
   "outputs": [],
   "source": [
    "spredixcan_gene_obj = {\n",
    "    gene_id: Gene(ensembl_id=gene_id) for gene_id in spredixcan_genes_models.index\n",
    "}"
   ]
  },
  {
   "cell_type": "code",
   "execution_count": 94,
   "id": "59efbedc-0b5d-4d0b-bd82-95e74c0ba793",
   "metadata": {
    "execution": {
     "iopub.execute_input": "2022-08-08T14:17:01.920663Z",
     "iopub.status.busy": "2022-08-08T14:17:01.920457Z",
     "iopub.status.idle": "2022-08-08T14:17:01.933110Z",
     "shell.execute_reply": "2022-08-08T14:17:01.932600Z"
    },
    "papermill": {
     "duration": 0.034362,
     "end_time": "2022-08-08T14:17:01.934305",
     "exception": false,
     "start_time": "2022-08-08T14:17:01.899943",
     "status": "completed"
    },
    "tags": []
   },
   "outputs": [
    {
     "data": {
      "text/plain": [
       "6442"
      ]
     },
     "execution_count": 94,
     "metadata": {},
     "output_type": "execute_result"
    }
   ],
   "source": [
    "len(spredixcan_gene_obj)"
   ]
  },
  {
   "cell_type": "markdown",
   "id": "27ac1828-755a-424a-b416-6aef1f0c2e45",
   "metadata": {
    "papermill": {
     "duration": 0.020254,
     "end_time": "2022-08-08T14:17:01.974991",
     "exception": false,
     "start_time": "2022-08-08T14:17:01.954737",
     "status": "completed"
    },
    "tags": []
   },
   "source": [
    "### Add genes' variance captured by principal components"
   ]
  },
  {
   "cell_type": "code",
   "execution_count": 95,
   "id": "893b3418-054c-44d2-9ce0-7fa590aef00e",
   "metadata": {
    "execution": {
     "iopub.execute_input": "2022-08-08T14:17:02.026923Z",
     "iopub.status.busy": "2022-08-08T14:17:02.026208Z",
     "iopub.status.idle": "2022-08-08T14:17:02.039981Z",
     "shell.execute_reply": "2022-08-08T14:17:02.039351Z"
    },
    "papermill": {
     "duration": 0.040395,
     "end_time": "2022-08-08T14:17:02.041549",
     "exception": false,
     "start_time": "2022-08-08T14:17:02.001154",
     "status": "completed"
    },
    "tags": []
   },
   "outputs": [],
   "source": [
    "def _get_gene_pc_variance(gene_row):\n",
    "    gene_id = gene_row.name\n",
    "    gene_tissues = gene_row[\"tissue\"]\n",
    "    gene_obj = spredixcan_gene_obj[gene_id]\n",
    "\n",
    "    u, s, vt = gene_obj.get_tissues_correlations_svd(\n",
    "        tissues=gene_tissues,\n",
    "        snps_subset=gwas_variants_ids_set,\n",
    "        reference_panel=REFERENCE_PANEL,\n",
    "        model_type=EQTL_MODEL,\n",
    "        # use_covariance_matrix=True,\n",
    "    )\n",
    "\n",
    "    return s"
   ]
  },
  {
   "cell_type": "code",
   "execution_count": 96,
   "id": "083afa33-cea0-40d3-af20-94a1307a6607",
   "metadata": {
    "execution": {
     "iopub.execute_input": "2022-08-08T14:17:02.093552Z",
     "iopub.status.busy": "2022-08-08T14:17:02.093378Z",
     "iopub.status.idle": "2022-08-08T14:17:05.737734Z",
     "shell.execute_reply": "2022-08-08T14:17:05.737342Z"
    },
    "papermill": {
     "duration": 3.669956,
     "end_time": "2022-08-08T14:17:05.738919",
     "exception": false,
     "start_time": "2022-08-08T14:17:02.068963",
     "status": "completed"
    },
    "tags": []
   },
   "outputs": [
    {
     "data": {
      "text/plain": [
       "array([34.04228543,  4.46235102,  2.10095291,  2.01662842,  1.39383852])"
      ]
     },
     "execution_count": 96,
     "metadata": {},
     "output_type": "execute_result"
    }
   ],
   "source": [
    "_tmp = spredixcan_genes_models.loc[\"ENSG00000188976\"]\n",
    "_get_gene_pc_variance(_tmp)"
   ]
  },
  {
   "cell_type": "code",
   "execution_count": 97,
   "id": "80f7720d-79c9-4183-bb7e-b1480f31ed87",
   "metadata": {
    "execution": {
     "iopub.execute_input": "2022-08-08T14:17:05.787731Z",
     "iopub.status.busy": "2022-08-08T14:17:05.787544Z",
     "iopub.status.idle": "2022-08-08T15:27:09.968996Z",
     "shell.execute_reply": "2022-08-08T15:27:09.968546Z"
    },
    "papermill": {
     "duration": 4204.208863,
     "end_time": "2022-08-08T15:27:09.970352",
     "exception": false,
     "start_time": "2022-08-08T14:17:05.761489",
     "status": "completed"
    },
    "tags": []
   },
   "outputs": [],
   "source": [
    "spredixcan_genes_tissues_pc_variance = spredixcan_genes_models.apply(\n",
    "    _get_gene_pc_variance, axis=1\n",
    ")"
   ]
  },
  {
   "cell_type": "code",
   "execution_count": 98,
   "id": "621302a1-1407-4400-9282-e37798bb18b3",
   "metadata": {
    "execution": {
     "iopub.execute_input": "2022-08-08T15:27:10.027097Z",
     "iopub.status.busy": "2022-08-08T15:27:10.026766Z",
     "iopub.status.idle": "2022-08-08T15:27:10.044050Z",
     "shell.execute_reply": "2022-08-08T15:27:10.043617Z"
    },
    "papermill": {
     "duration": 0.047203,
     "end_time": "2022-08-08T15:27:10.045221",
     "exception": false,
     "start_time": "2022-08-08T15:27:09.998018",
     "status": "completed"
    },
    "tags": []
   },
   "outputs": [
    {
     "data": {
      "text/plain": [
       "gene_id\n",
       "ENSG00000000419             [1.0372585612589562, 0.9627414387410438]\n",
       "ENSG00000000938    [30.57880701512373, 2.0297326456001104, 1.4017...\n",
       "ENSG00000000971    [20.772608276639335, 8.177158142324833, 1.8646...\n",
       "ENSG00000001084    [20.976449940269102, 4.772354749306767, 2.2362...\n",
       "ENSG00000001167                                 [37.638369782404986]\n",
       "                                         ...                        \n",
       "ENSG00000278540    [30.32818460171692, 3.2291618901090975, 1.3858...\n",
       "ENSG00000278828             [3.0532062168877383, 0.9467937831122619]\n",
       "ENSG00000278845              [45.592035288667745, 2.289944011540384]\n",
       "ENSG00000281005                                  [48.39224693554059]\n",
       "ENSG00000282608    [22.22603946755719, 6.465743613747883, 2.75705...\n",
       "Length: 6442, dtype: object"
      ]
     },
     "execution_count": 98,
     "metadata": {},
     "output_type": "execute_result"
    }
   ],
   "source": [
    "spredixcan_genes_tissues_pc_variance"
   ]
  },
  {
   "cell_type": "code",
   "execution_count": 99,
   "id": "9ac9e0fb-e0cc-4fea-ad01-2e76d40afb3c",
   "metadata": {
    "execution": {
     "iopub.execute_input": "2022-08-08T15:27:10.089361Z",
     "iopub.status.busy": "2022-08-08T15:27:10.089173Z",
     "iopub.status.idle": "2022-08-08T15:27:10.102247Z",
     "shell.execute_reply": "2022-08-08T15:27:10.101820Z"
    },
    "papermill": {
     "duration": 0.036848,
     "end_time": "2022-08-08T15:27:10.103521",
     "exception": false,
     "start_time": "2022-08-08T15:27:10.066673",
     "status": "completed"
    },
    "tags": []
   },
   "outputs": [],
   "source": [
    "# # testing\n",
    "# assert spredixcan_genes_tissues_pc_variance.loc[\n",
    "#     \"ENSG00000188976\"\n",
    "# ].sum() == pytest.approx(44.01605629086847)\n",
    "# # this is using the covariance:\n",
    "# # assert spredixcan_genes_tissues_pc_variance.loc[\"ENSG00000188976\"].sum() == pytest.approx(1.1492946006449425)"
   ]
  },
  {
   "cell_type": "code",
   "execution_count": 100,
   "id": "700ed8c8-16e3-4f44-80ff-a4355349ac26",
   "metadata": {
    "execution": {
     "iopub.execute_input": "2022-08-08T15:27:10.158155Z",
     "iopub.status.busy": "2022-08-08T15:27:10.157906Z",
     "iopub.status.idle": "2022-08-08T15:27:10.176849Z",
     "shell.execute_reply": "2022-08-08T15:27:10.176438Z"
    },
    "papermill": {
     "duration": 0.047397,
     "end_time": "2022-08-08T15:27:10.178088",
     "exception": false,
     "start_time": "2022-08-08T15:27:10.130691",
     "status": "completed"
    },
    "tags": []
   },
   "outputs": [],
   "source": [
    "# add to spredixcan_genes_models\n",
    "spredixcan_genes_models = spredixcan_genes_models.join(\n",
    "    spredixcan_genes_tissues_pc_variance.rename(\"tissues_pc_variances\")\n",
    ")"
   ]
  },
  {
   "cell_type": "code",
   "execution_count": 101,
   "id": "597f7dff-2425-490d-84d6-537f8bd0f147",
   "metadata": {
    "execution": {
     "iopub.execute_input": "2022-08-08T15:27:10.235486Z",
     "iopub.status.busy": "2022-08-08T15:27:10.235311Z",
     "iopub.status.idle": "2022-08-08T15:27:10.251197Z",
     "shell.execute_reply": "2022-08-08T15:27:10.250498Z"
    },
    "papermill": {
     "duration": 0.046651,
     "end_time": "2022-08-08T15:27:10.252438",
     "exception": false,
     "start_time": "2022-08-08T15:27:10.205787",
     "status": "completed"
    },
    "tags": []
   },
   "outputs": [
    {
     "data": {
      "text/plain": [
       "(6442, 4)"
      ]
     },
     "execution_count": 101,
     "metadata": {},
     "output_type": "execute_result"
    }
   ],
   "source": [
    "spredixcan_genes_models.shape"
   ]
  },
  {
   "cell_type": "code",
   "execution_count": 102,
   "id": "41bdb249-f7e3-4b07-a534-2c3e46db72dc",
   "metadata": {
    "execution": {
     "iopub.execute_input": "2022-08-08T15:27:10.307788Z",
     "iopub.status.busy": "2022-08-08T15:27:10.307460Z",
     "iopub.status.idle": "2022-08-08T15:27:10.327723Z",
     "shell.execute_reply": "2022-08-08T15:27:10.327275Z"
    },
    "papermill": {
     "duration": 0.047631,
     "end_time": "2022-08-08T15:27:10.328921",
     "exception": false,
     "start_time": "2022-08-08T15:27:10.281290",
     "status": "completed"
    },
    "tags": []
   },
   "outputs": [
    {
     "data": {
      "text/html": [
       "<div>\n",
       "<style scoped>\n",
       "    .dataframe tbody tr th:only-of-type {\n",
       "        vertical-align: middle;\n",
       "    }\n",
       "\n",
       "    .dataframe tbody tr th {\n",
       "        vertical-align: top;\n",
       "    }\n",
       "\n",
       "    .dataframe thead th {\n",
       "        text-align: right;\n",
       "    }\n",
       "</style>\n",
       "<table border=\"1\" class=\"dataframe\">\n",
       "  <thead>\n",
       "    <tr style=\"text-align: right;\">\n",
       "      <th></th>\n",
       "      <th>gene_name</th>\n",
       "      <th>tissue</th>\n",
       "      <th>n_tissues</th>\n",
       "      <th>tissues_pc_variances</th>\n",
       "    </tr>\n",
       "    <tr>\n",
       "      <th>gene_id</th>\n",
       "      <th></th>\n",
       "      <th></th>\n",
       "      <th></th>\n",
       "      <th></th>\n",
       "    </tr>\n",
       "  </thead>\n",
       "  <tbody>\n",
       "    <tr>\n",
       "      <th>ENSG00000000419</th>\n",
       "      <td>DPM1</td>\n",
       "      <td>(Brain_Hypothalamus, Brain_Substantia_nigra)</td>\n",
       "      <td>2</td>\n",
       "      <td>[1.0372585612589562, 0.9627414387410438]</td>\n",
       "    </tr>\n",
       "    <tr>\n",
       "      <th>ENSG00000000938</th>\n",
       "      <td>FGR</td>\n",
       "      <td>(Adipose_Visceral_Omentum, Esophagus_Musculari...</td>\n",
       "      <td>36</td>\n",
       "      <td>[30.57880701512373, 2.0297326456001104, 1.4017...</td>\n",
       "    </tr>\n",
       "    <tr>\n",
       "      <th>ENSG00000000971</th>\n",
       "      <td>CFH</td>\n",
       "      <td>(Uterus, Brain_Putamen_basal_ganglia, Esophagu...</td>\n",
       "      <td>34</td>\n",
       "      <td>[20.772608276639335, 8.177158142324833, 1.8646...</td>\n",
       "    </tr>\n",
       "    <tr>\n",
       "      <th>ENSG00000001084</th>\n",
       "      <td>GCLC</td>\n",
       "      <td>(Brain_Putamen_basal_ganglia, Brain_Amygdala, ...</td>\n",
       "      <td>32</td>\n",
       "      <td>[20.976449940269102, 4.772354749306767, 2.2362...</td>\n",
       "    </tr>\n",
       "    <tr>\n",
       "      <th>ENSG00000001167</th>\n",
       "      <td>NFYA</td>\n",
       "      <td>(Adipose_Visceral_Omentum, Brain_Putamen_basal...</td>\n",
       "      <td>40</td>\n",
       "      <td>[37.638369782404986]</td>\n",
       "    </tr>\n",
       "  </tbody>\n",
       "</table>\n",
       "</div>"
      ],
      "text/plain": [
       "                gene_name                                             tissue  \\\n",
       "gene_id                                                                        \n",
       "ENSG00000000419      DPM1       (Brain_Hypothalamus, Brain_Substantia_nigra)   \n",
       "ENSG00000000938       FGR  (Adipose_Visceral_Omentum, Esophagus_Musculari...   \n",
       "ENSG00000000971       CFH  (Uterus, Brain_Putamen_basal_ganglia, Esophagu...   \n",
       "ENSG00000001084      GCLC  (Brain_Putamen_basal_ganglia, Brain_Amygdala, ...   \n",
       "ENSG00000001167      NFYA  (Adipose_Visceral_Omentum, Brain_Putamen_basal...   \n",
       "\n",
       "                 n_tissues                               tissues_pc_variances  \n",
       "gene_id                                                                        \n",
       "ENSG00000000419          2           [1.0372585612589562, 0.9627414387410438]  \n",
       "ENSG00000000938         36  [30.57880701512373, 2.0297326456001104, 1.4017...  \n",
       "ENSG00000000971         34  [20.772608276639335, 8.177158142324833, 1.8646...  \n",
       "ENSG00000001084         32  [20.976449940269102, 4.772354749306767, 2.2362...  \n",
       "ENSG00000001167         40                               [37.638369782404986]  "
      ]
     },
     "execution_count": 102,
     "metadata": {},
     "output_type": "execute_result"
    }
   ],
   "source": [
    "spredixcan_genes_models.head()"
   ]
  },
  {
   "cell_type": "markdown",
   "id": "e58c08e2-6179-4d47-af1e-4f5e6e048d9d",
   "metadata": {
    "papermill": {
     "duration": 0.035111,
     "end_time": "2022-08-08T15:27:10.395157",
     "exception": false,
     "start_time": "2022-08-08T15:27:10.360046",
     "status": "completed"
    },
    "tags": []
   },
   "source": [
    "### Add genes' variance captured by principal components (covariance)"
   ]
  },
  {
   "cell_type": "code",
   "execution_count": 103,
   "id": "25a97b2a-8044-4de7-b532-7b6516d2b82c",
   "metadata": {
    "execution": {
     "iopub.execute_input": "2022-08-08T15:27:10.451146Z",
     "iopub.status.busy": "2022-08-08T15:27:10.450830Z",
     "iopub.status.idle": "2022-08-08T15:27:10.465976Z",
     "shell.execute_reply": "2022-08-08T15:27:10.465531Z"
    },
    "papermill": {
     "duration": 0.041403,
     "end_time": "2022-08-08T15:27:10.467290",
     "exception": false,
     "start_time": "2022-08-08T15:27:10.425887",
     "status": "completed"
    },
    "tags": []
   },
   "outputs": [],
   "source": [
    "def _get_gene_pc_variance(gene_row):\n",
    "    gene_id = gene_row.name\n",
    "    gene_tissues = gene_row[\"tissue\"]\n",
    "    gene_obj = spredixcan_gene_obj[gene_id]\n",
    "\n",
    "    u, s, vt = gene_obj.get_tissues_correlations_svd(\n",
    "        tissues=gene_tissues,\n",
    "        snps_subset=gwas_variants_ids_set,\n",
    "        reference_panel=REFERENCE_PANEL,\n",
    "        model_type=EQTL_MODEL,\n",
    "        use_covariance_matrix=True,\n",
    "    )\n",
    "\n",
    "    return s"
   ]
  },
  {
   "cell_type": "code",
   "execution_count": 104,
   "id": "f750ce3c-3bea-49d6-beca-9f609ae69b87",
   "metadata": {
    "execution": {
     "iopub.execute_input": "2022-08-08T15:27:10.535267Z",
     "iopub.status.busy": "2022-08-08T15:27:10.534943Z",
     "iopub.status.idle": "2022-08-08T15:27:10.952047Z",
     "shell.execute_reply": "2022-08-08T15:27:10.951614Z"
    },
    "papermill": {
     "duration": 0.452899,
     "end_time": "2022-08-08T15:27:10.953220",
     "exception": false,
     "start_time": "2022-08-08T15:27:10.500321",
     "status": "completed"
    },
    "tags": []
   },
   "outputs": [
    {
     "data": {
      "text/plain": [
       "array([0.99215632, 0.1187998 , 0.03833847])"
      ]
     },
     "execution_count": 104,
     "metadata": {},
     "output_type": "execute_result"
    }
   ],
   "source": [
    "_tmp = spredixcan_genes_models.loc[\"ENSG00000188976\"]\n",
    "_get_gene_pc_variance(_tmp)"
   ]
  },
  {
   "cell_type": "code",
   "execution_count": 105,
   "id": "6502c9ff-8f64-46f9-b94f-9a4a0f6736ba",
   "metadata": {
    "execution": {
     "iopub.execute_input": "2022-08-08T15:27:11.055506Z",
     "iopub.status.busy": "2022-08-08T15:27:11.055155Z",
     "iopub.status.idle": "2022-08-08T16:38:29.342071Z",
     "shell.execute_reply": "2022-08-08T16:38:29.341634Z"
    },
    "papermill": {
     "duration": 4278.321344,
     "end_time": "2022-08-08T16:38:29.343417",
     "exception": false,
     "start_time": "2022-08-08T15:27:11.022073",
     "status": "completed"
    },
    "tags": []
   },
   "outputs": [],
   "source": [
    "spredixcan_genes_tissues_pc_variance = spredixcan_genes_models.apply(\n",
    "    _get_gene_pc_variance, axis=1\n",
    ")"
   ]
  },
  {
   "cell_type": "code",
   "execution_count": 106,
   "id": "a647f47b-6663-4bab-9ffc-c2e92b93c654",
   "metadata": {
    "execution": {
     "iopub.execute_input": "2022-08-08T16:38:29.436872Z",
     "iopub.status.busy": "2022-08-08T16:38:29.436177Z",
     "iopub.status.idle": "2022-08-08T16:38:29.457436Z",
     "shell.execute_reply": "2022-08-08T16:38:29.457002Z"
    },
    "papermill": {
     "duration": 0.054618,
     "end_time": "2022-08-08T16:38:29.458866",
     "exception": false,
     "start_time": "2022-08-08T16:38:29.404248",
     "status": "completed"
    },
    "tags": []
   },
   "outputs": [
    {
     "data": {
      "text/plain": [
       "gene_id\n",
       "ENSG00000000419        [0.008284978865240098, 0.0007326748393412591]\n",
       "ENSG00000000938          [0.22478471249969328, 0.008813873813031791]\n",
       "ENSG00000000971    [0.1969953427958011, 0.05731825316349161, 0.02...\n",
       "ENSG00000001084    [0.3657809638925394, 0.1264541371042455, 0.016...\n",
       "ENSG00000001167           [1.4787144508923984, 0.049690618387739166]\n",
       "                                         ...                        \n",
       "ENSG00000278540          [0.12964331457191366, 0.012149255372479946]\n",
       "ENSG00000278828       [0.0038984582827012826, 0.0024822589593948897]\n",
       "ENSG00000278845           [1.0985436416424625, 0.048398886087508385]\n",
       "ENSG00000281005                                   [3.75031191955603]\n",
       "ENSG00000282608    [0.238526634559254, 0.03489695664731047, 0.011...\n",
       "Length: 6442, dtype: object"
      ]
     },
     "execution_count": 106,
     "metadata": {},
     "output_type": "execute_result"
    }
   ],
   "source": [
    "spredixcan_genes_tissues_pc_variance"
   ]
  },
  {
   "cell_type": "code",
   "execution_count": 107,
   "id": "6a8d4099-1dca-4d11-a9b8-5a1119885329",
   "metadata": {
    "execution": {
     "iopub.execute_input": "2022-08-08T16:38:29.510593Z",
     "iopub.status.busy": "2022-08-08T16:38:29.510429Z",
     "iopub.status.idle": "2022-08-08T16:38:29.521993Z",
     "shell.execute_reply": "2022-08-08T16:38:29.521607Z"
    },
    "papermill": {
     "duration": 0.040203,
     "end_time": "2022-08-08T16:38:29.523195",
     "exception": false,
     "start_time": "2022-08-08T16:38:29.482992",
     "status": "completed"
    },
    "tags": []
   },
   "outputs": [],
   "source": [
    "# # testing\n",
    "# # assert spredixcan_genes_tissues_pc_variance.loc[\"ENSG00000188976\"].sum() == pytest.approx(44.01605629086847)\n",
    "# # this is using the covariance:\n",
    "# assert spredixcan_genes_tissues_pc_variance.loc[\n",
    "#     \"ENSG00000188976\"\n",
    "# ].sum() == pytest.approx(1.1492946006449425)"
   ]
  },
  {
   "cell_type": "code",
   "execution_count": 108,
   "id": "102ed25d-6c0c-466d-be27-e75a3f03a4bb",
   "metadata": {
    "execution": {
     "iopub.execute_input": "2022-08-08T16:38:29.569477Z",
     "iopub.status.busy": "2022-08-08T16:38:29.569037Z",
     "iopub.status.idle": "2022-08-08T16:38:29.583534Z",
     "shell.execute_reply": "2022-08-08T16:38:29.583116Z"
    },
    "papermill": {
     "duration": 0.038955,
     "end_time": "2022-08-08T16:38:29.584854",
     "exception": false,
     "start_time": "2022-08-08T16:38:29.545899",
     "status": "completed"
    },
    "tags": []
   },
   "outputs": [],
   "source": [
    "# add to spredixcan_genes_models\n",
    "spredixcan_genes_models = spredixcan_genes_models.join(\n",
    "    spredixcan_genes_tissues_pc_variance.rename(\"tissues_pc_variances_cov\")\n",
    ")"
   ]
  },
  {
   "cell_type": "code",
   "execution_count": 109,
   "id": "000d6517-dc14-42a2-88ef-5e6856b293b7",
   "metadata": {
    "execution": {
     "iopub.execute_input": "2022-08-08T16:38:29.642182Z",
     "iopub.status.busy": "2022-08-08T16:38:29.640928Z",
     "iopub.status.idle": "2022-08-08T16:38:29.660680Z",
     "shell.execute_reply": "2022-08-08T16:38:29.659528Z"
    },
    "papermill": {
     "duration": 0.050661,
     "end_time": "2022-08-08T16:38:29.662482",
     "exception": false,
     "start_time": "2022-08-08T16:38:29.611821",
     "status": "completed"
    },
    "tags": []
   },
   "outputs": [
    {
     "data": {
      "text/plain": [
       "(6442, 5)"
      ]
     },
     "execution_count": 109,
     "metadata": {},
     "output_type": "execute_result"
    }
   ],
   "source": [
    "spredixcan_genes_models.shape"
   ]
  },
  {
   "cell_type": "code",
   "execution_count": 110,
   "id": "a2dd6dc7-b325-4f21-910f-6611b7d87efd",
   "metadata": {
    "execution": {
     "iopub.execute_input": "2022-08-08T16:38:29.720357Z",
     "iopub.status.busy": "2022-08-08T16:38:29.719877Z",
     "iopub.status.idle": "2022-08-08T16:38:29.745049Z",
     "shell.execute_reply": "2022-08-08T16:38:29.744552Z"
    },
    "papermill": {
     "duration": 0.055142,
     "end_time": "2022-08-08T16:38:29.746513",
     "exception": false,
     "start_time": "2022-08-08T16:38:29.691371",
     "status": "completed"
    },
    "tags": []
   },
   "outputs": [
    {
     "data": {
      "text/html": [
       "<div>\n",
       "<style scoped>\n",
       "    .dataframe tbody tr th:only-of-type {\n",
       "        vertical-align: middle;\n",
       "    }\n",
       "\n",
       "    .dataframe tbody tr th {\n",
       "        vertical-align: top;\n",
       "    }\n",
       "\n",
       "    .dataframe thead th {\n",
       "        text-align: right;\n",
       "    }\n",
       "</style>\n",
       "<table border=\"1\" class=\"dataframe\">\n",
       "  <thead>\n",
       "    <tr style=\"text-align: right;\">\n",
       "      <th></th>\n",
       "      <th>gene_name</th>\n",
       "      <th>tissue</th>\n",
       "      <th>n_tissues</th>\n",
       "      <th>tissues_pc_variances</th>\n",
       "      <th>tissues_pc_variances_cov</th>\n",
       "    </tr>\n",
       "    <tr>\n",
       "      <th>gene_id</th>\n",
       "      <th></th>\n",
       "      <th></th>\n",
       "      <th></th>\n",
       "      <th></th>\n",
       "      <th></th>\n",
       "    </tr>\n",
       "  </thead>\n",
       "  <tbody>\n",
       "    <tr>\n",
       "      <th>ENSG00000000419</th>\n",
       "      <td>DPM1</td>\n",
       "      <td>(Brain_Hypothalamus, Brain_Substantia_nigra)</td>\n",
       "      <td>2</td>\n",
       "      <td>[1.0372585612589562, 0.9627414387410438]</td>\n",
       "      <td>[0.008284978865240098, 0.0007326748393412591]</td>\n",
       "    </tr>\n",
       "    <tr>\n",
       "      <th>ENSG00000000938</th>\n",
       "      <td>FGR</td>\n",
       "      <td>(Adipose_Visceral_Omentum, Esophagus_Musculari...</td>\n",
       "      <td>36</td>\n",
       "      <td>[30.57880701512373, 2.0297326456001104, 1.4017...</td>\n",
       "      <td>[0.22478471249969328, 0.008813873813031791]</td>\n",
       "    </tr>\n",
       "    <tr>\n",
       "      <th>ENSG00000000971</th>\n",
       "      <td>CFH</td>\n",
       "      <td>(Uterus, Brain_Putamen_basal_ganglia, Esophagu...</td>\n",
       "      <td>34</td>\n",
       "      <td>[20.772608276639335, 8.177158142324833, 1.8646...</td>\n",
       "      <td>[0.1969953427958011, 0.05731825316349161, 0.02...</td>\n",
       "    </tr>\n",
       "    <tr>\n",
       "      <th>ENSG00000001084</th>\n",
       "      <td>GCLC</td>\n",
       "      <td>(Brain_Putamen_basal_ganglia, Brain_Amygdala, ...</td>\n",
       "      <td>32</td>\n",
       "      <td>[20.976449940269102, 4.772354749306767, 2.2362...</td>\n",
       "      <td>[0.3657809638925394, 0.1264541371042455, 0.016...</td>\n",
       "    </tr>\n",
       "    <tr>\n",
       "      <th>ENSG00000001167</th>\n",
       "      <td>NFYA</td>\n",
       "      <td>(Adipose_Visceral_Omentum, Brain_Putamen_basal...</td>\n",
       "      <td>40</td>\n",
       "      <td>[37.638369782404986]</td>\n",
       "      <td>[1.4787144508923984, 0.049690618387739166]</td>\n",
       "    </tr>\n",
       "  </tbody>\n",
       "</table>\n",
       "</div>"
      ],
      "text/plain": [
       "                gene_name                                             tissue  \\\n",
       "gene_id                                                                        \n",
       "ENSG00000000419      DPM1       (Brain_Hypothalamus, Brain_Substantia_nigra)   \n",
       "ENSG00000000938       FGR  (Adipose_Visceral_Omentum, Esophagus_Musculari...   \n",
       "ENSG00000000971       CFH  (Uterus, Brain_Putamen_basal_ganglia, Esophagu...   \n",
       "ENSG00000001084      GCLC  (Brain_Putamen_basal_ganglia, Brain_Amygdala, ...   \n",
       "ENSG00000001167      NFYA  (Adipose_Visceral_Omentum, Brain_Putamen_basal...   \n",
       "\n",
       "                 n_tissues                               tissues_pc_variances  \\\n",
       "gene_id                                                                         \n",
       "ENSG00000000419          2           [1.0372585612589562, 0.9627414387410438]   \n",
       "ENSG00000000938         36  [30.57880701512373, 2.0297326456001104, 1.4017...   \n",
       "ENSG00000000971         34  [20.772608276639335, 8.177158142324833, 1.8646...   \n",
       "ENSG00000001084         32  [20.976449940269102, 4.772354749306767, 2.2362...   \n",
       "ENSG00000001167         40                               [37.638369782404986]   \n",
       "\n",
       "                                          tissues_pc_variances_cov  \n",
       "gene_id                                                             \n",
       "ENSG00000000419      [0.008284978865240098, 0.0007326748393412591]  \n",
       "ENSG00000000938        [0.22478471249969328, 0.008813873813031791]  \n",
       "ENSG00000000971  [0.1969953427958011, 0.05731825316349161, 0.02...  \n",
       "ENSG00000001084  [0.3657809638925394, 0.1264541371042455, 0.016...  \n",
       "ENSG00000001167         [1.4787144508923984, 0.049690618387739166]  "
      ]
     },
     "execution_count": 110,
     "metadata": {},
     "output_type": "execute_result"
    }
   ],
   "source": [
    "spredixcan_genes_models.head()"
   ]
  },
  {
   "cell_type": "markdown",
   "id": "ef1c76d7-485b-4e8a-932e-fd01382d5520",
   "metadata": {
    "papermill": {
     "duration": 0.022711,
     "end_time": "2022-08-08T16:38:29.793241",
     "exception": false,
     "start_time": "2022-08-08T16:38:29.770530",
     "status": "completed"
    },
    "tags": []
   },
   "source": [
    "### Add gene variance per tissue"
   ]
  },
  {
   "cell_type": "code",
   "execution_count": 111,
   "id": "530f7941-6ad7-4a29-b9e4-a006949282e0",
   "metadata": {
    "execution": {
     "iopub.execute_input": "2022-08-08T16:38:29.840122Z",
     "iopub.status.busy": "2022-08-08T16:38:29.839749Z",
     "iopub.status.idle": "2022-08-08T16:38:29.852618Z",
     "shell.execute_reply": "2022-08-08T16:38:29.852195Z"
    },
    "papermill": {
     "duration": 0.037285,
     "end_time": "2022-08-08T16:38:29.853860",
     "exception": false,
     "start_time": "2022-08-08T16:38:29.816575",
     "status": "completed"
    },
    "tags": []
   },
   "outputs": [],
   "source": [
    "def _get_gene_variances(gene_row):\n",
    "    gene_id = gene_row.name\n",
    "    gene_tissues = gene_row[\"tissue\"]\n",
    "\n",
    "    tissue_variances = {}\n",
    "    gene_obj = spredixcan_gene_obj[gene_id]\n",
    "\n",
    "    for tissue in gene_tissues:\n",
    "        tissue_var = gene_obj.get_pred_expression_variance(\n",
    "            tissue=tissue,\n",
    "            reference_panel=REFERENCE_PANEL,\n",
    "            model_type=EQTL_MODEL,\n",
    "            snps_subset=gwas_variants_ids_set,\n",
    "        )\n",
    "\n",
    "        if tissue_var is not None:\n",
    "            tissue_variances[tissue] = tissue_var\n",
    "\n",
    "    return tissue_variances"
   ]
  },
  {
   "cell_type": "code",
   "execution_count": 112,
   "id": "01eb9e6a-4505-44e6-9e6e-9788e257f319",
   "metadata": {
    "execution": {
     "iopub.execute_input": "2022-08-08T16:38:29.900510Z",
     "iopub.status.busy": "2022-08-08T16:38:29.900348Z",
     "iopub.status.idle": "2022-08-08T16:38:29.914663Z",
     "shell.execute_reply": "2022-08-08T16:38:29.914220Z"
    },
    "papermill": {
     "duration": 0.039065,
     "end_time": "2022-08-08T16:38:29.915902",
     "exception": false,
     "start_time": "2022-08-08T16:38:29.876837",
     "status": "completed"
    },
    "tags": []
   },
   "outputs": [
    {
     "data": {
      "text/plain": [
       "{'Brain_Hypothalamus': 0.0082838613770255,\n",
       " 'Brain_Substantia_nigra': 0.0007337923275558569}"
      ]
     },
     "execution_count": 112,
     "metadata": {},
     "output_type": "execute_result"
    }
   ],
   "source": [
    "_tmp = spredixcan_genes_models.loc[\"ENSG00000000419\"]\n",
    "_get_gene_variances(_tmp)"
   ]
  },
  {
   "cell_type": "code",
   "execution_count": 113,
   "id": "447061ec-4847-4911-a1d6-8b86d15e4aac",
   "metadata": {
    "execution": {
     "iopub.execute_input": "2022-08-08T16:38:29.963073Z",
     "iopub.status.busy": "2022-08-08T16:38:29.962708Z",
     "iopub.status.idle": "2022-08-08T16:38:32.751861Z",
     "shell.execute_reply": "2022-08-08T16:38:32.748815Z"
    },
    "papermill": {
     "duration": 2.814159,
     "end_time": "2022-08-08T16:38:32.753329",
     "exception": false,
     "start_time": "2022-08-08T16:38:29.939170",
     "status": "completed"
    },
    "tags": []
   },
   "outputs": [],
   "source": [
    "spredixcan_genes_tissues_variance = spredixcan_genes_models.apply(\n",
    "    _get_gene_variances, axis=1\n",
    ")"
   ]
  },
  {
   "cell_type": "code",
   "execution_count": 114,
   "id": "816cbdd2-d667-4eaa-bbf7-335550854ee8",
   "metadata": {
    "execution": {
     "iopub.execute_input": "2022-08-08T16:38:32.825190Z",
     "iopub.status.busy": "2022-08-08T16:38:32.824980Z",
     "iopub.status.idle": "2022-08-08T16:38:32.849589Z",
     "shell.execute_reply": "2022-08-08T16:38:32.849011Z"
    },
    "papermill": {
     "duration": 0.063252,
     "end_time": "2022-08-08T16:38:32.850818",
     "exception": false,
     "start_time": "2022-08-08T16:38:32.787566",
     "status": "completed"
    },
    "tags": []
   },
   "outputs": [
    {
     "data": {
      "text/plain": [
       "gene_id\n",
       "ENSG00000000419    {'Brain_Hypothalamus': 0.0082838613770255, 'Br...\n",
       "ENSG00000000938    {'Adipose_Visceral_Omentum': 0.001932839939705...\n",
       "ENSG00000000971    {'Uterus': 0.00888478850189283, 'Brain_Putamen...\n",
       "ENSG00000001084    {'Brain_Putamen_basal_ganglia': 0.022230612685...\n",
       "ENSG00000001167    {'Adipose_Visceral_Omentum': 0.037274400234795...\n",
       "                                         ...                        \n",
       "ENSG00000278540    {'Adipose_Visceral_Omentum': 0.001935655680026...\n",
       "ENSG00000278828    {'Adipose_Visceral_Omentum': 0.000137980863985...\n",
       "ENSG00000278845    {'Adipose_Visceral_Omentum': 0.010394925790559...\n",
       "ENSG00000281005    {'Adipose_Visceral_Omentum': 0.013433223073316...\n",
       "ENSG00000282608    {'Adipose_Visceral_Omentum': 0.006015701364196...\n",
       "Length: 6442, dtype: object"
      ]
     },
     "execution_count": 114,
     "metadata": {},
     "output_type": "execute_result"
    }
   ],
   "source": [
    "spredixcan_genes_tissues_variance"
   ]
  },
  {
   "cell_type": "code",
   "execution_count": 115,
   "id": "68c65eb6-15c0-494d-992f-93bc84268a59",
   "metadata": {
    "execution": {
     "iopub.execute_input": "2022-08-08T16:38:32.915095Z",
     "iopub.status.busy": "2022-08-08T16:38:32.914891Z",
     "iopub.status.idle": "2022-08-08T16:38:32.930697Z",
     "shell.execute_reply": "2022-08-08T16:38:32.930287Z"
    },
    "papermill": {
     "duration": 0.046925,
     "end_time": "2022-08-08T16:38:32.931938",
     "exception": false,
     "start_time": "2022-08-08T16:38:32.885013",
     "status": "completed"
    },
    "tags": []
   },
   "outputs": [],
   "source": [
    "# # testing\n",
    "# _gene_id = \"ENSG00000188976\"\n",
    "# x = spredixcan_genes_tissues_variance.loc[_gene_id]\n",
    "# # expected value obtained by sum of PCA eigenvalues on this gene's predicted expression\n",
    "# assert np.sum(list(x.values())) == pytest.approx(1.2326202607409493)"
   ]
  },
  {
   "cell_type": "code",
   "execution_count": 116,
   "id": "1996453a-fdfc-44e9-bbdf-b83e3b3b1aee",
   "metadata": {
    "execution": {
     "iopub.execute_input": "2022-08-08T16:38:32.986516Z",
     "iopub.status.busy": "2022-08-08T16:38:32.986043Z",
     "iopub.status.idle": "2022-08-08T16:38:33.002558Z",
     "shell.execute_reply": "2022-08-08T16:38:33.002137Z"
    },
    "papermill": {
     "duration": 0.041438,
     "end_time": "2022-08-08T16:38:33.003735",
     "exception": false,
     "start_time": "2022-08-08T16:38:32.962297",
     "status": "completed"
    },
    "tags": []
   },
   "outputs": [
    {
     "data": {
      "text/plain": [
       "{'Brain_Hypothalamus': 0.0082838613770255,\n",
       " 'Brain_Substantia_nigra': 0.0007337923275558569}"
      ]
     },
     "execution_count": 116,
     "metadata": {},
     "output_type": "execute_result"
    }
   ],
   "source": [
    "# testing\n",
    "spredixcan_genes_tissues_variance.loc[\"ENSG00000000419\"]"
   ]
  },
  {
   "cell_type": "code",
   "execution_count": 117,
   "id": "62572b31-7e49-4ed0-ac1b-42552f3e264f",
   "metadata": {
    "execution": {
     "iopub.execute_input": "2022-08-08T16:38:33.056694Z",
     "iopub.status.busy": "2022-08-08T16:38:33.056398Z",
     "iopub.status.idle": "2022-08-08T16:38:33.072017Z",
     "shell.execute_reply": "2022-08-08T16:38:33.071608Z"
    },
    "papermill": {
     "duration": 0.040647,
     "end_time": "2022-08-08T16:38:33.073255",
     "exception": false,
     "start_time": "2022-08-08T16:38:33.032608",
     "status": "completed"
    },
    "tags": []
   },
   "outputs": [],
   "source": [
    "# FIXME: maybe add more tests, these differt from GTEX V8\n",
    "# # testing\n",
    "# # here values were obtained from S-PrediXcan results, where the reference panel is GTEX V8, not 1000G, so just approximations)\n",
    "# _gene_id = \"ENSG00000000419\"\n",
    "# assert spredixcan_genes_tissues_variance.loc[_gene_id][\"Brain_Substantia_nigra\"] == pytest.approx(0.0004266255268163448)\n",
    "# assert spredixcan_genes_tissues_variance.loc[_gene_id][\"Brain_Hypothalamus\"] == pytest.approx(0.011235877515236132)"
   ]
  },
  {
   "cell_type": "code",
   "execution_count": 118,
   "id": "88e42a97-801b-43a4-a829-4eaac03360b8",
   "metadata": {
    "execution": {
     "iopub.execute_input": "2022-08-08T16:38:33.139332Z",
     "iopub.status.busy": "2022-08-08T16:38:33.139039Z",
     "iopub.status.idle": "2022-08-08T16:38:33.160056Z",
     "shell.execute_reply": "2022-08-08T16:38:33.159612Z"
    },
    "papermill": {
     "duration": 0.057276,
     "end_time": "2022-08-08T16:38:33.161343",
     "exception": false,
     "start_time": "2022-08-08T16:38:33.104067",
     "status": "completed"
    },
    "tags": []
   },
   "outputs": [],
   "source": [
    "# add to spredixcan_genes_models\n",
    "spredixcan_genes_models = spredixcan_genes_models.join(\n",
    "    spredixcan_genes_tissues_variance.rename(\"tissues_variances\")\n",
    ")"
   ]
  },
  {
   "cell_type": "code",
   "execution_count": 119,
   "id": "cb177ca4-fdcb-432f-a102-9c6bd6bd7fa0",
   "metadata": {
    "execution": {
     "iopub.execute_input": "2022-08-08T16:38:33.221146Z",
     "iopub.status.busy": "2022-08-08T16:38:33.220862Z",
     "iopub.status.idle": "2022-08-08T16:38:33.239343Z",
     "shell.execute_reply": "2022-08-08T16:38:33.238873Z"
    },
    "papermill": {
     "duration": 0.047356,
     "end_time": "2022-08-08T16:38:33.240520",
     "exception": false,
     "start_time": "2022-08-08T16:38:33.193164",
     "status": "completed"
    },
    "tags": []
   },
   "outputs": [
    {
     "data": {
      "text/plain": [
       "(6442, 6)"
      ]
     },
     "execution_count": 119,
     "metadata": {},
     "output_type": "execute_result"
    }
   ],
   "source": [
    "spredixcan_genes_models.shape"
   ]
  },
  {
   "cell_type": "code",
   "execution_count": 120,
   "id": "ccabe1fa-20ae-4893-bf12-9a3359b213b8",
   "metadata": {
    "execution": {
     "iopub.execute_input": "2022-08-08T16:38:33.302513Z",
     "iopub.status.busy": "2022-08-08T16:38:33.302224Z",
     "iopub.status.idle": "2022-08-08T16:38:33.333643Z",
     "shell.execute_reply": "2022-08-08T16:38:33.333186Z"
    },
    "papermill": {
     "duration": 0.066779,
     "end_time": "2022-08-08T16:38:33.334807",
     "exception": false,
     "start_time": "2022-08-08T16:38:33.268028",
     "status": "completed"
    },
    "tags": []
   },
   "outputs": [
    {
     "data": {
      "text/html": [
       "<div>\n",
       "<style scoped>\n",
       "    .dataframe tbody tr th:only-of-type {\n",
       "        vertical-align: middle;\n",
       "    }\n",
       "\n",
       "    .dataframe tbody tr th {\n",
       "        vertical-align: top;\n",
       "    }\n",
       "\n",
       "    .dataframe thead th {\n",
       "        text-align: right;\n",
       "    }\n",
       "</style>\n",
       "<table border=\"1\" class=\"dataframe\">\n",
       "  <thead>\n",
       "    <tr style=\"text-align: right;\">\n",
       "      <th></th>\n",
       "      <th>gene_name</th>\n",
       "      <th>tissue</th>\n",
       "      <th>n_tissues</th>\n",
       "      <th>tissues_pc_variances</th>\n",
       "      <th>tissues_pc_variances_cov</th>\n",
       "      <th>tissues_variances</th>\n",
       "    </tr>\n",
       "    <tr>\n",
       "      <th>gene_id</th>\n",
       "      <th></th>\n",
       "      <th></th>\n",
       "      <th></th>\n",
       "      <th></th>\n",
       "      <th></th>\n",
       "      <th></th>\n",
       "    </tr>\n",
       "  </thead>\n",
       "  <tbody>\n",
       "    <tr>\n",
       "      <th>ENSG00000000419</th>\n",
       "      <td>DPM1</td>\n",
       "      <td>(Brain_Hypothalamus, Brain_Substantia_nigra)</td>\n",
       "      <td>2</td>\n",
       "      <td>[1.0372585612589562, 0.9627414387410438]</td>\n",
       "      <td>[0.008284978865240098, 0.0007326748393412591]</td>\n",
       "      <td>{'Brain_Hypothalamus': 0.0082838613770255, 'Br...</td>\n",
       "    </tr>\n",
       "    <tr>\n",
       "      <th>ENSG00000000938</th>\n",
       "      <td>FGR</td>\n",
       "      <td>(Adipose_Visceral_Omentum, Esophagus_Musculari...</td>\n",
       "      <td>36</td>\n",
       "      <td>[30.57880701512373, 2.0297326456001104, 1.4017...</td>\n",
       "      <td>[0.22478471249969328, 0.008813873813031791]</td>\n",
       "      <td>{'Adipose_Visceral_Omentum': 0.001932839939705...</td>\n",
       "    </tr>\n",
       "    <tr>\n",
       "      <th>ENSG00000000971</th>\n",
       "      <td>CFH</td>\n",
       "      <td>(Uterus, Brain_Putamen_basal_ganglia, Esophagu...</td>\n",
       "      <td>34</td>\n",
       "      <td>[20.772608276639335, 8.177158142324833, 1.8646...</td>\n",
       "      <td>[0.1969953427958011, 0.05731825316349161, 0.02...</td>\n",
       "      <td>{'Uterus': 0.00888478850189283, 'Brain_Putamen...</td>\n",
       "    </tr>\n",
       "    <tr>\n",
       "      <th>ENSG00000001084</th>\n",
       "      <td>GCLC</td>\n",
       "      <td>(Brain_Putamen_basal_ganglia, Brain_Amygdala, ...</td>\n",
       "      <td>32</td>\n",
       "      <td>[20.976449940269102, 4.772354749306767, 2.2362...</td>\n",
       "      <td>[0.3657809638925394, 0.1264541371042455, 0.016...</td>\n",
       "      <td>{'Brain_Putamen_basal_ganglia': 0.022230612685...</td>\n",
       "    </tr>\n",
       "    <tr>\n",
       "      <th>ENSG00000001167</th>\n",
       "      <td>NFYA</td>\n",
       "      <td>(Adipose_Visceral_Omentum, Brain_Putamen_basal...</td>\n",
       "      <td>40</td>\n",
       "      <td>[37.638369782404986]</td>\n",
       "      <td>[1.4787144508923984, 0.049690618387739166]</td>\n",
       "      <td>{'Adipose_Visceral_Omentum': 0.037274400234795...</td>\n",
       "    </tr>\n",
       "  </tbody>\n",
       "</table>\n",
       "</div>"
      ],
      "text/plain": [
       "                gene_name                                             tissue  \\\n",
       "gene_id                                                                        \n",
       "ENSG00000000419      DPM1       (Brain_Hypothalamus, Brain_Substantia_nigra)   \n",
       "ENSG00000000938       FGR  (Adipose_Visceral_Omentum, Esophagus_Musculari...   \n",
       "ENSG00000000971       CFH  (Uterus, Brain_Putamen_basal_ganglia, Esophagu...   \n",
       "ENSG00000001084      GCLC  (Brain_Putamen_basal_ganglia, Brain_Amygdala, ...   \n",
       "ENSG00000001167      NFYA  (Adipose_Visceral_Omentum, Brain_Putamen_basal...   \n",
       "\n",
       "                 n_tissues                               tissues_pc_variances  \\\n",
       "gene_id                                                                         \n",
       "ENSG00000000419          2           [1.0372585612589562, 0.9627414387410438]   \n",
       "ENSG00000000938         36  [30.57880701512373, 2.0297326456001104, 1.4017...   \n",
       "ENSG00000000971         34  [20.772608276639335, 8.177158142324833, 1.8646...   \n",
       "ENSG00000001084         32  [20.976449940269102, 4.772354749306767, 2.2362...   \n",
       "ENSG00000001167         40                               [37.638369782404986]   \n",
       "\n",
       "                                          tissues_pc_variances_cov  \\\n",
       "gene_id                                                              \n",
       "ENSG00000000419      [0.008284978865240098, 0.0007326748393412591]   \n",
       "ENSG00000000938        [0.22478471249969328, 0.008813873813031791]   \n",
       "ENSG00000000971  [0.1969953427958011, 0.05731825316349161, 0.02...   \n",
       "ENSG00000001084  [0.3657809638925394, 0.1264541371042455, 0.016...   \n",
       "ENSG00000001167         [1.4787144508923984, 0.049690618387739166]   \n",
       "\n",
       "                                                 tissues_variances  \n",
       "gene_id                                                             \n",
       "ENSG00000000419  {'Brain_Hypothalamus': 0.0082838613770255, 'Br...  \n",
       "ENSG00000000938  {'Adipose_Visceral_Omentum': 0.001932839939705...  \n",
       "ENSG00000000971  {'Uterus': 0.00888478850189283, 'Brain_Putamen...  \n",
       "ENSG00000001084  {'Brain_Putamen_basal_ganglia': 0.022230612685...  \n",
       "ENSG00000001167  {'Adipose_Visceral_Omentum': 0.037274400234795...  "
      ]
     },
     "execution_count": 120,
     "metadata": {},
     "output_type": "execute_result"
    }
   ],
   "source": [
    "spredixcan_genes_models.head()"
   ]
  },
  {
   "cell_type": "markdown",
   "id": "ab6ff41a-0949-4eea-abef-7dc4f0b373fc",
   "metadata": {
    "papermill": {
     "duration": 0.023443,
     "end_time": "2022-08-08T16:38:33.385828",
     "exception": false,
     "start_time": "2022-08-08T16:38:33.362385",
     "status": "completed"
    },
    "tags": []
   },
   "source": [
    "### Count number of SNPs predictors used across tissue models"
   ]
  },
  {
   "cell_type": "code",
   "execution_count": 121,
   "id": "c8f6cc6f-5812-45c9-b775-6f2193f8a360",
   "metadata": {
    "execution": {
     "iopub.execute_input": "2022-08-08T16:38:33.434288Z",
     "iopub.status.busy": "2022-08-08T16:38:33.433881Z",
     "iopub.status.idle": "2022-08-08T16:38:33.496277Z",
     "shell.execute_reply": "2022-08-08T16:38:33.495642Z"
    },
    "papermill": {
     "duration": 0.088254,
     "end_time": "2022-08-08T16:38:33.497980",
     "exception": false,
     "start_time": "2022-08-08T16:38:33.409726",
     "status": "completed"
    },
    "tags": []
   },
   "outputs": [],
   "source": [
    "spredixcan_genes_sum_of_n_snps_used = (\n",
    "    spredixcan_dfs.groupby(\"gene_id\")[\"n_snps_used\"].sum().rename(\"n_snps_used_sum\")\n",
    ")"
   ]
  },
  {
   "cell_type": "code",
   "execution_count": 122,
   "id": "7255df64-7b9f-4504-a4fa-1f2a9aa56ec0",
   "metadata": {
    "execution": {
     "iopub.execute_input": "2022-08-08T16:38:33.561650Z",
     "iopub.status.busy": "2022-08-08T16:38:33.561457Z",
     "iopub.status.idle": "2022-08-08T16:38:33.584114Z",
     "shell.execute_reply": "2022-08-08T16:38:33.583617Z"
    },
    "papermill": {
     "duration": 0.055534,
     "end_time": "2022-08-08T16:38:33.585776",
     "exception": false,
     "start_time": "2022-08-08T16:38:33.530242",
     "status": "completed"
    },
    "tags": []
   },
   "outputs": [
    {
     "data": {
      "text/plain": [
       "gene_id\n",
       "ENSG00000000419     2\n",
       "ENSG00000000938    40\n",
       "ENSG00000000971    44\n",
       "ENSG00000001084    46\n",
       "ENSG00000001167    47\n",
       "                   ..\n",
       "ENSG00000278540    44\n",
       "ENSG00000278828     5\n",
       "ENSG00000278845    89\n",
       "ENSG00000281005    81\n",
       "ENSG00000282608    40\n",
       "Name: n_snps_used_sum, Length: 6442, dtype: int64"
      ]
     },
     "execution_count": 122,
     "metadata": {},
     "output_type": "execute_result"
    }
   ],
   "source": [
    "spredixcan_genes_sum_of_n_snps_used"
   ]
  },
  {
   "cell_type": "code",
   "execution_count": 123,
   "id": "44bc1222-b334-4ce2-8997-494d0e584cf9",
   "metadata": {
    "execution": {
     "iopub.execute_input": "2022-08-08T16:38:33.640693Z",
     "iopub.status.busy": "2022-08-08T16:38:33.640532Z",
     "iopub.status.idle": "2022-08-08T16:38:33.660040Z",
     "shell.execute_reply": "2022-08-08T16:38:33.659607Z"
    },
    "papermill": {
     "duration": 0.045479,
     "end_time": "2022-08-08T16:38:33.661472",
     "exception": false,
     "start_time": "2022-08-08T16:38:33.615993",
     "status": "completed"
    },
    "tags": []
   },
   "outputs": [],
   "source": [
    "# add sum of snps used to spredixcan_genes_models\n",
    "spredixcan_genes_models = spredixcan_genes_models.join(\n",
    "    spredixcan_genes_sum_of_n_snps_used\n",
    ")"
   ]
  },
  {
   "cell_type": "code",
   "execution_count": 124,
   "id": "5e5e6d7f-b970-4f21-9322-b76bc22afd71",
   "metadata": {
    "execution": {
     "iopub.execute_input": "2022-08-08T16:38:33.709188Z",
     "iopub.status.busy": "2022-08-08T16:38:33.709023Z",
     "iopub.status.idle": "2022-08-08T16:38:33.723855Z",
     "shell.execute_reply": "2022-08-08T16:38:33.723438Z"
    },
    "papermill": {
     "duration": 0.040247,
     "end_time": "2022-08-08T16:38:33.725287",
     "exception": false,
     "start_time": "2022-08-08T16:38:33.685040",
     "status": "completed"
    },
    "tags": []
   },
   "outputs": [
    {
     "data": {
      "text/plain": [
       "(6442, 7)"
      ]
     },
     "execution_count": 124,
     "metadata": {},
     "output_type": "execute_result"
    }
   ],
   "source": [
    "spredixcan_genes_models.shape"
   ]
  },
  {
   "cell_type": "code",
   "execution_count": 125,
   "id": "22c096c2-213a-4001-8454-1633997d404f",
   "metadata": {
    "execution": {
     "iopub.execute_input": "2022-08-08T16:38:33.773528Z",
     "iopub.status.busy": "2022-08-08T16:38:33.773365Z",
     "iopub.status.idle": "2022-08-08T16:38:33.801031Z",
     "shell.execute_reply": "2022-08-08T16:38:33.800634Z"
    },
    "papermill": {
     "duration": 0.053294,
     "end_time": "2022-08-08T16:38:33.802408",
     "exception": false,
     "start_time": "2022-08-08T16:38:33.749114",
     "status": "completed"
    },
    "tags": []
   },
   "outputs": [
    {
     "data": {
      "text/html": [
       "<div>\n",
       "<style scoped>\n",
       "    .dataframe tbody tr th:only-of-type {\n",
       "        vertical-align: middle;\n",
       "    }\n",
       "\n",
       "    .dataframe tbody tr th {\n",
       "        vertical-align: top;\n",
       "    }\n",
       "\n",
       "    .dataframe thead th {\n",
       "        text-align: right;\n",
       "    }\n",
       "</style>\n",
       "<table border=\"1\" class=\"dataframe\">\n",
       "  <thead>\n",
       "    <tr style=\"text-align: right;\">\n",
       "      <th></th>\n",
       "      <th>gene_name</th>\n",
       "      <th>tissue</th>\n",
       "      <th>n_tissues</th>\n",
       "      <th>tissues_pc_variances</th>\n",
       "      <th>tissues_pc_variances_cov</th>\n",
       "      <th>tissues_variances</th>\n",
       "      <th>n_snps_used_sum</th>\n",
       "    </tr>\n",
       "    <tr>\n",
       "      <th>gene_id</th>\n",
       "      <th></th>\n",
       "      <th></th>\n",
       "      <th></th>\n",
       "      <th></th>\n",
       "      <th></th>\n",
       "      <th></th>\n",
       "      <th></th>\n",
       "    </tr>\n",
       "  </thead>\n",
       "  <tbody>\n",
       "    <tr>\n",
       "      <th>ENSG00000000419</th>\n",
       "      <td>DPM1</td>\n",
       "      <td>(Brain_Hypothalamus, Brain_Substantia_nigra)</td>\n",
       "      <td>2</td>\n",
       "      <td>[1.0372585612589562, 0.9627414387410438]</td>\n",
       "      <td>[0.008284978865240098, 0.0007326748393412591]</td>\n",
       "      <td>{'Brain_Hypothalamus': 0.0082838613770255, 'Br...</td>\n",
       "      <td>2</td>\n",
       "    </tr>\n",
       "    <tr>\n",
       "      <th>ENSG00000000938</th>\n",
       "      <td>FGR</td>\n",
       "      <td>(Adipose_Visceral_Omentum, Esophagus_Musculari...</td>\n",
       "      <td>36</td>\n",
       "      <td>[30.57880701512373, 2.0297326456001104, 1.4017...</td>\n",
       "      <td>[0.22478471249969328, 0.008813873813031791]</td>\n",
       "      <td>{'Adipose_Visceral_Omentum': 0.001932839939705...</td>\n",
       "      <td>40</td>\n",
       "    </tr>\n",
       "    <tr>\n",
       "      <th>ENSG00000000971</th>\n",
       "      <td>CFH</td>\n",
       "      <td>(Uterus, Brain_Putamen_basal_ganglia, Esophagu...</td>\n",
       "      <td>34</td>\n",
       "      <td>[20.772608276639335, 8.177158142324833, 1.8646...</td>\n",
       "      <td>[0.1969953427958011, 0.05731825316349161, 0.02...</td>\n",
       "      <td>{'Uterus': 0.00888478850189283, 'Brain_Putamen...</td>\n",
       "      <td>44</td>\n",
       "    </tr>\n",
       "    <tr>\n",
       "      <th>ENSG00000001084</th>\n",
       "      <td>GCLC</td>\n",
       "      <td>(Brain_Putamen_basal_ganglia, Brain_Amygdala, ...</td>\n",
       "      <td>32</td>\n",
       "      <td>[20.976449940269102, 4.772354749306767, 2.2362...</td>\n",
       "      <td>[0.3657809638925394, 0.1264541371042455, 0.016...</td>\n",
       "      <td>{'Brain_Putamen_basal_ganglia': 0.022230612685...</td>\n",
       "      <td>46</td>\n",
       "    </tr>\n",
       "    <tr>\n",
       "      <th>ENSG00000001167</th>\n",
       "      <td>NFYA</td>\n",
       "      <td>(Adipose_Visceral_Omentum, Brain_Putamen_basal...</td>\n",
       "      <td>40</td>\n",
       "      <td>[37.638369782404986]</td>\n",
       "      <td>[1.4787144508923984, 0.049690618387739166]</td>\n",
       "      <td>{'Adipose_Visceral_Omentum': 0.037274400234795...</td>\n",
       "      <td>47</td>\n",
       "    </tr>\n",
       "  </tbody>\n",
       "</table>\n",
       "</div>"
      ],
      "text/plain": [
       "                gene_name                                             tissue  \\\n",
       "gene_id                                                                        \n",
       "ENSG00000000419      DPM1       (Brain_Hypothalamus, Brain_Substantia_nigra)   \n",
       "ENSG00000000938       FGR  (Adipose_Visceral_Omentum, Esophagus_Musculari...   \n",
       "ENSG00000000971       CFH  (Uterus, Brain_Putamen_basal_ganglia, Esophagu...   \n",
       "ENSG00000001084      GCLC  (Brain_Putamen_basal_ganglia, Brain_Amygdala, ...   \n",
       "ENSG00000001167      NFYA  (Adipose_Visceral_Omentum, Brain_Putamen_basal...   \n",
       "\n",
       "                 n_tissues                               tissues_pc_variances  \\\n",
       "gene_id                                                                         \n",
       "ENSG00000000419          2           [1.0372585612589562, 0.9627414387410438]   \n",
       "ENSG00000000938         36  [30.57880701512373, 2.0297326456001104, 1.4017...   \n",
       "ENSG00000000971         34  [20.772608276639335, 8.177158142324833, 1.8646...   \n",
       "ENSG00000001084         32  [20.976449940269102, 4.772354749306767, 2.2362...   \n",
       "ENSG00000001167         40                               [37.638369782404986]   \n",
       "\n",
       "                                          tissues_pc_variances_cov  \\\n",
       "gene_id                                                              \n",
       "ENSG00000000419      [0.008284978865240098, 0.0007326748393412591]   \n",
       "ENSG00000000938        [0.22478471249969328, 0.008813873813031791]   \n",
       "ENSG00000000971  [0.1969953427958011, 0.05731825316349161, 0.02...   \n",
       "ENSG00000001084  [0.3657809638925394, 0.1264541371042455, 0.016...   \n",
       "ENSG00000001167         [1.4787144508923984, 0.049690618387739166]   \n",
       "\n",
       "                                                 tissues_variances  \\\n",
       "gene_id                                                              \n",
       "ENSG00000000419  {'Brain_Hypothalamus': 0.0082838613770255, 'Br...   \n",
       "ENSG00000000938  {'Adipose_Visceral_Omentum': 0.001932839939705...   \n",
       "ENSG00000000971  {'Uterus': 0.00888478850189283, 'Brain_Putamen...   \n",
       "ENSG00000001084  {'Brain_Putamen_basal_ganglia': 0.022230612685...   \n",
       "ENSG00000001167  {'Adipose_Visceral_Omentum': 0.037274400234795...   \n",
       "\n",
       "                 n_snps_used_sum  \n",
       "gene_id                           \n",
       "ENSG00000000419                2  \n",
       "ENSG00000000938               40  \n",
       "ENSG00000000971               44  \n",
       "ENSG00000001084               46  \n",
       "ENSG00000001167               47  "
      ]
     },
     "execution_count": 125,
     "metadata": {},
     "output_type": "execute_result"
    }
   ],
   "source": [
    "spredixcan_genes_models.head()"
   ]
  },
  {
   "cell_type": "markdown",
   "id": "f4692315-d7be-465e-b756-f6d76fec949e",
   "metadata": {
    "papermill": {
     "duration": 0.023595,
     "end_time": "2022-08-08T16:38:33.849844",
     "exception": false,
     "start_time": "2022-08-08T16:38:33.826249",
     "status": "completed"
    },
    "tags": []
   },
   "source": [
    "### Count number of SNPs predictors in models across tissue models"
   ]
  },
  {
   "cell_type": "code",
   "execution_count": 126,
   "id": "08eed385-36eb-4e42-b28e-51333f9cfcd3",
   "metadata": {
    "execution": {
     "iopub.execute_input": "2022-08-08T16:38:33.898620Z",
     "iopub.status.busy": "2022-08-08T16:38:33.898451Z",
     "iopub.status.idle": "2022-08-08T16:38:33.946752Z",
     "shell.execute_reply": "2022-08-08T16:38:33.946222Z"
    },
    "papermill": {
     "duration": 0.074457,
     "end_time": "2022-08-08T16:38:33.948139",
     "exception": false,
     "start_time": "2022-08-08T16:38:33.873682",
     "status": "completed"
    },
    "tags": []
   },
   "outputs": [],
   "source": [
    "spredixcan_genes_sum_of_n_snps_in_model = (\n",
    "    spredixcan_dfs.groupby(\"gene_id\")[\"n_snps_in_model\"]\n",
    "    .sum()\n",
    "    .rename(\"n_snps_in_model_sum\")\n",
    ")"
   ]
  },
  {
   "cell_type": "code",
   "execution_count": 127,
   "id": "10431f5c-1f56-4664-a09f-53c608bec631",
   "metadata": {
    "execution": {
     "iopub.execute_input": "2022-08-08T16:38:34.000110Z",
     "iopub.status.busy": "2022-08-08T16:38:33.999947Z",
     "iopub.status.idle": "2022-08-08T16:38:34.016164Z",
     "shell.execute_reply": "2022-08-08T16:38:34.015784Z"
    },
    "papermill": {
     "duration": 0.042624,
     "end_time": "2022-08-08T16:38:34.017510",
     "exception": false,
     "start_time": "2022-08-08T16:38:33.974886",
     "status": "completed"
    },
    "tags": []
   },
   "outputs": [
    {
     "data": {
      "text/plain": [
       "gene_id\n",
       "ENSG00000000419     2\n",
       "ENSG00000000938    40\n",
       "ENSG00000000971    44\n",
       "ENSG00000001084    46\n",
       "ENSG00000001167    48\n",
       "                   ..\n",
       "ENSG00000278540    44\n",
       "ENSG00000278828     5\n",
       "ENSG00000278845    91\n",
       "ENSG00000281005    81\n",
       "ENSG00000282608    40\n",
       "Name: n_snps_in_model_sum, Length: 6442, dtype: int64"
      ]
     },
     "execution_count": 127,
     "metadata": {},
     "output_type": "execute_result"
    }
   ],
   "source": [
    "spredixcan_genes_sum_of_n_snps_in_model"
   ]
  },
  {
   "cell_type": "code",
   "execution_count": 128,
   "id": "d13e1d65-0dcb-4a94-aba8-bcdcd09d17c3",
   "metadata": {
    "execution": {
     "iopub.execute_input": "2022-08-08T16:38:34.066448Z",
     "iopub.status.busy": "2022-08-08T16:38:34.066287Z",
     "iopub.status.idle": "2022-08-08T16:38:34.081703Z",
     "shell.execute_reply": "2022-08-08T16:38:34.081286Z"
    },
    "papermill": {
     "duration": 0.041416,
     "end_time": "2022-08-08T16:38:34.082939",
     "exception": false,
     "start_time": "2022-08-08T16:38:34.041523",
     "status": "completed"
    },
    "tags": []
   },
   "outputs": [],
   "source": [
    "# add sum of snps in model to spredixcan_genes_models\n",
    "spredixcan_genes_models = spredixcan_genes_models.join(\n",
    "    spredixcan_genes_sum_of_n_snps_in_model\n",
    ")"
   ]
  },
  {
   "cell_type": "code",
   "execution_count": 129,
   "id": "0d3973d8-5da2-4c9d-b406-2525f615035c",
   "metadata": {
    "execution": {
     "iopub.execute_input": "2022-08-08T16:38:34.131775Z",
     "iopub.status.busy": "2022-08-08T16:38:34.131611Z",
     "iopub.status.idle": "2022-08-08T16:38:34.146388Z",
     "shell.execute_reply": "2022-08-08T16:38:34.145987Z"
    },
    "papermill": {
     "duration": 0.040563,
     "end_time": "2022-08-08T16:38:34.147719",
     "exception": false,
     "start_time": "2022-08-08T16:38:34.107156",
     "status": "completed"
    },
    "tags": []
   },
   "outputs": [
    {
     "data": {
      "text/plain": [
       "(6442, 8)"
      ]
     },
     "execution_count": 129,
     "metadata": {},
     "output_type": "execute_result"
    }
   ],
   "source": [
    "spredixcan_genes_models.shape"
   ]
  },
  {
   "cell_type": "code",
   "execution_count": 130,
   "id": "76c27f05-c5c6-4ed9-9363-fcba871a3572",
   "metadata": {
    "execution": {
     "iopub.execute_input": "2022-08-08T16:38:34.196830Z",
     "iopub.status.busy": "2022-08-08T16:38:34.196464Z",
     "iopub.status.idle": "2022-08-08T16:38:34.220723Z",
     "shell.execute_reply": "2022-08-08T16:38:34.220274Z"
    },
    "papermill": {
     "duration": 0.050261,
     "end_time": "2022-08-08T16:38:34.222056",
     "exception": false,
     "start_time": "2022-08-08T16:38:34.171795",
     "status": "completed"
    },
    "tags": []
   },
   "outputs": [
    {
     "data": {
      "text/html": [
       "<div>\n",
       "<style scoped>\n",
       "    .dataframe tbody tr th:only-of-type {\n",
       "        vertical-align: middle;\n",
       "    }\n",
       "\n",
       "    .dataframe tbody tr th {\n",
       "        vertical-align: top;\n",
       "    }\n",
       "\n",
       "    .dataframe thead th {\n",
       "        text-align: right;\n",
       "    }\n",
       "</style>\n",
       "<table border=\"1\" class=\"dataframe\">\n",
       "  <thead>\n",
       "    <tr style=\"text-align: right;\">\n",
       "      <th></th>\n",
       "      <th>gene_name</th>\n",
       "      <th>tissue</th>\n",
       "      <th>n_tissues</th>\n",
       "      <th>tissues_pc_variances</th>\n",
       "      <th>tissues_pc_variances_cov</th>\n",
       "      <th>tissues_variances</th>\n",
       "      <th>n_snps_used_sum</th>\n",
       "      <th>n_snps_in_model_sum</th>\n",
       "    </tr>\n",
       "    <tr>\n",
       "      <th>gene_id</th>\n",
       "      <th></th>\n",
       "      <th></th>\n",
       "      <th></th>\n",
       "      <th></th>\n",
       "      <th></th>\n",
       "      <th></th>\n",
       "      <th></th>\n",
       "      <th></th>\n",
       "    </tr>\n",
       "  </thead>\n",
       "  <tbody>\n",
       "    <tr>\n",
       "      <th>ENSG00000000419</th>\n",
       "      <td>DPM1</td>\n",
       "      <td>(Brain_Hypothalamus, Brain_Substantia_nigra)</td>\n",
       "      <td>2</td>\n",
       "      <td>[1.0372585612589562, 0.9627414387410438]</td>\n",
       "      <td>[0.008284978865240098, 0.0007326748393412591]</td>\n",
       "      <td>{'Brain_Hypothalamus': 0.0082838613770255, 'Br...</td>\n",
       "      <td>2</td>\n",
       "      <td>2</td>\n",
       "    </tr>\n",
       "    <tr>\n",
       "      <th>ENSG00000000938</th>\n",
       "      <td>FGR</td>\n",
       "      <td>(Adipose_Visceral_Omentum, Esophagus_Musculari...</td>\n",
       "      <td>36</td>\n",
       "      <td>[30.57880701512373, 2.0297326456001104, 1.4017...</td>\n",
       "      <td>[0.22478471249969328, 0.008813873813031791]</td>\n",
       "      <td>{'Adipose_Visceral_Omentum': 0.001932839939705...</td>\n",
       "      <td>40</td>\n",
       "      <td>40</td>\n",
       "    </tr>\n",
       "    <tr>\n",
       "      <th>ENSG00000000971</th>\n",
       "      <td>CFH</td>\n",
       "      <td>(Uterus, Brain_Putamen_basal_ganglia, Esophagu...</td>\n",
       "      <td>34</td>\n",
       "      <td>[20.772608276639335, 8.177158142324833, 1.8646...</td>\n",
       "      <td>[0.1969953427958011, 0.05731825316349161, 0.02...</td>\n",
       "      <td>{'Uterus': 0.00888478850189283, 'Brain_Putamen...</td>\n",
       "      <td>44</td>\n",
       "      <td>44</td>\n",
       "    </tr>\n",
       "    <tr>\n",
       "      <th>ENSG00000001084</th>\n",
       "      <td>GCLC</td>\n",
       "      <td>(Brain_Putamen_basal_ganglia, Brain_Amygdala, ...</td>\n",
       "      <td>32</td>\n",
       "      <td>[20.976449940269102, 4.772354749306767, 2.2362...</td>\n",
       "      <td>[0.3657809638925394, 0.1264541371042455, 0.016...</td>\n",
       "      <td>{'Brain_Putamen_basal_ganglia': 0.022230612685...</td>\n",
       "      <td>46</td>\n",
       "      <td>46</td>\n",
       "    </tr>\n",
       "    <tr>\n",
       "      <th>ENSG00000001167</th>\n",
       "      <td>NFYA</td>\n",
       "      <td>(Adipose_Visceral_Omentum, Brain_Putamen_basal...</td>\n",
       "      <td>40</td>\n",
       "      <td>[37.638369782404986]</td>\n",
       "      <td>[1.4787144508923984, 0.049690618387739166]</td>\n",
       "      <td>{'Adipose_Visceral_Omentum': 0.037274400234795...</td>\n",
       "      <td>47</td>\n",
       "      <td>48</td>\n",
       "    </tr>\n",
       "  </tbody>\n",
       "</table>\n",
       "</div>"
      ],
      "text/plain": [
       "                gene_name                                             tissue  \\\n",
       "gene_id                                                                        \n",
       "ENSG00000000419      DPM1       (Brain_Hypothalamus, Brain_Substantia_nigra)   \n",
       "ENSG00000000938       FGR  (Adipose_Visceral_Omentum, Esophagus_Musculari...   \n",
       "ENSG00000000971       CFH  (Uterus, Brain_Putamen_basal_ganglia, Esophagu...   \n",
       "ENSG00000001084      GCLC  (Brain_Putamen_basal_ganglia, Brain_Amygdala, ...   \n",
       "ENSG00000001167      NFYA  (Adipose_Visceral_Omentum, Brain_Putamen_basal...   \n",
       "\n",
       "                 n_tissues                               tissues_pc_variances  \\\n",
       "gene_id                                                                         \n",
       "ENSG00000000419          2           [1.0372585612589562, 0.9627414387410438]   \n",
       "ENSG00000000938         36  [30.57880701512373, 2.0297326456001104, 1.4017...   \n",
       "ENSG00000000971         34  [20.772608276639335, 8.177158142324833, 1.8646...   \n",
       "ENSG00000001084         32  [20.976449940269102, 4.772354749306767, 2.2362...   \n",
       "ENSG00000001167         40                               [37.638369782404986]   \n",
       "\n",
       "                                          tissues_pc_variances_cov  \\\n",
       "gene_id                                                              \n",
       "ENSG00000000419      [0.008284978865240098, 0.0007326748393412591]   \n",
       "ENSG00000000938        [0.22478471249969328, 0.008813873813031791]   \n",
       "ENSG00000000971  [0.1969953427958011, 0.05731825316349161, 0.02...   \n",
       "ENSG00000001084  [0.3657809638925394, 0.1264541371042455, 0.016...   \n",
       "ENSG00000001167         [1.4787144508923984, 0.049690618387739166]   \n",
       "\n",
       "                                                 tissues_variances  \\\n",
       "gene_id                                                              \n",
       "ENSG00000000419  {'Brain_Hypothalamus': 0.0082838613770255, 'Br...   \n",
       "ENSG00000000938  {'Adipose_Visceral_Omentum': 0.001932839939705...   \n",
       "ENSG00000000971  {'Uterus': 0.00888478850189283, 'Brain_Putamen...   \n",
       "ENSG00000001084  {'Brain_Putamen_basal_ganglia': 0.022230612685...   \n",
       "ENSG00000001167  {'Adipose_Visceral_Omentum': 0.037274400234795...   \n",
       "\n",
       "                 n_snps_used_sum  n_snps_in_model_sum  \n",
       "gene_id                                                \n",
       "ENSG00000000419                2                    2  \n",
       "ENSG00000000938               40                   40  \n",
       "ENSG00000000971               44                   44  \n",
       "ENSG00000001084               46                   46  \n",
       "ENSG00000001167               47                   48  "
      ]
     },
     "execution_count": 130,
     "metadata": {},
     "output_type": "execute_result"
    }
   ],
   "source": [
    "spredixcan_genes_models.head()"
   ]
  },
  {
   "cell_type": "markdown",
   "id": "e9f61a50-a5b5-4c85-9dec-3ceaaf65c61d",
   "metadata": {
    "papermill": {
     "duration": 0.02443,
     "end_time": "2022-08-08T16:38:34.270943",
     "exception": false,
     "start_time": "2022-08-08T16:38:34.246513",
     "status": "completed"
    },
    "tags": []
   },
   "source": [
    "### Summarize prediction models for each gene"
   ]
  },
  {
   "cell_type": "code",
   "execution_count": 131,
   "id": "4f44928f-b401-4abb-ac00-3b15b2746504",
   "metadata": {
    "execution": {
     "iopub.execute_input": "2022-08-08T16:38:34.321006Z",
     "iopub.status.busy": "2022-08-08T16:38:34.320609Z",
     "iopub.status.idle": "2022-08-08T16:38:34.334737Z",
     "shell.execute_reply": "2022-08-08T16:38:34.334351Z"
    },
    "papermill": {
     "duration": 0.040287,
     "end_time": "2022-08-08T16:38:34.336009",
     "exception": false,
     "start_time": "2022-08-08T16:38:34.295722",
     "status": "completed"
    },
    "tags": []
   },
   "outputs": [],
   "source": [
    "def _summarize_gene_models(gene_id):\n",
    "    \"\"\"\n",
    "    For a given gene ID, it returns a dataframe with predictor SNPs in rows and tissues in columns, where\n",
    "    values are the weights of SNPs in those tissues.\n",
    "    It can contain NaNs.\n",
    "    \"\"\"\n",
    "    gene_obj = spredixcan_gene_obj[gene_id]\n",
    "    gene_tissues = spredixcan_genes_models.loc[gene_id, \"tissue\"]\n",
    "\n",
    "    gene_models = {}\n",
    "    gene_unique_snps = set()\n",
    "    for t in gene_tissues:\n",
    "        gene_model = gene_obj.get_prediction_weights(tissue=t, model_type=EQTL_MODEL)\n",
    "        gene_models[t] = gene_model\n",
    "\n",
    "        gene_unique_snps.update(set(gene_model.index))\n",
    "\n",
    "    df = pd.DataFrame(\n",
    "        data=np.nan, index=list(gene_unique_snps), columns=list(gene_tissues)\n",
    "    )\n",
    "\n",
    "    for t in df.columns:\n",
    "        for snp in df.index:\n",
    "            gene_model = gene_models[t]\n",
    "\n",
    "            if snp in gene_model.index:\n",
    "                df.loc[snp, t] = gene_model.loc[snp]\n",
    "\n",
    "    return df"
   ]
  },
  {
   "cell_type": "code",
   "execution_count": 132,
   "id": "71bb0b5a-fe44-4076-91df-d8077ff85c71",
   "metadata": {
    "execution": {
     "iopub.execute_input": "2022-08-08T16:38:34.386099Z",
     "iopub.status.busy": "2022-08-08T16:38:34.385656Z",
     "iopub.status.idle": "2022-08-08T16:38:34.403074Z",
     "shell.execute_reply": "2022-08-08T16:38:34.402674Z"
    },
    "papermill": {
     "duration": 0.04341,
     "end_time": "2022-08-08T16:38:34.404227",
     "exception": false,
     "start_time": "2022-08-08T16:38:34.360817",
     "status": "completed"
    },
    "tags": []
   },
   "outputs": [
    {
     "data": {
      "text/plain": [
       "varID\n",
       "chr20_50862947_C_T_b38    0.431375\n",
       "Name: weight, dtype: float64"
      ]
     },
     "execution_count": 132,
     "metadata": {},
     "output_type": "execute_result"
    }
   ],
   "source": [
    "# testing\n",
    "spredixcan_gene_obj[\"ENSG00000000419\"].get_prediction_weights(\n",
    "    tissue=\"Brain_Hypothalamus\", model_type=EQTL_MODEL\n",
    ")"
   ]
  },
  {
   "cell_type": "code",
   "execution_count": 133,
   "id": "ad18b2d9-f585-445b-a809-bd694d417a8a",
   "metadata": {
    "execution": {
     "iopub.execute_input": "2022-08-08T16:38:34.473005Z",
     "iopub.status.busy": "2022-08-08T16:38:34.472520Z",
     "iopub.status.idle": "2022-08-08T16:38:34.502011Z",
     "shell.execute_reply": "2022-08-08T16:38:34.501254Z"
    },
    "papermill": {
     "duration": 0.074662,
     "end_time": "2022-08-08T16:38:34.503767",
     "exception": false,
     "start_time": "2022-08-08T16:38:34.429105",
     "status": "completed"
    },
    "tags": []
   },
   "outputs": [
    {
     "data": {
      "text/plain": [
       "varID\n",
       "chr20_50957480_C_T_b38   -0.146796\n",
       "Name: weight, dtype: float64"
      ]
     },
     "execution_count": 133,
     "metadata": {},
     "output_type": "execute_result"
    }
   ],
   "source": [
    "spredixcan_gene_obj[\"ENSG00000000419\"].get_prediction_weights(\n",
    "    tissue=\"Brain_Substantia_nigra\", model_type=EQTL_MODEL\n",
    ")"
   ]
  },
  {
   "cell_type": "code",
   "execution_count": 134,
   "id": "82ef5dec-283c-44ee-a118-b28d87a5b298",
   "metadata": {
    "execution": {
     "iopub.execute_input": "2022-08-08T16:38:34.579363Z",
     "iopub.status.busy": "2022-08-08T16:38:34.578952Z",
     "iopub.status.idle": "2022-08-08T16:38:34.591143Z",
     "shell.execute_reply": "2022-08-08T16:38:34.590739Z"
    },
    "papermill": {
     "duration": 0.040824,
     "end_time": "2022-08-08T16:38:34.592416",
     "exception": false,
     "start_time": "2022-08-08T16:38:34.551592",
     "status": "completed"
    },
    "tags": []
   },
   "outputs": [],
   "source": [
    "# # testing\n",
    "# _gene_id = \"ENSG00000000419\"\n",
    "\n",
    "# _gene_model = _summarize_gene_models(_gene_id)\n",
    "# assert (\n",
    "#     _gene_model.loc[\"chr20_50862947_C_T_b38\", \"Brain_Hypothalamus\"].round(5) == 0.43138\n",
    "# )\n",
    "# assert pd.isnull(_gene_model.loc[\"chr20_50957480_C_T_b38\", \"Brain_Hypothalamus\"])\n",
    "\n",
    "# assert pd.isnull(_gene_model.loc[\"chr20_50862947_C_T_b38\", \"Brain_Substantia_nigra\"])\n",
    "# assert (\n",
    "#     _gene_model.loc[\"chr20_50957480_C_T_b38\", \"Brain_Substantia_nigra\"].round(5)\n",
    "#     == -0.1468\n",
    "# )"
   ]
  },
  {
   "cell_type": "code",
   "execution_count": 135,
   "id": "134a7533-69e8-4858-8763-1fd45cbdec77",
   "metadata": {
    "execution": {
     "iopub.execute_input": "2022-08-08T16:38:34.643259Z",
     "iopub.status.busy": "2022-08-08T16:38:34.642909Z",
     "iopub.status.idle": "2022-08-08T16:55:31.580889Z",
     "shell.execute_reply": "2022-08-08T16:55:31.580387Z"
    },
    "papermill": {
     "duration": 1016.964321,
     "end_time": "2022-08-08T16:55:31.582318",
     "exception": false,
     "start_time": "2022-08-08T16:38:34.617997",
     "status": "completed"
    },
    "tags": []
   },
   "outputs": [],
   "source": [
    "gene_models = {}\n",
    "\n",
    "for gene_id in spredixcan_genes_models.index:\n",
    "    gene_models[gene_id] = _summarize_gene_models(gene_id)"
   ]
  },
  {
   "cell_type": "code",
   "execution_count": 136,
   "id": "97117dc0-0476-4e7b-98cb-6738dbb28c8a",
   "metadata": {
    "execution": {
     "iopub.execute_input": "2022-08-08T16:55:31.660739Z",
     "iopub.status.busy": "2022-08-08T16:55:31.660417Z",
     "iopub.status.idle": "2022-08-08T16:55:31.679538Z",
     "shell.execute_reply": "2022-08-08T16:55:31.678952Z"
    },
    "papermill": {
     "duration": 0.061867,
     "end_time": "2022-08-08T16:55:31.684816",
     "exception": false,
     "start_time": "2022-08-08T16:55:31.622949",
     "status": "completed"
    },
    "tags": []
   },
   "outputs": [],
   "source": [
    "# # testing\n",
    "# _gene_id = \"ENSG00000000419\"\n",
    "\n",
    "# _gene_model = gene_models[_gene_id]\n",
    "# assert (\n",
    "#     _gene_model.loc[\"chr20_50862947_C_T_b38\", \"Brain_Hypothalamus\"].round(5) == 0.43138\n",
    "# )\n",
    "# assert pd.isnull(_gene_model.loc[\"chr20_50957480_C_T_b38\", \"Brain_Hypothalamus\"])\n",
    "\n",
    "# assert pd.isnull(_gene_model.loc[\"chr20_50862947_C_T_b38\", \"Brain_Substantia_nigra\"])\n",
    "# assert (\n",
    "#     _gene_model.loc[\"chr20_50957480_C_T_b38\", \"Brain_Substantia_nigra\"].round(5)\n",
    "#     == -0.1468\n",
    "# )"
   ]
  },
  {
   "cell_type": "code",
   "execution_count": 137,
   "id": "806cd4a5-51b1-4ed3-8aa3-4970c128ccff",
   "metadata": {
    "execution": {
     "iopub.execute_input": "2022-08-08T16:55:31.762758Z",
     "iopub.status.busy": "2022-08-08T16:55:31.762292Z",
     "iopub.status.idle": "2022-08-08T16:55:34.732470Z",
     "shell.execute_reply": "2022-08-08T16:55:34.731909Z"
    },
    "papermill": {
     "duration": 3.002479,
     "end_time": "2022-08-08T16:55:34.734096",
     "exception": false,
     "start_time": "2022-08-08T16:55:31.731617",
     "status": "completed"
    },
    "tags": []
   },
   "outputs": [],
   "source": [
    "# save\n",
    "import gzip\n",
    "\n",
    "with gzip.GzipFile(OUTPUT_DIR_BASE / \"gene_tissues_models.pkl.gz\", \"w\") as f:\n",
    "    pickle.dump(gene_models, f)"
   ]
  },
  {
   "cell_type": "code",
   "execution_count": 138,
   "id": "a12a9597-dd0a-40a0-9a42-f288af22e0d2",
   "metadata": {
    "execution": {
     "iopub.execute_input": "2022-08-08T16:55:34.793226Z",
     "iopub.status.busy": "2022-08-08T16:55:34.792955Z",
     "iopub.status.idle": "2022-08-08T16:55:36.421637Z",
     "shell.execute_reply": "2022-08-08T16:55:36.421125Z"
    },
    "papermill": {
     "duration": 1.657452,
     "end_time": "2022-08-08T16:55:36.423107",
     "exception": false,
     "start_time": "2022-08-08T16:55:34.765655",
     "status": "completed"
    },
    "tags": []
   },
   "outputs": [],
   "source": [
    "# testing saved file\n",
    "with gzip.GzipFile(OUTPUT_DIR_BASE / \"gene_tissues_models.pkl.gz\", \"r\") as f:\n",
    "    _tmp = pickle.load(f)"
   ]
  },
  {
   "cell_type": "code",
   "execution_count": 139,
   "id": "a90a8f83-75db-4f73-8f1a-7e0563ba3685",
   "metadata": {
    "execution": {
     "iopub.execute_input": "2022-08-08T16:55:36.477563Z",
     "iopub.status.busy": "2022-08-08T16:55:36.477342Z",
     "iopub.status.idle": "2022-08-08T16:55:36.490088Z",
     "shell.execute_reply": "2022-08-08T16:55:36.489636Z"
    },
    "papermill": {
     "duration": 0.040982,
     "end_time": "2022-08-08T16:55:36.491408",
     "exception": false,
     "start_time": "2022-08-08T16:55:36.450426",
     "status": "completed"
    },
    "tags": []
   },
   "outputs": [],
   "source": [
    "assert len(gene_models) == len(_tmp)\n",
    "assert gene_models[\"ENSG00000000419\"].equals(_tmp[\"ENSG00000000419\"])"
   ]
  },
  {
   "cell_type": "markdown",
   "id": "a147f3a8-4efd-457b-9581-00cbfacd4b3d",
   "metadata": {
    "papermill": {
     "duration": 0.024557,
     "end_time": "2022-08-08T16:55:36.540835",
     "exception": false,
     "start_time": "2022-08-08T16:55:36.516278",
     "status": "completed"
    },
    "tags": []
   },
   "source": [
    "### Count number of _unique_ SNPs predictors used and available across tissue models"
   ]
  },
  {
   "cell_type": "code",
   "execution_count": 140,
   "id": "38d5bc57-3c25-4abe-93bd-09bbe200f2ef",
   "metadata": {
    "execution": {
     "iopub.execute_input": "2022-08-08T16:55:36.592066Z",
     "iopub.status.busy": "2022-08-08T16:55:36.591851Z",
     "iopub.status.idle": "2022-08-08T16:55:36.605399Z",
     "shell.execute_reply": "2022-08-08T16:55:36.604993Z"
    },
    "papermill": {
     "duration": 0.040389,
     "end_time": "2022-08-08T16:55:36.606645",
     "exception": false,
     "start_time": "2022-08-08T16:55:36.566256",
     "status": "completed"
    },
    "tags": []
   },
   "outputs": [],
   "source": [
    "def _count_unique_snps(gene_id):\n",
    "    \"\"\"\n",
    "    For a gene_id, it counts unique SNPs in all models and their intersection with GWAS SNPs (therefore, used by S-PrediXcan).\n",
    "    \"\"\"\n",
    "    gene_tissues = spredixcan_genes_models.loc[gene_id, \"tissue\"]\n",
    "\n",
    "    gene_unique_snps = set()\n",
    "    for t in gene_tissues:\n",
    "        t_snps = set(gene_models[gene_id].index)\n",
    "        gene_unique_snps.update(t_snps)\n",
    "\n",
    "    gene_unique_snps_in_gwas = gwas_variants_ids_set.intersection(gene_unique_snps)\n",
    "\n",
    "    return pd.Series(\n",
    "        {\n",
    "            \"unique_n_snps_in_model\": len(gene_unique_snps),\n",
    "            \"unique_n_snps_used\": len(gene_unique_snps_in_gwas),\n",
    "        }\n",
    "    )"
   ]
  },
  {
   "cell_type": "code",
   "execution_count": 141,
   "id": "059c6e02-67e2-4376-a3e5-b815070779c9",
   "metadata": {
    "execution": {
     "iopub.execute_input": "2022-08-08T16:55:36.658465Z",
     "iopub.status.busy": "2022-08-08T16:55:36.658030Z",
     "iopub.status.idle": "2022-08-08T16:55:36.687993Z",
     "shell.execute_reply": "2022-08-08T16:55:36.683626Z"
    },
    "papermill": {
     "duration": 0.061306,
     "end_time": "2022-08-08T16:55:36.693112",
     "exception": false,
     "start_time": "2022-08-08T16:55:36.631806",
     "status": "completed"
    },
    "tags": []
   },
   "outputs": [
    {
     "data": {
      "text/html": [
       "<div>\n",
       "<style scoped>\n",
       "    .dataframe tbody tr th:only-of-type {\n",
       "        vertical-align: middle;\n",
       "    }\n",
       "\n",
       "    .dataframe tbody tr th {\n",
       "        vertical-align: top;\n",
       "    }\n",
       "\n",
       "    .dataframe thead th {\n",
       "        text-align: right;\n",
       "    }\n",
       "</style>\n",
       "<table border=\"1\" class=\"dataframe\">\n",
       "  <thead>\n",
       "    <tr style=\"text-align: right;\">\n",
       "      <th></th>\n",
       "      <th>gene_name</th>\n",
       "      <th>tissue</th>\n",
       "      <th>n_tissues</th>\n",
       "      <th>tissues_pc_variances</th>\n",
       "      <th>tissues_pc_variances_cov</th>\n",
       "      <th>tissues_variances</th>\n",
       "      <th>n_snps_used_sum</th>\n",
       "      <th>n_snps_in_model_sum</th>\n",
       "    </tr>\n",
       "    <tr>\n",
       "      <th>gene_id</th>\n",
       "      <th></th>\n",
       "      <th></th>\n",
       "      <th></th>\n",
       "      <th></th>\n",
       "      <th></th>\n",
       "      <th></th>\n",
       "      <th></th>\n",
       "      <th></th>\n",
       "    </tr>\n",
       "  </thead>\n",
       "  <tbody>\n",
       "    <tr>\n",
       "      <th>ENSG00000000419</th>\n",
       "      <td>DPM1</td>\n",
       "      <td>(Brain_Hypothalamus, Brain_Substantia_nigra)</td>\n",
       "      <td>2</td>\n",
       "      <td>[1.0372585612589562, 0.9627414387410438]</td>\n",
       "      <td>[0.008284978865240098, 0.0007326748393412591]</td>\n",
       "      <td>{'Brain_Hypothalamus': 0.0082838613770255, 'Br...</td>\n",
       "      <td>2</td>\n",
       "      <td>2</td>\n",
       "    </tr>\n",
       "    <tr>\n",
       "      <th>ENSG00000010256</th>\n",
       "      <td>UQCRC1</td>\n",
       "      <td>(Thyroid, Whole_Blood)</td>\n",
       "      <td>2</td>\n",
       "      <td>[1.0093689729110555, 0.9906310270889445]</td>\n",
       "      <td>[0.0009273176884979874, 0.00020344782573448428]</td>\n",
       "      <td>{'Thyroid': 0.0009272948084506859, 'Whole_Bloo...</td>\n",
       "      <td>2</td>\n",
       "      <td>2</td>\n",
       "    </tr>\n",
       "    <tr>\n",
       "      <th>ENSG00000017427</th>\n",
       "      <td>IGF1</td>\n",
       "      <td>(Testis, Brain_Amygdala)</td>\n",
       "      <td>2</td>\n",
       "      <td>[1.0771380046097814, 0.9228619953902187]</td>\n",
       "      <td>[0.009029344584417351, 0.004240396755557003]</td>\n",
       "      <td>{'Testis': 0.004288742461259412, 'Brain_Amygda...</td>\n",
       "      <td>2</td>\n",
       "      <td>2</td>\n",
       "    </tr>\n",
       "    <tr>\n",
       "      <th>ENSG00000043093</th>\n",
       "      <td>DCUN1D1</td>\n",
       "      <td>(Esophagus_Gastroesophageal_Junction, Esophagu...</td>\n",
       "      <td>2</td>\n",
       "      <td>[1.3868202090634627, 0.6131797909365372]</td>\n",
       "      <td>[0.0004918171518042509, 0.00015146433378921626]</td>\n",
       "      <td>{'Esophagus_Gastroesophageal_Junction': 0.0001...</td>\n",
       "      <td>2</td>\n",
       "      <td>2</td>\n",
       "    </tr>\n",
       "    <tr>\n",
       "      <th>ENSG00000081377</th>\n",
       "      <td>CDC14B</td>\n",
       "      <td>(Muscle_Skeletal, Brain_Nucleus_accumbens_basa...</td>\n",
       "      <td>2</td>\n",
       "      <td>[1.0605267240586365, 0.9394732759413637]</td>\n",
       "      <td>[0.014269778064730796, 0.008102106779328003]</td>\n",
       "      <td>{'Muscle_Skeletal': 0.008171820631792033, 'Bra...</td>\n",
       "      <td>2</td>\n",
       "      <td>2</td>\n",
       "    </tr>\n",
       "  </tbody>\n",
       "</table>\n",
       "</div>"
      ],
      "text/plain": [
       "                gene_name                                             tissue  \\\n",
       "gene_id                                                                        \n",
       "ENSG00000000419      DPM1       (Brain_Hypothalamus, Brain_Substantia_nigra)   \n",
       "ENSG00000010256    UQCRC1                             (Thyroid, Whole_Blood)   \n",
       "ENSG00000017427      IGF1                           (Testis, Brain_Amygdala)   \n",
       "ENSG00000043093   DCUN1D1  (Esophagus_Gastroesophageal_Junction, Esophagu...   \n",
       "ENSG00000081377    CDC14B  (Muscle_Skeletal, Brain_Nucleus_accumbens_basa...   \n",
       "\n",
       "                 n_tissues                      tissues_pc_variances  \\\n",
       "gene_id                                                                \n",
       "ENSG00000000419          2  [1.0372585612589562, 0.9627414387410438]   \n",
       "ENSG00000010256          2  [1.0093689729110555, 0.9906310270889445]   \n",
       "ENSG00000017427          2  [1.0771380046097814, 0.9228619953902187]   \n",
       "ENSG00000043093          2  [1.3868202090634627, 0.6131797909365372]   \n",
       "ENSG00000081377          2  [1.0605267240586365, 0.9394732759413637]   \n",
       "\n",
       "                                        tissues_pc_variances_cov  \\\n",
       "gene_id                                                            \n",
       "ENSG00000000419    [0.008284978865240098, 0.0007326748393412591]   \n",
       "ENSG00000010256  [0.0009273176884979874, 0.00020344782573448428]   \n",
       "ENSG00000017427     [0.009029344584417351, 0.004240396755557003]   \n",
       "ENSG00000043093  [0.0004918171518042509, 0.00015146433378921626]   \n",
       "ENSG00000081377     [0.014269778064730796, 0.008102106779328003]   \n",
       "\n",
       "                                                 tissues_variances  \\\n",
       "gene_id                                                              \n",
       "ENSG00000000419  {'Brain_Hypothalamus': 0.0082838613770255, 'Br...   \n",
       "ENSG00000010256  {'Thyroid': 0.0009272948084506859, 'Whole_Bloo...   \n",
       "ENSG00000017427  {'Testis': 0.004288742461259412, 'Brain_Amygda...   \n",
       "ENSG00000043093  {'Esophagus_Gastroesophageal_Junction': 0.0001...   \n",
       "ENSG00000081377  {'Muscle_Skeletal': 0.008171820631792033, 'Bra...   \n",
       "\n",
       "                 n_snps_used_sum  n_snps_in_model_sum  \n",
       "gene_id                                                \n",
       "ENSG00000000419                2                    2  \n",
       "ENSG00000010256                2                    2  \n",
       "ENSG00000017427                2                    2  \n",
       "ENSG00000043093                2                    2  \n",
       "ENSG00000081377                2                    2  "
      ]
     },
     "execution_count": 141,
     "metadata": {},
     "output_type": "execute_result"
    }
   ],
   "source": [
    "# testing\n",
    "spredixcan_genes_models[spredixcan_genes_models[\"n_snps_used_sum\"] == 2].head()"
   ]
  },
  {
   "cell_type": "code",
   "execution_count": 142,
   "id": "4f8a444c-c3e2-4688-a50b-08481d41f614",
   "metadata": {
    "execution": {
     "iopub.execute_input": "2022-08-08T16:55:36.777310Z",
     "iopub.status.busy": "2022-08-08T16:55:36.777122Z",
     "iopub.status.idle": "2022-08-08T16:55:36.794542Z",
     "shell.execute_reply": "2022-08-08T16:55:36.794019Z"
    },
    "papermill": {
     "duration": 0.054656,
     "end_time": "2022-08-08T16:55:36.796063",
     "exception": false,
     "start_time": "2022-08-08T16:55:36.741407",
     "status": "completed"
    },
    "tags": []
   },
   "outputs": [
    {
     "data": {
      "text/plain": [
       "varID\n",
       "chr20_50862947_C_T_b38    0.431375\n",
       "Name: weight, dtype: float64"
      ]
     },
     "metadata": {},
     "output_type": "display_data"
    },
    {
     "data": {
      "text/plain": [
       "varID\n",
       "chr20_50957480_C_T_b38   -0.146796\n",
       "Name: weight, dtype: float64"
      ]
     },
     "metadata": {},
     "output_type": "display_data"
    }
   ],
   "source": [
    "# case with two snps, not repeated across tissues\n",
    "_gene_id = \"ENSG00000000419\"\n",
    "display(\n",
    "    spredixcan_gene_obj[_gene_id].get_prediction_weights(\n",
    "        tissue=\"Brain_Hypothalamus\", model_type=EQTL_MODEL\n",
    "    )\n",
    ")\n",
    "display(\n",
    "    spredixcan_gene_obj[_gene_id].get_prediction_weights(\n",
    "        tissue=\"Brain_Substantia_nigra\", model_type=EQTL_MODEL\n",
    "    )\n",
    ")"
   ]
  },
  {
   "cell_type": "code",
   "execution_count": 143,
   "id": "f835cf57-eea6-4468-aaf2-d85c8164d177",
   "metadata": {
    "execution": {
     "iopub.execute_input": "2022-08-08T16:55:36.850374Z",
     "iopub.status.busy": "2022-08-08T16:55:36.849904Z",
     "iopub.status.idle": "2022-08-08T16:55:36.861771Z",
     "shell.execute_reply": "2022-08-08T16:55:36.861360Z"
    },
    "papermill": {
     "duration": 0.0395,
     "end_time": "2022-08-08T16:55:36.863163",
     "exception": false,
     "start_time": "2022-08-08T16:55:36.823663",
     "status": "completed"
    },
    "tags": []
   },
   "outputs": [],
   "source": [
    "# _tmp = _count_unique_snps(_gene_id)\n",
    "# assert _tmp.shape[0] == 2\n",
    "# assert _tmp[\"unique_n_snps_in_model\"] == 2\n",
    "# assert _tmp[\"unique_n_snps_used\"] == 2"
   ]
  },
  {
   "cell_type": "code",
   "execution_count": 144,
   "id": "520837f6-5cdd-4958-aa98-00cd1ebab484",
   "metadata": {
    "execution": {
     "iopub.execute_input": "2022-08-08T16:55:36.914875Z",
     "iopub.status.busy": "2022-08-08T16:55:36.914417Z",
     "iopub.status.idle": "2022-08-08T16:55:39.231280Z",
     "shell.execute_reply": "2022-08-08T16:55:39.230829Z"
    },
    "papermill": {
     "duration": 2.344158,
     "end_time": "2022-08-08T16:55:39.232722",
     "exception": false,
     "start_time": "2022-08-08T16:55:36.888564",
     "status": "completed"
    },
    "tags": []
   },
   "outputs": [],
   "source": [
    "# get unique snps for all genes\n",
    "spredixcan_genes_unique_n_snps = spredixcan_genes_models.groupby(\"gene_id\").apply(\n",
    "    lambda x: _count_unique_snps(x.name)\n",
    ")"
   ]
  },
  {
   "cell_type": "code",
   "execution_count": 145,
   "id": "72633373-73d7-4796-b915-06fcb18feca0",
   "metadata": {
    "execution": {
     "iopub.execute_input": "2022-08-08T16:55:39.286898Z",
     "iopub.status.busy": "2022-08-08T16:55:39.286731Z",
     "iopub.status.idle": "2022-08-08T16:55:39.304447Z",
     "shell.execute_reply": "2022-08-08T16:55:39.304028Z"
    },
    "papermill": {
     "duration": 0.045601,
     "end_time": "2022-08-08T16:55:39.305721",
     "exception": false,
     "start_time": "2022-08-08T16:55:39.260120",
     "status": "completed"
    },
    "tags": []
   },
   "outputs": [
    {
     "data": {
      "text/html": [
       "<div>\n",
       "<style scoped>\n",
       "    .dataframe tbody tr th:only-of-type {\n",
       "        vertical-align: middle;\n",
       "    }\n",
       "\n",
       "    .dataframe tbody tr th {\n",
       "        vertical-align: top;\n",
       "    }\n",
       "\n",
       "    .dataframe thead th {\n",
       "        text-align: right;\n",
       "    }\n",
       "</style>\n",
       "<table border=\"1\" class=\"dataframe\">\n",
       "  <thead>\n",
       "    <tr style=\"text-align: right;\">\n",
       "      <th></th>\n",
       "      <th>unique_n_snps_in_model</th>\n",
       "      <th>unique_n_snps_used</th>\n",
       "    </tr>\n",
       "    <tr>\n",
       "      <th>gene_id</th>\n",
       "      <th></th>\n",
       "      <th></th>\n",
       "    </tr>\n",
       "  </thead>\n",
       "  <tbody>\n",
       "    <tr>\n",
       "      <th>ENSG00000000419</th>\n",
       "      <td>2</td>\n",
       "      <td>2</td>\n",
       "    </tr>\n",
       "    <tr>\n",
       "      <th>ENSG00000000938</th>\n",
       "      <td>5</td>\n",
       "      <td>5</td>\n",
       "    </tr>\n",
       "    <tr>\n",
       "      <th>ENSG00000000971</th>\n",
       "      <td>12</td>\n",
       "      <td>12</td>\n",
       "    </tr>\n",
       "    <tr>\n",
       "      <th>ENSG00000001084</th>\n",
       "      <td>23</td>\n",
       "      <td>23</td>\n",
       "    </tr>\n",
       "    <tr>\n",
       "      <th>ENSG00000001167</th>\n",
       "      <td>14</td>\n",
       "      <td>13</td>\n",
       "    </tr>\n",
       "  </tbody>\n",
       "</table>\n",
       "</div>"
      ],
      "text/plain": [
       "                 unique_n_snps_in_model  unique_n_snps_used\n",
       "gene_id                                                    \n",
       "ENSG00000000419                       2                   2\n",
       "ENSG00000000938                       5                   5\n",
       "ENSG00000000971                      12                  12\n",
       "ENSG00000001084                      23                  23\n",
       "ENSG00000001167                      14                  13"
      ]
     },
     "execution_count": 145,
     "metadata": {},
     "output_type": "execute_result"
    }
   ],
   "source": [
    "spredixcan_genes_unique_n_snps.head()"
   ]
  },
  {
   "cell_type": "code",
   "execution_count": 146,
   "id": "3d2b6676-2168-44b8-8d02-d29b934ba2ec",
   "metadata": {
    "execution": {
     "iopub.execute_input": "2022-08-08T16:55:39.359018Z",
     "iopub.status.busy": "2022-08-08T16:55:39.358851Z",
     "iopub.status.idle": "2022-08-08T16:55:39.372739Z",
     "shell.execute_reply": "2022-08-08T16:55:39.372340Z"
    },
    "papermill": {
     "duration": 0.04123,
     "end_time": "2022-08-08T16:55:39.373966",
     "exception": false,
     "start_time": "2022-08-08T16:55:39.332736",
     "status": "completed"
    },
    "tags": []
   },
   "outputs": [],
   "source": [
    "assert (\n",
    "    spredixcan_genes_unique_n_snps[\"unique_n_snps_in_model\"]\n",
    "    >= spredixcan_genes_unique_n_snps[\"unique_n_snps_used\"]\n",
    ").all()"
   ]
  },
  {
   "cell_type": "code",
   "execution_count": 147,
   "id": "6accf2fe-93fe-4f7c-86ff-5f0ea3d17e11",
   "metadata": {
    "execution": {
     "iopub.execute_input": "2022-08-08T16:55:39.425859Z",
     "iopub.status.busy": "2022-08-08T16:55:39.425624Z",
     "iopub.status.idle": "2022-08-08T16:55:39.441595Z",
     "shell.execute_reply": "2022-08-08T16:55:39.441168Z"
    },
    "papermill": {
     "duration": 0.04322,
     "end_time": "2022-08-08T16:55:39.442850",
     "exception": false,
     "start_time": "2022-08-08T16:55:39.399630",
     "status": "completed"
    },
    "tags": []
   },
   "outputs": [],
   "source": [
    "# add unique snps to spredixcan_genes_models\n",
    "spredixcan_genes_models = spredixcan_genes_models.join(spredixcan_genes_unique_n_snps)"
   ]
  },
  {
   "cell_type": "code",
   "execution_count": 148,
   "id": "25a28358-843b-4421-9d8f-8edc41f016e3",
   "metadata": {
    "execution": {
     "iopub.execute_input": "2022-08-08T16:55:39.495636Z",
     "iopub.status.busy": "2022-08-08T16:55:39.495127Z",
     "iopub.status.idle": "2022-08-08T16:55:39.510161Z",
     "shell.execute_reply": "2022-08-08T16:55:39.509767Z"
    },
    "papermill": {
     "duration": 0.042662,
     "end_time": "2022-08-08T16:55:39.511601",
     "exception": false,
     "start_time": "2022-08-08T16:55:39.468939",
     "status": "completed"
    },
    "tags": []
   },
   "outputs": [
    {
     "data": {
      "text/plain": [
       "(6442, 10)"
      ]
     },
     "execution_count": 148,
     "metadata": {},
     "output_type": "execute_result"
    }
   ],
   "source": [
    "spredixcan_genes_models.shape"
   ]
  },
  {
   "cell_type": "code",
   "execution_count": 149,
   "id": "ae4f0cd6-a823-4f55-82cf-1a78f0392acf",
   "metadata": {
    "execution": {
     "iopub.execute_input": "2022-08-08T16:55:39.564041Z",
     "iopub.status.busy": "2022-08-08T16:55:39.563870Z",
     "iopub.status.idle": "2022-08-08T16:55:39.592004Z",
     "shell.execute_reply": "2022-08-08T16:55:39.591610Z"
    },
    "papermill": {
     "duration": 0.056118,
     "end_time": "2022-08-08T16:55:39.593428",
     "exception": false,
     "start_time": "2022-08-08T16:55:39.537310",
     "status": "completed"
    },
    "tags": []
   },
   "outputs": [
    {
     "data": {
      "text/html": [
       "<div>\n",
       "<style scoped>\n",
       "    .dataframe tbody tr th:only-of-type {\n",
       "        vertical-align: middle;\n",
       "    }\n",
       "\n",
       "    .dataframe tbody tr th {\n",
       "        vertical-align: top;\n",
       "    }\n",
       "\n",
       "    .dataframe thead th {\n",
       "        text-align: right;\n",
       "    }\n",
       "</style>\n",
       "<table border=\"1\" class=\"dataframe\">\n",
       "  <thead>\n",
       "    <tr style=\"text-align: right;\">\n",
       "      <th></th>\n",
       "      <th>gene_name</th>\n",
       "      <th>tissue</th>\n",
       "      <th>n_tissues</th>\n",
       "      <th>tissues_pc_variances</th>\n",
       "      <th>tissues_pc_variances_cov</th>\n",
       "      <th>tissues_variances</th>\n",
       "      <th>n_snps_used_sum</th>\n",
       "      <th>n_snps_in_model_sum</th>\n",
       "      <th>unique_n_snps_in_model</th>\n",
       "      <th>unique_n_snps_used</th>\n",
       "    </tr>\n",
       "    <tr>\n",
       "      <th>gene_id</th>\n",
       "      <th></th>\n",
       "      <th></th>\n",
       "      <th></th>\n",
       "      <th></th>\n",
       "      <th></th>\n",
       "      <th></th>\n",
       "      <th></th>\n",
       "      <th></th>\n",
       "      <th></th>\n",
       "      <th></th>\n",
       "    </tr>\n",
       "  </thead>\n",
       "  <tbody>\n",
       "    <tr>\n",
       "      <th>ENSG00000000419</th>\n",
       "      <td>DPM1</td>\n",
       "      <td>(Brain_Hypothalamus, Brain_Substantia_nigra)</td>\n",
       "      <td>2</td>\n",
       "      <td>[1.0372585612589562, 0.9627414387410438]</td>\n",
       "      <td>[0.008284978865240098, 0.0007326748393412591]</td>\n",
       "      <td>{'Brain_Hypothalamus': 0.0082838613770255, 'Br...</td>\n",
       "      <td>2</td>\n",
       "      <td>2</td>\n",
       "      <td>2</td>\n",
       "      <td>2</td>\n",
       "    </tr>\n",
       "    <tr>\n",
       "      <th>ENSG00000000938</th>\n",
       "      <td>FGR</td>\n",
       "      <td>(Adipose_Visceral_Omentum, Esophagus_Musculari...</td>\n",
       "      <td>36</td>\n",
       "      <td>[30.57880701512373, 2.0297326456001104, 1.4017...</td>\n",
       "      <td>[0.22478471249969328, 0.008813873813031791]</td>\n",
       "      <td>{'Adipose_Visceral_Omentum': 0.001932839939705...</td>\n",
       "      <td>40</td>\n",
       "      <td>40</td>\n",
       "      <td>5</td>\n",
       "      <td>5</td>\n",
       "    </tr>\n",
       "    <tr>\n",
       "      <th>ENSG00000000971</th>\n",
       "      <td>CFH</td>\n",
       "      <td>(Uterus, Brain_Putamen_basal_ganglia, Esophagu...</td>\n",
       "      <td>34</td>\n",
       "      <td>[20.772608276639335, 8.177158142324833, 1.8646...</td>\n",
       "      <td>[0.1969953427958011, 0.05731825316349161, 0.02...</td>\n",
       "      <td>{'Uterus': 0.00888478850189283, 'Brain_Putamen...</td>\n",
       "      <td>44</td>\n",
       "      <td>44</td>\n",
       "      <td>12</td>\n",
       "      <td>12</td>\n",
       "    </tr>\n",
       "    <tr>\n",
       "      <th>ENSG00000001084</th>\n",
       "      <td>GCLC</td>\n",
       "      <td>(Brain_Putamen_basal_ganglia, Brain_Amygdala, ...</td>\n",
       "      <td>32</td>\n",
       "      <td>[20.976449940269102, 4.772354749306767, 2.2362...</td>\n",
       "      <td>[0.3657809638925394, 0.1264541371042455, 0.016...</td>\n",
       "      <td>{'Brain_Putamen_basal_ganglia': 0.022230612685...</td>\n",
       "      <td>46</td>\n",
       "      <td>46</td>\n",
       "      <td>23</td>\n",
       "      <td>23</td>\n",
       "    </tr>\n",
       "    <tr>\n",
       "      <th>ENSG00000001167</th>\n",
       "      <td>NFYA</td>\n",
       "      <td>(Adipose_Visceral_Omentum, Brain_Putamen_basal...</td>\n",
       "      <td>40</td>\n",
       "      <td>[37.638369782404986]</td>\n",
       "      <td>[1.4787144508923984, 0.049690618387739166]</td>\n",
       "      <td>{'Adipose_Visceral_Omentum': 0.037274400234795...</td>\n",
       "      <td>47</td>\n",
       "      <td>48</td>\n",
       "      <td>14</td>\n",
       "      <td>13</td>\n",
       "    </tr>\n",
       "  </tbody>\n",
       "</table>\n",
       "</div>"
      ],
      "text/plain": [
       "                gene_name                                             tissue  \\\n",
       "gene_id                                                                        \n",
       "ENSG00000000419      DPM1       (Brain_Hypothalamus, Brain_Substantia_nigra)   \n",
       "ENSG00000000938       FGR  (Adipose_Visceral_Omentum, Esophagus_Musculari...   \n",
       "ENSG00000000971       CFH  (Uterus, Brain_Putamen_basal_ganglia, Esophagu...   \n",
       "ENSG00000001084      GCLC  (Brain_Putamen_basal_ganglia, Brain_Amygdala, ...   \n",
       "ENSG00000001167      NFYA  (Adipose_Visceral_Omentum, Brain_Putamen_basal...   \n",
       "\n",
       "                 n_tissues                               tissues_pc_variances  \\\n",
       "gene_id                                                                         \n",
       "ENSG00000000419          2           [1.0372585612589562, 0.9627414387410438]   \n",
       "ENSG00000000938         36  [30.57880701512373, 2.0297326456001104, 1.4017...   \n",
       "ENSG00000000971         34  [20.772608276639335, 8.177158142324833, 1.8646...   \n",
       "ENSG00000001084         32  [20.976449940269102, 4.772354749306767, 2.2362...   \n",
       "ENSG00000001167         40                               [37.638369782404986]   \n",
       "\n",
       "                                          tissues_pc_variances_cov  \\\n",
       "gene_id                                                              \n",
       "ENSG00000000419      [0.008284978865240098, 0.0007326748393412591]   \n",
       "ENSG00000000938        [0.22478471249969328, 0.008813873813031791]   \n",
       "ENSG00000000971  [0.1969953427958011, 0.05731825316349161, 0.02...   \n",
       "ENSG00000001084  [0.3657809638925394, 0.1264541371042455, 0.016...   \n",
       "ENSG00000001167         [1.4787144508923984, 0.049690618387739166]   \n",
       "\n",
       "                                                 tissues_variances  \\\n",
       "gene_id                                                              \n",
       "ENSG00000000419  {'Brain_Hypothalamus': 0.0082838613770255, 'Br...   \n",
       "ENSG00000000938  {'Adipose_Visceral_Omentum': 0.001932839939705...   \n",
       "ENSG00000000971  {'Uterus': 0.00888478850189283, 'Brain_Putamen...   \n",
       "ENSG00000001084  {'Brain_Putamen_basal_ganglia': 0.022230612685...   \n",
       "ENSG00000001167  {'Adipose_Visceral_Omentum': 0.037274400234795...   \n",
       "\n",
       "                 n_snps_used_sum  n_snps_in_model_sum  unique_n_snps_in_model  \\\n",
       "gene_id                                                                         \n",
       "ENSG00000000419                2                    2                       2   \n",
       "ENSG00000000938               40                   40                       5   \n",
       "ENSG00000000971               44                   44                      12   \n",
       "ENSG00000001084               46                   46                      23   \n",
       "ENSG00000001167               47                   48                      14   \n",
       "\n",
       "                 unique_n_snps_used  \n",
       "gene_id                              \n",
       "ENSG00000000419                   2  \n",
       "ENSG00000000938                   5  \n",
       "ENSG00000000971                  12  \n",
       "ENSG00000001084                  23  \n",
       "ENSG00000001167                  13  "
      ]
     },
     "execution_count": 149,
     "metadata": {},
     "output_type": "execute_result"
    }
   ],
   "source": [
    "spredixcan_genes_models.head()"
   ]
  },
  {
   "cell_type": "markdown",
   "id": "d6947d45-ea78-4c6b-bf71-f7413d1687e3",
   "metadata": {
    "papermill": {
     "duration": 0.025611,
     "end_time": "2022-08-08T16:55:39.644892",
     "exception": false,
     "start_time": "2022-08-08T16:55:39.619281",
     "status": "completed"
    },
    "tags": []
   },
   "source": [
    "### Save"
   ]
  },
  {
   "cell_type": "code",
   "execution_count": 150,
   "id": "ebc3a430-7bd5-4099-8b01-aa77e704e3e7",
   "metadata": {
    "execution": {
     "iopub.execute_input": "2022-08-08T16:55:39.741708Z",
     "iopub.status.busy": "2022-08-08T16:55:39.741514Z",
     "iopub.status.idle": "2022-08-08T16:55:39.758545Z",
     "shell.execute_reply": "2022-08-08T16:55:39.758051Z"
    },
    "papermill": {
     "duration": 0.054738,
     "end_time": "2022-08-08T16:55:39.760177",
     "exception": false,
     "start_time": "2022-08-08T16:55:39.705439",
     "status": "completed"
    },
    "tags": []
   },
   "outputs": [],
   "source": [
    "# this is important, other scripts depend on gene_name to be unique\n",
    "assert spredixcan_genes_models[\"gene_name\"].is_unique"
   ]
  },
  {
   "cell_type": "code",
   "execution_count": 151,
   "id": "e2db5302-3051-4492-97e1-e759d2fb512f",
   "metadata": {
    "execution": {
     "iopub.execute_input": "2022-08-08T16:55:39.815690Z",
     "iopub.status.busy": "2022-08-08T16:55:39.815489Z",
     "iopub.status.idle": "2022-08-08T16:55:39.832847Z",
     "shell.execute_reply": "2022-08-08T16:55:39.832401Z"
    },
    "papermill": {
     "duration": 0.046023,
     "end_time": "2022-08-08T16:55:39.834324",
     "exception": false,
     "start_time": "2022-08-08T16:55:39.788301",
     "status": "completed"
    },
    "tags": []
   },
   "outputs": [],
   "source": [
    "assert not spredixcan_genes_models.isna().any(None)"
   ]
  },
  {
   "cell_type": "code",
   "execution_count": 152,
   "id": "10e19441-8390-4eb1-8da4-24752597bb54",
   "metadata": {
    "execution": {
     "iopub.execute_input": "2022-08-08T16:55:39.888177Z",
     "iopub.status.busy": "2022-08-08T16:55:39.888002Z",
     "iopub.status.idle": "2022-08-08T16:55:40.684297Z",
     "shell.execute_reply": "2022-08-08T16:55:40.683885Z"
    },
    "papermill": {
     "duration": 0.823954,
     "end_time": "2022-08-08T16:55:40.685565",
     "exception": false,
     "start_time": "2022-08-08T16:55:39.861611",
     "status": "completed"
    },
    "tags": []
   },
   "outputs": [],
   "source": [
    "spredixcan_genes_models.to_pickle(OUTPUT_DIR_BASE / \"gene_tissues.pkl\")"
   ]
  },
  {
   "cell_type": "code",
   "execution_count": null,
   "id": "b25e3ead",
   "metadata": {
    "papermill": {
     "duration": 0.034811,
     "end_time": "2022-08-08T16:55:40.762052",
     "exception": false,
     "start_time": "2022-08-08T16:55:40.727241",
     "status": "completed"
    },
    "tags": []
   },
   "outputs": [],
   "source": []
  }
 ],
 "metadata": {
  "jupytext": {
   "cell_metadata_filter": "all,-execution,-papermill,-trusted",
   "formats": "ipynb,py//py:percent"
  },
  "kernelspec": {
   "display_name": "Python 3 (ipykernel)",
   "language": "python",
   "name": "python3"
  },
  "language_info": {
   "codemirror_mode": {
    "name": "ipython",
    "version": 3
   },
   "file_extension": ".py",
   "mimetype": "text/x-python",
   "name": "python",
   "nbconvert_exporter": "python",
   "pygments_lexer": "ipython3",
   "version": "3.8.13"
  },
  "papermill": {
   "default_parameters": {},
   "duration": 9561.840945,
   "end_time": "2022-08-08T16:55:43.626399",
   "environment_variables": {},
   "exception": null,
   "input_path": "nbs/15_gsa_gls/07-compile_gwas_snps_and_twas_genes.ipynb",
   "output_path": "nbs/15_gsa_gls/gene_corrs/cohorts/1000g_eur/1000g/mashr/07-compile_gwas_snps_and_twas_genes.run.ipynb",
   "parameters": {
    "COHORT_NAME": "1000G_EUR",
    "EQTL_MODEL": "MASHR",
    "GWAS_FILE": "/opt/data/results/gls/null_sims/final_imputed_gwas/random.pheno0.glm-imputed.txt.gz",
    "REFERENCE_PANEL": "1000G",
    "SMULTIXCAN_FILE": "/opt/data/results/gls/null_sims/twas/smultixcan/random.pheno0-gtex_v8-mashr-smultixcan.txt",
    "SPREDIXCAN_FILE_PATTERN": "random.pheno0-gtex_v8-mashr-{tissue}.csv",
    "SPREDIXCAN_FOLDER": "/opt/data/results/gls/null_sims/twas/spredixcan/"
   },
   "start_time": "2022-08-08T14:16:21.785454",
   "version": "2.2.2"
  },
  "toc-autonumbering": true
 },
 "nbformat": 4,
 "nbformat_minor": 5
}
