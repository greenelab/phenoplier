{
 "cells": [
  {
   "cell_type": "markdown",
   "id": "7a6632fb",
   "metadata": {
    "papermill": {
     "duration": 0.04846,
     "end_time": "2022-08-02T17:56:20.303024",
     "exception": false,
     "start_time": "2022-08-02T17:56:20.254564",
     "status": "completed"
    },
    "tags": []
   },
   "source": [
    "# Description"
   ]
  },
  {
   "cell_type": "markdown",
   "id": "7097c346",
   "metadata": {
    "papermill": {
     "duration": 0.016145,
     "end_time": "2022-08-02T17:56:20.336277",
     "exception": false,
     "start_time": "2022-08-02T17:56:20.320132",
     "status": "completed"
    },
    "tags": []
   },
   "source": [
    "(Please, take a look at the README.md file in this directory for instructions on how to run this notebook)\n",
    "\n",
    "This notebook compiles information about the GWAS and TWAS for a particular cohort. For example, the set of GWAS variants, variance of predicted expression of genes, etc.\n",
    "\n",
    "It has specicfic parameters for papermill (see under `Settings` below).\n",
    "\n",
    "This notebook is not directly run. See README.md."
   ]
  },
  {
   "cell_type": "markdown",
   "id": "c61d8427",
   "metadata": {
    "papermill": {
     "duration": 0.014326,
     "end_time": "2022-08-02T17:56:20.365246",
     "exception": false,
     "start_time": "2022-08-02T17:56:20.350920",
     "status": "completed"
    },
    "tags": []
   },
   "source": [
    "# Modules"
   ]
  },
  {
   "cell_type": "code",
   "execution_count": 1,
   "id": "bbc0234f",
   "metadata": {
    "execution": {
     "iopub.execute_input": "2022-08-02T17:56:20.401958Z",
     "iopub.status.busy": "2022-08-02T17:56:20.401730Z",
     "iopub.status.idle": "2022-08-02T17:56:20.418207Z",
     "shell.execute_reply": "2022-08-02T17:56:20.417661Z"
    },
    "papermill": {
     "duration": 0.036436,
     "end_time": "2022-08-02T17:56:20.419743",
     "exception": false,
     "start_time": "2022-08-02T17:56:20.383307",
     "status": "completed"
    },
    "tags": []
   },
   "outputs": [],
   "source": [
    "%load_ext autoreload\n",
    "%autoreload 2"
   ]
  },
  {
   "cell_type": "code",
   "execution_count": 2,
   "id": "1d5f5a59",
   "metadata": {
    "execution": {
     "iopub.execute_input": "2022-08-02T17:56:20.450494Z",
     "iopub.status.busy": "2022-08-02T17:56:20.450338Z",
     "iopub.status.idle": "2022-08-02T17:56:20.900738Z",
     "shell.execute_reply": "2022-08-02T17:56:20.900209Z"
    },
    "papermill": {
     "duration": 0.466449,
     "end_time": "2022-08-02T17:56:20.902151",
     "exception": false,
     "start_time": "2022-08-02T17:56:20.435702",
     "status": "completed"
    },
    "tags": []
   },
   "outputs": [],
   "source": [
    "from pathlib import Path\n",
    "import pickle\n",
    "\n",
    "import numpy as np\n",
    "import pandas as pd\n",
    "\n",
    "import conf\n",
    "from entity import Gene"
   ]
  },
  {
   "cell_type": "markdown",
   "id": "1eac24b5",
   "metadata": {
    "papermill": {
     "duration": 0.013473,
     "end_time": "2022-08-02T17:56:20.930231",
     "exception": false,
     "start_time": "2022-08-02T17:56:20.916758",
     "status": "completed"
    },
    "tags": []
   },
   "source": [
    "# Settings"
   ]
  },
  {
   "cell_type": "code",
   "execution_count": 3,
   "id": "ca4560ba",
   "metadata": {
    "execution": {
     "iopub.execute_input": "2022-08-02T17:56:20.959238Z",
     "iopub.status.busy": "2022-08-02T17:56:20.959033Z",
     "iopub.status.idle": "2022-08-02T17:56:20.971148Z",
     "shell.execute_reply": "2022-08-02T17:56:20.970699Z"
    },
    "papermill": {
     "duration": 0.028726,
     "end_time": "2022-08-02T17:56:20.972492",
     "exception": false,
     "start_time": "2022-08-02T17:56:20.943766",
     "status": "completed"
    },
    "tags": [
     "parameters"
    ]
   },
   "outputs": [],
   "source": [
    "# a cohort name (it could be something like UK_BIOBANK, etc)\n",
    "COHORT_NAME = None\n",
    "\n",
    "# reference panel such as 1000G or GTEX_V8\n",
    "REFERENCE_PANEL = None\n",
    "\n",
    "# predictions models such as MASHR or ELASTIC_NET\n",
    "EQTL_MODEL = None\n",
    "\n",
    "# a string with a path pointing to an imputed GWAS\n",
    "GWAS_FILE = None\n",
    "\n",
    "# a string with a path pointing where S-PrediXcan results (tissue-specific are located\n",
    "SPREDIXCAN_FOLDER = None\n",
    "\n",
    "# an f-string with one placeholder {tissue}\n",
    "SPREDIXCAN_FILE_PATTERN = None\n",
    "\n",
    "# a string with a path pointing to an S-MultiXcan result\n",
    "SMULTIXCAN_FILE = None"
   ]
  },
  {
   "cell_type": "code",
   "execution_count": 4,
   "id": "bc89a581",
   "metadata": {
    "execution": {
     "iopub.execute_input": "2022-08-02T17:56:21.000952Z",
     "iopub.status.busy": "2022-08-02T17:56:21.000766Z",
     "iopub.status.idle": "2022-08-02T17:56:21.012551Z",
     "shell.execute_reply": "2022-08-02T17:56:21.011963Z"
    },
    "papermill": {
     "duration": 0.027459,
     "end_time": "2022-08-02T17:56:21.013826",
     "exception": false,
     "start_time": "2022-08-02T17:56:20.986367",
     "status": "completed"
    },
    "tags": [
     "injected-parameters"
    ]
   },
   "outputs": [],
   "source": [
    "# Parameters\n",
    "COHORT_NAME = \"1000G_EUR\"\n",
    "REFERENCE_PANEL = \"1000G\"\n",
    "EQTL_MODEL = \"MASHR\"\n",
    "GWAS_FILE = \"/opt/data/results/gls/null_sims/final_imputed_gwas/random.pheno0.glm-imputed.txt.gz\"\n",
    "SPREDIXCAN_FOLDER = \"/opt/data/results/gls/null_sims/twas/spredixcan/\"\n",
    "SPREDIXCAN_FILE_PATTERN = \"random.pheno0-gtex_v8-mashr-{tissue}.csv\"\n",
    "SMULTIXCAN_FILE = \"/opt/data/results/gls/null_sims/twas/smultixcan/random.pheno0-gtex_v8-mashr-smultixcan.txt\"\n"
   ]
  },
  {
   "cell_type": "code",
   "execution_count": 5,
   "id": "8fe24bef",
   "metadata": {
    "execution": {
     "iopub.execute_input": "2022-08-02T17:56:21.042873Z",
     "iopub.status.busy": "2022-08-02T17:56:21.042714Z",
     "iopub.status.idle": "2022-08-02T17:56:21.059292Z",
     "shell.execute_reply": "2022-08-02T17:56:21.058733Z"
    },
    "papermill": {
     "duration": 0.032544,
     "end_time": "2022-08-02T17:56:21.060486",
     "exception": false,
     "start_time": "2022-08-02T17:56:21.027942",
     "status": "completed"
    },
    "tags": []
   },
   "outputs": [
    {
     "data": {
      "text/plain": [
       "'Cohort name: 1000g_eur'"
      ]
     },
     "metadata": {},
     "output_type": "display_data"
    }
   ],
   "source": [
    "assert COHORT_NAME is not None and len(COHORT_NAME) > 0, \"A cohort name must be given\"\n",
    "\n",
    "COHORT_NAME = COHORT_NAME.lower()\n",
    "display(f\"Cohort name: {COHORT_NAME}\")"
   ]
  },
  {
   "cell_type": "code",
   "execution_count": 6,
   "id": "f53ba19b-0f93-4fa2-a047-63b375939d1a",
   "metadata": {
    "execution": {
     "iopub.execute_input": "2022-08-02T17:56:21.089346Z",
     "iopub.status.busy": "2022-08-02T17:56:21.089129Z",
     "iopub.status.idle": "2022-08-02T17:56:21.102225Z",
     "shell.execute_reply": "2022-08-02T17:56:21.101433Z"
    },
    "papermill": {
     "duration": 0.028683,
     "end_time": "2022-08-02T17:56:21.103411",
     "exception": false,
     "start_time": "2022-08-02T17:56:21.074728",
     "status": "completed"
    },
    "tags": []
   },
   "outputs": [
    {
     "data": {
      "text/plain": [
       "'Reference panel: 1000G'"
      ]
     },
     "metadata": {},
     "output_type": "display_data"
    }
   ],
   "source": [
    "assert (\n",
    "    REFERENCE_PANEL is not None and len(REFERENCE_PANEL) > 0\n",
    "), \"A reference panel must be given\"\n",
    "\n",
    "display(f\"Reference panel: {REFERENCE_PANEL}\")"
   ]
  },
  {
   "cell_type": "code",
   "execution_count": 7,
   "id": "7a970044-2d34-4e5b-a850-eff44079afe8",
   "metadata": {
    "execution": {
     "iopub.execute_input": "2022-08-02T17:56:21.132082Z",
     "iopub.status.busy": "2022-08-02T17:56:21.131875Z",
     "iopub.status.idle": "2022-08-02T17:56:21.144670Z",
     "shell.execute_reply": "2022-08-02T17:56:21.144189Z"
    },
    "papermill": {
     "duration": 0.028479,
     "end_time": "2022-08-02T17:56:21.145947",
     "exception": false,
     "start_time": "2022-08-02T17:56:21.117468",
     "status": "completed"
    },
    "tags": []
   },
   "outputs": [
    {
     "data": {
      "text/plain": [
       "'GWAS file path: /opt/data/results/gls/null_sims/final_imputed_gwas/random.pheno0.glm-imputed.txt.gz'"
      ]
     },
     "metadata": {},
     "output_type": "display_data"
    }
   ],
   "source": [
    "assert GWAS_FILE is not None and len(GWAS_FILE) > 0, \"A GWAS file path must be given\"\n",
    "GWAS_FILE = Path(GWAS_FILE).resolve()\n",
    "assert GWAS_FILE.exists(), \"GWAS file does not exist\"\n",
    "\n",
    "display(f\"GWAS file path: {str(GWAS_FILE)}\")"
   ]
  },
  {
   "cell_type": "code",
   "execution_count": 8,
   "id": "552a7f63-a18c-4d3e-bb6a-94f99b431291",
   "metadata": {
    "execution": {
     "iopub.execute_input": "2022-08-02T17:56:21.176343Z",
     "iopub.status.busy": "2022-08-02T17:56:21.176179Z",
     "iopub.status.idle": "2022-08-02T17:56:21.189192Z",
     "shell.execute_reply": "2022-08-02T17:56:21.188656Z"
    },
    "papermill": {
     "duration": 0.029649,
     "end_time": "2022-08-02T17:56:21.190417",
     "exception": false,
     "start_time": "2022-08-02T17:56:21.160768",
     "status": "completed"
    },
    "tags": []
   },
   "outputs": [
    {
     "data": {
      "text/plain": [
       "'S-PrediXcan folder path: /opt/data/results/gls/null_sims/twas/spredixcan'"
      ]
     },
     "metadata": {},
     "output_type": "display_data"
    }
   ],
   "source": [
    "assert (\n",
    "    SPREDIXCAN_FOLDER is not None and len(SPREDIXCAN_FOLDER) > 0\n",
    "), \"An S-PrediXcan folder path must be given\"\n",
    "SPREDIXCAN_FOLDER = Path(SPREDIXCAN_FOLDER).resolve()\n",
    "assert SPREDIXCAN_FOLDER.exists(), \"S-PrediXcan folder does not exist\"\n",
    "\n",
    "display(f\"S-PrediXcan folder path: {str(SPREDIXCAN_FOLDER)}\")"
   ]
  },
  {
   "cell_type": "code",
   "execution_count": 9,
   "id": "6e2000dc-f1dc-4db8-93d5-9a7209a2e121",
   "metadata": {
    "execution": {
     "iopub.execute_input": "2022-08-02T17:56:21.220005Z",
     "iopub.status.busy": "2022-08-02T17:56:21.219810Z",
     "iopub.status.idle": "2022-08-02T17:56:21.232860Z",
     "shell.execute_reply": "2022-08-02T17:56:21.232264Z"
    },
    "papermill": {
     "duration": 0.028733,
     "end_time": "2022-08-02T17:56:21.234092",
     "exception": false,
     "start_time": "2022-08-02T17:56:21.205359",
     "status": "completed"
    },
    "tags": []
   },
   "outputs": [
    {
     "data": {
      "text/plain": [
       "'S-PrediXcan file template: random.pheno0-gtex_v8-mashr-{tissue}.csv'"
      ]
     },
     "metadata": {},
     "output_type": "display_data"
    }
   ],
   "source": [
    "assert (\n",
    "    SPREDIXCAN_FILE_PATTERN is not None and len(SPREDIXCAN_FILE_PATTERN) > 0\n",
    "), \"An S-PrediXcan file pattern must be given\"\n",
    "assert (\n",
    "    \"{tissue}\" in SPREDIXCAN_FILE_PATTERN\n",
    "), \"S-PrediXcan file pattern must have a '{tissue}' placeholder\"\n",
    "\n",
    "display(f\"S-PrediXcan file template: {SPREDIXCAN_FILE_PATTERN}\")"
   ]
  },
  {
   "cell_type": "code",
   "execution_count": 10,
   "id": "f5a5aa9d-c6f3-4fb5-9351-37382b6e67bc",
   "metadata": {
    "execution": {
     "iopub.execute_input": "2022-08-02T17:56:21.263401Z",
     "iopub.status.busy": "2022-08-02T17:56:21.263199Z",
     "iopub.status.idle": "2022-08-02T17:56:21.276089Z",
     "shell.execute_reply": "2022-08-02T17:56:21.275629Z"
    },
    "papermill": {
     "duration": 0.028826,
     "end_time": "2022-08-02T17:56:21.277268",
     "exception": false,
     "start_time": "2022-08-02T17:56:21.248442",
     "status": "completed"
    },
    "tags": []
   },
   "outputs": [
    {
     "data": {
      "text/plain": [
       "'S-MultiXcan file path: /opt/data/results/gls/null_sims/twas/smultixcan/random.pheno0-gtex_v8-mashr-smultixcan.txt'"
      ]
     },
     "metadata": {},
     "output_type": "display_data"
    }
   ],
   "source": [
    "assert (\n",
    "    SMULTIXCAN_FILE is not None and len(SMULTIXCAN_FILE) > 0\n",
    "), \"An S-MultiXcan result file path must be given\"\n",
    "SMULTIXCAN_FILE = Path(SMULTIXCAN_FILE).resolve()\n",
    "assert SMULTIXCAN_FILE.exists(), \"S-MultiXcan result file does not exist\"\n",
    "\n",
    "display(f\"S-MultiXcan file path: {str(SMULTIXCAN_FILE)}\")"
   ]
  },
  {
   "cell_type": "code",
   "execution_count": 11,
   "id": "0723dc2f-34d1-407c-a55b-d6d13c55d63d",
   "metadata": {
    "execution": {
     "iopub.execute_input": "2022-08-02T17:56:21.307280Z",
     "iopub.status.busy": "2022-08-02T17:56:21.307076Z",
     "iopub.status.idle": "2022-08-02T17:56:21.320038Z",
     "shell.execute_reply": "2022-08-02T17:56:21.319486Z"
    },
    "papermill": {
     "duration": 0.02946,
     "end_time": "2022-08-02T17:56:21.321259",
     "exception": false,
     "start_time": "2022-08-02T17:56:21.291799",
     "status": "completed"
    },
    "tags": []
   },
   "outputs": [
    {
     "data": {
      "text/plain": [
       "'eQTL model: MASHR'"
      ]
     },
     "metadata": {},
     "output_type": "display_data"
    }
   ],
   "source": [
    "assert (\n",
    "    EQTL_MODEL is not None and len(EQTL_MODEL) > 0\n",
    "), \"A prediction/eQTL model must be given\"\n",
    "\n",
    "display(f\"eQTL model: {EQTL_MODEL}\")"
   ]
  },
  {
   "cell_type": "code",
   "execution_count": 12,
   "id": "396392dc-0340-4540-9b02-e182b833f909",
   "metadata": {
    "execution": {
     "iopub.execute_input": "2022-08-02T17:56:21.352470Z",
     "iopub.status.busy": "2022-08-02T17:56:21.351794Z",
     "iopub.status.idle": "2022-08-02T17:56:21.364663Z",
     "shell.execute_reply": "2022-08-02T17:56:21.364158Z"
    },
    "papermill": {
     "duration": 0.029843,
     "end_time": "2022-08-02T17:56:21.366050",
     "exception": false,
     "start_time": "2022-08-02T17:56:21.336207",
     "status": "completed"
    },
    "tags": []
   },
   "outputs": [
    {
     "data": {
      "text/plain": [
       "'Using output dir base: /opt/data/results/gls/gene_corrs/cohorts/1000g_eur/1000g/mashr'"
      ]
     },
     "metadata": {},
     "output_type": "display_data"
    }
   ],
   "source": [
    "OUTPUT_DIR_BASE = (\n",
    "    conf.RESULTS[\"GLS\"]\n",
    "    / \"gene_corrs\"\n",
    "    / \"cohorts\"\n",
    "    / COHORT_NAME\n",
    "    / REFERENCE_PANEL.lower()\n",
    "    / EQTL_MODEL.lower()\n",
    ")\n",
    "\n",
    "OUTPUT_DIR_BASE.mkdir(parents=True, exist_ok=True)\n",
    "\n",
    "display(f\"Using output dir base: {OUTPUT_DIR_BASE}\")"
   ]
  },
  {
   "cell_type": "markdown",
   "id": "b6ebb422-8204-494b-8c72-360a71ce9863",
   "metadata": {
    "papermill": {
     "duration": 0.018286,
     "end_time": "2022-08-02T17:56:21.403281",
     "exception": false,
     "start_time": "2022-08-02T17:56:21.384995",
     "status": "completed"
    },
    "tags": []
   },
   "source": [
    "# Load MultiPLIER Z genes"
   ]
  },
  {
   "cell_type": "code",
   "execution_count": 13,
   "id": "c48ef527",
   "metadata": {
    "execution": {
     "iopub.execute_input": "2022-08-02T17:56:21.436816Z",
     "iopub.status.busy": "2022-08-02T17:56:21.436656Z",
     "iopub.status.idle": "2022-08-02T17:56:21.475928Z",
     "shell.execute_reply": "2022-08-02T17:56:21.475377Z"
    },
    "papermill": {
     "duration": 0.059653,
     "end_time": "2022-08-02T17:56:21.480070",
     "exception": false,
     "start_time": "2022-08-02T17:56:21.420417",
     "status": "completed"
    },
    "tags": []
   },
   "outputs": [],
   "source": [
    "multiplier_z_genes = pd.read_pickle(\n",
    "    conf.MULTIPLIER[\"MODEL_Z_MATRIX_FILE\"]\n",
    ").index.tolist()"
   ]
  },
  {
   "cell_type": "code",
   "execution_count": 14,
   "id": "0a4ecbd9",
   "metadata": {
    "execution": {
     "iopub.execute_input": "2022-08-02T17:56:21.519815Z",
     "iopub.status.busy": "2022-08-02T17:56:21.519587Z",
     "iopub.status.idle": "2022-08-02T17:56:21.532008Z",
     "shell.execute_reply": "2022-08-02T17:56:21.531444Z"
    },
    "papermill": {
     "duration": 0.029271,
     "end_time": "2022-08-02T17:56:21.533267",
     "exception": false,
     "start_time": "2022-08-02T17:56:21.503996",
     "status": "completed"
    },
    "tags": []
   },
   "outputs": [
    {
     "data": {
      "text/plain": [
       "6750"
      ]
     },
     "execution_count": 14,
     "metadata": {},
     "output_type": "execute_result"
    }
   ],
   "source": [
    "len(multiplier_z_genes)"
   ]
  },
  {
   "cell_type": "code",
   "execution_count": 15,
   "id": "a18ce359-0759-4260-ae6f-053e8c0041b7",
   "metadata": {
    "execution": {
     "iopub.execute_input": "2022-08-02T17:56:21.565311Z",
     "iopub.status.busy": "2022-08-02T17:56:21.564768Z",
     "iopub.status.idle": "2022-08-02T17:56:21.576936Z",
     "shell.execute_reply": "2022-08-02T17:56:21.576422Z"
    },
    "papermill": {
     "duration": 0.029601,
     "end_time": "2022-08-02T17:56:21.578336",
     "exception": false,
     "start_time": "2022-08-02T17:56:21.548735",
     "status": "completed"
    },
    "tags": []
   },
   "outputs": [],
   "source": [
    "assert len(multiplier_z_genes) == len(set(multiplier_z_genes))"
   ]
  },
  {
   "cell_type": "code",
   "execution_count": 16,
   "id": "115e8864",
   "metadata": {
    "execution": {
     "iopub.execute_input": "2022-08-02T17:56:21.609974Z",
     "iopub.status.busy": "2022-08-02T17:56:21.609769Z",
     "iopub.status.idle": "2022-08-02T17:56:21.621858Z",
     "shell.execute_reply": "2022-08-02T17:56:21.621226Z"
    },
    "papermill": {
     "duration": 0.029151,
     "end_time": "2022-08-02T17:56:21.623057",
     "exception": false,
     "start_time": "2022-08-02T17:56:21.593906",
     "status": "completed"
    },
    "tags": []
   },
   "outputs": [
    {
     "data": {
      "text/plain": [
       "['GAS6', 'MMP14', 'DSP', 'MARCKSL1', 'SPARC']"
      ]
     },
     "execution_count": 16,
     "metadata": {},
     "output_type": "execute_result"
    }
   ],
   "source": [
    "multiplier_z_genes[:5]"
   ]
  },
  {
   "cell_type": "markdown",
   "id": "7bed0ce0-e7c7-4300-9a61-5412450b1904",
   "metadata": {
    "papermill": {
     "duration": 0.014294,
     "end_time": "2022-08-02T17:56:21.651991",
     "exception": false,
     "start_time": "2022-08-02T17:56:21.637697",
     "status": "completed"
    },
    "tags": []
   },
   "source": [
    "# GWAS"
   ]
  },
  {
   "cell_type": "code",
   "execution_count": 17,
   "id": "331e5691-c014-43e4-b94c-060c64d329df",
   "metadata": {
    "execution": {
     "iopub.execute_input": "2022-08-02T17:56:21.681966Z",
     "iopub.status.busy": "2022-08-02T17:56:21.681748Z",
     "iopub.status.idle": "2022-08-02T17:56:21.698264Z",
     "shell.execute_reply": "2022-08-02T17:56:21.697757Z"
    },
    "papermill": {
     "duration": 0.032841,
     "end_time": "2022-08-02T17:56:21.699590",
     "exception": false,
     "start_time": "2022-08-02T17:56:21.666749",
     "status": "completed"
    },
    "tags": []
   },
   "outputs": [],
   "source": [
    "gwas_file_columns = pd.read_csv(GWAS_FILE, sep=\"\\t\", nrows=2).columns\n",
    "assert (\n",
    "    \"panel_variant_id\" in gwas_file_columns\n",
    "), \"GWAS file must be final imputed one with column 'panel_variant_id'\"\n",
    "# FIXME: add other needed columns here"
   ]
  },
  {
   "cell_type": "code",
   "execution_count": 18,
   "id": "8d419629-8f4d-4c83-bed3-cfc071a58090",
   "metadata": {
    "execution": {
     "iopub.execute_input": "2022-08-02T17:56:21.729618Z",
     "iopub.status.busy": "2022-08-02T17:56:21.729417Z",
     "iopub.status.idle": "2022-08-02T17:56:35.237599Z",
     "shell.execute_reply": "2022-08-02T17:56:35.236983Z"
    },
    "papermill": {
     "duration": 13.525141,
     "end_time": "2022-08-02T17:56:35.239301",
     "exception": false,
     "start_time": "2022-08-02T17:56:21.714160",
     "status": "completed"
    },
    "tags": []
   },
   "outputs": [],
   "source": [
    "gwas_data = pd.read_csv(\n",
    "    GWAS_FILE,\n",
    "    sep=\"\\t\",\n",
    "    usecols=[\"panel_variant_id\", \"pvalue\", \"zscore\", \"imputation_status\"],\n",
    ")"
   ]
  },
  {
   "cell_type": "code",
   "execution_count": 19,
   "id": "3f4e814e-6b41-407e-9099-86795eec6ed9",
   "metadata": {
    "execution": {
     "iopub.execute_input": "2022-08-02T17:56:35.280065Z",
     "iopub.status.busy": "2022-08-02T17:56:35.279876Z",
     "iopub.status.idle": "2022-08-02T17:56:35.294158Z",
     "shell.execute_reply": "2022-08-02T17:56:35.293576Z"
    },
    "papermill": {
     "duration": 0.036241,
     "end_time": "2022-08-02T17:56:35.295516",
     "exception": false,
     "start_time": "2022-08-02T17:56:35.259275",
     "status": "completed"
    },
    "tags": []
   },
   "outputs": [
    {
     "data": {
      "text/plain": [
       "(8325729, 4)"
      ]
     },
     "execution_count": 19,
     "metadata": {},
     "output_type": "execute_result"
    }
   ],
   "source": [
    "gwas_data.shape"
   ]
  },
  {
   "cell_type": "code",
   "execution_count": 20,
   "id": "b4a906e9-c80a-47fc-9d73-5adb046f8b76",
   "metadata": {
    "execution": {
     "iopub.execute_input": "2022-08-02T17:56:35.331117Z",
     "iopub.status.busy": "2022-08-02T17:56:35.330601Z",
     "iopub.status.idle": "2022-08-02T17:56:35.347039Z",
     "shell.execute_reply": "2022-08-02T17:56:35.346551Z"
    },
    "papermill": {
     "duration": 0.034398,
     "end_time": "2022-08-02T17:56:35.348281",
     "exception": false,
     "start_time": "2022-08-02T17:56:35.313883",
     "status": "completed"
    },
    "tags": []
   },
   "outputs": [
    {
     "data": {
      "text/html": [
       "<div>\n",
       "<style scoped>\n",
       "    .dataframe tbody tr th:only-of-type {\n",
       "        vertical-align: middle;\n",
       "    }\n",
       "\n",
       "    .dataframe tbody tr th {\n",
       "        vertical-align: top;\n",
       "    }\n",
       "\n",
       "    .dataframe thead th {\n",
       "        text-align: right;\n",
       "    }\n",
       "</style>\n",
       "<table border=\"1\" class=\"dataframe\">\n",
       "  <thead>\n",
       "    <tr style=\"text-align: right;\">\n",
       "      <th></th>\n",
       "      <th>panel_variant_id</th>\n",
       "      <th>zscore</th>\n",
       "      <th>pvalue</th>\n",
       "      <th>imputation_status</th>\n",
       "    </tr>\n",
       "  </thead>\n",
       "  <tbody>\n",
       "    <tr>\n",
       "      <th>0</th>\n",
       "      <td>chr1_54490_G_A_b38</td>\n",
       "      <td>1.567452</td>\n",
       "      <td>0.117009</td>\n",
       "      <td>original</td>\n",
       "    </tr>\n",
       "    <tr>\n",
       "      <th>1</th>\n",
       "      <td>chr1_87021_T_C_b38</td>\n",
       "      <td>0.244372</td>\n",
       "      <td>0.806943</td>\n",
       "      <td>imputed</td>\n",
       "    </tr>\n",
       "    <tr>\n",
       "      <th>2</th>\n",
       "      <td>chr1_263722_C_G_b38</td>\n",
       "      <td>1.155239</td>\n",
       "      <td>0.247993</td>\n",
       "      <td>imputed</td>\n",
       "    </tr>\n",
       "    <tr>\n",
       "      <th>3</th>\n",
       "      <td>chr1_594402_C_T_b38</td>\n",
       "      <td>0.851234</td>\n",
       "      <td>0.394639</td>\n",
       "      <td>imputed</td>\n",
       "    </tr>\n",
       "    <tr>\n",
       "      <th>4</th>\n",
       "      <td>chr1_630555_C_T_b38</td>\n",
       "      <td>0.855129</td>\n",
       "      <td>0.392480</td>\n",
       "      <td>imputed</td>\n",
       "    </tr>\n",
       "  </tbody>\n",
       "</table>\n",
       "</div>"
      ],
      "text/plain": [
       "      panel_variant_id    zscore    pvalue imputation_status\n",
       "0   chr1_54490_G_A_b38  1.567452  0.117009          original\n",
       "1   chr1_87021_T_C_b38  0.244372  0.806943           imputed\n",
       "2  chr1_263722_C_G_b38  1.155239  0.247993           imputed\n",
       "3  chr1_594402_C_T_b38  0.851234  0.394639           imputed\n",
       "4  chr1_630555_C_T_b38  0.855129  0.392480           imputed"
      ]
     },
     "execution_count": 20,
     "metadata": {},
     "output_type": "execute_result"
    }
   ],
   "source": [
    "gwas_data.head()"
   ]
  },
  {
   "cell_type": "code",
   "execution_count": 21,
   "id": "346e2f88-44c6-4067-8752-118e2491f6fa",
   "metadata": {
    "execution": {
     "iopub.execute_input": "2022-08-02T17:56:35.381287Z",
     "iopub.status.busy": "2022-08-02T17:56:35.380731Z",
     "iopub.status.idle": "2022-08-02T17:56:35.759608Z",
     "shell.execute_reply": "2022-08-02T17:56:35.759037Z"
    },
    "papermill": {
     "duration": 0.396585,
     "end_time": "2022-08-02T17:56:35.760932",
     "exception": false,
     "start_time": "2022-08-02T17:56:35.364347",
     "status": "completed"
    },
    "tags": []
   },
   "outputs": [
    {
     "data": {
      "text/plain": [
       "array(['original', 'imputed'], dtype=object)"
      ]
     },
     "execution_count": 21,
     "metadata": {},
     "output_type": "execute_result"
    }
   ],
   "source": [
    "gwas_data[\"imputation_status\"].unique()"
   ]
  },
  {
   "cell_type": "code",
   "execution_count": 22,
   "id": "033c24fb-9c60-4ffd-929e-b0e6089820ae",
   "metadata": {
    "execution": {
     "iopub.execute_input": "2022-08-02T17:56:35.791438Z",
     "iopub.status.busy": "2022-08-02T17:56:35.791236Z",
     "iopub.status.idle": "2022-08-02T17:56:36.731882Z",
     "shell.execute_reply": "2022-08-02T17:56:36.731349Z"
    },
    "papermill": {
     "duration": 0.957495,
     "end_time": "2022-08-02T17:56:36.733358",
     "exception": false,
     "start_time": "2022-08-02T17:56:35.775863",
     "status": "completed"
    },
    "tags": []
   },
   "outputs": [
    {
     "data": {
      "text/plain": [
       "(8325729, 4)"
      ]
     },
     "execution_count": 22,
     "metadata": {},
     "output_type": "execute_result"
    }
   ],
   "source": [
    "gwas_data.dropna().shape"
   ]
  },
  {
   "cell_type": "code",
   "execution_count": 23,
   "id": "28232ce5-0afd-464e-9be3-64c3a68c2b25",
   "metadata": {
    "execution": {
     "iopub.execute_input": "2022-08-02T17:56:36.771384Z",
     "iopub.status.busy": "2022-08-02T17:56:36.771214Z",
     "iopub.status.idle": "2022-08-02T17:56:37.602757Z",
     "shell.execute_reply": "2022-08-02T17:56:37.602173Z"
    },
    "papermill": {
     "duration": 0.852009,
     "end_time": "2022-08-02T17:56:37.604406",
     "exception": false,
     "start_time": "2022-08-02T17:56:36.752397",
     "status": "completed"
    },
    "tags": []
   },
   "outputs": [],
   "source": [
    "# remove SNPs with no results\n",
    "gwas_data = gwas_data.dropna()"
   ]
  },
  {
   "cell_type": "code",
   "execution_count": 24,
   "id": "d9a6c31f-eedd-43e5-b762-5a9663be1b77",
   "metadata": {
    "execution": {
     "iopub.execute_input": "2022-08-02T17:56:37.639119Z",
     "iopub.status.busy": "2022-08-02T17:56:37.638930Z",
     "iopub.status.idle": "2022-08-02T17:56:37.651163Z",
     "shell.execute_reply": "2022-08-02T17:56:37.650704Z"
    },
    "papermill": {
     "duration": 0.030545,
     "end_time": "2022-08-02T17:56:37.652419",
     "exception": false,
     "start_time": "2022-08-02T17:56:37.621874",
     "status": "completed"
    },
    "tags": []
   },
   "outputs": [
    {
     "data": {
      "text/plain": [
       "(8325729, 4)"
      ]
     },
     "execution_count": 24,
     "metadata": {},
     "output_type": "execute_result"
    }
   ],
   "source": [
    "gwas_data.shape"
   ]
  },
  {
   "cell_type": "markdown",
   "id": "8da344de-2aa5-48a9-98ec-e8c3397ae7e6",
   "metadata": {
    "papermill": {
     "duration": 0.014981,
     "end_time": "2022-08-02T17:56:37.682962",
     "exception": false,
     "start_time": "2022-08-02T17:56:37.667981",
     "status": "completed"
    },
    "tags": []
   },
   "source": [
    "## Save GWAS variants"
   ]
  },
  {
   "cell_type": "code",
   "execution_count": 25,
   "id": "ac11fb33-ea3c-4d5c-a90b-0ceebdac43d3",
   "metadata": {
    "execution": {
     "iopub.execute_input": "2022-08-02T17:56:37.714565Z",
     "iopub.status.busy": "2022-08-02T17:56:37.714359Z",
     "iopub.status.idle": "2022-08-02T17:56:37.730284Z",
     "shell.execute_reply": "2022-08-02T17:56:37.729721Z"
    },
    "papermill": {
     "duration": 0.033545,
     "end_time": "2022-08-02T17:56:37.731615",
     "exception": false,
     "start_time": "2022-08-02T17:56:37.698070",
     "status": "completed"
    },
    "tags": []
   },
   "outputs": [
    {
     "data": {
      "text/html": [
       "<div>\n",
       "<style scoped>\n",
       "    .dataframe tbody tr th:only-of-type {\n",
       "        vertical-align: middle;\n",
       "    }\n",
       "\n",
       "    .dataframe tbody tr th {\n",
       "        vertical-align: top;\n",
       "    }\n",
       "\n",
       "    .dataframe thead th {\n",
       "        text-align: right;\n",
       "    }\n",
       "</style>\n",
       "<table border=\"1\" class=\"dataframe\">\n",
       "  <thead>\n",
       "    <tr style=\"text-align: right;\">\n",
       "      <th></th>\n",
       "      <th>panel_variant_id</th>\n",
       "      <th>zscore</th>\n",
       "      <th>pvalue</th>\n",
       "      <th>imputation_status</th>\n",
       "    </tr>\n",
       "  </thead>\n",
       "  <tbody>\n",
       "    <tr>\n",
       "      <th>0</th>\n",
       "      <td>chr1_54490_G_A_b38</td>\n",
       "      <td>1.567452</td>\n",
       "      <td>0.117009</td>\n",
       "      <td>original</td>\n",
       "    </tr>\n",
       "    <tr>\n",
       "      <th>1</th>\n",
       "      <td>chr1_87021_T_C_b38</td>\n",
       "      <td>0.244372</td>\n",
       "      <td>0.806943</td>\n",
       "      <td>imputed</td>\n",
       "    </tr>\n",
       "    <tr>\n",
       "      <th>2</th>\n",
       "      <td>chr1_263722_C_G_b38</td>\n",
       "      <td>1.155239</td>\n",
       "      <td>0.247993</td>\n",
       "      <td>imputed</td>\n",
       "    </tr>\n",
       "    <tr>\n",
       "      <th>3</th>\n",
       "      <td>chr1_594402_C_T_b38</td>\n",
       "      <td>0.851234</td>\n",
       "      <td>0.394639</td>\n",
       "      <td>imputed</td>\n",
       "    </tr>\n",
       "    <tr>\n",
       "      <th>4</th>\n",
       "      <td>chr1_630555_C_T_b38</td>\n",
       "      <td>0.855129</td>\n",
       "      <td>0.392480</td>\n",
       "      <td>imputed</td>\n",
       "    </tr>\n",
       "  </tbody>\n",
       "</table>\n",
       "</div>"
      ],
      "text/plain": [
       "      panel_variant_id    zscore    pvalue imputation_status\n",
       "0   chr1_54490_G_A_b38  1.567452  0.117009          original\n",
       "1   chr1_87021_T_C_b38  0.244372  0.806943           imputed\n",
       "2  chr1_263722_C_G_b38  1.155239  0.247993           imputed\n",
       "3  chr1_594402_C_T_b38  0.851234  0.394639           imputed\n",
       "4  chr1_630555_C_T_b38  0.855129  0.392480           imputed"
      ]
     },
     "execution_count": 25,
     "metadata": {},
     "output_type": "execute_result"
    }
   ],
   "source": [
    "gwas_data.head()"
   ]
  },
  {
   "cell_type": "code",
   "execution_count": 26,
   "id": "5f34bb3d-761a-4860-a179-77ea5f5784ad",
   "metadata": {
    "execution": {
     "iopub.execute_input": "2022-08-02T17:56:37.763111Z",
     "iopub.status.busy": "2022-08-02T17:56:37.762889Z",
     "iopub.status.idle": "2022-08-02T17:56:42.373439Z",
     "shell.execute_reply": "2022-08-02T17:56:42.372769Z"
    },
    "papermill": {
     "duration": 4.62821,
     "end_time": "2022-08-02T17:56:42.375184",
     "exception": false,
     "start_time": "2022-08-02T17:56:37.746974",
     "status": "completed"
    },
    "tags": []
   },
   "outputs": [],
   "source": [
    "assert gwas_data[\"panel_variant_id\"].is_unique"
   ]
  },
  {
   "cell_type": "code",
   "execution_count": 27,
   "id": "d4f23b2f-01a3-4a45-a2b6-31b245b5778e",
   "metadata": {
    "execution": {
     "iopub.execute_input": "2022-08-02T17:56:42.417948Z",
     "iopub.status.busy": "2022-08-02T17:56:42.417756Z",
     "iopub.status.idle": "2022-08-02T17:56:45.736128Z",
     "shell.execute_reply": "2022-08-02T17:56:45.735067Z"
    },
    "papermill": {
     "duration": 3.341647,
     "end_time": "2022-08-02T17:56:45.738147",
     "exception": false,
     "start_time": "2022-08-02T17:56:42.396500",
     "status": "completed"
    },
    "tags": []
   },
   "outputs": [
    {
     "data": {
      "text/plain": [
       "['chr5_9714115_A_G_b38',\n",
       " 'chr6_80889259_A_AATT_b38',\n",
       " 'chr4_141320820_G_T_b38',\n",
       " 'chr8_104503975_A_G_b38',\n",
       " 'chr10_29398551_A_C_b38']"
      ]
     },
     "execution_count": 27,
     "metadata": {},
     "output_type": "execute_result"
    }
   ],
   "source": [
    "gwas_variants_ids_set = frozenset(gwas_data[\"panel_variant_id\"])\n",
    "list(gwas_variants_ids_set)[:5]"
   ]
  },
  {
   "cell_type": "code",
   "execution_count": 28,
   "id": "b4a441df-07d7-48dc-be36-cdb3f92be651",
   "metadata": {
    "execution": {
     "iopub.execute_input": "2022-08-02T17:56:45.780295Z",
     "iopub.status.busy": "2022-08-02T17:56:45.780105Z",
     "iopub.status.idle": "2022-08-02T17:56:49.267507Z",
     "shell.execute_reply": "2022-08-02T17:56:49.266866Z"
    },
    "papermill": {
     "duration": 3.509272,
     "end_time": "2022-08-02T17:56:49.269169",
     "exception": false,
     "start_time": "2022-08-02T17:56:45.759897",
     "status": "completed"
    },
    "tags": []
   },
   "outputs": [],
   "source": [
    "with open(OUTPUT_DIR_BASE / \"gwas_variant_ids.pkl\", \"wb\") as handle:\n",
    "    pickle.dump(gwas_variants_ids_set, handle, protocol=pickle.HIGHEST_PROTOCOL)"
   ]
  },
  {
   "cell_type": "markdown",
   "id": "abcc4b3d",
   "metadata": {
    "papermill": {
     "duration": 0.021459,
     "end_time": "2022-08-02T17:56:49.313096",
     "exception": false,
     "start_time": "2022-08-02T17:56:49.291637",
     "status": "completed"
    },
    "tags": []
   },
   "source": [
    "# TWAS"
   ]
  },
  {
   "cell_type": "markdown",
   "id": "2fbc7358-0563-4fc6-bc47-a0fbcc5cdfd4",
   "metadata": {
    "papermill": {
     "duration": 0.041367,
     "end_time": "2022-08-02T17:56:49.393081",
     "exception": false,
     "start_time": "2022-08-02T17:56:49.351714",
     "status": "completed"
    },
    "tags": []
   },
   "source": [
    "## Available tissues for eQTL model"
   ]
  },
  {
   "cell_type": "code",
   "execution_count": 29,
   "id": "f32c0a84-030a-436b-b597-852b6150d2ac",
   "metadata": {
    "execution": {
     "iopub.execute_input": "2022-08-02T17:56:49.425528Z",
     "iopub.status.busy": "2022-08-02T17:56:49.425322Z",
     "iopub.status.idle": "2022-08-02T17:56:49.437188Z",
     "shell.execute_reply": "2022-08-02T17:56:49.436603Z"
    },
    "papermill": {
     "duration": 0.029682,
     "end_time": "2022-08-02T17:56:49.438542",
     "exception": false,
     "start_time": "2022-08-02T17:56:49.408860",
     "status": "completed"
    },
    "tags": []
   },
   "outputs": [],
   "source": [
    "prediction_model_tissues = conf.PHENOMEXCAN[\"PREDICTION_MODELS\"][\n",
    "    f\"{EQTL_MODEL}_TISSUES\"\n",
    "].split(\" \")"
   ]
  },
  {
   "cell_type": "code",
   "execution_count": 30,
   "id": "0e760d0e-f23d-4590-abfb-811a43f7c237",
   "metadata": {
    "execution": {
     "iopub.execute_input": "2022-08-02T17:56:49.469882Z",
     "iopub.status.busy": "2022-08-02T17:56:49.469677Z",
     "iopub.status.idle": "2022-08-02T17:56:49.483075Z",
     "shell.execute_reply": "2022-08-02T17:56:49.482347Z"
    },
    "papermill": {
     "duration": 0.030579,
     "end_time": "2022-08-02T17:56:49.484512",
     "exception": false,
     "start_time": "2022-08-02T17:56:49.453933",
     "status": "completed"
    },
    "tags": []
   },
   "outputs": [
    {
     "data": {
      "text/plain": [
       "49"
      ]
     },
     "execution_count": 30,
     "metadata": {},
     "output_type": "execute_result"
    }
   ],
   "source": [
    "len(prediction_model_tissues)"
   ]
  },
  {
   "cell_type": "code",
   "execution_count": 31,
   "id": "fa4d942c-cd67-4b31-9491-585c887c0ee3",
   "metadata": {
    "execution": {
     "iopub.execute_input": "2022-08-02T17:56:49.525887Z",
     "iopub.status.busy": "2022-08-02T17:56:49.525702Z",
     "iopub.status.idle": "2022-08-02T17:56:49.540240Z",
     "shell.execute_reply": "2022-08-02T17:56:49.539461Z"
    },
    "papermill": {
     "duration": 0.036758,
     "end_time": "2022-08-02T17:56:49.541667",
     "exception": false,
     "start_time": "2022-08-02T17:56:49.504909",
     "status": "completed"
    },
    "tags": []
   },
   "outputs": [
    {
     "data": {
      "text/plain": [
       "['Skin_Not_Sun_Exposed_Suprapubic',\n",
       " 'Cells_EBV-transformed_lymphocytes',\n",
       " 'Brain_Frontal_Cortex_BA9',\n",
       " 'Kidney_Cortex',\n",
       " 'Brain_Substantia_nigra']"
      ]
     },
     "execution_count": 31,
     "metadata": {},
     "output_type": "execute_result"
    }
   ],
   "source": [
    "prediction_model_tissues[:5]"
   ]
  },
  {
   "cell_type": "markdown",
   "id": "fab4814d-757c-4247-b5e4-891bc4863db7",
   "metadata": {
    "papermill": {
     "duration": 0.015567,
     "end_time": "2022-08-02T17:56:49.575029",
     "exception": false,
     "start_time": "2022-08-02T17:56:49.559462",
     "status": "completed"
    },
    "tags": []
   },
   "source": [
    "## S-MultiXcan results"
   ]
  },
  {
   "cell_type": "code",
   "execution_count": 32,
   "id": "2b73c11e-9aa2-410e-84b4-a70be34d02e4",
   "metadata": {
    "execution": {
     "iopub.execute_input": "2022-08-02T17:56:49.606711Z",
     "iopub.status.busy": "2022-08-02T17:56:49.606506Z",
     "iopub.status.idle": "2022-08-02T17:56:49.658861Z",
     "shell.execute_reply": "2022-08-02T17:56:49.658337Z"
    },
    "papermill": {
     "duration": 0.069986,
     "end_time": "2022-08-02T17:56:49.660233",
     "exception": false,
     "start_time": "2022-08-02T17:56:49.590247",
     "status": "completed"
    },
    "tags": []
   },
   "outputs": [],
   "source": [
    "smultixcan_results = pd.read_csv(\n",
    "    SMULTIXCAN_FILE, sep=\"\\t\", usecols=[\"gene\", \"gene_name\", \"pvalue\", \"n\", \"n_indep\"]\n",
    ")"
   ]
  },
  {
   "cell_type": "code",
   "execution_count": 33,
   "id": "8b5abebd-baab-4188-9e3d-655ebbe32401",
   "metadata": {
    "execution": {
     "iopub.execute_input": "2022-08-02T17:56:49.694056Z",
     "iopub.status.busy": "2022-08-02T17:56:49.693838Z",
     "iopub.status.idle": "2022-08-02T17:56:49.706692Z",
     "shell.execute_reply": "2022-08-02T17:56:49.705994Z"
    },
    "papermill": {
     "duration": 0.030734,
     "end_time": "2022-08-02T17:56:49.707850",
     "exception": false,
     "start_time": "2022-08-02T17:56:49.677116",
     "status": "completed"
    },
    "tags": []
   },
   "outputs": [
    {
     "data": {
      "text/plain": [
       "(22317, 5)"
      ]
     },
     "execution_count": 33,
     "metadata": {},
     "output_type": "execute_result"
    }
   ],
   "source": [
    "smultixcan_results.shape"
   ]
  },
  {
   "cell_type": "code",
   "execution_count": 34,
   "id": "c65e233f-9ef6-4883-9386-7abf1d6d1cbd",
   "metadata": {
    "execution": {
     "iopub.execute_input": "2022-08-02T17:56:49.740262Z",
     "iopub.status.busy": "2022-08-02T17:56:49.740059Z",
     "iopub.status.idle": "2022-08-02T17:56:49.755965Z",
     "shell.execute_reply": "2022-08-02T17:56:49.755286Z"
    },
    "papermill": {
     "duration": 0.033459,
     "end_time": "2022-08-02T17:56:49.757221",
     "exception": false,
     "start_time": "2022-08-02T17:56:49.723762",
     "status": "completed"
    },
    "tags": []
   },
   "outputs": [],
   "source": [
    "smultixcan_results = smultixcan_results.dropna()"
   ]
  },
  {
   "cell_type": "code",
   "execution_count": 35,
   "id": "57d2d311-4a42-4725-9e37-b124ed13ad33",
   "metadata": {
    "execution": {
     "iopub.execute_input": "2022-08-02T17:56:49.790117Z",
     "iopub.status.busy": "2022-08-02T17:56:49.789912Z",
     "iopub.status.idle": "2022-08-02T17:56:49.802730Z",
     "shell.execute_reply": "2022-08-02T17:56:49.802186Z"
    },
    "papermill": {
     "duration": 0.030474,
     "end_time": "2022-08-02T17:56:49.803948",
     "exception": false,
     "start_time": "2022-08-02T17:56:49.773474",
     "status": "completed"
    },
    "tags": []
   },
   "outputs": [
    {
     "data": {
      "text/plain": [
       "(22314, 5)"
      ]
     },
     "execution_count": 35,
     "metadata": {},
     "output_type": "execute_result"
    }
   ],
   "source": [
    "smultixcan_results.shape"
   ]
  },
  {
   "cell_type": "code",
   "execution_count": 36,
   "id": "a36b5b59-f4b6-45bf-b241-ffc9671b357f",
   "metadata": {
    "execution": {
     "iopub.execute_input": "2022-08-02T17:56:49.837075Z",
     "iopub.status.busy": "2022-08-02T17:56:49.836880Z",
     "iopub.status.idle": "2022-08-02T17:56:49.855533Z",
     "shell.execute_reply": "2022-08-02T17:56:49.855060Z"
    },
    "papermill": {
     "duration": 0.036729,
     "end_time": "2022-08-02T17:56:49.856916",
     "exception": false,
     "start_time": "2022-08-02T17:56:49.820187",
     "status": "completed"
    },
    "tags": []
   },
   "outputs": [],
   "source": [
    "smultixcan_results = smultixcan_results.assign(\n",
    "    gene_id=smultixcan_results[\"gene\"].apply(lambda g: g.split(\".\")[0])\n",
    ")"
   ]
  },
  {
   "cell_type": "code",
   "execution_count": 37,
   "id": "c49f62a9-a01a-44af-87da-47d195b0ef7e",
   "metadata": {
    "execution": {
     "iopub.execute_input": "2022-08-02T17:56:49.891234Z",
     "iopub.status.busy": "2022-08-02T17:56:49.891023Z",
     "iopub.status.idle": "2022-08-02T17:56:49.908422Z",
     "shell.execute_reply": "2022-08-02T17:56:49.907855Z"
    },
    "papermill": {
     "duration": 0.035762,
     "end_time": "2022-08-02T17:56:49.909628",
     "exception": false,
     "start_time": "2022-08-02T17:56:49.873866",
     "status": "completed"
    },
    "tags": []
   },
   "outputs": [
    {
     "data": {
      "text/html": [
       "<div>\n",
       "<style scoped>\n",
       "    .dataframe tbody tr th:only-of-type {\n",
       "        vertical-align: middle;\n",
       "    }\n",
       "\n",
       "    .dataframe tbody tr th {\n",
       "        vertical-align: top;\n",
       "    }\n",
       "\n",
       "    .dataframe thead th {\n",
       "        text-align: right;\n",
       "    }\n",
       "</style>\n",
       "<table border=\"1\" class=\"dataframe\">\n",
       "  <thead>\n",
       "    <tr style=\"text-align: right;\">\n",
       "      <th></th>\n",
       "      <th>gene</th>\n",
       "      <th>gene_name</th>\n",
       "      <th>pvalue</th>\n",
       "      <th>n</th>\n",
       "      <th>n_indep</th>\n",
       "      <th>gene_id</th>\n",
       "    </tr>\n",
       "  </thead>\n",
       "  <tbody>\n",
       "    <tr>\n",
       "      <th>0</th>\n",
       "      <td>ENSG00000131941.7</td>\n",
       "      <td>RHPN2</td>\n",
       "      <td>0.000040</td>\n",
       "      <td>48.0</td>\n",
       "      <td>3.0</td>\n",
       "      <td>ENSG00000131941</td>\n",
       "    </tr>\n",
       "    <tr>\n",
       "      <th>1</th>\n",
       "      <td>ENSG00000076650.6</td>\n",
       "      <td>GPATCH1</td>\n",
       "      <td>0.000078</td>\n",
       "      <td>40.0</td>\n",
       "      <td>3.0</td>\n",
       "      <td>ENSG00000076650</td>\n",
       "    </tr>\n",
       "    <tr>\n",
       "      <th>2</th>\n",
       "      <td>ENSG00000100906.10</td>\n",
       "      <td>NFKBIA</td>\n",
       "      <td>0.000096</td>\n",
       "      <td>1.0</td>\n",
       "      <td>1.0</td>\n",
       "      <td>ENSG00000100906</td>\n",
       "    </tr>\n",
       "    <tr>\n",
       "      <th>3</th>\n",
       "      <td>ENSG00000136319.11</td>\n",
       "      <td>TTC5</td>\n",
       "      <td>0.000109</td>\n",
       "      <td>47.0</td>\n",
       "      <td>5.0</td>\n",
       "      <td>ENSG00000136319</td>\n",
       "    </tr>\n",
       "    <tr>\n",
       "      <th>4</th>\n",
       "      <td>ENSG00000152990.13</td>\n",
       "      <td>ADGRA3</td>\n",
       "      <td>0.000135</td>\n",
       "      <td>41.0</td>\n",
       "      <td>12.0</td>\n",
       "      <td>ENSG00000152990</td>\n",
       "    </tr>\n",
       "  </tbody>\n",
       "</table>\n",
       "</div>"
      ],
      "text/plain": [
       "                 gene gene_name    pvalue     n  n_indep          gene_id\n",
       "0   ENSG00000131941.7     RHPN2  0.000040  48.0      3.0  ENSG00000131941\n",
       "1   ENSG00000076650.6   GPATCH1  0.000078  40.0      3.0  ENSG00000076650\n",
       "2  ENSG00000100906.10    NFKBIA  0.000096   1.0      1.0  ENSG00000100906\n",
       "3  ENSG00000136319.11      TTC5  0.000109  47.0      5.0  ENSG00000136319\n",
       "4  ENSG00000152990.13    ADGRA3  0.000135  41.0     12.0  ENSG00000152990"
      ]
     },
     "execution_count": 37,
     "metadata": {},
     "output_type": "execute_result"
    }
   ],
   "source": [
    "smultixcan_results.head()"
   ]
  },
  {
   "cell_type": "code",
   "execution_count": 38,
   "id": "9c4c023c-86d6-4c4b-8d57-c2b6b93aaf84",
   "metadata": {
    "execution": {
     "iopub.execute_input": "2022-08-02T17:56:49.941895Z",
     "iopub.status.busy": "2022-08-02T17:56:49.941678Z",
     "iopub.status.idle": "2022-08-02T17:56:49.955899Z",
     "shell.execute_reply": "2022-08-02T17:56:49.955316Z"
    },
    "papermill": {
     "duration": 0.031748,
     "end_time": "2022-08-02T17:56:49.957182",
     "exception": false,
     "start_time": "2022-08-02T17:56:49.925434",
     "status": "completed"
    },
    "tags": []
   },
   "outputs": [],
   "source": [
    "assert smultixcan_results[\"gene_id\"].is_unique"
   ]
  },
  {
   "cell_type": "markdown",
   "id": "1f9939f1-4200-40d9-a8bf-8e4fd68bee48",
   "metadata": {
    "papermill": {
     "duration": 0.01593,
     "end_time": "2022-08-02T17:56:49.989527",
     "exception": false,
     "start_time": "2022-08-02T17:56:49.973597",
     "status": "completed"
    },
    "tags": []
   },
   "source": [
    "### Get common genes with MultiPLIER"
   ]
  },
  {
   "cell_type": "code",
   "execution_count": 39,
   "id": "c820e6cf-6350-45af-b49a-0abd94f570ff",
   "metadata": {
    "execution": {
     "iopub.execute_input": "2022-08-02T17:56:50.021729Z",
     "iopub.status.busy": "2022-08-02T17:56:50.021510Z",
     "iopub.status.idle": "2022-08-02T17:56:50.037547Z",
     "shell.execute_reply": "2022-08-02T17:56:50.037063Z"
    },
    "papermill": {
     "duration": 0.033801,
     "end_time": "2022-08-02T17:56:50.038871",
     "exception": false,
     "start_time": "2022-08-02T17:56:50.005070",
     "status": "completed"
    },
    "tags": []
   },
   "outputs": [],
   "source": [
    "common_genes = set(multiplier_z_genes).intersection(\n",
    "    set(smultixcan_results[\"gene_name\"])\n",
    ")"
   ]
  },
  {
   "cell_type": "code",
   "execution_count": 40,
   "id": "0a7328f9-96c7-4ac6-a9a6-ae4fa121a4cd",
   "metadata": {
    "execution": {
     "iopub.execute_input": "2022-08-02T17:56:50.072255Z",
     "iopub.status.busy": "2022-08-02T17:56:50.072039Z",
     "iopub.status.idle": "2022-08-02T17:56:50.084609Z",
     "shell.execute_reply": "2022-08-02T17:56:50.084168Z"
    },
    "papermill": {
     "duration": 0.030847,
     "end_time": "2022-08-02T17:56:50.085776",
     "exception": false,
     "start_time": "2022-08-02T17:56:50.054929",
     "status": "completed"
    },
    "tags": []
   },
   "outputs": [
    {
     "data": {
      "text/plain": [
       "6444"
      ]
     },
     "execution_count": 40,
     "metadata": {},
     "output_type": "execute_result"
    }
   ],
   "source": [
    "len(common_genes)"
   ]
  },
  {
   "cell_type": "code",
   "execution_count": 41,
   "id": "5b08d362-44c8-4db2-9258-670e2e2a9cc0",
   "metadata": {
    "execution": {
     "iopub.execute_input": "2022-08-02T17:56:50.119187Z",
     "iopub.status.busy": "2022-08-02T17:56:50.118978Z",
     "iopub.status.idle": "2022-08-02T17:56:50.133342Z",
     "shell.execute_reply": "2022-08-02T17:56:50.132767Z"
    },
    "papermill": {
     "duration": 0.032199,
     "end_time": "2022-08-02T17:56:50.134480",
     "exception": false,
     "start_time": "2022-08-02T17:56:50.102281",
     "status": "completed"
    },
    "tags": []
   },
   "outputs": [
    {
     "data": {
      "text/plain": [
       "['A2M', 'AAAS', 'AANAT', 'AARS', 'AARS2']"
      ]
     },
     "execution_count": 41,
     "metadata": {},
     "output_type": "execute_result"
    }
   ],
   "source": [
    "sorted(list(common_genes))[:5]"
   ]
  },
  {
   "cell_type": "markdown",
   "id": "7f51338b-8a75-42c3-a7e5-a0961cefb663",
   "metadata": {
    "papermill": {
     "duration": 0.041432,
     "end_time": "2022-08-02T17:56:50.192774",
     "exception": false,
     "start_time": "2022-08-02T17:56:50.151342",
     "status": "completed"
    },
    "tags": []
   },
   "source": [
    "## Genes info"
   ]
  },
  {
   "cell_type": "code",
   "execution_count": 42,
   "id": "bb932812",
   "metadata": {
    "execution": {
     "iopub.execute_input": "2022-08-02T17:56:50.231200Z",
     "iopub.status.busy": "2022-08-02T17:56:50.231041Z",
     "iopub.status.idle": "2022-08-02T17:56:50.677740Z",
     "shell.execute_reply": "2022-08-02T17:56:50.676930Z"
    },
    "papermill": {
     "duration": 0.467053,
     "end_time": "2022-08-02T17:56:50.679801",
     "exception": false,
     "start_time": "2022-08-02T17:56:50.212748",
     "status": "completed"
    },
    "tags": []
   },
   "outputs": [],
   "source": [
    "multiplier_gene_obj = {\n",
    "    gene_name: Gene(name=gene_name)\n",
    "    for gene_name in common_genes\n",
    "    if gene_name in Gene.GENE_NAME_TO_ID_MAP\n",
    "}"
   ]
  },
  {
   "cell_type": "code",
   "execution_count": 43,
   "id": "cb9d7a45-2b7d-4d10-80dc-212a625b5ae7",
   "metadata": {
    "execution": {
     "iopub.execute_input": "2022-08-02T17:56:50.723469Z",
     "iopub.status.busy": "2022-08-02T17:56:50.723281Z",
     "iopub.status.idle": "2022-08-02T17:56:50.736833Z",
     "shell.execute_reply": "2022-08-02T17:56:50.736184Z"
    },
    "papermill": {
     "duration": 0.036205,
     "end_time": "2022-08-02T17:56:50.738267",
     "exception": false,
     "start_time": "2022-08-02T17:56:50.702062",
     "status": "completed"
    },
    "tags": []
   },
   "outputs": [],
   "source": [
    "# delete common_genes, from now on, genes_info should be used for common genes\n",
    "del common_genes"
   ]
  },
  {
   "cell_type": "code",
   "execution_count": 44,
   "id": "39533214",
   "metadata": {
    "execution": {
     "iopub.execute_input": "2022-08-02T17:56:50.774206Z",
     "iopub.status.busy": "2022-08-02T17:56:50.774003Z",
     "iopub.status.idle": "2022-08-02T17:56:50.786766Z",
     "shell.execute_reply": "2022-08-02T17:56:50.786259Z"
    },
    "papermill": {
     "duration": 0.031095,
     "end_time": "2022-08-02T17:56:50.788008",
     "exception": false,
     "start_time": "2022-08-02T17:56:50.756913",
     "status": "completed"
    },
    "tags": []
   },
   "outputs": [
    {
     "data": {
      "text/plain": [
       "6444"
      ]
     },
     "execution_count": 44,
     "metadata": {},
     "output_type": "execute_result"
    }
   ],
   "source": [
    "len(multiplier_gene_obj)"
   ]
  },
  {
   "cell_type": "code",
   "execution_count": 45,
   "id": "9a5d0b84",
   "metadata": {
    "execution": {
     "iopub.execute_input": "2022-08-02T17:56:50.822940Z",
     "iopub.status.busy": "2022-08-02T17:56:50.822760Z",
     "iopub.status.idle": "2022-08-02T17:56:50.834731Z",
     "shell.execute_reply": "2022-08-02T17:56:50.834269Z"
    },
    "papermill": {
     "duration": 0.030817,
     "end_time": "2022-08-02T17:56:50.836031",
     "exception": false,
     "start_time": "2022-08-02T17:56:50.805214",
     "status": "completed"
    },
    "tags": []
   },
   "outputs": [],
   "source": [
    "assert multiplier_gene_obj[\"GAS6\"].ensembl_id == \"ENSG00000183087\""
   ]
  },
  {
   "cell_type": "code",
   "execution_count": 46,
   "id": "e3ffabc7",
   "metadata": {
    "execution": {
     "iopub.execute_input": "2022-08-02T17:56:50.869423Z",
     "iopub.status.busy": "2022-08-02T17:56:50.869207Z",
     "iopub.status.idle": "2022-08-02T17:56:53.373192Z",
     "shell.execute_reply": "2022-08-02T17:56:53.372669Z"
    },
    "papermill": {
     "duration": 2.522305,
     "end_time": "2022-08-02T17:56:53.374724",
     "exception": false,
     "start_time": "2022-08-02T17:56:50.852419",
     "status": "completed"
    },
    "tags": []
   },
   "outputs": [],
   "source": [
    "_gene_obj = list(multiplier_gene_obj.values())\n",
    "\n",
    "genes_info = pd.DataFrame(\n",
    "    {\n",
    "        \"name\": [g.name for g in _gene_obj],\n",
    "        \"id\": [g.ensembl_id for g in _gene_obj],\n",
    "        \"chr\": [g.chromosome for g in _gene_obj],\n",
    "        \"band\": [g.band for g in _gene_obj],\n",
    "        \"start_position\": [g.get_attribute(\"start_position\") for g in _gene_obj],\n",
    "        \"end_position\": [g.get_attribute(\"end_position\") for g in _gene_obj],\n",
    "    }\n",
    ")"
   ]
  },
  {
   "cell_type": "code",
   "execution_count": 47,
   "id": "00475e72-1cfc-485f-8b4e-1d9cce695f58",
   "metadata": {
    "execution": {
     "iopub.execute_input": "2022-08-02T17:56:53.408567Z",
     "iopub.status.busy": "2022-08-02T17:56:53.408362Z",
     "iopub.status.idle": "2022-08-02T17:56:53.938172Z",
     "shell.execute_reply": "2022-08-02T17:56:53.937416Z"
    },
    "papermill": {
     "duration": 0.548742,
     "end_time": "2022-08-02T17:56:53.940204",
     "exception": false,
     "start_time": "2022-08-02T17:56:53.391462",
     "status": "completed"
    },
    "tags": []
   },
   "outputs": [],
   "source": [
    "genes_info = genes_info.assign(\n",
    "    gene_length=genes_info.apply(\n",
    "        lambda x: x[\"end_position\"] - x[\"start_position\"], axis=1\n",
    "    )\n",
    ")"
   ]
  },
  {
   "cell_type": "code",
   "execution_count": 48,
   "id": "09d6320a-b1c4-4200-a23e-184bc4be69c7",
   "metadata": {
    "execution": {
     "iopub.execute_input": "2022-08-02T17:56:53.983737Z",
     "iopub.status.busy": "2022-08-02T17:56:53.983539Z",
     "iopub.status.idle": "2022-08-02T17:56:53.998451Z",
     "shell.execute_reply": "2022-08-02T17:56:53.997889Z"
    },
    "papermill": {
     "duration": 0.037409,
     "end_time": "2022-08-02T17:56:53.999927",
     "exception": false,
     "start_time": "2022-08-02T17:56:53.962518",
     "status": "completed"
    },
    "tags": []
   },
   "outputs": [],
   "source": [
    "assert genes_info[\"name\"].is_unique"
   ]
  },
  {
   "cell_type": "code",
   "execution_count": 49,
   "id": "009d11e4-f8cb-4a81-823d-c7f10b906d3b",
   "metadata": {
    "execution": {
     "iopub.execute_input": "2022-08-02T17:56:54.038575Z",
     "iopub.status.busy": "2022-08-02T17:56:54.038360Z",
     "iopub.status.idle": "2022-08-02T17:56:54.051901Z",
     "shell.execute_reply": "2022-08-02T17:56:54.051405Z"
    },
    "papermill": {
     "duration": 0.033417,
     "end_time": "2022-08-02T17:56:54.053208",
     "exception": false,
     "start_time": "2022-08-02T17:56:54.019791",
     "status": "completed"
    },
    "tags": []
   },
   "outputs": [],
   "source": [
    "assert genes_info[\"id\"].is_unique"
   ]
  },
  {
   "cell_type": "code",
   "execution_count": 50,
   "id": "e23519b8",
   "metadata": {
    "execution": {
     "iopub.execute_input": "2022-08-02T17:56:54.086916Z",
     "iopub.status.busy": "2022-08-02T17:56:54.086697Z",
     "iopub.status.idle": "2022-08-02T17:56:54.099492Z",
     "shell.execute_reply": "2022-08-02T17:56:54.099032Z"
    },
    "papermill": {
     "duration": 0.030752,
     "end_time": "2022-08-02T17:56:54.100699",
     "exception": false,
     "start_time": "2022-08-02T17:56:54.069947",
     "status": "completed"
    },
    "tags": []
   },
   "outputs": [
    {
     "data": {
      "text/plain": [
       "(6444, 7)"
      ]
     },
     "execution_count": 50,
     "metadata": {},
     "output_type": "execute_result"
    }
   ],
   "source": [
    "genes_info.shape"
   ]
  },
  {
   "cell_type": "code",
   "execution_count": 51,
   "id": "0d71881c",
   "metadata": {
    "execution": {
     "iopub.execute_input": "2022-08-02T17:56:54.135144Z",
     "iopub.status.busy": "2022-08-02T17:56:54.134964Z",
     "iopub.status.idle": "2022-08-02T17:56:54.152547Z",
     "shell.execute_reply": "2022-08-02T17:56:54.151993Z"
    },
    "papermill": {
     "duration": 0.036137,
     "end_time": "2022-08-02T17:56:54.153781",
     "exception": false,
     "start_time": "2022-08-02T17:56:54.117644",
     "status": "completed"
    },
    "tags": []
   },
   "outputs": [
    {
     "data": {
      "text/html": [
       "<div>\n",
       "<style scoped>\n",
       "    .dataframe tbody tr th:only-of-type {\n",
       "        vertical-align: middle;\n",
       "    }\n",
       "\n",
       "    .dataframe tbody tr th {\n",
       "        vertical-align: top;\n",
       "    }\n",
       "\n",
       "    .dataframe thead th {\n",
       "        text-align: right;\n",
       "    }\n",
       "</style>\n",
       "<table border=\"1\" class=\"dataframe\">\n",
       "  <thead>\n",
       "    <tr style=\"text-align: right;\">\n",
       "      <th></th>\n",
       "      <th>name</th>\n",
       "      <th>id</th>\n",
       "      <th>chr</th>\n",
       "      <th>band</th>\n",
       "      <th>start_position</th>\n",
       "      <th>end_position</th>\n",
       "      <th>gene_length</th>\n",
       "    </tr>\n",
       "  </thead>\n",
       "  <tbody>\n",
       "    <tr>\n",
       "      <th>0</th>\n",
       "      <td>CDC14B</td>\n",
       "      <td>ENSG00000081377</td>\n",
       "      <td>9</td>\n",
       "      <td>9q22.33</td>\n",
       "      <td>96490241.0</td>\n",
       "      <td>96619830.0</td>\n",
       "      <td>129589.0</td>\n",
       "    </tr>\n",
       "    <tr>\n",
       "      <th>1</th>\n",
       "      <td>DOCK3</td>\n",
       "      <td>ENSG00000088538</td>\n",
       "      <td>3</td>\n",
       "      <td>3p21.2</td>\n",
       "      <td>50674927.0</td>\n",
       "      <td>51384198.0</td>\n",
       "      <td>709271.0</td>\n",
       "    </tr>\n",
       "    <tr>\n",
       "      <th>2</th>\n",
       "      <td>SLCO4C1</td>\n",
       "      <td>ENSG00000173930</td>\n",
       "      <td>5</td>\n",
       "      <td>5q21.1</td>\n",
       "      <td>102233986.0</td>\n",
       "      <td>102296284.0</td>\n",
       "      <td>62298.0</td>\n",
       "    </tr>\n",
       "    <tr>\n",
       "      <th>3</th>\n",
       "      <td>UST</td>\n",
       "      <td>ENSG00000111962</td>\n",
       "      <td>6</td>\n",
       "      <td>6q25.1</td>\n",
       "      <td>148747030.0</td>\n",
       "      <td>149076990.0</td>\n",
       "      <td>329960.0</td>\n",
       "    </tr>\n",
       "    <tr>\n",
       "      <th>4</th>\n",
       "      <td>CFH</td>\n",
       "      <td>ENSG00000000971</td>\n",
       "      <td>1</td>\n",
       "      <td>1q31.3</td>\n",
       "      <td>196651878.0</td>\n",
       "      <td>196747504.0</td>\n",
       "      <td>95626.0</td>\n",
       "    </tr>\n",
       "  </tbody>\n",
       "</table>\n",
       "</div>"
      ],
      "text/plain": [
       "      name               id chr     band  start_position  end_position  \\\n",
       "0   CDC14B  ENSG00000081377   9  9q22.33      96490241.0    96619830.0   \n",
       "1    DOCK3  ENSG00000088538   3   3p21.2      50674927.0    51384198.0   \n",
       "2  SLCO4C1  ENSG00000173930   5   5q21.1     102233986.0   102296284.0   \n",
       "3      UST  ENSG00000111962   6   6q25.1     148747030.0   149076990.0   \n",
       "4      CFH  ENSG00000000971   1   1q31.3     196651878.0   196747504.0   \n",
       "\n",
       "   gene_length  \n",
       "0     129589.0  \n",
       "1     709271.0  \n",
       "2      62298.0  \n",
       "3     329960.0  \n",
       "4      95626.0  "
      ]
     },
     "execution_count": 51,
     "metadata": {},
     "output_type": "execute_result"
    }
   ],
   "source": [
    "genes_info.head()"
   ]
  },
  {
   "cell_type": "code",
   "execution_count": 52,
   "id": "eb968287-d9cf-40f6-a93e-6b322b844404",
   "metadata": {
    "execution": {
     "iopub.execute_input": "2022-08-02T17:56:54.187721Z",
     "iopub.status.busy": "2022-08-02T17:56:54.187493Z",
     "iopub.status.idle": "2022-08-02T17:56:54.210327Z",
     "shell.execute_reply": "2022-08-02T17:56:54.209577Z"
    },
    "papermill": {
     "duration": 0.041228,
     "end_time": "2022-08-02T17:56:54.211726",
     "exception": false,
     "start_time": "2022-08-02T17:56:54.170498",
     "status": "completed"
    },
    "tags": []
   },
   "outputs": [
    {
     "data": {
      "text/html": [
       "<div>\n",
       "<style scoped>\n",
       "    .dataframe tbody tr th:only-of-type {\n",
       "        vertical-align: middle;\n",
       "    }\n",
       "\n",
       "    .dataframe tbody tr th {\n",
       "        vertical-align: top;\n",
       "    }\n",
       "\n",
       "    .dataframe thead th {\n",
       "        text-align: right;\n",
       "    }\n",
       "</style>\n",
       "<table border=\"1\" class=\"dataframe\">\n",
       "  <thead>\n",
       "    <tr style=\"text-align: right;\">\n",
       "      <th></th>\n",
       "      <th>name</th>\n",
       "      <th>id</th>\n",
       "      <th>chr</th>\n",
       "      <th>band</th>\n",
       "      <th>start_position</th>\n",
       "      <th>end_position</th>\n",
       "      <th>gene_length</th>\n",
       "    </tr>\n",
       "  </thead>\n",
       "  <tbody>\n",
       "    <tr>\n",
       "      <th>6443</th>\n",
       "      <td>PRPF38A</td>\n",
       "      <td>ENSG00000134748</td>\n",
       "      <td>1</td>\n",
       "      <td>1p32.3</td>\n",
       "      <td>52404602.0</td>\n",
       "      <td>52420836.0</td>\n",
       "      <td>16234.0</td>\n",
       "    </tr>\n",
       "    <tr>\n",
       "      <th>5230</th>\n",
       "      <td>PBX1</td>\n",
       "      <td>ENSG00000185630</td>\n",
       "      <td>1</td>\n",
       "      <td>1q23.3</td>\n",
       "      <td>164555584.0</td>\n",
       "      <td>164899296.0</td>\n",
       "      <td>343712.0</td>\n",
       "    </tr>\n",
       "    <tr>\n",
       "      <th>3646</th>\n",
       "      <td>SDHC</td>\n",
       "      <td>ENSG00000143252</td>\n",
       "      <td>1</td>\n",
       "      <td>1q23.3</td>\n",
       "      <td>161314257.0</td>\n",
       "      <td>161375340.0</td>\n",
       "      <td>61083.0</td>\n",
       "    </tr>\n",
       "    <tr>\n",
       "      <th>528</th>\n",
       "      <td>RIT1</td>\n",
       "      <td>ENSG00000143622</td>\n",
       "      <td>1</td>\n",
       "      <td>1q22</td>\n",
       "      <td>155897808.0</td>\n",
       "      <td>155911404.0</td>\n",
       "      <td>13596.0</td>\n",
       "    </tr>\n",
       "    <tr>\n",
       "      <th>1233</th>\n",
       "      <td>HCN3</td>\n",
       "      <td>ENSG00000143630</td>\n",
       "      <td>1</td>\n",
       "      <td>1q22</td>\n",
       "      <td>155277463.0</td>\n",
       "      <td>155289848.0</td>\n",
       "      <td>12385.0</td>\n",
       "    </tr>\n",
       "    <tr>\n",
       "      <th>...</th>\n",
       "      <td>...</td>\n",
       "      <td>...</td>\n",
       "      <td>...</td>\n",
       "      <td>...</td>\n",
       "      <td>...</td>\n",
       "      <td>...</td>\n",
       "      <td>...</td>\n",
       "    </tr>\n",
       "    <tr>\n",
       "      <th>5349</th>\n",
       "      <td>ALG2</td>\n",
       "      <td>ENSG00000119523</td>\n",
       "      <td>9</td>\n",
       "      <td>9q22.33</td>\n",
       "      <td>99216425.0</td>\n",
       "      <td>99221942.0</td>\n",
       "      <td>5517.0</td>\n",
       "    </tr>\n",
       "    <tr>\n",
       "      <th>5294</th>\n",
       "      <td>AUH</td>\n",
       "      <td>ENSG00000148090</td>\n",
       "      <td>9</td>\n",
       "      <td>9q22.31</td>\n",
       "      <td>91213815.0</td>\n",
       "      <td>91361913.0</td>\n",
       "      <td>148098.0</td>\n",
       "    </tr>\n",
       "    <tr>\n",
       "      <th>0</th>\n",
       "      <td>CDC14B</td>\n",
       "      <td>ENSG00000081377</td>\n",
       "      <td>9</td>\n",
       "      <td>9q22.33</td>\n",
       "      <td>96490241.0</td>\n",
       "      <td>96619830.0</td>\n",
       "      <td>129589.0</td>\n",
       "    </tr>\n",
       "    <tr>\n",
       "      <th>5375</th>\n",
       "      <td>TMEM133</td>\n",
       "      <td>ENSG00000170647</td>\n",
       "      <td>None</td>\n",
       "      <td>None</td>\n",
       "      <td>NaN</td>\n",
       "      <td>NaN</td>\n",
       "      <td>NaN</td>\n",
       "    </tr>\n",
       "    <tr>\n",
       "      <th>5609</th>\n",
       "      <td>TBCE</td>\n",
       "      <td>ENSG00000116957</td>\n",
       "      <td>None</td>\n",
       "      <td>None</td>\n",
       "      <td>NaN</td>\n",
       "      <td>NaN</td>\n",
       "      <td>NaN</td>\n",
       "    </tr>\n",
       "  </tbody>\n",
       "</table>\n",
       "<p>6444 rows × 7 columns</p>\n",
       "</div>"
      ],
      "text/plain": [
       "         name               id   chr     band  start_position  end_position  \\\n",
       "6443  PRPF38A  ENSG00000134748     1   1p32.3      52404602.0    52420836.0   \n",
       "5230     PBX1  ENSG00000185630     1   1q23.3     164555584.0   164899296.0   \n",
       "3646     SDHC  ENSG00000143252     1   1q23.3     161314257.0   161375340.0   \n",
       "528      RIT1  ENSG00000143622     1     1q22     155897808.0   155911404.0   \n",
       "1233     HCN3  ENSG00000143630     1     1q22     155277463.0   155289848.0   \n",
       "...       ...              ...   ...      ...             ...           ...   \n",
       "5349     ALG2  ENSG00000119523     9  9q22.33      99216425.0    99221942.0   \n",
       "5294      AUH  ENSG00000148090     9  9q22.31      91213815.0    91361913.0   \n",
       "0      CDC14B  ENSG00000081377     9  9q22.33      96490241.0    96619830.0   \n",
       "5375  TMEM133  ENSG00000170647  None     None             NaN           NaN   \n",
       "5609     TBCE  ENSG00000116957  None     None             NaN           NaN   \n",
       "\n",
       "      gene_length  \n",
       "6443      16234.0  \n",
       "5230     343712.0  \n",
       "3646      61083.0  \n",
       "528       13596.0  \n",
       "1233      12385.0  \n",
       "...           ...  \n",
       "5349       5517.0  \n",
       "5294     148098.0  \n",
       "0        129589.0  \n",
       "5375          NaN  \n",
       "5609          NaN  \n",
       "\n",
       "[6444 rows x 7 columns]"
      ]
     },
     "execution_count": 52,
     "metadata": {},
     "output_type": "execute_result"
    }
   ],
   "source": [
    "genes_info.sort_values(\"chr\")"
   ]
  },
  {
   "cell_type": "markdown",
   "id": "7282b84d-f4f3-4e8c-9dd8-6319505ed4b5",
   "metadata": {
    "papermill": {
     "duration": 0.016517,
     "end_time": "2022-08-02T17:56:54.244876",
     "exception": false,
     "start_time": "2022-08-02T17:56:54.228359",
     "status": "completed"
    },
    "tags": []
   },
   "source": [
    "### Save"
   ]
  },
  {
   "cell_type": "code",
   "execution_count": 53,
   "id": "32cf6566-03bb-4a85-81e1-da46fc9f37ad",
   "metadata": {
    "execution": {
     "iopub.execute_input": "2022-08-02T17:56:54.278915Z",
     "iopub.status.busy": "2022-08-02T17:56:54.278710Z",
     "iopub.status.idle": "2022-08-02T17:56:54.293660Z",
     "shell.execute_reply": "2022-08-02T17:56:54.293182Z"
    },
    "papermill": {
     "duration": 0.033551,
     "end_time": "2022-08-02T17:56:54.294983",
     "exception": false,
     "start_time": "2022-08-02T17:56:54.261432",
     "status": "completed"
    },
    "tags": []
   },
   "outputs": [],
   "source": [
    "genes_info.to_pickle(OUTPUT_DIR_BASE / \"genes_info.pkl\")"
   ]
  },
  {
   "cell_type": "markdown",
   "id": "5b9f384a-5a91-4a8d-9007-cfe43f2d86f8",
   "metadata": {
    "papermill": {
     "duration": 0.016714,
     "end_time": "2022-08-02T17:56:54.328761",
     "exception": false,
     "start_time": "2022-08-02T17:56:54.312047",
     "status": "completed"
    },
    "tags": []
   },
   "source": [
    "## S-PrediXcan results"
   ]
  },
  {
   "cell_type": "markdown",
   "id": "fc0a2a4c-960c-4a0a-9b23-b66c3d5d6e07",
   "metadata": {
    "papermill": {
     "duration": 0.016376,
     "end_time": "2022-08-02T17:56:54.361480",
     "exception": false,
     "start_time": "2022-08-02T17:56:54.345104",
     "status": "completed"
    },
    "tags": []
   },
   "source": [
    "### Load results across all tissues"
   ]
  },
  {
   "cell_type": "code",
   "execution_count": 54,
   "id": "0b4867d7-a608-4b08-9d77-1782be3a0c94",
   "metadata": {
    "execution": {
     "iopub.execute_input": "2022-08-02T17:56:54.395656Z",
     "iopub.status.busy": "2022-08-02T17:56:54.395427Z",
     "iopub.status.idle": "2022-08-02T17:56:54.407920Z",
     "shell.execute_reply": "2022-08-02T17:56:54.407437Z"
    },
    "papermill": {
     "duration": 0.031278,
     "end_time": "2022-08-02T17:56:54.409263",
     "exception": false,
     "start_time": "2022-08-02T17:56:54.377985",
     "status": "completed"
    },
    "tags": []
   },
   "outputs": [],
   "source": [
    "spredixcan_result_files = {\n",
    "    t: SPREDIXCAN_FOLDER / SPREDIXCAN_FILE_PATTERN.format(tissue=t)\n",
    "    for t in prediction_model_tissues\n",
    "}"
   ]
  },
  {
   "cell_type": "code",
   "execution_count": 55,
   "id": "0ce270dd-46ac-4eaa-9d86-2b201d67d82f",
   "metadata": {
    "execution": {
     "iopub.execute_input": "2022-08-02T17:56:54.443691Z",
     "iopub.status.busy": "2022-08-02T17:56:54.443452Z",
     "iopub.status.idle": "2022-08-02T17:56:54.456606Z",
     "shell.execute_reply": "2022-08-02T17:56:54.456124Z"
    },
    "papermill": {
     "duration": 0.031692,
     "end_time": "2022-08-02T17:56:54.457755",
     "exception": false,
     "start_time": "2022-08-02T17:56:54.426063",
     "status": "completed"
    },
    "tags": []
   },
   "outputs": [
    {
     "data": {
      "text/plain": [
       "[PosixPath('/opt/data/results/gls/null_sims/twas/spredixcan/random.pheno0-gtex_v8-mashr-Skin_Not_Sun_Exposed_Suprapubic.csv'),\n",
       " PosixPath('/opt/data/results/gls/null_sims/twas/spredixcan/random.pheno0-gtex_v8-mashr-Cells_EBV-transformed_lymphocytes.csv'),\n",
       " PosixPath('/opt/data/results/gls/null_sims/twas/spredixcan/random.pheno0-gtex_v8-mashr-Brain_Frontal_Cortex_BA9.csv'),\n",
       " PosixPath('/opt/data/results/gls/null_sims/twas/spredixcan/random.pheno0-gtex_v8-mashr-Kidney_Cortex.csv'),\n",
       " PosixPath('/opt/data/results/gls/null_sims/twas/spredixcan/random.pheno0-gtex_v8-mashr-Brain_Substantia_nigra.csv')]"
      ]
     },
     "metadata": {},
     "output_type": "display_data"
    }
   ],
   "source": [
    "assert len(spredixcan_result_files) == len(prediction_model_tissues)\n",
    "display(list(spredixcan_result_files.values())[:5])"
   ]
  },
  {
   "cell_type": "code",
   "execution_count": 56,
   "id": "aa140259-303e-4912-b2bf-e7adce662f88",
   "metadata": {
    "execution": {
     "iopub.execute_input": "2022-08-02T17:56:54.493643Z",
     "iopub.status.busy": "2022-08-02T17:56:54.492861Z",
     "iopub.status.idle": "2022-08-02T17:56:54.540450Z",
     "shell.execute_reply": "2022-08-02T17:56:54.539837Z"
    },
    "papermill": {
     "duration": 0.067017,
     "end_time": "2022-08-02T17:56:54.541975",
     "exception": false,
     "start_time": "2022-08-02T17:56:54.474958",
     "status": "completed"
    },
    "tags": []
   },
   "outputs": [
    {
     "data": {
      "text/html": [
       "<div>\n",
       "<style scoped>\n",
       "    .dataframe tbody tr th:only-of-type {\n",
       "        vertical-align: middle;\n",
       "    }\n",
       "\n",
       "    .dataframe tbody tr th {\n",
       "        vertical-align: top;\n",
       "    }\n",
       "\n",
       "    .dataframe thead th {\n",
       "        text-align: right;\n",
       "    }\n",
       "</style>\n",
       "<table border=\"1\" class=\"dataframe\">\n",
       "  <thead>\n",
       "    <tr style=\"text-align: right;\">\n",
       "      <th></th>\n",
       "      <th>gene</th>\n",
       "      <th>gene_name</th>\n",
       "      <th>zscore</th>\n",
       "      <th>effect_size</th>\n",
       "      <th>pvalue</th>\n",
       "      <th>var_g</th>\n",
       "      <th>pred_perf_r2</th>\n",
       "      <th>pred_perf_pval</th>\n",
       "      <th>pred_perf_qval</th>\n",
       "      <th>n_snps_used</th>\n",
       "      <th>n_snps_in_cov</th>\n",
       "      <th>n_snps_in_model</th>\n",
       "      <th>best_gwas_p</th>\n",
       "      <th>largest_weight</th>\n",
       "    </tr>\n",
       "  </thead>\n",
       "  <tbody>\n",
       "    <tr>\n",
       "      <th>0</th>\n",
       "      <td>ENSG00000131236.16</td>\n",
       "      <td>CAP1</td>\n",
       "      <td>-3.882684</td>\n",
       "      <td>NaN</td>\n",
       "      <td>0.000103</td>\n",
       "      <td>8.369900e-05</td>\n",
       "      <td>NaN</td>\n",
       "      <td>NaN</td>\n",
       "      <td>NaN</td>\n",
       "      <td>1</td>\n",
       "      <td>1</td>\n",
       "      <td>1</td>\n",
       "      <td>0.000103</td>\n",
       "      <td>0.021593</td>\n",
       "    </tr>\n",
       "    <tr>\n",
       "      <th>1</th>\n",
       "      <td>ENSG00000130787.13</td>\n",
       "      <td>HIP1R</td>\n",
       "      <td>3.862583</td>\n",
       "      <td>NaN</td>\n",
       "      <td>0.000112</td>\n",
       "      <td>3.039669e-03</td>\n",
       "      <td>NaN</td>\n",
       "      <td>NaN</td>\n",
       "      <td>NaN</td>\n",
       "      <td>2</td>\n",
       "      <td>2</td>\n",
       "      <td>2</td>\n",
       "      <td>0.001681</td>\n",
       "      <td>0.087495</td>\n",
       "    </tr>\n",
       "    <tr>\n",
       "      <th>2</th>\n",
       "      <td>ENSG00000103018.16</td>\n",
       "      <td>CYB5B</td>\n",
       "      <td>3.478682</td>\n",
       "      <td>NaN</td>\n",
       "      <td>0.000504</td>\n",
       "      <td>6.455623e-03</td>\n",
       "      <td>NaN</td>\n",
       "      <td>NaN</td>\n",
       "      <td>NaN</td>\n",
       "      <td>1</td>\n",
       "      <td>1</td>\n",
       "      <td>1</td>\n",
       "      <td>0.000504</td>\n",
       "      <td>0.114291</td>\n",
       "    </tr>\n",
       "    <tr>\n",
       "      <th>3</th>\n",
       "      <td>ENSG00000117906.13</td>\n",
       "      <td>RCN2</td>\n",
       "      <td>3.431258</td>\n",
       "      <td>NaN</td>\n",
       "      <td>0.000601</td>\n",
       "      <td>5.848182e-07</td>\n",
       "      <td>NaN</td>\n",
       "      <td>NaN</td>\n",
       "      <td>NaN</td>\n",
       "      <td>1</td>\n",
       "      <td>1</td>\n",
       "      <td>1</td>\n",
       "      <td>0.000601</td>\n",
       "      <td>0.001696</td>\n",
       "    </tr>\n",
       "    <tr>\n",
       "      <th>4</th>\n",
       "      <td>ENSG00000135469.13</td>\n",
       "      <td>COQ10A</td>\n",
       "      <td>3.363631</td>\n",
       "      <td>NaN</td>\n",
       "      <td>0.000769</td>\n",
       "      <td>4.312235e-04</td>\n",
       "      <td>NaN</td>\n",
       "      <td>NaN</td>\n",
       "      <td>NaN</td>\n",
       "      <td>2</td>\n",
       "      <td>2</td>\n",
       "      <td>2</td>\n",
       "      <td>0.013565</td>\n",
       "      <td>0.064460</td>\n",
       "    </tr>\n",
       "  </tbody>\n",
       "</table>\n",
       "</div>"
      ],
      "text/plain": [
       "                 gene gene_name    zscore  effect_size    pvalue  \\\n",
       "0  ENSG00000131236.16      CAP1 -3.882684          NaN  0.000103   \n",
       "1  ENSG00000130787.13     HIP1R  3.862583          NaN  0.000112   \n",
       "2  ENSG00000103018.16     CYB5B  3.478682          NaN  0.000504   \n",
       "3  ENSG00000117906.13      RCN2  3.431258          NaN  0.000601   \n",
       "4  ENSG00000135469.13    COQ10A  3.363631          NaN  0.000769   \n",
       "\n",
       "          var_g  pred_perf_r2  pred_perf_pval  pred_perf_qval  n_snps_used  \\\n",
       "0  8.369900e-05           NaN             NaN             NaN            1   \n",
       "1  3.039669e-03           NaN             NaN             NaN            2   \n",
       "2  6.455623e-03           NaN             NaN             NaN            1   \n",
       "3  5.848182e-07           NaN             NaN             NaN            1   \n",
       "4  4.312235e-04           NaN             NaN             NaN            2   \n",
       "\n",
       "   n_snps_in_cov  n_snps_in_model  best_gwas_p  largest_weight  \n",
       "0              1                1     0.000103        0.021593  \n",
       "1              2                2     0.001681        0.087495  \n",
       "2              1                1     0.000504        0.114291  \n",
       "3              1                1     0.000601        0.001696  \n",
       "4              2                2     0.013565        0.064460  "
      ]
     },
     "execution_count": 56,
     "metadata": {},
     "output_type": "execute_result"
    }
   ],
   "source": [
    "# look at the structure of one result\n",
    "pd.read_csv(spredixcan_result_files[\"Whole_Blood\"]).head()"
   ]
  },
  {
   "cell_type": "code",
   "execution_count": 57,
   "id": "4381b9ff-6ab5-47f1-89d1-560f88fdf07f",
   "metadata": {
    "execution": {
     "iopub.execute_input": "2022-08-02T17:56:54.581145Z",
     "iopub.status.busy": "2022-08-02T17:56:54.580954Z",
     "iopub.status.idle": "2022-08-02T17:56:54.593313Z",
     "shell.execute_reply": "2022-08-02T17:56:54.592842Z"
    },
    "papermill": {
     "duration": 0.032081,
     "end_time": "2022-08-02T17:56:54.594551",
     "exception": false,
     "start_time": "2022-08-02T17:56:54.562470",
     "status": "completed"
    },
    "tags": []
   },
   "outputs": [],
   "source": [
    "assert all(f.exists() for f in spredixcan_result_files.values())"
   ]
  },
  {
   "cell_type": "code",
   "execution_count": 58,
   "id": "d477157f-51e9-4c7c-b826-7ab5f4fdf3e3",
   "metadata": {
    "execution": {
     "iopub.execute_input": "2022-08-02T17:56:54.629662Z",
     "iopub.status.busy": "2022-08-02T17:56:54.629458Z",
     "iopub.status.idle": "2022-08-02T17:56:55.542351Z",
     "shell.execute_reply": "2022-08-02T17:56:55.541752Z"
    },
    "papermill": {
     "duration": 0.932187,
     "end_time": "2022-08-02T17:56:55.544048",
     "exception": false,
     "start_time": "2022-08-02T17:56:54.611861",
     "status": "completed"
    },
    "tags": []
   },
   "outputs": [],
   "source": [
    "spredixcan_dfs = [\n",
    "    pd.read_csv(\n",
    "        f,\n",
    "        usecols=[\n",
    "            \"gene\",\n",
    "            \"zscore\",\n",
    "            \"pvalue\",\n",
    "            \"n_snps_used\",\n",
    "            \"n_snps_in_model\",\n",
    "        ],\n",
    "    )\n",
    "    .dropna(subset=[\"gene\", \"zscore\", \"pvalue\"])\n",
    "    .assign(tissue=t)\n",
    "    for t, f in spredixcan_result_files.items()\n",
    "]"
   ]
  },
  {
   "cell_type": "code",
   "execution_count": 59,
   "id": "9730bd37-b769-411f-bb6b-bb658d1ff88c",
   "metadata": {
    "execution": {
     "iopub.execute_input": "2022-08-02T17:56:55.584430Z",
     "iopub.status.busy": "2022-08-02T17:56:55.584066Z",
     "iopub.status.idle": "2022-08-02T17:56:55.596121Z",
     "shell.execute_reply": "2022-08-02T17:56:55.595584Z"
    },
    "papermill": {
     "duration": 0.032492,
     "end_time": "2022-08-02T17:56:55.597416",
     "exception": false,
     "start_time": "2022-08-02T17:56:55.564924",
     "status": "completed"
    },
    "tags": []
   },
   "outputs": [],
   "source": [
    "assert len(spredixcan_dfs) == len(prediction_model_tissues)"
   ]
  },
  {
   "cell_type": "code",
   "execution_count": 60,
   "id": "bcd73f53-1283-4ff6-bbb5-25fb71f5cb72",
   "metadata": {
    "execution": {
     "iopub.execute_input": "2022-08-02T17:56:55.633192Z",
     "iopub.status.busy": "2022-08-02T17:56:55.632989Z",
     "iopub.status.idle": "2022-08-02T17:56:55.710817Z",
     "shell.execute_reply": "2022-08-02T17:56:55.710167Z"
    },
    "papermill": {
     "duration": 0.097374,
     "end_time": "2022-08-02T17:56:55.712450",
     "exception": false,
     "start_time": "2022-08-02T17:56:55.615076",
     "status": "completed"
    },
    "tags": []
   },
   "outputs": [],
   "source": [
    "spredixcan_dfs = pd.concat(spredixcan_dfs)"
   ]
  },
  {
   "cell_type": "code",
   "execution_count": 61,
   "id": "ae99c7b5-14fc-4b39-a6b2-40fc703acd0a",
   "metadata": {
    "execution": {
     "iopub.execute_input": "2022-08-02T17:56:55.754555Z",
     "iopub.status.busy": "2022-08-02T17:56:55.754395Z",
     "iopub.status.idle": "2022-08-02T17:56:55.796562Z",
     "shell.execute_reply": "2022-08-02T17:56:55.795941Z"
    },
    "papermill": {
     "duration": 0.063885,
     "end_time": "2022-08-02T17:56:55.797976",
     "exception": false,
     "start_time": "2022-08-02T17:56:55.734091",
     "status": "completed"
    },
    "tags": []
   },
   "outputs": [],
   "source": [
    "assert spredixcan_dfs[\"tissue\"].unique().shape[0] == len(prediction_model_tissues)"
   ]
  },
  {
   "cell_type": "code",
   "execution_count": 62,
   "id": "b7223a23-e40f-4cd3-8988-72033f8739bd",
   "metadata": {
    "execution": {
     "iopub.execute_input": "2022-08-02T17:56:55.832976Z",
     "iopub.status.busy": "2022-08-02T17:56:55.832770Z",
     "iopub.status.idle": "2022-08-02T17:56:55.845587Z",
     "shell.execute_reply": "2022-08-02T17:56:55.844753Z"
    },
    "papermill": {
     "duration": 0.031847,
     "end_time": "2022-08-02T17:56:55.846856",
     "exception": false,
     "start_time": "2022-08-02T17:56:55.815009",
     "status": "completed"
    },
    "tags": []
   },
   "outputs": [
    {
     "data": {
      "text/plain": [
       "(652858, 6)"
      ]
     },
     "execution_count": 62,
     "metadata": {},
     "output_type": "execute_result"
    }
   ],
   "source": [
    "spredixcan_dfs.shape"
   ]
  },
  {
   "cell_type": "code",
   "execution_count": 63,
   "id": "4987073a-3b70-4162-93fb-beeb351ebfe0",
   "metadata": {
    "execution": {
     "iopub.execute_input": "2022-08-02T17:56:55.887363Z",
     "iopub.status.busy": "2022-08-02T17:56:55.886888Z",
     "iopub.status.idle": "2022-08-02T17:56:56.068670Z",
     "shell.execute_reply": "2022-08-02T17:56:56.067915Z"
    },
    "papermill": {
     "duration": 0.205365,
     "end_time": "2022-08-02T17:56:56.070355",
     "exception": false,
     "start_time": "2022-08-02T17:56:55.864990",
     "status": "completed"
    },
    "tags": []
   },
   "outputs": [],
   "source": [
    "spredixcan_dfs = spredixcan_dfs.assign(\n",
    "    gene_id=spredixcan_dfs[\"gene\"].apply(lambda g: g.split(\".\")[0])\n",
    ")"
   ]
  },
  {
   "cell_type": "code",
   "execution_count": 64,
   "id": "6b47d026-01c0-4f7c-a90e-f0baa13235f4",
   "metadata": {
    "execution": {
     "iopub.execute_input": "2022-08-02T17:56:56.113843Z",
     "iopub.status.busy": "2022-08-02T17:56:56.113663Z",
     "iopub.status.idle": "2022-08-02T17:56:56.131563Z",
     "shell.execute_reply": "2022-08-02T17:56:56.131011Z"
    },
    "papermill": {
     "duration": 0.040637,
     "end_time": "2022-08-02T17:56:56.132919",
     "exception": false,
     "start_time": "2022-08-02T17:56:56.092282",
     "status": "completed"
    },
    "tags": []
   },
   "outputs": [
    {
     "data": {
      "text/html": [
       "<div>\n",
       "<style scoped>\n",
       "    .dataframe tbody tr th:only-of-type {\n",
       "        vertical-align: middle;\n",
       "    }\n",
       "\n",
       "    .dataframe tbody tr th {\n",
       "        vertical-align: top;\n",
       "    }\n",
       "\n",
       "    .dataframe thead th {\n",
       "        text-align: right;\n",
       "    }\n",
       "</style>\n",
       "<table border=\"1\" class=\"dataframe\">\n",
       "  <thead>\n",
       "    <tr style=\"text-align: right;\">\n",
       "      <th></th>\n",
       "      <th>gene</th>\n",
       "      <th>zscore</th>\n",
       "      <th>pvalue</th>\n",
       "      <th>n_snps_used</th>\n",
       "      <th>n_snps_in_model</th>\n",
       "      <th>tissue</th>\n",
       "      <th>gene_id</th>\n",
       "    </tr>\n",
       "  </thead>\n",
       "  <tbody>\n",
       "    <tr>\n",
       "      <th>0</th>\n",
       "      <td>ENSG00000131236.16</td>\n",
       "      <td>-3.882684</td>\n",
       "      <td>0.000103</td>\n",
       "      <td>1</td>\n",
       "      <td>1</td>\n",
       "      <td>Skin_Not_Sun_Exposed_Suprapubic</td>\n",
       "      <td>ENSG00000131236</td>\n",
       "    </tr>\n",
       "    <tr>\n",
       "      <th>1</th>\n",
       "      <td>ENSG00000196172.9</td>\n",
       "      <td>-3.710444</td>\n",
       "      <td>0.000207</td>\n",
       "      <td>1</td>\n",
       "      <td>1</td>\n",
       "      <td>Skin_Not_Sun_Exposed_Suprapubic</td>\n",
       "      <td>ENSG00000196172</td>\n",
       "    </tr>\n",
       "    <tr>\n",
       "      <th>2</th>\n",
       "      <td>ENSG00000280789.1</td>\n",
       "      <td>3.403263</td>\n",
       "      <td>0.000666</td>\n",
       "      <td>2</td>\n",
       "      <td>2</td>\n",
       "      <td>Skin_Not_Sun_Exposed_Suprapubic</td>\n",
       "      <td>ENSG00000280789</td>\n",
       "    </tr>\n",
       "    <tr>\n",
       "      <th>3</th>\n",
       "      <td>ENSG00000215218.3</td>\n",
       "      <td>3.385093</td>\n",
       "      <td>0.000712</td>\n",
       "      <td>3</td>\n",
       "      <td>3</td>\n",
       "      <td>Skin_Not_Sun_Exposed_Suprapubic</td>\n",
       "      <td>ENSG00000215218</td>\n",
       "    </tr>\n",
       "    <tr>\n",
       "      <th>4</th>\n",
       "      <td>ENSG00000167371.17</td>\n",
       "      <td>3.381834</td>\n",
       "      <td>0.000720</td>\n",
       "      <td>2</td>\n",
       "      <td>2</td>\n",
       "      <td>Skin_Not_Sun_Exposed_Suprapubic</td>\n",
       "      <td>ENSG00000167371</td>\n",
       "    </tr>\n",
       "  </tbody>\n",
       "</table>\n",
       "</div>"
      ],
      "text/plain": [
       "                 gene    zscore    pvalue  n_snps_used  n_snps_in_model  \\\n",
       "0  ENSG00000131236.16 -3.882684  0.000103            1                1   \n",
       "1   ENSG00000196172.9 -3.710444  0.000207            1                1   \n",
       "2   ENSG00000280789.1  3.403263  0.000666            2                2   \n",
       "3   ENSG00000215218.3  3.385093  0.000712            3                3   \n",
       "4  ENSG00000167371.17  3.381834  0.000720            2                2   \n",
       "\n",
       "                            tissue          gene_id  \n",
       "0  Skin_Not_Sun_Exposed_Suprapubic  ENSG00000131236  \n",
       "1  Skin_Not_Sun_Exposed_Suprapubic  ENSG00000196172  \n",
       "2  Skin_Not_Sun_Exposed_Suprapubic  ENSG00000280789  \n",
       "3  Skin_Not_Sun_Exposed_Suprapubic  ENSG00000215218  \n",
       "4  Skin_Not_Sun_Exposed_Suprapubic  ENSG00000167371  "
      ]
     },
     "execution_count": 64,
     "metadata": {},
     "output_type": "execute_result"
    }
   ],
   "source": [
    "spredixcan_dfs.head()"
   ]
  },
  {
   "cell_type": "code",
   "execution_count": 65,
   "id": "d5dbdb2e-b7eb-4665-9fd4-9ce714d6af0c",
   "metadata": {
    "execution": {
     "iopub.execute_input": "2022-08-02T17:56:56.170690Z",
     "iopub.status.busy": "2022-08-02T17:56:56.169881Z",
     "iopub.status.idle": "2022-08-02T17:56:56.291804Z",
     "shell.execute_reply": "2022-08-02T17:56:56.291173Z"
    },
    "papermill": {
     "duration": 0.141476,
     "end_time": "2022-08-02T17:56:56.293399",
     "exception": false,
     "start_time": "2022-08-02T17:56:56.151923",
     "status": "completed"
    },
    "tags": []
   },
   "outputs": [],
   "source": [
    "# leave only common genes\n",
    "spredixcan_dfs = spredixcan_dfs[spredixcan_dfs[\"gene_id\"].isin(set(genes_info[\"id\"]))]"
   ]
  },
  {
   "cell_type": "code",
   "execution_count": 66,
   "id": "8d34f99a-6b43-47aa-bb07-dfc67e169538",
   "metadata": {
    "execution": {
     "iopub.execute_input": "2022-08-02T17:56:56.337858Z",
     "iopub.status.busy": "2022-08-02T17:56:56.337688Z",
     "iopub.status.idle": "2022-08-02T17:56:56.350937Z",
     "shell.execute_reply": "2022-08-02T17:56:56.350449Z"
    },
    "papermill": {
     "duration": 0.036242,
     "end_time": "2022-08-02T17:56:56.352168",
     "exception": false,
     "start_time": "2022-08-02T17:56:56.315926",
     "status": "completed"
    },
    "tags": []
   },
   "outputs": [
    {
     "data": {
      "text/plain": [
       "(233428, 7)"
      ]
     },
     "execution_count": 66,
     "metadata": {},
     "output_type": "execute_result"
    }
   ],
   "source": [
    "spredixcan_dfs.shape"
   ]
  },
  {
   "cell_type": "markdown",
   "id": "5ecfd141-ecb8-47cf-905e-25cc1b4d3f9d",
   "metadata": {
    "papermill": {
     "duration": 0.017192,
     "end_time": "2022-08-02T17:56:56.388604",
     "exception": false,
     "start_time": "2022-08-02T17:56:56.371412",
     "status": "completed"
    },
    "tags": []
   },
   "source": [
    "### Count number of tissues available per gene"
   ]
  },
  {
   "cell_type": "code",
   "execution_count": 67,
   "id": "86fe37e1-a303-4221-a12e-3a54a04dd510",
   "metadata": {
    "execution": {
     "iopub.execute_input": "2022-08-02T17:56:56.424623Z",
     "iopub.status.busy": "2022-08-02T17:56:56.424152Z",
     "iopub.status.idle": "2022-08-02T17:56:56.495487Z",
     "shell.execute_reply": "2022-08-02T17:56:56.494991Z"
    },
    "papermill": {
     "duration": 0.090519,
     "end_time": "2022-08-02T17:56:56.496876",
     "exception": false,
     "start_time": "2022-08-02T17:56:56.406357",
     "status": "completed"
    },
    "tags": []
   },
   "outputs": [],
   "source": [
    "spredixcan_genes_n_models = spredixcan_dfs.groupby(\"gene_id\")[\"tissue\"].nunique()"
   ]
  },
  {
   "cell_type": "code",
   "execution_count": 68,
   "id": "31416d48-1e4d-463f-9a5c-34d29803c3f8",
   "metadata": {
    "execution": {
     "iopub.execute_input": "2022-08-02T17:56:56.541366Z",
     "iopub.status.busy": "2022-08-02T17:56:56.541178Z",
     "iopub.status.idle": "2022-08-02T17:56:56.557712Z",
     "shell.execute_reply": "2022-08-02T17:56:56.557121Z"
    },
    "papermill": {
     "duration": 0.042022,
     "end_time": "2022-08-02T17:56:56.559081",
     "exception": false,
     "start_time": "2022-08-02T17:56:56.517059",
     "status": "completed"
    },
    "tags": []
   },
   "outputs": [
    {
     "data": {
      "text/plain": [
       "gene_id\n",
       "ENSG00000000419     2\n",
       "ENSG00000000938    36\n",
       "ENSG00000000971    34\n",
       "ENSG00000001084    32\n",
       "ENSG00000001167    40\n",
       "                   ..\n",
       "ENSG00000278540    36\n",
       "ENSG00000278828     4\n",
       "ENSG00000278845    49\n",
       "ENSG00000281005    49\n",
       "ENSG00000282608    36\n",
       "Name: tissue, Length: 6444, dtype: int64"
      ]
     },
     "execution_count": 68,
     "metadata": {},
     "output_type": "execute_result"
    }
   ],
   "source": [
    "spredixcan_genes_n_models"
   ]
  },
  {
   "cell_type": "code",
   "execution_count": 69,
   "id": "d737ad4f-f821-4546-9a3e-6703fe264b49",
   "metadata": {
    "execution": {
     "iopub.execute_input": "2022-08-02T17:56:56.598290Z",
     "iopub.status.busy": "2022-08-02T17:56:56.598085Z",
     "iopub.status.idle": "2022-08-02T17:56:56.624698Z",
     "shell.execute_reply": "2022-08-02T17:56:56.624067Z"
    },
    "papermill": {
     "duration": 0.046718,
     "end_time": "2022-08-02T17:56:56.626123",
     "exception": false,
     "start_time": "2022-08-02T17:56:56.579405",
     "status": "completed"
    },
    "tags": []
   },
   "outputs": [],
   "source": [
    "# testing that in S-MultiXcan I get the same number of tissues per gene\n",
    "_tmp_smultixcan_results_n_models = (\n",
    "    smultixcan_results.set_index(\"gene_id\")[\"n\"].astype(int).rename(\"tissue\")\n",
    ")\n",
    "\n",
    "_cg = _tmp_smultixcan_results_n_models.index.intersection(\n",
    "    spredixcan_genes_n_models.index\n",
    ")\n",
    "_tmp_smultixcan_results_n_models = _tmp_smultixcan_results_n_models.loc[_cg]\n",
    "_spredixcan = spredixcan_genes_n_models.loc[_cg]\n",
    "\n",
    "assert _spredixcan.shape[0] == _tmp_smultixcan_results_n_models.shape[0]\n",
    "assert _spredixcan.equals(_tmp_smultixcan_results_n_models.loc[_spredixcan.index])"
   ]
  },
  {
   "cell_type": "markdown",
   "id": "904d7d30-9c2d-4c3e-b674-3f081954fe8b",
   "metadata": {
    "papermill": {
     "duration": 0.018503,
     "end_time": "2022-08-02T17:56:56.664057",
     "exception": false,
     "start_time": "2022-08-02T17:56:56.645554",
     "status": "completed"
    },
    "tags": []
   },
   "source": [
    "### Get tissues available per gene"
   ]
  },
  {
   "cell_type": "code",
   "execution_count": 70,
   "id": "cf014e81-4b4e-4c46-9265-67718b3ab08e",
   "metadata": {
    "execution": {
     "iopub.execute_input": "2022-08-02T17:56:56.699388Z",
     "iopub.status.busy": "2022-08-02T17:56:56.699168Z",
     "iopub.status.idle": "2022-08-02T17:56:56.857828Z",
     "shell.execute_reply": "2022-08-02T17:56:56.857221Z"
    },
    "papermill": {
     "duration": 0.178149,
     "end_time": "2022-08-02T17:56:56.859332",
     "exception": false,
     "start_time": "2022-08-02T17:56:56.681183",
     "status": "completed"
    },
    "tags": []
   },
   "outputs": [],
   "source": [
    "spredixcan_genes_models = spredixcan_dfs.groupby(\"gene_id\")[\"tissue\"].apply(\n",
    "    lambda x: frozenset(x.tolist())\n",
    ")"
   ]
  },
  {
   "cell_type": "code",
   "execution_count": 71,
   "id": "5df09d7f-39c9-408f-9fef-5189e8ca1c87",
   "metadata": {
    "execution": {
     "iopub.execute_input": "2022-08-02T17:56:56.895363Z",
     "iopub.status.busy": "2022-08-02T17:56:56.895156Z",
     "iopub.status.idle": "2022-08-02T17:56:56.911738Z",
     "shell.execute_reply": "2022-08-02T17:56:56.911281Z"
    },
    "papermill": {
     "duration": 0.036048,
     "end_time": "2022-08-02T17:56:56.912918",
     "exception": false,
     "start_time": "2022-08-02T17:56:56.876870",
     "status": "completed"
    },
    "tags": []
   },
   "outputs": [
    {
     "data": {
      "text/plain": [
       "gene_id\n",
       "ENSG00000000419         (Brain_Substantia_nigra, Brain_Hypothalamus)\n",
       "ENSG00000000938    (Brain_Cerebellum, Nerve_Tibial, Liver, Brain_...\n",
       "ENSG00000000971    (Brain_Cerebellum, Nerve_Tibial, Brain_Hippoca...\n",
       "ENSG00000001084    (Brain_Cerebellum, Nerve_Tibial, Brain_Amygdal...\n",
       "ENSG00000001167    (Brain_Cerebellum, Nerve_Tibial, Vagina, Brain...\n",
       "                                         ...                        \n",
       "ENSG00000278540    (Nerve_Tibial, Vagina, Brain_Amygdala, Liver, ...\n",
       "ENSG00000278828    (Adipose_Visceral_Omentum, Esophagus_Musculari...\n",
       "ENSG00000278845    (Brain_Cerebellum, Nerve_Tibial, Vagina, Brain...\n",
       "ENSG00000281005    (Brain_Cerebellum, Nerve_Tibial, Vagina, Brain...\n",
       "ENSG00000282608    (Brain_Cerebellum, Nerve_Tibial, Brain_Amygdal...\n",
       "Name: tissue, Length: 6444, dtype: object"
      ]
     },
     "execution_count": 71,
     "metadata": {},
     "output_type": "execute_result"
    }
   ],
   "source": [
    "spredixcan_genes_models"
   ]
  },
  {
   "cell_type": "code",
   "execution_count": 72,
   "id": "97c46886-5a48-4813-b890-1dcdb09ec09d",
   "metadata": {
    "execution": {
     "iopub.execute_input": "2022-08-02T17:56:56.949491Z",
     "iopub.status.busy": "2022-08-02T17:56:56.949286Z",
     "iopub.status.idle": "2022-08-02T17:56:56.961447Z",
     "shell.execute_reply": "2022-08-02T17:56:56.960834Z"
    },
    "papermill": {
     "duration": 0.031578,
     "end_time": "2022-08-02T17:56:56.962772",
     "exception": false,
     "start_time": "2022-08-02T17:56:56.931194",
     "status": "completed"
    },
    "tags": []
   },
   "outputs": [],
   "source": [
    "assert spredixcan_genes_n_models.shape[0] == spredixcan_genes_models.shape[0]"
   ]
  },
  {
   "cell_type": "code",
   "execution_count": 73,
   "id": "abc13913-a681-4297-a0e6-dde62f43c36f",
   "metadata": {
    "execution": {
     "iopub.execute_input": "2022-08-02T17:56:56.999444Z",
     "iopub.status.busy": "2022-08-02T17:56:56.999238Z",
     "iopub.status.idle": "2022-08-02T17:56:57.012219Z",
     "shell.execute_reply": "2022-08-02T17:56:57.011697Z"
    },
    "papermill": {
     "duration": 0.032737,
     "end_time": "2022-08-02T17:56:57.013529",
     "exception": false,
     "start_time": "2022-08-02T17:56:56.980792",
     "status": "completed"
    },
    "tags": []
   },
   "outputs": [],
   "source": [
    "assert spredixcan_genes_n_models.index.equals(spredixcan_genes_models.index)"
   ]
  },
  {
   "cell_type": "code",
   "execution_count": 74,
   "id": "995a02e7-b836-471b-b438-17c8c46e4fde",
   "metadata": {
    "execution": {
     "iopub.execute_input": "2022-08-02T17:56:57.050419Z",
     "iopub.status.busy": "2022-08-02T17:56:57.050203Z",
     "iopub.status.idle": "2022-08-02T17:56:57.063568Z",
     "shell.execute_reply": "2022-08-02T17:56:57.063146Z"
    },
    "papermill": {
     "duration": 0.033175,
     "end_time": "2022-08-02T17:56:57.064913",
     "exception": false,
     "start_time": "2022-08-02T17:56:57.031738",
     "status": "completed"
    },
    "tags": []
   },
   "outputs": [],
   "source": [
    "assert (spredixcan_genes_models.apply(len) <= len(prediction_model_tissues)).all()"
   ]
  },
  {
   "cell_type": "code",
   "execution_count": 75,
   "id": "0c1d0c68-1a06-480c-b6d6-d3c4fdf0f5aa",
   "metadata": {
    "execution": {
     "iopub.execute_input": "2022-08-02T17:56:57.101421Z",
     "iopub.status.busy": "2022-08-02T17:56:57.101207Z",
     "iopub.status.idle": "2022-08-02T17:56:57.118047Z",
     "shell.execute_reply": "2022-08-02T17:56:57.117394Z"
    },
    "papermill": {
     "duration": 0.036467,
     "end_time": "2022-08-02T17:56:57.119241",
     "exception": false,
     "start_time": "2022-08-02T17:56:57.082774",
     "status": "completed"
    },
    "tags": []
   },
   "outputs": [
    {
     "data": {
      "text/plain": [
       "count    6444.000000\n",
       "mean       36.224084\n",
       "std        12.974649\n",
       "min         1.000000\n",
       "25%        29.000000\n",
       "50%        41.000000\n",
       "75%        47.000000\n",
       "max        49.000000\n",
       "Name: tissue, dtype: float64"
      ]
     },
     "execution_count": 75,
     "metadata": {},
     "output_type": "execute_result"
    }
   ],
   "source": [
    "spredixcan_genes_models.apply(len).describe()"
   ]
  },
  {
   "cell_type": "code",
   "execution_count": 76,
   "id": "991b9441-6bb5-4b72-9285-5fd579875e40",
   "metadata": {
    "execution": {
     "iopub.execute_input": "2022-08-02T17:56:57.156335Z",
     "iopub.status.busy": "2022-08-02T17:56:57.156130Z",
     "iopub.status.idle": "2022-08-02T17:56:57.171494Z",
     "shell.execute_reply": "2022-08-02T17:56:57.170919Z"
    },
    "papermill": {
     "duration": 0.035333,
     "end_time": "2022-08-02T17:56:57.172800",
     "exception": false,
     "start_time": "2022-08-02T17:56:57.137467",
     "status": "completed"
    },
    "tags": []
   },
   "outputs": [],
   "source": [
    "# testing\n",
    "assert (\n",
    "    spredixcan_genes_models.loc[spredixcan_genes_n_models.index]\n",
    "    .apply(len)\n",
    "    .equals(spredixcan_genes_n_models)\n",
    ")"
   ]
  },
  {
   "cell_type": "markdown",
   "id": "3042b22d-9d88-4e21-b112-ab23cf8d24ea",
   "metadata": {
    "papermill": {
     "duration": 0.017342,
     "end_time": "2022-08-02T17:56:57.208548",
     "exception": false,
     "start_time": "2022-08-02T17:56:57.191206",
     "status": "completed"
    },
    "tags": []
   },
   "source": [
    "### Add gene name and set index"
   ]
  },
  {
   "cell_type": "code",
   "execution_count": 77,
   "id": "3b7b0e76-7aca-44bf-beff-5f1c1b6193ee",
   "metadata": {
    "execution": {
     "iopub.execute_input": "2022-08-02T17:56:57.244558Z",
     "iopub.status.busy": "2022-08-02T17:56:57.244353Z",
     "iopub.status.idle": "2022-08-02T17:56:57.257394Z",
     "shell.execute_reply": "2022-08-02T17:56:57.256934Z"
    },
    "papermill": {
     "duration": 0.032718,
     "end_time": "2022-08-02T17:56:57.258682",
     "exception": false,
     "start_time": "2022-08-02T17:56:57.225964",
     "status": "completed"
    },
    "tags": []
   },
   "outputs": [],
   "source": [
    "spredixcan_genes_models = spredixcan_genes_models.to_frame().reset_index()"
   ]
  },
  {
   "cell_type": "code",
   "execution_count": 78,
   "id": "ffab4b61-c2d4-4bcc-a147-23a4bf30f715",
   "metadata": {
    "execution": {
     "iopub.execute_input": "2022-08-02T17:56:57.296039Z",
     "iopub.status.busy": "2022-08-02T17:56:57.295838Z",
     "iopub.status.idle": "2022-08-02T17:56:57.312656Z",
     "shell.execute_reply": "2022-08-02T17:56:57.312030Z"
    },
    "papermill": {
     "duration": 0.036914,
     "end_time": "2022-08-02T17:56:57.313880",
     "exception": false,
     "start_time": "2022-08-02T17:56:57.276966",
     "status": "completed"
    },
    "tags": []
   },
   "outputs": [
    {
     "data": {
      "text/html": [
       "<div>\n",
       "<style scoped>\n",
       "    .dataframe tbody tr th:only-of-type {\n",
       "        vertical-align: middle;\n",
       "    }\n",
       "\n",
       "    .dataframe tbody tr th {\n",
       "        vertical-align: top;\n",
       "    }\n",
       "\n",
       "    .dataframe thead th {\n",
       "        text-align: right;\n",
       "    }\n",
       "</style>\n",
       "<table border=\"1\" class=\"dataframe\">\n",
       "  <thead>\n",
       "    <tr style=\"text-align: right;\">\n",
       "      <th></th>\n",
       "      <th>gene_id</th>\n",
       "      <th>tissue</th>\n",
       "    </tr>\n",
       "  </thead>\n",
       "  <tbody>\n",
       "    <tr>\n",
       "      <th>0</th>\n",
       "      <td>ENSG00000000419</td>\n",
       "      <td>(Brain_Substantia_nigra, Brain_Hypothalamus)</td>\n",
       "    </tr>\n",
       "    <tr>\n",
       "      <th>1</th>\n",
       "      <td>ENSG00000000938</td>\n",
       "      <td>(Brain_Cerebellum, Nerve_Tibial, Liver, Brain_...</td>\n",
       "    </tr>\n",
       "    <tr>\n",
       "      <th>2</th>\n",
       "      <td>ENSG00000000971</td>\n",
       "      <td>(Brain_Cerebellum, Nerve_Tibial, Brain_Hippoca...</td>\n",
       "    </tr>\n",
       "    <tr>\n",
       "      <th>3</th>\n",
       "      <td>ENSG00000001084</td>\n",
       "      <td>(Brain_Cerebellum, Nerve_Tibial, Brain_Amygdal...</td>\n",
       "    </tr>\n",
       "    <tr>\n",
       "      <th>4</th>\n",
       "      <td>ENSG00000001167</td>\n",
       "      <td>(Brain_Cerebellum, Nerve_Tibial, Vagina, Brain...</td>\n",
       "    </tr>\n",
       "  </tbody>\n",
       "</table>\n",
       "</div>"
      ],
      "text/plain": [
       "           gene_id                                             tissue\n",
       "0  ENSG00000000419       (Brain_Substantia_nigra, Brain_Hypothalamus)\n",
       "1  ENSG00000000938  (Brain_Cerebellum, Nerve_Tibial, Liver, Brain_...\n",
       "2  ENSG00000000971  (Brain_Cerebellum, Nerve_Tibial, Brain_Hippoca...\n",
       "3  ENSG00000001084  (Brain_Cerebellum, Nerve_Tibial, Brain_Amygdal...\n",
       "4  ENSG00000001167  (Brain_Cerebellum, Nerve_Tibial, Vagina, Brain..."
      ]
     },
     "execution_count": 78,
     "metadata": {},
     "output_type": "execute_result"
    }
   ],
   "source": [
    "spredixcan_genes_models.head()"
   ]
  },
  {
   "cell_type": "code",
   "execution_count": 79,
   "id": "e1cb2fe5-969f-4526-bca7-a3b8919b3509",
   "metadata": {
    "execution": {
     "iopub.execute_input": "2022-08-02T17:56:57.350974Z",
     "iopub.status.busy": "2022-08-02T17:56:57.350772Z",
     "iopub.status.idle": "2022-08-02T17:56:57.366037Z",
     "shell.execute_reply": "2022-08-02T17:56:57.365526Z"
    },
    "papermill": {
     "duration": 0.035141,
     "end_time": "2022-08-02T17:56:57.367382",
     "exception": false,
     "start_time": "2022-08-02T17:56:57.332241",
     "status": "completed"
    },
    "tags": []
   },
   "outputs": [],
   "source": [
    "spredixcan_genes_models = spredixcan_genes_models.assign(\n",
    "    gene_name=spredixcan_genes_models[\"gene_id\"].apply(\n",
    "        lambda g: Gene.GENE_ID_TO_NAME_MAP[g]\n",
    "    )\n",
    ")"
   ]
  },
  {
   "cell_type": "code",
   "execution_count": 80,
   "id": "ff078ce5-3f18-442e-a593-3326436c758e",
   "metadata": {
    "execution": {
     "iopub.execute_input": "2022-08-02T17:56:57.405098Z",
     "iopub.status.busy": "2022-08-02T17:56:57.404894Z",
     "iopub.status.idle": "2022-08-02T17:56:57.418071Z",
     "shell.execute_reply": "2022-08-02T17:56:57.417578Z"
    },
    "papermill": {
     "duration": 0.033314,
     "end_time": "2022-08-02T17:56:57.419437",
     "exception": false,
     "start_time": "2022-08-02T17:56:57.386123",
     "status": "completed"
    },
    "tags": []
   },
   "outputs": [],
   "source": [
    "spredixcan_genes_models = spredixcan_genes_models[[\"gene_id\", \"gene_name\", \"tissue\"]]"
   ]
  },
  {
   "cell_type": "code",
   "execution_count": 81,
   "id": "a65c8bf2-5ecd-4f80-a857-11f8a0c019c4",
   "metadata": {
    "execution": {
     "iopub.execute_input": "2022-08-02T17:56:57.457547Z",
     "iopub.status.busy": "2022-08-02T17:56:57.457343Z",
     "iopub.status.idle": "2022-08-02T17:56:57.470829Z",
     "shell.execute_reply": "2022-08-02T17:56:57.470238Z"
    },
    "papermill": {
     "duration": 0.033861,
     "end_time": "2022-08-02T17:56:57.472215",
     "exception": false,
     "start_time": "2022-08-02T17:56:57.438354",
     "status": "completed"
    },
    "tags": []
   },
   "outputs": [],
   "source": [
    "spredixcan_genes_models = spredixcan_genes_models.set_index(\"gene_id\")"
   ]
  },
  {
   "cell_type": "code",
   "execution_count": 82,
   "id": "af6b40b9-fc58-47a1-a1b5-4404034b008b",
   "metadata": {
    "execution": {
     "iopub.execute_input": "2022-08-02T17:56:57.510774Z",
     "iopub.status.busy": "2022-08-02T17:56:57.510590Z",
     "iopub.status.idle": "2022-08-02T17:56:57.531138Z",
     "shell.execute_reply": "2022-08-02T17:56:57.530534Z"
    },
    "papermill": {
     "duration": 0.041446,
     "end_time": "2022-08-02T17:56:57.532613",
     "exception": false,
     "start_time": "2022-08-02T17:56:57.491167",
     "status": "completed"
    },
    "tags": []
   },
   "outputs": [
    {
     "data": {
      "text/html": [
       "<div>\n",
       "<style scoped>\n",
       "    .dataframe tbody tr th:only-of-type {\n",
       "        vertical-align: middle;\n",
       "    }\n",
       "\n",
       "    .dataframe tbody tr th {\n",
       "        vertical-align: top;\n",
       "    }\n",
       "\n",
       "    .dataframe thead th {\n",
       "        text-align: right;\n",
       "    }\n",
       "</style>\n",
       "<table border=\"1\" class=\"dataframe\">\n",
       "  <thead>\n",
       "    <tr style=\"text-align: right;\">\n",
       "      <th></th>\n",
       "      <th>gene_name</th>\n",
       "      <th>tissue</th>\n",
       "    </tr>\n",
       "    <tr>\n",
       "      <th>gene_id</th>\n",
       "      <th></th>\n",
       "      <th></th>\n",
       "    </tr>\n",
       "  </thead>\n",
       "  <tbody>\n",
       "    <tr>\n",
       "      <th>ENSG00000000419</th>\n",
       "      <td>DPM1</td>\n",
       "      <td>(Brain_Substantia_nigra, Brain_Hypothalamus)</td>\n",
       "    </tr>\n",
       "    <tr>\n",
       "      <th>ENSG00000000938</th>\n",
       "      <td>FGR</td>\n",
       "      <td>(Brain_Cerebellum, Nerve_Tibial, Liver, Brain_...</td>\n",
       "    </tr>\n",
       "    <tr>\n",
       "      <th>ENSG00000000971</th>\n",
       "      <td>CFH</td>\n",
       "      <td>(Brain_Cerebellum, Nerve_Tibial, Brain_Hippoca...</td>\n",
       "    </tr>\n",
       "    <tr>\n",
       "      <th>ENSG00000001084</th>\n",
       "      <td>GCLC</td>\n",
       "      <td>(Brain_Cerebellum, Nerve_Tibial, Brain_Amygdal...</td>\n",
       "    </tr>\n",
       "    <tr>\n",
       "      <th>ENSG00000001167</th>\n",
       "      <td>NFYA</td>\n",
       "      <td>(Brain_Cerebellum, Nerve_Tibial, Vagina, Brain...</td>\n",
       "    </tr>\n",
       "  </tbody>\n",
       "</table>\n",
       "</div>"
      ],
      "text/plain": [
       "                gene_name                                             tissue\n",
       "gene_id                                                                     \n",
       "ENSG00000000419      DPM1       (Brain_Substantia_nigra, Brain_Hypothalamus)\n",
       "ENSG00000000938       FGR  (Brain_Cerebellum, Nerve_Tibial, Liver, Brain_...\n",
       "ENSG00000000971       CFH  (Brain_Cerebellum, Nerve_Tibial, Brain_Hippoca...\n",
       "ENSG00000001084      GCLC  (Brain_Cerebellum, Nerve_Tibial, Brain_Amygdal...\n",
       "ENSG00000001167      NFYA  (Brain_Cerebellum, Nerve_Tibial, Vagina, Brain..."
      ]
     },
     "execution_count": 82,
     "metadata": {},
     "output_type": "execute_result"
    }
   ],
   "source": [
    "spredixcan_genes_models.head()"
   ]
  },
  {
   "cell_type": "markdown",
   "id": "d1e67be9-9094-4a07-b89d-3a0815d503e6",
   "metadata": {
    "papermill": {
     "duration": 0.020571,
     "end_time": "2022-08-02T17:56:57.576612",
     "exception": false,
     "start_time": "2022-08-02T17:56:57.556041",
     "status": "completed"
    },
    "tags": []
   },
   "source": [
    "### Add number of tissues"
   ]
  },
  {
   "cell_type": "code",
   "execution_count": 83,
   "id": "b2702bdb-b3bc-48e6-9c3e-855924d9e74b",
   "metadata": {
    "execution": {
     "iopub.execute_input": "2022-08-02T17:56:57.614551Z",
     "iopub.status.busy": "2022-08-02T17:56:57.613849Z",
     "iopub.status.idle": "2022-08-02T17:56:57.628127Z",
     "shell.execute_reply": "2022-08-02T17:56:57.627474Z"
    },
    "papermill": {
     "duration": 0.034367,
     "end_time": "2022-08-02T17:56:57.629470",
     "exception": false,
     "start_time": "2022-08-02T17:56:57.595103",
     "status": "completed"
    },
    "tags": []
   },
   "outputs": [],
   "source": [
    "spredixcan_genes_models = spredixcan_genes_models.assign(\n",
    "    n_tissues=spredixcan_genes_models[\"tissue\"].apply(len)\n",
    ")"
   ]
  },
  {
   "cell_type": "code",
   "execution_count": 84,
   "id": "4a5eb4b8-5e11-45a3-a991-0515bd83fc03",
   "metadata": {
    "execution": {
     "iopub.execute_input": "2022-08-02T17:56:57.679255Z",
     "iopub.status.busy": "2022-08-02T17:56:57.679052Z",
     "iopub.status.idle": "2022-08-02T17:56:57.696103Z",
     "shell.execute_reply": "2022-08-02T17:56:57.695472Z"
    },
    "papermill": {
     "duration": 0.049091,
     "end_time": "2022-08-02T17:56:57.697459",
     "exception": false,
     "start_time": "2022-08-02T17:56:57.648368",
     "status": "completed"
    },
    "tags": []
   },
   "outputs": [
    {
     "data": {
      "text/html": [
       "<div>\n",
       "<style scoped>\n",
       "    .dataframe tbody tr th:only-of-type {\n",
       "        vertical-align: middle;\n",
       "    }\n",
       "\n",
       "    .dataframe tbody tr th {\n",
       "        vertical-align: top;\n",
       "    }\n",
       "\n",
       "    .dataframe thead th {\n",
       "        text-align: right;\n",
       "    }\n",
       "</style>\n",
       "<table border=\"1\" class=\"dataframe\">\n",
       "  <thead>\n",
       "    <tr style=\"text-align: right;\">\n",
       "      <th></th>\n",
       "      <th>gene_name</th>\n",
       "      <th>tissue</th>\n",
       "      <th>n_tissues</th>\n",
       "    </tr>\n",
       "    <tr>\n",
       "      <th>gene_id</th>\n",
       "      <th></th>\n",
       "      <th></th>\n",
       "      <th></th>\n",
       "    </tr>\n",
       "  </thead>\n",
       "  <tbody>\n",
       "    <tr>\n",
       "      <th>ENSG00000000419</th>\n",
       "      <td>DPM1</td>\n",
       "      <td>(Brain_Substantia_nigra, Brain_Hypothalamus)</td>\n",
       "      <td>2</td>\n",
       "    </tr>\n",
       "    <tr>\n",
       "      <th>ENSG00000000938</th>\n",
       "      <td>FGR</td>\n",
       "      <td>(Brain_Cerebellum, Nerve_Tibial, Liver, Brain_...</td>\n",
       "      <td>36</td>\n",
       "    </tr>\n",
       "    <tr>\n",
       "      <th>ENSG00000000971</th>\n",
       "      <td>CFH</td>\n",
       "      <td>(Brain_Cerebellum, Nerve_Tibial, Brain_Hippoca...</td>\n",
       "      <td>34</td>\n",
       "    </tr>\n",
       "    <tr>\n",
       "      <th>ENSG00000001084</th>\n",
       "      <td>GCLC</td>\n",
       "      <td>(Brain_Cerebellum, Nerve_Tibial, Brain_Amygdal...</td>\n",
       "      <td>32</td>\n",
       "    </tr>\n",
       "    <tr>\n",
       "      <th>ENSG00000001167</th>\n",
       "      <td>NFYA</td>\n",
       "      <td>(Brain_Cerebellum, Nerve_Tibial, Vagina, Brain...</td>\n",
       "      <td>40</td>\n",
       "    </tr>\n",
       "  </tbody>\n",
       "</table>\n",
       "</div>"
      ],
      "text/plain": [
       "                gene_name                                             tissue  \\\n",
       "gene_id                                                                        \n",
       "ENSG00000000419      DPM1       (Brain_Substantia_nigra, Brain_Hypothalamus)   \n",
       "ENSG00000000938       FGR  (Brain_Cerebellum, Nerve_Tibial, Liver, Brain_...   \n",
       "ENSG00000000971       CFH  (Brain_Cerebellum, Nerve_Tibial, Brain_Hippoca...   \n",
       "ENSG00000001084      GCLC  (Brain_Cerebellum, Nerve_Tibial, Brain_Amygdal...   \n",
       "ENSG00000001167      NFYA  (Brain_Cerebellum, Nerve_Tibial, Vagina, Brain...   \n",
       "\n",
       "                 n_tissues  \n",
       "gene_id                     \n",
       "ENSG00000000419          2  \n",
       "ENSG00000000938         36  \n",
       "ENSG00000000971         34  \n",
       "ENSG00000001084         32  \n",
       "ENSG00000001167         40  "
      ]
     },
     "execution_count": 84,
     "metadata": {},
     "output_type": "execute_result"
    }
   ],
   "source": [
    "spredixcan_genes_models.head()"
   ]
  },
  {
   "cell_type": "markdown",
   "id": "850c554f-2ace-40a3-a33a-477246bb07c7",
   "metadata": {
    "papermill": {
     "duration": 0.018501,
     "end_time": "2022-08-02T17:56:57.735245",
     "exception": false,
     "start_time": "2022-08-02T17:56:57.716744",
     "status": "completed"
    },
    "tags": []
   },
   "source": [
    "### Get gene's objects"
   ]
  },
  {
   "cell_type": "code",
   "execution_count": 85,
   "id": "dfd93711-5c91-4cb6-8561-f366e270b6b1",
   "metadata": {
    "execution": {
     "iopub.execute_input": "2022-08-02T17:56:57.772291Z",
     "iopub.status.busy": "2022-08-02T17:56:57.772087Z",
     "iopub.status.idle": "2022-08-02T17:56:57.794409Z",
     "shell.execute_reply": "2022-08-02T17:56:57.793795Z"
    },
    "papermill": {
     "duration": 0.042419,
     "end_time": "2022-08-02T17:56:57.795836",
     "exception": false,
     "start_time": "2022-08-02T17:56:57.753417",
     "status": "completed"
    },
    "tags": []
   },
   "outputs": [],
   "source": [
    "spredixcan_gene_obj = {\n",
    "    gene_id: Gene(ensembl_id=gene_id) for gene_id in spredixcan_genes_models.index\n",
    "}"
   ]
  },
  {
   "cell_type": "code",
   "execution_count": 86,
   "id": "59efbedc-0b5d-4d0b-bd82-95e74c0ba793",
   "metadata": {
    "execution": {
     "iopub.execute_input": "2022-08-02T17:56:57.835665Z",
     "iopub.status.busy": "2022-08-02T17:56:57.835434Z",
     "iopub.status.idle": "2022-08-02T17:56:57.848119Z",
     "shell.execute_reply": "2022-08-02T17:56:57.847517Z"
    },
    "papermill": {
     "duration": 0.033648,
     "end_time": "2022-08-02T17:56:57.849326",
     "exception": false,
     "start_time": "2022-08-02T17:56:57.815678",
     "status": "completed"
    },
    "tags": []
   },
   "outputs": [
    {
     "data": {
      "text/plain": [
       "6444"
      ]
     },
     "execution_count": 86,
     "metadata": {},
     "output_type": "execute_result"
    }
   ],
   "source": [
    "len(spredixcan_gene_obj)"
   ]
  },
  {
   "cell_type": "markdown",
   "id": "27ac1828-755a-424a-b416-6aef1f0c2e45",
   "metadata": {
    "papermill": {
     "duration": 0.018442,
     "end_time": "2022-08-02T17:56:57.887029",
     "exception": false,
     "start_time": "2022-08-02T17:56:57.868587",
     "status": "completed"
    },
    "tags": []
   },
   "source": [
    "### Add genes' variance captured by principal components"
   ]
  },
  {
   "cell_type": "code",
   "execution_count": 87,
   "id": "893b3418-054c-44d2-9ce0-7fa590aef00e",
   "metadata": {
    "execution": {
     "iopub.execute_input": "2022-08-02T17:56:57.924357Z",
     "iopub.status.busy": "2022-08-02T17:56:57.924155Z",
     "iopub.status.idle": "2022-08-02T17:56:57.936870Z",
     "shell.execute_reply": "2022-08-02T17:56:57.936394Z"
    },
    "papermill": {
     "duration": 0.032825,
     "end_time": "2022-08-02T17:56:57.938135",
     "exception": false,
     "start_time": "2022-08-02T17:56:57.905310",
     "status": "completed"
    },
    "tags": []
   },
   "outputs": [],
   "source": [
    "def _get_gene_pc_variance(gene_row):\n",
    "    gene_id = gene_row.name\n",
    "    gene_tissues = gene_row[\"tissue\"]\n",
    "    gene_obj = spredixcan_gene_obj[gene_id]\n",
    "\n",
    "    u, s, vt = gene_obj.get_tissues_correlations_svd(\n",
    "        tissues=gene_tissues,\n",
    "        snps_subset=gwas_variants_ids_set,\n",
    "        reference_panel=REFERENCE_PANEL,\n",
    "        model_type=EQTL_MODEL,\n",
    "        # use_covariance_matrix=True,\n",
    "    )\n",
    "\n",
    "    return s"
   ]
  },
  {
   "cell_type": "code",
   "execution_count": 88,
   "id": "083afa33-cea0-40d3-af20-94a1307a6607",
   "metadata": {
    "execution": {
     "iopub.execute_input": "2022-08-02T17:56:57.975685Z",
     "iopub.status.busy": "2022-08-02T17:56:57.975439Z",
     "iopub.status.idle": "2022-08-02T17:57:00.436138Z",
     "shell.execute_reply": "2022-08-02T17:57:00.435477Z"
    },
    "papermill": {
     "duration": 2.481054,
     "end_time": "2022-08-02T17:57:00.437533",
     "exception": false,
     "start_time": "2022-08-02T17:56:57.956479",
     "status": "completed"
    },
    "tags": []
   },
   "outputs": [
    {
     "data": {
      "text/plain": [
       "array([34.04228543,  4.46235102,  2.10095291,  2.01662842,  1.39383852])"
      ]
     },
     "execution_count": 88,
     "metadata": {},
     "output_type": "execute_result"
    }
   ],
   "source": [
    "_tmp = spredixcan_genes_models.loc[\"ENSG00000188976\"]\n",
    "_get_gene_pc_variance(_tmp)"
   ]
  },
  {
   "cell_type": "code",
   "execution_count": 89,
   "id": "80f7720d-79c9-4183-bb7e-b1480f31ed87",
   "metadata": {
    "execution": {
     "iopub.execute_input": "2022-08-02T17:57:00.493390Z",
     "iopub.status.busy": "2022-08-02T17:57:00.493202Z",
     "iopub.status.idle": "2022-08-02T19:01:13.838000Z",
     "shell.execute_reply": "2022-08-02T19:01:13.837391Z"
    },
    "papermill": {
     "duration": 3853.377424,
     "end_time": "2022-08-02T19:01:13.839386",
     "exception": false,
     "start_time": "2022-08-02T17:57:00.461962",
     "status": "completed"
    },
    "tags": []
   },
   "outputs": [],
   "source": [
    "spredixcan_genes_tissues_pc_variance = spredixcan_genes_models.apply(\n",
    "    _get_gene_pc_variance, axis=1\n",
    ")"
   ]
  },
  {
   "cell_type": "code",
   "execution_count": 90,
   "id": "621302a1-1407-4400-9282-e37798bb18b3",
   "metadata": {
    "execution": {
     "iopub.execute_input": "2022-08-02T19:01:13.878632Z",
     "iopub.status.busy": "2022-08-02T19:01:13.878424Z",
     "iopub.status.idle": "2022-08-02T19:01:13.893619Z",
     "shell.execute_reply": "2022-08-02T19:01:13.892977Z"
    },
    "papermill": {
     "duration": 0.035455,
     "end_time": "2022-08-02T19:01:13.894815",
     "exception": false,
     "start_time": "2022-08-02T19:01:13.859360",
     "status": "completed"
    },
    "tags": []
   },
   "outputs": [
    {
     "data": {
      "text/plain": [
       "gene_id\n",
       "ENSG00000000419             [1.0372585612589562, 0.9627414387410438]\n",
       "ENSG00000000938    [30.57880701512375, 2.029732645600111, 1.40179...\n",
       "ENSG00000000971    [20.77260827663932, 8.17715814232484, 1.864649...\n",
       "ENSG00000001084    [20.976449940269084, 4.772354749306766, 2.2362...\n",
       "ENSG00000001167                                 [37.638369782404986]\n",
       "                                         ...                        \n",
       "ENSG00000278540    [30.328184601716906, 3.2291618901090966, 1.385...\n",
       "ENSG00000278828             [3.0532062168877383, 0.9467937831122617]\n",
       "ENSG00000278845               [45.59203528866773, 2.289944011540382]\n",
       "ENSG00000281005                                 [48.392246935540605]\n",
       "ENSG00000282608    [22.226039467557186, 6.465743613747886, 2.7570...\n",
       "Length: 6444, dtype: object"
      ]
     },
     "execution_count": 90,
     "metadata": {},
     "output_type": "execute_result"
    }
   ],
   "source": [
    "spredixcan_genes_tissues_pc_variance"
   ]
  },
  {
   "cell_type": "code",
   "execution_count": 91,
   "id": "9ac9e0fb-e0cc-4fea-ad01-2e76d40afb3c",
   "metadata": {
    "execution": {
     "iopub.execute_input": "2022-08-02T19:01:13.933606Z",
     "iopub.status.busy": "2022-08-02T19:01:13.933399Z",
     "iopub.status.idle": "2022-08-02T19:01:13.946033Z",
     "shell.execute_reply": "2022-08-02T19:01:13.945529Z"
    },
    "papermill": {
     "duration": 0.033406,
     "end_time": "2022-08-02T19:01:13.947435",
     "exception": false,
     "start_time": "2022-08-02T19:01:13.914029",
     "status": "completed"
    },
    "tags": []
   },
   "outputs": [],
   "source": [
    "# # testing\n",
    "# assert spredixcan_genes_tissues_pc_variance.loc[\n",
    "#     \"ENSG00000188976\"\n",
    "# ].sum() == pytest.approx(44.01605629086847)\n",
    "# # this is using the covariance:\n",
    "# # assert spredixcan_genes_tissues_pc_variance.loc[\"ENSG00000188976\"].sum() == pytest.approx(1.1492946006449425)"
   ]
  },
  {
   "cell_type": "code",
   "execution_count": 92,
   "id": "700ed8c8-16e3-4f44-80ff-a4355349ac26",
   "metadata": {
    "execution": {
     "iopub.execute_input": "2022-08-02T19:01:13.986783Z",
     "iopub.status.busy": "2022-08-02T19:01:13.986579Z",
     "iopub.status.idle": "2022-08-02T19:01:14.001285Z",
     "shell.execute_reply": "2022-08-02T19:01:14.000771Z"
    },
    "papermill": {
     "duration": 0.035842,
     "end_time": "2022-08-02T19:01:14.002675",
     "exception": false,
     "start_time": "2022-08-02T19:01:13.966833",
     "status": "completed"
    },
    "tags": []
   },
   "outputs": [],
   "source": [
    "# add to spredixcan_genes_models\n",
    "spredixcan_genes_models = spredixcan_genes_models.join(\n",
    "    spredixcan_genes_tissues_pc_variance.rename(\"tissues_pc_variances\")\n",
    ")"
   ]
  },
  {
   "cell_type": "code",
   "execution_count": 93,
   "id": "597f7dff-2425-490d-84d6-537f8bd0f147",
   "metadata": {
    "execution": {
     "iopub.execute_input": "2022-08-02T19:01:14.052392Z",
     "iopub.status.busy": "2022-08-02T19:01:14.052201Z",
     "iopub.status.idle": "2022-08-02T19:01:14.067266Z",
     "shell.execute_reply": "2022-08-02T19:01:14.066665Z"
    },
    "papermill": {
     "duration": 0.042076,
     "end_time": "2022-08-02T19:01:14.068669",
     "exception": false,
     "start_time": "2022-08-02T19:01:14.026593",
     "status": "completed"
    },
    "tags": []
   },
   "outputs": [
    {
     "data": {
      "text/plain": [
       "(6444, 4)"
      ]
     },
     "execution_count": 93,
     "metadata": {},
     "output_type": "execute_result"
    }
   ],
   "source": [
    "spredixcan_genes_models.shape"
   ]
  },
  {
   "cell_type": "code",
   "execution_count": 94,
   "id": "41bdb249-f7e3-4b07-a534-2c3e46db72dc",
   "metadata": {
    "execution": {
     "iopub.execute_input": "2022-08-02T19:01:14.111778Z",
     "iopub.status.busy": "2022-08-02T19:01:14.111514Z",
     "iopub.status.idle": "2022-08-02T19:01:14.130669Z",
     "shell.execute_reply": "2022-08-02T19:01:14.129947Z"
    },
    "papermill": {
     "duration": 0.041018,
     "end_time": "2022-08-02T19:01:14.131967",
     "exception": false,
     "start_time": "2022-08-02T19:01:14.090949",
     "status": "completed"
    },
    "tags": []
   },
   "outputs": [
    {
     "data": {
      "text/html": [
       "<div>\n",
       "<style scoped>\n",
       "    .dataframe tbody tr th:only-of-type {\n",
       "        vertical-align: middle;\n",
       "    }\n",
       "\n",
       "    .dataframe tbody tr th {\n",
       "        vertical-align: top;\n",
       "    }\n",
       "\n",
       "    .dataframe thead th {\n",
       "        text-align: right;\n",
       "    }\n",
       "</style>\n",
       "<table border=\"1\" class=\"dataframe\">\n",
       "  <thead>\n",
       "    <tr style=\"text-align: right;\">\n",
       "      <th></th>\n",
       "      <th>gene_name</th>\n",
       "      <th>tissue</th>\n",
       "      <th>n_tissues</th>\n",
       "      <th>tissues_pc_variances</th>\n",
       "    </tr>\n",
       "    <tr>\n",
       "      <th>gene_id</th>\n",
       "      <th></th>\n",
       "      <th></th>\n",
       "      <th></th>\n",
       "      <th></th>\n",
       "    </tr>\n",
       "  </thead>\n",
       "  <tbody>\n",
       "    <tr>\n",
       "      <th>ENSG00000000419</th>\n",
       "      <td>DPM1</td>\n",
       "      <td>(Brain_Substantia_nigra, Brain_Hypothalamus)</td>\n",
       "      <td>2</td>\n",
       "      <td>[1.0372585612589562, 0.9627414387410438]</td>\n",
       "    </tr>\n",
       "    <tr>\n",
       "      <th>ENSG00000000938</th>\n",
       "      <td>FGR</td>\n",
       "      <td>(Brain_Cerebellum, Nerve_Tibial, Liver, Brain_...</td>\n",
       "      <td>36</td>\n",
       "      <td>[30.57880701512375, 2.029732645600111, 1.40179...</td>\n",
       "    </tr>\n",
       "    <tr>\n",
       "      <th>ENSG00000000971</th>\n",
       "      <td>CFH</td>\n",
       "      <td>(Brain_Cerebellum, Nerve_Tibial, Brain_Hippoca...</td>\n",
       "      <td>34</td>\n",
       "      <td>[20.77260827663932, 8.17715814232484, 1.864649...</td>\n",
       "    </tr>\n",
       "    <tr>\n",
       "      <th>ENSG00000001084</th>\n",
       "      <td>GCLC</td>\n",
       "      <td>(Brain_Cerebellum, Nerve_Tibial, Brain_Amygdal...</td>\n",
       "      <td>32</td>\n",
       "      <td>[20.976449940269084, 4.772354749306766, 2.2362...</td>\n",
       "    </tr>\n",
       "    <tr>\n",
       "      <th>ENSG00000001167</th>\n",
       "      <td>NFYA</td>\n",
       "      <td>(Brain_Cerebellum, Nerve_Tibial, Vagina, Brain...</td>\n",
       "      <td>40</td>\n",
       "      <td>[37.638369782404986]</td>\n",
       "    </tr>\n",
       "  </tbody>\n",
       "</table>\n",
       "</div>"
      ],
      "text/plain": [
       "                gene_name                                             tissue  \\\n",
       "gene_id                                                                        \n",
       "ENSG00000000419      DPM1       (Brain_Substantia_nigra, Brain_Hypothalamus)   \n",
       "ENSG00000000938       FGR  (Brain_Cerebellum, Nerve_Tibial, Liver, Brain_...   \n",
       "ENSG00000000971       CFH  (Brain_Cerebellum, Nerve_Tibial, Brain_Hippoca...   \n",
       "ENSG00000001084      GCLC  (Brain_Cerebellum, Nerve_Tibial, Brain_Amygdal...   \n",
       "ENSG00000001167      NFYA  (Brain_Cerebellum, Nerve_Tibial, Vagina, Brain...   \n",
       "\n",
       "                 n_tissues                               tissues_pc_variances  \n",
       "gene_id                                                                        \n",
       "ENSG00000000419          2           [1.0372585612589562, 0.9627414387410438]  \n",
       "ENSG00000000938         36  [30.57880701512375, 2.029732645600111, 1.40179...  \n",
       "ENSG00000000971         34  [20.77260827663932, 8.17715814232484, 1.864649...  \n",
       "ENSG00000001084         32  [20.976449940269084, 4.772354749306766, 2.2362...  \n",
       "ENSG00000001167         40                               [37.638369782404986]  "
      ]
     },
     "execution_count": 94,
     "metadata": {},
     "output_type": "execute_result"
    }
   ],
   "source": [
    "spredixcan_genes_models.head()"
   ]
  },
  {
   "cell_type": "markdown",
   "id": "e58c08e2-6179-4d47-af1e-4f5e6e048d9d",
   "metadata": {
    "papermill": {
     "duration": 0.019369,
     "end_time": "2022-08-02T19:01:14.171296",
     "exception": false,
     "start_time": "2022-08-02T19:01:14.151927",
     "status": "completed"
    },
    "tags": []
   },
   "source": [
    "### Add genes' variance captured by principal components (covariance)"
   ]
  },
  {
   "cell_type": "code",
   "execution_count": 95,
   "id": "25a97b2a-8044-4de7-b532-7b6516d2b82c",
   "metadata": {
    "execution": {
     "iopub.execute_input": "2022-08-02T19:01:14.209998Z",
     "iopub.status.busy": "2022-08-02T19:01:14.209766Z",
     "iopub.status.idle": "2022-08-02T19:01:14.222896Z",
     "shell.execute_reply": "2022-08-02T19:01:14.222374Z"
    },
    "papermill": {
     "duration": 0.034189,
     "end_time": "2022-08-02T19:01:14.224183",
     "exception": false,
     "start_time": "2022-08-02T19:01:14.189994",
     "status": "completed"
    },
    "tags": []
   },
   "outputs": [],
   "source": [
    "def _get_gene_pc_variance(gene_row):\n",
    "    gene_id = gene_row.name\n",
    "    gene_tissues = gene_row[\"tissue\"]\n",
    "    gene_obj = spredixcan_gene_obj[gene_id]\n",
    "\n",
    "    u, s, vt = gene_obj.get_tissues_correlations_svd(\n",
    "        tissues=gene_tissues,\n",
    "        snps_subset=gwas_variants_ids_set,\n",
    "        reference_panel=REFERENCE_PANEL,\n",
    "        model_type=EQTL_MODEL,\n",
    "        use_covariance_matrix=True,\n",
    "    )\n",
    "\n",
    "    return s"
   ]
  },
  {
   "cell_type": "code",
   "execution_count": 96,
   "id": "f750ce3c-3bea-49d6-beca-9f609ae69b87",
   "metadata": {
    "execution": {
     "iopub.execute_input": "2022-08-02T19:01:14.263683Z",
     "iopub.status.busy": "2022-08-02T19:01:14.263488Z",
     "iopub.status.idle": "2022-08-02T19:01:14.620096Z",
     "shell.execute_reply": "2022-08-02T19:01:14.619511Z"
    },
    "papermill": {
     "duration": 0.377894,
     "end_time": "2022-08-02T19:01:14.621319",
     "exception": false,
     "start_time": "2022-08-02T19:01:14.243425",
     "status": "completed"
    },
    "tags": []
   },
   "outputs": [
    {
     "data": {
      "text/plain": [
       "array([0.99215632, 0.1187998 , 0.03833847])"
      ]
     },
     "execution_count": 96,
     "metadata": {},
     "output_type": "execute_result"
    }
   ],
   "source": [
    "_tmp = spredixcan_genes_models.loc[\"ENSG00000188976\"]\n",
    "_get_gene_pc_variance(_tmp)"
   ]
  },
  {
   "cell_type": "code",
   "execution_count": 97,
   "id": "6502c9ff-8f64-46f9-b94f-9a4a0f6736ba",
   "metadata": {
    "execution": {
     "iopub.execute_input": "2022-08-02T19:01:14.661993Z",
     "iopub.status.busy": "2022-08-02T19:01:14.661805Z",
     "iopub.status.idle": "2022-08-02T20:06:24.660459Z",
     "shell.execute_reply": "2022-08-02T20:06:24.659926Z"
    },
    "papermill": {
     "duration": 3910.02059,
     "end_time": "2022-08-02T20:06:24.661832",
     "exception": false,
     "start_time": "2022-08-02T19:01:14.641242",
     "status": "completed"
    },
    "tags": []
   },
   "outputs": [],
   "source": [
    "spredixcan_genes_tissues_pc_variance = spredixcan_genes_models.apply(\n",
    "    _get_gene_pc_variance, axis=1\n",
    ")"
   ]
  },
  {
   "cell_type": "code",
   "execution_count": 98,
   "id": "a647f47b-6663-4bab-9ffc-c2e92b93c654",
   "metadata": {
    "execution": {
     "iopub.execute_input": "2022-08-02T20:06:24.712160Z",
     "iopub.status.busy": "2022-08-02T20:06:24.711981Z",
     "iopub.status.idle": "2022-08-02T20:06:24.728370Z",
     "shell.execute_reply": "2022-08-02T20:06:24.727798Z"
    },
    "papermill": {
     "duration": 0.043045,
     "end_time": "2022-08-02T20:06:24.729791",
     "exception": false,
     "start_time": "2022-08-02T20:06:24.686746",
     "status": "completed"
    },
    "tags": []
   },
   "outputs": [
    {
     "data": {
      "text/plain": [
       "gene_id\n",
       "ENSG00000000419         [0.008284978865240098, 0.000732674839341259]\n",
       "ENSG00000000938           [0.22478471249969334, 0.00881387381303179]\n",
       "ENSG00000000971    [0.19699534279580108, 0.05731825316349161, 0.0...\n",
       "ENSG00000001084    [0.36578096389253945, 0.12645413710424552, 0.0...\n",
       "ENSG00000001167           [1.4787144508923995, 0.049690618387739104]\n",
       "                                         ...                        \n",
       "ENSG00000278540          [0.12964331457191372, 0.012149255372479937]\n",
       "ENSG00000278828        [0.003898458282701283, 0.0024822589593948893]\n",
       "ENSG00000278845            [1.0985436416424625, 0.04839888608750838]\n",
       "ENSG00000281005                                   [3.75031191955603]\n",
       "ENSG00000282608    [0.23852663455925402, 0.03489695664731046, 0.0...\n",
       "Length: 6444, dtype: object"
      ]
     },
     "execution_count": 98,
     "metadata": {},
     "output_type": "execute_result"
    }
   ],
   "source": [
    "spredixcan_genes_tissues_pc_variance"
   ]
  },
  {
   "cell_type": "code",
   "execution_count": 99,
   "id": "6a8d4099-1dca-4d11-a9b8-5a1119885329",
   "metadata": {
    "execution": {
     "iopub.execute_input": "2022-08-02T20:06:24.806303Z",
     "iopub.status.busy": "2022-08-02T20:06:24.805814Z",
     "iopub.status.idle": "2022-08-02T20:06:24.819091Z",
     "shell.execute_reply": "2022-08-02T20:06:24.818556Z"
    },
    "papermill": {
     "duration": 0.039724,
     "end_time": "2022-08-02T20:06:24.820485",
     "exception": false,
     "start_time": "2022-08-02T20:06:24.780761",
     "status": "completed"
    },
    "tags": []
   },
   "outputs": [],
   "source": [
    "# # testing\n",
    "# # assert spredixcan_genes_tissues_pc_variance.loc[\"ENSG00000188976\"].sum() == pytest.approx(44.01605629086847)\n",
    "# # this is using the covariance:\n",
    "# assert spredixcan_genes_tissues_pc_variance.loc[\n",
    "#     \"ENSG00000188976\"\n",
    "# ].sum() == pytest.approx(1.1492946006449425)"
   ]
  },
  {
   "cell_type": "code",
   "execution_count": 100,
   "id": "102ed25d-6c0c-466d-be27-e75a3f03a4bb",
   "metadata": {
    "execution": {
     "iopub.execute_input": "2022-08-02T20:06:24.864606Z",
     "iopub.status.busy": "2022-08-02T20:06:24.864398Z",
     "iopub.status.idle": "2022-08-02T20:06:24.879351Z",
     "shell.execute_reply": "2022-08-02T20:06:24.878761Z"
    },
    "papermill": {
     "duration": 0.0378,
     "end_time": "2022-08-02T20:06:24.880769",
     "exception": false,
     "start_time": "2022-08-02T20:06:24.842969",
     "status": "completed"
    },
    "tags": []
   },
   "outputs": [],
   "source": [
    "# add to spredixcan_genes_models\n",
    "spredixcan_genes_models = spredixcan_genes_models.join(\n",
    "    spredixcan_genes_tissues_pc_variance.rename(\"tissues_pc_variances_cov\")\n",
    ")"
   ]
  },
  {
   "cell_type": "code",
   "execution_count": 101,
   "id": "000d6517-dc14-42a2-88ef-5e6856b293b7",
   "metadata": {
    "execution": {
     "iopub.execute_input": "2022-08-02T20:06:24.923662Z",
     "iopub.status.busy": "2022-08-02T20:06:24.923416Z",
     "iopub.status.idle": "2022-08-02T20:06:24.936985Z",
     "shell.execute_reply": "2022-08-02T20:06:24.936555Z"
    },
    "papermill": {
     "duration": 0.035667,
     "end_time": "2022-08-02T20:06:24.938114",
     "exception": false,
     "start_time": "2022-08-02T20:06:24.902447",
     "status": "completed"
    },
    "tags": []
   },
   "outputs": [
    {
     "data": {
      "text/plain": [
       "(6444, 5)"
      ]
     },
     "execution_count": 101,
     "metadata": {},
     "output_type": "execute_result"
    }
   ],
   "source": [
    "spredixcan_genes_models.shape"
   ]
  },
  {
   "cell_type": "code",
   "execution_count": 102,
   "id": "a2dd6dc7-b325-4f21-910f-6611b7d87efd",
   "metadata": {
    "execution": {
     "iopub.execute_input": "2022-08-02T20:06:24.978632Z",
     "iopub.status.busy": "2022-08-02T20:06:24.978429Z",
     "iopub.status.idle": "2022-08-02T20:06:24.998605Z",
     "shell.execute_reply": "2022-08-02T20:06:24.998028Z"
    },
    "papermill": {
     "duration": 0.042065,
     "end_time": "2022-08-02T20:06:24.999947",
     "exception": false,
     "start_time": "2022-08-02T20:06:24.957882",
     "status": "completed"
    },
    "tags": []
   },
   "outputs": [
    {
     "data": {
      "text/html": [
       "<div>\n",
       "<style scoped>\n",
       "    .dataframe tbody tr th:only-of-type {\n",
       "        vertical-align: middle;\n",
       "    }\n",
       "\n",
       "    .dataframe tbody tr th {\n",
       "        vertical-align: top;\n",
       "    }\n",
       "\n",
       "    .dataframe thead th {\n",
       "        text-align: right;\n",
       "    }\n",
       "</style>\n",
       "<table border=\"1\" class=\"dataframe\">\n",
       "  <thead>\n",
       "    <tr style=\"text-align: right;\">\n",
       "      <th></th>\n",
       "      <th>gene_name</th>\n",
       "      <th>tissue</th>\n",
       "      <th>n_tissues</th>\n",
       "      <th>tissues_pc_variances</th>\n",
       "      <th>tissues_pc_variances_cov</th>\n",
       "    </tr>\n",
       "    <tr>\n",
       "      <th>gene_id</th>\n",
       "      <th></th>\n",
       "      <th></th>\n",
       "      <th></th>\n",
       "      <th></th>\n",
       "      <th></th>\n",
       "    </tr>\n",
       "  </thead>\n",
       "  <tbody>\n",
       "    <tr>\n",
       "      <th>ENSG00000000419</th>\n",
       "      <td>DPM1</td>\n",
       "      <td>(Brain_Substantia_nigra, Brain_Hypothalamus)</td>\n",
       "      <td>2</td>\n",
       "      <td>[1.0372585612589562, 0.9627414387410438]</td>\n",
       "      <td>[0.008284978865240098, 0.000732674839341259]</td>\n",
       "    </tr>\n",
       "    <tr>\n",
       "      <th>ENSG00000000938</th>\n",
       "      <td>FGR</td>\n",
       "      <td>(Brain_Cerebellum, Nerve_Tibial, Liver, Brain_...</td>\n",
       "      <td>36</td>\n",
       "      <td>[30.57880701512375, 2.029732645600111, 1.40179...</td>\n",
       "      <td>[0.22478471249969334, 0.00881387381303179]</td>\n",
       "    </tr>\n",
       "    <tr>\n",
       "      <th>ENSG00000000971</th>\n",
       "      <td>CFH</td>\n",
       "      <td>(Brain_Cerebellum, Nerve_Tibial, Brain_Hippoca...</td>\n",
       "      <td>34</td>\n",
       "      <td>[20.77260827663932, 8.17715814232484, 1.864649...</td>\n",
       "      <td>[0.19699534279580108, 0.05731825316349161, 0.0...</td>\n",
       "    </tr>\n",
       "    <tr>\n",
       "      <th>ENSG00000001084</th>\n",
       "      <td>GCLC</td>\n",
       "      <td>(Brain_Cerebellum, Nerve_Tibial, Brain_Amygdal...</td>\n",
       "      <td>32</td>\n",
       "      <td>[20.976449940269084, 4.772354749306766, 2.2362...</td>\n",
       "      <td>[0.36578096389253945, 0.12645413710424552, 0.0...</td>\n",
       "    </tr>\n",
       "    <tr>\n",
       "      <th>ENSG00000001167</th>\n",
       "      <td>NFYA</td>\n",
       "      <td>(Brain_Cerebellum, Nerve_Tibial, Vagina, Brain...</td>\n",
       "      <td>40</td>\n",
       "      <td>[37.638369782404986]</td>\n",
       "      <td>[1.4787144508923995, 0.049690618387739104]</td>\n",
       "    </tr>\n",
       "  </tbody>\n",
       "</table>\n",
       "</div>"
      ],
      "text/plain": [
       "                gene_name                                             tissue  \\\n",
       "gene_id                                                                        \n",
       "ENSG00000000419      DPM1       (Brain_Substantia_nigra, Brain_Hypothalamus)   \n",
       "ENSG00000000938       FGR  (Brain_Cerebellum, Nerve_Tibial, Liver, Brain_...   \n",
       "ENSG00000000971       CFH  (Brain_Cerebellum, Nerve_Tibial, Brain_Hippoca...   \n",
       "ENSG00000001084      GCLC  (Brain_Cerebellum, Nerve_Tibial, Brain_Amygdal...   \n",
       "ENSG00000001167      NFYA  (Brain_Cerebellum, Nerve_Tibial, Vagina, Brain...   \n",
       "\n",
       "                 n_tissues                               tissues_pc_variances  \\\n",
       "gene_id                                                                         \n",
       "ENSG00000000419          2           [1.0372585612589562, 0.9627414387410438]   \n",
       "ENSG00000000938         36  [30.57880701512375, 2.029732645600111, 1.40179...   \n",
       "ENSG00000000971         34  [20.77260827663932, 8.17715814232484, 1.864649...   \n",
       "ENSG00000001084         32  [20.976449940269084, 4.772354749306766, 2.2362...   \n",
       "ENSG00000001167         40                               [37.638369782404986]   \n",
       "\n",
       "                                          tissues_pc_variances_cov  \n",
       "gene_id                                                             \n",
       "ENSG00000000419       [0.008284978865240098, 0.000732674839341259]  \n",
       "ENSG00000000938         [0.22478471249969334, 0.00881387381303179]  \n",
       "ENSG00000000971  [0.19699534279580108, 0.05731825316349161, 0.0...  \n",
       "ENSG00000001084  [0.36578096389253945, 0.12645413710424552, 0.0...  \n",
       "ENSG00000001167         [1.4787144508923995, 0.049690618387739104]  "
      ]
     },
     "execution_count": 102,
     "metadata": {},
     "output_type": "execute_result"
    }
   ],
   "source": [
    "spredixcan_genes_models.head()"
   ]
  },
  {
   "cell_type": "markdown",
   "id": "ef1c76d7-485b-4e8a-932e-fd01382d5520",
   "metadata": {
    "papermill": {
     "duration": 0.01954,
     "end_time": "2022-08-02T20:06:25.039490",
     "exception": false,
     "start_time": "2022-08-02T20:06:25.019950",
     "status": "completed"
    },
    "tags": []
   },
   "source": [
    "### Add gene variance per tissue"
   ]
  },
  {
   "cell_type": "code",
   "execution_count": 103,
   "id": "530f7941-6ad7-4a29-b9e4-a006949282e0",
   "metadata": {
    "execution": {
     "iopub.execute_input": "2022-08-02T20:06:25.079506Z",
     "iopub.status.busy": "2022-08-02T20:06:25.079327Z",
     "iopub.status.idle": "2022-08-02T20:06:25.092741Z",
     "shell.execute_reply": "2022-08-02T20:06:25.092140Z"
    },
    "papermill": {
     "duration": 0.035022,
     "end_time": "2022-08-02T20:06:25.094153",
     "exception": false,
     "start_time": "2022-08-02T20:06:25.059131",
     "status": "completed"
    },
    "tags": []
   },
   "outputs": [],
   "source": [
    "def _get_gene_variances(gene_row):\n",
    "    gene_id = gene_row.name\n",
    "    gene_tissues = gene_row[\"tissue\"]\n",
    "\n",
    "    tissue_variances = {}\n",
    "    gene_obj = spredixcan_gene_obj[gene_id]\n",
    "\n",
    "    for tissue in gene_tissues:\n",
    "        tissue_var = gene_obj.get_pred_expression_variance(\n",
    "            tissue=tissue,\n",
    "            reference_panel=REFERENCE_PANEL,\n",
    "            model_type=EQTL_MODEL,\n",
    "            snps_subset=gwas_variants_ids_set,\n",
    "        )\n",
    "\n",
    "        if tissue_var is not None:\n",
    "            tissue_variances[tissue] = tissue_var\n",
    "\n",
    "    return tissue_variances"
   ]
  },
  {
   "cell_type": "code",
   "execution_count": 104,
   "id": "01eb9e6a-4505-44e6-9e6e-9788e257f319",
   "metadata": {
    "execution": {
     "iopub.execute_input": "2022-08-02T20:06:25.134800Z",
     "iopub.status.busy": "2022-08-02T20:06:25.134599Z",
     "iopub.status.idle": "2022-08-02T20:06:25.149344Z",
     "shell.execute_reply": "2022-08-02T20:06:25.148894Z"
    },
    "papermill": {
     "duration": 0.036715,
     "end_time": "2022-08-02T20:06:25.150609",
     "exception": false,
     "start_time": "2022-08-02T20:06:25.113894",
     "status": "completed"
    },
    "tags": []
   },
   "outputs": [
    {
     "data": {
      "text/plain": [
       "{'Brain_Substantia_nigra': 0.0007337923275558569,\n",
       " 'Brain_Hypothalamus': 0.0082838613770255}"
      ]
     },
     "execution_count": 104,
     "metadata": {},
     "output_type": "execute_result"
    }
   ],
   "source": [
    "_tmp = spredixcan_genes_models.loc[\"ENSG00000000419\"]\n",
    "_get_gene_variances(_tmp)"
   ]
  },
  {
   "cell_type": "code",
   "execution_count": 105,
   "id": "447061ec-4847-4911-a1d6-8b86d15e4aac",
   "metadata": {
    "execution": {
     "iopub.execute_input": "2022-08-02T20:06:25.192994Z",
     "iopub.status.busy": "2022-08-02T20:06:25.192790Z",
     "iopub.status.idle": "2022-08-02T20:06:28.851033Z",
     "shell.execute_reply": "2022-08-02T20:06:28.850394Z"
    },
    "papermill": {
     "duration": 3.680837,
     "end_time": "2022-08-02T20:06:28.852648",
     "exception": false,
     "start_time": "2022-08-02T20:06:25.171811",
     "status": "completed"
    },
    "tags": []
   },
   "outputs": [],
   "source": [
    "spredixcan_genes_tissues_variance = spredixcan_genes_models.apply(\n",
    "    _get_gene_variances, axis=1\n",
    ")"
   ]
  },
  {
   "cell_type": "code",
   "execution_count": 106,
   "id": "816cbdd2-d667-4eaa-bbf7-335550854ee8",
   "metadata": {
    "execution": {
     "iopub.execute_input": "2022-08-02T20:06:28.899894Z",
     "iopub.status.busy": "2022-08-02T20:06:28.899736Z",
     "iopub.status.idle": "2022-08-02T20:06:28.916786Z",
     "shell.execute_reply": "2022-08-02T20:06:28.916137Z"
    },
    "papermill": {
     "duration": 0.040218,
     "end_time": "2022-08-02T20:06:28.918053",
     "exception": false,
     "start_time": "2022-08-02T20:06:28.877835",
     "status": "completed"
    },
    "tags": []
   },
   "outputs": [
    {
     "data": {
      "text/plain": [
       "gene_id\n",
       "ENSG00000000419    {'Brain_Substantia_nigra': 0.00073379232755585...\n",
       "ENSG00000000938    {'Brain_Cerebellum': 0.020204550992367513, 'Ne...\n",
       "ENSG00000000971    {'Brain_Cerebellum': 0.0042432870992385, 'Nerv...\n",
       "ENSG00000001084    {'Brain_Cerebellum': 0.03163805534230767, 'Ner...\n",
       "ENSG00000001167    {'Brain_Cerebellum': 0.1311467889326876, 'Nerv...\n",
       "                                         ...                        \n",
       "ENSG00000278540    {'Nerve_Tibial': 0.006060956721245078, 'Vagina...\n",
       "ENSG00000278828    {'Adipose_Visceral_Omentum': 0.000137980863985...\n",
       "ENSG00000278845    {'Brain_Cerebellum': 0.10239959885157085, 'Ner...\n",
       "ENSG00000281005    {'Brain_Cerebellum': 0.5050920625796241, 'Nerv...\n",
       "ENSG00000282608    {'Brain_Cerebellum': 0.007198006864860638, 'Ne...\n",
       "Length: 6444, dtype: object"
      ]
     },
     "execution_count": 106,
     "metadata": {},
     "output_type": "execute_result"
    }
   ],
   "source": [
    "spredixcan_genes_tissues_variance"
   ]
  },
  {
   "cell_type": "code",
   "execution_count": 107,
   "id": "68c65eb6-15c0-494d-992f-93bc84268a59",
   "metadata": {
    "execution": {
     "iopub.execute_input": "2022-08-02T20:06:28.960045Z",
     "iopub.status.busy": "2022-08-02T20:06:28.959839Z",
     "iopub.status.idle": "2022-08-02T20:06:28.971911Z",
     "shell.execute_reply": "2022-08-02T20:06:28.971415Z"
    },
    "papermill": {
     "duration": 0.034329,
     "end_time": "2022-08-02T20:06:28.973098",
     "exception": false,
     "start_time": "2022-08-02T20:06:28.938769",
     "status": "completed"
    },
    "tags": []
   },
   "outputs": [],
   "source": [
    "# # testing\n",
    "# _gene_id = \"ENSG00000188976\"\n",
    "# x = spredixcan_genes_tissues_variance.loc[_gene_id]\n",
    "# # expected value obtained by sum of PCA eigenvalues on this gene's predicted expression\n",
    "# assert np.sum(list(x.values())) == pytest.approx(1.2326202607409493)"
   ]
  },
  {
   "cell_type": "code",
   "execution_count": 108,
   "id": "1996453a-fdfc-44e9-bbdf-b83e3b3b1aee",
   "metadata": {
    "execution": {
     "iopub.execute_input": "2022-08-02T20:06:29.013972Z",
     "iopub.status.busy": "2022-08-02T20:06:29.013767Z",
     "iopub.status.idle": "2022-08-02T20:06:29.027211Z",
     "shell.execute_reply": "2022-08-02T20:06:29.026543Z"
    },
    "papermill": {
     "duration": 0.035067,
     "end_time": "2022-08-02T20:06:29.028467",
     "exception": false,
     "start_time": "2022-08-02T20:06:28.993400",
     "status": "completed"
    },
    "tags": []
   },
   "outputs": [
    {
     "data": {
      "text/plain": [
       "{'Brain_Substantia_nigra': 0.0007337923275558569,\n",
       " 'Brain_Hypothalamus': 0.0082838613770255}"
      ]
     },
     "execution_count": 108,
     "metadata": {},
     "output_type": "execute_result"
    }
   ],
   "source": [
    "# testing\n",
    "spredixcan_genes_tissues_variance.loc[\"ENSG00000000419\"]"
   ]
  },
  {
   "cell_type": "code",
   "execution_count": 109,
   "id": "62572b31-7e49-4ed0-ac1b-42552f3e264f",
   "metadata": {
    "execution": {
     "iopub.execute_input": "2022-08-02T20:06:29.070854Z",
     "iopub.status.busy": "2022-08-02T20:06:29.070066Z",
     "iopub.status.idle": "2022-08-02T20:06:29.101848Z",
     "shell.execute_reply": "2022-08-02T20:06:29.101302Z"
    },
    "papermill": {
     "duration": 0.053786,
     "end_time": "2022-08-02T20:06:29.103156",
     "exception": false,
     "start_time": "2022-08-02T20:06:29.049370",
     "status": "completed"
    },
    "tags": []
   },
   "outputs": [],
   "source": [
    "# FIXME: maybe add more tests, these differt from GTEX V8\n",
    "# # testing\n",
    "# # here values were obtained from S-PrediXcan results, where the reference panel is GTEX V8, not 1000G, so just approximations)\n",
    "# _gene_id = \"ENSG00000000419\"\n",
    "# assert spredixcan_genes_tissues_variance.loc[_gene_id][\"Brain_Substantia_nigra\"] == pytest.approx(0.0004266255268163448)\n",
    "# assert spredixcan_genes_tissues_variance.loc[_gene_id][\"Brain_Hypothalamus\"] == pytest.approx(0.011235877515236132)"
   ]
  },
  {
   "cell_type": "code",
   "execution_count": 110,
   "id": "88e42a97-801b-43a4-a829-4eaac03360b8",
   "metadata": {
    "execution": {
     "iopub.execute_input": "2022-08-02T20:06:29.143982Z",
     "iopub.status.busy": "2022-08-02T20:06:29.143773Z",
     "iopub.status.idle": "2022-08-02T20:06:29.158626Z",
     "shell.execute_reply": "2022-08-02T20:06:29.158116Z"
    },
    "papermill": {
     "duration": 0.036994,
     "end_time": "2022-08-02T20:06:29.160004",
     "exception": false,
     "start_time": "2022-08-02T20:06:29.123010",
     "status": "completed"
    },
    "tags": []
   },
   "outputs": [],
   "source": [
    "# add to spredixcan_genes_models\n",
    "spredixcan_genes_models = spredixcan_genes_models.join(\n",
    "    spredixcan_genes_tissues_variance.rename(\"tissues_variances\")\n",
    ")"
   ]
  },
  {
   "cell_type": "code",
   "execution_count": 111,
   "id": "cb177ca4-fdcb-432f-a102-9c6bd6bd7fa0",
   "metadata": {
    "execution": {
     "iopub.execute_input": "2022-08-02T20:06:29.203065Z",
     "iopub.status.busy": "2022-08-02T20:06:29.202857Z",
     "iopub.status.idle": "2022-08-02T20:06:29.215996Z",
     "shell.execute_reply": "2022-08-02T20:06:29.215490Z"
    },
    "papermill": {
     "duration": 0.035575,
     "end_time": "2022-08-02T20:06:29.217186",
     "exception": false,
     "start_time": "2022-08-02T20:06:29.181611",
     "status": "completed"
    },
    "tags": []
   },
   "outputs": [
    {
     "data": {
      "text/plain": [
       "(6444, 6)"
      ]
     },
     "execution_count": 111,
     "metadata": {},
     "output_type": "execute_result"
    }
   ],
   "source": [
    "spredixcan_genes_models.shape"
   ]
  },
  {
   "cell_type": "code",
   "execution_count": 112,
   "id": "ccabe1fa-20ae-4893-bf12-9a3359b213b8",
   "metadata": {
    "execution": {
     "iopub.execute_input": "2022-08-02T20:06:29.259038Z",
     "iopub.status.busy": "2022-08-02T20:06:29.258830Z",
     "iopub.status.idle": "2022-08-02T20:06:29.282029Z",
     "shell.execute_reply": "2022-08-02T20:06:29.281378Z"
    },
    "papermill": {
     "duration": 0.045586,
     "end_time": "2022-08-02T20:06:29.283286",
     "exception": false,
     "start_time": "2022-08-02T20:06:29.237700",
     "status": "completed"
    },
    "tags": []
   },
   "outputs": [
    {
     "data": {
      "text/html": [
       "<div>\n",
       "<style scoped>\n",
       "    .dataframe tbody tr th:only-of-type {\n",
       "        vertical-align: middle;\n",
       "    }\n",
       "\n",
       "    .dataframe tbody tr th {\n",
       "        vertical-align: top;\n",
       "    }\n",
       "\n",
       "    .dataframe thead th {\n",
       "        text-align: right;\n",
       "    }\n",
       "</style>\n",
       "<table border=\"1\" class=\"dataframe\">\n",
       "  <thead>\n",
       "    <tr style=\"text-align: right;\">\n",
       "      <th></th>\n",
       "      <th>gene_name</th>\n",
       "      <th>tissue</th>\n",
       "      <th>n_tissues</th>\n",
       "      <th>tissues_pc_variances</th>\n",
       "      <th>tissues_pc_variances_cov</th>\n",
       "      <th>tissues_variances</th>\n",
       "    </tr>\n",
       "    <tr>\n",
       "      <th>gene_id</th>\n",
       "      <th></th>\n",
       "      <th></th>\n",
       "      <th></th>\n",
       "      <th></th>\n",
       "      <th></th>\n",
       "      <th></th>\n",
       "    </tr>\n",
       "  </thead>\n",
       "  <tbody>\n",
       "    <tr>\n",
       "      <th>ENSG00000000419</th>\n",
       "      <td>DPM1</td>\n",
       "      <td>(Brain_Substantia_nigra, Brain_Hypothalamus)</td>\n",
       "      <td>2</td>\n",
       "      <td>[1.0372585612589562, 0.9627414387410438]</td>\n",
       "      <td>[0.008284978865240098, 0.000732674839341259]</td>\n",
       "      <td>{'Brain_Substantia_nigra': 0.00073379232755585...</td>\n",
       "    </tr>\n",
       "    <tr>\n",
       "      <th>ENSG00000000938</th>\n",
       "      <td>FGR</td>\n",
       "      <td>(Brain_Cerebellum, Nerve_Tibial, Liver, Brain_...</td>\n",
       "      <td>36</td>\n",
       "      <td>[30.57880701512375, 2.029732645600111, 1.40179...</td>\n",
       "      <td>[0.22478471249969334, 0.00881387381303179]</td>\n",
       "      <td>{'Brain_Cerebellum': 0.020204550992367513, 'Ne...</td>\n",
       "    </tr>\n",
       "    <tr>\n",
       "      <th>ENSG00000000971</th>\n",
       "      <td>CFH</td>\n",
       "      <td>(Brain_Cerebellum, Nerve_Tibial, Brain_Hippoca...</td>\n",
       "      <td>34</td>\n",
       "      <td>[20.77260827663932, 8.17715814232484, 1.864649...</td>\n",
       "      <td>[0.19699534279580108, 0.05731825316349161, 0.0...</td>\n",
       "      <td>{'Brain_Cerebellum': 0.0042432870992385, 'Nerv...</td>\n",
       "    </tr>\n",
       "    <tr>\n",
       "      <th>ENSG00000001084</th>\n",
       "      <td>GCLC</td>\n",
       "      <td>(Brain_Cerebellum, Nerve_Tibial, Brain_Amygdal...</td>\n",
       "      <td>32</td>\n",
       "      <td>[20.976449940269084, 4.772354749306766, 2.2362...</td>\n",
       "      <td>[0.36578096389253945, 0.12645413710424552, 0.0...</td>\n",
       "      <td>{'Brain_Cerebellum': 0.03163805534230767, 'Ner...</td>\n",
       "    </tr>\n",
       "    <tr>\n",
       "      <th>ENSG00000001167</th>\n",
       "      <td>NFYA</td>\n",
       "      <td>(Brain_Cerebellum, Nerve_Tibial, Vagina, Brain...</td>\n",
       "      <td>40</td>\n",
       "      <td>[37.638369782404986]</td>\n",
       "      <td>[1.4787144508923995, 0.049690618387739104]</td>\n",
       "      <td>{'Brain_Cerebellum': 0.1311467889326876, 'Nerv...</td>\n",
       "    </tr>\n",
       "  </tbody>\n",
       "</table>\n",
       "</div>"
      ],
      "text/plain": [
       "                gene_name                                             tissue  \\\n",
       "gene_id                                                                        \n",
       "ENSG00000000419      DPM1       (Brain_Substantia_nigra, Brain_Hypothalamus)   \n",
       "ENSG00000000938       FGR  (Brain_Cerebellum, Nerve_Tibial, Liver, Brain_...   \n",
       "ENSG00000000971       CFH  (Brain_Cerebellum, Nerve_Tibial, Brain_Hippoca...   \n",
       "ENSG00000001084      GCLC  (Brain_Cerebellum, Nerve_Tibial, Brain_Amygdal...   \n",
       "ENSG00000001167      NFYA  (Brain_Cerebellum, Nerve_Tibial, Vagina, Brain...   \n",
       "\n",
       "                 n_tissues                               tissues_pc_variances  \\\n",
       "gene_id                                                                         \n",
       "ENSG00000000419          2           [1.0372585612589562, 0.9627414387410438]   \n",
       "ENSG00000000938         36  [30.57880701512375, 2.029732645600111, 1.40179...   \n",
       "ENSG00000000971         34  [20.77260827663932, 8.17715814232484, 1.864649...   \n",
       "ENSG00000001084         32  [20.976449940269084, 4.772354749306766, 2.2362...   \n",
       "ENSG00000001167         40                               [37.638369782404986]   \n",
       "\n",
       "                                          tissues_pc_variances_cov  \\\n",
       "gene_id                                                              \n",
       "ENSG00000000419       [0.008284978865240098, 0.000732674839341259]   \n",
       "ENSG00000000938         [0.22478471249969334, 0.00881387381303179]   \n",
       "ENSG00000000971  [0.19699534279580108, 0.05731825316349161, 0.0...   \n",
       "ENSG00000001084  [0.36578096389253945, 0.12645413710424552, 0.0...   \n",
       "ENSG00000001167         [1.4787144508923995, 0.049690618387739104]   \n",
       "\n",
       "                                                 tissues_variances  \n",
       "gene_id                                                             \n",
       "ENSG00000000419  {'Brain_Substantia_nigra': 0.00073379232755585...  \n",
       "ENSG00000000938  {'Brain_Cerebellum': 0.020204550992367513, 'Ne...  \n",
       "ENSG00000000971  {'Brain_Cerebellum': 0.0042432870992385, 'Nerv...  \n",
       "ENSG00000001084  {'Brain_Cerebellum': 0.03163805534230767, 'Ner...  \n",
       "ENSG00000001167  {'Brain_Cerebellum': 0.1311467889326876, 'Nerv...  "
      ]
     },
     "execution_count": 112,
     "metadata": {},
     "output_type": "execute_result"
    }
   ],
   "source": [
    "spredixcan_genes_models.head()"
   ]
  },
  {
   "cell_type": "markdown",
   "id": "ab6ff41a-0949-4eea-abef-7dc4f0b373fc",
   "metadata": {
    "papermill": {
     "duration": 0.019912,
     "end_time": "2022-08-02T20:06:29.323999",
     "exception": false,
     "start_time": "2022-08-02T20:06:29.304087",
     "status": "completed"
    },
    "tags": []
   },
   "source": [
    "### Count number of SNPs predictors used across tissue models"
   ]
  },
  {
   "cell_type": "code",
   "execution_count": 113,
   "id": "c8f6cc6f-5812-45c9-b775-6f2193f8a360",
   "metadata": {
    "execution": {
     "iopub.execute_input": "2022-08-02T20:06:29.364755Z",
     "iopub.status.busy": "2022-08-02T20:06:29.364537Z",
     "iopub.status.idle": "2022-08-02T20:06:29.405798Z",
     "shell.execute_reply": "2022-08-02T20:06:29.405156Z"
    },
    "papermill": {
     "duration": 0.063365,
     "end_time": "2022-08-02T20:06:29.407282",
     "exception": false,
     "start_time": "2022-08-02T20:06:29.343917",
     "status": "completed"
    },
    "tags": []
   },
   "outputs": [],
   "source": [
    "spredixcan_genes_sum_of_n_snps_used = (\n",
    "    spredixcan_dfs.groupby(\"gene_id\")[\"n_snps_used\"].sum().rename(\"n_snps_used_sum\")\n",
    ")"
   ]
  },
  {
   "cell_type": "code",
   "execution_count": 114,
   "id": "7255df64-7b9f-4504-a4fa-1f2a9aa56ec0",
   "metadata": {
    "execution": {
     "iopub.execute_input": "2022-08-02T20:06:29.451172Z",
     "iopub.status.busy": "2022-08-02T20:06:29.450965Z",
     "iopub.status.idle": "2022-08-02T20:06:29.465708Z",
     "shell.execute_reply": "2022-08-02T20:06:29.465261Z"
    },
    "papermill": {
     "duration": 0.037037,
     "end_time": "2022-08-02T20:06:29.466945",
     "exception": false,
     "start_time": "2022-08-02T20:06:29.429908",
     "status": "completed"
    },
    "tags": []
   },
   "outputs": [
    {
     "data": {
      "text/plain": [
       "gene_id\n",
       "ENSG00000000419     2\n",
       "ENSG00000000938    40\n",
       "ENSG00000000971    44\n",
       "ENSG00000001084    46\n",
       "ENSG00000001167    47\n",
       "                   ..\n",
       "ENSG00000278540    44\n",
       "ENSG00000278828     5\n",
       "ENSG00000278845    89\n",
       "ENSG00000281005    81\n",
       "ENSG00000282608    40\n",
       "Name: n_snps_used_sum, Length: 6444, dtype: int64"
      ]
     },
     "execution_count": 114,
     "metadata": {},
     "output_type": "execute_result"
    }
   ],
   "source": [
    "spredixcan_genes_sum_of_n_snps_used"
   ]
  },
  {
   "cell_type": "code",
   "execution_count": 115,
   "id": "44bc1222-b334-4ce2-8997-494d0e584cf9",
   "metadata": {
    "execution": {
     "iopub.execute_input": "2022-08-02T20:06:29.510324Z",
     "iopub.status.busy": "2022-08-02T20:06:29.509607Z",
     "iopub.status.idle": "2022-08-02T20:06:29.523908Z",
     "shell.execute_reply": "2022-08-02T20:06:29.523341Z"
    },
    "papermill": {
     "duration": 0.036972,
     "end_time": "2022-08-02T20:06:29.525274",
     "exception": false,
     "start_time": "2022-08-02T20:06:29.488302",
     "status": "completed"
    },
    "tags": []
   },
   "outputs": [],
   "source": [
    "# add sum of snps used to spredixcan_genes_models\n",
    "spredixcan_genes_models = spredixcan_genes_models.join(\n",
    "    spredixcan_genes_sum_of_n_snps_used\n",
    ")"
   ]
  },
  {
   "cell_type": "code",
   "execution_count": 116,
   "id": "5e5e6d7f-b970-4f21-9322-b76bc22afd71",
   "metadata": {
    "execution": {
     "iopub.execute_input": "2022-08-02T20:06:29.568787Z",
     "iopub.status.busy": "2022-08-02T20:06:29.568581Z",
     "iopub.status.idle": "2022-08-02T20:06:29.581855Z",
     "shell.execute_reply": "2022-08-02T20:06:29.581314Z"
    },
    "papermill": {
     "duration": 0.035926,
     "end_time": "2022-08-02T20:06:29.583033",
     "exception": false,
     "start_time": "2022-08-02T20:06:29.547107",
     "status": "completed"
    },
    "tags": []
   },
   "outputs": [
    {
     "data": {
      "text/plain": [
       "(6444, 7)"
      ]
     },
     "execution_count": 116,
     "metadata": {},
     "output_type": "execute_result"
    }
   ],
   "source": [
    "spredixcan_genes_models.shape"
   ]
  },
  {
   "cell_type": "code",
   "execution_count": 117,
   "id": "22c096c2-213a-4001-8454-1633997d404f",
   "metadata": {
    "execution": {
     "iopub.execute_input": "2022-08-02T20:06:29.625079Z",
     "iopub.status.busy": "2022-08-02T20:06:29.624873Z",
     "iopub.status.idle": "2022-08-02T20:06:29.648678Z",
     "shell.execute_reply": "2022-08-02T20:06:29.648102Z"
    },
    "papermill": {
     "duration": 0.046199,
     "end_time": "2022-08-02T20:06:29.649886",
     "exception": false,
     "start_time": "2022-08-02T20:06:29.603687",
     "status": "completed"
    },
    "tags": []
   },
   "outputs": [
    {
     "data": {
      "text/html": [
       "<div>\n",
       "<style scoped>\n",
       "    .dataframe tbody tr th:only-of-type {\n",
       "        vertical-align: middle;\n",
       "    }\n",
       "\n",
       "    .dataframe tbody tr th {\n",
       "        vertical-align: top;\n",
       "    }\n",
       "\n",
       "    .dataframe thead th {\n",
       "        text-align: right;\n",
       "    }\n",
       "</style>\n",
       "<table border=\"1\" class=\"dataframe\">\n",
       "  <thead>\n",
       "    <tr style=\"text-align: right;\">\n",
       "      <th></th>\n",
       "      <th>gene_name</th>\n",
       "      <th>tissue</th>\n",
       "      <th>n_tissues</th>\n",
       "      <th>tissues_pc_variances</th>\n",
       "      <th>tissues_pc_variances_cov</th>\n",
       "      <th>tissues_variances</th>\n",
       "      <th>n_snps_used_sum</th>\n",
       "    </tr>\n",
       "    <tr>\n",
       "      <th>gene_id</th>\n",
       "      <th></th>\n",
       "      <th></th>\n",
       "      <th></th>\n",
       "      <th></th>\n",
       "      <th></th>\n",
       "      <th></th>\n",
       "      <th></th>\n",
       "    </tr>\n",
       "  </thead>\n",
       "  <tbody>\n",
       "    <tr>\n",
       "      <th>ENSG00000000419</th>\n",
       "      <td>DPM1</td>\n",
       "      <td>(Brain_Substantia_nigra, Brain_Hypothalamus)</td>\n",
       "      <td>2</td>\n",
       "      <td>[1.0372585612589562, 0.9627414387410438]</td>\n",
       "      <td>[0.008284978865240098, 0.000732674839341259]</td>\n",
       "      <td>{'Brain_Substantia_nigra': 0.00073379232755585...</td>\n",
       "      <td>2</td>\n",
       "    </tr>\n",
       "    <tr>\n",
       "      <th>ENSG00000000938</th>\n",
       "      <td>FGR</td>\n",
       "      <td>(Brain_Cerebellum, Nerve_Tibial, Liver, Brain_...</td>\n",
       "      <td>36</td>\n",
       "      <td>[30.57880701512375, 2.029732645600111, 1.40179...</td>\n",
       "      <td>[0.22478471249969334, 0.00881387381303179]</td>\n",
       "      <td>{'Brain_Cerebellum': 0.020204550992367513, 'Ne...</td>\n",
       "      <td>40</td>\n",
       "    </tr>\n",
       "    <tr>\n",
       "      <th>ENSG00000000971</th>\n",
       "      <td>CFH</td>\n",
       "      <td>(Brain_Cerebellum, Nerve_Tibial, Brain_Hippoca...</td>\n",
       "      <td>34</td>\n",
       "      <td>[20.77260827663932, 8.17715814232484, 1.864649...</td>\n",
       "      <td>[0.19699534279580108, 0.05731825316349161, 0.0...</td>\n",
       "      <td>{'Brain_Cerebellum': 0.0042432870992385, 'Nerv...</td>\n",
       "      <td>44</td>\n",
       "    </tr>\n",
       "    <tr>\n",
       "      <th>ENSG00000001084</th>\n",
       "      <td>GCLC</td>\n",
       "      <td>(Brain_Cerebellum, Nerve_Tibial, Brain_Amygdal...</td>\n",
       "      <td>32</td>\n",
       "      <td>[20.976449940269084, 4.772354749306766, 2.2362...</td>\n",
       "      <td>[0.36578096389253945, 0.12645413710424552, 0.0...</td>\n",
       "      <td>{'Brain_Cerebellum': 0.03163805534230767, 'Ner...</td>\n",
       "      <td>46</td>\n",
       "    </tr>\n",
       "    <tr>\n",
       "      <th>ENSG00000001167</th>\n",
       "      <td>NFYA</td>\n",
       "      <td>(Brain_Cerebellum, Nerve_Tibial, Vagina, Brain...</td>\n",
       "      <td>40</td>\n",
       "      <td>[37.638369782404986]</td>\n",
       "      <td>[1.4787144508923995, 0.049690618387739104]</td>\n",
       "      <td>{'Brain_Cerebellum': 0.1311467889326876, 'Nerv...</td>\n",
       "      <td>47</td>\n",
       "    </tr>\n",
       "  </tbody>\n",
       "</table>\n",
       "</div>"
      ],
      "text/plain": [
       "                gene_name                                             tissue  \\\n",
       "gene_id                                                                        \n",
       "ENSG00000000419      DPM1       (Brain_Substantia_nigra, Brain_Hypothalamus)   \n",
       "ENSG00000000938       FGR  (Brain_Cerebellum, Nerve_Tibial, Liver, Brain_...   \n",
       "ENSG00000000971       CFH  (Brain_Cerebellum, Nerve_Tibial, Brain_Hippoca...   \n",
       "ENSG00000001084      GCLC  (Brain_Cerebellum, Nerve_Tibial, Brain_Amygdal...   \n",
       "ENSG00000001167      NFYA  (Brain_Cerebellum, Nerve_Tibial, Vagina, Brain...   \n",
       "\n",
       "                 n_tissues                               tissues_pc_variances  \\\n",
       "gene_id                                                                         \n",
       "ENSG00000000419          2           [1.0372585612589562, 0.9627414387410438]   \n",
       "ENSG00000000938         36  [30.57880701512375, 2.029732645600111, 1.40179...   \n",
       "ENSG00000000971         34  [20.77260827663932, 8.17715814232484, 1.864649...   \n",
       "ENSG00000001084         32  [20.976449940269084, 4.772354749306766, 2.2362...   \n",
       "ENSG00000001167         40                               [37.638369782404986]   \n",
       "\n",
       "                                          tissues_pc_variances_cov  \\\n",
       "gene_id                                                              \n",
       "ENSG00000000419       [0.008284978865240098, 0.000732674839341259]   \n",
       "ENSG00000000938         [0.22478471249969334, 0.00881387381303179]   \n",
       "ENSG00000000971  [0.19699534279580108, 0.05731825316349161, 0.0...   \n",
       "ENSG00000001084  [0.36578096389253945, 0.12645413710424552, 0.0...   \n",
       "ENSG00000001167         [1.4787144508923995, 0.049690618387739104]   \n",
       "\n",
       "                                                 tissues_variances  \\\n",
       "gene_id                                                              \n",
       "ENSG00000000419  {'Brain_Substantia_nigra': 0.00073379232755585...   \n",
       "ENSG00000000938  {'Brain_Cerebellum': 0.020204550992367513, 'Ne...   \n",
       "ENSG00000000971  {'Brain_Cerebellum': 0.0042432870992385, 'Nerv...   \n",
       "ENSG00000001084  {'Brain_Cerebellum': 0.03163805534230767, 'Ner...   \n",
       "ENSG00000001167  {'Brain_Cerebellum': 0.1311467889326876, 'Nerv...   \n",
       "\n",
       "                 n_snps_used_sum  \n",
       "gene_id                           \n",
       "ENSG00000000419                2  \n",
       "ENSG00000000938               40  \n",
       "ENSG00000000971               44  \n",
       "ENSG00000001084               46  \n",
       "ENSG00000001167               47  "
      ]
     },
     "execution_count": 117,
     "metadata": {},
     "output_type": "execute_result"
    }
   ],
   "source": [
    "spredixcan_genes_models.head()"
   ]
  },
  {
   "cell_type": "markdown",
   "id": "f4692315-d7be-465e-b756-f6d76fec949e",
   "metadata": {
    "papermill": {
     "duration": 0.021408,
     "end_time": "2022-08-02T20:06:29.692971",
     "exception": false,
     "start_time": "2022-08-02T20:06:29.671563",
     "status": "completed"
    },
    "tags": []
   },
   "source": [
    "### Count number of SNPs predictors in models across tissue models"
   ]
  },
  {
   "cell_type": "code",
   "execution_count": 118,
   "id": "08eed385-36eb-4e42-b28e-51333f9cfcd3",
   "metadata": {
    "execution": {
     "iopub.execute_input": "2022-08-02T20:06:29.746660Z",
     "iopub.status.busy": "2022-08-02T20:06:29.746402Z",
     "iopub.status.idle": "2022-08-02T20:06:29.787011Z",
     "shell.execute_reply": "2022-08-02T20:06:29.786456Z"
    },
    "papermill": {
     "duration": 0.06363,
     "end_time": "2022-08-02T20:06:29.788540",
     "exception": false,
     "start_time": "2022-08-02T20:06:29.724910",
     "status": "completed"
    },
    "tags": []
   },
   "outputs": [],
   "source": [
    "spredixcan_genes_sum_of_n_snps_in_model = (\n",
    "    spredixcan_dfs.groupby(\"gene_id\")[\"n_snps_in_model\"]\n",
    "    .sum()\n",
    "    .rename(\"n_snps_in_model_sum\")\n",
    ")"
   ]
  },
  {
   "cell_type": "code",
   "execution_count": 119,
   "id": "10431f5c-1f56-4664-a09f-53c608bec631",
   "metadata": {
    "execution": {
     "iopub.execute_input": "2022-08-02T20:06:29.843594Z",
     "iopub.status.busy": "2022-08-02T20:06:29.843394Z",
     "iopub.status.idle": "2022-08-02T20:06:29.859771Z",
     "shell.execute_reply": "2022-08-02T20:06:29.859182Z"
    },
    "papermill": {
     "duration": 0.045084,
     "end_time": "2022-08-02T20:06:29.861098",
     "exception": false,
     "start_time": "2022-08-02T20:06:29.816014",
     "status": "completed"
    },
    "tags": []
   },
   "outputs": [
    {
     "data": {
      "text/plain": [
       "gene_id\n",
       "ENSG00000000419     2\n",
       "ENSG00000000938    40\n",
       "ENSG00000000971    44\n",
       "ENSG00000001084    46\n",
       "ENSG00000001167    48\n",
       "                   ..\n",
       "ENSG00000278540    44\n",
       "ENSG00000278828     5\n",
       "ENSG00000278845    91\n",
       "ENSG00000281005    81\n",
       "ENSG00000282608    40\n",
       "Name: n_snps_in_model_sum, Length: 6444, dtype: int64"
      ]
     },
     "execution_count": 119,
     "metadata": {},
     "output_type": "execute_result"
    }
   ],
   "source": [
    "spredixcan_genes_sum_of_n_snps_in_model"
   ]
  },
  {
   "cell_type": "code",
   "execution_count": 120,
   "id": "d13e1d65-0dcb-4a94-aba8-bcdcd09d17c3",
   "metadata": {
    "execution": {
     "iopub.execute_input": "2022-08-02T20:06:29.908224Z",
     "iopub.status.busy": "2022-08-02T20:06:29.908015Z",
     "iopub.status.idle": "2022-08-02T20:06:29.922557Z",
     "shell.execute_reply": "2022-08-02T20:06:29.922045Z"
    },
    "papermill": {
     "duration": 0.03765,
     "end_time": "2022-08-02T20:06:29.923958",
     "exception": false,
     "start_time": "2022-08-02T20:06:29.886308",
     "status": "completed"
    },
    "tags": []
   },
   "outputs": [],
   "source": [
    "# add sum of snps in model to spredixcan_genes_models\n",
    "spredixcan_genes_models = spredixcan_genes_models.join(\n",
    "    spredixcan_genes_sum_of_n_snps_in_model\n",
    ")"
   ]
  },
  {
   "cell_type": "code",
   "execution_count": 121,
   "id": "0d3973d8-5da2-4c9d-b406-2525f615035c",
   "metadata": {
    "execution": {
     "iopub.execute_input": "2022-08-02T20:06:29.968168Z",
     "iopub.status.busy": "2022-08-02T20:06:29.967961Z",
     "iopub.status.idle": "2022-08-02T20:06:29.981082Z",
     "shell.execute_reply": "2022-08-02T20:06:29.980581Z"
    },
    "papermill": {
     "duration": 0.036284,
     "end_time": "2022-08-02T20:06:29.982320",
     "exception": false,
     "start_time": "2022-08-02T20:06:29.946036",
     "status": "completed"
    },
    "tags": []
   },
   "outputs": [
    {
     "data": {
      "text/plain": [
       "(6444, 8)"
      ]
     },
     "execution_count": 121,
     "metadata": {},
     "output_type": "execute_result"
    }
   ],
   "source": [
    "spredixcan_genes_models.shape"
   ]
  },
  {
   "cell_type": "code",
   "execution_count": 122,
   "id": "76c27f05-c5c6-4ed9-9363-fcba871a3572",
   "metadata": {
    "execution": {
     "iopub.execute_input": "2022-08-02T20:06:30.026140Z",
     "iopub.status.busy": "2022-08-02T20:06:30.025936Z",
     "iopub.status.idle": "2022-08-02T20:06:30.050648Z",
     "shell.execute_reply": "2022-08-02T20:06:30.049870Z"
    },
    "papermill": {
     "duration": 0.047652,
     "end_time": "2022-08-02T20:06:30.051889",
     "exception": false,
     "start_time": "2022-08-02T20:06:30.004237",
     "status": "completed"
    },
    "tags": []
   },
   "outputs": [
    {
     "data": {
      "text/html": [
       "<div>\n",
       "<style scoped>\n",
       "    .dataframe tbody tr th:only-of-type {\n",
       "        vertical-align: middle;\n",
       "    }\n",
       "\n",
       "    .dataframe tbody tr th {\n",
       "        vertical-align: top;\n",
       "    }\n",
       "\n",
       "    .dataframe thead th {\n",
       "        text-align: right;\n",
       "    }\n",
       "</style>\n",
       "<table border=\"1\" class=\"dataframe\">\n",
       "  <thead>\n",
       "    <tr style=\"text-align: right;\">\n",
       "      <th></th>\n",
       "      <th>gene_name</th>\n",
       "      <th>tissue</th>\n",
       "      <th>n_tissues</th>\n",
       "      <th>tissues_pc_variances</th>\n",
       "      <th>tissues_pc_variances_cov</th>\n",
       "      <th>tissues_variances</th>\n",
       "      <th>n_snps_used_sum</th>\n",
       "      <th>n_snps_in_model_sum</th>\n",
       "    </tr>\n",
       "    <tr>\n",
       "      <th>gene_id</th>\n",
       "      <th></th>\n",
       "      <th></th>\n",
       "      <th></th>\n",
       "      <th></th>\n",
       "      <th></th>\n",
       "      <th></th>\n",
       "      <th></th>\n",
       "      <th></th>\n",
       "    </tr>\n",
       "  </thead>\n",
       "  <tbody>\n",
       "    <tr>\n",
       "      <th>ENSG00000000419</th>\n",
       "      <td>DPM1</td>\n",
       "      <td>(Brain_Substantia_nigra, Brain_Hypothalamus)</td>\n",
       "      <td>2</td>\n",
       "      <td>[1.0372585612589562, 0.9627414387410438]</td>\n",
       "      <td>[0.008284978865240098, 0.000732674839341259]</td>\n",
       "      <td>{'Brain_Substantia_nigra': 0.00073379232755585...</td>\n",
       "      <td>2</td>\n",
       "      <td>2</td>\n",
       "    </tr>\n",
       "    <tr>\n",
       "      <th>ENSG00000000938</th>\n",
       "      <td>FGR</td>\n",
       "      <td>(Brain_Cerebellum, Nerve_Tibial, Liver, Brain_...</td>\n",
       "      <td>36</td>\n",
       "      <td>[30.57880701512375, 2.029732645600111, 1.40179...</td>\n",
       "      <td>[0.22478471249969334, 0.00881387381303179]</td>\n",
       "      <td>{'Brain_Cerebellum': 0.020204550992367513, 'Ne...</td>\n",
       "      <td>40</td>\n",
       "      <td>40</td>\n",
       "    </tr>\n",
       "    <tr>\n",
       "      <th>ENSG00000000971</th>\n",
       "      <td>CFH</td>\n",
       "      <td>(Brain_Cerebellum, Nerve_Tibial, Brain_Hippoca...</td>\n",
       "      <td>34</td>\n",
       "      <td>[20.77260827663932, 8.17715814232484, 1.864649...</td>\n",
       "      <td>[0.19699534279580108, 0.05731825316349161, 0.0...</td>\n",
       "      <td>{'Brain_Cerebellum': 0.0042432870992385, 'Nerv...</td>\n",
       "      <td>44</td>\n",
       "      <td>44</td>\n",
       "    </tr>\n",
       "    <tr>\n",
       "      <th>ENSG00000001084</th>\n",
       "      <td>GCLC</td>\n",
       "      <td>(Brain_Cerebellum, Nerve_Tibial, Brain_Amygdal...</td>\n",
       "      <td>32</td>\n",
       "      <td>[20.976449940269084, 4.772354749306766, 2.2362...</td>\n",
       "      <td>[0.36578096389253945, 0.12645413710424552, 0.0...</td>\n",
       "      <td>{'Brain_Cerebellum': 0.03163805534230767, 'Ner...</td>\n",
       "      <td>46</td>\n",
       "      <td>46</td>\n",
       "    </tr>\n",
       "    <tr>\n",
       "      <th>ENSG00000001167</th>\n",
       "      <td>NFYA</td>\n",
       "      <td>(Brain_Cerebellum, Nerve_Tibial, Vagina, Brain...</td>\n",
       "      <td>40</td>\n",
       "      <td>[37.638369782404986]</td>\n",
       "      <td>[1.4787144508923995, 0.049690618387739104]</td>\n",
       "      <td>{'Brain_Cerebellum': 0.1311467889326876, 'Nerv...</td>\n",
       "      <td>47</td>\n",
       "      <td>48</td>\n",
       "    </tr>\n",
       "  </tbody>\n",
       "</table>\n",
       "</div>"
      ],
      "text/plain": [
       "                gene_name                                             tissue  \\\n",
       "gene_id                                                                        \n",
       "ENSG00000000419      DPM1       (Brain_Substantia_nigra, Brain_Hypothalamus)   \n",
       "ENSG00000000938       FGR  (Brain_Cerebellum, Nerve_Tibial, Liver, Brain_...   \n",
       "ENSG00000000971       CFH  (Brain_Cerebellum, Nerve_Tibial, Brain_Hippoca...   \n",
       "ENSG00000001084      GCLC  (Brain_Cerebellum, Nerve_Tibial, Brain_Amygdal...   \n",
       "ENSG00000001167      NFYA  (Brain_Cerebellum, Nerve_Tibial, Vagina, Brain...   \n",
       "\n",
       "                 n_tissues                               tissues_pc_variances  \\\n",
       "gene_id                                                                         \n",
       "ENSG00000000419          2           [1.0372585612589562, 0.9627414387410438]   \n",
       "ENSG00000000938         36  [30.57880701512375, 2.029732645600111, 1.40179...   \n",
       "ENSG00000000971         34  [20.77260827663932, 8.17715814232484, 1.864649...   \n",
       "ENSG00000001084         32  [20.976449940269084, 4.772354749306766, 2.2362...   \n",
       "ENSG00000001167         40                               [37.638369782404986]   \n",
       "\n",
       "                                          tissues_pc_variances_cov  \\\n",
       "gene_id                                                              \n",
       "ENSG00000000419       [0.008284978865240098, 0.000732674839341259]   \n",
       "ENSG00000000938         [0.22478471249969334, 0.00881387381303179]   \n",
       "ENSG00000000971  [0.19699534279580108, 0.05731825316349161, 0.0...   \n",
       "ENSG00000001084  [0.36578096389253945, 0.12645413710424552, 0.0...   \n",
       "ENSG00000001167         [1.4787144508923995, 0.049690618387739104]   \n",
       "\n",
       "                                                 tissues_variances  \\\n",
       "gene_id                                                              \n",
       "ENSG00000000419  {'Brain_Substantia_nigra': 0.00073379232755585...   \n",
       "ENSG00000000938  {'Brain_Cerebellum': 0.020204550992367513, 'Ne...   \n",
       "ENSG00000000971  {'Brain_Cerebellum': 0.0042432870992385, 'Nerv...   \n",
       "ENSG00000001084  {'Brain_Cerebellum': 0.03163805534230767, 'Ner...   \n",
       "ENSG00000001167  {'Brain_Cerebellum': 0.1311467889326876, 'Nerv...   \n",
       "\n",
       "                 n_snps_used_sum  n_snps_in_model_sum  \n",
       "gene_id                                                \n",
       "ENSG00000000419                2                    2  \n",
       "ENSG00000000938               40                   40  \n",
       "ENSG00000000971               44                   44  \n",
       "ENSG00000001084               46                   46  \n",
       "ENSG00000001167               47                   48  "
      ]
     },
     "execution_count": 122,
     "metadata": {},
     "output_type": "execute_result"
    }
   ],
   "source": [
    "spredixcan_genes_models.head()"
   ]
  },
  {
   "cell_type": "markdown",
   "id": "e9f61a50-a5b5-4c85-9dec-3ceaaf65c61d",
   "metadata": {
    "papermill": {
     "duration": 0.021064,
     "end_time": "2022-08-02T20:06:30.095079",
     "exception": false,
     "start_time": "2022-08-02T20:06:30.074015",
     "status": "completed"
    },
    "tags": []
   },
   "source": [
    "### Summarize prediction models for each gene"
   ]
  },
  {
   "cell_type": "code",
   "execution_count": 123,
   "id": "4f44928f-b401-4abb-ac00-3b15b2746504",
   "metadata": {
    "execution": {
     "iopub.execute_input": "2022-08-02T20:06:30.143586Z",
     "iopub.status.busy": "2022-08-02T20:06:30.143127Z",
     "iopub.status.idle": "2022-08-02T20:06:30.166327Z",
     "shell.execute_reply": "2022-08-02T20:06:30.165716Z"
    },
    "papermill": {
     "duration": 0.051462,
     "end_time": "2022-08-02T20:06:30.167783",
     "exception": false,
     "start_time": "2022-08-02T20:06:30.116321",
     "status": "completed"
    },
    "tags": []
   },
   "outputs": [],
   "source": [
    "def _summarize_gene_models(gene_id):\n",
    "    \"\"\"\n",
    "    For a given gene ID, it returns a dataframe with predictor SNPs in rows and tissues in columns, where\n",
    "    values are the weights of SNPs in those tissues.\n",
    "    It can contain NaNs.\n",
    "    \"\"\"\n",
    "    gene_obj = spredixcan_gene_obj[gene_id]\n",
    "    gene_tissues = spredixcan_genes_models.loc[gene_id, \"tissue\"]\n",
    "\n",
    "    gene_models = {}\n",
    "    gene_unique_snps = set()\n",
    "    for t in gene_tissues:\n",
    "        gene_model = gene_obj.get_prediction_weights(tissue=t, model_type=EQTL_MODEL)\n",
    "        gene_models[t] = gene_model\n",
    "\n",
    "        gene_unique_snps.update(set(gene_model.index))\n",
    "\n",
    "    df = pd.DataFrame(\n",
    "        data=np.nan, index=list(gene_unique_snps), columns=list(gene_tissues)\n",
    "    )\n",
    "\n",
    "    for t in df.columns:\n",
    "        for snp in df.index:\n",
    "            gene_model = gene_models[t]\n",
    "\n",
    "            if snp in gene_model.index:\n",
    "                df.loc[snp, t] = gene_model.loc[snp]\n",
    "\n",
    "    return df"
   ]
  },
  {
   "cell_type": "code",
   "execution_count": 124,
   "id": "71bb0b5a-fe44-4076-91df-d8077ff85c71",
   "metadata": {
    "execution": {
     "iopub.execute_input": "2022-08-02T20:06:30.211476Z",
     "iopub.status.busy": "2022-08-02T20:06:30.211297Z",
     "iopub.status.idle": "2022-08-02T20:06:30.229463Z",
     "shell.execute_reply": "2022-08-02T20:06:30.229030Z"
    },
    "papermill": {
     "duration": 0.041323,
     "end_time": "2022-08-02T20:06:30.230635",
     "exception": false,
     "start_time": "2022-08-02T20:06:30.189312",
     "status": "completed"
    },
    "tags": []
   },
   "outputs": [
    {
     "data": {
      "text/plain": [
       "varID\n",
       "chr20_50862947_C_T_b38    0.431375\n",
       "Name: weight, dtype: float64"
      ]
     },
     "execution_count": 124,
     "metadata": {},
     "output_type": "execute_result"
    }
   ],
   "source": [
    "# testing\n",
    "spredixcan_gene_obj[\"ENSG00000000419\"].get_prediction_weights(\n",
    "    tissue=\"Brain_Hypothalamus\", model_type=EQTL_MODEL\n",
    ")"
   ]
  },
  {
   "cell_type": "code",
   "execution_count": 125,
   "id": "ad18b2d9-f585-445b-a809-bd694d417a8a",
   "metadata": {
    "execution": {
     "iopub.execute_input": "2022-08-02T20:06:30.274272Z",
     "iopub.status.busy": "2022-08-02T20:06:30.274091Z",
     "iopub.status.idle": "2022-08-02T20:06:30.291347Z",
     "shell.execute_reply": "2022-08-02T20:06:30.290843Z"
    },
    "papermill": {
     "duration": 0.040354,
     "end_time": "2022-08-02T20:06:30.292520",
     "exception": false,
     "start_time": "2022-08-02T20:06:30.252166",
     "status": "completed"
    },
    "tags": []
   },
   "outputs": [
    {
     "data": {
      "text/plain": [
       "varID\n",
       "chr20_50957480_C_T_b38   -0.146796\n",
       "Name: weight, dtype: float64"
      ]
     },
     "execution_count": 125,
     "metadata": {},
     "output_type": "execute_result"
    }
   ],
   "source": [
    "spredixcan_gene_obj[\"ENSG00000000419\"].get_prediction_weights(\n",
    "    tissue=\"Brain_Substantia_nigra\", model_type=EQTL_MODEL\n",
    ")"
   ]
  },
  {
   "cell_type": "code",
   "execution_count": 126,
   "id": "82ef5dec-283c-44ee-a118-b28d87a5b298",
   "metadata": {
    "execution": {
     "iopub.execute_input": "2022-08-02T20:06:30.336892Z",
     "iopub.status.busy": "2022-08-02T20:06:30.336700Z",
     "iopub.status.idle": "2022-08-02T20:06:30.349169Z",
     "shell.execute_reply": "2022-08-02T20:06:30.348706Z"
    },
    "papermill": {
     "duration": 0.035631,
     "end_time": "2022-08-02T20:06:30.350341",
     "exception": false,
     "start_time": "2022-08-02T20:06:30.314710",
     "status": "completed"
    },
    "tags": []
   },
   "outputs": [],
   "source": [
    "# # testing\n",
    "# _gene_id = \"ENSG00000000419\"\n",
    "\n",
    "# _gene_model = _summarize_gene_models(_gene_id)\n",
    "# assert (\n",
    "#     _gene_model.loc[\"chr20_50862947_C_T_b38\", \"Brain_Hypothalamus\"].round(5) == 0.43138\n",
    "# )\n",
    "# assert pd.isnull(_gene_model.loc[\"chr20_50957480_C_T_b38\", \"Brain_Hypothalamus\"])\n",
    "\n",
    "# assert pd.isnull(_gene_model.loc[\"chr20_50862947_C_T_b38\", \"Brain_Substantia_nigra\"])\n",
    "# assert (\n",
    "#     _gene_model.loc[\"chr20_50957480_C_T_b38\", \"Brain_Substantia_nigra\"].round(5)\n",
    "#     == -0.1468\n",
    "# )"
   ]
  },
  {
   "cell_type": "code",
   "execution_count": 127,
   "id": "134a7533-69e8-4858-8763-1fd45cbdec77",
   "metadata": {
    "execution": {
     "iopub.execute_input": "2022-08-02T20:06:30.394701Z",
     "iopub.status.busy": "2022-08-02T20:06:30.394496Z",
     "iopub.status.idle": "2022-08-02T20:20:37.798394Z",
     "shell.execute_reply": "2022-08-02T20:20:37.797816Z"
    },
    "papermill": {
     "duration": 847.427683,
     "end_time": "2022-08-02T20:20:37.799893",
     "exception": false,
     "start_time": "2022-08-02T20:06:30.372210",
     "status": "completed"
    },
    "tags": []
   },
   "outputs": [],
   "source": [
    "gene_models = {}\n",
    "\n",
    "for gene_id in spredixcan_genes_models.index:\n",
    "    gene_models[gene_id] = _summarize_gene_models(gene_id)"
   ]
  },
  {
   "cell_type": "code",
   "execution_count": 128,
   "id": "97117dc0-0476-4e7b-98cb-6738dbb28c8a",
   "metadata": {
    "execution": {
     "iopub.execute_input": "2022-08-02T20:20:37.855525Z",
     "iopub.status.busy": "2022-08-02T20:20:37.855021Z",
     "iopub.status.idle": "2022-08-02T20:20:37.868056Z",
     "shell.execute_reply": "2022-08-02T20:20:37.867484Z"
    },
    "papermill": {
     "duration": 0.042212,
     "end_time": "2022-08-02T20:20:37.869442",
     "exception": false,
     "start_time": "2022-08-02T20:20:37.827230",
     "status": "completed"
    },
    "tags": []
   },
   "outputs": [],
   "source": [
    "# # testing\n",
    "# _gene_id = \"ENSG00000000419\"\n",
    "\n",
    "# _gene_model = gene_models[_gene_id]\n",
    "# assert (\n",
    "#     _gene_model.loc[\"chr20_50862947_C_T_b38\", \"Brain_Hypothalamus\"].round(5) == 0.43138\n",
    "# )\n",
    "# assert pd.isnull(_gene_model.loc[\"chr20_50957480_C_T_b38\", \"Brain_Hypothalamus\"])\n",
    "\n",
    "# assert pd.isnull(_gene_model.loc[\"chr20_50862947_C_T_b38\", \"Brain_Substantia_nigra\"])\n",
    "# assert (\n",
    "#     _gene_model.loc[\"chr20_50957480_C_T_b38\", \"Brain_Substantia_nigra\"].round(5)\n",
    "#     == -0.1468\n",
    "# )"
   ]
  },
  {
   "cell_type": "code",
   "execution_count": 129,
   "id": "806cd4a5-51b1-4ed3-8aa3-4970c128ccff",
   "metadata": {
    "execution": {
     "iopub.execute_input": "2022-08-02T20:20:37.916317Z",
     "iopub.status.busy": "2022-08-02T20:20:37.916093Z",
     "iopub.status.idle": "2022-08-02T20:20:40.509146Z",
     "shell.execute_reply": "2022-08-02T20:20:40.508476Z"
    },
    "papermill": {
     "duration": 2.616742,
     "end_time": "2022-08-02T20:20:40.510670",
     "exception": false,
     "start_time": "2022-08-02T20:20:37.893928",
     "status": "completed"
    },
    "tags": []
   },
   "outputs": [],
   "source": [
    "# save\n",
    "import gzip\n",
    "\n",
    "with gzip.GzipFile(OUTPUT_DIR_BASE / \"gene_tissues_models.pkl.gz\", \"w\") as f:\n",
    "    pickle.dump(gene_models, f)"
   ]
  },
  {
   "cell_type": "code",
   "execution_count": 130,
   "id": "a12a9597-dd0a-40a0-9a42-f288af22e0d2",
   "metadata": {
    "execution": {
     "iopub.execute_input": "2022-08-02T20:20:40.563289Z",
     "iopub.status.busy": "2022-08-02T20:20:40.563119Z",
     "iopub.status.idle": "2022-08-02T20:20:42.040695Z",
     "shell.execute_reply": "2022-08-02T20:20:42.040108Z"
    },
    "papermill": {
     "duration": 1.504476,
     "end_time": "2022-08-02T20:20:42.042212",
     "exception": false,
     "start_time": "2022-08-02T20:20:40.537736",
     "status": "completed"
    },
    "tags": []
   },
   "outputs": [],
   "source": [
    "# testing saved file\n",
    "with gzip.GzipFile(OUTPUT_DIR_BASE / \"gene_tissues_models.pkl.gz\", \"r\") as f:\n",
    "    _tmp = pickle.load(f)"
   ]
  },
  {
   "cell_type": "code",
   "execution_count": 131,
   "id": "a90a8f83-75db-4f73-8f1a-7e0563ba3685",
   "metadata": {
    "execution": {
     "iopub.execute_input": "2022-08-02T20:20:42.092625Z",
     "iopub.status.busy": "2022-08-02T20:20:42.092432Z",
     "iopub.status.idle": "2022-08-02T20:20:42.104753Z",
     "shell.execute_reply": "2022-08-02T20:20:42.104160Z"
    },
    "papermill": {
     "duration": 0.037145,
     "end_time": "2022-08-02T20:20:42.106036",
     "exception": false,
     "start_time": "2022-08-02T20:20:42.068891",
     "status": "completed"
    },
    "tags": []
   },
   "outputs": [],
   "source": [
    "assert len(gene_models) == len(_tmp)\n",
    "assert gene_models[\"ENSG00000000419\"].equals(_tmp[\"ENSG00000000419\"])"
   ]
  },
  {
   "cell_type": "markdown",
   "id": "a147f3a8-4efd-457b-9581-00cbfacd4b3d",
   "metadata": {
    "papermill": {
     "duration": 0.021439,
     "end_time": "2022-08-02T20:20:42.150668",
     "exception": false,
     "start_time": "2022-08-02T20:20:42.129229",
     "status": "completed"
    },
    "tags": []
   },
   "source": [
    "### Count number of _unique_ SNPs predictors used and available across tissue models"
   ]
  },
  {
   "cell_type": "code",
   "execution_count": 132,
   "id": "38d5bc57-3c25-4abe-93bd-09bbe200f2ef",
   "metadata": {
    "execution": {
     "iopub.execute_input": "2022-08-02T20:20:42.194507Z",
     "iopub.status.busy": "2022-08-02T20:20:42.194285Z",
     "iopub.status.idle": "2022-08-02T20:20:42.207998Z",
     "shell.execute_reply": "2022-08-02T20:20:42.207474Z"
    },
    "papermill": {
     "duration": 0.037056,
     "end_time": "2022-08-02T20:20:42.209202",
     "exception": false,
     "start_time": "2022-08-02T20:20:42.172146",
     "status": "completed"
    },
    "tags": []
   },
   "outputs": [],
   "source": [
    "def _count_unique_snps(gene_id):\n",
    "    \"\"\"\n",
    "    For a gene_id, it counts unique SNPs in all models and their intersection with GWAS SNPs (therefore, used by S-PrediXcan).\n",
    "    \"\"\"\n",
    "    gene_tissues = spredixcan_genes_models.loc[gene_id, \"tissue\"]\n",
    "\n",
    "    gene_unique_snps = set()\n",
    "    for t in gene_tissues:\n",
    "        t_snps = set(gene_models[gene_id].index)\n",
    "        gene_unique_snps.update(t_snps)\n",
    "\n",
    "    gene_unique_snps_in_gwas = gwas_variants_ids_set.intersection(gene_unique_snps)\n",
    "\n",
    "    return pd.Series(\n",
    "        {\n",
    "            \"unique_n_snps_in_model\": len(gene_unique_snps),\n",
    "            \"unique_n_snps_used\": len(gene_unique_snps_in_gwas),\n",
    "        }\n",
    "    )"
   ]
  },
  {
   "cell_type": "code",
   "execution_count": 133,
   "id": "059c6e02-67e2-4376-a3e5-b815070779c9",
   "metadata": {
    "execution": {
     "iopub.execute_input": "2022-08-02T20:20:42.253415Z",
     "iopub.status.busy": "2022-08-02T20:20:42.253208Z",
     "iopub.status.idle": "2022-08-02T20:20:42.276801Z",
     "shell.execute_reply": "2022-08-02T20:20:42.276185Z"
    },
    "papermill": {
     "duration": 0.046926,
     "end_time": "2022-08-02T20:20:42.278047",
     "exception": false,
     "start_time": "2022-08-02T20:20:42.231121",
     "status": "completed"
    },
    "tags": []
   },
   "outputs": [
    {
     "data": {
      "text/html": [
       "<div>\n",
       "<style scoped>\n",
       "    .dataframe tbody tr th:only-of-type {\n",
       "        vertical-align: middle;\n",
       "    }\n",
       "\n",
       "    .dataframe tbody tr th {\n",
       "        vertical-align: top;\n",
       "    }\n",
       "\n",
       "    .dataframe thead th {\n",
       "        text-align: right;\n",
       "    }\n",
       "</style>\n",
       "<table border=\"1\" class=\"dataframe\">\n",
       "  <thead>\n",
       "    <tr style=\"text-align: right;\">\n",
       "      <th></th>\n",
       "      <th>gene_name</th>\n",
       "      <th>tissue</th>\n",
       "      <th>n_tissues</th>\n",
       "      <th>tissues_pc_variances</th>\n",
       "      <th>tissues_pc_variances_cov</th>\n",
       "      <th>tissues_variances</th>\n",
       "      <th>n_snps_used_sum</th>\n",
       "      <th>n_snps_in_model_sum</th>\n",
       "    </tr>\n",
       "    <tr>\n",
       "      <th>gene_id</th>\n",
       "      <th></th>\n",
       "      <th></th>\n",
       "      <th></th>\n",
       "      <th></th>\n",
       "      <th></th>\n",
       "      <th></th>\n",
       "      <th></th>\n",
       "      <th></th>\n",
       "    </tr>\n",
       "  </thead>\n",
       "  <tbody>\n",
       "    <tr>\n",
       "      <th>ENSG00000000419</th>\n",
       "      <td>DPM1</td>\n",
       "      <td>(Brain_Substantia_nigra, Brain_Hypothalamus)</td>\n",
       "      <td>2</td>\n",
       "      <td>[1.0372585612589562, 0.9627414387410438]</td>\n",
       "      <td>[0.008284978865240098, 0.000732674839341259]</td>\n",
       "      <td>{'Brain_Substantia_nigra': 0.00073379232755585...</td>\n",
       "      <td>2</td>\n",
       "      <td>2</td>\n",
       "    </tr>\n",
       "    <tr>\n",
       "      <th>ENSG00000010256</th>\n",
       "      <td>UQCRC1</td>\n",
       "      <td>(Thyroid, Whole_Blood)</td>\n",
       "      <td>2</td>\n",
       "      <td>[1.0093689729110555, 0.9906310270889445]</td>\n",
       "      <td>[0.0009273176884979874, 0.00020344782573448428]</td>\n",
       "      <td>{'Thyroid': 0.0009272948084506859, 'Whole_Bloo...</td>\n",
       "      <td>2</td>\n",
       "      <td>2</td>\n",
       "    </tr>\n",
       "    <tr>\n",
       "      <th>ENSG00000017427</th>\n",
       "      <td>IGF1</td>\n",
       "      <td>(Brain_Amygdala, Testis)</td>\n",
       "      <td>2</td>\n",
       "      <td>[1.0771380046097814, 0.9228619953902187]</td>\n",
       "      <td>[0.00902934458441735, 0.004240396755557003]</td>\n",
       "      <td>{'Brain_Amygdala': 0.008980998878714942, 'Test...</td>\n",
       "      <td>2</td>\n",
       "      <td>2</td>\n",
       "    </tr>\n",
       "    <tr>\n",
       "      <th>ENSG00000043093</th>\n",
       "      <td>DCUN1D1</td>\n",
       "      <td>(Esophagus_Gastroesophageal_Junction, Esophagu...</td>\n",
       "      <td>2</td>\n",
       "      <td>[1.3868202090634627, 0.6131797909365372]</td>\n",
       "      <td>[0.0004918171518042509, 0.00015146433378921626]</td>\n",
       "      <td>{'Esophagus_Gastroesophageal_Junction': 0.0001...</td>\n",
       "      <td>2</td>\n",
       "      <td>2</td>\n",
       "    </tr>\n",
       "    <tr>\n",
       "      <th>ENSG00000081377</th>\n",
       "      <td>CDC14B</td>\n",
       "      <td>(Muscle_Skeletal, Brain_Nucleus_accumbens_basa...</td>\n",
       "      <td>2</td>\n",
       "      <td>[1.0605267240586365, 0.9394732759413637]</td>\n",
       "      <td>[0.014269778064730796, 0.008102106779328003]</td>\n",
       "      <td>{'Muscle_Skeletal': 0.008171820631792033, 'Bra...</td>\n",
       "      <td>2</td>\n",
       "      <td>2</td>\n",
       "    </tr>\n",
       "  </tbody>\n",
       "</table>\n",
       "</div>"
      ],
      "text/plain": [
       "                gene_name                                             tissue  \\\n",
       "gene_id                                                                        \n",
       "ENSG00000000419      DPM1       (Brain_Substantia_nigra, Brain_Hypothalamus)   \n",
       "ENSG00000010256    UQCRC1                             (Thyroid, Whole_Blood)   \n",
       "ENSG00000017427      IGF1                           (Brain_Amygdala, Testis)   \n",
       "ENSG00000043093   DCUN1D1  (Esophagus_Gastroesophageal_Junction, Esophagu...   \n",
       "ENSG00000081377    CDC14B  (Muscle_Skeletal, Brain_Nucleus_accumbens_basa...   \n",
       "\n",
       "                 n_tissues                      tissues_pc_variances  \\\n",
       "gene_id                                                                \n",
       "ENSG00000000419          2  [1.0372585612589562, 0.9627414387410438]   \n",
       "ENSG00000010256          2  [1.0093689729110555, 0.9906310270889445]   \n",
       "ENSG00000017427          2  [1.0771380046097814, 0.9228619953902187]   \n",
       "ENSG00000043093          2  [1.3868202090634627, 0.6131797909365372]   \n",
       "ENSG00000081377          2  [1.0605267240586365, 0.9394732759413637]   \n",
       "\n",
       "                                        tissues_pc_variances_cov  \\\n",
       "gene_id                                                            \n",
       "ENSG00000000419     [0.008284978865240098, 0.000732674839341259]   \n",
       "ENSG00000010256  [0.0009273176884979874, 0.00020344782573448428]   \n",
       "ENSG00000017427      [0.00902934458441735, 0.004240396755557003]   \n",
       "ENSG00000043093  [0.0004918171518042509, 0.00015146433378921626]   \n",
       "ENSG00000081377     [0.014269778064730796, 0.008102106779328003]   \n",
       "\n",
       "                                                 tissues_variances  \\\n",
       "gene_id                                                              \n",
       "ENSG00000000419  {'Brain_Substantia_nigra': 0.00073379232755585...   \n",
       "ENSG00000010256  {'Thyroid': 0.0009272948084506859, 'Whole_Bloo...   \n",
       "ENSG00000017427  {'Brain_Amygdala': 0.008980998878714942, 'Test...   \n",
       "ENSG00000043093  {'Esophagus_Gastroesophageal_Junction': 0.0001...   \n",
       "ENSG00000081377  {'Muscle_Skeletal': 0.008171820631792033, 'Bra...   \n",
       "\n",
       "                 n_snps_used_sum  n_snps_in_model_sum  \n",
       "gene_id                                                \n",
       "ENSG00000000419                2                    2  \n",
       "ENSG00000010256                2                    2  \n",
       "ENSG00000017427                2                    2  \n",
       "ENSG00000043093                2                    2  \n",
       "ENSG00000081377                2                    2  "
      ]
     },
     "execution_count": 133,
     "metadata": {},
     "output_type": "execute_result"
    }
   ],
   "source": [
    "# testing\n",
    "spredixcan_genes_models[spredixcan_genes_models[\"n_snps_used_sum\"] == 2].head()"
   ]
  },
  {
   "cell_type": "code",
   "execution_count": 134,
   "id": "4f8a444c-c3e2-4688-a50b-08481d41f614",
   "metadata": {
    "execution": {
     "iopub.execute_input": "2022-08-02T20:20:42.323380Z",
     "iopub.status.busy": "2022-08-02T20:20:42.323162Z",
     "iopub.status.idle": "2022-08-02T20:20:42.338662Z",
     "shell.execute_reply": "2022-08-02T20:20:42.338129Z"
    },
    "papermill": {
     "duration": 0.039084,
     "end_time": "2022-08-02T20:20:42.339926",
     "exception": false,
     "start_time": "2022-08-02T20:20:42.300842",
     "status": "completed"
    },
    "tags": []
   },
   "outputs": [
    {
     "data": {
      "text/plain": [
       "varID\n",
       "chr20_50862947_C_T_b38    0.431375\n",
       "Name: weight, dtype: float64"
      ]
     },
     "metadata": {},
     "output_type": "display_data"
    },
    {
     "data": {
      "text/plain": [
       "varID\n",
       "chr20_50957480_C_T_b38   -0.146796\n",
       "Name: weight, dtype: float64"
      ]
     },
     "metadata": {},
     "output_type": "display_data"
    }
   ],
   "source": [
    "# case with two snps, not repeated across tissues\n",
    "_gene_id = \"ENSG00000000419\"\n",
    "display(\n",
    "    spredixcan_gene_obj[_gene_id].get_prediction_weights(\n",
    "        tissue=\"Brain_Hypothalamus\", model_type=EQTL_MODEL\n",
    "    )\n",
    ")\n",
    "display(\n",
    "    spredixcan_gene_obj[_gene_id].get_prediction_weights(\n",
    "        tissue=\"Brain_Substantia_nigra\", model_type=EQTL_MODEL\n",
    "    )\n",
    ")"
   ]
  },
  {
   "cell_type": "code",
   "execution_count": 135,
   "id": "f835cf57-eea6-4468-aaf2-d85c8164d177",
   "metadata": {
    "execution": {
     "iopub.execute_input": "2022-08-02T20:20:42.385064Z",
     "iopub.status.busy": "2022-08-02T20:20:42.384827Z",
     "iopub.status.idle": "2022-08-02T20:20:42.396420Z",
     "shell.execute_reply": "2022-08-02T20:20:42.395853Z"
    },
    "papermill": {
     "duration": 0.035667,
     "end_time": "2022-08-02T20:20:42.397751",
     "exception": false,
     "start_time": "2022-08-02T20:20:42.362084",
     "status": "completed"
    },
    "tags": []
   },
   "outputs": [],
   "source": [
    "# _tmp = _count_unique_snps(_gene_id)\n",
    "# assert _tmp.shape[0] == 2\n",
    "# assert _tmp[\"unique_n_snps_in_model\"] == 2\n",
    "# assert _tmp[\"unique_n_snps_used\"] == 2"
   ]
  },
  {
   "cell_type": "code",
   "execution_count": 136,
   "id": "520837f6-5cdd-4958-aa98-00cd1ebab484",
   "metadata": {
    "execution": {
     "iopub.execute_input": "2022-08-02T20:20:42.443142Z",
     "iopub.status.busy": "2022-08-02T20:20:42.442925Z",
     "iopub.status.idle": "2022-08-02T20:20:44.714602Z",
     "shell.execute_reply": "2022-08-02T20:20:44.713915Z"
    },
    "papermill": {
     "duration": 2.296158,
     "end_time": "2022-08-02T20:20:44.716179",
     "exception": false,
     "start_time": "2022-08-02T20:20:42.420021",
     "status": "completed"
    },
    "tags": []
   },
   "outputs": [],
   "source": [
    "# get unique snps for all genes\n",
    "spredixcan_genes_unique_n_snps = spredixcan_genes_models.groupby(\"gene_id\").apply(\n",
    "    lambda x: _count_unique_snps(x.name)\n",
    ")"
   ]
  },
  {
   "cell_type": "code",
   "execution_count": 137,
   "id": "72633373-73d7-4796-b915-06fcb18feca0",
   "metadata": {
    "execution": {
     "iopub.execute_input": "2022-08-02T20:20:44.768446Z",
     "iopub.status.busy": "2022-08-02T20:20:44.768284Z",
     "iopub.status.idle": "2022-08-02T20:20:44.783847Z",
     "shell.execute_reply": "2022-08-02T20:20:44.783203Z"
    },
    "papermill": {
     "duration": 0.041338,
     "end_time": "2022-08-02T20:20:44.785120",
     "exception": false,
     "start_time": "2022-08-02T20:20:44.743782",
     "status": "completed"
    },
    "tags": []
   },
   "outputs": [
    {
     "data": {
      "text/html": [
       "<div>\n",
       "<style scoped>\n",
       "    .dataframe tbody tr th:only-of-type {\n",
       "        vertical-align: middle;\n",
       "    }\n",
       "\n",
       "    .dataframe tbody tr th {\n",
       "        vertical-align: top;\n",
       "    }\n",
       "\n",
       "    .dataframe thead th {\n",
       "        text-align: right;\n",
       "    }\n",
       "</style>\n",
       "<table border=\"1\" class=\"dataframe\">\n",
       "  <thead>\n",
       "    <tr style=\"text-align: right;\">\n",
       "      <th></th>\n",
       "      <th>unique_n_snps_in_model</th>\n",
       "      <th>unique_n_snps_used</th>\n",
       "    </tr>\n",
       "    <tr>\n",
       "      <th>gene_id</th>\n",
       "      <th></th>\n",
       "      <th></th>\n",
       "    </tr>\n",
       "  </thead>\n",
       "  <tbody>\n",
       "    <tr>\n",
       "      <th>ENSG00000000419</th>\n",
       "      <td>2</td>\n",
       "      <td>2</td>\n",
       "    </tr>\n",
       "    <tr>\n",
       "      <th>ENSG00000000938</th>\n",
       "      <td>5</td>\n",
       "      <td>5</td>\n",
       "    </tr>\n",
       "    <tr>\n",
       "      <th>ENSG00000000971</th>\n",
       "      <td>12</td>\n",
       "      <td>12</td>\n",
       "    </tr>\n",
       "    <tr>\n",
       "      <th>ENSG00000001084</th>\n",
       "      <td>23</td>\n",
       "      <td>23</td>\n",
       "    </tr>\n",
       "    <tr>\n",
       "      <th>ENSG00000001167</th>\n",
       "      <td>14</td>\n",
       "      <td>13</td>\n",
       "    </tr>\n",
       "  </tbody>\n",
       "</table>\n",
       "</div>"
      ],
      "text/plain": [
       "                 unique_n_snps_in_model  unique_n_snps_used\n",
       "gene_id                                                    \n",
       "ENSG00000000419                       2                   2\n",
       "ENSG00000000938                       5                   5\n",
       "ENSG00000000971                      12                  12\n",
       "ENSG00000001084                      23                  23\n",
       "ENSG00000001167                      14                  13"
      ]
     },
     "execution_count": 137,
     "metadata": {},
     "output_type": "execute_result"
    }
   ],
   "source": [
    "spredixcan_genes_unique_n_snps.head()"
   ]
  },
  {
   "cell_type": "code",
   "execution_count": 138,
   "id": "3d2b6676-2168-44b8-8d02-d29b934ba2ec",
   "metadata": {
    "execution": {
     "iopub.execute_input": "2022-08-02T20:20:44.832004Z",
     "iopub.status.busy": "2022-08-02T20:20:44.831783Z",
     "iopub.status.idle": "2022-08-02T20:20:44.844822Z",
     "shell.execute_reply": "2022-08-02T20:20:44.844229Z"
    },
    "papermill": {
     "duration": 0.03676,
     "end_time": "2022-08-02T20:20:44.846113",
     "exception": false,
     "start_time": "2022-08-02T20:20:44.809353",
     "status": "completed"
    },
    "tags": []
   },
   "outputs": [],
   "source": [
    "assert (\n",
    "    spredixcan_genes_unique_n_snps[\"unique_n_snps_in_model\"]\n",
    "    >= spredixcan_genes_unique_n_snps[\"unique_n_snps_used\"]\n",
    ").all()"
   ]
  },
  {
   "cell_type": "code",
   "execution_count": 139,
   "id": "6accf2fe-93fe-4f7c-86ff-5f0ea3d17e11",
   "metadata": {
    "execution": {
     "iopub.execute_input": "2022-08-02T20:20:44.891874Z",
     "iopub.status.busy": "2022-08-02T20:20:44.891616Z",
     "iopub.status.idle": "2022-08-02T20:20:44.907684Z",
     "shell.execute_reply": "2022-08-02T20:20:44.907158Z"
    },
    "papermill": {
     "duration": 0.040302,
     "end_time": "2022-08-02T20:20:44.909130",
     "exception": false,
     "start_time": "2022-08-02T20:20:44.868828",
     "status": "completed"
    },
    "tags": []
   },
   "outputs": [],
   "source": [
    "# add unique snps to spredixcan_genes_models\n",
    "spredixcan_genes_models = spredixcan_genes_models.join(spredixcan_genes_unique_n_snps)"
   ]
  },
  {
   "cell_type": "code",
   "execution_count": 140,
   "id": "25a28358-843b-4421-9d8f-8edc41f016e3",
   "metadata": {
    "execution": {
     "iopub.execute_input": "2022-08-02T20:20:44.957369Z",
     "iopub.status.busy": "2022-08-02T20:20:44.957163Z",
     "iopub.status.idle": "2022-08-02T20:20:44.970376Z",
     "shell.execute_reply": "2022-08-02T20:20:44.969947Z"
    },
    "papermill": {
     "duration": 0.037728,
     "end_time": "2022-08-02T20:20:44.971589",
     "exception": false,
     "start_time": "2022-08-02T20:20:44.933861",
     "status": "completed"
    },
    "tags": []
   },
   "outputs": [
    {
     "data": {
      "text/plain": [
       "(6444, 10)"
      ]
     },
     "execution_count": 140,
     "metadata": {},
     "output_type": "execute_result"
    }
   ],
   "source": [
    "spredixcan_genes_models.shape"
   ]
  },
  {
   "cell_type": "code",
   "execution_count": 141,
   "id": "ae4f0cd6-a823-4f55-82cf-1a78f0392acf",
   "metadata": {
    "execution": {
     "iopub.execute_input": "2022-08-02T20:20:45.040922Z",
     "iopub.status.busy": "2022-08-02T20:20:45.040729Z",
     "iopub.status.idle": "2022-08-02T20:20:45.071815Z",
     "shell.execute_reply": "2022-08-02T20:20:45.071310Z"
    },
    "papermill": {
     "duration": 0.05923,
     "end_time": "2022-08-02T20:20:45.073278",
     "exception": false,
     "start_time": "2022-08-02T20:20:45.014048",
     "status": "completed"
    },
    "tags": []
   },
   "outputs": [
    {
     "data": {
      "text/html": [
       "<div>\n",
       "<style scoped>\n",
       "    .dataframe tbody tr th:only-of-type {\n",
       "        vertical-align: middle;\n",
       "    }\n",
       "\n",
       "    .dataframe tbody tr th {\n",
       "        vertical-align: top;\n",
       "    }\n",
       "\n",
       "    .dataframe thead th {\n",
       "        text-align: right;\n",
       "    }\n",
       "</style>\n",
       "<table border=\"1\" class=\"dataframe\">\n",
       "  <thead>\n",
       "    <tr style=\"text-align: right;\">\n",
       "      <th></th>\n",
       "      <th>gene_name</th>\n",
       "      <th>tissue</th>\n",
       "      <th>n_tissues</th>\n",
       "      <th>tissues_pc_variances</th>\n",
       "      <th>tissues_pc_variances_cov</th>\n",
       "      <th>tissues_variances</th>\n",
       "      <th>n_snps_used_sum</th>\n",
       "      <th>n_snps_in_model_sum</th>\n",
       "      <th>unique_n_snps_in_model</th>\n",
       "      <th>unique_n_snps_used</th>\n",
       "    </tr>\n",
       "    <tr>\n",
       "      <th>gene_id</th>\n",
       "      <th></th>\n",
       "      <th></th>\n",
       "      <th></th>\n",
       "      <th></th>\n",
       "      <th></th>\n",
       "      <th></th>\n",
       "      <th></th>\n",
       "      <th></th>\n",
       "      <th></th>\n",
       "      <th></th>\n",
       "    </tr>\n",
       "  </thead>\n",
       "  <tbody>\n",
       "    <tr>\n",
       "      <th>ENSG00000000419</th>\n",
       "      <td>DPM1</td>\n",
       "      <td>(Brain_Substantia_nigra, Brain_Hypothalamus)</td>\n",
       "      <td>2</td>\n",
       "      <td>[1.0372585612589562, 0.9627414387410438]</td>\n",
       "      <td>[0.008284978865240098, 0.000732674839341259]</td>\n",
       "      <td>{'Brain_Substantia_nigra': 0.00073379232755585...</td>\n",
       "      <td>2</td>\n",
       "      <td>2</td>\n",
       "      <td>2</td>\n",
       "      <td>2</td>\n",
       "    </tr>\n",
       "    <tr>\n",
       "      <th>ENSG00000000938</th>\n",
       "      <td>FGR</td>\n",
       "      <td>(Brain_Cerebellum, Nerve_Tibial, Liver, Brain_...</td>\n",
       "      <td>36</td>\n",
       "      <td>[30.57880701512375, 2.029732645600111, 1.40179...</td>\n",
       "      <td>[0.22478471249969334, 0.00881387381303179]</td>\n",
       "      <td>{'Brain_Cerebellum': 0.020204550992367513, 'Ne...</td>\n",
       "      <td>40</td>\n",
       "      <td>40</td>\n",
       "      <td>5</td>\n",
       "      <td>5</td>\n",
       "    </tr>\n",
       "    <tr>\n",
       "      <th>ENSG00000000971</th>\n",
       "      <td>CFH</td>\n",
       "      <td>(Brain_Cerebellum, Nerve_Tibial, Brain_Hippoca...</td>\n",
       "      <td>34</td>\n",
       "      <td>[20.77260827663932, 8.17715814232484, 1.864649...</td>\n",
       "      <td>[0.19699534279580108, 0.05731825316349161, 0.0...</td>\n",
       "      <td>{'Brain_Cerebellum': 0.0042432870992385, 'Nerv...</td>\n",
       "      <td>44</td>\n",
       "      <td>44</td>\n",
       "      <td>12</td>\n",
       "      <td>12</td>\n",
       "    </tr>\n",
       "    <tr>\n",
       "      <th>ENSG00000001084</th>\n",
       "      <td>GCLC</td>\n",
       "      <td>(Brain_Cerebellum, Nerve_Tibial, Brain_Amygdal...</td>\n",
       "      <td>32</td>\n",
       "      <td>[20.976449940269084, 4.772354749306766, 2.2362...</td>\n",
       "      <td>[0.36578096389253945, 0.12645413710424552, 0.0...</td>\n",
       "      <td>{'Brain_Cerebellum': 0.03163805534230767, 'Ner...</td>\n",
       "      <td>46</td>\n",
       "      <td>46</td>\n",
       "      <td>23</td>\n",
       "      <td>23</td>\n",
       "    </tr>\n",
       "    <tr>\n",
       "      <th>ENSG00000001167</th>\n",
       "      <td>NFYA</td>\n",
       "      <td>(Brain_Cerebellum, Nerve_Tibial, Vagina, Brain...</td>\n",
       "      <td>40</td>\n",
       "      <td>[37.638369782404986]</td>\n",
       "      <td>[1.4787144508923995, 0.049690618387739104]</td>\n",
       "      <td>{'Brain_Cerebellum': 0.1311467889326876, 'Nerv...</td>\n",
       "      <td>47</td>\n",
       "      <td>48</td>\n",
       "      <td>14</td>\n",
       "      <td>13</td>\n",
       "    </tr>\n",
       "  </tbody>\n",
       "</table>\n",
       "</div>"
      ],
      "text/plain": [
       "                gene_name                                             tissue  \\\n",
       "gene_id                                                                        \n",
       "ENSG00000000419      DPM1       (Brain_Substantia_nigra, Brain_Hypothalamus)   \n",
       "ENSG00000000938       FGR  (Brain_Cerebellum, Nerve_Tibial, Liver, Brain_...   \n",
       "ENSG00000000971       CFH  (Brain_Cerebellum, Nerve_Tibial, Brain_Hippoca...   \n",
       "ENSG00000001084      GCLC  (Brain_Cerebellum, Nerve_Tibial, Brain_Amygdal...   \n",
       "ENSG00000001167      NFYA  (Brain_Cerebellum, Nerve_Tibial, Vagina, Brain...   \n",
       "\n",
       "                 n_tissues                               tissues_pc_variances  \\\n",
       "gene_id                                                                         \n",
       "ENSG00000000419          2           [1.0372585612589562, 0.9627414387410438]   \n",
       "ENSG00000000938         36  [30.57880701512375, 2.029732645600111, 1.40179...   \n",
       "ENSG00000000971         34  [20.77260827663932, 8.17715814232484, 1.864649...   \n",
       "ENSG00000001084         32  [20.976449940269084, 4.772354749306766, 2.2362...   \n",
       "ENSG00000001167         40                               [37.638369782404986]   \n",
       "\n",
       "                                          tissues_pc_variances_cov  \\\n",
       "gene_id                                                              \n",
       "ENSG00000000419       [0.008284978865240098, 0.000732674839341259]   \n",
       "ENSG00000000938         [0.22478471249969334, 0.00881387381303179]   \n",
       "ENSG00000000971  [0.19699534279580108, 0.05731825316349161, 0.0...   \n",
       "ENSG00000001084  [0.36578096389253945, 0.12645413710424552, 0.0...   \n",
       "ENSG00000001167         [1.4787144508923995, 0.049690618387739104]   \n",
       "\n",
       "                                                 tissues_variances  \\\n",
       "gene_id                                                              \n",
       "ENSG00000000419  {'Brain_Substantia_nigra': 0.00073379232755585...   \n",
       "ENSG00000000938  {'Brain_Cerebellum': 0.020204550992367513, 'Ne...   \n",
       "ENSG00000000971  {'Brain_Cerebellum': 0.0042432870992385, 'Nerv...   \n",
       "ENSG00000001084  {'Brain_Cerebellum': 0.03163805534230767, 'Ner...   \n",
       "ENSG00000001167  {'Brain_Cerebellum': 0.1311467889326876, 'Nerv...   \n",
       "\n",
       "                 n_snps_used_sum  n_snps_in_model_sum  unique_n_snps_in_model  \\\n",
       "gene_id                                                                         \n",
       "ENSG00000000419                2                    2                       2   \n",
       "ENSG00000000938               40                   40                       5   \n",
       "ENSG00000000971               44                   44                      12   \n",
       "ENSG00000001084               46                   46                      23   \n",
       "ENSG00000001167               47                   48                      14   \n",
       "\n",
       "                 unique_n_snps_used  \n",
       "gene_id                              \n",
       "ENSG00000000419                   2  \n",
       "ENSG00000000938                   5  \n",
       "ENSG00000000971                  12  \n",
       "ENSG00000001084                  23  \n",
       "ENSG00000001167                  13  "
      ]
     },
     "execution_count": 141,
     "metadata": {},
     "output_type": "execute_result"
    }
   ],
   "source": [
    "spredixcan_genes_models.head()"
   ]
  },
  {
   "cell_type": "markdown",
   "id": "d6947d45-ea78-4c6b-bf71-f7413d1687e3",
   "metadata": {
    "papermill": {
     "duration": 0.022701,
     "end_time": "2022-08-02T20:20:45.121946",
     "exception": false,
     "start_time": "2022-08-02T20:20:45.099245",
     "status": "completed"
    },
    "tags": []
   },
   "source": [
    "### Save"
   ]
  },
  {
   "cell_type": "code",
   "execution_count": 142,
   "id": "ebc3a430-7bd5-4099-8b01-aa77e704e3e7",
   "metadata": {
    "execution": {
     "iopub.execute_input": "2022-08-02T20:20:45.167408Z",
     "iopub.status.busy": "2022-08-02T20:20:45.166874Z",
     "iopub.status.idle": "2022-08-02T20:20:45.180615Z",
     "shell.execute_reply": "2022-08-02T20:20:45.180008Z"
    },
    "papermill": {
     "duration": 0.037932,
     "end_time": "2022-08-02T20:20:45.181962",
     "exception": false,
     "start_time": "2022-08-02T20:20:45.144030",
     "status": "completed"
    },
    "tags": []
   },
   "outputs": [],
   "source": [
    "# this is important, other scripts depend on gene_name to be unique\n",
    "assert spredixcan_genes_models[\"gene_name\"].is_unique"
   ]
  },
  {
   "cell_type": "code",
   "execution_count": 143,
   "id": "e2db5302-3051-4492-97e1-e759d2fb512f",
   "metadata": {
    "execution": {
     "iopub.execute_input": "2022-08-02T20:20:45.227648Z",
     "iopub.status.busy": "2022-08-02T20:20:45.227390Z",
     "iopub.status.idle": "2022-08-02T20:20:45.242916Z",
     "shell.execute_reply": "2022-08-02T20:20:45.242333Z"
    },
    "papermill": {
     "duration": 0.039604,
     "end_time": "2022-08-02T20:20:45.244344",
     "exception": false,
     "start_time": "2022-08-02T20:20:45.204740",
     "status": "completed"
    },
    "tags": []
   },
   "outputs": [],
   "source": [
    "assert not spredixcan_genes_models.isna().any(None)"
   ]
  },
  {
   "cell_type": "code",
   "execution_count": 144,
   "id": "10e19441-8390-4eb1-8da4-24752597bb54",
   "metadata": {
    "execution": {
     "iopub.execute_input": "2022-08-02T20:20:45.294868Z",
     "iopub.status.busy": "2022-08-02T20:20:45.294662Z",
     "iopub.status.idle": "2022-08-02T20:20:46.054893Z",
     "shell.execute_reply": "2022-08-02T20:20:46.054329Z"
    },
    "papermill": {
     "duration": 0.785765,
     "end_time": "2022-08-02T20:20:46.056566",
     "exception": false,
     "start_time": "2022-08-02T20:20:45.270801",
     "status": "completed"
    },
    "tags": []
   },
   "outputs": [],
   "source": [
    "spredixcan_genes_models.to_pickle(OUTPUT_DIR_BASE / \"gene_tissues.pkl\")"
   ]
  },
  {
   "cell_type": "code",
   "execution_count": null,
   "id": "b25e3ead",
   "metadata": {
    "papermill": {
     "duration": 0.026278,
     "end_time": "2022-08-02T20:20:46.111892",
     "exception": false,
     "start_time": "2022-08-02T20:20:46.085614",
     "status": "completed"
    },
    "tags": []
   },
   "outputs": [],
   "source": []
  }
 ],
 "metadata": {
  "jupytext": {
   "cell_metadata_filter": "all,-execution,-papermill,-trusted",
   "formats": "ipynb,py//py:percent"
  },
  "kernelspec": {
   "display_name": "Python 3 (ipykernel)",
   "language": "python",
   "name": "python3"
  },
  "language_info": {
   "codemirror_mode": {
    "name": "ipython",
    "version": 3
   },
   "file_extension": ".py",
   "mimetype": "text/x-python",
   "name": "python",
   "nbconvert_exporter": "python",
   "pygments_lexer": "ipython3",
   "version": "3.8.13"
  },
  "papermill": {
   "default_parameters": {},
   "duration": 8669.991332,
   "end_time": "2022-08-02T20:20:48.986736",
   "environment_variables": {},
   "exception": null,
   "input_path": "nbs/15_gsa_gls/07-compile_gwas_snps_and_twas_genes.ipynb",
   "output_path": "nbs/15_gsa_gls/gene_corrs/cohorts/1000g_eur/1000g/mashr/07-compile_gwas_snps_and_twas_genes.run.ipynb",
   "parameters": {
    "COHORT_NAME": "1000G_EUR",
    "EQTL_MODEL": "MASHR",
    "GWAS_FILE": "/opt/data/results/gls/null_sims/final_imputed_gwas/random.pheno0.glm-imputed.txt.gz",
    "REFERENCE_PANEL": "1000G",
    "SMULTIXCAN_FILE": "/opt/data/results/gls/null_sims/twas/smultixcan/random.pheno0-gtex_v8-mashr-smultixcan.txt",
    "SPREDIXCAN_FILE_PATTERN": "random.pheno0-gtex_v8-mashr-{tissue}.csv",
    "SPREDIXCAN_FOLDER": "/opt/data/results/gls/null_sims/twas/spredixcan/"
   },
   "start_time": "2022-08-02T17:56:18.995404",
   "version": "2.2.2"
  },
  "toc-autonumbering": true
 },
 "nbformat": 4,
 "nbformat_minor": 5
}
