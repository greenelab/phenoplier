{
 "cells": [
  {
   "cell_type": "markdown",
   "id": "7a6632fb",
   "metadata": {
    "papermill": {
     "duration": 0.048042,
     "end_time": "2022-08-02T07:02:57.416334",
     "exception": false,
     "start_time": "2022-08-02T07:02:57.368292",
     "status": "completed"
    },
    "tags": []
   },
   "source": [
    "# Description"
   ]
  },
  {
   "cell_type": "markdown",
   "id": "7097c346",
   "metadata": {
    "papermill": {
     "duration": 0.014125,
     "end_time": "2022-08-02T07:02:57.447195",
     "exception": false,
     "start_time": "2022-08-02T07:02:57.433070",
     "status": "completed"
    },
    "tags": []
   },
   "source": [
    "(Please, take a look at the README.md file in this directory for instructions on how to run this notebook)\n",
    "\n",
    "This notebook compiles information about the GWAS and TWAS for a particular cohort. For example, the set of GWAS variants, variance of predicted expression of genes, etc.\n",
    "\n",
    "It has specicfic parameters for papermill (see under `Settings` below).\n",
    "\n",
    "This notebook is not directly run. See README.md."
   ]
  },
  {
   "cell_type": "markdown",
   "id": "c61d8427",
   "metadata": {
    "papermill": {
     "duration": 0.014966,
     "end_time": "2022-08-02T07:02:57.476222",
     "exception": false,
     "start_time": "2022-08-02T07:02:57.461256",
     "status": "completed"
    },
    "tags": []
   },
   "source": [
    "# Modules"
   ]
  },
  {
   "cell_type": "code",
   "execution_count": 1,
   "id": "bbc0234f",
   "metadata": {
    "execution": {
     "iopub.execute_input": "2022-08-02T07:02:57.506672Z",
     "iopub.status.busy": "2022-08-02T07:02:57.506438Z",
     "iopub.status.idle": "2022-08-02T07:02:57.540452Z",
     "shell.execute_reply": "2022-08-02T07:02:57.539126Z"
    },
    "papermill": {
     "duration": 0.053001,
     "end_time": "2022-08-02T07:02:57.543850",
     "exception": false,
     "start_time": "2022-08-02T07:02:57.490849",
     "status": "completed"
    },
    "tags": []
   },
   "outputs": [],
   "source": [
    "%load_ext autoreload\n",
    "%autoreload 2"
   ]
  },
  {
   "cell_type": "code",
   "execution_count": 2,
   "id": "1d5f5a59",
   "metadata": {
    "execution": {
     "iopub.execute_input": "2022-08-02T07:02:57.597740Z",
     "iopub.status.busy": "2022-08-02T07:02:57.597590Z",
     "iopub.status.idle": "2022-08-02T07:02:58.436693Z",
     "shell.execute_reply": "2022-08-02T07:02:58.436118Z"
    },
    "papermill": {
     "duration": 0.858363,
     "end_time": "2022-08-02T07:02:58.438209",
     "exception": false,
     "start_time": "2022-08-02T07:02:57.579846",
     "status": "completed"
    },
    "tags": []
   },
   "outputs": [],
   "source": [
    "from pathlib import Path\n",
    "import pickle\n",
    "\n",
    "import numpy as np\n",
    "\n",
    "import pandas as pd\n",
    "from tqdm import tqdm\n",
    "import pytest\n",
    "\n",
    "import conf\n",
    "from entity import Gene"
   ]
  },
  {
   "cell_type": "markdown",
   "id": "1eac24b5",
   "metadata": {
    "papermill": {
     "duration": 0.01576,
     "end_time": "2022-08-02T07:02:58.470248",
     "exception": false,
     "start_time": "2022-08-02T07:02:58.454488",
     "status": "completed"
    },
    "tags": []
   },
   "source": [
    "# Settings"
   ]
  },
  {
   "cell_type": "code",
   "execution_count": 3,
   "id": "ca4560ba",
   "metadata": {
    "execution": {
     "iopub.execute_input": "2022-08-02T07:02:58.509240Z",
     "iopub.status.busy": "2022-08-02T07:02:58.509066Z",
     "iopub.status.idle": "2022-08-02T07:02:58.523250Z",
     "shell.execute_reply": "2022-08-02T07:02:58.522730Z"
    },
    "papermill": {
     "duration": 0.034044,
     "end_time": "2022-08-02T07:02:58.524601",
     "exception": false,
     "start_time": "2022-08-02T07:02:58.490557",
     "status": "completed"
    },
    "tags": [
     "parameters"
    ]
   },
   "outputs": [],
   "source": [
    "# a cohort name (it could be something like UK_BIOBANK, etc)\n",
    "COHORT_NAME = None\n",
    "\n",
    "# reference panel such as 1000G or GTEX_V8\n",
    "REFERENCE_PANEL = None\n",
    "\n",
    "# predictions models such as MASHR or ELASTIC_NET\n",
    "EQTL_MODEL = None\n",
    "\n",
    "# a string with a path pointing to an imputed GWAS\n",
    "GWAS_FILE = None\n",
    "\n",
    "# a string with a path pointing where S-PrediXcan results (tissue-specific are located\n",
    "SPREDIXCAN_FOLDER = None\n",
    "\n",
    "# an f-string with one placeholder {tissue}\n",
    "SPREDIXCAN_FILE_PATTERN = None\n",
    "\n",
    "# a string with a path pointing to an S-MultiXcan result\n",
    "SMULTIXCAN_FILE = None"
   ]
  },
  {
   "cell_type": "code",
   "execution_count": 4,
   "id": "248831fc",
   "metadata": {
    "execution": {
     "iopub.execute_input": "2022-08-02T07:02:58.558460Z",
     "iopub.status.busy": "2022-08-02T07:02:58.558267Z",
     "iopub.status.idle": "2022-08-02T07:02:58.571222Z",
     "shell.execute_reply": "2022-08-02T07:02:58.570600Z"
    },
    "papermill": {
     "duration": 0.030876,
     "end_time": "2022-08-02T07:02:58.572659",
     "exception": false,
     "start_time": "2022-08-02T07:02:58.541783",
     "status": "completed"
    },
    "tags": [
     "injected-parameters"
    ]
   },
   "outputs": [],
   "source": [
    "# Parameters\n",
    "COHORT_NAME = \"1000G_EUR\"\n",
    "REFERENCE_PANEL = \"1000G\"\n",
    "EQTL_MODEL = \"MASHR\"\n",
    "GWAS_FILE = \"/opt/data/results/gls/null_sims/final_imputed_gwas/random.pheno0.glm-imputed.txt.gz\"\n",
    "SPREDIXCAN_FOLDER = \"/opt/data/results/gls/null_sims/twas/spredixcan/\"\n",
    "SPREDIXCAN_FILE_PATTERN = \"random.pheno0-gtex_v8-mashr-{tissue}.csv\"\n",
    "SMULTIXCAN_FILE = \"/opt/data/results/gls/null_sims/twas/smultixcan/random.pheno0-gtex_v8-mashr-smultixcan.txt\"\n"
   ]
  },
  {
   "cell_type": "code",
   "execution_count": 5,
   "id": "8fe24bef",
   "metadata": {
    "execution": {
     "iopub.execute_input": "2022-08-02T07:02:58.604858Z",
     "iopub.status.busy": "2022-08-02T07:02:58.604670Z",
     "iopub.status.idle": "2022-08-02T07:02:58.622041Z",
     "shell.execute_reply": "2022-08-02T07:02:58.621551Z"
    },
    "papermill": {
     "duration": 0.03456,
     "end_time": "2022-08-02T07:02:58.623291",
     "exception": false,
     "start_time": "2022-08-02T07:02:58.588731",
     "status": "completed"
    },
    "tags": []
   },
   "outputs": [
    {
     "data": {
      "text/plain": [
       "'Cohort name: 1000g_eur'"
      ]
     },
     "metadata": {},
     "output_type": "display_data"
    }
   ],
   "source": [
    "assert COHORT_NAME is not None and len(COHORT_NAME) > 0, \"A cohort name must be given\"\n",
    "\n",
    "COHORT_NAME = COHORT_NAME.lower()\n",
    "display(f\"Cohort name: {COHORT_NAME}\")"
   ]
  },
  {
   "cell_type": "code",
   "execution_count": 6,
   "id": "f53ba19b-0f93-4fa2-a047-63b375939d1a",
   "metadata": {
    "execution": {
     "iopub.execute_input": "2022-08-02T07:02:58.655076Z",
     "iopub.status.busy": "2022-08-02T07:02:58.654871Z",
     "iopub.status.idle": "2022-08-02T07:02:58.668514Z",
     "shell.execute_reply": "2022-08-02T07:02:58.668003Z"
    },
    "papermill": {
     "duration": 0.030196,
     "end_time": "2022-08-02T07:02:58.669741",
     "exception": false,
     "start_time": "2022-08-02T07:02:58.639545",
     "status": "completed"
    },
    "tags": []
   },
   "outputs": [
    {
     "data": {
      "text/plain": [
       "'Reference panel: 1000G'"
      ]
     },
     "metadata": {},
     "output_type": "display_data"
    }
   ],
   "source": [
    "assert (\n",
    "    REFERENCE_PANEL is not None and len(REFERENCE_PANEL) > 0\n",
    "), \"A reference panel must be given\"\n",
    "\n",
    "display(f\"Reference panel: {REFERENCE_PANEL}\")"
   ]
  },
  {
   "cell_type": "code",
   "execution_count": 7,
   "id": "7a970044-2d34-4e5b-a850-eff44079afe8",
   "metadata": {
    "execution": {
     "iopub.execute_input": "2022-08-02T07:02:58.702433Z",
     "iopub.status.busy": "2022-08-02T07:02:58.702238Z",
     "iopub.status.idle": "2022-08-02T07:02:58.715451Z",
     "shell.execute_reply": "2022-08-02T07:02:58.715023Z"
    },
    "papermill": {
     "duration": 0.030812,
     "end_time": "2022-08-02T07:02:58.716628",
     "exception": false,
     "start_time": "2022-08-02T07:02:58.685816",
     "status": "completed"
    },
    "tags": []
   },
   "outputs": [
    {
     "data": {
      "text/plain": [
       "'GWAS file path: /opt/data/results/gls/null_sims/final_imputed_gwas/random.pheno0.glm-imputed.txt.gz'"
      ]
     },
     "metadata": {},
     "output_type": "display_data"
    }
   ],
   "source": [
    "assert GWAS_FILE is not None and len(GWAS_FILE) > 0, \"A GWAS file path must be given\"\n",
    "GWAS_FILE = Path(GWAS_FILE).resolve()\n",
    "assert GWAS_FILE.exists(), \"GWAS file does not exist\"\n",
    "\n",
    "display(f\"GWAS file path: {str(GWAS_FILE)}\")"
   ]
  },
  {
   "cell_type": "code",
   "execution_count": 8,
   "id": "552a7f63-a18c-4d3e-bb6a-94f99b431291",
   "metadata": {
    "execution": {
     "iopub.execute_input": "2022-08-02T07:02:58.748926Z",
     "iopub.status.busy": "2022-08-02T07:02:58.748708Z",
     "iopub.status.idle": "2022-08-02T07:02:58.762431Z",
     "shell.execute_reply": "2022-08-02T07:02:58.761950Z"
    },
    "papermill": {
     "duration": 0.031349,
     "end_time": "2022-08-02T07:02:58.763727",
     "exception": false,
     "start_time": "2022-08-02T07:02:58.732378",
     "status": "completed"
    },
    "tags": []
   },
   "outputs": [
    {
     "data": {
      "text/plain": [
       "'S-PrediXcan folder path: /opt/data/results/gls/null_sims/twas/spredixcan'"
      ]
     },
     "metadata": {},
     "output_type": "display_data"
    }
   ],
   "source": [
    "assert (\n",
    "    SPREDIXCAN_FOLDER is not None and len(SPREDIXCAN_FOLDER) > 0\n",
    "), \"An S-PrediXcan folder path must be given\"\n",
    "SPREDIXCAN_FOLDER = Path(SPREDIXCAN_FOLDER).resolve()\n",
    "assert SPREDIXCAN_FOLDER.exists(), \"S-PrediXcan folder does not exist\"\n",
    "\n",
    "display(f\"S-PrediXcan folder path: {str(SPREDIXCAN_FOLDER)}\")"
   ]
  },
  {
   "cell_type": "code",
   "execution_count": 9,
   "id": "6e2000dc-f1dc-4db8-93d5-9a7209a2e121",
   "metadata": {
    "execution": {
     "iopub.execute_input": "2022-08-02T07:02:58.795317Z",
     "iopub.status.busy": "2022-08-02T07:02:58.795115Z",
     "iopub.status.idle": "2022-08-02T07:02:58.808715Z",
     "shell.execute_reply": "2022-08-02T07:02:58.808232Z"
    },
    "papermill": {
     "duration": 0.030245,
     "end_time": "2022-08-02T07:02:58.809906",
     "exception": false,
     "start_time": "2022-08-02T07:02:58.779661",
     "status": "completed"
    },
    "tags": []
   },
   "outputs": [
    {
     "data": {
      "text/plain": [
       "'S-PrediXcan file template: random.pheno0-gtex_v8-mashr-{tissue}.csv'"
      ]
     },
     "metadata": {},
     "output_type": "display_data"
    }
   ],
   "source": [
    "assert (\n",
    "    SPREDIXCAN_FILE_PATTERN is not None and len(SPREDIXCAN_FILE_PATTERN) > 0\n",
    "), \"An S-PrediXcan file pattern must be given\"\n",
    "assert (\n",
    "    \"{tissue}\" in SPREDIXCAN_FILE_PATTERN\n",
    "), \"S-PrediXcan file pattern must have a '{tissue}' placeholder\"\n",
    "\n",
    "display(f\"S-PrediXcan file template: {SPREDIXCAN_FILE_PATTERN}\")"
   ]
  },
  {
   "cell_type": "code",
   "execution_count": 10,
   "id": "f5a5aa9d-c6f3-4fb5-9351-37382b6e67bc",
   "metadata": {
    "execution": {
     "iopub.execute_input": "2022-08-02T07:02:58.840762Z",
     "iopub.status.busy": "2022-08-02T07:02:58.840562Z",
     "iopub.status.idle": "2022-08-02T07:02:58.853915Z",
     "shell.execute_reply": "2022-08-02T07:02:58.853410Z"
    },
    "papermill": {
     "duration": 0.030093,
     "end_time": "2022-08-02T07:02:58.855120",
     "exception": false,
     "start_time": "2022-08-02T07:02:58.825027",
     "status": "completed"
    },
    "tags": []
   },
   "outputs": [
    {
     "data": {
      "text/plain": [
       "'S-MultiXcan file path: /opt/data/results/gls/null_sims/twas/smultixcan/random.pheno0-gtex_v8-mashr-smultixcan.txt'"
      ]
     },
     "metadata": {},
     "output_type": "display_data"
    }
   ],
   "source": [
    "assert (\n",
    "    SMULTIXCAN_FILE is not None and len(SMULTIXCAN_FILE) > 0\n",
    "), \"An S-MultiXcan result file path must be given\"\n",
    "SMULTIXCAN_FILE = Path(SMULTIXCAN_FILE).resolve()\n",
    "assert SMULTIXCAN_FILE.exists(), \"S-MultiXcan result file does not exist\"\n",
    "\n",
    "display(f\"S-MultiXcan file path: {str(SMULTIXCAN_FILE)}\")"
   ]
  },
  {
   "cell_type": "code",
   "execution_count": 11,
   "id": "0723dc2f-34d1-407c-a55b-d6d13c55d63d",
   "metadata": {
    "execution": {
     "iopub.execute_input": "2022-08-02T07:02:58.885686Z",
     "iopub.status.busy": "2022-08-02T07:02:58.885506Z",
     "iopub.status.idle": "2022-08-02T07:02:58.898172Z",
     "shell.execute_reply": "2022-08-02T07:02:58.897714Z"
    },
    "papermill": {
     "duration": 0.029176,
     "end_time": "2022-08-02T07:02:58.899421",
     "exception": false,
     "start_time": "2022-08-02T07:02:58.870245",
     "status": "completed"
    },
    "tags": []
   },
   "outputs": [
    {
     "data": {
      "text/plain": [
       "'eQTL model: MASHR'"
      ]
     },
     "metadata": {},
     "output_type": "display_data"
    }
   ],
   "source": [
    "assert (\n",
    "    EQTL_MODEL is not None and len(EQTL_MODEL) > 0\n",
    "), \"A prediction/eQTL model must be given\"\n",
    "\n",
    "display(f\"eQTL model: {EQTL_MODEL}\")"
   ]
  },
  {
   "cell_type": "code",
   "execution_count": 12,
   "id": "396392dc-0340-4540-9b02-e182b833f909",
   "metadata": {
    "execution": {
     "iopub.execute_input": "2022-08-02T07:02:58.932087Z",
     "iopub.status.busy": "2022-08-02T07:02:58.931888Z",
     "iopub.status.idle": "2022-08-02T07:02:58.945326Z",
     "shell.execute_reply": "2022-08-02T07:02:58.944858Z"
    },
    "papermill": {
     "duration": 0.031067,
     "end_time": "2022-08-02T07:02:58.946493",
     "exception": false,
     "start_time": "2022-08-02T07:02:58.915426",
     "status": "completed"
    },
    "tags": []
   },
   "outputs": [
    {
     "data": {
      "text/plain": [
       "'Using output dir base: /opt/data/results/gls/gene_corrs/cohorts/1000g_eur/1000g/mashr'"
      ]
     },
     "metadata": {},
     "output_type": "display_data"
    }
   ],
   "source": [
    "OUTPUT_DIR_BASE = (\n",
    "    conf.RESULTS[\"GLS\"]\n",
    "    / \"gene_corrs\"\n",
    "    / \"cohorts\"\n",
    "    / COHORT_NAME\n",
    "    / REFERENCE_PANEL.lower()\n",
    "    / EQTL_MODEL.lower()\n",
    ")\n",
    "\n",
    "OUTPUT_DIR_BASE.mkdir(parents=True, exist_ok=True)\n",
    "\n",
    "display(f\"Using output dir base: {OUTPUT_DIR_BASE}\")"
   ]
  },
  {
   "cell_type": "markdown",
   "id": "b6ebb422-8204-494b-8c72-360a71ce9863",
   "metadata": {
    "papermill": {
     "duration": 0.014581,
     "end_time": "2022-08-02T07:02:58.976492",
     "exception": false,
     "start_time": "2022-08-02T07:02:58.961911",
     "status": "completed"
    },
    "tags": []
   },
   "source": [
    "# Load MultiPLIER Z genes"
   ]
  },
  {
   "cell_type": "code",
   "execution_count": 13,
   "id": "c48ef527",
   "metadata": {
    "execution": {
     "iopub.execute_input": "2022-08-02T07:02:59.006765Z",
     "iopub.status.busy": "2022-08-02T07:02:59.006561Z",
     "iopub.status.idle": "2022-08-02T07:02:59.286705Z",
     "shell.execute_reply": "2022-08-02T07:02:59.286075Z"
    },
    "papermill": {
     "duration": 0.297112,
     "end_time": "2022-08-02T07:02:59.288295",
     "exception": false,
     "start_time": "2022-08-02T07:02:58.991183",
     "status": "completed"
    },
    "tags": []
   },
   "outputs": [],
   "source": [
    "multiplier_z_genes = pd.read_pickle(\n",
    "    conf.MULTIPLIER[\"MODEL_Z_MATRIX_FILE\"]\n",
    ").index.tolist()"
   ]
  },
  {
   "cell_type": "code",
   "execution_count": 14,
   "id": "0a4ecbd9",
   "metadata": {
    "execution": {
     "iopub.execute_input": "2022-08-02T07:02:59.332649Z",
     "iopub.status.busy": "2022-08-02T07:02:59.332493Z",
     "iopub.status.idle": "2022-08-02T07:02:59.345266Z",
     "shell.execute_reply": "2022-08-02T07:02:59.344806Z"
    },
    "papermill": {
     "duration": 0.035137,
     "end_time": "2022-08-02T07:02:59.346555",
     "exception": false,
     "start_time": "2022-08-02T07:02:59.311418",
     "status": "completed"
    },
    "tags": []
   },
   "outputs": [
    {
     "data": {
      "text/plain": [
       "6750"
      ]
     },
     "execution_count": 14,
     "metadata": {},
     "output_type": "execute_result"
    }
   ],
   "source": [
    "len(multiplier_z_genes)"
   ]
  },
  {
   "cell_type": "code",
   "execution_count": 15,
   "id": "a18ce359-0759-4260-ae6f-053e8c0041b7",
   "metadata": {
    "execution": {
     "iopub.execute_input": "2022-08-02T07:02:59.379673Z",
     "iopub.status.busy": "2022-08-02T07:02:59.379237Z",
     "iopub.status.idle": "2022-08-02T07:02:59.391619Z",
     "shell.execute_reply": "2022-08-02T07:02:59.391170Z"
    },
    "papermill": {
     "duration": 0.030213,
     "end_time": "2022-08-02T07:02:59.392929",
     "exception": false,
     "start_time": "2022-08-02T07:02:59.362716",
     "status": "completed"
    },
    "tags": []
   },
   "outputs": [],
   "source": [
    "assert len(multiplier_z_genes) == len(set(multiplier_z_genes))"
   ]
  },
  {
   "cell_type": "code",
   "execution_count": 16,
   "id": "115e8864",
   "metadata": {
    "execution": {
     "iopub.execute_input": "2022-08-02T07:02:59.424941Z",
     "iopub.status.busy": "2022-08-02T07:02:59.424743Z",
     "iopub.status.idle": "2022-08-02T07:02:59.437814Z",
     "shell.execute_reply": "2022-08-02T07:02:59.437298Z"
    },
    "papermill": {
     "duration": 0.030096,
     "end_time": "2022-08-02T07:02:59.439068",
     "exception": false,
     "start_time": "2022-08-02T07:02:59.408972",
     "status": "completed"
    },
    "tags": []
   },
   "outputs": [
    {
     "data": {
      "text/plain": [
       "['GAS6', 'MMP14', 'DSP', 'MARCKSL1', 'SPARC']"
      ]
     },
     "execution_count": 16,
     "metadata": {},
     "output_type": "execute_result"
    }
   ],
   "source": [
    "multiplier_z_genes[:5]"
   ]
  },
  {
   "cell_type": "markdown",
   "id": "7bed0ce0-e7c7-4300-9a61-5412450b1904",
   "metadata": {
    "papermill": {
     "duration": 0.015944,
     "end_time": "2022-08-02T07:02:59.471426",
     "exception": false,
     "start_time": "2022-08-02T07:02:59.455482",
     "status": "completed"
    },
    "tags": []
   },
   "source": [
    "# GWAS"
   ]
  },
  {
   "cell_type": "code",
   "execution_count": 17,
   "id": "331e5691-c014-43e4-b94c-060c64d329df",
   "metadata": {
    "execution": {
     "iopub.execute_input": "2022-08-02T07:02:59.502293Z",
     "iopub.status.busy": "2022-08-02T07:02:59.502093Z",
     "iopub.status.idle": "2022-08-02T07:02:59.530309Z",
     "shell.execute_reply": "2022-08-02T07:02:59.529729Z"
    },
    "papermill": {
     "duration": 0.045219,
     "end_time": "2022-08-02T07:02:59.531615",
     "exception": false,
     "start_time": "2022-08-02T07:02:59.486396",
     "status": "completed"
    },
    "tags": []
   },
   "outputs": [],
   "source": [
    "gwas_file_columns = pd.read_csv(GWAS_FILE, sep=\"\\t\", nrows=2).columns\n",
    "assert (\n",
    "    \"panel_variant_id\" in gwas_file_columns\n",
    "), \"GWAS file must be final imputed one with column 'panel_variant_id'\"\n",
    "# FIXME: add other needed columns here"
   ]
  },
  {
   "cell_type": "code",
   "execution_count": 18,
   "id": "8d419629-8f4d-4c83-bed3-cfc071a58090",
   "metadata": {
    "execution": {
     "iopub.execute_input": "2022-08-02T07:02:59.570546Z",
     "iopub.status.busy": "2022-08-02T07:02:59.570392Z",
     "iopub.status.idle": "2022-08-02T07:03:13.337174Z",
     "shell.execute_reply": "2022-08-02T07:03:13.336569Z"
    },
    "papermill": {
     "duration": 13.788329,
     "end_time": "2022-08-02T07:03:13.338785",
     "exception": false,
     "start_time": "2022-08-02T07:02:59.550456",
     "status": "completed"
    },
    "tags": []
   },
   "outputs": [],
   "source": [
    "gwas_data = pd.read_csv(\n",
    "    GWAS_FILE,\n",
    "    sep=\"\\t\",\n",
    "    usecols=[\"panel_variant_id\", \"pvalue\", \"zscore\", \"imputation_status\"],\n",
    ")"
   ]
  },
  {
   "cell_type": "code",
   "execution_count": 19,
   "id": "3f4e814e-6b41-407e-9099-86795eec6ed9",
   "metadata": {
    "execution": {
     "iopub.execute_input": "2022-08-02T07:03:13.377686Z",
     "iopub.status.busy": "2022-08-02T07:03:13.377520Z",
     "iopub.status.idle": "2022-08-02T07:03:13.390613Z",
     "shell.execute_reply": "2022-08-02T07:03:13.390089Z"
    },
    "papermill": {
     "duration": 0.033652,
     "end_time": "2022-08-02T07:03:13.391956",
     "exception": false,
     "start_time": "2022-08-02T07:03:13.358304",
     "status": "completed"
    },
    "tags": []
   },
   "outputs": [
    {
     "data": {
      "text/plain": [
       "(8325729, 4)"
      ]
     },
     "execution_count": 19,
     "metadata": {},
     "output_type": "execute_result"
    }
   ],
   "source": [
    "gwas_data.shape"
   ]
  },
  {
   "cell_type": "code",
   "execution_count": 20,
   "id": "b4a906e9-c80a-47fc-9d73-5adb046f8b76",
   "metadata": {
    "execution": {
     "iopub.execute_input": "2022-08-02T07:03:13.424820Z",
     "iopub.status.busy": "2022-08-02T07:03:13.424613Z",
     "iopub.status.idle": "2022-08-02T07:03:13.447833Z",
     "shell.execute_reply": "2022-08-02T07:03:13.447338Z"
    },
    "papermill": {
     "duration": 0.040346,
     "end_time": "2022-08-02T07:03:13.449028",
     "exception": false,
     "start_time": "2022-08-02T07:03:13.408682",
     "status": "completed"
    },
    "tags": []
   },
   "outputs": [
    {
     "data": {
      "text/html": [
       "<div>\n",
       "<style scoped>\n",
       "    .dataframe tbody tr th:only-of-type {\n",
       "        vertical-align: middle;\n",
       "    }\n",
       "\n",
       "    .dataframe tbody tr th {\n",
       "        vertical-align: top;\n",
       "    }\n",
       "\n",
       "    .dataframe thead th {\n",
       "        text-align: right;\n",
       "    }\n",
       "</style>\n",
       "<table border=\"1\" class=\"dataframe\">\n",
       "  <thead>\n",
       "    <tr style=\"text-align: right;\">\n",
       "      <th></th>\n",
       "      <th>panel_variant_id</th>\n",
       "      <th>zscore</th>\n",
       "      <th>pvalue</th>\n",
       "      <th>imputation_status</th>\n",
       "    </tr>\n",
       "  </thead>\n",
       "  <tbody>\n",
       "    <tr>\n",
       "      <th>0</th>\n",
       "      <td>chr1_54490_G_A_b38</td>\n",
       "      <td>1.567452</td>\n",
       "      <td>0.117009</td>\n",
       "      <td>original</td>\n",
       "    </tr>\n",
       "    <tr>\n",
       "      <th>1</th>\n",
       "      <td>chr1_87021_T_C_b38</td>\n",
       "      <td>0.244372</td>\n",
       "      <td>0.806943</td>\n",
       "      <td>imputed</td>\n",
       "    </tr>\n",
       "    <tr>\n",
       "      <th>2</th>\n",
       "      <td>chr1_263722_C_G_b38</td>\n",
       "      <td>1.155239</td>\n",
       "      <td>0.247993</td>\n",
       "      <td>imputed</td>\n",
       "    </tr>\n",
       "    <tr>\n",
       "      <th>3</th>\n",
       "      <td>chr1_594402_C_T_b38</td>\n",
       "      <td>0.851234</td>\n",
       "      <td>0.394639</td>\n",
       "      <td>imputed</td>\n",
       "    </tr>\n",
       "    <tr>\n",
       "      <th>4</th>\n",
       "      <td>chr1_630555_C_T_b38</td>\n",
       "      <td>0.855129</td>\n",
       "      <td>0.392480</td>\n",
       "      <td>imputed</td>\n",
       "    </tr>\n",
       "  </tbody>\n",
       "</table>\n",
       "</div>"
      ],
      "text/plain": [
       "      panel_variant_id    zscore    pvalue imputation_status\n",
       "0   chr1_54490_G_A_b38  1.567452  0.117009          original\n",
       "1   chr1_87021_T_C_b38  0.244372  0.806943           imputed\n",
       "2  chr1_263722_C_G_b38  1.155239  0.247993           imputed\n",
       "3  chr1_594402_C_T_b38  0.851234  0.394639           imputed\n",
       "4  chr1_630555_C_T_b38  0.855129  0.392480           imputed"
      ]
     },
     "execution_count": 20,
     "metadata": {},
     "output_type": "execute_result"
    }
   ],
   "source": [
    "gwas_data.head()"
   ]
  },
  {
   "cell_type": "code",
   "execution_count": 21,
   "id": "346e2f88-44c6-4067-8752-118e2491f6fa",
   "metadata": {
    "execution": {
     "iopub.execute_input": "2022-08-02T07:03:13.481619Z",
     "iopub.status.busy": "2022-08-02T07:03:13.481401Z",
     "iopub.status.idle": "2022-08-02T07:03:13.862644Z",
     "shell.execute_reply": "2022-08-02T07:03:13.862120Z"
    },
    "papermill": {
     "duration": 0.398707,
     "end_time": "2022-08-02T07:03:13.863894",
     "exception": false,
     "start_time": "2022-08-02T07:03:13.465187",
     "status": "completed"
    },
    "tags": []
   },
   "outputs": [
    {
     "data": {
      "text/plain": [
       "array(['original', 'imputed'], dtype=object)"
      ]
     },
     "execution_count": 21,
     "metadata": {},
     "output_type": "execute_result"
    }
   ],
   "source": [
    "gwas_data[\"imputation_status\"].unique()"
   ]
  },
  {
   "cell_type": "code",
   "execution_count": 22,
   "id": "033c24fb-9c60-4ffd-929e-b0e6089820ae",
   "metadata": {
    "execution": {
     "iopub.execute_input": "2022-08-02T07:03:13.895908Z",
     "iopub.status.busy": "2022-08-02T07:03:13.895694Z",
     "iopub.status.idle": "2022-08-02T07:03:15.054807Z",
     "shell.execute_reply": "2022-08-02T07:03:15.054057Z"
    },
    "papermill": {
     "duration": 1.176643,
     "end_time": "2022-08-02T07:03:15.056320",
     "exception": false,
     "start_time": "2022-08-02T07:03:13.879677",
     "status": "completed"
    },
    "tags": []
   },
   "outputs": [
    {
     "data": {
      "text/plain": [
       "(8325729, 4)"
      ]
     },
     "execution_count": 22,
     "metadata": {},
     "output_type": "execute_result"
    }
   ],
   "source": [
    "gwas_data.dropna().shape"
   ]
  },
  {
   "cell_type": "code",
   "execution_count": 23,
   "id": "28232ce5-0afd-464e-9be3-64c3a68c2b25",
   "metadata": {
    "execution": {
     "iopub.execute_input": "2022-08-02T07:03:15.096680Z",
     "iopub.status.busy": "2022-08-02T07:03:15.096506Z",
     "iopub.status.idle": "2022-08-02T07:03:15.971333Z",
     "shell.execute_reply": "2022-08-02T07:03:15.970654Z"
    },
    "papermill": {
     "duration": 0.896436,
     "end_time": "2022-08-02T07:03:15.972929",
     "exception": false,
     "start_time": "2022-08-02T07:03:15.076493",
     "status": "completed"
    },
    "tags": []
   },
   "outputs": [],
   "source": [
    "# remove SNPs with no results\n",
    "gwas_data = gwas_data.dropna()"
   ]
  },
  {
   "cell_type": "code",
   "execution_count": 24,
   "id": "d9a6c31f-eedd-43e5-b762-5a9663be1b77",
   "metadata": {
    "execution": {
     "iopub.execute_input": "2022-08-02T07:03:16.010181Z",
     "iopub.status.busy": "2022-08-02T07:03:16.010025Z",
     "iopub.status.idle": "2022-08-02T07:03:16.023297Z",
     "shell.execute_reply": "2022-08-02T07:03:16.022796Z"
    },
    "papermill": {
     "duration": 0.031932,
     "end_time": "2022-08-02T07:03:16.024527",
     "exception": false,
     "start_time": "2022-08-02T07:03:15.992595",
     "status": "completed"
    },
    "tags": []
   },
   "outputs": [
    {
     "data": {
      "text/plain": [
       "(8325729, 4)"
      ]
     },
     "execution_count": 24,
     "metadata": {},
     "output_type": "execute_result"
    }
   ],
   "source": [
    "gwas_data.shape"
   ]
  },
  {
   "cell_type": "markdown",
   "id": "8da344de-2aa5-48a9-98ec-e8c3397ae7e6",
   "metadata": {
    "papermill": {
     "duration": 0.01558,
     "end_time": "2022-08-02T07:03:16.056481",
     "exception": false,
     "start_time": "2022-08-02T07:03:16.040901",
     "status": "completed"
    },
    "tags": []
   },
   "source": [
    "## Save GWAS variants"
   ]
  },
  {
   "cell_type": "code",
   "execution_count": 25,
   "id": "ac11fb33-ea3c-4d5c-a90b-0ceebdac43d3",
   "metadata": {
    "execution": {
     "iopub.execute_input": "2022-08-02T07:03:16.088432Z",
     "iopub.status.busy": "2022-08-02T07:03:16.088227Z",
     "iopub.status.idle": "2022-08-02T07:03:16.105224Z",
     "shell.execute_reply": "2022-08-02T07:03:16.104607Z"
    },
    "papermill": {
     "duration": 0.034467,
     "end_time": "2022-08-02T07:03:16.106431",
     "exception": false,
     "start_time": "2022-08-02T07:03:16.071964",
     "status": "completed"
    },
    "tags": []
   },
   "outputs": [
    {
     "data": {
      "text/html": [
       "<div>\n",
       "<style scoped>\n",
       "    .dataframe tbody tr th:only-of-type {\n",
       "        vertical-align: middle;\n",
       "    }\n",
       "\n",
       "    .dataframe tbody tr th {\n",
       "        vertical-align: top;\n",
       "    }\n",
       "\n",
       "    .dataframe thead th {\n",
       "        text-align: right;\n",
       "    }\n",
       "</style>\n",
       "<table border=\"1\" class=\"dataframe\">\n",
       "  <thead>\n",
       "    <tr style=\"text-align: right;\">\n",
       "      <th></th>\n",
       "      <th>panel_variant_id</th>\n",
       "      <th>zscore</th>\n",
       "      <th>pvalue</th>\n",
       "      <th>imputation_status</th>\n",
       "    </tr>\n",
       "  </thead>\n",
       "  <tbody>\n",
       "    <tr>\n",
       "      <th>0</th>\n",
       "      <td>chr1_54490_G_A_b38</td>\n",
       "      <td>1.567452</td>\n",
       "      <td>0.117009</td>\n",
       "      <td>original</td>\n",
       "    </tr>\n",
       "    <tr>\n",
       "      <th>1</th>\n",
       "      <td>chr1_87021_T_C_b38</td>\n",
       "      <td>0.244372</td>\n",
       "      <td>0.806943</td>\n",
       "      <td>imputed</td>\n",
       "    </tr>\n",
       "    <tr>\n",
       "      <th>2</th>\n",
       "      <td>chr1_263722_C_G_b38</td>\n",
       "      <td>1.155239</td>\n",
       "      <td>0.247993</td>\n",
       "      <td>imputed</td>\n",
       "    </tr>\n",
       "    <tr>\n",
       "      <th>3</th>\n",
       "      <td>chr1_594402_C_T_b38</td>\n",
       "      <td>0.851234</td>\n",
       "      <td>0.394639</td>\n",
       "      <td>imputed</td>\n",
       "    </tr>\n",
       "    <tr>\n",
       "      <th>4</th>\n",
       "      <td>chr1_630555_C_T_b38</td>\n",
       "      <td>0.855129</td>\n",
       "      <td>0.392480</td>\n",
       "      <td>imputed</td>\n",
       "    </tr>\n",
       "  </tbody>\n",
       "</table>\n",
       "</div>"
      ],
      "text/plain": [
       "      panel_variant_id    zscore    pvalue imputation_status\n",
       "0   chr1_54490_G_A_b38  1.567452  0.117009          original\n",
       "1   chr1_87021_T_C_b38  0.244372  0.806943           imputed\n",
       "2  chr1_263722_C_G_b38  1.155239  0.247993           imputed\n",
       "3  chr1_594402_C_T_b38  0.851234  0.394639           imputed\n",
       "4  chr1_630555_C_T_b38  0.855129  0.392480           imputed"
      ]
     },
     "execution_count": 25,
     "metadata": {},
     "output_type": "execute_result"
    }
   ],
   "source": [
    "gwas_data.head()"
   ]
  },
  {
   "cell_type": "code",
   "execution_count": 26,
   "id": "5f34bb3d-761a-4860-a179-77ea5f5784ad",
   "metadata": {
    "execution": {
     "iopub.execute_input": "2022-08-02T07:03:16.139499Z",
     "iopub.status.busy": "2022-08-02T07:03:16.139309Z",
     "iopub.status.idle": "2022-08-02T07:03:20.747321Z",
     "shell.execute_reply": "2022-08-02T07:03:20.746545Z"
    },
    "papermill": {
     "duration": 4.625999,
     "end_time": "2022-08-02T07:03:20.749058",
     "exception": false,
     "start_time": "2022-08-02T07:03:16.123059",
     "status": "completed"
    },
    "tags": []
   },
   "outputs": [],
   "source": [
    "assert gwas_data[\"panel_variant_id\"].is_unique"
   ]
  },
  {
   "cell_type": "code",
   "execution_count": 27,
   "id": "d4f23b2f-01a3-4a45-a2b6-31b245b5778e",
   "metadata": {
    "execution": {
     "iopub.execute_input": "2022-08-02T07:03:20.790660Z",
     "iopub.status.busy": "2022-08-02T07:03:20.790479Z",
     "iopub.status.idle": "2022-08-02T07:03:23.515235Z",
     "shell.execute_reply": "2022-08-02T07:03:23.514317Z"
    },
    "papermill": {
     "duration": 2.747473,
     "end_time": "2022-08-02T07:03:23.517445",
     "exception": false,
     "start_time": "2022-08-02T07:03:20.769972",
     "status": "completed"
    },
    "tags": []
   },
   "outputs": [
    {
     "data": {
      "text/plain": [
       "['chr16_31689909_T_C_b38',\n",
       " 'chr7_132486435_C_G_b38',\n",
       " 'chr9_105230881_A_G_b38',\n",
       " 'chr17_48929651_G_A_b38',\n",
       " 'chr2_184269510_C_T_b38']"
      ]
     },
     "execution_count": 27,
     "metadata": {},
     "output_type": "execute_result"
    }
   ],
   "source": [
    "gwas_variants_ids_set = frozenset(gwas_data[\"panel_variant_id\"])\n",
    "list(gwas_variants_ids_set)[:5]"
   ]
  },
  {
   "cell_type": "code",
   "execution_count": 28,
   "id": "b4a441df-07d7-48dc-be36-cdb3f92be651",
   "metadata": {
    "execution": {
     "iopub.execute_input": "2022-08-02T07:03:23.565301Z",
     "iopub.status.busy": "2022-08-02T07:03:23.565114Z",
     "iopub.status.idle": "2022-08-02T07:03:27.765492Z",
     "shell.execute_reply": "2022-08-02T07:03:27.763565Z"
    },
    "papermill": {
     "duration": 4.226456,
     "end_time": "2022-08-02T07:03:27.770378",
     "exception": false,
     "start_time": "2022-08-02T07:03:23.543922",
     "status": "completed"
    },
    "tags": []
   },
   "outputs": [],
   "source": [
    "with open(OUTPUT_DIR_BASE / \"gwas_variant_ids.pkl\", \"wb\") as handle:\n",
    "    pickle.dump(gwas_variants_ids_set, handle, protocol=pickle.HIGHEST_PROTOCOL)"
   ]
  },
  {
   "cell_type": "markdown",
   "id": "abcc4b3d",
   "metadata": {
    "papermill": {
     "duration": 0.015926,
     "end_time": "2022-08-02T07:03:27.808419",
     "exception": false,
     "start_time": "2022-08-02T07:03:27.792493",
     "status": "completed"
    },
    "tags": []
   },
   "source": [
    "# TWAS"
   ]
  },
  {
   "cell_type": "markdown",
   "id": "2fbc7358-0563-4fc6-bc47-a0fbcc5cdfd4",
   "metadata": {
    "papermill": {
     "duration": 0.015456,
     "end_time": "2022-08-02T07:03:27.839858",
     "exception": false,
     "start_time": "2022-08-02T07:03:27.824402",
     "status": "completed"
    },
    "tags": []
   },
   "source": [
    "## Available tissues for eQTL model"
   ]
  },
  {
   "cell_type": "code",
   "execution_count": 29,
   "id": "f32c0a84-030a-436b-b597-852b6150d2ac",
   "metadata": {
    "execution": {
     "iopub.execute_input": "2022-08-02T07:03:27.872184Z",
     "iopub.status.busy": "2022-08-02T07:03:27.871982Z",
     "iopub.status.idle": "2022-08-02T07:03:27.884681Z",
     "shell.execute_reply": "2022-08-02T07:03:27.884178Z"
    },
    "papermill": {
     "duration": 0.030505,
     "end_time": "2022-08-02T07:03:27.885882",
     "exception": false,
     "start_time": "2022-08-02T07:03:27.855377",
     "status": "completed"
    },
    "tags": []
   },
   "outputs": [],
   "source": [
    "prediction_model_tissues = conf.PHENOMEXCAN[\"PREDICTION_MODELS\"][\n",
    "    f\"{EQTL_MODEL}_TISSUES\"\n",
    "].split(\" \")"
   ]
  },
  {
   "cell_type": "code",
   "execution_count": 30,
   "id": "0e760d0e-f23d-4590-abfb-811a43f7c237",
   "metadata": {
    "execution": {
     "iopub.execute_input": "2022-08-02T07:03:27.919340Z",
     "iopub.status.busy": "2022-08-02T07:03:27.918947Z",
     "iopub.status.idle": "2022-08-02T07:03:27.931978Z",
     "shell.execute_reply": "2022-08-02T07:03:27.931442Z"
    },
    "papermill": {
     "duration": 0.03097,
     "end_time": "2022-08-02T07:03:27.933148",
     "exception": false,
     "start_time": "2022-08-02T07:03:27.902178",
     "status": "completed"
    },
    "tags": []
   },
   "outputs": [
    {
     "data": {
      "text/plain": [
       "49"
      ]
     },
     "execution_count": 30,
     "metadata": {},
     "output_type": "execute_result"
    }
   ],
   "source": [
    "len(prediction_model_tissues)"
   ]
  },
  {
   "cell_type": "code",
   "execution_count": 31,
   "id": "fa4d942c-cd67-4b31-9491-585c887c0ee3",
   "metadata": {
    "execution": {
     "iopub.execute_input": "2022-08-02T07:03:27.967201Z",
     "iopub.status.busy": "2022-08-02T07:03:27.966604Z",
     "iopub.status.idle": "2022-08-02T07:03:27.979880Z",
     "shell.execute_reply": "2022-08-02T07:03:27.979474Z"
    },
    "papermill": {
     "duration": 0.031529,
     "end_time": "2022-08-02T07:03:27.981067",
     "exception": false,
     "start_time": "2022-08-02T07:03:27.949538",
     "status": "completed"
    },
    "tags": []
   },
   "outputs": [
    {
     "data": {
      "text/plain": [
       "['Skin_Not_Sun_Exposed_Suprapubic',\n",
       " 'Cells_EBV-transformed_lymphocytes',\n",
       " 'Brain_Frontal_Cortex_BA9',\n",
       " 'Kidney_Cortex',\n",
       " 'Brain_Substantia_nigra']"
      ]
     },
     "execution_count": 31,
     "metadata": {},
     "output_type": "execute_result"
    }
   ],
   "source": [
    "prediction_model_tissues[:5]"
   ]
  },
  {
   "cell_type": "markdown",
   "id": "fab4814d-757c-4247-b5e4-891bc4863db7",
   "metadata": {
    "papermill": {
     "duration": 0.016324,
     "end_time": "2022-08-02T07:03:28.014530",
     "exception": false,
     "start_time": "2022-08-02T07:03:27.998206",
     "status": "completed"
    },
    "tags": []
   },
   "source": [
    "## S-MultiXcan results"
   ]
  },
  {
   "cell_type": "code",
   "execution_count": 32,
   "id": "2b73c11e-9aa2-410e-84b4-a70be34d02e4",
   "metadata": {
    "execution": {
     "iopub.execute_input": "2022-08-02T07:03:28.047104Z",
     "iopub.status.busy": "2022-08-02T07:03:28.046902Z",
     "iopub.status.idle": "2022-08-02T07:03:28.100707Z",
     "shell.execute_reply": "2022-08-02T07:03:28.100067Z"
    },
    "papermill": {
     "duration": 0.071758,
     "end_time": "2022-08-02T07:03:28.102167",
     "exception": false,
     "start_time": "2022-08-02T07:03:28.030409",
     "status": "completed"
    },
    "tags": []
   },
   "outputs": [],
   "source": [
    "smultixcan_results = pd.read_csv(\n",
    "    SMULTIXCAN_FILE, sep=\"\\t\", usecols=[\"gene\", \"gene_name\", \"pvalue\", \"n\", \"n_indep\"]\n",
    ")"
   ]
  },
  {
   "cell_type": "code",
   "execution_count": 33,
   "id": "8b5abebd-baab-4188-9e3d-655ebbe32401",
   "metadata": {
    "execution": {
     "iopub.execute_input": "2022-08-02T07:03:28.137484Z",
     "iopub.status.busy": "2022-08-02T07:03:28.137271Z",
     "iopub.status.idle": "2022-08-02T07:03:28.150779Z",
     "shell.execute_reply": "2022-08-02T07:03:28.150241Z"
    },
    "papermill": {
     "duration": 0.032173,
     "end_time": "2022-08-02T07:03:28.151947",
     "exception": false,
     "start_time": "2022-08-02T07:03:28.119774",
     "status": "completed"
    },
    "tags": []
   },
   "outputs": [
    {
     "data": {
      "text/plain": [
       "(22317, 5)"
      ]
     },
     "execution_count": 33,
     "metadata": {},
     "output_type": "execute_result"
    }
   ],
   "source": [
    "smultixcan_results.shape"
   ]
  },
  {
   "cell_type": "code",
   "execution_count": 34,
   "id": "c65e233f-9ef6-4883-9386-7abf1d6d1cbd",
   "metadata": {
    "execution": {
     "iopub.execute_input": "2022-08-02T07:03:28.185616Z",
     "iopub.status.busy": "2022-08-02T07:03:28.185411Z",
     "iopub.status.idle": "2022-08-02T07:03:28.201398Z",
     "shell.execute_reply": "2022-08-02T07:03:28.200874Z"
    },
    "papermill": {
     "duration": 0.034056,
     "end_time": "2022-08-02T07:03:28.202779",
     "exception": false,
     "start_time": "2022-08-02T07:03:28.168723",
     "status": "completed"
    },
    "tags": []
   },
   "outputs": [],
   "source": [
    "smultixcan_results = smultixcan_results.dropna()"
   ]
  },
  {
   "cell_type": "code",
   "execution_count": 35,
   "id": "57d2d311-4a42-4725-9e37-b124ed13ad33",
   "metadata": {
    "execution": {
     "iopub.execute_input": "2022-08-02T07:03:28.237100Z",
     "iopub.status.busy": "2022-08-02T07:03:28.236900Z",
     "iopub.status.idle": "2022-08-02T07:03:28.250319Z",
     "shell.execute_reply": "2022-08-02T07:03:28.249755Z"
    },
    "papermill": {
     "duration": 0.031345,
     "end_time": "2022-08-02T07:03:28.251506",
     "exception": false,
     "start_time": "2022-08-02T07:03:28.220161",
     "status": "completed"
    },
    "tags": []
   },
   "outputs": [
    {
     "data": {
      "text/plain": [
       "(22314, 5)"
      ]
     },
     "execution_count": 35,
     "metadata": {},
     "output_type": "execute_result"
    }
   ],
   "source": [
    "smultixcan_results.shape"
   ]
  },
  {
   "cell_type": "code",
   "execution_count": 36,
   "id": "a36b5b59-f4b6-45bf-b241-ffc9671b357f",
   "metadata": {
    "execution": {
     "iopub.execute_input": "2022-08-02T07:03:28.285504Z",
     "iopub.status.busy": "2022-08-02T07:03:28.285301Z",
     "iopub.status.idle": "2022-08-02T07:03:28.305117Z",
     "shell.execute_reply": "2022-08-02T07:03:28.304511Z"
    },
    "papermill": {
     "duration": 0.038153,
     "end_time": "2022-08-02T07:03:28.306484",
     "exception": false,
     "start_time": "2022-08-02T07:03:28.268331",
     "status": "completed"
    },
    "tags": []
   },
   "outputs": [],
   "source": [
    "smultixcan_results = smultixcan_results.assign(\n",
    "    gene_id=smultixcan_results[\"gene\"].apply(lambda g: g.split(\".\")[0])\n",
    ")"
   ]
  },
  {
   "cell_type": "code",
   "execution_count": 37,
   "id": "c49f62a9-a01a-44af-87da-47d195b0ef7e",
   "metadata": {
    "execution": {
     "iopub.execute_input": "2022-08-02T07:03:28.349336Z",
     "iopub.status.busy": "2022-08-02T07:03:28.349110Z",
     "iopub.status.idle": "2022-08-02T07:03:28.370377Z",
     "shell.execute_reply": "2022-08-02T07:03:28.369776Z"
    },
    "papermill": {
     "duration": 0.044627,
     "end_time": "2022-08-02T07:03:28.371770",
     "exception": false,
     "start_time": "2022-08-02T07:03:28.327143",
     "status": "completed"
    },
    "tags": []
   },
   "outputs": [
    {
     "data": {
      "text/html": [
       "<div>\n",
       "<style scoped>\n",
       "    .dataframe tbody tr th:only-of-type {\n",
       "        vertical-align: middle;\n",
       "    }\n",
       "\n",
       "    .dataframe tbody tr th {\n",
       "        vertical-align: top;\n",
       "    }\n",
       "\n",
       "    .dataframe thead th {\n",
       "        text-align: right;\n",
       "    }\n",
       "</style>\n",
       "<table border=\"1\" class=\"dataframe\">\n",
       "  <thead>\n",
       "    <tr style=\"text-align: right;\">\n",
       "      <th></th>\n",
       "      <th>gene</th>\n",
       "      <th>gene_name</th>\n",
       "      <th>pvalue</th>\n",
       "      <th>n</th>\n",
       "      <th>n_indep</th>\n",
       "      <th>gene_id</th>\n",
       "    </tr>\n",
       "  </thead>\n",
       "  <tbody>\n",
       "    <tr>\n",
       "      <th>0</th>\n",
       "      <td>ENSG00000131941.7</td>\n",
       "      <td>RHPN2</td>\n",
       "      <td>0.000040</td>\n",
       "      <td>48.0</td>\n",
       "      <td>3.0</td>\n",
       "      <td>ENSG00000131941</td>\n",
       "    </tr>\n",
       "    <tr>\n",
       "      <th>1</th>\n",
       "      <td>ENSG00000076650.6</td>\n",
       "      <td>GPATCH1</td>\n",
       "      <td>0.000078</td>\n",
       "      <td>40.0</td>\n",
       "      <td>3.0</td>\n",
       "      <td>ENSG00000076650</td>\n",
       "    </tr>\n",
       "    <tr>\n",
       "      <th>2</th>\n",
       "      <td>ENSG00000100906.10</td>\n",
       "      <td>NFKBIA</td>\n",
       "      <td>0.000096</td>\n",
       "      <td>1.0</td>\n",
       "      <td>1.0</td>\n",
       "      <td>ENSG00000100906</td>\n",
       "    </tr>\n",
       "    <tr>\n",
       "      <th>3</th>\n",
       "      <td>ENSG00000136319.11</td>\n",
       "      <td>TTC5</td>\n",
       "      <td>0.000109</td>\n",
       "      <td>47.0</td>\n",
       "      <td>5.0</td>\n",
       "      <td>ENSG00000136319</td>\n",
       "    </tr>\n",
       "    <tr>\n",
       "      <th>4</th>\n",
       "      <td>ENSG00000152990.13</td>\n",
       "      <td>ADGRA3</td>\n",
       "      <td>0.000135</td>\n",
       "      <td>41.0</td>\n",
       "      <td>12.0</td>\n",
       "      <td>ENSG00000152990</td>\n",
       "    </tr>\n",
       "  </tbody>\n",
       "</table>\n",
       "</div>"
      ],
      "text/plain": [
       "                 gene gene_name    pvalue     n  n_indep          gene_id\n",
       "0   ENSG00000131941.7     RHPN2  0.000040  48.0      3.0  ENSG00000131941\n",
       "1   ENSG00000076650.6   GPATCH1  0.000078  40.0      3.0  ENSG00000076650\n",
       "2  ENSG00000100906.10    NFKBIA  0.000096   1.0      1.0  ENSG00000100906\n",
       "3  ENSG00000136319.11      TTC5  0.000109  47.0      5.0  ENSG00000136319\n",
       "4  ENSG00000152990.13    ADGRA3  0.000135  41.0     12.0  ENSG00000152990"
      ]
     },
     "execution_count": 37,
     "metadata": {},
     "output_type": "execute_result"
    }
   ],
   "source": [
    "smultixcan_results.head()"
   ]
  },
  {
   "cell_type": "code",
   "execution_count": 38,
   "id": "9c4c023c-86d6-4c4b-8d57-c2b6b93aaf84",
   "metadata": {
    "execution": {
     "iopub.execute_input": "2022-08-02T07:03:28.408213Z",
     "iopub.status.busy": "2022-08-02T07:03:28.408009Z",
     "iopub.status.idle": "2022-08-02T07:03:28.423063Z",
     "shell.execute_reply": "2022-08-02T07:03:28.422535Z"
    },
    "papermill": {
     "duration": 0.033849,
     "end_time": "2022-08-02T07:03:28.424422",
     "exception": false,
     "start_time": "2022-08-02T07:03:28.390573",
     "status": "completed"
    },
    "tags": []
   },
   "outputs": [],
   "source": [
    "assert smultixcan_results[\"gene_id\"].is_unique"
   ]
  },
  {
   "cell_type": "markdown",
   "id": "aec6375f-71c4-4fac-95f3-ba695bffb044",
   "metadata": {
    "papermill": {
     "duration": 0.016611,
     "end_time": "2022-08-02T07:03:28.458347",
     "exception": false,
     "start_time": "2022-08-02T07:03:28.441736",
     "status": "completed"
    },
    "tags": []
   },
   "source": [
    "### Remove duplicated gene names"
   ]
  },
  {
   "cell_type": "code",
   "execution_count": 39,
   "id": "3db4cebf-7f10-4651-be4e-c50e65b855c5",
   "metadata": {
    "execution": {
     "iopub.execute_input": "2022-08-02T07:03:28.493499Z",
     "iopub.status.busy": "2022-08-02T07:03:28.493268Z",
     "iopub.status.idle": "2022-08-02T07:03:28.508685Z",
     "shell.execute_reply": "2022-08-02T07:03:28.508181Z"
    },
    "papermill": {
     "duration": 0.034904,
     "end_time": "2022-08-02T07:03:28.509857",
     "exception": false,
     "start_time": "2022-08-02T07:03:28.474953",
     "status": "completed"
    },
    "tags": []
   },
   "outputs": [
    {
     "data": {
      "text/plain": [
       "False"
      ]
     },
     "execution_count": 39,
     "metadata": {},
     "output_type": "execute_result"
    }
   ],
   "source": [
    "smultixcan_results[\"gene_name\"].is_unique"
   ]
  },
  {
   "cell_type": "code",
   "execution_count": 40,
   "id": "359a302e-d9a9-4bce-bc45-89ab285d8ad5",
   "metadata": {
    "execution": {
     "iopub.execute_input": "2022-08-02T07:03:28.545547Z",
     "iopub.status.busy": "2022-08-02T07:03:28.545310Z",
     "iopub.status.idle": "2022-08-02T07:03:29.005130Z",
     "shell.execute_reply": "2022-08-02T07:03:29.004513Z"
    },
    "papermill": {
     "duration": 0.479222,
     "end_time": "2022-08-02T07:03:29.006650",
     "exception": false,
     "start_time": "2022-08-02T07:03:28.527428",
     "status": "completed"
    },
    "tags": []
   },
   "outputs": [
    {
     "data": {
      "text/html": [
       "<div>\n",
       "<style scoped>\n",
       "    .dataframe tbody tr th:only-of-type {\n",
       "        vertical-align: middle;\n",
       "    }\n",
       "\n",
       "    .dataframe tbody tr th {\n",
       "        vertical-align: top;\n",
       "    }\n",
       "\n",
       "    .dataframe thead th {\n",
       "        text-align: right;\n",
       "    }\n",
       "</style>\n",
       "<table border=\"1\" class=\"dataframe\">\n",
       "  <thead>\n",
       "    <tr style=\"text-align: right;\">\n",
       "      <th></th>\n",
       "      <th>gene</th>\n",
       "      <th>gene_name</th>\n",
       "      <th>pvalue</th>\n",
       "      <th>n</th>\n",
       "      <th>n_indep</th>\n",
       "      <th>gene_id</th>\n",
       "    </tr>\n",
       "  </thead>\n",
       "  <tbody>\n",
       "    <tr>\n",
       "      <th>1463</th>\n",
       "      <td>ENSG00000235641.4</td>\n",
       "      <td>LINC00484</td>\n",
       "      <td>0.068450</td>\n",
       "      <td>35.0</td>\n",
       "      <td>3.0</td>\n",
       "      <td>ENSG00000235641</td>\n",
       "    </tr>\n",
       "    <tr>\n",
       "      <th>2393</th>\n",
       "      <td>ENSG00000237667.5</td>\n",
       "      <td>LINC01115</td>\n",
       "      <td>0.112329</td>\n",
       "      <td>22.0</td>\n",
       "      <td>1.0</td>\n",
       "      <td>ENSG00000237667</td>\n",
       "    </tr>\n",
       "    <tr>\n",
       "      <th>5200</th>\n",
       "      <td>ENSG00000272342.1</td>\n",
       "      <td>LINC01115</td>\n",
       "      <td>0.243122</td>\n",
       "      <td>4.0</td>\n",
       "      <td>1.0</td>\n",
       "      <td>ENSG00000272342</td>\n",
       "    </tr>\n",
       "    <tr>\n",
       "      <th>5884</th>\n",
       "      <td>ENSG00000229694.6</td>\n",
       "      <td>LINC00484</td>\n",
       "      <td>0.274814</td>\n",
       "      <td>40.0</td>\n",
       "      <td>5.0</td>\n",
       "      <td>ENSG00000229694</td>\n",
       "    </tr>\n",
       "    <tr>\n",
       "      <th>6131</th>\n",
       "      <td>ENSG00000147676.13</td>\n",
       "      <td>MAL2</td>\n",
       "      <td>0.286003</td>\n",
       "      <td>29.0</td>\n",
       "      <td>5.0</td>\n",
       "      <td>ENSG00000147676</td>\n",
       "    </tr>\n",
       "    <tr>\n",
       "      <th>6209</th>\n",
       "      <td>ENSG00000283992.1</td>\n",
       "      <td>LYNX1</td>\n",
       "      <td>0.289628</td>\n",
       "      <td>45.0</td>\n",
       "      <td>3.0</td>\n",
       "      <td>ENSG00000283992</td>\n",
       "    </tr>\n",
       "    <tr>\n",
       "      <th>10560</th>\n",
       "      <td>ENSG00000180155.19</td>\n",
       "      <td>LYNX1</td>\n",
       "      <td>0.486960</td>\n",
       "      <td>48.0</td>\n",
       "      <td>3.0</td>\n",
       "      <td>ENSG00000180155</td>\n",
       "    </tr>\n",
       "    <tr>\n",
       "      <th>14028</th>\n",
       "      <td>ENSG00000235271.5</td>\n",
       "      <td>LINC01422</td>\n",
       "      <td>0.643355</td>\n",
       "      <td>38.0</td>\n",
       "      <td>6.0</td>\n",
       "      <td>ENSG00000235271</td>\n",
       "    </tr>\n",
       "    <tr>\n",
       "      <th>14253</th>\n",
       "      <td>ENSG00000253972.5</td>\n",
       "      <td>MAL2</td>\n",
       "      <td>0.654873</td>\n",
       "      <td>6.0</td>\n",
       "      <td>4.0</td>\n",
       "      <td>ENSG00000253972</td>\n",
       "    </tr>\n",
       "    <tr>\n",
       "      <th>20085</th>\n",
       "      <td>ENSG00000182957.15</td>\n",
       "      <td>SPATA13</td>\n",
       "      <td>0.906729</td>\n",
       "      <td>40.0</td>\n",
       "      <td>14.0</td>\n",
       "      <td>ENSG00000182957</td>\n",
       "    </tr>\n",
       "    <tr>\n",
       "      <th>21031</th>\n",
       "      <td>ENSG00000223704.1</td>\n",
       "      <td>LINC01422</td>\n",
       "      <td>0.946342</td>\n",
       "      <td>48.0</td>\n",
       "      <td>3.0</td>\n",
       "      <td>ENSG00000223704</td>\n",
       "    </tr>\n",
       "    <tr>\n",
       "      <th>21040</th>\n",
       "      <td>ENSG00000228741.2</td>\n",
       "      <td>SPATA13</td>\n",
       "      <td>0.946653</td>\n",
       "      <td>23.0</td>\n",
       "      <td>6.0</td>\n",
       "      <td>ENSG00000228741</td>\n",
       "    </tr>\n",
       "  </tbody>\n",
       "</table>\n",
       "</div>"
      ],
      "text/plain": [
       "                     gene  gene_name    pvalue     n  n_indep          gene_id\n",
       "1463    ENSG00000235641.4  LINC00484  0.068450  35.0      3.0  ENSG00000235641\n",
       "2393    ENSG00000237667.5  LINC01115  0.112329  22.0      1.0  ENSG00000237667\n",
       "5200    ENSG00000272342.1  LINC01115  0.243122   4.0      1.0  ENSG00000272342\n",
       "5884    ENSG00000229694.6  LINC00484  0.274814  40.0      5.0  ENSG00000229694\n",
       "6131   ENSG00000147676.13       MAL2  0.286003  29.0      5.0  ENSG00000147676\n",
       "6209    ENSG00000283992.1      LYNX1  0.289628  45.0      3.0  ENSG00000283992\n",
       "10560  ENSG00000180155.19      LYNX1  0.486960  48.0      3.0  ENSG00000180155\n",
       "14028   ENSG00000235271.5  LINC01422  0.643355  38.0      6.0  ENSG00000235271\n",
       "14253   ENSG00000253972.5       MAL2  0.654873   6.0      4.0  ENSG00000253972\n",
       "20085  ENSG00000182957.15    SPATA13  0.906729  40.0     14.0  ENSG00000182957\n",
       "21031   ENSG00000223704.1  LINC01422  0.946342  48.0      3.0  ENSG00000223704\n",
       "21040   ENSG00000228741.2    SPATA13  0.946653  23.0      6.0  ENSG00000228741"
      ]
     },
     "metadata": {},
     "output_type": "display_data"
    }
   ],
   "source": [
    "# list duplicated gene names\n",
    "_smultixcan_duplicated_gene_names = smultixcan_results[\n",
    "    smultixcan_results[\"gene_name\"].duplicated(keep=False)\n",
    "]\n",
    "display(_smultixcan_duplicated_gene_names)"
   ]
  },
  {
   "cell_type": "code",
   "execution_count": 41,
   "id": "d8ff3ec1-312a-48be-b33f-50fb6f103c21",
   "metadata": {
    "execution": {
     "iopub.execute_input": "2022-08-02T07:03:29.049249Z",
     "iopub.status.busy": "2022-08-02T07:03:29.049083Z",
     "iopub.status.idle": "2022-08-02T07:03:29.061995Z",
     "shell.execute_reply": "2022-08-02T07:03:29.061443Z"
    },
    "papermill": {
     "duration": 0.035144,
     "end_time": "2022-08-02T07:03:29.063367",
     "exception": false,
     "start_time": "2022-08-02T07:03:29.028223",
     "status": "completed"
    },
    "tags": []
   },
   "outputs": [],
   "source": [
    "# TODO: my strategy below to handle duplicated gene names is to keep the first one\n",
    "#  it might be better to have another strategy, maybe keeping the most significant"
   ]
  },
  {
   "cell_type": "code",
   "execution_count": 42,
   "id": "11e348f5-ba33-487a-9dfe-cd493a02f320",
   "metadata": {
    "execution": {
     "iopub.execute_input": "2022-08-02T07:03:29.098759Z",
     "iopub.status.busy": "2022-08-02T07:03:29.098555Z",
     "iopub.status.idle": "2022-08-02T07:03:29.117052Z",
     "shell.execute_reply": "2022-08-02T07:03:29.116480Z"
    },
    "papermill": {
     "duration": 0.036952,
     "end_time": "2022-08-02T07:03:29.118289",
     "exception": false,
     "start_time": "2022-08-02T07:03:29.081337",
     "status": "completed"
    },
    "tags": []
   },
   "outputs": [
    {
     "data": {
      "text/plain": [
       "(22308, 6)"
      ]
     },
     "metadata": {},
     "output_type": "display_data"
    }
   ],
   "source": [
    "smultixcan_results = smultixcan_results.drop_duplicates(\n",
    "    subset=[\"gene_name\"], keep=\"first\"\n",
    ")\n",
    "display(smultixcan_results.shape)"
   ]
  },
  {
   "cell_type": "markdown",
   "id": "1f9939f1-4200-40d9-a8bf-8e4fd68bee48",
   "metadata": {
    "papermill": {
     "duration": 0.017029,
     "end_time": "2022-08-02T07:03:29.153503",
     "exception": false,
     "start_time": "2022-08-02T07:03:29.136474",
     "status": "completed"
    },
    "tags": []
   },
   "source": [
    "### Get common genes with MultiPLIER"
   ]
  },
  {
   "cell_type": "code",
   "execution_count": 43,
   "id": "c820e6cf-6350-45af-b49a-0abd94f570ff",
   "metadata": {
    "execution": {
     "iopub.execute_input": "2022-08-02T07:03:29.188072Z",
     "iopub.status.busy": "2022-08-02T07:03:29.187867Z",
     "iopub.status.idle": "2022-08-02T07:03:29.203970Z",
     "shell.execute_reply": "2022-08-02T07:03:29.203278Z"
    },
    "papermill": {
     "duration": 0.034889,
     "end_time": "2022-08-02T07:03:29.205295",
     "exception": false,
     "start_time": "2022-08-02T07:03:29.170406",
     "status": "completed"
    },
    "tags": []
   },
   "outputs": [],
   "source": [
    "common_genes = set(multiplier_z_genes).intersection(\n",
    "    set(smultixcan_results[\"gene_name\"])\n",
    ")"
   ]
  },
  {
   "cell_type": "code",
   "execution_count": 44,
   "id": "0a7328f9-96c7-4ac6-a9a6-ae4fa121a4cd",
   "metadata": {
    "execution": {
     "iopub.execute_input": "2022-08-02T07:03:29.240037Z",
     "iopub.status.busy": "2022-08-02T07:03:29.239834Z",
     "iopub.status.idle": "2022-08-02T07:03:29.252947Z",
     "shell.execute_reply": "2022-08-02T07:03:29.252288Z"
    },
    "papermill": {
     "duration": 0.031636,
     "end_time": "2022-08-02T07:03:29.254082",
     "exception": false,
     "start_time": "2022-08-02T07:03:29.222446",
     "status": "completed"
    },
    "tags": []
   },
   "outputs": [
    {
     "data": {
      "text/plain": [
       "6444"
      ]
     },
     "execution_count": 44,
     "metadata": {},
     "output_type": "execute_result"
    }
   ],
   "source": [
    "len(common_genes)"
   ]
  },
  {
   "cell_type": "code",
   "execution_count": 45,
   "id": "5b08d362-44c8-4db2-9258-670e2e2a9cc0",
   "metadata": {
    "execution": {
     "iopub.execute_input": "2022-08-02T07:03:29.289036Z",
     "iopub.status.busy": "2022-08-02T07:03:29.288856Z",
     "iopub.status.idle": "2022-08-02T07:03:29.303498Z",
     "shell.execute_reply": "2022-08-02T07:03:29.302899Z"
    },
    "papermill": {
     "duration": 0.033427,
     "end_time": "2022-08-02T07:03:29.304731",
     "exception": false,
     "start_time": "2022-08-02T07:03:29.271304",
     "status": "completed"
    },
    "tags": []
   },
   "outputs": [
    {
     "data": {
      "text/plain": [
       "['A2M', 'AAAS', 'AANAT', 'AARS', 'AARS2']"
      ]
     },
     "execution_count": 45,
     "metadata": {},
     "output_type": "execute_result"
    }
   ],
   "source": [
    "sorted(list(common_genes))[:5]"
   ]
  },
  {
   "cell_type": "code",
   "execution_count": 46,
   "id": "ddc47580-bd3d-4168-bbb2-0763d227369b",
   "metadata": {
    "execution": {
     "iopub.execute_input": "2022-08-02T07:03:29.347426Z",
     "iopub.status.busy": "2022-08-02T07:03:29.347237Z",
     "iopub.status.idle": "2022-08-02T07:03:29.364789Z",
     "shell.execute_reply": "2022-08-02T07:03:29.364210Z"
    },
    "papermill": {
     "duration": 0.042534,
     "end_time": "2022-08-02T07:03:29.366347",
     "exception": false,
     "start_time": "2022-08-02T07:03:29.323813",
     "status": "completed"
    },
    "tags": []
   },
   "outputs": [],
   "source": [
    "assert smultixcan_results[smultixcan_results[\"gene_name\"].isin(common_genes)].shape[\n",
    "    0\n",
    "] == len(common_genes)"
   ]
  },
  {
   "cell_type": "code",
   "execution_count": 47,
   "id": "96303553-db48-4b3d-9198-362aa48052b4",
   "metadata": {
    "execution": {
     "iopub.execute_input": "2022-08-02T07:03:29.404456Z",
     "iopub.status.busy": "2022-08-02T07:03:29.404266Z",
     "iopub.status.idle": "2022-08-02T07:03:29.419635Z",
     "shell.execute_reply": "2022-08-02T07:03:29.419180Z"
    },
    "papermill": {
     "duration": 0.034771,
     "end_time": "2022-08-02T07:03:29.420989",
     "exception": false,
     "start_time": "2022-08-02T07:03:29.386218",
     "status": "completed"
    },
    "tags": []
   },
   "outputs": [],
   "source": [
    "smultixcan_gene_id_common = smultixcan_results[\n",
    "    smultixcan_results[\"gene_name\"].isin(common_genes)\n",
    "][\"gene_id\"]"
   ]
  },
  {
   "cell_type": "code",
   "execution_count": 48,
   "id": "e4172506-0b33-4ec6-84e0-ef5e93aa99d7",
   "metadata": {
    "execution": {
     "iopub.execute_input": "2022-08-02T07:03:29.456451Z",
     "iopub.status.busy": "2022-08-02T07:03:29.456233Z",
     "iopub.status.idle": "2022-08-02T07:03:29.469481Z",
     "shell.execute_reply": "2022-08-02T07:03:29.468943Z"
    },
    "papermill": {
     "duration": 0.031896,
     "end_time": "2022-08-02T07:03:29.470672",
     "exception": false,
     "start_time": "2022-08-02T07:03:29.438776",
     "status": "completed"
    },
    "tags": []
   },
   "outputs": [
    {
     "data": {
      "text/plain": [
       "(6444,)"
      ]
     },
     "execution_count": 48,
     "metadata": {},
     "output_type": "execute_result"
    }
   ],
   "source": [
    "smultixcan_gene_id_common.shape"
   ]
  },
  {
   "cell_type": "code",
   "execution_count": 49,
   "id": "93de05fd-3783-4369-9893-90de07601e04",
   "metadata": {
    "execution": {
     "iopub.execute_input": "2022-08-02T07:03:29.506290Z",
     "iopub.status.busy": "2022-08-02T07:03:29.506086Z",
     "iopub.status.idle": "2022-08-02T07:03:29.519594Z",
     "shell.execute_reply": "2022-08-02T07:03:29.519199Z"
    },
    "papermill": {
     "duration": 0.032711,
     "end_time": "2022-08-02T07:03:29.520854",
     "exception": false,
     "start_time": "2022-08-02T07:03:29.488143",
     "status": "completed"
    },
    "tags": []
   },
   "outputs": [],
   "source": [
    "assert smultixcan_gene_id_common.is_unique"
   ]
  },
  {
   "cell_type": "code",
   "execution_count": 50,
   "id": "a82c0037-4e3d-451e-9051-dc66bc4481db",
   "metadata": {
    "execution": {
     "iopub.execute_input": "2022-08-02T07:03:29.557355Z",
     "iopub.status.busy": "2022-08-02T07:03:29.557151Z",
     "iopub.status.idle": "2022-08-02T07:03:29.570762Z",
     "shell.execute_reply": "2022-08-02T07:03:29.570185Z"
    },
    "papermill": {
     "duration": 0.033494,
     "end_time": "2022-08-02T07:03:29.572129",
     "exception": false,
     "start_time": "2022-08-02T07:03:29.538635",
     "status": "completed"
    },
    "tags": []
   },
   "outputs": [],
   "source": [
    "smultixcan_gene_id_common = set(smultixcan_gene_id_common)"
   ]
  },
  {
   "cell_type": "markdown",
   "id": "4e1e5166-d4f0-449b-9c4e-1b53cf3774f8",
   "metadata": {
    "papermill": {
     "duration": 0.017518,
     "end_time": "2022-08-02T07:03:29.607735",
     "exception": false,
     "start_time": "2022-08-02T07:03:29.590217",
     "status": "completed"
    },
    "tags": []
   },
   "source": [
    "### Save"
   ]
  },
  {
   "cell_type": "code",
   "execution_count": 51,
   "id": "1fc57e26-d415-4565-be7f-e7e1de935dbb",
   "metadata": {
    "execution": {
     "iopub.execute_input": "2022-08-02T07:03:29.643353Z",
     "iopub.status.busy": "2022-08-02T07:03:29.643138Z",
     "iopub.status.idle": "2022-08-02T07:03:29.669994Z",
     "shell.execute_reply": "2022-08-02T07:03:29.669503Z"
    },
    "papermill": {
     "duration": 0.046261,
     "end_time": "2022-08-02T07:03:29.671312",
     "exception": false,
     "start_time": "2022-08-02T07:03:29.625051",
     "status": "completed"
    },
    "tags": []
   },
   "outputs": [],
   "source": [
    "with open(OUTPUT_DIR_BASE / \"common_genes.pkl\", \"wb\") as handle:\n",
    "    pickle.dump(common_genes, handle, protocol=pickle.HIGHEST_PROTOCOL)"
   ]
  },
  {
   "cell_type": "markdown",
   "id": "7f51338b-8a75-42c3-a7e5-a0961cefb663",
   "metadata": {
    "papermill": {
     "duration": 0.01843,
     "end_time": "2022-08-02T07:03:29.708282",
     "exception": false,
     "start_time": "2022-08-02T07:03:29.689852",
     "status": "completed"
    },
    "tags": []
   },
   "source": [
    "## Genes info"
   ]
  },
  {
   "cell_type": "code",
   "execution_count": 52,
   "id": "bb932812",
   "metadata": {
    "execution": {
     "iopub.execute_input": "2022-08-02T07:03:29.743438Z",
     "iopub.status.busy": "2022-08-02T07:03:29.743259Z",
     "iopub.status.idle": "2022-08-02T07:03:30.193514Z",
     "shell.execute_reply": "2022-08-02T07:03:30.192642Z"
    },
    "papermill": {
     "duration": 0.470302,
     "end_time": "2022-08-02T07:03:30.195736",
     "exception": false,
     "start_time": "2022-08-02T07:03:29.725434",
     "status": "completed"
    },
    "tags": []
   },
   "outputs": [],
   "source": [
    "multiplier_gene_obj = {\n",
    "    gene_name: Gene(name=gene_name)\n",
    "    for gene_name in common_genes\n",
    "    if gene_name in Gene.GENE_NAME_TO_ID_MAP\n",
    "}"
   ]
  },
  {
   "cell_type": "code",
   "execution_count": 53,
   "id": "39533214",
   "metadata": {
    "execution": {
     "iopub.execute_input": "2022-08-02T07:03:30.243475Z",
     "iopub.status.busy": "2022-08-02T07:03:30.243290Z",
     "iopub.status.idle": "2022-08-02T07:03:30.258627Z",
     "shell.execute_reply": "2022-08-02T07:03:30.258030Z"
    },
    "papermill": {
     "duration": 0.039467,
     "end_time": "2022-08-02T07:03:30.260038",
     "exception": false,
     "start_time": "2022-08-02T07:03:30.220571",
     "status": "completed"
    },
    "tags": []
   },
   "outputs": [
    {
     "data": {
      "text/plain": [
       "6444"
      ]
     },
     "execution_count": 53,
     "metadata": {},
     "output_type": "execute_result"
    }
   ],
   "source": [
    "len(multiplier_gene_obj)"
   ]
  },
  {
   "cell_type": "code",
   "execution_count": 54,
   "id": "9a5d0b84",
   "metadata": {
    "execution": {
     "iopub.execute_input": "2022-08-02T07:03:30.298569Z",
     "iopub.status.busy": "2022-08-02T07:03:30.298367Z",
     "iopub.status.idle": "2022-08-02T07:03:30.310461Z",
     "shell.execute_reply": "2022-08-02T07:03:30.309993Z"
    },
    "papermill": {
     "duration": 0.031577,
     "end_time": "2022-08-02T07:03:30.311713",
     "exception": false,
     "start_time": "2022-08-02T07:03:30.280136",
     "status": "completed"
    },
    "tags": []
   },
   "outputs": [],
   "source": [
    "assert multiplier_gene_obj[\"GAS6\"].ensembl_id == \"ENSG00000183087\""
   ]
  },
  {
   "cell_type": "code",
   "execution_count": 55,
   "id": "e3ffabc7",
   "metadata": {
    "execution": {
     "iopub.execute_input": "2022-08-02T07:03:30.356469Z",
     "iopub.status.busy": "2022-08-02T07:03:30.356276Z",
     "iopub.status.idle": "2022-08-02T07:03:33.367286Z",
     "shell.execute_reply": "2022-08-02T07:03:33.366710Z"
    },
    "papermill": {
     "duration": 3.036067,
     "end_time": "2022-08-02T07:03:33.368806",
     "exception": false,
     "start_time": "2022-08-02T07:03:30.332739",
     "status": "completed"
    },
    "tags": []
   },
   "outputs": [],
   "source": [
    "_gene_obj = list(multiplier_gene_obj.values())\n",
    "\n",
    "genes_info = pd.DataFrame(\n",
    "    {\n",
    "        \"name\": [g.name for g in _gene_obj],\n",
    "        \"id\": [g.ensembl_id for g in _gene_obj],\n",
    "        \"chr\": [g.chromosome for g in _gene_obj],\n",
    "        \"band\": [g.band for g in _gene_obj],\n",
    "        \"start_position\": [g.get_attribute(\"start_position\") for g in _gene_obj],\n",
    "        \"end_position\": [g.get_attribute(\"end_position\") for g in _gene_obj],\n",
    "    }\n",
    ")"
   ]
  },
  {
   "cell_type": "code",
   "execution_count": 56,
   "id": "00475e72-1cfc-485f-8b4e-1d9cce695f58",
   "metadata": {
    "execution": {
     "iopub.execute_input": "2022-08-02T07:03:33.407172Z",
     "iopub.status.busy": "2022-08-02T07:03:33.406979Z",
     "iopub.status.idle": "2022-08-02T07:03:33.467649Z",
     "shell.execute_reply": "2022-08-02T07:03:33.467063Z"
    },
    "papermill": {
     "duration": 0.080875,
     "end_time": "2022-08-02T07:03:33.469193",
     "exception": false,
     "start_time": "2022-08-02T07:03:33.388318",
     "status": "completed"
    },
    "tags": []
   },
   "outputs": [],
   "source": [
    "genes_info = genes_info.assign(\n",
    "    gene_length=genes_info.apply(\n",
    "        lambda x: x[\"end_position\"] - x[\"start_position\"], axis=1\n",
    "    )\n",
    ")"
   ]
  },
  {
   "cell_type": "code",
   "execution_count": 57,
   "id": "e23519b8",
   "metadata": {
    "execution": {
     "iopub.execute_input": "2022-08-02T07:03:33.506917Z",
     "iopub.status.busy": "2022-08-02T07:03:33.506715Z",
     "iopub.status.idle": "2022-08-02T07:03:33.520344Z",
     "shell.execute_reply": "2022-08-02T07:03:33.519690Z"
    },
    "papermill": {
     "duration": 0.0349,
     "end_time": "2022-08-02T07:03:33.521598",
     "exception": false,
     "start_time": "2022-08-02T07:03:33.486698",
     "status": "completed"
    },
    "tags": []
   },
   "outputs": [
    {
     "data": {
      "text/plain": [
       "(6444, 7)"
      ]
     },
     "execution_count": 57,
     "metadata": {},
     "output_type": "execute_result"
    }
   ],
   "source": [
    "genes_info.shape"
   ]
  },
  {
   "cell_type": "code",
   "execution_count": 58,
   "id": "0d71881c",
   "metadata": {
    "execution": {
     "iopub.execute_input": "2022-08-02T07:03:33.558917Z",
     "iopub.status.busy": "2022-08-02T07:03:33.558430Z",
     "iopub.status.idle": "2022-08-02T07:03:33.576358Z",
     "shell.execute_reply": "2022-08-02T07:03:33.575658Z"
    },
    "papermill": {
     "duration": 0.037651,
     "end_time": "2022-08-02T07:03:33.577544",
     "exception": false,
     "start_time": "2022-08-02T07:03:33.539893",
     "status": "completed"
    },
    "tags": []
   },
   "outputs": [
    {
     "data": {
      "text/html": [
       "<div>\n",
       "<style scoped>\n",
       "    .dataframe tbody tr th:only-of-type {\n",
       "        vertical-align: middle;\n",
       "    }\n",
       "\n",
       "    .dataframe tbody tr th {\n",
       "        vertical-align: top;\n",
       "    }\n",
       "\n",
       "    .dataframe thead th {\n",
       "        text-align: right;\n",
       "    }\n",
       "</style>\n",
       "<table border=\"1\" class=\"dataframe\">\n",
       "  <thead>\n",
       "    <tr style=\"text-align: right;\">\n",
       "      <th></th>\n",
       "      <th>name</th>\n",
       "      <th>id</th>\n",
       "      <th>chr</th>\n",
       "      <th>band</th>\n",
       "      <th>start_position</th>\n",
       "      <th>end_position</th>\n",
       "      <th>gene_length</th>\n",
       "    </tr>\n",
       "  </thead>\n",
       "  <tbody>\n",
       "    <tr>\n",
       "      <th>0</th>\n",
       "      <td>GAN</td>\n",
       "      <td>ENSG00000261609</td>\n",
       "      <td>16</td>\n",
       "      <td>16q23.2</td>\n",
       "      <td>81314947.0</td>\n",
       "      <td>81390884.0</td>\n",
       "      <td>75937.0</td>\n",
       "    </tr>\n",
       "    <tr>\n",
       "      <th>1</th>\n",
       "      <td>DTX3</td>\n",
       "      <td>ENSG00000178498</td>\n",
       "      <td>12</td>\n",
       "      <td>12q13.3</td>\n",
       "      <td>57604622.0</td>\n",
       "      <td>57609804.0</td>\n",
       "      <td>5182.0</td>\n",
       "    </tr>\n",
       "    <tr>\n",
       "      <th>2</th>\n",
       "      <td>VARS</td>\n",
       "      <td>ENSG00000204394</td>\n",
       "      <td>6</td>\n",
       "      <td>6p21.33</td>\n",
       "      <td>31777518.0</td>\n",
       "      <td>31795752.0</td>\n",
       "      <td>18234.0</td>\n",
       "    </tr>\n",
       "    <tr>\n",
       "      <th>3</th>\n",
       "      <td>PLCE1</td>\n",
       "      <td>ENSG00000138193</td>\n",
       "      <td>10</td>\n",
       "      <td>10q23.33</td>\n",
       "      <td>94030812.0</td>\n",
       "      <td>94332823.0</td>\n",
       "      <td>302011.0</td>\n",
       "    </tr>\n",
       "    <tr>\n",
       "      <th>4</th>\n",
       "      <td>PPM1D</td>\n",
       "      <td>ENSG00000170836</td>\n",
       "      <td>17</td>\n",
       "      <td>17q23.2</td>\n",
       "      <td>60600183.0</td>\n",
       "      <td>60666280.0</td>\n",
       "      <td>66097.0</td>\n",
       "    </tr>\n",
       "  </tbody>\n",
       "</table>\n",
       "</div>"
      ],
      "text/plain": [
       "    name               id chr      band  start_position  end_position  \\\n",
       "0    GAN  ENSG00000261609  16   16q23.2      81314947.0    81390884.0   \n",
       "1   DTX3  ENSG00000178498  12   12q13.3      57604622.0    57609804.0   \n",
       "2   VARS  ENSG00000204394   6   6p21.33      31777518.0    31795752.0   \n",
       "3  PLCE1  ENSG00000138193  10  10q23.33      94030812.0    94332823.0   \n",
       "4  PPM1D  ENSG00000170836  17   17q23.2      60600183.0    60666280.0   \n",
       "\n",
       "   gene_length  \n",
       "0      75937.0  \n",
       "1       5182.0  \n",
       "2      18234.0  \n",
       "3     302011.0  \n",
       "4      66097.0  "
      ]
     },
     "execution_count": 58,
     "metadata": {},
     "output_type": "execute_result"
    }
   ],
   "source": [
    "genes_info.head()"
   ]
  },
  {
   "cell_type": "code",
   "execution_count": 59,
   "id": "eb968287-d9cf-40f6-a93e-6b322b844404",
   "metadata": {
    "execution": {
     "iopub.execute_input": "2022-08-02T07:03:33.613969Z",
     "iopub.status.busy": "2022-08-02T07:03:33.613753Z",
     "iopub.status.idle": "2022-08-02T07:03:33.637874Z",
     "shell.execute_reply": "2022-08-02T07:03:33.637053Z"
    },
    "papermill": {
     "duration": 0.043748,
     "end_time": "2022-08-02T07:03:33.639116",
     "exception": false,
     "start_time": "2022-08-02T07:03:33.595368",
     "status": "completed"
    },
    "tags": []
   },
   "outputs": [
    {
     "data": {
      "text/html": [
       "<div>\n",
       "<style scoped>\n",
       "    .dataframe tbody tr th:only-of-type {\n",
       "        vertical-align: middle;\n",
       "    }\n",
       "\n",
       "    .dataframe tbody tr th {\n",
       "        vertical-align: top;\n",
       "    }\n",
       "\n",
       "    .dataframe thead th {\n",
       "        text-align: right;\n",
       "    }\n",
       "</style>\n",
       "<table border=\"1\" class=\"dataframe\">\n",
       "  <thead>\n",
       "    <tr style=\"text-align: right;\">\n",
       "      <th></th>\n",
       "      <th>name</th>\n",
       "      <th>id</th>\n",
       "      <th>chr</th>\n",
       "      <th>band</th>\n",
       "      <th>start_position</th>\n",
       "      <th>end_position</th>\n",
       "      <th>gene_length</th>\n",
       "    </tr>\n",
       "  </thead>\n",
       "  <tbody>\n",
       "    <tr>\n",
       "      <th>6443</th>\n",
       "      <td>GNB1</td>\n",
       "      <td>ENSG00000078369</td>\n",
       "      <td>1</td>\n",
       "      <td>1p36.33</td>\n",
       "      <td>1785285.0</td>\n",
       "      <td>1891117.0</td>\n",
       "      <td>105832.0</td>\n",
       "    </tr>\n",
       "    <tr>\n",
       "      <th>3154</th>\n",
       "      <td>ALG14</td>\n",
       "      <td>ENSG00000172339</td>\n",
       "      <td>1</td>\n",
       "      <td>1p21.3</td>\n",
       "      <td>94974405.0</td>\n",
       "      <td>95072951.0</td>\n",
       "      <td>98546.0</td>\n",
       "    </tr>\n",
       "    <tr>\n",
       "      <th>1106</th>\n",
       "      <td>APH1A</td>\n",
       "      <td>ENSG00000117362</td>\n",
       "      <td>1</td>\n",
       "      <td>1q21.2</td>\n",
       "      <td>150265399.0</td>\n",
       "      <td>150269580.0</td>\n",
       "      <td>4181.0</td>\n",
       "    </tr>\n",
       "    <tr>\n",
       "      <th>4869</th>\n",
       "      <td>DVL1</td>\n",
       "      <td>ENSG00000107404</td>\n",
       "      <td>1</td>\n",
       "      <td>1p36.33</td>\n",
       "      <td>1335276.0</td>\n",
       "      <td>1349418.0</td>\n",
       "      <td>14142.0</td>\n",
       "    </tr>\n",
       "    <tr>\n",
       "      <th>3163</th>\n",
       "      <td>CTRC</td>\n",
       "      <td>ENSG00000162438</td>\n",
       "      <td>1</td>\n",
       "      <td>1p36.21</td>\n",
       "      <td>15438439.0</td>\n",
       "      <td>15449242.0</td>\n",
       "      <td>10803.0</td>\n",
       "    </tr>\n",
       "    <tr>\n",
       "      <th>...</th>\n",
       "      <td>...</td>\n",
       "      <td>...</td>\n",
       "      <td>...</td>\n",
       "      <td>...</td>\n",
       "      <td>...</td>\n",
       "      <td>...</td>\n",
       "      <td>...</td>\n",
       "    </tr>\n",
       "    <tr>\n",
       "      <th>5304</th>\n",
       "      <td>UGCG</td>\n",
       "      <td>ENSG00000148154</td>\n",
       "      <td>9</td>\n",
       "      <td>9q31.3</td>\n",
       "      <td>111896814.0</td>\n",
       "      <td>111935369.0</td>\n",
       "      <td>38555.0</td>\n",
       "    </tr>\n",
       "    <tr>\n",
       "      <th>3079</th>\n",
       "      <td>S1PR3</td>\n",
       "      <td>ENSG00000213694</td>\n",
       "      <td>9</td>\n",
       "      <td>9q22.1</td>\n",
       "      <td>88990863.0</td>\n",
       "      <td>89005155.0</td>\n",
       "      <td>14292.0</td>\n",
       "    </tr>\n",
       "    <tr>\n",
       "      <th>4032</th>\n",
       "      <td>C5</td>\n",
       "      <td>ENSG00000106804</td>\n",
       "      <td>9</td>\n",
       "      <td>9q33.2</td>\n",
       "      <td>120952335.0</td>\n",
       "      <td>121050276.0</td>\n",
       "      <td>97941.0</td>\n",
       "    </tr>\n",
       "    <tr>\n",
       "      <th>5347</th>\n",
       "      <td>TMEM133</td>\n",
       "      <td>ENSG00000170647</td>\n",
       "      <td>None</td>\n",
       "      <td>None</td>\n",
       "      <td>NaN</td>\n",
       "      <td>NaN</td>\n",
       "      <td>NaN</td>\n",
       "    </tr>\n",
       "    <tr>\n",
       "      <th>6269</th>\n",
       "      <td>TBCE</td>\n",
       "      <td>ENSG00000116957</td>\n",
       "      <td>None</td>\n",
       "      <td>None</td>\n",
       "      <td>NaN</td>\n",
       "      <td>NaN</td>\n",
       "      <td>NaN</td>\n",
       "    </tr>\n",
       "  </tbody>\n",
       "</table>\n",
       "<p>6444 rows × 7 columns</p>\n",
       "</div>"
      ],
      "text/plain": [
       "         name               id   chr     band  start_position  end_position  \\\n",
       "6443     GNB1  ENSG00000078369     1  1p36.33       1785285.0     1891117.0   \n",
       "3154    ALG14  ENSG00000172339     1   1p21.3      94974405.0    95072951.0   \n",
       "1106    APH1A  ENSG00000117362     1   1q21.2     150265399.0   150269580.0   \n",
       "4869     DVL1  ENSG00000107404     1  1p36.33       1335276.0     1349418.0   \n",
       "3163     CTRC  ENSG00000162438     1  1p36.21      15438439.0    15449242.0   \n",
       "...       ...              ...   ...      ...             ...           ...   \n",
       "5304     UGCG  ENSG00000148154     9   9q31.3     111896814.0   111935369.0   \n",
       "3079    S1PR3  ENSG00000213694     9   9q22.1      88990863.0    89005155.0   \n",
       "4032       C5  ENSG00000106804     9   9q33.2     120952335.0   121050276.0   \n",
       "5347  TMEM133  ENSG00000170647  None     None             NaN           NaN   \n",
       "6269     TBCE  ENSG00000116957  None     None             NaN           NaN   \n",
       "\n",
       "      gene_length  \n",
       "6443     105832.0  \n",
       "3154      98546.0  \n",
       "1106       4181.0  \n",
       "4869      14142.0  \n",
       "3163      10803.0  \n",
       "...           ...  \n",
       "5304      38555.0  \n",
       "3079      14292.0  \n",
       "4032      97941.0  \n",
       "5347          NaN  \n",
       "6269          NaN  \n",
       "\n",
       "[6444 rows x 7 columns]"
      ]
     },
     "execution_count": 59,
     "metadata": {},
     "output_type": "execute_result"
    }
   ],
   "source": [
    "genes_info.sort_values(\"chr\")"
   ]
  },
  {
   "cell_type": "markdown",
   "id": "7282b84d-f4f3-4e8c-9dd8-6319505ed4b5",
   "metadata": {
    "papermill": {
     "duration": 0.017895,
     "end_time": "2022-08-02T07:03:33.675565",
     "exception": false,
     "start_time": "2022-08-02T07:03:33.657670",
     "status": "completed"
    },
    "tags": []
   },
   "source": [
    "### Save"
   ]
  },
  {
   "cell_type": "code",
   "execution_count": 60,
   "id": "32cf6566-03bb-4a85-81e1-da46fc9f37ad",
   "metadata": {
    "execution": {
     "iopub.execute_input": "2022-08-02T07:03:33.712616Z",
     "iopub.status.busy": "2022-08-02T07:03:33.712398Z",
     "iopub.status.idle": "2022-08-02T07:03:33.728365Z",
     "shell.execute_reply": "2022-08-02T07:03:33.727677Z"
    },
    "papermill": {
     "duration": 0.035802,
     "end_time": "2022-08-02T07:03:33.729676",
     "exception": false,
     "start_time": "2022-08-02T07:03:33.693874",
     "status": "completed"
    },
    "tags": []
   },
   "outputs": [],
   "source": [
    "genes_info.to_pickle(OUTPUT_DIR_BASE / \"genes_info.pkl\")"
   ]
  },
  {
   "cell_type": "markdown",
   "id": "5b9f384a-5a91-4a8d-9007-cfe43f2d86f8",
   "metadata": {
    "papermill": {
     "duration": 0.018264,
     "end_time": "2022-08-02T07:03:33.766893",
     "exception": false,
     "start_time": "2022-08-02T07:03:33.748629",
     "status": "completed"
    },
    "tags": []
   },
   "source": [
    "## S-PrediXcan results"
   ]
  },
  {
   "cell_type": "markdown",
   "id": "fc0a2a4c-960c-4a0a-9b23-b66c3d5d6e07",
   "metadata": {
    "papermill": {
     "duration": 0.017485,
     "end_time": "2022-08-02T07:03:33.802640",
     "exception": false,
     "start_time": "2022-08-02T07:03:33.785155",
     "status": "completed"
    },
    "tags": []
   },
   "source": [
    "### Load results across all tissues"
   ]
  },
  {
   "cell_type": "code",
   "execution_count": 61,
   "id": "0b4867d7-a608-4b08-9d77-1782be3a0c94",
   "metadata": {
    "execution": {
     "iopub.execute_input": "2022-08-02T07:03:33.839419Z",
     "iopub.status.busy": "2022-08-02T07:03:33.839206Z",
     "iopub.status.idle": "2022-08-02T07:03:33.852052Z",
     "shell.execute_reply": "2022-08-02T07:03:33.851413Z"
    },
    "papermill": {
     "duration": 0.032829,
     "end_time": "2022-08-02T07:03:33.853416",
     "exception": false,
     "start_time": "2022-08-02T07:03:33.820587",
     "status": "completed"
    },
    "tags": []
   },
   "outputs": [],
   "source": [
    "spredixcan_result_files = {\n",
    "    t: SPREDIXCAN_FOLDER / SPREDIXCAN_FILE_PATTERN.format(tissue=t)\n",
    "    for t in prediction_model_tissues\n",
    "}"
   ]
  },
  {
   "cell_type": "code",
   "execution_count": 62,
   "id": "0ce270dd-46ac-4eaa-9d86-2b201d67d82f",
   "metadata": {
    "execution": {
     "iopub.execute_input": "2022-08-02T07:03:33.890270Z",
     "iopub.status.busy": "2022-08-02T07:03:33.890066Z",
     "iopub.status.idle": "2022-08-02T07:03:33.903704Z",
     "shell.execute_reply": "2022-08-02T07:03:33.902946Z"
    },
    "papermill": {
     "duration": 0.033587,
     "end_time": "2022-08-02T07:03:33.904999",
     "exception": false,
     "start_time": "2022-08-02T07:03:33.871412",
     "status": "completed"
    },
    "tags": []
   },
   "outputs": [
    {
     "data": {
      "text/plain": [
       "[PosixPath('/opt/data/results/gls/null_sims/twas/spredixcan/random.pheno0-gtex_v8-mashr-Skin_Not_Sun_Exposed_Suprapubic.csv'),\n",
       " PosixPath('/opt/data/results/gls/null_sims/twas/spredixcan/random.pheno0-gtex_v8-mashr-Cells_EBV-transformed_lymphocytes.csv'),\n",
       " PosixPath('/opt/data/results/gls/null_sims/twas/spredixcan/random.pheno0-gtex_v8-mashr-Brain_Frontal_Cortex_BA9.csv'),\n",
       " PosixPath('/opt/data/results/gls/null_sims/twas/spredixcan/random.pheno0-gtex_v8-mashr-Kidney_Cortex.csv'),\n",
       " PosixPath('/opt/data/results/gls/null_sims/twas/spredixcan/random.pheno0-gtex_v8-mashr-Brain_Substantia_nigra.csv')]"
      ]
     },
     "metadata": {},
     "output_type": "display_data"
    }
   ],
   "source": [
    "assert len(spredixcan_result_files) == len(prediction_model_tissues)\n",
    "display(list(spredixcan_result_files.values())[:5])"
   ]
  },
  {
   "cell_type": "code",
   "execution_count": 63,
   "id": "aa140259-303e-4912-b2bf-e7adce662f88",
   "metadata": {
    "execution": {
     "iopub.execute_input": "2022-08-02T07:03:33.942861Z",
     "iopub.status.busy": "2022-08-02T07:03:33.942660Z",
     "iopub.status.idle": "2022-08-02T07:03:33.993531Z",
     "shell.execute_reply": "2022-08-02T07:03:33.992909Z"
    },
    "papermill": {
     "duration": 0.071137,
     "end_time": "2022-08-02T07:03:33.994819",
     "exception": false,
     "start_time": "2022-08-02T07:03:33.923682",
     "status": "completed"
    },
    "tags": []
   },
   "outputs": [
    {
     "data": {
      "text/html": [
       "<div>\n",
       "<style scoped>\n",
       "    .dataframe tbody tr th:only-of-type {\n",
       "        vertical-align: middle;\n",
       "    }\n",
       "\n",
       "    .dataframe tbody tr th {\n",
       "        vertical-align: top;\n",
       "    }\n",
       "\n",
       "    .dataframe thead th {\n",
       "        text-align: right;\n",
       "    }\n",
       "</style>\n",
       "<table border=\"1\" class=\"dataframe\">\n",
       "  <thead>\n",
       "    <tr style=\"text-align: right;\">\n",
       "      <th></th>\n",
       "      <th>gene</th>\n",
       "      <th>gene_name</th>\n",
       "      <th>zscore</th>\n",
       "      <th>effect_size</th>\n",
       "      <th>pvalue</th>\n",
       "      <th>var_g</th>\n",
       "      <th>pred_perf_r2</th>\n",
       "      <th>pred_perf_pval</th>\n",
       "      <th>pred_perf_qval</th>\n",
       "      <th>n_snps_used</th>\n",
       "      <th>n_snps_in_cov</th>\n",
       "      <th>n_snps_in_model</th>\n",
       "      <th>best_gwas_p</th>\n",
       "      <th>largest_weight</th>\n",
       "    </tr>\n",
       "  </thead>\n",
       "  <tbody>\n",
       "    <tr>\n",
       "      <th>0</th>\n",
       "      <td>ENSG00000131236.16</td>\n",
       "      <td>CAP1</td>\n",
       "      <td>-3.882684</td>\n",
       "      <td>NaN</td>\n",
       "      <td>0.000103</td>\n",
       "      <td>8.369900e-05</td>\n",
       "      <td>NaN</td>\n",
       "      <td>NaN</td>\n",
       "      <td>NaN</td>\n",
       "      <td>1</td>\n",
       "      <td>1</td>\n",
       "      <td>1</td>\n",
       "      <td>0.000103</td>\n",
       "      <td>0.021593</td>\n",
       "    </tr>\n",
       "    <tr>\n",
       "      <th>1</th>\n",
       "      <td>ENSG00000130787.13</td>\n",
       "      <td>HIP1R</td>\n",
       "      <td>3.862583</td>\n",
       "      <td>NaN</td>\n",
       "      <td>0.000112</td>\n",
       "      <td>3.039669e-03</td>\n",
       "      <td>NaN</td>\n",
       "      <td>NaN</td>\n",
       "      <td>NaN</td>\n",
       "      <td>2</td>\n",
       "      <td>2</td>\n",
       "      <td>2</td>\n",
       "      <td>0.001681</td>\n",
       "      <td>0.087495</td>\n",
       "    </tr>\n",
       "    <tr>\n",
       "      <th>2</th>\n",
       "      <td>ENSG00000103018.16</td>\n",
       "      <td>CYB5B</td>\n",
       "      <td>3.478682</td>\n",
       "      <td>NaN</td>\n",
       "      <td>0.000504</td>\n",
       "      <td>6.455623e-03</td>\n",
       "      <td>NaN</td>\n",
       "      <td>NaN</td>\n",
       "      <td>NaN</td>\n",
       "      <td>1</td>\n",
       "      <td>1</td>\n",
       "      <td>1</td>\n",
       "      <td>0.000504</td>\n",
       "      <td>0.114291</td>\n",
       "    </tr>\n",
       "    <tr>\n",
       "      <th>3</th>\n",
       "      <td>ENSG00000117906.13</td>\n",
       "      <td>RCN2</td>\n",
       "      <td>3.431258</td>\n",
       "      <td>NaN</td>\n",
       "      <td>0.000601</td>\n",
       "      <td>5.848182e-07</td>\n",
       "      <td>NaN</td>\n",
       "      <td>NaN</td>\n",
       "      <td>NaN</td>\n",
       "      <td>1</td>\n",
       "      <td>1</td>\n",
       "      <td>1</td>\n",
       "      <td>0.000601</td>\n",
       "      <td>0.001696</td>\n",
       "    </tr>\n",
       "    <tr>\n",
       "      <th>4</th>\n",
       "      <td>ENSG00000135469.13</td>\n",
       "      <td>COQ10A</td>\n",
       "      <td>3.363631</td>\n",
       "      <td>NaN</td>\n",
       "      <td>0.000769</td>\n",
       "      <td>4.312235e-04</td>\n",
       "      <td>NaN</td>\n",
       "      <td>NaN</td>\n",
       "      <td>NaN</td>\n",
       "      <td>2</td>\n",
       "      <td>2</td>\n",
       "      <td>2</td>\n",
       "      <td>0.013565</td>\n",
       "      <td>0.064460</td>\n",
       "    </tr>\n",
       "  </tbody>\n",
       "</table>\n",
       "</div>"
      ],
      "text/plain": [
       "                 gene gene_name    zscore  effect_size    pvalue  \\\n",
       "0  ENSG00000131236.16      CAP1 -3.882684          NaN  0.000103   \n",
       "1  ENSG00000130787.13     HIP1R  3.862583          NaN  0.000112   \n",
       "2  ENSG00000103018.16     CYB5B  3.478682          NaN  0.000504   \n",
       "3  ENSG00000117906.13      RCN2  3.431258          NaN  0.000601   \n",
       "4  ENSG00000135469.13    COQ10A  3.363631          NaN  0.000769   \n",
       "\n",
       "          var_g  pred_perf_r2  pred_perf_pval  pred_perf_qval  n_snps_used  \\\n",
       "0  8.369900e-05           NaN             NaN             NaN            1   \n",
       "1  3.039669e-03           NaN             NaN             NaN            2   \n",
       "2  6.455623e-03           NaN             NaN             NaN            1   \n",
       "3  5.848182e-07           NaN             NaN             NaN            1   \n",
       "4  4.312235e-04           NaN             NaN             NaN            2   \n",
       "\n",
       "   n_snps_in_cov  n_snps_in_model  best_gwas_p  largest_weight  \n",
       "0              1                1     0.000103        0.021593  \n",
       "1              2                2     0.001681        0.087495  \n",
       "2              1                1     0.000504        0.114291  \n",
       "3              1                1     0.000601        0.001696  \n",
       "4              2                2     0.013565        0.064460  "
      ]
     },
     "execution_count": 63,
     "metadata": {},
     "output_type": "execute_result"
    }
   ],
   "source": [
    "# look at the structure of one result\n",
    "pd.read_csv(spredixcan_result_files[\"Whole_Blood\"]).head()"
   ]
  },
  {
   "cell_type": "code",
   "execution_count": 64,
   "id": "4381b9ff-6ab5-47f1-89d1-560f88fdf07f",
   "metadata": {
    "execution": {
     "iopub.execute_input": "2022-08-02T07:03:34.035091Z",
     "iopub.status.busy": "2022-08-02T07:03:34.034886Z",
     "iopub.status.idle": "2022-08-02T07:03:34.047968Z",
     "shell.execute_reply": "2022-08-02T07:03:34.047375Z"
    },
    "papermill": {
     "duration": 0.03521,
     "end_time": "2022-08-02T07:03:34.049353",
     "exception": false,
     "start_time": "2022-08-02T07:03:34.014143",
     "status": "completed"
    },
    "tags": []
   },
   "outputs": [],
   "source": [
    "assert all(f.exists() for f in spredixcan_result_files.values())"
   ]
  },
  {
   "cell_type": "code",
   "execution_count": 65,
   "id": "d477157f-51e9-4c7c-b826-7ab5f4fdf3e3",
   "metadata": {
    "execution": {
     "iopub.execute_input": "2022-08-02T07:03:34.087412Z",
     "iopub.status.busy": "2022-08-02T07:03:34.087210Z",
     "iopub.status.idle": "2022-08-02T07:03:35.893639Z",
     "shell.execute_reply": "2022-08-02T07:03:35.893066Z"
    },
    "papermill": {
     "duration": 1.82676,
     "end_time": "2022-08-02T07:03:35.895033",
     "exception": false,
     "start_time": "2022-08-02T07:03:34.068273",
     "status": "completed"
    },
    "tags": []
   },
   "outputs": [],
   "source": [
    "spredixcan_dfs = [\n",
    "    pd.read_csv(\n",
    "        f,\n",
    "        usecols=[\n",
    "            \"gene\",\n",
    "            \"gene_name\",\n",
    "            \"zscore\",\n",
    "            \"pvalue\",\n",
    "            \"n_snps_used\",\n",
    "            \"n_snps_in_model\",\n",
    "        ],\n",
    "    )\n",
    "    .dropna(subset=[\"gene\", \"zscore\", \"pvalue\"])\n",
    "    .assign(tissue=t)\n",
    "    for t, f in spredixcan_result_files.items()\n",
    "]"
   ]
  },
  {
   "cell_type": "code",
   "execution_count": 66,
   "id": "9730bd37-b769-411f-bb6b-bb658d1ff88c",
   "metadata": {
    "execution": {
     "iopub.execute_input": "2022-08-02T07:03:35.933380Z",
     "iopub.status.busy": "2022-08-02T07:03:35.933164Z",
     "iopub.status.idle": "2022-08-02T07:03:35.945888Z",
     "shell.execute_reply": "2022-08-02T07:03:35.945403Z"
    },
    "papermill": {
     "duration": 0.033069,
     "end_time": "2022-08-02T07:03:35.947155",
     "exception": false,
     "start_time": "2022-08-02T07:03:35.914086",
     "status": "completed"
    },
    "tags": []
   },
   "outputs": [],
   "source": [
    "assert len(spredixcan_dfs) == len(prediction_model_tissues)"
   ]
  },
  {
   "cell_type": "code",
   "execution_count": 67,
   "id": "bcd73f53-1283-4ff6-bbb5-25fb71f5cb72",
   "metadata": {
    "execution": {
     "iopub.execute_input": "2022-08-02T07:03:35.985939Z",
     "iopub.status.busy": "2022-08-02T07:03:35.985736Z",
     "iopub.status.idle": "2022-08-02T07:03:36.095333Z",
     "shell.execute_reply": "2022-08-02T07:03:36.094667Z"
    },
    "papermill": {
     "duration": 0.130448,
     "end_time": "2022-08-02T07:03:36.096964",
     "exception": false,
     "start_time": "2022-08-02T07:03:35.966516",
     "status": "completed"
    },
    "tags": []
   },
   "outputs": [],
   "source": [
    "spredixcan_dfs = pd.concat(spredixcan_dfs)"
   ]
  },
  {
   "cell_type": "code",
   "execution_count": 68,
   "id": "ae99c7b5-14fc-4b39-a6b2-40fc703acd0a",
   "metadata": {
    "execution": {
     "iopub.execute_input": "2022-08-02T07:03:36.144010Z",
     "iopub.status.busy": "2022-08-02T07:03:36.143829Z",
     "iopub.status.idle": "2022-08-02T07:03:36.189307Z",
     "shell.execute_reply": "2022-08-02T07:03:36.188802Z"
    },
    "papermill": {
     "duration": 0.070088,
     "end_time": "2022-08-02T07:03:36.190744",
     "exception": false,
     "start_time": "2022-08-02T07:03:36.120656",
     "status": "completed"
    },
    "tags": []
   },
   "outputs": [],
   "source": [
    "assert spredixcan_dfs[\"tissue\"].unique().shape[0] == len(prediction_model_tissues)"
   ]
  },
  {
   "cell_type": "code",
   "execution_count": 69,
   "id": "b7223a23-e40f-4cd3-8988-72033f8739bd",
   "metadata": {
    "execution": {
     "iopub.execute_input": "2022-08-02T07:03:36.228609Z",
     "iopub.status.busy": "2022-08-02T07:03:36.228406Z",
     "iopub.status.idle": "2022-08-02T07:03:36.241560Z",
     "shell.execute_reply": "2022-08-02T07:03:36.241057Z"
    },
    "papermill": {
     "duration": 0.033505,
     "end_time": "2022-08-02T07:03:36.242777",
     "exception": false,
     "start_time": "2022-08-02T07:03:36.209272",
     "status": "completed"
    },
    "tags": []
   },
   "outputs": [
    {
     "data": {
      "text/plain": [
       "(652858, 7)"
      ]
     },
     "execution_count": 69,
     "metadata": {},
     "output_type": "execute_result"
    }
   ],
   "source": [
    "spredixcan_dfs.shape"
   ]
  },
  {
   "cell_type": "code",
   "execution_count": 70,
   "id": "4987073a-3b70-4162-93fb-beeb351ebfe0",
   "metadata": {
    "execution": {
     "iopub.execute_input": "2022-08-02T07:03:36.281151Z",
     "iopub.status.busy": "2022-08-02T07:03:36.280948Z",
     "iopub.status.idle": "2022-08-02T07:03:36.486106Z",
     "shell.execute_reply": "2022-08-02T07:03:36.485412Z"
    },
    "papermill": {
     "duration": 0.225937,
     "end_time": "2022-08-02T07:03:36.487799",
     "exception": false,
     "start_time": "2022-08-02T07:03:36.261862",
     "status": "completed"
    },
    "tags": []
   },
   "outputs": [],
   "source": [
    "spredixcan_dfs = spredixcan_dfs.assign(\n",
    "    gene_id=spredixcan_dfs[\"gene\"].apply(lambda g: g.split(\".\")[0])\n",
    ")"
   ]
  },
  {
   "cell_type": "code",
   "execution_count": 71,
   "id": "6b47d026-01c0-4f7c-a90e-f0baa13235f4",
   "metadata": {
    "execution": {
     "iopub.execute_input": "2022-08-02T07:03:36.536900Z",
     "iopub.status.busy": "2022-08-02T07:03:36.536725Z",
     "iopub.status.idle": "2022-08-02T07:03:36.556809Z",
     "shell.execute_reply": "2022-08-02T07:03:36.556262Z"
    },
    "papermill": {
     "duration": 0.045713,
     "end_time": "2022-08-02T07:03:36.558151",
     "exception": false,
     "start_time": "2022-08-02T07:03:36.512438",
     "status": "completed"
    },
    "tags": []
   },
   "outputs": [
    {
     "data": {
      "text/html": [
       "<div>\n",
       "<style scoped>\n",
       "    .dataframe tbody tr th:only-of-type {\n",
       "        vertical-align: middle;\n",
       "    }\n",
       "\n",
       "    .dataframe tbody tr th {\n",
       "        vertical-align: top;\n",
       "    }\n",
       "\n",
       "    .dataframe thead th {\n",
       "        text-align: right;\n",
       "    }\n",
       "</style>\n",
       "<table border=\"1\" class=\"dataframe\">\n",
       "  <thead>\n",
       "    <tr style=\"text-align: right;\">\n",
       "      <th></th>\n",
       "      <th>gene</th>\n",
       "      <th>gene_name</th>\n",
       "      <th>zscore</th>\n",
       "      <th>pvalue</th>\n",
       "      <th>n_snps_used</th>\n",
       "      <th>n_snps_in_model</th>\n",
       "      <th>tissue</th>\n",
       "      <th>gene_id</th>\n",
       "    </tr>\n",
       "  </thead>\n",
       "  <tbody>\n",
       "    <tr>\n",
       "      <th>0</th>\n",
       "      <td>ENSG00000131236.16</td>\n",
       "      <td>CAP1</td>\n",
       "      <td>-3.882684</td>\n",
       "      <td>0.000103</td>\n",
       "      <td>1</td>\n",
       "      <td>1</td>\n",
       "      <td>Skin_Not_Sun_Exposed_Suprapubic</td>\n",
       "      <td>ENSG00000131236</td>\n",
       "    </tr>\n",
       "    <tr>\n",
       "      <th>1</th>\n",
       "      <td>ENSG00000196172.9</td>\n",
       "      <td>ZNF681</td>\n",
       "      <td>-3.710444</td>\n",
       "      <td>0.000207</td>\n",
       "      <td>1</td>\n",
       "      <td>1</td>\n",
       "      <td>Skin_Not_Sun_Exposed_Suprapubic</td>\n",
       "      <td>ENSG00000196172</td>\n",
       "    </tr>\n",
       "    <tr>\n",
       "      <th>2</th>\n",
       "      <td>ENSG00000280789.1</td>\n",
       "      <td>PAGR1</td>\n",
       "      <td>3.403263</td>\n",
       "      <td>0.000666</td>\n",
       "      <td>2</td>\n",
       "      <td>2</td>\n",
       "      <td>Skin_Not_Sun_Exposed_Suprapubic</td>\n",
       "      <td>ENSG00000280789</td>\n",
       "    </tr>\n",
       "    <tr>\n",
       "      <th>3</th>\n",
       "      <td>ENSG00000215218.3</td>\n",
       "      <td>UBE2QL1</td>\n",
       "      <td>3.385093</td>\n",
       "      <td>0.000712</td>\n",
       "      <td>3</td>\n",
       "      <td>3</td>\n",
       "      <td>Skin_Not_Sun_Exposed_Suprapubic</td>\n",
       "      <td>ENSG00000215218</td>\n",
       "    </tr>\n",
       "    <tr>\n",
       "      <th>4</th>\n",
       "      <td>ENSG00000167371.17</td>\n",
       "      <td>PRRT2</td>\n",
       "      <td>3.381834</td>\n",
       "      <td>0.000720</td>\n",
       "      <td>2</td>\n",
       "      <td>2</td>\n",
       "      <td>Skin_Not_Sun_Exposed_Suprapubic</td>\n",
       "      <td>ENSG00000167371</td>\n",
       "    </tr>\n",
       "  </tbody>\n",
       "</table>\n",
       "</div>"
      ],
      "text/plain": [
       "                 gene gene_name    zscore    pvalue  n_snps_used  \\\n",
       "0  ENSG00000131236.16      CAP1 -3.882684  0.000103            1   \n",
       "1   ENSG00000196172.9    ZNF681 -3.710444  0.000207            1   \n",
       "2   ENSG00000280789.1     PAGR1  3.403263  0.000666            2   \n",
       "3   ENSG00000215218.3   UBE2QL1  3.385093  0.000712            3   \n",
       "4  ENSG00000167371.17     PRRT2  3.381834  0.000720            2   \n",
       "\n",
       "   n_snps_in_model                           tissue          gene_id  \n",
       "0                1  Skin_Not_Sun_Exposed_Suprapubic  ENSG00000131236  \n",
       "1                1  Skin_Not_Sun_Exposed_Suprapubic  ENSG00000196172  \n",
       "2                2  Skin_Not_Sun_Exposed_Suprapubic  ENSG00000280789  \n",
       "3                3  Skin_Not_Sun_Exposed_Suprapubic  ENSG00000215218  \n",
       "4                2  Skin_Not_Sun_Exposed_Suprapubic  ENSG00000167371  "
      ]
     },
     "execution_count": 71,
     "metadata": {},
     "output_type": "execute_result"
    }
   ],
   "source": [
    "spredixcan_dfs.head()"
   ]
  },
  {
   "cell_type": "code",
   "execution_count": 72,
   "id": "d5dbdb2e-b7eb-4665-9fd4-9ce714d6af0c",
   "metadata": {
    "execution": {
     "iopub.execute_input": "2022-08-02T07:03:36.603035Z",
     "iopub.status.busy": "2022-08-02T07:03:36.602855Z",
     "iopub.status.idle": "2022-08-02T07:03:36.763823Z",
     "shell.execute_reply": "2022-08-02T07:03:36.763094Z"
    },
    "papermill": {
     "duration": 0.184061,
     "end_time": "2022-08-02T07:03:36.765572",
     "exception": false,
     "start_time": "2022-08-02T07:03:36.581511",
     "status": "completed"
    },
    "tags": []
   },
   "outputs": [],
   "source": [
    "# leave only common genes\n",
    "spredixcan_dfs = spredixcan_dfs[\n",
    "    spredixcan_dfs[\"gene_id\"].isin(smultixcan_gene_id_common)\n",
    "].drop(columns=[\"gene_name\"])"
   ]
  },
  {
   "cell_type": "code",
   "execution_count": 73,
   "id": "8d34f99a-6b43-47aa-bb07-dfc67e169538",
   "metadata": {
    "execution": {
     "iopub.execute_input": "2022-08-02T07:03:36.843667Z",
     "iopub.status.busy": "2022-08-02T07:03:36.843469Z",
     "iopub.status.idle": "2022-08-02T07:03:36.858919Z",
     "shell.execute_reply": "2022-08-02T07:03:36.858285Z"
    },
    "papermill": {
     "duration": 0.069708,
     "end_time": "2022-08-02T07:03:36.860314",
     "exception": false,
     "start_time": "2022-08-02T07:03:36.790606",
     "status": "completed"
    },
    "tags": []
   },
   "outputs": [
    {
     "data": {
      "text/plain": [
       "(233445, 7)"
      ]
     },
     "execution_count": 73,
     "metadata": {},
     "output_type": "execute_result"
    }
   ],
   "source": [
    "spredixcan_dfs.shape"
   ]
  },
  {
   "cell_type": "markdown",
   "id": "5ecfd141-ecb8-47cf-905e-25cc1b4d3f9d",
   "metadata": {
    "papermill": {
     "duration": 0.019731,
     "end_time": "2022-08-02T07:03:36.903019",
     "exception": false,
     "start_time": "2022-08-02T07:03:36.883288",
     "status": "completed"
    },
    "tags": []
   },
   "source": [
    "### Count number of tissues available per gene"
   ]
  },
  {
   "cell_type": "code",
   "execution_count": 74,
   "id": "86fe37e1-a303-4221-a12e-3a54a04dd510",
   "metadata": {
    "execution": {
     "iopub.execute_input": "2022-08-02T07:03:36.940756Z",
     "iopub.status.busy": "2022-08-02T07:03:36.940576Z",
     "iopub.status.idle": "2022-08-02T07:03:37.015050Z",
     "shell.execute_reply": "2022-08-02T07:03:37.014520Z"
    },
    "papermill": {
     "duration": 0.095092,
     "end_time": "2022-08-02T07:03:37.016462",
     "exception": false,
     "start_time": "2022-08-02T07:03:36.921370",
     "status": "completed"
    },
    "tags": []
   },
   "outputs": [],
   "source": [
    "spredixcan_genes_n_models = spredixcan_dfs.groupby(\"gene_id\")[\"tissue\"].nunique()"
   ]
  },
  {
   "cell_type": "code",
   "execution_count": 75,
   "id": "31416d48-1e4d-463f-9a5c-34d29803c3f8",
   "metadata": {
    "execution": {
     "iopub.execute_input": "2022-08-02T07:03:37.056456Z",
     "iopub.status.busy": "2022-08-02T07:03:37.056253Z",
     "iopub.status.idle": "2022-08-02T07:03:37.070971Z",
     "shell.execute_reply": "2022-08-02T07:03:37.070453Z"
    },
    "papermill": {
     "duration": 0.0358,
     "end_time": "2022-08-02T07:03:37.072247",
     "exception": false,
     "start_time": "2022-08-02T07:03:37.036447",
     "status": "completed"
    },
    "tags": []
   },
   "outputs": [
    {
     "data": {
      "text/plain": [
       "gene_id\n",
       "ENSG00000000419     2\n",
       "ENSG00000000938    36\n",
       "ENSG00000000971    34\n",
       "ENSG00000001084    32\n",
       "ENSG00000001167    40\n",
       "                   ..\n",
       "ENSG00000278540    36\n",
       "ENSG00000278828     4\n",
       "ENSG00000278845    49\n",
       "ENSG00000281005    49\n",
       "ENSG00000282608    36\n",
       "Name: tissue, Length: 6444, dtype: int64"
      ]
     },
     "execution_count": 75,
     "metadata": {},
     "output_type": "execute_result"
    }
   ],
   "source": [
    "spredixcan_genes_n_models"
   ]
  },
  {
   "cell_type": "code",
   "execution_count": 76,
   "id": "d737ad4f-f821-4546-9a3e-6703fe264b49",
   "metadata": {
    "execution": {
     "iopub.execute_input": "2022-08-02T07:03:37.111666Z",
     "iopub.status.busy": "2022-08-02T07:03:37.111462Z",
     "iopub.status.idle": "2022-08-02T07:03:37.139014Z",
     "shell.execute_reply": "2022-08-02T07:03:37.138457Z"
    },
    "papermill": {
     "duration": 0.048631,
     "end_time": "2022-08-02T07:03:37.140442",
     "exception": false,
     "start_time": "2022-08-02T07:03:37.091811",
     "status": "completed"
    },
    "tags": []
   },
   "outputs": [],
   "source": [
    "# testing that in S-MultiXcan I get the same number of tissues per gene\n",
    "_tmp_smultixcan_results_n_models = (\n",
    "    smultixcan_results.set_index(\"gene_id\")[\"n\"].astype(int).rename(\"tissue\")\n",
    ")\n",
    "\n",
    "_cg = _tmp_smultixcan_results_n_models.index.intersection(\n",
    "    spredixcan_genes_n_models.index\n",
    ")\n",
    "_tmp_smultixcan_results_n_models = _tmp_smultixcan_results_n_models.loc[_cg]\n",
    "_spredixcan = spredixcan_genes_n_models.loc[_cg]\n",
    "\n",
    "assert _spredixcan.shape[0] == _tmp_smultixcan_results_n_models.shape[0]\n",
    "assert _spredixcan.equals(_tmp_smultixcan_results_n_models.loc[_spredixcan.index])"
   ]
  },
  {
   "cell_type": "markdown",
   "id": "904d7d30-9c2d-4c3e-b674-3f081954fe8b",
   "metadata": {
    "papermill": {
     "duration": 0.019477,
     "end_time": "2022-08-02T07:03:37.181042",
     "exception": false,
     "start_time": "2022-08-02T07:03:37.161565",
     "status": "completed"
    },
    "tags": []
   },
   "source": [
    "### Get tissues available per gene"
   ]
  },
  {
   "cell_type": "code",
   "execution_count": 77,
   "id": "cf014e81-4b4e-4c46-9265-67718b3ab08e",
   "metadata": {
    "execution": {
     "iopub.execute_input": "2022-08-02T07:03:37.219470Z",
     "iopub.status.busy": "2022-08-02T07:03:37.219288Z",
     "iopub.status.idle": "2022-08-02T07:03:37.387826Z",
     "shell.execute_reply": "2022-08-02T07:03:37.387232Z"
    },
    "papermill": {
     "duration": 0.189583,
     "end_time": "2022-08-02T07:03:37.389430",
     "exception": false,
     "start_time": "2022-08-02T07:03:37.199847",
     "status": "completed"
    },
    "tags": []
   },
   "outputs": [],
   "source": [
    "spredixcan_genes_models = spredixcan_dfs.groupby(\"gene_id\")[\"tissue\"].apply(\n",
    "    lambda x: frozenset(x.tolist())\n",
    ")"
   ]
  },
  {
   "cell_type": "code",
   "execution_count": 78,
   "id": "5df09d7f-39c9-408f-9fef-5189e8ca1c87",
   "metadata": {
    "execution": {
     "iopub.execute_input": "2022-08-02T07:03:37.430615Z",
     "iopub.status.busy": "2022-08-02T07:03:37.430423Z",
     "iopub.status.idle": "2022-08-02T07:03:37.447240Z",
     "shell.execute_reply": "2022-08-02T07:03:37.446752Z"
    },
    "papermill": {
     "duration": 0.037892,
     "end_time": "2022-08-02T07:03:37.448479",
     "exception": false,
     "start_time": "2022-08-02T07:03:37.410587",
     "status": "completed"
    },
    "tags": []
   },
   "outputs": [
    {
     "data": {
      "text/plain": [
       "gene_id\n",
       "ENSG00000000419         (Brain_Substantia_nigra, Brain_Hypothalamus)\n",
       "ENSG00000000938    (Artery_Aorta, Colon_Transverse, Breast_Mammar...\n",
       "ENSG00000000971    (Small_Intestine_Terminal_Ileum, Artery_Aorta,...\n",
       "ENSG00000001084    (Small_Intestine_Terminal_Ileum, Artery_Aorta,...\n",
       "ENSG00000001167    (Small_Intestine_Terminal_Ileum, Artery_Aorta,...\n",
       "                                         ...                        \n",
       "ENSG00000278540    (Small_Intestine_Terminal_Ileum, Artery_Aorta,...\n",
       "ENSG00000278828    (Adipose_Visceral_Omentum, Artery_Coronary, Es...\n",
       "ENSG00000278845    (Small_Intestine_Terminal_Ileum, Artery_Aorta,...\n",
       "ENSG00000281005    (Small_Intestine_Terminal_Ileum, Artery_Aorta,...\n",
       "ENSG00000282608    (Small_Intestine_Terminal_Ileum, Artery_Aorta,...\n",
       "Name: tissue, Length: 6444, dtype: object"
      ]
     },
     "execution_count": 78,
     "metadata": {},
     "output_type": "execute_result"
    }
   ],
   "source": [
    "spredixcan_genes_models"
   ]
  },
  {
   "cell_type": "code",
   "execution_count": 79,
   "id": "97c46886-5a48-4813-b890-1dcdb09ec09d",
   "metadata": {
    "execution": {
     "iopub.execute_input": "2022-08-02T07:03:37.488208Z",
     "iopub.status.busy": "2022-08-02T07:03:37.488028Z",
     "iopub.status.idle": "2022-08-02T07:03:37.500464Z",
     "shell.execute_reply": "2022-08-02T07:03:37.499796Z"
    },
    "papermill": {
     "duration": 0.033252,
     "end_time": "2022-08-02T07:03:37.501755",
     "exception": false,
     "start_time": "2022-08-02T07:03:37.468503",
     "status": "completed"
    },
    "tags": []
   },
   "outputs": [],
   "source": [
    "assert spredixcan_genes_n_models.shape[0] == spredixcan_genes_models.shape[0]"
   ]
  },
  {
   "cell_type": "code",
   "execution_count": 80,
   "id": "abc13913-a681-4297-a0e6-dde62f43c36f",
   "metadata": {
    "execution": {
     "iopub.execute_input": "2022-08-02T07:03:37.542320Z",
     "iopub.status.busy": "2022-08-02T07:03:37.542106Z",
     "iopub.status.idle": "2022-08-02T07:03:37.555104Z",
     "shell.execute_reply": "2022-08-02T07:03:37.554599Z"
    },
    "papermill": {
     "duration": 0.034565,
     "end_time": "2022-08-02T07:03:37.556346",
     "exception": false,
     "start_time": "2022-08-02T07:03:37.521781",
     "status": "completed"
    },
    "tags": []
   },
   "outputs": [],
   "source": [
    "assert spredixcan_genes_n_models.index.equals(spredixcan_genes_models.index)"
   ]
  },
  {
   "cell_type": "code",
   "execution_count": 81,
   "id": "995a02e7-b836-471b-b438-17c8c46e4fde",
   "metadata": {
    "execution": {
     "iopub.execute_input": "2022-08-02T07:03:37.596618Z",
     "iopub.status.busy": "2022-08-02T07:03:37.596096Z",
     "iopub.status.idle": "2022-08-02T07:03:37.610387Z",
     "shell.execute_reply": "2022-08-02T07:03:37.609884Z"
    },
    "papermill": {
     "duration": 0.035275,
     "end_time": "2022-08-02T07:03:37.611686",
     "exception": false,
     "start_time": "2022-08-02T07:03:37.576411",
     "status": "completed"
    },
    "tags": []
   },
   "outputs": [],
   "source": [
    "assert (spredixcan_genes_models.apply(len) <= len(prediction_model_tissues)).all()"
   ]
  },
  {
   "cell_type": "code",
   "execution_count": 82,
   "id": "0c1d0c68-1a06-480c-b6d6-d3c4fdf0f5aa",
   "metadata": {
    "execution": {
     "iopub.execute_input": "2022-08-02T07:03:37.652297Z",
     "iopub.status.busy": "2022-08-02T07:03:37.652093Z",
     "iopub.status.idle": "2022-08-02T07:03:37.669300Z",
     "shell.execute_reply": "2022-08-02T07:03:37.668800Z"
    },
    "papermill": {
     "duration": 0.038829,
     "end_time": "2022-08-02T07:03:37.670611",
     "exception": false,
     "start_time": "2022-08-02T07:03:37.631782",
     "status": "completed"
    },
    "tags": []
   },
   "outputs": [
    {
     "data": {
      "text/plain": [
       "count    6444.000000\n",
       "mean       36.226723\n",
       "std        12.973688\n",
       "min         1.000000\n",
       "25%        29.000000\n",
       "50%        41.000000\n",
       "75%        47.000000\n",
       "max        49.000000\n",
       "Name: tissue, dtype: float64"
      ]
     },
     "execution_count": 82,
     "metadata": {},
     "output_type": "execute_result"
    }
   ],
   "source": [
    "spredixcan_genes_models.apply(len).describe()"
   ]
  },
  {
   "cell_type": "code",
   "execution_count": 83,
   "id": "991b9441-6bb5-4b72-9285-5fd579875e40",
   "metadata": {
    "execution": {
     "iopub.execute_input": "2022-08-02T07:03:37.712648Z",
     "iopub.status.busy": "2022-08-02T07:03:37.711874Z",
     "iopub.status.idle": "2022-08-02T07:03:37.727625Z",
     "shell.execute_reply": "2022-08-02T07:03:37.727169Z"
    },
    "papermill": {
     "duration": 0.037521,
     "end_time": "2022-08-02T07:03:37.728972",
     "exception": false,
     "start_time": "2022-08-02T07:03:37.691451",
     "status": "completed"
    },
    "tags": []
   },
   "outputs": [],
   "source": [
    "# testing\n",
    "assert (\n",
    "    spredixcan_genes_models.loc[spredixcan_genes_n_models.index]\n",
    "    .apply(len)\n",
    "    .equals(spredixcan_genes_n_models)\n",
    ")"
   ]
  },
  {
   "cell_type": "markdown",
   "id": "3042b22d-9d88-4e21-b112-ab23cf8d24ea",
   "metadata": {
    "papermill": {
     "duration": 0.020321,
     "end_time": "2022-08-02T07:03:37.770042",
     "exception": false,
     "start_time": "2022-08-02T07:03:37.749721",
     "status": "completed"
    },
    "tags": []
   },
   "source": [
    "### Add gene name and set index"
   ]
  },
  {
   "cell_type": "code",
   "execution_count": 84,
   "id": "3b7b0e76-7aca-44bf-beff-5f1c1b6193ee",
   "metadata": {
    "execution": {
     "iopub.execute_input": "2022-08-02T07:03:37.824039Z",
     "iopub.status.busy": "2022-08-02T07:03:37.823834Z",
     "iopub.status.idle": "2022-08-02T07:03:37.837647Z",
     "shell.execute_reply": "2022-08-02T07:03:37.837140Z"
    },
    "papermill": {
     "duration": 0.035032,
     "end_time": "2022-08-02T07:03:37.838988",
     "exception": false,
     "start_time": "2022-08-02T07:03:37.803956",
     "status": "completed"
    },
    "tags": []
   },
   "outputs": [],
   "source": [
    "spredixcan_genes_models = spredixcan_genes_models.to_frame().reset_index()"
   ]
  },
  {
   "cell_type": "code",
   "execution_count": 85,
   "id": "ffab4b61-c2d4-4bcc-a147-23a4bf30f715",
   "metadata": {
    "execution": {
     "iopub.execute_input": "2022-08-02T07:03:37.879426Z",
     "iopub.status.busy": "2022-08-02T07:03:37.879223Z",
     "iopub.status.idle": "2022-08-02T07:03:37.896825Z",
     "shell.execute_reply": "2022-08-02T07:03:37.896343Z"
    },
    "papermill": {
     "duration": 0.038723,
     "end_time": "2022-08-02T07:03:37.897960",
     "exception": false,
     "start_time": "2022-08-02T07:03:37.859237",
     "status": "completed"
    },
    "tags": []
   },
   "outputs": [
    {
     "data": {
      "text/html": [
       "<div>\n",
       "<style scoped>\n",
       "    .dataframe tbody tr th:only-of-type {\n",
       "        vertical-align: middle;\n",
       "    }\n",
       "\n",
       "    .dataframe tbody tr th {\n",
       "        vertical-align: top;\n",
       "    }\n",
       "\n",
       "    .dataframe thead th {\n",
       "        text-align: right;\n",
       "    }\n",
       "</style>\n",
       "<table border=\"1\" class=\"dataframe\">\n",
       "  <thead>\n",
       "    <tr style=\"text-align: right;\">\n",
       "      <th></th>\n",
       "      <th>gene_id</th>\n",
       "      <th>tissue</th>\n",
       "    </tr>\n",
       "  </thead>\n",
       "  <tbody>\n",
       "    <tr>\n",
       "      <th>0</th>\n",
       "      <td>ENSG00000000419</td>\n",
       "      <td>(Brain_Substantia_nigra, Brain_Hypothalamus)</td>\n",
       "    </tr>\n",
       "    <tr>\n",
       "      <th>1</th>\n",
       "      <td>ENSG00000000938</td>\n",
       "      <td>(Artery_Aorta, Colon_Transverse, Breast_Mammar...</td>\n",
       "    </tr>\n",
       "    <tr>\n",
       "      <th>2</th>\n",
       "      <td>ENSG00000000971</td>\n",
       "      <td>(Small_Intestine_Terminal_Ileum, Artery_Aorta,...</td>\n",
       "    </tr>\n",
       "    <tr>\n",
       "      <th>3</th>\n",
       "      <td>ENSG00000001084</td>\n",
       "      <td>(Small_Intestine_Terminal_Ileum, Artery_Aorta,...</td>\n",
       "    </tr>\n",
       "    <tr>\n",
       "      <th>4</th>\n",
       "      <td>ENSG00000001167</td>\n",
       "      <td>(Small_Intestine_Terminal_Ileum, Artery_Aorta,...</td>\n",
       "    </tr>\n",
       "  </tbody>\n",
       "</table>\n",
       "</div>"
      ],
      "text/plain": [
       "           gene_id                                             tissue\n",
       "0  ENSG00000000419       (Brain_Substantia_nigra, Brain_Hypothalamus)\n",
       "1  ENSG00000000938  (Artery_Aorta, Colon_Transverse, Breast_Mammar...\n",
       "2  ENSG00000000971  (Small_Intestine_Terminal_Ileum, Artery_Aorta,...\n",
       "3  ENSG00000001084  (Small_Intestine_Terminal_Ileum, Artery_Aorta,...\n",
       "4  ENSG00000001167  (Small_Intestine_Terminal_Ileum, Artery_Aorta,..."
      ]
     },
     "execution_count": 85,
     "metadata": {},
     "output_type": "execute_result"
    }
   ],
   "source": [
    "spredixcan_genes_models.head()"
   ]
  },
  {
   "cell_type": "code",
   "execution_count": 86,
   "id": "e1cb2fe5-969f-4526-bca7-a3b8919b3509",
   "metadata": {
    "execution": {
     "iopub.execute_input": "2022-08-02T07:03:37.938646Z",
     "iopub.status.busy": "2022-08-02T07:03:37.938152Z",
     "iopub.status.idle": "2022-08-02T07:03:37.953429Z",
     "shell.execute_reply": "2022-08-02T07:03:37.952825Z"
    },
    "papermill": {
     "duration": 0.036644,
     "end_time": "2022-08-02T07:03:37.954907",
     "exception": false,
     "start_time": "2022-08-02T07:03:37.918263",
     "status": "completed"
    },
    "tags": []
   },
   "outputs": [],
   "source": [
    "spredixcan_genes_models = spredixcan_genes_models.assign(\n",
    "    gene_name=spredixcan_genes_models[\"gene_id\"].apply(\n",
    "        lambda g: Gene.GENE_ID_TO_NAME_MAP[g]\n",
    "    )\n",
    ")"
   ]
  },
  {
   "cell_type": "code",
   "execution_count": 87,
   "id": "ff078ce5-3f18-442e-a593-3326436c758e",
   "metadata": {
    "execution": {
     "iopub.execute_input": "2022-08-02T07:03:37.996300Z",
     "iopub.status.busy": "2022-08-02T07:03:37.996095Z",
     "iopub.status.idle": "2022-08-02T07:03:38.010503Z",
     "shell.execute_reply": "2022-08-02T07:03:38.009947Z"
    },
    "papermill": {
     "duration": 0.035835,
     "end_time": "2022-08-02T07:03:38.011890",
     "exception": false,
     "start_time": "2022-08-02T07:03:37.976055",
     "status": "completed"
    },
    "tags": []
   },
   "outputs": [],
   "source": [
    "spredixcan_genes_models = spredixcan_genes_models[[\"gene_id\", \"gene_name\", \"tissue\"]]"
   ]
  },
  {
   "cell_type": "code",
   "execution_count": 88,
   "id": "a65c8bf2-5ecd-4f80-a857-11f8a0c019c4",
   "metadata": {
    "execution": {
     "iopub.execute_input": "2022-08-02T07:03:38.052936Z",
     "iopub.status.busy": "2022-08-02T07:03:38.052733Z",
     "iopub.status.idle": "2022-08-02T07:03:38.066570Z",
     "shell.execute_reply": "2022-08-02T07:03:38.066061Z"
    },
    "papermill": {
     "duration": 0.035339,
     "end_time": "2022-08-02T07:03:38.068005",
     "exception": false,
     "start_time": "2022-08-02T07:03:38.032666",
     "status": "completed"
    },
    "tags": []
   },
   "outputs": [],
   "source": [
    "spredixcan_genes_models = spredixcan_genes_models.set_index(\"gene_id\")"
   ]
  },
  {
   "cell_type": "code",
   "execution_count": 89,
   "id": "af6b40b9-fc58-47a1-a1b5-4404034b008b",
   "metadata": {
    "execution": {
     "iopub.execute_input": "2022-08-02T07:03:38.110872Z",
     "iopub.status.busy": "2022-08-02T07:03:38.110669Z",
     "iopub.status.idle": "2022-08-02T07:03:38.128126Z",
     "shell.execute_reply": "2022-08-02T07:03:38.127598Z"
    },
    "papermill": {
     "duration": 0.039718,
     "end_time": "2022-08-02T07:03:38.129358",
     "exception": false,
     "start_time": "2022-08-02T07:03:38.089640",
     "status": "completed"
    },
    "tags": []
   },
   "outputs": [
    {
     "data": {
      "text/html": [
       "<div>\n",
       "<style scoped>\n",
       "    .dataframe tbody tr th:only-of-type {\n",
       "        vertical-align: middle;\n",
       "    }\n",
       "\n",
       "    .dataframe tbody tr th {\n",
       "        vertical-align: top;\n",
       "    }\n",
       "\n",
       "    .dataframe thead th {\n",
       "        text-align: right;\n",
       "    }\n",
       "</style>\n",
       "<table border=\"1\" class=\"dataframe\">\n",
       "  <thead>\n",
       "    <tr style=\"text-align: right;\">\n",
       "      <th></th>\n",
       "      <th>gene_name</th>\n",
       "      <th>tissue</th>\n",
       "    </tr>\n",
       "    <tr>\n",
       "      <th>gene_id</th>\n",
       "      <th></th>\n",
       "      <th></th>\n",
       "    </tr>\n",
       "  </thead>\n",
       "  <tbody>\n",
       "    <tr>\n",
       "      <th>ENSG00000000419</th>\n",
       "      <td>DPM1</td>\n",
       "      <td>(Brain_Substantia_nigra, Brain_Hypothalamus)</td>\n",
       "    </tr>\n",
       "    <tr>\n",
       "      <th>ENSG00000000938</th>\n",
       "      <td>FGR</td>\n",
       "      <td>(Artery_Aorta, Colon_Transverse, Breast_Mammar...</td>\n",
       "    </tr>\n",
       "    <tr>\n",
       "      <th>ENSG00000000971</th>\n",
       "      <td>CFH</td>\n",
       "      <td>(Small_Intestine_Terminal_Ileum, Artery_Aorta,...</td>\n",
       "    </tr>\n",
       "    <tr>\n",
       "      <th>ENSG00000001084</th>\n",
       "      <td>GCLC</td>\n",
       "      <td>(Small_Intestine_Terminal_Ileum, Artery_Aorta,...</td>\n",
       "    </tr>\n",
       "    <tr>\n",
       "      <th>ENSG00000001167</th>\n",
       "      <td>NFYA</td>\n",
       "      <td>(Small_Intestine_Terminal_Ileum, Artery_Aorta,...</td>\n",
       "    </tr>\n",
       "  </tbody>\n",
       "</table>\n",
       "</div>"
      ],
      "text/plain": [
       "                gene_name                                             tissue\n",
       "gene_id                                                                     \n",
       "ENSG00000000419      DPM1       (Brain_Substantia_nigra, Brain_Hypothalamus)\n",
       "ENSG00000000938       FGR  (Artery_Aorta, Colon_Transverse, Breast_Mammar...\n",
       "ENSG00000000971       CFH  (Small_Intestine_Terminal_Ileum, Artery_Aorta,...\n",
       "ENSG00000001084      GCLC  (Small_Intestine_Terminal_Ileum, Artery_Aorta,...\n",
       "ENSG00000001167      NFYA  (Small_Intestine_Terminal_Ileum, Artery_Aorta,..."
      ]
     },
     "execution_count": 89,
     "metadata": {},
     "output_type": "execute_result"
    }
   ],
   "source": [
    "spredixcan_genes_models.head()"
   ]
  },
  {
   "cell_type": "markdown",
   "id": "d1e67be9-9094-4a07-b89d-3a0815d503e6",
   "metadata": {
    "papermill": {
     "duration": 0.019534,
     "end_time": "2022-08-02T07:03:38.168873",
     "exception": false,
     "start_time": "2022-08-02T07:03:38.149339",
     "status": "completed"
    },
    "tags": []
   },
   "source": [
    "### Add number of tissues"
   ]
  },
  {
   "cell_type": "code",
   "execution_count": 90,
   "id": "b2702bdb-b3bc-48e6-9c3e-855924d9e74b",
   "metadata": {
    "execution": {
     "iopub.execute_input": "2022-08-02T07:03:38.209052Z",
     "iopub.status.busy": "2022-08-02T07:03:38.208847Z",
     "iopub.status.idle": "2022-08-02T07:03:38.223779Z",
     "shell.execute_reply": "2022-08-02T07:03:38.223232Z"
    },
    "papermill": {
     "duration": 0.0365,
     "end_time": "2022-08-02T07:03:38.225139",
     "exception": false,
     "start_time": "2022-08-02T07:03:38.188639",
     "status": "completed"
    },
    "tags": []
   },
   "outputs": [],
   "source": [
    "spredixcan_genes_models = spredixcan_genes_models.assign(\n",
    "    n_tissues=spredixcan_genes_models[\"tissue\"].apply(len)\n",
    ")"
   ]
  },
  {
   "cell_type": "code",
   "execution_count": 91,
   "id": "4a5eb4b8-5e11-45a3-a991-0515bd83fc03",
   "metadata": {
    "execution": {
     "iopub.execute_input": "2022-08-02T07:03:38.266105Z",
     "iopub.status.busy": "2022-08-02T07:03:38.265901Z",
     "iopub.status.idle": "2022-08-02T07:03:38.283592Z",
     "shell.execute_reply": "2022-08-02T07:03:38.283056Z"
    },
    "papermill": {
     "duration": 0.039426,
     "end_time": "2022-08-02T07:03:38.284785",
     "exception": false,
     "start_time": "2022-08-02T07:03:38.245359",
     "status": "completed"
    },
    "tags": []
   },
   "outputs": [
    {
     "data": {
      "text/html": [
       "<div>\n",
       "<style scoped>\n",
       "    .dataframe tbody tr th:only-of-type {\n",
       "        vertical-align: middle;\n",
       "    }\n",
       "\n",
       "    .dataframe tbody tr th {\n",
       "        vertical-align: top;\n",
       "    }\n",
       "\n",
       "    .dataframe thead th {\n",
       "        text-align: right;\n",
       "    }\n",
       "</style>\n",
       "<table border=\"1\" class=\"dataframe\">\n",
       "  <thead>\n",
       "    <tr style=\"text-align: right;\">\n",
       "      <th></th>\n",
       "      <th>gene_name</th>\n",
       "      <th>tissue</th>\n",
       "      <th>n_tissues</th>\n",
       "    </tr>\n",
       "    <tr>\n",
       "      <th>gene_id</th>\n",
       "      <th></th>\n",
       "      <th></th>\n",
       "      <th></th>\n",
       "    </tr>\n",
       "  </thead>\n",
       "  <tbody>\n",
       "    <tr>\n",
       "      <th>ENSG00000000419</th>\n",
       "      <td>DPM1</td>\n",
       "      <td>(Brain_Substantia_nigra, Brain_Hypothalamus)</td>\n",
       "      <td>2</td>\n",
       "    </tr>\n",
       "    <tr>\n",
       "      <th>ENSG00000000938</th>\n",
       "      <td>FGR</td>\n",
       "      <td>(Artery_Aorta, Colon_Transverse, Breast_Mammar...</td>\n",
       "      <td>36</td>\n",
       "    </tr>\n",
       "    <tr>\n",
       "      <th>ENSG00000000971</th>\n",
       "      <td>CFH</td>\n",
       "      <td>(Small_Intestine_Terminal_Ileum, Artery_Aorta,...</td>\n",
       "      <td>34</td>\n",
       "    </tr>\n",
       "    <tr>\n",
       "      <th>ENSG00000001084</th>\n",
       "      <td>GCLC</td>\n",
       "      <td>(Small_Intestine_Terminal_Ileum, Artery_Aorta,...</td>\n",
       "      <td>32</td>\n",
       "    </tr>\n",
       "    <tr>\n",
       "      <th>ENSG00000001167</th>\n",
       "      <td>NFYA</td>\n",
       "      <td>(Small_Intestine_Terminal_Ileum, Artery_Aorta,...</td>\n",
       "      <td>40</td>\n",
       "    </tr>\n",
       "  </tbody>\n",
       "</table>\n",
       "</div>"
      ],
      "text/plain": [
       "                gene_name                                             tissue  \\\n",
       "gene_id                                                                        \n",
       "ENSG00000000419      DPM1       (Brain_Substantia_nigra, Brain_Hypothalamus)   \n",
       "ENSG00000000938       FGR  (Artery_Aorta, Colon_Transverse, Breast_Mammar...   \n",
       "ENSG00000000971       CFH  (Small_Intestine_Terminal_Ileum, Artery_Aorta,...   \n",
       "ENSG00000001084      GCLC  (Small_Intestine_Terminal_Ileum, Artery_Aorta,...   \n",
       "ENSG00000001167      NFYA  (Small_Intestine_Terminal_Ileum, Artery_Aorta,...   \n",
       "\n",
       "                 n_tissues  \n",
       "gene_id                     \n",
       "ENSG00000000419          2  \n",
       "ENSG00000000938         36  \n",
       "ENSG00000000971         34  \n",
       "ENSG00000001084         32  \n",
       "ENSG00000001167         40  "
      ]
     },
     "execution_count": 91,
     "metadata": {},
     "output_type": "execute_result"
    }
   ],
   "source": [
    "spredixcan_genes_models.head()"
   ]
  },
  {
   "cell_type": "markdown",
   "id": "850c554f-2ace-40a3-a33a-477246bb07c7",
   "metadata": {
    "papermill": {
     "duration": 0.019725,
     "end_time": "2022-08-02T07:03:38.325209",
     "exception": false,
     "start_time": "2022-08-02T07:03:38.305484",
     "status": "completed"
    },
    "tags": []
   },
   "source": [
    "### Get gene's objects"
   ]
  },
  {
   "cell_type": "code",
   "execution_count": 92,
   "id": "dfd93711-5c91-4cb6-8561-f366e270b6b1",
   "metadata": {
    "execution": {
     "iopub.execute_input": "2022-08-02T07:03:38.368947Z",
     "iopub.status.busy": "2022-08-02T07:03:38.368751Z",
     "iopub.status.idle": "2022-08-02T07:03:38.394478Z",
     "shell.execute_reply": "2022-08-02T07:03:38.393813Z"
    },
    "papermill": {
     "duration": 0.051142,
     "end_time": "2022-08-02T07:03:38.396077",
     "exception": false,
     "start_time": "2022-08-02T07:03:38.344935",
     "status": "completed"
    },
    "tags": []
   },
   "outputs": [],
   "source": [
    "spredixcan_gene_obj = {\n",
    "    gene_id: Gene(ensembl_id=gene_id) for gene_id in spredixcan_genes_models.index\n",
    "}"
   ]
  },
  {
   "cell_type": "code",
   "execution_count": 93,
   "id": "59efbedc-0b5d-4d0b-bd82-95e74c0ba793",
   "metadata": {
    "execution": {
     "iopub.execute_input": "2022-08-02T07:03:38.442922Z",
     "iopub.status.busy": "2022-08-02T07:03:38.442721Z",
     "iopub.status.idle": "2022-08-02T07:03:38.455920Z",
     "shell.execute_reply": "2022-08-02T07:03:38.455378Z"
    },
    "papermill": {
     "duration": 0.036183,
     "end_time": "2022-08-02T07:03:38.457179",
     "exception": false,
     "start_time": "2022-08-02T07:03:38.420996",
     "status": "completed"
    },
    "tags": []
   },
   "outputs": [
    {
     "data": {
      "text/plain": [
       "6444"
      ]
     },
     "execution_count": 93,
     "metadata": {},
     "output_type": "execute_result"
    }
   ],
   "source": [
    "len(spredixcan_gene_obj)"
   ]
  },
  {
   "cell_type": "markdown",
   "id": "27ac1828-755a-424a-b416-6aef1f0c2e45",
   "metadata": {
    "papermill": {
     "duration": 0.021937,
     "end_time": "2022-08-02T07:03:38.500711",
     "exception": false,
     "start_time": "2022-08-02T07:03:38.478774",
     "status": "completed"
    },
    "tags": []
   },
   "source": [
    "### Add genes' variance captured by principal components"
   ]
  },
  {
   "cell_type": "code",
   "execution_count": 94,
   "id": "893b3418-054c-44d2-9ce0-7fa590aef00e",
   "metadata": {
    "execution": {
     "iopub.execute_input": "2022-08-02T07:03:38.541411Z",
     "iopub.status.busy": "2022-08-02T07:03:38.541192Z",
     "iopub.status.idle": "2022-08-02T07:03:38.553849Z",
     "shell.execute_reply": "2022-08-02T07:03:38.553392Z"
    },
    "papermill": {
     "duration": 0.034324,
     "end_time": "2022-08-02T07:03:38.555053",
     "exception": false,
     "start_time": "2022-08-02T07:03:38.520729",
     "status": "completed"
    },
    "tags": []
   },
   "outputs": [],
   "source": [
    "def _get_gene_pc_variance(gene_row):\n",
    "    gene_id = gene_row.name\n",
    "    gene_tissues = gene_row[\"tissue\"]\n",
    "    gene_obj = spredixcan_gene_obj[gene_id]\n",
    "\n",
    "    u, s, vt = gene_obj.get_tissues_correlations_svd(\n",
    "        tissues=gene_tissues,\n",
    "        snps_subset=gwas_variants_ids_set,\n",
    "        reference_panel=REFERENCE_PANEL,\n",
    "        model_type=EQTL_MODEL,\n",
    "        # use_covariance_matrix=True,\n",
    "    )\n",
    "\n",
    "    return s"
   ]
  },
  {
   "cell_type": "code",
   "execution_count": 95,
   "id": "083afa33-cea0-40d3-af20-94a1307a6607",
   "metadata": {
    "execution": {
     "iopub.execute_input": "2022-08-02T07:03:38.596311Z",
     "iopub.status.busy": "2022-08-02T07:03:38.596108Z",
     "iopub.status.idle": "2022-08-02T07:03:44.477822Z",
     "shell.execute_reply": "2022-08-02T07:03:44.477371Z"
    },
    "papermill": {
     "duration": 5.9038,
     "end_time": "2022-08-02T07:03:44.479233",
     "exception": false,
     "start_time": "2022-08-02T07:03:38.575433",
     "status": "completed"
    },
    "tags": []
   },
   "outputs": [
    {
     "data": {
      "text/plain": [
       "array([34.04228543,  4.46235102,  2.10095291,  2.01662842,  1.39383852])"
      ]
     },
     "execution_count": 95,
     "metadata": {},
     "output_type": "execute_result"
    }
   ],
   "source": [
    "_tmp = spredixcan_genes_models.loc[\"ENSG00000188976\"]\n",
    "_get_gene_pc_variance(_tmp)"
   ]
  },
  {
   "cell_type": "code",
   "execution_count": 96,
   "id": "80f7720d-79c9-4183-bb7e-b1480f31ed87",
   "metadata": {
    "execution": {
     "iopub.execute_input": "2022-08-02T07:03:44.525198Z",
     "iopub.status.busy": "2022-08-02T07:03:44.525038Z",
     "iopub.status.idle": "2022-08-02T08:19:01.323006Z",
     "shell.execute_reply": "2022-08-02T08:19:01.322514Z"
    },
    "papermill": {
     "duration": 4516.823344,
     "end_time": "2022-08-02T08:19:01.325009",
     "exception": false,
     "start_time": "2022-08-02T07:03:44.501665",
     "status": "completed"
    },
    "tags": []
   },
   "outputs": [],
   "source": [
    "spredixcan_genes_tissues_pc_variance = spredixcan_genes_models.apply(\n",
    "    _get_gene_pc_variance, axis=1\n",
    ")"
   ]
  },
  {
   "cell_type": "code",
   "execution_count": 97,
   "id": "621302a1-1407-4400-9282-e37798bb18b3",
   "metadata": {
    "execution": {
     "iopub.execute_input": "2022-08-02T08:19:01.371500Z",
     "iopub.status.busy": "2022-08-02T08:19:01.371332Z",
     "iopub.status.idle": "2022-08-02T08:19:01.391145Z",
     "shell.execute_reply": "2022-08-02T08:19:01.390665Z"
    },
    "papermill": {
     "duration": 0.045144,
     "end_time": "2022-08-02T08:19:01.393708",
     "exception": false,
     "start_time": "2022-08-02T08:19:01.348564",
     "status": "completed"
    },
    "tags": []
   },
   "outputs": [
    {
     "data": {
      "text/plain": [
       "gene_id\n",
       "ENSG00000000419             [1.0372585612589562, 0.9627414387410438]\n",
       "ENSG00000000938    [30.57880701512375, 2.029732645600111, 1.40179...\n",
       "ENSG00000000971    [20.77260827663933, 8.177158142324839, 1.86464...\n",
       "ENSG00000001084    [20.976449940269113, 4.772354749306764, 2.2362...\n",
       "ENSG00000001167                                  [37.63836978240499]\n",
       "                                         ...                        \n",
       "ENSG00000278540    [30.32818460171692, 3.2291618901090953, 1.3858...\n",
       "ENSG00000278828             [3.0532062168877383, 0.9467937831122619]\n",
       "ENSG00000278845              [45.592035288667745, 2.289944011540382]\n",
       "ENSG00000281005                                 [48.392246935540605]\n",
       "ENSG00000282608    [22.226039467557182, 6.465743613747883, 2.7570...\n",
       "Length: 6444, dtype: object"
      ]
     },
     "execution_count": 97,
     "metadata": {},
     "output_type": "execute_result"
    }
   ],
   "source": [
    "spredixcan_genes_tissues_pc_variance"
   ]
  },
  {
   "cell_type": "code",
   "execution_count": 98,
   "id": "9ac9e0fb-e0cc-4fea-ad01-2e76d40afb3c",
   "metadata": {
    "execution": {
     "iopub.execute_input": "2022-08-02T08:19:01.439063Z",
     "iopub.status.busy": "2022-08-02T08:19:01.438738Z",
     "iopub.status.idle": "2022-08-02T08:19:01.451711Z",
     "shell.execute_reply": "2022-08-02T08:19:01.451170Z"
    },
    "papermill": {
     "duration": 0.037131,
     "end_time": "2022-08-02T08:19:01.453242",
     "exception": false,
     "start_time": "2022-08-02T08:19:01.416111",
     "status": "completed"
    },
    "tags": []
   },
   "outputs": [],
   "source": [
    "# # testing\n",
    "# assert spredixcan_genes_tissues_pc_variance.loc[\n",
    "#     \"ENSG00000188976\"\n",
    "# ].sum() == pytest.approx(44.01605629086847)\n",
    "# # this is using the covariance:\n",
    "# # assert spredixcan_genes_tissues_pc_variance.loc[\"ENSG00000188976\"].sum() == pytest.approx(1.1492946006449425)"
   ]
  },
  {
   "cell_type": "code",
   "execution_count": 99,
   "id": "700ed8c8-16e3-4f44-80ff-a4355349ac26",
   "metadata": {
    "execution": {
     "iopub.execute_input": "2022-08-02T08:19:01.498812Z",
     "iopub.status.busy": "2022-08-02T08:19:01.498654Z",
     "iopub.status.idle": "2022-08-02T08:19:01.518792Z",
     "shell.execute_reply": "2022-08-02T08:19:01.518343Z"
    },
    "papermill": {
     "duration": 0.044527,
     "end_time": "2022-08-02T08:19:01.520646",
     "exception": false,
     "start_time": "2022-08-02T08:19:01.476119",
     "status": "completed"
    },
    "tags": []
   },
   "outputs": [],
   "source": [
    "# add to spredixcan_genes_models\n",
    "spredixcan_genes_models = spredixcan_genes_models.join(\n",
    "    spredixcan_genes_tissues_pc_variance.rename(\"tissues_pc_variances\")\n",
    ")"
   ]
  },
  {
   "cell_type": "code",
   "execution_count": 100,
   "id": "597f7dff-2425-490d-84d6-537f8bd0f147",
   "metadata": {
    "execution": {
     "iopub.execute_input": "2022-08-02T08:19:01.566340Z",
     "iopub.status.busy": "2022-08-02T08:19:01.566124Z",
     "iopub.status.idle": "2022-08-02T08:19:01.596146Z",
     "shell.execute_reply": "2022-08-02T08:19:01.591124Z"
    },
    "papermill": {
     "duration": 0.054482,
     "end_time": "2022-08-02T08:19:01.597486",
     "exception": false,
     "start_time": "2022-08-02T08:19:01.543004",
     "status": "completed"
    },
    "tags": []
   },
   "outputs": [
    {
     "data": {
      "text/plain": [
       "(6444, 4)"
      ]
     },
     "execution_count": 100,
     "metadata": {},
     "output_type": "execute_result"
    }
   ],
   "source": [
    "spredixcan_genes_models.shape"
   ]
  },
  {
   "cell_type": "code",
   "execution_count": 101,
   "id": "41bdb249-f7e3-4b07-a534-2c3e46db72dc",
   "metadata": {
    "execution": {
     "iopub.execute_input": "2022-08-02T08:19:01.652505Z",
     "iopub.status.busy": "2022-08-02T08:19:01.652337Z",
     "iopub.status.idle": "2022-08-02T08:19:01.694536Z",
     "shell.execute_reply": "2022-08-02T08:19:01.693988Z"
    },
    "papermill": {
     "duration": 0.073074,
     "end_time": "2022-08-02T08:19:01.696014",
     "exception": false,
     "start_time": "2022-08-02T08:19:01.622940",
     "status": "completed"
    },
    "tags": []
   },
   "outputs": [
    {
     "data": {
      "text/html": [
       "<div>\n",
       "<style scoped>\n",
       "    .dataframe tbody tr th:only-of-type {\n",
       "        vertical-align: middle;\n",
       "    }\n",
       "\n",
       "    .dataframe tbody tr th {\n",
       "        vertical-align: top;\n",
       "    }\n",
       "\n",
       "    .dataframe thead th {\n",
       "        text-align: right;\n",
       "    }\n",
       "</style>\n",
       "<table border=\"1\" class=\"dataframe\">\n",
       "  <thead>\n",
       "    <tr style=\"text-align: right;\">\n",
       "      <th></th>\n",
       "      <th>gene_name</th>\n",
       "      <th>tissue</th>\n",
       "      <th>n_tissues</th>\n",
       "      <th>tissues_pc_variances</th>\n",
       "    </tr>\n",
       "    <tr>\n",
       "      <th>gene_id</th>\n",
       "      <th></th>\n",
       "      <th></th>\n",
       "      <th></th>\n",
       "      <th></th>\n",
       "    </tr>\n",
       "  </thead>\n",
       "  <tbody>\n",
       "    <tr>\n",
       "      <th>ENSG00000000419</th>\n",
       "      <td>DPM1</td>\n",
       "      <td>(Brain_Substantia_nigra, Brain_Hypothalamus)</td>\n",
       "      <td>2</td>\n",
       "      <td>[1.0372585612589562, 0.9627414387410438]</td>\n",
       "    </tr>\n",
       "    <tr>\n",
       "      <th>ENSG00000000938</th>\n",
       "      <td>FGR</td>\n",
       "      <td>(Artery_Aorta, Colon_Transverse, Breast_Mammar...</td>\n",
       "      <td>36</td>\n",
       "      <td>[30.57880701512375, 2.029732645600111, 1.40179...</td>\n",
       "    </tr>\n",
       "    <tr>\n",
       "      <th>ENSG00000000971</th>\n",
       "      <td>CFH</td>\n",
       "      <td>(Small_Intestine_Terminal_Ileum, Artery_Aorta,...</td>\n",
       "      <td>34</td>\n",
       "      <td>[20.77260827663933, 8.177158142324839, 1.86464...</td>\n",
       "    </tr>\n",
       "    <tr>\n",
       "      <th>ENSG00000001084</th>\n",
       "      <td>GCLC</td>\n",
       "      <td>(Small_Intestine_Terminal_Ileum, Artery_Aorta,...</td>\n",
       "      <td>32</td>\n",
       "      <td>[20.976449940269113, 4.772354749306764, 2.2362...</td>\n",
       "    </tr>\n",
       "    <tr>\n",
       "      <th>ENSG00000001167</th>\n",
       "      <td>NFYA</td>\n",
       "      <td>(Small_Intestine_Terminal_Ileum, Artery_Aorta,...</td>\n",
       "      <td>40</td>\n",
       "      <td>[37.63836978240499]</td>\n",
       "    </tr>\n",
       "  </tbody>\n",
       "</table>\n",
       "</div>"
      ],
      "text/plain": [
       "                gene_name                                             tissue  \\\n",
       "gene_id                                                                        \n",
       "ENSG00000000419      DPM1       (Brain_Substantia_nigra, Brain_Hypothalamus)   \n",
       "ENSG00000000938       FGR  (Artery_Aorta, Colon_Transverse, Breast_Mammar...   \n",
       "ENSG00000000971       CFH  (Small_Intestine_Terminal_Ileum, Artery_Aorta,...   \n",
       "ENSG00000001084      GCLC  (Small_Intestine_Terminal_Ileum, Artery_Aorta,...   \n",
       "ENSG00000001167      NFYA  (Small_Intestine_Terminal_Ileum, Artery_Aorta,...   \n",
       "\n",
       "                 n_tissues                               tissues_pc_variances  \n",
       "gene_id                                                                        \n",
       "ENSG00000000419          2           [1.0372585612589562, 0.9627414387410438]  \n",
       "ENSG00000000938         36  [30.57880701512375, 2.029732645600111, 1.40179...  \n",
       "ENSG00000000971         34  [20.77260827663933, 8.177158142324839, 1.86464...  \n",
       "ENSG00000001084         32  [20.976449940269113, 4.772354749306764, 2.2362...  \n",
       "ENSG00000001167         40                                [37.63836978240499]  "
      ]
     },
     "execution_count": 101,
     "metadata": {},
     "output_type": "execute_result"
    }
   ],
   "source": [
    "spredixcan_genes_models.head()"
   ]
  },
  {
   "cell_type": "markdown",
   "id": "e58c08e2-6179-4d47-af1e-4f5e6e048d9d",
   "metadata": {
    "papermill": {
     "duration": 0.028481,
     "end_time": "2022-08-02T08:19:01.753065",
     "exception": false,
     "start_time": "2022-08-02T08:19:01.724584",
     "status": "completed"
    },
    "tags": []
   },
   "source": [
    "### Add genes' variance captured by principal components (covariance)"
   ]
  },
  {
   "cell_type": "code",
   "execution_count": 102,
   "id": "25a97b2a-8044-4de7-b532-7b6516d2b82c",
   "metadata": {
    "execution": {
     "iopub.execute_input": "2022-08-02T08:19:01.812302Z",
     "iopub.status.busy": "2022-08-02T08:19:01.812082Z",
     "iopub.status.idle": "2022-08-02T08:19:01.829237Z",
     "shell.execute_reply": "2022-08-02T08:19:01.828586Z"
    },
    "papermill": {
     "duration": 0.048471,
     "end_time": "2022-08-02T08:19:01.830756",
     "exception": false,
     "start_time": "2022-08-02T08:19:01.782285",
     "status": "completed"
    },
    "tags": []
   },
   "outputs": [],
   "source": [
    "def _get_gene_pc_variance(gene_row):\n",
    "    gene_id = gene_row.name\n",
    "    gene_tissues = gene_row[\"tissue\"]\n",
    "    gene_obj = spredixcan_gene_obj[gene_id]\n",
    "\n",
    "    u, s, vt = gene_obj.get_tissues_correlations_svd(\n",
    "        tissues=gene_tissues,\n",
    "        snps_subset=gwas_variants_ids_set,\n",
    "        reference_panel=REFERENCE_PANEL,\n",
    "        model_type=EQTL_MODEL,\n",
    "        use_covariance_matrix=True,\n",
    "    )\n",
    "\n",
    "    return s"
   ]
  },
  {
   "cell_type": "code",
   "execution_count": 103,
   "id": "f750ce3c-3bea-49d6-beca-9f609ae69b87",
   "metadata": {
    "execution": {
     "iopub.execute_input": "2022-08-02T08:19:01.884835Z",
     "iopub.status.busy": "2022-08-02T08:19:01.884480Z",
     "iopub.status.idle": "2022-08-02T08:19:02.307954Z",
     "shell.execute_reply": "2022-08-02T08:19:02.307562Z"
    },
    "papermill": {
     "duration": 0.451831,
     "end_time": "2022-08-02T08:19:02.309283",
     "exception": false,
     "start_time": "2022-08-02T08:19:01.857452",
     "status": "completed"
    },
    "tags": []
   },
   "outputs": [
    {
     "data": {
      "text/plain": [
       "array([0.99215632, 0.1187998 , 0.03833847])"
      ]
     },
     "execution_count": 103,
     "metadata": {},
     "output_type": "execute_result"
    }
   ],
   "source": [
    "_tmp = spredixcan_genes_models.loc[\"ENSG00000188976\"]\n",
    "_get_gene_pc_variance(_tmp)"
   ]
  },
  {
   "cell_type": "code",
   "execution_count": 104,
   "id": "6502c9ff-8f64-46f9-b94f-9a4a0f6736ba",
   "metadata": {
    "execution": {
     "iopub.execute_input": "2022-08-02T08:19:02.392922Z",
     "iopub.status.busy": "2022-08-02T08:19:02.392762Z",
     "iopub.status.idle": "2022-08-02T09:33:01.139431Z",
     "shell.execute_reply": "2022-08-02T09:33:01.137881Z"
    },
    "papermill": {
     "duration": 4438.794725,
     "end_time": "2022-08-02T09:33:01.144804",
     "exception": false,
     "start_time": "2022-08-02T08:19:02.350079",
     "status": "completed"
    },
    "tags": []
   },
   "outputs": [],
   "source": [
    "spredixcan_genes_tissues_pc_variance = spredixcan_genes_models.apply(\n",
    "    _get_gene_pc_variance, axis=1\n",
    ")"
   ]
  },
  {
   "cell_type": "code",
   "execution_count": 105,
   "id": "a647f47b-6663-4bab-9ffc-c2e92b93c654",
   "metadata": {
    "execution": {
     "iopub.execute_input": "2022-08-02T09:33:01.223403Z",
     "iopub.status.busy": "2022-08-02T09:33:01.222964Z",
     "iopub.status.idle": "2022-08-02T09:33:01.240343Z",
     "shell.execute_reply": "2022-08-02T09:33:01.239674Z"
    },
    "papermill": {
     "duration": 0.050584,
     "end_time": "2022-08-02T09:33:01.242182",
     "exception": false,
     "start_time": "2022-08-02T09:33:01.191598",
     "status": "completed"
    },
    "tags": []
   },
   "outputs": [
    {
     "data": {
      "text/plain": [
       "gene_id\n",
       "ENSG00000000419         [0.008284978865240098, 0.000732674839341259]\n",
       "ENSG00000000938           [0.22478471249969337, 0.00881387381303179]\n",
       "ENSG00000000971    [0.19699534279580105, 0.05731825316349168, 0.0...\n",
       "ENSG00000001084    [0.3657809638925397, 0.12645413710424536, 0.01...\n",
       "ENSG00000001167             [1.478714450892399, 0.04969061838773913]\n",
       "                                         ...                        \n",
       "ENSG00000278540           [0.1296433145719137, 0.012149255372479947]\n",
       "ENSG00000278828       [0.0038984582827012826, 0.0024822589593948897]\n",
       "ENSG00000278845            [1.0985436416424625, 0.04839888608750838]\n",
       "ENSG00000281005                                 [3.7503119195560304]\n",
       "ENSG00000282608    [0.23852663455925402, 0.034896956647310476, 0....\n",
       "Length: 6444, dtype: object"
      ]
     },
     "execution_count": 105,
     "metadata": {},
     "output_type": "execute_result"
    }
   ],
   "source": [
    "spredixcan_genes_tissues_pc_variance"
   ]
  },
  {
   "cell_type": "code",
   "execution_count": 106,
   "id": "6a8d4099-1dca-4d11-a9b8-5a1119885329",
   "metadata": {
    "execution": {
     "iopub.execute_input": "2022-08-02T09:33:01.293238Z",
     "iopub.status.busy": "2022-08-02T09:33:01.293075Z",
     "iopub.status.idle": "2022-08-02T09:33:01.307288Z",
     "shell.execute_reply": "2022-08-02T09:33:01.306796Z"
    },
    "papermill": {
     "duration": 0.039808,
     "end_time": "2022-08-02T09:33:01.308962",
     "exception": false,
     "start_time": "2022-08-02T09:33:01.269154",
     "status": "completed"
    },
    "tags": []
   },
   "outputs": [],
   "source": [
    "# # testing\n",
    "# # assert spredixcan_genes_tissues_pc_variance.loc[\"ENSG00000188976\"].sum() == pytest.approx(44.01605629086847)\n",
    "# # this is using the covariance:\n",
    "# assert spredixcan_genes_tissues_pc_variance.loc[\n",
    "#     \"ENSG00000188976\"\n",
    "# ].sum() == pytest.approx(1.1492946006449425)"
   ]
  },
  {
   "cell_type": "code",
   "execution_count": 107,
   "id": "102ed25d-6c0c-466d-be27-e75a3f03a4bb",
   "metadata": {
    "execution": {
     "iopub.execute_input": "2022-08-02T09:33:01.356680Z",
     "iopub.status.busy": "2022-08-02T09:33:01.355839Z",
     "iopub.status.idle": "2022-08-02T09:33:01.372977Z",
     "shell.execute_reply": "2022-08-02T09:33:01.372538Z"
    },
    "papermill": {
     "duration": 0.042238,
     "end_time": "2022-08-02T09:33:01.374313",
     "exception": false,
     "start_time": "2022-08-02T09:33:01.332075",
     "status": "completed"
    },
    "tags": []
   },
   "outputs": [],
   "source": [
    "# add to spredixcan_genes_models\n",
    "spredixcan_genes_models = spredixcan_genes_models.join(\n",
    "    spredixcan_genes_tissues_pc_variance.rename(\"tissues_pc_variances_cov\")\n",
    ")"
   ]
  },
  {
   "cell_type": "code",
   "execution_count": 108,
   "id": "000d6517-dc14-42a2-88ef-5e6856b293b7",
   "metadata": {
    "execution": {
     "iopub.execute_input": "2022-08-02T09:33:01.424523Z",
     "iopub.status.busy": "2022-08-02T09:33:01.424019Z",
     "iopub.status.idle": "2022-08-02T09:33:01.437999Z",
     "shell.execute_reply": "2022-08-02T09:33:01.437503Z"
    },
    "papermill": {
     "duration": 0.042117,
     "end_time": "2022-08-02T09:33:01.439260",
     "exception": false,
     "start_time": "2022-08-02T09:33:01.397143",
     "status": "completed"
    },
    "tags": []
   },
   "outputs": [
    {
     "data": {
      "text/plain": [
       "(6444, 5)"
      ]
     },
     "execution_count": 108,
     "metadata": {},
     "output_type": "execute_result"
    }
   ],
   "source": [
    "spredixcan_genes_models.shape"
   ]
  },
  {
   "cell_type": "code",
   "execution_count": 109,
   "id": "a2dd6dc7-b325-4f21-910f-6611b7d87efd",
   "metadata": {
    "execution": {
     "iopub.execute_input": "2022-08-02T09:33:01.492545Z",
     "iopub.status.busy": "2022-08-02T09:33:01.492373Z",
     "iopub.status.idle": "2022-08-02T09:33:01.520771Z",
     "shell.execute_reply": "2022-08-02T09:33:01.516858Z"
    },
    "papermill": {
     "duration": 0.057686,
     "end_time": "2022-08-02T09:33:01.522227",
     "exception": false,
     "start_time": "2022-08-02T09:33:01.464541",
     "status": "completed"
    },
    "tags": []
   },
   "outputs": [
    {
     "data": {
      "text/html": [
       "<div>\n",
       "<style scoped>\n",
       "    .dataframe tbody tr th:only-of-type {\n",
       "        vertical-align: middle;\n",
       "    }\n",
       "\n",
       "    .dataframe tbody tr th {\n",
       "        vertical-align: top;\n",
       "    }\n",
       "\n",
       "    .dataframe thead th {\n",
       "        text-align: right;\n",
       "    }\n",
       "</style>\n",
       "<table border=\"1\" class=\"dataframe\">\n",
       "  <thead>\n",
       "    <tr style=\"text-align: right;\">\n",
       "      <th></th>\n",
       "      <th>gene_name</th>\n",
       "      <th>tissue</th>\n",
       "      <th>n_tissues</th>\n",
       "      <th>tissues_pc_variances</th>\n",
       "      <th>tissues_pc_variances_cov</th>\n",
       "    </tr>\n",
       "    <tr>\n",
       "      <th>gene_id</th>\n",
       "      <th></th>\n",
       "      <th></th>\n",
       "      <th></th>\n",
       "      <th></th>\n",
       "      <th></th>\n",
       "    </tr>\n",
       "  </thead>\n",
       "  <tbody>\n",
       "    <tr>\n",
       "      <th>ENSG00000000419</th>\n",
       "      <td>DPM1</td>\n",
       "      <td>(Brain_Substantia_nigra, Brain_Hypothalamus)</td>\n",
       "      <td>2</td>\n",
       "      <td>[1.0372585612589562, 0.9627414387410438]</td>\n",
       "      <td>[0.008284978865240098, 0.000732674839341259]</td>\n",
       "    </tr>\n",
       "    <tr>\n",
       "      <th>ENSG00000000938</th>\n",
       "      <td>FGR</td>\n",
       "      <td>(Artery_Aorta, Colon_Transverse, Breast_Mammar...</td>\n",
       "      <td>36</td>\n",
       "      <td>[30.57880701512375, 2.029732645600111, 1.40179...</td>\n",
       "      <td>[0.22478471249969337, 0.00881387381303179]</td>\n",
       "    </tr>\n",
       "    <tr>\n",
       "      <th>ENSG00000000971</th>\n",
       "      <td>CFH</td>\n",
       "      <td>(Small_Intestine_Terminal_Ileum, Artery_Aorta,...</td>\n",
       "      <td>34</td>\n",
       "      <td>[20.77260827663933, 8.177158142324839, 1.86464...</td>\n",
       "      <td>[0.19699534279580105, 0.05731825316349168, 0.0...</td>\n",
       "    </tr>\n",
       "    <tr>\n",
       "      <th>ENSG00000001084</th>\n",
       "      <td>GCLC</td>\n",
       "      <td>(Small_Intestine_Terminal_Ileum, Artery_Aorta,...</td>\n",
       "      <td>32</td>\n",
       "      <td>[20.976449940269113, 4.772354749306764, 2.2362...</td>\n",
       "      <td>[0.3657809638925397, 0.12645413710424536, 0.01...</td>\n",
       "    </tr>\n",
       "    <tr>\n",
       "      <th>ENSG00000001167</th>\n",
       "      <td>NFYA</td>\n",
       "      <td>(Small_Intestine_Terminal_Ileum, Artery_Aorta,...</td>\n",
       "      <td>40</td>\n",
       "      <td>[37.63836978240499]</td>\n",
       "      <td>[1.478714450892399, 0.04969061838773913]</td>\n",
       "    </tr>\n",
       "  </tbody>\n",
       "</table>\n",
       "</div>"
      ],
      "text/plain": [
       "                gene_name                                             tissue  \\\n",
       "gene_id                                                                        \n",
       "ENSG00000000419      DPM1       (Brain_Substantia_nigra, Brain_Hypothalamus)   \n",
       "ENSG00000000938       FGR  (Artery_Aorta, Colon_Transverse, Breast_Mammar...   \n",
       "ENSG00000000971       CFH  (Small_Intestine_Terminal_Ileum, Artery_Aorta,...   \n",
       "ENSG00000001084      GCLC  (Small_Intestine_Terminal_Ileum, Artery_Aorta,...   \n",
       "ENSG00000001167      NFYA  (Small_Intestine_Terminal_Ileum, Artery_Aorta,...   \n",
       "\n",
       "                 n_tissues                               tissues_pc_variances  \\\n",
       "gene_id                                                                         \n",
       "ENSG00000000419          2           [1.0372585612589562, 0.9627414387410438]   \n",
       "ENSG00000000938         36  [30.57880701512375, 2.029732645600111, 1.40179...   \n",
       "ENSG00000000971         34  [20.77260827663933, 8.177158142324839, 1.86464...   \n",
       "ENSG00000001084         32  [20.976449940269113, 4.772354749306764, 2.2362...   \n",
       "ENSG00000001167         40                                [37.63836978240499]   \n",
       "\n",
       "                                          tissues_pc_variances_cov  \n",
       "gene_id                                                             \n",
       "ENSG00000000419       [0.008284978865240098, 0.000732674839341259]  \n",
       "ENSG00000000938         [0.22478471249969337, 0.00881387381303179]  \n",
       "ENSG00000000971  [0.19699534279580105, 0.05731825316349168, 0.0...  \n",
       "ENSG00000001084  [0.3657809638925397, 0.12645413710424536, 0.01...  \n",
       "ENSG00000001167           [1.478714450892399, 0.04969061838773913]  "
      ]
     },
     "execution_count": 109,
     "metadata": {},
     "output_type": "execute_result"
    }
   ],
   "source": [
    "spredixcan_genes_models.head()"
   ]
  },
  {
   "cell_type": "markdown",
   "id": "ef1c76d7-485b-4e8a-932e-fd01382d5520",
   "metadata": {
    "papermill": {
     "duration": 0.023515,
     "end_time": "2022-08-02T09:33:01.569751",
     "exception": false,
     "start_time": "2022-08-02T09:33:01.546236",
     "status": "completed"
    },
    "tags": []
   },
   "source": [
    "### Add gene variance per tissue"
   ]
  },
  {
   "cell_type": "code",
   "execution_count": 110,
   "id": "530f7941-6ad7-4a29-b9e4-a006949282e0",
   "metadata": {
    "execution": {
     "iopub.execute_input": "2022-08-02T09:33:01.616858Z",
     "iopub.status.busy": "2022-08-02T09:33:01.616627Z",
     "iopub.status.idle": "2022-08-02T09:33:01.632525Z",
     "shell.execute_reply": "2022-08-02T09:33:01.632093Z"
    },
    "papermill": {
     "duration": 0.042921,
     "end_time": "2022-08-02T09:33:01.635612",
     "exception": false,
     "start_time": "2022-08-02T09:33:01.592691",
     "status": "completed"
    },
    "tags": []
   },
   "outputs": [],
   "source": [
    "def _get_gene_variances(gene_row):\n",
    "    gene_id = gene_row.name\n",
    "    gene_tissues = gene_row[\"tissue\"]\n",
    "\n",
    "    tissue_variances = {}\n",
    "    gene_obj = spredixcan_gene_obj[gene_id]\n",
    "\n",
    "    for tissue in gene_tissues:\n",
    "        tissue_var = gene_obj.get_pred_expression_variance(\n",
    "            tissue=tissue,\n",
    "            reference_panel=REFERENCE_PANEL,\n",
    "            model_type=EQTL_MODEL,\n",
    "            snps_subset=gwas_variants_ids_set,\n",
    "        )\n",
    "\n",
    "        if tissue_var is not None:\n",
    "            tissue_variances[tissue] = tissue_var\n",
    "\n",
    "    return tissue_variances"
   ]
  },
  {
   "cell_type": "code",
   "execution_count": 111,
   "id": "01eb9e6a-4505-44e6-9e6e-9788e257f319",
   "metadata": {
    "execution": {
     "iopub.execute_input": "2022-08-02T09:33:01.684424Z",
     "iopub.status.busy": "2022-08-02T09:33:01.684119Z",
     "iopub.status.idle": "2022-08-02T09:33:01.704438Z",
     "shell.execute_reply": "2022-08-02T09:33:01.703924Z"
    },
    "papermill": {
     "duration": 0.046317,
     "end_time": "2022-08-02T09:33:01.705802",
     "exception": false,
     "start_time": "2022-08-02T09:33:01.659485",
     "status": "completed"
    },
    "tags": []
   },
   "outputs": [
    {
     "data": {
      "text/plain": [
       "{'Brain_Substantia_nigra': 0.0007337923275558569,\n",
       " 'Brain_Hypothalamus': 0.0082838613770255}"
      ]
     },
     "execution_count": 111,
     "metadata": {},
     "output_type": "execute_result"
    }
   ],
   "source": [
    "_tmp = spredixcan_genes_models.loc[\"ENSG00000000419\"]\n",
    "_get_gene_variances(_tmp)"
   ]
  },
  {
   "cell_type": "code",
   "execution_count": 112,
   "id": "447061ec-4847-4911-a1d6-8b86d15e4aac",
   "metadata": {
    "execution": {
     "iopub.execute_input": "2022-08-02T09:33:01.753157Z",
     "iopub.status.busy": "2022-08-02T09:33:01.752833Z",
     "iopub.status.idle": "2022-08-02T09:33:07.496744Z",
     "shell.execute_reply": "2022-08-02T09:33:07.495621Z"
    },
    "papermill": {
     "duration": 5.76921,
     "end_time": "2022-08-02T09:33:07.498141",
     "exception": false,
     "start_time": "2022-08-02T09:33:01.728931",
     "status": "completed"
    },
    "tags": []
   },
   "outputs": [],
   "source": [
    "spredixcan_genes_tissues_variance = spredixcan_genes_models.apply(\n",
    "    _get_gene_variances, axis=1\n",
    ")"
   ]
  },
  {
   "cell_type": "code",
   "execution_count": 113,
   "id": "816cbdd2-d667-4eaa-bbf7-335550854ee8",
   "metadata": {
    "execution": {
     "iopub.execute_input": "2022-08-02T09:33:07.548444Z",
     "iopub.status.busy": "2022-08-02T09:33:07.547329Z",
     "iopub.status.idle": "2022-08-02T09:33:07.571286Z",
     "shell.execute_reply": "2022-08-02T09:33:07.565903Z"
    },
    "papermill": {
     "duration": 0.050669,
     "end_time": "2022-08-02T09:33:07.572724",
     "exception": false,
     "start_time": "2022-08-02T09:33:07.522055",
     "status": "completed"
    },
    "tags": []
   },
   "outputs": [
    {
     "data": {
      "text/plain": [
       "gene_id\n",
       "ENSG00000000419    {'Brain_Substantia_nigra': 0.00073379232755585...\n",
       "ENSG00000000938    {'Artery_Aorta': 0.004641097161388297, 'Colon_...\n",
       "ENSG00000000971    {'Small_Intestine_Terminal_Ileum': 0.000166052...\n",
       "ENSG00000001084    {'Small_Intestine_Terminal_Ileum': 0.006074884...\n",
       "ENSG00000001167    {'Small_Intestine_Terminal_Ileum': 0.033165962...\n",
       "                                         ...                        \n",
       "ENSG00000278540    {'Small_Intestine_Terminal_Ileum': 0.002522546...\n",
       "ENSG00000278828    {'Adipose_Visceral_Omentum': 0.000137980863985...\n",
       "ENSG00000278845    {'Small_Intestine_Terminal_Ileum': 0.029719727...\n",
       "ENSG00000281005    {'Small_Intestine_Terminal_Ileum': 0.040147575...\n",
       "ENSG00000282608    {'Small_Intestine_Terminal_Ileum': 0.002539190...\n",
       "Length: 6444, dtype: object"
      ]
     },
     "execution_count": 113,
     "metadata": {},
     "output_type": "execute_result"
    }
   ],
   "source": [
    "spredixcan_genes_tissues_variance"
   ]
  },
  {
   "cell_type": "code",
   "execution_count": 114,
   "id": "68c65eb6-15c0-494d-992f-93bc84268a59",
   "metadata": {
    "execution": {
     "iopub.execute_input": "2022-08-02T09:33:07.619897Z",
     "iopub.status.busy": "2022-08-02T09:33:07.619729Z",
     "iopub.status.idle": "2022-08-02T09:33:07.634370Z",
     "shell.execute_reply": "2022-08-02T09:33:07.633971Z"
    },
    "papermill": {
     "duration": 0.039684,
     "end_time": "2022-08-02T09:33:07.635735",
     "exception": false,
     "start_time": "2022-08-02T09:33:07.596051",
     "status": "completed"
    },
    "tags": []
   },
   "outputs": [],
   "source": [
    "# # testing\n",
    "# _gene_id = \"ENSG00000188976\"\n",
    "# x = spredixcan_genes_tissues_variance.loc[_gene_id]\n",
    "# # expected value obtained by sum of PCA eigenvalues on this gene's predicted expression\n",
    "# assert np.sum(list(x.values())) == pytest.approx(1.2326202607409493)"
   ]
  },
  {
   "cell_type": "code",
   "execution_count": 115,
   "id": "1996453a-fdfc-44e9-bbdf-b83e3b3b1aee",
   "metadata": {
    "execution": {
     "iopub.execute_input": "2022-08-02T09:33:07.685089Z",
     "iopub.status.busy": "2022-08-02T09:33:07.684905Z",
     "iopub.status.idle": "2022-08-02T09:33:07.707842Z",
     "shell.execute_reply": "2022-08-02T09:33:07.707172Z"
    },
    "papermill": {
     "duration": 0.050772,
     "end_time": "2022-08-02T09:33:07.710487",
     "exception": false,
     "start_time": "2022-08-02T09:33:07.659715",
     "status": "completed"
    },
    "tags": []
   },
   "outputs": [
    {
     "data": {
      "text/plain": [
       "{'Brain_Substantia_nigra': 0.0007337923275558569,\n",
       " 'Brain_Hypothalamus': 0.0082838613770255}"
      ]
     },
     "execution_count": 115,
     "metadata": {},
     "output_type": "execute_result"
    }
   ],
   "source": [
    "# testing\n",
    "spredixcan_genes_tissues_variance.loc[\"ENSG00000000419\"]"
   ]
  },
  {
   "cell_type": "code",
   "execution_count": 116,
   "id": "62572b31-7e49-4ed0-ac1b-42552f3e264f",
   "metadata": {
    "execution": {
     "iopub.execute_input": "2022-08-02T09:33:07.760592Z",
     "iopub.status.busy": "2022-08-02T09:33:07.760384Z",
     "iopub.status.idle": "2022-08-02T09:33:07.784277Z",
     "shell.execute_reply": "2022-08-02T09:33:07.783010Z"
    },
    "papermill": {
     "duration": 0.052164,
     "end_time": "2022-08-02T09:33:07.785824",
     "exception": false,
     "start_time": "2022-08-02T09:33:07.733660",
     "status": "completed"
    },
    "tags": []
   },
   "outputs": [],
   "source": [
    "# FIXME: maybe add more tests, these differt from GTEX V8\n",
    "# # testing\n",
    "# # here values were obtained from S-PrediXcan results, where the reference panel is GTEX V8, not 1000G, so just approximations)\n",
    "# _gene_id = \"ENSG00000000419\"\n",
    "# assert spredixcan_genes_tissues_variance.loc[_gene_id][\"Brain_Substantia_nigra\"] == pytest.approx(0.0004266255268163448)\n",
    "# assert spredixcan_genes_tissues_variance.loc[_gene_id][\"Brain_Hypothalamus\"] == pytest.approx(0.011235877515236132)"
   ]
  },
  {
   "cell_type": "code",
   "execution_count": 117,
   "id": "88e42a97-801b-43a4-a829-4eaac03360b8",
   "metadata": {
    "execution": {
     "iopub.execute_input": "2022-08-02T09:33:07.844248Z",
     "iopub.status.busy": "2022-08-02T09:33:07.843112Z",
     "iopub.status.idle": "2022-08-02T09:33:07.863099Z",
     "shell.execute_reply": "2022-08-02T09:33:07.862503Z"
    },
    "papermill": {
     "duration": 0.050894,
     "end_time": "2022-08-02T09:33:07.864808",
     "exception": false,
     "start_time": "2022-08-02T09:33:07.813914",
     "status": "completed"
    },
    "tags": []
   },
   "outputs": [],
   "source": [
    "# add to spredixcan_genes_models\n",
    "spredixcan_genes_models = spredixcan_genes_models.join(\n",
    "    spredixcan_genes_tissues_variance.rename(\"tissues_variances\")\n",
    ")"
   ]
  },
  {
   "cell_type": "code",
   "execution_count": 118,
   "id": "cb177ca4-fdcb-432f-a102-9c6bd6bd7fa0",
   "metadata": {
    "execution": {
     "iopub.execute_input": "2022-08-02T09:33:07.922265Z",
     "iopub.status.busy": "2022-08-02T09:33:07.921935Z",
     "iopub.status.idle": "2022-08-02T09:33:07.940337Z",
     "shell.execute_reply": "2022-08-02T09:33:07.939952Z"
    },
    "papermill": {
     "duration": 0.049894,
     "end_time": "2022-08-02T09:33:07.943279",
     "exception": false,
     "start_time": "2022-08-02T09:33:07.893385",
     "status": "completed"
    },
    "tags": []
   },
   "outputs": [
    {
     "data": {
      "text/plain": [
       "(6444, 6)"
      ]
     },
     "execution_count": 118,
     "metadata": {},
     "output_type": "execute_result"
    }
   ],
   "source": [
    "spredixcan_genes_models.shape"
   ]
  },
  {
   "cell_type": "code",
   "execution_count": 119,
   "id": "ccabe1fa-20ae-4893-bf12-9a3359b213b8",
   "metadata": {
    "execution": {
     "iopub.execute_input": "2022-08-02T09:33:07.992982Z",
     "iopub.status.busy": "2022-08-02T09:33:07.991830Z",
     "iopub.status.idle": "2022-08-02T09:33:08.022338Z",
     "shell.execute_reply": "2022-08-02T09:33:08.021851Z"
    },
    "papermill": {
     "duration": 0.056497,
     "end_time": "2022-08-02T09:33:08.023900",
     "exception": false,
     "start_time": "2022-08-02T09:33:07.967403",
     "status": "completed"
    },
    "tags": []
   },
   "outputs": [
    {
     "data": {
      "text/html": [
       "<div>\n",
       "<style scoped>\n",
       "    .dataframe tbody tr th:only-of-type {\n",
       "        vertical-align: middle;\n",
       "    }\n",
       "\n",
       "    .dataframe tbody tr th {\n",
       "        vertical-align: top;\n",
       "    }\n",
       "\n",
       "    .dataframe thead th {\n",
       "        text-align: right;\n",
       "    }\n",
       "</style>\n",
       "<table border=\"1\" class=\"dataframe\">\n",
       "  <thead>\n",
       "    <tr style=\"text-align: right;\">\n",
       "      <th></th>\n",
       "      <th>gene_name</th>\n",
       "      <th>tissue</th>\n",
       "      <th>n_tissues</th>\n",
       "      <th>tissues_pc_variances</th>\n",
       "      <th>tissues_pc_variances_cov</th>\n",
       "      <th>tissues_variances</th>\n",
       "    </tr>\n",
       "    <tr>\n",
       "      <th>gene_id</th>\n",
       "      <th></th>\n",
       "      <th></th>\n",
       "      <th></th>\n",
       "      <th></th>\n",
       "      <th></th>\n",
       "      <th></th>\n",
       "    </tr>\n",
       "  </thead>\n",
       "  <tbody>\n",
       "    <tr>\n",
       "      <th>ENSG00000000419</th>\n",
       "      <td>DPM1</td>\n",
       "      <td>(Brain_Substantia_nigra, Brain_Hypothalamus)</td>\n",
       "      <td>2</td>\n",
       "      <td>[1.0372585612589562, 0.9627414387410438]</td>\n",
       "      <td>[0.008284978865240098, 0.000732674839341259]</td>\n",
       "      <td>{'Brain_Substantia_nigra': 0.00073379232755585...</td>\n",
       "    </tr>\n",
       "    <tr>\n",
       "      <th>ENSG00000000938</th>\n",
       "      <td>FGR</td>\n",
       "      <td>(Artery_Aorta, Colon_Transverse, Breast_Mammar...</td>\n",
       "      <td>36</td>\n",
       "      <td>[30.57880701512375, 2.029732645600111, 1.40179...</td>\n",
       "      <td>[0.22478471249969337, 0.00881387381303179]</td>\n",
       "      <td>{'Artery_Aorta': 0.004641097161388297, 'Colon_...</td>\n",
       "    </tr>\n",
       "    <tr>\n",
       "      <th>ENSG00000000971</th>\n",
       "      <td>CFH</td>\n",
       "      <td>(Small_Intestine_Terminal_Ileum, Artery_Aorta,...</td>\n",
       "      <td>34</td>\n",
       "      <td>[20.77260827663933, 8.177158142324839, 1.86464...</td>\n",
       "      <td>[0.19699534279580105, 0.05731825316349168, 0.0...</td>\n",
       "      <td>{'Small_Intestine_Terminal_Ileum': 0.000166052...</td>\n",
       "    </tr>\n",
       "    <tr>\n",
       "      <th>ENSG00000001084</th>\n",
       "      <td>GCLC</td>\n",
       "      <td>(Small_Intestine_Terminal_Ileum, Artery_Aorta,...</td>\n",
       "      <td>32</td>\n",
       "      <td>[20.976449940269113, 4.772354749306764, 2.2362...</td>\n",
       "      <td>[0.3657809638925397, 0.12645413710424536, 0.01...</td>\n",
       "      <td>{'Small_Intestine_Terminal_Ileum': 0.006074884...</td>\n",
       "    </tr>\n",
       "    <tr>\n",
       "      <th>ENSG00000001167</th>\n",
       "      <td>NFYA</td>\n",
       "      <td>(Small_Intestine_Terminal_Ileum, Artery_Aorta,...</td>\n",
       "      <td>40</td>\n",
       "      <td>[37.63836978240499]</td>\n",
       "      <td>[1.478714450892399, 0.04969061838773913]</td>\n",
       "      <td>{'Small_Intestine_Terminal_Ileum': 0.033165962...</td>\n",
       "    </tr>\n",
       "  </tbody>\n",
       "</table>\n",
       "</div>"
      ],
      "text/plain": [
       "                gene_name                                             tissue  \\\n",
       "gene_id                                                                        \n",
       "ENSG00000000419      DPM1       (Brain_Substantia_nigra, Brain_Hypothalamus)   \n",
       "ENSG00000000938       FGR  (Artery_Aorta, Colon_Transverse, Breast_Mammar...   \n",
       "ENSG00000000971       CFH  (Small_Intestine_Terminal_Ileum, Artery_Aorta,...   \n",
       "ENSG00000001084      GCLC  (Small_Intestine_Terminal_Ileum, Artery_Aorta,...   \n",
       "ENSG00000001167      NFYA  (Small_Intestine_Terminal_Ileum, Artery_Aorta,...   \n",
       "\n",
       "                 n_tissues                               tissues_pc_variances  \\\n",
       "gene_id                                                                         \n",
       "ENSG00000000419          2           [1.0372585612589562, 0.9627414387410438]   \n",
       "ENSG00000000938         36  [30.57880701512375, 2.029732645600111, 1.40179...   \n",
       "ENSG00000000971         34  [20.77260827663933, 8.177158142324839, 1.86464...   \n",
       "ENSG00000001084         32  [20.976449940269113, 4.772354749306764, 2.2362...   \n",
       "ENSG00000001167         40                                [37.63836978240499]   \n",
       "\n",
       "                                          tissues_pc_variances_cov  \\\n",
       "gene_id                                                              \n",
       "ENSG00000000419       [0.008284978865240098, 0.000732674839341259]   \n",
       "ENSG00000000938         [0.22478471249969337, 0.00881387381303179]   \n",
       "ENSG00000000971  [0.19699534279580105, 0.05731825316349168, 0.0...   \n",
       "ENSG00000001084  [0.3657809638925397, 0.12645413710424536, 0.01...   \n",
       "ENSG00000001167           [1.478714450892399, 0.04969061838773913]   \n",
       "\n",
       "                                                 tissues_variances  \n",
       "gene_id                                                             \n",
       "ENSG00000000419  {'Brain_Substantia_nigra': 0.00073379232755585...  \n",
       "ENSG00000000938  {'Artery_Aorta': 0.004641097161388297, 'Colon_...  \n",
       "ENSG00000000971  {'Small_Intestine_Terminal_Ileum': 0.000166052...  \n",
       "ENSG00000001084  {'Small_Intestine_Terminal_Ileum': 0.006074884...  \n",
       "ENSG00000001167  {'Small_Intestine_Terminal_Ileum': 0.033165962...  "
      ]
     },
     "execution_count": 119,
     "metadata": {},
     "output_type": "execute_result"
    }
   ],
   "source": [
    "spredixcan_genes_models.head()"
   ]
  },
  {
   "cell_type": "markdown",
   "id": "ab6ff41a-0949-4eea-abef-7dc4f0b373fc",
   "metadata": {
    "papermill": {
     "duration": 0.022946,
     "end_time": "2022-08-02T09:33:08.072856",
     "exception": false,
     "start_time": "2022-08-02T09:33:08.049910",
     "status": "completed"
    },
    "tags": []
   },
   "source": [
    "### Count number of SNPs predictors used across tissue models"
   ]
  },
  {
   "cell_type": "code",
   "execution_count": 120,
   "id": "c8f6cc6f-5812-45c9-b775-6f2193f8a360",
   "metadata": {
    "execution": {
     "iopub.execute_input": "2022-08-02T09:33:08.121091Z",
     "iopub.status.busy": "2022-08-02T09:33:08.120867Z",
     "iopub.status.idle": "2022-08-02T09:33:08.170448Z",
     "shell.execute_reply": "2022-08-02T09:33:08.170039Z"
    },
    "papermill": {
     "duration": 0.075138,
     "end_time": "2022-08-02T09:33:08.171758",
     "exception": false,
     "start_time": "2022-08-02T09:33:08.096620",
     "status": "completed"
    },
    "tags": []
   },
   "outputs": [],
   "source": [
    "spredixcan_genes_sum_of_n_snps_used = (\n",
    "    spredixcan_dfs.groupby(\"gene_id\")[\"n_snps_used\"].sum().rename(\"n_snps_used_sum\")\n",
    ")"
   ]
  },
  {
   "cell_type": "code",
   "execution_count": 121,
   "id": "7255df64-7b9f-4504-a4fa-1f2a9aa56ec0",
   "metadata": {
    "execution": {
     "iopub.execute_input": "2022-08-02T09:33:08.230595Z",
     "iopub.status.busy": "2022-08-02T09:33:08.228912Z",
     "iopub.status.idle": "2022-08-02T09:33:08.251592Z",
     "shell.execute_reply": "2022-08-02T09:33:08.251141Z"
    },
    "papermill": {
     "duration": 0.060916,
     "end_time": "2022-08-02T09:33:08.256739",
     "exception": false,
     "start_time": "2022-08-02T09:33:08.195823",
     "status": "completed"
    },
    "tags": []
   },
   "outputs": [
    {
     "data": {
      "text/plain": [
       "gene_id\n",
       "ENSG00000000419     2\n",
       "ENSG00000000938    40\n",
       "ENSG00000000971    44\n",
       "ENSG00000001084    46\n",
       "ENSG00000001167    47\n",
       "                   ..\n",
       "ENSG00000278540    44\n",
       "ENSG00000278828     5\n",
       "ENSG00000278845    89\n",
       "ENSG00000281005    81\n",
       "ENSG00000282608    40\n",
       "Name: n_snps_used_sum, Length: 6444, dtype: int64"
      ]
     },
     "execution_count": 121,
     "metadata": {},
     "output_type": "execute_result"
    }
   ],
   "source": [
    "spredixcan_genes_sum_of_n_snps_used"
   ]
  },
  {
   "cell_type": "code",
   "execution_count": 122,
   "id": "44bc1222-b334-4ce2-8997-494d0e584cf9",
   "metadata": {
    "execution": {
     "iopub.execute_input": "2022-08-02T09:33:08.306525Z",
     "iopub.status.busy": "2022-08-02T09:33:08.306216Z",
     "iopub.status.idle": "2022-08-02T09:33:08.328675Z",
     "shell.execute_reply": "2022-08-02T09:33:08.328207Z"
    },
    "papermill": {
     "duration": 0.048219,
     "end_time": "2022-08-02T09:33:08.330053",
     "exception": false,
     "start_time": "2022-08-02T09:33:08.281834",
     "status": "completed"
    },
    "tags": []
   },
   "outputs": [],
   "source": [
    "# add sum of snps used to spredixcan_genes_models\n",
    "spredixcan_genes_models = spredixcan_genes_models.join(\n",
    "    spredixcan_genes_sum_of_n_snps_used\n",
    ")"
   ]
  },
  {
   "cell_type": "code",
   "execution_count": 123,
   "id": "5e5e6d7f-b970-4f21-9322-b76bc22afd71",
   "metadata": {
    "execution": {
     "iopub.execute_input": "2022-08-02T09:33:08.388134Z",
     "iopub.status.busy": "2022-08-02T09:33:08.387723Z",
     "iopub.status.idle": "2022-08-02T09:33:08.410349Z",
     "shell.execute_reply": "2022-08-02T09:33:08.409908Z"
    },
    "papermill": {
     "duration": 0.05492,
     "end_time": "2022-08-02T09:33:08.412729",
     "exception": false,
     "start_time": "2022-08-02T09:33:08.357809",
     "status": "completed"
    },
    "tags": []
   },
   "outputs": [
    {
     "data": {
      "text/plain": [
       "(6444, 7)"
      ]
     },
     "execution_count": 123,
     "metadata": {},
     "output_type": "execute_result"
    }
   ],
   "source": [
    "spredixcan_genes_models.shape"
   ]
  },
  {
   "cell_type": "code",
   "execution_count": 124,
   "id": "22c096c2-213a-4001-8454-1633997d404f",
   "metadata": {
    "execution": {
     "iopub.execute_input": "2022-08-02T09:33:08.460447Z",
     "iopub.status.busy": "2022-08-02T09:33:08.460288Z",
     "iopub.status.idle": "2022-08-02T09:33:08.500113Z",
     "shell.execute_reply": "2022-08-02T09:33:08.499604Z"
    },
    "papermill": {
     "duration": 0.065073,
     "end_time": "2022-08-02T09:33:08.501413",
     "exception": false,
     "start_time": "2022-08-02T09:33:08.436340",
     "status": "completed"
    },
    "tags": []
   },
   "outputs": [
    {
     "data": {
      "text/html": [
       "<div>\n",
       "<style scoped>\n",
       "    .dataframe tbody tr th:only-of-type {\n",
       "        vertical-align: middle;\n",
       "    }\n",
       "\n",
       "    .dataframe tbody tr th {\n",
       "        vertical-align: top;\n",
       "    }\n",
       "\n",
       "    .dataframe thead th {\n",
       "        text-align: right;\n",
       "    }\n",
       "</style>\n",
       "<table border=\"1\" class=\"dataframe\">\n",
       "  <thead>\n",
       "    <tr style=\"text-align: right;\">\n",
       "      <th></th>\n",
       "      <th>gene_name</th>\n",
       "      <th>tissue</th>\n",
       "      <th>n_tissues</th>\n",
       "      <th>tissues_pc_variances</th>\n",
       "      <th>tissues_pc_variances_cov</th>\n",
       "      <th>tissues_variances</th>\n",
       "      <th>n_snps_used_sum</th>\n",
       "    </tr>\n",
       "    <tr>\n",
       "      <th>gene_id</th>\n",
       "      <th></th>\n",
       "      <th></th>\n",
       "      <th></th>\n",
       "      <th></th>\n",
       "      <th></th>\n",
       "      <th></th>\n",
       "      <th></th>\n",
       "    </tr>\n",
       "  </thead>\n",
       "  <tbody>\n",
       "    <tr>\n",
       "      <th>ENSG00000000419</th>\n",
       "      <td>DPM1</td>\n",
       "      <td>(Brain_Substantia_nigra, Brain_Hypothalamus)</td>\n",
       "      <td>2</td>\n",
       "      <td>[1.0372585612589562, 0.9627414387410438]</td>\n",
       "      <td>[0.008284978865240098, 0.000732674839341259]</td>\n",
       "      <td>{'Brain_Substantia_nigra': 0.00073379232755585...</td>\n",
       "      <td>2</td>\n",
       "    </tr>\n",
       "    <tr>\n",
       "      <th>ENSG00000000938</th>\n",
       "      <td>FGR</td>\n",
       "      <td>(Artery_Aorta, Colon_Transverse, Breast_Mammar...</td>\n",
       "      <td>36</td>\n",
       "      <td>[30.57880701512375, 2.029732645600111, 1.40179...</td>\n",
       "      <td>[0.22478471249969337, 0.00881387381303179]</td>\n",
       "      <td>{'Artery_Aorta': 0.004641097161388297, 'Colon_...</td>\n",
       "      <td>40</td>\n",
       "    </tr>\n",
       "    <tr>\n",
       "      <th>ENSG00000000971</th>\n",
       "      <td>CFH</td>\n",
       "      <td>(Small_Intestine_Terminal_Ileum, Artery_Aorta,...</td>\n",
       "      <td>34</td>\n",
       "      <td>[20.77260827663933, 8.177158142324839, 1.86464...</td>\n",
       "      <td>[0.19699534279580105, 0.05731825316349168, 0.0...</td>\n",
       "      <td>{'Small_Intestine_Terminal_Ileum': 0.000166052...</td>\n",
       "      <td>44</td>\n",
       "    </tr>\n",
       "    <tr>\n",
       "      <th>ENSG00000001084</th>\n",
       "      <td>GCLC</td>\n",
       "      <td>(Small_Intestine_Terminal_Ileum, Artery_Aorta,...</td>\n",
       "      <td>32</td>\n",
       "      <td>[20.976449940269113, 4.772354749306764, 2.2362...</td>\n",
       "      <td>[0.3657809638925397, 0.12645413710424536, 0.01...</td>\n",
       "      <td>{'Small_Intestine_Terminal_Ileum': 0.006074884...</td>\n",
       "      <td>46</td>\n",
       "    </tr>\n",
       "    <tr>\n",
       "      <th>ENSG00000001167</th>\n",
       "      <td>NFYA</td>\n",
       "      <td>(Small_Intestine_Terminal_Ileum, Artery_Aorta,...</td>\n",
       "      <td>40</td>\n",
       "      <td>[37.63836978240499]</td>\n",
       "      <td>[1.478714450892399, 0.04969061838773913]</td>\n",
       "      <td>{'Small_Intestine_Terminal_Ileum': 0.033165962...</td>\n",
       "      <td>47</td>\n",
       "    </tr>\n",
       "  </tbody>\n",
       "</table>\n",
       "</div>"
      ],
      "text/plain": [
       "                gene_name                                             tissue  \\\n",
       "gene_id                                                                        \n",
       "ENSG00000000419      DPM1       (Brain_Substantia_nigra, Brain_Hypothalamus)   \n",
       "ENSG00000000938       FGR  (Artery_Aorta, Colon_Transverse, Breast_Mammar...   \n",
       "ENSG00000000971       CFH  (Small_Intestine_Terminal_Ileum, Artery_Aorta,...   \n",
       "ENSG00000001084      GCLC  (Small_Intestine_Terminal_Ileum, Artery_Aorta,...   \n",
       "ENSG00000001167      NFYA  (Small_Intestine_Terminal_Ileum, Artery_Aorta,...   \n",
       "\n",
       "                 n_tissues                               tissues_pc_variances  \\\n",
       "gene_id                                                                         \n",
       "ENSG00000000419          2           [1.0372585612589562, 0.9627414387410438]   \n",
       "ENSG00000000938         36  [30.57880701512375, 2.029732645600111, 1.40179...   \n",
       "ENSG00000000971         34  [20.77260827663933, 8.177158142324839, 1.86464...   \n",
       "ENSG00000001084         32  [20.976449940269113, 4.772354749306764, 2.2362...   \n",
       "ENSG00000001167         40                                [37.63836978240499]   \n",
       "\n",
       "                                          tissues_pc_variances_cov  \\\n",
       "gene_id                                                              \n",
       "ENSG00000000419       [0.008284978865240098, 0.000732674839341259]   \n",
       "ENSG00000000938         [0.22478471249969337, 0.00881387381303179]   \n",
       "ENSG00000000971  [0.19699534279580105, 0.05731825316349168, 0.0...   \n",
       "ENSG00000001084  [0.3657809638925397, 0.12645413710424536, 0.01...   \n",
       "ENSG00000001167           [1.478714450892399, 0.04969061838773913]   \n",
       "\n",
       "                                                 tissues_variances  \\\n",
       "gene_id                                                              \n",
       "ENSG00000000419  {'Brain_Substantia_nigra': 0.00073379232755585...   \n",
       "ENSG00000000938  {'Artery_Aorta': 0.004641097161388297, 'Colon_...   \n",
       "ENSG00000000971  {'Small_Intestine_Terminal_Ileum': 0.000166052...   \n",
       "ENSG00000001084  {'Small_Intestine_Terminal_Ileum': 0.006074884...   \n",
       "ENSG00000001167  {'Small_Intestine_Terminal_Ileum': 0.033165962...   \n",
       "\n",
       "                 n_snps_used_sum  \n",
       "gene_id                           \n",
       "ENSG00000000419                2  \n",
       "ENSG00000000938               40  \n",
       "ENSG00000000971               44  \n",
       "ENSG00000001084               46  \n",
       "ENSG00000001167               47  "
      ]
     },
     "execution_count": 124,
     "metadata": {},
     "output_type": "execute_result"
    }
   ],
   "source": [
    "spredixcan_genes_models.head()"
   ]
  },
  {
   "cell_type": "markdown",
   "id": "f4692315-d7be-465e-b756-f6d76fec949e",
   "metadata": {
    "papermill": {
     "duration": 0.023285,
     "end_time": "2022-08-02T09:33:08.549174",
     "exception": false,
     "start_time": "2022-08-02T09:33:08.525889",
     "status": "completed"
    },
    "tags": []
   },
   "source": [
    "### Count number of SNPs predictors in models across tissue models"
   ]
  },
  {
   "cell_type": "code",
   "execution_count": 125,
   "id": "08eed385-36eb-4e42-b28e-51333f9cfcd3",
   "metadata": {
    "execution": {
     "iopub.execute_input": "2022-08-02T09:33:08.602986Z",
     "iopub.status.busy": "2022-08-02T09:33:08.601916Z",
     "iopub.status.idle": "2022-08-02T09:33:08.643064Z",
     "shell.execute_reply": "2022-08-02T09:33:08.642614Z"
    },
    "papermill": {
     "duration": 0.074888,
     "end_time": "2022-08-02T09:33:08.647921",
     "exception": false,
     "start_time": "2022-08-02T09:33:08.573033",
     "status": "completed"
    },
    "tags": []
   },
   "outputs": [],
   "source": [
    "spredixcan_genes_sum_of_n_snps_in_model = (\n",
    "    spredixcan_dfs.groupby(\"gene_id\")[\"n_snps_in_model\"]\n",
    "    .sum()\n",
    "    .rename(\"n_snps_in_model_sum\")\n",
    ")"
   ]
  },
  {
   "cell_type": "code",
   "execution_count": 126,
   "id": "10431f5c-1f56-4664-a09f-53c608bec631",
   "metadata": {
    "execution": {
     "iopub.execute_input": "2022-08-02T09:33:08.697313Z",
     "iopub.status.busy": "2022-08-02T09:33:08.697014Z",
     "iopub.status.idle": "2022-08-02T09:33:08.715055Z",
     "shell.execute_reply": "2022-08-02T09:33:08.714579Z"
    },
    "papermill": {
     "duration": 0.043829,
     "end_time": "2022-08-02T09:33:08.716280",
     "exception": false,
     "start_time": "2022-08-02T09:33:08.672451",
     "status": "completed"
    },
    "tags": []
   },
   "outputs": [
    {
     "data": {
      "text/plain": [
       "gene_id\n",
       "ENSG00000000419     2\n",
       "ENSG00000000938    40\n",
       "ENSG00000000971    44\n",
       "ENSG00000001084    46\n",
       "ENSG00000001167    48\n",
       "                   ..\n",
       "ENSG00000278540    44\n",
       "ENSG00000278828     5\n",
       "ENSG00000278845    91\n",
       "ENSG00000281005    81\n",
       "ENSG00000282608    40\n",
       "Name: n_snps_in_model_sum, Length: 6444, dtype: int64"
      ]
     },
     "execution_count": 126,
     "metadata": {},
     "output_type": "execute_result"
    }
   ],
   "source": [
    "spredixcan_genes_sum_of_n_snps_in_model"
   ]
  },
  {
   "cell_type": "code",
   "execution_count": 127,
   "id": "d13e1d65-0dcb-4a94-aba8-bcdcd09d17c3",
   "metadata": {
    "execution": {
     "iopub.execute_input": "2022-08-02T09:33:08.765179Z",
     "iopub.status.busy": "2022-08-02T09:33:08.764889Z",
     "iopub.status.idle": "2022-08-02T09:33:08.794226Z",
     "shell.execute_reply": "2022-08-02T09:33:08.793788Z"
    },
    "papermill": {
     "duration": 0.055127,
     "end_time": "2022-08-02T09:33:08.795454",
     "exception": false,
     "start_time": "2022-08-02T09:33:08.740327",
     "status": "completed"
    },
    "tags": []
   },
   "outputs": [],
   "source": [
    "# add sum of snps in model to spredixcan_genes_models\n",
    "spredixcan_genes_models = spredixcan_genes_models.join(\n",
    "    spredixcan_genes_sum_of_n_snps_in_model\n",
    ")"
   ]
  },
  {
   "cell_type": "code",
   "execution_count": 128,
   "id": "0d3973d8-5da2-4c9d-b406-2525f615035c",
   "metadata": {
    "execution": {
     "iopub.execute_input": "2022-08-02T09:33:08.844796Z",
     "iopub.status.busy": "2022-08-02T09:33:08.844502Z",
     "iopub.status.idle": "2022-08-02T09:33:08.862492Z",
     "shell.execute_reply": "2022-08-02T09:33:08.861879Z"
    },
    "papermill": {
     "duration": 0.043958,
     "end_time": "2022-08-02T09:33:08.863850",
     "exception": false,
     "start_time": "2022-08-02T09:33:08.819892",
     "status": "completed"
    },
    "tags": []
   },
   "outputs": [
    {
     "data": {
      "text/plain": [
       "(6444, 8)"
      ]
     },
     "execution_count": 128,
     "metadata": {},
     "output_type": "execute_result"
    }
   ],
   "source": [
    "spredixcan_genes_models.shape"
   ]
  },
  {
   "cell_type": "code",
   "execution_count": 129,
   "id": "76c27f05-c5c6-4ed9-9363-fcba871a3572",
   "metadata": {
    "execution": {
     "iopub.execute_input": "2022-08-02T09:33:08.915357Z",
     "iopub.status.busy": "2022-08-02T09:33:08.915069Z",
     "iopub.status.idle": "2022-08-02T09:33:08.945551Z",
     "shell.execute_reply": "2022-08-02T09:33:08.945124Z"
    },
    "papermill": {
     "duration": 0.059021,
     "end_time": "2022-08-02T09:33:08.948683",
     "exception": false,
     "start_time": "2022-08-02T09:33:08.889662",
     "status": "completed"
    },
    "tags": []
   },
   "outputs": [
    {
     "data": {
      "text/html": [
       "<div>\n",
       "<style scoped>\n",
       "    .dataframe tbody tr th:only-of-type {\n",
       "        vertical-align: middle;\n",
       "    }\n",
       "\n",
       "    .dataframe tbody tr th {\n",
       "        vertical-align: top;\n",
       "    }\n",
       "\n",
       "    .dataframe thead th {\n",
       "        text-align: right;\n",
       "    }\n",
       "</style>\n",
       "<table border=\"1\" class=\"dataframe\">\n",
       "  <thead>\n",
       "    <tr style=\"text-align: right;\">\n",
       "      <th></th>\n",
       "      <th>gene_name</th>\n",
       "      <th>tissue</th>\n",
       "      <th>n_tissues</th>\n",
       "      <th>tissues_pc_variances</th>\n",
       "      <th>tissues_pc_variances_cov</th>\n",
       "      <th>tissues_variances</th>\n",
       "      <th>n_snps_used_sum</th>\n",
       "      <th>n_snps_in_model_sum</th>\n",
       "    </tr>\n",
       "    <tr>\n",
       "      <th>gene_id</th>\n",
       "      <th></th>\n",
       "      <th></th>\n",
       "      <th></th>\n",
       "      <th></th>\n",
       "      <th></th>\n",
       "      <th></th>\n",
       "      <th></th>\n",
       "      <th></th>\n",
       "    </tr>\n",
       "  </thead>\n",
       "  <tbody>\n",
       "    <tr>\n",
       "      <th>ENSG00000000419</th>\n",
       "      <td>DPM1</td>\n",
       "      <td>(Brain_Substantia_nigra, Brain_Hypothalamus)</td>\n",
       "      <td>2</td>\n",
       "      <td>[1.0372585612589562, 0.9627414387410438]</td>\n",
       "      <td>[0.008284978865240098, 0.000732674839341259]</td>\n",
       "      <td>{'Brain_Substantia_nigra': 0.00073379232755585...</td>\n",
       "      <td>2</td>\n",
       "      <td>2</td>\n",
       "    </tr>\n",
       "    <tr>\n",
       "      <th>ENSG00000000938</th>\n",
       "      <td>FGR</td>\n",
       "      <td>(Artery_Aorta, Colon_Transverse, Breast_Mammar...</td>\n",
       "      <td>36</td>\n",
       "      <td>[30.57880701512375, 2.029732645600111, 1.40179...</td>\n",
       "      <td>[0.22478471249969337, 0.00881387381303179]</td>\n",
       "      <td>{'Artery_Aorta': 0.004641097161388297, 'Colon_...</td>\n",
       "      <td>40</td>\n",
       "      <td>40</td>\n",
       "    </tr>\n",
       "    <tr>\n",
       "      <th>ENSG00000000971</th>\n",
       "      <td>CFH</td>\n",
       "      <td>(Small_Intestine_Terminal_Ileum, Artery_Aorta,...</td>\n",
       "      <td>34</td>\n",
       "      <td>[20.77260827663933, 8.177158142324839, 1.86464...</td>\n",
       "      <td>[0.19699534279580105, 0.05731825316349168, 0.0...</td>\n",
       "      <td>{'Small_Intestine_Terminal_Ileum': 0.000166052...</td>\n",
       "      <td>44</td>\n",
       "      <td>44</td>\n",
       "    </tr>\n",
       "    <tr>\n",
       "      <th>ENSG00000001084</th>\n",
       "      <td>GCLC</td>\n",
       "      <td>(Small_Intestine_Terminal_Ileum, Artery_Aorta,...</td>\n",
       "      <td>32</td>\n",
       "      <td>[20.976449940269113, 4.772354749306764, 2.2362...</td>\n",
       "      <td>[0.3657809638925397, 0.12645413710424536, 0.01...</td>\n",
       "      <td>{'Small_Intestine_Terminal_Ileum': 0.006074884...</td>\n",
       "      <td>46</td>\n",
       "      <td>46</td>\n",
       "    </tr>\n",
       "    <tr>\n",
       "      <th>ENSG00000001167</th>\n",
       "      <td>NFYA</td>\n",
       "      <td>(Small_Intestine_Terminal_Ileum, Artery_Aorta,...</td>\n",
       "      <td>40</td>\n",
       "      <td>[37.63836978240499]</td>\n",
       "      <td>[1.478714450892399, 0.04969061838773913]</td>\n",
       "      <td>{'Small_Intestine_Terminal_Ileum': 0.033165962...</td>\n",
       "      <td>47</td>\n",
       "      <td>48</td>\n",
       "    </tr>\n",
       "  </tbody>\n",
       "</table>\n",
       "</div>"
      ],
      "text/plain": [
       "                gene_name                                             tissue  \\\n",
       "gene_id                                                                        \n",
       "ENSG00000000419      DPM1       (Brain_Substantia_nigra, Brain_Hypothalamus)   \n",
       "ENSG00000000938       FGR  (Artery_Aorta, Colon_Transverse, Breast_Mammar...   \n",
       "ENSG00000000971       CFH  (Small_Intestine_Terminal_Ileum, Artery_Aorta,...   \n",
       "ENSG00000001084      GCLC  (Small_Intestine_Terminal_Ileum, Artery_Aorta,...   \n",
       "ENSG00000001167      NFYA  (Small_Intestine_Terminal_Ileum, Artery_Aorta,...   \n",
       "\n",
       "                 n_tissues                               tissues_pc_variances  \\\n",
       "gene_id                                                                         \n",
       "ENSG00000000419          2           [1.0372585612589562, 0.9627414387410438]   \n",
       "ENSG00000000938         36  [30.57880701512375, 2.029732645600111, 1.40179...   \n",
       "ENSG00000000971         34  [20.77260827663933, 8.177158142324839, 1.86464...   \n",
       "ENSG00000001084         32  [20.976449940269113, 4.772354749306764, 2.2362...   \n",
       "ENSG00000001167         40                                [37.63836978240499]   \n",
       "\n",
       "                                          tissues_pc_variances_cov  \\\n",
       "gene_id                                                              \n",
       "ENSG00000000419       [0.008284978865240098, 0.000732674839341259]   \n",
       "ENSG00000000938         [0.22478471249969337, 0.00881387381303179]   \n",
       "ENSG00000000971  [0.19699534279580105, 0.05731825316349168, 0.0...   \n",
       "ENSG00000001084  [0.3657809638925397, 0.12645413710424536, 0.01...   \n",
       "ENSG00000001167           [1.478714450892399, 0.04969061838773913]   \n",
       "\n",
       "                                                 tissues_variances  \\\n",
       "gene_id                                                              \n",
       "ENSG00000000419  {'Brain_Substantia_nigra': 0.00073379232755585...   \n",
       "ENSG00000000938  {'Artery_Aorta': 0.004641097161388297, 'Colon_...   \n",
       "ENSG00000000971  {'Small_Intestine_Terminal_Ileum': 0.000166052...   \n",
       "ENSG00000001084  {'Small_Intestine_Terminal_Ileum': 0.006074884...   \n",
       "ENSG00000001167  {'Small_Intestine_Terminal_Ileum': 0.033165962...   \n",
       "\n",
       "                 n_snps_used_sum  n_snps_in_model_sum  \n",
       "gene_id                                                \n",
       "ENSG00000000419                2                    2  \n",
       "ENSG00000000938               40                   40  \n",
       "ENSG00000000971               44                   44  \n",
       "ENSG00000001084               46                   46  \n",
       "ENSG00000001167               47                   48  "
      ]
     },
     "execution_count": 129,
     "metadata": {},
     "output_type": "execute_result"
    }
   ],
   "source": [
    "spredixcan_genes_models.head()"
   ]
  },
  {
   "cell_type": "markdown",
   "id": "e9f61a50-a5b5-4c85-9dec-3ceaaf65c61d",
   "metadata": {
    "papermill": {
     "duration": 0.024315,
     "end_time": "2022-08-02T09:33:09.001495",
     "exception": false,
     "start_time": "2022-08-02T09:33:08.977180",
     "status": "completed"
    },
    "tags": []
   },
   "source": [
    "### Summarize prediction models for each gene"
   ]
  },
  {
   "cell_type": "code",
   "execution_count": 130,
   "id": "4f44928f-b401-4abb-ac00-3b15b2746504",
   "metadata": {
    "execution": {
     "iopub.execute_input": "2022-08-02T09:33:09.052568Z",
     "iopub.status.busy": "2022-08-02T09:33:09.052269Z",
     "iopub.status.idle": "2022-08-02T09:33:09.068733Z",
     "shell.execute_reply": "2022-08-02T09:33:09.068325Z"
    },
    "papermill": {
     "duration": 0.045274,
     "end_time": "2022-08-02T09:33:09.070975",
     "exception": false,
     "start_time": "2022-08-02T09:33:09.025701",
     "status": "completed"
    },
    "tags": []
   },
   "outputs": [],
   "source": [
    "def _summarize_gene_models(gene_id):\n",
    "    \"\"\"\n",
    "    For a given gene ID, it returns a dataframe with predictor SNPs in rows and tissues in columns, where\n",
    "    values are the weights of SNPs in those tissues.\n",
    "    It can contain NaNs.\n",
    "    \"\"\"\n",
    "    gene_obj = spredixcan_gene_obj[gene_id]\n",
    "    gene_tissues = spredixcan_genes_models.loc[gene_id, \"tissue\"]\n",
    "\n",
    "    gene_models = {}\n",
    "    gene_unique_snps = set()\n",
    "    for t in gene_tissues:\n",
    "        gene_model = gene_obj.get_prediction_weights(tissue=t, model_type=EQTL_MODEL)\n",
    "        gene_models[t] = gene_model\n",
    "\n",
    "        gene_unique_snps.update(set(gene_model.index))\n",
    "\n",
    "    df = pd.DataFrame(\n",
    "        data=np.nan, index=list(gene_unique_snps), columns=list(gene_tissues)\n",
    "    )\n",
    "\n",
    "    for t in df.columns:\n",
    "        for snp in df.index:\n",
    "            gene_model = gene_models[t]\n",
    "\n",
    "            if snp in gene_model.index:\n",
    "                df.loc[snp, t] = gene_model.loc[snp]\n",
    "\n",
    "    return df"
   ]
  },
  {
   "cell_type": "code",
   "execution_count": 131,
   "id": "71bb0b5a-fe44-4076-91df-d8077ff85c71",
   "metadata": {
    "execution": {
     "iopub.execute_input": "2022-08-02T09:33:09.120772Z",
     "iopub.status.busy": "2022-08-02T09:33:09.120508Z",
     "iopub.status.idle": "2022-08-02T09:33:09.140127Z",
     "shell.execute_reply": "2022-08-02T09:33:09.138865Z"
    },
    "papermill": {
     "duration": 0.050658,
     "end_time": "2022-08-02T09:33:09.146140",
     "exception": false,
     "start_time": "2022-08-02T09:33:09.095482",
     "status": "completed"
    },
    "tags": []
   },
   "outputs": [
    {
     "data": {
      "text/plain": [
       "varID\n",
       "chr20_50862947_C_T_b38    0.431375\n",
       "Name: weight, dtype: float64"
      ]
     },
     "execution_count": 131,
     "metadata": {},
     "output_type": "execute_result"
    }
   ],
   "source": [
    "# testing\n",
    "spredixcan_gene_obj[\"ENSG00000000419\"].get_prediction_weights(\n",
    "    tissue=\"Brain_Hypothalamus\", model_type=EQTL_MODEL\n",
    ")"
   ]
  },
  {
   "cell_type": "code",
   "execution_count": 132,
   "id": "ad18b2d9-f585-445b-a809-bd694d417a8a",
   "metadata": {
    "execution": {
     "iopub.execute_input": "2022-08-02T09:33:09.200867Z",
     "iopub.status.busy": "2022-08-02T09:33:09.200064Z",
     "iopub.status.idle": "2022-08-02T09:33:09.229501Z",
     "shell.execute_reply": "2022-08-02T09:33:09.229035Z"
    },
    "papermill": {
     "duration": 0.059274,
     "end_time": "2022-08-02T09:33:09.230974",
     "exception": false,
     "start_time": "2022-08-02T09:33:09.171700",
     "status": "completed"
    },
    "tags": []
   },
   "outputs": [
    {
     "data": {
      "text/plain": [
       "varID\n",
       "chr20_50957480_C_T_b38   -0.146796\n",
       "Name: weight, dtype: float64"
      ]
     },
     "execution_count": 132,
     "metadata": {},
     "output_type": "execute_result"
    }
   ],
   "source": [
    "spredixcan_gene_obj[\"ENSG00000000419\"].get_prediction_weights(\n",
    "    tissue=\"Brain_Substantia_nigra\", model_type=EQTL_MODEL\n",
    ")"
   ]
  },
  {
   "cell_type": "code",
   "execution_count": 133,
   "id": "82ef5dec-283c-44ee-a118-b28d87a5b298",
   "metadata": {
    "execution": {
     "iopub.execute_input": "2022-08-02T09:33:09.296415Z",
     "iopub.status.busy": "2022-08-02T09:33:09.296189Z",
     "iopub.status.idle": "2022-08-02T09:33:09.315315Z",
     "shell.execute_reply": "2022-08-02T09:33:09.314547Z"
    },
    "papermill": {
     "duration": 0.056174,
     "end_time": "2022-08-02T09:33:09.316712",
     "exception": false,
     "start_time": "2022-08-02T09:33:09.260538",
     "status": "completed"
    },
    "tags": []
   },
   "outputs": [],
   "source": [
    "# # testing\n",
    "# _gene_id = \"ENSG00000000419\"\n",
    "\n",
    "# _gene_model = _summarize_gene_models(_gene_id)\n",
    "# assert (\n",
    "#     _gene_model.loc[\"chr20_50862947_C_T_b38\", \"Brain_Hypothalamus\"].round(5) == 0.43138\n",
    "# )\n",
    "# assert pd.isnull(_gene_model.loc[\"chr20_50957480_C_T_b38\", \"Brain_Hypothalamus\"])\n",
    "\n",
    "# assert pd.isnull(_gene_model.loc[\"chr20_50862947_C_T_b38\", \"Brain_Substantia_nigra\"])\n",
    "# assert (\n",
    "#     _gene_model.loc[\"chr20_50957480_C_T_b38\", \"Brain_Substantia_nigra\"].round(5)\n",
    "#     == -0.1468\n",
    "# )"
   ]
  },
  {
   "cell_type": "code",
   "execution_count": 134,
   "id": "134a7533-69e8-4858-8763-1fd45cbdec77",
   "metadata": {
    "execution": {
     "iopub.execute_input": "2022-08-02T09:33:09.374668Z",
     "iopub.status.busy": "2022-08-02T09:33:09.373757Z",
     "iopub.status.idle": "2022-08-02T09:50:00.538632Z",
     "shell.execute_reply": "2022-08-02T09:50:00.536287Z"
    },
    "papermill": {
     "duration": 1011.195963,
     "end_time": "2022-08-02T09:50:00.540597",
     "exception": false,
     "start_time": "2022-08-02T09:33:09.344634",
     "status": "completed"
    },
    "tags": []
   },
   "outputs": [],
   "source": [
    "gene_models = {}\n",
    "\n",
    "for gene_id in spredixcan_genes_models.index:\n",
    "    gene_models[gene_id] = _summarize_gene_models(gene_id)"
   ]
  },
  {
   "cell_type": "code",
   "execution_count": 135,
   "id": "97117dc0-0476-4e7b-98cb-6738dbb28c8a",
   "metadata": {
    "execution": {
     "iopub.execute_input": "2022-08-02T09:50:00.644428Z",
     "iopub.status.busy": "2022-08-02T09:50:00.644242Z",
     "iopub.status.idle": "2022-08-02T09:50:00.660300Z",
     "shell.execute_reply": "2022-08-02T09:50:00.659842Z"
    },
    "papermill": {
     "duration": 0.082894,
     "end_time": "2022-08-02T09:50:00.661655",
     "exception": false,
     "start_time": "2022-08-02T09:50:00.578761",
     "status": "completed"
    },
    "tags": []
   },
   "outputs": [],
   "source": [
    "# # testing\n",
    "# _gene_id = \"ENSG00000000419\"\n",
    "\n",
    "# _gene_model = gene_models[_gene_id]\n",
    "# assert (\n",
    "#     _gene_model.loc[\"chr20_50862947_C_T_b38\", \"Brain_Hypothalamus\"].round(5) == 0.43138\n",
    "# )\n",
    "# assert pd.isnull(_gene_model.loc[\"chr20_50957480_C_T_b38\", \"Brain_Hypothalamus\"])\n",
    "\n",
    "# assert pd.isnull(_gene_model.loc[\"chr20_50862947_C_T_b38\", \"Brain_Substantia_nigra\"])\n",
    "# assert (\n",
    "#     _gene_model.loc[\"chr20_50957480_C_T_b38\", \"Brain_Substantia_nigra\"].round(5)\n",
    "#     == -0.1468\n",
    "# )"
   ]
  },
  {
   "cell_type": "code",
   "execution_count": 136,
   "id": "806cd4a5-51b1-4ed3-8aa3-4970c128ccff",
   "metadata": {
    "execution": {
     "iopub.execute_input": "2022-08-02T09:50:00.712557Z",
     "iopub.status.busy": "2022-08-02T09:50:00.712312Z",
     "iopub.status.idle": "2022-08-02T09:50:03.733870Z",
     "shell.execute_reply": "2022-08-02T09:50:03.733411Z"
    },
    "papermill": {
     "duration": 3.048826,
     "end_time": "2022-08-02T09:50:03.735411",
     "exception": false,
     "start_time": "2022-08-02T09:50:00.686585",
     "status": "completed"
    },
    "tags": []
   },
   "outputs": [],
   "source": [
    "# save\n",
    "import gzip\n",
    "\n",
    "with gzip.GzipFile(OUTPUT_DIR_BASE / \"gene_tissues_models.pkl.gz\", \"w\") as f:\n",
    "    pickle.dump(gene_models, f)"
   ]
  },
  {
   "cell_type": "code",
   "execution_count": 137,
   "id": "a12a9597-dd0a-40a0-9a42-f288af22e0d2",
   "metadata": {
    "execution": {
     "iopub.execute_input": "2022-08-02T09:50:03.795026Z",
     "iopub.status.busy": "2022-08-02T09:50:03.794506Z",
     "iopub.status.idle": "2022-08-02T09:50:05.462451Z",
     "shell.execute_reply": "2022-08-02T09:50:05.461941Z"
    },
    "papermill": {
     "duration": 1.707025,
     "end_time": "2022-08-02T09:50:05.468169",
     "exception": false,
     "start_time": "2022-08-02T09:50:03.761144",
     "status": "completed"
    },
    "tags": []
   },
   "outputs": [],
   "source": [
    "# testing saved file\n",
    "with gzip.GzipFile(OUTPUT_DIR_BASE / \"gene_tissues_models.pkl.gz\", \"r\") as f:\n",
    "    _tmp = pickle.load(f)"
   ]
  },
  {
   "cell_type": "code",
   "execution_count": 138,
   "id": "a90a8f83-75db-4f73-8f1a-7e0563ba3685",
   "metadata": {
    "execution": {
     "iopub.execute_input": "2022-08-02T09:50:05.520038Z",
     "iopub.status.busy": "2022-08-02T09:50:05.519511Z",
     "iopub.status.idle": "2022-08-02T09:50:05.533373Z",
     "shell.execute_reply": "2022-08-02T09:50:05.532895Z"
    },
    "papermill": {
     "duration": 0.041389,
     "end_time": "2022-08-02T09:50:05.534682",
     "exception": false,
     "start_time": "2022-08-02T09:50:05.493293",
     "status": "completed"
    },
    "tags": []
   },
   "outputs": [],
   "source": [
    "assert len(gene_models) == len(_tmp)\n",
    "assert gene_models[\"ENSG00000000419\"].equals(_tmp[\"ENSG00000000419\"])"
   ]
  },
  {
   "cell_type": "markdown",
   "id": "a147f3a8-4efd-457b-9581-00cbfacd4b3d",
   "metadata": {
    "papermill": {
     "duration": 0.024422,
     "end_time": "2022-08-02T09:50:05.584116",
     "exception": false,
     "start_time": "2022-08-02T09:50:05.559694",
     "status": "completed"
    },
    "tags": []
   },
   "source": [
    "### Count number of _unique_ SNPs predictors used and available across tissue models"
   ]
  },
  {
   "cell_type": "code",
   "execution_count": 139,
   "id": "38d5bc57-3c25-4abe-93bd-09bbe200f2ef",
   "metadata": {
    "execution": {
     "iopub.execute_input": "2022-08-02T09:50:05.635215Z",
     "iopub.status.busy": "2022-08-02T09:50:05.635049Z",
     "iopub.status.idle": "2022-08-02T09:50:05.653391Z",
     "shell.execute_reply": "2022-08-02T09:50:05.652886Z"
    },
    "papermill": {
     "duration": 0.045461,
     "end_time": "2022-08-02T09:50:05.654807",
     "exception": false,
     "start_time": "2022-08-02T09:50:05.609346",
     "status": "completed"
    },
    "tags": []
   },
   "outputs": [],
   "source": [
    "def _count_unique_snps(gene_id):\n",
    "    \"\"\"\n",
    "    For a gene_id, it counts unique SNPs in all models and their intersection with GWAS SNPs (therefore, used by S-PrediXcan).\n",
    "    \"\"\"\n",
    "    gene_obj = spredixcan_gene_obj[gene_id]\n",
    "    gene_tissues = spredixcan_genes_models.loc[gene_id, \"tissue\"]\n",
    "\n",
    "    gene_unique_snps = set()\n",
    "    for t in gene_tissues:\n",
    "        t_snps = set(gene_models[gene_id].index)\n",
    "        gene_unique_snps.update(t_snps)\n",
    "\n",
    "    gene_unique_snps_in_gwas = gwas_variants_ids_set.intersection(gene_unique_snps)\n",
    "\n",
    "    return pd.Series(\n",
    "        {\n",
    "            \"unique_n_snps_in_model\": len(gene_unique_snps),\n",
    "            \"unique_n_snps_used\": len(gene_unique_snps_in_gwas),\n",
    "        }\n",
    "    )"
   ]
  },
  {
   "cell_type": "code",
   "execution_count": 140,
   "id": "059c6e02-67e2-4376-a3e5-b815070779c9",
   "metadata": {
    "execution": {
     "iopub.execute_input": "2022-08-02T09:50:05.706712Z",
     "iopub.status.busy": "2022-08-02T09:50:05.706553Z",
     "iopub.status.idle": "2022-08-02T09:50:05.736232Z",
     "shell.execute_reply": "2022-08-02T09:50:05.735781Z"
    },
    "papermill": {
     "duration": 0.058221,
     "end_time": "2022-08-02T09:50:05.739239",
     "exception": false,
     "start_time": "2022-08-02T09:50:05.681018",
     "status": "completed"
    },
    "tags": []
   },
   "outputs": [
    {
     "data": {
      "text/html": [
       "<div>\n",
       "<style scoped>\n",
       "    .dataframe tbody tr th:only-of-type {\n",
       "        vertical-align: middle;\n",
       "    }\n",
       "\n",
       "    .dataframe tbody tr th {\n",
       "        vertical-align: top;\n",
       "    }\n",
       "\n",
       "    .dataframe thead th {\n",
       "        text-align: right;\n",
       "    }\n",
       "</style>\n",
       "<table border=\"1\" class=\"dataframe\">\n",
       "  <thead>\n",
       "    <tr style=\"text-align: right;\">\n",
       "      <th></th>\n",
       "      <th>gene_name</th>\n",
       "      <th>tissue</th>\n",
       "      <th>n_tissues</th>\n",
       "      <th>tissues_pc_variances</th>\n",
       "      <th>tissues_pc_variances_cov</th>\n",
       "      <th>tissues_variances</th>\n",
       "      <th>n_snps_used_sum</th>\n",
       "      <th>n_snps_in_model_sum</th>\n",
       "    </tr>\n",
       "    <tr>\n",
       "      <th>gene_id</th>\n",
       "      <th></th>\n",
       "      <th></th>\n",
       "      <th></th>\n",
       "      <th></th>\n",
       "      <th></th>\n",
       "      <th></th>\n",
       "      <th></th>\n",
       "      <th></th>\n",
       "    </tr>\n",
       "  </thead>\n",
       "  <tbody>\n",
       "    <tr>\n",
       "      <th>ENSG00000000419</th>\n",
       "      <td>DPM1</td>\n",
       "      <td>(Brain_Substantia_nigra, Brain_Hypothalamus)</td>\n",
       "      <td>2</td>\n",
       "      <td>[1.0372585612589562, 0.9627414387410438]</td>\n",
       "      <td>[0.008284978865240098, 0.000732674839341259]</td>\n",
       "      <td>{'Brain_Substantia_nigra': 0.00073379232755585...</td>\n",
       "      <td>2</td>\n",
       "      <td>2</td>\n",
       "    </tr>\n",
       "    <tr>\n",
       "      <th>ENSG00000010256</th>\n",
       "      <td>UQCRC1</td>\n",
       "      <td>(Thyroid, Whole_Blood)</td>\n",
       "      <td>2</td>\n",
       "      <td>[1.0093689729110555, 0.9906310270889445]</td>\n",
       "      <td>[0.0009273176884979874, 0.00020344782573448428]</td>\n",
       "      <td>{'Thyroid': 0.0009272948084506859, 'Whole_Bloo...</td>\n",
       "      <td>2</td>\n",
       "      <td>2</td>\n",
       "    </tr>\n",
       "    <tr>\n",
       "      <th>ENSG00000017427</th>\n",
       "      <td>IGF1</td>\n",
       "      <td>(Testis, Brain_Amygdala)</td>\n",
       "      <td>2</td>\n",
       "      <td>[1.0771380046097814, 0.9228619953902187]</td>\n",
       "      <td>[0.009029344584417351, 0.004240396755557003]</td>\n",
       "      <td>{'Testis': 0.004288742461259412, 'Brain_Amygda...</td>\n",
       "      <td>2</td>\n",
       "      <td>2</td>\n",
       "    </tr>\n",
       "    <tr>\n",
       "      <th>ENSG00000043093</th>\n",
       "      <td>DCUN1D1</td>\n",
       "      <td>(Esophagus_Muscularis, Esophagus_Gastroesophag...</td>\n",
       "      <td>2</td>\n",
       "      <td>[1.3868202090634627, 0.6131797909365372]</td>\n",
       "      <td>[0.0004918171518042509, 0.00015146433378921632]</td>\n",
       "      <td>{'Esophagus_Muscularis': 0.0004475469555083852...</td>\n",
       "      <td>2</td>\n",
       "      <td>2</td>\n",
       "    </tr>\n",
       "    <tr>\n",
       "      <th>ENSG00000081377</th>\n",
       "      <td>CDC14B</td>\n",
       "      <td>(Brain_Nucleus_accumbens_basal_ganglia, Muscle...</td>\n",
       "      <td>2</td>\n",
       "      <td>[1.0605267240586365, 0.9394732759413637]</td>\n",
       "      <td>[0.014269778064730797, 0.008102106779328003]</td>\n",
       "      <td>{'Brain_Nucleus_accumbens_basal_ganglia': 0.01...</td>\n",
       "      <td>2</td>\n",
       "      <td>2</td>\n",
       "    </tr>\n",
       "  </tbody>\n",
       "</table>\n",
       "</div>"
      ],
      "text/plain": [
       "                gene_name                                             tissue  \\\n",
       "gene_id                                                                        \n",
       "ENSG00000000419      DPM1       (Brain_Substantia_nigra, Brain_Hypothalamus)   \n",
       "ENSG00000010256    UQCRC1                             (Thyroid, Whole_Blood)   \n",
       "ENSG00000017427      IGF1                           (Testis, Brain_Amygdala)   \n",
       "ENSG00000043093   DCUN1D1  (Esophagus_Muscularis, Esophagus_Gastroesophag...   \n",
       "ENSG00000081377    CDC14B  (Brain_Nucleus_accumbens_basal_ganglia, Muscle...   \n",
       "\n",
       "                 n_tissues                      tissues_pc_variances  \\\n",
       "gene_id                                                                \n",
       "ENSG00000000419          2  [1.0372585612589562, 0.9627414387410438]   \n",
       "ENSG00000010256          2  [1.0093689729110555, 0.9906310270889445]   \n",
       "ENSG00000017427          2  [1.0771380046097814, 0.9228619953902187]   \n",
       "ENSG00000043093          2  [1.3868202090634627, 0.6131797909365372]   \n",
       "ENSG00000081377          2  [1.0605267240586365, 0.9394732759413637]   \n",
       "\n",
       "                                        tissues_pc_variances_cov  \\\n",
       "gene_id                                                            \n",
       "ENSG00000000419     [0.008284978865240098, 0.000732674839341259]   \n",
       "ENSG00000010256  [0.0009273176884979874, 0.00020344782573448428]   \n",
       "ENSG00000017427     [0.009029344584417351, 0.004240396755557003]   \n",
       "ENSG00000043093  [0.0004918171518042509, 0.00015146433378921632]   \n",
       "ENSG00000081377     [0.014269778064730797, 0.008102106779328003]   \n",
       "\n",
       "                                                 tissues_variances  \\\n",
       "gene_id                                                              \n",
       "ENSG00000000419  {'Brain_Substantia_nigra': 0.00073379232755585...   \n",
       "ENSG00000010256  {'Thyroid': 0.0009272948084506859, 'Whole_Bloo...   \n",
       "ENSG00000017427  {'Testis': 0.004288742461259412, 'Brain_Amygda...   \n",
       "ENSG00000043093  {'Esophagus_Muscularis': 0.0004475469555083852...   \n",
       "ENSG00000081377  {'Brain_Nucleus_accumbens_basal_ganglia': 0.01...   \n",
       "\n",
       "                 n_snps_used_sum  n_snps_in_model_sum  \n",
       "gene_id                                                \n",
       "ENSG00000000419                2                    2  \n",
       "ENSG00000010256                2                    2  \n",
       "ENSG00000017427                2                    2  \n",
       "ENSG00000043093                2                    2  \n",
       "ENSG00000081377                2                    2  "
      ]
     },
     "execution_count": 140,
     "metadata": {},
     "output_type": "execute_result"
    }
   ],
   "source": [
    "# testing\n",
    "spredixcan_genes_models[spredixcan_genes_models[\"n_snps_used_sum\"] == 2].head()"
   ]
  },
  {
   "cell_type": "code",
   "execution_count": 141,
   "id": "4f8a444c-c3e2-4688-a50b-08481d41f614",
   "metadata": {
    "execution": {
     "iopub.execute_input": "2022-08-02T09:50:05.802925Z",
     "iopub.status.busy": "2022-08-02T09:50:05.802737Z",
     "iopub.status.idle": "2022-08-02T09:50:05.826688Z",
     "shell.execute_reply": "2022-08-02T09:50:05.826206Z"
    },
    "papermill": {
     "duration": 0.056309,
     "end_time": "2022-08-02T09:50:05.828276",
     "exception": false,
     "start_time": "2022-08-02T09:50:05.771967",
     "status": "completed"
    },
    "tags": []
   },
   "outputs": [
    {
     "data": {
      "text/plain": [
       "varID\n",
       "chr20_50862947_C_T_b38    0.431375\n",
       "Name: weight, dtype: float64"
      ]
     },
     "metadata": {},
     "output_type": "display_data"
    },
    {
     "data": {
      "text/plain": [
       "varID\n",
       "chr20_50957480_C_T_b38   -0.146796\n",
       "Name: weight, dtype: float64"
      ]
     },
     "metadata": {},
     "output_type": "display_data"
    }
   ],
   "source": [
    "# case with two snps, not repeated across tissues\n",
    "_gene_id = \"ENSG00000000419\"\n",
    "display(\n",
    "    spredixcan_gene_obj[_gene_id].get_prediction_weights(\n",
    "        tissue=\"Brain_Hypothalamus\", model_type=EQTL_MODEL\n",
    "    )\n",
    ")\n",
    "display(\n",
    "    spredixcan_gene_obj[_gene_id].get_prediction_weights(\n",
    "        tissue=\"Brain_Substantia_nigra\", model_type=EQTL_MODEL\n",
    "    )\n",
    ")"
   ]
  },
  {
   "cell_type": "code",
   "execution_count": 142,
   "id": "f835cf57-eea6-4468-aaf2-d85c8164d177",
   "metadata": {
    "execution": {
     "iopub.execute_input": "2022-08-02T09:50:05.881817Z",
     "iopub.status.busy": "2022-08-02T09:50:05.881412Z",
     "iopub.status.idle": "2022-08-02T09:50:05.898368Z",
     "shell.execute_reply": "2022-08-02T09:50:05.894650Z"
    },
    "papermill": {
     "duration": 0.045589,
     "end_time": "2022-08-02T09:50:05.899820",
     "exception": false,
     "start_time": "2022-08-02T09:50:05.854231",
     "status": "completed"
    },
    "tags": []
   },
   "outputs": [],
   "source": [
    "# _tmp = _count_unique_snps(_gene_id)\n",
    "# assert _tmp.shape[0] == 2\n",
    "# assert _tmp[\"unique_n_snps_in_model\"] == 2\n",
    "# assert _tmp[\"unique_n_snps_used\"] == 2"
   ]
  },
  {
   "cell_type": "code",
   "execution_count": 143,
   "id": "520837f6-5cdd-4958-aa98-00cd1ebab484",
   "metadata": {
    "execution": {
     "iopub.execute_input": "2022-08-02T09:50:05.952253Z",
     "iopub.status.busy": "2022-08-02T09:50:05.951812Z",
     "iopub.status.idle": "2022-08-02T09:50:08.417007Z",
     "shell.execute_reply": "2022-08-02T09:50:08.414636Z"
    },
    "papermill": {
     "duration": 2.493909,
     "end_time": "2022-08-02T09:50:08.419262",
     "exception": false,
     "start_time": "2022-08-02T09:50:05.925353",
     "status": "completed"
    },
    "tags": []
   },
   "outputs": [],
   "source": [
    "# get unique snps for all genes\n",
    "spredixcan_genes_unique_n_snps = spredixcan_genes_models.groupby(\"gene_id\").apply(\n",
    "    lambda x: _count_unique_snps(x.name)\n",
    ")"
   ]
  },
  {
   "cell_type": "code",
   "execution_count": 144,
   "id": "72633373-73d7-4796-b915-06fcb18feca0",
   "metadata": {
    "execution": {
     "iopub.execute_input": "2022-08-02T09:50:08.482376Z",
     "iopub.status.busy": "2022-08-02T09:50:08.480307Z",
     "iopub.status.idle": "2022-08-02T09:50:08.512320Z",
     "shell.execute_reply": "2022-08-02T09:50:08.509911Z"
    },
    "papermill": {
     "duration": 0.064365,
     "end_time": "2022-08-02T09:50:08.514142",
     "exception": false,
     "start_time": "2022-08-02T09:50:08.449777",
     "status": "completed"
    },
    "tags": []
   },
   "outputs": [
    {
     "data": {
      "text/html": [
       "<div>\n",
       "<style scoped>\n",
       "    .dataframe tbody tr th:only-of-type {\n",
       "        vertical-align: middle;\n",
       "    }\n",
       "\n",
       "    .dataframe tbody tr th {\n",
       "        vertical-align: top;\n",
       "    }\n",
       "\n",
       "    .dataframe thead th {\n",
       "        text-align: right;\n",
       "    }\n",
       "</style>\n",
       "<table border=\"1\" class=\"dataframe\">\n",
       "  <thead>\n",
       "    <tr style=\"text-align: right;\">\n",
       "      <th></th>\n",
       "      <th>unique_n_snps_in_model</th>\n",
       "      <th>unique_n_snps_used</th>\n",
       "    </tr>\n",
       "    <tr>\n",
       "      <th>gene_id</th>\n",
       "      <th></th>\n",
       "      <th></th>\n",
       "    </tr>\n",
       "  </thead>\n",
       "  <tbody>\n",
       "    <tr>\n",
       "      <th>ENSG00000000419</th>\n",
       "      <td>2</td>\n",
       "      <td>2</td>\n",
       "    </tr>\n",
       "    <tr>\n",
       "      <th>ENSG00000000938</th>\n",
       "      <td>5</td>\n",
       "      <td>5</td>\n",
       "    </tr>\n",
       "    <tr>\n",
       "      <th>ENSG00000000971</th>\n",
       "      <td>12</td>\n",
       "      <td>12</td>\n",
       "    </tr>\n",
       "    <tr>\n",
       "      <th>ENSG00000001084</th>\n",
       "      <td>23</td>\n",
       "      <td>23</td>\n",
       "    </tr>\n",
       "    <tr>\n",
       "      <th>ENSG00000001167</th>\n",
       "      <td>14</td>\n",
       "      <td>13</td>\n",
       "    </tr>\n",
       "  </tbody>\n",
       "</table>\n",
       "</div>"
      ],
      "text/plain": [
       "                 unique_n_snps_in_model  unique_n_snps_used\n",
       "gene_id                                                    \n",
       "ENSG00000000419                       2                   2\n",
       "ENSG00000000938                       5                   5\n",
       "ENSG00000000971                      12                  12\n",
       "ENSG00000001084                      23                  23\n",
       "ENSG00000001167                      14                  13"
      ]
     },
     "execution_count": 144,
     "metadata": {},
     "output_type": "execute_result"
    }
   ],
   "source": [
    "spredixcan_genes_unique_n_snps.head()"
   ]
  },
  {
   "cell_type": "code",
   "execution_count": 145,
   "id": "3d2b6676-2168-44b8-8d02-d29b934ba2ec",
   "metadata": {
    "execution": {
     "iopub.execute_input": "2022-08-02T09:50:08.571541Z",
     "iopub.status.busy": "2022-08-02T09:50:08.570801Z",
     "iopub.status.idle": "2022-08-02T09:50:08.586838Z",
     "shell.execute_reply": "2022-08-02T09:50:08.584042Z"
    },
    "papermill": {
     "duration": 0.043933,
     "end_time": "2022-08-02T09:50:08.588247",
     "exception": false,
     "start_time": "2022-08-02T09:50:08.544314",
     "status": "completed"
    },
    "tags": []
   },
   "outputs": [],
   "source": [
    "assert (\n",
    "    spredixcan_genes_unique_n_snps[\"unique_n_snps_in_model\"]\n",
    "    >= spredixcan_genes_unique_n_snps[\"unique_n_snps_used\"]\n",
    ").all()"
   ]
  },
  {
   "cell_type": "code",
   "execution_count": 146,
   "id": "6accf2fe-93fe-4f7c-86ff-5f0ea3d17e11",
   "metadata": {
    "execution": {
     "iopub.execute_input": "2022-08-02T09:50:08.642089Z",
     "iopub.status.busy": "2022-08-02T09:50:08.641795Z",
     "iopub.status.idle": "2022-08-02T09:50:08.661922Z",
     "shell.execute_reply": "2022-08-02T09:50:08.661433Z"
    },
    "papermill": {
     "duration": 0.048524,
     "end_time": "2022-08-02T09:50:08.663267",
     "exception": false,
     "start_time": "2022-08-02T09:50:08.614743",
     "status": "completed"
    },
    "tags": []
   },
   "outputs": [],
   "source": [
    "# add unique snps to spredixcan_genes_models\n",
    "spredixcan_genes_models = spredixcan_genes_models.join(spredixcan_genes_unique_n_snps)"
   ]
  },
  {
   "cell_type": "code",
   "execution_count": 147,
   "id": "25a28358-843b-4421-9d8f-8edc41f016e3",
   "metadata": {
    "execution": {
     "iopub.execute_input": "2022-08-02T09:50:08.716371Z",
     "iopub.status.busy": "2022-08-02T09:50:08.715506Z",
     "iopub.status.idle": "2022-08-02T09:50:08.731524Z",
     "shell.execute_reply": "2022-08-02T09:50:08.731076Z"
    },
    "papermill": {
     "duration": 0.049355,
     "end_time": "2022-08-02T09:50:08.738314",
     "exception": false,
     "start_time": "2022-08-02T09:50:08.688959",
     "status": "completed"
    },
    "tags": []
   },
   "outputs": [
    {
     "data": {
      "text/plain": [
       "(6444, 10)"
      ]
     },
     "execution_count": 147,
     "metadata": {},
     "output_type": "execute_result"
    }
   ],
   "source": [
    "spredixcan_genes_models.shape"
   ]
  },
  {
   "cell_type": "code",
   "execution_count": 148,
   "id": "ae4f0cd6-a823-4f55-82cf-1a78f0392acf",
   "metadata": {
    "execution": {
     "iopub.execute_input": "2022-08-02T09:50:08.804480Z",
     "iopub.status.busy": "2022-08-02T09:50:08.804288Z",
     "iopub.status.idle": "2022-08-02T09:50:08.847297Z",
     "shell.execute_reply": "2022-08-02T09:50:08.845419Z"
    },
    "papermill": {
     "duration": 0.084686,
     "end_time": "2022-08-02T09:50:08.848667",
     "exception": false,
     "start_time": "2022-08-02T09:50:08.763981",
     "status": "completed"
    },
    "tags": []
   },
   "outputs": [
    {
     "data": {
      "text/html": [
       "<div>\n",
       "<style scoped>\n",
       "    .dataframe tbody tr th:only-of-type {\n",
       "        vertical-align: middle;\n",
       "    }\n",
       "\n",
       "    .dataframe tbody tr th {\n",
       "        vertical-align: top;\n",
       "    }\n",
       "\n",
       "    .dataframe thead th {\n",
       "        text-align: right;\n",
       "    }\n",
       "</style>\n",
       "<table border=\"1\" class=\"dataframe\">\n",
       "  <thead>\n",
       "    <tr style=\"text-align: right;\">\n",
       "      <th></th>\n",
       "      <th>gene_name</th>\n",
       "      <th>tissue</th>\n",
       "      <th>n_tissues</th>\n",
       "      <th>tissues_pc_variances</th>\n",
       "      <th>tissues_pc_variances_cov</th>\n",
       "      <th>tissues_variances</th>\n",
       "      <th>n_snps_used_sum</th>\n",
       "      <th>n_snps_in_model_sum</th>\n",
       "      <th>unique_n_snps_in_model</th>\n",
       "      <th>unique_n_snps_used</th>\n",
       "    </tr>\n",
       "    <tr>\n",
       "      <th>gene_id</th>\n",
       "      <th></th>\n",
       "      <th></th>\n",
       "      <th></th>\n",
       "      <th></th>\n",
       "      <th></th>\n",
       "      <th></th>\n",
       "      <th></th>\n",
       "      <th></th>\n",
       "      <th></th>\n",
       "      <th></th>\n",
       "    </tr>\n",
       "  </thead>\n",
       "  <tbody>\n",
       "    <tr>\n",
       "      <th>ENSG00000000419</th>\n",
       "      <td>DPM1</td>\n",
       "      <td>(Brain_Substantia_nigra, Brain_Hypothalamus)</td>\n",
       "      <td>2</td>\n",
       "      <td>[1.0372585612589562, 0.9627414387410438]</td>\n",
       "      <td>[0.008284978865240098, 0.000732674839341259]</td>\n",
       "      <td>{'Brain_Substantia_nigra': 0.00073379232755585...</td>\n",
       "      <td>2</td>\n",
       "      <td>2</td>\n",
       "      <td>2</td>\n",
       "      <td>2</td>\n",
       "    </tr>\n",
       "    <tr>\n",
       "      <th>ENSG00000000938</th>\n",
       "      <td>FGR</td>\n",
       "      <td>(Artery_Aorta, Colon_Transverse, Breast_Mammar...</td>\n",
       "      <td>36</td>\n",
       "      <td>[30.57880701512375, 2.029732645600111, 1.40179...</td>\n",
       "      <td>[0.22478471249969337, 0.00881387381303179]</td>\n",
       "      <td>{'Artery_Aorta': 0.004641097161388297, 'Colon_...</td>\n",
       "      <td>40</td>\n",
       "      <td>40</td>\n",
       "      <td>5</td>\n",
       "      <td>5</td>\n",
       "    </tr>\n",
       "    <tr>\n",
       "      <th>ENSG00000000971</th>\n",
       "      <td>CFH</td>\n",
       "      <td>(Small_Intestine_Terminal_Ileum, Artery_Aorta,...</td>\n",
       "      <td>34</td>\n",
       "      <td>[20.77260827663933, 8.177158142324839, 1.86464...</td>\n",
       "      <td>[0.19699534279580105, 0.05731825316349168, 0.0...</td>\n",
       "      <td>{'Small_Intestine_Terminal_Ileum': 0.000166052...</td>\n",
       "      <td>44</td>\n",
       "      <td>44</td>\n",
       "      <td>12</td>\n",
       "      <td>12</td>\n",
       "    </tr>\n",
       "    <tr>\n",
       "      <th>ENSG00000001084</th>\n",
       "      <td>GCLC</td>\n",
       "      <td>(Small_Intestine_Terminal_Ileum, Artery_Aorta,...</td>\n",
       "      <td>32</td>\n",
       "      <td>[20.976449940269113, 4.772354749306764, 2.2362...</td>\n",
       "      <td>[0.3657809638925397, 0.12645413710424536, 0.01...</td>\n",
       "      <td>{'Small_Intestine_Terminal_Ileum': 0.006074884...</td>\n",
       "      <td>46</td>\n",
       "      <td>46</td>\n",
       "      <td>23</td>\n",
       "      <td>23</td>\n",
       "    </tr>\n",
       "    <tr>\n",
       "      <th>ENSG00000001167</th>\n",
       "      <td>NFYA</td>\n",
       "      <td>(Small_Intestine_Terminal_Ileum, Artery_Aorta,...</td>\n",
       "      <td>40</td>\n",
       "      <td>[37.63836978240499]</td>\n",
       "      <td>[1.478714450892399, 0.04969061838773913]</td>\n",
       "      <td>{'Small_Intestine_Terminal_Ileum': 0.033165962...</td>\n",
       "      <td>47</td>\n",
       "      <td>48</td>\n",
       "      <td>14</td>\n",
       "      <td>13</td>\n",
       "    </tr>\n",
       "  </tbody>\n",
       "</table>\n",
       "</div>"
      ],
      "text/plain": [
       "                gene_name                                             tissue  \\\n",
       "gene_id                                                                        \n",
       "ENSG00000000419      DPM1       (Brain_Substantia_nigra, Brain_Hypothalamus)   \n",
       "ENSG00000000938       FGR  (Artery_Aorta, Colon_Transverse, Breast_Mammar...   \n",
       "ENSG00000000971       CFH  (Small_Intestine_Terminal_Ileum, Artery_Aorta,...   \n",
       "ENSG00000001084      GCLC  (Small_Intestine_Terminal_Ileum, Artery_Aorta,...   \n",
       "ENSG00000001167      NFYA  (Small_Intestine_Terminal_Ileum, Artery_Aorta,...   \n",
       "\n",
       "                 n_tissues                               tissues_pc_variances  \\\n",
       "gene_id                                                                         \n",
       "ENSG00000000419          2           [1.0372585612589562, 0.9627414387410438]   \n",
       "ENSG00000000938         36  [30.57880701512375, 2.029732645600111, 1.40179...   \n",
       "ENSG00000000971         34  [20.77260827663933, 8.177158142324839, 1.86464...   \n",
       "ENSG00000001084         32  [20.976449940269113, 4.772354749306764, 2.2362...   \n",
       "ENSG00000001167         40                                [37.63836978240499]   \n",
       "\n",
       "                                          tissues_pc_variances_cov  \\\n",
       "gene_id                                                              \n",
       "ENSG00000000419       [0.008284978865240098, 0.000732674839341259]   \n",
       "ENSG00000000938         [0.22478471249969337, 0.00881387381303179]   \n",
       "ENSG00000000971  [0.19699534279580105, 0.05731825316349168, 0.0...   \n",
       "ENSG00000001084  [0.3657809638925397, 0.12645413710424536, 0.01...   \n",
       "ENSG00000001167           [1.478714450892399, 0.04969061838773913]   \n",
       "\n",
       "                                                 tissues_variances  \\\n",
       "gene_id                                                              \n",
       "ENSG00000000419  {'Brain_Substantia_nigra': 0.00073379232755585...   \n",
       "ENSG00000000938  {'Artery_Aorta': 0.004641097161388297, 'Colon_...   \n",
       "ENSG00000000971  {'Small_Intestine_Terminal_Ileum': 0.000166052...   \n",
       "ENSG00000001084  {'Small_Intestine_Terminal_Ileum': 0.006074884...   \n",
       "ENSG00000001167  {'Small_Intestine_Terminal_Ileum': 0.033165962...   \n",
       "\n",
       "                 n_snps_used_sum  n_snps_in_model_sum  unique_n_snps_in_model  \\\n",
       "gene_id                                                                         \n",
       "ENSG00000000419                2                    2                       2   \n",
       "ENSG00000000938               40                   40                       5   \n",
       "ENSG00000000971               44                   44                      12   \n",
       "ENSG00000001084               46                   46                      23   \n",
       "ENSG00000001167               47                   48                      14   \n",
       "\n",
       "                 unique_n_snps_used  \n",
       "gene_id                              \n",
       "ENSG00000000419                   2  \n",
       "ENSG00000000938                   5  \n",
       "ENSG00000000971                  12  \n",
       "ENSG00000001084                  23  \n",
       "ENSG00000001167                  13  "
      ]
     },
     "execution_count": 148,
     "metadata": {},
     "output_type": "execute_result"
    }
   ],
   "source": [
    "spredixcan_genes_models.head()"
   ]
  },
  {
   "cell_type": "markdown",
   "id": "d6947d45-ea78-4c6b-bf71-f7413d1687e3",
   "metadata": {
    "papermill": {
     "duration": 0.028235,
     "end_time": "2022-08-02T09:50:08.905796",
     "exception": false,
     "start_time": "2022-08-02T09:50:08.877561",
     "status": "completed"
    },
    "tags": []
   },
   "source": [
    "### Save"
   ]
  },
  {
   "cell_type": "code",
   "execution_count": 149,
   "id": "ebc3a430-7bd5-4099-8b01-aa77e704e3e7",
   "metadata": {
    "execution": {
     "iopub.execute_input": "2022-08-02T09:50:08.960716Z",
     "iopub.status.busy": "2022-08-02T09:50:08.960215Z",
     "iopub.status.idle": "2022-08-02T09:50:08.976315Z",
     "shell.execute_reply": "2022-08-02T09:50:08.975787Z"
    },
    "papermill": {
     "duration": 0.046428,
     "end_time": "2022-08-02T09:50:08.977575",
     "exception": false,
     "start_time": "2022-08-02T09:50:08.931147",
     "status": "completed"
    },
    "tags": []
   },
   "outputs": [],
   "source": [
    "# this is important, other scripts depend on gene_name to be unique\n",
    "assert spredixcan_genes_models[\"gene_name\"].is_unique"
   ]
  },
  {
   "cell_type": "code",
   "execution_count": 150,
   "id": "e2db5302-3051-4492-97e1-e759d2fb512f",
   "metadata": {
    "execution": {
     "iopub.execute_input": "2022-08-02T09:50:09.032548Z",
     "iopub.status.busy": "2022-08-02T09:50:09.032157Z",
     "iopub.status.idle": "2022-08-02T09:50:09.050112Z",
     "shell.execute_reply": "2022-08-02T09:50:09.049670Z"
    },
    "papermill": {
     "duration": 0.048101,
     "end_time": "2022-08-02T09:50:09.051444",
     "exception": false,
     "start_time": "2022-08-02T09:50:09.003343",
     "status": "completed"
    },
    "tags": []
   },
   "outputs": [],
   "source": [
    "assert not spredixcan_genes_models.isna().any(None)"
   ]
  },
  {
   "cell_type": "code",
   "execution_count": 151,
   "id": "10e19441-8390-4eb1-8da4-24752597bb54",
   "metadata": {
    "execution": {
     "iopub.execute_input": "2022-08-02T09:50:09.104704Z",
     "iopub.status.busy": "2022-08-02T09:50:09.104470Z",
     "iopub.status.idle": "2022-08-02T09:50:09.843113Z",
     "shell.execute_reply": "2022-08-02T09:50:09.842626Z"
    },
    "papermill": {
     "duration": 0.766556,
     "end_time": "2022-08-02T09:50:09.844452",
     "exception": false,
     "start_time": "2022-08-02T09:50:09.077896",
     "status": "completed"
    },
    "tags": []
   },
   "outputs": [],
   "source": [
    "spredixcan_genes_models.to_pickle(OUTPUT_DIR_BASE / \"gene_tissues.pkl\")"
   ]
  },
  {
   "cell_type": "code",
   "execution_count": null,
   "id": "b25e3ead",
   "metadata": {
    "papermill": {
     "duration": 0.02699,
     "end_time": "2022-08-02T09:50:09.902837",
     "exception": false,
     "start_time": "2022-08-02T09:50:09.875847",
     "status": "completed"
    },
    "tags": []
   },
   "outputs": [],
   "source": []
  }
 ],
 "metadata": {
  "jupytext": {
   "cell_metadata_filter": "all,-execution,-papermill,-trusted",
   "formats": "ipynb,py//py:percent"
  },
  "kernelspec": {
   "display_name": "Python 3 (ipykernel)",
   "language": "python",
   "name": "python3"
  },
  "language_info": {
   "codemirror_mode": {
    "name": "ipython",
    "version": 3
   },
   "file_extension": ".py",
   "mimetype": "text/x-python",
   "name": "python",
   "nbconvert_exporter": "python",
   "pygments_lexer": "ipython3",
   "version": "3.8.13"
  },
  "papermill": {
   "default_parameters": {},
   "duration": 10036.796993,
   "end_time": "2022-08-02T09:50:12.766860",
   "environment_variables": {},
   "exception": null,
   "input_path": "nbs/15_gsa_gls/07-compile_gwas_snps_and_twas_genes.ipynb",
   "output_path": "nbs/15_gsa_gls/gene_corrs/cohorts/1000g_eur/1000g/mashr/07-compile_gwas_snps_and_twas_genes.run.ipynb",
   "parameters": {
    "COHORT_NAME": "1000G_EUR",
    "EQTL_MODEL": "MASHR",
    "GWAS_FILE": "/opt/data/results/gls/null_sims/final_imputed_gwas/random.pheno0.glm-imputed.txt.gz",
    "REFERENCE_PANEL": "1000G",
    "SMULTIXCAN_FILE": "/opt/data/results/gls/null_sims/twas/smultixcan/random.pheno0-gtex_v8-mashr-smultixcan.txt",
    "SPREDIXCAN_FILE_PATTERN": "random.pheno0-gtex_v8-mashr-{tissue}.csv",
    "SPREDIXCAN_FOLDER": "/opt/data/results/gls/null_sims/twas/spredixcan/"
   },
   "start_time": "2022-08-02T07:02:55.969867",
   "version": "2.2.2"
  }
 },
 "nbformat": 4,
 "nbformat_minor": 5
}
