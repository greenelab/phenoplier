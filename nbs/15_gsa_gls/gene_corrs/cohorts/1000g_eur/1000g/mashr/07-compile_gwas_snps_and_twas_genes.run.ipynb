{
 "cells": [
  {
   "cell_type": "markdown",
   "id": "7a6632fb",
   "metadata": {
    "papermill": {
     "duration": 0.045881,
     "end_time": "2022-08-01T14:33:56.282776",
     "exception": false,
     "start_time": "2022-08-01T14:33:56.236895",
     "status": "completed"
    },
    "tags": []
   },
   "source": [
    "# Description"
   ]
  },
  {
   "cell_type": "markdown",
   "id": "7097c346",
   "metadata": {
    "papermill": {
     "duration": 0.014115,
     "end_time": "2022-08-01T14:33:56.311203",
     "exception": false,
     "start_time": "2022-08-01T14:33:56.297088",
     "status": "completed"
    },
    "tags": []
   },
   "source": [
    "(Please, take a look at the README.md file in this directory for instructions on how to run this notebook)\n",
    "\n",
    "This notebook compiles information about the GWAS and TWAS for a particular cohort. For example, the set of GWAS variants, variance of predicted expression of genes, etc.\n",
    "\n",
    "It has specicfic parameters for papermill (see under `Settings` below).\n",
    "\n",
    "This notebook is not directly run. See README.md."
   ]
  },
  {
   "cell_type": "markdown",
   "id": "c61d8427",
   "metadata": {
    "papermill": {
     "duration": 0.013848,
     "end_time": "2022-08-01T14:33:56.339279",
     "exception": false,
     "start_time": "2022-08-01T14:33:56.325431",
     "status": "completed"
    },
    "tags": []
   },
   "source": [
    "# Modules"
   ]
  },
  {
   "cell_type": "code",
   "execution_count": 1,
   "id": "bbc0234f",
   "metadata": {
    "execution": {
     "iopub.execute_input": "2022-08-01T14:33:56.368394Z",
     "iopub.status.busy": "2022-08-01T14:33:56.368153Z",
     "iopub.status.idle": "2022-08-01T14:33:56.382201Z",
     "shell.execute_reply": "2022-08-01T14:33:56.381732Z"
    },
    "papermill": {
     "duration": 0.030425,
     "end_time": "2022-08-01T14:33:56.383709",
     "exception": false,
     "start_time": "2022-08-01T14:33:56.353284",
     "status": "completed"
    },
    "tags": []
   },
   "outputs": [],
   "source": [
    "%load_ext autoreload\n",
    "%autoreload 2"
   ]
  },
  {
   "cell_type": "code",
   "execution_count": 2,
   "id": "1d5f5a59",
   "metadata": {
    "execution": {
     "iopub.execute_input": "2022-08-01T14:33:56.413897Z",
     "iopub.status.busy": "2022-08-01T14:33:56.413722Z",
     "iopub.status.idle": "2022-08-01T14:33:56.911179Z",
     "shell.execute_reply": "2022-08-01T14:33:56.910617Z"
    },
    "papermill": {
     "duration": 0.514053,
     "end_time": "2022-08-01T14:33:56.912646",
     "exception": false,
     "start_time": "2022-08-01T14:33:56.398593",
     "status": "completed"
    },
    "tags": []
   },
   "outputs": [],
   "source": [
    "from pathlib import Path\n",
    "import pickle\n",
    "\n",
    "import numpy as np\n",
    "\n",
    "import pandas as pd\n",
    "from tqdm import tqdm\n",
    "import pytest\n",
    "\n",
    "import conf\n",
    "from entity import Gene"
   ]
  },
  {
   "cell_type": "markdown",
   "id": "1eac24b5",
   "metadata": {
    "papermill": {
     "duration": 0.014346,
     "end_time": "2022-08-01T14:33:56.942655",
     "exception": false,
     "start_time": "2022-08-01T14:33:56.928309",
     "status": "completed"
    },
    "tags": []
   },
   "source": [
    "# Settings"
   ]
  },
  {
   "cell_type": "code",
   "execution_count": 3,
   "id": "ca4560ba",
   "metadata": {
    "execution": {
     "iopub.execute_input": "2022-08-01T14:33:56.972153Z",
     "iopub.status.busy": "2022-08-01T14:33:56.971951Z",
     "iopub.status.idle": "2022-08-01T14:33:56.984729Z",
     "shell.execute_reply": "2022-08-01T14:33:56.984256Z"
    },
    "papermill": {
     "duration": 0.029247,
     "end_time": "2022-08-01T14:33:56.986069",
     "exception": false,
     "start_time": "2022-08-01T14:33:56.956822",
     "status": "completed"
    },
    "tags": [
     "parameters"
    ]
   },
   "outputs": [],
   "source": [
    "# a cohort name (it could be something like UK_BIOBANK, etc)\n",
    "COHORT_NAME = None\n",
    "\n",
    "# reference panel such as 1000G or GTEX_V8\n",
    "REFERENCE_PANEL = None\n",
    "\n",
    "# predictions models such as MASHR or ELASTIC_NET\n",
    "EQTL_MODEL = None\n",
    "\n",
    "# a string with a path pointing to an imputed GWAS\n",
    "GWAS_FILE = None\n",
    "\n",
    "# a string with a path pointing where S-PrediXcan results (tissue-specific are located\n",
    "SPREDIXCAN_FOLDER = None\n",
    "\n",
    "# an f-string with one placeholder {tissue}\n",
    "SPREDIXCAN_FILE_PATTERN = None\n",
    "\n",
    "# a string with a path pointing to an S-MultiXcan result\n",
    "SMULTIXCAN_FILE = None"
   ]
  },
  {
   "cell_type": "code",
   "execution_count": 4,
   "id": "3cba211d",
   "metadata": {
    "execution": {
     "iopub.execute_input": "2022-08-01T14:33:57.016363Z",
     "iopub.status.busy": "2022-08-01T14:33:57.016159Z",
     "iopub.status.idle": "2022-08-01T14:33:57.028575Z",
     "shell.execute_reply": "2022-08-01T14:33:57.028070Z"
    },
    "papermill": {
     "duration": 0.028853,
     "end_time": "2022-08-01T14:33:57.029803",
     "exception": false,
     "start_time": "2022-08-01T14:33:57.000950",
     "status": "completed"
    },
    "tags": [
     "injected-parameters"
    ]
   },
   "outputs": [],
   "source": [
    "# Parameters\n",
    "COHORT_NAME = \"1000G_EUR\"\n",
    "REFERENCE_PANEL = \"1000G\"\n",
    "EQTL_MODEL = \"MASHR\"\n",
    "GWAS_FILE = \"/opt/data/results/gls/null_sims/final_imputed_gwas/random.pheno0.glm-imputed.txt.gz\"\n",
    "SPREDIXCAN_FOLDER = \"/opt/data/results/gls/null_sims/twas/spredixcan/\"\n",
    "SPREDIXCAN_FILE_PATTERN = \"random.pheno0-gtex_v8-mashr-{tissue}.csv\"\n",
    "SMULTIXCAN_FILE = \"/opt/data/results/gls/null_sims/twas/smultixcan/random.pheno0-gtex_v8-mashr-smultixcan.txt\"\n"
   ]
  },
  {
   "cell_type": "code",
   "execution_count": 5,
   "id": "8fe24bef",
   "metadata": {
    "execution": {
     "iopub.execute_input": "2022-08-01T14:33:57.059697Z",
     "iopub.status.busy": "2022-08-01T14:33:57.059451Z",
     "iopub.status.idle": "2022-08-01T14:33:57.076820Z",
     "shell.execute_reply": "2022-08-01T14:33:57.076360Z"
    },
    "papermill": {
     "duration": 0.033368,
     "end_time": "2022-08-01T14:33:57.078005",
     "exception": false,
     "start_time": "2022-08-01T14:33:57.044637",
     "status": "completed"
    },
    "tags": []
   },
   "outputs": [
    {
     "data": {
      "text/plain": [
       "'Cohort name: 1000g_eur'"
      ]
     },
     "metadata": {},
     "output_type": "display_data"
    }
   ],
   "source": [
    "assert COHORT_NAME is not None and len(COHORT_NAME) > 0, \"A cohort name must be given\"\n",
    "\n",
    "COHORT_NAME = COHORT_NAME.lower()\n",
    "display(f\"Cohort name: {COHORT_NAME}\")"
   ]
  },
  {
   "cell_type": "code",
   "execution_count": 6,
   "id": "f53ba19b-0f93-4fa2-a047-63b375939d1a",
   "metadata": {
    "execution": {
     "iopub.execute_input": "2022-08-01T14:33:57.114372Z",
     "iopub.status.busy": "2022-08-01T14:33:57.114189Z",
     "iopub.status.idle": "2022-08-01T14:33:57.128556Z",
     "shell.execute_reply": "2022-08-01T14:33:57.127978Z"
    },
    "papermill": {
     "duration": 0.035504,
     "end_time": "2022-08-01T14:33:57.129880",
     "exception": false,
     "start_time": "2022-08-01T14:33:57.094376",
     "status": "completed"
    },
    "tags": []
   },
   "outputs": [
    {
     "data": {
      "text/plain": [
       "'Reference panel: 1000G'"
      ]
     },
     "metadata": {},
     "output_type": "display_data"
    }
   ],
   "source": [
    "assert (\n",
    "    REFERENCE_PANEL is not None and len(REFERENCE_PANEL) > 0\n",
    "), \"A reference panel must be given\"\n",
    "\n",
    "display(f\"Reference panel: {REFERENCE_PANEL}\")"
   ]
  },
  {
   "cell_type": "code",
   "execution_count": 7,
   "id": "7a970044-2d34-4e5b-a850-eff44079afe8",
   "metadata": {
    "execution": {
     "iopub.execute_input": "2022-08-01T14:33:57.162423Z",
     "iopub.status.busy": "2022-08-01T14:33:57.162045Z",
     "iopub.status.idle": "2022-08-01T14:33:57.175275Z",
     "shell.execute_reply": "2022-08-01T14:33:57.174842Z"
    },
    "papermill": {
     "duration": 0.029904,
     "end_time": "2022-08-01T14:33:57.176496",
     "exception": false,
     "start_time": "2022-08-01T14:33:57.146592",
     "status": "completed"
    },
    "tags": []
   },
   "outputs": [
    {
     "data": {
      "text/plain": [
       "'GWAS file path: /opt/data/results/gls/null_sims/final_imputed_gwas/random.pheno0.glm-imputed.txt.gz'"
      ]
     },
     "metadata": {},
     "output_type": "display_data"
    }
   ],
   "source": [
    "assert GWAS_FILE is not None and len(GWAS_FILE) > 0, \"A GWAS file path must be given\"\n",
    "GWAS_FILE = Path(GWAS_FILE).resolve()\n",
    "assert GWAS_FILE.exists(), \"GWAS file does not exist\"\n",
    "\n",
    "display(f\"GWAS file path: {str(GWAS_FILE)}\")"
   ]
  },
  {
   "cell_type": "code",
   "execution_count": 8,
   "id": "552a7f63-a18c-4d3e-bb6a-94f99b431291",
   "metadata": {
    "execution": {
     "iopub.execute_input": "2022-08-01T14:33:57.207002Z",
     "iopub.status.busy": "2022-08-01T14:33:57.206846Z",
     "iopub.status.idle": "2022-08-01T14:33:57.220405Z",
     "shell.execute_reply": "2022-08-01T14:33:57.219907Z"
    },
    "papermill": {
     "duration": 0.030065,
     "end_time": "2022-08-01T14:33:57.221558",
     "exception": false,
     "start_time": "2022-08-01T14:33:57.191493",
     "status": "completed"
    },
    "tags": []
   },
   "outputs": [
    {
     "data": {
      "text/plain": [
       "'S-PrediXcan folder path: /opt/data/results/gls/null_sims/twas/spredixcan'"
      ]
     },
     "metadata": {},
     "output_type": "display_data"
    }
   ],
   "source": [
    "assert (\n",
    "    SPREDIXCAN_FOLDER is not None and len(SPREDIXCAN_FOLDER) > 0\n",
    "), \"An S-PrediXcan folder path must be given\"\n",
    "SPREDIXCAN_FOLDER = Path(SPREDIXCAN_FOLDER).resolve()\n",
    "assert SPREDIXCAN_FOLDER.exists(), \"S-PrediXcan folder does not exist\"\n",
    "\n",
    "display(f\"S-PrediXcan folder path: {str(SPREDIXCAN_FOLDER)}\")"
   ]
  },
  {
   "cell_type": "code",
   "execution_count": 9,
   "id": "6e2000dc-f1dc-4db8-93d5-9a7209a2e121",
   "metadata": {
    "execution": {
     "iopub.execute_input": "2022-08-01T14:33:57.252970Z",
     "iopub.status.busy": "2022-08-01T14:33:57.252449Z",
     "iopub.status.idle": "2022-08-01T14:33:57.265412Z",
     "shell.execute_reply": "2022-08-01T14:33:57.264992Z"
    },
    "papermill": {
     "duration": 0.029868,
     "end_time": "2022-08-01T14:33:57.266616",
     "exception": false,
     "start_time": "2022-08-01T14:33:57.236748",
     "status": "completed"
    },
    "tags": []
   },
   "outputs": [
    {
     "data": {
      "text/plain": [
       "'S-PrediXcan file template: random.pheno0-gtex_v8-mashr-{tissue}.csv'"
      ]
     },
     "metadata": {},
     "output_type": "display_data"
    }
   ],
   "source": [
    "assert (\n",
    "    SPREDIXCAN_FILE_PATTERN is not None and len(SPREDIXCAN_FILE_PATTERN) > 0\n",
    "), \"An S-PrediXcan file pattern must be given\"\n",
    "assert (\n",
    "    \"{tissue}\" in SPREDIXCAN_FILE_PATTERN\n",
    "), \"S-PrediXcan file pattern must have a '{tissue}' placeholder\"\n",
    "\n",
    "display(f\"S-PrediXcan file template: {SPREDIXCAN_FILE_PATTERN}\")"
   ]
  },
  {
   "cell_type": "code",
   "execution_count": 10,
   "id": "f5a5aa9d-c6f3-4fb5-9351-37382b6e67bc",
   "metadata": {
    "execution": {
     "iopub.execute_input": "2022-08-01T14:33:57.297482Z",
     "iopub.status.busy": "2022-08-01T14:33:57.297303Z",
     "iopub.status.idle": "2022-08-01T14:33:57.310905Z",
     "shell.execute_reply": "2022-08-01T14:33:57.310456Z"
    },
    "papermill": {
     "duration": 0.030341,
     "end_time": "2022-08-01T14:33:57.312091",
     "exception": false,
     "start_time": "2022-08-01T14:33:57.281750",
     "status": "completed"
    },
    "tags": []
   },
   "outputs": [
    {
     "data": {
      "text/plain": [
       "'S-MultiXcan file path: /opt/data/results/gls/null_sims/twas/smultixcan/random.pheno0-gtex_v8-mashr-smultixcan.txt'"
      ]
     },
     "metadata": {},
     "output_type": "display_data"
    }
   ],
   "source": [
    "assert (\n",
    "    SMULTIXCAN_FILE is not None and len(SMULTIXCAN_FILE) > 0\n",
    "), \"An S-MultiXcan result file path must be given\"\n",
    "SMULTIXCAN_FILE = Path(SMULTIXCAN_FILE).resolve()\n",
    "assert SMULTIXCAN_FILE.exists(), \"S-MultiXcan result file does not exist\"\n",
    "\n",
    "display(f\"S-MultiXcan file path: {str(SMULTIXCAN_FILE)}\")"
   ]
  },
  {
   "cell_type": "code",
   "execution_count": 11,
   "id": "0723dc2f-34d1-407c-a55b-d6d13c55d63d",
   "metadata": {
    "execution": {
     "iopub.execute_input": "2022-08-01T14:33:57.343518Z",
     "iopub.status.busy": "2022-08-01T14:33:57.343357Z",
     "iopub.status.idle": "2022-08-01T14:33:57.356653Z",
     "shell.execute_reply": "2022-08-01T14:33:57.356206Z"
    },
    "papermill": {
     "duration": 0.03044,
     "end_time": "2022-08-01T14:33:57.357897",
     "exception": false,
     "start_time": "2022-08-01T14:33:57.327457",
     "status": "completed"
    },
    "tags": []
   },
   "outputs": [
    {
     "data": {
      "text/plain": [
       "'eQTL model: MASHR'"
      ]
     },
     "metadata": {},
     "output_type": "display_data"
    }
   ],
   "source": [
    "assert (\n",
    "    EQTL_MODEL is not None and len(EQTL_MODEL) > 0\n",
    "), \"A prediction/eQTL model must be given\"\n",
    "\n",
    "display(f\"eQTL model: {EQTL_MODEL}\")"
   ]
  },
  {
   "cell_type": "code",
   "execution_count": 12,
   "id": "396392dc-0340-4540-9b02-e182b833f909",
   "metadata": {
    "execution": {
     "iopub.execute_input": "2022-08-01T14:33:57.389471Z",
     "iopub.status.busy": "2022-08-01T14:33:57.389067Z",
     "iopub.status.idle": "2022-08-01T14:33:57.402406Z",
     "shell.execute_reply": "2022-08-01T14:33:57.401944Z"
    },
    "papermill": {
     "duration": 0.03038,
     "end_time": "2022-08-01T14:33:57.403571",
     "exception": false,
     "start_time": "2022-08-01T14:33:57.373191",
     "status": "completed"
    },
    "tags": []
   },
   "outputs": [
    {
     "data": {
      "text/plain": [
       "'Using output dir base: /opt/data/results/gls/gene_corrs/cohorts/1000g_eur/1000g/mashr'"
      ]
     },
     "metadata": {},
     "output_type": "display_data"
    }
   ],
   "source": [
    "OUTPUT_DIR_BASE = (\n",
    "    conf.RESULTS[\"GLS\"]\n",
    "    / \"gene_corrs\"\n",
    "    / \"cohorts\"\n",
    "    / COHORT_NAME\n",
    "    / REFERENCE_PANEL.lower()\n",
    "    / EQTL_MODEL.lower()\n",
    ")\n",
    "\n",
    "OUTPUT_DIR_BASE.mkdir(parents=True, exist_ok=True)\n",
    "\n",
    "display(f\"Using output dir base: {OUTPUT_DIR_BASE}\")"
   ]
  },
  {
   "cell_type": "markdown",
   "id": "b6ebb422-8204-494b-8c72-360a71ce9863",
   "metadata": {
    "papermill": {
     "duration": 0.0148,
     "end_time": "2022-08-01T14:33:57.433835",
     "exception": false,
     "start_time": "2022-08-01T14:33:57.419035",
     "status": "completed"
    },
    "tags": []
   },
   "source": [
    "# Load MultiPLIER Z genes"
   ]
  },
  {
   "cell_type": "code",
   "execution_count": 13,
   "id": "c48ef527",
   "metadata": {
    "execution": {
     "iopub.execute_input": "2022-08-01T14:33:57.464390Z",
     "iopub.status.busy": "2022-08-01T14:33:57.464198Z",
     "iopub.status.idle": "2022-08-01T14:33:57.502733Z",
     "shell.execute_reply": "2022-08-01T14:33:57.502169Z"
    },
    "papermill": {
     "duration": 0.055596,
     "end_time": "2022-08-01T14:33:57.504249",
     "exception": false,
     "start_time": "2022-08-01T14:33:57.448653",
     "status": "completed"
    },
    "tags": []
   },
   "outputs": [],
   "source": [
    "multiplier_z_genes = pd.read_pickle(\n",
    "    conf.MULTIPLIER[\"MODEL_Z_MATRIX_FILE\"]\n",
    ").index.tolist()"
   ]
  },
  {
   "cell_type": "code",
   "execution_count": 14,
   "id": "0a4ecbd9",
   "metadata": {
    "execution": {
     "iopub.execute_input": "2022-08-01T14:33:57.540757Z",
     "iopub.status.busy": "2022-08-01T14:33:57.540346Z",
     "iopub.status.idle": "2022-08-01T14:33:57.557804Z",
     "shell.execute_reply": "2022-08-01T14:33:57.557253Z"
    },
    "papermill": {
     "duration": 0.037226,
     "end_time": "2022-08-01T14:33:57.559270",
     "exception": false,
     "start_time": "2022-08-01T14:33:57.522044",
     "status": "completed"
    },
    "tags": []
   },
   "outputs": [
    {
     "data": {
      "text/plain": [
       "6750"
      ]
     },
     "execution_count": 14,
     "metadata": {},
     "output_type": "execute_result"
    }
   ],
   "source": [
    "len(multiplier_z_genes)"
   ]
  },
  {
   "cell_type": "code",
   "execution_count": 15,
   "id": "a18ce359-0759-4260-ae6f-053e8c0041b7",
   "metadata": {
    "execution": {
     "iopub.execute_input": "2022-08-01T14:33:57.591894Z",
     "iopub.status.busy": "2022-08-01T14:33:57.591685Z",
     "iopub.status.idle": "2022-08-01T14:33:57.604466Z",
     "shell.execute_reply": "2022-08-01T14:33:57.603882Z"
    },
    "papermill": {
     "duration": 0.030417,
     "end_time": "2022-08-01T14:33:57.605749",
     "exception": false,
     "start_time": "2022-08-01T14:33:57.575332",
     "status": "completed"
    },
    "tags": []
   },
   "outputs": [],
   "source": [
    "assert len(multiplier_z_genes) == len(set(multiplier_z_genes))"
   ]
  },
  {
   "cell_type": "code",
   "execution_count": 16,
   "id": "115e8864",
   "metadata": {
    "execution": {
     "iopub.execute_input": "2022-08-01T14:33:57.637349Z",
     "iopub.status.busy": "2022-08-01T14:33:57.637132Z",
     "iopub.status.idle": "2022-08-01T14:33:57.650376Z",
     "shell.execute_reply": "2022-08-01T14:33:57.649905Z"
    },
    "papermill": {
     "duration": 0.030178,
     "end_time": "2022-08-01T14:33:57.651633",
     "exception": false,
     "start_time": "2022-08-01T14:33:57.621455",
     "status": "completed"
    },
    "tags": []
   },
   "outputs": [
    {
     "data": {
      "text/plain": [
       "['GAS6', 'MMP14', 'DSP', 'MARCKSL1', 'SPARC']"
      ]
     },
     "execution_count": 16,
     "metadata": {},
     "output_type": "execute_result"
    }
   ],
   "source": [
    "multiplier_z_genes[:5]"
   ]
  },
  {
   "cell_type": "markdown",
   "id": "7bed0ce0-e7c7-4300-9a61-5412450b1904",
   "metadata": {
    "papermill": {
     "duration": 0.01549,
     "end_time": "2022-08-01T14:33:57.682839",
     "exception": false,
     "start_time": "2022-08-01T14:33:57.667349",
     "status": "completed"
    },
    "tags": []
   },
   "source": [
    "# GWAS"
   ]
  },
  {
   "cell_type": "code",
   "execution_count": 17,
   "id": "331e5691-c014-43e4-b94c-060c64d329df",
   "metadata": {
    "execution": {
     "iopub.execute_input": "2022-08-01T14:33:57.714682Z",
     "iopub.status.busy": "2022-08-01T14:33:57.713959Z",
     "iopub.status.idle": "2022-08-01T14:33:57.730585Z",
     "shell.execute_reply": "2022-08-01T14:33:57.730127Z"
    },
    "papermill": {
     "duration": 0.033799,
     "end_time": "2022-08-01T14:33:57.732041",
     "exception": false,
     "start_time": "2022-08-01T14:33:57.698242",
     "status": "completed"
    },
    "tags": []
   },
   "outputs": [],
   "source": [
    "gwas_file_columns = pd.read_csv(GWAS_FILE, sep=\"\\t\", nrows=2).columns\n",
    "assert (\n",
    "    \"panel_variant_id\" in gwas_file_columns\n",
    "), \"GWAS file must be final imputed one with column 'panel_variant_id'\"\n",
    "# FIXME: add other needed columns here"
   ]
  },
  {
   "cell_type": "code",
   "execution_count": 18,
   "id": "8d419629-8f4d-4c83-bed3-cfc071a58090",
   "metadata": {
    "execution": {
     "iopub.execute_input": "2022-08-01T14:33:57.763880Z",
     "iopub.status.busy": "2022-08-01T14:33:57.763677Z",
     "iopub.status.idle": "2022-08-01T14:34:11.227046Z",
     "shell.execute_reply": "2022-08-01T14:34:11.226410Z"
    },
    "papermill": {
     "duration": 13.480812,
     "end_time": "2022-08-01T14:34:11.228663",
     "exception": false,
     "start_time": "2022-08-01T14:33:57.747851",
     "status": "completed"
    },
    "tags": []
   },
   "outputs": [],
   "source": [
    "gwas_data = pd.read_csv(\n",
    "    GWAS_FILE,\n",
    "    sep=\"\\t\",\n",
    "    usecols=[\"panel_variant_id\", \"pvalue\", \"zscore\", \"imputation_status\"],\n",
    ")"
   ]
  },
  {
   "cell_type": "code",
   "execution_count": 19,
   "id": "3f4e814e-6b41-407e-9099-86795eec6ed9",
   "metadata": {
    "execution": {
     "iopub.execute_input": "2022-08-01T14:34:11.267638Z",
     "iopub.status.busy": "2022-08-01T14:34:11.267464Z",
     "iopub.status.idle": "2022-08-01T14:34:11.281218Z",
     "shell.execute_reply": "2022-08-01T14:34:11.280744Z"
    },
    "papermill": {
     "duration": 0.034227,
     "end_time": "2022-08-01T14:34:11.282482",
     "exception": false,
     "start_time": "2022-08-01T14:34:11.248255",
     "status": "completed"
    },
    "tags": []
   },
   "outputs": [
    {
     "data": {
      "text/plain": [
       "(8339505, 4)"
      ]
     },
     "execution_count": 19,
     "metadata": {},
     "output_type": "execute_result"
    }
   ],
   "source": [
    "gwas_data.shape"
   ]
  },
  {
   "cell_type": "code",
   "execution_count": 20,
   "id": "b4a906e9-c80a-47fc-9d73-5adb046f8b76",
   "metadata": {
    "execution": {
     "iopub.execute_input": "2022-08-01T14:34:11.315391Z",
     "iopub.status.busy": "2022-08-01T14:34:11.315182Z",
     "iopub.status.idle": "2022-08-01T14:34:11.332366Z",
     "shell.execute_reply": "2022-08-01T14:34:11.331604Z"
    },
    "papermill": {
     "duration": 0.034168,
     "end_time": "2022-08-01T14:34:11.333586",
     "exception": false,
     "start_time": "2022-08-01T14:34:11.299418",
     "status": "completed"
    },
    "tags": []
   },
   "outputs": [
    {
     "data": {
      "text/html": [
       "<div>\n",
       "<style scoped>\n",
       "    .dataframe tbody tr th:only-of-type {\n",
       "        vertical-align: middle;\n",
       "    }\n",
       "\n",
       "    .dataframe tbody tr th {\n",
       "        vertical-align: top;\n",
       "    }\n",
       "\n",
       "    .dataframe thead th {\n",
       "        text-align: right;\n",
       "    }\n",
       "</style>\n",
       "<table border=\"1\" class=\"dataframe\">\n",
       "  <thead>\n",
       "    <tr style=\"text-align: right;\">\n",
       "      <th></th>\n",
       "      <th>panel_variant_id</th>\n",
       "      <th>zscore</th>\n",
       "      <th>pvalue</th>\n",
       "      <th>imputation_status</th>\n",
       "    </tr>\n",
       "  </thead>\n",
       "  <tbody>\n",
       "    <tr>\n",
       "      <th>0</th>\n",
       "      <td>chr1_54490_G_A_b38</td>\n",
       "      <td>1.567452</td>\n",
       "      <td>0.117009</td>\n",
       "      <td>original</td>\n",
       "    </tr>\n",
       "    <tr>\n",
       "      <th>1</th>\n",
       "      <td>chr1_87021_T_C_b38</td>\n",
       "      <td>0.244372</td>\n",
       "      <td>0.806943</td>\n",
       "      <td>imputed</td>\n",
       "    </tr>\n",
       "    <tr>\n",
       "      <th>2</th>\n",
       "      <td>chr1_263722_C_G_b38</td>\n",
       "      <td>1.155239</td>\n",
       "      <td>0.247993</td>\n",
       "      <td>imputed</td>\n",
       "    </tr>\n",
       "    <tr>\n",
       "      <th>3</th>\n",
       "      <td>chr1_594402_C_T_b38</td>\n",
       "      <td>0.851234</td>\n",
       "      <td>0.394639</td>\n",
       "      <td>imputed</td>\n",
       "    </tr>\n",
       "    <tr>\n",
       "      <th>4</th>\n",
       "      <td>chr1_630555_C_T_b38</td>\n",
       "      <td>0.855129</td>\n",
       "      <td>0.392480</td>\n",
       "      <td>imputed</td>\n",
       "    </tr>\n",
       "  </tbody>\n",
       "</table>\n",
       "</div>"
      ],
      "text/plain": [
       "      panel_variant_id    zscore    pvalue imputation_status\n",
       "0   chr1_54490_G_A_b38  1.567452  0.117009          original\n",
       "1   chr1_87021_T_C_b38  0.244372  0.806943           imputed\n",
       "2  chr1_263722_C_G_b38  1.155239  0.247993           imputed\n",
       "3  chr1_594402_C_T_b38  0.851234  0.394639           imputed\n",
       "4  chr1_630555_C_T_b38  0.855129  0.392480           imputed"
      ]
     },
     "execution_count": 20,
     "metadata": {},
     "output_type": "execute_result"
    }
   ],
   "source": [
    "gwas_data.head()"
   ]
  },
  {
   "cell_type": "code",
   "execution_count": 21,
   "id": "346e2f88-44c6-4067-8752-118e2491f6fa",
   "metadata": {
    "execution": {
     "iopub.execute_input": "2022-08-01T14:34:11.365808Z",
     "iopub.status.busy": "2022-08-01T14:34:11.365604Z",
     "iopub.status.idle": "2022-08-01T14:34:11.745599Z",
     "shell.execute_reply": "2022-08-01T14:34:11.744896Z"
    },
    "papermill": {
     "duration": 0.397359,
     "end_time": "2022-08-01T14:34:11.746939",
     "exception": false,
     "start_time": "2022-08-01T14:34:11.349580",
     "status": "completed"
    },
    "tags": []
   },
   "outputs": [
    {
     "data": {
      "text/plain": [
       "array(['original', 'imputed'], dtype=object)"
      ]
     },
     "execution_count": 21,
     "metadata": {},
     "output_type": "execute_result"
    }
   ],
   "source": [
    "gwas_data[\"imputation_status\"].unique()"
   ]
  },
  {
   "cell_type": "code",
   "execution_count": 22,
   "id": "033c24fb-9c60-4ffd-929e-b0e6089820ae",
   "metadata": {
    "execution": {
     "iopub.execute_input": "2022-08-01T14:34:11.778829Z",
     "iopub.status.busy": "2022-08-01T14:34:11.778627Z",
     "iopub.status.idle": "2022-08-01T14:34:12.732461Z",
     "shell.execute_reply": "2022-08-01T14:34:12.731790Z"
    },
    "papermill": {
     "duration": 0.97148,
     "end_time": "2022-08-01T14:34:12.734013",
     "exception": false,
     "start_time": "2022-08-01T14:34:11.762533",
     "status": "completed"
    },
    "tags": []
   },
   "outputs": [
    {
     "data": {
      "text/plain": [
       "(8339505, 4)"
      ]
     },
     "execution_count": 22,
     "metadata": {},
     "output_type": "execute_result"
    }
   ],
   "source": [
    "gwas_data.dropna().shape"
   ]
  },
  {
   "cell_type": "code",
   "execution_count": 23,
   "id": "28232ce5-0afd-464e-9be3-64c3a68c2b25",
   "metadata": {
    "execution": {
     "iopub.execute_input": "2022-08-01T14:34:12.773696Z",
     "iopub.status.busy": "2022-08-01T14:34:12.773526Z",
     "iopub.status.idle": "2022-08-01T14:34:13.599022Z",
     "shell.execute_reply": "2022-08-01T14:34:13.598425Z"
    },
    "papermill": {
     "duration": 0.846642,
     "end_time": "2022-08-01T14:34:13.600625",
     "exception": false,
     "start_time": "2022-08-01T14:34:12.753983",
     "status": "completed"
    },
    "tags": []
   },
   "outputs": [],
   "source": [
    "# remove SNPs with no results\n",
    "gwas_data = gwas_data.dropna()"
   ]
  },
  {
   "cell_type": "code",
   "execution_count": 24,
   "id": "d9a6c31f-eedd-43e5-b762-5a9663be1b77",
   "metadata": {
    "execution": {
     "iopub.execute_input": "2022-08-01T14:34:13.637094Z",
     "iopub.status.busy": "2022-08-01T14:34:13.636926Z",
     "iopub.status.idle": "2022-08-01T14:34:13.649961Z",
     "shell.execute_reply": "2022-08-01T14:34:13.649489Z"
    },
    "papermill": {
     "duration": 0.031372,
     "end_time": "2022-08-01T14:34:13.651146",
     "exception": false,
     "start_time": "2022-08-01T14:34:13.619774",
     "status": "completed"
    },
    "tags": []
   },
   "outputs": [
    {
     "data": {
      "text/plain": [
       "(8339505, 4)"
      ]
     },
     "execution_count": 24,
     "metadata": {},
     "output_type": "execute_result"
    }
   ],
   "source": [
    "gwas_data.shape"
   ]
  },
  {
   "cell_type": "markdown",
   "id": "8da344de-2aa5-48a9-98ec-e8c3397ae7e6",
   "metadata": {
    "papermill": {
     "duration": 0.016623,
     "end_time": "2022-08-01T14:34:13.683952",
     "exception": false,
     "start_time": "2022-08-01T14:34:13.667329",
     "status": "completed"
    },
    "tags": []
   },
   "source": [
    "## Save GWAS variants"
   ]
  },
  {
   "cell_type": "code",
   "execution_count": 25,
   "id": "ac11fb33-ea3c-4d5c-a90b-0ceebdac43d3",
   "metadata": {
    "execution": {
     "iopub.execute_input": "2022-08-01T14:34:13.723284Z",
     "iopub.status.busy": "2022-08-01T14:34:13.723063Z",
     "iopub.status.idle": "2022-08-01T14:34:13.740015Z",
     "shell.execute_reply": "2022-08-01T14:34:13.739394Z"
    },
    "papermill": {
     "duration": 0.035349,
     "end_time": "2022-08-01T14:34:13.741245",
     "exception": false,
     "start_time": "2022-08-01T14:34:13.705896",
     "status": "completed"
    },
    "tags": []
   },
   "outputs": [
    {
     "data": {
      "text/html": [
       "<div>\n",
       "<style scoped>\n",
       "    .dataframe tbody tr th:only-of-type {\n",
       "        vertical-align: middle;\n",
       "    }\n",
       "\n",
       "    .dataframe tbody tr th {\n",
       "        vertical-align: top;\n",
       "    }\n",
       "\n",
       "    .dataframe thead th {\n",
       "        text-align: right;\n",
       "    }\n",
       "</style>\n",
       "<table border=\"1\" class=\"dataframe\">\n",
       "  <thead>\n",
       "    <tr style=\"text-align: right;\">\n",
       "      <th></th>\n",
       "      <th>panel_variant_id</th>\n",
       "      <th>zscore</th>\n",
       "      <th>pvalue</th>\n",
       "      <th>imputation_status</th>\n",
       "    </tr>\n",
       "  </thead>\n",
       "  <tbody>\n",
       "    <tr>\n",
       "      <th>0</th>\n",
       "      <td>chr1_54490_G_A_b38</td>\n",
       "      <td>1.567452</td>\n",
       "      <td>0.117009</td>\n",
       "      <td>original</td>\n",
       "    </tr>\n",
       "    <tr>\n",
       "      <th>1</th>\n",
       "      <td>chr1_87021_T_C_b38</td>\n",
       "      <td>0.244372</td>\n",
       "      <td>0.806943</td>\n",
       "      <td>imputed</td>\n",
       "    </tr>\n",
       "    <tr>\n",
       "      <th>2</th>\n",
       "      <td>chr1_263722_C_G_b38</td>\n",
       "      <td>1.155239</td>\n",
       "      <td>0.247993</td>\n",
       "      <td>imputed</td>\n",
       "    </tr>\n",
       "    <tr>\n",
       "      <th>3</th>\n",
       "      <td>chr1_594402_C_T_b38</td>\n",
       "      <td>0.851234</td>\n",
       "      <td>0.394639</td>\n",
       "      <td>imputed</td>\n",
       "    </tr>\n",
       "    <tr>\n",
       "      <th>4</th>\n",
       "      <td>chr1_630555_C_T_b38</td>\n",
       "      <td>0.855129</td>\n",
       "      <td>0.392480</td>\n",
       "      <td>imputed</td>\n",
       "    </tr>\n",
       "  </tbody>\n",
       "</table>\n",
       "</div>"
      ],
      "text/plain": [
       "      panel_variant_id    zscore    pvalue imputation_status\n",
       "0   chr1_54490_G_A_b38  1.567452  0.117009          original\n",
       "1   chr1_87021_T_C_b38  0.244372  0.806943           imputed\n",
       "2  chr1_263722_C_G_b38  1.155239  0.247993           imputed\n",
       "3  chr1_594402_C_T_b38  0.851234  0.394639           imputed\n",
       "4  chr1_630555_C_T_b38  0.855129  0.392480           imputed"
      ]
     },
     "execution_count": 25,
     "metadata": {},
     "output_type": "execute_result"
    }
   ],
   "source": [
    "gwas_data.head()"
   ]
  },
  {
   "cell_type": "code",
   "execution_count": 26,
   "id": "5f34bb3d-761a-4860-a179-77ea5f5784ad",
   "metadata": {
    "execution": {
     "iopub.execute_input": "2022-08-01T14:34:13.773977Z",
     "iopub.status.busy": "2022-08-01T14:34:13.773780Z",
     "iopub.status.idle": "2022-08-01T14:34:18.324593Z",
     "shell.execute_reply": "2022-08-01T14:34:18.323791Z"
    },
    "papermill": {
     "duration": 4.56912,
     "end_time": "2022-08-01T14:34:18.326359",
     "exception": false,
     "start_time": "2022-08-01T14:34:13.757239",
     "status": "completed"
    },
    "tags": []
   },
   "outputs": [],
   "source": [
    "assert gwas_data[\"panel_variant_id\"].is_unique"
   ]
  },
  {
   "cell_type": "code",
   "execution_count": 27,
   "id": "d4f23b2f-01a3-4a45-a2b6-31b245b5778e",
   "metadata": {
    "execution": {
     "iopub.execute_input": "2022-08-01T14:34:18.368567Z",
     "iopub.status.busy": "2022-08-01T14:34:18.368389Z",
     "iopub.status.idle": "2022-08-01T14:34:21.226086Z",
     "shell.execute_reply": "2022-08-01T14:34:21.225300Z"
    },
    "papermill": {
     "duration": 2.881016,
     "end_time": "2022-08-01T14:34:21.228380",
     "exception": false,
     "start_time": "2022-08-01T14:34:18.347364",
     "status": "completed"
    },
    "tags": []
   },
   "outputs": [
    {
     "data": {
      "text/plain": [
       "['chr2_119011847_T_C_b38',\n",
       " 'chr14_69314678_G_A_b38',\n",
       " 'chr6_153545649_G_C_b38',\n",
       " 'chr16_76797711_A_C_b38',\n",
       " 'chr1_54582638_G_A_b38']"
      ]
     },
     "execution_count": 27,
     "metadata": {},
     "output_type": "execute_result"
    }
   ],
   "source": [
    "gwas_variants_ids_set = frozenset(gwas_data[\"panel_variant_id\"])\n",
    "list(gwas_variants_ids_set)[:5]"
   ]
  },
  {
   "cell_type": "code",
   "execution_count": 28,
   "id": "b4a441df-07d7-48dc-be36-cdb3f92be651",
   "metadata": {
    "execution": {
     "iopub.execute_input": "2022-08-01T14:34:21.274231Z",
     "iopub.status.busy": "2022-08-01T14:34:21.274041Z",
     "iopub.status.idle": "2022-08-01T14:34:24.854336Z",
     "shell.execute_reply": "2022-08-01T14:34:24.853740Z"
    },
    "papermill": {
     "duration": 3.603228,
     "end_time": "2022-08-01T14:34:24.855932",
     "exception": false,
     "start_time": "2022-08-01T14:34:21.252704",
     "status": "completed"
    },
    "tags": []
   },
   "outputs": [],
   "source": [
    "with open(OUTPUT_DIR_BASE / \"gwas_variant_ids.pkl\", \"wb\") as handle:\n",
    "    pickle.dump(gwas_variants_ids_set, handle, protocol=pickle.HIGHEST_PROTOCOL)"
   ]
  },
  {
   "cell_type": "markdown",
   "id": "abcc4b3d",
   "metadata": {
    "papermill": {
     "duration": 0.019445,
     "end_time": "2022-08-01T14:34:24.895955",
     "exception": false,
     "start_time": "2022-08-01T14:34:24.876510",
     "status": "completed"
    },
    "tags": []
   },
   "source": [
    "# TWAS"
   ]
  },
  {
   "cell_type": "markdown",
   "id": "2fbc7358-0563-4fc6-bc47-a0fbcc5cdfd4",
   "metadata": {
    "papermill": {
     "duration": 0.015842,
     "end_time": "2022-08-01T14:34:24.928963",
     "exception": false,
     "start_time": "2022-08-01T14:34:24.913121",
     "status": "completed"
    },
    "tags": []
   },
   "source": [
    "## Available tissues for eQTL model"
   ]
  },
  {
   "cell_type": "code",
   "execution_count": 29,
   "id": "f32c0a84-030a-436b-b597-852b6150d2ac",
   "metadata": {
    "execution": {
     "iopub.execute_input": "2022-08-01T14:34:24.961420Z",
     "iopub.status.busy": "2022-08-01T14:34:24.961205Z",
     "iopub.status.idle": "2022-08-01T14:34:24.973763Z",
     "shell.execute_reply": "2022-08-01T14:34:24.973272Z"
    },
    "papermill": {
     "duration": 0.030413,
     "end_time": "2022-08-01T14:34:24.975127",
     "exception": false,
     "start_time": "2022-08-01T14:34:24.944714",
     "status": "completed"
    },
    "tags": []
   },
   "outputs": [],
   "source": [
    "prediction_model_tissues = conf.PHENOMEXCAN[\"PREDICTION_MODELS\"][\n",
    "    f\"{EQTL_MODEL}_TISSUES\"\n",
    "].split(\" \")"
   ]
  },
  {
   "cell_type": "code",
   "execution_count": 30,
   "id": "0e760d0e-f23d-4590-abfb-811a43f7c237",
   "metadata": {
    "execution": {
     "iopub.execute_input": "2022-08-01T14:34:25.008143Z",
     "iopub.status.busy": "2022-08-01T14:34:25.007940Z",
     "iopub.status.idle": "2022-08-01T14:34:25.021724Z",
     "shell.execute_reply": "2022-08-01T14:34:25.021131Z"
    },
    "papermill": {
     "duration": 0.031761,
     "end_time": "2022-08-01T14:34:25.022955",
     "exception": false,
     "start_time": "2022-08-01T14:34:24.991194",
     "status": "completed"
    },
    "tags": []
   },
   "outputs": [
    {
     "data": {
      "text/plain": [
       "49"
      ]
     },
     "execution_count": 30,
     "metadata": {},
     "output_type": "execute_result"
    }
   ],
   "source": [
    "len(prediction_model_tissues)"
   ]
  },
  {
   "cell_type": "code",
   "execution_count": 31,
   "id": "fa4d942c-cd67-4b31-9491-585c887c0ee3",
   "metadata": {
    "execution": {
     "iopub.execute_input": "2022-08-01T14:34:25.056615Z",
     "iopub.status.busy": "2022-08-01T14:34:25.056066Z",
     "iopub.status.idle": "2022-08-01T14:34:25.069666Z",
     "shell.execute_reply": "2022-08-01T14:34:25.068852Z"
    },
    "papermill": {
     "duration": 0.031609,
     "end_time": "2022-08-01T14:34:25.070755",
     "exception": false,
     "start_time": "2022-08-01T14:34:25.039146",
     "status": "completed"
    },
    "tags": []
   },
   "outputs": [
    {
     "data": {
      "text/plain": [
       "['Skin_Not_Sun_Exposed_Suprapubic',\n",
       " 'Cells_EBV-transformed_lymphocytes',\n",
       " 'Brain_Frontal_Cortex_BA9',\n",
       " 'Kidney_Cortex',\n",
       " 'Brain_Substantia_nigra']"
      ]
     },
     "execution_count": 31,
     "metadata": {},
     "output_type": "execute_result"
    }
   ],
   "source": [
    "prediction_model_tissues[:5]"
   ]
  },
  {
   "cell_type": "markdown",
   "id": "fab4814d-757c-4247-b5e4-891bc4863db7",
   "metadata": {
    "papermill": {
     "duration": 0.016285,
     "end_time": "2022-08-01T14:34:25.103505",
     "exception": false,
     "start_time": "2022-08-01T14:34:25.087220",
     "status": "completed"
    },
    "tags": []
   },
   "source": [
    "## S-MultiXcan results"
   ]
  },
  {
   "cell_type": "code",
   "execution_count": 32,
   "id": "2b73c11e-9aa2-410e-84b4-a70be34d02e4",
   "metadata": {
    "execution": {
     "iopub.execute_input": "2022-08-01T14:34:25.137352Z",
     "iopub.status.busy": "2022-08-01T14:34:25.136821Z",
     "iopub.status.idle": "2022-08-01T14:34:25.189414Z",
     "shell.execute_reply": "2022-08-01T14:34:25.188897Z"
    },
    "papermill": {
     "duration": 0.071143,
     "end_time": "2022-08-01T14:34:25.190825",
     "exception": false,
     "start_time": "2022-08-01T14:34:25.119682",
     "status": "completed"
    },
    "tags": []
   },
   "outputs": [],
   "source": [
    "smultixcan_results = pd.read_csv(\n",
    "    SMULTIXCAN_FILE, sep=\"\\t\", usecols=[\"gene\", \"gene_name\", \"pvalue\", \"n\", \"n_indep\"]\n",
    ")"
   ]
  },
  {
   "cell_type": "code",
   "execution_count": 33,
   "id": "8b5abebd-baab-4188-9e3d-655ebbe32401",
   "metadata": {
    "execution": {
     "iopub.execute_input": "2022-08-01T14:34:25.229538Z",
     "iopub.status.busy": "2022-08-01T14:34:25.229353Z",
     "iopub.status.idle": "2022-08-01T14:34:25.244158Z",
     "shell.execute_reply": "2022-08-01T14:34:25.243651Z"
    },
    "papermill": {
     "duration": 0.037489,
     "end_time": "2022-08-01T14:34:25.245527",
     "exception": false,
     "start_time": "2022-08-01T14:34:25.208038",
     "status": "completed"
    },
    "tags": []
   },
   "outputs": [
    {
     "data": {
      "text/plain": [
       "(22317, 5)"
      ]
     },
     "execution_count": 33,
     "metadata": {},
     "output_type": "execute_result"
    }
   ],
   "source": [
    "smultixcan_results.shape"
   ]
  },
  {
   "cell_type": "code",
   "execution_count": 34,
   "id": "c65e233f-9ef6-4883-9386-7abf1d6d1cbd",
   "metadata": {
    "execution": {
     "iopub.execute_input": "2022-08-01T14:34:25.281606Z",
     "iopub.status.busy": "2022-08-01T14:34:25.281387Z",
     "iopub.status.idle": "2022-08-01T14:34:25.297564Z",
     "shell.execute_reply": "2022-08-01T14:34:25.297056Z"
    },
    "papermill": {
     "duration": 0.034776,
     "end_time": "2022-08-01T14:34:25.298957",
     "exception": false,
     "start_time": "2022-08-01T14:34:25.264181",
     "status": "completed"
    },
    "tags": []
   },
   "outputs": [],
   "source": [
    "smultixcan_results = smultixcan_results.dropna()"
   ]
  },
  {
   "cell_type": "code",
   "execution_count": 35,
   "id": "57d2d311-4a42-4725-9e37-b124ed13ad33",
   "metadata": {
    "execution": {
     "iopub.execute_input": "2022-08-01T14:34:25.333250Z",
     "iopub.status.busy": "2022-08-01T14:34:25.333058Z",
     "iopub.status.idle": "2022-08-01T14:34:25.346676Z",
     "shell.execute_reply": "2022-08-01T14:34:25.345975Z"
    },
    "papermill": {
     "duration": 0.031743,
     "end_time": "2022-08-01T14:34:25.347975",
     "exception": false,
     "start_time": "2022-08-01T14:34:25.316232",
     "status": "completed"
    },
    "tags": []
   },
   "outputs": [
    {
     "data": {
      "text/plain": [
       "(22314, 5)"
      ]
     },
     "execution_count": 35,
     "metadata": {},
     "output_type": "execute_result"
    }
   ],
   "source": [
    "smultixcan_results.shape"
   ]
  },
  {
   "cell_type": "code",
   "execution_count": 36,
   "id": "a36b5b59-f4b6-45bf-b241-ffc9671b357f",
   "metadata": {
    "execution": {
     "iopub.execute_input": "2022-08-01T14:34:25.382186Z",
     "iopub.status.busy": "2022-08-01T14:34:25.381762Z",
     "iopub.status.idle": "2022-08-01T14:34:25.401033Z",
     "shell.execute_reply": "2022-08-01T14:34:25.400438Z"
    },
    "papermill": {
     "duration": 0.037581,
     "end_time": "2022-08-01T14:34:25.402393",
     "exception": false,
     "start_time": "2022-08-01T14:34:25.364812",
     "status": "completed"
    },
    "tags": []
   },
   "outputs": [],
   "source": [
    "smultixcan_results = smultixcan_results.assign(\n",
    "    gene_id=smultixcan_results[\"gene\"].apply(lambda g: g.split(\".\")[0])\n",
    ")"
   ]
  },
  {
   "cell_type": "code",
   "execution_count": 37,
   "id": "c49f62a9-a01a-44af-87da-47d195b0ef7e",
   "metadata": {
    "execution": {
     "iopub.execute_input": "2022-08-01T14:34:25.437512Z",
     "iopub.status.busy": "2022-08-01T14:34:25.437311Z",
     "iopub.status.idle": "2022-08-01T14:34:25.454987Z",
     "shell.execute_reply": "2022-08-01T14:34:25.454307Z"
    },
    "papermill": {
     "duration": 0.035893,
     "end_time": "2022-08-01T14:34:25.456256",
     "exception": false,
     "start_time": "2022-08-01T14:34:25.420363",
     "status": "completed"
    },
    "tags": []
   },
   "outputs": [
    {
     "data": {
      "text/html": [
       "<div>\n",
       "<style scoped>\n",
       "    .dataframe tbody tr th:only-of-type {\n",
       "        vertical-align: middle;\n",
       "    }\n",
       "\n",
       "    .dataframe tbody tr th {\n",
       "        vertical-align: top;\n",
       "    }\n",
       "\n",
       "    .dataframe thead th {\n",
       "        text-align: right;\n",
       "    }\n",
       "</style>\n",
       "<table border=\"1\" class=\"dataframe\">\n",
       "  <thead>\n",
       "    <tr style=\"text-align: right;\">\n",
       "      <th></th>\n",
       "      <th>gene</th>\n",
       "      <th>gene_name</th>\n",
       "      <th>pvalue</th>\n",
       "      <th>n</th>\n",
       "      <th>n_indep</th>\n",
       "      <th>gene_id</th>\n",
       "    </tr>\n",
       "  </thead>\n",
       "  <tbody>\n",
       "    <tr>\n",
       "      <th>0</th>\n",
       "      <td>ENSG00000131941.7</td>\n",
       "      <td>RHPN2</td>\n",
       "      <td>0.000040</td>\n",
       "      <td>48.0</td>\n",
       "      <td>3.0</td>\n",
       "      <td>ENSG00000131941</td>\n",
       "    </tr>\n",
       "    <tr>\n",
       "      <th>1</th>\n",
       "      <td>ENSG00000076650.6</td>\n",
       "      <td>GPATCH1</td>\n",
       "      <td>0.000078</td>\n",
       "      <td>40.0</td>\n",
       "      <td>3.0</td>\n",
       "      <td>ENSG00000076650</td>\n",
       "    </tr>\n",
       "    <tr>\n",
       "      <th>2</th>\n",
       "      <td>ENSG00000100906.10</td>\n",
       "      <td>NFKBIA</td>\n",
       "      <td>0.000096</td>\n",
       "      <td>1.0</td>\n",
       "      <td>1.0</td>\n",
       "      <td>ENSG00000100906</td>\n",
       "    </tr>\n",
       "    <tr>\n",
       "      <th>3</th>\n",
       "      <td>ENSG00000136319.11</td>\n",
       "      <td>TTC5</td>\n",
       "      <td>0.000109</td>\n",
       "      <td>47.0</td>\n",
       "      <td>5.0</td>\n",
       "      <td>ENSG00000136319</td>\n",
       "    </tr>\n",
       "    <tr>\n",
       "      <th>4</th>\n",
       "      <td>ENSG00000152990.13</td>\n",
       "      <td>ADGRA3</td>\n",
       "      <td>0.000135</td>\n",
       "      <td>41.0</td>\n",
       "      <td>12.0</td>\n",
       "      <td>ENSG00000152990</td>\n",
       "    </tr>\n",
       "  </tbody>\n",
       "</table>\n",
       "</div>"
      ],
      "text/plain": [
       "                 gene gene_name    pvalue     n  n_indep          gene_id\n",
       "0   ENSG00000131941.7     RHPN2  0.000040  48.0      3.0  ENSG00000131941\n",
       "1   ENSG00000076650.6   GPATCH1  0.000078  40.0      3.0  ENSG00000076650\n",
       "2  ENSG00000100906.10    NFKBIA  0.000096   1.0      1.0  ENSG00000100906\n",
       "3  ENSG00000136319.11      TTC5  0.000109  47.0      5.0  ENSG00000136319\n",
       "4  ENSG00000152990.13    ADGRA3  0.000135  41.0     12.0  ENSG00000152990"
      ]
     },
     "execution_count": 37,
     "metadata": {},
     "output_type": "execute_result"
    }
   ],
   "source": [
    "smultixcan_results.head()"
   ]
  },
  {
   "cell_type": "code",
   "execution_count": 38,
   "id": "9c4c023c-86d6-4c4b-8d57-c2b6b93aaf84",
   "metadata": {
    "execution": {
     "iopub.execute_input": "2022-08-01T14:34:25.491024Z",
     "iopub.status.busy": "2022-08-01T14:34:25.490820Z",
     "iopub.status.idle": "2022-08-01T14:34:25.506358Z",
     "shell.execute_reply": "2022-08-01T14:34:25.505790Z"
    },
    "papermill": {
     "duration": 0.034527,
     "end_time": "2022-08-01T14:34:25.507700",
     "exception": false,
     "start_time": "2022-08-01T14:34:25.473173",
     "status": "completed"
    },
    "tags": []
   },
   "outputs": [],
   "source": [
    "assert smultixcan_results[\"gene_id\"].is_unique"
   ]
  },
  {
   "cell_type": "markdown",
   "id": "aec6375f-71c4-4fac-95f3-ba695bffb044",
   "metadata": {
    "papermill": {
     "duration": 0.016822,
     "end_time": "2022-08-01T14:34:25.541708",
     "exception": false,
     "start_time": "2022-08-01T14:34:25.524886",
     "status": "completed"
    },
    "tags": []
   },
   "source": [
    "### Remove duplicated gene names"
   ]
  },
  {
   "cell_type": "code",
   "execution_count": 39,
   "id": "3db4cebf-7f10-4651-be4e-c50e65b855c5",
   "metadata": {
    "execution": {
     "iopub.execute_input": "2022-08-01T14:34:25.575573Z",
     "iopub.status.busy": "2022-08-01T14:34:25.575394Z",
     "iopub.status.idle": "2022-08-01T14:34:25.591323Z",
     "shell.execute_reply": "2022-08-01T14:34:25.590638Z"
    },
    "papermill": {
     "duration": 0.034177,
     "end_time": "2022-08-01T14:34:25.592501",
     "exception": false,
     "start_time": "2022-08-01T14:34:25.558324",
     "status": "completed"
    },
    "tags": []
   },
   "outputs": [
    {
     "data": {
      "text/plain": [
       "False"
      ]
     },
     "execution_count": 39,
     "metadata": {},
     "output_type": "execute_result"
    }
   ],
   "source": [
    "smultixcan_results[\"gene_name\"].is_unique"
   ]
  },
  {
   "cell_type": "code",
   "execution_count": 40,
   "id": "359a302e-d9a9-4bce-bc45-89ab285d8ad5",
   "metadata": {
    "execution": {
     "iopub.execute_input": "2022-08-01T14:34:25.626620Z",
     "iopub.status.busy": "2022-08-01T14:34:25.626417Z",
     "iopub.status.idle": "2022-08-01T14:34:26.084444Z",
     "shell.execute_reply": "2022-08-01T14:34:26.083746Z"
    },
    "papermill": {
     "duration": 0.476581,
     "end_time": "2022-08-01T14:34:26.086019",
     "exception": false,
     "start_time": "2022-08-01T14:34:25.609438",
     "status": "completed"
    },
    "tags": []
   },
   "outputs": [
    {
     "data": {
      "text/html": [
       "<div>\n",
       "<style scoped>\n",
       "    .dataframe tbody tr th:only-of-type {\n",
       "        vertical-align: middle;\n",
       "    }\n",
       "\n",
       "    .dataframe tbody tr th {\n",
       "        vertical-align: top;\n",
       "    }\n",
       "\n",
       "    .dataframe thead th {\n",
       "        text-align: right;\n",
       "    }\n",
       "</style>\n",
       "<table border=\"1\" class=\"dataframe\">\n",
       "  <thead>\n",
       "    <tr style=\"text-align: right;\">\n",
       "      <th></th>\n",
       "      <th>gene</th>\n",
       "      <th>gene_name</th>\n",
       "      <th>pvalue</th>\n",
       "      <th>n</th>\n",
       "      <th>n_indep</th>\n",
       "      <th>gene_id</th>\n",
       "    </tr>\n",
       "  </thead>\n",
       "  <tbody>\n",
       "    <tr>\n",
       "      <th>1461</th>\n",
       "      <td>ENSG00000235641.4</td>\n",
       "      <td>LINC00484</td>\n",
       "      <td>0.068450</td>\n",
       "      <td>35.0</td>\n",
       "      <td>3.0</td>\n",
       "      <td>ENSG00000235641</td>\n",
       "    </tr>\n",
       "    <tr>\n",
       "      <th>2390</th>\n",
       "      <td>ENSG00000237667.5</td>\n",
       "      <td>LINC01115</td>\n",
       "      <td>0.112329</td>\n",
       "      <td>22.0</td>\n",
       "      <td>1.0</td>\n",
       "      <td>ENSG00000237667</td>\n",
       "    </tr>\n",
       "    <tr>\n",
       "      <th>5198</th>\n",
       "      <td>ENSG00000272342.1</td>\n",
       "      <td>LINC01115</td>\n",
       "      <td>0.243122</td>\n",
       "      <td>4.0</td>\n",
       "      <td>1.0</td>\n",
       "      <td>ENSG00000272342</td>\n",
       "    </tr>\n",
       "    <tr>\n",
       "      <th>5883</th>\n",
       "      <td>ENSG00000229694.6</td>\n",
       "      <td>LINC00484</td>\n",
       "      <td>0.274814</td>\n",
       "      <td>40.0</td>\n",
       "      <td>5.0</td>\n",
       "      <td>ENSG00000229694</td>\n",
       "    </tr>\n",
       "    <tr>\n",
       "      <th>6129</th>\n",
       "      <td>ENSG00000147676.13</td>\n",
       "      <td>MAL2</td>\n",
       "      <td>0.286003</td>\n",
       "      <td>29.0</td>\n",
       "      <td>5.0</td>\n",
       "      <td>ENSG00000147676</td>\n",
       "    </tr>\n",
       "    <tr>\n",
       "      <th>6207</th>\n",
       "      <td>ENSG00000283992.1</td>\n",
       "      <td>LYNX1</td>\n",
       "      <td>0.289628</td>\n",
       "      <td>45.0</td>\n",
       "      <td>3.0</td>\n",
       "      <td>ENSG00000283992</td>\n",
       "    </tr>\n",
       "    <tr>\n",
       "      <th>10559</th>\n",
       "      <td>ENSG00000180155.19</td>\n",
       "      <td>LYNX1</td>\n",
       "      <td>0.486960</td>\n",
       "      <td>48.0</td>\n",
       "      <td>3.0</td>\n",
       "      <td>ENSG00000180155</td>\n",
       "    </tr>\n",
       "    <tr>\n",
       "      <th>14026</th>\n",
       "      <td>ENSG00000235271.5</td>\n",
       "      <td>LINC01422</td>\n",
       "      <td>0.643355</td>\n",
       "      <td>38.0</td>\n",
       "      <td>6.0</td>\n",
       "      <td>ENSG00000235271</td>\n",
       "    </tr>\n",
       "    <tr>\n",
       "      <th>14251</th>\n",
       "      <td>ENSG00000253972.5</td>\n",
       "      <td>MAL2</td>\n",
       "      <td>0.654873</td>\n",
       "      <td>6.0</td>\n",
       "      <td>4.0</td>\n",
       "      <td>ENSG00000253972</td>\n",
       "    </tr>\n",
       "    <tr>\n",
       "      <th>20086</th>\n",
       "      <td>ENSG00000182957.15</td>\n",
       "      <td>SPATA13</td>\n",
       "      <td>0.906729</td>\n",
       "      <td>40.0</td>\n",
       "      <td>14.0</td>\n",
       "      <td>ENSG00000182957</td>\n",
       "    </tr>\n",
       "    <tr>\n",
       "      <th>21031</th>\n",
       "      <td>ENSG00000223704.1</td>\n",
       "      <td>LINC01422</td>\n",
       "      <td>0.946342</td>\n",
       "      <td>48.0</td>\n",
       "      <td>3.0</td>\n",
       "      <td>ENSG00000223704</td>\n",
       "    </tr>\n",
       "    <tr>\n",
       "      <th>21040</th>\n",
       "      <td>ENSG00000228741.2</td>\n",
       "      <td>SPATA13</td>\n",
       "      <td>0.946653</td>\n",
       "      <td>23.0</td>\n",
       "      <td>6.0</td>\n",
       "      <td>ENSG00000228741</td>\n",
       "    </tr>\n",
       "  </tbody>\n",
       "</table>\n",
       "</div>"
      ],
      "text/plain": [
       "                     gene  gene_name    pvalue     n  n_indep          gene_id\n",
       "1461    ENSG00000235641.4  LINC00484  0.068450  35.0      3.0  ENSG00000235641\n",
       "2390    ENSG00000237667.5  LINC01115  0.112329  22.0      1.0  ENSG00000237667\n",
       "5198    ENSG00000272342.1  LINC01115  0.243122   4.0      1.0  ENSG00000272342\n",
       "5883    ENSG00000229694.6  LINC00484  0.274814  40.0      5.0  ENSG00000229694\n",
       "6129   ENSG00000147676.13       MAL2  0.286003  29.0      5.0  ENSG00000147676\n",
       "6207    ENSG00000283992.1      LYNX1  0.289628  45.0      3.0  ENSG00000283992\n",
       "10559  ENSG00000180155.19      LYNX1  0.486960  48.0      3.0  ENSG00000180155\n",
       "14026   ENSG00000235271.5  LINC01422  0.643355  38.0      6.0  ENSG00000235271\n",
       "14251   ENSG00000253972.5       MAL2  0.654873   6.0      4.0  ENSG00000253972\n",
       "20086  ENSG00000182957.15    SPATA13  0.906729  40.0     14.0  ENSG00000182957\n",
       "21031   ENSG00000223704.1  LINC01422  0.946342  48.0      3.0  ENSG00000223704\n",
       "21040   ENSG00000228741.2    SPATA13  0.946653  23.0      6.0  ENSG00000228741"
      ]
     },
     "metadata": {},
     "output_type": "display_data"
    }
   ],
   "source": [
    "# list duplicated gene names\n",
    "_smultixcan_duplicated_gene_names = smultixcan_results[\n",
    "    smultixcan_results[\"gene_name\"].duplicated(keep=False)\n",
    "]\n",
    "display(_smultixcan_duplicated_gene_names)"
   ]
  },
  {
   "cell_type": "code",
   "execution_count": 41,
   "id": "d8ff3ec1-312a-48be-b33f-50fb6f103c21",
   "metadata": {
    "execution": {
     "iopub.execute_input": "2022-08-01T14:34:26.128546Z",
     "iopub.status.busy": "2022-08-01T14:34:26.128382Z",
     "iopub.status.idle": "2022-08-01T14:34:26.141093Z",
     "shell.execute_reply": "2022-08-01T14:34:26.140606Z"
    },
    "papermill": {
     "duration": 0.034821,
     "end_time": "2022-08-01T14:34:26.142386",
     "exception": false,
     "start_time": "2022-08-01T14:34:26.107565",
     "status": "completed"
    },
    "tags": []
   },
   "outputs": [],
   "source": [
    "# TODO: my strategy below to handle duplicated gene names is to keep the first one\n",
    "#  it might be better to have another strategy, maybe keeping the most significant"
   ]
  },
  {
   "cell_type": "code",
   "execution_count": 42,
   "id": "11e348f5-ba33-487a-9dfe-cd493a02f320",
   "metadata": {
    "execution": {
     "iopub.execute_input": "2022-08-01T14:34:26.178449Z",
     "iopub.status.busy": "2022-08-01T14:34:26.178244Z",
     "iopub.status.idle": "2022-08-01T14:34:26.196220Z",
     "shell.execute_reply": "2022-08-01T14:34:26.195691Z"
    },
    "papermill": {
     "duration": 0.036627,
     "end_time": "2022-08-01T14:34:26.197419",
     "exception": false,
     "start_time": "2022-08-01T14:34:26.160792",
     "status": "completed"
    },
    "tags": []
   },
   "outputs": [
    {
     "data": {
      "text/plain": [
       "(22308, 6)"
      ]
     },
     "metadata": {},
     "output_type": "display_data"
    }
   ],
   "source": [
    "smultixcan_results = smultixcan_results.drop_duplicates(\n",
    "    subset=[\"gene_name\"], keep=\"first\"\n",
    ")\n",
    "display(smultixcan_results.shape)"
   ]
  },
  {
   "cell_type": "markdown",
   "id": "1f9939f1-4200-40d9-a8bf-8e4fd68bee48",
   "metadata": {
    "papermill": {
     "duration": 0.021473,
     "end_time": "2022-08-01T14:34:26.237139",
     "exception": false,
     "start_time": "2022-08-01T14:34:26.215666",
     "status": "completed"
    },
    "tags": []
   },
   "source": [
    "### Get common genes with MultiPLIER"
   ]
  },
  {
   "cell_type": "code",
   "execution_count": 43,
   "id": "c820e6cf-6350-45af-b49a-0abd94f570ff",
   "metadata": {
    "execution": {
     "iopub.execute_input": "2022-08-01T14:34:26.274007Z",
     "iopub.status.busy": "2022-08-01T14:34:26.273821Z",
     "iopub.status.idle": "2022-08-01T14:34:26.289812Z",
     "shell.execute_reply": "2022-08-01T14:34:26.289225Z"
    },
    "papermill": {
     "duration": 0.035655,
     "end_time": "2022-08-01T14:34:26.291223",
     "exception": false,
     "start_time": "2022-08-01T14:34:26.255568",
     "status": "completed"
    },
    "tags": []
   },
   "outputs": [],
   "source": [
    "common_genes = set(multiplier_z_genes).intersection(\n",
    "    set(smultixcan_results[\"gene_name\"])\n",
    ")"
   ]
  },
  {
   "cell_type": "code",
   "execution_count": 44,
   "id": "0a7328f9-96c7-4ac6-a9a6-ae4fa121a4cd",
   "metadata": {
    "execution": {
     "iopub.execute_input": "2022-08-01T14:34:26.327708Z",
     "iopub.status.busy": "2022-08-01T14:34:26.327495Z",
     "iopub.status.idle": "2022-08-01T14:34:26.340619Z",
     "shell.execute_reply": "2022-08-01T14:34:26.340093Z"
    },
    "papermill": {
     "duration": 0.03255,
     "end_time": "2022-08-01T14:34:26.341811",
     "exception": false,
     "start_time": "2022-08-01T14:34:26.309261",
     "status": "completed"
    },
    "tags": []
   },
   "outputs": [
    {
     "data": {
      "text/plain": [
       "6444"
      ]
     },
     "execution_count": 44,
     "metadata": {},
     "output_type": "execute_result"
    }
   ],
   "source": [
    "len(common_genes)"
   ]
  },
  {
   "cell_type": "code",
   "execution_count": 45,
   "id": "5b08d362-44c8-4db2-9258-670e2e2a9cc0",
   "metadata": {
    "execution": {
     "iopub.execute_input": "2022-08-01T14:34:26.377001Z",
     "iopub.status.busy": "2022-08-01T14:34:26.376796Z",
     "iopub.status.idle": "2022-08-01T14:34:26.391935Z",
     "shell.execute_reply": "2022-08-01T14:34:26.391243Z"
    },
    "papermill": {
     "duration": 0.033936,
     "end_time": "2022-08-01T14:34:26.393205",
     "exception": false,
     "start_time": "2022-08-01T14:34:26.359269",
     "status": "completed"
    },
    "tags": []
   },
   "outputs": [
    {
     "data": {
      "text/plain": [
       "['A2M', 'AAAS', 'AANAT', 'AARS', 'AARS2']"
      ]
     },
     "execution_count": 45,
     "metadata": {},
     "output_type": "execute_result"
    }
   ],
   "source": [
    "sorted(list(common_genes))[:5]"
   ]
  },
  {
   "cell_type": "code",
   "execution_count": 46,
   "id": "ddc47580-bd3d-4168-bbb2-0763d227369b",
   "metadata": {
    "execution": {
     "iopub.execute_input": "2022-08-01T14:34:26.429346Z",
     "iopub.status.busy": "2022-08-01T14:34:26.429139Z",
     "iopub.status.idle": "2022-08-01T14:34:26.444345Z",
     "shell.execute_reply": "2022-08-01T14:34:26.443759Z"
    },
    "papermill": {
     "duration": 0.034663,
     "end_time": "2022-08-01T14:34:26.445655",
     "exception": false,
     "start_time": "2022-08-01T14:34:26.410992",
     "status": "completed"
    },
    "tags": []
   },
   "outputs": [],
   "source": [
    "assert smultixcan_results[smultixcan_results[\"gene_name\"].isin(common_genes)].shape[\n",
    "    0\n",
    "] == len(common_genes)"
   ]
  },
  {
   "cell_type": "code",
   "execution_count": 47,
   "id": "96303553-db48-4b3d-9198-362aa48052b4",
   "metadata": {
    "execution": {
     "iopub.execute_input": "2022-08-01T14:34:26.481361Z",
     "iopub.status.busy": "2022-08-01T14:34:26.481156Z",
     "iopub.status.idle": "2022-08-01T14:34:26.496590Z",
     "shell.execute_reply": "2022-08-01T14:34:26.496115Z"
    },
    "papermill": {
     "duration": 0.034748,
     "end_time": "2022-08-01T14:34:26.497932",
     "exception": false,
     "start_time": "2022-08-01T14:34:26.463184",
     "status": "completed"
    },
    "tags": []
   },
   "outputs": [],
   "source": [
    "smultixcan_gene_id_common = smultixcan_results[\n",
    "    smultixcan_results[\"gene_name\"].isin(common_genes)\n",
    "][\"gene_id\"]"
   ]
  },
  {
   "cell_type": "code",
   "execution_count": 48,
   "id": "e4172506-0b33-4ec6-84e0-ef5e93aa99d7",
   "metadata": {
    "execution": {
     "iopub.execute_input": "2022-08-01T14:34:26.533317Z",
     "iopub.status.busy": "2022-08-01T14:34:26.533098Z",
     "iopub.status.idle": "2022-08-01T14:34:26.547077Z",
     "shell.execute_reply": "2022-08-01T14:34:26.546428Z"
    },
    "papermill": {
     "duration": 0.032985,
     "end_time": "2022-08-01T14:34:26.548272",
     "exception": false,
     "start_time": "2022-08-01T14:34:26.515287",
     "status": "completed"
    },
    "tags": []
   },
   "outputs": [
    {
     "data": {
      "text/plain": [
       "(6444,)"
      ]
     },
     "execution_count": 48,
     "metadata": {},
     "output_type": "execute_result"
    }
   ],
   "source": [
    "smultixcan_gene_id_common.shape"
   ]
  },
  {
   "cell_type": "code",
   "execution_count": 49,
   "id": "93de05fd-3783-4369-9893-90de07601e04",
   "metadata": {
    "execution": {
     "iopub.execute_input": "2022-08-01T14:34:26.584621Z",
     "iopub.status.busy": "2022-08-01T14:34:26.584419Z",
     "iopub.status.idle": "2022-08-01T14:34:26.598290Z",
     "shell.execute_reply": "2022-08-01T14:34:26.597817Z"
    },
    "papermill": {
     "duration": 0.03355,
     "end_time": "2022-08-01T14:34:26.599655",
     "exception": false,
     "start_time": "2022-08-01T14:34:26.566105",
     "status": "completed"
    },
    "tags": []
   },
   "outputs": [],
   "source": [
    "assert smultixcan_gene_id_common.is_unique"
   ]
  },
  {
   "cell_type": "code",
   "execution_count": 50,
   "id": "a82c0037-4e3d-451e-9051-dc66bc4481db",
   "metadata": {
    "execution": {
     "iopub.execute_input": "2022-08-01T14:34:26.635769Z",
     "iopub.status.busy": "2022-08-01T14:34:26.635517Z",
     "iopub.status.idle": "2022-08-01T14:34:26.648914Z",
     "shell.execute_reply": "2022-08-01T14:34:26.648427Z"
    },
    "papermill": {
     "duration": 0.032819,
     "end_time": "2022-08-01T14:34:26.650203",
     "exception": false,
     "start_time": "2022-08-01T14:34:26.617384",
     "status": "completed"
    },
    "tags": []
   },
   "outputs": [],
   "source": [
    "smultixcan_gene_id_common = set(smultixcan_gene_id_common)"
   ]
  },
  {
   "cell_type": "markdown",
   "id": "4e1e5166-d4f0-449b-9c4e-1b53cf3774f8",
   "metadata": {
    "papermill": {
     "duration": 0.017286,
     "end_time": "2022-08-01T14:34:26.685213",
     "exception": false,
     "start_time": "2022-08-01T14:34:26.667927",
     "status": "completed"
    },
    "tags": []
   },
   "source": [
    "### Save"
   ]
  },
  {
   "cell_type": "code",
   "execution_count": 51,
   "id": "1fc57e26-d415-4565-be7f-e7e1de935dbb",
   "metadata": {
    "execution": {
     "iopub.execute_input": "2022-08-01T14:34:26.720402Z",
     "iopub.status.busy": "2022-08-01T14:34:26.720197Z",
     "iopub.status.idle": "2022-08-01T14:34:26.734214Z",
     "shell.execute_reply": "2022-08-01T14:34:26.733754Z"
    },
    "papermill": {
     "duration": 0.033096,
     "end_time": "2022-08-01T14:34:26.735502",
     "exception": false,
     "start_time": "2022-08-01T14:34:26.702406",
     "status": "completed"
    },
    "tags": []
   },
   "outputs": [],
   "source": [
    "with open(OUTPUT_DIR_BASE / \"common_genes.pkl\", \"wb\") as handle:\n",
    "    pickle.dump(common_genes, handle, protocol=pickle.HIGHEST_PROTOCOL)"
   ]
  },
  {
   "cell_type": "markdown",
   "id": "7f51338b-8a75-42c3-a7e5-a0961cefb663",
   "metadata": {
    "papermill": {
     "duration": 0.017175,
     "end_time": "2022-08-01T14:34:26.770236",
     "exception": false,
     "start_time": "2022-08-01T14:34:26.753061",
     "status": "completed"
    },
    "tags": []
   },
   "source": [
    "## Genes info"
   ]
  },
  {
   "cell_type": "code",
   "execution_count": 52,
   "id": "bb932812",
   "metadata": {
    "execution": {
     "iopub.execute_input": "2022-08-01T14:34:26.805716Z",
     "iopub.status.busy": "2022-08-01T14:34:26.805494Z",
     "iopub.status.idle": "2022-08-01T14:34:27.254896Z",
     "shell.execute_reply": "2022-08-01T14:34:27.254278Z"
    },
    "papermill": {
     "duration": 0.469178,
     "end_time": "2022-08-01T14:34:27.256630",
     "exception": false,
     "start_time": "2022-08-01T14:34:26.787452",
     "status": "completed"
    },
    "tags": []
   },
   "outputs": [],
   "source": [
    "multiplier_gene_obj = {\n",
    "    gene_name: Gene(name=gene_name)\n",
    "    for gene_name in common_genes\n",
    "    if gene_name in Gene.GENE_NAME_TO_ID_MAP\n",
    "}"
   ]
  },
  {
   "cell_type": "code",
   "execution_count": 53,
   "id": "39533214",
   "metadata": {
    "execution": {
     "iopub.execute_input": "2022-08-01T14:34:27.302100Z",
     "iopub.status.busy": "2022-08-01T14:34:27.301924Z",
     "iopub.status.idle": "2022-08-01T14:34:27.316253Z",
     "shell.execute_reply": "2022-08-01T14:34:27.315684Z"
    },
    "papermill": {
     "duration": 0.03791,
     "end_time": "2022-08-01T14:34:27.317593",
     "exception": false,
     "start_time": "2022-08-01T14:34:27.279683",
     "status": "completed"
    },
    "tags": []
   },
   "outputs": [
    {
     "data": {
      "text/plain": [
       "6444"
      ]
     },
     "execution_count": 53,
     "metadata": {},
     "output_type": "execute_result"
    }
   ],
   "source": [
    "len(multiplier_gene_obj)"
   ]
  },
  {
   "cell_type": "code",
   "execution_count": 54,
   "id": "9a5d0b84",
   "metadata": {
    "execution": {
     "iopub.execute_input": "2022-08-01T14:34:27.354794Z",
     "iopub.status.busy": "2022-08-01T14:34:27.354591Z",
     "iopub.status.idle": "2022-08-01T14:34:27.367152Z",
     "shell.execute_reply": "2022-08-01T14:34:27.366604Z"
    },
    "papermill": {
     "duration": 0.031804,
     "end_time": "2022-08-01T14:34:27.368405",
     "exception": false,
     "start_time": "2022-08-01T14:34:27.336601",
     "status": "completed"
    },
    "tags": []
   },
   "outputs": [],
   "source": [
    "assert multiplier_gene_obj[\"GAS6\"].ensembl_id == \"ENSG00000183087\""
   ]
  },
  {
   "cell_type": "code",
   "execution_count": 55,
   "id": "e3ffabc7",
   "metadata": {
    "execution": {
     "iopub.execute_input": "2022-08-01T14:34:27.404577Z",
     "iopub.status.busy": "2022-08-01T14:34:27.404374Z",
     "iopub.status.idle": "2022-08-01T14:34:30.374733Z",
     "shell.execute_reply": "2022-08-01T14:34:30.374230Z"
    },
    "papermill": {
     "duration": 2.990192,
     "end_time": "2022-08-01T14:34:30.376266",
     "exception": false,
     "start_time": "2022-08-01T14:34:27.386074",
     "status": "completed"
    },
    "tags": []
   },
   "outputs": [],
   "source": [
    "_gene_obj = list(multiplier_gene_obj.values())\n",
    "\n",
    "genes_info = pd.DataFrame(\n",
    "    {\n",
    "        \"name\": [g.name for g in _gene_obj],\n",
    "        \"id\": [g.ensembl_id for g in _gene_obj],\n",
    "        \"chr\": [g.chromosome for g in _gene_obj],\n",
    "        \"band\": [g.band for g in _gene_obj],\n",
    "        \"start_position\": [g.get_attribute(\"start_position\") for g in _gene_obj],\n",
    "        \"end_position\": [g.get_attribute(\"end_position\") for g in _gene_obj],\n",
    "    }\n",
    ")"
   ]
  },
  {
   "cell_type": "code",
   "execution_count": 56,
   "id": "00475e72-1cfc-485f-8b4e-1d9cce695f58",
   "metadata": {
    "execution": {
     "iopub.execute_input": "2022-08-01T14:34:30.412865Z",
     "iopub.status.busy": "2022-08-01T14:34:30.412618Z",
     "iopub.status.idle": "2022-08-01T14:34:30.470552Z",
     "shell.execute_reply": "2022-08-01T14:34:30.469921Z"
    },
    "papermill": {
     "duration": 0.078337,
     "end_time": "2022-08-01T14:34:30.472117",
     "exception": false,
     "start_time": "2022-08-01T14:34:30.393780",
     "status": "completed"
    },
    "tags": []
   },
   "outputs": [],
   "source": [
    "genes_info = genes_info.assign(\n",
    "    gene_length=genes_info.apply(\n",
    "        lambda x: x[\"end_position\"] - x[\"start_position\"], axis=1\n",
    "    )\n",
    ")"
   ]
  },
  {
   "cell_type": "code",
   "execution_count": 57,
   "id": "e23519b8",
   "metadata": {
    "execution": {
     "iopub.execute_input": "2022-08-01T14:34:30.508603Z",
     "iopub.status.busy": "2022-08-01T14:34:30.508400Z",
     "iopub.status.idle": "2022-08-01T14:34:30.521912Z",
     "shell.execute_reply": "2022-08-01T14:34:30.521239Z"
    },
    "papermill": {
     "duration": 0.033237,
     "end_time": "2022-08-01T14:34:30.523156",
     "exception": false,
     "start_time": "2022-08-01T14:34:30.489919",
     "status": "completed"
    },
    "tags": []
   },
   "outputs": [
    {
     "data": {
      "text/plain": [
       "(6444, 7)"
      ]
     },
     "execution_count": 57,
     "metadata": {},
     "output_type": "execute_result"
    }
   ],
   "source": [
    "genes_info.shape"
   ]
  },
  {
   "cell_type": "code",
   "execution_count": 58,
   "id": "0d71881c",
   "metadata": {
    "execution": {
     "iopub.execute_input": "2022-08-01T14:34:30.560277Z",
     "iopub.status.busy": "2022-08-01T14:34:30.559655Z",
     "iopub.status.idle": "2022-08-01T14:34:30.578268Z",
     "shell.execute_reply": "2022-08-01T14:34:30.577493Z"
    },
    "papermill": {
     "duration": 0.038355,
     "end_time": "2022-08-01T14:34:30.579542",
     "exception": false,
     "start_time": "2022-08-01T14:34:30.541187",
     "status": "completed"
    },
    "tags": []
   },
   "outputs": [
    {
     "data": {
      "text/html": [
       "<div>\n",
       "<style scoped>\n",
       "    .dataframe tbody tr th:only-of-type {\n",
       "        vertical-align: middle;\n",
       "    }\n",
       "\n",
       "    .dataframe tbody tr th {\n",
       "        vertical-align: top;\n",
       "    }\n",
       "\n",
       "    .dataframe thead th {\n",
       "        text-align: right;\n",
       "    }\n",
       "</style>\n",
       "<table border=\"1\" class=\"dataframe\">\n",
       "  <thead>\n",
       "    <tr style=\"text-align: right;\">\n",
       "      <th></th>\n",
       "      <th>name</th>\n",
       "      <th>id</th>\n",
       "      <th>chr</th>\n",
       "      <th>band</th>\n",
       "      <th>start_position</th>\n",
       "      <th>end_position</th>\n",
       "      <th>gene_length</th>\n",
       "    </tr>\n",
       "  </thead>\n",
       "  <tbody>\n",
       "    <tr>\n",
       "      <th>0</th>\n",
       "      <td>SYNJ2</td>\n",
       "      <td>ENSG00000078269</td>\n",
       "      <td>6</td>\n",
       "      <td>6q25.3</td>\n",
       "      <td>157981863.0</td>\n",
       "      <td>158099176.0</td>\n",
       "      <td>117313.0</td>\n",
       "    </tr>\n",
       "    <tr>\n",
       "      <th>1</th>\n",
       "      <td>AMDHD2</td>\n",
       "      <td>ENSG00000162066</td>\n",
       "      <td>16</td>\n",
       "      <td>16p13.3</td>\n",
       "      <td>2520357.0</td>\n",
       "      <td>2531422.0</td>\n",
       "      <td>11065.0</td>\n",
       "    </tr>\n",
       "    <tr>\n",
       "      <th>2</th>\n",
       "      <td>CENPL</td>\n",
       "      <td>ENSG00000120334</td>\n",
       "      <td>1</td>\n",
       "      <td>1q25.1</td>\n",
       "      <td>173799550.0</td>\n",
       "      <td>173824720.0</td>\n",
       "      <td>25170.0</td>\n",
       "    </tr>\n",
       "    <tr>\n",
       "      <th>3</th>\n",
       "      <td>NPR2</td>\n",
       "      <td>ENSG00000159899</td>\n",
       "      <td>9</td>\n",
       "      <td>9p13.3</td>\n",
       "      <td>35792154.0</td>\n",
       "      <td>35809732.0</td>\n",
       "      <td>17578.0</td>\n",
       "    </tr>\n",
       "    <tr>\n",
       "      <th>4</th>\n",
       "      <td>H2AFZ</td>\n",
       "      <td>ENSG00000164032</td>\n",
       "      <td>4</td>\n",
       "      <td>4q23</td>\n",
       "      <td>99948086.0</td>\n",
       "      <td>99950355.0</td>\n",
       "      <td>2269.0</td>\n",
       "    </tr>\n",
       "  </tbody>\n",
       "</table>\n",
       "</div>"
      ],
      "text/plain": [
       "     name               id chr     band  start_position  end_position  \\\n",
       "0   SYNJ2  ENSG00000078269   6   6q25.3     157981863.0   158099176.0   \n",
       "1  AMDHD2  ENSG00000162066  16  16p13.3       2520357.0     2531422.0   \n",
       "2   CENPL  ENSG00000120334   1   1q25.1     173799550.0   173824720.0   \n",
       "3    NPR2  ENSG00000159899   9   9p13.3      35792154.0    35809732.0   \n",
       "4   H2AFZ  ENSG00000164032   4     4q23      99948086.0    99950355.0   \n",
       "\n",
       "   gene_length  \n",
       "0     117313.0  \n",
       "1      11065.0  \n",
       "2      25170.0  \n",
       "3      17578.0  \n",
       "4       2269.0  "
      ]
     },
     "execution_count": 58,
     "metadata": {},
     "output_type": "execute_result"
    }
   ],
   "source": [
    "genes_info.head()"
   ]
  },
  {
   "cell_type": "code",
   "execution_count": 59,
   "id": "eb968287-d9cf-40f6-a93e-6b322b844404",
   "metadata": {
    "execution": {
     "iopub.execute_input": "2022-08-01T14:34:30.617297Z",
     "iopub.status.busy": "2022-08-01T14:34:30.616536Z",
     "iopub.status.idle": "2022-08-01T14:34:30.640168Z",
     "shell.execute_reply": "2022-08-01T14:34:30.639486Z"
    },
    "papermill": {
     "duration": 0.043693,
     "end_time": "2022-08-01T14:34:30.641568",
     "exception": false,
     "start_time": "2022-08-01T14:34:30.597875",
     "status": "completed"
    },
    "tags": []
   },
   "outputs": [
    {
     "data": {
      "text/html": [
       "<div>\n",
       "<style scoped>\n",
       "    .dataframe tbody tr th:only-of-type {\n",
       "        vertical-align: middle;\n",
       "    }\n",
       "\n",
       "    .dataframe tbody tr th {\n",
       "        vertical-align: top;\n",
       "    }\n",
       "\n",
       "    .dataframe thead th {\n",
       "        text-align: right;\n",
       "    }\n",
       "</style>\n",
       "<table border=\"1\" class=\"dataframe\">\n",
       "  <thead>\n",
       "    <tr style=\"text-align: right;\">\n",
       "      <th></th>\n",
       "      <th>name</th>\n",
       "      <th>id</th>\n",
       "      <th>chr</th>\n",
       "      <th>band</th>\n",
       "      <th>start_position</th>\n",
       "      <th>end_position</th>\n",
       "      <th>gene_length</th>\n",
       "    </tr>\n",
       "  </thead>\n",
       "  <tbody>\n",
       "    <tr>\n",
       "      <th>5412</th>\n",
       "      <td>BEND5</td>\n",
       "      <td>ENSG00000162373</td>\n",
       "      <td>1</td>\n",
       "      <td>1p33</td>\n",
       "      <td>48727519.0</td>\n",
       "      <td>48776969.0</td>\n",
       "      <td>49450.0</td>\n",
       "    </tr>\n",
       "    <tr>\n",
       "      <th>3896</th>\n",
       "      <td>PTGS2</td>\n",
       "      <td>ENSG00000073756</td>\n",
       "      <td>1</td>\n",
       "      <td>1q31.1</td>\n",
       "      <td>186671791.0</td>\n",
       "      <td>186680423.0</td>\n",
       "      <td>8632.0</td>\n",
       "    </tr>\n",
       "    <tr>\n",
       "      <th>3886</th>\n",
       "      <td>PHLDA3</td>\n",
       "      <td>ENSG00000174307</td>\n",
       "      <td>1</td>\n",
       "      <td>1q32.1</td>\n",
       "      <td>201464383.0</td>\n",
       "      <td>201469237.0</td>\n",
       "      <td>4854.0</td>\n",
       "    </tr>\n",
       "    <tr>\n",
       "      <th>1021</th>\n",
       "      <td>SORT1</td>\n",
       "      <td>ENSG00000134243</td>\n",
       "      <td>1</td>\n",
       "      <td>1p13.3</td>\n",
       "      <td>109309568.0</td>\n",
       "      <td>109397918.0</td>\n",
       "      <td>88350.0</td>\n",
       "    </tr>\n",
       "    <tr>\n",
       "      <th>3877</th>\n",
       "      <td>MEF2D</td>\n",
       "      <td>ENSG00000116604</td>\n",
       "      <td>1</td>\n",
       "      <td>1q22</td>\n",
       "      <td>156463727.0</td>\n",
       "      <td>156500779.0</td>\n",
       "      <td>37052.0</td>\n",
       "    </tr>\n",
       "    <tr>\n",
       "      <th>...</th>\n",
       "      <td>...</td>\n",
       "      <td>...</td>\n",
       "      <td>...</td>\n",
       "      <td>...</td>\n",
       "      <td>...</td>\n",
       "      <td>...</td>\n",
       "      <td>...</td>\n",
       "    </tr>\n",
       "    <tr>\n",
       "      <th>4718</th>\n",
       "      <td>NCBP1</td>\n",
       "      <td>ENSG00000136937</td>\n",
       "      <td>9</td>\n",
       "      <td>9q22.33</td>\n",
       "      <td>97633668.0</td>\n",
       "      <td>97673748.0</td>\n",
       "      <td>40080.0</td>\n",
       "    </tr>\n",
       "    <tr>\n",
       "      <th>3739</th>\n",
       "      <td>ZFP37</td>\n",
       "      <td>ENSG00000136866</td>\n",
       "      <td>9</td>\n",
       "      <td>9q32</td>\n",
       "      <td>113038380.0</td>\n",
       "      <td>113056759.0</td>\n",
       "      <td>18379.0</td>\n",
       "    </tr>\n",
       "    <tr>\n",
       "      <th>1526</th>\n",
       "      <td>RPL7A</td>\n",
       "      <td>ENSG00000148303</td>\n",
       "      <td>9</td>\n",
       "      <td>9q34.2</td>\n",
       "      <td>133348218.0</td>\n",
       "      <td>133351426.0</td>\n",
       "      <td>3208.0</td>\n",
       "    </tr>\n",
       "    <tr>\n",
       "      <th>951</th>\n",
       "      <td>TMEM133</td>\n",
       "      <td>ENSG00000170647</td>\n",
       "      <td>None</td>\n",
       "      <td>None</td>\n",
       "      <td>NaN</td>\n",
       "      <td>NaN</td>\n",
       "      <td>NaN</td>\n",
       "    </tr>\n",
       "    <tr>\n",
       "      <th>4609</th>\n",
       "      <td>TBCE</td>\n",
       "      <td>ENSG00000116957</td>\n",
       "      <td>None</td>\n",
       "      <td>None</td>\n",
       "      <td>NaN</td>\n",
       "      <td>NaN</td>\n",
       "      <td>NaN</td>\n",
       "    </tr>\n",
       "  </tbody>\n",
       "</table>\n",
       "<p>6444 rows × 7 columns</p>\n",
       "</div>"
      ],
      "text/plain": [
       "         name               id   chr     band  start_position  end_position  \\\n",
       "5412    BEND5  ENSG00000162373     1     1p33      48727519.0    48776969.0   \n",
       "3896    PTGS2  ENSG00000073756     1   1q31.1     186671791.0   186680423.0   \n",
       "3886   PHLDA3  ENSG00000174307     1   1q32.1     201464383.0   201469237.0   \n",
       "1021    SORT1  ENSG00000134243     1   1p13.3     109309568.0   109397918.0   \n",
       "3877    MEF2D  ENSG00000116604     1     1q22     156463727.0   156500779.0   \n",
       "...       ...              ...   ...      ...             ...           ...   \n",
       "4718    NCBP1  ENSG00000136937     9  9q22.33      97633668.0    97673748.0   \n",
       "3739    ZFP37  ENSG00000136866     9     9q32     113038380.0   113056759.0   \n",
       "1526    RPL7A  ENSG00000148303     9   9q34.2     133348218.0   133351426.0   \n",
       "951   TMEM133  ENSG00000170647  None     None             NaN           NaN   \n",
       "4609     TBCE  ENSG00000116957  None     None             NaN           NaN   \n",
       "\n",
       "      gene_length  \n",
       "5412      49450.0  \n",
       "3896       8632.0  \n",
       "3886       4854.0  \n",
       "1021      88350.0  \n",
       "3877      37052.0  \n",
       "...           ...  \n",
       "4718      40080.0  \n",
       "3739      18379.0  \n",
       "1526       3208.0  \n",
       "951           NaN  \n",
       "4609          NaN  \n",
       "\n",
       "[6444 rows x 7 columns]"
      ]
     },
     "execution_count": 59,
     "metadata": {},
     "output_type": "execute_result"
    }
   ],
   "source": [
    "genes_info.sort_values(\"chr\")"
   ]
  },
  {
   "cell_type": "markdown",
   "id": "7282b84d-f4f3-4e8c-9dd8-6319505ed4b5",
   "metadata": {
    "papermill": {
     "duration": 0.017618,
     "end_time": "2022-08-01T14:34:30.677170",
     "exception": false,
     "start_time": "2022-08-01T14:34:30.659552",
     "status": "completed"
    },
    "tags": []
   },
   "source": [
    "### Save"
   ]
  },
  {
   "cell_type": "code",
   "execution_count": 60,
   "id": "32cf6566-03bb-4a85-81e1-da46fc9f37ad",
   "metadata": {
    "execution": {
     "iopub.execute_input": "2022-08-01T14:34:30.714022Z",
     "iopub.status.busy": "2022-08-01T14:34:30.713499Z",
     "iopub.status.idle": "2022-08-01T14:34:30.729043Z",
     "shell.execute_reply": "2022-08-01T14:34:30.728518Z"
    },
    "papermill": {
     "duration": 0.035535,
     "end_time": "2022-08-01T14:34:30.730430",
     "exception": false,
     "start_time": "2022-08-01T14:34:30.694895",
     "status": "completed"
    },
    "tags": []
   },
   "outputs": [],
   "source": [
    "genes_info.to_pickle(OUTPUT_DIR_BASE / \"genes_info.pkl\")"
   ]
  },
  {
   "cell_type": "markdown",
   "id": "5b9f384a-5a91-4a8d-9007-cfe43f2d86f8",
   "metadata": {
    "papermill": {
     "duration": 0.018113,
     "end_time": "2022-08-01T14:34:30.766913",
     "exception": false,
     "start_time": "2022-08-01T14:34:30.748800",
     "status": "completed"
    },
    "tags": []
   },
   "source": [
    "## S-PrediXcan results"
   ]
  },
  {
   "cell_type": "markdown",
   "id": "fc0a2a4c-960c-4a0a-9b23-b66c3d5d6e07",
   "metadata": {
    "papermill": {
     "duration": 0.017807,
     "end_time": "2022-08-01T14:34:30.802512",
     "exception": false,
     "start_time": "2022-08-01T14:34:30.784705",
     "status": "completed"
    },
    "tags": []
   },
   "source": [
    "### Load results across all tissues"
   ]
  },
  {
   "cell_type": "code",
   "execution_count": 61,
   "id": "0b4867d7-a608-4b08-9d77-1782be3a0c94",
   "metadata": {
    "execution": {
     "iopub.execute_input": "2022-08-01T14:34:30.842953Z",
     "iopub.status.busy": "2022-08-01T14:34:30.842005Z",
     "iopub.status.idle": "2022-08-01T14:34:30.860385Z",
     "shell.execute_reply": "2022-08-01T14:34:30.859179Z"
    },
    "papermill": {
     "duration": 0.04152,
     "end_time": "2022-08-01T14:34:30.862059",
     "exception": false,
     "start_time": "2022-08-01T14:34:30.820539",
     "status": "completed"
    },
    "tags": []
   },
   "outputs": [],
   "source": [
    "spredixcan_result_files = {\n",
    "    t: SPREDIXCAN_FOLDER / SPREDIXCAN_FILE_PATTERN.format(tissue=t)\n",
    "    for t in prediction_model_tissues\n",
    "}"
   ]
  },
  {
   "cell_type": "code",
   "execution_count": 62,
   "id": "0ce270dd-46ac-4eaa-9d86-2b201d67d82f",
   "metadata": {
    "execution": {
     "iopub.execute_input": "2022-08-01T14:34:30.899612Z",
     "iopub.status.busy": "2022-08-01T14:34:30.899401Z",
     "iopub.status.idle": "2022-08-01T14:34:30.913147Z",
     "shell.execute_reply": "2022-08-01T14:34:30.912608Z"
    },
    "papermill": {
     "duration": 0.034205,
     "end_time": "2022-08-01T14:34:30.914408",
     "exception": false,
     "start_time": "2022-08-01T14:34:30.880203",
     "status": "completed"
    },
    "tags": []
   },
   "outputs": [
    {
     "data": {
      "text/plain": [
       "[PosixPath('/opt/data/results/gls/null_sims/twas/spredixcan/random.pheno0-gtex_v8-mashr-Skin_Not_Sun_Exposed_Suprapubic.csv'),\n",
       " PosixPath('/opt/data/results/gls/null_sims/twas/spredixcan/random.pheno0-gtex_v8-mashr-Cells_EBV-transformed_lymphocytes.csv'),\n",
       " PosixPath('/opt/data/results/gls/null_sims/twas/spredixcan/random.pheno0-gtex_v8-mashr-Brain_Frontal_Cortex_BA9.csv'),\n",
       " PosixPath('/opt/data/results/gls/null_sims/twas/spredixcan/random.pheno0-gtex_v8-mashr-Kidney_Cortex.csv'),\n",
       " PosixPath('/opt/data/results/gls/null_sims/twas/spredixcan/random.pheno0-gtex_v8-mashr-Brain_Substantia_nigra.csv')]"
      ]
     },
     "metadata": {},
     "output_type": "display_data"
    }
   ],
   "source": [
    "assert len(spredixcan_result_files) == len(prediction_model_tissues)\n",
    "display(list(spredixcan_result_files.values())[:5])"
   ]
  },
  {
   "cell_type": "code",
   "execution_count": 63,
   "id": "aa140259-303e-4912-b2bf-e7adce662f88",
   "metadata": {
    "execution": {
     "iopub.execute_input": "2022-08-01T14:34:30.951915Z",
     "iopub.status.busy": "2022-08-01T14:34:30.951700Z",
     "iopub.status.idle": "2022-08-01T14:34:30.991544Z",
     "shell.execute_reply": "2022-08-01T14:34:30.991020Z"
    },
    "papermill": {
     "duration": 0.060085,
     "end_time": "2022-08-01T14:34:30.992975",
     "exception": false,
     "start_time": "2022-08-01T14:34:30.932890",
     "status": "completed"
    },
    "tags": []
   },
   "outputs": [
    {
     "data": {
      "text/html": [
       "<div>\n",
       "<style scoped>\n",
       "    .dataframe tbody tr th:only-of-type {\n",
       "        vertical-align: middle;\n",
       "    }\n",
       "\n",
       "    .dataframe tbody tr th {\n",
       "        vertical-align: top;\n",
       "    }\n",
       "\n",
       "    .dataframe thead th {\n",
       "        text-align: right;\n",
       "    }\n",
       "</style>\n",
       "<table border=\"1\" class=\"dataframe\">\n",
       "  <thead>\n",
       "    <tr style=\"text-align: right;\">\n",
       "      <th></th>\n",
       "      <th>gene</th>\n",
       "      <th>gene_name</th>\n",
       "      <th>zscore</th>\n",
       "      <th>effect_size</th>\n",
       "      <th>pvalue</th>\n",
       "      <th>var_g</th>\n",
       "      <th>pred_perf_r2</th>\n",
       "      <th>pred_perf_pval</th>\n",
       "      <th>pred_perf_qval</th>\n",
       "      <th>n_snps_used</th>\n",
       "      <th>n_snps_in_cov</th>\n",
       "      <th>n_snps_in_model</th>\n",
       "      <th>best_gwas_p</th>\n",
       "      <th>largest_weight</th>\n",
       "    </tr>\n",
       "  </thead>\n",
       "  <tbody>\n",
       "    <tr>\n",
       "      <th>0</th>\n",
       "      <td>ENSG00000131236.16</td>\n",
       "      <td>CAP1</td>\n",
       "      <td>-3.882684</td>\n",
       "      <td>NaN</td>\n",
       "      <td>0.000103</td>\n",
       "      <td>8.369900e-05</td>\n",
       "      <td>NaN</td>\n",
       "      <td>NaN</td>\n",
       "      <td>NaN</td>\n",
       "      <td>1</td>\n",
       "      <td>1</td>\n",
       "      <td>1</td>\n",
       "      <td>0.000103</td>\n",
       "      <td>0.021593</td>\n",
       "    </tr>\n",
       "    <tr>\n",
       "      <th>1</th>\n",
       "      <td>ENSG00000130787.13</td>\n",
       "      <td>HIP1R</td>\n",
       "      <td>3.862583</td>\n",
       "      <td>NaN</td>\n",
       "      <td>0.000112</td>\n",
       "      <td>3.039669e-03</td>\n",
       "      <td>NaN</td>\n",
       "      <td>NaN</td>\n",
       "      <td>NaN</td>\n",
       "      <td>2</td>\n",
       "      <td>2</td>\n",
       "      <td>2</td>\n",
       "      <td>0.001681</td>\n",
       "      <td>0.087495</td>\n",
       "    </tr>\n",
       "    <tr>\n",
       "      <th>2</th>\n",
       "      <td>ENSG00000103018.16</td>\n",
       "      <td>CYB5B</td>\n",
       "      <td>3.478682</td>\n",
       "      <td>NaN</td>\n",
       "      <td>0.000504</td>\n",
       "      <td>6.455623e-03</td>\n",
       "      <td>NaN</td>\n",
       "      <td>NaN</td>\n",
       "      <td>NaN</td>\n",
       "      <td>1</td>\n",
       "      <td>1</td>\n",
       "      <td>1</td>\n",
       "      <td>0.000504</td>\n",
       "      <td>0.114291</td>\n",
       "    </tr>\n",
       "    <tr>\n",
       "      <th>3</th>\n",
       "      <td>ENSG00000117906.13</td>\n",
       "      <td>RCN2</td>\n",
       "      <td>3.431258</td>\n",
       "      <td>NaN</td>\n",
       "      <td>0.000601</td>\n",
       "      <td>5.848182e-07</td>\n",
       "      <td>NaN</td>\n",
       "      <td>NaN</td>\n",
       "      <td>NaN</td>\n",
       "      <td>1</td>\n",
       "      <td>1</td>\n",
       "      <td>1</td>\n",
       "      <td>0.000601</td>\n",
       "      <td>0.001696</td>\n",
       "    </tr>\n",
       "    <tr>\n",
       "      <th>4</th>\n",
       "      <td>ENSG00000135469.13</td>\n",
       "      <td>COQ10A</td>\n",
       "      <td>3.363631</td>\n",
       "      <td>NaN</td>\n",
       "      <td>0.000769</td>\n",
       "      <td>4.312235e-04</td>\n",
       "      <td>NaN</td>\n",
       "      <td>NaN</td>\n",
       "      <td>NaN</td>\n",
       "      <td>2</td>\n",
       "      <td>2</td>\n",
       "      <td>2</td>\n",
       "      <td>0.013565</td>\n",
       "      <td>0.064460</td>\n",
       "    </tr>\n",
       "  </tbody>\n",
       "</table>\n",
       "</div>"
      ],
      "text/plain": [
       "                 gene gene_name    zscore  effect_size    pvalue  \\\n",
       "0  ENSG00000131236.16      CAP1 -3.882684          NaN  0.000103   \n",
       "1  ENSG00000130787.13     HIP1R  3.862583          NaN  0.000112   \n",
       "2  ENSG00000103018.16     CYB5B  3.478682          NaN  0.000504   \n",
       "3  ENSG00000117906.13      RCN2  3.431258          NaN  0.000601   \n",
       "4  ENSG00000135469.13    COQ10A  3.363631          NaN  0.000769   \n",
       "\n",
       "          var_g  pred_perf_r2  pred_perf_pval  pred_perf_qval  n_snps_used  \\\n",
       "0  8.369900e-05           NaN             NaN             NaN            1   \n",
       "1  3.039669e-03           NaN             NaN             NaN            2   \n",
       "2  6.455623e-03           NaN             NaN             NaN            1   \n",
       "3  5.848182e-07           NaN             NaN             NaN            1   \n",
       "4  4.312235e-04           NaN             NaN             NaN            2   \n",
       "\n",
       "   n_snps_in_cov  n_snps_in_model  best_gwas_p  largest_weight  \n",
       "0              1                1     0.000103        0.021593  \n",
       "1              2                2     0.001681        0.087495  \n",
       "2              1                1     0.000504        0.114291  \n",
       "3              1                1     0.000601        0.001696  \n",
       "4              2                2     0.013565        0.064460  "
      ]
     },
     "execution_count": 63,
     "metadata": {},
     "output_type": "execute_result"
    }
   ],
   "source": [
    "# look at the structure of one result\n",
    "pd.read_csv(spredixcan_result_files[\"Whole_Blood\"]).head()"
   ]
  },
  {
   "cell_type": "code",
   "execution_count": 64,
   "id": "4381b9ff-6ab5-47f1-89d1-560f88fdf07f",
   "metadata": {
    "execution": {
     "iopub.execute_input": "2022-08-01T14:34:31.031327Z",
     "iopub.status.busy": "2022-08-01T14:34:31.031038Z",
     "iopub.status.idle": "2022-08-01T14:34:31.044478Z",
     "shell.execute_reply": "2022-08-01T14:34:31.043991Z"
    },
    "papermill": {
     "duration": 0.033947,
     "end_time": "2022-08-01T14:34:31.045736",
     "exception": false,
     "start_time": "2022-08-01T14:34:31.011789",
     "status": "completed"
    },
    "tags": []
   },
   "outputs": [],
   "source": [
    "assert all(f.exists() for f in spredixcan_result_files.values())"
   ]
  },
  {
   "cell_type": "code",
   "execution_count": 65,
   "id": "d477157f-51e9-4c7c-b826-7ab5f4fdf3e3",
   "metadata": {
    "execution": {
     "iopub.execute_input": "2022-08-01T14:34:31.084265Z",
     "iopub.status.busy": "2022-08-01T14:34:31.084056Z",
     "iopub.status.idle": "2022-08-01T14:34:32.180246Z",
     "shell.execute_reply": "2022-08-01T14:34:32.179752Z"
    },
    "papermill": {
     "duration": 1.11698,
     "end_time": "2022-08-01T14:34:32.181578",
     "exception": false,
     "start_time": "2022-08-01T14:34:31.064598",
     "status": "completed"
    },
    "tags": []
   },
   "outputs": [],
   "source": [
    "spredixcan_dfs = [\n",
    "    pd.read_csv(\n",
    "        f,\n",
    "        usecols=[\n",
    "            \"gene\",\n",
    "            \"gene_name\",\n",
    "            \"zscore\",\n",
    "            \"pvalue\",\n",
    "            \"n_snps_used\",\n",
    "            \"n_snps_in_model\",\n",
    "        ],\n",
    "    )\n",
    "    .dropna(subset=[\"gene\", \"zscore\", \"pvalue\"])\n",
    "    .assign(tissue=t)\n",
    "    for t, f in spredixcan_result_files.items()\n",
    "]"
   ]
  },
  {
   "cell_type": "code",
   "execution_count": 66,
   "id": "9730bd37-b769-411f-bb6b-bb658d1ff88c",
   "metadata": {
    "execution": {
     "iopub.execute_input": "2022-08-01T14:34:32.219678Z",
     "iopub.status.busy": "2022-08-01T14:34:32.219452Z",
     "iopub.status.idle": "2022-08-01T14:34:32.232479Z",
     "shell.execute_reply": "2022-08-01T14:34:32.231841Z"
    },
    "papermill": {
     "duration": 0.033596,
     "end_time": "2022-08-01T14:34:32.233816",
     "exception": false,
     "start_time": "2022-08-01T14:34:32.200220",
     "status": "completed"
    },
    "tags": []
   },
   "outputs": [],
   "source": [
    "assert len(spredixcan_dfs) == len(prediction_model_tissues)"
   ]
  },
  {
   "cell_type": "code",
   "execution_count": 67,
   "id": "bcd73f53-1283-4ff6-bbb5-25fb71f5cb72",
   "metadata": {
    "execution": {
     "iopub.execute_input": "2022-08-01T14:34:32.278839Z",
     "iopub.status.busy": "2022-08-01T14:34:32.278674Z",
     "iopub.status.idle": "2022-08-01T14:34:32.388551Z",
     "shell.execute_reply": "2022-08-01T14:34:32.387812Z"
    },
    "papermill": {
     "duration": 0.134069,
     "end_time": "2022-08-01T14:34:32.390247",
     "exception": false,
     "start_time": "2022-08-01T14:34:32.256178",
     "status": "completed"
    },
    "tags": []
   },
   "outputs": [],
   "source": [
    "spredixcan_dfs = pd.concat(spredixcan_dfs)"
   ]
  },
  {
   "cell_type": "code",
   "execution_count": 68,
   "id": "ae99c7b5-14fc-4b39-a6b2-40fc703acd0a",
   "metadata": {
    "execution": {
     "iopub.execute_input": "2022-08-01T14:34:32.436297Z",
     "iopub.status.busy": "2022-08-01T14:34:32.436133Z",
     "iopub.status.idle": "2022-08-01T14:34:32.479259Z",
     "shell.execute_reply": "2022-08-01T14:34:32.478729Z"
    },
    "papermill": {
     "duration": 0.066886,
     "end_time": "2022-08-01T14:34:32.480614",
     "exception": false,
     "start_time": "2022-08-01T14:34:32.413728",
     "status": "completed"
    },
    "tags": []
   },
   "outputs": [],
   "source": [
    "assert spredixcan_dfs[\"tissue\"].unique().shape[0] == len(prediction_model_tissues)"
   ]
  },
  {
   "cell_type": "code",
   "execution_count": 69,
   "id": "b7223a23-e40f-4cd3-8988-72033f8739bd",
   "metadata": {
    "execution": {
     "iopub.execute_input": "2022-08-01T14:34:32.519236Z",
     "iopub.status.busy": "2022-08-01T14:34:32.519032Z",
     "iopub.status.idle": "2022-08-01T14:34:32.533044Z",
     "shell.execute_reply": "2022-08-01T14:34:32.532611Z"
    },
    "papermill": {
     "duration": 0.034906,
     "end_time": "2022-08-01T14:34:32.534207",
     "exception": false,
     "start_time": "2022-08-01T14:34:32.499301",
     "status": "completed"
    },
    "tags": []
   },
   "outputs": [
    {
     "data": {
      "text/plain": [
       "(653140, 7)"
      ]
     },
     "execution_count": 69,
     "metadata": {},
     "output_type": "execute_result"
    }
   ],
   "source": [
    "spredixcan_dfs.shape"
   ]
  },
  {
   "cell_type": "code",
   "execution_count": 70,
   "id": "4987073a-3b70-4162-93fb-beeb351ebfe0",
   "metadata": {
    "execution": {
     "iopub.execute_input": "2022-08-01T14:34:32.572815Z",
     "iopub.status.busy": "2022-08-01T14:34:32.572612Z",
     "iopub.status.idle": "2022-08-01T14:34:32.763155Z",
     "shell.execute_reply": "2022-08-01T14:34:32.762507Z"
    },
    "papermill": {
     "duration": 0.211176,
     "end_time": "2022-08-01T14:34:32.764750",
     "exception": false,
     "start_time": "2022-08-01T14:34:32.553574",
     "status": "completed"
    },
    "tags": []
   },
   "outputs": [],
   "source": [
    "spredixcan_dfs = spredixcan_dfs.assign(\n",
    "    gene_id=spredixcan_dfs[\"gene\"].apply(lambda g: g.split(\".\")[0])\n",
    ")"
   ]
  },
  {
   "cell_type": "code",
   "execution_count": 71,
   "id": "6b47d026-01c0-4f7c-a90e-f0baa13235f4",
   "metadata": {
    "execution": {
     "iopub.execute_input": "2022-08-01T14:34:32.811565Z",
     "iopub.status.busy": "2022-08-01T14:34:32.811400Z",
     "iopub.status.idle": "2022-08-01T14:34:32.830580Z",
     "shell.execute_reply": "2022-08-01T14:34:32.830046Z"
    },
    "papermill": {
     "duration": 0.043493,
     "end_time": "2022-08-01T14:34:32.831939",
     "exception": false,
     "start_time": "2022-08-01T14:34:32.788446",
     "status": "completed"
    },
    "tags": []
   },
   "outputs": [
    {
     "data": {
      "text/html": [
       "<div>\n",
       "<style scoped>\n",
       "    .dataframe tbody tr th:only-of-type {\n",
       "        vertical-align: middle;\n",
       "    }\n",
       "\n",
       "    .dataframe tbody tr th {\n",
       "        vertical-align: top;\n",
       "    }\n",
       "\n",
       "    .dataframe thead th {\n",
       "        text-align: right;\n",
       "    }\n",
       "</style>\n",
       "<table border=\"1\" class=\"dataframe\">\n",
       "  <thead>\n",
       "    <tr style=\"text-align: right;\">\n",
       "      <th></th>\n",
       "      <th>gene</th>\n",
       "      <th>gene_name</th>\n",
       "      <th>zscore</th>\n",
       "      <th>pvalue</th>\n",
       "      <th>n_snps_used</th>\n",
       "      <th>n_snps_in_model</th>\n",
       "      <th>tissue</th>\n",
       "      <th>gene_id</th>\n",
       "    </tr>\n",
       "  </thead>\n",
       "  <tbody>\n",
       "    <tr>\n",
       "      <th>0</th>\n",
       "      <td>ENSG00000131236.16</td>\n",
       "      <td>CAP1</td>\n",
       "      <td>-3.882684</td>\n",
       "      <td>0.000103</td>\n",
       "      <td>1</td>\n",
       "      <td>1</td>\n",
       "      <td>Skin_Not_Sun_Exposed_Suprapubic</td>\n",
       "      <td>ENSG00000131236</td>\n",
       "    </tr>\n",
       "    <tr>\n",
       "      <th>1</th>\n",
       "      <td>ENSG00000196172.9</td>\n",
       "      <td>ZNF681</td>\n",
       "      <td>-3.710444</td>\n",
       "      <td>0.000207</td>\n",
       "      <td>1</td>\n",
       "      <td>1</td>\n",
       "      <td>Skin_Not_Sun_Exposed_Suprapubic</td>\n",
       "      <td>ENSG00000196172</td>\n",
       "    </tr>\n",
       "    <tr>\n",
       "      <th>2</th>\n",
       "      <td>ENSG00000280789.1</td>\n",
       "      <td>PAGR1</td>\n",
       "      <td>3.403263</td>\n",
       "      <td>0.000666</td>\n",
       "      <td>2</td>\n",
       "      <td>2</td>\n",
       "      <td>Skin_Not_Sun_Exposed_Suprapubic</td>\n",
       "      <td>ENSG00000280789</td>\n",
       "    </tr>\n",
       "    <tr>\n",
       "      <th>3</th>\n",
       "      <td>ENSG00000215218.3</td>\n",
       "      <td>UBE2QL1</td>\n",
       "      <td>3.385093</td>\n",
       "      <td>0.000712</td>\n",
       "      <td>3</td>\n",
       "      <td>3</td>\n",
       "      <td>Skin_Not_Sun_Exposed_Suprapubic</td>\n",
       "      <td>ENSG00000215218</td>\n",
       "    </tr>\n",
       "    <tr>\n",
       "      <th>4</th>\n",
       "      <td>ENSG00000167371.17</td>\n",
       "      <td>PRRT2</td>\n",
       "      <td>3.381834</td>\n",
       "      <td>0.000720</td>\n",
       "      <td>2</td>\n",
       "      <td>2</td>\n",
       "      <td>Skin_Not_Sun_Exposed_Suprapubic</td>\n",
       "      <td>ENSG00000167371</td>\n",
       "    </tr>\n",
       "  </tbody>\n",
       "</table>\n",
       "</div>"
      ],
      "text/plain": [
       "                 gene gene_name    zscore    pvalue  n_snps_used  \\\n",
       "0  ENSG00000131236.16      CAP1 -3.882684  0.000103            1   \n",
       "1   ENSG00000196172.9    ZNF681 -3.710444  0.000207            1   \n",
       "2   ENSG00000280789.1     PAGR1  3.403263  0.000666            2   \n",
       "3   ENSG00000215218.3   UBE2QL1  3.385093  0.000712            3   \n",
       "4  ENSG00000167371.17     PRRT2  3.381834  0.000720            2   \n",
       "\n",
       "   n_snps_in_model                           tissue          gene_id  \n",
       "0                1  Skin_Not_Sun_Exposed_Suprapubic  ENSG00000131236  \n",
       "1                1  Skin_Not_Sun_Exposed_Suprapubic  ENSG00000196172  \n",
       "2                2  Skin_Not_Sun_Exposed_Suprapubic  ENSG00000280789  \n",
       "3                3  Skin_Not_Sun_Exposed_Suprapubic  ENSG00000215218  \n",
       "4                2  Skin_Not_Sun_Exposed_Suprapubic  ENSG00000167371  "
      ]
     },
     "execution_count": 71,
     "metadata": {},
     "output_type": "execute_result"
    }
   ],
   "source": [
    "spredixcan_dfs.head()"
   ]
  },
  {
   "cell_type": "code",
   "execution_count": 72,
   "id": "d5dbdb2e-b7eb-4665-9fd4-9ce714d6af0c",
   "metadata": {
    "execution": {
     "iopub.execute_input": "2022-08-01T14:34:32.871560Z",
     "iopub.status.busy": "2022-08-01T14:34:32.871369Z",
     "iopub.status.idle": "2022-08-01T14:34:33.041734Z",
     "shell.execute_reply": "2022-08-01T14:34:33.041028Z"
    },
    "papermill": {
     "duration": 0.191319,
     "end_time": "2022-08-01T14:34:33.043440",
     "exception": false,
     "start_time": "2022-08-01T14:34:32.852121",
     "status": "completed"
    },
    "tags": []
   },
   "outputs": [],
   "source": [
    "# leave only common genes\n",
    "spredixcan_dfs = spredixcan_dfs[\n",
    "    spredixcan_dfs[\"gene_id\"].isin(smultixcan_gene_id_common)\n",
    "].drop(columns=[\"gene_name\"])"
   ]
  },
  {
   "cell_type": "code",
   "execution_count": 73,
   "id": "8d34f99a-6b43-47aa-bb07-dfc67e169538",
   "metadata": {
    "execution": {
     "iopub.execute_input": "2022-08-01T14:34:33.120529Z",
     "iopub.status.busy": "2022-08-01T14:34:33.120338Z",
     "iopub.status.idle": "2022-08-01T14:34:33.135729Z",
     "shell.execute_reply": "2022-08-01T14:34:33.135213Z"
    },
    "papermill": {
     "duration": 0.069215,
     "end_time": "2022-08-01T14:34:33.137135",
     "exception": false,
     "start_time": "2022-08-01T14:34:33.067920",
     "status": "completed"
    },
    "tags": []
   },
   "outputs": [
    {
     "data": {
      "text/plain": [
       "(233567, 7)"
      ]
     },
     "execution_count": 73,
     "metadata": {},
     "output_type": "execute_result"
    }
   ],
   "source": [
    "spredixcan_dfs.shape"
   ]
  },
  {
   "cell_type": "markdown",
   "id": "5ecfd141-ecb8-47cf-905e-25cc1b4d3f9d",
   "metadata": {
    "papermill": {
     "duration": 0.020631,
     "end_time": "2022-08-01T14:34:33.181525",
     "exception": false,
     "start_time": "2022-08-01T14:34:33.160894",
     "status": "completed"
    },
    "tags": []
   },
   "source": [
    "### Count number of tissues available per gene"
   ]
  },
  {
   "cell_type": "code",
   "execution_count": 74,
   "id": "86fe37e1-a303-4221-a12e-3a54a04dd510",
   "metadata": {
    "execution": {
     "iopub.execute_input": "2022-08-01T14:34:33.219935Z",
     "iopub.status.busy": "2022-08-01T14:34:33.219708Z",
     "iopub.status.idle": "2022-08-01T14:34:33.300509Z",
     "shell.execute_reply": "2022-08-01T14:34:33.299777Z"
    },
    "papermill": {
     "duration": 0.101947,
     "end_time": "2022-08-01T14:34:33.301912",
     "exception": false,
     "start_time": "2022-08-01T14:34:33.199965",
     "status": "completed"
    },
    "tags": []
   },
   "outputs": [],
   "source": [
    "spredixcan_genes_n_models = spredixcan_dfs.groupby(\"gene_id\")[\"tissue\"].nunique()"
   ]
  },
  {
   "cell_type": "code",
   "execution_count": 75,
   "id": "31416d48-1e4d-463f-9a5c-34d29803c3f8",
   "metadata": {
    "execution": {
     "iopub.execute_input": "2022-08-01T14:34:33.341654Z",
     "iopub.status.busy": "2022-08-01T14:34:33.341436Z",
     "iopub.status.idle": "2022-08-01T14:34:33.356611Z",
     "shell.execute_reply": "2022-08-01T14:34:33.356095Z"
    },
    "papermill": {
     "duration": 0.035976,
     "end_time": "2022-08-01T14:34:33.357917",
     "exception": false,
     "start_time": "2022-08-01T14:34:33.321941",
     "status": "completed"
    },
    "tags": []
   },
   "outputs": [
    {
     "data": {
      "text/plain": [
       "gene_id\n",
       "ENSG00000000419     2\n",
       "ENSG00000000938    36\n",
       "ENSG00000000971    34\n",
       "ENSG00000001084    32\n",
       "ENSG00000001167    40\n",
       "                   ..\n",
       "ENSG00000278540    36\n",
       "ENSG00000278828     4\n",
       "ENSG00000278845    49\n",
       "ENSG00000281005    49\n",
       "ENSG00000282608    36\n",
       "Name: tissue, Length: 6444, dtype: int64"
      ]
     },
     "execution_count": 75,
     "metadata": {},
     "output_type": "execute_result"
    }
   ],
   "source": [
    "spredixcan_genes_n_models"
   ]
  },
  {
   "cell_type": "code",
   "execution_count": 76,
   "id": "d737ad4f-f821-4546-9a3e-6703fe264b49",
   "metadata": {
    "execution": {
     "iopub.execute_input": "2022-08-01T14:34:33.397600Z",
     "iopub.status.busy": "2022-08-01T14:34:33.397396Z",
     "iopub.status.idle": "2022-08-01T14:34:33.424463Z",
     "shell.execute_reply": "2022-08-01T14:34:33.423926Z"
    },
    "papermill": {
     "duration": 0.048073,
     "end_time": "2022-08-01T14:34:33.425777",
     "exception": false,
     "start_time": "2022-08-01T14:34:33.377704",
     "status": "completed"
    },
    "tags": []
   },
   "outputs": [],
   "source": [
    "# testing that in S-MultiXcan I get the same number of tissues per gene\n",
    "_tmp_smultixcan_results_n_models = (\n",
    "    smultixcan_results.set_index(\"gene_id\")[\"n\"].astype(int).rename(\"tissue\")\n",
    ")\n",
    "\n",
    "_cg = _tmp_smultixcan_results_n_models.index.intersection(\n",
    "    spredixcan_genes_n_models.index\n",
    ")\n",
    "_tmp_smultixcan_results_n_models = _tmp_smultixcan_results_n_models.loc[_cg]\n",
    "_spredixcan = spredixcan_genes_n_models.loc[_cg]\n",
    "\n",
    "assert _spredixcan.shape[0] == _tmp_smultixcan_results_n_models.shape[0]\n",
    "assert _spredixcan.equals(_tmp_smultixcan_results_n_models.loc[_spredixcan.index])"
   ]
  },
  {
   "cell_type": "markdown",
   "id": "904d7d30-9c2d-4c3e-b674-3f081954fe8b",
   "metadata": {
    "papermill": {
     "duration": 0.018396,
     "end_time": "2022-08-01T14:34:33.463831",
     "exception": false,
     "start_time": "2022-08-01T14:34:33.445435",
     "status": "completed"
    },
    "tags": []
   },
   "source": [
    "### Get tissues available per gene"
   ]
  },
  {
   "cell_type": "code",
   "execution_count": 77,
   "id": "cf014e81-4b4e-4c46-9265-67718b3ab08e",
   "metadata": {
    "execution": {
     "iopub.execute_input": "2022-08-01T14:34:33.504337Z",
     "iopub.status.busy": "2022-08-01T14:34:33.504123Z",
     "iopub.status.idle": "2022-08-01T14:34:33.660434Z",
     "shell.execute_reply": "2022-08-01T14:34:33.659852Z"
    },
    "papermill": {
     "duration": 0.179045,
     "end_time": "2022-08-01T14:34:33.661945",
     "exception": false,
     "start_time": "2022-08-01T14:34:33.482900",
     "status": "completed"
    },
    "tags": []
   },
   "outputs": [],
   "source": [
    "spredixcan_genes_models = spredixcan_dfs.groupby(\"gene_id\")[\"tissue\"].apply(\n",
    "    lambda x: frozenset(x.tolist())\n",
    ")"
   ]
  },
  {
   "cell_type": "code",
   "execution_count": 78,
   "id": "5df09d7f-39c9-408f-9fef-5189e8ca1c87",
   "metadata": {
    "execution": {
     "iopub.execute_input": "2022-08-01T14:34:33.700785Z",
     "iopub.status.busy": "2022-08-01T14:34:33.700546Z",
     "iopub.status.idle": "2022-08-01T14:34:33.717357Z",
     "shell.execute_reply": "2022-08-01T14:34:33.716769Z"
    },
    "papermill": {
     "duration": 0.037985,
     "end_time": "2022-08-01T14:34:33.718610",
     "exception": false,
     "start_time": "2022-08-01T14:34:33.680625",
     "status": "completed"
    },
    "tags": []
   },
   "outputs": [
    {
     "data": {
      "text/plain": [
       "gene_id\n",
       "ENSG00000000419         (Brain_Hypothalamus, Brain_Substantia_nigra)\n",
       "ENSG00000000938    (Brain_Hippocampus, Artery_Tibial, Brain_Anter...\n",
       "ENSG00000000971    (Brain_Hippocampus, Artery_Tibial, Brain_Anter...\n",
       "ENSG00000001084    (Brain_Hippocampus, Artery_Tibial, Brain_Anter...\n",
       "ENSG00000001167    (Brain_Hippocampus, Artery_Tibial, Brain_Anter...\n",
       "                                         ...                        \n",
       "ENSG00000278540    (Brain_Hippocampus, Artery_Tibial, Brain_Anter...\n",
       "ENSG00000278828    (Esophagus_Muscularis, Artery_Coronary, Adipos...\n",
       "ENSG00000278845    (Brain_Hippocampus, Artery_Tibial, Brain_Anter...\n",
       "ENSG00000281005    (Brain_Hippocampus, Artery_Tibial, Brain_Anter...\n",
       "ENSG00000282608    (Brain_Hippocampus, Artery_Tibial, Brain_Anter...\n",
       "Name: tissue, Length: 6444, dtype: object"
      ]
     },
     "execution_count": 78,
     "metadata": {},
     "output_type": "execute_result"
    }
   ],
   "source": [
    "spredixcan_genes_models"
   ]
  },
  {
   "cell_type": "code",
   "execution_count": 79,
   "id": "97c46886-5a48-4813-b890-1dcdb09ec09d",
   "metadata": {
    "execution": {
     "iopub.execute_input": "2022-08-01T14:34:33.757957Z",
     "iopub.status.busy": "2022-08-01T14:34:33.757531Z",
     "iopub.status.idle": "2022-08-01T14:34:33.771260Z",
     "shell.execute_reply": "2022-08-01T14:34:33.770857Z"
    },
    "papermill": {
     "duration": 0.034693,
     "end_time": "2022-08-01T14:34:33.772480",
     "exception": false,
     "start_time": "2022-08-01T14:34:33.737787",
     "status": "completed"
    },
    "tags": []
   },
   "outputs": [],
   "source": [
    "assert spredixcan_genes_n_models.shape[0] == spredixcan_genes_models.shape[0]"
   ]
  },
  {
   "cell_type": "code",
   "execution_count": 80,
   "id": "abc13913-a681-4297-a0e6-dde62f43c36f",
   "metadata": {
    "execution": {
     "iopub.execute_input": "2022-08-01T14:34:33.811899Z",
     "iopub.status.busy": "2022-08-01T14:34:33.811699Z",
     "iopub.status.idle": "2022-08-01T14:34:33.825437Z",
     "shell.execute_reply": "2022-08-01T14:34:33.824922Z"
    },
    "papermill": {
     "duration": 0.034928,
     "end_time": "2022-08-01T14:34:33.826757",
     "exception": false,
     "start_time": "2022-08-01T14:34:33.791829",
     "status": "completed"
    },
    "tags": []
   },
   "outputs": [],
   "source": [
    "assert spredixcan_genes_n_models.index.equals(spredixcan_genes_models.index)"
   ]
  },
  {
   "cell_type": "code",
   "execution_count": 81,
   "id": "995a02e7-b836-471b-b438-17c8c46e4fde",
   "metadata": {
    "execution": {
     "iopub.execute_input": "2022-08-01T14:34:33.867207Z",
     "iopub.status.busy": "2022-08-01T14:34:33.866992Z",
     "iopub.status.idle": "2022-08-01T14:34:33.882062Z",
     "shell.execute_reply": "2022-08-01T14:34:33.881518Z"
    },
    "papermill": {
     "duration": 0.036577,
     "end_time": "2022-08-01T14:34:33.883313",
     "exception": false,
     "start_time": "2022-08-01T14:34:33.846736",
     "status": "completed"
    },
    "tags": []
   },
   "outputs": [],
   "source": [
    "assert (spredixcan_genes_models.apply(len) <= len(prediction_model_tissues)).all()"
   ]
  },
  {
   "cell_type": "code",
   "execution_count": 82,
   "id": "0c1d0c68-1a06-480c-b6d6-d3c4fdf0f5aa",
   "metadata": {
    "execution": {
     "iopub.execute_input": "2022-08-01T14:34:33.923167Z",
     "iopub.status.busy": "2022-08-01T14:34:33.922956Z",
     "iopub.status.idle": "2022-08-01T14:34:33.939994Z",
     "shell.execute_reply": "2022-08-01T14:34:33.939401Z"
    },
    "papermill": {
     "duration": 0.038481,
     "end_time": "2022-08-01T14:34:33.941213",
     "exception": false,
     "start_time": "2022-08-01T14:34:33.902732",
     "status": "completed"
    },
    "tags": []
   },
   "outputs": [
    {
     "data": {
      "text/plain": [
       "count    6444.000000\n",
       "mean       36.245655\n",
       "std        12.962835\n",
       "min         1.000000\n",
       "25%        29.000000\n",
       "50%        41.000000\n",
       "75%        47.000000\n",
       "max        49.000000\n",
       "Name: tissue, dtype: float64"
      ]
     },
     "execution_count": 82,
     "metadata": {},
     "output_type": "execute_result"
    }
   ],
   "source": [
    "spredixcan_genes_models.apply(len).describe()"
   ]
  },
  {
   "cell_type": "code",
   "execution_count": 83,
   "id": "991b9441-6bb5-4b72-9285-5fd579875e40",
   "metadata": {
    "execution": {
     "iopub.execute_input": "2022-08-01T14:34:33.981291Z",
     "iopub.status.busy": "2022-08-01T14:34:33.981086Z",
     "iopub.status.idle": "2022-08-01T14:34:33.997063Z",
     "shell.execute_reply": "2022-08-01T14:34:33.996570Z"
    },
    "papermill": {
     "duration": 0.037152,
     "end_time": "2022-08-01T14:34:33.998397",
     "exception": false,
     "start_time": "2022-08-01T14:34:33.961245",
     "status": "completed"
    },
    "tags": []
   },
   "outputs": [],
   "source": [
    "# testing\n",
    "assert (\n",
    "    spredixcan_genes_models.loc[spredixcan_genes_n_models.index]\n",
    "    .apply(len)\n",
    "    .equals(spredixcan_genes_n_models)\n",
    ")"
   ]
  },
  {
   "cell_type": "markdown",
   "id": "3042b22d-9d88-4e21-b112-ab23cf8d24ea",
   "metadata": {
    "papermill": {
     "duration": 0.019141,
     "end_time": "2022-08-01T14:34:34.037597",
     "exception": false,
     "start_time": "2022-08-01T14:34:34.018456",
     "status": "completed"
    },
    "tags": []
   },
   "source": [
    "### Add gene name and set index"
   ]
  },
  {
   "cell_type": "code",
   "execution_count": 84,
   "id": "3b7b0e76-7aca-44bf-beff-5f1c1b6193ee",
   "metadata": {
    "execution": {
     "iopub.execute_input": "2022-08-01T14:34:34.076310Z",
     "iopub.status.busy": "2022-08-01T14:34:34.076107Z",
     "iopub.status.idle": "2022-08-01T14:34:34.090579Z",
     "shell.execute_reply": "2022-08-01T14:34:34.090055Z"
    },
    "papermill": {
     "duration": 0.03555,
     "end_time": "2022-08-01T14:34:34.091974",
     "exception": false,
     "start_time": "2022-08-01T14:34:34.056424",
     "status": "completed"
    },
    "tags": []
   },
   "outputs": [],
   "source": [
    "spredixcan_genes_models = spredixcan_genes_models.to_frame().reset_index()"
   ]
  },
  {
   "cell_type": "code",
   "execution_count": 85,
   "id": "ffab4b61-c2d4-4bcc-a147-23a4bf30f715",
   "metadata": {
    "execution": {
     "iopub.execute_input": "2022-08-01T14:34:34.132044Z",
     "iopub.status.busy": "2022-08-01T14:34:34.131829Z",
     "iopub.status.idle": "2022-08-01T14:34:34.149911Z",
     "shell.execute_reply": "2022-08-01T14:34:34.149226Z"
    },
    "papermill": {
     "duration": 0.039637,
     "end_time": "2022-08-01T14:34:34.151232",
     "exception": false,
     "start_time": "2022-08-01T14:34:34.111595",
     "status": "completed"
    },
    "tags": []
   },
   "outputs": [
    {
     "data": {
      "text/html": [
       "<div>\n",
       "<style scoped>\n",
       "    .dataframe tbody tr th:only-of-type {\n",
       "        vertical-align: middle;\n",
       "    }\n",
       "\n",
       "    .dataframe tbody tr th {\n",
       "        vertical-align: top;\n",
       "    }\n",
       "\n",
       "    .dataframe thead th {\n",
       "        text-align: right;\n",
       "    }\n",
       "</style>\n",
       "<table border=\"1\" class=\"dataframe\">\n",
       "  <thead>\n",
       "    <tr style=\"text-align: right;\">\n",
       "      <th></th>\n",
       "      <th>gene_id</th>\n",
       "      <th>tissue</th>\n",
       "    </tr>\n",
       "  </thead>\n",
       "  <tbody>\n",
       "    <tr>\n",
       "      <th>0</th>\n",
       "      <td>ENSG00000000419</td>\n",
       "      <td>(Brain_Hypothalamus, Brain_Substantia_nigra)</td>\n",
       "    </tr>\n",
       "    <tr>\n",
       "      <th>1</th>\n",
       "      <td>ENSG00000000938</td>\n",
       "      <td>(Brain_Hippocampus, Artery_Tibial, Brain_Anter...</td>\n",
       "    </tr>\n",
       "    <tr>\n",
       "      <th>2</th>\n",
       "      <td>ENSG00000000971</td>\n",
       "      <td>(Brain_Hippocampus, Artery_Tibial, Brain_Anter...</td>\n",
       "    </tr>\n",
       "    <tr>\n",
       "      <th>3</th>\n",
       "      <td>ENSG00000001084</td>\n",
       "      <td>(Brain_Hippocampus, Artery_Tibial, Brain_Anter...</td>\n",
       "    </tr>\n",
       "    <tr>\n",
       "      <th>4</th>\n",
       "      <td>ENSG00000001167</td>\n",
       "      <td>(Brain_Hippocampus, Artery_Tibial, Brain_Anter...</td>\n",
       "    </tr>\n",
       "  </tbody>\n",
       "</table>\n",
       "</div>"
      ],
      "text/plain": [
       "           gene_id                                             tissue\n",
       "0  ENSG00000000419       (Brain_Hypothalamus, Brain_Substantia_nigra)\n",
       "1  ENSG00000000938  (Brain_Hippocampus, Artery_Tibial, Brain_Anter...\n",
       "2  ENSG00000000971  (Brain_Hippocampus, Artery_Tibial, Brain_Anter...\n",
       "3  ENSG00000001084  (Brain_Hippocampus, Artery_Tibial, Brain_Anter...\n",
       "4  ENSG00000001167  (Brain_Hippocampus, Artery_Tibial, Brain_Anter..."
      ]
     },
     "execution_count": 85,
     "metadata": {},
     "output_type": "execute_result"
    }
   ],
   "source": [
    "spredixcan_genes_models.head()"
   ]
  },
  {
   "cell_type": "code",
   "execution_count": 86,
   "id": "e1cb2fe5-969f-4526-bca7-a3b8919b3509",
   "metadata": {
    "execution": {
     "iopub.execute_input": "2022-08-01T14:34:34.191019Z",
     "iopub.status.busy": "2022-08-01T14:34:34.190818Z",
     "iopub.status.idle": "2022-08-01T14:34:34.206585Z",
     "shell.execute_reply": "2022-08-01T14:34:34.206096Z"
    },
    "papermill": {
     "duration": 0.037054,
     "end_time": "2022-08-01T14:34:34.207958",
     "exception": false,
     "start_time": "2022-08-01T14:34:34.170904",
     "status": "completed"
    },
    "tags": []
   },
   "outputs": [],
   "source": [
    "spredixcan_genes_models = spredixcan_genes_models.assign(\n",
    "    gene_name=spredixcan_genes_models[\"gene_id\"].apply(\n",
    "        lambda g: Gene.GENE_ID_TO_NAME_MAP[g]\n",
    "    )\n",
    ")"
   ]
  },
  {
   "cell_type": "code",
   "execution_count": 87,
   "id": "ff078ce5-3f18-442e-a593-3326436c758e",
   "metadata": {
    "execution": {
     "iopub.execute_input": "2022-08-01T14:34:34.248899Z",
     "iopub.status.busy": "2022-08-01T14:34:34.248680Z",
     "iopub.status.idle": "2022-08-01T14:34:34.265326Z",
     "shell.execute_reply": "2022-08-01T14:34:34.264696Z"
    },
    "papermill": {
     "duration": 0.038506,
     "end_time": "2022-08-01T14:34:34.266884",
     "exception": false,
     "start_time": "2022-08-01T14:34:34.228378",
     "status": "completed"
    },
    "tags": []
   },
   "outputs": [],
   "source": [
    "spredixcan_genes_models = spredixcan_genes_models[[\"gene_id\", \"gene_name\", \"tissue\"]]"
   ]
  },
  {
   "cell_type": "code",
   "execution_count": 88,
   "id": "a65c8bf2-5ecd-4f80-a857-11f8a0c019c4",
   "metadata": {
    "execution": {
     "iopub.execute_input": "2022-08-01T14:34:34.311584Z",
     "iopub.status.busy": "2022-08-01T14:34:34.311321Z",
     "iopub.status.idle": "2022-08-01T14:34:34.325361Z",
     "shell.execute_reply": "2022-08-01T14:34:34.324853Z"
    },
    "papermill": {
     "duration": 0.036569,
     "end_time": "2022-08-01T14:34:34.326768",
     "exception": false,
     "start_time": "2022-08-01T14:34:34.290199",
     "status": "completed"
    },
    "tags": []
   },
   "outputs": [],
   "source": [
    "spredixcan_genes_models = spredixcan_genes_models.set_index(\"gene_id\")"
   ]
  },
  {
   "cell_type": "code",
   "execution_count": 89,
   "id": "af6b40b9-fc58-47a1-a1b5-4404034b008b",
   "metadata": {
    "execution": {
     "iopub.execute_input": "2022-08-01T14:34:34.368015Z",
     "iopub.status.busy": "2022-08-01T14:34:34.367438Z",
     "iopub.status.idle": "2022-08-01T14:34:34.384151Z",
     "shell.execute_reply": "2022-08-01T14:34:34.383693Z"
    },
    "papermill": {
     "duration": 0.038103,
     "end_time": "2022-08-01T14:34:34.385439",
     "exception": false,
     "start_time": "2022-08-01T14:34:34.347336",
     "status": "completed"
    },
    "tags": []
   },
   "outputs": [
    {
     "data": {
      "text/html": [
       "<div>\n",
       "<style scoped>\n",
       "    .dataframe tbody tr th:only-of-type {\n",
       "        vertical-align: middle;\n",
       "    }\n",
       "\n",
       "    .dataframe tbody tr th {\n",
       "        vertical-align: top;\n",
       "    }\n",
       "\n",
       "    .dataframe thead th {\n",
       "        text-align: right;\n",
       "    }\n",
       "</style>\n",
       "<table border=\"1\" class=\"dataframe\">\n",
       "  <thead>\n",
       "    <tr style=\"text-align: right;\">\n",
       "      <th></th>\n",
       "      <th>gene_name</th>\n",
       "      <th>tissue</th>\n",
       "    </tr>\n",
       "    <tr>\n",
       "      <th>gene_id</th>\n",
       "      <th></th>\n",
       "      <th></th>\n",
       "    </tr>\n",
       "  </thead>\n",
       "  <tbody>\n",
       "    <tr>\n",
       "      <th>ENSG00000000419</th>\n",
       "      <td>DPM1</td>\n",
       "      <td>(Brain_Hypothalamus, Brain_Substantia_nigra)</td>\n",
       "    </tr>\n",
       "    <tr>\n",
       "      <th>ENSG00000000938</th>\n",
       "      <td>FGR</td>\n",
       "      <td>(Brain_Hippocampus, Artery_Tibial, Brain_Anter...</td>\n",
       "    </tr>\n",
       "    <tr>\n",
       "      <th>ENSG00000000971</th>\n",
       "      <td>CFH</td>\n",
       "      <td>(Brain_Hippocampus, Artery_Tibial, Brain_Anter...</td>\n",
       "    </tr>\n",
       "    <tr>\n",
       "      <th>ENSG00000001084</th>\n",
       "      <td>GCLC</td>\n",
       "      <td>(Brain_Hippocampus, Artery_Tibial, Brain_Anter...</td>\n",
       "    </tr>\n",
       "    <tr>\n",
       "      <th>ENSG00000001167</th>\n",
       "      <td>NFYA</td>\n",
       "      <td>(Brain_Hippocampus, Artery_Tibial, Brain_Anter...</td>\n",
       "    </tr>\n",
       "  </tbody>\n",
       "</table>\n",
       "</div>"
      ],
      "text/plain": [
       "                gene_name                                             tissue\n",
       "gene_id                                                                     \n",
       "ENSG00000000419      DPM1       (Brain_Hypothalamus, Brain_Substantia_nigra)\n",
       "ENSG00000000938       FGR  (Brain_Hippocampus, Artery_Tibial, Brain_Anter...\n",
       "ENSG00000000971       CFH  (Brain_Hippocampus, Artery_Tibial, Brain_Anter...\n",
       "ENSG00000001084      GCLC  (Brain_Hippocampus, Artery_Tibial, Brain_Anter...\n",
       "ENSG00000001167      NFYA  (Brain_Hippocampus, Artery_Tibial, Brain_Anter..."
      ]
     },
     "execution_count": 89,
     "metadata": {},
     "output_type": "execute_result"
    }
   ],
   "source": [
    "spredixcan_genes_models.head()"
   ]
  },
  {
   "cell_type": "markdown",
   "id": "d1e67be9-9094-4a07-b89d-3a0815d503e6",
   "metadata": {
    "papermill": {
     "duration": 0.019887,
     "end_time": "2022-08-01T14:34:34.425300",
     "exception": false,
     "start_time": "2022-08-01T14:34:34.405413",
     "status": "completed"
    },
    "tags": []
   },
   "source": [
    "### Add number of tissues"
   ]
  },
  {
   "cell_type": "code",
   "execution_count": 90,
   "id": "b2702bdb-b3bc-48e6-9c3e-855924d9e74b",
   "metadata": {
    "execution": {
     "iopub.execute_input": "2022-08-01T14:34:34.465485Z",
     "iopub.status.busy": "2022-08-01T14:34:34.464754Z",
     "iopub.status.idle": "2022-08-01T14:34:34.479153Z",
     "shell.execute_reply": "2022-08-01T14:34:34.478698Z"
    },
    "papermill": {
     "duration": 0.035828,
     "end_time": "2022-08-01T14:34:34.480541",
     "exception": false,
     "start_time": "2022-08-01T14:34:34.444713",
     "status": "completed"
    },
    "tags": []
   },
   "outputs": [],
   "source": [
    "spredixcan_genes_models = spredixcan_genes_models.assign(\n",
    "    n_tissues=spredixcan_genes_models[\"tissue\"].apply(len)\n",
    ")"
   ]
  },
  {
   "cell_type": "code",
   "execution_count": 91,
   "id": "4a5eb4b8-5e11-45a3-a991-0515bd83fc03",
   "metadata": {
    "execution": {
     "iopub.execute_input": "2022-08-01T14:34:34.521426Z",
     "iopub.status.busy": "2022-08-01T14:34:34.521218Z",
     "iopub.status.idle": "2022-08-01T14:34:34.539087Z",
     "shell.execute_reply": "2022-08-01T14:34:34.538513Z"
    },
    "papermill": {
     "duration": 0.039769,
     "end_time": "2022-08-01T14:34:34.540253",
     "exception": false,
     "start_time": "2022-08-01T14:34:34.500484",
     "status": "completed"
    },
    "tags": []
   },
   "outputs": [
    {
     "data": {
      "text/html": [
       "<div>\n",
       "<style scoped>\n",
       "    .dataframe tbody tr th:only-of-type {\n",
       "        vertical-align: middle;\n",
       "    }\n",
       "\n",
       "    .dataframe tbody tr th {\n",
       "        vertical-align: top;\n",
       "    }\n",
       "\n",
       "    .dataframe thead th {\n",
       "        text-align: right;\n",
       "    }\n",
       "</style>\n",
       "<table border=\"1\" class=\"dataframe\">\n",
       "  <thead>\n",
       "    <tr style=\"text-align: right;\">\n",
       "      <th></th>\n",
       "      <th>gene_name</th>\n",
       "      <th>tissue</th>\n",
       "      <th>n_tissues</th>\n",
       "    </tr>\n",
       "    <tr>\n",
       "      <th>gene_id</th>\n",
       "      <th></th>\n",
       "      <th></th>\n",
       "      <th></th>\n",
       "    </tr>\n",
       "  </thead>\n",
       "  <tbody>\n",
       "    <tr>\n",
       "      <th>ENSG00000000419</th>\n",
       "      <td>DPM1</td>\n",
       "      <td>(Brain_Hypothalamus, Brain_Substantia_nigra)</td>\n",
       "      <td>2</td>\n",
       "    </tr>\n",
       "    <tr>\n",
       "      <th>ENSG00000000938</th>\n",
       "      <td>FGR</td>\n",
       "      <td>(Brain_Hippocampus, Artery_Tibial, Brain_Anter...</td>\n",
       "      <td>36</td>\n",
       "    </tr>\n",
       "    <tr>\n",
       "      <th>ENSG00000000971</th>\n",
       "      <td>CFH</td>\n",
       "      <td>(Brain_Hippocampus, Artery_Tibial, Brain_Anter...</td>\n",
       "      <td>34</td>\n",
       "    </tr>\n",
       "    <tr>\n",
       "      <th>ENSG00000001084</th>\n",
       "      <td>GCLC</td>\n",
       "      <td>(Brain_Hippocampus, Artery_Tibial, Brain_Anter...</td>\n",
       "      <td>32</td>\n",
       "    </tr>\n",
       "    <tr>\n",
       "      <th>ENSG00000001167</th>\n",
       "      <td>NFYA</td>\n",
       "      <td>(Brain_Hippocampus, Artery_Tibial, Brain_Anter...</td>\n",
       "      <td>40</td>\n",
       "    </tr>\n",
       "  </tbody>\n",
       "</table>\n",
       "</div>"
      ],
      "text/plain": [
       "                gene_name                                             tissue  \\\n",
       "gene_id                                                                        \n",
       "ENSG00000000419      DPM1       (Brain_Hypothalamus, Brain_Substantia_nigra)   \n",
       "ENSG00000000938       FGR  (Brain_Hippocampus, Artery_Tibial, Brain_Anter...   \n",
       "ENSG00000000971       CFH  (Brain_Hippocampus, Artery_Tibial, Brain_Anter...   \n",
       "ENSG00000001084      GCLC  (Brain_Hippocampus, Artery_Tibial, Brain_Anter...   \n",
       "ENSG00000001167      NFYA  (Brain_Hippocampus, Artery_Tibial, Brain_Anter...   \n",
       "\n",
       "                 n_tissues  \n",
       "gene_id                     \n",
       "ENSG00000000419          2  \n",
       "ENSG00000000938         36  \n",
       "ENSG00000000971         34  \n",
       "ENSG00000001084         32  \n",
       "ENSG00000001167         40  "
      ]
     },
     "execution_count": 91,
     "metadata": {},
     "output_type": "execute_result"
    }
   ],
   "source": [
    "spredixcan_genes_models.head()"
   ]
  },
  {
   "cell_type": "markdown",
   "id": "850c554f-2ace-40a3-a33a-477246bb07c7",
   "metadata": {
    "papermill": {
     "duration": 0.019726,
     "end_time": "2022-08-01T14:34:34.580532",
     "exception": false,
     "start_time": "2022-08-01T14:34:34.560806",
     "status": "completed"
    },
    "tags": []
   },
   "source": [
    "### Get gene's objects"
   ]
  },
  {
   "cell_type": "code",
   "execution_count": 92,
   "id": "dfd93711-5c91-4cb6-8561-f366e270b6b1",
   "metadata": {
    "execution": {
     "iopub.execute_input": "2022-08-01T14:34:34.620409Z",
     "iopub.status.busy": "2022-08-01T14:34:34.620203Z",
     "iopub.status.idle": "2022-08-01T14:34:34.641236Z",
     "shell.execute_reply": "2022-08-01T14:34:34.640737Z"
    },
    "papermill": {
     "duration": 0.042627,
     "end_time": "2022-08-01T14:34:34.642595",
     "exception": false,
     "start_time": "2022-08-01T14:34:34.599968",
     "status": "completed"
    },
    "tags": []
   },
   "outputs": [],
   "source": [
    "spredixcan_gene_obj = {\n",
    "    gene_id: Gene(ensembl_id=gene_id) for gene_id in spredixcan_genes_models.index\n",
    "}"
   ]
  },
  {
   "cell_type": "code",
   "execution_count": 93,
   "id": "59efbedc-0b5d-4d0b-bd82-95e74c0ba793",
   "metadata": {
    "execution": {
     "iopub.execute_input": "2022-08-01T14:34:34.685084Z",
     "iopub.status.busy": "2022-08-01T14:34:34.684878Z",
     "iopub.status.idle": "2022-08-01T14:34:34.698504Z",
     "shell.execute_reply": "2022-08-01T14:34:34.697940Z"
    },
    "papermill": {
     "duration": 0.035903,
     "end_time": "2022-08-01T14:34:34.699774",
     "exception": false,
     "start_time": "2022-08-01T14:34:34.663871",
     "status": "completed"
    },
    "tags": []
   },
   "outputs": [
    {
     "data": {
      "text/plain": [
       "6444"
      ]
     },
     "execution_count": 93,
     "metadata": {},
     "output_type": "execute_result"
    }
   ],
   "source": [
    "len(spredixcan_gene_obj)"
   ]
  },
  {
   "cell_type": "markdown",
   "id": "27ac1828-755a-424a-b416-6aef1f0c2e45",
   "metadata": {
    "papermill": {
     "duration": 0.019726,
     "end_time": "2022-08-01T14:34:34.739754",
     "exception": false,
     "start_time": "2022-08-01T14:34:34.720028",
     "status": "completed"
    },
    "tags": []
   },
   "source": [
    "### Add genes' variance captured by principal components"
   ]
  },
  {
   "cell_type": "code",
   "execution_count": 94,
   "id": "893b3418-054c-44d2-9ce0-7fa590aef00e",
   "metadata": {
    "execution": {
     "iopub.execute_input": "2022-08-01T14:34:34.780173Z",
     "iopub.status.busy": "2022-08-01T14:34:34.779724Z",
     "iopub.status.idle": "2022-08-01T14:34:34.792945Z",
     "shell.execute_reply": "2022-08-01T14:34:34.792391Z"
    },
    "papermill": {
     "duration": 0.035026,
     "end_time": "2022-08-01T14:34:34.794370",
     "exception": false,
     "start_time": "2022-08-01T14:34:34.759344",
     "status": "completed"
    },
    "tags": []
   },
   "outputs": [],
   "source": [
    "def _get_gene_pc_variance(gene_row):\n",
    "    gene_id = gene_row.name\n",
    "    gene_tissues = gene_row[\"tissue\"]\n",
    "    gene_obj = spredixcan_gene_obj[gene_id]\n",
    "\n",
    "    u, s, vt = gene_obj.get_tissues_correlations_svd(\n",
    "        tissues=gene_tissues,\n",
    "        snps_subset=gwas_variants_ids_set,\n",
    "        reference_panel=REFERENCE_PANEL,\n",
    "        model_type=EQTL_MODEL,\n",
    "        # use_covariance_matrix=True,\n",
    "    )\n",
    "\n",
    "    return s"
   ]
  },
  {
   "cell_type": "code",
   "execution_count": 95,
   "id": "083afa33-cea0-40d3-af20-94a1307a6607",
   "metadata": {
    "execution": {
     "iopub.execute_input": "2022-08-01T14:34:34.836039Z",
     "iopub.status.busy": "2022-08-01T14:34:34.835445Z",
     "iopub.status.idle": "2022-08-01T14:34:37.243633Z",
     "shell.execute_reply": "2022-08-01T14:34:37.243127Z"
    },
    "papermill": {
     "duration": 2.430147,
     "end_time": "2022-08-01T14:34:37.244839",
     "exception": false,
     "start_time": "2022-08-01T14:34:34.814692",
     "status": "completed"
    },
    "tags": []
   },
   "outputs": [
    {
     "data": {
      "text/plain": [
       "array([34.04228543,  4.46235102,  2.10095291,  2.01662842,  1.39383852])"
      ]
     },
     "execution_count": 95,
     "metadata": {},
     "output_type": "execute_result"
    }
   ],
   "source": [
    "_tmp = spredixcan_genes_models.loc[\"ENSG00000188976\"]\n",
    "_get_gene_pc_variance(_tmp)"
   ]
  },
  {
   "cell_type": "code",
   "execution_count": 96,
   "id": "80f7720d-79c9-4183-bb7e-b1480f31ed87",
   "metadata": {
    "execution": {
     "iopub.execute_input": "2022-08-01T14:34:37.297275Z",
     "iopub.status.busy": "2022-08-01T14:34:37.297087Z",
     "iopub.status.idle": "2022-08-01T15:38:56.351659Z",
     "shell.execute_reply": "2022-08-01T15:38:56.351017Z"
    },
    "papermill": {
     "duration": 3859.086857,
     "end_time": "2022-08-01T15:38:56.353140",
     "exception": false,
     "start_time": "2022-08-01T14:34:37.266283",
     "status": "completed"
    },
    "tags": []
   },
   "outputs": [],
   "source": [
    "spredixcan_genes_tissues_pc_variance = spredixcan_genes_models.apply(\n",
    "    _get_gene_pc_variance, axis=1\n",
    ")"
   ]
  },
  {
   "cell_type": "code",
   "execution_count": 97,
   "id": "621302a1-1407-4400-9282-e37798bb18b3",
   "metadata": {
    "execution": {
     "iopub.execute_input": "2022-08-01T15:38:56.405067Z",
     "iopub.status.busy": "2022-08-01T15:38:56.404904Z",
     "iopub.status.idle": "2022-08-01T15:38:56.420914Z",
     "shell.execute_reply": "2022-08-01T15:38:56.420326Z"
    },
    "papermill": {
     "duration": 0.04068,
     "end_time": "2022-08-01T15:38:56.422179",
     "exception": false,
     "start_time": "2022-08-01T15:38:56.381499",
     "status": "completed"
    },
    "tags": []
   },
   "outputs": [
    {
     "data": {
      "text/plain": [
       "gene_id\n",
       "ENSG00000000419             [1.0372585612589562, 0.9627414387410438]\n",
       "ENSG00000000938    [30.57880701512375, 2.0297326456001112, 1.4017...\n",
       "ENSG00000000971    [20.772608276639335, 8.177158142324833, 1.8646...\n",
       "ENSG00000001084    [20.97644994026909, 4.772354749306766, 2.23620...\n",
       "ENSG00000001167                                  [37.63836978240501]\n",
       "                                         ...                        \n",
       "ENSG00000278540    [30.32818460171692, 3.2291618901090953, 1.3858...\n",
       "ENSG00000278828              [3.053206216887738, 0.9467937831122616]\n",
       "ENSG00000278845              [45.592035288667724, 2.289944011540383]\n",
       "ENSG00000281005                                  [48.39224693554061]\n",
       "ENSG00000282608    [22.226039467557197, 6.465743613747885, 2.7570...\n",
       "Length: 6444, dtype: object"
      ]
     },
     "execution_count": 97,
     "metadata": {},
     "output_type": "execute_result"
    }
   ],
   "source": [
    "spredixcan_genes_tissues_pc_variance"
   ]
  },
  {
   "cell_type": "code",
   "execution_count": 98,
   "id": "9ac9e0fb-e0cc-4fea-ad01-2e76d40afb3c",
   "metadata": {
    "execution": {
     "iopub.execute_input": "2022-08-01T15:38:56.465171Z",
     "iopub.status.busy": "2022-08-01T15:38:56.464914Z",
     "iopub.status.idle": "2022-08-01T15:38:56.478649Z",
     "shell.execute_reply": "2022-08-01T15:38:56.478088Z"
    },
    "papermill": {
     "duration": 0.036804,
     "end_time": "2022-08-01T15:38:56.480151",
     "exception": false,
     "start_time": "2022-08-01T15:38:56.443347",
     "status": "completed"
    },
    "tags": []
   },
   "outputs": [],
   "source": [
    "# testing\n",
    "assert spredixcan_genes_tissues_pc_variance.loc[\n",
    "    \"ENSG00000188976\"\n",
    "].sum() == pytest.approx(44.01605629086847)\n",
    "# this is using the covariance:\n",
    "# assert spredixcan_genes_tissues_pc_variance.loc[\"ENSG00000188976\"].sum() == pytest.approx(1.1492946006449425)"
   ]
  },
  {
   "cell_type": "code",
   "execution_count": 99,
   "id": "700ed8c8-16e3-4f44-80ff-a4355349ac26",
   "metadata": {
    "execution": {
     "iopub.execute_input": "2022-08-01T15:38:56.522630Z",
     "iopub.status.busy": "2022-08-01T15:38:56.522419Z",
     "iopub.status.idle": "2022-08-01T15:38:56.538400Z",
     "shell.execute_reply": "2022-08-01T15:38:56.537878Z"
    },
    "papermill": {
     "duration": 0.039,
     "end_time": "2022-08-01T15:38:56.539780",
     "exception": false,
     "start_time": "2022-08-01T15:38:56.500780",
     "status": "completed"
    },
    "tags": []
   },
   "outputs": [],
   "source": [
    "# add to spredixcan_genes_models\n",
    "spredixcan_genes_models = spredixcan_genes_models.join(\n",
    "    spredixcan_genes_tissues_pc_variance.rename(\"tissues_pc_variances\")\n",
    ")"
   ]
  },
  {
   "cell_type": "code",
   "execution_count": 100,
   "id": "597f7dff-2425-490d-84d6-537f8bd0f147",
   "metadata": {
    "execution": {
     "iopub.execute_input": "2022-08-01T15:38:56.583051Z",
     "iopub.status.busy": "2022-08-01T15:38:56.582841Z",
     "iopub.status.idle": "2022-08-01T15:38:56.596938Z",
     "shell.execute_reply": "2022-08-01T15:38:56.596443Z"
    },
    "papermill": {
     "duration": 0.037069,
     "end_time": "2022-08-01T15:38:56.598174",
     "exception": false,
     "start_time": "2022-08-01T15:38:56.561105",
     "status": "completed"
    },
    "tags": []
   },
   "outputs": [
    {
     "data": {
      "text/plain": [
       "(6444, 4)"
      ]
     },
     "execution_count": 100,
     "metadata": {},
     "output_type": "execute_result"
    }
   ],
   "source": [
    "spredixcan_genes_models.shape"
   ]
  },
  {
   "cell_type": "code",
   "execution_count": 101,
   "id": "41bdb249-f7e3-4b07-a534-2c3e46db72dc",
   "metadata": {
    "execution": {
     "iopub.execute_input": "2022-08-01T15:38:56.641045Z",
     "iopub.status.busy": "2022-08-01T15:38:56.640831Z",
     "iopub.status.idle": "2022-08-01T15:38:56.660604Z",
     "shell.execute_reply": "2022-08-01T15:38:56.660095Z"
    },
    "papermill": {
     "duration": 0.043064,
     "end_time": "2022-08-01T15:38:56.662064",
     "exception": false,
     "start_time": "2022-08-01T15:38:56.619000",
     "status": "completed"
    },
    "tags": []
   },
   "outputs": [
    {
     "data": {
      "text/html": [
       "<div>\n",
       "<style scoped>\n",
       "    .dataframe tbody tr th:only-of-type {\n",
       "        vertical-align: middle;\n",
       "    }\n",
       "\n",
       "    .dataframe tbody tr th {\n",
       "        vertical-align: top;\n",
       "    }\n",
       "\n",
       "    .dataframe thead th {\n",
       "        text-align: right;\n",
       "    }\n",
       "</style>\n",
       "<table border=\"1\" class=\"dataframe\">\n",
       "  <thead>\n",
       "    <tr style=\"text-align: right;\">\n",
       "      <th></th>\n",
       "      <th>gene_name</th>\n",
       "      <th>tissue</th>\n",
       "      <th>n_tissues</th>\n",
       "      <th>tissues_pc_variances</th>\n",
       "    </tr>\n",
       "    <tr>\n",
       "      <th>gene_id</th>\n",
       "      <th></th>\n",
       "      <th></th>\n",
       "      <th></th>\n",
       "      <th></th>\n",
       "    </tr>\n",
       "  </thead>\n",
       "  <tbody>\n",
       "    <tr>\n",
       "      <th>ENSG00000000419</th>\n",
       "      <td>DPM1</td>\n",
       "      <td>(Brain_Hypothalamus, Brain_Substantia_nigra)</td>\n",
       "      <td>2</td>\n",
       "      <td>[1.0372585612589562, 0.9627414387410438]</td>\n",
       "    </tr>\n",
       "    <tr>\n",
       "      <th>ENSG00000000938</th>\n",
       "      <td>FGR</td>\n",
       "      <td>(Brain_Hippocampus, Artery_Tibial, Brain_Anter...</td>\n",
       "      <td>36</td>\n",
       "      <td>[30.57880701512375, 2.0297326456001112, 1.4017...</td>\n",
       "    </tr>\n",
       "    <tr>\n",
       "      <th>ENSG00000000971</th>\n",
       "      <td>CFH</td>\n",
       "      <td>(Brain_Hippocampus, Artery_Tibial, Brain_Anter...</td>\n",
       "      <td>34</td>\n",
       "      <td>[20.772608276639335, 8.177158142324833, 1.8646...</td>\n",
       "    </tr>\n",
       "    <tr>\n",
       "      <th>ENSG00000001084</th>\n",
       "      <td>GCLC</td>\n",
       "      <td>(Brain_Hippocampus, Artery_Tibial, Brain_Anter...</td>\n",
       "      <td>32</td>\n",
       "      <td>[20.97644994026909, 4.772354749306766, 2.23620...</td>\n",
       "    </tr>\n",
       "    <tr>\n",
       "      <th>ENSG00000001167</th>\n",
       "      <td>NFYA</td>\n",
       "      <td>(Brain_Hippocampus, Artery_Tibial, Brain_Anter...</td>\n",
       "      <td>40</td>\n",
       "      <td>[37.63836978240501]</td>\n",
       "    </tr>\n",
       "  </tbody>\n",
       "</table>\n",
       "</div>"
      ],
      "text/plain": [
       "                gene_name                                             tissue  \\\n",
       "gene_id                                                                        \n",
       "ENSG00000000419      DPM1       (Brain_Hypothalamus, Brain_Substantia_nigra)   \n",
       "ENSG00000000938       FGR  (Brain_Hippocampus, Artery_Tibial, Brain_Anter...   \n",
       "ENSG00000000971       CFH  (Brain_Hippocampus, Artery_Tibial, Brain_Anter...   \n",
       "ENSG00000001084      GCLC  (Brain_Hippocampus, Artery_Tibial, Brain_Anter...   \n",
       "ENSG00000001167      NFYA  (Brain_Hippocampus, Artery_Tibial, Brain_Anter...   \n",
       "\n",
       "                 n_tissues                               tissues_pc_variances  \n",
       "gene_id                                                                        \n",
       "ENSG00000000419          2           [1.0372585612589562, 0.9627414387410438]  \n",
       "ENSG00000000938         36  [30.57880701512375, 2.0297326456001112, 1.4017...  \n",
       "ENSG00000000971         34  [20.772608276639335, 8.177158142324833, 1.8646...  \n",
       "ENSG00000001084         32  [20.97644994026909, 4.772354749306766, 2.23620...  \n",
       "ENSG00000001167         40                                [37.63836978240501]  "
      ]
     },
     "execution_count": 101,
     "metadata": {},
     "output_type": "execute_result"
    }
   ],
   "source": [
    "spredixcan_genes_models.head()"
   ]
  },
  {
   "cell_type": "markdown",
   "id": "e58c08e2-6179-4d47-af1e-4f5e6e048d9d",
   "metadata": {
    "papermill": {
     "duration": 0.020933,
     "end_time": "2022-08-01T15:38:56.704006",
     "exception": false,
     "start_time": "2022-08-01T15:38:56.683073",
     "status": "completed"
    },
    "tags": []
   },
   "source": [
    "### Add genes' variance captured by principal components (covariance)"
   ]
  },
  {
   "cell_type": "code",
   "execution_count": 102,
   "id": "25a97b2a-8044-4de7-b532-7b6516d2b82c",
   "metadata": {
    "execution": {
     "iopub.execute_input": "2022-08-01T15:38:56.747563Z",
     "iopub.status.busy": "2022-08-01T15:38:56.747120Z",
     "iopub.status.idle": "2022-08-01T15:38:56.760839Z",
     "shell.execute_reply": "2022-08-01T15:38:56.760302Z"
    },
    "papermill": {
     "duration": 0.037135,
     "end_time": "2022-08-01T15:38:56.762339",
     "exception": false,
     "start_time": "2022-08-01T15:38:56.725204",
     "status": "completed"
    },
    "tags": []
   },
   "outputs": [],
   "source": [
    "def _get_gene_pc_variance(gene_row):\n",
    "    gene_id = gene_row.name\n",
    "    gene_tissues = gene_row[\"tissue\"]\n",
    "    gene_obj = spredixcan_gene_obj[gene_id]\n",
    "\n",
    "    u, s, vt = gene_obj.get_tissues_correlations_svd(\n",
    "        tissues=gene_tissues,\n",
    "        snps_subset=gwas_variants_ids_set,\n",
    "        reference_panel=REFERENCE_PANEL,\n",
    "        model_type=EQTL_MODEL,\n",
    "        use_covariance_matrix=True,\n",
    "    )\n",
    "\n",
    "    return s"
   ]
  },
  {
   "cell_type": "code",
   "execution_count": 103,
   "id": "f750ce3c-3bea-49d6-beca-9f609ae69b87",
   "metadata": {
    "execution": {
     "iopub.execute_input": "2022-08-01T15:38:56.806280Z",
     "iopub.status.busy": "2022-08-01T15:38:56.805745Z",
     "iopub.status.idle": "2022-08-01T15:38:57.173017Z",
     "shell.execute_reply": "2022-08-01T15:38:57.172498Z"
    },
    "papermill": {
     "duration": 0.390605,
     "end_time": "2022-08-01T15:38:57.174162",
     "exception": false,
     "start_time": "2022-08-01T15:38:56.783557",
     "status": "completed"
    },
    "tags": []
   },
   "outputs": [
    {
     "data": {
      "text/plain": [
       "array([0.99215632, 0.1187998 , 0.03833847])"
      ]
     },
     "execution_count": 103,
     "metadata": {},
     "output_type": "execute_result"
    }
   ],
   "source": [
    "_tmp = spredixcan_genes_models.loc[\"ENSG00000188976\"]\n",
    "_get_gene_pc_variance(_tmp)"
   ]
  },
  {
   "cell_type": "code",
   "execution_count": 104,
   "id": "6502c9ff-8f64-46f9-b94f-9a4a0f6736ba",
   "metadata": {
    "execution": {
     "iopub.execute_input": "2022-08-01T15:38:57.219241Z",
     "iopub.status.busy": "2022-08-01T15:38:57.219005Z",
     "iopub.status.idle": "2022-08-01T16:47:34.169060Z",
     "shell.execute_reply": "2022-08-01T16:47:34.168513Z"
    },
    "papermill": {
     "duration": 4116.973981,
     "end_time": "2022-08-01T16:47:34.170530",
     "exception": false,
     "start_time": "2022-08-01T15:38:57.196549",
     "status": "completed"
    },
    "tags": []
   },
   "outputs": [],
   "source": [
    "spredixcan_genes_tissues_pc_variance = spredixcan_genes_models.apply(\n",
    "    _get_gene_pc_variance, axis=1\n",
    ")"
   ]
  },
  {
   "cell_type": "code",
   "execution_count": 105,
   "id": "a647f47b-6663-4bab-9ffc-c2e92b93c654",
   "metadata": {
    "execution": {
     "iopub.execute_input": "2022-08-01T16:47:34.254512Z",
     "iopub.status.busy": "2022-08-01T16:47:34.254335Z",
     "iopub.status.idle": "2022-08-01T16:47:34.271396Z",
     "shell.execute_reply": "2022-08-01T16:47:34.270642Z"
    },
    "papermill": {
     "duration": 0.044486,
     "end_time": "2022-08-01T16:47:34.272794",
     "exception": false,
     "start_time": "2022-08-01T16:47:34.228308",
     "status": "completed"
    },
    "tags": []
   },
   "outputs": [
    {
     "data": {
      "text/plain": [
       "gene_id\n",
       "ENSG00000000419        [0.008284978865240098, 0.0007326748393412591]\n",
       "ENSG00000000938          [0.22478471249969328, 0.008813873813031786]\n",
       "ENSG00000000971    [0.196995342795801, 0.057318253163491664, 0.02...\n",
       "ENSG00000001084    [0.36578096389253933, 0.1264541371042455, 0.01...\n",
       "ENSG00000001167            [1.4787144508923993, 0.04969061838773912]\n",
       "                                         ...                        \n",
       "ENSG00000278540          [0.12964331457191375, 0.012149255372479935]\n",
       "ENSG00000278828       [0.0038984582827012834, 0.0024822589593948897]\n",
       "ENSG00000278845            [1.0985436416424623, 0.04839888608750839]\n",
       "ENSG00000281005                                 [3.7503119195560304]\n",
       "ENSG00000282608    [0.23852663455925402, 0.034896956647310455, 0....\n",
       "Length: 6444, dtype: object"
      ]
     },
     "execution_count": 105,
     "metadata": {},
     "output_type": "execute_result"
    }
   ],
   "source": [
    "spredixcan_genes_tissues_pc_variance"
   ]
  },
  {
   "cell_type": "code",
   "execution_count": 106,
   "id": "6a8d4099-1dca-4d11-a9b8-5a1119885329",
   "metadata": {
    "execution": {
     "iopub.execute_input": "2022-08-01T16:47:34.320357Z",
     "iopub.status.busy": "2022-08-01T16:47:34.320187Z",
     "iopub.status.idle": "2022-08-01T16:47:34.334068Z",
     "shell.execute_reply": "2022-08-01T16:47:34.333547Z"
    },
    "papermill": {
     "duration": 0.038888,
     "end_time": "2022-08-01T16:47:34.335477",
     "exception": false,
     "start_time": "2022-08-01T16:47:34.296589",
     "status": "completed"
    },
    "tags": []
   },
   "outputs": [],
   "source": [
    "# testing\n",
    "# assert spredixcan_genes_tissues_pc_variance.loc[\"ENSG00000188976\"].sum() == pytest.approx(44.01605629086847)\n",
    "# this is using the covariance:\n",
    "assert spredixcan_genes_tissues_pc_variance.loc[\n",
    "    \"ENSG00000188976\"\n",
    "].sum() == pytest.approx(1.1492946006449425)"
   ]
  },
  {
   "cell_type": "code",
   "execution_count": 107,
   "id": "102ed25d-6c0c-466d-be27-e75a3f03a4bb",
   "metadata": {
    "execution": {
     "iopub.execute_input": "2022-08-01T16:47:34.379257Z",
     "iopub.status.busy": "2022-08-01T16:47:34.378750Z",
     "iopub.status.idle": "2022-08-01T16:47:34.394135Z",
     "shell.execute_reply": "2022-08-01T16:47:34.393643Z"
    },
    "papermill": {
     "duration": 0.038383,
     "end_time": "2022-08-01T16:47:34.395456",
     "exception": false,
     "start_time": "2022-08-01T16:47:34.357073",
     "status": "completed"
    },
    "tags": []
   },
   "outputs": [],
   "source": [
    "# add to spredixcan_genes_models\n",
    "spredixcan_genes_models = spredixcan_genes_models.join(\n",
    "    spredixcan_genes_tissues_pc_variance.rename(\"tissues_pc_variances_cov\")\n",
    ")"
   ]
  },
  {
   "cell_type": "code",
   "execution_count": 108,
   "id": "000d6517-dc14-42a2-88ef-5e6856b293b7",
   "metadata": {
    "execution": {
     "iopub.execute_input": "2022-08-01T16:47:34.438762Z",
     "iopub.status.busy": "2022-08-01T16:47:34.438135Z",
     "iopub.status.idle": "2022-08-01T16:47:34.453661Z",
     "shell.execute_reply": "2022-08-01T16:47:34.453134Z"
    },
    "papermill": {
     "duration": 0.038298,
     "end_time": "2022-08-01T16:47:34.454787",
     "exception": false,
     "start_time": "2022-08-01T16:47:34.416489",
     "status": "completed"
    },
    "tags": []
   },
   "outputs": [
    {
     "data": {
      "text/plain": [
       "(6444, 5)"
      ]
     },
     "execution_count": 108,
     "metadata": {},
     "output_type": "execute_result"
    }
   ],
   "source": [
    "spredixcan_genes_models.shape"
   ]
  },
  {
   "cell_type": "code",
   "execution_count": 109,
   "id": "a2dd6dc7-b325-4f21-910f-6611b7d87efd",
   "metadata": {
    "execution": {
     "iopub.execute_input": "2022-08-01T16:47:34.500116Z",
     "iopub.status.busy": "2022-08-01T16:47:34.499863Z",
     "iopub.status.idle": "2022-08-01T16:47:34.521244Z",
     "shell.execute_reply": "2022-08-01T16:47:34.520776Z"
    },
    "papermill": {
     "duration": 0.045353,
     "end_time": "2022-08-01T16:47:34.522504",
     "exception": false,
     "start_time": "2022-08-01T16:47:34.477151",
     "status": "completed"
    },
    "tags": []
   },
   "outputs": [
    {
     "data": {
      "text/html": [
       "<div>\n",
       "<style scoped>\n",
       "    .dataframe tbody tr th:only-of-type {\n",
       "        vertical-align: middle;\n",
       "    }\n",
       "\n",
       "    .dataframe tbody tr th {\n",
       "        vertical-align: top;\n",
       "    }\n",
       "\n",
       "    .dataframe thead th {\n",
       "        text-align: right;\n",
       "    }\n",
       "</style>\n",
       "<table border=\"1\" class=\"dataframe\">\n",
       "  <thead>\n",
       "    <tr style=\"text-align: right;\">\n",
       "      <th></th>\n",
       "      <th>gene_name</th>\n",
       "      <th>tissue</th>\n",
       "      <th>n_tissues</th>\n",
       "      <th>tissues_pc_variances</th>\n",
       "      <th>tissues_pc_variances_cov</th>\n",
       "    </tr>\n",
       "    <tr>\n",
       "      <th>gene_id</th>\n",
       "      <th></th>\n",
       "      <th></th>\n",
       "      <th></th>\n",
       "      <th></th>\n",
       "      <th></th>\n",
       "    </tr>\n",
       "  </thead>\n",
       "  <tbody>\n",
       "    <tr>\n",
       "      <th>ENSG00000000419</th>\n",
       "      <td>DPM1</td>\n",
       "      <td>(Brain_Hypothalamus, Brain_Substantia_nigra)</td>\n",
       "      <td>2</td>\n",
       "      <td>[1.0372585612589562, 0.9627414387410438]</td>\n",
       "      <td>[0.008284978865240098, 0.0007326748393412591]</td>\n",
       "    </tr>\n",
       "    <tr>\n",
       "      <th>ENSG00000000938</th>\n",
       "      <td>FGR</td>\n",
       "      <td>(Brain_Hippocampus, Artery_Tibial, Brain_Anter...</td>\n",
       "      <td>36</td>\n",
       "      <td>[30.57880701512375, 2.0297326456001112, 1.4017...</td>\n",
       "      <td>[0.22478471249969328, 0.008813873813031786]</td>\n",
       "    </tr>\n",
       "    <tr>\n",
       "      <th>ENSG00000000971</th>\n",
       "      <td>CFH</td>\n",
       "      <td>(Brain_Hippocampus, Artery_Tibial, Brain_Anter...</td>\n",
       "      <td>34</td>\n",
       "      <td>[20.772608276639335, 8.177158142324833, 1.8646...</td>\n",
       "      <td>[0.196995342795801, 0.057318253163491664, 0.02...</td>\n",
       "    </tr>\n",
       "    <tr>\n",
       "      <th>ENSG00000001084</th>\n",
       "      <td>GCLC</td>\n",
       "      <td>(Brain_Hippocampus, Artery_Tibial, Brain_Anter...</td>\n",
       "      <td>32</td>\n",
       "      <td>[20.97644994026909, 4.772354749306766, 2.23620...</td>\n",
       "      <td>[0.36578096389253933, 0.1264541371042455, 0.01...</td>\n",
       "    </tr>\n",
       "    <tr>\n",
       "      <th>ENSG00000001167</th>\n",
       "      <td>NFYA</td>\n",
       "      <td>(Brain_Hippocampus, Artery_Tibial, Brain_Anter...</td>\n",
       "      <td>40</td>\n",
       "      <td>[37.63836978240501]</td>\n",
       "      <td>[1.4787144508923993, 0.04969061838773912]</td>\n",
       "    </tr>\n",
       "  </tbody>\n",
       "</table>\n",
       "</div>"
      ],
      "text/plain": [
       "                gene_name                                             tissue  \\\n",
       "gene_id                                                                        \n",
       "ENSG00000000419      DPM1       (Brain_Hypothalamus, Brain_Substantia_nigra)   \n",
       "ENSG00000000938       FGR  (Brain_Hippocampus, Artery_Tibial, Brain_Anter...   \n",
       "ENSG00000000971       CFH  (Brain_Hippocampus, Artery_Tibial, Brain_Anter...   \n",
       "ENSG00000001084      GCLC  (Brain_Hippocampus, Artery_Tibial, Brain_Anter...   \n",
       "ENSG00000001167      NFYA  (Brain_Hippocampus, Artery_Tibial, Brain_Anter...   \n",
       "\n",
       "                 n_tissues                               tissues_pc_variances  \\\n",
       "gene_id                                                                         \n",
       "ENSG00000000419          2           [1.0372585612589562, 0.9627414387410438]   \n",
       "ENSG00000000938         36  [30.57880701512375, 2.0297326456001112, 1.4017...   \n",
       "ENSG00000000971         34  [20.772608276639335, 8.177158142324833, 1.8646...   \n",
       "ENSG00000001084         32  [20.97644994026909, 4.772354749306766, 2.23620...   \n",
       "ENSG00000001167         40                                [37.63836978240501]   \n",
       "\n",
       "                                          tissues_pc_variances_cov  \n",
       "gene_id                                                             \n",
       "ENSG00000000419      [0.008284978865240098, 0.0007326748393412591]  \n",
       "ENSG00000000938        [0.22478471249969328, 0.008813873813031786]  \n",
       "ENSG00000000971  [0.196995342795801, 0.057318253163491664, 0.02...  \n",
       "ENSG00000001084  [0.36578096389253933, 0.1264541371042455, 0.01...  \n",
       "ENSG00000001167          [1.4787144508923993, 0.04969061838773912]  "
      ]
     },
     "execution_count": 109,
     "metadata": {},
     "output_type": "execute_result"
    }
   ],
   "source": [
    "spredixcan_genes_models.head()"
   ]
  },
  {
   "cell_type": "markdown",
   "id": "ef1c76d7-485b-4e8a-932e-fd01382d5520",
   "metadata": {
    "papermill": {
     "duration": 0.021751,
     "end_time": "2022-08-01T16:47:34.566156",
     "exception": false,
     "start_time": "2022-08-01T16:47:34.544405",
     "status": "completed"
    },
    "tags": []
   },
   "source": [
    "### Add gene variance per tissue"
   ]
  },
  {
   "cell_type": "code",
   "execution_count": 110,
   "id": "530f7941-6ad7-4a29-b9e4-a006949282e0",
   "metadata": {
    "execution": {
     "iopub.execute_input": "2022-08-01T16:47:34.610593Z",
     "iopub.status.busy": "2022-08-01T16:47:34.610093Z",
     "iopub.status.idle": "2022-08-01T16:47:34.624166Z",
     "shell.execute_reply": "2022-08-01T16:47:34.623625Z"
    },
    "papermill": {
     "duration": 0.037785,
     "end_time": "2022-08-01T16:47:34.625576",
     "exception": false,
     "start_time": "2022-08-01T16:47:34.587791",
     "status": "completed"
    },
    "tags": []
   },
   "outputs": [],
   "source": [
    "def _get_gene_variances(gene_row):\n",
    "    gene_id = gene_row.name\n",
    "    gene_tissues = gene_row[\"tissue\"]\n",
    "\n",
    "    tissue_variances = {}\n",
    "    gene_obj = spredixcan_gene_obj[gene_id]\n",
    "\n",
    "    for tissue in gene_tissues:\n",
    "        tissue_var = gene_obj.get_pred_expression_variance(\n",
    "            tissue=tissue,\n",
    "            reference_panel=REFERENCE_PANEL,\n",
    "            model_type=EQTL_MODEL,\n",
    "            snps_subset=gwas_variants_ids_set,\n",
    "        )\n",
    "\n",
    "        if tissue_var is not None:\n",
    "            tissue_variances[tissue] = tissue_var\n",
    "\n",
    "    return tissue_variances"
   ]
  },
  {
   "cell_type": "code",
   "execution_count": 111,
   "id": "01eb9e6a-4505-44e6-9e6e-9788e257f319",
   "metadata": {
    "execution": {
     "iopub.execute_input": "2022-08-01T16:47:34.670001Z",
     "iopub.status.busy": "2022-08-01T16:47:34.669787Z",
     "iopub.status.idle": "2022-08-01T16:47:34.685497Z",
     "shell.execute_reply": "2022-08-01T16:47:34.685016Z"
    },
    "papermill": {
     "duration": 0.039365,
     "end_time": "2022-08-01T16:47:34.686724",
     "exception": false,
     "start_time": "2022-08-01T16:47:34.647359",
     "status": "completed"
    },
    "tags": []
   },
   "outputs": [
    {
     "data": {
      "text/plain": [
       "{'Brain_Hypothalamus': 0.0082838613770255,\n",
       " 'Brain_Substantia_nigra': 0.0007337923275558569}"
      ]
     },
     "execution_count": 111,
     "metadata": {},
     "output_type": "execute_result"
    }
   ],
   "source": [
    "_tmp = spredixcan_genes_models.loc[\"ENSG00000000419\"]\n",
    "_get_gene_variances(_tmp)"
   ]
  },
  {
   "cell_type": "code",
   "execution_count": 112,
   "id": "447061ec-4847-4911-a1d6-8b86d15e4aac",
   "metadata": {
    "execution": {
     "iopub.execute_input": "2022-08-01T16:47:34.732021Z",
     "iopub.status.busy": "2022-08-01T16:47:34.731814Z",
     "iopub.status.idle": "2022-08-01T16:47:38.681796Z",
     "shell.execute_reply": "2022-08-01T16:47:38.681190Z"
    },
    "papermill": {
     "duration": 3.974134,
     "end_time": "2022-08-01T16:47:38.683231",
     "exception": false,
     "start_time": "2022-08-01T16:47:34.709097",
     "status": "completed"
    },
    "tags": []
   },
   "outputs": [],
   "source": [
    "spredixcan_genes_tissues_variance = spredixcan_genes_models.apply(\n",
    "    _get_gene_variances, axis=1\n",
    ")"
   ]
  },
  {
   "cell_type": "code",
   "execution_count": 113,
   "id": "816cbdd2-d667-4eaa-bbf7-335550854ee8",
   "metadata": {
    "execution": {
     "iopub.execute_input": "2022-08-01T16:47:38.730259Z",
     "iopub.status.busy": "2022-08-01T16:47:38.730046Z",
     "iopub.status.idle": "2022-08-01T16:47:38.749282Z",
     "shell.execute_reply": "2022-08-01T16:47:38.748783Z"
    },
    "papermill": {
     "duration": 0.043478,
     "end_time": "2022-08-01T16:47:38.750593",
     "exception": false,
     "start_time": "2022-08-01T16:47:38.707115",
     "status": "completed"
    },
    "tags": []
   },
   "outputs": [
    {
     "data": {
      "text/plain": [
       "gene_id\n",
       "ENSG00000000419    {'Brain_Hypothalamus': 0.0082838613770255, 'Br...\n",
       "ENSG00000000938    {'Brain_Hippocampus': 0.006367955494129906, 'A...\n",
       "ENSG00000000971    {'Brain_Hippocampus': 0.005965148549549016, 'A...\n",
       "ENSG00000001084    {'Brain_Hippocampus': 0.009716241262648275, 'A...\n",
       "ENSG00000001167    {'Brain_Hippocampus': 0.016125723366546694, 'A...\n",
       "                                         ...                        \n",
       "ENSG00000278540    {'Brain_Hippocampus': 0.003810106598614404, 'A...\n",
       "ENSG00000278828    {'Esophagus_Muscularis': 0.0028219750571598346...\n",
       "ENSG00000278845    {'Brain_Hippocampus': 0.03965092336361112, 'Ar...\n",
       "ENSG00000281005    {'Brain_Hippocampus': 0.08252181457159478, 'Ar...\n",
       "ENSG00000282608    {'Brain_Hippocampus': 0.0022477482402160683, '...\n",
       "Length: 6444, dtype: object"
      ]
     },
     "execution_count": 113,
     "metadata": {},
     "output_type": "execute_result"
    }
   ],
   "source": [
    "spredixcan_genes_tissues_variance"
   ]
  },
  {
   "cell_type": "code",
   "execution_count": 114,
   "id": "68c65eb6-15c0-494d-992f-93bc84268a59",
   "metadata": {
    "execution": {
     "iopub.execute_input": "2022-08-01T16:47:38.796670Z",
     "iopub.status.busy": "2022-08-01T16:47:38.796120Z",
     "iopub.status.idle": "2022-08-01T16:47:38.809848Z",
     "shell.execute_reply": "2022-08-01T16:47:38.809364Z"
    },
    "papermill": {
     "duration": 0.037886,
     "end_time": "2022-08-01T16:47:38.811215",
     "exception": false,
     "start_time": "2022-08-01T16:47:38.773329",
     "status": "completed"
    },
    "tags": []
   },
   "outputs": [],
   "source": [
    "# testing\n",
    "_gene_id = \"ENSG00000188976\"\n",
    "x = spredixcan_genes_tissues_variance.loc[_gene_id]\n",
    "# expected value obtained by sum of PCA eigenvalues on this gene's predicted expression\n",
    "assert np.sum(list(x.values())) == pytest.approx(1.2326202607409493)"
   ]
  },
  {
   "cell_type": "code",
   "execution_count": 115,
   "id": "1996453a-fdfc-44e9-bbdf-b83e3b3b1aee",
   "metadata": {
    "execution": {
     "iopub.execute_input": "2022-08-01T16:47:38.857011Z",
     "iopub.status.busy": "2022-08-01T16:47:38.856078Z",
     "iopub.status.idle": "2022-08-01T16:47:38.870407Z",
     "shell.execute_reply": "2022-08-01T16:47:38.869679Z"
    },
    "papermill": {
     "duration": 0.038486,
     "end_time": "2022-08-01T16:47:38.871869",
     "exception": false,
     "start_time": "2022-08-01T16:47:38.833383",
     "status": "completed"
    },
    "tags": []
   },
   "outputs": [
    {
     "data": {
      "text/plain": [
       "{'Brain_Hypothalamus': 0.0082838613770255,\n",
       " 'Brain_Substantia_nigra': 0.0007337923275558569}"
      ]
     },
     "execution_count": 115,
     "metadata": {},
     "output_type": "execute_result"
    }
   ],
   "source": [
    "# testing\n",
    "spredixcan_genes_tissues_variance.loc[\"ENSG00000000419\"]"
   ]
  },
  {
   "cell_type": "code",
   "execution_count": 116,
   "id": "62572b31-7e49-4ed0-ac1b-42552f3e264f",
   "metadata": {
    "execution": {
     "iopub.execute_input": "2022-08-01T16:47:38.916901Z",
     "iopub.status.busy": "2022-08-01T16:47:38.916714Z",
     "iopub.status.idle": "2022-08-01T16:47:38.929536Z",
     "shell.execute_reply": "2022-08-01T16:47:38.929060Z"
    },
    "papermill": {
     "duration": 0.03711,
     "end_time": "2022-08-01T16:47:38.930901",
     "exception": false,
     "start_time": "2022-08-01T16:47:38.893791",
     "status": "completed"
    },
    "tags": []
   },
   "outputs": [],
   "source": [
    "# FIXME: maybe add more tests, these differt from GTEX V8\n",
    "# # testing\n",
    "# # here values were obtained from S-PrediXcan results, where the reference panel is GTEX V8, not 1000G, so just approximations)\n",
    "# _gene_id = \"ENSG00000000419\"\n",
    "# assert spredixcan_genes_tissues_variance.loc[_gene_id][\"Brain_Substantia_nigra\"] == pytest.approx(0.0004266255268163448)\n",
    "# assert spredixcan_genes_tissues_variance.loc[_gene_id][\"Brain_Hypothalamus\"] == pytest.approx(0.011235877515236132)"
   ]
  },
  {
   "cell_type": "code",
   "execution_count": 117,
   "id": "88e42a97-801b-43a4-a829-4eaac03360b8",
   "metadata": {
    "execution": {
     "iopub.execute_input": "2022-08-01T16:47:38.976439Z",
     "iopub.status.busy": "2022-08-01T16:47:38.975733Z",
     "iopub.status.idle": "2022-08-01T16:47:38.991397Z",
     "shell.execute_reply": "2022-08-01T16:47:38.990903Z"
    },
    "papermill": {
     "duration": 0.039834,
     "end_time": "2022-08-01T16:47:38.992910",
     "exception": false,
     "start_time": "2022-08-01T16:47:38.953076",
     "status": "completed"
    },
    "tags": []
   },
   "outputs": [],
   "source": [
    "# add to spredixcan_genes_models\n",
    "spredixcan_genes_models = spredixcan_genes_models.join(\n",
    "    spredixcan_genes_tissues_variance.rename(\"tissues_variances\")\n",
    ")"
   ]
  },
  {
   "cell_type": "code",
   "execution_count": 118,
   "id": "cb177ca4-fdcb-432f-a102-9c6bd6bd7fa0",
   "metadata": {
    "execution": {
     "iopub.execute_input": "2022-08-01T16:47:39.038359Z",
     "iopub.status.busy": "2022-08-01T16:47:39.038148Z",
     "iopub.status.idle": "2022-08-01T16:47:39.052276Z",
     "shell.execute_reply": "2022-08-01T16:47:39.051534Z"
    },
    "papermill": {
     "duration": 0.038337,
     "end_time": "2022-08-01T16:47:39.053558",
     "exception": false,
     "start_time": "2022-08-01T16:47:39.015221",
     "status": "completed"
    },
    "tags": []
   },
   "outputs": [
    {
     "data": {
      "text/plain": [
       "(6444, 6)"
      ]
     },
     "execution_count": 118,
     "metadata": {},
     "output_type": "execute_result"
    }
   ],
   "source": [
    "spredixcan_genes_models.shape"
   ]
  },
  {
   "cell_type": "code",
   "execution_count": 119,
   "id": "ccabe1fa-20ae-4893-bf12-9a3359b213b8",
   "metadata": {
    "execution": {
     "iopub.execute_input": "2022-08-01T16:47:39.106809Z",
     "iopub.status.busy": "2022-08-01T16:47:39.106642Z",
     "iopub.status.idle": "2022-08-01T16:47:39.131633Z",
     "shell.execute_reply": "2022-08-01T16:47:39.130952Z"
    },
    "papermill": {
     "duration": 0.052091,
     "end_time": "2022-08-01T16:47:39.133084",
     "exception": false,
     "start_time": "2022-08-01T16:47:39.080993",
     "status": "completed"
    },
    "tags": []
   },
   "outputs": [
    {
     "data": {
      "text/html": [
       "<div>\n",
       "<style scoped>\n",
       "    .dataframe tbody tr th:only-of-type {\n",
       "        vertical-align: middle;\n",
       "    }\n",
       "\n",
       "    .dataframe tbody tr th {\n",
       "        vertical-align: top;\n",
       "    }\n",
       "\n",
       "    .dataframe thead th {\n",
       "        text-align: right;\n",
       "    }\n",
       "</style>\n",
       "<table border=\"1\" class=\"dataframe\">\n",
       "  <thead>\n",
       "    <tr style=\"text-align: right;\">\n",
       "      <th></th>\n",
       "      <th>gene_name</th>\n",
       "      <th>tissue</th>\n",
       "      <th>n_tissues</th>\n",
       "      <th>tissues_pc_variances</th>\n",
       "      <th>tissues_pc_variances_cov</th>\n",
       "      <th>tissues_variances</th>\n",
       "    </tr>\n",
       "    <tr>\n",
       "      <th>gene_id</th>\n",
       "      <th></th>\n",
       "      <th></th>\n",
       "      <th></th>\n",
       "      <th></th>\n",
       "      <th></th>\n",
       "      <th></th>\n",
       "    </tr>\n",
       "  </thead>\n",
       "  <tbody>\n",
       "    <tr>\n",
       "      <th>ENSG00000000419</th>\n",
       "      <td>DPM1</td>\n",
       "      <td>(Brain_Hypothalamus, Brain_Substantia_nigra)</td>\n",
       "      <td>2</td>\n",
       "      <td>[1.0372585612589562, 0.9627414387410438]</td>\n",
       "      <td>[0.008284978865240098, 0.0007326748393412591]</td>\n",
       "      <td>{'Brain_Hypothalamus': 0.0082838613770255, 'Br...</td>\n",
       "    </tr>\n",
       "    <tr>\n",
       "      <th>ENSG00000000938</th>\n",
       "      <td>FGR</td>\n",
       "      <td>(Brain_Hippocampus, Artery_Tibial, Brain_Anter...</td>\n",
       "      <td>36</td>\n",
       "      <td>[30.57880701512375, 2.0297326456001112, 1.4017...</td>\n",
       "      <td>[0.22478471249969328, 0.008813873813031786]</td>\n",
       "      <td>{'Brain_Hippocampus': 0.006367955494129906, 'A...</td>\n",
       "    </tr>\n",
       "    <tr>\n",
       "      <th>ENSG00000000971</th>\n",
       "      <td>CFH</td>\n",
       "      <td>(Brain_Hippocampus, Artery_Tibial, Brain_Anter...</td>\n",
       "      <td>34</td>\n",
       "      <td>[20.772608276639335, 8.177158142324833, 1.8646...</td>\n",
       "      <td>[0.196995342795801, 0.057318253163491664, 0.02...</td>\n",
       "      <td>{'Brain_Hippocampus': 0.005965148549549016, 'A...</td>\n",
       "    </tr>\n",
       "    <tr>\n",
       "      <th>ENSG00000001084</th>\n",
       "      <td>GCLC</td>\n",
       "      <td>(Brain_Hippocampus, Artery_Tibial, Brain_Anter...</td>\n",
       "      <td>32</td>\n",
       "      <td>[20.97644994026909, 4.772354749306766, 2.23620...</td>\n",
       "      <td>[0.36578096389253933, 0.1264541371042455, 0.01...</td>\n",
       "      <td>{'Brain_Hippocampus': 0.009716241262648275, 'A...</td>\n",
       "    </tr>\n",
       "    <tr>\n",
       "      <th>ENSG00000001167</th>\n",
       "      <td>NFYA</td>\n",
       "      <td>(Brain_Hippocampus, Artery_Tibial, Brain_Anter...</td>\n",
       "      <td>40</td>\n",
       "      <td>[37.63836978240501]</td>\n",
       "      <td>[1.4787144508923993, 0.04969061838773912]</td>\n",
       "      <td>{'Brain_Hippocampus': 0.016125723366546694, 'A...</td>\n",
       "    </tr>\n",
       "  </tbody>\n",
       "</table>\n",
       "</div>"
      ],
      "text/plain": [
       "                gene_name                                             tissue  \\\n",
       "gene_id                                                                        \n",
       "ENSG00000000419      DPM1       (Brain_Hypothalamus, Brain_Substantia_nigra)   \n",
       "ENSG00000000938       FGR  (Brain_Hippocampus, Artery_Tibial, Brain_Anter...   \n",
       "ENSG00000000971       CFH  (Brain_Hippocampus, Artery_Tibial, Brain_Anter...   \n",
       "ENSG00000001084      GCLC  (Brain_Hippocampus, Artery_Tibial, Brain_Anter...   \n",
       "ENSG00000001167      NFYA  (Brain_Hippocampus, Artery_Tibial, Brain_Anter...   \n",
       "\n",
       "                 n_tissues                               tissues_pc_variances  \\\n",
       "gene_id                                                                         \n",
       "ENSG00000000419          2           [1.0372585612589562, 0.9627414387410438]   \n",
       "ENSG00000000938         36  [30.57880701512375, 2.0297326456001112, 1.4017...   \n",
       "ENSG00000000971         34  [20.772608276639335, 8.177158142324833, 1.8646...   \n",
       "ENSG00000001084         32  [20.97644994026909, 4.772354749306766, 2.23620...   \n",
       "ENSG00000001167         40                                [37.63836978240501]   \n",
       "\n",
       "                                          tissues_pc_variances_cov  \\\n",
       "gene_id                                                              \n",
       "ENSG00000000419      [0.008284978865240098, 0.0007326748393412591]   \n",
       "ENSG00000000938        [0.22478471249969328, 0.008813873813031786]   \n",
       "ENSG00000000971  [0.196995342795801, 0.057318253163491664, 0.02...   \n",
       "ENSG00000001084  [0.36578096389253933, 0.1264541371042455, 0.01...   \n",
       "ENSG00000001167          [1.4787144508923993, 0.04969061838773912]   \n",
       "\n",
       "                                                 tissues_variances  \n",
       "gene_id                                                             \n",
       "ENSG00000000419  {'Brain_Hypothalamus': 0.0082838613770255, 'Br...  \n",
       "ENSG00000000938  {'Brain_Hippocampus': 0.006367955494129906, 'A...  \n",
       "ENSG00000000971  {'Brain_Hippocampus': 0.005965148549549016, 'A...  \n",
       "ENSG00000001084  {'Brain_Hippocampus': 0.009716241262648275, 'A...  \n",
       "ENSG00000001167  {'Brain_Hippocampus': 0.016125723366546694, 'A...  "
      ]
     },
     "execution_count": 119,
     "metadata": {},
     "output_type": "execute_result"
    }
   ],
   "source": [
    "spredixcan_genes_models.head()"
   ]
  },
  {
   "cell_type": "markdown",
   "id": "ab6ff41a-0949-4eea-abef-7dc4f0b373fc",
   "metadata": {
    "papermill": {
     "duration": 0.022292,
     "end_time": "2022-08-01T16:47:39.178152",
     "exception": false,
     "start_time": "2022-08-01T16:47:39.155860",
     "status": "completed"
    },
    "tags": []
   },
   "source": [
    "### Count number of SNPs predictors used across tissue models"
   ]
  },
  {
   "cell_type": "code",
   "execution_count": 120,
   "id": "c8f6cc6f-5812-45c9-b775-6f2193f8a360",
   "metadata": {
    "execution": {
     "iopub.execute_input": "2022-08-01T16:47:39.224242Z",
     "iopub.status.busy": "2022-08-01T16:47:39.223721Z",
     "iopub.status.idle": "2022-08-01T16:47:39.264114Z",
     "shell.execute_reply": "2022-08-01T16:47:39.263611Z"
    },
    "papermill": {
     "duration": 0.064941,
     "end_time": "2022-08-01T16:47:39.265481",
     "exception": false,
     "start_time": "2022-08-01T16:47:39.200540",
     "status": "completed"
    },
    "tags": []
   },
   "outputs": [],
   "source": [
    "spredixcan_genes_sum_of_n_snps_used = (\n",
    "    spredixcan_dfs.groupby(\"gene_id\")[\"n_snps_used\"].sum().rename(\"n_snps_used_sum\")\n",
    ")"
   ]
  },
  {
   "cell_type": "code",
   "execution_count": 121,
   "id": "7255df64-7b9f-4504-a4fa-1f2a9aa56ec0",
   "metadata": {
    "execution": {
     "iopub.execute_input": "2022-08-01T16:47:39.312776Z",
     "iopub.status.busy": "2022-08-01T16:47:39.312124Z",
     "iopub.status.idle": "2022-08-01T16:47:39.328631Z",
     "shell.execute_reply": "2022-08-01T16:47:39.328107Z"
    },
    "papermill": {
     "duration": 0.041269,
     "end_time": "2022-08-01T16:47:39.329851",
     "exception": false,
     "start_time": "2022-08-01T16:47:39.288582",
     "status": "completed"
    },
    "tags": []
   },
   "outputs": [
    {
     "data": {
      "text/plain": [
       "gene_id\n",
       "ENSG00000000419     2\n",
       "ENSG00000000938    40\n",
       "ENSG00000000971    44\n",
       "ENSG00000001084    46\n",
       "ENSG00000001167    47\n",
       "                   ..\n",
       "ENSG00000278540    44\n",
       "ENSG00000278828     5\n",
       "ENSG00000278845    89\n",
       "ENSG00000281005    81\n",
       "ENSG00000282608    40\n",
       "Name: n_snps_used_sum, Length: 6444, dtype: int64"
      ]
     },
     "execution_count": 121,
     "metadata": {},
     "output_type": "execute_result"
    }
   ],
   "source": [
    "spredixcan_genes_sum_of_n_snps_used"
   ]
  },
  {
   "cell_type": "code",
   "execution_count": 122,
   "id": "44bc1222-b334-4ce2-8997-494d0e584cf9",
   "metadata": {
    "execution": {
     "iopub.execute_input": "2022-08-01T16:47:39.376557Z",
     "iopub.status.busy": "2022-08-01T16:47:39.375866Z",
     "iopub.status.idle": "2022-08-01T16:47:39.391335Z",
     "shell.execute_reply": "2022-08-01T16:47:39.390817Z"
    },
    "papermill": {
     "duration": 0.040206,
     "end_time": "2022-08-01T16:47:39.392762",
     "exception": false,
     "start_time": "2022-08-01T16:47:39.352556",
     "status": "completed"
    },
    "tags": []
   },
   "outputs": [],
   "source": [
    "# add sum of snps used to spredixcan_genes_models\n",
    "spredixcan_genes_models = spredixcan_genes_models.join(\n",
    "    spredixcan_genes_sum_of_n_snps_used\n",
    ")"
   ]
  },
  {
   "cell_type": "code",
   "execution_count": 123,
   "id": "5e5e6d7f-b970-4f21-9322-b76bc22afd71",
   "metadata": {
    "execution": {
     "iopub.execute_input": "2022-08-01T16:47:39.439548Z",
     "iopub.status.busy": "2022-08-01T16:47:39.438893Z",
     "iopub.status.idle": "2022-08-01T16:47:39.453260Z",
     "shell.execute_reply": "2022-08-01T16:47:39.452626Z"
    },
    "papermill": {
     "duration": 0.039191,
     "end_time": "2022-08-01T16:47:39.454515",
     "exception": false,
     "start_time": "2022-08-01T16:47:39.415324",
     "status": "completed"
    },
    "tags": []
   },
   "outputs": [
    {
     "data": {
      "text/plain": [
       "(6444, 7)"
      ]
     },
     "execution_count": 123,
     "metadata": {},
     "output_type": "execute_result"
    }
   ],
   "source": [
    "spredixcan_genes_models.shape"
   ]
  },
  {
   "cell_type": "code",
   "execution_count": 124,
   "id": "22c096c2-213a-4001-8454-1633997d404f",
   "metadata": {
    "execution": {
     "iopub.execute_input": "2022-08-01T16:47:39.501254Z",
     "iopub.status.busy": "2022-08-01T16:47:39.501043Z",
     "iopub.status.idle": "2022-08-01T16:47:39.533209Z",
     "shell.execute_reply": "2022-08-01T16:47:39.532483Z"
    },
    "papermill": {
     "duration": 0.057685,
     "end_time": "2022-08-01T16:47:39.534919",
     "exception": false,
     "start_time": "2022-08-01T16:47:39.477234",
     "status": "completed"
    },
    "tags": []
   },
   "outputs": [
    {
     "data": {
      "text/html": [
       "<div>\n",
       "<style scoped>\n",
       "    .dataframe tbody tr th:only-of-type {\n",
       "        vertical-align: middle;\n",
       "    }\n",
       "\n",
       "    .dataframe tbody tr th {\n",
       "        vertical-align: top;\n",
       "    }\n",
       "\n",
       "    .dataframe thead th {\n",
       "        text-align: right;\n",
       "    }\n",
       "</style>\n",
       "<table border=\"1\" class=\"dataframe\">\n",
       "  <thead>\n",
       "    <tr style=\"text-align: right;\">\n",
       "      <th></th>\n",
       "      <th>gene_name</th>\n",
       "      <th>tissue</th>\n",
       "      <th>n_tissues</th>\n",
       "      <th>tissues_pc_variances</th>\n",
       "      <th>tissues_pc_variances_cov</th>\n",
       "      <th>tissues_variances</th>\n",
       "      <th>n_snps_used_sum</th>\n",
       "    </tr>\n",
       "    <tr>\n",
       "      <th>gene_id</th>\n",
       "      <th></th>\n",
       "      <th></th>\n",
       "      <th></th>\n",
       "      <th></th>\n",
       "      <th></th>\n",
       "      <th></th>\n",
       "      <th></th>\n",
       "    </tr>\n",
       "  </thead>\n",
       "  <tbody>\n",
       "    <tr>\n",
       "      <th>ENSG00000000419</th>\n",
       "      <td>DPM1</td>\n",
       "      <td>(Brain_Hypothalamus, Brain_Substantia_nigra)</td>\n",
       "      <td>2</td>\n",
       "      <td>[1.0372585612589562, 0.9627414387410438]</td>\n",
       "      <td>[0.008284978865240098, 0.0007326748393412591]</td>\n",
       "      <td>{'Brain_Hypothalamus': 0.0082838613770255, 'Br...</td>\n",
       "      <td>2</td>\n",
       "    </tr>\n",
       "    <tr>\n",
       "      <th>ENSG00000000938</th>\n",
       "      <td>FGR</td>\n",
       "      <td>(Brain_Hippocampus, Artery_Tibial, Brain_Anter...</td>\n",
       "      <td>36</td>\n",
       "      <td>[30.57880701512375, 2.0297326456001112, 1.4017...</td>\n",
       "      <td>[0.22478471249969328, 0.008813873813031786]</td>\n",
       "      <td>{'Brain_Hippocampus': 0.006367955494129906, 'A...</td>\n",
       "      <td>40</td>\n",
       "    </tr>\n",
       "    <tr>\n",
       "      <th>ENSG00000000971</th>\n",
       "      <td>CFH</td>\n",
       "      <td>(Brain_Hippocampus, Artery_Tibial, Brain_Anter...</td>\n",
       "      <td>34</td>\n",
       "      <td>[20.772608276639335, 8.177158142324833, 1.8646...</td>\n",
       "      <td>[0.196995342795801, 0.057318253163491664, 0.02...</td>\n",
       "      <td>{'Brain_Hippocampus': 0.005965148549549016, 'A...</td>\n",
       "      <td>44</td>\n",
       "    </tr>\n",
       "    <tr>\n",
       "      <th>ENSG00000001084</th>\n",
       "      <td>GCLC</td>\n",
       "      <td>(Brain_Hippocampus, Artery_Tibial, Brain_Anter...</td>\n",
       "      <td>32</td>\n",
       "      <td>[20.97644994026909, 4.772354749306766, 2.23620...</td>\n",
       "      <td>[0.36578096389253933, 0.1264541371042455, 0.01...</td>\n",
       "      <td>{'Brain_Hippocampus': 0.009716241262648275, 'A...</td>\n",
       "      <td>46</td>\n",
       "    </tr>\n",
       "    <tr>\n",
       "      <th>ENSG00000001167</th>\n",
       "      <td>NFYA</td>\n",
       "      <td>(Brain_Hippocampus, Artery_Tibial, Brain_Anter...</td>\n",
       "      <td>40</td>\n",
       "      <td>[37.63836978240501]</td>\n",
       "      <td>[1.4787144508923993, 0.04969061838773912]</td>\n",
       "      <td>{'Brain_Hippocampus': 0.016125723366546694, 'A...</td>\n",
       "      <td>47</td>\n",
       "    </tr>\n",
       "  </tbody>\n",
       "</table>\n",
       "</div>"
      ],
      "text/plain": [
       "                gene_name                                             tissue  \\\n",
       "gene_id                                                                        \n",
       "ENSG00000000419      DPM1       (Brain_Hypothalamus, Brain_Substantia_nigra)   \n",
       "ENSG00000000938       FGR  (Brain_Hippocampus, Artery_Tibial, Brain_Anter...   \n",
       "ENSG00000000971       CFH  (Brain_Hippocampus, Artery_Tibial, Brain_Anter...   \n",
       "ENSG00000001084      GCLC  (Brain_Hippocampus, Artery_Tibial, Brain_Anter...   \n",
       "ENSG00000001167      NFYA  (Brain_Hippocampus, Artery_Tibial, Brain_Anter...   \n",
       "\n",
       "                 n_tissues                               tissues_pc_variances  \\\n",
       "gene_id                                                                         \n",
       "ENSG00000000419          2           [1.0372585612589562, 0.9627414387410438]   \n",
       "ENSG00000000938         36  [30.57880701512375, 2.0297326456001112, 1.4017...   \n",
       "ENSG00000000971         34  [20.772608276639335, 8.177158142324833, 1.8646...   \n",
       "ENSG00000001084         32  [20.97644994026909, 4.772354749306766, 2.23620...   \n",
       "ENSG00000001167         40                                [37.63836978240501]   \n",
       "\n",
       "                                          tissues_pc_variances_cov  \\\n",
       "gene_id                                                              \n",
       "ENSG00000000419      [0.008284978865240098, 0.0007326748393412591]   \n",
       "ENSG00000000938        [0.22478471249969328, 0.008813873813031786]   \n",
       "ENSG00000000971  [0.196995342795801, 0.057318253163491664, 0.02...   \n",
       "ENSG00000001084  [0.36578096389253933, 0.1264541371042455, 0.01...   \n",
       "ENSG00000001167          [1.4787144508923993, 0.04969061838773912]   \n",
       "\n",
       "                                                 tissues_variances  \\\n",
       "gene_id                                                              \n",
       "ENSG00000000419  {'Brain_Hypothalamus': 0.0082838613770255, 'Br...   \n",
       "ENSG00000000938  {'Brain_Hippocampus': 0.006367955494129906, 'A...   \n",
       "ENSG00000000971  {'Brain_Hippocampus': 0.005965148549549016, 'A...   \n",
       "ENSG00000001084  {'Brain_Hippocampus': 0.009716241262648275, 'A...   \n",
       "ENSG00000001167  {'Brain_Hippocampus': 0.016125723366546694, 'A...   \n",
       "\n",
       "                 n_snps_used_sum  \n",
       "gene_id                           \n",
       "ENSG00000000419                2  \n",
       "ENSG00000000938               40  \n",
       "ENSG00000000971               44  \n",
       "ENSG00000001084               46  \n",
       "ENSG00000001167               47  "
      ]
     },
     "execution_count": 124,
     "metadata": {},
     "output_type": "execute_result"
    }
   ],
   "source": [
    "spredixcan_genes_models.head()"
   ]
  },
  {
   "cell_type": "markdown",
   "id": "f4692315-d7be-465e-b756-f6d76fec949e",
   "metadata": {
    "papermill": {
     "duration": 0.030959,
     "end_time": "2022-08-01T16:47:39.597076",
     "exception": false,
     "start_time": "2022-08-01T16:47:39.566117",
     "status": "completed"
    },
    "tags": []
   },
   "source": [
    "### Count number of SNPs predictors in models across tissue models"
   ]
  },
  {
   "cell_type": "code",
   "execution_count": 125,
   "id": "08eed385-36eb-4e42-b28e-51333f9cfcd3",
   "metadata": {
    "execution": {
     "iopub.execute_input": "2022-08-01T16:47:39.658483Z",
     "iopub.status.busy": "2022-08-01T16:47:39.658279Z",
     "iopub.status.idle": "2022-08-01T16:47:39.708614Z",
     "shell.execute_reply": "2022-08-01T16:47:39.707971Z"
    },
    "papermill": {
     "duration": 0.082754,
     "end_time": "2022-08-01T16:47:39.710250",
     "exception": false,
     "start_time": "2022-08-01T16:47:39.627496",
     "status": "completed"
    },
    "tags": []
   },
   "outputs": [],
   "source": [
    "spredixcan_genes_sum_of_n_snps_in_model = (\n",
    "    spredixcan_dfs.groupby(\"gene_id\")[\"n_snps_in_model\"]\n",
    "    .sum()\n",
    "    .rename(\"n_snps_in_model_sum\")\n",
    ")"
   ]
  },
  {
   "cell_type": "code",
   "execution_count": 126,
   "id": "10431f5c-1f56-4664-a09f-53c608bec631",
   "metadata": {
    "execution": {
     "iopub.execute_input": "2022-08-01T16:47:39.773629Z",
     "iopub.status.busy": "2022-08-01T16:47:39.773389Z",
     "iopub.status.idle": "2022-08-01T16:47:39.793906Z",
     "shell.execute_reply": "2022-08-01T16:47:39.793128Z"
    },
    "papermill": {
     "duration": 0.055645,
     "end_time": "2022-08-01T16:47:39.795403",
     "exception": false,
     "start_time": "2022-08-01T16:47:39.739758",
     "status": "completed"
    },
    "tags": []
   },
   "outputs": [
    {
     "data": {
      "text/plain": [
       "gene_id\n",
       "ENSG00000000419     2\n",
       "ENSG00000000938    40\n",
       "ENSG00000000971    44\n",
       "ENSG00000001084    46\n",
       "ENSG00000001167    48\n",
       "                   ..\n",
       "ENSG00000278540    44\n",
       "ENSG00000278828     5\n",
       "ENSG00000278845    91\n",
       "ENSG00000281005    81\n",
       "ENSG00000282608    40\n",
       "Name: n_snps_in_model_sum, Length: 6444, dtype: int64"
      ]
     },
     "execution_count": 126,
     "metadata": {},
     "output_type": "execute_result"
    }
   ],
   "source": [
    "spredixcan_genes_sum_of_n_snps_in_model"
   ]
  },
  {
   "cell_type": "code",
   "execution_count": 127,
   "id": "d13e1d65-0dcb-4a94-aba8-bcdcd09d17c3",
   "metadata": {
    "execution": {
     "iopub.execute_input": "2022-08-01T16:47:39.850350Z",
     "iopub.status.busy": "2022-08-01T16:47:39.849818Z",
     "iopub.status.idle": "2022-08-01T16:47:39.866029Z",
     "shell.execute_reply": "2022-08-01T16:47:39.865472Z"
    },
    "papermill": {
     "duration": 0.044085,
     "end_time": "2022-08-01T16:47:39.867564",
     "exception": false,
     "start_time": "2022-08-01T16:47:39.823479",
     "status": "completed"
    },
    "tags": []
   },
   "outputs": [],
   "source": [
    "# add sum of snps in model to spredixcan_genes_models\n",
    "spredixcan_genes_models = spredixcan_genes_models.join(\n",
    "    spredixcan_genes_sum_of_n_snps_in_model\n",
    ")"
   ]
  },
  {
   "cell_type": "code",
   "execution_count": 128,
   "id": "0d3973d8-5da2-4c9d-b406-2525f615035c",
   "metadata": {
    "execution": {
     "iopub.execute_input": "2022-08-01T16:47:39.917668Z",
     "iopub.status.busy": "2022-08-01T16:47:39.917111Z",
     "iopub.status.idle": "2022-08-01T16:47:39.932025Z",
     "shell.execute_reply": "2022-08-01T16:47:39.931511Z"
    },
    "papermill": {
     "duration": 0.04021,
     "end_time": "2022-08-01T16:47:39.933341",
     "exception": false,
     "start_time": "2022-08-01T16:47:39.893131",
     "status": "completed"
    },
    "tags": []
   },
   "outputs": [
    {
     "data": {
      "text/plain": [
       "(6444, 8)"
      ]
     },
     "execution_count": 128,
     "metadata": {},
     "output_type": "execute_result"
    }
   ],
   "source": [
    "spredixcan_genes_models.shape"
   ]
  },
  {
   "cell_type": "code",
   "execution_count": 129,
   "id": "76c27f05-c5c6-4ed9-9363-fcba871a3572",
   "metadata": {
    "execution": {
     "iopub.execute_input": "2022-08-01T16:47:39.981897Z",
     "iopub.status.busy": "2022-08-01T16:47:39.981199Z",
     "iopub.status.idle": "2022-08-01T16:47:40.006806Z",
     "shell.execute_reply": "2022-08-01T16:47:40.006017Z"
    },
    "papermill": {
     "duration": 0.050994,
     "end_time": "2022-08-01T16:47:40.008214",
     "exception": false,
     "start_time": "2022-08-01T16:47:39.957220",
     "status": "completed"
    },
    "tags": []
   },
   "outputs": [
    {
     "data": {
      "text/html": [
       "<div>\n",
       "<style scoped>\n",
       "    .dataframe tbody tr th:only-of-type {\n",
       "        vertical-align: middle;\n",
       "    }\n",
       "\n",
       "    .dataframe tbody tr th {\n",
       "        vertical-align: top;\n",
       "    }\n",
       "\n",
       "    .dataframe thead th {\n",
       "        text-align: right;\n",
       "    }\n",
       "</style>\n",
       "<table border=\"1\" class=\"dataframe\">\n",
       "  <thead>\n",
       "    <tr style=\"text-align: right;\">\n",
       "      <th></th>\n",
       "      <th>gene_name</th>\n",
       "      <th>tissue</th>\n",
       "      <th>n_tissues</th>\n",
       "      <th>tissues_pc_variances</th>\n",
       "      <th>tissues_pc_variances_cov</th>\n",
       "      <th>tissues_variances</th>\n",
       "      <th>n_snps_used_sum</th>\n",
       "      <th>n_snps_in_model_sum</th>\n",
       "    </tr>\n",
       "    <tr>\n",
       "      <th>gene_id</th>\n",
       "      <th></th>\n",
       "      <th></th>\n",
       "      <th></th>\n",
       "      <th></th>\n",
       "      <th></th>\n",
       "      <th></th>\n",
       "      <th></th>\n",
       "      <th></th>\n",
       "    </tr>\n",
       "  </thead>\n",
       "  <tbody>\n",
       "    <tr>\n",
       "      <th>ENSG00000000419</th>\n",
       "      <td>DPM1</td>\n",
       "      <td>(Brain_Hypothalamus, Brain_Substantia_nigra)</td>\n",
       "      <td>2</td>\n",
       "      <td>[1.0372585612589562, 0.9627414387410438]</td>\n",
       "      <td>[0.008284978865240098, 0.0007326748393412591]</td>\n",
       "      <td>{'Brain_Hypothalamus': 0.0082838613770255, 'Br...</td>\n",
       "      <td>2</td>\n",
       "      <td>2</td>\n",
       "    </tr>\n",
       "    <tr>\n",
       "      <th>ENSG00000000938</th>\n",
       "      <td>FGR</td>\n",
       "      <td>(Brain_Hippocampus, Artery_Tibial, Brain_Anter...</td>\n",
       "      <td>36</td>\n",
       "      <td>[30.57880701512375, 2.0297326456001112, 1.4017...</td>\n",
       "      <td>[0.22478471249969328, 0.008813873813031786]</td>\n",
       "      <td>{'Brain_Hippocampus': 0.006367955494129906, 'A...</td>\n",
       "      <td>40</td>\n",
       "      <td>40</td>\n",
       "    </tr>\n",
       "    <tr>\n",
       "      <th>ENSG00000000971</th>\n",
       "      <td>CFH</td>\n",
       "      <td>(Brain_Hippocampus, Artery_Tibial, Brain_Anter...</td>\n",
       "      <td>34</td>\n",
       "      <td>[20.772608276639335, 8.177158142324833, 1.8646...</td>\n",
       "      <td>[0.196995342795801, 0.057318253163491664, 0.02...</td>\n",
       "      <td>{'Brain_Hippocampus': 0.005965148549549016, 'A...</td>\n",
       "      <td>44</td>\n",
       "      <td>44</td>\n",
       "    </tr>\n",
       "    <tr>\n",
       "      <th>ENSG00000001084</th>\n",
       "      <td>GCLC</td>\n",
       "      <td>(Brain_Hippocampus, Artery_Tibial, Brain_Anter...</td>\n",
       "      <td>32</td>\n",
       "      <td>[20.97644994026909, 4.772354749306766, 2.23620...</td>\n",
       "      <td>[0.36578096389253933, 0.1264541371042455, 0.01...</td>\n",
       "      <td>{'Brain_Hippocampus': 0.009716241262648275, 'A...</td>\n",
       "      <td>46</td>\n",
       "      <td>46</td>\n",
       "    </tr>\n",
       "    <tr>\n",
       "      <th>ENSG00000001167</th>\n",
       "      <td>NFYA</td>\n",
       "      <td>(Brain_Hippocampus, Artery_Tibial, Brain_Anter...</td>\n",
       "      <td>40</td>\n",
       "      <td>[37.63836978240501]</td>\n",
       "      <td>[1.4787144508923993, 0.04969061838773912]</td>\n",
       "      <td>{'Brain_Hippocampus': 0.016125723366546694, 'A...</td>\n",
       "      <td>47</td>\n",
       "      <td>48</td>\n",
       "    </tr>\n",
       "  </tbody>\n",
       "</table>\n",
       "</div>"
      ],
      "text/plain": [
       "                gene_name                                             tissue  \\\n",
       "gene_id                                                                        \n",
       "ENSG00000000419      DPM1       (Brain_Hypothalamus, Brain_Substantia_nigra)   \n",
       "ENSG00000000938       FGR  (Brain_Hippocampus, Artery_Tibial, Brain_Anter...   \n",
       "ENSG00000000971       CFH  (Brain_Hippocampus, Artery_Tibial, Brain_Anter...   \n",
       "ENSG00000001084      GCLC  (Brain_Hippocampus, Artery_Tibial, Brain_Anter...   \n",
       "ENSG00000001167      NFYA  (Brain_Hippocampus, Artery_Tibial, Brain_Anter...   \n",
       "\n",
       "                 n_tissues                               tissues_pc_variances  \\\n",
       "gene_id                                                                         \n",
       "ENSG00000000419          2           [1.0372585612589562, 0.9627414387410438]   \n",
       "ENSG00000000938         36  [30.57880701512375, 2.0297326456001112, 1.4017...   \n",
       "ENSG00000000971         34  [20.772608276639335, 8.177158142324833, 1.8646...   \n",
       "ENSG00000001084         32  [20.97644994026909, 4.772354749306766, 2.23620...   \n",
       "ENSG00000001167         40                                [37.63836978240501]   \n",
       "\n",
       "                                          tissues_pc_variances_cov  \\\n",
       "gene_id                                                              \n",
       "ENSG00000000419      [0.008284978865240098, 0.0007326748393412591]   \n",
       "ENSG00000000938        [0.22478471249969328, 0.008813873813031786]   \n",
       "ENSG00000000971  [0.196995342795801, 0.057318253163491664, 0.02...   \n",
       "ENSG00000001084  [0.36578096389253933, 0.1264541371042455, 0.01...   \n",
       "ENSG00000001167          [1.4787144508923993, 0.04969061838773912]   \n",
       "\n",
       "                                                 tissues_variances  \\\n",
       "gene_id                                                              \n",
       "ENSG00000000419  {'Brain_Hypothalamus': 0.0082838613770255, 'Br...   \n",
       "ENSG00000000938  {'Brain_Hippocampus': 0.006367955494129906, 'A...   \n",
       "ENSG00000000971  {'Brain_Hippocampus': 0.005965148549549016, 'A...   \n",
       "ENSG00000001084  {'Brain_Hippocampus': 0.009716241262648275, 'A...   \n",
       "ENSG00000001167  {'Brain_Hippocampus': 0.016125723366546694, 'A...   \n",
       "\n",
       "                 n_snps_used_sum  n_snps_in_model_sum  \n",
       "gene_id                                                \n",
       "ENSG00000000419                2                    2  \n",
       "ENSG00000000938               40                   40  \n",
       "ENSG00000000971               44                   44  \n",
       "ENSG00000001084               46                   46  \n",
       "ENSG00000001167               47                   48  "
      ]
     },
     "execution_count": 129,
     "metadata": {},
     "output_type": "execute_result"
    }
   ],
   "source": [
    "spredixcan_genes_models.head()"
   ]
  },
  {
   "cell_type": "markdown",
   "id": "e9f61a50-a5b5-4c85-9dec-3ceaaf65c61d",
   "metadata": {
    "papermill": {
     "duration": 0.023451,
     "end_time": "2022-08-01T16:47:40.054950",
     "exception": false,
     "start_time": "2022-08-01T16:47:40.031499",
     "status": "completed"
    },
    "tags": []
   },
   "source": [
    "### Summarize prediction models for each gene"
   ]
  },
  {
   "cell_type": "code",
   "execution_count": 130,
   "id": "4f44928f-b401-4abb-ac00-3b15b2746504",
   "metadata": {
    "execution": {
     "iopub.execute_input": "2022-08-01T16:47:40.109424Z",
     "iopub.status.busy": "2022-08-01T16:47:40.108893Z",
     "iopub.status.idle": "2022-08-01T16:47:40.124652Z",
     "shell.execute_reply": "2022-08-01T16:47:40.124133Z"
    },
    "papermill": {
     "duration": 0.044499,
     "end_time": "2022-08-01T16:47:40.126006",
     "exception": false,
     "start_time": "2022-08-01T16:47:40.081507",
     "status": "completed"
    },
    "tags": []
   },
   "outputs": [],
   "source": [
    "def _summarize_gene_models(gene_id):\n",
    "    \"\"\"\n",
    "    For a given gene ID, it returns a dataframe with predictor SNPs in rows and tissues in columns, where\n",
    "    values are the weights of SNPs in those tissues.\n",
    "    It can contain NaNs.\n",
    "    \"\"\"\n",
    "    gene_obj = spredixcan_gene_obj[gene_id]\n",
    "    gene_tissues = spredixcan_genes_models.loc[gene_id, \"tissue\"]\n",
    "\n",
    "    gene_models = {}\n",
    "    gene_unique_snps = set()\n",
    "    for t in gene_tissues:\n",
    "        gene_model = gene_obj.get_prediction_weights(tissue=t, model_type=EQTL_MODEL)\n",
    "        gene_models[t] = gene_model\n",
    "\n",
    "        gene_unique_snps.update(set(gene_model.index))\n",
    "\n",
    "    df = pd.DataFrame(\n",
    "        data=np.nan, index=list(gene_unique_snps), columns=list(gene_tissues)\n",
    "    )\n",
    "\n",
    "    for t in df.columns:\n",
    "        for snp in df.index:\n",
    "            gene_model = gene_models[t]\n",
    "\n",
    "            if snp in gene_model.index:\n",
    "                df.loc[snp, t] = gene_model.loc[snp]\n",
    "\n",
    "    return df"
   ]
  },
  {
   "cell_type": "code",
   "execution_count": 131,
   "id": "71bb0b5a-fe44-4076-91df-d8077ff85c71",
   "metadata": {
    "execution": {
     "iopub.execute_input": "2022-08-01T16:47:40.174314Z",
     "iopub.status.busy": "2022-08-01T16:47:40.174115Z",
     "iopub.status.idle": "2022-08-01T16:47:40.192663Z",
     "shell.execute_reply": "2022-08-01T16:47:40.192037Z"
    },
    "papermill": {
     "duration": 0.044079,
     "end_time": "2022-08-01T16:47:40.193964",
     "exception": false,
     "start_time": "2022-08-01T16:47:40.149885",
     "status": "completed"
    },
    "tags": []
   },
   "outputs": [
    {
     "data": {
      "text/plain": [
       "varID\n",
       "chr20_50862947_C_T_b38    0.431375\n",
       "Name: weight, dtype: float64"
      ]
     },
     "execution_count": 131,
     "metadata": {},
     "output_type": "execute_result"
    }
   ],
   "source": [
    "# testing\n",
    "spredixcan_gene_obj[\"ENSG00000000419\"].get_prediction_weights(\n",
    "    tissue=\"Brain_Hypothalamus\", model_type=EQTL_MODEL\n",
    ")"
   ]
  },
  {
   "cell_type": "code",
   "execution_count": 132,
   "id": "ad18b2d9-f585-445b-a809-bd694d417a8a",
   "metadata": {
    "execution": {
     "iopub.execute_input": "2022-08-01T16:47:40.241920Z",
     "iopub.status.busy": "2022-08-01T16:47:40.241710Z",
     "iopub.status.idle": "2022-08-01T16:47:40.259825Z",
     "shell.execute_reply": "2022-08-01T16:47:40.259319Z"
    },
    "papermill": {
     "duration": 0.043487,
     "end_time": "2022-08-01T16:47:40.261019",
     "exception": false,
     "start_time": "2022-08-01T16:47:40.217532",
     "status": "completed"
    },
    "tags": []
   },
   "outputs": [
    {
     "data": {
      "text/plain": [
       "varID\n",
       "chr20_50957480_C_T_b38   -0.146796\n",
       "Name: weight, dtype: float64"
      ]
     },
     "execution_count": 132,
     "metadata": {},
     "output_type": "execute_result"
    }
   ],
   "source": [
    "spredixcan_gene_obj[\"ENSG00000000419\"].get_prediction_weights(\n",
    "    tissue=\"Brain_Substantia_nigra\", model_type=EQTL_MODEL\n",
    ")"
   ]
  },
  {
   "cell_type": "code",
   "execution_count": 133,
   "id": "82ef5dec-283c-44ee-a118-b28d87a5b298",
   "metadata": {
    "execution": {
     "iopub.execute_input": "2022-08-01T16:47:40.309671Z",
     "iopub.status.busy": "2022-08-01T16:47:40.309004Z",
     "iopub.status.idle": "2022-08-01T16:47:40.324458Z",
     "shell.execute_reply": "2022-08-01T16:47:40.323933Z"
    },
    "papermill": {
     "duration": 0.041149,
     "end_time": "2022-08-01T16:47:40.325859",
     "exception": false,
     "start_time": "2022-08-01T16:47:40.284710",
     "status": "completed"
    },
    "tags": []
   },
   "outputs": [],
   "source": [
    "# testing\n",
    "_gene_id = \"ENSG00000000419\"\n",
    "\n",
    "_gene_model = _summarize_gene_models(_gene_id)\n",
    "assert (\n",
    "    _gene_model.loc[\"chr20_50862947_C_T_b38\", \"Brain_Hypothalamus\"].round(5) == 0.43138\n",
    ")\n",
    "assert pd.isnull(_gene_model.loc[\"chr20_50957480_C_T_b38\", \"Brain_Hypothalamus\"])\n",
    "\n",
    "assert pd.isnull(_gene_model.loc[\"chr20_50862947_C_T_b38\", \"Brain_Substantia_nigra\"])\n",
    "assert (\n",
    "    _gene_model.loc[\"chr20_50957480_C_T_b38\", \"Brain_Substantia_nigra\"].round(5)\n",
    "    == -0.1468\n",
    ")"
   ]
  },
  {
   "cell_type": "code",
   "execution_count": 134,
   "id": "134a7533-69e8-4858-8763-1fd45cbdec77",
   "metadata": {
    "execution": {
     "iopub.execute_input": "2022-08-01T16:47:40.374287Z",
     "iopub.status.busy": "2022-08-01T16:47:40.373793Z",
     "iopub.status.idle": "2022-08-01T17:03:07.481630Z",
     "shell.execute_reply": "2022-08-01T17:03:07.481098Z"
    },
    "papermill": {
     "duration": 927.13368,
     "end_time": "2022-08-01T17:03:07.483112",
     "exception": false,
     "start_time": "2022-08-01T16:47:40.349432",
     "status": "completed"
    },
    "tags": []
   },
   "outputs": [],
   "source": [
    "gene_models = {}\n",
    "\n",
    "for gene_id in spredixcan_genes_models.index:\n",
    "    gene_models[gene_id] = _summarize_gene_models(gene_id)"
   ]
  },
  {
   "cell_type": "code",
   "execution_count": 135,
   "id": "97117dc0-0476-4e7b-98cb-6738dbb28c8a",
   "metadata": {
    "execution": {
     "iopub.execute_input": "2022-08-01T17:03:07.529639Z",
     "iopub.status.busy": "2022-08-01T17:03:07.529433Z",
     "iopub.status.idle": "2022-08-01T17:03:07.543561Z",
     "shell.execute_reply": "2022-08-01T17:03:07.543113Z"
    },
    "papermill": {
     "duration": 0.039073,
     "end_time": "2022-08-01T17:03:07.544799",
     "exception": false,
     "start_time": "2022-08-01T17:03:07.505726",
     "status": "completed"
    },
    "tags": []
   },
   "outputs": [],
   "source": [
    "# testing\n",
    "_gene_id = \"ENSG00000000419\"\n",
    "\n",
    "_gene_model = gene_models[_gene_id]\n",
    "assert (\n",
    "    _gene_model.loc[\"chr20_50862947_C_T_b38\", \"Brain_Hypothalamus\"].round(5) == 0.43138\n",
    ")\n",
    "assert pd.isnull(_gene_model.loc[\"chr20_50957480_C_T_b38\", \"Brain_Hypothalamus\"])\n",
    "\n",
    "assert pd.isnull(_gene_model.loc[\"chr20_50862947_C_T_b38\", \"Brain_Substantia_nigra\"])\n",
    "assert (\n",
    "    _gene_model.loc[\"chr20_50957480_C_T_b38\", \"Brain_Substantia_nigra\"].round(5)\n",
    "    == -0.1468\n",
    ")"
   ]
  },
  {
   "cell_type": "code",
   "execution_count": 136,
   "id": "806cd4a5-51b1-4ed3-8aa3-4970c128ccff",
   "metadata": {
    "execution": {
     "iopub.execute_input": "2022-08-01T17:03:07.591471Z",
     "iopub.status.busy": "2022-08-01T17:03:07.591279Z",
     "iopub.status.idle": "2022-08-01T17:03:10.236367Z",
     "shell.execute_reply": "2022-08-01T17:03:10.235757Z"
    },
    "papermill": {
     "duration": 2.670129,
     "end_time": "2022-08-01T17:03:10.237973",
     "exception": false,
     "start_time": "2022-08-01T17:03:07.567844",
     "status": "completed"
    },
    "tags": []
   },
   "outputs": [],
   "source": [
    "# save\n",
    "import gzip\n",
    "\n",
    "with gzip.GzipFile(OUTPUT_DIR_BASE / \"gene_tissues_models.pkl.gz\", \"w\") as f:\n",
    "    pickle.dump(gene_models, f)"
   ]
  },
  {
   "cell_type": "code",
   "execution_count": 137,
   "id": "a12a9597-dd0a-40a0-9a42-f288af22e0d2",
   "metadata": {
    "execution": {
     "iopub.execute_input": "2022-08-01T17:03:10.293217Z",
     "iopub.status.busy": "2022-08-01T17:03:10.293053Z",
     "iopub.status.idle": "2022-08-01T17:03:11.739492Z",
     "shell.execute_reply": "2022-08-01T17:03:11.738966Z"
    },
    "papermill": {
     "duration": 1.474281,
     "end_time": "2022-08-01T17:03:11.741015",
     "exception": false,
     "start_time": "2022-08-01T17:03:10.266734",
     "status": "completed"
    },
    "tags": []
   },
   "outputs": [],
   "source": [
    "# testing saved file\n",
    "with gzip.GzipFile(OUTPUT_DIR_BASE / \"gene_tissues_models.pkl.gz\", \"r\") as f:\n",
    "    _tmp = pickle.load(f)"
   ]
  },
  {
   "cell_type": "code",
   "execution_count": 138,
   "id": "a90a8f83-75db-4f73-8f1a-7e0563ba3685",
   "metadata": {
    "execution": {
     "iopub.execute_input": "2022-08-01T17:03:11.795362Z",
     "iopub.status.busy": "2022-08-01T17:03:11.795171Z",
     "iopub.status.idle": "2022-08-01T17:03:11.808571Z",
     "shell.execute_reply": "2022-08-01T17:03:11.808052Z"
    },
    "papermill": {
     "duration": 0.040021,
     "end_time": "2022-08-01T17:03:11.809774",
     "exception": false,
     "start_time": "2022-08-01T17:03:11.769753",
     "status": "completed"
    },
    "tags": []
   },
   "outputs": [],
   "source": [
    "assert len(gene_models) == len(_tmp)\n",
    "assert gene_models[\"ENSG00000000419\"].equals(_tmp[\"ENSG00000000419\"])"
   ]
  },
  {
   "cell_type": "markdown",
   "id": "a147f3a8-4efd-457b-9581-00cbfacd4b3d",
   "metadata": {
    "papermill": {
     "duration": 0.022252,
     "end_time": "2022-08-01T17:03:11.856439",
     "exception": false,
     "start_time": "2022-08-01T17:03:11.834187",
     "status": "completed"
    },
    "tags": []
   },
   "source": [
    "### Count number of _unique_ SNPs predictors used and available across tissue models"
   ]
  },
  {
   "cell_type": "code",
   "execution_count": 139,
   "id": "38d5bc57-3c25-4abe-93bd-09bbe200f2ef",
   "metadata": {
    "execution": {
     "iopub.execute_input": "2022-08-01T17:03:11.902213Z",
     "iopub.status.busy": "2022-08-01T17:03:11.902008Z",
     "iopub.status.idle": "2022-08-01T17:03:11.916377Z",
     "shell.execute_reply": "2022-08-01T17:03:11.915852Z"
    },
    "papermill": {
     "duration": 0.038834,
     "end_time": "2022-08-01T17:03:11.917650",
     "exception": false,
     "start_time": "2022-08-01T17:03:11.878816",
     "status": "completed"
    },
    "tags": []
   },
   "outputs": [],
   "source": [
    "def _count_unique_snps(gene_id):\n",
    "    \"\"\"\n",
    "    For a gene_id, it counts unique SNPs in all models and their intersection with GWAS SNPs (therefore, used by S-PrediXcan).\n",
    "    \"\"\"\n",
    "    gene_obj = spredixcan_gene_obj[gene_id]\n",
    "    gene_tissues = spredixcan_genes_models.loc[gene_id, \"tissue\"]\n",
    "\n",
    "    gene_unique_snps = set()\n",
    "    for t in gene_tissues:\n",
    "        t_snps = set(gene_models[gene_id].index)\n",
    "        gene_unique_snps.update(t_snps)\n",
    "\n",
    "    gene_unique_snps_in_gwas = gwas_variants_ids_set.intersection(gene_unique_snps)\n",
    "\n",
    "    return pd.Series(\n",
    "        {\n",
    "            \"unique_n_snps_in_model\": len(gene_unique_snps),\n",
    "            \"unique_n_snps_used\": len(gene_unique_snps_in_gwas),\n",
    "        }\n",
    "    )"
   ]
  },
  {
   "cell_type": "code",
   "execution_count": 140,
   "id": "059c6e02-67e2-4376-a3e5-b815070779c9",
   "metadata": {
    "execution": {
     "iopub.execute_input": "2022-08-01T17:03:11.965287Z",
     "iopub.status.busy": "2022-08-01T17:03:11.965069Z",
     "iopub.status.idle": "2022-08-01T17:03:11.989420Z",
     "shell.execute_reply": "2022-08-01T17:03:11.988938Z"
    },
    "papermill": {
     "duration": 0.049126,
     "end_time": "2022-08-01T17:03:11.990649",
     "exception": false,
     "start_time": "2022-08-01T17:03:11.941523",
     "status": "completed"
    },
    "tags": []
   },
   "outputs": [
    {
     "data": {
      "text/html": [
       "<div>\n",
       "<style scoped>\n",
       "    .dataframe tbody tr th:only-of-type {\n",
       "        vertical-align: middle;\n",
       "    }\n",
       "\n",
       "    .dataframe tbody tr th {\n",
       "        vertical-align: top;\n",
       "    }\n",
       "\n",
       "    .dataframe thead th {\n",
       "        text-align: right;\n",
       "    }\n",
       "</style>\n",
       "<table border=\"1\" class=\"dataframe\">\n",
       "  <thead>\n",
       "    <tr style=\"text-align: right;\">\n",
       "      <th></th>\n",
       "      <th>gene_name</th>\n",
       "      <th>tissue</th>\n",
       "      <th>n_tissues</th>\n",
       "      <th>tissues_pc_variances</th>\n",
       "      <th>tissues_pc_variances_cov</th>\n",
       "      <th>tissues_variances</th>\n",
       "      <th>n_snps_used_sum</th>\n",
       "      <th>n_snps_in_model_sum</th>\n",
       "    </tr>\n",
       "    <tr>\n",
       "      <th>gene_id</th>\n",
       "      <th></th>\n",
       "      <th></th>\n",
       "      <th></th>\n",
       "      <th></th>\n",
       "      <th></th>\n",
       "      <th></th>\n",
       "      <th></th>\n",
       "      <th></th>\n",
       "    </tr>\n",
       "  </thead>\n",
       "  <tbody>\n",
       "    <tr>\n",
       "      <th>ENSG00000000419</th>\n",
       "      <td>DPM1</td>\n",
       "      <td>(Brain_Hypothalamus, Brain_Substantia_nigra)</td>\n",
       "      <td>2</td>\n",
       "      <td>[1.0372585612589562, 0.9627414387410438]</td>\n",
       "      <td>[0.008284978865240098, 0.0007326748393412591]</td>\n",
       "      <td>{'Brain_Hypothalamus': 0.0082838613770255, 'Br...</td>\n",
       "      <td>2</td>\n",
       "      <td>2</td>\n",
       "    </tr>\n",
       "    <tr>\n",
       "      <th>ENSG00000010256</th>\n",
       "      <td>UQCRC1</td>\n",
       "      <td>(Thyroid, Whole_Blood)</td>\n",
       "      <td>2</td>\n",
       "      <td>[1.0093689729110555, 0.9906310270889445]</td>\n",
       "      <td>[0.0009273176884979874, 0.00020344782573448428]</td>\n",
       "      <td>{'Thyroid': 0.0009272948084506859, 'Whole_Bloo...</td>\n",
       "      <td>2</td>\n",
       "      <td>2</td>\n",
       "    </tr>\n",
       "    <tr>\n",
       "      <th>ENSG00000017427</th>\n",
       "      <td>IGF1</td>\n",
       "      <td>(Brain_Amygdala, Testis)</td>\n",
       "      <td>2</td>\n",
       "      <td>[1.0771380046097814, 0.9228619953902187]</td>\n",
       "      <td>[0.00902934458441735, 0.004240396755557003]</td>\n",
       "      <td>{'Brain_Amygdala': 0.008980998878714942, 'Test...</td>\n",
       "      <td>2</td>\n",
       "      <td>2</td>\n",
       "    </tr>\n",
       "    <tr>\n",
       "      <th>ENSG00000043093</th>\n",
       "      <td>DCUN1D1</td>\n",
       "      <td>(Esophagus_Muscularis, Esophagus_Gastroesophag...</td>\n",
       "      <td>2</td>\n",
       "      <td>[1.3868202090634627, 0.6131797909365372]</td>\n",
       "      <td>[0.0004918171518042509, 0.00015146433378921632]</td>\n",
       "      <td>{'Esophagus_Muscularis': 0.0004475469555083852...</td>\n",
       "      <td>2</td>\n",
       "      <td>2</td>\n",
       "    </tr>\n",
       "    <tr>\n",
       "      <th>ENSG00000081377</th>\n",
       "      <td>CDC14B</td>\n",
       "      <td>(Muscle_Skeletal, Brain_Nucleus_accumbens_basa...</td>\n",
       "      <td>2</td>\n",
       "      <td>[1.0605267240586365, 0.9394732759413637]</td>\n",
       "      <td>[0.014269778064730796, 0.008102106779328003]</td>\n",
       "      <td>{'Muscle_Skeletal': 0.008171820631792033, 'Bra...</td>\n",
       "      <td>2</td>\n",
       "      <td>2</td>\n",
       "    </tr>\n",
       "  </tbody>\n",
       "</table>\n",
       "</div>"
      ],
      "text/plain": [
       "                gene_name                                             tissue  \\\n",
       "gene_id                                                                        \n",
       "ENSG00000000419      DPM1       (Brain_Hypothalamus, Brain_Substantia_nigra)   \n",
       "ENSG00000010256    UQCRC1                             (Thyroid, Whole_Blood)   \n",
       "ENSG00000017427      IGF1                           (Brain_Amygdala, Testis)   \n",
       "ENSG00000043093   DCUN1D1  (Esophagus_Muscularis, Esophagus_Gastroesophag...   \n",
       "ENSG00000081377    CDC14B  (Muscle_Skeletal, Brain_Nucleus_accumbens_basa...   \n",
       "\n",
       "                 n_tissues                      tissues_pc_variances  \\\n",
       "gene_id                                                                \n",
       "ENSG00000000419          2  [1.0372585612589562, 0.9627414387410438]   \n",
       "ENSG00000010256          2  [1.0093689729110555, 0.9906310270889445]   \n",
       "ENSG00000017427          2  [1.0771380046097814, 0.9228619953902187]   \n",
       "ENSG00000043093          2  [1.3868202090634627, 0.6131797909365372]   \n",
       "ENSG00000081377          2  [1.0605267240586365, 0.9394732759413637]   \n",
       "\n",
       "                                        tissues_pc_variances_cov  \\\n",
       "gene_id                                                            \n",
       "ENSG00000000419    [0.008284978865240098, 0.0007326748393412591]   \n",
       "ENSG00000010256  [0.0009273176884979874, 0.00020344782573448428]   \n",
       "ENSG00000017427      [0.00902934458441735, 0.004240396755557003]   \n",
       "ENSG00000043093  [0.0004918171518042509, 0.00015146433378921632]   \n",
       "ENSG00000081377     [0.014269778064730796, 0.008102106779328003]   \n",
       "\n",
       "                                                 tissues_variances  \\\n",
       "gene_id                                                              \n",
       "ENSG00000000419  {'Brain_Hypothalamus': 0.0082838613770255, 'Br...   \n",
       "ENSG00000010256  {'Thyroid': 0.0009272948084506859, 'Whole_Bloo...   \n",
       "ENSG00000017427  {'Brain_Amygdala': 0.008980998878714942, 'Test...   \n",
       "ENSG00000043093  {'Esophagus_Muscularis': 0.0004475469555083852...   \n",
       "ENSG00000081377  {'Muscle_Skeletal': 0.008171820631792033, 'Bra...   \n",
       "\n",
       "                 n_snps_used_sum  n_snps_in_model_sum  \n",
       "gene_id                                                \n",
       "ENSG00000000419                2                    2  \n",
       "ENSG00000010256                2                    2  \n",
       "ENSG00000017427                2                    2  \n",
       "ENSG00000043093                2                    2  \n",
       "ENSG00000081377                2                    2  "
      ]
     },
     "execution_count": 140,
     "metadata": {},
     "output_type": "execute_result"
    }
   ],
   "source": [
    "# testing\n",
    "spredixcan_genes_models[spredixcan_genes_models[\"n_snps_used_sum\"] == 2].head()"
   ]
  },
  {
   "cell_type": "code",
   "execution_count": 141,
   "id": "4f8a444c-c3e2-4688-a50b-08481d41f614",
   "metadata": {
    "execution": {
     "iopub.execute_input": "2022-08-01T17:03:12.038391Z",
     "iopub.status.busy": "2022-08-01T17:03:12.038207Z",
     "iopub.status.idle": "2022-08-01T17:03:12.053772Z",
     "shell.execute_reply": "2022-08-01T17:03:12.053281Z"
    },
    "papermill": {
     "duration": 0.040211,
     "end_time": "2022-08-01T17:03:12.054970",
     "exception": false,
     "start_time": "2022-08-01T17:03:12.014759",
     "status": "completed"
    },
    "tags": []
   },
   "outputs": [
    {
     "data": {
      "text/plain": [
       "varID\n",
       "chr20_50862947_C_T_b38    0.431375\n",
       "Name: weight, dtype: float64"
      ]
     },
     "metadata": {},
     "output_type": "display_data"
    },
    {
     "data": {
      "text/plain": [
       "varID\n",
       "chr20_50957480_C_T_b38   -0.146796\n",
       "Name: weight, dtype: float64"
      ]
     },
     "metadata": {},
     "output_type": "display_data"
    }
   ],
   "source": [
    "# case with two snps, not repeated across tissues\n",
    "_gene_id = \"ENSG00000000419\"\n",
    "display(\n",
    "    spredixcan_gene_obj[_gene_id].get_prediction_weights(\n",
    "        tissue=\"Brain_Hypothalamus\", model_type=EQTL_MODEL\n",
    "    )\n",
    ")\n",
    "display(\n",
    "    spredixcan_gene_obj[_gene_id].get_prediction_weights(\n",
    "        tissue=\"Brain_Substantia_nigra\", model_type=EQTL_MODEL\n",
    "    )\n",
    ")"
   ]
  },
  {
   "cell_type": "code",
   "execution_count": 142,
   "id": "f835cf57-eea6-4468-aaf2-d85c8164d177",
   "metadata": {
    "execution": {
     "iopub.execute_input": "2022-08-01T17:03:12.102164Z",
     "iopub.status.busy": "2022-08-01T17:03:12.101982Z",
     "iopub.status.idle": "2022-08-01T17:03:12.139007Z",
     "shell.execute_reply": "2022-08-01T17:03:12.138408Z"
    },
    "papermill": {
     "duration": 0.062065,
     "end_time": "2022-08-01T17:03:12.140563",
     "exception": false,
     "start_time": "2022-08-01T17:03:12.078498",
     "status": "completed"
    },
    "tags": []
   },
   "outputs": [],
   "source": [
    "_tmp = _count_unique_snps(_gene_id)\n",
    "assert _tmp.shape[0] == 2\n",
    "assert _tmp[\"unique_n_snps_in_model\"] == 2\n",
    "assert _tmp[\"unique_n_snps_used\"] == 2"
   ]
  },
  {
   "cell_type": "code",
   "execution_count": 143,
   "id": "520837f6-5cdd-4958-aa98-00cd1ebab484",
   "metadata": {
    "execution": {
     "iopub.execute_input": "2022-08-01T17:03:12.196294Z",
     "iopub.status.busy": "2022-08-01T17:03:12.196102Z",
     "iopub.status.idle": "2022-08-01T17:03:14.438503Z",
     "shell.execute_reply": "2022-08-01T17:03:14.437913Z"
    },
    "papermill": {
     "duration": 2.270078,
     "end_time": "2022-08-01T17:03:14.440079",
     "exception": false,
     "start_time": "2022-08-01T17:03:12.170001",
     "status": "completed"
    },
    "tags": []
   },
   "outputs": [],
   "source": [
    "# get unique snps for all genes\n",
    "spredixcan_genes_unique_n_snps = spredixcan_genes_models.groupby(\"gene_id\").apply(\n",
    "    lambda x: _count_unique_snps(x.name)\n",
    ")"
   ]
  },
  {
   "cell_type": "code",
   "execution_count": 144,
   "id": "72633373-73d7-4796-b915-06fcb18feca0",
   "metadata": {
    "execution": {
     "iopub.execute_input": "2022-08-01T17:03:14.493469Z",
     "iopub.status.busy": "2022-08-01T17:03:14.493278Z",
     "iopub.status.idle": "2022-08-01T17:03:14.509455Z",
     "shell.execute_reply": "2022-08-01T17:03:14.508952Z"
    },
    "papermill": {
     "duration": 0.042519,
     "end_time": "2022-08-01T17:03:14.510685",
     "exception": false,
     "start_time": "2022-08-01T17:03:14.468166",
     "status": "completed"
    },
    "tags": []
   },
   "outputs": [
    {
     "data": {
      "text/html": [
       "<div>\n",
       "<style scoped>\n",
       "    .dataframe tbody tr th:only-of-type {\n",
       "        vertical-align: middle;\n",
       "    }\n",
       "\n",
       "    .dataframe tbody tr th {\n",
       "        vertical-align: top;\n",
       "    }\n",
       "\n",
       "    .dataframe thead th {\n",
       "        text-align: right;\n",
       "    }\n",
       "</style>\n",
       "<table border=\"1\" class=\"dataframe\">\n",
       "  <thead>\n",
       "    <tr style=\"text-align: right;\">\n",
       "      <th></th>\n",
       "      <th>unique_n_snps_in_model</th>\n",
       "      <th>unique_n_snps_used</th>\n",
       "    </tr>\n",
       "    <tr>\n",
       "      <th>gene_id</th>\n",
       "      <th></th>\n",
       "      <th></th>\n",
       "    </tr>\n",
       "  </thead>\n",
       "  <tbody>\n",
       "    <tr>\n",
       "      <th>ENSG00000000419</th>\n",
       "      <td>2</td>\n",
       "      <td>2</td>\n",
       "    </tr>\n",
       "    <tr>\n",
       "      <th>ENSG00000000938</th>\n",
       "      <td>5</td>\n",
       "      <td>5</td>\n",
       "    </tr>\n",
       "    <tr>\n",
       "      <th>ENSG00000000971</th>\n",
       "      <td>12</td>\n",
       "      <td>12</td>\n",
       "    </tr>\n",
       "    <tr>\n",
       "      <th>ENSG00000001084</th>\n",
       "      <td>23</td>\n",
       "      <td>23</td>\n",
       "    </tr>\n",
       "    <tr>\n",
       "      <th>ENSG00000001167</th>\n",
       "      <td>14</td>\n",
       "      <td>13</td>\n",
       "    </tr>\n",
       "  </tbody>\n",
       "</table>\n",
       "</div>"
      ],
      "text/plain": [
       "                 unique_n_snps_in_model  unique_n_snps_used\n",
       "gene_id                                                    \n",
       "ENSG00000000419                       2                   2\n",
       "ENSG00000000938                       5                   5\n",
       "ENSG00000000971                      12                  12\n",
       "ENSG00000001084                      23                  23\n",
       "ENSG00000001167                      14                  13"
      ]
     },
     "execution_count": 144,
     "metadata": {},
     "output_type": "execute_result"
    }
   ],
   "source": [
    "spredixcan_genes_unique_n_snps.head()"
   ]
  },
  {
   "cell_type": "code",
   "execution_count": 145,
   "id": "3d2b6676-2168-44b8-8d02-d29b934ba2ec",
   "metadata": {
    "execution": {
     "iopub.execute_input": "2022-08-01T17:03:14.560037Z",
     "iopub.status.busy": "2022-08-01T17:03:14.559819Z",
     "iopub.status.idle": "2022-08-01T17:03:14.573850Z",
     "shell.execute_reply": "2022-08-01T17:03:14.573254Z"
    },
    "papermill": {
     "duration": 0.039092,
     "end_time": "2022-08-01T17:03:14.575152",
     "exception": false,
     "start_time": "2022-08-01T17:03:14.536060",
     "status": "completed"
    },
    "tags": []
   },
   "outputs": [],
   "source": [
    "assert (\n",
    "    spredixcan_genes_unique_n_snps[\"unique_n_snps_in_model\"]\n",
    "    >= spredixcan_genes_unique_n_snps[\"unique_n_snps_used\"]\n",
    ").all()"
   ]
  },
  {
   "cell_type": "code",
   "execution_count": 146,
   "id": "6accf2fe-93fe-4f7c-86ff-5f0ea3d17e11",
   "metadata": {
    "execution": {
     "iopub.execute_input": "2022-08-01T17:03:14.622960Z",
     "iopub.status.busy": "2022-08-01T17:03:14.622742Z",
     "iopub.status.idle": "2022-08-01T17:03:14.639939Z",
     "shell.execute_reply": "2022-08-01T17:03:14.639262Z"
    },
    "papermill": {
     "duration": 0.042252,
     "end_time": "2022-08-01T17:03:14.641444",
     "exception": false,
     "start_time": "2022-08-01T17:03:14.599192",
     "status": "completed"
    },
    "tags": []
   },
   "outputs": [],
   "source": [
    "# add unique snps to spredixcan_genes_models\n",
    "spredixcan_genes_models = spredixcan_genes_models.join(spredixcan_genes_unique_n_snps)"
   ]
  },
  {
   "cell_type": "code",
   "execution_count": 147,
   "id": "25a28358-843b-4421-9d8f-8edc41f016e3",
   "metadata": {
    "execution": {
     "iopub.execute_input": "2022-08-01T17:03:14.693419Z",
     "iopub.status.busy": "2022-08-01T17:03:14.693214Z",
     "iopub.status.idle": "2022-08-01T17:03:14.708456Z",
     "shell.execute_reply": "2022-08-01T17:03:14.707873Z"
    },
    "papermill": {
     "duration": 0.040844,
     "end_time": "2022-08-01T17:03:14.709972",
     "exception": false,
     "start_time": "2022-08-01T17:03:14.669128",
     "status": "completed"
    },
    "tags": []
   },
   "outputs": [
    {
     "data": {
      "text/plain": [
       "(6444, 10)"
      ]
     },
     "execution_count": 147,
     "metadata": {},
     "output_type": "execute_result"
    }
   ],
   "source": [
    "spredixcan_genes_models.shape"
   ]
  },
  {
   "cell_type": "code",
   "execution_count": 148,
   "id": "ae4f0cd6-a823-4f55-82cf-1a78f0392acf",
   "metadata": {
    "execution": {
     "iopub.execute_input": "2022-08-01T17:03:14.768135Z",
     "iopub.status.busy": "2022-08-01T17:03:14.767970Z",
     "iopub.status.idle": "2022-08-01T17:03:14.794558Z",
     "shell.execute_reply": "2022-08-01T17:03:14.793913Z"
    },
    "papermill": {
     "duration": 0.055347,
     "end_time": "2022-08-01T17:03:14.795875",
     "exception": false,
     "start_time": "2022-08-01T17:03:14.740528",
     "status": "completed"
    },
    "tags": []
   },
   "outputs": [
    {
     "data": {
      "text/html": [
       "<div>\n",
       "<style scoped>\n",
       "    .dataframe tbody tr th:only-of-type {\n",
       "        vertical-align: middle;\n",
       "    }\n",
       "\n",
       "    .dataframe tbody tr th {\n",
       "        vertical-align: top;\n",
       "    }\n",
       "\n",
       "    .dataframe thead th {\n",
       "        text-align: right;\n",
       "    }\n",
       "</style>\n",
       "<table border=\"1\" class=\"dataframe\">\n",
       "  <thead>\n",
       "    <tr style=\"text-align: right;\">\n",
       "      <th></th>\n",
       "      <th>gene_name</th>\n",
       "      <th>tissue</th>\n",
       "      <th>n_tissues</th>\n",
       "      <th>tissues_pc_variances</th>\n",
       "      <th>tissues_pc_variances_cov</th>\n",
       "      <th>tissues_variances</th>\n",
       "      <th>n_snps_used_sum</th>\n",
       "      <th>n_snps_in_model_sum</th>\n",
       "      <th>unique_n_snps_in_model</th>\n",
       "      <th>unique_n_snps_used</th>\n",
       "    </tr>\n",
       "    <tr>\n",
       "      <th>gene_id</th>\n",
       "      <th></th>\n",
       "      <th></th>\n",
       "      <th></th>\n",
       "      <th></th>\n",
       "      <th></th>\n",
       "      <th></th>\n",
       "      <th></th>\n",
       "      <th></th>\n",
       "      <th></th>\n",
       "      <th></th>\n",
       "    </tr>\n",
       "  </thead>\n",
       "  <tbody>\n",
       "    <tr>\n",
       "      <th>ENSG00000000419</th>\n",
       "      <td>DPM1</td>\n",
       "      <td>(Brain_Hypothalamus, Brain_Substantia_nigra)</td>\n",
       "      <td>2</td>\n",
       "      <td>[1.0372585612589562, 0.9627414387410438]</td>\n",
       "      <td>[0.008284978865240098, 0.0007326748393412591]</td>\n",
       "      <td>{'Brain_Hypothalamus': 0.0082838613770255, 'Br...</td>\n",
       "      <td>2</td>\n",
       "      <td>2</td>\n",
       "      <td>2</td>\n",
       "      <td>2</td>\n",
       "    </tr>\n",
       "    <tr>\n",
       "      <th>ENSG00000000938</th>\n",
       "      <td>FGR</td>\n",
       "      <td>(Brain_Hippocampus, Artery_Tibial, Brain_Anter...</td>\n",
       "      <td>36</td>\n",
       "      <td>[30.57880701512375, 2.0297326456001112, 1.4017...</td>\n",
       "      <td>[0.22478471249969328, 0.008813873813031786]</td>\n",
       "      <td>{'Brain_Hippocampus': 0.006367955494129906, 'A...</td>\n",
       "      <td>40</td>\n",
       "      <td>40</td>\n",
       "      <td>5</td>\n",
       "      <td>5</td>\n",
       "    </tr>\n",
       "    <tr>\n",
       "      <th>ENSG00000000971</th>\n",
       "      <td>CFH</td>\n",
       "      <td>(Brain_Hippocampus, Artery_Tibial, Brain_Anter...</td>\n",
       "      <td>34</td>\n",
       "      <td>[20.772608276639335, 8.177158142324833, 1.8646...</td>\n",
       "      <td>[0.196995342795801, 0.057318253163491664, 0.02...</td>\n",
       "      <td>{'Brain_Hippocampus': 0.005965148549549016, 'A...</td>\n",
       "      <td>44</td>\n",
       "      <td>44</td>\n",
       "      <td>12</td>\n",
       "      <td>12</td>\n",
       "    </tr>\n",
       "    <tr>\n",
       "      <th>ENSG00000001084</th>\n",
       "      <td>GCLC</td>\n",
       "      <td>(Brain_Hippocampus, Artery_Tibial, Brain_Anter...</td>\n",
       "      <td>32</td>\n",
       "      <td>[20.97644994026909, 4.772354749306766, 2.23620...</td>\n",
       "      <td>[0.36578096389253933, 0.1264541371042455, 0.01...</td>\n",
       "      <td>{'Brain_Hippocampus': 0.009716241262648275, 'A...</td>\n",
       "      <td>46</td>\n",
       "      <td>46</td>\n",
       "      <td>23</td>\n",
       "      <td>23</td>\n",
       "    </tr>\n",
       "    <tr>\n",
       "      <th>ENSG00000001167</th>\n",
       "      <td>NFYA</td>\n",
       "      <td>(Brain_Hippocampus, Artery_Tibial, Brain_Anter...</td>\n",
       "      <td>40</td>\n",
       "      <td>[37.63836978240501]</td>\n",
       "      <td>[1.4787144508923993, 0.04969061838773912]</td>\n",
       "      <td>{'Brain_Hippocampus': 0.016125723366546694, 'A...</td>\n",
       "      <td>47</td>\n",
       "      <td>48</td>\n",
       "      <td>14</td>\n",
       "      <td>13</td>\n",
       "    </tr>\n",
       "  </tbody>\n",
       "</table>\n",
       "</div>"
      ],
      "text/plain": [
       "                gene_name                                             tissue  \\\n",
       "gene_id                                                                        \n",
       "ENSG00000000419      DPM1       (Brain_Hypothalamus, Brain_Substantia_nigra)   \n",
       "ENSG00000000938       FGR  (Brain_Hippocampus, Artery_Tibial, Brain_Anter...   \n",
       "ENSG00000000971       CFH  (Brain_Hippocampus, Artery_Tibial, Brain_Anter...   \n",
       "ENSG00000001084      GCLC  (Brain_Hippocampus, Artery_Tibial, Brain_Anter...   \n",
       "ENSG00000001167      NFYA  (Brain_Hippocampus, Artery_Tibial, Brain_Anter...   \n",
       "\n",
       "                 n_tissues                               tissues_pc_variances  \\\n",
       "gene_id                                                                         \n",
       "ENSG00000000419          2           [1.0372585612589562, 0.9627414387410438]   \n",
       "ENSG00000000938         36  [30.57880701512375, 2.0297326456001112, 1.4017...   \n",
       "ENSG00000000971         34  [20.772608276639335, 8.177158142324833, 1.8646...   \n",
       "ENSG00000001084         32  [20.97644994026909, 4.772354749306766, 2.23620...   \n",
       "ENSG00000001167         40                                [37.63836978240501]   \n",
       "\n",
       "                                          tissues_pc_variances_cov  \\\n",
       "gene_id                                                              \n",
       "ENSG00000000419      [0.008284978865240098, 0.0007326748393412591]   \n",
       "ENSG00000000938        [0.22478471249969328, 0.008813873813031786]   \n",
       "ENSG00000000971  [0.196995342795801, 0.057318253163491664, 0.02...   \n",
       "ENSG00000001084  [0.36578096389253933, 0.1264541371042455, 0.01...   \n",
       "ENSG00000001167          [1.4787144508923993, 0.04969061838773912]   \n",
       "\n",
       "                                                 tissues_variances  \\\n",
       "gene_id                                                              \n",
       "ENSG00000000419  {'Brain_Hypothalamus': 0.0082838613770255, 'Br...   \n",
       "ENSG00000000938  {'Brain_Hippocampus': 0.006367955494129906, 'A...   \n",
       "ENSG00000000971  {'Brain_Hippocampus': 0.005965148549549016, 'A...   \n",
       "ENSG00000001084  {'Brain_Hippocampus': 0.009716241262648275, 'A...   \n",
       "ENSG00000001167  {'Brain_Hippocampus': 0.016125723366546694, 'A...   \n",
       "\n",
       "                 n_snps_used_sum  n_snps_in_model_sum  unique_n_snps_in_model  \\\n",
       "gene_id                                                                         \n",
       "ENSG00000000419                2                    2                       2   \n",
       "ENSG00000000938               40                   40                       5   \n",
       "ENSG00000000971               44                   44                      12   \n",
       "ENSG00000001084               46                   46                      23   \n",
       "ENSG00000001167               47                   48                      14   \n",
       "\n",
       "                 unique_n_snps_used  \n",
       "gene_id                              \n",
       "ENSG00000000419                   2  \n",
       "ENSG00000000938                   5  \n",
       "ENSG00000000971                  12  \n",
       "ENSG00000001084                  23  \n",
       "ENSG00000001167                  13  "
      ]
     },
     "execution_count": 148,
     "metadata": {},
     "output_type": "execute_result"
    }
   ],
   "source": [
    "spredixcan_genes_models.head()"
   ]
  },
  {
   "cell_type": "markdown",
   "id": "d6947d45-ea78-4c6b-bf71-f7413d1687e3",
   "metadata": {
    "papermill": {
     "duration": 0.023183,
     "end_time": "2022-08-01T17:03:14.844394",
     "exception": false,
     "start_time": "2022-08-01T17:03:14.821211",
     "status": "completed"
    },
    "tags": []
   },
   "source": [
    "### Save"
   ]
  },
  {
   "cell_type": "code",
   "execution_count": 149,
   "id": "ebc3a430-7bd5-4099-8b01-aa77e704e3e7",
   "metadata": {
    "execution": {
     "iopub.execute_input": "2022-08-01T17:03:14.892533Z",
     "iopub.status.busy": "2022-08-01T17:03:14.891985Z",
     "iopub.status.idle": "2022-08-01T17:03:14.906351Z",
     "shell.execute_reply": "2022-08-01T17:03:14.905750Z"
    },
    "papermill": {
     "duration": 0.040201,
     "end_time": "2022-08-01T17:03:14.907745",
     "exception": false,
     "start_time": "2022-08-01T17:03:14.867544",
     "status": "completed"
    },
    "tags": []
   },
   "outputs": [],
   "source": [
    "assert spredixcan_genes_models[\"gene_name\"].is_unique"
   ]
  },
  {
   "cell_type": "code",
   "execution_count": 150,
   "id": "e2db5302-3051-4492-97e1-e759d2fb512f",
   "metadata": {
    "execution": {
     "iopub.execute_input": "2022-08-01T17:03:14.956528Z",
     "iopub.status.busy": "2022-08-01T17:03:14.956312Z",
     "iopub.status.idle": "2022-08-01T17:03:14.972683Z",
     "shell.execute_reply": "2022-08-01T17:03:14.972134Z"
    },
    "papermill": {
     "duration": 0.042197,
     "end_time": "2022-08-01T17:03:14.974177",
     "exception": false,
     "start_time": "2022-08-01T17:03:14.931980",
     "status": "completed"
    },
    "tags": []
   },
   "outputs": [],
   "source": [
    "assert not spredixcan_genes_models.isna().any(None)"
   ]
  },
  {
   "cell_type": "code",
   "execution_count": 151,
   "id": "10e19441-8390-4eb1-8da4-24752597bb54",
   "metadata": {
    "execution": {
     "iopub.execute_input": "2022-08-01T17:03:15.025604Z",
     "iopub.status.busy": "2022-08-01T17:03:15.025385Z",
     "iopub.status.idle": "2022-08-01T17:03:15.756184Z",
     "shell.execute_reply": "2022-08-01T17:03:15.754859Z"
    },
    "papermill": {
     "duration": 0.758666,
     "end_time": "2022-08-01T17:03:15.759560",
     "exception": false,
     "start_time": "2022-08-01T17:03:15.000894",
     "status": "completed"
    },
    "tags": []
   },
   "outputs": [],
   "source": [
    "spredixcan_genes_models.to_pickle(OUTPUT_DIR_BASE / \"gene_tissues.pkl\")"
   ]
  },
  {
   "cell_type": "code",
   "execution_count": null,
   "id": "b25e3ead",
   "metadata": {
    "papermill": {
     "duration": 0.023571,
     "end_time": "2022-08-01T17:03:15.820606",
     "exception": false,
     "start_time": "2022-08-01T17:03:15.797035",
     "status": "completed"
    },
    "tags": []
   },
   "outputs": [],
   "source": []
  }
 ],
 "metadata": {
  "jupytext": {
   "cell_metadata_filter": "all,-execution,-papermill,-trusted",
   "formats": "ipynb,py//py:percent"
  },
  "kernelspec": {
   "display_name": "Python 3 (ipykernel)",
   "language": "python",
   "name": "python3"
  },
  "language_info": {
   "codemirror_mode": {
    "name": "ipython",
    "version": 3
   },
   "file_extension": ".py",
   "mimetype": "text/x-python",
   "name": "python",
   "nbconvert_exporter": "python",
   "pygments_lexer": "ipython3",
   "version": "3.8.13"
  },
  "papermill": {
   "default_parameters": {},
   "duration": 8963.688873,
   "end_time": "2022-08-01T17:03:18.696658",
   "environment_variables": {},
   "exception": null,
   "input_path": "nbs/15_gsa_gls/07-compile_gwas_snps_and_twas_genes.ipynb",
   "output_path": "nbs/15_gsa_gls/gene_corrs/cohorts/1000g_eur/1000g/mashr/07-compile_gwas_snps_and_twas_genes.run.ipynb",
   "parameters": {
    "COHORT_NAME": "1000G_EUR",
    "EQTL_MODEL": "MASHR",
    "GWAS_FILE": "/opt/data/results/gls/null_sims/final_imputed_gwas/random.pheno0.glm-imputed.txt.gz",
    "REFERENCE_PANEL": "1000G",
    "SMULTIXCAN_FILE": "/opt/data/results/gls/null_sims/twas/smultixcan/random.pheno0-gtex_v8-mashr-smultixcan.txt",
    "SPREDIXCAN_FILE_PATTERN": "random.pheno0-gtex_v8-mashr-{tissue}.csv",
    "SPREDIXCAN_FOLDER": "/opt/data/results/gls/null_sims/twas/spredixcan/"
   },
   "start_time": "2022-08-01T14:33:55.007785",
   "version": "2.2.2"
  }
 },
 "nbformat": 4,
 "nbformat_minor": 5
}
