{
 "cells": [
  {
   "cell_type": "markdown",
   "id": "7a6632fb",
   "metadata": {
    "papermill": {
     "duration": 0.0086,
     "end_time": "2022-08-08T17:50:21.718163",
     "exception": false,
     "start_time": "2022-08-08T17:50:21.709563",
     "status": "completed"
    },
    "tags": []
   },
   "source": [
    "# Description"
   ]
  },
  {
   "cell_type": "markdown",
   "id": "7097c346",
   "metadata": {
    "papermill": {
     "duration": 0.006089,
     "end_time": "2022-08-08T17:50:21.732257",
     "exception": false,
     "start_time": "2022-08-08T17:50:21.726168",
     "status": "completed"
    },
    "tags": []
   },
   "source": [
    "(Please, take a look at the README.md file in this directory for instructions on how to run this notebook)\n",
    "\n",
    "This notebook computes predicted expression correlations between all genes in the MultiPLIER models.\n",
    "\n",
    "It also has a parameter set for papermill to run on a single chromosome to run in parallel (see under `Settings` below).\n",
    "\n",
    "This notebook is not directly run. See README.md."
   ]
  },
  {
   "cell_type": "markdown",
   "id": "c61d8427",
   "metadata": {
    "papermill": {
     "duration": 0.005823,
     "end_time": "2022-08-08T17:50:21.744215",
     "exception": false,
     "start_time": "2022-08-08T17:50:21.738392",
     "status": "completed"
    },
    "tags": []
   },
   "source": [
    "# Modules"
   ]
  },
  {
   "cell_type": "code",
   "execution_count": 1,
   "id": "bbc0234f",
   "metadata": {
    "execution": {
     "iopub.execute_input": "2022-08-08T17:50:21.757223Z",
     "iopub.status.busy": "2022-08-08T17:50:21.757006Z",
     "iopub.status.idle": "2022-08-08T17:50:21.796529Z",
     "shell.execute_reply": "2022-08-08T17:50:21.795635Z"
    },
    "papermill": {
     "duration": 0.048304,
     "end_time": "2022-08-08T17:50:21.798521",
     "exception": false,
     "start_time": "2022-08-08T17:50:21.750217",
     "status": "completed"
    },
    "tags": []
   },
   "outputs": [],
   "source": [
    "%load_ext autoreload\n",
    "%autoreload 2"
   ]
  },
  {
   "cell_type": "code",
   "execution_count": 2,
   "id": "1d5f5a59",
   "metadata": {
    "execution": {
     "iopub.execute_input": "2022-08-08T17:50:21.824227Z",
     "iopub.status.busy": "2022-08-08T17:50:21.823758Z",
     "iopub.status.idle": "2022-08-08T17:50:22.747956Z",
     "shell.execute_reply": "2022-08-08T17:50:22.747533Z"
    },
    "papermill": {
     "duration": 0.935197,
     "end_time": "2022-08-08T17:50:22.749311",
     "exception": false,
     "start_time": "2022-08-08T17:50:21.814114",
     "status": "completed"
    },
    "tags": []
   },
   "outputs": [],
   "source": [
    "from random import sample, seed\n",
    "import warnings\n",
    "from pathlib import Path\n",
    "import pickle\n",
    "import traceback\n",
    "\n",
    "import numpy as np\n",
    "from scipy.spatial.distance import squareform\n",
    "import pandas as pd\n",
    "from tqdm import tqdm\n",
    "import matplotlib.pyplot as plt\n",
    "import seaborn as sns\n",
    "\n",
    "import conf\n",
    "from entity import Gene"
   ]
  },
  {
   "cell_type": "markdown",
   "id": "1eac24b5",
   "metadata": {
    "papermill": {
     "duration": 0.006622,
     "end_time": "2022-08-08T17:50:22.808745",
     "exception": false,
     "start_time": "2022-08-08T17:50:22.802123",
     "status": "completed"
    },
    "tags": []
   },
   "source": [
    "# Settings"
   ]
  },
  {
   "cell_type": "code",
   "execution_count": 3,
   "id": "ca4560ba",
   "metadata": {
    "execution": {
     "iopub.execute_input": "2022-08-08T17:50:22.824653Z",
     "iopub.status.busy": "2022-08-08T17:50:22.824462Z",
     "iopub.status.idle": "2022-08-08T17:50:22.841296Z",
     "shell.execute_reply": "2022-08-08T17:50:22.840791Z"
    },
    "papermill": {
     "duration": 0.025883,
     "end_time": "2022-08-08T17:50:22.842735",
     "exception": false,
     "start_time": "2022-08-08T17:50:22.816852",
     "status": "completed"
    },
    "tags": [
     "parameters"
    ]
   },
   "outputs": [],
   "source": [
    "# a cohort name (it could be something like UK_BIOBANK, etc)\n",
    "COHORT_NAME = None\n",
    "\n",
    "# reference panel such as 1000G or GTEX_V8\n",
    "REFERENCE_PANEL = None\n",
    "\n",
    "# predictions models such as MASHR or ELASTIC_NET\n",
    "EQTL_MODEL = None\n",
    "\n",
    "# this is the default value used in S-MultiXcan to select the\n",
    "# top principal components of the expression correlation matrix\n",
    "SMULTIXCAN_CONDITION_NUMBER = 30\n",
    "\n",
    "# specifies a single chromosome value\n",
    "CHROMOSOME = None\n",
    "\n",
    "# If True, computes the correlation between closeby genes only;\n",
    "# otherwise, it computes correlations for all genes in a chromosome\n",
    "COMPUTE_CORRELATIONS_WITHIN_DISTANCE = False\n",
    "\n",
    "# if True, then it will continue if a gene pair correlation fails,\n",
    "# printing the warning/error for debugging. If False, any warning/error\n",
    "# will be thrown\n",
    "DEBUG_MODE = False"
   ]
  },
  {
   "cell_type": "code",
   "execution_count": 4,
   "id": "33e215d7",
   "metadata": {
    "execution": {
     "iopub.execute_input": "2022-08-08T17:50:22.855342Z",
     "iopub.status.busy": "2022-08-08T17:50:22.855143Z",
     "iopub.status.idle": "2022-08-08T17:50:22.869680Z",
     "shell.execute_reply": "2022-08-08T17:50:22.869301Z"
    },
    "papermill": {
     "duration": 0.022072,
     "end_time": "2022-08-08T17:50:22.870951",
     "exception": false,
     "start_time": "2022-08-08T17:50:22.848879",
     "status": "completed"
    },
    "tags": [
     "injected-parameters"
    ]
   },
   "outputs": [],
   "source": [
    "# Parameters\n",
    "COHORT_NAME = \"1000G_EUR\"\n",
    "REFERENCE_PANEL = \"1000G\"\n",
    "EQTL_MODEL = \"MASHR\"\n",
    "CHROMOSOME = 7\n"
   ]
  },
  {
   "cell_type": "code",
   "execution_count": 5,
   "id": "3190631f-27fc-480f-b18e-571d580425a5",
   "metadata": {
    "execution": {
     "iopub.execute_input": "2022-08-08T17:50:22.882794Z",
     "iopub.status.busy": "2022-08-08T17:50:22.882575Z",
     "iopub.status.idle": "2022-08-08T17:50:22.899539Z",
     "shell.execute_reply": "2022-08-08T17:50:22.899070Z"
    },
    "papermill": {
     "duration": 0.024369,
     "end_time": "2022-08-08T17:50:22.900934",
     "exception": false,
     "start_time": "2022-08-08T17:50:22.876565",
     "status": "completed"
    },
    "tags": []
   },
   "outputs": [
    {
     "data": {
      "text/plain": [
       "'Cohort name: 1000g_eur'"
      ]
     },
     "metadata": {},
     "output_type": "display_data"
    }
   ],
   "source": [
    "assert COHORT_NAME is not None and len(COHORT_NAME) > 0, \"A cohort name must be given\"\n",
    "\n",
    "COHORT_NAME = COHORT_NAME.lower()\n",
    "display(f\"Cohort name: {COHORT_NAME}\")"
   ]
  },
  {
   "cell_type": "code",
   "execution_count": 6,
   "id": "f53ba19b-0f93-4fa2-a047-63b375939d1a",
   "metadata": {
    "execution": {
     "iopub.execute_input": "2022-08-08T17:50:22.913624Z",
     "iopub.status.busy": "2022-08-08T17:50:22.913411Z",
     "iopub.status.idle": "2022-08-08T17:50:22.928277Z",
     "shell.execute_reply": "2022-08-08T17:50:22.927865Z"
    },
    "papermill": {
     "duration": 0.022394,
     "end_time": "2022-08-08T17:50:22.929405",
     "exception": false,
     "start_time": "2022-08-08T17:50:22.907011",
     "status": "completed"
    },
    "tags": []
   },
   "outputs": [
    {
     "data": {
      "text/plain": [
       "'Reference panel: 1000G'"
      ]
     },
     "metadata": {},
     "output_type": "display_data"
    }
   ],
   "source": [
    "assert (\n",
    "    REFERENCE_PANEL is not None and len(REFERENCE_PANEL) > 0\n",
    "), \"A reference panel must be given\"\n",
    "\n",
    "display(f\"Reference panel: {REFERENCE_PANEL}\")"
   ]
  },
  {
   "cell_type": "code",
   "execution_count": 7,
   "id": "e024d130-c139-429a-9c6e-ccf149e297b0",
   "metadata": {
    "execution": {
     "iopub.execute_input": "2022-08-08T17:50:22.942333Z",
     "iopub.status.busy": "2022-08-08T17:50:22.942123Z",
     "iopub.status.idle": "2022-08-08T17:50:22.957582Z",
     "shell.execute_reply": "2022-08-08T17:50:22.957141Z"
    },
    "papermill": {
     "duration": 0.023516,
     "end_time": "2022-08-08T17:50:22.958763",
     "exception": false,
     "start_time": "2022-08-08T17:50:22.935247",
     "status": "completed"
    },
    "tags": []
   },
   "outputs": [
    {
     "data": {
      "text/plain": [
       "'eQTL model: MASHR) / mashr_'"
      ]
     },
     "metadata": {},
     "output_type": "display_data"
    }
   ],
   "source": [
    "assert (\n",
    "    EQTL_MODEL is not None and len(EQTL_MODEL) > 0\n",
    "), \"A prediction/eQTL model must be given\"\n",
    "\n",
    "EQTL_MODEL_FILES_PREFIX = conf.PHENOMEXCAN[\"PREDICTION_MODELS\"][f\"{EQTL_MODEL}_PREFIX\"]\n",
    "display(f\"eQTL model: {EQTL_MODEL}) / {EQTL_MODEL_FILES_PREFIX}\")"
   ]
  },
  {
   "cell_type": "code",
   "execution_count": 8,
   "id": "552a7f63-a18c-4d3e-bb6a-94f99b431291",
   "metadata": {
    "execution": {
     "iopub.execute_input": "2022-08-08T17:50:22.971135Z",
     "iopub.status.busy": "2022-08-08T17:50:22.970945Z",
     "iopub.status.idle": "2022-08-08T17:50:22.987229Z",
     "shell.execute_reply": "2022-08-08T17:50:22.986782Z"
    },
    "papermill": {
     "duration": 0.023856,
     "end_time": "2022-08-08T17:50:22.988374",
     "exception": false,
     "start_time": "2022-08-08T17:50:22.964518",
     "status": "completed"
    },
    "tags": []
   },
   "outputs": [
    {
     "data": {
      "text/plain": [
       "'S-MultiXcan condition number: 30'"
      ]
     },
     "metadata": {},
     "output_type": "display_data"
    }
   ],
   "source": [
    "assert (\n",
    "    SMULTIXCAN_CONDITION_NUMBER is not None and SMULTIXCAN_CONDITION_NUMBER > 0\n",
    "), \"The S-MultiXcan condition number (positive integer) must be given\"\n",
    "\n",
    "display(f\"S-MultiXcan condition number: {SMULTIXCAN_CONDITION_NUMBER}\")"
   ]
  },
  {
   "cell_type": "code",
   "execution_count": 9,
   "id": "f34a336f-548e-4afe-8955-90eaea4f42c6",
   "metadata": {
    "execution": {
     "iopub.execute_input": "2022-08-08T17:50:23.001201Z",
     "iopub.status.busy": "2022-08-08T17:50:23.000806Z",
     "iopub.status.idle": "2022-08-08T17:50:23.015886Z",
     "shell.execute_reply": "2022-08-08T17:50:23.015381Z"
    },
    "papermill": {
     "duration": 0.022941,
     "end_time": "2022-08-08T17:50:23.017260",
     "exception": false,
     "start_time": "2022-08-08T17:50:22.994319",
     "status": "completed"
    },
    "tags": []
   },
   "outputs": [
    {
     "data": {
      "text/plain": [
       "'Working on chromosome 7'"
      ]
     },
     "metadata": {},
     "output_type": "display_data"
    }
   ],
   "source": [
    "assert CHROMOSOME is not None and (\n",
    "    1 <= CHROMOSOME <= 22\n",
    "), \"You have to select one chromosome (format: number between 1 and 22)\"\n",
    "\n",
    "# CHROMOSOME = str(CHROMOSOME)\n",
    "display(f\"Working on chromosome {CHROMOSOME}\")"
   ]
  },
  {
   "cell_type": "code",
   "execution_count": 10,
   "id": "ab8e96e8-06b5-4363-9dcd-dc4d78cc27f7",
   "metadata": {
    "execution": {
     "iopub.execute_input": "2022-08-08T17:50:23.030874Z",
     "iopub.status.busy": "2022-08-08T17:50:23.030468Z",
     "iopub.status.idle": "2022-08-08T17:50:23.046659Z",
     "shell.execute_reply": "2022-08-08T17:50:23.045998Z"
    },
    "papermill": {
     "duration": 0.024445,
     "end_time": "2022-08-08T17:50:23.048126",
     "exception": false,
     "start_time": "2022-08-08T17:50:23.023681",
     "status": "completed"
    },
    "tags": []
   },
   "outputs": [
    {
     "data": {
      "text/plain": [
       "'Compute correlation within distance False'"
      ]
     },
     "metadata": {},
     "output_type": "display_data"
    }
   ],
   "source": [
    "display(f\"Compute correlation within distance {COMPUTE_CORRELATIONS_WITHIN_DISTANCE}\")"
   ]
  },
  {
   "cell_type": "code",
   "execution_count": 11,
   "id": "396392dc-0340-4540-9b02-e182b833f909",
   "metadata": {
    "execution": {
     "iopub.execute_input": "2022-08-08T17:50:23.061216Z",
     "iopub.status.busy": "2022-08-08T17:50:23.060816Z",
     "iopub.status.idle": "2022-08-08T17:50:23.076520Z",
     "shell.execute_reply": "2022-08-08T17:50:23.076043Z"
    },
    "papermill": {
     "duration": 0.023571,
     "end_time": "2022-08-08T17:50:23.077699",
     "exception": false,
     "start_time": "2022-08-08T17:50:23.054128",
     "status": "completed"
    },
    "tags": []
   },
   "outputs": [
    {
     "data": {
      "text/plain": [
       "'Using output dir base: /opt/data/results/gls/gene_corrs/cohorts/1000g_eur/1000g/mashr'"
      ]
     },
     "metadata": {},
     "output_type": "display_data"
    }
   ],
   "source": [
    "OUTPUT_DIR_BASE = (\n",
    "    conf.RESULTS[\"GLS\"]\n",
    "    / \"gene_corrs\"\n",
    "    / \"cohorts\"\n",
    "    / COHORT_NAME\n",
    "    / REFERENCE_PANEL.lower()\n",
    "    / EQTL_MODEL.lower()\n",
    ")\n",
    "OUTPUT_DIR_BASE.mkdir(parents=True, exist_ok=True)\n",
    "\n",
    "display(f\"Using output dir base: {OUTPUT_DIR_BASE}\")"
   ]
  },
  {
   "cell_type": "markdown",
   "id": "d2ba085e",
   "metadata": {
    "papermill": {
     "duration": 0.006084,
     "end_time": "2022-08-08T17:50:23.090505",
     "exception": false,
     "start_time": "2022-08-08T17:50:23.084421",
     "status": "completed"
    },
    "tags": []
   },
   "source": [
    "# Load data"
   ]
  },
  {
   "cell_type": "markdown",
   "id": "7dcb8db7",
   "metadata": {
    "papermill": {
     "duration": 0.006203,
     "end_time": "2022-08-08T17:50:23.103260",
     "exception": false,
     "start_time": "2022-08-08T17:50:23.097057",
     "status": "completed"
    },
    "tags": []
   },
   "source": [
    "## GWAS variants"
   ]
  },
  {
   "cell_type": "code",
   "execution_count": 12,
   "id": "29434c4e-8cd3-4b9b-82e4-b5a251d9dd19",
   "metadata": {
    "execution": {
     "iopub.execute_input": "2022-08-08T17:50:23.116894Z",
     "iopub.status.busy": "2022-08-08T17:50:23.116600Z",
     "iopub.status.idle": "2022-08-08T17:50:25.680850Z",
     "shell.execute_reply": "2022-08-08T17:50:25.680369Z"
    },
    "papermill": {
     "duration": 2.572472,
     "end_time": "2022-08-08T17:50:25.682389",
     "exception": false,
     "start_time": "2022-08-08T17:50:23.109917",
     "status": "completed"
    },
    "tags": []
   },
   "outputs": [],
   "source": [
    "with open(OUTPUT_DIR_BASE / \"gwas_variant_ids.pkl\", \"rb\") as handle:\n",
    "    gwas_variants_ids_set = pickle.load(handle)"
   ]
  },
  {
   "cell_type": "code",
   "execution_count": 13,
   "id": "b9d9dec2-4a76-4bf9-bde2-e24c95acb8a0",
   "metadata": {
    "execution": {
     "iopub.execute_input": "2022-08-08T17:50:25.703467Z",
     "iopub.status.busy": "2022-08-08T17:50:25.703255Z",
     "iopub.status.idle": "2022-08-08T17:50:25.718756Z",
     "shell.execute_reply": "2022-08-08T17:50:25.718322Z"
    },
    "papermill": {
     "duration": 0.030884,
     "end_time": "2022-08-08T17:50:25.721078",
     "exception": false,
     "start_time": "2022-08-08T17:50:25.690194",
     "status": "completed"
    },
    "tags": []
   },
   "outputs": [
    {
     "data": {
      "text/plain": [
       "8325729"
      ]
     },
     "execution_count": 13,
     "metadata": {},
     "output_type": "execute_result"
    }
   ],
   "source": [
    "len(gwas_variants_ids_set)"
   ]
  },
  {
   "cell_type": "code",
   "execution_count": 14,
   "id": "4235b06a-6034-4ee4-a0a3-2ae35d122418",
   "metadata": {
    "execution": {
     "iopub.execute_input": "2022-08-08T17:50:25.735324Z",
     "iopub.status.busy": "2022-08-08T17:50:25.735012Z",
     "iopub.status.idle": "2022-08-08T17:50:26.248717Z",
     "shell.execute_reply": "2022-08-08T17:50:26.247928Z"
    },
    "papermill": {
     "duration": 0.522094,
     "end_time": "2022-08-08T17:50:26.250106",
     "exception": false,
     "start_time": "2022-08-08T17:50:25.728012",
     "status": "completed"
    },
    "tags": []
   },
   "outputs": [
    {
     "data": {
      "text/plain": [
       "['chr22_50495872_GT_G_b38',\n",
       " 'chr4_70870619_G_A_b38',\n",
       " 'chr9_122623875_T_TAATGTCA_b38',\n",
       " 'chr10_53900064_C_T_b38',\n",
       " 'chr13_109962682_A_G_b38']"
      ]
     },
     "execution_count": 14,
     "metadata": {},
     "output_type": "execute_result"
    }
   ],
   "source": [
    "list(gwas_variants_ids_set)[:5]"
   ]
  },
  {
   "cell_type": "markdown",
   "id": "07866999-2305-41f9-a144-e69c9122c212",
   "metadata": {
    "papermill": {
     "duration": 0.007308,
     "end_time": "2022-08-08T17:50:26.266136",
     "exception": false,
     "start_time": "2022-08-08T17:50:26.258828",
     "status": "completed"
    },
    "tags": []
   },
   "source": [
    "## S-PrediXcan tissue models"
   ]
  },
  {
   "cell_type": "code",
   "execution_count": 15,
   "id": "780611d9-77c8-405f-90a4-f271f7b09397",
   "metadata": {
    "execution": {
     "iopub.execute_input": "2022-08-08T17:50:26.281442Z",
     "iopub.status.busy": "2022-08-08T17:50:26.281220Z",
     "iopub.status.idle": "2022-08-08T17:50:27.105710Z",
     "shell.execute_reply": "2022-08-08T17:50:27.105267Z"
    },
    "papermill": {
     "duration": 0.833569,
     "end_time": "2022-08-08T17:50:27.107099",
     "exception": false,
     "start_time": "2022-08-08T17:50:26.273530",
     "status": "completed"
    },
    "tags": []
   },
   "outputs": [],
   "source": [
    "spredixcan_genes_models = pd.read_pickle(OUTPUT_DIR_BASE / \"gene_tissues.pkl\")"
   ]
  },
  {
   "cell_type": "code",
   "execution_count": 16,
   "id": "726dd1f6-9557-4225-91fa-b3b879ea96e1",
   "metadata": {
    "execution": {
     "iopub.execute_input": "2022-08-08T17:50:27.121003Z",
     "iopub.status.busy": "2022-08-08T17:50:27.120718Z",
     "iopub.status.idle": "2022-08-08T17:50:27.135957Z",
     "shell.execute_reply": "2022-08-08T17:50:27.135544Z"
    },
    "papermill": {
     "duration": 0.023439,
     "end_time": "2022-08-08T17:50:27.137114",
     "exception": false,
     "start_time": "2022-08-08T17:50:27.113675",
     "status": "completed"
    },
    "tags": []
   },
   "outputs": [
    {
     "data": {
      "text/plain": [
       "(6442, 10)"
      ]
     },
     "execution_count": 16,
     "metadata": {},
     "output_type": "execute_result"
    }
   ],
   "source": [
    "spredixcan_genes_models.shape"
   ]
  },
  {
   "cell_type": "code",
   "execution_count": 17,
   "id": "944a1b48-222c-4eb0-b252-b9de2cbca215",
   "metadata": {
    "execution": {
     "iopub.execute_input": "2022-08-08T17:50:27.151612Z",
     "iopub.status.busy": "2022-08-08T17:50:27.151359Z",
     "iopub.status.idle": "2022-08-08T17:50:27.179323Z",
     "shell.execute_reply": "2022-08-08T17:50:27.178888Z"
    },
    "papermill": {
     "duration": 0.037091,
     "end_time": "2022-08-08T17:50:27.180772",
     "exception": false,
     "start_time": "2022-08-08T17:50:27.143681",
     "status": "completed"
    },
    "tags": []
   },
   "outputs": [
    {
     "data": {
      "text/html": [
       "<div>\n",
       "<style scoped>\n",
       "    .dataframe tbody tr th:only-of-type {\n",
       "        vertical-align: middle;\n",
       "    }\n",
       "\n",
       "    .dataframe tbody tr th {\n",
       "        vertical-align: top;\n",
       "    }\n",
       "\n",
       "    .dataframe thead th {\n",
       "        text-align: right;\n",
       "    }\n",
       "</style>\n",
       "<table border=\"1\" class=\"dataframe\">\n",
       "  <thead>\n",
       "    <tr style=\"text-align: right;\">\n",
       "      <th></th>\n",
       "      <th>gene_name</th>\n",
       "      <th>tissue</th>\n",
       "      <th>n_tissues</th>\n",
       "      <th>tissues_pc_variances</th>\n",
       "      <th>tissues_pc_variances_cov</th>\n",
       "      <th>tissues_variances</th>\n",
       "      <th>n_snps_used_sum</th>\n",
       "      <th>n_snps_in_model_sum</th>\n",
       "      <th>unique_n_snps_in_model</th>\n",
       "      <th>unique_n_snps_used</th>\n",
       "    </tr>\n",
       "    <tr>\n",
       "      <th>gene_id</th>\n",
       "      <th></th>\n",
       "      <th></th>\n",
       "      <th></th>\n",
       "      <th></th>\n",
       "      <th></th>\n",
       "      <th></th>\n",
       "      <th></th>\n",
       "      <th></th>\n",
       "      <th></th>\n",
       "      <th></th>\n",
       "    </tr>\n",
       "  </thead>\n",
       "  <tbody>\n",
       "    <tr>\n",
       "      <th>ENSG00000000419</th>\n",
       "      <td>DPM1</td>\n",
       "      <td>(Brain_Hypothalamus, Brain_Substantia_nigra)</td>\n",
       "      <td>2</td>\n",
       "      <td>[1.0372585612589562, 0.9627414387410438]</td>\n",
       "      <td>[0.008284978865240098, 0.0007326748393412591]</td>\n",
       "      <td>{'Brain_Hypothalamus': 0.0082838613770255, 'Br...</td>\n",
       "      <td>2</td>\n",
       "      <td>2</td>\n",
       "      <td>2</td>\n",
       "      <td>2</td>\n",
       "    </tr>\n",
       "    <tr>\n",
       "      <th>ENSG00000000938</th>\n",
       "      <td>FGR</td>\n",
       "      <td>(Brain_Hypothalamus, Whole_Blood, Brain_Hippoc...</td>\n",
       "      <td>36</td>\n",
       "      <td>[30.57880701512373, 2.0297326456001104, 1.4017...</td>\n",
       "      <td>[0.22478471249969328, 0.008813873813031791]</td>\n",
       "      <td>{'Adipose_Visceral_Omentum': 0.001932839939705...</td>\n",
       "      <td>40</td>\n",
       "      <td>40</td>\n",
       "      <td>5</td>\n",
       "      <td>5</td>\n",
       "    </tr>\n",
       "    <tr>\n",
       "      <th>ENSG00000000971</th>\n",
       "      <td>CFH</td>\n",
       "      <td>(Whole_Blood, Brain_Hippocampus, Artery_Tibial...</td>\n",
       "      <td>34</td>\n",
       "      <td>[20.772608276639335, 8.177158142324833, 1.8646...</td>\n",
       "      <td>[0.1969953427958011, 0.05731825316349161, 0.02...</td>\n",
       "      <td>{'Uterus': 0.00888478850189283, 'Brain_Putamen...</td>\n",
       "      <td>44</td>\n",
       "      <td>44</td>\n",
       "      <td>12</td>\n",
       "      <td>12</td>\n",
       "    </tr>\n",
       "    <tr>\n",
       "      <th>ENSG00000001084</th>\n",
       "      <td>GCLC</td>\n",
       "      <td>(Whole_Blood, Brain_Hippocampus, Artery_Tibial...</td>\n",
       "      <td>32</td>\n",
       "      <td>[20.976449940269102, 4.772354749306767, 2.2362...</td>\n",
       "      <td>[0.3657809638925394, 0.1264541371042455, 0.016...</td>\n",
       "      <td>{'Brain_Putamen_basal_ganglia': 0.022230612685...</td>\n",
       "      <td>46</td>\n",
       "      <td>46</td>\n",
       "      <td>23</td>\n",
       "      <td>23</td>\n",
       "    </tr>\n",
       "    <tr>\n",
       "      <th>ENSG00000001167</th>\n",
       "      <td>NFYA</td>\n",
       "      <td>(Brain_Hypothalamus, Whole_Blood, Brain_Hippoc...</td>\n",
       "      <td>40</td>\n",
       "      <td>[37.638369782404986]</td>\n",
       "      <td>[1.4787144508923984, 0.049690618387739166]</td>\n",
       "      <td>{'Adipose_Visceral_Omentum': 0.037274400234795...</td>\n",
       "      <td>47</td>\n",
       "      <td>48</td>\n",
       "      <td>14</td>\n",
       "      <td>13</td>\n",
       "    </tr>\n",
       "  </tbody>\n",
       "</table>\n",
       "</div>"
      ],
      "text/plain": [
       "                gene_name                                             tissue  \\\n",
       "gene_id                                                                        \n",
       "ENSG00000000419      DPM1       (Brain_Hypothalamus, Brain_Substantia_nigra)   \n",
       "ENSG00000000938       FGR  (Brain_Hypothalamus, Whole_Blood, Brain_Hippoc...   \n",
       "ENSG00000000971       CFH  (Whole_Blood, Brain_Hippocampus, Artery_Tibial...   \n",
       "ENSG00000001084      GCLC  (Whole_Blood, Brain_Hippocampus, Artery_Tibial...   \n",
       "ENSG00000001167      NFYA  (Brain_Hypothalamus, Whole_Blood, Brain_Hippoc...   \n",
       "\n",
       "                 n_tissues                               tissues_pc_variances  \\\n",
       "gene_id                                                                         \n",
       "ENSG00000000419          2           [1.0372585612589562, 0.9627414387410438]   \n",
       "ENSG00000000938         36  [30.57880701512373, 2.0297326456001104, 1.4017...   \n",
       "ENSG00000000971         34  [20.772608276639335, 8.177158142324833, 1.8646...   \n",
       "ENSG00000001084         32  [20.976449940269102, 4.772354749306767, 2.2362...   \n",
       "ENSG00000001167         40                               [37.638369782404986]   \n",
       "\n",
       "                                          tissues_pc_variances_cov  \\\n",
       "gene_id                                                              \n",
       "ENSG00000000419      [0.008284978865240098, 0.0007326748393412591]   \n",
       "ENSG00000000938        [0.22478471249969328, 0.008813873813031791]   \n",
       "ENSG00000000971  [0.1969953427958011, 0.05731825316349161, 0.02...   \n",
       "ENSG00000001084  [0.3657809638925394, 0.1264541371042455, 0.016...   \n",
       "ENSG00000001167         [1.4787144508923984, 0.049690618387739166]   \n",
       "\n",
       "                                                 tissues_variances  \\\n",
       "gene_id                                                              \n",
       "ENSG00000000419  {'Brain_Hypothalamus': 0.0082838613770255, 'Br...   \n",
       "ENSG00000000938  {'Adipose_Visceral_Omentum': 0.001932839939705...   \n",
       "ENSG00000000971  {'Uterus': 0.00888478850189283, 'Brain_Putamen...   \n",
       "ENSG00000001084  {'Brain_Putamen_basal_ganglia': 0.022230612685...   \n",
       "ENSG00000001167  {'Adipose_Visceral_Omentum': 0.037274400234795...   \n",
       "\n",
       "                 n_snps_used_sum  n_snps_in_model_sum  unique_n_snps_in_model  \\\n",
       "gene_id                                                                         \n",
       "ENSG00000000419                2                    2                       2   \n",
       "ENSG00000000938               40                   40                       5   \n",
       "ENSG00000000971               44                   44                      12   \n",
       "ENSG00000001084               46                   46                      23   \n",
       "ENSG00000001167               47                   48                      14   \n",
       "\n",
       "                 unique_n_snps_used  \n",
       "gene_id                              \n",
       "ENSG00000000419                   2  \n",
       "ENSG00000000938                   5  \n",
       "ENSG00000000971                  12  \n",
       "ENSG00000001084                  23  \n",
       "ENSG00000001167                  13  "
      ]
     },
     "execution_count": 17,
     "metadata": {},
     "output_type": "execute_result"
    }
   ],
   "source": [
    "spredixcan_genes_models.head()"
   ]
  },
  {
   "cell_type": "code",
   "execution_count": 18,
   "id": "d1c11bb1-be0b-4f40-b360-633d6827109f",
   "metadata": {
    "execution": {
     "iopub.execute_input": "2022-08-08T17:50:27.195027Z",
     "iopub.status.busy": "2022-08-08T17:50:27.194814Z",
     "iopub.status.idle": "2022-08-08T17:50:27.209744Z",
     "shell.execute_reply": "2022-08-08T17:50:27.209301Z"
    },
    "papermill": {
     "duration": 0.023328,
     "end_time": "2022-08-08T17:50:27.210980",
     "exception": false,
     "start_time": "2022-08-08T17:50:27.187652",
     "status": "completed"
    },
    "tags": []
   },
   "outputs": [],
   "source": [
    "assert spredixcan_genes_models.index.is_unique"
   ]
  },
  {
   "cell_type": "markdown",
   "id": "a5b5092c-a13e-47c4-a92a-480fcc08f3ae",
   "metadata": {
    "papermill": {
     "duration": 0.006493,
     "end_time": "2022-08-08T17:50:27.224119",
     "exception": false,
     "start_time": "2022-08-08T17:50:27.217626",
     "status": "completed"
    },
    "tags": []
   },
   "source": [
    "## Gene info"
   ]
  },
  {
   "cell_type": "code",
   "execution_count": 19,
   "id": "7d6bb224-88e9-4358-ac10-43a41d92cdad",
   "metadata": {
    "execution": {
     "iopub.execute_input": "2022-08-08T17:50:27.238082Z",
     "iopub.status.busy": "2022-08-08T17:50:27.237877Z",
     "iopub.status.idle": "2022-08-08T17:50:27.254563Z",
     "shell.execute_reply": "2022-08-08T17:50:27.254156Z"
    },
    "papermill": {
     "duration": 0.025215,
     "end_time": "2022-08-08T17:50:27.255872",
     "exception": false,
     "start_time": "2022-08-08T17:50:27.230657",
     "status": "completed"
    },
    "tags": []
   },
   "outputs": [],
   "source": [
    "genes_info = pd.read_pickle(OUTPUT_DIR_BASE / \"genes_info.pkl\")"
   ]
  },
  {
   "cell_type": "code",
   "execution_count": 20,
   "id": "9e32abfa-546d-483e-8c18-d526e9e05903",
   "metadata": {
    "execution": {
     "iopub.execute_input": "2022-08-08T17:50:27.270684Z",
     "iopub.status.busy": "2022-08-08T17:50:27.270328Z",
     "iopub.status.idle": "2022-08-08T17:50:27.286115Z",
     "shell.execute_reply": "2022-08-08T17:50:27.285644Z"
    },
    "papermill": {
     "duration": 0.024744,
     "end_time": "2022-08-08T17:50:27.287278",
     "exception": false,
     "start_time": "2022-08-08T17:50:27.262534",
     "status": "completed"
    },
    "tags": []
   },
   "outputs": [
    {
     "data": {
      "text/plain": [
       "(6442, 7)"
      ]
     },
     "execution_count": 20,
     "metadata": {},
     "output_type": "execute_result"
    }
   ],
   "source": [
    "genes_info.shape"
   ]
  },
  {
   "cell_type": "code",
   "execution_count": 21,
   "id": "d16c3e92-85ec-468a-9a56-e25a9774a1cb",
   "metadata": {
    "execution": {
     "iopub.execute_input": "2022-08-08T17:50:27.301473Z",
     "iopub.status.busy": "2022-08-08T17:50:27.301294Z",
     "iopub.status.idle": "2022-08-08T17:50:27.320969Z",
     "shell.execute_reply": "2022-08-08T17:50:27.320425Z"
    },
    "papermill": {
     "duration": 0.0284,
     "end_time": "2022-08-08T17:50:27.322419",
     "exception": false,
     "start_time": "2022-08-08T17:50:27.294019",
     "status": "completed"
    },
    "tags": []
   },
   "outputs": [
    {
     "data": {
      "text/html": [
       "<div>\n",
       "<style scoped>\n",
       "    .dataframe tbody tr th:only-of-type {\n",
       "        vertical-align: middle;\n",
       "    }\n",
       "\n",
       "    .dataframe tbody tr th {\n",
       "        vertical-align: top;\n",
       "    }\n",
       "\n",
       "    .dataframe thead th {\n",
       "        text-align: right;\n",
       "    }\n",
       "</style>\n",
       "<table border=\"1\" class=\"dataframe\">\n",
       "  <thead>\n",
       "    <tr style=\"text-align: right;\">\n",
       "      <th></th>\n",
       "      <th>name</th>\n",
       "      <th>id</th>\n",
       "      <th>chr</th>\n",
       "      <th>band</th>\n",
       "      <th>start_position</th>\n",
       "      <th>end_position</th>\n",
       "      <th>gene_length</th>\n",
       "    </tr>\n",
       "  </thead>\n",
       "  <tbody>\n",
       "    <tr>\n",
       "      <th>0</th>\n",
       "      <td>CTSF</td>\n",
       "      <td>ENSG00000174080</td>\n",
       "      <td>11</td>\n",
       "      <td>11q13.2</td>\n",
       "      <td>66563464</td>\n",
       "      <td>66568841</td>\n",
       "      <td>5377</td>\n",
       "    </tr>\n",
       "    <tr>\n",
       "      <th>1</th>\n",
       "      <td>GUCY2D</td>\n",
       "      <td>ENSG00000132518</td>\n",
       "      <td>17</td>\n",
       "      <td>17p13.1</td>\n",
       "      <td>8002594</td>\n",
       "      <td>8020339</td>\n",
       "      <td>17745</td>\n",
       "    </tr>\n",
       "    <tr>\n",
       "      <th>2</th>\n",
       "      <td>NDUFB8</td>\n",
       "      <td>ENSG00000166136</td>\n",
       "      <td>10</td>\n",
       "      <td>10q24.31</td>\n",
       "      <td>100523740</td>\n",
       "      <td>100530000</td>\n",
       "      <td>6260</td>\n",
       "    </tr>\n",
       "    <tr>\n",
       "      <th>3</th>\n",
       "      <td>KIF5B</td>\n",
       "      <td>ENSG00000170759</td>\n",
       "      <td>10</td>\n",
       "      <td>10p11.22</td>\n",
       "      <td>32009015</td>\n",
       "      <td>32056425</td>\n",
       "      <td>47410</td>\n",
       "    </tr>\n",
       "    <tr>\n",
       "      <th>4</th>\n",
       "      <td>SAE1</td>\n",
       "      <td>ENSG00000142230</td>\n",
       "      <td>19</td>\n",
       "      <td>19q13.32</td>\n",
       "      <td>47113274</td>\n",
       "      <td>47210636</td>\n",
       "      <td>97362</td>\n",
       "    </tr>\n",
       "  </tbody>\n",
       "</table>\n",
       "</div>"
      ],
      "text/plain": [
       "     name               id  chr      band  start_position  end_position  \\\n",
       "0    CTSF  ENSG00000174080   11   11q13.2        66563464      66568841   \n",
       "1  GUCY2D  ENSG00000132518   17   17p13.1         8002594       8020339   \n",
       "2  NDUFB8  ENSG00000166136   10  10q24.31       100523740     100530000   \n",
       "3   KIF5B  ENSG00000170759   10  10p11.22        32009015      32056425   \n",
       "4    SAE1  ENSG00000142230   19  19q13.32        47113274      47210636   \n",
       "\n",
       "   gene_length  \n",
       "0         5377  \n",
       "1        17745  \n",
       "2         6260  \n",
       "3        47410  \n",
       "4        97362  "
      ]
     },
     "execution_count": 21,
     "metadata": {},
     "output_type": "execute_result"
    }
   ],
   "source": [
    "genes_info.head()"
   ]
  },
  {
   "cell_type": "markdown",
   "id": "d3843e06",
   "metadata": {
    "papermill": {
     "duration": 0.00661,
     "end_time": "2022-08-08T17:50:27.335959",
     "exception": false,
     "start_time": "2022-08-08T17:50:27.329349",
     "status": "completed"
    },
    "tags": []
   },
   "source": [
    "# Compute correlations"
   ]
  },
  {
   "cell_type": "code",
   "execution_count": 22,
   "id": "cb859c15-d1f3-4006-a74c-2b83c0db9611",
   "metadata": {
    "execution": {
     "iopub.execute_input": "2022-08-08T17:50:27.350469Z",
     "iopub.status.busy": "2022-08-08T17:50:27.350315Z",
     "iopub.status.idle": "2022-08-08T17:50:27.366276Z",
     "shell.execute_reply": "2022-08-08T17:50:27.365854Z"
    },
    "papermill": {
     "duration": 0.024882,
     "end_time": "2022-08-08T17:50:27.367449",
     "exception": false,
     "start_time": "2022-08-08T17:50:27.342567",
     "status": "completed"
    },
    "tags": []
   },
   "outputs": [
    {
     "data": {
      "text/plain": [
       "PosixPath('/opt/data/results/gls/gene_corrs/cohorts/1000g_eur/1000g/mashr/by_chr/gene_corrs-chr7.pkl')"
      ]
     },
     "metadata": {},
     "output_type": "display_data"
    }
   ],
   "source": [
    "output_dir = OUTPUT_DIR_BASE / \"by_chr\"\n",
    "output_dir.mkdir(exist_ok=True, parents=True)\n",
    "output_file = output_dir / f\"gene_corrs-chr{CHROMOSOME}.pkl\"\n",
    "display(output_file)"
   ]
  },
  {
   "cell_type": "code",
   "execution_count": 23,
   "id": "aa674fe4-6794-4eed-98fa-32b39d1d4ace",
   "metadata": {
    "execution": {
     "iopub.execute_input": "2022-08-08T17:50:27.383480Z",
     "iopub.status.busy": "2022-08-08T17:50:27.383215Z",
     "iopub.status.idle": "2022-08-08T17:50:27.398220Z",
     "shell.execute_reply": "2022-08-08T17:50:27.397747Z"
    },
    "papermill": {
     "duration": 0.024314,
     "end_time": "2022-08-08T17:50:27.399431",
     "exception": false,
     "start_time": "2022-08-08T17:50:27.375117",
     "status": "completed"
    },
    "tags": []
   },
   "outputs": [],
   "source": [
    "warnings.filterwarnings(\"error\")"
   ]
  },
  {
   "cell_type": "code",
   "execution_count": 24,
   "id": "44d5450b-3baf-43f1-9e2e-4b06f1a785f8",
   "metadata": {
    "execution": {
     "iopub.execute_input": "2022-08-08T17:50:27.416279Z",
     "iopub.status.busy": "2022-08-08T17:50:27.415957Z",
     "iopub.status.idle": "2022-08-08T17:50:27.431053Z",
     "shell.execute_reply": "2022-08-08T17:50:27.430644Z"
    },
    "papermill": {
     "duration": 0.024362,
     "end_time": "2022-08-08T17:50:27.432273",
     "exception": false,
     "start_time": "2022-08-08T17:50:27.407911",
     "status": "completed"
    },
    "tags": []
   },
   "outputs": [],
   "source": [
    "# standard checks\n",
    "all_chrs = genes_info[\"chr\"].dropna().unique()\n",
    "assert all_chrs.shape[0] == 22\n",
    "\n",
    "# select chromosome given by the user\n",
    "assert CHROMOSOME in all_chrs"
   ]
  },
  {
   "cell_type": "code",
   "execution_count": 25,
   "id": "2d7c043c-92a7-4d35-991b-fa69ac1e0268",
   "metadata": {
    "execution": {
     "iopub.execute_input": "2022-08-08T17:50:27.448094Z",
     "iopub.status.busy": "2022-08-08T17:50:27.447774Z",
     "iopub.status.idle": "2022-08-08T17:50:27.482797Z",
     "shell.execute_reply": "2022-08-08T17:50:27.482402Z"
    },
    "papermill": {
     "duration": 0.044258,
     "end_time": "2022-08-08T17:50:27.484035",
     "exception": false,
     "start_time": "2022-08-08T17:50:27.439777",
     "status": "completed"
    },
    "tags": []
   },
   "outputs": [
    {
     "name": "stdout",
     "output_type": "stream",
     "text": [
      "Number of genes in chromosome: 281\n"
     ]
    }
   ],
   "source": [
    "# run only on the chromosome specified\n",
    "all_chrs = [CHROMOSOME]\n",
    "genes_chr = genes_info[genes_info[\"chr\"] == CHROMOSOME]\n",
    "\n",
    "# For testing purposes\n",
    "# genes_chr = genes_chr.sample(n=20)\n",
    "\n",
    "print(f\"Number of genes in chromosome: {genes_chr.shape[0]}\", flush=True)"
   ]
  },
  {
   "cell_type": "code",
   "execution_count": 26,
   "id": "916015d8-2979-46d3-a9b9-1cf5a0932c6a",
   "metadata": {
    "execution": {
     "iopub.execute_input": "2022-08-08T17:50:27.499152Z",
     "iopub.status.busy": "2022-08-08T17:50:27.498706Z",
     "iopub.status.idle": "2022-08-08T17:50:27.513854Z",
     "shell.execute_reply": "2022-08-08T17:50:27.513410Z"
    },
    "papermill": {
     "duration": 0.023934,
     "end_time": "2022-08-08T17:50:27.515110",
     "exception": false,
     "start_time": "2022-08-08T17:50:27.491176",
     "status": "completed"
    },
    "tags": []
   },
   "outputs": [],
   "source": [
    "# sort genes by starting position to make visualizations better later\n",
    "genes_chr = genes_chr.sort_values(\"start_position\")"
   ]
  },
  {
   "cell_type": "code",
   "execution_count": 27,
   "id": "a38aa74a-8ad3-47f6-8ef9-56be0e011774",
   "metadata": {
    "execution": {
     "iopub.execute_input": "2022-08-08T17:50:27.530220Z",
     "iopub.status.busy": "2022-08-08T17:50:27.529739Z",
     "iopub.status.idle": "2022-08-08T17:50:27.544673Z",
     "shell.execute_reply": "2022-08-08T17:50:27.544004Z"
    },
    "papermill": {
     "duration": 0.024005,
     "end_time": "2022-08-08T17:50:27.546193",
     "exception": false,
     "start_time": "2022-08-08T17:50:27.522188",
     "status": "completed"
    },
    "tags": []
   },
   "outputs": [],
   "source": [
    "gene_chr_objs = [Gene(ensembl_id=gene_id) for gene_id in genes_chr[\"id\"]]"
   ]
  },
  {
   "cell_type": "code",
   "execution_count": 28,
   "id": "570f974f-13c3-42b6-ad3a-ce99ca885c1a",
   "metadata": {
    "execution": {
     "iopub.execute_input": "2022-08-08T17:50:27.561307Z",
     "iopub.status.busy": "2022-08-08T17:50:27.561116Z",
     "iopub.status.idle": "2022-08-08T17:50:27.576440Z",
     "shell.execute_reply": "2022-08-08T17:50:27.575940Z"
    },
    "papermill": {
     "duration": 0.024387,
     "end_time": "2022-08-08T17:50:27.577638",
     "exception": false,
     "start_time": "2022-08-08T17:50:27.553251",
     "status": "completed"
    },
    "tags": []
   },
   "outputs": [
    {
     "name": "stdout",
     "output_type": "stream",
     "text": [
      "Number of gene combinations: 39340\n"
     ]
    }
   ],
   "source": [
    "n = len(gene_chr_objs)\n",
    "n_comb = int(n * (n - 1) / 2.0)\n",
    "print(f\"Number of gene combinations: {n_comb}\", flush=True)"
   ]
  },
  {
   "cell_type": "code",
   "execution_count": 29,
   "id": "cdbb90a1",
   "metadata": {
    "execution": {
     "iopub.execute_input": "2022-08-08T17:50:27.592975Z",
     "iopub.status.busy": "2022-08-08T17:50:27.592789Z",
     "iopub.status.idle": "2022-08-08T18:38:04.416440Z",
     "shell.execute_reply": "2022-08-08T18:38:04.416039Z"
    },
    "papermill": {
     "duration": 2856.83285,
     "end_time": "2022-08-08T18:38:04.417787",
     "exception": false,
     "start_time": "2022-08-08T17:50:27.584937",
     "status": "completed"
    },
    "tags": []
   },
   "outputs": [
    {
     "name": "stderr",
     "output_type": "stream",
     "text": [
      "ENSG00000155093 / ENSG00000106018: 100%|██████████████████████| 39340/39340 [47:36<00:00, 13.77it/s]\n"
     ]
    },
    {
     "data": {
      "text/plain": [
       "PosixPath('/opt/data/results/gls/gene_corrs/cohorts/1000g_eur/1000g/mashr/by_chr/gene_corrs-chr7.pkl')"
      ]
     },
     "metadata": {},
     "output_type": "display_data"
    }
   ],
   "source": [
    "gene_corrs = []\n",
    "\n",
    "i = 0\n",
    "with tqdm(ncols=100, total=n_comb) as pbar:\n",
    "    for gene1_idx in range(0, len(gene_chr_objs) - 1):\n",
    "        gene1_obj = gene_chr_objs[gene1_idx]\n",
    "        gene1_tissues = spredixcan_genes_models.loc[gene1_obj.ensembl_id, \"tissue\"]\n",
    "\n",
    "        for gene2_idx in range(gene1_idx + 1, len(gene_chr_objs)):\n",
    "            gene2_obj = gene_chr_objs[gene2_idx]\n",
    "            gene2_tissues = spredixcan_genes_models.loc[gene2_obj.ensembl_id, \"tissue\"]\n",
    "\n",
    "            pbar.set_description(f\"{gene1_obj.ensembl_id} / {gene2_obj.ensembl_id}\")\n",
    "\n",
    "            try:\n",
    "                r = gene1_obj.get_ssm_correlation(\n",
    "                    other_gene=gene2_obj,\n",
    "                    tissues=gene1_tissues,\n",
    "                    other_tissues=gene2_tissues,\n",
    "                    snps_subset=gwas_variants_ids_set,\n",
    "                    condition_number=SMULTIXCAN_CONDITION_NUMBER,\n",
    "                    reference_panel=REFERENCE_PANEL,\n",
    "                    model_type=EQTL_MODEL,\n",
    "                    use_within_distance=COMPUTE_CORRELATIONS_WITHIN_DISTANCE,\n",
    "                )\n",
    "\n",
    "                if r is None:\n",
    "                    # if r is None, it's very likely because:\n",
    "                    #  * one of the genes has no prediction models\n",
    "                    #  * all the SNPs predictors for the gene are not present in the reference\n",
    "                    #    panel\n",
    "\n",
    "                    r = 0.0\n",
    "\n",
    "                gene_corrs.append(r)\n",
    "            except Warning as e:\n",
    "                if not DEBUG_MODE:\n",
    "                    raise e\n",
    "\n",
    "                print(\n",
    "                    f\"RuntimeWarning for genes {gene1_obj.ensembl_id} and {gene2_obj.ensembl_id}\",\n",
    "                    flush=True,\n",
    "                )\n",
    "                print(traceback.format_exc(), flush=True)\n",
    "\n",
    "                gene_corrs.append(np.nan)\n",
    "            except Exception as e:\n",
    "                if not DEBUG_MODE:\n",
    "                    raise e\n",
    "\n",
    "                print(\n",
    "                    f\"Exception for genes {gene1_obj.ensembl_id} and {gene2_obj.ensembl_id}\",\n",
    "                    flush=True,\n",
    "                )\n",
    "                print(traceback.format_exc(), flush=True)\n",
    "\n",
    "                gene_corrs.append(np.nan)\n",
    "\n",
    "            pbar.update(1)\n",
    "\n",
    "# create a pandas series\n",
    "gene_corrs_flat = pd.Series(gene_corrs)\n",
    "\n",
    "# save\n",
    "# FIXME: consider saving only the condenced matrix here. See here for\n",
    "# more details: https://github.com/greenelab/phenoplier/pull/38#discussion_r634600813\n",
    "gene_corrs_data = squareform(np.array(gene_corrs, dtype=np.float64))\n",
    "np.fill_diagonal(gene_corrs_data, 1.0)\n",
    "\n",
    "gene_chr_ids = [g.ensembl_id for g in gene_chr_objs]\n",
    "gene_corrs_df = pd.DataFrame(\n",
    "    data=gene_corrs_data,\n",
    "    index=gene_chr_ids,\n",
    "    columns=gene_chr_ids,\n",
    ")\n",
    "\n",
    "output_dir.mkdir(exist_ok=True, parents=True)\n",
    "display(output_file)\n",
    "\n",
    "gene_corrs_df.to_pickle(output_file)"
   ]
  },
  {
   "cell_type": "markdown",
   "id": "faa67b51-5373-470f-aa72-2ded53fa6dfe",
   "metadata": {
    "papermill": {
     "duration": 2.257599,
     "end_time": "2022-08-08T18:38:08.824818",
     "exception": false,
     "start_time": "2022-08-08T18:38:06.567219",
     "status": "completed"
    },
    "tags": []
   },
   "source": [
    "# Testing"
   ]
  },
  {
   "cell_type": "code",
   "execution_count": 30,
   "id": "14f7d046-4b55-4896-a56b-990127bcc388",
   "metadata": {
    "execution": {
     "iopub.execute_input": "2022-08-08T18:38:13.160775Z",
     "iopub.status.busy": "2022-08-08T18:38:13.160605Z",
     "iopub.status.idle": "2022-08-08T18:38:13.178134Z",
     "shell.execute_reply": "2022-08-08T18:38:13.177709Z"
    },
    "papermill": {
     "duration": 2.126243,
     "end_time": "2022-08-08T18:38:13.179434",
     "exception": false,
     "start_time": "2022-08-08T18:38:11.053191",
     "status": "completed"
    },
    "tags": []
   },
   "outputs": [
    {
     "data": {
      "text/plain": [
       "(281, 281)"
      ]
     },
     "execution_count": 30,
     "metadata": {},
     "output_type": "execute_result"
    }
   ],
   "source": [
    "gene_corrs_df.shape"
   ]
  },
  {
   "cell_type": "code",
   "execution_count": 31,
   "id": "c7d15414-3297-4537-a7c6-7588c0baeb75",
   "metadata": {
    "execution": {
     "iopub.execute_input": "2022-08-08T18:38:17.480698Z",
     "iopub.status.busy": "2022-08-08T18:38:17.480484Z",
     "iopub.status.idle": "2022-08-08T18:38:17.508714Z",
     "shell.execute_reply": "2022-08-08T18:38:17.508271Z"
    },
    "papermill": {
     "duration": 2.167942,
     "end_time": "2022-08-08T18:38:17.509988",
     "exception": false,
     "start_time": "2022-08-08T18:38:15.342046",
     "status": "completed"
    },
    "tags": []
   },
   "outputs": [
    {
     "data": {
      "text/html": [
       "<div>\n",
       "<style scoped>\n",
       "    .dataframe tbody tr th:only-of-type {\n",
       "        vertical-align: middle;\n",
       "    }\n",
       "\n",
       "    .dataframe tbody tr th {\n",
       "        vertical-align: top;\n",
       "    }\n",
       "\n",
       "    .dataframe thead th {\n",
       "        text-align: right;\n",
       "    }\n",
       "</style>\n",
       "<table border=\"1\" class=\"dataframe\">\n",
       "  <thead>\n",
       "    <tr style=\"text-align: right;\">\n",
       "      <th></th>\n",
       "      <th>ENSG00000197461</th>\n",
       "      <th>ENSG00000188191</th>\n",
       "      <th>ENSG00000105963</th>\n",
       "      <th>ENSG00000198517</th>\n",
       "      <th>ENSG00000002822</th>\n",
       "      <th>ENSG00000106263</th>\n",
       "      <th>ENSG00000136213</th>\n",
       "      <th>ENSG00000106003</th>\n",
       "      <th>ENSG00000146535</th>\n",
       "      <th>ENSG00000198286</th>\n",
       "      <th>...</th>\n",
       "      <th>ENSG00000164889</th>\n",
       "      <th>ENSG00000033100</th>\n",
       "      <th>ENSG00000082014</th>\n",
       "      <th>ENSG00000013374</th>\n",
       "      <th>ENSG00000106615</th>\n",
       "      <th>ENSG00000106617</th>\n",
       "      <th>ENSG00000178234</th>\n",
       "      <th>ENSG00000009335</th>\n",
       "      <th>ENSG00000155093</th>\n",
       "      <th>ENSG00000106018</th>\n",
       "    </tr>\n",
       "  </thead>\n",
       "  <tbody>\n",
       "    <tr>\n",
       "      <th>ENSG00000197461</th>\n",
       "      <td>1.000000</td>\n",
       "      <td>0.081986</td>\n",
       "      <td>0.043885</td>\n",
       "      <td>0.004853</td>\n",
       "      <td>0.019816</td>\n",
       "      <td>0.008025</td>\n",
       "      <td>0.022171</td>\n",
       "      <td>0.013790</td>\n",
       "      <td>0.013675</td>\n",
       "      <td>0.015700</td>\n",
       "      <td>...</td>\n",
       "      <td>0.011217</td>\n",
       "      <td>0.015708</td>\n",
       "      <td>0.012785</td>\n",
       "      <td>0.017749</td>\n",
       "      <td>0.011648</td>\n",
       "      <td>0.017670</td>\n",
       "      <td>0.006367</td>\n",
       "      <td>0.013374</td>\n",
       "      <td>0.013020</td>\n",
       "      <td>0.015444</td>\n",
       "    </tr>\n",
       "    <tr>\n",
       "      <th>ENSG00000188191</th>\n",
       "      <td>0.081986</td>\n",
       "      <td>1.000000</td>\n",
       "      <td>0.089761</td>\n",
       "      <td>0.007912</td>\n",
       "      <td>0.010630</td>\n",
       "      <td>0.003971</td>\n",
       "      <td>0.021925</td>\n",
       "      <td>0.009760</td>\n",
       "      <td>0.009192</td>\n",
       "      <td>0.013800</td>\n",
       "      <td>...</td>\n",
       "      <td>0.009391</td>\n",
       "      <td>0.014495</td>\n",
       "      <td>0.009464</td>\n",
       "      <td>0.019579</td>\n",
       "      <td>0.006935</td>\n",
       "      <td>0.008536</td>\n",
       "      <td>0.002035</td>\n",
       "      <td>0.011117</td>\n",
       "      <td>0.004877</td>\n",
       "      <td>0.010598</td>\n",
       "    </tr>\n",
       "    <tr>\n",
       "      <th>ENSG00000105963</th>\n",
       "      <td>0.043885</td>\n",
       "      <td>0.089761</td>\n",
       "      <td>1.000000</td>\n",
       "      <td>0.012570</td>\n",
       "      <td>0.018635</td>\n",
       "      <td>0.011116</td>\n",
       "      <td>0.026086</td>\n",
       "      <td>0.018362</td>\n",
       "      <td>0.017134</td>\n",
       "      <td>0.023899</td>\n",
       "      <td>...</td>\n",
       "      <td>0.013054</td>\n",
       "      <td>0.014091</td>\n",
       "      <td>0.017494</td>\n",
       "      <td>0.026786</td>\n",
       "      <td>0.017084</td>\n",
       "      <td>0.016590</td>\n",
       "      <td>0.010784</td>\n",
       "      <td>0.011508</td>\n",
       "      <td>0.015008</td>\n",
       "      <td>0.019121</td>\n",
       "    </tr>\n",
       "    <tr>\n",
       "      <th>ENSG00000198517</th>\n",
       "      <td>0.004853</td>\n",
       "      <td>0.007912</td>\n",
       "      <td>0.012570</td>\n",
       "      <td>1.000000</td>\n",
       "      <td>0.009931</td>\n",
       "      <td>0.017722</td>\n",
       "      <td>0.020597</td>\n",
       "      <td>0.003794</td>\n",
       "      <td>0.002031</td>\n",
       "      <td>0.011681</td>\n",
       "      <td>...</td>\n",
       "      <td>0.005141</td>\n",
       "      <td>0.003840</td>\n",
       "      <td>0.007504</td>\n",
       "      <td>0.011676</td>\n",
       "      <td>0.005110</td>\n",
       "      <td>0.007789</td>\n",
       "      <td>0.001774</td>\n",
       "      <td>0.003109</td>\n",
       "      <td>0.008420</td>\n",
       "      <td>0.007797</td>\n",
       "    </tr>\n",
       "    <tr>\n",
       "      <th>ENSG00000002822</th>\n",
       "      <td>0.019816</td>\n",
       "      <td>0.010630</td>\n",
       "      <td>0.018635</td>\n",
       "      <td>0.009931</td>\n",
       "      <td>1.000000</td>\n",
       "      <td>0.026990</td>\n",
       "      <td>0.054232</td>\n",
       "      <td>0.036109</td>\n",
       "      <td>0.016537</td>\n",
       "      <td>0.026247</td>\n",
       "      <td>...</td>\n",
       "      <td>0.013374</td>\n",
       "      <td>0.012837</td>\n",
       "      <td>0.013063</td>\n",
       "      <td>0.019210</td>\n",
       "      <td>0.011775</td>\n",
       "      <td>0.019362</td>\n",
       "      <td>0.007131</td>\n",
       "      <td>0.017664</td>\n",
       "      <td>0.011665</td>\n",
       "      <td>0.016927</td>\n",
       "    </tr>\n",
       "  </tbody>\n",
       "</table>\n",
       "<p>5 rows × 281 columns</p>\n",
       "</div>"
      ],
      "text/plain": [
       "                 ENSG00000197461  ENSG00000188191  ENSG00000105963  \\\n",
       "ENSG00000197461         1.000000         0.081986         0.043885   \n",
       "ENSG00000188191         0.081986         1.000000         0.089761   \n",
       "ENSG00000105963         0.043885         0.089761         1.000000   \n",
       "ENSG00000198517         0.004853         0.007912         0.012570   \n",
       "ENSG00000002822         0.019816         0.010630         0.018635   \n",
       "\n",
       "                 ENSG00000198517  ENSG00000002822  ENSG00000106263  \\\n",
       "ENSG00000197461         0.004853         0.019816         0.008025   \n",
       "ENSG00000188191         0.007912         0.010630         0.003971   \n",
       "ENSG00000105963         0.012570         0.018635         0.011116   \n",
       "ENSG00000198517         1.000000         0.009931         0.017722   \n",
       "ENSG00000002822         0.009931         1.000000         0.026990   \n",
       "\n",
       "                 ENSG00000136213  ENSG00000106003  ENSG00000146535  \\\n",
       "ENSG00000197461         0.022171         0.013790         0.013675   \n",
       "ENSG00000188191         0.021925         0.009760         0.009192   \n",
       "ENSG00000105963         0.026086         0.018362         0.017134   \n",
       "ENSG00000198517         0.020597         0.003794         0.002031   \n",
       "ENSG00000002822         0.054232         0.036109         0.016537   \n",
       "\n",
       "                 ENSG00000198286  ...  ENSG00000164889  ENSG00000033100  \\\n",
       "ENSG00000197461         0.015700  ...         0.011217         0.015708   \n",
       "ENSG00000188191         0.013800  ...         0.009391         0.014495   \n",
       "ENSG00000105963         0.023899  ...         0.013054         0.014091   \n",
       "ENSG00000198517         0.011681  ...         0.005141         0.003840   \n",
       "ENSG00000002822         0.026247  ...         0.013374         0.012837   \n",
       "\n",
       "                 ENSG00000082014  ENSG00000013374  ENSG00000106615  \\\n",
       "ENSG00000197461         0.012785         0.017749         0.011648   \n",
       "ENSG00000188191         0.009464         0.019579         0.006935   \n",
       "ENSG00000105963         0.017494         0.026786         0.017084   \n",
       "ENSG00000198517         0.007504         0.011676         0.005110   \n",
       "ENSG00000002822         0.013063         0.019210         0.011775   \n",
       "\n",
       "                 ENSG00000106617  ENSG00000178234  ENSG00000009335  \\\n",
       "ENSG00000197461         0.017670         0.006367         0.013374   \n",
       "ENSG00000188191         0.008536         0.002035         0.011117   \n",
       "ENSG00000105963         0.016590         0.010784         0.011508   \n",
       "ENSG00000198517         0.007789         0.001774         0.003109   \n",
       "ENSG00000002822         0.019362         0.007131         0.017664   \n",
       "\n",
       "                 ENSG00000155093  ENSG00000106018  \n",
       "ENSG00000197461         0.013020         0.015444  \n",
       "ENSG00000188191         0.004877         0.010598  \n",
       "ENSG00000105963         0.015008         0.019121  \n",
       "ENSG00000198517         0.008420         0.007797  \n",
       "ENSG00000002822         0.011665         0.016927  \n",
       "\n",
       "[5 rows x 281 columns]"
      ]
     },
     "execution_count": 31,
     "metadata": {},
     "output_type": "execute_result"
    }
   ],
   "source": [
    "gene_corrs_df.head()"
   ]
  },
  {
   "cell_type": "markdown",
   "id": "dad6603f-01c6-41fb-a6f6-241051207dd8",
   "metadata": {
    "papermill": {
     "duration": 2.143903,
     "end_time": "2022-08-08T18:38:21.791507",
     "exception": false,
     "start_time": "2022-08-08T18:38:19.647604",
     "status": "completed"
    },
    "tags": []
   },
   "source": [
    "## Standard checks and stats"
   ]
  },
  {
   "cell_type": "code",
   "execution_count": 32,
   "id": "286686af-1b7b-4440-8453-6bdcbd8de19c",
   "metadata": {
    "execution": {
     "iopub.execute_input": "2022-08-08T18:38:26.080698Z",
     "iopub.status.busy": "2022-08-08T18:38:26.080503Z",
     "iopub.status.idle": "2022-08-08T18:38:26.096753Z",
     "shell.execute_reply": "2022-08-08T18:38:26.096307Z"
    },
    "papermill": {
     "duration": 2.181013,
     "end_time": "2022-08-08T18:38:26.098040",
     "exception": false,
     "start_time": "2022-08-08T18:38:23.917027",
     "status": "completed"
    },
    "tags": []
   },
   "outputs": [],
   "source": [
    "assert not gene_corrs_df.isna().any().any()"
   ]
  },
  {
   "cell_type": "code",
   "execution_count": 33,
   "id": "00583efc-7068-4270-ad1e-4a418e91db96",
   "metadata": {
    "execution": {
     "iopub.execute_input": "2022-08-08T18:38:30.413972Z",
     "iopub.status.busy": "2022-08-08T18:38:30.413747Z",
     "iopub.status.idle": "2022-08-08T18:38:30.431048Z",
     "shell.execute_reply": "2022-08-08T18:38:30.430586Z"
    },
    "papermill": {
     "duration": 2.151143,
     "end_time": "2022-08-08T18:38:30.432216",
     "exception": false,
     "start_time": "2022-08-08T18:38:28.281073",
     "status": "completed"
    },
    "tags": []
   },
   "outputs": [
    {
     "data": {
      "text/plain": [
       "2.7906763905833627e-08"
      ]
     },
     "metadata": {},
     "output_type": "display_data"
    }
   ],
   "source": [
    "_min_val = gene_corrs_df.min().min()\n",
    "display(_min_val)\n",
    "assert _min_val >= 0.0"
   ]
  },
  {
   "cell_type": "code",
   "execution_count": 34,
   "id": "d04fb2cf-1050-475b-b855-f5f7cc04092b",
   "metadata": {
    "execution": {
     "iopub.execute_input": "2022-08-08T18:38:34.696189Z",
     "iopub.status.busy": "2022-08-08T18:38:34.695946Z",
     "iopub.status.idle": "2022-08-08T18:38:34.713296Z",
     "shell.execute_reply": "2022-08-08T18:38:34.712863Z"
    },
    "papermill": {
     "duration": 2.176693,
     "end_time": "2022-08-08T18:38:34.714417",
     "exception": false,
     "start_time": "2022-08-08T18:38:32.537724",
     "status": "completed"
    },
    "tags": []
   },
   "outputs": [
    {
     "data": {
      "text/plain": [
       "1.0"
      ]
     },
     "metadata": {},
     "output_type": "display_data"
    }
   ],
   "source": [
    "_max_val = gene_corrs_df.max().max()  # this captures the diagonal\n",
    "display(_max_val)\n",
    "assert _max_val <= 1.0"
   ]
  },
  {
   "cell_type": "code",
   "execution_count": 35,
   "id": "96d02c44-1fba-47be-8a93-8f2608420b9c",
   "metadata": {
    "execution": {
     "iopub.execute_input": "2022-08-08T18:38:38.930756Z",
     "iopub.status.busy": "2022-08-08T18:38:38.930533Z",
     "iopub.status.idle": "2022-08-08T18:38:38.945786Z",
     "shell.execute_reply": "2022-08-08T18:38:38.945356Z"
    },
    "papermill": {
     "duration": 2.128758,
     "end_time": "2022-08-08T18:38:38.946984",
     "exception": false,
     "start_time": "2022-08-08T18:38:36.818226",
     "status": "completed"
    },
    "tags": []
   },
   "outputs": [],
   "source": [
    "# check upper triangular values\n",
    "assert len(gene_corrs) == int(genes_chr.shape[0] * (genes_chr.shape[0] - 1) / 2)"
   ]
  },
  {
   "cell_type": "code",
   "execution_count": 36,
   "id": "fe283586-c348-40e0-8841-f6d97bfb021c",
   "metadata": {
    "execution": {
     "iopub.execute_input": "2022-08-08T18:38:43.203219Z",
     "iopub.status.busy": "2022-08-08T18:38:43.202998Z",
     "iopub.status.idle": "2022-08-08T18:38:43.225218Z",
     "shell.execute_reply": "2022-08-08T18:38:43.224835Z"
    },
    "papermill": {
     "duration": 2.157579,
     "end_time": "2022-08-08T18:38:43.226386",
     "exception": false,
     "start_time": "2022-08-08T18:38:41.068807",
     "status": "completed"
    },
    "tags": []
   },
   "outputs": [
    {
     "data": {
      "text/plain": [
       "count    3.934000e+04\n",
       "mean     1.111020e-02\n",
       "std      2.995401e-02\n",
       "min      2.790676e-08\n",
       "25%      5.555325e-03\n",
       "50%      8.337052e-03\n",
       "75%      1.157247e-02\n",
       "max      9.346022e-01\n",
       "dtype: float64"
      ]
     },
     "execution_count": 36,
     "metadata": {},
     "output_type": "execute_result"
    }
   ],
   "source": [
    "gene_corrs_flat.describe()"
   ]
  },
  {
   "cell_type": "code",
   "execution_count": 37,
   "id": "b3815678-0f93-4b35-897b-a9d047a2aa78",
   "metadata": {
    "execution": {
     "iopub.execute_input": "2022-08-08T18:38:47.459825Z",
     "iopub.status.busy": "2022-08-08T18:38:47.459664Z",
     "iopub.status.idle": "2022-08-08T18:38:47.478280Z",
     "shell.execute_reply": "2022-08-08T18:38:47.477819Z"
    },
    "papermill": {
     "duration": 2.143742,
     "end_time": "2022-08-08T18:38:47.479461",
     "exception": false,
     "start_time": "2022-08-08T18:38:45.335719",
     "status": "completed"
    },
    "tags": []
   },
   "outputs": [
    {
     "data": {
      "text/plain": [
       "0.00    2.790676e-08\n",
       "0.05    2.401553e-03\n",
       "0.10    3.457112e-03\n",
       "0.15    4.252394e-03\n",
       "0.20    4.946304e-03\n",
       "0.25    5.555325e-03\n",
       "0.30    6.121806e-03\n",
       "0.35    6.673206e-03\n",
       "0.40    7.230513e-03\n",
       "0.45    7.787841e-03\n",
       "0.50    8.337052e-03\n",
       "0.55    8.901727e-03\n",
       "0.60    9.497128e-03\n",
       "0.65    1.012485e-02\n",
       "0.70    1.082413e-02\n",
       "0.75    1.157247e-02\n",
       "0.80    1.245641e-02\n",
       "0.85    1.351450e-02\n",
       "0.90    1.489482e-02\n",
       "0.95    1.733965e-02\n",
       "dtype: float64"
      ]
     },
     "metadata": {},
     "output_type": "display_data"
    }
   ],
   "source": [
    "gene_corrs_quantiles = gene_corrs_flat.quantile(np.arange(0, 1, 0.05))\n",
    "display(gene_corrs_quantiles)"
   ]
  },
  {
   "cell_type": "markdown",
   "id": "87134509-b145-4a10-8bc9-b7e914c2b0fa",
   "metadata": {
    "papermill": {
     "duration": 2.124504,
     "end_time": "2022-08-08T18:38:51.720899",
     "exception": false,
     "start_time": "2022-08-08T18:38:49.596395",
     "status": "completed"
    },
    "tags": []
   },
   "source": [
    "## Positive definiteness"
   ]
  },
  {
   "cell_type": "code",
   "execution_count": 38,
   "id": "07d9a9a1-a4f7-48aa-b916-6d42a8cc6186",
   "metadata": {
    "execution": {
     "iopub.execute_input": "2022-08-08T18:38:56.033385Z",
     "iopub.status.busy": "2022-08-08T18:38:56.033135Z",
     "iopub.status.idle": "2022-08-08T18:38:56.122180Z",
     "shell.execute_reply": "2022-08-08T18:38:56.121828Z"
    },
    "papermill": {
     "duration": 2.250649,
     "end_time": "2022-08-08T18:38:56.123331",
     "exception": false,
     "start_time": "2022-08-08T18:38:53.872682",
     "status": "completed"
    },
    "tags": []
   },
   "outputs": [
    {
     "data": {
      "text/plain": [
       "0"
      ]
     },
     "metadata": {},
     "output_type": "display_data"
    },
    {
     "data": {
      "text/plain": [
       "array([], dtype=float64)"
      ]
     },
     "metadata": {},
     "output_type": "display_data"
    }
   ],
   "source": [
    "# print negative eigenvalues\n",
    "eigs = np.linalg.eigvals(gene_corrs_df.to_numpy())\n",
    "display(len(eigs[eigs < 0]))\n",
    "display(eigs[eigs < 0])"
   ]
  },
  {
   "cell_type": "code",
   "execution_count": 39,
   "id": "6e218436-c3c5-4028-8c94-a4fa6260efce",
   "metadata": {
    "execution": {
     "iopub.execute_input": "2022-08-08T18:39:00.488578Z",
     "iopub.status.busy": "2022-08-08T18:39:00.488386Z",
     "iopub.status.idle": "2022-08-08T18:39:00.552163Z",
     "shell.execute_reply": "2022-08-08T18:39:00.551792Z"
    },
    "papermill": {
     "duration": 2.211357,
     "end_time": "2022-08-08T18:39:00.553408",
     "exception": false,
     "start_time": "2022-08-08T18:38:58.342051",
     "status": "completed"
    },
    "tags": []
   },
   "outputs": [
    {
     "name": "stdout",
     "output_type": "stream",
     "text": [
      "Works!\n"
     ]
    }
   ],
   "source": [
    "try:\n",
    "    chol_mat = np.linalg.cholesky(gene_corrs_df.to_numpy())\n",
    "    cov_inv = np.linalg.inv(chol_mat)\n",
    "    print(\"Works!\")\n",
    "except:\n",
    "    print(\"Cholesky decomposition failed\")"
   ]
  },
  {
   "cell_type": "markdown",
   "id": "8e60a080-edb2-4e9c-b2ef-22961693200c",
   "metadata": {
    "papermill": {
     "duration": 2.139276,
     "end_time": "2022-08-08T18:39:04.835971",
     "exception": false,
     "start_time": "2022-08-08T18:39:02.696695",
     "status": "completed"
    },
    "tags": []
   },
   "source": [
    "## Plot: distribution"
   ]
  },
  {
   "cell_type": "code",
   "execution_count": 40,
   "id": "8301126b-a7d4-4744-9c7d-f0f86eb6f54c",
   "metadata": {
    "execution": {
     "iopub.execute_input": "2022-08-08T18:39:09.137278Z",
     "iopub.status.busy": "2022-08-08T18:39:09.137086Z",
     "iopub.status.idle": "2022-08-08T18:39:15.045654Z",
     "shell.execute_reply": "2022-08-08T18:39:15.045193Z"
    },
    "papermill": {
     "duration": 8.066158,
     "end_time": "2022-08-08T18:39:15.047087",
     "exception": false,
     "start_time": "2022-08-08T18:39:06.980929",
     "status": "completed"
    },
    "tags": []
   },
   "outputs": [
    {
     "data": {
      "image/png": "[encoded data removed]",
      "text/plain": [
       "<Figure size 504x504 with 1 Axes>"
      ]
     },
     "metadata": {
      "needs_background": "light"
     },
     "output_type": "display_data"
    }
   ],
   "source": [
    "with sns.plotting_context(\"paper\", font_scale=1.5):\n",
    "    g = sns.displot(gene_corrs_flat, kde=True, height=7)\n",
    "    g.ax.set_title(\n",
    "        f\"Distribution of gene correlation values in chromosome {CHROMOSOME}\"\n",
    "    )"
   ]
  },
  {
   "cell_type": "markdown",
   "id": "cbd52bca-d878-4a2f-b684-5c83aa3038d4",
   "metadata": {
    "papermill": {
     "duration": 2.173539,
     "end_time": "2022-08-08T18:39:19.346153",
     "exception": false,
     "start_time": "2022-08-08T18:39:17.172614",
     "status": "completed"
    },
    "tags": []
   },
   "source": [
    "## Plot: heatmap"
   ]
  },
  {
   "cell_type": "code",
   "execution_count": 41,
   "id": "d03fe63a-c7b2-4fb9-a53c-db362ce843c9",
   "metadata": {
    "execution": {
     "iopub.execute_input": "2022-08-08T18:39:23.726331Z",
     "iopub.status.busy": "2022-08-08T18:39:23.725855Z",
     "iopub.status.idle": "2022-08-08T18:39:23.742937Z",
     "shell.execute_reply": "2022-08-08T18:39:23.742559Z"
    },
    "papermill": {
     "duration": 2.209169,
     "end_time": "2022-08-08T18:39:23.744274",
     "exception": false,
     "start_time": "2022-08-08T18:39:21.535105",
     "status": "completed"
    },
    "tags": []
   },
   "outputs": [
    {
     "data": {
      "text/plain": [
       "'0.0 / 0.05'"
      ]
     },
     "metadata": {},
     "output_type": "display_data"
    }
   ],
   "source": [
    "vmin_val = min(0.00, gene_corrs_quantiles[0.10])\n",
    "vmax_val = max(0.05, gene_corrs_quantiles[0.90])\n",
    "display(f\"{vmin_val} / {vmax_val}\")"
   ]
  },
  {
   "cell_type": "code",
   "execution_count": 42,
   "id": "dc41b70b-5bcc-4d9e-9f33-a22c4a94dab5",
   "metadata": {
    "execution": {
     "iopub.execute_input": "2022-08-08T18:39:28.075377Z",
     "iopub.status.busy": "2022-08-08T18:39:28.075180Z",
     "iopub.status.idle": "2022-08-08T18:39:28.926167Z",
     "shell.execute_reply": "2022-08-08T18:39:28.925751Z"
    },
    "papermill": {
     "duration": 2.969645,
     "end_time": "2022-08-08T18:39:28.929812",
     "exception": false,
     "start_time": "2022-08-08T18:39:25.960167",
     "status": "completed"
    },
    "tags": []
   },
   "outputs": [
    {
     "data": {
      "text/plain": [
       "Text(0.5, 1.0, 'Gene correlations in chromosome 7')"
      ]
     },
     "execution_count": 42,
     "metadata": {},
     "output_type": "execute_result"
    },
    {
     "data": {
      "image/png": "[encoded data removed]",
      "text/plain": [
       "<Figure size 720x720 with 2 Axes>"
      ]
     },
     "metadata": {
      "needs_background": "light"
     },
     "output_type": "display_data"
    }
   ],
   "source": [
    "f, ax = plt.subplots(figsize=(10, 10))\n",
    "sns.heatmap(\n",
    "    gene_corrs_df,\n",
    "    xticklabels=False,\n",
    "    yticklabels=False,\n",
    "    square=True,\n",
    "    vmin=vmin_val,\n",
    "    vmax=vmax_val,\n",
    "    cmap=\"rocket_r\",\n",
    "    ax=ax,\n",
    ")\n",
    "ax.set_title(f\"Gene correlations in chromosome {CHROMOSOME}\")"
   ]
  },
  {
   "cell_type": "code",
   "execution_count": null,
   "id": "b25e3ead",
   "metadata": {
    "papermill": {
     "duration": 2.133098,
     "end_time": "2022-08-08T18:39:33.240954",
     "exception": false,
     "start_time": "2022-08-08T18:39:31.107856",
     "status": "completed"
    },
    "tags": []
   },
   "outputs": [],
   "source": []
  }
 ],
 "metadata": {
  "jupytext": {
   "cell_metadata_filter": "all,-execution,-papermill,-trusted",
   "formats": "ipynb,py//py:percent"
  },
  "kernelspec": {
   "display_name": "Python 3 (ipykernel)",
   "language": "python",
   "name": "python3"
  },
  "language_info": {
   "codemirror_mode": {
    "name": "ipython",
    "version": 3
   },
   "file_extension": ".py",
   "mimetype": "text/x-python",
   "name": "python",
   "nbconvert_exporter": "python",
   "pygments_lexer": "ipython3",
   "version": "3.8.13"
  },
  "papermill": {
   "default_parameters": {},
   "duration": 2958.611641,
   "end_time": "2022-08-08T18:39:39.080292",
   "environment_variables": {},
   "exception": null,
   "input_path": "nbs/15_gsa_gls/10-gene_expr_correlations.ipynb",
   "output_path": "nbs/15_gsa_gls/gene_corrs/cohorts/1000g_eur/1000g/mashr/10-gene_expr_correlations-chr7.run.ipynb",
   "parameters": {
    "CHROMOSOME": 7,
    "COHORT_NAME": "1000G_EUR",
    "EQTL_MODEL": "MASHR",
    "REFERENCE_PANEL": "1000G"
   },
   "start_time": "2022-08-08T17:50:20.468651",
   "version": "2.2.2"
  }
 },
 "nbformat": 4,
 "nbformat_minor": 5
}
