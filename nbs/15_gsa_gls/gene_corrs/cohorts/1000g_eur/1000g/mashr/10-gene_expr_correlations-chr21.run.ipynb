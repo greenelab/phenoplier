{
 "cells": [
  {
   "cell_type": "markdown",
   "id": "7a6632fb",
   "metadata": {
    "papermill": {
     "duration": 0.006994,
     "end_time": "2022-07-22T04:55:19.575090",
     "exception": false,
     "start_time": "2022-07-22T04:55:19.568096",
     "status": "completed"
    },
    "tags": []
   },
   "source": [
    "# Description"
   ]
  },
  {
   "cell_type": "markdown",
   "id": "7097c346",
   "metadata": {
    "papermill": {
     "duration": 0.005927,
     "end_time": "2022-07-22T04:55:19.587365",
     "exception": false,
     "start_time": "2022-07-22T04:55:19.581438",
     "status": "completed"
    },
    "tags": []
   },
   "source": [
    "(Please, take a look at the README.md file in this directory for instructions on how to run this notebook)\n",
    "\n",
    "This notebook computes predicted expression correlations between all genes in the MultiPLIER models.\n",
    "\n",
    "It also has a parameter set for papermill to run on a single chromosome to run in parallel (see under `Settings` below).\n",
    "\n",
    "This notebook is not directly run. See README.md."
   ]
  },
  {
   "cell_type": "markdown",
   "id": "c61d8427",
   "metadata": {
    "papermill": {
     "duration": 0.005818,
     "end_time": "2022-07-22T04:55:19.599559",
     "exception": false,
     "start_time": "2022-07-22T04:55:19.593741",
     "status": "completed"
    },
    "tags": []
   },
   "source": [
    "# Modules"
   ]
  },
  {
   "cell_type": "code",
   "execution_count": 1,
   "id": "bbc0234f",
   "metadata": {
    "execution": {
     "iopub.execute_input": "2022-07-22T04:55:19.613473Z",
     "iopub.status.busy": "2022-07-22T04:55:19.613220Z",
     "iopub.status.idle": "2022-07-22T04:55:19.627940Z",
     "shell.execute_reply": "2022-07-22T04:55:19.627513Z"
    },
    "papermill": {
     "duration": 0.023434,
     "end_time": "2022-07-22T04:55:19.629223",
     "exception": false,
     "start_time": "2022-07-22T04:55:19.605789",
     "status": "completed"
    },
    "tags": []
   },
   "outputs": [],
   "source": [
    "%load_ext autoreload\n",
    "%autoreload 2"
   ]
  },
  {
   "cell_type": "code",
   "execution_count": 2,
   "id": "1d5f5a59",
   "metadata": {
    "execution": {
     "iopub.execute_input": "2022-07-22T04:55:19.669919Z",
     "iopub.status.busy": "2022-07-22T04:55:19.669472Z",
     "iopub.status.idle": "2022-07-22T04:55:20.575890Z",
     "shell.execute_reply": "2022-07-22T04:55:20.575445Z"
    },
    "papermill": {
     "duration": 0.914984,
     "end_time": "2022-07-22T04:55:20.577246",
     "exception": false,
     "start_time": "2022-07-22T04:55:19.662262",
     "status": "completed"
    },
    "tags": []
   },
   "outputs": [],
   "source": [
    "from random import sample, seed\n",
    "import warnings\n",
    "from pathlib import Path\n",
    "import pickle\n",
    "import traceback\n",
    "\n",
    "import numpy as np\n",
    "from scipy.spatial.distance import squareform\n",
    "import pandas as pd\n",
    "from tqdm import tqdm\n",
    "import matplotlib.pyplot as plt\n",
    "import seaborn as sns\n",
    "\n",
    "import conf\n",
    "from entity import Gene"
   ]
  },
  {
   "cell_type": "markdown",
   "id": "1eac24b5",
   "metadata": {
    "papermill": {
     "duration": 0.005661,
     "end_time": "2022-07-22T04:55:20.589017",
     "exception": false,
     "start_time": "2022-07-22T04:55:20.583356",
     "status": "completed"
    },
    "tags": []
   },
   "source": [
    "# Settings"
   ]
  },
  {
   "cell_type": "code",
   "execution_count": 3,
   "id": "ca4560ba",
   "metadata": {
    "execution": {
     "iopub.execute_input": "2022-07-22T04:55:20.602908Z",
     "iopub.status.busy": "2022-07-22T04:55:20.602694Z",
     "iopub.status.idle": "2022-07-22T04:55:20.617687Z",
     "shell.execute_reply": "2022-07-22T04:55:20.617298Z"
    },
    "papermill": {
     "duration": 0.023195,
     "end_time": "2022-07-22T04:55:20.618881",
     "exception": false,
     "start_time": "2022-07-22T04:55:20.595686",
     "status": "completed"
    },
    "tags": [
     "parameters"
    ]
   },
   "outputs": [],
   "source": [
    "# a cohort name (it could be something like UK_BIOBANK, etc)\n",
    "COHORT_NAME = None\n",
    "\n",
    "# reference panel such as 1000G or GTEX_V8\n",
    "REFERENCE_PANEL = None\n",
    "\n",
    "# predictions models such as MASHR or ELASTIC_NET\n",
    "EQTL_MODEL = None\n",
    "\n",
    "# this is the default value used in S-MultiXcan to select the\n",
    "# top principal components of the expression correlation matrix\n",
    "SMULTIXCAN_CONDITION_NUMBER = 30\n",
    "\n",
    "# specifies a single chromosome value\n",
    "CHROMOSOME = None\n",
    "\n",
    "# if True, then it will continue if a gene pair correlation fails,\n",
    "# printing the warning/error for debugging. If False, any warning/error\n",
    "# will be thrown\n",
    "# FIXME: make it False when all is working\n",
    "DEBUG_MODE = True"
   ]
  },
  {
   "cell_type": "code",
   "execution_count": 4,
   "id": "7caef54b",
   "metadata": {
    "execution": {
     "iopub.execute_input": "2022-07-22T04:55:20.631862Z",
     "iopub.status.busy": "2022-07-22T04:55:20.631517Z",
     "iopub.status.idle": "2022-07-22T04:55:20.646356Z",
     "shell.execute_reply": "2022-07-22T04:55:20.645818Z"
    },
    "papermill": {
     "duration": 0.022765,
     "end_time": "2022-07-22T04:55:20.647591",
     "exception": false,
     "start_time": "2022-07-22T04:55:20.624826",
     "status": "completed"
    },
    "tags": [
     "injected-parameters"
    ]
   },
   "outputs": [],
   "source": [
    "# Parameters\n",
    "COHORT_NAME = \"1000G_EUR\"\n",
    "REFERENCE_PANEL = \"1000G\"\n",
    "EQTL_MODEL = \"MASHR\"\n",
    "CHROMOSOME = 21\n"
   ]
  },
  {
   "cell_type": "code",
   "execution_count": 5,
   "id": "3190631f-27fc-480f-b18e-571d580425a5",
   "metadata": {
    "execution": {
     "iopub.execute_input": "2022-07-22T04:55:20.660557Z",
     "iopub.status.busy": "2022-07-22T04:55:20.660215Z",
     "iopub.status.idle": "2022-07-22T04:55:20.677559Z",
     "shell.execute_reply": "2022-07-22T04:55:20.677081Z"
    },
    "papermill": {
     "duration": 0.025412,
     "end_time": "2022-07-22T04:55:20.679008",
     "exception": false,
     "start_time": "2022-07-22T04:55:20.653596",
     "status": "completed"
    },
    "tags": []
   },
   "outputs": [
    {
     "data": {
      "text/plain": [
       "'Cohort name: 1000g_eur'"
      ]
     },
     "metadata": {},
     "output_type": "display_data"
    }
   ],
   "source": [
    "assert COHORT_NAME is not None or len(COHORT_NAME) == 0, \"A cohort name must be given\"\n",
    "\n",
    "COHORT_NAME = COHORT_NAME.lower()\n",
    "display(f\"Cohort name: {COHORT_NAME}\")"
   ]
  },
  {
   "cell_type": "code",
   "execution_count": 6,
   "id": "f53ba19b-0f93-4fa2-a047-63b375939d1a",
   "metadata": {
    "execution": {
     "iopub.execute_input": "2022-07-22T04:55:20.692799Z",
     "iopub.status.busy": "2022-07-22T04:55:20.692602Z",
     "iopub.status.idle": "2022-07-22T04:55:20.707975Z",
     "shell.execute_reply": "2022-07-22T04:55:20.707557Z"
    },
    "papermill": {
     "duration": 0.024388,
     "end_time": "2022-07-22T04:55:20.710085",
     "exception": false,
     "start_time": "2022-07-22T04:55:20.685697",
     "status": "completed"
    },
    "tags": []
   },
   "outputs": [
    {
     "data": {
      "text/plain": [
       "'Reference panel: 1000G'"
      ]
     },
     "metadata": {},
     "output_type": "display_data"
    }
   ],
   "source": [
    "assert (\n",
    "    REFERENCE_PANEL is not None or len(REFERENCE_PANEL) == 0\n",
    "), \"A reference panel must be given\"\n",
    "\n",
    "display(f\"Reference panel: {REFERENCE_PANEL}\")"
   ]
  },
  {
   "cell_type": "code",
   "execution_count": 7,
   "id": "e024d130-c139-429a-9c6e-ccf149e297b0",
   "metadata": {
    "execution": {
     "iopub.execute_input": "2022-07-22T04:55:20.723688Z",
     "iopub.status.busy": "2022-07-22T04:55:20.723459Z",
     "iopub.status.idle": "2022-07-22T04:55:20.738906Z",
     "shell.execute_reply": "2022-07-22T04:55:20.738438Z"
    },
    "papermill": {
     "duration": 0.023644,
     "end_time": "2022-07-22T04:55:20.740102",
     "exception": false,
     "start_time": "2022-07-22T04:55:20.716458",
     "status": "completed"
    },
    "tags": []
   },
   "outputs": [
    {
     "data": {
      "text/plain": [
       "'eQTL model: MASHR) / mashr_'"
      ]
     },
     "metadata": {},
     "output_type": "display_data"
    }
   ],
   "source": [
    "assert (\n",
    "    EQTL_MODEL is not None or len(EQTL_MODEL) == 0\n",
    "), \"A prediction/eQTL model must be given\"\n",
    "\n",
    "EQTL_MODEL_FILES_PREFIX = conf.PHENOMEXCAN[\"PREDICTION_MODELS\"][f\"{EQTL_MODEL}_PREFIX\"]\n",
    "display(f\"eQTL model: {EQTL_MODEL}) / {EQTL_MODEL_FILES_PREFIX}\")"
   ]
  },
  {
   "cell_type": "code",
   "execution_count": 8,
   "id": "552a7f63-a18c-4d3e-bb6a-94f99b431291",
   "metadata": {
    "execution": {
     "iopub.execute_input": "2022-07-22T04:55:20.754776Z",
     "iopub.status.busy": "2022-07-22T04:55:20.754570Z",
     "iopub.status.idle": "2022-07-22T04:55:20.769834Z",
     "shell.execute_reply": "2022-07-22T04:55:20.769426Z"
    },
    "papermill": {
     "duration": 0.023419,
     "end_time": "2022-07-22T04:55:20.770976",
     "exception": false,
     "start_time": "2022-07-22T04:55:20.747557",
     "status": "completed"
    },
    "tags": []
   },
   "outputs": [
    {
     "data": {
      "text/plain": [
       "'S-MultiXcan condition number: 30'"
      ]
     },
     "metadata": {},
     "output_type": "display_data"
    }
   ],
   "source": [
    "assert (\n",
    "    SMULTIXCAN_CONDITION_NUMBER is not None or SMULTIXCAN_CONDITION_NUMBER > 0\n",
    "), \"The S-MultiXcan condition number (positive integer) must be given\"\n",
    "\n",
    "display(f\"S-MultiXcan condition number: {SMULTIXCAN_CONDITION_NUMBER}\")"
   ]
  },
  {
   "cell_type": "code",
   "execution_count": 9,
   "id": "f34a336f-548e-4afe-8955-90eaea4f42c6",
   "metadata": {
    "execution": {
     "iopub.execute_input": "2022-07-22T04:55:20.785279Z",
     "iopub.status.busy": "2022-07-22T04:55:20.785078Z",
     "iopub.status.idle": "2022-07-22T04:55:20.800158Z",
     "shell.execute_reply": "2022-07-22T04:55:20.799719Z"
    },
    "papermill": {
     "duration": 0.023326,
     "end_time": "2022-07-22T04:55:20.801384",
     "exception": false,
     "start_time": "2022-07-22T04:55:20.778058",
     "status": "completed"
    },
    "tags": []
   },
   "outputs": [
    {
     "data": {
      "text/plain": [
       "'Working on chromosome 21'"
      ]
     },
     "metadata": {},
     "output_type": "display_data"
    }
   ],
   "source": [
    "assert CHROMOSOME is not None and (\n",
    "    1 <= CHROMOSOME <= 22\n",
    "), \"You have to select one chromosome (format: number between 1 and 22)\"\n",
    "\n",
    "CHROMOSOME = str(CHROMOSOME)\n",
    "display(f\"Working on chromosome {CHROMOSOME}\")"
   ]
  },
  {
   "cell_type": "code",
   "execution_count": 10,
   "id": "ab8e96e8-06b5-4363-9dcd-dc4d78cc27f7",
   "metadata": {
    "execution": {
     "iopub.execute_input": "2022-07-22T04:55:20.814737Z",
     "iopub.status.busy": "2022-07-22T04:55:20.814420Z",
     "iopub.status.idle": "2022-07-22T04:55:20.830523Z",
     "shell.execute_reply": "2022-07-22T04:55:20.830122Z"
    },
    "papermill": {
     "duration": 0.024066,
     "end_time": "2022-07-22T04:55:20.831711",
     "exception": false,
     "start_time": "2022-07-22T04:55:20.807645",
     "status": "completed"
    },
    "tags": []
   },
   "outputs": [
    {
     "data": {
      "text/plain": [
       "'Compute correlation within distance True'"
      ]
     },
     "metadata": {},
     "output_type": "display_data"
    }
   ],
   "source": [
    "# TODO: see if this is necessary; if so, make it a parameter with default value True\n",
    "# This parameter, if True, computes the correlation between closeby genes only\n",
    "\n",
    "COMPUTE_CORRELATIONS_WITHIN_DISTANCE = True\n",
    "display(f\"Compute correlation within distance {COMPUTE_CORRELATIONS_WITHIN_DISTANCE}\")"
   ]
  },
  {
   "cell_type": "code",
   "execution_count": 11,
   "id": "396392dc-0340-4540-9b02-e182b833f909",
   "metadata": {
    "execution": {
     "iopub.execute_input": "2022-07-22T04:55:20.845654Z",
     "iopub.status.busy": "2022-07-22T04:55:20.845451Z",
     "iopub.status.idle": "2022-07-22T04:55:20.862023Z",
     "shell.execute_reply": "2022-07-22T04:55:20.861561Z"
    },
    "papermill": {
     "duration": 0.024939,
     "end_time": "2022-07-22T04:55:20.863190",
     "exception": false,
     "start_time": "2022-07-22T04:55:20.838251",
     "status": "completed"
    },
    "tags": []
   },
   "outputs": [
    {
     "data": {
      "text/plain": [
       "'Using output dir base: /opt/data/results/gls/gene_corrs/cohorts/1000g_eur/1000g/mashr'"
      ]
     },
     "metadata": {},
     "output_type": "display_data"
    }
   ],
   "source": [
    "OUTPUT_DIR_BASE = (\n",
    "    conf.RESULTS[\"GLS\"]\n",
    "    / \"gene_corrs\"\n",
    "    / \"cohorts\"\n",
    "    / COHORT_NAME\n",
    "    / REFERENCE_PANEL.lower()\n",
    "    / EQTL_MODEL.lower()\n",
    ")\n",
    "OUTPUT_DIR_BASE.mkdir(parents=True, exist_ok=True)\n",
    "\n",
    "display(f\"Using output dir base: {OUTPUT_DIR_BASE}\")"
   ]
  },
  {
   "cell_type": "code",
   "execution_count": 12,
   "id": "974b4bb1-aa98-4e30-b221-7cd034ad3833",
   "metadata": {
    "execution": {
     "iopub.execute_input": "2022-07-22T04:55:20.877082Z",
     "iopub.status.busy": "2022-07-22T04:55:20.876866Z",
     "iopub.status.idle": "2022-07-22T04:55:20.891743Z",
     "shell.execute_reply": "2022-07-22T04:55:20.891297Z"
    },
    "papermill": {
     "duration": 0.023201,
     "end_time": "2022-07-22T04:55:20.892933",
     "exception": false,
     "start_time": "2022-07-22T04:55:20.869732",
     "status": "completed"
    },
    "tags": []
   },
   "outputs": [
    {
     "data": {
      "text/plain": [
       "PosixPath('/opt/data/results/gls/gene_corrs/cohorts/1000g_eur')"
      ]
     },
     "metadata": {},
     "output_type": "display_data"
    }
   ],
   "source": [
    "INPUT_DIR = conf.RESULTS[\"GLS\"] / \"gene_corrs\" / \"cohorts\" / COHORT_NAME\n",
    "assert INPUT_DIR.exists()\n",
    "\n",
    "display(INPUT_DIR)"
   ]
  },
  {
   "cell_type": "markdown",
   "id": "d2ba085e",
   "metadata": {
    "papermill": {
     "duration": 0.006558,
     "end_time": "2022-07-22T04:55:20.906409",
     "exception": false,
     "start_time": "2022-07-22T04:55:20.899851",
     "status": "completed"
    },
    "tags": []
   },
   "source": [
    "# Load data"
   ]
  },
  {
   "cell_type": "markdown",
   "id": "7dcb8db7",
   "metadata": {
    "papermill": {
     "duration": 0.006407,
     "end_time": "2022-07-22T04:55:20.919522",
     "exception": false,
     "start_time": "2022-07-22T04:55:20.913115",
     "status": "completed"
    },
    "tags": []
   },
   "source": [
    "## GWAS variants"
   ]
  },
  {
   "cell_type": "code",
   "execution_count": 13,
   "id": "29434c4e-8cd3-4b9b-82e4-b5a251d9dd19",
   "metadata": {
    "execution": {
     "iopub.execute_input": "2022-07-22T04:55:20.933803Z",
     "iopub.status.busy": "2022-07-22T04:55:20.933481Z",
     "iopub.status.idle": "2022-07-22T04:55:23.527718Z",
     "shell.execute_reply": "2022-07-22T04:55:23.527227Z"
    },
    "papermill": {
     "duration": 2.603029,
     "end_time": "2022-07-22T04:55:23.529219",
     "exception": false,
     "start_time": "2022-07-22T04:55:20.926190",
     "status": "completed"
    },
    "tags": []
   },
   "outputs": [],
   "source": [
    "with open(INPUT_DIR / \"gwas_variant_ids.pkl\", \"rb\") as handle:\n",
    "    gwas_variants_ids_set = pickle.load(handle)"
   ]
  },
  {
   "cell_type": "code",
   "execution_count": 14,
   "id": "b9d9dec2-4a76-4bf9-bde2-e24c95acb8a0",
   "metadata": {
    "execution": {
     "iopub.execute_input": "2022-07-22T04:55:23.550630Z",
     "iopub.status.busy": "2022-07-22T04:55:23.550408Z",
     "iopub.status.idle": "2022-07-22T04:55:23.567606Z",
     "shell.execute_reply": "2022-07-22T04:55:23.567187Z"
    },
    "papermill": {
     "duration": 0.031338,
     "end_time": "2022-07-22T04:55:23.568925",
     "exception": false,
     "start_time": "2022-07-22T04:55:23.537587",
     "status": "completed"
    },
    "tags": []
   },
   "outputs": [
    {
     "data": {
      "text/plain": [
       "8339505"
      ]
     },
     "execution_count": 14,
     "metadata": {},
     "output_type": "execute_result"
    }
   ],
   "source": [
    "len(gwas_variants_ids_set)"
   ]
  },
  {
   "cell_type": "code",
   "execution_count": 15,
   "id": "4235b06a-6034-4ee4-a0a3-2ae35d122418",
   "metadata": {
    "execution": {
     "iopub.execute_input": "2022-07-22T04:55:23.583636Z",
     "iopub.status.busy": "2022-07-22T04:55:23.583423Z",
     "iopub.status.idle": "2022-07-22T04:55:24.064821Z",
     "shell.execute_reply": "2022-07-22T04:55:24.064327Z"
    },
    "papermill": {
     "duration": 0.490159,
     "end_time": "2022-07-22T04:55:24.066244",
     "exception": false,
     "start_time": "2022-07-22T04:55:23.576085",
     "status": "completed"
    },
    "tags": []
   },
   "outputs": [
    {
     "data": {
      "text/plain": [
       "['chr12_124135027_G_C_b38',\n",
       " 'chr2_3062510_G_A_b38',\n",
       " 'chr10_116887520_C_T_b38',\n",
       " 'chr17_80527991_A_AAAC_b38',\n",
       " 'chr13_45620679_C_A_b38']"
      ]
     },
     "execution_count": 15,
     "metadata": {},
     "output_type": "execute_result"
    }
   ],
   "source": [
    "list(gwas_variants_ids_set)[:5]"
   ]
  },
  {
   "cell_type": "markdown",
   "id": "07866999-2305-41f9-a144-e69c9122c212",
   "metadata": {
    "papermill": {
     "duration": 0.009091,
     "end_time": "2022-07-22T04:55:24.083495",
     "exception": false,
     "start_time": "2022-07-22T04:55:24.074404",
     "status": "completed"
    },
    "tags": []
   },
   "source": [
    "## S-PrediXcan tissue models"
   ]
  },
  {
   "cell_type": "code",
   "execution_count": 16,
   "id": "780611d9-77c8-405f-90a4-f271f7b09397",
   "metadata": {
    "execution": {
     "iopub.execute_input": "2022-07-22T04:55:24.100134Z",
     "iopub.status.busy": "2022-07-22T04:55:24.099888Z",
     "iopub.status.idle": "2022-07-22T04:55:24.853041Z",
     "shell.execute_reply": "2022-07-22T04:55:24.852612Z"
    },
    "papermill": {
     "duration": 0.762769,
     "end_time": "2022-07-22T04:55:24.854403",
     "exception": false,
     "start_time": "2022-07-22T04:55:24.091634",
     "status": "completed"
    },
    "tags": []
   },
   "outputs": [],
   "source": [
    "spredixcan_genes_models = pd.read_pickle(INPUT_DIR / \"gene_tissues.pkl\").set_index(\n",
    "    \"gene_id\"\n",
    ")"
   ]
  },
  {
   "cell_type": "code",
   "execution_count": 17,
   "id": "726dd1f6-9557-4225-91fa-b3b879ea96e1",
   "metadata": {
    "execution": {
     "iopub.execute_input": "2022-07-22T04:55:24.868795Z",
     "iopub.status.busy": "2022-07-22T04:55:24.868593Z",
     "iopub.status.idle": "2022-07-22T04:55:24.883957Z",
     "shell.execute_reply": "2022-07-22T04:55:24.883532Z"
    },
    "papermill": {
     "duration": 0.023689,
     "end_time": "2022-07-22T04:55:24.885139",
     "exception": false,
     "start_time": "2022-07-22T04:55:24.861450",
     "status": "completed"
    },
    "tags": []
   },
   "outputs": [
    {
     "data": {
      "text/plain": [
       "(22314, 2)"
      ]
     },
     "execution_count": 17,
     "metadata": {},
     "output_type": "execute_result"
    }
   ],
   "source": [
    "spredixcan_genes_models.shape"
   ]
  },
  {
   "cell_type": "code",
   "execution_count": 18,
   "id": "944a1b48-222c-4eb0-b252-b9de2cbca215",
   "metadata": {
    "execution": {
     "iopub.execute_input": "2022-07-22T04:55:24.900024Z",
     "iopub.status.busy": "2022-07-22T04:55:24.899732Z",
     "iopub.status.idle": "2022-07-22T04:55:24.919374Z",
     "shell.execute_reply": "2022-07-22T04:55:24.918954Z"
    },
    "papermill": {
     "duration": 0.028586,
     "end_time": "2022-07-22T04:55:24.920691",
     "exception": false,
     "start_time": "2022-07-22T04:55:24.892105",
     "status": "completed"
    },
    "tags": []
   },
   "outputs": [
    {
     "data": {
      "text/html": [
       "<div>\n",
       "<style scoped>\n",
       "    .dataframe tbody tr th:only-of-type {\n",
       "        vertical-align: middle;\n",
       "    }\n",
       "\n",
       "    .dataframe tbody tr th {\n",
       "        vertical-align: top;\n",
       "    }\n",
       "\n",
       "    .dataframe thead th {\n",
       "        text-align: right;\n",
       "    }\n",
       "</style>\n",
       "<table border=\"1\" class=\"dataframe\">\n",
       "  <thead>\n",
       "    <tr style=\"text-align: right;\">\n",
       "      <th></th>\n",
       "      <th>gene_name</th>\n",
       "      <th>tissue</th>\n",
       "    </tr>\n",
       "    <tr>\n",
       "      <th>gene_id</th>\n",
       "      <th></th>\n",
       "      <th></th>\n",
       "    </tr>\n",
       "  </thead>\n",
       "  <tbody>\n",
       "    <tr>\n",
       "      <th>ENSG00000000419</th>\n",
       "      <td>DPM1</td>\n",
       "      <td>(Brain_Hypothalamus, Brain_Substantia_nigra)</td>\n",
       "    </tr>\n",
       "    <tr>\n",
       "      <th>ENSG00000000457</th>\n",
       "      <td>SCYL3</td>\n",
       "      <td>(Small_Intestine_Terminal_Ileum, Cells_Culture...</td>\n",
       "    </tr>\n",
       "    <tr>\n",
       "      <th>ENSG00000000460</th>\n",
       "      <td>C1orf112</td>\n",
       "      <td>(Small_Intestine_Terminal_Ileum, Esophagus_Mus...</td>\n",
       "    </tr>\n",
       "    <tr>\n",
       "      <th>ENSG00000000938</th>\n",
       "      <td>FGR</td>\n",
       "      <td>(Esophagus_Muscularis, Pituitary, Brain_Anteri...</td>\n",
       "    </tr>\n",
       "    <tr>\n",
       "      <th>ENSG00000000971</th>\n",
       "      <td>CFH</td>\n",
       "      <td>(Small_Intestine_Terminal_Ileum, Cells_Culture...</td>\n",
       "    </tr>\n",
       "  </tbody>\n",
       "</table>\n",
       "</div>"
      ],
      "text/plain": [
       "                gene_name                                             tissue\n",
       "gene_id                                                                     \n",
       "ENSG00000000419      DPM1       (Brain_Hypothalamus, Brain_Substantia_nigra)\n",
       "ENSG00000000457     SCYL3  (Small_Intestine_Terminal_Ileum, Cells_Culture...\n",
       "ENSG00000000460  C1orf112  (Small_Intestine_Terminal_Ileum, Esophagus_Mus...\n",
       "ENSG00000000938       FGR  (Esophagus_Muscularis, Pituitary, Brain_Anteri...\n",
       "ENSG00000000971       CFH  (Small_Intestine_Terminal_Ileum, Cells_Culture..."
      ]
     },
     "execution_count": 18,
     "metadata": {},
     "output_type": "execute_result"
    }
   ],
   "source": [
    "spredixcan_genes_models.head()"
   ]
  },
  {
   "cell_type": "code",
   "execution_count": 19,
   "id": "d1c11bb1-be0b-4f40-b360-633d6827109f",
   "metadata": {
    "execution": {
     "iopub.execute_input": "2022-07-22T04:55:24.936188Z",
     "iopub.status.busy": "2022-07-22T04:55:24.935968Z",
     "iopub.status.idle": "2022-07-22T04:55:24.952452Z",
     "shell.execute_reply": "2022-07-22T04:55:24.951929Z"
    },
    "papermill": {
     "duration": 0.025965,
     "end_time": "2022-07-22T04:55:24.953750",
     "exception": false,
     "start_time": "2022-07-22T04:55:24.927785",
     "status": "completed"
    },
    "tags": []
   },
   "outputs": [],
   "source": [
    "assert spredixcan_genes_models.index.is_unique"
   ]
  },
  {
   "cell_type": "markdown",
   "id": "6caf9d10-eda8-4ad2-8811-a983aa77a25a",
   "metadata": {
    "papermill": {
     "duration": 0.006998,
     "end_time": "2022-07-22T04:55:24.968158",
     "exception": false,
     "start_time": "2022-07-22T04:55:24.961160",
     "status": "completed"
    },
    "tags": []
   },
   "source": [
    "## Get common genes"
   ]
  },
  {
   "cell_type": "code",
   "execution_count": 20,
   "id": "f8d1e317-1cc8-4bdf-bbe9-c3b0a5478359",
   "metadata": {
    "execution": {
     "iopub.execute_input": "2022-07-22T04:55:24.984242Z",
     "iopub.status.busy": "2022-07-22T04:55:24.984029Z",
     "iopub.status.idle": "2022-07-22T04:55:25.000065Z",
     "shell.execute_reply": "2022-07-22T04:55:24.999631Z"
    },
    "papermill": {
     "duration": 0.025648,
     "end_time": "2022-07-22T04:55:25.001365",
     "exception": false,
     "start_time": "2022-07-22T04:55:24.975717",
     "status": "completed"
    },
    "tags": []
   },
   "outputs": [],
   "source": [
    "with open(INPUT_DIR / \"common_genes.pkl\", \"rb\") as handle:\n",
    "    common_genes = pickle.load(handle)"
   ]
  },
  {
   "cell_type": "code",
   "execution_count": 21,
   "id": "ce9506aa-2f38-4e46-b9c2-84d750fac0da",
   "metadata": {
    "execution": {
     "iopub.execute_input": "2022-07-22T04:55:25.017280Z",
     "iopub.status.busy": "2022-07-22T04:55:25.017081Z",
     "iopub.status.idle": "2022-07-22T04:55:25.032373Z",
     "shell.execute_reply": "2022-07-22T04:55:25.031891Z"
    },
    "papermill": {
     "duration": 0.024588,
     "end_time": "2022-07-22T04:55:25.033601",
     "exception": false,
     "start_time": "2022-07-22T04:55:25.009013",
     "status": "completed"
    },
    "tags": []
   },
   "outputs": [
    {
     "data": {
      "text/plain": [
       "6444"
      ]
     },
     "execution_count": 21,
     "metadata": {},
     "output_type": "execute_result"
    }
   ],
   "source": [
    "len(common_genes)"
   ]
  },
  {
   "cell_type": "code",
   "execution_count": 22,
   "id": "f525a698-506a-48e0-9aee-1aca62def5dd",
   "metadata": {
    "execution": {
     "iopub.execute_input": "2022-07-22T04:55:25.049337Z",
     "iopub.status.busy": "2022-07-22T04:55:25.049028Z",
     "iopub.status.idle": "2022-07-22T04:55:25.066477Z",
     "shell.execute_reply": "2022-07-22T04:55:25.066029Z"
    },
    "papermill": {
     "duration": 0.026698,
     "end_time": "2022-07-22T04:55:25.067664",
     "exception": false,
     "start_time": "2022-07-22T04:55:25.040966",
     "status": "completed"
    },
    "tags": []
   },
   "outputs": [
    {
     "data": {
      "text/plain": [
       "['A2M', 'AAAS', 'AANAT', 'AARS', 'AARS2']"
      ]
     },
     "execution_count": 22,
     "metadata": {},
     "output_type": "execute_result"
    }
   ],
   "source": [
    "sorted(list(common_genes))[:5]"
   ]
  },
  {
   "cell_type": "markdown",
   "id": "a5b5092c-a13e-47c4-a92a-480fcc08f3ae",
   "metadata": {
    "papermill": {
     "duration": 0.007284,
     "end_time": "2022-07-22T04:55:25.082219",
     "exception": false,
     "start_time": "2022-07-22T04:55:25.074935",
     "status": "completed"
    },
    "tags": []
   },
   "source": [
    "## Gene info"
   ]
  },
  {
   "cell_type": "code",
   "execution_count": 23,
   "id": "7d6bb224-88e9-4358-ac10-43a41d92cdad",
   "metadata": {
    "execution": {
     "iopub.execute_input": "2022-07-22T04:55:25.098027Z",
     "iopub.status.busy": "2022-07-22T04:55:25.097828Z",
     "iopub.status.idle": "2022-07-22T04:55:25.116702Z",
     "shell.execute_reply": "2022-07-22T04:55:25.116282Z"
    },
    "papermill": {
     "duration": 0.028414,
     "end_time": "2022-07-22T04:55:25.118042",
     "exception": false,
     "start_time": "2022-07-22T04:55:25.089628",
     "status": "completed"
    },
    "tags": []
   },
   "outputs": [],
   "source": [
    "genes_info = pd.read_pickle(INPUT_DIR / \"genes_info.pkl\")"
   ]
  },
  {
   "cell_type": "code",
   "execution_count": 24,
   "id": "9e32abfa-546d-483e-8c18-d526e9e05903",
   "metadata": {
    "execution": {
     "iopub.execute_input": "2022-07-22T04:55:25.134294Z",
     "iopub.status.busy": "2022-07-22T04:55:25.134096Z",
     "iopub.status.idle": "2022-07-22T04:55:25.149764Z",
     "shell.execute_reply": "2022-07-22T04:55:25.149362Z"
    },
    "papermill": {
     "duration": 0.025158,
     "end_time": "2022-07-22T04:55:25.150927",
     "exception": false,
     "start_time": "2022-07-22T04:55:25.125769",
     "status": "completed"
    },
    "tags": []
   },
   "outputs": [
    {
     "data": {
      "text/plain": [
       "(6444, 7)"
      ]
     },
     "execution_count": 24,
     "metadata": {},
     "output_type": "execute_result"
    }
   ],
   "source": [
    "genes_info.shape"
   ]
  },
  {
   "cell_type": "code",
   "execution_count": 25,
   "id": "d16c3e92-85ec-468a-9a56-e25a9774a1cb",
   "metadata": {
    "execution": {
     "iopub.execute_input": "2022-07-22T04:55:25.168220Z",
     "iopub.status.busy": "2022-07-22T04:55:25.167721Z",
     "iopub.status.idle": "2022-07-22T04:55:25.187815Z",
     "shell.execute_reply": "2022-07-22T04:55:25.187352Z"
    },
    "papermill": {
     "duration": 0.030044,
     "end_time": "2022-07-22T04:55:25.189022",
     "exception": false,
     "start_time": "2022-07-22T04:55:25.158978",
     "status": "completed"
    },
    "tags": []
   },
   "outputs": [
    {
     "data": {
      "text/html": [
       "<div>\n",
       "<style scoped>\n",
       "    .dataframe tbody tr th:only-of-type {\n",
       "        vertical-align: middle;\n",
       "    }\n",
       "\n",
       "    .dataframe tbody tr th {\n",
       "        vertical-align: top;\n",
       "    }\n",
       "\n",
       "    .dataframe thead th {\n",
       "        text-align: right;\n",
       "    }\n",
       "</style>\n",
       "<table border=\"1\" class=\"dataframe\">\n",
       "  <thead>\n",
       "    <tr style=\"text-align: right;\">\n",
       "      <th></th>\n",
       "      <th>name</th>\n",
       "      <th>id</th>\n",
       "      <th>chr</th>\n",
       "      <th>band</th>\n",
       "      <th>start_position</th>\n",
       "      <th>end_position</th>\n",
       "      <th>gene_length</th>\n",
       "    </tr>\n",
       "  </thead>\n",
       "  <tbody>\n",
       "    <tr>\n",
       "      <th>0</th>\n",
       "      <td>MFN2</td>\n",
       "      <td>ENSG00000116688</td>\n",
       "      <td>1</td>\n",
       "      <td>1p36.22</td>\n",
       "      <td>11980181.0</td>\n",
       "      <td>12013514.0</td>\n",
       "      <td>33333.0</td>\n",
       "    </tr>\n",
       "    <tr>\n",
       "      <th>1</th>\n",
       "      <td>PPA2</td>\n",
       "      <td>ENSG00000138777</td>\n",
       "      <td>4</td>\n",
       "      <td>4q24</td>\n",
       "      <td>105369077.0</td>\n",
       "      <td>105474067.0</td>\n",
       "      <td>104990.0</td>\n",
       "    </tr>\n",
       "    <tr>\n",
       "      <th>2</th>\n",
       "      <td>ADRA2A</td>\n",
       "      <td>ENSG00000150594</td>\n",
       "      <td>10</td>\n",
       "      <td>10q25.2</td>\n",
       "      <td>111077163.0</td>\n",
       "      <td>111080907.0</td>\n",
       "      <td>3744.0</td>\n",
       "    </tr>\n",
       "    <tr>\n",
       "      <th>3</th>\n",
       "      <td>RYR2</td>\n",
       "      <td>ENSG00000198626</td>\n",
       "      <td>1</td>\n",
       "      <td>1q43</td>\n",
       "      <td>237042184.0</td>\n",
       "      <td>237833988.0</td>\n",
       "      <td>791804.0</td>\n",
       "    </tr>\n",
       "    <tr>\n",
       "      <th>4</th>\n",
       "      <td>VAV2</td>\n",
       "      <td>ENSG00000160293</td>\n",
       "      <td>9</td>\n",
       "      <td>9q34.2</td>\n",
       "      <td>133761894.0</td>\n",
       "      <td>133992604.0</td>\n",
       "      <td>230710.0</td>\n",
       "    </tr>\n",
       "  </tbody>\n",
       "</table>\n",
       "</div>"
      ],
      "text/plain": [
       "     name               id chr     band  start_position  end_position  \\\n",
       "0    MFN2  ENSG00000116688   1  1p36.22      11980181.0    12013514.0   \n",
       "1    PPA2  ENSG00000138777   4     4q24     105369077.0   105474067.0   \n",
       "2  ADRA2A  ENSG00000150594  10  10q25.2     111077163.0   111080907.0   \n",
       "3    RYR2  ENSG00000198626   1     1q43     237042184.0   237833988.0   \n",
       "4    VAV2  ENSG00000160293   9   9q34.2     133761894.0   133992604.0   \n",
       "\n",
       "   gene_length  \n",
       "0      33333.0  \n",
       "1     104990.0  \n",
       "2       3744.0  \n",
       "3     791804.0  \n",
       "4     230710.0  "
      ]
     },
     "execution_count": 25,
     "metadata": {},
     "output_type": "execute_result"
    }
   ],
   "source": [
    "genes_info.head()"
   ]
  },
  {
   "cell_type": "markdown",
   "id": "d3843e06",
   "metadata": {
    "papermill": {
     "duration": 0.007777,
     "end_time": "2022-07-22T04:55:25.204766",
     "exception": false,
     "start_time": "2022-07-22T04:55:25.196989",
     "status": "completed"
    },
    "tags": []
   },
   "source": [
    "# Compute correlations"
   ]
  },
  {
   "cell_type": "code",
   "execution_count": 26,
   "id": "cb859c15-d1f3-4006-a74c-2b83c0db9611",
   "metadata": {
    "execution": {
     "iopub.execute_input": "2022-07-22T04:55:25.221647Z",
     "iopub.status.busy": "2022-07-22T04:55:25.221448Z",
     "iopub.status.idle": "2022-07-22T04:55:25.236714Z",
     "shell.execute_reply": "2022-07-22T04:55:25.236282Z"
    },
    "papermill": {
     "duration": 0.024987,
     "end_time": "2022-07-22T04:55:25.237863",
     "exception": false,
     "start_time": "2022-07-22T04:55:25.212876",
     "status": "completed"
    },
    "tags": []
   },
   "outputs": [
    {
     "data": {
      "text/plain": [
       "PosixPath('/opt/data/results/gls/gene_corrs/cohorts/1000g_eur/1000g/mashr/by_chr/gene_corrs-chr21.pkl')"
      ]
     },
     "metadata": {},
     "output_type": "display_data"
    }
   ],
   "source": [
    "output_dir = OUTPUT_DIR_BASE / \"by_chr\"\n",
    "output_dir.mkdir(exist_ok=True, parents=True)\n",
    "output_file = output_dir / f\"gene_corrs-chr{CHROMOSOME}.pkl\"\n",
    "display(output_file)"
   ]
  },
  {
   "cell_type": "code",
   "execution_count": 27,
   "id": "aa674fe4-6794-4eed-98fa-32b39d1d4ace",
   "metadata": {
    "execution": {
     "iopub.execute_input": "2022-07-22T04:55:25.254412Z",
     "iopub.status.busy": "2022-07-22T04:55:25.254096Z",
     "iopub.status.idle": "2022-07-22T04:55:25.267979Z",
     "shell.execute_reply": "2022-07-22T04:55:25.267602Z"
    },
    "papermill": {
     "duration": 0.023566,
     "end_time": "2022-07-22T04:55:25.269222",
     "exception": false,
     "start_time": "2022-07-22T04:55:25.245656",
     "status": "completed"
    },
    "tags": []
   },
   "outputs": [],
   "source": [
    "warnings.filterwarnings(\"error\")"
   ]
  },
  {
   "cell_type": "code",
   "execution_count": 28,
   "id": "44d5450b-3baf-43f1-9e2e-4b06f1a785f8",
   "metadata": {
    "execution": {
     "iopub.execute_input": "2022-07-22T04:55:25.285301Z",
     "iopub.status.busy": "2022-07-22T04:55:25.285088Z",
     "iopub.status.idle": "2022-07-22T04:55:25.300048Z",
     "shell.execute_reply": "2022-07-22T04:55:25.299589Z"
    },
    "papermill": {
     "duration": 0.024449,
     "end_time": "2022-07-22T04:55:25.301322",
     "exception": false,
     "start_time": "2022-07-22T04:55:25.276873",
     "status": "completed"
    },
    "tags": []
   },
   "outputs": [],
   "source": [
    "# standard checks\n",
    "all_chrs = genes_info[\"chr\"].dropna().unique()\n",
    "assert all_chrs.shape[0] == 22\n",
    "\n",
    "# select chromosome given by the user\n",
    "assert CHROMOSOME in all_chrs"
   ]
  },
  {
   "cell_type": "code",
   "execution_count": 29,
   "id": "2d7c043c-92a7-4d35-991b-fa69ac1e0268",
   "metadata": {
    "execution": {
     "iopub.execute_input": "2022-07-22T04:55:25.317817Z",
     "iopub.status.busy": "2022-07-22T04:55:25.317468Z",
     "iopub.status.idle": "2022-07-22T04:55:25.333787Z",
     "shell.execute_reply": "2022-07-22T04:55:25.333339Z"
    },
    "papermill": {
     "duration": 0.025924,
     "end_time": "2022-07-22T04:55:25.335060",
     "exception": false,
     "start_time": "2022-07-22T04:55:25.309136",
     "status": "completed"
    },
    "tags": []
   },
   "outputs": [
    {
     "name": "stdout",
     "output_type": "stream",
     "text": [
      "Number of genes in chromosome: 62\n"
     ]
    }
   ],
   "source": [
    "# run only on the chromosome specified\n",
    "all_chrs = [CHROMOSOME]\n",
    "genes_chr = genes_info[genes_info[\"chr\"] == CHROMOSOME]\n",
    "\n",
    "# For testing purposes\n",
    "# genes_chr = genes_chr.sample(n=20)\n",
    "\n",
    "print(f\"Number of genes in chromosome: {genes_chr.shape[0]}\", flush=True)"
   ]
  },
  {
   "cell_type": "code",
   "execution_count": 30,
   "id": "916015d8-2979-46d3-a9b9-1cf5a0932c6a",
   "metadata": {
    "execution": {
     "iopub.execute_input": "2022-07-22T04:55:25.352009Z",
     "iopub.status.busy": "2022-07-22T04:55:25.351710Z",
     "iopub.status.idle": "2022-07-22T04:55:25.367768Z",
     "shell.execute_reply": "2022-07-22T04:55:25.366167Z"
    },
    "papermill": {
     "duration": 0.026193,
     "end_time": "2022-07-22T04:55:25.369311",
     "exception": false,
     "start_time": "2022-07-22T04:55:25.343118",
     "status": "completed"
    },
    "tags": []
   },
   "outputs": [],
   "source": [
    "# sort genes by starting position to make visualizations better later\n",
    "genes_chr = genes_chr.sort_values(\"start_position\")"
   ]
  },
  {
   "cell_type": "code",
   "execution_count": 31,
   "id": "a38aa74a-8ad3-47f6-8ef9-56be0e011774",
   "metadata": {
    "execution": {
     "iopub.execute_input": "2022-07-22T04:55:25.386620Z",
     "iopub.status.busy": "2022-07-22T04:55:25.386418Z",
     "iopub.status.idle": "2022-07-22T04:55:25.401435Z",
     "shell.execute_reply": "2022-07-22T04:55:25.400970Z"
    },
    "papermill": {
     "duration": 0.025097,
     "end_time": "2022-07-22T04:55:25.402801",
     "exception": false,
     "start_time": "2022-07-22T04:55:25.377704",
     "status": "completed"
    },
    "tags": []
   },
   "outputs": [],
   "source": [
    "gene_chr_objs = [Gene(ensembl_id=gene_id) for gene_id in genes_chr[\"id\"]]"
   ]
  },
  {
   "cell_type": "code",
   "execution_count": 32,
   "id": "570f974f-13c3-42b6-ad3a-ce99ca885c1a",
   "metadata": {
    "execution": {
     "iopub.execute_input": "2022-07-22T04:55:25.420255Z",
     "iopub.status.busy": "2022-07-22T04:55:25.419810Z",
     "iopub.status.idle": "2022-07-22T04:55:25.435122Z",
     "shell.execute_reply": "2022-07-22T04:55:25.434662Z"
    },
    "papermill": {
     "duration": 0.025299,
     "end_time": "2022-07-22T04:55:25.436411",
     "exception": false,
     "start_time": "2022-07-22T04:55:25.411112",
     "status": "completed"
    },
    "tags": []
   },
   "outputs": [
    {
     "name": "stdout",
     "output_type": "stream",
     "text": [
      "Number of gene combinations: 1891\n"
     ]
    }
   ],
   "source": [
    "n = len(gene_chr_objs)\n",
    "n_comb = int(n * (n - 1) / 2.0)\n",
    "print(f\"Number of gene combinations: {n_comb}\", flush=True)"
   ]
  },
  {
   "cell_type": "code",
   "execution_count": 33,
   "id": "cdbb90a1",
   "metadata": {
    "execution": {
     "iopub.execute_input": "2022-07-22T04:55:25.453842Z",
     "iopub.status.busy": "2022-07-22T04:55:25.453522Z",
     "iopub.status.idle": "2022-07-22T04:56:53.812011Z",
     "shell.execute_reply": "2022-07-22T04:56:53.811611Z"
    },
    "papermill": {
     "duration": 88.369175,
     "end_time": "2022-07-22T04:56:53.813928",
     "exception": false,
     "start_time": "2022-07-22T04:55:25.444753",
     "status": "completed"
    },
    "tags": []
   },
   "outputs": [
    {
     "name": "stderr",
     "output_type": "stream",
     "text": [
      "ENSG00000160299 / ENSG00000160307: 100%|████████████████████████| 1891/1891 [01:28<00:00, 21.41it/s]\n"
     ]
    },
    {
     "data": {
      "text/plain": [
       "PosixPath('/opt/data/results/gls/gene_corrs/cohorts/1000g_eur/1000g/mashr/by_chr/gene_corrs-chr21.pkl')"
      ]
     },
     "metadata": {},
     "output_type": "display_data"
    }
   ],
   "source": [
    "gene_corrs = []\n",
    "\n",
    "i = 0\n",
    "with tqdm(ncols=100, total=n_comb) as pbar:\n",
    "    for gene1_idx in range(0, len(gene_chr_objs) - 1):\n",
    "        gene1_obj = gene_chr_objs[gene1_idx]\n",
    "        gene1_tissues = spredixcan_genes_models.loc[gene1_obj.ensembl_id, \"tissue\"]\n",
    "\n",
    "        for gene2_idx in range(gene1_idx + 1, len(gene_chr_objs)):\n",
    "            gene2_obj = gene_chr_objs[gene2_idx]\n",
    "            gene2_tissues = spredixcan_genes_models.loc[gene2_obj.ensembl_id, \"tissue\"]\n",
    "\n",
    "            pbar.set_description(f\"{gene1_obj.ensembl_id} / {gene2_obj.ensembl_id}\")\n",
    "\n",
    "            try:\n",
    "                r = gene1_obj.get_ssm_correlation(\n",
    "                    other_gene=gene2_obj,\n",
    "                    tissues=gene1_tissues,\n",
    "                    other_tissues=gene2_tissues,\n",
    "                    snps_subset=gwas_variants_ids_set,\n",
    "                    condition_number=SMULTIXCAN_CONDITION_NUMBER,\n",
    "                    reference_panel=REFERENCE_PANEL,\n",
    "                    model_type=EQTL_MODEL,\n",
    "                    use_within_distance=COMPUTE_CORRELATIONS_WITHIN_DISTANCE,\n",
    "                )\n",
    "\n",
    "                if r is None:\n",
    "                    # if r is None, it's very likely because:\n",
    "                    #  * one of the genes has no prediction models\n",
    "                    #  * all the SNPs predictors for the gene are not present in the reference\n",
    "                    #    panel\n",
    "\n",
    "                    r = 0.0\n",
    "\n",
    "                gene_corrs.append(r)\n",
    "            except Warning as e:\n",
    "                if not DEBUG_MODE:\n",
    "                    raise e\n",
    "\n",
    "                print(\n",
    "                    f\"RuntimeWarning for genes {gene1_obj.ensembl_id} and {gene2_obj.ensembl_id}\",\n",
    "                    flush=True,\n",
    "                )\n",
    "                print(traceback.format_exc(), flush=True)\n",
    "\n",
    "                gene_corrs.append(np.nan)\n",
    "            except Exception as e:\n",
    "                if not DEBUG_MODE:\n",
    "                    raise e\n",
    "\n",
    "                print(\n",
    "                    f\"Exception for genes {gene1_obj.ensembl_id} and {gene2_obj.ensembl_id}\",\n",
    "                    flush=True,\n",
    "                )\n",
    "                print(traceback.format_exc(), flush=True)\n",
    "\n",
    "                gene_corrs.append(np.nan)\n",
    "\n",
    "            pbar.update(1)\n",
    "\n",
    "# create a pandas series\n",
    "gene_corrs_flat = pd.Series(gene_corrs)\n",
    "\n",
    "# save\n",
    "# FIXME: consider saving only the condenced matrix here. See here for\n",
    "# more details: https://github.com/greenelab/phenoplier/pull/38#discussion_r634600813\n",
    "gene_corrs_data = squareform(np.array(gene_corrs, dtype=np.float64))\n",
    "np.fill_diagonal(gene_corrs_data, 1.0)\n",
    "\n",
    "gene_chr_ids = [g.ensembl_id for g in gene_chr_objs]\n",
    "gene_corrs_df = pd.DataFrame(\n",
    "    data=gene_corrs_data,\n",
    "    index=gene_chr_ids,\n",
    "    columns=gene_chr_ids,\n",
    ")\n",
    "\n",
    "output_dir.mkdir(exist_ok=True, parents=True)\n",
    "display(output_file)\n",
    "\n",
    "gene_corrs_df.to_pickle(output_file)"
   ]
  },
  {
   "cell_type": "markdown",
   "id": "faa67b51-5373-470f-aa72-2ded53fa6dfe",
   "metadata": {
    "papermill": {
     "duration": 0.08851,
     "end_time": "2022-07-22T04:56:53.985518",
     "exception": false,
     "start_time": "2022-07-22T04:56:53.897008",
     "status": "completed"
    },
    "tags": []
   },
   "source": [
    "# Testing"
   ]
  },
  {
   "cell_type": "code",
   "execution_count": 34,
   "id": "14f7d046-4b55-4896-a56b-990127bcc388",
   "metadata": {
    "execution": {
     "iopub.execute_input": "2022-07-22T04:56:54.171904Z",
     "iopub.status.busy": "2022-07-22T04:56:54.171555Z",
     "iopub.status.idle": "2022-07-22T04:56:54.190639Z",
     "shell.execute_reply": "2022-07-22T04:56:54.190208Z"
    },
    "papermill": {
     "duration": 0.115945,
     "end_time": "2022-07-22T04:56:54.192053",
     "exception": false,
     "start_time": "2022-07-22T04:56:54.076108",
     "status": "completed"
    },
    "tags": []
   },
   "outputs": [
    {
     "data": {
      "text/plain": [
       "(62, 62)"
      ]
     },
     "execution_count": 34,
     "metadata": {},
     "output_type": "execute_result"
    }
   ],
   "source": [
    "gene_corrs_df.shape"
   ]
  },
  {
   "cell_type": "code",
   "execution_count": 35,
   "id": "c7d15414-3297-4537-a7c6-7588c0baeb75",
   "metadata": {
    "execution": {
     "iopub.execute_input": "2022-07-22T04:56:54.359276Z",
     "iopub.status.busy": "2022-07-22T04:56:54.359116Z",
     "iopub.status.idle": "2022-07-22T04:56:54.391943Z",
     "shell.execute_reply": "2022-07-22T04:56:54.391472Z"
    },
    "papermill": {
     "duration": 0.11733,
     "end_time": "2022-07-22T04:56:54.393585",
     "exception": false,
     "start_time": "2022-07-22T04:56:54.276255",
     "status": "completed"
    },
    "tags": []
   },
   "outputs": [
    {
     "data": {
      "text/html": [
       "<div>\n",
       "<style scoped>\n",
       "    .dataframe tbody tr th:only-of-type {\n",
       "        vertical-align: middle;\n",
       "    }\n",
       "\n",
       "    .dataframe tbody tr th {\n",
       "        vertical-align: top;\n",
       "    }\n",
       "\n",
       "    .dataframe thead th {\n",
       "        text-align: right;\n",
       "    }\n",
       "</style>\n",
       "<table border=\"1\" class=\"dataframe\">\n",
       "  <thead>\n",
       "    <tr style=\"text-align: right;\">\n",
       "      <th></th>\n",
       "      <th>ENSG00000155307</th>\n",
       "      <th>ENSG00000180530</th>\n",
       "      <th>ENSG00000154719</th>\n",
       "      <th>ENSG00000154721</th>\n",
       "      <th>ENSG00000154723</th>\n",
       "      <th>ENSG00000142192</th>\n",
       "      <th>ENSG00000154734</th>\n",
       "      <th>ENSG00000156261</th>\n",
       "      <th>ENSG00000171189</th>\n",
       "      <th>ENSG00000156299</th>\n",
       "      <th>...</th>\n",
       "      <th>ENSG00000160255</th>\n",
       "      <th>ENSG00000197381</th>\n",
       "      <th>ENSG00000182871</th>\n",
       "      <th>ENSG00000173638</th>\n",
       "      <th>ENSG00000142156</th>\n",
       "      <th>ENSG00000142173</th>\n",
       "      <th>ENSG00000160282</th>\n",
       "      <th>ENSG00000160285</th>\n",
       "      <th>ENSG00000160299</th>\n",
       "      <th>ENSG00000160307</th>\n",
       "    </tr>\n",
       "  </thead>\n",
       "  <tbody>\n",
       "    <tr>\n",
       "      <th>ENSG00000155307</th>\n",
       "      <td>1.000000</td>\n",
       "      <td>0.009524</td>\n",
       "      <td>0.000000</td>\n",
       "      <td>0.000000</td>\n",
       "      <td>0.000000</td>\n",
       "      <td>0.000000</td>\n",
       "      <td>0.000000</td>\n",
       "      <td>0.000000</td>\n",
       "      <td>0.000000</td>\n",
       "      <td>0.0</td>\n",
       "      <td>...</td>\n",
       "      <td>0.0</td>\n",
       "      <td>0.0</td>\n",
       "      <td>0.0</td>\n",
       "      <td>0.0</td>\n",
       "      <td>0.0</td>\n",
       "      <td>0.0</td>\n",
       "      <td>0.0</td>\n",
       "      <td>0.0</td>\n",
       "      <td>0.0</td>\n",
       "      <td>0.0</td>\n",
       "    </tr>\n",
       "    <tr>\n",
       "      <th>ENSG00000180530</th>\n",
       "      <td>0.009524</td>\n",
       "      <td>1.000000</td>\n",
       "      <td>0.000000</td>\n",
       "      <td>0.000000</td>\n",
       "      <td>0.000000</td>\n",
       "      <td>0.000000</td>\n",
       "      <td>0.000000</td>\n",
       "      <td>0.000000</td>\n",
       "      <td>0.000000</td>\n",
       "      <td>0.0</td>\n",
       "      <td>...</td>\n",
       "      <td>0.0</td>\n",
       "      <td>0.0</td>\n",
       "      <td>0.0</td>\n",
       "      <td>0.0</td>\n",
       "      <td>0.0</td>\n",
       "      <td>0.0</td>\n",
       "      <td>0.0</td>\n",
       "      <td>0.0</td>\n",
       "      <td>0.0</td>\n",
       "      <td>0.0</td>\n",
       "    </tr>\n",
       "    <tr>\n",
       "      <th>ENSG00000154719</th>\n",
       "      <td>0.000000</td>\n",
       "      <td>0.000000</td>\n",
       "      <td>1.000000</td>\n",
       "      <td>0.441590</td>\n",
       "      <td>0.181989</td>\n",
       "      <td>0.012504</td>\n",
       "      <td>0.008913</td>\n",
       "      <td>0.007761</td>\n",
       "      <td>0.005954</td>\n",
       "      <td>0.0</td>\n",
       "      <td>...</td>\n",
       "      <td>0.0</td>\n",
       "      <td>0.0</td>\n",
       "      <td>0.0</td>\n",
       "      <td>0.0</td>\n",
       "      <td>0.0</td>\n",
       "      <td>0.0</td>\n",
       "      <td>0.0</td>\n",
       "      <td>0.0</td>\n",
       "      <td>0.0</td>\n",
       "      <td>0.0</td>\n",
       "    </tr>\n",
       "    <tr>\n",
       "      <th>ENSG00000154721</th>\n",
       "      <td>0.000000</td>\n",
       "      <td>0.000000</td>\n",
       "      <td>0.441590</td>\n",
       "      <td>1.000000</td>\n",
       "      <td>0.323127</td>\n",
       "      <td>0.016043</td>\n",
       "      <td>0.006526</td>\n",
       "      <td>0.002206</td>\n",
       "      <td>0.011834</td>\n",
       "      <td>0.0</td>\n",
       "      <td>...</td>\n",
       "      <td>0.0</td>\n",
       "      <td>0.0</td>\n",
       "      <td>0.0</td>\n",
       "      <td>0.0</td>\n",
       "      <td>0.0</td>\n",
       "      <td>0.0</td>\n",
       "      <td>0.0</td>\n",
       "      <td>0.0</td>\n",
       "      <td>0.0</td>\n",
       "      <td>0.0</td>\n",
       "    </tr>\n",
       "    <tr>\n",
       "      <th>ENSG00000154723</th>\n",
       "      <td>0.000000</td>\n",
       "      <td>0.000000</td>\n",
       "      <td>0.181989</td>\n",
       "      <td>0.323127</td>\n",
       "      <td>1.000000</td>\n",
       "      <td>0.022413</td>\n",
       "      <td>0.006861</td>\n",
       "      <td>0.005666</td>\n",
       "      <td>0.005191</td>\n",
       "      <td>0.0</td>\n",
       "      <td>...</td>\n",
       "      <td>0.0</td>\n",
       "      <td>0.0</td>\n",
       "      <td>0.0</td>\n",
       "      <td>0.0</td>\n",
       "      <td>0.0</td>\n",
       "      <td>0.0</td>\n",
       "      <td>0.0</td>\n",
       "      <td>0.0</td>\n",
       "      <td>0.0</td>\n",
       "      <td>0.0</td>\n",
       "    </tr>\n",
       "  </tbody>\n",
       "</table>\n",
       "<p>5 rows × 62 columns</p>\n",
       "</div>"
      ],
      "text/plain": [
       "                 ENSG00000155307  ENSG00000180530  ENSG00000154719  \\\n",
       "ENSG00000155307         1.000000         0.009524         0.000000   \n",
       "ENSG00000180530         0.009524         1.000000         0.000000   \n",
       "ENSG00000154719         0.000000         0.000000         1.000000   \n",
       "ENSG00000154721         0.000000         0.000000         0.441590   \n",
       "ENSG00000154723         0.000000         0.000000         0.181989   \n",
       "\n",
       "                 ENSG00000154721  ENSG00000154723  ENSG00000142192  \\\n",
       "ENSG00000155307         0.000000         0.000000         0.000000   \n",
       "ENSG00000180530         0.000000         0.000000         0.000000   \n",
       "ENSG00000154719         0.441590         0.181989         0.012504   \n",
       "ENSG00000154721         1.000000         0.323127         0.016043   \n",
       "ENSG00000154723         0.323127         1.000000         0.022413   \n",
       "\n",
       "                 ENSG00000154734  ENSG00000156261  ENSG00000171189  \\\n",
       "ENSG00000155307         0.000000         0.000000         0.000000   \n",
       "ENSG00000180530         0.000000         0.000000         0.000000   \n",
       "ENSG00000154719         0.008913         0.007761         0.005954   \n",
       "ENSG00000154721         0.006526         0.002206         0.011834   \n",
       "ENSG00000154723         0.006861         0.005666         0.005191   \n",
       "\n",
       "                 ENSG00000156299  ...  ENSG00000160255  ENSG00000197381  \\\n",
       "ENSG00000155307              0.0  ...              0.0              0.0   \n",
       "ENSG00000180530              0.0  ...              0.0              0.0   \n",
       "ENSG00000154719              0.0  ...              0.0              0.0   \n",
       "ENSG00000154721              0.0  ...              0.0              0.0   \n",
       "ENSG00000154723              0.0  ...              0.0              0.0   \n",
       "\n",
       "                 ENSG00000182871  ENSG00000173638  ENSG00000142156  \\\n",
       "ENSG00000155307              0.0              0.0              0.0   \n",
       "ENSG00000180530              0.0              0.0              0.0   \n",
       "ENSG00000154719              0.0              0.0              0.0   \n",
       "ENSG00000154721              0.0              0.0              0.0   \n",
       "ENSG00000154723              0.0              0.0              0.0   \n",
       "\n",
       "                 ENSG00000142173  ENSG00000160282  ENSG00000160285  \\\n",
       "ENSG00000155307              0.0              0.0              0.0   \n",
       "ENSG00000180530              0.0              0.0              0.0   \n",
       "ENSG00000154719              0.0              0.0              0.0   \n",
       "ENSG00000154721              0.0              0.0              0.0   \n",
       "ENSG00000154723              0.0              0.0              0.0   \n",
       "\n",
       "                 ENSG00000160299  ENSG00000160307  \n",
       "ENSG00000155307              0.0              0.0  \n",
       "ENSG00000180530              0.0              0.0  \n",
       "ENSG00000154719              0.0              0.0  \n",
       "ENSG00000154721              0.0              0.0  \n",
       "ENSG00000154723              0.0              0.0  \n",
       "\n",
       "[5 rows x 62 columns]"
      ]
     },
     "execution_count": 35,
     "metadata": {},
     "output_type": "execute_result"
    }
   ],
   "source": [
    "gene_corrs_df.head()"
   ]
  },
  {
   "cell_type": "markdown",
   "id": "dad6603f-01c6-41fb-a6f6-241051207dd8",
   "metadata": {
    "papermill": {
     "duration": 0.085131,
     "end_time": "2022-07-22T04:56:54.564154",
     "exception": false,
     "start_time": "2022-07-22T04:56:54.479023",
     "status": "completed"
    },
    "tags": []
   },
   "source": [
    "## Standard checks and stats"
   ]
  },
  {
   "cell_type": "code",
   "execution_count": 36,
   "id": "286686af-1b7b-4440-8453-6bdcbd8de19c",
   "metadata": {
    "execution": {
     "iopub.execute_input": "2022-07-22T04:56:54.763647Z",
     "iopub.status.busy": "2022-07-22T04:56:54.763465Z",
     "iopub.status.idle": "2022-07-22T04:56:54.779072Z",
     "shell.execute_reply": "2022-07-22T04:56:54.778600Z"
    },
    "papermill": {
     "duration": 0.104548,
     "end_time": "2022-07-22T04:56:54.780394",
     "exception": false,
     "start_time": "2022-07-22T04:56:54.675846",
     "status": "completed"
    },
    "tags": []
   },
   "outputs": [],
   "source": [
    "assert not gene_corrs_df.isna().any().any()"
   ]
  },
  {
   "cell_type": "code",
   "execution_count": 37,
   "id": "00583efc-7068-4270-ad1e-4a418e91db96",
   "metadata": {
    "execution": {
     "iopub.execute_input": "2022-07-22T04:56:54.953180Z",
     "iopub.status.busy": "2022-07-22T04:56:54.952984Z",
     "iopub.status.idle": "2022-07-22T04:56:54.969608Z",
     "shell.execute_reply": "2022-07-22T04:56:54.969142Z"
    },
    "papermill": {
     "duration": 0.104561,
     "end_time": "2022-07-22T04:56:54.970734",
     "exception": false,
     "start_time": "2022-07-22T04:56:54.866173",
     "status": "completed"
    },
    "tags": []
   },
   "outputs": [
    {
     "data": {
      "text/plain": [
       "0.0"
      ]
     },
     "metadata": {},
     "output_type": "display_data"
    }
   ],
   "source": [
    "_min_val = gene_corrs_df.min().min()\n",
    "display(_min_val)\n",
    "assert _min_val >= 0.0"
   ]
  },
  {
   "cell_type": "code",
   "execution_count": 38,
   "id": "d04fb2cf-1050-475b-b855-f5f7cc04092b",
   "metadata": {
    "execution": {
     "iopub.execute_input": "2022-07-22T04:56:55.173492Z",
     "iopub.status.busy": "2022-07-22T04:56:55.173274Z",
     "iopub.status.idle": "2022-07-22T04:56:55.189136Z",
     "shell.execute_reply": "2022-07-22T04:56:55.188672Z"
    },
    "papermill": {
     "duration": 0.133592,
     "end_time": "2022-07-22T04:56:55.190294",
     "exception": false,
     "start_time": "2022-07-22T04:56:55.056702",
     "status": "completed"
    },
    "tags": []
   },
   "outputs": [
    {
     "data": {
      "text/plain": [
       "1.0"
      ]
     },
     "metadata": {},
     "output_type": "display_data"
    }
   ],
   "source": [
    "_max_val = gene_corrs_df.max().max()  # this captures the diagonal\n",
    "display(_max_val)\n",
    "assert _max_val <= 1.0"
   ]
  },
  {
   "cell_type": "code",
   "execution_count": 39,
   "id": "96d02c44-1fba-47be-8a93-8f2608420b9c",
   "metadata": {
    "execution": {
     "iopub.execute_input": "2022-07-22T04:56:55.358528Z",
     "iopub.status.busy": "2022-07-22T04:56:55.358267Z",
     "iopub.status.idle": "2022-07-22T04:56:55.373539Z",
     "shell.execute_reply": "2022-07-22T04:56:55.373169Z"
    },
    "papermill": {
     "duration": 0.100844,
     "end_time": "2022-07-22T04:56:55.374723",
     "exception": false,
     "start_time": "2022-07-22T04:56:55.273879",
     "status": "completed"
    },
    "tags": []
   },
   "outputs": [],
   "source": [
    "# check upper triangular values\n",
    "assert len(gene_corrs) == int(genes_chr.shape[0] * (genes_chr.shape[0] - 1) / 2)"
   ]
  },
  {
   "cell_type": "code",
   "execution_count": 40,
   "id": "fe283586-c348-40e0-8841-f6d97bfb021c",
   "metadata": {
    "execution": {
     "iopub.execute_input": "2022-07-22T04:56:55.546134Z",
     "iopub.status.busy": "2022-07-22T04:56:55.545901Z",
     "iopub.status.idle": "2022-07-22T04:56:55.565072Z",
     "shell.execute_reply": "2022-07-22T04:56:55.564508Z"
    },
    "papermill": {
     "duration": 0.105254,
     "end_time": "2022-07-22T04:56:55.566290",
     "exception": false,
     "start_time": "2022-07-22T04:56:55.461036",
     "status": "completed"
    },
    "tags": []
   },
   "outputs": [
    {
     "data": {
      "text/plain": [
       "count    1891.000000\n",
       "mean        0.010426\n",
       "std         0.040898\n",
       "min         0.000000\n",
       "25%         0.000000\n",
       "50%         0.000000\n",
       "75%         0.010202\n",
       "max         0.557728\n",
       "dtype: float64"
      ]
     },
     "execution_count": 40,
     "metadata": {},
     "output_type": "execute_result"
    }
   ],
   "source": [
    "gene_corrs_flat.describe()"
   ]
  },
  {
   "cell_type": "code",
   "execution_count": 41,
   "id": "b3815678-0f93-4b35-897b-a9d047a2aa78",
   "metadata": {
    "execution": {
     "iopub.execute_input": "2022-07-22T04:56:55.763328Z",
     "iopub.status.busy": "2022-07-22T04:56:55.763159Z",
     "iopub.status.idle": "2022-07-22T04:56:55.781716Z",
     "shell.execute_reply": "2022-07-22T04:56:55.781210Z"
    },
    "papermill": {
     "duration": 0.131259,
     "end_time": "2022-07-22T04:56:55.782963",
     "exception": false,
     "start_time": "2022-07-22T04:56:55.651704",
     "status": "completed"
    },
    "tags": []
   },
   "outputs": [
    {
     "data": {
      "text/plain": [
       "0.00    0.000000\n",
       "0.05    0.000000\n",
       "0.10    0.000000\n",
       "0.15    0.000000\n",
       "0.20    0.000000\n",
       "0.25    0.000000\n",
       "0.30    0.000000\n",
       "0.35    0.000000\n",
       "0.40    0.000000\n",
       "0.45    0.000000\n",
       "0.50    0.000000\n",
       "0.55    0.000000\n",
       "0.60    0.002867\n",
       "0.65    0.006771\n",
       "0.70    0.008494\n",
       "0.75    0.010202\n",
       "0.80    0.011947\n",
       "0.85    0.013644\n",
       "0.90    0.016140\n",
       "0.95    0.022857\n",
       "dtype: float64"
      ]
     },
     "metadata": {},
     "output_type": "display_data"
    }
   ],
   "source": [
    "gene_corrs_quantiles = gene_corrs_flat.quantile(np.arange(0, 1, 0.05))\n",
    "display(gene_corrs_quantiles)"
   ]
  },
  {
   "cell_type": "markdown",
   "id": "87134509-b145-4a10-8bc9-b7e914c2b0fa",
   "metadata": {
    "papermill": {
     "duration": 0.086086,
     "end_time": "2022-07-22T04:56:55.952913",
     "exception": false,
     "start_time": "2022-07-22T04:56:55.866827",
     "status": "completed"
    },
    "tags": []
   },
   "source": [
    "## Positive definiteness"
   ]
  },
  {
   "cell_type": "code",
   "execution_count": 42,
   "id": "07d9a9a1-a4f7-48aa-b916-6d42a8cc6186",
   "metadata": {
    "execution": {
     "iopub.execute_input": "2022-07-22T04:56:56.128125Z",
     "iopub.status.busy": "2022-07-22T04:56:56.127913Z",
     "iopub.status.idle": "2022-07-22T04:56:56.146481Z",
     "shell.execute_reply": "2022-07-22T04:56:56.146048Z"
    },
    "papermill": {
     "duration": 0.107595,
     "end_time": "2022-07-22T04:56:56.147586",
     "exception": false,
     "start_time": "2022-07-22T04:56:56.039991",
     "status": "completed"
    },
    "tags": []
   },
   "outputs": [
    {
     "data": {
      "text/plain": [
       "0"
      ]
     },
     "metadata": {},
     "output_type": "display_data"
    },
    {
     "data": {
      "text/plain": [
       "array([], dtype=float64)"
      ]
     },
     "metadata": {},
     "output_type": "display_data"
    }
   ],
   "source": [
    "# print negative eigenvalues\n",
    "eigs = np.linalg.eigvals(gene_corrs_df.to_numpy())\n",
    "display(len(eigs[eigs < 0]))\n",
    "display(eigs[eigs < 0])"
   ]
  },
  {
   "cell_type": "code",
   "execution_count": 43,
   "id": "6e218436-c3c5-4028-8c94-a4fa6260efce",
   "metadata": {
    "execution": {
     "iopub.execute_input": "2022-07-22T04:56:56.330325Z",
     "iopub.status.busy": "2022-07-22T04:56:56.330094Z",
     "iopub.status.idle": "2022-07-22T04:56:56.347989Z",
     "shell.execute_reply": "2022-07-22T04:56:56.347537Z"
    },
    "papermill": {
     "duration": 0.114508,
     "end_time": "2022-07-22T04:56:56.349892",
     "exception": false,
     "start_time": "2022-07-22T04:56:56.235384",
     "status": "completed"
    },
    "tags": []
   },
   "outputs": [
    {
     "name": "stdout",
     "output_type": "stream",
     "text": [
      "Works!\n"
     ]
    }
   ],
   "source": [
    "try:\n",
    "    chol_mat = np.linalg.cholesky(gene_corrs_df.to_numpy())\n",
    "    cov_inv = np.linalg.inv(chol_mat)\n",
    "    print(\"Works!\")\n",
    "except:\n",
    "    print(\"Cholesky decomposition failed\")"
   ]
  },
  {
   "cell_type": "markdown",
   "id": "8e60a080-edb2-4e9c-b2ef-22961693200c",
   "metadata": {
    "papermill": {
     "duration": 0.084976,
     "end_time": "2022-07-22T04:56:56.558444",
     "exception": false,
     "start_time": "2022-07-22T04:56:56.473468",
     "status": "completed"
    },
    "tags": []
   },
   "source": [
    "## Plot: distribution"
   ]
  },
  {
   "cell_type": "code",
   "execution_count": 44,
   "id": "8301126b-a7d4-4744-9c7d-f0f86eb6f54c",
   "metadata": {
    "execution": {
     "iopub.execute_input": "2022-07-22T04:56:56.739758Z",
     "iopub.status.busy": "2022-07-22T04:56:56.739554Z",
     "iopub.status.idle": "2022-07-22T04:56:57.423963Z",
     "shell.execute_reply": "2022-07-22T04:56:57.423526Z"
    },
    "papermill": {
     "duration": 0.77855,
     "end_time": "2022-07-22T04:56:57.425133",
     "exception": false,
     "start_time": "2022-07-22T04:56:56.646583",
     "status": "completed"
    },
    "tags": []
   },
   "outputs": [
    {
     "data": {
      "image/png": "[encoded data removed]",
      "text/plain": [
       "<Figure size 504x504 with 1 Axes>"
      ]
     },
     "metadata": {
      "needs_background": "light"
     },
     "output_type": "display_data"
    }
   ],
   "source": [
    "with sns.plotting_context(\"paper\", font_scale=1.5):\n",
    "    g = sns.displot(gene_corrs_flat, kde=True, height=7)\n",
    "    g.ax.set_title(\n",
    "        f\"Distribution of gene correlation values in chromosome {CHROMOSOME}\"\n",
    "    )"
   ]
  },
  {
   "cell_type": "markdown",
   "id": "cbd52bca-d878-4a2f-b684-5c83aa3038d4",
   "metadata": {
    "papermill": {
     "duration": 0.115865,
     "end_time": "2022-07-22T04:56:57.635567",
     "exception": false,
     "start_time": "2022-07-22T04:56:57.519702",
     "status": "completed"
    },
    "tags": []
   },
   "source": [
    "## Plot: heatmap"
   ]
  },
  {
   "cell_type": "code",
   "execution_count": 45,
   "id": "d03fe63a-c7b2-4fb9-a53c-db362ce843c9",
   "metadata": {
    "execution": {
     "iopub.execute_input": "2022-07-22T04:56:57.814158Z",
     "iopub.status.busy": "2022-07-22T04:56:57.813983Z",
     "iopub.status.idle": "2022-07-22T04:56:57.830270Z",
     "shell.execute_reply": "2022-07-22T04:56:57.829830Z"
    },
    "papermill": {
     "duration": 0.109259,
     "end_time": "2022-07-22T04:56:57.831566",
     "exception": false,
     "start_time": "2022-07-22T04:56:57.722307",
     "status": "completed"
    },
    "tags": []
   },
   "outputs": [
    {
     "data": {
      "text/plain": [
       "'0.0 / 0.05'"
      ]
     },
     "metadata": {},
     "output_type": "display_data"
    }
   ],
   "source": [
    "vmin_val = min(0.00, gene_corrs_quantiles[0.10])\n",
    "vmax_val = max(0.05, gene_corrs_quantiles[0.90])\n",
    "display(f\"{vmin_val} / {vmax_val}\")"
   ]
  },
  {
   "cell_type": "code",
   "execution_count": 46,
   "id": "dc41b70b-5bcc-4d9e-9f33-a22c4a94dab5",
   "metadata": {
    "execution": {
     "iopub.execute_input": "2022-07-22T04:56:57.998007Z",
     "iopub.status.busy": "2022-07-22T04:56:57.997421Z",
     "iopub.status.idle": "2022-07-22T04:56:58.599841Z",
     "shell.execute_reply": "2022-07-22T04:56:58.598817Z"
    },
    "papermill": {
     "duration": 0.686335,
     "end_time": "2022-07-22T04:56:58.601097",
     "exception": false,
     "start_time": "2022-07-22T04:56:57.914762",
     "status": "completed"
    },
    "tags": []
   },
   "outputs": [
    {
     "data": {
      "text/plain": [
       "Text(0.5, 1.0, 'Gene correlations in chromosome 21')"
      ]
     },
     "execution_count": 46,
     "metadata": {},
     "output_type": "execute_result"
    },
    {
     "data": {
      "image/png": "[encoded data removed]",
      "text/plain": [
       "<Figure size 720x720 with 2 Axes>"
      ]
     },
     "metadata": {
      "needs_background": "light"
     },
     "output_type": "display_data"
    }
   ],
   "source": [
    "f, ax = plt.subplots(figsize=(10, 10))\n",
    "sns.heatmap(\n",
    "    gene_corrs_df,\n",
    "    xticklabels=False,\n",
    "    yticklabels=False,\n",
    "    square=True,\n",
    "    vmin=vmin_val,\n",
    "    vmax=vmax_val,\n",
    "    cmap=\"rocket_r\",\n",
    "    ax=ax,\n",
    ")\n",
    "ax.set_title(f\"Gene correlations in chromosome {CHROMOSOME}\")"
   ]
  },
  {
   "cell_type": "code",
   "execution_count": null,
   "id": "b25e3ead",
   "metadata": {
    "papermill": {
     "duration": 0.084605,
     "end_time": "2022-07-22T04:56:58.771544",
     "exception": false,
     "start_time": "2022-07-22T04:56:58.686939",
     "status": "completed"
    },
    "tags": []
   },
   "outputs": [],
   "source": []
  }
 ],
 "metadata": {
  "jupytext": {
   "cell_metadata_filter": "all,-execution,-papermill,-trusted",
   "formats": "ipynb,py//py:percent"
  },
  "kernelspec": {
   "display_name": "Python 3 (ipykernel)",
   "language": "python",
   "name": "python3"
  },
  "language_info": {
   "codemirror_mode": {
    "name": "ipython",
    "version": 3
   },
   "file_extension": ".py",
   "mimetype": "text/x-python",
   "name": "python",
   "nbconvert_exporter": "python",
   "pygments_lexer": "ipython3",
   "version": "3.8.13"
  },
  "papermill": {
   "default_parameters": {},
   "duration": 103.484088,
   "end_time": "2022-07-22T04:57:01.686497",
   "environment_variables": {},
   "exception": null,
   "input_path": "nbs/15_gsa_gls/10-gene_expr_correlations.ipynb",
   "output_path": "nbs/15_gsa_gls/gene_corrs/cohorts/1000g_eur/1000g/mashr/10-gene_expr_correlations-chr21.run.ipynb",
   "parameters": {
    "CHROMOSOME": 21,
    "COHORT_NAME": "1000G_EUR",
    "EQTL_MODEL": "MASHR",
    "REFERENCE_PANEL": "1000G"
   },
   "start_time": "2022-07-22T04:55:18.202409",
   "version": "2.2.2"
  }
 },
 "nbformat": 4,
 "nbformat_minor": 5
}
