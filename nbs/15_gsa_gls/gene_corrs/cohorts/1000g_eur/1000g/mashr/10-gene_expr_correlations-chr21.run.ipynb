{
 "cells": [
  {
   "cell_type": "markdown",
   "id": "7a6632fb",
   "metadata": {
    "papermill": {
     "duration": 0.0267,
     "end_time": "2022-08-02T20:33:14.345125",
     "exception": false,
     "start_time": "2022-08-02T20:33:14.318425",
     "status": "completed"
    },
    "tags": []
   },
   "source": [
    "# Description"
   ]
  },
  {
   "cell_type": "markdown",
   "id": "7097c346",
   "metadata": {
    "papermill": {
     "duration": 0.055958,
     "end_time": "2022-08-02T20:33:14.427805",
     "exception": false,
     "start_time": "2022-08-02T20:33:14.371847",
     "status": "completed"
    },
    "tags": []
   },
   "source": [
    "(Please, take a look at the README.md file in this directory for instructions on how to run this notebook)\n",
    "\n",
    "This notebook computes predicted expression correlations between all genes in the MultiPLIER models.\n",
    "\n",
    "It also has a parameter set for papermill to run on a single chromosome to run in parallel (see under `Settings` below).\n",
    "\n",
    "This notebook is not directly run. See README.md."
   ]
  },
  {
   "cell_type": "markdown",
   "id": "c61d8427",
   "metadata": {
    "papermill": {
     "duration": 0.013989,
     "end_time": "2022-08-02T20:33:14.456501",
     "exception": false,
     "start_time": "2022-08-02T20:33:14.442512",
     "status": "completed"
    },
    "tags": []
   },
   "source": [
    "# Modules"
   ]
  },
  {
   "cell_type": "code",
   "execution_count": 1,
   "id": "bbc0234f",
   "metadata": {
    "execution": {
     "iopub.execute_input": "2022-08-02T20:33:14.483468Z",
     "iopub.status.busy": "2022-08-02T20:33:14.483164Z",
     "iopub.status.idle": "2022-08-02T20:33:14.642304Z",
     "shell.execute_reply": "2022-08-02T20:33:14.641763Z"
    },
    "papermill": {
     "duration": 0.175677,
     "end_time": "2022-08-02T20:33:14.644119",
     "exception": false,
     "start_time": "2022-08-02T20:33:14.468442",
     "status": "completed"
    },
    "tags": []
   },
   "outputs": [],
   "source": [
    "%load_ext autoreload\n",
    "%autoreload 2"
   ]
  },
  {
   "cell_type": "code",
   "execution_count": 2,
   "id": "1d5f5a59",
   "metadata": {
    "execution": {
     "iopub.execute_input": "2022-08-02T20:33:14.672559Z",
     "iopub.status.busy": "2022-08-02T20:33:14.672356Z",
     "iopub.status.idle": "2022-08-02T20:33:17.565646Z",
     "shell.execute_reply": "2022-08-02T20:33:17.565029Z"
    },
    "papermill": {
     "duration": 2.909781,
     "end_time": "2022-08-02T20:33:17.567675",
     "exception": false,
     "start_time": "2022-08-02T20:33:14.657894",
     "status": "completed"
    },
    "tags": []
   },
   "outputs": [],
   "source": [
    "from random import sample, seed\n",
    "import warnings\n",
    "from pathlib import Path\n",
    "import pickle\n",
    "import traceback\n",
    "\n",
    "import numpy as np\n",
    "from scipy.spatial.distance import squareform\n",
    "import pandas as pd\n",
    "from tqdm import tqdm\n",
    "import matplotlib.pyplot as plt\n",
    "import seaborn as sns\n",
    "\n",
    "import conf\n",
    "from entity import Gene"
   ]
  },
  {
   "cell_type": "markdown",
   "id": "1eac24b5",
   "metadata": {
    "papermill": {
     "duration": 0.009182,
     "end_time": "2022-08-02T20:33:17.586778",
     "exception": false,
     "start_time": "2022-08-02T20:33:17.577596",
     "status": "completed"
    },
    "tags": []
   },
   "source": [
    "# Settings"
   ]
  },
  {
   "cell_type": "code",
   "execution_count": 3,
   "id": "ca4560ba",
   "metadata": {
    "execution": {
     "iopub.execute_input": "2022-08-02T20:33:17.605735Z",
     "iopub.status.busy": "2022-08-02T20:33:17.605518Z",
     "iopub.status.idle": "2022-08-02T20:33:17.713931Z",
     "shell.execute_reply": "2022-08-02T20:33:17.713406Z"
    },
    "papermill": {
     "duration": 0.120073,
     "end_time": "2022-08-02T20:33:17.715640",
     "exception": false,
     "start_time": "2022-08-02T20:33:17.595567",
     "status": "completed"
    },
    "tags": [
     "parameters"
    ]
   },
   "outputs": [],
   "source": [
    "# a cohort name (it could be something like UK_BIOBANK, etc)\n",
    "COHORT_NAME = None\n",
    "\n",
    "# reference panel such as 1000G or GTEX_V8\n",
    "REFERENCE_PANEL = None\n",
    "\n",
    "# predictions models such as MASHR or ELASTIC_NET\n",
    "EQTL_MODEL = None\n",
    "\n",
    "# this is the default value used in S-MultiXcan to select the\n",
    "# top principal components of the expression correlation matrix\n",
    "SMULTIXCAN_CONDITION_NUMBER = 30\n",
    "\n",
    "# specifies a single chromosome value\n",
    "CHROMOSOME = None\n",
    "\n",
    "# If True, computes the correlation between closeby genes only;\n",
    "# otherwise, it computes correlations for all genes in a chromosome\n",
    "COMPUTE_CORRELATIONS_WITHIN_DISTANCE = False\n",
    "\n",
    "# if True, then it will continue if a gene pair correlation fails,\n",
    "# printing the warning/error for debugging. If False, any warning/error\n",
    "# will be thrown\n",
    "DEBUG_MODE = False"
   ]
  },
  {
   "cell_type": "code",
   "execution_count": 4,
   "id": "94d5e7a0",
   "metadata": {
    "execution": {
     "iopub.execute_input": "2022-08-02T20:33:17.733762Z",
     "iopub.status.busy": "2022-08-02T20:33:17.733552Z",
     "iopub.status.idle": "2022-08-02T20:33:17.751377Z",
     "shell.execute_reply": "2022-08-02T20:33:17.750868Z"
    },
    "papermill": {
     "duration": 0.028815,
     "end_time": "2022-08-02T20:33:17.753028",
     "exception": false,
     "start_time": "2022-08-02T20:33:17.724213",
     "status": "completed"
    },
    "tags": [
     "injected-parameters"
    ]
   },
   "outputs": [],
   "source": [
    "# Parameters\n",
    "COHORT_NAME = \"1000G_EUR\"\n",
    "REFERENCE_PANEL = \"1000G\"\n",
    "EQTL_MODEL = \"MASHR\"\n",
    "CHROMOSOME = 21\n"
   ]
  },
  {
   "cell_type": "code",
   "execution_count": 5,
   "id": "3190631f-27fc-480f-b18e-571d580425a5",
   "metadata": {
    "execution": {
     "iopub.execute_input": "2022-08-02T20:33:17.778818Z",
     "iopub.status.busy": "2022-08-02T20:33:17.778604Z",
     "iopub.status.idle": "2022-08-02T20:33:17.805060Z",
     "shell.execute_reply": "2022-08-02T20:33:17.804525Z"
    },
    "papermill": {
     "duration": 0.041245,
     "end_time": "2022-08-02T20:33:17.806624",
     "exception": false,
     "start_time": "2022-08-02T20:33:17.765379",
     "status": "completed"
    },
    "tags": []
   },
   "outputs": [
    {
     "data": {
      "text/plain": [
       "'Cohort name: 1000g_eur'"
      ]
     },
     "metadata": {},
     "output_type": "display_data"
    }
   ],
   "source": [
    "assert COHORT_NAME is not None and len(COHORT_NAME) > 0, \"A cohort name must be given\"\n",
    "\n",
    "COHORT_NAME = COHORT_NAME.lower()\n",
    "display(f\"Cohort name: {COHORT_NAME}\")"
   ]
  },
  {
   "cell_type": "code",
   "execution_count": 6,
   "id": "f53ba19b-0f93-4fa2-a047-63b375939d1a",
   "metadata": {
    "execution": {
     "iopub.execute_input": "2022-08-02T20:33:17.832616Z",
     "iopub.status.busy": "2022-08-02T20:33:17.832402Z",
     "iopub.status.idle": "2022-08-02T20:33:17.862041Z",
     "shell.execute_reply": "2022-08-02T20:33:17.861522Z"
    },
    "papermill": {
     "duration": 0.044728,
     "end_time": "2022-08-02T20:33:17.863558",
     "exception": false,
     "start_time": "2022-08-02T20:33:17.818830",
     "status": "completed"
    },
    "tags": []
   },
   "outputs": [
    {
     "data": {
      "text/plain": [
       "'Reference panel: 1000G'"
      ]
     },
     "metadata": {},
     "output_type": "display_data"
    }
   ],
   "source": [
    "assert (\n",
    "    REFERENCE_PANEL is not None and len(REFERENCE_PANEL) > 0\n",
    "), \"A reference panel must be given\"\n",
    "\n",
    "display(f\"Reference panel: {REFERENCE_PANEL}\")"
   ]
  },
  {
   "cell_type": "code",
   "execution_count": 7,
   "id": "e024d130-c139-429a-9c6e-ccf149e297b0",
   "metadata": {
    "execution": {
     "iopub.execute_input": "2022-08-02T20:33:17.883388Z",
     "iopub.status.busy": "2022-08-02T20:33:17.883186Z",
     "iopub.status.idle": "2022-08-02T20:33:17.901341Z",
     "shell.execute_reply": "2022-08-02T20:33:17.900827Z"
    },
    "papermill": {
     "duration": 0.03035,
     "end_time": "2022-08-02T20:33:17.902857",
     "exception": false,
     "start_time": "2022-08-02T20:33:17.872507",
     "status": "completed"
    },
    "tags": []
   },
   "outputs": [
    {
     "data": {
      "text/plain": [
       "'eQTL model: MASHR) / mashr_'"
      ]
     },
     "metadata": {},
     "output_type": "display_data"
    }
   ],
   "source": [
    "assert (\n",
    "    EQTL_MODEL is not None and len(EQTL_MODEL) > 0\n",
    "), \"A prediction/eQTL model must be given\"\n",
    "\n",
    "EQTL_MODEL_FILES_PREFIX = conf.PHENOMEXCAN[\"PREDICTION_MODELS\"][f\"{EQTL_MODEL}_PREFIX\"]\n",
    "display(f\"eQTL model: {EQTL_MODEL}) / {EQTL_MODEL_FILES_PREFIX}\")"
   ]
  },
  {
   "cell_type": "code",
   "execution_count": 8,
   "id": "552a7f63-a18c-4d3e-bb6a-94f99b431291",
   "metadata": {
    "execution": {
     "iopub.execute_input": "2022-08-02T20:33:17.930435Z",
     "iopub.status.busy": "2022-08-02T20:33:17.930233Z",
     "iopub.status.idle": "2022-08-02T20:33:17.948090Z",
     "shell.execute_reply": "2022-08-02T20:33:17.947580Z"
    },
    "papermill": {
     "duration": 0.032936,
     "end_time": "2022-08-02T20:33:17.949609",
     "exception": false,
     "start_time": "2022-08-02T20:33:17.916673",
     "status": "completed"
    },
    "tags": []
   },
   "outputs": [
    {
     "data": {
      "text/plain": [
       "'S-MultiXcan condition number: 30'"
      ]
     },
     "metadata": {},
     "output_type": "display_data"
    }
   ],
   "source": [
    "assert (\n",
    "    SMULTIXCAN_CONDITION_NUMBER is not None and SMULTIXCAN_CONDITION_NUMBER > 0\n",
    "), \"The S-MultiXcan condition number (positive integer) must be given\"\n",
    "\n",
    "display(f\"S-MultiXcan condition number: {SMULTIXCAN_CONDITION_NUMBER}\")"
   ]
  },
  {
   "cell_type": "code",
   "execution_count": 9,
   "id": "f34a336f-548e-4afe-8955-90eaea4f42c6",
   "metadata": {
    "execution": {
     "iopub.execute_input": "2022-08-02T20:33:17.982563Z",
     "iopub.status.busy": "2022-08-02T20:33:17.982337Z",
     "iopub.status.idle": "2022-08-02T20:33:18.007982Z",
     "shell.execute_reply": "2022-08-02T20:33:18.007425Z"
    },
    "papermill": {
     "duration": 0.044266,
     "end_time": "2022-08-02T20:33:18.009586",
     "exception": false,
     "start_time": "2022-08-02T20:33:17.965320",
     "status": "completed"
    },
    "tags": []
   },
   "outputs": [
    {
     "data": {
      "text/plain": [
       "'Working on chromosome 21'"
      ]
     },
     "metadata": {},
     "output_type": "display_data"
    }
   ],
   "source": [
    "assert CHROMOSOME is not None and (\n",
    "    1 <= CHROMOSOME <= 22\n",
    "), \"You have to select one chromosome (format: number between 1 and 22)\"\n",
    "\n",
    "CHROMOSOME = str(CHROMOSOME)\n",
    "display(f\"Working on chromosome {CHROMOSOME}\")"
   ]
  },
  {
   "cell_type": "code",
   "execution_count": 10,
   "id": "ab8e96e8-06b5-4363-9dcd-dc4d78cc27f7",
   "metadata": {
    "execution": {
     "iopub.execute_input": "2022-08-02T20:33:18.044795Z",
     "iopub.status.busy": "2022-08-02T20:33:18.044531Z",
     "iopub.status.idle": "2022-08-02T20:33:18.065908Z",
     "shell.execute_reply": "2022-08-02T20:33:18.065333Z"
    },
    "papermill": {
     "duration": 0.040737,
     "end_time": "2022-08-02T20:33:18.067557",
     "exception": false,
     "start_time": "2022-08-02T20:33:18.026820",
     "status": "completed"
    },
    "tags": []
   },
   "outputs": [
    {
     "data": {
      "text/plain": [
       "'Compute correlation within distance False'"
      ]
     },
     "metadata": {},
     "output_type": "display_data"
    }
   ],
   "source": [
    "display(f\"Compute correlation within distance {COMPUTE_CORRELATIONS_WITHIN_DISTANCE}\")"
   ]
  },
  {
   "cell_type": "code",
   "execution_count": 11,
   "id": "396392dc-0340-4540-9b02-e182b833f909",
   "metadata": {
    "execution": {
     "iopub.execute_input": "2022-08-02T20:33:18.110305Z",
     "iopub.status.busy": "2022-08-02T20:33:18.110035Z",
     "iopub.status.idle": "2022-08-02T20:33:18.266629Z",
     "shell.execute_reply": "2022-08-02T20:33:18.266062Z"
    },
    "papermill": {
     "duration": 0.179504,
     "end_time": "2022-08-02T20:33:18.268224",
     "exception": false,
     "start_time": "2022-08-02T20:33:18.088720",
     "status": "completed"
    },
    "tags": []
   },
   "outputs": [
    {
     "data": {
      "text/plain": [
       "'Using output dir base: /project/ritchie20/projects/phenoplier/base/results/gls/gene_corrs/cohorts/1000g_eur/1000g/mashr'"
      ]
     },
     "metadata": {},
     "output_type": "display_data"
    }
   ],
   "source": [
    "OUTPUT_DIR_BASE = (\n",
    "    conf.RESULTS[\"GLS\"]\n",
    "    / \"gene_corrs\"\n",
    "    / \"cohorts\"\n",
    "    / COHORT_NAME\n",
    "    / REFERENCE_PANEL.lower()\n",
    "    / EQTL_MODEL.lower()\n",
    ")\n",
    "OUTPUT_DIR_BASE.mkdir(parents=True, exist_ok=True)\n",
    "\n",
    "display(f\"Using output dir base: {OUTPUT_DIR_BASE}\")"
   ]
  },
  {
   "cell_type": "markdown",
   "id": "d2ba085e",
   "metadata": {
    "papermill": {
     "duration": 0.036086,
     "end_time": "2022-08-02T20:33:18.337865",
     "exception": false,
     "start_time": "2022-08-02T20:33:18.301779",
     "status": "completed"
    },
    "tags": []
   },
   "source": [
    "# Load data"
   ]
  },
  {
   "cell_type": "markdown",
   "id": "7dcb8db7",
   "metadata": {
    "papermill": {
     "duration": 0.038022,
     "end_time": "2022-08-02T20:33:18.411875",
     "exception": false,
     "start_time": "2022-08-02T20:33:18.373853",
     "status": "completed"
    },
    "tags": []
   },
   "source": [
    "## GWAS variants"
   ]
  },
  {
   "cell_type": "code",
   "execution_count": 12,
   "id": "29434c4e-8cd3-4b9b-82e4-b5a251d9dd19",
   "metadata": {
    "execution": {
     "iopub.execute_input": "2022-08-02T20:33:18.491052Z",
     "iopub.status.busy": "2022-08-02T20:33:18.490788Z",
     "iopub.status.idle": "2022-08-02T20:33:21.599636Z",
     "shell.execute_reply": "2022-08-02T20:33:21.598804Z"
    },
    "papermill": {
     "duration": 3.147909,
     "end_time": "2022-08-02T20:33:21.601715",
     "exception": false,
     "start_time": "2022-08-02T20:33:18.453806",
     "status": "completed"
    },
    "tags": []
   },
   "outputs": [],
   "source": [
    "with open(OUTPUT_DIR_BASE / \"gwas_variant_ids.pkl\", \"rb\") as handle:\n",
    "    gwas_variants_ids_set = pickle.load(handle)"
   ]
  },
  {
   "cell_type": "code",
   "execution_count": 13,
   "id": "b9d9dec2-4a76-4bf9-bde2-e24c95acb8a0",
   "metadata": {
    "execution": {
     "iopub.execute_input": "2022-08-02T20:33:21.624257Z",
     "iopub.status.busy": "2022-08-02T20:33:21.623989Z",
     "iopub.status.idle": "2022-08-02T20:33:21.786667Z",
     "shell.execute_reply": "2022-08-02T20:33:21.786129Z"
    },
    "papermill": {
     "duration": 0.176212,
     "end_time": "2022-08-02T20:33:21.788239",
     "exception": false,
     "start_time": "2022-08-02T20:33:21.612027",
     "status": "completed"
    },
    "tags": []
   },
   "outputs": [
    {
     "data": {
      "text/plain": [
       "8325729"
      ]
     },
     "execution_count": 13,
     "metadata": {},
     "output_type": "execute_result"
    }
   ],
   "source": [
    "len(gwas_variants_ids_set)"
   ]
  },
  {
   "cell_type": "code",
   "execution_count": 14,
   "id": "4235b06a-6034-4ee4-a0a3-2ae35d122418",
   "metadata": {
    "execution": {
     "iopub.execute_input": "2022-08-02T20:33:21.809457Z",
     "iopub.status.busy": "2022-08-02T20:33:21.809251Z",
     "iopub.status.idle": "2022-08-02T20:33:22.379619Z",
     "shell.execute_reply": "2022-08-02T20:33:22.379045Z"
    },
    "papermill": {
     "duration": 0.582466,
     "end_time": "2022-08-02T20:33:22.381240",
     "exception": false,
     "start_time": "2022-08-02T20:33:21.798774",
     "status": "completed"
    },
    "tags": []
   },
   "outputs": [
    {
     "data": {
      "text/plain": [
       "['chr3_172257476_A_G_b38',\n",
       " 'chr2_111736258_CT_C_b38',\n",
       " 'chr13_67376690_A_T_b38',\n",
       " 'chr4_9632104_A_G_b38',\n",
       " 'chr17_32474423_C_T_b38']"
      ]
     },
     "execution_count": 14,
     "metadata": {},
     "output_type": "execute_result"
    }
   ],
   "source": [
    "list(gwas_variants_ids_set)[:5]"
   ]
  },
  {
   "cell_type": "markdown",
   "id": "07866999-2305-41f9-a144-e69c9122c212",
   "metadata": {
    "papermill": {
     "duration": 0.010078,
     "end_time": "2022-08-02T20:33:22.402219",
     "exception": false,
     "start_time": "2022-08-02T20:33:22.392141",
     "status": "completed"
    },
    "tags": []
   },
   "source": [
    "## S-PrediXcan tissue models"
   ]
  },
  {
   "cell_type": "code",
   "execution_count": 15,
   "id": "780611d9-77c8-405f-90a4-f271f7b09397",
   "metadata": {
    "execution": {
     "iopub.execute_input": "2022-08-02T20:33:22.423947Z",
     "iopub.status.busy": "2022-08-02T20:33:22.423665Z",
     "iopub.status.idle": "2022-08-02T20:33:23.429328Z",
     "shell.execute_reply": "2022-08-02T20:33:23.428737Z"
    },
    "papermill": {
     "duration": 1.018712,
     "end_time": "2022-08-02T20:33:23.431227",
     "exception": false,
     "start_time": "2022-08-02T20:33:22.412515",
     "status": "completed"
    },
    "tags": []
   },
   "outputs": [],
   "source": [
    "spredixcan_genes_models = pd.read_pickle(OUTPUT_DIR_BASE / \"gene_tissues.pkl\")"
   ]
  },
  {
   "cell_type": "code",
   "execution_count": 16,
   "id": "726dd1f6-9557-4225-91fa-b3b879ea96e1",
   "metadata": {
    "execution": {
     "iopub.execute_input": "2022-08-02T20:33:23.463597Z",
     "iopub.status.busy": "2022-08-02T20:33:23.463384Z",
     "iopub.status.idle": "2022-08-02T20:33:23.486786Z",
     "shell.execute_reply": "2022-08-02T20:33:23.486279Z"
    },
    "papermill": {
     "duration": 0.042443,
     "end_time": "2022-08-02T20:33:23.488275",
     "exception": false,
     "start_time": "2022-08-02T20:33:23.445832",
     "status": "completed"
    },
    "tags": []
   },
   "outputs": [
    {
     "data": {
      "text/plain": [
       "(6444, 10)"
      ]
     },
     "execution_count": 16,
     "metadata": {},
     "output_type": "execute_result"
    }
   ],
   "source": [
    "spredixcan_genes_models.shape"
   ]
  },
  {
   "cell_type": "code",
   "execution_count": 17,
   "id": "944a1b48-222c-4eb0-b252-b9de2cbca215",
   "metadata": {
    "execution": {
     "iopub.execute_input": "2022-08-02T20:33:23.514810Z",
     "iopub.status.busy": "2022-08-02T20:33:23.514612Z",
     "iopub.status.idle": "2022-08-02T20:33:23.563448Z",
     "shell.execute_reply": "2022-08-02T20:33:23.562943Z"
    },
    "papermill": {
     "duration": 0.065846,
     "end_time": "2022-08-02T20:33:23.564932",
     "exception": false,
     "start_time": "2022-08-02T20:33:23.499086",
     "status": "completed"
    },
    "tags": []
   },
   "outputs": [
    {
     "data": {
      "text/html": [
       "<div>\n",
       "<style scoped>\n",
       "    .dataframe tbody tr th:only-of-type {\n",
       "        vertical-align: middle;\n",
       "    }\n",
       "\n",
       "    .dataframe tbody tr th {\n",
       "        vertical-align: top;\n",
       "    }\n",
       "\n",
       "    .dataframe thead th {\n",
       "        text-align: right;\n",
       "    }\n",
       "</style>\n",
       "<table border=\"1\" class=\"dataframe\">\n",
       "  <thead>\n",
       "    <tr style=\"text-align: right;\">\n",
       "      <th></th>\n",
       "      <th>gene_name</th>\n",
       "      <th>tissue</th>\n",
       "      <th>n_tissues</th>\n",
       "      <th>tissues_pc_variances</th>\n",
       "      <th>tissues_pc_variances_cov</th>\n",
       "      <th>tissues_variances</th>\n",
       "      <th>n_snps_used_sum</th>\n",
       "      <th>n_snps_in_model_sum</th>\n",
       "      <th>unique_n_snps_in_model</th>\n",
       "      <th>unique_n_snps_used</th>\n",
       "    </tr>\n",
       "    <tr>\n",
       "      <th>gene_id</th>\n",
       "      <th></th>\n",
       "      <th></th>\n",
       "      <th></th>\n",
       "      <th></th>\n",
       "      <th></th>\n",
       "      <th></th>\n",
       "      <th></th>\n",
       "      <th></th>\n",
       "      <th></th>\n",
       "      <th></th>\n",
       "    </tr>\n",
       "  </thead>\n",
       "  <tbody>\n",
       "    <tr>\n",
       "      <th>ENSG00000000419</th>\n",
       "      <td>DPM1</td>\n",
       "      <td>(Brain_Hypothalamus, Brain_Substantia_nigra)</td>\n",
       "      <td>2</td>\n",
       "      <td>[1.0372585612589562, 0.9627414387410438]</td>\n",
       "      <td>[0.008284978865240098, 0.000732674839341259]</td>\n",
       "      <td>{'Brain_Substantia_nigra': 0.00073379232755585...</td>\n",
       "      <td>2</td>\n",
       "      <td>2</td>\n",
       "      <td>2</td>\n",
       "      <td>2</td>\n",
       "    </tr>\n",
       "    <tr>\n",
       "      <th>ENSG00000000938</th>\n",
       "      <td>FGR</td>\n",
       "      <td>(Muscle_Skeletal, Prostate, Stomach, Artery_Ti...</td>\n",
       "      <td>36</td>\n",
       "      <td>[30.57880701512375, 2.029732645600111, 1.40179...</td>\n",
       "      <td>[0.22478471249969334, 0.00881387381303179]</td>\n",
       "      <td>{'Brain_Cerebellum': 0.020204550992367513, 'Ne...</td>\n",
       "      <td>40</td>\n",
       "      <td>40</td>\n",
       "      <td>5</td>\n",
       "      <td>5</td>\n",
       "    </tr>\n",
       "    <tr>\n",
       "      <th>ENSG00000000971</th>\n",
       "      <td>CFH</td>\n",
       "      <td>(Small_Intestine_Terminal_Ileum, Heart_Atrial_...</td>\n",
       "      <td>34</td>\n",
       "      <td>[20.77260827663932, 8.17715814232484, 1.864649...</td>\n",
       "      <td>[0.19699534279580108, 0.05731825316349161, 0.0...</td>\n",
       "      <td>{'Brain_Cerebellum': 0.0042432870992385, 'Nerv...</td>\n",
       "      <td>44</td>\n",
       "      <td>44</td>\n",
       "      <td>12</td>\n",
       "      <td>12</td>\n",
       "    </tr>\n",
       "    <tr>\n",
       "      <th>ENSG00000001084</th>\n",
       "      <td>GCLC</td>\n",
       "      <td>(Small_Intestine_Terminal_Ileum, Heart_Atrial_...</td>\n",
       "      <td>32</td>\n",
       "      <td>[20.976449940269084, 4.772354749306766, 2.2362...</td>\n",
       "      <td>[0.36578096389253945, 0.12645413710424552, 0.0...</td>\n",
       "      <td>{'Brain_Cerebellum': 0.03163805534230767, 'Ner...</td>\n",
       "      <td>46</td>\n",
       "      <td>46</td>\n",
       "      <td>23</td>\n",
       "      <td>23</td>\n",
       "    </tr>\n",
       "    <tr>\n",
       "      <th>ENSG00000001167</th>\n",
       "      <td>NFYA</td>\n",
       "      <td>(Small_Intestine_Terminal_Ileum, Heart_Atrial_...</td>\n",
       "      <td>40</td>\n",
       "      <td>[37.638369782404986]</td>\n",
       "      <td>[1.4787144508923995, 0.049690618387739104]</td>\n",
       "      <td>{'Brain_Cerebellum': 0.1311467889326876, 'Nerv...</td>\n",
       "      <td>47</td>\n",
       "      <td>48</td>\n",
       "      <td>14</td>\n",
       "      <td>13</td>\n",
       "    </tr>\n",
       "  </tbody>\n",
       "</table>\n",
       "</div>"
      ],
      "text/plain": [
       "                gene_name                                             tissue  \\\n",
       "gene_id                                                                        \n",
       "ENSG00000000419      DPM1       (Brain_Hypothalamus, Brain_Substantia_nigra)   \n",
       "ENSG00000000938       FGR  (Muscle_Skeletal, Prostate, Stomach, Artery_Ti...   \n",
       "ENSG00000000971       CFH  (Small_Intestine_Terminal_Ileum, Heart_Atrial_...   \n",
       "ENSG00000001084      GCLC  (Small_Intestine_Terminal_Ileum, Heart_Atrial_...   \n",
       "ENSG00000001167      NFYA  (Small_Intestine_Terminal_Ileum, Heart_Atrial_...   \n",
       "\n",
       "                 n_tissues                               tissues_pc_variances  \\\n",
       "gene_id                                                                         \n",
       "ENSG00000000419          2           [1.0372585612589562, 0.9627414387410438]   \n",
       "ENSG00000000938         36  [30.57880701512375, 2.029732645600111, 1.40179...   \n",
       "ENSG00000000971         34  [20.77260827663932, 8.17715814232484, 1.864649...   \n",
       "ENSG00000001084         32  [20.976449940269084, 4.772354749306766, 2.2362...   \n",
       "ENSG00000001167         40                               [37.638369782404986]   \n",
       "\n",
       "                                          tissues_pc_variances_cov  \\\n",
       "gene_id                                                              \n",
       "ENSG00000000419       [0.008284978865240098, 0.000732674839341259]   \n",
       "ENSG00000000938         [0.22478471249969334, 0.00881387381303179]   \n",
       "ENSG00000000971  [0.19699534279580108, 0.05731825316349161, 0.0...   \n",
       "ENSG00000001084  [0.36578096389253945, 0.12645413710424552, 0.0...   \n",
       "ENSG00000001167         [1.4787144508923995, 0.049690618387739104]   \n",
       "\n",
       "                                                 tissues_variances  \\\n",
       "gene_id                                                              \n",
       "ENSG00000000419  {'Brain_Substantia_nigra': 0.00073379232755585...   \n",
       "ENSG00000000938  {'Brain_Cerebellum': 0.020204550992367513, 'Ne...   \n",
       "ENSG00000000971  {'Brain_Cerebellum': 0.0042432870992385, 'Nerv...   \n",
       "ENSG00000001084  {'Brain_Cerebellum': 0.03163805534230767, 'Ner...   \n",
       "ENSG00000001167  {'Brain_Cerebellum': 0.1311467889326876, 'Nerv...   \n",
       "\n",
       "                 n_snps_used_sum  n_snps_in_model_sum  unique_n_snps_in_model  \\\n",
       "gene_id                                                                         \n",
       "ENSG00000000419                2                    2                       2   \n",
       "ENSG00000000938               40                   40                       5   \n",
       "ENSG00000000971               44                   44                      12   \n",
       "ENSG00000001084               46                   46                      23   \n",
       "ENSG00000001167               47                   48                      14   \n",
       "\n",
       "                 unique_n_snps_used  \n",
       "gene_id                              \n",
       "ENSG00000000419                   2  \n",
       "ENSG00000000938                   5  \n",
       "ENSG00000000971                  12  \n",
       "ENSG00000001084                  23  \n",
       "ENSG00000001167                  13  "
      ]
     },
     "execution_count": 17,
     "metadata": {},
     "output_type": "execute_result"
    }
   ],
   "source": [
    "spredixcan_genes_models.head()"
   ]
  },
  {
   "cell_type": "code",
   "execution_count": 18,
   "id": "d1c11bb1-be0b-4f40-b360-633d6827109f",
   "metadata": {
    "execution": {
     "iopub.execute_input": "2022-08-02T20:33:23.616461Z",
     "iopub.status.busy": "2022-08-02T20:33:23.616261Z",
     "iopub.status.idle": "2022-08-02T20:33:23.945928Z",
     "shell.execute_reply": "2022-08-02T20:33:23.945344Z"
    },
    "papermill": {
     "duration": 0.359173,
     "end_time": "2022-08-02T20:33:23.947885",
     "exception": false,
     "start_time": "2022-08-02T20:33:23.588712",
     "status": "completed"
    },
    "tags": []
   },
   "outputs": [],
   "source": [
    "assert spredixcan_genes_models.index.is_unique"
   ]
  },
  {
   "cell_type": "markdown",
   "id": "a5b5092c-a13e-47c4-a92a-480fcc08f3ae",
   "metadata": {
    "papermill": {
     "duration": 0.01183,
     "end_time": "2022-08-02T20:33:23.975991",
     "exception": false,
     "start_time": "2022-08-02T20:33:23.964161",
     "status": "completed"
    },
    "tags": []
   },
   "source": [
    "## Gene info"
   ]
  },
  {
   "cell_type": "code",
   "execution_count": 19,
   "id": "7d6bb224-88e9-4358-ac10-43a41d92cdad",
   "metadata": {
    "execution": {
     "iopub.execute_input": "2022-08-02T20:33:23.999891Z",
     "iopub.status.busy": "2022-08-02T20:33:23.999685Z",
     "iopub.status.idle": "2022-08-02T20:33:24.023530Z",
     "shell.execute_reply": "2022-08-02T20:33:24.023023Z"
    },
    "papermill": {
     "duration": 0.037519,
     "end_time": "2022-08-02T20:33:24.025131",
     "exception": false,
     "start_time": "2022-08-02T20:33:23.987612",
     "status": "completed"
    },
    "tags": []
   },
   "outputs": [],
   "source": [
    "genes_info = pd.read_pickle(OUTPUT_DIR_BASE / \"genes_info.pkl\")"
   ]
  },
  {
   "cell_type": "code",
   "execution_count": 20,
   "id": "9e32abfa-546d-483e-8c18-d526e9e05903",
   "metadata": {
    "execution": {
     "iopub.execute_input": "2022-08-02T20:33:24.051365Z",
     "iopub.status.busy": "2022-08-02T20:33:24.051166Z",
     "iopub.status.idle": "2022-08-02T20:33:24.068761Z",
     "shell.execute_reply": "2022-08-02T20:33:24.068255Z"
    },
    "papermill": {
     "duration": 0.031346,
     "end_time": "2022-08-02T20:33:24.070239",
     "exception": false,
     "start_time": "2022-08-02T20:33:24.038893",
     "status": "completed"
    },
    "tags": []
   },
   "outputs": [
    {
     "data": {
      "text/plain": [
       "(6444, 7)"
      ]
     },
     "execution_count": 20,
     "metadata": {},
     "output_type": "execute_result"
    }
   ],
   "source": [
    "genes_info.shape"
   ]
  },
  {
   "cell_type": "code",
   "execution_count": 21,
   "id": "d16c3e92-85ec-468a-9a56-e25a9774a1cb",
   "metadata": {
    "execution": {
     "iopub.execute_input": "2022-08-02T20:33:24.104021Z",
     "iopub.status.busy": "2022-08-02T20:33:24.103821Z",
     "iopub.status.idle": "2022-08-02T20:33:24.127458Z",
     "shell.execute_reply": "2022-08-02T20:33:24.126955Z"
    },
    "papermill": {
     "duration": 0.038625,
     "end_time": "2022-08-02T20:33:24.128942",
     "exception": false,
     "start_time": "2022-08-02T20:33:24.090317",
     "status": "completed"
    },
    "tags": []
   },
   "outputs": [
    {
     "data": {
      "text/html": [
       "<div>\n",
       "<style scoped>\n",
       "    .dataframe tbody tr th:only-of-type {\n",
       "        vertical-align: middle;\n",
       "    }\n",
       "\n",
       "    .dataframe tbody tr th {\n",
       "        vertical-align: top;\n",
       "    }\n",
       "\n",
       "    .dataframe thead th {\n",
       "        text-align: right;\n",
       "    }\n",
       "</style>\n",
       "<table border=\"1\" class=\"dataframe\">\n",
       "  <thead>\n",
       "    <tr style=\"text-align: right;\">\n",
       "      <th></th>\n",
       "      <th>name</th>\n",
       "      <th>id</th>\n",
       "      <th>chr</th>\n",
       "      <th>band</th>\n",
       "      <th>start_position</th>\n",
       "      <th>end_position</th>\n",
       "      <th>gene_length</th>\n",
       "    </tr>\n",
       "  </thead>\n",
       "  <tbody>\n",
       "    <tr>\n",
       "      <th>0</th>\n",
       "      <td>CDC14B</td>\n",
       "      <td>ENSG00000081377</td>\n",
       "      <td>9</td>\n",
       "      <td>9q22.33</td>\n",
       "      <td>96490241.0</td>\n",
       "      <td>96619830.0</td>\n",
       "      <td>129589.0</td>\n",
       "    </tr>\n",
       "    <tr>\n",
       "      <th>1</th>\n",
       "      <td>DOCK3</td>\n",
       "      <td>ENSG00000088538</td>\n",
       "      <td>3</td>\n",
       "      <td>3p21.2</td>\n",
       "      <td>50674927.0</td>\n",
       "      <td>51384198.0</td>\n",
       "      <td>709271.0</td>\n",
       "    </tr>\n",
       "    <tr>\n",
       "      <th>2</th>\n",
       "      <td>SLCO4C1</td>\n",
       "      <td>ENSG00000173930</td>\n",
       "      <td>5</td>\n",
       "      <td>5q21.1</td>\n",
       "      <td>102233986.0</td>\n",
       "      <td>102296284.0</td>\n",
       "      <td>62298.0</td>\n",
       "    </tr>\n",
       "    <tr>\n",
       "      <th>3</th>\n",
       "      <td>UST</td>\n",
       "      <td>ENSG00000111962</td>\n",
       "      <td>6</td>\n",
       "      <td>6q25.1</td>\n",
       "      <td>148747030.0</td>\n",
       "      <td>149076990.0</td>\n",
       "      <td>329960.0</td>\n",
       "    </tr>\n",
       "    <tr>\n",
       "      <th>4</th>\n",
       "      <td>CFH</td>\n",
       "      <td>ENSG00000000971</td>\n",
       "      <td>1</td>\n",
       "      <td>1q31.3</td>\n",
       "      <td>196651878.0</td>\n",
       "      <td>196747504.0</td>\n",
       "      <td>95626.0</td>\n",
       "    </tr>\n",
       "  </tbody>\n",
       "</table>\n",
       "</div>"
      ],
      "text/plain": [
       "      name               id chr     band  start_position  end_position  \\\n",
       "0   CDC14B  ENSG00000081377   9  9q22.33      96490241.0    96619830.0   \n",
       "1    DOCK3  ENSG00000088538   3   3p21.2      50674927.0    51384198.0   \n",
       "2  SLCO4C1  ENSG00000173930   5   5q21.1     102233986.0   102296284.0   \n",
       "3      UST  ENSG00000111962   6   6q25.1     148747030.0   149076990.0   \n",
       "4      CFH  ENSG00000000971   1   1q31.3     196651878.0   196747504.0   \n",
       "\n",
       "   gene_length  \n",
       "0     129589.0  \n",
       "1     709271.0  \n",
       "2      62298.0  \n",
       "3     329960.0  \n",
       "4      95626.0  "
      ]
     },
     "execution_count": 21,
     "metadata": {},
     "output_type": "execute_result"
    }
   ],
   "source": [
    "genes_info.head()"
   ]
  },
  {
   "cell_type": "markdown",
   "id": "d3843e06",
   "metadata": {
    "papermill": {
     "duration": 0.013004,
     "end_time": "2022-08-02T20:33:24.153694",
     "exception": false,
     "start_time": "2022-08-02T20:33:24.140690",
     "status": "completed"
    },
    "tags": []
   },
   "source": [
    "# Compute correlations"
   ]
  },
  {
   "cell_type": "code",
   "execution_count": 22,
   "id": "cb859c15-d1f3-4006-a74c-2b83c0db9611",
   "metadata": {
    "execution": {
     "iopub.execute_input": "2022-08-02T20:33:24.178749Z",
     "iopub.status.busy": "2022-08-02T20:33:24.178550Z",
     "iopub.status.idle": "2022-08-02T20:33:24.209459Z",
     "shell.execute_reply": "2022-08-02T20:33:24.208942Z"
    },
    "papermill": {
     "duration": 0.045219,
     "end_time": "2022-08-02T20:33:24.210986",
     "exception": false,
     "start_time": "2022-08-02T20:33:24.165767",
     "status": "completed"
    },
    "tags": []
   },
   "outputs": [
    {
     "data": {
      "text/plain": [
       "PosixPath('/project/ritchie20/projects/phenoplier/base/results/gls/gene_corrs/cohorts/1000g_eur/1000g/mashr/by_chr/gene_corrs-chr21.pkl')"
      ]
     },
     "metadata": {},
     "output_type": "display_data"
    }
   ],
   "source": [
    "output_dir = OUTPUT_DIR_BASE / \"by_chr\"\n",
    "output_dir.mkdir(exist_ok=True, parents=True)\n",
    "output_file = output_dir / f\"gene_corrs-chr{CHROMOSOME}.pkl\"\n",
    "display(output_file)"
   ]
  },
  {
   "cell_type": "code",
   "execution_count": 23,
   "id": "aa674fe4-6794-4eed-98fa-32b39d1d4ace",
   "metadata": {
    "execution": {
     "iopub.execute_input": "2022-08-02T20:33:24.235786Z",
     "iopub.status.busy": "2022-08-02T20:33:24.235575Z",
     "iopub.status.idle": "2022-08-02T20:33:24.258556Z",
     "shell.execute_reply": "2022-08-02T20:33:24.258030Z"
    },
    "papermill": {
     "duration": 0.037778,
     "end_time": "2022-08-02T20:33:24.260217",
     "exception": false,
     "start_time": "2022-08-02T20:33:24.222439",
     "status": "completed"
    },
    "tags": []
   },
   "outputs": [],
   "source": [
    "warnings.filterwarnings(\"error\")"
   ]
  },
  {
   "cell_type": "code",
   "execution_count": 24,
   "id": "44d5450b-3baf-43f1-9e2e-4b06f1a785f8",
   "metadata": {
    "execution": {
     "iopub.execute_input": "2022-08-02T20:33:24.286203Z",
     "iopub.status.busy": "2022-08-02T20:33:24.285989Z",
     "iopub.status.idle": "2022-08-02T20:33:24.305454Z",
     "shell.execute_reply": "2022-08-02T20:33:24.304937Z"
    },
    "papermill": {
     "duration": 0.03444,
     "end_time": "2022-08-02T20:33:24.307090",
     "exception": false,
     "start_time": "2022-08-02T20:33:24.272650",
     "status": "completed"
    },
    "tags": []
   },
   "outputs": [],
   "source": [
    "# standard checks\n",
    "all_chrs = genes_info[\"chr\"].dropna().unique()\n",
    "assert all_chrs.shape[0] == 22\n",
    "\n",
    "# select chromosome given by the user\n",
    "assert CHROMOSOME in all_chrs"
   ]
  },
  {
   "cell_type": "code",
   "execution_count": 25,
   "id": "2d7c043c-92a7-4d35-991b-fa69ac1e0268",
   "metadata": {
    "execution": {
     "iopub.execute_input": "2022-08-02T20:33:24.333887Z",
     "iopub.status.busy": "2022-08-02T20:33:24.333682Z",
     "iopub.status.idle": "2022-08-02T20:33:24.352810Z",
     "shell.execute_reply": "2022-08-02T20:33:24.352296Z"
    },
    "papermill": {
     "duration": 0.033906,
     "end_time": "2022-08-02T20:33:24.354404",
     "exception": false,
     "start_time": "2022-08-02T20:33:24.320498",
     "status": "completed"
    },
    "tags": []
   },
   "outputs": [
    {
     "name": "stdout",
     "output_type": "stream",
     "text": [
      "Number of genes in chromosome: 62\n"
     ]
    }
   ],
   "source": [
    "# run only on the chromosome specified\n",
    "all_chrs = [CHROMOSOME]\n",
    "genes_chr = genes_info[genes_info[\"chr\"] == CHROMOSOME]\n",
    "\n",
    "# For testing purposes\n",
    "# genes_chr = genes_chr.sample(n=20)\n",
    "\n",
    "print(f\"Number of genes in chromosome: {genes_chr.shape[0]}\", flush=True)"
   ]
  },
  {
   "cell_type": "code",
   "execution_count": 26,
   "id": "916015d8-2979-46d3-a9b9-1cf5a0932c6a",
   "metadata": {
    "execution": {
     "iopub.execute_input": "2022-08-02T20:33:24.379856Z",
     "iopub.status.busy": "2022-08-02T20:33:24.379656Z",
     "iopub.status.idle": "2022-08-02T20:33:24.395998Z",
     "shell.execute_reply": "2022-08-02T20:33:24.395442Z"
    },
    "papermill": {
     "duration": 0.03006,
     "end_time": "2022-08-02T20:33:24.397597",
     "exception": false,
     "start_time": "2022-08-02T20:33:24.367537",
     "status": "completed"
    },
    "tags": []
   },
   "outputs": [],
   "source": [
    "# sort genes by starting position to make visualizations better later\n",
    "genes_chr = genes_chr.sort_values(\"start_position\")"
   ]
  },
  {
   "cell_type": "code",
   "execution_count": 27,
   "id": "a38aa74a-8ad3-47f6-8ef9-56be0e011774",
   "metadata": {
    "execution": {
     "iopub.execute_input": "2022-08-02T20:33:24.423536Z",
     "iopub.status.busy": "2022-08-02T20:33:24.423329Z",
     "iopub.status.idle": "2022-08-02T20:33:24.439577Z",
     "shell.execute_reply": "2022-08-02T20:33:24.439060Z"
    },
    "papermill": {
     "duration": 0.03095,
     "end_time": "2022-08-02T20:33:24.441211",
     "exception": false,
     "start_time": "2022-08-02T20:33:24.410261",
     "status": "completed"
    },
    "tags": []
   },
   "outputs": [],
   "source": [
    "gene_chr_objs = [Gene(ensembl_id=gene_id) for gene_id in genes_chr[\"id\"]]"
   ]
  },
  {
   "cell_type": "code",
   "execution_count": 28,
   "id": "570f974f-13c3-42b6-ad3a-ce99ca885c1a",
   "metadata": {
    "execution": {
     "iopub.execute_input": "2022-08-02T20:33:24.467012Z",
     "iopub.status.busy": "2022-08-02T20:33:24.466815Z",
     "iopub.status.idle": "2022-08-02T20:33:24.484406Z",
     "shell.execute_reply": "2022-08-02T20:33:24.483899Z"
    },
    "papermill": {
     "duration": 0.033509,
     "end_time": "2022-08-02T20:33:24.486011",
     "exception": false,
     "start_time": "2022-08-02T20:33:24.452502",
     "status": "completed"
    },
    "tags": []
   },
   "outputs": [
    {
     "name": "stdout",
     "output_type": "stream",
     "text": [
      "Number of gene combinations: 1891\n"
     ]
    }
   ],
   "source": [
    "n = len(gene_chr_objs)\n",
    "n_comb = int(n * (n - 1) / 2.0)\n",
    "print(f\"Number of gene combinations: {n_comb}\", flush=True)"
   ]
  },
  {
   "cell_type": "code",
   "execution_count": 29,
   "id": "cdbb90a1",
   "metadata": {
    "execution": {
     "iopub.execute_input": "2022-08-02T20:33:24.511626Z",
     "iopub.status.busy": "2022-08-02T20:33:24.511418Z",
     "iopub.status.idle": "2022-08-02T20:36:59.144248Z",
     "shell.execute_reply": "2022-08-02T20:36:59.143201Z"
    },
    "papermill": {
     "duration": 214.648765,
     "end_time": "2022-08-02T20:36:59.147175",
     "exception": false,
     "start_time": "2022-08-02T20:33:24.498410",
     "status": "completed"
    },
    "tags": []
   },
   "outputs": [
    {
     "name": "stderr",
     "output_type": "stream",
     "text": [
      "ENSG00000160299 / ENSG00000160307: 100%|████████████████████████| 1891/1891 [03:34<00:00,  8.82it/s]\n"
     ]
    },
    {
     "data": {
      "text/plain": [
       "PosixPath('/project/ritchie20/projects/phenoplier/base/results/gls/gene_corrs/cohorts/1000g_eur/1000g/mashr/by_chr/gene_corrs-chr21.pkl')"
      ]
     },
     "metadata": {},
     "output_type": "display_data"
    }
   ],
   "source": [
    "gene_corrs = []\n",
    "\n",
    "i = 0\n",
    "with tqdm(ncols=100, total=n_comb) as pbar:\n",
    "    for gene1_idx in range(0, len(gene_chr_objs) - 1):\n",
    "        gene1_obj = gene_chr_objs[gene1_idx]\n",
    "        gene1_tissues = spredixcan_genes_models.loc[gene1_obj.ensembl_id, \"tissue\"]\n",
    "\n",
    "        for gene2_idx in range(gene1_idx + 1, len(gene_chr_objs)):\n",
    "            gene2_obj = gene_chr_objs[gene2_idx]\n",
    "            gene2_tissues = spredixcan_genes_models.loc[gene2_obj.ensembl_id, \"tissue\"]\n",
    "\n",
    "            pbar.set_description(f\"{gene1_obj.ensembl_id} / {gene2_obj.ensembl_id}\")\n",
    "\n",
    "            try:\n",
    "                r = gene1_obj.get_ssm_correlation(\n",
    "                    other_gene=gene2_obj,\n",
    "                    tissues=gene1_tissues,\n",
    "                    other_tissues=gene2_tissues,\n",
    "                    snps_subset=gwas_variants_ids_set,\n",
    "                    condition_number=SMULTIXCAN_CONDITION_NUMBER,\n",
    "                    reference_panel=REFERENCE_PANEL,\n",
    "                    model_type=EQTL_MODEL,\n",
    "                    use_within_distance=COMPUTE_CORRELATIONS_WITHIN_DISTANCE,\n",
    "                )\n",
    "\n",
    "                if r is None:\n",
    "                    # if r is None, it's very likely because:\n",
    "                    #  * one of the genes has no prediction models\n",
    "                    #  * all the SNPs predictors for the gene are not present in the reference\n",
    "                    #    panel\n",
    "\n",
    "                    r = 0.0\n",
    "\n",
    "                gene_corrs.append(r)\n",
    "            except Warning as e:\n",
    "                if not DEBUG_MODE:\n",
    "                    raise e\n",
    "\n",
    "                print(\n",
    "                    f\"RuntimeWarning for genes {gene1_obj.ensembl_id} and {gene2_obj.ensembl_id}\",\n",
    "                    flush=True,\n",
    "                )\n",
    "                print(traceback.format_exc(), flush=True)\n",
    "\n",
    "                gene_corrs.append(np.nan)\n",
    "            except Exception as e:\n",
    "                if not DEBUG_MODE:\n",
    "                    raise e\n",
    "\n",
    "                print(\n",
    "                    f\"Exception for genes {gene1_obj.ensembl_id} and {gene2_obj.ensembl_id}\",\n",
    "                    flush=True,\n",
    "                )\n",
    "                print(traceback.format_exc(), flush=True)\n",
    "\n",
    "                gene_corrs.append(np.nan)\n",
    "\n",
    "            pbar.update(1)\n",
    "\n",
    "# create a pandas series\n",
    "gene_corrs_flat = pd.Series(gene_corrs)\n",
    "\n",
    "# save\n",
    "# FIXME: consider saving only the condenced matrix here. See here for\n",
    "# more details: https://github.com/greenelab/phenoplier/pull/38#discussion_r634600813\n",
    "gene_corrs_data = squareform(np.array(gene_corrs, dtype=np.float64))\n",
    "np.fill_diagonal(gene_corrs_data, 1.0)\n",
    "\n",
    "gene_chr_ids = [g.ensembl_id for g in gene_chr_objs]\n",
    "gene_corrs_df = pd.DataFrame(\n",
    "    data=gene_corrs_data,\n",
    "    index=gene_chr_ids,\n",
    "    columns=gene_chr_ids,\n",
    ")\n",
    "\n",
    "output_dir.mkdir(exist_ok=True, parents=True)\n",
    "display(output_file)\n",
    "\n",
    "gene_corrs_df.to_pickle(output_file)"
   ]
  },
  {
   "cell_type": "markdown",
   "id": "faa67b51-5373-470f-aa72-2ded53fa6dfe",
   "metadata": {
    "papermill": {
     "duration": 0.126717,
     "end_time": "2022-08-02T20:36:59.422168",
     "exception": false,
     "start_time": "2022-08-02T20:36:59.295451",
     "status": "completed"
    },
    "tags": []
   },
   "source": [
    "# Testing"
   ]
  },
  {
   "cell_type": "code",
   "execution_count": 30,
   "id": "14f7d046-4b55-4896-a56b-990127bcc388",
   "metadata": {
    "execution": {
     "iopub.execute_input": "2022-08-02T20:36:59.715048Z",
     "iopub.status.busy": "2022-08-02T20:36:59.714773Z",
     "iopub.status.idle": "2022-08-02T20:36:59.978667Z",
     "shell.execute_reply": "2022-08-02T20:36:59.978124Z"
    },
    "papermill": {
     "duration": 0.40163,
     "end_time": "2022-08-02T20:36:59.980229",
     "exception": false,
     "start_time": "2022-08-02T20:36:59.578599",
     "status": "completed"
    },
    "tags": []
   },
   "outputs": [
    {
     "data": {
      "text/plain": [
       "(62, 62)"
      ]
     },
     "execution_count": 30,
     "metadata": {},
     "output_type": "execute_result"
    }
   ],
   "source": [
    "gene_corrs_df.shape"
   ]
  },
  {
   "cell_type": "code",
   "execution_count": 31,
   "id": "c7d15414-3297-4537-a7c6-7588c0baeb75",
   "metadata": {
    "execution": {
     "iopub.execute_input": "2022-08-02T20:37:00.232461Z",
     "iopub.status.busy": "2022-08-02T20:37:00.232236Z",
     "iopub.status.idle": "2022-08-02T20:37:00.266935Z",
     "shell.execute_reply": "2022-08-02T20:37:00.266426Z"
    },
    "papermill": {
     "duration": 0.161155,
     "end_time": "2022-08-02T20:37:00.268430",
     "exception": false,
     "start_time": "2022-08-02T20:37:00.107275",
     "status": "completed"
    },
    "tags": []
   },
   "outputs": [
    {
     "data": {
      "text/html": [
       "<div>\n",
       "<style scoped>\n",
       "    .dataframe tbody tr th:only-of-type {\n",
       "        vertical-align: middle;\n",
       "    }\n",
       "\n",
       "    .dataframe tbody tr th {\n",
       "        vertical-align: top;\n",
       "    }\n",
       "\n",
       "    .dataframe thead th {\n",
       "        text-align: right;\n",
       "    }\n",
       "</style>\n",
       "<table border=\"1\" class=\"dataframe\">\n",
       "  <thead>\n",
       "    <tr style=\"text-align: right;\">\n",
       "      <th></th>\n",
       "      <th>ENSG00000155307</th>\n",
       "      <th>ENSG00000180530</th>\n",
       "      <th>ENSG00000154719</th>\n",
       "      <th>ENSG00000154721</th>\n",
       "      <th>ENSG00000154723</th>\n",
       "      <th>ENSG00000142192</th>\n",
       "      <th>ENSG00000154734</th>\n",
       "      <th>ENSG00000156261</th>\n",
       "      <th>ENSG00000171189</th>\n",
       "      <th>ENSG00000156299</th>\n",
       "      <th>...</th>\n",
       "      <th>ENSG00000160255</th>\n",
       "      <th>ENSG00000197381</th>\n",
       "      <th>ENSG00000182871</th>\n",
       "      <th>ENSG00000173638</th>\n",
       "      <th>ENSG00000142156</th>\n",
       "      <th>ENSG00000142173</th>\n",
       "      <th>ENSG00000160282</th>\n",
       "      <th>ENSG00000160285</th>\n",
       "      <th>ENSG00000160299</th>\n",
       "      <th>ENSG00000160307</th>\n",
       "    </tr>\n",
       "  </thead>\n",
       "  <tbody>\n",
       "    <tr>\n",
       "      <th>ENSG00000155307</th>\n",
       "      <td>1.000000</td>\n",
       "      <td>0.009524</td>\n",
       "      <td>0.009005</td>\n",
       "      <td>0.014193</td>\n",
       "      <td>0.011602</td>\n",
       "      <td>0.007964</td>\n",
       "      <td>0.009001</td>\n",
       "      <td>0.003462</td>\n",
       "      <td>0.011411</td>\n",
       "      <td>0.009418</td>\n",
       "      <td>...</td>\n",
       "      <td>0.010377</td>\n",
       "      <td>0.013520</td>\n",
       "      <td>0.015126</td>\n",
       "      <td>0.013189</td>\n",
       "      <td>0.010285</td>\n",
       "      <td>0.017090</td>\n",
       "      <td>0.011354</td>\n",
       "      <td>0.010642</td>\n",
       "      <td>0.015226</td>\n",
       "      <td>0.012667</td>\n",
       "    </tr>\n",
       "    <tr>\n",
       "      <th>ENSG00000180530</th>\n",
       "      <td>0.009524</td>\n",
       "      <td>1.000000</td>\n",
       "      <td>0.009485</td>\n",
       "      <td>0.011263</td>\n",
       "      <td>0.015074</td>\n",
       "      <td>0.008841</td>\n",
       "      <td>0.007742</td>\n",
       "      <td>0.008483</td>\n",
       "      <td>0.005554</td>\n",
       "      <td>0.016694</td>\n",
       "      <td>...</td>\n",
       "      <td>0.015923</td>\n",
       "      <td>0.011296</td>\n",
       "      <td>0.021102</td>\n",
       "      <td>0.010372</td>\n",
       "      <td>0.010501</td>\n",
       "      <td>0.017568</td>\n",
       "      <td>0.012794</td>\n",
       "      <td>0.011388</td>\n",
       "      <td>0.019424</td>\n",
       "      <td>0.015643</td>\n",
       "    </tr>\n",
       "    <tr>\n",
       "      <th>ENSG00000154719</th>\n",
       "      <td>0.009005</td>\n",
       "      <td>0.009485</td>\n",
       "      <td>1.000000</td>\n",
       "      <td>0.441590</td>\n",
       "      <td>0.181989</td>\n",
       "      <td>0.012504</td>\n",
       "      <td>0.008913</td>\n",
       "      <td>0.007761</td>\n",
       "      <td>0.005954</td>\n",
       "      <td>0.010846</td>\n",
       "      <td>...</td>\n",
       "      <td>0.007334</td>\n",
       "      <td>0.012565</td>\n",
       "      <td>0.011012</td>\n",
       "      <td>0.014071</td>\n",
       "      <td>0.007409</td>\n",
       "      <td>0.015709</td>\n",
       "      <td>0.015386</td>\n",
       "      <td>0.012582</td>\n",
       "      <td>0.016921</td>\n",
       "      <td>0.010365</td>\n",
       "    </tr>\n",
       "    <tr>\n",
       "      <th>ENSG00000154721</th>\n",
       "      <td>0.014193</td>\n",
       "      <td>0.011263</td>\n",
       "      <td>0.441590</td>\n",
       "      <td>1.000000</td>\n",
       "      <td>0.323127</td>\n",
       "      <td>0.016043</td>\n",
       "      <td>0.006526</td>\n",
       "      <td>0.002206</td>\n",
       "      <td>0.011834</td>\n",
       "      <td>0.010480</td>\n",
       "      <td>...</td>\n",
       "      <td>0.008025</td>\n",
       "      <td>0.012028</td>\n",
       "      <td>0.010357</td>\n",
       "      <td>0.011743</td>\n",
       "      <td>0.006242</td>\n",
       "      <td>0.015081</td>\n",
       "      <td>0.010400</td>\n",
       "      <td>0.014131</td>\n",
       "      <td>0.013231</td>\n",
       "      <td>0.010454</td>\n",
       "    </tr>\n",
       "    <tr>\n",
       "      <th>ENSG00000154723</th>\n",
       "      <td>0.011602</td>\n",
       "      <td>0.015074</td>\n",
       "      <td>0.181989</td>\n",
       "      <td>0.323127</td>\n",
       "      <td>1.000000</td>\n",
       "      <td>0.022413</td>\n",
       "      <td>0.006861</td>\n",
       "      <td>0.005666</td>\n",
       "      <td>0.005191</td>\n",
       "      <td>0.011175</td>\n",
       "      <td>...</td>\n",
       "      <td>0.011883</td>\n",
       "      <td>0.007867</td>\n",
       "      <td>0.010144</td>\n",
       "      <td>0.012146</td>\n",
       "      <td>0.011167</td>\n",
       "      <td>0.019937</td>\n",
       "      <td>0.005697</td>\n",
       "      <td>0.009530</td>\n",
       "      <td>0.012482</td>\n",
       "      <td>0.010064</td>\n",
       "    </tr>\n",
       "  </tbody>\n",
       "</table>\n",
       "<p>5 rows × 62 columns</p>\n",
       "</div>"
      ],
      "text/plain": [
       "                 ENSG00000155307  ENSG00000180530  ENSG00000154719  \\\n",
       "ENSG00000155307         1.000000         0.009524         0.009005   \n",
       "ENSG00000180530         0.009524         1.000000         0.009485   \n",
       "ENSG00000154719         0.009005         0.009485         1.000000   \n",
       "ENSG00000154721         0.014193         0.011263         0.441590   \n",
       "ENSG00000154723         0.011602         0.015074         0.181989   \n",
       "\n",
       "                 ENSG00000154721  ENSG00000154723  ENSG00000142192  \\\n",
       "ENSG00000155307         0.014193         0.011602         0.007964   \n",
       "ENSG00000180530         0.011263         0.015074         0.008841   \n",
       "ENSG00000154719         0.441590         0.181989         0.012504   \n",
       "ENSG00000154721         1.000000         0.323127         0.016043   \n",
       "ENSG00000154723         0.323127         1.000000         0.022413   \n",
       "\n",
       "                 ENSG00000154734  ENSG00000156261  ENSG00000171189  \\\n",
       "ENSG00000155307         0.009001         0.003462         0.011411   \n",
       "ENSG00000180530         0.007742         0.008483         0.005554   \n",
       "ENSG00000154719         0.008913         0.007761         0.005954   \n",
       "ENSG00000154721         0.006526         0.002206         0.011834   \n",
       "ENSG00000154723         0.006861         0.005666         0.005191   \n",
       "\n",
       "                 ENSG00000156299  ...  ENSG00000160255  ENSG00000197381  \\\n",
       "ENSG00000155307         0.009418  ...         0.010377         0.013520   \n",
       "ENSG00000180530         0.016694  ...         0.015923         0.011296   \n",
       "ENSG00000154719         0.010846  ...         0.007334         0.012565   \n",
       "ENSG00000154721         0.010480  ...         0.008025         0.012028   \n",
       "ENSG00000154723         0.011175  ...         0.011883         0.007867   \n",
       "\n",
       "                 ENSG00000182871  ENSG00000173638  ENSG00000142156  \\\n",
       "ENSG00000155307         0.015126         0.013189         0.010285   \n",
       "ENSG00000180530         0.021102         0.010372         0.010501   \n",
       "ENSG00000154719         0.011012         0.014071         0.007409   \n",
       "ENSG00000154721         0.010357         0.011743         0.006242   \n",
       "ENSG00000154723         0.010144         0.012146         0.011167   \n",
       "\n",
       "                 ENSG00000142173  ENSG00000160282  ENSG00000160285  \\\n",
       "ENSG00000155307         0.017090         0.011354         0.010642   \n",
       "ENSG00000180530         0.017568         0.012794         0.011388   \n",
       "ENSG00000154719         0.015709         0.015386         0.012582   \n",
       "ENSG00000154721         0.015081         0.010400         0.014131   \n",
       "ENSG00000154723         0.019937         0.005697         0.009530   \n",
       "\n",
       "                 ENSG00000160299  ENSG00000160307  \n",
       "ENSG00000155307         0.015226         0.012667  \n",
       "ENSG00000180530         0.019424         0.015643  \n",
       "ENSG00000154719         0.016921         0.010365  \n",
       "ENSG00000154721         0.013231         0.010454  \n",
       "ENSG00000154723         0.012482         0.010064  \n",
       "\n",
       "[5 rows x 62 columns]"
      ]
     },
     "execution_count": 31,
     "metadata": {},
     "output_type": "execute_result"
    }
   ],
   "source": [
    "gene_corrs_df.head()"
   ]
  },
  {
   "cell_type": "markdown",
   "id": "dad6603f-01c6-41fb-a6f6-241051207dd8",
   "metadata": {
    "papermill": {
     "duration": 0.123373,
     "end_time": "2022-08-02T20:37:00.516659",
     "exception": false,
     "start_time": "2022-08-02T20:37:00.393286",
     "status": "completed"
    },
    "tags": []
   },
   "source": [
    "## Standard checks and stats"
   ]
  },
  {
   "cell_type": "code",
   "execution_count": 32,
   "id": "286686af-1b7b-4440-8453-6bdcbd8de19c",
   "metadata": {
    "execution": {
     "iopub.execute_input": "2022-08-02T20:37:00.778634Z",
     "iopub.status.busy": "2022-08-02T20:37:00.778344Z",
     "iopub.status.idle": "2022-08-02T20:37:00.798086Z",
     "shell.execute_reply": "2022-08-02T20:37:00.797587Z"
    },
    "papermill": {
     "duration": 0.152363,
     "end_time": "2022-08-02T20:37:00.799696",
     "exception": false,
     "start_time": "2022-08-02T20:37:00.647333",
     "status": "completed"
    },
    "tags": []
   },
   "outputs": [],
   "source": [
    "assert not gene_corrs_df.isna().any().any()"
   ]
  },
  {
   "cell_type": "code",
   "execution_count": 33,
   "id": "00583efc-7068-4270-ad1e-4a418e91db96",
   "metadata": {
    "execution": {
     "iopub.execute_input": "2022-08-02T20:37:01.072562Z",
     "iopub.status.busy": "2022-08-02T20:37:01.072275Z",
     "iopub.status.idle": "2022-08-02T20:37:01.093963Z",
     "shell.execute_reply": "2022-08-02T20:37:01.093453Z"
    },
    "papermill": {
     "duration": 0.149402,
     "end_time": "2022-08-02T20:37:01.095441",
     "exception": false,
     "start_time": "2022-08-02T20:37:00.946039",
     "status": "completed"
    },
    "tags": []
   },
   "outputs": [
    {
     "data": {
      "text/plain": [
       "0.0007864252268651447"
      ]
     },
     "metadata": {},
     "output_type": "display_data"
    }
   ],
   "source": [
    "_min_val = gene_corrs_df.min().min()\n",
    "display(_min_val)\n",
    "assert _min_val >= 0.0"
   ]
  },
  {
   "cell_type": "code",
   "execution_count": 34,
   "id": "d04fb2cf-1050-475b-b855-f5f7cc04092b",
   "metadata": {
    "execution": {
     "iopub.execute_input": "2022-08-02T20:37:01.345671Z",
     "iopub.status.busy": "2022-08-02T20:37:01.345443Z",
     "iopub.status.idle": "2022-08-02T20:37:01.366093Z",
     "shell.execute_reply": "2022-08-02T20:37:01.365590Z"
    },
    "papermill": {
     "duration": 0.147987,
     "end_time": "2022-08-02T20:37:01.367573",
     "exception": false,
     "start_time": "2022-08-02T20:37:01.219586",
     "status": "completed"
    },
    "tags": []
   },
   "outputs": [
    {
     "data": {
      "text/plain": [
       "1.0"
      ]
     },
     "metadata": {},
     "output_type": "display_data"
    }
   ],
   "source": [
    "_max_val = gene_corrs_df.max().max()  # this captures the diagonal\n",
    "display(_max_val)\n",
    "assert _max_val <= 1.0"
   ]
  },
  {
   "cell_type": "code",
   "execution_count": 35,
   "id": "96d02c44-1fba-47be-8a93-8f2608420b9c",
   "metadata": {
    "execution": {
     "iopub.execute_input": "2022-08-02T20:37:01.626318Z",
     "iopub.status.busy": "2022-08-02T20:37:01.626055Z",
     "iopub.status.idle": "2022-08-02T20:37:01.645197Z",
     "shell.execute_reply": "2022-08-02T20:37:01.644696Z"
    },
    "papermill": {
     "duration": 0.15383,
     "end_time": "2022-08-02T20:37:01.646798",
     "exception": false,
     "start_time": "2022-08-02T20:37:01.492968",
     "status": "completed"
    },
    "tags": []
   },
   "outputs": [],
   "source": [
    "# check upper triangular values\n",
    "assert len(gene_corrs) == int(genes_chr.shape[0] * (genes_chr.shape[0] - 1) / 2)"
   ]
  },
  {
   "cell_type": "code",
   "execution_count": 36,
   "id": "fe283586-c348-40e0-8841-f6d97bfb021c",
   "metadata": {
    "execution": {
     "iopub.execute_input": "2022-08-02T20:37:01.904248Z",
     "iopub.status.busy": "2022-08-02T20:37:01.903986Z",
     "iopub.status.idle": "2022-08-02T20:37:01.927605Z",
     "shell.execute_reply": "2022-08-02T20:37:01.927098Z"
    },
    "papermill": {
     "duration": 0.157332,
     "end_time": "2022-08-02T20:37:01.929081",
     "exception": false,
     "start_time": "2022-08-02T20:37:01.771749",
     "status": "completed"
    },
    "tags": []
   },
   "outputs": [
    {
     "data": {
      "text/plain": [
       "count    1891.000000\n",
       "mean        0.016824\n",
       "std         0.039719\n",
       "min         0.000786\n",
       "25%         0.007966\n",
       "50%         0.010936\n",
       "75%         0.014352\n",
       "max         0.557728\n",
       "dtype: float64"
      ]
     },
     "execution_count": 36,
     "metadata": {},
     "output_type": "execute_result"
    }
   ],
   "source": [
    "gene_corrs_flat.describe()"
   ]
  },
  {
   "cell_type": "code",
   "execution_count": 37,
   "id": "b3815678-0f93-4b35-897b-a9d047a2aa78",
   "metadata": {
    "execution": {
     "iopub.execute_input": "2022-08-02T20:37:02.180276Z",
     "iopub.status.busy": "2022-08-02T20:37:02.180059Z",
     "iopub.status.idle": "2022-08-02T20:37:02.201774Z",
     "shell.execute_reply": "2022-08-02T20:37:02.201269Z"
    },
    "papermill": {
     "duration": 0.149264,
     "end_time": "2022-08-02T20:37:02.203246",
     "exception": false,
     "start_time": "2022-08-02T20:37:02.053982",
     "status": "completed"
    },
    "tags": []
   },
   "outputs": [
    {
     "data": {
      "text/plain": [
       "0.00    0.000786\n",
       "0.05    0.004591\n",
       "0.10    0.005698\n",
       "0.15    0.006591\n",
       "0.20    0.007314\n",
       "0.25    0.007966\n",
       "0.30    0.008598\n",
       "0.35    0.009170\n",
       "0.40    0.009749\n",
       "0.45    0.010328\n",
       "0.50    0.010936\n",
       "0.55    0.011498\n",
       "0.60    0.012075\n",
       "0.65    0.012795\n",
       "0.70    0.013514\n",
       "0.75    0.014352\n",
       "0.80    0.015188\n",
       "0.85    0.016504\n",
       "0.90    0.018524\n",
       "0.95    0.023681\n",
       "dtype: float64"
      ]
     },
     "metadata": {},
     "output_type": "display_data"
    }
   ],
   "source": [
    "gene_corrs_quantiles = gene_corrs_flat.quantile(np.arange(0, 1, 0.05))\n",
    "display(gene_corrs_quantiles)"
   ]
  },
  {
   "cell_type": "markdown",
   "id": "87134509-b145-4a10-8bc9-b7e914c2b0fa",
   "metadata": {
    "papermill": {
     "duration": 0.125235,
     "end_time": "2022-08-02T20:37:02.477334",
     "exception": false,
     "start_time": "2022-08-02T20:37:02.352099",
     "status": "completed"
    },
    "tags": []
   },
   "source": [
    "## Positive definiteness"
   ]
  },
  {
   "cell_type": "code",
   "execution_count": 38,
   "id": "07d9a9a1-a4f7-48aa-b916-6d42a8cc6186",
   "metadata": {
    "execution": {
     "iopub.execute_input": "2022-08-02T20:37:02.740927Z",
     "iopub.status.busy": "2022-08-02T20:37:02.740660Z",
     "iopub.status.idle": "2022-08-02T20:37:02.764413Z",
     "shell.execute_reply": "2022-08-02T20:37:02.763903Z"
    },
    "papermill": {
     "duration": 0.159902,
     "end_time": "2022-08-02T20:37:02.765932",
     "exception": false,
     "start_time": "2022-08-02T20:37:02.606030",
     "status": "completed"
    },
    "tags": []
   },
   "outputs": [
    {
     "data": {
      "text/plain": [
       "0"
      ]
     },
     "metadata": {},
     "output_type": "display_data"
    },
    {
     "data": {
      "text/plain": [
       "array([], dtype=float64)"
      ]
     },
     "metadata": {},
     "output_type": "display_data"
    }
   ],
   "source": [
    "# print negative eigenvalues\n",
    "eigs = np.linalg.eigvals(gene_corrs_df.to_numpy())\n",
    "display(len(eigs[eigs < 0]))\n",
    "display(eigs[eigs < 0])"
   ]
  },
  {
   "cell_type": "code",
   "execution_count": 39,
   "id": "6e218436-c3c5-4028-8c94-a4fa6260efce",
   "metadata": {
    "execution": {
     "iopub.execute_input": "2022-08-02T20:37:03.024222Z",
     "iopub.status.busy": "2022-08-02T20:37:03.023957Z",
     "iopub.status.idle": "2022-08-02T20:37:03.045432Z",
     "shell.execute_reply": "2022-08-02T20:37:03.044920Z"
    },
    "papermill": {
     "duration": 0.153223,
     "end_time": "2022-08-02T20:37:03.046934",
     "exception": false,
     "start_time": "2022-08-02T20:37:02.893711",
     "status": "completed"
    },
    "tags": []
   },
   "outputs": [
    {
     "name": "stdout",
     "output_type": "stream",
     "text": [
      "Works!\n"
     ]
    }
   ],
   "source": [
    "try:\n",
    "    chol_mat = np.linalg.cholesky(gene_corrs_df.to_numpy())\n",
    "    cov_inv = np.linalg.inv(chol_mat)\n",
    "    print(\"Works!\")\n",
    "except:\n",
    "    print(\"Cholesky decomposition failed\")"
   ]
  },
  {
   "cell_type": "markdown",
   "id": "8e60a080-edb2-4e9c-b2ef-22961693200c",
   "metadata": {
    "papermill": {
     "duration": 0.124493,
     "end_time": "2022-08-02T20:37:03.296172",
     "exception": false,
     "start_time": "2022-08-02T20:37:03.171679",
     "status": "completed"
    },
    "tags": []
   },
   "source": [
    "## Plot: distribution"
   ]
  },
  {
   "cell_type": "code",
   "execution_count": 40,
   "id": "8301126b-a7d4-4744-9c7d-f0f86eb6f54c",
   "metadata": {
    "execution": {
     "iopub.execute_input": "2022-08-02T20:37:03.566348Z",
     "iopub.status.busy": "2022-08-02T20:37:03.566082Z",
     "iopub.status.idle": "2022-08-02T20:37:05.248067Z",
     "shell.execute_reply": "2022-08-02T20:37:05.247530Z"
    },
    "papermill": {
     "duration": 1.80878,
     "end_time": "2022-08-02T20:37:05.249739",
     "exception": false,
     "start_time": "2022-08-02T20:37:03.440959",
     "status": "completed"
    },
    "tags": []
   },
   "outputs": [
    {
     "data": {
      "image/png": "[encoded data removed]",
      "text/plain": [
       "<Figure size 504x504 with 1 Axes>"
      ]
     },
     "metadata": {
      "needs_background": "light"
     },
     "output_type": "display_data"
    }
   ],
   "source": [
    "with sns.plotting_context(\"paper\", font_scale=1.5):\n",
    "    g = sns.displot(gene_corrs_flat, kde=True, height=7)\n",
    "    g.ax.set_title(\n",
    "        f\"Distribution of gene correlation values in chromosome {CHROMOSOME}\"\n",
    "    )"
   ]
  },
  {
   "cell_type": "markdown",
   "id": "cbd52bca-d878-4a2f-b684-5c83aa3038d4",
   "metadata": {
    "papermill": {
     "duration": 0.125815,
     "end_time": "2022-08-02T20:37:05.503157",
     "exception": false,
     "start_time": "2022-08-02T20:37:05.377342",
     "status": "completed"
    },
    "tags": []
   },
   "source": [
    "## Plot: heatmap"
   ]
  },
  {
   "cell_type": "code",
   "execution_count": 41,
   "id": "d03fe63a-c7b2-4fb9-a53c-db362ce843c9",
   "metadata": {
    "execution": {
     "iopub.execute_input": "2022-08-02T20:37:05.757124Z",
     "iopub.status.busy": "2022-08-02T20:37:05.756848Z",
     "iopub.status.idle": "2022-08-02T20:37:05.784313Z",
     "shell.execute_reply": "2022-08-02T20:37:05.783748Z"
    },
    "papermill": {
     "duration": 0.156197,
     "end_time": "2022-08-02T20:37:05.785963",
     "exception": false,
     "start_time": "2022-08-02T20:37:05.629766",
     "status": "completed"
    },
    "tags": []
   },
   "outputs": [
    {
     "data": {
      "text/plain": [
       "'0.0 / 0.05'"
      ]
     },
     "metadata": {},
     "output_type": "display_data"
    }
   ],
   "source": [
    "vmin_val = min(0.00, gene_corrs_quantiles[0.10])\n",
    "vmax_val = max(0.05, gene_corrs_quantiles[0.90])\n",
    "display(f\"{vmin_val} / {vmax_val}\")"
   ]
  },
  {
   "cell_type": "code",
   "execution_count": 42,
   "id": "dc41b70b-5bcc-4d9e-9f33-a22c4a94dab5",
   "metadata": {
    "execution": {
     "iopub.execute_input": "2022-08-02T20:37:06.060953Z",
     "iopub.status.busy": "2022-08-02T20:37:06.060686Z",
     "iopub.status.idle": "2022-08-02T20:37:06.207996Z",
     "shell.execute_reply": "2022-08-02T20:37:06.207436Z"
    },
    "papermill": {
     "duration": 0.295186,
     "end_time": "2022-08-02T20:37:06.209566",
     "exception": false,
     "start_time": "2022-08-02T20:37:05.914380",
     "status": "completed"
    },
    "tags": []
   },
   "outputs": [
    {
     "data": {
      "text/plain": [
       "Text(0.5, 1.0, 'Gene correlations in chromosome 21')"
      ]
     },
     "execution_count": 42,
     "metadata": {},
     "output_type": "execute_result"
    },
    {
     "data": {
      "image/png": "[encoded data removed]",
      "text/plain": [
       "<Figure size 720x720 with 2 Axes>"
      ]
     },
     "metadata": {
      "needs_background": "light"
     },
     "output_type": "display_data"
    }
   ],
   "source": [
    "f, ax = plt.subplots(figsize=(10, 10))\n",
    "sns.heatmap(\n",
    "    gene_corrs_df,\n",
    "    xticklabels=False,\n",
    "    yticklabels=False,\n",
    "    square=True,\n",
    "    vmin=vmin_val,\n",
    "    vmax=vmax_val,\n",
    "    cmap=\"rocket_r\",\n",
    "    ax=ax,\n",
    ")\n",
    "ax.set_title(f\"Gene correlations in chromosome {CHROMOSOME}\")"
   ]
  },
  {
   "cell_type": "code",
   "execution_count": null,
   "id": "b25e3ead",
   "metadata": {
    "papermill": {
     "duration": 0.125178,
     "end_time": "2022-08-02T20:37:06.461644",
     "exception": false,
     "start_time": "2022-08-02T20:37:06.336466",
     "status": "completed"
    },
    "tags": []
   },
   "outputs": [],
   "source": []
  }
 ],
 "metadata": {
  "jupytext": {
   "cell_metadata_filter": "all,-execution,-papermill,-trusted",
   "formats": "ipynb,py//py:percent"
  },
  "kernelspec": {
   "display_name": "Python 3 (ipykernel)",
   "language": "python",
   "name": "python3"
  },
  "language_info": {
   "codemirror_mode": {
    "name": "ipython",
    "version": 3
   },
   "file_extension": ".py",
   "mimetype": "text/x-python",
   "name": "python",
   "nbconvert_exporter": "python",
   "pygments_lexer": "ipython3",
   "version": "3.8.13"
  },
  "papermill": {
   "default_parameters": {},
   "duration": 237.775021,
   "end_time": "2022-08-02T20:37:09.326174",
   "environment_variables": {},
   "exception": null,
   "input_path": "nbs/15_gsa_gls/10-gene_expr_correlations.ipynb",
   "output_path": "nbs/15_gsa_gls/gene_corrs/cohorts/1000g_eur/1000g/mashr/10-gene_expr_correlations-chr21.run.ipynb",
   "parameters": {
    "CHROMOSOME": 21,
    "COHORT_NAME": "1000G_EUR",
    "EQTL_MODEL": "MASHR",
    "REFERENCE_PANEL": "1000G"
   },
   "start_time": "2022-08-02T20:33:11.551153",
   "version": "2.2.2"
  }
 },
 "nbformat": 4,
 "nbformat_minor": 5
}
