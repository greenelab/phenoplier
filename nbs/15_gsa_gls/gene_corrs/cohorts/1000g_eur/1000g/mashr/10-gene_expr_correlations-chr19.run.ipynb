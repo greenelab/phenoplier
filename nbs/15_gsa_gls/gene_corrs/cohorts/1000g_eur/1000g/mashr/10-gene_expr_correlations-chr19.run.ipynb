{
 "cells": [
  {
   "cell_type": "markdown",
   "id": "7a6632fb",
   "metadata": {
    "papermill": {
     "duration": 0.006362,
     "end_time": "2022-07-22T04:49:03.395628",
     "exception": false,
     "start_time": "2022-07-22T04:49:03.389266",
     "status": "completed"
    },
    "tags": []
   },
   "source": [
    "# Description"
   ]
  },
  {
   "cell_type": "markdown",
   "id": "7097c346",
   "metadata": {
    "papermill": {
     "duration": 0.005854,
     "end_time": "2022-07-22T04:49:03.407291",
     "exception": false,
     "start_time": "2022-07-22T04:49:03.401437",
     "status": "completed"
    },
    "tags": []
   },
   "source": [
    "(Please, take a look at the README.md file in this directory for instructions on how to run this notebook)\n",
    "\n",
    "This notebook computes predicted expression correlations between all genes in the MultiPLIER models.\n",
    "\n",
    "It also has a parameter set for papermill to run on a single chromosome to run in parallel (see under `Settings` below).\n",
    "\n",
    "This notebook is not directly run. See README.md."
   ]
  },
  {
   "cell_type": "markdown",
   "id": "c61d8427",
   "metadata": {
    "papermill": {
     "duration": 0.005615,
     "end_time": "2022-07-22T04:49:03.418689",
     "exception": false,
     "start_time": "2022-07-22T04:49:03.413074",
     "status": "completed"
    },
    "tags": []
   },
   "source": [
    "# Modules"
   ]
  },
  {
   "cell_type": "code",
   "execution_count": 1,
   "id": "bbc0234f",
   "metadata": {
    "execution": {
     "iopub.execute_input": "2022-07-22T04:49:03.432270Z",
     "iopub.status.busy": "2022-07-22T04:49:03.431563Z",
     "iopub.status.idle": "2022-07-22T04:49:03.446419Z",
     "shell.execute_reply": "2022-07-22T04:49:03.446020Z"
    },
    "papermill": {
     "duration": 0.023317,
     "end_time": "2022-07-22T04:49:03.447864",
     "exception": false,
     "start_time": "2022-07-22T04:49:03.424547",
     "status": "completed"
    },
    "tags": []
   },
   "outputs": [],
   "source": [
    "%load_ext autoreload\n",
    "%autoreload 2"
   ]
  },
  {
   "cell_type": "code",
   "execution_count": 2,
   "id": "1d5f5a59",
   "metadata": {
    "execution": {
     "iopub.execute_input": "2022-07-22T04:49:03.492039Z",
     "iopub.status.busy": "2022-07-22T04:49:03.491452Z",
     "iopub.status.idle": "2022-07-22T04:49:04.384614Z",
     "shell.execute_reply": "2022-07-22T04:49:04.384168Z"
    },
    "papermill": {
     "duration": 0.902453,
     "end_time": "2022-07-22T04:49:04.386142",
     "exception": false,
     "start_time": "2022-07-22T04:49:03.483689",
     "status": "completed"
    },
    "tags": []
   },
   "outputs": [],
   "source": [
    "from random import sample, seed\n",
    "import warnings\n",
    "from pathlib import Path\n",
    "import pickle\n",
    "import traceback\n",
    "\n",
    "import numpy as np\n",
    "from scipy.spatial.distance import squareform\n",
    "import pandas as pd\n",
    "from tqdm import tqdm\n",
    "import matplotlib.pyplot as plt\n",
    "import seaborn as sns\n",
    "\n",
    "import conf\n",
    "from entity import Gene"
   ]
  },
  {
   "cell_type": "markdown",
   "id": "1eac24b5",
   "metadata": {
    "papermill": {
     "duration": 0.00606,
     "end_time": "2022-07-22T04:49:04.398555",
     "exception": false,
     "start_time": "2022-07-22T04:49:04.392495",
     "status": "completed"
    },
    "tags": []
   },
   "source": [
    "# Settings"
   ]
  },
  {
   "cell_type": "code",
   "execution_count": 3,
   "id": "ca4560ba",
   "metadata": {
    "execution": {
     "iopub.execute_input": "2022-07-22T04:49:04.412256Z",
     "iopub.status.busy": "2022-07-22T04:49:04.412092Z",
     "iopub.status.idle": "2022-07-22T04:49:04.427095Z",
     "shell.execute_reply": "2022-07-22T04:49:04.426703Z"
    },
    "papermill": {
     "duration": 0.022955,
     "end_time": "2022-07-22T04:49:04.428379",
     "exception": false,
     "start_time": "2022-07-22T04:49:04.405424",
     "status": "completed"
    },
    "tags": [
     "parameters"
    ]
   },
   "outputs": [],
   "source": [
    "# a cohort name (it could be something like UK_BIOBANK, etc)\n",
    "COHORT_NAME = None\n",
    "\n",
    "# reference panel such as 1000G or GTEX_V8\n",
    "REFERENCE_PANEL = None\n",
    "\n",
    "# predictions models such as MASHR or ELASTIC_NET\n",
    "EQTL_MODEL = None\n",
    "\n",
    "# this is the default value used in S-MultiXcan to select the\n",
    "# top principal components of the expression correlation matrix\n",
    "SMULTIXCAN_CONDITION_NUMBER = 30\n",
    "\n",
    "# specifies a single chromosome value\n",
    "CHROMOSOME = None\n",
    "\n",
    "# if True, then it will continue if a gene pair correlation fails,\n",
    "# printing the warning/error for debugging. If False, any warning/error\n",
    "# will be thrown\n",
    "# FIXME: make it False when all is working\n",
    "DEBUG_MODE = True"
   ]
  },
  {
   "cell_type": "code",
   "execution_count": 4,
   "id": "10562de1",
   "metadata": {
    "execution": {
     "iopub.execute_input": "2022-07-22T04:49:04.440940Z",
     "iopub.status.busy": "2022-07-22T04:49:04.440624Z",
     "iopub.status.idle": "2022-07-22T04:49:04.455074Z",
     "shell.execute_reply": "2022-07-22T04:49:04.454667Z"
    },
    "papermill": {
     "duration": 0.022313,
     "end_time": "2022-07-22T04:49:04.456445",
     "exception": false,
     "start_time": "2022-07-22T04:49:04.434132",
     "status": "completed"
    },
    "tags": [
     "injected-parameters"
    ]
   },
   "outputs": [],
   "source": [
    "# Parameters\n",
    "COHORT_NAME = \"1000G_EUR\"\n",
    "REFERENCE_PANEL = \"1000G\"\n",
    "EQTL_MODEL = \"MASHR\"\n",
    "CHROMOSOME = 19\n"
   ]
  },
  {
   "cell_type": "code",
   "execution_count": 5,
   "id": "3190631f-27fc-480f-b18e-571d580425a5",
   "metadata": {
    "execution": {
     "iopub.execute_input": "2022-07-22T04:49:04.469023Z",
     "iopub.status.busy": "2022-07-22T04:49:04.468721Z",
     "iopub.status.idle": "2022-07-22T04:49:04.485385Z",
     "shell.execute_reply": "2022-07-22T04:49:04.484935Z"
    },
    "papermill": {
     "duration": 0.024415,
     "end_time": "2022-07-22T04:49:04.486832",
     "exception": false,
     "start_time": "2022-07-22T04:49:04.462417",
     "status": "completed"
    },
    "tags": []
   },
   "outputs": [
    {
     "data": {
      "text/plain": [
       "'Cohort name: 1000g_eur'"
      ]
     },
     "metadata": {},
     "output_type": "display_data"
    }
   ],
   "source": [
    "assert COHORT_NAME is not None or len(COHORT_NAME) == 0, \"A cohort name must be given\"\n",
    "\n",
    "COHORT_NAME = COHORT_NAME.lower()\n",
    "display(f\"Cohort name: {COHORT_NAME}\")"
   ]
  },
  {
   "cell_type": "code",
   "execution_count": 6,
   "id": "f53ba19b-0f93-4fa2-a047-63b375939d1a",
   "metadata": {
    "execution": {
     "iopub.execute_input": "2022-07-22T04:49:04.500124Z",
     "iopub.status.busy": "2022-07-22T04:49:04.499586Z",
     "iopub.status.idle": "2022-07-22T04:49:04.514018Z",
     "shell.execute_reply": "2022-07-22T04:49:04.513619Z"
    },
    "papermill": {
     "duration": 0.021985,
     "end_time": "2022-07-22T04:49:04.515185",
     "exception": false,
     "start_time": "2022-07-22T04:49:04.493200",
     "status": "completed"
    },
    "tags": []
   },
   "outputs": [
    {
     "data": {
      "text/plain": [
       "'Reference panel: 1000G'"
      ]
     },
     "metadata": {},
     "output_type": "display_data"
    }
   ],
   "source": [
    "assert (\n",
    "    REFERENCE_PANEL is not None or len(REFERENCE_PANEL) == 0\n",
    "), \"A reference panel must be given\"\n",
    "\n",
    "display(f\"Reference panel: {REFERENCE_PANEL}\")"
   ]
  },
  {
   "cell_type": "code",
   "execution_count": 7,
   "id": "e024d130-c139-429a-9c6e-ccf149e297b0",
   "metadata": {
    "execution": {
     "iopub.execute_input": "2022-07-22T04:49:04.537714Z",
     "iopub.status.busy": "2022-07-22T04:49:04.537286Z",
     "iopub.status.idle": "2022-07-22T04:49:04.563969Z",
     "shell.execute_reply": "2022-07-22T04:49:04.563596Z"
    },
    "papermill": {
     "duration": 0.040373,
     "end_time": "2022-07-22T04:49:04.565215",
     "exception": false,
     "start_time": "2022-07-22T04:49:04.524842",
     "status": "completed"
    },
    "tags": []
   },
   "outputs": [
    {
     "data": {
      "text/plain": [
       "'eQTL model: MASHR) / mashr_'"
      ]
     },
     "metadata": {},
     "output_type": "display_data"
    }
   ],
   "source": [
    "assert (\n",
    "    EQTL_MODEL is not None or len(EQTL_MODEL) == 0\n",
    "), \"A prediction/eQTL model must be given\"\n",
    "\n",
    "EQTL_MODEL_FILES_PREFIX = conf.PHENOMEXCAN[\"PREDICTION_MODELS\"][f\"{EQTL_MODEL}_PREFIX\"]\n",
    "display(f\"eQTL model: {EQTL_MODEL}) / {EQTL_MODEL_FILES_PREFIX}\")"
   ]
  },
  {
   "cell_type": "code",
   "execution_count": 8,
   "id": "552a7f63-a18c-4d3e-bb6a-94f99b431291",
   "metadata": {
    "execution": {
     "iopub.execute_input": "2022-07-22T04:49:04.587436Z",
     "iopub.status.busy": "2022-07-22T04:49:04.587280Z",
     "iopub.status.idle": "2022-07-22T04:49:04.602834Z",
     "shell.execute_reply": "2022-07-22T04:49:04.602294Z"
    },
    "papermill": {
     "duration": 0.029474,
     "end_time": "2022-07-22T04:49:04.604295",
     "exception": false,
     "start_time": "2022-07-22T04:49:04.574821",
     "status": "completed"
    },
    "tags": []
   },
   "outputs": [
    {
     "data": {
      "text/plain": [
       "'S-MultiXcan condition number: 30'"
      ]
     },
     "metadata": {},
     "output_type": "display_data"
    }
   ],
   "source": [
    "assert (\n",
    "    SMULTIXCAN_CONDITION_NUMBER is not None or SMULTIXCAN_CONDITION_NUMBER > 0\n",
    "), \"The S-MultiXcan condition number (positive integer) must be given\"\n",
    "\n",
    "display(f\"S-MultiXcan condition number: {SMULTIXCAN_CONDITION_NUMBER}\")"
   ]
  },
  {
   "cell_type": "code",
   "execution_count": 9,
   "id": "f34a336f-548e-4afe-8955-90eaea4f42c6",
   "metadata": {
    "execution": {
     "iopub.execute_input": "2022-07-22T04:49:04.617908Z",
     "iopub.status.busy": "2022-07-22T04:49:04.617436Z",
     "iopub.status.idle": "2022-07-22T04:49:04.633426Z",
     "shell.execute_reply": "2022-07-22T04:49:04.632561Z"
    },
    "papermill": {
     "duration": 0.02491,
     "end_time": "2022-07-22T04:49:04.635319",
     "exception": false,
     "start_time": "2022-07-22T04:49:04.610409",
     "status": "completed"
    },
    "tags": []
   },
   "outputs": [
    {
     "data": {
      "text/plain": [
       "'Working on chromosome 19'"
      ]
     },
     "metadata": {},
     "output_type": "display_data"
    }
   ],
   "source": [
    "assert CHROMOSOME is not None and (\n",
    "    1 <= CHROMOSOME <= 22\n",
    "), \"You have to select one chromosome (format: number between 1 and 22)\"\n",
    "\n",
    "CHROMOSOME = str(CHROMOSOME)\n",
    "display(f\"Working on chromosome {CHROMOSOME}\")"
   ]
  },
  {
   "cell_type": "code",
   "execution_count": 10,
   "id": "ab8e96e8-06b5-4363-9dcd-dc4d78cc27f7",
   "metadata": {
    "execution": {
     "iopub.execute_input": "2022-07-22T04:49:04.648970Z",
     "iopub.status.busy": "2022-07-22T04:49:04.648811Z",
     "iopub.status.idle": "2022-07-22T04:49:04.665841Z",
     "shell.execute_reply": "2022-07-22T04:49:04.665380Z"
    },
    "papermill": {
     "duration": 0.025573,
     "end_time": "2022-07-22T04:49:04.667385",
     "exception": false,
     "start_time": "2022-07-22T04:49:04.641812",
     "status": "completed"
    },
    "tags": []
   },
   "outputs": [
    {
     "data": {
      "text/plain": [
       "'Compute correlation within distance True'"
      ]
     },
     "metadata": {},
     "output_type": "display_data"
    }
   ],
   "source": [
    "# TODO: see if this is necessary; if so, make it a parameter with default value True\n",
    "# This parameter, if True, computes the correlation between closeby genes only\n",
    "\n",
    "COMPUTE_CORRELATIONS_WITHIN_DISTANCE = True\n",
    "display(f\"Compute correlation within distance {COMPUTE_CORRELATIONS_WITHIN_DISTANCE}\")"
   ]
  },
  {
   "cell_type": "code",
   "execution_count": 11,
   "id": "396392dc-0340-4540-9b02-e182b833f909",
   "metadata": {
    "execution": {
     "iopub.execute_input": "2022-07-22T04:49:04.682101Z",
     "iopub.status.busy": "2022-07-22T04:49:04.681940Z",
     "iopub.status.idle": "2022-07-22T04:49:04.699400Z",
     "shell.execute_reply": "2022-07-22T04:49:04.698994Z"
    },
    "papermill": {
     "duration": 0.029796,
     "end_time": "2022-07-22T04:49:04.704159",
     "exception": false,
     "start_time": "2022-07-22T04:49:04.674363",
     "status": "completed"
    },
    "tags": []
   },
   "outputs": [
    {
     "data": {
      "text/plain": [
       "'Using output dir base: /opt/data/results/gls/gene_corrs/cohorts/1000g_eur/1000g/mashr'"
      ]
     },
     "metadata": {},
     "output_type": "display_data"
    }
   ],
   "source": [
    "OUTPUT_DIR_BASE = (\n",
    "    conf.RESULTS[\"GLS\"]\n",
    "    / \"gene_corrs\"\n",
    "    / \"cohorts\"\n",
    "    / COHORT_NAME\n",
    "    / REFERENCE_PANEL.lower()\n",
    "    / EQTL_MODEL.lower()\n",
    ")\n",
    "OUTPUT_DIR_BASE.mkdir(parents=True, exist_ok=True)\n",
    "\n",
    "display(f\"Using output dir base: {OUTPUT_DIR_BASE}\")"
   ]
  },
  {
   "cell_type": "code",
   "execution_count": 12,
   "id": "974b4bb1-aa98-4e30-b221-7cd034ad3833",
   "metadata": {
    "execution": {
     "iopub.execute_input": "2022-07-22T04:49:04.717748Z",
     "iopub.status.busy": "2022-07-22T04:49:04.717585Z",
     "iopub.status.idle": "2022-07-22T04:49:04.732247Z",
     "shell.execute_reply": "2022-07-22T04:49:04.731767Z"
    },
    "papermill": {
     "duration": 0.023035,
     "end_time": "2022-07-22T04:49:04.733602",
     "exception": false,
     "start_time": "2022-07-22T04:49:04.710567",
     "status": "completed"
    },
    "tags": []
   },
   "outputs": [
    {
     "data": {
      "text/plain": [
       "PosixPath('/opt/data/results/gls/gene_corrs/cohorts/1000g_eur')"
      ]
     },
     "metadata": {},
     "output_type": "display_data"
    }
   ],
   "source": [
    "INPUT_DIR = conf.RESULTS[\"GLS\"] / \"gene_corrs\" / \"cohorts\" / COHORT_NAME\n",
    "assert INPUT_DIR.exists()\n",
    "\n",
    "display(INPUT_DIR)"
   ]
  },
  {
   "cell_type": "markdown",
   "id": "d2ba085e",
   "metadata": {
    "papermill": {
     "duration": 0.006219,
     "end_time": "2022-07-22T04:49:04.746468",
     "exception": false,
     "start_time": "2022-07-22T04:49:04.740249",
     "status": "completed"
    },
    "tags": []
   },
   "source": [
    "# Load data"
   ]
  },
  {
   "cell_type": "markdown",
   "id": "7dcb8db7",
   "metadata": {
    "papermill": {
     "duration": 0.00645,
     "end_time": "2022-07-22T04:49:04.759802",
     "exception": false,
     "start_time": "2022-07-22T04:49:04.753352",
     "status": "completed"
    },
    "tags": []
   },
   "source": [
    "## GWAS variants"
   ]
  },
  {
   "cell_type": "code",
   "execution_count": 13,
   "id": "29434c4e-8cd3-4b9b-82e4-b5a251d9dd19",
   "metadata": {
    "execution": {
     "iopub.execute_input": "2022-07-22T04:49:04.773982Z",
     "iopub.status.busy": "2022-07-22T04:49:04.773623Z",
     "iopub.status.idle": "2022-07-22T04:49:07.351794Z",
     "shell.execute_reply": "2022-07-22T04:49:07.351303Z"
    },
    "papermill": {
     "duration": 2.586919,
     "end_time": "2022-07-22T04:49:07.353276",
     "exception": false,
     "start_time": "2022-07-22T04:49:04.766357",
     "status": "completed"
    },
    "tags": []
   },
   "outputs": [],
   "source": [
    "with open(INPUT_DIR / \"gwas_variant_ids.pkl\", \"rb\") as handle:\n",
    "    gwas_variants_ids_set = pickle.load(handle)"
   ]
  },
  {
   "cell_type": "code",
   "execution_count": 14,
   "id": "b9d9dec2-4a76-4bf9-bde2-e24c95acb8a0",
   "metadata": {
    "execution": {
     "iopub.execute_input": "2022-07-22T04:49:07.370435Z",
     "iopub.status.busy": "2022-07-22T04:49:07.369999Z",
     "iopub.status.idle": "2022-07-22T04:49:07.390671Z",
     "shell.execute_reply": "2022-07-22T04:49:07.390155Z"
    },
    "papermill": {
     "duration": 0.030588,
     "end_time": "2022-07-22T04:49:07.392122",
     "exception": false,
     "start_time": "2022-07-22T04:49:07.361534",
     "status": "completed"
    },
    "tags": []
   },
   "outputs": [
    {
     "data": {
      "text/plain": [
       "8339505"
      ]
     },
     "execution_count": 14,
     "metadata": {},
     "output_type": "execute_result"
    }
   ],
   "source": [
    "len(gwas_variants_ids_set)"
   ]
  },
  {
   "cell_type": "code",
   "execution_count": 15,
   "id": "4235b06a-6034-4ee4-a0a3-2ae35d122418",
   "metadata": {
    "execution": {
     "iopub.execute_input": "2022-07-22T04:49:07.409028Z",
     "iopub.status.busy": "2022-07-22T04:49:07.408694Z",
     "iopub.status.idle": "2022-07-22T04:49:07.912995Z",
     "shell.execute_reply": "2022-07-22T04:49:07.912409Z"
    },
    "papermill": {
     "duration": 0.514943,
     "end_time": "2022-07-22T04:49:07.914448",
     "exception": false,
     "start_time": "2022-07-22T04:49:07.399505",
     "status": "completed"
    },
    "tags": []
   },
   "outputs": [
    {
     "data": {
      "text/plain": [
       "['chr1_188497373_G_A_b38',\n",
       " 'chr18_65365588_G_A_b38',\n",
       " 'chr5_72043214_AG_A_b38',\n",
       " 'chr4_109742708_A_G_b38',\n",
       " 'chr4_31385101_T_C_b38']"
      ]
     },
     "execution_count": 15,
     "metadata": {},
     "output_type": "execute_result"
    }
   ],
   "source": [
    "list(gwas_variants_ids_set)[:5]"
   ]
  },
  {
   "cell_type": "markdown",
   "id": "07866999-2305-41f9-a144-e69c9122c212",
   "metadata": {
    "papermill": {
     "duration": 0.007736,
     "end_time": "2022-07-22T04:49:07.930186",
     "exception": false,
     "start_time": "2022-07-22T04:49:07.922450",
     "status": "completed"
    },
    "tags": []
   },
   "source": [
    "## S-PrediXcan tissue models"
   ]
  },
  {
   "cell_type": "code",
   "execution_count": 16,
   "id": "780611d9-77c8-405f-90a4-f271f7b09397",
   "metadata": {
    "execution": {
     "iopub.execute_input": "2022-07-22T04:49:07.946479Z",
     "iopub.status.busy": "2022-07-22T04:49:07.946265Z",
     "iopub.status.idle": "2022-07-22T04:49:08.742302Z",
     "shell.execute_reply": "2022-07-22T04:49:08.741874Z"
    },
    "papermill": {
     "duration": 0.805548,
     "end_time": "2022-07-22T04:49:08.743660",
     "exception": false,
     "start_time": "2022-07-22T04:49:07.938112",
     "status": "completed"
    },
    "tags": []
   },
   "outputs": [],
   "source": [
    "spredixcan_genes_models = pd.read_pickle(INPUT_DIR / \"gene_tissues.pkl\").set_index(\n",
    "    \"gene_id\"\n",
    ")"
   ]
  },
  {
   "cell_type": "code",
   "execution_count": 17,
   "id": "726dd1f6-9557-4225-91fa-b3b879ea96e1",
   "metadata": {
    "execution": {
     "iopub.execute_input": "2022-07-22T04:49:08.757979Z",
     "iopub.status.busy": "2022-07-22T04:49:08.757774Z",
     "iopub.status.idle": "2022-07-22T04:49:08.772870Z",
     "shell.execute_reply": "2022-07-22T04:49:08.772459Z"
    },
    "papermill": {
     "duration": 0.02966,
     "end_time": "2022-07-22T04:49:08.780185",
     "exception": false,
     "start_time": "2022-07-22T04:49:08.750525",
     "status": "completed"
    },
    "tags": []
   },
   "outputs": [
    {
     "data": {
      "text/plain": [
       "(22314, 2)"
      ]
     },
     "execution_count": 17,
     "metadata": {},
     "output_type": "execute_result"
    }
   ],
   "source": [
    "spredixcan_genes_models.shape"
   ]
  },
  {
   "cell_type": "code",
   "execution_count": 18,
   "id": "944a1b48-222c-4eb0-b252-b9de2cbca215",
   "metadata": {
    "execution": {
     "iopub.execute_input": "2022-07-22T04:49:08.794858Z",
     "iopub.status.busy": "2022-07-22T04:49:08.794651Z",
     "iopub.status.idle": "2022-07-22T04:49:08.815255Z",
     "shell.execute_reply": "2022-07-22T04:49:08.814854Z"
    },
    "papermill": {
     "duration": 0.029441,
     "end_time": "2022-07-22T04:49:08.816539",
     "exception": false,
     "start_time": "2022-07-22T04:49:08.787098",
     "status": "completed"
    },
    "tags": []
   },
   "outputs": [
    {
     "data": {
      "text/html": [
       "<div>\n",
       "<style scoped>\n",
       "    .dataframe tbody tr th:only-of-type {\n",
       "        vertical-align: middle;\n",
       "    }\n",
       "\n",
       "    .dataframe tbody tr th {\n",
       "        vertical-align: top;\n",
       "    }\n",
       "\n",
       "    .dataframe thead th {\n",
       "        text-align: right;\n",
       "    }\n",
       "</style>\n",
       "<table border=\"1\" class=\"dataframe\">\n",
       "  <thead>\n",
       "    <tr style=\"text-align: right;\">\n",
       "      <th></th>\n",
       "      <th>gene_name</th>\n",
       "      <th>tissue</th>\n",
       "    </tr>\n",
       "    <tr>\n",
       "      <th>gene_id</th>\n",
       "      <th></th>\n",
       "      <th></th>\n",
       "    </tr>\n",
       "  </thead>\n",
       "  <tbody>\n",
       "    <tr>\n",
       "      <th>ENSG00000000419</th>\n",
       "      <td>DPM1</td>\n",
       "      <td>(Brain_Hypothalamus, Brain_Substantia_nigra)</td>\n",
       "    </tr>\n",
       "    <tr>\n",
       "      <th>ENSG00000000457</th>\n",
       "      <td>SCYL3</td>\n",
       "      <td>(Nerve_Tibial, Adrenal_Gland, Brain_Putamen_ba...</td>\n",
       "    </tr>\n",
       "    <tr>\n",
       "      <th>ENSG00000000460</th>\n",
       "      <td>C1orf112</td>\n",
       "      <td>(Nerve_Tibial, Adrenal_Gland, Brain_Putamen_ba...</td>\n",
       "    </tr>\n",
       "    <tr>\n",
       "      <th>ENSG00000000938</th>\n",
       "      <td>FGR</td>\n",
       "      <td>(Nerve_Tibial, Testis, Breast_Mammary_Tissue, ...</td>\n",
       "    </tr>\n",
       "    <tr>\n",
       "      <th>ENSG00000000971</th>\n",
       "      <td>CFH</td>\n",
       "      <td>(Nerve_Tibial, Brain_Putamen_basal_ganglia, Te...</td>\n",
       "    </tr>\n",
       "  </tbody>\n",
       "</table>\n",
       "</div>"
      ],
      "text/plain": [
       "                gene_name                                             tissue\n",
       "gene_id                                                                     \n",
       "ENSG00000000419      DPM1       (Brain_Hypothalamus, Brain_Substantia_nigra)\n",
       "ENSG00000000457     SCYL3  (Nerve_Tibial, Adrenal_Gland, Brain_Putamen_ba...\n",
       "ENSG00000000460  C1orf112  (Nerve_Tibial, Adrenal_Gland, Brain_Putamen_ba...\n",
       "ENSG00000000938       FGR  (Nerve_Tibial, Testis, Breast_Mammary_Tissue, ...\n",
       "ENSG00000000971       CFH  (Nerve_Tibial, Brain_Putamen_basal_ganglia, Te..."
      ]
     },
     "execution_count": 18,
     "metadata": {},
     "output_type": "execute_result"
    }
   ],
   "source": [
    "spredixcan_genes_models.head()"
   ]
  },
  {
   "cell_type": "code",
   "execution_count": 19,
   "id": "d1c11bb1-be0b-4f40-b360-633d6827109f",
   "metadata": {
    "execution": {
     "iopub.execute_input": "2022-07-22T04:49:08.833789Z",
     "iopub.status.busy": "2022-07-22T04:49:08.833317Z",
     "iopub.status.idle": "2022-07-22T04:49:08.848923Z",
     "shell.execute_reply": "2022-07-22T04:49:08.848387Z"
    },
    "papermill": {
     "duration": 0.025485,
     "end_time": "2022-07-22T04:49:08.850402",
     "exception": false,
     "start_time": "2022-07-22T04:49:08.824917",
     "status": "completed"
    },
    "tags": []
   },
   "outputs": [],
   "source": [
    "assert spredixcan_genes_models.index.is_unique"
   ]
  },
  {
   "cell_type": "markdown",
   "id": "6caf9d10-eda8-4ad2-8811-a983aa77a25a",
   "metadata": {
    "papermill": {
     "duration": 0.006567,
     "end_time": "2022-07-22T04:49:08.863814",
     "exception": false,
     "start_time": "2022-07-22T04:49:08.857247",
     "status": "completed"
    },
    "tags": []
   },
   "source": [
    "## Get common genes"
   ]
  },
  {
   "cell_type": "code",
   "execution_count": 20,
   "id": "f8d1e317-1cc8-4bdf-bbe9-c3b0a5478359",
   "metadata": {
    "execution": {
     "iopub.execute_input": "2022-07-22T04:49:08.878665Z",
     "iopub.status.busy": "2022-07-22T04:49:08.878225Z",
     "iopub.status.idle": "2022-07-22T04:49:08.893522Z",
     "shell.execute_reply": "2022-07-22T04:49:08.893060Z"
    },
    "papermill": {
     "duration": 0.023977,
     "end_time": "2022-07-22T04:49:08.894777",
     "exception": false,
     "start_time": "2022-07-22T04:49:08.870800",
     "status": "completed"
    },
    "tags": []
   },
   "outputs": [],
   "source": [
    "with open(INPUT_DIR / \"common_genes.pkl\", \"rb\") as handle:\n",
    "    common_genes = pickle.load(handle)"
   ]
  },
  {
   "cell_type": "code",
   "execution_count": 21,
   "id": "ce9506aa-2f38-4e46-b9c2-84d750fac0da",
   "metadata": {
    "execution": {
     "iopub.execute_input": "2022-07-22T04:49:08.910948Z",
     "iopub.status.busy": "2022-07-22T04:49:08.910659Z",
     "iopub.status.idle": "2022-07-22T04:49:08.930809Z",
     "shell.execute_reply": "2022-07-22T04:49:08.930366Z"
    },
    "papermill": {
     "duration": 0.030005,
     "end_time": "2022-07-22T04:49:08.932173",
     "exception": false,
     "start_time": "2022-07-22T04:49:08.902168",
     "status": "completed"
    },
    "tags": []
   },
   "outputs": [
    {
     "data": {
      "text/plain": [
       "6444"
      ]
     },
     "execution_count": 21,
     "metadata": {},
     "output_type": "execute_result"
    }
   ],
   "source": [
    "len(common_genes)"
   ]
  },
  {
   "cell_type": "code",
   "execution_count": 22,
   "id": "f525a698-506a-48e0-9aee-1aca62def5dd",
   "metadata": {
    "execution": {
     "iopub.execute_input": "2022-07-22T04:49:08.947786Z",
     "iopub.status.busy": "2022-07-22T04:49:08.947622Z",
     "iopub.status.idle": "2022-07-22T04:49:08.964723Z",
     "shell.execute_reply": "2022-07-22T04:49:08.963392Z"
    },
    "papermill": {
     "duration": 0.025861,
     "end_time": "2022-07-22T04:49:08.965955",
     "exception": false,
     "start_time": "2022-07-22T04:49:08.940094",
     "status": "completed"
    },
    "tags": []
   },
   "outputs": [
    {
     "data": {
      "text/plain": [
       "['A2M', 'AAAS', 'AANAT', 'AARS', 'AARS2']"
      ]
     },
     "execution_count": 22,
     "metadata": {},
     "output_type": "execute_result"
    }
   ],
   "source": [
    "sorted(list(common_genes))[:5]"
   ]
  },
  {
   "cell_type": "markdown",
   "id": "a5b5092c-a13e-47c4-a92a-480fcc08f3ae",
   "metadata": {
    "papermill": {
     "duration": 0.006758,
     "end_time": "2022-07-22T04:49:08.979748",
     "exception": false,
     "start_time": "2022-07-22T04:49:08.972990",
     "status": "completed"
    },
    "tags": []
   },
   "source": [
    "## Gene info"
   ]
  },
  {
   "cell_type": "code",
   "execution_count": 23,
   "id": "7d6bb224-88e9-4358-ac10-43a41d92cdad",
   "metadata": {
    "execution": {
     "iopub.execute_input": "2022-07-22T04:49:08.995565Z",
     "iopub.status.busy": "2022-07-22T04:49:08.995370Z",
     "iopub.status.idle": "2022-07-22T04:49:09.012790Z",
     "shell.execute_reply": "2022-07-22T04:49:09.012348Z"
    },
    "papermill": {
     "duration": 0.027548,
     "end_time": "2022-07-22T04:49:09.014193",
     "exception": false,
     "start_time": "2022-07-22T04:49:08.986645",
     "status": "completed"
    },
    "tags": []
   },
   "outputs": [],
   "source": [
    "genes_info = pd.read_pickle(INPUT_DIR / \"genes_info.pkl\")"
   ]
  },
  {
   "cell_type": "code",
   "execution_count": 24,
   "id": "9e32abfa-546d-483e-8c18-d526e9e05903",
   "metadata": {
    "execution": {
     "iopub.execute_input": "2022-07-22T04:49:09.030387Z",
     "iopub.status.busy": "2022-07-22T04:49:09.030097Z",
     "iopub.status.idle": "2022-07-22T04:49:09.044873Z",
     "shell.execute_reply": "2022-07-22T04:49:09.044423Z"
    },
    "papermill": {
     "duration": 0.0243,
     "end_time": "2022-07-22T04:49:09.046096",
     "exception": false,
     "start_time": "2022-07-22T04:49:09.021796",
     "status": "completed"
    },
    "tags": []
   },
   "outputs": [
    {
     "data": {
      "text/plain": [
       "(6444, 7)"
      ]
     },
     "execution_count": 24,
     "metadata": {},
     "output_type": "execute_result"
    }
   ],
   "source": [
    "genes_info.shape"
   ]
  },
  {
   "cell_type": "code",
   "execution_count": 25,
   "id": "d16c3e92-85ec-468a-9a56-e25a9774a1cb",
   "metadata": {
    "execution": {
     "iopub.execute_input": "2022-07-22T04:49:09.062378Z",
     "iopub.status.busy": "2022-07-22T04:49:09.062088Z",
     "iopub.status.idle": "2022-07-22T04:49:09.082636Z",
     "shell.execute_reply": "2022-07-22T04:49:09.082137Z"
    },
    "papermill": {
     "duration": 0.030003,
     "end_time": "2022-07-22T04:49:09.083984",
     "exception": false,
     "start_time": "2022-07-22T04:49:09.053981",
     "status": "completed"
    },
    "tags": []
   },
   "outputs": [
    {
     "data": {
      "text/html": [
       "<div>\n",
       "<style scoped>\n",
       "    .dataframe tbody tr th:only-of-type {\n",
       "        vertical-align: middle;\n",
       "    }\n",
       "\n",
       "    .dataframe tbody tr th {\n",
       "        vertical-align: top;\n",
       "    }\n",
       "\n",
       "    .dataframe thead th {\n",
       "        text-align: right;\n",
       "    }\n",
       "</style>\n",
       "<table border=\"1\" class=\"dataframe\">\n",
       "  <thead>\n",
       "    <tr style=\"text-align: right;\">\n",
       "      <th></th>\n",
       "      <th>name</th>\n",
       "      <th>id</th>\n",
       "      <th>chr</th>\n",
       "      <th>band</th>\n",
       "      <th>start_position</th>\n",
       "      <th>end_position</th>\n",
       "      <th>gene_length</th>\n",
       "    </tr>\n",
       "  </thead>\n",
       "  <tbody>\n",
       "    <tr>\n",
       "      <th>0</th>\n",
       "      <td>MFN2</td>\n",
       "      <td>ENSG00000116688</td>\n",
       "      <td>1</td>\n",
       "      <td>1p36.22</td>\n",
       "      <td>11980181.0</td>\n",
       "      <td>12013514.0</td>\n",
       "      <td>33333.0</td>\n",
       "    </tr>\n",
       "    <tr>\n",
       "      <th>1</th>\n",
       "      <td>PPA2</td>\n",
       "      <td>ENSG00000138777</td>\n",
       "      <td>4</td>\n",
       "      <td>4q24</td>\n",
       "      <td>105369077.0</td>\n",
       "      <td>105474067.0</td>\n",
       "      <td>104990.0</td>\n",
       "    </tr>\n",
       "    <tr>\n",
       "      <th>2</th>\n",
       "      <td>ADRA2A</td>\n",
       "      <td>ENSG00000150594</td>\n",
       "      <td>10</td>\n",
       "      <td>10q25.2</td>\n",
       "      <td>111077163.0</td>\n",
       "      <td>111080907.0</td>\n",
       "      <td>3744.0</td>\n",
       "    </tr>\n",
       "    <tr>\n",
       "      <th>3</th>\n",
       "      <td>RYR2</td>\n",
       "      <td>ENSG00000198626</td>\n",
       "      <td>1</td>\n",
       "      <td>1q43</td>\n",
       "      <td>237042184.0</td>\n",
       "      <td>237833988.0</td>\n",
       "      <td>791804.0</td>\n",
       "    </tr>\n",
       "    <tr>\n",
       "      <th>4</th>\n",
       "      <td>VAV2</td>\n",
       "      <td>ENSG00000160293</td>\n",
       "      <td>9</td>\n",
       "      <td>9q34.2</td>\n",
       "      <td>133761894.0</td>\n",
       "      <td>133992604.0</td>\n",
       "      <td>230710.0</td>\n",
       "    </tr>\n",
       "  </tbody>\n",
       "</table>\n",
       "</div>"
      ],
      "text/plain": [
       "     name               id chr     band  start_position  end_position  \\\n",
       "0    MFN2  ENSG00000116688   1  1p36.22      11980181.0    12013514.0   \n",
       "1    PPA2  ENSG00000138777   4     4q24     105369077.0   105474067.0   \n",
       "2  ADRA2A  ENSG00000150594  10  10q25.2     111077163.0   111080907.0   \n",
       "3    RYR2  ENSG00000198626   1     1q43     237042184.0   237833988.0   \n",
       "4    VAV2  ENSG00000160293   9   9q34.2     133761894.0   133992604.0   \n",
       "\n",
       "   gene_length  \n",
       "0      33333.0  \n",
       "1     104990.0  \n",
       "2       3744.0  \n",
       "3     791804.0  \n",
       "4     230710.0  "
      ]
     },
     "execution_count": 25,
     "metadata": {},
     "output_type": "execute_result"
    }
   ],
   "source": [
    "genes_info.head()"
   ]
  },
  {
   "cell_type": "markdown",
   "id": "d3843e06",
   "metadata": {
    "papermill": {
     "duration": 0.007719,
     "end_time": "2022-07-22T04:49:09.099659",
     "exception": false,
     "start_time": "2022-07-22T04:49:09.091940",
     "status": "completed"
    },
    "tags": []
   },
   "source": [
    "# Compute correlations"
   ]
  },
  {
   "cell_type": "code",
   "execution_count": 26,
   "id": "cb859c15-d1f3-4006-a74c-2b83c0db9611",
   "metadata": {
    "execution": {
     "iopub.execute_input": "2022-07-22T04:49:09.116351Z",
     "iopub.status.busy": "2022-07-22T04:49:09.116149Z",
     "iopub.status.idle": "2022-07-22T04:49:09.131608Z",
     "shell.execute_reply": "2022-07-22T04:49:09.131147Z"
    },
    "papermill": {
     "duration": 0.025099,
     "end_time": "2022-07-22T04:49:09.132847",
     "exception": false,
     "start_time": "2022-07-22T04:49:09.107748",
     "status": "completed"
    },
    "tags": []
   },
   "outputs": [
    {
     "data": {
      "text/plain": [
       "PosixPath('/opt/data/results/gls/gene_corrs/cohorts/1000g_eur/1000g/mashr/by_chr/gene_corrs-chr19.pkl')"
      ]
     },
     "metadata": {},
     "output_type": "display_data"
    }
   ],
   "source": [
    "output_dir = OUTPUT_DIR_BASE / \"by_chr\"\n",
    "output_dir.mkdir(exist_ok=True, parents=True)\n",
    "output_file = output_dir / f\"gene_corrs-chr{CHROMOSOME}.pkl\"\n",
    "display(output_file)"
   ]
  },
  {
   "cell_type": "code",
   "execution_count": 27,
   "id": "aa674fe4-6794-4eed-98fa-32b39d1d4ace",
   "metadata": {
    "execution": {
     "iopub.execute_input": "2022-07-22T04:49:09.149178Z",
     "iopub.status.busy": "2022-07-22T04:49:09.148655Z",
     "iopub.status.idle": "2022-07-22T04:49:09.163501Z",
     "shell.execute_reply": "2022-07-22T04:49:09.163109Z"
    },
    "papermill": {
     "duration": 0.024359,
     "end_time": "2022-07-22T04:49:09.164760",
     "exception": false,
     "start_time": "2022-07-22T04:49:09.140401",
     "status": "completed"
    },
    "tags": []
   },
   "outputs": [],
   "source": [
    "warnings.filterwarnings(\"error\")"
   ]
  },
  {
   "cell_type": "code",
   "execution_count": 28,
   "id": "44d5450b-3baf-43f1-9e2e-4b06f1a785f8",
   "metadata": {
    "execution": {
     "iopub.execute_input": "2022-07-22T04:49:09.181813Z",
     "iopub.status.busy": "2022-07-22T04:49:09.181616Z",
     "iopub.status.idle": "2022-07-22T04:49:09.197149Z",
     "shell.execute_reply": "2022-07-22T04:49:09.196749Z"
    },
    "papermill": {
     "duration": 0.025538,
     "end_time": "2022-07-22T04:49:09.198346",
     "exception": false,
     "start_time": "2022-07-22T04:49:09.172808",
     "status": "completed"
    },
    "tags": []
   },
   "outputs": [],
   "source": [
    "# standard checks\n",
    "all_chrs = genes_info[\"chr\"].dropna().unique()\n",
    "assert all_chrs.shape[0] == 22\n",
    "\n",
    "# select chromosome given by the user\n",
    "assert CHROMOSOME in all_chrs"
   ]
  },
  {
   "cell_type": "code",
   "execution_count": 29,
   "id": "2d7c043c-92a7-4d35-991b-fa69ac1e0268",
   "metadata": {
    "execution": {
     "iopub.execute_input": "2022-07-22T04:49:09.215233Z",
     "iopub.status.busy": "2022-07-22T04:49:09.214780Z",
     "iopub.status.idle": "2022-07-22T04:49:09.231107Z",
     "shell.execute_reply": "2022-07-22T04:49:09.230620Z"
    },
    "papermill": {
     "duration": 0.026187,
     "end_time": "2022-07-22T04:49:09.232428",
     "exception": false,
     "start_time": "2022-07-22T04:49:09.206241",
     "status": "completed"
    },
    "tags": []
   },
   "outputs": [
    {
     "name": "stdout",
     "output_type": "stream",
     "text": [
      "Number of genes in chromosome: 539\n"
     ]
    }
   ],
   "source": [
    "# run only on the chromosome specified\n",
    "all_chrs = [CHROMOSOME]\n",
    "genes_chr = genes_info[genes_info[\"chr\"] == CHROMOSOME]\n",
    "\n",
    "# For testing purposes\n",
    "# genes_chr = genes_chr.sample(n=20)\n",
    "\n",
    "print(f\"Number of genes in chromosome: {genes_chr.shape[0]}\", flush=True)"
   ]
  },
  {
   "cell_type": "code",
   "execution_count": 30,
   "id": "916015d8-2979-46d3-a9b9-1cf5a0932c6a",
   "metadata": {
    "execution": {
     "iopub.execute_input": "2022-07-22T04:49:09.249657Z",
     "iopub.status.busy": "2022-07-22T04:49:09.249454Z",
     "iopub.status.idle": "2022-07-22T04:49:09.264678Z",
     "shell.execute_reply": "2022-07-22T04:49:09.264209Z"
    },
    "papermill": {
     "duration": 0.025513,
     "end_time": "2022-07-22T04:49:09.266108",
     "exception": false,
     "start_time": "2022-07-22T04:49:09.240595",
     "status": "completed"
    },
    "tags": []
   },
   "outputs": [],
   "source": [
    "# sort genes by starting position to make visualizations better later\n",
    "genes_chr = genes_chr.sort_values(\"start_position\")"
   ]
  },
  {
   "cell_type": "code",
   "execution_count": 31,
   "id": "a38aa74a-8ad3-47f6-8ef9-56be0e011774",
   "metadata": {
    "execution": {
     "iopub.execute_input": "2022-07-22T04:49:09.283900Z",
     "iopub.status.busy": "2022-07-22T04:49:09.283495Z",
     "iopub.status.idle": "2022-07-22T04:49:09.298545Z",
     "shell.execute_reply": "2022-07-22T04:49:09.298105Z"
    },
    "papermill": {
     "duration": 0.025441,
     "end_time": "2022-07-22T04:49:09.299858",
     "exception": false,
     "start_time": "2022-07-22T04:49:09.274417",
     "status": "completed"
    },
    "tags": []
   },
   "outputs": [],
   "source": [
    "gene_chr_objs = [Gene(ensembl_id=gene_id) for gene_id in genes_chr[\"id\"]]"
   ]
  },
  {
   "cell_type": "code",
   "execution_count": 32,
   "id": "570f974f-13c3-42b6-ad3a-ce99ca885c1a",
   "metadata": {
    "execution": {
     "iopub.execute_input": "2022-07-22T04:49:09.317198Z",
     "iopub.status.busy": "2022-07-22T04:49:09.317000Z",
     "iopub.status.idle": "2022-07-22T04:49:09.332703Z",
     "shell.execute_reply": "2022-07-22T04:49:09.332256Z"
    },
    "papermill": {
     "duration": 0.025728,
     "end_time": "2022-07-22T04:49:09.333904",
     "exception": false,
     "start_time": "2022-07-22T04:49:09.308176",
     "status": "completed"
    },
    "tags": []
   },
   "outputs": [
    {
     "name": "stdout",
     "output_type": "stream",
     "text": [
      "Number of gene combinations: 144991\n"
     ]
    }
   ],
   "source": [
    "n = len(gene_chr_objs)\n",
    "n_comb = int(n * (n - 1) / 2.0)\n",
    "print(f\"Number of gene combinations: {n_comb}\", flush=True)"
   ]
  },
  {
   "cell_type": "code",
   "execution_count": 33,
   "id": "cdbb90a1",
   "metadata": {
    "execution": {
     "iopub.execute_input": "2022-07-22T04:49:09.350555Z",
     "iopub.status.busy": "2022-07-22T04:49:09.350239Z",
     "iopub.status.idle": "2022-07-22T05:28:27.582237Z",
     "shell.execute_reply": "2022-07-22T05:28:27.581767Z"
    },
    "papermill": {
     "duration": 2358.241716,
     "end_time": "2022-07-22T05:28:27.583410",
     "exception": false,
     "start_time": "2022-07-22T04:49:09.341694",
     "status": "completed"
    },
    "tags": []
   },
   "outputs": [
    {
     "name": "stderr",
     "output_type": "stream",
     "text": [
      "ENSG00000130724 / ENSG00000130725: 100%|████████████████████| 144991/144991 [39:18<00:00, 61.48it/s]\n"
     ]
    },
    {
     "data": {
      "text/plain": [
       "PosixPath('/opt/data/results/gls/gene_corrs/cohorts/1000g_eur/1000g/mashr/by_chr/gene_corrs-chr19.pkl')"
      ]
     },
     "metadata": {},
     "output_type": "display_data"
    }
   ],
   "source": [
    "gene_corrs = []\n",
    "\n",
    "i = 0\n",
    "with tqdm(ncols=100, total=n_comb) as pbar:\n",
    "    for gene1_idx in range(0, len(gene_chr_objs) - 1):\n",
    "        gene1_obj = gene_chr_objs[gene1_idx]\n",
    "        gene1_tissues = spredixcan_genes_models.loc[gene1_obj.ensembl_id, \"tissue\"]\n",
    "\n",
    "        for gene2_idx in range(gene1_idx + 1, len(gene_chr_objs)):\n",
    "            gene2_obj = gene_chr_objs[gene2_idx]\n",
    "            gene2_tissues = spredixcan_genes_models.loc[gene2_obj.ensembl_id, \"tissue\"]\n",
    "\n",
    "            pbar.set_description(f\"{gene1_obj.ensembl_id} / {gene2_obj.ensembl_id}\")\n",
    "\n",
    "            try:\n",
    "                r = gene1_obj.get_ssm_correlation(\n",
    "                    other_gene=gene2_obj,\n",
    "                    tissues=gene1_tissues,\n",
    "                    other_tissues=gene2_tissues,\n",
    "                    snps_subset=gwas_variants_ids_set,\n",
    "                    condition_number=SMULTIXCAN_CONDITION_NUMBER,\n",
    "                    reference_panel=REFERENCE_PANEL,\n",
    "                    model_type=EQTL_MODEL,\n",
    "                    use_within_distance=COMPUTE_CORRELATIONS_WITHIN_DISTANCE,\n",
    "                )\n",
    "\n",
    "                if r is None:\n",
    "                    # if r is None, it's very likely because:\n",
    "                    #  * one of the genes has no prediction models\n",
    "                    #  * all the SNPs predictors for the gene are not present in the reference\n",
    "                    #    panel\n",
    "\n",
    "                    r = 0.0\n",
    "\n",
    "                gene_corrs.append(r)\n",
    "            except Warning as e:\n",
    "                if not DEBUG_MODE:\n",
    "                    raise e\n",
    "\n",
    "                print(\n",
    "                    f\"RuntimeWarning for genes {gene1_obj.ensembl_id} and {gene2_obj.ensembl_id}\",\n",
    "                    flush=True,\n",
    "                )\n",
    "                print(traceback.format_exc(), flush=True)\n",
    "\n",
    "                gene_corrs.append(np.nan)\n",
    "            except Exception as e:\n",
    "                if not DEBUG_MODE:\n",
    "                    raise e\n",
    "\n",
    "                print(\n",
    "                    f\"Exception for genes {gene1_obj.ensembl_id} and {gene2_obj.ensembl_id}\",\n",
    "                    flush=True,\n",
    "                )\n",
    "                print(traceback.format_exc(), flush=True)\n",
    "\n",
    "                gene_corrs.append(np.nan)\n",
    "\n",
    "            pbar.update(1)\n",
    "\n",
    "# create a pandas series\n",
    "gene_corrs_flat = pd.Series(gene_corrs)\n",
    "\n",
    "# save\n",
    "# FIXME: consider saving only the condenced matrix here. See here for\n",
    "# more details: https://github.com/greenelab/phenoplier/pull/38#discussion_r634600813\n",
    "gene_corrs_data = squareform(np.array(gene_corrs, dtype=np.float64))\n",
    "np.fill_diagonal(gene_corrs_data, 1.0)\n",
    "\n",
    "gene_chr_ids = [g.ensembl_id for g in gene_chr_objs]\n",
    "gene_corrs_df = pd.DataFrame(\n",
    "    data=gene_corrs_data,\n",
    "    index=gene_chr_ids,\n",
    "    columns=gene_chr_ids,\n",
    ")\n",
    "\n",
    "output_dir.mkdir(exist_ok=True, parents=True)\n",
    "display(output_file)\n",
    "\n",
    "gene_corrs_df.to_pickle(output_file)"
   ]
  },
  {
   "cell_type": "markdown",
   "id": "faa67b51-5373-470f-aa72-2ded53fa6dfe",
   "metadata": {
    "papermill": {
     "duration": 5.067995,
     "end_time": "2022-07-22T05:28:37.903437",
     "exception": false,
     "start_time": "2022-07-22T05:28:32.835442",
     "status": "completed"
    },
    "tags": []
   },
   "source": [
    "# Testing"
   ]
  },
  {
   "cell_type": "code",
   "execution_count": 34,
   "id": "14f7d046-4b55-4896-a56b-990127bcc388",
   "metadata": {
    "execution": {
     "iopub.execute_input": "2022-07-22T05:28:48.240389Z",
     "iopub.status.busy": "2022-07-22T05:28:48.239826Z",
     "iopub.status.idle": "2022-07-22T05:28:48.265069Z",
     "shell.execute_reply": "2022-07-22T05:28:48.264347Z"
    },
    "papermill": {
     "duration": 5.054257,
     "end_time": "2022-07-22T05:28:48.266552",
     "exception": false,
     "start_time": "2022-07-22T05:28:43.212295",
     "status": "completed"
    },
    "tags": []
   },
   "outputs": [
    {
     "data": {
      "text/plain": [
       "(539, 539)"
      ]
     },
     "execution_count": 34,
     "metadata": {},
     "output_type": "execute_result"
    }
   ],
   "source": [
    "gene_corrs_df.shape"
   ]
  },
  {
   "cell_type": "code",
   "execution_count": 35,
   "id": "c7d15414-3297-4537-a7c6-7588c0baeb75",
   "metadata": {
    "execution": {
     "iopub.execute_input": "2022-07-22T05:28:58.586503Z",
     "iopub.status.busy": "2022-07-22T05:28:58.586321Z",
     "iopub.status.idle": "2022-07-22T05:28:58.625828Z",
     "shell.execute_reply": "2022-07-22T05:28:58.625252Z"
    },
    "papermill": {
     "duration": 5.215952,
     "end_time": "2022-07-22T05:28:58.627159",
     "exception": false,
     "start_time": "2022-07-22T05:28:53.411207",
     "status": "completed"
    },
    "tags": []
   },
   "outputs": [
    {
     "data": {
      "text/html": [
       "<div>\n",
       "<style scoped>\n",
       "    .dataframe tbody tr th:only-of-type {\n",
       "        vertical-align: middle;\n",
       "    }\n",
       "\n",
       "    .dataframe tbody tr th {\n",
       "        vertical-align: top;\n",
       "    }\n",
       "\n",
       "    .dataframe thead th {\n",
       "        text-align: right;\n",
       "    }\n",
       "</style>\n",
       "<table border=\"1\" class=\"dataframe\">\n",
       "  <thead>\n",
       "    <tr style=\"text-align: right;\">\n",
       "      <th></th>\n",
       "      <th>ENSG00000129946</th>\n",
       "      <th>ENSG00000099866</th>\n",
       "      <th>ENSG00000099804</th>\n",
       "      <th>ENSG00000197540</th>\n",
       "      <th>ENSG00000172270</th>\n",
       "      <th>ENSG00000099822</th>\n",
       "      <th>ENSG00000099821</th>\n",
       "      <th>ENSG00000011304</th>\n",
       "      <th>ENSG00000172232</th>\n",
       "      <th>ENSG00000196415</th>\n",
       "      <th>...</th>\n",
       "      <th>ENSG00000171606</th>\n",
       "      <th>ENSG00000198131</th>\n",
       "      <th>ENSG00000083845</th>\n",
       "      <th>ENSG00000171574</th>\n",
       "      <th>ENSG00000083812</th>\n",
       "      <th>ENSG00000083838</th>\n",
       "      <th>ENSG00000083807</th>\n",
       "      <th>ENSG00000130726</th>\n",
       "      <th>ENSG00000130724</th>\n",
       "      <th>ENSG00000130725</th>\n",
       "    </tr>\n",
       "  </thead>\n",
       "  <tbody>\n",
       "    <tr>\n",
       "      <th>ENSG00000129946</th>\n",
       "      <td>1.000000</td>\n",
       "      <td>0.265170</td>\n",
       "      <td>0.108498</td>\n",
       "      <td>0.017066</td>\n",
       "      <td>0.016528</td>\n",
       "      <td>0.018046</td>\n",
       "      <td>0.014202</td>\n",
       "      <td>0.009595</td>\n",
       "      <td>0.009129</td>\n",
       "      <td>0.010487</td>\n",
       "      <td>...</td>\n",
       "      <td>0.0</td>\n",
       "      <td>0.0</td>\n",
       "      <td>0.0</td>\n",
       "      <td>0.0</td>\n",
       "      <td>0.0</td>\n",
       "      <td>0.0</td>\n",
       "      <td>0.0</td>\n",
       "      <td>0.0</td>\n",
       "      <td>0.0</td>\n",
       "      <td>0.0</td>\n",
       "    </tr>\n",
       "    <tr>\n",
       "      <th>ENSG00000099866</th>\n",
       "      <td>0.265170</td>\n",
       "      <td>1.000000</td>\n",
       "      <td>0.035990</td>\n",
       "      <td>0.018137</td>\n",
       "      <td>0.018406</td>\n",
       "      <td>0.018084</td>\n",
       "      <td>0.009838</td>\n",
       "      <td>0.007627</td>\n",
       "      <td>0.009337</td>\n",
       "      <td>0.010875</td>\n",
       "      <td>...</td>\n",
       "      <td>0.0</td>\n",
       "      <td>0.0</td>\n",
       "      <td>0.0</td>\n",
       "      <td>0.0</td>\n",
       "      <td>0.0</td>\n",
       "      <td>0.0</td>\n",
       "      <td>0.0</td>\n",
       "      <td>0.0</td>\n",
       "      <td>0.0</td>\n",
       "      <td>0.0</td>\n",
       "    </tr>\n",
       "    <tr>\n",
       "      <th>ENSG00000099804</th>\n",
       "      <td>0.108498</td>\n",
       "      <td>0.035990</td>\n",
       "      <td>1.000000</td>\n",
       "      <td>0.269368</td>\n",
       "      <td>0.131449</td>\n",
       "      <td>0.067764</td>\n",
       "      <td>0.023100</td>\n",
       "      <td>0.014076</td>\n",
       "      <td>0.015143</td>\n",
       "      <td>0.018630</td>\n",
       "      <td>...</td>\n",
       "      <td>0.0</td>\n",
       "      <td>0.0</td>\n",
       "      <td>0.0</td>\n",
       "      <td>0.0</td>\n",
       "      <td>0.0</td>\n",
       "      <td>0.0</td>\n",
       "      <td>0.0</td>\n",
       "      <td>0.0</td>\n",
       "      <td>0.0</td>\n",
       "      <td>0.0</td>\n",
       "    </tr>\n",
       "    <tr>\n",
       "      <th>ENSG00000197540</th>\n",
       "      <td>0.017066</td>\n",
       "      <td>0.018137</td>\n",
       "      <td>0.269368</td>\n",
       "      <td>1.000000</td>\n",
       "      <td>0.136110</td>\n",
       "      <td>0.098290</td>\n",
       "      <td>0.032082</td>\n",
       "      <td>0.018743</td>\n",
       "      <td>0.017092</td>\n",
       "      <td>0.016848</td>\n",
       "      <td>...</td>\n",
       "      <td>0.0</td>\n",
       "      <td>0.0</td>\n",
       "      <td>0.0</td>\n",
       "      <td>0.0</td>\n",
       "      <td>0.0</td>\n",
       "      <td>0.0</td>\n",
       "      <td>0.0</td>\n",
       "      <td>0.0</td>\n",
       "      <td>0.0</td>\n",
       "      <td>0.0</td>\n",
       "    </tr>\n",
       "    <tr>\n",
       "      <th>ENSG00000172270</th>\n",
       "      <td>0.016528</td>\n",
       "      <td>0.018406</td>\n",
       "      <td>0.131449</td>\n",
       "      <td>0.136110</td>\n",
       "      <td>1.000000</td>\n",
       "      <td>0.318719</td>\n",
       "      <td>0.026972</td>\n",
       "      <td>0.045620</td>\n",
       "      <td>0.065437</td>\n",
       "      <td>0.052696</td>\n",
       "      <td>...</td>\n",
       "      <td>0.0</td>\n",
       "      <td>0.0</td>\n",
       "      <td>0.0</td>\n",
       "      <td>0.0</td>\n",
       "      <td>0.0</td>\n",
       "      <td>0.0</td>\n",
       "      <td>0.0</td>\n",
       "      <td>0.0</td>\n",
       "      <td>0.0</td>\n",
       "      <td>0.0</td>\n",
       "    </tr>\n",
       "  </tbody>\n",
       "</table>\n",
       "<p>5 rows × 539 columns</p>\n",
       "</div>"
      ],
      "text/plain": [
       "                 ENSG00000129946  ENSG00000099866  ENSG00000099804  \\\n",
       "ENSG00000129946         1.000000         0.265170         0.108498   \n",
       "ENSG00000099866         0.265170         1.000000         0.035990   \n",
       "ENSG00000099804         0.108498         0.035990         1.000000   \n",
       "ENSG00000197540         0.017066         0.018137         0.269368   \n",
       "ENSG00000172270         0.016528         0.018406         0.131449   \n",
       "\n",
       "                 ENSG00000197540  ENSG00000172270  ENSG00000099822  \\\n",
       "ENSG00000129946         0.017066         0.016528         0.018046   \n",
       "ENSG00000099866         0.018137         0.018406         0.018084   \n",
       "ENSG00000099804         0.269368         0.131449         0.067764   \n",
       "ENSG00000197540         1.000000         0.136110         0.098290   \n",
       "ENSG00000172270         0.136110         1.000000         0.318719   \n",
       "\n",
       "                 ENSG00000099821  ENSG00000011304  ENSG00000172232  \\\n",
       "ENSG00000129946         0.014202         0.009595         0.009129   \n",
       "ENSG00000099866         0.009838         0.007627         0.009337   \n",
       "ENSG00000099804         0.023100         0.014076         0.015143   \n",
       "ENSG00000197540         0.032082         0.018743         0.017092   \n",
       "ENSG00000172270         0.026972         0.045620         0.065437   \n",
       "\n",
       "                 ENSG00000196415  ...  ENSG00000171606  ENSG00000198131  \\\n",
       "ENSG00000129946         0.010487  ...              0.0              0.0   \n",
       "ENSG00000099866         0.010875  ...              0.0              0.0   \n",
       "ENSG00000099804         0.018630  ...              0.0              0.0   \n",
       "ENSG00000197540         0.016848  ...              0.0              0.0   \n",
       "ENSG00000172270         0.052696  ...              0.0              0.0   \n",
       "\n",
       "                 ENSG00000083845  ENSG00000171574  ENSG00000083812  \\\n",
       "ENSG00000129946              0.0              0.0              0.0   \n",
       "ENSG00000099866              0.0              0.0              0.0   \n",
       "ENSG00000099804              0.0              0.0              0.0   \n",
       "ENSG00000197540              0.0              0.0              0.0   \n",
       "ENSG00000172270              0.0              0.0              0.0   \n",
       "\n",
       "                 ENSG00000083838  ENSG00000083807  ENSG00000130726  \\\n",
       "ENSG00000129946              0.0              0.0              0.0   \n",
       "ENSG00000099866              0.0              0.0              0.0   \n",
       "ENSG00000099804              0.0              0.0              0.0   \n",
       "ENSG00000197540              0.0              0.0              0.0   \n",
       "ENSG00000172270              0.0              0.0              0.0   \n",
       "\n",
       "                 ENSG00000130724  ENSG00000130725  \n",
       "ENSG00000129946              0.0              0.0  \n",
       "ENSG00000099866              0.0              0.0  \n",
       "ENSG00000099804              0.0              0.0  \n",
       "ENSG00000197540              0.0              0.0  \n",
       "ENSG00000172270              0.0              0.0  \n",
       "\n",
       "[5 rows x 539 columns]"
      ]
     },
     "execution_count": 35,
     "metadata": {},
     "output_type": "execute_result"
    }
   ],
   "source": [
    "gene_corrs_df.head()"
   ]
  },
  {
   "cell_type": "markdown",
   "id": "dad6603f-01c6-41fb-a6f6-241051207dd8",
   "metadata": {
    "papermill": {
     "duration": 5.21001,
     "end_time": "2022-07-22T05:29:08.880690",
     "exception": false,
     "start_time": "2022-07-22T05:29:03.670680",
     "status": "completed"
    },
    "tags": []
   },
   "source": [
    "## Standard checks and stats"
   ]
  },
  {
   "cell_type": "code",
   "execution_count": 36,
   "id": "286686af-1b7b-4440-8453-6bdcbd8de19c",
   "metadata": {
    "execution": {
     "iopub.execute_input": "2022-07-22T05:29:19.278276Z",
     "iopub.status.busy": "2022-07-22T05:29:19.277714Z",
     "iopub.status.idle": "2022-07-22T05:29:19.299000Z",
     "shell.execute_reply": "2022-07-22T05:29:19.298420Z"
    },
    "papermill": {
     "duration": 5.193292,
     "end_time": "2022-07-22T05:29:19.300407",
     "exception": false,
     "start_time": "2022-07-22T05:29:14.107115",
     "status": "completed"
    },
    "tags": []
   },
   "outputs": [],
   "source": [
    "assert not gene_corrs_df.isna().any().any()"
   ]
  },
  {
   "cell_type": "code",
   "execution_count": 37,
   "id": "00583efc-7068-4270-ad1e-4a418e91db96",
   "metadata": {
    "execution": {
     "iopub.execute_input": "2022-07-22T05:29:29.516160Z",
     "iopub.status.busy": "2022-07-22T05:29:29.515568Z",
     "iopub.status.idle": "2022-07-22T05:29:29.542658Z",
     "shell.execute_reply": "2022-07-22T05:29:29.542051Z"
    },
    "papermill": {
     "duration": 5.186686,
     "end_time": "2022-07-22T05:29:29.544117",
     "exception": false,
     "start_time": "2022-07-22T05:29:24.357431",
     "status": "completed"
    },
    "tags": []
   },
   "outputs": [
    {
     "data": {
      "text/plain": [
       "0.0"
      ]
     },
     "metadata": {},
     "output_type": "display_data"
    }
   ],
   "source": [
    "_min_val = gene_corrs_df.min().min()\n",
    "display(_min_val)\n",
    "assert _min_val >= 0.0"
   ]
  },
  {
   "cell_type": "code",
   "execution_count": 38,
   "id": "d04fb2cf-1050-475b-b855-f5f7cc04092b",
   "metadata": {
    "execution": {
     "iopub.execute_input": "2022-07-22T05:29:40.000389Z",
     "iopub.status.busy": "2022-07-22T05:29:39.999827Z",
     "iopub.status.idle": "2022-07-22T05:29:40.027950Z",
     "shell.execute_reply": "2022-07-22T05:29:40.027399Z"
    },
    "papermill": {
     "duration": 5.240027,
     "end_time": "2022-07-22T05:29:40.029409",
     "exception": false,
     "start_time": "2022-07-22T05:29:34.789382",
     "status": "completed"
    },
    "tags": []
   },
   "outputs": [
    {
     "data": {
      "text/plain": [
       "1.0"
      ]
     },
     "metadata": {},
     "output_type": "display_data"
    }
   ],
   "source": [
    "_max_val = gene_corrs_df.max().max()  # this captures the diagonal\n",
    "display(_max_val)\n",
    "assert _max_val <= 1.0"
   ]
  },
  {
   "cell_type": "code",
   "execution_count": 39,
   "id": "96d02c44-1fba-47be-8a93-8f2608420b9c",
   "metadata": {
    "execution": {
     "iopub.execute_input": "2022-07-22T05:29:50.223213Z",
     "iopub.status.busy": "2022-07-22T05:29:50.222650Z",
     "iopub.status.idle": "2022-07-22T05:29:50.246801Z",
     "shell.execute_reply": "2022-07-22T05:29:50.246144Z"
    },
    "papermill": {
     "duration": 5.179633,
     "end_time": "2022-07-22T05:29:50.248266",
     "exception": false,
     "start_time": "2022-07-22T05:29:45.068633",
     "status": "completed"
    },
    "tags": []
   },
   "outputs": [],
   "source": [
    "# check upper triangular values\n",
    "assert len(gene_corrs) == int(genes_chr.shape[0] * (genes_chr.shape[0] - 1) / 2)"
   ]
  },
  {
   "cell_type": "code",
   "execution_count": 40,
   "id": "fe283586-c348-40e0-8841-f6d97bfb021c",
   "metadata": {
    "execution": {
     "iopub.execute_input": "2022-07-22T05:30:00.661585Z",
     "iopub.status.busy": "2022-07-22T05:30:00.661020Z",
     "iopub.status.idle": "2022-07-22T05:30:00.692581Z",
     "shell.execute_reply": "2022-07-22T05:30:00.691995Z"
    },
    "papermill": {
     "duration": 5.214847,
     "end_time": "2022-07-22T05:30:00.693926",
     "exception": false,
     "start_time": "2022-07-22T05:29:55.479079",
     "status": "completed"
    },
    "tags": []
   },
   "outputs": [
    {
     "data": {
      "text/plain": [
       "count    144991.000000\n",
       "mean          0.003473\n",
       "std           0.025974\n",
       "min           0.000000\n",
       "25%           0.000000\n",
       "50%           0.000000\n",
       "75%           0.000000\n",
       "max           0.972378\n",
       "dtype: float64"
      ]
     },
     "execution_count": 40,
     "metadata": {},
     "output_type": "execute_result"
    }
   ],
   "source": [
    "gene_corrs_flat.describe()"
   ]
  },
  {
   "cell_type": "code",
   "execution_count": 41,
   "id": "b3815678-0f93-4b35-897b-a9d047a2aa78",
   "metadata": {
    "execution": {
     "iopub.execute_input": "2022-07-22T05:30:10.939882Z",
     "iopub.status.busy": "2022-07-22T05:30:10.939290Z",
     "iopub.status.idle": "2022-07-22T05:30:10.970017Z",
     "shell.execute_reply": "2022-07-22T05:30:10.969362Z"
    },
    "papermill": {
     "duration": 5.209024,
     "end_time": "2022-07-22T05:30:10.971517",
     "exception": false,
     "start_time": "2022-07-22T05:30:05.762493",
     "status": "completed"
    },
    "tags": []
   },
   "outputs": [
    {
     "data": {
      "text/plain": [
       "0.00    0.000000\n",
       "0.05    0.000000\n",
       "0.10    0.000000\n",
       "0.15    0.000000\n",
       "0.20    0.000000\n",
       "0.25    0.000000\n",
       "0.30    0.000000\n",
       "0.35    0.000000\n",
       "0.40    0.000000\n",
       "0.45    0.000000\n",
       "0.50    0.000000\n",
       "0.55    0.000000\n",
       "0.60    0.000000\n",
       "0.65    0.000000\n",
       "0.70    0.000000\n",
       "0.75    0.000000\n",
       "0.80    0.000000\n",
       "0.85    0.004754\n",
       "0.90    0.007980\n",
       "0.95    0.011930\n",
       "dtype: float64"
      ]
     },
     "metadata": {},
     "output_type": "display_data"
    }
   ],
   "source": [
    "gene_corrs_quantiles = gene_corrs_flat.quantile(np.arange(0, 1, 0.05))\n",
    "display(gene_corrs_quantiles)"
   ]
  },
  {
   "cell_type": "markdown",
   "id": "87134509-b145-4a10-8bc9-b7e914c2b0fa",
   "metadata": {
    "papermill": {
     "duration": 5.097714,
     "end_time": "2022-07-22T05:30:21.292193",
     "exception": false,
     "start_time": "2022-07-22T05:30:16.194479",
     "status": "completed"
    },
    "tags": []
   },
   "source": [
    "## Positive definiteness"
   ]
  },
  {
   "cell_type": "code",
   "execution_count": 42,
   "id": "07d9a9a1-a4f7-48aa-b916-6d42a8cc6186",
   "metadata": {
    "execution": {
     "iopub.execute_input": "2022-07-22T05:30:31.583520Z",
     "iopub.status.busy": "2022-07-22T05:30:31.582961Z",
     "iopub.status.idle": "2022-07-22T05:30:31.683799Z",
     "shell.execute_reply": "2022-07-22T05:30:31.683212Z"
    },
    "papermill": {
     "duration": 5.158057,
     "end_time": "2022-07-22T05:30:31.685103",
     "exception": false,
     "start_time": "2022-07-22T05:30:26.527046",
     "status": "completed"
    },
    "tags": []
   },
   "outputs": [
    {
     "data": {
      "text/plain": [
       "0"
      ]
     },
     "metadata": {},
     "output_type": "display_data"
    },
    {
     "data": {
      "text/plain": [
       "array([], dtype=float64)"
      ]
     },
     "metadata": {},
     "output_type": "display_data"
    }
   ],
   "source": [
    "# print negative eigenvalues\n",
    "eigs = np.linalg.eigvals(gene_corrs_df.to_numpy())\n",
    "display(len(eigs[eigs < 0]))\n",
    "display(eigs[eigs < 0])"
   ]
  },
  {
   "cell_type": "code",
   "execution_count": 43,
   "id": "6e218436-c3c5-4028-8c94-a4fa6260efce",
   "metadata": {
    "execution": {
     "iopub.execute_input": "2022-07-22T05:30:41.983313Z",
     "iopub.status.busy": "2022-07-22T05:30:41.982746Z",
     "iopub.status.idle": "2022-07-22T05:30:42.018594Z",
     "shell.execute_reply": "2022-07-22T05:30:42.018009Z"
    },
    "papermill": {
     "duration": 5.190634,
     "end_time": "2022-07-22T05:30:42.019915",
     "exception": false,
     "start_time": "2022-07-22T05:30:36.829281",
     "status": "completed"
    },
    "tags": []
   },
   "outputs": [
    {
     "name": "stdout",
     "output_type": "stream",
     "text": [
      "Works!\n"
     ]
    }
   ],
   "source": [
    "try:\n",
    "    chol_mat = np.linalg.cholesky(gene_corrs_df.to_numpy())\n",
    "    cov_inv = np.linalg.inv(chol_mat)\n",
    "    print(\"Works!\")\n",
    "except:\n",
    "    print(\"Cholesky decomposition failed\")"
   ]
  },
  {
   "cell_type": "markdown",
   "id": "8e60a080-edb2-4e9c-b2ef-22961693200c",
   "metadata": {
    "papermill": {
     "duration": 5.173955,
     "end_time": "2022-07-22T05:30:52.258762",
     "exception": false,
     "start_time": "2022-07-22T05:30:47.084807",
     "status": "completed"
    },
    "tags": []
   },
   "source": [
    "## Plot: distribution"
   ]
  },
  {
   "cell_type": "code",
   "execution_count": 44,
   "id": "8301126b-a7d4-4744-9c7d-f0f86eb6f54c",
   "metadata": {
    "execution": {
     "iopub.execute_input": "2022-07-22T05:31:02.687005Z",
     "iopub.status.busy": "2022-07-22T05:31:02.686426Z",
     "iopub.status.idle": "2022-07-22T05:31:03.330219Z",
     "shell.execute_reply": "2022-07-22T05:31:03.329613Z"
    },
    "papermill": {
     "duration": 5.852716,
     "end_time": "2022-07-22T05:31:03.331447",
     "exception": false,
     "start_time": "2022-07-22T05:30:57.478731",
     "status": "completed"
    },
    "tags": []
   },
   "outputs": [
    {
     "data": {
      "image/png": "[encoded data removed]",
      "text/plain": [
       "<Figure size 504x504 with 1 Axes>"
      ]
     },
     "metadata": {
      "needs_background": "light"
     },
     "output_type": "display_data"
    }
   ],
   "source": [
    "with sns.plotting_context(\"paper\", font_scale=1.5):\n",
    "    g = sns.displot(gene_corrs_flat, kde=True, height=7)\n",
    "    g.ax.set_title(\n",
    "        f\"Distribution of gene correlation values in chromosome {CHROMOSOME}\"\n",
    "    )"
   ]
  },
  {
   "cell_type": "markdown",
   "id": "cbd52bca-d878-4a2f-b684-5c83aa3038d4",
   "metadata": {
    "papermill": {
     "duration": 5.146039,
     "end_time": "2022-07-22T05:31:13.515124",
     "exception": false,
     "start_time": "2022-07-22T05:31:08.369085",
     "status": "completed"
    },
    "tags": []
   },
   "source": [
    "## Plot: heatmap"
   ]
  },
  {
   "cell_type": "code",
   "execution_count": 45,
   "id": "d03fe63a-c7b2-4fb9-a53c-db362ce843c9",
   "metadata": {
    "execution": {
     "iopub.execute_input": "2022-07-22T05:31:23.850772Z",
     "iopub.status.busy": "2022-07-22T05:31:23.850208Z",
     "iopub.status.idle": "2022-07-22T05:31:23.871276Z",
     "shell.execute_reply": "2022-07-22T05:31:23.870724Z"
    },
    "papermill": {
     "duration": 5.193149,
     "end_time": "2022-07-22T05:31:23.872664",
     "exception": false,
     "start_time": "2022-07-22T05:31:18.679515",
     "status": "completed"
    },
    "tags": []
   },
   "outputs": [
    {
     "data": {
      "text/plain": [
       "'0.0 / 0.05'"
      ]
     },
     "metadata": {},
     "output_type": "display_data"
    }
   ],
   "source": [
    "vmin_val = min(0.00, gene_corrs_quantiles[0.10])\n",
    "vmax_val = max(0.05, gene_corrs_quantiles[0.90])\n",
    "display(f\"{vmin_val} / {vmax_val}\")"
   ]
  },
  {
   "cell_type": "code",
   "execution_count": 46,
   "id": "dc41b70b-5bcc-4d9e-9f33-a22c4a94dab5",
   "metadata": {
    "execution": {
     "iopub.execute_input": "2022-07-22T05:31:34.165758Z",
     "iopub.status.busy": "2022-07-22T05:31:34.165197Z",
     "iopub.status.idle": "2022-07-22T05:31:34.500475Z",
     "shell.execute_reply": "2022-07-22T05:31:34.499960Z"
    },
    "papermill": {
     "duration": 5.512987,
     "end_time": "2022-07-22T05:31:34.502733",
     "exception": false,
     "start_time": "2022-07-22T05:31:28.989746",
     "status": "completed"
    },
    "tags": []
   },
   "outputs": [
    {
     "data": {
      "text/plain": [
       "Text(0.5, 1.0, 'Gene correlations in chromosome 19')"
      ]
     },
     "execution_count": 46,
     "metadata": {},
     "output_type": "execute_result"
    },
    {
     "data": {
      "image/png": "[encoded data removed]",
      "text/plain": [
       "<Figure size 720x720 with 2 Axes>"
      ]
     },
     "metadata": {
      "needs_background": "light"
     },
     "output_type": "display_data"
    }
   ],
   "source": [
    "f, ax = plt.subplots(figsize=(10, 10))\n",
    "sns.heatmap(\n",
    "    gene_corrs_df,\n",
    "    xticklabels=False,\n",
    "    yticklabels=False,\n",
    "    square=True,\n",
    "    vmin=vmin_val,\n",
    "    vmax=vmax_val,\n",
    "    cmap=\"rocket_r\",\n",
    "    ax=ax,\n",
    ")\n",
    "ax.set_title(f\"Gene correlations in chromosome {CHROMOSOME}\")"
   ]
  },
  {
   "cell_type": "code",
   "execution_count": null,
   "id": "b25e3ead",
   "metadata": {
    "papermill": {
     "duration": 5.125479,
     "end_time": "2022-07-22T05:31:44.645407",
     "exception": false,
     "start_time": "2022-07-22T05:31:39.519928",
     "status": "completed"
    },
    "tags": []
   },
   "outputs": [],
   "source": []
  }
 ],
 "metadata": {
  "jupytext": {
   "cell_metadata_filter": "all,-execution,-papermill,-trusted",
   "formats": "ipynb,py//py:percent"
  },
  "kernelspec": {
   "display_name": "Python 3 (ipykernel)",
   "language": "python",
   "name": "python3"
  },
  "language_info": {
   "codemirror_mode": {
    "name": "ipython",
    "version": 3
   },
   "file_extension": ".py",
   "mimetype": "text/x-python",
   "name": "python",
   "nbconvert_exporter": "python",
   "pygments_lexer": "ipython3",
   "version": "3.8.13"
  },
  "papermill": {
   "default_parameters": {},
   "duration": 2571.035194,
   "end_time": "2022-07-22T05:31:53.207058",
   "environment_variables": {},
   "exception": null,
   "input_path": "nbs/15_gsa_gls/10-gene_expr_correlations.ipynb",
   "output_path": "nbs/15_gsa_gls/gene_corrs/cohorts/1000g_eur/1000g/mashr/10-gene_expr_correlations-chr19.run.ipynb",
   "parameters": {
    "CHROMOSOME": 19,
    "COHORT_NAME": "1000G_EUR",
    "EQTL_MODEL": "MASHR",
    "REFERENCE_PANEL": "1000G"
   },
   "start_time": "2022-07-22T04:49:02.171864",
   "version": "2.2.2"
  }
 },
 "nbformat": 4,
 "nbformat_minor": 5
}
