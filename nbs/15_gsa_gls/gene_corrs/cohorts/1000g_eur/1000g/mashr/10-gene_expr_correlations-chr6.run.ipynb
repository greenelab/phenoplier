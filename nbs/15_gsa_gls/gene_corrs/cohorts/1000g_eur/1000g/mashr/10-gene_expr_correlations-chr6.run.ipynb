{
 "cells": [
  {
   "cell_type": "markdown",
   "id": "7a6632fb",
   "metadata": {
    "papermill": {
     "duration": 0.006273,
     "end_time": "2022-07-22T03:52:06.135663",
     "exception": false,
     "start_time": "2022-07-22T03:52:06.129390",
     "status": "completed"
    },
    "tags": []
   },
   "source": [
    "# Description"
   ]
  },
  {
   "cell_type": "markdown",
   "id": "7097c346",
   "metadata": {
    "papermill": {
     "duration": 0.005573,
     "end_time": "2022-07-22T03:52:06.146896",
     "exception": false,
     "start_time": "2022-07-22T03:52:06.141323",
     "status": "completed"
    },
    "tags": []
   },
   "source": [
    "(Please, take a look at the README.md file in this directory for instructions on how to run this notebook)\n",
    "\n",
    "This notebook computes predicted expression correlations between all genes in the MultiPLIER models.\n",
    "\n",
    "It also has a parameter set for papermill to run on a single chromosome to run in parallel (see under `Settings` below).\n",
    "\n",
    "This notebook is not directly run. See README.md."
   ]
  },
  {
   "cell_type": "markdown",
   "id": "c61d8427",
   "metadata": {
    "papermill": {
     "duration": 0.006511,
     "end_time": "2022-07-22T03:52:06.159026",
     "exception": false,
     "start_time": "2022-07-22T03:52:06.152515",
     "status": "completed"
    },
    "tags": []
   },
   "source": [
    "# Modules"
   ]
  },
  {
   "cell_type": "code",
   "execution_count": 1,
   "id": "bbc0234f",
   "metadata": {
    "execution": {
     "iopub.execute_input": "2022-07-22T03:52:06.171677Z",
     "iopub.status.busy": "2022-07-22T03:52:06.171441Z",
     "iopub.status.idle": "2022-07-22T03:52:06.185308Z",
     "shell.execute_reply": "2022-07-22T03:52:06.184916Z"
    },
    "papermill": {
     "duration": 0.021872,
     "end_time": "2022-07-22T03:52:06.186587",
     "exception": false,
     "start_time": "2022-07-22T03:52:06.164715",
     "status": "completed"
    },
    "tags": []
   },
   "outputs": [],
   "source": [
    "%load_ext autoreload\n",
    "%autoreload 2"
   ]
  },
  {
   "cell_type": "code",
   "execution_count": 2,
   "id": "1d5f5a59",
   "metadata": {
    "execution": {
     "iopub.execute_input": "2022-07-22T03:52:06.226789Z",
     "iopub.status.busy": "2022-07-22T03:52:06.226570Z",
     "iopub.status.idle": "2022-07-22T03:52:07.147572Z",
     "shell.execute_reply": "2022-07-22T03:52:07.147164Z"
    },
    "papermill": {
     "duration": 0.929654,
     "end_time": "2022-07-22T03:52:07.148866",
     "exception": false,
     "start_time": "2022-07-22T03:52:06.219212",
     "status": "completed"
    },
    "tags": []
   },
   "outputs": [],
   "source": [
    "from random import sample, seed\n",
    "import warnings\n",
    "from pathlib import Path\n",
    "import pickle\n",
    "import traceback\n",
    "\n",
    "import numpy as np\n",
    "from scipy.spatial.distance import squareform\n",
    "import pandas as pd\n",
    "from tqdm import tqdm\n",
    "import matplotlib.pyplot as plt\n",
    "import seaborn as sns\n",
    "\n",
    "import conf\n",
    "from entity import Gene"
   ]
  },
  {
   "cell_type": "markdown",
   "id": "1eac24b5",
   "metadata": {
    "papermill": {
     "duration": 0.00559,
     "end_time": "2022-07-22T03:52:07.160383",
     "exception": false,
     "start_time": "2022-07-22T03:52:07.154793",
     "status": "completed"
    },
    "tags": []
   },
   "source": [
    "# Settings"
   ]
  },
  {
   "cell_type": "code",
   "execution_count": 3,
   "id": "ca4560ba",
   "metadata": {
    "execution": {
     "iopub.execute_input": "2022-07-22T03:52:07.172797Z",
     "iopub.status.busy": "2022-07-22T03:52:07.172364Z",
     "iopub.status.idle": "2022-07-22T03:52:07.189307Z",
     "shell.execute_reply": "2022-07-22T03:52:07.188856Z"
    },
    "papermill": {
     "duration": 0.024664,
     "end_time": "2022-07-22T03:52:07.190715",
     "exception": false,
     "start_time": "2022-07-22T03:52:07.166051",
     "status": "completed"
    },
    "tags": [
     "parameters"
    ]
   },
   "outputs": [],
   "source": [
    "# a cohort name (it could be something like UK_BIOBANK, etc)\n",
    "COHORT_NAME = None\n",
    "\n",
    "# reference panel such as 1000G or GTEX_V8\n",
    "REFERENCE_PANEL = None\n",
    "\n",
    "# predictions models such as MASHR or ELASTIC_NET\n",
    "EQTL_MODEL = None\n",
    "\n",
    "# this is the default value used in S-MultiXcan to select the\n",
    "# top principal components of the expression correlation matrix\n",
    "SMULTIXCAN_CONDITION_NUMBER = 30\n",
    "\n",
    "# specifies a single chromosome value\n",
    "CHROMOSOME = None\n",
    "\n",
    "# if True, then it will continue if a gene pair correlation fails,\n",
    "# printing the warning/error for debugging. If False, any warning/error\n",
    "# will be thrown\n",
    "# FIXME: make it False when all is working\n",
    "DEBUG_MODE = True"
   ]
  },
  {
   "cell_type": "code",
   "execution_count": 4,
   "id": "0e7743dd",
   "metadata": {
    "execution": {
     "iopub.execute_input": "2022-07-22T03:52:07.204451Z",
     "iopub.status.busy": "2022-07-22T03:52:07.204292Z",
     "iopub.status.idle": "2022-07-22T03:52:07.218620Z",
     "shell.execute_reply": "2022-07-22T03:52:07.218223Z"
    },
    "papermill": {
     "duration": 0.022398,
     "end_time": "2022-07-22T03:52:07.219849",
     "exception": false,
     "start_time": "2022-07-22T03:52:07.197451",
     "status": "completed"
    },
    "tags": [
     "injected-parameters"
    ]
   },
   "outputs": [],
   "source": [
    "# Parameters\n",
    "COHORT_NAME = \"1000G_EUR\"\n",
    "REFERENCE_PANEL = \"1000G\"\n",
    "EQTL_MODEL = \"MASHR\"\n",
    "CHROMOSOME = 6\n"
   ]
  },
  {
   "cell_type": "code",
   "execution_count": 5,
   "id": "3190631f-27fc-480f-b18e-571d580425a5",
   "metadata": {
    "execution": {
     "iopub.execute_input": "2022-07-22T03:52:07.232107Z",
     "iopub.status.busy": "2022-07-22T03:52:07.231945Z",
     "iopub.status.idle": "2022-07-22T03:52:07.250199Z",
     "shell.execute_reply": "2022-07-22T03:52:07.249710Z"
    },
    "papermill": {
     "duration": 0.025865,
     "end_time": "2022-07-22T03:52:07.251515",
     "exception": false,
     "start_time": "2022-07-22T03:52:07.225650",
     "status": "completed"
    },
    "tags": []
   },
   "outputs": [
    {
     "data": {
      "text/plain": [
       "'Cohort name: 1000g_eur'"
      ]
     },
     "metadata": {},
     "output_type": "display_data"
    }
   ],
   "source": [
    "assert COHORT_NAME is not None or len(COHORT_NAME) == 0, \"A cohort name must be given\"\n",
    "\n",
    "COHORT_NAME = COHORT_NAME.lower()\n",
    "display(f\"Cohort name: {COHORT_NAME}\")"
   ]
  },
  {
   "cell_type": "code",
   "execution_count": 6,
   "id": "f53ba19b-0f93-4fa2-a047-63b375939d1a",
   "metadata": {
    "execution": {
     "iopub.execute_input": "2022-07-22T03:52:07.264075Z",
     "iopub.status.busy": "2022-07-22T03:52:07.263915Z",
     "iopub.status.idle": "2022-07-22T03:52:07.280410Z",
     "shell.execute_reply": "2022-07-22T03:52:07.279906Z"
    },
    "papermill": {
     "duration": 0.024019,
     "end_time": "2022-07-22T03:52:07.281589",
     "exception": false,
     "start_time": "2022-07-22T03:52:07.257570",
     "status": "completed"
    },
    "tags": []
   },
   "outputs": [
    {
     "data": {
      "text/plain": [
       "'Reference panel: 1000G'"
      ]
     },
     "metadata": {},
     "output_type": "display_data"
    }
   ],
   "source": [
    "assert (\n",
    "    REFERENCE_PANEL is not None or len(REFERENCE_PANEL) == 0\n",
    "), \"A reference panel must be given\"\n",
    "\n",
    "display(f\"Reference panel: {REFERENCE_PANEL}\")"
   ]
  },
  {
   "cell_type": "code",
   "execution_count": 7,
   "id": "e024d130-c139-429a-9c6e-ccf149e297b0",
   "metadata": {
    "execution": {
     "iopub.execute_input": "2022-07-22T03:52:07.294285Z",
     "iopub.status.busy": "2022-07-22T03:52:07.294127Z",
     "iopub.status.idle": "2022-07-22T03:52:07.310728Z",
     "shell.execute_reply": "2022-07-22T03:52:07.310304Z"
    },
    "papermill": {
     "duration": 0.024253,
     "end_time": "2022-07-22T03:52:07.311953",
     "exception": false,
     "start_time": "2022-07-22T03:52:07.287700",
     "status": "completed"
    },
    "tags": []
   },
   "outputs": [
    {
     "data": {
      "text/plain": [
       "'eQTL model: MASHR) / mashr_'"
      ]
     },
     "metadata": {},
     "output_type": "display_data"
    }
   ],
   "source": [
    "assert (\n",
    "    EQTL_MODEL is not None or len(EQTL_MODEL) == 0\n",
    "), \"A prediction/eQTL model must be given\"\n",
    "\n",
    "EQTL_MODEL_FILES_PREFIX = conf.PHENOMEXCAN[\"PREDICTION_MODELS\"][f\"{EQTL_MODEL}_PREFIX\"]\n",
    "display(f\"eQTL model: {EQTL_MODEL}) / {EQTL_MODEL_FILES_PREFIX}\")"
   ]
  },
  {
   "cell_type": "code",
   "execution_count": 8,
   "id": "552a7f63-a18c-4d3e-bb6a-94f99b431291",
   "metadata": {
    "execution": {
     "iopub.execute_input": "2022-07-22T03:52:07.325025Z",
     "iopub.status.busy": "2022-07-22T03:52:07.324857Z",
     "iopub.status.idle": "2022-07-22T03:52:07.341386Z",
     "shell.execute_reply": "2022-07-22T03:52:07.340877Z"
    },
    "papermill": {
     "duration": 0.02424,
     "end_time": "2022-07-22T03:52:07.342548",
     "exception": false,
     "start_time": "2022-07-22T03:52:07.318308",
     "status": "completed"
    },
    "tags": []
   },
   "outputs": [
    {
     "data": {
      "text/plain": [
       "'S-MultiXcan condition number: 30'"
      ]
     },
     "metadata": {},
     "output_type": "display_data"
    }
   ],
   "source": [
    "assert (\n",
    "    SMULTIXCAN_CONDITION_NUMBER is not None or SMULTIXCAN_CONDITION_NUMBER > 0\n",
    "), \"The S-MultiXcan condition number (positive integer) must be given\"\n",
    "\n",
    "display(f\"S-MultiXcan condition number: {SMULTIXCAN_CONDITION_NUMBER}\")"
   ]
  },
  {
   "cell_type": "code",
   "execution_count": 9,
   "id": "f34a336f-548e-4afe-8955-90eaea4f42c6",
   "metadata": {
    "execution": {
     "iopub.execute_input": "2022-07-22T03:52:07.355547Z",
     "iopub.status.busy": "2022-07-22T03:52:07.355388Z",
     "iopub.status.idle": "2022-07-22T03:52:07.371888Z",
     "shell.execute_reply": "2022-07-22T03:52:07.371433Z"
    },
    "papermill": {
     "duration": 0.024241,
     "end_time": "2022-07-22T03:52:07.373041",
     "exception": false,
     "start_time": "2022-07-22T03:52:07.348800",
     "status": "completed"
    },
    "tags": []
   },
   "outputs": [
    {
     "data": {
      "text/plain": [
       "'Working on chromosome 6'"
      ]
     },
     "metadata": {},
     "output_type": "display_data"
    }
   ],
   "source": [
    "assert CHROMOSOME is not None and (\n",
    "    1 <= CHROMOSOME <= 22\n",
    "), \"You have to select one chromosome (format: number between 1 and 22)\"\n",
    "\n",
    "CHROMOSOME = str(CHROMOSOME)\n",
    "display(f\"Working on chromosome {CHROMOSOME}\")"
   ]
  },
  {
   "cell_type": "code",
   "execution_count": 10,
   "id": "ab8e96e8-06b5-4363-9dcd-dc4d78cc27f7",
   "metadata": {
    "execution": {
     "iopub.execute_input": "2022-07-22T03:52:07.386265Z",
     "iopub.status.busy": "2022-07-22T03:52:07.386108Z",
     "iopub.status.idle": "2022-07-22T03:52:07.402528Z",
     "shell.execute_reply": "2022-07-22T03:52:07.402093Z"
    },
    "papermill": {
     "duration": 0.024336,
     "end_time": "2022-07-22T03:52:07.403752",
     "exception": false,
     "start_time": "2022-07-22T03:52:07.379416",
     "status": "completed"
    },
    "tags": []
   },
   "outputs": [
    {
     "data": {
      "text/plain": [
       "'Compute correlation within distance True'"
      ]
     },
     "metadata": {},
     "output_type": "display_data"
    }
   ],
   "source": [
    "# TODO: see if this is necessary; if so, make it a parameter with default value True\n",
    "# This parameter, if True, computes the correlation between closeby genes only\n",
    "\n",
    "COMPUTE_CORRELATIONS_WITHIN_DISTANCE = True\n",
    "display(f\"Compute correlation within distance {COMPUTE_CORRELATIONS_WITHIN_DISTANCE}\")"
   ]
  },
  {
   "cell_type": "code",
   "execution_count": 11,
   "id": "396392dc-0340-4540-9b02-e182b833f909",
   "metadata": {
    "execution": {
     "iopub.execute_input": "2022-07-22T03:52:07.417108Z",
     "iopub.status.busy": "2022-07-22T03:52:07.416944Z",
     "iopub.status.idle": "2022-07-22T03:52:07.433788Z",
     "shell.execute_reply": "2022-07-22T03:52:07.433371Z"
    },
    "papermill": {
     "duration": 0.024942,
     "end_time": "2022-07-22T03:52:07.435162",
     "exception": false,
     "start_time": "2022-07-22T03:52:07.410220",
     "status": "completed"
    },
    "tags": []
   },
   "outputs": [
    {
     "data": {
      "text/plain": [
       "'Using output dir base: /opt/data/results/gls/gene_corrs/cohorts/1000g_eur/1000g/mashr'"
      ]
     },
     "metadata": {},
     "output_type": "display_data"
    }
   ],
   "source": [
    "OUTPUT_DIR_BASE = (\n",
    "    conf.RESULTS[\"GLS\"]\n",
    "    / \"gene_corrs\"\n",
    "    / \"cohorts\"\n",
    "    / COHORT_NAME\n",
    "    / REFERENCE_PANEL.lower()\n",
    "    / EQTL_MODEL.lower()\n",
    ")\n",
    "OUTPUT_DIR_BASE.mkdir(parents=True, exist_ok=True)\n",
    "\n",
    "display(f\"Using output dir base: {OUTPUT_DIR_BASE}\")"
   ]
  },
  {
   "cell_type": "code",
   "execution_count": 12,
   "id": "974b4bb1-aa98-4e30-b221-7cd034ad3833",
   "metadata": {
    "execution": {
     "iopub.execute_input": "2022-07-22T03:52:07.454510Z",
     "iopub.status.busy": "2022-07-22T03:52:07.454345Z",
     "iopub.status.idle": "2022-07-22T03:52:07.469193Z",
     "shell.execute_reply": "2022-07-22T03:52:07.468545Z"
    },
    "papermill": {
     "duration": 0.027309,
     "end_time": "2022-07-22T03:52:07.470375",
     "exception": false,
     "start_time": "2022-07-22T03:52:07.443066",
     "status": "completed"
    },
    "tags": []
   },
   "outputs": [
    {
     "data": {
      "text/plain": [
       "PosixPath('/opt/data/results/gls/gene_corrs/cohorts/1000g_eur')"
      ]
     },
     "metadata": {},
     "output_type": "display_data"
    }
   ],
   "source": [
    "INPUT_DIR = conf.RESULTS[\"GLS\"] / \"gene_corrs\" / \"cohorts\" / COHORT_NAME\n",
    "assert INPUT_DIR.exists()\n",
    "\n",
    "display(INPUT_DIR)"
   ]
  },
  {
   "cell_type": "markdown",
   "id": "d2ba085e",
   "metadata": {
    "papermill": {
     "duration": 0.00707,
     "end_time": "2022-07-22T03:52:07.484424",
     "exception": false,
     "start_time": "2022-07-22T03:52:07.477354",
     "status": "completed"
    },
    "tags": []
   },
   "source": [
    "# Load data"
   ]
  },
  {
   "cell_type": "markdown",
   "id": "7dcb8db7",
   "metadata": {
    "papermill": {
     "duration": 0.006988,
     "end_time": "2022-07-22T03:52:07.498576",
     "exception": false,
     "start_time": "2022-07-22T03:52:07.491588",
     "status": "completed"
    },
    "tags": []
   },
   "source": [
    "## GWAS variants"
   ]
  },
  {
   "cell_type": "code",
   "execution_count": 13,
   "id": "29434c4e-8cd3-4b9b-82e4-b5a251d9dd19",
   "metadata": {
    "execution": {
     "iopub.execute_input": "2022-07-22T03:52:07.513976Z",
     "iopub.status.busy": "2022-07-22T03:52:07.513514Z",
     "iopub.status.idle": "2022-07-22T03:52:10.152427Z",
     "shell.execute_reply": "2022-07-22T03:52:10.151948Z"
    },
    "papermill": {
     "duration": 2.648289,
     "end_time": "2022-07-22T03:52:10.154095",
     "exception": false,
     "start_time": "2022-07-22T03:52:07.505806",
     "status": "completed"
    },
    "tags": []
   },
   "outputs": [],
   "source": [
    "with open(INPUT_DIR / \"gwas_variant_ids.pkl\", \"rb\") as handle:\n",
    "    gwas_variants_ids_set = pickle.load(handle)"
   ]
  },
  {
   "cell_type": "code",
   "execution_count": 14,
   "id": "b9d9dec2-4a76-4bf9-bde2-e24c95acb8a0",
   "metadata": {
    "execution": {
     "iopub.execute_input": "2022-07-22T03:52:10.171367Z",
     "iopub.status.busy": "2022-07-22T03:52:10.171182Z",
     "iopub.status.idle": "2022-07-22T03:52:10.191180Z",
     "shell.execute_reply": "2022-07-22T03:52:10.190695Z"
    },
    "papermill": {
     "duration": 0.030502,
     "end_time": "2022-07-22T03:52:10.192908",
     "exception": false,
     "start_time": "2022-07-22T03:52:10.162406",
     "status": "completed"
    },
    "tags": []
   },
   "outputs": [
    {
     "data": {
      "text/plain": [
       "8339505"
      ]
     },
     "execution_count": 14,
     "metadata": {},
     "output_type": "execute_result"
    }
   ],
   "source": [
    "len(gwas_variants_ids_set)"
   ]
  },
  {
   "cell_type": "code",
   "execution_count": 15,
   "id": "4235b06a-6034-4ee4-a0a3-2ae35d122418",
   "metadata": {
    "execution": {
     "iopub.execute_input": "2022-07-22T03:52:10.208599Z",
     "iopub.status.busy": "2022-07-22T03:52:10.208431Z",
     "iopub.status.idle": "2022-07-22T03:52:10.719519Z",
     "shell.execute_reply": "2022-07-22T03:52:10.719015Z"
    },
    "papermill": {
     "duration": 0.520718,
     "end_time": "2022-07-22T03:52:10.721154",
     "exception": false,
     "start_time": "2022-07-22T03:52:10.200436",
     "status": "completed"
    },
    "tags": []
   },
   "outputs": [
    {
     "data": {
      "text/plain": [
       "['chr2_29322188_T_C_b38',\n",
       " 'chr1_77172748_C_G_b38',\n",
       " 'chr19_47393634_T_C_b38',\n",
       " 'chr15_93340596_C_G_b38',\n",
       " 'chr8_133795412_A_T_b38']"
      ]
     },
     "execution_count": 15,
     "metadata": {},
     "output_type": "execute_result"
    }
   ],
   "source": [
    "list(gwas_variants_ids_set)[:5]"
   ]
  },
  {
   "cell_type": "markdown",
   "id": "07866999-2305-41f9-a144-e69c9122c212",
   "metadata": {
    "papermill": {
     "duration": 0.007977,
     "end_time": "2022-07-22T03:52:10.737664",
     "exception": false,
     "start_time": "2022-07-22T03:52:10.729687",
     "status": "completed"
    },
    "tags": []
   },
   "source": [
    "## S-PrediXcan tissue models"
   ]
  },
  {
   "cell_type": "code",
   "execution_count": 16,
   "id": "780611d9-77c8-405f-90a4-f271f7b09397",
   "metadata": {
    "execution": {
     "iopub.execute_input": "2022-07-22T03:52:10.755031Z",
     "iopub.status.busy": "2022-07-22T03:52:10.754840Z",
     "iopub.status.idle": "2022-07-22T03:52:11.608990Z",
     "shell.execute_reply": "2022-07-22T03:52:11.608524Z"
    },
    "papermill": {
     "duration": 0.864642,
     "end_time": "2022-07-22T03:52:11.610633",
     "exception": false,
     "start_time": "2022-07-22T03:52:10.745991",
     "status": "completed"
    },
    "tags": []
   },
   "outputs": [],
   "source": [
    "spredixcan_genes_models = pd.read_pickle(INPUT_DIR / \"gene_tissues.pkl\").set_index(\n",
    "    \"gene_id\"\n",
    ")"
   ]
  },
  {
   "cell_type": "code",
   "execution_count": 17,
   "id": "726dd1f6-9557-4225-91fa-b3b879ea96e1",
   "metadata": {
    "execution": {
     "iopub.execute_input": "2022-07-22T03:52:11.641703Z",
     "iopub.status.busy": "2022-07-22T03:52:11.641535Z",
     "iopub.status.idle": "2022-07-22T03:52:11.670450Z",
     "shell.execute_reply": "2022-07-22T03:52:11.670040Z"
    },
    "papermill": {
     "duration": 0.045824,
     "end_time": "2022-07-22T03:52:11.671862",
     "exception": false,
     "start_time": "2022-07-22T03:52:11.626038",
     "status": "completed"
    },
    "tags": []
   },
   "outputs": [
    {
     "data": {
      "text/plain": [
       "(22314, 2)"
      ]
     },
     "execution_count": 17,
     "metadata": {},
     "output_type": "execute_result"
    }
   ],
   "source": [
    "spredixcan_genes_models.shape"
   ]
  },
  {
   "cell_type": "code",
   "execution_count": 18,
   "id": "944a1b48-222c-4eb0-b252-b9de2cbca215",
   "metadata": {
    "execution": {
     "iopub.execute_input": "2022-07-22T03:52:11.694219Z",
     "iopub.status.busy": "2022-07-22T03:52:11.694052Z",
     "iopub.status.idle": "2022-07-22T03:52:11.716324Z",
     "shell.execute_reply": "2022-07-22T03:52:11.715921Z"
    },
    "papermill": {
     "duration": 0.030899,
     "end_time": "2022-07-22T03:52:11.717658",
     "exception": false,
     "start_time": "2022-07-22T03:52:11.686759",
     "status": "completed"
    },
    "tags": []
   },
   "outputs": [
    {
     "data": {
      "text/html": [
       "<div>\n",
       "<style scoped>\n",
       "    .dataframe tbody tr th:only-of-type {\n",
       "        vertical-align: middle;\n",
       "    }\n",
       "\n",
       "    .dataframe tbody tr th {\n",
       "        vertical-align: top;\n",
       "    }\n",
       "\n",
       "    .dataframe thead th {\n",
       "        text-align: right;\n",
       "    }\n",
       "</style>\n",
       "<table border=\"1\" class=\"dataframe\">\n",
       "  <thead>\n",
       "    <tr style=\"text-align: right;\">\n",
       "      <th></th>\n",
       "      <th>gene_name</th>\n",
       "      <th>tissue</th>\n",
       "    </tr>\n",
       "    <tr>\n",
       "      <th>gene_id</th>\n",
       "      <th></th>\n",
       "      <th></th>\n",
       "    </tr>\n",
       "  </thead>\n",
       "  <tbody>\n",
       "    <tr>\n",
       "      <th>ENSG00000000419</th>\n",
       "      <td>DPM1</td>\n",
       "      <td>(Brain_Hypothalamus, Brain_Substantia_nigra)</td>\n",
       "    </tr>\n",
       "    <tr>\n",
       "      <th>ENSG00000000457</th>\n",
       "      <td>SCYL3</td>\n",
       "      <td>(Lung, Esophagus_Muscularis, Nerve_Tibial, Adr...</td>\n",
       "    </tr>\n",
       "    <tr>\n",
       "      <th>ENSG00000000460</th>\n",
       "      <td>C1orf112</td>\n",
       "      <td>(Lung, Esophagus_Muscularis, Nerve_Tibial, Adr...</td>\n",
       "    </tr>\n",
       "    <tr>\n",
       "      <th>ENSG00000000938</th>\n",
       "      <td>FGR</td>\n",
       "      <td>(Lung, Esophagus_Muscularis, Nerve_Tibial, Hea...</td>\n",
       "    </tr>\n",
       "    <tr>\n",
       "      <th>ENSG00000000971</th>\n",
       "      <td>CFH</td>\n",
       "      <td>(Lung, Esophagus_Muscularis, Nerve_Tibial, Hea...</td>\n",
       "    </tr>\n",
       "  </tbody>\n",
       "</table>\n",
       "</div>"
      ],
      "text/plain": [
       "                gene_name                                             tissue\n",
       "gene_id                                                                     \n",
       "ENSG00000000419      DPM1       (Brain_Hypothalamus, Brain_Substantia_nigra)\n",
       "ENSG00000000457     SCYL3  (Lung, Esophagus_Muscularis, Nerve_Tibial, Adr...\n",
       "ENSG00000000460  C1orf112  (Lung, Esophagus_Muscularis, Nerve_Tibial, Adr...\n",
       "ENSG00000000938       FGR  (Lung, Esophagus_Muscularis, Nerve_Tibial, Hea...\n",
       "ENSG00000000971       CFH  (Lung, Esophagus_Muscularis, Nerve_Tibial, Hea..."
      ]
     },
     "execution_count": 18,
     "metadata": {},
     "output_type": "execute_result"
    }
   ],
   "source": [
    "spredixcan_genes_models.head()"
   ]
  },
  {
   "cell_type": "code",
   "execution_count": 19,
   "id": "d1c11bb1-be0b-4f40-b360-633d6827109f",
   "metadata": {
    "execution": {
     "iopub.execute_input": "2022-07-22T03:52:11.732460Z",
     "iopub.status.busy": "2022-07-22T03:52:11.732297Z",
     "iopub.status.idle": "2022-07-22T03:52:11.748990Z",
     "shell.execute_reply": "2022-07-22T03:52:11.748560Z"
    },
    "papermill": {
     "duration": 0.025545,
     "end_time": "2022-07-22T03:52:11.750381",
     "exception": false,
     "start_time": "2022-07-22T03:52:11.724836",
     "status": "completed"
    },
    "tags": []
   },
   "outputs": [],
   "source": [
    "assert spredixcan_genes_models.index.is_unique"
   ]
  },
  {
   "cell_type": "markdown",
   "id": "6caf9d10-eda8-4ad2-8811-a983aa77a25a",
   "metadata": {
    "papermill": {
     "duration": 0.006792,
     "end_time": "2022-07-22T03:52:11.764394",
     "exception": false,
     "start_time": "2022-07-22T03:52:11.757602",
     "status": "completed"
    },
    "tags": []
   },
   "source": [
    "## Get common genes"
   ]
  },
  {
   "cell_type": "code",
   "execution_count": 20,
   "id": "f8d1e317-1cc8-4bdf-bbe9-c3b0a5478359",
   "metadata": {
    "execution": {
     "iopub.execute_input": "2022-07-22T03:52:11.779088Z",
     "iopub.status.busy": "2022-07-22T03:52:11.778925Z",
     "iopub.status.idle": "2022-07-22T03:52:11.795656Z",
     "shell.execute_reply": "2022-07-22T03:52:11.794982Z"
    },
    "papermill": {
     "duration": 0.025541,
     "end_time": "2022-07-22T03:52:11.796920",
     "exception": false,
     "start_time": "2022-07-22T03:52:11.771379",
     "status": "completed"
    },
    "tags": []
   },
   "outputs": [],
   "source": [
    "with open(INPUT_DIR / \"common_genes.pkl\", \"rb\") as handle:\n",
    "    common_genes = pickle.load(handle)"
   ]
  },
  {
   "cell_type": "code",
   "execution_count": 21,
   "id": "ce9506aa-2f38-4e46-b9c2-84d750fac0da",
   "metadata": {
    "execution": {
     "iopub.execute_input": "2022-07-22T03:52:11.812434Z",
     "iopub.status.busy": "2022-07-22T03:52:11.812275Z",
     "iopub.status.idle": "2022-07-22T03:52:11.836247Z",
     "shell.execute_reply": "2022-07-22T03:52:11.835772Z"
    },
    "papermill": {
     "duration": 0.033285,
     "end_time": "2022-07-22T03:52:11.837426",
     "exception": false,
     "start_time": "2022-07-22T03:52:11.804141",
     "status": "completed"
    },
    "tags": []
   },
   "outputs": [
    {
     "data": {
      "text/plain": [
       "6444"
      ]
     },
     "execution_count": 21,
     "metadata": {},
     "output_type": "execute_result"
    }
   ],
   "source": [
    "len(common_genes)"
   ]
  },
  {
   "cell_type": "code",
   "execution_count": 22,
   "id": "f525a698-506a-48e0-9aee-1aca62def5dd",
   "metadata": {
    "execution": {
     "iopub.execute_input": "2022-07-22T03:52:11.862038Z",
     "iopub.status.busy": "2022-07-22T03:52:11.861872Z",
     "iopub.status.idle": "2022-07-22T03:52:11.882647Z",
     "shell.execute_reply": "2022-07-22T03:52:11.882146Z"
    },
    "papermill": {
     "duration": 0.03737,
     "end_time": "2022-07-22T03:52:11.884404",
     "exception": false,
     "start_time": "2022-07-22T03:52:11.847034",
     "status": "completed"
    },
    "tags": []
   },
   "outputs": [
    {
     "data": {
      "text/plain": [
       "['A2M', 'AAAS', 'AANAT', 'AARS', 'AARS2']"
      ]
     },
     "execution_count": 22,
     "metadata": {},
     "output_type": "execute_result"
    }
   ],
   "source": [
    "sorted(list(common_genes))[:5]"
   ]
  },
  {
   "cell_type": "markdown",
   "id": "a5b5092c-a13e-47c4-a92a-480fcc08f3ae",
   "metadata": {
    "papermill": {
     "duration": 0.010018,
     "end_time": "2022-07-22T03:52:11.903778",
     "exception": false,
     "start_time": "2022-07-22T03:52:11.893760",
     "status": "completed"
    },
    "tags": []
   },
   "source": [
    "## Gene info"
   ]
  },
  {
   "cell_type": "code",
   "execution_count": 23,
   "id": "7d6bb224-88e9-4358-ac10-43a41d92cdad",
   "metadata": {
    "execution": {
     "iopub.execute_input": "2022-07-22T03:52:11.922722Z",
     "iopub.status.busy": "2022-07-22T03:52:11.922520Z",
     "iopub.status.idle": "2022-07-22T03:52:11.944624Z",
     "shell.execute_reply": "2022-07-22T03:52:11.944120Z"
    },
    "papermill": {
     "duration": 0.033533,
     "end_time": "2022-07-22T03:52:11.946350",
     "exception": false,
     "start_time": "2022-07-22T03:52:11.912817",
     "status": "completed"
    },
    "tags": []
   },
   "outputs": [],
   "source": [
    "genes_info = pd.read_pickle(INPUT_DIR / \"genes_info.pkl\")"
   ]
  },
  {
   "cell_type": "code",
   "execution_count": 24,
   "id": "9e32abfa-546d-483e-8c18-d526e9e05903",
   "metadata": {
    "execution": {
     "iopub.execute_input": "2022-07-22T03:52:11.965842Z",
     "iopub.status.busy": "2022-07-22T03:52:11.965643Z",
     "iopub.status.idle": "2022-07-22T03:52:11.987777Z",
     "shell.execute_reply": "2022-07-22T03:52:11.987246Z"
    },
    "papermill": {
     "duration": 0.033818,
     "end_time": "2022-07-22T03:52:11.989500",
     "exception": false,
     "start_time": "2022-07-22T03:52:11.955682",
     "status": "completed"
    },
    "tags": []
   },
   "outputs": [
    {
     "data": {
      "text/plain": [
       "(6444, 7)"
      ]
     },
     "execution_count": 24,
     "metadata": {},
     "output_type": "execute_result"
    }
   ],
   "source": [
    "genes_info.shape"
   ]
  },
  {
   "cell_type": "code",
   "execution_count": 25,
   "id": "d16c3e92-85ec-468a-9a56-e25a9774a1cb",
   "metadata": {
    "execution": {
     "iopub.execute_input": "2022-07-22T03:52:12.010381Z",
     "iopub.status.busy": "2022-07-22T03:52:12.010175Z",
     "iopub.status.idle": "2022-07-22T03:52:12.037590Z",
     "shell.execute_reply": "2022-07-22T03:52:12.037070Z"
    },
    "papermill": {
     "duration": 0.039664,
     "end_time": "2022-07-22T03:52:12.039310",
     "exception": false,
     "start_time": "2022-07-22T03:52:11.999646",
     "status": "completed"
    },
    "tags": []
   },
   "outputs": [
    {
     "data": {
      "text/html": [
       "<div>\n",
       "<style scoped>\n",
       "    .dataframe tbody tr th:only-of-type {\n",
       "        vertical-align: middle;\n",
       "    }\n",
       "\n",
       "    .dataframe tbody tr th {\n",
       "        vertical-align: top;\n",
       "    }\n",
       "\n",
       "    .dataframe thead th {\n",
       "        text-align: right;\n",
       "    }\n",
       "</style>\n",
       "<table border=\"1\" class=\"dataframe\">\n",
       "  <thead>\n",
       "    <tr style=\"text-align: right;\">\n",
       "      <th></th>\n",
       "      <th>name</th>\n",
       "      <th>id</th>\n",
       "      <th>chr</th>\n",
       "      <th>band</th>\n",
       "      <th>start_position</th>\n",
       "      <th>end_position</th>\n",
       "      <th>gene_length</th>\n",
       "    </tr>\n",
       "  </thead>\n",
       "  <tbody>\n",
       "    <tr>\n",
       "      <th>0</th>\n",
       "      <td>MFN2</td>\n",
       "      <td>ENSG00000116688</td>\n",
       "      <td>1</td>\n",
       "      <td>1p36.22</td>\n",
       "      <td>11980181.0</td>\n",
       "      <td>12013514.0</td>\n",
       "      <td>33333.0</td>\n",
       "    </tr>\n",
       "    <tr>\n",
       "      <th>1</th>\n",
       "      <td>PPA2</td>\n",
       "      <td>ENSG00000138777</td>\n",
       "      <td>4</td>\n",
       "      <td>4q24</td>\n",
       "      <td>105369077.0</td>\n",
       "      <td>105474067.0</td>\n",
       "      <td>104990.0</td>\n",
       "    </tr>\n",
       "    <tr>\n",
       "      <th>2</th>\n",
       "      <td>ADRA2A</td>\n",
       "      <td>ENSG00000150594</td>\n",
       "      <td>10</td>\n",
       "      <td>10q25.2</td>\n",
       "      <td>111077163.0</td>\n",
       "      <td>111080907.0</td>\n",
       "      <td>3744.0</td>\n",
       "    </tr>\n",
       "    <tr>\n",
       "      <th>3</th>\n",
       "      <td>RYR2</td>\n",
       "      <td>ENSG00000198626</td>\n",
       "      <td>1</td>\n",
       "      <td>1q43</td>\n",
       "      <td>237042184.0</td>\n",
       "      <td>237833988.0</td>\n",
       "      <td>791804.0</td>\n",
       "    </tr>\n",
       "    <tr>\n",
       "      <th>4</th>\n",
       "      <td>VAV2</td>\n",
       "      <td>ENSG00000160293</td>\n",
       "      <td>9</td>\n",
       "      <td>9q34.2</td>\n",
       "      <td>133761894.0</td>\n",
       "      <td>133992604.0</td>\n",
       "      <td>230710.0</td>\n",
       "    </tr>\n",
       "  </tbody>\n",
       "</table>\n",
       "</div>"
      ],
      "text/plain": [
       "     name               id chr     band  start_position  end_position  \\\n",
       "0    MFN2  ENSG00000116688   1  1p36.22      11980181.0    12013514.0   \n",
       "1    PPA2  ENSG00000138777   4     4q24     105369077.0   105474067.0   \n",
       "2  ADRA2A  ENSG00000150594  10  10q25.2     111077163.0   111080907.0   \n",
       "3    RYR2  ENSG00000198626   1     1q43     237042184.0   237833988.0   \n",
       "4    VAV2  ENSG00000160293   9   9q34.2     133761894.0   133992604.0   \n",
       "\n",
       "   gene_length  \n",
       "0      33333.0  \n",
       "1     104990.0  \n",
       "2       3744.0  \n",
       "3     791804.0  \n",
       "4     230710.0  "
      ]
     },
     "execution_count": 25,
     "metadata": {},
     "output_type": "execute_result"
    }
   ],
   "source": [
    "genes_info.head()"
   ]
  },
  {
   "cell_type": "markdown",
   "id": "d3843e06",
   "metadata": {
    "papermill": {
     "duration": 0.010514,
     "end_time": "2022-07-22T03:52:12.059477",
     "exception": false,
     "start_time": "2022-07-22T03:52:12.048963",
     "status": "completed"
    },
    "tags": []
   },
   "source": [
    "# Compute correlations"
   ]
  },
  {
   "cell_type": "code",
   "execution_count": 26,
   "id": "cb859c15-d1f3-4006-a74c-2b83c0db9611",
   "metadata": {
    "execution": {
     "iopub.execute_input": "2022-07-22T03:52:12.079289Z",
     "iopub.status.busy": "2022-07-22T03:52:12.079089Z",
     "iopub.status.idle": "2022-07-22T03:52:12.099740Z",
     "shell.execute_reply": "2022-07-22T03:52:12.099211Z"
    },
    "papermill": {
     "duration": 0.032409,
     "end_time": "2022-07-22T03:52:12.101432",
     "exception": false,
     "start_time": "2022-07-22T03:52:12.069023",
     "status": "completed"
    },
    "tags": []
   },
   "outputs": [
    {
     "data": {
      "text/plain": [
       "PosixPath('/opt/data/results/gls/gene_corrs/cohorts/1000g_eur/1000g/mashr/by_chr/gene_corrs-chr6.pkl')"
      ]
     },
     "metadata": {},
     "output_type": "display_data"
    }
   ],
   "source": [
    "output_dir = OUTPUT_DIR_BASE / \"by_chr\"\n",
    "output_dir.mkdir(exist_ok=True, parents=True)\n",
    "output_file = output_dir / f\"gene_corrs-chr{CHROMOSOME}.pkl\"\n",
    "display(output_file)"
   ]
  },
  {
   "cell_type": "code",
   "execution_count": 27,
   "id": "aa674fe4-6794-4eed-98fa-32b39d1d4ace",
   "metadata": {
    "execution": {
     "iopub.execute_input": "2022-07-22T03:52:12.121811Z",
     "iopub.status.busy": "2022-07-22T03:52:12.121609Z",
     "iopub.status.idle": "2022-07-22T03:52:12.139889Z",
     "shell.execute_reply": "2022-07-22T03:52:12.139353Z"
    },
    "papermill": {
     "duration": 0.030236,
     "end_time": "2022-07-22T03:52:12.141619",
     "exception": false,
     "start_time": "2022-07-22T03:52:12.111383",
     "status": "completed"
    },
    "tags": []
   },
   "outputs": [],
   "source": [
    "warnings.filterwarnings(\"error\")"
   ]
  },
  {
   "cell_type": "code",
   "execution_count": 28,
   "id": "44d5450b-3baf-43f1-9e2e-4b06f1a785f8",
   "metadata": {
    "execution": {
     "iopub.execute_input": "2022-07-22T03:52:12.163241Z",
     "iopub.status.busy": "2022-07-22T03:52:12.163039Z",
     "iopub.status.idle": "2022-07-22T03:52:12.182392Z",
     "shell.execute_reply": "2022-07-22T03:52:12.181872Z"
    },
    "papermill": {
     "duration": 0.031446,
     "end_time": "2022-07-22T03:52:12.184150",
     "exception": false,
     "start_time": "2022-07-22T03:52:12.152704",
     "status": "completed"
    },
    "tags": []
   },
   "outputs": [],
   "source": [
    "# standard checks\n",
    "all_chrs = genes_info[\"chr\"].dropna().unique()\n",
    "assert all_chrs.shape[0] == 22\n",
    "\n",
    "# select chromosome given by the user\n",
    "assert CHROMOSOME in all_chrs"
   ]
  },
  {
   "cell_type": "code",
   "execution_count": 29,
   "id": "2d7c043c-92a7-4d35-991b-fa69ac1e0268",
   "metadata": {
    "execution": {
     "iopub.execute_input": "2022-07-22T03:52:12.206924Z",
     "iopub.status.busy": "2022-07-22T03:52:12.204453Z",
     "iopub.status.idle": "2022-07-22T03:52:12.228209Z",
     "shell.execute_reply": "2022-07-22T03:52:12.227654Z"
    },
    "papermill": {
     "duration": 0.035991,
     "end_time": "2022-07-22T03:52:12.229972",
     "exception": false,
     "start_time": "2022-07-22T03:52:12.193981",
     "status": "completed"
    },
    "tags": []
   },
   "outputs": [
    {
     "name": "stdout",
     "output_type": "stream",
     "text": [
      "Number of genes in chromosome: 339\n"
     ]
    }
   ],
   "source": [
    "# run only on the chromosome specified\n",
    "all_chrs = [CHROMOSOME]\n",
    "genes_chr = genes_info[genes_info[\"chr\"] == CHROMOSOME]\n",
    "\n",
    "# For testing purposes\n",
    "# genes_chr = genes_chr.sample(n=20)\n",
    "\n",
    "print(f\"Number of genes in chromosome: {genes_chr.shape[0]}\", flush=True)"
   ]
  },
  {
   "cell_type": "code",
   "execution_count": 30,
   "id": "916015d8-2979-46d3-a9b9-1cf5a0932c6a",
   "metadata": {
    "execution": {
     "iopub.execute_input": "2022-07-22T03:52:12.271446Z",
     "iopub.status.busy": "2022-07-22T03:52:12.270925Z",
     "iopub.status.idle": "2022-07-22T03:52:12.305952Z",
     "shell.execute_reply": "2022-07-22T03:52:12.305396Z"
    },
    "papermill": {
     "duration": 0.061065,
     "end_time": "2022-07-22T03:52:12.307613",
     "exception": false,
     "start_time": "2022-07-22T03:52:12.246548",
     "status": "completed"
    },
    "tags": []
   },
   "outputs": [],
   "source": [
    "# sort genes by starting position to make visualizations better later\n",
    "genes_chr = genes_chr.sort_values(\"start_position\")"
   ]
  },
  {
   "cell_type": "code",
   "execution_count": 31,
   "id": "a38aa74a-8ad3-47f6-8ef9-56be0e011774",
   "metadata": {
    "execution": {
     "iopub.execute_input": "2022-07-22T03:52:12.336375Z",
     "iopub.status.busy": "2022-07-22T03:52:12.335869Z",
     "iopub.status.idle": "2022-07-22T03:52:12.354941Z",
     "shell.execute_reply": "2022-07-22T03:52:12.354377Z"
    },
    "papermill": {
     "duration": 0.033372,
     "end_time": "2022-07-22T03:52:12.356553",
     "exception": false,
     "start_time": "2022-07-22T03:52:12.323181",
     "status": "completed"
    },
    "tags": []
   },
   "outputs": [],
   "source": [
    "gene_chr_objs = [Gene(ensembl_id=gene_id) for gene_id in genes_chr[\"id\"]]"
   ]
  },
  {
   "cell_type": "code",
   "execution_count": 32,
   "id": "570f974f-13c3-42b6-ad3a-ce99ca885c1a",
   "metadata": {
    "execution": {
     "iopub.execute_input": "2022-07-22T03:52:12.377020Z",
     "iopub.status.busy": "2022-07-22T03:52:12.376602Z",
     "iopub.status.idle": "2022-07-22T03:52:12.398613Z",
     "shell.execute_reply": "2022-07-22T03:52:12.397591Z"
    },
    "papermill": {
     "duration": 0.033845,
     "end_time": "2022-07-22T03:52:12.400350",
     "exception": false,
     "start_time": "2022-07-22T03:52:12.366505",
     "status": "completed"
    },
    "tags": []
   },
   "outputs": [
    {
     "name": "stdout",
     "output_type": "stream",
     "text": [
      "Number of gene combinations: 57291\n"
     ]
    }
   ],
   "source": [
    "n = len(gene_chr_objs)\n",
    "n_comb = int(n * (n - 1) / 2.0)\n",
    "print(f\"Number of gene combinations: {n_comb}\", flush=True)"
   ]
  },
  {
   "cell_type": "code",
   "execution_count": 33,
   "id": "cdbb90a1",
   "metadata": {
    "execution": {
     "iopub.execute_input": "2022-07-22T03:52:12.430828Z",
     "iopub.status.busy": "2022-07-22T03:52:12.430357Z",
     "iopub.status.idle": "2022-07-22T04:03:53.203961Z",
     "shell.execute_reply": "2022-07-22T04:03:53.203390Z"
    },
    "papermill": {
     "duration": 700.786151,
     "end_time": "2022-07-22T04:03:53.205721",
     "exception": false,
     "start_time": "2022-07-22T03:52:12.419570",
     "status": "completed"
    },
    "tags": []
   },
   "outputs": [
    {
     "name": "stderr",
     "output_type": "stream",
     "text": [
      "ENSG00000008018 / ENSG00000112592: 100%|██████████████████████| 57291/57291 [11:40<00:00, 81.76it/s]\n"
     ]
    },
    {
     "data": {
      "text/plain": [
       "PosixPath('/opt/data/results/gls/gene_corrs/cohorts/1000g_eur/1000g/mashr/by_chr/gene_corrs-chr6.pkl')"
      ]
     },
     "metadata": {},
     "output_type": "display_data"
    }
   ],
   "source": [
    "gene_corrs = []\n",
    "\n",
    "i = 0\n",
    "with tqdm(ncols=100, total=n_comb) as pbar:\n",
    "    for gene1_idx in range(0, len(gene_chr_objs) - 1):\n",
    "        gene1_obj = gene_chr_objs[gene1_idx]\n",
    "        gene1_tissues = spredixcan_genes_models.loc[gene1_obj.ensembl_id, \"tissue\"]\n",
    "\n",
    "        for gene2_idx in range(gene1_idx + 1, len(gene_chr_objs)):\n",
    "            gene2_obj = gene_chr_objs[gene2_idx]\n",
    "            gene2_tissues = spredixcan_genes_models.loc[gene2_obj.ensembl_id, \"tissue\"]\n",
    "\n",
    "            pbar.set_description(f\"{gene1_obj.ensembl_id} / {gene2_obj.ensembl_id}\")\n",
    "\n",
    "            try:\n",
    "                r = gene1_obj.get_ssm_correlation(\n",
    "                    other_gene=gene2_obj,\n",
    "                    tissues=gene1_tissues,\n",
    "                    other_tissues=gene2_tissues,\n",
    "                    snps_subset=gwas_variants_ids_set,\n",
    "                    condition_number=SMULTIXCAN_CONDITION_NUMBER,\n",
    "                    reference_panel=REFERENCE_PANEL,\n",
    "                    model_type=EQTL_MODEL,\n",
    "                    use_within_distance=COMPUTE_CORRELATIONS_WITHIN_DISTANCE,\n",
    "                )\n",
    "\n",
    "                if r is None:\n",
    "                    # if r is None, it's very likely because:\n",
    "                    #  * one of the genes has no prediction models\n",
    "                    #  * all the SNPs predictors for the gene are not present in the reference\n",
    "                    #    panel\n",
    "\n",
    "                    r = 0.0\n",
    "\n",
    "                gene_corrs.append(r)\n",
    "            except Warning as e:\n",
    "                if not DEBUG_MODE:\n",
    "                    raise e\n",
    "\n",
    "                print(\n",
    "                    f\"RuntimeWarning for genes {gene1_obj.ensembl_id} and {gene2_obj.ensembl_id}\",\n",
    "                    flush=True,\n",
    "                )\n",
    "                print(traceback.format_exc(), flush=True)\n",
    "\n",
    "                gene_corrs.append(np.nan)\n",
    "            except Exception as e:\n",
    "                if not DEBUG_MODE:\n",
    "                    raise e\n",
    "\n",
    "                print(\n",
    "                    f\"Exception for genes {gene1_obj.ensembl_id} and {gene2_obj.ensembl_id}\",\n",
    "                    flush=True,\n",
    "                )\n",
    "                print(traceback.format_exc(), flush=True)\n",
    "\n",
    "                gene_corrs.append(np.nan)\n",
    "\n",
    "            pbar.update(1)\n",
    "\n",
    "# create a pandas series\n",
    "gene_corrs_flat = pd.Series(gene_corrs)\n",
    "\n",
    "# save\n",
    "# FIXME: consider saving only the condenced matrix here. See here for\n",
    "# more details: https://github.com/greenelab/phenoplier/pull/38#discussion_r634600813\n",
    "gene_corrs_data = squareform(np.array(gene_corrs, dtype=np.float64))\n",
    "np.fill_diagonal(gene_corrs_data, 1.0)\n",
    "\n",
    "gene_chr_ids = [g.ensembl_id for g in gene_chr_objs]\n",
    "gene_corrs_df = pd.DataFrame(\n",
    "    data=gene_corrs_data,\n",
    "    index=gene_chr_ids,\n",
    "    columns=gene_chr_ids,\n",
    ")\n",
    "\n",
    "output_dir.mkdir(exist_ok=True, parents=True)\n",
    "display(output_file)\n",
    "\n",
    "gene_corrs_df.to_pickle(output_file)"
   ]
  },
  {
   "cell_type": "markdown",
   "id": "faa67b51-5373-470f-aa72-2ded53fa6dfe",
   "metadata": {
    "papermill": {
     "duration": 2.51378,
     "end_time": "2022-07-22T04:03:58.319772",
     "exception": false,
     "start_time": "2022-07-22T04:03:55.805992",
     "status": "completed"
    },
    "tags": []
   },
   "source": [
    "# Testing"
   ]
  },
  {
   "cell_type": "code",
   "execution_count": 34,
   "id": "14f7d046-4b55-4896-a56b-990127bcc388",
   "metadata": {
    "execution": {
     "iopub.execute_input": "2022-07-22T04:04:03.207994Z",
     "iopub.status.busy": "2022-07-22T04:04:03.207258Z",
     "iopub.status.idle": "2022-07-22T04:04:03.249040Z",
     "shell.execute_reply": "2022-07-22T04:04:03.248403Z"
    },
    "papermill": {
     "duration": 2.519163,
     "end_time": "2022-07-22T04:04:03.250765",
     "exception": false,
     "start_time": "2022-07-22T04:04:00.731602",
     "status": "completed"
    },
    "tags": []
   },
   "outputs": [
    {
     "data": {
      "text/plain": [
       "(339, 339)"
      ]
     },
     "execution_count": 34,
     "metadata": {},
     "output_type": "execute_result"
    }
   ],
   "source": [
    "gene_corrs_df.shape"
   ]
  },
  {
   "cell_type": "code",
   "execution_count": 35,
   "id": "c7d15414-3297-4537-a7c6-7588c0baeb75",
   "metadata": {
    "execution": {
     "iopub.execute_input": "2022-07-22T04:04:08.259372Z",
     "iopub.status.busy": "2022-07-22T04:04:08.259085Z",
     "iopub.status.idle": "2022-07-22T04:04:08.297364Z",
     "shell.execute_reply": "2022-07-22T04:04:08.296862Z"
    },
    "papermill": {
     "duration": 2.57754,
     "end_time": "2022-07-22T04:04:08.298900",
     "exception": false,
     "start_time": "2022-07-22T04:04:05.721360",
     "status": "completed"
    },
    "tags": []
   },
   "outputs": [
    {
     "data": {
      "text/html": [
       "<div>\n",
       "<style scoped>\n",
       "    .dataframe tbody tr th:only-of-type {\n",
       "        vertical-align: middle;\n",
       "    }\n",
       "\n",
       "    .dataframe tbody tr th {\n",
       "        vertical-align: top;\n",
       "    }\n",
       "\n",
       "    .dataframe thead th {\n",
       "        text-align: right;\n",
       "    }\n",
       "</style>\n",
       "<table border=\"1\" class=\"dataframe\">\n",
       "  <thead>\n",
       "    <tr style=\"text-align: right;\">\n",
       "      <th></th>\n",
       "      <th>ENSG00000137265</th>\n",
       "      <th>ENSG00000112685</th>\n",
       "      <th>ENSG00000112699</th>\n",
       "      <th>ENSG00000124570</th>\n",
       "      <th>ENSG00000137275</th>\n",
       "      <th>ENSG00000137267</th>\n",
       "      <th>ENSG00000112739</th>\n",
       "      <th>ENSG00000153046</th>\n",
       "      <th>ENSG00000145982</th>\n",
       "      <th>ENSG00000124491</th>\n",
       "      <th>...</th>\n",
       "      <th>ENSG00000146477</th>\n",
       "      <th>ENSG00000085511</th>\n",
       "      <th>ENSG00000026652</th>\n",
       "      <th>ENSG00000071242</th>\n",
       "      <th>ENSG00000213066</th>\n",
       "      <th>ENSG00000112486</th>\n",
       "      <th>ENSG00000186340</th>\n",
       "      <th>ENSG00000198719</th>\n",
       "      <th>ENSG00000008018</th>\n",
       "      <th>ENSG00000112592</th>\n",
       "    </tr>\n",
       "  </thead>\n",
       "  <tbody>\n",
       "    <tr>\n",
       "      <th>ENSG00000137265</th>\n",
       "      <td>1.000000</td>\n",
       "      <td>0.009465</td>\n",
       "      <td>0.008052</td>\n",
       "      <td>0.016582</td>\n",
       "      <td>0.005597</td>\n",
       "      <td>0.004384</td>\n",
       "      <td>0.007276</td>\n",
       "      <td>0.011687</td>\n",
       "      <td>0.011377</td>\n",
       "      <td>0.000000</td>\n",
       "      <td>...</td>\n",
       "      <td>0.0</td>\n",
       "      <td>0.0</td>\n",
       "      <td>0.0</td>\n",
       "      <td>0.0</td>\n",
       "      <td>0.0</td>\n",
       "      <td>0.0</td>\n",
       "      <td>0.0</td>\n",
       "      <td>0.0</td>\n",
       "      <td>0.0</td>\n",
       "      <td>0.0</td>\n",
       "    </tr>\n",
       "    <tr>\n",
       "      <th>ENSG00000112685</th>\n",
       "      <td>0.009465</td>\n",
       "      <td>1.000000</td>\n",
       "      <td>0.008316</td>\n",
       "      <td>0.011336</td>\n",
       "      <td>0.005840</td>\n",
       "      <td>0.007334</td>\n",
       "      <td>0.008654</td>\n",
       "      <td>0.007624</td>\n",
       "      <td>0.001053</td>\n",
       "      <td>0.000000</td>\n",
       "      <td>...</td>\n",
       "      <td>0.0</td>\n",
       "      <td>0.0</td>\n",
       "      <td>0.0</td>\n",
       "      <td>0.0</td>\n",
       "      <td>0.0</td>\n",
       "      <td>0.0</td>\n",
       "      <td>0.0</td>\n",
       "      <td>0.0</td>\n",
       "      <td>0.0</td>\n",
       "      <td>0.0</td>\n",
       "    </tr>\n",
       "    <tr>\n",
       "      <th>ENSG00000112699</th>\n",
       "      <td>0.008052</td>\n",
       "      <td>0.008316</td>\n",
       "      <td>1.000000</td>\n",
       "      <td>0.011230</td>\n",
       "      <td>0.008547</td>\n",
       "      <td>0.006291</td>\n",
       "      <td>0.010288</td>\n",
       "      <td>0.006068</td>\n",
       "      <td>0.003263</td>\n",
       "      <td>0.008903</td>\n",
       "      <td>...</td>\n",
       "      <td>0.0</td>\n",
       "      <td>0.0</td>\n",
       "      <td>0.0</td>\n",
       "      <td>0.0</td>\n",
       "      <td>0.0</td>\n",
       "      <td>0.0</td>\n",
       "      <td>0.0</td>\n",
       "      <td>0.0</td>\n",
       "      <td>0.0</td>\n",
       "      <td>0.0</td>\n",
       "    </tr>\n",
       "    <tr>\n",
       "      <th>ENSG00000124570</th>\n",
       "      <td>0.016582</td>\n",
       "      <td>0.011336</td>\n",
       "      <td>0.011230</td>\n",
       "      <td>1.000000</td>\n",
       "      <td>0.129617</td>\n",
       "      <td>0.019693</td>\n",
       "      <td>0.014658</td>\n",
       "      <td>0.016146</td>\n",
       "      <td>0.011807</td>\n",
       "      <td>0.021677</td>\n",
       "      <td>...</td>\n",
       "      <td>0.0</td>\n",
       "      <td>0.0</td>\n",
       "      <td>0.0</td>\n",
       "      <td>0.0</td>\n",
       "      <td>0.0</td>\n",
       "      <td>0.0</td>\n",
       "      <td>0.0</td>\n",
       "      <td>0.0</td>\n",
       "      <td>0.0</td>\n",
       "      <td>0.0</td>\n",
       "    </tr>\n",
       "    <tr>\n",
       "      <th>ENSG00000137275</th>\n",
       "      <td>0.005597</td>\n",
       "      <td>0.005840</td>\n",
       "      <td>0.008547</td>\n",
       "      <td>0.129617</td>\n",
       "      <td>1.000000</td>\n",
       "      <td>0.012538</td>\n",
       "      <td>0.008423</td>\n",
       "      <td>0.013597</td>\n",
       "      <td>0.005931</td>\n",
       "      <td>0.010739</td>\n",
       "      <td>...</td>\n",
       "      <td>0.0</td>\n",
       "      <td>0.0</td>\n",
       "      <td>0.0</td>\n",
       "      <td>0.0</td>\n",
       "      <td>0.0</td>\n",
       "      <td>0.0</td>\n",
       "      <td>0.0</td>\n",
       "      <td>0.0</td>\n",
       "      <td>0.0</td>\n",
       "      <td>0.0</td>\n",
       "    </tr>\n",
       "  </tbody>\n",
       "</table>\n",
       "<p>5 rows × 339 columns</p>\n",
       "</div>"
      ],
      "text/plain": [
       "                 ENSG00000137265  ENSG00000112685  ENSG00000112699  \\\n",
       "ENSG00000137265         1.000000         0.009465         0.008052   \n",
       "ENSG00000112685         0.009465         1.000000         0.008316   \n",
       "ENSG00000112699         0.008052         0.008316         1.000000   \n",
       "ENSG00000124570         0.016582         0.011336         0.011230   \n",
       "ENSG00000137275         0.005597         0.005840         0.008547   \n",
       "\n",
       "                 ENSG00000124570  ENSG00000137275  ENSG00000137267  \\\n",
       "ENSG00000137265         0.016582         0.005597         0.004384   \n",
       "ENSG00000112685         0.011336         0.005840         0.007334   \n",
       "ENSG00000112699         0.011230         0.008547         0.006291   \n",
       "ENSG00000124570         1.000000         0.129617         0.019693   \n",
       "ENSG00000137275         0.129617         1.000000         0.012538   \n",
       "\n",
       "                 ENSG00000112739  ENSG00000153046  ENSG00000145982  \\\n",
       "ENSG00000137265         0.007276         0.011687         0.011377   \n",
       "ENSG00000112685         0.008654         0.007624         0.001053   \n",
       "ENSG00000112699         0.010288         0.006068         0.003263   \n",
       "ENSG00000124570         0.014658         0.016146         0.011807   \n",
       "ENSG00000137275         0.008423         0.013597         0.005931   \n",
       "\n",
       "                 ENSG00000124491  ...  ENSG00000146477  ENSG00000085511  \\\n",
       "ENSG00000137265         0.000000  ...              0.0              0.0   \n",
       "ENSG00000112685         0.000000  ...              0.0              0.0   \n",
       "ENSG00000112699         0.008903  ...              0.0              0.0   \n",
       "ENSG00000124570         0.021677  ...              0.0              0.0   \n",
       "ENSG00000137275         0.010739  ...              0.0              0.0   \n",
       "\n",
       "                 ENSG00000026652  ENSG00000071242  ENSG00000213066  \\\n",
       "ENSG00000137265              0.0              0.0              0.0   \n",
       "ENSG00000112685              0.0              0.0              0.0   \n",
       "ENSG00000112699              0.0              0.0              0.0   \n",
       "ENSG00000124570              0.0              0.0              0.0   \n",
       "ENSG00000137275              0.0              0.0              0.0   \n",
       "\n",
       "                 ENSG00000112486  ENSG00000186340  ENSG00000198719  \\\n",
       "ENSG00000137265              0.0              0.0              0.0   \n",
       "ENSG00000112685              0.0              0.0              0.0   \n",
       "ENSG00000112699              0.0              0.0              0.0   \n",
       "ENSG00000124570              0.0              0.0              0.0   \n",
       "ENSG00000137275              0.0              0.0              0.0   \n",
       "\n",
       "                 ENSG00000008018  ENSG00000112592  \n",
       "ENSG00000137265              0.0              0.0  \n",
       "ENSG00000112685              0.0              0.0  \n",
       "ENSG00000112699              0.0              0.0  \n",
       "ENSG00000124570              0.0              0.0  \n",
       "ENSG00000137275              0.0              0.0  \n",
       "\n",
       "[5 rows x 339 columns]"
      ]
     },
     "execution_count": 35,
     "metadata": {},
     "output_type": "execute_result"
    }
   ],
   "source": [
    "gene_corrs_df.head()"
   ]
  },
  {
   "cell_type": "markdown",
   "id": "dad6603f-01c6-41fb-a6f6-241051207dd8",
   "metadata": {
    "papermill": {
     "duration": 2.435592,
     "end_time": "2022-07-22T04:04:13.230464",
     "exception": false,
     "start_time": "2022-07-22T04:04:10.794872",
     "status": "completed"
    },
    "tags": []
   },
   "source": [
    "## Standard checks and stats"
   ]
  },
  {
   "cell_type": "code",
   "execution_count": 36,
   "id": "286686af-1b7b-4440-8453-6bdcbd8de19c",
   "metadata": {
    "execution": {
     "iopub.execute_input": "2022-07-22T04:04:18.242685Z",
     "iopub.status.busy": "2022-07-22T04:04:18.242409Z",
     "iopub.status.idle": "2022-07-22T04:04:18.262003Z",
     "shell.execute_reply": "2022-07-22T04:04:18.261478Z"
    },
    "papermill": {
     "duration": 2.538556,
     "end_time": "2022-07-22T04:04:18.263665",
     "exception": false,
     "start_time": "2022-07-22T04:04:15.725109",
     "status": "completed"
    },
    "tags": []
   },
   "outputs": [],
   "source": [
    "assert not gene_corrs_df.isna().any().any()"
   ]
  },
  {
   "cell_type": "code",
   "execution_count": 37,
   "id": "00583efc-7068-4270-ad1e-4a418e91db96",
   "metadata": {
    "execution": {
     "iopub.execute_input": "2022-07-22T04:04:23.407632Z",
     "iopub.status.busy": "2022-07-22T04:04:23.407362Z",
     "iopub.status.idle": "2022-07-22T04:04:23.429703Z",
     "shell.execute_reply": "2022-07-22T04:04:23.429164Z"
    },
    "papermill": {
     "duration": 2.622691,
     "end_time": "2022-07-22T04:04:23.431237",
     "exception": false,
     "start_time": "2022-07-22T04:04:20.808546",
     "status": "completed"
    },
    "tags": []
   },
   "outputs": [
    {
     "data": {
      "text/plain": [
       "0.0"
      ]
     },
     "metadata": {},
     "output_type": "display_data"
    }
   ],
   "source": [
    "_min_val = gene_corrs_df.min().min()\n",
    "display(_min_val)\n",
    "assert _min_val >= 0.0"
   ]
  },
  {
   "cell_type": "code",
   "execution_count": 38,
   "id": "d04fb2cf-1050-475b-b855-f5f7cc04092b",
   "metadata": {
    "execution": {
     "iopub.execute_input": "2022-07-22T04:04:28.390780Z",
     "iopub.status.busy": "2022-07-22T04:04:28.390536Z",
     "iopub.status.idle": "2022-07-22T04:04:28.411518Z",
     "shell.execute_reply": "2022-07-22T04:04:28.411025Z"
    },
    "papermill": {
     "duration": 2.558127,
     "end_time": "2022-07-22T04:04:28.413000",
     "exception": false,
     "start_time": "2022-07-22T04:04:25.854873",
     "status": "completed"
    },
    "tags": []
   },
   "outputs": [
    {
     "data": {
      "text/plain": [
       "1.0"
      ]
     },
     "metadata": {},
     "output_type": "display_data"
    }
   ],
   "source": [
    "_max_val = gene_corrs_df.max().max()  # this captures the diagonal\n",
    "display(_max_val)\n",
    "assert _max_val <= 1.0"
   ]
  },
  {
   "cell_type": "code",
   "execution_count": 39,
   "id": "96d02c44-1fba-47be-8a93-8f2608420b9c",
   "metadata": {
    "execution": {
     "iopub.execute_input": "2022-07-22T04:04:33.426006Z",
     "iopub.status.busy": "2022-07-22T04:04:33.425742Z",
     "iopub.status.idle": "2022-07-22T04:04:33.444511Z",
     "shell.execute_reply": "2022-07-22T04:04:33.443927Z"
    },
    "papermill": {
     "duration": 2.569572,
     "end_time": "2022-07-22T04:04:33.446106",
     "exception": false,
     "start_time": "2022-07-22T04:04:30.876534",
     "status": "completed"
    },
    "tags": []
   },
   "outputs": [],
   "source": [
    "# check upper triangular values\n",
    "assert len(gene_corrs) == int(genes_chr.shape[0] * (genes_chr.shape[0] - 1) / 2)"
   ]
  },
  {
   "cell_type": "code",
   "execution_count": 40,
   "id": "fe283586-c348-40e0-8841-f6d97bfb021c",
   "metadata": {
    "execution": {
     "iopub.execute_input": "2022-07-22T04:04:38.403257Z",
     "iopub.status.busy": "2022-07-22T04:04:38.403039Z",
     "iopub.status.idle": "2022-07-22T04:04:38.427217Z",
     "shell.execute_reply": "2022-07-22T04:04:38.426698Z"
    },
    "papermill": {
     "duration": 2.47714,
     "end_time": "2022-07-22T04:04:38.428684",
     "exception": false,
     "start_time": "2022-07-22T04:04:35.951544",
     "status": "completed"
    },
    "tags": []
   },
   "outputs": [
    {
     "data": {
      "text/plain": [
       "count    57291.000000\n",
       "mean         0.004865\n",
       "std          0.034252\n",
       "min          0.000000\n",
       "25%          0.000000\n",
       "50%          0.000000\n",
       "75%          0.000000\n",
       "max          0.959066\n",
       "dtype: float64"
      ]
     },
     "execution_count": 40,
     "metadata": {},
     "output_type": "execute_result"
    }
   ],
   "source": [
    "gene_corrs_flat.describe()"
   ]
  },
  {
   "cell_type": "code",
   "execution_count": 41,
   "id": "b3815678-0f93-4b35-897b-a9d047a2aa78",
   "metadata": {
    "execution": {
     "iopub.execute_input": "2022-07-22T04:04:43.475695Z",
     "iopub.status.busy": "2022-07-22T04:04:43.475471Z",
     "iopub.status.idle": "2022-07-22T04:04:43.502248Z",
     "shell.execute_reply": "2022-07-22T04:04:43.501621Z"
    },
    "papermill": {
     "duration": 2.620074,
     "end_time": "2022-07-22T04:04:43.503900",
     "exception": false,
     "start_time": "2022-07-22T04:04:40.883826",
     "status": "completed"
    },
    "tags": []
   },
   "outputs": [
    {
     "data": {
      "text/plain": [
       "0.00    0.000000\n",
       "0.05    0.000000\n",
       "0.10    0.000000\n",
       "0.15    0.000000\n",
       "0.20    0.000000\n",
       "0.25    0.000000\n",
       "0.30    0.000000\n",
       "0.35    0.000000\n",
       "0.40    0.000000\n",
       "0.45    0.000000\n",
       "0.50    0.000000\n",
       "0.55    0.000000\n",
       "0.60    0.000000\n",
       "0.65    0.000000\n",
       "0.70    0.000000\n",
       "0.75    0.000000\n",
       "0.80    0.000000\n",
       "0.85    0.000000\n",
       "0.90    0.004711\n",
       "0.95    0.013515\n",
       "dtype: float64"
      ]
     },
     "metadata": {},
     "output_type": "display_data"
    }
   ],
   "source": [
    "gene_corrs_quantiles = gene_corrs_flat.quantile(np.arange(0, 1, 0.05))\n",
    "display(gene_corrs_quantiles)"
   ]
  },
  {
   "cell_type": "markdown",
   "id": "87134509-b145-4a10-8bc9-b7e914c2b0fa",
   "metadata": {
    "papermill": {
     "duration": 2.612842,
     "end_time": "2022-07-22T04:04:48.698930",
     "exception": false,
     "start_time": "2022-07-22T04:04:46.086088",
     "status": "completed"
    },
    "tags": []
   },
   "source": [
    "## Positive definiteness"
   ]
  },
  {
   "cell_type": "code",
   "execution_count": 42,
   "id": "07d9a9a1-a4f7-48aa-b916-6d42a8cc6186",
   "metadata": {
    "execution": {
     "iopub.execute_input": "2022-07-22T04:04:53.907490Z",
     "iopub.status.busy": "2022-07-22T04:04:53.907269Z",
     "iopub.status.idle": "2022-07-22T04:04:53.965719Z",
     "shell.execute_reply": "2022-07-22T04:04:53.965282Z"
    },
    "papermill": {
     "duration": 2.581756,
     "end_time": "2022-07-22T04:04:53.967063",
     "exception": false,
     "start_time": "2022-07-22T04:04:51.385307",
     "status": "completed"
    },
    "tags": []
   },
   "outputs": [
    {
     "data": {
      "text/plain": [
       "0"
      ]
     },
     "metadata": {},
     "output_type": "display_data"
    },
    {
     "data": {
      "text/plain": [
       "array([], dtype=float64)"
      ]
     },
     "metadata": {},
     "output_type": "display_data"
    }
   ],
   "source": [
    "# print negative eigenvalues\n",
    "eigs = np.linalg.eigvals(gene_corrs_df.to_numpy())\n",
    "display(len(eigs[eigs < 0]))\n",
    "display(eigs[eigs < 0])"
   ]
  },
  {
   "cell_type": "code",
   "execution_count": 43,
   "id": "6e218436-c3c5-4028-8c94-a4fa6260efce",
   "metadata": {
    "execution": {
     "iopub.execute_input": "2022-07-22T04:04:58.908962Z",
     "iopub.status.busy": "2022-07-22T04:04:58.908741Z",
     "iopub.status.idle": "2022-07-22T04:04:58.939524Z",
     "shell.execute_reply": "2022-07-22T04:04:58.939037Z"
    },
    "papermill": {
     "duration": 2.509402,
     "end_time": "2022-07-22T04:04:58.941102",
     "exception": false,
     "start_time": "2022-07-22T04:04:56.431700",
     "status": "completed"
    },
    "tags": []
   },
   "outputs": [
    {
     "name": "stdout",
     "output_type": "stream",
     "text": [
      "Works!\n"
     ]
    }
   ],
   "source": [
    "try:\n",
    "    chol_mat = np.linalg.cholesky(gene_corrs_df.to_numpy())\n",
    "    cov_inv = np.linalg.inv(chol_mat)\n",
    "    print(\"Works!\")\n",
    "except:\n",
    "    print(\"Cholesky decomposition failed\")"
   ]
  },
  {
   "cell_type": "markdown",
   "id": "8e60a080-edb2-4e9c-b2ef-22961693200c",
   "metadata": {
    "papermill": {
     "duration": 2.499145,
     "end_time": "2022-07-22T04:05:03.973853",
     "exception": false,
     "start_time": "2022-07-22T04:05:01.474708",
     "status": "completed"
    },
    "tags": []
   },
   "source": [
    "## Plot: distribution"
   ]
  },
  {
   "cell_type": "code",
   "execution_count": 44,
   "id": "8301126b-a7d4-4744-9c7d-f0f86eb6f54c",
   "metadata": {
    "execution": {
     "iopub.execute_input": "2022-07-22T04:05:08.671998Z",
     "iopub.status.busy": "2022-07-22T04:05:08.671760Z",
     "iopub.status.idle": "2022-07-22T04:05:09.128242Z",
     "shell.execute_reply": "2022-07-22T04:05:09.127714Z"
    },
    "papermill": {
     "duration": 2.645353,
     "end_time": "2022-07-22T04:05:09.129412",
     "exception": false,
     "start_time": "2022-07-22T04:05:06.484059",
     "status": "completed"
    },
    "tags": []
   },
   "outputs": [
    {
     "data": {
      "image/png": "[encoded data removed]",
      "text/plain": [
       "<Figure size 504x504 with 1 Axes>"
      ]
     },
     "metadata": {
      "needs_background": "light"
     },
     "output_type": "display_data"
    }
   ],
   "source": [
    "with sns.plotting_context(\"paper\", font_scale=1.5):\n",
    "    g = sns.displot(gene_corrs_flat, kde=True, height=7)\n",
    "    g.ax.set_title(\n",
    "        f\"Distribution of gene correlation values in chromosome {CHROMOSOME}\"\n",
    "    )"
   ]
  },
  {
   "cell_type": "markdown",
   "id": "cbd52bca-d878-4a2f-b684-5c83aa3038d4",
   "metadata": {
    "papermill": {
     "duration": 2.253981,
     "end_time": "2022-07-22T04:05:13.592973",
     "exception": false,
     "start_time": "2022-07-22T04:05:11.338992",
     "status": "completed"
    },
    "tags": []
   },
   "source": [
    "## Plot: heatmap"
   ]
  },
  {
   "cell_type": "code",
   "execution_count": 45,
   "id": "d03fe63a-c7b2-4fb9-a53c-db362ce843c9",
   "metadata": {
    "execution": {
     "iopub.execute_input": "2022-07-22T04:05:17.985396Z",
     "iopub.status.busy": "2022-07-22T04:05:17.985192Z",
     "iopub.status.idle": "2022-07-22T04:05:18.001084Z",
     "shell.execute_reply": "2022-07-22T04:05:18.000587Z"
    },
    "papermill": {
     "duration": 2.245436,
     "end_time": "2022-07-22T04:05:18.002331",
     "exception": false,
     "start_time": "2022-07-22T04:05:15.756895",
     "status": "completed"
    },
    "tags": []
   },
   "outputs": [
    {
     "data": {
      "text/plain": [
       "'0.0 / 0.05'"
      ]
     },
     "metadata": {},
     "output_type": "display_data"
    }
   ],
   "source": [
    "vmin_val = min(0.00, gene_corrs_quantiles[0.10])\n",
    "vmax_val = max(0.05, gene_corrs_quantiles[0.90])\n",
    "display(f\"{vmin_val} / {vmax_val}\")"
   ]
  },
  {
   "cell_type": "code",
   "execution_count": 46,
   "id": "dc41b70b-5bcc-4d9e-9f33-a22c4a94dab5",
   "metadata": {
    "execution": {
     "iopub.execute_input": "2022-07-22T04:05:22.440438Z",
     "iopub.status.busy": "2022-07-22T04:05:22.440242Z",
     "iopub.status.idle": "2022-07-22T04:05:22.693528Z",
     "shell.execute_reply": "2022-07-22T04:05:22.693085Z"
    },
    "papermill": {
     "duration": 2.514001,
     "end_time": "2022-07-22T04:05:22.695128",
     "exception": false,
     "start_time": "2022-07-22T04:05:20.181127",
     "status": "completed"
    },
    "tags": []
   },
   "outputs": [
    {
     "data": {
      "text/plain": [
       "Text(0.5, 1.0, 'Gene correlations in chromosome 6')"
      ]
     },
     "execution_count": 46,
     "metadata": {},
     "output_type": "execute_result"
    },
    {
     "data": {
      "image/png": "[encoded data removed]",
      "text/plain": [
       "<Figure size 720x720 with 2 Axes>"
      ]
     },
     "metadata": {
      "needs_background": "light"
     },
     "output_type": "display_data"
    }
   ],
   "source": [
    "f, ax = plt.subplots(figsize=(10, 10))\n",
    "sns.heatmap(\n",
    "    gene_corrs_df,\n",
    "    xticklabels=False,\n",
    "    yticklabels=False,\n",
    "    square=True,\n",
    "    vmin=vmin_val,\n",
    "    vmax=vmax_val,\n",
    "    cmap=\"rocket_r\",\n",
    "    ax=ax,\n",
    ")\n",
    "ax.set_title(f\"Gene correlations in chromosome {CHROMOSOME}\")"
   ]
  },
  {
   "cell_type": "code",
   "execution_count": null,
   "id": "b25e3ead",
   "metadata": {
    "papermill": {
     "duration": 2.122369,
     "end_time": "2022-07-22T04:05:27.192393",
     "exception": false,
     "start_time": "2022-07-22T04:05:25.070024",
     "status": "completed"
    },
    "tags": []
   },
   "outputs": [],
   "source": []
  }
 ],
 "metadata": {
  "jupytext": {
   "cell_metadata_filter": "all,-execution,-papermill,-trusted",
   "formats": "ipynb,py//py:percent"
  },
  "kernelspec": {
   "display_name": "Python 3 (ipykernel)",
   "language": "python",
   "name": "python3"
  },
  "language_info": {
   "codemirror_mode": {
    "name": "ipython",
    "version": 3
   },
   "file_extension": ".py",
   "mimetype": "text/x-python",
   "name": "python",
   "nbconvert_exporter": "python",
   "pygments_lexer": "ipython3",
   "version": "3.8.13"
  },
  "papermill": {
   "default_parameters": {},
   "duration": 807.414357,
   "end_time": "2022-07-22T04:05:32.321912",
   "environment_variables": {},
   "exception": null,
   "input_path": "nbs/15_gsa_gls/10-gene_expr_correlations.ipynb",
   "output_path": "nbs/15_gsa_gls/gene_corrs/cohorts/1000g_eur/1000g/mashr/10-gene_expr_correlations-chr6.run.ipynb",
   "parameters": {
    "CHROMOSOME": 6,
    "COHORT_NAME": "1000G_EUR",
    "EQTL_MODEL": "MASHR",
    "REFERENCE_PANEL": "1000G"
   },
   "start_time": "2022-07-22T03:52:04.907555",
   "version": "2.2.2"
  }
 },
 "nbformat": 4,
 "nbformat_minor": 5
}
