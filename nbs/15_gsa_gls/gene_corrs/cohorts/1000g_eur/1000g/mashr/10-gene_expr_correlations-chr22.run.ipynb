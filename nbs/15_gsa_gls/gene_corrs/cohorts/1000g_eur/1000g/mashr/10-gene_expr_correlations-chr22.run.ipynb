{
 "cells": [
  {
   "cell_type": "markdown",
   "id": "7a6632fb",
   "metadata": {
    "papermill": {
     "duration": 0.006071,
     "end_time": "2022-08-08T22:36:47.643882",
     "exception": false,
     "start_time": "2022-08-08T22:36:47.637811",
     "status": "completed"
    },
    "tags": []
   },
   "source": [
    "# Description"
   ]
  },
  {
   "cell_type": "markdown",
   "id": "7097c346",
   "metadata": {
    "papermill": {
     "duration": 0.005624,
     "end_time": "2022-08-08T22:36:47.654914",
     "exception": false,
     "start_time": "2022-08-08T22:36:47.649290",
     "status": "completed"
    },
    "tags": []
   },
   "source": [
    "(Please, take a look at the README.md file in this directory for instructions on how to run this notebook)\n",
    "\n",
    "This notebook computes predicted expression correlations between all genes in the MultiPLIER models.\n",
    "\n",
    "It also has a parameter set for papermill to run on a single chromosome to run in parallel (see under `Settings` below).\n",
    "\n",
    "This notebook is not directly run. See README.md."
   ]
  },
  {
   "cell_type": "markdown",
   "id": "c61d8427",
   "metadata": {
    "papermill": {
     "duration": 0.00525,
     "end_time": "2022-08-08T22:36:47.665723",
     "exception": false,
     "start_time": "2022-08-08T22:36:47.660473",
     "status": "completed"
    },
    "tags": []
   },
   "source": [
    "# Modules"
   ]
  },
  {
   "cell_type": "code",
   "execution_count": 1,
   "id": "bbc0234f",
   "metadata": {
    "execution": {
     "iopub.execute_input": "2022-08-08T22:36:47.677751Z",
     "iopub.status.busy": "2022-08-08T22:36:47.677495Z",
     "iopub.status.idle": "2022-08-08T22:36:47.691689Z",
     "shell.execute_reply": "2022-08-08T22:36:47.691228Z"
    },
    "papermill": {
     "duration": 0.021767,
     "end_time": "2022-08-08T22:36:47.693096",
     "exception": false,
     "start_time": "2022-08-08T22:36:47.671329",
     "status": "completed"
    },
    "tags": []
   },
   "outputs": [],
   "source": [
    "%load_ext autoreload\n",
    "%autoreload 2"
   ]
  },
  {
   "cell_type": "code",
   "execution_count": 2,
   "id": "1d5f5a59",
   "metadata": {
    "execution": {
     "iopub.execute_input": "2022-08-08T22:36:47.705164Z",
     "iopub.status.busy": "2022-08-08T22:36:47.704964Z",
     "iopub.status.idle": "2022-08-08T22:36:48.604758Z",
     "shell.execute_reply": "2022-08-08T22:36:48.604362Z"
    },
    "papermill": {
     "duration": 0.907317,
     "end_time": "2022-08-08T22:36:48.606037",
     "exception": false,
     "start_time": "2022-08-08T22:36:47.698720",
     "status": "completed"
    },
    "tags": []
   },
   "outputs": [],
   "source": [
    "from random import sample, seed\n",
    "import warnings\n",
    "from pathlib import Path\n",
    "import pickle\n",
    "import traceback\n",
    "\n",
    "import numpy as np\n",
    "from scipy.spatial.distance import squareform\n",
    "import pandas as pd\n",
    "from tqdm import tqdm\n",
    "import matplotlib.pyplot as plt\n",
    "import seaborn as sns\n",
    "\n",
    "import conf\n",
    "from entity import Gene"
   ]
  },
  {
   "cell_type": "markdown",
   "id": "1eac24b5",
   "metadata": {
    "papermill": {
     "duration": 0.006191,
     "end_time": "2022-08-08T22:36:48.644953",
     "exception": false,
     "start_time": "2022-08-08T22:36:48.638762",
     "status": "completed"
    },
    "tags": []
   },
   "source": [
    "# Settings"
   ]
  },
  {
   "cell_type": "code",
   "execution_count": 3,
   "id": "ca4560ba",
   "metadata": {
    "execution": {
     "iopub.execute_input": "2022-08-08T22:36:48.657758Z",
     "iopub.status.busy": "2022-08-08T22:36:48.657429Z",
     "iopub.status.idle": "2022-08-08T22:36:48.672829Z",
     "shell.execute_reply": "2022-08-08T22:36:48.672347Z"
    },
    "papermill": {
     "duration": 0.023233,
     "end_time": "2022-08-08T22:36:48.674225",
     "exception": false,
     "start_time": "2022-08-08T22:36:48.650992",
     "status": "completed"
    },
    "tags": [
     "parameters"
    ]
   },
   "outputs": [],
   "source": [
    "# a cohort name (it could be something like UK_BIOBANK, etc)\n",
    "COHORT_NAME = None\n",
    "\n",
    "# reference panel such as 1000G or GTEX_V8\n",
    "REFERENCE_PANEL = None\n",
    "\n",
    "# predictions models such as MASHR or ELASTIC_NET\n",
    "EQTL_MODEL = None\n",
    "\n",
    "# this is the default value used in S-MultiXcan to select the\n",
    "# top principal components of the expression correlation matrix\n",
    "SMULTIXCAN_CONDITION_NUMBER = 30\n",
    "\n",
    "# specifies a single chromosome value\n",
    "CHROMOSOME = None\n",
    "\n",
    "# If True, computes the correlation between closeby genes only;\n",
    "# otherwise, it computes correlations for all genes in a chromosome\n",
    "COMPUTE_CORRELATIONS_WITHIN_DISTANCE = False\n",
    "\n",
    "# if True, then it will continue if a gene pair correlation fails,\n",
    "# printing the warning/error for debugging. If False, any warning/error\n",
    "# will be thrown\n",
    "DEBUG_MODE = False"
   ]
  },
  {
   "cell_type": "code",
   "execution_count": 4,
   "id": "f5a6ce73",
   "metadata": {
    "execution": {
     "iopub.execute_input": "2022-08-08T22:36:48.686101Z",
     "iopub.status.busy": "2022-08-08T22:36:48.685848Z",
     "iopub.status.idle": "2022-08-08T22:36:48.700607Z",
     "shell.execute_reply": "2022-08-08T22:36:48.700212Z"
    },
    "papermill": {
     "duration": 0.021937,
     "end_time": "2022-08-08T22:36:48.701875",
     "exception": false,
     "start_time": "2022-08-08T22:36:48.679938",
     "status": "completed"
    },
    "tags": [
     "injected-parameters"
    ]
   },
   "outputs": [],
   "source": [
    "# Parameters\n",
    "COHORT_NAME = \"1000G_EUR\"\n",
    "REFERENCE_PANEL = \"1000G\"\n",
    "EQTL_MODEL = \"MASHR\"\n",
    "CHROMOSOME = 22\n"
   ]
  },
  {
   "cell_type": "code",
   "execution_count": 5,
   "id": "3190631f-27fc-480f-b18e-571d580425a5",
   "metadata": {
    "execution": {
     "iopub.execute_input": "2022-08-08T22:36:48.713559Z",
     "iopub.status.busy": "2022-08-08T22:36:48.713329Z",
     "iopub.status.idle": "2022-08-08T22:36:48.729177Z",
     "shell.execute_reply": "2022-08-08T22:36:48.728751Z"
    },
    "papermill": {
     "duration": 0.023341,
     "end_time": "2022-08-08T22:36:48.730611",
     "exception": false,
     "start_time": "2022-08-08T22:36:48.707270",
     "status": "completed"
    },
    "tags": []
   },
   "outputs": [
    {
     "data": {
      "text/plain": [
       "'Cohort name: 1000g_eur'"
      ]
     },
     "metadata": {},
     "output_type": "display_data"
    }
   ],
   "source": [
    "assert COHORT_NAME is not None and len(COHORT_NAME) > 0, \"A cohort name must be given\"\n",
    "\n",
    "COHORT_NAME = COHORT_NAME.lower()\n",
    "display(f\"Cohort name: {COHORT_NAME}\")"
   ]
  },
  {
   "cell_type": "code",
   "execution_count": 6,
   "id": "f53ba19b-0f93-4fa2-a047-63b375939d1a",
   "metadata": {
    "execution": {
     "iopub.execute_input": "2022-08-08T22:36:48.743871Z",
     "iopub.status.busy": "2022-08-08T22:36:48.743373Z",
     "iopub.status.idle": "2022-08-08T22:36:48.757707Z",
     "shell.execute_reply": "2022-08-08T22:36:48.757295Z"
    },
    "papermill": {
     "duration": 0.021669,
     "end_time": "2022-08-08T22:36:48.758814",
     "exception": false,
     "start_time": "2022-08-08T22:36:48.737145",
     "status": "completed"
    },
    "tags": []
   },
   "outputs": [
    {
     "data": {
      "text/plain": [
       "'Reference panel: 1000G'"
      ]
     },
     "metadata": {},
     "output_type": "display_data"
    }
   ],
   "source": [
    "assert (\n",
    "    REFERENCE_PANEL is not None and len(REFERENCE_PANEL) > 0\n",
    "), \"A reference panel must be given\"\n",
    "\n",
    "display(f\"Reference panel: {REFERENCE_PANEL}\")"
   ]
  },
  {
   "cell_type": "code",
   "execution_count": 7,
   "id": "e024d130-c139-429a-9c6e-ccf149e297b0",
   "metadata": {
    "execution": {
     "iopub.execute_input": "2022-08-08T22:36:48.770736Z",
     "iopub.status.busy": "2022-08-08T22:36:48.770518Z",
     "iopub.status.idle": "2022-08-08T22:36:48.785614Z",
     "shell.execute_reply": "2022-08-08T22:36:48.785156Z"
    },
    "papermill": {
     "duration": 0.022422,
     "end_time": "2022-08-08T22:36:48.786770",
     "exception": false,
     "start_time": "2022-08-08T22:36:48.764348",
     "status": "completed"
    },
    "tags": []
   },
   "outputs": [
    {
     "data": {
      "text/plain": [
       "'eQTL model: MASHR) / mashr_'"
      ]
     },
     "metadata": {},
     "output_type": "display_data"
    }
   ],
   "source": [
    "assert (\n",
    "    EQTL_MODEL is not None and len(EQTL_MODEL) > 0\n",
    "), \"A prediction/eQTL model must be given\"\n",
    "\n",
    "EQTL_MODEL_FILES_PREFIX = conf.PHENOMEXCAN[\"PREDICTION_MODELS\"][f\"{EQTL_MODEL}_PREFIX\"]\n",
    "display(f\"eQTL model: {EQTL_MODEL}) / {EQTL_MODEL_FILES_PREFIX}\")"
   ]
  },
  {
   "cell_type": "code",
   "execution_count": 8,
   "id": "552a7f63-a18c-4d3e-bb6a-94f99b431291",
   "metadata": {
    "execution": {
     "iopub.execute_input": "2022-08-08T22:36:48.799667Z",
     "iopub.status.busy": "2022-08-08T22:36:48.799190Z",
     "iopub.status.idle": "2022-08-08T22:36:48.814014Z",
     "shell.execute_reply": "2022-08-08T22:36:48.813609Z"
    },
    "papermill": {
     "duration": 0.022396,
     "end_time": "2022-08-08T22:36:48.815168",
     "exception": false,
     "start_time": "2022-08-08T22:36:48.792772",
     "status": "completed"
    },
    "tags": []
   },
   "outputs": [
    {
     "data": {
      "text/plain": [
       "'S-MultiXcan condition number: 30'"
      ]
     },
     "metadata": {},
     "output_type": "display_data"
    }
   ],
   "source": [
    "assert (\n",
    "    SMULTIXCAN_CONDITION_NUMBER is not None and SMULTIXCAN_CONDITION_NUMBER > 0\n",
    "), \"The S-MultiXcan condition number (positive integer) must be given\"\n",
    "\n",
    "display(f\"S-MultiXcan condition number: {SMULTIXCAN_CONDITION_NUMBER}\")"
   ]
  },
  {
   "cell_type": "code",
   "execution_count": 9,
   "id": "f34a336f-548e-4afe-8955-90eaea4f42c6",
   "metadata": {
    "execution": {
     "iopub.execute_input": "2022-08-08T22:36:48.827386Z",
     "iopub.status.busy": "2022-08-08T22:36:48.827053Z",
     "iopub.status.idle": "2022-08-08T22:36:48.841865Z",
     "shell.execute_reply": "2022-08-08T22:36:48.841368Z"
    },
    "papermill": {
     "duration": 0.022207,
     "end_time": "2022-08-08T22:36:48.843064",
     "exception": false,
     "start_time": "2022-08-08T22:36:48.820857",
     "status": "completed"
    },
    "tags": []
   },
   "outputs": [
    {
     "data": {
      "text/plain": [
       "'Working on chromosome 22'"
      ]
     },
     "metadata": {},
     "output_type": "display_data"
    }
   ],
   "source": [
    "assert CHROMOSOME is not None and (\n",
    "    1 <= CHROMOSOME <= 22\n",
    "), \"You have to select one chromosome (format: number between 1 and 22)\"\n",
    "\n",
    "# CHROMOSOME = str(CHROMOSOME)\n",
    "display(f\"Working on chromosome {CHROMOSOME}\")"
   ]
  },
  {
   "cell_type": "code",
   "execution_count": 10,
   "id": "ab8e96e8-06b5-4363-9dcd-dc4d78cc27f7",
   "metadata": {
    "execution": {
     "iopub.execute_input": "2022-08-08T22:36:48.855718Z",
     "iopub.status.busy": "2022-08-08T22:36:48.855503Z",
     "iopub.status.idle": "2022-08-08T22:36:48.870121Z",
     "shell.execute_reply": "2022-08-08T22:36:48.869699Z"
    },
    "papermill": {
     "duration": 0.022324,
     "end_time": "2022-08-08T22:36:48.871285",
     "exception": false,
     "start_time": "2022-08-08T22:36:48.848961",
     "status": "completed"
    },
    "tags": []
   },
   "outputs": [
    {
     "data": {
      "text/plain": [
       "'Compute correlation within distance False'"
      ]
     },
     "metadata": {},
     "output_type": "display_data"
    }
   ],
   "source": [
    "display(f\"Compute correlation within distance {COMPUTE_CORRELATIONS_WITHIN_DISTANCE}\")"
   ]
  },
  {
   "cell_type": "code",
   "execution_count": 11,
   "id": "396392dc-0340-4540-9b02-e182b833f909",
   "metadata": {
    "execution": {
     "iopub.execute_input": "2022-08-08T22:36:48.884262Z",
     "iopub.status.busy": "2022-08-08T22:36:48.884062Z",
     "iopub.status.idle": "2022-08-08T22:36:48.898936Z",
     "shell.execute_reply": "2022-08-08T22:36:48.898503Z"
    },
    "papermill": {
     "duration": 0.02269,
     "end_time": "2022-08-08T22:36:48.900156",
     "exception": false,
     "start_time": "2022-08-08T22:36:48.877466",
     "status": "completed"
    },
    "tags": []
   },
   "outputs": [
    {
     "data": {
      "text/plain": [
       "'Using output dir base: /opt/data/results/gls/gene_corrs/cohorts/1000g_eur/1000g/mashr'"
      ]
     },
     "metadata": {},
     "output_type": "display_data"
    }
   ],
   "source": [
    "OUTPUT_DIR_BASE = (\n",
    "    conf.RESULTS[\"GLS\"]\n",
    "    / \"gene_corrs\"\n",
    "    / \"cohorts\"\n",
    "    / COHORT_NAME\n",
    "    / REFERENCE_PANEL.lower()\n",
    "    / EQTL_MODEL.lower()\n",
    ")\n",
    "OUTPUT_DIR_BASE.mkdir(parents=True, exist_ok=True)\n",
    "\n",
    "display(f\"Using output dir base: {OUTPUT_DIR_BASE}\")"
   ]
  },
  {
   "cell_type": "markdown",
   "id": "d2ba085e",
   "metadata": {
    "papermill": {
     "duration": 0.005716,
     "end_time": "2022-08-08T22:36:48.911978",
     "exception": false,
     "start_time": "2022-08-08T22:36:48.906262",
     "status": "completed"
    },
    "tags": []
   },
   "source": [
    "# Load data"
   ]
  },
  {
   "cell_type": "markdown",
   "id": "7dcb8db7",
   "metadata": {
    "papermill": {
     "duration": 0.005947,
     "end_time": "2022-08-08T22:36:48.923892",
     "exception": false,
     "start_time": "2022-08-08T22:36:48.917945",
     "status": "completed"
    },
    "tags": []
   },
   "source": [
    "## GWAS variants"
   ]
  },
  {
   "cell_type": "code",
   "execution_count": 12,
   "id": "29434c4e-8cd3-4b9b-82e4-b5a251d9dd19",
   "metadata": {
    "execution": {
     "iopub.execute_input": "2022-08-08T22:36:48.937042Z",
     "iopub.status.busy": "2022-08-08T22:36:48.936670Z",
     "iopub.status.idle": "2022-08-08T22:36:51.514467Z",
     "shell.execute_reply": "2022-08-08T22:36:51.513988Z"
    },
    "papermill": {
     "duration": 2.586085,
     "end_time": "2022-08-08T22:36:51.516012",
     "exception": false,
     "start_time": "2022-08-08T22:36:48.929927",
     "status": "completed"
    },
    "tags": []
   },
   "outputs": [],
   "source": [
    "with open(OUTPUT_DIR_BASE / \"gwas_variant_ids.pkl\", \"rb\") as handle:\n",
    "    gwas_variants_ids_set = pickle.load(handle)"
   ]
  },
  {
   "cell_type": "code",
   "execution_count": 13,
   "id": "b9d9dec2-4a76-4bf9-bde2-e24c95acb8a0",
   "metadata": {
    "execution": {
     "iopub.execute_input": "2022-08-08T22:36:51.531755Z",
     "iopub.status.busy": "2022-08-08T22:36:51.531508Z",
     "iopub.status.idle": "2022-08-08T22:36:51.547471Z",
     "shell.execute_reply": "2022-08-08T22:36:51.547000Z"
    },
    "papermill": {
     "duration": 0.026352,
     "end_time": "2022-08-08T22:36:51.550055",
     "exception": false,
     "start_time": "2022-08-08T22:36:51.523703",
     "status": "completed"
    },
    "tags": []
   },
   "outputs": [
    {
     "data": {
      "text/plain": [
       "8325729"
      ]
     },
     "execution_count": 13,
     "metadata": {},
     "output_type": "execute_result"
    }
   ],
   "source": [
    "len(gwas_variants_ids_set)"
   ]
  },
  {
   "cell_type": "code",
   "execution_count": 14,
   "id": "4235b06a-6034-4ee4-a0a3-2ae35d122418",
   "metadata": {
    "execution": {
     "iopub.execute_input": "2022-08-08T22:36:51.563702Z",
     "iopub.status.busy": "2022-08-08T22:36:51.563439Z",
     "iopub.status.idle": "2022-08-08T22:36:52.046291Z",
     "shell.execute_reply": "2022-08-08T22:36:52.045831Z"
    },
    "papermill": {
     "duration": 0.491113,
     "end_time": "2022-08-08T22:36:52.047659",
     "exception": false,
     "start_time": "2022-08-08T22:36:51.556546",
     "status": "completed"
    },
    "tags": []
   },
   "outputs": [
    {
     "data": {
      "text/plain": [
       "['chr2_99689224_TA_T_b38',\n",
       " 'chr9_105766552_C_T_b38',\n",
       " 'chr11_134207932_G_A_b38',\n",
       " 'chr8_9830376_G_C_b38',\n",
       " 'chr13_106535872_A_C_b38']"
      ]
     },
     "execution_count": 14,
     "metadata": {},
     "output_type": "execute_result"
    }
   ],
   "source": [
    "list(gwas_variants_ids_set)[:5]"
   ]
  },
  {
   "cell_type": "markdown",
   "id": "07866999-2305-41f9-a144-e69c9122c212",
   "metadata": {
    "papermill": {
     "duration": 0.007165,
     "end_time": "2022-08-08T22:36:52.062393",
     "exception": false,
     "start_time": "2022-08-08T22:36:52.055228",
     "status": "completed"
    },
    "tags": []
   },
   "source": [
    "## S-PrediXcan tissue models"
   ]
  },
  {
   "cell_type": "code",
   "execution_count": 15,
   "id": "780611d9-77c8-405f-90a4-f271f7b09397",
   "metadata": {
    "execution": {
     "iopub.execute_input": "2022-08-08T22:36:52.077779Z",
     "iopub.status.busy": "2022-08-08T22:36:52.077543Z",
     "iopub.status.idle": "2022-08-08T22:36:52.892876Z",
     "shell.execute_reply": "2022-08-08T22:36:52.892425Z"
    },
    "papermill": {
     "duration": 0.82472,
     "end_time": "2022-08-08T22:36:52.894391",
     "exception": false,
     "start_time": "2022-08-08T22:36:52.069671",
     "status": "completed"
    },
    "tags": []
   },
   "outputs": [],
   "source": [
    "spredixcan_genes_models = pd.read_pickle(OUTPUT_DIR_BASE / \"gene_tissues.pkl\")"
   ]
  },
  {
   "cell_type": "code",
   "execution_count": 16,
   "id": "726dd1f6-9557-4225-91fa-b3b879ea96e1",
   "metadata": {
    "execution": {
     "iopub.execute_input": "2022-08-08T22:36:52.907658Z",
     "iopub.status.busy": "2022-08-08T22:36:52.907435Z",
     "iopub.status.idle": "2022-08-08T22:36:52.922071Z",
     "shell.execute_reply": "2022-08-08T22:36:52.921643Z"
    },
    "papermill": {
     "duration": 0.022604,
     "end_time": "2022-08-08T22:36:52.923312",
     "exception": false,
     "start_time": "2022-08-08T22:36:52.900708",
     "status": "completed"
    },
    "tags": []
   },
   "outputs": [
    {
     "data": {
      "text/plain": [
       "(6442, 10)"
      ]
     },
     "execution_count": 16,
     "metadata": {},
     "output_type": "execute_result"
    }
   ],
   "source": [
    "spredixcan_genes_models.shape"
   ]
  },
  {
   "cell_type": "code",
   "execution_count": 17,
   "id": "944a1b48-222c-4eb0-b252-b9de2cbca215",
   "metadata": {
    "execution": {
     "iopub.execute_input": "2022-08-08T22:36:52.937118Z",
     "iopub.status.busy": "2022-08-08T22:36:52.936916Z",
     "iopub.status.idle": "2022-08-08T22:36:52.967073Z",
     "shell.execute_reply": "2022-08-08T22:36:52.966594Z"
    },
    "papermill": {
     "duration": 0.038707,
     "end_time": "2022-08-08T22:36:52.968382",
     "exception": false,
     "start_time": "2022-08-08T22:36:52.929675",
     "status": "completed"
    },
    "tags": []
   },
   "outputs": [
    {
     "data": {
      "text/html": [
       "<div>\n",
       "<style scoped>\n",
       "    .dataframe tbody tr th:only-of-type {\n",
       "        vertical-align: middle;\n",
       "    }\n",
       "\n",
       "    .dataframe tbody tr th {\n",
       "        vertical-align: top;\n",
       "    }\n",
       "\n",
       "    .dataframe thead th {\n",
       "        text-align: right;\n",
       "    }\n",
       "</style>\n",
       "<table border=\"1\" class=\"dataframe\">\n",
       "  <thead>\n",
       "    <tr style=\"text-align: right;\">\n",
       "      <th></th>\n",
       "      <th>gene_name</th>\n",
       "      <th>tissue</th>\n",
       "      <th>n_tissues</th>\n",
       "      <th>tissues_pc_variances</th>\n",
       "      <th>tissues_pc_variances_cov</th>\n",
       "      <th>tissues_variances</th>\n",
       "      <th>n_snps_used_sum</th>\n",
       "      <th>n_snps_in_model_sum</th>\n",
       "      <th>unique_n_snps_in_model</th>\n",
       "      <th>unique_n_snps_used</th>\n",
       "    </tr>\n",
       "    <tr>\n",
       "      <th>gene_id</th>\n",
       "      <th></th>\n",
       "      <th></th>\n",
       "      <th></th>\n",
       "      <th></th>\n",
       "      <th></th>\n",
       "      <th></th>\n",
       "      <th></th>\n",
       "      <th></th>\n",
       "      <th></th>\n",
       "      <th></th>\n",
       "    </tr>\n",
       "  </thead>\n",
       "  <tbody>\n",
       "    <tr>\n",
       "      <th>ENSG00000000419</th>\n",
       "      <td>DPM1</td>\n",
       "      <td>(Brain_Substantia_nigra, Brain_Hypothalamus)</td>\n",
       "      <td>2</td>\n",
       "      <td>[1.0372585612589562, 0.9627414387410438]</td>\n",
       "      <td>[0.008284978865240098, 0.0007326748393412591]</td>\n",
       "      <td>{'Brain_Hypothalamus': 0.0082838613770255, 'Br...</td>\n",
       "      <td>2</td>\n",
       "      <td>2</td>\n",
       "      <td>2</td>\n",
       "      <td>2</td>\n",
       "    </tr>\n",
       "    <tr>\n",
       "      <th>ENSG00000000938</th>\n",
       "      <td>FGR</td>\n",
       "      <td>(Skin_Sun_Exposed_Lower_leg, Brain_Hypothalamu...</td>\n",
       "      <td>36</td>\n",
       "      <td>[30.57880701512373, 2.0297326456001104, 1.4017...</td>\n",
       "      <td>[0.22478471249969328, 0.008813873813031791]</td>\n",
       "      <td>{'Adipose_Visceral_Omentum': 0.001932839939705...</td>\n",
       "      <td>40</td>\n",
       "      <td>40</td>\n",
       "      <td>5</td>\n",
       "      <td>5</td>\n",
       "    </tr>\n",
       "    <tr>\n",
       "      <th>ENSG00000000971</th>\n",
       "      <td>CFH</td>\n",
       "      <td>(Skin_Sun_Exposed_Lower_leg, Thyroid, Cells_Cu...</td>\n",
       "      <td>34</td>\n",
       "      <td>[20.772608276639335, 8.177158142324833, 1.8646...</td>\n",
       "      <td>[0.1969953427958011, 0.05731825316349161, 0.02...</td>\n",
       "      <td>{'Uterus': 0.00888478850189283, 'Brain_Putamen...</td>\n",
       "      <td>44</td>\n",
       "      <td>44</td>\n",
       "      <td>12</td>\n",
       "      <td>12</td>\n",
       "    </tr>\n",
       "    <tr>\n",
       "      <th>ENSG00000001084</th>\n",
       "      <td>GCLC</td>\n",
       "      <td>(Skin_Sun_Exposed_Lower_leg, Thyroid, Cells_Cu...</td>\n",
       "      <td>32</td>\n",
       "      <td>[20.976449940269102, 4.772354749306767, 2.2362...</td>\n",
       "      <td>[0.3657809638925394, 0.1264541371042455, 0.016...</td>\n",
       "      <td>{'Brain_Putamen_basal_ganglia': 0.022230612685...</td>\n",
       "      <td>46</td>\n",
       "      <td>46</td>\n",
       "      <td>23</td>\n",
       "      <td>23</td>\n",
       "    </tr>\n",
       "    <tr>\n",
       "      <th>ENSG00000001167</th>\n",
       "      <td>NFYA</td>\n",
       "      <td>(Skin_Sun_Exposed_Lower_leg, Brain_Hypothalamu...</td>\n",
       "      <td>40</td>\n",
       "      <td>[37.638369782404986]</td>\n",
       "      <td>[1.4787144508923984, 0.049690618387739166]</td>\n",
       "      <td>{'Adipose_Visceral_Omentum': 0.037274400234795...</td>\n",
       "      <td>47</td>\n",
       "      <td>48</td>\n",
       "      <td>14</td>\n",
       "      <td>13</td>\n",
       "    </tr>\n",
       "  </tbody>\n",
       "</table>\n",
       "</div>"
      ],
      "text/plain": [
       "                gene_name                                             tissue  \\\n",
       "gene_id                                                                        \n",
       "ENSG00000000419      DPM1       (Brain_Substantia_nigra, Brain_Hypothalamus)   \n",
       "ENSG00000000938       FGR  (Skin_Sun_Exposed_Lower_leg, Brain_Hypothalamu...   \n",
       "ENSG00000000971       CFH  (Skin_Sun_Exposed_Lower_leg, Thyroid, Cells_Cu...   \n",
       "ENSG00000001084      GCLC  (Skin_Sun_Exposed_Lower_leg, Thyroid, Cells_Cu...   \n",
       "ENSG00000001167      NFYA  (Skin_Sun_Exposed_Lower_leg, Brain_Hypothalamu...   \n",
       "\n",
       "                 n_tissues                               tissues_pc_variances  \\\n",
       "gene_id                                                                         \n",
       "ENSG00000000419          2           [1.0372585612589562, 0.9627414387410438]   \n",
       "ENSG00000000938         36  [30.57880701512373, 2.0297326456001104, 1.4017...   \n",
       "ENSG00000000971         34  [20.772608276639335, 8.177158142324833, 1.8646...   \n",
       "ENSG00000001084         32  [20.976449940269102, 4.772354749306767, 2.2362...   \n",
       "ENSG00000001167         40                               [37.638369782404986]   \n",
       "\n",
       "                                          tissues_pc_variances_cov  \\\n",
       "gene_id                                                              \n",
       "ENSG00000000419      [0.008284978865240098, 0.0007326748393412591]   \n",
       "ENSG00000000938        [0.22478471249969328, 0.008813873813031791]   \n",
       "ENSG00000000971  [0.1969953427958011, 0.05731825316349161, 0.02...   \n",
       "ENSG00000001084  [0.3657809638925394, 0.1264541371042455, 0.016...   \n",
       "ENSG00000001167         [1.4787144508923984, 0.049690618387739166]   \n",
       "\n",
       "                                                 tissues_variances  \\\n",
       "gene_id                                                              \n",
       "ENSG00000000419  {'Brain_Hypothalamus': 0.0082838613770255, 'Br...   \n",
       "ENSG00000000938  {'Adipose_Visceral_Omentum': 0.001932839939705...   \n",
       "ENSG00000000971  {'Uterus': 0.00888478850189283, 'Brain_Putamen...   \n",
       "ENSG00000001084  {'Brain_Putamen_basal_ganglia': 0.022230612685...   \n",
       "ENSG00000001167  {'Adipose_Visceral_Omentum': 0.037274400234795...   \n",
       "\n",
       "                 n_snps_used_sum  n_snps_in_model_sum  unique_n_snps_in_model  \\\n",
       "gene_id                                                                         \n",
       "ENSG00000000419                2                    2                       2   \n",
       "ENSG00000000938               40                   40                       5   \n",
       "ENSG00000000971               44                   44                      12   \n",
       "ENSG00000001084               46                   46                      23   \n",
       "ENSG00000001167               47                   48                      14   \n",
       "\n",
       "                 unique_n_snps_used  \n",
       "gene_id                              \n",
       "ENSG00000000419                   2  \n",
       "ENSG00000000938                   5  \n",
       "ENSG00000000971                  12  \n",
       "ENSG00000001084                  23  \n",
       "ENSG00000001167                  13  "
      ]
     },
     "execution_count": 17,
     "metadata": {},
     "output_type": "execute_result"
    }
   ],
   "source": [
    "spredixcan_genes_models.head()"
   ]
  },
  {
   "cell_type": "code",
   "execution_count": 18,
   "id": "d1c11bb1-be0b-4f40-b360-633d6827109f",
   "metadata": {
    "execution": {
     "iopub.execute_input": "2022-08-08T22:36:52.982537Z",
     "iopub.status.busy": "2022-08-08T22:36:52.982192Z",
     "iopub.status.idle": "2022-08-08T22:36:52.997651Z",
     "shell.execute_reply": "2022-08-08T22:36:52.997258Z"
    },
    "papermill": {
     "duration": 0.02386,
     "end_time": "2022-08-08T22:36:52.998985",
     "exception": false,
     "start_time": "2022-08-08T22:36:52.975125",
     "status": "completed"
    },
    "tags": []
   },
   "outputs": [],
   "source": [
    "assert spredixcan_genes_models.index.is_unique"
   ]
  },
  {
   "cell_type": "markdown",
   "id": "a5b5092c-a13e-47c4-a92a-480fcc08f3ae",
   "metadata": {
    "papermill": {
     "duration": 0.006724,
     "end_time": "2022-08-08T22:36:53.012473",
     "exception": false,
     "start_time": "2022-08-08T22:36:53.005749",
     "status": "completed"
    },
    "tags": []
   },
   "source": [
    "## Gene info"
   ]
  },
  {
   "cell_type": "code",
   "execution_count": 19,
   "id": "7d6bb224-88e9-4358-ac10-43a41d92cdad",
   "metadata": {
    "execution": {
     "iopub.execute_input": "2022-08-08T22:36:53.026897Z",
     "iopub.status.busy": "2022-08-08T22:36:53.026660Z",
     "iopub.status.idle": "2022-08-08T22:36:53.043367Z",
     "shell.execute_reply": "2022-08-08T22:36:53.042505Z"
    },
    "papermill": {
     "duration": 0.025436,
     "end_time": "2022-08-08T22:36:53.044679",
     "exception": false,
     "start_time": "2022-08-08T22:36:53.019243",
     "status": "completed"
    },
    "tags": []
   },
   "outputs": [],
   "source": [
    "genes_info = pd.read_pickle(OUTPUT_DIR_BASE / \"genes_info.pkl\")"
   ]
  },
  {
   "cell_type": "code",
   "execution_count": 20,
   "id": "9e32abfa-546d-483e-8c18-d526e9e05903",
   "metadata": {
    "execution": {
     "iopub.execute_input": "2022-08-08T22:36:53.059102Z",
     "iopub.status.busy": "2022-08-08T22:36:53.058798Z",
     "iopub.status.idle": "2022-08-08T22:36:53.073333Z",
     "shell.execute_reply": "2022-08-08T22:36:53.072900Z"
    },
    "papermill": {
     "duration": 0.023164,
     "end_time": "2022-08-08T22:36:53.074492",
     "exception": false,
     "start_time": "2022-08-08T22:36:53.051328",
     "status": "completed"
    },
    "tags": []
   },
   "outputs": [
    {
     "data": {
      "text/plain": [
       "(6442, 7)"
      ]
     },
     "execution_count": 20,
     "metadata": {},
     "output_type": "execute_result"
    }
   ],
   "source": [
    "genes_info.shape"
   ]
  },
  {
   "cell_type": "code",
   "execution_count": 21,
   "id": "d16c3e92-85ec-468a-9a56-e25a9774a1cb",
   "metadata": {
    "execution": {
     "iopub.execute_input": "2022-08-08T22:36:53.088602Z",
     "iopub.status.busy": "2022-08-08T22:36:53.088407Z",
     "iopub.status.idle": "2022-08-08T22:36:53.107047Z",
     "shell.execute_reply": "2022-08-08T22:36:53.106603Z"
    },
    "papermill": {
     "duration": 0.02715,
     "end_time": "2022-08-08T22:36:53.108398",
     "exception": false,
     "start_time": "2022-08-08T22:36:53.081248",
     "status": "completed"
    },
    "tags": []
   },
   "outputs": [
    {
     "data": {
      "text/html": [
       "<div>\n",
       "<style scoped>\n",
       "    .dataframe tbody tr th:only-of-type {\n",
       "        vertical-align: middle;\n",
       "    }\n",
       "\n",
       "    .dataframe tbody tr th {\n",
       "        vertical-align: top;\n",
       "    }\n",
       "\n",
       "    .dataframe thead th {\n",
       "        text-align: right;\n",
       "    }\n",
       "</style>\n",
       "<table border=\"1\" class=\"dataframe\">\n",
       "  <thead>\n",
       "    <tr style=\"text-align: right;\">\n",
       "      <th></th>\n",
       "      <th>name</th>\n",
       "      <th>id</th>\n",
       "      <th>chr</th>\n",
       "      <th>band</th>\n",
       "      <th>start_position</th>\n",
       "      <th>end_position</th>\n",
       "      <th>gene_length</th>\n",
       "    </tr>\n",
       "  </thead>\n",
       "  <tbody>\n",
       "    <tr>\n",
       "      <th>0</th>\n",
       "      <td>CTSF</td>\n",
       "      <td>ENSG00000174080</td>\n",
       "      <td>11</td>\n",
       "      <td>11q13.2</td>\n",
       "      <td>66563464</td>\n",
       "      <td>66568841</td>\n",
       "      <td>5377</td>\n",
       "    </tr>\n",
       "    <tr>\n",
       "      <th>1</th>\n",
       "      <td>GUCY2D</td>\n",
       "      <td>ENSG00000132518</td>\n",
       "      <td>17</td>\n",
       "      <td>17p13.1</td>\n",
       "      <td>8002594</td>\n",
       "      <td>8020339</td>\n",
       "      <td>17745</td>\n",
       "    </tr>\n",
       "    <tr>\n",
       "      <th>2</th>\n",
       "      <td>NDUFB8</td>\n",
       "      <td>ENSG00000166136</td>\n",
       "      <td>10</td>\n",
       "      <td>10q24.31</td>\n",
       "      <td>100523740</td>\n",
       "      <td>100530000</td>\n",
       "      <td>6260</td>\n",
       "    </tr>\n",
       "    <tr>\n",
       "      <th>3</th>\n",
       "      <td>KIF5B</td>\n",
       "      <td>ENSG00000170759</td>\n",
       "      <td>10</td>\n",
       "      <td>10p11.22</td>\n",
       "      <td>32009015</td>\n",
       "      <td>32056425</td>\n",
       "      <td>47410</td>\n",
       "    </tr>\n",
       "    <tr>\n",
       "      <th>4</th>\n",
       "      <td>SAE1</td>\n",
       "      <td>ENSG00000142230</td>\n",
       "      <td>19</td>\n",
       "      <td>19q13.32</td>\n",
       "      <td>47113274</td>\n",
       "      <td>47210636</td>\n",
       "      <td>97362</td>\n",
       "    </tr>\n",
       "  </tbody>\n",
       "</table>\n",
       "</div>"
      ],
      "text/plain": [
       "     name               id  chr      band  start_position  end_position  \\\n",
       "0    CTSF  ENSG00000174080   11   11q13.2        66563464      66568841   \n",
       "1  GUCY2D  ENSG00000132518   17   17p13.1         8002594       8020339   \n",
       "2  NDUFB8  ENSG00000166136   10  10q24.31       100523740     100530000   \n",
       "3   KIF5B  ENSG00000170759   10  10p11.22        32009015      32056425   \n",
       "4    SAE1  ENSG00000142230   19  19q13.32        47113274      47210636   \n",
       "\n",
       "   gene_length  \n",
       "0         5377  \n",
       "1        17745  \n",
       "2         6260  \n",
       "3        47410  \n",
       "4        97362  "
      ]
     },
     "execution_count": 21,
     "metadata": {},
     "output_type": "execute_result"
    }
   ],
   "source": [
    "genes_info.head()"
   ]
  },
  {
   "cell_type": "markdown",
   "id": "d3843e06",
   "metadata": {
    "papermill": {
     "duration": 0.006747,
     "end_time": "2022-08-08T22:36:53.123413",
     "exception": false,
     "start_time": "2022-08-08T22:36:53.116666",
     "status": "completed"
    },
    "tags": []
   },
   "source": [
    "# Compute correlations"
   ]
  },
  {
   "cell_type": "code",
   "execution_count": 22,
   "id": "cb859c15-d1f3-4006-a74c-2b83c0db9611",
   "metadata": {
    "execution": {
     "iopub.execute_input": "2022-08-08T22:36:53.138148Z",
     "iopub.status.busy": "2022-08-08T22:36:53.137813Z",
     "iopub.status.idle": "2022-08-08T22:36:53.152841Z",
     "shell.execute_reply": "2022-08-08T22:36:53.152454Z"
    },
    "papermill": {
     "duration": 0.027394,
     "end_time": "2022-08-08T22:36:53.157797",
     "exception": false,
     "start_time": "2022-08-08T22:36:53.130403",
     "status": "completed"
    },
    "tags": []
   },
   "outputs": [
    {
     "data": {
      "text/plain": [
       "PosixPath('/opt/data/results/gls/gene_corrs/cohorts/1000g_eur/1000g/mashr/by_chr/gene_corrs-chr22.pkl')"
      ]
     },
     "metadata": {},
     "output_type": "display_data"
    }
   ],
   "source": [
    "output_dir = OUTPUT_DIR_BASE / \"by_chr\"\n",
    "output_dir.mkdir(exist_ok=True, parents=True)\n",
    "output_file = output_dir / f\"gene_corrs-chr{CHROMOSOME}.pkl\"\n",
    "display(output_file)"
   ]
  },
  {
   "cell_type": "code",
   "execution_count": 23,
   "id": "aa674fe4-6794-4eed-98fa-32b39d1d4ace",
   "metadata": {
    "execution": {
     "iopub.execute_input": "2022-08-08T22:36:53.195636Z",
     "iopub.status.busy": "2022-08-08T22:36:53.194555Z",
     "iopub.status.idle": "2022-08-08T22:36:53.211156Z",
     "shell.execute_reply": "2022-08-08T22:36:53.210622Z"
    },
    "papermill": {
     "duration": 0.034714,
     "end_time": "2022-08-08T22:36:53.212608",
     "exception": false,
     "start_time": "2022-08-08T22:36:53.177894",
     "status": "completed"
    },
    "tags": []
   },
   "outputs": [],
   "source": [
    "warnings.filterwarnings(\"error\")"
   ]
  },
  {
   "cell_type": "code",
   "execution_count": 24,
   "id": "44d5450b-3baf-43f1-9e2e-4b06f1a785f8",
   "metadata": {
    "execution": {
     "iopub.execute_input": "2022-08-08T22:36:53.230120Z",
     "iopub.status.busy": "2022-08-08T22:36:53.229945Z",
     "iopub.status.idle": "2022-08-08T22:36:53.246035Z",
     "shell.execute_reply": "2022-08-08T22:36:53.245513Z"
    },
    "papermill": {
     "duration": 0.026043,
     "end_time": "2022-08-08T22:36:53.247399",
     "exception": false,
     "start_time": "2022-08-08T22:36:53.221356",
     "status": "completed"
    },
    "tags": []
   },
   "outputs": [],
   "source": [
    "# standard checks\n",
    "all_chrs = genes_info[\"chr\"].dropna().unique()\n",
    "assert all_chrs.shape[0] == 22\n",
    "\n",
    "# select chromosome given by the user\n",
    "assert CHROMOSOME in all_chrs"
   ]
  },
  {
   "cell_type": "code",
   "execution_count": 25,
   "id": "2d7c043c-92a7-4d35-991b-fa69ac1e0268",
   "metadata": {
    "execution": {
     "iopub.execute_input": "2022-08-08T22:36:53.262625Z",
     "iopub.status.busy": "2022-08-08T22:36:53.262456Z",
     "iopub.status.idle": "2022-08-08T22:36:53.296760Z",
     "shell.execute_reply": "2022-08-08T22:36:53.296253Z"
    },
    "papermill": {
     "duration": 0.043149,
     "end_time": "2022-08-08T22:36:53.298052",
     "exception": false,
     "start_time": "2022-08-08T22:36:53.254903",
     "status": "completed"
    },
    "tags": []
   },
   "outputs": [
    {
     "name": "stdout",
     "output_type": "stream",
     "text": [
      "Number of genes in chromosome: 170\n"
     ]
    }
   ],
   "source": [
    "# run only on the chromosome specified\n",
    "all_chrs = [CHROMOSOME]\n",
    "genes_chr = genes_info[genes_info[\"chr\"] == CHROMOSOME]\n",
    "\n",
    "# For testing purposes\n",
    "# genes_chr = genes_chr.sample(n=20)\n",
    "\n",
    "print(f\"Number of genes in chromosome: {genes_chr.shape[0]}\", flush=True)"
   ]
  },
  {
   "cell_type": "code",
   "execution_count": 26,
   "id": "916015d8-2979-46d3-a9b9-1cf5a0932c6a",
   "metadata": {
    "execution": {
     "iopub.execute_input": "2022-08-08T22:36:53.313536Z",
     "iopub.status.busy": "2022-08-08T22:36:53.313086Z",
     "iopub.status.idle": "2022-08-08T22:36:53.327333Z",
     "shell.execute_reply": "2022-08-08T22:36:53.326940Z"
    },
    "papermill": {
     "duration": 0.023188,
     "end_time": "2022-08-08T22:36:53.328559",
     "exception": false,
     "start_time": "2022-08-08T22:36:53.305371",
     "status": "completed"
    },
    "tags": []
   },
   "outputs": [],
   "source": [
    "# sort genes by starting position to make visualizations better later\n",
    "genes_chr = genes_chr.sort_values(\"start_position\")"
   ]
  },
  {
   "cell_type": "code",
   "execution_count": 27,
   "id": "a38aa74a-8ad3-47f6-8ef9-56be0e011774",
   "metadata": {
    "execution": {
     "iopub.execute_input": "2022-08-08T22:36:53.344235Z",
     "iopub.status.busy": "2022-08-08T22:36:53.343938Z",
     "iopub.status.idle": "2022-08-08T22:36:53.359439Z",
     "shell.execute_reply": "2022-08-08T22:36:53.358955Z"
    },
    "papermill": {
     "duration": 0.024783,
     "end_time": "2022-08-08T22:36:53.360680",
     "exception": false,
     "start_time": "2022-08-08T22:36:53.335897",
     "status": "completed"
    },
    "tags": []
   },
   "outputs": [],
   "source": [
    "gene_chr_objs = [Gene(ensembl_id=gene_id) for gene_id in genes_chr[\"id\"]]"
   ]
  },
  {
   "cell_type": "code",
   "execution_count": 28,
   "id": "570f974f-13c3-42b6-ad3a-ce99ca885c1a",
   "metadata": {
    "execution": {
     "iopub.execute_input": "2022-08-08T22:36:53.376135Z",
     "iopub.status.busy": "2022-08-08T22:36:53.375730Z",
     "iopub.status.idle": "2022-08-08T22:36:53.391606Z",
     "shell.execute_reply": "2022-08-08T22:36:53.391084Z"
    },
    "papermill": {
     "duration": 0.024973,
     "end_time": "2022-08-08T22:36:53.392980",
     "exception": false,
     "start_time": "2022-08-08T22:36:53.368007",
     "status": "completed"
    },
    "tags": []
   },
   "outputs": [
    {
     "name": "stdout",
     "output_type": "stream",
     "text": [
      "Number of gene combinations: 14365\n"
     ]
    }
   ],
   "source": [
    "n = len(gene_chr_objs)\n",
    "n_comb = int(n * (n - 1) / 2.0)\n",
    "print(f\"Number of gene combinations: {n_comb}\", flush=True)"
   ]
  },
  {
   "cell_type": "code",
   "execution_count": 29,
   "id": "cdbb90a1",
   "metadata": {
    "execution": {
     "iopub.execute_input": "2022-08-08T22:36:53.409492Z",
     "iopub.status.busy": "2022-08-08T22:36:53.409328Z",
     "iopub.status.idle": "2022-08-08T22:57:05.451098Z",
     "shell.execute_reply": "2022-08-08T22:57:05.450588Z"
    },
    "papermill": {
     "duration": 1212.051028,
     "end_time": "2022-08-08T22:57:05.452317",
     "exception": false,
     "start_time": "2022-08-08T22:36:53.401289",
     "status": "completed"
    },
    "tags": []
   },
   "outputs": [
    {
     "name": "stderr",
     "output_type": "stream",
     "text": [
      "ENSG00000100299 / ENSG00000251322: 100%|██████████████████████| 14365/14365 [20:12<00:00, 11.85it/s]\n"
     ]
    },
    {
     "data": {
      "text/plain": [
       "PosixPath('/opt/data/results/gls/gene_corrs/cohorts/1000g_eur/1000g/mashr/by_chr/gene_corrs-chr22.pkl')"
      ]
     },
     "metadata": {},
     "output_type": "display_data"
    }
   ],
   "source": [
    "gene_corrs = []\n",
    "\n",
    "i = 0\n",
    "with tqdm(ncols=100, total=n_comb) as pbar:\n",
    "    for gene1_idx in range(0, len(gene_chr_objs) - 1):\n",
    "        gene1_obj = gene_chr_objs[gene1_idx]\n",
    "        gene1_tissues = spredixcan_genes_models.loc[gene1_obj.ensembl_id, \"tissue\"]\n",
    "\n",
    "        for gene2_idx in range(gene1_idx + 1, len(gene_chr_objs)):\n",
    "            gene2_obj = gene_chr_objs[gene2_idx]\n",
    "            gene2_tissues = spredixcan_genes_models.loc[gene2_obj.ensembl_id, \"tissue\"]\n",
    "\n",
    "            pbar.set_description(f\"{gene1_obj.ensembl_id} / {gene2_obj.ensembl_id}\")\n",
    "\n",
    "            try:\n",
    "                r = gene1_obj.get_ssm_correlation(\n",
    "                    other_gene=gene2_obj,\n",
    "                    tissues=gene1_tissues,\n",
    "                    other_tissues=gene2_tissues,\n",
    "                    snps_subset=gwas_variants_ids_set,\n",
    "                    condition_number=SMULTIXCAN_CONDITION_NUMBER,\n",
    "                    reference_panel=REFERENCE_PANEL,\n",
    "                    model_type=EQTL_MODEL,\n",
    "                    use_within_distance=COMPUTE_CORRELATIONS_WITHIN_DISTANCE,\n",
    "                )\n",
    "\n",
    "                if r is None:\n",
    "                    # if r is None, it's very likely because:\n",
    "                    #  * one of the genes has no prediction models\n",
    "                    #  * all the SNPs predictors for the gene are not present in the reference\n",
    "                    #    panel\n",
    "\n",
    "                    r = 0.0\n",
    "\n",
    "                gene_corrs.append(r)\n",
    "            except Warning as e:\n",
    "                if not DEBUG_MODE:\n",
    "                    raise e\n",
    "\n",
    "                print(\n",
    "                    f\"RuntimeWarning for genes {gene1_obj.ensembl_id} and {gene2_obj.ensembl_id}\",\n",
    "                    flush=True,\n",
    "                )\n",
    "                print(traceback.format_exc(), flush=True)\n",
    "\n",
    "                gene_corrs.append(np.nan)\n",
    "            except Exception as e:\n",
    "                if not DEBUG_MODE:\n",
    "                    raise e\n",
    "\n",
    "                print(\n",
    "                    f\"Exception for genes {gene1_obj.ensembl_id} and {gene2_obj.ensembl_id}\",\n",
    "                    flush=True,\n",
    "                )\n",
    "                print(traceback.format_exc(), flush=True)\n",
    "\n",
    "                gene_corrs.append(np.nan)\n",
    "\n",
    "            pbar.update(1)\n",
    "\n",
    "# create a pandas series\n",
    "gene_corrs_flat = pd.Series(gene_corrs)\n",
    "\n",
    "# save\n",
    "# FIXME: consider saving only the condenced matrix here. See here for\n",
    "# more details: https://github.com/greenelab/phenoplier/pull/38#discussion_r634600813\n",
    "gene_corrs_data = squareform(np.array(gene_corrs, dtype=np.float64))\n",
    "np.fill_diagonal(gene_corrs_data, 1.0)\n",
    "\n",
    "gene_chr_ids = [g.ensembl_id for g in gene_chr_objs]\n",
    "gene_corrs_df = pd.DataFrame(\n",
    "    data=gene_corrs_data,\n",
    "    index=gene_chr_ids,\n",
    "    columns=gene_chr_ids,\n",
    ")\n",
    "\n",
    "output_dir.mkdir(exist_ok=True, parents=True)\n",
    "display(output_file)\n",
    "\n",
    "gene_corrs_df.to_pickle(output_file)"
   ]
  },
  {
   "cell_type": "markdown",
   "id": "faa67b51-5373-470f-aa72-2ded53fa6dfe",
   "metadata": {
    "papermill": {
     "duration": 0.787901,
     "end_time": "2022-08-08T22:57:07.051902",
     "exception": false,
     "start_time": "2022-08-08T22:57:06.264001",
     "status": "completed"
    },
    "tags": []
   },
   "source": [
    "# Testing"
   ]
  },
  {
   "cell_type": "code",
   "execution_count": 30,
   "id": "14f7d046-4b55-4896-a56b-990127bcc388",
   "metadata": {
    "execution": {
     "iopub.execute_input": "2022-08-08T22:57:08.660687Z",
     "iopub.status.busy": "2022-08-08T22:57:08.660497Z",
     "iopub.status.idle": "2022-08-08T22:57:08.675883Z",
     "shell.execute_reply": "2022-08-08T22:57:08.675442Z"
    },
    "papermill": {
     "duration": 0.823565,
     "end_time": "2022-08-08T22:57:08.677007",
     "exception": false,
     "start_time": "2022-08-08T22:57:07.853442",
     "status": "completed"
    },
    "tags": []
   },
   "outputs": [
    {
     "data": {
      "text/plain": [
       "(170, 170)"
      ]
     },
     "execution_count": 30,
     "metadata": {},
     "output_type": "execute_result"
    }
   ],
   "source": [
    "gene_corrs_df.shape"
   ]
  },
  {
   "cell_type": "code",
   "execution_count": 31,
   "id": "c7d15414-3297-4537-a7c6-7588c0baeb75",
   "metadata": {
    "execution": {
     "iopub.execute_input": "2022-08-08T22:57:10.272305Z",
     "iopub.status.busy": "2022-08-08T22:57:10.272124Z",
     "iopub.status.idle": "2022-08-08T22:57:10.301249Z",
     "shell.execute_reply": "2022-08-08T22:57:10.300840Z"
    },
    "papermill": {
     "duration": 0.820717,
     "end_time": "2022-08-08T22:57:10.302424",
     "exception": false,
     "start_time": "2022-08-08T22:57:09.481707",
     "status": "completed"
    },
    "tags": []
   },
   "outputs": [
    {
     "data": {
      "text/html": [
       "<div>\n",
       "<style scoped>\n",
       "    .dataframe tbody tr th:only-of-type {\n",
       "        vertical-align: middle;\n",
       "    }\n",
       "\n",
       "    .dataframe tbody tr th {\n",
       "        vertical-align: top;\n",
       "    }\n",
       "\n",
       "    .dataframe thead th {\n",
       "        text-align: right;\n",
       "    }\n",
       "</style>\n",
       "<table border=\"1\" class=\"dataframe\">\n",
       "  <thead>\n",
       "    <tr style=\"text-align: right;\">\n",
       "      <th></th>\n",
       "      <th>ENSG00000177663</th>\n",
       "      <th>ENSG00000131100</th>\n",
       "      <th>ENSG00000099968</th>\n",
       "      <th>ENSG00000015475</th>\n",
       "      <th>ENSG00000243156</th>\n",
       "      <th>ENSG00000215193</th>\n",
       "      <th>ENSG00000183785</th>\n",
       "      <th>ENSG00000184979</th>\n",
       "      <th>ENSG00000100033</th>\n",
       "      <th>ENSG00000100075</th>\n",
       "      <th>...</th>\n",
       "      <th>ENSG00000196576</th>\n",
       "      <th>ENSG00000128165</th>\n",
       "      <th>ENSG00000100253</th>\n",
       "      <th>ENSG00000130489</th>\n",
       "      <th>ENSG00000025708</th>\n",
       "      <th>ENSG00000205560</th>\n",
       "      <th>ENSG00000100288</th>\n",
       "      <th>ENSG00000008735</th>\n",
       "      <th>ENSG00000100299</th>\n",
       "      <th>ENSG00000251322</th>\n",
       "    </tr>\n",
       "  </thead>\n",
       "  <tbody>\n",
       "    <tr>\n",
       "      <th>ENSG00000177663</th>\n",
       "      <td>1.000000</td>\n",
       "      <td>0.006885</td>\n",
       "      <td>0.011973</td>\n",
       "      <td>0.007085</td>\n",
       "      <td>0.016720</td>\n",
       "      <td>0.010888</td>\n",
       "      <td>0.015925</td>\n",
       "      <td>0.008418</td>\n",
       "      <td>0.012096</td>\n",
       "      <td>0.004643</td>\n",
       "      <td>...</td>\n",
       "      <td>0.011936</td>\n",
       "      <td>0.014367</td>\n",
       "      <td>0.010482</td>\n",
       "      <td>0.003709</td>\n",
       "      <td>0.007789</td>\n",
       "      <td>0.007127</td>\n",
       "      <td>0.007134</td>\n",
       "      <td>0.018233</td>\n",
       "      <td>0.007414</td>\n",
       "      <td>0.004604</td>\n",
       "    </tr>\n",
       "    <tr>\n",
       "      <th>ENSG00000131100</th>\n",
       "      <td>0.006885</td>\n",
       "      <td>1.000000</td>\n",
       "      <td>0.556418</td>\n",
       "      <td>0.253376</td>\n",
       "      <td>0.019566</td>\n",
       "      <td>0.012030</td>\n",
       "      <td>0.017317</td>\n",
       "      <td>0.006565</td>\n",
       "      <td>0.009928</td>\n",
       "      <td>0.000792</td>\n",
       "      <td>...</td>\n",
       "      <td>0.008558</td>\n",
       "      <td>0.008664</td>\n",
       "      <td>0.008162</td>\n",
       "      <td>0.003060</td>\n",
       "      <td>0.005899</td>\n",
       "      <td>0.004916</td>\n",
       "      <td>0.003981</td>\n",
       "      <td>0.005284</td>\n",
       "      <td>0.001950</td>\n",
       "      <td>0.000112</td>\n",
       "    </tr>\n",
       "    <tr>\n",
       "      <th>ENSG00000099968</th>\n",
       "      <td>0.011973</td>\n",
       "      <td>0.556418</td>\n",
       "      <td>1.000000</td>\n",
       "      <td>0.378947</td>\n",
       "      <td>0.026867</td>\n",
       "      <td>0.016886</td>\n",
       "      <td>0.022113</td>\n",
       "      <td>0.014682</td>\n",
       "      <td>0.015125</td>\n",
       "      <td>0.003139</td>\n",
       "      <td>...</td>\n",
       "      <td>0.015971</td>\n",
       "      <td>0.014591</td>\n",
       "      <td>0.009541</td>\n",
       "      <td>0.009158</td>\n",
       "      <td>0.010832</td>\n",
       "      <td>0.005968</td>\n",
       "      <td>0.006191</td>\n",
       "      <td>0.009896</td>\n",
       "      <td>0.005764</td>\n",
       "      <td>0.004035</td>\n",
       "    </tr>\n",
       "    <tr>\n",
       "      <th>ENSG00000015475</th>\n",
       "      <td>0.007085</td>\n",
       "      <td>0.253376</td>\n",
       "      <td>0.378947</td>\n",
       "      <td>1.000000</td>\n",
       "      <td>0.029674</td>\n",
       "      <td>0.022601</td>\n",
       "      <td>0.027740</td>\n",
       "      <td>0.015188</td>\n",
       "      <td>0.020504</td>\n",
       "      <td>0.010532</td>\n",
       "      <td>...</td>\n",
       "      <td>0.018676</td>\n",
       "      <td>0.015612</td>\n",
       "      <td>0.010639</td>\n",
       "      <td>0.015128</td>\n",
       "      <td>0.015031</td>\n",
       "      <td>0.012114</td>\n",
       "      <td>0.015088</td>\n",
       "      <td>0.013239</td>\n",
       "      <td>0.011271</td>\n",
       "      <td>0.002163</td>\n",
       "    </tr>\n",
       "    <tr>\n",
       "      <th>ENSG00000243156</th>\n",
       "      <td>0.016720</td>\n",
       "      <td>0.019566</td>\n",
       "      <td>0.026867</td>\n",
       "      <td>0.029674</td>\n",
       "      <td>1.000000</td>\n",
       "      <td>0.060184</td>\n",
       "      <td>0.028523</td>\n",
       "      <td>0.018416</td>\n",
       "      <td>0.022125</td>\n",
       "      <td>0.008687</td>\n",
       "      <td>...</td>\n",
       "      <td>0.019226</td>\n",
       "      <td>0.019942</td>\n",
       "      <td>0.014152</td>\n",
       "      <td>0.006013</td>\n",
       "      <td>0.013208</td>\n",
       "      <td>0.009810</td>\n",
       "      <td>0.010069</td>\n",
       "      <td>0.017089</td>\n",
       "      <td>0.011273</td>\n",
       "      <td>0.007667</td>\n",
       "    </tr>\n",
       "  </tbody>\n",
       "</table>\n",
       "<p>5 rows × 170 columns</p>\n",
       "</div>"
      ],
      "text/plain": [
       "                 ENSG00000177663  ENSG00000131100  ENSG00000099968  \\\n",
       "ENSG00000177663         1.000000         0.006885         0.011973   \n",
       "ENSG00000131100         0.006885         1.000000         0.556418   \n",
       "ENSG00000099968         0.011973         0.556418         1.000000   \n",
       "ENSG00000015475         0.007085         0.253376         0.378947   \n",
       "ENSG00000243156         0.016720         0.019566         0.026867   \n",
       "\n",
       "                 ENSG00000015475  ENSG00000243156  ENSG00000215193  \\\n",
       "ENSG00000177663         0.007085         0.016720         0.010888   \n",
       "ENSG00000131100         0.253376         0.019566         0.012030   \n",
       "ENSG00000099968         0.378947         0.026867         0.016886   \n",
       "ENSG00000015475         1.000000         0.029674         0.022601   \n",
       "ENSG00000243156         0.029674         1.000000         0.060184   \n",
       "\n",
       "                 ENSG00000183785  ENSG00000184979  ENSG00000100033  \\\n",
       "ENSG00000177663         0.015925         0.008418         0.012096   \n",
       "ENSG00000131100         0.017317         0.006565         0.009928   \n",
       "ENSG00000099968         0.022113         0.014682         0.015125   \n",
       "ENSG00000015475         0.027740         0.015188         0.020504   \n",
       "ENSG00000243156         0.028523         0.018416         0.022125   \n",
       "\n",
       "                 ENSG00000100075  ...  ENSG00000196576  ENSG00000128165  \\\n",
       "ENSG00000177663         0.004643  ...         0.011936         0.014367   \n",
       "ENSG00000131100         0.000792  ...         0.008558         0.008664   \n",
       "ENSG00000099968         0.003139  ...         0.015971         0.014591   \n",
       "ENSG00000015475         0.010532  ...         0.018676         0.015612   \n",
       "ENSG00000243156         0.008687  ...         0.019226         0.019942   \n",
       "\n",
       "                 ENSG00000100253  ENSG00000130489  ENSG00000025708  \\\n",
       "ENSG00000177663         0.010482         0.003709         0.007789   \n",
       "ENSG00000131100         0.008162         0.003060         0.005899   \n",
       "ENSG00000099968         0.009541         0.009158         0.010832   \n",
       "ENSG00000015475         0.010639         0.015128         0.015031   \n",
       "ENSG00000243156         0.014152         0.006013         0.013208   \n",
       "\n",
       "                 ENSG00000205560  ENSG00000100288  ENSG00000008735  \\\n",
       "ENSG00000177663         0.007127         0.007134         0.018233   \n",
       "ENSG00000131100         0.004916         0.003981         0.005284   \n",
       "ENSG00000099968         0.005968         0.006191         0.009896   \n",
       "ENSG00000015475         0.012114         0.015088         0.013239   \n",
       "ENSG00000243156         0.009810         0.010069         0.017089   \n",
       "\n",
       "                 ENSG00000100299  ENSG00000251322  \n",
       "ENSG00000177663         0.007414         0.004604  \n",
       "ENSG00000131100         0.001950         0.000112  \n",
       "ENSG00000099968         0.005764         0.004035  \n",
       "ENSG00000015475         0.011271         0.002163  \n",
       "ENSG00000243156         0.011273         0.007667  \n",
       "\n",
       "[5 rows x 170 columns]"
      ]
     },
     "execution_count": 31,
     "metadata": {},
     "output_type": "execute_result"
    }
   ],
   "source": [
    "gene_corrs_df.head()"
   ]
  },
  {
   "cell_type": "markdown",
   "id": "dad6603f-01c6-41fb-a6f6-241051207dd8",
   "metadata": {
    "papermill": {
     "duration": 0.788039,
     "end_time": "2022-08-08T22:57:11.869386",
     "exception": false,
     "start_time": "2022-08-08T22:57:11.081347",
     "status": "completed"
    },
    "tags": []
   },
   "source": [
    "## Standard checks and stats"
   ]
  },
  {
   "cell_type": "code",
   "execution_count": 32,
   "id": "286686af-1b7b-4440-8453-6bdcbd8de19c",
   "metadata": {
    "execution": {
     "iopub.execute_input": "2022-08-08T22:57:13.483513Z",
     "iopub.status.busy": "2022-08-08T22:57:13.483088Z",
     "iopub.status.idle": "2022-08-08T22:57:13.498415Z",
     "shell.execute_reply": "2022-08-08T22:57:13.498002Z"
    },
    "papermill": {
     "duration": 0.830759,
     "end_time": "2022-08-08T22:57:13.499596",
     "exception": false,
     "start_time": "2022-08-08T22:57:12.668837",
     "status": "completed"
    },
    "tags": []
   },
   "outputs": [],
   "source": [
    "assert not gene_corrs_df.isna().any().any()"
   ]
  },
  {
   "cell_type": "code",
   "execution_count": 33,
   "id": "00583efc-7068-4270-ad1e-4a418e91db96",
   "metadata": {
    "execution": {
     "iopub.execute_input": "2022-08-08T22:57:15.088399Z",
     "iopub.status.busy": "2022-08-08T22:57:15.088128Z",
     "iopub.status.idle": "2022-08-08T22:57:15.105323Z",
     "shell.execute_reply": "2022-08-08T22:57:15.104864Z"
    },
    "papermill": {
     "duration": 0.803131,
     "end_time": "2022-08-08T22:57:15.106509",
     "exception": false,
     "start_time": "2022-08-08T22:57:14.303378",
     "status": "completed"
    },
    "tags": []
   },
   "outputs": [
    {
     "data": {
      "text/plain": [
       "3.6954557816576076e-06"
      ]
     },
     "metadata": {},
     "output_type": "display_data"
    }
   ],
   "source": [
    "_min_val = gene_corrs_df.min().min()\n",
    "display(_min_val)\n",
    "assert _min_val >= 0.0"
   ]
  },
  {
   "cell_type": "code",
   "execution_count": 34,
   "id": "d04fb2cf-1050-475b-b855-f5f7cc04092b",
   "metadata": {
    "execution": {
     "iopub.execute_input": "2022-08-08T22:57:16.706798Z",
     "iopub.status.busy": "2022-08-08T22:57:16.706077Z",
     "iopub.status.idle": "2022-08-08T22:57:16.722669Z",
     "shell.execute_reply": "2022-08-08T22:57:16.722113Z"
    },
    "papermill": {
     "duration": 0.819259,
     "end_time": "2022-08-08T22:57:16.723865",
     "exception": false,
     "start_time": "2022-08-08T22:57:15.904606",
     "status": "completed"
    },
    "tags": []
   },
   "outputs": [
    {
     "data": {
      "text/plain": [
       "1.0"
      ]
     },
     "metadata": {},
     "output_type": "display_data"
    }
   ],
   "source": [
    "_max_val = gene_corrs_df.max().max()  # this captures the diagonal\n",
    "display(_max_val)\n",
    "assert _max_val <= 1.0"
   ]
  },
  {
   "cell_type": "code",
   "execution_count": 35,
   "id": "96d02c44-1fba-47be-8a93-8f2608420b9c",
   "metadata": {
    "execution": {
     "iopub.execute_input": "2022-08-08T22:57:18.297156Z",
     "iopub.status.busy": "2022-08-08T22:57:18.296962Z",
     "iopub.status.idle": "2022-08-08T22:57:18.312526Z",
     "shell.execute_reply": "2022-08-08T22:57:18.311982Z"
    },
    "papermill": {
     "duration": 0.791431,
     "end_time": "2022-08-08T22:57:18.313875",
     "exception": false,
     "start_time": "2022-08-08T22:57:17.522444",
     "status": "completed"
    },
    "tags": []
   },
   "outputs": [],
   "source": [
    "# check upper triangular values\n",
    "assert len(gene_corrs) == int(genes_chr.shape[0] * (genes_chr.shape[0] - 1) / 2)"
   ]
  },
  {
   "cell_type": "code",
   "execution_count": 36,
   "id": "fe283586-c348-40e0-8841-f6d97bfb021c",
   "metadata": {
    "execution": {
     "iopub.execute_input": "2022-08-08T22:57:19.891781Z",
     "iopub.status.busy": "2022-08-08T22:57:19.891545Z",
     "iopub.status.idle": "2022-08-08T22:57:19.911471Z",
     "shell.execute_reply": "2022-08-08T22:57:19.911086Z"
    },
    "papermill": {
     "duration": 0.814605,
     "end_time": "2022-08-08T22:57:19.912890",
     "exception": false,
     "start_time": "2022-08-08T22:57:19.098285",
     "status": "completed"
    },
    "tags": []
   },
   "outputs": [
    {
     "data": {
      "text/plain": [
       "count    14365.000000\n",
       "mean         0.013504\n",
       "std          0.040422\n",
       "min          0.000004\n",
       "25%          0.005419\n",
       "50%          0.008271\n",
       "75%          0.011682\n",
       "max          0.986330\n",
       "dtype: float64"
      ]
     },
     "execution_count": 36,
     "metadata": {},
     "output_type": "execute_result"
    }
   ],
   "source": [
    "gene_corrs_flat.describe()"
   ]
  },
  {
   "cell_type": "code",
   "execution_count": 37,
   "id": "b3815678-0f93-4b35-897b-a9d047a2aa78",
   "metadata": {
    "execution": {
     "iopub.execute_input": "2022-08-08T22:57:21.553656Z",
     "iopub.status.busy": "2022-08-08T22:57:21.553471Z",
     "iopub.status.idle": "2022-08-08T22:57:21.572822Z",
     "shell.execute_reply": "2022-08-08T22:57:21.572308Z"
    },
    "papermill": {
     "duration": 0.874486,
     "end_time": "2022-08-08T22:57:21.574239",
     "exception": false,
     "start_time": "2022-08-08T22:57:20.699753",
     "status": "completed"
    },
    "tags": []
   },
   "outputs": [
    {
     "data": {
      "text/plain": [
       "0.00    0.000004\n",
       "0.05    0.002064\n",
       "0.10    0.003215\n",
       "0.15    0.004103\n",
       "0.20    0.004796\n",
       "0.25    0.005419\n",
       "0.30    0.006028\n",
       "0.35    0.006625\n",
       "0.40    0.007137\n",
       "0.45    0.007704\n",
       "0.50    0.008271\n",
       "0.55    0.008866\n",
       "0.60    0.009498\n",
       "0.65    0.010178\n",
       "0.70    0.010888\n",
       "0.75    0.011682\n",
       "0.80    0.012631\n",
       "0.85    0.013827\n",
       "0.90    0.015395\n",
       "0.95    0.018750\n",
       "dtype: float64"
      ]
     },
     "metadata": {},
     "output_type": "display_data"
    }
   ],
   "source": [
    "gene_corrs_quantiles = gene_corrs_flat.quantile(np.arange(0, 1, 0.05))\n",
    "display(gene_corrs_quantiles)"
   ]
  },
  {
   "cell_type": "markdown",
   "id": "87134509-b145-4a10-8bc9-b7e914c2b0fa",
   "metadata": {
    "papermill": {
     "duration": 0.77243,
     "end_time": "2022-08-08T22:57:23.153723",
     "exception": false,
     "start_time": "2022-08-08T22:57:22.381293",
     "status": "completed"
    },
    "tags": []
   },
   "source": [
    "## Positive definiteness"
   ]
  },
  {
   "cell_type": "code",
   "execution_count": 38,
   "id": "07d9a9a1-a4f7-48aa-b916-6d42a8cc6186",
   "metadata": {
    "execution": {
     "iopub.execute_input": "2022-08-08T22:57:24.731725Z",
     "iopub.status.busy": "2022-08-08T22:57:24.731514Z",
     "iopub.status.idle": "2022-08-08T22:57:24.756128Z",
     "shell.execute_reply": "2022-08-08T22:57:24.755710Z"
    },
    "papermill": {
     "duration": 0.824153,
     "end_time": "2022-08-08T22:57:24.757212",
     "exception": false,
     "start_time": "2022-08-08T22:57:23.933059",
     "status": "completed"
    },
    "tags": []
   },
   "outputs": [
    {
     "data": {
      "text/plain": [
       "0"
      ]
     },
     "metadata": {},
     "output_type": "display_data"
    },
    {
     "data": {
      "text/plain": [
       "array([], dtype=float64)"
      ]
     },
     "metadata": {},
     "output_type": "display_data"
    }
   ],
   "source": [
    "# print negative eigenvalues\n",
    "eigs = np.linalg.eigvals(gene_corrs_df.to_numpy())\n",
    "display(len(eigs[eigs < 0]))\n",
    "display(eigs[eigs < 0])"
   ]
  },
  {
   "cell_type": "code",
   "execution_count": 39,
   "id": "6e218436-c3c5-4028-8c94-a4fa6260efce",
   "metadata": {
    "execution": {
     "iopub.execute_input": "2022-08-08T22:57:26.395431Z",
     "iopub.status.busy": "2022-08-08T22:57:26.395220Z",
     "iopub.status.idle": "2022-08-08T22:57:26.414066Z",
     "shell.execute_reply": "2022-08-08T22:57:26.413647Z"
    },
    "papermill": {
     "duration": 0.806115,
     "end_time": "2022-08-08T22:57:26.415257",
     "exception": false,
     "start_time": "2022-08-08T22:57:25.609142",
     "status": "completed"
    },
    "tags": []
   },
   "outputs": [
    {
     "name": "stdout",
     "output_type": "stream",
     "text": [
      "Works!\n"
     ]
    }
   ],
   "source": [
    "try:\n",
    "    chol_mat = np.linalg.cholesky(gene_corrs_df.to_numpy())\n",
    "    cov_inv = np.linalg.inv(chol_mat)\n",
    "    print(\"Works!\")\n",
    "except:\n",
    "    print(\"Cholesky decomposition failed\")"
   ]
  },
  {
   "cell_type": "markdown",
   "id": "8e60a080-edb2-4e9c-b2ef-22961693200c",
   "metadata": {
    "papermill": {
     "duration": 0.776241,
     "end_time": "2022-08-08T22:57:27.969933",
     "exception": false,
     "start_time": "2022-08-08T22:57:27.193692",
     "status": "completed"
    },
    "tags": []
   },
   "source": [
    "## Plot: distribution"
   ]
  },
  {
   "cell_type": "code",
   "execution_count": 40,
   "id": "8301126b-a7d4-4744-9c7d-f0f86eb6f54c",
   "metadata": {
    "execution": {
     "iopub.execute_input": "2022-08-08T22:57:29.619691Z",
     "iopub.status.busy": "2022-08-08T22:57:29.619518Z",
     "iopub.status.idle": "2022-08-08T22:57:33.681652Z",
     "shell.execute_reply": "2022-08-08T22:57:33.681145Z"
    },
    "papermill": {
     "duration": 4.926071,
     "end_time": "2022-08-08T22:57:33.683016",
     "exception": false,
     "start_time": "2022-08-08T22:57:28.756945",
     "status": "completed"
    },
    "tags": []
   },
   "outputs": [
    {
     "data": {
      "image/png": "[encoded data removed]",
      "text/plain": [
       "<Figure size 504x504 with 1 Axes>"
      ]
     },
     "metadata": {
      "needs_background": "light"
     },
     "output_type": "display_data"
    }
   ],
   "source": [
    "with sns.plotting_context(\"paper\", font_scale=1.5):\n",
    "    g = sns.displot(gene_corrs_flat, kde=True, height=7)\n",
    "    g.ax.set_title(\n",
    "        f\"Distribution of gene correlation values in chromosome {CHROMOSOME}\"\n",
    "    )"
   ]
  },
  {
   "cell_type": "markdown",
   "id": "cbd52bca-d878-4a2f-b684-5c83aa3038d4",
   "metadata": {
    "papermill": {
     "duration": 0.777155,
     "end_time": "2022-08-08T22:57:35.266199",
     "exception": false,
     "start_time": "2022-08-08T22:57:34.489044",
     "status": "completed"
    },
    "tags": []
   },
   "source": [
    "## Plot: heatmap"
   ]
  },
  {
   "cell_type": "code",
   "execution_count": 41,
   "id": "d03fe63a-c7b2-4fb9-a53c-db362ce843c9",
   "metadata": {
    "execution": {
     "iopub.execute_input": "2022-08-08T22:57:36.841482Z",
     "iopub.status.busy": "2022-08-08T22:57:36.841319Z",
     "iopub.status.idle": "2022-08-08T22:57:36.858812Z",
     "shell.execute_reply": "2022-08-08T22:57:36.858391Z"
    },
    "papermill": {
     "duration": 0.809862,
     "end_time": "2022-08-08T22:57:36.859978",
     "exception": false,
     "start_time": "2022-08-08T22:57:36.050116",
     "status": "completed"
    },
    "tags": []
   },
   "outputs": [
    {
     "data": {
      "text/plain": [
       "'0.0 / 0.05'"
      ]
     },
     "metadata": {},
     "output_type": "display_data"
    }
   ],
   "source": [
    "vmin_val = min(0.00, gene_corrs_quantiles[0.10])\n",
    "vmax_val = max(0.05, gene_corrs_quantiles[0.90])\n",
    "display(f\"{vmin_val} / {vmax_val}\")"
   ]
  },
  {
   "cell_type": "code",
   "execution_count": 42,
   "id": "dc41b70b-5bcc-4d9e-9f33-a22c4a94dab5",
   "metadata": {
    "execution": {
     "iopub.execute_input": "2022-08-08T22:57:38.422543Z",
     "iopub.status.busy": "2022-08-08T22:57:38.422335Z",
     "iopub.status.idle": "2022-08-08T22:57:38.595507Z",
     "shell.execute_reply": "2022-08-08T22:57:38.594951Z"
    },
    "papermill": {
     "duration": 0.939562,
     "end_time": "2022-08-08T22:57:38.598618",
     "exception": false,
     "start_time": "2022-08-08T22:57:37.659056",
     "status": "completed"
    },
    "tags": []
   },
   "outputs": [
    {
     "data": {
      "text/plain": [
       "Text(0.5, 1.0, 'Gene correlations in chromosome 22')"
      ]
     },
     "execution_count": 42,
     "metadata": {},
     "output_type": "execute_result"
    },
    {
     "data": {
      "image/png": "[encoded data removed]",
      "text/plain": [
       "<Figure size 720x720 with 2 Axes>"
      ]
     },
     "metadata": {
      "needs_background": "light"
     },
     "output_type": "display_data"
    }
   ],
   "source": [
    "f, ax = plt.subplots(figsize=(10, 10))\n",
    "sns.heatmap(\n",
    "    gene_corrs_df,\n",
    "    xticklabels=False,\n",
    "    yticklabels=False,\n",
    "    square=True,\n",
    "    vmin=vmin_val,\n",
    "    vmax=vmax_val,\n",
    "    cmap=\"rocket_r\",\n",
    "    ax=ax,\n",
    ")\n",
    "ax.set_title(f\"Gene correlations in chromosome {CHROMOSOME}\")"
   ]
  },
  {
   "cell_type": "code",
   "execution_count": null,
   "id": "b25e3ead",
   "metadata": {
    "papermill": {
     "duration": 0.791766,
     "end_time": "2022-08-08T22:57:40.177558",
     "exception": false,
     "start_time": "2022-08-08T22:57:39.385792",
     "status": "completed"
    },
    "tags": []
   },
   "outputs": [],
   "source": []
  }
 ],
 "metadata": {
  "jupytext": {
   "cell_metadata_filter": "all,-execution,-papermill,-trusted",
   "formats": "ipynb,py//py:percent"
  },
  "kernelspec": {
   "display_name": "Python 3 (ipykernel)",
   "language": "python",
   "name": "python3"
  },
  "language_info": {
   "codemirror_mode": {
    "name": "ipython",
    "version": 3
   },
   "file_extension": ".py",
   "mimetype": "text/x-python",
   "name": "python",
   "nbconvert_exporter": "python",
   "pygments_lexer": "ipython3",
   "version": "3.8.13"
  },
  "papermill": {
   "default_parameters": {},
   "duration": 1257.374745,
   "end_time": "2022-08-08T22:57:43.804790",
   "environment_variables": {},
   "exception": null,
   "input_path": "nbs/15_gsa_gls/10-gene_expr_correlations.ipynb",
   "output_path": "nbs/15_gsa_gls/gene_corrs/cohorts/1000g_eur/1000g/mashr/10-gene_expr_correlations-chr22.run.ipynb",
   "parameters": {
    "CHROMOSOME": 22,
    "COHORT_NAME": "1000G_EUR",
    "EQTL_MODEL": "MASHR",
    "REFERENCE_PANEL": "1000G"
   },
   "start_time": "2022-08-08T22:36:46.430045",
   "version": "2.2.2"
  }
 },
 "nbformat": 4,
 "nbformat_minor": 5
}
