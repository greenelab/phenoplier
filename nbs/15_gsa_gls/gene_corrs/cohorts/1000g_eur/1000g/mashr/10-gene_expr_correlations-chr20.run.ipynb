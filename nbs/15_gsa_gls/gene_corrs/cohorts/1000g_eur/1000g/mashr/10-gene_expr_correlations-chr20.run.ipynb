{
 "cells": [
  {
   "cell_type": "markdown",
   "id": "7a6632fb",
   "metadata": {
    "papermill": {
     "duration": 0.037005,
     "end_time": "2022-08-02T20:33:14.286085",
     "exception": false,
     "start_time": "2022-08-02T20:33:14.249080",
     "status": "completed"
    },
    "tags": []
   },
   "source": [
    "# Description"
   ]
  },
  {
   "cell_type": "markdown",
   "id": "7097c346",
   "metadata": {
    "papermill": {
     "duration": 0.065911,
     "end_time": "2022-08-02T20:33:14.384703",
     "exception": false,
     "start_time": "2022-08-02T20:33:14.318792",
     "status": "completed"
    },
    "tags": []
   },
   "source": [
    "(Please, take a look at the README.md file in this directory for instructions on how to run this notebook)\n",
    "\n",
    "This notebook computes predicted expression correlations between all genes in the MultiPLIER models.\n",
    "\n",
    "It also has a parameter set for papermill to run on a single chromosome to run in parallel (see under `Settings` below).\n",
    "\n",
    "This notebook is not directly run. See README.md."
   ]
  },
  {
   "cell_type": "markdown",
   "id": "c61d8427",
   "metadata": {
    "papermill": {
     "duration": 0.011383,
     "end_time": "2022-08-02T20:33:14.407259",
     "exception": false,
     "start_time": "2022-08-02T20:33:14.395876",
     "status": "completed"
    },
    "tags": []
   },
   "source": [
    "# Modules"
   ]
  },
  {
   "cell_type": "code",
   "execution_count": 1,
   "id": "bbc0234f",
   "metadata": {
    "execution": {
     "iopub.execute_input": "2022-08-02T20:33:14.432143Z",
     "iopub.status.busy": "2022-08-02T20:33:14.431824Z",
     "iopub.status.idle": "2022-08-02T20:33:14.530317Z",
     "shell.execute_reply": "2022-08-02T20:33:14.529743Z"
    },
    "papermill": {
     "duration": 0.114107,
     "end_time": "2022-08-02T20:33:14.532113",
     "exception": false,
     "start_time": "2022-08-02T20:33:14.418006",
     "status": "completed"
    },
    "tags": []
   },
   "outputs": [],
   "source": [
    "%load_ext autoreload\n",
    "%autoreload 2"
   ]
  },
  {
   "cell_type": "code",
   "execution_count": 2,
   "id": "1d5f5a59",
   "metadata": {
    "execution": {
     "iopub.execute_input": "2022-08-02T20:33:14.558669Z",
     "iopub.status.busy": "2022-08-02T20:33:14.558476Z",
     "iopub.status.idle": "2022-08-02T20:33:17.592365Z",
     "shell.execute_reply": "2022-08-02T20:33:17.591718Z"
    },
    "papermill": {
     "duration": 3.050275,
     "end_time": "2022-08-02T20:33:17.594390",
     "exception": false,
     "start_time": "2022-08-02T20:33:14.544115",
     "status": "completed"
    },
    "tags": []
   },
   "outputs": [],
   "source": [
    "from random import sample, seed\n",
    "import warnings\n",
    "from pathlib import Path\n",
    "import pickle\n",
    "import traceback\n",
    "\n",
    "import numpy as np\n",
    "from scipy.spatial.distance import squareform\n",
    "import pandas as pd\n",
    "from tqdm import tqdm\n",
    "import matplotlib.pyplot as plt\n",
    "import seaborn as sns\n",
    "\n",
    "import conf\n",
    "from entity import Gene"
   ]
  },
  {
   "cell_type": "markdown",
   "id": "1eac24b5",
   "metadata": {
    "papermill": {
     "duration": 0.008658,
     "end_time": "2022-08-02T20:33:17.613329",
     "exception": false,
     "start_time": "2022-08-02T20:33:17.604671",
     "status": "completed"
    },
    "tags": []
   },
   "source": [
    "# Settings"
   ]
  },
  {
   "cell_type": "code",
   "execution_count": 3,
   "id": "ca4560ba",
   "metadata": {
    "execution": {
     "iopub.execute_input": "2022-08-02T20:33:17.632996Z",
     "iopub.status.busy": "2022-08-02T20:33:17.632755Z",
     "iopub.status.idle": "2022-08-02T20:33:17.817249Z",
     "shell.execute_reply": "2022-08-02T20:33:17.816702Z"
    },
    "papermill": {
     "duration": 0.19631,
     "end_time": "2022-08-02T20:33:17.818937",
     "exception": false,
     "start_time": "2022-08-02T20:33:17.622627",
     "status": "completed"
    },
    "tags": [
     "parameters"
    ]
   },
   "outputs": [],
   "source": [
    "# a cohort name (it could be something like UK_BIOBANK, etc)\n",
    "COHORT_NAME = None\n",
    "\n",
    "# reference panel such as 1000G or GTEX_V8\n",
    "REFERENCE_PANEL = None\n",
    "\n",
    "# predictions models such as MASHR or ELASTIC_NET\n",
    "EQTL_MODEL = None\n",
    "\n",
    "# this is the default value used in S-MultiXcan to select the\n",
    "# top principal components of the expression correlation matrix\n",
    "SMULTIXCAN_CONDITION_NUMBER = 30\n",
    "\n",
    "# specifies a single chromosome value\n",
    "CHROMOSOME = None\n",
    "\n",
    "# If True, computes the correlation between closeby genes only;\n",
    "# otherwise, it computes correlations for all genes in a chromosome\n",
    "COMPUTE_CORRELATIONS_WITHIN_DISTANCE = False\n",
    "\n",
    "# if True, then it will continue if a gene pair correlation fails,\n",
    "# printing the warning/error for debugging. If False, any warning/error\n",
    "# will be thrown\n",
    "DEBUG_MODE = False"
   ]
  },
  {
   "cell_type": "code",
   "execution_count": 4,
   "id": "7d9b9ead",
   "metadata": {
    "execution": {
     "iopub.execute_input": "2022-08-02T20:33:17.844364Z",
     "iopub.status.busy": "2022-08-02T20:33:17.844150Z",
     "iopub.status.idle": "2022-08-02T20:33:17.862227Z",
     "shell.execute_reply": "2022-08-02T20:33:17.861686Z"
    },
    "papermill": {
     "duration": 0.032765,
     "end_time": "2022-08-02T20:33:17.863919",
     "exception": false,
     "start_time": "2022-08-02T20:33:17.831154",
     "status": "completed"
    },
    "tags": [
     "injected-parameters"
    ]
   },
   "outputs": [],
   "source": [
    "# Parameters\n",
    "COHORT_NAME = \"1000G_EUR\"\n",
    "REFERENCE_PANEL = \"1000G\"\n",
    "EQTL_MODEL = \"MASHR\"\n",
    "CHROMOSOME = 20\n"
   ]
  },
  {
   "cell_type": "code",
   "execution_count": 5,
   "id": "3190631f-27fc-480f-b18e-571d580425a5",
   "metadata": {
    "execution": {
     "iopub.execute_input": "2022-08-02T20:33:17.883677Z",
     "iopub.status.busy": "2022-08-02T20:33:17.883480Z",
     "iopub.status.idle": "2022-08-02T20:33:17.903953Z",
     "shell.execute_reply": "2022-08-02T20:33:17.903416Z"
    },
    "papermill": {
     "duration": 0.031964,
     "end_time": "2022-08-02T20:33:17.905503",
     "exception": false,
     "start_time": "2022-08-02T20:33:17.873539",
     "status": "completed"
    },
    "tags": []
   },
   "outputs": [
    {
     "data": {
      "text/plain": [
       "'Cohort name: 1000g_eur'"
      ]
     },
     "metadata": {},
     "output_type": "display_data"
    }
   ],
   "source": [
    "assert COHORT_NAME is not None and len(COHORT_NAME) > 0, \"A cohort name must be given\"\n",
    "\n",
    "COHORT_NAME = COHORT_NAME.lower()\n",
    "display(f\"Cohort name: {COHORT_NAME}\")"
   ]
  },
  {
   "cell_type": "code",
   "execution_count": 6,
   "id": "f53ba19b-0f93-4fa2-a047-63b375939d1a",
   "metadata": {
    "execution": {
     "iopub.execute_input": "2022-08-02T20:33:17.933731Z",
     "iopub.status.busy": "2022-08-02T20:33:17.933533Z",
     "iopub.status.idle": "2022-08-02T20:33:17.952096Z",
     "shell.execute_reply": "2022-08-02T20:33:17.951566Z"
    },
    "papermill": {
     "duration": 0.034028,
     "end_time": "2022-08-02T20:33:17.953640",
     "exception": false,
     "start_time": "2022-08-02T20:33:17.919612",
     "status": "completed"
    },
    "tags": []
   },
   "outputs": [
    {
     "data": {
      "text/plain": [
       "'Reference panel: 1000G'"
      ]
     },
     "metadata": {},
     "output_type": "display_data"
    }
   ],
   "source": [
    "assert (\n",
    "    REFERENCE_PANEL is not None and len(REFERENCE_PANEL) > 0\n",
    "), \"A reference panel must be given\"\n",
    "\n",
    "display(f\"Reference panel: {REFERENCE_PANEL}\")"
   ]
  },
  {
   "cell_type": "code",
   "execution_count": 7,
   "id": "e024d130-c139-429a-9c6e-ccf149e297b0",
   "metadata": {
    "execution": {
     "iopub.execute_input": "2022-08-02T20:33:17.994301Z",
     "iopub.status.busy": "2022-08-02T20:33:17.994087Z",
     "iopub.status.idle": "2022-08-02T20:33:18.059829Z",
     "shell.execute_reply": "2022-08-02T20:33:18.059310Z"
    },
    "papermill": {
     "duration": 0.091471,
     "end_time": "2022-08-02T20:33:18.061416",
     "exception": false,
     "start_time": "2022-08-02T20:33:17.969945",
     "status": "completed"
    },
    "tags": []
   },
   "outputs": [
    {
     "data": {
      "text/plain": [
       "'eQTL model: MASHR) / mashr_'"
      ]
     },
     "metadata": {},
     "output_type": "display_data"
    }
   ],
   "source": [
    "assert (\n",
    "    EQTL_MODEL is not None and len(EQTL_MODEL) > 0\n",
    "), \"A prediction/eQTL model must be given\"\n",
    "\n",
    "EQTL_MODEL_FILES_PREFIX = conf.PHENOMEXCAN[\"PREDICTION_MODELS\"][f\"{EQTL_MODEL}_PREFIX\"]\n",
    "display(f\"eQTL model: {EQTL_MODEL}) / {EQTL_MODEL_FILES_PREFIX}\")"
   ]
  },
  {
   "cell_type": "code",
   "execution_count": 8,
   "id": "552a7f63-a18c-4d3e-bb6a-94f99b431291",
   "metadata": {
    "execution": {
     "iopub.execute_input": "2022-08-02T20:33:18.106252Z",
     "iopub.status.busy": "2022-08-02T20:33:18.106037Z",
     "iopub.status.idle": "2022-08-02T20:33:18.167196Z",
     "shell.execute_reply": "2022-08-02T20:33:18.166631Z"
    },
    "papermill": {
     "duration": 0.08426,
     "end_time": "2022-08-02T20:33:18.168742",
     "exception": false,
     "start_time": "2022-08-02T20:33:18.084482",
     "status": "completed"
    },
    "tags": []
   },
   "outputs": [
    {
     "data": {
      "text/plain": [
       "'S-MultiXcan condition number: 30'"
      ]
     },
     "metadata": {},
     "output_type": "display_data"
    }
   ],
   "source": [
    "assert (\n",
    "    SMULTIXCAN_CONDITION_NUMBER is not None and SMULTIXCAN_CONDITION_NUMBER > 0\n",
    "), \"The S-MultiXcan condition number (positive integer) must be given\"\n",
    "\n",
    "display(f\"S-MultiXcan condition number: {SMULTIXCAN_CONDITION_NUMBER}\")"
   ]
  },
  {
   "cell_type": "code",
   "execution_count": 9,
   "id": "f34a336f-548e-4afe-8955-90eaea4f42c6",
   "metadata": {
    "execution": {
     "iopub.execute_input": "2022-08-02T20:33:18.221137Z",
     "iopub.status.busy": "2022-08-02T20:33:18.220935Z",
     "iopub.status.idle": "2022-08-02T20:33:19.070203Z",
     "shell.execute_reply": "2022-08-02T20:33:19.069595Z"
    },
    "papermill": {
     "duration": 0.878093,
     "end_time": "2022-08-02T20:33:19.071905",
     "exception": false,
     "start_time": "2022-08-02T20:33:18.193812",
     "status": "completed"
    },
    "tags": []
   },
   "outputs": [
    {
     "data": {
      "text/plain": [
       "'Working on chromosome 20'"
      ]
     },
     "metadata": {},
     "output_type": "display_data"
    }
   ],
   "source": [
    "assert CHROMOSOME is not None and (\n",
    "    1 <= CHROMOSOME <= 22\n",
    "), \"You have to select one chromosome (format: number between 1 and 22)\"\n",
    "\n",
    "CHROMOSOME = str(CHROMOSOME)\n",
    "display(f\"Working on chromosome {CHROMOSOME}\")"
   ]
  },
  {
   "cell_type": "code",
   "execution_count": 10,
   "id": "ab8e96e8-06b5-4363-9dcd-dc4d78cc27f7",
   "metadata": {
    "execution": {
     "iopub.execute_input": "2022-08-02T20:33:19.098596Z",
     "iopub.status.busy": "2022-08-02T20:33:19.098334Z",
     "iopub.status.idle": "2022-08-02T20:33:19.292066Z",
     "shell.execute_reply": "2022-08-02T20:33:19.291494Z"
    },
    "papermill": {
     "duration": 0.207927,
     "end_time": "2022-08-02T20:33:19.293702",
     "exception": false,
     "start_time": "2022-08-02T20:33:19.085775",
     "status": "completed"
    },
    "tags": []
   },
   "outputs": [
    {
     "data": {
      "text/plain": [
       "'Compute correlation within distance False'"
      ]
     },
     "metadata": {},
     "output_type": "display_data"
    }
   ],
   "source": [
    "display(f\"Compute correlation within distance {COMPUTE_CORRELATIONS_WITHIN_DISTANCE}\")"
   ]
  },
  {
   "cell_type": "code",
   "execution_count": 11,
   "id": "396392dc-0340-4540-9b02-e182b833f909",
   "metadata": {
    "execution": {
     "iopub.execute_input": "2022-08-02T20:33:19.319369Z",
     "iopub.status.busy": "2022-08-02T20:33:19.319144Z",
     "iopub.status.idle": "2022-08-02T20:33:19.355434Z",
     "shell.execute_reply": "2022-08-02T20:33:19.354900Z"
    },
    "papermill": {
     "duration": 0.049974,
     "end_time": "2022-08-02T20:33:19.357019",
     "exception": false,
     "start_time": "2022-08-02T20:33:19.307045",
     "status": "completed"
    },
    "tags": []
   },
   "outputs": [
    {
     "data": {
      "text/plain": [
       "'Using output dir base: /project/ritchie20/projects/phenoplier/base/results/gls/gene_corrs/cohorts/1000g_eur/1000g/mashr'"
      ]
     },
     "metadata": {},
     "output_type": "display_data"
    }
   ],
   "source": [
    "OUTPUT_DIR_BASE = (\n",
    "    conf.RESULTS[\"GLS\"]\n",
    "    / \"gene_corrs\"\n",
    "    / \"cohorts\"\n",
    "    / COHORT_NAME\n",
    "    / REFERENCE_PANEL.lower()\n",
    "    / EQTL_MODEL.lower()\n",
    ")\n",
    "OUTPUT_DIR_BASE.mkdir(parents=True, exist_ok=True)\n",
    "\n",
    "display(f\"Using output dir base: {OUTPUT_DIR_BASE}\")"
   ]
  },
  {
   "cell_type": "markdown",
   "id": "d2ba085e",
   "metadata": {
    "papermill": {
     "duration": 0.017829,
     "end_time": "2022-08-02T20:33:19.388852",
     "exception": false,
     "start_time": "2022-08-02T20:33:19.371023",
     "status": "completed"
    },
    "tags": []
   },
   "source": [
    "# Load data"
   ]
  },
  {
   "cell_type": "markdown",
   "id": "7dcb8db7",
   "metadata": {
    "papermill": {
     "duration": 0.019041,
     "end_time": "2022-08-02T20:33:19.421453",
     "exception": false,
     "start_time": "2022-08-02T20:33:19.402412",
     "status": "completed"
    },
    "tags": []
   },
   "source": [
    "## GWAS variants"
   ]
  },
  {
   "cell_type": "code",
   "execution_count": 12,
   "id": "29434c4e-8cd3-4b9b-82e4-b5a251d9dd19",
   "metadata": {
    "execution": {
     "iopub.execute_input": "2022-08-02T20:33:19.460949Z",
     "iopub.status.busy": "2022-08-02T20:33:19.460664Z",
     "iopub.status.idle": "2022-08-02T20:33:22.792647Z",
     "shell.execute_reply": "2022-08-02T20:33:22.791767Z"
    },
    "papermill": {
     "duration": 3.355851,
     "end_time": "2022-08-02T20:33:22.794809",
     "exception": false,
     "start_time": "2022-08-02T20:33:19.438958",
     "status": "completed"
    },
    "tags": []
   },
   "outputs": [],
   "source": [
    "with open(OUTPUT_DIR_BASE / \"gwas_variant_ids.pkl\", \"rb\") as handle:\n",
    "    gwas_variants_ids_set = pickle.load(handle)"
   ]
  },
  {
   "cell_type": "code",
   "execution_count": 13,
   "id": "b9d9dec2-4a76-4bf9-bde2-e24c95acb8a0",
   "metadata": {
    "execution": {
     "iopub.execute_input": "2022-08-02T20:33:22.815636Z",
     "iopub.status.busy": "2022-08-02T20:33:22.815420Z",
     "iopub.status.idle": "2022-08-02T20:33:22.862215Z",
     "shell.execute_reply": "2022-08-02T20:33:22.861670Z"
    },
    "papermill": {
     "duration": 0.058829,
     "end_time": "2022-08-02T20:33:22.863743",
     "exception": false,
     "start_time": "2022-08-02T20:33:22.804914",
     "status": "completed"
    },
    "tags": []
   },
   "outputs": [
    {
     "data": {
      "text/plain": [
       "8325729"
      ]
     },
     "execution_count": 13,
     "metadata": {},
     "output_type": "execute_result"
    }
   ],
   "source": [
    "len(gwas_variants_ids_set)"
   ]
  },
  {
   "cell_type": "code",
   "execution_count": 14,
   "id": "4235b06a-6034-4ee4-a0a3-2ae35d122418",
   "metadata": {
    "execution": {
     "iopub.execute_input": "2022-08-02T20:33:22.883993Z",
     "iopub.status.busy": "2022-08-02T20:33:22.883772Z",
     "iopub.status.idle": "2022-08-02T20:33:23.443184Z",
     "shell.execute_reply": "2022-08-02T20:33:23.442593Z"
    },
    "papermill": {
     "duration": 0.571571,
     "end_time": "2022-08-02T20:33:23.444808",
     "exception": false,
     "start_time": "2022-08-02T20:33:22.873237",
     "status": "completed"
    },
    "tags": []
   },
   "outputs": [
    {
     "data": {
      "text/plain": [
       "['chr6_70219211_C_A_b38',\n",
       " 'chr20_1885372_C_CA_b38',\n",
       " 'chr17_47756484_C_G_b38',\n",
       " 'chr4_114201864_G_A_b38',\n",
       " 'chr15_68353408_C_T_b38']"
      ]
     },
     "execution_count": 14,
     "metadata": {},
     "output_type": "execute_result"
    }
   ],
   "source": [
    "list(gwas_variants_ids_set)[:5]"
   ]
  },
  {
   "cell_type": "markdown",
   "id": "07866999-2305-41f9-a144-e69c9122c212",
   "metadata": {
    "papermill": {
     "duration": 0.01868,
     "end_time": "2022-08-02T20:33:23.483421",
     "exception": false,
     "start_time": "2022-08-02T20:33:23.464741",
     "status": "completed"
    },
    "tags": []
   },
   "source": [
    "## S-PrediXcan tissue models"
   ]
  },
  {
   "cell_type": "code",
   "execution_count": 15,
   "id": "780611d9-77c8-405f-90a4-f271f7b09397",
   "metadata": {
    "execution": {
     "iopub.execute_input": "2022-08-02T20:33:23.510138Z",
     "iopub.status.busy": "2022-08-02T20:33:23.509928Z",
     "iopub.status.idle": "2022-08-02T20:33:24.561123Z",
     "shell.execute_reply": "2022-08-02T20:33:24.560502Z"
    },
    "papermill": {
     "duration": 1.067141,
     "end_time": "2022-08-02T20:33:24.563168",
     "exception": false,
     "start_time": "2022-08-02T20:33:23.496027",
     "status": "completed"
    },
    "tags": []
   },
   "outputs": [],
   "source": [
    "spredixcan_genes_models = pd.read_pickle(OUTPUT_DIR_BASE / \"gene_tissues.pkl\")"
   ]
  },
  {
   "cell_type": "code",
   "execution_count": 16,
   "id": "726dd1f6-9557-4225-91fa-b3b879ea96e1",
   "metadata": {
    "execution": {
     "iopub.execute_input": "2022-08-02T20:33:24.590314Z",
     "iopub.status.busy": "2022-08-02T20:33:24.590091Z",
     "iopub.status.idle": "2022-08-02T20:33:26.556460Z",
     "shell.execute_reply": "2022-08-02T20:33:26.555858Z"
    },
    "papermill": {
     "duration": 1.980468,
     "end_time": "2022-08-02T20:33:26.558133",
     "exception": false,
     "start_time": "2022-08-02T20:33:24.577665",
     "status": "completed"
    },
    "tags": []
   },
   "outputs": [
    {
     "data": {
      "text/plain": [
       "(6444, 10)"
      ]
     },
     "execution_count": 16,
     "metadata": {},
     "output_type": "execute_result"
    }
   ],
   "source": [
    "spredixcan_genes_models.shape"
   ]
  },
  {
   "cell_type": "code",
   "execution_count": 17,
   "id": "944a1b48-222c-4eb0-b252-b9de2cbca215",
   "metadata": {
    "execution": {
     "iopub.execute_input": "2022-08-02T20:33:26.594792Z",
     "iopub.status.busy": "2022-08-02T20:33:26.594575Z",
     "iopub.status.idle": "2022-08-02T20:33:26.638650Z",
     "shell.execute_reply": "2022-08-02T20:33:26.638116Z"
    },
    "papermill": {
     "duration": 0.065035,
     "end_time": "2022-08-02T20:33:26.640281",
     "exception": false,
     "start_time": "2022-08-02T20:33:26.575246",
     "status": "completed"
    },
    "tags": []
   },
   "outputs": [
    {
     "data": {
      "text/html": [
       "<div>\n",
       "<style scoped>\n",
       "    .dataframe tbody tr th:only-of-type {\n",
       "        vertical-align: middle;\n",
       "    }\n",
       "\n",
       "    .dataframe tbody tr th {\n",
       "        vertical-align: top;\n",
       "    }\n",
       "\n",
       "    .dataframe thead th {\n",
       "        text-align: right;\n",
       "    }\n",
       "</style>\n",
       "<table border=\"1\" class=\"dataframe\">\n",
       "  <thead>\n",
       "    <tr style=\"text-align: right;\">\n",
       "      <th></th>\n",
       "      <th>gene_name</th>\n",
       "      <th>tissue</th>\n",
       "      <th>n_tissues</th>\n",
       "      <th>tissues_pc_variances</th>\n",
       "      <th>tissues_pc_variances_cov</th>\n",
       "      <th>tissues_variances</th>\n",
       "      <th>n_snps_used_sum</th>\n",
       "      <th>n_snps_in_model_sum</th>\n",
       "      <th>unique_n_snps_in_model</th>\n",
       "      <th>unique_n_snps_used</th>\n",
       "    </tr>\n",
       "    <tr>\n",
       "      <th>gene_id</th>\n",
       "      <th></th>\n",
       "      <th></th>\n",
       "      <th></th>\n",
       "      <th></th>\n",
       "      <th></th>\n",
       "      <th></th>\n",
       "      <th></th>\n",
       "      <th></th>\n",
       "      <th></th>\n",
       "      <th></th>\n",
       "    </tr>\n",
       "  </thead>\n",
       "  <tbody>\n",
       "    <tr>\n",
       "      <th>ENSG00000000419</th>\n",
       "      <td>DPM1</td>\n",
       "      <td>(Brain_Substantia_nigra, Brain_Hypothalamus)</td>\n",
       "      <td>2</td>\n",
       "      <td>[1.0372585612589562, 0.9627414387410438]</td>\n",
       "      <td>[0.008284978865240098, 0.000732674839341259]</td>\n",
       "      <td>{'Brain_Substantia_nigra': 0.00073379232755585...</td>\n",
       "      <td>2</td>\n",
       "      <td>2</td>\n",
       "      <td>2</td>\n",
       "      <td>2</td>\n",
       "    </tr>\n",
       "    <tr>\n",
       "      <th>ENSG00000000938</th>\n",
       "      <td>FGR</td>\n",
       "      <td>(Artery_Aorta, Heart_Left_Ventricle, Skin_Not_...</td>\n",
       "      <td>36</td>\n",
       "      <td>[30.57880701512375, 2.029732645600111, 1.40179...</td>\n",
       "      <td>[0.22478471249969334, 0.00881387381303179]</td>\n",
       "      <td>{'Brain_Cerebellum': 0.020204550992367513, 'Ne...</td>\n",
       "      <td>40</td>\n",
       "      <td>40</td>\n",
       "      <td>5</td>\n",
       "      <td>5</td>\n",
       "    </tr>\n",
       "    <tr>\n",
       "      <th>ENSG00000000971</th>\n",
       "      <td>CFH</td>\n",
       "      <td>(Artery_Aorta, Heart_Left_Ventricle, Skin_Not_...</td>\n",
       "      <td>34</td>\n",
       "      <td>[20.77260827663932, 8.17715814232484, 1.864649...</td>\n",
       "      <td>[0.19699534279580108, 0.05731825316349161, 0.0...</td>\n",
       "      <td>{'Brain_Cerebellum': 0.0042432870992385, 'Nerv...</td>\n",
       "      <td>44</td>\n",
       "      <td>44</td>\n",
       "      <td>12</td>\n",
       "      <td>12</td>\n",
       "    </tr>\n",
       "    <tr>\n",
       "      <th>ENSG00000001084</th>\n",
       "      <td>GCLC</td>\n",
       "      <td>(Artery_Aorta, Heart_Left_Ventricle, Skin_Not_...</td>\n",
       "      <td>32</td>\n",
       "      <td>[20.976449940269084, 4.772354749306766, 2.2362...</td>\n",
       "      <td>[0.36578096389253945, 0.12645413710424552, 0.0...</td>\n",
       "      <td>{'Brain_Cerebellum': 0.03163805534230767, 'Ner...</td>\n",
       "      <td>46</td>\n",
       "      <td>46</td>\n",
       "      <td>23</td>\n",
       "      <td>23</td>\n",
       "    </tr>\n",
       "    <tr>\n",
       "      <th>ENSG00000001167</th>\n",
       "      <td>NFYA</td>\n",
       "      <td>(Artery_Aorta, Heart_Left_Ventricle, Skin_Not_...</td>\n",
       "      <td>40</td>\n",
       "      <td>[37.638369782404986]</td>\n",
       "      <td>[1.4787144508923995, 0.049690618387739104]</td>\n",
       "      <td>{'Brain_Cerebellum': 0.1311467889326876, 'Nerv...</td>\n",
       "      <td>47</td>\n",
       "      <td>48</td>\n",
       "      <td>14</td>\n",
       "      <td>13</td>\n",
       "    </tr>\n",
       "  </tbody>\n",
       "</table>\n",
       "</div>"
      ],
      "text/plain": [
       "                gene_name                                             tissue  \\\n",
       "gene_id                                                                        \n",
       "ENSG00000000419      DPM1       (Brain_Substantia_nigra, Brain_Hypothalamus)   \n",
       "ENSG00000000938       FGR  (Artery_Aorta, Heart_Left_Ventricle, Skin_Not_...   \n",
       "ENSG00000000971       CFH  (Artery_Aorta, Heart_Left_Ventricle, Skin_Not_...   \n",
       "ENSG00000001084      GCLC  (Artery_Aorta, Heart_Left_Ventricle, Skin_Not_...   \n",
       "ENSG00000001167      NFYA  (Artery_Aorta, Heart_Left_Ventricle, Skin_Not_...   \n",
       "\n",
       "                 n_tissues                               tissues_pc_variances  \\\n",
       "gene_id                                                                         \n",
       "ENSG00000000419          2           [1.0372585612589562, 0.9627414387410438]   \n",
       "ENSG00000000938         36  [30.57880701512375, 2.029732645600111, 1.40179...   \n",
       "ENSG00000000971         34  [20.77260827663932, 8.17715814232484, 1.864649...   \n",
       "ENSG00000001084         32  [20.976449940269084, 4.772354749306766, 2.2362...   \n",
       "ENSG00000001167         40                               [37.638369782404986]   \n",
       "\n",
       "                                          tissues_pc_variances_cov  \\\n",
       "gene_id                                                              \n",
       "ENSG00000000419       [0.008284978865240098, 0.000732674839341259]   \n",
       "ENSG00000000938         [0.22478471249969334, 0.00881387381303179]   \n",
       "ENSG00000000971  [0.19699534279580108, 0.05731825316349161, 0.0...   \n",
       "ENSG00000001084  [0.36578096389253945, 0.12645413710424552, 0.0...   \n",
       "ENSG00000001167         [1.4787144508923995, 0.049690618387739104]   \n",
       "\n",
       "                                                 tissues_variances  \\\n",
       "gene_id                                                              \n",
       "ENSG00000000419  {'Brain_Substantia_nigra': 0.00073379232755585...   \n",
       "ENSG00000000938  {'Brain_Cerebellum': 0.020204550992367513, 'Ne...   \n",
       "ENSG00000000971  {'Brain_Cerebellum': 0.0042432870992385, 'Nerv...   \n",
       "ENSG00000001084  {'Brain_Cerebellum': 0.03163805534230767, 'Ner...   \n",
       "ENSG00000001167  {'Brain_Cerebellum': 0.1311467889326876, 'Nerv...   \n",
       "\n",
       "                 n_snps_used_sum  n_snps_in_model_sum  unique_n_snps_in_model  \\\n",
       "gene_id                                                                         \n",
       "ENSG00000000419                2                    2                       2   \n",
       "ENSG00000000938               40                   40                       5   \n",
       "ENSG00000000971               44                   44                      12   \n",
       "ENSG00000001084               46                   46                      23   \n",
       "ENSG00000001167               47                   48                      14   \n",
       "\n",
       "                 unique_n_snps_used  \n",
       "gene_id                              \n",
       "ENSG00000000419                   2  \n",
       "ENSG00000000938                   5  \n",
       "ENSG00000000971                  12  \n",
       "ENSG00000001084                  23  \n",
       "ENSG00000001167                  13  "
      ]
     },
     "execution_count": 17,
     "metadata": {},
     "output_type": "execute_result"
    }
   ],
   "source": [
    "spredixcan_genes_models.head()"
   ]
  },
  {
   "cell_type": "code",
   "execution_count": 18,
   "id": "d1c11bb1-be0b-4f40-b360-633d6827109f",
   "metadata": {
    "execution": {
     "iopub.execute_input": "2022-08-02T20:33:26.690245Z",
     "iopub.status.busy": "2022-08-02T20:33:26.690007Z",
     "iopub.status.idle": "2022-08-02T20:33:26.709830Z",
     "shell.execute_reply": "2022-08-02T20:33:26.709323Z"
    },
    "papermill": {
     "duration": 0.042473,
     "end_time": "2022-08-02T20:33:26.711551",
     "exception": false,
     "start_time": "2022-08-02T20:33:26.669078",
     "status": "completed"
    },
    "tags": []
   },
   "outputs": [],
   "source": [
    "assert spredixcan_genes_models.index.is_unique"
   ]
  },
  {
   "cell_type": "markdown",
   "id": "a5b5092c-a13e-47c4-a92a-480fcc08f3ae",
   "metadata": {
    "papermill": {
     "duration": 0.016804,
     "end_time": "2022-08-02T20:33:26.746847",
     "exception": false,
     "start_time": "2022-08-02T20:33:26.730043",
     "status": "completed"
    },
    "tags": []
   },
   "source": [
    "## Gene info"
   ]
  },
  {
   "cell_type": "code",
   "execution_count": 19,
   "id": "7d6bb224-88e9-4358-ac10-43a41d92cdad",
   "metadata": {
    "execution": {
     "iopub.execute_input": "2022-08-02T20:33:26.784056Z",
     "iopub.status.busy": "2022-08-02T20:33:26.783772Z",
     "iopub.status.idle": "2022-08-02T20:33:26.813149Z",
     "shell.execute_reply": "2022-08-02T20:33:26.812589Z"
    },
    "papermill": {
     "duration": 0.050518,
     "end_time": "2022-08-02T20:33:26.814932",
     "exception": false,
     "start_time": "2022-08-02T20:33:26.764414",
     "status": "completed"
    },
    "tags": []
   },
   "outputs": [],
   "source": [
    "genes_info = pd.read_pickle(OUTPUT_DIR_BASE / \"genes_info.pkl\")"
   ]
  },
  {
   "cell_type": "code",
   "execution_count": 20,
   "id": "9e32abfa-546d-483e-8c18-d526e9e05903",
   "metadata": {
    "execution": {
     "iopub.execute_input": "2022-08-02T20:33:26.850551Z",
     "iopub.status.busy": "2022-08-02T20:33:26.850324Z",
     "iopub.status.idle": "2022-08-02T20:33:26.871363Z",
     "shell.execute_reply": "2022-08-02T20:33:26.870806Z"
    },
    "papermill": {
     "duration": 0.039619,
     "end_time": "2022-08-02T20:33:26.872948",
     "exception": false,
     "start_time": "2022-08-02T20:33:26.833329",
     "status": "completed"
    },
    "tags": []
   },
   "outputs": [
    {
     "data": {
      "text/plain": [
       "(6444, 7)"
      ]
     },
     "execution_count": 20,
     "metadata": {},
     "output_type": "execute_result"
    }
   ],
   "source": [
    "genes_info.shape"
   ]
  },
  {
   "cell_type": "code",
   "execution_count": 21,
   "id": "d16c3e92-85ec-468a-9a56-e25a9774a1cb",
   "metadata": {
    "execution": {
     "iopub.execute_input": "2022-08-02T20:33:26.908779Z",
     "iopub.status.busy": "2022-08-02T20:33:26.908565Z",
     "iopub.status.idle": "2022-08-02T20:33:26.936453Z",
     "shell.execute_reply": "2022-08-02T20:33:26.935857Z"
    },
    "papermill": {
     "duration": 0.048298,
     "end_time": "2022-08-02T20:33:26.938138",
     "exception": false,
     "start_time": "2022-08-02T20:33:26.889840",
     "status": "completed"
    },
    "tags": []
   },
   "outputs": [
    {
     "data": {
      "text/html": [
       "<div>\n",
       "<style scoped>\n",
       "    .dataframe tbody tr th:only-of-type {\n",
       "        vertical-align: middle;\n",
       "    }\n",
       "\n",
       "    .dataframe tbody tr th {\n",
       "        vertical-align: top;\n",
       "    }\n",
       "\n",
       "    .dataframe thead th {\n",
       "        text-align: right;\n",
       "    }\n",
       "</style>\n",
       "<table border=\"1\" class=\"dataframe\">\n",
       "  <thead>\n",
       "    <tr style=\"text-align: right;\">\n",
       "      <th></th>\n",
       "      <th>name</th>\n",
       "      <th>id</th>\n",
       "      <th>chr</th>\n",
       "      <th>band</th>\n",
       "      <th>start_position</th>\n",
       "      <th>end_position</th>\n",
       "      <th>gene_length</th>\n",
       "    </tr>\n",
       "  </thead>\n",
       "  <tbody>\n",
       "    <tr>\n",
       "      <th>0</th>\n",
       "      <td>CDC14B</td>\n",
       "      <td>ENSG00000081377</td>\n",
       "      <td>9</td>\n",
       "      <td>9q22.33</td>\n",
       "      <td>96490241.0</td>\n",
       "      <td>96619830.0</td>\n",
       "      <td>129589.0</td>\n",
       "    </tr>\n",
       "    <tr>\n",
       "      <th>1</th>\n",
       "      <td>DOCK3</td>\n",
       "      <td>ENSG00000088538</td>\n",
       "      <td>3</td>\n",
       "      <td>3p21.2</td>\n",
       "      <td>50674927.0</td>\n",
       "      <td>51384198.0</td>\n",
       "      <td>709271.0</td>\n",
       "    </tr>\n",
       "    <tr>\n",
       "      <th>2</th>\n",
       "      <td>SLCO4C1</td>\n",
       "      <td>ENSG00000173930</td>\n",
       "      <td>5</td>\n",
       "      <td>5q21.1</td>\n",
       "      <td>102233986.0</td>\n",
       "      <td>102296284.0</td>\n",
       "      <td>62298.0</td>\n",
       "    </tr>\n",
       "    <tr>\n",
       "      <th>3</th>\n",
       "      <td>UST</td>\n",
       "      <td>ENSG00000111962</td>\n",
       "      <td>6</td>\n",
       "      <td>6q25.1</td>\n",
       "      <td>148747030.0</td>\n",
       "      <td>149076990.0</td>\n",
       "      <td>329960.0</td>\n",
       "    </tr>\n",
       "    <tr>\n",
       "      <th>4</th>\n",
       "      <td>CFH</td>\n",
       "      <td>ENSG00000000971</td>\n",
       "      <td>1</td>\n",
       "      <td>1q31.3</td>\n",
       "      <td>196651878.0</td>\n",
       "      <td>196747504.0</td>\n",
       "      <td>95626.0</td>\n",
       "    </tr>\n",
       "  </tbody>\n",
       "</table>\n",
       "</div>"
      ],
      "text/plain": [
       "      name               id chr     band  start_position  end_position  \\\n",
       "0   CDC14B  ENSG00000081377   9  9q22.33      96490241.0    96619830.0   \n",
       "1    DOCK3  ENSG00000088538   3   3p21.2      50674927.0    51384198.0   \n",
       "2  SLCO4C1  ENSG00000173930   5   5q21.1     102233986.0   102296284.0   \n",
       "3      UST  ENSG00000111962   6   6q25.1     148747030.0   149076990.0   \n",
       "4      CFH  ENSG00000000971   1   1q31.3     196651878.0   196747504.0   \n",
       "\n",
       "   gene_length  \n",
       "0     129589.0  \n",
       "1     709271.0  \n",
       "2      62298.0  \n",
       "3     329960.0  \n",
       "4      95626.0  "
      ]
     },
     "execution_count": 21,
     "metadata": {},
     "output_type": "execute_result"
    }
   ],
   "source": [
    "genes_info.head()"
   ]
  },
  {
   "cell_type": "markdown",
   "id": "d3843e06",
   "metadata": {
    "papermill": {
     "duration": 0.01976,
     "end_time": "2022-08-02T20:33:26.978039",
     "exception": false,
     "start_time": "2022-08-02T20:33:26.958279",
     "status": "completed"
    },
    "tags": []
   },
   "source": [
    "# Compute correlations"
   ]
  },
  {
   "cell_type": "code",
   "execution_count": 22,
   "id": "cb859c15-d1f3-4006-a74c-2b83c0db9611",
   "metadata": {
    "execution": {
     "iopub.execute_input": "2022-08-02T20:33:27.017079Z",
     "iopub.status.busy": "2022-08-02T20:33:27.016781Z",
     "iopub.status.idle": "2022-08-02T20:33:27.040461Z",
     "shell.execute_reply": "2022-08-02T20:33:27.039899Z"
    },
    "papermill": {
     "duration": 0.044867,
     "end_time": "2022-08-02T20:33:27.042111",
     "exception": false,
     "start_time": "2022-08-02T20:33:26.997244",
     "status": "completed"
    },
    "tags": []
   },
   "outputs": [
    {
     "data": {
      "text/plain": [
       "PosixPath('/project/ritchie20/projects/phenoplier/base/results/gls/gene_corrs/cohorts/1000g_eur/1000g/mashr/by_chr/gene_corrs-chr20.pkl')"
      ]
     },
     "metadata": {},
     "output_type": "display_data"
    }
   ],
   "source": [
    "output_dir = OUTPUT_DIR_BASE / \"by_chr\"\n",
    "output_dir.mkdir(exist_ok=True, parents=True)\n",
    "output_file = output_dir / f\"gene_corrs-chr{CHROMOSOME}.pkl\"\n",
    "display(output_file)"
   ]
  },
  {
   "cell_type": "code",
   "execution_count": 23,
   "id": "aa674fe4-6794-4eed-98fa-32b39d1d4ace",
   "metadata": {
    "execution": {
     "iopub.execute_input": "2022-08-02T20:33:27.075921Z",
     "iopub.status.busy": "2022-08-02T20:33:27.075633Z",
     "iopub.status.idle": "2022-08-02T20:33:27.095602Z",
     "shell.execute_reply": "2022-08-02T20:33:27.095010Z"
    },
    "papermill": {
     "duration": 0.038336,
     "end_time": "2022-08-02T20:33:27.097354",
     "exception": false,
     "start_time": "2022-08-02T20:33:27.059018",
     "status": "completed"
    },
    "tags": []
   },
   "outputs": [],
   "source": [
    "warnings.filterwarnings(\"error\")"
   ]
  },
  {
   "cell_type": "code",
   "execution_count": 24,
   "id": "44d5450b-3baf-43f1-9e2e-4b06f1a785f8",
   "metadata": {
    "execution": {
     "iopub.execute_input": "2022-08-02T20:33:27.131405Z",
     "iopub.status.busy": "2022-08-02T20:33:27.131133Z",
     "iopub.status.idle": "2022-08-02T20:33:27.151934Z",
     "shell.execute_reply": "2022-08-02T20:33:27.151399Z"
    },
    "papermill": {
     "duration": 0.038475,
     "end_time": "2022-08-02T20:33:27.153620",
     "exception": false,
     "start_time": "2022-08-02T20:33:27.115145",
     "status": "completed"
    },
    "tags": []
   },
   "outputs": [],
   "source": [
    "# standard checks\n",
    "all_chrs = genes_info[\"chr\"].dropna().unique()\n",
    "assert all_chrs.shape[0] == 22\n",
    "\n",
    "# select chromosome given by the user\n",
    "assert CHROMOSOME in all_chrs"
   ]
  },
  {
   "cell_type": "code",
   "execution_count": 25,
   "id": "2d7c043c-92a7-4d35-991b-fa69ac1e0268",
   "metadata": {
    "execution": {
     "iopub.execute_input": "2022-08-02T20:33:27.186023Z",
     "iopub.status.busy": "2022-08-02T20:33:27.185800Z",
     "iopub.status.idle": "2022-08-02T20:33:27.205324Z",
     "shell.execute_reply": "2022-08-02T20:33:27.204768Z"
    },
    "papermill": {
     "duration": 0.037884,
     "end_time": "2022-08-02T20:33:27.207001",
     "exception": false,
     "start_time": "2022-08-02T20:33:27.169117",
     "status": "completed"
    },
    "tags": []
   },
   "outputs": [
    {
     "name": "stdout",
     "output_type": "stream",
     "text": [
      "Number of genes in chromosome: 187\n"
     ]
    }
   ],
   "source": [
    "# run only on the chromosome specified\n",
    "all_chrs = [CHROMOSOME]\n",
    "genes_chr = genes_info[genes_info[\"chr\"] == CHROMOSOME]\n",
    "\n",
    "# For testing purposes\n",
    "# genes_chr = genes_chr.sample(n=20)\n",
    "\n",
    "print(f\"Number of genes in chromosome: {genes_chr.shape[0]}\", flush=True)"
   ]
  },
  {
   "cell_type": "code",
   "execution_count": 26,
   "id": "916015d8-2979-46d3-a9b9-1cf5a0932c6a",
   "metadata": {
    "execution": {
     "iopub.execute_input": "2022-08-02T20:33:27.241276Z",
     "iopub.status.busy": "2022-08-02T20:33:27.241062Z",
     "iopub.status.idle": "2022-08-02T20:33:27.258035Z",
     "shell.execute_reply": "2022-08-02T20:33:27.257492Z"
    },
    "papermill": {
     "duration": 0.037275,
     "end_time": "2022-08-02T20:33:27.259698",
     "exception": false,
     "start_time": "2022-08-02T20:33:27.222423",
     "status": "completed"
    },
    "tags": []
   },
   "outputs": [],
   "source": [
    "# sort genes by starting position to make visualizations better later\n",
    "genes_chr = genes_chr.sort_values(\"start_position\")"
   ]
  },
  {
   "cell_type": "code",
   "execution_count": 27,
   "id": "a38aa74a-8ad3-47f6-8ef9-56be0e011774",
   "metadata": {
    "execution": {
     "iopub.execute_input": "2022-08-02T20:33:27.294448Z",
     "iopub.status.busy": "2022-08-02T20:33:27.294251Z",
     "iopub.status.idle": "2022-08-02T20:33:27.311364Z",
     "shell.execute_reply": "2022-08-02T20:33:27.310803Z"
    },
    "papermill": {
     "duration": 0.036313,
     "end_time": "2022-08-02T20:33:27.313030",
     "exception": false,
     "start_time": "2022-08-02T20:33:27.276717",
     "status": "completed"
    },
    "tags": []
   },
   "outputs": [],
   "source": [
    "gene_chr_objs = [Gene(ensembl_id=gene_id) for gene_id in genes_chr[\"id\"]]"
   ]
  },
  {
   "cell_type": "code",
   "execution_count": 28,
   "id": "570f974f-13c3-42b6-ad3a-ce99ca885c1a",
   "metadata": {
    "execution": {
     "iopub.execute_input": "2022-08-02T20:33:27.345912Z",
     "iopub.status.busy": "2022-08-02T20:33:27.345692Z",
     "iopub.status.idle": "2022-08-02T20:33:27.364037Z",
     "shell.execute_reply": "2022-08-02T20:33:27.363501Z"
    },
    "papermill": {
     "duration": 0.036143,
     "end_time": "2022-08-02T20:33:27.365699",
     "exception": false,
     "start_time": "2022-08-02T20:33:27.329556",
     "status": "completed"
    },
    "tags": []
   },
   "outputs": [
    {
     "name": "stdout",
     "output_type": "stream",
     "text": [
      "Number of gene combinations: 17391\n"
     ]
    }
   ],
   "source": [
    "n = len(gene_chr_objs)\n",
    "n_comb = int(n * (n - 1) / 2.0)\n",
    "print(f\"Number of gene combinations: {n_comb}\", flush=True)"
   ]
  },
  {
   "cell_type": "code",
   "execution_count": 29,
   "id": "cdbb90a1",
   "metadata": {
    "execution": {
     "iopub.execute_input": "2022-08-02T20:33:27.397532Z",
     "iopub.status.busy": "2022-08-02T20:33:27.397335Z",
     "iopub.status.idle": "2022-08-02T20:58:06.604836Z",
     "shell.execute_reply": "2022-08-02T20:58:06.604091Z"
    },
    "papermill": {
     "duration": 1479.225901,
     "end_time": "2022-08-02T20:58:06.606903",
     "exception": false,
     "start_time": "2022-08-02T20:33:27.381002",
     "status": "completed"
    },
    "tags": []
   },
   "outputs": [
    {
     "name": "stderr",
     "output_type": "stream",
     "text": [
      "ENSG00000171700 / ENSG00000125510: 100%|██████████████████████| 17391/17391 [24:39<00:00, 11.76it/s]\n"
     ]
    },
    {
     "data": {
      "text/plain": [
       "PosixPath('/project/ritchie20/projects/phenoplier/base/results/gls/gene_corrs/cohorts/1000g_eur/1000g/mashr/by_chr/gene_corrs-chr20.pkl')"
      ]
     },
     "metadata": {},
     "output_type": "display_data"
    }
   ],
   "source": [
    "gene_corrs = []\n",
    "\n",
    "i = 0\n",
    "with tqdm(ncols=100, total=n_comb) as pbar:\n",
    "    for gene1_idx in range(0, len(gene_chr_objs) - 1):\n",
    "        gene1_obj = gene_chr_objs[gene1_idx]\n",
    "        gene1_tissues = spredixcan_genes_models.loc[gene1_obj.ensembl_id, \"tissue\"]\n",
    "\n",
    "        for gene2_idx in range(gene1_idx + 1, len(gene_chr_objs)):\n",
    "            gene2_obj = gene_chr_objs[gene2_idx]\n",
    "            gene2_tissues = spredixcan_genes_models.loc[gene2_obj.ensembl_id, \"tissue\"]\n",
    "\n",
    "            pbar.set_description(f\"{gene1_obj.ensembl_id} / {gene2_obj.ensembl_id}\")\n",
    "\n",
    "            try:\n",
    "                r = gene1_obj.get_ssm_correlation(\n",
    "                    other_gene=gene2_obj,\n",
    "                    tissues=gene1_tissues,\n",
    "                    other_tissues=gene2_tissues,\n",
    "                    snps_subset=gwas_variants_ids_set,\n",
    "                    condition_number=SMULTIXCAN_CONDITION_NUMBER,\n",
    "                    reference_panel=REFERENCE_PANEL,\n",
    "                    model_type=EQTL_MODEL,\n",
    "                    use_within_distance=COMPUTE_CORRELATIONS_WITHIN_DISTANCE,\n",
    "                )\n",
    "\n",
    "                if r is None:\n",
    "                    # if r is None, it's very likely because:\n",
    "                    #  * one of the genes has no prediction models\n",
    "                    #  * all the SNPs predictors for the gene are not present in the reference\n",
    "                    #    panel\n",
    "\n",
    "                    r = 0.0\n",
    "\n",
    "                gene_corrs.append(r)\n",
    "            except Warning as e:\n",
    "                if not DEBUG_MODE:\n",
    "                    raise e\n",
    "\n",
    "                print(\n",
    "                    f\"RuntimeWarning for genes {gene1_obj.ensembl_id} and {gene2_obj.ensembl_id}\",\n",
    "                    flush=True,\n",
    "                )\n",
    "                print(traceback.format_exc(), flush=True)\n",
    "\n",
    "                gene_corrs.append(np.nan)\n",
    "            except Exception as e:\n",
    "                if not DEBUG_MODE:\n",
    "                    raise e\n",
    "\n",
    "                print(\n",
    "                    f\"Exception for genes {gene1_obj.ensembl_id} and {gene2_obj.ensembl_id}\",\n",
    "                    flush=True,\n",
    "                )\n",
    "                print(traceback.format_exc(), flush=True)\n",
    "\n",
    "                gene_corrs.append(np.nan)\n",
    "\n",
    "            pbar.update(1)\n",
    "\n",
    "# create a pandas series\n",
    "gene_corrs_flat = pd.Series(gene_corrs)\n",
    "\n",
    "# save\n",
    "# FIXME: consider saving only the condenced matrix here. See here for\n",
    "# more details: https://github.com/greenelab/phenoplier/pull/38#discussion_r634600813\n",
    "gene_corrs_data = squareform(np.array(gene_corrs, dtype=np.float64))\n",
    "np.fill_diagonal(gene_corrs_data, 1.0)\n",
    "\n",
    "gene_chr_ids = [g.ensembl_id for g in gene_chr_objs]\n",
    "gene_corrs_df = pd.DataFrame(\n",
    "    data=gene_corrs_data,\n",
    "    index=gene_chr_ids,\n",
    "    columns=gene_chr_ids,\n",
    ")\n",
    "\n",
    "output_dir.mkdir(exist_ok=True, parents=True)\n",
    "display(output_file)\n",
    "\n",
    "gene_corrs_df.to_pickle(output_file)"
   ]
  },
  {
   "cell_type": "markdown",
   "id": "faa67b51-5373-470f-aa72-2ded53fa6dfe",
   "metadata": {
    "papermill": {
     "duration": 1.145104,
     "end_time": "2022-08-02T20:58:08.865916",
     "exception": false,
     "start_time": "2022-08-02T20:58:07.720812",
     "status": "completed"
    },
    "tags": []
   },
   "source": [
    "# Testing"
   ]
  },
  {
   "cell_type": "code",
   "execution_count": 30,
   "id": "14f7d046-4b55-4896-a56b-990127bcc388",
   "metadata": {
    "execution": {
     "iopub.execute_input": "2022-08-02T20:58:10.987109Z",
     "iopub.status.busy": "2022-08-02T20:58:10.986837Z",
     "iopub.status.idle": "2022-08-02T20:58:11.235762Z",
     "shell.execute_reply": "2022-08-02T20:58:11.235252Z"
    },
    "papermill": {
     "duration": 1.295439,
     "end_time": "2022-08-02T20:58:11.237331",
     "exception": false,
     "start_time": "2022-08-02T20:58:09.941892",
     "status": "completed"
    },
    "tags": []
   },
   "outputs": [
    {
     "data": {
      "text/plain": [
       "(187, 187)"
      ]
     },
     "execution_count": 30,
     "metadata": {},
     "output_type": "execute_result"
    }
   ],
   "source": [
    "gene_corrs_df.shape"
   ]
  },
  {
   "cell_type": "code",
   "execution_count": 31,
   "id": "c7d15414-3297-4537-a7c6-7588c0baeb75",
   "metadata": {
    "execution": {
     "iopub.execute_input": "2022-08-02T20:58:13.260681Z",
     "iopub.status.busy": "2022-08-02T20:58:13.260423Z",
     "iopub.status.idle": "2022-08-02T20:58:13.299883Z",
     "shell.execute_reply": "2022-08-02T20:58:13.299371Z"
    },
    "papermill": {
     "duration": 1.052674,
     "end_time": "2022-08-02T20:58:13.301443",
     "exception": false,
     "start_time": "2022-08-02T20:58:12.248769",
     "status": "completed"
    },
    "tags": []
   },
   "outputs": [
    {
     "data": {
      "text/html": [
       "<div>\n",
       "<style scoped>\n",
       "    .dataframe tbody tr th:only-of-type {\n",
       "        vertical-align: middle;\n",
       "    }\n",
       "\n",
       "    .dataframe tbody tr th {\n",
       "        vertical-align: top;\n",
       "    }\n",
       "\n",
       "    .dataframe thead th {\n",
       "        text-align: right;\n",
       "    }\n",
       "</style>\n",
       "<table border=\"1\" class=\"dataframe\">\n",
       "  <thead>\n",
       "    <tr style=\"text-align: right;\">\n",
       "      <th></th>\n",
       "      <th>ENSG00000101255</th>\n",
       "      <th>ENSG00000125826</th>\n",
       "      <th>ENSG00000101266</th>\n",
       "      <th>ENSG00000101280</th>\n",
       "      <th>ENSG00000125818</th>\n",
       "      <th>ENSG00000101298</th>\n",
       "      <th>ENSG00000088832</th>\n",
       "      <th>ENSG00000101307</th>\n",
       "      <th>ENSG00000089012</th>\n",
       "      <th>ENSG00000198053</th>\n",
       "      <th>...</th>\n",
       "      <th>ENSG00000092758</th>\n",
       "      <th>ENSG00000101191</th>\n",
       "      <th>ENSG00000101199</th>\n",
       "      <th>ENSG00000243509</th>\n",
       "      <th>ENSG00000203896</th>\n",
       "      <th>ENSG00000101152</th>\n",
       "      <th>ENSG00000198276</th>\n",
       "      <th>ENSG00000101161</th>\n",
       "      <th>ENSG00000171700</th>\n",
       "      <th>ENSG00000125510</th>\n",
       "    </tr>\n",
       "  </thead>\n",
       "  <tbody>\n",
       "    <tr>\n",
       "      <th>ENSG00000101255</th>\n",
       "      <td>1.000000</td>\n",
       "      <td>0.050683</td>\n",
       "      <td>0.017861</td>\n",
       "      <td>0.011775</td>\n",
       "      <td>0.002720</td>\n",
       "      <td>0.008144</td>\n",
       "      <td>0.013091</td>\n",
       "      <td>0.003198</td>\n",
       "      <td>0.010456</td>\n",
       "      <td>0.010639</td>\n",
       "      <td>...</td>\n",
       "      <td>0.010817</td>\n",
       "      <td>0.004357</td>\n",
       "      <td>0.004852</td>\n",
       "      <td>0.007574</td>\n",
       "      <td>0.007163</td>\n",
       "      <td>0.009123</td>\n",
       "      <td>0.013946</td>\n",
       "      <td>0.006769</td>\n",
       "      <td>0.003290</td>\n",
       "      <td>0.002943</td>\n",
       "    </tr>\n",
       "    <tr>\n",
       "      <th>ENSG00000125826</th>\n",
       "      <td>0.050683</td>\n",
       "      <td>1.000000</td>\n",
       "      <td>0.066958</td>\n",
       "      <td>0.008757</td>\n",
       "      <td>0.004395</td>\n",
       "      <td>0.016771</td>\n",
       "      <td>0.015061</td>\n",
       "      <td>0.008082</td>\n",
       "      <td>0.013941</td>\n",
       "      <td>0.014500</td>\n",
       "      <td>...</td>\n",
       "      <td>0.017529</td>\n",
       "      <td>0.007586</td>\n",
       "      <td>0.005689</td>\n",
       "      <td>0.011303</td>\n",
       "      <td>0.008357</td>\n",
       "      <td>0.011255</td>\n",
       "      <td>0.013041</td>\n",
       "      <td>0.006812</td>\n",
       "      <td>0.006084</td>\n",
       "      <td>0.010055</td>\n",
       "    </tr>\n",
       "    <tr>\n",
       "      <th>ENSG00000101266</th>\n",
       "      <td>0.017861</td>\n",
       "      <td>0.066958</td>\n",
       "      <td>1.000000</td>\n",
       "      <td>0.014596</td>\n",
       "      <td>0.005386</td>\n",
       "      <td>0.015147</td>\n",
       "      <td>0.015111</td>\n",
       "      <td>0.005819</td>\n",
       "      <td>0.013203</td>\n",
       "      <td>0.012445</td>\n",
       "      <td>...</td>\n",
       "      <td>0.011729</td>\n",
       "      <td>0.003911</td>\n",
       "      <td>0.008595</td>\n",
       "      <td>0.015707</td>\n",
       "      <td>0.013311</td>\n",
       "      <td>0.006752</td>\n",
       "      <td>0.012068</td>\n",
       "      <td>0.007354</td>\n",
       "      <td>0.000585</td>\n",
       "      <td>0.002613</td>\n",
       "    </tr>\n",
       "    <tr>\n",
       "      <th>ENSG00000101280</th>\n",
       "      <td>0.011775</td>\n",
       "      <td>0.008757</td>\n",
       "      <td>0.014596</td>\n",
       "      <td>1.000000</td>\n",
       "      <td>0.009148</td>\n",
       "      <td>0.013900</td>\n",
       "      <td>0.020965</td>\n",
       "      <td>0.006433</td>\n",
       "      <td>0.014777</td>\n",
       "      <td>0.020986</td>\n",
       "      <td>...</td>\n",
       "      <td>0.023218</td>\n",
       "      <td>0.006336</td>\n",
       "      <td>0.009365</td>\n",
       "      <td>0.015356</td>\n",
       "      <td>0.007332</td>\n",
       "      <td>0.011049</td>\n",
       "      <td>0.015375</td>\n",
       "      <td>0.009618</td>\n",
       "      <td>0.003962</td>\n",
       "      <td>0.005697</td>\n",
       "    </tr>\n",
       "    <tr>\n",
       "      <th>ENSG00000125818</th>\n",
       "      <td>0.002720</td>\n",
       "      <td>0.004395</td>\n",
       "      <td>0.005386</td>\n",
       "      <td>0.009148</td>\n",
       "      <td>1.000000</td>\n",
       "      <td>0.016027</td>\n",
       "      <td>0.013208</td>\n",
       "      <td>0.004112</td>\n",
       "      <td>0.007976</td>\n",
       "      <td>0.010889</td>\n",
       "      <td>...</td>\n",
       "      <td>0.009172</td>\n",
       "      <td>0.001576</td>\n",
       "      <td>0.005930</td>\n",
       "      <td>0.013363</td>\n",
       "      <td>0.003094</td>\n",
       "      <td>0.006388</td>\n",
       "      <td>0.013810</td>\n",
       "      <td>0.009317</td>\n",
       "      <td>0.001159</td>\n",
       "      <td>0.000779</td>\n",
       "    </tr>\n",
       "  </tbody>\n",
       "</table>\n",
       "<p>5 rows × 187 columns</p>\n",
       "</div>"
      ],
      "text/plain": [
       "                 ENSG00000101255  ENSG00000125826  ENSG00000101266  \\\n",
       "ENSG00000101255         1.000000         0.050683         0.017861   \n",
       "ENSG00000125826         0.050683         1.000000         0.066958   \n",
       "ENSG00000101266         0.017861         0.066958         1.000000   \n",
       "ENSG00000101280         0.011775         0.008757         0.014596   \n",
       "ENSG00000125818         0.002720         0.004395         0.005386   \n",
       "\n",
       "                 ENSG00000101280  ENSG00000125818  ENSG00000101298  \\\n",
       "ENSG00000101255         0.011775         0.002720         0.008144   \n",
       "ENSG00000125826         0.008757         0.004395         0.016771   \n",
       "ENSG00000101266         0.014596         0.005386         0.015147   \n",
       "ENSG00000101280         1.000000         0.009148         0.013900   \n",
       "ENSG00000125818         0.009148         1.000000         0.016027   \n",
       "\n",
       "                 ENSG00000088832  ENSG00000101307  ENSG00000089012  \\\n",
       "ENSG00000101255         0.013091         0.003198         0.010456   \n",
       "ENSG00000125826         0.015061         0.008082         0.013941   \n",
       "ENSG00000101266         0.015111         0.005819         0.013203   \n",
       "ENSG00000101280         0.020965         0.006433         0.014777   \n",
       "ENSG00000125818         0.013208         0.004112         0.007976   \n",
       "\n",
       "                 ENSG00000198053  ...  ENSG00000092758  ENSG00000101191  \\\n",
       "ENSG00000101255         0.010639  ...         0.010817         0.004357   \n",
       "ENSG00000125826         0.014500  ...         0.017529         0.007586   \n",
       "ENSG00000101266         0.012445  ...         0.011729         0.003911   \n",
       "ENSG00000101280         0.020986  ...         0.023218         0.006336   \n",
       "ENSG00000125818         0.010889  ...         0.009172         0.001576   \n",
       "\n",
       "                 ENSG00000101199  ENSG00000243509  ENSG00000203896  \\\n",
       "ENSG00000101255         0.004852         0.007574         0.007163   \n",
       "ENSG00000125826         0.005689         0.011303         0.008357   \n",
       "ENSG00000101266         0.008595         0.015707         0.013311   \n",
       "ENSG00000101280         0.009365         0.015356         0.007332   \n",
       "ENSG00000125818         0.005930         0.013363         0.003094   \n",
       "\n",
       "                 ENSG00000101152  ENSG00000198276  ENSG00000101161  \\\n",
       "ENSG00000101255         0.009123         0.013946         0.006769   \n",
       "ENSG00000125826         0.011255         0.013041         0.006812   \n",
       "ENSG00000101266         0.006752         0.012068         0.007354   \n",
       "ENSG00000101280         0.011049         0.015375         0.009618   \n",
       "ENSG00000125818         0.006388         0.013810         0.009317   \n",
       "\n",
       "                 ENSG00000171700  ENSG00000125510  \n",
       "ENSG00000101255         0.003290         0.002943  \n",
       "ENSG00000125826         0.006084         0.010055  \n",
       "ENSG00000101266         0.000585         0.002613  \n",
       "ENSG00000101280         0.003962         0.005697  \n",
       "ENSG00000125818         0.001159         0.000779  \n",
       "\n",
       "[5 rows x 187 columns]"
      ]
     },
     "execution_count": 31,
     "metadata": {},
     "output_type": "execute_result"
    }
   ],
   "source": [
    "gene_corrs_df.head()"
   ]
  },
  {
   "cell_type": "markdown",
   "id": "dad6603f-01c6-41fb-a6f6-241051207dd8",
   "metadata": {
    "papermill": {
     "duration": 1.010439,
     "end_time": "2022-08-02T20:58:15.326027",
     "exception": false,
     "start_time": "2022-08-02T20:58:14.315588",
     "status": "completed"
    },
    "tags": []
   },
   "source": [
    "## Standard checks and stats"
   ]
  },
  {
   "cell_type": "code",
   "execution_count": 32,
   "id": "286686af-1b7b-4440-8453-6bdcbd8de19c",
   "metadata": {
    "execution": {
     "iopub.execute_input": "2022-08-02T20:58:17.341358Z",
     "iopub.status.busy": "2022-08-02T20:58:17.341102Z",
     "iopub.status.idle": "2022-08-02T20:58:17.360658Z",
     "shell.execute_reply": "2022-08-02T20:58:17.360155Z"
    },
    "papermill": {
     "duration": 1.024814,
     "end_time": "2022-08-02T20:58:17.362267",
     "exception": false,
     "start_time": "2022-08-02T20:58:16.337453",
     "status": "completed"
    },
    "tags": []
   },
   "outputs": [],
   "source": [
    "assert not gene_corrs_df.isna().any().any()"
   ]
  },
  {
   "cell_type": "code",
   "execution_count": 33,
   "id": "00583efc-7068-4270-ad1e-4a418e91db96",
   "metadata": {
    "execution": {
     "iopub.execute_input": "2022-08-02T20:58:19.427683Z",
     "iopub.status.busy": "2022-08-02T20:58:19.427428Z",
     "iopub.status.idle": "2022-08-02T20:58:19.449706Z",
     "shell.execute_reply": "2022-08-02T20:58:19.449216Z"
    },
    "papermill": {
     "duration": 1.037774,
     "end_time": "2022-08-02T20:58:19.451146",
     "exception": false,
     "start_time": "2022-08-02T20:58:18.413372",
     "status": "completed"
    },
    "tags": []
   },
   "outputs": [
    {
     "data": {
      "text/plain": [
       "7.807251654203959e-06"
      ]
     },
     "metadata": {},
     "output_type": "display_data"
    }
   ],
   "source": [
    "_min_val = gene_corrs_df.min().min()\n",
    "display(_min_val)\n",
    "assert _min_val >= 0.0"
   ]
  },
  {
   "cell_type": "code",
   "execution_count": 34,
   "id": "d04fb2cf-1050-475b-b855-f5f7cc04092b",
   "metadata": {
    "execution": {
     "iopub.execute_input": "2022-08-02T20:58:21.487285Z",
     "iopub.status.busy": "2022-08-02T20:58:21.487029Z",
     "iopub.status.idle": "2022-08-02T20:58:21.508397Z",
     "shell.execute_reply": "2022-08-02T20:58:21.507908Z"
    },
    "papermill": {
     "duration": 1.036699,
     "end_time": "2022-08-02T20:58:21.509859",
     "exception": false,
     "start_time": "2022-08-02T20:58:20.473160",
     "status": "completed"
    },
    "tags": []
   },
   "outputs": [
    {
     "data": {
      "text/plain": [
       "1.0"
      ]
     },
     "metadata": {},
     "output_type": "display_data"
    }
   ],
   "source": [
    "_max_val = gene_corrs_df.max().max()  # this captures the diagonal\n",
    "display(_max_val)\n",
    "assert _max_val <= 1.0"
   ]
  },
  {
   "cell_type": "code",
   "execution_count": 35,
   "id": "96d02c44-1fba-47be-8a93-8f2608420b9c",
   "metadata": {
    "execution": {
     "iopub.execute_input": "2022-08-02T20:58:23.530174Z",
     "iopub.status.busy": "2022-08-02T20:58:23.529915Z",
     "iopub.status.idle": "2022-08-02T20:58:23.549157Z",
     "shell.execute_reply": "2022-08-02T20:58:23.548659Z"
    },
    "papermill": {
     "duration": 1.031556,
     "end_time": "2022-08-02T20:58:23.550702",
     "exception": false,
     "start_time": "2022-08-02T20:58:22.519146",
     "status": "completed"
    },
    "tags": []
   },
   "outputs": [],
   "source": [
    "# check upper triangular values\n",
    "assert len(gene_corrs) == int(genes_chr.shape[0] * (genes_chr.shape[0] - 1) / 2)"
   ]
  },
  {
   "cell_type": "code",
   "execution_count": 36,
   "id": "fe283586-c348-40e0-8841-f6d97bfb021c",
   "metadata": {
    "execution": {
     "iopub.execute_input": "2022-08-02T20:58:25.607611Z",
     "iopub.status.busy": "2022-08-02T20:58:25.607360Z",
     "iopub.status.idle": "2022-08-02T20:58:25.635912Z",
     "shell.execute_reply": "2022-08-02T20:58:25.635385Z"
    },
    "papermill": {
     "duration": 1.073003,
     "end_time": "2022-08-02T20:58:25.637500",
     "exception": false,
     "start_time": "2022-08-02T20:58:24.564497",
     "status": "completed"
    },
    "tags": []
   },
   "outputs": [
    {
     "data": {
      "text/plain": [
       "count    17391.000000\n",
       "mean         0.012390\n",
       "std          0.039412\n",
       "min          0.000008\n",
       "25%          0.005056\n",
       "50%          0.008038\n",
       "75%          0.011434\n",
       "max          0.998564\n",
       "dtype: float64"
      ]
     },
     "execution_count": 36,
     "metadata": {},
     "output_type": "execute_result"
    }
   ],
   "source": [
    "gene_corrs_flat.describe()"
   ]
  },
  {
   "cell_type": "code",
   "execution_count": 37,
   "id": "b3815678-0f93-4b35-897b-a9d047a2aa78",
   "metadata": {
    "execution": {
     "iopub.execute_input": "2022-08-02T20:58:27.647178Z",
     "iopub.status.busy": "2022-08-02T20:58:27.646921Z",
     "iopub.status.idle": "2022-08-02T20:58:27.669522Z",
     "shell.execute_reply": "2022-08-02T20:58:27.669042Z"
    },
    "papermill": {
     "duration": 1.027281,
     "end_time": "2022-08-02T20:58:27.670974",
     "exception": false,
     "start_time": "2022-08-02T20:58:26.643693",
     "status": "completed"
    },
    "tags": []
   },
   "outputs": [
    {
     "data": {
      "text/plain": [
       "0.00    0.000008\n",
       "0.05    0.001995\n",
       "0.10    0.002989\n",
       "0.15    0.003750\n",
       "0.20    0.004416\n",
       "0.25    0.005056\n",
       "0.30    0.005645\n",
       "0.35    0.006231\n",
       "0.40    0.006836\n",
       "0.45    0.007446\n",
       "0.50    0.008038\n",
       "0.55    0.008626\n",
       "0.60    0.009239\n",
       "0.65    0.009927\n",
       "0.70    0.010636\n",
       "0.75    0.011434\n",
       "0.80    0.012423\n",
       "0.85    0.013639\n",
       "0.90    0.015315\n",
       "0.95    0.018487\n",
       "dtype: float64"
      ]
     },
     "metadata": {},
     "output_type": "display_data"
    }
   ],
   "source": [
    "gene_corrs_quantiles = gene_corrs_flat.quantile(np.arange(0, 1, 0.05))\n",
    "display(gene_corrs_quantiles)"
   ]
  },
  {
   "cell_type": "markdown",
   "id": "87134509-b145-4a10-8bc9-b7e914c2b0fa",
   "metadata": {
    "papermill": {
     "duration": 1.019723,
     "end_time": "2022-08-02T20:58:29.700563",
     "exception": false,
     "start_time": "2022-08-02T20:58:28.680840",
     "status": "completed"
    },
    "tags": []
   },
   "source": [
    "## Positive definiteness"
   ]
  },
  {
   "cell_type": "code",
   "execution_count": 38,
   "id": "07d9a9a1-a4f7-48aa-b916-6d42a8cc6186",
   "metadata": {
    "execution": {
     "iopub.execute_input": "2022-08-02T20:58:31.718163Z",
     "iopub.status.busy": "2022-08-02T20:58:31.717905Z",
     "iopub.status.idle": "2022-08-02T20:58:31.748232Z",
     "shell.execute_reply": "2022-08-02T20:58:31.747727Z"
    },
    "papermill": {
     "duration": 1.037464,
     "end_time": "2022-08-02T20:58:31.749678",
     "exception": false,
     "start_time": "2022-08-02T20:58:30.712214",
     "status": "completed"
    },
    "tags": []
   },
   "outputs": [
    {
     "data": {
      "text/plain": [
       "0"
      ]
     },
     "metadata": {},
     "output_type": "display_data"
    },
    {
     "data": {
      "text/plain": [
       "array([], dtype=float64)"
      ]
     },
     "metadata": {},
     "output_type": "display_data"
    }
   ],
   "source": [
    "# print negative eigenvalues\n",
    "eigs = np.linalg.eigvals(gene_corrs_df.to_numpy())\n",
    "display(len(eigs[eigs < 0]))\n",
    "display(eigs[eigs < 0])"
   ]
  },
  {
   "cell_type": "code",
   "execution_count": 39,
   "id": "6e218436-c3c5-4028-8c94-a4fa6260efce",
   "metadata": {
    "execution": {
     "iopub.execute_input": "2022-08-02T20:58:33.759210Z",
     "iopub.status.busy": "2022-08-02T20:58:33.758955Z",
     "iopub.status.idle": "2022-08-02T20:58:33.782616Z",
     "shell.execute_reply": "2022-08-02T20:58:33.782091Z"
    },
    "papermill": {
     "duration": 1.032467,
     "end_time": "2022-08-02T20:58:33.784134",
     "exception": false,
     "start_time": "2022-08-02T20:58:32.751667",
     "status": "completed"
    },
    "tags": []
   },
   "outputs": [
    {
     "name": "stdout",
     "output_type": "stream",
     "text": [
      "Works!\n"
     ]
    }
   ],
   "source": [
    "try:\n",
    "    chol_mat = np.linalg.cholesky(gene_corrs_df.to_numpy())\n",
    "    cov_inv = np.linalg.inv(chol_mat)\n",
    "    print(\"Works!\")\n",
    "except:\n",
    "    print(\"Cholesky decomposition failed\")"
   ]
  },
  {
   "cell_type": "markdown",
   "id": "8e60a080-edb2-4e9c-b2ef-22961693200c",
   "metadata": {
    "papermill": {
     "duration": 1.040743,
     "end_time": "2022-08-02T20:58:35.873555",
     "exception": false,
     "start_time": "2022-08-02T20:58:34.832812",
     "status": "completed"
    },
    "tags": []
   },
   "source": [
    "## Plot: distribution"
   ]
  },
  {
   "cell_type": "code",
   "execution_count": 40,
   "id": "8301126b-a7d4-4744-9c7d-f0f86eb6f54c",
   "metadata": {
    "execution": {
     "iopub.execute_input": "2022-08-02T20:58:37.883993Z",
     "iopub.status.busy": "2022-08-02T20:58:37.883731Z",
     "iopub.status.idle": "2022-08-02T20:58:43.267267Z",
     "shell.execute_reply": "2022-08-02T20:58:43.266731Z"
    },
    "papermill": {
     "duration": 6.390541,
     "end_time": "2022-08-02T20:58:43.268772",
     "exception": false,
     "start_time": "2022-08-02T20:58:36.878231",
     "status": "completed"
    },
    "tags": []
   },
   "outputs": [
    {
     "data": {
      "image/png": "[encoded data removed]",
      "text/plain": [
       "<Figure size 504x504 with 1 Axes>"
      ]
     },
     "metadata": {
      "needs_background": "light"
     },
     "output_type": "display_data"
    }
   ],
   "source": [
    "with sns.plotting_context(\"paper\", font_scale=1.5):\n",
    "    g = sns.displot(gene_corrs_flat, kde=True, height=7)\n",
    "    g.ax.set_title(\n",
    "        f\"Distribution of gene correlation values in chromosome {CHROMOSOME}\"\n",
    "    )"
   ]
  },
  {
   "cell_type": "markdown",
   "id": "cbd52bca-d878-4a2f-b684-5c83aa3038d4",
   "metadata": {
    "papermill": {
     "duration": 1.011252,
     "end_time": "2022-08-02T20:58:45.285991",
     "exception": false,
     "start_time": "2022-08-02T20:58:44.274739",
     "status": "completed"
    },
    "tags": []
   },
   "source": [
    "## Plot: heatmap"
   ]
  },
  {
   "cell_type": "code",
   "execution_count": 41,
   "id": "d03fe63a-c7b2-4fb9-a53c-db362ce843c9",
   "metadata": {
    "execution": {
     "iopub.execute_input": "2022-08-02T20:58:47.301708Z",
     "iopub.status.busy": "2022-08-02T20:58:47.301448Z",
     "iopub.status.idle": "2022-08-02T20:58:47.348663Z",
     "shell.execute_reply": "2022-08-02T20:58:47.348128Z"
    },
    "papermill": {
     "duration": 1.061275,
     "end_time": "2022-08-02T20:58:47.350226",
     "exception": false,
     "start_time": "2022-08-02T20:58:46.288951",
     "status": "completed"
    },
    "tags": []
   },
   "outputs": [
    {
     "data": {
      "text/plain": [
       "'0.0 / 0.05'"
      ]
     },
     "metadata": {},
     "output_type": "display_data"
    }
   ],
   "source": [
    "vmin_val = min(0.00, gene_corrs_quantiles[0.10])\n",
    "vmax_val = max(0.05, gene_corrs_quantiles[0.90])\n",
    "display(f\"{vmin_val} / {vmax_val}\")"
   ]
  },
  {
   "cell_type": "code",
   "execution_count": 42,
   "id": "dc41b70b-5bcc-4d9e-9f33-a22c4a94dab5",
   "metadata": {
    "execution": {
     "iopub.execute_input": "2022-08-02T20:58:49.360705Z",
     "iopub.status.busy": "2022-08-02T20:58:49.360444Z",
     "iopub.status.idle": "2022-08-02T20:58:50.133125Z",
     "shell.execute_reply": "2022-08-02T20:58:50.132587Z"
    },
    "papermill": {
     "duration": 1.780274,
     "end_time": "2022-08-02T20:58:50.134793",
     "exception": false,
     "start_time": "2022-08-02T20:58:48.354519",
     "status": "completed"
    },
    "tags": []
   },
   "outputs": [
    {
     "data": {
      "text/plain": [
       "Text(0.5, 1.0, 'Gene correlations in chromosome 20')"
      ]
     },
     "execution_count": 42,
     "metadata": {},
     "output_type": "execute_result"
    },
    {
     "data": {
      "image/png": "[encoded data removed]",
      "text/plain": [
       "<Figure size 720x720 with 2 Axes>"
      ]
     },
     "metadata": {
      "needs_background": "light"
     },
     "output_type": "display_data"
    }
   ],
   "source": [
    "f, ax = plt.subplots(figsize=(10, 10))\n",
    "sns.heatmap(\n",
    "    gene_corrs_df,\n",
    "    xticklabels=False,\n",
    "    yticklabels=False,\n",
    "    square=True,\n",
    "    vmin=vmin_val,\n",
    "    vmax=vmax_val,\n",
    "    cmap=\"rocket_r\",\n",
    "    ax=ax,\n",
    ")\n",
    "ax.set_title(f\"Gene correlations in chromosome {CHROMOSOME}\")"
   ]
  },
  {
   "cell_type": "code",
   "execution_count": null,
   "id": "b25e3ead",
   "metadata": {
    "papermill": {
     "duration": 1.010718,
     "end_time": "2022-08-02T20:58:52.186670",
     "exception": false,
     "start_time": "2022-08-02T20:58:51.175952",
     "status": "completed"
    },
    "tags": []
   },
   "outputs": [],
   "source": []
  }
 ],
 "metadata": {
  "jupytext": {
   "cell_metadata_filter": "all,-execution,-papermill,-trusted",
   "formats": "ipynb,py//py:percent"
  },
  "kernelspec": {
   "display_name": "Python 3 (ipykernel)",
   "language": "python",
   "name": "python3"
  },
  "language_info": {
   "codemirror_mode": {
    "name": "ipython",
    "version": 3
   },
   "file_extension": ".py",
   "mimetype": "text/x-python",
   "name": "python",
   "nbconvert_exporter": "python",
   "pygments_lexer": "ipython3",
   "version": "3.8.13"
  },
  "papermill": {
   "default_parameters": {},
   "duration": 1544.701615,
   "end_time": "2022-08-02T20:58:56.203269",
   "environment_variables": {},
   "exception": null,
   "input_path": "nbs/15_gsa_gls/10-gene_expr_correlations.ipynb",
   "output_path": "nbs/15_gsa_gls/gene_corrs/cohorts/1000g_eur/1000g/mashr/10-gene_expr_correlations-chr20.run.ipynb",
   "parameters": {
    "CHROMOSOME": 20,
    "COHORT_NAME": "1000G_EUR",
    "EQTL_MODEL": "MASHR",
    "REFERENCE_PANEL": "1000G"
   },
   "start_time": "2022-08-02T20:33:11.501654",
   "version": "2.2.2"
  }
 },
 "nbformat": 4,
 "nbformat_minor": 5
}
