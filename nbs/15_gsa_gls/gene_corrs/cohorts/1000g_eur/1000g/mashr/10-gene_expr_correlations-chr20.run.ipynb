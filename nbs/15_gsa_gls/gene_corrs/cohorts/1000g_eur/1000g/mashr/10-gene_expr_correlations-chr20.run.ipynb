{
 "cells": [
  {
   "cell_type": "markdown",
   "id": "7a6632fb",
   "metadata": {
    "papermill": {
     "duration": 0.007049,
     "end_time": "2022-07-22T04:49:46.757058",
     "exception": false,
     "start_time": "2022-07-22T04:49:46.750009",
     "status": "completed"
    },
    "tags": []
   },
   "source": [
    "# Description"
   ]
  },
  {
   "cell_type": "markdown",
   "id": "7097c346",
   "metadata": {
    "papermill": {
     "duration": 0.006128,
     "end_time": "2022-07-22T04:49:46.769605",
     "exception": false,
     "start_time": "2022-07-22T04:49:46.763477",
     "status": "completed"
    },
    "tags": []
   },
   "source": [
    "(Please, take a look at the README.md file in this directory for instructions on how to run this notebook)\n",
    "\n",
    "This notebook computes predicted expression correlations between all genes in the MultiPLIER models.\n",
    "\n",
    "It also has a parameter set for papermill to run on a single chromosome to run in parallel (see under `Settings` below).\n",
    "\n",
    "This notebook is not directly run. See README.md."
   ]
  },
  {
   "cell_type": "markdown",
   "id": "c61d8427",
   "metadata": {
    "papermill": {
     "duration": 0.005745,
     "end_time": "2022-07-22T04:49:46.781442",
     "exception": false,
     "start_time": "2022-07-22T04:49:46.775697",
     "status": "completed"
    },
    "tags": []
   },
   "source": [
    "# Modules"
   ]
  },
  {
   "cell_type": "code",
   "execution_count": 1,
   "id": "bbc0234f",
   "metadata": {
    "execution": {
     "iopub.execute_input": "2022-07-22T04:49:46.795222Z",
     "iopub.status.busy": "2022-07-22T04:49:46.794994Z",
     "iopub.status.idle": "2022-07-22T04:49:46.811040Z",
     "shell.execute_reply": "2022-07-22T04:49:46.810541Z"
    },
    "papermill": {
     "duration": 0.024793,
     "end_time": "2022-07-22T04:49:46.812432",
     "exception": false,
     "start_time": "2022-07-22T04:49:46.787639",
     "status": "completed"
    },
    "tags": []
   },
   "outputs": [],
   "source": [
    "%load_ext autoreload\n",
    "%autoreload 2"
   ]
  },
  {
   "cell_type": "code",
   "execution_count": 2,
   "id": "1d5f5a59",
   "metadata": {
    "execution": {
     "iopub.execute_input": "2022-07-22T04:49:46.852652Z",
     "iopub.status.busy": "2022-07-22T04:49:46.852435Z",
     "iopub.status.idle": "2022-07-22T04:49:47.755349Z",
     "shell.execute_reply": "2022-07-22T04:49:47.754960Z"
    },
    "papermill": {
     "duration": 0.911592,
     "end_time": "2022-07-22T04:49:47.756614",
     "exception": false,
     "start_time": "2022-07-22T04:49:46.845022",
     "status": "completed"
    },
    "tags": []
   },
   "outputs": [],
   "source": [
    "from random import sample, seed\n",
    "import warnings\n",
    "from pathlib import Path\n",
    "import pickle\n",
    "import traceback\n",
    "\n",
    "import numpy as np\n",
    "from scipy.spatial.distance import squareform\n",
    "import pandas as pd\n",
    "from tqdm import tqdm\n",
    "import matplotlib.pyplot as plt\n",
    "import seaborn as sns\n",
    "\n",
    "import conf\n",
    "from entity import Gene"
   ]
  },
  {
   "cell_type": "markdown",
   "id": "1eac24b5",
   "metadata": {
    "papermill": {
     "duration": 0.011775,
     "end_time": "2022-07-22T04:49:47.778659",
     "exception": false,
     "start_time": "2022-07-22T04:49:47.766884",
     "status": "completed"
    },
    "tags": []
   },
   "source": [
    "# Settings"
   ]
  },
  {
   "cell_type": "code",
   "execution_count": 3,
   "id": "ca4560ba",
   "metadata": {
    "execution": {
     "iopub.execute_input": "2022-07-22T04:49:47.795160Z",
     "iopub.status.busy": "2022-07-22T04:49:47.794995Z",
     "iopub.status.idle": "2022-07-22T04:49:47.809821Z",
     "shell.execute_reply": "2022-07-22T04:49:47.809307Z"
    },
    "papermill": {
     "duration": 0.022711,
     "end_time": "2022-07-22T04:49:47.811185",
     "exception": false,
     "start_time": "2022-07-22T04:49:47.788474",
     "status": "completed"
    },
    "tags": [
     "parameters"
    ]
   },
   "outputs": [],
   "source": [
    "# a cohort name (it could be something like UK_BIOBANK, etc)\n",
    "COHORT_NAME = None\n",
    "\n",
    "# reference panel such as 1000G or GTEX_V8\n",
    "REFERENCE_PANEL = None\n",
    "\n",
    "# predictions models such as MASHR or ELASTIC_NET\n",
    "EQTL_MODEL = None\n",
    "\n",
    "# this is the default value used in S-MultiXcan to select the\n",
    "# top principal components of the expression correlation matrix\n",
    "SMULTIXCAN_CONDITION_NUMBER = 30\n",
    "\n",
    "# specifies a single chromosome value\n",
    "CHROMOSOME = None\n",
    "\n",
    "# if True, then it will continue if a gene pair correlation fails,\n",
    "# printing the warning/error for debugging. If False, any warning/error\n",
    "# will be thrown\n",
    "# FIXME: make it False when all is working\n",
    "DEBUG_MODE = True"
   ]
  },
  {
   "cell_type": "code",
   "execution_count": 4,
   "id": "64b01eb8",
   "metadata": {
    "execution": {
     "iopub.execute_input": "2022-07-22T04:49:47.824222Z",
     "iopub.status.busy": "2022-07-22T04:49:47.824041Z",
     "iopub.status.idle": "2022-07-22T04:49:47.838591Z",
     "shell.execute_reply": "2022-07-22T04:49:47.838183Z"
    },
    "papermill": {
     "duration": 0.022521,
     "end_time": "2022-07-22T04:49:47.839935",
     "exception": false,
     "start_time": "2022-07-22T04:49:47.817414",
     "status": "completed"
    },
    "tags": [
     "injected-parameters"
    ]
   },
   "outputs": [],
   "source": [
    "# Parameters\n",
    "COHORT_NAME = \"1000G_EUR\"\n",
    "REFERENCE_PANEL = \"1000G\"\n",
    "EQTL_MODEL = \"MASHR\"\n",
    "CHROMOSOME = 20\n"
   ]
  },
  {
   "cell_type": "code",
   "execution_count": 5,
   "id": "3190631f-27fc-480f-b18e-571d580425a5",
   "metadata": {
    "execution": {
     "iopub.execute_input": "2022-07-22T04:49:47.853313Z",
     "iopub.status.busy": "2022-07-22T04:49:47.853106Z",
     "iopub.status.idle": "2022-07-22T04:49:47.870187Z",
     "shell.execute_reply": "2022-07-22T04:49:47.869718Z"
    },
    "papermill": {
     "duration": 0.025516,
     "end_time": "2022-07-22T04:49:47.871799",
     "exception": false,
     "start_time": "2022-07-22T04:49:47.846283",
     "status": "completed"
    },
    "tags": []
   },
   "outputs": [
    {
     "data": {
      "text/plain": [
       "'Cohort name: 1000g_eur'"
      ]
     },
     "metadata": {},
     "output_type": "display_data"
    }
   ],
   "source": [
    "assert COHORT_NAME is not None or len(COHORT_NAME) == 0, \"A cohort name must be given\"\n",
    "\n",
    "COHORT_NAME = COHORT_NAME.lower()\n",
    "display(f\"Cohort name: {COHORT_NAME}\")"
   ]
  },
  {
   "cell_type": "code",
   "execution_count": 6,
   "id": "f53ba19b-0f93-4fa2-a047-63b375939d1a",
   "metadata": {
    "execution": {
     "iopub.execute_input": "2022-07-22T04:49:47.885711Z",
     "iopub.status.busy": "2022-07-22T04:49:47.885498Z",
     "iopub.status.idle": "2022-07-22T04:49:47.901135Z",
     "shell.execute_reply": "2022-07-22T04:49:47.900683Z"
    },
    "papermill": {
     "duration": 0.024016,
     "end_time": "2022-07-22T04:49:47.902429",
     "exception": false,
     "start_time": "2022-07-22T04:49:47.878413",
     "status": "completed"
    },
    "tags": []
   },
   "outputs": [
    {
     "data": {
      "text/plain": [
       "'Reference panel: 1000G'"
      ]
     },
     "metadata": {},
     "output_type": "display_data"
    }
   ],
   "source": [
    "assert (\n",
    "    REFERENCE_PANEL is not None or len(REFERENCE_PANEL) == 0\n",
    "), \"A reference panel must be given\"\n",
    "\n",
    "display(f\"Reference panel: {REFERENCE_PANEL}\")"
   ]
  },
  {
   "cell_type": "code",
   "execution_count": 7,
   "id": "e024d130-c139-429a-9c6e-ccf149e297b0",
   "metadata": {
    "execution": {
     "iopub.execute_input": "2022-07-22T04:49:47.917025Z",
     "iopub.status.busy": "2022-07-22T04:49:47.916787Z",
     "iopub.status.idle": "2022-07-22T04:49:47.934828Z",
     "shell.execute_reply": "2022-07-22T04:49:47.934282Z"
    },
    "papermill": {
     "duration": 0.027414,
     "end_time": "2022-07-22T04:49:47.936457",
     "exception": false,
     "start_time": "2022-07-22T04:49:47.909043",
     "status": "completed"
    },
    "tags": []
   },
   "outputs": [
    {
     "data": {
      "text/plain": [
       "'eQTL model: MASHR) / mashr_'"
      ]
     },
     "metadata": {},
     "output_type": "display_data"
    }
   ],
   "source": [
    "assert (\n",
    "    EQTL_MODEL is not None or len(EQTL_MODEL) == 0\n",
    "), \"A prediction/eQTL model must be given\"\n",
    "\n",
    "EQTL_MODEL_FILES_PREFIX = conf.PHENOMEXCAN[\"PREDICTION_MODELS\"][f\"{EQTL_MODEL}_PREFIX\"]\n",
    "display(f\"eQTL model: {EQTL_MODEL}) / {EQTL_MODEL_FILES_PREFIX}\")"
   ]
  },
  {
   "cell_type": "code",
   "execution_count": 8,
   "id": "552a7f63-a18c-4d3e-bb6a-94f99b431291",
   "metadata": {
    "execution": {
     "iopub.execute_input": "2022-07-22T04:49:47.952680Z",
     "iopub.status.busy": "2022-07-22T04:49:47.952367Z",
     "iopub.status.idle": "2022-07-22T04:49:47.969954Z",
     "shell.execute_reply": "2022-07-22T04:49:47.969371Z"
    },
    "papermill": {
     "duration": 0.027546,
     "end_time": "2022-07-22T04:49:47.971646",
     "exception": false,
     "start_time": "2022-07-22T04:49:47.944100",
     "status": "completed"
    },
    "tags": []
   },
   "outputs": [
    {
     "data": {
      "text/plain": [
       "'S-MultiXcan condition number: 30'"
      ]
     },
     "metadata": {},
     "output_type": "display_data"
    }
   ],
   "source": [
    "assert (\n",
    "    SMULTIXCAN_CONDITION_NUMBER is not None or SMULTIXCAN_CONDITION_NUMBER > 0\n",
    "), \"The S-MultiXcan condition number (positive integer) must be given\"\n",
    "\n",
    "display(f\"S-MultiXcan condition number: {SMULTIXCAN_CONDITION_NUMBER}\")"
   ]
  },
  {
   "cell_type": "code",
   "execution_count": 9,
   "id": "f34a336f-548e-4afe-8955-90eaea4f42c6",
   "metadata": {
    "execution": {
     "iopub.execute_input": "2022-07-22T04:49:47.988807Z",
     "iopub.status.busy": "2022-07-22T04:49:47.988208Z",
     "iopub.status.idle": "2022-07-22T04:49:48.006567Z",
     "shell.execute_reply": "2022-07-22T04:49:48.006019Z"
    },
    "papermill": {
     "duration": 0.028608,
     "end_time": "2022-07-22T04:49:48.008257",
     "exception": false,
     "start_time": "2022-07-22T04:49:47.979649",
     "status": "completed"
    },
    "tags": []
   },
   "outputs": [
    {
     "data": {
      "text/plain": [
       "'Working on chromosome 20'"
      ]
     },
     "metadata": {},
     "output_type": "display_data"
    }
   ],
   "source": [
    "assert CHROMOSOME is not None and (\n",
    "    1 <= CHROMOSOME <= 22\n",
    "), \"You have to select one chromosome (format: number between 1 and 22)\"\n",
    "\n",
    "CHROMOSOME = str(CHROMOSOME)\n",
    "display(f\"Working on chromosome {CHROMOSOME}\")"
   ]
  },
  {
   "cell_type": "code",
   "execution_count": 10,
   "id": "ab8e96e8-06b5-4363-9dcd-dc4d78cc27f7",
   "metadata": {
    "execution": {
     "iopub.execute_input": "2022-07-22T04:49:48.025607Z",
     "iopub.status.busy": "2022-07-22T04:49:48.025059Z",
     "iopub.status.idle": "2022-07-22T04:49:48.044237Z",
     "shell.execute_reply": "2022-07-22T04:49:48.043588Z"
    },
    "papermill": {
     "duration": 0.02967,
     "end_time": "2022-07-22T04:49:48.045966",
     "exception": false,
     "start_time": "2022-07-22T04:49:48.016296",
     "status": "completed"
    },
    "tags": []
   },
   "outputs": [
    {
     "data": {
      "text/plain": [
       "'Compute correlation within distance True'"
      ]
     },
     "metadata": {},
     "output_type": "display_data"
    }
   ],
   "source": [
    "# TODO: see if this is necessary; if so, make it a parameter with default value True\n",
    "# This parameter, if True, computes the correlation between closeby genes only\n",
    "\n",
    "COMPUTE_CORRELATIONS_WITHIN_DISTANCE = True\n",
    "display(f\"Compute correlation within distance {COMPUTE_CORRELATIONS_WITHIN_DISTANCE}\")"
   ]
  },
  {
   "cell_type": "code",
   "execution_count": 11,
   "id": "396392dc-0340-4540-9b02-e182b833f909",
   "metadata": {
    "execution": {
     "iopub.execute_input": "2022-07-22T04:49:48.063387Z",
     "iopub.status.busy": "2022-07-22T04:49:48.062997Z",
     "iopub.status.idle": "2022-07-22T04:49:48.081534Z",
     "shell.execute_reply": "2022-07-22T04:49:48.081015Z"
    },
    "papermill": {
     "duration": 0.028935,
     "end_time": "2022-07-22T04:49:48.083068",
     "exception": false,
     "start_time": "2022-07-22T04:49:48.054133",
     "status": "completed"
    },
    "tags": []
   },
   "outputs": [
    {
     "data": {
      "text/plain": [
       "'Using output dir base: /opt/data/results/gls/gene_corrs/cohorts/1000g_eur/1000g/mashr'"
      ]
     },
     "metadata": {},
     "output_type": "display_data"
    }
   ],
   "source": [
    "OUTPUT_DIR_BASE = (\n",
    "    conf.RESULTS[\"GLS\"]\n",
    "    / \"gene_corrs\"\n",
    "    / \"cohorts\"\n",
    "    / COHORT_NAME\n",
    "    / REFERENCE_PANEL.lower()\n",
    "    / EQTL_MODEL.lower()\n",
    ")\n",
    "OUTPUT_DIR_BASE.mkdir(parents=True, exist_ok=True)\n",
    "\n",
    "display(f\"Using output dir base: {OUTPUT_DIR_BASE}\")"
   ]
  },
  {
   "cell_type": "code",
   "execution_count": 12,
   "id": "974b4bb1-aa98-4e30-b221-7cd034ad3833",
   "metadata": {
    "execution": {
     "iopub.execute_input": "2022-07-22T04:49:48.102096Z",
     "iopub.status.busy": "2022-07-22T04:49:48.101605Z",
     "iopub.status.idle": "2022-07-22T04:49:48.120691Z",
     "shell.execute_reply": "2022-07-22T04:49:48.120108Z"
    },
    "papermill": {
     "duration": 0.029637,
     "end_time": "2022-07-22T04:49:48.122234",
     "exception": false,
     "start_time": "2022-07-22T04:49:48.092597",
     "status": "completed"
    },
    "tags": []
   },
   "outputs": [
    {
     "data": {
      "text/plain": [
       "PosixPath('/opt/data/results/gls/gene_corrs/cohorts/1000g_eur')"
      ]
     },
     "metadata": {},
     "output_type": "display_data"
    }
   ],
   "source": [
    "INPUT_DIR = conf.RESULTS[\"GLS\"] / \"gene_corrs\" / \"cohorts\" / COHORT_NAME\n",
    "assert INPUT_DIR.exists()\n",
    "\n",
    "display(INPUT_DIR)"
   ]
  },
  {
   "cell_type": "markdown",
   "id": "d2ba085e",
   "metadata": {
    "papermill": {
     "duration": 0.007939,
     "end_time": "2022-07-22T04:49:48.138326",
     "exception": false,
     "start_time": "2022-07-22T04:49:48.130387",
     "status": "completed"
    },
    "tags": []
   },
   "source": [
    "# Load data"
   ]
  },
  {
   "cell_type": "markdown",
   "id": "7dcb8db7",
   "metadata": {
    "papermill": {
     "duration": 0.00807,
     "end_time": "2022-07-22T04:49:48.154473",
     "exception": false,
     "start_time": "2022-07-22T04:49:48.146403",
     "status": "completed"
    },
    "tags": []
   },
   "source": [
    "## GWAS variants"
   ]
  },
  {
   "cell_type": "code",
   "execution_count": 13,
   "id": "29434c4e-8cd3-4b9b-82e4-b5a251d9dd19",
   "metadata": {
    "execution": {
     "iopub.execute_input": "2022-07-22T04:49:48.171984Z",
     "iopub.status.busy": "2022-07-22T04:49:48.171415Z",
     "iopub.status.idle": "2022-07-22T04:49:50.792299Z",
     "shell.execute_reply": "2022-07-22T04:49:50.791818Z"
    },
    "papermill": {
     "duration": 2.631204,
     "end_time": "2022-07-22T04:49:50.793831",
     "exception": false,
     "start_time": "2022-07-22T04:49:48.162627",
     "status": "completed"
    },
    "tags": []
   },
   "outputs": [],
   "source": [
    "with open(INPUT_DIR / \"gwas_variant_ids.pkl\", \"rb\") as handle:\n",
    "    gwas_variants_ids_set = pickle.load(handle)"
   ]
  },
  {
   "cell_type": "code",
   "execution_count": 14,
   "id": "b9d9dec2-4a76-4bf9-bde2-e24c95acb8a0",
   "metadata": {
    "execution": {
     "iopub.execute_input": "2022-07-22T04:49:50.810341Z",
     "iopub.status.busy": "2022-07-22T04:49:50.810097Z",
     "iopub.status.idle": "2022-07-22T04:49:50.828254Z",
     "shell.execute_reply": "2022-07-22T04:49:50.827836Z"
    },
    "papermill": {
     "duration": 0.02784,
     "end_time": "2022-07-22T04:49:50.829544",
     "exception": false,
     "start_time": "2022-07-22T04:49:50.801704",
     "status": "completed"
    },
    "tags": []
   },
   "outputs": [
    {
     "data": {
      "text/plain": [
       "8339505"
      ]
     },
     "execution_count": 14,
     "metadata": {},
     "output_type": "execute_result"
    }
   ],
   "source": [
    "len(gwas_variants_ids_set)"
   ]
  },
  {
   "cell_type": "code",
   "execution_count": 15,
   "id": "4235b06a-6034-4ee4-a0a3-2ae35d122418",
   "metadata": {
    "execution": {
     "iopub.execute_input": "2022-07-22T04:49:50.844149Z",
     "iopub.status.busy": "2022-07-22T04:49:50.843992Z",
     "iopub.status.idle": "2022-07-22T04:49:51.323517Z",
     "shell.execute_reply": "2022-07-22T04:49:51.322732Z"
    },
    "papermill": {
     "duration": 0.488139,
     "end_time": "2022-07-22T04:49:51.324902",
     "exception": false,
     "start_time": "2022-07-22T04:49:50.836763",
     "status": "completed"
    },
    "tags": []
   },
   "outputs": [
    {
     "data": {
      "text/plain": [
       "['chr18_65323012_T_C_b38',\n",
       " 'chr9_108612230_A_G_b38',\n",
       " 'chr13_83139542_A_G_b38',\n",
       " 'chr4_65758068_C_T_b38',\n",
       " 'chr4_60630209_T_C_b38']"
      ]
     },
     "execution_count": 15,
     "metadata": {},
     "output_type": "execute_result"
    }
   ],
   "source": [
    "list(gwas_variants_ids_set)[:5]"
   ]
  },
  {
   "cell_type": "markdown",
   "id": "07866999-2305-41f9-a144-e69c9122c212",
   "metadata": {
    "papermill": {
     "duration": 0.007759,
     "end_time": "2022-07-22T04:49:51.342220",
     "exception": false,
     "start_time": "2022-07-22T04:49:51.334461",
     "status": "completed"
    },
    "tags": []
   },
   "source": [
    "## S-PrediXcan tissue models"
   ]
  },
  {
   "cell_type": "code",
   "execution_count": 16,
   "id": "780611d9-77c8-405f-90a4-f271f7b09397",
   "metadata": {
    "execution": {
     "iopub.execute_input": "2022-07-22T04:49:51.360057Z",
     "iopub.status.busy": "2022-07-22T04:49:51.358905Z",
     "iopub.status.idle": "2022-07-22T04:49:52.127852Z",
     "shell.execute_reply": "2022-07-22T04:49:52.127375Z"
    },
    "papermill": {
     "duration": 0.778749,
     "end_time": "2022-07-22T04:49:52.129241",
     "exception": false,
     "start_time": "2022-07-22T04:49:51.350492",
     "status": "completed"
    },
    "tags": []
   },
   "outputs": [],
   "source": [
    "spredixcan_genes_models = pd.read_pickle(INPUT_DIR / \"gene_tissues.pkl\").set_index(\n",
    "    \"gene_id\"\n",
    ")"
   ]
  },
  {
   "cell_type": "code",
   "execution_count": 17,
   "id": "726dd1f6-9557-4225-91fa-b3b879ea96e1",
   "metadata": {
    "execution": {
     "iopub.execute_input": "2022-07-22T04:49:52.144134Z",
     "iopub.status.busy": "2022-07-22T04:49:52.143962Z",
     "iopub.status.idle": "2022-07-22T04:49:52.158626Z",
     "shell.execute_reply": "2022-07-22T04:49:52.158217Z"
    },
    "papermill": {
     "duration": 0.023129,
     "end_time": "2022-07-22T04:49:52.159804",
     "exception": false,
     "start_time": "2022-07-22T04:49:52.136675",
     "status": "completed"
    },
    "tags": []
   },
   "outputs": [
    {
     "data": {
      "text/plain": [
       "(22314, 2)"
      ]
     },
     "execution_count": 17,
     "metadata": {},
     "output_type": "execute_result"
    }
   ],
   "source": [
    "spredixcan_genes_models.shape"
   ]
  },
  {
   "cell_type": "code",
   "execution_count": 18,
   "id": "944a1b48-222c-4eb0-b252-b9de2cbca215",
   "metadata": {
    "execution": {
     "iopub.execute_input": "2022-07-22T04:49:52.174373Z",
     "iopub.status.busy": "2022-07-22T04:49:52.174096Z",
     "iopub.status.idle": "2022-07-22T04:49:52.193661Z",
     "shell.execute_reply": "2022-07-22T04:49:52.193223Z"
    },
    "papermill": {
     "duration": 0.028306,
     "end_time": "2022-07-22T04:49:52.194987",
     "exception": false,
     "start_time": "2022-07-22T04:49:52.166681",
     "status": "completed"
    },
    "tags": []
   },
   "outputs": [
    {
     "data": {
      "text/html": [
       "<div>\n",
       "<style scoped>\n",
       "    .dataframe tbody tr th:only-of-type {\n",
       "        vertical-align: middle;\n",
       "    }\n",
       "\n",
       "    .dataframe tbody tr th {\n",
       "        vertical-align: top;\n",
       "    }\n",
       "\n",
       "    .dataframe thead th {\n",
       "        text-align: right;\n",
       "    }\n",
       "</style>\n",
       "<table border=\"1\" class=\"dataframe\">\n",
       "  <thead>\n",
       "    <tr style=\"text-align: right;\">\n",
       "      <th></th>\n",
       "      <th>gene_name</th>\n",
       "      <th>tissue</th>\n",
       "    </tr>\n",
       "    <tr>\n",
       "      <th>gene_id</th>\n",
       "      <th></th>\n",
       "      <th></th>\n",
       "    </tr>\n",
       "  </thead>\n",
       "  <tbody>\n",
       "    <tr>\n",
       "      <th>ENSG00000000419</th>\n",
       "      <td>DPM1</td>\n",
       "      <td>(Brain_Substantia_nigra, Brain_Hypothalamus)</td>\n",
       "    </tr>\n",
       "    <tr>\n",
       "      <th>ENSG00000000457</th>\n",
       "      <td>SCYL3</td>\n",
       "      <td>(Artery_Tibial, Minor_Salivary_Gland, Esophagu...</td>\n",
       "    </tr>\n",
       "    <tr>\n",
       "      <th>ENSG00000000460</th>\n",
       "      <td>C1orf112</td>\n",
       "      <td>(Artery_Tibial, Minor_Salivary_Gland, Esophagu...</td>\n",
       "    </tr>\n",
       "    <tr>\n",
       "      <th>ENSG00000000938</th>\n",
       "      <td>FGR</td>\n",
       "      <td>(Artery_Tibial, Esophagus_Gastroesophageal_Jun...</td>\n",
       "    </tr>\n",
       "    <tr>\n",
       "      <th>ENSG00000000971</th>\n",
       "      <td>CFH</td>\n",
       "      <td>(Artery_Tibial, Esophagus_Gastroesophageal_Jun...</td>\n",
       "    </tr>\n",
       "  </tbody>\n",
       "</table>\n",
       "</div>"
      ],
      "text/plain": [
       "                gene_name                                             tissue\n",
       "gene_id                                                                     \n",
       "ENSG00000000419      DPM1       (Brain_Substantia_nigra, Brain_Hypothalamus)\n",
       "ENSG00000000457     SCYL3  (Artery_Tibial, Minor_Salivary_Gland, Esophagu...\n",
       "ENSG00000000460  C1orf112  (Artery_Tibial, Minor_Salivary_Gland, Esophagu...\n",
       "ENSG00000000938       FGR  (Artery_Tibial, Esophagus_Gastroesophageal_Jun...\n",
       "ENSG00000000971       CFH  (Artery_Tibial, Esophagus_Gastroesophageal_Jun..."
      ]
     },
     "execution_count": 18,
     "metadata": {},
     "output_type": "execute_result"
    }
   ],
   "source": [
    "spredixcan_genes_models.head()"
   ]
  },
  {
   "cell_type": "code",
   "execution_count": 19,
   "id": "d1c11bb1-be0b-4f40-b360-633d6827109f",
   "metadata": {
    "execution": {
     "iopub.execute_input": "2022-07-22T04:49:52.210141Z",
     "iopub.status.busy": "2022-07-22T04:49:52.209918Z",
     "iopub.status.idle": "2022-07-22T04:49:52.226544Z",
     "shell.execute_reply": "2022-07-22T04:49:52.226073Z"
    },
    "papermill": {
     "duration": 0.025645,
     "end_time": "2022-07-22T04:49:52.227874",
     "exception": false,
     "start_time": "2022-07-22T04:49:52.202229",
     "status": "completed"
    },
    "tags": []
   },
   "outputs": [],
   "source": [
    "assert spredixcan_genes_models.index.is_unique"
   ]
  },
  {
   "cell_type": "markdown",
   "id": "6caf9d10-eda8-4ad2-8811-a983aa77a25a",
   "metadata": {
    "papermill": {
     "duration": 0.007473,
     "end_time": "2022-07-22T04:49:52.242940",
     "exception": false,
     "start_time": "2022-07-22T04:49:52.235467",
     "status": "completed"
    },
    "tags": []
   },
   "source": [
    "## Get common genes"
   ]
  },
  {
   "cell_type": "code",
   "execution_count": 20,
   "id": "f8d1e317-1cc8-4bdf-bbe9-c3b0a5478359",
   "metadata": {
    "execution": {
     "iopub.execute_input": "2022-07-22T04:49:52.258404Z",
     "iopub.status.busy": "2022-07-22T04:49:52.258131Z",
     "iopub.status.idle": "2022-07-22T04:49:52.274270Z",
     "shell.execute_reply": "2022-07-22T04:49:52.273851Z"
    },
    "papermill": {
     "duration": 0.02518,
     "end_time": "2022-07-22T04:49:52.275591",
     "exception": false,
     "start_time": "2022-07-22T04:49:52.250411",
     "status": "completed"
    },
    "tags": []
   },
   "outputs": [],
   "source": [
    "with open(INPUT_DIR / \"common_genes.pkl\", \"rb\") as handle:\n",
    "    common_genes = pickle.load(handle)"
   ]
  },
  {
   "cell_type": "code",
   "execution_count": 21,
   "id": "ce9506aa-2f38-4e46-b9c2-84d750fac0da",
   "metadata": {
    "execution": {
     "iopub.execute_input": "2022-07-22T04:49:52.291002Z",
     "iopub.status.busy": "2022-07-22T04:49:52.290702Z",
     "iopub.status.idle": "2022-07-22T04:49:52.305378Z",
     "shell.execute_reply": "2022-07-22T04:49:52.304983Z"
    },
    "papermill": {
     "duration": 0.023598,
     "end_time": "2022-07-22T04:49:52.306576",
     "exception": false,
     "start_time": "2022-07-22T04:49:52.282978",
     "status": "completed"
    },
    "tags": []
   },
   "outputs": [
    {
     "data": {
      "text/plain": [
       "6444"
      ]
     },
     "execution_count": 21,
     "metadata": {},
     "output_type": "execute_result"
    }
   ],
   "source": [
    "len(common_genes)"
   ]
  },
  {
   "cell_type": "code",
   "execution_count": 22,
   "id": "f525a698-506a-48e0-9aee-1aca62def5dd",
   "metadata": {
    "execution": {
     "iopub.execute_input": "2022-07-22T04:49:52.322120Z",
     "iopub.status.busy": "2022-07-22T04:49:52.321902Z",
     "iopub.status.idle": "2022-07-22T04:49:52.339331Z",
     "shell.execute_reply": "2022-07-22T04:49:52.338933Z"
    },
    "papermill": {
     "duration": 0.027112,
     "end_time": "2022-07-22T04:49:52.340948",
     "exception": false,
     "start_time": "2022-07-22T04:49:52.313836",
     "status": "completed"
    },
    "tags": []
   },
   "outputs": [
    {
     "data": {
      "text/plain": [
       "['A2M', 'AAAS', 'AANAT', 'AARS', 'AARS2']"
      ]
     },
     "execution_count": 22,
     "metadata": {},
     "output_type": "execute_result"
    }
   ],
   "source": [
    "sorted(list(common_genes))[:5]"
   ]
  },
  {
   "cell_type": "markdown",
   "id": "a5b5092c-a13e-47c4-a92a-480fcc08f3ae",
   "metadata": {
    "papermill": {
     "duration": 0.007777,
     "end_time": "2022-07-22T04:49:52.356375",
     "exception": false,
     "start_time": "2022-07-22T04:49:52.348598",
     "status": "completed"
    },
    "tags": []
   },
   "source": [
    "## Gene info"
   ]
  },
  {
   "cell_type": "code",
   "execution_count": 23,
   "id": "7d6bb224-88e9-4358-ac10-43a41d92cdad",
   "metadata": {
    "execution": {
     "iopub.execute_input": "2022-07-22T04:49:52.372632Z",
     "iopub.status.busy": "2022-07-22T04:49:52.372421Z",
     "iopub.status.idle": "2022-07-22T04:49:52.390718Z",
     "shell.execute_reply": "2022-07-22T04:49:52.390234Z"
    },
    "papermill": {
     "duration": 0.027907,
     "end_time": "2022-07-22T04:49:52.392022",
     "exception": false,
     "start_time": "2022-07-22T04:49:52.364115",
     "status": "completed"
    },
    "tags": []
   },
   "outputs": [],
   "source": [
    "genes_info = pd.read_pickle(INPUT_DIR / \"genes_info.pkl\")"
   ]
  },
  {
   "cell_type": "code",
   "execution_count": 24,
   "id": "9e32abfa-546d-483e-8c18-d526e9e05903",
   "metadata": {
    "execution": {
     "iopub.execute_input": "2022-07-22T04:49:52.407528Z",
     "iopub.status.busy": "2022-07-22T04:49:52.407331Z",
     "iopub.status.idle": "2022-07-22T04:49:52.421462Z",
     "shell.execute_reply": "2022-07-22T04:49:52.420993Z"
    },
    "papermill": {
     "duration": 0.023123,
     "end_time": "2022-07-22T04:49:52.422648",
     "exception": false,
     "start_time": "2022-07-22T04:49:52.399525",
     "status": "completed"
    },
    "tags": []
   },
   "outputs": [
    {
     "data": {
      "text/plain": [
       "(6444, 7)"
      ]
     },
     "execution_count": 24,
     "metadata": {},
     "output_type": "execute_result"
    }
   ],
   "source": [
    "genes_info.shape"
   ]
  },
  {
   "cell_type": "code",
   "execution_count": 25,
   "id": "d16c3e92-85ec-468a-9a56-e25a9774a1cb",
   "metadata": {
    "execution": {
     "iopub.execute_input": "2022-07-22T04:49:52.439562Z",
     "iopub.status.busy": "2022-07-22T04:49:52.439362Z",
     "iopub.status.idle": "2022-07-22T04:49:52.459944Z",
     "shell.execute_reply": "2022-07-22T04:49:52.459429Z"
    },
    "papermill": {
     "duration": 0.030462,
     "end_time": "2022-07-22T04:49:52.461227",
     "exception": false,
     "start_time": "2022-07-22T04:49:52.430765",
     "status": "completed"
    },
    "tags": []
   },
   "outputs": [
    {
     "data": {
      "text/html": [
       "<div>\n",
       "<style scoped>\n",
       "    .dataframe tbody tr th:only-of-type {\n",
       "        vertical-align: middle;\n",
       "    }\n",
       "\n",
       "    .dataframe tbody tr th {\n",
       "        vertical-align: top;\n",
       "    }\n",
       "\n",
       "    .dataframe thead th {\n",
       "        text-align: right;\n",
       "    }\n",
       "</style>\n",
       "<table border=\"1\" class=\"dataframe\">\n",
       "  <thead>\n",
       "    <tr style=\"text-align: right;\">\n",
       "      <th></th>\n",
       "      <th>name</th>\n",
       "      <th>id</th>\n",
       "      <th>chr</th>\n",
       "      <th>band</th>\n",
       "      <th>start_position</th>\n",
       "      <th>end_position</th>\n",
       "      <th>gene_length</th>\n",
       "    </tr>\n",
       "  </thead>\n",
       "  <tbody>\n",
       "    <tr>\n",
       "      <th>0</th>\n",
       "      <td>MFN2</td>\n",
       "      <td>ENSG00000116688</td>\n",
       "      <td>1</td>\n",
       "      <td>1p36.22</td>\n",
       "      <td>11980181.0</td>\n",
       "      <td>12013514.0</td>\n",
       "      <td>33333.0</td>\n",
       "    </tr>\n",
       "    <tr>\n",
       "      <th>1</th>\n",
       "      <td>PPA2</td>\n",
       "      <td>ENSG00000138777</td>\n",
       "      <td>4</td>\n",
       "      <td>4q24</td>\n",
       "      <td>105369077.0</td>\n",
       "      <td>105474067.0</td>\n",
       "      <td>104990.0</td>\n",
       "    </tr>\n",
       "    <tr>\n",
       "      <th>2</th>\n",
       "      <td>ADRA2A</td>\n",
       "      <td>ENSG00000150594</td>\n",
       "      <td>10</td>\n",
       "      <td>10q25.2</td>\n",
       "      <td>111077163.0</td>\n",
       "      <td>111080907.0</td>\n",
       "      <td>3744.0</td>\n",
       "    </tr>\n",
       "    <tr>\n",
       "      <th>3</th>\n",
       "      <td>RYR2</td>\n",
       "      <td>ENSG00000198626</td>\n",
       "      <td>1</td>\n",
       "      <td>1q43</td>\n",
       "      <td>237042184.0</td>\n",
       "      <td>237833988.0</td>\n",
       "      <td>791804.0</td>\n",
       "    </tr>\n",
       "    <tr>\n",
       "      <th>4</th>\n",
       "      <td>VAV2</td>\n",
       "      <td>ENSG00000160293</td>\n",
       "      <td>9</td>\n",
       "      <td>9q34.2</td>\n",
       "      <td>133761894.0</td>\n",
       "      <td>133992604.0</td>\n",
       "      <td>230710.0</td>\n",
       "    </tr>\n",
       "  </tbody>\n",
       "</table>\n",
       "</div>"
      ],
      "text/plain": [
       "     name               id chr     band  start_position  end_position  \\\n",
       "0    MFN2  ENSG00000116688   1  1p36.22      11980181.0    12013514.0   \n",
       "1    PPA2  ENSG00000138777   4     4q24     105369077.0   105474067.0   \n",
       "2  ADRA2A  ENSG00000150594  10  10q25.2     111077163.0   111080907.0   \n",
       "3    RYR2  ENSG00000198626   1     1q43     237042184.0   237833988.0   \n",
       "4    VAV2  ENSG00000160293   9   9q34.2     133761894.0   133992604.0   \n",
       "\n",
       "   gene_length  \n",
       "0      33333.0  \n",
       "1     104990.0  \n",
       "2       3744.0  \n",
       "3     791804.0  \n",
       "4     230710.0  "
      ]
     },
     "execution_count": 25,
     "metadata": {},
     "output_type": "execute_result"
    }
   ],
   "source": [
    "genes_info.head()"
   ]
  },
  {
   "cell_type": "markdown",
   "id": "d3843e06",
   "metadata": {
    "papermill": {
     "duration": 0.007998,
     "end_time": "2022-07-22T04:49:52.477443",
     "exception": false,
     "start_time": "2022-07-22T04:49:52.469445",
     "status": "completed"
    },
    "tags": []
   },
   "source": [
    "# Compute correlations"
   ]
  },
  {
   "cell_type": "code",
   "execution_count": 26,
   "id": "cb859c15-d1f3-4006-a74c-2b83c0db9611",
   "metadata": {
    "execution": {
     "iopub.execute_input": "2022-07-22T04:49:52.494221Z",
     "iopub.status.busy": "2022-07-22T04:49:52.494022Z",
     "iopub.status.idle": "2022-07-22T04:49:52.508571Z",
     "shell.execute_reply": "2022-07-22T04:49:52.508096Z"
    },
    "papermill": {
     "duration": 0.024195,
     "end_time": "2022-07-22T04:49:52.509744",
     "exception": false,
     "start_time": "2022-07-22T04:49:52.485549",
     "status": "completed"
    },
    "tags": []
   },
   "outputs": [
    {
     "data": {
      "text/plain": [
       "PosixPath('/opt/data/results/gls/gene_corrs/cohorts/1000g_eur/1000g/mashr/by_chr/gene_corrs-chr20.pkl')"
      ]
     },
     "metadata": {},
     "output_type": "display_data"
    }
   ],
   "source": [
    "output_dir = OUTPUT_DIR_BASE / \"by_chr\"\n",
    "output_dir.mkdir(exist_ok=True, parents=True)\n",
    "output_file = output_dir / f\"gene_corrs-chr{CHROMOSOME}.pkl\"\n",
    "display(output_file)"
   ]
  },
  {
   "cell_type": "code",
   "execution_count": 27,
   "id": "aa674fe4-6794-4eed-98fa-32b39d1d4ace",
   "metadata": {
    "execution": {
     "iopub.execute_input": "2022-07-22T04:49:52.525434Z",
     "iopub.status.busy": "2022-07-22T04:49:52.525141Z",
     "iopub.status.idle": "2022-07-22T04:49:52.540480Z",
     "shell.execute_reply": "2022-07-22T04:49:52.540028Z"
    },
    "papermill": {
     "duration": 0.024531,
     "end_time": "2022-07-22T04:49:52.541756",
     "exception": false,
     "start_time": "2022-07-22T04:49:52.517225",
     "status": "completed"
    },
    "tags": []
   },
   "outputs": [],
   "source": [
    "warnings.filterwarnings(\"error\")"
   ]
  },
  {
   "cell_type": "code",
   "execution_count": 28,
   "id": "44d5450b-3baf-43f1-9e2e-4b06f1a785f8",
   "metadata": {
    "execution": {
     "iopub.execute_input": "2022-07-22T04:49:52.559139Z",
     "iopub.status.busy": "2022-07-22T04:49:52.558942Z",
     "iopub.status.idle": "2022-07-22T04:49:52.575513Z",
     "shell.execute_reply": "2022-07-22T04:49:52.575033Z"
    },
    "papermill": {
     "duration": 0.026964,
     "end_time": "2022-07-22T04:49:52.576851",
     "exception": false,
     "start_time": "2022-07-22T04:49:52.549887",
     "status": "completed"
    },
    "tags": []
   },
   "outputs": [],
   "source": [
    "# standard checks\n",
    "all_chrs = genes_info[\"chr\"].dropna().unique()\n",
    "assert all_chrs.shape[0] == 22\n",
    "\n",
    "# select chromosome given by the user\n",
    "assert CHROMOSOME in all_chrs"
   ]
  },
  {
   "cell_type": "code",
   "execution_count": 29,
   "id": "2d7c043c-92a7-4d35-991b-fa69ac1e0268",
   "metadata": {
    "execution": {
     "iopub.execute_input": "2022-07-22T04:49:52.594316Z",
     "iopub.status.busy": "2022-07-22T04:49:52.594121Z",
     "iopub.status.idle": "2022-07-22T04:49:52.611208Z",
     "shell.execute_reply": "2022-07-22T04:49:52.610705Z"
    },
    "papermill": {
     "duration": 0.027187,
     "end_time": "2022-07-22T04:49:52.612499",
     "exception": false,
     "start_time": "2022-07-22T04:49:52.585312",
     "status": "completed"
    },
    "tags": []
   },
   "outputs": [
    {
     "name": "stdout",
     "output_type": "stream",
     "text": [
      "Number of genes in chromosome: 187\n"
     ]
    }
   ],
   "source": [
    "# run only on the chromosome specified\n",
    "all_chrs = [CHROMOSOME]\n",
    "genes_chr = genes_info[genes_info[\"chr\"] == CHROMOSOME]\n",
    "\n",
    "# For testing purposes\n",
    "# genes_chr = genes_chr.sample(n=20)\n",
    "\n",
    "print(f\"Number of genes in chromosome: {genes_chr.shape[0]}\", flush=True)"
   ]
  },
  {
   "cell_type": "code",
   "execution_count": 30,
   "id": "916015d8-2979-46d3-a9b9-1cf5a0932c6a",
   "metadata": {
    "execution": {
     "iopub.execute_input": "2022-07-22T04:49:52.630112Z",
     "iopub.status.busy": "2022-07-22T04:49:52.629951Z",
     "iopub.status.idle": "2022-07-22T04:49:52.644801Z",
     "shell.execute_reply": "2022-07-22T04:49:52.644358Z"
    },
    "papermill": {
     "duration": 0.024493,
     "end_time": "2022-07-22T04:49:52.646083",
     "exception": false,
     "start_time": "2022-07-22T04:49:52.621590",
     "status": "completed"
    },
    "tags": []
   },
   "outputs": [],
   "source": [
    "# sort genes by starting position to make visualizations better later\n",
    "genes_chr = genes_chr.sort_values(\"start_position\")"
   ]
  },
  {
   "cell_type": "code",
   "execution_count": 31,
   "id": "a38aa74a-8ad3-47f6-8ef9-56be0e011774",
   "metadata": {
    "execution": {
     "iopub.execute_input": "2022-07-22T04:49:52.663393Z",
     "iopub.status.busy": "2022-07-22T04:49:52.663187Z",
     "iopub.status.idle": "2022-07-22T04:49:52.678475Z",
     "shell.execute_reply": "2022-07-22T04:49:52.678051Z"
    },
    "papermill": {
     "duration": 0.025324,
     "end_time": "2022-07-22T04:49:52.679751",
     "exception": false,
     "start_time": "2022-07-22T04:49:52.654427",
     "status": "completed"
    },
    "tags": []
   },
   "outputs": [],
   "source": [
    "gene_chr_objs = [Gene(ensembl_id=gene_id) for gene_id in genes_chr[\"id\"]]"
   ]
  },
  {
   "cell_type": "code",
   "execution_count": 32,
   "id": "570f974f-13c3-42b6-ad3a-ce99ca885c1a",
   "metadata": {
    "execution": {
     "iopub.execute_input": "2022-07-22T04:49:52.696582Z",
     "iopub.status.busy": "2022-07-22T04:49:52.696251Z",
     "iopub.status.idle": "2022-07-22T04:49:52.712781Z",
     "shell.execute_reply": "2022-07-22T04:49:52.712263Z"
    },
    "papermill": {
     "duration": 0.026539,
     "end_time": "2022-07-22T04:49:52.714005",
     "exception": false,
     "start_time": "2022-07-22T04:49:52.687466",
     "status": "completed"
    },
    "tags": []
   },
   "outputs": [
    {
     "name": "stdout",
     "output_type": "stream",
     "text": [
      "Number of gene combinations: 17391\n"
     ]
    }
   ],
   "source": [
    "n = len(gene_chr_objs)\n",
    "n_comb = int(n * (n - 1) / 2.0)\n",
    "print(f\"Number of gene combinations: {n_comb}\", flush=True)"
   ]
  },
  {
   "cell_type": "code",
   "execution_count": 33,
   "id": "cdbb90a1",
   "metadata": {
    "execution": {
     "iopub.execute_input": "2022-07-22T04:49:52.731680Z",
     "iopub.status.busy": "2022-07-22T04:49:52.731216Z",
     "iopub.status.idle": "2022-07-22T04:54:41.053041Z",
     "shell.execute_reply": "2022-07-22T04:54:41.052583Z"
    },
    "papermill": {
     "duration": 288.332117,
     "end_time": "2022-07-22T04:54:41.054253",
     "exception": false,
     "start_time": "2022-07-22T04:49:52.722136",
     "status": "completed"
    },
    "tags": []
   },
   "outputs": [
    {
     "name": "stderr",
     "output_type": "stream",
     "text": [
      "ENSG00000171700 / ENSG00000125510: 100%|██████████████████████| 17391/17391 [04:48<00:00, 60.32it/s]\n"
     ]
    },
    {
     "data": {
      "text/plain": [
       "PosixPath('/opt/data/results/gls/gene_corrs/cohorts/1000g_eur/1000g/mashr/by_chr/gene_corrs-chr20.pkl')"
      ]
     },
     "metadata": {},
     "output_type": "display_data"
    }
   ],
   "source": [
    "gene_corrs = []\n",
    "\n",
    "i = 0\n",
    "with tqdm(ncols=100, total=n_comb) as pbar:\n",
    "    for gene1_idx in range(0, len(gene_chr_objs) - 1):\n",
    "        gene1_obj = gene_chr_objs[gene1_idx]\n",
    "        gene1_tissues = spredixcan_genes_models.loc[gene1_obj.ensembl_id, \"tissue\"]\n",
    "\n",
    "        for gene2_idx in range(gene1_idx + 1, len(gene_chr_objs)):\n",
    "            gene2_obj = gene_chr_objs[gene2_idx]\n",
    "            gene2_tissues = spredixcan_genes_models.loc[gene2_obj.ensembl_id, \"tissue\"]\n",
    "\n",
    "            pbar.set_description(f\"{gene1_obj.ensembl_id} / {gene2_obj.ensembl_id}\")\n",
    "\n",
    "            try:\n",
    "                r = gene1_obj.get_ssm_correlation(\n",
    "                    other_gene=gene2_obj,\n",
    "                    tissues=gene1_tissues,\n",
    "                    other_tissues=gene2_tissues,\n",
    "                    snps_subset=gwas_variants_ids_set,\n",
    "                    condition_number=SMULTIXCAN_CONDITION_NUMBER,\n",
    "                    reference_panel=REFERENCE_PANEL,\n",
    "                    model_type=EQTL_MODEL,\n",
    "                    use_within_distance=COMPUTE_CORRELATIONS_WITHIN_DISTANCE,\n",
    "                )\n",
    "\n",
    "                if r is None:\n",
    "                    # if r is None, it's very likely because:\n",
    "                    #  * one of the genes has no prediction models\n",
    "                    #  * all the SNPs predictors for the gene are not present in the reference\n",
    "                    #    panel\n",
    "\n",
    "                    r = 0.0\n",
    "\n",
    "                gene_corrs.append(r)\n",
    "            except Warning as e:\n",
    "                if not DEBUG_MODE:\n",
    "                    raise e\n",
    "\n",
    "                print(\n",
    "                    f\"RuntimeWarning for genes {gene1_obj.ensembl_id} and {gene2_obj.ensembl_id}\",\n",
    "                    flush=True,\n",
    "                )\n",
    "                print(traceback.format_exc(), flush=True)\n",
    "\n",
    "                gene_corrs.append(np.nan)\n",
    "            except Exception as e:\n",
    "                if not DEBUG_MODE:\n",
    "                    raise e\n",
    "\n",
    "                print(\n",
    "                    f\"Exception for genes {gene1_obj.ensembl_id} and {gene2_obj.ensembl_id}\",\n",
    "                    flush=True,\n",
    "                )\n",
    "                print(traceback.format_exc(), flush=True)\n",
    "\n",
    "                gene_corrs.append(np.nan)\n",
    "\n",
    "            pbar.update(1)\n",
    "\n",
    "# create a pandas series\n",
    "gene_corrs_flat = pd.Series(gene_corrs)\n",
    "\n",
    "# save\n",
    "# FIXME: consider saving only the condenced matrix here. See here for\n",
    "# more details: https://github.com/greenelab/phenoplier/pull/38#discussion_r634600813\n",
    "gene_corrs_data = squareform(np.array(gene_corrs, dtype=np.float64))\n",
    "np.fill_diagonal(gene_corrs_data, 1.0)\n",
    "\n",
    "gene_chr_ids = [g.ensembl_id for g in gene_chr_objs]\n",
    "gene_corrs_df = pd.DataFrame(\n",
    "    data=gene_corrs_data,\n",
    "    index=gene_chr_ids,\n",
    "    columns=gene_chr_ids,\n",
    ")\n",
    "\n",
    "output_dir.mkdir(exist_ok=True, parents=True)\n",
    "display(output_file)\n",
    "\n",
    "gene_corrs_df.to_pickle(output_file)"
   ]
  },
  {
   "cell_type": "markdown",
   "id": "faa67b51-5373-470f-aa72-2ded53fa6dfe",
   "metadata": {
    "papermill": {
     "duration": 0.691952,
     "end_time": "2022-07-22T04:54:42.438758",
     "exception": false,
     "start_time": "2022-07-22T04:54:41.746806",
     "status": "completed"
    },
    "tags": []
   },
   "source": [
    "# Testing"
   ]
  },
  {
   "cell_type": "code",
   "execution_count": 34,
   "id": "14f7d046-4b55-4896-a56b-990127bcc388",
   "metadata": {
    "execution": {
     "iopub.execute_input": "2022-07-22T04:54:43.768323Z",
     "iopub.status.busy": "2022-07-22T04:54:43.768123Z",
     "iopub.status.idle": "2022-07-22T04:54:43.784558Z",
     "shell.execute_reply": "2022-07-22T04:54:43.783996Z"
    },
    "papermill": {
     "duration": 0.692126,
     "end_time": "2022-07-22T04:54:43.785751",
     "exception": false,
     "start_time": "2022-07-22T04:54:43.093625",
     "status": "completed"
    },
    "tags": []
   },
   "outputs": [
    {
     "data": {
      "text/plain": [
       "(187, 187)"
      ]
     },
     "execution_count": 34,
     "metadata": {},
     "output_type": "execute_result"
    }
   ],
   "source": [
    "gene_corrs_df.shape"
   ]
  },
  {
   "cell_type": "code",
   "execution_count": 35,
   "id": "c7d15414-3297-4537-a7c6-7588c0baeb75",
   "metadata": {
    "execution": {
     "iopub.execute_input": "2022-07-22T04:54:45.147541Z",
     "iopub.status.busy": "2022-07-22T04:54:45.147337Z",
     "iopub.status.idle": "2022-07-22T04:54:45.175105Z",
     "shell.execute_reply": "2022-07-22T04:54:45.174651Z"
    },
    "papermill": {
     "duration": 0.707487,
     "end_time": "2022-07-22T04:54:45.176268",
     "exception": false,
     "start_time": "2022-07-22T04:54:44.468781",
     "status": "completed"
    },
    "tags": []
   },
   "outputs": [
    {
     "data": {
      "text/html": [
       "<div>\n",
       "<style scoped>\n",
       "    .dataframe tbody tr th:only-of-type {\n",
       "        vertical-align: middle;\n",
       "    }\n",
       "\n",
       "    .dataframe tbody tr th {\n",
       "        vertical-align: top;\n",
       "    }\n",
       "\n",
       "    .dataframe thead th {\n",
       "        text-align: right;\n",
       "    }\n",
       "</style>\n",
       "<table border=\"1\" class=\"dataframe\">\n",
       "  <thead>\n",
       "    <tr style=\"text-align: right;\">\n",
       "      <th></th>\n",
       "      <th>ENSG00000101255</th>\n",
       "      <th>ENSG00000125826</th>\n",
       "      <th>ENSG00000101266</th>\n",
       "      <th>ENSG00000101280</th>\n",
       "      <th>ENSG00000125818</th>\n",
       "      <th>ENSG00000101298</th>\n",
       "      <th>ENSG00000088832</th>\n",
       "      <th>ENSG00000101307</th>\n",
       "      <th>ENSG00000089012</th>\n",
       "      <th>ENSG00000198053</th>\n",
       "      <th>...</th>\n",
       "      <th>ENSG00000092758</th>\n",
       "      <th>ENSG00000101191</th>\n",
       "      <th>ENSG00000101199</th>\n",
       "      <th>ENSG00000243509</th>\n",
       "      <th>ENSG00000203896</th>\n",
       "      <th>ENSG00000101152</th>\n",
       "      <th>ENSG00000198276</th>\n",
       "      <th>ENSG00000101161</th>\n",
       "      <th>ENSG00000171700</th>\n",
       "      <th>ENSG00000125510</th>\n",
       "    </tr>\n",
       "  </thead>\n",
       "  <tbody>\n",
       "    <tr>\n",
       "      <th>ENSG00000101255</th>\n",
       "      <td>1.000000</td>\n",
       "      <td>0.050683</td>\n",
       "      <td>0.017861</td>\n",
       "      <td>0.011775</td>\n",
       "      <td>0.002720</td>\n",
       "      <td>0.008144</td>\n",
       "      <td>0.013091</td>\n",
       "      <td>0.003198</td>\n",
       "      <td>0.010456</td>\n",
       "      <td>0.010639</td>\n",
       "      <td>...</td>\n",
       "      <td>0.0</td>\n",
       "      <td>0.0</td>\n",
       "      <td>0.0</td>\n",
       "      <td>0.0</td>\n",
       "      <td>0.0</td>\n",
       "      <td>0.0</td>\n",
       "      <td>0.0</td>\n",
       "      <td>0.0</td>\n",
       "      <td>0.0</td>\n",
       "      <td>0.0</td>\n",
       "    </tr>\n",
       "    <tr>\n",
       "      <th>ENSG00000125826</th>\n",
       "      <td>0.050683</td>\n",
       "      <td>1.000000</td>\n",
       "      <td>0.066958</td>\n",
       "      <td>0.008757</td>\n",
       "      <td>0.004395</td>\n",
       "      <td>0.016771</td>\n",
       "      <td>0.015061</td>\n",
       "      <td>0.008082</td>\n",
       "      <td>0.013941</td>\n",
       "      <td>0.014500</td>\n",
       "      <td>...</td>\n",
       "      <td>0.0</td>\n",
       "      <td>0.0</td>\n",
       "      <td>0.0</td>\n",
       "      <td>0.0</td>\n",
       "      <td>0.0</td>\n",
       "      <td>0.0</td>\n",
       "      <td>0.0</td>\n",
       "      <td>0.0</td>\n",
       "      <td>0.0</td>\n",
       "      <td>0.0</td>\n",
       "    </tr>\n",
       "    <tr>\n",
       "      <th>ENSG00000101266</th>\n",
       "      <td>0.017861</td>\n",
       "      <td>0.066958</td>\n",
       "      <td>1.000000</td>\n",
       "      <td>0.014596</td>\n",
       "      <td>0.005386</td>\n",
       "      <td>0.015147</td>\n",
       "      <td>0.015111</td>\n",
       "      <td>0.005819</td>\n",
       "      <td>0.013203</td>\n",
       "      <td>0.012445</td>\n",
       "      <td>...</td>\n",
       "      <td>0.0</td>\n",
       "      <td>0.0</td>\n",
       "      <td>0.0</td>\n",
       "      <td>0.0</td>\n",
       "      <td>0.0</td>\n",
       "      <td>0.0</td>\n",
       "      <td>0.0</td>\n",
       "      <td>0.0</td>\n",
       "      <td>0.0</td>\n",
       "      <td>0.0</td>\n",
       "    </tr>\n",
       "    <tr>\n",
       "      <th>ENSG00000101280</th>\n",
       "      <td>0.011775</td>\n",
       "      <td>0.008757</td>\n",
       "      <td>0.014596</td>\n",
       "      <td>1.000000</td>\n",
       "      <td>0.009148</td>\n",
       "      <td>0.013900</td>\n",
       "      <td>0.020965</td>\n",
       "      <td>0.006433</td>\n",
       "      <td>0.014777</td>\n",
       "      <td>0.020986</td>\n",
       "      <td>...</td>\n",
       "      <td>0.0</td>\n",
       "      <td>0.0</td>\n",
       "      <td>0.0</td>\n",
       "      <td>0.0</td>\n",
       "      <td>0.0</td>\n",
       "      <td>0.0</td>\n",
       "      <td>0.0</td>\n",
       "      <td>0.0</td>\n",
       "      <td>0.0</td>\n",
       "      <td>0.0</td>\n",
       "    </tr>\n",
       "    <tr>\n",
       "      <th>ENSG00000125818</th>\n",
       "      <td>0.002720</td>\n",
       "      <td>0.004395</td>\n",
       "      <td>0.005386</td>\n",
       "      <td>0.009148</td>\n",
       "      <td>1.000000</td>\n",
       "      <td>0.016027</td>\n",
       "      <td>0.013208</td>\n",
       "      <td>0.004112</td>\n",
       "      <td>0.007976</td>\n",
       "      <td>0.010889</td>\n",
       "      <td>...</td>\n",
       "      <td>0.0</td>\n",
       "      <td>0.0</td>\n",
       "      <td>0.0</td>\n",
       "      <td>0.0</td>\n",
       "      <td>0.0</td>\n",
       "      <td>0.0</td>\n",
       "      <td>0.0</td>\n",
       "      <td>0.0</td>\n",
       "      <td>0.0</td>\n",
       "      <td>0.0</td>\n",
       "    </tr>\n",
       "  </tbody>\n",
       "</table>\n",
       "<p>5 rows × 187 columns</p>\n",
       "</div>"
      ],
      "text/plain": [
       "                 ENSG00000101255  ENSG00000125826  ENSG00000101266  \\\n",
       "ENSG00000101255         1.000000         0.050683         0.017861   \n",
       "ENSG00000125826         0.050683         1.000000         0.066958   \n",
       "ENSG00000101266         0.017861         0.066958         1.000000   \n",
       "ENSG00000101280         0.011775         0.008757         0.014596   \n",
       "ENSG00000125818         0.002720         0.004395         0.005386   \n",
       "\n",
       "                 ENSG00000101280  ENSG00000125818  ENSG00000101298  \\\n",
       "ENSG00000101255         0.011775         0.002720         0.008144   \n",
       "ENSG00000125826         0.008757         0.004395         0.016771   \n",
       "ENSG00000101266         0.014596         0.005386         0.015147   \n",
       "ENSG00000101280         1.000000         0.009148         0.013900   \n",
       "ENSG00000125818         0.009148         1.000000         0.016027   \n",
       "\n",
       "                 ENSG00000088832  ENSG00000101307  ENSG00000089012  \\\n",
       "ENSG00000101255         0.013091         0.003198         0.010456   \n",
       "ENSG00000125826         0.015061         0.008082         0.013941   \n",
       "ENSG00000101266         0.015111         0.005819         0.013203   \n",
       "ENSG00000101280         0.020965         0.006433         0.014777   \n",
       "ENSG00000125818         0.013208         0.004112         0.007976   \n",
       "\n",
       "                 ENSG00000198053  ...  ENSG00000092758  ENSG00000101191  \\\n",
       "ENSG00000101255         0.010639  ...              0.0              0.0   \n",
       "ENSG00000125826         0.014500  ...              0.0              0.0   \n",
       "ENSG00000101266         0.012445  ...              0.0              0.0   \n",
       "ENSG00000101280         0.020986  ...              0.0              0.0   \n",
       "ENSG00000125818         0.010889  ...              0.0              0.0   \n",
       "\n",
       "                 ENSG00000101199  ENSG00000243509  ENSG00000203896  \\\n",
       "ENSG00000101255              0.0              0.0              0.0   \n",
       "ENSG00000125826              0.0              0.0              0.0   \n",
       "ENSG00000101266              0.0              0.0              0.0   \n",
       "ENSG00000101280              0.0              0.0              0.0   \n",
       "ENSG00000125818              0.0              0.0              0.0   \n",
       "\n",
       "                 ENSG00000101152  ENSG00000198276  ENSG00000101161  \\\n",
       "ENSG00000101255              0.0              0.0              0.0   \n",
       "ENSG00000125826              0.0              0.0              0.0   \n",
       "ENSG00000101266              0.0              0.0              0.0   \n",
       "ENSG00000101280              0.0              0.0              0.0   \n",
       "ENSG00000125818              0.0              0.0              0.0   \n",
       "\n",
       "                 ENSG00000171700  ENSG00000125510  \n",
       "ENSG00000101255              0.0              0.0  \n",
       "ENSG00000125826              0.0              0.0  \n",
       "ENSG00000101266              0.0              0.0  \n",
       "ENSG00000101280              0.0              0.0  \n",
       "ENSG00000125818              0.0              0.0  \n",
       "\n",
       "[5 rows x 187 columns]"
      ]
     },
     "execution_count": 35,
     "metadata": {},
     "output_type": "execute_result"
    }
   ],
   "source": [
    "gene_corrs_df.head()"
   ]
  },
  {
   "cell_type": "markdown",
   "id": "dad6603f-01c6-41fb-a6f6-241051207dd8",
   "metadata": {
    "papermill": {
     "duration": 0.640997,
     "end_time": "2022-07-22T04:54:46.490881",
     "exception": false,
     "start_time": "2022-07-22T04:54:45.849884",
     "status": "completed"
    },
    "tags": []
   },
   "source": [
    "## Standard checks and stats"
   ]
  },
  {
   "cell_type": "code",
   "execution_count": 36,
   "id": "286686af-1b7b-4440-8453-6bdcbd8de19c",
   "metadata": {
    "execution": {
     "iopub.execute_input": "2022-07-22T04:54:47.782410Z",
     "iopub.status.busy": "2022-07-22T04:54:47.782237Z",
     "iopub.status.idle": "2022-07-22T04:54:47.797489Z",
     "shell.execute_reply": "2022-07-22T04:54:47.797044Z"
    },
    "papermill": {
     "duration": 0.663816,
     "end_time": "2022-07-22T04:54:47.798718",
     "exception": false,
     "start_time": "2022-07-22T04:54:47.134902",
     "status": "completed"
    },
    "tags": []
   },
   "outputs": [],
   "source": [
    "assert not gene_corrs_df.isna().any().any()"
   ]
  },
  {
   "cell_type": "code",
   "execution_count": 37,
   "id": "00583efc-7068-4270-ad1e-4a418e91db96",
   "metadata": {
    "execution": {
     "iopub.execute_input": "2022-07-22T04:54:49.160332Z",
     "iopub.status.busy": "2022-07-22T04:54:49.160157Z",
     "iopub.status.idle": "2022-07-22T04:54:49.177233Z",
     "shell.execute_reply": "2022-07-22T04:54:49.176715Z"
    },
    "papermill": {
     "duration": 0.702839,
     "end_time": "2022-07-22T04:54:49.178423",
     "exception": false,
     "start_time": "2022-07-22T04:54:48.475584",
     "status": "completed"
    },
    "tags": []
   },
   "outputs": [
    {
     "data": {
      "text/plain": [
       "0.0"
      ]
     },
     "metadata": {},
     "output_type": "display_data"
    }
   ],
   "source": [
    "_min_val = gene_corrs_df.min().min()\n",
    "display(_min_val)\n",
    "assert _min_val >= 0.0"
   ]
  },
  {
   "cell_type": "code",
   "execution_count": 38,
   "id": "d04fb2cf-1050-475b-b855-f5f7cc04092b",
   "metadata": {
    "execution": {
     "iopub.execute_input": "2022-07-22T04:54:50.512579Z",
     "iopub.status.busy": "2022-07-22T04:54:50.512421Z",
     "iopub.status.idle": "2022-07-22T04:54:50.529750Z",
     "shell.execute_reply": "2022-07-22T04:54:50.529254Z"
    },
    "papermill": {
     "duration": 0.6884,
     "end_time": "2022-07-22T04:54:50.530994",
     "exception": false,
     "start_time": "2022-07-22T04:54:49.842594",
     "status": "completed"
    },
    "tags": []
   },
   "outputs": [
    {
     "data": {
      "text/plain": [
       "1.0"
      ]
     },
     "metadata": {},
     "output_type": "display_data"
    }
   ],
   "source": [
    "_max_val = gene_corrs_df.max().max()  # this captures the diagonal\n",
    "display(_max_val)\n",
    "assert _max_val <= 1.0"
   ]
  },
  {
   "cell_type": "code",
   "execution_count": 39,
   "id": "96d02c44-1fba-47be-8a93-8f2608420b9c",
   "metadata": {
    "execution": {
     "iopub.execute_input": "2022-07-22T04:54:51.868670Z",
     "iopub.status.busy": "2022-07-22T04:54:51.868408Z",
     "iopub.status.idle": "2022-07-22T04:54:51.883281Z",
     "shell.execute_reply": "2022-07-22T04:54:51.882842Z"
    },
    "papermill": {
     "duration": 0.678274,
     "end_time": "2022-07-22T04:54:51.884545",
     "exception": false,
     "start_time": "2022-07-22T04:54:51.206271",
     "status": "completed"
    },
    "tags": []
   },
   "outputs": [],
   "source": [
    "# check upper triangular values\n",
    "assert len(gene_corrs) == int(genes_chr.shape[0] * (genes_chr.shape[0] - 1) / 2)"
   ]
  },
  {
   "cell_type": "code",
   "execution_count": 40,
   "id": "fe283586-c348-40e0-8841-f6d97bfb021c",
   "metadata": {
    "execution": {
     "iopub.execute_input": "2022-07-22T04:54:53.216908Z",
     "iopub.status.busy": "2022-07-22T04:54:53.216710Z",
     "iopub.status.idle": "2022-07-22T04:54:53.234735Z",
     "shell.execute_reply": "2022-07-22T04:54:53.234296Z"
    },
    "papermill": {
     "duration": 0.664173,
     "end_time": "2022-07-22T04:54:53.235887",
     "exception": false,
     "start_time": "2022-07-22T04:54:52.571714",
     "status": "completed"
    },
    "tags": []
   },
   "outputs": [
    {
     "data": {
      "text/plain": [
       "count    17391.000000\n",
       "mean         0.005511\n",
       "std          0.039857\n",
       "min          0.000000\n",
       "25%          0.000000\n",
       "50%          0.000000\n",
       "75%          0.000000\n",
       "max          0.998564\n",
       "dtype: float64"
      ]
     },
     "execution_count": 40,
     "metadata": {},
     "output_type": "execute_result"
    }
   ],
   "source": [
    "gene_corrs_flat.describe()"
   ]
  },
  {
   "cell_type": "code",
   "execution_count": 41,
   "id": "b3815678-0f93-4b35-897b-a9d047a2aa78",
   "metadata": {
    "execution": {
     "iopub.execute_input": "2022-07-22T04:54:54.612994Z",
     "iopub.status.busy": "2022-07-22T04:54:54.612789Z",
     "iopub.status.idle": "2022-07-22T04:54:54.631541Z",
     "shell.execute_reply": "2022-07-22T04:54:54.631086Z"
    },
    "papermill": {
     "duration": 0.707164,
     "end_time": "2022-07-22T04:54:54.632843",
     "exception": false,
     "start_time": "2022-07-22T04:54:53.925679",
     "status": "completed"
    },
    "tags": []
   },
   "outputs": [
    {
     "data": {
      "text/plain": [
       "0.00    0.000000\n",
       "0.05    0.000000\n",
       "0.10    0.000000\n",
       "0.15    0.000000\n",
       "0.20    0.000000\n",
       "0.25    0.000000\n",
       "0.30    0.000000\n",
       "0.35    0.000000\n",
       "0.40    0.000000\n",
       "0.45    0.000000\n",
       "0.50    0.000000\n",
       "0.55    0.000000\n",
       "0.60    0.000000\n",
       "0.65    0.000000\n",
       "0.70    0.000000\n",
       "0.75    0.000000\n",
       "0.80    0.000000\n",
       "0.85    0.003539\n",
       "0.90    0.008317\n",
       "0.95    0.013756\n",
       "dtype: float64"
      ]
     },
     "metadata": {},
     "output_type": "display_data"
    }
   ],
   "source": [
    "gene_corrs_quantiles = gene_corrs_flat.quantile(np.arange(0, 1, 0.05))\n",
    "display(gene_corrs_quantiles)"
   ]
  },
  {
   "cell_type": "markdown",
   "id": "87134509-b145-4a10-8bc9-b7e914c2b0fa",
   "metadata": {
    "papermill": {
     "duration": 0.687826,
     "end_time": "2022-07-22T04:54:56.001389",
     "exception": false,
     "start_time": "2022-07-22T04:54:55.313563",
     "status": "completed"
    },
    "tags": []
   },
   "source": [
    "## Positive definiteness"
   ]
  },
  {
   "cell_type": "code",
   "execution_count": 42,
   "id": "07d9a9a1-a4f7-48aa-b916-6d42a8cc6186",
   "metadata": {
    "execution": {
     "iopub.execute_input": "2022-07-22T04:54:57.336611Z",
     "iopub.status.busy": "2022-07-22T04:54:57.336386Z",
     "iopub.status.idle": "2022-07-22T04:54:57.373719Z",
     "shell.execute_reply": "2022-07-22T04:54:57.373293Z"
    },
    "papermill": {
     "duration": 0.711679,
     "end_time": "2022-07-22T04:54:57.374993",
     "exception": false,
     "start_time": "2022-07-22T04:54:56.663314",
     "status": "completed"
    },
    "tags": []
   },
   "outputs": [
    {
     "data": {
      "text/plain": [
       "0"
      ]
     },
     "metadata": {},
     "output_type": "display_data"
    },
    {
     "data": {
      "text/plain": [
       "array([], dtype=float64)"
      ]
     },
     "metadata": {},
     "output_type": "display_data"
    }
   ],
   "source": [
    "# print negative eigenvalues\n",
    "eigs = np.linalg.eigvals(gene_corrs_df.to_numpy())\n",
    "display(len(eigs[eigs < 0]))\n",
    "display(eigs[eigs < 0])"
   ]
  },
  {
   "cell_type": "code",
   "execution_count": 43,
   "id": "6e218436-c3c5-4028-8c94-a4fa6260efce",
   "metadata": {
    "execution": {
     "iopub.execute_input": "2022-07-22T04:54:58.757247Z",
     "iopub.status.busy": "2022-07-22T04:54:58.757082Z",
     "iopub.status.idle": "2022-07-22T04:54:58.778210Z",
     "shell.execute_reply": "2022-07-22T04:54:58.777780Z"
    },
    "papermill": {
     "duration": 0.713666,
     "end_time": "2022-07-22T04:54:58.779467",
     "exception": false,
     "start_time": "2022-07-22T04:54:58.065801",
     "status": "completed"
    },
    "tags": []
   },
   "outputs": [
    {
     "name": "stdout",
     "output_type": "stream",
     "text": [
      "Works!\n"
     ]
    }
   ],
   "source": [
    "try:\n",
    "    chol_mat = np.linalg.cholesky(gene_corrs_df.to_numpy())\n",
    "    cov_inv = np.linalg.inv(chol_mat)\n",
    "    print(\"Works!\")\n",
    "except:\n",
    "    print(\"Cholesky decomposition failed\")"
   ]
  },
  {
   "cell_type": "markdown",
   "id": "8e60a080-edb2-4e9c-b2ef-22961693200c",
   "metadata": {
    "papermill": {
     "duration": 0.647715,
     "end_time": "2022-07-22T04:55:00.153319",
     "exception": false,
     "start_time": "2022-07-22T04:54:59.505604",
     "status": "completed"
    },
    "tags": []
   },
   "source": [
    "## Plot: distribution"
   ]
  },
  {
   "cell_type": "code",
   "execution_count": 44,
   "id": "8301126b-a7d4-4744-9c7d-f0f86eb6f54c",
   "metadata": {
    "execution": {
     "iopub.execute_input": "2022-07-22T04:55:01.512718Z",
     "iopub.status.busy": "2022-07-22T04:55:01.512518Z",
     "iopub.status.idle": "2022-07-22T04:55:01.858439Z",
     "shell.execute_reply": "2022-07-22T04:55:01.858063Z"
    },
    "papermill": {
     "duration": 1.031614,
     "end_time": "2022-07-22T04:55:01.859565",
     "exception": false,
     "start_time": "2022-07-22T04:55:00.827951",
     "status": "completed"
    },
    "tags": []
   },
   "outputs": [
    {
     "data": {
      "image/png": "[encoded data removed]",
      "text/plain": [
       "<Figure size 504x504 with 1 Axes>"
      ]
     },
     "metadata": {
      "needs_background": "light"
     },
     "output_type": "display_data"
    }
   ],
   "source": [
    "with sns.plotting_context(\"paper\", font_scale=1.5):\n",
    "    g = sns.displot(gene_corrs_flat, kde=True, height=7)\n",
    "    g.ax.set_title(\n",
    "        f\"Distribution of gene correlation values in chromosome {CHROMOSOME}\"\n",
    "    )"
   ]
  },
  {
   "cell_type": "markdown",
   "id": "cbd52bca-d878-4a2f-b684-5c83aa3038d4",
   "metadata": {
    "papermill": {
     "duration": 0.68899,
     "end_time": "2022-07-22T04:55:03.220524",
     "exception": false,
     "start_time": "2022-07-22T04:55:02.531534",
     "status": "completed"
    },
    "tags": []
   },
   "source": [
    "## Plot: heatmap"
   ]
  },
  {
   "cell_type": "code",
   "execution_count": 45,
   "id": "d03fe63a-c7b2-4fb9-a53c-db362ce843c9",
   "metadata": {
    "execution": {
     "iopub.execute_input": "2022-07-22T04:55:04.514471Z",
     "iopub.status.busy": "2022-07-22T04:55:04.514270Z",
     "iopub.status.idle": "2022-07-22T04:55:04.529947Z",
     "shell.execute_reply": "2022-07-22T04:55:04.529497Z"
    },
    "papermill": {
     "duration": 0.695012,
     "end_time": "2022-07-22T04:55:04.531098",
     "exception": false,
     "start_time": "2022-07-22T04:55:03.836086",
     "status": "completed"
    },
    "tags": []
   },
   "outputs": [
    {
     "data": {
      "text/plain": [
       "'0.0 / 0.05'"
      ]
     },
     "metadata": {},
     "output_type": "display_data"
    }
   ],
   "source": [
    "vmin_val = min(0.00, gene_corrs_quantiles[0.10])\n",
    "vmax_val = max(0.05, gene_corrs_quantiles[0.90])\n",
    "display(f\"{vmin_val} / {vmax_val}\")"
   ]
  },
  {
   "cell_type": "code",
   "execution_count": 46,
   "id": "dc41b70b-5bcc-4d9e-9f33-a22c4a94dab5",
   "metadata": {
    "execution": {
     "iopub.execute_input": "2022-07-22T04:55:05.891127Z",
     "iopub.status.busy": "2022-07-22T04:55:05.890693Z",
     "iopub.status.idle": "2022-07-22T04:55:06.064076Z",
     "shell.execute_reply": "2022-07-22T04:55:06.063621Z"
    },
    "papermill": {
     "duration": 0.853453,
     "end_time": "2022-07-22T04:55:06.065229",
     "exception": false,
     "start_time": "2022-07-22T04:55:05.211776",
     "status": "completed"
    },
    "tags": []
   },
   "outputs": [
    {
     "data": {
      "text/plain": [
       "Text(0.5, 1.0, 'Gene correlations in chromosome 20')"
      ]
     },
     "execution_count": 46,
     "metadata": {},
     "output_type": "execute_result"
    },
    {
     "data": {
      "image/png": "[encoded data removed]",
      "text/plain": [
       "<Figure size 720x720 with 2 Axes>"
      ]
     },
     "metadata": {
      "needs_background": "light"
     },
     "output_type": "display_data"
    }
   ],
   "source": [
    "f, ax = plt.subplots(figsize=(10, 10))\n",
    "sns.heatmap(\n",
    "    gene_corrs_df,\n",
    "    xticklabels=False,\n",
    "    yticklabels=False,\n",
    "    square=True,\n",
    "    vmin=vmin_val,\n",
    "    vmax=vmax_val,\n",
    "    cmap=\"rocket_r\",\n",
    "    ax=ax,\n",
    ")\n",
    "ax.set_title(f\"Gene correlations in chromosome {CHROMOSOME}\")"
   ]
  },
  {
   "cell_type": "code",
   "execution_count": null,
   "id": "b25e3ead",
   "metadata": {
    "papermill": {
     "duration": 0.658597,
     "end_time": "2022-07-22T04:55:07.409989",
     "exception": false,
     "start_time": "2022-07-22T04:55:06.751392",
     "status": "completed"
    },
    "tags": []
   },
   "outputs": [],
   "source": []
  }
 ],
 "metadata": {
  "jupytext": {
   "cell_metadata_filter": "all,-execution,-papermill,-trusted",
   "formats": "ipynb,py//py:percent"
  },
  "kernelspec": {
   "display_name": "Python 3 (ipykernel)",
   "language": "python",
   "name": "python3"
  },
  "language_info": {
   "codemirror_mode": {
    "name": "ipython",
    "version": 3
   },
   "file_extension": ".py",
   "mimetype": "text/x-python",
   "name": "python",
   "nbconvert_exporter": "python",
   "pygments_lexer": "ipython3",
   "version": "3.8.13"
  },
  "papermill": {
   "default_parameters": {},
   "duration": 325.928815,
   "end_time": "2022-07-22T04:55:11.276072",
   "environment_variables": {},
   "exception": null,
   "input_path": "nbs/15_gsa_gls/10-gene_expr_correlations.ipynb",
   "output_path": "nbs/15_gsa_gls/gene_corrs/cohorts/1000g_eur/1000g/mashr/10-gene_expr_correlations-chr20.run.ipynb",
   "parameters": {
    "CHROMOSOME": 20,
    "COHORT_NAME": "1000G_EUR",
    "EQTL_MODEL": "MASHR",
    "REFERENCE_PANEL": "1000G"
   },
   "start_time": "2022-07-22T04:49:45.347257",
   "version": "2.2.2"
  }
 },
 "nbformat": 4,
 "nbformat_minor": 5
}
