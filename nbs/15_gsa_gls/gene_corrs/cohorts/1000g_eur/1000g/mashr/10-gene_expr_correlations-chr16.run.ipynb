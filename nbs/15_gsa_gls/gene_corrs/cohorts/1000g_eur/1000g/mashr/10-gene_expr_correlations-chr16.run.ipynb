{
 "cells": [
  {
   "cell_type": "markdown",
   "id": "7a6632fb",
   "metadata": {
    "papermill": {
     "duration": 0.006746,
     "end_time": "2022-07-22T04:38:18.354937",
     "exception": false,
     "start_time": "2022-07-22T04:38:18.348191",
     "status": "completed"
    },
    "tags": []
   },
   "source": [
    "# Description"
   ]
  },
  {
   "cell_type": "markdown",
   "id": "7097c346",
   "metadata": {
    "papermill": {
     "duration": 0.005805,
     "end_time": "2022-07-22T04:38:18.366925",
     "exception": false,
     "start_time": "2022-07-22T04:38:18.361120",
     "status": "completed"
    },
    "tags": []
   },
   "source": [
    "(Please, take a look at the README.md file in this directory for instructions on how to run this notebook)\n",
    "\n",
    "This notebook computes predicted expression correlations between all genes in the MultiPLIER models.\n",
    "\n",
    "It also has a parameter set for papermill to run on a single chromosome to run in parallel (see under `Settings` below).\n",
    "\n",
    "This notebook is not directly run. See README.md."
   ]
  },
  {
   "cell_type": "markdown",
   "id": "c61d8427",
   "metadata": {
    "papermill": {
     "duration": 0.006074,
     "end_time": "2022-07-22T04:38:18.379169",
     "exception": false,
     "start_time": "2022-07-22T04:38:18.373095",
     "status": "completed"
    },
    "tags": []
   },
   "source": [
    "# Modules"
   ]
  },
  {
   "cell_type": "code",
   "execution_count": 1,
   "id": "bbc0234f",
   "metadata": {
    "execution": {
     "iopub.execute_input": "2022-07-22T04:38:18.392826Z",
     "iopub.status.busy": "2022-07-22T04:38:18.392582Z",
     "iopub.status.idle": "2022-07-22T04:38:18.407375Z",
     "shell.execute_reply": "2022-07-22T04:38:18.406988Z"
    },
    "papermill": {
     "duration": 0.023338,
     "end_time": "2022-07-22T04:38:18.408744",
     "exception": false,
     "start_time": "2022-07-22T04:38:18.385406",
     "status": "completed"
    },
    "tags": []
   },
   "outputs": [],
   "source": [
    "%load_ext autoreload\n",
    "%autoreload 2"
   ]
  },
  {
   "cell_type": "code",
   "execution_count": 2,
   "id": "1d5f5a59",
   "metadata": {
    "execution": {
     "iopub.execute_input": "2022-07-22T04:38:18.451398Z",
     "iopub.status.busy": "2022-07-22T04:38:18.451208Z",
     "iopub.status.idle": "2022-07-22T04:38:19.357659Z",
     "shell.execute_reply": "2022-07-22T04:38:19.357225Z"
    },
    "papermill": {
     "duration": 0.915477,
     "end_time": "2022-07-22T04:38:19.359084",
     "exception": false,
     "start_time": "2022-07-22T04:38:18.443607",
     "status": "completed"
    },
    "tags": []
   },
   "outputs": [],
   "source": [
    "from random import sample, seed\n",
    "import warnings\n",
    "from pathlib import Path\n",
    "import pickle\n",
    "import traceback\n",
    "\n",
    "import numpy as np\n",
    "from scipy.spatial.distance import squareform\n",
    "import pandas as pd\n",
    "from tqdm import tqdm\n",
    "import matplotlib.pyplot as plt\n",
    "import seaborn as sns\n",
    "\n",
    "import conf\n",
    "from entity import Gene"
   ]
  },
  {
   "cell_type": "markdown",
   "id": "1eac24b5",
   "metadata": {
    "papermill": {
     "duration": 0.005749,
     "end_time": "2022-07-22T04:38:19.371056",
     "exception": false,
     "start_time": "2022-07-22T04:38:19.365307",
     "status": "completed"
    },
    "tags": []
   },
   "source": [
    "# Settings"
   ]
  },
  {
   "cell_type": "code",
   "execution_count": 3,
   "id": "ca4560ba",
   "metadata": {
    "execution": {
     "iopub.execute_input": "2022-07-22T04:38:19.384869Z",
     "iopub.status.busy": "2022-07-22T04:38:19.384662Z",
     "iopub.status.idle": "2022-07-22T04:38:19.399342Z",
     "shell.execute_reply": "2022-07-22T04:38:19.398954Z"
    },
    "papermill": {
     "duration": 0.022708,
     "end_time": "2022-07-22T04:38:19.400633",
     "exception": false,
     "start_time": "2022-07-22T04:38:19.377925",
     "status": "completed"
    },
    "tags": [
     "parameters"
    ]
   },
   "outputs": [],
   "source": [
    "# a cohort name (it could be something like UK_BIOBANK, etc)\n",
    "COHORT_NAME = None\n",
    "\n",
    "# reference panel such as 1000G or GTEX_V8\n",
    "REFERENCE_PANEL = None\n",
    "\n",
    "# predictions models such as MASHR or ELASTIC_NET\n",
    "EQTL_MODEL = None\n",
    "\n",
    "# this is the default value used in S-MultiXcan to select the\n",
    "# top principal components of the expression correlation matrix\n",
    "SMULTIXCAN_CONDITION_NUMBER = 30\n",
    "\n",
    "# specifies a single chromosome value\n",
    "CHROMOSOME = None\n",
    "\n",
    "# if True, then it will continue if a gene pair correlation fails,\n",
    "# printing the warning/error for debugging. If False, any warning/error\n",
    "# will be thrown\n",
    "# FIXME: make it False when all is working\n",
    "DEBUG_MODE = True"
   ]
  },
  {
   "cell_type": "code",
   "execution_count": 4,
   "id": "ab8a628a",
   "metadata": {
    "execution": {
     "iopub.execute_input": "2022-07-22T04:38:19.413925Z",
     "iopub.status.busy": "2022-07-22T04:38:19.413615Z",
     "iopub.status.idle": "2022-07-22T04:38:19.428099Z",
     "shell.execute_reply": "2022-07-22T04:38:19.427560Z"
    },
    "papermill": {
     "duration": 0.02239,
     "end_time": "2022-07-22T04:38:19.429493",
     "exception": false,
     "start_time": "2022-07-22T04:38:19.407103",
     "status": "completed"
    },
    "tags": [
     "injected-parameters"
    ]
   },
   "outputs": [],
   "source": [
    "# Parameters\n",
    "COHORT_NAME = \"1000G_EUR\"\n",
    "REFERENCE_PANEL = \"1000G\"\n",
    "EQTL_MODEL = \"MASHR\"\n",
    "CHROMOSOME = 16\n"
   ]
  },
  {
   "cell_type": "code",
   "execution_count": 5,
   "id": "3190631f-27fc-480f-b18e-571d580425a5",
   "metadata": {
    "execution": {
     "iopub.execute_input": "2022-07-22T04:38:19.442309Z",
     "iopub.status.busy": "2022-07-22T04:38:19.442109Z",
     "iopub.status.idle": "2022-07-22T04:38:19.458586Z",
     "shell.execute_reply": "2022-07-22T04:38:19.458147Z"
    },
    "papermill": {
     "duration": 0.024527,
     "end_time": "2022-07-22T04:38:19.460145",
     "exception": false,
     "start_time": "2022-07-22T04:38:19.435618",
     "status": "completed"
    },
    "tags": []
   },
   "outputs": [
    {
     "data": {
      "text/plain": [
       "'Cohort name: 1000g_eur'"
      ]
     },
     "metadata": {},
     "output_type": "display_data"
    }
   ],
   "source": [
    "assert COHORT_NAME is not None or len(COHORT_NAME) == 0, \"A cohort name must be given\"\n",
    "\n",
    "COHORT_NAME = COHORT_NAME.lower()\n",
    "display(f\"Cohort name: {COHORT_NAME}\")"
   ]
  },
  {
   "cell_type": "code",
   "execution_count": 6,
   "id": "f53ba19b-0f93-4fa2-a047-63b375939d1a",
   "metadata": {
    "execution": {
     "iopub.execute_input": "2022-07-22T04:38:19.473068Z",
     "iopub.status.busy": "2022-07-22T04:38:19.472869Z",
     "iopub.status.idle": "2022-07-22T04:38:19.487906Z",
     "shell.execute_reply": "2022-07-22T04:38:19.487471Z"
    },
    "papermill": {
     "duration": 0.02287,
     "end_time": "2022-07-22T04:38:19.489171",
     "exception": false,
     "start_time": "2022-07-22T04:38:19.466301",
     "status": "completed"
    },
    "tags": []
   },
   "outputs": [
    {
     "data": {
      "text/plain": [
       "'Reference panel: 1000G'"
      ]
     },
     "metadata": {},
     "output_type": "display_data"
    }
   ],
   "source": [
    "assert (\n",
    "    REFERENCE_PANEL is not None or len(REFERENCE_PANEL) == 0\n",
    "), \"A reference panel must be given\"\n",
    "\n",
    "display(f\"Reference panel: {REFERENCE_PANEL}\")"
   ]
  },
  {
   "cell_type": "code",
   "execution_count": 7,
   "id": "e024d130-c139-429a-9c6e-ccf149e297b0",
   "metadata": {
    "execution": {
     "iopub.execute_input": "2022-07-22T04:38:19.502579Z",
     "iopub.status.busy": "2022-07-22T04:38:19.502271Z",
     "iopub.status.idle": "2022-07-22T04:38:19.519140Z",
     "shell.execute_reply": "2022-07-22T04:38:19.518612Z"
    },
    "papermill": {
     "duration": 0.025064,
     "end_time": "2022-07-22T04:38:19.520407",
     "exception": false,
     "start_time": "2022-07-22T04:38:19.495343",
     "status": "completed"
    },
    "tags": []
   },
   "outputs": [
    {
     "data": {
      "text/plain": [
       "'eQTL model: MASHR) / mashr_'"
      ]
     },
     "metadata": {},
     "output_type": "display_data"
    }
   ],
   "source": [
    "assert (\n",
    "    EQTL_MODEL is not None or len(EQTL_MODEL) == 0\n",
    "), \"A prediction/eQTL model must be given\"\n",
    "\n",
    "EQTL_MODEL_FILES_PREFIX = conf.PHENOMEXCAN[\"PREDICTION_MODELS\"][f\"{EQTL_MODEL}_PREFIX\"]\n",
    "display(f\"eQTL model: {EQTL_MODEL}) / {EQTL_MODEL_FILES_PREFIX}\")"
   ]
  },
  {
   "cell_type": "code",
   "execution_count": 8,
   "id": "552a7f63-a18c-4d3e-bb6a-94f99b431291",
   "metadata": {
    "execution": {
     "iopub.execute_input": "2022-07-22T04:38:19.533921Z",
     "iopub.status.busy": "2022-07-22T04:38:19.533635Z",
     "iopub.status.idle": "2022-07-22T04:38:19.549628Z",
     "shell.execute_reply": "2022-07-22T04:38:19.549085Z"
    },
    "papermill": {
     "duration": 0.024166,
     "end_time": "2022-07-22T04:38:19.550912",
     "exception": false,
     "start_time": "2022-07-22T04:38:19.526746",
     "status": "completed"
    },
    "tags": []
   },
   "outputs": [
    {
     "data": {
      "text/plain": [
       "'S-MultiXcan condition number: 30'"
      ]
     },
     "metadata": {},
     "output_type": "display_data"
    }
   ],
   "source": [
    "assert (\n",
    "    SMULTIXCAN_CONDITION_NUMBER is not None or SMULTIXCAN_CONDITION_NUMBER > 0\n",
    "), \"The S-MultiXcan condition number (positive integer) must be given\"\n",
    "\n",
    "display(f\"S-MultiXcan condition number: {SMULTIXCAN_CONDITION_NUMBER}\")"
   ]
  },
  {
   "cell_type": "code",
   "execution_count": 9,
   "id": "f34a336f-548e-4afe-8955-90eaea4f42c6",
   "metadata": {
    "execution": {
     "iopub.execute_input": "2022-07-22T04:38:19.564777Z",
     "iopub.status.busy": "2022-07-22T04:38:19.564296Z",
     "iopub.status.idle": "2022-07-22T04:38:19.580626Z",
     "shell.execute_reply": "2022-07-22T04:38:19.580113Z"
    },
    "papermill": {
     "duration": 0.024543,
     "end_time": "2022-07-22T04:38:19.581970",
     "exception": false,
     "start_time": "2022-07-22T04:38:19.557427",
     "status": "completed"
    },
    "tags": []
   },
   "outputs": [
    {
     "data": {
      "text/plain": [
       "'Working on chromosome 16'"
      ]
     },
     "metadata": {},
     "output_type": "display_data"
    }
   ],
   "source": [
    "assert CHROMOSOME is not None and (\n",
    "    1 <= CHROMOSOME <= 22\n",
    "), \"You have to select one chromosome (format: number between 1 and 22)\"\n",
    "\n",
    "CHROMOSOME = str(CHROMOSOME)\n",
    "display(f\"Working on chromosome {CHROMOSOME}\")"
   ]
  },
  {
   "cell_type": "code",
   "execution_count": 10,
   "id": "ab8e96e8-06b5-4363-9dcd-dc4d78cc27f7",
   "metadata": {
    "execution": {
     "iopub.execute_input": "2022-07-22T04:38:19.595481Z",
     "iopub.status.busy": "2022-07-22T04:38:19.595280Z",
     "iopub.status.idle": "2022-07-22T04:38:19.612197Z",
     "shell.execute_reply": "2022-07-22T04:38:19.611600Z"
    },
    "papermill": {
     "duration": 0.024929,
     "end_time": "2022-07-22T04:38:19.613427",
     "exception": false,
     "start_time": "2022-07-22T04:38:19.588498",
     "status": "completed"
    },
    "tags": []
   },
   "outputs": [
    {
     "data": {
      "text/plain": [
       "'Compute correlation within distance True'"
      ]
     },
     "metadata": {},
     "output_type": "display_data"
    }
   ],
   "source": [
    "# TODO: see if this is necessary; if so, make it a parameter with default value True\n",
    "# This parameter, if True, computes the correlation between closeby genes only\n",
    "\n",
    "COMPUTE_CORRELATIONS_WITHIN_DISTANCE = True\n",
    "display(f\"Compute correlation within distance {COMPUTE_CORRELATIONS_WITHIN_DISTANCE}\")"
   ]
  },
  {
   "cell_type": "code",
   "execution_count": 11,
   "id": "396392dc-0340-4540-9b02-e182b833f909",
   "metadata": {
    "execution": {
     "iopub.execute_input": "2022-07-22T04:38:19.627295Z",
     "iopub.status.busy": "2022-07-22T04:38:19.627088Z",
     "iopub.status.idle": "2022-07-22T04:38:19.642619Z",
     "shell.execute_reply": "2022-07-22T04:38:19.642186Z"
    },
    "papermill": {
     "duration": 0.029719,
     "end_time": "2022-07-22T04:38:19.649834",
     "exception": false,
     "start_time": "2022-07-22T04:38:19.620115",
     "status": "completed"
    },
    "tags": []
   },
   "outputs": [
    {
     "data": {
      "text/plain": [
       "'Using output dir base: /opt/data/results/gls/gene_corrs/cohorts/1000g_eur/1000g/mashr'"
      ]
     },
     "metadata": {},
     "output_type": "display_data"
    }
   ],
   "source": [
    "OUTPUT_DIR_BASE = (\n",
    "    conf.RESULTS[\"GLS\"]\n",
    "    / \"gene_corrs\"\n",
    "    / \"cohorts\"\n",
    "    / COHORT_NAME\n",
    "    / REFERENCE_PANEL.lower()\n",
    "    / EQTL_MODEL.lower()\n",
    ")\n",
    "OUTPUT_DIR_BASE.mkdir(parents=True, exist_ok=True)\n",
    "\n",
    "display(f\"Using output dir base: {OUTPUT_DIR_BASE}\")"
   ]
  },
  {
   "cell_type": "code",
   "execution_count": 12,
   "id": "974b4bb1-aa98-4e30-b221-7cd034ad3833",
   "metadata": {
    "execution": {
     "iopub.execute_input": "2022-07-22T04:38:19.663340Z",
     "iopub.status.busy": "2022-07-22T04:38:19.663175Z",
     "iopub.status.idle": "2022-07-22T04:38:19.679399Z",
     "shell.execute_reply": "2022-07-22T04:38:19.678827Z"
    },
    "papermill": {
     "duration": 0.024392,
     "end_time": "2022-07-22T04:38:19.680662",
     "exception": false,
     "start_time": "2022-07-22T04:38:19.656270",
     "status": "completed"
    },
    "tags": []
   },
   "outputs": [
    {
     "data": {
      "text/plain": [
       "PosixPath('/opt/data/results/gls/gene_corrs/cohorts/1000g_eur')"
      ]
     },
     "metadata": {},
     "output_type": "display_data"
    }
   ],
   "source": [
    "INPUT_DIR = conf.RESULTS[\"GLS\"] / \"gene_corrs\" / \"cohorts\" / COHORT_NAME\n",
    "assert INPUT_DIR.exists()\n",
    "\n",
    "display(INPUT_DIR)"
   ]
  },
  {
   "cell_type": "markdown",
   "id": "d2ba085e",
   "metadata": {
    "papermill": {
     "duration": 0.006244,
     "end_time": "2022-07-22T04:38:19.693579",
     "exception": false,
     "start_time": "2022-07-22T04:38:19.687335",
     "status": "completed"
    },
    "tags": []
   },
   "source": [
    "# Load data"
   ]
  },
  {
   "cell_type": "markdown",
   "id": "7dcb8db7",
   "metadata": {
    "papermill": {
     "duration": 0.006288,
     "end_time": "2022-07-22T04:38:19.706385",
     "exception": false,
     "start_time": "2022-07-22T04:38:19.700097",
     "status": "completed"
    },
    "tags": []
   },
   "source": [
    "## GWAS variants"
   ]
  },
  {
   "cell_type": "code",
   "execution_count": 13,
   "id": "29434c4e-8cd3-4b9b-82e4-b5a251d9dd19",
   "metadata": {
    "execution": {
     "iopub.execute_input": "2022-07-22T04:38:19.720673Z",
     "iopub.status.busy": "2022-07-22T04:38:19.720215Z",
     "iopub.status.idle": "2022-07-22T04:38:22.324275Z",
     "shell.execute_reply": "2022-07-22T04:38:22.323794Z"
    },
    "papermill": {
     "duration": 2.612737,
     "end_time": "2022-07-22T04:38:22.325788",
     "exception": false,
     "start_time": "2022-07-22T04:38:19.713051",
     "status": "completed"
    },
    "tags": []
   },
   "outputs": [],
   "source": [
    "with open(INPUT_DIR / \"gwas_variant_ids.pkl\", \"rb\") as handle:\n",
    "    gwas_variants_ids_set = pickle.load(handle)"
   ]
  },
  {
   "cell_type": "code",
   "execution_count": 14,
   "id": "b9d9dec2-4a76-4bf9-bde2-e24c95acb8a0",
   "metadata": {
    "execution": {
     "iopub.execute_input": "2022-07-22T04:38:22.343104Z",
     "iopub.status.busy": "2022-07-22T04:38:22.342869Z",
     "iopub.status.idle": "2022-07-22T04:38:22.359721Z",
     "shell.execute_reply": "2022-07-22T04:38:22.359214Z"
    },
    "papermill": {
     "duration": 0.026846,
     "end_time": "2022-07-22T04:38:22.361219",
     "exception": false,
     "start_time": "2022-07-22T04:38:22.334373",
     "status": "completed"
    },
    "tags": []
   },
   "outputs": [
    {
     "data": {
      "text/plain": [
       "8339505"
      ]
     },
     "execution_count": 14,
     "metadata": {},
     "output_type": "execute_result"
    }
   ],
   "source": [
    "len(gwas_variants_ids_set)"
   ]
  },
  {
   "cell_type": "code",
   "execution_count": 15,
   "id": "4235b06a-6034-4ee4-a0a3-2ae35d122418",
   "metadata": {
    "execution": {
     "iopub.execute_input": "2022-07-22T04:38:22.377165Z",
     "iopub.status.busy": "2022-07-22T04:38:22.376952Z",
     "iopub.status.idle": "2022-07-22T04:38:22.868168Z",
     "shell.execute_reply": "2022-07-22T04:38:22.867596Z"
    },
    "papermill": {
     "duration": 0.501274,
     "end_time": "2022-07-22T04:38:22.870013",
     "exception": false,
     "start_time": "2022-07-22T04:38:22.368739",
     "status": "completed"
    },
    "tags": []
   },
   "outputs": [
    {
     "data": {
      "text/plain": [
       "['chr14_70402059_T_A_b38',\n",
       " 'chr1_67089683_T_C_b38',\n",
       " 'chr6_119871367_T_C_b38',\n",
       " 'chr9_80705620_T_TA_b38',\n",
       " 'chr21_31540590_T_A_b38']"
      ]
     },
     "execution_count": 15,
     "metadata": {},
     "output_type": "execute_result"
    }
   ],
   "source": [
    "list(gwas_variants_ids_set)[:5]"
   ]
  },
  {
   "cell_type": "markdown",
   "id": "07866999-2305-41f9-a144-e69c9122c212",
   "metadata": {
    "papermill": {
     "duration": 0.010411,
     "end_time": "2022-07-22T04:38:22.890061",
     "exception": false,
     "start_time": "2022-07-22T04:38:22.879650",
     "status": "completed"
    },
    "tags": []
   },
   "source": [
    "## S-PrediXcan tissue models"
   ]
  },
  {
   "cell_type": "code",
   "execution_count": 16,
   "id": "780611d9-77c8-405f-90a4-f271f7b09397",
   "metadata": {
    "execution": {
     "iopub.execute_input": "2022-07-22T04:38:22.907339Z",
     "iopub.status.busy": "2022-07-22T04:38:22.907099Z",
     "iopub.status.idle": "2022-07-22T04:38:23.685865Z",
     "shell.execute_reply": "2022-07-22T04:38:23.685413Z"
    },
    "papermill": {
     "duration": 0.788904,
     "end_time": "2022-07-22T04:38:23.687296",
     "exception": false,
     "start_time": "2022-07-22T04:38:22.898392",
     "status": "completed"
    },
    "tags": []
   },
   "outputs": [],
   "source": [
    "spredixcan_genes_models = pd.read_pickle(INPUT_DIR / \"gene_tissues.pkl\").set_index(\n",
    "    \"gene_id\"\n",
    ")"
   ]
  },
  {
   "cell_type": "code",
   "execution_count": 17,
   "id": "726dd1f6-9557-4225-91fa-b3b879ea96e1",
   "metadata": {
    "execution": {
     "iopub.execute_input": "2022-07-22T04:38:23.702843Z",
     "iopub.status.busy": "2022-07-22T04:38:23.702612Z",
     "iopub.status.idle": "2022-07-22T04:38:23.717600Z",
     "shell.execute_reply": "2022-07-22T04:38:23.717155Z"
    },
    "papermill": {
     "duration": 0.023969,
     "end_time": "2022-07-22T04:38:23.718854",
     "exception": false,
     "start_time": "2022-07-22T04:38:23.694885",
     "status": "completed"
    },
    "tags": []
   },
   "outputs": [
    {
     "data": {
      "text/plain": [
       "(22314, 2)"
      ]
     },
     "execution_count": 17,
     "metadata": {},
     "output_type": "execute_result"
    }
   ],
   "source": [
    "spredixcan_genes_models.shape"
   ]
  },
  {
   "cell_type": "code",
   "execution_count": 18,
   "id": "944a1b48-222c-4eb0-b252-b9de2cbca215",
   "metadata": {
    "execution": {
     "iopub.execute_input": "2022-07-22T04:38:23.733699Z",
     "iopub.status.busy": "2022-07-22T04:38:23.733491Z",
     "iopub.status.idle": "2022-07-22T04:38:23.756880Z",
     "shell.execute_reply": "2022-07-22T04:38:23.756360Z"
    },
    "papermill": {
     "duration": 0.032349,
     "end_time": "2022-07-22T04:38:23.758222",
     "exception": false,
     "start_time": "2022-07-22T04:38:23.725873",
     "status": "completed"
    },
    "tags": []
   },
   "outputs": [
    {
     "data": {
      "text/html": [
       "<div>\n",
       "<style scoped>\n",
       "    .dataframe tbody tr th:only-of-type {\n",
       "        vertical-align: middle;\n",
       "    }\n",
       "\n",
       "    .dataframe tbody tr th {\n",
       "        vertical-align: top;\n",
       "    }\n",
       "\n",
       "    .dataframe thead th {\n",
       "        text-align: right;\n",
       "    }\n",
       "</style>\n",
       "<table border=\"1\" class=\"dataframe\">\n",
       "  <thead>\n",
       "    <tr style=\"text-align: right;\">\n",
       "      <th></th>\n",
       "      <th>gene_name</th>\n",
       "      <th>tissue</th>\n",
       "    </tr>\n",
       "    <tr>\n",
       "      <th>gene_id</th>\n",
       "      <th></th>\n",
       "      <th></th>\n",
       "    </tr>\n",
       "  </thead>\n",
       "  <tbody>\n",
       "    <tr>\n",
       "      <th>ENSG00000000419</th>\n",
       "      <td>DPM1</td>\n",
       "      <td>(Brain_Substantia_nigra, Brain_Hypothalamus)</td>\n",
       "    </tr>\n",
       "    <tr>\n",
       "      <th>ENSG00000000457</th>\n",
       "      <td>SCYL3</td>\n",
       "      <td>(Brain_Frontal_Cortex_BA9, Minor_Salivary_Glan...</td>\n",
       "    </tr>\n",
       "    <tr>\n",
       "      <th>ENSG00000000460</th>\n",
       "      <td>C1orf112</td>\n",
       "      <td>(Brain_Frontal_Cortex_BA9, Minor_Salivary_Glan...</td>\n",
       "    </tr>\n",
       "    <tr>\n",
       "      <th>ENSG00000000938</th>\n",
       "      <td>FGR</td>\n",
       "      <td>(Brain_Frontal_Cortex_BA9, Esophagus_Gastroeso...</td>\n",
       "    </tr>\n",
       "    <tr>\n",
       "      <th>ENSG00000000971</th>\n",
       "      <td>CFH</td>\n",
       "      <td>(Brain_Frontal_Cortex_BA9, Esophagus_Gastroeso...</td>\n",
       "    </tr>\n",
       "  </tbody>\n",
       "</table>\n",
       "</div>"
      ],
      "text/plain": [
       "                gene_name                                             tissue\n",
       "gene_id                                                                     \n",
       "ENSG00000000419      DPM1       (Brain_Substantia_nigra, Brain_Hypothalamus)\n",
       "ENSG00000000457     SCYL3  (Brain_Frontal_Cortex_BA9, Minor_Salivary_Glan...\n",
       "ENSG00000000460  C1orf112  (Brain_Frontal_Cortex_BA9, Minor_Salivary_Glan...\n",
       "ENSG00000000938       FGR  (Brain_Frontal_Cortex_BA9, Esophagus_Gastroeso...\n",
       "ENSG00000000971       CFH  (Brain_Frontal_Cortex_BA9, Esophagus_Gastroeso..."
      ]
     },
     "execution_count": 18,
     "metadata": {},
     "output_type": "execute_result"
    }
   ],
   "source": [
    "spredixcan_genes_models.head()"
   ]
  },
  {
   "cell_type": "code",
   "execution_count": 19,
   "id": "d1c11bb1-be0b-4f40-b360-633d6827109f",
   "metadata": {
    "execution": {
     "iopub.execute_input": "2022-07-22T04:38:23.773993Z",
     "iopub.status.busy": "2022-07-22T04:38:23.773619Z",
     "iopub.status.idle": "2022-07-22T04:38:23.790177Z",
     "shell.execute_reply": "2022-07-22T04:38:23.789764Z"
    },
    "papermill": {
     "duration": 0.025788,
     "end_time": "2022-07-22T04:38:23.791536",
     "exception": false,
     "start_time": "2022-07-22T04:38:23.765748",
     "status": "completed"
    },
    "tags": []
   },
   "outputs": [],
   "source": [
    "assert spredixcan_genes_models.index.is_unique"
   ]
  },
  {
   "cell_type": "markdown",
   "id": "6caf9d10-eda8-4ad2-8811-a983aa77a25a",
   "metadata": {
    "papermill": {
     "duration": 0.006993,
     "end_time": "2022-07-22T04:38:23.805789",
     "exception": false,
     "start_time": "2022-07-22T04:38:23.798796",
     "status": "completed"
    },
    "tags": []
   },
   "source": [
    "## Get common genes"
   ]
  },
  {
   "cell_type": "code",
   "execution_count": 20,
   "id": "f8d1e317-1cc8-4bdf-bbe9-c3b0a5478359",
   "metadata": {
    "execution": {
     "iopub.execute_input": "2022-07-22T04:38:23.820699Z",
     "iopub.status.busy": "2022-07-22T04:38:23.820492Z",
     "iopub.status.idle": "2022-07-22T04:38:23.835826Z",
     "shell.execute_reply": "2022-07-22T04:38:23.835417Z"
    },
    "papermill": {
     "duration": 0.024257,
     "end_time": "2022-07-22T04:38:23.837163",
     "exception": false,
     "start_time": "2022-07-22T04:38:23.812906",
     "status": "completed"
    },
    "tags": []
   },
   "outputs": [],
   "source": [
    "with open(INPUT_DIR / \"common_genes.pkl\", \"rb\") as handle:\n",
    "    common_genes = pickle.load(handle)"
   ]
  },
  {
   "cell_type": "code",
   "execution_count": 21,
   "id": "ce9506aa-2f38-4e46-b9c2-84d750fac0da",
   "metadata": {
    "execution": {
     "iopub.execute_input": "2022-07-22T04:38:23.852214Z",
     "iopub.status.busy": "2022-07-22T04:38:23.852046Z",
     "iopub.status.idle": "2022-07-22T04:38:23.877526Z",
     "shell.execute_reply": "2022-07-22T04:38:23.875804Z"
    },
    "papermill": {
     "duration": 0.034891,
     "end_time": "2022-07-22T04:38:23.879248",
     "exception": false,
     "start_time": "2022-07-22T04:38:23.844357",
     "status": "completed"
    },
    "tags": []
   },
   "outputs": [
    {
     "data": {
      "text/plain": [
       "6444"
      ]
     },
     "execution_count": 21,
     "metadata": {},
     "output_type": "execute_result"
    }
   ],
   "source": [
    "len(common_genes)"
   ]
  },
  {
   "cell_type": "code",
   "execution_count": 22,
   "id": "f525a698-506a-48e0-9aee-1aca62def5dd",
   "metadata": {
    "execution": {
     "iopub.execute_input": "2022-07-22T04:38:23.897070Z",
     "iopub.status.busy": "2022-07-22T04:38:23.896896Z",
     "iopub.status.idle": "2022-07-22T04:38:23.914894Z",
     "shell.execute_reply": "2022-07-22T04:38:23.914440Z"
    },
    "papermill": {
     "duration": 0.027798,
     "end_time": "2022-07-22T04:38:23.916239",
     "exception": false,
     "start_time": "2022-07-22T04:38:23.888441",
     "status": "completed"
    },
    "tags": []
   },
   "outputs": [
    {
     "data": {
      "text/plain": [
       "['A2M', 'AAAS', 'AANAT', 'AARS', 'AARS2']"
      ]
     },
     "execution_count": 22,
     "metadata": {},
     "output_type": "execute_result"
    }
   ],
   "source": [
    "sorted(list(common_genes))[:5]"
   ]
  },
  {
   "cell_type": "markdown",
   "id": "a5b5092c-a13e-47c4-a92a-480fcc08f3ae",
   "metadata": {
    "papermill": {
     "duration": 0.007576,
     "end_time": "2022-07-22T04:38:23.931668",
     "exception": false,
     "start_time": "2022-07-22T04:38:23.924092",
     "status": "completed"
    },
    "tags": []
   },
   "source": [
    "## Gene info"
   ]
  },
  {
   "cell_type": "code",
   "execution_count": 23,
   "id": "7d6bb224-88e9-4358-ac10-43a41d92cdad",
   "metadata": {
    "execution": {
     "iopub.execute_input": "2022-07-22T04:38:23.947381Z",
     "iopub.status.busy": "2022-07-22T04:38:23.947071Z",
     "iopub.status.idle": "2022-07-22T04:38:23.964415Z",
     "shell.execute_reply": "2022-07-22T04:38:23.964010Z"
    },
    "papermill": {
     "duration": 0.026569,
     "end_time": "2022-07-22T04:38:23.965687",
     "exception": false,
     "start_time": "2022-07-22T04:38:23.939118",
     "status": "completed"
    },
    "tags": []
   },
   "outputs": [],
   "source": [
    "genes_info = pd.read_pickle(INPUT_DIR / \"genes_info.pkl\")"
   ]
  },
  {
   "cell_type": "code",
   "execution_count": 24,
   "id": "9e32abfa-546d-483e-8c18-d526e9e05903",
   "metadata": {
    "execution": {
     "iopub.execute_input": "2022-07-22T04:38:23.981368Z",
     "iopub.status.busy": "2022-07-22T04:38:23.980934Z",
     "iopub.status.idle": "2022-07-22T04:38:23.995992Z",
     "shell.execute_reply": "2022-07-22T04:38:23.995519Z"
    },
    "papermill": {
     "duration": 0.02428,
     "end_time": "2022-07-22T04:38:23.997204",
     "exception": false,
     "start_time": "2022-07-22T04:38:23.972924",
     "status": "completed"
    },
    "tags": []
   },
   "outputs": [
    {
     "data": {
      "text/plain": [
       "(6444, 7)"
      ]
     },
     "execution_count": 24,
     "metadata": {},
     "output_type": "execute_result"
    }
   ],
   "source": [
    "genes_info.shape"
   ]
  },
  {
   "cell_type": "code",
   "execution_count": 25,
   "id": "d16c3e92-85ec-468a-9a56-e25a9774a1cb",
   "metadata": {
    "execution": {
     "iopub.execute_input": "2022-07-22T04:38:24.012860Z",
     "iopub.status.busy": "2022-07-22T04:38:24.012594Z",
     "iopub.status.idle": "2022-07-22T04:38:24.033781Z",
     "shell.execute_reply": "2022-07-22T04:38:24.033340Z"
    },
    "papermill": {
     "duration": 0.030448,
     "end_time": "2022-07-22T04:38:24.035062",
     "exception": false,
     "start_time": "2022-07-22T04:38:24.004614",
     "status": "completed"
    },
    "tags": []
   },
   "outputs": [
    {
     "data": {
      "text/html": [
       "<div>\n",
       "<style scoped>\n",
       "    .dataframe tbody tr th:only-of-type {\n",
       "        vertical-align: middle;\n",
       "    }\n",
       "\n",
       "    .dataframe tbody tr th {\n",
       "        vertical-align: top;\n",
       "    }\n",
       "\n",
       "    .dataframe thead th {\n",
       "        text-align: right;\n",
       "    }\n",
       "</style>\n",
       "<table border=\"1\" class=\"dataframe\">\n",
       "  <thead>\n",
       "    <tr style=\"text-align: right;\">\n",
       "      <th></th>\n",
       "      <th>name</th>\n",
       "      <th>id</th>\n",
       "      <th>chr</th>\n",
       "      <th>band</th>\n",
       "      <th>start_position</th>\n",
       "      <th>end_position</th>\n",
       "      <th>gene_length</th>\n",
       "    </tr>\n",
       "  </thead>\n",
       "  <tbody>\n",
       "    <tr>\n",
       "      <th>0</th>\n",
       "      <td>MFN2</td>\n",
       "      <td>ENSG00000116688</td>\n",
       "      <td>1</td>\n",
       "      <td>1p36.22</td>\n",
       "      <td>11980181.0</td>\n",
       "      <td>12013514.0</td>\n",
       "      <td>33333.0</td>\n",
       "    </tr>\n",
       "    <tr>\n",
       "      <th>1</th>\n",
       "      <td>PPA2</td>\n",
       "      <td>ENSG00000138777</td>\n",
       "      <td>4</td>\n",
       "      <td>4q24</td>\n",
       "      <td>105369077.0</td>\n",
       "      <td>105474067.0</td>\n",
       "      <td>104990.0</td>\n",
       "    </tr>\n",
       "    <tr>\n",
       "      <th>2</th>\n",
       "      <td>ADRA2A</td>\n",
       "      <td>ENSG00000150594</td>\n",
       "      <td>10</td>\n",
       "      <td>10q25.2</td>\n",
       "      <td>111077163.0</td>\n",
       "      <td>111080907.0</td>\n",
       "      <td>3744.0</td>\n",
       "    </tr>\n",
       "    <tr>\n",
       "      <th>3</th>\n",
       "      <td>RYR2</td>\n",
       "      <td>ENSG00000198626</td>\n",
       "      <td>1</td>\n",
       "      <td>1q43</td>\n",
       "      <td>237042184.0</td>\n",
       "      <td>237833988.0</td>\n",
       "      <td>791804.0</td>\n",
       "    </tr>\n",
       "    <tr>\n",
       "      <th>4</th>\n",
       "      <td>VAV2</td>\n",
       "      <td>ENSG00000160293</td>\n",
       "      <td>9</td>\n",
       "      <td>9q34.2</td>\n",
       "      <td>133761894.0</td>\n",
       "      <td>133992604.0</td>\n",
       "      <td>230710.0</td>\n",
       "    </tr>\n",
       "  </tbody>\n",
       "</table>\n",
       "</div>"
      ],
      "text/plain": [
       "     name               id chr     band  start_position  end_position  \\\n",
       "0    MFN2  ENSG00000116688   1  1p36.22      11980181.0    12013514.0   \n",
       "1    PPA2  ENSG00000138777   4     4q24     105369077.0   105474067.0   \n",
       "2  ADRA2A  ENSG00000150594  10  10q25.2     111077163.0   111080907.0   \n",
       "3    RYR2  ENSG00000198626   1     1q43     237042184.0   237833988.0   \n",
       "4    VAV2  ENSG00000160293   9   9q34.2     133761894.0   133992604.0   \n",
       "\n",
       "   gene_length  \n",
       "0      33333.0  \n",
       "1     104990.0  \n",
       "2       3744.0  \n",
       "3     791804.0  \n",
       "4     230710.0  "
      ]
     },
     "execution_count": 25,
     "metadata": {},
     "output_type": "execute_result"
    }
   ],
   "source": [
    "genes_info.head()"
   ]
  },
  {
   "cell_type": "markdown",
   "id": "d3843e06",
   "metadata": {
    "papermill": {
     "duration": 0.007141,
     "end_time": "2022-07-22T04:38:24.050052",
     "exception": false,
     "start_time": "2022-07-22T04:38:24.042911",
     "status": "completed"
    },
    "tags": []
   },
   "source": [
    "# Compute correlations"
   ]
  },
  {
   "cell_type": "code",
   "execution_count": 26,
   "id": "cb859c15-d1f3-4006-a74c-2b83c0db9611",
   "metadata": {
    "execution": {
     "iopub.execute_input": "2022-07-22T04:38:24.066020Z",
     "iopub.status.busy": "2022-07-22T04:38:24.065594Z",
     "iopub.status.idle": "2022-07-22T04:38:24.080767Z",
     "shell.execute_reply": "2022-07-22T04:38:24.080307Z"
    },
    "papermill": {
     "duration": 0.024616,
     "end_time": "2022-07-22T04:38:24.082042",
     "exception": false,
     "start_time": "2022-07-22T04:38:24.057426",
     "status": "completed"
    },
    "tags": []
   },
   "outputs": [
    {
     "data": {
      "text/plain": [
       "PosixPath('/opt/data/results/gls/gene_corrs/cohorts/1000g_eur/1000g/mashr/by_chr/gene_corrs-chr16.pkl')"
      ]
     },
     "metadata": {},
     "output_type": "display_data"
    }
   ],
   "source": [
    "output_dir = OUTPUT_DIR_BASE / \"by_chr\"\n",
    "output_dir.mkdir(exist_ok=True, parents=True)\n",
    "output_file = output_dir / f\"gene_corrs-chr{CHROMOSOME}.pkl\"\n",
    "display(output_file)"
   ]
  },
  {
   "cell_type": "code",
   "execution_count": 27,
   "id": "aa674fe4-6794-4eed-98fa-32b39d1d4ace",
   "metadata": {
    "execution": {
     "iopub.execute_input": "2022-07-22T04:38:24.098701Z",
     "iopub.status.busy": "2022-07-22T04:38:24.098210Z",
     "iopub.status.idle": "2022-07-22T04:38:24.113192Z",
     "shell.execute_reply": "2022-07-22T04:38:24.112656Z"
    },
    "papermill": {
     "duration": 0.024698,
     "end_time": "2022-07-22T04:38:24.114607",
     "exception": false,
     "start_time": "2022-07-22T04:38:24.089909",
     "status": "completed"
    },
    "tags": []
   },
   "outputs": [],
   "source": [
    "warnings.filterwarnings(\"error\")"
   ]
  },
  {
   "cell_type": "code",
   "execution_count": 28,
   "id": "44d5450b-3baf-43f1-9e2e-4b06f1a785f8",
   "metadata": {
    "execution": {
     "iopub.execute_input": "2022-07-22T04:38:24.131310Z",
     "iopub.status.busy": "2022-07-22T04:38:24.130881Z",
     "iopub.status.idle": "2022-07-22T04:38:24.146114Z",
     "shell.execute_reply": "2022-07-22T04:38:24.145713Z"
    },
    "papermill": {
     "duration": 0.024866,
     "end_time": "2022-07-22T04:38:24.147434",
     "exception": false,
     "start_time": "2022-07-22T04:38:24.122568",
     "status": "completed"
    },
    "tags": []
   },
   "outputs": [],
   "source": [
    "# standard checks\n",
    "all_chrs = genes_info[\"chr\"].dropna().unique()\n",
    "assert all_chrs.shape[0] == 22\n",
    "\n",
    "# select chromosome given by the user\n",
    "assert CHROMOSOME in all_chrs"
   ]
  },
  {
   "cell_type": "code",
   "execution_count": 29,
   "id": "2d7c043c-92a7-4d35-991b-fa69ac1e0268",
   "metadata": {
    "execution": {
     "iopub.execute_input": "2022-07-22T04:38:24.163922Z",
     "iopub.status.busy": "2022-07-22T04:38:24.163645Z",
     "iopub.status.idle": "2022-07-22T04:38:24.179916Z",
     "shell.execute_reply": "2022-07-22T04:38:24.179417Z"
    },
    "papermill": {
     "duration": 0.025761,
     "end_time": "2022-07-22T04:38:24.181202",
     "exception": false,
     "start_time": "2022-07-22T04:38:24.155441",
     "status": "completed"
    },
    "tags": []
   },
   "outputs": [
    {
     "name": "stdout",
     "output_type": "stream",
     "text": [
      "Number of genes in chromosome: 274\n"
     ]
    }
   ],
   "source": [
    "# run only on the chromosome specified\n",
    "all_chrs = [CHROMOSOME]\n",
    "genes_chr = genes_info[genes_info[\"chr\"] == CHROMOSOME]\n",
    "\n",
    "# For testing purposes\n",
    "# genes_chr = genes_chr.sample(n=20)\n",
    "\n",
    "print(f\"Number of genes in chromosome: {genes_chr.shape[0]}\", flush=True)"
   ]
  },
  {
   "cell_type": "code",
   "execution_count": 30,
   "id": "916015d8-2979-46d3-a9b9-1cf5a0932c6a",
   "metadata": {
    "execution": {
     "iopub.execute_input": "2022-07-22T04:38:24.205290Z",
     "iopub.status.busy": "2022-07-22T04:38:24.205112Z",
     "iopub.status.idle": "2022-07-22T04:38:24.220473Z",
     "shell.execute_reply": "2022-07-22T04:38:24.219913Z"
    },
    "papermill": {
     "duration": 0.02579,
     "end_time": "2022-07-22T04:38:24.222022",
     "exception": false,
     "start_time": "2022-07-22T04:38:24.196232",
     "status": "completed"
    },
    "tags": []
   },
   "outputs": [],
   "source": [
    "# sort genes by starting position to make visualizations better later\n",
    "genes_chr = genes_chr.sort_values(\"start_position\")"
   ]
  },
  {
   "cell_type": "code",
   "execution_count": 31,
   "id": "a38aa74a-8ad3-47f6-8ef9-56be0e011774",
   "metadata": {
    "execution": {
     "iopub.execute_input": "2022-07-22T04:38:24.240110Z",
     "iopub.status.busy": "2022-07-22T04:38:24.239617Z",
     "iopub.status.idle": "2022-07-22T04:38:24.255891Z",
     "shell.execute_reply": "2022-07-22T04:38:24.255299Z"
    },
    "papermill": {
     "duration": 0.026722,
     "end_time": "2022-07-22T04:38:24.257376",
     "exception": false,
     "start_time": "2022-07-22T04:38:24.230654",
     "status": "completed"
    },
    "tags": []
   },
   "outputs": [],
   "source": [
    "gene_chr_objs = [Gene(ensembl_id=gene_id) for gene_id in genes_chr[\"id\"]]"
   ]
  },
  {
   "cell_type": "code",
   "execution_count": 32,
   "id": "570f974f-13c3-42b6-ad3a-ce99ca885c1a",
   "metadata": {
    "execution": {
     "iopub.execute_input": "2022-07-22T04:38:24.275453Z",
     "iopub.status.busy": "2022-07-22T04:38:24.274997Z",
     "iopub.status.idle": "2022-07-22T04:38:24.290945Z",
     "shell.execute_reply": "2022-07-22T04:38:24.290365Z"
    },
    "papermill": {
     "duration": 0.026439,
     "end_time": "2022-07-22T04:38:24.292428",
     "exception": false,
     "start_time": "2022-07-22T04:38:24.265989",
     "status": "completed"
    },
    "tags": []
   },
   "outputs": [
    {
     "name": "stdout",
     "output_type": "stream",
     "text": [
      "Number of gene combinations: 37401\n"
     ]
    }
   ],
   "source": [
    "n = len(gene_chr_objs)\n",
    "n_comb = int(n * (n - 1) / 2.0)\n",
    "print(f\"Number of gene combinations: {n_comb}\", flush=True)"
   ]
  },
  {
   "cell_type": "code",
   "execution_count": 33,
   "id": "cdbb90a1",
   "metadata": {
    "execution": {
     "iopub.execute_input": "2022-07-22T04:38:24.310767Z",
     "iopub.status.busy": "2022-07-22T04:38:24.310588Z",
     "iopub.status.idle": "2022-07-22T04:47:39.884445Z",
     "shell.execute_reply": "2022-07-22T04:47:39.883985Z"
    },
    "papermill": {
     "duration": 557.012098,
     "end_time": "2022-07-22T04:47:41.313117",
     "exception": false,
     "start_time": "2022-07-22T04:38:24.301019",
     "status": "completed"
    },
    "tags": []
   },
   "outputs": [
    {
     "name": "stderr",
     "output_type": "stream",
     "text": [
      "ENSG00000258839 / ENSG00000258947: 100%|██████████████████████| 37401/37401 [09:15<00:00, 67.32it/s]\n"
     ]
    },
    {
     "data": {
      "text/plain": [
       "PosixPath('/opt/data/results/gls/gene_corrs/cohorts/1000g_eur/1000g/mashr/by_chr/gene_corrs-chr16.pkl')"
      ]
     },
     "metadata": {},
     "output_type": "display_data"
    }
   ],
   "source": [
    "gene_corrs = []\n",
    "\n",
    "i = 0\n",
    "with tqdm(ncols=100, total=n_comb) as pbar:\n",
    "    for gene1_idx in range(0, len(gene_chr_objs) - 1):\n",
    "        gene1_obj = gene_chr_objs[gene1_idx]\n",
    "        gene1_tissues = spredixcan_genes_models.loc[gene1_obj.ensembl_id, \"tissue\"]\n",
    "\n",
    "        for gene2_idx in range(gene1_idx + 1, len(gene_chr_objs)):\n",
    "            gene2_obj = gene_chr_objs[gene2_idx]\n",
    "            gene2_tissues = spredixcan_genes_models.loc[gene2_obj.ensembl_id, \"tissue\"]\n",
    "\n",
    "            pbar.set_description(f\"{gene1_obj.ensembl_id} / {gene2_obj.ensembl_id}\")\n",
    "\n",
    "            try:\n",
    "                r = gene1_obj.get_ssm_correlation(\n",
    "                    other_gene=gene2_obj,\n",
    "                    tissues=gene1_tissues,\n",
    "                    other_tissues=gene2_tissues,\n",
    "                    snps_subset=gwas_variants_ids_set,\n",
    "                    condition_number=SMULTIXCAN_CONDITION_NUMBER,\n",
    "                    reference_panel=REFERENCE_PANEL,\n",
    "                    model_type=EQTL_MODEL,\n",
    "                    use_within_distance=COMPUTE_CORRELATIONS_WITHIN_DISTANCE,\n",
    "                )\n",
    "\n",
    "                if r is None:\n",
    "                    # if r is None, it's very likely because:\n",
    "                    #  * one of the genes has no prediction models\n",
    "                    #  * all the SNPs predictors for the gene are not present in the reference\n",
    "                    #    panel\n",
    "\n",
    "                    r = 0.0\n",
    "\n",
    "                gene_corrs.append(r)\n",
    "            except Warning as e:\n",
    "                if not DEBUG_MODE:\n",
    "                    raise e\n",
    "\n",
    "                print(\n",
    "                    f\"RuntimeWarning for genes {gene1_obj.ensembl_id} and {gene2_obj.ensembl_id}\",\n",
    "                    flush=True,\n",
    "                )\n",
    "                print(traceback.format_exc(), flush=True)\n",
    "\n",
    "                gene_corrs.append(np.nan)\n",
    "            except Exception as e:\n",
    "                if not DEBUG_MODE:\n",
    "                    raise e\n",
    "\n",
    "                print(\n",
    "                    f\"Exception for genes {gene1_obj.ensembl_id} and {gene2_obj.ensembl_id}\",\n",
    "                    flush=True,\n",
    "                )\n",
    "                print(traceback.format_exc(), flush=True)\n",
    "\n",
    "                gene_corrs.append(np.nan)\n",
    "\n",
    "            pbar.update(1)\n",
    "\n",
    "# create a pandas series\n",
    "gene_corrs_flat = pd.Series(gene_corrs)\n",
    "\n",
    "# save\n",
    "# FIXME: consider saving only the condenced matrix here. See here for\n",
    "# more details: https://github.com/greenelab/phenoplier/pull/38#discussion_r634600813\n",
    "gene_corrs_data = squareform(np.array(gene_corrs, dtype=np.float64))\n",
    "np.fill_diagonal(gene_corrs_data, 1.0)\n",
    "\n",
    "gene_chr_ids = [g.ensembl_id for g in gene_chr_objs]\n",
    "gene_corrs_df = pd.DataFrame(\n",
    "    data=gene_corrs_data,\n",
    "    index=gene_chr_ids,\n",
    "    columns=gene_chr_ids,\n",
    ")\n",
    "\n",
    "output_dir.mkdir(exist_ok=True, parents=True)\n",
    "display(output_file)\n",
    "\n",
    "gene_corrs_df.to_pickle(output_file)"
   ]
  },
  {
   "cell_type": "markdown",
   "id": "faa67b51-5373-470f-aa72-2ded53fa6dfe",
   "metadata": {
    "papermill": {
     "duration": 1.44237,
     "end_time": "2022-07-22T04:47:44.177893",
     "exception": false,
     "start_time": "2022-07-22T04:47:42.735523",
     "status": "completed"
    },
    "tags": []
   },
   "source": [
    "# Testing"
   ]
  },
  {
   "cell_type": "code",
   "execution_count": 34,
   "id": "14f7d046-4b55-4896-a56b-990127bcc388",
   "metadata": {
    "execution": {
     "iopub.execute_input": "2022-07-22T04:47:46.992702Z",
     "iopub.status.busy": "2022-07-22T04:47:46.992529Z",
     "iopub.status.idle": "2022-07-22T04:47:47.008775Z",
     "shell.execute_reply": "2022-07-22T04:47:47.008316Z"
    },
    "papermill": {
     "duration": 1.447837,
     "end_time": "2022-07-22T04:47:47.010037",
     "exception": false,
     "start_time": "2022-07-22T04:47:45.562200",
     "status": "completed"
    },
    "tags": []
   },
   "outputs": [
    {
     "data": {
      "text/plain": [
       "(274, 274)"
      ]
     },
     "execution_count": 34,
     "metadata": {},
     "output_type": "execute_result"
    }
   ],
   "source": [
    "gene_corrs_df.shape"
   ]
  },
  {
   "cell_type": "code",
   "execution_count": 35,
   "id": "c7d15414-3297-4537-a7c6-7588c0baeb75",
   "metadata": {
    "execution": {
     "iopub.execute_input": "2022-07-22T04:47:49.824699Z",
     "iopub.status.busy": "2022-07-22T04:47:49.824496Z",
     "iopub.status.idle": "2022-07-22T04:47:49.853998Z",
     "shell.execute_reply": "2022-07-22T04:47:49.853549Z"
    },
    "papermill": {
     "duration": 1.416301,
     "end_time": "2022-07-22T04:47:49.855203",
     "exception": false,
     "start_time": "2022-07-22T04:47:48.438902",
     "status": "completed"
    },
    "tags": []
   },
   "outputs": [
    {
     "data": {
      "text/html": [
       "<div>\n",
       "<style scoped>\n",
       "    .dataframe tbody tr th:only-of-type {\n",
       "        vertical-align: middle;\n",
       "    }\n",
       "\n",
       "    .dataframe tbody tr th {\n",
       "        vertical-align: top;\n",
       "    }\n",
       "\n",
       "    .dataframe thead th {\n",
       "        text-align: right;\n",
       "    }\n",
       "</style>\n",
       "<table border=\"1\" class=\"dataframe\">\n",
       "  <thead>\n",
       "    <tr style=\"text-align: right;\">\n",
       "      <th></th>\n",
       "      <th>ENSG00000161980</th>\n",
       "      <th>ENSG00000103152</th>\n",
       "      <th>ENSG00000206172</th>\n",
       "      <th>ENSG00000086506</th>\n",
       "      <th>ENSG00000076344</th>\n",
       "      <th>ENSG00000103126</th>\n",
       "      <th>ENSG00000086504</th>\n",
       "      <th>ENSG00000103202</th>\n",
       "      <th>ENSG00000242612</th>\n",
       "      <th>ENSG00000090565</th>\n",
       "      <th>...</th>\n",
       "      <th>ENSG00000051523</th>\n",
       "      <th>ENSG00000167508</th>\n",
       "      <th>ENSG00000167513</th>\n",
       "      <th>ENSG00000198931</th>\n",
       "      <th>ENSG00000141012</th>\n",
       "      <th>ENSG00000129993</th>\n",
       "      <th>ENSG00000167526</th>\n",
       "      <th>ENSG00000187741</th>\n",
       "      <th>ENSG00000258839</th>\n",
       "      <th>ENSG00000258947</th>\n",
       "    </tr>\n",
       "  </thead>\n",
       "  <tbody>\n",
       "    <tr>\n",
       "      <th>ENSG00000161980</th>\n",
       "      <td>1.000000</td>\n",
       "      <td>0.292930</td>\n",
       "      <td>0.014457</td>\n",
       "      <td>0.028432</td>\n",
       "      <td>0.015629</td>\n",
       "      <td>0.008790</td>\n",
       "      <td>0.007649</td>\n",
       "      <td>0.007969</td>\n",
       "      <td>0.003933</td>\n",
       "      <td>0.008701</td>\n",
       "      <td>...</td>\n",
       "      <td>0.0</td>\n",
       "      <td>0.0</td>\n",
       "      <td>0.0</td>\n",
       "      <td>0.0</td>\n",
       "      <td>0.0</td>\n",
       "      <td>0.0</td>\n",
       "      <td>0.0</td>\n",
       "      <td>0.0</td>\n",
       "      <td>0.0</td>\n",
       "      <td>0.0</td>\n",
       "    </tr>\n",
       "    <tr>\n",
       "      <th>ENSG00000103152</th>\n",
       "      <td>0.292930</td>\n",
       "      <td>1.000000</td>\n",
       "      <td>0.042781</td>\n",
       "      <td>0.098459</td>\n",
       "      <td>0.044858</td>\n",
       "      <td>0.016963</td>\n",
       "      <td>0.025569</td>\n",
       "      <td>0.012671</td>\n",
       "      <td>0.006444</td>\n",
       "      <td>0.008860</td>\n",
       "      <td>...</td>\n",
       "      <td>0.0</td>\n",
       "      <td>0.0</td>\n",
       "      <td>0.0</td>\n",
       "      <td>0.0</td>\n",
       "      <td>0.0</td>\n",
       "      <td>0.0</td>\n",
       "      <td>0.0</td>\n",
       "      <td>0.0</td>\n",
       "      <td>0.0</td>\n",
       "      <td>0.0</td>\n",
       "    </tr>\n",
       "    <tr>\n",
       "      <th>ENSG00000206172</th>\n",
       "      <td>0.014457</td>\n",
       "      <td>0.042781</td>\n",
       "      <td>1.000000</td>\n",
       "      <td>0.080993</td>\n",
       "      <td>0.062208</td>\n",
       "      <td>0.044024</td>\n",
       "      <td>0.134139</td>\n",
       "      <td>0.022336</td>\n",
       "      <td>0.016887</td>\n",
       "      <td>0.009029</td>\n",
       "      <td>...</td>\n",
       "      <td>0.0</td>\n",
       "      <td>0.0</td>\n",
       "      <td>0.0</td>\n",
       "      <td>0.0</td>\n",
       "      <td>0.0</td>\n",
       "      <td>0.0</td>\n",
       "      <td>0.0</td>\n",
       "      <td>0.0</td>\n",
       "      <td>0.0</td>\n",
       "      <td>0.0</td>\n",
       "    </tr>\n",
       "    <tr>\n",
       "      <th>ENSG00000086506</th>\n",
       "      <td>0.028432</td>\n",
       "      <td>0.098459</td>\n",
       "      <td>0.080993</td>\n",
       "      <td>1.000000</td>\n",
       "      <td>0.146688</td>\n",
       "      <td>0.072761</td>\n",
       "      <td>0.085225</td>\n",
       "      <td>0.027458</td>\n",
       "      <td>0.016960</td>\n",
       "      <td>0.025167</td>\n",
       "      <td>...</td>\n",
       "      <td>0.0</td>\n",
       "      <td>0.0</td>\n",
       "      <td>0.0</td>\n",
       "      <td>0.0</td>\n",
       "      <td>0.0</td>\n",
       "      <td>0.0</td>\n",
       "      <td>0.0</td>\n",
       "      <td>0.0</td>\n",
       "      <td>0.0</td>\n",
       "      <td>0.0</td>\n",
       "    </tr>\n",
       "    <tr>\n",
       "      <th>ENSG00000076344</th>\n",
       "      <td>0.015629</td>\n",
       "      <td>0.044858</td>\n",
       "      <td>0.062208</td>\n",
       "      <td>0.146688</td>\n",
       "      <td>1.000000</td>\n",
       "      <td>0.116543</td>\n",
       "      <td>0.101193</td>\n",
       "      <td>0.019713</td>\n",
       "      <td>0.015065</td>\n",
       "      <td>0.024127</td>\n",
       "      <td>...</td>\n",
       "      <td>0.0</td>\n",
       "      <td>0.0</td>\n",
       "      <td>0.0</td>\n",
       "      <td>0.0</td>\n",
       "      <td>0.0</td>\n",
       "      <td>0.0</td>\n",
       "      <td>0.0</td>\n",
       "      <td>0.0</td>\n",
       "      <td>0.0</td>\n",
       "      <td>0.0</td>\n",
       "    </tr>\n",
       "  </tbody>\n",
       "</table>\n",
       "<p>5 rows × 274 columns</p>\n",
       "</div>"
      ],
      "text/plain": [
       "                 ENSG00000161980  ENSG00000103152  ENSG00000206172  \\\n",
       "ENSG00000161980         1.000000         0.292930         0.014457   \n",
       "ENSG00000103152         0.292930         1.000000         0.042781   \n",
       "ENSG00000206172         0.014457         0.042781         1.000000   \n",
       "ENSG00000086506         0.028432         0.098459         0.080993   \n",
       "ENSG00000076344         0.015629         0.044858         0.062208   \n",
       "\n",
       "                 ENSG00000086506  ENSG00000076344  ENSG00000103126  \\\n",
       "ENSG00000161980         0.028432         0.015629         0.008790   \n",
       "ENSG00000103152         0.098459         0.044858         0.016963   \n",
       "ENSG00000206172         0.080993         0.062208         0.044024   \n",
       "ENSG00000086506         1.000000         0.146688         0.072761   \n",
       "ENSG00000076344         0.146688         1.000000         0.116543   \n",
       "\n",
       "                 ENSG00000086504  ENSG00000103202  ENSG00000242612  \\\n",
       "ENSG00000161980         0.007649         0.007969         0.003933   \n",
       "ENSG00000103152         0.025569         0.012671         0.006444   \n",
       "ENSG00000206172         0.134139         0.022336         0.016887   \n",
       "ENSG00000086506         0.085225         0.027458         0.016960   \n",
       "ENSG00000076344         0.101193         0.019713         0.015065   \n",
       "\n",
       "                 ENSG00000090565  ...  ENSG00000051523  ENSG00000167508  \\\n",
       "ENSG00000161980         0.008701  ...              0.0              0.0   \n",
       "ENSG00000103152         0.008860  ...              0.0              0.0   \n",
       "ENSG00000206172         0.009029  ...              0.0              0.0   \n",
       "ENSG00000086506         0.025167  ...              0.0              0.0   \n",
       "ENSG00000076344         0.024127  ...              0.0              0.0   \n",
       "\n",
       "                 ENSG00000167513  ENSG00000198931  ENSG00000141012  \\\n",
       "ENSG00000161980              0.0              0.0              0.0   \n",
       "ENSG00000103152              0.0              0.0              0.0   \n",
       "ENSG00000206172              0.0              0.0              0.0   \n",
       "ENSG00000086506              0.0              0.0              0.0   \n",
       "ENSG00000076344              0.0              0.0              0.0   \n",
       "\n",
       "                 ENSG00000129993  ENSG00000167526  ENSG00000187741  \\\n",
       "ENSG00000161980              0.0              0.0              0.0   \n",
       "ENSG00000103152              0.0              0.0              0.0   \n",
       "ENSG00000206172              0.0              0.0              0.0   \n",
       "ENSG00000086506              0.0              0.0              0.0   \n",
       "ENSG00000076344              0.0              0.0              0.0   \n",
       "\n",
       "                 ENSG00000258839  ENSG00000258947  \n",
       "ENSG00000161980              0.0              0.0  \n",
       "ENSG00000103152              0.0              0.0  \n",
       "ENSG00000206172              0.0              0.0  \n",
       "ENSG00000086506              0.0              0.0  \n",
       "ENSG00000076344              0.0              0.0  \n",
       "\n",
       "[5 rows x 274 columns]"
      ]
     },
     "execution_count": 35,
     "metadata": {},
     "output_type": "execute_result"
    }
   ],
   "source": [
    "gene_corrs_df.head()"
   ]
  },
  {
   "cell_type": "markdown",
   "id": "dad6603f-01c6-41fb-a6f6-241051207dd8",
   "metadata": {
    "papermill": {
     "duration": 1.395021,
     "end_time": "2022-07-22T04:47:52.659441",
     "exception": false,
     "start_time": "2022-07-22T04:47:51.264420",
     "status": "completed"
    },
    "tags": []
   },
   "source": [
    "## Standard checks and stats"
   ]
  },
  {
   "cell_type": "code",
   "execution_count": 36,
   "id": "286686af-1b7b-4440-8453-6bdcbd8de19c",
   "metadata": {
    "execution": {
     "iopub.execute_input": "2022-07-22T04:47:55.485128Z",
     "iopub.status.busy": "2022-07-22T04:47:55.484908Z",
     "iopub.status.idle": "2022-07-22T04:47:55.501570Z",
     "shell.execute_reply": "2022-07-22T04:47:55.501042Z"
    },
    "papermill": {
     "duration": 1.426117,
     "end_time": "2022-07-22T04:47:55.502900",
     "exception": false,
     "start_time": "2022-07-22T04:47:54.076783",
     "status": "completed"
    },
    "tags": []
   },
   "outputs": [],
   "source": [
    "assert not gene_corrs_df.isna().any().any()"
   ]
  },
  {
   "cell_type": "code",
   "execution_count": 37,
   "id": "00583efc-7068-4270-ad1e-4a418e91db96",
   "metadata": {
    "execution": {
     "iopub.execute_input": "2022-07-22T04:47:58.299086Z",
     "iopub.status.busy": "2022-07-22T04:47:58.298564Z",
     "iopub.status.idle": "2022-07-22T04:47:58.315961Z",
     "shell.execute_reply": "2022-07-22T04:47:58.315389Z"
    },
    "papermill": {
     "duration": 1.454086,
     "end_time": "2022-07-22T04:47:58.317187",
     "exception": false,
     "start_time": "2022-07-22T04:47:56.863101",
     "status": "completed"
    },
    "tags": []
   },
   "outputs": [
    {
     "data": {
      "text/plain": [
       "0.0"
      ]
     },
     "metadata": {},
     "output_type": "display_data"
    }
   ],
   "source": [
    "_min_val = gene_corrs_df.min().min()\n",
    "display(_min_val)\n",
    "assert _min_val >= 0.0"
   ]
  },
  {
   "cell_type": "code",
   "execution_count": 38,
   "id": "d04fb2cf-1050-475b-b855-f5f7cc04092b",
   "metadata": {
    "execution": {
     "iopub.execute_input": "2022-07-22T04:48:01.532606Z",
     "iopub.status.busy": "2022-07-22T04:48:01.532432Z",
     "iopub.status.idle": "2022-07-22T04:48:01.556277Z",
     "shell.execute_reply": "2022-07-22T04:48:01.555675Z"
    },
    "papermill": {
     "duration": 1.828001,
     "end_time": "2022-07-22T04:48:01.557599",
     "exception": false,
     "start_time": "2022-07-22T04:47:59.729598",
     "status": "completed"
    },
    "tags": []
   },
   "outputs": [
    {
     "data": {
      "text/plain": [
       "1.0"
      ]
     },
     "metadata": {},
     "output_type": "display_data"
    }
   ],
   "source": [
    "_max_val = gene_corrs_df.max().max()  # this captures the diagonal\n",
    "display(_max_val)\n",
    "assert _max_val <= 1.0"
   ]
  },
  {
   "cell_type": "code",
   "execution_count": 39,
   "id": "96d02c44-1fba-47be-8a93-8f2608420b9c",
   "metadata": {
    "execution": {
     "iopub.execute_input": "2022-07-22T04:48:04.660236Z",
     "iopub.status.busy": "2022-07-22T04:48:04.659822Z",
     "iopub.status.idle": "2022-07-22T04:48:04.678269Z",
     "shell.execute_reply": "2022-07-22T04:48:04.677767Z"
    },
    "papermill": {
     "duration": 1.569492,
     "end_time": "2022-07-22T04:48:04.679871",
     "exception": false,
     "start_time": "2022-07-22T04:48:03.110379",
     "status": "completed"
    },
    "tags": []
   },
   "outputs": [],
   "source": [
    "# check upper triangular values\n",
    "assert len(gene_corrs) == int(genes_chr.shape[0] * (genes_chr.shape[0] - 1) / 2)"
   ]
  },
  {
   "cell_type": "code",
   "execution_count": 40,
   "id": "fe283586-c348-40e0-8841-f6d97bfb021c",
   "metadata": {
    "execution": {
     "iopub.execute_input": "2022-07-22T04:48:07.576515Z",
     "iopub.status.busy": "2022-07-22T04:48:07.576139Z",
     "iopub.status.idle": "2022-07-22T04:48:07.594264Z",
     "shell.execute_reply": "2022-07-22T04:48:07.593849Z"
    },
    "papermill": {
     "duration": 1.415453,
     "end_time": "2022-07-22T04:48:07.595432",
     "exception": false,
     "start_time": "2022-07-22T04:48:06.179979",
     "status": "completed"
    },
    "tags": []
   },
   "outputs": [
    {
     "data": {
      "text/plain": [
       "count    37401.000000\n",
       "mean         0.006720\n",
       "std          0.046445\n",
       "min          0.000000\n",
       "25%          0.000000\n",
       "50%          0.000000\n",
       "75%          0.000000\n",
       "max          0.983511\n",
       "dtype: float64"
      ]
     },
     "execution_count": 40,
     "metadata": {},
     "output_type": "execute_result"
    }
   ],
   "source": [
    "gene_corrs_flat.describe()"
   ]
  },
  {
   "cell_type": "code",
   "execution_count": 41,
   "id": "b3815678-0f93-4b35-897b-a9d047a2aa78",
   "metadata": {
    "execution": {
     "iopub.execute_input": "2022-07-22T04:48:10.546606Z",
     "iopub.status.busy": "2022-07-22T04:48:10.546064Z",
     "iopub.status.idle": "2022-07-22T04:48:10.567223Z",
     "shell.execute_reply": "2022-07-22T04:48:10.566748Z"
    },
    "papermill": {
     "duration": 1.537514,
     "end_time": "2022-07-22T04:48:10.569100",
     "exception": false,
     "start_time": "2022-07-22T04:48:09.031586",
     "status": "completed"
    },
    "tags": []
   },
   "outputs": [
    {
     "data": {
      "text/plain": [
       "0.00    0.000000\n",
       "0.05    0.000000\n",
       "0.10    0.000000\n",
       "0.15    0.000000\n",
       "0.20    0.000000\n",
       "0.25    0.000000\n",
       "0.30    0.000000\n",
       "0.35    0.000000\n",
       "0.40    0.000000\n",
       "0.45    0.000000\n",
       "0.50    0.000000\n",
       "0.55    0.000000\n",
       "0.60    0.000000\n",
       "0.65    0.000000\n",
       "0.70    0.000000\n",
       "0.75    0.000000\n",
       "0.80    0.000000\n",
       "0.85    0.001502\n",
       "0.90    0.007211\n",
       "0.95    0.013382\n",
       "dtype: float64"
      ]
     },
     "metadata": {},
     "output_type": "display_data"
    }
   ],
   "source": [
    "gene_corrs_quantiles = gene_corrs_flat.quantile(np.arange(0, 1, 0.05))\n",
    "display(gene_corrs_quantiles)"
   ]
  },
  {
   "cell_type": "markdown",
   "id": "87134509-b145-4a10-8bc9-b7e914c2b0fa",
   "metadata": {
    "papermill": {
     "duration": 1.538442,
     "end_time": "2022-07-22T04:48:13.705299",
     "exception": false,
     "start_time": "2022-07-22T04:48:12.166857",
     "status": "completed"
    },
    "tags": []
   },
   "source": [
    "## Positive definiteness"
   ]
  },
  {
   "cell_type": "code",
   "execution_count": 42,
   "id": "07d9a9a1-a4f7-48aa-b916-6d42a8cc6186",
   "metadata": {
    "execution": {
     "iopub.execute_input": "2022-07-22T04:48:16.512804Z",
     "iopub.status.busy": "2022-07-22T04:48:16.512643Z",
     "iopub.status.idle": "2022-07-22T04:48:16.570348Z",
     "shell.execute_reply": "2022-07-22T04:48:16.569972Z"
    },
    "papermill": {
     "duration": 1.470541,
     "end_time": "2022-07-22T04:48:16.571472",
     "exception": false,
     "start_time": "2022-07-22T04:48:15.100931",
     "status": "completed"
    },
    "tags": []
   },
   "outputs": [
    {
     "data": {
      "text/plain": [
       "0"
      ]
     },
     "metadata": {},
     "output_type": "display_data"
    },
    {
     "data": {
      "text/plain": [
       "array([], dtype=float64)"
      ]
     },
     "metadata": {},
     "output_type": "display_data"
    }
   ],
   "source": [
    "# print negative eigenvalues\n",
    "eigs = np.linalg.eigvals(gene_corrs_df.to_numpy())\n",
    "display(len(eigs[eigs < 0]))\n",
    "display(eigs[eigs < 0])"
   ]
  },
  {
   "cell_type": "code",
   "execution_count": 43,
   "id": "6e218436-c3c5-4028-8c94-a4fa6260efce",
   "metadata": {
    "execution": {
     "iopub.execute_input": "2022-07-22T04:48:19.420181Z",
     "iopub.status.busy": "2022-07-22T04:48:19.419941Z",
     "iopub.status.idle": "2022-07-22T04:48:19.461395Z",
     "shell.execute_reply": "2022-07-22T04:48:19.461018Z"
    },
    "papermill": {
     "duration": 1.462171,
     "end_time": "2022-07-22T04:48:19.462503",
     "exception": false,
     "start_time": "2022-07-22T04:48:18.000332",
     "status": "completed"
    },
    "tags": []
   },
   "outputs": [
    {
     "name": "stdout",
     "output_type": "stream",
     "text": [
      "Works!\n"
     ]
    }
   ],
   "source": [
    "try:\n",
    "    chol_mat = np.linalg.cholesky(gene_corrs_df.to_numpy())\n",
    "    cov_inv = np.linalg.inv(chol_mat)\n",
    "    print(\"Works!\")\n",
    "except:\n",
    "    print(\"Cholesky decomposition failed\")"
   ]
  },
  {
   "cell_type": "markdown",
   "id": "8e60a080-edb2-4e9c-b2ef-22961693200c",
   "metadata": {
    "papermill": {
     "duration": 1.473293,
     "end_time": "2022-07-22T04:48:22.433325",
     "exception": false,
     "start_time": "2022-07-22T04:48:20.960032",
     "status": "completed"
    },
    "tags": []
   },
   "source": [
    "## Plot: distribution"
   ]
  },
  {
   "cell_type": "code",
   "execution_count": 44,
   "id": "8301126b-a7d4-4744-9c7d-f0f86eb6f54c",
   "metadata": {
    "execution": {
     "iopub.execute_input": "2022-07-22T04:48:25.354203Z",
     "iopub.status.busy": "2022-07-22T04:48:25.354030Z",
     "iopub.status.idle": "2022-07-22T04:48:25.728105Z",
     "shell.execute_reply": "2022-07-22T04:48:25.727628Z"
    },
    "papermill": {
     "duration": 1.780267,
     "end_time": "2022-07-22T04:48:25.729484",
     "exception": false,
     "start_time": "2022-07-22T04:48:23.949217",
     "status": "completed"
    },
    "tags": []
   },
   "outputs": [
    {
     "data": {
      "image/png": "[encoded data removed]",
      "text/plain": [
       "<Figure size 504x504 with 1 Axes>"
      ]
     },
     "metadata": {
      "needs_background": "light"
     },
     "output_type": "display_data"
    }
   ],
   "source": [
    "with sns.plotting_context(\"paper\", font_scale=1.5):\n",
    "    g = sns.displot(gene_corrs_flat, kde=True, height=7)\n",
    "    g.ax.set_title(\n",
    "        f\"Distribution of gene correlation values in chromosome {CHROMOSOME}\"\n",
    "    )"
   ]
  },
  {
   "cell_type": "markdown",
   "id": "cbd52bca-d878-4a2f-b684-5c83aa3038d4",
   "metadata": {
    "papermill": {
     "duration": 1.441176,
     "end_time": "2022-07-22T04:48:28.562421",
     "exception": false,
     "start_time": "2022-07-22T04:48:27.121245",
     "status": "completed"
    },
    "tags": []
   },
   "source": [
    "## Plot: heatmap"
   ]
  },
  {
   "cell_type": "code",
   "execution_count": 45,
   "id": "d03fe63a-c7b2-4fb9-a53c-db362ce843c9",
   "metadata": {
    "execution": {
     "iopub.execute_input": "2022-07-22T04:48:31.438596Z",
     "iopub.status.busy": "2022-07-22T04:48:31.438355Z",
     "iopub.status.idle": "2022-07-22T04:48:31.454861Z",
     "shell.execute_reply": "2022-07-22T04:48:31.454437Z"
    },
    "papermill": {
     "duration": 1.500369,
     "end_time": "2022-07-22T04:48:31.456062",
     "exception": false,
     "start_time": "2022-07-22T04:48:29.955693",
     "status": "completed"
    },
    "tags": []
   },
   "outputs": [
    {
     "data": {
      "text/plain": [
       "'0.0 / 0.05'"
      ]
     },
     "metadata": {},
     "output_type": "display_data"
    }
   ],
   "source": [
    "vmin_val = min(0.00, gene_corrs_quantiles[0.10])\n",
    "vmax_val = max(0.05, gene_corrs_quantiles[0.90])\n",
    "display(f\"{vmin_val} / {vmax_val}\")"
   ]
  },
  {
   "cell_type": "code",
   "execution_count": 46,
   "id": "dc41b70b-5bcc-4d9e-9f33-a22c4a94dab5",
   "metadata": {
    "execution": {
     "iopub.execute_input": "2022-07-22T04:48:34.259768Z",
     "iopub.status.busy": "2022-07-22T04:48:34.259592Z",
     "iopub.status.idle": "2022-07-22T04:48:34.480081Z",
     "shell.execute_reply": "2022-07-22T04:48:34.479641Z"
    },
    "papermill": {
     "duration": 1.571361,
     "end_time": "2022-07-22T04:48:34.481432",
     "exception": false,
     "start_time": "2022-07-22T04:48:32.910071",
     "status": "completed"
    },
    "tags": []
   },
   "outputs": [
    {
     "data": {
      "text/plain": [
       "Text(0.5, 1.0, 'Gene correlations in chromosome 16')"
      ]
     },
     "execution_count": 46,
     "metadata": {},
     "output_type": "execute_result"
    },
    {
     "data": {
      "image/png": "[encoded data removed]",
      "text/plain": [
       "<Figure size 720x720 with 2 Axes>"
      ]
     },
     "metadata": {
      "needs_background": "light"
     },
     "output_type": "display_data"
    }
   ],
   "source": [
    "f, ax = plt.subplots(figsize=(10, 10))\n",
    "sns.heatmap(\n",
    "    gene_corrs_df,\n",
    "    xticklabels=False,\n",
    "    yticklabels=False,\n",
    "    square=True,\n",
    "    vmin=vmin_val,\n",
    "    vmax=vmax_val,\n",
    "    cmap=\"rocket_r\",\n",
    "    ax=ax,\n",
    ")\n",
    "ax.set_title(f\"Gene correlations in chromosome {CHROMOSOME}\")"
   ]
  },
  {
   "cell_type": "code",
   "execution_count": null,
   "id": "b25e3ead",
   "metadata": {
    "papermill": {
     "duration": 1.412146,
     "end_time": "2022-07-22T04:48:37.371772",
     "exception": false,
     "start_time": "2022-07-22T04:48:35.959626",
     "status": "completed"
    },
    "tags": []
   },
   "outputs": [],
   "source": []
  }
 ],
 "metadata": {
  "jupytext": {
   "cell_metadata_filter": "all,-execution,-papermill,-trusted",
   "formats": "ipynb,py//py:percent"
  },
  "kernelspec": {
   "display_name": "Python 3 (ipykernel)",
   "language": "python",
   "name": "python3"
  },
  "language_info": {
   "codemirror_mode": {
    "name": "ipython",
    "version": 3
   },
   "file_extension": ".py",
   "mimetype": "text/x-python",
   "name": "python",
   "nbconvert_exporter": "python",
   "pygments_lexer": "ipython3",
   "version": "3.8.13"
  },
  "papermill": {
   "default_parameters": {},
   "duration": 624.555844,
   "end_time": "2022-07-22T04:48:41.561133",
   "environment_variables": {},
   "exception": null,
   "input_path": "nbs/15_gsa_gls/10-gene_expr_correlations.ipynb",
   "output_path": "nbs/15_gsa_gls/gene_corrs/cohorts/1000g_eur/1000g/mashr/10-gene_expr_correlations-chr16.run.ipynb",
   "parameters": {
    "CHROMOSOME": 16,
    "COHORT_NAME": "1000G_EUR",
    "EQTL_MODEL": "MASHR",
    "REFERENCE_PANEL": "1000G"
   },
   "start_time": "2022-07-22T04:38:17.005289",
   "version": "2.2.2"
  }
 },
 "nbformat": 4,
 "nbformat_minor": 5
}
