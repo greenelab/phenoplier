{
 "cells": [
  {
   "cell_type": "markdown",
   "id": "7a6632fb",
   "metadata": {
    "papermill": {
     "duration": 0.006644,
     "end_time": "2022-07-22T04:39:05.802739",
     "exception": false,
     "start_time": "2022-07-22T04:39:05.796095",
     "status": "completed"
    },
    "tags": []
   },
   "source": [
    "# Description"
   ]
  },
  {
   "cell_type": "markdown",
   "id": "7097c346",
   "metadata": {
    "papermill": {
     "duration": 0.006028,
     "end_time": "2022-07-22T04:39:05.814858",
     "exception": false,
     "start_time": "2022-07-22T04:39:05.808830",
     "status": "completed"
    },
    "tags": []
   },
   "source": [
    "(Please, take a look at the README.md file in this directory for instructions on how to run this notebook)\n",
    "\n",
    "This notebook computes predicted expression correlations between all genes in the MultiPLIER models.\n",
    "\n",
    "It also has a parameter set for papermill to run on a single chromosome to run in parallel (see under `Settings` below).\n",
    "\n",
    "This notebook is not directly run. See README.md."
   ]
  },
  {
   "cell_type": "markdown",
   "id": "c61d8427",
   "metadata": {
    "papermill": {
     "duration": 0.005803,
     "end_time": "2022-07-22T04:39:05.826555",
     "exception": false,
     "start_time": "2022-07-22T04:39:05.820752",
     "status": "completed"
    },
    "tags": []
   },
   "source": [
    "# Modules"
   ]
  },
  {
   "cell_type": "code",
   "execution_count": 1,
   "id": "bbc0234f",
   "metadata": {
    "execution": {
     "iopub.execute_input": "2022-07-22T04:39:05.840007Z",
     "iopub.status.busy": "2022-07-22T04:39:05.839726Z",
     "iopub.status.idle": "2022-07-22T04:39:05.854292Z",
     "shell.execute_reply": "2022-07-22T04:39:05.853891Z"
    },
    "papermill": {
     "duration": 0.023142,
     "end_time": "2022-07-22T04:39:05.855703",
     "exception": false,
     "start_time": "2022-07-22T04:39:05.832561",
     "status": "completed"
    },
    "tags": []
   },
   "outputs": [],
   "source": [
    "%load_ext autoreload\n",
    "%autoreload 2"
   ]
  },
  {
   "cell_type": "code",
   "execution_count": 2,
   "id": "1d5f5a59",
   "metadata": {
    "execution": {
     "iopub.execute_input": "2022-07-22T04:39:05.897618Z",
     "iopub.status.busy": "2022-07-22T04:39:05.896982Z",
     "iopub.status.idle": "2022-07-22T04:39:06.803734Z",
     "shell.execute_reply": "2022-07-22T04:39:06.803270Z"
    },
    "papermill": {
     "duration": 0.915801,
     "end_time": "2022-07-22T04:39:06.805153",
     "exception": false,
     "start_time": "2022-07-22T04:39:05.889352",
     "status": "completed"
    },
    "tags": []
   },
   "outputs": [],
   "source": [
    "from random import sample, seed\n",
    "import warnings\n",
    "from pathlib import Path\n",
    "import pickle\n",
    "import traceback\n",
    "\n",
    "import numpy as np\n",
    "from scipy.spatial.distance import squareform\n",
    "import pandas as pd\n",
    "from tqdm import tqdm\n",
    "import matplotlib.pyplot as plt\n",
    "import seaborn as sns\n",
    "\n",
    "import conf\n",
    "from entity import Gene"
   ]
  },
  {
   "cell_type": "markdown",
   "id": "1eac24b5",
   "metadata": {
    "papermill": {
     "duration": 0.005907,
     "end_time": "2022-07-22T04:39:06.818078",
     "exception": false,
     "start_time": "2022-07-22T04:39:06.812171",
     "status": "completed"
    },
    "tags": []
   },
   "source": [
    "# Settings"
   ]
  },
  {
   "cell_type": "code",
   "execution_count": 3,
   "id": "ca4560ba",
   "metadata": {
    "execution": {
     "iopub.execute_input": "2022-07-22T04:39:06.830679Z",
     "iopub.status.busy": "2022-07-22T04:39:06.830374Z",
     "iopub.status.idle": "2022-07-22T04:39:06.845142Z",
     "shell.execute_reply": "2022-07-22T04:39:06.844724Z"
    },
    "papermill": {
     "duration": 0.022499,
     "end_time": "2022-07-22T04:39:06.846475",
     "exception": false,
     "start_time": "2022-07-22T04:39:06.823976",
     "status": "completed"
    },
    "tags": [
     "parameters"
    ]
   },
   "outputs": [],
   "source": [
    "# a cohort name (it could be something like UK_BIOBANK, etc)\n",
    "COHORT_NAME = None\n",
    "\n",
    "# reference panel such as 1000G or GTEX_V8\n",
    "REFERENCE_PANEL = None\n",
    "\n",
    "# predictions models such as MASHR or ELASTIC_NET\n",
    "EQTL_MODEL = None\n",
    "\n",
    "# this is the default value used in S-MultiXcan to select the\n",
    "# top principal components of the expression correlation matrix\n",
    "SMULTIXCAN_CONDITION_NUMBER = 30\n",
    "\n",
    "# specifies a single chromosome value\n",
    "CHROMOSOME = None\n",
    "\n",
    "# if True, then it will continue if a gene pair correlation fails,\n",
    "# printing the warning/error for debugging. If False, any warning/error\n",
    "# will be thrown\n",
    "# FIXME: make it False when all is working\n",
    "DEBUG_MODE = True"
   ]
  },
  {
   "cell_type": "code",
   "execution_count": 4,
   "id": "8923accc",
   "metadata": {
    "execution": {
     "iopub.execute_input": "2022-07-22T04:39:06.859105Z",
     "iopub.status.busy": "2022-07-22T04:39:06.858863Z",
     "iopub.status.idle": "2022-07-22T04:39:06.873045Z",
     "shell.execute_reply": "2022-07-22T04:39:06.872500Z"
    },
    "papermill": {
     "duration": 0.022058,
     "end_time": "2022-07-22T04:39:06.874555",
     "exception": false,
     "start_time": "2022-07-22T04:39:06.852497",
     "status": "completed"
    },
    "tags": [
     "injected-parameters"
    ]
   },
   "outputs": [],
   "source": [
    "# Parameters\n",
    "COHORT_NAME = \"1000G_EUR\"\n",
    "REFERENCE_PANEL = \"1000G\"\n",
    "EQTL_MODEL = \"MASHR\"\n",
    "CHROMOSOME = 17\n"
   ]
  },
  {
   "cell_type": "code",
   "execution_count": 5,
   "id": "3190631f-27fc-480f-b18e-571d580425a5",
   "metadata": {
    "execution": {
     "iopub.execute_input": "2022-07-22T04:39:06.886993Z",
     "iopub.status.busy": "2022-07-22T04:39:06.886825Z",
     "iopub.status.idle": "2022-07-22T04:39:06.903543Z",
     "shell.execute_reply": "2022-07-22T04:39:06.903086Z"
    },
    "papermill": {
     "duration": 0.024697,
     "end_time": "2022-07-22T04:39:06.905111",
     "exception": false,
     "start_time": "2022-07-22T04:39:06.880414",
     "status": "completed"
    },
    "tags": []
   },
   "outputs": [
    {
     "data": {
      "text/plain": [
       "'Cohort name: 1000g_eur'"
      ]
     },
     "metadata": {},
     "output_type": "display_data"
    }
   ],
   "source": [
    "assert COHORT_NAME is not None or len(COHORT_NAME) == 0, \"A cohort name must be given\"\n",
    "\n",
    "COHORT_NAME = COHORT_NAME.lower()\n",
    "display(f\"Cohort name: {COHORT_NAME}\")"
   ]
  },
  {
   "cell_type": "code",
   "execution_count": 6,
   "id": "f53ba19b-0f93-4fa2-a047-63b375939d1a",
   "metadata": {
    "execution": {
     "iopub.execute_input": "2022-07-22T04:39:06.918080Z",
     "iopub.status.busy": "2022-07-22T04:39:06.917873Z",
     "iopub.status.idle": "2022-07-22T04:39:06.932774Z",
     "shell.execute_reply": "2022-07-22T04:39:06.932340Z"
    },
    "papermill": {
     "duration": 0.02278,
     "end_time": "2022-07-22T04:39:06.934034",
     "exception": false,
     "start_time": "2022-07-22T04:39:06.911254",
     "status": "completed"
    },
    "tags": []
   },
   "outputs": [
    {
     "data": {
      "text/plain": [
       "'Reference panel: 1000G'"
      ]
     },
     "metadata": {},
     "output_type": "display_data"
    }
   ],
   "source": [
    "assert (\n",
    "    REFERENCE_PANEL is not None or len(REFERENCE_PANEL) == 0\n",
    "), \"A reference panel must be given\"\n",
    "\n",
    "display(f\"Reference panel: {REFERENCE_PANEL}\")"
   ]
  },
  {
   "cell_type": "code",
   "execution_count": 7,
   "id": "e024d130-c139-429a-9c6e-ccf149e297b0",
   "metadata": {
    "execution": {
     "iopub.execute_input": "2022-07-22T04:39:06.947063Z",
     "iopub.status.busy": "2022-07-22T04:39:06.946850Z",
     "iopub.status.idle": "2022-07-22T04:39:06.962196Z",
     "shell.execute_reply": "2022-07-22T04:39:06.961772Z"
    },
    "papermill": {
     "duration": 0.023368,
     "end_time": "2022-07-22T04:39:06.963510",
     "exception": false,
     "start_time": "2022-07-22T04:39:06.940142",
     "status": "completed"
    },
    "tags": []
   },
   "outputs": [
    {
     "data": {
      "text/plain": [
       "'eQTL model: MASHR) / mashr_'"
      ]
     },
     "metadata": {},
     "output_type": "display_data"
    }
   ],
   "source": [
    "assert (\n",
    "    EQTL_MODEL is not None or len(EQTL_MODEL) == 0\n",
    "), \"A prediction/eQTL model must be given\"\n",
    "\n",
    "EQTL_MODEL_FILES_PREFIX = conf.PHENOMEXCAN[\"PREDICTION_MODELS\"][f\"{EQTL_MODEL}_PREFIX\"]\n",
    "display(f\"eQTL model: {EQTL_MODEL}) / {EQTL_MODEL_FILES_PREFIX}\")"
   ]
  },
  {
   "cell_type": "code",
   "execution_count": 8,
   "id": "552a7f63-a18c-4d3e-bb6a-94f99b431291",
   "metadata": {
    "execution": {
     "iopub.execute_input": "2022-07-22T04:39:06.976943Z",
     "iopub.status.busy": "2022-07-22T04:39:06.976739Z",
     "iopub.status.idle": "2022-07-22T04:39:06.991938Z",
     "shell.execute_reply": "2022-07-22T04:39:06.991487Z"
    },
    "papermill": {
     "duration": 0.023236,
     "end_time": "2022-07-22T04:39:06.993240",
     "exception": false,
     "start_time": "2022-07-22T04:39:06.970004",
     "status": "completed"
    },
    "tags": []
   },
   "outputs": [
    {
     "data": {
      "text/plain": [
       "'S-MultiXcan condition number: 30'"
      ]
     },
     "metadata": {},
     "output_type": "display_data"
    }
   ],
   "source": [
    "assert (\n",
    "    SMULTIXCAN_CONDITION_NUMBER is not None or SMULTIXCAN_CONDITION_NUMBER > 0\n",
    "), \"The S-MultiXcan condition number (positive integer) must be given\"\n",
    "\n",
    "display(f\"S-MultiXcan condition number: {SMULTIXCAN_CONDITION_NUMBER}\")"
   ]
  },
  {
   "cell_type": "code",
   "execution_count": 9,
   "id": "f34a336f-548e-4afe-8955-90eaea4f42c6",
   "metadata": {
    "execution": {
     "iopub.execute_input": "2022-07-22T04:39:07.006793Z",
     "iopub.status.busy": "2022-07-22T04:39:07.006591Z",
     "iopub.status.idle": "2022-07-22T04:39:07.022058Z",
     "shell.execute_reply": "2022-07-22T04:39:07.021622Z"
    },
    "papermill": {
     "duration": 0.023544,
     "end_time": "2022-07-22T04:39:07.023311",
     "exception": false,
     "start_time": "2022-07-22T04:39:06.999767",
     "status": "completed"
    },
    "tags": []
   },
   "outputs": [
    {
     "data": {
      "text/plain": [
       "'Working on chromosome 17'"
      ]
     },
     "metadata": {},
     "output_type": "display_data"
    }
   ],
   "source": [
    "assert CHROMOSOME is not None and (\n",
    "    1 <= CHROMOSOME <= 22\n",
    "), \"You have to select one chromosome (format: number between 1 and 22)\"\n",
    "\n",
    "CHROMOSOME = str(CHROMOSOME)\n",
    "display(f\"Working on chromosome {CHROMOSOME}\")"
   ]
  },
  {
   "cell_type": "code",
   "execution_count": 10,
   "id": "ab8e96e8-06b5-4363-9dcd-dc4d78cc27f7",
   "metadata": {
    "execution": {
     "iopub.execute_input": "2022-07-22T04:39:07.036883Z",
     "iopub.status.busy": "2022-07-22T04:39:07.036683Z",
     "iopub.status.idle": "2022-07-22T04:39:07.051456Z",
     "shell.execute_reply": "2022-07-22T04:39:07.051029Z"
    },
    "papermill": {
     "duration": 0.02289,
     "end_time": "2022-07-22T04:39:07.052701",
     "exception": false,
     "start_time": "2022-07-22T04:39:07.029811",
     "status": "completed"
    },
    "tags": []
   },
   "outputs": [
    {
     "data": {
      "text/plain": [
       "'Compute correlation within distance True'"
      ]
     },
     "metadata": {},
     "output_type": "display_data"
    }
   ],
   "source": [
    "# TODO: see if this is necessary; if so, make it a parameter with default value True\n",
    "# This parameter, if True, computes the correlation between closeby genes only\n",
    "\n",
    "COMPUTE_CORRELATIONS_WITHIN_DISTANCE = True\n",
    "display(f\"Compute correlation within distance {COMPUTE_CORRELATIONS_WITHIN_DISTANCE}\")"
   ]
  },
  {
   "cell_type": "code",
   "execution_count": 11,
   "id": "396392dc-0340-4540-9b02-e182b833f909",
   "metadata": {
    "execution": {
     "iopub.execute_input": "2022-07-22T04:39:07.067721Z",
     "iopub.status.busy": "2022-07-22T04:39:07.066910Z",
     "iopub.status.idle": "2022-07-22T04:39:07.091401Z",
     "shell.execute_reply": "2022-07-22T04:39:07.090876Z"
    },
    "papermill": {
     "duration": 0.033522,
     "end_time": "2022-07-22T04:39:07.092810",
     "exception": false,
     "start_time": "2022-07-22T04:39:07.059288",
     "status": "completed"
    },
    "tags": []
   },
   "outputs": [
    {
     "data": {
      "text/plain": [
       "'Using output dir base: /opt/data/results/gls/gene_corrs/cohorts/1000g_eur/1000g/mashr'"
      ]
     },
     "metadata": {},
     "output_type": "display_data"
    }
   ],
   "source": [
    "OUTPUT_DIR_BASE = (\n",
    "    conf.RESULTS[\"GLS\"]\n",
    "    / \"gene_corrs\"\n",
    "    / \"cohorts\"\n",
    "    / COHORT_NAME\n",
    "    / REFERENCE_PANEL.lower()\n",
    "    / EQTL_MODEL.lower()\n",
    ")\n",
    "OUTPUT_DIR_BASE.mkdir(parents=True, exist_ok=True)\n",
    "\n",
    "display(f\"Using output dir base: {OUTPUT_DIR_BASE}\")"
   ]
  },
  {
   "cell_type": "code",
   "execution_count": 12,
   "id": "974b4bb1-aa98-4e30-b221-7cd034ad3833",
   "metadata": {
    "execution": {
     "iopub.execute_input": "2022-07-22T04:39:07.108168Z",
     "iopub.status.busy": "2022-07-22T04:39:07.107838Z",
     "iopub.status.idle": "2022-07-22T04:39:07.123701Z",
     "shell.execute_reply": "2022-07-22T04:39:07.123194Z"
    },
    "papermill": {
     "duration": 0.024913,
     "end_time": "2022-07-22T04:39:07.125041",
     "exception": false,
     "start_time": "2022-07-22T04:39:07.100128",
     "status": "completed"
    },
    "tags": []
   },
   "outputs": [
    {
     "data": {
      "text/plain": [
       "PosixPath('/opt/data/results/gls/gene_corrs/cohorts/1000g_eur')"
      ]
     },
     "metadata": {},
     "output_type": "display_data"
    }
   ],
   "source": [
    "INPUT_DIR = conf.RESULTS[\"GLS\"] / \"gene_corrs\" / \"cohorts\" / COHORT_NAME\n",
    "assert INPUT_DIR.exists()\n",
    "\n",
    "display(INPUT_DIR)"
   ]
  },
  {
   "cell_type": "markdown",
   "id": "d2ba085e",
   "metadata": {
    "papermill": {
     "duration": 0.006593,
     "end_time": "2022-07-22T04:39:07.138915",
     "exception": false,
     "start_time": "2022-07-22T04:39:07.132322",
     "status": "completed"
    },
    "tags": []
   },
   "source": [
    "# Load data"
   ]
  },
  {
   "cell_type": "markdown",
   "id": "7dcb8db7",
   "metadata": {
    "papermill": {
     "duration": 0.006397,
     "end_time": "2022-07-22T04:39:07.151943",
     "exception": false,
     "start_time": "2022-07-22T04:39:07.145546",
     "status": "completed"
    },
    "tags": []
   },
   "source": [
    "## GWAS variants"
   ]
  },
  {
   "cell_type": "code",
   "execution_count": 13,
   "id": "29434c4e-8cd3-4b9b-82e4-b5a251d9dd19",
   "metadata": {
    "execution": {
     "iopub.execute_input": "2022-07-22T04:39:07.165927Z",
     "iopub.status.busy": "2022-07-22T04:39:07.165587Z",
     "iopub.status.idle": "2022-07-22T04:39:09.750562Z",
     "shell.execute_reply": "2022-07-22T04:39:09.750095Z"
    },
    "papermill": {
     "duration": 2.593576,
     "end_time": "2022-07-22T04:39:09.752102",
     "exception": false,
     "start_time": "2022-07-22T04:39:07.158526",
     "status": "completed"
    },
    "tags": []
   },
   "outputs": [],
   "source": [
    "with open(INPUT_DIR / \"gwas_variant_ids.pkl\", \"rb\") as handle:\n",
    "    gwas_variants_ids_set = pickle.load(handle)"
   ]
  },
  {
   "cell_type": "code",
   "execution_count": 14,
   "id": "b9d9dec2-4a76-4bf9-bde2-e24c95acb8a0",
   "metadata": {
    "execution": {
     "iopub.execute_input": "2022-07-22T04:39:09.768617Z",
     "iopub.status.busy": "2022-07-22T04:39:09.768385Z",
     "iopub.status.idle": "2022-07-22T04:39:09.787530Z",
     "shell.execute_reply": "2022-07-22T04:39:09.786698Z"
    },
    "papermill": {
     "duration": 0.029176,
     "end_time": "2022-07-22T04:39:09.789217",
     "exception": false,
     "start_time": "2022-07-22T04:39:09.760041",
     "status": "completed"
    },
    "tags": []
   },
   "outputs": [
    {
     "data": {
      "text/plain": [
       "8339505"
      ]
     },
     "execution_count": 14,
     "metadata": {},
     "output_type": "execute_result"
    }
   ],
   "source": [
    "len(gwas_variants_ids_set)"
   ]
  },
  {
   "cell_type": "code",
   "execution_count": 15,
   "id": "4235b06a-6034-4ee4-a0a3-2ae35d122418",
   "metadata": {
    "execution": {
     "iopub.execute_input": "2022-07-22T04:39:09.805773Z",
     "iopub.status.busy": "2022-07-22T04:39:09.805586Z",
     "iopub.status.idle": "2022-07-22T04:39:10.320618Z",
     "shell.execute_reply": "2022-07-22T04:39:10.320105Z"
    },
    "papermill": {
     "duration": 0.524932,
     "end_time": "2022-07-22T04:39:10.322138",
     "exception": false,
     "start_time": "2022-07-22T04:39:09.797206",
     "status": "completed"
    },
    "tags": []
   },
   "outputs": [
    {
     "data": {
      "text/plain": [
       "['chr22_33806783_A_G_b38',\n",
       " 'chr4_103918701_C_T_b38',\n",
       " 'chr7_53927733_A_G_b38',\n",
       " 'chr9_137433211_C_T_b38',\n",
       " 'chr14_86211604_T_TAATA_b38']"
      ]
     },
     "execution_count": 15,
     "metadata": {},
     "output_type": "execute_result"
    }
   ],
   "source": [
    "list(gwas_variants_ids_set)[:5]"
   ]
  },
  {
   "cell_type": "markdown",
   "id": "07866999-2305-41f9-a144-e69c9122c212",
   "metadata": {
    "papermill": {
     "duration": 0.007792,
     "end_time": "2022-07-22T04:39:10.338011",
     "exception": false,
     "start_time": "2022-07-22T04:39:10.330219",
     "status": "completed"
    },
    "tags": []
   },
   "source": [
    "## S-PrediXcan tissue models"
   ]
  },
  {
   "cell_type": "code",
   "execution_count": 16,
   "id": "780611d9-77c8-405f-90a4-f271f7b09397",
   "metadata": {
    "execution": {
     "iopub.execute_input": "2022-07-22T04:39:10.355276Z",
     "iopub.status.busy": "2022-07-22T04:39:10.354822Z",
     "iopub.status.idle": "2022-07-22T04:39:11.129485Z",
     "shell.execute_reply": "2022-07-22T04:39:11.128875Z"
    },
    "papermill": {
     "duration": 0.784847,
     "end_time": "2022-07-22T04:39:11.131022",
     "exception": false,
     "start_time": "2022-07-22T04:39:10.346175",
     "status": "completed"
    },
    "tags": []
   },
   "outputs": [],
   "source": [
    "spredixcan_genes_models = pd.read_pickle(INPUT_DIR / \"gene_tissues.pkl\").set_index(\n",
    "    \"gene_id\"\n",
    ")"
   ]
  },
  {
   "cell_type": "code",
   "execution_count": 17,
   "id": "726dd1f6-9557-4225-91fa-b3b879ea96e1",
   "metadata": {
    "execution": {
     "iopub.execute_input": "2022-07-22T04:39:11.148216Z",
     "iopub.status.busy": "2022-07-22T04:39:11.147677Z",
     "iopub.status.idle": "2022-07-22T04:39:11.164456Z",
     "shell.execute_reply": "2022-07-22T04:39:11.163894Z"
    },
    "papermill": {
     "duration": 0.026409,
     "end_time": "2022-07-22T04:39:11.165864",
     "exception": false,
     "start_time": "2022-07-22T04:39:11.139455",
     "status": "completed"
    },
    "tags": []
   },
   "outputs": [
    {
     "data": {
      "text/plain": [
       "(22314, 2)"
      ]
     },
     "execution_count": 17,
     "metadata": {},
     "output_type": "execute_result"
    }
   ],
   "source": [
    "spredixcan_genes_models.shape"
   ]
  },
  {
   "cell_type": "code",
   "execution_count": 18,
   "id": "944a1b48-222c-4eb0-b252-b9de2cbca215",
   "metadata": {
    "execution": {
     "iopub.execute_input": "2022-07-22T04:39:11.181096Z",
     "iopub.status.busy": "2022-07-22T04:39:11.180922Z",
     "iopub.status.idle": "2022-07-22T04:39:11.202475Z",
     "shell.execute_reply": "2022-07-22T04:39:11.202025Z"
    },
    "papermill": {
     "duration": 0.030751,
     "end_time": "2022-07-22T04:39:11.203949",
     "exception": false,
     "start_time": "2022-07-22T04:39:11.173198",
     "status": "completed"
    },
    "tags": []
   },
   "outputs": [
    {
     "data": {
      "text/html": [
       "<div>\n",
       "<style scoped>\n",
       "    .dataframe tbody tr th:only-of-type {\n",
       "        vertical-align: middle;\n",
       "    }\n",
       "\n",
       "    .dataframe tbody tr th {\n",
       "        vertical-align: top;\n",
       "    }\n",
       "\n",
       "    .dataframe thead th {\n",
       "        text-align: right;\n",
       "    }\n",
       "</style>\n",
       "<table border=\"1\" class=\"dataframe\">\n",
       "  <thead>\n",
       "    <tr style=\"text-align: right;\">\n",
       "      <th></th>\n",
       "      <th>gene_name</th>\n",
       "      <th>tissue</th>\n",
       "    </tr>\n",
       "    <tr>\n",
       "      <th>gene_id</th>\n",
       "      <th></th>\n",
       "      <th></th>\n",
       "    </tr>\n",
       "  </thead>\n",
       "  <tbody>\n",
       "    <tr>\n",
       "      <th>ENSG00000000419</th>\n",
       "      <td>DPM1</td>\n",
       "      <td>(Brain_Hypothalamus, Brain_Substantia_nigra)</td>\n",
       "    </tr>\n",
       "    <tr>\n",
       "      <th>ENSG00000000457</th>\n",
       "      <td>SCYL3</td>\n",
       "      <td>(Artery_Coronary, Testis, Brain_Nucleus_accumb...</td>\n",
       "    </tr>\n",
       "    <tr>\n",
       "      <th>ENSG00000000460</th>\n",
       "      <td>C1orf112</td>\n",
       "      <td>(Testis, Brain_Nucleus_accumbens_basal_ganglia...</td>\n",
       "    </tr>\n",
       "    <tr>\n",
       "      <th>ENSG00000000938</th>\n",
       "      <td>FGR</td>\n",
       "      <td>(Testis, Brain_Nucleus_accumbens_basal_ganglia...</td>\n",
       "    </tr>\n",
       "    <tr>\n",
       "      <th>ENSG00000000971</th>\n",
       "      <td>CFH</td>\n",
       "      <td>(Artery_Coronary, Testis, Brain_Hippocampus, H...</td>\n",
       "    </tr>\n",
       "  </tbody>\n",
       "</table>\n",
       "</div>"
      ],
      "text/plain": [
       "                gene_name                                             tissue\n",
       "gene_id                                                                     \n",
       "ENSG00000000419      DPM1       (Brain_Hypothalamus, Brain_Substantia_nigra)\n",
       "ENSG00000000457     SCYL3  (Artery_Coronary, Testis, Brain_Nucleus_accumb...\n",
       "ENSG00000000460  C1orf112  (Testis, Brain_Nucleus_accumbens_basal_ganglia...\n",
       "ENSG00000000938       FGR  (Testis, Brain_Nucleus_accumbens_basal_ganglia...\n",
       "ENSG00000000971       CFH  (Artery_Coronary, Testis, Brain_Hippocampus, H..."
      ]
     },
     "execution_count": 18,
     "metadata": {},
     "output_type": "execute_result"
    }
   ],
   "source": [
    "spredixcan_genes_models.head()"
   ]
  },
  {
   "cell_type": "code",
   "execution_count": 19,
   "id": "d1c11bb1-be0b-4f40-b360-633d6827109f",
   "metadata": {
    "execution": {
     "iopub.execute_input": "2022-07-22T04:39:11.219191Z",
     "iopub.status.busy": "2022-07-22T04:39:11.218982Z",
     "iopub.status.idle": "2022-07-22T04:39:11.235048Z",
     "shell.execute_reply": "2022-07-22T04:39:11.234651Z"
    },
    "papermill": {
     "duration": 0.025132,
     "end_time": "2022-07-22T04:39:11.236413",
     "exception": false,
     "start_time": "2022-07-22T04:39:11.211281",
     "status": "completed"
    },
    "tags": []
   },
   "outputs": [],
   "source": [
    "assert spredixcan_genes_models.index.is_unique"
   ]
  },
  {
   "cell_type": "markdown",
   "id": "6caf9d10-eda8-4ad2-8811-a983aa77a25a",
   "metadata": {
    "papermill": {
     "duration": 0.006863,
     "end_time": "2022-07-22T04:39:11.250534",
     "exception": false,
     "start_time": "2022-07-22T04:39:11.243671",
     "status": "completed"
    },
    "tags": []
   },
   "source": [
    "## Get common genes"
   ]
  },
  {
   "cell_type": "code",
   "execution_count": 20,
   "id": "f8d1e317-1cc8-4bdf-bbe9-c3b0a5478359",
   "metadata": {
    "execution": {
     "iopub.execute_input": "2022-07-22T04:39:11.265894Z",
     "iopub.status.busy": "2022-07-22T04:39:11.265544Z",
     "iopub.status.idle": "2022-07-22T04:39:11.280958Z",
     "shell.execute_reply": "2022-07-22T04:39:11.280563Z"
    },
    "papermill": {
     "duration": 0.024623,
     "end_time": "2022-07-22T04:39:11.282324",
     "exception": false,
     "start_time": "2022-07-22T04:39:11.257701",
     "status": "completed"
    },
    "tags": []
   },
   "outputs": [],
   "source": [
    "with open(INPUT_DIR / \"common_genes.pkl\", \"rb\") as handle:\n",
    "    common_genes = pickle.load(handle)"
   ]
  },
  {
   "cell_type": "code",
   "execution_count": 21,
   "id": "ce9506aa-2f38-4e46-b9c2-84d750fac0da",
   "metadata": {
    "execution": {
     "iopub.execute_input": "2022-07-22T04:39:11.298934Z",
     "iopub.status.busy": "2022-07-22T04:39:11.298623Z",
     "iopub.status.idle": "2022-07-22T04:39:11.313664Z",
     "shell.execute_reply": "2022-07-22T04:39:11.313239Z"
    },
    "papermill": {
     "duration": 0.024171,
     "end_time": "2022-07-22T04:39:11.314929",
     "exception": false,
     "start_time": "2022-07-22T04:39:11.290758",
     "status": "completed"
    },
    "tags": []
   },
   "outputs": [
    {
     "data": {
      "text/plain": [
       "6444"
      ]
     },
     "execution_count": 21,
     "metadata": {},
     "output_type": "execute_result"
    }
   ],
   "source": [
    "len(common_genes)"
   ]
  },
  {
   "cell_type": "code",
   "execution_count": 22,
   "id": "f525a698-506a-48e0-9aee-1aca62def5dd",
   "metadata": {
    "execution": {
     "iopub.execute_input": "2022-07-22T04:39:11.330316Z",
     "iopub.status.busy": "2022-07-22T04:39:11.330112Z",
     "iopub.status.idle": "2022-07-22T04:39:11.346705Z",
     "shell.execute_reply": "2022-07-22T04:39:11.346258Z"
    },
    "papermill": {
     "duration": 0.025626,
     "end_time": "2022-07-22T04:39:11.347980",
     "exception": false,
     "start_time": "2022-07-22T04:39:11.322354",
     "status": "completed"
    },
    "tags": []
   },
   "outputs": [
    {
     "data": {
      "text/plain": [
       "['A2M', 'AAAS', 'AANAT', 'AARS', 'AARS2']"
      ]
     },
     "execution_count": 22,
     "metadata": {},
     "output_type": "execute_result"
    }
   ],
   "source": [
    "sorted(list(common_genes))[:5]"
   ]
  },
  {
   "cell_type": "markdown",
   "id": "a5b5092c-a13e-47c4-a92a-480fcc08f3ae",
   "metadata": {
    "papermill": {
     "duration": 0.006972,
     "end_time": "2022-07-22T04:39:11.362348",
     "exception": false,
     "start_time": "2022-07-22T04:39:11.355376",
     "status": "completed"
    },
    "tags": []
   },
   "source": [
    "## Gene info"
   ]
  },
  {
   "cell_type": "code",
   "execution_count": 23,
   "id": "7d6bb224-88e9-4358-ac10-43a41d92cdad",
   "metadata": {
    "execution": {
     "iopub.execute_input": "2022-07-22T04:39:11.377810Z",
     "iopub.status.busy": "2022-07-22T04:39:11.377582Z",
     "iopub.status.idle": "2022-07-22T04:39:11.395959Z",
     "shell.execute_reply": "2022-07-22T04:39:11.395533Z"
    },
    "papermill": {
     "duration": 0.028028,
     "end_time": "2022-07-22T04:39:11.397564",
     "exception": false,
     "start_time": "2022-07-22T04:39:11.369536",
     "status": "completed"
    },
    "tags": []
   },
   "outputs": [],
   "source": [
    "genes_info = pd.read_pickle(INPUT_DIR / \"genes_info.pkl\")"
   ]
  },
  {
   "cell_type": "code",
   "execution_count": 24,
   "id": "9e32abfa-546d-483e-8c18-d526e9e05903",
   "metadata": {
    "execution": {
     "iopub.execute_input": "2022-07-22T04:39:11.413203Z",
     "iopub.status.busy": "2022-07-22T04:39:11.413002Z",
     "iopub.status.idle": "2022-07-22T04:39:11.427801Z",
     "shell.execute_reply": "2022-07-22T04:39:11.427310Z"
    },
    "papermill": {
     "duration": 0.023927,
     "end_time": "2022-07-22T04:39:11.429028",
     "exception": false,
     "start_time": "2022-07-22T04:39:11.405101",
     "status": "completed"
    },
    "tags": []
   },
   "outputs": [
    {
     "data": {
      "text/plain": [
       "(6444, 7)"
      ]
     },
     "execution_count": 24,
     "metadata": {},
     "output_type": "execute_result"
    }
   ],
   "source": [
    "genes_info.shape"
   ]
  },
  {
   "cell_type": "code",
   "execution_count": 25,
   "id": "d16c3e92-85ec-468a-9a56-e25a9774a1cb",
   "metadata": {
    "execution": {
     "iopub.execute_input": "2022-07-22T04:39:11.444547Z",
     "iopub.status.busy": "2022-07-22T04:39:11.444340Z",
     "iopub.status.idle": "2022-07-22T04:39:11.464417Z",
     "shell.execute_reply": "2022-07-22T04:39:11.463975Z"
    },
    "papermill": {
     "duration": 0.029254,
     "end_time": "2022-07-22T04:39:11.465684",
     "exception": false,
     "start_time": "2022-07-22T04:39:11.436430",
     "status": "completed"
    },
    "tags": []
   },
   "outputs": [
    {
     "data": {
      "text/html": [
       "<div>\n",
       "<style scoped>\n",
       "    .dataframe tbody tr th:only-of-type {\n",
       "        vertical-align: middle;\n",
       "    }\n",
       "\n",
       "    .dataframe tbody tr th {\n",
       "        vertical-align: top;\n",
       "    }\n",
       "\n",
       "    .dataframe thead th {\n",
       "        text-align: right;\n",
       "    }\n",
       "</style>\n",
       "<table border=\"1\" class=\"dataframe\">\n",
       "  <thead>\n",
       "    <tr style=\"text-align: right;\">\n",
       "      <th></th>\n",
       "      <th>name</th>\n",
       "      <th>id</th>\n",
       "      <th>chr</th>\n",
       "      <th>band</th>\n",
       "      <th>start_position</th>\n",
       "      <th>end_position</th>\n",
       "      <th>gene_length</th>\n",
       "    </tr>\n",
       "  </thead>\n",
       "  <tbody>\n",
       "    <tr>\n",
       "      <th>0</th>\n",
       "      <td>MFN2</td>\n",
       "      <td>ENSG00000116688</td>\n",
       "      <td>1</td>\n",
       "      <td>1p36.22</td>\n",
       "      <td>11980181.0</td>\n",
       "      <td>12013514.0</td>\n",
       "      <td>33333.0</td>\n",
       "    </tr>\n",
       "    <tr>\n",
       "      <th>1</th>\n",
       "      <td>PPA2</td>\n",
       "      <td>ENSG00000138777</td>\n",
       "      <td>4</td>\n",
       "      <td>4q24</td>\n",
       "      <td>105369077.0</td>\n",
       "      <td>105474067.0</td>\n",
       "      <td>104990.0</td>\n",
       "    </tr>\n",
       "    <tr>\n",
       "      <th>2</th>\n",
       "      <td>ADRA2A</td>\n",
       "      <td>ENSG00000150594</td>\n",
       "      <td>10</td>\n",
       "      <td>10q25.2</td>\n",
       "      <td>111077163.0</td>\n",
       "      <td>111080907.0</td>\n",
       "      <td>3744.0</td>\n",
       "    </tr>\n",
       "    <tr>\n",
       "      <th>3</th>\n",
       "      <td>RYR2</td>\n",
       "      <td>ENSG00000198626</td>\n",
       "      <td>1</td>\n",
       "      <td>1q43</td>\n",
       "      <td>237042184.0</td>\n",
       "      <td>237833988.0</td>\n",
       "      <td>791804.0</td>\n",
       "    </tr>\n",
       "    <tr>\n",
       "      <th>4</th>\n",
       "      <td>VAV2</td>\n",
       "      <td>ENSG00000160293</td>\n",
       "      <td>9</td>\n",
       "      <td>9q34.2</td>\n",
       "      <td>133761894.0</td>\n",
       "      <td>133992604.0</td>\n",
       "      <td>230710.0</td>\n",
       "    </tr>\n",
       "  </tbody>\n",
       "</table>\n",
       "</div>"
      ],
      "text/plain": [
       "     name               id chr     band  start_position  end_position  \\\n",
       "0    MFN2  ENSG00000116688   1  1p36.22      11980181.0    12013514.0   \n",
       "1    PPA2  ENSG00000138777   4     4q24     105369077.0   105474067.0   \n",
       "2  ADRA2A  ENSG00000150594  10  10q25.2     111077163.0   111080907.0   \n",
       "3    RYR2  ENSG00000198626   1     1q43     237042184.0   237833988.0   \n",
       "4    VAV2  ENSG00000160293   9   9q34.2     133761894.0   133992604.0   \n",
       "\n",
       "   gene_length  \n",
       "0      33333.0  \n",
       "1     104990.0  \n",
       "2       3744.0  \n",
       "3     791804.0  \n",
       "4     230710.0  "
      ]
     },
     "execution_count": 25,
     "metadata": {},
     "output_type": "execute_result"
    }
   ],
   "source": [
    "genes_info.head()"
   ]
  },
  {
   "cell_type": "markdown",
   "id": "d3843e06",
   "metadata": {
    "papermill": {
     "duration": 0.007418,
     "end_time": "2022-07-22T04:39:11.480830",
     "exception": false,
     "start_time": "2022-07-22T04:39:11.473412",
     "status": "completed"
    },
    "tags": []
   },
   "source": [
    "# Compute correlations"
   ]
  },
  {
   "cell_type": "code",
   "execution_count": 26,
   "id": "cb859c15-d1f3-4006-a74c-2b83c0db9611",
   "metadata": {
    "execution": {
     "iopub.execute_input": "2022-07-22T04:39:11.497013Z",
     "iopub.status.busy": "2022-07-22T04:39:11.496799Z",
     "iopub.status.idle": "2022-07-22T04:39:11.512173Z",
     "shell.execute_reply": "2022-07-22T04:39:11.511748Z"
    },
    "papermill": {
     "duration": 0.024899,
     "end_time": "2022-07-22T04:39:11.513421",
     "exception": false,
     "start_time": "2022-07-22T04:39:11.488522",
     "status": "completed"
    },
    "tags": []
   },
   "outputs": [
    {
     "data": {
      "text/plain": [
       "PosixPath('/opt/data/results/gls/gene_corrs/cohorts/1000g_eur/1000g/mashr/by_chr/gene_corrs-chr17.pkl')"
      ]
     },
     "metadata": {},
     "output_type": "display_data"
    }
   ],
   "source": [
    "output_dir = OUTPUT_DIR_BASE / \"by_chr\"\n",
    "output_dir.mkdir(exist_ok=True, parents=True)\n",
    "output_file = output_dir / f\"gene_corrs-chr{CHROMOSOME}.pkl\"\n",
    "display(output_file)"
   ]
  },
  {
   "cell_type": "code",
   "execution_count": 27,
   "id": "aa674fe4-6794-4eed-98fa-32b39d1d4ace",
   "metadata": {
    "execution": {
     "iopub.execute_input": "2022-07-22T04:39:11.529817Z",
     "iopub.status.busy": "2022-07-22T04:39:11.529490Z",
     "iopub.status.idle": "2022-07-22T04:39:11.543622Z",
     "shell.execute_reply": "2022-07-22T04:39:11.543216Z"
    },
    "papermill": {
     "duration": 0.02372,
     "end_time": "2022-07-22T04:39:11.544951",
     "exception": false,
     "start_time": "2022-07-22T04:39:11.521231",
     "status": "completed"
    },
    "tags": []
   },
   "outputs": [],
   "source": [
    "warnings.filterwarnings(\"error\")"
   ]
  },
  {
   "cell_type": "code",
   "execution_count": 28,
   "id": "44d5450b-3baf-43f1-9e2e-4b06f1a785f8",
   "metadata": {
    "execution": {
     "iopub.execute_input": "2022-07-22T04:39:11.561565Z",
     "iopub.status.busy": "2022-07-22T04:39:11.561264Z",
     "iopub.status.idle": "2022-07-22T04:39:11.576926Z",
     "shell.execute_reply": "2022-07-22T04:39:11.576474Z"
    },
    "papermill": {
     "duration": 0.025494,
     "end_time": "2022-07-22T04:39:11.578247",
     "exception": false,
     "start_time": "2022-07-22T04:39:11.552753",
     "status": "completed"
    },
    "tags": []
   },
   "outputs": [],
   "source": [
    "# standard checks\n",
    "all_chrs = genes_info[\"chr\"].dropna().unique()\n",
    "assert all_chrs.shape[0] == 22\n",
    "\n",
    "# select chromosome given by the user\n",
    "assert CHROMOSOME in all_chrs"
   ]
  },
  {
   "cell_type": "code",
   "execution_count": 29,
   "id": "2d7c043c-92a7-4d35-991b-fa69ac1e0268",
   "metadata": {
    "execution": {
     "iopub.execute_input": "2022-07-22T04:39:11.594672Z",
     "iopub.status.busy": "2022-07-22T04:39:11.594360Z",
     "iopub.status.idle": "2022-07-22T04:39:11.610854Z",
     "shell.execute_reply": "2022-07-22T04:39:11.610362Z"
    },
    "papermill": {
     "duration": 0.026117,
     "end_time": "2022-07-22T04:39:11.612166",
     "exception": false,
     "start_time": "2022-07-22T04:39:11.586049",
     "status": "completed"
    },
    "tags": []
   },
   "outputs": [
    {
     "name": "stdout",
     "output_type": "stream",
     "text": [
      "Number of genes in chromosome: 410\n"
     ]
    }
   ],
   "source": [
    "# run only on the chromosome specified\n",
    "all_chrs = [CHROMOSOME]\n",
    "genes_chr = genes_info[genes_info[\"chr\"] == CHROMOSOME]\n",
    "\n",
    "# For testing purposes\n",
    "# genes_chr = genes_chr.sample(n=20)\n",
    "\n",
    "print(f\"Number of genes in chromosome: {genes_chr.shape[0]}\", flush=True)"
   ]
  },
  {
   "cell_type": "code",
   "execution_count": 30,
   "id": "916015d8-2979-46d3-a9b9-1cf5a0932c6a",
   "metadata": {
    "execution": {
     "iopub.execute_input": "2022-07-22T04:39:11.629101Z",
     "iopub.status.busy": "2022-07-22T04:39:11.628787Z",
     "iopub.status.idle": "2022-07-22T04:39:11.643615Z",
     "shell.execute_reply": "2022-07-22T04:39:11.643187Z"
    },
    "papermill": {
     "duration": 0.0247,
     "end_time": "2022-07-22T04:39:11.644967",
     "exception": false,
     "start_time": "2022-07-22T04:39:11.620267",
     "status": "completed"
    },
    "tags": []
   },
   "outputs": [],
   "source": [
    "# sort genes by starting position to make visualizations better later\n",
    "genes_chr = genes_chr.sort_values(\"start_position\")"
   ]
  },
  {
   "cell_type": "code",
   "execution_count": 31,
   "id": "a38aa74a-8ad3-47f6-8ef9-56be0e011774",
   "metadata": {
    "execution": {
     "iopub.execute_input": "2022-07-22T04:39:11.661382Z",
     "iopub.status.busy": "2022-07-22T04:39:11.661086Z",
     "iopub.status.idle": "2022-07-22T04:39:11.676222Z",
     "shell.execute_reply": "2022-07-22T04:39:11.675805Z"
    },
    "papermill": {
     "duration": 0.024667,
     "end_time": "2022-07-22T04:39:11.677540",
     "exception": false,
     "start_time": "2022-07-22T04:39:11.652873",
     "status": "completed"
    },
    "tags": []
   },
   "outputs": [],
   "source": [
    "gene_chr_objs = [Gene(ensembl_id=gene_id) for gene_id in genes_chr[\"id\"]]"
   ]
  },
  {
   "cell_type": "code",
   "execution_count": 32,
   "id": "570f974f-13c3-42b6-ad3a-ce99ca885c1a",
   "metadata": {
    "execution": {
     "iopub.execute_input": "2022-07-22T04:39:11.694316Z",
     "iopub.status.busy": "2022-07-22T04:39:11.694102Z",
     "iopub.status.idle": "2022-07-22T04:39:11.709331Z",
     "shell.execute_reply": "2022-07-22T04:39:11.708864Z"
    },
    "papermill": {
     "duration": 0.02507,
     "end_time": "2022-07-22T04:39:11.710586",
     "exception": false,
     "start_time": "2022-07-22T04:39:11.685516",
     "status": "completed"
    },
    "tags": []
   },
   "outputs": [
    {
     "name": "stdout",
     "output_type": "stream",
     "text": [
      "Number of gene combinations: 83845\n"
     ]
    }
   ],
   "source": [
    "n = len(gene_chr_objs)\n",
    "n_comb = int(n * (n - 1) / 2.0)\n",
    "print(f\"Number of gene combinations: {n_comb}\", flush=True)"
   ]
  },
  {
   "cell_type": "code",
   "execution_count": 33,
   "id": "cdbb90a1",
   "metadata": {
    "execution": {
     "iopub.execute_input": "2022-07-22T04:39:11.727620Z",
     "iopub.status.busy": "2022-07-22T04:39:11.727289Z",
     "iopub.status.idle": "2022-07-22T04:55:35.896317Z",
     "shell.execute_reply": "2022-07-22T04:55:35.895842Z"
    },
    "papermill": {
     "duration": 984.179056,
     "end_time": "2022-07-22T04:55:35.897761",
     "exception": false,
     "start_time": "2022-07-22T04:39:11.718705",
     "status": "completed"
    },
    "tags": []
   },
   "outputs": [
    {
     "name": "stderr",
     "output_type": "stream",
     "text": [
      "ENSG00000141556 / ENSG00000175711: 100%|██████████████████████| 83845/83845 [16:24<00:00, 85.20it/s]\n"
     ]
    },
    {
     "data": {
      "text/plain": [
       "PosixPath('/opt/data/results/gls/gene_corrs/cohorts/1000g_eur/1000g/mashr/by_chr/gene_corrs-chr17.pkl')"
      ]
     },
     "metadata": {},
     "output_type": "display_data"
    }
   ],
   "source": [
    "gene_corrs = []\n",
    "\n",
    "i = 0\n",
    "with tqdm(ncols=100, total=n_comb) as pbar:\n",
    "    for gene1_idx in range(0, len(gene_chr_objs) - 1):\n",
    "        gene1_obj = gene_chr_objs[gene1_idx]\n",
    "        gene1_tissues = spredixcan_genes_models.loc[gene1_obj.ensembl_id, \"tissue\"]\n",
    "\n",
    "        for gene2_idx in range(gene1_idx + 1, len(gene_chr_objs)):\n",
    "            gene2_obj = gene_chr_objs[gene2_idx]\n",
    "            gene2_tissues = spredixcan_genes_models.loc[gene2_obj.ensembl_id, \"tissue\"]\n",
    "\n",
    "            pbar.set_description(f\"{gene1_obj.ensembl_id} / {gene2_obj.ensembl_id}\")\n",
    "\n",
    "            try:\n",
    "                r = gene1_obj.get_ssm_correlation(\n",
    "                    other_gene=gene2_obj,\n",
    "                    tissues=gene1_tissues,\n",
    "                    other_tissues=gene2_tissues,\n",
    "                    snps_subset=gwas_variants_ids_set,\n",
    "                    condition_number=SMULTIXCAN_CONDITION_NUMBER,\n",
    "                    reference_panel=REFERENCE_PANEL,\n",
    "                    model_type=EQTL_MODEL,\n",
    "                    use_within_distance=COMPUTE_CORRELATIONS_WITHIN_DISTANCE,\n",
    "                )\n",
    "\n",
    "                if r is None:\n",
    "                    # if r is None, it's very likely because:\n",
    "                    #  * one of the genes has no prediction models\n",
    "                    #  * all the SNPs predictors for the gene are not present in the reference\n",
    "                    #    panel\n",
    "\n",
    "                    r = 0.0\n",
    "\n",
    "                gene_corrs.append(r)\n",
    "            except Warning as e:\n",
    "                if not DEBUG_MODE:\n",
    "                    raise e\n",
    "\n",
    "                print(\n",
    "                    f\"RuntimeWarning for genes {gene1_obj.ensembl_id} and {gene2_obj.ensembl_id}\",\n",
    "                    flush=True,\n",
    "                )\n",
    "                print(traceback.format_exc(), flush=True)\n",
    "\n",
    "                gene_corrs.append(np.nan)\n",
    "            except Exception as e:\n",
    "                if not DEBUG_MODE:\n",
    "                    raise e\n",
    "\n",
    "                print(\n",
    "                    f\"Exception for genes {gene1_obj.ensembl_id} and {gene2_obj.ensembl_id}\",\n",
    "                    flush=True,\n",
    "                )\n",
    "                print(traceback.format_exc(), flush=True)\n",
    "\n",
    "                gene_corrs.append(np.nan)\n",
    "\n",
    "            pbar.update(1)\n",
    "\n",
    "# create a pandas series\n",
    "gene_corrs_flat = pd.Series(gene_corrs)\n",
    "\n",
    "# save\n",
    "# FIXME: consider saving only the condenced matrix here. See here for\n",
    "# more details: https://github.com/greenelab/phenoplier/pull/38#discussion_r634600813\n",
    "gene_corrs_data = squareform(np.array(gene_corrs, dtype=np.float64))\n",
    "np.fill_diagonal(gene_corrs_data, 1.0)\n",
    "\n",
    "gene_chr_ids = [g.ensembl_id for g in gene_chr_objs]\n",
    "gene_corrs_df = pd.DataFrame(\n",
    "    data=gene_corrs_data,\n",
    "    index=gene_chr_ids,\n",
    "    columns=gene_chr_ids,\n",
    ")\n",
    "\n",
    "output_dir.mkdir(exist_ok=True, parents=True)\n",
    "display(output_file)\n",
    "\n",
    "gene_corrs_df.to_pickle(output_file)"
   ]
  },
  {
   "cell_type": "markdown",
   "id": "faa67b51-5373-470f-aa72-2ded53fa6dfe",
   "metadata": {
    "papermill": {
     "duration": 3.330246,
     "end_time": "2022-07-22T04:55:42.568981",
     "exception": false,
     "start_time": "2022-07-22T04:55:39.238735",
     "status": "completed"
    },
    "tags": []
   },
   "source": [
    "# Testing"
   ]
  },
  {
   "cell_type": "code",
   "execution_count": 34,
   "id": "14f7d046-4b55-4896-a56b-990127bcc388",
   "metadata": {
    "execution": {
     "iopub.execute_input": "2022-07-22T04:55:49.327896Z",
     "iopub.status.busy": "2022-07-22T04:55:49.327734Z",
     "iopub.status.idle": "2022-07-22T04:55:49.350728Z",
     "shell.execute_reply": "2022-07-22T04:55:49.350254Z"
    },
    "papermill": {
     "duration": 3.394035,
     "end_time": "2022-07-22T04:55:49.351962",
     "exception": false,
     "start_time": "2022-07-22T04:55:45.957927",
     "status": "completed"
    },
    "tags": []
   },
   "outputs": [
    {
     "data": {
      "text/plain": [
       "(410, 410)"
      ]
     },
     "execution_count": 34,
     "metadata": {},
     "output_type": "execute_result"
    }
   ],
   "source": [
    "gene_corrs_df.shape"
   ]
  },
  {
   "cell_type": "code",
   "execution_count": 35,
   "id": "c7d15414-3297-4537-a7c6-7588c0baeb75",
   "metadata": {
    "execution": {
     "iopub.execute_input": "2022-07-22T04:55:55.929667Z",
     "iopub.status.busy": "2022-07-22T04:55:55.929396Z",
     "iopub.status.idle": "2022-07-22T04:55:55.981774Z",
     "shell.execute_reply": "2022-07-22T04:55:55.981293Z"
    },
    "papermill": {
     "duration": 3.305105,
     "end_time": "2022-07-22T04:55:55.983129",
     "exception": false,
     "start_time": "2022-07-22T04:55:52.678024",
     "status": "completed"
    },
    "tags": []
   },
   "outputs": [
    {
     "data": {
      "text/html": [
       "<div>\n",
       "<style scoped>\n",
       "    .dataframe tbody tr th:only-of-type {\n",
       "        vertical-align: middle;\n",
       "    }\n",
       "\n",
       "    .dataframe tbody tr th {\n",
       "        vertical-align: top;\n",
       "    }\n",
       "\n",
       "    .dataframe thead th {\n",
       "        text-align: right;\n",
       "    }\n",
       "</style>\n",
       "<table border=\"1\" class=\"dataframe\">\n",
       "  <thead>\n",
       "    <tr style=\"text-align: right;\">\n",
       "      <th></th>\n",
       "      <th>ENSG00000141252</th>\n",
       "      <th>ENSG00000179409</th>\n",
       "      <th>ENSG00000177370</th>\n",
       "      <th>ENSG00000159842</th>\n",
       "      <th>ENSG00000108953</th>\n",
       "      <th>ENSG00000167193</th>\n",
       "      <th>ENSG00000132376</th>\n",
       "      <th>ENSG00000174238</th>\n",
       "      <th>ENSG00000167703</th>\n",
       "      <th>ENSG00000074660</th>\n",
       "      <th>...</th>\n",
       "      <th>ENSG00000169733</th>\n",
       "      <th>ENSG00000169710</th>\n",
       "      <th>ENSG00000141526</th>\n",
       "      <th>ENSG00000141551</th>\n",
       "      <th>ENSG00000173762</th>\n",
       "      <th>ENSG00000141574</th>\n",
       "      <th>ENSG00000141562</th>\n",
       "      <th>ENSG00000141542</th>\n",
       "      <th>ENSG00000141556</th>\n",
       "      <th>ENSG00000175711</th>\n",
       "    </tr>\n",
       "  </thead>\n",
       "  <tbody>\n",
       "    <tr>\n",
       "      <th>ENSG00000141252</th>\n",
       "      <td>1.000000</td>\n",
       "      <td>0.466120</td>\n",
       "      <td>0.014257</td>\n",
       "      <td>0.016144</td>\n",
       "      <td>0.006897</td>\n",
       "      <td>0.009533</td>\n",
       "      <td>0.007676</td>\n",
       "      <td>0.005798</td>\n",
       "      <td>0.018961</td>\n",
       "      <td>0.005090</td>\n",
       "      <td>...</td>\n",
       "      <td>0.0</td>\n",
       "      <td>0.0</td>\n",
       "      <td>0.0</td>\n",
       "      <td>0.0</td>\n",
       "      <td>0.0</td>\n",
       "      <td>0.0</td>\n",
       "      <td>0.0</td>\n",
       "      <td>0.0</td>\n",
       "      <td>0.0</td>\n",
       "      <td>0.0</td>\n",
       "    </tr>\n",
       "    <tr>\n",
       "      <th>ENSG00000179409</th>\n",
       "      <td>0.466120</td>\n",
       "      <td>1.000000</td>\n",
       "      <td>0.017801</td>\n",
       "      <td>0.017020</td>\n",
       "      <td>0.009912</td>\n",
       "      <td>0.009520</td>\n",
       "      <td>0.009170</td>\n",
       "      <td>0.007167</td>\n",
       "      <td>0.015235</td>\n",
       "      <td>0.004898</td>\n",
       "      <td>...</td>\n",
       "      <td>0.0</td>\n",
       "      <td>0.0</td>\n",
       "      <td>0.0</td>\n",
       "      <td>0.0</td>\n",
       "      <td>0.0</td>\n",
       "      <td>0.0</td>\n",
       "      <td>0.0</td>\n",
       "      <td>0.0</td>\n",
       "      <td>0.0</td>\n",
       "      <td>0.0</td>\n",
       "    </tr>\n",
       "    <tr>\n",
       "      <th>ENSG00000177370</th>\n",
       "      <td>0.014257</td>\n",
       "      <td>0.017801</td>\n",
       "      <td>1.000000</td>\n",
       "      <td>0.079949</td>\n",
       "      <td>0.010551</td>\n",
       "      <td>0.013315</td>\n",
       "      <td>0.009408</td>\n",
       "      <td>0.008805</td>\n",
       "      <td>0.020563</td>\n",
       "      <td>0.007386</td>\n",
       "      <td>...</td>\n",
       "      <td>0.0</td>\n",
       "      <td>0.0</td>\n",
       "      <td>0.0</td>\n",
       "      <td>0.0</td>\n",
       "      <td>0.0</td>\n",
       "      <td>0.0</td>\n",
       "      <td>0.0</td>\n",
       "      <td>0.0</td>\n",
       "      <td>0.0</td>\n",
       "      <td>0.0</td>\n",
       "    </tr>\n",
       "    <tr>\n",
       "      <th>ENSG00000159842</th>\n",
       "      <td>0.016144</td>\n",
       "      <td>0.017020</td>\n",
       "      <td>0.079949</td>\n",
       "      <td>1.000000</td>\n",
       "      <td>0.018059</td>\n",
       "      <td>0.013331</td>\n",
       "      <td>0.008922</td>\n",
       "      <td>0.005562</td>\n",
       "      <td>0.016888</td>\n",
       "      <td>0.012301</td>\n",
       "      <td>...</td>\n",
       "      <td>0.0</td>\n",
       "      <td>0.0</td>\n",
       "      <td>0.0</td>\n",
       "      <td>0.0</td>\n",
       "      <td>0.0</td>\n",
       "      <td>0.0</td>\n",
       "      <td>0.0</td>\n",
       "      <td>0.0</td>\n",
       "      <td>0.0</td>\n",
       "      <td>0.0</td>\n",
       "    </tr>\n",
       "    <tr>\n",
       "      <th>ENSG00000108953</th>\n",
       "      <td>0.006897</td>\n",
       "      <td>0.009912</td>\n",
       "      <td>0.010551</td>\n",
       "      <td>0.018059</td>\n",
       "      <td>1.000000</td>\n",
       "      <td>0.138716</td>\n",
       "      <td>0.027416</td>\n",
       "      <td>0.021851</td>\n",
       "      <td>0.019318</td>\n",
       "      <td>0.005177</td>\n",
       "      <td>...</td>\n",
       "      <td>0.0</td>\n",
       "      <td>0.0</td>\n",
       "      <td>0.0</td>\n",
       "      <td>0.0</td>\n",
       "      <td>0.0</td>\n",
       "      <td>0.0</td>\n",
       "      <td>0.0</td>\n",
       "      <td>0.0</td>\n",
       "      <td>0.0</td>\n",
       "      <td>0.0</td>\n",
       "    </tr>\n",
       "  </tbody>\n",
       "</table>\n",
       "<p>5 rows × 410 columns</p>\n",
       "</div>"
      ],
      "text/plain": [
       "                 ENSG00000141252  ENSG00000179409  ENSG00000177370  \\\n",
       "ENSG00000141252         1.000000         0.466120         0.014257   \n",
       "ENSG00000179409         0.466120         1.000000         0.017801   \n",
       "ENSG00000177370         0.014257         0.017801         1.000000   \n",
       "ENSG00000159842         0.016144         0.017020         0.079949   \n",
       "ENSG00000108953         0.006897         0.009912         0.010551   \n",
       "\n",
       "                 ENSG00000159842  ENSG00000108953  ENSG00000167193  \\\n",
       "ENSG00000141252         0.016144         0.006897         0.009533   \n",
       "ENSG00000179409         0.017020         0.009912         0.009520   \n",
       "ENSG00000177370         0.079949         0.010551         0.013315   \n",
       "ENSG00000159842         1.000000         0.018059         0.013331   \n",
       "ENSG00000108953         0.018059         1.000000         0.138716   \n",
       "\n",
       "                 ENSG00000132376  ENSG00000174238  ENSG00000167703  \\\n",
       "ENSG00000141252         0.007676         0.005798         0.018961   \n",
       "ENSG00000179409         0.009170         0.007167         0.015235   \n",
       "ENSG00000177370         0.009408         0.008805         0.020563   \n",
       "ENSG00000159842         0.008922         0.005562         0.016888   \n",
       "ENSG00000108953         0.027416         0.021851         0.019318   \n",
       "\n",
       "                 ENSG00000074660  ...  ENSG00000169733  ENSG00000169710  \\\n",
       "ENSG00000141252         0.005090  ...              0.0              0.0   \n",
       "ENSG00000179409         0.004898  ...              0.0              0.0   \n",
       "ENSG00000177370         0.007386  ...              0.0              0.0   \n",
       "ENSG00000159842         0.012301  ...              0.0              0.0   \n",
       "ENSG00000108953         0.005177  ...              0.0              0.0   \n",
       "\n",
       "                 ENSG00000141526  ENSG00000141551  ENSG00000173762  \\\n",
       "ENSG00000141252              0.0              0.0              0.0   \n",
       "ENSG00000179409              0.0              0.0              0.0   \n",
       "ENSG00000177370              0.0              0.0              0.0   \n",
       "ENSG00000159842              0.0              0.0              0.0   \n",
       "ENSG00000108953              0.0              0.0              0.0   \n",
       "\n",
       "                 ENSG00000141574  ENSG00000141562  ENSG00000141542  \\\n",
       "ENSG00000141252              0.0              0.0              0.0   \n",
       "ENSG00000179409              0.0              0.0              0.0   \n",
       "ENSG00000177370              0.0              0.0              0.0   \n",
       "ENSG00000159842              0.0              0.0              0.0   \n",
       "ENSG00000108953              0.0              0.0              0.0   \n",
       "\n",
       "                 ENSG00000141556  ENSG00000175711  \n",
       "ENSG00000141252              0.0              0.0  \n",
       "ENSG00000179409              0.0              0.0  \n",
       "ENSG00000177370              0.0              0.0  \n",
       "ENSG00000159842              0.0              0.0  \n",
       "ENSG00000108953              0.0              0.0  \n",
       "\n",
       "[5 rows x 410 columns]"
      ]
     },
     "execution_count": 35,
     "metadata": {},
     "output_type": "execute_result"
    }
   ],
   "source": [
    "gene_corrs_df.head()"
   ]
  },
  {
   "cell_type": "markdown",
   "id": "dad6603f-01c6-41fb-a6f6-241051207dd8",
   "metadata": {
    "papermill": {
     "duration": 3.274148,
     "end_time": "2022-07-22T04:56:02.624035",
     "exception": false,
     "start_time": "2022-07-22T04:55:59.349887",
     "status": "completed"
    },
    "tags": []
   },
   "source": [
    "## Standard checks and stats"
   ]
  },
  {
   "cell_type": "code",
   "execution_count": 36,
   "id": "286686af-1b7b-4440-8453-6bdcbd8de19c",
   "metadata": {
    "execution": {
     "iopub.execute_input": "2022-07-22T04:56:09.219549Z",
     "iopub.status.busy": "2022-07-22T04:56:09.219098Z",
     "iopub.status.idle": "2022-07-22T04:56:09.239994Z",
     "shell.execute_reply": "2022-07-22T04:56:09.239573Z"
    },
    "papermill": {
     "duration": 3.309463,
     "end_time": "2022-07-22T04:56:09.244753",
     "exception": false,
     "start_time": "2022-07-22T04:56:05.935290",
     "status": "completed"
    },
    "tags": []
   },
   "outputs": [],
   "source": [
    "assert not gene_corrs_df.isna().any().any()"
   ]
  },
  {
   "cell_type": "code",
   "execution_count": 37,
   "id": "00583efc-7068-4270-ad1e-4a418e91db96",
   "metadata": {
    "execution": {
     "iopub.execute_input": "2022-07-22T04:56:15.864124Z",
     "iopub.status.busy": "2022-07-22T04:56:15.863942Z",
     "iopub.status.idle": "2022-07-22T04:56:15.881249Z",
     "shell.execute_reply": "2022-07-22T04:56:15.880833Z"
    },
    "papermill": {
     "duration": 3.353202,
     "end_time": "2022-07-22T04:56:15.882449",
     "exception": false,
     "start_time": "2022-07-22T04:56:12.529247",
     "status": "completed"
    },
    "tags": []
   },
   "outputs": [
    {
     "data": {
      "text/plain": [
       "0.0"
      ]
     },
     "metadata": {},
     "output_type": "display_data"
    }
   ],
   "source": [
    "_min_val = gene_corrs_df.min().min()\n",
    "display(_min_val)\n",
    "assert _min_val >= 0.0"
   ]
  },
  {
   "cell_type": "code",
   "execution_count": 38,
   "id": "d04fb2cf-1050-475b-b855-f5f7cc04092b",
   "metadata": {
    "execution": {
     "iopub.execute_input": "2022-07-22T04:56:22.372966Z",
     "iopub.status.busy": "2022-07-22T04:56:22.372809Z",
     "iopub.status.idle": "2022-07-22T04:56:22.393180Z",
     "shell.execute_reply": "2022-07-22T04:56:22.392799Z"
    },
    "papermill": {
     "duration": 3.2253,
     "end_time": "2022-07-22T04:56:22.394452",
     "exception": false,
     "start_time": "2022-07-22T04:56:19.169152",
     "status": "completed"
    },
    "tags": []
   },
   "outputs": [
    {
     "data": {
      "text/plain": [
       "1.0"
      ]
     },
     "metadata": {},
     "output_type": "display_data"
    }
   ],
   "source": [
    "_max_val = gene_corrs_df.max().max()  # this captures the diagonal\n",
    "display(_max_val)\n",
    "assert _max_val <= 1.0"
   ]
  },
  {
   "cell_type": "code",
   "execution_count": 39,
   "id": "96d02c44-1fba-47be-8a93-8f2608420b9c",
   "metadata": {
    "execution": {
     "iopub.execute_input": "2022-07-22T04:56:29.004444Z",
     "iopub.status.busy": "2022-07-22T04:56:29.004230Z",
     "iopub.status.idle": "2022-07-22T04:56:29.020141Z",
     "shell.execute_reply": "2022-07-22T04:56:29.019713Z"
    },
    "papermill": {
     "duration": 3.35099,
     "end_time": "2022-07-22T04:56:29.021490",
     "exception": false,
     "start_time": "2022-07-22T04:56:25.670500",
     "status": "completed"
    },
    "tags": []
   },
   "outputs": [],
   "source": [
    "# check upper triangular values\n",
    "assert len(gene_corrs) == int(genes_chr.shape[0] * (genes_chr.shape[0] - 1) / 2)"
   ]
  },
  {
   "cell_type": "code",
   "execution_count": 40,
   "id": "fe283586-c348-40e0-8841-f6d97bfb021c",
   "metadata": {
    "execution": {
     "iopub.execute_input": "2022-07-22T04:56:35.572548Z",
     "iopub.status.busy": "2022-07-22T04:56:35.572336Z",
     "iopub.status.idle": "2022-07-22T04:56:35.594316Z",
     "shell.execute_reply": "2022-07-22T04:56:35.593877Z"
    },
    "papermill": {
     "duration": 3.313005,
     "end_time": "2022-07-22T04:56:35.595478",
     "exception": false,
     "start_time": "2022-07-22T04:56:32.282473",
     "status": "completed"
    },
    "tags": []
   },
   "outputs": [
    {
     "data": {
      "text/plain": [
       "count    83845.000000\n",
       "mean         0.003532\n",
       "std          0.030484\n",
       "min          0.000000\n",
       "25%          0.000000\n",
       "50%          0.000000\n",
       "75%          0.000000\n",
       "max          0.990144\n",
       "dtype: float64"
      ]
     },
     "execution_count": 40,
     "metadata": {},
     "output_type": "execute_result"
    }
   ],
   "source": [
    "gene_corrs_flat.describe()"
   ]
  },
  {
   "cell_type": "code",
   "execution_count": 41,
   "id": "b3815678-0f93-4b35-897b-a9d047a2aa78",
   "metadata": {
    "execution": {
     "iopub.execute_input": "2022-07-22T04:56:42.202080Z",
     "iopub.status.busy": "2022-07-22T04:56:42.201920Z",
     "iopub.status.idle": "2022-07-22T04:56:42.224063Z",
     "shell.execute_reply": "2022-07-22T04:56:42.223672Z"
    },
    "papermill": {
     "duration": 3.304764,
     "end_time": "2022-07-22T04:56:42.225192",
     "exception": false,
     "start_time": "2022-07-22T04:56:38.920428",
     "status": "completed"
    },
    "tags": []
   },
   "outputs": [
    {
     "data": {
      "text/plain": [
       "0.00    0.000000\n",
       "0.05    0.000000\n",
       "0.10    0.000000\n",
       "0.15    0.000000\n",
       "0.20    0.000000\n",
       "0.25    0.000000\n",
       "0.30    0.000000\n",
       "0.35    0.000000\n",
       "0.40    0.000000\n",
       "0.45    0.000000\n",
       "0.50    0.000000\n",
       "0.55    0.000000\n",
       "0.60    0.000000\n",
       "0.65    0.000000\n",
       "0.70    0.000000\n",
       "0.75    0.000000\n",
       "0.80    0.000000\n",
       "0.85    0.000000\n",
       "0.90    0.005725\n",
       "0.95    0.010982\n",
       "dtype: float64"
      ]
     },
     "metadata": {},
     "output_type": "display_data"
    }
   ],
   "source": [
    "gene_corrs_quantiles = gene_corrs_flat.quantile(np.arange(0, 1, 0.05))\n",
    "display(gene_corrs_quantiles)"
   ]
  },
  {
   "cell_type": "markdown",
   "id": "87134509-b145-4a10-8bc9-b7e914c2b0fa",
   "metadata": {
    "papermill": {
     "duration": 3.260783,
     "end_time": "2022-07-22T04:56:48.770479",
     "exception": false,
     "start_time": "2022-07-22T04:56:45.509696",
     "status": "completed"
    },
    "tags": []
   },
   "source": [
    "## Positive definiteness"
   ]
  },
  {
   "cell_type": "code",
   "execution_count": 42,
   "id": "07d9a9a1-a4f7-48aa-b916-6d42a8cc6186",
   "metadata": {
    "execution": {
     "iopub.execute_input": "2022-07-22T04:56:55.202238Z",
     "iopub.status.busy": "2022-07-22T04:56:55.201848Z",
     "iopub.status.idle": "2022-07-22T04:56:55.255623Z",
     "shell.execute_reply": "2022-07-22T04:56:55.255240Z"
    },
    "papermill": {
     "duration": 3.250876,
     "end_time": "2022-07-22T04:56:55.256910",
     "exception": false,
     "start_time": "2022-07-22T04:56:52.006034",
     "status": "completed"
    },
    "tags": []
   },
   "outputs": [
    {
     "data": {
      "text/plain": [
       "0"
      ]
     },
     "metadata": {},
     "output_type": "display_data"
    },
    {
     "data": {
      "text/plain": [
       "array([], dtype=float64)"
      ]
     },
     "metadata": {},
     "output_type": "display_data"
    }
   ],
   "source": [
    "# print negative eigenvalues\n",
    "eigs = np.linalg.eigvals(gene_corrs_df.to_numpy())\n",
    "display(len(eigs[eigs < 0]))\n",
    "display(eigs[eigs < 0])"
   ]
  },
  {
   "cell_type": "code",
   "execution_count": 43,
   "id": "6e218436-c3c5-4028-8c94-a4fa6260efce",
   "metadata": {
    "execution": {
     "iopub.execute_input": "2022-07-22T04:57:01.746262Z",
     "iopub.status.busy": "2022-07-22T04:57:01.746062Z",
     "iopub.status.idle": "2022-07-22T04:57:01.773652Z",
     "shell.execute_reply": "2022-07-22T04:57:01.773250Z"
    },
    "papermill": {
     "duration": 3.221293,
     "end_time": "2022-07-22T04:57:01.774793",
     "exception": false,
     "start_time": "2022-07-22T04:56:58.553500",
     "status": "completed"
    },
    "tags": []
   },
   "outputs": [
    {
     "name": "stdout",
     "output_type": "stream",
     "text": [
      "Works!\n"
     ]
    }
   ],
   "source": [
    "try:\n",
    "    chol_mat = np.linalg.cholesky(gene_corrs_df.to_numpy())\n",
    "    cov_inv = np.linalg.inv(chol_mat)\n",
    "    print(\"Works!\")\n",
    "except:\n",
    "    print(\"Cholesky decomposition failed\")"
   ]
  },
  {
   "cell_type": "markdown",
   "id": "8e60a080-edb2-4e9c-b2ef-22961693200c",
   "metadata": {
    "papermill": {
     "duration": 3.43779,
     "end_time": "2022-07-22T04:57:08.584519",
     "exception": false,
     "start_time": "2022-07-22T04:57:05.146729",
     "status": "completed"
    },
    "tags": []
   },
   "source": [
    "## Plot: distribution"
   ]
  },
  {
   "cell_type": "code",
   "execution_count": 44,
   "id": "8301126b-a7d4-4744-9c7d-f0f86eb6f54c",
   "metadata": {
    "execution": {
     "iopub.execute_input": "2022-07-22T04:57:15.251149Z",
     "iopub.status.busy": "2022-07-22T04:57:15.250986Z",
     "iopub.status.idle": "2022-07-22T04:57:15.796453Z",
     "shell.execute_reply": "2022-07-22T04:57:15.795963Z"
    },
    "papermill": {
     "duration": 3.791536,
     "end_time": "2022-07-22T04:57:15.797689",
     "exception": false,
     "start_time": "2022-07-22T04:57:12.006153",
     "status": "completed"
    },
    "tags": []
   },
   "outputs": [
    {
     "data": {
      "image/png": "[encoded data removed]",
      "text/plain": [
       "<Figure size 504x504 with 1 Axes>"
      ]
     },
     "metadata": {
      "needs_background": "light"
     },
     "output_type": "display_data"
    }
   ],
   "source": [
    "with sns.plotting_context(\"paper\", font_scale=1.5):\n",
    "    g = sns.displot(gene_corrs_flat, kde=True, height=7)\n",
    "    g.ax.set_title(\n",
    "        f\"Distribution of gene correlation values in chromosome {CHROMOSOME}\"\n",
    "    )"
   ]
  },
  {
   "cell_type": "markdown",
   "id": "cbd52bca-d878-4a2f-b684-5c83aa3038d4",
   "metadata": {
    "papermill": {
     "duration": 3.237618,
     "end_time": "2022-07-22T04:57:22.275197",
     "exception": false,
     "start_time": "2022-07-22T04:57:19.037579",
     "status": "completed"
    },
    "tags": []
   },
   "source": [
    "## Plot: heatmap"
   ]
  },
  {
   "cell_type": "code",
   "execution_count": 45,
   "id": "d03fe63a-c7b2-4fb9-a53c-db362ce843c9",
   "metadata": {
    "execution": {
     "iopub.execute_input": "2022-07-22T04:57:28.789021Z",
     "iopub.status.busy": "2022-07-22T04:57:28.788840Z",
     "iopub.status.idle": "2022-07-22T04:57:28.805312Z",
     "shell.execute_reply": "2022-07-22T04:57:28.804878Z"
    },
    "papermill": {
     "duration": 3.224565,
     "end_time": "2022-07-22T04:57:28.806494",
     "exception": false,
     "start_time": "2022-07-22T04:57:25.581929",
     "status": "completed"
    },
    "tags": []
   },
   "outputs": [
    {
     "data": {
      "text/plain": [
       "'0.0 / 0.05'"
      ]
     },
     "metadata": {},
     "output_type": "display_data"
    }
   ],
   "source": [
    "vmin_val = min(0.00, gene_corrs_quantiles[0.10])\n",
    "vmax_val = max(0.05, gene_corrs_quantiles[0.90])\n",
    "display(f\"{vmin_val} / {vmax_val}\")"
   ]
  },
  {
   "cell_type": "code",
   "execution_count": 46,
   "id": "dc41b70b-5bcc-4d9e-9f33-a22c4a94dab5",
   "metadata": {
    "execution": {
     "iopub.execute_input": "2022-07-22T04:57:35.559750Z",
     "iopub.status.busy": "2022-07-22T04:57:35.559528Z",
     "iopub.status.idle": "2022-07-22T04:57:35.843236Z",
     "shell.execute_reply": "2022-07-22T04:57:35.842748Z"
    },
    "papermill": {
     "duration": 3.686501,
     "end_time": "2022-07-22T04:57:35.844469",
     "exception": false,
     "start_time": "2022-07-22T04:57:32.157968",
     "status": "completed"
    },
    "tags": []
   },
   "outputs": [
    {
     "data": {
      "text/plain": [
       "Text(0.5, 1.0, 'Gene correlations in chromosome 17')"
      ]
     },
     "execution_count": 46,
     "metadata": {},
     "output_type": "execute_result"
    },
    {
     "data": {
      "image/png": "[encoded data removed]",
      "text/plain": [
       "<Figure size 720x720 with 2 Axes>"
      ]
     },
     "metadata": {
      "needs_background": "light"
     },
     "output_type": "display_data"
    }
   ],
   "source": [
    "f, ax = plt.subplots(figsize=(10, 10))\n",
    "sns.heatmap(\n",
    "    gene_corrs_df,\n",
    "    xticklabels=False,\n",
    "    yticklabels=False,\n",
    "    square=True,\n",
    "    vmin=vmin_val,\n",
    "    vmax=vmax_val,\n",
    "    cmap=\"rocket_r\",\n",
    "    ax=ax,\n",
    ")\n",
    "ax.set_title(f\"Gene correlations in chromosome {CHROMOSOME}\")"
   ]
  },
  {
   "cell_type": "code",
   "execution_count": null,
   "id": "b25e3ead",
   "metadata": {
    "papermill": {
     "duration": 3.204014,
     "end_time": "2022-07-22T04:57:42.397940",
     "exception": false,
     "start_time": "2022-07-22T04:57:39.193926",
     "status": "completed"
    },
    "tags": []
   },
   "outputs": [],
   "source": []
  }
 ],
 "metadata": {
  "jupytext": {
   "cell_metadata_filter": "all,-execution,-papermill,-trusted",
   "formats": "ipynb,py//py:percent"
  },
  "kernelspec": {
   "display_name": "Python 3 (ipykernel)",
   "language": "python",
   "name": "python3"
  },
  "language_info": {
   "codemirror_mode": {
    "name": "ipython",
    "version": 3
   },
   "file_extension": ".py",
   "mimetype": "text/x-python",
   "name": "python",
   "nbconvert_exporter": "python",
   "pygments_lexer": "ipython3",
   "version": "3.8.13"
  },
  "papermill": {
   "default_parameters": {},
   "duration": 1124.258351,
   "end_time": "2022-07-22T04:57:48.845025",
   "environment_variables": {},
   "exception": null,
   "input_path": "nbs/15_gsa_gls/10-gene_expr_correlations.ipynb",
   "output_path": "nbs/15_gsa_gls/gene_corrs/cohorts/1000g_eur/1000g/mashr/10-gene_expr_correlations-chr17.run.ipynb",
   "parameters": {
    "CHROMOSOME": 17,
    "COHORT_NAME": "1000G_EUR",
    "EQTL_MODEL": "MASHR",
    "REFERENCE_PANEL": "1000G"
   },
   "start_time": "2022-07-22T04:39:04.586674",
   "version": "2.2.2"
  }
 },
 "nbformat": 4,
 "nbformat_minor": 5
}
