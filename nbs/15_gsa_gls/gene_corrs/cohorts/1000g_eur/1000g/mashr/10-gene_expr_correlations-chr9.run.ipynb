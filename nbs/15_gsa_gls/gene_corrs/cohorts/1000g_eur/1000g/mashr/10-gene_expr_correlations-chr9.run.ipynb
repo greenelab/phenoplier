{
 "cells": [
  {
   "cell_type": "markdown",
   "id": "7a6632fb",
   "metadata": {
    "papermill": {
     "duration": 0.019338,
     "end_time": "2022-08-02T20:33:13.855816",
     "exception": false,
     "start_time": "2022-08-02T20:33:13.836478",
     "status": "completed"
    },
    "tags": []
   },
   "source": [
    "# Description"
   ]
  },
  {
   "cell_type": "markdown",
   "id": "7097c346",
   "metadata": {
    "papermill": {
     "duration": 0.055701,
     "end_time": "2022-08-02T20:33:13.929384",
     "exception": false,
     "start_time": "2022-08-02T20:33:13.873683",
     "status": "completed"
    },
    "tags": []
   },
   "source": [
    "(Please, take a look at the README.md file in this directory for instructions on how to run this notebook)\n",
    "\n",
    "This notebook computes predicted expression correlations between all genes in the MultiPLIER models.\n",
    "\n",
    "It also has a parameter set for papermill to run on a single chromosome to run in parallel (see under `Settings` below).\n",
    "\n",
    "This notebook is not directly run. See README.md."
   ]
  },
  {
   "cell_type": "markdown",
   "id": "c61d8427",
   "metadata": {
    "papermill": {
     "duration": 0.01027,
     "end_time": "2022-08-02T20:33:13.951120",
     "exception": false,
     "start_time": "2022-08-02T20:33:13.940850",
     "status": "completed"
    },
    "tags": []
   },
   "source": [
    "# Modules"
   ]
  },
  {
   "cell_type": "code",
   "execution_count": 1,
   "id": "bbc0234f",
   "metadata": {
    "execution": {
     "iopub.execute_input": "2022-08-02T20:33:13.974199Z",
     "iopub.status.busy": "2022-08-02T20:33:13.973838Z",
     "iopub.status.idle": "2022-08-02T20:33:14.050594Z",
     "shell.execute_reply": "2022-08-02T20:33:14.050123Z"
    },
    "papermill": {
     "duration": 0.090317,
     "end_time": "2022-08-02T20:33:14.052231",
     "exception": false,
     "start_time": "2022-08-02T20:33:13.961914",
     "status": "completed"
    },
    "tags": []
   },
   "outputs": [],
   "source": [
    "%load_ext autoreload\n",
    "%autoreload 2"
   ]
  },
  {
   "cell_type": "code",
   "execution_count": 2,
   "id": "1d5f5a59",
   "metadata": {
    "execution": {
     "iopub.execute_input": "2022-08-02T20:33:14.069115Z",
     "iopub.status.busy": "2022-08-02T20:33:14.068928Z",
     "iopub.status.idle": "2022-08-02T20:33:17.270648Z",
     "shell.execute_reply": "2022-08-02T20:33:17.270144Z"
    },
    "papermill": {
     "duration": 3.212082,
     "end_time": "2022-08-02T20:33:17.272448",
     "exception": false,
     "start_time": "2022-08-02T20:33:14.060366",
     "status": "completed"
    },
    "tags": []
   },
   "outputs": [],
   "source": [
    "from random import sample, seed\n",
    "import warnings\n",
    "from pathlib import Path\n",
    "import pickle\n",
    "import traceback\n",
    "\n",
    "import numpy as np\n",
    "from scipy.spatial.distance import squareform\n",
    "import pandas as pd\n",
    "from tqdm import tqdm\n",
    "import matplotlib.pyplot as plt\n",
    "import seaborn as sns\n",
    "\n",
    "import conf\n",
    "from entity import Gene"
   ]
  },
  {
   "cell_type": "markdown",
   "id": "1eac24b5",
   "metadata": {
    "papermill": {
     "duration": 0.0078,
     "end_time": "2022-08-02T20:33:17.288697",
     "exception": false,
     "start_time": "2022-08-02T20:33:17.280897",
     "status": "completed"
    },
    "tags": []
   },
   "source": [
    "# Settings"
   ]
  },
  {
   "cell_type": "code",
   "execution_count": 3,
   "id": "ca4560ba",
   "metadata": {
    "execution": {
     "iopub.execute_input": "2022-08-02T20:33:17.308471Z",
     "iopub.status.busy": "2022-08-02T20:33:17.308264Z",
     "iopub.status.idle": "2022-08-02T20:33:17.445993Z",
     "shell.execute_reply": "2022-08-02T20:33:17.445584Z"
    },
    "papermill": {
     "duration": 0.15064,
     "end_time": "2022-08-02T20:33:17.447465",
     "exception": false,
     "start_time": "2022-08-02T20:33:17.296825",
     "status": "completed"
    },
    "tags": [
     "parameters"
    ]
   },
   "outputs": [],
   "source": [
    "# a cohort name (it could be something like UK_BIOBANK, etc)\n",
    "COHORT_NAME = None\n",
    "\n",
    "# reference panel such as 1000G or GTEX_V8\n",
    "REFERENCE_PANEL = None\n",
    "\n",
    "# predictions models such as MASHR or ELASTIC_NET\n",
    "EQTL_MODEL = None\n",
    "\n",
    "# this is the default value used in S-MultiXcan to select the\n",
    "# top principal components of the expression correlation matrix\n",
    "SMULTIXCAN_CONDITION_NUMBER = 30\n",
    "\n",
    "# specifies a single chromosome value\n",
    "CHROMOSOME = None\n",
    "\n",
    "# If True, computes the correlation between closeby genes only;\n",
    "# otherwise, it computes correlations for all genes in a chromosome\n",
    "COMPUTE_CORRELATIONS_WITHIN_DISTANCE = False\n",
    "\n",
    "# if True, then it will continue if a gene pair correlation fails,\n",
    "# printing the warning/error for debugging. If False, any warning/error\n",
    "# will be thrown\n",
    "DEBUG_MODE = False"
   ]
  },
  {
   "cell_type": "code",
   "execution_count": 4,
   "id": "ac406805",
   "metadata": {
    "execution": {
     "iopub.execute_input": "2022-08-02T20:33:17.464117Z",
     "iopub.status.busy": "2022-08-02T20:33:17.463934Z",
     "iopub.status.idle": "2022-08-02T20:33:17.482117Z",
     "shell.execute_reply": "2022-08-02T20:33:17.481740Z"
    },
    "papermill": {
     "duration": 0.028128,
     "end_time": "2022-08-02T20:33:17.483479",
     "exception": false,
     "start_time": "2022-08-02T20:33:17.455351",
     "status": "completed"
    },
    "tags": [
     "injected-parameters"
    ]
   },
   "outputs": [],
   "source": [
    "# Parameters\n",
    "COHORT_NAME = \"1000G_EUR\"\n",
    "REFERENCE_PANEL = \"1000G\"\n",
    "EQTL_MODEL = \"MASHR\"\n",
    "CHROMOSOME = 9\n"
   ]
  },
  {
   "cell_type": "code",
   "execution_count": 5,
   "id": "3190631f-27fc-480f-b18e-571d580425a5",
   "metadata": {
    "execution": {
     "iopub.execute_input": "2022-08-02T20:33:17.500126Z",
     "iopub.status.busy": "2022-08-02T20:33:17.499939Z",
     "iopub.status.idle": "2022-08-02T20:33:17.520547Z",
     "shell.execute_reply": "2022-08-02T20:33:17.520160Z"
    },
    "papermill": {
     "duration": 0.030415,
     "end_time": "2022-08-02T20:33:17.521792",
     "exception": false,
     "start_time": "2022-08-02T20:33:17.491377",
     "status": "completed"
    },
    "tags": []
   },
   "outputs": [
    {
     "data": {
      "text/plain": [
       "'Cohort name: 1000g_eur'"
      ]
     },
     "metadata": {},
     "output_type": "display_data"
    }
   ],
   "source": [
    "assert COHORT_NAME is not None and len(COHORT_NAME) > 0, \"A cohort name must be given\"\n",
    "\n",
    "COHORT_NAME = COHORT_NAME.lower()\n",
    "display(f\"Cohort name: {COHORT_NAME}\")"
   ]
  },
  {
   "cell_type": "code",
   "execution_count": 6,
   "id": "f53ba19b-0f93-4fa2-a047-63b375939d1a",
   "metadata": {
    "execution": {
     "iopub.execute_input": "2022-08-02T20:33:17.538116Z",
     "iopub.status.busy": "2022-08-02T20:33:17.537927Z",
     "iopub.status.idle": "2022-08-02T20:33:17.559126Z",
     "shell.execute_reply": "2022-08-02T20:33:17.558738Z"
    },
    "papermill": {
     "duration": 0.030937,
     "end_time": "2022-08-02T20:33:17.560368",
     "exception": false,
     "start_time": "2022-08-02T20:33:17.529431",
     "status": "completed"
    },
    "tags": []
   },
   "outputs": [
    {
     "data": {
      "text/plain": [
       "'Reference panel: 1000G'"
      ]
     },
     "metadata": {},
     "output_type": "display_data"
    }
   ],
   "source": [
    "assert (\n",
    "    REFERENCE_PANEL is not None and len(REFERENCE_PANEL) > 0\n",
    "), \"A reference panel must be given\"\n",
    "\n",
    "display(f\"Reference panel: {REFERENCE_PANEL}\")"
   ]
  },
  {
   "cell_type": "code",
   "execution_count": 7,
   "id": "e024d130-c139-429a-9c6e-ccf149e297b0",
   "metadata": {
    "execution": {
     "iopub.execute_input": "2022-08-02T20:33:17.577438Z",
     "iopub.status.busy": "2022-08-02T20:33:17.577256Z",
     "iopub.status.idle": "2022-08-02T20:33:17.596498Z",
     "shell.execute_reply": "2022-08-02T20:33:17.596125Z"
    },
    "papermill": {
     "duration": 0.029243,
     "end_time": "2022-08-02T20:33:17.597708",
     "exception": false,
     "start_time": "2022-08-02T20:33:17.568465",
     "status": "completed"
    },
    "tags": []
   },
   "outputs": [
    {
     "data": {
      "text/plain": [
       "'eQTL model: MASHR) / mashr_'"
      ]
     },
     "metadata": {},
     "output_type": "display_data"
    }
   ],
   "source": [
    "assert (\n",
    "    EQTL_MODEL is not None and len(EQTL_MODEL) > 0\n",
    "), \"A prediction/eQTL model must be given\"\n",
    "\n",
    "EQTL_MODEL_FILES_PREFIX = conf.PHENOMEXCAN[\"PREDICTION_MODELS\"][f\"{EQTL_MODEL}_PREFIX\"]\n",
    "display(f\"eQTL model: {EQTL_MODEL}) / {EQTL_MODEL_FILES_PREFIX}\")"
   ]
  },
  {
   "cell_type": "code",
   "execution_count": 8,
   "id": "552a7f63-a18c-4d3e-bb6a-94f99b431291",
   "metadata": {
    "execution": {
     "iopub.execute_input": "2022-08-02T20:33:17.614617Z",
     "iopub.status.busy": "2022-08-02T20:33:17.614429Z",
     "iopub.status.idle": "2022-08-02T20:33:17.631920Z",
     "shell.execute_reply": "2022-08-02T20:33:17.631541Z"
    },
    "papermill": {
     "duration": 0.02707,
     "end_time": "2022-08-02T20:33:17.633133",
     "exception": false,
     "start_time": "2022-08-02T20:33:17.606063",
     "status": "completed"
    },
    "tags": []
   },
   "outputs": [
    {
     "data": {
      "text/plain": [
       "'S-MultiXcan condition number: 30'"
      ]
     },
     "metadata": {},
     "output_type": "display_data"
    }
   ],
   "source": [
    "assert (\n",
    "    SMULTIXCAN_CONDITION_NUMBER is not None and SMULTIXCAN_CONDITION_NUMBER > 0\n",
    "), \"The S-MultiXcan condition number (positive integer) must be given\"\n",
    "\n",
    "display(f\"S-MultiXcan condition number: {SMULTIXCAN_CONDITION_NUMBER}\")"
   ]
  },
  {
   "cell_type": "code",
   "execution_count": 9,
   "id": "f34a336f-548e-4afe-8955-90eaea4f42c6",
   "metadata": {
    "execution": {
     "iopub.execute_input": "2022-08-02T20:33:17.674842Z",
     "iopub.status.busy": "2022-08-02T20:33:17.674670Z",
     "iopub.status.idle": "2022-08-02T20:33:17.696402Z",
     "shell.execute_reply": "2022-08-02T20:33:17.696015Z"
    },
    "papermill": {
     "duration": 0.056423,
     "end_time": "2022-08-02T20:33:17.697628",
     "exception": false,
     "start_time": "2022-08-02T20:33:17.641205",
     "status": "completed"
    },
    "tags": []
   },
   "outputs": [
    {
     "data": {
      "text/plain": [
       "'Working on chromosome 9'"
      ]
     },
     "metadata": {},
     "output_type": "display_data"
    }
   ],
   "source": [
    "assert CHROMOSOME is not None and (\n",
    "    1 <= CHROMOSOME <= 22\n",
    "), \"You have to select one chromosome (format: number between 1 and 22)\"\n",
    "\n",
    "CHROMOSOME = str(CHROMOSOME)\n",
    "display(f\"Working on chromosome {CHROMOSOME}\")"
   ]
  },
  {
   "cell_type": "code",
   "execution_count": 10,
   "id": "ab8e96e8-06b5-4363-9dcd-dc4d78cc27f7",
   "metadata": {
    "execution": {
     "iopub.execute_input": "2022-08-02T20:33:17.734711Z",
     "iopub.status.busy": "2022-08-02T20:33:17.734527Z",
     "iopub.status.idle": "2022-08-02T20:33:17.758563Z",
     "shell.execute_reply": "2022-08-02T20:33:17.758180Z"
    },
    "papermill": {
     "duration": 0.033729,
     "end_time": "2022-08-02T20:33:17.759806",
     "exception": false,
     "start_time": "2022-08-02T20:33:17.726077",
     "status": "completed"
    },
    "tags": []
   },
   "outputs": [
    {
     "data": {
      "text/plain": [
       "'Compute correlation within distance False'"
      ]
     },
     "metadata": {},
     "output_type": "display_data"
    }
   ],
   "source": [
    "display(f\"Compute correlation within distance {COMPUTE_CORRELATIONS_WITHIN_DISTANCE}\")"
   ]
  },
  {
   "cell_type": "code",
   "execution_count": 11,
   "id": "396392dc-0340-4540-9b02-e182b833f909",
   "metadata": {
    "execution": {
     "iopub.execute_input": "2022-08-02T20:33:17.780989Z",
     "iopub.status.busy": "2022-08-02T20:33:17.780823Z",
     "iopub.status.idle": "2022-08-02T20:33:17.809285Z",
     "shell.execute_reply": "2022-08-02T20:33:17.808913Z"
    },
    "papermill": {
     "duration": 0.040798,
     "end_time": "2022-08-02T20:33:17.810507",
     "exception": false,
     "start_time": "2022-08-02T20:33:17.769709",
     "status": "completed"
    },
    "tags": []
   },
   "outputs": [
    {
     "data": {
      "text/plain": [
       "'Using output dir base: /project/ritchie20/projects/phenoplier/base/results/gls/gene_corrs/cohorts/1000g_eur/1000g/mashr'"
      ]
     },
     "metadata": {},
     "output_type": "display_data"
    }
   ],
   "source": [
    "OUTPUT_DIR_BASE = (\n",
    "    conf.RESULTS[\"GLS\"]\n",
    "    / \"gene_corrs\"\n",
    "    / \"cohorts\"\n",
    "    / COHORT_NAME\n",
    "    / REFERENCE_PANEL.lower()\n",
    "    / EQTL_MODEL.lower()\n",
    ")\n",
    "OUTPUT_DIR_BASE.mkdir(parents=True, exist_ok=True)\n",
    "\n",
    "display(f\"Using output dir base: {OUTPUT_DIR_BASE}\")"
   ]
  },
  {
   "cell_type": "markdown",
   "id": "d2ba085e",
   "metadata": {
    "papermill": {
     "duration": 0.011873,
     "end_time": "2022-08-02T20:33:17.834022",
     "exception": false,
     "start_time": "2022-08-02T20:33:17.822149",
     "status": "completed"
    },
    "tags": []
   },
   "source": [
    "# Load data"
   ]
  },
  {
   "cell_type": "markdown",
   "id": "7dcb8db7",
   "metadata": {
    "papermill": {
     "duration": 0.008186,
     "end_time": "2022-08-02T20:33:17.852732",
     "exception": false,
     "start_time": "2022-08-02T20:33:17.844546",
     "status": "completed"
    },
    "tags": []
   },
   "source": [
    "## GWAS variants"
   ]
  },
  {
   "cell_type": "code",
   "execution_count": 12,
   "id": "29434c4e-8cd3-4b9b-82e4-b5a251d9dd19",
   "metadata": {
    "execution": {
     "iopub.execute_input": "2022-08-02T20:33:17.870439Z",
     "iopub.status.busy": "2022-08-02T20:33:17.870269Z",
     "iopub.status.idle": "2022-08-02T20:33:20.501870Z",
     "shell.execute_reply": "2022-08-02T20:33:20.501333Z"
    },
    "papermill": {
     "duration": 2.642051,
     "end_time": "2022-08-02T20:33:20.503664",
     "exception": false,
     "start_time": "2022-08-02T20:33:17.861613",
     "status": "completed"
    },
    "tags": []
   },
   "outputs": [],
   "source": [
    "with open(OUTPUT_DIR_BASE / \"gwas_variant_ids.pkl\", \"rb\") as handle:\n",
    "    gwas_variants_ids_set = pickle.load(handle)"
   ]
  },
  {
   "cell_type": "code",
   "execution_count": 13,
   "id": "b9d9dec2-4a76-4bf9-bde2-e24c95acb8a0",
   "metadata": {
    "execution": {
     "iopub.execute_input": "2022-08-02T20:33:20.531123Z",
     "iopub.status.busy": "2022-08-02T20:33:20.530921Z",
     "iopub.status.idle": "2022-08-02T20:33:20.844449Z",
     "shell.execute_reply": "2022-08-02T20:33:20.844026Z"
    },
    "papermill": {
     "duration": 0.327027,
     "end_time": "2022-08-02T20:33:20.845830",
     "exception": false,
     "start_time": "2022-08-02T20:33:20.518803",
     "status": "completed"
    },
    "tags": []
   },
   "outputs": [
    {
     "data": {
      "text/plain": [
       "8325729"
      ]
     },
     "execution_count": 13,
     "metadata": {},
     "output_type": "execute_result"
    }
   ],
   "source": [
    "len(gwas_variants_ids_set)"
   ]
  },
  {
   "cell_type": "code",
   "execution_count": 14,
   "id": "4235b06a-6034-4ee4-a0a3-2ae35d122418",
   "metadata": {
    "execution": {
     "iopub.execute_input": "2022-08-02T20:33:20.865808Z",
     "iopub.status.busy": "2022-08-02T20:33:20.865619Z",
     "iopub.status.idle": "2022-08-02T20:33:21.357352Z",
     "shell.execute_reply": "2022-08-02T20:33:21.356880Z"
    },
    "papermill": {
     "duration": 0.503345,
     "end_time": "2022-08-02T20:33:21.358815",
     "exception": false,
     "start_time": "2022-08-02T20:33:20.855470",
     "status": "completed"
    },
    "tags": []
   },
   "outputs": [
    {
     "data": {
      "text/plain": [
       "['chr11_50281379_T_A_b38',\n",
       " 'chr1_118636280_T_G_b38',\n",
       " 'chr1_224502502_C_T_b38',\n",
       " 'chr2_202225665_G_A_b38',\n",
       " 'chr15_98801652_G_A_b38']"
      ]
     },
     "execution_count": 14,
     "metadata": {},
     "output_type": "execute_result"
    }
   ],
   "source": [
    "list(gwas_variants_ids_set)[:5]"
   ]
  },
  {
   "cell_type": "markdown",
   "id": "07866999-2305-41f9-a144-e69c9122c212",
   "metadata": {
    "papermill": {
     "duration": 0.020598,
     "end_time": "2022-08-02T20:33:21.397542",
     "exception": false,
     "start_time": "2022-08-02T20:33:21.376944",
     "status": "completed"
    },
    "tags": []
   },
   "source": [
    "## S-PrediXcan tissue models"
   ]
  },
  {
   "cell_type": "code",
   "execution_count": 15,
   "id": "780611d9-77c8-405f-90a4-f271f7b09397",
   "metadata": {
    "execution": {
     "iopub.execute_input": "2022-08-02T20:33:21.426922Z",
     "iopub.status.busy": "2022-08-02T20:33:21.426675Z",
     "iopub.status.idle": "2022-08-02T20:33:22.397394Z",
     "shell.execute_reply": "2022-08-02T20:33:22.396670Z"
    },
    "papermill": {
     "duration": 0.988625,
     "end_time": "2022-08-02T20:33:22.399284",
     "exception": false,
     "start_time": "2022-08-02T20:33:21.410659",
     "status": "completed"
    },
    "tags": []
   },
   "outputs": [],
   "source": [
    "spredixcan_genes_models = pd.read_pickle(OUTPUT_DIR_BASE / \"gene_tissues.pkl\")"
   ]
  },
  {
   "cell_type": "code",
   "execution_count": 16,
   "id": "726dd1f6-9557-4225-91fa-b3b879ea96e1",
   "metadata": {
    "execution": {
     "iopub.execute_input": "2022-08-02T20:33:22.418449Z",
     "iopub.status.busy": "2022-08-02T20:33:22.418230Z",
     "iopub.status.idle": "2022-08-02T20:33:22.440885Z",
     "shell.execute_reply": "2022-08-02T20:33:22.440490Z"
    },
    "papermill": {
     "duration": 0.033661,
     "end_time": "2022-08-02T20:33:22.442159",
     "exception": false,
     "start_time": "2022-08-02T20:33:22.408498",
     "status": "completed"
    },
    "tags": []
   },
   "outputs": [
    {
     "data": {
      "text/plain": [
       "(6444, 10)"
      ]
     },
     "execution_count": 16,
     "metadata": {},
     "output_type": "execute_result"
    }
   ],
   "source": [
    "spredixcan_genes_models.shape"
   ]
  },
  {
   "cell_type": "code",
   "execution_count": 17,
   "id": "944a1b48-222c-4eb0-b252-b9de2cbca215",
   "metadata": {
    "execution": {
     "iopub.execute_input": "2022-08-02T20:33:22.460851Z",
     "iopub.status.busy": "2022-08-02T20:33:22.460666Z",
     "iopub.status.idle": "2022-08-02T20:33:22.493769Z",
     "shell.execute_reply": "2022-08-02T20:33:22.493383Z"
    },
    "papermill": {
     "duration": 0.043974,
     "end_time": "2022-08-02T20:33:22.494984",
     "exception": false,
     "start_time": "2022-08-02T20:33:22.451010",
     "status": "completed"
    },
    "tags": []
   },
   "outputs": [
    {
     "data": {
      "text/html": [
       "<div>\n",
       "<style scoped>\n",
       "    .dataframe tbody tr th:only-of-type {\n",
       "        vertical-align: middle;\n",
       "    }\n",
       "\n",
       "    .dataframe tbody tr th {\n",
       "        vertical-align: top;\n",
       "    }\n",
       "\n",
       "    .dataframe thead th {\n",
       "        text-align: right;\n",
       "    }\n",
       "</style>\n",
       "<table border=\"1\" class=\"dataframe\">\n",
       "  <thead>\n",
       "    <tr style=\"text-align: right;\">\n",
       "      <th></th>\n",
       "      <th>gene_name</th>\n",
       "      <th>tissue</th>\n",
       "      <th>n_tissues</th>\n",
       "      <th>tissues_pc_variances</th>\n",
       "      <th>tissues_pc_variances_cov</th>\n",
       "      <th>tissues_variances</th>\n",
       "      <th>n_snps_used_sum</th>\n",
       "      <th>n_snps_in_model_sum</th>\n",
       "      <th>unique_n_snps_in_model</th>\n",
       "      <th>unique_n_snps_used</th>\n",
       "    </tr>\n",
       "    <tr>\n",
       "      <th>gene_id</th>\n",
       "      <th></th>\n",
       "      <th></th>\n",
       "      <th></th>\n",
       "      <th></th>\n",
       "      <th></th>\n",
       "      <th></th>\n",
       "      <th></th>\n",
       "      <th></th>\n",
       "      <th></th>\n",
       "      <th></th>\n",
       "    </tr>\n",
       "  </thead>\n",
       "  <tbody>\n",
       "    <tr>\n",
       "      <th>ENSG00000000419</th>\n",
       "      <td>DPM1</td>\n",
       "      <td>(Brain_Substantia_nigra, Brain_Hypothalamus)</td>\n",
       "      <td>2</td>\n",
       "      <td>[1.0372585612589562, 0.9627414387410438]</td>\n",
       "      <td>[0.008284978865240098, 0.000732674839341259]</td>\n",
       "      <td>{'Brain_Substantia_nigra': 0.00073379232755585...</td>\n",
       "      <td>2</td>\n",
       "      <td>2</td>\n",
       "      <td>2</td>\n",
       "      <td>2</td>\n",
       "    </tr>\n",
       "    <tr>\n",
       "      <th>ENSG00000000938</th>\n",
       "      <td>FGR</td>\n",
       "      <td>(Liver, Muscle_Skeletal, Brain_Nucleus_accumbe...</td>\n",
       "      <td>36</td>\n",
       "      <td>[30.57880701512375, 2.029732645600111, 1.40179...</td>\n",
       "      <td>[0.22478471249969334, 0.00881387381303179]</td>\n",
       "      <td>{'Brain_Cerebellum': 0.020204550992367513, 'Ne...</td>\n",
       "      <td>40</td>\n",
       "      <td>40</td>\n",
       "      <td>5</td>\n",
       "      <td>5</td>\n",
       "    </tr>\n",
       "    <tr>\n",
       "      <th>ENSG00000000971</th>\n",
       "      <td>CFH</td>\n",
       "      <td>(Kidney_Cortex, Esophagus_Muscularis, Colon_Si...</td>\n",
       "      <td>34</td>\n",
       "      <td>[20.77260827663932, 8.17715814232484, 1.864649...</td>\n",
       "      <td>[0.19699534279580108, 0.05731825316349161, 0.0...</td>\n",
       "      <td>{'Brain_Cerebellum': 0.0042432870992385, 'Nerv...</td>\n",
       "      <td>44</td>\n",
       "      <td>44</td>\n",
       "      <td>12</td>\n",
       "      <td>12</td>\n",
       "    </tr>\n",
       "    <tr>\n",
       "      <th>ENSG00000001084</th>\n",
       "      <td>GCLC</td>\n",
       "      <td>(Muscle_Skeletal, Brain_Nucleus_accumbens_basa...</td>\n",
       "      <td>32</td>\n",
       "      <td>[20.976449940269084, 4.772354749306766, 2.2362...</td>\n",
       "      <td>[0.36578096389253945, 0.12645413710424552, 0.0...</td>\n",
       "      <td>{'Brain_Cerebellum': 0.03163805534230767, 'Ner...</td>\n",
       "      <td>46</td>\n",
       "      <td>46</td>\n",
       "      <td>23</td>\n",
       "      <td>23</td>\n",
       "    </tr>\n",
       "    <tr>\n",
       "      <th>ENSG00000001167</th>\n",
       "      <td>NFYA</td>\n",
       "      <td>(Muscle_Skeletal, Brain_Nucleus_accumbens_basa...</td>\n",
       "      <td>40</td>\n",
       "      <td>[37.638369782404986]</td>\n",
       "      <td>[1.4787144508923995, 0.049690618387739104]</td>\n",
       "      <td>{'Brain_Cerebellum': 0.1311467889326876, 'Nerv...</td>\n",
       "      <td>47</td>\n",
       "      <td>48</td>\n",
       "      <td>14</td>\n",
       "      <td>13</td>\n",
       "    </tr>\n",
       "  </tbody>\n",
       "</table>\n",
       "</div>"
      ],
      "text/plain": [
       "                gene_name                                             tissue  \\\n",
       "gene_id                                                                        \n",
       "ENSG00000000419      DPM1       (Brain_Substantia_nigra, Brain_Hypothalamus)   \n",
       "ENSG00000000938       FGR  (Liver, Muscle_Skeletal, Brain_Nucleus_accumbe...   \n",
       "ENSG00000000971       CFH  (Kidney_Cortex, Esophagus_Muscularis, Colon_Si...   \n",
       "ENSG00000001084      GCLC  (Muscle_Skeletal, Brain_Nucleus_accumbens_basa...   \n",
       "ENSG00000001167      NFYA  (Muscle_Skeletal, Brain_Nucleus_accumbens_basa...   \n",
       "\n",
       "                 n_tissues                               tissues_pc_variances  \\\n",
       "gene_id                                                                         \n",
       "ENSG00000000419          2           [1.0372585612589562, 0.9627414387410438]   \n",
       "ENSG00000000938         36  [30.57880701512375, 2.029732645600111, 1.40179...   \n",
       "ENSG00000000971         34  [20.77260827663932, 8.17715814232484, 1.864649...   \n",
       "ENSG00000001084         32  [20.976449940269084, 4.772354749306766, 2.2362...   \n",
       "ENSG00000001167         40                               [37.638369782404986]   \n",
       "\n",
       "                                          tissues_pc_variances_cov  \\\n",
       "gene_id                                                              \n",
       "ENSG00000000419       [0.008284978865240098, 0.000732674839341259]   \n",
       "ENSG00000000938         [0.22478471249969334, 0.00881387381303179]   \n",
       "ENSG00000000971  [0.19699534279580108, 0.05731825316349161, 0.0...   \n",
       "ENSG00000001084  [0.36578096389253945, 0.12645413710424552, 0.0...   \n",
       "ENSG00000001167         [1.4787144508923995, 0.049690618387739104]   \n",
       "\n",
       "                                                 tissues_variances  \\\n",
       "gene_id                                                              \n",
       "ENSG00000000419  {'Brain_Substantia_nigra': 0.00073379232755585...   \n",
       "ENSG00000000938  {'Brain_Cerebellum': 0.020204550992367513, 'Ne...   \n",
       "ENSG00000000971  {'Brain_Cerebellum': 0.0042432870992385, 'Nerv...   \n",
       "ENSG00000001084  {'Brain_Cerebellum': 0.03163805534230767, 'Ner...   \n",
       "ENSG00000001167  {'Brain_Cerebellum': 0.1311467889326876, 'Nerv...   \n",
       "\n",
       "                 n_snps_used_sum  n_snps_in_model_sum  unique_n_snps_in_model  \\\n",
       "gene_id                                                                         \n",
       "ENSG00000000419                2                    2                       2   \n",
       "ENSG00000000938               40                   40                       5   \n",
       "ENSG00000000971               44                   44                      12   \n",
       "ENSG00000001084               46                   46                      23   \n",
       "ENSG00000001167               47                   48                      14   \n",
       "\n",
       "                 unique_n_snps_used  \n",
       "gene_id                              \n",
       "ENSG00000000419                   2  \n",
       "ENSG00000000938                   5  \n",
       "ENSG00000000971                  12  \n",
       "ENSG00000001084                  23  \n",
       "ENSG00000001167                  13  "
      ]
     },
     "execution_count": 17,
     "metadata": {},
     "output_type": "execute_result"
    }
   ],
   "source": [
    "spredixcan_genes_models.head()"
   ]
  },
  {
   "cell_type": "code",
   "execution_count": 18,
   "id": "d1c11bb1-be0b-4f40-b360-633d6827109f",
   "metadata": {
    "execution": {
     "iopub.execute_input": "2022-08-02T20:33:22.513346Z",
     "iopub.status.busy": "2022-08-02T20:33:22.513163Z",
     "iopub.status.idle": "2022-08-02T20:33:22.530025Z",
     "shell.execute_reply": "2022-08-02T20:33:22.529655Z"
    },
    "papermill": {
     "duration": 0.027586,
     "end_time": "2022-08-02T20:33:22.531335",
     "exception": false,
     "start_time": "2022-08-02T20:33:22.503749",
     "status": "completed"
    },
    "tags": []
   },
   "outputs": [],
   "source": [
    "assert spredixcan_genes_models.index.is_unique"
   ]
  },
  {
   "cell_type": "markdown",
   "id": "a5b5092c-a13e-47c4-a92a-480fcc08f3ae",
   "metadata": {
    "papermill": {
     "duration": 0.008733,
     "end_time": "2022-08-02T20:33:22.548854",
     "exception": false,
     "start_time": "2022-08-02T20:33:22.540121",
     "status": "completed"
    },
    "tags": []
   },
   "source": [
    "## Gene info"
   ]
  },
  {
   "cell_type": "code",
   "execution_count": 19,
   "id": "7d6bb224-88e9-4358-ac10-43a41d92cdad",
   "metadata": {
    "execution": {
     "iopub.execute_input": "2022-08-02T20:33:22.567458Z",
     "iopub.status.busy": "2022-08-02T20:33:22.567275Z",
     "iopub.status.idle": "2022-08-02T20:33:22.587724Z",
     "shell.execute_reply": "2022-08-02T20:33:22.587334Z"
    },
    "papermill": {
     "duration": 0.031274,
     "end_time": "2022-08-02T20:33:22.589060",
     "exception": false,
     "start_time": "2022-08-02T20:33:22.557786",
     "status": "completed"
    },
    "tags": []
   },
   "outputs": [],
   "source": [
    "genes_info = pd.read_pickle(OUTPUT_DIR_BASE / \"genes_info.pkl\")"
   ]
  },
  {
   "cell_type": "code",
   "execution_count": 20,
   "id": "9e32abfa-546d-483e-8c18-d526e9e05903",
   "metadata": {
    "execution": {
     "iopub.execute_input": "2022-08-02T20:33:22.609169Z",
     "iopub.status.busy": "2022-08-02T20:33:22.608984Z",
     "iopub.status.idle": "2022-08-02T20:33:22.626655Z",
     "shell.execute_reply": "2022-08-02T20:33:22.626271Z"
    },
    "papermill": {
     "duration": 0.02918,
     "end_time": "2022-08-02T20:33:22.627848",
     "exception": false,
     "start_time": "2022-08-02T20:33:22.598668",
     "status": "completed"
    },
    "tags": []
   },
   "outputs": [
    {
     "data": {
      "text/plain": [
       "(6444, 7)"
      ]
     },
     "execution_count": 20,
     "metadata": {},
     "output_type": "execute_result"
    }
   ],
   "source": [
    "genes_info.shape"
   ]
  },
  {
   "cell_type": "code",
   "execution_count": 21,
   "id": "d16c3e92-85ec-468a-9a56-e25a9774a1cb",
   "metadata": {
    "execution": {
     "iopub.execute_input": "2022-08-02T20:33:22.646067Z",
     "iopub.status.busy": "2022-08-02T20:33:22.645886Z",
     "iopub.status.idle": "2022-08-02T20:33:22.668292Z",
     "shell.execute_reply": "2022-08-02T20:33:22.667911Z"
    },
    "papermill": {
     "duration": 0.032979,
     "end_time": "2022-08-02T20:33:22.669518",
     "exception": false,
     "start_time": "2022-08-02T20:33:22.636539",
     "status": "completed"
    },
    "tags": []
   },
   "outputs": [
    {
     "data": {
      "text/html": [
       "<div>\n",
       "<style scoped>\n",
       "    .dataframe tbody tr th:only-of-type {\n",
       "        vertical-align: middle;\n",
       "    }\n",
       "\n",
       "    .dataframe tbody tr th {\n",
       "        vertical-align: top;\n",
       "    }\n",
       "\n",
       "    .dataframe thead th {\n",
       "        text-align: right;\n",
       "    }\n",
       "</style>\n",
       "<table border=\"1\" class=\"dataframe\">\n",
       "  <thead>\n",
       "    <tr style=\"text-align: right;\">\n",
       "      <th></th>\n",
       "      <th>name</th>\n",
       "      <th>id</th>\n",
       "      <th>chr</th>\n",
       "      <th>band</th>\n",
       "      <th>start_position</th>\n",
       "      <th>end_position</th>\n",
       "      <th>gene_length</th>\n",
       "    </tr>\n",
       "  </thead>\n",
       "  <tbody>\n",
       "    <tr>\n",
       "      <th>0</th>\n",
       "      <td>CDC14B</td>\n",
       "      <td>ENSG00000081377</td>\n",
       "      <td>9</td>\n",
       "      <td>9q22.33</td>\n",
       "      <td>96490241.0</td>\n",
       "      <td>96619830.0</td>\n",
       "      <td>129589.0</td>\n",
       "    </tr>\n",
       "    <tr>\n",
       "      <th>1</th>\n",
       "      <td>DOCK3</td>\n",
       "      <td>ENSG00000088538</td>\n",
       "      <td>3</td>\n",
       "      <td>3p21.2</td>\n",
       "      <td>50674927.0</td>\n",
       "      <td>51384198.0</td>\n",
       "      <td>709271.0</td>\n",
       "    </tr>\n",
       "    <tr>\n",
       "      <th>2</th>\n",
       "      <td>SLCO4C1</td>\n",
       "      <td>ENSG00000173930</td>\n",
       "      <td>5</td>\n",
       "      <td>5q21.1</td>\n",
       "      <td>102233986.0</td>\n",
       "      <td>102296284.0</td>\n",
       "      <td>62298.0</td>\n",
       "    </tr>\n",
       "    <tr>\n",
       "      <th>3</th>\n",
       "      <td>UST</td>\n",
       "      <td>ENSG00000111962</td>\n",
       "      <td>6</td>\n",
       "      <td>6q25.1</td>\n",
       "      <td>148747030.0</td>\n",
       "      <td>149076990.0</td>\n",
       "      <td>329960.0</td>\n",
       "    </tr>\n",
       "    <tr>\n",
       "      <th>4</th>\n",
       "      <td>CFH</td>\n",
       "      <td>ENSG00000000971</td>\n",
       "      <td>1</td>\n",
       "      <td>1q31.3</td>\n",
       "      <td>196651878.0</td>\n",
       "      <td>196747504.0</td>\n",
       "      <td>95626.0</td>\n",
       "    </tr>\n",
       "  </tbody>\n",
       "</table>\n",
       "</div>"
      ],
      "text/plain": [
       "      name               id chr     band  start_position  end_position  \\\n",
       "0   CDC14B  ENSG00000081377   9  9q22.33      96490241.0    96619830.0   \n",
       "1    DOCK3  ENSG00000088538   3   3p21.2      50674927.0    51384198.0   \n",
       "2  SLCO4C1  ENSG00000173930   5   5q21.1     102233986.0   102296284.0   \n",
       "3      UST  ENSG00000111962   6   6q25.1     148747030.0   149076990.0   \n",
       "4      CFH  ENSG00000000971   1   1q31.3     196651878.0   196747504.0   \n",
       "\n",
       "   gene_length  \n",
       "0     129589.0  \n",
       "1     709271.0  \n",
       "2      62298.0  \n",
       "3     329960.0  \n",
       "4      95626.0  "
      ]
     },
     "execution_count": 21,
     "metadata": {},
     "output_type": "execute_result"
    }
   ],
   "source": [
    "genes_info.head()"
   ]
  },
  {
   "cell_type": "markdown",
   "id": "d3843e06",
   "metadata": {
    "papermill": {
     "duration": 0.008788,
     "end_time": "2022-08-02T20:33:22.687882",
     "exception": false,
     "start_time": "2022-08-02T20:33:22.679094",
     "status": "completed"
    },
    "tags": []
   },
   "source": [
    "# Compute correlations"
   ]
  },
  {
   "cell_type": "code",
   "execution_count": 22,
   "id": "cb859c15-d1f3-4006-a74c-2b83c0db9611",
   "metadata": {
    "execution": {
     "iopub.execute_input": "2022-08-02T20:33:22.707050Z",
     "iopub.status.busy": "2022-08-02T20:33:22.706867Z",
     "iopub.status.idle": "2022-08-02T20:33:22.725493Z",
     "shell.execute_reply": "2022-08-02T20:33:22.725122Z"
    },
    "papermill": {
     "duration": 0.029228,
     "end_time": "2022-08-02T20:33:22.726681",
     "exception": false,
     "start_time": "2022-08-02T20:33:22.697453",
     "status": "completed"
    },
    "tags": []
   },
   "outputs": [
    {
     "data": {
      "text/plain": [
       "PosixPath('/project/ritchie20/projects/phenoplier/base/results/gls/gene_corrs/cohorts/1000g_eur/1000g/mashr/by_chr/gene_corrs-chr9.pkl')"
      ]
     },
     "metadata": {},
     "output_type": "display_data"
    }
   ],
   "source": [
    "output_dir = OUTPUT_DIR_BASE / \"by_chr\"\n",
    "output_dir.mkdir(exist_ok=True, parents=True)\n",
    "output_file = output_dir / f\"gene_corrs-chr{CHROMOSOME}.pkl\"\n",
    "display(output_file)"
   ]
  },
  {
   "cell_type": "code",
   "execution_count": 23,
   "id": "aa674fe4-6794-4eed-98fa-32b39d1d4ace",
   "metadata": {
    "execution": {
     "iopub.execute_input": "2022-08-02T20:33:22.746109Z",
     "iopub.status.busy": "2022-08-02T20:33:22.745938Z",
     "iopub.status.idle": "2022-08-02T20:33:22.762374Z",
     "shell.execute_reply": "2022-08-02T20:33:22.761991Z"
    },
    "papermill": {
     "duration": 0.027922,
     "end_time": "2022-08-02T20:33:22.763716",
     "exception": false,
     "start_time": "2022-08-02T20:33:22.735794",
     "status": "completed"
    },
    "tags": []
   },
   "outputs": [],
   "source": [
    "warnings.filterwarnings(\"error\")"
   ]
  },
  {
   "cell_type": "code",
   "execution_count": 24,
   "id": "44d5450b-3baf-43f1-9e2e-4b06f1a785f8",
   "metadata": {
    "execution": {
     "iopub.execute_input": "2022-08-02T20:33:22.783109Z",
     "iopub.status.busy": "2022-08-02T20:33:22.782937Z",
     "iopub.status.idle": "2022-08-02T20:33:22.800478Z",
     "shell.execute_reply": "2022-08-02T20:33:22.800101Z"
    },
    "papermill": {
     "duration": 0.028446,
     "end_time": "2022-08-02T20:33:22.801814",
     "exception": false,
     "start_time": "2022-08-02T20:33:22.773368",
     "status": "completed"
    },
    "tags": []
   },
   "outputs": [],
   "source": [
    "# standard checks\n",
    "all_chrs = genes_info[\"chr\"].dropna().unique()\n",
    "assert all_chrs.shape[0] == 22\n",
    "\n",
    "# select chromosome given by the user\n",
    "assert CHROMOSOME in all_chrs"
   ]
  },
  {
   "cell_type": "code",
   "execution_count": 25,
   "id": "2d7c043c-92a7-4d35-991b-fa69ac1e0268",
   "metadata": {
    "execution": {
     "iopub.execute_input": "2022-08-02T20:33:22.821317Z",
     "iopub.status.busy": "2022-08-02T20:33:22.821147Z",
     "iopub.status.idle": "2022-08-02T20:33:22.840117Z",
     "shell.execute_reply": "2022-08-02T20:33:22.839740Z"
    },
    "papermill": {
     "duration": 0.030233,
     "end_time": "2022-08-02T20:33:22.841312",
     "exception": false,
     "start_time": "2022-08-02T20:33:22.811079",
     "status": "completed"
    },
    "tags": []
   },
   "outputs": [
    {
     "name": "stdout",
     "output_type": "stream",
     "text": [
      "Number of genes in chromosome: 245\n"
     ]
    }
   ],
   "source": [
    "# run only on the chromosome specified\n",
    "all_chrs = [CHROMOSOME]\n",
    "genes_chr = genes_info[genes_info[\"chr\"] == CHROMOSOME]\n",
    "\n",
    "# For testing purposes\n",
    "# genes_chr = genes_chr.sample(n=20)\n",
    "\n",
    "print(f\"Number of genes in chromosome: {genes_chr.shape[0]}\", flush=True)"
   ]
  },
  {
   "cell_type": "code",
   "execution_count": 26,
   "id": "916015d8-2979-46d3-a9b9-1cf5a0932c6a",
   "metadata": {
    "execution": {
     "iopub.execute_input": "2022-08-02T20:33:22.860522Z",
     "iopub.status.busy": "2022-08-02T20:33:22.860351Z",
     "iopub.status.idle": "2022-08-02T20:33:22.876766Z",
     "shell.execute_reply": "2022-08-02T20:33:22.876379Z"
    },
    "papermill": {
     "duration": 0.02755,
     "end_time": "2022-08-02T20:33:22.878081",
     "exception": false,
     "start_time": "2022-08-02T20:33:22.850531",
     "status": "completed"
    },
    "tags": []
   },
   "outputs": [],
   "source": [
    "# sort genes by starting position to make visualizations better later\n",
    "genes_chr = genes_chr.sort_values(\"start_position\")"
   ]
  },
  {
   "cell_type": "code",
   "execution_count": 27,
   "id": "a38aa74a-8ad3-47f6-8ef9-56be0e011774",
   "metadata": {
    "execution": {
     "iopub.execute_input": "2022-08-02T20:33:22.897436Z",
     "iopub.status.busy": "2022-08-02T20:33:22.897253Z",
     "iopub.status.idle": "2022-08-02T20:33:22.913958Z",
     "shell.execute_reply": "2022-08-02T20:33:22.913572Z"
    },
    "papermill": {
     "duration": 0.027831,
     "end_time": "2022-08-02T20:33:22.915272",
     "exception": false,
     "start_time": "2022-08-02T20:33:22.887441",
     "status": "completed"
    },
    "tags": []
   },
   "outputs": [],
   "source": [
    "gene_chr_objs = [Gene(ensembl_id=gene_id) for gene_id in genes_chr[\"id\"]]"
   ]
  },
  {
   "cell_type": "code",
   "execution_count": 28,
   "id": "570f974f-13c3-42b6-ad3a-ce99ca885c1a",
   "metadata": {
    "execution": {
     "iopub.execute_input": "2022-08-02T20:33:22.935363Z",
     "iopub.status.busy": "2022-08-02T20:33:22.935183Z",
     "iopub.status.idle": "2022-08-02T20:33:22.952893Z",
     "shell.execute_reply": "2022-08-02T20:33:22.952511Z"
    },
    "papermill": {
     "duration": 0.029084,
     "end_time": "2022-08-02T20:33:22.954212",
     "exception": false,
     "start_time": "2022-08-02T20:33:22.925128",
     "status": "completed"
    },
    "tags": []
   },
   "outputs": [
    {
     "name": "stdout",
     "output_type": "stream",
     "text": [
      "Number of gene combinations: 29890\n"
     ]
    }
   ],
   "source": [
    "n = len(gene_chr_objs)\n",
    "n_comb = int(n * (n - 1) / 2.0)\n",
    "print(f\"Number of gene combinations: {n_comb}\", flush=True)"
   ]
  },
  {
   "cell_type": "code",
   "execution_count": 29,
   "id": "cdbb90a1",
   "metadata": {
    "execution": {
     "iopub.execute_input": "2022-08-02T20:33:22.976121Z",
     "iopub.status.busy": "2022-08-02T20:33:22.975924Z",
     "iopub.status.idle": "2022-08-02T21:05:08.910120Z",
     "shell.execute_reply": "2022-08-02T21:05:08.908465Z"
    },
    "papermill": {
     "duration": 1905.950547,
     "end_time": "2022-08-02T21:05:08.914417",
     "exception": false,
     "start_time": "2022-08-02T20:33:22.963870",
     "status": "completed"
    },
    "tags": []
   },
   "outputs": [
    {
     "name": "stderr",
     "output_type": "stream",
     "text": [
      "ENSG00000182154 / ENSG00000181090: 100%|██████████████████████| 29890/29890 [31:45<00:00, 15.68it/s]\n"
     ]
    },
    {
     "data": {
      "text/plain": [
       "PosixPath('/project/ritchie20/projects/phenoplier/base/results/gls/gene_corrs/cohorts/1000g_eur/1000g/mashr/by_chr/gene_corrs-chr9.pkl')"
      ]
     },
     "metadata": {},
     "output_type": "display_data"
    }
   ],
   "source": [
    "gene_corrs = []\n",
    "\n",
    "i = 0\n",
    "with tqdm(ncols=100, total=n_comb) as pbar:\n",
    "    for gene1_idx in range(0, len(gene_chr_objs) - 1):\n",
    "        gene1_obj = gene_chr_objs[gene1_idx]\n",
    "        gene1_tissues = spredixcan_genes_models.loc[gene1_obj.ensembl_id, \"tissue\"]\n",
    "\n",
    "        for gene2_idx in range(gene1_idx + 1, len(gene_chr_objs)):\n",
    "            gene2_obj = gene_chr_objs[gene2_idx]\n",
    "            gene2_tissues = spredixcan_genes_models.loc[gene2_obj.ensembl_id, \"tissue\"]\n",
    "\n",
    "            pbar.set_description(f\"{gene1_obj.ensembl_id} / {gene2_obj.ensembl_id}\")\n",
    "\n",
    "            try:\n",
    "                r = gene1_obj.get_ssm_correlation(\n",
    "                    other_gene=gene2_obj,\n",
    "                    tissues=gene1_tissues,\n",
    "                    other_tissues=gene2_tissues,\n",
    "                    snps_subset=gwas_variants_ids_set,\n",
    "                    condition_number=SMULTIXCAN_CONDITION_NUMBER,\n",
    "                    reference_panel=REFERENCE_PANEL,\n",
    "                    model_type=EQTL_MODEL,\n",
    "                    use_within_distance=COMPUTE_CORRELATIONS_WITHIN_DISTANCE,\n",
    "                )\n",
    "\n",
    "                if r is None:\n",
    "                    # if r is None, it's very likely because:\n",
    "                    #  * one of the genes has no prediction models\n",
    "                    #  * all the SNPs predictors for the gene are not present in the reference\n",
    "                    #    panel\n",
    "\n",
    "                    r = 0.0\n",
    "\n",
    "                gene_corrs.append(r)\n",
    "            except Warning as e:\n",
    "                if not DEBUG_MODE:\n",
    "                    raise e\n",
    "\n",
    "                print(\n",
    "                    f\"RuntimeWarning for genes {gene1_obj.ensembl_id} and {gene2_obj.ensembl_id}\",\n",
    "                    flush=True,\n",
    "                )\n",
    "                print(traceback.format_exc(), flush=True)\n",
    "\n",
    "                gene_corrs.append(np.nan)\n",
    "            except Exception as e:\n",
    "                if not DEBUG_MODE:\n",
    "                    raise e\n",
    "\n",
    "                print(\n",
    "                    f\"Exception for genes {gene1_obj.ensembl_id} and {gene2_obj.ensembl_id}\",\n",
    "                    flush=True,\n",
    "                )\n",
    "                print(traceback.format_exc(), flush=True)\n",
    "\n",
    "                gene_corrs.append(np.nan)\n",
    "\n",
    "            pbar.update(1)\n",
    "\n",
    "# create a pandas series\n",
    "gene_corrs_flat = pd.Series(gene_corrs)\n",
    "\n",
    "# save\n",
    "# FIXME: consider saving only the condenced matrix here. See here for\n",
    "# more details: https://github.com/greenelab/phenoplier/pull/38#discussion_r634600813\n",
    "gene_corrs_data = squareform(np.array(gene_corrs, dtype=np.float64))\n",
    "np.fill_diagonal(gene_corrs_data, 1.0)\n",
    "\n",
    "gene_chr_ids = [g.ensembl_id for g in gene_chr_objs]\n",
    "gene_corrs_df = pd.DataFrame(\n",
    "    data=gene_corrs_data,\n",
    "    index=gene_chr_ids,\n",
    "    columns=gene_chr_ids,\n",
    ")\n",
    "\n",
    "output_dir.mkdir(exist_ok=True, parents=True)\n",
    "display(output_file)\n",
    "\n",
    "gene_corrs_df.to_pickle(output_file)"
   ]
  },
  {
   "cell_type": "markdown",
   "id": "faa67b51-5373-470f-aa72-2ded53fa6dfe",
   "metadata": {
    "papermill": {
     "duration": 1.479731,
     "end_time": "2022-08-02T21:05:11.998412",
     "exception": false,
     "start_time": "2022-08-02T21:05:10.518681",
     "status": "completed"
    },
    "tags": []
   },
   "source": [
    "# Testing"
   ]
  },
  {
   "cell_type": "code",
   "execution_count": 30,
   "id": "14f7d046-4b55-4896-a56b-990127bcc388",
   "metadata": {
    "execution": {
     "iopub.execute_input": "2022-08-02T21:05:14.955329Z",
     "iopub.status.busy": "2022-08-02T21:05:14.955075Z",
     "iopub.status.idle": "2022-08-02T21:05:15.146680Z",
     "shell.execute_reply": "2022-08-02T21:05:15.146260Z"
    },
    "papermill": {
     "duration": 1.695336,
     "end_time": "2022-08-02T21:05:15.147984",
     "exception": false,
     "start_time": "2022-08-02T21:05:13.452648",
     "status": "completed"
    },
    "tags": []
   },
   "outputs": [
    {
     "data": {
      "text/plain": [
       "(245, 245)"
      ]
     },
     "execution_count": 30,
     "metadata": {},
     "output_type": "execute_result"
    }
   ],
   "source": [
    "gene_corrs_df.shape"
   ]
  },
  {
   "cell_type": "code",
   "execution_count": 31,
   "id": "c7d15414-3297-4537-a7c6-7588c0baeb75",
   "metadata": {
    "execution": {
     "iopub.execute_input": "2022-08-02T21:05:18.128817Z",
     "iopub.status.busy": "2022-08-02T21:05:18.128563Z",
     "iopub.status.idle": "2022-08-02T21:05:18.160038Z",
     "shell.execute_reply": "2022-08-02T21:05:18.159609Z"
    },
    "papermill": {
     "duration": 1.491798,
     "end_time": "2022-08-02T21:05:18.161311",
     "exception": false,
     "start_time": "2022-08-02T21:05:16.669513",
     "status": "completed"
    },
    "tags": []
   },
   "outputs": [
    {
     "data": {
      "text/html": [
       "<div>\n",
       "<style scoped>\n",
       "    .dataframe tbody tr th:only-of-type {\n",
       "        vertical-align: middle;\n",
       "    }\n",
       "\n",
       "    .dataframe tbody tr th {\n",
       "        vertical-align: top;\n",
       "    }\n",
       "\n",
       "    .dataframe thead th {\n",
       "        text-align: right;\n",
       "    }\n",
       "</style>\n",
       "<table border=\"1\" class=\"dataframe\">\n",
       "  <thead>\n",
       "    <tr style=\"text-align: right;\">\n",
       "      <th></th>\n",
       "      <th>ENSG00000107099</th>\n",
       "      <th>ENSG00000080503</th>\n",
       "      <th>ENSG00000147852</th>\n",
       "      <th>ENSG00000107249</th>\n",
       "      <th>ENSG00000147853</th>\n",
       "      <th>ENSG00000096968</th>\n",
       "      <th>ENSG00000107014</th>\n",
       "      <th>ENSG00000120217</th>\n",
       "      <th>ENSG00000197646</th>\n",
       "      <th>ENSG00000178445</th>\n",
       "      <th>...</th>\n",
       "      <th>ENSG00000107317</th>\n",
       "      <th>ENSG00000169583</th>\n",
       "      <th>ENSG00000107331</th>\n",
       "      <th>ENSG00000054179</th>\n",
       "      <th>ENSG00000177239</th>\n",
       "      <th>ENSG00000176248</th>\n",
       "      <th>ENSG00000176101</th>\n",
       "      <th>ENSG00000188747</th>\n",
       "      <th>ENSG00000182154</th>\n",
       "      <th>ENSG00000181090</th>\n",
       "    </tr>\n",
       "  </thead>\n",
       "  <tbody>\n",
       "    <tr>\n",
       "      <th>ENSG00000107099</th>\n",
       "      <td>1.000000</td>\n",
       "      <td>0.010578</td>\n",
       "      <td>0.028120</td>\n",
       "      <td>0.011640</td>\n",
       "      <td>0.017930</td>\n",
       "      <td>0.010548</td>\n",
       "      <td>0.006667</td>\n",
       "      <td>0.013394</td>\n",
       "      <td>0.008972</td>\n",
       "      <td>0.011997</td>\n",
       "      <td>...</td>\n",
       "      <td>0.009464</td>\n",
       "      <td>0.015654</td>\n",
       "      <td>0.011517</td>\n",
       "      <td>0.011900</td>\n",
       "      <td>0.009459</td>\n",
       "      <td>0.004668</td>\n",
       "      <td>0.003919</td>\n",
       "      <td>0.010221</td>\n",
       "      <td>0.004733</td>\n",
       "      <td>0.007673</td>\n",
       "    </tr>\n",
       "    <tr>\n",
       "      <th>ENSG00000080503</th>\n",
       "      <td>0.010578</td>\n",
       "      <td>1.000000</td>\n",
       "      <td>0.019059</td>\n",
       "      <td>0.012062</td>\n",
       "      <td>0.010278</td>\n",
       "      <td>0.011658</td>\n",
       "      <td>0.008593</td>\n",
       "      <td>0.013771</td>\n",
       "      <td>0.007175</td>\n",
       "      <td>0.011470</td>\n",
       "      <td>...</td>\n",
       "      <td>0.011470</td>\n",
       "      <td>0.007884</td>\n",
       "      <td>0.008273</td>\n",
       "      <td>0.012437</td>\n",
       "      <td>0.011655</td>\n",
       "      <td>0.010204</td>\n",
       "      <td>0.006983</td>\n",
       "      <td>0.012846</td>\n",
       "      <td>0.004564</td>\n",
       "      <td>0.005521</td>\n",
       "    </tr>\n",
       "    <tr>\n",
       "      <th>ENSG00000147852</th>\n",
       "      <td>0.028120</td>\n",
       "      <td>0.019059</td>\n",
       "      <td>1.000000</td>\n",
       "      <td>0.022365</td>\n",
       "      <td>0.020779</td>\n",
       "      <td>0.031613</td>\n",
       "      <td>0.017493</td>\n",
       "      <td>0.025442</td>\n",
       "      <td>0.015485</td>\n",
       "      <td>0.018156</td>\n",
       "      <td>...</td>\n",
       "      <td>0.015846</td>\n",
       "      <td>0.017687</td>\n",
       "      <td>0.020235</td>\n",
       "      <td>0.026399</td>\n",
       "      <td>0.020783</td>\n",
       "      <td>0.018425</td>\n",
       "      <td>0.015372</td>\n",
       "      <td>0.010632</td>\n",
       "      <td>0.010178</td>\n",
       "      <td>0.019004</td>\n",
       "    </tr>\n",
       "    <tr>\n",
       "      <th>ENSG00000107249</th>\n",
       "      <td>0.011640</td>\n",
       "      <td>0.012062</td>\n",
       "      <td>0.022365</td>\n",
       "      <td>1.000000</td>\n",
       "      <td>0.022874</td>\n",
       "      <td>0.018729</td>\n",
       "      <td>0.011897</td>\n",
       "      <td>0.015548</td>\n",
       "      <td>0.009184</td>\n",
       "      <td>0.013681</td>\n",
       "      <td>...</td>\n",
       "      <td>0.011880</td>\n",
       "      <td>0.016320</td>\n",
       "      <td>0.013399</td>\n",
       "      <td>0.015291</td>\n",
       "      <td>0.013300</td>\n",
       "      <td>0.008497</td>\n",
       "      <td>0.002623</td>\n",
       "      <td>0.014571</td>\n",
       "      <td>0.005581</td>\n",
       "      <td>0.009162</td>\n",
       "    </tr>\n",
       "    <tr>\n",
       "      <th>ENSG00000147853</th>\n",
       "      <td>0.017930</td>\n",
       "      <td>0.010278</td>\n",
       "      <td>0.020779</td>\n",
       "      <td>0.022874</td>\n",
       "      <td>1.000000</td>\n",
       "      <td>0.032336</td>\n",
       "      <td>0.012458</td>\n",
       "      <td>0.015127</td>\n",
       "      <td>0.013069</td>\n",
       "      <td>0.016242</td>\n",
       "      <td>...</td>\n",
       "      <td>0.010237</td>\n",
       "      <td>0.010770</td>\n",
       "      <td>0.009416</td>\n",
       "      <td>0.016856</td>\n",
       "      <td>0.017485</td>\n",
       "      <td>0.011616</td>\n",
       "      <td>0.008834</td>\n",
       "      <td>0.016662</td>\n",
       "      <td>0.004722</td>\n",
       "      <td>0.008815</td>\n",
       "    </tr>\n",
       "  </tbody>\n",
       "</table>\n",
       "<p>5 rows × 245 columns</p>\n",
       "</div>"
      ],
      "text/plain": [
       "                 ENSG00000107099  ENSG00000080503  ENSG00000147852  \\\n",
       "ENSG00000107099         1.000000         0.010578         0.028120   \n",
       "ENSG00000080503         0.010578         1.000000         0.019059   \n",
       "ENSG00000147852         0.028120         0.019059         1.000000   \n",
       "ENSG00000107249         0.011640         0.012062         0.022365   \n",
       "ENSG00000147853         0.017930         0.010278         0.020779   \n",
       "\n",
       "                 ENSG00000107249  ENSG00000147853  ENSG00000096968  \\\n",
       "ENSG00000107099         0.011640         0.017930         0.010548   \n",
       "ENSG00000080503         0.012062         0.010278         0.011658   \n",
       "ENSG00000147852         0.022365         0.020779         0.031613   \n",
       "ENSG00000107249         1.000000         0.022874         0.018729   \n",
       "ENSG00000147853         0.022874         1.000000         0.032336   \n",
       "\n",
       "                 ENSG00000107014  ENSG00000120217  ENSG00000197646  \\\n",
       "ENSG00000107099         0.006667         0.013394         0.008972   \n",
       "ENSG00000080503         0.008593         0.013771         0.007175   \n",
       "ENSG00000147852         0.017493         0.025442         0.015485   \n",
       "ENSG00000107249         0.011897         0.015548         0.009184   \n",
       "ENSG00000147853         0.012458         0.015127         0.013069   \n",
       "\n",
       "                 ENSG00000178445  ...  ENSG00000107317  ENSG00000169583  \\\n",
       "ENSG00000107099         0.011997  ...         0.009464         0.015654   \n",
       "ENSG00000080503         0.011470  ...         0.011470         0.007884   \n",
       "ENSG00000147852         0.018156  ...         0.015846         0.017687   \n",
       "ENSG00000107249         0.013681  ...         0.011880         0.016320   \n",
       "ENSG00000147853         0.016242  ...         0.010237         0.010770   \n",
       "\n",
       "                 ENSG00000107331  ENSG00000054179  ENSG00000177239  \\\n",
       "ENSG00000107099         0.011517         0.011900         0.009459   \n",
       "ENSG00000080503         0.008273         0.012437         0.011655   \n",
       "ENSG00000147852         0.020235         0.026399         0.020783   \n",
       "ENSG00000107249         0.013399         0.015291         0.013300   \n",
       "ENSG00000147853         0.009416         0.016856         0.017485   \n",
       "\n",
       "                 ENSG00000176248  ENSG00000176101  ENSG00000188747  \\\n",
       "ENSG00000107099         0.004668         0.003919         0.010221   \n",
       "ENSG00000080503         0.010204         0.006983         0.012846   \n",
       "ENSG00000147852         0.018425         0.015372         0.010632   \n",
       "ENSG00000107249         0.008497         0.002623         0.014571   \n",
       "ENSG00000147853         0.011616         0.008834         0.016662   \n",
       "\n",
       "                 ENSG00000182154  ENSG00000181090  \n",
       "ENSG00000107099         0.004733         0.007673  \n",
       "ENSG00000080503         0.004564         0.005521  \n",
       "ENSG00000147852         0.010178         0.019004  \n",
       "ENSG00000107249         0.005581         0.009162  \n",
       "ENSG00000147853         0.004722         0.008815  \n",
       "\n",
       "[5 rows x 245 columns]"
      ]
     },
     "execution_count": 31,
     "metadata": {},
     "output_type": "execute_result"
    }
   ],
   "source": [
    "gene_corrs_df.head()"
   ]
  },
  {
   "cell_type": "markdown",
   "id": "dad6603f-01c6-41fb-a6f6-241051207dd8",
   "metadata": {
    "papermill": {
     "duration": 1.509613,
     "end_time": "2022-08-02T21:05:21.193493",
     "exception": false,
     "start_time": "2022-08-02T21:05:19.683880",
     "status": "completed"
    },
    "tags": []
   },
   "source": [
    "## Standard checks and stats"
   ]
  },
  {
   "cell_type": "code",
   "execution_count": 32,
   "id": "286686af-1b7b-4440-8453-6bdcbd8de19c",
   "metadata": {
    "execution": {
     "iopub.execute_input": "2022-08-02T21:05:24.156876Z",
     "iopub.status.busy": "2022-08-02T21:05:24.156627Z",
     "iopub.status.idle": "2022-08-02T21:05:24.177195Z",
     "shell.execute_reply": "2022-08-02T21:05:24.176787Z"
    },
    "papermill": {
     "duration": 1.474739,
     "end_time": "2022-08-02T21:05:24.178571",
     "exception": false,
     "start_time": "2022-08-02T21:05:22.703832",
     "status": "completed"
    },
    "tags": []
   },
   "outputs": [],
   "source": [
    "assert not gene_corrs_df.isna().any().any()"
   ]
  },
  {
   "cell_type": "code",
   "execution_count": 33,
   "id": "00583efc-7068-4270-ad1e-4a418e91db96",
   "metadata": {
    "execution": {
     "iopub.execute_input": "2022-08-02T21:05:27.113197Z",
     "iopub.status.busy": "2022-08-02T21:05:27.112956Z",
     "iopub.status.idle": "2022-08-02T21:05:27.288861Z",
     "shell.execute_reply": "2022-08-02T21:05:27.288448Z"
    },
    "papermill": {
     "duration": 1.672515,
     "end_time": "2022-08-02T21:05:27.290139",
     "exception": false,
     "start_time": "2022-08-02T21:05:25.617624",
     "status": "completed"
    },
    "tags": []
   },
   "outputs": [
    {
     "data": {
      "text/plain": [
       "5.745133795963101e-08"
      ]
     },
     "metadata": {},
     "output_type": "display_data"
    }
   ],
   "source": [
    "_min_val = gene_corrs_df.min().min()\n",
    "display(_min_val)\n",
    "assert _min_val >= 0.0"
   ]
  },
  {
   "cell_type": "code",
   "execution_count": 34,
   "id": "d04fb2cf-1050-475b-b855-f5f7cc04092b",
   "metadata": {
    "execution": {
     "iopub.execute_input": "2022-08-02T21:05:30.242266Z",
     "iopub.status.busy": "2022-08-02T21:05:30.242025Z",
     "iopub.status.idle": "2022-08-02T21:05:30.263568Z",
     "shell.execute_reply": "2022-08-02T21:05:30.263179Z"
    },
    "papermill": {
     "duration": 1.466187,
     "end_time": "2022-08-02T21:05:30.264830",
     "exception": false,
     "start_time": "2022-08-02T21:05:28.798643",
     "status": "completed"
    },
    "tags": []
   },
   "outputs": [
    {
     "data": {
      "text/plain": [
       "1.0"
      ]
     },
     "metadata": {},
     "output_type": "display_data"
    }
   ],
   "source": [
    "_max_val = gene_corrs_df.max().max()  # this captures the diagonal\n",
    "display(_max_val)\n",
    "assert _max_val <= 1.0"
   ]
  },
  {
   "cell_type": "code",
   "execution_count": 35,
   "id": "96d02c44-1fba-47be-8a93-8f2608420b9c",
   "metadata": {
    "execution": {
     "iopub.execute_input": "2022-08-02T21:05:33.279346Z",
     "iopub.status.busy": "2022-08-02T21:05:33.279099Z",
     "iopub.status.idle": "2022-08-02T21:05:33.298144Z",
     "shell.execute_reply": "2022-08-02T21:05:33.297723Z"
    },
    "papermill": {
     "duration": 1.535024,
     "end_time": "2022-08-02T21:05:33.299531",
     "exception": false,
     "start_time": "2022-08-02T21:05:31.764507",
     "status": "completed"
    },
    "tags": []
   },
   "outputs": [],
   "source": [
    "# check upper triangular values\n",
    "assert len(gene_corrs) == int(genes_chr.shape[0] * (genes_chr.shape[0] - 1) / 2)"
   ]
  },
  {
   "cell_type": "code",
   "execution_count": 36,
   "id": "fe283586-c348-40e0-8841-f6d97bfb021c",
   "metadata": {
    "execution": {
     "iopub.execute_input": "2022-08-02T21:05:36.211511Z",
     "iopub.status.busy": "2022-08-02T21:05:36.211270Z",
     "iopub.status.idle": "2022-08-02T21:05:36.235443Z",
     "shell.execute_reply": "2022-08-02T21:05:36.234998Z"
    },
    "papermill": {
     "duration": 1.480397,
     "end_time": "2022-08-02T21:05:36.236888",
     "exception": false,
     "start_time": "2022-08-02T21:05:34.756491",
     "status": "completed"
    },
    "tags": []
   },
   "outputs": [
    {
     "data": {
      "text/plain": [
       "count    2.989000e+04\n",
       "mean     1.056341e-02\n",
       "std      2.732990e-02\n",
       "min      5.745134e-08\n",
       "25%      5.232972e-03\n",
       "50%      8.037284e-03\n",
       "75%      1.133418e-02\n",
       "max      9.236841e-01\n",
       "dtype: float64"
      ]
     },
     "execution_count": 36,
     "metadata": {},
     "output_type": "execute_result"
    }
   ],
   "source": [
    "gene_corrs_flat.describe()"
   ]
  },
  {
   "cell_type": "code",
   "execution_count": 37,
   "id": "b3815678-0f93-4b35-897b-a9d047a2aa78",
   "metadata": {
    "execution": {
     "iopub.execute_input": "2022-08-02T21:05:39.198824Z",
     "iopub.status.busy": "2022-08-02T21:05:39.198568Z",
     "iopub.status.idle": "2022-08-02T21:05:39.257660Z",
     "shell.execute_reply": "2022-08-02T21:05:39.257184Z"
    },
    "papermill": {
     "duration": 1.514766,
     "end_time": "2022-08-02T21:05:39.259095",
     "exception": false,
     "start_time": "2022-08-02T21:05:37.744329",
     "status": "completed"
    },
    "tags": []
   },
   "outputs": [
    {
     "data": {
      "text/plain": [
       "0.00    5.745134e-08\n",
       "0.05    2.027428e-03\n",
       "0.10    3.067520e-03\n",
       "0.15    3.895332e-03\n",
       "0.20    4.605017e-03\n",
       "0.25    5.232972e-03\n",
       "0.30    5.830987e-03\n",
       "0.35    6.382321e-03\n",
       "0.40    6.944690e-03\n",
       "0.45    7.509035e-03\n",
       "0.50    8.037284e-03\n",
       "0.55    8.631216e-03\n",
       "0.60    9.246546e-03\n",
       "0.65    9.889793e-03\n",
       "0.70    1.058764e-02\n",
       "0.75    1.133418e-02\n",
       "0.80    1.221436e-02\n",
       "0.85    1.326419e-02\n",
       "0.90    1.473715e-02\n",
       "0.95    1.721387e-02\n",
       "dtype: float64"
      ]
     },
     "metadata": {},
     "output_type": "display_data"
    }
   ],
   "source": [
    "gene_corrs_quantiles = gene_corrs_flat.quantile(np.arange(0, 1, 0.05))\n",
    "display(gene_corrs_quantiles)"
   ]
  },
  {
   "cell_type": "markdown",
   "id": "87134509-b145-4a10-8bc9-b7e914c2b0fa",
   "metadata": {
    "papermill": {
     "duration": 1.5248,
     "end_time": "2022-08-02T21:05:42.278484",
     "exception": false,
     "start_time": "2022-08-02T21:05:40.753684",
     "status": "completed"
    },
    "tags": []
   },
   "source": [
    "## Positive definiteness"
   ]
  },
  {
   "cell_type": "code",
   "execution_count": 38,
   "id": "07d9a9a1-a4f7-48aa-b916-6d42a8cc6186",
   "metadata": {
    "execution": {
     "iopub.execute_input": "2022-08-02T21:05:45.243463Z",
     "iopub.status.busy": "2022-08-02T21:05:45.243216Z",
     "iopub.status.idle": "2022-08-02T21:05:45.305795Z",
     "shell.execute_reply": "2022-08-02T21:05:45.305349Z"
    },
    "papermill": {
     "duration": 1.512651,
     "end_time": "2022-08-02T21:05:45.307138",
     "exception": false,
     "start_time": "2022-08-02T21:05:43.794487",
     "status": "completed"
    },
    "tags": []
   },
   "outputs": [
    {
     "data": {
      "text/plain": [
       "0"
      ]
     },
     "metadata": {},
     "output_type": "display_data"
    },
    {
     "data": {
      "text/plain": [
       "array([], dtype=float64)"
      ]
     },
     "metadata": {},
     "output_type": "display_data"
    }
   ],
   "source": [
    "# print negative eigenvalues\n",
    "eigs = np.linalg.eigvals(gene_corrs_df.to_numpy())\n",
    "display(len(eigs[eigs < 0]))\n",
    "display(eigs[eigs < 0])"
   ]
  },
  {
   "cell_type": "code",
   "execution_count": 39,
   "id": "6e218436-c3c5-4028-8c94-a4fa6260efce",
   "metadata": {
    "execution": {
     "iopub.execute_input": "2022-08-02T21:05:48.271545Z",
     "iopub.status.busy": "2022-08-02T21:05:48.271298Z",
     "iopub.status.idle": "2022-08-02T21:05:48.296207Z",
     "shell.execute_reply": "2022-08-02T21:05:48.295785Z"
    },
    "papermill": {
     "duration": 1.533925,
     "end_time": "2022-08-02T21:05:48.297483",
     "exception": false,
     "start_time": "2022-08-02T21:05:46.763558",
     "status": "completed"
    },
    "tags": []
   },
   "outputs": [
    {
     "name": "stdout",
     "output_type": "stream",
     "text": [
      "Works!\n"
     ]
    }
   ],
   "source": [
    "try:\n",
    "    chol_mat = np.linalg.cholesky(gene_corrs_df.to_numpy())\n",
    "    cov_inv = np.linalg.inv(chol_mat)\n",
    "    print(\"Works!\")\n",
    "except:\n",
    "    print(\"Cholesky decomposition failed\")"
   ]
  },
  {
   "cell_type": "markdown",
   "id": "8e60a080-edb2-4e9c-b2ef-22961693200c",
   "metadata": {
    "papermill": {
     "duration": 1.505485,
     "end_time": "2022-08-02T21:05:51.240840",
     "exception": false,
     "start_time": "2022-08-02T21:05:49.735355",
     "status": "completed"
    },
    "tags": []
   },
   "source": [
    "## Plot: distribution"
   ]
  },
  {
   "cell_type": "code",
   "execution_count": 40,
   "id": "8301126b-a7d4-4744-9c7d-f0f86eb6f54c",
   "metadata": {
    "execution": {
     "iopub.execute_input": "2022-08-02T21:05:54.310946Z",
     "iopub.status.busy": "2022-08-02T21:05:54.310701Z",
     "iopub.status.idle": "2022-08-02T21:05:59.623455Z",
     "shell.execute_reply": "2022-08-02T21:05:59.622866Z"
    },
    "papermill": {
     "duration": 6.848877,
     "end_time": "2022-08-02T21:05:59.625313",
     "exception": false,
     "start_time": "2022-08-02T21:05:52.776436",
     "status": "completed"
    },
    "tags": []
   },
   "outputs": [
    {
     "data": {
      "image/png": "[encoded data removed]",
      "text/plain": [
       "<Figure size 504x504 with 1 Axes>"
      ]
     },
     "metadata": {
      "needs_background": "light"
     },
     "output_type": "display_data"
    }
   ],
   "source": [
    "with sns.plotting_context(\"paper\", font_scale=1.5):\n",
    "    g = sns.displot(gene_corrs_flat, kde=True, height=7)\n",
    "    g.ax.set_title(\n",
    "        f\"Distribution of gene correlation values in chromosome {CHROMOSOME}\"\n",
    "    )"
   ]
  },
  {
   "cell_type": "markdown",
   "id": "cbd52bca-d878-4a2f-b684-5c83aa3038d4",
   "metadata": {
    "papermill": {
     "duration": 1.472737,
     "end_time": "2022-08-02T21:06:02.562262",
     "exception": false,
     "start_time": "2022-08-02T21:06:01.089525",
     "status": "completed"
    },
    "tags": []
   },
   "source": [
    "## Plot: heatmap"
   ]
  },
  {
   "cell_type": "code",
   "execution_count": 41,
   "id": "d03fe63a-c7b2-4fb9-a53c-db362ce843c9",
   "metadata": {
    "execution": {
     "iopub.execute_input": "2022-08-02T21:06:05.510521Z",
     "iopub.status.busy": "2022-08-02T21:06:05.510265Z",
     "iopub.status.idle": "2022-08-02T21:06:05.532138Z",
     "shell.execute_reply": "2022-08-02T21:06:05.531730Z"
    },
    "papermill": {
     "duration": 1.466418,
     "end_time": "2022-08-02T21:06:05.533444",
     "exception": false,
     "start_time": "2022-08-02T21:06:04.067026",
     "status": "completed"
    },
    "tags": []
   },
   "outputs": [
    {
     "data": {
      "text/plain": [
       "'0.0 / 0.05'"
      ]
     },
     "metadata": {},
     "output_type": "display_data"
    }
   ],
   "source": [
    "vmin_val = min(0.00, gene_corrs_quantiles[0.10])\n",
    "vmax_val = max(0.05, gene_corrs_quantiles[0.90])\n",
    "display(f\"{vmin_val} / {vmax_val}\")"
   ]
  },
  {
   "cell_type": "code",
   "execution_count": 42,
   "id": "dc41b70b-5bcc-4d9e-9f33-a22c4a94dab5",
   "metadata": {
    "execution": {
     "iopub.execute_input": "2022-08-02T21:06:08.542282Z",
     "iopub.status.busy": "2022-08-02T21:06:08.542027Z",
     "iopub.status.idle": "2022-08-02T21:06:08.756050Z",
     "shell.execute_reply": "2022-08-02T21:06:08.755579Z"
    },
    "papermill": {
     "duration": 1.728362,
     "end_time": "2022-08-02T21:06:08.757399",
     "exception": false,
     "start_time": "2022-08-02T21:06:07.029037",
     "status": "completed"
    },
    "tags": []
   },
   "outputs": [
    {
     "data": {
      "text/plain": [
       "Text(0.5, 1.0, 'Gene correlations in chromosome 9')"
      ]
     },
     "execution_count": 42,
     "metadata": {},
     "output_type": "execute_result"
    },
    {
     "data": {
      "image/png": "[encoded data removed]",
      "text/plain": [
       "<Figure size 720x720 with 2 Axes>"
      ]
     },
     "metadata": {
      "needs_background": "light"
     },
     "output_type": "display_data"
    }
   ],
   "source": [
    "f, ax = plt.subplots(figsize=(10, 10))\n",
    "sns.heatmap(\n",
    "    gene_corrs_df,\n",
    "    xticklabels=False,\n",
    "    yticklabels=False,\n",
    "    square=True,\n",
    "    vmin=vmin_val,\n",
    "    vmax=vmax_val,\n",
    "    cmap=\"rocket_r\",\n",
    "    ax=ax,\n",
    ")\n",
    "ax.set_title(f\"Gene correlations in chromosome {CHROMOSOME}\")"
   ]
  },
  {
   "cell_type": "code",
   "execution_count": null,
   "id": "b25e3ead",
   "metadata": {
    "papermill": {
     "duration": 1.453146,
     "end_time": "2022-08-02T21:06:11.758333",
     "exception": false,
     "start_time": "2022-08-02T21:06:10.305187",
     "status": "completed"
    },
    "tags": []
   },
   "outputs": [],
   "source": []
  }
 ],
 "metadata": {
  "jupytext": {
   "cell_metadata_filter": "all,-execution,-papermill,-trusted",
   "formats": "ipynb,py//py:percent"
  },
  "kernelspec": {
   "display_name": "Python 3 (ipykernel)",
   "language": "python",
   "name": "python3"
  },
  "language_info": {
   "codemirror_mode": {
    "name": "ipython",
    "version": 3
   },
   "file_extension": ".py",
   "mimetype": "text/x-python",
   "name": "python",
   "nbconvert_exporter": "python",
   "pygments_lexer": "ipython3",
   "version": "3.8.13"
  },
  "papermill": {
   "default_parameters": {},
   "duration": 1985.475215,
   "end_time": "2022-08-02T21:06:16.943013",
   "environment_variables": {},
   "exception": null,
   "input_path": "nbs/15_gsa_gls/10-gene_expr_correlations.ipynb",
   "output_path": "nbs/15_gsa_gls/gene_corrs/cohorts/1000g_eur/1000g/mashr/10-gene_expr_correlations-chr9.run.ipynb",
   "parameters": {
    "CHROMOSOME": 9,
    "COHORT_NAME": "1000G_EUR",
    "EQTL_MODEL": "MASHR",
    "REFERENCE_PANEL": "1000G"
   },
   "start_time": "2022-08-02T20:33:11.467798",
   "version": "2.2.2"
  }
 },
 "nbformat": 4,
 "nbformat_minor": 5
}
