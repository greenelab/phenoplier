{
 "cells": [
  {
   "cell_type": "markdown",
   "id": "7a6632fb",
   "metadata": {
    "papermill": {
     "duration": 0.00686,
     "end_time": "2022-07-22T04:06:18.126481",
     "exception": false,
     "start_time": "2022-07-22T04:06:18.119621",
     "status": "completed"
    },
    "tags": []
   },
   "source": [
    "# Description"
   ]
  },
  {
   "cell_type": "markdown",
   "id": "7097c346",
   "metadata": {
    "papermill": {
     "duration": 0.005932,
     "end_time": "2022-07-22T04:06:18.138598",
     "exception": false,
     "start_time": "2022-07-22T04:06:18.132666",
     "status": "completed"
    },
    "tags": []
   },
   "source": [
    "(Please, take a look at the README.md file in this directory for instructions on how to run this notebook)\n",
    "\n",
    "This notebook computes predicted expression correlations between all genes in the MultiPLIER models.\n",
    "\n",
    "It also has a parameter set for papermill to run on a single chromosome to run in parallel (see under `Settings` below).\n",
    "\n",
    "This notebook is not directly run. See README.md."
   ]
  },
  {
   "cell_type": "markdown",
   "id": "c61d8427",
   "metadata": {
    "papermill": {
     "duration": 0.005844,
     "end_time": "2022-07-22T04:06:18.150323",
     "exception": false,
     "start_time": "2022-07-22T04:06:18.144479",
     "status": "completed"
    },
    "tags": []
   },
   "source": [
    "# Modules"
   ]
  },
  {
   "cell_type": "code",
   "execution_count": 1,
   "id": "bbc0234f",
   "metadata": {
    "execution": {
     "iopub.execute_input": "2022-07-22T04:06:18.164151Z",
     "iopub.status.busy": "2022-07-22T04:06:18.163878Z",
     "iopub.status.idle": "2022-07-22T04:06:18.178671Z",
     "shell.execute_reply": "2022-07-22T04:06:18.178268Z"
    },
    "papermill": {
     "duration": 0.023582,
     "end_time": "2022-07-22T04:06:18.180089",
     "exception": false,
     "start_time": "2022-07-22T04:06:18.156507",
     "status": "completed"
    },
    "tags": []
   },
   "outputs": [],
   "source": [
    "%load_ext autoreload\n",
    "%autoreload 2"
   ]
  },
  {
   "cell_type": "code",
   "execution_count": 2,
   "id": "1d5f5a59",
   "metadata": {
    "execution": {
     "iopub.execute_input": "2022-07-22T04:06:18.222808Z",
     "iopub.status.busy": "2022-07-22T04:06:18.222496Z",
     "iopub.status.idle": "2022-07-22T04:06:19.145984Z",
     "shell.execute_reply": "2022-07-22T04:06:19.145550Z"
    },
    "papermill": {
     "duration": 0.932548,
     "end_time": "2022-07-22T04:06:19.147432",
     "exception": false,
     "start_time": "2022-07-22T04:06:18.214884",
     "status": "completed"
    },
    "tags": []
   },
   "outputs": [],
   "source": [
    "from random import sample, seed\n",
    "import warnings\n",
    "from pathlib import Path\n",
    "import pickle\n",
    "import traceback\n",
    "\n",
    "import numpy as np\n",
    "from scipy.spatial.distance import squareform\n",
    "import pandas as pd\n",
    "from tqdm import tqdm\n",
    "import matplotlib.pyplot as plt\n",
    "import seaborn as sns\n",
    "\n",
    "import conf\n",
    "from entity import Gene"
   ]
  },
  {
   "cell_type": "markdown",
   "id": "1eac24b5",
   "metadata": {
    "papermill": {
     "duration": 0.006038,
     "end_time": "2022-07-22T04:06:19.159698",
     "exception": false,
     "start_time": "2022-07-22T04:06:19.153660",
     "status": "completed"
    },
    "tags": []
   },
   "source": [
    "# Settings"
   ]
  },
  {
   "cell_type": "code",
   "execution_count": 3,
   "id": "ca4560ba",
   "metadata": {
    "execution": {
     "iopub.execute_input": "2022-07-22T04:06:19.172100Z",
     "iopub.status.busy": "2022-07-22T04:06:19.171894Z",
     "iopub.status.idle": "2022-07-22T04:06:19.187011Z",
     "shell.execute_reply": "2022-07-22T04:06:19.186614Z"
    },
    "papermill": {
     "duration": 0.02275,
     "end_time": "2022-07-22T04:06:19.188321",
     "exception": false,
     "start_time": "2022-07-22T04:06:19.165571",
     "status": "completed"
    },
    "tags": [
     "parameters"
    ]
   },
   "outputs": [],
   "source": [
    "# a cohort name (it could be something like UK_BIOBANK, etc)\n",
    "COHORT_NAME = None\n",
    "\n",
    "# reference panel such as 1000G or GTEX_V8\n",
    "REFERENCE_PANEL = None\n",
    "\n",
    "# predictions models such as MASHR or ELASTIC_NET\n",
    "EQTL_MODEL = None\n",
    "\n",
    "# this is the default value used in S-MultiXcan to select the\n",
    "# top principal components of the expression correlation matrix\n",
    "SMULTIXCAN_CONDITION_NUMBER = 30\n",
    "\n",
    "# specifies a single chromosome value\n",
    "CHROMOSOME = None\n",
    "\n",
    "# if True, then it will continue if a gene pair correlation fails,\n",
    "# printing the warning/error for debugging. If False, any warning/error\n",
    "# will be thrown\n",
    "# FIXME: make it False when all is working\n",
    "DEBUG_MODE = True"
   ]
  },
  {
   "cell_type": "code",
   "execution_count": 4,
   "id": "857bfbaf",
   "metadata": {
    "execution": {
     "iopub.execute_input": "2022-07-22T04:06:19.201593Z",
     "iopub.status.busy": "2022-07-22T04:06:19.201199Z",
     "iopub.status.idle": "2022-07-22T04:06:19.215593Z",
     "shell.execute_reply": "2022-07-22T04:06:19.215118Z"
    },
    "papermill": {
     "duration": 0.022554,
     "end_time": "2022-07-22T04:06:19.216944",
     "exception": false,
     "start_time": "2022-07-22T04:06:19.194390",
     "status": "completed"
    },
    "tags": [
     "injected-parameters"
    ]
   },
   "outputs": [],
   "source": [
    "# Parameters\n",
    "COHORT_NAME = \"1000G_EUR\"\n",
    "REFERENCE_PANEL = \"1000G\"\n",
    "EQTL_MODEL = \"MASHR\"\n",
    "CHROMOSOME = 9\n"
   ]
  },
  {
   "cell_type": "code",
   "execution_count": 5,
   "id": "3190631f-27fc-480f-b18e-571d580425a5",
   "metadata": {
    "execution": {
     "iopub.execute_input": "2022-07-22T04:06:19.230024Z",
     "iopub.status.busy": "2022-07-22T04:06:19.229854Z",
     "iopub.status.idle": "2022-07-22T04:06:19.246824Z",
     "shell.execute_reply": "2022-07-22T04:06:19.246384Z"
    },
    "papermill": {
     "duration": 0.025412,
     "end_time": "2022-07-22T04:06:19.248442",
     "exception": false,
     "start_time": "2022-07-22T04:06:19.223030",
     "status": "completed"
    },
    "tags": []
   },
   "outputs": [
    {
     "data": {
      "text/plain": [
       "'Cohort name: 1000g_eur'"
      ]
     },
     "metadata": {},
     "output_type": "display_data"
    }
   ],
   "source": [
    "assert COHORT_NAME is not None or len(COHORT_NAME) == 0, \"A cohort name must be given\"\n",
    "\n",
    "COHORT_NAME = COHORT_NAME.lower()\n",
    "display(f\"Cohort name: {COHORT_NAME}\")"
   ]
  },
  {
   "cell_type": "code",
   "execution_count": 6,
   "id": "f53ba19b-0f93-4fa2-a047-63b375939d1a",
   "metadata": {
    "execution": {
     "iopub.execute_input": "2022-07-22T04:06:19.261351Z",
     "iopub.status.busy": "2022-07-22T04:06:19.261187Z",
     "iopub.status.idle": "2022-07-22T04:06:19.276564Z",
     "shell.execute_reply": "2022-07-22T04:06:19.276119Z"
    },
    "papermill": {
     "duration": 0.023333,
     "end_time": "2022-07-22T04:06:19.277855",
     "exception": false,
     "start_time": "2022-07-22T04:06:19.254522",
     "status": "completed"
    },
    "tags": []
   },
   "outputs": [
    {
     "data": {
      "text/plain": [
       "'Reference panel: 1000G'"
      ]
     },
     "metadata": {},
     "output_type": "display_data"
    }
   ],
   "source": [
    "assert (\n",
    "    REFERENCE_PANEL is not None or len(REFERENCE_PANEL) == 0\n",
    "), \"A reference panel must be given\"\n",
    "\n",
    "display(f\"Reference panel: {REFERENCE_PANEL}\")"
   ]
  },
  {
   "cell_type": "code",
   "execution_count": 7,
   "id": "e024d130-c139-429a-9c6e-ccf149e297b0",
   "metadata": {
    "execution": {
     "iopub.execute_input": "2022-07-22T04:06:19.290976Z",
     "iopub.status.busy": "2022-07-22T04:06:19.290815Z",
     "iopub.status.idle": "2022-07-22T04:06:19.306574Z",
     "shell.execute_reply": "2022-07-22T04:06:19.306133Z"
    },
    "papermill": {
     "duration": 0.02387,
     "end_time": "2022-07-22T04:06:19.307895",
     "exception": false,
     "start_time": "2022-07-22T04:06:19.284025",
     "status": "completed"
    },
    "tags": []
   },
   "outputs": [
    {
     "data": {
      "text/plain": [
       "'eQTL model: MASHR) / mashr_'"
      ]
     },
     "metadata": {},
     "output_type": "display_data"
    }
   ],
   "source": [
    "assert (\n",
    "    EQTL_MODEL is not None or len(EQTL_MODEL) == 0\n",
    "), \"A prediction/eQTL model must be given\"\n",
    "\n",
    "EQTL_MODEL_FILES_PREFIX = conf.PHENOMEXCAN[\"PREDICTION_MODELS\"][f\"{EQTL_MODEL}_PREFIX\"]\n",
    "display(f\"eQTL model: {EQTL_MODEL}) / {EQTL_MODEL_FILES_PREFIX}\")"
   ]
  },
  {
   "cell_type": "code",
   "execution_count": 8,
   "id": "552a7f63-a18c-4d3e-bb6a-94f99b431291",
   "metadata": {
    "execution": {
     "iopub.execute_input": "2022-07-22T04:06:19.321172Z",
     "iopub.status.busy": "2022-07-22T04:06:19.320967Z",
     "iopub.status.idle": "2022-07-22T04:06:19.335923Z",
     "shell.execute_reply": "2022-07-22T04:06:19.335487Z"
    },
    "papermill": {
     "duration": 0.022885,
     "end_time": "2022-07-22T04:06:19.337112",
     "exception": false,
     "start_time": "2022-07-22T04:06:19.314227",
     "status": "completed"
    },
    "tags": []
   },
   "outputs": [
    {
     "data": {
      "text/plain": [
       "'S-MultiXcan condition number: 30'"
      ]
     },
     "metadata": {},
     "output_type": "display_data"
    }
   ],
   "source": [
    "assert (\n",
    "    SMULTIXCAN_CONDITION_NUMBER is not None or SMULTIXCAN_CONDITION_NUMBER > 0\n",
    "), \"The S-MultiXcan condition number (positive integer) must be given\"\n",
    "\n",
    "display(f\"S-MultiXcan condition number: {SMULTIXCAN_CONDITION_NUMBER}\")"
   ]
  },
  {
   "cell_type": "code",
   "execution_count": 9,
   "id": "f34a336f-548e-4afe-8955-90eaea4f42c6",
   "metadata": {
    "execution": {
     "iopub.execute_input": "2022-07-22T04:06:19.350590Z",
     "iopub.status.busy": "2022-07-22T04:06:19.350387Z",
     "iopub.status.idle": "2022-07-22T04:06:19.365601Z",
     "shell.execute_reply": "2022-07-22T04:06:19.365149Z"
    },
    "papermill": {
     "duration": 0.023341,
     "end_time": "2022-07-22T04:06:19.366839",
     "exception": false,
     "start_time": "2022-07-22T04:06:19.343498",
     "status": "completed"
    },
    "tags": []
   },
   "outputs": [
    {
     "data": {
      "text/plain": [
       "'Working on chromosome 9'"
      ]
     },
     "metadata": {},
     "output_type": "display_data"
    }
   ],
   "source": [
    "assert CHROMOSOME is not None and (\n",
    "    1 <= CHROMOSOME <= 22\n",
    "), \"You have to select one chromosome (format: number between 1 and 22)\"\n",
    "\n",
    "CHROMOSOME = str(CHROMOSOME)\n",
    "display(f\"Working on chromosome {CHROMOSOME}\")"
   ]
  },
  {
   "cell_type": "code",
   "execution_count": 10,
   "id": "ab8e96e8-06b5-4363-9dcd-dc4d78cc27f7",
   "metadata": {
    "execution": {
     "iopub.execute_input": "2022-07-22T04:06:19.381021Z",
     "iopub.status.busy": "2022-07-22T04:06:19.380700Z",
     "iopub.status.idle": "2022-07-22T04:06:19.396080Z",
     "shell.execute_reply": "2022-07-22T04:06:19.395599Z"
    },
    "papermill": {
     "duration": 0.024063,
     "end_time": "2022-07-22T04:06:19.397563",
     "exception": false,
     "start_time": "2022-07-22T04:06:19.373500",
     "status": "completed"
    },
    "tags": []
   },
   "outputs": [
    {
     "data": {
      "text/plain": [
       "'Compute correlation within distance True'"
      ]
     },
     "metadata": {},
     "output_type": "display_data"
    }
   ],
   "source": [
    "# TODO: see if this is necessary; if so, make it a parameter with default value True\n",
    "# This parameter, if True, computes the correlation between closeby genes only\n",
    "\n",
    "COMPUTE_CORRELATIONS_WITHIN_DISTANCE = True\n",
    "display(f\"Compute correlation within distance {COMPUTE_CORRELATIONS_WITHIN_DISTANCE}\")"
   ]
  },
  {
   "cell_type": "code",
   "execution_count": 11,
   "id": "396392dc-0340-4540-9b02-e182b833f909",
   "metadata": {
    "execution": {
     "iopub.execute_input": "2022-07-22T04:06:19.412059Z",
     "iopub.status.busy": "2022-07-22T04:06:19.411602Z",
     "iopub.status.idle": "2022-07-22T04:06:19.429329Z",
     "shell.execute_reply": "2022-07-22T04:06:19.428749Z"
    },
    "papermill": {
     "duration": 0.026318,
     "end_time": "2022-07-22T04:06:19.430638",
     "exception": false,
     "start_time": "2022-07-22T04:06:19.404320",
     "status": "completed"
    },
    "tags": []
   },
   "outputs": [
    {
     "data": {
      "text/plain": [
       "'Using output dir base: /opt/data/results/gls/gene_corrs/cohorts/1000g_eur/1000g/mashr'"
      ]
     },
     "metadata": {},
     "output_type": "display_data"
    }
   ],
   "source": [
    "OUTPUT_DIR_BASE = (\n",
    "    conf.RESULTS[\"GLS\"]\n",
    "    / \"gene_corrs\"\n",
    "    / \"cohorts\"\n",
    "    / COHORT_NAME\n",
    "    / REFERENCE_PANEL.lower()\n",
    "    / EQTL_MODEL.lower()\n",
    ")\n",
    "OUTPUT_DIR_BASE.mkdir(parents=True, exist_ok=True)\n",
    "\n",
    "display(f\"Using output dir base: {OUTPUT_DIR_BASE}\")"
   ]
  },
  {
   "cell_type": "code",
   "execution_count": 12,
   "id": "974b4bb1-aa98-4e30-b221-7cd034ad3833",
   "metadata": {
    "execution": {
     "iopub.execute_input": "2022-07-22T04:06:19.445190Z",
     "iopub.status.busy": "2022-07-22T04:06:19.444752Z",
     "iopub.status.idle": "2022-07-22T04:06:19.460159Z",
     "shell.execute_reply": "2022-07-22T04:06:19.459724Z"
    },
    "papermill": {
     "duration": 0.023975,
     "end_time": "2022-07-22T04:06:19.461383",
     "exception": false,
     "start_time": "2022-07-22T04:06:19.437408",
     "status": "completed"
    },
    "tags": []
   },
   "outputs": [
    {
     "data": {
      "text/plain": [
       "PosixPath('/opt/data/results/gls/gene_corrs/cohorts/1000g_eur')"
      ]
     },
     "metadata": {},
     "output_type": "display_data"
    }
   ],
   "source": [
    "INPUT_DIR = conf.RESULTS[\"GLS\"] / \"gene_corrs\" / \"cohorts\" / COHORT_NAME\n",
    "assert INPUT_DIR.exists()\n",
    "\n",
    "display(INPUT_DIR)"
   ]
  },
  {
   "cell_type": "markdown",
   "id": "d2ba085e",
   "metadata": {
    "papermill": {
     "duration": 0.006637,
     "end_time": "2022-07-22T04:06:19.474880",
     "exception": false,
     "start_time": "2022-07-22T04:06:19.468243",
     "status": "completed"
    },
    "tags": []
   },
   "source": [
    "# Load data"
   ]
  },
  {
   "cell_type": "markdown",
   "id": "7dcb8db7",
   "metadata": {
    "papermill": {
     "duration": 0.006226,
     "end_time": "2022-07-22T04:06:19.487640",
     "exception": false,
     "start_time": "2022-07-22T04:06:19.481414",
     "status": "completed"
    },
    "tags": []
   },
   "source": [
    "## GWAS variants"
   ]
  },
  {
   "cell_type": "code",
   "execution_count": 13,
   "id": "29434c4e-8cd3-4b9b-82e4-b5a251d9dd19",
   "metadata": {
    "execution": {
     "iopub.execute_input": "2022-07-22T04:06:19.501389Z",
     "iopub.status.busy": "2022-07-22T04:06:19.501075Z",
     "iopub.status.idle": "2022-07-22T04:06:22.197942Z",
     "shell.execute_reply": "2022-07-22T04:06:22.197443Z"
    },
    "papermill": {
     "duration": 2.705833,
     "end_time": "2022-07-22T04:06:22.199786",
     "exception": false,
     "start_time": "2022-07-22T04:06:19.493953",
     "status": "completed"
    },
    "tags": []
   },
   "outputs": [],
   "source": [
    "with open(INPUT_DIR / \"gwas_variant_ids.pkl\", \"rb\") as handle:\n",
    "    gwas_variants_ids_set = pickle.load(handle)"
   ]
  },
  {
   "cell_type": "code",
   "execution_count": 14,
   "id": "b9d9dec2-4a76-4bf9-bde2-e24c95acb8a0",
   "metadata": {
    "execution": {
     "iopub.execute_input": "2022-07-22T04:06:22.216840Z",
     "iopub.status.busy": "2022-07-22T04:06:22.216366Z",
     "iopub.status.idle": "2022-07-22T04:06:22.236034Z",
     "shell.execute_reply": "2022-07-22T04:06:22.235527Z"
    },
    "papermill": {
     "duration": 0.029937,
     "end_time": "2022-07-22T04:06:22.237756",
     "exception": false,
     "start_time": "2022-07-22T04:06:22.207819",
     "status": "completed"
    },
    "tags": []
   },
   "outputs": [
    {
     "data": {
      "text/plain": [
       "8339505"
      ]
     },
     "execution_count": 14,
     "metadata": {},
     "output_type": "execute_result"
    }
   ],
   "source": [
    "len(gwas_variants_ids_set)"
   ]
  },
  {
   "cell_type": "code",
   "execution_count": 15,
   "id": "4235b06a-6034-4ee4-a0a3-2ae35d122418",
   "metadata": {
    "execution": {
     "iopub.execute_input": "2022-07-22T04:06:22.253808Z",
     "iopub.status.busy": "2022-07-22T04:06:22.253387Z",
     "iopub.status.idle": "2022-07-22T04:06:22.799970Z",
     "shell.execute_reply": "2022-07-22T04:06:22.799233Z"
    },
    "papermill": {
     "duration": 0.556241,
     "end_time": "2022-07-22T04:06:22.801711",
     "exception": false,
     "start_time": "2022-07-22T04:06:22.245470",
     "status": "completed"
    },
    "tags": []
   },
   "outputs": [
    {
     "data": {
      "text/plain": [
       "['chr7_97110724_A_G_b38',\n",
       " 'chr11_125910021_G_A_b38',\n",
       " 'chr10_120618740_G_A_b38',\n",
       " 'chr20_48291411_G_A_b38',\n",
       " 'chr13_45775050_C_T_b38']"
      ]
     },
     "execution_count": 15,
     "metadata": {},
     "output_type": "execute_result"
    }
   ],
   "source": [
    "list(gwas_variants_ids_set)[:5]"
   ]
  },
  {
   "cell_type": "markdown",
   "id": "07866999-2305-41f9-a144-e69c9122c212",
   "metadata": {
    "papermill": {
     "duration": 0.008057,
     "end_time": "2022-07-22T04:06:22.818607",
     "exception": false,
     "start_time": "2022-07-22T04:06:22.810550",
     "status": "completed"
    },
    "tags": []
   },
   "source": [
    "## S-PrediXcan tissue models"
   ]
  },
  {
   "cell_type": "code",
   "execution_count": 16,
   "id": "780611d9-77c8-405f-90a4-f271f7b09397",
   "metadata": {
    "execution": {
     "iopub.execute_input": "2022-07-22T04:06:22.836565Z",
     "iopub.status.busy": "2022-07-22T04:06:22.836363Z",
     "iopub.status.idle": "2022-07-22T04:06:23.642360Z",
     "shell.execute_reply": "2022-07-22T04:06:23.641909Z"
    },
    "papermill": {
     "duration": 0.81616,
     "end_time": "2022-07-22T04:06:23.643921",
     "exception": false,
     "start_time": "2022-07-22T04:06:22.827761",
     "status": "completed"
    },
    "tags": []
   },
   "outputs": [],
   "source": [
    "spredixcan_genes_models = pd.read_pickle(INPUT_DIR / \"gene_tissues.pkl\").set_index(\n",
    "    \"gene_id\"\n",
    ")"
   ]
  },
  {
   "cell_type": "code",
   "execution_count": 17,
   "id": "726dd1f6-9557-4225-91fa-b3b879ea96e1",
   "metadata": {
    "execution": {
     "iopub.execute_input": "2022-07-22T04:06:23.659944Z",
     "iopub.status.busy": "2022-07-22T04:06:23.659505Z",
     "iopub.status.idle": "2022-07-22T04:06:23.676406Z",
     "shell.execute_reply": "2022-07-22T04:06:23.675833Z"
    },
    "papermill": {
     "duration": 0.026198,
     "end_time": "2022-07-22T04:06:23.677733",
     "exception": false,
     "start_time": "2022-07-22T04:06:23.651535",
     "status": "completed"
    },
    "tags": []
   },
   "outputs": [
    {
     "data": {
      "text/plain": [
       "(22314, 2)"
      ]
     },
     "execution_count": 17,
     "metadata": {},
     "output_type": "execute_result"
    }
   ],
   "source": [
    "spredixcan_genes_models.shape"
   ]
  },
  {
   "cell_type": "code",
   "execution_count": 18,
   "id": "944a1b48-222c-4eb0-b252-b9de2cbca215",
   "metadata": {
    "execution": {
     "iopub.execute_input": "2022-07-22T04:06:23.692794Z",
     "iopub.status.busy": "2022-07-22T04:06:23.692606Z",
     "iopub.status.idle": "2022-07-22T04:06:23.714536Z",
     "shell.execute_reply": "2022-07-22T04:06:23.714038Z"
    },
    "papermill": {
     "duration": 0.030834,
     "end_time": "2022-07-22T04:06:23.715778",
     "exception": false,
     "start_time": "2022-07-22T04:06:23.684944",
     "status": "completed"
    },
    "tags": []
   },
   "outputs": [
    {
     "data": {
      "text/html": [
       "<div>\n",
       "<style scoped>\n",
       "    .dataframe tbody tr th:only-of-type {\n",
       "        vertical-align: middle;\n",
       "    }\n",
       "\n",
       "    .dataframe tbody tr th {\n",
       "        vertical-align: top;\n",
       "    }\n",
       "\n",
       "    .dataframe thead th {\n",
       "        text-align: right;\n",
       "    }\n",
       "</style>\n",
       "<table border=\"1\" class=\"dataframe\">\n",
       "  <thead>\n",
       "    <tr style=\"text-align: right;\">\n",
       "      <th></th>\n",
       "      <th>gene_name</th>\n",
       "      <th>tissue</th>\n",
       "    </tr>\n",
       "    <tr>\n",
       "      <th>gene_id</th>\n",
       "      <th></th>\n",
       "      <th></th>\n",
       "    </tr>\n",
       "  </thead>\n",
       "  <tbody>\n",
       "    <tr>\n",
       "      <th>ENSG00000000419</th>\n",
       "      <td>DPM1</td>\n",
       "      <td>(Brain_Substantia_nigra, Brain_Hypothalamus)</td>\n",
       "    </tr>\n",
       "    <tr>\n",
       "      <th>ENSG00000000457</th>\n",
       "      <td>SCYL3</td>\n",
       "      <td>(Stomach, Adipose_Subcutaneous, Brain_Substant...</td>\n",
       "    </tr>\n",
       "    <tr>\n",
       "      <th>ENSG00000000460</th>\n",
       "      <td>C1orf112</td>\n",
       "      <td>(Adipose_Subcutaneous, Brain_Substantia_nigra,...</td>\n",
       "    </tr>\n",
       "    <tr>\n",
       "      <th>ENSG00000000938</th>\n",
       "      <td>FGR</td>\n",
       "      <td>(Stomach, Adipose_Subcutaneous, Brain_Hippocam...</td>\n",
       "    </tr>\n",
       "    <tr>\n",
       "      <th>ENSG00000000971</th>\n",
       "      <td>CFH</td>\n",
       "      <td>(Stomach, Brain_Substantia_nigra, Brain_Hippoc...</td>\n",
       "    </tr>\n",
       "  </tbody>\n",
       "</table>\n",
       "</div>"
      ],
      "text/plain": [
       "                gene_name                                             tissue\n",
       "gene_id                                                                     \n",
       "ENSG00000000419      DPM1       (Brain_Substantia_nigra, Brain_Hypothalamus)\n",
       "ENSG00000000457     SCYL3  (Stomach, Adipose_Subcutaneous, Brain_Substant...\n",
       "ENSG00000000460  C1orf112  (Adipose_Subcutaneous, Brain_Substantia_nigra,...\n",
       "ENSG00000000938       FGR  (Stomach, Adipose_Subcutaneous, Brain_Hippocam...\n",
       "ENSG00000000971       CFH  (Stomach, Brain_Substantia_nigra, Brain_Hippoc..."
      ]
     },
     "execution_count": 18,
     "metadata": {},
     "output_type": "execute_result"
    }
   ],
   "source": [
    "spredixcan_genes_models.head()"
   ]
  },
  {
   "cell_type": "code",
   "execution_count": 19,
   "id": "d1c11bb1-be0b-4f40-b360-633d6827109f",
   "metadata": {
    "execution": {
     "iopub.execute_input": "2022-07-22T04:06:23.738349Z",
     "iopub.status.busy": "2022-07-22T04:06:23.738155Z",
     "iopub.status.idle": "2022-07-22T04:06:23.757566Z",
     "shell.execute_reply": "2022-07-22T04:06:23.756963Z"
    },
    "papermill": {
     "duration": 0.036297,
     "end_time": "2022-07-22T04:06:23.759481",
     "exception": false,
     "start_time": "2022-07-22T04:06:23.723184",
     "status": "completed"
    },
    "tags": []
   },
   "outputs": [],
   "source": [
    "assert spredixcan_genes_models.index.is_unique"
   ]
  },
  {
   "cell_type": "markdown",
   "id": "6caf9d10-eda8-4ad2-8811-a983aa77a25a",
   "metadata": {
    "papermill": {
     "duration": 0.008506,
     "end_time": "2022-07-22T04:06:23.779160",
     "exception": false,
     "start_time": "2022-07-22T04:06:23.770654",
     "status": "completed"
    },
    "tags": []
   },
   "source": [
    "## Get common genes"
   ]
  },
  {
   "cell_type": "code",
   "execution_count": 20,
   "id": "f8d1e317-1cc8-4bdf-bbe9-c3b0a5478359",
   "metadata": {
    "execution": {
     "iopub.execute_input": "2022-07-22T04:06:23.795602Z",
     "iopub.status.busy": "2022-07-22T04:06:23.795378Z",
     "iopub.status.idle": "2022-07-22T04:06:23.811699Z",
     "shell.execute_reply": "2022-07-22T04:06:23.811266Z"
    },
    "papermill": {
     "duration": 0.025969,
     "end_time": "2022-07-22T04:06:23.813055",
     "exception": false,
     "start_time": "2022-07-22T04:06:23.787086",
     "status": "completed"
    },
    "tags": []
   },
   "outputs": [],
   "source": [
    "with open(INPUT_DIR / \"common_genes.pkl\", \"rb\") as handle:\n",
    "    common_genes = pickle.load(handle)"
   ]
  },
  {
   "cell_type": "code",
   "execution_count": 21,
   "id": "ce9506aa-2f38-4e46-b9c2-84d750fac0da",
   "metadata": {
    "execution": {
     "iopub.execute_input": "2022-07-22T04:06:23.828200Z",
     "iopub.status.busy": "2022-07-22T04:06:23.827995Z",
     "iopub.status.idle": "2022-07-22T04:06:23.843114Z",
     "shell.execute_reply": "2022-07-22T04:06:23.842670Z"
    },
    "papermill": {
     "duration": 0.023993,
     "end_time": "2022-07-22T04:06:23.844419",
     "exception": false,
     "start_time": "2022-07-22T04:06:23.820426",
     "status": "completed"
    },
    "tags": []
   },
   "outputs": [
    {
     "data": {
      "text/plain": [
       "6444"
      ]
     },
     "execution_count": 21,
     "metadata": {},
     "output_type": "execute_result"
    }
   ],
   "source": [
    "len(common_genes)"
   ]
  },
  {
   "cell_type": "code",
   "execution_count": 22,
   "id": "f525a698-506a-48e0-9aee-1aca62def5dd",
   "metadata": {
    "execution": {
     "iopub.execute_input": "2022-07-22T04:06:23.859903Z",
     "iopub.status.busy": "2022-07-22T04:06:23.859602Z",
     "iopub.status.idle": "2022-07-22T04:06:23.876651Z",
     "shell.execute_reply": "2022-07-22T04:06:23.876221Z"
    },
    "papermill": {
     "duration": 0.026079,
     "end_time": "2022-07-22T04:06:23.877917",
     "exception": false,
     "start_time": "2022-07-22T04:06:23.851838",
     "status": "completed"
    },
    "tags": []
   },
   "outputs": [
    {
     "data": {
      "text/plain": [
       "['A2M', 'AAAS', 'AANAT', 'AARS', 'AARS2']"
      ]
     },
     "execution_count": 22,
     "metadata": {},
     "output_type": "execute_result"
    }
   ],
   "source": [
    "sorted(list(common_genes))[:5]"
   ]
  },
  {
   "cell_type": "markdown",
   "id": "a5b5092c-a13e-47c4-a92a-480fcc08f3ae",
   "metadata": {
    "papermill": {
     "duration": 0.007498,
     "end_time": "2022-07-22T04:06:23.892796",
     "exception": false,
     "start_time": "2022-07-22T04:06:23.885298",
     "status": "completed"
    },
    "tags": []
   },
   "source": [
    "## Gene info"
   ]
  },
  {
   "cell_type": "code",
   "execution_count": 23,
   "id": "7d6bb224-88e9-4358-ac10-43a41d92cdad",
   "metadata": {
    "execution": {
     "iopub.execute_input": "2022-07-22T04:06:23.908602Z",
     "iopub.status.busy": "2022-07-22T04:06:23.908258Z",
     "iopub.status.idle": "2022-07-22T04:06:23.925627Z",
     "shell.execute_reply": "2022-07-22T04:06:23.925148Z"
    },
    "papermill": {
     "duration": 0.02664,
     "end_time": "2022-07-22T04:06:23.927011",
     "exception": false,
     "start_time": "2022-07-22T04:06:23.900371",
     "status": "completed"
    },
    "tags": []
   },
   "outputs": [],
   "source": [
    "genes_info = pd.read_pickle(INPUT_DIR / \"genes_info.pkl\")"
   ]
  },
  {
   "cell_type": "code",
   "execution_count": 24,
   "id": "9e32abfa-546d-483e-8c18-d526e9e05903",
   "metadata": {
    "execution": {
     "iopub.execute_input": "2022-07-22T04:06:23.942711Z",
     "iopub.status.busy": "2022-07-22T04:06:23.942418Z",
     "iopub.status.idle": "2022-07-22T04:06:23.959596Z",
     "shell.execute_reply": "2022-07-22T04:06:23.959168Z"
    },
    "papermill": {
     "duration": 0.026328,
     "end_time": "2022-07-22T04:06:23.960874",
     "exception": false,
     "start_time": "2022-07-22T04:06:23.934546",
     "status": "completed"
    },
    "tags": []
   },
   "outputs": [
    {
     "data": {
      "text/plain": [
       "(6444, 7)"
      ]
     },
     "execution_count": 24,
     "metadata": {},
     "output_type": "execute_result"
    }
   ],
   "source": [
    "genes_info.shape"
   ]
  },
  {
   "cell_type": "code",
   "execution_count": 25,
   "id": "d16c3e92-85ec-468a-9a56-e25a9774a1cb",
   "metadata": {
    "execution": {
     "iopub.execute_input": "2022-07-22T04:06:23.977051Z",
     "iopub.status.busy": "2022-07-22T04:06:23.976647Z",
     "iopub.status.idle": "2022-07-22T04:06:23.996970Z",
     "shell.execute_reply": "2022-07-22T04:06:23.996541Z"
    },
    "papermill": {
     "duration": 0.029874,
     "end_time": "2022-07-22T04:06:23.998340",
     "exception": false,
     "start_time": "2022-07-22T04:06:23.968466",
     "status": "completed"
    },
    "tags": []
   },
   "outputs": [
    {
     "data": {
      "text/html": [
       "<div>\n",
       "<style scoped>\n",
       "    .dataframe tbody tr th:only-of-type {\n",
       "        vertical-align: middle;\n",
       "    }\n",
       "\n",
       "    .dataframe tbody tr th {\n",
       "        vertical-align: top;\n",
       "    }\n",
       "\n",
       "    .dataframe thead th {\n",
       "        text-align: right;\n",
       "    }\n",
       "</style>\n",
       "<table border=\"1\" class=\"dataframe\">\n",
       "  <thead>\n",
       "    <tr style=\"text-align: right;\">\n",
       "      <th></th>\n",
       "      <th>name</th>\n",
       "      <th>id</th>\n",
       "      <th>chr</th>\n",
       "      <th>band</th>\n",
       "      <th>start_position</th>\n",
       "      <th>end_position</th>\n",
       "      <th>gene_length</th>\n",
       "    </tr>\n",
       "  </thead>\n",
       "  <tbody>\n",
       "    <tr>\n",
       "      <th>0</th>\n",
       "      <td>MFN2</td>\n",
       "      <td>ENSG00000116688</td>\n",
       "      <td>1</td>\n",
       "      <td>1p36.22</td>\n",
       "      <td>11980181.0</td>\n",
       "      <td>12013514.0</td>\n",
       "      <td>33333.0</td>\n",
       "    </tr>\n",
       "    <tr>\n",
       "      <th>1</th>\n",
       "      <td>PPA2</td>\n",
       "      <td>ENSG00000138777</td>\n",
       "      <td>4</td>\n",
       "      <td>4q24</td>\n",
       "      <td>105369077.0</td>\n",
       "      <td>105474067.0</td>\n",
       "      <td>104990.0</td>\n",
       "    </tr>\n",
       "    <tr>\n",
       "      <th>2</th>\n",
       "      <td>ADRA2A</td>\n",
       "      <td>ENSG00000150594</td>\n",
       "      <td>10</td>\n",
       "      <td>10q25.2</td>\n",
       "      <td>111077163.0</td>\n",
       "      <td>111080907.0</td>\n",
       "      <td>3744.0</td>\n",
       "    </tr>\n",
       "    <tr>\n",
       "      <th>3</th>\n",
       "      <td>RYR2</td>\n",
       "      <td>ENSG00000198626</td>\n",
       "      <td>1</td>\n",
       "      <td>1q43</td>\n",
       "      <td>237042184.0</td>\n",
       "      <td>237833988.0</td>\n",
       "      <td>791804.0</td>\n",
       "    </tr>\n",
       "    <tr>\n",
       "      <th>4</th>\n",
       "      <td>VAV2</td>\n",
       "      <td>ENSG00000160293</td>\n",
       "      <td>9</td>\n",
       "      <td>9q34.2</td>\n",
       "      <td>133761894.0</td>\n",
       "      <td>133992604.0</td>\n",
       "      <td>230710.0</td>\n",
       "    </tr>\n",
       "  </tbody>\n",
       "</table>\n",
       "</div>"
      ],
      "text/plain": [
       "     name               id chr     band  start_position  end_position  \\\n",
       "0    MFN2  ENSG00000116688   1  1p36.22      11980181.0    12013514.0   \n",
       "1    PPA2  ENSG00000138777   4     4q24     105369077.0   105474067.0   \n",
       "2  ADRA2A  ENSG00000150594  10  10q25.2     111077163.0   111080907.0   \n",
       "3    RYR2  ENSG00000198626   1     1q43     237042184.0   237833988.0   \n",
       "4    VAV2  ENSG00000160293   9   9q34.2     133761894.0   133992604.0   \n",
       "\n",
       "   gene_length  \n",
       "0      33333.0  \n",
       "1     104990.0  \n",
       "2       3744.0  \n",
       "3     791804.0  \n",
       "4     230710.0  "
      ]
     },
     "execution_count": 25,
     "metadata": {},
     "output_type": "execute_result"
    }
   ],
   "source": [
    "genes_info.head()"
   ]
  },
  {
   "cell_type": "markdown",
   "id": "d3843e06",
   "metadata": {
    "papermill": {
     "duration": 0.007314,
     "end_time": "2022-07-22T04:06:24.013474",
     "exception": false,
     "start_time": "2022-07-22T04:06:24.006160",
     "status": "completed"
    },
    "tags": []
   },
   "source": [
    "# Compute correlations"
   ]
  },
  {
   "cell_type": "code",
   "execution_count": 26,
   "id": "cb859c15-d1f3-4006-a74c-2b83c0db9611",
   "metadata": {
    "execution": {
     "iopub.execute_input": "2022-07-22T04:06:24.029536Z",
     "iopub.status.busy": "2022-07-22T04:06:24.029238Z",
     "iopub.status.idle": "2022-07-22T04:06:24.044382Z",
     "shell.execute_reply": "2022-07-22T04:06:24.043938Z"
    },
    "papermill": {
     "duration": 0.024569,
     "end_time": "2022-07-22T04:06:24.045630",
     "exception": false,
     "start_time": "2022-07-22T04:06:24.021061",
     "status": "completed"
    },
    "tags": []
   },
   "outputs": [
    {
     "data": {
      "text/plain": [
       "PosixPath('/opt/data/results/gls/gene_corrs/cohorts/1000g_eur/1000g/mashr/by_chr/gene_corrs-chr9.pkl')"
      ]
     },
     "metadata": {},
     "output_type": "display_data"
    }
   ],
   "source": [
    "output_dir = OUTPUT_DIR_BASE / \"by_chr\"\n",
    "output_dir.mkdir(exist_ok=True, parents=True)\n",
    "output_file = output_dir / f\"gene_corrs-chr{CHROMOSOME}.pkl\"\n",
    "display(output_file)"
   ]
  },
  {
   "cell_type": "code",
   "execution_count": 27,
   "id": "aa674fe4-6794-4eed-98fa-32b39d1d4ace",
   "metadata": {
    "execution": {
     "iopub.execute_input": "2022-07-22T04:06:24.061862Z",
     "iopub.status.busy": "2022-07-22T04:06:24.061588Z",
     "iopub.status.idle": "2022-07-22T04:06:24.076409Z",
     "shell.execute_reply": "2022-07-22T04:06:24.075978Z"
    },
    "papermill": {
     "duration": 0.024308,
     "end_time": "2022-07-22T04:06:24.077776",
     "exception": false,
     "start_time": "2022-07-22T04:06:24.053468",
     "status": "completed"
    },
    "tags": []
   },
   "outputs": [],
   "source": [
    "warnings.filterwarnings(\"error\")"
   ]
  },
  {
   "cell_type": "code",
   "execution_count": 28,
   "id": "44d5450b-3baf-43f1-9e2e-4b06f1a785f8",
   "metadata": {
    "execution": {
     "iopub.execute_input": "2022-07-22T04:06:24.094490Z",
     "iopub.status.busy": "2022-07-22T04:06:24.094215Z",
     "iopub.status.idle": "2022-07-22T04:06:24.109991Z",
     "shell.execute_reply": "2022-07-22T04:06:24.109585Z"
    },
    "papermill": {
     "duration": 0.025516,
     "end_time": "2022-07-22T04:06:24.111338",
     "exception": false,
     "start_time": "2022-07-22T04:06:24.085822",
     "status": "completed"
    },
    "tags": []
   },
   "outputs": [],
   "source": [
    "# standard checks\n",
    "all_chrs = genes_info[\"chr\"].dropna().unique()\n",
    "assert all_chrs.shape[0] == 22\n",
    "\n",
    "# select chromosome given by the user\n",
    "assert CHROMOSOME in all_chrs"
   ]
  },
  {
   "cell_type": "code",
   "execution_count": 29,
   "id": "2d7c043c-92a7-4d35-991b-fa69ac1e0268",
   "metadata": {
    "execution": {
     "iopub.execute_input": "2022-07-22T04:06:24.127832Z",
     "iopub.status.busy": "2022-07-22T04:06:24.127526Z",
     "iopub.status.idle": "2022-07-22T04:06:24.143928Z",
     "shell.execute_reply": "2022-07-22T04:06:24.143389Z"
    },
    "papermill": {
     "duration": 0.025931,
     "end_time": "2022-07-22T04:06:24.145233",
     "exception": false,
     "start_time": "2022-07-22T04:06:24.119302",
     "status": "completed"
    },
    "tags": []
   },
   "outputs": [
    {
     "name": "stdout",
     "output_type": "stream",
     "text": [
      "Number of genes in chromosome: 245\n"
     ]
    }
   ],
   "source": [
    "# run only on the chromosome specified\n",
    "all_chrs = [CHROMOSOME]\n",
    "genes_chr = genes_info[genes_info[\"chr\"] == CHROMOSOME]\n",
    "\n",
    "# For testing purposes\n",
    "# genes_chr = genes_chr.sample(n=20)\n",
    "\n",
    "print(f\"Number of genes in chromosome: {genes_chr.shape[0]}\", flush=True)"
   ]
  },
  {
   "cell_type": "code",
   "execution_count": 30,
   "id": "916015d8-2979-46d3-a9b9-1cf5a0932c6a",
   "metadata": {
    "execution": {
     "iopub.execute_input": "2022-07-22T04:06:24.161880Z",
     "iopub.status.busy": "2022-07-22T04:06:24.161588Z",
     "iopub.status.idle": "2022-07-22T04:06:24.176471Z",
     "shell.execute_reply": "2022-07-22T04:06:24.175940Z"
    },
    "papermill": {
     "duration": 0.024567,
     "end_time": "2022-07-22T04:06:24.177848",
     "exception": false,
     "start_time": "2022-07-22T04:06:24.153281",
     "status": "completed"
    },
    "tags": []
   },
   "outputs": [],
   "source": [
    "# sort genes by starting position to make visualizations better later\n",
    "genes_chr = genes_chr.sort_values(\"start_position\")"
   ]
  },
  {
   "cell_type": "code",
   "execution_count": 31,
   "id": "a38aa74a-8ad3-47f6-8ef9-56be0e011774",
   "metadata": {
    "execution": {
     "iopub.execute_input": "2022-07-22T04:06:24.195161Z",
     "iopub.status.busy": "2022-07-22T04:06:24.194708Z",
     "iopub.status.idle": "2022-07-22T04:06:24.209489Z",
     "shell.execute_reply": "2022-07-22T04:06:24.209012Z"
    },
    "papermill": {
     "duration": 0.024825,
     "end_time": "2022-07-22T04:06:24.210846",
     "exception": false,
     "start_time": "2022-07-22T04:06:24.186021",
     "status": "completed"
    },
    "tags": []
   },
   "outputs": [],
   "source": [
    "gene_chr_objs = [Gene(ensembl_id=gene_id) for gene_id in genes_chr[\"id\"]]"
   ]
  },
  {
   "cell_type": "code",
   "execution_count": 32,
   "id": "570f974f-13c3-42b6-ad3a-ce99ca885c1a",
   "metadata": {
    "execution": {
     "iopub.execute_input": "2022-07-22T04:06:24.227792Z",
     "iopub.status.busy": "2022-07-22T04:06:24.227374Z",
     "iopub.status.idle": "2022-07-22T04:06:24.242309Z",
     "shell.execute_reply": "2022-07-22T04:06:24.241847Z"
    },
    "papermill": {
     "duration": 0.02456,
     "end_time": "2022-07-22T04:06:24.243564",
     "exception": false,
     "start_time": "2022-07-22T04:06:24.219004",
     "status": "completed"
    },
    "tags": []
   },
   "outputs": [
    {
     "name": "stdout",
     "output_type": "stream",
     "text": [
      "Number of gene combinations: 29890\n"
     ]
    }
   ],
   "source": [
    "n = len(gene_chr_objs)\n",
    "n_comb = int(n * (n - 1) / 2.0)\n",
    "print(f\"Number of gene combinations: {n_comb}\", flush=True)"
   ]
  },
  {
   "cell_type": "code",
   "execution_count": 33,
   "id": "cdbb90a1",
   "metadata": {
    "execution": {
     "iopub.execute_input": "2022-07-22T04:06:24.260668Z",
     "iopub.status.busy": "2022-07-22T04:06:24.260269Z",
     "iopub.status.idle": "2022-07-22T04:12:44.906991Z",
     "shell.execute_reply": "2022-07-22T04:12:44.906574Z"
    },
    "papermill": {
     "duration": 380.656496,
     "end_time": "2022-07-22T04:12:44.908244",
     "exception": false,
     "start_time": "2022-07-22T04:06:24.251748",
     "status": "completed"
    },
    "tags": []
   },
   "outputs": [
    {
     "name": "stderr",
     "output_type": "stream",
     "text": [
      "ENSG00000182154 / ENSG00000181090: 100%|██████████████████████| 29890/29890 [06:20<00:00, 78.53it/s]\n"
     ]
    },
    {
     "data": {
      "text/plain": [
       "PosixPath('/opt/data/results/gls/gene_corrs/cohorts/1000g_eur/1000g/mashr/by_chr/gene_corrs-chr9.pkl')"
      ]
     },
     "metadata": {},
     "output_type": "display_data"
    }
   ],
   "source": [
    "gene_corrs = []\n",
    "\n",
    "i = 0\n",
    "with tqdm(ncols=100, total=n_comb) as pbar:\n",
    "    for gene1_idx in range(0, len(gene_chr_objs) - 1):\n",
    "        gene1_obj = gene_chr_objs[gene1_idx]\n",
    "        gene1_tissues = spredixcan_genes_models.loc[gene1_obj.ensembl_id, \"tissue\"]\n",
    "\n",
    "        for gene2_idx in range(gene1_idx + 1, len(gene_chr_objs)):\n",
    "            gene2_obj = gene_chr_objs[gene2_idx]\n",
    "            gene2_tissues = spredixcan_genes_models.loc[gene2_obj.ensembl_id, \"tissue\"]\n",
    "\n",
    "            pbar.set_description(f\"{gene1_obj.ensembl_id} / {gene2_obj.ensembl_id}\")\n",
    "\n",
    "            try:\n",
    "                r = gene1_obj.get_ssm_correlation(\n",
    "                    other_gene=gene2_obj,\n",
    "                    tissues=gene1_tissues,\n",
    "                    other_tissues=gene2_tissues,\n",
    "                    snps_subset=gwas_variants_ids_set,\n",
    "                    condition_number=SMULTIXCAN_CONDITION_NUMBER,\n",
    "                    reference_panel=REFERENCE_PANEL,\n",
    "                    model_type=EQTL_MODEL,\n",
    "                    use_within_distance=COMPUTE_CORRELATIONS_WITHIN_DISTANCE,\n",
    "                )\n",
    "\n",
    "                if r is None:\n",
    "                    # if r is None, it's very likely because:\n",
    "                    #  * one of the genes has no prediction models\n",
    "                    #  * all the SNPs predictors for the gene are not present in the reference\n",
    "                    #    panel\n",
    "\n",
    "                    r = 0.0\n",
    "\n",
    "                gene_corrs.append(r)\n",
    "            except Warning as e:\n",
    "                if not DEBUG_MODE:\n",
    "                    raise e\n",
    "\n",
    "                print(\n",
    "                    f\"RuntimeWarning for genes {gene1_obj.ensembl_id} and {gene2_obj.ensembl_id}\",\n",
    "                    flush=True,\n",
    "                )\n",
    "                print(traceback.format_exc(), flush=True)\n",
    "\n",
    "                gene_corrs.append(np.nan)\n",
    "            except Exception as e:\n",
    "                if not DEBUG_MODE:\n",
    "                    raise e\n",
    "\n",
    "                print(\n",
    "                    f\"Exception for genes {gene1_obj.ensembl_id} and {gene2_obj.ensembl_id}\",\n",
    "                    flush=True,\n",
    "                )\n",
    "                print(traceback.format_exc(), flush=True)\n",
    "\n",
    "                gene_corrs.append(np.nan)\n",
    "\n",
    "            pbar.update(1)\n",
    "\n",
    "# create a pandas series\n",
    "gene_corrs_flat = pd.Series(gene_corrs)\n",
    "\n",
    "# save\n",
    "# FIXME: consider saving only the condenced matrix here. See here for\n",
    "# more details: https://github.com/greenelab/phenoplier/pull/38#discussion_r634600813\n",
    "gene_corrs_data = squareform(np.array(gene_corrs, dtype=np.float64))\n",
    "np.fill_diagonal(gene_corrs_data, 1.0)\n",
    "\n",
    "gene_chr_ids = [g.ensembl_id for g in gene_chr_objs]\n",
    "gene_corrs_df = pd.DataFrame(\n",
    "    data=gene_corrs_data,\n",
    "    index=gene_chr_ids,\n",
    "    columns=gene_chr_ids,\n",
    ")\n",
    "\n",
    "output_dir.mkdir(exist_ok=True, parents=True)\n",
    "display(output_file)\n",
    "\n",
    "gene_corrs_df.to_pickle(output_file)"
   ]
  },
  {
   "cell_type": "markdown",
   "id": "faa67b51-5373-470f-aa72-2ded53fa6dfe",
   "metadata": {
    "papermill": {
     "duration": 1.199338,
     "end_time": "2022-07-22T04:12:47.290832",
     "exception": false,
     "start_time": "2022-07-22T04:12:46.091494",
     "status": "completed"
    },
    "tags": []
   },
   "source": [
    "# Testing"
   ]
  },
  {
   "cell_type": "code",
   "execution_count": 34,
   "id": "14f7d046-4b55-4896-a56b-990127bcc388",
   "metadata": {
    "execution": {
     "iopub.execute_input": "2022-07-22T04:12:49.656880Z",
     "iopub.status.busy": "2022-07-22T04:12:49.656709Z",
     "iopub.status.idle": "2022-07-22T04:12:49.672851Z",
     "shell.execute_reply": "2022-07-22T04:12:49.672406Z"
    },
    "papermill": {
     "duration": 1.225847,
     "end_time": "2022-07-22T04:12:49.674149",
     "exception": false,
     "start_time": "2022-07-22T04:12:48.448302",
     "status": "completed"
    },
    "tags": []
   },
   "outputs": [
    {
     "data": {
      "text/plain": [
       "(245, 245)"
      ]
     },
     "execution_count": 34,
     "metadata": {},
     "output_type": "execute_result"
    }
   ],
   "source": [
    "gene_corrs_df.shape"
   ]
  },
  {
   "cell_type": "code",
   "execution_count": 35,
   "id": "c7d15414-3297-4537-a7c6-7588c0baeb75",
   "metadata": {
    "execution": {
     "iopub.execute_input": "2022-07-22T04:12:51.988120Z",
     "iopub.status.busy": "2022-07-22T04:12:51.987910Z",
     "iopub.status.idle": "2022-07-22T04:12:52.019279Z",
     "shell.execute_reply": "2022-07-22T04:12:52.018866Z"
    },
    "papermill": {
     "duration": 1.205426,
     "end_time": "2022-07-22T04:12:52.020560",
     "exception": false,
     "start_time": "2022-07-22T04:12:50.815134",
     "status": "completed"
    },
    "tags": []
   },
   "outputs": [
    {
     "data": {
      "text/html": [
       "<div>\n",
       "<style scoped>\n",
       "    .dataframe tbody tr th:only-of-type {\n",
       "        vertical-align: middle;\n",
       "    }\n",
       "\n",
       "    .dataframe tbody tr th {\n",
       "        vertical-align: top;\n",
       "    }\n",
       "\n",
       "    .dataframe thead th {\n",
       "        text-align: right;\n",
       "    }\n",
       "</style>\n",
       "<table border=\"1\" class=\"dataframe\">\n",
       "  <thead>\n",
       "    <tr style=\"text-align: right;\">\n",
       "      <th></th>\n",
       "      <th>ENSG00000107099</th>\n",
       "      <th>ENSG00000080503</th>\n",
       "      <th>ENSG00000147852</th>\n",
       "      <th>ENSG00000107249</th>\n",
       "      <th>ENSG00000147853</th>\n",
       "      <th>ENSG00000096968</th>\n",
       "      <th>ENSG00000107014</th>\n",
       "      <th>ENSG00000120217</th>\n",
       "      <th>ENSG00000197646</th>\n",
       "      <th>ENSG00000178445</th>\n",
       "      <th>...</th>\n",
       "      <th>ENSG00000107317</th>\n",
       "      <th>ENSG00000169583</th>\n",
       "      <th>ENSG00000107331</th>\n",
       "      <th>ENSG00000054179</th>\n",
       "      <th>ENSG00000177239</th>\n",
       "      <th>ENSG00000176248</th>\n",
       "      <th>ENSG00000176101</th>\n",
       "      <th>ENSG00000188747</th>\n",
       "      <th>ENSG00000182154</th>\n",
       "      <th>ENSG00000181090</th>\n",
       "    </tr>\n",
       "  </thead>\n",
       "  <tbody>\n",
       "    <tr>\n",
       "      <th>ENSG00000107099</th>\n",
       "      <td>1.000000</td>\n",
       "      <td>0.010578</td>\n",
       "      <td>0.028120</td>\n",
       "      <td>0.011640</td>\n",
       "      <td>0.017930</td>\n",
       "      <td>0.010548</td>\n",
       "      <td>0.006667</td>\n",
       "      <td>0.013394</td>\n",
       "      <td>0.000000</td>\n",
       "      <td>0.000000</td>\n",
       "      <td>...</td>\n",
       "      <td>0.0</td>\n",
       "      <td>0.0</td>\n",
       "      <td>0.0</td>\n",
       "      <td>0.0</td>\n",
       "      <td>0.0</td>\n",
       "      <td>0.0</td>\n",
       "      <td>0.0</td>\n",
       "      <td>0.0</td>\n",
       "      <td>0.0</td>\n",
       "      <td>0.0</td>\n",
       "    </tr>\n",
       "    <tr>\n",
       "      <th>ENSG00000080503</th>\n",
       "      <td>0.010578</td>\n",
       "      <td>1.000000</td>\n",
       "      <td>0.019059</td>\n",
       "      <td>0.012062</td>\n",
       "      <td>0.010278</td>\n",
       "      <td>0.011658</td>\n",
       "      <td>0.008593</td>\n",
       "      <td>0.013771</td>\n",
       "      <td>0.007175</td>\n",
       "      <td>0.011470</td>\n",
       "      <td>...</td>\n",
       "      <td>0.0</td>\n",
       "      <td>0.0</td>\n",
       "      <td>0.0</td>\n",
       "      <td>0.0</td>\n",
       "      <td>0.0</td>\n",
       "      <td>0.0</td>\n",
       "      <td>0.0</td>\n",
       "      <td>0.0</td>\n",
       "      <td>0.0</td>\n",
       "      <td>0.0</td>\n",
       "    </tr>\n",
       "    <tr>\n",
       "      <th>ENSG00000147852</th>\n",
       "      <td>0.028120</td>\n",
       "      <td>0.019059</td>\n",
       "      <td>1.000000</td>\n",
       "      <td>0.022365</td>\n",
       "      <td>0.020779</td>\n",
       "      <td>0.031613</td>\n",
       "      <td>0.017493</td>\n",
       "      <td>0.025442</td>\n",
       "      <td>0.015485</td>\n",
       "      <td>0.018156</td>\n",
       "      <td>...</td>\n",
       "      <td>0.0</td>\n",
       "      <td>0.0</td>\n",
       "      <td>0.0</td>\n",
       "      <td>0.0</td>\n",
       "      <td>0.0</td>\n",
       "      <td>0.0</td>\n",
       "      <td>0.0</td>\n",
       "      <td>0.0</td>\n",
       "      <td>0.0</td>\n",
       "      <td>0.0</td>\n",
       "    </tr>\n",
       "    <tr>\n",
       "      <th>ENSG00000107249</th>\n",
       "      <td>0.011640</td>\n",
       "      <td>0.012062</td>\n",
       "      <td>0.022365</td>\n",
       "      <td>1.000000</td>\n",
       "      <td>0.022874</td>\n",
       "      <td>0.018729</td>\n",
       "      <td>0.011897</td>\n",
       "      <td>0.015548</td>\n",
       "      <td>0.009184</td>\n",
       "      <td>0.013681</td>\n",
       "      <td>...</td>\n",
       "      <td>0.0</td>\n",
       "      <td>0.0</td>\n",
       "      <td>0.0</td>\n",
       "      <td>0.0</td>\n",
       "      <td>0.0</td>\n",
       "      <td>0.0</td>\n",
       "      <td>0.0</td>\n",
       "      <td>0.0</td>\n",
       "      <td>0.0</td>\n",
       "      <td>0.0</td>\n",
       "    </tr>\n",
       "    <tr>\n",
       "      <th>ENSG00000147853</th>\n",
       "      <td>0.017930</td>\n",
       "      <td>0.010278</td>\n",
       "      <td>0.020779</td>\n",
       "      <td>0.022874</td>\n",
       "      <td>1.000000</td>\n",
       "      <td>0.032336</td>\n",
       "      <td>0.012458</td>\n",
       "      <td>0.015127</td>\n",
       "      <td>0.013069</td>\n",
       "      <td>0.016242</td>\n",
       "      <td>...</td>\n",
       "      <td>0.0</td>\n",
       "      <td>0.0</td>\n",
       "      <td>0.0</td>\n",
       "      <td>0.0</td>\n",
       "      <td>0.0</td>\n",
       "      <td>0.0</td>\n",
       "      <td>0.0</td>\n",
       "      <td>0.0</td>\n",
       "      <td>0.0</td>\n",
       "      <td>0.0</td>\n",
       "    </tr>\n",
       "  </tbody>\n",
       "</table>\n",
       "<p>5 rows × 245 columns</p>\n",
       "</div>"
      ],
      "text/plain": [
       "                 ENSG00000107099  ENSG00000080503  ENSG00000147852  \\\n",
       "ENSG00000107099         1.000000         0.010578         0.028120   \n",
       "ENSG00000080503         0.010578         1.000000         0.019059   \n",
       "ENSG00000147852         0.028120         0.019059         1.000000   \n",
       "ENSG00000107249         0.011640         0.012062         0.022365   \n",
       "ENSG00000147853         0.017930         0.010278         0.020779   \n",
       "\n",
       "                 ENSG00000107249  ENSG00000147853  ENSG00000096968  \\\n",
       "ENSG00000107099         0.011640         0.017930         0.010548   \n",
       "ENSG00000080503         0.012062         0.010278         0.011658   \n",
       "ENSG00000147852         0.022365         0.020779         0.031613   \n",
       "ENSG00000107249         1.000000         0.022874         0.018729   \n",
       "ENSG00000147853         0.022874         1.000000         0.032336   \n",
       "\n",
       "                 ENSG00000107014  ENSG00000120217  ENSG00000197646  \\\n",
       "ENSG00000107099         0.006667         0.013394         0.000000   \n",
       "ENSG00000080503         0.008593         0.013771         0.007175   \n",
       "ENSG00000147852         0.017493         0.025442         0.015485   \n",
       "ENSG00000107249         0.011897         0.015548         0.009184   \n",
       "ENSG00000147853         0.012458         0.015127         0.013069   \n",
       "\n",
       "                 ENSG00000178445  ...  ENSG00000107317  ENSG00000169583  \\\n",
       "ENSG00000107099         0.000000  ...              0.0              0.0   \n",
       "ENSG00000080503         0.011470  ...              0.0              0.0   \n",
       "ENSG00000147852         0.018156  ...              0.0              0.0   \n",
       "ENSG00000107249         0.013681  ...              0.0              0.0   \n",
       "ENSG00000147853         0.016242  ...              0.0              0.0   \n",
       "\n",
       "                 ENSG00000107331  ENSG00000054179  ENSG00000177239  \\\n",
       "ENSG00000107099              0.0              0.0              0.0   \n",
       "ENSG00000080503              0.0              0.0              0.0   \n",
       "ENSG00000147852              0.0              0.0              0.0   \n",
       "ENSG00000107249              0.0              0.0              0.0   \n",
       "ENSG00000147853              0.0              0.0              0.0   \n",
       "\n",
       "                 ENSG00000176248  ENSG00000176101  ENSG00000188747  \\\n",
       "ENSG00000107099              0.0              0.0              0.0   \n",
       "ENSG00000080503              0.0              0.0              0.0   \n",
       "ENSG00000147852              0.0              0.0              0.0   \n",
       "ENSG00000107249              0.0              0.0              0.0   \n",
       "ENSG00000147853              0.0              0.0              0.0   \n",
       "\n",
       "                 ENSG00000182154  ENSG00000181090  \n",
       "ENSG00000107099              0.0              0.0  \n",
       "ENSG00000080503              0.0              0.0  \n",
       "ENSG00000147852              0.0              0.0  \n",
       "ENSG00000107249              0.0              0.0  \n",
       "ENSG00000147853              0.0              0.0  \n",
       "\n",
       "[5 rows x 245 columns]"
      ]
     },
     "execution_count": 35,
     "metadata": {},
     "output_type": "execute_result"
    }
   ],
   "source": [
    "gene_corrs_df.head()"
   ]
  },
  {
   "cell_type": "markdown",
   "id": "dad6603f-01c6-41fb-a6f6-241051207dd8",
   "metadata": {
    "papermill": {
     "duration": 1.163557,
     "end_time": "2022-07-22T04:12:54.334827",
     "exception": false,
     "start_time": "2022-07-22T04:12:53.171270",
     "status": "completed"
    },
    "tags": []
   },
   "source": [
    "## Standard checks and stats"
   ]
  },
  {
   "cell_type": "code",
   "execution_count": 36,
   "id": "286686af-1b7b-4440-8453-6bdcbd8de19c",
   "metadata": {
    "execution": {
     "iopub.execute_input": "2022-07-22T04:12:56.721792Z",
     "iopub.status.busy": "2022-07-22T04:12:56.721554Z",
     "iopub.status.idle": "2022-07-22T04:12:56.737988Z",
     "shell.execute_reply": "2022-07-22T04:12:56.737581Z"
    },
    "papermill": {
     "duration": 1.20731,
     "end_time": "2022-07-22T04:12:56.739373",
     "exception": false,
     "start_time": "2022-07-22T04:12:55.532063",
     "status": "completed"
    },
    "tags": []
   },
   "outputs": [],
   "source": [
    "assert not gene_corrs_df.isna().any().any()"
   ]
  },
  {
   "cell_type": "code",
   "execution_count": 37,
   "id": "00583efc-7068-4270-ad1e-4a418e91db96",
   "metadata": {
    "execution": {
     "iopub.execute_input": "2022-07-22T04:12:59.070787Z",
     "iopub.status.busy": "2022-07-22T04:12:59.070072Z",
     "iopub.status.idle": "2022-07-22T04:12:59.087786Z",
     "shell.execute_reply": "2022-07-22T04:12:59.087283Z"
    },
    "papermill": {
     "duration": 1.209518,
     "end_time": "2022-07-22T04:12:59.089015",
     "exception": false,
     "start_time": "2022-07-22T04:12:57.879497",
     "status": "completed"
    },
    "tags": []
   },
   "outputs": [
    {
     "data": {
      "text/plain": [
       "0.0"
      ]
     },
     "metadata": {},
     "output_type": "display_data"
    }
   ],
   "source": [
    "_min_val = gene_corrs_df.min().min()\n",
    "display(_min_val)\n",
    "assert _min_val >= 0.0"
   ]
  },
  {
   "cell_type": "code",
   "execution_count": 38,
   "id": "d04fb2cf-1050-475b-b855-f5f7cc04092b",
   "metadata": {
    "execution": {
     "iopub.execute_input": "2022-07-22T04:13:01.402908Z",
     "iopub.status.busy": "2022-07-22T04:13:01.402689Z",
     "iopub.status.idle": "2022-07-22T04:13:01.419959Z",
     "shell.execute_reply": "2022-07-22T04:13:01.419499Z"
    },
    "papermill": {
     "duration": 1.17648,
     "end_time": "2022-07-22T04:13:01.421273",
     "exception": false,
     "start_time": "2022-07-22T04:13:00.244793",
     "status": "completed"
    },
    "tags": []
   },
   "outputs": [
    {
     "data": {
      "text/plain": [
       "1.0"
      ]
     },
     "metadata": {},
     "output_type": "display_data"
    }
   ],
   "source": [
    "_max_val = gene_corrs_df.max().max()  # this captures the diagonal\n",
    "display(_max_val)\n",
    "assert _max_val <= 1.0"
   ]
  },
  {
   "cell_type": "code",
   "execution_count": 39,
   "id": "96d02c44-1fba-47be-8a93-8f2608420b9c",
   "metadata": {
    "execution": {
     "iopub.execute_input": "2022-07-22T04:13:03.762440Z",
     "iopub.status.busy": "2022-07-22T04:13:03.762172Z",
     "iopub.status.idle": "2022-07-22T04:13:03.777814Z",
     "shell.execute_reply": "2022-07-22T04:13:03.777368Z"
    },
    "papermill": {
     "duration": 1.175634,
     "end_time": "2022-07-22T04:13:03.779170",
     "exception": false,
     "start_time": "2022-07-22T04:13:02.603536",
     "status": "completed"
    },
    "tags": []
   },
   "outputs": [],
   "source": [
    "# check upper triangular values\n",
    "assert len(gene_corrs) == int(genes_chr.shape[0] * (genes_chr.shape[0] - 1) / 2)"
   ]
  },
  {
   "cell_type": "code",
   "execution_count": 40,
   "id": "fe283586-c348-40e0-8841-f6d97bfb021c",
   "metadata": {
    "execution": {
     "iopub.execute_input": "2022-07-22T04:13:06.130361Z",
     "iopub.status.busy": "2022-07-22T04:13:06.130075Z",
     "iopub.status.idle": "2022-07-22T04:13:06.148760Z",
     "shell.execute_reply": "2022-07-22T04:13:06.148319Z"
    },
    "papermill": {
     "duration": 1.208181,
     "end_time": "2022-07-22T04:13:06.149963",
     "exception": false,
     "start_time": "2022-07-22T04:13:04.941782",
     "status": "completed"
    },
    "tags": []
   },
   "outputs": [
    {
     "data": {
      "text/plain": [
       "count    29890.000000\n",
       "mean         0.003248\n",
       "std          0.027756\n",
       "min          0.000000\n",
       "25%          0.000000\n",
       "50%          0.000000\n",
       "75%          0.000000\n",
       "max          0.923684\n",
       "dtype: float64"
      ]
     },
     "execution_count": 40,
     "metadata": {},
     "output_type": "execute_result"
    }
   ],
   "source": [
    "gene_corrs_flat.describe()"
   ]
  },
  {
   "cell_type": "code",
   "execution_count": 41,
   "id": "b3815678-0f93-4b35-897b-a9d047a2aa78",
   "metadata": {
    "execution": {
     "iopub.execute_input": "2022-07-22T04:13:08.506671Z",
     "iopub.status.busy": "2022-07-22T04:13:08.506431Z",
     "iopub.status.idle": "2022-07-22T04:13:08.525662Z",
     "shell.execute_reply": "2022-07-22T04:13:08.525229Z"
    },
    "papermill": {
     "duration": 1.240565,
     "end_time": "2022-07-22T04:13:08.526983",
     "exception": false,
     "start_time": "2022-07-22T04:13:07.286418",
     "status": "completed"
    },
    "tags": []
   },
   "outputs": [
    {
     "data": {
      "text/plain": [
       "0.00    0.000000\n",
       "0.05    0.000000\n",
       "0.10    0.000000\n",
       "0.15    0.000000\n",
       "0.20    0.000000\n",
       "0.25    0.000000\n",
       "0.30    0.000000\n",
       "0.35    0.000000\n",
       "0.40    0.000000\n",
       "0.45    0.000000\n",
       "0.50    0.000000\n",
       "0.55    0.000000\n",
       "0.60    0.000000\n",
       "0.65    0.000000\n",
       "0.70    0.000000\n",
       "0.75    0.000000\n",
       "0.80    0.000000\n",
       "0.85    0.000000\n",
       "0.90    0.005037\n",
       "0.95    0.010819\n",
       "dtype: float64"
      ]
     },
     "metadata": {},
     "output_type": "display_data"
    }
   ],
   "source": [
    "gene_corrs_quantiles = gene_corrs_flat.quantile(np.arange(0, 1, 0.05))\n",
    "display(gene_corrs_quantiles)"
   ]
  },
  {
   "cell_type": "markdown",
   "id": "87134509-b145-4a10-8bc9-b7e914c2b0fa",
   "metadata": {
    "papermill": {
     "duration": 1.158299,
     "end_time": "2022-07-22T04:13:10.852549",
     "exception": false,
     "start_time": "2022-07-22T04:13:09.694250",
     "status": "completed"
    },
    "tags": []
   },
   "source": [
    "## Positive definiteness"
   ]
  },
  {
   "cell_type": "code",
   "execution_count": 42,
   "id": "07d9a9a1-a4f7-48aa-b916-6d42a8cc6186",
   "metadata": {
    "execution": {
     "iopub.execute_input": "2022-07-22T04:13:13.238612Z",
     "iopub.status.busy": "2022-07-22T04:13:13.238432Z",
     "iopub.status.idle": "2022-07-22T04:13:13.270507Z",
     "shell.execute_reply": "2022-07-22T04:13:13.270087Z"
    },
    "papermill": {
     "duration": 1.231952,
     "end_time": "2022-07-22T04:13:13.271700",
     "exception": false,
     "start_time": "2022-07-22T04:13:12.039748",
     "status": "completed"
    },
    "tags": []
   },
   "outputs": [
    {
     "data": {
      "text/plain": [
       "0"
      ]
     },
     "metadata": {},
     "output_type": "display_data"
    },
    {
     "data": {
      "text/plain": [
       "array([], dtype=float64)"
      ]
     },
     "metadata": {},
     "output_type": "display_data"
    }
   ],
   "source": [
    "# print negative eigenvalues\n",
    "eigs = np.linalg.eigvals(gene_corrs_df.to_numpy())\n",
    "display(len(eigs[eigs < 0]))\n",
    "display(eigs[eigs < 0])"
   ]
  },
  {
   "cell_type": "code",
   "execution_count": 43,
   "id": "6e218436-c3c5-4028-8c94-a4fa6260efce",
   "metadata": {
    "execution": {
     "iopub.execute_input": "2022-07-22T04:13:15.792745Z",
     "iopub.status.busy": "2022-07-22T04:13:15.792576Z",
     "iopub.status.idle": "2022-07-22T04:13:15.814946Z",
     "shell.execute_reply": "2022-07-22T04:13:15.814463Z"
    },
    "papermill": {
     "duration": 1.293892,
     "end_time": "2022-07-22T04:13:15.816438",
     "exception": false,
     "start_time": "2022-07-22T04:13:14.522546",
     "status": "completed"
    },
    "tags": []
   },
   "outputs": [
    {
     "name": "stdout",
     "output_type": "stream",
     "text": [
      "Works!\n"
     ]
    }
   ],
   "source": [
    "try:\n",
    "    chol_mat = np.linalg.cholesky(gene_corrs_df.to_numpy())\n",
    "    cov_inv = np.linalg.inv(chol_mat)\n",
    "    print(\"Works!\")\n",
    "except:\n",
    "    print(\"Cholesky decomposition failed\")"
   ]
  },
  {
   "cell_type": "markdown",
   "id": "8e60a080-edb2-4e9c-b2ef-22961693200c",
   "metadata": {
    "papermill": {
     "duration": 1.206355,
     "end_time": "2022-07-22T04:13:18.189731",
     "exception": false,
     "start_time": "2022-07-22T04:13:16.983376",
     "status": "completed"
    },
    "tags": []
   },
   "source": [
    "## Plot: distribution"
   ]
  },
  {
   "cell_type": "code",
   "execution_count": 44,
   "id": "8301126b-a7d4-4744-9c7d-f0f86eb6f54c",
   "metadata": {
    "execution": {
     "iopub.execute_input": "2022-07-22T04:13:20.489258Z",
     "iopub.status.busy": "2022-07-22T04:13:20.489039Z",
     "iopub.status.idle": "2022-07-22T04:13:20.872228Z",
     "shell.execute_reply": "2022-07-22T04:13:20.871717Z"
    },
    "papermill": {
     "duration": 1.528679,
     "end_time": "2022-07-22T04:13:20.873571",
     "exception": false,
     "start_time": "2022-07-22T04:13:19.344892",
     "status": "completed"
    },
    "tags": []
   },
   "outputs": [
    {
     "data": {
      "image/png": "[encoded data removed]",
      "text/plain": [
       "<Figure size 504x504 with 1 Axes>"
      ]
     },
     "metadata": {
      "needs_background": "light"
     },
     "output_type": "display_data"
    }
   ],
   "source": [
    "with sns.plotting_context(\"paper\", font_scale=1.5):\n",
    "    g = sns.displot(gene_corrs_flat, kde=True, height=7)\n",
    "    g.ax.set_title(\n",
    "        f\"Distribution of gene correlation values in chromosome {CHROMOSOME}\"\n",
    "    )"
   ]
  },
  {
   "cell_type": "markdown",
   "id": "cbd52bca-d878-4a2f-b684-5c83aa3038d4",
   "metadata": {
    "papermill": {
     "duration": 1.148039,
     "end_time": "2022-07-22T04:13:23.195973",
     "exception": false,
     "start_time": "2022-07-22T04:13:22.047934",
     "status": "completed"
    },
    "tags": []
   },
   "source": [
    "## Plot: heatmap"
   ]
  },
  {
   "cell_type": "code",
   "execution_count": 45,
   "id": "d03fe63a-c7b2-4fb9-a53c-db362ce843c9",
   "metadata": {
    "execution": {
     "iopub.execute_input": "2022-07-22T04:13:25.577526Z",
     "iopub.status.busy": "2022-07-22T04:13:25.575778Z",
     "iopub.status.idle": "2022-07-22T04:13:25.595440Z",
     "shell.execute_reply": "2022-07-22T04:13:25.595003Z"
    },
    "papermill": {
     "duration": 1.21865,
     "end_time": "2022-07-22T04:13:25.596860",
     "exception": false,
     "start_time": "2022-07-22T04:13:24.378210",
     "status": "completed"
    },
    "tags": []
   },
   "outputs": [
    {
     "data": {
      "text/plain": [
       "'0.0 / 0.05'"
      ]
     },
     "metadata": {},
     "output_type": "display_data"
    }
   ],
   "source": [
    "vmin_val = min(0.00, gene_corrs_quantiles[0.10])\n",
    "vmax_val = max(0.05, gene_corrs_quantiles[0.90])\n",
    "display(f\"{vmin_val} / {vmax_val}\")"
   ]
  },
  {
   "cell_type": "code",
   "execution_count": 46,
   "id": "dc41b70b-5bcc-4d9e-9f33-a22c4a94dab5",
   "metadata": {
    "execution": {
     "iopub.execute_input": "2022-07-22T04:13:27.881490Z",
     "iopub.status.busy": "2022-07-22T04:13:27.881304Z",
     "iopub.status.idle": "2022-07-22T04:13:28.078003Z",
     "shell.execute_reply": "2022-07-22T04:13:28.076898Z"
    },
    "papermill": {
     "duration": 1.323883,
     "end_time": "2022-07-22T04:13:28.079167",
     "exception": false,
     "start_time": "2022-07-22T04:13:26.755284",
     "status": "completed"
    },
    "tags": []
   },
   "outputs": [
    {
     "data": {
      "text/plain": [
       "Text(0.5, 1.0, 'Gene correlations in chromosome 9')"
      ]
     },
     "execution_count": 46,
     "metadata": {},
     "output_type": "execute_result"
    },
    {
     "data": {
      "image/png": "[encoded data removed]",
      "text/plain": [
       "<Figure size 720x720 with 2 Axes>"
      ]
     },
     "metadata": {
      "needs_background": "light"
     },
     "output_type": "display_data"
    }
   ],
   "source": [
    "f, ax = plt.subplots(figsize=(10, 10))\n",
    "sns.heatmap(\n",
    "    gene_corrs_df,\n",
    "    xticklabels=False,\n",
    "    yticklabels=False,\n",
    "    square=True,\n",
    "    vmin=vmin_val,\n",
    "    vmax=vmax_val,\n",
    "    cmap=\"rocket_r\",\n",
    "    ax=ax,\n",
    ")\n",
    "ax.set_title(f\"Gene correlations in chromosome {CHROMOSOME}\")"
   ]
  },
  {
   "cell_type": "code",
   "execution_count": null,
   "id": "b25e3ead",
   "metadata": {
    "papermill": {
     "duration": 1.221041,
     "end_time": "2022-07-22T04:13:30.498051",
     "exception": false,
     "start_time": "2022-07-22T04:13:29.277010",
     "status": "completed"
    },
    "tags": []
   },
   "outputs": [],
   "source": []
  }
 ],
 "metadata": {
  "jupytext": {
   "cell_metadata_filter": "all,-execution,-papermill,-trusted",
   "formats": "ipynb,py//py:percent"
  },
  "kernelspec": {
   "display_name": "Python 3 (ipykernel)",
   "language": "python",
   "name": "python3"
  },
  "language_info": {
   "codemirror_mode": {
    "name": "ipython",
    "version": 3
   },
   "file_extension": ".py",
   "mimetype": "text/x-python",
   "name": "python",
   "nbconvert_exporter": "python",
   "pygments_lexer": "ipython3",
   "version": "3.8.13"
  },
  "papermill": {
   "default_parameters": {},
   "duration": 438.256895,
   "end_time": "2022-07-22T04:13:35.004987",
   "environment_variables": {},
   "exception": null,
   "input_path": "nbs/15_gsa_gls/10-gene_expr_correlations.ipynb",
   "output_path": "nbs/15_gsa_gls/gene_corrs/cohorts/1000g_eur/1000g/mashr/10-gene_expr_correlations-chr9.run.ipynb",
   "parameters": {
    "CHROMOSOME": 9,
    "COHORT_NAME": "1000G_EUR",
    "EQTL_MODEL": "MASHR",
    "REFERENCE_PANEL": "1000G"
   },
   "start_time": "2022-07-22T04:06:16.748092",
   "version": "2.2.2"
  }
 },
 "nbformat": 4,
 "nbformat_minor": 5
}
