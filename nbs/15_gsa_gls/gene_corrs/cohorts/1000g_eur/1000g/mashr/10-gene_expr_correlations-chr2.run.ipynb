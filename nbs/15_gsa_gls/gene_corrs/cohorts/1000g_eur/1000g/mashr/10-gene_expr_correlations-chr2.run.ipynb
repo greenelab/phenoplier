{
 "cells": [
  {
   "cell_type": "markdown",
   "id": "7a6632fb",
   "metadata": {
    "papermill": {
     "duration": 0.0083,
     "end_time": "2022-07-22T03:32:37.106836",
     "exception": false,
     "start_time": "2022-07-22T03:32:37.098536",
     "status": "completed"
    },
    "tags": []
   },
   "source": [
    "# Description"
   ]
  },
  {
   "cell_type": "markdown",
   "id": "7097c346",
   "metadata": {
    "papermill": {
     "duration": 0.007115,
     "end_time": "2022-07-22T03:32:37.121769",
     "exception": false,
     "start_time": "2022-07-22T03:32:37.114654",
     "status": "completed"
    },
    "tags": []
   },
   "source": [
    "(Please, take a look at the README.md file in this directory for instructions on how to run this notebook)\n",
    "\n",
    "This notebook computes predicted expression correlations between all genes in the MultiPLIER models.\n",
    "\n",
    "It also has a parameter set for papermill to run on a single chromosome to run in parallel (see under `Settings` below).\n",
    "\n",
    "This notebook is not directly run. See README.md."
   ]
  },
  {
   "cell_type": "markdown",
   "id": "c61d8427",
   "metadata": {
    "papermill": {
     "duration": 0.007726,
     "end_time": "2022-07-22T03:32:37.136555",
     "exception": false,
     "start_time": "2022-07-22T03:32:37.128829",
     "status": "completed"
    },
    "tags": []
   },
   "source": [
    "# Modules"
   ]
  },
  {
   "cell_type": "code",
   "execution_count": 1,
   "id": "bbc0234f",
   "metadata": {
    "execution": {
     "iopub.execute_input": "2022-07-22T03:32:37.152052Z",
     "iopub.status.busy": "2022-07-22T03:32:37.151829Z",
     "iopub.status.idle": "2022-07-22T03:32:37.169904Z",
     "shell.execute_reply": "2022-07-22T03:32:37.169452Z"
    },
    "papermill": {
     "duration": 0.028356,
     "end_time": "2022-07-22T03:32:37.171880",
     "exception": false,
     "start_time": "2022-07-22T03:32:37.143524",
     "status": "completed"
    },
    "tags": []
   },
   "outputs": [],
   "source": [
    "%load_ext autoreload\n",
    "%autoreload 2"
   ]
  },
  {
   "cell_type": "code",
   "execution_count": 2,
   "id": "1d5f5a59",
   "metadata": {
    "execution": {
     "iopub.execute_input": "2022-07-22T03:32:37.240382Z",
     "iopub.status.busy": "2022-07-22T03:32:37.240205Z",
     "iopub.status.idle": "2022-07-22T03:32:38.231421Z",
     "shell.execute_reply": "2022-07-22T03:32:38.230946Z"
    },
    "papermill": {
     "duration": 1.000121,
     "end_time": "2022-07-22T03:32:38.233167",
     "exception": false,
     "start_time": "2022-07-22T03:32:37.233046",
     "status": "completed"
    },
    "tags": []
   },
   "outputs": [],
   "source": [
    "from random import sample, seed\n",
    "import warnings\n",
    "from pathlib import Path\n",
    "import pickle\n",
    "import traceback\n",
    "\n",
    "import numpy as np\n",
    "from scipy.spatial.distance import squareform\n",
    "import pandas as pd\n",
    "from tqdm import tqdm\n",
    "import matplotlib.pyplot as plt\n",
    "import seaborn as sns\n",
    "\n",
    "import conf\n",
    "from entity import Gene"
   ]
  },
  {
   "cell_type": "markdown",
   "id": "1eac24b5",
   "metadata": {
    "papermill": {
     "duration": 0.006536,
     "end_time": "2022-07-22T03:32:38.246539",
     "exception": false,
     "start_time": "2022-07-22T03:32:38.240003",
     "status": "completed"
    },
    "tags": []
   },
   "source": [
    "# Settings"
   ]
  },
  {
   "cell_type": "code",
   "execution_count": 3,
   "id": "ca4560ba",
   "metadata": {
    "execution": {
     "iopub.execute_input": "2022-07-22T03:32:38.260860Z",
     "iopub.status.busy": "2022-07-22T03:32:38.260432Z",
     "iopub.status.idle": "2022-07-22T03:32:38.278699Z",
     "shell.execute_reply": "2022-07-22T03:32:38.278086Z"
    },
    "papermill": {
     "duration": 0.02725,
     "end_time": "2022-07-22T03:32:38.280243",
     "exception": false,
     "start_time": "2022-07-22T03:32:38.252993",
     "status": "completed"
    },
    "tags": [
     "parameters"
    ]
   },
   "outputs": [],
   "source": [
    "# a cohort name (it could be something like UK_BIOBANK, etc)\n",
    "COHORT_NAME = None\n",
    "\n",
    "# reference panel such as 1000G or GTEX_V8\n",
    "REFERENCE_PANEL = None\n",
    "\n",
    "# predictions models such as MASHR or ELASTIC_NET\n",
    "EQTL_MODEL = None\n",
    "\n",
    "# this is the default value used in S-MultiXcan to select the\n",
    "# top principal components of the expression correlation matrix\n",
    "SMULTIXCAN_CONDITION_NUMBER = 30\n",
    "\n",
    "# specifies a single chromosome value\n",
    "CHROMOSOME = None\n",
    "\n",
    "# if True, then it will continue if a gene pair correlation fails,\n",
    "# printing the warning/error for debugging. If False, any warning/error\n",
    "# will be thrown\n",
    "# FIXME: make it False when all is working\n",
    "DEBUG_MODE = True"
   ]
  },
  {
   "cell_type": "code",
   "execution_count": 4,
   "id": "c1eeca25",
   "metadata": {
    "execution": {
     "iopub.execute_input": "2022-07-22T03:32:38.295392Z",
     "iopub.status.busy": "2022-07-22T03:32:38.295172Z",
     "iopub.status.idle": "2022-07-22T03:32:38.310554Z",
     "shell.execute_reply": "2022-07-22T03:32:38.310055Z"
    },
    "papermill": {
     "duration": 0.025312,
     "end_time": "2022-07-22T03:32:38.312134",
     "exception": false,
     "start_time": "2022-07-22T03:32:38.286822",
     "status": "completed"
    },
    "tags": [
     "injected-parameters"
    ]
   },
   "outputs": [],
   "source": [
    "# Parameters\n",
    "COHORT_NAME = \"1000G_EUR\"\n",
    "REFERENCE_PANEL = \"1000G\"\n",
    "EQTL_MODEL = \"MASHR\"\n",
    "CHROMOSOME = 2\n"
   ]
  },
  {
   "cell_type": "code",
   "execution_count": 5,
   "id": "3190631f-27fc-480f-b18e-571d580425a5",
   "metadata": {
    "execution": {
     "iopub.execute_input": "2022-07-22T03:32:38.326049Z",
     "iopub.status.busy": "2022-07-22T03:32:38.325855Z",
     "iopub.status.idle": "2022-07-22T03:32:38.345228Z",
     "shell.execute_reply": "2022-07-22T03:32:38.344718Z"
    },
    "papermill": {
     "duration": 0.028955,
     "end_time": "2022-07-22T03:32:38.347604",
     "exception": false,
     "start_time": "2022-07-22T03:32:38.318649",
     "status": "completed"
    },
    "tags": []
   },
   "outputs": [
    {
     "data": {
      "text/plain": [
       "'Cohort name: 1000g_eur'"
      ]
     },
     "metadata": {},
     "output_type": "display_data"
    }
   ],
   "source": [
    "assert COHORT_NAME is not None or len(COHORT_NAME) == 0, \"A cohort name must be given\"\n",
    "\n",
    "COHORT_NAME = COHORT_NAME.lower()\n",
    "display(f\"Cohort name: {COHORT_NAME}\")"
   ]
  },
  {
   "cell_type": "code",
   "execution_count": 6,
   "id": "f53ba19b-0f93-4fa2-a047-63b375939d1a",
   "metadata": {
    "execution": {
     "iopub.execute_input": "2022-07-22T03:32:38.362281Z",
     "iopub.status.busy": "2022-07-22T03:32:38.362091Z",
     "iopub.status.idle": "2022-07-22T03:32:38.378508Z",
     "shell.execute_reply": "2022-07-22T03:32:38.377995Z"
    },
    "papermill": {
     "duration": 0.025272,
     "end_time": "2022-07-22T03:32:38.379914",
     "exception": false,
     "start_time": "2022-07-22T03:32:38.354642",
     "status": "completed"
    },
    "tags": []
   },
   "outputs": [
    {
     "data": {
      "text/plain": [
       "'Reference panel: 1000G'"
      ]
     },
     "metadata": {},
     "output_type": "display_data"
    }
   ],
   "source": [
    "assert (\n",
    "    REFERENCE_PANEL is not None or len(REFERENCE_PANEL) == 0\n",
    "), \"A reference panel must be given\"\n",
    "\n",
    "display(f\"Reference panel: {REFERENCE_PANEL}\")"
   ]
  },
  {
   "cell_type": "code",
   "execution_count": 7,
   "id": "e024d130-c139-429a-9c6e-ccf149e297b0",
   "metadata": {
    "execution": {
     "iopub.execute_input": "2022-07-22T03:32:38.394588Z",
     "iopub.status.busy": "2022-07-22T03:32:38.394408Z",
     "iopub.status.idle": "2022-07-22T03:32:38.411333Z",
     "shell.execute_reply": "2022-07-22T03:32:38.410862Z"
    },
    "papermill": {
     "duration": 0.02575,
     "end_time": "2022-07-22T03:32:38.412712",
     "exception": false,
     "start_time": "2022-07-22T03:32:38.386962",
     "status": "completed"
    },
    "tags": []
   },
   "outputs": [
    {
     "data": {
      "text/plain": [
       "'eQTL model: MASHR) / mashr_'"
      ]
     },
     "metadata": {},
     "output_type": "display_data"
    }
   ],
   "source": [
    "assert (\n",
    "    EQTL_MODEL is not None or len(EQTL_MODEL) == 0\n",
    "), \"A prediction/eQTL model must be given\"\n",
    "\n",
    "EQTL_MODEL_FILES_PREFIX = conf.PHENOMEXCAN[\"PREDICTION_MODELS\"][f\"{EQTL_MODEL}_PREFIX\"]\n",
    "display(f\"eQTL model: {EQTL_MODEL}) / {EQTL_MODEL_FILES_PREFIX}\")"
   ]
  },
  {
   "cell_type": "code",
   "execution_count": 8,
   "id": "552a7f63-a18c-4d3e-bb6a-94f99b431291",
   "metadata": {
    "execution": {
     "iopub.execute_input": "2022-07-22T03:32:38.428321Z",
     "iopub.status.busy": "2022-07-22T03:32:38.427097Z",
     "iopub.status.idle": "2022-07-22T03:32:38.445112Z",
     "shell.execute_reply": "2022-07-22T03:32:38.444591Z"
    },
    "papermill": {
     "duration": 0.026755,
     "end_time": "2022-07-22T03:32:38.446473",
     "exception": false,
     "start_time": "2022-07-22T03:32:38.419718",
     "status": "completed"
    },
    "tags": []
   },
   "outputs": [
    {
     "data": {
      "text/plain": [
       "'S-MultiXcan condition number: 30'"
      ]
     },
     "metadata": {},
     "output_type": "display_data"
    }
   ],
   "source": [
    "assert (\n",
    "    SMULTIXCAN_CONDITION_NUMBER is not None or SMULTIXCAN_CONDITION_NUMBER > 0\n",
    "), \"The S-MultiXcan condition number (positive integer) must be given\"\n",
    "\n",
    "display(f\"S-MultiXcan condition number: {SMULTIXCAN_CONDITION_NUMBER}\")"
   ]
  },
  {
   "cell_type": "code",
   "execution_count": 9,
   "id": "f34a336f-548e-4afe-8955-90eaea4f42c6",
   "metadata": {
    "execution": {
     "iopub.execute_input": "2022-07-22T03:32:38.462939Z",
     "iopub.status.busy": "2022-07-22T03:32:38.462755Z",
     "iopub.status.idle": "2022-07-22T03:32:38.484338Z",
     "shell.execute_reply": "2022-07-22T03:32:38.483872Z"
    },
    "papermill": {
     "duration": 0.031491,
     "end_time": "2022-07-22T03:32:38.485969",
     "exception": false,
     "start_time": "2022-07-22T03:32:38.454478",
     "status": "completed"
    },
    "tags": []
   },
   "outputs": [
    {
     "data": {
      "text/plain": [
       "'Working on chromosome 2'"
      ]
     },
     "metadata": {},
     "output_type": "display_data"
    }
   ],
   "source": [
    "assert CHROMOSOME is not None and (\n",
    "    1 <= CHROMOSOME <= 22\n",
    "), \"You have to select one chromosome (format: number between 1 and 22)\"\n",
    "\n",
    "CHROMOSOME = str(CHROMOSOME)\n",
    "display(f\"Working on chromosome {CHROMOSOME}\")"
   ]
  },
  {
   "cell_type": "code",
   "execution_count": 10,
   "id": "ab8e96e8-06b5-4363-9dcd-dc4d78cc27f7",
   "metadata": {
    "execution": {
     "iopub.execute_input": "2022-07-22T03:32:38.508659Z",
     "iopub.status.busy": "2022-07-22T03:32:38.508468Z",
     "iopub.status.idle": "2022-07-22T03:32:38.528372Z",
     "shell.execute_reply": "2022-07-22T03:32:38.527408Z"
    },
    "papermill": {
     "duration": 0.031053,
     "end_time": "2022-07-22T03:32:38.530235",
     "exception": false,
     "start_time": "2022-07-22T03:32:38.499182",
     "status": "completed"
    },
    "tags": []
   },
   "outputs": [
    {
     "data": {
      "text/plain": [
       "'Compute correlation within distance True'"
      ]
     },
     "metadata": {},
     "output_type": "display_data"
    }
   ],
   "source": [
    "# TODO: see if this is necessary; if so, make it a parameter with default value True\n",
    "# This parameter, if True, computes the correlation between closeby genes only\n",
    "\n",
    "COMPUTE_CORRELATIONS_WITHIN_DISTANCE = True\n",
    "display(f\"Compute correlation within distance {COMPUTE_CORRELATIONS_WITHIN_DISTANCE}\")"
   ]
  },
  {
   "cell_type": "code",
   "execution_count": 11,
   "id": "396392dc-0340-4540-9b02-e182b833f909",
   "metadata": {
    "execution": {
     "iopub.execute_input": "2022-07-22T03:32:38.545916Z",
     "iopub.status.busy": "2022-07-22T03:32:38.545739Z",
     "iopub.status.idle": "2022-07-22T03:32:38.563093Z",
     "shell.execute_reply": "2022-07-22T03:32:38.562587Z"
    },
    "papermill": {
     "duration": 0.026661,
     "end_time": "2022-07-22T03:32:38.564504",
     "exception": false,
     "start_time": "2022-07-22T03:32:38.537843",
     "status": "completed"
    },
    "tags": []
   },
   "outputs": [
    {
     "data": {
      "text/plain": [
       "'Using output dir base: /opt/data/results/gls/gene_corrs/cohorts/1000g_eur/1000g/mashr'"
      ]
     },
     "metadata": {},
     "output_type": "display_data"
    }
   ],
   "source": [
    "OUTPUT_DIR_BASE = (\n",
    "    conf.RESULTS[\"GLS\"]\n",
    "    / \"gene_corrs\"\n",
    "    / \"cohorts\"\n",
    "    / COHORT_NAME\n",
    "    / REFERENCE_PANEL.lower()\n",
    "    / EQTL_MODEL.lower()\n",
    ")\n",
    "OUTPUT_DIR_BASE.mkdir(parents=True, exist_ok=True)\n",
    "\n",
    "display(f\"Using output dir base: {OUTPUT_DIR_BASE}\")"
   ]
  },
  {
   "cell_type": "code",
   "execution_count": 12,
   "id": "974b4bb1-aa98-4e30-b221-7cd034ad3833",
   "metadata": {
    "execution": {
     "iopub.execute_input": "2022-07-22T03:32:38.579782Z",
     "iopub.status.busy": "2022-07-22T03:32:38.579404Z",
     "iopub.status.idle": "2022-07-22T03:32:38.604840Z",
     "shell.execute_reply": "2022-07-22T03:32:38.603990Z"
    },
    "papermill": {
     "duration": 0.035159,
     "end_time": "2022-07-22T03:32:38.606814",
     "exception": false,
     "start_time": "2022-07-22T03:32:38.571655",
     "status": "completed"
    },
    "tags": []
   },
   "outputs": [
    {
     "data": {
      "text/plain": [
       "PosixPath('/opt/data/results/gls/gene_corrs/cohorts/1000g_eur')"
      ]
     },
     "metadata": {},
     "output_type": "display_data"
    }
   ],
   "source": [
    "INPUT_DIR = conf.RESULTS[\"GLS\"] / \"gene_corrs\" / \"cohorts\" / COHORT_NAME\n",
    "assert INPUT_DIR.exists()\n",
    "\n",
    "display(INPUT_DIR)"
   ]
  },
  {
   "cell_type": "markdown",
   "id": "d2ba085e",
   "metadata": {
    "papermill": {
     "duration": 0.007643,
     "end_time": "2022-07-22T03:32:38.627274",
     "exception": false,
     "start_time": "2022-07-22T03:32:38.619631",
     "status": "completed"
    },
    "tags": []
   },
   "source": [
    "# Load data"
   ]
  },
  {
   "cell_type": "markdown",
   "id": "7dcb8db7",
   "metadata": {
    "papermill": {
     "duration": 0.007662,
     "end_time": "2022-07-22T03:32:38.642472",
     "exception": false,
     "start_time": "2022-07-22T03:32:38.634810",
     "status": "completed"
    },
    "tags": []
   },
   "source": [
    "## GWAS variants"
   ]
  },
  {
   "cell_type": "code",
   "execution_count": 13,
   "id": "29434c4e-8cd3-4b9b-82e4-b5a251d9dd19",
   "metadata": {
    "execution": {
     "iopub.execute_input": "2022-07-22T03:32:38.657763Z",
     "iopub.status.busy": "2022-07-22T03:32:38.657387Z",
     "iopub.status.idle": "2022-07-22T03:32:41.420546Z",
     "shell.execute_reply": "2022-07-22T03:32:41.419921Z"
    },
    "papermill": {
     "duration": 2.772397,
     "end_time": "2022-07-22T03:32:41.422103",
     "exception": false,
     "start_time": "2022-07-22T03:32:38.649706",
     "status": "completed"
    },
    "tags": []
   },
   "outputs": [],
   "source": [
    "with open(INPUT_DIR / \"gwas_variant_ids.pkl\", \"rb\") as handle:\n",
    "    gwas_variants_ids_set = pickle.load(handle)"
   ]
  },
  {
   "cell_type": "code",
   "execution_count": 14,
   "id": "b9d9dec2-4a76-4bf9-bde2-e24c95acb8a0",
   "metadata": {
    "execution": {
     "iopub.execute_input": "2022-07-22T03:32:41.439341Z",
     "iopub.status.busy": "2022-07-22T03:32:41.439150Z",
     "iopub.status.idle": "2022-07-22T03:32:41.456554Z",
     "shell.execute_reply": "2022-07-22T03:32:41.456061Z"
    },
    "papermill": {
     "duration": 0.027776,
     "end_time": "2022-07-22T03:32:41.458085",
     "exception": false,
     "start_time": "2022-07-22T03:32:41.430309",
     "status": "completed"
    },
    "tags": []
   },
   "outputs": [
    {
     "data": {
      "text/plain": [
       "8339505"
      ]
     },
     "execution_count": 14,
     "metadata": {},
     "output_type": "execute_result"
    }
   ],
   "source": [
    "len(gwas_variants_ids_set)"
   ]
  },
  {
   "cell_type": "code",
   "execution_count": 15,
   "id": "4235b06a-6034-4ee4-a0a3-2ae35d122418",
   "metadata": {
    "execution": {
     "iopub.execute_input": "2022-07-22T03:32:41.476133Z",
     "iopub.status.busy": "2022-07-22T03:32:41.475652Z",
     "iopub.status.idle": "2022-07-22T03:32:42.348325Z",
     "shell.execute_reply": "2022-07-22T03:32:42.347664Z"
    },
    "papermill": {
     "duration": 0.883777,
     "end_time": "2022-07-22T03:32:42.350020",
     "exception": false,
     "start_time": "2022-07-22T03:32:41.466243",
     "status": "completed"
    },
    "tags": []
   },
   "outputs": [
    {
     "data": {
      "text/plain": [
       "['chr15_26227948_A_G_b38',\n",
       " 'chr4_58460047_G_A_b38',\n",
       " 'chr10_16488467_A_G_b38',\n",
       " 'chr13_25524495_T_C_b38',\n",
       " 'chr14_53326441_TC_T_b38']"
      ]
     },
     "execution_count": 15,
     "metadata": {},
     "output_type": "execute_result"
    }
   ],
   "source": [
    "list(gwas_variants_ids_set)[:5]"
   ]
  },
  {
   "cell_type": "markdown",
   "id": "07866999-2305-41f9-a144-e69c9122c212",
   "metadata": {
    "papermill": {
     "duration": 0.008328,
     "end_time": "2022-07-22T03:32:42.366998",
     "exception": false,
     "start_time": "2022-07-22T03:32:42.358670",
     "status": "completed"
    },
    "tags": []
   },
   "source": [
    "## S-PrediXcan tissue models"
   ]
  },
  {
   "cell_type": "code",
   "execution_count": 16,
   "id": "780611d9-77c8-405f-90a4-f271f7b09397",
   "metadata": {
    "execution": {
     "iopub.execute_input": "2022-07-22T03:32:42.385594Z",
     "iopub.status.busy": "2022-07-22T03:32:42.385103Z",
     "iopub.status.idle": "2022-07-22T03:32:43.779864Z",
     "shell.execute_reply": "2022-07-22T03:32:43.779207Z"
    },
    "papermill": {
     "duration": 1.405524,
     "end_time": "2022-07-22T03:32:43.781327",
     "exception": false,
     "start_time": "2022-07-22T03:32:42.375803",
     "status": "completed"
    },
    "tags": []
   },
   "outputs": [],
   "source": [
    "spredixcan_genes_models = pd.read_pickle(INPUT_DIR / \"gene_tissues.pkl\").set_index(\n",
    "    \"gene_id\"\n",
    ")"
   ]
  },
  {
   "cell_type": "code",
   "execution_count": 17,
   "id": "726dd1f6-9557-4225-91fa-b3b879ea96e1",
   "metadata": {
    "execution": {
     "iopub.execute_input": "2022-07-22T03:32:43.798733Z",
     "iopub.status.busy": "2022-07-22T03:32:43.798383Z",
     "iopub.status.idle": "2022-07-22T03:32:43.815273Z",
     "shell.execute_reply": "2022-07-22T03:32:43.814743Z"
    },
    "papermill": {
     "duration": 0.027051,
     "end_time": "2022-07-22T03:32:43.816611",
     "exception": false,
     "start_time": "2022-07-22T03:32:43.789560",
     "status": "completed"
    },
    "tags": []
   },
   "outputs": [
    {
     "data": {
      "text/plain": [
       "(22314, 2)"
      ]
     },
     "execution_count": 17,
     "metadata": {},
     "output_type": "execute_result"
    }
   ],
   "source": [
    "spredixcan_genes_models.shape"
   ]
  },
  {
   "cell_type": "code",
   "execution_count": 18,
   "id": "944a1b48-222c-4eb0-b252-b9de2cbca215",
   "metadata": {
    "execution": {
     "iopub.execute_input": "2022-07-22T03:32:43.833748Z",
     "iopub.status.busy": "2022-07-22T03:32:43.833570Z",
     "iopub.status.idle": "2022-07-22T03:32:43.856145Z",
     "shell.execute_reply": "2022-07-22T03:32:43.855695Z"
    },
    "papermill": {
     "duration": 0.033071,
     "end_time": "2022-07-22T03:32:43.857505",
     "exception": false,
     "start_time": "2022-07-22T03:32:43.824434",
     "status": "completed"
    },
    "tags": []
   },
   "outputs": [
    {
     "data": {
      "text/html": [
       "<div>\n",
       "<style scoped>\n",
       "    .dataframe tbody tr th:only-of-type {\n",
       "        vertical-align: middle;\n",
       "    }\n",
       "\n",
       "    .dataframe tbody tr th {\n",
       "        vertical-align: top;\n",
       "    }\n",
       "\n",
       "    .dataframe thead th {\n",
       "        text-align: right;\n",
       "    }\n",
       "</style>\n",
       "<table border=\"1\" class=\"dataframe\">\n",
       "  <thead>\n",
       "    <tr style=\"text-align: right;\">\n",
       "      <th></th>\n",
       "      <th>gene_name</th>\n",
       "      <th>tissue</th>\n",
       "    </tr>\n",
       "    <tr>\n",
       "      <th>gene_id</th>\n",
       "      <th></th>\n",
       "      <th></th>\n",
       "    </tr>\n",
       "  </thead>\n",
       "  <tbody>\n",
       "    <tr>\n",
       "      <th>ENSG00000000419</th>\n",
       "      <td>DPM1</td>\n",
       "      <td>(Brain_Hypothalamus, Brain_Substantia_nigra)</td>\n",
       "    </tr>\n",
       "    <tr>\n",
       "      <th>ENSG00000000457</th>\n",
       "      <td>SCYL3</td>\n",
       "      <td>(Heart_Atrial_Appendage, Colon_Transverse, Mus...</td>\n",
       "    </tr>\n",
       "    <tr>\n",
       "      <th>ENSG00000000460</th>\n",
       "      <td>C1orf112</td>\n",
       "      <td>(Heart_Atrial_Appendage, Colon_Transverse, Mus...</td>\n",
       "    </tr>\n",
       "    <tr>\n",
       "      <th>ENSG00000000938</th>\n",
       "      <td>FGR</td>\n",
       "      <td>(Colon_Transverse, Muscle_Skeletal, Colon_Sigm...</td>\n",
       "    </tr>\n",
       "    <tr>\n",
       "      <th>ENSG00000000971</th>\n",
       "      <td>CFH</td>\n",
       "      <td>(Heart_Atrial_Appendage, Colon_Transverse, Bra...</td>\n",
       "    </tr>\n",
       "  </tbody>\n",
       "</table>\n",
       "</div>"
      ],
      "text/plain": [
       "                gene_name                                             tissue\n",
       "gene_id                                                                     \n",
       "ENSG00000000419      DPM1       (Brain_Hypothalamus, Brain_Substantia_nigra)\n",
       "ENSG00000000457     SCYL3  (Heart_Atrial_Appendage, Colon_Transverse, Mus...\n",
       "ENSG00000000460  C1orf112  (Heart_Atrial_Appendage, Colon_Transverse, Mus...\n",
       "ENSG00000000938       FGR  (Colon_Transverse, Muscle_Skeletal, Colon_Sigm...\n",
       "ENSG00000000971       CFH  (Heart_Atrial_Appendage, Colon_Transverse, Bra..."
      ]
     },
     "execution_count": 18,
     "metadata": {},
     "output_type": "execute_result"
    }
   ],
   "source": [
    "spredixcan_genes_models.head()"
   ]
  },
  {
   "cell_type": "code",
   "execution_count": 19,
   "id": "d1c11bb1-be0b-4f40-b360-633d6827109f",
   "metadata": {
    "execution": {
     "iopub.execute_input": "2022-07-22T03:32:43.874095Z",
     "iopub.status.busy": "2022-07-22T03:32:43.873871Z",
     "iopub.status.idle": "2022-07-22T03:32:43.891528Z",
     "shell.execute_reply": "2022-07-22T03:32:43.891093Z"
    },
    "papermill": {
     "duration": 0.027523,
     "end_time": "2022-07-22T03:32:43.892927",
     "exception": false,
     "start_time": "2022-07-22T03:32:43.865404",
     "status": "completed"
    },
    "tags": []
   },
   "outputs": [],
   "source": [
    "assert spredixcan_genes_models.index.is_unique"
   ]
  },
  {
   "cell_type": "markdown",
   "id": "6caf9d10-eda8-4ad2-8811-a983aa77a25a",
   "metadata": {
    "papermill": {
     "duration": 0.00736,
     "end_time": "2022-07-22T03:32:43.907932",
     "exception": false,
     "start_time": "2022-07-22T03:32:43.900572",
     "status": "completed"
    },
    "tags": []
   },
   "source": [
    "## Get common genes"
   ]
  },
  {
   "cell_type": "code",
   "execution_count": 20,
   "id": "f8d1e317-1cc8-4bdf-bbe9-c3b0a5478359",
   "metadata": {
    "execution": {
     "iopub.execute_input": "2022-07-22T03:32:43.923934Z",
     "iopub.status.busy": "2022-07-22T03:32:43.923754Z",
     "iopub.status.idle": "2022-07-22T03:32:43.940332Z",
     "shell.execute_reply": "2022-07-22T03:32:43.939872Z"
    },
    "papermill": {
     "duration": 0.026259,
     "end_time": "2022-07-22T03:32:43.941711",
     "exception": false,
     "start_time": "2022-07-22T03:32:43.915452",
     "status": "completed"
    },
    "tags": []
   },
   "outputs": [],
   "source": [
    "with open(INPUT_DIR / \"common_genes.pkl\", \"rb\") as handle:\n",
    "    common_genes = pickle.load(handle)"
   ]
  },
  {
   "cell_type": "code",
   "execution_count": 21,
   "id": "ce9506aa-2f38-4e46-b9c2-84d750fac0da",
   "metadata": {
    "execution": {
     "iopub.execute_input": "2022-07-22T03:32:43.957936Z",
     "iopub.status.busy": "2022-07-22T03:32:43.957418Z",
     "iopub.status.idle": "2022-07-22T03:32:43.977023Z",
     "shell.execute_reply": "2022-07-22T03:32:43.976525Z"
    },
    "papermill": {
     "duration": 0.028963,
     "end_time": "2022-07-22T03:32:43.978319",
     "exception": false,
     "start_time": "2022-07-22T03:32:43.949356",
     "status": "completed"
    },
    "tags": []
   },
   "outputs": [
    {
     "data": {
      "text/plain": [
       "6444"
      ]
     },
     "execution_count": 21,
     "metadata": {},
     "output_type": "execute_result"
    }
   ],
   "source": [
    "len(common_genes)"
   ]
  },
  {
   "cell_type": "code",
   "execution_count": 22,
   "id": "f525a698-506a-48e0-9aee-1aca62def5dd",
   "metadata": {
    "execution": {
     "iopub.execute_input": "2022-07-22T03:32:43.995309Z",
     "iopub.status.busy": "2022-07-22T03:32:43.995134Z",
     "iopub.status.idle": "2022-07-22T03:32:44.015861Z",
     "shell.execute_reply": "2022-07-22T03:32:44.013092Z"
    },
    "papermill": {
     "duration": 0.031221,
     "end_time": "2022-07-22T03:32:44.017291",
     "exception": false,
     "start_time": "2022-07-22T03:32:43.986070",
     "status": "completed"
    },
    "tags": []
   },
   "outputs": [
    {
     "data": {
      "text/plain": [
       "['A2M', 'AAAS', 'AANAT', 'AARS', 'AARS2']"
      ]
     },
     "execution_count": 22,
     "metadata": {},
     "output_type": "execute_result"
    }
   ],
   "source": [
    "sorted(list(common_genes))[:5]"
   ]
  },
  {
   "cell_type": "markdown",
   "id": "a5b5092c-a13e-47c4-a92a-480fcc08f3ae",
   "metadata": {
    "papermill": {
     "duration": 0.007856,
     "end_time": "2022-07-22T03:32:44.033240",
     "exception": false,
     "start_time": "2022-07-22T03:32:44.025384",
     "status": "completed"
    },
    "tags": []
   },
   "source": [
    "## Gene info"
   ]
  },
  {
   "cell_type": "code",
   "execution_count": 23,
   "id": "7d6bb224-88e9-4358-ac10-43a41d92cdad",
   "metadata": {
    "execution": {
     "iopub.execute_input": "2022-07-22T03:32:44.049505Z",
     "iopub.status.busy": "2022-07-22T03:32:44.049337Z",
     "iopub.status.idle": "2022-07-22T03:32:44.068468Z",
     "shell.execute_reply": "2022-07-22T03:32:44.067828Z"
    },
    "papermill": {
     "duration": 0.029325,
     "end_time": "2022-07-22T03:32:44.069882",
     "exception": false,
     "start_time": "2022-07-22T03:32:44.040557",
     "status": "completed"
    },
    "tags": []
   },
   "outputs": [],
   "source": [
    "genes_info = pd.read_pickle(INPUT_DIR / \"genes_info.pkl\")"
   ]
  },
  {
   "cell_type": "code",
   "execution_count": 24,
   "id": "9e32abfa-546d-483e-8c18-d526e9e05903",
   "metadata": {
    "execution": {
     "iopub.execute_input": "2022-07-22T03:32:44.087251Z",
     "iopub.status.busy": "2022-07-22T03:32:44.085915Z",
     "iopub.status.idle": "2022-07-22T03:32:44.104987Z",
     "shell.execute_reply": "2022-07-22T03:32:44.104423Z"
    },
    "papermill": {
     "duration": 0.028902,
     "end_time": "2022-07-22T03:32:44.106508",
     "exception": false,
     "start_time": "2022-07-22T03:32:44.077606",
     "status": "completed"
    },
    "tags": []
   },
   "outputs": [
    {
     "data": {
      "text/plain": [
       "(6444, 7)"
      ]
     },
     "execution_count": 24,
     "metadata": {},
     "output_type": "execute_result"
    }
   ],
   "source": [
    "genes_info.shape"
   ]
  },
  {
   "cell_type": "code",
   "execution_count": 25,
   "id": "d16c3e92-85ec-468a-9a56-e25a9774a1cb",
   "metadata": {
    "execution": {
     "iopub.execute_input": "2022-07-22T03:32:44.123776Z",
     "iopub.status.busy": "2022-07-22T03:32:44.123276Z",
     "iopub.status.idle": "2022-07-22T03:32:44.145835Z",
     "shell.execute_reply": "2022-07-22T03:32:44.145352Z"
    },
    "papermill": {
     "duration": 0.032627,
     "end_time": "2022-07-22T03:32:44.147157",
     "exception": false,
     "start_time": "2022-07-22T03:32:44.114530",
     "status": "completed"
    },
    "tags": []
   },
   "outputs": [
    {
     "data": {
      "text/html": [
       "<div>\n",
       "<style scoped>\n",
       "    .dataframe tbody tr th:only-of-type {\n",
       "        vertical-align: middle;\n",
       "    }\n",
       "\n",
       "    .dataframe tbody tr th {\n",
       "        vertical-align: top;\n",
       "    }\n",
       "\n",
       "    .dataframe thead th {\n",
       "        text-align: right;\n",
       "    }\n",
       "</style>\n",
       "<table border=\"1\" class=\"dataframe\">\n",
       "  <thead>\n",
       "    <tr style=\"text-align: right;\">\n",
       "      <th></th>\n",
       "      <th>name</th>\n",
       "      <th>id</th>\n",
       "      <th>chr</th>\n",
       "      <th>band</th>\n",
       "      <th>start_position</th>\n",
       "      <th>end_position</th>\n",
       "      <th>gene_length</th>\n",
       "    </tr>\n",
       "  </thead>\n",
       "  <tbody>\n",
       "    <tr>\n",
       "      <th>0</th>\n",
       "      <td>MFN2</td>\n",
       "      <td>ENSG00000116688</td>\n",
       "      <td>1</td>\n",
       "      <td>1p36.22</td>\n",
       "      <td>11980181.0</td>\n",
       "      <td>12013514.0</td>\n",
       "      <td>33333.0</td>\n",
       "    </tr>\n",
       "    <tr>\n",
       "      <th>1</th>\n",
       "      <td>PPA2</td>\n",
       "      <td>ENSG00000138777</td>\n",
       "      <td>4</td>\n",
       "      <td>4q24</td>\n",
       "      <td>105369077.0</td>\n",
       "      <td>105474067.0</td>\n",
       "      <td>104990.0</td>\n",
       "    </tr>\n",
       "    <tr>\n",
       "      <th>2</th>\n",
       "      <td>ADRA2A</td>\n",
       "      <td>ENSG00000150594</td>\n",
       "      <td>10</td>\n",
       "      <td>10q25.2</td>\n",
       "      <td>111077163.0</td>\n",
       "      <td>111080907.0</td>\n",
       "      <td>3744.0</td>\n",
       "    </tr>\n",
       "    <tr>\n",
       "      <th>3</th>\n",
       "      <td>RYR2</td>\n",
       "      <td>ENSG00000198626</td>\n",
       "      <td>1</td>\n",
       "      <td>1q43</td>\n",
       "      <td>237042184.0</td>\n",
       "      <td>237833988.0</td>\n",
       "      <td>791804.0</td>\n",
       "    </tr>\n",
       "    <tr>\n",
       "      <th>4</th>\n",
       "      <td>VAV2</td>\n",
       "      <td>ENSG00000160293</td>\n",
       "      <td>9</td>\n",
       "      <td>9q34.2</td>\n",
       "      <td>133761894.0</td>\n",
       "      <td>133992604.0</td>\n",
       "      <td>230710.0</td>\n",
       "    </tr>\n",
       "  </tbody>\n",
       "</table>\n",
       "</div>"
      ],
      "text/plain": [
       "     name               id chr     band  start_position  end_position  \\\n",
       "0    MFN2  ENSG00000116688   1  1p36.22      11980181.0    12013514.0   \n",
       "1    PPA2  ENSG00000138777   4     4q24     105369077.0   105474067.0   \n",
       "2  ADRA2A  ENSG00000150594  10  10q25.2     111077163.0   111080907.0   \n",
       "3    RYR2  ENSG00000198626   1     1q43     237042184.0   237833988.0   \n",
       "4    VAV2  ENSG00000160293   9   9q34.2     133761894.0   133992604.0   \n",
       "\n",
       "   gene_length  \n",
       "0      33333.0  \n",
       "1     104990.0  \n",
       "2       3744.0  \n",
       "3     791804.0  \n",
       "4     230710.0  "
      ]
     },
     "execution_count": 25,
     "metadata": {},
     "output_type": "execute_result"
    }
   ],
   "source": [
    "genes_info.head()"
   ]
  },
  {
   "cell_type": "markdown",
   "id": "d3843e06",
   "metadata": {
    "papermill": {
     "duration": 0.008374,
     "end_time": "2022-07-22T03:32:44.163897",
     "exception": false,
     "start_time": "2022-07-22T03:32:44.155523",
     "status": "completed"
    },
    "tags": []
   },
   "source": [
    "# Compute correlations"
   ]
  },
  {
   "cell_type": "code",
   "execution_count": 26,
   "id": "cb859c15-d1f3-4006-a74c-2b83c0db9611",
   "metadata": {
    "execution": {
     "iopub.execute_input": "2022-07-22T03:32:44.181628Z",
     "iopub.status.busy": "2022-07-22T03:32:44.181279Z",
     "iopub.status.idle": "2022-07-22T03:32:44.198893Z",
     "shell.execute_reply": "2022-07-22T03:32:44.198394Z"
    },
    "papermill": {
     "duration": 0.028553,
     "end_time": "2022-07-22T03:32:44.200483",
     "exception": false,
     "start_time": "2022-07-22T03:32:44.171930",
     "status": "completed"
    },
    "tags": []
   },
   "outputs": [
    {
     "data": {
      "text/plain": [
       "PosixPath('/opt/data/results/gls/gene_corrs/cohorts/1000g_eur/1000g/mashr/by_chr/gene_corrs-chr2.pkl')"
      ]
     },
     "metadata": {},
     "output_type": "display_data"
    }
   ],
   "source": [
    "output_dir = OUTPUT_DIR_BASE / \"by_chr\"\n",
    "output_dir.mkdir(exist_ok=True, parents=True)\n",
    "output_file = output_dir / f\"gene_corrs-chr{CHROMOSOME}.pkl\"\n",
    "display(output_file)"
   ]
  },
  {
   "cell_type": "code",
   "execution_count": 27,
   "id": "aa674fe4-6794-4eed-98fa-32b39d1d4ace",
   "metadata": {
    "execution": {
     "iopub.execute_input": "2022-07-22T03:32:44.217789Z",
     "iopub.status.busy": "2022-07-22T03:32:44.217564Z",
     "iopub.status.idle": "2022-07-22T03:32:44.232816Z",
     "shell.execute_reply": "2022-07-22T03:32:44.232259Z"
    },
    "papermill": {
     "duration": 0.025381,
     "end_time": "2022-07-22T03:32:44.234221",
     "exception": false,
     "start_time": "2022-07-22T03:32:44.208840",
     "status": "completed"
    },
    "tags": []
   },
   "outputs": [],
   "source": [
    "warnings.filterwarnings(\"error\")"
   ]
  },
  {
   "cell_type": "code",
   "execution_count": 28,
   "id": "44d5450b-3baf-43f1-9e2e-4b06f1a785f8",
   "metadata": {
    "execution": {
     "iopub.execute_input": "2022-07-22T03:32:44.252714Z",
     "iopub.status.busy": "2022-07-22T03:32:44.252537Z",
     "iopub.status.idle": "2022-07-22T03:32:44.270476Z",
     "shell.execute_reply": "2022-07-22T03:32:44.269875Z"
    },
    "papermill": {
     "duration": 0.029373,
     "end_time": "2022-07-22T03:32:44.272052",
     "exception": false,
     "start_time": "2022-07-22T03:32:44.242679",
     "status": "completed"
    },
    "tags": []
   },
   "outputs": [],
   "source": [
    "# standard checks\n",
    "all_chrs = genes_info[\"chr\"].dropna().unique()\n",
    "assert all_chrs.shape[0] == 22\n",
    "\n",
    "# select chromosome given by the user\n",
    "assert CHROMOSOME in all_chrs"
   ]
  },
  {
   "cell_type": "code",
   "execution_count": 29,
   "id": "2d7c043c-92a7-4d35-991b-fa69ac1e0268",
   "metadata": {
    "execution": {
     "iopub.execute_input": "2022-07-22T03:32:44.291093Z",
     "iopub.status.busy": "2022-07-22T03:32:44.290914Z",
     "iopub.status.idle": "2022-07-22T03:32:44.308858Z",
     "shell.execute_reply": "2022-07-22T03:32:44.308364Z"
    },
    "papermill": {
     "duration": 0.029744,
     "end_time": "2022-07-22T03:32:44.310185",
     "exception": false,
     "start_time": "2022-07-22T03:32:44.280441",
     "status": "completed"
    },
    "tags": []
   },
   "outputs": [
    {
     "name": "stdout",
     "output_type": "stream",
     "text": [
      "Number of genes in chromosome: 444\n"
     ]
    }
   ],
   "source": [
    "# run only on the chromosome specified\n",
    "all_chrs = [CHROMOSOME]\n",
    "genes_chr = genes_info[genes_info[\"chr\"] == CHROMOSOME]\n",
    "\n",
    "# For testing purposes\n",
    "# genes_chr = genes_chr.sample(n=20)\n",
    "\n",
    "print(f\"Number of genes in chromosome: {genes_chr.shape[0]}\", flush=True)"
   ]
  },
  {
   "cell_type": "code",
   "execution_count": 30,
   "id": "916015d8-2979-46d3-a9b9-1cf5a0932c6a",
   "metadata": {
    "execution": {
     "iopub.execute_input": "2022-07-22T03:32:44.328315Z",
     "iopub.status.busy": "2022-07-22T03:32:44.328024Z",
     "iopub.status.idle": "2022-07-22T03:32:44.345108Z",
     "shell.execute_reply": "2022-07-22T03:32:44.344368Z"
    },
    "papermill": {
     "duration": 0.027788,
     "end_time": "2022-07-22T03:32:44.346591",
     "exception": false,
     "start_time": "2022-07-22T03:32:44.318803",
     "status": "completed"
    },
    "tags": []
   },
   "outputs": [],
   "source": [
    "# sort genes by starting position to make visualizations better later\n",
    "genes_chr = genes_chr.sort_values(\"start_position\")"
   ]
  },
  {
   "cell_type": "code",
   "execution_count": 31,
   "id": "a38aa74a-8ad3-47f6-8ef9-56be0e011774",
   "metadata": {
    "execution": {
     "iopub.execute_input": "2022-07-22T03:32:44.364833Z",
     "iopub.status.busy": "2022-07-22T03:32:44.364654Z",
     "iopub.status.idle": "2022-07-22T03:32:44.381387Z",
     "shell.execute_reply": "2022-07-22T03:32:44.380959Z"
    },
    "papermill": {
     "duration": 0.027565,
     "end_time": "2022-07-22T03:32:44.382800",
     "exception": false,
     "start_time": "2022-07-22T03:32:44.355235",
     "status": "completed"
    },
    "tags": []
   },
   "outputs": [],
   "source": [
    "gene_chr_objs = [Gene(ensembl_id=gene_id) for gene_id in genes_chr[\"id\"]]"
   ]
  },
  {
   "cell_type": "code",
   "execution_count": 32,
   "id": "570f974f-13c3-42b6-ad3a-ce99ca885c1a",
   "metadata": {
    "execution": {
     "iopub.execute_input": "2022-07-22T03:32:44.401192Z",
     "iopub.status.busy": "2022-07-22T03:32:44.400847Z",
     "iopub.status.idle": "2022-07-22T03:32:44.417742Z",
     "shell.execute_reply": "2022-07-22T03:32:44.417256Z"
    },
    "papermill": {
     "duration": 0.027546,
     "end_time": "2022-07-22T03:32:44.419087",
     "exception": false,
     "start_time": "2022-07-22T03:32:44.391541",
     "status": "completed"
    },
    "tags": []
   },
   "outputs": [
    {
     "name": "stdout",
     "output_type": "stream",
     "text": [
      "Number of gene combinations: 98346\n"
     ]
    }
   ],
   "source": [
    "n = len(gene_chr_objs)\n",
    "n_comb = int(n * (n - 1) / 2.0)\n",
    "print(f\"Number of gene combinations: {n_comb}\", flush=True)"
   ]
  },
  {
   "cell_type": "code",
   "execution_count": 33,
   "id": "cdbb90a1",
   "metadata": {
    "execution": {
     "iopub.execute_input": "2022-07-22T03:32:44.437118Z",
     "iopub.status.busy": "2022-07-22T03:32:44.436948Z",
     "iopub.status.idle": "2022-07-22T03:42:13.704216Z",
     "shell.execute_reply": "2022-07-22T03:42:13.703822Z"
    },
    "papermill": {
     "duration": 569.277539,
     "end_time": "2022-07-22T03:42:13.705477",
     "exception": false,
     "start_time": "2022-07-22T03:32:44.427938",
     "status": "completed"
    },
    "tags": []
   },
   "outputs": [
    {
     "name": "stderr",
     "output_type": "stream",
     "text": [
      "ENSG00000180902 / ENSG00000188389: 100%|█████████████████████| 98346/98346 [09:29<00:00, 172.77it/s]\n"
     ]
    },
    {
     "data": {
      "text/plain": [
       "PosixPath('/opt/data/results/gls/gene_corrs/cohorts/1000g_eur/1000g/mashr/by_chr/gene_corrs-chr2.pkl')"
      ]
     },
     "metadata": {},
     "output_type": "display_data"
    }
   ],
   "source": [
    "gene_corrs = []\n",
    "\n",
    "i = 0\n",
    "with tqdm(ncols=100, total=n_comb) as pbar:\n",
    "    for gene1_idx in range(0, len(gene_chr_objs) - 1):\n",
    "        gene1_obj = gene_chr_objs[gene1_idx]\n",
    "        gene1_tissues = spredixcan_genes_models.loc[gene1_obj.ensembl_id, \"tissue\"]\n",
    "\n",
    "        for gene2_idx in range(gene1_idx + 1, len(gene_chr_objs)):\n",
    "            gene2_obj = gene_chr_objs[gene2_idx]\n",
    "            gene2_tissues = spredixcan_genes_models.loc[gene2_obj.ensembl_id, \"tissue\"]\n",
    "\n",
    "            pbar.set_description(f\"{gene1_obj.ensembl_id} / {gene2_obj.ensembl_id}\")\n",
    "\n",
    "            try:\n",
    "                r = gene1_obj.get_ssm_correlation(\n",
    "                    other_gene=gene2_obj,\n",
    "                    tissues=gene1_tissues,\n",
    "                    other_tissues=gene2_tissues,\n",
    "                    snps_subset=gwas_variants_ids_set,\n",
    "                    condition_number=SMULTIXCAN_CONDITION_NUMBER,\n",
    "                    reference_panel=REFERENCE_PANEL,\n",
    "                    model_type=EQTL_MODEL,\n",
    "                    use_within_distance=COMPUTE_CORRELATIONS_WITHIN_DISTANCE,\n",
    "                )\n",
    "\n",
    "                if r is None:\n",
    "                    # if r is None, it's very likely because:\n",
    "                    #  * one of the genes has no prediction models\n",
    "                    #  * all the SNPs predictors for the gene are not present in the reference\n",
    "                    #    panel\n",
    "\n",
    "                    r = 0.0\n",
    "\n",
    "                gene_corrs.append(r)\n",
    "            except Warning as e:\n",
    "                if not DEBUG_MODE:\n",
    "                    raise e\n",
    "\n",
    "                print(\n",
    "                    f\"RuntimeWarning for genes {gene1_obj.ensembl_id} and {gene2_obj.ensembl_id}\",\n",
    "                    flush=True,\n",
    "                )\n",
    "                print(traceback.format_exc(), flush=True)\n",
    "\n",
    "                gene_corrs.append(np.nan)\n",
    "            except Exception as e:\n",
    "                if not DEBUG_MODE:\n",
    "                    raise e\n",
    "\n",
    "                print(\n",
    "                    f\"Exception for genes {gene1_obj.ensembl_id} and {gene2_obj.ensembl_id}\",\n",
    "                    flush=True,\n",
    "                )\n",
    "                print(traceback.format_exc(), flush=True)\n",
    "\n",
    "                gene_corrs.append(np.nan)\n",
    "\n",
    "            pbar.update(1)\n",
    "\n",
    "# create a pandas series\n",
    "gene_corrs_flat = pd.Series(gene_corrs)\n",
    "\n",
    "# save\n",
    "# FIXME: consider saving only the condenced matrix here. See here for\n",
    "# more details: https://github.com/greenelab/phenoplier/pull/38#discussion_r634600813\n",
    "gene_corrs_data = squareform(np.array(gene_corrs, dtype=np.float64))\n",
    "np.fill_diagonal(gene_corrs_data, 1.0)\n",
    "\n",
    "gene_chr_ids = [g.ensembl_id for g in gene_chr_objs]\n",
    "gene_corrs_df = pd.DataFrame(\n",
    "    data=gene_corrs_data,\n",
    "    index=gene_chr_ids,\n",
    "    columns=gene_chr_ids,\n",
    ")\n",
    "\n",
    "output_dir.mkdir(exist_ok=True, parents=True)\n",
    "display(output_file)\n",
    "\n",
    "gene_corrs_df.to_pickle(output_file)"
   ]
  },
  {
   "cell_type": "markdown",
   "id": "faa67b51-5373-470f-aa72-2ded53fa6dfe",
   "metadata": {
    "papermill": {
     "duration": 3.922626,
     "end_time": "2022-07-22T03:42:21.536869",
     "exception": false,
     "start_time": "2022-07-22T03:42:17.614243",
     "status": "completed"
    },
    "tags": []
   },
   "source": [
    "# Testing"
   ]
  },
  {
   "cell_type": "code",
   "execution_count": 34,
   "id": "14f7d046-4b55-4896-a56b-990127bcc388",
   "metadata": {
    "execution": {
     "iopub.execute_input": "2022-07-22T03:42:29.343650Z",
     "iopub.status.busy": "2022-07-22T03:42:29.341062Z",
     "iopub.status.idle": "2022-07-22T03:42:29.372031Z",
     "shell.execute_reply": "2022-07-22T03:42:29.371608Z"
    },
    "papermill": {
     "duration": 3.986538,
     "end_time": "2022-07-22T03:42:29.373340",
     "exception": false,
     "start_time": "2022-07-22T03:42:25.386802",
     "status": "completed"
    },
    "tags": []
   },
   "outputs": [
    {
     "data": {
      "text/plain": [
       "(444, 444)"
      ]
     },
     "execution_count": 34,
     "metadata": {},
     "output_type": "execute_result"
    }
   ],
   "source": [
    "gene_corrs_df.shape"
   ]
  },
  {
   "cell_type": "code",
   "execution_count": 35,
   "id": "c7d15414-3297-4537-a7c6-7588c0baeb75",
   "metadata": {
    "execution": {
     "iopub.execute_input": "2022-07-22T03:42:37.237849Z",
     "iopub.status.busy": "2022-07-22T03:42:37.237690Z",
     "iopub.status.idle": "2022-07-22T03:42:37.268869Z",
     "shell.execute_reply": "2022-07-22T03:42:37.268441Z"
    },
    "papermill": {
     "duration": 3.965176,
     "end_time": "2022-07-22T03:42:37.270736",
     "exception": false,
     "start_time": "2022-07-22T03:42:33.305560",
     "status": "completed"
    },
    "tags": []
   },
   "outputs": [
    {
     "data": {
      "text/html": [
       "<div>\n",
       "<style scoped>\n",
       "    .dataframe tbody tr th:only-of-type {\n",
       "        vertical-align: middle;\n",
       "    }\n",
       "\n",
       "    .dataframe tbody tr th {\n",
       "        vertical-align: top;\n",
       "    }\n",
       "\n",
       "    .dataframe thead th {\n",
       "        text-align: right;\n",
       "    }\n",
       "</style>\n",
       "<table border=\"1\" class=\"dataframe\">\n",
       "  <thead>\n",
       "    <tr style=\"text-align: right;\">\n",
       "      <th></th>\n",
       "      <th>ENSG00000143727</th>\n",
       "      <th>ENSG00000115705</th>\n",
       "      <th>ENSG00000130508</th>\n",
       "      <th>ENSG00000182551</th>\n",
       "      <th>ENSG00000171865</th>\n",
       "      <th>ENSG00000171863</th>\n",
       "      <th>ENSG00000134326</th>\n",
       "      <th>ENSG00000134321</th>\n",
       "      <th>ENSG00000115738</th>\n",
       "      <th>ENSG00000134313</th>\n",
       "      <th>...</th>\n",
       "      <th>ENSG00000068024</th>\n",
       "      <th>ENSG00000130414</th>\n",
       "      <th>ENSG00000063660</th>\n",
       "      <th>ENSG00000178623</th>\n",
       "      <th>ENSG00000115687</th>\n",
       "      <th>ENSG00000168385</th>\n",
       "      <th>ENSG00000006607</th>\n",
       "      <th>ENSG00000168393</th>\n",
       "      <th>ENSG00000180902</th>\n",
       "      <th>ENSG00000188389</th>\n",
       "    </tr>\n",
       "  </thead>\n",
       "  <tbody>\n",
       "    <tr>\n",
       "      <th>ENSG00000143727</th>\n",
       "      <td>1.000000</td>\n",
       "      <td>0.011211</td>\n",
       "      <td>0.009968</td>\n",
       "      <td>0.010039</td>\n",
       "      <td>0.013970</td>\n",
       "      <td>0.009568</td>\n",
       "      <td>0.000000</td>\n",
       "      <td>0.000000</td>\n",
       "      <td>0.0</td>\n",
       "      <td>0.0</td>\n",
       "      <td>...</td>\n",
       "      <td>0.0</td>\n",
       "      <td>0.0</td>\n",
       "      <td>0.0</td>\n",
       "      <td>0.0</td>\n",
       "      <td>0.0</td>\n",
       "      <td>0.0</td>\n",
       "      <td>0.0</td>\n",
       "      <td>0.0</td>\n",
       "      <td>0.0</td>\n",
       "      <td>0.0</td>\n",
       "    </tr>\n",
       "    <tr>\n",
       "      <th>ENSG00000115705</th>\n",
       "      <td>0.011211</td>\n",
       "      <td>1.000000</td>\n",
       "      <td>0.032509</td>\n",
       "      <td>0.014121</td>\n",
       "      <td>0.015293</td>\n",
       "      <td>0.005106</td>\n",
       "      <td>0.000000</td>\n",
       "      <td>0.000000</td>\n",
       "      <td>0.0</td>\n",
       "      <td>0.0</td>\n",
       "      <td>...</td>\n",
       "      <td>0.0</td>\n",
       "      <td>0.0</td>\n",
       "      <td>0.0</td>\n",
       "      <td>0.0</td>\n",
       "      <td>0.0</td>\n",
       "      <td>0.0</td>\n",
       "      <td>0.0</td>\n",
       "      <td>0.0</td>\n",
       "      <td>0.0</td>\n",
       "      <td>0.0</td>\n",
       "    </tr>\n",
       "    <tr>\n",
       "      <th>ENSG00000130508</th>\n",
       "      <td>0.009968</td>\n",
       "      <td>0.032509</td>\n",
       "      <td>1.000000</td>\n",
       "      <td>0.011446</td>\n",
       "      <td>0.018074</td>\n",
       "      <td>0.009832</td>\n",
       "      <td>0.000000</td>\n",
       "      <td>0.000000</td>\n",
       "      <td>0.0</td>\n",
       "      <td>0.0</td>\n",
       "      <td>...</td>\n",
       "      <td>0.0</td>\n",
       "      <td>0.0</td>\n",
       "      <td>0.0</td>\n",
       "      <td>0.0</td>\n",
       "      <td>0.0</td>\n",
       "      <td>0.0</td>\n",
       "      <td>0.0</td>\n",
       "      <td>0.0</td>\n",
       "      <td>0.0</td>\n",
       "      <td>0.0</td>\n",
       "    </tr>\n",
       "    <tr>\n",
       "      <th>ENSG00000182551</th>\n",
       "      <td>0.010039</td>\n",
       "      <td>0.014121</td>\n",
       "      <td>0.011446</td>\n",
       "      <td>1.000000</td>\n",
       "      <td>0.137199</td>\n",
       "      <td>0.234903</td>\n",
       "      <td>0.007934</td>\n",
       "      <td>0.003922</td>\n",
       "      <td>0.0</td>\n",
       "      <td>0.0</td>\n",
       "      <td>...</td>\n",
       "      <td>0.0</td>\n",
       "      <td>0.0</td>\n",
       "      <td>0.0</td>\n",
       "      <td>0.0</td>\n",
       "      <td>0.0</td>\n",
       "      <td>0.0</td>\n",
       "      <td>0.0</td>\n",
       "      <td>0.0</td>\n",
       "      <td>0.0</td>\n",
       "      <td>0.0</td>\n",
       "    </tr>\n",
       "    <tr>\n",
       "      <th>ENSG00000171865</th>\n",
       "      <td>0.013970</td>\n",
       "      <td>0.015293</td>\n",
       "      <td>0.018074</td>\n",
       "      <td>0.137199</td>\n",
       "      <td>1.000000</td>\n",
       "      <td>0.132984</td>\n",
       "      <td>0.015525</td>\n",
       "      <td>0.009560</td>\n",
       "      <td>0.0</td>\n",
       "      <td>0.0</td>\n",
       "      <td>...</td>\n",
       "      <td>0.0</td>\n",
       "      <td>0.0</td>\n",
       "      <td>0.0</td>\n",
       "      <td>0.0</td>\n",
       "      <td>0.0</td>\n",
       "      <td>0.0</td>\n",
       "      <td>0.0</td>\n",
       "      <td>0.0</td>\n",
       "      <td>0.0</td>\n",
       "      <td>0.0</td>\n",
       "    </tr>\n",
       "  </tbody>\n",
       "</table>\n",
       "<p>5 rows × 444 columns</p>\n",
       "</div>"
      ],
      "text/plain": [
       "                 ENSG00000143727  ENSG00000115705  ENSG00000130508  \\\n",
       "ENSG00000143727         1.000000         0.011211         0.009968   \n",
       "ENSG00000115705         0.011211         1.000000         0.032509   \n",
       "ENSG00000130508         0.009968         0.032509         1.000000   \n",
       "ENSG00000182551         0.010039         0.014121         0.011446   \n",
       "ENSG00000171865         0.013970         0.015293         0.018074   \n",
       "\n",
       "                 ENSG00000182551  ENSG00000171865  ENSG00000171863  \\\n",
       "ENSG00000143727         0.010039         0.013970         0.009568   \n",
       "ENSG00000115705         0.014121         0.015293         0.005106   \n",
       "ENSG00000130508         0.011446         0.018074         0.009832   \n",
       "ENSG00000182551         1.000000         0.137199         0.234903   \n",
       "ENSG00000171865         0.137199         1.000000         0.132984   \n",
       "\n",
       "                 ENSG00000134326  ENSG00000134321  ENSG00000115738  \\\n",
       "ENSG00000143727         0.000000         0.000000              0.0   \n",
       "ENSG00000115705         0.000000         0.000000              0.0   \n",
       "ENSG00000130508         0.000000         0.000000              0.0   \n",
       "ENSG00000182551         0.007934         0.003922              0.0   \n",
       "ENSG00000171865         0.015525         0.009560              0.0   \n",
       "\n",
       "                 ENSG00000134313  ...  ENSG00000068024  ENSG00000130414  \\\n",
       "ENSG00000143727              0.0  ...              0.0              0.0   \n",
       "ENSG00000115705              0.0  ...              0.0              0.0   \n",
       "ENSG00000130508              0.0  ...              0.0              0.0   \n",
       "ENSG00000182551              0.0  ...              0.0              0.0   \n",
       "ENSG00000171865              0.0  ...              0.0              0.0   \n",
       "\n",
       "                 ENSG00000063660  ENSG00000178623  ENSG00000115687  \\\n",
       "ENSG00000143727              0.0              0.0              0.0   \n",
       "ENSG00000115705              0.0              0.0              0.0   \n",
       "ENSG00000130508              0.0              0.0              0.0   \n",
       "ENSG00000182551              0.0              0.0              0.0   \n",
       "ENSG00000171865              0.0              0.0              0.0   \n",
       "\n",
       "                 ENSG00000168385  ENSG00000006607  ENSG00000168393  \\\n",
       "ENSG00000143727              0.0              0.0              0.0   \n",
       "ENSG00000115705              0.0              0.0              0.0   \n",
       "ENSG00000130508              0.0              0.0              0.0   \n",
       "ENSG00000182551              0.0              0.0              0.0   \n",
       "ENSG00000171865              0.0              0.0              0.0   \n",
       "\n",
       "                 ENSG00000180902  ENSG00000188389  \n",
       "ENSG00000143727              0.0              0.0  \n",
       "ENSG00000115705              0.0              0.0  \n",
       "ENSG00000130508              0.0              0.0  \n",
       "ENSG00000182551              0.0              0.0  \n",
       "ENSG00000171865              0.0              0.0  \n",
       "\n",
       "[5 rows x 444 columns]"
      ]
     },
     "execution_count": 35,
     "metadata": {},
     "output_type": "execute_result"
    }
   ],
   "source": [
    "gene_corrs_df.head()"
   ]
  },
  {
   "cell_type": "markdown",
   "id": "dad6603f-01c6-41fb-a6f6-241051207dd8",
   "metadata": {
    "papermill": {
     "duration": 3.857278,
     "end_time": "2022-07-22T03:42:45.075538",
     "exception": false,
     "start_time": "2022-07-22T03:42:41.218260",
     "status": "completed"
    },
    "tags": []
   },
   "source": [
    "## Standard checks and stats"
   ]
  },
  {
   "cell_type": "code",
   "execution_count": 36,
   "id": "286686af-1b7b-4440-8453-6bdcbd8de19c",
   "metadata": {
    "execution": {
     "iopub.execute_input": "2022-07-22T03:42:53.558375Z",
     "iopub.status.busy": "2022-07-22T03:42:53.558196Z",
     "iopub.status.idle": "2022-07-22T03:42:53.590372Z",
     "shell.execute_reply": "2022-07-22T03:42:53.589942Z"
    },
    "papermill": {
     "duration": 4.697547,
     "end_time": "2022-07-22T03:42:53.591701",
     "exception": false,
     "start_time": "2022-07-22T03:42:48.894154",
     "status": "completed"
    },
    "tags": []
   },
   "outputs": [],
   "source": [
    "assert not gene_corrs_df.isna().any().any()"
   ]
  },
  {
   "cell_type": "code",
   "execution_count": 37,
   "id": "00583efc-7068-4270-ad1e-4a418e91db96",
   "metadata": {
    "execution": {
     "iopub.execute_input": "2022-07-22T03:43:01.459625Z",
     "iopub.status.busy": "2022-07-22T03:43:01.459462Z",
     "iopub.status.idle": "2022-07-22T03:43:01.492368Z",
     "shell.execute_reply": "2022-07-22T03:43:01.491980Z"
    },
    "papermill": {
     "duration": 3.915799,
     "end_time": "2022-07-22T03:43:01.493564",
     "exception": false,
     "start_time": "2022-07-22T03:42:57.577765",
     "status": "completed"
    },
    "tags": []
   },
   "outputs": [
    {
     "data": {
      "text/plain": [
       "0.0"
      ]
     },
     "metadata": {},
     "output_type": "display_data"
    }
   ],
   "source": [
    "_min_val = gene_corrs_df.min().min()\n",
    "display(_min_val)\n",
    "assert _min_val >= 0.0"
   ]
  },
  {
   "cell_type": "code",
   "execution_count": 38,
   "id": "d04fb2cf-1050-475b-b855-f5f7cc04092b",
   "metadata": {
    "execution": {
     "iopub.execute_input": "2022-07-22T03:43:09.146949Z",
     "iopub.status.busy": "2022-07-22T03:43:09.146775Z",
     "iopub.status.idle": "2022-07-22T03:43:09.164066Z",
     "shell.execute_reply": "2022-07-22T03:43:09.163602Z"
    },
    "papermill": {
     "duration": 3.870432,
     "end_time": "2022-07-22T03:43:09.165293",
     "exception": false,
     "start_time": "2022-07-22T03:43:05.294861",
     "status": "completed"
    },
    "tags": []
   },
   "outputs": [
    {
     "data": {
      "text/plain": [
       "1.0"
      ]
     },
     "metadata": {},
     "output_type": "display_data"
    }
   ],
   "source": [
    "_max_val = gene_corrs_df.max().max()  # this captures the diagonal\n",
    "display(_max_val)\n",
    "assert _max_val <= 1.0"
   ]
  },
  {
   "cell_type": "code",
   "execution_count": 39,
   "id": "96d02c44-1fba-47be-8a93-8f2608420b9c",
   "metadata": {
    "execution": {
     "iopub.execute_input": "2022-07-22T03:43:16.758598Z",
     "iopub.status.busy": "2022-07-22T03:43:16.758407Z",
     "iopub.status.idle": "2022-07-22T03:43:16.777697Z",
     "shell.execute_reply": "2022-07-22T03:43:16.776966Z"
    },
    "papermill": {
     "duration": 3.793031,
     "end_time": "2022-07-22T03:43:16.779655",
     "exception": false,
     "start_time": "2022-07-22T03:43:12.986624",
     "status": "completed"
    },
    "tags": []
   },
   "outputs": [],
   "source": [
    "# check upper triangular values\n",
    "assert len(gene_corrs) == int(genes_chr.shape[0] * (genes_chr.shape[0] - 1) / 2)"
   ]
  },
  {
   "cell_type": "code",
   "execution_count": 40,
   "id": "fe283586-c348-40e0-8841-f6d97bfb021c",
   "metadata": {
    "execution": {
     "iopub.execute_input": "2022-07-22T03:43:24.339235Z",
     "iopub.status.busy": "2022-07-22T03:43:24.339062Z",
     "iopub.status.idle": "2022-07-22T03:43:24.372165Z",
     "shell.execute_reply": "2022-07-22T03:43:24.371777Z"
    },
    "papermill": {
     "duration": 3.81827,
     "end_time": "2022-07-22T03:43:24.373488",
     "exception": false,
     "start_time": "2022-07-22T03:43:20.555218",
     "status": "completed"
    },
    "tags": []
   },
   "outputs": [
    {
     "data": {
      "text/plain": [
       "count    98346.000000\n",
       "mean         0.001696\n",
       "std          0.022937\n",
       "min          0.000000\n",
       "25%          0.000000\n",
       "50%          0.000000\n",
       "75%          0.000000\n",
       "max          1.000000\n",
       "dtype: float64"
      ]
     },
     "execution_count": 40,
     "metadata": {},
     "output_type": "execute_result"
    }
   ],
   "source": [
    "gene_corrs_flat.describe()"
   ]
  },
  {
   "cell_type": "code",
   "execution_count": 41,
   "id": "b3815678-0f93-4b35-897b-a9d047a2aa78",
   "metadata": {
    "execution": {
     "iopub.execute_input": "2022-07-22T03:43:32.089319Z",
     "iopub.status.busy": "2022-07-22T03:43:32.088999Z",
     "iopub.status.idle": "2022-07-22T03:43:32.108955Z",
     "shell.execute_reply": "2022-07-22T03:43:32.108486Z"
    },
    "papermill": {
     "duration": 3.868476,
     "end_time": "2022-07-22T03:43:32.110151",
     "exception": false,
     "start_time": "2022-07-22T03:43:28.241675",
     "status": "completed"
    },
    "tags": []
   },
   "outputs": [
    {
     "data": {
      "text/plain": [
       "0.00    0.0\n",
       "0.05    0.0\n",
       "0.10    0.0\n",
       "0.15    0.0\n",
       "0.20    0.0\n",
       "0.25    0.0\n",
       "0.30    0.0\n",
       "0.35    0.0\n",
       "0.40    0.0\n",
       "0.45    0.0\n",
       "0.50    0.0\n",
       "0.55    0.0\n",
       "0.60    0.0\n",
       "0.65    0.0\n",
       "0.70    0.0\n",
       "0.75    0.0\n",
       "0.80    0.0\n",
       "0.85    0.0\n",
       "0.90    0.0\n",
       "0.95    0.0\n",
       "dtype: float64"
      ]
     },
     "metadata": {},
     "output_type": "display_data"
    }
   ],
   "source": [
    "gene_corrs_quantiles = gene_corrs_flat.quantile(np.arange(0, 1, 0.05))\n",
    "display(gene_corrs_quantiles)"
   ]
  },
  {
   "cell_type": "markdown",
   "id": "87134509-b145-4a10-8bc9-b7e914c2b0fa",
   "metadata": {
    "papermill": {
     "duration": 3.841441,
     "end_time": "2022-07-22T03:43:39.746085",
     "exception": false,
     "start_time": "2022-07-22T03:43:35.904644",
     "status": "completed"
    },
    "tags": []
   },
   "source": [
    "## Positive definiteness"
   ]
  },
  {
   "cell_type": "code",
   "execution_count": 42,
   "id": "07d9a9a1-a4f7-48aa-b916-6d42a8cc6186",
   "metadata": {
    "execution": {
     "iopub.execute_input": "2022-07-22T03:43:47.329258Z",
     "iopub.status.busy": "2022-07-22T03:43:47.329048Z",
     "iopub.status.idle": "2022-07-22T03:43:47.390619Z",
     "shell.execute_reply": "2022-07-22T03:43:47.390221Z"
    },
    "papermill": {
     "duration": 3.845365,
     "end_time": "2022-07-22T03:43:47.391801",
     "exception": false,
     "start_time": "2022-07-22T03:43:43.546436",
     "status": "completed"
    },
    "tags": []
   },
   "outputs": [
    {
     "data": {
      "text/plain": [
       "1"
      ]
     },
     "metadata": {},
     "output_type": "display_data"
    },
    {
     "data": {
      "text/plain": [
       "array([-1.87570465e-05])"
      ]
     },
     "metadata": {},
     "output_type": "display_data"
    }
   ],
   "source": [
    "# print negative eigenvalues\n",
    "eigs = np.linalg.eigvals(gene_corrs_df.to_numpy())\n",
    "display(len(eigs[eigs < 0]))\n",
    "display(eigs[eigs < 0])"
   ]
  },
  {
   "cell_type": "code",
   "execution_count": 43,
   "id": "6e218436-c3c5-4028-8c94-a4fa6260efce",
   "metadata": {
    "execution": {
     "iopub.execute_input": "2022-07-22T03:43:54.984683Z",
     "iopub.status.busy": "2022-07-22T03:43:54.984516Z",
     "iopub.status.idle": "2022-07-22T03:43:55.007616Z",
     "shell.execute_reply": "2022-07-22T03:43:55.007208Z"
    },
    "papermill": {
     "duration": 3.807087,
     "end_time": "2022-07-22T03:43:55.008939",
     "exception": false,
     "start_time": "2022-07-22T03:43:51.201852",
     "status": "completed"
    },
    "tags": []
   },
   "outputs": [
    {
     "name": "stdout",
     "output_type": "stream",
     "text": [
      "Cholesky decomposition failed\n"
     ]
    }
   ],
   "source": [
    "try:\n",
    "    chol_mat = np.linalg.cholesky(gene_corrs_df.to_numpy())\n",
    "    cov_inv = np.linalg.inv(chol_mat)\n",
    "    print(\"Works!\")\n",
    "except:\n",
    "    print(\"Cholesky decomposition failed\")"
   ]
  },
  {
   "cell_type": "markdown",
   "id": "8e60a080-edb2-4e9c-b2ef-22961693200c",
   "metadata": {
    "papermill": {
     "duration": 3.970588,
     "end_time": "2022-07-22T03:44:02.858708",
     "exception": false,
     "start_time": "2022-07-22T03:43:58.888120",
     "status": "completed"
    },
    "tags": []
   },
   "source": [
    "## Plot: distribution"
   ]
  },
  {
   "cell_type": "code",
   "execution_count": 44,
   "id": "8301126b-a7d4-4744-9c7d-f0f86eb6f54c",
   "metadata": {
    "execution": {
     "iopub.execute_input": "2022-07-22T03:44:10.748403Z",
     "iopub.status.busy": "2022-07-22T03:44:10.748190Z",
     "iopub.status.idle": "2022-07-22T03:44:11.269022Z",
     "shell.execute_reply": "2022-07-22T03:44:11.268383Z"
    },
    "papermill": {
     "duration": 4.455625,
     "end_time": "2022-07-22T03:44:11.270411",
     "exception": false,
     "start_time": "2022-07-22T03:44:06.814786",
     "status": "completed"
    },
    "tags": []
   },
   "outputs": [
    {
     "data": {
      "image/png": "[encoded data removed]",
      "text/plain": [
       "<Figure size 504x504 with 1 Axes>"
      ]
     },
     "metadata": {
      "needs_background": "light"
     },
     "output_type": "display_data"
    }
   ],
   "source": [
    "with sns.plotting_context(\"paper\", font_scale=1.5):\n",
    "    g = sns.displot(gene_corrs_flat, kde=True, height=7)\n",
    "    g.ax.set_title(\n",
    "        f\"Distribution of gene correlation values in chromosome {CHROMOSOME}\"\n",
    "    )"
   ]
  },
  {
   "cell_type": "markdown",
   "id": "cbd52bca-d878-4a2f-b684-5c83aa3038d4",
   "metadata": {
    "papermill": {
     "duration": 3.776752,
     "end_time": "2022-07-22T03:44:18.876560",
     "exception": false,
     "start_time": "2022-07-22T03:44:15.099808",
     "status": "completed"
    },
    "tags": []
   },
   "source": [
    "## Plot: heatmap"
   ]
  },
  {
   "cell_type": "code",
   "execution_count": 45,
   "id": "d03fe63a-c7b2-4fb9-a53c-db362ce843c9",
   "metadata": {
    "execution": {
     "iopub.execute_input": "2022-07-22T03:44:26.423645Z",
     "iopub.status.busy": "2022-07-22T03:44:26.420029Z",
     "iopub.status.idle": "2022-07-22T03:44:26.444483Z",
     "shell.execute_reply": "2022-07-22T03:44:26.443998Z"
    },
    "papermill": {
     "duration": 3.794124,
     "end_time": "2022-07-22T03:44:26.445645",
     "exception": false,
     "start_time": "2022-07-22T03:44:22.651521",
     "status": "completed"
    },
    "tags": []
   },
   "outputs": [
    {
     "data": {
      "text/plain": [
       "'0.0 / 0.05'"
      ]
     },
     "metadata": {},
     "output_type": "display_data"
    }
   ],
   "source": [
    "vmin_val = min(0.00, gene_corrs_quantiles[0.10])\n",
    "vmax_val = max(0.05, gene_corrs_quantiles[0.90])\n",
    "display(f\"{vmin_val} / {vmax_val}\")"
   ]
  },
  {
   "cell_type": "code",
   "execution_count": 46,
   "id": "dc41b70b-5bcc-4d9e-9f33-a22c4a94dab5",
   "metadata": {
    "execution": {
     "iopub.execute_input": "2022-07-22T03:44:34.077558Z",
     "iopub.status.busy": "2022-07-22T03:44:34.077112Z",
     "iopub.status.idle": "2022-07-22T03:44:34.381371Z",
     "shell.execute_reply": "2022-07-22T03:44:34.380988Z"
    },
    "papermill": {
     "duration": 4.109235,
     "end_time": "2022-07-22T03:44:34.382678",
     "exception": false,
     "start_time": "2022-07-22T03:44:30.273443",
     "status": "completed"
    },
    "tags": []
   },
   "outputs": [
    {
     "data": {
      "text/plain": [
       "Text(0.5, 1.0, 'Gene correlations in chromosome 2')"
      ]
     },
     "execution_count": 46,
     "metadata": {},
     "output_type": "execute_result"
    },
    {
     "data": {
      "image/png": "[encoded data removed]",
      "text/plain": [
       "<Figure size 720x720 with 2 Axes>"
      ]
     },
     "metadata": {
      "needs_background": "light"
     },
     "output_type": "display_data"
    }
   ],
   "source": [
    "f, ax = plt.subplots(figsize=(10, 10))\n",
    "sns.heatmap(\n",
    "    gene_corrs_df,\n",
    "    xticklabels=False,\n",
    "    yticklabels=False,\n",
    "    square=True,\n",
    "    vmin=vmin_val,\n",
    "    vmax=vmax_val,\n",
    "    cmap=\"rocket_r\",\n",
    "    ax=ax,\n",
    ")\n",
    "ax.set_title(f\"Gene correlations in chromosome {CHROMOSOME}\")"
   ]
  },
  {
   "cell_type": "code",
   "execution_count": null,
   "id": "b25e3ead",
   "metadata": {
    "papermill": {
     "duration": 3.987598,
     "end_time": "2022-07-22T03:44:42.157927",
     "exception": false,
     "start_time": "2022-07-22T03:44:38.170329",
     "status": "completed"
    },
    "tags": []
   },
   "outputs": [],
   "source": []
  }
 ],
 "metadata": {
  "jupytext": {
   "cell_metadata_filter": "all,-execution,-papermill,-trusted",
   "formats": "ipynb,py//py:percent"
  },
  "kernelspec": {
   "display_name": "Python 3 (ipykernel)",
   "language": "python",
   "name": "python3"
  },
  "language_info": {
   "codemirror_mode": {
    "name": "ipython",
    "version": 3
   },
   "file_extension": ".py",
   "mimetype": "text/x-python",
   "name": "python",
   "nbconvert_exporter": "python",
   "pygments_lexer": "ipython3",
   "version": "3.8.13"
  },
  "papermill": {
   "default_parameters": {},
   "duration": 733.587583,
   "end_time": "2022-07-22T03:44:49.278897",
   "environment_variables": {},
   "exception": null,
   "input_path": "nbs/15_gsa_gls/10-gene_expr_correlations.ipynb",
   "output_path": "nbs/15_gsa_gls/gene_corrs/cohorts/1000g_eur/1000g/mashr/10-gene_expr_correlations-chr2.run.ipynb",
   "parameters": {
    "CHROMOSOME": 2,
    "COHORT_NAME": "1000G_EUR",
    "EQTL_MODEL": "MASHR",
    "REFERENCE_PANEL": "1000G"
   },
   "start_time": "2022-07-22T03:32:35.691314",
   "version": "2.2.2"
  }
 },
 "nbformat": 4,
 "nbformat_minor": 5
}
