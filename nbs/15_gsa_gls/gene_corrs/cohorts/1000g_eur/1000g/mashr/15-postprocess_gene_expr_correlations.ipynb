{
 "cells": [
  {
   "cell_type": "markdown",
   "id": "5ef66977",
   "metadata": {
    "papermill": {
     "duration": 0.036869,
     "end_time": "2022-08-09T13:54:04.771954",
     "exception": false,
     "start_time": "2022-08-09T13:54:04.735085",
     "status": "completed"
    },
    "tags": []
   },
   "source": [
    "# Description"
   ]
  },
  {
   "cell_type": "markdown",
   "id": "658d4f7c",
   "metadata": {
    "papermill": {
     "duration": 0.037614,
     "end_time": "2022-08-09T13:54:04.825349",
     "exception": false,
     "start_time": "2022-08-09T13:54:04.787735",
     "status": "completed"
    },
    "tags": []
   },
   "source": [
    "(Please, take a look at the README.md file in this directory for instructions on how to run this notebook)\n",
    "\n",
    "This notebook reads all gene correlations across all chromosomes and computes a single correlation matrix by assembling a big correlation matrix with all genes."
   ]
  },
  {
   "cell_type": "markdown",
   "id": "60fa4530",
   "metadata": {
    "papermill": {
     "duration": 0.010758,
     "end_time": "2022-08-09T13:54:04.847252",
     "exception": false,
     "start_time": "2022-08-09T13:54:04.836494",
     "status": "completed"
    },
    "tags": []
   },
   "source": [
    "# Modules"
   ]
  },
  {
   "cell_type": "code",
   "execution_count": 1,
   "id": "d70b0833",
   "metadata": {
    "execution": {
     "iopub.execute_input": "2022-08-09T13:54:04.868868Z",
     "iopub.status.busy": "2022-08-09T13:54:04.868667Z",
     "iopub.status.idle": "2022-08-09T13:54:04.883340Z",
     "shell.execute_reply": "2022-08-09T13:54:04.882835Z"
    },
    "papermill": {
     "duration": 0.026793,
     "end_time": "2022-08-09T13:54:04.884776",
     "exception": false,
     "start_time": "2022-08-09T13:54:04.857983",
     "status": "completed"
    },
    "tags": []
   },
   "outputs": [],
   "source": [
    "%load_ext autoreload\n",
    "%autoreload 2"
   ]
  },
  {
   "cell_type": "code",
   "execution_count": 2,
   "id": "6b2f9ca0",
   "metadata": {
    "execution": {
     "iopub.execute_input": "2022-08-09T13:54:04.905021Z",
     "iopub.status.busy": "2022-08-09T13:54:04.904859Z",
     "iopub.status.idle": "2022-08-09T13:54:05.733109Z",
     "shell.execute_reply": "2022-08-09T13:54:05.732440Z"
    },
    "papermill": {
     "duration": 0.839972,
     "end_time": "2022-08-09T13:54:05.734593",
     "exception": false,
     "start_time": "2022-08-09T13:54:04.894621",
     "status": "completed"
    },
    "tags": []
   },
   "outputs": [],
   "source": [
    "import pickle\n",
    "\n",
    "import numpy as np\n",
    "from scipy.spatial.distance import squareform\n",
    "import pandas as pd\n",
    "import matplotlib.pyplot as plt\n",
    "import seaborn as sns\n",
    "\n",
    "import conf\n",
    "from entity import Gene"
   ]
  },
  {
   "cell_type": "markdown",
   "id": "5b96e797",
   "metadata": {
    "papermill": {
     "duration": 0.009342,
     "end_time": "2022-08-09T13:54:05.753775",
     "exception": false,
     "start_time": "2022-08-09T13:54:05.744433",
     "status": "completed"
    },
    "tags": []
   },
   "source": [
    "# Settings"
   ]
  },
  {
   "cell_type": "code",
   "execution_count": 3,
   "id": "4fc1b6a0",
   "metadata": {
    "execution": {
     "iopub.execute_input": "2022-08-09T13:54:05.773389Z",
     "iopub.status.busy": "2022-08-09T13:54:05.773167Z",
     "iopub.status.idle": "2022-08-09T13:54:05.787584Z",
     "shell.execute_reply": "2022-08-09T13:54:05.787135Z"
    },
    "papermill": {
     "duration": 0.025543,
     "end_time": "2022-08-09T13:54:05.788891",
     "exception": false,
     "start_time": "2022-08-09T13:54:05.763348",
     "status": "completed"
    },
    "tags": [
     "parameters"
    ]
   },
   "outputs": [],
   "source": [
    "# a cohort name (it could be something like UK_BIOBANK, etc)\n",
    "COHORT_NAME = None\n",
    "\n",
    "# reference panel such as 1000G or GTEX_V8\n",
    "REFERENCE_PANEL = None\n",
    "\n",
    "# predictions models such as MASHR or ELASTIC_NET\n",
    "EQTL_MODEL = None"
   ]
  },
  {
   "cell_type": "code",
   "execution_count": 4,
   "id": "f849aa26",
   "metadata": {
    "execution": {
     "iopub.execute_input": "2022-08-09T13:54:05.808390Z",
     "iopub.status.busy": "2022-08-09T13:54:05.808226Z",
     "iopub.status.idle": "2022-08-09T13:54:05.822248Z",
     "shell.execute_reply": "2022-08-09T13:54:05.821757Z"
    },
    "papermill": {
     "duration": 0.025211,
     "end_time": "2022-08-09T13:54:05.823521",
     "exception": false,
     "start_time": "2022-08-09T13:54:05.798310",
     "status": "completed"
    },
    "tags": [
     "injected-parameters"
    ]
   },
   "outputs": [],
   "source": [
    "# Parameters\n",
    "COHORT_NAME = \"1000G_EUR\"\n",
    "REFERENCE_PANEL = \"1000G\"\n",
    "EQTL_MODEL = \"MASHR\"\n"
   ]
  },
  {
   "cell_type": "code",
   "execution_count": 5,
   "id": "6dba5c90-40a4-4a62-899e-1711ab4e40bb",
   "metadata": {
    "execution": {
     "iopub.execute_input": "2022-08-09T13:54:05.842967Z",
     "iopub.status.busy": "2022-08-09T13:54:05.842803Z",
     "iopub.status.idle": "2022-08-09T13:54:05.859364Z",
     "shell.execute_reply": "2022-08-09T13:54:05.858831Z"
    },
    "papermill": {
     "duration": 0.027731,
     "end_time": "2022-08-09T13:54:05.860615",
     "exception": false,
     "start_time": "2022-08-09T13:54:05.832884",
     "status": "completed"
    },
    "tags": []
   },
   "outputs": [
    {
     "data": {
      "text/plain": [
       "'Cohort name: 1000g_eur'"
      ]
     },
     "metadata": {},
     "output_type": "display_data"
    }
   ],
   "source": [
    "assert COHORT_NAME is not None and len(COHORT_NAME) > 0, \"A cohort name must be given\"\n",
    "\n",
    "COHORT_NAME = COHORT_NAME.lower()\n",
    "display(f\"Cohort name: {COHORT_NAME}\")"
   ]
  },
  {
   "cell_type": "code",
   "execution_count": 6,
   "id": "90be4359-19db-4c2d-a3ca-202674476164",
   "metadata": {
    "execution": {
     "iopub.execute_input": "2022-08-09T13:54:05.880945Z",
     "iopub.status.busy": "2022-08-09T13:54:05.880774Z",
     "iopub.status.idle": "2022-08-09T13:54:05.896037Z",
     "shell.execute_reply": "2022-08-09T13:54:05.895527Z"
    },
    "papermill": {
     "duration": 0.026805,
     "end_time": "2022-08-09T13:54:05.897281",
     "exception": false,
     "start_time": "2022-08-09T13:54:05.870476",
     "status": "completed"
    },
    "tags": []
   },
   "outputs": [
    {
     "data": {
      "text/plain": [
       "'Reference panel: 1000G'"
      ]
     },
     "metadata": {},
     "output_type": "display_data"
    }
   ],
   "source": [
    "assert (\n",
    "    REFERENCE_PANEL is not None and len(REFERENCE_PANEL) > 0\n",
    "), \"A reference panel must be given\"\n",
    "\n",
    "display(f\"Reference panel: {REFERENCE_PANEL}\")"
   ]
  },
  {
   "cell_type": "code",
   "execution_count": 7,
   "id": "d959f3f4-8f7b-4313-b3b1-37606e7250bf",
   "metadata": {
    "execution": {
     "iopub.execute_input": "2022-08-09T13:54:05.917689Z",
     "iopub.status.busy": "2022-08-09T13:54:05.917000Z",
     "iopub.status.idle": "2022-08-09T13:54:05.932128Z",
     "shell.execute_reply": "2022-08-09T13:54:05.931598Z"
    },
    "papermill": {
     "duration": 0.026269,
     "end_time": "2022-08-09T13:54:05.933412",
     "exception": false,
     "start_time": "2022-08-09T13:54:05.907143",
     "status": "completed"
    },
    "tags": []
   },
   "outputs": [
    {
     "data": {
      "text/plain": [
       "'eQTL model: MASHR)'"
      ]
     },
     "metadata": {},
     "output_type": "display_data"
    }
   ],
   "source": [
    "assert (\n",
    "    EQTL_MODEL is not None and len(EQTL_MODEL) > 0\n",
    "), \"A prediction/eQTL model must be given\"\n",
    "\n",
    "display(f\"eQTL model: {EQTL_MODEL})\")"
   ]
  },
  {
   "cell_type": "code",
   "execution_count": 8,
   "id": "ac0c0705-90e4-42f8-8298-a457c7e778ff",
   "metadata": {
    "execution": {
     "iopub.execute_input": "2022-08-09T13:54:05.953582Z",
     "iopub.status.busy": "2022-08-09T13:54:05.953418Z",
     "iopub.status.idle": "2022-08-09T13:54:05.968482Z",
     "shell.execute_reply": "2022-08-09T13:54:05.968009Z"
    },
    "papermill": {
     "duration": 0.026597,
     "end_time": "2022-08-09T13:54:05.969699",
     "exception": false,
     "start_time": "2022-08-09T13:54:05.943102",
     "status": "completed"
    },
    "tags": []
   },
   "outputs": [
    {
     "data": {
      "text/plain": [
       "'Using output dir base: /opt/data/results/gls/gene_corrs/cohorts/1000g_eur/1000g/mashr'"
      ]
     },
     "metadata": {},
     "output_type": "display_data"
    }
   ],
   "source": [
    "OUTPUT_DIR_BASE = (\n",
    "    conf.RESULTS[\"GLS\"]\n",
    "    / \"gene_corrs\"\n",
    "    / \"cohorts\"\n",
    "    / COHORT_NAME\n",
    "    / REFERENCE_PANEL.lower()\n",
    "    / EQTL_MODEL.lower()\n",
    ")\n",
    "OUTPUT_DIR_BASE.mkdir(parents=True, exist_ok=True)\n",
    "\n",
    "display(f\"Using output dir base: {OUTPUT_DIR_BASE}\")"
   ]
  },
  {
   "cell_type": "code",
   "execution_count": 9,
   "id": "1afd50f7",
   "metadata": {
    "execution": {
     "iopub.execute_input": "2022-08-09T13:54:05.989946Z",
     "iopub.status.busy": "2022-08-09T13:54:05.989783Z",
     "iopub.status.idle": "2022-08-09T13:54:06.004493Z",
     "shell.execute_reply": "2022-08-09T13:54:06.004006Z"
    },
    "papermill": {
     "duration": 0.026288,
     "end_time": "2022-08-09T13:54:06.005754",
     "exception": false,
     "start_time": "2022-08-09T13:54:05.979466",
     "status": "completed"
    },
    "tags": []
   },
   "outputs": [
    {
     "data": {
      "text/plain": [
       "'Gene correlations input dir: /opt/data/results/gls/gene_corrs/cohorts/1000g_eur/1000g/mashr/by_chr'"
      ]
     },
     "metadata": {},
     "output_type": "display_data"
    }
   ],
   "source": [
    "INPUT_DIR = OUTPUT_DIR_BASE / \"by_chr\"\n",
    "\n",
    "display(f\"Gene correlations input dir: {INPUT_DIR}\")\n",
    "assert INPUT_DIR.exists()"
   ]
  },
  {
   "cell_type": "markdown",
   "id": "99ccb166",
   "metadata": {
    "papermill": {
     "duration": 0.009548,
     "end_time": "2022-08-09T13:54:06.025149",
     "exception": false,
     "start_time": "2022-08-09T13:54:06.015601",
     "status": "completed"
    },
    "tags": []
   },
   "source": [
    "# Load data"
   ]
  },
  {
   "cell_type": "markdown",
   "id": "028bdd42",
   "metadata": {
    "papermill": {
     "duration": 0.008911,
     "end_time": "2022-08-09T13:54:06.043841",
     "exception": false,
     "start_time": "2022-08-09T13:54:06.034930",
     "status": "completed"
    },
    "tags": []
   },
   "source": [
    "## Gene correlations"
   ]
  },
  {
   "cell_type": "code",
   "execution_count": 10,
   "id": "04624465",
   "metadata": {
    "execution": {
     "iopub.execute_input": "2022-08-09T13:54:06.063325Z",
     "iopub.status.busy": "2022-08-09T13:54:06.063077Z",
     "iopub.status.idle": "2022-08-09T13:54:06.077670Z",
     "shell.execute_reply": "2022-08-09T13:54:06.077142Z"
    },
    "papermill": {
     "duration": 0.026007,
     "end_time": "2022-08-09T13:54:06.079030",
     "exception": false,
     "start_time": "2022-08-09T13:54:06.053023",
     "status": "completed"
    },
    "tags": []
   },
   "outputs": [],
   "source": [
    "all_gene_corr_files = list(INPUT_DIR.glob(\"gene_corrs-chr*.pkl\"))"
   ]
  },
  {
   "cell_type": "code",
   "execution_count": 11,
   "id": "be5869e7-d0e4-4b8f-8c6d-a1c6a9419fe2",
   "metadata": {
    "execution": {
     "iopub.execute_input": "2022-08-09T13:54:06.099617Z",
     "iopub.status.busy": "2022-08-09T13:54:06.099447Z",
     "iopub.status.idle": "2022-08-09T13:54:06.113709Z",
     "shell.execute_reply": "2022-08-09T13:54:06.113148Z"
    },
    "papermill": {
     "duration": 0.026097,
     "end_time": "2022-08-09T13:54:06.115030",
     "exception": false,
     "start_time": "2022-08-09T13:54:06.088933",
     "status": "completed"
    },
    "tags": []
   },
   "outputs": [],
   "source": [
    "# sort by chromosome\n",
    "all_gene_corr_files = sorted(\n",
    "    all_gene_corr_files, key=lambda x: int(x.name.split(\"-chr\")[1].split(\".pkl\")[0])\n",
    ")"
   ]
  },
  {
   "cell_type": "code",
   "execution_count": 12,
   "id": "7d1168f5",
   "metadata": {
    "execution": {
     "iopub.execute_input": "2022-08-09T13:54:06.135070Z",
     "iopub.status.busy": "2022-08-09T13:54:06.134910Z",
     "iopub.status.idle": "2022-08-09T13:54:06.149145Z",
     "shell.execute_reply": "2022-08-09T13:54:06.148732Z"
    },
    "papermill": {
     "duration": 0.025586,
     "end_time": "2022-08-09T13:54:06.150350",
     "exception": false,
     "start_time": "2022-08-09T13:54:06.124764",
     "status": "completed"
    },
    "tags": []
   },
   "outputs": [
    {
     "data": {
      "text/plain": [
       "22"
      ]
     },
     "execution_count": 12,
     "metadata": {},
     "output_type": "execute_result"
    }
   ],
   "source": [
    "len(all_gene_corr_files)"
   ]
  },
  {
   "cell_type": "code",
   "execution_count": 13,
   "id": "39364170",
   "metadata": {
    "execution": {
     "iopub.execute_input": "2022-08-09T13:54:06.170988Z",
     "iopub.status.busy": "2022-08-09T13:54:06.170424Z",
     "iopub.status.idle": "2022-08-09T13:54:06.185024Z",
     "shell.execute_reply": "2022-08-09T13:54:06.184523Z"
    },
    "papermill": {
     "duration": 0.026096,
     "end_time": "2022-08-09T13:54:06.186278",
     "exception": false,
     "start_time": "2022-08-09T13:54:06.160182",
     "status": "completed"
    },
    "tags": []
   },
   "outputs": [
    {
     "data": {
      "text/plain": [
       "[PosixPath('/opt/data/results/gls/gene_corrs/cohorts/1000g_eur/1000g/mashr/by_chr/gene_corrs-chr1.pkl'),\n",
       " PosixPath('/opt/data/results/gls/gene_corrs/cohorts/1000g_eur/1000g/mashr/by_chr/gene_corrs-chr2.pkl'),\n",
       " PosixPath('/opt/data/results/gls/gene_corrs/cohorts/1000g_eur/1000g/mashr/by_chr/gene_corrs-chr3.pkl'),\n",
       " PosixPath('/opt/data/results/gls/gene_corrs/cohorts/1000g_eur/1000g/mashr/by_chr/gene_corrs-chr4.pkl'),\n",
       " PosixPath('/opt/data/results/gls/gene_corrs/cohorts/1000g_eur/1000g/mashr/by_chr/gene_corrs-chr5.pkl'),\n",
       " PosixPath('/opt/data/results/gls/gene_corrs/cohorts/1000g_eur/1000g/mashr/by_chr/gene_corrs-chr6.pkl'),\n",
       " PosixPath('/opt/data/results/gls/gene_corrs/cohorts/1000g_eur/1000g/mashr/by_chr/gene_corrs-chr7.pkl'),\n",
       " PosixPath('/opt/data/results/gls/gene_corrs/cohorts/1000g_eur/1000g/mashr/by_chr/gene_corrs-chr8.pkl'),\n",
       " PosixPath('/opt/data/results/gls/gene_corrs/cohorts/1000g_eur/1000g/mashr/by_chr/gene_corrs-chr9.pkl'),\n",
       " PosixPath('/opt/data/results/gls/gene_corrs/cohorts/1000g_eur/1000g/mashr/by_chr/gene_corrs-chr10.pkl'),\n",
       " PosixPath('/opt/data/results/gls/gene_corrs/cohorts/1000g_eur/1000g/mashr/by_chr/gene_corrs-chr11.pkl'),\n",
       " PosixPath('/opt/data/results/gls/gene_corrs/cohorts/1000g_eur/1000g/mashr/by_chr/gene_corrs-chr12.pkl'),\n",
       " PosixPath('/opt/data/results/gls/gene_corrs/cohorts/1000g_eur/1000g/mashr/by_chr/gene_corrs-chr13.pkl'),\n",
       " PosixPath('/opt/data/results/gls/gene_corrs/cohorts/1000g_eur/1000g/mashr/by_chr/gene_corrs-chr14.pkl'),\n",
       " PosixPath('/opt/data/results/gls/gene_corrs/cohorts/1000g_eur/1000g/mashr/by_chr/gene_corrs-chr15.pkl'),\n",
       " PosixPath('/opt/data/results/gls/gene_corrs/cohorts/1000g_eur/1000g/mashr/by_chr/gene_corrs-chr16.pkl'),\n",
       " PosixPath('/opt/data/results/gls/gene_corrs/cohorts/1000g_eur/1000g/mashr/by_chr/gene_corrs-chr17.pkl'),\n",
       " PosixPath('/opt/data/results/gls/gene_corrs/cohorts/1000g_eur/1000g/mashr/by_chr/gene_corrs-chr18.pkl'),\n",
       " PosixPath('/opt/data/results/gls/gene_corrs/cohorts/1000g_eur/1000g/mashr/by_chr/gene_corrs-chr19.pkl'),\n",
       " PosixPath('/opt/data/results/gls/gene_corrs/cohorts/1000g_eur/1000g/mashr/by_chr/gene_corrs-chr20.pkl'),\n",
       " PosixPath('/opt/data/results/gls/gene_corrs/cohorts/1000g_eur/1000g/mashr/by_chr/gene_corrs-chr21.pkl'),\n",
       " PosixPath('/opt/data/results/gls/gene_corrs/cohorts/1000g_eur/1000g/mashr/by_chr/gene_corrs-chr22.pkl')]"
      ]
     },
     "execution_count": 13,
     "metadata": {},
     "output_type": "execute_result"
    }
   ],
   "source": [
    "all_gene_corr_files"
   ]
  },
  {
   "cell_type": "code",
   "execution_count": 14,
   "id": "6e48c284",
   "metadata": {
    "execution": {
     "iopub.execute_input": "2022-08-09T13:54:06.206693Z",
     "iopub.status.busy": "2022-08-09T13:54:06.206533Z",
     "iopub.status.idle": "2022-08-09T13:54:06.220025Z",
     "shell.execute_reply": "2022-08-09T13:54:06.219534Z"
    },
    "papermill": {
     "duration": 0.025172,
     "end_time": "2022-08-09T13:54:06.221321",
     "exception": false,
     "start_time": "2022-08-09T13:54:06.196149",
     "status": "completed"
    },
    "tags": []
   },
   "outputs": [],
   "source": [
    "assert len(all_gene_corr_files) == 22"
   ]
  },
  {
   "cell_type": "markdown",
   "id": "99d01a88-2f71-41eb-a423-a17378bbb174",
   "metadata": {
    "papermill": {
     "duration": 0.009827,
     "end_time": "2022-08-09T13:54:06.241259",
     "exception": false,
     "start_time": "2022-08-09T13:54:06.231432",
     "status": "completed"
    },
    "tags": []
   },
   "source": [
    "## Get common genes"
   ]
  },
  {
   "cell_type": "code",
   "execution_count": 15,
   "id": "6a5e95f0-eeab-4716-8982-b1dbbd8763d8",
   "metadata": {
    "execution": {
     "iopub.execute_input": "2022-08-09T13:54:06.261685Z",
     "iopub.status.busy": "2022-08-09T13:54:06.261466Z",
     "iopub.status.idle": "2022-08-09T13:54:06.292961Z",
     "shell.execute_reply": "2022-08-09T13:54:06.292429Z"
    },
    "papermill": {
     "duration": 0.043398,
     "end_time": "2022-08-09T13:54:06.294351",
     "exception": false,
     "start_time": "2022-08-09T13:54:06.250953",
     "status": "completed"
    },
    "tags": []
   },
   "outputs": [],
   "source": [
    "gene_ids = set()\n",
    "for f in all_gene_corr_files:\n",
    "    chr_genes = pd.read_pickle(f).index.tolist()\n",
    "    gene_ids.update(chr_genes)"
   ]
  },
  {
   "cell_type": "code",
   "execution_count": 16,
   "id": "81ca7c6e-69c4-48c4-b44f-ec9a2b8bb527",
   "metadata": {
    "execution": {
     "iopub.execute_input": "2022-08-09T13:54:06.315415Z",
     "iopub.status.busy": "2022-08-09T13:54:06.315249Z",
     "iopub.status.idle": "2022-08-09T13:54:06.330574Z",
     "shell.execute_reply": "2022-08-09T13:54:06.330026Z"
    },
    "papermill": {
     "duration": 0.027289,
     "end_time": "2022-08-09T13:54:06.331863",
     "exception": false,
     "start_time": "2022-08-09T13:54:06.304574",
     "status": "completed"
    },
    "tags": []
   },
   "outputs": [
    {
     "data": {
      "text/plain": [
       "6442"
      ]
     },
     "metadata": {},
     "output_type": "display_data"
    }
   ],
   "source": [
    "display(len(gene_ids))"
   ]
  },
  {
   "cell_type": "code",
   "execution_count": 17,
   "id": "5e8a7f17-c84b-4d71-bf0d-11116a66084e",
   "metadata": {
    "execution": {
     "iopub.execute_input": "2022-08-09T13:54:06.353251Z",
     "iopub.status.busy": "2022-08-09T13:54:06.353052Z",
     "iopub.status.idle": "2022-08-09T13:54:06.369038Z",
     "shell.execute_reply": "2022-08-09T13:54:06.368566Z"
    },
    "papermill": {
     "duration": 0.028153,
     "end_time": "2022-08-09T13:54:06.370315",
     "exception": false,
     "start_time": "2022-08-09T13:54:06.342162",
     "status": "completed"
    },
    "tags": []
   },
   "outputs": [
    {
     "data": {
      "text/plain": [
       "['ENSG00000000419',\n",
       " 'ENSG00000000938',\n",
       " 'ENSG00000000971',\n",
       " 'ENSG00000001084',\n",
       " 'ENSG00000001167']"
      ]
     },
     "execution_count": 17,
     "metadata": {},
     "output_type": "execute_result"
    }
   ],
   "source": [
    "sorted(list(gene_ids))[:5]"
   ]
  },
  {
   "cell_type": "markdown",
   "id": "afb94d22-07be-4b67-b448-1d15d787e882",
   "metadata": {
    "papermill": {
     "duration": 0.009724,
     "end_time": "2022-08-09T13:54:06.390123",
     "exception": false,
     "start_time": "2022-08-09T13:54:06.380399",
     "status": "completed"
    },
    "tags": []
   },
   "source": [
    "## Gene info"
   ]
  },
  {
   "cell_type": "code",
   "execution_count": 18,
   "id": "66346539-e969-46dd-997d-c1f404646caa",
   "metadata": {
    "execution": {
     "iopub.execute_input": "2022-08-09T13:54:06.410297Z",
     "iopub.status.busy": "2022-08-09T13:54:06.410093Z",
     "iopub.status.idle": "2022-08-09T13:54:06.426555Z",
     "shell.execute_reply": "2022-08-09T13:54:06.426041Z"
    },
    "papermill": {
     "duration": 0.028133,
     "end_time": "2022-08-09T13:54:06.427887",
     "exception": false,
     "start_time": "2022-08-09T13:54:06.399754",
     "status": "completed"
    },
    "tags": []
   },
   "outputs": [],
   "source": [
    "genes_info = pd.read_pickle(OUTPUT_DIR_BASE / \"genes_info.pkl\")"
   ]
  },
  {
   "cell_type": "code",
   "execution_count": 19,
   "id": "6cf6e7f6-5c5c-4ee5-a3d6-1fab3f88fd20",
   "metadata": {
    "execution": {
     "iopub.execute_input": "2022-08-09T13:54:06.448756Z",
     "iopub.status.busy": "2022-08-09T13:54:06.448594Z",
     "iopub.status.idle": "2022-08-09T13:54:06.463031Z",
     "shell.execute_reply": "2022-08-09T13:54:06.462554Z"
    },
    "papermill": {
     "duration": 0.026269,
     "end_time": "2022-08-09T13:54:06.464297",
     "exception": false,
     "start_time": "2022-08-09T13:54:06.438028",
     "status": "completed"
    },
    "tags": []
   },
   "outputs": [
    {
     "data": {
      "text/plain": [
       "(6442, 7)"
      ]
     },
     "execution_count": 19,
     "metadata": {},
     "output_type": "execute_result"
    }
   ],
   "source": [
    "genes_info.shape"
   ]
  },
  {
   "cell_type": "code",
   "execution_count": 20,
   "id": "c0c00e56-a168-4502-bad1-178fa736b055",
   "metadata": {
    "execution": {
     "iopub.execute_input": "2022-08-09T13:54:06.487052Z",
     "iopub.status.busy": "2022-08-09T13:54:06.486570Z",
     "iopub.status.idle": "2022-08-09T13:54:06.507196Z",
     "shell.execute_reply": "2022-08-09T13:54:06.506616Z"
    },
    "papermill": {
     "duration": 0.033345,
     "end_time": "2022-08-09T13:54:06.508475",
     "exception": false,
     "start_time": "2022-08-09T13:54:06.475130",
     "status": "completed"
    },
    "tags": []
   },
   "outputs": [
    {
     "data": {
      "text/html": [
       "<div>\n",
       "<style scoped>\n",
       "    .dataframe tbody tr th:only-of-type {\n",
       "        vertical-align: middle;\n",
       "    }\n",
       "\n",
       "    .dataframe tbody tr th {\n",
       "        vertical-align: top;\n",
       "    }\n",
       "\n",
       "    .dataframe thead th {\n",
       "        text-align: right;\n",
       "    }\n",
       "</style>\n",
       "<table border=\"1\" class=\"dataframe\">\n",
       "  <thead>\n",
       "    <tr style=\"text-align: right;\">\n",
       "      <th></th>\n",
       "      <th>name</th>\n",
       "      <th>id</th>\n",
       "      <th>chr</th>\n",
       "      <th>band</th>\n",
       "      <th>start_position</th>\n",
       "      <th>end_position</th>\n",
       "      <th>gene_length</th>\n",
       "    </tr>\n",
       "  </thead>\n",
       "  <tbody>\n",
       "    <tr>\n",
       "      <th>0</th>\n",
       "      <td>CTSF</td>\n",
       "      <td>ENSG00000174080</td>\n",
       "      <td>11</td>\n",
       "      <td>11q13.2</td>\n",
       "      <td>66563464</td>\n",
       "      <td>66568841</td>\n",
       "      <td>5377</td>\n",
       "    </tr>\n",
       "    <tr>\n",
       "      <th>1</th>\n",
       "      <td>GUCY2D</td>\n",
       "      <td>ENSG00000132518</td>\n",
       "      <td>17</td>\n",
       "      <td>17p13.1</td>\n",
       "      <td>8002594</td>\n",
       "      <td>8020339</td>\n",
       "      <td>17745</td>\n",
       "    </tr>\n",
       "    <tr>\n",
       "      <th>2</th>\n",
       "      <td>NDUFB8</td>\n",
       "      <td>ENSG00000166136</td>\n",
       "      <td>10</td>\n",
       "      <td>10q24.31</td>\n",
       "      <td>100523740</td>\n",
       "      <td>100530000</td>\n",
       "      <td>6260</td>\n",
       "    </tr>\n",
       "    <tr>\n",
       "      <th>3</th>\n",
       "      <td>KIF5B</td>\n",
       "      <td>ENSG00000170759</td>\n",
       "      <td>10</td>\n",
       "      <td>10p11.22</td>\n",
       "      <td>32009015</td>\n",
       "      <td>32056425</td>\n",
       "      <td>47410</td>\n",
       "    </tr>\n",
       "    <tr>\n",
       "      <th>4</th>\n",
       "      <td>SAE1</td>\n",
       "      <td>ENSG00000142230</td>\n",
       "      <td>19</td>\n",
       "      <td>19q13.32</td>\n",
       "      <td>47113274</td>\n",
       "      <td>47210636</td>\n",
       "      <td>97362</td>\n",
       "    </tr>\n",
       "  </tbody>\n",
       "</table>\n",
       "</div>"
      ],
      "text/plain": [
       "     name               id  chr      band  start_position  end_position  \\\n",
       "0    CTSF  ENSG00000174080   11   11q13.2        66563464      66568841   \n",
       "1  GUCY2D  ENSG00000132518   17   17p13.1         8002594       8020339   \n",
       "2  NDUFB8  ENSG00000166136   10  10q24.31       100523740     100530000   \n",
       "3   KIF5B  ENSG00000170759   10  10p11.22        32009015      32056425   \n",
       "4    SAE1  ENSG00000142230   19  19q13.32        47113274      47210636   \n",
       "\n",
       "   gene_length  \n",
       "0         5377  \n",
       "1        17745  \n",
       "2         6260  \n",
       "3        47410  \n",
       "4        97362  "
      ]
     },
     "execution_count": 20,
     "metadata": {},
     "output_type": "execute_result"
    }
   ],
   "source": [
    "genes_info.head()"
   ]
  },
  {
   "cell_type": "code",
   "execution_count": 21,
   "id": "c6f52a23-0e0c-4def-8ebe-714793743f4e",
   "metadata": {
    "execution": {
     "iopub.execute_input": "2022-08-09T13:54:06.530716Z",
     "iopub.status.busy": "2022-08-09T13:54:06.530524Z",
     "iopub.status.idle": "2022-08-09T13:54:06.546618Z",
     "shell.execute_reply": "2022-08-09T13:54:06.546056Z"
    },
    "papermill": {
     "duration": 0.028552,
     "end_time": "2022-08-09T13:54:06.547986",
     "exception": false,
     "start_time": "2022-08-09T13:54:06.519434",
     "status": "completed"
    },
    "tags": []
   },
   "outputs": [],
   "source": [
    "# keep genes in correlation matrices only\n",
    "genes_info = genes_info[genes_info[\"id\"].isin(gene_ids)]"
   ]
  },
  {
   "cell_type": "code",
   "execution_count": 22,
   "id": "19cde9f2-0cad-4b4e-a409-0cff052cc77c",
   "metadata": {
    "execution": {
     "iopub.execute_input": "2022-08-09T13:54:06.569662Z",
     "iopub.status.busy": "2022-08-09T13:54:06.569493Z",
     "iopub.status.idle": "2022-08-09T13:54:06.586129Z",
     "shell.execute_reply": "2022-08-09T13:54:06.585626Z"
    },
    "papermill": {
     "duration": 0.030005,
     "end_time": "2022-08-09T13:54:06.588519",
     "exception": false,
     "start_time": "2022-08-09T13:54:06.558514",
     "status": "completed"
    },
    "tags": []
   },
   "outputs": [
    {
     "data": {
      "text/plain": [
       "(6442, 7)"
      ]
     },
     "execution_count": 22,
     "metadata": {},
     "output_type": "execute_result"
    }
   ],
   "source": [
    "genes_info.shape"
   ]
  },
  {
   "cell_type": "code",
   "execution_count": 23,
   "id": "f9e52a95-4c6e-4ce6-ae1d-df635d5dbe47",
   "metadata": {
    "execution": {
     "iopub.execute_input": "2022-08-09T13:54:06.616011Z",
     "iopub.status.busy": "2022-08-09T13:54:06.615821Z",
     "iopub.status.idle": "2022-08-09T13:54:06.632774Z",
     "shell.execute_reply": "2022-08-09T13:54:06.632215Z"
    },
    "papermill": {
     "duration": 0.031928,
     "end_time": "2022-08-09T13:54:06.634308",
     "exception": false,
     "start_time": "2022-08-09T13:54:06.602380",
     "status": "completed"
    },
    "tags": []
   },
   "outputs": [],
   "source": [
    "assert not genes_info.isna().any(None)"
   ]
  },
  {
   "cell_type": "code",
   "execution_count": 24,
   "id": "90028a9b-781e-46c7-97b8-9e1676e682d4",
   "metadata": {
    "execution": {
     "iopub.execute_input": "2022-08-09T13:54:06.658487Z",
     "iopub.status.busy": "2022-08-09T13:54:06.658322Z",
     "iopub.status.idle": "2022-08-09T13:54:06.673995Z",
     "shell.execute_reply": "2022-08-09T13:54:06.673514Z"
    },
    "papermill": {
     "duration": 0.029076,
     "end_time": "2022-08-09T13:54:06.675240",
     "exception": false,
     "start_time": "2022-08-09T13:54:06.646164",
     "status": "completed"
    },
    "tags": []
   },
   "outputs": [
    {
     "data": {
      "text/plain": [
       "name              object\n",
       "id                object\n",
       "chr                int64\n",
       "band              object\n",
       "start_position     int64\n",
       "end_position       int64\n",
       "gene_length        int64\n",
       "dtype: object"
      ]
     },
     "execution_count": 24,
     "metadata": {},
     "output_type": "execute_result"
    }
   ],
   "source": [
    "genes_info.dtypes"
   ]
  },
  {
   "cell_type": "code",
   "execution_count": 25,
   "id": "adb6d5ce-d010-41f8-bb63-7b5f66bf2c51",
   "metadata": {
    "execution": {
     "iopub.execute_input": "2022-08-09T13:54:06.698348Z",
     "iopub.status.busy": "2022-08-09T13:54:06.698179Z",
     "iopub.status.idle": "2022-08-09T13:54:06.717392Z",
     "shell.execute_reply": "2022-08-09T13:54:06.716892Z"
    },
    "papermill": {
     "duration": 0.032255,
     "end_time": "2022-08-09T13:54:06.718718",
     "exception": false,
     "start_time": "2022-08-09T13:54:06.686463",
     "status": "completed"
    },
    "tags": []
   },
   "outputs": [
    {
     "data": {
      "text/html": [
       "<div>\n",
       "<style scoped>\n",
       "    .dataframe tbody tr th:only-of-type {\n",
       "        vertical-align: middle;\n",
       "    }\n",
       "\n",
       "    .dataframe tbody tr th {\n",
       "        vertical-align: top;\n",
       "    }\n",
       "\n",
       "    .dataframe thead th {\n",
       "        text-align: right;\n",
       "    }\n",
       "</style>\n",
       "<table border=\"1\" class=\"dataframe\">\n",
       "  <thead>\n",
       "    <tr style=\"text-align: right;\">\n",
       "      <th></th>\n",
       "      <th>name</th>\n",
       "      <th>id</th>\n",
       "      <th>chr</th>\n",
       "      <th>band</th>\n",
       "      <th>start_position</th>\n",
       "      <th>end_position</th>\n",
       "      <th>gene_length</th>\n",
       "    </tr>\n",
       "  </thead>\n",
       "  <tbody>\n",
       "    <tr>\n",
       "      <th>0</th>\n",
       "      <td>CTSF</td>\n",
       "      <td>ENSG00000174080</td>\n",
       "      <td>11</td>\n",
       "      <td>11q13.2</td>\n",
       "      <td>66563464</td>\n",
       "      <td>66568841</td>\n",
       "      <td>5377</td>\n",
       "    </tr>\n",
       "    <tr>\n",
       "      <th>1</th>\n",
       "      <td>GUCY2D</td>\n",
       "      <td>ENSG00000132518</td>\n",
       "      <td>17</td>\n",
       "      <td>17p13.1</td>\n",
       "      <td>8002594</td>\n",
       "      <td>8020339</td>\n",
       "      <td>17745</td>\n",
       "    </tr>\n",
       "    <tr>\n",
       "      <th>2</th>\n",
       "      <td>NDUFB8</td>\n",
       "      <td>ENSG00000166136</td>\n",
       "      <td>10</td>\n",
       "      <td>10q24.31</td>\n",
       "      <td>100523740</td>\n",
       "      <td>100530000</td>\n",
       "      <td>6260</td>\n",
       "    </tr>\n",
       "    <tr>\n",
       "      <th>3</th>\n",
       "      <td>KIF5B</td>\n",
       "      <td>ENSG00000170759</td>\n",
       "      <td>10</td>\n",
       "      <td>10p11.22</td>\n",
       "      <td>32009015</td>\n",
       "      <td>32056425</td>\n",
       "      <td>47410</td>\n",
       "    </tr>\n",
       "    <tr>\n",
       "      <th>4</th>\n",
       "      <td>SAE1</td>\n",
       "      <td>ENSG00000142230</td>\n",
       "      <td>19</td>\n",
       "      <td>19q13.32</td>\n",
       "      <td>47113274</td>\n",
       "      <td>47210636</td>\n",
       "      <td>97362</td>\n",
       "    </tr>\n",
       "  </tbody>\n",
       "</table>\n",
       "</div>"
      ],
      "text/plain": [
       "     name               id  chr      band  start_position  end_position  \\\n",
       "0    CTSF  ENSG00000174080   11   11q13.2        66563464      66568841   \n",
       "1  GUCY2D  ENSG00000132518   17   17p13.1         8002594       8020339   \n",
       "2  NDUFB8  ENSG00000166136   10  10q24.31       100523740     100530000   \n",
       "3   KIF5B  ENSG00000170759   10  10p11.22        32009015      32056425   \n",
       "4    SAE1  ENSG00000142230   19  19q13.32        47113274      47210636   \n",
       "\n",
       "   gene_length  \n",
       "0         5377  \n",
       "1        17745  \n",
       "2         6260  \n",
       "3        47410  \n",
       "4        97362  "
      ]
     },
     "execution_count": 25,
     "metadata": {},
     "output_type": "execute_result"
    }
   ],
   "source": [
    "genes_info.head()"
   ]
  },
  {
   "cell_type": "markdown",
   "id": "f4d4f177",
   "metadata": {
    "papermill": {
     "duration": 0.010745,
     "end_time": "2022-08-09T13:54:06.740878",
     "exception": false,
     "start_time": "2022-08-09T13:54:06.730133",
     "status": "completed"
    },
    "tags": []
   },
   "source": [
    "# Create full correlation matrix"
   ]
  },
  {
   "cell_type": "code",
   "execution_count": 26,
   "id": "fad655cb-e830-496d-8ae1-bd9088623515",
   "metadata": {
    "execution": {
     "iopub.execute_input": "2022-08-09T13:54:06.762453Z",
     "iopub.status.busy": "2022-08-09T13:54:06.762249Z",
     "iopub.status.idle": "2022-08-09T13:54:06.779623Z",
     "shell.execute_reply": "2022-08-09T13:54:06.779168Z"
    },
    "papermill": {
     "duration": 0.029858,
     "end_time": "2022-08-09T13:54:06.780954",
     "exception": false,
     "start_time": "2022-08-09T13:54:06.751096",
     "status": "completed"
    },
    "tags": []
   },
   "outputs": [],
   "source": [
    "genes_info = genes_info.sort_values([\"chr\", \"start_position\"])"
   ]
  },
  {
   "cell_type": "code",
   "execution_count": 27,
   "id": "3d93727c-e045-434b-99ec-2bfc661003f4",
   "metadata": {
    "execution": {
     "iopub.execute_input": "2022-08-09T13:54:06.803213Z",
     "iopub.status.busy": "2022-08-09T13:54:06.803049Z",
     "iopub.status.idle": "2022-08-09T13:54:06.824915Z",
     "shell.execute_reply": "2022-08-09T13:54:06.824211Z"
    },
    "papermill": {
     "duration": 0.034403,
     "end_time": "2022-08-09T13:54:06.826120",
     "exception": false,
     "start_time": "2022-08-09T13:54:06.791717",
     "status": "completed"
    },
    "tags": []
   },
   "outputs": [
    {
     "data": {
      "text/html": [
       "<div>\n",
       "<style scoped>\n",
       "    .dataframe tbody tr th:only-of-type {\n",
       "        vertical-align: middle;\n",
       "    }\n",
       "\n",
       "    .dataframe tbody tr th {\n",
       "        vertical-align: top;\n",
       "    }\n",
       "\n",
       "    .dataframe thead th {\n",
       "        text-align: right;\n",
       "    }\n",
       "</style>\n",
       "<table border=\"1\" class=\"dataframe\">\n",
       "  <thead>\n",
       "    <tr style=\"text-align: right;\">\n",
       "      <th></th>\n",
       "      <th>name</th>\n",
       "      <th>id</th>\n",
       "      <th>chr</th>\n",
       "      <th>band</th>\n",
       "      <th>start_position</th>\n",
       "      <th>end_position</th>\n",
       "      <th>gene_length</th>\n",
       "    </tr>\n",
       "  </thead>\n",
       "  <tbody>\n",
       "    <tr>\n",
       "      <th>4516</th>\n",
       "      <td>NOC2L</td>\n",
       "      <td>ENSG00000188976</td>\n",
       "      <td>1</td>\n",
       "      <td>1p36.33</td>\n",
       "      <td>944203</td>\n",
       "      <td>959309</td>\n",
       "      <td>15106</td>\n",
       "    </tr>\n",
       "    <tr>\n",
       "      <th>4150</th>\n",
       "      <td>HES4</td>\n",
       "      <td>ENSG00000188290</td>\n",
       "      <td>1</td>\n",
       "      <td>1p36.33</td>\n",
       "      <td>998962</td>\n",
       "      <td>1000172</td>\n",
       "      <td>1210</td>\n",
       "    </tr>\n",
       "    <tr>\n",
       "      <th>683</th>\n",
       "      <td>ISG15</td>\n",
       "      <td>ENSG00000187608</td>\n",
       "      <td>1</td>\n",
       "      <td>1p36.33</td>\n",
       "      <td>1001138</td>\n",
       "      <td>1014540</td>\n",
       "      <td>13402</td>\n",
       "    </tr>\n",
       "    <tr>\n",
       "      <th>4202</th>\n",
       "      <td>AGRN</td>\n",
       "      <td>ENSG00000188157</td>\n",
       "      <td>1</td>\n",
       "      <td>1p36.33</td>\n",
       "      <td>1020120</td>\n",
       "      <td>1056118</td>\n",
       "      <td>35998</td>\n",
       "    </tr>\n",
       "    <tr>\n",
       "      <th>121</th>\n",
       "      <td>TNFRSF18</td>\n",
       "      <td>ENSG00000186891</td>\n",
       "      <td>1</td>\n",
       "      <td>1p36.33</td>\n",
       "      <td>1203508</td>\n",
       "      <td>1206592</td>\n",
       "      <td>3084</td>\n",
       "    </tr>\n",
       "    <tr>\n",
       "      <th>...</th>\n",
       "      <td>...</td>\n",
       "      <td>...</td>\n",
       "      <td>...</td>\n",
       "      <td>...</td>\n",
       "      <td>...</td>\n",
       "      <td>...</td>\n",
       "      <td>...</td>\n",
       "    </tr>\n",
       "    <tr>\n",
       "      <th>1850</th>\n",
       "      <td>CPT1B</td>\n",
       "      <td>ENSG00000205560</td>\n",
       "      <td>22</td>\n",
       "      <td>22q13.33</td>\n",
       "      <td>50568861</td>\n",
       "      <td>50578465</td>\n",
       "      <td>9604</td>\n",
       "    </tr>\n",
       "    <tr>\n",
       "      <th>845</th>\n",
       "      <td>CHKB</td>\n",
       "      <td>ENSG00000100288</td>\n",
       "      <td>22</td>\n",
       "      <td>22q13.33</td>\n",
       "      <td>50578949</td>\n",
       "      <td>50601455</td>\n",
       "      <td>22506</td>\n",
       "    </tr>\n",
       "    <tr>\n",
       "      <th>4795</th>\n",
       "      <td>MAPK8IP2</td>\n",
       "      <td>ENSG00000008735</td>\n",
       "      <td>22</td>\n",
       "      <td>22q13.33</td>\n",
       "      <td>50600793</td>\n",
       "      <td>50613981</td>\n",
       "      <td>13188</td>\n",
       "    </tr>\n",
       "    <tr>\n",
       "      <th>4239</th>\n",
       "      <td>ARSA</td>\n",
       "      <td>ENSG00000100299</td>\n",
       "      <td>22</td>\n",
       "      <td>22q13.33</td>\n",
       "      <td>50622754</td>\n",
       "      <td>50628173</td>\n",
       "      <td>5419</td>\n",
       "    </tr>\n",
       "    <tr>\n",
       "      <th>3318</th>\n",
       "      <td>SHANK3</td>\n",
       "      <td>ENSG00000251322</td>\n",
       "      <td>22</td>\n",
       "      <td>22q13.33</td>\n",
       "      <td>50674415</td>\n",
       "      <td>50733298</td>\n",
       "      <td>58883</td>\n",
       "    </tr>\n",
       "  </tbody>\n",
       "</table>\n",
       "<p>6442 rows × 7 columns</p>\n",
       "</div>"
      ],
      "text/plain": [
       "          name               id  chr      band  start_position  end_position  \\\n",
       "4516     NOC2L  ENSG00000188976    1   1p36.33          944203        959309   \n",
       "4150      HES4  ENSG00000188290    1   1p36.33          998962       1000172   \n",
       "683      ISG15  ENSG00000187608    1   1p36.33         1001138       1014540   \n",
       "4202      AGRN  ENSG00000188157    1   1p36.33         1020120       1056118   \n",
       "121   TNFRSF18  ENSG00000186891    1   1p36.33         1203508       1206592   \n",
       "...        ...              ...  ...       ...             ...           ...   \n",
       "1850     CPT1B  ENSG00000205560   22  22q13.33        50568861      50578465   \n",
       "845       CHKB  ENSG00000100288   22  22q13.33        50578949      50601455   \n",
       "4795  MAPK8IP2  ENSG00000008735   22  22q13.33        50600793      50613981   \n",
       "4239      ARSA  ENSG00000100299   22  22q13.33        50622754      50628173   \n",
       "3318    SHANK3  ENSG00000251322   22  22q13.33        50674415      50733298   \n",
       "\n",
       "      gene_length  \n",
       "4516        15106  \n",
       "4150         1210  \n",
       "683         13402  \n",
       "4202        35998  \n",
       "121          3084  \n",
       "...           ...  \n",
       "1850         9604  \n",
       "845         22506  \n",
       "4795        13188  \n",
       "4239         5419  \n",
       "3318        58883  \n",
       "\n",
       "[6442 rows x 7 columns]"
      ]
     },
     "execution_count": 27,
     "metadata": {},
     "output_type": "execute_result"
    }
   ],
   "source": [
    "genes_info"
   ]
  },
  {
   "cell_type": "code",
   "execution_count": 28,
   "id": "1277c7cb-6850-476f-932e-0d166362392c",
   "metadata": {
    "execution": {
     "iopub.execute_input": "2022-08-09T13:54:06.848510Z",
     "iopub.status.busy": "2022-08-09T13:54:06.848308Z",
     "iopub.status.idle": "2022-08-09T13:54:06.864535Z",
     "shell.execute_reply": "2022-08-09T13:54:06.863955Z"
    },
    "papermill": {
     "duration": 0.028678,
     "end_time": "2022-08-09T13:54:06.865823",
     "exception": false,
     "start_time": "2022-08-09T13:54:06.837145",
     "status": "completed"
    },
    "tags": []
   },
   "outputs": [],
   "source": [
    "full_corr_matrix = pd.DataFrame(\n",
    "    np.zeros((genes_info.shape[0], genes_info.shape[0])),\n",
    "    index=genes_info[\"id\"].tolist(),\n",
    "    columns=genes_info[\"id\"].tolist(),\n",
    ")"
   ]
  },
  {
   "cell_type": "code",
   "execution_count": 29,
   "id": "5aa375f4-775a-4dab-80c9-a68a52c69adc",
   "metadata": {
    "execution": {
     "iopub.execute_input": "2022-08-09T13:54:06.888675Z",
     "iopub.status.busy": "2022-08-09T13:54:06.887980Z",
     "iopub.status.idle": "2022-08-09T13:54:06.903426Z",
     "shell.execute_reply": "2022-08-09T13:54:06.902898Z"
    },
    "papermill": {
     "duration": 0.027876,
     "end_time": "2022-08-09T13:54:06.904712",
     "exception": false,
     "start_time": "2022-08-09T13:54:06.876836",
     "status": "completed"
    },
    "tags": []
   },
   "outputs": [],
   "source": [
    "assert full_corr_matrix.index.is_unique & full_corr_matrix.columns.is_unique"
   ]
  },
  {
   "cell_type": "code",
   "execution_count": 30,
   "id": "0afc4716-f607-4634-8a02-5f116fd2c318",
   "metadata": {
    "execution": {
     "iopub.execute_input": "2022-08-09T13:54:06.927455Z",
     "iopub.status.busy": "2022-08-09T13:54:06.927252Z",
     "iopub.status.idle": "2022-08-09T13:54:07.046506Z",
     "shell.execute_reply": "2022-08-09T13:54:07.046060Z"
    },
    "papermill": {
     "duration": 0.132081,
     "end_time": "2022-08-09T13:54:07.047964",
     "exception": false,
     "start_time": "2022-08-09T13:54:06.915883",
     "status": "completed"
    },
    "tags": []
   },
   "outputs": [
    {
     "name": "stdout",
     "output_type": "stream",
     "text": [
      "gene_corrs-chr1.pkl\n",
      "gene_corrs-chr2.pkl\n",
      "gene_corrs-chr3.pkl\n",
      "gene_corrs-chr4.pkl\n",
      "gene_corrs-chr5.pkl\n",
      "gene_corrs-chr6.pkl\n",
      "gene_corrs-chr7.pkl\n",
      "gene_corrs-chr8.pkl\n",
      "gene_corrs-chr9.pkl\n",
      "gene_corrs-chr10.pkl\n",
      "gene_corrs-chr11.pkl\n",
      "gene_corrs-chr12.pkl\n",
      "gene_corrs-chr13.pkl\n",
      "gene_corrs-chr14.pkl\n",
      "gene_corrs-chr15.pkl\n",
      "gene_corrs-chr16.pkl\n",
      "gene_corrs-chr17.pkl\n",
      "gene_corrs-chr18.pkl\n",
      "gene_corrs-chr19.pkl\n",
      "gene_corrs-chr20.pkl\n",
      "gene_corrs-chr21.pkl\n",
      "gene_corrs-chr22.pkl\n"
     ]
    }
   ],
   "source": [
    "for chr_corr_file in all_gene_corr_files:\n",
    "    print(chr_corr_file.name, flush=True)\n",
    "\n",
    "    corr_data = pd.read_pickle(chr_corr_file)\n",
    "    full_corr_matrix.loc[corr_data.index, corr_data.columns] = corr_data"
   ]
  },
  {
   "cell_type": "code",
   "execution_count": 31,
   "id": "a6be3bf7-d1c1-4f90-b074-a6e74d9285a5",
   "metadata": {
    "execution": {
     "iopub.execute_input": "2022-08-09T13:54:07.074883Z",
     "iopub.status.busy": "2022-08-09T13:54:07.074722Z",
     "iopub.status.idle": "2022-08-09T13:54:07.089326Z",
     "shell.execute_reply": "2022-08-09T13:54:07.088848Z"
    },
    "papermill": {
     "duration": 0.029196,
     "end_time": "2022-08-09T13:54:07.090567",
     "exception": false,
     "start_time": "2022-08-09T13:54:07.061371",
     "status": "completed"
    },
    "tags": []
   },
   "outputs": [
    {
     "data": {
      "text/plain": [
       "(6442, 6442)"
      ]
     },
     "execution_count": 31,
     "metadata": {},
     "output_type": "execute_result"
    }
   ],
   "source": [
    "full_corr_matrix.shape"
   ]
  },
  {
   "cell_type": "code",
   "execution_count": 32,
   "id": "aac21a65-87b3-4b87-b17a-cbe3692c88a9",
   "metadata": {
    "execution": {
     "iopub.execute_input": "2022-08-09T13:54:07.115684Z",
     "iopub.status.busy": "2022-08-09T13:54:07.115139Z",
     "iopub.status.idle": "2022-08-09T13:54:07.142185Z",
     "shell.execute_reply": "2022-08-09T13:54:07.141669Z"
    },
    "papermill": {
     "duration": 0.040354,
     "end_time": "2022-08-09T13:54:07.143389",
     "exception": false,
     "start_time": "2022-08-09T13:54:07.103035",
     "status": "completed"
    },
    "tags": []
   },
   "outputs": [
    {
     "data": {
      "text/html": [
       "<div>\n",
       "<style scoped>\n",
       "    .dataframe tbody tr th:only-of-type {\n",
       "        vertical-align: middle;\n",
       "    }\n",
       "\n",
       "    .dataframe tbody tr th {\n",
       "        vertical-align: top;\n",
       "    }\n",
       "\n",
       "    .dataframe thead th {\n",
       "        text-align: right;\n",
       "    }\n",
       "</style>\n",
       "<table border=\"1\" class=\"dataframe\">\n",
       "  <thead>\n",
       "    <tr style=\"text-align: right;\">\n",
       "      <th></th>\n",
       "      <th>ENSG00000188976</th>\n",
       "      <th>ENSG00000188290</th>\n",
       "      <th>ENSG00000187608</th>\n",
       "      <th>ENSG00000188157</th>\n",
       "      <th>ENSG00000186891</th>\n",
       "      <th>ENSG00000186827</th>\n",
       "      <th>ENSG00000176022</th>\n",
       "      <th>ENSG00000160087</th>\n",
       "      <th>ENSG00000131584</th>\n",
       "      <th>ENSG00000169962</th>\n",
       "      <th>...</th>\n",
       "      <th>ENSG00000196576</th>\n",
       "      <th>ENSG00000128165</th>\n",
       "      <th>ENSG00000100253</th>\n",
       "      <th>ENSG00000130489</th>\n",
       "      <th>ENSG00000025708</th>\n",
       "      <th>ENSG00000205560</th>\n",
       "      <th>ENSG00000100288</th>\n",
       "      <th>ENSG00000008735</th>\n",
       "      <th>ENSG00000100299</th>\n",
       "      <th>ENSG00000251322</th>\n",
       "    </tr>\n",
       "  </thead>\n",
       "  <tbody>\n",
       "    <tr>\n",
       "      <th>ENSG00000188976</th>\n",
       "      <td>1.000000</td>\n",
       "      <td>0.115011</td>\n",
       "      <td>0.173138</td>\n",
       "      <td>0.056096</td>\n",
       "      <td>0.008032</td>\n",
       "      <td>0.008727</td>\n",
       "      <td>0.006797</td>\n",
       "      <td>0.004533</td>\n",
       "      <td>0.007350</td>\n",
       "      <td>0.010391</td>\n",
       "      <td>...</td>\n",
       "      <td>0.0</td>\n",
       "      <td>0.0</td>\n",
       "      <td>0.0</td>\n",
       "      <td>0.0</td>\n",
       "      <td>0.0</td>\n",
       "      <td>0.0</td>\n",
       "      <td>0.0</td>\n",
       "      <td>0.0</td>\n",
       "      <td>0.0</td>\n",
       "      <td>0.0</td>\n",
       "    </tr>\n",
       "    <tr>\n",
       "      <th>ENSG00000188290</th>\n",
       "      <td>0.115011</td>\n",
       "      <td>1.000000</td>\n",
       "      <td>0.681368</td>\n",
       "      <td>0.360588</td>\n",
       "      <td>0.011545</td>\n",
       "      <td>0.010729</td>\n",
       "      <td>0.003577</td>\n",
       "      <td>0.010230</td>\n",
       "      <td>0.010747</td>\n",
       "      <td>0.008769</td>\n",
       "      <td>...</td>\n",
       "      <td>0.0</td>\n",
       "      <td>0.0</td>\n",
       "      <td>0.0</td>\n",
       "      <td>0.0</td>\n",
       "      <td>0.0</td>\n",
       "      <td>0.0</td>\n",
       "      <td>0.0</td>\n",
       "      <td>0.0</td>\n",
       "      <td>0.0</td>\n",
       "      <td>0.0</td>\n",
       "    </tr>\n",
       "    <tr>\n",
       "      <th>ENSG00000187608</th>\n",
       "      <td>0.173138</td>\n",
       "      <td>0.681368</td>\n",
       "      <td>1.000000</td>\n",
       "      <td>0.381394</td>\n",
       "      <td>0.011774</td>\n",
       "      <td>0.012527</td>\n",
       "      <td>0.003754</td>\n",
       "      <td>0.012096</td>\n",
       "      <td>0.012679</td>\n",
       "      <td>0.010442</td>\n",
       "      <td>...</td>\n",
       "      <td>0.0</td>\n",
       "      <td>0.0</td>\n",
       "      <td>0.0</td>\n",
       "      <td>0.0</td>\n",
       "      <td>0.0</td>\n",
       "      <td>0.0</td>\n",
       "      <td>0.0</td>\n",
       "      <td>0.0</td>\n",
       "      <td>0.0</td>\n",
       "      <td>0.0</td>\n",
       "    </tr>\n",
       "    <tr>\n",
       "      <th>ENSG00000188157</th>\n",
       "      <td>0.056096</td>\n",
       "      <td>0.360588</td>\n",
       "      <td>0.381394</td>\n",
       "      <td>1.000000</td>\n",
       "      <td>0.013005</td>\n",
       "      <td>0.015775</td>\n",
       "      <td>0.006184</td>\n",
       "      <td>0.006813</td>\n",
       "      <td>0.010775</td>\n",
       "      <td>0.009189</td>\n",
       "      <td>...</td>\n",
       "      <td>0.0</td>\n",
       "      <td>0.0</td>\n",
       "      <td>0.0</td>\n",
       "      <td>0.0</td>\n",
       "      <td>0.0</td>\n",
       "      <td>0.0</td>\n",
       "      <td>0.0</td>\n",
       "      <td>0.0</td>\n",
       "      <td>0.0</td>\n",
       "      <td>0.0</td>\n",
       "    </tr>\n",
       "    <tr>\n",
       "      <th>ENSG00000186891</th>\n",
       "      <td>0.008032</td>\n",
       "      <td>0.011545</td>\n",
       "      <td>0.011774</td>\n",
       "      <td>0.013005</td>\n",
       "      <td>1.000000</td>\n",
       "      <td>0.356676</td>\n",
       "      <td>0.454010</td>\n",
       "      <td>0.137643</td>\n",
       "      <td>0.200340</td>\n",
       "      <td>0.093210</td>\n",
       "      <td>...</td>\n",
       "      <td>0.0</td>\n",
       "      <td>0.0</td>\n",
       "      <td>0.0</td>\n",
       "      <td>0.0</td>\n",
       "      <td>0.0</td>\n",
       "      <td>0.0</td>\n",
       "      <td>0.0</td>\n",
       "      <td>0.0</td>\n",
       "      <td>0.0</td>\n",
       "      <td>0.0</td>\n",
       "    </tr>\n",
       "  </tbody>\n",
       "</table>\n",
       "<p>5 rows × 6442 columns</p>\n",
       "</div>"
      ],
      "text/plain": [
       "                 ENSG00000188976  ENSG00000188290  ENSG00000187608  \\\n",
       "ENSG00000188976         1.000000         0.115011         0.173138   \n",
       "ENSG00000188290         0.115011         1.000000         0.681368   \n",
       "ENSG00000187608         0.173138         0.681368         1.000000   \n",
       "ENSG00000188157         0.056096         0.360588         0.381394   \n",
       "ENSG00000186891         0.008032         0.011545         0.011774   \n",
       "\n",
       "                 ENSG00000188157  ENSG00000186891  ENSG00000186827  \\\n",
       "ENSG00000188976         0.056096         0.008032         0.008727   \n",
       "ENSG00000188290         0.360588         0.011545         0.010729   \n",
       "ENSG00000187608         0.381394         0.011774         0.012527   \n",
       "ENSG00000188157         1.000000         0.013005         0.015775   \n",
       "ENSG00000186891         0.013005         1.000000         0.356676   \n",
       "\n",
       "                 ENSG00000176022  ENSG00000160087  ENSG00000131584  \\\n",
       "ENSG00000188976         0.006797         0.004533         0.007350   \n",
       "ENSG00000188290         0.003577         0.010230         0.010747   \n",
       "ENSG00000187608         0.003754         0.012096         0.012679   \n",
       "ENSG00000188157         0.006184         0.006813         0.010775   \n",
       "ENSG00000186891         0.454010         0.137643         0.200340   \n",
       "\n",
       "                 ENSG00000169962  ...  ENSG00000196576  ENSG00000128165  \\\n",
       "ENSG00000188976         0.010391  ...              0.0              0.0   \n",
       "ENSG00000188290         0.008769  ...              0.0              0.0   \n",
       "ENSG00000187608         0.010442  ...              0.0              0.0   \n",
       "ENSG00000188157         0.009189  ...              0.0              0.0   \n",
       "ENSG00000186891         0.093210  ...              0.0              0.0   \n",
       "\n",
       "                 ENSG00000100253  ENSG00000130489  ENSG00000025708  \\\n",
       "ENSG00000188976              0.0              0.0              0.0   \n",
       "ENSG00000188290              0.0              0.0              0.0   \n",
       "ENSG00000187608              0.0              0.0              0.0   \n",
       "ENSG00000188157              0.0              0.0              0.0   \n",
       "ENSG00000186891              0.0              0.0              0.0   \n",
       "\n",
       "                 ENSG00000205560  ENSG00000100288  ENSG00000008735  \\\n",
       "ENSG00000188976              0.0              0.0              0.0   \n",
       "ENSG00000188290              0.0              0.0              0.0   \n",
       "ENSG00000187608              0.0              0.0              0.0   \n",
       "ENSG00000188157              0.0              0.0              0.0   \n",
       "ENSG00000186891              0.0              0.0              0.0   \n",
       "\n",
       "                 ENSG00000100299  ENSG00000251322  \n",
       "ENSG00000188976              0.0              0.0  \n",
       "ENSG00000188290              0.0              0.0  \n",
       "ENSG00000187608              0.0              0.0  \n",
       "ENSG00000188157              0.0              0.0  \n",
       "ENSG00000186891              0.0              0.0  \n",
       "\n",
       "[5 rows x 6442 columns]"
      ]
     },
     "execution_count": 32,
     "metadata": {},
     "output_type": "execute_result"
    }
   ],
   "source": [
    "full_corr_matrix.head()"
   ]
  },
  {
   "cell_type": "code",
   "execution_count": 33,
   "id": "0d43f268-ad27-4117-b43b-df581deedae5",
   "metadata": {
    "execution": {
     "iopub.execute_input": "2022-08-09T13:54:07.168629Z",
     "iopub.status.busy": "2022-08-09T13:54:07.168134Z",
     "iopub.status.idle": "2022-08-09T13:54:07.183093Z",
     "shell.execute_reply": "2022-08-09T13:54:07.182602Z"
    },
    "papermill": {
     "duration": 0.028771,
     "end_time": "2022-08-09T13:54:07.184331",
     "exception": false,
     "start_time": "2022-08-09T13:54:07.155560",
     "status": "completed"
    },
    "tags": []
   },
   "outputs": [
    {
     "data": {
      "text/plain": [
       "True"
      ]
     },
     "execution_count": 33,
     "metadata": {},
     "output_type": "execute_result"
    }
   ],
   "source": [
    "np.all(full_corr_matrix.to_numpy().diagonal() == 1.0)"
   ]
  },
  {
   "cell_type": "markdown",
   "id": "1169db4b-9af2-4d3c-a27a-198d7730fa67",
   "metadata": {
    "papermill": {
     "duration": 0.011555,
     "end_time": "2022-08-09T13:54:07.207995",
     "exception": false,
     "start_time": "2022-08-09T13:54:07.196440",
     "status": "completed"
    },
    "tags": []
   },
   "source": [
    "## Some checks"
   ]
  },
  {
   "cell_type": "code",
   "execution_count": 34,
   "id": "776749ae-cf4d-46d8-9fae-49ea728f9002",
   "metadata": {
    "execution": {
     "iopub.execute_input": "2022-08-09T13:54:07.232136Z",
     "iopub.status.busy": "2022-08-09T13:54:07.231929Z",
     "iopub.status.idle": "2022-08-09T13:54:07.353264Z",
     "shell.execute_reply": "2022-08-09T13:54:07.352688Z"
    },
    "papermill": {
     "duration": 0.13521,
     "end_time": "2022-08-09T13:54:07.354773",
     "exception": false,
     "start_time": "2022-08-09T13:54:07.219563",
     "status": "completed"
    },
    "tags": []
   },
   "outputs": [],
   "source": [
    "assert not full_corr_matrix.isna().any(None)\n",
    "assert not np.isinf(full_corr_matrix.to_numpy()).any()\n",
    "assert not np.iscomplex(full_corr_matrix.to_numpy()).any()"
   ]
  },
  {
   "cell_type": "code",
   "execution_count": 35,
   "id": "31b4e109-a020-4667-9326-c63e6d80a33e",
   "metadata": {
    "execution": {
     "iopub.execute_input": "2022-08-09T13:54:07.379296Z",
     "iopub.status.busy": "2022-08-09T13:54:07.379108Z",
     "iopub.status.idle": "2022-08-09T13:54:07.541793Z",
     "shell.execute_reply": "2022-08-09T13:54:07.541156Z"
    },
    "papermill": {
     "duration": 0.17638,
     "end_time": "2022-08-09T13:54:07.543032",
     "exception": false,
     "start_time": "2022-08-09T13:54:07.366652",
     "status": "completed"
    },
    "tags": []
   },
   "outputs": [
    {
     "data": {
      "text/plain": [
       "0.0"
      ]
     },
     "metadata": {},
     "output_type": "display_data"
    }
   ],
   "source": [
    "_min_val = full_corr_matrix.min().min()\n",
    "display(_min_val)\n",
    "assert _min_val >= 0.0"
   ]
  },
  {
   "cell_type": "code",
   "execution_count": 36,
   "id": "df674d11-939a-4704-a718-f246527a1880",
   "metadata": {
    "execution": {
     "iopub.execute_input": "2022-08-09T13:54:07.567500Z",
     "iopub.status.busy": "2022-08-09T13:54:07.567323Z",
     "iopub.status.idle": "2022-08-09T13:54:07.742599Z",
     "shell.execute_reply": "2022-08-09T13:54:07.742007Z"
    },
    "papermill": {
     "duration": 0.188829,
     "end_time": "2022-08-09T13:54:07.743817",
     "exception": false,
     "start_time": "2022-08-09T13:54:07.554988",
     "status": "completed"
    },
    "tags": []
   },
   "outputs": [
    {
     "data": {
      "text/plain": [
       "1.0"
      ]
     },
     "metadata": {},
     "output_type": "display_data"
    }
   ],
   "source": [
    "_max_val = full_corr_matrix.max().max()  # this will capture the 1.0 in the diagonal\n",
    "display(_max_val)\n",
    "assert _max_val <= 1.00"
   ]
  },
  {
   "cell_type": "markdown",
   "id": "f328f55d-37d5-4346-97b4-7237281d5757",
   "metadata": {
    "papermill": {
     "duration": 0.011676,
     "end_time": "2022-08-09T13:54:07.767436",
     "exception": false,
     "start_time": "2022-08-09T13:54:07.755760",
     "status": "completed"
    },
    "tags": []
   },
   "source": [
    "## Save original matrix"
   ]
  },
  {
   "cell_type": "markdown",
   "id": "0bf781b4-7a49-4823-9c40-d6d4151c17b7",
   "metadata": {
    "papermill": {
     "duration": 0.011638,
     "end_time": "2022-08-09T13:54:07.791126",
     "exception": false,
     "start_time": "2022-08-09T13:54:07.779488",
     "status": "completed"
    },
    "tags": []
   },
   "source": [
    "### With gene symbols"
   ]
  },
  {
   "cell_type": "code",
   "execution_count": 37,
   "id": "cd9323bb-f43e-4271-aeae-c4ff9ba150fe",
   "metadata": {
    "execution": {
     "iopub.execute_input": "2022-08-09T13:54:07.815966Z",
     "iopub.status.busy": "2022-08-09T13:54:07.815760Z",
     "iopub.status.idle": "2022-08-09T13:54:07.830392Z",
     "shell.execute_reply": "2022-08-09T13:54:07.829895Z"
    },
    "papermill": {
     "duration": 0.028488,
     "end_time": "2022-08-09T13:54:07.831618",
     "exception": false,
     "start_time": "2022-08-09T13:54:07.803130",
     "status": "completed"
    },
    "tags": []
   },
   "outputs": [
    {
     "data": {
      "text/plain": [
       "PosixPath('/opt/data/results/gls/gene_corrs/cohorts/1000g_eur/1000g/mashr/gene_corrs-symbols-orig.pkl')"
      ]
     },
     "metadata": {},
     "output_type": "display_data"
    }
   ],
   "source": [
    "output_file = OUTPUT_DIR_BASE / \"gene_corrs-symbols-orig.pkl\"\n",
    "display(output_file)"
   ]
  },
  {
   "cell_type": "code",
   "execution_count": 38,
   "id": "eae70039-4724-49c2-af7f-af868ee71f52",
   "metadata": {
    "execution": {
     "iopub.execute_input": "2022-08-09T13:54:07.856534Z",
     "iopub.status.busy": "2022-08-09T13:54:07.856380Z",
     "iopub.status.idle": "2022-08-09T13:54:08.196576Z",
     "shell.execute_reply": "2022-08-09T13:54:08.196076Z"
    },
    "papermill": {
     "duration": 0.354227,
     "end_time": "2022-08-09T13:54:08.197972",
     "exception": false,
     "start_time": "2022-08-09T13:54:07.843745",
     "status": "completed"
    },
    "tags": []
   },
   "outputs": [],
   "source": [
    "gene_corrs = full_corr_matrix.rename(\n",
    "    index=Gene.GENE_ID_TO_NAME_MAP, columns=Gene.GENE_ID_TO_NAME_MAP\n",
    ")"
   ]
  },
  {
   "cell_type": "code",
   "execution_count": 39,
   "id": "d095a99d-acf0-4290-873b-64079ba70a3a",
   "metadata": {
    "execution": {
     "iopub.execute_input": "2022-08-09T13:54:08.223072Z",
     "iopub.status.busy": "2022-08-09T13:54:08.222867Z",
     "iopub.status.idle": "2022-08-09T13:54:08.322422Z",
     "shell.execute_reply": "2022-08-09T13:54:08.321757Z"
    },
    "papermill": {
     "duration": 0.113823,
     "end_time": "2022-08-09T13:54:08.323996",
     "exception": false,
     "start_time": "2022-08-09T13:54:08.210173",
     "status": "completed"
    },
    "tags": []
   },
   "outputs": [],
   "source": [
    "assert not gene_corrs.isna().any(None)\n",
    "assert not np.isinf(gene_corrs.to_numpy()).any()\n",
    "assert not np.iscomplex(gene_corrs.to_numpy()).any()"
   ]
  },
  {
   "cell_type": "code",
   "execution_count": 40,
   "id": "8a0ee039-378e-4f51-a18a-24fe2c9d9ba8",
   "metadata": {
    "execution": {
     "iopub.execute_input": "2022-08-09T13:54:08.350126Z",
     "iopub.status.busy": "2022-08-09T13:54:08.349923Z",
     "iopub.status.idle": "2022-08-09T13:54:08.365314Z",
     "shell.execute_reply": "2022-08-09T13:54:08.364740Z"
    },
    "papermill": {
     "duration": 0.029448,
     "end_time": "2022-08-09T13:54:08.366684",
     "exception": false,
     "start_time": "2022-08-09T13:54:08.337236",
     "status": "completed"
    },
    "tags": []
   },
   "outputs": [],
   "source": [
    "assert gene_corrs.index.is_unique\n",
    "assert gene_corrs.columns.is_unique"
   ]
  },
  {
   "cell_type": "code",
   "execution_count": 41,
   "id": "7fe158ee-2def-4c61-91a2-f3ec05687237",
   "metadata": {
    "execution": {
     "iopub.execute_input": "2022-08-09T13:54:08.397501Z",
     "iopub.status.busy": "2022-08-09T13:54:08.397308Z",
     "iopub.status.idle": "2022-08-09T13:54:08.413891Z",
     "shell.execute_reply": "2022-08-09T13:54:08.413420Z"
    },
    "papermill": {
     "duration": 0.034129,
     "end_time": "2022-08-09T13:54:08.415160",
     "exception": false,
     "start_time": "2022-08-09T13:54:08.381031",
     "status": "completed"
    },
    "tags": []
   },
   "outputs": [
    {
     "data": {
      "text/plain": [
       "(6442, 6442)"
      ]
     },
     "execution_count": 41,
     "metadata": {},
     "output_type": "execute_result"
    }
   ],
   "source": [
    "gene_corrs.shape"
   ]
  },
  {
   "cell_type": "code",
   "execution_count": 42,
   "id": "28db69f2-6dc8-4a05-a1da-d44998574749",
   "metadata": {
    "execution": {
     "iopub.execute_input": "2022-08-09T13:54:08.440910Z",
     "iopub.status.busy": "2022-08-09T13:54:08.440753Z",
     "iopub.status.idle": "2022-08-09T13:54:08.467398Z",
     "shell.execute_reply": "2022-08-09T13:54:08.466721Z"
    },
    "papermill": {
     "duration": 0.040944,
     "end_time": "2022-08-09T13:54:08.468616",
     "exception": false,
     "start_time": "2022-08-09T13:54:08.427672",
     "status": "completed"
    },
    "tags": []
   },
   "outputs": [
    {
     "data": {
      "text/html": [
       "<div>\n",
       "<style scoped>\n",
       "    .dataframe tbody tr th:only-of-type {\n",
       "        vertical-align: middle;\n",
       "    }\n",
       "\n",
       "    .dataframe tbody tr th {\n",
       "        vertical-align: top;\n",
       "    }\n",
       "\n",
       "    .dataframe thead th {\n",
       "        text-align: right;\n",
       "    }\n",
       "</style>\n",
       "<table border=\"1\" class=\"dataframe\">\n",
       "  <thead>\n",
       "    <tr style=\"text-align: right;\">\n",
       "      <th></th>\n",
       "      <th>NOC2L</th>\n",
       "      <th>HES4</th>\n",
       "      <th>ISG15</th>\n",
       "      <th>AGRN</th>\n",
       "      <th>TNFRSF18</th>\n",
       "      <th>TNFRSF4</th>\n",
       "      <th>B3GALT6</th>\n",
       "      <th>UBE2J2</th>\n",
       "      <th>ACAP3</th>\n",
       "      <th>TAS1R3</th>\n",
       "      <th>...</th>\n",
       "      <th>PLXNB2</th>\n",
       "      <th>ADM2</th>\n",
       "      <th>MIOX</th>\n",
       "      <th>SCO2</th>\n",
       "      <th>TYMP</th>\n",
       "      <th>CPT1B</th>\n",
       "      <th>CHKB</th>\n",
       "      <th>MAPK8IP2</th>\n",
       "      <th>ARSA</th>\n",
       "      <th>SHANK3</th>\n",
       "    </tr>\n",
       "  </thead>\n",
       "  <tbody>\n",
       "    <tr>\n",
       "      <th>NOC2L</th>\n",
       "      <td>1.000000</td>\n",
       "      <td>0.115011</td>\n",
       "      <td>0.173138</td>\n",
       "      <td>0.056096</td>\n",
       "      <td>0.008032</td>\n",
       "      <td>0.008727</td>\n",
       "      <td>0.006797</td>\n",
       "      <td>0.004533</td>\n",
       "      <td>0.007350</td>\n",
       "      <td>0.010391</td>\n",
       "      <td>...</td>\n",
       "      <td>0.0</td>\n",
       "      <td>0.0</td>\n",
       "      <td>0.0</td>\n",
       "      <td>0.0</td>\n",
       "      <td>0.0</td>\n",
       "      <td>0.0</td>\n",
       "      <td>0.0</td>\n",
       "      <td>0.0</td>\n",
       "      <td>0.0</td>\n",
       "      <td>0.0</td>\n",
       "    </tr>\n",
       "    <tr>\n",
       "      <th>HES4</th>\n",
       "      <td>0.115011</td>\n",
       "      <td>1.000000</td>\n",
       "      <td>0.681368</td>\n",
       "      <td>0.360588</td>\n",
       "      <td>0.011545</td>\n",
       "      <td>0.010729</td>\n",
       "      <td>0.003577</td>\n",
       "      <td>0.010230</td>\n",
       "      <td>0.010747</td>\n",
       "      <td>0.008769</td>\n",
       "      <td>...</td>\n",
       "      <td>0.0</td>\n",
       "      <td>0.0</td>\n",
       "      <td>0.0</td>\n",
       "      <td>0.0</td>\n",
       "      <td>0.0</td>\n",
       "      <td>0.0</td>\n",
       "      <td>0.0</td>\n",
       "      <td>0.0</td>\n",
       "      <td>0.0</td>\n",
       "      <td>0.0</td>\n",
       "    </tr>\n",
       "    <tr>\n",
       "      <th>ISG15</th>\n",
       "      <td>0.173138</td>\n",
       "      <td>0.681368</td>\n",
       "      <td>1.000000</td>\n",
       "      <td>0.381394</td>\n",
       "      <td>0.011774</td>\n",
       "      <td>0.012527</td>\n",
       "      <td>0.003754</td>\n",
       "      <td>0.012096</td>\n",
       "      <td>0.012679</td>\n",
       "      <td>0.010442</td>\n",
       "      <td>...</td>\n",
       "      <td>0.0</td>\n",
       "      <td>0.0</td>\n",
       "      <td>0.0</td>\n",
       "      <td>0.0</td>\n",
       "      <td>0.0</td>\n",
       "      <td>0.0</td>\n",
       "      <td>0.0</td>\n",
       "      <td>0.0</td>\n",
       "      <td>0.0</td>\n",
       "      <td>0.0</td>\n",
       "    </tr>\n",
       "    <tr>\n",
       "      <th>AGRN</th>\n",
       "      <td>0.056096</td>\n",
       "      <td>0.360588</td>\n",
       "      <td>0.381394</td>\n",
       "      <td>1.000000</td>\n",
       "      <td>0.013005</td>\n",
       "      <td>0.015775</td>\n",
       "      <td>0.006184</td>\n",
       "      <td>0.006813</td>\n",
       "      <td>0.010775</td>\n",
       "      <td>0.009189</td>\n",
       "      <td>...</td>\n",
       "      <td>0.0</td>\n",
       "      <td>0.0</td>\n",
       "      <td>0.0</td>\n",
       "      <td>0.0</td>\n",
       "      <td>0.0</td>\n",
       "      <td>0.0</td>\n",
       "      <td>0.0</td>\n",
       "      <td>0.0</td>\n",
       "      <td>0.0</td>\n",
       "      <td>0.0</td>\n",
       "    </tr>\n",
       "    <tr>\n",
       "      <th>TNFRSF18</th>\n",
       "      <td>0.008032</td>\n",
       "      <td>0.011545</td>\n",
       "      <td>0.011774</td>\n",
       "      <td>0.013005</td>\n",
       "      <td>1.000000</td>\n",
       "      <td>0.356676</td>\n",
       "      <td>0.454010</td>\n",
       "      <td>0.137643</td>\n",
       "      <td>0.200340</td>\n",
       "      <td>0.093210</td>\n",
       "      <td>...</td>\n",
       "      <td>0.0</td>\n",
       "      <td>0.0</td>\n",
       "      <td>0.0</td>\n",
       "      <td>0.0</td>\n",
       "      <td>0.0</td>\n",
       "      <td>0.0</td>\n",
       "      <td>0.0</td>\n",
       "      <td>0.0</td>\n",
       "      <td>0.0</td>\n",
       "      <td>0.0</td>\n",
       "    </tr>\n",
       "  </tbody>\n",
       "</table>\n",
       "<p>5 rows × 6442 columns</p>\n",
       "</div>"
      ],
      "text/plain": [
       "             NOC2L      HES4     ISG15      AGRN  TNFRSF18   TNFRSF4  \\\n",
       "NOC2L     1.000000  0.115011  0.173138  0.056096  0.008032  0.008727   \n",
       "HES4      0.115011  1.000000  0.681368  0.360588  0.011545  0.010729   \n",
       "ISG15     0.173138  0.681368  1.000000  0.381394  0.011774  0.012527   \n",
       "AGRN      0.056096  0.360588  0.381394  1.000000  0.013005  0.015775   \n",
       "TNFRSF18  0.008032  0.011545  0.011774  0.013005  1.000000  0.356676   \n",
       "\n",
       "           B3GALT6    UBE2J2     ACAP3    TAS1R3  ...  PLXNB2  ADM2  MIOX  \\\n",
       "NOC2L     0.006797  0.004533  0.007350  0.010391  ...     0.0   0.0   0.0   \n",
       "HES4      0.003577  0.010230  0.010747  0.008769  ...     0.0   0.0   0.0   \n",
       "ISG15     0.003754  0.012096  0.012679  0.010442  ...     0.0   0.0   0.0   \n",
       "AGRN      0.006184  0.006813  0.010775  0.009189  ...     0.0   0.0   0.0   \n",
       "TNFRSF18  0.454010  0.137643  0.200340  0.093210  ...     0.0   0.0   0.0   \n",
       "\n",
       "          SCO2  TYMP  CPT1B  CHKB  MAPK8IP2  ARSA  SHANK3  \n",
       "NOC2L      0.0   0.0    0.0   0.0       0.0   0.0     0.0  \n",
       "HES4       0.0   0.0    0.0   0.0       0.0   0.0     0.0  \n",
       "ISG15      0.0   0.0    0.0   0.0       0.0   0.0     0.0  \n",
       "AGRN       0.0   0.0    0.0   0.0       0.0   0.0     0.0  \n",
       "TNFRSF18   0.0   0.0    0.0   0.0       0.0   0.0     0.0  \n",
       "\n",
       "[5 rows x 6442 columns]"
      ]
     },
     "execution_count": 42,
     "metadata": {},
     "output_type": "execute_result"
    }
   ],
   "source": [
    "gene_corrs.head()"
   ]
  },
  {
   "cell_type": "code",
   "execution_count": 43,
   "id": "19f39ddb-854c-4b6a-886c-60e84b5d31ca",
   "metadata": {
    "execution": {
     "iopub.execute_input": "2022-08-09T13:54:08.494514Z",
     "iopub.status.busy": "2022-08-09T13:54:08.493921Z",
     "iopub.status.idle": "2022-08-09T13:54:09.348361Z",
     "shell.execute_reply": "2022-08-09T13:54:09.347653Z"
    },
    "papermill": {
     "duration": 0.869037,
     "end_time": "2022-08-09T13:54:09.350008",
     "exception": false,
     "start_time": "2022-08-09T13:54:08.480971",
     "status": "completed"
    },
    "tags": []
   },
   "outputs": [],
   "source": [
    "gene_corrs.to_pickle(output_file)"
   ]
  },
  {
   "cell_type": "code",
   "execution_count": 44,
   "id": "738f4cf5-44a9-4274-a2c8-11906113fa45",
   "metadata": {
    "execution": {
     "iopub.execute_input": "2022-08-09T13:54:09.402572Z",
     "iopub.status.busy": "2022-08-09T13:54:09.402381Z",
     "iopub.status.idle": "2022-08-09T13:54:09.419878Z",
     "shell.execute_reply": "2022-08-09T13:54:09.419217Z"
    },
    "papermill": {
     "duration": 0.05452,
     "end_time": "2022-08-09T13:54:09.421509",
     "exception": false,
     "start_time": "2022-08-09T13:54:09.366989",
     "status": "completed"
    },
    "tags": []
   },
   "outputs": [],
   "source": [
    "del gene_corrs"
   ]
  },
  {
   "cell_type": "markdown",
   "id": "c44e801b-ef0c-424e-a880-85c1a75e9782",
   "metadata": {
    "papermill": {
     "duration": 0.026505,
     "end_time": "2022-08-09T13:54:09.475138",
     "exception": false,
     "start_time": "2022-08-09T13:54:09.448633",
     "status": "completed"
    },
    "tags": []
   },
   "source": [
    "# Positive definiteness"
   ]
  },
  {
   "cell_type": "code",
   "execution_count": 45,
   "id": "07d9a9a1-a4f7-48aa-b916-6d42a8cc6186",
   "metadata": {
    "execution": {
     "iopub.execute_input": "2022-08-09T13:54:09.541882Z",
     "iopub.status.busy": "2022-08-09T13:54:09.541308Z",
     "iopub.status.idle": "2022-08-09T13:55:00.689322Z",
     "shell.execute_reply": "2022-08-09T13:55:00.688938Z"
    },
    "papermill": {
     "duration": 51.207236,
     "end_time": "2022-08-09T13:55:00.702428",
     "exception": false,
     "start_time": "2022-08-09T13:54:09.495192",
     "status": "completed"
    },
    "tags": []
   },
   "outputs": [
    {
     "data": {
      "text/plain": [
       "0"
      ]
     },
     "metadata": {},
     "output_type": "display_data"
    },
    {
     "data": {
      "text/plain": [
       "array([], dtype=float64)"
      ]
     },
     "metadata": {},
     "output_type": "display_data"
    }
   ],
   "source": [
    "# print negative eigenvalues\n",
    "eigs = np.linalg.eigvals(full_corr_matrix.to_numpy())\n",
    "display(len(eigs[eigs < 0]))\n",
    "display(eigs[eigs < 0])"
   ]
  },
  {
   "cell_type": "code",
   "execution_count": 46,
   "id": "e514a575-dc67-45bc-9550-276389349bd1",
   "metadata": {
    "execution": {
     "iopub.execute_input": "2022-08-09T13:55:00.730909Z",
     "iopub.status.busy": "2022-08-09T13:55:00.730225Z",
     "iopub.status.idle": "2022-08-09T13:55:08.181258Z",
     "shell.execute_reply": "2022-08-09T13:55:08.180524Z"
    },
    "papermill": {
     "duration": 7.466124,
     "end_time": "2022-08-09T13:55:08.182757",
     "exception": false,
     "start_time": "2022-08-09T13:55:00.716633",
     "status": "completed"
    },
    "tags": []
   },
   "outputs": [
    {
     "name": "stdout",
     "output_type": "stream",
     "text": [
      "Works!\n"
     ]
    }
   ],
   "source": [
    "CHOL_DECOMPOSITION_FAILED = None\n",
    "\n",
    "try:\n",
    "    chol_mat = np.linalg.cholesky(full_corr_matrix.to_numpy())\n",
    "    cov_inv = np.linalg.inv(chol_mat)\n",
    "    print(\"Works!\")\n",
    "    CHOL_DECOMPOSITION_FAILED = False\n",
    "except Exception as e:\n",
    "    print(f\"Cholesky decomposition failed: {str(e)}\")\n",
    "    CHOL_DECOMPOSITION_FAILED = True"
   ]
  },
  {
   "cell_type": "markdown",
   "id": "e33fce11-235d-42c3-aad3-dd6577518ab8",
   "metadata": {
    "papermill": {
     "duration": 0.015455,
     "end_time": "2022-08-09T13:55:08.214662",
     "exception": false,
     "start_time": "2022-08-09T13:55:08.199207",
     "status": "completed"
    },
    "tags": []
   },
   "source": [
    "## Adjust"
   ]
  },
  {
   "cell_type": "code",
   "execution_count": 47,
   "id": "8b0f307d-046f-480c-a246-2b777a26a031",
   "metadata": {
    "execution": {
     "iopub.execute_input": "2022-08-09T13:55:08.242384Z",
     "iopub.status.busy": "2022-08-09T13:55:08.242134Z",
     "iopub.status.idle": "2022-08-09T13:55:08.742744Z",
     "shell.execute_reply": "2022-08-09T13:55:08.742159Z"
    },
    "papermill": {
     "duration": 0.515791,
     "end_time": "2022-08-09T13:55:08.744336",
     "exception": false,
     "start_time": "2022-08-09T13:55:08.228545",
     "status": "completed"
    },
    "tags": []
   },
   "outputs": [],
   "source": [
    "%load_ext rpy2.ipython"
   ]
  },
  {
   "cell_type": "code",
   "execution_count": 48,
   "id": "45b1b1dd-e5c8-4137-85e4-15a14739404d",
   "metadata": {
    "execution": {
     "iopub.execute_input": "2022-08-09T13:55:08.773312Z",
     "iopub.status.busy": "2022-08-09T13:55:08.772388Z",
     "iopub.status.idle": "2022-08-09T13:55:08.804045Z",
     "shell.execute_reply": "2022-08-09T13:55:08.803427Z"
    },
    "papermill": {
     "duration": 0.047924,
     "end_time": "2022-08-09T13:55:08.805417",
     "exception": false,
     "start_time": "2022-08-09T13:55:08.757493",
     "status": "completed"
    },
    "tags": []
   },
   "outputs": [],
   "source": [
    "%%R\n",
    "# taken and adapted from https://www.r-bloggers.com/2013/08/correcting-a-pseudo-correlation-matrix-to-be-positive-semidefinite/\n",
    "CorrectCM <- function(CM, p = 0) {\n",
    "  n <- dim(CM)[1L]\n",
    "  E <- eigen(CM)\n",
    "  CM1 <- E$vectors %*% tcrossprod(diag(pmax(E$values, p), n), E$vectors)\n",
    "  Balance <- diag(1 / sqrt(diag(CM1)))\n",
    "  CM2 <- Balance %*% CM1 %*% Balance\n",
    "  return(CM2)\n",
    "}"
   ]
  },
  {
   "cell_type": "code",
   "execution_count": 49,
   "id": "e072d1dc-fa74-44da-8a09-67a092f2adaf",
   "metadata": {
    "execution": {
     "iopub.execute_input": "2022-08-09T13:55:08.832326Z",
     "iopub.status.busy": "2022-08-09T13:55:08.832165Z",
     "iopub.status.idle": "2022-08-09T13:55:08.849690Z",
     "shell.execute_reply": "2022-08-09T13:55:08.849198Z"
    },
    "papermill": {
     "duration": 0.03235,
     "end_time": "2022-08-09T13:55:08.850895",
     "exception": false,
     "start_time": "2022-08-09T13:55:08.818545",
     "status": "completed"
    },
    "tags": []
   },
   "outputs": [
    {
     "name": "stdout",
     "output_type": "stream",
     "text": [
      "No adjustment was necessary\n"
     ]
    }
   ],
   "source": [
    "if CHOL_DECOMPOSITION_FAILED:\n",
    "    corr_mat_r = full_corr_matrix.to_numpy()\n",
    "\n",
    "    %Rpush corr_mat_r\n",
    "    %R -o corr_mat_r_fixed corr_mat_r_fixed <- CorrectCM(corr_mat_r, 1e-5)\n",
    "\n",
    "    display(corr_mat_r_fixed.shape)\n",
    "\n",
    "    full_corr_matrix_fixed = pd.DataFrame(\n",
    "        corr_mat_r_fixed,\n",
    "        index=full_corr_matrix.index.copy(),\n",
    "        columns=full_corr_matrix.columns.copy(),\n",
    "    )\n",
    "    display(full_corr_matrix_fixed.shape)\n",
    "    display(full_corr_matrix_fixed)\n",
    "else:\n",
    "    print(\"No adjustment was necessary\")"
   ]
  },
  {
   "cell_type": "markdown",
   "id": "024b04c6-e0bf-4a88-98af-5ca7a96a8753",
   "metadata": {
    "papermill": {
     "duration": 0.014452,
     "end_time": "2022-08-09T13:55:08.878484",
     "exception": false,
     "start_time": "2022-08-09T13:55:08.864032",
     "status": "completed"
    },
    "tags": []
   },
   "source": [
    "## Make sure the new matrix is positive definite"
   ]
  },
  {
   "cell_type": "code",
   "execution_count": 50,
   "id": "6908be87-1086-45bd-b8f0-4cf923755683",
   "metadata": {
    "execution": {
     "iopub.execute_input": "2022-08-09T13:55:08.912409Z",
     "iopub.status.busy": "2022-08-09T13:55:08.912227Z",
     "iopub.status.idle": "2022-08-09T13:55:08.930656Z",
     "shell.execute_reply": "2022-08-09T13:55:08.930049Z"
    },
    "papermill": {
     "duration": 0.036432,
     "end_time": "2022-08-09T13:55:08.932065",
     "exception": false,
     "start_time": "2022-08-09T13:55:08.895633",
     "status": "completed"
    },
    "tags": []
   },
   "outputs": [
    {
     "name": "stdout",
     "output_type": "stream",
     "text": [
      "No adjustment was necessary\n"
     ]
    }
   ],
   "source": [
    "if CHOL_DECOMPOSITION_FAILED:\n",
    "    # print negative eigenvalues\n",
    "    eigs = np.linalg.eigvals(full_corr_matrix_fixed.to_numpy())\n",
    "    display(len(eigs[eigs < 0]))\n",
    "    display(eigs[eigs < 0])\n",
    "\n",
    "    chol_mat = np.linalg.cholesky(full_corr_matrix_fixed.to_numpy())\n",
    "    cov_inv = np.linalg.inv(chol_mat)\n",
    "\n",
    "    assert not np.isnan(chol_mat).any()\n",
    "    assert not np.isinf(chol_mat).any()\n",
    "    assert not np.iscomplex(chol_mat).any()\n",
    "\n",
    "    assert not np.isnan(cov_inv).any()\n",
    "    assert not np.isinf(cov_inv).any()\n",
    "    assert not np.iscomplex(cov_inv).any()\n",
    "else:\n",
    "    print(\"No adjustment was necessary\")"
   ]
  },
  {
   "cell_type": "markdown",
   "id": "ce84a6b4-9590-4b99-9fd6-83724f6d8f29",
   "metadata": {
    "papermill": {
     "duration": 0.014276,
     "end_time": "2022-08-09T13:55:08.961290",
     "exception": false,
     "start_time": "2022-08-09T13:55:08.947014",
     "status": "completed"
    },
    "tags": []
   },
   "source": [
    "## Compare adjusted and original correlation matrix"
   ]
  },
  {
   "cell_type": "code",
   "execution_count": 51,
   "id": "79e6972e-1832-4fd2-8e34-b4732f42a495",
   "metadata": {
    "execution": {
     "iopub.execute_input": "2022-08-09T13:55:08.987529Z",
     "iopub.status.busy": "2022-08-09T13:55:08.987332Z",
     "iopub.status.idle": "2022-08-09T13:55:09.002402Z",
     "shell.execute_reply": "2022-08-09T13:55:09.001797Z"
    },
    "papermill": {
     "duration": 0.0298,
     "end_time": "2022-08-09T13:55:09.003680",
     "exception": false,
     "start_time": "2022-08-09T13:55:08.973880",
     "status": "completed"
    },
    "tags": []
   },
   "outputs": [
    {
     "name": "stdout",
     "output_type": "stream",
     "text": [
      "No adjustment was necessary\n"
     ]
    }
   ],
   "source": [
    "if CHOL_DECOMPOSITION_FAILED:\n",
    "    # print the element-wise difference between the original and the adjusted matrix\n",
    "    _diff = ((full_corr_matrix - full_corr_matrix_fixed) ** 2).unstack().sum()\n",
    "    display(_diff)\n",
    "    assert _diff < 1e-5\n",
    "else:\n",
    "    print(\"No adjustment was necessary\")"
   ]
  },
  {
   "cell_type": "markdown",
   "id": "bd9fd435-7a5c-4c52-b00e-32167287cc01",
   "metadata": {
    "papermill": {
     "duration": 0.01287,
     "end_time": "2022-08-09T13:55:09.030029",
     "exception": false,
     "start_time": "2022-08-09T13:55:09.017159",
     "status": "completed"
    },
    "tags": []
   },
   "source": [
    "## Replace original matrix with adjusted one"
   ]
  },
  {
   "cell_type": "code",
   "execution_count": 52,
   "id": "fc8a4108-e93b-478f-b09f-4d64635fe4d5",
   "metadata": {
    "execution": {
     "iopub.execute_input": "2022-08-09T13:55:09.056799Z",
     "iopub.status.busy": "2022-08-09T13:55:09.056594Z",
     "iopub.status.idle": "2022-08-09T13:55:09.071331Z",
     "shell.execute_reply": "2022-08-09T13:55:09.070748Z"
    },
    "papermill": {
     "duration": 0.029527,
     "end_time": "2022-08-09T13:55:09.072543",
     "exception": false,
     "start_time": "2022-08-09T13:55:09.043016",
     "status": "completed"
    },
    "tags": []
   },
   "outputs": [
    {
     "name": "stdout",
     "output_type": "stream",
     "text": [
      "No adjustment was necessary\n"
     ]
    }
   ],
   "source": [
    "if CHOL_DECOMPOSITION_FAILED:\n",
    "    full_corr_matrix = full_corr_matrix_fixed\n",
    "else:\n",
    "    print(\"No adjustment was necessary\")"
   ]
  },
  {
   "cell_type": "markdown",
   "id": "551bd31a-ad37-45b5-a0c8-6ff1459faf60",
   "metadata": {
    "papermill": {
     "duration": 0.012827,
     "end_time": "2022-08-09T13:55:09.098367",
     "exception": false,
     "start_time": "2022-08-09T13:55:09.085540",
     "status": "completed"
    },
    "tags": []
   },
   "source": [
    "# Stats"
   ]
  },
  {
   "cell_type": "code",
   "execution_count": 53,
   "id": "33b5482f-7ecf-4365-867f-249f28d09180",
   "metadata": {
    "execution": {
     "iopub.execute_input": "2022-08-09T13:55:09.125068Z",
     "iopub.status.busy": "2022-08-09T13:55:09.124858Z",
     "iopub.status.idle": "2022-08-09T13:55:09.853603Z",
     "shell.execute_reply": "2022-08-09T13:55:09.852938Z"
    },
    "papermill": {
     "duration": 0.743942,
     "end_time": "2022-08-09T13:55:09.855047",
     "exception": false,
     "start_time": "2022-08-09T13:55:09.111105",
     "status": "completed"
    },
    "tags": []
   },
   "outputs": [],
   "source": [
    "full_corr_matrix_flat = full_corr_matrix.mask(\n",
    "    np.triu(np.ones(full_corr_matrix.shape)).astype(bool)\n",
    ").stack()"
   ]
  },
  {
   "cell_type": "code",
   "execution_count": 54,
   "id": "e2d950d1-646a-4ba1-bb91-cf07ad00872d",
   "metadata": {
    "execution": {
     "iopub.execute_input": "2022-08-09T13:55:09.886570Z",
     "iopub.status.busy": "2022-08-09T13:55:09.885979Z",
     "iopub.status.idle": "2022-08-09T13:55:09.906320Z",
     "shell.execute_reply": "2022-08-09T13:55:09.905715Z"
    },
    "papermill": {
     "duration": 0.038621,
     "end_time": "2022-08-09T13:55:09.907761",
     "exception": false,
     "start_time": "2022-08-09T13:55:09.869140",
     "status": "completed"
    },
    "tags": []
   },
   "outputs": [
    {
     "data": {
      "text/plain": [
       "(20746461,)"
      ]
     },
     "metadata": {},
     "output_type": "display_data"
    }
   ],
   "source": [
    "display(full_corr_matrix_flat.shape)\n",
    "assert full_corr_matrix_flat.shape[0] == int(\n",
    "    full_corr_matrix.shape[0] * (full_corr_matrix.shape[0] - 1) / 2\n",
    ")"
   ]
  },
  {
   "cell_type": "markdown",
   "id": "5fd7d482-b7b8-4a84-91b0-749d15f0d2c0",
   "metadata": {
    "papermill": {
     "duration": 0.014963,
     "end_time": "2022-08-09T13:55:09.938943",
     "exception": false,
     "start_time": "2022-08-09T13:55:09.923980",
     "status": "completed"
    },
    "tags": []
   },
   "source": [
    "## On all correlations"
   ]
  },
  {
   "cell_type": "code",
   "execution_count": 55,
   "id": "e58ea199-0cc1-449d-a55e-26970fb674a8",
   "metadata": {
    "execution": {
     "iopub.execute_input": "2022-08-09T13:55:09.967071Z",
     "iopub.status.busy": "2022-08-09T13:55:09.966867Z",
     "iopub.status.idle": "2022-08-09T13:55:09.981703Z",
     "shell.execute_reply": "2022-08-09T13:55:09.981209Z"
    },
    "papermill": {
     "duration": 0.029991,
     "end_time": "2022-08-09T13:55:09.983015",
     "exception": false,
     "start_time": "2022-08-09T13:55:09.953024",
     "status": "completed"
    },
    "tags": []
   },
   "outputs": [],
   "source": [
    "_corr_mat = full_corr_matrix_flat"
   ]
  },
  {
   "cell_type": "code",
   "execution_count": 56,
   "id": "c4e71773-0b74-435f-a9d9-cc8671d7c570",
   "metadata": {
    "execution": {
     "iopub.execute_input": "2022-08-09T13:55:10.010237Z",
     "iopub.status.busy": "2022-08-09T13:55:10.010080Z",
     "iopub.status.idle": "2022-08-09T13:55:10.025302Z",
     "shell.execute_reply": "2022-08-09T13:55:10.024771Z"
    },
    "papermill": {
     "duration": 0.030163,
     "end_time": "2022-08-09T13:55:10.026482",
     "exception": false,
     "start_time": "2022-08-09T13:55:09.996319",
     "status": "completed"
    },
    "tags": []
   },
   "outputs": [
    {
     "data": {
      "text/plain": [
       "(20746461,)"
      ]
     },
     "execution_count": 56,
     "metadata": {},
     "output_type": "execute_result"
    }
   ],
   "source": [
    "_corr_mat.shape"
   ]
  },
  {
   "cell_type": "code",
   "execution_count": 57,
   "id": "9907fbe4-85e1-4690-ae0c-3c6f5a19e9b7",
   "metadata": {
    "execution": {
     "iopub.execute_input": "2022-08-09T13:55:10.054296Z",
     "iopub.status.busy": "2022-08-09T13:55:10.054134Z",
     "iopub.status.idle": "2022-08-09T13:55:10.070843Z",
     "shell.execute_reply": "2022-08-09T13:55:10.070270Z"
    },
    "papermill": {
     "duration": 0.032052,
     "end_time": "2022-08-09T13:55:10.072051",
     "exception": false,
     "start_time": "2022-08-09T13:55:10.039999",
     "status": "completed"
    },
    "tags": []
   },
   "outputs": [
    {
     "data": {
      "text/plain": [
       "ENSG00000188290  ENSG00000188976    0.115011\n",
       "ENSG00000187608  ENSG00000188976    0.173138\n",
       "                 ENSG00000188290    0.681368\n",
       "ENSG00000188157  ENSG00000188976    0.056096\n",
       "                 ENSG00000188290    0.360588\n",
       "dtype: float64"
      ]
     },
     "execution_count": 57,
     "metadata": {},
     "output_type": "execute_result"
    }
   ],
   "source": [
    "_corr_mat.head()"
   ]
  },
  {
   "cell_type": "code",
   "execution_count": 58,
   "id": "cb34e9c9-7488-47f2-aa31-c8a8e83f92ae",
   "metadata": {
    "execution": {
     "iopub.execute_input": "2022-08-09T13:55:10.100320Z",
     "iopub.status.busy": "2022-08-09T13:55:10.099806Z",
     "iopub.status.idle": "2022-08-09T13:55:10.719007Z",
     "shell.execute_reply": "2022-08-09T13:55:10.718476Z"
    },
    "papermill": {
     "duration": 0.634256,
     "end_time": "2022-08-09T13:55:10.720310",
     "exception": false,
     "start_time": "2022-08-09T13:55:10.086054",
     "status": "completed"
    },
    "tags": []
   },
   "outputs": [
    {
     "data": {
      "text/plain": [
       "count               20746461.0\n",
       "mean     0.0005814836967316877\n",
       "std       0.007179628720480849\n",
       "min                        0.0\n",
       "25%                        0.0\n",
       "50%                        0.0\n",
       "75%                        0.0\n",
       "max                        1.0\n",
       "dtype: object"
      ]
     },
     "execution_count": 58,
     "metadata": {},
     "output_type": "execute_result"
    }
   ],
   "source": [
    "_corr_mat.describe().apply(str)"
   ]
  },
  {
   "cell_type": "code",
   "execution_count": 59,
   "id": "ccb2fbfa-e381-40a0-a269-e280c12c6039",
   "metadata": {
    "execution": {
     "iopub.execute_input": "2022-08-09T13:55:10.748532Z",
     "iopub.status.busy": "2022-08-09T13:55:10.748316Z",
     "iopub.status.idle": "2022-08-09T13:55:11.071446Z",
     "shell.execute_reply": "2022-08-09T13:55:11.070917Z"
    },
    "papermill": {
     "duration": 0.338545,
     "end_time": "2022-08-09T13:55:11.072795",
     "exception": false,
     "start_time": "2022-08-09T13:55:10.734250",
     "status": "completed"
    },
    "tags": []
   },
   "outputs": [
    {
     "data": {
      "text/plain": [
       "0.00    0.000000\n",
       "0.05    0.000000\n",
       "0.10    0.000000\n",
       "0.15    0.000000\n",
       "0.20    0.000000\n",
       "0.25    0.000000\n",
       "0.30    0.000000\n",
       "0.35    0.000000\n",
       "0.40    0.000000\n",
       "0.45    0.000000\n",
       "0.50    0.000000\n",
       "0.55    0.000000\n",
       "0.60    0.000000\n",
       "0.65    0.000000\n",
       "0.70    0.000000\n",
       "0.75    0.000000\n",
       "0.80    0.000000\n",
       "0.85    0.000000\n",
       "0.90    0.000000\n",
       "0.95    0.003197\n",
       "dtype: float64"
      ]
     },
     "metadata": {},
     "output_type": "display_data"
    }
   ],
   "source": [
    "display(_corr_mat.quantile(np.arange(0, 1, 0.05)))"
   ]
  },
  {
   "cell_type": "code",
   "execution_count": 60,
   "id": "940dcbd0-3a39-4e0b-9b7c-cd3f905ea8fb",
   "metadata": {
    "execution": {
     "iopub.execute_input": "2022-08-09T13:55:11.101039Z",
     "iopub.status.busy": "2022-08-09T13:55:11.100883Z",
     "iopub.status.idle": "2022-08-09T13:55:11.312229Z",
     "shell.execute_reply": "2022-08-09T13:55:11.311713Z"
    },
    "papermill": {
     "duration": 0.226612,
     "end_time": "2022-08-09T13:55:11.313484",
     "exception": false,
     "start_time": "2022-08-09T13:55:11.086872",
     "status": "completed"
    },
    "tags": []
   },
   "outputs": [
    {
     "data": {
      "text/plain": [
       "0.0000    0.0\n",
       "0.0001    0.0\n",
       "0.0002    0.0\n",
       "0.0003    0.0\n",
       "0.0004    0.0\n",
       "0.0005    0.0\n",
       "0.0006    0.0\n",
       "0.0007    0.0\n",
       "0.0008    0.0\n",
       "0.0009    0.0\n",
       "dtype: float64"
      ]
     },
     "metadata": {},
     "output_type": "display_data"
    }
   ],
   "source": [
    "display(_corr_mat.quantile(np.arange(0, 0.001, 0.0001)))"
   ]
  },
  {
   "cell_type": "code",
   "execution_count": 61,
   "id": "9c76b62b-be13-4037-a95b-a8c2104055a3",
   "metadata": {
    "execution": {
     "iopub.execute_input": "2022-08-09T13:55:11.342549Z",
     "iopub.status.busy": "2022-08-09T13:55:11.342388Z",
     "iopub.status.idle": "2022-08-09T13:55:11.472052Z",
     "shell.execute_reply": "2022-08-09T13:55:11.471507Z"
    },
    "papermill": {
     "duration": 0.145352,
     "end_time": "2022-08-09T13:55:11.473239",
     "exception": false,
     "start_time": "2022-08-09T13:55:11.327887",
     "status": "completed"
    },
    "tags": []
   },
   "outputs": [
    {
     "data": {
      "text/plain": [
       "0.9990    0.021677\n",
       "0.9991    0.022701\n",
       "0.9992    0.024406\n",
       "0.9993    0.028012\n",
       "0.9994    0.036359\n",
       "0.9995    0.051164\n",
       "0.9996    0.078860\n",
       "0.9997    0.133119\n",
       "0.9998    0.234994\n",
       "0.9999    0.392766\n",
       "1.0000    1.000000\n",
       "dtype: float64"
      ]
     },
     "metadata": {},
     "output_type": "display_data"
    }
   ],
   "source": [
    "display(_corr_mat.quantile(np.arange(0.999, 1.0, 0.0001)))"
   ]
  },
  {
   "cell_type": "markdown",
   "id": "0ed3b3a6-f1ea-4f39-9363-f33b835413d2",
   "metadata": {
    "papermill": {
     "duration": 0.014027,
     "end_time": "2022-08-09T13:55:11.501069",
     "exception": false,
     "start_time": "2022-08-09T13:55:11.487042",
     "status": "completed"
    },
    "tags": []
   },
   "source": [
    "### Plot: distribution"
   ]
  },
  {
   "cell_type": "code",
   "execution_count": 62,
   "id": "8301126b-a7d4-4744-9c7d-f0f86eb6f54c",
   "metadata": {
    "execution": {
     "iopub.execute_input": "2022-08-09T13:55:11.528962Z",
     "iopub.status.busy": "2022-08-09T13:55:11.528756Z",
     "iopub.status.idle": "2022-08-09T13:56:13.678282Z",
     "shell.execute_reply": "2022-08-09T13:56:13.677767Z"
    },
    "papermill": {
     "duration": 62.178469,
     "end_time": "2022-08-09T13:56:13.693125",
     "exception": false,
     "start_time": "2022-08-09T13:55:11.514656",
     "status": "completed"
    },
    "tags": []
   },
   "outputs": [
    {
     "data": {
      "image/png": "[encoded data removed]",
      "text/plain": [
       "<Figure size 504x504 with 1 Axes>"
      ]
     },
     "metadata": {
      "needs_background": "light"
     },
     "output_type": "display_data"
    }
   ],
   "source": [
    "with sns.plotting_context(\"paper\", font_scale=1.5):\n",
    "    g = sns.displot(_corr_mat, kde=True, height=7)\n",
    "    g.ax.set_title(\"Distribution of gene correlation values in all chromosomes\")"
   ]
  },
  {
   "cell_type": "markdown",
   "id": "e209767d-44b8-48a4-ad28-478703a3b5bd",
   "metadata": {
    "papermill": {
     "duration": 0.013463,
     "end_time": "2022-08-09T13:56:13.720673",
     "exception": false,
     "start_time": "2022-08-09T13:56:13.707210",
     "status": "completed"
    },
    "tags": []
   },
   "source": [
    "### Plot: heatmap"
   ]
  },
  {
   "cell_type": "code",
   "execution_count": 63,
   "id": "d03fe63a-c7b2-4fb9-a53c-db362ce843c9",
   "metadata": {
    "execution": {
     "iopub.execute_input": "2022-08-09T13:56:13.749027Z",
     "iopub.status.busy": "2022-08-09T13:56:13.748817Z",
     "iopub.status.idle": "2022-08-09T13:56:13.881251Z",
     "shell.execute_reply": "2022-08-09T13:56:13.880776Z"
    },
    "papermill": {
     "duration": 0.148196,
     "end_time": "2022-08-09T13:56:13.882450",
     "exception": false,
     "start_time": "2022-08-09T13:56:13.734254",
     "status": "completed"
    },
    "tags": []
   },
   "outputs": [
    {
     "data": {
      "text/plain": [
       "'0.0 / 0.05'"
      ]
     },
     "metadata": {},
     "output_type": "display_data"
    }
   ],
   "source": [
    "vmin_val = 0.0\n",
    "vmax_val = max(0.05, _corr_mat.quantile(0.99))\n",
    "display(f\"{vmin_val} / {vmax_val}\")"
   ]
  },
  {
   "cell_type": "code",
   "execution_count": 64,
   "id": "dc41b70b-5bcc-4d9e-9f33-a22c4a94dab5",
   "metadata": {
    "execution": {
     "iopub.execute_input": "2022-08-09T13:56:13.911865Z",
     "iopub.status.busy": "2022-08-09T13:56:13.911707Z",
     "iopub.status.idle": "2022-08-09T13:56:39.155394Z",
     "shell.execute_reply": "2022-08-09T13:56:39.154894Z"
    },
    "papermill": {
     "duration": 25.259744,
     "end_time": "2022-08-09T13:56:39.156825",
     "exception": false,
     "start_time": "2022-08-09T13:56:13.897081",
     "status": "completed"
    },
    "tags": []
   },
   "outputs": [
    {
     "data": {
      "text/plain": [
       "Text(0.5, 1.0, 'Gene correlations in all chromosomes')"
      ]
     },
     "execution_count": 64,
     "metadata": {},
     "output_type": "execute_result"
    },
    {
     "data": {
      "image/png": "[encoded data removed]",
      "text/plain": [
       "<Figure size 720x720 with 2 Axes>"
      ]
     },
     "metadata": {
      "needs_background": "light"
     },
     "output_type": "display_data"
    }
   ],
   "source": [
    "f, ax = plt.subplots(figsize=(10, 10))\n",
    "sns.heatmap(\n",
    "    full_corr_matrix,\n",
    "    xticklabels=False,\n",
    "    yticklabels=False,\n",
    "    square=True,\n",
    "    vmin=vmin_val,\n",
    "    vmax=vmax_val,\n",
    "    cmap=\"rocket_r\",\n",
    "    ax=ax,\n",
    ")\n",
    "ax.set_title(\"Gene correlations in all chromosomes\")"
   ]
  },
  {
   "cell_type": "markdown",
   "id": "5a1b7488-1c3b-4c8b-b619-3b063b3f83c6",
   "metadata": {
    "papermill": {
     "duration": 0.014638,
     "end_time": "2022-08-09T13:56:39.186302",
     "exception": false,
     "start_time": "2022-08-09T13:56:39.171664",
     "status": "completed"
    },
    "tags": []
   },
   "source": [
    "## On nonzero correlations"
   ]
  },
  {
   "cell_type": "code",
   "execution_count": 65,
   "id": "0a07752e-b62f-4f01-af30-847efe9bba54",
   "metadata": {
    "execution": {
     "iopub.execute_input": "2022-08-09T13:56:39.216495Z",
     "iopub.status.busy": "2022-08-09T13:56:39.216286Z",
     "iopub.status.idle": "2022-08-09T13:56:39.263747Z",
     "shell.execute_reply": "2022-08-09T13:56:39.263029Z"
    },
    "papermill": {
     "duration": 0.064334,
     "end_time": "2022-08-09T13:56:39.265214",
     "exception": false,
     "start_time": "2022-08-09T13:56:39.200880",
     "status": "completed"
    },
    "tags": []
   },
   "outputs": [],
   "source": [
    "nonzero_corrs = full_corr_matrix_flat[full_corr_matrix_flat > 0.0]"
   ]
  },
  {
   "cell_type": "code",
   "execution_count": 66,
   "id": "3b509dde-e4ec-4e14-a7d5-09e3fe584027",
   "metadata": {
    "execution": {
     "iopub.execute_input": "2022-08-09T13:56:39.297788Z",
     "iopub.status.busy": "2022-08-09T13:56:39.297598Z",
     "iopub.status.idle": "2022-08-09T13:56:39.312330Z",
     "shell.execute_reply": "2022-08-09T13:56:39.311747Z"
    },
    "papermill": {
     "duration": 0.032314,
     "end_time": "2022-08-09T13:56:39.313610",
     "exception": false,
     "start_time": "2022-08-09T13:56:39.281296",
     "status": "completed"
    },
    "tags": []
   },
   "outputs": [],
   "source": [
    "_corr_mat = nonzero_corrs"
   ]
  },
  {
   "cell_type": "code",
   "execution_count": 67,
   "id": "427cd6b6-411c-4bce-9129-f7e128c9992f",
   "metadata": {
    "execution": {
     "iopub.execute_input": "2022-08-09T13:56:39.345140Z",
     "iopub.status.busy": "2022-08-09T13:56:39.344934Z",
     "iopub.status.idle": "2022-08-09T13:56:39.360627Z",
     "shell.execute_reply": "2022-08-09T13:56:39.360092Z"
    },
    "papermill": {
     "duration": 0.032959,
     "end_time": "2022-08-09T13:56:39.361827",
     "exception": false,
     "start_time": "2022-08-09T13:56:39.328868",
     "status": "completed"
    },
    "tags": []
   },
   "outputs": [
    {
     "data": {
      "text/plain": [
       "(1175426,)"
      ]
     },
     "execution_count": 67,
     "metadata": {},
     "output_type": "execute_result"
    }
   ],
   "source": [
    "_corr_mat.shape"
   ]
  },
  {
   "cell_type": "code",
   "execution_count": 68,
   "id": "684ee3aa-d1bf-4f39-883e-1c9cda28f332",
   "metadata": {
    "execution": {
     "iopub.execute_input": "2022-08-09T13:56:39.398474Z",
     "iopub.status.busy": "2022-08-09T13:56:39.398149Z",
     "iopub.status.idle": "2022-08-09T13:56:39.417853Z",
     "shell.execute_reply": "2022-08-09T13:56:39.417210Z"
    },
    "papermill": {
     "duration": 0.041514,
     "end_time": "2022-08-09T13:56:39.419314",
     "exception": false,
     "start_time": "2022-08-09T13:56:39.377800",
     "status": "completed"
    },
    "tags": []
   },
   "outputs": [
    {
     "data": {
      "text/plain": [
       "ENSG00000188290  ENSG00000188976    0.115011\n",
       "ENSG00000187608  ENSG00000188976    0.173138\n",
       "                 ENSG00000188290    0.681368\n",
       "ENSG00000188157  ENSG00000188976    0.056096\n",
       "                 ENSG00000188290    0.360588\n",
       "dtype: float64"
      ]
     },
     "execution_count": 68,
     "metadata": {},
     "output_type": "execute_result"
    }
   ],
   "source": [
    "_corr_mat.head()"
   ]
  },
  {
   "cell_type": "code",
   "execution_count": 69,
   "id": "87467e53-a225-48f9-86ef-d00978925faa",
   "metadata": {
    "execution": {
     "iopub.execute_input": "2022-08-09T13:56:39.453431Z",
     "iopub.status.busy": "2022-08-09T13:56:39.453238Z",
     "iopub.status.idle": "2022-08-09T13:56:39.510247Z",
     "shell.execute_reply": "2022-08-09T13:56:39.509699Z"
    },
    "papermill": {
     "duration": 0.07463,
     "end_time": "2022-08-09T13:56:39.511592",
     "exception": false,
     "start_time": "2022-08-09T13:56:39.436962",
     "status": "completed"
    },
    "tags": []
   },
   "outputs": [
    {
     "data": {
      "text/plain": [
       "count                 1175426.0\n",
       "mean       0.010263282279258575\n",
       "std        0.028468364868961635\n",
       "min      1.6978018811390105e-11\n",
       "25%        0.004971796658687578\n",
       "50%        0.007722696466499894\n",
       "75%         0.01089000506713962\n",
       "max                         1.0\n",
       "dtype: object"
      ]
     },
     "execution_count": 69,
     "metadata": {},
     "output_type": "execute_result"
    }
   ],
   "source": [
    "_corr_mat.describe().apply(str)"
   ]
  },
  {
   "cell_type": "code",
   "execution_count": 70,
   "id": "ece1b4b2-1764-4893-bb0e-837f5d1a6677",
   "metadata": {
    "execution": {
     "iopub.execute_input": "2022-08-09T13:56:39.544332Z",
     "iopub.status.busy": "2022-08-09T13:56:39.544125Z",
     "iopub.status.idle": "2022-08-09T13:56:39.599055Z",
     "shell.execute_reply": "2022-08-09T13:56:39.598378Z"
    },
    "papermill": {
     "duration": 0.07272,
     "end_time": "2022-08-09T13:56:39.600498",
     "exception": false,
     "start_time": "2022-08-09T13:56:39.527778",
     "status": "completed"
    },
    "tags": []
   },
   "outputs": [
    {
     "data": {
      "text/plain": [
       "0.00    1.697802e-11\n",
       "0.05    1.899624e-03\n",
       "0.10    2.903302e-03\n",
       "0.15    3.687280e-03\n",
       "0.20    4.357617e-03\n",
       "0.25    4.971797e-03\n",
       "0.30    5.542054e-03\n",
       "0.35    6.096974e-03\n",
       "0.40    6.639901e-03\n",
       "0.45    7.174698e-03\n",
       "0.50    7.722696e-03\n",
       "0.55    8.281837e-03\n",
       "0.60    8.862360e-03\n",
       "0.65    9.483185e-03\n",
       "0.70    1.014831e-02\n",
       "0.75    1.089001e-02\n",
       "0.80    1.174480e-02\n",
       "0.85    1.278800e-02\n",
       "0.90    1.418488e-02\n",
       "0.95    1.655086e-02\n",
       "dtype: float64"
      ]
     },
     "metadata": {},
     "output_type": "display_data"
    }
   ],
   "source": [
    "display(_corr_mat.quantile(np.arange(0, 1, 0.05)))"
   ]
  },
  {
   "cell_type": "code",
   "execution_count": 71,
   "id": "3543f16e-1453-44e5-ab68-0d03450e559b",
   "metadata": {
    "execution": {
     "iopub.execute_input": "2022-08-09T13:56:39.631512Z",
     "iopub.status.busy": "2022-08-09T13:56:39.631333Z",
     "iopub.status.idle": "2022-08-09T13:56:39.666174Z",
     "shell.execute_reply": "2022-08-09T13:56:39.665712Z"
    },
    "papermill": {
     "duration": 0.051988,
     "end_time": "2022-08-09T13:56:39.667372",
     "exception": false,
     "start_time": "2022-08-09T13:56:39.615384",
     "status": "completed"
    },
    "tags": []
   },
   "outputs": [
    {
     "data": {
      "text/plain": [
       "0.0000    1.697802e-11\n",
       "0.0001    1.371332e-06\n",
       "0.0002    4.637222e-06\n",
       "0.0003    9.346197e-06\n",
       "0.0004    1.450603e-05\n",
       "0.0005    1.939051e-05\n",
       "0.0006    2.594216e-05\n",
       "0.0007    3.307698e-05\n",
       "0.0008    3.995087e-05\n",
       "0.0009    4.734229e-05\n",
       "dtype: float64"
      ]
     },
     "metadata": {},
     "output_type": "display_data"
    }
   ],
   "source": [
    "display(_corr_mat.quantile(np.arange(0, 0.001, 0.0001)))"
   ]
  },
  {
   "cell_type": "code",
   "execution_count": 72,
   "id": "bb34d782-9aaa-48ce-b526-8323522166a3",
   "metadata": {
    "execution": {
     "iopub.execute_input": "2022-08-09T13:56:39.699310Z",
     "iopub.status.busy": "2022-08-09T13:56:39.699089Z",
     "iopub.status.idle": "2022-08-09T13:56:39.718906Z",
     "shell.execute_reply": "2022-08-09T13:56:39.718384Z"
    },
    "papermill": {
     "duration": 0.037239,
     "end_time": "2022-08-09T13:56:39.720235",
     "exception": false,
     "start_time": "2022-08-09T13:56:39.682996",
     "status": "completed"
    },
    "tags": []
   },
   "outputs": [
    {
     "data": {
      "text/plain": [
       "0.9990    0.497110\n",
       "0.9991    0.514762\n",
       "0.9992    0.536359\n",
       "0.9993    0.560395\n",
       "0.9994    0.581126\n",
       "0.9995    0.611738\n",
       "0.9996    0.640323\n",
       "0.9997    0.671240\n",
       "0.9998    0.721949\n",
       "0.9999    0.803545\n",
       "1.0000    1.000000\n",
       "dtype: float64"
      ]
     },
     "metadata": {},
     "output_type": "display_data"
    }
   ],
   "source": [
    "display(_corr_mat.quantile(np.arange(0.999, 1.0, 0.0001)))"
   ]
  },
  {
   "cell_type": "markdown",
   "id": "fd4ce75c-e759-48b5-9b2b-584438302fff",
   "metadata": {
    "papermill": {
     "duration": 0.015767,
     "end_time": "2022-08-09T13:56:39.752379",
     "exception": false,
     "start_time": "2022-08-09T13:56:39.736612",
     "status": "completed"
    },
    "tags": []
   },
   "source": [
    "### Plot: distribution"
   ]
  },
  {
   "cell_type": "code",
   "execution_count": 73,
   "id": "7da6aa50-81da-4f75-9d54-4fad6a3fb5a5",
   "metadata": {
    "execution": {
     "iopub.execute_input": "2022-08-09T13:56:39.783439Z",
     "iopub.status.busy": "2022-08-09T13:56:39.783259Z",
     "iopub.status.idle": "2022-08-09T13:56:55.550172Z",
     "shell.execute_reply": "2022-08-09T13:56:55.549242Z"
    },
    "papermill": {
     "duration": 15.785016,
     "end_time": "2022-08-09T13:56:55.552443",
     "exception": false,
     "start_time": "2022-08-09T13:56:39.767427",
     "status": "completed"
    },
    "tags": []
   },
   "outputs": [
    {
     "data": {
      "image/png": "[encoded data removed]",
      "text/plain": [
       "<Figure size 504x504 with 1 Axes>"
      ]
     },
     "metadata": {
      "needs_background": "light"
     },
     "output_type": "display_data"
    }
   ],
   "source": [
    "with sns.plotting_context(\"paper\", font_scale=1.5):\n",
    "    g = sns.displot(_corr_mat, kde=True, height=7)\n",
    "    g.ax.set_title(\"Distribution of gene correlation values in all chromosomes\")"
   ]
  },
  {
   "cell_type": "markdown",
   "id": "e34db3c2",
   "metadata": {
    "papermill": {
     "duration": 0.019822,
     "end_time": "2022-08-09T13:56:55.596468",
     "exception": false,
     "start_time": "2022-08-09T13:56:55.576646",
     "status": "completed"
    },
    "tags": []
   },
   "source": [
    "# Save"
   ]
  },
  {
   "cell_type": "markdown",
   "id": "510183a9",
   "metadata": {
    "papermill": {
     "duration": 0.016692,
     "end_time": "2022-08-09T13:56:55.632146",
     "exception": false,
     "start_time": "2022-08-09T13:56:55.615454",
     "status": "completed"
    },
    "tags": []
   },
   "source": [
    "## With ensemble ids"
   ]
  },
  {
   "cell_type": "markdown",
   "id": "7f9816a6",
   "metadata": {
    "papermill": {
     "duration": 0.015186,
     "end_time": "2022-08-09T13:56:55.662916",
     "exception": false,
     "start_time": "2022-08-09T13:56:55.647730",
     "status": "completed"
    },
    "tags": []
   },
   "source": [
    "## With gene symbols"
   ]
  },
  {
   "cell_type": "code",
   "execution_count": 74,
   "id": "2f174f95-2be3-4b63-95fb-451413ad361d",
   "metadata": {
    "execution": {
     "iopub.execute_input": "2022-08-09T13:56:55.695208Z",
     "iopub.status.busy": "2022-08-09T13:56:55.694574Z",
     "iopub.status.idle": "2022-08-09T13:56:55.710291Z",
     "shell.execute_reply": "2022-08-09T13:56:55.709591Z"
    },
    "papermill": {
     "duration": 0.033124,
     "end_time": "2022-08-09T13:56:55.711516",
     "exception": false,
     "start_time": "2022-08-09T13:56:55.678392",
     "status": "completed"
    },
    "tags": []
   },
   "outputs": [
    {
     "data": {
      "text/plain": [
       "PosixPath('/opt/data/results/gls/gene_corrs/cohorts/1000g_eur/1000g/mashr/gene_corrs-symbols.pkl')"
      ]
     },
     "metadata": {},
     "output_type": "display_data"
    }
   ],
   "source": [
    "output_file = OUTPUT_DIR_BASE / \"gene_corrs-symbols.pkl\"\n",
    "display(output_file)"
   ]
  },
  {
   "cell_type": "code",
   "execution_count": 75,
   "id": "1436a25d",
   "metadata": {
    "execution": {
     "iopub.execute_input": "2022-08-09T13:56:55.744724Z",
     "iopub.status.busy": "2022-08-09T13:56:55.744502Z",
     "iopub.status.idle": "2022-08-09T13:56:56.084459Z",
     "shell.execute_reply": "2022-08-09T13:56:56.083799Z"
    },
    "papermill": {
     "duration": 0.35808,
     "end_time": "2022-08-09T13:56:56.085819",
     "exception": false,
     "start_time": "2022-08-09T13:56:55.727739",
     "status": "completed"
    },
    "tags": []
   },
   "outputs": [],
   "source": [
    "gene_corrs = full_corr_matrix.rename(\n",
    "    index=Gene.GENE_ID_TO_NAME_MAP, columns=Gene.GENE_ID_TO_NAME_MAP\n",
    ")"
   ]
  },
  {
   "cell_type": "code",
   "execution_count": 76,
   "id": "90794835-3f5b-49d7-aec8-94b0e6a1ba06",
   "metadata": {
    "execution": {
     "iopub.execute_input": "2022-08-09T13:56:56.117909Z",
     "iopub.status.busy": "2022-08-09T13:56:56.117716Z",
     "iopub.status.idle": "2022-08-09T13:56:56.202519Z",
     "shell.execute_reply": "2022-08-09T13:56:56.201851Z"
    },
    "papermill": {
     "duration": 0.102754,
     "end_time": "2022-08-09T13:56:56.204150",
     "exception": false,
     "start_time": "2022-08-09T13:56:56.101396",
     "status": "completed"
    },
    "tags": []
   },
   "outputs": [],
   "source": [
    "assert not gene_corrs.isna().any(None)\n",
    "assert not np.isinf(gene_corrs.to_numpy()).any()\n",
    "assert not np.iscomplex(gene_corrs.to_numpy()).any()"
   ]
  },
  {
   "cell_type": "code",
   "execution_count": 77,
   "id": "b2014f92",
   "metadata": {
    "execution": {
     "iopub.execute_input": "2022-08-09T13:56:56.240472Z",
     "iopub.status.busy": "2022-08-09T13:56:56.240312Z",
     "iopub.status.idle": "2022-08-09T13:56:56.256565Z",
     "shell.execute_reply": "2022-08-09T13:56:56.255870Z"
    },
    "papermill": {
     "duration": 0.035229,
     "end_time": "2022-08-09T13:56:56.257972",
     "exception": false,
     "start_time": "2022-08-09T13:56:56.222743",
     "status": "completed"
    },
    "tags": []
   },
   "outputs": [],
   "source": [
    "assert gene_corrs.index.is_unique\n",
    "assert gene_corrs.columns.is_unique"
   ]
  },
  {
   "cell_type": "code",
   "execution_count": 78,
   "id": "d9e18eab",
   "metadata": {
    "execution": {
     "iopub.execute_input": "2022-08-09T13:56:56.291312Z",
     "iopub.status.busy": "2022-08-09T13:56:56.291103Z",
     "iopub.status.idle": "2022-08-09T13:56:56.306475Z",
     "shell.execute_reply": "2022-08-09T13:56:56.306013Z"
    },
    "papermill": {
     "duration": 0.033073,
     "end_time": "2022-08-09T13:56:56.307710",
     "exception": false,
     "start_time": "2022-08-09T13:56:56.274637",
     "status": "completed"
    },
    "tags": []
   },
   "outputs": [
    {
     "data": {
      "text/plain": [
       "(6442, 6442)"
      ]
     },
     "execution_count": 78,
     "metadata": {},
     "output_type": "execute_result"
    }
   ],
   "source": [
    "gene_corrs.shape"
   ]
  },
  {
   "cell_type": "code",
   "execution_count": 79,
   "id": "44e83e62",
   "metadata": {
    "execution": {
     "iopub.execute_input": "2022-08-09T13:56:56.340845Z",
     "iopub.status.busy": "2022-08-09T13:56:56.340641Z",
     "iopub.status.idle": "2022-08-09T13:56:56.368881Z",
     "shell.execute_reply": "2022-08-09T13:56:56.368389Z"
    },
    "papermill": {
     "duration": 0.045968,
     "end_time": "2022-08-09T13:56:56.370145",
     "exception": false,
     "start_time": "2022-08-09T13:56:56.324177",
     "status": "completed"
    },
    "tags": []
   },
   "outputs": [
    {
     "data": {
      "text/html": [
       "<div>\n",
       "<style scoped>\n",
       "    .dataframe tbody tr th:only-of-type {\n",
       "        vertical-align: middle;\n",
       "    }\n",
       "\n",
       "    .dataframe tbody tr th {\n",
       "        vertical-align: top;\n",
       "    }\n",
       "\n",
       "    .dataframe thead th {\n",
       "        text-align: right;\n",
       "    }\n",
       "</style>\n",
       "<table border=\"1\" class=\"dataframe\">\n",
       "  <thead>\n",
       "    <tr style=\"text-align: right;\">\n",
       "      <th></th>\n",
       "      <th>NOC2L</th>\n",
       "      <th>HES4</th>\n",
       "      <th>ISG15</th>\n",
       "      <th>AGRN</th>\n",
       "      <th>TNFRSF18</th>\n",
       "      <th>TNFRSF4</th>\n",
       "      <th>B3GALT6</th>\n",
       "      <th>UBE2J2</th>\n",
       "      <th>ACAP3</th>\n",
       "      <th>TAS1R3</th>\n",
       "      <th>...</th>\n",
       "      <th>PLXNB2</th>\n",
       "      <th>ADM2</th>\n",
       "      <th>MIOX</th>\n",
       "      <th>SCO2</th>\n",
       "      <th>TYMP</th>\n",
       "      <th>CPT1B</th>\n",
       "      <th>CHKB</th>\n",
       "      <th>MAPK8IP2</th>\n",
       "      <th>ARSA</th>\n",
       "      <th>SHANK3</th>\n",
       "    </tr>\n",
       "  </thead>\n",
       "  <tbody>\n",
       "    <tr>\n",
       "      <th>NOC2L</th>\n",
       "      <td>1.000000</td>\n",
       "      <td>0.115011</td>\n",
       "      <td>0.173138</td>\n",
       "      <td>0.056096</td>\n",
       "      <td>0.008032</td>\n",
       "      <td>0.008727</td>\n",
       "      <td>0.006797</td>\n",
       "      <td>0.004533</td>\n",
       "      <td>0.007350</td>\n",
       "      <td>0.010391</td>\n",
       "      <td>...</td>\n",
       "      <td>0.0</td>\n",
       "      <td>0.0</td>\n",
       "      <td>0.0</td>\n",
       "      <td>0.0</td>\n",
       "      <td>0.0</td>\n",
       "      <td>0.0</td>\n",
       "      <td>0.0</td>\n",
       "      <td>0.0</td>\n",
       "      <td>0.0</td>\n",
       "      <td>0.0</td>\n",
       "    </tr>\n",
       "    <tr>\n",
       "      <th>HES4</th>\n",
       "      <td>0.115011</td>\n",
       "      <td>1.000000</td>\n",
       "      <td>0.681368</td>\n",
       "      <td>0.360588</td>\n",
       "      <td>0.011545</td>\n",
       "      <td>0.010729</td>\n",
       "      <td>0.003577</td>\n",
       "      <td>0.010230</td>\n",
       "      <td>0.010747</td>\n",
       "      <td>0.008769</td>\n",
       "      <td>...</td>\n",
       "      <td>0.0</td>\n",
       "      <td>0.0</td>\n",
       "      <td>0.0</td>\n",
       "      <td>0.0</td>\n",
       "      <td>0.0</td>\n",
       "      <td>0.0</td>\n",
       "      <td>0.0</td>\n",
       "      <td>0.0</td>\n",
       "      <td>0.0</td>\n",
       "      <td>0.0</td>\n",
       "    </tr>\n",
       "    <tr>\n",
       "      <th>ISG15</th>\n",
       "      <td>0.173138</td>\n",
       "      <td>0.681368</td>\n",
       "      <td>1.000000</td>\n",
       "      <td>0.381394</td>\n",
       "      <td>0.011774</td>\n",
       "      <td>0.012527</td>\n",
       "      <td>0.003754</td>\n",
       "      <td>0.012096</td>\n",
       "      <td>0.012679</td>\n",
       "      <td>0.010442</td>\n",
       "      <td>...</td>\n",
       "      <td>0.0</td>\n",
       "      <td>0.0</td>\n",
       "      <td>0.0</td>\n",
       "      <td>0.0</td>\n",
       "      <td>0.0</td>\n",
       "      <td>0.0</td>\n",
       "      <td>0.0</td>\n",
       "      <td>0.0</td>\n",
       "      <td>0.0</td>\n",
       "      <td>0.0</td>\n",
       "    </tr>\n",
       "    <tr>\n",
       "      <th>AGRN</th>\n",
       "      <td>0.056096</td>\n",
       "      <td>0.360588</td>\n",
       "      <td>0.381394</td>\n",
       "      <td>1.000000</td>\n",
       "      <td>0.013005</td>\n",
       "      <td>0.015775</td>\n",
       "      <td>0.006184</td>\n",
       "      <td>0.006813</td>\n",
       "      <td>0.010775</td>\n",
       "      <td>0.009189</td>\n",
       "      <td>...</td>\n",
       "      <td>0.0</td>\n",
       "      <td>0.0</td>\n",
       "      <td>0.0</td>\n",
       "      <td>0.0</td>\n",
       "      <td>0.0</td>\n",
       "      <td>0.0</td>\n",
       "      <td>0.0</td>\n",
       "      <td>0.0</td>\n",
       "      <td>0.0</td>\n",
       "      <td>0.0</td>\n",
       "    </tr>\n",
       "    <tr>\n",
       "      <th>TNFRSF18</th>\n",
       "      <td>0.008032</td>\n",
       "      <td>0.011545</td>\n",
       "      <td>0.011774</td>\n",
       "      <td>0.013005</td>\n",
       "      <td>1.000000</td>\n",
       "      <td>0.356676</td>\n",
       "      <td>0.454010</td>\n",
       "      <td>0.137643</td>\n",
       "      <td>0.200340</td>\n",
       "      <td>0.093210</td>\n",
       "      <td>...</td>\n",
       "      <td>0.0</td>\n",
       "      <td>0.0</td>\n",
       "      <td>0.0</td>\n",
       "      <td>0.0</td>\n",
       "      <td>0.0</td>\n",
       "      <td>0.0</td>\n",
       "      <td>0.0</td>\n",
       "      <td>0.0</td>\n",
       "      <td>0.0</td>\n",
       "      <td>0.0</td>\n",
       "    </tr>\n",
       "  </tbody>\n",
       "</table>\n",
       "<p>5 rows × 6442 columns</p>\n",
       "</div>"
      ],
      "text/plain": [
       "             NOC2L      HES4     ISG15      AGRN  TNFRSF18   TNFRSF4  \\\n",
       "NOC2L     1.000000  0.115011  0.173138  0.056096  0.008032  0.008727   \n",
       "HES4      0.115011  1.000000  0.681368  0.360588  0.011545  0.010729   \n",
       "ISG15     0.173138  0.681368  1.000000  0.381394  0.011774  0.012527   \n",
       "AGRN      0.056096  0.360588  0.381394  1.000000  0.013005  0.015775   \n",
       "TNFRSF18  0.008032  0.011545  0.011774  0.013005  1.000000  0.356676   \n",
       "\n",
       "           B3GALT6    UBE2J2     ACAP3    TAS1R3  ...  PLXNB2  ADM2  MIOX  \\\n",
       "NOC2L     0.006797  0.004533  0.007350  0.010391  ...     0.0   0.0   0.0   \n",
       "HES4      0.003577  0.010230  0.010747  0.008769  ...     0.0   0.0   0.0   \n",
       "ISG15     0.003754  0.012096  0.012679  0.010442  ...     0.0   0.0   0.0   \n",
       "AGRN      0.006184  0.006813  0.010775  0.009189  ...     0.0   0.0   0.0   \n",
       "TNFRSF18  0.454010  0.137643  0.200340  0.093210  ...     0.0   0.0   0.0   \n",
       "\n",
       "          SCO2  TYMP  CPT1B  CHKB  MAPK8IP2  ARSA  SHANK3  \n",
       "NOC2L      0.0   0.0    0.0   0.0       0.0   0.0     0.0  \n",
       "HES4       0.0   0.0    0.0   0.0       0.0   0.0     0.0  \n",
       "ISG15      0.0   0.0    0.0   0.0       0.0   0.0     0.0  \n",
       "AGRN       0.0   0.0    0.0   0.0       0.0   0.0     0.0  \n",
       "TNFRSF18   0.0   0.0    0.0   0.0       0.0   0.0     0.0  \n",
       "\n",
       "[5 rows x 6442 columns]"
      ]
     },
     "execution_count": 79,
     "metadata": {},
     "output_type": "execute_result"
    }
   ],
   "source": [
    "gene_corrs.head()"
   ]
  },
  {
   "cell_type": "code",
   "execution_count": 80,
   "id": "04ec6c52",
   "metadata": {
    "execution": {
     "iopub.execute_input": "2022-08-09T13:56:56.403922Z",
     "iopub.status.busy": "2022-08-09T13:56:56.403705Z",
     "iopub.status.idle": "2022-08-09T13:56:57.237794Z",
     "shell.execute_reply": "2022-08-09T13:56:57.237108Z"
    },
    "papermill": {
     "duration": 0.852695,
     "end_time": "2022-08-09T13:56:57.239393",
     "exception": false,
     "start_time": "2022-08-09T13:56:56.386698",
     "status": "completed"
    },
    "tags": []
   },
   "outputs": [],
   "source": [
    "gene_corrs.to_pickle(output_file)"
   ]
  },
  {
   "cell_type": "code",
   "execution_count": null,
   "id": "38cf09b7",
   "metadata": {
    "papermill": {
     "duration": 0.05944,
     "end_time": "2022-08-09T13:56:57.323876",
     "exception": false,
     "start_time": "2022-08-09T13:56:57.264436",
     "status": "completed"
    },
    "tags": []
   },
   "outputs": [],
   "source": []
  }
 ],
 "metadata": {
  "jupytext": {
   "cell_metadata_filter": "all,-execution,-papermill,-trusted",
   "formats": "ipynb,py//py:percent"
  },
  "kernelspec": {
   "display_name": "Python 3 (ipykernel)",
   "language": "python",
   "name": "python3"
  },
  "language_info": {
   "codemirror_mode": {
    "name": "ipython",
    "version": 3
   },
   "file_extension": ".py",
   "mimetype": "text/x-python",
   "name": "python",
   "nbconvert_exporter": "python",
   "pygments_lexer": "ipython3",
   "version": "3.8.13"
  },
  "papermill": {
   "default_parameters": {},
   "duration": 175.071689,
   "end_time": "2022-08-09T13:56:58.599976",
   "environment_variables": {},
   "exception": null,
   "input_path": "nbs/15_gsa_gls/15-postprocess_gene_expr_correlations.ipynb",
   "output_path": "nbs/15_gsa_gls/gene_corrs/cohorts/1000g_eur/1000g/mashr/15-postprocess_gene_expr_correlations.ipynb",
   "parameters": {
    "COHORT_NAME": "1000G_EUR",
    "EQTL_MODEL": "MASHR",
    "REFERENCE_PANEL": "1000G"
   },
   "start_time": "2022-08-09T13:54:03.528287",
   "version": "2.2.2"
  }
 },
 "nbformat": 4,
 "nbformat_minor": 5
}
