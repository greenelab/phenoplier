{
 "cells": [
  {
   "cell_type": "markdown",
   "id": "5ef66977",
   "metadata": {
    "papermill": {
     "duration": 0.03479,
     "end_time": "2022-08-03T02:23:17.651784",
     "exception": false,
     "start_time": "2022-08-03T02:23:17.616994",
     "status": "completed"
    },
    "tags": []
   },
   "source": [
    "# Description"
   ]
  },
  {
   "cell_type": "markdown",
   "id": "658d4f7c",
   "metadata": {
    "papermill": {
     "duration": 0.010087,
     "end_time": "2022-08-03T02:23:17.676363",
     "exception": false,
     "start_time": "2022-08-03T02:23:17.666276",
     "status": "completed"
    },
    "tags": []
   },
   "source": [
    "(Please, take a look at the README.md file in this directory for instructions on how to run this notebook)\n",
    "\n",
    "This notebook reads all gene correlations across all chromosomes and computes a single correlation matrix by assembling a big correlation matrix with all genes."
   ]
  },
  {
   "cell_type": "markdown",
   "id": "60fa4530",
   "metadata": {
    "papermill": {
     "duration": 0.010833,
     "end_time": "2022-08-03T02:23:17.723021",
     "exception": false,
     "start_time": "2022-08-03T02:23:17.712188",
     "status": "completed"
    },
    "tags": []
   },
   "source": [
    "# Modules"
   ]
  },
  {
   "cell_type": "code",
   "execution_count": 1,
   "id": "d70b0833",
   "metadata": {
    "execution": {
     "iopub.execute_input": "2022-08-03T02:23:17.744226Z",
     "iopub.status.busy": "2022-08-03T02:23:17.744011Z",
     "iopub.status.idle": "2022-08-03T02:23:17.759531Z",
     "shell.execute_reply": "2022-08-03T02:23:17.759034Z"
    },
    "papermill": {
     "duration": 0.027857,
     "end_time": "2022-08-03T02:23:17.761048",
     "exception": false,
     "start_time": "2022-08-03T02:23:17.733191",
     "status": "completed"
    },
    "tags": []
   },
   "outputs": [],
   "source": [
    "%load_ext autoreload\n",
    "%autoreload 2"
   ]
  },
  {
   "cell_type": "code",
   "execution_count": 2,
   "id": "6b2f9ca0",
   "metadata": {
    "execution": {
     "iopub.execute_input": "2022-08-03T02:23:17.779927Z",
     "iopub.status.busy": "2022-08-03T02:23:17.779771Z",
     "iopub.status.idle": "2022-08-03T02:23:18.596840Z",
     "shell.execute_reply": "2022-08-03T02:23:18.596123Z"
    },
    "papermill": {
     "duration": 0.827871,
     "end_time": "2022-08-03T02:23:18.598292",
     "exception": false,
     "start_time": "2022-08-03T02:23:17.770421",
     "status": "completed"
    },
    "tags": []
   },
   "outputs": [],
   "source": [
    "import pickle\n",
    "\n",
    "import numpy as np\n",
    "from scipy.spatial.distance import squareform\n",
    "import pandas as pd\n",
    "import matplotlib.pyplot as plt\n",
    "import seaborn as sns\n",
    "\n",
    "import conf\n",
    "from entity import Gene"
   ]
  },
  {
   "cell_type": "markdown",
   "id": "5b96e797",
   "metadata": {
    "papermill": {
     "duration": 0.008504,
     "end_time": "2022-08-03T02:23:18.616031",
     "exception": false,
     "start_time": "2022-08-03T02:23:18.607527",
     "status": "completed"
    },
    "tags": []
   },
   "source": [
    "# Settings"
   ]
  },
  {
   "cell_type": "code",
   "execution_count": 3,
   "id": "4fc1b6a0",
   "metadata": {
    "execution": {
     "iopub.execute_input": "2022-08-03T02:23:18.633681Z",
     "iopub.status.busy": "2022-08-03T02:23:18.633476Z",
     "iopub.status.idle": "2022-08-03T02:23:18.647829Z",
     "shell.execute_reply": "2022-08-03T02:23:18.647311Z"
    },
    "papermill": {
     "duration": 0.024634,
     "end_time": "2022-08-03T02:23:18.649137",
     "exception": false,
     "start_time": "2022-08-03T02:23:18.624503",
     "status": "completed"
    },
    "tags": [
     "parameters"
    ]
   },
   "outputs": [],
   "source": [
    "# a cohort name (it could be something like UK_BIOBANK, etc)\n",
    "COHORT_NAME = None\n",
    "\n",
    "# reference panel such as 1000G or GTEX_V8\n",
    "REFERENCE_PANEL = None\n",
    "\n",
    "# predictions models such as MASHR or ELASTIC_NET\n",
    "EQTL_MODEL = None"
   ]
  },
  {
   "cell_type": "code",
   "execution_count": 4,
   "id": "bb9f8fed",
   "metadata": {
    "execution": {
     "iopub.execute_input": "2022-08-03T02:23:18.666966Z",
     "iopub.status.busy": "2022-08-03T02:23:18.666778Z",
     "iopub.status.idle": "2022-08-03T02:23:18.680630Z",
     "shell.execute_reply": "2022-08-03T02:23:18.680138Z"
    },
    "papermill": {
     "duration": 0.023985,
     "end_time": "2022-08-03T02:23:18.681846",
     "exception": false,
     "start_time": "2022-08-03T02:23:18.657861",
     "status": "completed"
    },
    "tags": [
     "injected-parameters"
    ]
   },
   "outputs": [],
   "source": [
    "# Parameters\n",
    "COHORT_NAME = \"1000G_EUR\"\n",
    "REFERENCE_PANEL = \"1000G\"\n",
    "EQTL_MODEL = \"MASHR\"\n"
   ]
  },
  {
   "cell_type": "code",
   "execution_count": 5,
   "id": "6dba5c90-40a4-4a62-899e-1711ab4e40bb",
   "metadata": {
    "execution": {
     "iopub.execute_input": "2022-08-03T02:23:18.699984Z",
     "iopub.status.busy": "2022-08-03T02:23:18.699819Z",
     "iopub.status.idle": "2022-08-03T02:23:18.716575Z",
     "shell.execute_reply": "2022-08-03T02:23:18.716030Z"
    },
    "papermill": {
     "duration": 0.027272,
     "end_time": "2022-08-03T02:23:18.717886",
     "exception": false,
     "start_time": "2022-08-03T02:23:18.690614",
     "status": "completed"
    },
    "tags": []
   },
   "outputs": [
    {
     "data": {
      "text/plain": [
       "'Cohort name: 1000g_eur'"
      ]
     },
     "metadata": {},
     "output_type": "display_data"
    }
   ],
   "source": [
    "assert COHORT_NAME is not None and len(COHORT_NAME) > 0, \"A cohort name must be given\"\n",
    "\n",
    "COHORT_NAME = COHORT_NAME.lower()\n",
    "display(f\"Cohort name: {COHORT_NAME}\")"
   ]
  },
  {
   "cell_type": "code",
   "execution_count": 6,
   "id": "90be4359-19db-4c2d-a3ca-202674476164",
   "metadata": {
    "execution": {
     "iopub.execute_input": "2022-08-03T02:23:18.736239Z",
     "iopub.status.busy": "2022-08-03T02:23:18.736075Z",
     "iopub.status.idle": "2022-08-03T02:23:18.751407Z",
     "shell.execute_reply": "2022-08-03T02:23:18.750899Z"
    },
    "papermill": {
     "duration": 0.02591,
     "end_time": "2022-08-03T02:23:18.752687",
     "exception": false,
     "start_time": "2022-08-03T02:23:18.726777",
     "status": "completed"
    },
    "tags": []
   },
   "outputs": [
    {
     "data": {
      "text/plain": [
       "'Reference panel: 1000G'"
      ]
     },
     "metadata": {},
     "output_type": "display_data"
    }
   ],
   "source": [
    "assert (\n",
    "    REFERENCE_PANEL is not None and len(REFERENCE_PANEL) > 0\n",
    "), \"A reference panel must be given\"\n",
    "\n",
    "display(f\"Reference panel: {REFERENCE_PANEL}\")"
   ]
  },
  {
   "cell_type": "code",
   "execution_count": 7,
   "id": "d959f3f4-8f7b-4313-b3b1-37606e7250bf",
   "metadata": {
    "execution": {
     "iopub.execute_input": "2022-08-03T02:23:18.771287Z",
     "iopub.status.busy": "2022-08-03T02:23:18.771120Z",
     "iopub.status.idle": "2022-08-03T02:23:18.786382Z",
     "shell.execute_reply": "2022-08-03T02:23:18.785828Z"
    },
    "papermill": {
     "duration": 0.026085,
     "end_time": "2022-08-03T02:23:18.787725",
     "exception": false,
     "start_time": "2022-08-03T02:23:18.761640",
     "status": "completed"
    },
    "tags": []
   },
   "outputs": [
    {
     "data": {
      "text/plain": [
       "'eQTL model: MASHR) / mashr_'"
      ]
     },
     "metadata": {},
     "output_type": "display_data"
    }
   ],
   "source": [
    "assert (\n",
    "    EQTL_MODEL is not None and len(EQTL_MODEL) > 0\n",
    "), \"A prediction/eQTL model must be given\"\n",
    "\n",
    "EQTL_MODEL_FILES_PREFIX = conf.PHENOMEXCAN[\"PREDICTION_MODELS\"][f\"{EQTL_MODEL}_PREFIX\"]\n",
    "display(f\"eQTL model: {EQTL_MODEL}) / {EQTL_MODEL_FILES_PREFIX}\")"
   ]
  },
  {
   "cell_type": "code",
   "execution_count": 8,
   "id": "ac0c0705-90e4-42f8-8298-a457c7e778ff",
   "metadata": {
    "execution": {
     "iopub.execute_input": "2022-08-03T02:23:18.806888Z",
     "iopub.status.busy": "2022-08-03T02:23:18.806720Z",
     "iopub.status.idle": "2022-08-03T02:23:18.822724Z",
     "shell.execute_reply": "2022-08-03T02:23:18.822184Z"
    },
    "papermill": {
     "duration": 0.027099,
     "end_time": "2022-08-03T02:23:18.824036",
     "exception": false,
     "start_time": "2022-08-03T02:23:18.796937",
     "status": "completed"
    },
    "tags": []
   },
   "outputs": [
    {
     "data": {
      "text/plain": [
       "'Using output dir base: /opt/data/results/gls/gene_corrs/cohorts/1000g_eur/1000g/mashr'"
      ]
     },
     "metadata": {},
     "output_type": "display_data"
    }
   ],
   "source": [
    "OUTPUT_DIR_BASE = (\n",
    "    conf.RESULTS[\"GLS\"]\n",
    "    / \"gene_corrs\"\n",
    "    / \"cohorts\"\n",
    "    / COHORT_NAME\n",
    "    / REFERENCE_PANEL.lower()\n",
    "    / EQTL_MODEL.lower()\n",
    ")\n",
    "OUTPUT_DIR_BASE.mkdir(parents=True, exist_ok=True)\n",
    "\n",
    "display(f\"Using output dir base: {OUTPUT_DIR_BASE}\")"
   ]
  },
  {
   "cell_type": "code",
   "execution_count": 9,
   "id": "1afd50f7",
   "metadata": {
    "execution": {
     "iopub.execute_input": "2022-08-03T02:23:18.843417Z",
     "iopub.status.busy": "2022-08-03T02:23:18.843251Z",
     "iopub.status.idle": "2022-08-03T02:23:18.858322Z",
     "shell.execute_reply": "2022-08-03T02:23:18.857820Z"
    },
    "papermill": {
     "duration": 0.026219,
     "end_time": "2022-08-03T02:23:18.859552",
     "exception": false,
     "start_time": "2022-08-03T02:23:18.833333",
     "status": "completed"
    },
    "tags": []
   },
   "outputs": [
    {
     "data": {
      "text/plain": [
       "'Gene correlations input dir: /opt/data/results/gls/gene_corrs/cohorts/1000g_eur/1000g/mashr/by_chr'"
      ]
     },
     "metadata": {},
     "output_type": "display_data"
    }
   ],
   "source": [
    "INPUT_DIR = OUTPUT_DIR_BASE / \"by_chr\"\n",
    "\n",
    "display(f\"Gene correlations input dir: {INPUT_DIR}\")\n",
    "assert INPUT_DIR.exists()"
   ]
  },
  {
   "cell_type": "markdown",
   "id": "99ccb166",
   "metadata": {
    "papermill": {
     "duration": 0.009064,
     "end_time": "2022-08-03T02:23:18.877983",
     "exception": false,
     "start_time": "2022-08-03T02:23:18.868919",
     "status": "completed"
    },
    "tags": []
   },
   "source": [
    "# Load data"
   ]
  },
  {
   "cell_type": "markdown",
   "id": "028bdd42",
   "metadata": {
    "papermill": {
     "duration": 0.008415,
     "end_time": "2022-08-03T02:23:18.894841",
     "exception": false,
     "start_time": "2022-08-03T02:23:18.886426",
     "status": "completed"
    },
    "tags": []
   },
   "source": [
    "## Gene correlations"
   ]
  },
  {
   "cell_type": "code",
   "execution_count": 10,
   "id": "04624465",
   "metadata": {
    "execution": {
     "iopub.execute_input": "2022-08-03T02:23:18.912640Z",
     "iopub.status.busy": "2022-08-03T02:23:18.912436Z",
     "iopub.status.idle": "2022-08-03T02:23:18.927115Z",
     "shell.execute_reply": "2022-08-03T02:23:18.926603Z"
    },
    "papermill": {
     "duration": 0.025136,
     "end_time": "2022-08-03T02:23:18.928405",
     "exception": false,
     "start_time": "2022-08-03T02:23:18.903269",
     "status": "completed"
    },
    "tags": []
   },
   "outputs": [],
   "source": [
    "all_gene_corr_files = list(INPUT_DIR.glob(\"gene_corrs-chr*.pkl\"))"
   ]
  },
  {
   "cell_type": "code",
   "execution_count": 11,
   "id": "be5869e7-d0e4-4b8f-8c6d-a1c6a9419fe2",
   "metadata": {
    "execution": {
     "iopub.execute_input": "2022-08-03T02:23:18.946813Z",
     "iopub.status.busy": "2022-08-03T02:23:18.946656Z",
     "iopub.status.idle": "2022-08-03T02:23:18.960647Z",
     "shell.execute_reply": "2022-08-03T02:23:18.960170Z"
    },
    "papermill": {
     "duration": 0.024596,
     "end_time": "2022-08-03T02:23:18.961876",
     "exception": false,
     "start_time": "2022-08-03T02:23:18.937280",
     "status": "completed"
    },
    "tags": []
   },
   "outputs": [],
   "source": [
    "# sort by chromosome\n",
    "all_gene_corr_files = sorted(\n",
    "    all_gene_corr_files, key=lambda x: int(x.name.split(\"-chr\")[1].split(\".pkl\")[0])\n",
    ")"
   ]
  },
  {
   "cell_type": "code",
   "execution_count": 12,
   "id": "7d1168f5",
   "metadata": {
    "execution": {
     "iopub.execute_input": "2022-08-03T02:23:18.980381Z",
     "iopub.status.busy": "2022-08-03T02:23:18.980224Z",
     "iopub.status.idle": "2022-08-03T02:23:18.994804Z",
     "shell.execute_reply": "2022-08-03T02:23:18.994267Z"
    },
    "papermill": {
     "duration": 0.025229,
     "end_time": "2022-08-03T02:23:18.996046",
     "exception": false,
     "start_time": "2022-08-03T02:23:18.970817",
     "status": "completed"
    },
    "tags": []
   },
   "outputs": [
    {
     "data": {
      "text/plain": [
       "22"
      ]
     },
     "execution_count": 12,
     "metadata": {},
     "output_type": "execute_result"
    }
   ],
   "source": [
    "len(all_gene_corr_files)"
   ]
  },
  {
   "cell_type": "code",
   "execution_count": 13,
   "id": "39364170",
   "metadata": {
    "execution": {
     "iopub.execute_input": "2022-08-03T02:23:19.015213Z",
     "iopub.status.busy": "2022-08-03T02:23:19.015051Z",
     "iopub.status.idle": "2022-08-03T02:23:19.030428Z",
     "shell.execute_reply": "2022-08-03T02:23:19.029912Z"
    },
    "papermill": {
     "duration": 0.026387,
     "end_time": "2022-08-03T02:23:19.031681",
     "exception": false,
     "start_time": "2022-08-03T02:23:19.005294",
     "status": "completed"
    },
    "tags": []
   },
   "outputs": [
    {
     "data": {
      "text/plain": [
       "[PosixPath('/opt/data/results/gls/gene_corrs/cohorts/1000g_eur/1000g/mashr/by_chr/gene_corrs-chr1.pkl'),\n",
       " PosixPath('/opt/data/results/gls/gene_corrs/cohorts/1000g_eur/1000g/mashr/by_chr/gene_corrs-chr2.pkl'),\n",
       " PosixPath('/opt/data/results/gls/gene_corrs/cohorts/1000g_eur/1000g/mashr/by_chr/gene_corrs-chr3.pkl'),\n",
       " PosixPath('/opt/data/results/gls/gene_corrs/cohorts/1000g_eur/1000g/mashr/by_chr/gene_corrs-chr4.pkl'),\n",
       " PosixPath('/opt/data/results/gls/gene_corrs/cohorts/1000g_eur/1000g/mashr/by_chr/gene_corrs-chr5.pkl'),\n",
       " PosixPath('/opt/data/results/gls/gene_corrs/cohorts/1000g_eur/1000g/mashr/by_chr/gene_corrs-chr6.pkl'),\n",
       " PosixPath('/opt/data/results/gls/gene_corrs/cohorts/1000g_eur/1000g/mashr/by_chr/gene_corrs-chr7.pkl'),\n",
       " PosixPath('/opt/data/results/gls/gene_corrs/cohorts/1000g_eur/1000g/mashr/by_chr/gene_corrs-chr8.pkl'),\n",
       " PosixPath('/opt/data/results/gls/gene_corrs/cohorts/1000g_eur/1000g/mashr/by_chr/gene_corrs-chr9.pkl'),\n",
       " PosixPath('/opt/data/results/gls/gene_corrs/cohorts/1000g_eur/1000g/mashr/by_chr/gene_corrs-chr10.pkl'),\n",
       " PosixPath('/opt/data/results/gls/gene_corrs/cohorts/1000g_eur/1000g/mashr/by_chr/gene_corrs-chr11.pkl'),\n",
       " PosixPath('/opt/data/results/gls/gene_corrs/cohorts/1000g_eur/1000g/mashr/by_chr/gene_corrs-chr12.pkl'),\n",
       " PosixPath('/opt/data/results/gls/gene_corrs/cohorts/1000g_eur/1000g/mashr/by_chr/gene_corrs-chr13.pkl'),\n",
       " PosixPath('/opt/data/results/gls/gene_corrs/cohorts/1000g_eur/1000g/mashr/by_chr/gene_corrs-chr14.pkl'),\n",
       " PosixPath('/opt/data/results/gls/gene_corrs/cohorts/1000g_eur/1000g/mashr/by_chr/gene_corrs-chr15.pkl'),\n",
       " PosixPath('/opt/data/results/gls/gene_corrs/cohorts/1000g_eur/1000g/mashr/by_chr/gene_corrs-chr16.pkl'),\n",
       " PosixPath('/opt/data/results/gls/gene_corrs/cohorts/1000g_eur/1000g/mashr/by_chr/gene_corrs-chr17.pkl'),\n",
       " PosixPath('/opt/data/results/gls/gene_corrs/cohorts/1000g_eur/1000g/mashr/by_chr/gene_corrs-chr18.pkl'),\n",
       " PosixPath('/opt/data/results/gls/gene_corrs/cohorts/1000g_eur/1000g/mashr/by_chr/gene_corrs-chr19.pkl'),\n",
       " PosixPath('/opt/data/results/gls/gene_corrs/cohorts/1000g_eur/1000g/mashr/by_chr/gene_corrs-chr20.pkl'),\n",
       " PosixPath('/opt/data/results/gls/gene_corrs/cohorts/1000g_eur/1000g/mashr/by_chr/gene_corrs-chr21.pkl'),\n",
       " PosixPath('/opt/data/results/gls/gene_corrs/cohorts/1000g_eur/1000g/mashr/by_chr/gene_corrs-chr22.pkl')]"
      ]
     },
     "execution_count": 13,
     "metadata": {},
     "output_type": "execute_result"
    }
   ],
   "source": [
    "all_gene_corr_files"
   ]
  },
  {
   "cell_type": "code",
   "execution_count": 14,
   "id": "6e48c284",
   "metadata": {
    "execution": {
     "iopub.execute_input": "2022-08-03T02:23:19.051317Z",
     "iopub.status.busy": "2022-08-03T02:23:19.051154Z",
     "iopub.status.idle": "2022-08-03T02:23:19.066734Z",
     "shell.execute_reply": "2022-08-03T02:23:19.066220Z"
    },
    "papermill": {
     "duration": 0.027085,
     "end_time": "2022-08-03T02:23:19.068302",
     "exception": false,
     "start_time": "2022-08-03T02:23:19.041217",
     "status": "completed"
    },
    "tags": []
   },
   "outputs": [],
   "source": [
    "assert len(all_gene_corr_files) == 22"
   ]
  },
  {
   "cell_type": "markdown",
   "id": "99d01a88-2f71-41eb-a423-a17378bbb174",
   "metadata": {
    "papermill": {
     "duration": 0.009444,
     "end_time": "2022-08-03T02:23:19.087506",
     "exception": false,
     "start_time": "2022-08-03T02:23:19.078062",
     "status": "completed"
    },
    "tags": []
   },
   "source": [
    "## Get common genes"
   ]
  },
  {
   "cell_type": "code",
   "execution_count": 15,
   "id": "6a5e95f0-eeab-4716-8982-b1dbbd8763d8",
   "metadata": {
    "execution": {
     "iopub.execute_input": "2022-08-03T02:23:19.106312Z",
     "iopub.status.busy": "2022-08-03T02:23:19.106095Z",
     "iopub.status.idle": "2022-08-03T02:23:19.137339Z",
     "shell.execute_reply": "2022-08-03T02:23:19.136819Z"
    },
    "papermill": {
     "duration": 0.042045,
     "end_time": "2022-08-03T02:23:19.138779",
     "exception": false,
     "start_time": "2022-08-03T02:23:19.096734",
     "status": "completed"
    },
    "tags": []
   },
   "outputs": [],
   "source": [
    "gene_ids = set()\n",
    "for f in all_gene_corr_files:\n",
    "    chr_genes = pd.read_pickle(f).index.tolist()\n",
    "    gene_ids.update(chr_genes)"
   ]
  },
  {
   "cell_type": "code",
   "execution_count": 16,
   "id": "81ca7c6e-69c4-48c4-b44f-ec9a2b8bb527",
   "metadata": {
    "execution": {
     "iopub.execute_input": "2022-08-03T02:23:19.158846Z",
     "iopub.status.busy": "2022-08-03T02:23:19.158658Z",
     "iopub.status.idle": "2022-08-03T02:23:19.178676Z",
     "shell.execute_reply": "2022-08-03T02:23:19.178030Z"
    },
    "papermill": {
     "duration": 0.031948,
     "end_time": "2022-08-03T02:23:19.180253",
     "exception": false,
     "start_time": "2022-08-03T02:23:19.148305",
     "status": "completed"
    },
    "tags": []
   },
   "outputs": [
    {
     "data": {
      "text/plain": [
       "6442"
      ]
     },
     "metadata": {},
     "output_type": "display_data"
    }
   ],
   "source": [
    "display(len(gene_ids))"
   ]
  },
  {
   "cell_type": "code",
   "execution_count": 17,
   "id": "5e8a7f17-c84b-4d71-bf0d-11116a66084e",
   "metadata": {
    "execution": {
     "iopub.execute_input": "2022-08-03T02:23:19.203939Z",
     "iopub.status.busy": "2022-08-03T02:23:19.203752Z",
     "iopub.status.idle": "2022-08-03T02:23:19.222362Z",
     "shell.execute_reply": "2022-08-03T02:23:19.221797Z"
    },
    "papermill": {
     "duration": 0.03205,
     "end_time": "2022-08-03T02:23:19.223825",
     "exception": false,
     "start_time": "2022-08-03T02:23:19.191775",
     "status": "completed"
    },
    "tags": []
   },
   "outputs": [
    {
     "data": {
      "text/plain": [
       "['ENSG00000000419',\n",
       " 'ENSG00000000938',\n",
       " 'ENSG00000000971',\n",
       " 'ENSG00000001084',\n",
       " 'ENSG00000001167']"
      ]
     },
     "execution_count": 17,
     "metadata": {},
     "output_type": "execute_result"
    }
   ],
   "source": [
    "sorted(list(gene_ids))[:5]"
   ]
  },
  {
   "cell_type": "markdown",
   "id": "afb94d22-07be-4b67-b448-1d15d787e882",
   "metadata": {
    "papermill": {
     "duration": 0.00947,
     "end_time": "2022-08-03T02:23:19.244059",
     "exception": false,
     "start_time": "2022-08-03T02:23:19.234589",
     "status": "completed"
    },
    "tags": []
   },
   "source": [
    "## Gene info"
   ]
  },
  {
   "cell_type": "code",
   "execution_count": 18,
   "id": "66346539-e969-46dd-997d-c1f404646caa",
   "metadata": {
    "execution": {
     "iopub.execute_input": "2022-08-03T02:23:19.263086Z",
     "iopub.status.busy": "2022-08-03T02:23:19.262882Z",
     "iopub.status.idle": "2022-08-03T02:23:19.279565Z",
     "shell.execute_reply": "2022-08-03T02:23:19.279108Z"
    },
    "papermill": {
     "duration": 0.027757,
     "end_time": "2022-08-03T02:23:19.280935",
     "exception": false,
     "start_time": "2022-08-03T02:23:19.253178",
     "status": "completed"
    },
    "tags": []
   },
   "outputs": [],
   "source": [
    "genes_info = pd.read_pickle(OUTPUT_DIR_BASE / \"genes_info.pkl\")"
   ]
  },
  {
   "cell_type": "code",
   "execution_count": 19,
   "id": "6cf6e7f6-5c5c-4ee5-a3d6-1fab3f88fd20",
   "metadata": {
    "execution": {
     "iopub.execute_input": "2022-08-03T02:23:19.300316Z",
     "iopub.status.busy": "2022-08-03T02:23:19.300113Z",
     "iopub.status.idle": "2022-08-03T02:23:19.314747Z",
     "shell.execute_reply": "2022-08-03T02:23:19.314259Z"
    },
    "papermill": {
     "duration": 0.025502,
     "end_time": "2022-08-03T02:23:19.316053",
     "exception": false,
     "start_time": "2022-08-03T02:23:19.290551",
     "status": "completed"
    },
    "tags": []
   },
   "outputs": [
    {
     "data": {
      "text/plain": [
       "(6444, 7)"
      ]
     },
     "execution_count": 19,
     "metadata": {},
     "output_type": "execute_result"
    }
   ],
   "source": [
    "genes_info.shape"
   ]
  },
  {
   "cell_type": "code",
   "execution_count": 20,
   "id": "c0c00e56-a168-4502-bad1-178fa736b055",
   "metadata": {
    "execution": {
     "iopub.execute_input": "2022-08-03T02:23:19.336372Z",
     "iopub.status.busy": "2022-08-03T02:23:19.336206Z",
     "iopub.status.idle": "2022-08-03T02:23:19.357606Z",
     "shell.execute_reply": "2022-08-03T02:23:19.356984Z"
    },
    "papermill": {
     "duration": 0.033032,
     "end_time": "2022-08-03T02:23:19.358862",
     "exception": false,
     "start_time": "2022-08-03T02:23:19.325830",
     "status": "completed"
    },
    "tags": []
   },
   "outputs": [
    {
     "data": {
      "text/html": [
       "<div>\n",
       "<style scoped>\n",
       "    .dataframe tbody tr th:only-of-type {\n",
       "        vertical-align: middle;\n",
       "    }\n",
       "\n",
       "    .dataframe tbody tr th {\n",
       "        vertical-align: top;\n",
       "    }\n",
       "\n",
       "    .dataframe thead th {\n",
       "        text-align: right;\n",
       "    }\n",
       "</style>\n",
       "<table border=\"1\" class=\"dataframe\">\n",
       "  <thead>\n",
       "    <tr style=\"text-align: right;\">\n",
       "      <th></th>\n",
       "      <th>name</th>\n",
       "      <th>id</th>\n",
       "      <th>chr</th>\n",
       "      <th>band</th>\n",
       "      <th>start_position</th>\n",
       "      <th>end_position</th>\n",
       "      <th>gene_length</th>\n",
       "    </tr>\n",
       "  </thead>\n",
       "  <tbody>\n",
       "    <tr>\n",
       "      <th>0</th>\n",
       "      <td>CDC14B</td>\n",
       "      <td>ENSG00000081377</td>\n",
       "      <td>9</td>\n",
       "      <td>9q22.33</td>\n",
       "      <td>96490241.0</td>\n",
       "      <td>96619830.0</td>\n",
       "      <td>129589.0</td>\n",
       "    </tr>\n",
       "    <tr>\n",
       "      <th>1</th>\n",
       "      <td>DOCK3</td>\n",
       "      <td>ENSG00000088538</td>\n",
       "      <td>3</td>\n",
       "      <td>3p21.2</td>\n",
       "      <td>50674927.0</td>\n",
       "      <td>51384198.0</td>\n",
       "      <td>709271.0</td>\n",
       "    </tr>\n",
       "    <tr>\n",
       "      <th>2</th>\n",
       "      <td>SLCO4C1</td>\n",
       "      <td>ENSG00000173930</td>\n",
       "      <td>5</td>\n",
       "      <td>5q21.1</td>\n",
       "      <td>102233986.0</td>\n",
       "      <td>102296284.0</td>\n",
       "      <td>62298.0</td>\n",
       "    </tr>\n",
       "    <tr>\n",
       "      <th>3</th>\n",
       "      <td>UST</td>\n",
       "      <td>ENSG00000111962</td>\n",
       "      <td>6</td>\n",
       "      <td>6q25.1</td>\n",
       "      <td>148747030.0</td>\n",
       "      <td>149076990.0</td>\n",
       "      <td>329960.0</td>\n",
       "    </tr>\n",
       "    <tr>\n",
       "      <th>4</th>\n",
       "      <td>CFH</td>\n",
       "      <td>ENSG00000000971</td>\n",
       "      <td>1</td>\n",
       "      <td>1q31.3</td>\n",
       "      <td>196651878.0</td>\n",
       "      <td>196747504.0</td>\n",
       "      <td>95626.0</td>\n",
       "    </tr>\n",
       "  </tbody>\n",
       "</table>\n",
       "</div>"
      ],
      "text/plain": [
       "      name               id chr     band  start_position  end_position  \\\n",
       "0   CDC14B  ENSG00000081377   9  9q22.33      96490241.0    96619830.0   \n",
       "1    DOCK3  ENSG00000088538   3   3p21.2      50674927.0    51384198.0   \n",
       "2  SLCO4C1  ENSG00000173930   5   5q21.1     102233986.0   102296284.0   \n",
       "3      UST  ENSG00000111962   6   6q25.1     148747030.0   149076990.0   \n",
       "4      CFH  ENSG00000000971   1   1q31.3     196651878.0   196747504.0   \n",
       "\n",
       "   gene_length  \n",
       "0     129589.0  \n",
       "1     709271.0  \n",
       "2      62298.0  \n",
       "3     329960.0  \n",
       "4      95626.0  "
      ]
     },
     "execution_count": 20,
     "metadata": {},
     "output_type": "execute_result"
    }
   ],
   "source": [
    "genes_info.head()"
   ]
  },
  {
   "cell_type": "code",
   "execution_count": 21,
   "id": "c6f52a23-0e0c-4def-8ebe-714793743f4e",
   "metadata": {
    "execution": {
     "iopub.execute_input": "2022-08-03T02:23:19.378932Z",
     "iopub.status.busy": "2022-08-03T02:23:19.378750Z",
     "iopub.status.idle": "2022-08-03T02:23:19.395133Z",
     "shell.execute_reply": "2022-08-03T02:23:19.394582Z"
    },
    "papermill": {
     "duration": 0.02779,
     "end_time": "2022-08-03T02:23:19.396537",
     "exception": false,
     "start_time": "2022-08-03T02:23:19.368747",
     "status": "completed"
    },
    "tags": []
   },
   "outputs": [],
   "source": [
    "# keep genes in correlation matrices only\n",
    "genes_info = genes_info[genes_info[\"id\"].isin(gene_ids)]"
   ]
  },
  {
   "cell_type": "code",
   "execution_count": 22,
   "id": "19cde9f2-0cad-4b4e-a409-0cff052cc77c",
   "metadata": {
    "execution": {
     "iopub.execute_input": "2022-08-03T02:23:19.416990Z",
     "iopub.status.busy": "2022-08-03T02:23:19.416801Z",
     "iopub.status.idle": "2022-08-03T02:23:19.431394Z",
     "shell.execute_reply": "2022-08-03T02:23:19.430951Z"
    },
    "papermill": {
     "duration": 0.026149,
     "end_time": "2022-08-03T02:23:19.432606",
     "exception": false,
     "start_time": "2022-08-03T02:23:19.406457",
     "status": "completed"
    },
    "tags": []
   },
   "outputs": [
    {
     "data": {
      "text/plain": [
       "(6442, 7)"
      ]
     },
     "execution_count": 22,
     "metadata": {},
     "output_type": "execute_result"
    }
   ],
   "source": [
    "genes_info.shape"
   ]
  },
  {
   "cell_type": "code",
   "execution_count": 23,
   "id": "f9e52a95-4c6e-4ce6-ae1d-df635d5dbe47",
   "metadata": {
    "execution": {
     "iopub.execute_input": "2022-08-03T02:23:19.452680Z",
     "iopub.status.busy": "2022-08-03T02:23:19.452516Z",
     "iopub.status.idle": "2022-08-03T02:23:19.467705Z",
     "shell.execute_reply": "2022-08-03T02:23:19.467224Z"
    },
    "papermill": {
     "duration": 0.026777,
     "end_time": "2022-08-03T02:23:19.469065",
     "exception": false,
     "start_time": "2022-08-03T02:23:19.442288",
     "status": "completed"
    },
    "tags": []
   },
   "outputs": [],
   "source": [
    "assert not genes_info.isna().any().any()"
   ]
  },
  {
   "cell_type": "code",
   "execution_count": 24,
   "id": "683d8106-61e7-4484-a97c-4b3f48780647",
   "metadata": {
    "execution": {
     "iopub.execute_input": "2022-08-03T02:23:19.490102Z",
     "iopub.status.busy": "2022-08-03T02:23:19.489944Z",
     "iopub.status.idle": "2022-08-03T02:23:19.505381Z",
     "shell.execute_reply": "2022-08-03T02:23:19.504923Z"
    },
    "papermill": {
     "duration": 0.027398,
     "end_time": "2022-08-03T02:23:19.506585",
     "exception": false,
     "start_time": "2022-08-03T02:23:19.479187",
     "status": "completed"
    },
    "tags": []
   },
   "outputs": [
    {
     "data": {
      "text/plain": [
       "name               object\n",
       "id                 object\n",
       "chr                object\n",
       "band               object\n",
       "start_position    float64\n",
       "end_position      float64\n",
       "gene_length       float64\n",
       "dtype: object"
      ]
     },
     "execution_count": 24,
     "metadata": {},
     "output_type": "execute_result"
    }
   ],
   "source": [
    "genes_info.dtypes"
   ]
  },
  {
   "cell_type": "code",
   "execution_count": 25,
   "id": "4e10fc0f-3287-4595-afa4-5b6db9ad6b6e",
   "metadata": {
    "execution": {
     "iopub.execute_input": "2022-08-03T02:23:19.527391Z",
     "iopub.status.busy": "2022-08-03T02:23:19.527209Z",
     "iopub.status.idle": "2022-08-03T02:23:20.091027Z",
     "shell.execute_reply": "2022-08-03T02:23:20.090463Z"
    },
    "papermill": {
     "duration": 0.575777,
     "end_time": "2022-08-03T02:23:20.092520",
     "exception": false,
     "start_time": "2022-08-03T02:23:19.516743",
     "status": "completed"
    },
    "tags": []
   },
   "outputs": [],
   "source": [
    "genes_info[\"chr\"] = genes_info[\"chr\"].apply(pd.to_numeric, downcast=\"integer\")\n",
    "genes_info[\"start_position\"] = genes_info[\"start_position\"].astype(int)\n",
    "genes_info[\"end_position\"] = genes_info[\"end_position\"].astype(int)\n",
    "genes_info[\"gene_length\"] = genes_info[\"gene_length\"].astype(int)"
   ]
  },
  {
   "cell_type": "code",
   "execution_count": 26,
   "id": "90028a9b-781e-46c7-97b8-9e1676e682d4",
   "metadata": {
    "execution": {
     "iopub.execute_input": "2022-08-03T02:23:20.112655Z",
     "iopub.status.busy": "2022-08-03T02:23:20.112438Z",
     "iopub.status.idle": "2022-08-03T02:23:20.127864Z",
     "shell.execute_reply": "2022-08-03T02:23:20.127387Z"
    },
    "papermill": {
     "duration": 0.0269,
     "end_time": "2022-08-03T02:23:20.129040",
     "exception": false,
     "start_time": "2022-08-03T02:23:20.102140",
     "status": "completed"
    },
    "tags": []
   },
   "outputs": [
    {
     "data": {
      "text/plain": [
       "name              object\n",
       "id                object\n",
       "chr                int64\n",
       "band              object\n",
       "start_position     int64\n",
       "end_position       int64\n",
       "gene_length        int64\n",
       "dtype: object"
      ]
     },
     "execution_count": 26,
     "metadata": {},
     "output_type": "execute_result"
    }
   ],
   "source": [
    "genes_info.dtypes"
   ]
  },
  {
   "cell_type": "code",
   "execution_count": 27,
   "id": "9a46994f-4625-45ee-9357-1e06b9ba1d2a",
   "metadata": {
    "execution": {
     "iopub.execute_input": "2022-08-03T02:23:20.149163Z",
     "iopub.status.busy": "2022-08-03T02:23:20.148962Z",
     "iopub.status.idle": "2022-08-03T02:23:20.164680Z",
     "shell.execute_reply": "2022-08-03T02:23:20.164077Z"
    },
    "papermill": {
     "duration": 0.027474,
     "end_time": "2022-08-03T02:23:20.166208",
     "exception": false,
     "start_time": "2022-08-03T02:23:20.138734",
     "status": "completed"
    },
    "tags": []
   },
   "outputs": [],
   "source": [
    "assert not genes_info.isna().any(None)"
   ]
  },
  {
   "cell_type": "code",
   "execution_count": 28,
   "id": "adb6d5ce-d010-41f8-bb63-7b5f66bf2c51",
   "metadata": {
    "execution": {
     "iopub.execute_input": "2022-08-03T02:23:20.193034Z",
     "iopub.status.busy": "2022-08-03T02:23:20.192842Z",
     "iopub.status.idle": "2022-08-03T02:23:20.215083Z",
     "shell.execute_reply": "2022-08-03T02:23:20.214513Z"
    },
    "papermill": {
     "duration": 0.037047,
     "end_time": "2022-08-03T02:23:20.216428",
     "exception": false,
     "start_time": "2022-08-03T02:23:20.179381",
     "status": "completed"
    },
    "tags": []
   },
   "outputs": [
    {
     "data": {
      "text/html": [
       "<div>\n",
       "<style scoped>\n",
       "    .dataframe tbody tr th:only-of-type {\n",
       "        vertical-align: middle;\n",
       "    }\n",
       "\n",
       "    .dataframe tbody tr th {\n",
       "        vertical-align: top;\n",
       "    }\n",
       "\n",
       "    .dataframe thead th {\n",
       "        text-align: right;\n",
       "    }\n",
       "</style>\n",
       "<table border=\"1\" class=\"dataframe\">\n",
       "  <thead>\n",
       "    <tr style=\"text-align: right;\">\n",
       "      <th></th>\n",
       "      <th>name</th>\n",
       "      <th>id</th>\n",
       "      <th>chr</th>\n",
       "      <th>band</th>\n",
       "      <th>start_position</th>\n",
       "      <th>end_position</th>\n",
       "      <th>gene_length</th>\n",
       "    </tr>\n",
       "  </thead>\n",
       "  <tbody>\n",
       "    <tr>\n",
       "      <th>0</th>\n",
       "      <td>CDC14B</td>\n",
       "      <td>ENSG00000081377</td>\n",
       "      <td>9</td>\n",
       "      <td>9q22.33</td>\n",
       "      <td>96490241</td>\n",
       "      <td>96619830</td>\n",
       "      <td>129589</td>\n",
       "    </tr>\n",
       "    <tr>\n",
       "      <th>1</th>\n",
       "      <td>DOCK3</td>\n",
       "      <td>ENSG00000088538</td>\n",
       "      <td>3</td>\n",
       "      <td>3p21.2</td>\n",
       "      <td>50674927</td>\n",
       "      <td>51384198</td>\n",
       "      <td>709271</td>\n",
       "    </tr>\n",
       "    <tr>\n",
       "      <th>2</th>\n",
       "      <td>SLCO4C1</td>\n",
       "      <td>ENSG00000173930</td>\n",
       "      <td>5</td>\n",
       "      <td>5q21.1</td>\n",
       "      <td>102233986</td>\n",
       "      <td>102296284</td>\n",
       "      <td>62298</td>\n",
       "    </tr>\n",
       "    <tr>\n",
       "      <th>3</th>\n",
       "      <td>UST</td>\n",
       "      <td>ENSG00000111962</td>\n",
       "      <td>6</td>\n",
       "      <td>6q25.1</td>\n",
       "      <td>148747030</td>\n",
       "      <td>149076990</td>\n",
       "      <td>329960</td>\n",
       "    </tr>\n",
       "    <tr>\n",
       "      <th>4</th>\n",
       "      <td>CFH</td>\n",
       "      <td>ENSG00000000971</td>\n",
       "      <td>1</td>\n",
       "      <td>1q31.3</td>\n",
       "      <td>196651878</td>\n",
       "      <td>196747504</td>\n",
       "      <td>95626</td>\n",
       "    </tr>\n",
       "  </tbody>\n",
       "</table>\n",
       "</div>"
      ],
      "text/plain": [
       "      name               id  chr     band  start_position  end_position  \\\n",
       "0   CDC14B  ENSG00000081377    9  9q22.33        96490241      96619830   \n",
       "1    DOCK3  ENSG00000088538    3   3p21.2        50674927      51384198   \n",
       "2  SLCO4C1  ENSG00000173930    5   5q21.1       102233986     102296284   \n",
       "3      UST  ENSG00000111962    6   6q25.1       148747030     149076990   \n",
       "4      CFH  ENSG00000000971    1   1q31.3       196651878     196747504   \n",
       "\n",
       "   gene_length  \n",
       "0       129589  \n",
       "1       709271  \n",
       "2        62298  \n",
       "3       329960  \n",
       "4        95626  "
      ]
     },
     "execution_count": 28,
     "metadata": {},
     "output_type": "execute_result"
    }
   ],
   "source": [
    "genes_info.head()"
   ]
  },
  {
   "cell_type": "markdown",
   "id": "f4d4f177",
   "metadata": {
    "papermill": {
     "duration": 0.010737,
     "end_time": "2022-08-03T02:23:20.238798",
     "exception": false,
     "start_time": "2022-08-03T02:23:20.228061",
     "status": "completed"
    },
    "tags": []
   },
   "source": [
    "# Create full correlation matrix"
   ]
  },
  {
   "cell_type": "code",
   "execution_count": 29,
   "id": "fad655cb-e830-496d-8ae1-bd9088623515",
   "metadata": {
    "execution": {
     "iopub.execute_input": "2022-08-03T02:23:20.259407Z",
     "iopub.status.busy": "2022-08-03T02:23:20.259029Z",
     "iopub.status.idle": "2022-08-03T02:23:20.277027Z",
     "shell.execute_reply": "2022-08-03T02:23:20.276479Z"
    },
    "papermill": {
     "duration": 0.029711,
     "end_time": "2022-08-03T02:23:20.278441",
     "exception": false,
     "start_time": "2022-08-03T02:23:20.248730",
     "status": "completed"
    },
    "tags": []
   },
   "outputs": [],
   "source": [
    "genes_info = genes_info.sort_values([\"chr\", \"start_position\"])"
   ]
  },
  {
   "cell_type": "code",
   "execution_count": 30,
   "id": "3d93727c-e045-434b-99ec-2bfc661003f4",
   "metadata": {
    "execution": {
     "iopub.execute_input": "2022-08-03T02:23:20.300028Z",
     "iopub.status.busy": "2022-08-03T02:23:20.299860Z",
     "iopub.status.idle": "2022-08-03T02:23:20.322264Z",
     "shell.execute_reply": "2022-08-03T02:23:20.321697Z"
    },
    "papermill": {
     "duration": 0.03458,
     "end_time": "2022-08-03T02:23:20.323460",
     "exception": false,
     "start_time": "2022-08-03T02:23:20.288880",
     "status": "completed"
    },
    "tags": []
   },
   "outputs": [
    {
     "data": {
      "text/html": [
       "<div>\n",
       "<style scoped>\n",
       "    .dataframe tbody tr th:only-of-type {\n",
       "        vertical-align: middle;\n",
       "    }\n",
       "\n",
       "    .dataframe tbody tr th {\n",
       "        vertical-align: top;\n",
       "    }\n",
       "\n",
       "    .dataframe thead th {\n",
       "        text-align: right;\n",
       "    }\n",
       "</style>\n",
       "<table border=\"1\" class=\"dataframe\">\n",
       "  <thead>\n",
       "    <tr style=\"text-align: right;\">\n",
       "      <th></th>\n",
       "      <th>name</th>\n",
       "      <th>id</th>\n",
       "      <th>chr</th>\n",
       "      <th>band</th>\n",
       "      <th>start_position</th>\n",
       "      <th>end_position</th>\n",
       "      <th>gene_length</th>\n",
       "    </tr>\n",
       "  </thead>\n",
       "  <tbody>\n",
       "    <tr>\n",
       "      <th>4618</th>\n",
       "      <td>NOC2L</td>\n",
       "      <td>ENSG00000188976</td>\n",
       "      <td>1</td>\n",
       "      <td>1p36.33</td>\n",
       "      <td>944203</td>\n",
       "      <td>959309</td>\n",
       "      <td>15106</td>\n",
       "    </tr>\n",
       "    <tr>\n",
       "      <th>4143</th>\n",
       "      <td>HES4</td>\n",
       "      <td>ENSG00000188290</td>\n",
       "      <td>1</td>\n",
       "      <td>1p36.33</td>\n",
       "      <td>998962</td>\n",
       "      <td>1000172</td>\n",
       "      <td>1210</td>\n",
       "    </tr>\n",
       "    <tr>\n",
       "      <th>3040</th>\n",
       "      <td>ISG15</td>\n",
       "      <td>ENSG00000187608</td>\n",
       "      <td>1</td>\n",
       "      <td>1p36.33</td>\n",
       "      <td>1001138</td>\n",
       "      <td>1014540</td>\n",
       "      <td>13402</td>\n",
       "    </tr>\n",
       "    <tr>\n",
       "      <th>4242</th>\n",
       "      <td>AGRN</td>\n",
       "      <td>ENSG00000188157</td>\n",
       "      <td>1</td>\n",
       "      <td>1p36.33</td>\n",
       "      <td>1020120</td>\n",
       "      <td>1056118</td>\n",
       "      <td>35998</td>\n",
       "    </tr>\n",
       "    <tr>\n",
       "      <th>1697</th>\n",
       "      <td>TNFRSF18</td>\n",
       "      <td>ENSG00000186891</td>\n",
       "      <td>1</td>\n",
       "      <td>1p36.33</td>\n",
       "      <td>1203508</td>\n",
       "      <td>1206592</td>\n",
       "      <td>3084</td>\n",
       "    </tr>\n",
       "    <tr>\n",
       "      <th>...</th>\n",
       "      <td>...</td>\n",
       "      <td>...</td>\n",
       "      <td>...</td>\n",
       "      <td>...</td>\n",
       "      <td>...</td>\n",
       "      <td>...</td>\n",
       "      <td>...</td>\n",
       "    </tr>\n",
       "    <tr>\n",
       "      <th>5853</th>\n",
       "      <td>CPT1B</td>\n",
       "      <td>ENSG00000205560</td>\n",
       "      <td>22</td>\n",
       "      <td>22q13.33</td>\n",
       "      <td>50568861</td>\n",
       "      <td>50578465</td>\n",
       "      <td>9604</td>\n",
       "    </tr>\n",
       "    <tr>\n",
       "      <th>63</th>\n",
       "      <td>CHKB</td>\n",
       "      <td>ENSG00000100288</td>\n",
       "      <td>22</td>\n",
       "      <td>22q13.33</td>\n",
       "      <td>50578949</td>\n",
       "      <td>50601455</td>\n",
       "      <td>22506</td>\n",
       "    </tr>\n",
       "    <tr>\n",
       "      <th>1581</th>\n",
       "      <td>MAPK8IP2</td>\n",
       "      <td>ENSG00000008735</td>\n",
       "      <td>22</td>\n",
       "      <td>22q13.33</td>\n",
       "      <td>50600793</td>\n",
       "      <td>50613981</td>\n",
       "      <td>13188</td>\n",
       "    </tr>\n",
       "    <tr>\n",
       "      <th>3972</th>\n",
       "      <td>ARSA</td>\n",
       "      <td>ENSG00000100299</td>\n",
       "      <td>22</td>\n",
       "      <td>22q13.33</td>\n",
       "      <td>50622754</td>\n",
       "      <td>50628173</td>\n",
       "      <td>5419</td>\n",
       "    </tr>\n",
       "    <tr>\n",
       "      <th>3247</th>\n",
       "      <td>SHANK3</td>\n",
       "      <td>ENSG00000251322</td>\n",
       "      <td>22</td>\n",
       "      <td>22q13.33</td>\n",
       "      <td>50674415</td>\n",
       "      <td>50733298</td>\n",
       "      <td>58883</td>\n",
       "    </tr>\n",
       "  </tbody>\n",
       "</table>\n",
       "<p>6442 rows × 7 columns</p>\n",
       "</div>"
      ],
      "text/plain": [
       "          name               id  chr      band  start_position  end_position  \\\n",
       "4618     NOC2L  ENSG00000188976    1   1p36.33          944203        959309   \n",
       "4143      HES4  ENSG00000188290    1   1p36.33          998962       1000172   \n",
       "3040     ISG15  ENSG00000187608    1   1p36.33         1001138       1014540   \n",
       "4242      AGRN  ENSG00000188157    1   1p36.33         1020120       1056118   \n",
       "1697  TNFRSF18  ENSG00000186891    1   1p36.33         1203508       1206592   \n",
       "...        ...              ...  ...       ...             ...           ...   \n",
       "5853     CPT1B  ENSG00000205560   22  22q13.33        50568861      50578465   \n",
       "63        CHKB  ENSG00000100288   22  22q13.33        50578949      50601455   \n",
       "1581  MAPK8IP2  ENSG00000008735   22  22q13.33        50600793      50613981   \n",
       "3972      ARSA  ENSG00000100299   22  22q13.33        50622754      50628173   \n",
       "3247    SHANK3  ENSG00000251322   22  22q13.33        50674415      50733298   \n",
       "\n",
       "      gene_length  \n",
       "4618        15106  \n",
       "4143         1210  \n",
       "3040        13402  \n",
       "4242        35998  \n",
       "1697         3084  \n",
       "...           ...  \n",
       "5853         9604  \n",
       "63          22506  \n",
       "1581        13188  \n",
       "3972         5419  \n",
       "3247        58883  \n",
       "\n",
       "[6442 rows x 7 columns]"
      ]
     },
     "execution_count": 30,
     "metadata": {},
     "output_type": "execute_result"
    }
   ],
   "source": [
    "genes_info"
   ]
  },
  {
   "cell_type": "code",
   "execution_count": 31,
   "id": "1277c7cb-6850-476f-932e-0d166362392c",
   "metadata": {
    "execution": {
     "iopub.execute_input": "2022-08-03T02:23:20.345843Z",
     "iopub.status.busy": "2022-08-03T02:23:20.345676Z",
     "iopub.status.idle": "2022-08-03T02:23:20.361993Z",
     "shell.execute_reply": "2022-08-03T02:23:20.361452Z"
    },
    "papermill": {
     "duration": 0.02893,
     "end_time": "2022-08-03T02:23:20.363271",
     "exception": false,
     "start_time": "2022-08-03T02:23:20.334341",
     "status": "completed"
    },
    "tags": []
   },
   "outputs": [],
   "source": [
    "full_corr_matrix = pd.DataFrame(\n",
    "    np.zeros((genes_info.shape[0], genes_info.shape[0])),\n",
    "    index=genes_info[\"id\"].tolist(),\n",
    "    columns=genes_info[\"id\"].tolist(),\n",
    ")"
   ]
  },
  {
   "cell_type": "code",
   "execution_count": 32,
   "id": "5aa375f4-775a-4dab-80c9-a68a52c69adc",
   "metadata": {
    "execution": {
     "iopub.execute_input": "2022-08-03T02:23:20.385755Z",
     "iopub.status.busy": "2022-08-03T02:23:20.385534Z",
     "iopub.status.idle": "2022-08-03T02:23:20.400508Z",
     "shell.execute_reply": "2022-08-03T02:23:20.399959Z"
    },
    "papermill": {
     "duration": 0.027602,
     "end_time": "2022-08-03T02:23:20.401806",
     "exception": false,
     "start_time": "2022-08-03T02:23:20.374204",
     "status": "completed"
    },
    "tags": []
   },
   "outputs": [],
   "source": [
    "assert full_corr_matrix.index.is_unique & full_corr_matrix.columns.is_unique"
   ]
  },
  {
   "cell_type": "code",
   "execution_count": 33,
   "id": "0afc4716-f607-4634-8a02-5f116fd2c318",
   "metadata": {
    "execution": {
     "iopub.execute_input": "2022-08-03T02:23:20.423587Z",
     "iopub.status.busy": "2022-08-03T02:23:20.423418Z",
     "iopub.status.idle": "2022-08-03T02:23:20.540916Z",
     "shell.execute_reply": "2022-08-03T02:23:20.540348Z"
    },
    "papermill": {
     "duration": 0.130026,
     "end_time": "2022-08-03T02:23:20.542406",
     "exception": false,
     "start_time": "2022-08-03T02:23:20.412380",
     "status": "completed"
    },
    "tags": []
   },
   "outputs": [
    {
     "name": "stdout",
     "output_type": "stream",
     "text": [
      "gene_corrs-chr1.pkl\n",
      "gene_corrs-chr2.pkl\n",
      "gene_corrs-chr3.pkl\n",
      "gene_corrs-chr4.pkl\n",
      "gene_corrs-chr5.pkl\n",
      "gene_corrs-chr6.pkl\n",
      "gene_corrs-chr7.pkl\n",
      "gene_corrs-chr8.pkl\n",
      "gene_corrs-chr9.pkl\n",
      "gene_corrs-chr10.pkl\n",
      "gene_corrs-chr11.pkl\n",
      "gene_corrs-chr12.pkl\n",
      "gene_corrs-chr13.pkl\n",
      "gene_corrs-chr14.pkl\n",
      "gene_corrs-chr15.pkl\n",
      "gene_corrs-chr16.pkl\n",
      "gene_corrs-chr17.pkl\n",
      "gene_corrs-chr18.pkl\n",
      "gene_corrs-chr19.pkl\n",
      "gene_corrs-chr20.pkl\n",
      "gene_corrs-chr21.pkl\n",
      "gene_corrs-chr22.pkl\n"
     ]
    }
   ],
   "source": [
    "for chr_corr_file in all_gene_corr_files:\n",
    "    print(chr_corr_file.name, flush=True)\n",
    "\n",
    "    corr_data = pd.read_pickle(chr_corr_file)\n",
    "    full_corr_matrix.loc[corr_data.index, corr_data.columns] = corr_data"
   ]
  },
  {
   "cell_type": "code",
   "execution_count": 34,
   "id": "a6be3bf7-d1c1-4f90-b074-a6e74d9285a5",
   "metadata": {
    "execution": {
     "iopub.execute_input": "2022-08-03T02:23:20.567987Z",
     "iopub.status.busy": "2022-08-03T02:23:20.567828Z",
     "iopub.status.idle": "2022-08-03T02:23:20.582676Z",
     "shell.execute_reply": "2022-08-03T02:23:20.582150Z"
    },
    "papermill": {
     "duration": 0.028967,
     "end_time": "2022-08-03T02:23:20.583934",
     "exception": false,
     "start_time": "2022-08-03T02:23:20.554967",
     "status": "completed"
    },
    "tags": []
   },
   "outputs": [
    {
     "data": {
      "text/plain": [
       "(6442, 6442)"
      ]
     },
     "execution_count": 34,
     "metadata": {},
     "output_type": "execute_result"
    }
   ],
   "source": [
    "full_corr_matrix.shape"
   ]
  },
  {
   "cell_type": "code",
   "execution_count": 35,
   "id": "aac21a65-87b3-4b87-b17a-cbe3692c88a9",
   "metadata": {
    "execution": {
     "iopub.execute_input": "2022-08-03T02:23:20.607222Z",
     "iopub.status.busy": "2022-08-03T02:23:20.607042Z",
     "iopub.status.idle": "2022-08-03T02:23:20.634814Z",
     "shell.execute_reply": "2022-08-03T02:23:20.634009Z"
    },
    "papermill": {
     "duration": 0.040586,
     "end_time": "2022-08-03T02:23:20.636038",
     "exception": false,
     "start_time": "2022-08-03T02:23:20.595452",
     "status": "completed"
    },
    "tags": []
   },
   "outputs": [
    {
     "data": {
      "text/html": [
       "<div>\n",
       "<style scoped>\n",
       "    .dataframe tbody tr th:only-of-type {\n",
       "        vertical-align: middle;\n",
       "    }\n",
       "\n",
       "    .dataframe tbody tr th {\n",
       "        vertical-align: top;\n",
       "    }\n",
       "\n",
       "    .dataframe thead th {\n",
       "        text-align: right;\n",
       "    }\n",
       "</style>\n",
       "<table border=\"1\" class=\"dataframe\">\n",
       "  <thead>\n",
       "    <tr style=\"text-align: right;\">\n",
       "      <th></th>\n",
       "      <th>ENSG00000188976</th>\n",
       "      <th>ENSG00000188290</th>\n",
       "      <th>ENSG00000187608</th>\n",
       "      <th>ENSG00000188157</th>\n",
       "      <th>ENSG00000186891</th>\n",
       "      <th>ENSG00000186827</th>\n",
       "      <th>ENSG00000176022</th>\n",
       "      <th>ENSG00000160087</th>\n",
       "      <th>ENSG00000131584</th>\n",
       "      <th>ENSG00000169962</th>\n",
       "      <th>...</th>\n",
       "      <th>ENSG00000196576</th>\n",
       "      <th>ENSG00000128165</th>\n",
       "      <th>ENSG00000100253</th>\n",
       "      <th>ENSG00000130489</th>\n",
       "      <th>ENSG00000025708</th>\n",
       "      <th>ENSG00000205560</th>\n",
       "      <th>ENSG00000100288</th>\n",
       "      <th>ENSG00000008735</th>\n",
       "      <th>ENSG00000100299</th>\n",
       "      <th>ENSG00000251322</th>\n",
       "    </tr>\n",
       "  </thead>\n",
       "  <tbody>\n",
       "    <tr>\n",
       "      <th>ENSG00000188976</th>\n",
       "      <td>1.000000</td>\n",
       "      <td>0.115011</td>\n",
       "      <td>0.173138</td>\n",
       "      <td>0.056096</td>\n",
       "      <td>0.008032</td>\n",
       "      <td>0.008727</td>\n",
       "      <td>0.006797</td>\n",
       "      <td>0.004533</td>\n",
       "      <td>0.007350</td>\n",
       "      <td>0.010391</td>\n",
       "      <td>...</td>\n",
       "      <td>0.0</td>\n",
       "      <td>0.0</td>\n",
       "      <td>0.0</td>\n",
       "      <td>0.0</td>\n",
       "      <td>0.0</td>\n",
       "      <td>0.0</td>\n",
       "      <td>0.0</td>\n",
       "      <td>0.0</td>\n",
       "      <td>0.0</td>\n",
       "      <td>0.0</td>\n",
       "    </tr>\n",
       "    <tr>\n",
       "      <th>ENSG00000188290</th>\n",
       "      <td>0.115011</td>\n",
       "      <td>1.000000</td>\n",
       "      <td>0.681368</td>\n",
       "      <td>0.360588</td>\n",
       "      <td>0.011545</td>\n",
       "      <td>0.010729</td>\n",
       "      <td>0.003577</td>\n",
       "      <td>0.010230</td>\n",
       "      <td>0.010747</td>\n",
       "      <td>0.008769</td>\n",
       "      <td>...</td>\n",
       "      <td>0.0</td>\n",
       "      <td>0.0</td>\n",
       "      <td>0.0</td>\n",
       "      <td>0.0</td>\n",
       "      <td>0.0</td>\n",
       "      <td>0.0</td>\n",
       "      <td>0.0</td>\n",
       "      <td>0.0</td>\n",
       "      <td>0.0</td>\n",
       "      <td>0.0</td>\n",
       "    </tr>\n",
       "    <tr>\n",
       "      <th>ENSG00000187608</th>\n",
       "      <td>0.173138</td>\n",
       "      <td>0.681368</td>\n",
       "      <td>1.000000</td>\n",
       "      <td>0.381394</td>\n",
       "      <td>0.011774</td>\n",
       "      <td>0.012527</td>\n",
       "      <td>0.003754</td>\n",
       "      <td>0.012096</td>\n",
       "      <td>0.012679</td>\n",
       "      <td>0.010442</td>\n",
       "      <td>...</td>\n",
       "      <td>0.0</td>\n",
       "      <td>0.0</td>\n",
       "      <td>0.0</td>\n",
       "      <td>0.0</td>\n",
       "      <td>0.0</td>\n",
       "      <td>0.0</td>\n",
       "      <td>0.0</td>\n",
       "      <td>0.0</td>\n",
       "      <td>0.0</td>\n",
       "      <td>0.0</td>\n",
       "    </tr>\n",
       "    <tr>\n",
       "      <th>ENSG00000188157</th>\n",
       "      <td>0.056096</td>\n",
       "      <td>0.360588</td>\n",
       "      <td>0.381394</td>\n",
       "      <td>1.000000</td>\n",
       "      <td>0.013005</td>\n",
       "      <td>0.015775</td>\n",
       "      <td>0.006184</td>\n",
       "      <td>0.006813</td>\n",
       "      <td>0.010775</td>\n",
       "      <td>0.009189</td>\n",
       "      <td>...</td>\n",
       "      <td>0.0</td>\n",
       "      <td>0.0</td>\n",
       "      <td>0.0</td>\n",
       "      <td>0.0</td>\n",
       "      <td>0.0</td>\n",
       "      <td>0.0</td>\n",
       "      <td>0.0</td>\n",
       "      <td>0.0</td>\n",
       "      <td>0.0</td>\n",
       "      <td>0.0</td>\n",
       "    </tr>\n",
       "    <tr>\n",
       "      <th>ENSG00000186891</th>\n",
       "      <td>0.008032</td>\n",
       "      <td>0.011545</td>\n",
       "      <td>0.011774</td>\n",
       "      <td>0.013005</td>\n",
       "      <td>1.000000</td>\n",
       "      <td>0.356676</td>\n",
       "      <td>0.454010</td>\n",
       "      <td>0.137643</td>\n",
       "      <td>0.200340</td>\n",
       "      <td>0.093210</td>\n",
       "      <td>...</td>\n",
       "      <td>0.0</td>\n",
       "      <td>0.0</td>\n",
       "      <td>0.0</td>\n",
       "      <td>0.0</td>\n",
       "      <td>0.0</td>\n",
       "      <td>0.0</td>\n",
       "      <td>0.0</td>\n",
       "      <td>0.0</td>\n",
       "      <td>0.0</td>\n",
       "      <td>0.0</td>\n",
       "    </tr>\n",
       "  </tbody>\n",
       "</table>\n",
       "<p>5 rows × 6442 columns</p>\n",
       "</div>"
      ],
      "text/plain": [
       "                 ENSG00000188976  ENSG00000188290  ENSG00000187608  \\\n",
       "ENSG00000188976         1.000000         0.115011         0.173138   \n",
       "ENSG00000188290         0.115011         1.000000         0.681368   \n",
       "ENSG00000187608         0.173138         0.681368         1.000000   \n",
       "ENSG00000188157         0.056096         0.360588         0.381394   \n",
       "ENSG00000186891         0.008032         0.011545         0.011774   \n",
       "\n",
       "                 ENSG00000188157  ENSG00000186891  ENSG00000186827  \\\n",
       "ENSG00000188976         0.056096         0.008032         0.008727   \n",
       "ENSG00000188290         0.360588         0.011545         0.010729   \n",
       "ENSG00000187608         0.381394         0.011774         0.012527   \n",
       "ENSG00000188157         1.000000         0.013005         0.015775   \n",
       "ENSG00000186891         0.013005         1.000000         0.356676   \n",
       "\n",
       "                 ENSG00000176022  ENSG00000160087  ENSG00000131584  \\\n",
       "ENSG00000188976         0.006797         0.004533         0.007350   \n",
       "ENSG00000188290         0.003577         0.010230         0.010747   \n",
       "ENSG00000187608         0.003754         0.012096         0.012679   \n",
       "ENSG00000188157         0.006184         0.006813         0.010775   \n",
       "ENSG00000186891         0.454010         0.137643         0.200340   \n",
       "\n",
       "                 ENSG00000169962  ...  ENSG00000196576  ENSG00000128165  \\\n",
       "ENSG00000188976         0.010391  ...              0.0              0.0   \n",
       "ENSG00000188290         0.008769  ...              0.0              0.0   \n",
       "ENSG00000187608         0.010442  ...              0.0              0.0   \n",
       "ENSG00000188157         0.009189  ...              0.0              0.0   \n",
       "ENSG00000186891         0.093210  ...              0.0              0.0   \n",
       "\n",
       "                 ENSG00000100253  ENSG00000130489  ENSG00000025708  \\\n",
       "ENSG00000188976              0.0              0.0              0.0   \n",
       "ENSG00000188290              0.0              0.0              0.0   \n",
       "ENSG00000187608              0.0              0.0              0.0   \n",
       "ENSG00000188157              0.0              0.0              0.0   \n",
       "ENSG00000186891              0.0              0.0              0.0   \n",
       "\n",
       "                 ENSG00000205560  ENSG00000100288  ENSG00000008735  \\\n",
       "ENSG00000188976              0.0              0.0              0.0   \n",
       "ENSG00000188290              0.0              0.0              0.0   \n",
       "ENSG00000187608              0.0              0.0              0.0   \n",
       "ENSG00000188157              0.0              0.0              0.0   \n",
       "ENSG00000186891              0.0              0.0              0.0   \n",
       "\n",
       "                 ENSG00000100299  ENSG00000251322  \n",
       "ENSG00000188976              0.0              0.0  \n",
       "ENSG00000188290              0.0              0.0  \n",
       "ENSG00000187608              0.0              0.0  \n",
       "ENSG00000188157              0.0              0.0  \n",
       "ENSG00000186891              0.0              0.0  \n",
       "\n",
       "[5 rows x 6442 columns]"
      ]
     },
     "execution_count": 35,
     "metadata": {},
     "output_type": "execute_result"
    }
   ],
   "source": [
    "full_corr_matrix.head()"
   ]
  },
  {
   "cell_type": "code",
   "execution_count": 36,
   "id": "0d43f268-ad27-4117-b43b-df581deedae5",
   "metadata": {
    "execution": {
     "iopub.execute_input": "2022-08-03T02:23:20.659250Z",
     "iopub.status.busy": "2022-08-03T02:23:20.659075Z",
     "iopub.status.idle": "2022-08-03T02:23:20.674351Z",
     "shell.execute_reply": "2022-08-03T02:23:20.673855Z"
    },
    "papermill": {
     "duration": 0.028457,
     "end_time": "2022-08-03T02:23:20.675596",
     "exception": false,
     "start_time": "2022-08-03T02:23:20.647139",
     "status": "completed"
    },
    "tags": []
   },
   "outputs": [
    {
     "data": {
      "text/plain": [
       "True"
      ]
     },
     "execution_count": 36,
     "metadata": {},
     "output_type": "execute_result"
    }
   ],
   "source": [
    "np.all(full_corr_matrix.to_numpy().diagonal() == 1.0)"
   ]
  },
  {
   "cell_type": "markdown",
   "id": "1169db4b-9af2-4d3c-a27a-198d7730fa67",
   "metadata": {
    "papermill": {
     "duration": 0.01092,
     "end_time": "2022-08-03T02:23:20.698072",
     "exception": false,
     "start_time": "2022-08-03T02:23:20.687152",
     "status": "completed"
    },
    "tags": []
   },
   "source": [
    "## Some checks"
   ]
  },
  {
   "cell_type": "code",
   "execution_count": 37,
   "id": "776749ae-cf4d-46d8-9fae-49ea728f9002",
   "metadata": {
    "execution": {
     "iopub.execute_input": "2022-08-03T02:23:20.721447Z",
     "iopub.status.busy": "2022-08-03T02:23:20.721244Z",
     "iopub.status.idle": "2022-08-03T02:23:20.842828Z",
     "shell.execute_reply": "2022-08-03T02:23:20.842283Z"
    },
    "papermill": {
     "duration": 0.135017,
     "end_time": "2022-08-03T02:23:20.844389",
     "exception": false,
     "start_time": "2022-08-03T02:23:20.709372",
     "status": "completed"
    },
    "tags": []
   },
   "outputs": [],
   "source": [
    "assert not full_corr_matrix.isna().any(None)\n",
    "assert not np.isinf(full_corr_matrix.to_numpy()).any()\n",
    "assert not np.iscomplex(full_corr_matrix.to_numpy()).any()"
   ]
  },
  {
   "cell_type": "code",
   "execution_count": 38,
   "id": "31b4e109-a020-4667-9326-c63e6d80a33e",
   "metadata": {
    "execution": {
     "iopub.execute_input": "2022-08-03T02:23:20.867632Z",
     "iopub.status.busy": "2022-08-03T02:23:20.867440Z",
     "iopub.status.idle": "2022-08-03T02:23:21.028645Z",
     "shell.execute_reply": "2022-08-03T02:23:21.028029Z"
    },
    "papermill": {
     "duration": 0.17432,
     "end_time": "2022-08-03T02:23:21.029867",
     "exception": false,
     "start_time": "2022-08-03T02:23:20.855547",
     "status": "completed"
    },
    "tags": []
   },
   "outputs": [
    {
     "data": {
      "text/plain": [
       "0.0"
      ]
     },
     "metadata": {},
     "output_type": "display_data"
    }
   ],
   "source": [
    "_min_val = full_corr_matrix.min().min()\n",
    "display(_min_val)\n",
    "assert _min_val >= 0.0"
   ]
  },
  {
   "cell_type": "code",
   "execution_count": 39,
   "id": "df674d11-939a-4704-a718-f246527a1880",
   "metadata": {
    "execution": {
     "iopub.execute_input": "2022-08-03T02:23:21.053513Z",
     "iopub.status.busy": "2022-08-03T02:23:21.053306Z",
     "iopub.status.idle": "2022-08-03T02:23:21.225316Z",
     "shell.execute_reply": "2022-08-03T02:23:21.224827Z"
    },
    "papermill": {
     "duration": 0.185276,
     "end_time": "2022-08-03T02:23:21.226627",
     "exception": false,
     "start_time": "2022-08-03T02:23:21.041351",
     "status": "completed"
    },
    "tags": []
   },
   "outputs": [
    {
     "data": {
      "text/plain": [
       "1.0"
      ]
     },
     "metadata": {},
     "output_type": "display_data"
    }
   ],
   "source": [
    "_max_val = full_corr_matrix.max().max()  # this will capture the 1.0 in the diagonal\n",
    "display(_max_val)\n",
    "assert _max_val <= 1.00"
   ]
  },
  {
   "cell_type": "markdown",
   "id": "c44e801b-ef0c-424e-a880-85c1a75e9782",
   "metadata": {
    "papermill": {
     "duration": 0.011504,
     "end_time": "2022-08-03T02:23:21.250411",
     "exception": false,
     "start_time": "2022-08-03T02:23:21.238907",
     "status": "completed"
    },
    "tags": []
   },
   "source": [
    "# Positive definiteness"
   ]
  },
  {
   "cell_type": "code",
   "execution_count": 40,
   "id": "07d9a9a1-a4f7-48aa-b916-6d42a8cc6186",
   "metadata": {
    "execution": {
     "iopub.execute_input": "2022-08-03T02:23:21.274142Z",
     "iopub.status.busy": "2022-08-03T02:23:21.273470Z",
     "iopub.status.idle": "2022-08-03T02:24:12.141427Z",
     "shell.execute_reply": "2022-08-03T02:24:12.141021Z"
    },
    "papermill": {
     "duration": 50.890679,
     "end_time": "2022-08-03T02:24:12.152213",
     "exception": false,
     "start_time": "2022-08-03T02:23:21.261534",
     "status": "completed"
    },
    "tags": []
   },
   "outputs": [
    {
     "data": {
      "text/plain": [
       "1"
      ]
     },
     "metadata": {},
     "output_type": "display_data"
    },
    {
     "data": {
      "text/plain": [
       "array([-6.74432816e-16])"
      ]
     },
     "metadata": {},
     "output_type": "display_data"
    }
   ],
   "source": [
    "# print negative eigenvalues\n",
    "eigs = np.linalg.eigvals(full_corr_matrix.to_numpy())\n",
    "display(len(eigs[eigs < 0]))\n",
    "display(eigs[eigs < 0])"
   ]
  },
  {
   "cell_type": "code",
   "execution_count": 41,
   "id": "e514a575-dc67-45bc-9550-276389349bd1",
   "metadata": {
    "execution": {
     "iopub.execute_input": "2022-08-03T02:24:12.177423Z",
     "iopub.status.busy": "2022-08-03T02:24:12.176818Z",
     "iopub.status.idle": "2022-08-03T02:24:12.914478Z",
     "shell.execute_reply": "2022-08-03T02:24:12.913799Z"
    },
    "papermill": {
     "duration": 0.751726,
     "end_time": "2022-08-03T02:24:12.916017",
     "exception": false,
     "start_time": "2022-08-03T02:24:12.164291",
     "status": "completed"
    },
    "tags": []
   },
   "outputs": [
    {
     "name": "stdout",
     "output_type": "stream",
     "text": [
      "Cholesky decomposition failed: Matrix is not positive definite\n"
     ]
    }
   ],
   "source": [
    "CHOL_DECOMPOSITION_FAILED = None\n",
    "\n",
    "try:\n",
    "    chol_mat = np.linalg.cholesky(full_corr_matrix.to_numpy())\n",
    "    cov_inv = np.linalg.inv(chol_mat)\n",
    "    print(\"Works!\")\n",
    "    CHOL_DECOMPOSITION_FAILED = False\n",
    "except Exception as e:\n",
    "    print(f\"Cholesky decomposition failed: {str(e)}\")\n",
    "    CHOL_DECOMPOSITION_FAILED = True"
   ]
  },
  {
   "cell_type": "markdown",
   "id": "e33fce11-235d-42c3-aad3-dd6577518ab8",
   "metadata": {
    "papermill": {
     "duration": 0.013359,
     "end_time": "2022-08-03T02:24:12.943823",
     "exception": false,
     "start_time": "2022-08-03T02:24:12.930464",
     "status": "completed"
    },
    "tags": []
   },
   "source": [
    "## Adjust"
   ]
  },
  {
   "cell_type": "code",
   "execution_count": 42,
   "id": "8b0f307d-046f-480c-a246-2b777a26a031",
   "metadata": {
    "execution": {
     "iopub.execute_input": "2022-08-03T02:24:12.968317Z",
     "iopub.status.busy": "2022-08-03T02:24:12.968102Z",
     "iopub.status.idle": "2022-08-03T02:24:13.660597Z",
     "shell.execute_reply": "2022-08-03T02:24:13.659721Z"
    },
    "papermill": {
     "duration": 0.706656,
     "end_time": "2022-08-03T02:24:13.662417",
     "exception": false,
     "start_time": "2022-08-03T02:24:12.955761",
     "status": "completed"
    },
    "tags": []
   },
   "outputs": [],
   "source": [
    "%load_ext rpy2.ipython"
   ]
  },
  {
   "cell_type": "code",
   "execution_count": 43,
   "id": "45b1b1dd-e5c8-4137-85e4-15a14739404d",
   "metadata": {
    "execution": {
     "iopub.execute_input": "2022-08-03T02:24:13.692059Z",
     "iopub.status.busy": "2022-08-03T02:24:13.691866Z",
     "iopub.status.idle": "2022-08-03T02:24:13.750367Z",
     "shell.execute_reply": "2022-08-03T02:24:13.749691Z"
    },
    "papermill": {
     "duration": 0.074827,
     "end_time": "2022-08-03T02:24:13.751800",
     "exception": false,
     "start_time": "2022-08-03T02:24:13.676973",
     "status": "completed"
    },
    "tags": []
   },
   "outputs": [],
   "source": [
    "%%R\n",
    "# taken and adapted from https://www.r-bloggers.com/2013/08/correcting-a-pseudo-correlation-matrix-to-be-positive-semidefinite/\n",
    "CorrectCM <- function(CM, p = 0) {\n",
    "  n <- dim(CM)[1L]\n",
    "  E <- eigen(CM)\n",
    "  CM1 <- E$vectors %*% tcrossprod(diag(pmax(E$values, p), n), E$vectors)\n",
    "  Balance <- diag(1 / sqrt(diag(CM1)))\n",
    "  CM2 <- Balance %*% CM1 %*% Balance\n",
    "  return(CM2)\n",
    "}"
   ]
  },
  {
   "cell_type": "code",
   "execution_count": 44,
   "id": "e072d1dc-fa74-44da-8a09-67a092f2adaf",
   "metadata": {
    "execution": {
     "iopub.execute_input": "2022-08-03T02:24:13.778747Z",
     "iopub.status.busy": "2022-08-03T02:24:13.778565Z",
     "iopub.status.idle": "2022-08-03T02:25:05.255254Z",
     "shell.execute_reply": "2022-08-03T02:25:05.254664Z"
    },
    "papermill": {
     "duration": 51.492405,
     "end_time": "2022-08-03T02:25:05.256864",
     "exception": false,
     "start_time": "2022-08-03T02:24:13.764459",
     "status": "completed"
    },
    "tags": []
   },
   "outputs": [
    {
     "data": {
      "text/plain": [
       "(6442, 6442)"
      ]
     },
     "metadata": {},
     "output_type": "display_data"
    },
    {
     "data": {
      "text/plain": [
       "(6442, 6442)"
      ]
     },
     "metadata": {},
     "output_type": "display_data"
    },
    {
     "data": {
      "text/html": [
       "<div>\n",
       "<style scoped>\n",
       "    .dataframe tbody tr th:only-of-type {\n",
       "        vertical-align: middle;\n",
       "    }\n",
       "\n",
       "    .dataframe tbody tr th {\n",
       "        vertical-align: top;\n",
       "    }\n",
       "\n",
       "    .dataframe thead th {\n",
       "        text-align: right;\n",
       "    }\n",
       "</style>\n",
       "<table border=\"1\" class=\"dataframe\">\n",
       "  <thead>\n",
       "    <tr style=\"text-align: right;\">\n",
       "      <th></th>\n",
       "      <th>ENSG00000188976</th>\n",
       "      <th>ENSG00000188290</th>\n",
       "      <th>ENSG00000187608</th>\n",
       "      <th>ENSG00000188157</th>\n",
       "      <th>ENSG00000186891</th>\n",
       "      <th>ENSG00000186827</th>\n",
       "      <th>ENSG00000176022</th>\n",
       "      <th>ENSG00000160087</th>\n",
       "      <th>ENSG00000131584</th>\n",
       "      <th>ENSG00000169962</th>\n",
       "      <th>...</th>\n",
       "      <th>ENSG00000196576</th>\n",
       "      <th>ENSG00000128165</th>\n",
       "      <th>ENSG00000100253</th>\n",
       "      <th>ENSG00000130489</th>\n",
       "      <th>ENSG00000025708</th>\n",
       "      <th>ENSG00000205560</th>\n",
       "      <th>ENSG00000100288</th>\n",
       "      <th>ENSG00000008735</th>\n",
       "      <th>ENSG00000100299</th>\n",
       "      <th>ENSG00000251322</th>\n",
       "    </tr>\n",
       "  </thead>\n",
       "  <tbody>\n",
       "    <tr>\n",
       "      <th>ENSG00000188976</th>\n",
       "      <td>1.000000</td>\n",
       "      <td>0.115011</td>\n",
       "      <td>0.173138</td>\n",
       "      <td>0.056096</td>\n",
       "      <td>0.008032</td>\n",
       "      <td>0.008727</td>\n",
       "      <td>0.006797</td>\n",
       "      <td>0.004533</td>\n",
       "      <td>0.007350</td>\n",
       "      <td>0.010391</td>\n",
       "      <td>...</td>\n",
       "      <td>0.000000</td>\n",
       "      <td>0.000000</td>\n",
       "      <td>0.000000</td>\n",
       "      <td>0.000000</td>\n",
       "      <td>0.000000</td>\n",
       "      <td>0.000000</td>\n",
       "      <td>0.000000</td>\n",
       "      <td>0.000000</td>\n",
       "      <td>0.000000</td>\n",
       "      <td>0.000000</td>\n",
       "    </tr>\n",
       "    <tr>\n",
       "      <th>ENSG00000188290</th>\n",
       "      <td>0.115011</td>\n",
       "      <td>1.000000</td>\n",
       "      <td>0.681368</td>\n",
       "      <td>0.360588</td>\n",
       "      <td>0.011545</td>\n",
       "      <td>0.010729</td>\n",
       "      <td>0.003577</td>\n",
       "      <td>0.010230</td>\n",
       "      <td>0.010747</td>\n",
       "      <td>0.008769</td>\n",
       "      <td>...</td>\n",
       "      <td>0.000000</td>\n",
       "      <td>0.000000</td>\n",
       "      <td>0.000000</td>\n",
       "      <td>0.000000</td>\n",
       "      <td>0.000000</td>\n",
       "      <td>0.000000</td>\n",
       "      <td>0.000000</td>\n",
       "      <td>0.000000</td>\n",
       "      <td>0.000000</td>\n",
       "      <td>0.000000</td>\n",
       "    </tr>\n",
       "    <tr>\n",
       "      <th>ENSG00000187608</th>\n",
       "      <td>0.173138</td>\n",
       "      <td>0.681368</td>\n",
       "      <td>1.000000</td>\n",
       "      <td>0.381394</td>\n",
       "      <td>0.011774</td>\n",
       "      <td>0.012527</td>\n",
       "      <td>0.003754</td>\n",
       "      <td>0.012096</td>\n",
       "      <td>0.012679</td>\n",
       "      <td>0.010442</td>\n",
       "      <td>...</td>\n",
       "      <td>0.000000</td>\n",
       "      <td>0.000000</td>\n",
       "      <td>0.000000</td>\n",
       "      <td>0.000000</td>\n",
       "      <td>0.000000</td>\n",
       "      <td>0.000000</td>\n",
       "      <td>0.000000</td>\n",
       "      <td>0.000000</td>\n",
       "      <td>0.000000</td>\n",
       "      <td>0.000000</td>\n",
       "    </tr>\n",
       "    <tr>\n",
       "      <th>ENSG00000188157</th>\n",
       "      <td>0.056096</td>\n",
       "      <td>0.360588</td>\n",
       "      <td>0.381394</td>\n",
       "      <td>1.000000</td>\n",
       "      <td>0.013005</td>\n",
       "      <td>0.015775</td>\n",
       "      <td>0.006184</td>\n",
       "      <td>0.006813</td>\n",
       "      <td>0.010775</td>\n",
       "      <td>0.009189</td>\n",
       "      <td>...</td>\n",
       "      <td>0.000000</td>\n",
       "      <td>0.000000</td>\n",
       "      <td>0.000000</td>\n",
       "      <td>0.000000</td>\n",
       "      <td>0.000000</td>\n",
       "      <td>0.000000</td>\n",
       "      <td>0.000000</td>\n",
       "      <td>0.000000</td>\n",
       "      <td>0.000000</td>\n",
       "      <td>0.000000</td>\n",
       "    </tr>\n",
       "    <tr>\n",
       "      <th>ENSG00000186891</th>\n",
       "      <td>0.008032</td>\n",
       "      <td>0.011545</td>\n",
       "      <td>0.011774</td>\n",
       "      <td>0.013005</td>\n",
       "      <td>1.000000</td>\n",
       "      <td>0.356676</td>\n",
       "      <td>0.454010</td>\n",
       "      <td>0.137643</td>\n",
       "      <td>0.200340</td>\n",
       "      <td>0.093210</td>\n",
       "      <td>...</td>\n",
       "      <td>0.000000</td>\n",
       "      <td>0.000000</td>\n",
       "      <td>0.000000</td>\n",
       "      <td>0.000000</td>\n",
       "      <td>0.000000</td>\n",
       "      <td>0.000000</td>\n",
       "      <td>0.000000</td>\n",
       "      <td>0.000000</td>\n",
       "      <td>0.000000</td>\n",
       "      <td>0.000000</td>\n",
       "    </tr>\n",
       "    <tr>\n",
       "      <th>...</th>\n",
       "      <td>...</td>\n",
       "      <td>...</td>\n",
       "      <td>...</td>\n",
       "      <td>...</td>\n",
       "      <td>...</td>\n",
       "      <td>...</td>\n",
       "      <td>...</td>\n",
       "      <td>...</td>\n",
       "      <td>...</td>\n",
       "      <td>...</td>\n",
       "      <td>...</td>\n",
       "      <td>...</td>\n",
       "      <td>...</td>\n",
       "      <td>...</td>\n",
       "      <td>...</td>\n",
       "      <td>...</td>\n",
       "      <td>...</td>\n",
       "      <td>...</td>\n",
       "      <td>...</td>\n",
       "      <td>...</td>\n",
       "      <td>...</td>\n",
       "    </tr>\n",
       "    <tr>\n",
       "      <th>ENSG00000205560</th>\n",
       "      <td>0.000000</td>\n",
       "      <td>0.000000</td>\n",
       "      <td>0.000000</td>\n",
       "      <td>0.000000</td>\n",
       "      <td>0.000000</td>\n",
       "      <td>0.000000</td>\n",
       "      <td>0.000000</td>\n",
       "      <td>0.000000</td>\n",
       "      <td>0.000000</td>\n",
       "      <td>0.000000</td>\n",
       "      <td>...</td>\n",
       "      <td>0.016479</td>\n",
       "      <td>0.065197</td>\n",
       "      <td>0.008608</td>\n",
       "      <td>0.293494</td>\n",
       "      <td>0.233187</td>\n",
       "      <td>1.000000</td>\n",
       "      <td>0.732548</td>\n",
       "      <td>0.197890</td>\n",
       "      <td>0.036229</td>\n",
       "      <td>0.008387</td>\n",
       "    </tr>\n",
       "    <tr>\n",
       "      <th>ENSG00000100288</th>\n",
       "      <td>0.000000</td>\n",
       "      <td>0.000000</td>\n",
       "      <td>0.000000</td>\n",
       "      <td>0.000000</td>\n",
       "      <td>0.000000</td>\n",
       "      <td>0.000000</td>\n",
       "      <td>0.000000</td>\n",
       "      <td>0.000000</td>\n",
       "      <td>0.000000</td>\n",
       "      <td>0.000000</td>\n",
       "      <td>...</td>\n",
       "      <td>0.022149</td>\n",
       "      <td>0.061143</td>\n",
       "      <td>0.011177</td>\n",
       "      <td>0.240853</td>\n",
       "      <td>0.211789</td>\n",
       "      <td>0.732548</td>\n",
       "      <td>1.000000</td>\n",
       "      <td>0.280542</td>\n",
       "      <td>0.027155</td>\n",
       "      <td>0.020439</td>\n",
       "    </tr>\n",
       "    <tr>\n",
       "      <th>ENSG00000008735</th>\n",
       "      <td>0.000000</td>\n",
       "      <td>0.000000</td>\n",
       "      <td>0.000000</td>\n",
       "      <td>0.000000</td>\n",
       "      <td>0.000000</td>\n",
       "      <td>0.000000</td>\n",
       "      <td>0.000000</td>\n",
       "      <td>0.000000</td>\n",
       "      <td>0.000000</td>\n",
       "      <td>0.000000</td>\n",
       "      <td>...</td>\n",
       "      <td>0.040192</td>\n",
       "      <td>0.097400</td>\n",
       "      <td>0.067715</td>\n",
       "      <td>0.070062</td>\n",
       "      <td>0.132700</td>\n",
       "      <td>0.197890</td>\n",
       "      <td>0.280542</td>\n",
       "      <td>1.000000</td>\n",
       "      <td>0.226706</td>\n",
       "      <td>0.035740</td>\n",
       "    </tr>\n",
       "    <tr>\n",
       "      <th>ENSG00000100299</th>\n",
       "      <td>0.000000</td>\n",
       "      <td>0.000000</td>\n",
       "      <td>0.000000</td>\n",
       "      <td>0.000000</td>\n",
       "      <td>0.000000</td>\n",
       "      <td>0.000000</td>\n",
       "      <td>0.000000</td>\n",
       "      <td>0.000000</td>\n",
       "      <td>0.000000</td>\n",
       "      <td>0.000000</td>\n",
       "      <td>...</td>\n",
       "      <td>0.013862</td>\n",
       "      <td>0.028588</td>\n",
       "      <td>0.013744</td>\n",
       "      <td>0.037442</td>\n",
       "      <td>0.041831</td>\n",
       "      <td>0.036229</td>\n",
       "      <td>0.027155</td>\n",
       "      <td>0.226706</td>\n",
       "      <td>1.000000</td>\n",
       "      <td>0.032019</td>\n",
       "    </tr>\n",
       "    <tr>\n",
       "      <th>ENSG00000251322</th>\n",
       "      <td>0.000000</td>\n",
       "      <td>0.000000</td>\n",
       "      <td>0.000000</td>\n",
       "      <td>0.000000</td>\n",
       "      <td>0.000000</td>\n",
       "      <td>0.000000</td>\n",
       "      <td>0.000000</td>\n",
       "      <td>0.000000</td>\n",
       "      <td>0.000000</td>\n",
       "      <td>0.000000</td>\n",
       "      <td>...</td>\n",
       "      <td>0.013269</td>\n",
       "      <td>0.017828</td>\n",
       "      <td>0.013507</td>\n",
       "      <td>0.000661</td>\n",
       "      <td>0.005277</td>\n",
       "      <td>0.008387</td>\n",
       "      <td>0.020439</td>\n",
       "      <td>0.035740</td>\n",
       "      <td>0.032019</td>\n",
       "      <td>1.000000</td>\n",
       "    </tr>\n",
       "  </tbody>\n",
       "</table>\n",
       "<p>6442 rows × 6442 columns</p>\n",
       "</div>"
      ],
      "text/plain": [
       "                 ENSG00000188976  ENSG00000188290  ENSG00000187608  \\\n",
       "ENSG00000188976         1.000000         0.115011         0.173138   \n",
       "ENSG00000188290         0.115011         1.000000         0.681368   \n",
       "ENSG00000187608         0.173138         0.681368         1.000000   \n",
       "ENSG00000188157         0.056096         0.360588         0.381394   \n",
       "ENSG00000186891         0.008032         0.011545         0.011774   \n",
       "...                          ...              ...              ...   \n",
       "ENSG00000205560         0.000000         0.000000         0.000000   \n",
       "ENSG00000100288         0.000000         0.000000         0.000000   \n",
       "ENSG00000008735         0.000000         0.000000         0.000000   \n",
       "ENSG00000100299         0.000000         0.000000         0.000000   \n",
       "ENSG00000251322         0.000000         0.000000         0.000000   \n",
       "\n",
       "                 ENSG00000188157  ENSG00000186891  ENSG00000186827  \\\n",
       "ENSG00000188976         0.056096         0.008032         0.008727   \n",
       "ENSG00000188290         0.360588         0.011545         0.010729   \n",
       "ENSG00000187608         0.381394         0.011774         0.012527   \n",
       "ENSG00000188157         1.000000         0.013005         0.015775   \n",
       "ENSG00000186891         0.013005         1.000000         0.356676   \n",
       "...                          ...              ...              ...   \n",
       "ENSG00000205560         0.000000         0.000000         0.000000   \n",
       "ENSG00000100288         0.000000         0.000000         0.000000   \n",
       "ENSG00000008735         0.000000         0.000000         0.000000   \n",
       "ENSG00000100299         0.000000         0.000000         0.000000   \n",
       "ENSG00000251322         0.000000         0.000000         0.000000   \n",
       "\n",
       "                 ENSG00000176022  ENSG00000160087  ENSG00000131584  \\\n",
       "ENSG00000188976         0.006797         0.004533         0.007350   \n",
       "ENSG00000188290         0.003577         0.010230         0.010747   \n",
       "ENSG00000187608         0.003754         0.012096         0.012679   \n",
       "ENSG00000188157         0.006184         0.006813         0.010775   \n",
       "ENSG00000186891         0.454010         0.137643         0.200340   \n",
       "...                          ...              ...              ...   \n",
       "ENSG00000205560         0.000000         0.000000         0.000000   \n",
       "ENSG00000100288         0.000000         0.000000         0.000000   \n",
       "ENSG00000008735         0.000000         0.000000         0.000000   \n",
       "ENSG00000100299         0.000000         0.000000         0.000000   \n",
       "ENSG00000251322         0.000000         0.000000         0.000000   \n",
       "\n",
       "                 ENSG00000169962  ...  ENSG00000196576  ENSG00000128165  \\\n",
       "ENSG00000188976         0.010391  ...         0.000000         0.000000   \n",
       "ENSG00000188290         0.008769  ...         0.000000         0.000000   \n",
       "ENSG00000187608         0.010442  ...         0.000000         0.000000   \n",
       "ENSG00000188157         0.009189  ...         0.000000         0.000000   \n",
       "ENSG00000186891         0.093210  ...         0.000000         0.000000   \n",
       "...                          ...  ...              ...              ...   \n",
       "ENSG00000205560         0.000000  ...         0.016479         0.065197   \n",
       "ENSG00000100288         0.000000  ...         0.022149         0.061143   \n",
       "ENSG00000008735         0.000000  ...         0.040192         0.097400   \n",
       "ENSG00000100299         0.000000  ...         0.013862         0.028588   \n",
       "ENSG00000251322         0.000000  ...         0.013269         0.017828   \n",
       "\n",
       "                 ENSG00000100253  ENSG00000130489  ENSG00000025708  \\\n",
       "ENSG00000188976         0.000000         0.000000         0.000000   \n",
       "ENSG00000188290         0.000000         0.000000         0.000000   \n",
       "ENSG00000187608         0.000000         0.000000         0.000000   \n",
       "ENSG00000188157         0.000000         0.000000         0.000000   \n",
       "ENSG00000186891         0.000000         0.000000         0.000000   \n",
       "...                          ...              ...              ...   \n",
       "ENSG00000205560         0.008608         0.293494         0.233187   \n",
       "ENSG00000100288         0.011177         0.240853         0.211789   \n",
       "ENSG00000008735         0.067715         0.070062         0.132700   \n",
       "ENSG00000100299         0.013744         0.037442         0.041831   \n",
       "ENSG00000251322         0.013507         0.000661         0.005277   \n",
       "\n",
       "                 ENSG00000205560  ENSG00000100288  ENSG00000008735  \\\n",
       "ENSG00000188976         0.000000         0.000000         0.000000   \n",
       "ENSG00000188290         0.000000         0.000000         0.000000   \n",
       "ENSG00000187608         0.000000         0.000000         0.000000   \n",
       "ENSG00000188157         0.000000         0.000000         0.000000   \n",
       "ENSG00000186891         0.000000         0.000000         0.000000   \n",
       "...                          ...              ...              ...   \n",
       "ENSG00000205560         1.000000         0.732548         0.197890   \n",
       "ENSG00000100288         0.732548         1.000000         0.280542   \n",
       "ENSG00000008735         0.197890         0.280542         1.000000   \n",
       "ENSG00000100299         0.036229         0.027155         0.226706   \n",
       "ENSG00000251322         0.008387         0.020439         0.035740   \n",
       "\n",
       "                 ENSG00000100299  ENSG00000251322  \n",
       "ENSG00000188976         0.000000         0.000000  \n",
       "ENSG00000188290         0.000000         0.000000  \n",
       "ENSG00000187608         0.000000         0.000000  \n",
       "ENSG00000188157         0.000000         0.000000  \n",
       "ENSG00000186891         0.000000         0.000000  \n",
       "...                          ...              ...  \n",
       "ENSG00000205560         0.036229         0.008387  \n",
       "ENSG00000100288         0.027155         0.020439  \n",
       "ENSG00000008735         0.226706         0.035740  \n",
       "ENSG00000100299         1.000000         0.032019  \n",
       "ENSG00000251322         0.032019         1.000000  \n",
       "\n",
       "[6442 rows x 6442 columns]"
      ]
     },
     "metadata": {},
     "output_type": "display_data"
    }
   ],
   "source": [
    "if CHOL_DECOMPOSITION_FAILED:\n",
    "    corr_mat_r = full_corr_matrix.to_numpy()\n",
    "\n",
    "    %Rpush corr_mat_r\n",
    "    %R -o corr_mat_r_fixed corr_mat_r_fixed <- CorrectCM(corr_mat_r, 1e-5)\n",
    "\n",
    "    display(corr_mat_r_fixed.shape)\n",
    "\n",
    "    full_corr_matrix_fixed = pd.DataFrame(\n",
    "        corr_mat_r_fixed,\n",
    "        index=full_corr_matrix.index.copy(),\n",
    "        columns=full_corr_matrix.columns.copy(),\n",
    "    )\n",
    "    display(full_corr_matrix_fixed.shape)\n",
    "    display(full_corr_matrix_fixed)\n",
    "else:\n",
    "    print(\"No adjustment was necessary\")"
   ]
  },
  {
   "cell_type": "markdown",
   "id": "024b04c6-e0bf-4a88-98af-5ca7a96a8753",
   "metadata": {
    "papermill": {
     "duration": 0.013045,
     "end_time": "2022-08-03T02:25:05.283119",
     "exception": false,
     "start_time": "2022-08-03T02:25:05.270074",
     "status": "completed"
    },
    "tags": []
   },
   "source": [
    "## Make sure the new matrix is positive definite"
   ]
  },
  {
   "cell_type": "code",
   "execution_count": 45,
   "id": "6908be87-1086-45bd-b8f0-4cf923755683",
   "metadata": {
    "execution": {
     "iopub.execute_input": "2022-08-03T02:25:05.309268Z",
     "iopub.status.busy": "2022-08-03T02:25:05.309061Z",
     "iopub.status.idle": "2022-08-03T02:26:03.300795Z",
     "shell.execute_reply": "2022-08-03T02:26:03.300224Z"
    },
    "papermill": {
     "duration": 58.006091,
     "end_time": "2022-08-03T02:26:03.302394",
     "exception": false,
     "start_time": "2022-08-03T02:25:05.296303",
     "status": "completed"
    },
    "tags": []
   },
   "outputs": [
    {
     "data": {
      "text/plain": [
       "0"
      ]
     },
     "metadata": {},
     "output_type": "display_data"
    },
    {
     "data": {
      "text/plain": [
       "array([], dtype=float64)"
      ]
     },
     "metadata": {},
     "output_type": "display_data"
    }
   ],
   "source": [
    "if CHOL_DECOMPOSITION_FAILED:\n",
    "    # print negative eigenvalues\n",
    "    eigs = np.linalg.eigvals(full_corr_matrix_fixed.to_numpy())\n",
    "    display(len(eigs[eigs < 0]))\n",
    "    display(eigs[eigs < 0])\n",
    "\n",
    "    chol_mat = np.linalg.cholesky(full_corr_matrix_fixed.to_numpy())\n",
    "    cov_inv = np.linalg.inv(chol_mat)\n",
    "\n",
    "    assert not np.isnan(chol_mat).any()\n",
    "    assert not np.isinf(chol_mat).any()\n",
    "    assert not np.iscomplex(chol_mat).any()\n",
    "\n",
    "    assert not np.isnan(cov_inv).any()\n",
    "    assert not np.isinf(cov_inv).any()\n",
    "    assert not np.iscomplex(cov_inv).any()\n",
    "else:\n",
    "    print(\"No adjustment was necessary\")"
   ]
  },
  {
   "cell_type": "markdown",
   "id": "ce84a6b4-9590-4b99-9fd6-83724f6d8f29",
   "metadata": {
    "papermill": {
     "duration": 0.012738,
     "end_time": "2022-08-03T02:26:03.328615",
     "exception": false,
     "start_time": "2022-08-03T02:26:03.315877",
     "status": "completed"
    },
    "tags": []
   },
   "source": [
    "## Compare adjusted and original correlation matrix"
   ]
  },
  {
   "cell_type": "code",
   "execution_count": 46,
   "id": "79e6972e-1832-4fd2-8e34-b4732f42a495",
   "metadata": {
    "execution": {
     "iopub.execute_input": "2022-08-03T02:26:03.354026Z",
     "iopub.status.busy": "2022-08-03T02:26:03.353821Z",
     "iopub.status.idle": "2022-08-03T02:26:03.997101Z",
     "shell.execute_reply": "2022-08-03T02:26:03.996516Z"
    },
    "papermill": {
     "duration": 0.65756,
     "end_time": "2022-08-03T02:26:03.998399",
     "exception": false,
     "start_time": "2022-08-03T02:26:03.340839",
     "status": "completed"
    },
    "tags": []
   },
   "outputs": [
    {
     "data": {
      "text/plain": [
       "4.1401519051325054e-10"
      ]
     },
     "metadata": {},
     "output_type": "display_data"
    }
   ],
   "source": [
    "if CHOL_DECOMPOSITION_FAILED:\n",
    "    # print the element-wise difference between the original and the adjusted matrix\n",
    "    _diff = ((full_corr_matrix - full_corr_matrix_fixed) ** 2).unstack().sum()\n",
    "    display(_diff)\n",
    "    assert _diff < 1e-5\n",
    "else:\n",
    "    print(\"No adjustment was necessary\")"
   ]
  },
  {
   "cell_type": "markdown",
   "id": "bd9fd435-7a5c-4c52-b00e-32167287cc01",
   "metadata": {
    "papermill": {
     "duration": 0.012418,
     "end_time": "2022-08-03T02:26:04.023793",
     "exception": false,
     "start_time": "2022-08-03T02:26:04.011375",
     "status": "completed"
    },
    "tags": []
   },
   "source": [
    "## Replace original matrix with adjusted one"
   ]
  },
  {
   "cell_type": "code",
   "execution_count": 47,
   "id": "fc8a4108-e93b-478f-b09f-4d64635fe4d5",
   "metadata": {
    "execution": {
     "iopub.execute_input": "2022-08-03T02:26:04.049680Z",
     "iopub.status.busy": "2022-08-03T02:26:04.049222Z",
     "iopub.status.idle": "2022-08-03T02:26:04.066905Z",
     "shell.execute_reply": "2022-08-03T02:26:04.066360Z"
    },
    "papermill": {
     "duration": 0.03241,
     "end_time": "2022-08-03T02:26:04.068514",
     "exception": false,
     "start_time": "2022-08-03T02:26:04.036104",
     "status": "completed"
    },
    "tags": []
   },
   "outputs": [],
   "source": [
    "if CHOL_DECOMPOSITION_FAILED:\n",
    "    full_corr_matrix = full_corr_matrix_fixed\n",
    "else:\n",
    "    print(\"No adjustment was necessary\")"
   ]
  },
  {
   "cell_type": "markdown",
   "id": "551bd31a-ad37-45b5-a0c8-6ff1459faf60",
   "metadata": {
    "papermill": {
     "duration": 0.015092,
     "end_time": "2022-08-03T02:26:04.100029",
     "exception": false,
     "start_time": "2022-08-03T02:26:04.084937",
     "status": "completed"
    },
    "tags": []
   },
   "source": [
    "# Stats"
   ]
  },
  {
   "cell_type": "code",
   "execution_count": 48,
   "id": "33b5482f-7ecf-4365-867f-249f28d09180",
   "metadata": {
    "execution": {
     "iopub.execute_input": "2022-08-03T02:26:04.127837Z",
     "iopub.status.busy": "2022-08-03T02:26:04.127673Z",
     "iopub.status.idle": "2022-08-03T02:26:05.065218Z",
     "shell.execute_reply": "2022-08-03T02:26:05.064583Z"
    },
    "papermill": {
     "duration": 0.95342,
     "end_time": "2022-08-03T02:26:05.067292",
     "exception": false,
     "start_time": "2022-08-03T02:26:04.113872",
     "status": "completed"
    },
    "tags": []
   },
   "outputs": [],
   "source": [
    "full_corr_matrix_flat = full_corr_matrix.mask(\n",
    "    np.triu(np.ones(full_corr_matrix.shape)).astype(bool)\n",
    ").stack()"
   ]
  },
  {
   "cell_type": "code",
   "execution_count": 49,
   "id": "e2d950d1-646a-4ba1-bb91-cf07ad00872d",
   "metadata": {
    "execution": {
     "iopub.execute_input": "2022-08-03T02:26:05.100273Z",
     "iopub.status.busy": "2022-08-03T02:26:05.100084Z",
     "iopub.status.idle": "2022-08-03T02:26:05.118330Z",
     "shell.execute_reply": "2022-08-03T02:26:05.117660Z"
    },
    "papermill": {
     "duration": 0.036128,
     "end_time": "2022-08-03T02:26:05.119782",
     "exception": false,
     "start_time": "2022-08-03T02:26:05.083654",
     "status": "completed"
    },
    "tags": []
   },
   "outputs": [
    {
     "data": {
      "text/plain": [
       "(20746461,)"
      ]
     },
     "metadata": {},
     "output_type": "display_data"
    }
   ],
   "source": [
    "display(full_corr_matrix_flat.shape)\n",
    "assert full_corr_matrix_flat.shape[0] == int(\n",
    "    full_corr_matrix.shape[0] * (full_corr_matrix.shape[0] - 1) / 2\n",
    ")"
   ]
  },
  {
   "cell_type": "markdown",
   "id": "5fd7d482-b7b8-4a84-91b0-749d15f0d2c0",
   "metadata": {
    "papermill": {
     "duration": 0.013344,
     "end_time": "2022-08-03T02:26:05.147491",
     "exception": false,
     "start_time": "2022-08-03T02:26:05.134147",
     "status": "completed"
    },
    "tags": []
   },
   "source": [
    "## On all correlations"
   ]
  },
  {
   "cell_type": "code",
   "execution_count": 50,
   "id": "e58ea199-0cc1-449d-a55e-26970fb674a8",
   "metadata": {
    "execution": {
     "iopub.execute_input": "2022-08-03T02:26:05.173479Z",
     "iopub.status.busy": "2022-08-03T02:26:05.173268Z",
     "iopub.status.idle": "2022-08-03T02:26:05.188017Z",
     "shell.execute_reply": "2022-08-03T02:26:05.187404Z"
    },
    "papermill": {
     "duration": 0.029368,
     "end_time": "2022-08-03T02:26:05.189322",
     "exception": false,
     "start_time": "2022-08-03T02:26:05.159954",
     "status": "completed"
    },
    "tags": []
   },
   "outputs": [],
   "source": [
    "_corr_mat = full_corr_matrix_flat"
   ]
  },
  {
   "cell_type": "code",
   "execution_count": 51,
   "id": "c4e71773-0b74-435f-a9d9-cc8671d7c570",
   "metadata": {
    "execution": {
     "iopub.execute_input": "2022-08-03T02:26:05.215339Z",
     "iopub.status.busy": "2022-08-03T02:26:05.215132Z",
     "iopub.status.idle": "2022-08-03T02:26:05.230920Z",
     "shell.execute_reply": "2022-08-03T02:26:05.230402Z"
    },
    "papermill": {
     "duration": 0.030001,
     "end_time": "2022-08-03T02:26:05.232170",
     "exception": false,
     "start_time": "2022-08-03T02:26:05.202169",
     "status": "completed"
    },
    "tags": []
   },
   "outputs": [
    {
     "data": {
      "text/plain": [
       "(20746461,)"
      ]
     },
     "execution_count": 51,
     "metadata": {},
     "output_type": "execute_result"
    }
   ],
   "source": [
    "_corr_mat.shape"
   ]
  },
  {
   "cell_type": "code",
   "execution_count": 52,
   "id": "9907fbe4-85e1-4690-ae0c-3c6f5a19e9b7",
   "metadata": {
    "execution": {
     "iopub.execute_input": "2022-08-03T02:26:05.258174Z",
     "iopub.status.busy": "2022-08-03T02:26:05.257954Z",
     "iopub.status.idle": "2022-08-03T02:26:05.274835Z",
     "shell.execute_reply": "2022-08-03T02:26:05.274335Z"
    },
    "papermill": {
     "duration": 0.031002,
     "end_time": "2022-08-03T02:26:05.276102",
     "exception": false,
     "start_time": "2022-08-03T02:26:05.245100",
     "status": "completed"
    },
    "tags": []
   },
   "outputs": [
    {
     "data": {
      "text/plain": [
       "ENSG00000188290  ENSG00000188976    0.115011\n",
       "ENSG00000187608  ENSG00000188976    0.173138\n",
       "                 ENSG00000188290    0.681368\n",
       "ENSG00000188157  ENSG00000188976    0.056096\n",
       "                 ENSG00000188290    0.360588\n",
       "dtype: float64"
      ]
     },
     "execution_count": 52,
     "metadata": {},
     "output_type": "execute_result"
    }
   ],
   "source": [
    "_corr_mat.head()"
   ]
  },
  {
   "cell_type": "code",
   "execution_count": 53,
   "id": "cb34e9c9-7488-47f2-aa31-c8a8e83f92ae",
   "metadata": {
    "execution": {
     "iopub.execute_input": "2022-08-03T02:26:05.303389Z",
     "iopub.status.busy": "2022-08-03T02:26:05.303225Z",
     "iopub.status.idle": "2022-08-03T02:26:05.922183Z",
     "shell.execute_reply": "2022-08-03T02:26:05.921673Z"
    },
    "papermill": {
     "duration": 0.634066,
     "end_time": "2022-08-03T02:26:05.923467",
     "exception": false,
     "start_time": "2022-08-03T02:26:05.289401",
     "status": "completed"
    },
    "tags": []
   },
   "outputs": [
    {
     "data": {
      "text/plain": [
       "count              20746461.0\n",
       "mean      0.00058148369453953\n",
       "std      0.007179628567564358\n",
       "min                       0.0\n",
       "25%                       0.0\n",
       "50%                       0.0\n",
       "75%                       0.0\n",
       "max        0.9999900000499999\n",
       "dtype: object"
      ]
     },
     "execution_count": 53,
     "metadata": {},
     "output_type": "execute_result"
    }
   ],
   "source": [
    "_corr_mat.describe().apply(str)"
   ]
  },
  {
   "cell_type": "code",
   "execution_count": 54,
   "id": "ccb2fbfa-e381-40a0-a269-e280c12c6039",
   "metadata": {
    "execution": {
     "iopub.execute_input": "2022-08-03T02:26:05.950126Z",
     "iopub.status.busy": "2022-08-03T02:26:05.949917Z",
     "iopub.status.idle": "2022-08-03T02:26:06.274702Z",
     "shell.execute_reply": "2022-08-03T02:26:06.274161Z"
    },
    "papermill": {
     "duration": 0.339398,
     "end_time": "2022-08-03T02:26:06.276003",
     "exception": false,
     "start_time": "2022-08-03T02:26:05.936605",
     "status": "completed"
    },
    "tags": []
   },
   "outputs": [
    {
     "data": {
      "text/plain": [
       "0.00    0.000000\n",
       "0.05    0.000000\n",
       "0.10    0.000000\n",
       "0.15    0.000000\n",
       "0.20    0.000000\n",
       "0.25    0.000000\n",
       "0.30    0.000000\n",
       "0.35    0.000000\n",
       "0.40    0.000000\n",
       "0.45    0.000000\n",
       "0.50    0.000000\n",
       "0.55    0.000000\n",
       "0.60    0.000000\n",
       "0.65    0.000000\n",
       "0.70    0.000000\n",
       "0.75    0.000000\n",
       "0.80    0.000000\n",
       "0.85    0.000000\n",
       "0.90    0.000000\n",
       "0.95    0.003197\n",
       "dtype: float64"
      ]
     },
     "metadata": {},
     "output_type": "display_data"
    }
   ],
   "source": [
    "display(_corr_mat.quantile(np.arange(0, 1, 0.05)))"
   ]
  },
  {
   "cell_type": "code",
   "execution_count": 55,
   "id": "940dcbd0-3a39-4e0b-9b7c-cd3f905ea8fb",
   "metadata": {
    "execution": {
     "iopub.execute_input": "2022-08-03T02:26:06.302476Z",
     "iopub.status.busy": "2022-08-03T02:26:06.302268Z",
     "iopub.status.idle": "2022-08-03T02:26:06.514485Z",
     "shell.execute_reply": "2022-08-03T02:26:06.513967Z"
    },
    "papermill": {
     "duration": 0.226697,
     "end_time": "2022-08-03T02:26:06.515811",
     "exception": false,
     "start_time": "2022-08-03T02:26:06.289114",
     "status": "completed"
    },
    "tags": []
   },
   "outputs": [
    {
     "data": {
      "text/plain": [
       "0.0000    0.0\n",
       "0.0001    0.0\n",
       "0.0002    0.0\n",
       "0.0003    0.0\n",
       "0.0004    0.0\n",
       "0.0005    0.0\n",
       "0.0006    0.0\n",
       "0.0007    0.0\n",
       "0.0008    0.0\n",
       "0.0009    0.0\n",
       "dtype: float64"
      ]
     },
     "metadata": {},
     "output_type": "display_data"
    }
   ],
   "source": [
    "display(_corr_mat.quantile(np.arange(0, 0.001, 0.0001)))"
   ]
  },
  {
   "cell_type": "code",
   "execution_count": 56,
   "id": "9c76b62b-be13-4037-a95b-a8c2104055a3",
   "metadata": {
    "execution": {
     "iopub.execute_input": "2022-08-03T02:26:06.542794Z",
     "iopub.status.busy": "2022-08-03T02:26:06.542603Z",
     "iopub.status.idle": "2022-08-03T02:26:06.672716Z",
     "shell.execute_reply": "2022-08-03T02:26:06.672203Z"
    },
    "papermill": {
     "duration": 0.144756,
     "end_time": "2022-08-03T02:26:06.673972",
     "exception": false,
     "start_time": "2022-08-03T02:26:06.529216",
     "status": "completed"
    },
    "tags": []
   },
   "outputs": [
    {
     "data": {
      "text/plain": [
       "0.9990    0.021677\n",
       "0.9991    0.022701\n",
       "0.9992    0.024406\n",
       "0.9993    0.028012\n",
       "0.9994    0.036359\n",
       "0.9995    0.051164\n",
       "0.9996    0.078860\n",
       "0.9997    0.133119\n",
       "0.9998    0.234994\n",
       "0.9999    0.392766\n",
       "1.0000    0.999990\n",
       "dtype: float64"
      ]
     },
     "metadata": {},
     "output_type": "display_data"
    }
   ],
   "source": [
    "display(_corr_mat.quantile(np.arange(0.999, 1.0, 0.0001)))"
   ]
  },
  {
   "cell_type": "markdown",
   "id": "0ed3b3a6-f1ea-4f39-9363-f33b835413d2",
   "metadata": {
    "papermill": {
     "duration": 0.012744,
     "end_time": "2022-08-03T02:26:06.700010",
     "exception": false,
     "start_time": "2022-08-03T02:26:06.687266",
     "status": "completed"
    },
    "tags": []
   },
   "source": [
    "### Plot: distribution"
   ]
  },
  {
   "cell_type": "code",
   "execution_count": 57,
   "id": "8301126b-a7d4-4744-9c7d-f0f86eb6f54c",
   "metadata": {
    "execution": {
     "iopub.execute_input": "2022-08-03T02:26:06.726643Z",
     "iopub.status.busy": "2022-08-03T02:26:06.726435Z",
     "iopub.status.idle": "2022-08-03T02:27:09.192624Z",
     "shell.execute_reply": "2022-08-03T02:27:09.192036Z"
    },
    "papermill": {
     "duration": 62.494827,
     "end_time": "2022-08-03T02:27:09.207833",
     "exception": false,
     "start_time": "2022-08-03T02:26:06.713006",
     "status": "completed"
    },
    "tags": []
   },
   "outputs": [
    {
     "data": {
      "image/png": "[encoded data removed]",
      "text/plain": [
       "<Figure size 504x504 with 1 Axes>"
      ]
     },
     "metadata": {
      "needs_background": "light"
     },
     "output_type": "display_data"
    }
   ],
   "source": [
    "with sns.plotting_context(\"paper\", font_scale=1.5):\n",
    "    g = sns.displot(_corr_mat, kde=True, height=7)\n",
    "    g.ax.set_title(\"Distribution of gene correlation values in all chromosomes\")"
   ]
  },
  {
   "cell_type": "markdown",
   "id": "e209767d-44b8-48a4-ad28-478703a3b5bd",
   "metadata": {
    "papermill": {
     "duration": 0.013095,
     "end_time": "2022-08-03T02:27:09.234209",
     "exception": false,
     "start_time": "2022-08-03T02:27:09.221114",
     "status": "completed"
    },
    "tags": []
   },
   "source": [
    "### Plot: heatmap"
   ]
  },
  {
   "cell_type": "code",
   "execution_count": 58,
   "id": "d03fe63a-c7b2-4fb9-a53c-db362ce843c9",
   "metadata": {
    "execution": {
     "iopub.execute_input": "2022-08-03T02:27:09.261508Z",
     "iopub.status.busy": "2022-08-03T02:27:09.261287Z",
     "iopub.status.idle": "2022-08-03T02:27:09.400494Z",
     "shell.execute_reply": "2022-08-03T02:27:09.399988Z"
    },
    "papermill": {
     "duration": 0.154574,
     "end_time": "2022-08-03T02:27:09.401846",
     "exception": false,
     "start_time": "2022-08-03T02:27:09.247272",
     "status": "completed"
    },
    "tags": []
   },
   "outputs": [
    {
     "data": {
      "text/plain": [
       "'0.0 / 0.05'"
      ]
     },
     "metadata": {},
     "output_type": "display_data"
    }
   ],
   "source": [
    "vmin_val = 0.0\n",
    "vmax_val = max(0.05, _corr_mat.quantile(0.99))\n",
    "display(f\"{vmin_val} / {vmax_val}\")"
   ]
  },
  {
   "cell_type": "code",
   "execution_count": 59,
   "id": "dc41b70b-5bcc-4d9e-9f33-a22c4a94dab5",
   "metadata": {
    "execution": {
     "iopub.execute_input": "2022-08-03T02:27:09.433724Z",
     "iopub.status.busy": "2022-08-03T02:27:09.433398Z",
     "iopub.status.idle": "2022-08-03T02:27:37.517051Z",
     "shell.execute_reply": "2022-08-03T02:27:37.516429Z"
    },
    "papermill": {
     "duration": 28.100524,
     "end_time": "2022-08-03T02:27:37.518602",
     "exception": false,
     "start_time": "2022-08-03T02:27:09.418078",
     "status": "completed"
    },
    "tags": []
   },
   "outputs": [
    {
     "data": {
      "text/plain": [
       "Text(0.5, 1.0, 'Gene correlations in all chromosomes')"
      ]
     },
     "execution_count": 59,
     "metadata": {},
     "output_type": "execute_result"
    },
    {
     "data": {
      "image/png": "[encoded data removed]",
      "text/plain": [
       "<Figure size 720x720 with 2 Axes>"
      ]
     },
     "metadata": {
      "needs_background": "light"
     },
     "output_type": "display_data"
    }
   ],
   "source": [
    "f, ax = plt.subplots(figsize=(10, 10))\n",
    "sns.heatmap(\n",
    "    full_corr_matrix,\n",
    "    xticklabels=False,\n",
    "    yticklabels=False,\n",
    "    square=True,\n",
    "    vmin=vmin_val,\n",
    "    vmax=vmax_val,\n",
    "    cmap=\"rocket_r\",\n",
    "    ax=ax,\n",
    ")\n",
    "ax.set_title(\"Gene correlations in all chromosomes\")"
   ]
  },
  {
   "cell_type": "markdown",
   "id": "5a1b7488-1c3b-4c8b-b619-3b063b3f83c6",
   "metadata": {
    "papermill": {
     "duration": 0.014776,
     "end_time": "2022-08-03T02:27:37.550620",
     "exception": false,
     "start_time": "2022-08-03T02:27:37.535844",
     "status": "completed"
    },
    "tags": []
   },
   "source": [
    "## On nonzero correlations"
   ]
  },
  {
   "cell_type": "code",
   "execution_count": 60,
   "id": "0a07752e-b62f-4f01-af30-847efe9bba54",
   "metadata": {
    "execution": {
     "iopub.execute_input": "2022-08-03T02:27:37.579362Z",
     "iopub.status.busy": "2022-08-03T02:27:37.579154Z",
     "iopub.status.idle": "2022-08-03T02:27:37.628092Z",
     "shell.execute_reply": "2022-08-03T02:27:37.627442Z"
    },
    "papermill": {
     "duration": 0.065061,
     "end_time": "2022-08-03T02:27:37.629543",
     "exception": false,
     "start_time": "2022-08-03T02:27:37.564482",
     "status": "completed"
    },
    "tags": []
   },
   "outputs": [],
   "source": [
    "nonzero_corrs = full_corr_matrix_flat[full_corr_matrix_flat > 0.0]"
   ]
  },
  {
   "cell_type": "code",
   "execution_count": 61,
   "id": "3b509dde-e4ec-4e14-a7d5-09e3fe584027",
   "metadata": {
    "execution": {
     "iopub.execute_input": "2022-08-03T02:27:37.660156Z",
     "iopub.status.busy": "2022-08-03T02:27:37.659937Z",
     "iopub.status.idle": "2022-08-03T02:27:37.675088Z",
     "shell.execute_reply": "2022-08-03T02:27:37.674495Z"
    },
    "papermill": {
     "duration": 0.031527,
     "end_time": "2022-08-03T02:27:37.676366",
     "exception": false,
     "start_time": "2022-08-03T02:27:37.644839",
     "status": "completed"
    },
    "tags": []
   },
   "outputs": [],
   "source": [
    "_corr_mat = nonzero_corrs"
   ]
  },
  {
   "cell_type": "code",
   "execution_count": 62,
   "id": "427cd6b6-411c-4bce-9129-f7e128c9992f",
   "metadata": {
    "execution": {
     "iopub.execute_input": "2022-08-03T02:27:37.705151Z",
     "iopub.status.busy": "2022-08-03T02:27:37.704962Z",
     "iopub.status.idle": "2022-08-03T02:27:37.720488Z",
     "shell.execute_reply": "2022-08-03T02:27:37.719889Z"
    },
    "papermill": {
     "duration": 0.031244,
     "end_time": "2022-08-03T02:27:37.721761",
     "exception": false,
     "start_time": "2022-08-03T02:27:37.690517",
     "status": "completed"
    },
    "tags": []
   },
   "outputs": [
    {
     "data": {
      "text/plain": [
       "(1175426,)"
      ]
     },
     "execution_count": 62,
     "metadata": {},
     "output_type": "execute_result"
    }
   ],
   "source": [
    "_corr_mat.shape"
   ]
  },
  {
   "cell_type": "code",
   "execution_count": 63,
   "id": "684ee3aa-d1bf-4f39-883e-1c9cda28f332",
   "metadata": {
    "execution": {
     "iopub.execute_input": "2022-08-03T02:27:37.751422Z",
     "iopub.status.busy": "2022-08-03T02:27:37.751213Z",
     "iopub.status.idle": "2022-08-03T02:27:37.767977Z",
     "shell.execute_reply": "2022-08-03T02:27:37.767503Z"
    },
    "papermill": {
     "duration": 0.032865,
     "end_time": "2022-08-03T02:27:37.769247",
     "exception": false,
     "start_time": "2022-08-03T02:27:37.736382",
     "status": "completed"
    },
    "tags": []
   },
   "outputs": [
    {
     "data": {
      "text/plain": [
       "ENSG00000188290  ENSG00000188976    0.115011\n",
       "ENSG00000187608  ENSG00000188976    0.173138\n",
       "                 ENSG00000188290    0.681368\n",
       "ENSG00000188157  ENSG00000188976    0.056096\n",
       "                 ENSG00000188290    0.360588\n",
       "dtype: float64"
      ]
     },
     "execution_count": 63,
     "metadata": {},
     "output_type": "execute_result"
    }
   ],
   "source": [
    "_corr_mat.head()"
   ]
  },
  {
   "cell_type": "code",
   "execution_count": 64,
   "id": "87467e53-a225-48f9-86ef-d00978925faa",
   "metadata": {
    "execution": {
     "iopub.execute_input": "2022-08-03T02:27:37.799409Z",
     "iopub.status.busy": "2022-08-03T02:27:37.799205Z",
     "iopub.status.idle": "2022-08-03T02:27:37.856433Z",
     "shell.execute_reply": "2022-08-03T02:27:37.855926Z"
    },
    "papermill": {
     "duration": 0.073847,
     "end_time": "2022-08-03T02:27:37.857758",
     "exception": false,
     "start_time": "2022-08-03T02:27:37.783911",
     "status": "completed"
    },
    "tags": []
   },
   "outputs": [
    {
     "data": {
      "text/plain": [
       "count                1175426.0\n",
       "mean      0.010263282240566628\n",
       "std       0.028468364201440548\n",
       "min      1.698104218931145e-11\n",
       "25%      0.0049717966586874714\n",
       "50%       0.007722696466495983\n",
       "75%       0.010890005067140374\n",
       "max         0.9999900000499999\n",
       "dtype: object"
      ]
     },
     "execution_count": 64,
     "metadata": {},
     "output_type": "execute_result"
    }
   ],
   "source": [
    "_corr_mat.describe().apply(str)"
   ]
  },
  {
   "cell_type": "code",
   "execution_count": 65,
   "id": "ece1b4b2-1764-4893-bb0e-837f5d1a6677",
   "metadata": {
    "execution": {
     "iopub.execute_input": "2022-08-03T02:27:37.888399Z",
     "iopub.status.busy": "2022-08-03T02:27:37.888234Z",
     "iopub.status.idle": "2022-08-03T02:27:37.943214Z",
     "shell.execute_reply": "2022-08-03T02:27:37.942512Z"
    },
    "papermill": {
     "duration": 0.071554,
     "end_time": "2022-08-03T02:27:37.944459",
     "exception": false,
     "start_time": "2022-08-03T02:27:37.872905",
     "status": "completed"
    },
    "tags": []
   },
   "outputs": [
    {
     "data": {
      "text/plain": [
       "0.00    1.698104e-11\n",
       "0.05    1.899624e-03\n",
       "0.10    2.903302e-03\n",
       "0.15    3.687280e-03\n",
       "0.20    4.357617e-03\n",
       "0.25    4.971797e-03\n",
       "0.30    5.542054e-03\n",
       "0.35    6.096974e-03\n",
       "0.40    6.639901e-03\n",
       "0.45    7.174698e-03\n",
       "0.50    7.722696e-03\n",
       "0.55    8.281837e-03\n",
       "0.60    8.862360e-03\n",
       "0.65    9.483185e-03\n",
       "0.70    1.014831e-02\n",
       "0.75    1.089001e-02\n",
       "0.80    1.174480e-02\n",
       "0.85    1.278800e-02\n",
       "0.90    1.418488e-02\n",
       "0.95    1.655086e-02\n",
       "dtype: float64"
      ]
     },
     "metadata": {},
     "output_type": "display_data"
    }
   ],
   "source": [
    "display(_corr_mat.quantile(np.arange(0, 1, 0.05)))"
   ]
  },
  {
   "cell_type": "code",
   "execution_count": 66,
   "id": "3543f16e-1453-44e5-ab68-0d03450e559b",
   "metadata": {
    "execution": {
     "iopub.execute_input": "2022-08-03T02:27:37.974504Z",
     "iopub.status.busy": "2022-08-03T02:27:37.973783Z",
     "iopub.status.idle": "2022-08-03T02:27:38.009425Z",
     "shell.execute_reply": "2022-08-03T02:27:38.008785Z"
    },
    "papermill": {
     "duration": 0.052012,
     "end_time": "2022-08-03T02:27:38.010669",
     "exception": false,
     "start_time": "2022-08-03T02:27:37.958657",
     "status": "completed"
    },
    "tags": []
   },
   "outputs": [
    {
     "data": {
      "text/plain": [
       "0.0000    1.698104e-11\n",
       "0.0001    1.371332e-06\n",
       "0.0002    4.637222e-06\n",
       "0.0003    9.346197e-06\n",
       "0.0004    1.450603e-05\n",
       "0.0005    1.939051e-05\n",
       "0.0006    2.594216e-05\n",
       "0.0007    3.307698e-05\n",
       "0.0008    3.995087e-05\n",
       "0.0009    4.734229e-05\n",
       "dtype: float64"
      ]
     },
     "metadata": {},
     "output_type": "display_data"
    }
   ],
   "source": [
    "display(_corr_mat.quantile(np.arange(0, 0.001, 0.0001)))"
   ]
  },
  {
   "cell_type": "code",
   "execution_count": 67,
   "id": "bb34d782-9aaa-48ce-b526-8323522166a3",
   "metadata": {
    "execution": {
     "iopub.execute_input": "2022-08-03T02:27:38.040654Z",
     "iopub.status.busy": "2022-08-03T02:27:38.040395Z",
     "iopub.status.idle": "2022-08-03T02:27:38.060175Z",
     "shell.execute_reply": "2022-08-03T02:27:38.059645Z"
    },
    "papermill": {
     "duration": 0.036113,
     "end_time": "2022-08-03T02:27:38.061478",
     "exception": false,
     "start_time": "2022-08-03T02:27:38.025365",
     "status": "completed"
    },
    "tags": []
   },
   "outputs": [
    {
     "data": {
      "text/plain": [
       "0.9990    0.497110\n",
       "0.9991    0.514762\n",
       "0.9992    0.536359\n",
       "0.9993    0.560395\n",
       "0.9994    0.581126\n",
       "0.9995    0.611738\n",
       "0.9996    0.640323\n",
       "0.9997    0.671240\n",
       "0.9998    0.721949\n",
       "0.9999    0.803545\n",
       "1.0000    0.999990\n",
       "dtype: float64"
      ]
     },
     "metadata": {},
     "output_type": "display_data"
    }
   ],
   "source": [
    "display(_corr_mat.quantile(np.arange(0.999, 1.0, 0.0001)))"
   ]
  },
  {
   "cell_type": "markdown",
   "id": "fd4ce75c-e759-48b5-9b2b-584438302fff",
   "metadata": {
    "papermill": {
     "duration": 0.015717,
     "end_time": "2022-08-03T02:27:38.093176",
     "exception": false,
     "start_time": "2022-08-03T02:27:38.077459",
     "status": "completed"
    },
    "tags": []
   },
   "source": [
    "### Plot: distribution"
   ]
  },
  {
   "cell_type": "code",
   "execution_count": 68,
   "id": "7da6aa50-81da-4f75-9d54-4fad6a3fb5a5",
   "metadata": {
    "execution": {
     "iopub.execute_input": "2022-08-03T02:27:38.123852Z",
     "iopub.status.busy": "2022-08-03T02:27:38.123661Z",
     "iopub.status.idle": "2022-08-03T02:27:58.302414Z",
     "shell.execute_reply": "2022-08-03T02:27:58.301489Z"
    },
    "papermill": {
     "duration": 20.197079,
     "end_time": "2022-08-03T02:27:58.304783",
     "exception": false,
     "start_time": "2022-08-03T02:27:38.107704",
     "status": "completed"
    },
    "tags": []
   },
   "outputs": [
    {
     "data": {
      "image/png": "[encoded data removed]",
      "text/plain": [
       "<Figure size 504x504 with 1 Axes>"
      ]
     },
     "metadata": {
      "needs_background": "light"
     },
     "output_type": "display_data"
    }
   ],
   "source": [
    "with sns.plotting_context(\"paper\", font_scale=1.5):\n",
    "    g = sns.displot(_corr_mat, kde=True, height=7)\n",
    "    g.ax.set_title(\"Distribution of gene correlation values in all chromosomes\")"
   ]
  },
  {
   "cell_type": "markdown",
   "id": "e34db3c2",
   "metadata": {
    "papermill": {
     "duration": 0.019634,
     "end_time": "2022-08-03T02:27:58.348652",
     "exception": false,
     "start_time": "2022-08-03T02:27:58.329018",
     "status": "completed"
    },
    "tags": []
   },
   "source": [
    "# Save"
   ]
  },
  {
   "cell_type": "markdown",
   "id": "510183a9",
   "metadata": {
    "papermill": {
     "duration": 0.015999,
     "end_time": "2022-08-03T02:27:58.383175",
     "exception": false,
     "start_time": "2022-08-03T02:27:58.367176",
     "status": "completed"
    },
    "tags": []
   },
   "source": [
    "## With ensemble ids"
   ]
  },
  {
   "cell_type": "markdown",
   "id": "7f9816a6",
   "metadata": {
    "papermill": {
     "duration": 0.014636,
     "end_time": "2022-08-03T02:27:58.412691",
     "exception": false,
     "start_time": "2022-08-03T02:27:58.398055",
     "status": "completed"
    },
    "tags": []
   },
   "source": [
    "## With gene symbols"
   ]
  },
  {
   "cell_type": "code",
   "execution_count": 69,
   "id": "2f174f95-2be3-4b63-95fb-451413ad361d",
   "metadata": {
    "execution": {
     "iopub.execute_input": "2022-08-03T02:27:58.442768Z",
     "iopub.status.busy": "2022-08-03T02:27:58.442545Z",
     "iopub.status.idle": "2022-08-03T02:27:58.458558Z",
     "shell.execute_reply": "2022-08-03T02:27:58.457862Z"
    },
    "papermill": {
     "duration": 0.032618,
     "end_time": "2022-08-03T02:27:58.459809",
     "exception": false,
     "start_time": "2022-08-03T02:27:58.427191",
     "status": "completed"
    },
    "tags": []
   },
   "outputs": [
    {
     "data": {
      "text/plain": [
       "PosixPath('/opt/data/results/gls/gene_corrs/cohorts/1000g_eur/1000g/mashr/gene_corrs-symbols.pkl')"
      ]
     },
     "metadata": {},
     "output_type": "display_data"
    }
   ],
   "source": [
    "output_file = OUTPUT_DIR_BASE / \"gene_corrs-symbols.pkl\"\n",
    "display(output_file)"
   ]
  },
  {
   "cell_type": "code",
   "execution_count": 70,
   "id": "1436a25d",
   "metadata": {
    "execution": {
     "iopub.execute_input": "2022-08-03T02:27:58.491853Z",
     "iopub.status.busy": "2022-08-03T02:27:58.491680Z",
     "iopub.status.idle": "2022-08-03T02:27:58.577815Z",
     "shell.execute_reply": "2022-08-03T02:27:58.577199Z"
    },
    "papermill": {
     "duration": 0.104699,
     "end_time": "2022-08-03T02:27:58.579457",
     "exception": false,
     "start_time": "2022-08-03T02:27:58.474758",
     "status": "completed"
    },
    "tags": []
   },
   "outputs": [],
   "source": [
    "gene_corrs = full_corr_matrix.rename(\n",
    "    index=Gene.GENE_ID_TO_NAME_MAP, columns=Gene.GENE_ID_TO_NAME_MAP\n",
    ")"
   ]
  },
  {
   "cell_type": "code",
   "execution_count": 71,
   "id": "90794835-3f5b-49d7-aec8-94b0e6a1ba06",
   "metadata": {
    "execution": {
     "iopub.execute_input": "2022-08-03T02:27:58.619731Z",
     "iopub.status.busy": "2022-08-03T02:27:58.619530Z",
     "iopub.status.idle": "2022-08-03T02:27:58.708102Z",
     "shell.execute_reply": "2022-08-03T02:27:58.707425Z"
    },
    "papermill": {
     "duration": 0.110241,
     "end_time": "2022-08-03T02:27:58.709719",
     "exception": false,
     "start_time": "2022-08-03T02:27:58.599478",
     "status": "completed"
    },
    "tags": []
   },
   "outputs": [],
   "source": [
    "assert not gene_corrs.isna().any(None)\n",
    "assert not np.isinf(gene_corrs.to_numpy()).any()\n",
    "assert not np.iscomplex(gene_corrs.to_numpy()).any()"
   ]
  },
  {
   "cell_type": "code",
   "execution_count": 72,
   "id": "b2014f92",
   "metadata": {
    "execution": {
     "iopub.execute_input": "2022-08-03T02:27:58.745545Z",
     "iopub.status.busy": "2022-08-03T02:27:58.745382Z",
     "iopub.status.idle": "2022-08-03T02:27:58.762106Z",
     "shell.execute_reply": "2022-08-03T02:27:58.761552Z"
    },
    "papermill": {
     "duration": 0.035459,
     "end_time": "2022-08-03T02:27:58.763482",
     "exception": false,
     "start_time": "2022-08-03T02:27:58.728023",
     "status": "completed"
    },
    "tags": []
   },
   "outputs": [],
   "source": [
    "assert gene_corrs.index.is_unique\n",
    "assert gene_corrs.columns.is_unique"
   ]
  },
  {
   "cell_type": "code",
   "execution_count": 73,
   "id": "d9e18eab",
   "metadata": {
    "execution": {
     "iopub.execute_input": "2022-08-03T02:27:58.795607Z",
     "iopub.status.busy": "2022-08-03T02:27:58.795392Z",
     "iopub.status.idle": "2022-08-03T02:27:58.811094Z",
     "shell.execute_reply": "2022-08-03T02:27:58.810542Z"
    },
    "papermill": {
     "duration": 0.032477,
     "end_time": "2022-08-03T02:27:58.812324",
     "exception": false,
     "start_time": "2022-08-03T02:27:58.779847",
     "status": "completed"
    },
    "tags": []
   },
   "outputs": [
    {
     "data": {
      "text/plain": [
       "(6442, 6442)"
      ]
     },
     "execution_count": 73,
     "metadata": {},
     "output_type": "execute_result"
    }
   ],
   "source": [
    "gene_corrs.shape"
   ]
  },
  {
   "cell_type": "code",
   "execution_count": 74,
   "id": "44e83e62",
   "metadata": {
    "execution": {
     "iopub.execute_input": "2022-08-03T02:27:58.844265Z",
     "iopub.status.busy": "2022-08-03T02:27:58.844058Z",
     "iopub.status.idle": "2022-08-03T02:27:58.872774Z",
     "shell.execute_reply": "2022-08-03T02:27:58.871919Z"
    },
    "papermill": {
     "duration": 0.046128,
     "end_time": "2022-08-03T02:27:58.874032",
     "exception": false,
     "start_time": "2022-08-03T02:27:58.827904",
     "status": "completed"
    },
    "tags": []
   },
   "outputs": [
    {
     "data": {
      "text/html": [
       "<div>\n",
       "<style scoped>\n",
       "    .dataframe tbody tr th:only-of-type {\n",
       "        vertical-align: middle;\n",
       "    }\n",
       "\n",
       "    .dataframe tbody tr th {\n",
       "        vertical-align: top;\n",
       "    }\n",
       "\n",
       "    .dataframe thead th {\n",
       "        text-align: right;\n",
       "    }\n",
       "</style>\n",
       "<table border=\"1\" class=\"dataframe\">\n",
       "  <thead>\n",
       "    <tr style=\"text-align: right;\">\n",
       "      <th></th>\n",
       "      <th>NOC2L</th>\n",
       "      <th>HES4</th>\n",
       "      <th>ISG15</th>\n",
       "      <th>AGRN</th>\n",
       "      <th>TNFRSF18</th>\n",
       "      <th>TNFRSF4</th>\n",
       "      <th>B3GALT6</th>\n",
       "      <th>UBE2J2</th>\n",
       "      <th>ACAP3</th>\n",
       "      <th>TAS1R3</th>\n",
       "      <th>...</th>\n",
       "      <th>PLXNB2</th>\n",
       "      <th>ADM2</th>\n",
       "      <th>MIOX</th>\n",
       "      <th>SCO2</th>\n",
       "      <th>TYMP</th>\n",
       "      <th>CPT1B</th>\n",
       "      <th>CHKB</th>\n",
       "      <th>MAPK8IP2</th>\n",
       "      <th>ARSA</th>\n",
       "      <th>SHANK3</th>\n",
       "    </tr>\n",
       "  </thead>\n",
       "  <tbody>\n",
       "    <tr>\n",
       "      <th>NOC2L</th>\n",
       "      <td>1.000000</td>\n",
       "      <td>0.115011</td>\n",
       "      <td>0.173138</td>\n",
       "      <td>0.056096</td>\n",
       "      <td>0.008032</td>\n",
       "      <td>0.008727</td>\n",
       "      <td>0.006797</td>\n",
       "      <td>0.004533</td>\n",
       "      <td>0.007350</td>\n",
       "      <td>0.010391</td>\n",
       "      <td>...</td>\n",
       "      <td>0.0</td>\n",
       "      <td>0.0</td>\n",
       "      <td>0.0</td>\n",
       "      <td>0.0</td>\n",
       "      <td>0.0</td>\n",
       "      <td>0.0</td>\n",
       "      <td>0.0</td>\n",
       "      <td>0.0</td>\n",
       "      <td>0.0</td>\n",
       "      <td>0.0</td>\n",
       "    </tr>\n",
       "    <tr>\n",
       "      <th>HES4</th>\n",
       "      <td>0.115011</td>\n",
       "      <td>1.000000</td>\n",
       "      <td>0.681368</td>\n",
       "      <td>0.360588</td>\n",
       "      <td>0.011545</td>\n",
       "      <td>0.010729</td>\n",
       "      <td>0.003577</td>\n",
       "      <td>0.010230</td>\n",
       "      <td>0.010747</td>\n",
       "      <td>0.008769</td>\n",
       "      <td>...</td>\n",
       "      <td>0.0</td>\n",
       "      <td>0.0</td>\n",
       "      <td>0.0</td>\n",
       "      <td>0.0</td>\n",
       "      <td>0.0</td>\n",
       "      <td>0.0</td>\n",
       "      <td>0.0</td>\n",
       "      <td>0.0</td>\n",
       "      <td>0.0</td>\n",
       "      <td>0.0</td>\n",
       "    </tr>\n",
       "    <tr>\n",
       "      <th>ISG15</th>\n",
       "      <td>0.173138</td>\n",
       "      <td>0.681368</td>\n",
       "      <td>1.000000</td>\n",
       "      <td>0.381394</td>\n",
       "      <td>0.011774</td>\n",
       "      <td>0.012527</td>\n",
       "      <td>0.003754</td>\n",
       "      <td>0.012096</td>\n",
       "      <td>0.012679</td>\n",
       "      <td>0.010442</td>\n",
       "      <td>...</td>\n",
       "      <td>0.0</td>\n",
       "      <td>0.0</td>\n",
       "      <td>0.0</td>\n",
       "      <td>0.0</td>\n",
       "      <td>0.0</td>\n",
       "      <td>0.0</td>\n",
       "      <td>0.0</td>\n",
       "      <td>0.0</td>\n",
       "      <td>0.0</td>\n",
       "      <td>0.0</td>\n",
       "    </tr>\n",
       "    <tr>\n",
       "      <th>AGRN</th>\n",
       "      <td>0.056096</td>\n",
       "      <td>0.360588</td>\n",
       "      <td>0.381394</td>\n",
       "      <td>1.000000</td>\n",
       "      <td>0.013005</td>\n",
       "      <td>0.015775</td>\n",
       "      <td>0.006184</td>\n",
       "      <td>0.006813</td>\n",
       "      <td>0.010775</td>\n",
       "      <td>0.009189</td>\n",
       "      <td>...</td>\n",
       "      <td>0.0</td>\n",
       "      <td>0.0</td>\n",
       "      <td>0.0</td>\n",
       "      <td>0.0</td>\n",
       "      <td>0.0</td>\n",
       "      <td>0.0</td>\n",
       "      <td>0.0</td>\n",
       "      <td>0.0</td>\n",
       "      <td>0.0</td>\n",
       "      <td>0.0</td>\n",
       "    </tr>\n",
       "    <tr>\n",
       "      <th>TNFRSF18</th>\n",
       "      <td>0.008032</td>\n",
       "      <td>0.011545</td>\n",
       "      <td>0.011774</td>\n",
       "      <td>0.013005</td>\n",
       "      <td>1.000000</td>\n",
       "      <td>0.356676</td>\n",
       "      <td>0.454010</td>\n",
       "      <td>0.137643</td>\n",
       "      <td>0.200340</td>\n",
       "      <td>0.093210</td>\n",
       "      <td>...</td>\n",
       "      <td>0.0</td>\n",
       "      <td>0.0</td>\n",
       "      <td>0.0</td>\n",
       "      <td>0.0</td>\n",
       "      <td>0.0</td>\n",
       "      <td>0.0</td>\n",
       "      <td>0.0</td>\n",
       "      <td>0.0</td>\n",
       "      <td>0.0</td>\n",
       "      <td>0.0</td>\n",
       "    </tr>\n",
       "  </tbody>\n",
       "</table>\n",
       "<p>5 rows × 6442 columns</p>\n",
       "</div>"
      ],
      "text/plain": [
       "             NOC2L      HES4     ISG15      AGRN  TNFRSF18   TNFRSF4  \\\n",
       "NOC2L     1.000000  0.115011  0.173138  0.056096  0.008032  0.008727   \n",
       "HES4      0.115011  1.000000  0.681368  0.360588  0.011545  0.010729   \n",
       "ISG15     0.173138  0.681368  1.000000  0.381394  0.011774  0.012527   \n",
       "AGRN      0.056096  0.360588  0.381394  1.000000  0.013005  0.015775   \n",
       "TNFRSF18  0.008032  0.011545  0.011774  0.013005  1.000000  0.356676   \n",
       "\n",
       "           B3GALT6    UBE2J2     ACAP3    TAS1R3  ...  PLXNB2  ADM2  MIOX  \\\n",
       "NOC2L     0.006797  0.004533  0.007350  0.010391  ...     0.0   0.0   0.0   \n",
       "HES4      0.003577  0.010230  0.010747  0.008769  ...     0.0   0.0   0.0   \n",
       "ISG15     0.003754  0.012096  0.012679  0.010442  ...     0.0   0.0   0.0   \n",
       "AGRN      0.006184  0.006813  0.010775  0.009189  ...     0.0   0.0   0.0   \n",
       "TNFRSF18  0.454010  0.137643  0.200340  0.093210  ...     0.0   0.0   0.0   \n",
       "\n",
       "          SCO2  TYMP  CPT1B  CHKB  MAPK8IP2  ARSA  SHANK3  \n",
       "NOC2L      0.0   0.0    0.0   0.0       0.0   0.0     0.0  \n",
       "HES4       0.0   0.0    0.0   0.0       0.0   0.0     0.0  \n",
       "ISG15      0.0   0.0    0.0   0.0       0.0   0.0     0.0  \n",
       "AGRN       0.0   0.0    0.0   0.0       0.0   0.0     0.0  \n",
       "TNFRSF18   0.0   0.0    0.0   0.0       0.0   0.0     0.0  \n",
       "\n",
       "[5 rows x 6442 columns]"
      ]
     },
     "execution_count": 74,
     "metadata": {},
     "output_type": "execute_result"
    }
   ],
   "source": [
    "gene_corrs.head()"
   ]
  },
  {
   "cell_type": "code",
   "execution_count": 75,
   "id": "04ec6c52",
   "metadata": {
    "execution": {
     "iopub.execute_input": "2022-08-03T02:27:58.906206Z",
     "iopub.status.busy": "2022-08-03T02:27:58.905989Z",
     "iopub.status.idle": "2022-08-03T02:27:59.711420Z",
     "shell.execute_reply": "2022-08-03T02:27:59.710747Z"
    },
    "papermill": {
     "duration": 0.823361,
     "end_time": "2022-08-03T02:27:59.713061",
     "exception": false,
     "start_time": "2022-08-03T02:27:58.889700",
     "status": "completed"
    },
    "tags": []
   },
   "outputs": [],
   "source": [
    "gene_corrs.to_pickle(output_file)"
   ]
  },
  {
   "cell_type": "code",
   "execution_count": null,
   "id": "38cf09b7",
   "metadata": {
    "papermill": {
     "duration": 0.058442,
     "end_time": "2022-08-03T02:27:59.805804",
     "exception": false,
     "start_time": "2022-08-03T02:27:59.747362",
     "status": "completed"
    },
    "tags": []
   },
   "outputs": [],
   "source": []
  }
 ],
 "metadata": {
  "jupytext": {
   "cell_metadata_filter": "all,-execution,-papermill,-trusted",
   "formats": "ipynb,py//py:percent"
  },
  "kernelspec": {
   "display_name": "Python 3 (ipykernel)",
   "language": "python",
   "name": "python3"
  },
  "language_info": {
   "codemirror_mode": {
    "name": "ipython",
    "version": 3
   },
   "file_extension": ".py",
   "mimetype": "text/x-python",
   "name": "python",
   "nbconvert_exporter": "python",
   "pygments_lexer": "ipython3",
   "version": "3.8.13"
  },
  "papermill": {
   "default_parameters": {},
   "duration": 284.857404,
   "end_time": "2022-08-03T02:28:01.278235",
   "environment_variables": {},
   "exception": null,
   "input_path": "nbs/15_gsa_gls/15-postprocess_gene_expr_correlations.ipynb",
   "output_path": "nbs/15_gsa_gls/gene_corrs/cohorts/1000g_eur/1000g/mashr/15-postprocess_gene_expr_correlations.ipynb",
   "parameters": {
    "COHORT_NAME": "1000G_EUR",
    "EQTL_MODEL": "MASHR",
    "REFERENCE_PANEL": "1000G"
   },
   "start_time": "2022-08-03T02:23:16.420831",
   "version": "2.2.2"
  }
 },
 "nbformat": 4,
 "nbformat_minor": 5
}
