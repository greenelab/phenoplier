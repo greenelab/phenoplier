{
 "cells": [
  {
   "cell_type": "markdown",
   "id": "5ef66977",
   "metadata": {
    "papermill": {
     "duration": 0.03603,
     "end_time": "2022-07-22T15:12:44.130518",
     "exception": false,
     "start_time": "2022-07-22T15:12:44.094488",
     "status": "completed"
    },
    "tags": []
   },
   "source": [
    "# Description"
   ]
  },
  {
   "cell_type": "markdown",
   "id": "658d4f7c",
   "metadata": {
    "papermill": {
     "duration": 0.010341,
     "end_time": "2022-07-22T15:12:44.156087",
     "exception": false,
     "start_time": "2022-07-22T15:12:44.145746",
     "status": "completed"
    },
    "tags": []
   },
   "source": [
    "(Please, take a look at the README.md file in this directory for instructions on how to run this notebook)\n",
    "\n",
    "This notebook reads all gene correlations across all chromosomes and computes a single correlation matrix by assembling a big correlation matrix with all genes."
   ]
  },
  {
   "cell_type": "markdown",
   "id": "60fa4530",
   "metadata": {
    "papermill": {
     "duration": 0.010374,
     "end_time": "2022-07-22T15:12:44.202043",
     "exception": false,
     "start_time": "2022-07-22T15:12:44.191669",
     "status": "completed"
    },
    "tags": []
   },
   "source": [
    "# Modules"
   ]
  },
  {
   "cell_type": "code",
   "execution_count": 1,
   "id": "d70b0833",
   "metadata": {
    "execution": {
     "iopub.execute_input": "2022-07-22T15:12:44.223675Z",
     "iopub.status.busy": "2022-07-22T15:12:44.223442Z",
     "iopub.status.idle": "2022-07-22T15:12:44.239381Z",
     "shell.execute_reply": "2022-07-22T15:12:44.238813Z"
    },
    "papermill": {
     "duration": 0.028539,
     "end_time": "2022-07-22T15:12:44.240911",
     "exception": false,
     "start_time": "2022-07-22T15:12:44.212372",
     "status": "completed"
    },
    "tags": []
   },
   "outputs": [],
   "source": [
    "%load_ext autoreload\n",
    "%autoreload 2"
   ]
  },
  {
   "cell_type": "code",
   "execution_count": 2,
   "id": "6b2f9ca0",
   "metadata": {
    "execution": {
     "iopub.execute_input": "2022-07-22T15:12:44.260085Z",
     "iopub.status.busy": "2022-07-22T15:12:44.259930Z",
     "iopub.status.idle": "2022-07-22T15:12:45.062466Z",
     "shell.execute_reply": "2022-07-22T15:12:45.061866Z"
    },
    "papermill": {
     "duration": 0.816069,
     "end_time": "2022-07-22T15:12:45.066613",
     "exception": false,
     "start_time": "2022-07-22T15:12:44.250544",
     "status": "completed"
    },
    "tags": []
   },
   "outputs": [],
   "source": [
    "import pickle\n",
    "\n",
    "import numpy as np\n",
    "from scipy.spatial.distance import squareform\n",
    "import pandas as pd\n",
    "import matplotlib.pyplot as plt\n",
    "import seaborn as sns\n",
    "\n",
    "import conf\n",
    "from entity import Gene"
   ]
  },
  {
   "cell_type": "markdown",
   "id": "5b96e797",
   "metadata": {
    "papermill": {
     "duration": 0.008597,
     "end_time": "2022-07-22T15:12:45.084729",
     "exception": false,
     "start_time": "2022-07-22T15:12:45.076132",
     "status": "completed"
    },
    "tags": []
   },
   "source": [
    "# Settings"
   ]
  },
  {
   "cell_type": "code",
   "execution_count": 3,
   "id": "4fc1b6a0",
   "metadata": {
    "execution": {
     "iopub.execute_input": "2022-07-22T15:12:45.102484Z",
     "iopub.status.busy": "2022-07-22T15:12:45.102264Z",
     "iopub.status.idle": "2022-07-22T15:12:45.116789Z",
     "shell.execute_reply": "2022-07-22T15:12:45.116247Z"
    },
    "papermill": {
     "duration": 0.024949,
     "end_time": "2022-07-22T15:12:45.118006",
     "exception": false,
     "start_time": "2022-07-22T15:12:45.093057",
     "status": "completed"
    },
    "tags": [
     "parameters"
    ]
   },
   "outputs": [],
   "source": [
    "# a cohort name (it could be something like UK_BIOBANK, etc)\n",
    "COHORT_NAME = None\n",
    "\n",
    "# reference panel such as 1000G or GTEX_V8\n",
    "REFERENCE_PANEL = None\n",
    "\n",
    "# predictions models such as MASHR or ELASTIC_NET\n",
    "EQTL_MODEL = None"
   ]
  },
  {
   "cell_type": "code",
   "execution_count": 4,
   "id": "4348f82f",
   "metadata": {
    "execution": {
     "iopub.execute_input": "2022-07-22T15:12:45.136216Z",
     "iopub.status.busy": "2022-07-22T15:12:45.136029Z",
     "iopub.status.idle": "2022-07-22T15:12:45.150011Z",
     "shell.execute_reply": "2022-07-22T15:12:45.149478Z"
    },
    "papermill": {
     "duration": 0.024421,
     "end_time": "2022-07-22T15:12:45.151303",
     "exception": false,
     "start_time": "2022-07-22T15:12:45.126882",
     "status": "completed"
    },
    "tags": [
     "injected-parameters"
    ]
   },
   "outputs": [],
   "source": [
    "# Parameters\n",
    "COHORT_NAME = \"1000G_EUR\"\n",
    "REFERENCE_PANEL = \"1000G\"\n",
    "EQTL_MODEL = \"MASHR\"\n"
   ]
  },
  {
   "cell_type": "code",
   "execution_count": 5,
   "id": "6dba5c90-40a4-4a62-899e-1711ab4e40bb",
   "metadata": {
    "execution": {
     "iopub.execute_input": "2022-07-22T15:12:45.169679Z",
     "iopub.status.busy": "2022-07-22T15:12:45.169490Z",
     "iopub.status.idle": "2022-07-22T15:12:45.185677Z",
     "shell.execute_reply": "2022-07-22T15:12:45.185189Z"
    },
    "papermill": {
     "duration": 0.026647,
     "end_time": "2022-07-22T15:12:45.186872",
     "exception": false,
     "start_time": "2022-07-22T15:12:45.160225",
     "status": "completed"
    },
    "tags": []
   },
   "outputs": [
    {
     "data": {
      "text/plain": [
       "'Cohort name: 1000g_eur'"
      ]
     },
     "metadata": {},
     "output_type": "display_data"
    }
   ],
   "source": [
    "assert COHORT_NAME is not None and len(COHORT_NAME) > 0, \"A cohort name must be given\"\n",
    "\n",
    "COHORT_NAME = COHORT_NAME.lower()\n",
    "display(f\"Cohort name: {COHORT_NAME}\")"
   ]
  },
  {
   "cell_type": "code",
   "execution_count": 6,
   "id": "90be4359-19db-4c2d-a3ca-202674476164",
   "metadata": {
    "execution": {
     "iopub.execute_input": "2022-07-22T15:12:45.205541Z",
     "iopub.status.busy": "2022-07-22T15:12:45.205379Z",
     "iopub.status.idle": "2022-07-22T15:12:45.220275Z",
     "shell.execute_reply": "2022-07-22T15:12:45.219831Z"
    },
    "papermill": {
     "duration": 0.025652,
     "end_time": "2022-07-22T15:12:45.221513",
     "exception": false,
     "start_time": "2022-07-22T15:12:45.195861",
     "status": "completed"
    },
    "tags": []
   },
   "outputs": [
    {
     "data": {
      "text/plain": [
       "'Reference panel: 1000G'"
      ]
     },
     "metadata": {},
     "output_type": "display_data"
    }
   ],
   "source": [
    "assert (\n",
    "    REFERENCE_PANEL is not None and len(REFERENCE_PANEL) > 0\n",
    "), \"A reference panel must be given\"\n",
    "\n",
    "display(f\"Reference panel: {REFERENCE_PANEL}\")"
   ]
  },
  {
   "cell_type": "code",
   "execution_count": 7,
   "id": "d959f3f4-8f7b-4313-b3b1-37606e7250bf",
   "metadata": {
    "execution": {
     "iopub.execute_input": "2022-07-22T15:12:45.240321Z",
     "iopub.status.busy": "2022-07-22T15:12:45.240141Z",
     "iopub.status.idle": "2022-07-22T15:12:45.255458Z",
     "shell.execute_reply": "2022-07-22T15:12:45.254953Z"
    },
    "papermill": {
     "duration": 0.02618,
     "end_time": "2022-07-22T15:12:45.256732",
     "exception": false,
     "start_time": "2022-07-22T15:12:45.230552",
     "status": "completed"
    },
    "tags": []
   },
   "outputs": [
    {
     "data": {
      "text/plain": [
       "'eQTL model: MASHR) / mashr_'"
      ]
     },
     "metadata": {},
     "output_type": "display_data"
    }
   ],
   "source": [
    "assert (\n",
    "    EQTL_MODEL is not None and len(EQTL_MODEL) > 0\n",
    "), \"A prediction/eQTL model must be given\"\n",
    "\n",
    "EQTL_MODEL_FILES_PREFIX = conf.PHENOMEXCAN[\"PREDICTION_MODELS\"][f\"{EQTL_MODEL}_PREFIX\"]\n",
    "display(f\"eQTL model: {EQTL_MODEL}) / {EQTL_MODEL_FILES_PREFIX}\")"
   ]
  },
  {
   "cell_type": "code",
   "execution_count": 8,
   "id": "ac0c0705-90e4-42f8-8298-a457c7e778ff",
   "metadata": {
    "execution": {
     "iopub.execute_input": "2022-07-22T15:12:45.275695Z",
     "iopub.status.busy": "2022-07-22T15:12:45.275494Z",
     "iopub.status.idle": "2022-07-22T15:12:45.290936Z",
     "shell.execute_reply": "2022-07-22T15:12:45.290438Z"
    },
    "papermill": {
     "duration": 0.026287,
     "end_time": "2022-07-22T15:12:45.292233",
     "exception": false,
     "start_time": "2022-07-22T15:12:45.265946",
     "status": "completed"
    },
    "tags": []
   },
   "outputs": [
    {
     "data": {
      "text/plain": [
       "'Using output dir base: /opt/data/results/gls/gene_corrs/cohorts/1000g_eur/1000g/mashr'"
      ]
     },
     "metadata": {},
     "output_type": "display_data"
    }
   ],
   "source": [
    "OUTPUT_DIR_BASE = (\n",
    "    conf.RESULTS[\"GLS\"]\n",
    "    / \"gene_corrs\"\n",
    "    / \"cohorts\"\n",
    "    / COHORT_NAME\n",
    "    / REFERENCE_PANEL.lower()\n",
    "    / EQTL_MODEL.lower()\n",
    ")\n",
    "OUTPUT_DIR_BASE.mkdir(parents=True, exist_ok=True)\n",
    "\n",
    "display(f\"Using output dir base: {OUTPUT_DIR_BASE}\")"
   ]
  },
  {
   "cell_type": "code",
   "execution_count": 9,
   "id": "4d87fab9-c714-45de-9c05-4f6c276cd497",
   "metadata": {
    "execution": {
     "iopub.execute_input": "2022-07-22T15:12:45.311605Z",
     "iopub.status.busy": "2022-07-22T15:12:45.311428Z",
     "iopub.status.idle": "2022-07-22T15:12:45.326542Z",
     "shell.execute_reply": "2022-07-22T15:12:45.326064Z"
    },
    "papermill": {
     "duration": 0.025911,
     "end_time": "2022-07-22T15:12:45.327818",
     "exception": false,
     "start_time": "2022-07-22T15:12:45.301907",
     "status": "completed"
    },
    "tags": []
   },
   "outputs": [
    {
     "data": {
      "text/plain": [
       "'Cohort input dir: /opt/data/results/gls/gene_corrs/cohorts/1000g_eur'"
      ]
     },
     "metadata": {},
     "output_type": "display_data"
    }
   ],
   "source": [
    "COHORT_INPUT_DIR = conf.RESULTS[\"GLS\"] / \"gene_corrs\" / \"cohorts\" / COHORT_NAME\n",
    "\n",
    "display(f\"Cohort input dir: {COHORT_INPUT_DIR}\")\n",
    "assert COHORT_INPUT_DIR.exists()"
   ]
  },
  {
   "cell_type": "code",
   "execution_count": 10,
   "id": "1afd50f7",
   "metadata": {
    "execution": {
     "iopub.execute_input": "2022-07-22T15:12:45.347817Z",
     "iopub.status.busy": "2022-07-22T15:12:45.347648Z",
     "iopub.status.idle": "2022-07-22T15:12:45.363091Z",
     "shell.execute_reply": "2022-07-22T15:12:45.362568Z"
    },
    "papermill": {
     "duration": 0.026933,
     "end_time": "2022-07-22T15:12:45.364390",
     "exception": false,
     "start_time": "2022-07-22T15:12:45.337457",
     "status": "completed"
    },
    "tags": []
   },
   "outputs": [
    {
     "data": {
      "text/plain": [
       "'Gene correlations input dir: /opt/data/results/gls/gene_corrs/cohorts/1000g_eur/1000g/mashr/by_chr'"
      ]
     },
     "metadata": {},
     "output_type": "display_data"
    }
   ],
   "source": [
    "INPUT_DIR = OUTPUT_DIR_BASE / \"by_chr\"\n",
    "\n",
    "display(f\"Gene correlations input dir: {INPUT_DIR}\")\n",
    "assert INPUT_DIR.exists()"
   ]
  },
  {
   "cell_type": "markdown",
   "id": "99ccb166",
   "metadata": {
    "papermill": {
     "duration": 0.009354,
     "end_time": "2022-07-22T15:12:45.383377",
     "exception": false,
     "start_time": "2022-07-22T15:12:45.374023",
     "status": "completed"
    },
    "tags": []
   },
   "source": [
    "# Load data"
   ]
  },
  {
   "cell_type": "markdown",
   "id": "028bdd42",
   "metadata": {
    "papermill": {
     "duration": 0.009113,
     "end_time": "2022-07-22T15:12:45.402022",
     "exception": false,
     "start_time": "2022-07-22T15:12:45.392909",
     "status": "completed"
    },
    "tags": []
   },
   "source": [
    "## Gene correlations"
   ]
  },
  {
   "cell_type": "code",
   "execution_count": 11,
   "id": "04624465",
   "metadata": {
    "execution": {
     "iopub.execute_input": "2022-07-22T15:12:45.420555Z",
     "iopub.status.busy": "2022-07-22T15:12:45.420349Z",
     "iopub.status.idle": "2022-07-22T15:12:45.434776Z",
     "shell.execute_reply": "2022-07-22T15:12:45.434288Z"
    },
    "papermill": {
     "duration": 0.025327,
     "end_time": "2022-07-22T15:12:45.436081",
     "exception": false,
     "start_time": "2022-07-22T15:12:45.410754",
     "status": "completed"
    },
    "tags": []
   },
   "outputs": [],
   "source": [
    "all_gene_corr_files = list(INPUT_DIR.glob(\"gene_corrs-chr*.pkl\"))"
   ]
  },
  {
   "cell_type": "code",
   "execution_count": 12,
   "id": "be5869e7-d0e4-4b8f-8c6d-a1c6a9419fe2",
   "metadata": {
    "execution": {
     "iopub.execute_input": "2022-07-22T15:12:45.455048Z",
     "iopub.status.busy": "2022-07-22T15:12:45.454846Z",
     "iopub.status.idle": "2022-07-22T15:12:45.469541Z",
     "shell.execute_reply": "2022-07-22T15:12:45.468974Z"
    },
    "papermill": {
     "duration": 0.025667,
     "end_time": "2022-07-22T15:12:45.470876",
     "exception": false,
     "start_time": "2022-07-22T15:12:45.445209",
     "status": "completed"
    },
    "tags": []
   },
   "outputs": [],
   "source": [
    "# sort by chromosome\n",
    "all_gene_corr_files = sorted(\n",
    "    all_gene_corr_files, key=lambda x: int(x.name.split(\"-chr\")[1].split(\".pkl\")[0])\n",
    ")"
   ]
  },
  {
   "cell_type": "code",
   "execution_count": 13,
   "id": "7d1168f5",
   "metadata": {
    "execution": {
     "iopub.execute_input": "2022-07-22T15:12:45.490653Z",
     "iopub.status.busy": "2022-07-22T15:12:45.490485Z",
     "iopub.status.idle": "2022-07-22T15:12:45.505290Z",
     "shell.execute_reply": "2022-07-22T15:12:45.504739Z"
    },
    "papermill": {
     "duration": 0.02611,
     "end_time": "2022-07-22T15:12:45.506538",
     "exception": false,
     "start_time": "2022-07-22T15:12:45.480428",
     "status": "completed"
    },
    "tags": []
   },
   "outputs": [
    {
     "data": {
      "text/plain": [
       "22"
      ]
     },
     "execution_count": 13,
     "metadata": {},
     "output_type": "execute_result"
    }
   ],
   "source": [
    "len(all_gene_corr_files)"
   ]
  },
  {
   "cell_type": "code",
   "execution_count": 14,
   "id": "39364170",
   "metadata": {
    "execution": {
     "iopub.execute_input": "2022-07-22T15:12:45.526625Z",
     "iopub.status.busy": "2022-07-22T15:12:45.526461Z",
     "iopub.status.idle": "2022-07-22T15:12:45.541634Z",
     "shell.execute_reply": "2022-07-22T15:12:45.541094Z"
    },
    "papermill": {
     "duration": 0.026769,
     "end_time": "2022-07-22T15:12:45.542924",
     "exception": false,
     "start_time": "2022-07-22T15:12:45.516155",
     "status": "completed"
    },
    "tags": []
   },
   "outputs": [
    {
     "data": {
      "text/plain": [
       "[PosixPath('/opt/data/results/gls/gene_corrs/cohorts/1000g_eur/1000g/mashr/by_chr/gene_corrs-chr1.pkl'),\n",
       " PosixPath('/opt/data/results/gls/gene_corrs/cohorts/1000g_eur/1000g/mashr/by_chr/gene_corrs-chr2.pkl'),\n",
       " PosixPath('/opt/data/results/gls/gene_corrs/cohorts/1000g_eur/1000g/mashr/by_chr/gene_corrs-chr3.pkl'),\n",
       " PosixPath('/opt/data/results/gls/gene_corrs/cohorts/1000g_eur/1000g/mashr/by_chr/gene_corrs-chr4.pkl'),\n",
       " PosixPath('/opt/data/results/gls/gene_corrs/cohorts/1000g_eur/1000g/mashr/by_chr/gene_corrs-chr5.pkl'),\n",
       " PosixPath('/opt/data/results/gls/gene_corrs/cohorts/1000g_eur/1000g/mashr/by_chr/gene_corrs-chr6.pkl'),\n",
       " PosixPath('/opt/data/results/gls/gene_corrs/cohorts/1000g_eur/1000g/mashr/by_chr/gene_corrs-chr7.pkl'),\n",
       " PosixPath('/opt/data/results/gls/gene_corrs/cohorts/1000g_eur/1000g/mashr/by_chr/gene_corrs-chr8.pkl'),\n",
       " PosixPath('/opt/data/results/gls/gene_corrs/cohorts/1000g_eur/1000g/mashr/by_chr/gene_corrs-chr9.pkl'),\n",
       " PosixPath('/opt/data/results/gls/gene_corrs/cohorts/1000g_eur/1000g/mashr/by_chr/gene_corrs-chr10.pkl'),\n",
       " PosixPath('/opt/data/results/gls/gene_corrs/cohorts/1000g_eur/1000g/mashr/by_chr/gene_corrs-chr11.pkl'),\n",
       " PosixPath('/opt/data/results/gls/gene_corrs/cohorts/1000g_eur/1000g/mashr/by_chr/gene_corrs-chr12.pkl'),\n",
       " PosixPath('/opt/data/results/gls/gene_corrs/cohorts/1000g_eur/1000g/mashr/by_chr/gene_corrs-chr13.pkl'),\n",
       " PosixPath('/opt/data/results/gls/gene_corrs/cohorts/1000g_eur/1000g/mashr/by_chr/gene_corrs-chr14.pkl'),\n",
       " PosixPath('/opt/data/results/gls/gene_corrs/cohorts/1000g_eur/1000g/mashr/by_chr/gene_corrs-chr15.pkl'),\n",
       " PosixPath('/opt/data/results/gls/gene_corrs/cohorts/1000g_eur/1000g/mashr/by_chr/gene_corrs-chr16.pkl'),\n",
       " PosixPath('/opt/data/results/gls/gene_corrs/cohorts/1000g_eur/1000g/mashr/by_chr/gene_corrs-chr17.pkl'),\n",
       " PosixPath('/opt/data/results/gls/gene_corrs/cohorts/1000g_eur/1000g/mashr/by_chr/gene_corrs-chr18.pkl'),\n",
       " PosixPath('/opt/data/results/gls/gene_corrs/cohorts/1000g_eur/1000g/mashr/by_chr/gene_corrs-chr19.pkl'),\n",
       " PosixPath('/opt/data/results/gls/gene_corrs/cohorts/1000g_eur/1000g/mashr/by_chr/gene_corrs-chr20.pkl'),\n",
       " PosixPath('/opt/data/results/gls/gene_corrs/cohorts/1000g_eur/1000g/mashr/by_chr/gene_corrs-chr21.pkl'),\n",
       " PosixPath('/opt/data/results/gls/gene_corrs/cohorts/1000g_eur/1000g/mashr/by_chr/gene_corrs-chr22.pkl')]"
      ]
     },
     "execution_count": 14,
     "metadata": {},
     "output_type": "execute_result"
    }
   ],
   "source": [
    "all_gene_corr_files"
   ]
  },
  {
   "cell_type": "code",
   "execution_count": 15,
   "id": "6e48c284",
   "metadata": {
    "execution": {
     "iopub.execute_input": "2022-07-22T15:12:45.563509Z",
     "iopub.status.busy": "2022-07-22T15:12:45.563341Z",
     "iopub.status.idle": "2022-07-22T15:12:45.577941Z",
     "shell.execute_reply": "2022-07-22T15:12:45.577417Z"
    },
    "papermill": {
     "duration": 0.026442,
     "end_time": "2022-07-22T15:12:45.579344",
     "exception": false,
     "start_time": "2022-07-22T15:12:45.552902",
     "status": "completed"
    },
    "tags": []
   },
   "outputs": [],
   "source": [
    "assert len(all_gene_corr_files) == 22"
   ]
  },
  {
   "cell_type": "markdown",
   "id": "99d01a88-2f71-41eb-a423-a17378bbb174",
   "metadata": {
    "papermill": {
     "duration": 0.009669,
     "end_time": "2022-07-22T15:12:45.599134",
     "exception": false,
     "start_time": "2022-07-22T15:12:45.589465",
     "status": "completed"
    },
    "tags": []
   },
   "source": [
    "## Get common genes"
   ]
  },
  {
   "cell_type": "code",
   "execution_count": 16,
   "id": "6a5e95f0-eeab-4716-8982-b1dbbd8763d8",
   "metadata": {
    "execution": {
     "iopub.execute_input": "2022-07-22T15:12:45.619005Z",
     "iopub.status.busy": "2022-07-22T15:12:45.618800Z",
     "iopub.status.idle": "2022-07-22T15:12:45.707169Z",
     "shell.execute_reply": "2022-07-22T15:12:45.706541Z"
    },
    "papermill": {
     "duration": 0.099679,
     "end_time": "2022-07-22T15:12:45.708596",
     "exception": false,
     "start_time": "2022-07-22T15:12:45.608917",
     "status": "completed"
    },
    "tags": []
   },
   "outputs": [],
   "source": [
    "gene_ids = set()\n",
    "for f in all_gene_corr_files:\n",
    "    chr_genes = pd.read_pickle(f).index.tolist()\n",
    "    gene_ids.update(chr_genes)"
   ]
  },
  {
   "cell_type": "code",
   "execution_count": 17,
   "id": "81ca7c6e-69c4-48c4-b44f-ec9a2b8bb527",
   "metadata": {
    "execution": {
     "iopub.execute_input": "2022-07-22T15:12:45.730050Z",
     "iopub.status.busy": "2022-07-22T15:12:45.729875Z",
     "iopub.status.idle": "2022-07-22T15:12:45.745480Z",
     "shell.execute_reply": "2022-07-22T15:12:45.744893Z"
    },
    "papermill": {
     "duration": 0.027772,
     "end_time": "2022-07-22T15:12:45.746752",
     "exception": false,
     "start_time": "2022-07-22T15:12:45.718980",
     "status": "completed"
    },
    "tags": []
   },
   "outputs": [
    {
     "data": {
      "text/plain": [
       "6442"
      ]
     },
     "metadata": {},
     "output_type": "display_data"
    }
   ],
   "source": [
    "display(len(gene_ids))"
   ]
  },
  {
   "cell_type": "code",
   "execution_count": 18,
   "id": "5e8a7f17-c84b-4d71-bf0d-11116a66084e",
   "metadata": {
    "execution": {
     "iopub.execute_input": "2022-07-22T15:12:45.771407Z",
     "iopub.status.busy": "2022-07-22T15:12:45.771015Z",
     "iopub.status.idle": "2022-07-22T15:12:45.790304Z",
     "shell.execute_reply": "2022-07-22T15:12:45.789716Z"
    },
    "papermill": {
     "duration": 0.034067,
     "end_time": "2022-07-22T15:12:45.791928",
     "exception": false,
     "start_time": "2022-07-22T15:12:45.757861",
     "status": "completed"
    },
    "tags": []
   },
   "outputs": [
    {
     "data": {
      "text/plain": [
       "['ENSG00000000419',\n",
       " 'ENSG00000000938',\n",
       " 'ENSG00000000971',\n",
       " 'ENSG00000001084',\n",
       " 'ENSG00000001167']"
      ]
     },
     "execution_count": 18,
     "metadata": {},
     "output_type": "execute_result"
    }
   ],
   "source": [
    "sorted(list(gene_ids))[:5]"
   ]
  },
  {
   "cell_type": "markdown",
   "id": "afb94d22-07be-4b67-b448-1d15d787e882",
   "metadata": {
    "papermill": {
     "duration": 0.010648,
     "end_time": "2022-07-22T15:12:45.814348",
     "exception": false,
     "start_time": "2022-07-22T15:12:45.803700",
     "status": "completed"
    },
    "tags": []
   },
   "source": [
    "## Gene info"
   ]
  },
  {
   "cell_type": "code",
   "execution_count": 19,
   "id": "66346539-e969-46dd-997d-c1f404646caa",
   "metadata": {
    "execution": {
     "iopub.execute_input": "2022-07-22T15:12:45.834651Z",
     "iopub.status.busy": "2022-07-22T15:12:45.834457Z",
     "iopub.status.idle": "2022-07-22T15:12:45.850931Z",
     "shell.execute_reply": "2022-07-22T15:12:45.850383Z"
    },
    "papermill": {
     "duration": 0.027909,
     "end_time": "2022-07-22T15:12:45.852338",
     "exception": false,
     "start_time": "2022-07-22T15:12:45.824429",
     "status": "completed"
    },
    "tags": []
   },
   "outputs": [],
   "source": [
    "genes_info = pd.read_pickle(COHORT_INPUT_DIR / \"genes_info.pkl\")"
   ]
  },
  {
   "cell_type": "code",
   "execution_count": 20,
   "id": "6cf6e7f6-5c5c-4ee5-a3d6-1fab3f88fd20",
   "metadata": {
    "execution": {
     "iopub.execute_input": "2022-07-22T15:12:45.873619Z",
     "iopub.status.busy": "2022-07-22T15:12:45.873448Z",
     "iopub.status.idle": "2022-07-22T15:12:45.888572Z",
     "shell.execute_reply": "2022-07-22T15:12:45.887970Z"
    },
    "papermill": {
     "duration": 0.027126,
     "end_time": "2022-07-22T15:12:45.889811",
     "exception": false,
     "start_time": "2022-07-22T15:12:45.862685",
     "status": "completed"
    },
    "tags": []
   },
   "outputs": [
    {
     "data": {
      "text/plain": [
       "(6444, 7)"
      ]
     },
     "execution_count": 20,
     "metadata": {},
     "output_type": "execute_result"
    }
   ],
   "source": [
    "genes_info.shape"
   ]
  },
  {
   "cell_type": "code",
   "execution_count": 21,
   "id": "c0c00e56-a168-4502-bad1-178fa736b055",
   "metadata": {
    "execution": {
     "iopub.execute_input": "2022-07-22T15:12:45.911235Z",
     "iopub.status.busy": "2022-07-22T15:12:45.911066Z",
     "iopub.status.idle": "2022-07-22T15:12:45.932749Z",
     "shell.execute_reply": "2022-07-22T15:12:45.932108Z"
    },
    "papermill": {
     "duration": 0.03397,
     "end_time": "2022-07-22T15:12:45.934123",
     "exception": false,
     "start_time": "2022-07-22T15:12:45.900153",
     "status": "completed"
    },
    "tags": []
   },
   "outputs": [
    {
     "data": {
      "text/html": [
       "<div>\n",
       "<style scoped>\n",
       "    .dataframe tbody tr th:only-of-type {\n",
       "        vertical-align: middle;\n",
       "    }\n",
       "\n",
       "    .dataframe tbody tr th {\n",
       "        vertical-align: top;\n",
       "    }\n",
       "\n",
       "    .dataframe thead th {\n",
       "        text-align: right;\n",
       "    }\n",
       "</style>\n",
       "<table border=\"1\" class=\"dataframe\">\n",
       "  <thead>\n",
       "    <tr style=\"text-align: right;\">\n",
       "      <th></th>\n",
       "      <th>name</th>\n",
       "      <th>id</th>\n",
       "      <th>chr</th>\n",
       "      <th>band</th>\n",
       "      <th>start_position</th>\n",
       "      <th>end_position</th>\n",
       "      <th>gene_length</th>\n",
       "    </tr>\n",
       "  </thead>\n",
       "  <tbody>\n",
       "    <tr>\n",
       "      <th>0</th>\n",
       "      <td>MFN2</td>\n",
       "      <td>ENSG00000116688</td>\n",
       "      <td>1</td>\n",
       "      <td>1p36.22</td>\n",
       "      <td>11980181.0</td>\n",
       "      <td>12013514.0</td>\n",
       "      <td>33333.0</td>\n",
       "    </tr>\n",
       "    <tr>\n",
       "      <th>1</th>\n",
       "      <td>PPA2</td>\n",
       "      <td>ENSG00000138777</td>\n",
       "      <td>4</td>\n",
       "      <td>4q24</td>\n",
       "      <td>105369077.0</td>\n",
       "      <td>105474067.0</td>\n",
       "      <td>104990.0</td>\n",
       "    </tr>\n",
       "    <tr>\n",
       "      <th>2</th>\n",
       "      <td>ADRA2A</td>\n",
       "      <td>ENSG00000150594</td>\n",
       "      <td>10</td>\n",
       "      <td>10q25.2</td>\n",
       "      <td>111077163.0</td>\n",
       "      <td>111080907.0</td>\n",
       "      <td>3744.0</td>\n",
       "    </tr>\n",
       "    <tr>\n",
       "      <th>3</th>\n",
       "      <td>RYR2</td>\n",
       "      <td>ENSG00000198626</td>\n",
       "      <td>1</td>\n",
       "      <td>1q43</td>\n",
       "      <td>237042184.0</td>\n",
       "      <td>237833988.0</td>\n",
       "      <td>791804.0</td>\n",
       "    </tr>\n",
       "    <tr>\n",
       "      <th>4</th>\n",
       "      <td>VAV2</td>\n",
       "      <td>ENSG00000160293</td>\n",
       "      <td>9</td>\n",
       "      <td>9q34.2</td>\n",
       "      <td>133761894.0</td>\n",
       "      <td>133992604.0</td>\n",
       "      <td>230710.0</td>\n",
       "    </tr>\n",
       "  </tbody>\n",
       "</table>\n",
       "</div>"
      ],
      "text/plain": [
       "     name               id chr     band  start_position  end_position  \\\n",
       "0    MFN2  ENSG00000116688   1  1p36.22      11980181.0    12013514.0   \n",
       "1    PPA2  ENSG00000138777   4     4q24     105369077.0   105474067.0   \n",
       "2  ADRA2A  ENSG00000150594  10  10q25.2     111077163.0   111080907.0   \n",
       "3    RYR2  ENSG00000198626   1     1q43     237042184.0   237833988.0   \n",
       "4    VAV2  ENSG00000160293   9   9q34.2     133761894.0   133992604.0   \n",
       "\n",
       "   gene_length  \n",
       "0      33333.0  \n",
       "1     104990.0  \n",
       "2       3744.0  \n",
       "3     791804.0  \n",
       "4     230710.0  "
      ]
     },
     "execution_count": 21,
     "metadata": {},
     "output_type": "execute_result"
    }
   ],
   "source": [
    "genes_info.head()"
   ]
  },
  {
   "cell_type": "code",
   "execution_count": 22,
   "id": "c6f52a23-0e0c-4def-8ebe-714793743f4e",
   "metadata": {
    "execution": {
     "iopub.execute_input": "2022-07-22T15:12:45.954460Z",
     "iopub.status.busy": "2022-07-22T15:12:45.954270Z",
     "iopub.status.idle": "2022-07-22T15:12:45.970216Z",
     "shell.execute_reply": "2022-07-22T15:12:45.969604Z"
    },
    "papermill": {
     "duration": 0.027603,
     "end_time": "2022-07-22T15:12:45.971583",
     "exception": false,
     "start_time": "2022-07-22T15:12:45.943980",
     "status": "completed"
    },
    "tags": []
   },
   "outputs": [],
   "source": [
    "# keep genes in correlation matrices only\n",
    "genes_info = genes_info[genes_info[\"id\"].isin(gene_ids)]"
   ]
  },
  {
   "cell_type": "code",
   "execution_count": 23,
   "id": "19cde9f2-0cad-4b4e-a409-0cff052cc77c",
   "metadata": {
    "execution": {
     "iopub.execute_input": "2022-07-22T15:12:45.992772Z",
     "iopub.status.busy": "2022-07-22T15:12:45.992585Z",
     "iopub.status.idle": "2022-07-22T15:12:46.007228Z",
     "shell.execute_reply": "2022-07-22T15:12:46.006714Z"
    },
    "papermill": {
     "duration": 0.026527,
     "end_time": "2022-07-22T15:12:46.008399",
     "exception": false,
     "start_time": "2022-07-22T15:12:45.981872",
     "status": "completed"
    },
    "tags": []
   },
   "outputs": [
    {
     "data": {
      "text/plain": [
       "(6442, 7)"
      ]
     },
     "execution_count": 23,
     "metadata": {},
     "output_type": "execute_result"
    }
   ],
   "source": [
    "genes_info.shape"
   ]
  },
  {
   "cell_type": "code",
   "execution_count": 24,
   "id": "f9e52a95-4c6e-4ce6-ae1d-df635d5dbe47",
   "metadata": {
    "execution": {
     "iopub.execute_input": "2022-07-22T15:12:46.029784Z",
     "iopub.status.busy": "2022-07-22T15:12:46.028991Z",
     "iopub.status.idle": "2022-07-22T15:12:46.044602Z",
     "shell.execute_reply": "2022-07-22T15:12:46.043985Z"
    },
    "papermill": {
     "duration": 0.027664,
     "end_time": "2022-07-22T15:12:46.045990",
     "exception": false,
     "start_time": "2022-07-22T15:12:46.018326",
     "status": "completed"
    },
    "tags": []
   },
   "outputs": [],
   "source": [
    "assert not genes_info.isna().any().any()"
   ]
  },
  {
   "cell_type": "code",
   "execution_count": 25,
   "id": "683d8106-61e7-4484-a97c-4b3f48780647",
   "metadata": {
    "execution": {
     "iopub.execute_input": "2022-07-22T15:12:46.067392Z",
     "iopub.status.busy": "2022-07-22T15:12:46.067194Z",
     "iopub.status.idle": "2022-07-22T15:12:46.082986Z",
     "shell.execute_reply": "2022-07-22T15:12:46.082435Z"
    },
    "papermill": {
     "duration": 0.027596,
     "end_time": "2022-07-22T15:12:46.084246",
     "exception": false,
     "start_time": "2022-07-22T15:12:46.056650",
     "status": "completed"
    },
    "tags": []
   },
   "outputs": [
    {
     "data": {
      "text/plain": [
       "name               object\n",
       "id                 object\n",
       "chr                object\n",
       "band               object\n",
       "start_position    float64\n",
       "end_position      float64\n",
       "gene_length       float64\n",
       "dtype: object"
      ]
     },
     "execution_count": 25,
     "metadata": {},
     "output_type": "execute_result"
    }
   ],
   "source": [
    "genes_info.dtypes"
   ]
  },
  {
   "cell_type": "code",
   "execution_count": 26,
   "id": "4e10fc0f-3287-4595-afa4-5b6db9ad6b6e",
   "metadata": {
    "execution": {
     "iopub.execute_input": "2022-07-22T15:12:46.106874Z",
     "iopub.status.busy": "2022-07-22T15:12:46.106323Z",
     "iopub.status.idle": "2022-07-22T15:12:46.680663Z",
     "shell.execute_reply": "2022-07-22T15:12:46.680083Z"
    },
    "papermill": {
     "duration": 0.587186,
     "end_time": "2022-07-22T15:12:46.682187",
     "exception": false,
     "start_time": "2022-07-22T15:12:46.095001",
     "status": "completed"
    },
    "tags": []
   },
   "outputs": [],
   "source": [
    "genes_info[\"chr\"] = genes_info[\"chr\"].apply(pd.to_numeric, downcast=\"integer\")\n",
    "genes_info[\"start_position\"] = genes_info[\"start_position\"].astype(int)\n",
    "genes_info[\"end_position\"] = genes_info[\"end_position\"].astype(int)\n",
    "genes_info[\"gene_length\"] = genes_info[\"gene_length\"].astype(int)"
   ]
  },
  {
   "cell_type": "code",
   "execution_count": 27,
   "id": "90028a9b-781e-46c7-97b8-9e1676e682d4",
   "metadata": {
    "execution": {
     "iopub.execute_input": "2022-07-22T15:12:46.702938Z",
     "iopub.status.busy": "2022-07-22T15:12:46.702777Z",
     "iopub.status.idle": "2022-07-22T15:12:46.718187Z",
     "shell.execute_reply": "2022-07-22T15:12:46.717670Z"
    },
    "papermill": {
     "duration": 0.027154,
     "end_time": "2022-07-22T15:12:46.719421",
     "exception": false,
     "start_time": "2022-07-22T15:12:46.692267",
     "status": "completed"
    },
    "tags": []
   },
   "outputs": [
    {
     "data": {
      "text/plain": [
       "name              object\n",
       "id                object\n",
       "chr                int64\n",
       "band              object\n",
       "start_position     int64\n",
       "end_position       int64\n",
       "gene_length        int64\n",
       "dtype: object"
      ]
     },
     "execution_count": 27,
     "metadata": {},
     "output_type": "execute_result"
    }
   ],
   "source": [
    "genes_info.dtypes"
   ]
  },
  {
   "cell_type": "code",
   "execution_count": 28,
   "id": "9a46994f-4625-45ee-9357-1e06b9ba1d2a",
   "metadata": {
    "execution": {
     "iopub.execute_input": "2022-07-22T15:12:46.740596Z",
     "iopub.status.busy": "2022-07-22T15:12:46.740436Z",
     "iopub.status.idle": "2022-07-22T15:12:46.755424Z",
     "shell.execute_reply": "2022-07-22T15:12:46.754841Z"
    },
    "papermill": {
     "duration": 0.027059,
     "end_time": "2022-07-22T15:12:46.756737",
     "exception": false,
     "start_time": "2022-07-22T15:12:46.729678",
     "status": "completed"
    },
    "tags": []
   },
   "outputs": [],
   "source": [
    "assert not genes_info.isna().any(None)"
   ]
  },
  {
   "cell_type": "code",
   "execution_count": 29,
   "id": "adb6d5ce-d010-41f8-bb63-7b5f66bf2c51",
   "metadata": {
    "execution": {
     "iopub.execute_input": "2022-07-22T15:12:46.782393Z",
     "iopub.status.busy": "2022-07-22T15:12:46.781945Z",
     "iopub.status.idle": "2022-07-22T15:12:46.803673Z",
     "shell.execute_reply": "2022-07-22T15:12:46.803058Z"
    },
    "papermill": {
     "duration": 0.03715,
     "end_time": "2022-07-22T15:12:46.805067",
     "exception": false,
     "start_time": "2022-07-22T15:12:46.767917",
     "status": "completed"
    },
    "tags": []
   },
   "outputs": [
    {
     "data": {
      "text/html": [
       "<div>\n",
       "<style scoped>\n",
       "    .dataframe tbody tr th:only-of-type {\n",
       "        vertical-align: middle;\n",
       "    }\n",
       "\n",
       "    .dataframe tbody tr th {\n",
       "        vertical-align: top;\n",
       "    }\n",
       "\n",
       "    .dataframe thead th {\n",
       "        text-align: right;\n",
       "    }\n",
       "</style>\n",
       "<table border=\"1\" class=\"dataframe\">\n",
       "  <thead>\n",
       "    <tr style=\"text-align: right;\">\n",
       "      <th></th>\n",
       "      <th>name</th>\n",
       "      <th>id</th>\n",
       "      <th>chr</th>\n",
       "      <th>band</th>\n",
       "      <th>start_position</th>\n",
       "      <th>end_position</th>\n",
       "      <th>gene_length</th>\n",
       "    </tr>\n",
       "  </thead>\n",
       "  <tbody>\n",
       "    <tr>\n",
       "      <th>0</th>\n",
       "      <td>MFN2</td>\n",
       "      <td>ENSG00000116688</td>\n",
       "      <td>1</td>\n",
       "      <td>1p36.22</td>\n",
       "      <td>11980181</td>\n",
       "      <td>12013514</td>\n",
       "      <td>33333</td>\n",
       "    </tr>\n",
       "    <tr>\n",
       "      <th>1</th>\n",
       "      <td>PPA2</td>\n",
       "      <td>ENSG00000138777</td>\n",
       "      <td>4</td>\n",
       "      <td>4q24</td>\n",
       "      <td>105369077</td>\n",
       "      <td>105474067</td>\n",
       "      <td>104990</td>\n",
       "    </tr>\n",
       "    <tr>\n",
       "      <th>2</th>\n",
       "      <td>ADRA2A</td>\n",
       "      <td>ENSG00000150594</td>\n",
       "      <td>10</td>\n",
       "      <td>10q25.2</td>\n",
       "      <td>111077163</td>\n",
       "      <td>111080907</td>\n",
       "      <td>3744</td>\n",
       "    </tr>\n",
       "    <tr>\n",
       "      <th>3</th>\n",
       "      <td>RYR2</td>\n",
       "      <td>ENSG00000198626</td>\n",
       "      <td>1</td>\n",
       "      <td>1q43</td>\n",
       "      <td>237042184</td>\n",
       "      <td>237833988</td>\n",
       "      <td>791804</td>\n",
       "    </tr>\n",
       "    <tr>\n",
       "      <th>4</th>\n",
       "      <td>VAV2</td>\n",
       "      <td>ENSG00000160293</td>\n",
       "      <td>9</td>\n",
       "      <td>9q34.2</td>\n",
       "      <td>133761894</td>\n",
       "      <td>133992604</td>\n",
       "      <td>230710</td>\n",
       "    </tr>\n",
       "  </tbody>\n",
       "</table>\n",
       "</div>"
      ],
      "text/plain": [
       "     name               id  chr     band  start_position  end_position  \\\n",
       "0    MFN2  ENSG00000116688    1  1p36.22        11980181      12013514   \n",
       "1    PPA2  ENSG00000138777    4     4q24       105369077     105474067   \n",
       "2  ADRA2A  ENSG00000150594   10  10q25.2       111077163     111080907   \n",
       "3    RYR2  ENSG00000198626    1     1q43       237042184     237833988   \n",
       "4    VAV2  ENSG00000160293    9   9q34.2       133761894     133992604   \n",
       "\n",
       "   gene_length  \n",
       "0        33333  \n",
       "1       104990  \n",
       "2         3744  \n",
       "3       791804  \n",
       "4       230710  "
      ]
     },
     "execution_count": 29,
     "metadata": {},
     "output_type": "execute_result"
    }
   ],
   "source": [
    "genes_info.head()"
   ]
  },
  {
   "cell_type": "markdown",
   "id": "f4d4f177",
   "metadata": {
    "papermill": {
     "duration": 0.011108,
     "end_time": "2022-07-22T15:12:46.827986",
     "exception": false,
     "start_time": "2022-07-22T15:12:46.816878",
     "status": "completed"
    },
    "tags": []
   },
   "source": [
    "# Create full correlation matrix"
   ]
  },
  {
   "cell_type": "code",
   "execution_count": 30,
   "id": "fad655cb-e830-496d-8ae1-bd9088623515",
   "metadata": {
    "execution": {
     "iopub.execute_input": "2022-07-22T15:12:46.848972Z",
     "iopub.status.busy": "2022-07-22T15:12:46.848736Z",
     "iopub.status.idle": "2022-07-22T15:12:46.866742Z",
     "shell.execute_reply": "2022-07-22T15:12:46.866197Z"
    },
    "papermill": {
     "duration": 0.029987,
     "end_time": "2022-07-22T15:12:46.868116",
     "exception": false,
     "start_time": "2022-07-22T15:12:46.838129",
     "status": "completed"
    },
    "tags": []
   },
   "outputs": [],
   "source": [
    "genes_info = genes_info.sort_values([\"chr\", \"start_position\"])"
   ]
  },
  {
   "cell_type": "code",
   "execution_count": 31,
   "id": "3d93727c-e045-434b-99ec-2bfc661003f4",
   "metadata": {
    "execution": {
     "iopub.execute_input": "2022-07-22T15:12:46.890178Z",
     "iopub.status.busy": "2022-07-22T15:12:46.889986Z",
     "iopub.status.idle": "2022-07-22T15:12:46.912705Z",
     "shell.execute_reply": "2022-07-22T15:12:46.911957Z"
    },
    "papermill": {
     "duration": 0.035061,
     "end_time": "2022-07-22T15:12:46.913985",
     "exception": false,
     "start_time": "2022-07-22T15:12:46.878924",
     "status": "completed"
    },
    "tags": []
   },
   "outputs": [
    {
     "data": {
      "text/html": [
       "<div>\n",
       "<style scoped>\n",
       "    .dataframe tbody tr th:only-of-type {\n",
       "        vertical-align: middle;\n",
       "    }\n",
       "\n",
       "    .dataframe tbody tr th {\n",
       "        vertical-align: top;\n",
       "    }\n",
       "\n",
       "    .dataframe thead th {\n",
       "        text-align: right;\n",
       "    }\n",
       "</style>\n",
       "<table border=\"1\" class=\"dataframe\">\n",
       "  <thead>\n",
       "    <tr style=\"text-align: right;\">\n",
       "      <th></th>\n",
       "      <th>name</th>\n",
       "      <th>id</th>\n",
       "      <th>chr</th>\n",
       "      <th>band</th>\n",
       "      <th>start_position</th>\n",
       "      <th>end_position</th>\n",
       "      <th>gene_length</th>\n",
       "    </tr>\n",
       "  </thead>\n",
       "  <tbody>\n",
       "    <tr>\n",
       "      <th>3661</th>\n",
       "      <td>NOC2L</td>\n",
       "      <td>ENSG00000188976</td>\n",
       "      <td>1</td>\n",
       "      <td>1p36.33</td>\n",
       "      <td>944203</td>\n",
       "      <td>959309</td>\n",
       "      <td>15106</td>\n",
       "    </tr>\n",
       "    <tr>\n",
       "      <th>5620</th>\n",
       "      <td>HES4</td>\n",
       "      <td>ENSG00000188290</td>\n",
       "      <td>1</td>\n",
       "      <td>1p36.33</td>\n",
       "      <td>998962</td>\n",
       "      <td>1000172</td>\n",
       "      <td>1210</td>\n",
       "    </tr>\n",
       "    <tr>\n",
       "      <th>192</th>\n",
       "      <td>ISG15</td>\n",
       "      <td>ENSG00000187608</td>\n",
       "      <td>1</td>\n",
       "      <td>1p36.33</td>\n",
       "      <td>1001138</td>\n",
       "      <td>1014540</td>\n",
       "      <td>13402</td>\n",
       "    </tr>\n",
       "    <tr>\n",
       "      <th>2239</th>\n",
       "      <td>AGRN</td>\n",
       "      <td>ENSG00000188157</td>\n",
       "      <td>1</td>\n",
       "      <td>1p36.33</td>\n",
       "      <td>1020120</td>\n",
       "      <td>1056118</td>\n",
       "      <td>35998</td>\n",
       "    </tr>\n",
       "    <tr>\n",
       "      <th>5164</th>\n",
       "      <td>TNFRSF18</td>\n",
       "      <td>ENSG00000186891</td>\n",
       "      <td>1</td>\n",
       "      <td>1p36.33</td>\n",
       "      <td>1203508</td>\n",
       "      <td>1206592</td>\n",
       "      <td>3084</td>\n",
       "    </tr>\n",
       "    <tr>\n",
       "      <th>...</th>\n",
       "      <td>...</td>\n",
       "      <td>...</td>\n",
       "      <td>...</td>\n",
       "      <td>...</td>\n",
       "      <td>...</td>\n",
       "      <td>...</td>\n",
       "      <td>...</td>\n",
       "    </tr>\n",
       "    <tr>\n",
       "      <th>2566</th>\n",
       "      <td>CPT1B</td>\n",
       "      <td>ENSG00000205560</td>\n",
       "      <td>22</td>\n",
       "      <td>22q13.33</td>\n",
       "      <td>50568861</td>\n",
       "      <td>50578465</td>\n",
       "      <td>9604</td>\n",
       "    </tr>\n",
       "    <tr>\n",
       "      <th>2722</th>\n",
       "      <td>CHKB</td>\n",
       "      <td>ENSG00000100288</td>\n",
       "      <td>22</td>\n",
       "      <td>22q13.33</td>\n",
       "      <td>50578949</td>\n",
       "      <td>50601455</td>\n",
       "      <td>22506</td>\n",
       "    </tr>\n",
       "    <tr>\n",
       "      <th>899</th>\n",
       "      <td>MAPK8IP2</td>\n",
       "      <td>ENSG00000008735</td>\n",
       "      <td>22</td>\n",
       "      <td>22q13.33</td>\n",
       "      <td>50600793</td>\n",
       "      <td>50613981</td>\n",
       "      <td>13188</td>\n",
       "    </tr>\n",
       "    <tr>\n",
       "      <th>1926</th>\n",
       "      <td>ARSA</td>\n",
       "      <td>ENSG00000100299</td>\n",
       "      <td>22</td>\n",
       "      <td>22q13.33</td>\n",
       "      <td>50622754</td>\n",
       "      <td>50628173</td>\n",
       "      <td>5419</td>\n",
       "    </tr>\n",
       "    <tr>\n",
       "      <th>3098</th>\n",
       "      <td>SHANK3</td>\n",
       "      <td>ENSG00000251322</td>\n",
       "      <td>22</td>\n",
       "      <td>22q13.33</td>\n",
       "      <td>50674415</td>\n",
       "      <td>50733298</td>\n",
       "      <td>58883</td>\n",
       "    </tr>\n",
       "  </tbody>\n",
       "</table>\n",
       "<p>6442 rows × 7 columns</p>\n",
       "</div>"
      ],
      "text/plain": [
       "          name               id  chr      band  start_position  end_position  \\\n",
       "3661     NOC2L  ENSG00000188976    1   1p36.33          944203        959309   \n",
       "5620      HES4  ENSG00000188290    1   1p36.33          998962       1000172   \n",
       "192      ISG15  ENSG00000187608    1   1p36.33         1001138       1014540   \n",
       "2239      AGRN  ENSG00000188157    1   1p36.33         1020120       1056118   \n",
       "5164  TNFRSF18  ENSG00000186891    1   1p36.33         1203508       1206592   \n",
       "...        ...              ...  ...       ...             ...           ...   \n",
       "2566     CPT1B  ENSG00000205560   22  22q13.33        50568861      50578465   \n",
       "2722      CHKB  ENSG00000100288   22  22q13.33        50578949      50601455   \n",
       "899   MAPK8IP2  ENSG00000008735   22  22q13.33        50600793      50613981   \n",
       "1926      ARSA  ENSG00000100299   22  22q13.33        50622754      50628173   \n",
       "3098    SHANK3  ENSG00000251322   22  22q13.33        50674415      50733298   \n",
       "\n",
       "      gene_length  \n",
       "3661        15106  \n",
       "5620         1210  \n",
       "192         13402  \n",
       "2239        35998  \n",
       "5164         3084  \n",
       "...           ...  \n",
       "2566         9604  \n",
       "2722        22506  \n",
       "899         13188  \n",
       "1926         5419  \n",
       "3098        58883  \n",
       "\n",
       "[6442 rows x 7 columns]"
      ]
     },
     "execution_count": 31,
     "metadata": {},
     "output_type": "execute_result"
    }
   ],
   "source": [
    "genes_info"
   ]
  },
  {
   "cell_type": "code",
   "execution_count": 32,
   "id": "1277c7cb-6850-476f-932e-0d166362392c",
   "metadata": {
    "execution": {
     "iopub.execute_input": "2022-07-22T15:12:46.937005Z",
     "iopub.status.busy": "2022-07-22T15:12:46.936496Z",
     "iopub.status.idle": "2022-07-22T15:12:46.952068Z",
     "shell.execute_reply": "2022-07-22T15:12:46.951589Z"
    },
    "papermill": {
     "duration": 0.028248,
     "end_time": "2022-07-22T15:12:46.953332",
     "exception": false,
     "start_time": "2022-07-22T15:12:46.925084",
     "status": "completed"
    },
    "tags": []
   },
   "outputs": [],
   "source": [
    "full_corr_matrix = pd.DataFrame(\n",
    "    np.zeros((genes_info.shape[0], genes_info.shape[0])),\n",
    "    index=genes_info[\"id\"].tolist(),\n",
    "    columns=genes_info[\"id\"].tolist(),\n",
    ")"
   ]
  },
  {
   "cell_type": "code",
   "execution_count": 33,
   "id": "5aa375f4-775a-4dab-80c9-a68a52c69adc",
   "metadata": {
    "execution": {
     "iopub.execute_input": "2022-07-22T15:12:46.975442Z",
     "iopub.status.busy": "2022-07-22T15:12:46.975263Z",
     "iopub.status.idle": "2022-07-22T15:12:46.990037Z",
     "shell.execute_reply": "2022-07-22T15:12:46.989532Z"
    },
    "papermill": {
     "duration": 0.027223,
     "end_time": "2022-07-22T15:12:46.991361",
     "exception": false,
     "start_time": "2022-07-22T15:12:46.964138",
     "status": "completed"
    },
    "tags": []
   },
   "outputs": [],
   "source": [
    "assert full_corr_matrix.index.is_unique & full_corr_matrix.columns.is_unique"
   ]
  },
  {
   "cell_type": "code",
   "execution_count": 34,
   "id": "0afc4716-f607-4634-8a02-5f116fd2c318",
   "metadata": {
    "execution": {
     "iopub.execute_input": "2022-07-22T15:12:47.013640Z",
     "iopub.status.busy": "2022-07-22T15:12:47.013457Z",
     "iopub.status.idle": "2022-07-22T15:12:47.130300Z",
     "shell.execute_reply": "2022-07-22T15:12:47.129732Z"
    },
    "papermill": {
     "duration": 0.129555,
     "end_time": "2022-07-22T15:12:47.131817",
     "exception": false,
     "start_time": "2022-07-22T15:12:47.002262",
     "status": "completed"
    },
    "tags": []
   },
   "outputs": [
    {
     "name": "stdout",
     "output_type": "stream",
     "text": [
      "gene_corrs-chr1.pkl\n",
      "gene_corrs-chr2.pkl\n",
      "gene_corrs-chr3.pkl\n",
      "gene_corrs-chr4.pkl\n",
      "gene_corrs-chr5.pkl\n",
      "gene_corrs-chr6.pkl\n",
      "gene_corrs-chr7.pkl\n",
      "gene_corrs-chr8.pkl\n",
      "gene_corrs-chr9.pkl\n",
      "gene_corrs-chr10.pkl\n",
      "gene_corrs-chr11.pkl\n",
      "gene_corrs-chr12.pkl\n",
      "gene_corrs-chr13.pkl\n",
      "gene_corrs-chr14.pkl\n",
      "gene_corrs-chr15.pkl\n",
      "gene_corrs-chr16.pkl\n",
      "gene_corrs-chr17.pkl\n",
      "gene_corrs-chr18.pkl\n",
      "gene_corrs-chr19.pkl\n",
      "gene_corrs-chr20.pkl\n",
      "gene_corrs-chr21.pkl\n",
      "gene_corrs-chr22.pkl\n"
     ]
    }
   ],
   "source": [
    "for chr_corr_file in all_gene_corr_files:\n",
    "    print(chr_corr_file.name, flush=True)\n",
    "\n",
    "    corr_data = pd.read_pickle(chr_corr_file)\n",
    "    full_corr_matrix.loc[corr_data.index, corr_data.columns] = corr_data"
   ]
  },
  {
   "cell_type": "code",
   "execution_count": 35,
   "id": "a6be3bf7-d1c1-4f90-b074-a6e74d9285a5",
   "metadata": {
    "execution": {
     "iopub.execute_input": "2022-07-22T15:12:47.157680Z",
     "iopub.status.busy": "2022-07-22T15:12:47.157520Z",
     "iopub.status.idle": "2022-07-22T15:12:47.172292Z",
     "shell.execute_reply": "2022-07-22T15:12:47.171726Z"
    },
    "papermill": {
     "duration": 0.028753,
     "end_time": "2022-07-22T15:12:47.173533",
     "exception": false,
     "start_time": "2022-07-22T15:12:47.144780",
     "status": "completed"
    },
    "tags": []
   },
   "outputs": [
    {
     "data": {
      "text/plain": [
       "(6442, 6442)"
      ]
     },
     "execution_count": 35,
     "metadata": {},
     "output_type": "execute_result"
    }
   ],
   "source": [
    "full_corr_matrix.shape"
   ]
  },
  {
   "cell_type": "code",
   "execution_count": 36,
   "id": "aac21a65-87b3-4b87-b17a-cbe3692c88a9",
   "metadata": {
    "execution": {
     "iopub.execute_input": "2022-07-22T15:12:47.198602Z",
     "iopub.status.busy": "2022-07-22T15:12:47.197931Z",
     "iopub.status.idle": "2022-07-22T15:12:47.226621Z",
     "shell.execute_reply": "2022-07-22T15:12:47.224977Z"
    },
    "papermill": {
     "duration": 0.042184,
     "end_time": "2022-07-22T15:12:47.228074",
     "exception": false,
     "start_time": "2022-07-22T15:12:47.185890",
     "status": "completed"
    },
    "tags": []
   },
   "outputs": [
    {
     "data": {
      "text/html": [
       "<div>\n",
       "<style scoped>\n",
       "    .dataframe tbody tr th:only-of-type {\n",
       "        vertical-align: middle;\n",
       "    }\n",
       "\n",
       "    .dataframe tbody tr th {\n",
       "        vertical-align: top;\n",
       "    }\n",
       "\n",
       "    .dataframe thead th {\n",
       "        text-align: right;\n",
       "    }\n",
       "</style>\n",
       "<table border=\"1\" class=\"dataframe\">\n",
       "  <thead>\n",
       "    <tr style=\"text-align: right;\">\n",
       "      <th></th>\n",
       "      <th>ENSG00000188976</th>\n",
       "      <th>ENSG00000188290</th>\n",
       "      <th>ENSG00000187608</th>\n",
       "      <th>ENSG00000188157</th>\n",
       "      <th>ENSG00000186891</th>\n",
       "      <th>ENSG00000186827</th>\n",
       "      <th>ENSG00000176022</th>\n",
       "      <th>ENSG00000160087</th>\n",
       "      <th>ENSG00000131584</th>\n",
       "      <th>ENSG00000169962</th>\n",
       "      <th>...</th>\n",
       "      <th>ENSG00000196576</th>\n",
       "      <th>ENSG00000128165</th>\n",
       "      <th>ENSG00000100253</th>\n",
       "      <th>ENSG00000130489</th>\n",
       "      <th>ENSG00000025708</th>\n",
       "      <th>ENSG00000205560</th>\n",
       "      <th>ENSG00000100288</th>\n",
       "      <th>ENSG00000008735</th>\n",
       "      <th>ENSG00000100299</th>\n",
       "      <th>ENSG00000251322</th>\n",
       "    </tr>\n",
       "  </thead>\n",
       "  <tbody>\n",
       "    <tr>\n",
       "      <th>ENSG00000188976</th>\n",
       "      <td>1.000000</td>\n",
       "      <td>0.115011</td>\n",
       "      <td>0.173138</td>\n",
       "      <td>0.056096</td>\n",
       "      <td>0.008032</td>\n",
       "      <td>0.008727</td>\n",
       "      <td>0.006797</td>\n",
       "      <td>0.004533</td>\n",
       "      <td>0.007350</td>\n",
       "      <td>0.010391</td>\n",
       "      <td>...</td>\n",
       "      <td>0.0</td>\n",
       "      <td>0.0</td>\n",
       "      <td>0.0</td>\n",
       "      <td>0.0</td>\n",
       "      <td>0.0</td>\n",
       "      <td>0.0</td>\n",
       "      <td>0.0</td>\n",
       "      <td>0.0</td>\n",
       "      <td>0.0</td>\n",
       "      <td>0.0</td>\n",
       "    </tr>\n",
       "    <tr>\n",
       "      <th>ENSG00000188290</th>\n",
       "      <td>0.115011</td>\n",
       "      <td>1.000000</td>\n",
       "      <td>0.681368</td>\n",
       "      <td>0.360588</td>\n",
       "      <td>0.011545</td>\n",
       "      <td>0.010729</td>\n",
       "      <td>0.003577</td>\n",
       "      <td>0.010230</td>\n",
       "      <td>0.010747</td>\n",
       "      <td>0.008769</td>\n",
       "      <td>...</td>\n",
       "      <td>0.0</td>\n",
       "      <td>0.0</td>\n",
       "      <td>0.0</td>\n",
       "      <td>0.0</td>\n",
       "      <td>0.0</td>\n",
       "      <td>0.0</td>\n",
       "      <td>0.0</td>\n",
       "      <td>0.0</td>\n",
       "      <td>0.0</td>\n",
       "      <td>0.0</td>\n",
       "    </tr>\n",
       "    <tr>\n",
       "      <th>ENSG00000187608</th>\n",
       "      <td>0.173138</td>\n",
       "      <td>0.681368</td>\n",
       "      <td>1.000000</td>\n",
       "      <td>0.381394</td>\n",
       "      <td>0.011774</td>\n",
       "      <td>0.012527</td>\n",
       "      <td>0.003754</td>\n",
       "      <td>0.012096</td>\n",
       "      <td>0.012679</td>\n",
       "      <td>0.010442</td>\n",
       "      <td>...</td>\n",
       "      <td>0.0</td>\n",
       "      <td>0.0</td>\n",
       "      <td>0.0</td>\n",
       "      <td>0.0</td>\n",
       "      <td>0.0</td>\n",
       "      <td>0.0</td>\n",
       "      <td>0.0</td>\n",
       "      <td>0.0</td>\n",
       "      <td>0.0</td>\n",
       "      <td>0.0</td>\n",
       "    </tr>\n",
       "    <tr>\n",
       "      <th>ENSG00000188157</th>\n",
       "      <td>0.056096</td>\n",
       "      <td>0.360588</td>\n",
       "      <td>0.381394</td>\n",
       "      <td>1.000000</td>\n",
       "      <td>0.013005</td>\n",
       "      <td>0.015775</td>\n",
       "      <td>0.006184</td>\n",
       "      <td>0.006813</td>\n",
       "      <td>0.010775</td>\n",
       "      <td>0.009189</td>\n",
       "      <td>...</td>\n",
       "      <td>0.0</td>\n",
       "      <td>0.0</td>\n",
       "      <td>0.0</td>\n",
       "      <td>0.0</td>\n",
       "      <td>0.0</td>\n",
       "      <td>0.0</td>\n",
       "      <td>0.0</td>\n",
       "      <td>0.0</td>\n",
       "      <td>0.0</td>\n",
       "      <td>0.0</td>\n",
       "    </tr>\n",
       "    <tr>\n",
       "      <th>ENSG00000186891</th>\n",
       "      <td>0.008032</td>\n",
       "      <td>0.011545</td>\n",
       "      <td>0.011774</td>\n",
       "      <td>0.013005</td>\n",
       "      <td>1.000000</td>\n",
       "      <td>0.356676</td>\n",
       "      <td>0.454010</td>\n",
       "      <td>0.137643</td>\n",
       "      <td>0.200340</td>\n",
       "      <td>0.093210</td>\n",
       "      <td>...</td>\n",
       "      <td>0.0</td>\n",
       "      <td>0.0</td>\n",
       "      <td>0.0</td>\n",
       "      <td>0.0</td>\n",
       "      <td>0.0</td>\n",
       "      <td>0.0</td>\n",
       "      <td>0.0</td>\n",
       "      <td>0.0</td>\n",
       "      <td>0.0</td>\n",
       "      <td>0.0</td>\n",
       "    </tr>\n",
       "  </tbody>\n",
       "</table>\n",
       "<p>5 rows × 6442 columns</p>\n",
       "</div>"
      ],
      "text/plain": [
       "                 ENSG00000188976  ENSG00000188290  ENSG00000187608  \\\n",
       "ENSG00000188976         1.000000         0.115011         0.173138   \n",
       "ENSG00000188290         0.115011         1.000000         0.681368   \n",
       "ENSG00000187608         0.173138         0.681368         1.000000   \n",
       "ENSG00000188157         0.056096         0.360588         0.381394   \n",
       "ENSG00000186891         0.008032         0.011545         0.011774   \n",
       "\n",
       "                 ENSG00000188157  ENSG00000186891  ENSG00000186827  \\\n",
       "ENSG00000188976         0.056096         0.008032         0.008727   \n",
       "ENSG00000188290         0.360588         0.011545         0.010729   \n",
       "ENSG00000187608         0.381394         0.011774         0.012527   \n",
       "ENSG00000188157         1.000000         0.013005         0.015775   \n",
       "ENSG00000186891         0.013005         1.000000         0.356676   \n",
       "\n",
       "                 ENSG00000176022  ENSG00000160087  ENSG00000131584  \\\n",
       "ENSG00000188976         0.006797         0.004533         0.007350   \n",
       "ENSG00000188290         0.003577         0.010230         0.010747   \n",
       "ENSG00000187608         0.003754         0.012096         0.012679   \n",
       "ENSG00000188157         0.006184         0.006813         0.010775   \n",
       "ENSG00000186891         0.454010         0.137643         0.200340   \n",
       "\n",
       "                 ENSG00000169962  ...  ENSG00000196576  ENSG00000128165  \\\n",
       "ENSG00000188976         0.010391  ...              0.0              0.0   \n",
       "ENSG00000188290         0.008769  ...              0.0              0.0   \n",
       "ENSG00000187608         0.010442  ...              0.0              0.0   \n",
       "ENSG00000188157         0.009189  ...              0.0              0.0   \n",
       "ENSG00000186891         0.093210  ...              0.0              0.0   \n",
       "\n",
       "                 ENSG00000100253  ENSG00000130489  ENSG00000025708  \\\n",
       "ENSG00000188976              0.0              0.0              0.0   \n",
       "ENSG00000188290              0.0              0.0              0.0   \n",
       "ENSG00000187608              0.0              0.0              0.0   \n",
       "ENSG00000188157              0.0              0.0              0.0   \n",
       "ENSG00000186891              0.0              0.0              0.0   \n",
       "\n",
       "                 ENSG00000205560  ENSG00000100288  ENSG00000008735  \\\n",
       "ENSG00000188976              0.0              0.0              0.0   \n",
       "ENSG00000188290              0.0              0.0              0.0   \n",
       "ENSG00000187608              0.0              0.0              0.0   \n",
       "ENSG00000188157              0.0              0.0              0.0   \n",
       "ENSG00000186891              0.0              0.0              0.0   \n",
       "\n",
       "                 ENSG00000100299  ENSG00000251322  \n",
       "ENSG00000188976              0.0              0.0  \n",
       "ENSG00000188290              0.0              0.0  \n",
       "ENSG00000187608              0.0              0.0  \n",
       "ENSG00000188157              0.0              0.0  \n",
       "ENSG00000186891              0.0              0.0  \n",
       "\n",
       "[5 rows x 6442 columns]"
      ]
     },
     "execution_count": 36,
     "metadata": {},
     "output_type": "execute_result"
    }
   ],
   "source": [
    "full_corr_matrix.head()"
   ]
  },
  {
   "cell_type": "code",
   "execution_count": 37,
   "id": "0d43f268-ad27-4117-b43b-df581deedae5",
   "metadata": {
    "execution": {
     "iopub.execute_input": "2022-07-22T15:12:47.253318Z",
     "iopub.status.busy": "2022-07-22T15:12:47.252992Z",
     "iopub.status.idle": "2022-07-22T15:12:47.269063Z",
     "shell.execute_reply": "2022-07-22T15:12:47.268580Z"
    },
    "papermill": {
     "duration": 0.030505,
     "end_time": "2022-07-22T15:12:47.270342",
     "exception": false,
     "start_time": "2022-07-22T15:12:47.239837",
     "status": "completed"
    },
    "tags": []
   },
   "outputs": [
    {
     "data": {
      "text/plain": [
       "True"
      ]
     },
     "execution_count": 37,
     "metadata": {},
     "output_type": "execute_result"
    }
   ],
   "source": [
    "np.all(full_corr_matrix.to_numpy().diagonal() == 1.0)"
   ]
  },
  {
   "cell_type": "markdown",
   "id": "1169db4b-9af2-4d3c-a27a-198d7730fa67",
   "metadata": {
    "papermill": {
     "duration": 0.011622,
     "end_time": "2022-07-22T15:12:47.294523",
     "exception": false,
     "start_time": "2022-07-22T15:12:47.282901",
     "status": "completed"
    },
    "tags": []
   },
   "source": [
    "## Some checks"
   ]
  },
  {
   "cell_type": "code",
   "execution_count": 38,
   "id": "776749ae-cf4d-46d8-9fae-49ea728f9002",
   "metadata": {
    "execution": {
     "iopub.execute_input": "2022-07-22T15:12:47.318835Z",
     "iopub.status.busy": "2022-07-22T15:12:47.318616Z",
     "iopub.status.idle": "2022-07-22T15:12:47.441573Z",
     "shell.execute_reply": "2022-07-22T15:12:47.441030Z"
    },
    "papermill": {
     "duration": 0.136686,
     "end_time": "2022-07-22T15:12:47.443023",
     "exception": false,
     "start_time": "2022-07-22T15:12:47.306337",
     "status": "completed"
    },
    "tags": []
   },
   "outputs": [],
   "source": [
    "assert not full_corr_matrix.isna().any(None)\n",
    "assert not np.isinf(full_corr_matrix.to_numpy()).any()\n",
    "assert not np.iscomplex(full_corr_matrix.to_numpy()).any()"
   ]
  },
  {
   "cell_type": "code",
   "execution_count": 39,
   "id": "31b4e109-a020-4667-9326-c63e6d80a33e",
   "metadata": {
    "execution": {
     "iopub.execute_input": "2022-07-22T15:12:47.467119Z",
     "iopub.status.busy": "2022-07-22T15:12:47.466929Z",
     "iopub.status.idle": "2022-07-22T15:12:47.630218Z",
     "shell.execute_reply": "2022-07-22T15:12:47.629738Z"
    },
    "papermill": {
     "duration": 0.176881,
     "end_time": "2022-07-22T15:12:47.631419",
     "exception": false,
     "start_time": "2022-07-22T15:12:47.454538",
     "status": "completed"
    },
    "tags": []
   },
   "outputs": [
    {
     "data": {
      "text/plain": [
       "0.0"
      ]
     },
     "metadata": {},
     "output_type": "display_data"
    }
   ],
   "source": [
    "_min_val = full_corr_matrix.min().min()\n",
    "display(_min_val)\n",
    "assert _min_val >= 0.0"
   ]
  },
  {
   "cell_type": "code",
   "execution_count": 40,
   "id": "df674d11-939a-4704-a718-f246527a1880",
   "metadata": {
    "execution": {
     "iopub.execute_input": "2022-07-22T15:12:47.655666Z",
     "iopub.status.busy": "2022-07-22T15:12:47.655381Z",
     "iopub.status.idle": "2022-07-22T15:12:47.827532Z",
     "shell.execute_reply": "2022-07-22T15:12:47.827047Z"
    },
    "papermill": {
     "duration": 0.185619,
     "end_time": "2022-07-22T15:12:47.828945",
     "exception": false,
     "start_time": "2022-07-22T15:12:47.643326",
     "status": "completed"
    },
    "tags": []
   },
   "outputs": [
    {
     "data": {
      "text/plain": [
       "1.0"
      ]
     },
     "metadata": {},
     "output_type": "display_data"
    }
   ],
   "source": [
    "_max_val = full_corr_matrix.max().max()  # this will capture the 1.0 in the diagonal\n",
    "display(_max_val)\n",
    "assert _max_val <= 1.00"
   ]
  },
  {
   "cell_type": "markdown",
   "id": "c44e801b-ef0c-424e-a880-85c1a75e9782",
   "metadata": {
    "papermill": {
     "duration": 0.011678,
     "end_time": "2022-07-22T15:12:47.853141",
     "exception": false,
     "start_time": "2022-07-22T15:12:47.841463",
     "status": "completed"
    },
    "tags": []
   },
   "source": [
    "# Positive definiteness"
   ]
  },
  {
   "cell_type": "code",
   "execution_count": 41,
   "id": "07d9a9a1-a4f7-48aa-b916-6d42a8cc6186",
   "metadata": {
    "execution": {
     "iopub.execute_input": "2022-07-22T15:12:47.878035Z",
     "iopub.status.busy": "2022-07-22T15:12:47.877267Z",
     "iopub.status.idle": "2022-07-22T15:13:40.027938Z",
     "shell.execute_reply": "2022-07-22T15:13:40.027549Z"
    },
    "papermill": {
     "duration": 52.176881,
     "end_time": "2022-07-22T15:13:40.041666",
     "exception": false,
     "start_time": "2022-07-22T15:12:47.864785",
     "status": "completed"
    },
    "tags": []
   },
   "outputs": [
    {
     "data": {
      "text/plain": [
       "3"
      ]
     },
     "metadata": {},
     "output_type": "display_data"
    },
    {
     "data": {
      "text/plain": [
       "array([-1.87570465e-05, -9.08533690e-06, -5.26772356e-16])"
      ]
     },
     "metadata": {},
     "output_type": "display_data"
    }
   ],
   "source": [
    "# print negative eigenvalues\n",
    "eigs = np.linalg.eigvals(full_corr_matrix.to_numpy())\n",
    "display(len(eigs[eigs < 0]))\n",
    "display(eigs[eigs < 0])"
   ]
  },
  {
   "cell_type": "code",
   "execution_count": 42,
   "id": "e514a575-dc67-45bc-9550-276389349bd1",
   "metadata": {
    "execution": {
     "iopub.execute_input": "2022-07-22T15:13:40.072999Z",
     "iopub.status.busy": "2022-07-22T15:13:40.072835Z",
     "iopub.status.idle": "2022-07-22T15:13:40.784933Z",
     "shell.execute_reply": "2022-07-22T15:13:40.784393Z"
    },
    "papermill": {
     "duration": 0.727829,
     "end_time": "2022-07-22T15:13:40.786320",
     "exception": false,
     "start_time": "2022-07-22T15:13:40.058491",
     "status": "completed"
    },
    "tags": []
   },
   "outputs": [
    {
     "name": "stdout",
     "output_type": "stream",
     "text": [
      "Cholesky decomposition failed: Matrix is not positive definite\n"
     ]
    }
   ],
   "source": [
    "CHOL_DECOMPOSITION_FAILED = None\n",
    "\n",
    "try:\n",
    "    chol_mat = np.linalg.cholesky(full_corr_matrix.to_numpy())\n",
    "    cov_inv = np.linalg.inv(chol_mat)\n",
    "    print(\"Works!\")\n",
    "    CHOL_DECOMPOSITION_FAILED = False\n",
    "except Exception as e:\n",
    "    print(f\"Cholesky decomposition failed: {str(e)}\")\n",
    "    CHOL_DECOMPOSITION_FAILED = True"
   ]
  },
  {
   "cell_type": "markdown",
   "id": "e33fce11-235d-42c3-aad3-dd6577518ab8",
   "metadata": {
    "papermill": {
     "duration": 0.011986,
     "end_time": "2022-07-22T15:13:40.811560",
     "exception": false,
     "start_time": "2022-07-22T15:13:40.799574",
     "status": "completed"
    },
    "tags": []
   },
   "source": [
    "## Adjust"
   ]
  },
  {
   "cell_type": "code",
   "execution_count": 43,
   "id": "8b0f307d-046f-480c-a246-2b777a26a031",
   "metadata": {
    "execution": {
     "iopub.execute_input": "2022-07-22T15:13:40.835573Z",
     "iopub.status.busy": "2022-07-22T15:13:40.835388Z",
     "iopub.status.idle": "2022-07-22T15:13:41.346480Z",
     "shell.execute_reply": "2022-07-22T15:13:41.345787Z"
    },
    "papermill": {
     "duration": 0.524908,
     "end_time": "2022-07-22T15:13:41.348053",
     "exception": false,
     "start_time": "2022-07-22T15:13:40.823145",
     "status": "completed"
    },
    "tags": []
   },
   "outputs": [],
   "source": [
    "%load_ext rpy2.ipython"
   ]
  },
  {
   "cell_type": "code",
   "execution_count": 44,
   "id": "45b1b1dd-e5c8-4137-85e4-15a14739404d",
   "metadata": {
    "execution": {
     "iopub.execute_input": "2022-07-22T15:13:41.372698Z",
     "iopub.status.busy": "2022-07-22T15:13:41.372485Z",
     "iopub.status.idle": "2022-07-22T15:13:41.396826Z",
     "shell.execute_reply": "2022-07-22T15:13:41.396342Z"
    },
    "papermill": {
     "duration": 0.038323,
     "end_time": "2022-07-22T15:13:41.398185",
     "exception": false,
     "start_time": "2022-07-22T15:13:41.359862",
     "status": "completed"
    },
    "tags": []
   },
   "outputs": [],
   "source": [
    "%%R\n",
    "# taken and adapted from https://www.r-bloggers.com/2013/08/correcting-a-pseudo-correlation-matrix-to-be-positive-semidefinite/\n",
    "CorrectCM <- function(CM, p = 0) {\n",
    "  n <- dim(CM)[1L]\n",
    "  E <- eigen(CM)\n",
    "  CM1 <- E$vectors %*% tcrossprod(diag(pmax(E$values, p), n), E$vectors)\n",
    "  Balance <- diag(1 / sqrt(diag(CM1)))\n",
    "  CM2 <- Balance %*% CM1 %*% Balance\n",
    "  return(CM2)\n",
    "}"
   ]
  },
  {
   "cell_type": "code",
   "execution_count": 45,
   "id": "e072d1dc-fa74-44da-8a09-67a092f2adaf",
   "metadata": {
    "execution": {
     "iopub.execute_input": "2022-07-22T15:13:41.423083Z",
     "iopub.status.busy": "2022-07-22T15:13:41.422878Z",
     "iopub.status.idle": "2022-07-22T15:14:32.579222Z",
     "shell.execute_reply": "2022-07-22T15:14:32.578684Z"
    },
    "papermill": {
     "duration": 51.170149,
     "end_time": "2022-07-22T15:14:32.580462",
     "exception": false,
     "start_time": "2022-07-22T15:13:41.410313",
     "status": "completed"
    },
    "tags": []
   },
   "outputs": [
    {
     "data": {
      "text/plain": [
       "(6442, 6442)"
      ]
     },
     "metadata": {},
     "output_type": "display_data"
    },
    {
     "data": {
      "text/plain": [
       "(6442, 6442)"
      ]
     },
     "metadata": {},
     "output_type": "display_data"
    },
    {
     "data": {
      "text/html": [
       "<div>\n",
       "<style scoped>\n",
       "    .dataframe tbody tr th:only-of-type {\n",
       "        vertical-align: middle;\n",
       "    }\n",
       "\n",
       "    .dataframe tbody tr th {\n",
       "        vertical-align: top;\n",
       "    }\n",
       "\n",
       "    .dataframe thead th {\n",
       "        text-align: right;\n",
       "    }\n",
       "</style>\n",
       "<table border=\"1\" class=\"dataframe\">\n",
       "  <thead>\n",
       "    <tr style=\"text-align: right;\">\n",
       "      <th></th>\n",
       "      <th>ENSG00000188976</th>\n",
       "      <th>ENSG00000188290</th>\n",
       "      <th>ENSG00000187608</th>\n",
       "      <th>ENSG00000188157</th>\n",
       "      <th>ENSG00000186891</th>\n",
       "      <th>ENSG00000186827</th>\n",
       "      <th>ENSG00000176022</th>\n",
       "      <th>ENSG00000160087</th>\n",
       "      <th>ENSG00000131584</th>\n",
       "      <th>ENSG00000169962</th>\n",
       "      <th>...</th>\n",
       "      <th>ENSG00000196576</th>\n",
       "      <th>ENSG00000128165</th>\n",
       "      <th>ENSG00000100253</th>\n",
       "      <th>ENSG00000130489</th>\n",
       "      <th>ENSG00000025708</th>\n",
       "      <th>ENSG00000205560</th>\n",
       "      <th>ENSG00000100288</th>\n",
       "      <th>ENSG00000008735</th>\n",
       "      <th>ENSG00000100299</th>\n",
       "      <th>ENSG00000251322</th>\n",
       "    </tr>\n",
       "  </thead>\n",
       "  <tbody>\n",
       "    <tr>\n",
       "      <th>ENSG00000188976</th>\n",
       "      <td>1.000000</td>\n",
       "      <td>0.115011</td>\n",
       "      <td>0.173138</td>\n",
       "      <td>0.056096</td>\n",
       "      <td>0.008032</td>\n",
       "      <td>0.008727</td>\n",
       "      <td>0.006797</td>\n",
       "      <td>0.004533</td>\n",
       "      <td>0.007350</td>\n",
       "      <td>0.010391</td>\n",
       "      <td>...</td>\n",
       "      <td>0.000000</td>\n",
       "      <td>0.000000</td>\n",
       "      <td>0.000000</td>\n",
       "      <td>0.000000</td>\n",
       "      <td>0.000000</td>\n",
       "      <td>0.000000</td>\n",
       "      <td>0.000000</td>\n",
       "      <td>0.000000</td>\n",
       "      <td>0.000000</td>\n",
       "      <td>0.000000</td>\n",
       "    </tr>\n",
       "    <tr>\n",
       "      <th>ENSG00000188290</th>\n",
       "      <td>0.115011</td>\n",
       "      <td>1.000000</td>\n",
       "      <td>0.681368</td>\n",
       "      <td>0.360588</td>\n",
       "      <td>0.011545</td>\n",
       "      <td>0.010729</td>\n",
       "      <td>0.003577</td>\n",
       "      <td>0.010230</td>\n",
       "      <td>0.010747</td>\n",
       "      <td>0.008769</td>\n",
       "      <td>...</td>\n",
       "      <td>0.000000</td>\n",
       "      <td>0.000000</td>\n",
       "      <td>0.000000</td>\n",
       "      <td>0.000000</td>\n",
       "      <td>0.000000</td>\n",
       "      <td>0.000000</td>\n",
       "      <td>0.000000</td>\n",
       "      <td>0.000000</td>\n",
       "      <td>0.000000</td>\n",
       "      <td>0.000000</td>\n",
       "    </tr>\n",
       "    <tr>\n",
       "      <th>ENSG00000187608</th>\n",
       "      <td>0.173138</td>\n",
       "      <td>0.681368</td>\n",
       "      <td>1.000000</td>\n",
       "      <td>0.381394</td>\n",
       "      <td>0.011774</td>\n",
       "      <td>0.012527</td>\n",
       "      <td>0.003754</td>\n",
       "      <td>0.012096</td>\n",
       "      <td>0.012679</td>\n",
       "      <td>0.010442</td>\n",
       "      <td>...</td>\n",
       "      <td>0.000000</td>\n",
       "      <td>0.000000</td>\n",
       "      <td>0.000000</td>\n",
       "      <td>0.000000</td>\n",
       "      <td>0.000000</td>\n",
       "      <td>0.000000</td>\n",
       "      <td>0.000000</td>\n",
       "      <td>0.000000</td>\n",
       "      <td>0.000000</td>\n",
       "      <td>0.000000</td>\n",
       "    </tr>\n",
       "    <tr>\n",
       "      <th>ENSG00000188157</th>\n",
       "      <td>0.056096</td>\n",
       "      <td>0.360588</td>\n",
       "      <td>0.381394</td>\n",
       "      <td>1.000000</td>\n",
       "      <td>0.013005</td>\n",
       "      <td>0.015775</td>\n",
       "      <td>0.006184</td>\n",
       "      <td>0.006813</td>\n",
       "      <td>0.010775</td>\n",
       "      <td>0.009189</td>\n",
       "      <td>...</td>\n",
       "      <td>0.000000</td>\n",
       "      <td>0.000000</td>\n",
       "      <td>0.000000</td>\n",
       "      <td>0.000000</td>\n",
       "      <td>0.000000</td>\n",
       "      <td>0.000000</td>\n",
       "      <td>0.000000</td>\n",
       "      <td>0.000000</td>\n",
       "      <td>0.000000</td>\n",
       "      <td>0.000000</td>\n",
       "    </tr>\n",
       "    <tr>\n",
       "      <th>ENSG00000186891</th>\n",
       "      <td>0.008032</td>\n",
       "      <td>0.011545</td>\n",
       "      <td>0.011774</td>\n",
       "      <td>0.013005</td>\n",
       "      <td>1.000000</td>\n",
       "      <td>0.356676</td>\n",
       "      <td>0.454010</td>\n",
       "      <td>0.137643</td>\n",
       "      <td>0.200340</td>\n",
       "      <td>0.093210</td>\n",
       "      <td>...</td>\n",
       "      <td>0.000000</td>\n",
       "      <td>0.000000</td>\n",
       "      <td>0.000000</td>\n",
       "      <td>0.000000</td>\n",
       "      <td>0.000000</td>\n",
       "      <td>0.000000</td>\n",
       "      <td>0.000000</td>\n",
       "      <td>0.000000</td>\n",
       "      <td>0.000000</td>\n",
       "      <td>0.000000</td>\n",
       "    </tr>\n",
       "    <tr>\n",
       "      <th>...</th>\n",
       "      <td>...</td>\n",
       "      <td>...</td>\n",
       "      <td>...</td>\n",
       "      <td>...</td>\n",
       "      <td>...</td>\n",
       "      <td>...</td>\n",
       "      <td>...</td>\n",
       "      <td>...</td>\n",
       "      <td>...</td>\n",
       "      <td>...</td>\n",
       "      <td>...</td>\n",
       "      <td>...</td>\n",
       "      <td>...</td>\n",
       "      <td>...</td>\n",
       "      <td>...</td>\n",
       "      <td>...</td>\n",
       "      <td>...</td>\n",
       "      <td>...</td>\n",
       "      <td>...</td>\n",
       "      <td>...</td>\n",
       "      <td>...</td>\n",
       "    </tr>\n",
       "    <tr>\n",
       "      <th>ENSG00000205560</th>\n",
       "      <td>0.000000</td>\n",
       "      <td>0.000000</td>\n",
       "      <td>0.000000</td>\n",
       "      <td>0.000000</td>\n",
       "      <td>0.000000</td>\n",
       "      <td>0.000000</td>\n",
       "      <td>0.000000</td>\n",
       "      <td>0.000000</td>\n",
       "      <td>0.000000</td>\n",
       "      <td>0.000000</td>\n",
       "      <td>...</td>\n",
       "      <td>0.016479</td>\n",
       "      <td>0.065197</td>\n",
       "      <td>0.008608</td>\n",
       "      <td>0.293494</td>\n",
       "      <td>0.233187</td>\n",
       "      <td>1.000000</td>\n",
       "      <td>0.732548</td>\n",
       "      <td>0.197890</td>\n",
       "      <td>0.036229</td>\n",
       "      <td>0.008387</td>\n",
       "    </tr>\n",
       "    <tr>\n",
       "      <th>ENSG00000100288</th>\n",
       "      <td>0.000000</td>\n",
       "      <td>0.000000</td>\n",
       "      <td>0.000000</td>\n",
       "      <td>0.000000</td>\n",
       "      <td>0.000000</td>\n",
       "      <td>0.000000</td>\n",
       "      <td>0.000000</td>\n",
       "      <td>0.000000</td>\n",
       "      <td>0.000000</td>\n",
       "      <td>0.000000</td>\n",
       "      <td>...</td>\n",
       "      <td>0.022149</td>\n",
       "      <td>0.061143</td>\n",
       "      <td>0.011177</td>\n",
       "      <td>0.240853</td>\n",
       "      <td>0.211789</td>\n",
       "      <td>0.732548</td>\n",
       "      <td>1.000000</td>\n",
       "      <td>0.280542</td>\n",
       "      <td>0.027155</td>\n",
       "      <td>0.020439</td>\n",
       "    </tr>\n",
       "    <tr>\n",
       "      <th>ENSG00000008735</th>\n",
       "      <td>0.000000</td>\n",
       "      <td>0.000000</td>\n",
       "      <td>0.000000</td>\n",
       "      <td>0.000000</td>\n",
       "      <td>0.000000</td>\n",
       "      <td>0.000000</td>\n",
       "      <td>0.000000</td>\n",
       "      <td>0.000000</td>\n",
       "      <td>0.000000</td>\n",
       "      <td>0.000000</td>\n",
       "      <td>...</td>\n",
       "      <td>0.040192</td>\n",
       "      <td>0.097400</td>\n",
       "      <td>0.067715</td>\n",
       "      <td>0.070062</td>\n",
       "      <td>0.132700</td>\n",
       "      <td>0.197890</td>\n",
       "      <td>0.280542</td>\n",
       "      <td>1.000000</td>\n",
       "      <td>0.226706</td>\n",
       "      <td>0.035740</td>\n",
       "    </tr>\n",
       "    <tr>\n",
       "      <th>ENSG00000100299</th>\n",
       "      <td>0.000000</td>\n",
       "      <td>0.000000</td>\n",
       "      <td>0.000000</td>\n",
       "      <td>0.000000</td>\n",
       "      <td>0.000000</td>\n",
       "      <td>0.000000</td>\n",
       "      <td>0.000000</td>\n",
       "      <td>0.000000</td>\n",
       "      <td>0.000000</td>\n",
       "      <td>0.000000</td>\n",
       "      <td>...</td>\n",
       "      <td>0.013862</td>\n",
       "      <td>0.028588</td>\n",
       "      <td>0.013744</td>\n",
       "      <td>0.037442</td>\n",
       "      <td>0.041831</td>\n",
       "      <td>0.036229</td>\n",
       "      <td>0.027155</td>\n",
       "      <td>0.226706</td>\n",
       "      <td>1.000000</td>\n",
       "      <td>0.032019</td>\n",
       "    </tr>\n",
       "    <tr>\n",
       "      <th>ENSG00000251322</th>\n",
       "      <td>0.000000</td>\n",
       "      <td>0.000000</td>\n",
       "      <td>0.000000</td>\n",
       "      <td>0.000000</td>\n",
       "      <td>0.000000</td>\n",
       "      <td>0.000000</td>\n",
       "      <td>0.000000</td>\n",
       "      <td>0.000000</td>\n",
       "      <td>0.000000</td>\n",
       "      <td>0.000000</td>\n",
       "      <td>...</td>\n",
       "      <td>0.013269</td>\n",
       "      <td>0.017828</td>\n",
       "      <td>0.013507</td>\n",
       "      <td>0.000661</td>\n",
       "      <td>0.005277</td>\n",
       "      <td>0.008387</td>\n",
       "      <td>0.020439</td>\n",
       "      <td>0.035740</td>\n",
       "      <td>0.032019</td>\n",
       "      <td>1.000000</td>\n",
       "    </tr>\n",
       "  </tbody>\n",
       "</table>\n",
       "<p>6442 rows × 6442 columns</p>\n",
       "</div>"
      ],
      "text/plain": [
       "                 ENSG00000188976  ENSG00000188290  ENSG00000187608  \\\n",
       "ENSG00000188976         1.000000         0.115011         0.173138   \n",
       "ENSG00000188290         0.115011         1.000000         0.681368   \n",
       "ENSG00000187608         0.173138         0.681368         1.000000   \n",
       "ENSG00000188157         0.056096         0.360588         0.381394   \n",
       "ENSG00000186891         0.008032         0.011545         0.011774   \n",
       "...                          ...              ...              ...   \n",
       "ENSG00000205560         0.000000         0.000000         0.000000   \n",
       "ENSG00000100288         0.000000         0.000000         0.000000   \n",
       "ENSG00000008735         0.000000         0.000000         0.000000   \n",
       "ENSG00000100299         0.000000         0.000000         0.000000   \n",
       "ENSG00000251322         0.000000         0.000000         0.000000   \n",
       "\n",
       "                 ENSG00000188157  ENSG00000186891  ENSG00000186827  \\\n",
       "ENSG00000188976         0.056096         0.008032         0.008727   \n",
       "ENSG00000188290         0.360588         0.011545         0.010729   \n",
       "ENSG00000187608         0.381394         0.011774         0.012527   \n",
       "ENSG00000188157         1.000000         0.013005         0.015775   \n",
       "ENSG00000186891         0.013005         1.000000         0.356676   \n",
       "...                          ...              ...              ...   \n",
       "ENSG00000205560         0.000000         0.000000         0.000000   \n",
       "ENSG00000100288         0.000000         0.000000         0.000000   \n",
       "ENSG00000008735         0.000000         0.000000         0.000000   \n",
       "ENSG00000100299         0.000000         0.000000         0.000000   \n",
       "ENSG00000251322         0.000000         0.000000         0.000000   \n",
       "\n",
       "                 ENSG00000176022  ENSG00000160087  ENSG00000131584  \\\n",
       "ENSG00000188976         0.006797         0.004533         0.007350   \n",
       "ENSG00000188290         0.003577         0.010230         0.010747   \n",
       "ENSG00000187608         0.003754         0.012096         0.012679   \n",
       "ENSG00000188157         0.006184         0.006813         0.010775   \n",
       "ENSG00000186891         0.454010         0.137643         0.200340   \n",
       "...                          ...              ...              ...   \n",
       "ENSG00000205560         0.000000         0.000000         0.000000   \n",
       "ENSG00000100288         0.000000         0.000000         0.000000   \n",
       "ENSG00000008735         0.000000         0.000000         0.000000   \n",
       "ENSG00000100299         0.000000         0.000000         0.000000   \n",
       "ENSG00000251322         0.000000         0.000000         0.000000   \n",
       "\n",
       "                 ENSG00000169962  ...  ENSG00000196576  ENSG00000128165  \\\n",
       "ENSG00000188976         0.010391  ...         0.000000         0.000000   \n",
       "ENSG00000188290         0.008769  ...         0.000000         0.000000   \n",
       "ENSG00000187608         0.010442  ...         0.000000         0.000000   \n",
       "ENSG00000188157         0.009189  ...         0.000000         0.000000   \n",
       "ENSG00000186891         0.093210  ...         0.000000         0.000000   \n",
       "...                          ...  ...              ...              ...   \n",
       "ENSG00000205560         0.000000  ...         0.016479         0.065197   \n",
       "ENSG00000100288         0.000000  ...         0.022149         0.061143   \n",
       "ENSG00000008735         0.000000  ...         0.040192         0.097400   \n",
       "ENSG00000100299         0.000000  ...         0.013862         0.028588   \n",
       "ENSG00000251322         0.000000  ...         0.013269         0.017828   \n",
       "\n",
       "                 ENSG00000100253  ENSG00000130489  ENSG00000025708  \\\n",
       "ENSG00000188976         0.000000         0.000000         0.000000   \n",
       "ENSG00000188290         0.000000         0.000000         0.000000   \n",
       "ENSG00000187608         0.000000         0.000000         0.000000   \n",
       "ENSG00000188157         0.000000         0.000000         0.000000   \n",
       "ENSG00000186891         0.000000         0.000000         0.000000   \n",
       "...                          ...              ...              ...   \n",
       "ENSG00000205560         0.008608         0.293494         0.233187   \n",
       "ENSG00000100288         0.011177         0.240853         0.211789   \n",
       "ENSG00000008735         0.067715         0.070062         0.132700   \n",
       "ENSG00000100299         0.013744         0.037442         0.041831   \n",
       "ENSG00000251322         0.013507         0.000661         0.005277   \n",
       "\n",
       "                 ENSG00000205560  ENSG00000100288  ENSG00000008735  \\\n",
       "ENSG00000188976         0.000000         0.000000         0.000000   \n",
       "ENSG00000188290         0.000000         0.000000         0.000000   \n",
       "ENSG00000187608         0.000000         0.000000         0.000000   \n",
       "ENSG00000188157         0.000000         0.000000         0.000000   \n",
       "ENSG00000186891         0.000000         0.000000         0.000000   \n",
       "...                          ...              ...              ...   \n",
       "ENSG00000205560         1.000000         0.732548         0.197890   \n",
       "ENSG00000100288         0.732548         1.000000         0.280542   \n",
       "ENSG00000008735         0.197890         0.280542         1.000000   \n",
       "ENSG00000100299         0.036229         0.027155         0.226706   \n",
       "ENSG00000251322         0.008387         0.020439         0.035740   \n",
       "\n",
       "                 ENSG00000100299  ENSG00000251322  \n",
       "ENSG00000188976         0.000000         0.000000  \n",
       "ENSG00000188290         0.000000         0.000000  \n",
       "ENSG00000187608         0.000000         0.000000  \n",
       "ENSG00000188157         0.000000         0.000000  \n",
       "ENSG00000186891         0.000000         0.000000  \n",
       "...                          ...              ...  \n",
       "ENSG00000205560         0.036229         0.008387  \n",
       "ENSG00000100288         0.027155         0.020439  \n",
       "ENSG00000008735         0.226706         0.035740  \n",
       "ENSG00000100299         1.000000         0.032019  \n",
       "ENSG00000251322         0.032019         1.000000  \n",
       "\n",
       "[6442 rows x 6442 columns]"
      ]
     },
     "metadata": {},
     "output_type": "display_data"
    }
   ],
   "source": [
    "if CHOL_DECOMPOSITION_FAILED:\n",
    "    corr_mat_r = full_corr_matrix.to_numpy()\n",
    "\n",
    "    %Rpush corr_mat_r\n",
    "    %R -o corr_mat_r_fixed corr_mat_r_fixed <- CorrectCM(corr_mat_r, 1e-5)\n",
    "\n",
    "    display(corr_mat_r_fixed.shape)\n",
    "\n",
    "    full_corr_matrix_fixed = pd.DataFrame(\n",
    "        corr_mat_r_fixed,\n",
    "        index=full_corr_matrix.index.copy(),\n",
    "        columns=full_corr_matrix.columns.copy(),\n",
    "    )\n",
    "    display(full_corr_matrix_fixed.shape)\n",
    "    display(full_corr_matrix_fixed)\n",
    "else:\n",
    "    print(\"No adjustment was necessary\")"
   ]
  },
  {
   "cell_type": "markdown",
   "id": "024b04c6-e0bf-4a88-98af-5ca7a96a8753",
   "metadata": {
    "papermill": {
     "duration": 0.013254,
     "end_time": "2022-07-22T15:14:32.607267",
     "exception": false,
     "start_time": "2022-07-22T15:14:32.594013",
     "status": "completed"
    },
    "tags": []
   },
   "source": [
    "## Make sure the new matrix is positive definite"
   ]
  },
  {
   "cell_type": "code",
   "execution_count": 46,
   "id": "6908be87-1086-45bd-b8f0-4cf923755683",
   "metadata": {
    "execution": {
     "iopub.execute_input": "2022-07-22T15:14:32.633598Z",
     "iopub.status.busy": "2022-07-22T15:14:32.633154Z",
     "iopub.status.idle": "2022-07-22T15:15:31.699255Z",
     "shell.execute_reply": "2022-07-22T15:15:31.698540Z"
    },
    "papermill": {
     "duration": 59.080718,
     "end_time": "2022-07-22T15:15:31.700858",
     "exception": false,
     "start_time": "2022-07-22T15:14:32.620140",
     "status": "completed"
    },
    "tags": []
   },
   "outputs": [
    {
     "data": {
      "text/plain": [
       "0"
      ]
     },
     "metadata": {},
     "output_type": "display_data"
    },
    {
     "data": {
      "text/plain": [
       "array([], dtype=float64)"
      ]
     },
     "metadata": {},
     "output_type": "display_data"
    }
   ],
   "source": [
    "if CHOL_DECOMPOSITION_FAILED:\n",
    "    # print negative eigenvalues\n",
    "    eigs = np.linalg.eigvals(full_corr_matrix_fixed.to_numpy())\n",
    "    display(len(eigs[eigs < 0]))\n",
    "    display(eigs[eigs < 0])\n",
    "    \n",
    "    chol_mat = np.linalg.cholesky(full_corr_matrix_fixed.to_numpy())\n",
    "    cov_inv = np.linalg.inv(chol_mat)\n",
    "\n",
    "    assert not np.isnan(chol_mat).any()\n",
    "    assert not np.isinf(chol_mat).any()\n",
    "    assert not np.iscomplex(chol_mat).any()\n",
    "\n",
    "    assert not np.isnan(cov_inv).any()\n",
    "    assert not np.isinf(cov_inv).any()\n",
    "    assert not np.iscomplex(cov_inv).any()\n",
    "else:\n",
    "    print(\"No adjustment was necessary\")"
   ]
  },
  {
   "cell_type": "markdown",
   "id": "ce84a6b4-9590-4b99-9fd6-83724f6d8f29",
   "metadata": {
    "papermill": {
     "duration": 0.013862,
     "end_time": "2022-07-22T15:15:31.729610",
     "exception": false,
     "start_time": "2022-07-22T15:15:31.715748",
     "status": "completed"
    },
    "tags": []
   },
   "source": [
    "## Compare adjusted and original correlation matrix"
   ]
  },
  {
   "cell_type": "code",
   "execution_count": 47,
   "id": "79e6972e-1832-4fd2-8e34-b4732f42a495",
   "metadata": {
    "execution": {
     "iopub.execute_input": "2022-07-22T15:15:31.760903Z",
     "iopub.status.busy": "2022-07-22T15:15:31.760205Z",
     "iopub.status.idle": "2022-07-22T15:15:32.398335Z",
     "shell.execute_reply": "2022-07-22T15:15:32.397717Z"
    },
    "papermill": {
     "duration": 0.655723,
     "end_time": "2022-07-22T15:15:32.399670",
     "exception": false,
     "start_time": "2022-07-22T15:15:31.743947",
     "status": "completed"
    },
    "tags": []
   },
   "outputs": [
    {
     "data": {
      "text/plain": [
       "2.694603582174779e-09"
      ]
     },
     "metadata": {},
     "output_type": "display_data"
    }
   ],
   "source": [
    "if CHOL_DECOMPOSITION_FAILED:\n",
    "    # print the element-wise difference between the original and the adjusted matrix\n",
    "    _diff = ((full_corr_matrix - full_corr_matrix_fixed) ** 2).unstack().sum()\n",
    "    display(_diff)\n",
    "    assert _diff < 1e-5\n",
    "else:\n",
    "    print(\"No adjustment was necessary\")"
   ]
  },
  {
   "cell_type": "markdown",
   "id": "bd9fd435-7a5c-4c52-b00e-32167287cc01",
   "metadata": {
    "papermill": {
     "duration": 0.01266,
     "end_time": "2022-07-22T15:15:32.425648",
     "exception": false,
     "start_time": "2022-07-22T15:15:32.412988",
     "status": "completed"
    },
    "tags": []
   },
   "source": [
    "## Replace original matrix with adjusted one"
   ]
  },
  {
   "cell_type": "code",
   "execution_count": 48,
   "id": "fc8a4108-e93b-478f-b09f-4d64635fe4d5",
   "metadata": {
    "execution": {
     "iopub.execute_input": "2022-07-22T15:15:32.451671Z",
     "iopub.status.busy": "2022-07-22T15:15:32.451396Z",
     "iopub.status.idle": "2022-07-22T15:15:32.466454Z",
     "shell.execute_reply": "2022-07-22T15:15:32.465985Z"
    },
    "papermill": {
     "duration": 0.029431,
     "end_time": "2022-07-22T15:15:32.467741",
     "exception": false,
     "start_time": "2022-07-22T15:15:32.438310",
     "status": "completed"
    },
    "tags": []
   },
   "outputs": [],
   "source": [
    "if CHOL_DECOMPOSITION_FAILED:\n",
    "    full_corr_matrix = full_corr_matrix_fixed\n",
    "else:\n",
    "    print(\"No adjustment was necessary\")"
   ]
  },
  {
   "cell_type": "markdown",
   "id": "551bd31a-ad37-45b5-a0c8-6ff1459faf60",
   "metadata": {
    "papermill": {
     "duration": 0.012395,
     "end_time": "2022-07-22T15:15:32.492844",
     "exception": false,
     "start_time": "2022-07-22T15:15:32.480449",
     "status": "completed"
    },
    "tags": []
   },
   "source": [
    "# Stats"
   ]
  },
  {
   "cell_type": "code",
   "execution_count": 49,
   "id": "33b5482f-7ecf-4365-867f-249f28d09180",
   "metadata": {
    "execution": {
     "iopub.execute_input": "2022-07-22T15:15:32.519237Z",
     "iopub.status.busy": "2022-07-22T15:15:32.518490Z",
     "iopub.status.idle": "2022-07-22T15:15:33.366595Z",
     "shell.execute_reply": "2022-07-22T15:15:33.366029Z"
    },
    "papermill": {
     "duration": 0.862764,
     "end_time": "2022-07-22T15:15:33.368062",
     "exception": false,
     "start_time": "2022-07-22T15:15:32.505298",
     "status": "completed"
    },
    "tags": []
   },
   "outputs": [],
   "source": [
    "full_corr_matrix_flat = full_corr_matrix.mask(\n",
    "    np.triu(np.ones(full_corr_matrix.shape)).astype(bool)\n",
    ").stack()"
   ]
  },
  {
   "cell_type": "code",
   "execution_count": 50,
   "id": "e2d950d1-646a-4ba1-bb91-cf07ad00872d",
   "metadata": {
    "execution": {
     "iopub.execute_input": "2022-07-22T15:15:33.396177Z",
     "iopub.status.busy": "2022-07-22T15:15:33.396020Z",
     "iopub.status.idle": "2022-07-22T15:15:33.412104Z",
     "shell.execute_reply": "2022-07-22T15:15:33.411593Z"
    },
    "papermill": {
     "duration": 0.031119,
     "end_time": "2022-07-22T15:15:33.413351",
     "exception": false,
     "start_time": "2022-07-22T15:15:33.382232",
     "status": "completed"
    },
    "tags": []
   },
   "outputs": [
    {
     "data": {
      "text/plain": [
       "(20746461,)"
      ]
     },
     "metadata": {},
     "output_type": "display_data"
    }
   ],
   "source": [
    "display(full_corr_matrix_flat.shape)\n",
    "assert full_corr_matrix_flat.shape[0] == int(\n",
    "    full_corr_matrix.shape[0] * (full_corr_matrix.shape[0] - 1) / 2\n",
    ")"
   ]
  },
  {
   "cell_type": "markdown",
   "id": "5fd7d482-b7b8-4a84-91b0-749d15f0d2c0",
   "metadata": {
    "papermill": {
     "duration": 0.012676,
     "end_time": "2022-07-22T15:15:33.439515",
     "exception": false,
     "start_time": "2022-07-22T15:15:33.426839",
     "status": "completed"
    },
    "tags": []
   },
   "source": [
    "## On all correlations"
   ]
  },
  {
   "cell_type": "code",
   "execution_count": 51,
   "id": "e58ea199-0cc1-449d-a55e-26970fb674a8",
   "metadata": {
    "execution": {
     "iopub.execute_input": "2022-07-22T15:15:33.465810Z",
     "iopub.status.busy": "2022-07-22T15:15:33.465565Z",
     "iopub.status.idle": "2022-07-22T15:15:33.480573Z",
     "shell.execute_reply": "2022-07-22T15:15:33.480095Z"
    },
    "papermill": {
     "duration": 0.029655,
     "end_time": "2022-07-22T15:15:33.481812",
     "exception": false,
     "start_time": "2022-07-22T15:15:33.452157",
     "status": "completed"
    },
    "tags": []
   },
   "outputs": [],
   "source": [
    "_corr_mat = full_corr_matrix_flat"
   ]
  },
  {
   "cell_type": "code",
   "execution_count": 52,
   "id": "c4e71773-0b74-435f-a9d9-cc8671d7c570",
   "metadata": {
    "execution": {
     "iopub.execute_input": "2022-07-22T15:15:33.509713Z",
     "iopub.status.busy": "2022-07-22T15:15:33.509553Z",
     "iopub.status.idle": "2022-07-22T15:15:33.525919Z",
     "shell.execute_reply": "2022-07-22T15:15:33.525252Z"
    },
    "papermill": {
     "duration": 0.031558,
     "end_time": "2022-07-22T15:15:33.527244",
     "exception": false,
     "start_time": "2022-07-22T15:15:33.495686",
     "status": "completed"
    },
    "tags": []
   },
   "outputs": [
    {
     "data": {
      "text/plain": [
       "(20746461,)"
      ]
     },
     "execution_count": 52,
     "metadata": {},
     "output_type": "execute_result"
    }
   ],
   "source": [
    "_corr_mat.shape"
   ]
  },
  {
   "cell_type": "code",
   "execution_count": 53,
   "id": "9907fbe4-85e1-4690-ae0c-3c6f5a19e9b7",
   "metadata": {
    "execution": {
     "iopub.execute_input": "2022-07-22T15:15:33.555127Z",
     "iopub.status.busy": "2022-07-22T15:15:33.554911Z",
     "iopub.status.idle": "2022-07-22T15:15:33.572064Z",
     "shell.execute_reply": "2022-07-22T15:15:33.571591Z"
    },
    "papermill": {
     "duration": 0.032332,
     "end_time": "2022-07-22T15:15:33.573362",
     "exception": false,
     "start_time": "2022-07-22T15:15:33.541030",
     "status": "completed"
    },
    "tags": []
   },
   "outputs": [
    {
     "data": {
      "text/plain": [
       "ENSG00000188290  ENSG00000188976    0.115011\n",
       "ENSG00000187608  ENSG00000188976    0.173138\n",
       "                 ENSG00000188290    0.681368\n",
       "ENSG00000188157  ENSG00000188976    0.056096\n",
       "                 ENSG00000188290    0.360588\n",
       "dtype: float64"
      ]
     },
     "execution_count": 53,
     "metadata": {},
     "output_type": "execute_result"
    }
   ],
   "source": [
    "_corr_mat.head()"
   ]
  },
  {
   "cell_type": "code",
   "execution_count": 54,
   "id": "cb34e9c9-7488-47f2-aa31-c8a8e83f92ae",
   "metadata": {
    "execution": {
     "iopub.execute_input": "2022-07-22T15:15:33.600846Z",
     "iopub.status.busy": "2022-07-22T15:15:33.600407Z",
     "iopub.status.idle": "2022-07-22T15:15:34.239791Z",
     "shell.execute_reply": "2022-07-22T15:15:34.239105Z"
    },
    "papermill": {
     "duration": 0.654286,
     "end_time": "2022-07-22T15:15:34.241144",
     "exception": false,
     "start_time": "2022-07-22T15:15:33.586858",
     "status": "completed"
    },
    "tags": []
   },
   "outputs": [
    {
     "data": {
      "text/plain": [
       "count                 20746461.0\n",
       "mean      0.00017742309482206024\n",
       "std         0.006908583329225235\n",
       "min      -1.4965211442402468e-09\n",
       "25%                          0.0\n",
       "50%                          0.0\n",
       "75%                          0.0\n",
       "max           0.9999900000499998\n",
       "dtype: object"
      ]
     },
     "execution_count": 54,
     "metadata": {},
     "output_type": "execute_result"
    }
   ],
   "source": [
    "_corr_mat.describe().apply(str)"
   ]
  },
  {
   "cell_type": "code",
   "execution_count": 55,
   "id": "ccb2fbfa-e381-40a0-a269-e280c12c6039",
   "metadata": {
    "execution": {
     "iopub.execute_input": "2022-07-22T15:15:34.268605Z",
     "iopub.status.busy": "2022-07-22T15:15:34.268447Z",
     "iopub.status.idle": "2022-07-22T15:15:34.578864Z",
     "shell.execute_reply": "2022-07-22T15:15:34.578306Z"
    },
    "papermill": {
     "duration": 0.32541,
     "end_time": "2022-07-22T15:15:34.580171",
     "exception": false,
     "start_time": "2022-07-22T15:15:34.254761",
     "status": "completed"
    },
    "tags": []
   },
   "outputs": [
    {
     "data": {
      "text/plain": [
       "0.00   -1.496521e-09\n",
       "0.05    0.000000e+00\n",
       "0.10    0.000000e+00\n",
       "0.15    0.000000e+00\n",
       "0.20    0.000000e+00\n",
       "0.25    0.000000e+00\n",
       "0.30    0.000000e+00\n",
       "0.35    0.000000e+00\n",
       "0.40    0.000000e+00\n",
       "0.45    0.000000e+00\n",
       "0.50    0.000000e+00\n",
       "0.55    0.000000e+00\n",
       "0.60    0.000000e+00\n",
       "0.65    0.000000e+00\n",
       "0.70    0.000000e+00\n",
       "0.75    0.000000e+00\n",
       "0.80    0.000000e+00\n",
       "0.85    0.000000e+00\n",
       "0.90    0.000000e+00\n",
       "0.95    0.000000e+00\n",
       "dtype: float64"
      ]
     },
     "metadata": {},
     "output_type": "display_data"
    }
   ],
   "source": [
    "display(_corr_mat.quantile(np.arange(0, 1, 0.05)))"
   ]
  },
  {
   "cell_type": "code",
   "execution_count": 56,
   "id": "940dcbd0-3a39-4e0b-9b7c-cd3f905ea8fb",
   "metadata": {
    "execution": {
     "iopub.execute_input": "2022-07-22T15:15:34.608341Z",
     "iopub.status.busy": "2022-07-22T15:15:34.607778Z",
     "iopub.status.idle": "2022-07-22T15:15:34.837196Z",
     "shell.execute_reply": "2022-07-22T15:15:34.836615Z"
    },
    "papermill": {
     "duration": 0.24458,
     "end_time": "2022-07-22T15:15:34.838420",
     "exception": false,
     "start_time": "2022-07-22T15:15:34.593840",
     "status": "completed"
    },
    "tags": []
   },
   "outputs": [
    {
     "data": {
      "text/plain": [
       "0.0000   -1.496521e-09\n",
       "0.0001   -9.021070e-15\n",
       "0.0002   -5.363491e-15\n",
       "0.0003   -3.910275e-15\n",
       "0.0004   -3.074247e-15\n",
       "0.0005   -2.515391e-15\n",
       "0.0006   -2.130701e-15\n",
       "0.0007   -1.849864e-15\n",
       "0.0008   -1.619134e-15\n",
       "0.0009   -1.436931e-15\n",
       "dtype: float64"
      ]
     },
     "metadata": {},
     "output_type": "display_data"
    }
   ],
   "source": [
    "display(_corr_mat.quantile(\n",
    "    np.arange(0, 0.001, 0.0001)\n",
    "))"
   ]
  },
  {
   "cell_type": "code",
   "execution_count": 57,
   "id": "9c76b62b-be13-4037-a95b-a8c2104055a3",
   "metadata": {
    "execution": {
     "iopub.execute_input": "2022-07-22T15:15:34.866199Z",
     "iopub.status.busy": "2022-07-22T15:15:34.866042Z",
     "iopub.status.idle": "2022-07-22T15:15:34.992992Z",
     "shell.execute_reply": "2022-07-22T15:15:34.992461Z"
    },
    "papermill": {
     "duration": 0.142061,
     "end_time": "2022-07-22T15:15:34.994284",
     "exception": false,
     "start_time": "2022-07-22T15:15:34.852223",
     "status": "completed"
    },
    "tags": []
   },
   "outputs": [
    {
     "data": {
      "text/plain": [
       "0.9990    0.018405\n",
       "0.9991    0.020078\n",
       "0.9992    0.022787\n",
       "0.9993    0.027503\n",
       "0.9994    0.036216\n",
       "0.9995    0.051144\n",
       "0.9996    0.078883\n",
       "0.9997    0.133181\n",
       "0.9998    0.234881\n",
       "0.9999    0.392450\n",
       "1.0000    0.999990\n",
       "dtype: float64"
      ]
     },
     "metadata": {},
     "output_type": "display_data"
    }
   ],
   "source": [
    "display(_corr_mat.quantile(\n",
    "    np.arange(0.999, 1.0, 0.0001)\n",
    "))"
   ]
  },
  {
   "cell_type": "markdown",
   "id": "0ed3b3a6-f1ea-4f39-9363-f33b835413d2",
   "metadata": {
    "papermill": {
     "duration": 0.013202,
     "end_time": "2022-07-22T15:15:35.021229",
     "exception": false,
     "start_time": "2022-07-22T15:15:35.008027",
     "status": "completed"
    },
    "tags": []
   },
   "source": [
    "### Plot: distribution"
   ]
  },
  {
   "cell_type": "code",
   "execution_count": 58,
   "id": "8301126b-a7d4-4744-9c7d-f0f86eb6f54c",
   "metadata": {
    "execution": {
     "iopub.execute_input": "2022-07-22T15:15:35.048598Z",
     "iopub.status.busy": "2022-07-22T15:15:35.048389Z",
     "iopub.status.idle": "2022-07-22T15:16:37.029000Z",
     "shell.execute_reply": "2022-07-22T15:16:37.028453Z"
    },
    "papermill": {
     "duration": 62.012496,
     "end_time": "2022-07-22T15:16:37.047138",
     "exception": false,
     "start_time": "2022-07-22T15:15:35.034642",
     "status": "completed"
    },
    "tags": []
   },
   "outputs": [
    {
     "data": {
      "image/png": "[encoded data removed]",
      "text/plain": [
       "<Figure size 504x504 with 1 Axes>"
      ]
     },
     "metadata": {
      "needs_background": "light"
     },
     "output_type": "display_data"
    }
   ],
   "source": [
    "with sns.plotting_context(\"paper\", font_scale=1.5):\n",
    "    g = sns.displot(_corr_mat, kde=True, height=7)\n",
    "    g.ax.set_title(\"Distribution of gene correlation values in all chromosomes\")"
   ]
  },
  {
   "cell_type": "markdown",
   "id": "e209767d-44b8-48a4-ad28-478703a3b5bd",
   "metadata": {
    "papermill": {
     "duration": 0.014824,
     "end_time": "2022-07-22T15:16:37.078797",
     "exception": false,
     "start_time": "2022-07-22T15:16:37.063973",
     "status": "completed"
    },
    "tags": []
   },
   "source": [
    "### Plot: heatmap"
   ]
  },
  {
   "cell_type": "code",
   "execution_count": 59,
   "id": "d03fe63a-c7b2-4fb9-a53c-db362ce843c9",
   "metadata": {
    "execution": {
     "iopub.execute_input": "2022-07-22T15:16:37.107531Z",
     "iopub.status.busy": "2022-07-22T15:16:37.106738Z",
     "iopub.status.idle": "2022-07-22T15:16:37.234701Z",
     "shell.execute_reply": "2022-07-22T15:16:37.234224Z"
    },
    "papermill": {
     "duration": 0.143673,
     "end_time": "2022-07-22T15:16:37.236026",
     "exception": false,
     "start_time": "2022-07-22T15:16:37.092353",
     "status": "completed"
    },
    "tags": []
   },
   "outputs": [
    {
     "data": {
      "text/plain": [
       "'0.0 / 0.05'"
      ]
     },
     "metadata": {},
     "output_type": "display_data"
    }
   ],
   "source": [
    "vmin_val = 0.0\n",
    "vmax_val = max(0.05, _corr_mat.quantile(0.99))\n",
    "display(f\"{vmin_val} / {vmax_val}\")"
   ]
  },
  {
   "cell_type": "code",
   "execution_count": 60,
   "id": "dc41b70b-5bcc-4d9e-9f33-a22c4a94dab5",
   "metadata": {
    "execution": {
     "iopub.execute_input": "2022-07-22T15:16:37.265394Z",
     "iopub.status.busy": "2022-07-22T15:16:37.265231Z",
     "iopub.status.idle": "2022-07-22T15:17:03.262737Z",
     "shell.execute_reply": "2022-07-22T15:17:03.262216Z"
    },
    "papermill": {
     "duration": 26.01359,
     "end_time": "2022-07-22T15:17:03.264171",
     "exception": false,
     "start_time": "2022-07-22T15:16:37.250581",
     "status": "completed"
    },
    "tags": []
   },
   "outputs": [
    {
     "data": {
      "text/plain": [
       "Text(0.5, 1.0, 'Gene correlations in all chromosomes')"
      ]
     },
     "execution_count": 60,
     "metadata": {},
     "output_type": "execute_result"
    },
    {
     "data": {
      "image/png": "[encoded data removed]",
      "text/plain": [
       "<Figure size 720x720 with 2 Axes>"
      ]
     },
     "metadata": {
      "needs_background": "light"
     },
     "output_type": "display_data"
    }
   ],
   "source": [
    "f, ax = plt.subplots(figsize=(10, 10))\n",
    "sns.heatmap(\n",
    "    full_corr_matrix,\n",
    "    xticklabels=False,\n",
    "    yticklabels=False,\n",
    "    square=True,\n",
    "    vmin=vmin_val,\n",
    "    vmax=vmax_val,\n",
    "    cmap=\"rocket_r\",\n",
    "    ax=ax,\n",
    ")\n",
    "ax.set_title(\"Gene correlations in all chromosomes\")"
   ]
  },
  {
   "cell_type": "markdown",
   "id": "5a1b7488-1c3b-4c8b-b619-3b063b3f83c6",
   "metadata": {
    "papermill": {
     "duration": 0.013687,
     "end_time": "2022-07-22T15:17:03.291822",
     "exception": false,
     "start_time": "2022-07-22T15:17:03.278135",
     "status": "completed"
    },
    "tags": []
   },
   "source": [
    "## On nonzero correlations"
   ]
  },
  {
   "cell_type": "code",
   "execution_count": 61,
   "id": "0a07752e-b62f-4f01-af30-847efe9bba54",
   "metadata": {
    "execution": {
     "iopub.execute_input": "2022-07-22T15:17:03.320743Z",
     "iopub.status.busy": "2022-07-22T15:17:03.320524Z",
     "iopub.status.idle": "2022-07-22T15:17:03.372992Z",
     "shell.execute_reply": "2022-07-22T15:17:03.372376Z"
    },
    "papermill": {
     "duration": 0.068604,
     "end_time": "2022-07-22T15:17:03.374381",
     "exception": false,
     "start_time": "2022-07-22T15:17:03.305777",
     "status": "completed"
    },
    "tags": []
   },
   "outputs": [],
   "source": [
    "nonzero_corrs = full_corr_matrix_flat[full_corr_matrix_flat > 0.0]"
   ]
  },
  {
   "cell_type": "code",
   "execution_count": 62,
   "id": "3b509dde-e4ec-4e14-a7d5-09e3fe584027",
   "metadata": {
    "execution": {
     "iopub.execute_input": "2022-07-22T15:17:03.404320Z",
     "iopub.status.busy": "2022-07-22T15:17:03.404156Z",
     "iopub.status.idle": "2022-07-22T15:17:03.418986Z",
     "shell.execute_reply": "2022-07-22T15:17:03.418392Z"
    },
    "papermill": {
     "duration": 0.031252,
     "end_time": "2022-07-22T15:17:03.420297",
     "exception": false,
     "start_time": "2022-07-22T15:17:03.389045",
     "status": "completed"
    },
    "tags": []
   },
   "outputs": [],
   "source": [
    "_corr_mat = nonzero_corrs"
   ]
  },
  {
   "cell_type": "code",
   "execution_count": 63,
   "id": "427cd6b6-411c-4bce-9129-f7e128c9992f",
   "metadata": {
    "execution": {
     "iopub.execute_input": "2022-07-22T15:17:03.449345Z",
     "iopub.status.busy": "2022-07-22T15:17:03.449137Z",
     "iopub.status.idle": "2022-07-22T15:17:03.464358Z",
     "shell.execute_reply": "2022-07-22T15:17:03.463842Z"
    },
    "papermill": {
     "duration": 0.030861,
     "end_time": "2022-07-22T15:17:03.465656",
     "exception": false,
     "start_time": "2022-07-22T15:17:03.434795",
     "status": "completed"
    },
    "tags": []
   },
   "outputs": [
    {
     "data": {
      "text/plain": [
       "(348258,)"
      ]
     },
     "execution_count": 63,
     "metadata": {},
     "output_type": "execute_result"
    }
   ],
   "source": [
    "_corr_mat.shape"
   ]
  },
  {
   "cell_type": "code",
   "execution_count": 64,
   "id": "684ee3aa-d1bf-4f39-883e-1c9cda28f332",
   "metadata": {
    "execution": {
     "iopub.execute_input": "2022-07-22T15:17:03.496238Z",
     "iopub.status.busy": "2022-07-22T15:17:03.496004Z",
     "iopub.status.idle": "2022-07-22T15:17:03.513000Z",
     "shell.execute_reply": "2022-07-22T15:17:03.512507Z"
    },
    "papermill": {
     "duration": 0.03368,
     "end_time": "2022-07-22T15:17:03.514243",
     "exception": false,
     "start_time": "2022-07-22T15:17:03.480563",
     "status": "completed"
    },
    "tags": []
   },
   "outputs": [
    {
     "data": {
      "text/plain": [
       "ENSG00000188290  ENSG00000188976    0.115011\n",
       "ENSG00000187608  ENSG00000188976    0.173138\n",
       "                 ENSG00000188290    0.681368\n",
       "ENSG00000188157  ENSG00000188976    0.056096\n",
       "                 ENSG00000188290    0.360588\n",
       "dtype: float64"
      ]
     },
     "execution_count": 64,
     "metadata": {},
     "output_type": "execute_result"
    }
   ],
   "source": [
    "_corr_mat.head()"
   ]
  },
  {
   "cell_type": "code",
   "execution_count": 65,
   "id": "87467e53-a225-48f9-86ef-d00978925faa",
   "metadata": {
    "execution": {
     "iopub.execute_input": "2022-07-22T15:17:03.544716Z",
     "iopub.status.busy": "2022-07-22T15:17:03.543883Z",
     "iopub.status.idle": "2022-07-22T15:17:03.572991Z",
     "shell.execute_reply": "2022-07-22T15:17:03.572454Z"
    },
    "papermill": {
     "duration": 0.045073,
     "end_time": "2022-07-22T15:17:03.574236",
     "exception": false,
     "start_time": "2022-07-22T15:17:03.529163",
     "status": "completed"
    },
    "tags": []
   },
   "outputs": [
    {
     "data": {
      "text/plain": [
       "count                 348258.0\n",
       "mean      0.010569466651836038\n",
       "std       0.052282480983723026\n",
       "min      3.101688951468084e-23\n",
       "25%      6.951950370542032e-17\n",
       "50%      4.882008175685758e-16\n",
       "75%       0.006643861164495994\n",
       "max         0.9999900000499998\n",
       "dtype: object"
      ]
     },
     "execution_count": 65,
     "metadata": {},
     "output_type": "execute_result"
    }
   ],
   "source": [
    "_corr_mat.describe().apply(str)"
   ]
  },
  {
   "cell_type": "code",
   "execution_count": 66,
   "id": "ece1b4b2-1764-4893-bb0e-837f5d1a6677",
   "metadata": {
    "execution": {
     "iopub.execute_input": "2022-07-22T15:17:03.605528Z",
     "iopub.status.busy": "2022-07-22T15:17:03.604747Z",
     "iopub.status.idle": "2022-07-22T15:17:03.633040Z",
     "shell.execute_reply": "2022-07-22T15:17:03.632546Z"
    },
    "papermill": {
     "duration": 0.044749,
     "end_time": "2022-07-22T15:17:03.634296",
     "exception": false,
     "start_time": "2022-07-22T15:17:03.589547",
     "status": "completed"
    },
    "tags": []
   },
   "outputs": [
    {
     "data": {
      "text/plain": [
       "0.00    3.101689e-23\n",
       "0.05    4.762965e-18\n",
       "0.10    1.438878e-17\n",
       "0.15    2.793439e-17\n",
       "0.20    4.572707e-17\n",
       "0.25    6.951950e-17\n",
       "0.30    1.011835e-16\n",
       "0.35    1.443551e-16\n",
       "0.40    2.067422e-16\n",
       "0.45    3.054534e-16\n",
       "0.50    4.882008e-16\n",
       "0.55    8.921060e-16\n",
       "0.60    2.279357e-15\n",
       "0.65    1.992362e-03\n",
       "0.70    4.699130e-03\n",
       "0.75    6.643861e-03\n",
       "0.80    8.479356e-03\n",
       "0.85    1.055689e-02\n",
       "0.90    1.341712e-02\n",
       "0.95    2.162502e-02\n",
       "dtype: float64"
      ]
     },
     "metadata": {},
     "output_type": "display_data"
    }
   ],
   "source": [
    "display(_corr_mat.quantile(np.arange(0, 1, 0.05)))"
   ]
  },
  {
   "cell_type": "code",
   "execution_count": 67,
   "id": "3543f16e-1453-44e5-ab68-0d03450e559b",
   "metadata": {
    "execution": {
     "iopub.execute_input": "2022-07-22T15:17:03.664910Z",
     "iopub.status.busy": "2022-07-22T15:17:03.664703Z",
     "iopub.status.idle": "2022-07-22T15:17:03.685728Z",
     "shell.execute_reply": "2022-07-22T15:17:03.685228Z"
    },
    "papermill": {
     "duration": 0.037691,
     "end_time": "2022-07-22T15:17:03.686922",
     "exception": false,
     "start_time": "2022-07-22T15:17:03.649231",
     "status": "completed"
    },
    "tags": []
   },
   "outputs": [
    {
     "data": {
      "text/plain": [
       "0.0000    3.101689e-23\n",
       "0.0001    2.242967e-21\n",
       "0.0002    4.259132e-21\n",
       "0.0003    6.882071e-21\n",
       "0.0004    9.230620e-21\n",
       "0.0005    1.174312e-20\n",
       "0.0006    1.518658e-20\n",
       "0.0007    1.833133e-20\n",
       "0.0008    2.188580e-20\n",
       "0.0009    2.494723e-20\n",
       "dtype: float64"
      ]
     },
     "metadata": {},
     "output_type": "display_data"
    }
   ],
   "source": [
    "display(_corr_mat.quantile(\n",
    "    np.arange(0, 0.001, 0.0001)\n",
    "))"
   ]
  },
  {
   "cell_type": "code",
   "execution_count": 68,
   "id": "bb34d782-9aaa-48ce-b526-8323522166a3",
   "metadata": {
    "execution": {
     "iopub.execute_input": "2022-07-22T15:17:03.717783Z",
     "iopub.status.busy": "2022-07-22T15:17:03.717576Z",
     "iopub.status.idle": "2022-07-22T15:17:03.736095Z",
     "shell.execute_reply": "2022-07-22T15:17:03.735592Z"
    },
    "papermill": {
     "duration": 0.035426,
     "end_time": "2022-07-22T15:17:03.737355",
     "exception": false,
     "start_time": "2022-07-22T15:17:03.701929",
     "status": "completed"
    },
    "tags": []
   },
   "outputs": [
    {
     "data": {
      "text/plain": [
       "0.9990    0.672669\n",
       "0.9991    0.686769\n",
       "0.9992    0.698563\n",
       "0.9993    0.714549\n",
       "0.9994    0.740497\n",
       "0.9995    0.769238\n",
       "0.9996    0.792051\n",
       "0.9997    0.816051\n",
       "0.9998    0.869661\n",
       "0.9999    0.950586\n",
       "1.0000    0.999990\n",
       "dtype: float64"
      ]
     },
     "metadata": {},
     "output_type": "display_data"
    }
   ],
   "source": [
    "display(_corr_mat.quantile(\n",
    "    np.arange(0.999, 1.0, 0.0001)\n",
    "))"
   ]
  },
  {
   "cell_type": "markdown",
   "id": "fd4ce75c-e759-48b5-9b2b-584438302fff",
   "metadata": {
    "papermill": {
     "duration": 0.014583,
     "end_time": "2022-07-22T15:17:03.767500",
     "exception": false,
     "start_time": "2022-07-22T15:17:03.752917",
     "status": "completed"
    },
    "tags": []
   },
   "source": [
    "### Plot: distribution"
   ]
  },
  {
   "cell_type": "code",
   "execution_count": 69,
   "id": "7da6aa50-81da-4f75-9d54-4fad6a3fb5a5",
   "metadata": {
    "execution": {
     "iopub.execute_input": "2022-07-22T15:17:03.797534Z",
     "iopub.status.busy": "2022-07-22T15:17:03.797326Z",
     "iopub.status.idle": "2022-07-22T15:17:12.098504Z",
     "shell.execute_reply": "2022-07-22T15:17:12.097560Z"
    },
    "papermill": {
     "duration": 8.318601,
     "end_time": "2022-07-22T15:17:12.100617",
     "exception": false,
     "start_time": "2022-07-22T15:17:03.782016",
     "status": "completed"
    },
    "tags": []
   },
   "outputs": [
    {
     "data": {
      "image/png": "[encoded data removed]",
      "text/plain": [
       "<Figure size 504x504 with 1 Axes>"
      ]
     },
     "metadata": {
      "needs_background": "light"
     },
     "output_type": "display_data"
    }
   ],
   "source": [
    "with sns.plotting_context(\"paper\", font_scale=1.5):\n",
    "    g = sns.displot(_corr_mat, kde=True, height=7)\n",
    "    g.ax.set_title(\"Distribution of gene correlation values in all chromosomes\")"
   ]
  },
  {
   "cell_type": "markdown",
   "id": "e34db3c2",
   "metadata": {
    "papermill": {
     "duration": 0.020793,
     "end_time": "2022-07-22T15:17:12.143099",
     "exception": false,
     "start_time": "2022-07-22T15:17:12.122306",
     "status": "completed"
    },
    "tags": []
   },
   "source": [
    "# Save"
   ]
  },
  {
   "cell_type": "markdown",
   "id": "510183a9",
   "metadata": {
    "papermill": {
     "duration": 0.018017,
     "end_time": "2022-07-22T15:17:12.180369",
     "exception": false,
     "start_time": "2022-07-22T15:17:12.162352",
     "status": "completed"
    },
    "tags": []
   },
   "source": [
    "## With ensemble ids"
   ]
  },
  {
   "cell_type": "markdown",
   "id": "7f9816a6",
   "metadata": {
    "papermill": {
     "duration": 0.014758,
     "end_time": "2022-07-22T15:17:12.211167",
     "exception": false,
     "start_time": "2022-07-22T15:17:12.196409",
     "status": "completed"
    },
    "tags": []
   },
   "source": [
    "## With gene symbols"
   ]
  },
  {
   "cell_type": "code",
   "execution_count": 70,
   "id": "2f174f95-2be3-4b63-95fb-451413ad361d",
   "metadata": {
    "execution": {
     "iopub.execute_input": "2022-07-22T15:17:12.241456Z",
     "iopub.status.busy": "2022-07-22T15:17:12.241232Z",
     "iopub.status.idle": "2022-07-22T15:17:12.257362Z",
     "shell.execute_reply": "2022-07-22T15:17:12.256699Z"
    },
    "papermill": {
     "duration": 0.032783,
     "end_time": "2022-07-22T15:17:12.258511",
     "exception": false,
     "start_time": "2022-07-22T15:17:12.225728",
     "status": "completed"
    },
    "tags": []
   },
   "outputs": [
    {
     "data": {
      "text/plain": [
       "PosixPath('/opt/data/results/gls/gene_corrs/cohorts/1000g_eur/1000g/mashr/gene_corrs-symbols.pkl')"
      ]
     },
     "metadata": {},
     "output_type": "display_data"
    }
   ],
   "source": [
    "output_file = OUTPUT_DIR_BASE / \"gene_corrs-symbols.pkl\"\n",
    "display(output_file)"
   ]
  },
  {
   "cell_type": "code",
   "execution_count": 71,
   "id": "1436a25d",
   "metadata": {
    "execution": {
     "iopub.execute_input": "2022-07-22T15:17:12.289315Z",
     "iopub.status.busy": "2022-07-22T15:17:12.289111Z",
     "iopub.status.idle": "2022-07-22T15:17:12.373283Z",
     "shell.execute_reply": "2022-07-22T15:17:12.372742Z"
    },
    "papermill": {
     "duration": 0.10124,
     "end_time": "2022-07-22T15:17:12.374680",
     "exception": false,
     "start_time": "2022-07-22T15:17:12.273440",
     "status": "completed"
    },
    "tags": []
   },
   "outputs": [],
   "source": [
    "gene_corrs = full_corr_matrix.rename(\n",
    "    index=Gene.GENE_ID_TO_NAME_MAP, columns=Gene.GENE_ID_TO_NAME_MAP\n",
    ")"
   ]
  },
  {
   "cell_type": "code",
   "execution_count": 72,
   "id": "90794835-3f5b-49d7-aec8-94b0e6a1ba06",
   "metadata": {
    "execution": {
     "iopub.execute_input": "2022-07-22T15:17:12.406439Z",
     "iopub.status.busy": "2022-07-22T15:17:12.406282Z",
     "iopub.status.idle": "2022-07-22T15:17:12.504986Z",
     "shell.execute_reply": "2022-07-22T15:17:12.504398Z"
    },
    "papermill": {
     "duration": 0.116196,
     "end_time": "2022-07-22T15:17:12.506525",
     "exception": false,
     "start_time": "2022-07-22T15:17:12.390329",
     "status": "completed"
    },
    "tags": []
   },
   "outputs": [],
   "source": [
    "assert not gene_corrs.isna().any(None)\n",
    "assert not np.isinf(gene_corrs.to_numpy()).any()\n",
    "assert not np.iscomplex(gene_corrs.to_numpy()).any()"
   ]
  },
  {
   "cell_type": "code",
   "execution_count": 73,
   "id": "b2014f92",
   "metadata": {
    "execution": {
     "iopub.execute_input": "2022-07-22T15:17:12.539551Z",
     "iopub.status.busy": "2022-07-22T15:17:12.539371Z",
     "iopub.status.idle": "2022-07-22T15:17:12.555521Z",
     "shell.execute_reply": "2022-07-22T15:17:12.555049Z"
    },
    "papermill": {
     "duration": 0.033967,
     "end_time": "2022-07-22T15:17:12.556895",
     "exception": false,
     "start_time": "2022-07-22T15:17:12.522928",
     "status": "completed"
    },
    "tags": []
   },
   "outputs": [],
   "source": [
    "assert gene_corrs.index.is_unique\n",
    "assert gene_corrs.columns.is_unique"
   ]
  },
  {
   "cell_type": "code",
   "execution_count": 74,
   "id": "d9e18eab",
   "metadata": {
    "execution": {
     "iopub.execute_input": "2022-07-22T15:17:12.588574Z",
     "iopub.status.busy": "2022-07-22T15:17:12.588369Z",
     "iopub.status.idle": "2022-07-22T15:17:12.604413Z",
     "shell.execute_reply": "2022-07-22T15:17:12.603932Z"
    },
    "papermill": {
     "duration": 0.032714,
     "end_time": "2022-07-22T15:17:12.605640",
     "exception": false,
     "start_time": "2022-07-22T15:17:12.572926",
     "status": "completed"
    },
    "tags": []
   },
   "outputs": [
    {
     "data": {
      "text/plain": [
       "(6442, 6442)"
      ]
     },
     "execution_count": 74,
     "metadata": {},
     "output_type": "execute_result"
    }
   ],
   "source": [
    "gene_corrs.shape"
   ]
  },
  {
   "cell_type": "code",
   "execution_count": 75,
   "id": "44e83e62",
   "metadata": {
    "execution": {
     "iopub.execute_input": "2022-07-22T15:17:12.637691Z",
     "iopub.status.busy": "2022-07-22T15:17:12.636928Z",
     "iopub.status.idle": "2022-07-22T15:17:12.665083Z",
     "shell.execute_reply": "2022-07-22T15:17:12.664543Z"
    },
    "papermill": {
     "duration": 0.045066,
     "end_time": "2022-07-22T15:17:12.666324",
     "exception": false,
     "start_time": "2022-07-22T15:17:12.621258",
     "status": "completed"
    },
    "tags": []
   },
   "outputs": [
    {
     "data": {
      "text/html": [
       "<div>\n",
       "<style scoped>\n",
       "    .dataframe tbody tr th:only-of-type {\n",
       "        vertical-align: middle;\n",
       "    }\n",
       "\n",
       "    .dataframe tbody tr th {\n",
       "        vertical-align: top;\n",
       "    }\n",
       "\n",
       "    .dataframe thead th {\n",
       "        text-align: right;\n",
       "    }\n",
       "</style>\n",
       "<table border=\"1\" class=\"dataframe\">\n",
       "  <thead>\n",
       "    <tr style=\"text-align: right;\">\n",
       "      <th></th>\n",
       "      <th>NOC2L</th>\n",
       "      <th>HES4</th>\n",
       "      <th>ISG15</th>\n",
       "      <th>AGRN</th>\n",
       "      <th>TNFRSF18</th>\n",
       "      <th>TNFRSF4</th>\n",
       "      <th>B3GALT6</th>\n",
       "      <th>UBE2J2</th>\n",
       "      <th>ACAP3</th>\n",
       "      <th>TAS1R3</th>\n",
       "      <th>...</th>\n",
       "      <th>PLXNB2</th>\n",
       "      <th>ADM2</th>\n",
       "      <th>MIOX</th>\n",
       "      <th>SCO2</th>\n",
       "      <th>TYMP</th>\n",
       "      <th>CPT1B</th>\n",
       "      <th>CHKB</th>\n",
       "      <th>MAPK8IP2</th>\n",
       "      <th>ARSA</th>\n",
       "      <th>SHANK3</th>\n",
       "    </tr>\n",
       "  </thead>\n",
       "  <tbody>\n",
       "    <tr>\n",
       "      <th>NOC2L</th>\n",
       "      <td>1.000000</td>\n",
       "      <td>0.115011</td>\n",
       "      <td>0.173138</td>\n",
       "      <td>0.056096</td>\n",
       "      <td>0.008032</td>\n",
       "      <td>0.008727</td>\n",
       "      <td>0.006797</td>\n",
       "      <td>0.004533</td>\n",
       "      <td>0.007350</td>\n",
       "      <td>0.010391</td>\n",
       "      <td>...</td>\n",
       "      <td>0.0</td>\n",
       "      <td>0.0</td>\n",
       "      <td>0.0</td>\n",
       "      <td>0.0</td>\n",
       "      <td>0.0</td>\n",
       "      <td>0.0</td>\n",
       "      <td>0.0</td>\n",
       "      <td>0.0</td>\n",
       "      <td>0.0</td>\n",
       "      <td>0.0</td>\n",
       "    </tr>\n",
       "    <tr>\n",
       "      <th>HES4</th>\n",
       "      <td>0.115011</td>\n",
       "      <td>1.000000</td>\n",
       "      <td>0.681368</td>\n",
       "      <td>0.360588</td>\n",
       "      <td>0.011545</td>\n",
       "      <td>0.010729</td>\n",
       "      <td>0.003577</td>\n",
       "      <td>0.010230</td>\n",
       "      <td>0.010747</td>\n",
       "      <td>0.008769</td>\n",
       "      <td>...</td>\n",
       "      <td>0.0</td>\n",
       "      <td>0.0</td>\n",
       "      <td>0.0</td>\n",
       "      <td>0.0</td>\n",
       "      <td>0.0</td>\n",
       "      <td>0.0</td>\n",
       "      <td>0.0</td>\n",
       "      <td>0.0</td>\n",
       "      <td>0.0</td>\n",
       "      <td>0.0</td>\n",
       "    </tr>\n",
       "    <tr>\n",
       "      <th>ISG15</th>\n",
       "      <td>0.173138</td>\n",
       "      <td>0.681368</td>\n",
       "      <td>1.000000</td>\n",
       "      <td>0.381394</td>\n",
       "      <td>0.011774</td>\n",
       "      <td>0.012527</td>\n",
       "      <td>0.003754</td>\n",
       "      <td>0.012096</td>\n",
       "      <td>0.012679</td>\n",
       "      <td>0.010442</td>\n",
       "      <td>...</td>\n",
       "      <td>0.0</td>\n",
       "      <td>0.0</td>\n",
       "      <td>0.0</td>\n",
       "      <td>0.0</td>\n",
       "      <td>0.0</td>\n",
       "      <td>0.0</td>\n",
       "      <td>0.0</td>\n",
       "      <td>0.0</td>\n",
       "      <td>0.0</td>\n",
       "      <td>0.0</td>\n",
       "    </tr>\n",
       "    <tr>\n",
       "      <th>AGRN</th>\n",
       "      <td>0.056096</td>\n",
       "      <td>0.360588</td>\n",
       "      <td>0.381394</td>\n",
       "      <td>1.000000</td>\n",
       "      <td>0.013005</td>\n",
       "      <td>0.015775</td>\n",
       "      <td>0.006184</td>\n",
       "      <td>0.006813</td>\n",
       "      <td>0.010775</td>\n",
       "      <td>0.009189</td>\n",
       "      <td>...</td>\n",
       "      <td>0.0</td>\n",
       "      <td>0.0</td>\n",
       "      <td>0.0</td>\n",
       "      <td>0.0</td>\n",
       "      <td>0.0</td>\n",
       "      <td>0.0</td>\n",
       "      <td>0.0</td>\n",
       "      <td>0.0</td>\n",
       "      <td>0.0</td>\n",
       "      <td>0.0</td>\n",
       "    </tr>\n",
       "    <tr>\n",
       "      <th>TNFRSF18</th>\n",
       "      <td>0.008032</td>\n",
       "      <td>0.011545</td>\n",
       "      <td>0.011774</td>\n",
       "      <td>0.013005</td>\n",
       "      <td>1.000000</td>\n",
       "      <td>0.356676</td>\n",
       "      <td>0.454010</td>\n",
       "      <td>0.137643</td>\n",
       "      <td>0.200340</td>\n",
       "      <td>0.093210</td>\n",
       "      <td>...</td>\n",
       "      <td>0.0</td>\n",
       "      <td>0.0</td>\n",
       "      <td>0.0</td>\n",
       "      <td>0.0</td>\n",
       "      <td>0.0</td>\n",
       "      <td>0.0</td>\n",
       "      <td>0.0</td>\n",
       "      <td>0.0</td>\n",
       "      <td>0.0</td>\n",
       "      <td>0.0</td>\n",
       "    </tr>\n",
       "  </tbody>\n",
       "</table>\n",
       "<p>5 rows × 6442 columns</p>\n",
       "</div>"
      ],
      "text/plain": [
       "             NOC2L      HES4     ISG15      AGRN  TNFRSF18   TNFRSF4  \\\n",
       "NOC2L     1.000000  0.115011  0.173138  0.056096  0.008032  0.008727   \n",
       "HES4      0.115011  1.000000  0.681368  0.360588  0.011545  0.010729   \n",
       "ISG15     0.173138  0.681368  1.000000  0.381394  0.011774  0.012527   \n",
       "AGRN      0.056096  0.360588  0.381394  1.000000  0.013005  0.015775   \n",
       "TNFRSF18  0.008032  0.011545  0.011774  0.013005  1.000000  0.356676   \n",
       "\n",
       "           B3GALT6    UBE2J2     ACAP3    TAS1R3  ...  PLXNB2  ADM2  MIOX  \\\n",
       "NOC2L     0.006797  0.004533  0.007350  0.010391  ...     0.0   0.0   0.0   \n",
       "HES4      0.003577  0.010230  0.010747  0.008769  ...     0.0   0.0   0.0   \n",
       "ISG15     0.003754  0.012096  0.012679  0.010442  ...     0.0   0.0   0.0   \n",
       "AGRN      0.006184  0.006813  0.010775  0.009189  ...     0.0   0.0   0.0   \n",
       "TNFRSF18  0.454010  0.137643  0.200340  0.093210  ...     0.0   0.0   0.0   \n",
       "\n",
       "          SCO2  TYMP  CPT1B  CHKB  MAPK8IP2  ARSA  SHANK3  \n",
       "NOC2L      0.0   0.0    0.0   0.0       0.0   0.0     0.0  \n",
       "HES4       0.0   0.0    0.0   0.0       0.0   0.0     0.0  \n",
       "ISG15      0.0   0.0    0.0   0.0       0.0   0.0     0.0  \n",
       "AGRN       0.0   0.0    0.0   0.0       0.0   0.0     0.0  \n",
       "TNFRSF18   0.0   0.0    0.0   0.0       0.0   0.0     0.0  \n",
       "\n",
       "[5 rows x 6442 columns]"
      ]
     },
     "execution_count": 75,
     "metadata": {},
     "output_type": "execute_result"
    }
   ],
   "source": [
    "gene_corrs.head()"
   ]
  },
  {
   "cell_type": "code",
   "execution_count": 76,
   "id": "04ec6c52",
   "metadata": {
    "execution": {
     "iopub.execute_input": "2022-07-22T15:17:12.697961Z",
     "iopub.status.busy": "2022-07-22T15:17:12.697756Z",
     "iopub.status.idle": "2022-07-22T15:17:16.785259Z",
     "shell.execute_reply": "2022-07-22T15:17:16.783263Z"
    },
    "papermill": {
     "duration": 4.107997,
     "end_time": "2022-07-22T15:17:16.789974",
     "exception": false,
     "start_time": "2022-07-22T15:17:12.681977",
     "status": "completed"
    },
    "tags": []
   },
   "outputs": [],
   "source": [
    "gene_corrs.to_pickle(output_file)"
   ]
  },
  {
   "cell_type": "code",
   "execution_count": null,
   "id": "38cf09b7",
   "metadata": {
    "papermill": {
     "duration": 0.052233,
     "end_time": "2022-07-22T15:17:16.858572",
     "exception": false,
     "start_time": "2022-07-22T15:17:16.806339",
     "status": "completed"
    },
    "tags": []
   },
   "outputs": [],
   "source": []
  }
 ],
 "metadata": {
  "jupytext": {
   "cell_metadata_filter": "all,-execution,-papermill,-trusted",
   "formats": "ipynb,py//py:percent"
  },
  "kernelspec": {
   "display_name": "Python 3 (ipykernel)",
   "language": "python",
   "name": "python3"
  },
  "language_info": {
   "codemirror_mode": {
    "name": "ipython",
    "version": 3
   },
   "file_extension": ".py",
   "mimetype": "text/x-python",
   "name": "python",
   "nbconvert_exporter": "python",
   "pygments_lexer": "ipython3",
   "version": "3.8.13"
  },
  "papermill": {
   "default_parameters": {},
   "duration": 275.007789,
   "end_time": "2022-07-22T15:17:17.906578",
   "environment_variables": {},
   "exception": null,
   "input_path": "nbs/15_gsa_gls/15-postprocess_gene_expr_correlations.ipynb",
   "output_path": "nbs/15_gsa_gls/gene_corrs/cohorts/1000g_eur/1000g/mashr/15-postprocess_gene_expr_correlations.ipynb",
   "parameters": {
    "COHORT_NAME": "1000G_EUR",
    "EQTL_MODEL": "MASHR",
    "REFERENCE_PANEL": "1000G"
   },
   "start_time": "2022-07-22T15:12:42.898789",
   "version": "2.2.2"
  }
 },
 "nbformat": 4,
 "nbformat_minor": 5
}
