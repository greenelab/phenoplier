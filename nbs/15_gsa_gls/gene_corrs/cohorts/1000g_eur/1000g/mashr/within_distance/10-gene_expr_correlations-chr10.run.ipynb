{
 "cells": [
  {
   "cell_type": "markdown",
   "id": "7a6632fb",
   "metadata": {
    "papermill": {
     "duration": 0.006485,
     "end_time": "2022-07-22T04:08:01.284760",
     "exception": false,
     "start_time": "2022-07-22T04:08:01.278275",
     "status": "completed"
    },
    "tags": []
   },
   "source": [
    "# Description"
   ]
  },
  {
   "cell_type": "markdown",
   "id": "7097c346",
   "metadata": {
    "papermill": {
     "duration": 0.005854,
     "end_time": "2022-07-22T04:08:01.296406",
     "exception": false,
     "start_time": "2022-07-22T04:08:01.290552",
     "status": "completed"
    },
    "tags": []
   },
   "source": [
    "(Please, take a look at the README.md file in this directory for instructions on how to run this notebook)\n",
    "\n",
    "This notebook computes predicted expression correlations between all genes in the MultiPLIER models.\n",
    "\n",
    "It also has a parameter set for papermill to run on a single chromosome to run in parallel (see under `Settings` below).\n",
    "\n",
    "This notebook is not directly run. See README.md."
   ]
  },
  {
   "cell_type": "markdown",
   "id": "c61d8427",
   "metadata": {
    "papermill": {
     "duration": 0.005622,
     "end_time": "2022-07-22T04:08:01.307783",
     "exception": false,
     "start_time": "2022-07-22T04:08:01.302161",
     "status": "completed"
    },
    "tags": []
   },
   "source": [
    "# Modules"
   ]
  },
  {
   "cell_type": "code",
   "execution_count": 1,
   "id": "bbc0234f",
   "metadata": {
    "execution": {
     "iopub.execute_input": "2022-07-22T04:08:01.321194Z",
     "iopub.status.busy": "2022-07-22T04:08:01.320902Z",
     "iopub.status.idle": "2022-07-22T04:08:01.335879Z",
     "shell.execute_reply": "2022-07-22T04:08:01.335424Z"
    },
    "papermill": {
     "duration": 0.023649,
     "end_time": "2022-07-22T04:08:01.337307",
     "exception": false,
     "start_time": "2022-07-22T04:08:01.313658",
     "status": "completed"
    },
    "tags": []
   },
   "outputs": [],
   "source": [
    "%load_ext autoreload\n",
    "%autoreload 2"
   ]
  },
  {
   "cell_type": "code",
   "execution_count": 2,
   "id": "1d5f5a59",
   "metadata": {
    "execution": {
     "iopub.execute_input": "2022-07-22T04:08:01.380793Z",
     "iopub.status.busy": "2022-07-22T04:08:01.380602Z",
     "iopub.status.idle": "2022-07-22T04:08:02.317272Z",
     "shell.execute_reply": "2022-07-22T04:08:02.316816Z"
    },
    "papermill": {
     "duration": 0.945895,
     "end_time": "2022-07-22T04:08:02.318741",
     "exception": false,
     "start_time": "2022-07-22T04:08:01.372846",
     "status": "completed"
    },
    "tags": []
   },
   "outputs": [],
   "source": [
    "from random import sample, seed\n",
    "import warnings\n",
    "from pathlib import Path\n",
    "import pickle\n",
    "import traceback\n",
    "\n",
    "import numpy as np\n",
    "from scipy.spatial.distance import squareform\n",
    "import pandas as pd\n",
    "from tqdm import tqdm\n",
    "import matplotlib.pyplot as plt\n",
    "import seaborn as sns\n",
    "\n",
    "import conf\n",
    "from entity import Gene"
   ]
  },
  {
   "cell_type": "markdown",
   "id": "1eac24b5",
   "metadata": {
    "papermill": {
     "duration": 0.006235,
     "end_time": "2022-07-22T04:08:02.331615",
     "exception": false,
     "start_time": "2022-07-22T04:08:02.325380",
     "status": "completed"
    },
    "tags": []
   },
   "source": [
    "# Settings"
   ]
  },
  {
   "cell_type": "code",
   "execution_count": 3,
   "id": "ca4560ba",
   "metadata": {
    "execution": {
     "iopub.execute_input": "2022-07-22T04:08:02.344777Z",
     "iopub.status.busy": "2022-07-22T04:08:02.344381Z",
     "iopub.status.idle": "2022-07-22T04:08:02.360018Z",
     "shell.execute_reply": "2022-07-22T04:08:02.359595Z"
    },
    "papermill": {
     "duration": 0.023621,
     "end_time": "2022-07-22T04:08:02.361389",
     "exception": false,
     "start_time": "2022-07-22T04:08:02.337768",
     "status": "completed"
    },
    "tags": [
     "parameters"
    ]
   },
   "outputs": [],
   "source": [
    "# a cohort name (it could be something like UK_BIOBANK, etc)\n",
    "COHORT_NAME = None\n",
    "\n",
    "# reference panel such as 1000G or GTEX_V8\n",
    "REFERENCE_PANEL = None\n",
    "\n",
    "# predictions models such as MASHR or ELASTIC_NET\n",
    "EQTL_MODEL = None\n",
    "\n",
    "# this is the default value used in S-MultiXcan to select the\n",
    "# top principal components of the expression correlation matrix\n",
    "SMULTIXCAN_CONDITION_NUMBER = 30\n",
    "\n",
    "# specifies a single chromosome value\n",
    "CHROMOSOME = None\n",
    "\n",
    "# if True, then it will continue if a gene pair correlation fails,\n",
    "# printing the warning/error for debugging. If False, any warning/error\n",
    "# will be thrown\n",
    "# FIXME: make it False when all is working\n",
    "DEBUG_MODE = True"
   ]
  },
  {
   "cell_type": "code",
   "execution_count": 4,
   "id": "6adbf754",
   "metadata": {
    "execution": {
     "iopub.execute_input": "2022-07-22T04:08:02.374560Z",
     "iopub.status.busy": "2022-07-22T04:08:02.374351Z",
     "iopub.status.idle": "2022-07-22T04:08:02.388585Z",
     "shell.execute_reply": "2022-07-22T04:08:02.388174Z"
    },
    "papermill": {
     "duration": 0.022264,
     "end_time": "2022-07-22T04:08:02.389945",
     "exception": false,
     "start_time": "2022-07-22T04:08:02.367681",
     "status": "completed"
    },
    "tags": [
     "injected-parameters"
    ]
   },
   "outputs": [],
   "source": [
    "# Parameters\n",
    "COHORT_NAME = \"1000G_EUR\"\n",
    "REFERENCE_PANEL = \"1000G\"\n",
    "EQTL_MODEL = \"MASHR\"\n",
    "CHROMOSOME = 10\n"
   ]
  },
  {
   "cell_type": "code",
   "execution_count": 5,
   "id": "3190631f-27fc-480f-b18e-571d580425a5",
   "metadata": {
    "execution": {
     "iopub.execute_input": "2022-07-22T04:08:02.405411Z",
     "iopub.status.busy": "2022-07-22T04:08:02.405195Z",
     "iopub.status.idle": "2022-07-22T04:08:02.426577Z",
     "shell.execute_reply": "2022-07-22T04:08:02.426171Z"
    },
    "papermill": {
     "duration": 0.029699,
     "end_time": "2022-07-22T04:08:02.428114",
     "exception": false,
     "start_time": "2022-07-22T04:08:02.398415",
     "status": "completed"
    },
    "tags": []
   },
   "outputs": [
    {
     "data": {
      "text/plain": [
       "'Cohort name: 1000g_eur'"
      ]
     },
     "metadata": {},
     "output_type": "display_data"
    }
   ],
   "source": [
    "assert COHORT_NAME is not None or len(COHORT_NAME) == 0, \"A cohort name must be given\"\n",
    "\n",
    "COHORT_NAME = COHORT_NAME.lower()\n",
    "display(f\"Cohort name: {COHORT_NAME}\")"
   ]
  },
  {
   "cell_type": "code",
   "execution_count": 6,
   "id": "f53ba19b-0f93-4fa2-a047-63b375939d1a",
   "metadata": {
    "execution": {
     "iopub.execute_input": "2022-07-22T04:08:02.460339Z",
     "iopub.status.busy": "2022-07-22T04:08:02.460160Z",
     "iopub.status.idle": "2022-07-22T04:08:02.477754Z",
     "shell.execute_reply": "2022-07-22T04:08:02.477256Z"
    },
    "papermill": {
     "duration": 0.039685,
     "end_time": "2022-07-22T04:08:02.479490",
     "exception": false,
     "start_time": "2022-07-22T04:08:02.439805",
     "status": "completed"
    },
    "tags": []
   },
   "outputs": [
    {
     "data": {
      "text/plain": [
       "'Reference panel: 1000G'"
      ]
     },
     "metadata": {},
     "output_type": "display_data"
    }
   ],
   "source": [
    "assert (\n",
    "    REFERENCE_PANEL is not None or len(REFERENCE_PANEL) == 0\n",
    "), \"A reference panel must be given\"\n",
    "\n",
    "display(f\"Reference panel: {REFERENCE_PANEL}\")"
   ]
  },
  {
   "cell_type": "code",
   "execution_count": 7,
   "id": "e024d130-c139-429a-9c6e-ccf149e297b0",
   "metadata": {
    "execution": {
     "iopub.execute_input": "2022-07-22T04:08:02.494896Z",
     "iopub.status.busy": "2022-07-22T04:08:02.494719Z",
     "iopub.status.idle": "2022-07-22T04:08:02.514145Z",
     "shell.execute_reply": "2022-07-22T04:08:02.513374Z"
    },
    "papermill": {
     "duration": 0.028743,
     "end_time": "2022-07-22T04:08:02.515848",
     "exception": false,
     "start_time": "2022-07-22T04:08:02.487105",
     "status": "completed"
    },
    "tags": []
   },
   "outputs": [
    {
     "data": {
      "text/plain": [
       "'eQTL model: MASHR) / mashr_'"
      ]
     },
     "metadata": {},
     "output_type": "display_data"
    }
   ],
   "source": [
    "assert (\n",
    "    EQTL_MODEL is not None or len(EQTL_MODEL) == 0\n",
    "), \"A prediction/eQTL model must be given\"\n",
    "\n",
    "EQTL_MODEL_FILES_PREFIX = conf.PHENOMEXCAN[\"PREDICTION_MODELS\"][f\"{EQTL_MODEL}_PREFIX\"]\n",
    "display(f\"eQTL model: {EQTL_MODEL}) / {EQTL_MODEL_FILES_PREFIX}\")"
   ]
  },
  {
   "cell_type": "code",
   "execution_count": 8,
   "id": "552a7f63-a18c-4d3e-bb6a-94f99b431291",
   "metadata": {
    "execution": {
     "iopub.execute_input": "2022-07-22T04:08:02.536782Z",
     "iopub.status.busy": "2022-07-22T04:08:02.535562Z",
     "iopub.status.idle": "2022-07-22T04:08:02.555708Z",
     "shell.execute_reply": "2022-07-22T04:08:02.555242Z"
    },
    "papermill": {
     "duration": 0.02929,
     "end_time": "2022-07-22T04:08:02.556958",
     "exception": false,
     "start_time": "2022-07-22T04:08:02.527668",
     "status": "completed"
    },
    "tags": []
   },
   "outputs": [
    {
     "data": {
      "text/plain": [
       "'S-MultiXcan condition number: 30'"
      ]
     },
     "metadata": {},
     "output_type": "display_data"
    }
   ],
   "source": [
    "assert (\n",
    "    SMULTIXCAN_CONDITION_NUMBER is not None or SMULTIXCAN_CONDITION_NUMBER > 0\n",
    "), \"The S-MultiXcan condition number (positive integer) must be given\"\n",
    "\n",
    "display(f\"S-MultiXcan condition number: {SMULTIXCAN_CONDITION_NUMBER}\")"
   ]
  },
  {
   "cell_type": "code",
   "execution_count": 9,
   "id": "f34a336f-548e-4afe-8955-90eaea4f42c6",
   "metadata": {
    "execution": {
     "iopub.execute_input": "2022-07-22T04:08:02.571205Z",
     "iopub.status.busy": "2022-07-22T04:08:02.570946Z",
     "iopub.status.idle": "2022-07-22T04:08:02.586472Z",
     "shell.execute_reply": "2022-07-22T04:08:02.586035Z"
    },
    "papermill": {
     "duration": 0.023899,
     "end_time": "2022-07-22T04:08:02.587727",
     "exception": false,
     "start_time": "2022-07-22T04:08:02.563828",
     "status": "completed"
    },
    "tags": []
   },
   "outputs": [
    {
     "data": {
      "text/plain": [
       "'Working on chromosome 10'"
      ]
     },
     "metadata": {},
     "output_type": "display_data"
    }
   ],
   "source": [
    "assert CHROMOSOME is not None and (\n",
    "    1 <= CHROMOSOME <= 22\n",
    "), \"You have to select one chromosome (format: number between 1 and 22)\"\n",
    "\n",
    "CHROMOSOME = str(CHROMOSOME)\n",
    "display(f\"Working on chromosome {CHROMOSOME}\")"
   ]
  },
  {
   "cell_type": "code",
   "execution_count": 10,
   "id": "ab8e96e8-06b5-4363-9dcd-dc4d78cc27f7",
   "metadata": {
    "execution": {
     "iopub.execute_input": "2022-07-22T04:08:02.601976Z",
     "iopub.status.busy": "2022-07-22T04:08:02.601662Z",
     "iopub.status.idle": "2022-07-22T04:08:02.618750Z",
     "shell.execute_reply": "2022-07-22T04:08:02.617985Z"
    },
    "papermill": {
     "duration": 0.030667,
     "end_time": "2022-07-22T04:08:02.625183",
     "exception": false,
     "start_time": "2022-07-22T04:08:02.594516",
     "status": "completed"
    },
    "tags": []
   },
   "outputs": [
    {
     "data": {
      "text/plain": [
       "'Compute correlation within distance True'"
      ]
     },
     "metadata": {},
     "output_type": "display_data"
    }
   ],
   "source": [
    "# TODO: see if this is necessary; if so, make it a parameter with default value True\n",
    "# This parameter, if True, computes the correlation between closeby genes only\n",
    "\n",
    "COMPUTE_CORRELATIONS_WITHIN_DISTANCE = True\n",
    "display(f\"Compute correlation within distance {COMPUTE_CORRELATIONS_WITHIN_DISTANCE}\")"
   ]
  },
  {
   "cell_type": "code",
   "execution_count": 11,
   "id": "396392dc-0340-4540-9b02-e182b833f909",
   "metadata": {
    "execution": {
     "iopub.execute_input": "2022-07-22T04:08:02.648140Z",
     "iopub.status.busy": "2022-07-22T04:08:02.647837Z",
     "iopub.status.idle": "2022-07-22T04:08:02.664705Z",
     "shell.execute_reply": "2022-07-22T04:08:02.664298Z"
    },
    "papermill": {
     "duration": 0.025237,
     "end_time": "2022-07-22T04:08:02.665980",
     "exception": false,
     "start_time": "2022-07-22T04:08:02.640743",
     "status": "completed"
    },
    "tags": []
   },
   "outputs": [
    {
     "data": {
      "text/plain": [
       "'Using output dir base: /opt/data/results/gls/gene_corrs/cohorts/1000g_eur/1000g/mashr'"
      ]
     },
     "metadata": {},
     "output_type": "display_data"
    }
   ],
   "source": [
    "OUTPUT_DIR_BASE = (\n",
    "    conf.RESULTS[\"GLS\"]\n",
    "    / \"gene_corrs\"\n",
    "    / \"cohorts\"\n",
    "    / COHORT_NAME\n",
    "    / REFERENCE_PANEL.lower()\n",
    "    / EQTL_MODEL.lower()\n",
    ")\n",
    "OUTPUT_DIR_BASE.mkdir(parents=True, exist_ok=True)\n",
    "\n",
    "display(f\"Using output dir base: {OUTPUT_DIR_BASE}\")"
   ]
  },
  {
   "cell_type": "code",
   "execution_count": 12,
   "id": "974b4bb1-aa98-4e30-b221-7cd034ad3833",
   "metadata": {
    "execution": {
     "iopub.execute_input": "2022-07-22T04:08:02.680307Z",
     "iopub.status.busy": "2022-07-22T04:08:02.679964Z",
     "iopub.status.idle": "2022-07-22T04:08:02.695503Z",
     "shell.execute_reply": "2022-07-22T04:08:02.695075Z"
    },
    "papermill": {
     "duration": 0.024022,
     "end_time": "2022-07-22T04:08:02.696745",
     "exception": false,
     "start_time": "2022-07-22T04:08:02.672723",
     "status": "completed"
    },
    "tags": []
   },
   "outputs": [
    {
     "data": {
      "text/plain": [
       "PosixPath('/opt/data/results/gls/gene_corrs/cohorts/1000g_eur')"
      ]
     },
     "metadata": {},
     "output_type": "display_data"
    }
   ],
   "source": [
    "INPUT_DIR = conf.RESULTS[\"GLS\"] / \"gene_corrs\" / \"cohorts\" / COHORT_NAME\n",
    "assert INPUT_DIR.exists()\n",
    "\n",
    "display(INPUT_DIR)"
   ]
  },
  {
   "cell_type": "markdown",
   "id": "d2ba085e",
   "metadata": {
    "papermill": {
     "duration": 0.006542,
     "end_time": "2022-07-22T04:08:02.710234",
     "exception": false,
     "start_time": "2022-07-22T04:08:02.703692",
     "status": "completed"
    },
    "tags": []
   },
   "source": [
    "# Load data"
   ]
  },
  {
   "cell_type": "markdown",
   "id": "7dcb8db7",
   "metadata": {
    "papermill": {
     "duration": 0.006487,
     "end_time": "2022-07-22T04:08:02.723374",
     "exception": false,
     "start_time": "2022-07-22T04:08:02.716887",
     "status": "completed"
    },
    "tags": []
   },
   "source": [
    "## GWAS variants"
   ]
  },
  {
   "cell_type": "code",
   "execution_count": 13,
   "id": "29434c4e-8cd3-4b9b-82e4-b5a251d9dd19",
   "metadata": {
    "execution": {
     "iopub.execute_input": "2022-07-22T04:08:02.737754Z",
     "iopub.status.busy": "2022-07-22T04:08:02.737540Z",
     "iopub.status.idle": "2022-07-22T04:08:05.442066Z",
     "shell.execute_reply": "2022-07-22T04:08:05.441470Z"
    },
    "papermill": {
     "duration": 2.713625,
     "end_time": "2022-07-22T04:08:05.443705",
     "exception": false,
     "start_time": "2022-07-22T04:08:02.730080",
     "status": "completed"
    },
    "tags": []
   },
   "outputs": [],
   "source": [
    "with open(INPUT_DIR / \"gwas_variant_ids.pkl\", \"rb\") as handle:\n",
    "    gwas_variants_ids_set = pickle.load(handle)"
   ]
  },
  {
   "cell_type": "code",
   "execution_count": 14,
   "id": "b9d9dec2-4a76-4bf9-bde2-e24c95acb8a0",
   "metadata": {
    "execution": {
     "iopub.execute_input": "2022-07-22T04:08:05.461439Z",
     "iopub.status.busy": "2022-07-22T04:08:05.460991Z",
     "iopub.status.idle": "2022-07-22T04:08:05.479707Z",
     "shell.execute_reply": "2022-07-22T04:08:05.479149Z"
    },
    "papermill": {
     "duration": 0.029431,
     "end_time": "2022-07-22T04:08:05.481453",
     "exception": false,
     "start_time": "2022-07-22T04:08:05.452022",
     "status": "completed"
    },
    "tags": []
   },
   "outputs": [
    {
     "data": {
      "text/plain": [
       "8339505"
      ]
     },
     "execution_count": 14,
     "metadata": {},
     "output_type": "execute_result"
    }
   ],
   "source": [
    "len(gwas_variants_ids_set)"
   ]
  },
  {
   "cell_type": "code",
   "execution_count": 15,
   "id": "4235b06a-6034-4ee4-a0a3-2ae35d122418",
   "metadata": {
    "execution": {
     "iopub.execute_input": "2022-07-22T04:08:05.498820Z",
     "iopub.status.busy": "2022-07-22T04:08:05.498630Z",
     "iopub.status.idle": "2022-07-22T04:08:06.012176Z",
     "shell.execute_reply": "2022-07-22T04:08:06.011585Z"
    },
    "papermill": {
     "duration": 0.523935,
     "end_time": "2022-07-22T04:08:06.013703",
     "exception": false,
     "start_time": "2022-07-22T04:08:05.489768",
     "status": "completed"
    },
    "tags": []
   },
   "outputs": [
    {
     "data": {
      "text/plain": [
       "['chr1_191265269_G_T_b38',\n",
       " 'chr12_52632784_G_C_b38',\n",
       " 'chr1_68131136_C_T_b38',\n",
       " 'chr1_62455915_T_C_b38',\n",
       " 'chr14_25057140_A_G_b38']"
      ]
     },
     "execution_count": 15,
     "metadata": {},
     "output_type": "execute_result"
    }
   ],
   "source": [
    "list(gwas_variants_ids_set)[:5]"
   ]
  },
  {
   "cell_type": "markdown",
   "id": "07866999-2305-41f9-a144-e69c9122c212",
   "metadata": {
    "papermill": {
     "duration": 0.00953,
     "end_time": "2022-07-22T04:08:06.031443",
     "exception": false,
     "start_time": "2022-07-22T04:08:06.021913",
     "status": "completed"
    },
    "tags": []
   },
   "source": [
    "## S-PrediXcan tissue models"
   ]
  },
  {
   "cell_type": "code",
   "execution_count": 16,
   "id": "780611d9-77c8-405f-90a4-f271f7b09397",
   "metadata": {
    "execution": {
     "iopub.execute_input": "2022-07-22T04:08:06.064704Z",
     "iopub.status.busy": "2022-07-22T04:08:06.064533Z",
     "iopub.status.idle": "2022-07-22T04:08:06.929360Z",
     "shell.execute_reply": "2022-07-22T04:08:06.928856Z"
    },
    "papermill": {
     "duration": 0.882667,
     "end_time": "2022-07-22T04:08:06.930876",
     "exception": false,
     "start_time": "2022-07-22T04:08:06.048209",
     "status": "completed"
    },
    "tags": []
   },
   "outputs": [],
   "source": [
    "spredixcan_genes_models = pd.read_pickle(INPUT_DIR / \"gene_tissues.pkl\").set_index(\n",
    "    \"gene_id\"\n",
    ")"
   ]
  },
  {
   "cell_type": "code",
   "execution_count": 17,
   "id": "726dd1f6-9557-4225-91fa-b3b879ea96e1",
   "metadata": {
    "execution": {
     "iopub.execute_input": "2022-07-22T04:08:06.958513Z",
     "iopub.status.busy": "2022-07-22T04:08:06.958053Z",
     "iopub.status.idle": "2022-07-22T04:08:06.982956Z",
     "shell.execute_reply": "2022-07-22T04:08:06.982426Z"
    },
    "papermill": {
     "duration": 0.04079,
     "end_time": "2022-07-22T04:08:06.984340",
     "exception": false,
     "start_time": "2022-07-22T04:08:06.943550",
     "status": "completed"
    },
    "tags": []
   },
   "outputs": [
    {
     "data": {
      "text/plain": [
       "(22314, 2)"
      ]
     },
     "execution_count": 17,
     "metadata": {},
     "output_type": "execute_result"
    }
   ],
   "source": [
    "spredixcan_genes_models.shape"
   ]
  },
  {
   "cell_type": "code",
   "execution_count": 18,
   "id": "944a1b48-222c-4eb0-b252-b9de2cbca215",
   "metadata": {
    "execution": {
     "iopub.execute_input": "2022-07-22T04:08:06.999092Z",
     "iopub.status.busy": "2022-07-22T04:08:06.998910Z",
     "iopub.status.idle": "2022-07-22T04:08:07.021645Z",
     "shell.execute_reply": "2022-07-22T04:08:07.021115Z"
    },
    "papermill": {
     "duration": 0.031714,
     "end_time": "2022-07-22T04:08:07.022998",
     "exception": false,
     "start_time": "2022-07-22T04:08:06.991284",
     "status": "completed"
    },
    "tags": []
   },
   "outputs": [
    {
     "data": {
      "text/html": [
       "<div>\n",
       "<style scoped>\n",
       "    .dataframe tbody tr th:only-of-type {\n",
       "        vertical-align: middle;\n",
       "    }\n",
       "\n",
       "    .dataframe tbody tr th {\n",
       "        vertical-align: top;\n",
       "    }\n",
       "\n",
       "    .dataframe thead th {\n",
       "        text-align: right;\n",
       "    }\n",
       "</style>\n",
       "<table border=\"1\" class=\"dataframe\">\n",
       "  <thead>\n",
       "    <tr style=\"text-align: right;\">\n",
       "      <th></th>\n",
       "      <th>gene_name</th>\n",
       "      <th>tissue</th>\n",
       "    </tr>\n",
       "    <tr>\n",
       "      <th>gene_id</th>\n",
       "      <th></th>\n",
       "      <th></th>\n",
       "    </tr>\n",
       "  </thead>\n",
       "  <tbody>\n",
       "    <tr>\n",
       "      <th>ENSG00000000419</th>\n",
       "      <td>DPM1</td>\n",
       "      <td>(Brain_Hypothalamus, Brain_Substantia_nigra)</td>\n",
       "    </tr>\n",
       "    <tr>\n",
       "      <th>ENSG00000000457</th>\n",
       "      <td>SCYL3</td>\n",
       "      <td>(Small_Intestine_Terminal_Ileum, Brain_Amygdal...</td>\n",
       "    </tr>\n",
       "    <tr>\n",
       "      <th>ENSG00000000460</th>\n",
       "      <td>C1orf112</td>\n",
       "      <td>(Small_Intestine_Terminal_Ileum, Heart_Atrial_...</td>\n",
       "    </tr>\n",
       "    <tr>\n",
       "      <th>ENSG00000000938</th>\n",
       "      <td>FGR</td>\n",
       "      <td>(Stomach, Artery_Aorta, Brain_Frontal_Cortex_B...</td>\n",
       "    </tr>\n",
       "    <tr>\n",
       "      <th>ENSG00000000971</th>\n",
       "      <td>CFH</td>\n",
       "      <td>(Small_Intestine_Terminal_Ileum, Cells_Culture...</td>\n",
       "    </tr>\n",
       "  </tbody>\n",
       "</table>\n",
       "</div>"
      ],
      "text/plain": [
       "                gene_name                                             tissue\n",
       "gene_id                                                                     \n",
       "ENSG00000000419      DPM1       (Brain_Hypothalamus, Brain_Substantia_nigra)\n",
       "ENSG00000000457     SCYL3  (Small_Intestine_Terminal_Ileum, Brain_Amygdal...\n",
       "ENSG00000000460  C1orf112  (Small_Intestine_Terminal_Ileum, Heart_Atrial_...\n",
       "ENSG00000000938       FGR  (Stomach, Artery_Aorta, Brain_Frontal_Cortex_B...\n",
       "ENSG00000000971       CFH  (Small_Intestine_Terminal_Ileum, Cells_Culture..."
      ]
     },
     "execution_count": 18,
     "metadata": {},
     "output_type": "execute_result"
    }
   ],
   "source": [
    "spredixcan_genes_models.head()"
   ]
  },
  {
   "cell_type": "code",
   "execution_count": 19,
   "id": "d1c11bb1-be0b-4f40-b360-633d6827109f",
   "metadata": {
    "execution": {
     "iopub.execute_input": "2022-07-22T04:08:07.039342Z",
     "iopub.status.busy": "2022-07-22T04:08:07.038870Z",
     "iopub.status.idle": "2022-07-22T04:08:07.056240Z",
     "shell.execute_reply": "2022-07-22T04:08:07.055715Z"
    },
    "papermill": {
     "duration": 0.027193,
     "end_time": "2022-07-22T04:08:07.057760",
     "exception": false,
     "start_time": "2022-07-22T04:08:07.030567",
     "status": "completed"
    },
    "tags": []
   },
   "outputs": [],
   "source": [
    "assert spredixcan_genes_models.index.is_unique"
   ]
  },
  {
   "cell_type": "markdown",
   "id": "6caf9d10-eda8-4ad2-8811-a983aa77a25a",
   "metadata": {
    "papermill": {
     "duration": 0.00789,
     "end_time": "2022-07-22T04:08:07.073670",
     "exception": false,
     "start_time": "2022-07-22T04:08:07.065780",
     "status": "completed"
    },
    "tags": []
   },
   "source": [
    "## Get common genes"
   ]
  },
  {
   "cell_type": "code",
   "execution_count": 20,
   "id": "f8d1e317-1cc8-4bdf-bbe9-c3b0a5478359",
   "metadata": {
    "execution": {
     "iopub.execute_input": "2022-07-22T04:08:07.090625Z",
     "iopub.status.busy": "2022-07-22T04:08:07.090142Z",
     "iopub.status.idle": "2022-07-22T04:08:07.107321Z",
     "shell.execute_reply": "2022-07-22T04:08:07.106804Z"
    },
    "papermill": {
     "duration": 0.027173,
     "end_time": "2022-07-22T04:08:07.108830",
     "exception": false,
     "start_time": "2022-07-22T04:08:07.081657",
     "status": "completed"
    },
    "tags": []
   },
   "outputs": [],
   "source": [
    "with open(INPUT_DIR / \"common_genes.pkl\", \"rb\") as handle:\n",
    "    common_genes = pickle.load(handle)"
   ]
  },
  {
   "cell_type": "code",
   "execution_count": 21,
   "id": "ce9506aa-2f38-4e46-b9c2-84d750fac0da",
   "metadata": {
    "execution": {
     "iopub.execute_input": "2022-07-22T04:08:07.126092Z",
     "iopub.status.busy": "2022-07-22T04:08:07.125661Z",
     "iopub.status.idle": "2022-07-22T04:08:07.142372Z",
     "shell.execute_reply": "2022-07-22T04:08:07.141927Z"
    },
    "papermill": {
     "duration": 0.026807,
     "end_time": "2022-07-22T04:08:07.143844",
     "exception": false,
     "start_time": "2022-07-22T04:08:07.117037",
     "status": "completed"
    },
    "tags": []
   },
   "outputs": [
    {
     "data": {
      "text/plain": [
       "6444"
      ]
     },
     "execution_count": 21,
     "metadata": {},
     "output_type": "execute_result"
    }
   ],
   "source": [
    "len(common_genes)"
   ]
  },
  {
   "cell_type": "code",
   "execution_count": 22,
   "id": "f525a698-506a-48e0-9aee-1aca62def5dd",
   "metadata": {
    "execution": {
     "iopub.execute_input": "2022-07-22T04:08:07.161752Z",
     "iopub.status.busy": "2022-07-22T04:08:07.161150Z",
     "iopub.status.idle": "2022-07-22T04:08:07.180811Z",
     "shell.execute_reply": "2022-07-22T04:08:07.180262Z"
    },
    "papermill": {
     "duration": 0.030052,
     "end_time": "2022-07-22T04:08:07.182184",
     "exception": false,
     "start_time": "2022-07-22T04:08:07.152132",
     "status": "completed"
    },
    "tags": []
   },
   "outputs": [
    {
     "data": {
      "text/plain": [
       "['A2M', 'AAAS', 'AANAT', 'AARS', 'AARS2']"
      ]
     },
     "execution_count": 22,
     "metadata": {},
     "output_type": "execute_result"
    }
   ],
   "source": [
    "sorted(list(common_genes))[:5]"
   ]
  },
  {
   "cell_type": "markdown",
   "id": "a5b5092c-a13e-47c4-a92a-480fcc08f3ae",
   "metadata": {
    "papermill": {
     "duration": 0.007336,
     "end_time": "2022-07-22T04:08:07.197355",
     "exception": false,
     "start_time": "2022-07-22T04:08:07.190019",
     "status": "completed"
    },
    "tags": []
   },
   "source": [
    "## Gene info"
   ]
  },
  {
   "cell_type": "code",
   "execution_count": 23,
   "id": "7d6bb224-88e9-4358-ac10-43a41d92cdad",
   "metadata": {
    "execution": {
     "iopub.execute_input": "2022-07-22T04:08:07.213021Z",
     "iopub.status.busy": "2022-07-22T04:08:07.212566Z",
     "iopub.status.idle": "2022-07-22T04:08:07.229924Z",
     "shell.execute_reply": "2022-07-22T04:08:07.229526Z"
    },
    "papermill": {
     "duration": 0.026534,
     "end_time": "2022-07-22T04:08:07.231313",
     "exception": false,
     "start_time": "2022-07-22T04:08:07.204779",
     "status": "completed"
    },
    "tags": []
   },
   "outputs": [],
   "source": [
    "genes_info = pd.read_pickle(INPUT_DIR / \"genes_info.pkl\")"
   ]
  },
  {
   "cell_type": "code",
   "execution_count": 24,
   "id": "9e32abfa-546d-483e-8c18-d526e9e05903",
   "metadata": {
    "execution": {
     "iopub.execute_input": "2022-07-22T04:08:07.248674Z",
     "iopub.status.busy": "2022-07-22T04:08:07.247675Z",
     "iopub.status.idle": "2022-07-22T04:08:07.267252Z",
     "shell.execute_reply": "2022-07-22T04:08:07.266718Z"
    },
    "papermill": {
     "duration": 0.030376,
     "end_time": "2022-07-22T04:08:07.269196",
     "exception": false,
     "start_time": "2022-07-22T04:08:07.238820",
     "status": "completed"
    },
    "tags": []
   },
   "outputs": [
    {
     "data": {
      "text/plain": [
       "(6444, 7)"
      ]
     },
     "execution_count": 24,
     "metadata": {},
     "output_type": "execute_result"
    }
   ],
   "source": [
    "genes_info.shape"
   ]
  },
  {
   "cell_type": "code",
   "execution_count": 25,
   "id": "d16c3e92-85ec-468a-9a56-e25a9774a1cb",
   "metadata": {
    "execution": {
     "iopub.execute_input": "2022-07-22T04:08:07.288443Z",
     "iopub.status.busy": "2022-07-22T04:08:07.288162Z",
     "iopub.status.idle": "2022-07-22T04:08:07.312349Z",
     "shell.execute_reply": "2022-07-22T04:08:07.311896Z"
    },
    "papermill": {
     "duration": 0.035323,
     "end_time": "2022-07-22T04:08:07.313845",
     "exception": false,
     "start_time": "2022-07-22T04:08:07.278522",
     "status": "completed"
    },
    "tags": []
   },
   "outputs": [
    {
     "data": {
      "text/html": [
       "<div>\n",
       "<style scoped>\n",
       "    .dataframe tbody tr th:only-of-type {\n",
       "        vertical-align: middle;\n",
       "    }\n",
       "\n",
       "    .dataframe tbody tr th {\n",
       "        vertical-align: top;\n",
       "    }\n",
       "\n",
       "    .dataframe thead th {\n",
       "        text-align: right;\n",
       "    }\n",
       "</style>\n",
       "<table border=\"1\" class=\"dataframe\">\n",
       "  <thead>\n",
       "    <tr style=\"text-align: right;\">\n",
       "      <th></th>\n",
       "      <th>name</th>\n",
       "      <th>id</th>\n",
       "      <th>chr</th>\n",
       "      <th>band</th>\n",
       "      <th>start_position</th>\n",
       "      <th>end_position</th>\n",
       "      <th>gene_length</th>\n",
       "    </tr>\n",
       "  </thead>\n",
       "  <tbody>\n",
       "    <tr>\n",
       "      <th>0</th>\n",
       "      <td>MFN2</td>\n",
       "      <td>ENSG00000116688</td>\n",
       "      <td>1</td>\n",
       "      <td>1p36.22</td>\n",
       "      <td>11980181.0</td>\n",
       "      <td>12013514.0</td>\n",
       "      <td>33333.0</td>\n",
       "    </tr>\n",
       "    <tr>\n",
       "      <th>1</th>\n",
       "      <td>PPA2</td>\n",
       "      <td>ENSG00000138777</td>\n",
       "      <td>4</td>\n",
       "      <td>4q24</td>\n",
       "      <td>105369077.0</td>\n",
       "      <td>105474067.0</td>\n",
       "      <td>104990.0</td>\n",
       "    </tr>\n",
       "    <tr>\n",
       "      <th>2</th>\n",
       "      <td>ADRA2A</td>\n",
       "      <td>ENSG00000150594</td>\n",
       "      <td>10</td>\n",
       "      <td>10q25.2</td>\n",
       "      <td>111077163.0</td>\n",
       "      <td>111080907.0</td>\n",
       "      <td>3744.0</td>\n",
       "    </tr>\n",
       "    <tr>\n",
       "      <th>3</th>\n",
       "      <td>RYR2</td>\n",
       "      <td>ENSG00000198626</td>\n",
       "      <td>1</td>\n",
       "      <td>1q43</td>\n",
       "      <td>237042184.0</td>\n",
       "      <td>237833988.0</td>\n",
       "      <td>791804.0</td>\n",
       "    </tr>\n",
       "    <tr>\n",
       "      <th>4</th>\n",
       "      <td>VAV2</td>\n",
       "      <td>ENSG00000160293</td>\n",
       "      <td>9</td>\n",
       "      <td>9q34.2</td>\n",
       "      <td>133761894.0</td>\n",
       "      <td>133992604.0</td>\n",
       "      <td>230710.0</td>\n",
       "    </tr>\n",
       "  </tbody>\n",
       "</table>\n",
       "</div>"
      ],
      "text/plain": [
       "     name               id chr     band  start_position  end_position  \\\n",
       "0    MFN2  ENSG00000116688   1  1p36.22      11980181.0    12013514.0   \n",
       "1    PPA2  ENSG00000138777   4     4q24     105369077.0   105474067.0   \n",
       "2  ADRA2A  ENSG00000150594  10  10q25.2     111077163.0   111080907.0   \n",
       "3    RYR2  ENSG00000198626   1     1q43     237042184.0   237833988.0   \n",
       "4    VAV2  ENSG00000160293   9   9q34.2     133761894.0   133992604.0   \n",
       "\n",
       "   gene_length  \n",
       "0      33333.0  \n",
       "1     104990.0  \n",
       "2       3744.0  \n",
       "3     791804.0  \n",
       "4     230710.0  "
      ]
     },
     "execution_count": 25,
     "metadata": {},
     "output_type": "execute_result"
    }
   ],
   "source": [
    "genes_info.head()"
   ]
  },
  {
   "cell_type": "markdown",
   "id": "d3843e06",
   "metadata": {
    "papermill": {
     "duration": 0.008504,
     "end_time": "2022-07-22T04:08:07.331259",
     "exception": false,
     "start_time": "2022-07-22T04:08:07.322755",
     "status": "completed"
    },
    "tags": []
   },
   "source": [
    "# Compute correlations"
   ]
  },
  {
   "cell_type": "code",
   "execution_count": 26,
   "id": "cb859c15-d1f3-4006-a74c-2b83c0db9611",
   "metadata": {
    "execution": {
     "iopub.execute_input": "2022-07-22T04:08:07.349705Z",
     "iopub.status.busy": "2022-07-22T04:08:07.349204Z",
     "iopub.status.idle": "2022-07-22T04:08:07.365883Z",
     "shell.execute_reply": "2022-07-22T04:08:07.365407Z"
    },
    "papermill": {
     "duration": 0.027502,
     "end_time": "2022-07-22T04:08:07.367303",
     "exception": false,
     "start_time": "2022-07-22T04:08:07.339801",
     "status": "completed"
    },
    "tags": []
   },
   "outputs": [
    {
     "data": {
      "text/plain": [
       "PosixPath('/opt/data/results/gls/gene_corrs/cohorts/1000g_eur/1000g/mashr/by_chr/gene_corrs-chr10.pkl')"
      ]
     },
     "metadata": {},
     "output_type": "display_data"
    }
   ],
   "source": [
    "output_dir = OUTPUT_DIR_BASE / \"by_chr\"\n",
    "output_dir.mkdir(exist_ok=True, parents=True)\n",
    "output_file = output_dir / f\"gene_corrs-chr{CHROMOSOME}.pkl\"\n",
    "display(output_file)"
   ]
  },
  {
   "cell_type": "code",
   "execution_count": 27,
   "id": "aa674fe4-6794-4eed-98fa-32b39d1d4ace",
   "metadata": {
    "execution": {
     "iopub.execute_input": "2022-07-22T04:08:07.385820Z",
     "iopub.status.busy": "2022-07-22T04:08:07.385636Z",
     "iopub.status.idle": "2022-07-22T04:08:07.400980Z",
     "shell.execute_reply": "2022-07-22T04:08:07.400413Z"
    },
    "papermill": {
     "duration": 0.026431,
     "end_time": "2022-07-22T04:08:07.402559",
     "exception": false,
     "start_time": "2022-07-22T04:08:07.376128",
     "status": "completed"
    },
    "tags": []
   },
   "outputs": [],
   "source": [
    "warnings.filterwarnings(\"error\")"
   ]
  },
  {
   "cell_type": "code",
   "execution_count": 28,
   "id": "44d5450b-3baf-43f1-9e2e-4b06f1a785f8",
   "metadata": {
    "execution": {
     "iopub.execute_input": "2022-07-22T04:08:07.421630Z",
     "iopub.status.busy": "2022-07-22T04:08:07.421088Z",
     "iopub.status.idle": "2022-07-22T04:08:07.438029Z",
     "shell.execute_reply": "2022-07-22T04:08:07.437471Z"
    },
    "papermill": {
     "duration": 0.027988,
     "end_time": "2022-07-22T04:08:07.439480",
     "exception": false,
     "start_time": "2022-07-22T04:08:07.411492",
     "status": "completed"
    },
    "tags": []
   },
   "outputs": [],
   "source": [
    "# standard checks\n",
    "all_chrs = genes_info[\"chr\"].dropna().unique()\n",
    "assert all_chrs.shape[0] == 22\n",
    "\n",
    "# select chromosome given by the user\n",
    "assert CHROMOSOME in all_chrs"
   ]
  },
  {
   "cell_type": "code",
   "execution_count": 29,
   "id": "2d7c043c-92a7-4d35-991b-fa69ac1e0268",
   "metadata": {
    "execution": {
     "iopub.execute_input": "2022-07-22T04:08:07.458264Z",
     "iopub.status.busy": "2022-07-22T04:08:07.457785Z",
     "iopub.status.idle": "2022-07-22T04:08:07.475658Z",
     "shell.execute_reply": "2022-07-22T04:08:07.475145Z"
    },
    "papermill": {
     "duration": 0.02878,
     "end_time": "2022-07-22T04:08:07.477014",
     "exception": false,
     "start_time": "2022-07-22T04:08:07.448234",
     "status": "completed"
    },
    "tags": []
   },
   "outputs": [
    {
     "name": "stdout",
     "output_type": "stream",
     "text": [
      "Number of genes in chromosome: 245\n"
     ]
    }
   ],
   "source": [
    "# run only on the chromosome specified\n",
    "all_chrs = [CHROMOSOME]\n",
    "genes_chr = genes_info[genes_info[\"chr\"] == CHROMOSOME]\n",
    "\n",
    "# For testing purposes\n",
    "# genes_chr = genes_chr.sample(n=20)\n",
    "\n",
    "print(f\"Number of genes in chromosome: {genes_chr.shape[0]}\", flush=True)"
   ]
  },
  {
   "cell_type": "code",
   "execution_count": 30,
   "id": "916015d8-2979-46d3-a9b9-1cf5a0932c6a",
   "metadata": {
    "execution": {
     "iopub.execute_input": "2022-07-22T04:08:07.496047Z",
     "iopub.status.busy": "2022-07-22T04:08:07.495542Z",
     "iopub.status.idle": "2022-07-22T04:08:07.511539Z",
     "shell.execute_reply": "2022-07-22T04:08:07.511033Z"
    },
    "papermill": {
     "duration": 0.027067,
     "end_time": "2022-07-22T04:08:07.513011",
     "exception": false,
     "start_time": "2022-07-22T04:08:07.485944",
     "status": "completed"
    },
    "tags": []
   },
   "outputs": [],
   "source": [
    "# sort genes by starting position to make visualizations better later\n",
    "genes_chr = genes_chr.sort_values(\"start_position\")"
   ]
  },
  {
   "cell_type": "code",
   "execution_count": 31,
   "id": "a38aa74a-8ad3-47f6-8ef9-56be0e011774",
   "metadata": {
    "execution": {
     "iopub.execute_input": "2022-07-22T04:08:07.532068Z",
     "iopub.status.busy": "2022-07-22T04:08:07.531525Z",
     "iopub.status.idle": "2022-07-22T04:08:07.547566Z",
     "shell.execute_reply": "2022-07-22T04:08:07.547048Z"
    },
    "papermill": {
     "duration": 0.027029,
     "end_time": "2022-07-22T04:08:07.549090",
     "exception": false,
     "start_time": "2022-07-22T04:08:07.522061",
     "status": "completed"
    },
    "tags": []
   },
   "outputs": [],
   "source": [
    "gene_chr_objs = [Gene(ensembl_id=gene_id) for gene_id in genes_chr[\"id\"]]"
   ]
  },
  {
   "cell_type": "code",
   "execution_count": 32,
   "id": "570f974f-13c3-42b6-ad3a-ce99ca885c1a",
   "metadata": {
    "execution": {
     "iopub.execute_input": "2022-07-22T04:08:07.566920Z",
     "iopub.status.busy": "2022-07-22T04:08:07.566444Z",
     "iopub.status.idle": "2022-07-22T04:08:07.581374Z",
     "shell.execute_reply": "2022-07-22T04:08:07.580923Z"
    },
    "papermill": {
     "duration": 0.025025,
     "end_time": "2022-07-22T04:08:07.582685",
     "exception": false,
     "start_time": "2022-07-22T04:08:07.557660",
     "status": "completed"
    },
    "tags": []
   },
   "outputs": [
    {
     "name": "stdout",
     "output_type": "stream",
     "text": [
      "Number of gene combinations: 29890\n"
     ]
    }
   ],
   "source": [
    "n = len(gene_chr_objs)\n",
    "n_comb = int(n * (n - 1) / 2.0)\n",
    "print(f\"Number of gene combinations: {n_comb}\", flush=True)"
   ]
  },
  {
   "cell_type": "code",
   "execution_count": 33,
   "id": "cdbb90a1",
   "metadata": {
    "execution": {
     "iopub.execute_input": "2022-07-22T04:08:07.599801Z",
     "iopub.status.busy": "2022-07-22T04:08:07.599477Z",
     "iopub.status.idle": "2022-07-22T04:13:51.270785Z",
     "shell.execute_reply": "2022-07-22T04:13:51.270342Z"
    },
    "papermill": {
     "duration": 343.681283,
     "end_time": "2022-07-22T04:13:51.272175",
     "exception": false,
     "start_time": "2022-07-22T04:08:07.590892",
     "status": "completed"
    },
    "tags": []
   },
   "outputs": [
    {
     "name": "stderr",
     "output_type": "stream",
     "text": [
      "ENSG00000148832 / ENSG00000130649: 100%|██████████████████████| 29890/29890 [05:43<00:00, 86.98it/s]\n"
     ]
    },
    {
     "data": {
      "text/plain": [
       "PosixPath('/opt/data/results/gls/gene_corrs/cohorts/1000g_eur/1000g/mashr/by_chr/gene_corrs-chr10.pkl')"
      ]
     },
     "metadata": {},
     "output_type": "display_data"
    }
   ],
   "source": [
    "gene_corrs = []\n",
    "\n",
    "i = 0\n",
    "with tqdm(ncols=100, total=n_comb) as pbar:\n",
    "    for gene1_idx in range(0, len(gene_chr_objs) - 1):\n",
    "        gene1_obj = gene_chr_objs[gene1_idx]\n",
    "        gene1_tissues = spredixcan_genes_models.loc[gene1_obj.ensembl_id, \"tissue\"]\n",
    "\n",
    "        for gene2_idx in range(gene1_idx + 1, len(gene_chr_objs)):\n",
    "            gene2_obj = gene_chr_objs[gene2_idx]\n",
    "            gene2_tissues = spredixcan_genes_models.loc[gene2_obj.ensembl_id, \"tissue\"]\n",
    "\n",
    "            pbar.set_description(f\"{gene1_obj.ensembl_id} / {gene2_obj.ensembl_id}\")\n",
    "\n",
    "            try:\n",
    "                r = gene1_obj.get_ssm_correlation(\n",
    "                    other_gene=gene2_obj,\n",
    "                    tissues=gene1_tissues,\n",
    "                    other_tissues=gene2_tissues,\n",
    "                    snps_subset=gwas_variants_ids_set,\n",
    "                    condition_number=SMULTIXCAN_CONDITION_NUMBER,\n",
    "                    reference_panel=REFERENCE_PANEL,\n",
    "                    model_type=EQTL_MODEL,\n",
    "                    use_within_distance=COMPUTE_CORRELATIONS_WITHIN_DISTANCE,\n",
    "                )\n",
    "\n",
    "                if r is None:\n",
    "                    # if r is None, it's very likely because:\n",
    "                    #  * one of the genes has no prediction models\n",
    "                    #  * all the SNPs predictors for the gene are not present in the reference\n",
    "                    #    panel\n",
    "\n",
    "                    r = 0.0\n",
    "\n",
    "                gene_corrs.append(r)\n",
    "            except Warning as e:\n",
    "                if not DEBUG_MODE:\n",
    "                    raise e\n",
    "\n",
    "                print(\n",
    "                    f\"RuntimeWarning for genes {gene1_obj.ensembl_id} and {gene2_obj.ensembl_id}\",\n",
    "                    flush=True,\n",
    "                )\n",
    "                print(traceback.format_exc(), flush=True)\n",
    "\n",
    "                gene_corrs.append(np.nan)\n",
    "            except Exception as e:\n",
    "                if not DEBUG_MODE:\n",
    "                    raise e\n",
    "\n",
    "                print(\n",
    "                    f\"Exception for genes {gene1_obj.ensembl_id} and {gene2_obj.ensembl_id}\",\n",
    "                    flush=True,\n",
    "                )\n",
    "                print(traceback.format_exc(), flush=True)\n",
    "\n",
    "                gene_corrs.append(np.nan)\n",
    "\n",
    "            pbar.update(1)\n",
    "\n",
    "# create a pandas series\n",
    "gene_corrs_flat = pd.Series(gene_corrs)\n",
    "\n",
    "# save\n",
    "# FIXME: consider saving only the condenced matrix here. See here for\n",
    "# more details: https://github.com/greenelab/phenoplier/pull/38#discussion_r634600813\n",
    "gene_corrs_data = squareform(np.array(gene_corrs, dtype=np.float64))\n",
    "np.fill_diagonal(gene_corrs_data, 1.0)\n",
    "\n",
    "gene_chr_ids = [g.ensembl_id for g in gene_chr_objs]\n",
    "gene_corrs_df = pd.DataFrame(\n",
    "    data=gene_corrs_data,\n",
    "    index=gene_chr_ids,\n",
    "    columns=gene_chr_ids,\n",
    ")\n",
    "\n",
    "output_dir.mkdir(exist_ok=True, parents=True)\n",
    "display(output_file)\n",
    "\n",
    "gene_corrs_df.to_pickle(output_file)"
   ]
  },
  {
   "cell_type": "markdown",
   "id": "faa67b51-5373-470f-aa72-2ded53fa6dfe",
   "metadata": {
    "papermill": {
     "duration": 1.172658,
     "end_time": "2022-07-22T04:13:53.655219",
     "exception": false,
     "start_time": "2022-07-22T04:13:52.482561",
     "status": "completed"
    },
    "tags": []
   },
   "source": [
    "# Testing"
   ]
  },
  {
   "cell_type": "code",
   "execution_count": 34,
   "id": "14f7d046-4b55-4896-a56b-990127bcc388",
   "metadata": {
    "execution": {
     "iopub.execute_input": "2022-07-22T04:13:56.319947Z",
     "iopub.status.busy": "2022-07-22T04:13:56.319724Z",
     "iopub.status.idle": "2022-07-22T04:13:56.340272Z",
     "shell.execute_reply": "2022-07-22T04:13:56.339765Z"
    },
    "papermill": {
     "duration": 1.423202,
     "end_time": "2022-07-22T04:13:56.341807",
     "exception": false,
     "start_time": "2022-07-22T04:13:54.918605",
     "status": "completed"
    },
    "tags": []
   },
   "outputs": [
    {
     "data": {
      "text/plain": [
       "(245, 245)"
      ]
     },
     "execution_count": 34,
     "metadata": {},
     "output_type": "execute_result"
    }
   ],
   "source": [
    "gene_corrs_df.shape"
   ]
  },
  {
   "cell_type": "code",
   "execution_count": 35,
   "id": "c7d15414-3297-4537-a7c6-7588c0baeb75",
   "metadata": {
    "execution": {
     "iopub.execute_input": "2022-07-22T04:13:58.804225Z",
     "iopub.status.busy": "2022-07-22T04:13:58.804031Z",
     "iopub.status.idle": "2022-07-22T04:13:58.835915Z",
     "shell.execute_reply": "2022-07-22T04:13:58.835321Z"
    },
    "papermill": {
     "duration": 1.183625,
     "end_time": "2022-07-22T04:13:58.838739",
     "exception": false,
     "start_time": "2022-07-22T04:13:57.655114",
     "status": "completed"
    },
    "tags": []
   },
   "outputs": [
    {
     "data": {
      "text/html": [
       "<div>\n",
       "<style scoped>\n",
       "    .dataframe tbody tr th:only-of-type {\n",
       "        vertical-align: middle;\n",
       "    }\n",
       "\n",
       "    .dataframe tbody tr th {\n",
       "        vertical-align: top;\n",
       "    }\n",
       "\n",
       "    .dataframe thead th {\n",
       "        text-align: right;\n",
       "    }\n",
       "</style>\n",
       "<table border=\"1\" class=\"dataframe\">\n",
       "  <thead>\n",
       "    <tr style=\"text-align: right;\">\n",
       "      <th></th>\n",
       "      <th>ENSG00000261456</th>\n",
       "      <th>ENSG00000148377</th>\n",
       "      <th>ENSG00000067064</th>\n",
       "      <th>ENSG00000067057</th>\n",
       "      <th>ENSG00000067082</th>\n",
       "      <th>ENSG00000187134</th>\n",
       "      <th>ENSG00000151632</th>\n",
       "      <th>ENSG00000196139</th>\n",
       "      <th>ENSG00000173848</th>\n",
       "      <th>ENSG00000196372</th>\n",
       "      <th>...</th>\n",
       "      <th>ENSG00000148773</th>\n",
       "      <th>ENSG00000170430</th>\n",
       "      <th>ENSG00000175470</th>\n",
       "      <th>ENSG00000176171</th>\n",
       "      <th>ENSG00000151640</th>\n",
       "      <th>ENSG00000068383</th>\n",
       "      <th>ENSG00000130640</th>\n",
       "      <th>ENSG00000127884</th>\n",
       "      <th>ENSG00000148832</th>\n",
       "      <th>ENSG00000130649</th>\n",
       "    </tr>\n",
       "  </thead>\n",
       "  <tbody>\n",
       "    <tr>\n",
       "      <th>ENSG00000261456</th>\n",
       "      <td>1.000000</td>\n",
       "      <td>0.009276</td>\n",
       "      <td>0.011251</td>\n",
       "      <td>0.018050</td>\n",
       "      <td>0.007918</td>\n",
       "      <td>0.008961</td>\n",
       "      <td>0.011278</td>\n",
       "      <td>0.011212</td>\n",
       "      <td>0.000000</td>\n",
       "      <td>0.000000</td>\n",
       "      <td>...</td>\n",
       "      <td>0.0</td>\n",
       "      <td>0.0</td>\n",
       "      <td>0.0</td>\n",
       "      <td>0.0</td>\n",
       "      <td>0.0</td>\n",
       "      <td>0.0</td>\n",
       "      <td>0.0</td>\n",
       "      <td>0.0</td>\n",
       "      <td>0.0</td>\n",
       "      <td>0.0</td>\n",
       "    </tr>\n",
       "    <tr>\n",
       "      <th>ENSG00000148377</th>\n",
       "      <td>0.009276</td>\n",
       "      <td>1.000000</td>\n",
       "      <td>0.082265</td>\n",
       "      <td>0.008849</td>\n",
       "      <td>0.002638</td>\n",
       "      <td>0.005402</td>\n",
       "      <td>0.002854</td>\n",
       "      <td>0.006662</td>\n",
       "      <td>0.003950</td>\n",
       "      <td>0.006822</td>\n",
       "      <td>...</td>\n",
       "      <td>0.0</td>\n",
       "      <td>0.0</td>\n",
       "      <td>0.0</td>\n",
       "      <td>0.0</td>\n",
       "      <td>0.0</td>\n",
       "      <td>0.0</td>\n",
       "      <td>0.0</td>\n",
       "      <td>0.0</td>\n",
       "      <td>0.0</td>\n",
       "      <td>0.0</td>\n",
       "    </tr>\n",
       "    <tr>\n",
       "      <th>ENSG00000067064</th>\n",
       "      <td>0.011251</td>\n",
       "      <td>0.082265</td>\n",
       "      <td>1.000000</td>\n",
       "      <td>0.014118</td>\n",
       "      <td>0.010838</td>\n",
       "      <td>0.010339</td>\n",
       "      <td>0.019729</td>\n",
       "      <td>0.015975</td>\n",
       "      <td>0.013213</td>\n",
       "      <td>0.013264</td>\n",
       "      <td>...</td>\n",
       "      <td>0.0</td>\n",
       "      <td>0.0</td>\n",
       "      <td>0.0</td>\n",
       "      <td>0.0</td>\n",
       "      <td>0.0</td>\n",
       "      <td>0.0</td>\n",
       "      <td>0.0</td>\n",
       "      <td>0.0</td>\n",
       "      <td>0.0</td>\n",
       "      <td>0.0</td>\n",
       "    </tr>\n",
       "    <tr>\n",
       "      <th>ENSG00000067057</th>\n",
       "      <td>0.018050</td>\n",
       "      <td>0.008849</td>\n",
       "      <td>0.014118</td>\n",
       "      <td>1.000000</td>\n",
       "      <td>0.012992</td>\n",
       "      <td>0.020653</td>\n",
       "      <td>0.026357</td>\n",
       "      <td>0.026792</td>\n",
       "      <td>0.014648</td>\n",
       "      <td>0.026515</td>\n",
       "      <td>...</td>\n",
       "      <td>0.0</td>\n",
       "      <td>0.0</td>\n",
       "      <td>0.0</td>\n",
       "      <td>0.0</td>\n",
       "      <td>0.0</td>\n",
       "      <td>0.0</td>\n",
       "      <td>0.0</td>\n",
       "      <td>0.0</td>\n",
       "      <td>0.0</td>\n",
       "      <td>0.0</td>\n",
       "    </tr>\n",
       "    <tr>\n",
       "      <th>ENSG00000067082</th>\n",
       "      <td>0.007918</td>\n",
       "      <td>0.002638</td>\n",
       "      <td>0.010838</td>\n",
       "      <td>0.012992</td>\n",
       "      <td>1.000000</td>\n",
       "      <td>0.019430</td>\n",
       "      <td>0.016258</td>\n",
       "      <td>0.012085</td>\n",
       "      <td>0.015885</td>\n",
       "      <td>0.017250</td>\n",
       "      <td>...</td>\n",
       "      <td>0.0</td>\n",
       "      <td>0.0</td>\n",
       "      <td>0.0</td>\n",
       "      <td>0.0</td>\n",
       "      <td>0.0</td>\n",
       "      <td>0.0</td>\n",
       "      <td>0.0</td>\n",
       "      <td>0.0</td>\n",
       "      <td>0.0</td>\n",
       "      <td>0.0</td>\n",
       "    </tr>\n",
       "  </tbody>\n",
       "</table>\n",
       "<p>5 rows × 245 columns</p>\n",
       "</div>"
      ],
      "text/plain": [
       "                 ENSG00000261456  ENSG00000148377  ENSG00000067064  \\\n",
       "ENSG00000261456         1.000000         0.009276         0.011251   \n",
       "ENSG00000148377         0.009276         1.000000         0.082265   \n",
       "ENSG00000067064         0.011251         0.082265         1.000000   \n",
       "ENSG00000067057         0.018050         0.008849         0.014118   \n",
       "ENSG00000067082         0.007918         0.002638         0.010838   \n",
       "\n",
       "                 ENSG00000067057  ENSG00000067082  ENSG00000187134  \\\n",
       "ENSG00000261456         0.018050         0.007918         0.008961   \n",
       "ENSG00000148377         0.008849         0.002638         0.005402   \n",
       "ENSG00000067064         0.014118         0.010838         0.010339   \n",
       "ENSG00000067057         1.000000         0.012992         0.020653   \n",
       "ENSG00000067082         0.012992         1.000000         0.019430   \n",
       "\n",
       "                 ENSG00000151632  ENSG00000196139  ENSG00000173848  \\\n",
       "ENSG00000261456         0.011278         0.011212         0.000000   \n",
       "ENSG00000148377         0.002854         0.006662         0.003950   \n",
       "ENSG00000067064         0.019729         0.015975         0.013213   \n",
       "ENSG00000067057         0.026357         0.026792         0.014648   \n",
       "ENSG00000067082         0.016258         0.012085         0.015885   \n",
       "\n",
       "                 ENSG00000196372  ...  ENSG00000148773  ENSG00000170430  \\\n",
       "ENSG00000261456         0.000000  ...              0.0              0.0   \n",
       "ENSG00000148377         0.006822  ...              0.0              0.0   \n",
       "ENSG00000067064         0.013264  ...              0.0              0.0   \n",
       "ENSG00000067057         0.026515  ...              0.0              0.0   \n",
       "ENSG00000067082         0.017250  ...              0.0              0.0   \n",
       "\n",
       "                 ENSG00000175470  ENSG00000176171  ENSG00000151640  \\\n",
       "ENSG00000261456              0.0              0.0              0.0   \n",
       "ENSG00000148377              0.0              0.0              0.0   \n",
       "ENSG00000067064              0.0              0.0              0.0   \n",
       "ENSG00000067057              0.0              0.0              0.0   \n",
       "ENSG00000067082              0.0              0.0              0.0   \n",
       "\n",
       "                 ENSG00000068383  ENSG00000130640  ENSG00000127884  \\\n",
       "ENSG00000261456              0.0              0.0              0.0   \n",
       "ENSG00000148377              0.0              0.0              0.0   \n",
       "ENSG00000067064              0.0              0.0              0.0   \n",
       "ENSG00000067057              0.0              0.0              0.0   \n",
       "ENSG00000067082              0.0              0.0              0.0   \n",
       "\n",
       "                 ENSG00000148832  ENSG00000130649  \n",
       "ENSG00000261456              0.0              0.0  \n",
       "ENSG00000148377              0.0              0.0  \n",
       "ENSG00000067064              0.0              0.0  \n",
       "ENSG00000067057              0.0              0.0  \n",
       "ENSG00000067082              0.0              0.0  \n",
       "\n",
       "[5 rows x 245 columns]"
      ]
     },
     "execution_count": 35,
     "metadata": {},
     "output_type": "execute_result"
    }
   ],
   "source": [
    "gene_corrs_df.head()"
   ]
  },
  {
   "cell_type": "markdown",
   "id": "dad6603f-01c6-41fb-a6f6-241051207dd8",
   "metadata": {
    "papermill": {
     "duration": 1.146694,
     "end_time": "2022-07-22T04:14:01.223676",
     "exception": false,
     "start_time": "2022-07-22T04:14:00.076982",
     "status": "completed"
    },
    "tags": []
   },
   "source": [
    "## Standard checks and stats"
   ]
  },
  {
   "cell_type": "code",
   "execution_count": 36,
   "id": "286686af-1b7b-4440-8453-6bdcbd8de19c",
   "metadata": {
    "execution": {
     "iopub.execute_input": "2022-07-22T04:14:03.638377Z",
     "iopub.status.busy": "2022-07-22T04:14:03.637667Z",
     "iopub.status.idle": "2022-07-22T04:14:03.654114Z",
     "shell.execute_reply": "2022-07-22T04:14:03.653553Z"
    },
    "papermill": {
     "duration": 1.191118,
     "end_time": "2022-07-22T04:14:03.655597",
     "exception": false,
     "start_time": "2022-07-22T04:14:02.464479",
     "status": "completed"
    },
    "tags": []
   },
   "outputs": [],
   "source": [
    "assert not gene_corrs_df.isna().any().any()"
   ]
  },
  {
   "cell_type": "code",
   "execution_count": 37,
   "id": "00583efc-7068-4270-ad1e-4a418e91db96",
   "metadata": {
    "execution": {
     "iopub.execute_input": "2022-07-22T04:14:06.098602Z",
     "iopub.status.busy": "2022-07-22T04:14:06.098208Z",
     "iopub.status.idle": "2022-07-22T04:14:06.115442Z",
     "shell.execute_reply": "2022-07-22T04:14:06.114877Z"
    },
    "papermill": {
     "duration": 1.273132,
     "end_time": "2022-07-22T04:14:06.116699",
     "exception": false,
     "start_time": "2022-07-22T04:14:04.843567",
     "status": "completed"
    },
    "tags": []
   },
   "outputs": [
    {
     "data": {
      "text/plain": [
       "0.0"
      ]
     },
     "metadata": {},
     "output_type": "display_data"
    }
   ],
   "source": [
    "_min_val = gene_corrs_df.min().min()\n",
    "display(_min_val)\n",
    "assert _min_val >= 0.0"
   ]
  },
  {
   "cell_type": "code",
   "execution_count": 38,
   "id": "d04fb2cf-1050-475b-b855-f5f7cc04092b",
   "metadata": {
    "execution": {
     "iopub.execute_input": "2022-07-22T04:14:08.548064Z",
     "iopub.status.busy": "2022-07-22T04:14:08.547711Z",
     "iopub.status.idle": "2022-07-22T04:14:08.568127Z",
     "shell.execute_reply": "2022-07-22T04:14:08.567517Z"
    },
    "papermill": {
     "duration": 1.159142,
     "end_time": "2022-07-22T04:14:08.569525",
     "exception": false,
     "start_time": "2022-07-22T04:14:07.410383",
     "status": "completed"
    },
    "tags": []
   },
   "outputs": [
    {
     "data": {
      "text/plain": [
       "1.0"
      ]
     },
     "metadata": {},
     "output_type": "display_data"
    }
   ],
   "source": [
    "_max_val = gene_corrs_df.max().max()  # this captures the diagonal\n",
    "display(_max_val)\n",
    "assert _max_val <= 1.0"
   ]
  },
  {
   "cell_type": "code",
   "execution_count": 39,
   "id": "96d02c44-1fba-47be-8a93-8f2608420b9c",
   "metadata": {
    "execution": {
     "iopub.execute_input": "2022-07-22T04:14:10.897131Z",
     "iopub.status.busy": "2022-07-22T04:14:10.896896Z",
     "iopub.status.idle": "2022-07-22T04:14:10.913025Z",
     "shell.execute_reply": "2022-07-22T04:14:10.912508Z"
    },
    "papermill": {
     "duration": 1.186103,
     "end_time": "2022-07-22T04:14:10.914370",
     "exception": false,
     "start_time": "2022-07-22T04:14:09.728267",
     "status": "completed"
    },
    "tags": []
   },
   "outputs": [],
   "source": [
    "# check upper triangular values\n",
    "assert len(gene_corrs) == int(genes_chr.shape[0] * (genes_chr.shape[0] - 1) / 2)"
   ]
  },
  {
   "cell_type": "code",
   "execution_count": 40,
   "id": "fe283586-c348-40e0-8841-f6d97bfb021c",
   "metadata": {
    "execution": {
     "iopub.execute_input": "2022-07-22T04:14:13.330347Z",
     "iopub.status.busy": "2022-07-22T04:14:13.330165Z",
     "iopub.status.idle": "2022-07-22T04:14:13.353450Z",
     "shell.execute_reply": "2022-07-22T04:14:13.352885Z"
    },
    "papermill": {
     "duration": 1.202228,
     "end_time": "2022-07-22T04:14:13.355130",
     "exception": false,
     "start_time": "2022-07-22T04:14:12.152902",
     "status": "completed"
    },
    "tags": []
   },
   "outputs": [
    {
     "data": {
      "text/plain": [
       "count    29890.000000\n",
       "mean         0.002865\n",
       "std          0.029495\n",
       "min          0.000000\n",
       "25%          0.000000\n",
       "50%          0.000000\n",
       "75%          0.000000\n",
       "max          0.989064\n",
       "dtype: float64"
      ]
     },
     "execution_count": 40,
     "metadata": {},
     "output_type": "execute_result"
    }
   ],
   "source": [
    "gene_corrs_flat.describe()"
   ]
  },
  {
   "cell_type": "code",
   "execution_count": 41,
   "id": "b3815678-0f93-4b35-897b-a9d047a2aa78",
   "metadata": {
    "execution": {
     "iopub.execute_input": "2022-07-22T04:14:15.690607Z",
     "iopub.status.busy": "2022-07-22T04:14:15.690436Z",
     "iopub.status.idle": "2022-07-22T04:14:15.710227Z",
     "shell.execute_reply": "2022-07-22T04:14:15.708996Z"
    },
    "papermill": {
     "duration": 1.162239,
     "end_time": "2022-07-22T04:14:15.711631",
     "exception": false,
     "start_time": "2022-07-22T04:14:14.549392",
     "status": "completed"
    },
    "tags": []
   },
   "outputs": [
    {
     "data": {
      "text/plain": [
       "0.00    0.000000\n",
       "0.05    0.000000\n",
       "0.10    0.000000\n",
       "0.15    0.000000\n",
       "0.20    0.000000\n",
       "0.25    0.000000\n",
       "0.30    0.000000\n",
       "0.35    0.000000\n",
       "0.40    0.000000\n",
       "0.45    0.000000\n",
       "0.50    0.000000\n",
       "0.55    0.000000\n",
       "0.60    0.000000\n",
       "0.65    0.000000\n",
       "0.70    0.000000\n",
       "0.75    0.000000\n",
       "0.80    0.000000\n",
       "0.85    0.000000\n",
       "0.90    0.000000\n",
       "0.95    0.009551\n",
       "dtype: float64"
      ]
     },
     "metadata": {},
     "output_type": "display_data"
    }
   ],
   "source": [
    "gene_corrs_quantiles = gene_corrs_flat.quantile(np.arange(0, 1, 0.05))\n",
    "display(gene_corrs_quantiles)"
   ]
  },
  {
   "cell_type": "markdown",
   "id": "87134509-b145-4a10-8bc9-b7e914c2b0fa",
   "metadata": {
    "papermill": {
     "duration": 1.143365,
     "end_time": "2022-07-22T04:14:18.008072",
     "exception": false,
     "start_time": "2022-07-22T04:14:16.864707",
     "status": "completed"
    },
    "tags": []
   },
   "source": [
    "## Positive definiteness"
   ]
  },
  {
   "cell_type": "code",
   "execution_count": 42,
   "id": "07d9a9a1-a4f7-48aa-b916-6d42a8cc6186",
   "metadata": {
    "execution": {
     "iopub.execute_input": "2022-07-22T04:14:20.306458Z",
     "iopub.status.busy": "2022-07-22T04:14:20.306266Z",
     "iopub.status.idle": "2022-07-22T04:14:20.338067Z",
     "shell.execute_reply": "2022-07-22T04:14:20.337658Z"
    },
    "papermill": {
     "duration": 1.201675,
     "end_time": "2022-07-22T04:14:20.339284",
     "exception": false,
     "start_time": "2022-07-22T04:14:19.137609",
     "status": "completed"
    },
    "tags": []
   },
   "outputs": [
    {
     "data": {
      "text/plain": [
       "0"
      ]
     },
     "metadata": {},
     "output_type": "display_data"
    },
    {
     "data": {
      "text/plain": [
       "array([], dtype=float64)"
      ]
     },
     "metadata": {},
     "output_type": "display_data"
    }
   ],
   "source": [
    "# print negative eigenvalues\n",
    "eigs = np.linalg.eigvals(gene_corrs_df.to_numpy())\n",
    "display(len(eigs[eigs < 0]))\n",
    "display(eigs[eigs < 0])"
   ]
  },
  {
   "cell_type": "code",
   "execution_count": 43,
   "id": "6e218436-c3c5-4028-8c94-a4fa6260efce",
   "metadata": {
    "execution": {
     "iopub.execute_input": "2022-07-22T04:14:22.728001Z",
     "iopub.status.busy": "2022-07-22T04:14:22.727371Z",
     "iopub.status.idle": "2022-07-22T04:14:22.754823Z",
     "shell.execute_reply": "2022-07-22T04:14:22.754397Z"
    },
    "papermill": {
     "duration": 1.229622,
     "end_time": "2022-07-22T04:14:22.756235",
     "exception": false,
     "start_time": "2022-07-22T04:14:21.526613",
     "status": "completed"
    },
    "tags": []
   },
   "outputs": [
    {
     "name": "stdout",
     "output_type": "stream",
     "text": [
      "Works!\n"
     ]
    }
   ],
   "source": [
    "try:\n",
    "    chol_mat = np.linalg.cholesky(gene_corrs_df.to_numpy())\n",
    "    cov_inv = np.linalg.inv(chol_mat)\n",
    "    print(\"Works!\")\n",
    "except:\n",
    "    print(\"Cholesky decomposition failed\")"
   ]
  },
  {
   "cell_type": "markdown",
   "id": "8e60a080-edb2-4e9c-b2ef-22961693200c",
   "metadata": {
    "papermill": {
     "duration": 1.128523,
     "end_time": "2022-07-22T04:14:25.017194",
     "exception": false,
     "start_time": "2022-07-22T04:14:23.888671",
     "status": "completed"
    },
    "tags": []
   },
   "source": [
    "## Plot: distribution"
   ]
  },
  {
   "cell_type": "code",
   "execution_count": 44,
   "id": "8301126b-a7d4-4744-9c7d-f0f86eb6f54c",
   "metadata": {
    "execution": {
     "iopub.execute_input": "2022-07-22T04:14:27.282317Z",
     "iopub.status.busy": "2022-07-22T04:14:27.282112Z",
     "iopub.status.idle": "2022-07-22T04:14:28.112794Z",
     "shell.execute_reply": "2022-07-22T04:14:28.112327Z"
    },
    "papermill": {
     "duration": 1.967123,
     "end_time": "2022-07-22T04:14:28.114044",
     "exception": false,
     "start_time": "2022-07-22T04:14:26.146921",
     "status": "completed"
    },
    "tags": []
   },
   "outputs": [
    {
     "data": {
      "image/png": "[encoded data removed]",
      "text/plain": [
       "<Figure size 504x504 with 1 Axes>"
      ]
     },
     "metadata": {
      "needs_background": "light"
     },
     "output_type": "display_data"
    }
   ],
   "source": [
    "with sns.plotting_context(\"paper\", font_scale=1.5):\n",
    "    g = sns.displot(gene_corrs_flat, kde=True, height=7)\n",
    "    g.ax.set_title(\n",
    "        f\"Distribution of gene correlation values in chromosome {CHROMOSOME}\"\n",
    "    )"
   ]
  },
  {
   "cell_type": "markdown",
   "id": "cbd52bca-d878-4a2f-b684-5c83aa3038d4",
   "metadata": {
    "papermill": {
     "duration": 1.130691,
     "end_time": "2022-07-22T04:14:30.419799",
     "exception": false,
     "start_time": "2022-07-22T04:14:29.289108",
     "status": "completed"
    },
    "tags": []
   },
   "source": [
    "## Plot: heatmap"
   ]
  },
  {
   "cell_type": "code",
   "execution_count": 45,
   "id": "d03fe63a-c7b2-4fb9-a53c-db362ce843c9",
   "metadata": {
    "execution": {
     "iopub.execute_input": "2022-07-22T04:14:32.733027Z",
     "iopub.status.busy": "2022-07-22T04:14:32.732794Z",
     "iopub.status.idle": "2022-07-22T04:14:32.749329Z",
     "shell.execute_reply": "2022-07-22T04:14:32.748900Z"
    },
    "papermill": {
     "duration": 1.168223,
     "end_time": "2022-07-22T04:14:32.750500",
     "exception": false,
     "start_time": "2022-07-22T04:14:31.582277",
     "status": "completed"
    },
    "tags": []
   },
   "outputs": [
    {
     "data": {
      "text/plain": [
       "'0.0 / 0.05'"
      ]
     },
     "metadata": {},
     "output_type": "display_data"
    }
   ],
   "source": [
    "vmin_val = min(0.00, gene_corrs_quantiles[0.10])\n",
    "vmax_val = max(0.05, gene_corrs_quantiles[0.90])\n",
    "display(f\"{vmin_val} / {vmax_val}\")"
   ]
  },
  {
   "cell_type": "code",
   "execution_count": 46,
   "id": "dc41b70b-5bcc-4d9e-9f33-a22c4a94dab5",
   "metadata": {
    "execution": {
     "iopub.execute_input": "2022-07-22T04:14:35.007298Z",
     "iopub.status.busy": "2022-07-22T04:14:35.007086Z",
     "iopub.status.idle": "2022-07-22T04:14:35.236792Z",
     "shell.execute_reply": "2022-07-22T04:14:35.236329Z"
    },
    "papermill": {
     "duration": 1.358901,
     "end_time": "2022-07-22T04:14:35.238387",
     "exception": false,
     "start_time": "2022-07-22T04:14:33.879486",
     "status": "completed"
    },
    "tags": []
   },
   "outputs": [
    {
     "data": {
      "text/plain": [
       "Text(0.5, 1.0, 'Gene correlations in chromosome 10')"
      ]
     },
     "execution_count": 46,
     "metadata": {},
     "output_type": "execute_result"
    },
    {
     "data": {
      "image/png": "[encoded data removed]",
      "text/plain": [
       "<Figure size 720x720 with 2 Axes>"
      ]
     },
     "metadata": {
      "needs_background": "light"
     },
     "output_type": "display_data"
    }
   ],
   "source": [
    "f, ax = plt.subplots(figsize=(10, 10))\n",
    "sns.heatmap(\n",
    "    gene_corrs_df,\n",
    "    xticklabels=False,\n",
    "    yticklabels=False,\n",
    "    square=True,\n",
    "    vmin=vmin_val,\n",
    "    vmax=vmax_val,\n",
    "    cmap=\"rocket_r\",\n",
    "    ax=ax,\n",
    ")\n",
    "ax.set_title(f\"Gene correlations in chromosome {CHROMOSOME}\")"
   ]
  },
  {
   "cell_type": "code",
   "execution_count": null,
   "id": "b25e3ead",
   "metadata": {
    "papermill": {
     "duration": 1.181204,
     "end_time": "2022-07-22T04:14:37.561736",
     "exception": false,
     "start_time": "2022-07-22T04:14:36.380532",
     "status": "completed"
    },
    "tags": []
   },
   "outputs": [],
   "source": []
  }
 ],
 "metadata": {
  "jupytext": {
   "cell_metadata_filter": "all,-execution,-papermill,-trusted",
   "formats": "ipynb,py//py:percent"
  },
  "kernelspec": {
   "display_name": "Python 3 (ipykernel)",
   "language": "python",
   "name": "python3"
  },
  "language_info": {
   "codemirror_mode": {
    "name": "ipython",
    "version": 3
   },
   "file_extension": ".py",
   "mimetype": "text/x-python",
   "name": "python",
   "nbconvert_exporter": "python",
   "pygments_lexer": "ipython3",
   "version": "3.8.13"
  },
  "papermill": {
   "default_parameters": {},
   "duration": 402.141963,
   "end_time": "2022-07-22T04:14:42.198559",
   "environment_variables": {},
   "exception": null,
   "input_path": "nbs/15_gsa_gls/10-gene_expr_correlations.ipynb",
   "output_path": "nbs/15_gsa_gls/gene_corrs/cohorts/1000g_eur/1000g/mashr/10-gene_expr_correlations-chr10.run.ipynb",
   "parameters": {
    "CHROMOSOME": 10,
    "COHORT_NAME": "1000G_EUR",
    "EQTL_MODEL": "MASHR",
    "REFERENCE_PANEL": "1000G"
   },
   "start_time": "2022-07-22T04:08:00.056596",
   "version": "2.2.2"
  }
 },
 "nbformat": 4,
 "nbformat_minor": 5
}
