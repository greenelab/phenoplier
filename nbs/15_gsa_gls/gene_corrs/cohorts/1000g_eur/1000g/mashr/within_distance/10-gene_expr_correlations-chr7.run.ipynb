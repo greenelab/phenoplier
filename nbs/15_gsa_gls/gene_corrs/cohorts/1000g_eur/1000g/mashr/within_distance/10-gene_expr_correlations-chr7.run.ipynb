{
 "cells": [
  {
   "cell_type": "markdown",
   "id": "7a6632fb",
   "metadata": {
    "papermill": {
     "duration": 0.010816,
     "end_time": "2022-07-22T03:55:28.390039",
     "exception": false,
     "start_time": "2022-07-22T03:55:28.379223",
     "status": "completed"
    },
    "tags": []
   },
   "source": [
    "# Description"
   ]
  },
  {
   "cell_type": "markdown",
   "id": "7097c346",
   "metadata": {
    "papermill": {
     "duration": 0.007536,
     "end_time": "2022-07-22T03:55:28.406241",
     "exception": false,
     "start_time": "2022-07-22T03:55:28.398705",
     "status": "completed"
    },
    "tags": []
   },
   "source": [
    "(Please, take a look at the README.md file in this directory for instructions on how to run this notebook)\n",
    "\n",
    "This notebook computes predicted expression correlations between all genes in the MultiPLIER models.\n",
    "\n",
    "It also has a parameter set for papermill to run on a single chromosome to run in parallel (see under `Settings` below).\n",
    "\n",
    "This notebook is not directly run. See README.md."
   ]
  },
  {
   "cell_type": "markdown",
   "id": "c61d8427",
   "metadata": {
    "papermill": {
     "duration": 0.006529,
     "end_time": "2022-07-22T03:55:28.420133",
     "exception": false,
     "start_time": "2022-07-22T03:55:28.413604",
     "status": "completed"
    },
    "tags": []
   },
   "source": [
    "# Modules"
   ]
  },
  {
   "cell_type": "code",
   "execution_count": 1,
   "id": "bbc0234f",
   "metadata": {
    "execution": {
     "iopub.execute_input": "2022-07-22T03:55:28.435044Z",
     "iopub.status.busy": "2022-07-22T03:55:28.434832Z",
     "iopub.status.idle": "2022-07-22T03:55:28.454098Z",
     "shell.execute_reply": "2022-07-22T03:55:28.453583Z"
    },
    "papermill": {
     "duration": 0.028671,
     "end_time": "2022-07-22T03:55:28.455602",
     "exception": false,
     "start_time": "2022-07-22T03:55:28.426931",
     "status": "completed"
    },
    "tags": []
   },
   "outputs": [],
   "source": [
    "%load_ext autoreload\n",
    "%autoreload 2"
   ]
  },
  {
   "cell_type": "code",
   "execution_count": 2,
   "id": "1d5f5a59",
   "metadata": {
    "execution": {
     "iopub.execute_input": "2022-07-22T03:55:28.497499Z",
     "iopub.status.busy": "2022-07-22T03:55:28.497312Z",
     "iopub.status.idle": "2022-07-22T03:55:29.438889Z",
     "shell.execute_reply": "2022-07-22T03:55:29.438362Z"
    },
    "papermill": {
     "duration": 0.951055,
     "end_time": "2022-07-22T03:55:29.440430",
     "exception": false,
     "start_time": "2022-07-22T03:55:28.489375",
     "status": "completed"
    },
    "tags": []
   },
   "outputs": [],
   "source": [
    "from random import sample, seed\n",
    "import warnings\n",
    "from pathlib import Path\n",
    "import pickle\n",
    "import traceback\n",
    "\n",
    "import numpy as np\n",
    "from scipy.spatial.distance import squareform\n",
    "import pandas as pd\n",
    "from tqdm import tqdm\n",
    "import matplotlib.pyplot as plt\n",
    "import seaborn as sns\n",
    "\n",
    "import conf\n",
    "from entity import Gene"
   ]
  },
  {
   "cell_type": "markdown",
   "id": "1eac24b5",
   "metadata": {
    "papermill": {
     "duration": 0.005603,
     "end_time": "2022-07-22T03:55:29.452113",
     "exception": false,
     "start_time": "2022-07-22T03:55:29.446510",
     "status": "completed"
    },
    "tags": []
   },
   "source": [
    "# Settings"
   ]
  },
  {
   "cell_type": "code",
   "execution_count": 3,
   "id": "ca4560ba",
   "metadata": {
    "execution": {
     "iopub.execute_input": "2022-07-22T03:55:29.464448Z",
     "iopub.status.busy": "2022-07-22T03:55:29.464125Z",
     "iopub.status.idle": "2022-07-22T03:55:29.479590Z",
     "shell.execute_reply": "2022-07-22T03:55:29.479143Z"
    },
    "papermill": {
     "duration": 0.023114,
     "end_time": "2022-07-22T03:55:29.480873",
     "exception": false,
     "start_time": "2022-07-22T03:55:29.457759",
     "status": "completed"
    },
    "tags": [
     "parameters"
    ]
   },
   "outputs": [],
   "source": [
    "# a cohort name (it could be something like UK_BIOBANK, etc)\n",
    "COHORT_NAME = None\n",
    "\n",
    "# reference panel such as 1000G or GTEX_V8\n",
    "REFERENCE_PANEL = None\n",
    "\n",
    "# predictions models such as MASHR or ELASTIC_NET\n",
    "EQTL_MODEL = None\n",
    "\n",
    "# this is the default value used in S-MultiXcan to select the\n",
    "# top principal components of the expression correlation matrix\n",
    "SMULTIXCAN_CONDITION_NUMBER = 30\n",
    "\n",
    "# specifies a single chromosome value\n",
    "CHROMOSOME = None\n",
    "\n",
    "# if True, then it will continue if a gene pair correlation fails,\n",
    "# printing the warning/error for debugging. If False, any warning/error\n",
    "# will be thrown\n",
    "# FIXME: make it False when all is working\n",
    "DEBUG_MODE = True"
   ]
  },
  {
   "cell_type": "code",
   "execution_count": 4,
   "id": "8f8b2ebc",
   "metadata": {
    "execution": {
     "iopub.execute_input": "2022-07-22T03:55:29.494234Z",
     "iopub.status.busy": "2022-07-22T03:55:29.494029Z",
     "iopub.status.idle": "2022-07-22T03:55:29.508234Z",
     "shell.execute_reply": "2022-07-22T03:55:29.507828Z"
    },
    "papermill": {
     "duration": 0.022657,
     "end_time": "2022-07-22T03:55:29.509595",
     "exception": false,
     "start_time": "2022-07-22T03:55:29.486938",
     "status": "completed"
    },
    "tags": [
     "injected-parameters"
    ]
   },
   "outputs": [],
   "source": [
    "# Parameters\n",
    "COHORT_NAME = \"1000G_EUR\"\n",
    "REFERENCE_PANEL = \"1000G\"\n",
    "EQTL_MODEL = \"MASHR\"\n",
    "CHROMOSOME = 7\n"
   ]
  },
  {
   "cell_type": "code",
   "execution_count": 5,
   "id": "3190631f-27fc-480f-b18e-571d580425a5",
   "metadata": {
    "execution": {
     "iopub.execute_input": "2022-07-22T03:55:29.522842Z",
     "iopub.status.busy": "2022-07-22T03:55:29.522639Z",
     "iopub.status.idle": "2022-07-22T03:55:29.539001Z",
     "shell.execute_reply": "2022-07-22T03:55:29.538607Z"
    },
    "papermill": {
     "duration": 0.024309,
     "end_time": "2022-07-22T03:55:29.540257",
     "exception": false,
     "start_time": "2022-07-22T03:55:29.515948",
     "status": "completed"
    },
    "tags": []
   },
   "outputs": [
    {
     "data": {
      "text/plain": [
       "'Cohort name: 1000g_eur'"
      ]
     },
     "metadata": {},
     "output_type": "display_data"
    }
   ],
   "source": [
    "assert COHORT_NAME is not None or len(COHORT_NAME) == 0, \"A cohort name must be given\"\n",
    "\n",
    "COHORT_NAME = COHORT_NAME.lower()\n",
    "display(f\"Cohort name: {COHORT_NAME}\")"
   ]
  },
  {
   "cell_type": "code",
   "execution_count": 6,
   "id": "f53ba19b-0f93-4fa2-a047-63b375939d1a",
   "metadata": {
    "execution": {
     "iopub.execute_input": "2022-07-22T03:55:29.553859Z",
     "iopub.status.busy": "2022-07-22T03:55:29.553561Z",
     "iopub.status.idle": "2022-07-22T03:55:29.570946Z",
     "shell.execute_reply": "2022-07-22T03:55:29.570438Z"
    },
    "papermill": {
     "duration": 0.025584,
     "end_time": "2022-07-22T03:55:29.572314",
     "exception": false,
     "start_time": "2022-07-22T03:55:29.546730",
     "status": "completed"
    },
    "tags": []
   },
   "outputs": [
    {
     "data": {
      "text/plain": [
       "'Reference panel: 1000G'"
      ]
     },
     "metadata": {},
     "output_type": "display_data"
    }
   ],
   "source": [
    "assert (\n",
    "    REFERENCE_PANEL is not None or len(REFERENCE_PANEL) == 0\n",
    "), \"A reference panel must be given\"\n",
    "\n",
    "display(f\"Reference panel: {REFERENCE_PANEL}\")"
   ]
  },
  {
   "cell_type": "code",
   "execution_count": 7,
   "id": "e024d130-c139-429a-9c6e-ccf149e297b0",
   "metadata": {
    "execution": {
     "iopub.execute_input": "2022-07-22T03:55:29.586118Z",
     "iopub.status.busy": "2022-07-22T03:55:29.585949Z",
     "iopub.status.idle": "2022-07-22T03:55:29.604144Z",
     "shell.execute_reply": "2022-07-22T03:55:29.603608Z"
    },
    "papermill": {
     "duration": 0.026636,
     "end_time": "2022-07-22T03:55:29.605490",
     "exception": false,
     "start_time": "2022-07-22T03:55:29.578854",
     "status": "completed"
    },
    "tags": []
   },
   "outputs": [
    {
     "data": {
      "text/plain": [
       "'eQTL model: MASHR) / mashr_'"
      ]
     },
     "metadata": {},
     "output_type": "display_data"
    }
   ],
   "source": [
    "assert (\n",
    "    EQTL_MODEL is not None or len(EQTL_MODEL) == 0\n",
    "), \"A prediction/eQTL model must be given\"\n",
    "\n",
    "EQTL_MODEL_FILES_PREFIX = conf.PHENOMEXCAN[\"PREDICTION_MODELS\"][f\"{EQTL_MODEL}_PREFIX\"]\n",
    "display(f\"eQTL model: {EQTL_MODEL}) / {EQTL_MODEL_FILES_PREFIX}\")"
   ]
  },
  {
   "cell_type": "code",
   "execution_count": 8,
   "id": "552a7f63-a18c-4d3e-bb6a-94f99b431291",
   "metadata": {
    "execution": {
     "iopub.execute_input": "2022-07-22T03:55:29.619562Z",
     "iopub.status.busy": "2022-07-22T03:55:29.619391Z",
     "iopub.status.idle": "2022-07-22T03:55:29.634913Z",
     "shell.execute_reply": "2022-07-22T03:55:29.634477Z"
    },
    "papermill": {
     "duration": 0.024028,
     "end_time": "2022-07-22T03:55:29.636208",
     "exception": false,
     "start_time": "2022-07-22T03:55:29.612180",
     "status": "completed"
    },
    "tags": []
   },
   "outputs": [
    {
     "data": {
      "text/plain": [
       "'S-MultiXcan condition number: 30'"
      ]
     },
     "metadata": {},
     "output_type": "display_data"
    }
   ],
   "source": [
    "assert (\n",
    "    SMULTIXCAN_CONDITION_NUMBER is not None or SMULTIXCAN_CONDITION_NUMBER > 0\n",
    "), \"The S-MultiXcan condition number (positive integer) must be given\"\n",
    "\n",
    "display(f\"S-MultiXcan condition number: {SMULTIXCAN_CONDITION_NUMBER}\")"
   ]
  },
  {
   "cell_type": "code",
   "execution_count": 9,
   "id": "f34a336f-548e-4afe-8955-90eaea4f42c6",
   "metadata": {
    "execution": {
     "iopub.execute_input": "2022-07-22T03:55:29.650210Z",
     "iopub.status.busy": "2022-07-22T03:55:29.649990Z",
     "iopub.status.idle": "2022-07-22T03:55:29.665800Z",
     "shell.execute_reply": "2022-07-22T03:55:29.665321Z"
    },
    "papermill": {
     "duration": 0.024216,
     "end_time": "2022-07-22T03:55:29.667071",
     "exception": false,
     "start_time": "2022-07-22T03:55:29.642855",
     "status": "completed"
    },
    "tags": []
   },
   "outputs": [
    {
     "data": {
      "text/plain": [
       "'Working on chromosome 7'"
      ]
     },
     "metadata": {},
     "output_type": "display_data"
    }
   ],
   "source": [
    "assert CHROMOSOME is not None and (\n",
    "    1 <= CHROMOSOME <= 22\n",
    "), \"You have to select one chromosome (format: number between 1 and 22)\"\n",
    "\n",
    "CHROMOSOME = str(CHROMOSOME)\n",
    "display(f\"Working on chromosome {CHROMOSOME}\")"
   ]
  },
  {
   "cell_type": "code",
   "execution_count": 10,
   "id": "ab8e96e8-06b5-4363-9dcd-dc4d78cc27f7",
   "metadata": {
    "execution": {
     "iopub.execute_input": "2022-07-22T03:55:29.681455Z",
     "iopub.status.busy": "2022-07-22T03:55:29.681193Z",
     "iopub.status.idle": "2022-07-22T03:55:29.696500Z",
     "shell.execute_reply": "2022-07-22T03:55:29.696056Z"
    },
    "papermill": {
     "duration": 0.023833,
     "end_time": "2022-07-22T03:55:29.697744",
     "exception": false,
     "start_time": "2022-07-22T03:55:29.673911",
     "status": "completed"
    },
    "tags": []
   },
   "outputs": [
    {
     "data": {
      "text/plain": [
       "'Compute correlation within distance True'"
      ]
     },
     "metadata": {},
     "output_type": "display_data"
    }
   ],
   "source": [
    "# TODO: see if this is necessary; if so, make it a parameter with default value True\n",
    "# This parameter, if True, computes the correlation between closeby genes only\n",
    "\n",
    "COMPUTE_CORRELATIONS_WITHIN_DISTANCE = True\n",
    "display(f\"Compute correlation within distance {COMPUTE_CORRELATIONS_WITHIN_DISTANCE}\")"
   ]
  },
  {
   "cell_type": "code",
   "execution_count": 11,
   "id": "396392dc-0340-4540-9b02-e182b833f909",
   "metadata": {
    "execution": {
     "iopub.execute_input": "2022-07-22T03:55:29.711510Z",
     "iopub.status.busy": "2022-07-22T03:55:29.711320Z",
     "iopub.status.idle": "2022-07-22T03:55:29.725895Z",
     "shell.execute_reply": "2022-07-22T03:55:29.725499Z"
    },
    "papermill": {
     "duration": 0.02266,
     "end_time": "2022-07-22T03:55:29.727091",
     "exception": false,
     "start_time": "2022-07-22T03:55:29.704431",
     "status": "completed"
    },
    "tags": []
   },
   "outputs": [
    {
     "data": {
      "text/plain": [
       "'Using output dir base: /opt/data/results/gls/gene_corrs/cohorts/1000g_eur/1000g/mashr'"
      ]
     },
     "metadata": {},
     "output_type": "display_data"
    }
   ],
   "source": [
    "OUTPUT_DIR_BASE = (\n",
    "    conf.RESULTS[\"GLS\"]\n",
    "    / \"gene_corrs\"\n",
    "    / \"cohorts\"\n",
    "    / COHORT_NAME\n",
    "    / REFERENCE_PANEL.lower()\n",
    "    / EQTL_MODEL.lower()\n",
    ")\n",
    "OUTPUT_DIR_BASE.mkdir(parents=True, exist_ok=True)\n",
    "\n",
    "display(f\"Using output dir base: {OUTPUT_DIR_BASE}\")"
   ]
  },
  {
   "cell_type": "code",
   "execution_count": 12,
   "id": "974b4bb1-aa98-4e30-b221-7cd034ad3833",
   "metadata": {
    "execution": {
     "iopub.execute_input": "2022-07-22T03:55:29.741282Z",
     "iopub.status.busy": "2022-07-22T03:55:29.740771Z",
     "iopub.status.idle": "2022-07-22T03:55:29.755454Z",
     "shell.execute_reply": "2022-07-22T03:55:29.755051Z"
    },
    "papermill": {
     "duration": 0.02291,
     "end_time": "2022-07-22T03:55:29.756623",
     "exception": false,
     "start_time": "2022-07-22T03:55:29.733713",
     "status": "completed"
    },
    "tags": []
   },
   "outputs": [
    {
     "data": {
      "text/plain": [
       "PosixPath('/opt/data/results/gls/gene_corrs/cohorts/1000g_eur')"
      ]
     },
     "metadata": {},
     "output_type": "display_data"
    }
   ],
   "source": [
    "INPUT_DIR = conf.RESULTS[\"GLS\"] / \"gene_corrs\" / \"cohorts\" / COHORT_NAME\n",
    "assert INPUT_DIR.exists()\n",
    "\n",
    "display(INPUT_DIR)"
   ]
  },
  {
   "cell_type": "markdown",
   "id": "d2ba085e",
   "metadata": {
    "papermill": {
     "duration": 0.006759,
     "end_time": "2022-07-22T03:55:29.770187",
     "exception": false,
     "start_time": "2022-07-22T03:55:29.763428",
     "status": "completed"
    },
    "tags": []
   },
   "source": [
    "# Load data"
   ]
  },
  {
   "cell_type": "markdown",
   "id": "7dcb8db7",
   "metadata": {
    "papermill": {
     "duration": 0.006819,
     "end_time": "2022-07-22T03:55:29.783886",
     "exception": false,
     "start_time": "2022-07-22T03:55:29.777067",
     "status": "completed"
    },
    "tags": []
   },
   "source": [
    "## GWAS variants"
   ]
  },
  {
   "cell_type": "code",
   "execution_count": 13,
   "id": "29434c4e-8cd3-4b9b-82e4-b5a251d9dd19",
   "metadata": {
    "execution": {
     "iopub.execute_input": "2022-07-22T03:55:29.798406Z",
     "iopub.status.busy": "2022-07-22T03:55:29.798079Z",
     "iopub.status.idle": "2022-07-22T03:55:32.370610Z",
     "shell.execute_reply": "2022-07-22T03:55:32.370142Z"
    },
    "papermill": {
     "duration": 2.581504,
     "end_time": "2022-07-22T03:55:32.372181",
     "exception": false,
     "start_time": "2022-07-22T03:55:29.790677",
     "status": "completed"
    },
    "tags": []
   },
   "outputs": [],
   "source": [
    "with open(INPUT_DIR / \"gwas_variant_ids.pkl\", \"rb\") as handle:\n",
    "    gwas_variants_ids_set = pickle.load(handle)"
   ]
  },
  {
   "cell_type": "code",
   "execution_count": 14,
   "id": "b9d9dec2-4a76-4bf9-bde2-e24c95acb8a0",
   "metadata": {
    "execution": {
     "iopub.execute_input": "2022-07-22T03:55:32.388911Z",
     "iopub.status.busy": "2022-07-22T03:55:32.388685Z",
     "iopub.status.idle": "2022-07-22T03:55:32.412182Z",
     "shell.execute_reply": "2022-07-22T03:55:32.411625Z"
    },
    "papermill": {
     "duration": 0.033985,
     "end_time": "2022-07-22T03:55:32.414171",
     "exception": false,
     "start_time": "2022-07-22T03:55:32.380186",
     "status": "completed"
    },
    "tags": []
   },
   "outputs": [
    {
     "data": {
      "text/plain": [
       "8339505"
      ]
     },
     "execution_count": 14,
     "metadata": {},
     "output_type": "execute_result"
    }
   ],
   "source": [
    "len(gwas_variants_ids_set)"
   ]
  },
  {
   "cell_type": "code",
   "execution_count": 15,
   "id": "4235b06a-6034-4ee4-a0a3-2ae35d122418",
   "metadata": {
    "execution": {
     "iopub.execute_input": "2022-07-22T03:55:32.433206Z",
     "iopub.status.busy": "2022-07-22T03:55:32.432994Z",
     "iopub.status.idle": "2022-07-22T03:55:32.908191Z",
     "shell.execute_reply": "2022-07-22T03:55:32.907738Z"
    },
    "papermill": {
     "duration": 0.485215,
     "end_time": "2022-07-22T03:55:32.909611",
     "exception": false,
     "start_time": "2022-07-22T03:55:32.424396",
     "status": "completed"
    },
    "tags": []
   },
   "outputs": [
    {
     "data": {
      "text/plain": [
       "['chr10_45078185_TG_T_b38',\n",
       " 'chr8_59584673_T_G_b38',\n",
       " 'chr16_17757574_A_C_b38',\n",
       " 'chr5_4351429_G_A_b38',\n",
       " 'chr5_14216235_G_C_b38']"
      ]
     },
     "execution_count": 15,
     "metadata": {},
     "output_type": "execute_result"
    }
   ],
   "source": [
    "list(gwas_variants_ids_set)[:5]"
   ]
  },
  {
   "cell_type": "markdown",
   "id": "07866999-2305-41f9-a144-e69c9122c212",
   "metadata": {
    "papermill": {
     "duration": 0.007801,
     "end_time": "2022-07-22T03:55:32.925620",
     "exception": false,
     "start_time": "2022-07-22T03:55:32.917819",
     "status": "completed"
    },
    "tags": []
   },
   "source": [
    "## S-PrediXcan tissue models"
   ]
  },
  {
   "cell_type": "code",
   "execution_count": 16,
   "id": "780611d9-77c8-405f-90a4-f271f7b09397",
   "metadata": {
    "execution": {
     "iopub.execute_input": "2022-07-22T03:55:32.942299Z",
     "iopub.status.busy": "2022-07-22T03:55:32.942085Z",
     "iopub.status.idle": "2022-07-22T03:55:33.701281Z",
     "shell.execute_reply": "2022-07-22T03:55:33.700863Z"
    },
    "papermill": {
     "duration": 0.768985,
     "end_time": "2022-07-22T03:55:33.702694",
     "exception": false,
     "start_time": "2022-07-22T03:55:32.933709",
     "status": "completed"
    },
    "tags": []
   },
   "outputs": [],
   "source": [
    "spredixcan_genes_models = pd.read_pickle(INPUT_DIR / \"gene_tissues.pkl\").set_index(\n",
    "    \"gene_id\"\n",
    ")"
   ]
  },
  {
   "cell_type": "code",
   "execution_count": 17,
   "id": "726dd1f6-9557-4225-91fa-b3b879ea96e1",
   "metadata": {
    "execution": {
     "iopub.execute_input": "2022-07-22T03:55:33.717397Z",
     "iopub.status.busy": "2022-07-22T03:55:33.717187Z",
     "iopub.status.idle": "2022-07-22T03:55:33.731315Z",
     "shell.execute_reply": "2022-07-22T03:55:33.730909Z"
    },
    "papermill": {
     "duration": 0.022652,
     "end_time": "2022-07-22T03:55:33.732475",
     "exception": false,
     "start_time": "2022-07-22T03:55:33.709823",
     "status": "completed"
    },
    "tags": []
   },
   "outputs": [
    {
     "data": {
      "text/plain": [
       "(22314, 2)"
      ]
     },
     "execution_count": 17,
     "metadata": {},
     "output_type": "execute_result"
    }
   ],
   "source": [
    "spredixcan_genes_models.shape"
   ]
  },
  {
   "cell_type": "code",
   "execution_count": 18,
   "id": "944a1b48-222c-4eb0-b252-b9de2cbca215",
   "metadata": {
    "execution": {
     "iopub.execute_input": "2022-07-22T03:55:33.747277Z",
     "iopub.status.busy": "2022-07-22T03:55:33.747077Z",
     "iopub.status.idle": "2022-07-22T03:55:33.768400Z",
     "shell.execute_reply": "2022-07-22T03:55:33.767005Z"
    },
    "papermill": {
     "duration": 0.030301,
     "end_time": "2022-07-22T03:55:33.769766",
     "exception": false,
     "start_time": "2022-07-22T03:55:33.739465",
     "status": "completed"
    },
    "tags": []
   },
   "outputs": [
    {
     "data": {
      "text/html": [
       "<div>\n",
       "<style scoped>\n",
       "    .dataframe tbody tr th:only-of-type {\n",
       "        vertical-align: middle;\n",
       "    }\n",
       "\n",
       "    .dataframe tbody tr th {\n",
       "        vertical-align: top;\n",
       "    }\n",
       "\n",
       "    .dataframe thead th {\n",
       "        text-align: right;\n",
       "    }\n",
       "</style>\n",
       "<table border=\"1\" class=\"dataframe\">\n",
       "  <thead>\n",
       "    <tr style=\"text-align: right;\">\n",
       "      <th></th>\n",
       "      <th>gene_name</th>\n",
       "      <th>tissue</th>\n",
       "    </tr>\n",
       "    <tr>\n",
       "      <th>gene_id</th>\n",
       "      <th></th>\n",
       "      <th></th>\n",
       "    </tr>\n",
       "  </thead>\n",
       "  <tbody>\n",
       "    <tr>\n",
       "      <th>ENSG00000000419</th>\n",
       "      <td>DPM1</td>\n",
       "      <td>(Brain_Hypothalamus, Brain_Substantia_nigra)</td>\n",
       "    </tr>\n",
       "    <tr>\n",
       "      <th>ENSG00000000457</th>\n",
       "      <td>SCYL3</td>\n",
       "      <td>(Esophagus_Gastroesophageal_Junction, Brain_Fr...</td>\n",
       "    </tr>\n",
       "    <tr>\n",
       "      <th>ENSG00000000460</th>\n",
       "      <td>C1orf112</td>\n",
       "      <td>(Esophagus_Gastroesophageal_Junction, Ovary, B...</td>\n",
       "    </tr>\n",
       "    <tr>\n",
       "      <th>ENSG00000000938</th>\n",
       "      <td>FGR</td>\n",
       "      <td>(Esophagus_Gastroesophageal_Junction, Brain_Fr...</td>\n",
       "    </tr>\n",
       "    <tr>\n",
       "      <th>ENSG00000000971</th>\n",
       "      <td>CFH</td>\n",
       "      <td>(Esophagus_Gastroesophageal_Junction, Ovary, B...</td>\n",
       "    </tr>\n",
       "  </tbody>\n",
       "</table>\n",
       "</div>"
      ],
      "text/plain": [
       "                gene_name                                             tissue\n",
       "gene_id                                                                     \n",
       "ENSG00000000419      DPM1       (Brain_Hypothalamus, Brain_Substantia_nigra)\n",
       "ENSG00000000457     SCYL3  (Esophagus_Gastroesophageal_Junction, Brain_Fr...\n",
       "ENSG00000000460  C1orf112  (Esophagus_Gastroesophageal_Junction, Ovary, B...\n",
       "ENSG00000000938       FGR  (Esophagus_Gastroesophageal_Junction, Brain_Fr...\n",
       "ENSG00000000971       CFH  (Esophagus_Gastroesophageal_Junction, Ovary, B..."
      ]
     },
     "execution_count": 18,
     "metadata": {},
     "output_type": "execute_result"
    }
   ],
   "source": [
    "spredixcan_genes_models.head()"
   ]
  },
  {
   "cell_type": "code",
   "execution_count": 19,
   "id": "d1c11bb1-be0b-4f40-b360-633d6827109f",
   "metadata": {
    "execution": {
     "iopub.execute_input": "2022-07-22T03:55:33.786469Z",
     "iopub.status.busy": "2022-07-22T03:55:33.786261Z",
     "iopub.status.idle": "2022-07-22T03:55:33.802809Z",
     "shell.execute_reply": "2022-07-22T03:55:33.802434Z"
    },
    "papermill": {
     "duration": 0.027139,
     "end_time": "2022-07-22T03:55:33.804142",
     "exception": false,
     "start_time": "2022-07-22T03:55:33.777003",
     "status": "completed"
    },
    "tags": []
   },
   "outputs": [],
   "source": [
    "assert spredixcan_genes_models.index.is_unique"
   ]
  },
  {
   "cell_type": "markdown",
   "id": "6caf9d10-eda8-4ad2-8811-a983aa77a25a",
   "metadata": {
    "papermill": {
     "duration": 0.007682,
     "end_time": "2022-07-22T03:55:33.819519",
     "exception": false,
     "start_time": "2022-07-22T03:55:33.811837",
     "status": "completed"
    },
    "tags": []
   },
   "source": [
    "## Get common genes"
   ]
  },
  {
   "cell_type": "code",
   "execution_count": 20,
   "id": "f8d1e317-1cc8-4bdf-bbe9-c3b0a5478359",
   "metadata": {
    "execution": {
     "iopub.execute_input": "2022-07-22T03:55:33.835868Z",
     "iopub.status.busy": "2022-07-22T03:55:33.835647Z",
     "iopub.status.idle": "2022-07-22T03:55:33.851841Z",
     "shell.execute_reply": "2022-07-22T03:55:33.851399Z"
    },
    "papermill": {
     "duration": 0.025956,
     "end_time": "2022-07-22T03:55:33.853177",
     "exception": false,
     "start_time": "2022-07-22T03:55:33.827221",
     "status": "completed"
    },
    "tags": []
   },
   "outputs": [],
   "source": [
    "with open(INPUT_DIR / \"common_genes.pkl\", \"rb\") as handle:\n",
    "    common_genes = pickle.load(handle)"
   ]
  },
  {
   "cell_type": "code",
   "execution_count": 21,
   "id": "ce9506aa-2f38-4e46-b9c2-84d750fac0da",
   "metadata": {
    "execution": {
     "iopub.execute_input": "2022-07-22T03:55:33.869614Z",
     "iopub.status.busy": "2022-07-22T03:55:33.869420Z",
     "iopub.status.idle": "2022-07-22T03:55:33.885515Z",
     "shell.execute_reply": "2022-07-22T03:55:33.885094Z"
    },
    "papermill": {
     "duration": 0.025637,
     "end_time": "2022-07-22T03:55:33.886898",
     "exception": false,
     "start_time": "2022-07-22T03:55:33.861261",
     "status": "completed"
    },
    "tags": []
   },
   "outputs": [
    {
     "data": {
      "text/plain": [
       "6444"
      ]
     },
     "execution_count": 21,
     "metadata": {},
     "output_type": "execute_result"
    }
   ],
   "source": [
    "len(common_genes)"
   ]
  },
  {
   "cell_type": "code",
   "execution_count": 22,
   "id": "f525a698-506a-48e0-9aee-1aca62def5dd",
   "metadata": {
    "execution": {
     "iopub.execute_input": "2022-07-22T03:55:33.902579Z",
     "iopub.status.busy": "2022-07-22T03:55:33.902419Z",
     "iopub.status.idle": "2022-07-22T03:55:33.921286Z",
     "shell.execute_reply": "2022-07-22T03:55:33.920861Z"
    },
    "papermill": {
     "duration": 0.028264,
     "end_time": "2022-07-22T03:55:33.922779",
     "exception": false,
     "start_time": "2022-07-22T03:55:33.894515",
     "status": "completed"
    },
    "tags": []
   },
   "outputs": [
    {
     "data": {
      "text/plain": [
       "['A2M', 'AAAS', 'AANAT', 'AARS', 'AARS2']"
      ]
     },
     "execution_count": 22,
     "metadata": {},
     "output_type": "execute_result"
    }
   ],
   "source": [
    "sorted(list(common_genes))[:5]"
   ]
  },
  {
   "cell_type": "markdown",
   "id": "a5b5092c-a13e-47c4-a92a-480fcc08f3ae",
   "metadata": {
    "papermill": {
     "duration": 0.007644,
     "end_time": "2022-07-22T03:55:33.938651",
     "exception": false,
     "start_time": "2022-07-22T03:55:33.931007",
     "status": "completed"
    },
    "tags": []
   },
   "source": [
    "## Gene info"
   ]
  },
  {
   "cell_type": "code",
   "execution_count": 23,
   "id": "7d6bb224-88e9-4358-ac10-43a41d92cdad",
   "metadata": {
    "execution": {
     "iopub.execute_input": "2022-07-22T03:55:33.957063Z",
     "iopub.status.busy": "2022-07-22T03:55:33.956863Z",
     "iopub.status.idle": "2022-07-22T03:55:33.978733Z",
     "shell.execute_reply": "2022-07-22T03:55:33.978128Z"
    },
    "papermill": {
     "duration": 0.033565,
     "end_time": "2022-07-22T03:55:33.980583",
     "exception": false,
     "start_time": "2022-07-22T03:55:33.947018",
     "status": "completed"
    },
    "tags": []
   },
   "outputs": [],
   "source": [
    "genes_info = pd.read_pickle(INPUT_DIR / \"genes_info.pkl\")"
   ]
  },
  {
   "cell_type": "code",
   "execution_count": 24,
   "id": "9e32abfa-546d-483e-8c18-d526e9e05903",
   "metadata": {
    "execution": {
     "iopub.execute_input": "2022-07-22T03:55:33.999640Z",
     "iopub.status.busy": "2022-07-22T03:55:33.999382Z",
     "iopub.status.idle": "2022-07-22T03:55:34.016891Z",
     "shell.execute_reply": "2022-07-22T03:55:34.016350Z"
    },
    "papermill": {
     "duration": 0.028828,
     "end_time": "2022-07-22T03:55:34.018454",
     "exception": false,
     "start_time": "2022-07-22T03:55:33.989626",
     "status": "completed"
    },
    "tags": []
   },
   "outputs": [
    {
     "data": {
      "text/plain": [
       "(6444, 7)"
      ]
     },
     "execution_count": 24,
     "metadata": {},
     "output_type": "execute_result"
    }
   ],
   "source": [
    "genes_info.shape"
   ]
  },
  {
   "cell_type": "code",
   "execution_count": 25,
   "id": "d16c3e92-85ec-468a-9a56-e25a9774a1cb",
   "metadata": {
    "execution": {
     "iopub.execute_input": "2022-07-22T03:55:34.037728Z",
     "iopub.status.busy": "2022-07-22T03:55:34.037488Z",
     "iopub.status.idle": "2022-07-22T03:55:34.061378Z",
     "shell.execute_reply": "2022-07-22T03:55:34.060834Z"
    },
    "papermill": {
     "duration": 0.035433,
     "end_time": "2022-07-22T03:55:34.063117",
     "exception": false,
     "start_time": "2022-07-22T03:55:34.027684",
     "status": "completed"
    },
    "tags": []
   },
   "outputs": [
    {
     "data": {
      "text/html": [
       "<div>\n",
       "<style scoped>\n",
       "    .dataframe tbody tr th:only-of-type {\n",
       "        vertical-align: middle;\n",
       "    }\n",
       "\n",
       "    .dataframe tbody tr th {\n",
       "        vertical-align: top;\n",
       "    }\n",
       "\n",
       "    .dataframe thead th {\n",
       "        text-align: right;\n",
       "    }\n",
       "</style>\n",
       "<table border=\"1\" class=\"dataframe\">\n",
       "  <thead>\n",
       "    <tr style=\"text-align: right;\">\n",
       "      <th></th>\n",
       "      <th>name</th>\n",
       "      <th>id</th>\n",
       "      <th>chr</th>\n",
       "      <th>band</th>\n",
       "      <th>start_position</th>\n",
       "      <th>end_position</th>\n",
       "      <th>gene_length</th>\n",
       "    </tr>\n",
       "  </thead>\n",
       "  <tbody>\n",
       "    <tr>\n",
       "      <th>0</th>\n",
       "      <td>MFN2</td>\n",
       "      <td>ENSG00000116688</td>\n",
       "      <td>1</td>\n",
       "      <td>1p36.22</td>\n",
       "      <td>11980181.0</td>\n",
       "      <td>12013514.0</td>\n",
       "      <td>33333.0</td>\n",
       "    </tr>\n",
       "    <tr>\n",
       "      <th>1</th>\n",
       "      <td>PPA2</td>\n",
       "      <td>ENSG00000138777</td>\n",
       "      <td>4</td>\n",
       "      <td>4q24</td>\n",
       "      <td>105369077.0</td>\n",
       "      <td>105474067.0</td>\n",
       "      <td>104990.0</td>\n",
       "    </tr>\n",
       "    <tr>\n",
       "      <th>2</th>\n",
       "      <td>ADRA2A</td>\n",
       "      <td>ENSG00000150594</td>\n",
       "      <td>10</td>\n",
       "      <td>10q25.2</td>\n",
       "      <td>111077163.0</td>\n",
       "      <td>111080907.0</td>\n",
       "      <td>3744.0</td>\n",
       "    </tr>\n",
       "    <tr>\n",
       "      <th>3</th>\n",
       "      <td>RYR2</td>\n",
       "      <td>ENSG00000198626</td>\n",
       "      <td>1</td>\n",
       "      <td>1q43</td>\n",
       "      <td>237042184.0</td>\n",
       "      <td>237833988.0</td>\n",
       "      <td>791804.0</td>\n",
       "    </tr>\n",
       "    <tr>\n",
       "      <th>4</th>\n",
       "      <td>VAV2</td>\n",
       "      <td>ENSG00000160293</td>\n",
       "      <td>9</td>\n",
       "      <td>9q34.2</td>\n",
       "      <td>133761894.0</td>\n",
       "      <td>133992604.0</td>\n",
       "      <td>230710.0</td>\n",
       "    </tr>\n",
       "  </tbody>\n",
       "</table>\n",
       "</div>"
      ],
      "text/plain": [
       "     name               id chr     band  start_position  end_position  \\\n",
       "0    MFN2  ENSG00000116688   1  1p36.22      11980181.0    12013514.0   \n",
       "1    PPA2  ENSG00000138777   4     4q24     105369077.0   105474067.0   \n",
       "2  ADRA2A  ENSG00000150594  10  10q25.2     111077163.0   111080907.0   \n",
       "3    RYR2  ENSG00000198626   1     1q43     237042184.0   237833988.0   \n",
       "4    VAV2  ENSG00000160293   9   9q34.2     133761894.0   133992604.0   \n",
       "\n",
       "   gene_length  \n",
       "0      33333.0  \n",
       "1     104990.0  \n",
       "2       3744.0  \n",
       "3     791804.0  \n",
       "4     230710.0  "
      ]
     },
     "execution_count": 25,
     "metadata": {},
     "output_type": "execute_result"
    }
   ],
   "source": [
    "genes_info.head()"
   ]
  },
  {
   "cell_type": "markdown",
   "id": "d3843e06",
   "metadata": {
    "papermill": {
     "duration": 0.009568,
     "end_time": "2022-07-22T03:55:34.082576",
     "exception": false,
     "start_time": "2022-07-22T03:55:34.073008",
     "status": "completed"
    },
    "tags": []
   },
   "source": [
    "# Compute correlations"
   ]
  },
  {
   "cell_type": "code",
   "execution_count": 26,
   "id": "cb859c15-d1f3-4006-a74c-2b83c0db9611",
   "metadata": {
    "execution": {
     "iopub.execute_input": "2022-07-22T03:55:34.102888Z",
     "iopub.status.busy": "2022-07-22T03:55:34.102305Z",
     "iopub.status.idle": "2022-07-22T03:55:34.120374Z",
     "shell.execute_reply": "2022-07-22T03:55:34.119842Z"
    },
    "papermill": {
     "duration": 0.029843,
     "end_time": "2022-07-22T03:55:34.121982",
     "exception": false,
     "start_time": "2022-07-22T03:55:34.092139",
     "status": "completed"
    },
    "tags": []
   },
   "outputs": [
    {
     "data": {
      "text/plain": [
       "PosixPath('/opt/data/results/gls/gene_corrs/cohorts/1000g_eur/1000g/mashr/by_chr/gene_corrs-chr7.pkl')"
      ]
     },
     "metadata": {},
     "output_type": "display_data"
    }
   ],
   "source": [
    "output_dir = OUTPUT_DIR_BASE / \"by_chr\"\n",
    "output_dir.mkdir(exist_ok=True, parents=True)\n",
    "output_file = output_dir / f\"gene_corrs-chr{CHROMOSOME}.pkl\"\n",
    "display(output_file)"
   ]
  },
  {
   "cell_type": "code",
   "execution_count": 27,
   "id": "aa674fe4-6794-4eed-98fa-32b39d1d4ace",
   "metadata": {
    "execution": {
     "iopub.execute_input": "2022-07-22T03:55:34.142019Z",
     "iopub.status.busy": "2022-07-22T03:55:34.141654Z",
     "iopub.status.idle": "2022-07-22T03:55:34.158227Z",
     "shell.execute_reply": "2022-07-22T03:55:34.157713Z"
    },
    "papermill": {
     "duration": 0.028345,
     "end_time": "2022-07-22T03:55:34.159844",
     "exception": false,
     "start_time": "2022-07-22T03:55:34.131499",
     "status": "completed"
    },
    "tags": []
   },
   "outputs": [],
   "source": [
    "warnings.filterwarnings(\"error\")"
   ]
  },
  {
   "cell_type": "code",
   "execution_count": 28,
   "id": "44d5450b-3baf-43f1-9e2e-4b06f1a785f8",
   "metadata": {
    "execution": {
     "iopub.execute_input": "2022-07-22T03:55:34.180023Z",
     "iopub.status.busy": "2022-07-22T03:55:34.179645Z",
     "iopub.status.idle": "2022-07-22T03:55:34.197764Z",
     "shell.execute_reply": "2022-07-22T03:55:34.197284Z"
    },
    "papermill": {
     "duration": 0.030002,
     "end_time": "2022-07-22T03:55:34.199387",
     "exception": false,
     "start_time": "2022-07-22T03:55:34.169385",
     "status": "completed"
    },
    "tags": []
   },
   "outputs": [],
   "source": [
    "# standard checks\n",
    "all_chrs = genes_info[\"chr\"].dropna().unique()\n",
    "assert all_chrs.shape[0] == 22\n",
    "\n",
    "# select chromosome given by the user\n",
    "assert CHROMOSOME in all_chrs"
   ]
  },
  {
   "cell_type": "code",
   "execution_count": 29,
   "id": "2d7c043c-92a7-4d35-991b-fa69ac1e0268",
   "metadata": {
    "execution": {
     "iopub.execute_input": "2022-07-22T03:55:34.219703Z",
     "iopub.status.busy": "2022-07-22T03:55:34.219443Z",
     "iopub.status.idle": "2022-07-22T03:55:34.239542Z",
     "shell.execute_reply": "2022-07-22T03:55:34.239003Z"
    },
    "papermill": {
     "duration": 0.032116,
     "end_time": "2022-07-22T03:55:34.241198",
     "exception": false,
     "start_time": "2022-07-22T03:55:34.209082",
     "status": "completed"
    },
    "tags": []
   },
   "outputs": [
    {
     "name": "stdout",
     "output_type": "stream",
     "text": [
      "Number of genes in chromosome: 281\n"
     ]
    }
   ],
   "source": [
    "# run only on the chromosome specified\n",
    "all_chrs = [CHROMOSOME]\n",
    "genes_chr = genes_info[genes_info[\"chr\"] == CHROMOSOME]\n",
    "\n",
    "# For testing purposes\n",
    "# genes_chr = genes_chr.sample(n=20)\n",
    "\n",
    "print(f\"Number of genes in chromosome: {genes_chr.shape[0]}\", flush=True)"
   ]
  },
  {
   "cell_type": "code",
   "execution_count": 30,
   "id": "916015d8-2979-46d3-a9b9-1cf5a0932c6a",
   "metadata": {
    "execution": {
     "iopub.execute_input": "2022-07-22T03:55:34.261884Z",
     "iopub.status.busy": "2022-07-22T03:55:34.261247Z",
     "iopub.status.idle": "2022-07-22T03:55:34.278506Z",
     "shell.execute_reply": "2022-07-22T03:55:34.277973Z"
    },
    "papermill": {
     "duration": 0.029242,
     "end_time": "2022-07-22T03:55:34.280105",
     "exception": false,
     "start_time": "2022-07-22T03:55:34.250863",
     "status": "completed"
    },
    "tags": []
   },
   "outputs": [],
   "source": [
    "# sort genes by starting position to make visualizations better later\n",
    "genes_chr = genes_chr.sort_values(\"start_position\")"
   ]
  },
  {
   "cell_type": "code",
   "execution_count": 31,
   "id": "a38aa74a-8ad3-47f6-8ef9-56be0e011774",
   "metadata": {
    "execution": {
     "iopub.execute_input": "2022-07-22T03:55:34.300532Z",
     "iopub.status.busy": "2022-07-22T03:55:34.300335Z",
     "iopub.status.idle": "2022-07-22T03:55:34.317873Z",
     "shell.execute_reply": "2022-07-22T03:55:34.317296Z"
    },
    "papermill": {
     "duration": 0.029675,
     "end_time": "2022-07-22T03:55:34.319485",
     "exception": false,
     "start_time": "2022-07-22T03:55:34.289810",
     "status": "completed"
    },
    "tags": []
   },
   "outputs": [],
   "source": [
    "gene_chr_objs = [Gene(ensembl_id=gene_id) for gene_id in genes_chr[\"id\"]]"
   ]
  },
  {
   "cell_type": "code",
   "execution_count": 32,
   "id": "570f974f-13c3-42b6-ad3a-ce99ca885c1a",
   "metadata": {
    "execution": {
     "iopub.execute_input": "2022-07-22T03:55:34.339751Z",
     "iopub.status.busy": "2022-07-22T03:55:34.339367Z",
     "iopub.status.idle": "2022-07-22T03:55:34.358772Z",
     "shell.execute_reply": "2022-07-22T03:55:34.357314Z"
    },
    "papermill": {
     "duration": 0.031849,
     "end_time": "2022-07-22T03:55:34.361007",
     "exception": false,
     "start_time": "2022-07-22T03:55:34.329158",
     "status": "completed"
    },
    "tags": []
   },
   "outputs": [
    {
     "name": "stdout",
     "output_type": "stream",
     "text": [
      "Number of gene combinations: 39340\n"
     ]
    }
   ],
   "source": [
    "n = len(gene_chr_objs)\n",
    "n_comb = int(n * (n - 1) / 2.0)\n",
    "print(f\"Number of gene combinations: {n_comb}\", flush=True)"
   ]
  },
  {
   "cell_type": "code",
   "execution_count": 33,
   "id": "cdbb90a1",
   "metadata": {
    "execution": {
     "iopub.execute_input": "2022-07-22T03:55:34.382920Z",
     "iopub.status.busy": "2022-07-22T03:55:34.382724Z",
     "iopub.status.idle": "2022-07-22T04:01:14.829456Z",
     "shell.execute_reply": "2022-07-22T04:01:14.829037Z"
    },
    "papermill": {
     "duration": 340.458848,
     "end_time": "2022-07-22T04:01:14.830675",
     "exception": false,
     "start_time": "2022-07-22T03:55:34.371827",
     "status": "completed"
    },
    "tags": []
   },
   "outputs": [
    {
     "name": "stderr",
     "output_type": "stream",
     "text": [
      "ENSG00000155093 / ENSG00000106018: 100%|█████████████████████| 39340/39340 [05:40<00:00, 115.57it/s]\n"
     ]
    },
    {
     "data": {
      "text/plain": [
       "PosixPath('/opt/data/results/gls/gene_corrs/cohorts/1000g_eur/1000g/mashr/by_chr/gene_corrs-chr7.pkl')"
      ]
     },
     "metadata": {},
     "output_type": "display_data"
    }
   ],
   "source": [
    "gene_corrs = []\n",
    "\n",
    "i = 0\n",
    "with tqdm(ncols=100, total=n_comb) as pbar:\n",
    "    for gene1_idx in range(0, len(gene_chr_objs) - 1):\n",
    "        gene1_obj = gene_chr_objs[gene1_idx]\n",
    "        gene1_tissues = spredixcan_genes_models.loc[gene1_obj.ensembl_id, \"tissue\"]\n",
    "\n",
    "        for gene2_idx in range(gene1_idx + 1, len(gene_chr_objs)):\n",
    "            gene2_obj = gene_chr_objs[gene2_idx]\n",
    "            gene2_tissues = spredixcan_genes_models.loc[gene2_obj.ensembl_id, \"tissue\"]\n",
    "\n",
    "            pbar.set_description(f\"{gene1_obj.ensembl_id} / {gene2_obj.ensembl_id}\")\n",
    "\n",
    "            try:\n",
    "                r = gene1_obj.get_ssm_correlation(\n",
    "                    other_gene=gene2_obj,\n",
    "                    tissues=gene1_tissues,\n",
    "                    other_tissues=gene2_tissues,\n",
    "                    snps_subset=gwas_variants_ids_set,\n",
    "                    condition_number=SMULTIXCAN_CONDITION_NUMBER,\n",
    "                    reference_panel=REFERENCE_PANEL,\n",
    "                    model_type=EQTL_MODEL,\n",
    "                    use_within_distance=COMPUTE_CORRELATIONS_WITHIN_DISTANCE,\n",
    "                )\n",
    "\n",
    "                if r is None:\n",
    "                    # if r is None, it's very likely because:\n",
    "                    #  * one of the genes has no prediction models\n",
    "                    #  * all the SNPs predictors for the gene are not present in the reference\n",
    "                    #    panel\n",
    "\n",
    "                    r = 0.0\n",
    "\n",
    "                gene_corrs.append(r)\n",
    "            except Warning as e:\n",
    "                if not DEBUG_MODE:\n",
    "                    raise e\n",
    "\n",
    "                print(\n",
    "                    f\"RuntimeWarning for genes {gene1_obj.ensembl_id} and {gene2_obj.ensembl_id}\",\n",
    "                    flush=True,\n",
    "                )\n",
    "                print(traceback.format_exc(), flush=True)\n",
    "\n",
    "                gene_corrs.append(np.nan)\n",
    "            except Exception as e:\n",
    "                if not DEBUG_MODE:\n",
    "                    raise e\n",
    "\n",
    "                print(\n",
    "                    f\"Exception for genes {gene1_obj.ensembl_id} and {gene2_obj.ensembl_id}\",\n",
    "                    flush=True,\n",
    "                )\n",
    "                print(traceback.format_exc(), flush=True)\n",
    "\n",
    "                gene_corrs.append(np.nan)\n",
    "\n",
    "            pbar.update(1)\n",
    "\n",
    "# create a pandas series\n",
    "gene_corrs_flat = pd.Series(gene_corrs)\n",
    "\n",
    "# save\n",
    "# FIXME: consider saving only the condenced matrix here. See here for\n",
    "# more details: https://github.com/greenelab/phenoplier/pull/38#discussion_r634600813\n",
    "gene_corrs_data = squareform(np.array(gene_corrs, dtype=np.float64))\n",
    "np.fill_diagonal(gene_corrs_data, 1.0)\n",
    "\n",
    "gene_chr_ids = [g.ensembl_id for g in gene_chr_objs]\n",
    "gene_corrs_df = pd.DataFrame(\n",
    "    data=gene_corrs_data,\n",
    "    index=gene_chr_ids,\n",
    "    columns=gene_chr_ids,\n",
    ")\n",
    "\n",
    "output_dir.mkdir(exist_ok=True, parents=True)\n",
    "display(output_file)\n",
    "\n",
    "gene_corrs_df.to_pickle(output_file)"
   ]
  },
  {
   "cell_type": "markdown",
   "id": "faa67b51-5373-470f-aa72-2ded53fa6dfe",
   "metadata": {
    "papermill": {
     "duration": 1.550206,
     "end_time": "2022-07-22T04:01:17.916353",
     "exception": false,
     "start_time": "2022-07-22T04:01:16.366147",
     "status": "completed"
    },
    "tags": []
   },
   "source": [
    "# Testing"
   ]
  },
  {
   "cell_type": "code",
   "execution_count": 34,
   "id": "14f7d046-4b55-4896-a56b-990127bcc388",
   "metadata": {
    "execution": {
     "iopub.execute_input": "2022-07-22T04:01:20.939114Z",
     "iopub.status.busy": "2022-07-22T04:01:20.938942Z",
     "iopub.status.idle": "2022-07-22T04:01:20.954611Z",
     "shell.execute_reply": "2022-07-22T04:01:20.954115Z"
    },
    "papermill": {
     "duration": 1.530215,
     "end_time": "2022-07-22T04:01:20.955849",
     "exception": false,
     "start_time": "2022-07-22T04:01:19.425634",
     "status": "completed"
    },
    "tags": []
   },
   "outputs": [
    {
     "data": {
      "text/plain": [
       "(281, 281)"
      ]
     },
     "execution_count": 34,
     "metadata": {},
     "output_type": "execute_result"
    }
   ],
   "source": [
    "gene_corrs_df.shape"
   ]
  },
  {
   "cell_type": "code",
   "execution_count": 35,
   "id": "c7d15414-3297-4537-a7c6-7588c0baeb75",
   "metadata": {
    "execution": {
     "iopub.execute_input": "2022-07-22T04:01:23.969886Z",
     "iopub.status.busy": "2022-07-22T04:01:23.969722Z",
     "iopub.status.idle": "2022-07-22T04:01:23.997804Z",
     "shell.execute_reply": "2022-07-22T04:01:23.997426Z"
    },
    "papermill": {
     "duration": 1.503744,
     "end_time": "2022-07-22T04:01:23.998958",
     "exception": false,
     "start_time": "2022-07-22T04:01:22.495214",
     "status": "completed"
    },
    "tags": []
   },
   "outputs": [
    {
     "data": {
      "text/html": [
       "<div>\n",
       "<style scoped>\n",
       "    .dataframe tbody tr th:only-of-type {\n",
       "        vertical-align: middle;\n",
       "    }\n",
       "\n",
       "    .dataframe tbody tr th {\n",
       "        vertical-align: top;\n",
       "    }\n",
       "\n",
       "    .dataframe thead th {\n",
       "        text-align: right;\n",
       "    }\n",
       "</style>\n",
       "<table border=\"1\" class=\"dataframe\">\n",
       "  <thead>\n",
       "    <tr style=\"text-align: right;\">\n",
       "      <th></th>\n",
       "      <th>ENSG00000197461</th>\n",
       "      <th>ENSG00000188191</th>\n",
       "      <th>ENSG00000105963</th>\n",
       "      <th>ENSG00000198517</th>\n",
       "      <th>ENSG00000002822</th>\n",
       "      <th>ENSG00000106263</th>\n",
       "      <th>ENSG00000136213</th>\n",
       "      <th>ENSG00000106003</th>\n",
       "      <th>ENSG00000146535</th>\n",
       "      <th>ENSG00000198286</th>\n",
       "      <th>...</th>\n",
       "      <th>ENSG00000164889</th>\n",
       "      <th>ENSG00000033100</th>\n",
       "      <th>ENSG00000082014</th>\n",
       "      <th>ENSG00000013374</th>\n",
       "      <th>ENSG00000106615</th>\n",
       "      <th>ENSG00000106617</th>\n",
       "      <th>ENSG00000178234</th>\n",
       "      <th>ENSG00000009335</th>\n",
       "      <th>ENSG00000155093</th>\n",
       "      <th>ENSG00000106018</th>\n",
       "    </tr>\n",
       "  </thead>\n",
       "  <tbody>\n",
       "    <tr>\n",
       "      <th>ENSG00000197461</th>\n",
       "      <td>1.000000</td>\n",
       "      <td>0.081986</td>\n",
       "      <td>0.043885</td>\n",
       "      <td>0.004853</td>\n",
       "      <td>0.019816</td>\n",
       "      <td>0.008025</td>\n",
       "      <td>0.022171</td>\n",
       "      <td>0.013790</td>\n",
       "      <td>0.013675</td>\n",
       "      <td>0.015700</td>\n",
       "      <td>...</td>\n",
       "      <td>0.0</td>\n",
       "      <td>0.0</td>\n",
       "      <td>0.0</td>\n",
       "      <td>0.0</td>\n",
       "      <td>0.0</td>\n",
       "      <td>0.0</td>\n",
       "      <td>0.0</td>\n",
       "      <td>0.0</td>\n",
       "      <td>0.0</td>\n",
       "      <td>0.0</td>\n",
       "    </tr>\n",
       "    <tr>\n",
       "      <th>ENSG00000188191</th>\n",
       "      <td>0.081986</td>\n",
       "      <td>1.000000</td>\n",
       "      <td>0.089761</td>\n",
       "      <td>0.007912</td>\n",
       "      <td>0.010630</td>\n",
       "      <td>0.003971</td>\n",
       "      <td>0.021925</td>\n",
       "      <td>0.009760</td>\n",
       "      <td>0.009192</td>\n",
       "      <td>0.013800</td>\n",
       "      <td>...</td>\n",
       "      <td>0.0</td>\n",
       "      <td>0.0</td>\n",
       "      <td>0.0</td>\n",
       "      <td>0.0</td>\n",
       "      <td>0.0</td>\n",
       "      <td>0.0</td>\n",
       "      <td>0.0</td>\n",
       "      <td>0.0</td>\n",
       "      <td>0.0</td>\n",
       "      <td>0.0</td>\n",
       "    </tr>\n",
       "    <tr>\n",
       "      <th>ENSG00000105963</th>\n",
       "      <td>0.043885</td>\n",
       "      <td>0.089761</td>\n",
       "      <td>1.000000</td>\n",
       "      <td>0.012570</td>\n",
       "      <td>0.018635</td>\n",
       "      <td>0.011116</td>\n",
       "      <td>0.026086</td>\n",
       "      <td>0.018362</td>\n",
       "      <td>0.017134</td>\n",
       "      <td>0.023899</td>\n",
       "      <td>...</td>\n",
       "      <td>0.0</td>\n",
       "      <td>0.0</td>\n",
       "      <td>0.0</td>\n",
       "      <td>0.0</td>\n",
       "      <td>0.0</td>\n",
       "      <td>0.0</td>\n",
       "      <td>0.0</td>\n",
       "      <td>0.0</td>\n",
       "      <td>0.0</td>\n",
       "      <td>0.0</td>\n",
       "    </tr>\n",
       "    <tr>\n",
       "      <th>ENSG00000198517</th>\n",
       "      <td>0.004853</td>\n",
       "      <td>0.007912</td>\n",
       "      <td>0.012570</td>\n",
       "      <td>1.000000</td>\n",
       "      <td>0.009931</td>\n",
       "      <td>0.017722</td>\n",
       "      <td>0.020597</td>\n",
       "      <td>0.003794</td>\n",
       "      <td>0.002031</td>\n",
       "      <td>0.011681</td>\n",
       "      <td>...</td>\n",
       "      <td>0.0</td>\n",
       "      <td>0.0</td>\n",
       "      <td>0.0</td>\n",
       "      <td>0.0</td>\n",
       "      <td>0.0</td>\n",
       "      <td>0.0</td>\n",
       "      <td>0.0</td>\n",
       "      <td>0.0</td>\n",
       "      <td>0.0</td>\n",
       "      <td>0.0</td>\n",
       "    </tr>\n",
       "    <tr>\n",
       "      <th>ENSG00000002822</th>\n",
       "      <td>0.019816</td>\n",
       "      <td>0.010630</td>\n",
       "      <td>0.018635</td>\n",
       "      <td>0.009931</td>\n",
       "      <td>1.000000</td>\n",
       "      <td>0.026990</td>\n",
       "      <td>0.054232</td>\n",
       "      <td>0.036109</td>\n",
       "      <td>0.016537</td>\n",
       "      <td>0.026247</td>\n",
       "      <td>...</td>\n",
       "      <td>0.0</td>\n",
       "      <td>0.0</td>\n",
       "      <td>0.0</td>\n",
       "      <td>0.0</td>\n",
       "      <td>0.0</td>\n",
       "      <td>0.0</td>\n",
       "      <td>0.0</td>\n",
       "      <td>0.0</td>\n",
       "      <td>0.0</td>\n",
       "      <td>0.0</td>\n",
       "    </tr>\n",
       "  </tbody>\n",
       "</table>\n",
       "<p>5 rows × 281 columns</p>\n",
       "</div>"
      ],
      "text/plain": [
       "                 ENSG00000197461  ENSG00000188191  ENSG00000105963  \\\n",
       "ENSG00000197461         1.000000         0.081986         0.043885   \n",
       "ENSG00000188191         0.081986         1.000000         0.089761   \n",
       "ENSG00000105963         0.043885         0.089761         1.000000   \n",
       "ENSG00000198517         0.004853         0.007912         0.012570   \n",
       "ENSG00000002822         0.019816         0.010630         0.018635   \n",
       "\n",
       "                 ENSG00000198517  ENSG00000002822  ENSG00000106263  \\\n",
       "ENSG00000197461         0.004853         0.019816         0.008025   \n",
       "ENSG00000188191         0.007912         0.010630         0.003971   \n",
       "ENSG00000105963         0.012570         0.018635         0.011116   \n",
       "ENSG00000198517         1.000000         0.009931         0.017722   \n",
       "ENSG00000002822         0.009931         1.000000         0.026990   \n",
       "\n",
       "                 ENSG00000136213  ENSG00000106003  ENSG00000146535  \\\n",
       "ENSG00000197461         0.022171         0.013790         0.013675   \n",
       "ENSG00000188191         0.021925         0.009760         0.009192   \n",
       "ENSG00000105963         0.026086         0.018362         0.017134   \n",
       "ENSG00000198517         0.020597         0.003794         0.002031   \n",
       "ENSG00000002822         0.054232         0.036109         0.016537   \n",
       "\n",
       "                 ENSG00000198286  ...  ENSG00000164889  ENSG00000033100  \\\n",
       "ENSG00000197461         0.015700  ...              0.0              0.0   \n",
       "ENSG00000188191         0.013800  ...              0.0              0.0   \n",
       "ENSG00000105963         0.023899  ...              0.0              0.0   \n",
       "ENSG00000198517         0.011681  ...              0.0              0.0   \n",
       "ENSG00000002822         0.026247  ...              0.0              0.0   \n",
       "\n",
       "                 ENSG00000082014  ENSG00000013374  ENSG00000106615  \\\n",
       "ENSG00000197461              0.0              0.0              0.0   \n",
       "ENSG00000188191              0.0              0.0              0.0   \n",
       "ENSG00000105963              0.0              0.0              0.0   \n",
       "ENSG00000198517              0.0              0.0              0.0   \n",
       "ENSG00000002822              0.0              0.0              0.0   \n",
       "\n",
       "                 ENSG00000106617  ENSG00000178234  ENSG00000009335  \\\n",
       "ENSG00000197461              0.0              0.0              0.0   \n",
       "ENSG00000188191              0.0              0.0              0.0   \n",
       "ENSG00000105963              0.0              0.0              0.0   \n",
       "ENSG00000198517              0.0              0.0              0.0   \n",
       "ENSG00000002822              0.0              0.0              0.0   \n",
       "\n",
       "                 ENSG00000155093  ENSG00000106018  \n",
       "ENSG00000197461              0.0              0.0  \n",
       "ENSG00000188191              0.0              0.0  \n",
       "ENSG00000105963              0.0              0.0  \n",
       "ENSG00000198517              0.0              0.0  \n",
       "ENSG00000002822              0.0              0.0  \n",
       "\n",
       "[5 rows x 281 columns]"
      ]
     },
     "execution_count": 35,
     "metadata": {},
     "output_type": "execute_result"
    }
   ],
   "source": [
    "gene_corrs_df.head()"
   ]
  },
  {
   "cell_type": "markdown",
   "id": "dad6603f-01c6-41fb-a6f6-241051207dd8",
   "metadata": {
    "papermill": {
     "duration": 1.52367,
     "end_time": "2022-07-22T04:01:27.113857",
     "exception": false,
     "start_time": "2022-07-22T04:01:25.590187",
     "status": "completed"
    },
    "tags": []
   },
   "source": [
    "## Standard checks and stats"
   ]
  },
  {
   "cell_type": "code",
   "execution_count": 36,
   "id": "286686af-1b7b-4440-8453-6bdcbd8de19c",
   "metadata": {
    "execution": {
     "iopub.execute_input": "2022-07-22T04:01:30.154356Z",
     "iopub.status.busy": "2022-07-22T04:01:30.154180Z",
     "iopub.status.idle": "2022-07-22T04:01:30.169735Z",
     "shell.execute_reply": "2022-07-22T04:01:30.169361Z"
    },
    "papermill": {
     "duration": 1.467111,
     "end_time": "2022-07-22T04:01:30.171006",
     "exception": false,
     "start_time": "2022-07-22T04:01:28.703895",
     "status": "completed"
    },
    "tags": []
   },
   "outputs": [],
   "source": [
    "assert not gene_corrs_df.isna().any().any()"
   ]
  },
  {
   "cell_type": "code",
   "execution_count": 37,
   "id": "00583efc-7068-4270-ad1e-4a418e91db96",
   "metadata": {
    "execution": {
     "iopub.execute_input": "2022-07-22T04:01:33.248025Z",
     "iopub.status.busy": "2022-07-22T04:01:33.247847Z",
     "iopub.status.idle": "2022-07-22T04:01:33.283190Z",
     "shell.execute_reply": "2022-07-22T04:01:33.282592Z"
    },
    "papermill": {
     "duration": 1.567622,
     "end_time": "2022-07-22T04:01:33.285919",
     "exception": false,
     "start_time": "2022-07-22T04:01:31.718297",
     "status": "completed"
    },
    "tags": []
   },
   "outputs": [
    {
     "data": {
      "text/plain": [
       "0.0"
      ]
     },
     "metadata": {},
     "output_type": "display_data"
    }
   ],
   "source": [
    "_min_val = gene_corrs_df.min().min()\n",
    "display(_min_val)\n",
    "assert _min_val >= 0.0"
   ]
  },
  {
   "cell_type": "code",
   "execution_count": 38,
   "id": "d04fb2cf-1050-475b-b855-f5f7cc04092b",
   "metadata": {
    "execution": {
     "iopub.execute_input": "2022-07-22T04:01:36.378216Z",
     "iopub.status.busy": "2022-07-22T04:01:36.377984Z",
     "iopub.status.idle": "2022-07-22T04:01:36.395188Z",
     "shell.execute_reply": "2022-07-22T04:01:36.394742Z"
    },
    "papermill": {
     "duration": 1.561454,
     "end_time": "2022-07-22T04:01:36.396348",
     "exception": false,
     "start_time": "2022-07-22T04:01:34.834894",
     "status": "completed"
    },
    "tags": []
   },
   "outputs": [
    {
     "data": {
      "text/plain": [
       "1.0"
      ]
     },
     "metadata": {},
     "output_type": "display_data"
    }
   ],
   "source": [
    "_max_val = gene_corrs_df.max().max()  # this captures the diagonal\n",
    "display(_max_val)\n",
    "assert _max_val <= 1.0"
   ]
  },
  {
   "cell_type": "code",
   "execution_count": 39,
   "id": "96d02c44-1fba-47be-8a93-8f2608420b9c",
   "metadata": {
    "execution": {
     "iopub.execute_input": "2022-07-22T04:01:39.479108Z",
     "iopub.status.busy": "2022-07-22T04:01:39.478947Z",
     "iopub.status.idle": "2022-07-22T04:01:39.494203Z",
     "shell.execute_reply": "2022-07-22T04:01:39.493649Z"
    },
    "papermill": {
     "duration": 1.546801,
     "end_time": "2022-07-22T04:01:39.495566",
     "exception": false,
     "start_time": "2022-07-22T04:01:37.948765",
     "status": "completed"
    },
    "tags": []
   },
   "outputs": [],
   "source": [
    "# check upper triangular values\n",
    "assert len(gene_corrs) == int(genes_chr.shape[0] * (genes_chr.shape[0] - 1) / 2)"
   ]
  },
  {
   "cell_type": "code",
   "execution_count": 40,
   "id": "fe283586-c348-40e0-8841-f6d97bfb021c",
   "metadata": {
    "execution": {
     "iopub.execute_input": "2022-07-22T04:01:42.486121Z",
     "iopub.status.busy": "2022-07-22T04:01:42.485958Z",
     "iopub.status.idle": "2022-07-22T04:01:42.507162Z",
     "shell.execute_reply": "2022-07-22T04:01:42.506549Z"
    },
    "papermill": {
     "duration": 1.507028,
     "end_time": "2022-07-22T04:01:42.508659",
     "exception": false,
     "start_time": "2022-07-22T04:01:41.001631",
     "status": "completed"
    },
    "tags": []
   },
   "outputs": [
    {
     "data": {
      "text/plain": [
       "count    39340.000000\n",
       "mean         0.003174\n",
       "std          0.030421\n",
       "min          0.000000\n",
       "25%          0.000000\n",
       "50%          0.000000\n",
       "75%          0.000000\n",
       "max          0.934602\n",
       "dtype: float64"
      ]
     },
     "execution_count": 40,
     "metadata": {},
     "output_type": "execute_result"
    }
   ],
   "source": [
    "gene_corrs_flat.describe()"
   ]
  },
  {
   "cell_type": "code",
   "execution_count": 41,
   "id": "b3815678-0f93-4b35-897b-a9d047a2aa78",
   "metadata": {
    "execution": {
     "iopub.execute_input": "2022-07-22T04:01:45.508500Z",
     "iopub.status.busy": "2022-07-22T04:01:45.508335Z",
     "iopub.status.idle": "2022-07-22T04:01:45.526303Z",
     "shell.execute_reply": "2022-07-22T04:01:45.525876Z"
    },
    "papermill": {
     "duration": 1.494197,
     "end_time": "2022-07-22T04:01:45.527489",
     "exception": false,
     "start_time": "2022-07-22T04:01:44.033292",
     "status": "completed"
    },
    "tags": []
   },
   "outputs": [
    {
     "data": {
      "text/plain": [
       "0.00    0.000000\n",
       "0.05    0.000000\n",
       "0.10    0.000000\n",
       "0.15    0.000000\n",
       "0.20    0.000000\n",
       "0.25    0.000000\n",
       "0.30    0.000000\n",
       "0.35    0.000000\n",
       "0.40    0.000000\n",
       "0.45    0.000000\n",
       "0.50    0.000000\n",
       "0.55    0.000000\n",
       "0.60    0.000000\n",
       "0.65    0.000000\n",
       "0.70    0.000000\n",
       "0.75    0.000000\n",
       "0.80    0.000000\n",
       "0.85    0.000000\n",
       "0.90    0.000000\n",
       "0.95    0.008441\n",
       "dtype: float64"
      ]
     },
     "metadata": {},
     "output_type": "display_data"
    }
   ],
   "source": [
    "gene_corrs_quantiles = gene_corrs_flat.quantile(np.arange(0, 1, 0.05))\n",
    "display(gene_corrs_quantiles)"
   ]
  },
  {
   "cell_type": "markdown",
   "id": "87134509-b145-4a10-8bc9-b7e914c2b0fa",
   "metadata": {
    "papermill": {
     "duration": 1.460565,
     "end_time": "2022-07-22T04:01:48.557819",
     "exception": false,
     "start_time": "2022-07-22T04:01:47.097254",
     "status": "completed"
    },
    "tags": []
   },
   "source": [
    "## Positive definiteness"
   ]
  },
  {
   "cell_type": "code",
   "execution_count": 42,
   "id": "07d9a9a1-a4f7-48aa-b916-6d42a8cc6186",
   "metadata": {
    "execution": {
     "iopub.execute_input": "2022-07-22T04:01:51.518043Z",
     "iopub.status.busy": "2022-07-22T04:01:51.517620Z",
     "iopub.status.idle": "2022-07-22T04:01:51.548098Z",
     "shell.execute_reply": "2022-07-22T04:01:51.547724Z"
    },
    "papermill": {
     "duration": 1.498188,
     "end_time": "2022-07-22T04:01:51.549159",
     "exception": false,
     "start_time": "2022-07-22T04:01:50.050971",
     "status": "completed"
    },
    "tags": []
   },
   "outputs": [
    {
     "data": {
      "text/plain": [
       "0"
      ]
     },
     "metadata": {},
     "output_type": "display_data"
    },
    {
     "data": {
      "text/plain": [
       "array([], dtype=float64)"
      ]
     },
     "metadata": {},
     "output_type": "display_data"
    }
   ],
   "source": [
    "# print negative eigenvalues\n",
    "eigs = np.linalg.eigvals(gene_corrs_df.to_numpy())\n",
    "display(len(eigs[eigs < 0]))\n",
    "display(eigs[eigs < 0])"
   ]
  },
  {
   "cell_type": "code",
   "execution_count": 43,
   "id": "6e218436-c3c5-4028-8c94-a4fa6260efce",
   "metadata": {
    "execution": {
     "iopub.execute_input": "2022-07-22T04:01:54.603083Z",
     "iopub.status.busy": "2022-07-22T04:01:54.602899Z",
     "iopub.status.idle": "2022-07-22T04:01:54.672456Z",
     "shell.execute_reply": "2022-07-22T04:01:54.672088Z"
    },
    "papermill": {
     "duration": 1.575951,
     "end_time": "2022-07-22T04:01:54.673717",
     "exception": false,
     "start_time": "2022-07-22T04:01:53.097766",
     "status": "completed"
    },
    "tags": []
   },
   "outputs": [
    {
     "name": "stdout",
     "output_type": "stream",
     "text": [
      "Works!\n"
     ]
    }
   ],
   "source": [
    "try:\n",
    "    chol_mat = np.linalg.cholesky(gene_corrs_df.to_numpy())\n",
    "    cov_inv = np.linalg.inv(chol_mat)\n",
    "    print(\"Works!\")\n",
    "except:\n",
    "    print(\"Cholesky decomposition failed\")"
   ]
  },
  {
   "cell_type": "markdown",
   "id": "8e60a080-edb2-4e9c-b2ef-22961693200c",
   "metadata": {
    "papermill": {
     "duration": 1.466871,
     "end_time": "2022-07-22T04:01:57.757448",
     "exception": false,
     "start_time": "2022-07-22T04:01:56.290577",
     "status": "completed"
    },
    "tags": []
   },
   "source": [
    "## Plot: distribution"
   ]
  },
  {
   "cell_type": "code",
   "execution_count": 44,
   "id": "8301126b-a7d4-4744-9c7d-f0f86eb6f54c",
   "metadata": {
    "execution": {
     "iopub.execute_input": "2022-07-22T04:02:00.750379Z",
     "iopub.status.busy": "2022-07-22T04:02:00.750049Z",
     "iopub.status.idle": "2022-07-22T04:02:01.095446Z",
     "shell.execute_reply": "2022-07-22T04:02:01.095073Z"
    },
    "papermill": {
     "duration": 1.811702,
     "end_time": "2022-07-22T04:02:01.096607",
     "exception": false,
     "start_time": "2022-07-22T04:01:59.284905",
     "status": "completed"
    },
    "tags": []
   },
   "outputs": [
    {
     "data": {
      "image/png": "[encoded data removed]",
      "text/plain": [
       "<Figure size 504x504 with 1 Axes>"
      ]
     },
     "metadata": {
      "needs_background": "light"
     },
     "output_type": "display_data"
    }
   ],
   "source": [
    "with sns.plotting_context(\"paper\", font_scale=1.5):\n",
    "    g = sns.displot(gene_corrs_flat, kde=True, height=7)\n",
    "    g.ax.set_title(\n",
    "        f\"Distribution of gene correlation values in chromosome {CHROMOSOME}\"\n",
    "    )"
   ]
  },
  {
   "cell_type": "markdown",
   "id": "cbd52bca-d878-4a2f-b684-5c83aa3038d4",
   "metadata": {
    "papermill": {
     "duration": 1.556194,
     "end_time": "2022-07-22T04:02:04.178874",
     "exception": false,
     "start_time": "2022-07-22T04:02:02.622680",
     "status": "completed"
    },
    "tags": []
   },
   "source": [
    "## Plot: heatmap"
   ]
  },
  {
   "cell_type": "code",
   "execution_count": 45,
   "id": "d03fe63a-c7b2-4fb9-a53c-db362ce843c9",
   "metadata": {
    "execution": {
     "iopub.execute_input": "2022-07-22T04:02:07.330830Z",
     "iopub.status.busy": "2022-07-22T04:02:07.330428Z",
     "iopub.status.idle": "2022-07-22T04:02:07.347829Z",
     "shell.execute_reply": "2022-07-22T04:02:07.347388Z"
    },
    "papermill": {
     "duration": 1.549241,
     "end_time": "2022-07-22T04:02:07.348999",
     "exception": false,
     "start_time": "2022-07-22T04:02:05.799758",
     "status": "completed"
    },
    "tags": []
   },
   "outputs": [
    {
     "data": {
      "text/plain": [
       "'0.0 / 0.05'"
      ]
     },
     "metadata": {},
     "output_type": "display_data"
    }
   ],
   "source": [
    "vmin_val = min(0.00, gene_corrs_quantiles[0.10])\n",
    "vmax_val = max(0.05, gene_corrs_quantiles[0.90])\n",
    "display(f\"{vmin_val} / {vmax_val}\")"
   ]
  },
  {
   "cell_type": "code",
   "execution_count": 46,
   "id": "dc41b70b-5bcc-4d9e-9f33-a22c4a94dab5",
   "metadata": {
    "execution": {
     "iopub.execute_input": "2022-07-22T04:02:10.398582Z",
     "iopub.status.busy": "2022-07-22T04:02:10.398415Z",
     "iopub.status.idle": "2022-07-22T04:02:10.609505Z",
     "shell.execute_reply": "2022-07-22T04:02:10.609076Z"
    },
    "papermill": {
     "duration": 1.688382,
     "end_time": "2022-07-22T04:02:10.610756",
     "exception": false,
     "start_time": "2022-07-22T04:02:08.922374",
     "status": "completed"
    },
    "tags": []
   },
   "outputs": [
    {
     "data": {
      "text/plain": [
       "Text(0.5, 1.0, 'Gene correlations in chromosome 7')"
      ]
     },
     "execution_count": 46,
     "metadata": {},
     "output_type": "execute_result"
    },
    {
     "data": {
      "image/png": "[encoded data removed]",
      "text/plain": [
       "<Figure size 720x720 with 2 Axes>"
      ]
     },
     "metadata": {
      "needs_background": "light"
     },
     "output_type": "display_data"
    }
   ],
   "source": [
    "f, ax = plt.subplots(figsize=(10, 10))\n",
    "sns.heatmap(\n",
    "    gene_corrs_df,\n",
    "    xticklabels=False,\n",
    "    yticklabels=False,\n",
    "    square=True,\n",
    "    vmin=vmin_val,\n",
    "    vmax=vmax_val,\n",
    "    cmap=\"rocket_r\",\n",
    "    ax=ax,\n",
    ")\n",
    "ax.set_title(f\"Gene correlations in chromosome {CHROMOSOME}\")"
   ]
  },
  {
   "cell_type": "code",
   "execution_count": null,
   "id": "b25e3ead",
   "metadata": {
    "papermill": {
     "duration": 1.481869,
     "end_time": "2022-07-22T04:02:13.583761",
     "exception": false,
     "start_time": "2022-07-22T04:02:12.101892",
     "status": "completed"
    },
    "tags": []
   },
   "outputs": [],
   "source": []
  }
 ],
 "metadata": {
  "jupytext": {
   "cell_metadata_filter": "all,-execution,-papermill,-trusted",
   "formats": "ipynb,py//py:percent"
  },
  "kernelspec": {
   "display_name": "Python 3 (ipykernel)",
   "language": "python",
   "name": "python3"
  },
  "language_info": {
   "codemirror_mode": {
    "name": "ipython",
    "version": 3
   },
   "file_extension": ".py",
   "mimetype": "text/x-python",
   "name": "python",
   "nbconvert_exporter": "python",
   "pygments_lexer": "ipython3",
   "version": "3.8.13"
  },
  "papermill": {
   "default_parameters": {},
   "duration": 411.471222,
   "end_time": "2022-07-22T04:02:18.632408",
   "environment_variables": {},
   "exception": null,
   "input_path": "nbs/15_gsa_gls/10-gene_expr_correlations.ipynb",
   "output_path": "nbs/15_gsa_gls/gene_corrs/cohorts/1000g_eur/1000g/mashr/10-gene_expr_correlations-chr7.run.ipynb",
   "parameters": {
    "CHROMOSOME": 7,
    "COHORT_NAME": "1000G_EUR",
    "EQTL_MODEL": "MASHR",
    "REFERENCE_PANEL": "1000G"
   },
   "start_time": "2022-07-22T03:55:27.161186",
   "version": "2.2.2"
  }
 },
 "nbformat": 4,
 "nbformat_minor": 5
}
