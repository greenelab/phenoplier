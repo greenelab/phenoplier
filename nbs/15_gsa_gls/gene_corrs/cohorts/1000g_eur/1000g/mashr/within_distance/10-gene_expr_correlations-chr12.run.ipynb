{
 "cells": [
  {
   "cell_type": "markdown",
   "id": "7a6632fb",
   "metadata": {
    "papermill": {
     "duration": 0.006444,
     "end_time": "2022-07-22T04:14:58.734541",
     "exception": false,
     "start_time": "2022-07-22T04:14:58.728097",
     "status": "completed"
    },
    "tags": []
   },
   "source": [
    "# Description"
   ]
  },
  {
   "cell_type": "markdown",
   "id": "7097c346",
   "metadata": {
    "papermill": {
     "duration": 0.005868,
     "end_time": "2022-07-22T04:14:58.746504",
     "exception": false,
     "start_time": "2022-07-22T04:14:58.740636",
     "status": "completed"
    },
    "tags": []
   },
   "source": [
    "(Please, take a look at the README.md file in this directory for instructions on how to run this notebook)\n",
    "\n",
    "This notebook computes predicted expression correlations between all genes in the MultiPLIER models.\n",
    "\n",
    "It also has a parameter set for papermill to run on a single chromosome to run in parallel (see under `Settings` below).\n",
    "\n",
    "This notebook is not directly run. See README.md."
   ]
  },
  {
   "cell_type": "markdown",
   "id": "c61d8427",
   "metadata": {
    "papermill": {
     "duration": 0.005757,
     "end_time": "2022-07-22T04:14:58.758160",
     "exception": false,
     "start_time": "2022-07-22T04:14:58.752403",
     "status": "completed"
    },
    "tags": []
   },
   "source": [
    "# Modules"
   ]
  },
  {
   "cell_type": "code",
   "execution_count": 1,
   "id": "bbc0234f",
   "metadata": {
    "execution": {
     "iopub.execute_input": "2022-07-22T04:14:58.771485Z",
     "iopub.status.busy": "2022-07-22T04:14:58.771233Z",
     "iopub.status.idle": "2022-07-22T04:14:58.785531Z",
     "shell.execute_reply": "2022-07-22T04:14:58.785077Z"
    },
    "papermill": {
     "duration": 0.022784,
     "end_time": "2022-07-22T04:14:58.786909",
     "exception": false,
     "start_time": "2022-07-22T04:14:58.764125",
     "status": "completed"
    },
    "tags": []
   },
   "outputs": [],
   "source": [
    "%load_ext autoreload\n",
    "%autoreload 2"
   ]
  },
  {
   "cell_type": "code",
   "execution_count": 2,
   "id": "1d5f5a59",
   "metadata": {
    "execution": {
     "iopub.execute_input": "2022-07-22T04:14:58.829291Z",
     "iopub.status.busy": "2022-07-22T04:14:58.828956Z",
     "iopub.status.idle": "2022-07-22T04:14:59.757067Z",
     "shell.execute_reply": "2022-07-22T04:14:59.756535Z"
    },
    "papermill": {
     "duration": 0.937085,
     "end_time": "2022-07-22T04:14:59.758450",
     "exception": false,
     "start_time": "2022-07-22T04:14:58.821365",
     "status": "completed"
    },
    "tags": []
   },
   "outputs": [],
   "source": [
    "from random import sample, seed\n",
    "import warnings\n",
    "from pathlib import Path\n",
    "import pickle\n",
    "import traceback\n",
    "\n",
    "import numpy as np\n",
    "from scipy.spatial.distance import squareform\n",
    "import pandas as pd\n",
    "from tqdm import tqdm\n",
    "import matplotlib.pyplot as plt\n",
    "import seaborn as sns\n",
    "\n",
    "import conf\n",
    "from entity import Gene"
   ]
  },
  {
   "cell_type": "markdown",
   "id": "1eac24b5",
   "metadata": {
    "papermill": {
     "duration": 0.005849,
     "end_time": "2022-07-22T04:14:59.770566",
     "exception": false,
     "start_time": "2022-07-22T04:14:59.764717",
     "status": "completed"
    },
    "tags": []
   },
   "source": [
    "# Settings"
   ]
  },
  {
   "cell_type": "code",
   "execution_count": 3,
   "id": "ca4560ba",
   "metadata": {
    "execution": {
     "iopub.execute_input": "2022-07-22T04:14:59.783316Z",
     "iopub.status.busy": "2022-07-22T04:14:59.783147Z",
     "iopub.status.idle": "2022-07-22T04:14:59.798297Z",
     "shell.execute_reply": "2022-07-22T04:14:59.797759Z"
    },
    "papermill": {
     "duration": 0.023138,
     "end_time": "2022-07-22T04:14:59.799632",
     "exception": false,
     "start_time": "2022-07-22T04:14:59.776494",
     "status": "completed"
    },
    "tags": [
     "parameters"
    ]
   },
   "outputs": [],
   "source": [
    "# a cohort name (it could be something like UK_BIOBANK, etc)\n",
    "COHORT_NAME = None\n",
    "\n",
    "# reference panel such as 1000G or GTEX_V8\n",
    "REFERENCE_PANEL = None\n",
    "\n",
    "# predictions models such as MASHR or ELASTIC_NET\n",
    "EQTL_MODEL = None\n",
    "\n",
    "# this is the default value used in S-MultiXcan to select the\n",
    "# top principal components of the expression correlation matrix\n",
    "SMULTIXCAN_CONDITION_NUMBER = 30\n",
    "\n",
    "# specifies a single chromosome value\n",
    "CHROMOSOME = None\n",
    "\n",
    "# if True, then it will continue if a gene pair correlation fails,\n",
    "# printing the warning/error for debugging. If False, any warning/error\n",
    "# will be thrown\n",
    "# FIXME: make it False when all is working\n",
    "DEBUG_MODE = True"
   ]
  },
  {
   "cell_type": "code",
   "execution_count": 4,
   "id": "05934026",
   "metadata": {
    "execution": {
     "iopub.execute_input": "2022-07-22T04:14:59.812358Z",
     "iopub.status.busy": "2022-07-22T04:14:59.812151Z",
     "iopub.status.idle": "2022-07-22T04:14:59.826228Z",
     "shell.execute_reply": "2022-07-22T04:14:59.825841Z"
    },
    "papermill": {
     "duration": 0.021766,
     "end_time": "2022-07-22T04:14:59.827547",
     "exception": false,
     "start_time": "2022-07-22T04:14:59.805781",
     "status": "completed"
    },
    "tags": [
     "injected-parameters"
    ]
   },
   "outputs": [],
   "source": [
    "# Parameters\n",
    "COHORT_NAME = \"1000G_EUR\"\n",
    "REFERENCE_PANEL = \"1000G\"\n",
    "EQTL_MODEL = \"MASHR\"\n",
    "CHROMOSOME = 12\n"
   ]
  },
  {
   "cell_type": "code",
   "execution_count": 5,
   "id": "3190631f-27fc-480f-b18e-571d580425a5",
   "metadata": {
    "execution": {
     "iopub.execute_input": "2022-07-22T04:14:59.840414Z",
     "iopub.status.busy": "2022-07-22T04:14:59.840181Z",
     "iopub.status.idle": "2022-07-22T04:14:59.856398Z",
     "shell.execute_reply": "2022-07-22T04:14:59.855926Z"
    },
    "papermill": {
     "duration": 0.024456,
     "end_time": "2022-07-22T04:14:59.857985",
     "exception": false,
     "start_time": "2022-07-22T04:14:59.833529",
     "status": "completed"
    },
    "tags": []
   },
   "outputs": [
    {
     "data": {
      "text/plain": [
       "'Cohort name: 1000g_eur'"
      ]
     },
     "metadata": {},
     "output_type": "display_data"
    }
   ],
   "source": [
    "assert COHORT_NAME is not None or len(COHORT_NAME) == 0, \"A cohort name must be given\"\n",
    "\n",
    "COHORT_NAME = COHORT_NAME.lower()\n",
    "display(f\"Cohort name: {COHORT_NAME}\")"
   ]
  },
  {
   "cell_type": "code",
   "execution_count": 6,
   "id": "f53ba19b-0f93-4fa2-a047-63b375939d1a",
   "metadata": {
    "execution": {
     "iopub.execute_input": "2022-07-22T04:14:59.871199Z",
     "iopub.status.busy": "2022-07-22T04:14:59.870985Z",
     "iopub.status.idle": "2022-07-22T04:14:59.886076Z",
     "shell.execute_reply": "2022-07-22T04:14:59.885621Z"
    },
    "papermill": {
     "duration": 0.02306,
     "end_time": "2022-07-22T04:14:59.887375",
     "exception": false,
     "start_time": "2022-07-22T04:14:59.864315",
     "status": "completed"
    },
    "tags": []
   },
   "outputs": [
    {
     "data": {
      "text/plain": [
       "'Reference panel: 1000G'"
      ]
     },
     "metadata": {},
     "output_type": "display_data"
    }
   ],
   "source": [
    "assert (\n",
    "    REFERENCE_PANEL is not None or len(REFERENCE_PANEL) == 0\n",
    "), \"A reference panel must be given\"\n",
    "\n",
    "display(f\"Reference panel: {REFERENCE_PANEL}\")"
   ]
  },
  {
   "cell_type": "code",
   "execution_count": 7,
   "id": "e024d130-c139-429a-9c6e-ccf149e297b0",
   "metadata": {
    "execution": {
     "iopub.execute_input": "2022-07-22T04:14:59.902030Z",
     "iopub.status.busy": "2022-07-22T04:14:59.901831Z",
     "iopub.status.idle": "2022-07-22T04:14:59.929458Z",
     "shell.execute_reply": "2022-07-22T04:14:59.929008Z"
    },
    "papermill": {
     "duration": 0.037072,
     "end_time": "2022-07-22T04:14:59.931138",
     "exception": false,
     "start_time": "2022-07-22T04:14:59.894066",
     "status": "completed"
    },
    "tags": []
   },
   "outputs": [
    {
     "data": {
      "text/plain": [
       "'eQTL model: MASHR) / mashr_'"
      ]
     },
     "metadata": {},
     "output_type": "display_data"
    }
   ],
   "source": [
    "assert (\n",
    "    EQTL_MODEL is not None or len(EQTL_MODEL) == 0\n",
    "), \"A prediction/eQTL model must be given\"\n",
    "\n",
    "EQTL_MODEL_FILES_PREFIX = conf.PHENOMEXCAN[\"PREDICTION_MODELS\"][f\"{EQTL_MODEL}_PREFIX\"]\n",
    "display(f\"eQTL model: {EQTL_MODEL}) / {EQTL_MODEL_FILES_PREFIX}\")"
   ]
  },
  {
   "cell_type": "code",
   "execution_count": 8,
   "id": "552a7f63-a18c-4d3e-bb6a-94f99b431291",
   "metadata": {
    "execution": {
     "iopub.execute_input": "2022-07-22T04:14:59.946411Z",
     "iopub.status.busy": "2022-07-22T04:14:59.946234Z",
     "iopub.status.idle": "2022-07-22T04:14:59.964587Z",
     "shell.execute_reply": "2022-07-22T04:14:59.964128Z"
    },
    "papermill": {
     "duration": 0.027523,
     "end_time": "2022-07-22T04:14:59.966144",
     "exception": false,
     "start_time": "2022-07-22T04:14:59.938621",
     "status": "completed"
    },
    "tags": []
   },
   "outputs": [
    {
     "data": {
      "text/plain": [
       "'S-MultiXcan condition number: 30'"
      ]
     },
     "metadata": {},
     "output_type": "display_data"
    }
   ],
   "source": [
    "assert (\n",
    "    SMULTIXCAN_CONDITION_NUMBER is not None or SMULTIXCAN_CONDITION_NUMBER > 0\n",
    "), \"The S-MultiXcan condition number (positive integer) must be given\"\n",
    "\n",
    "display(f\"S-MultiXcan condition number: {SMULTIXCAN_CONDITION_NUMBER}\")"
   ]
  },
  {
   "cell_type": "code",
   "execution_count": 9,
   "id": "f34a336f-548e-4afe-8955-90eaea4f42c6",
   "metadata": {
    "execution": {
     "iopub.execute_input": "2022-07-22T04:14:59.981998Z",
     "iopub.status.busy": "2022-07-22T04:14:59.981817Z",
     "iopub.status.idle": "2022-07-22T04:15:00.000644Z",
     "shell.execute_reply": "2022-07-22T04:15:00.000179Z"
    },
    "papermill": {
     "duration": 0.028509,
     "end_time": "2022-07-22T04:15:00.002235",
     "exception": false,
     "start_time": "2022-07-22T04:14:59.973726",
     "status": "completed"
    },
    "tags": []
   },
   "outputs": [
    {
     "data": {
      "text/plain": [
       "'Working on chromosome 12'"
      ]
     },
     "metadata": {},
     "output_type": "display_data"
    }
   ],
   "source": [
    "assert CHROMOSOME is not None and (\n",
    "    1 <= CHROMOSOME <= 22\n",
    "), \"You have to select one chromosome (format: number between 1 and 22)\"\n",
    "\n",
    "CHROMOSOME = str(CHROMOSOME)\n",
    "display(f\"Working on chromosome {CHROMOSOME}\")"
   ]
  },
  {
   "cell_type": "code",
   "execution_count": 10,
   "id": "ab8e96e8-06b5-4363-9dcd-dc4d78cc27f7",
   "metadata": {
    "execution": {
     "iopub.execute_input": "2022-07-22T04:15:00.018119Z",
     "iopub.status.busy": "2022-07-22T04:15:00.017930Z",
     "iopub.status.idle": "2022-07-22T04:15:00.038484Z",
     "shell.execute_reply": "2022-07-22T04:15:00.037923Z"
    },
    "papermill": {
     "duration": 0.030412,
     "end_time": "2022-07-22T04:15:00.040072",
     "exception": false,
     "start_time": "2022-07-22T04:15:00.009660",
     "status": "completed"
    },
    "tags": []
   },
   "outputs": [
    {
     "data": {
      "text/plain": [
       "'Compute correlation within distance True'"
      ]
     },
     "metadata": {},
     "output_type": "display_data"
    }
   ],
   "source": [
    "# TODO: see if this is necessary; if so, make it a parameter with default value True\n",
    "# This parameter, if True, computes the correlation between closeby genes only\n",
    "\n",
    "COMPUTE_CORRELATIONS_WITHIN_DISTANCE = True\n",
    "display(f\"Compute correlation within distance {COMPUTE_CORRELATIONS_WITHIN_DISTANCE}\")"
   ]
  },
  {
   "cell_type": "code",
   "execution_count": 11,
   "id": "396392dc-0340-4540-9b02-e182b833f909",
   "metadata": {
    "execution": {
     "iopub.execute_input": "2022-07-22T04:15:00.067135Z",
     "iopub.status.busy": "2022-07-22T04:15:00.065595Z",
     "iopub.status.idle": "2022-07-22T04:15:00.087091Z",
     "shell.execute_reply": "2022-07-22T04:15:00.086581Z"
    },
    "papermill": {
     "duration": 0.037603,
     "end_time": "2022-07-22T04:15:00.088723",
     "exception": false,
     "start_time": "2022-07-22T04:15:00.051120",
     "status": "completed"
    },
    "tags": []
   },
   "outputs": [
    {
     "data": {
      "text/plain": [
       "'Using output dir base: /opt/data/results/gls/gene_corrs/cohorts/1000g_eur/1000g/mashr'"
      ]
     },
     "metadata": {},
     "output_type": "display_data"
    }
   ],
   "source": [
    "OUTPUT_DIR_BASE = (\n",
    "    conf.RESULTS[\"GLS\"]\n",
    "    / \"gene_corrs\"\n",
    "    / \"cohorts\"\n",
    "    / COHORT_NAME\n",
    "    / REFERENCE_PANEL.lower()\n",
    "    / EQTL_MODEL.lower()\n",
    ")\n",
    "OUTPUT_DIR_BASE.mkdir(parents=True, exist_ok=True)\n",
    "\n",
    "display(f\"Using output dir base: {OUTPUT_DIR_BASE}\")"
   ]
  },
  {
   "cell_type": "code",
   "execution_count": 12,
   "id": "974b4bb1-aa98-4e30-b221-7cd034ad3833",
   "metadata": {
    "execution": {
     "iopub.execute_input": "2022-07-22T04:15:00.104904Z",
     "iopub.status.busy": "2022-07-22T04:15:00.104727Z",
     "iopub.status.idle": "2022-07-22T04:15:00.122965Z",
     "shell.execute_reply": "2022-07-22T04:15:00.122553Z"
    },
    "papermill": {
     "duration": 0.027893,
     "end_time": "2022-07-22T04:15:00.124632",
     "exception": false,
     "start_time": "2022-07-22T04:15:00.096739",
     "status": "completed"
    },
    "tags": []
   },
   "outputs": [
    {
     "data": {
      "text/plain": [
       "PosixPath('/opt/data/results/gls/gene_corrs/cohorts/1000g_eur')"
      ]
     },
     "metadata": {},
     "output_type": "display_data"
    }
   ],
   "source": [
    "INPUT_DIR = conf.RESULTS[\"GLS\"] / \"gene_corrs\" / \"cohorts\" / COHORT_NAME\n",
    "assert INPUT_DIR.exists()\n",
    "\n",
    "display(INPUT_DIR)"
   ]
  },
  {
   "cell_type": "markdown",
   "id": "d2ba085e",
   "metadata": {
    "papermill": {
     "duration": 0.006837,
     "end_time": "2022-07-22T04:15:00.139311",
     "exception": false,
     "start_time": "2022-07-22T04:15:00.132474",
     "status": "completed"
    },
    "tags": []
   },
   "source": [
    "# Load data"
   ]
  },
  {
   "cell_type": "markdown",
   "id": "7dcb8db7",
   "metadata": {
    "papermill": {
     "duration": 0.006291,
     "end_time": "2022-07-22T04:15:00.152315",
     "exception": false,
     "start_time": "2022-07-22T04:15:00.146024",
     "status": "completed"
    },
    "tags": []
   },
   "source": [
    "## GWAS variants"
   ]
  },
  {
   "cell_type": "code",
   "execution_count": 13,
   "id": "29434c4e-8cd3-4b9b-82e4-b5a251d9dd19",
   "metadata": {
    "execution": {
     "iopub.execute_input": "2022-07-22T04:15:00.166215Z",
     "iopub.status.busy": "2022-07-22T04:15:00.166035Z",
     "iopub.status.idle": "2022-07-22T04:15:02.842183Z",
     "shell.execute_reply": "2022-07-22T04:15:02.841593Z"
    },
    "papermill": {
     "duration": 2.684979,
     "end_time": "2022-07-22T04:15:02.843785",
     "exception": false,
     "start_time": "2022-07-22T04:15:00.158806",
     "status": "completed"
    },
    "tags": []
   },
   "outputs": [],
   "source": [
    "with open(INPUT_DIR / \"gwas_variant_ids.pkl\", \"rb\") as handle:\n",
    "    gwas_variants_ids_set = pickle.load(handle)"
   ]
  },
  {
   "cell_type": "code",
   "execution_count": 14,
   "id": "b9d9dec2-4a76-4bf9-bde2-e24c95acb8a0",
   "metadata": {
    "execution": {
     "iopub.execute_input": "2022-07-22T04:15:02.860584Z",
     "iopub.status.busy": "2022-07-22T04:15:02.860095Z",
     "iopub.status.idle": "2022-07-22T04:15:02.877042Z",
     "shell.execute_reply": "2022-07-22T04:15:02.876504Z"
    },
    "papermill": {
     "duration": 0.027186,
     "end_time": "2022-07-22T04:15:02.878878",
     "exception": false,
     "start_time": "2022-07-22T04:15:02.851692",
     "status": "completed"
    },
    "tags": []
   },
   "outputs": [
    {
     "data": {
      "text/plain": [
       "8339505"
      ]
     },
     "execution_count": 14,
     "metadata": {},
     "output_type": "execute_result"
    }
   ],
   "source": [
    "len(gwas_variants_ids_set)"
   ]
  },
  {
   "cell_type": "code",
   "execution_count": 15,
   "id": "4235b06a-6034-4ee4-a0a3-2ae35d122418",
   "metadata": {
    "execution": {
     "iopub.execute_input": "2022-07-22T04:15:02.895285Z",
     "iopub.status.busy": "2022-07-22T04:15:02.895053Z",
     "iopub.status.idle": "2022-07-22T04:15:03.409091Z",
     "shell.execute_reply": "2022-07-22T04:15:03.408467Z"
    },
    "papermill": {
     "duration": 0.523559,
     "end_time": "2022-07-22T04:15:03.410526",
     "exception": false,
     "start_time": "2022-07-22T04:15:02.886967",
     "status": "completed"
    },
    "tags": []
   },
   "outputs": [
    {
     "data": {
      "text/plain": [
       "['chr12_37261631_G_A_b38',\n",
       " 'chr7_153696517_A_G_b38',\n",
       " 'chr1_3848985_G_A_b38',\n",
       " 'chr2_18779620_T_C_b38',\n",
       " 'chr1_212328921_TA_T_b38']"
      ]
     },
     "execution_count": 15,
     "metadata": {},
     "output_type": "execute_result"
    }
   ],
   "source": [
    "list(gwas_variants_ids_set)[:5]"
   ]
  },
  {
   "cell_type": "markdown",
   "id": "07866999-2305-41f9-a144-e69c9122c212",
   "metadata": {
    "papermill": {
     "duration": 0.00783,
     "end_time": "2022-07-22T04:15:03.426493",
     "exception": false,
     "start_time": "2022-07-22T04:15:03.418663",
     "status": "completed"
    },
    "tags": []
   },
   "source": [
    "## S-PrediXcan tissue models"
   ]
  },
  {
   "cell_type": "code",
   "execution_count": 16,
   "id": "780611d9-77c8-405f-90a4-f271f7b09397",
   "metadata": {
    "execution": {
     "iopub.execute_input": "2022-07-22T04:15:03.443462Z",
     "iopub.status.busy": "2022-07-22T04:15:03.443232Z",
     "iopub.status.idle": "2022-07-22T04:15:04.245781Z",
     "shell.execute_reply": "2022-07-22T04:15:04.245202Z"
    },
    "papermill": {
     "duration": 0.812579,
     "end_time": "2022-07-22T04:15:04.247302",
     "exception": false,
     "start_time": "2022-07-22T04:15:03.434723",
     "status": "completed"
    },
    "tags": []
   },
   "outputs": [],
   "source": [
    "spredixcan_genes_models = pd.read_pickle(INPUT_DIR / \"gene_tissues.pkl\").set_index(\n",
    "    \"gene_id\"\n",
    ")"
   ]
  },
  {
   "cell_type": "code",
   "execution_count": 17,
   "id": "726dd1f6-9557-4225-91fa-b3b879ea96e1",
   "metadata": {
    "execution": {
     "iopub.execute_input": "2022-07-22T04:15:04.266139Z",
     "iopub.status.busy": "2022-07-22T04:15:04.265854Z",
     "iopub.status.idle": "2022-07-22T04:15:04.282324Z",
     "shell.execute_reply": "2022-07-22T04:15:04.281823Z"
    },
    "papermill": {
     "duration": 0.026486,
     "end_time": "2022-07-22T04:15:04.283832",
     "exception": false,
     "start_time": "2022-07-22T04:15:04.257346",
     "status": "completed"
    },
    "tags": []
   },
   "outputs": [
    {
     "data": {
      "text/plain": [
       "(22314, 2)"
      ]
     },
     "execution_count": 17,
     "metadata": {},
     "output_type": "execute_result"
    }
   ],
   "source": [
    "spredixcan_genes_models.shape"
   ]
  },
  {
   "cell_type": "code",
   "execution_count": 18,
   "id": "944a1b48-222c-4eb0-b252-b9de2cbca215",
   "metadata": {
    "execution": {
     "iopub.execute_input": "2022-07-22T04:15:04.300318Z",
     "iopub.status.busy": "2022-07-22T04:15:04.299811Z",
     "iopub.status.idle": "2022-07-22T04:15:04.322199Z",
     "shell.execute_reply": "2022-07-22T04:15:04.321697Z"
    },
    "papermill": {
     "duration": 0.032133,
     "end_time": "2022-07-22T04:15:04.323633",
     "exception": false,
     "start_time": "2022-07-22T04:15:04.291500",
     "status": "completed"
    },
    "tags": []
   },
   "outputs": [
    {
     "data": {
      "text/html": [
       "<div>\n",
       "<style scoped>\n",
       "    .dataframe tbody tr th:only-of-type {\n",
       "        vertical-align: middle;\n",
       "    }\n",
       "\n",
       "    .dataframe tbody tr th {\n",
       "        vertical-align: top;\n",
       "    }\n",
       "\n",
       "    .dataframe thead th {\n",
       "        text-align: right;\n",
       "    }\n",
       "</style>\n",
       "<table border=\"1\" class=\"dataframe\">\n",
       "  <thead>\n",
       "    <tr style=\"text-align: right;\">\n",
       "      <th></th>\n",
       "      <th>gene_name</th>\n",
       "      <th>tissue</th>\n",
       "    </tr>\n",
       "    <tr>\n",
       "      <th>gene_id</th>\n",
       "      <th></th>\n",
       "      <th></th>\n",
       "    </tr>\n",
       "  </thead>\n",
       "  <tbody>\n",
       "    <tr>\n",
       "      <th>ENSG00000000419</th>\n",
       "      <td>DPM1</td>\n",
       "      <td>(Brain_Substantia_nigra, Brain_Hypothalamus)</td>\n",
       "    </tr>\n",
       "    <tr>\n",
       "      <th>ENSG00000000457</th>\n",
       "      <td>SCYL3</td>\n",
       "      <td>(Brain_Frontal_Cortex_BA9, Testis, Artery_Aort...</td>\n",
       "    </tr>\n",
       "    <tr>\n",
       "      <th>ENSG00000000460</th>\n",
       "      <td>C1orf112</td>\n",
       "      <td>(Brain_Frontal_Cortex_BA9, Testis, Artery_Aort...</td>\n",
       "    </tr>\n",
       "    <tr>\n",
       "      <th>ENSG00000000938</th>\n",
       "      <td>FGR</td>\n",
       "      <td>(Brain_Frontal_Cortex_BA9, Testis, Artery_Aort...</td>\n",
       "    </tr>\n",
       "    <tr>\n",
       "      <th>ENSG00000000971</th>\n",
       "      <td>CFH</td>\n",
       "      <td>(Brain_Frontal_Cortex_BA9, Testis, Artery_Aort...</td>\n",
       "    </tr>\n",
       "  </tbody>\n",
       "</table>\n",
       "</div>"
      ],
      "text/plain": [
       "                gene_name                                             tissue\n",
       "gene_id                                                                     \n",
       "ENSG00000000419      DPM1       (Brain_Substantia_nigra, Brain_Hypothalamus)\n",
       "ENSG00000000457     SCYL3  (Brain_Frontal_Cortex_BA9, Testis, Artery_Aort...\n",
       "ENSG00000000460  C1orf112  (Brain_Frontal_Cortex_BA9, Testis, Artery_Aort...\n",
       "ENSG00000000938       FGR  (Brain_Frontal_Cortex_BA9, Testis, Artery_Aort...\n",
       "ENSG00000000971       CFH  (Brain_Frontal_Cortex_BA9, Testis, Artery_Aort..."
      ]
     },
     "execution_count": 18,
     "metadata": {},
     "output_type": "execute_result"
    }
   ],
   "source": [
    "spredixcan_genes_models.head()"
   ]
  },
  {
   "cell_type": "code",
   "execution_count": 19,
   "id": "d1c11bb1-be0b-4f40-b360-633d6827109f",
   "metadata": {
    "execution": {
     "iopub.execute_input": "2022-07-22T04:15:04.340109Z",
     "iopub.status.busy": "2022-07-22T04:15:04.339595Z",
     "iopub.status.idle": "2022-07-22T04:15:04.355925Z",
     "shell.execute_reply": "2022-07-22T04:15:04.355482Z"
    },
    "papermill": {
     "duration": 0.025848,
     "end_time": "2022-07-22T04:15:04.357305",
     "exception": false,
     "start_time": "2022-07-22T04:15:04.331457",
     "status": "completed"
    },
    "tags": []
   },
   "outputs": [],
   "source": [
    "assert spredixcan_genes_models.index.is_unique"
   ]
  },
  {
   "cell_type": "markdown",
   "id": "6caf9d10-eda8-4ad2-8811-a983aa77a25a",
   "metadata": {
    "papermill": {
     "duration": 0.007149,
     "end_time": "2022-07-22T04:15:04.372024",
     "exception": false,
     "start_time": "2022-07-22T04:15:04.364875",
     "status": "completed"
    },
    "tags": []
   },
   "source": [
    "## Get common genes"
   ]
  },
  {
   "cell_type": "code",
   "execution_count": 20,
   "id": "f8d1e317-1cc8-4bdf-bbe9-c3b0a5478359",
   "metadata": {
    "execution": {
     "iopub.execute_input": "2022-07-22T04:15:04.387563Z",
     "iopub.status.busy": "2022-07-22T04:15:04.387051Z",
     "iopub.status.idle": "2022-07-22T04:15:04.403607Z",
     "shell.execute_reply": "2022-07-22T04:15:04.403074Z"
    },
    "papermill": {
     "duration": 0.025754,
     "end_time": "2022-07-22T04:15:04.404932",
     "exception": false,
     "start_time": "2022-07-22T04:15:04.379178",
     "status": "completed"
    },
    "tags": []
   },
   "outputs": [],
   "source": [
    "with open(INPUT_DIR / \"common_genes.pkl\", \"rb\") as handle:\n",
    "    common_genes = pickle.load(handle)"
   ]
  },
  {
   "cell_type": "code",
   "execution_count": 21,
   "id": "ce9506aa-2f38-4e46-b9c2-84d750fac0da",
   "metadata": {
    "execution": {
     "iopub.execute_input": "2022-07-22T04:15:04.420735Z",
     "iopub.status.busy": "2022-07-22T04:15:04.420226Z",
     "iopub.status.idle": "2022-07-22T04:15:04.436559Z",
     "shell.execute_reply": "2022-07-22T04:15:04.436053Z"
    },
    "papermill": {
     "duration": 0.025268,
     "end_time": "2022-07-22T04:15:04.437838",
     "exception": false,
     "start_time": "2022-07-22T04:15:04.412570",
     "status": "completed"
    },
    "tags": []
   },
   "outputs": [
    {
     "data": {
      "text/plain": [
       "6444"
      ]
     },
     "execution_count": 21,
     "metadata": {},
     "output_type": "execute_result"
    }
   ],
   "source": [
    "len(common_genes)"
   ]
  },
  {
   "cell_type": "code",
   "execution_count": 22,
   "id": "f525a698-506a-48e0-9aee-1aca62def5dd",
   "metadata": {
    "execution": {
     "iopub.execute_input": "2022-07-22T04:15:04.453450Z",
     "iopub.status.busy": "2022-07-22T04:15:04.453148Z",
     "iopub.status.idle": "2022-07-22T04:15:04.470044Z",
     "shell.execute_reply": "2022-07-22T04:15:04.469605Z"
    },
    "papermill": {
     "duration": 0.026019,
     "end_time": "2022-07-22T04:15:04.471293",
     "exception": false,
     "start_time": "2022-07-22T04:15:04.445274",
     "status": "completed"
    },
    "tags": []
   },
   "outputs": [
    {
     "data": {
      "text/plain": [
       "['A2M', 'AAAS', 'AANAT', 'AARS', 'AARS2']"
      ]
     },
     "execution_count": 22,
     "metadata": {},
     "output_type": "execute_result"
    }
   ],
   "source": [
    "sorted(list(common_genes))[:5]"
   ]
  },
  {
   "cell_type": "markdown",
   "id": "a5b5092c-a13e-47c4-a92a-480fcc08f3ae",
   "metadata": {
    "papermill": {
     "duration": 0.007075,
     "end_time": "2022-07-22T04:15:04.487955",
     "exception": false,
     "start_time": "2022-07-22T04:15:04.480880",
     "status": "completed"
    },
    "tags": []
   },
   "source": [
    "## Gene info"
   ]
  },
  {
   "cell_type": "code",
   "execution_count": 23,
   "id": "7d6bb224-88e9-4358-ac10-43a41d92cdad",
   "metadata": {
    "execution": {
     "iopub.execute_input": "2022-07-22T04:15:04.503094Z",
     "iopub.status.busy": "2022-07-22T04:15:04.502911Z",
     "iopub.status.idle": "2022-07-22T04:15:04.520164Z",
     "shell.execute_reply": "2022-07-22T04:15:04.519717Z"
    },
    "papermill": {
     "duration": 0.026497,
     "end_time": "2022-07-22T04:15:04.521541",
     "exception": false,
     "start_time": "2022-07-22T04:15:04.495044",
     "status": "completed"
    },
    "tags": []
   },
   "outputs": [],
   "source": [
    "genes_info = pd.read_pickle(INPUT_DIR / \"genes_info.pkl\")"
   ]
  },
  {
   "cell_type": "code",
   "execution_count": 24,
   "id": "9e32abfa-546d-483e-8c18-d526e9e05903",
   "metadata": {
    "execution": {
     "iopub.execute_input": "2022-07-22T04:15:04.537314Z",
     "iopub.status.busy": "2022-07-22T04:15:04.536865Z",
     "iopub.status.idle": "2022-07-22T04:15:04.570303Z",
     "shell.execute_reply": "2022-07-22T04:15:04.569812Z"
    },
    "papermill": {
     "duration": 0.042882,
     "end_time": "2022-07-22T04:15:04.571811",
     "exception": false,
     "start_time": "2022-07-22T04:15:04.528929",
     "status": "completed"
    },
    "tags": []
   },
   "outputs": [
    {
     "data": {
      "text/plain": [
       "(6444, 7)"
      ]
     },
     "execution_count": 24,
     "metadata": {},
     "output_type": "execute_result"
    }
   ],
   "source": [
    "genes_info.shape"
   ]
  },
  {
   "cell_type": "code",
   "execution_count": 25,
   "id": "d16c3e92-85ec-468a-9a56-e25a9774a1cb",
   "metadata": {
    "execution": {
     "iopub.execute_input": "2022-07-22T04:15:04.591019Z",
     "iopub.status.busy": "2022-07-22T04:15:04.590582Z",
     "iopub.status.idle": "2022-07-22T04:15:04.618039Z",
     "shell.execute_reply": "2022-07-22T04:15:04.617543Z"
    },
    "papermill": {
     "duration": 0.038677,
     "end_time": "2022-07-22T04:15:04.619508",
     "exception": false,
     "start_time": "2022-07-22T04:15:04.580831",
     "status": "completed"
    },
    "tags": []
   },
   "outputs": [
    {
     "data": {
      "text/html": [
       "<div>\n",
       "<style scoped>\n",
       "    .dataframe tbody tr th:only-of-type {\n",
       "        vertical-align: middle;\n",
       "    }\n",
       "\n",
       "    .dataframe tbody tr th {\n",
       "        vertical-align: top;\n",
       "    }\n",
       "\n",
       "    .dataframe thead th {\n",
       "        text-align: right;\n",
       "    }\n",
       "</style>\n",
       "<table border=\"1\" class=\"dataframe\">\n",
       "  <thead>\n",
       "    <tr style=\"text-align: right;\">\n",
       "      <th></th>\n",
       "      <th>name</th>\n",
       "      <th>id</th>\n",
       "      <th>chr</th>\n",
       "      <th>band</th>\n",
       "      <th>start_position</th>\n",
       "      <th>end_position</th>\n",
       "      <th>gene_length</th>\n",
       "    </tr>\n",
       "  </thead>\n",
       "  <tbody>\n",
       "    <tr>\n",
       "      <th>0</th>\n",
       "      <td>MFN2</td>\n",
       "      <td>ENSG00000116688</td>\n",
       "      <td>1</td>\n",
       "      <td>1p36.22</td>\n",
       "      <td>11980181.0</td>\n",
       "      <td>12013514.0</td>\n",
       "      <td>33333.0</td>\n",
       "    </tr>\n",
       "    <tr>\n",
       "      <th>1</th>\n",
       "      <td>PPA2</td>\n",
       "      <td>ENSG00000138777</td>\n",
       "      <td>4</td>\n",
       "      <td>4q24</td>\n",
       "      <td>105369077.0</td>\n",
       "      <td>105474067.0</td>\n",
       "      <td>104990.0</td>\n",
       "    </tr>\n",
       "    <tr>\n",
       "      <th>2</th>\n",
       "      <td>ADRA2A</td>\n",
       "      <td>ENSG00000150594</td>\n",
       "      <td>10</td>\n",
       "      <td>10q25.2</td>\n",
       "      <td>111077163.0</td>\n",
       "      <td>111080907.0</td>\n",
       "      <td>3744.0</td>\n",
       "    </tr>\n",
       "    <tr>\n",
       "      <th>3</th>\n",
       "      <td>RYR2</td>\n",
       "      <td>ENSG00000198626</td>\n",
       "      <td>1</td>\n",
       "      <td>1q43</td>\n",
       "      <td>237042184.0</td>\n",
       "      <td>237833988.0</td>\n",
       "      <td>791804.0</td>\n",
       "    </tr>\n",
       "    <tr>\n",
       "      <th>4</th>\n",
       "      <td>VAV2</td>\n",
       "      <td>ENSG00000160293</td>\n",
       "      <td>9</td>\n",
       "      <td>9q34.2</td>\n",
       "      <td>133761894.0</td>\n",
       "      <td>133992604.0</td>\n",
       "      <td>230710.0</td>\n",
       "    </tr>\n",
       "  </tbody>\n",
       "</table>\n",
       "</div>"
      ],
      "text/plain": [
       "     name               id chr     band  start_position  end_position  \\\n",
       "0    MFN2  ENSG00000116688   1  1p36.22      11980181.0    12013514.0   \n",
       "1    PPA2  ENSG00000138777   4     4q24     105369077.0   105474067.0   \n",
       "2  ADRA2A  ENSG00000150594  10  10q25.2     111077163.0   111080907.0   \n",
       "3    RYR2  ENSG00000198626   1     1q43     237042184.0   237833988.0   \n",
       "4    VAV2  ENSG00000160293   9   9q34.2     133761894.0   133992604.0   \n",
       "\n",
       "   gene_length  \n",
       "0      33333.0  \n",
       "1     104990.0  \n",
       "2       3744.0  \n",
       "3     791804.0  \n",
       "4     230710.0  "
      ]
     },
     "execution_count": 25,
     "metadata": {},
     "output_type": "execute_result"
    }
   ],
   "source": [
    "genes_info.head()"
   ]
  },
  {
   "cell_type": "markdown",
   "id": "d3843e06",
   "metadata": {
    "papermill": {
     "duration": 0.015263,
     "end_time": "2022-07-22T04:15:04.651735",
     "exception": false,
     "start_time": "2022-07-22T04:15:04.636472",
     "status": "completed"
    },
    "tags": []
   },
   "source": [
    "# Compute correlations"
   ]
  },
  {
   "cell_type": "code",
   "execution_count": 26,
   "id": "cb859c15-d1f3-4006-a74c-2b83c0db9611",
   "metadata": {
    "execution": {
     "iopub.execute_input": "2022-07-22T04:15:04.673228Z",
     "iopub.status.busy": "2022-07-22T04:15:04.673045Z",
     "iopub.status.idle": "2022-07-22T04:15:04.692953Z",
     "shell.execute_reply": "2022-07-22T04:15:04.692026Z"
    },
    "papermill": {
     "duration": 0.034613,
     "end_time": "2022-07-22T04:15:04.694734",
     "exception": false,
     "start_time": "2022-07-22T04:15:04.660121",
     "status": "completed"
    },
    "tags": []
   },
   "outputs": [
    {
     "data": {
      "text/plain": [
       "PosixPath('/opt/data/results/gls/gene_corrs/cohorts/1000g_eur/1000g/mashr/by_chr/gene_corrs-chr12.pkl')"
      ]
     },
     "metadata": {},
     "output_type": "display_data"
    }
   ],
   "source": [
    "output_dir = OUTPUT_DIR_BASE / \"by_chr\"\n",
    "output_dir.mkdir(exist_ok=True, parents=True)\n",
    "output_file = output_dir / f\"gene_corrs-chr{CHROMOSOME}.pkl\"\n",
    "display(output_file)"
   ]
  },
  {
   "cell_type": "code",
   "execution_count": 27,
   "id": "aa674fe4-6794-4eed-98fa-32b39d1d4ace",
   "metadata": {
    "execution": {
     "iopub.execute_input": "2022-07-22T04:15:04.715788Z",
     "iopub.status.busy": "2022-07-22T04:15:04.715248Z",
     "iopub.status.idle": "2022-07-22T04:15:04.734406Z",
     "shell.execute_reply": "2022-07-22T04:15:04.733945Z"
    },
    "papermill": {
     "duration": 0.030548,
     "end_time": "2022-07-22T04:15:04.735973",
     "exception": false,
     "start_time": "2022-07-22T04:15:04.705425",
     "status": "completed"
    },
    "tags": []
   },
   "outputs": [],
   "source": [
    "warnings.filterwarnings(\"error\")"
   ]
  },
  {
   "cell_type": "code",
   "execution_count": 28,
   "id": "44d5450b-3baf-43f1-9e2e-4b06f1a785f8",
   "metadata": {
    "execution": {
     "iopub.execute_input": "2022-07-22T04:15:04.755304Z",
     "iopub.status.busy": "2022-07-22T04:15:04.755128Z",
     "iopub.status.idle": "2022-07-22T04:15:04.780437Z",
     "shell.execute_reply": "2022-07-22T04:15:04.779978Z"
    },
    "papermill": {
     "duration": 0.036309,
     "end_time": "2022-07-22T04:15:04.781867",
     "exception": false,
     "start_time": "2022-07-22T04:15:04.745558",
     "status": "completed"
    },
    "tags": []
   },
   "outputs": [],
   "source": [
    "# standard checks\n",
    "all_chrs = genes_info[\"chr\"].dropna().unique()\n",
    "assert all_chrs.shape[0] == 22\n",
    "\n",
    "# select chromosome given by the user\n",
    "assert CHROMOSOME in all_chrs"
   ]
  },
  {
   "cell_type": "code",
   "execution_count": 29,
   "id": "2d7c043c-92a7-4d35-991b-fa69ac1e0268",
   "metadata": {
    "execution": {
     "iopub.execute_input": "2022-07-22T04:15:04.798988Z",
     "iopub.status.busy": "2022-07-22T04:15:04.798552Z",
     "iopub.status.idle": "2022-07-22T04:15:04.815546Z",
     "shell.execute_reply": "2022-07-22T04:15:04.815108Z"
    },
    "papermill": {
     "duration": 0.026902,
     "end_time": "2022-07-22T04:15:04.816836",
     "exception": false,
     "start_time": "2022-07-22T04:15:04.789934",
     "status": "completed"
    },
    "tags": []
   },
   "outputs": [
    {
     "name": "stdout",
     "output_type": "stream",
     "text": [
      "Number of genes in chromosome: 388\n"
     ]
    }
   ],
   "source": [
    "# run only on the chromosome specified\n",
    "all_chrs = [CHROMOSOME]\n",
    "genes_chr = genes_info[genes_info[\"chr\"] == CHROMOSOME]\n",
    "\n",
    "# For testing purposes\n",
    "# genes_chr = genes_chr.sample(n=20)\n",
    "\n",
    "print(f\"Number of genes in chromosome: {genes_chr.shape[0]}\", flush=True)"
   ]
  },
  {
   "cell_type": "code",
   "execution_count": 30,
   "id": "916015d8-2979-46d3-a9b9-1cf5a0932c6a",
   "metadata": {
    "execution": {
     "iopub.execute_input": "2022-07-22T04:15:04.833934Z",
     "iopub.status.busy": "2022-07-22T04:15:04.833669Z",
     "iopub.status.idle": "2022-07-22T04:15:04.849167Z",
     "shell.execute_reply": "2022-07-22T04:15:04.848742Z"
    },
    "papermill": {
     "duration": 0.025609,
     "end_time": "2022-07-22T04:15:04.850587",
     "exception": false,
     "start_time": "2022-07-22T04:15:04.824978",
     "status": "completed"
    },
    "tags": []
   },
   "outputs": [],
   "source": [
    "# sort genes by starting position to make visualizations better later\n",
    "genes_chr = genes_chr.sort_values(\"start_position\")"
   ]
  },
  {
   "cell_type": "code",
   "execution_count": 31,
   "id": "a38aa74a-8ad3-47f6-8ef9-56be0e011774",
   "metadata": {
    "execution": {
     "iopub.execute_input": "2022-07-22T04:15:04.867524Z",
     "iopub.status.busy": "2022-07-22T04:15:04.867269Z",
     "iopub.status.idle": "2022-07-22T04:15:04.882552Z",
     "shell.execute_reply": "2022-07-22T04:15:04.882125Z"
    },
    "papermill": {
     "duration": 0.025269,
     "end_time": "2022-07-22T04:15:04.884080",
     "exception": false,
     "start_time": "2022-07-22T04:15:04.858811",
     "status": "completed"
    },
    "tags": []
   },
   "outputs": [],
   "source": [
    "gene_chr_objs = [Gene(ensembl_id=gene_id) for gene_id in genes_chr[\"id\"]]"
   ]
  },
  {
   "cell_type": "code",
   "execution_count": 32,
   "id": "570f974f-13c3-42b6-ad3a-ce99ca885c1a",
   "metadata": {
    "execution": {
     "iopub.execute_input": "2022-07-22T04:15:04.901094Z",
     "iopub.status.busy": "2022-07-22T04:15:04.900878Z",
     "iopub.status.idle": "2022-07-22T04:15:04.916566Z",
     "shell.execute_reply": "2022-07-22T04:15:04.916089Z"
    },
    "papermill": {
     "duration": 0.025562,
     "end_time": "2022-07-22T04:15:04.917951",
     "exception": false,
     "start_time": "2022-07-22T04:15:04.892389",
     "status": "completed"
    },
    "tags": []
   },
   "outputs": [
    {
     "name": "stdout",
     "output_type": "stream",
     "text": [
      "Number of gene combinations: 75078\n"
     ]
    }
   ],
   "source": [
    "n = len(gene_chr_objs)\n",
    "n_comb = int(n * (n - 1) / 2.0)\n",
    "print(f\"Number of gene combinations: {n_comb}\", flush=True)"
   ]
  },
  {
   "cell_type": "code",
   "execution_count": 33,
   "id": "cdbb90a1",
   "metadata": {
    "execution": {
     "iopub.execute_input": "2022-07-22T04:15:04.935951Z",
     "iopub.status.busy": "2022-07-22T04:15:04.935507Z",
     "iopub.status.idle": "2022-07-22T04:28:23.921863Z",
     "shell.execute_reply": "2022-07-22T04:28:23.921344Z"
    },
    "papermill": {
     "duration": 798.996556,
     "end_time": "2022-07-22T04:28:23.923205",
     "exception": false,
     "start_time": "2022-07-22T04:15:04.926649",
     "status": "completed"
    },
    "tags": []
   },
   "outputs": [
    {
     "name": "stderr",
     "output_type": "stream",
     "text": [
      "ENSG00000196387 / ENSG00000256223: 100%|██████████████████████| 75078/75078 [13:18<00:00, 93.97it/s]\n"
     ]
    },
    {
     "data": {
      "text/plain": [
       "PosixPath('/opt/data/results/gls/gene_corrs/cohorts/1000g_eur/1000g/mashr/by_chr/gene_corrs-chr12.pkl')"
      ]
     },
     "metadata": {},
     "output_type": "display_data"
    }
   ],
   "source": [
    "gene_corrs = []\n",
    "\n",
    "i = 0\n",
    "with tqdm(ncols=100, total=n_comb) as pbar:\n",
    "    for gene1_idx in range(0, len(gene_chr_objs) - 1):\n",
    "        gene1_obj = gene_chr_objs[gene1_idx]\n",
    "        gene1_tissues = spredixcan_genes_models.loc[gene1_obj.ensembl_id, \"tissue\"]\n",
    "\n",
    "        for gene2_idx in range(gene1_idx + 1, len(gene_chr_objs)):\n",
    "            gene2_obj = gene_chr_objs[gene2_idx]\n",
    "            gene2_tissues = spredixcan_genes_models.loc[gene2_obj.ensembl_id, \"tissue\"]\n",
    "\n",
    "            pbar.set_description(f\"{gene1_obj.ensembl_id} / {gene2_obj.ensembl_id}\")\n",
    "\n",
    "            try:\n",
    "                r = gene1_obj.get_ssm_correlation(\n",
    "                    other_gene=gene2_obj,\n",
    "                    tissues=gene1_tissues,\n",
    "                    other_tissues=gene2_tissues,\n",
    "                    snps_subset=gwas_variants_ids_set,\n",
    "                    condition_number=SMULTIXCAN_CONDITION_NUMBER,\n",
    "                    reference_panel=REFERENCE_PANEL,\n",
    "                    model_type=EQTL_MODEL,\n",
    "                    use_within_distance=COMPUTE_CORRELATIONS_WITHIN_DISTANCE,\n",
    "                )\n",
    "\n",
    "                if r is None:\n",
    "                    # if r is None, it's very likely because:\n",
    "                    #  * one of the genes has no prediction models\n",
    "                    #  * all the SNPs predictors for the gene are not present in the reference\n",
    "                    #    panel\n",
    "\n",
    "                    r = 0.0\n",
    "\n",
    "                gene_corrs.append(r)\n",
    "            except Warning as e:\n",
    "                if not DEBUG_MODE:\n",
    "                    raise e\n",
    "\n",
    "                print(\n",
    "                    f\"RuntimeWarning for genes {gene1_obj.ensembl_id} and {gene2_obj.ensembl_id}\",\n",
    "                    flush=True,\n",
    "                )\n",
    "                print(traceback.format_exc(), flush=True)\n",
    "\n",
    "                gene_corrs.append(np.nan)\n",
    "            except Exception as e:\n",
    "                if not DEBUG_MODE:\n",
    "                    raise e\n",
    "\n",
    "                print(\n",
    "                    f\"Exception for genes {gene1_obj.ensembl_id} and {gene2_obj.ensembl_id}\",\n",
    "                    flush=True,\n",
    "                )\n",
    "                print(traceback.format_exc(), flush=True)\n",
    "\n",
    "                gene_corrs.append(np.nan)\n",
    "\n",
    "            pbar.update(1)\n",
    "\n",
    "# create a pandas series\n",
    "gene_corrs_flat = pd.Series(gene_corrs)\n",
    "\n",
    "# save\n",
    "# FIXME: consider saving only the condenced matrix here. See here for\n",
    "# more details: https://github.com/greenelab/phenoplier/pull/38#discussion_r634600813\n",
    "gene_corrs_data = squareform(np.array(gene_corrs, dtype=np.float64))\n",
    "np.fill_diagonal(gene_corrs_data, 1.0)\n",
    "\n",
    "gene_chr_ids = [g.ensembl_id for g in gene_chr_objs]\n",
    "gene_corrs_df = pd.DataFrame(\n",
    "    data=gene_corrs_data,\n",
    "    index=gene_chr_ids,\n",
    "    columns=gene_chr_ids,\n",
    ")\n",
    "\n",
    "output_dir.mkdir(exist_ok=True, parents=True)\n",
    "display(output_file)\n",
    "\n",
    "gene_corrs_df.to_pickle(output_file)"
   ]
  },
  {
   "cell_type": "markdown",
   "id": "faa67b51-5373-470f-aa72-2ded53fa6dfe",
   "metadata": {
    "papermill": {
     "duration": 2.833289,
     "end_time": "2022-07-22T04:28:29.639489",
     "exception": false,
     "start_time": "2022-07-22T04:28:26.806200",
     "status": "completed"
    },
    "tags": []
   },
   "source": [
    "# Testing"
   ]
  },
  {
   "cell_type": "code",
   "execution_count": 34,
   "id": "14f7d046-4b55-4896-a56b-990127bcc388",
   "metadata": {
    "execution": {
     "iopub.execute_input": "2022-07-22T04:28:35.330868Z",
     "iopub.status.busy": "2022-07-22T04:28:35.330699Z",
     "iopub.status.idle": "2022-07-22T04:28:35.347329Z",
     "shell.execute_reply": "2022-07-22T04:28:35.346763Z"
    },
    "papermill": {
     "duration": 2.832221,
     "end_time": "2022-07-22T04:28:35.348740",
     "exception": false,
     "start_time": "2022-07-22T04:28:32.516519",
     "status": "completed"
    },
    "tags": []
   },
   "outputs": [
    {
     "data": {
      "text/plain": [
       "(388, 388)"
      ]
     },
     "execution_count": 34,
     "metadata": {},
     "output_type": "execute_result"
    }
   ],
   "source": [
    "gene_corrs_df.shape"
   ]
  },
  {
   "cell_type": "code",
   "execution_count": 35,
   "id": "c7d15414-3297-4537-a7c6-7588c0baeb75",
   "metadata": {
    "execution": {
     "iopub.execute_input": "2022-07-22T04:28:41.017912Z",
     "iopub.status.busy": "2022-07-22T04:28:41.017742Z",
     "iopub.status.idle": "2022-07-22T04:28:41.048798Z",
     "shell.execute_reply": "2022-07-22T04:28:41.048271Z"
    },
    "papermill": {
     "duration": 2.846275,
     "end_time": "2022-07-22T04:28:41.050215",
     "exception": false,
     "start_time": "2022-07-22T04:28:38.203940",
     "status": "completed"
    },
    "tags": []
   },
   "outputs": [
    {
     "data": {
      "text/html": [
       "<div>\n",
       "<style scoped>\n",
       "    .dataframe tbody tr th:only-of-type {\n",
       "        vertical-align: middle;\n",
       "    }\n",
       "\n",
       "    .dataframe tbody tr th {\n",
       "        vertical-align: top;\n",
       "    }\n",
       "\n",
       "    .dataframe thead th {\n",
       "        text-align: right;\n",
       "    }\n",
       "</style>\n",
       "<table border=\"1\" class=\"dataframe\">\n",
       "  <thead>\n",
       "    <tr style=\"text-align: right;\">\n",
       "      <th></th>\n",
       "      <th>ENSG00000120645</th>\n",
       "      <th>ENSG00000111181</th>\n",
       "      <th>ENSG00000171840</th>\n",
       "      <th>ENSG00000060237</th>\n",
       "      <th>ENSG00000002016</th>\n",
       "      <th>ENSG00000082805</th>\n",
       "      <th>ENSG00000111186</th>\n",
       "      <th>ENSG00000006831</th>\n",
       "      <th>ENSG00000151062</th>\n",
       "      <th>ENSG00000151065</th>\n",
       "      <th>...</th>\n",
       "      <th>ENSG00000132341</th>\n",
       "      <th>ENSG00000198598</th>\n",
       "      <th>ENSG00000177169</th>\n",
       "      <th>ENSG00000182870</th>\n",
       "      <th>ENSG00000177084</th>\n",
       "      <th>ENSG00000176894</th>\n",
       "      <th>ENSG00000196458</th>\n",
       "      <th>ENSG00000198393</th>\n",
       "      <th>ENSG00000196387</th>\n",
       "      <th>ENSG00000256223</th>\n",
       "    </tr>\n",
       "  </thead>\n",
       "  <tbody>\n",
       "    <tr>\n",
       "      <th>ENSG00000120645</th>\n",
       "      <td>1.000000</td>\n",
       "      <td>0.082723</td>\n",
       "      <td>0.016188</td>\n",
       "      <td>0.017218</td>\n",
       "      <td>0.007930</td>\n",
       "      <td>0.012624</td>\n",
       "      <td>0.009413</td>\n",
       "      <td>0.013591</td>\n",
       "      <td>0.012138</td>\n",
       "      <td>0.011277</td>\n",
       "      <td>...</td>\n",
       "      <td>0.0</td>\n",
       "      <td>0.0</td>\n",
       "      <td>0.0</td>\n",
       "      <td>0.0</td>\n",
       "      <td>0.0</td>\n",
       "      <td>0.0</td>\n",
       "      <td>0.0</td>\n",
       "      <td>0.0</td>\n",
       "      <td>0.0</td>\n",
       "      <td>0.0</td>\n",
       "    </tr>\n",
       "    <tr>\n",
       "      <th>ENSG00000111181</th>\n",
       "      <td>0.082723</td>\n",
       "      <td>1.000000</td>\n",
       "      <td>0.016569</td>\n",
       "      <td>0.016026</td>\n",
       "      <td>0.004986</td>\n",
       "      <td>0.017887</td>\n",
       "      <td>0.015020</td>\n",
       "      <td>0.013956</td>\n",
       "      <td>0.012720</td>\n",
       "      <td>0.011574</td>\n",
       "      <td>...</td>\n",
       "      <td>0.0</td>\n",
       "      <td>0.0</td>\n",
       "      <td>0.0</td>\n",
       "      <td>0.0</td>\n",
       "      <td>0.0</td>\n",
       "      <td>0.0</td>\n",
       "      <td>0.0</td>\n",
       "      <td>0.0</td>\n",
       "      <td>0.0</td>\n",
       "      <td>0.0</td>\n",
       "    </tr>\n",
       "    <tr>\n",
       "      <th>ENSG00000171840</th>\n",
       "      <td>0.016188</td>\n",
       "      <td>0.016569</td>\n",
       "      <td>1.000000</td>\n",
       "      <td>0.152897</td>\n",
       "      <td>0.007871</td>\n",
       "      <td>0.019746</td>\n",
       "      <td>0.017355</td>\n",
       "      <td>0.012510</td>\n",
       "      <td>0.014717</td>\n",
       "      <td>0.008466</td>\n",
       "      <td>...</td>\n",
       "      <td>0.0</td>\n",
       "      <td>0.0</td>\n",
       "      <td>0.0</td>\n",
       "      <td>0.0</td>\n",
       "      <td>0.0</td>\n",
       "      <td>0.0</td>\n",
       "      <td>0.0</td>\n",
       "      <td>0.0</td>\n",
       "      <td>0.0</td>\n",
       "      <td>0.0</td>\n",
       "    </tr>\n",
       "    <tr>\n",
       "      <th>ENSG00000060237</th>\n",
       "      <td>0.017218</td>\n",
       "      <td>0.016026</td>\n",
       "      <td>0.152897</td>\n",
       "      <td>1.000000</td>\n",
       "      <td>0.220434</td>\n",
       "      <td>0.023835</td>\n",
       "      <td>0.014288</td>\n",
       "      <td>0.010506</td>\n",
       "      <td>0.014577</td>\n",
       "      <td>0.011071</td>\n",
       "      <td>...</td>\n",
       "      <td>0.0</td>\n",
       "      <td>0.0</td>\n",
       "      <td>0.0</td>\n",
       "      <td>0.0</td>\n",
       "      <td>0.0</td>\n",
       "      <td>0.0</td>\n",
       "      <td>0.0</td>\n",
       "      <td>0.0</td>\n",
       "      <td>0.0</td>\n",
       "      <td>0.0</td>\n",
       "    </tr>\n",
       "    <tr>\n",
       "      <th>ENSG00000002016</th>\n",
       "      <td>0.007930</td>\n",
       "      <td>0.004986</td>\n",
       "      <td>0.007871</td>\n",
       "      <td>0.220434</td>\n",
       "      <td>1.000000</td>\n",
       "      <td>0.025923</td>\n",
       "      <td>0.015026</td>\n",
       "      <td>0.007511</td>\n",
       "      <td>0.011780</td>\n",
       "      <td>0.006963</td>\n",
       "      <td>...</td>\n",
       "      <td>0.0</td>\n",
       "      <td>0.0</td>\n",
       "      <td>0.0</td>\n",
       "      <td>0.0</td>\n",
       "      <td>0.0</td>\n",
       "      <td>0.0</td>\n",
       "      <td>0.0</td>\n",
       "      <td>0.0</td>\n",
       "      <td>0.0</td>\n",
       "      <td>0.0</td>\n",
       "    </tr>\n",
       "  </tbody>\n",
       "</table>\n",
       "<p>5 rows × 388 columns</p>\n",
       "</div>"
      ],
      "text/plain": [
       "                 ENSG00000120645  ENSG00000111181  ENSG00000171840  \\\n",
       "ENSG00000120645         1.000000         0.082723         0.016188   \n",
       "ENSG00000111181         0.082723         1.000000         0.016569   \n",
       "ENSG00000171840         0.016188         0.016569         1.000000   \n",
       "ENSG00000060237         0.017218         0.016026         0.152897   \n",
       "ENSG00000002016         0.007930         0.004986         0.007871   \n",
       "\n",
       "                 ENSG00000060237  ENSG00000002016  ENSG00000082805  \\\n",
       "ENSG00000120645         0.017218         0.007930         0.012624   \n",
       "ENSG00000111181         0.016026         0.004986         0.017887   \n",
       "ENSG00000171840         0.152897         0.007871         0.019746   \n",
       "ENSG00000060237         1.000000         0.220434         0.023835   \n",
       "ENSG00000002016         0.220434         1.000000         0.025923   \n",
       "\n",
       "                 ENSG00000111186  ENSG00000006831  ENSG00000151062  \\\n",
       "ENSG00000120645         0.009413         0.013591         0.012138   \n",
       "ENSG00000111181         0.015020         0.013956         0.012720   \n",
       "ENSG00000171840         0.017355         0.012510         0.014717   \n",
       "ENSG00000060237         0.014288         0.010506         0.014577   \n",
       "ENSG00000002016         0.015026         0.007511         0.011780   \n",
       "\n",
       "                 ENSG00000151065  ...  ENSG00000132341  ENSG00000198598  \\\n",
       "ENSG00000120645         0.011277  ...              0.0              0.0   \n",
       "ENSG00000111181         0.011574  ...              0.0              0.0   \n",
       "ENSG00000171840         0.008466  ...              0.0              0.0   \n",
       "ENSG00000060237         0.011071  ...              0.0              0.0   \n",
       "ENSG00000002016         0.006963  ...              0.0              0.0   \n",
       "\n",
       "                 ENSG00000177169  ENSG00000182870  ENSG00000177084  \\\n",
       "ENSG00000120645              0.0              0.0              0.0   \n",
       "ENSG00000111181              0.0              0.0              0.0   \n",
       "ENSG00000171840              0.0              0.0              0.0   \n",
       "ENSG00000060237              0.0              0.0              0.0   \n",
       "ENSG00000002016              0.0              0.0              0.0   \n",
       "\n",
       "                 ENSG00000176894  ENSG00000196458  ENSG00000198393  \\\n",
       "ENSG00000120645              0.0              0.0              0.0   \n",
       "ENSG00000111181              0.0              0.0              0.0   \n",
       "ENSG00000171840              0.0              0.0              0.0   \n",
       "ENSG00000060237              0.0              0.0              0.0   \n",
       "ENSG00000002016              0.0              0.0              0.0   \n",
       "\n",
       "                 ENSG00000196387  ENSG00000256223  \n",
       "ENSG00000120645              0.0              0.0  \n",
       "ENSG00000111181              0.0              0.0  \n",
       "ENSG00000171840              0.0              0.0  \n",
       "ENSG00000060237              0.0              0.0  \n",
       "ENSG00000002016              0.0              0.0  \n",
       "\n",
       "[5 rows x 388 columns]"
      ]
     },
     "execution_count": 35,
     "metadata": {},
     "output_type": "execute_result"
    }
   ],
   "source": [
    "gene_corrs_df.head()"
   ]
  },
  {
   "cell_type": "markdown",
   "id": "dad6603f-01c6-41fb-a6f6-241051207dd8",
   "metadata": {
    "papermill": {
     "duration": 2.809088,
     "end_time": "2022-07-22T04:28:46.736031",
     "exception": false,
     "start_time": "2022-07-22T04:28:43.926943",
     "status": "completed"
    },
    "tags": []
   },
   "source": [
    "## Standard checks and stats"
   ]
  },
  {
   "cell_type": "code",
   "execution_count": 36,
   "id": "286686af-1b7b-4440-8453-6bdcbd8de19c",
   "metadata": {
    "execution": {
     "iopub.execute_input": "2022-07-22T04:28:52.425408Z",
     "iopub.status.busy": "2022-07-22T04:28:52.425243Z",
     "iopub.status.idle": "2022-07-22T04:28:52.441347Z",
     "shell.execute_reply": "2022-07-22T04:28:52.440817Z"
    },
    "papermill": {
     "duration": 2.836925,
     "end_time": "2022-07-22T04:28:52.442744",
     "exception": false,
     "start_time": "2022-07-22T04:28:49.605819",
     "status": "completed"
    },
    "tags": []
   },
   "outputs": [],
   "source": [
    "assert not gene_corrs_df.isna().any().any()"
   ]
  },
  {
   "cell_type": "code",
   "execution_count": 37,
   "id": "00583efc-7068-4270-ad1e-4a418e91db96",
   "metadata": {
    "execution": {
     "iopub.execute_input": "2022-07-22T04:28:58.108347Z",
     "iopub.status.busy": "2022-07-22T04:28:58.107955Z",
     "iopub.status.idle": "2022-07-22T04:28:58.126505Z",
     "shell.execute_reply": "2022-07-22T04:28:58.125985Z"
    },
    "papermill": {
     "duration": 2.811489,
     "end_time": "2022-07-22T04:28:58.127842",
     "exception": false,
     "start_time": "2022-07-22T04:28:55.316353",
     "status": "completed"
    },
    "tags": []
   },
   "outputs": [
    {
     "data": {
      "text/plain": [
       "0.0"
      ]
     },
     "metadata": {},
     "output_type": "display_data"
    }
   ],
   "source": [
    "_min_val = gene_corrs_df.min().min()\n",
    "display(_min_val)\n",
    "assert _min_val >= 0.0"
   ]
  },
  {
   "cell_type": "code",
   "execution_count": 38,
   "id": "d04fb2cf-1050-475b-b855-f5f7cc04092b",
   "metadata": {
    "execution": {
     "iopub.execute_input": "2022-07-22T04:29:03.725912Z",
     "iopub.status.busy": "2022-07-22T04:29:03.725554Z",
     "iopub.status.idle": "2022-07-22T04:29:03.745899Z",
     "shell.execute_reply": "2022-07-22T04:29:03.745436Z"
    },
    "papermill": {
     "duration": 2.793234,
     "end_time": "2022-07-22T04:29:03.747348",
     "exception": false,
     "start_time": "2022-07-22T04:29:00.954114",
     "status": "completed"
    },
    "tags": []
   },
   "outputs": [
    {
     "data": {
      "text/plain": [
       "1.0"
      ]
     },
     "metadata": {},
     "output_type": "display_data"
    }
   ],
   "source": [
    "_max_val = gene_corrs_df.max().max()  # this captures the diagonal\n",
    "display(_max_val)\n",
    "assert _max_val <= 1.0"
   ]
  },
  {
   "cell_type": "code",
   "execution_count": 39,
   "id": "96d02c44-1fba-47be-8a93-8f2608420b9c",
   "metadata": {
    "execution": {
     "iopub.execute_input": "2022-07-22T04:29:09.445367Z",
     "iopub.status.busy": "2022-07-22T04:29:09.445194Z",
     "iopub.status.idle": "2022-07-22T04:29:09.460210Z",
     "shell.execute_reply": "2022-07-22T04:29:09.459642Z"
    },
    "papermill": {
     "duration": 2.836456,
     "end_time": "2022-07-22T04:29:09.461711",
     "exception": false,
     "start_time": "2022-07-22T04:29:06.625255",
     "status": "completed"
    },
    "tags": []
   },
   "outputs": [],
   "source": [
    "# check upper triangular values\n",
    "assert len(gene_corrs) == int(genes_chr.shape[0] * (genes_chr.shape[0] - 1) / 2)"
   ]
  },
  {
   "cell_type": "code",
   "execution_count": 40,
   "id": "fe283586-c348-40e0-8841-f6d97bfb021c",
   "metadata": {
    "execution": {
     "iopub.execute_input": "2022-07-22T04:29:15.092079Z",
     "iopub.status.busy": "2022-07-22T04:29:15.091903Z",
     "iopub.status.idle": "2022-07-22T04:29:15.121502Z",
     "shell.execute_reply": "2022-07-22T04:29:15.120297Z"
    },
    "papermill": {
     "duration": 2.82318,
     "end_time": "2022-07-22T04:29:15.123375",
     "exception": false,
     "start_time": "2022-07-22T04:29:12.300195",
     "status": "completed"
    },
    "tags": []
   },
   "outputs": [
    {
     "data": {
      "text/plain": [
       "count    75078.000000\n",
       "mean         0.003336\n",
       "std          0.031028\n",
       "min          0.000000\n",
       "25%          0.000000\n",
       "50%          0.000000\n",
       "75%          0.000000\n",
       "max          1.000000\n",
       "dtype: float64"
      ]
     },
     "execution_count": 40,
     "metadata": {},
     "output_type": "execute_result"
    }
   ],
   "source": [
    "gene_corrs_flat.describe()"
   ]
  },
  {
   "cell_type": "code",
   "execution_count": 41,
   "id": "b3815678-0f93-4b35-897b-a9d047a2aa78",
   "metadata": {
    "execution": {
     "iopub.execute_input": "2022-07-22T04:29:20.768427Z",
     "iopub.status.busy": "2022-07-22T04:29:20.768229Z",
     "iopub.status.idle": "2022-07-22T04:29:20.790619Z",
     "shell.execute_reply": "2022-07-22T04:29:20.790040Z"
    },
    "papermill": {
     "duration": 2.832155,
     "end_time": "2022-07-22T04:29:20.792242",
     "exception": false,
     "start_time": "2022-07-22T04:29:17.960087",
     "status": "completed"
    },
    "tags": []
   },
   "outputs": [
    {
     "data": {
      "text/plain": [
       "0.00    0.000000\n",
       "0.05    0.000000\n",
       "0.10    0.000000\n",
       "0.15    0.000000\n",
       "0.20    0.000000\n",
       "0.25    0.000000\n",
       "0.30    0.000000\n",
       "0.35    0.000000\n",
       "0.40    0.000000\n",
       "0.45    0.000000\n",
       "0.50    0.000000\n",
       "0.55    0.000000\n",
       "0.60    0.000000\n",
       "0.65    0.000000\n",
       "0.70    0.000000\n",
       "0.75    0.000000\n",
       "0.80    0.000000\n",
       "0.85    0.000000\n",
       "0.90    0.003773\n",
       "0.95    0.009657\n",
       "dtype: float64"
      ]
     },
     "metadata": {},
     "output_type": "display_data"
    }
   ],
   "source": [
    "gene_corrs_quantiles = gene_corrs_flat.quantile(np.arange(0, 1, 0.05))\n",
    "display(gene_corrs_quantiles)"
   ]
  },
  {
   "cell_type": "markdown",
   "id": "87134509-b145-4a10-8bc9-b7e914c2b0fa",
   "metadata": {
    "papermill": {
     "duration": 2.779705,
     "end_time": "2022-07-22T04:29:26.471929",
     "exception": false,
     "start_time": "2022-07-22T04:29:23.692224",
     "status": "completed"
    },
    "tags": []
   },
   "source": [
    "## Positive definiteness"
   ]
  },
  {
   "cell_type": "code",
   "execution_count": 42,
   "id": "07d9a9a1-a4f7-48aa-b916-6d42a8cc6186",
   "metadata": {
    "execution": {
     "iopub.execute_input": "2022-07-22T04:29:32.098245Z",
     "iopub.status.busy": "2022-07-22T04:29:32.098049Z",
     "iopub.status.idle": "2022-07-22T04:29:32.162356Z",
     "shell.execute_reply": "2022-07-22T04:29:32.161969Z"
    },
    "papermill": {
     "duration": 2.832517,
     "end_time": "2022-07-22T04:29:32.163599",
     "exception": false,
     "start_time": "2022-07-22T04:29:29.331082",
     "status": "completed"
    },
    "tags": []
   },
   "outputs": [
    {
     "data": {
      "text/plain": [
       "1"
      ]
     },
     "metadata": {},
     "output_type": "display_data"
    },
    {
     "data": {
      "text/plain": [
       "array([-7.70791112e-16])"
      ]
     },
     "metadata": {},
     "output_type": "display_data"
    }
   ],
   "source": [
    "# print negative eigenvalues\n",
    "eigs = np.linalg.eigvals(gene_corrs_df.to_numpy())\n",
    "display(len(eigs[eigs < 0]))\n",
    "display(eigs[eigs < 0])"
   ]
  },
  {
   "cell_type": "code",
   "execution_count": 43,
   "id": "6e218436-c3c5-4028-8c94-a4fa6260efce",
   "metadata": {
    "execution": {
     "iopub.execute_input": "2022-07-22T04:29:37.907211Z",
     "iopub.status.busy": "2022-07-22T04:29:37.907037Z",
     "iopub.status.idle": "2022-07-22T04:29:37.995775Z",
     "shell.execute_reply": "2022-07-22T04:29:37.995209Z"
    },
    "papermill": {
     "duration": 2.897067,
     "end_time": "2022-07-22T04:29:37.997310",
     "exception": false,
     "start_time": "2022-07-22T04:29:35.100243",
     "status": "completed"
    },
    "tags": []
   },
   "outputs": [
    {
     "name": "stdout",
     "output_type": "stream",
     "text": [
      "Works!\n"
     ]
    }
   ],
   "source": [
    "try:\n",
    "    chol_mat = np.linalg.cholesky(gene_corrs_df.to_numpy())\n",
    "    cov_inv = np.linalg.inv(chol_mat)\n",
    "    print(\"Works!\")\n",
    "except:\n",
    "    print(\"Cholesky decomposition failed\")"
   ]
  },
  {
   "cell_type": "markdown",
   "id": "8e60a080-edb2-4e9c-b2ef-22961693200c",
   "metadata": {
    "papermill": {
     "duration": 2.811734,
     "end_time": "2022-07-22T04:29:43.691238",
     "exception": false,
     "start_time": "2022-07-22T04:29:40.879504",
     "status": "completed"
    },
    "tags": []
   },
   "source": [
    "## Plot: distribution"
   ]
  },
  {
   "cell_type": "code",
   "execution_count": 44,
   "id": "8301126b-a7d4-4744-9c7d-f0f86eb6f54c",
   "metadata": {
    "execution": {
     "iopub.execute_input": "2022-07-22T04:29:49.379918Z",
     "iopub.status.busy": "2022-07-22T04:29:49.379555Z",
     "iopub.status.idle": "2022-07-22T04:29:49.852096Z",
     "shell.execute_reply": "2022-07-22T04:29:49.851506Z"
    },
    "papermill": {
     "duration": 3.290731,
     "end_time": "2022-07-22T04:29:49.853503",
     "exception": false,
     "start_time": "2022-07-22T04:29:46.562772",
     "status": "completed"
    },
    "tags": []
   },
   "outputs": [
    {
     "data": {
      "image/png": "[encoded data removed]",
      "text/plain": [
       "<Figure size 504x504 with 1 Axes>"
      ]
     },
     "metadata": {
      "needs_background": "light"
     },
     "output_type": "display_data"
    }
   ],
   "source": [
    "with sns.plotting_context(\"paper\", font_scale=1.5):\n",
    "    g = sns.displot(gene_corrs_flat, kde=True, height=7)\n",
    "    g.ax.set_title(\n",
    "        f\"Distribution of gene correlation values in chromosome {CHROMOSOME}\"\n",
    "    )"
   ]
  },
  {
   "cell_type": "markdown",
   "id": "cbd52bca-d878-4a2f-b684-5c83aa3038d4",
   "metadata": {
    "papermill": {
     "duration": 2.802499,
     "end_time": "2022-07-22T04:29:55.515446",
     "exception": false,
     "start_time": "2022-07-22T04:29:52.712947",
     "status": "completed"
    },
    "tags": []
   },
   "source": [
    "## Plot: heatmap"
   ]
  },
  {
   "cell_type": "code",
   "execution_count": 45,
   "id": "d03fe63a-c7b2-4fb9-a53c-db362ce843c9",
   "metadata": {
    "execution": {
     "iopub.execute_input": "2022-07-22T04:30:01.081942Z",
     "iopub.status.busy": "2022-07-22T04:30:01.081773Z",
     "iopub.status.idle": "2022-07-22T04:30:01.099137Z",
     "shell.execute_reply": "2022-07-22T04:30:01.098597Z"
    },
    "papermill": {
     "duration": 2.811959,
     "end_time": "2022-07-22T04:30:01.100387",
     "exception": false,
     "start_time": "2022-07-22T04:29:58.288428",
     "status": "completed"
    },
    "tags": []
   },
   "outputs": [
    {
     "data": {
      "text/plain": [
       "'0.0 / 0.05'"
      ]
     },
     "metadata": {},
     "output_type": "display_data"
    }
   ],
   "source": [
    "vmin_val = min(0.00, gene_corrs_quantiles[0.10])\n",
    "vmax_val = max(0.05, gene_corrs_quantiles[0.90])\n",
    "display(f\"{vmin_val} / {vmax_val}\")"
   ]
  },
  {
   "cell_type": "code",
   "execution_count": 46,
   "id": "dc41b70b-5bcc-4d9e-9f33-a22c4a94dab5",
   "metadata": {
    "execution": {
     "iopub.execute_input": "2022-07-22T04:30:06.847071Z",
     "iopub.status.busy": "2022-07-22T04:30:06.846900Z",
     "iopub.status.idle": "2022-07-22T04:30:07.091704Z",
     "shell.execute_reply": "2022-07-22T04:30:07.091299Z"
    },
    "papermill": {
     "duration": 3.138365,
     "end_time": "2022-07-22T04:30:07.093138",
     "exception": false,
     "start_time": "2022-07-22T04:30:03.954773",
     "status": "completed"
    },
    "tags": []
   },
   "outputs": [
    {
     "data": {
      "text/plain": [
       "Text(0.5, 1.0, 'Gene correlations in chromosome 12')"
      ]
     },
     "execution_count": 46,
     "metadata": {},
     "output_type": "execute_result"
    },
    {
     "data": {
      "image/png": "[encoded data removed]",
      "text/plain": [
       "<Figure size 720x720 with 2 Axes>"
      ]
     },
     "metadata": {
      "needs_background": "light"
     },
     "output_type": "display_data"
    }
   ],
   "source": [
    "f, ax = plt.subplots(figsize=(10, 10))\n",
    "sns.heatmap(\n",
    "    gene_corrs_df,\n",
    "    xticklabels=False,\n",
    "    yticklabels=False,\n",
    "    square=True,\n",
    "    vmin=vmin_val,\n",
    "    vmax=vmax_val,\n",
    "    cmap=\"rocket_r\",\n",
    "    ax=ax,\n",
    ")\n",
    "ax.set_title(f\"Gene correlations in chromosome {CHROMOSOME}\")"
   ]
  },
  {
   "cell_type": "code",
   "execution_count": null,
   "id": "b25e3ead",
   "metadata": {
    "papermill": {
     "duration": 2.800423,
     "end_time": "2022-07-22T04:30:12.739856",
     "exception": false,
     "start_time": "2022-07-22T04:30:09.939433",
     "status": "completed"
    },
    "tags": []
   },
   "outputs": [],
   "source": []
  }
 ],
 "metadata": {
  "jupytext": {
   "cell_metadata_filter": "all,-execution,-papermill,-trusted",
   "formats": "ipynb,py//py:percent"
  },
  "kernelspec": {
   "display_name": "Python 3 (ipykernel)",
   "language": "python",
   "name": "python3"
  },
  "language_info": {
   "codemirror_mode": {
    "name": "ipython",
    "version": 3
   },
   "file_extension": ".py",
   "mimetype": "text/x-python",
   "name": "python",
   "nbconvert_exporter": "python",
   "pygments_lexer": "ipython3",
   "version": "3.8.13"
  },
  "papermill": {
   "default_parameters": {},
   "duration": 921.421511,
   "end_time": "2022-07-22T04:30:18.908686",
   "environment_variables": {},
   "exception": null,
   "input_path": "nbs/15_gsa_gls/10-gene_expr_correlations.ipynb",
   "output_path": "nbs/15_gsa_gls/gene_corrs/cohorts/1000g_eur/1000g/mashr/10-gene_expr_correlations-chr12.run.ipynb",
   "parameters": {
    "CHROMOSOME": 12,
    "COHORT_NAME": "1000G_EUR",
    "EQTL_MODEL": "MASHR",
    "REFERENCE_PANEL": "1000G"
   },
   "start_time": "2022-07-22T04:14:57.487175",
   "version": "2.2.2"
  }
 },
 "nbformat": 4,
 "nbformat_minor": 5
}
