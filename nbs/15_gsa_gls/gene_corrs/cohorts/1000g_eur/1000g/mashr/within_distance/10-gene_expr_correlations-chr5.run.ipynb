{
 "cells": [
  {
   "cell_type": "markdown",
   "id": "7a6632fb",
   "metadata": {
    "papermill": {
     "duration": 0.006592,
     "end_time": "2022-07-22T03:47:10.462651",
     "exception": false,
     "start_time": "2022-07-22T03:47:10.456059",
     "status": "completed"
    },
    "tags": []
   },
   "source": [
    "# Description"
   ]
  },
  {
   "cell_type": "markdown",
   "id": "7097c346",
   "metadata": {
    "papermill": {
     "duration": 0.00582,
     "end_time": "2022-07-22T03:47:10.474494",
     "exception": false,
     "start_time": "2022-07-22T03:47:10.468674",
     "status": "completed"
    },
    "tags": []
   },
   "source": [
    "(Please, take a look at the README.md file in this directory for instructions on how to run this notebook)\n",
    "\n",
    "This notebook computes predicted expression correlations between all genes in the MultiPLIER models.\n",
    "\n",
    "It also has a parameter set for papermill to run on a single chromosome to run in parallel (see under `Settings` below).\n",
    "\n",
    "This notebook is not directly run. See README.md."
   ]
  },
  {
   "cell_type": "markdown",
   "id": "c61d8427",
   "metadata": {
    "papermill": {
     "duration": 0.006021,
     "end_time": "2022-07-22T03:47:10.486523",
     "exception": false,
     "start_time": "2022-07-22T03:47:10.480502",
     "status": "completed"
    },
    "tags": []
   },
   "source": [
    "# Modules"
   ]
  },
  {
   "cell_type": "code",
   "execution_count": 1,
   "id": "bbc0234f",
   "metadata": {
    "execution": {
     "iopub.execute_input": "2022-07-22T03:47:10.500496Z",
     "iopub.status.busy": "2022-07-22T03:47:10.500061Z",
     "iopub.status.idle": "2022-07-22T03:47:10.516133Z",
     "shell.execute_reply": "2022-07-22T03:47:10.515613Z"
    },
    "papermill": {
     "duration": 0.024919,
     "end_time": "2022-07-22T03:47:10.517800",
     "exception": false,
     "start_time": "2022-07-22T03:47:10.492881",
     "status": "completed"
    },
    "tags": []
   },
   "outputs": [],
   "source": [
    "%load_ext autoreload\n",
    "%autoreload 2"
   ]
  },
  {
   "cell_type": "code",
   "execution_count": 2,
   "id": "1d5f5a59",
   "metadata": {
    "execution": {
     "iopub.execute_input": "2022-07-22T03:47:10.560321Z",
     "iopub.status.busy": "2022-07-22T03:47:10.559905Z",
     "iopub.status.idle": "2022-07-22T03:47:11.451203Z",
     "shell.execute_reply": "2022-07-22T03:47:11.450754Z"
    },
    "papermill": {
     "duration": 0.900362,
     "end_time": "2022-07-22T03:47:11.452591",
     "exception": false,
     "start_time": "2022-07-22T03:47:10.552229",
     "status": "completed"
    },
    "tags": []
   },
   "outputs": [],
   "source": [
    "from random import sample, seed\n",
    "import warnings\n",
    "from pathlib import Path\n",
    "import pickle\n",
    "import traceback\n",
    "\n",
    "import numpy as np\n",
    "from scipy.spatial.distance import squareform\n",
    "import pandas as pd\n",
    "from tqdm import tqdm\n",
    "import matplotlib.pyplot as plt\n",
    "import seaborn as sns\n",
    "\n",
    "import conf\n",
    "from entity import Gene"
   ]
  },
  {
   "cell_type": "markdown",
   "id": "1eac24b5",
   "metadata": {
    "papermill": {
     "duration": 0.005948,
     "end_time": "2022-07-22T03:47:11.464976",
     "exception": false,
     "start_time": "2022-07-22T03:47:11.459028",
     "status": "completed"
    },
    "tags": []
   },
   "source": [
    "# Settings"
   ]
  },
  {
   "cell_type": "code",
   "execution_count": 3,
   "id": "ca4560ba",
   "metadata": {
    "execution": {
     "iopub.execute_input": "2022-07-22T03:47:11.477907Z",
     "iopub.status.busy": "2022-07-22T03:47:11.477554Z",
     "iopub.status.idle": "2022-07-22T03:47:11.493065Z",
     "shell.execute_reply": "2022-07-22T03:47:11.492430Z"
    },
    "papermill": {
     "duration": 0.024609,
     "end_time": "2022-07-22T03:47:11.495516",
     "exception": false,
     "start_time": "2022-07-22T03:47:11.470907",
     "status": "completed"
    },
    "tags": [
     "parameters"
    ]
   },
   "outputs": [],
   "source": [
    "# a cohort name (it could be something like UK_BIOBANK, etc)\n",
    "COHORT_NAME = None\n",
    "\n",
    "# reference panel such as 1000G or GTEX_V8\n",
    "REFERENCE_PANEL = None\n",
    "\n",
    "# predictions models such as MASHR or ELASTIC_NET\n",
    "EQTL_MODEL = None\n",
    "\n",
    "# this is the default value used in S-MultiXcan to select the\n",
    "# top principal components of the expression correlation matrix\n",
    "SMULTIXCAN_CONDITION_NUMBER = 30\n",
    "\n",
    "# specifies a single chromosome value\n",
    "CHROMOSOME = None\n",
    "\n",
    "# if True, then it will continue if a gene pair correlation fails,\n",
    "# printing the warning/error for debugging. If False, any warning/error\n",
    "# will be thrown\n",
    "# FIXME: make it False when all is working\n",
    "DEBUG_MODE = True"
   ]
  },
  {
   "cell_type": "code",
   "execution_count": 4,
   "id": "ea4db08d",
   "metadata": {
    "execution": {
     "iopub.execute_input": "2022-07-22T03:47:11.508572Z",
     "iopub.status.busy": "2022-07-22T03:47:11.508402Z",
     "iopub.status.idle": "2022-07-22T03:47:11.523029Z",
     "shell.execute_reply": "2022-07-22T03:47:11.522515Z"
    },
    "papermill": {
     "duration": 0.022585,
     "end_time": "2022-07-22T03:47:11.524370",
     "exception": false,
     "start_time": "2022-07-22T03:47:11.501785",
     "status": "completed"
    },
    "tags": [
     "injected-parameters"
    ]
   },
   "outputs": [],
   "source": [
    "# Parameters\n",
    "COHORT_NAME = \"1000G_EUR\"\n",
    "REFERENCE_PANEL = \"1000G\"\n",
    "EQTL_MODEL = \"MASHR\"\n",
    "CHROMOSOME = 5\n"
   ]
  },
  {
   "cell_type": "code",
   "execution_count": 5,
   "id": "3190631f-27fc-480f-b18e-571d580425a5",
   "metadata": {
    "execution": {
     "iopub.execute_input": "2022-07-22T03:47:11.537399Z",
     "iopub.status.busy": "2022-07-22T03:47:11.536997Z",
     "iopub.status.idle": "2022-07-22T03:47:11.553992Z",
     "shell.execute_reply": "2022-07-22T03:47:11.553543Z"
    },
    "papermill": {
     "duration": 0.025195,
     "end_time": "2022-07-22T03:47:11.555562",
     "exception": false,
     "start_time": "2022-07-22T03:47:11.530367",
     "status": "completed"
    },
    "tags": []
   },
   "outputs": [
    {
     "data": {
      "text/plain": [
       "'Cohort name: 1000g_eur'"
      ]
     },
     "metadata": {},
     "output_type": "display_data"
    }
   ],
   "source": [
    "assert COHORT_NAME is not None or len(COHORT_NAME) == 0, \"A cohort name must be given\"\n",
    "\n",
    "COHORT_NAME = COHORT_NAME.lower()\n",
    "display(f\"Cohort name: {COHORT_NAME}\")"
   ]
  },
  {
   "cell_type": "code",
   "execution_count": 6,
   "id": "f53ba19b-0f93-4fa2-a047-63b375939d1a",
   "metadata": {
    "execution": {
     "iopub.execute_input": "2022-07-22T03:47:11.569053Z",
     "iopub.status.busy": "2022-07-22T03:47:11.568567Z",
     "iopub.status.idle": "2022-07-22T03:47:11.585006Z",
     "shell.execute_reply": "2022-07-22T03:47:11.584445Z"
    },
    "papermill": {
     "duration": 0.024353,
     "end_time": "2022-07-22T03:47:11.586252",
     "exception": false,
     "start_time": "2022-07-22T03:47:11.561899",
     "status": "completed"
    },
    "tags": []
   },
   "outputs": [
    {
     "data": {
      "text/plain": [
       "'Reference panel: 1000G'"
      ]
     },
     "metadata": {},
     "output_type": "display_data"
    }
   ],
   "source": [
    "assert (\n",
    "    REFERENCE_PANEL is not None or len(REFERENCE_PANEL) == 0\n",
    "), \"A reference panel must be given\"\n",
    "\n",
    "display(f\"Reference panel: {REFERENCE_PANEL}\")"
   ]
  },
  {
   "cell_type": "code",
   "execution_count": 7,
   "id": "e024d130-c139-429a-9c6e-ccf149e297b0",
   "metadata": {
    "execution": {
     "iopub.execute_input": "2022-07-22T03:47:11.599195Z",
     "iopub.status.busy": "2022-07-22T03:47:11.598706Z",
     "iopub.status.idle": "2022-07-22T03:47:11.636411Z",
     "shell.execute_reply": "2022-07-22T03:47:11.635979Z"
    },
    "papermill": {
     "duration": 0.045363,
     "end_time": "2022-07-22T03:47:11.637653",
     "exception": false,
     "start_time": "2022-07-22T03:47:11.592290",
     "status": "completed"
    },
    "tags": []
   },
   "outputs": [
    {
     "data": {
      "text/plain": [
       "'eQTL model: MASHR) / mashr_'"
      ]
     },
     "metadata": {},
     "output_type": "display_data"
    }
   ],
   "source": [
    "assert (\n",
    "    EQTL_MODEL is not None or len(EQTL_MODEL) == 0\n",
    "), \"A prediction/eQTL model must be given\"\n",
    "\n",
    "EQTL_MODEL_FILES_PREFIX = conf.PHENOMEXCAN[\"PREDICTION_MODELS\"][f\"{EQTL_MODEL}_PREFIX\"]\n",
    "display(f\"eQTL model: {EQTL_MODEL}) / {EQTL_MODEL_FILES_PREFIX}\")"
   ]
  },
  {
   "cell_type": "code",
   "execution_count": 8,
   "id": "552a7f63-a18c-4d3e-bb6a-94f99b431291",
   "metadata": {
    "execution": {
     "iopub.execute_input": "2022-07-22T03:47:11.651654Z",
     "iopub.status.busy": "2022-07-22T03:47:11.651447Z",
     "iopub.status.idle": "2022-07-22T03:47:11.666725Z",
     "shell.execute_reply": "2022-07-22T03:47:11.666278Z"
    },
    "papermill": {
     "duration": 0.023542,
     "end_time": "2022-07-22T03:47:11.668086",
     "exception": false,
     "start_time": "2022-07-22T03:47:11.644544",
     "status": "completed"
    },
    "tags": []
   },
   "outputs": [
    {
     "data": {
      "text/plain": [
       "'S-MultiXcan condition number: 30'"
      ]
     },
     "metadata": {},
     "output_type": "display_data"
    }
   ],
   "source": [
    "assert (\n",
    "    SMULTIXCAN_CONDITION_NUMBER is not None or SMULTIXCAN_CONDITION_NUMBER > 0\n",
    "), \"The S-MultiXcan condition number (positive integer) must be given\"\n",
    "\n",
    "display(f\"S-MultiXcan condition number: {SMULTIXCAN_CONDITION_NUMBER}\")"
   ]
  },
  {
   "cell_type": "code",
   "execution_count": 9,
   "id": "f34a336f-548e-4afe-8955-90eaea4f42c6",
   "metadata": {
    "execution": {
     "iopub.execute_input": "2022-07-22T03:47:11.681476Z",
     "iopub.status.busy": "2022-07-22T03:47:11.681247Z",
     "iopub.status.idle": "2022-07-22T03:47:11.696247Z",
     "shell.execute_reply": "2022-07-22T03:47:11.695820Z"
    },
    "papermill": {
     "duration": 0.022913,
     "end_time": "2022-07-22T03:47:11.697444",
     "exception": false,
     "start_time": "2022-07-22T03:47:11.674531",
     "status": "completed"
    },
    "tags": []
   },
   "outputs": [
    {
     "data": {
      "text/plain": [
       "'Working on chromosome 5'"
      ]
     },
     "metadata": {},
     "output_type": "display_data"
    }
   ],
   "source": [
    "assert CHROMOSOME is not None and (\n",
    "    1 <= CHROMOSOME <= 22\n",
    "), \"You have to select one chromosome (format: number between 1 and 22)\"\n",
    "\n",
    "CHROMOSOME = str(CHROMOSOME)\n",
    "display(f\"Working on chromosome {CHROMOSOME}\")"
   ]
  },
  {
   "cell_type": "code",
   "execution_count": 10,
   "id": "ab8e96e8-06b5-4363-9dcd-dc4d78cc27f7",
   "metadata": {
    "execution": {
     "iopub.execute_input": "2022-07-22T03:47:11.713314Z",
     "iopub.status.busy": "2022-07-22T03:47:11.712844Z",
     "iopub.status.idle": "2022-07-22T03:47:11.728817Z",
     "shell.execute_reply": "2022-07-22T03:47:11.728322Z"
    },
    "papermill": {
     "duration": 0.025098,
     "end_time": "2022-07-22T03:47:11.730075",
     "exception": false,
     "start_time": "2022-07-22T03:47:11.704977",
     "status": "completed"
    },
    "tags": []
   },
   "outputs": [
    {
     "data": {
      "text/plain": [
       "'Compute correlation within distance True'"
      ]
     },
     "metadata": {},
     "output_type": "display_data"
    }
   ],
   "source": [
    "# TODO: see if this is necessary; if so, make it a parameter with default value True\n",
    "# This parameter, if True, computes the correlation between closeby genes only\n",
    "\n",
    "COMPUTE_CORRELATIONS_WITHIN_DISTANCE = True\n",
    "display(f\"Compute correlation within distance {COMPUTE_CORRELATIONS_WITHIN_DISTANCE}\")"
   ]
  },
  {
   "cell_type": "code",
   "execution_count": 11,
   "id": "396392dc-0340-4540-9b02-e182b833f909",
   "metadata": {
    "execution": {
     "iopub.execute_input": "2022-07-22T03:47:11.743837Z",
     "iopub.status.busy": "2022-07-22T03:47:11.743404Z",
     "iopub.status.idle": "2022-07-22T03:47:11.759297Z",
     "shell.execute_reply": "2022-07-22T03:47:11.758844Z"
    },
    "papermill": {
     "duration": 0.024175,
     "end_time": "2022-07-22T03:47:11.760553",
     "exception": false,
     "start_time": "2022-07-22T03:47:11.736378",
     "status": "completed"
    },
    "tags": []
   },
   "outputs": [
    {
     "data": {
      "text/plain": [
       "'Using output dir base: /opt/data/results/gls/gene_corrs/cohorts/1000g_eur/1000g/mashr'"
      ]
     },
     "metadata": {},
     "output_type": "display_data"
    }
   ],
   "source": [
    "OUTPUT_DIR_BASE = (\n",
    "    conf.RESULTS[\"GLS\"]\n",
    "    / \"gene_corrs\"\n",
    "    / \"cohorts\"\n",
    "    / COHORT_NAME\n",
    "    / REFERENCE_PANEL.lower()\n",
    "    / EQTL_MODEL.lower()\n",
    ")\n",
    "OUTPUT_DIR_BASE.mkdir(parents=True, exist_ok=True)\n",
    "\n",
    "display(f\"Using output dir base: {OUTPUT_DIR_BASE}\")"
   ]
  },
  {
   "cell_type": "code",
   "execution_count": 12,
   "id": "974b4bb1-aa98-4e30-b221-7cd034ad3833",
   "metadata": {
    "execution": {
     "iopub.execute_input": "2022-07-22T03:47:11.774686Z",
     "iopub.status.busy": "2022-07-22T03:47:11.774373Z",
     "iopub.status.idle": "2022-07-22T03:47:11.789574Z",
     "shell.execute_reply": "2022-07-22T03:47:11.789107Z"
    },
    "papermill": {
     "duration": 0.023715,
     "end_time": "2022-07-22T03:47:11.790879",
     "exception": false,
     "start_time": "2022-07-22T03:47:11.767164",
     "status": "completed"
    },
    "tags": []
   },
   "outputs": [
    {
     "data": {
      "text/plain": [
       "PosixPath('/opt/data/results/gls/gene_corrs/cohorts/1000g_eur')"
      ]
     },
     "metadata": {},
     "output_type": "display_data"
    }
   ],
   "source": [
    "INPUT_DIR = conf.RESULTS[\"GLS\"] / \"gene_corrs\" / \"cohorts\" / COHORT_NAME\n",
    "assert INPUT_DIR.exists()\n",
    "\n",
    "display(INPUT_DIR)"
   ]
  },
  {
   "cell_type": "markdown",
   "id": "d2ba085e",
   "metadata": {
    "papermill": {
     "duration": 0.006509,
     "end_time": "2022-07-22T03:47:11.804110",
     "exception": false,
     "start_time": "2022-07-22T03:47:11.797601",
     "status": "completed"
    },
    "tags": []
   },
   "source": [
    "# Load data"
   ]
  },
  {
   "cell_type": "markdown",
   "id": "7dcb8db7",
   "metadata": {
    "papermill": {
     "duration": 0.006529,
     "end_time": "2022-07-22T03:47:11.817310",
     "exception": false,
     "start_time": "2022-07-22T03:47:11.810781",
     "status": "completed"
    },
    "tags": []
   },
   "source": [
    "## GWAS variants"
   ]
  },
  {
   "cell_type": "code",
   "execution_count": 13,
   "id": "29434c4e-8cd3-4b9b-82e4-b5a251d9dd19",
   "metadata": {
    "execution": {
     "iopub.execute_input": "2022-07-22T03:47:11.831761Z",
     "iopub.status.busy": "2022-07-22T03:47:11.831282Z",
     "iopub.status.idle": "2022-07-22T03:47:14.376629Z",
     "shell.execute_reply": "2022-07-22T03:47:14.376030Z"
    },
    "papermill": {
     "duration": 2.554164,
     "end_time": "2022-07-22T03:47:14.378219",
     "exception": false,
     "start_time": "2022-07-22T03:47:11.824055",
     "status": "completed"
    },
    "tags": []
   },
   "outputs": [],
   "source": [
    "with open(INPUT_DIR / \"gwas_variant_ids.pkl\", \"rb\") as handle:\n",
    "    gwas_variants_ids_set = pickle.load(handle)"
   ]
  },
  {
   "cell_type": "code",
   "execution_count": 14,
   "id": "b9d9dec2-4a76-4bf9-bde2-e24c95acb8a0",
   "metadata": {
    "execution": {
     "iopub.execute_input": "2022-07-22T03:47:14.399701Z",
     "iopub.status.busy": "2022-07-22T03:47:14.399453Z",
     "iopub.status.idle": "2022-07-22T03:47:14.417532Z",
     "shell.execute_reply": "2022-07-22T03:47:14.417108Z"
    },
    "papermill": {
     "duration": 0.032353,
     "end_time": "2022-07-22T03:47:14.418879",
     "exception": false,
     "start_time": "2022-07-22T03:47:14.386526",
     "status": "completed"
    },
    "tags": []
   },
   "outputs": [
    {
     "data": {
      "text/plain": [
       "8339505"
      ]
     },
     "execution_count": 14,
     "metadata": {},
     "output_type": "execute_result"
    }
   ],
   "source": [
    "len(gwas_variants_ids_set)"
   ]
  },
  {
   "cell_type": "code",
   "execution_count": 15,
   "id": "4235b06a-6034-4ee4-a0a3-2ae35d122418",
   "metadata": {
    "execution": {
     "iopub.execute_input": "2022-07-22T03:47:14.433674Z",
     "iopub.status.busy": "2022-07-22T03:47:14.433511Z",
     "iopub.status.idle": "2022-07-22T03:47:14.912525Z",
     "shell.execute_reply": "2022-07-22T03:47:14.912079Z"
    },
    "papermill": {
     "duration": 0.487833,
     "end_time": "2022-07-22T03:47:14.913923",
     "exception": false,
     "start_time": "2022-07-22T03:47:14.426090",
     "status": "completed"
    },
    "tags": []
   },
   "outputs": [
    {
     "data": {
      "text/plain": [
       "['chr10_126047082_G_T_b38',\n",
       " 'chr20_43787749_T_C_b38',\n",
       " 'chr6_18745227_T_C_b38',\n",
       " 'chr2_198047658_G_A_b38',\n",
       " 'chr2_20835401_T_A_b38']"
      ]
     },
     "execution_count": 15,
     "metadata": {},
     "output_type": "execute_result"
    }
   ],
   "source": [
    "list(gwas_variants_ids_set)[:5]"
   ]
  },
  {
   "cell_type": "markdown",
   "id": "07866999-2305-41f9-a144-e69c9122c212",
   "metadata": {
    "papermill": {
     "duration": 0.00766,
     "end_time": "2022-07-22T03:47:14.929615",
     "exception": false,
     "start_time": "2022-07-22T03:47:14.921955",
     "status": "completed"
    },
    "tags": []
   },
   "source": [
    "## S-PrediXcan tissue models"
   ]
  },
  {
   "cell_type": "code",
   "execution_count": 16,
   "id": "780611d9-77c8-405f-90a4-f271f7b09397",
   "metadata": {
    "execution": {
     "iopub.execute_input": "2022-07-22T03:47:14.945716Z",
     "iopub.status.busy": "2022-07-22T03:47:14.945498Z",
     "iopub.status.idle": "2022-07-22T03:47:15.698251Z",
     "shell.execute_reply": "2022-07-22T03:47:15.697786Z"
    },
    "papermill": {
     "duration": 0.76202,
     "end_time": "2022-07-22T03:47:15.699545",
     "exception": false,
     "start_time": "2022-07-22T03:47:14.937525",
     "status": "completed"
    },
    "tags": []
   },
   "outputs": [],
   "source": [
    "spredixcan_genes_models = pd.read_pickle(INPUT_DIR / \"gene_tissues.pkl\").set_index(\n",
    "    \"gene_id\"\n",
    ")"
   ]
  },
  {
   "cell_type": "code",
   "execution_count": 17,
   "id": "726dd1f6-9557-4225-91fa-b3b879ea96e1",
   "metadata": {
    "execution": {
     "iopub.execute_input": "2022-07-22T03:47:15.714040Z",
     "iopub.status.busy": "2022-07-22T03:47:15.713834Z",
     "iopub.status.idle": "2022-07-22T03:47:15.728219Z",
     "shell.execute_reply": "2022-07-22T03:47:15.727807Z"
    },
    "papermill": {
     "duration": 0.022981,
     "end_time": "2022-07-22T03:47:15.729356",
     "exception": false,
     "start_time": "2022-07-22T03:47:15.706375",
     "status": "completed"
    },
    "tags": []
   },
   "outputs": [
    {
     "data": {
      "text/plain": [
       "(22314, 2)"
      ]
     },
     "execution_count": 17,
     "metadata": {},
     "output_type": "execute_result"
    }
   ],
   "source": [
    "spredixcan_genes_models.shape"
   ]
  },
  {
   "cell_type": "code",
   "execution_count": 18,
   "id": "944a1b48-222c-4eb0-b252-b9de2cbca215",
   "metadata": {
    "execution": {
     "iopub.execute_input": "2022-07-22T03:47:15.744195Z",
     "iopub.status.busy": "2022-07-22T03:47:15.743993Z",
     "iopub.status.idle": "2022-07-22T03:47:15.763770Z",
     "shell.execute_reply": "2022-07-22T03:47:15.763293Z"
    },
    "papermill": {
     "duration": 0.028653,
     "end_time": "2022-07-22T03:47:15.765046",
     "exception": false,
     "start_time": "2022-07-22T03:47:15.736393",
     "status": "completed"
    },
    "tags": []
   },
   "outputs": [
    {
     "data": {
      "text/html": [
       "<div>\n",
       "<style scoped>\n",
       "    .dataframe tbody tr th:only-of-type {\n",
       "        vertical-align: middle;\n",
       "    }\n",
       "\n",
       "    .dataframe tbody tr th {\n",
       "        vertical-align: top;\n",
       "    }\n",
       "\n",
       "    .dataframe thead th {\n",
       "        text-align: right;\n",
       "    }\n",
       "</style>\n",
       "<table border=\"1\" class=\"dataframe\">\n",
       "  <thead>\n",
       "    <tr style=\"text-align: right;\">\n",
       "      <th></th>\n",
       "      <th>gene_name</th>\n",
       "      <th>tissue</th>\n",
       "    </tr>\n",
       "    <tr>\n",
       "      <th>gene_id</th>\n",
       "      <th></th>\n",
       "      <th></th>\n",
       "    </tr>\n",
       "  </thead>\n",
       "  <tbody>\n",
       "    <tr>\n",
       "      <th>ENSG00000000419</th>\n",
       "      <td>DPM1</td>\n",
       "      <td>(Brain_Hypothalamus, Brain_Substantia_nigra)</td>\n",
       "    </tr>\n",
       "    <tr>\n",
       "      <th>ENSG00000000457</th>\n",
       "      <td>SCYL3</td>\n",
       "      <td>(Adipose_Subcutaneous, Brain_Cortex, Artery_Ti...</td>\n",
       "    </tr>\n",
       "    <tr>\n",
       "      <th>ENSG00000000460</th>\n",
       "      <td>C1orf112</td>\n",
       "      <td>(Adipose_Subcutaneous, Brain_Cortex, Artery_Ti...</td>\n",
       "    </tr>\n",
       "    <tr>\n",
       "      <th>ENSG00000000938</th>\n",
       "      <td>FGR</td>\n",
       "      <td>(Adipose_Subcutaneous, Brain_Cortex, Artery_Ti...</td>\n",
       "    </tr>\n",
       "    <tr>\n",
       "      <th>ENSG00000000971</th>\n",
       "      <td>CFH</td>\n",
       "      <td>(Brain_Cortex, Artery_Tibial, Testis, Brain_Su...</td>\n",
       "    </tr>\n",
       "  </tbody>\n",
       "</table>\n",
       "</div>"
      ],
      "text/plain": [
       "                gene_name                                             tissue\n",
       "gene_id                                                                     \n",
       "ENSG00000000419      DPM1       (Brain_Hypothalamus, Brain_Substantia_nigra)\n",
       "ENSG00000000457     SCYL3  (Adipose_Subcutaneous, Brain_Cortex, Artery_Ti...\n",
       "ENSG00000000460  C1orf112  (Adipose_Subcutaneous, Brain_Cortex, Artery_Ti...\n",
       "ENSG00000000938       FGR  (Adipose_Subcutaneous, Brain_Cortex, Artery_Ti...\n",
       "ENSG00000000971       CFH  (Brain_Cortex, Artery_Tibial, Testis, Brain_Su..."
      ]
     },
     "execution_count": 18,
     "metadata": {},
     "output_type": "execute_result"
    }
   ],
   "source": [
    "spredixcan_genes_models.head()"
   ]
  },
  {
   "cell_type": "code",
   "execution_count": 19,
   "id": "d1c11bb1-be0b-4f40-b360-633d6827109f",
   "metadata": {
    "execution": {
     "iopub.execute_input": "2022-07-22T03:47:15.779961Z",
     "iopub.status.busy": "2022-07-22T03:47:15.779735Z",
     "iopub.status.idle": "2022-07-22T03:47:15.795823Z",
     "shell.execute_reply": "2022-07-22T03:47:15.795324Z"
    },
    "papermill": {
     "duration": 0.024948,
     "end_time": "2022-07-22T03:47:15.797110",
     "exception": false,
     "start_time": "2022-07-22T03:47:15.772162",
     "status": "completed"
    },
    "tags": []
   },
   "outputs": [],
   "source": [
    "assert spredixcan_genes_models.index.is_unique"
   ]
  },
  {
   "cell_type": "markdown",
   "id": "6caf9d10-eda8-4ad2-8811-a983aa77a25a",
   "metadata": {
    "papermill": {
     "duration": 0.00694,
     "end_time": "2022-07-22T03:47:15.811035",
     "exception": false,
     "start_time": "2022-07-22T03:47:15.804095",
     "status": "completed"
    },
    "tags": []
   },
   "source": [
    "## Get common genes"
   ]
  },
  {
   "cell_type": "code",
   "execution_count": 20,
   "id": "f8d1e317-1cc8-4bdf-bbe9-c3b0a5478359",
   "metadata": {
    "execution": {
     "iopub.execute_input": "2022-07-22T03:47:15.826574Z",
     "iopub.status.busy": "2022-07-22T03:47:15.826225Z",
     "iopub.status.idle": "2022-07-22T03:47:15.841906Z",
     "shell.execute_reply": "2022-07-22T03:47:15.841491Z"
    },
    "papermill": {
     "duration": 0.024733,
     "end_time": "2022-07-22T03:47:15.843205",
     "exception": false,
     "start_time": "2022-07-22T03:47:15.818472",
     "status": "completed"
    },
    "tags": []
   },
   "outputs": [],
   "source": [
    "with open(INPUT_DIR / \"common_genes.pkl\", \"rb\") as handle:\n",
    "    common_genes = pickle.load(handle)"
   ]
  },
  {
   "cell_type": "code",
   "execution_count": 21,
   "id": "ce9506aa-2f38-4e46-b9c2-84d750fac0da",
   "metadata": {
    "execution": {
     "iopub.execute_input": "2022-07-22T03:47:15.859300Z",
     "iopub.status.busy": "2022-07-22T03:47:15.858998Z",
     "iopub.status.idle": "2022-07-22T03:47:15.873553Z",
     "shell.execute_reply": "2022-07-22T03:47:15.873125Z"
    },
    "papermill": {
     "duration": 0.023772,
     "end_time": "2022-07-22T03:47:15.874788",
     "exception": false,
     "start_time": "2022-07-22T03:47:15.851016",
     "status": "completed"
    },
    "tags": []
   },
   "outputs": [
    {
     "data": {
      "text/plain": [
       "6444"
      ]
     },
     "execution_count": 21,
     "metadata": {},
     "output_type": "execute_result"
    }
   ],
   "source": [
    "len(common_genes)"
   ]
  },
  {
   "cell_type": "code",
   "execution_count": 22,
   "id": "f525a698-506a-48e0-9aee-1aca62def5dd",
   "metadata": {
    "execution": {
     "iopub.execute_input": "2022-07-22T03:47:15.890678Z",
     "iopub.status.busy": "2022-07-22T03:47:15.890474Z",
     "iopub.status.idle": "2022-07-22T03:47:15.907241Z",
     "shell.execute_reply": "2022-07-22T03:47:15.906782Z"
    },
    "papermill": {
     "duration": 0.025994,
     "end_time": "2022-07-22T03:47:15.908508",
     "exception": false,
     "start_time": "2022-07-22T03:47:15.882514",
     "status": "completed"
    },
    "tags": []
   },
   "outputs": [
    {
     "data": {
      "text/plain": [
       "['A2M', 'AAAS', 'AANAT', 'AARS', 'AARS2']"
      ]
     },
     "execution_count": 22,
     "metadata": {},
     "output_type": "execute_result"
    }
   ],
   "source": [
    "sorted(list(common_genes))[:5]"
   ]
  },
  {
   "cell_type": "markdown",
   "id": "a5b5092c-a13e-47c4-a92a-480fcc08f3ae",
   "metadata": {
    "papermill": {
     "duration": 0.00724,
     "end_time": "2022-07-22T03:47:15.923394",
     "exception": false,
     "start_time": "2022-07-22T03:47:15.916154",
     "status": "completed"
    },
    "tags": []
   },
   "source": [
    "## Gene info"
   ]
  },
  {
   "cell_type": "code",
   "execution_count": 23,
   "id": "7d6bb224-88e9-4358-ac10-43a41d92cdad",
   "metadata": {
    "execution": {
     "iopub.execute_input": "2022-07-22T03:47:15.939052Z",
     "iopub.status.busy": "2022-07-22T03:47:15.938818Z",
     "iopub.status.idle": "2022-07-22T03:47:15.957369Z",
     "shell.execute_reply": "2022-07-22T03:47:15.956950Z"
    },
    "papermill": {
     "duration": 0.028102,
     "end_time": "2022-07-22T03:47:15.958810",
     "exception": false,
     "start_time": "2022-07-22T03:47:15.930708",
     "status": "completed"
    },
    "tags": []
   },
   "outputs": [],
   "source": [
    "genes_info = pd.read_pickle(INPUT_DIR / \"genes_info.pkl\")"
   ]
  },
  {
   "cell_type": "code",
   "execution_count": 24,
   "id": "9e32abfa-546d-483e-8c18-d526e9e05903",
   "metadata": {
    "execution": {
     "iopub.execute_input": "2022-07-22T03:47:15.974409Z",
     "iopub.status.busy": "2022-07-22T03:47:15.974246Z",
     "iopub.status.idle": "2022-07-22T03:47:15.989311Z",
     "shell.execute_reply": "2022-07-22T03:47:15.988887Z"
    },
    "papermill": {
     "duration": 0.024313,
     "end_time": "2022-07-22T03:47:15.990537",
     "exception": false,
     "start_time": "2022-07-22T03:47:15.966224",
     "status": "completed"
    },
    "tags": []
   },
   "outputs": [
    {
     "data": {
      "text/plain": [
       "(6444, 7)"
      ]
     },
     "execution_count": 24,
     "metadata": {},
     "output_type": "execute_result"
    }
   ],
   "source": [
    "genes_info.shape"
   ]
  },
  {
   "cell_type": "code",
   "execution_count": 25,
   "id": "d16c3e92-85ec-468a-9a56-e25a9774a1cb",
   "metadata": {
    "execution": {
     "iopub.execute_input": "2022-07-22T03:47:16.006630Z",
     "iopub.status.busy": "2022-07-22T03:47:16.006423Z",
     "iopub.status.idle": "2022-07-22T03:47:16.027397Z",
     "shell.execute_reply": "2022-07-22T03:47:16.026982Z"
    },
    "papermill": {
     "duration": 0.030429,
     "end_time": "2022-07-22T03:47:16.028662",
     "exception": false,
     "start_time": "2022-07-22T03:47:15.998233",
     "status": "completed"
    },
    "tags": []
   },
   "outputs": [
    {
     "data": {
      "text/html": [
       "<div>\n",
       "<style scoped>\n",
       "    .dataframe tbody tr th:only-of-type {\n",
       "        vertical-align: middle;\n",
       "    }\n",
       "\n",
       "    .dataframe tbody tr th {\n",
       "        vertical-align: top;\n",
       "    }\n",
       "\n",
       "    .dataframe thead th {\n",
       "        text-align: right;\n",
       "    }\n",
       "</style>\n",
       "<table border=\"1\" class=\"dataframe\">\n",
       "  <thead>\n",
       "    <tr style=\"text-align: right;\">\n",
       "      <th></th>\n",
       "      <th>name</th>\n",
       "      <th>id</th>\n",
       "      <th>chr</th>\n",
       "      <th>band</th>\n",
       "      <th>start_position</th>\n",
       "      <th>end_position</th>\n",
       "      <th>gene_length</th>\n",
       "    </tr>\n",
       "  </thead>\n",
       "  <tbody>\n",
       "    <tr>\n",
       "      <th>0</th>\n",
       "      <td>MFN2</td>\n",
       "      <td>ENSG00000116688</td>\n",
       "      <td>1</td>\n",
       "      <td>1p36.22</td>\n",
       "      <td>11980181.0</td>\n",
       "      <td>12013514.0</td>\n",
       "      <td>33333.0</td>\n",
       "    </tr>\n",
       "    <tr>\n",
       "      <th>1</th>\n",
       "      <td>PPA2</td>\n",
       "      <td>ENSG00000138777</td>\n",
       "      <td>4</td>\n",
       "      <td>4q24</td>\n",
       "      <td>105369077.0</td>\n",
       "      <td>105474067.0</td>\n",
       "      <td>104990.0</td>\n",
       "    </tr>\n",
       "    <tr>\n",
       "      <th>2</th>\n",
       "      <td>ADRA2A</td>\n",
       "      <td>ENSG00000150594</td>\n",
       "      <td>10</td>\n",
       "      <td>10q25.2</td>\n",
       "      <td>111077163.0</td>\n",
       "      <td>111080907.0</td>\n",
       "      <td>3744.0</td>\n",
       "    </tr>\n",
       "    <tr>\n",
       "      <th>3</th>\n",
       "      <td>RYR2</td>\n",
       "      <td>ENSG00000198626</td>\n",
       "      <td>1</td>\n",
       "      <td>1q43</td>\n",
       "      <td>237042184.0</td>\n",
       "      <td>237833988.0</td>\n",
       "      <td>791804.0</td>\n",
       "    </tr>\n",
       "    <tr>\n",
       "      <th>4</th>\n",
       "      <td>VAV2</td>\n",
       "      <td>ENSG00000160293</td>\n",
       "      <td>9</td>\n",
       "      <td>9q34.2</td>\n",
       "      <td>133761894.0</td>\n",
       "      <td>133992604.0</td>\n",
       "      <td>230710.0</td>\n",
       "    </tr>\n",
       "  </tbody>\n",
       "</table>\n",
       "</div>"
      ],
      "text/plain": [
       "     name               id chr     band  start_position  end_position  \\\n",
       "0    MFN2  ENSG00000116688   1  1p36.22      11980181.0    12013514.0   \n",
       "1    PPA2  ENSG00000138777   4     4q24     105369077.0   105474067.0   \n",
       "2  ADRA2A  ENSG00000150594  10  10q25.2     111077163.0   111080907.0   \n",
       "3    RYR2  ENSG00000198626   1     1q43     237042184.0   237833988.0   \n",
       "4    VAV2  ENSG00000160293   9   9q34.2     133761894.0   133992604.0   \n",
       "\n",
       "   gene_length  \n",
       "0      33333.0  \n",
       "1     104990.0  \n",
       "2       3744.0  \n",
       "3     791804.0  \n",
       "4     230710.0  "
      ]
     },
     "execution_count": 25,
     "metadata": {},
     "output_type": "execute_result"
    }
   ],
   "source": [
    "genes_info.head()"
   ]
  },
  {
   "cell_type": "markdown",
   "id": "d3843e06",
   "metadata": {
    "papermill": {
     "duration": 0.007229,
     "end_time": "2022-07-22T03:47:16.043389",
     "exception": false,
     "start_time": "2022-07-22T03:47:16.036160",
     "status": "completed"
    },
    "tags": []
   },
   "source": [
    "# Compute correlations"
   ]
  },
  {
   "cell_type": "code",
   "execution_count": 26,
   "id": "cb859c15-d1f3-4006-a74c-2b83c0db9611",
   "metadata": {
    "execution": {
     "iopub.execute_input": "2022-07-22T03:47:16.060087Z",
     "iopub.status.busy": "2022-07-22T03:47:16.059748Z",
     "iopub.status.idle": "2022-07-22T03:47:16.076889Z",
     "shell.execute_reply": "2022-07-22T03:47:16.076457Z"
    },
    "papermill": {
     "duration": 0.027249,
     "end_time": "2022-07-22T03:47:16.078192",
     "exception": false,
     "start_time": "2022-07-22T03:47:16.050943",
     "status": "completed"
    },
    "tags": []
   },
   "outputs": [
    {
     "data": {
      "text/plain": [
       "PosixPath('/opt/data/results/gls/gene_corrs/cohorts/1000g_eur/1000g/mashr/by_chr/gene_corrs-chr5.pkl')"
      ]
     },
     "metadata": {},
     "output_type": "display_data"
    }
   ],
   "source": [
    "output_dir = OUTPUT_DIR_BASE / \"by_chr\"\n",
    "output_dir.mkdir(exist_ok=True, parents=True)\n",
    "output_file = output_dir / f\"gene_corrs-chr{CHROMOSOME}.pkl\"\n",
    "display(output_file)"
   ]
  },
  {
   "cell_type": "code",
   "execution_count": 27,
   "id": "aa674fe4-6794-4eed-98fa-32b39d1d4ace",
   "metadata": {
    "execution": {
     "iopub.execute_input": "2022-07-22T03:47:16.094896Z",
     "iopub.status.busy": "2022-07-22T03:47:16.094447Z",
     "iopub.status.idle": "2022-07-22T03:47:16.109176Z",
     "shell.execute_reply": "2022-07-22T03:47:16.108742Z"
    },
    "papermill": {
     "duration": 0.024263,
     "end_time": "2022-07-22T03:47:16.110430",
     "exception": false,
     "start_time": "2022-07-22T03:47:16.086167",
     "status": "completed"
    },
    "tags": []
   },
   "outputs": [],
   "source": [
    "warnings.filterwarnings(\"error\")"
   ]
  },
  {
   "cell_type": "code",
   "execution_count": 28,
   "id": "44d5450b-3baf-43f1-9e2e-4b06f1a785f8",
   "metadata": {
    "execution": {
     "iopub.execute_input": "2022-07-22T03:47:16.126744Z",
     "iopub.status.busy": "2022-07-22T03:47:16.126435Z",
     "iopub.status.idle": "2022-07-22T03:47:16.142023Z",
     "shell.execute_reply": "2022-07-22T03:47:16.141599Z"
    },
    "papermill": {
     "duration": 0.025167,
     "end_time": "2022-07-22T03:47:16.143412",
     "exception": false,
     "start_time": "2022-07-22T03:47:16.118245",
     "status": "completed"
    },
    "tags": []
   },
   "outputs": [],
   "source": [
    "# standard checks\n",
    "all_chrs = genes_info[\"chr\"].dropna().unique()\n",
    "assert all_chrs.shape[0] == 22\n",
    "\n",
    "# select chromosome given by the user\n",
    "assert CHROMOSOME in all_chrs"
   ]
  },
  {
   "cell_type": "code",
   "execution_count": 29,
   "id": "2d7c043c-92a7-4d35-991b-fa69ac1e0268",
   "metadata": {
    "execution": {
     "iopub.execute_input": "2022-07-22T03:47:16.162897Z",
     "iopub.status.busy": "2022-07-22T03:47:16.162731Z",
     "iopub.status.idle": "2022-07-22T03:47:16.181612Z",
     "shell.execute_reply": "2022-07-22T03:47:16.180933Z"
    },
    "papermill": {
     "duration": 0.028911,
     "end_time": "2022-07-22T03:47:16.182998",
     "exception": false,
     "start_time": "2022-07-22T03:47:16.154087",
     "status": "completed"
    },
    "tags": []
   },
   "outputs": [
    {
     "name": "stdout",
     "output_type": "stream",
     "text": [
      "Number of genes in chromosome: 305\n"
     ]
    }
   ],
   "source": [
    "# run only on the chromosome specified\n",
    "all_chrs = [CHROMOSOME]\n",
    "genes_chr = genes_info[genes_info[\"chr\"] == CHROMOSOME]\n",
    "\n",
    "# For testing purposes\n",
    "# genes_chr = genes_chr.sample(n=20)\n",
    "\n",
    "print(f\"Number of genes in chromosome: {genes_chr.shape[0]}\", flush=True)"
   ]
  },
  {
   "cell_type": "code",
   "execution_count": 30,
   "id": "916015d8-2979-46d3-a9b9-1cf5a0932c6a",
   "metadata": {
    "execution": {
     "iopub.execute_input": "2022-07-22T03:47:16.200015Z",
     "iopub.status.busy": "2022-07-22T03:47:16.199574Z",
     "iopub.status.idle": "2022-07-22T03:47:16.223757Z",
     "shell.execute_reply": "2022-07-22T03:47:16.222648Z"
    },
    "papermill": {
     "duration": 0.034285,
     "end_time": "2022-07-22T03:47:16.225319",
     "exception": false,
     "start_time": "2022-07-22T03:47:16.191034",
     "status": "completed"
    },
    "tags": []
   },
   "outputs": [],
   "source": [
    "# sort genes by starting position to make visualizations better later\n",
    "genes_chr = genes_chr.sort_values(\"start_position\")"
   ]
  },
  {
   "cell_type": "code",
   "execution_count": 31,
   "id": "a38aa74a-8ad3-47f6-8ef9-56be0e011774",
   "metadata": {
    "execution": {
     "iopub.execute_input": "2022-07-22T03:47:16.243043Z",
     "iopub.status.busy": "2022-07-22T03:47:16.242880Z",
     "iopub.status.idle": "2022-07-22T03:47:16.257307Z",
     "shell.execute_reply": "2022-07-22T03:47:16.256887Z"
    },
    "papermill": {
     "duration": 0.024734,
     "end_time": "2022-07-22T03:47:16.258704",
     "exception": false,
     "start_time": "2022-07-22T03:47:16.233970",
     "status": "completed"
    },
    "tags": []
   },
   "outputs": [],
   "source": [
    "gene_chr_objs = [Gene(ensembl_id=gene_id) for gene_id in genes_chr[\"id\"]]"
   ]
  },
  {
   "cell_type": "code",
   "execution_count": 32,
   "id": "570f974f-13c3-42b6-ad3a-ce99ca885c1a",
   "metadata": {
    "execution": {
     "iopub.execute_input": "2022-07-22T03:47:16.275475Z",
     "iopub.status.busy": "2022-07-22T03:47:16.275311Z",
     "iopub.status.idle": "2022-07-22T03:47:16.290906Z",
     "shell.execute_reply": "2022-07-22T03:47:16.290394Z"
    },
    "papermill": {
     "duration": 0.025441,
     "end_time": "2022-07-22T03:47:16.292138",
     "exception": false,
     "start_time": "2022-07-22T03:47:16.266697",
     "status": "completed"
    },
    "tags": []
   },
   "outputs": [
    {
     "name": "stdout",
     "output_type": "stream",
     "text": [
      "Number of gene combinations: 46360\n"
     ]
    }
   ],
   "source": [
    "n = len(gene_chr_objs)\n",
    "n_comb = int(n * (n - 1) / 2.0)\n",
    "print(f\"Number of gene combinations: {n_comb}\", flush=True)"
   ]
  },
  {
   "cell_type": "code",
   "execution_count": 33,
   "id": "cdbb90a1",
   "metadata": {
    "execution": {
     "iopub.execute_input": "2022-07-22T03:47:16.312632Z",
     "iopub.status.busy": "2022-07-22T03:47:16.312347Z",
     "iopub.status.idle": "2022-07-22T03:53:43.534443Z",
     "shell.execute_reply": "2022-07-22T03:53:43.534021Z"
    },
    "papermill": {
     "duration": 387.235984,
     "end_time": "2022-07-22T03:53:43.535837",
     "exception": false,
     "start_time": "2022-07-22T03:47:16.299853",
     "status": "completed"
    },
    "tags": []
   },
   "outputs": [
    {
     "name": "stderr",
     "output_type": "stream",
     "text": [
      "ENSG00000113303 / ENSG00000165810: 100%|█████████████████████| 46360/46360 [06:27<00:00, 119.74it/s]\n"
     ]
    },
    {
     "data": {
      "text/plain": [
       "PosixPath('/opt/data/results/gls/gene_corrs/cohorts/1000g_eur/1000g/mashr/by_chr/gene_corrs-chr5.pkl')"
      ]
     },
     "metadata": {},
     "output_type": "display_data"
    }
   ],
   "source": [
    "gene_corrs = []\n",
    "\n",
    "i = 0\n",
    "with tqdm(ncols=100, total=n_comb) as pbar:\n",
    "    for gene1_idx in range(0, len(gene_chr_objs) - 1):\n",
    "        gene1_obj = gene_chr_objs[gene1_idx]\n",
    "        gene1_tissues = spredixcan_genes_models.loc[gene1_obj.ensembl_id, \"tissue\"]\n",
    "\n",
    "        for gene2_idx in range(gene1_idx + 1, len(gene_chr_objs)):\n",
    "            gene2_obj = gene_chr_objs[gene2_idx]\n",
    "            gene2_tissues = spredixcan_genes_models.loc[gene2_obj.ensembl_id, \"tissue\"]\n",
    "\n",
    "            pbar.set_description(f\"{gene1_obj.ensembl_id} / {gene2_obj.ensembl_id}\")\n",
    "\n",
    "            try:\n",
    "                r = gene1_obj.get_ssm_correlation(\n",
    "                    other_gene=gene2_obj,\n",
    "                    tissues=gene1_tissues,\n",
    "                    other_tissues=gene2_tissues,\n",
    "                    snps_subset=gwas_variants_ids_set,\n",
    "                    condition_number=SMULTIXCAN_CONDITION_NUMBER,\n",
    "                    reference_panel=REFERENCE_PANEL,\n",
    "                    model_type=EQTL_MODEL,\n",
    "                    use_within_distance=COMPUTE_CORRELATIONS_WITHIN_DISTANCE,\n",
    "                )\n",
    "\n",
    "                if r is None:\n",
    "                    # if r is None, it's very likely because:\n",
    "                    #  * one of the genes has no prediction models\n",
    "                    #  * all the SNPs predictors for the gene are not present in the reference\n",
    "                    #    panel\n",
    "\n",
    "                    r = 0.0\n",
    "\n",
    "                gene_corrs.append(r)\n",
    "            except Warning as e:\n",
    "                if not DEBUG_MODE:\n",
    "                    raise e\n",
    "\n",
    "                print(\n",
    "                    f\"RuntimeWarning for genes {gene1_obj.ensembl_id} and {gene2_obj.ensembl_id}\",\n",
    "                    flush=True,\n",
    "                )\n",
    "                print(traceback.format_exc(), flush=True)\n",
    "\n",
    "                gene_corrs.append(np.nan)\n",
    "            except Exception as e:\n",
    "                if not DEBUG_MODE:\n",
    "                    raise e\n",
    "\n",
    "                print(\n",
    "                    f\"Exception for genes {gene1_obj.ensembl_id} and {gene2_obj.ensembl_id}\",\n",
    "                    flush=True,\n",
    "                )\n",
    "                print(traceback.format_exc(), flush=True)\n",
    "\n",
    "                gene_corrs.append(np.nan)\n",
    "\n",
    "            pbar.update(1)\n",
    "\n",
    "# create a pandas series\n",
    "gene_corrs_flat = pd.Series(gene_corrs)\n",
    "\n",
    "# save\n",
    "# FIXME: consider saving only the condenced matrix here. See here for\n",
    "# more details: https://github.com/greenelab/phenoplier/pull/38#discussion_r634600813\n",
    "gene_corrs_data = squareform(np.array(gene_corrs, dtype=np.float64))\n",
    "np.fill_diagonal(gene_corrs_data, 1.0)\n",
    "\n",
    "gene_chr_ids = [g.ensembl_id for g in gene_chr_objs]\n",
    "gene_corrs_df = pd.DataFrame(\n",
    "    data=gene_corrs_data,\n",
    "    index=gene_chr_ids,\n",
    "    columns=gene_chr_ids,\n",
    ")\n",
    "\n",
    "output_dir.mkdir(exist_ok=True, parents=True)\n",
    "display(output_file)\n",
    "\n",
    "gene_corrs_df.to_pickle(output_file)"
   ]
  },
  {
   "cell_type": "markdown",
   "id": "faa67b51-5373-470f-aa72-2ded53fa6dfe",
   "metadata": {
    "papermill": {
     "duration": 1.812066,
     "end_time": "2022-07-22T03:53:47.155231",
     "exception": false,
     "start_time": "2022-07-22T03:53:45.343165",
     "status": "completed"
    },
    "tags": []
   },
   "source": [
    "# Testing"
   ]
  },
  {
   "cell_type": "code",
   "execution_count": 34,
   "id": "14f7d046-4b55-4896-a56b-990127bcc388",
   "metadata": {
    "execution": {
     "iopub.execute_input": "2022-07-22T03:53:50.808060Z",
     "iopub.status.busy": "2022-07-22T03:53:50.807872Z",
     "iopub.status.idle": "2022-07-22T03:53:50.823345Z",
     "shell.execute_reply": "2022-07-22T03:53:50.822886Z"
    },
    "papermill": {
     "duration": 1.833089,
     "end_time": "2022-07-22T03:53:50.824588",
     "exception": false,
     "start_time": "2022-07-22T03:53:48.991499",
     "status": "completed"
    },
    "tags": []
   },
   "outputs": [
    {
     "data": {
      "text/plain": [
       "(305, 305)"
      ]
     },
     "execution_count": 34,
     "metadata": {},
     "output_type": "execute_result"
    }
   ],
   "source": [
    "gene_corrs_df.shape"
   ]
  },
  {
   "cell_type": "code",
   "execution_count": 35,
   "id": "c7d15414-3297-4537-a7c6-7588c0baeb75",
   "metadata": {
    "execution": {
     "iopub.execute_input": "2022-07-22T03:53:54.377290Z",
     "iopub.status.busy": "2022-07-22T03:53:54.377087Z",
     "iopub.status.idle": "2022-07-22T03:53:54.407046Z",
     "shell.execute_reply": "2022-07-22T03:53:54.406584Z"
    },
    "papermill": {
     "duration": 1.82822,
     "end_time": "2022-07-22T03:53:54.408169",
     "exception": false,
     "start_time": "2022-07-22T03:53:52.579949",
     "status": "completed"
    },
    "tags": []
   },
   "outputs": [
    {
     "data": {
      "text/html": [
       "<div>\n",
       "<style scoped>\n",
       "    .dataframe tbody tr th:only-of-type {\n",
       "        vertical-align: middle;\n",
       "    }\n",
       "\n",
       "    .dataframe tbody tr th {\n",
       "        vertical-align: top;\n",
       "    }\n",
       "\n",
       "    .dataframe thead th {\n",
       "        text-align: right;\n",
       "    }\n",
       "</style>\n",
       "<table border=\"1\" class=\"dataframe\">\n",
       "  <thead>\n",
       "    <tr style=\"text-align: right;\">\n",
       "      <th></th>\n",
       "      <th>ENSG00000073578</th>\n",
       "      <th>ENSG00000180104</th>\n",
       "      <th>ENSG00000066230</th>\n",
       "      <th>ENSG00000112877</th>\n",
       "      <th>ENSG00000113504</th>\n",
       "      <th>ENSG00000174358</th>\n",
       "      <th>ENSG00000164362</th>\n",
       "      <th>ENSG00000049656</th>\n",
       "      <th>ENSG00000153395</th>\n",
       "      <th>ENSG00000171421</th>\n",
       "      <th>...</th>\n",
       "      <th>ENSG00000161021</th>\n",
       "      <th>ENSG00000161013</th>\n",
       "      <th>ENSG00000161011</th>\n",
       "      <th>ENSG00000050748</th>\n",
       "      <th>ENSG00000131459</th>\n",
       "      <th>ENSG00000113300</th>\n",
       "      <th>ENSG00000037280</th>\n",
       "      <th>ENSG00000131446</th>\n",
       "      <th>ENSG00000113303</th>\n",
       "      <th>ENSG00000165810</th>\n",
       "    </tr>\n",
       "  </thead>\n",
       "  <tbody>\n",
       "    <tr>\n",
       "      <th>ENSG00000073578</th>\n",
       "      <td>1.000000</td>\n",
       "      <td>0.225308</td>\n",
       "      <td>0.164263</td>\n",
       "      <td>0.057726</td>\n",
       "      <td>0.017171</td>\n",
       "      <td>0.013519</td>\n",
       "      <td>0.011427</td>\n",
       "      <td>0.009907</td>\n",
       "      <td>0.017186</td>\n",
       "      <td>0.012019</td>\n",
       "      <td>...</td>\n",
       "      <td>0.0</td>\n",
       "      <td>0.0</td>\n",
       "      <td>0.0</td>\n",
       "      <td>0.0</td>\n",
       "      <td>0.0</td>\n",
       "      <td>0.0</td>\n",
       "      <td>0.0</td>\n",
       "      <td>0.0</td>\n",
       "      <td>0.0</td>\n",
       "      <td>0.0</td>\n",
       "    </tr>\n",
       "    <tr>\n",
       "      <th>ENSG00000180104</th>\n",
       "      <td>0.225308</td>\n",
       "      <td>1.000000</td>\n",
       "      <td>0.393923</td>\n",
       "      <td>0.091437</td>\n",
       "      <td>0.015572</td>\n",
       "      <td>0.007593</td>\n",
       "      <td>0.007360</td>\n",
       "      <td>0.010788</td>\n",
       "      <td>0.008868</td>\n",
       "      <td>0.007662</td>\n",
       "      <td>...</td>\n",
       "      <td>0.0</td>\n",
       "      <td>0.0</td>\n",
       "      <td>0.0</td>\n",
       "      <td>0.0</td>\n",
       "      <td>0.0</td>\n",
       "      <td>0.0</td>\n",
       "      <td>0.0</td>\n",
       "      <td>0.0</td>\n",
       "      <td>0.0</td>\n",
       "      <td>0.0</td>\n",
       "    </tr>\n",
       "    <tr>\n",
       "      <th>ENSG00000066230</th>\n",
       "      <td>0.164263</td>\n",
       "      <td>0.393923</td>\n",
       "      <td>1.000000</td>\n",
       "      <td>0.223077</td>\n",
       "      <td>0.020293</td>\n",
       "      <td>0.008163</td>\n",
       "      <td>0.010617</td>\n",
       "      <td>0.005244</td>\n",
       "      <td>0.012261</td>\n",
       "      <td>0.007169</td>\n",
       "      <td>...</td>\n",
       "      <td>0.0</td>\n",
       "      <td>0.0</td>\n",
       "      <td>0.0</td>\n",
       "      <td>0.0</td>\n",
       "      <td>0.0</td>\n",
       "      <td>0.0</td>\n",
       "      <td>0.0</td>\n",
       "      <td>0.0</td>\n",
       "      <td>0.0</td>\n",
       "      <td>0.0</td>\n",
       "    </tr>\n",
       "    <tr>\n",
       "      <th>ENSG00000112877</th>\n",
       "      <td>0.057726</td>\n",
       "      <td>0.091437</td>\n",
       "      <td>0.223077</td>\n",
       "      <td>1.000000</td>\n",
       "      <td>0.023220</td>\n",
       "      <td>0.013198</td>\n",
       "      <td>0.007208</td>\n",
       "      <td>0.014335</td>\n",
       "      <td>0.014422</td>\n",
       "      <td>0.008983</td>\n",
       "      <td>...</td>\n",
       "      <td>0.0</td>\n",
       "      <td>0.0</td>\n",
       "      <td>0.0</td>\n",
       "      <td>0.0</td>\n",
       "      <td>0.0</td>\n",
       "      <td>0.0</td>\n",
       "      <td>0.0</td>\n",
       "      <td>0.0</td>\n",
       "      <td>0.0</td>\n",
       "      <td>0.0</td>\n",
       "    </tr>\n",
       "    <tr>\n",
       "      <th>ENSG00000113504</th>\n",
       "      <td>0.017171</td>\n",
       "      <td>0.015572</td>\n",
       "      <td>0.020293</td>\n",
       "      <td>0.023220</td>\n",
       "      <td>1.000000</td>\n",
       "      <td>0.042883</td>\n",
       "      <td>0.017868</td>\n",
       "      <td>0.016642</td>\n",
       "      <td>0.130196</td>\n",
       "      <td>0.014295</td>\n",
       "      <td>...</td>\n",
       "      <td>0.0</td>\n",
       "      <td>0.0</td>\n",
       "      <td>0.0</td>\n",
       "      <td>0.0</td>\n",
       "      <td>0.0</td>\n",
       "      <td>0.0</td>\n",
       "      <td>0.0</td>\n",
       "      <td>0.0</td>\n",
       "      <td>0.0</td>\n",
       "      <td>0.0</td>\n",
       "    </tr>\n",
       "  </tbody>\n",
       "</table>\n",
       "<p>5 rows × 305 columns</p>\n",
       "</div>"
      ],
      "text/plain": [
       "                 ENSG00000073578  ENSG00000180104  ENSG00000066230  \\\n",
       "ENSG00000073578         1.000000         0.225308         0.164263   \n",
       "ENSG00000180104         0.225308         1.000000         0.393923   \n",
       "ENSG00000066230         0.164263         0.393923         1.000000   \n",
       "ENSG00000112877         0.057726         0.091437         0.223077   \n",
       "ENSG00000113504         0.017171         0.015572         0.020293   \n",
       "\n",
       "                 ENSG00000112877  ENSG00000113504  ENSG00000174358  \\\n",
       "ENSG00000073578         0.057726         0.017171         0.013519   \n",
       "ENSG00000180104         0.091437         0.015572         0.007593   \n",
       "ENSG00000066230         0.223077         0.020293         0.008163   \n",
       "ENSG00000112877         1.000000         0.023220         0.013198   \n",
       "ENSG00000113504         0.023220         1.000000         0.042883   \n",
       "\n",
       "                 ENSG00000164362  ENSG00000049656  ENSG00000153395  \\\n",
       "ENSG00000073578         0.011427         0.009907         0.017186   \n",
       "ENSG00000180104         0.007360         0.010788         0.008868   \n",
       "ENSG00000066230         0.010617         0.005244         0.012261   \n",
       "ENSG00000112877         0.007208         0.014335         0.014422   \n",
       "ENSG00000113504         0.017868         0.016642         0.130196   \n",
       "\n",
       "                 ENSG00000171421  ...  ENSG00000161021  ENSG00000161013  \\\n",
       "ENSG00000073578         0.012019  ...              0.0              0.0   \n",
       "ENSG00000180104         0.007662  ...              0.0              0.0   \n",
       "ENSG00000066230         0.007169  ...              0.0              0.0   \n",
       "ENSG00000112877         0.008983  ...              0.0              0.0   \n",
       "ENSG00000113504         0.014295  ...              0.0              0.0   \n",
       "\n",
       "                 ENSG00000161011  ENSG00000050748  ENSG00000131459  \\\n",
       "ENSG00000073578              0.0              0.0              0.0   \n",
       "ENSG00000180104              0.0              0.0              0.0   \n",
       "ENSG00000066230              0.0              0.0              0.0   \n",
       "ENSG00000112877              0.0              0.0              0.0   \n",
       "ENSG00000113504              0.0              0.0              0.0   \n",
       "\n",
       "                 ENSG00000113300  ENSG00000037280  ENSG00000131446  \\\n",
       "ENSG00000073578              0.0              0.0              0.0   \n",
       "ENSG00000180104              0.0              0.0              0.0   \n",
       "ENSG00000066230              0.0              0.0              0.0   \n",
       "ENSG00000112877              0.0              0.0              0.0   \n",
       "ENSG00000113504              0.0              0.0              0.0   \n",
       "\n",
       "                 ENSG00000113303  ENSG00000165810  \n",
       "ENSG00000073578              0.0              0.0  \n",
       "ENSG00000180104              0.0              0.0  \n",
       "ENSG00000066230              0.0              0.0  \n",
       "ENSG00000112877              0.0              0.0  \n",
       "ENSG00000113504              0.0              0.0  \n",
       "\n",
       "[5 rows x 305 columns]"
      ]
     },
     "execution_count": 35,
     "metadata": {},
     "output_type": "execute_result"
    }
   ],
   "source": [
    "gene_corrs_df.head()"
   ]
  },
  {
   "cell_type": "markdown",
   "id": "dad6603f-01c6-41fb-a6f6-241051207dd8",
   "metadata": {
    "papermill": {
     "duration": 1.760106,
     "end_time": "2022-07-22T03:53:57.945512",
     "exception": false,
     "start_time": "2022-07-22T03:53:56.185406",
     "status": "completed"
    },
    "tags": []
   },
   "source": [
    "## Standard checks and stats"
   ]
  },
  {
   "cell_type": "code",
   "execution_count": 36,
   "id": "286686af-1b7b-4440-8453-6bdcbd8de19c",
   "metadata": {
    "execution": {
     "iopub.execute_input": "2022-07-22T03:54:01.619042Z",
     "iopub.status.busy": "2022-07-22T03:54:01.618853Z",
     "iopub.status.idle": "2022-07-22T03:54:01.635563Z",
     "shell.execute_reply": "2022-07-22T03:54:01.635131Z"
    },
    "papermill": {
     "duration": 1.888044,
     "end_time": "2022-07-22T03:54:01.636775",
     "exception": false,
     "start_time": "2022-07-22T03:53:59.748731",
     "status": "completed"
    },
    "tags": []
   },
   "outputs": [],
   "source": [
    "assert not gene_corrs_df.isna().any().any()"
   ]
  },
  {
   "cell_type": "code",
   "execution_count": 37,
   "id": "00583efc-7068-4270-ad1e-4a418e91db96",
   "metadata": {
    "execution": {
     "iopub.execute_input": "2022-07-22T03:54:05.325220Z",
     "iopub.status.busy": "2022-07-22T03:54:05.324977Z",
     "iopub.status.idle": "2022-07-22T03:54:05.343717Z",
     "shell.execute_reply": "2022-07-22T03:54:05.343311Z"
    },
    "papermill": {
     "duration": 1.868092,
     "end_time": "2022-07-22T03:54:05.344863",
     "exception": false,
     "start_time": "2022-07-22T03:54:03.476771",
     "status": "completed"
    },
    "tags": []
   },
   "outputs": [
    {
     "data": {
      "text/plain": [
       "0.0"
      ]
     },
     "metadata": {},
     "output_type": "display_data"
    }
   ],
   "source": [
    "_min_val = gene_corrs_df.min().min()\n",
    "display(_min_val)\n",
    "assert _min_val >= 0.0"
   ]
  },
  {
   "cell_type": "code",
   "execution_count": 38,
   "id": "d04fb2cf-1050-475b-b855-f5f7cc04092b",
   "metadata": {
    "execution": {
     "iopub.execute_input": "2022-07-22T03:54:09.018854Z",
     "iopub.status.busy": "2022-07-22T03:54:09.018652Z",
     "iopub.status.idle": "2022-07-22T03:54:09.037927Z",
     "shell.execute_reply": "2022-07-22T03:54:09.037506Z"
    },
    "papermill": {
     "duration": 1.857544,
     "end_time": "2022-07-22T03:54:09.039413",
     "exception": false,
     "start_time": "2022-07-22T03:54:07.181869",
     "status": "completed"
    },
    "tags": []
   },
   "outputs": [
    {
     "data": {
      "text/plain": [
       "1.0"
      ]
     },
     "metadata": {},
     "output_type": "display_data"
    }
   ],
   "source": [
    "_max_val = gene_corrs_df.max().max()  # this captures the diagonal\n",
    "display(_max_val)\n",
    "assert _max_val <= 1.0"
   ]
  },
  {
   "cell_type": "code",
   "execution_count": 39,
   "id": "96d02c44-1fba-47be-8a93-8f2608420b9c",
   "metadata": {
    "execution": {
     "iopub.execute_input": "2022-07-22T03:54:12.687115Z",
     "iopub.status.busy": "2022-07-22T03:54:12.686765Z",
     "iopub.status.idle": "2022-07-22T03:54:12.703635Z",
     "shell.execute_reply": "2022-07-22T03:54:12.702241Z"
    },
    "papermill": {
     "duration": 1.837715,
     "end_time": "2022-07-22T03:54:12.704930",
     "exception": false,
     "start_time": "2022-07-22T03:54:10.867215",
     "status": "completed"
    },
    "tags": []
   },
   "outputs": [],
   "source": [
    "# check upper triangular values\n",
    "assert len(gene_corrs) == int(genes_chr.shape[0] * (genes_chr.shape[0] - 1) / 2)"
   ]
  },
  {
   "cell_type": "code",
   "execution_count": 40,
   "id": "fe283586-c348-40e0-8841-f6d97bfb021c",
   "metadata": {
    "execution": {
     "iopub.execute_input": "2022-07-22T03:54:16.371553Z",
     "iopub.status.busy": "2022-07-22T03:54:16.371331Z",
     "iopub.status.idle": "2022-07-22T03:54:16.390483Z",
     "shell.execute_reply": "2022-07-22T03:54:16.390024Z"
    },
    "papermill": {
     "duration": 1.85914,
     "end_time": "2022-07-22T03:54:16.391572",
     "exception": false,
     "start_time": "2022-07-22T03:54:14.532432",
     "status": "completed"
    },
    "tags": []
   },
   "outputs": [
    {
     "data": {
      "text/plain": [
       "count    46360.000000\n",
       "mean         0.002774\n",
       "std          0.030766\n",
       "min          0.000000\n",
       "25%          0.000000\n",
       "50%          0.000000\n",
       "75%          0.000000\n",
       "max          0.976708\n",
       "dtype: float64"
      ]
     },
     "execution_count": 40,
     "metadata": {},
     "output_type": "execute_result"
    }
   ],
   "source": [
    "gene_corrs_flat.describe()"
   ]
  },
  {
   "cell_type": "code",
   "execution_count": 41,
   "id": "b3815678-0f93-4b35-897b-a9d047a2aa78",
   "metadata": {
    "execution": {
     "iopub.execute_input": "2022-07-22T03:54:20.387536Z",
     "iopub.status.busy": "2022-07-22T03:54:20.387324Z",
     "iopub.status.idle": "2022-07-22T03:54:20.407597Z",
     "shell.execute_reply": "2022-07-22T03:54:20.407086Z"
    },
    "papermill": {
     "duration": 2.097642,
     "end_time": "2022-07-22T03:54:20.408910",
     "exception": false,
     "start_time": "2022-07-22T03:54:18.311268",
     "status": "completed"
    },
    "tags": []
   },
   "outputs": [
    {
     "data": {
      "text/plain": [
       "0.00    0.0000\n",
       "0.05    0.0000\n",
       "0.10    0.0000\n",
       "0.15    0.0000\n",
       "0.20    0.0000\n",
       "0.25    0.0000\n",
       "0.30    0.0000\n",
       "0.35    0.0000\n",
       "0.40    0.0000\n",
       "0.45    0.0000\n",
       "0.50    0.0000\n",
       "0.55    0.0000\n",
       "0.60    0.0000\n",
       "0.65    0.0000\n",
       "0.70    0.0000\n",
       "0.75    0.0000\n",
       "0.80    0.0000\n",
       "0.85    0.0000\n",
       "0.90    0.0000\n",
       "0.95    0.0075\n",
       "dtype: float64"
      ]
     },
     "metadata": {},
     "output_type": "display_data"
    }
   ],
   "source": [
    "gene_corrs_quantiles = gene_corrs_flat.quantile(np.arange(0, 1, 0.05))\n",
    "display(gene_corrs_quantiles)"
   ]
  },
  {
   "cell_type": "markdown",
   "id": "87134509-b145-4a10-8bc9-b7e914c2b0fa",
   "metadata": {
    "papermill": {
     "duration": 1.847485,
     "end_time": "2022-07-22T03:54:24.085562",
     "exception": false,
     "start_time": "2022-07-22T03:54:22.238077",
     "status": "completed"
    },
    "tags": []
   },
   "source": [
    "## Positive definiteness"
   ]
  },
  {
   "cell_type": "code",
   "execution_count": 42,
   "id": "07d9a9a1-a4f7-48aa-b916-6d42a8cc6186",
   "metadata": {
    "execution": {
     "iopub.execute_input": "2022-07-22T03:54:27.758460Z",
     "iopub.status.busy": "2022-07-22T03:54:27.758009Z",
     "iopub.status.idle": "2022-07-22T03:54:27.828642Z",
     "shell.execute_reply": "2022-07-22T03:54:27.828263Z"
    },
    "papermill": {
     "duration": 1.928863,
     "end_time": "2022-07-22T03:54:27.829865",
     "exception": false,
     "start_time": "2022-07-22T03:54:25.901002",
     "status": "completed"
    },
    "tags": []
   },
   "outputs": [
    {
     "data": {
      "text/plain": [
       "0"
      ]
     },
     "metadata": {},
     "output_type": "display_data"
    },
    {
     "data": {
      "text/plain": [
       "array([], dtype=float64)"
      ]
     },
     "metadata": {},
     "output_type": "display_data"
    }
   ],
   "source": [
    "# print negative eigenvalues\n",
    "eigs = np.linalg.eigvals(gene_corrs_df.to_numpy())\n",
    "display(len(eigs[eigs < 0]))\n",
    "display(eigs[eigs < 0])"
   ]
  },
  {
   "cell_type": "code",
   "execution_count": 43,
   "id": "6e218436-c3c5-4028-8c94-a4fa6260efce",
   "metadata": {
    "execution": {
     "iopub.execute_input": "2022-07-22T03:54:31.425103Z",
     "iopub.status.busy": "2022-07-22T03:54:31.424939Z",
     "iopub.status.idle": "2022-07-22T03:54:31.448917Z",
     "shell.execute_reply": "2022-07-22T03:54:31.448394Z"
    },
    "papermill": {
     "duration": 1.820539,
     "end_time": "2022-07-22T03:54:31.450246",
     "exception": false,
     "start_time": "2022-07-22T03:54:29.629707",
     "status": "completed"
    },
    "tags": []
   },
   "outputs": [
    {
     "name": "stdout",
     "output_type": "stream",
     "text": [
      "Works!\n"
     ]
    }
   ],
   "source": [
    "try:\n",
    "    chol_mat = np.linalg.cholesky(gene_corrs_df.to_numpy())\n",
    "    cov_inv = np.linalg.inv(chol_mat)\n",
    "    print(\"Works!\")\n",
    "except:\n",
    "    print(\"Cholesky decomposition failed\")"
   ]
  },
  {
   "cell_type": "markdown",
   "id": "8e60a080-edb2-4e9c-b2ef-22961693200c",
   "metadata": {
    "papermill": {
     "duration": 1.773201,
     "end_time": "2022-07-22T03:54:35.064361",
     "exception": false,
     "start_time": "2022-07-22T03:54:33.291160",
     "status": "completed"
    },
    "tags": []
   },
   "source": [
    "## Plot: distribution"
   ]
  },
  {
   "cell_type": "code",
   "execution_count": 44,
   "id": "8301126b-a7d4-4744-9c7d-f0f86eb6f54c",
   "metadata": {
    "execution": {
     "iopub.execute_input": "2022-07-22T03:54:38.730014Z",
     "iopub.status.busy": "2022-07-22T03:54:38.729850Z",
     "iopub.status.idle": "2022-07-22T03:54:39.104720Z",
     "shell.execute_reply": "2022-07-22T03:54:39.104236Z"
    },
    "papermill": {
     "duration": 2.200904,
     "end_time": "2022-07-22T03:54:39.105864",
     "exception": false,
     "start_time": "2022-07-22T03:54:36.904960",
     "status": "completed"
    },
    "tags": []
   },
   "outputs": [
    {
     "data": {
      "image/png": "[encoded data removed]",
      "text/plain": [
       "<Figure size 504x504 with 1 Axes>"
      ]
     },
     "metadata": {
      "needs_background": "light"
     },
     "output_type": "display_data"
    }
   ],
   "source": [
    "with sns.plotting_context(\"paper\", font_scale=1.5):\n",
    "    g = sns.displot(gene_corrs_flat, kde=True, height=7)\n",
    "    g.ax.set_title(\n",
    "        f\"Distribution of gene correlation values in chromosome {CHROMOSOME}\"\n",
    "    )"
   ]
  },
  {
   "cell_type": "markdown",
   "id": "cbd52bca-d878-4a2f-b684-5c83aa3038d4",
   "metadata": {
    "papermill": {
     "duration": 1.817909,
     "end_time": "2022-07-22T03:54:42.674152",
     "exception": false,
     "start_time": "2022-07-22T03:54:40.856243",
     "status": "completed"
    },
    "tags": []
   },
   "source": [
    "## Plot: heatmap"
   ]
  },
  {
   "cell_type": "code",
   "execution_count": 45,
   "id": "d03fe63a-c7b2-4fb9-a53c-db362ce843c9",
   "metadata": {
    "execution": {
     "iopub.execute_input": "2022-07-22T03:54:46.268580Z",
     "iopub.status.busy": "2022-07-22T03:54:46.268226Z",
     "iopub.status.idle": "2022-07-22T03:54:46.285885Z",
     "shell.execute_reply": "2022-07-22T03:54:46.285363Z"
    },
    "papermill": {
     "duration": 1.819742,
     "end_time": "2022-07-22T03:54:46.287165",
     "exception": false,
     "start_time": "2022-07-22T03:54:44.467423",
     "status": "completed"
    },
    "tags": []
   },
   "outputs": [
    {
     "data": {
      "text/plain": [
       "'0.0 / 0.05'"
      ]
     },
     "metadata": {},
     "output_type": "display_data"
    }
   ],
   "source": [
    "vmin_val = min(0.00, gene_corrs_quantiles[0.10])\n",
    "vmax_val = max(0.05, gene_corrs_quantiles[0.90])\n",
    "display(f\"{vmin_val} / {vmax_val}\")"
   ]
  },
  {
   "cell_type": "code",
   "execution_count": 46,
   "id": "dc41b70b-5bcc-4d9e-9f33-a22c4a94dab5",
   "metadata": {
    "execution": {
     "iopub.execute_input": "2022-07-22T03:54:49.890706Z",
     "iopub.status.busy": "2022-07-22T03:54:49.890272Z",
     "iopub.status.idle": "2022-07-22T03:54:50.115838Z",
     "shell.execute_reply": "2022-07-22T03:54:50.115316Z"
    },
    "papermill": {
     "duration": 2.050855,
     "end_time": "2022-07-22T03:54:50.117176",
     "exception": false,
     "start_time": "2022-07-22T03:54:48.066321",
     "status": "completed"
    },
    "tags": []
   },
   "outputs": [
    {
     "data": {
      "text/plain": [
       "Text(0.5, 1.0, 'Gene correlations in chromosome 5')"
      ]
     },
     "execution_count": 46,
     "metadata": {},
     "output_type": "execute_result"
    },
    {
     "data": {
      "image/png": "[encoded data removed]",
      "text/plain": [
       "<Figure size 720x720 with 2 Axes>"
      ]
     },
     "metadata": {
      "needs_background": "light"
     },
     "output_type": "display_data"
    }
   ],
   "source": [
    "f, ax = plt.subplots(figsize=(10, 10))\n",
    "sns.heatmap(\n",
    "    gene_corrs_df,\n",
    "    xticklabels=False,\n",
    "    yticklabels=False,\n",
    "    square=True,\n",
    "    vmin=vmin_val,\n",
    "    vmax=vmax_val,\n",
    "    cmap=\"rocket_r\",\n",
    "    ax=ax,\n",
    ")\n",
    "ax.set_title(f\"Gene correlations in chromosome {CHROMOSOME}\")"
   ]
  },
  {
   "cell_type": "code",
   "execution_count": null,
   "id": "b25e3ead",
   "metadata": {
    "papermill": {
     "duration": 1.85883,
     "end_time": "2022-07-22T03:54:53.860981",
     "exception": false,
     "start_time": "2022-07-22T03:54:52.002151",
     "status": "completed"
    },
    "tags": []
   },
   "outputs": [],
   "source": []
  }
 ],
 "metadata": {
  "jupytext": {
   "cell_metadata_filter": "all,-execution,-papermill,-trusted",
   "formats": "ipynb,py//py:percent"
  },
  "kernelspec": {
   "display_name": "Python 3 (ipykernel)",
   "language": "python",
   "name": "python3"
  },
  "language_info": {
   "codemirror_mode": {
    "name": "ipython",
    "version": 3
   },
   "file_extension": ".py",
   "mimetype": "text/x-python",
   "name": "python",
   "nbconvert_exporter": "python",
   "pygments_lexer": "ipython3",
   "version": "3.8.13"
  },
  "papermill": {
   "default_parameters": {},
   "duration": 469.686483,
   "end_time": "2022-07-22T03:54:58.785834",
   "environment_variables": {},
   "exception": null,
   "input_path": "nbs/15_gsa_gls/10-gene_expr_correlations.ipynb",
   "output_path": "nbs/15_gsa_gls/gene_corrs/cohorts/1000g_eur/1000g/mashr/10-gene_expr_correlations-chr5.run.ipynb",
   "parameters": {
    "CHROMOSOME": 5,
    "COHORT_NAME": "1000G_EUR",
    "EQTL_MODEL": "MASHR",
    "REFERENCE_PANEL": "1000G"
   },
   "start_time": "2022-07-22T03:47:09.099351",
   "version": "2.2.2"
  }
 },
 "nbformat": 4,
 "nbformat_minor": 5
}
