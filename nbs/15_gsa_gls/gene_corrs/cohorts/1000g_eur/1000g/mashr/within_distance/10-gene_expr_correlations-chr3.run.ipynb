{
 "cells": [
  {
   "cell_type": "markdown",
   "id": "7a6632fb",
   "metadata": {
    "papermill": {
     "duration": 0.025262,
     "end_time": "2022-07-22T03:32:36.974251",
     "exception": false,
     "start_time": "2022-07-22T03:32:36.948989",
     "status": "completed"
    },
    "tags": []
   },
   "source": [
    "# Description"
   ]
  },
  {
   "cell_type": "markdown",
   "id": "7097c346",
   "metadata": {
    "papermill": {
     "duration": 0.022422,
     "end_time": "2022-07-22T03:32:37.019656",
     "exception": false,
     "start_time": "2022-07-22T03:32:36.997234",
     "status": "completed"
    },
    "tags": []
   },
   "source": [
    "(Please, take a look at the README.md file in this directory for instructions on how to run this notebook)\n",
    "\n",
    "This notebook computes predicted expression correlations between all genes in the MultiPLIER models.\n",
    "\n",
    "It also has a parameter set for papermill to run on a single chromosome to run in parallel (see under `Settings` below).\n",
    "\n",
    "This notebook is not directly run. See README.md."
   ]
  },
  {
   "cell_type": "markdown",
   "id": "c61d8427",
   "metadata": {
    "papermill": {
     "duration": 0.012601,
     "end_time": "2022-07-22T03:32:37.053887",
     "exception": false,
     "start_time": "2022-07-22T03:32:37.041286",
     "status": "completed"
    },
    "tags": []
   },
   "source": [
    "# Modules"
   ]
  },
  {
   "cell_type": "code",
   "execution_count": 1,
   "id": "bbc0234f",
   "metadata": {
    "execution": {
     "iopub.execute_input": "2022-07-22T03:32:37.072830Z",
     "iopub.status.busy": "2022-07-22T03:32:37.072378Z",
     "iopub.status.idle": "2022-07-22T03:32:37.088592Z",
     "shell.execute_reply": "2022-07-22T03:32:37.088102Z"
    },
    "papermill": {
     "duration": 0.026803,
     "end_time": "2022-07-22T03:32:37.090015",
     "exception": false,
     "start_time": "2022-07-22T03:32:37.063212",
     "status": "completed"
    },
    "tags": []
   },
   "outputs": [],
   "source": [
    "%load_ext autoreload\n",
    "%autoreload 2"
   ]
  },
  {
   "cell_type": "code",
   "execution_count": 2,
   "id": "1d5f5a59",
   "metadata": {
    "execution": {
     "iopub.execute_input": "2022-07-22T03:32:37.134816Z",
     "iopub.status.busy": "2022-07-22T03:32:37.134631Z",
     "iopub.status.idle": "2022-07-22T03:32:38.138474Z",
     "shell.execute_reply": "2022-07-22T03:32:38.137744Z"
    },
    "papermill": {
     "duration": 1.013145,
     "end_time": "2022-07-22T03:32:38.140012",
     "exception": false,
     "start_time": "2022-07-22T03:32:37.126867",
     "status": "completed"
    },
    "tags": []
   },
   "outputs": [],
   "source": [
    "from random import sample, seed\n",
    "import warnings\n",
    "from pathlib import Path\n",
    "import pickle\n",
    "import traceback\n",
    "\n",
    "import numpy as np\n",
    "from scipy.spatial.distance import squareform\n",
    "import pandas as pd\n",
    "from tqdm import tqdm\n",
    "import matplotlib.pyplot as plt\n",
    "import seaborn as sns\n",
    "\n",
    "import conf\n",
    "from entity import Gene"
   ]
  },
  {
   "cell_type": "markdown",
   "id": "1eac24b5",
   "metadata": {
    "papermill": {
     "duration": 0.006439,
     "end_time": "2022-07-22T03:32:38.153396",
     "exception": false,
     "start_time": "2022-07-22T03:32:38.146957",
     "status": "completed"
    },
    "tags": []
   },
   "source": [
    "# Settings"
   ]
  },
  {
   "cell_type": "code",
   "execution_count": 3,
   "id": "ca4560ba",
   "metadata": {
    "execution": {
     "iopub.execute_input": "2022-07-22T03:32:38.168100Z",
     "iopub.status.busy": "2022-07-22T03:32:38.167532Z",
     "iopub.status.idle": "2022-07-22T03:32:38.185054Z",
     "shell.execute_reply": "2022-07-22T03:32:38.184401Z"
    },
    "papermill": {
     "duration": 0.026546,
     "end_time": "2022-07-22T03:32:38.186608",
     "exception": false,
     "start_time": "2022-07-22T03:32:38.160062",
     "status": "completed"
    },
    "tags": [
     "parameters"
    ]
   },
   "outputs": [],
   "source": [
    "# a cohort name (it could be something like UK_BIOBANK, etc)\n",
    "COHORT_NAME = None\n",
    "\n",
    "# reference panel such as 1000G or GTEX_V8\n",
    "REFERENCE_PANEL = None\n",
    "\n",
    "# predictions models such as MASHR or ELASTIC_NET\n",
    "EQTL_MODEL = None\n",
    "\n",
    "# this is the default value used in S-MultiXcan to select the\n",
    "# top principal components of the expression correlation matrix\n",
    "SMULTIXCAN_CONDITION_NUMBER = 30\n",
    "\n",
    "# specifies a single chromosome value\n",
    "CHROMOSOME = None\n",
    "\n",
    "# if True, then it will continue if a gene pair correlation fails,\n",
    "# printing the warning/error for debugging. If False, any warning/error\n",
    "# will be thrown\n",
    "# FIXME: make it False when all is working\n",
    "DEBUG_MODE = True"
   ]
  },
  {
   "cell_type": "code",
   "execution_count": 4,
   "id": "bb637f9b",
   "metadata": {
    "execution": {
     "iopub.execute_input": "2022-07-22T03:32:38.202008Z",
     "iopub.status.busy": "2022-07-22T03:32:38.201582Z",
     "iopub.status.idle": "2022-07-22T03:32:38.219495Z",
     "shell.execute_reply": "2022-07-22T03:32:38.218972Z"
    },
    "papermill": {
     "duration": 0.027292,
     "end_time": "2022-07-22T03:32:38.221086",
     "exception": false,
     "start_time": "2022-07-22T03:32:38.193794",
     "status": "completed"
    },
    "tags": [
     "injected-parameters"
    ]
   },
   "outputs": [],
   "source": [
    "# Parameters\n",
    "COHORT_NAME = \"1000G_EUR\"\n",
    "REFERENCE_PANEL = \"1000G\"\n",
    "EQTL_MODEL = \"MASHR\"\n",
    "CHROMOSOME = 3\n"
   ]
  },
  {
   "cell_type": "code",
   "execution_count": 5,
   "id": "3190631f-27fc-480f-b18e-571d580425a5",
   "metadata": {
    "execution": {
     "iopub.execute_input": "2022-07-22T03:32:38.239882Z",
     "iopub.status.busy": "2022-07-22T03:32:38.235786Z",
     "iopub.status.idle": "2022-07-22T03:32:38.258384Z",
     "shell.execute_reply": "2022-07-22T03:32:38.257935Z"
    },
    "papermill": {
     "duration": 0.032851,
     "end_time": "2022-07-22T03:32:38.261006",
     "exception": false,
     "start_time": "2022-07-22T03:32:38.228155",
     "status": "completed"
    },
    "tags": []
   },
   "outputs": [
    {
     "data": {
      "text/plain": [
       "'Cohort name: 1000g_eur'"
      ]
     },
     "metadata": {},
     "output_type": "display_data"
    }
   ],
   "source": [
    "assert COHORT_NAME is not None or len(COHORT_NAME) == 0, \"A cohort name must be given\"\n",
    "\n",
    "COHORT_NAME = COHORT_NAME.lower()\n",
    "display(f\"Cohort name: {COHORT_NAME}\")"
   ]
  },
  {
   "cell_type": "code",
   "execution_count": 6,
   "id": "f53ba19b-0f93-4fa2-a047-63b375939d1a",
   "metadata": {
    "execution": {
     "iopub.execute_input": "2022-07-22T03:32:38.275664Z",
     "iopub.status.busy": "2022-07-22T03:32:38.275475Z",
     "iopub.status.idle": "2022-07-22T03:32:38.292542Z",
     "shell.execute_reply": "2022-07-22T03:32:38.292015Z"
    },
    "papermill": {
     "duration": 0.025855,
     "end_time": "2022-07-22T03:32:38.293932",
     "exception": false,
     "start_time": "2022-07-22T03:32:38.268077",
     "status": "completed"
    },
    "tags": []
   },
   "outputs": [
    {
     "data": {
      "text/plain": [
       "'Reference panel: 1000G'"
      ]
     },
     "metadata": {},
     "output_type": "display_data"
    }
   ],
   "source": [
    "assert (\n",
    "    REFERENCE_PANEL is not None or len(REFERENCE_PANEL) == 0\n",
    "), \"A reference panel must be given\"\n",
    "\n",
    "display(f\"Reference panel: {REFERENCE_PANEL}\")"
   ]
  },
  {
   "cell_type": "code",
   "execution_count": 7,
   "id": "e024d130-c139-429a-9c6e-ccf149e297b0",
   "metadata": {
    "execution": {
     "iopub.execute_input": "2022-07-22T03:32:38.308586Z",
     "iopub.status.busy": "2022-07-22T03:32:38.308112Z",
     "iopub.status.idle": "2022-07-22T03:32:38.325432Z",
     "shell.execute_reply": "2022-07-22T03:32:38.324960Z"
    },
    "papermill": {
     "duration": 0.0261,
     "end_time": "2022-07-22T03:32:38.326873",
     "exception": false,
     "start_time": "2022-07-22T03:32:38.300773",
     "status": "completed"
    },
    "tags": []
   },
   "outputs": [
    {
     "data": {
      "text/plain": [
       "'eQTL model: MASHR) / mashr_'"
      ]
     },
     "metadata": {},
     "output_type": "display_data"
    }
   ],
   "source": [
    "assert (\n",
    "    EQTL_MODEL is not None or len(EQTL_MODEL) == 0\n",
    "), \"A prediction/eQTL model must be given\"\n",
    "\n",
    "EQTL_MODEL_FILES_PREFIX = conf.PHENOMEXCAN[\"PREDICTION_MODELS\"][f\"{EQTL_MODEL}_PREFIX\"]\n",
    "display(f\"eQTL model: {EQTL_MODEL}) / {EQTL_MODEL_FILES_PREFIX}\")"
   ]
  },
  {
   "cell_type": "code",
   "execution_count": 8,
   "id": "552a7f63-a18c-4d3e-bb6a-94f99b431291",
   "metadata": {
    "execution": {
     "iopub.execute_input": "2022-07-22T03:32:38.341618Z",
     "iopub.status.busy": "2022-07-22T03:32:38.341444Z",
     "iopub.status.idle": "2022-07-22T03:32:38.361779Z",
     "shell.execute_reply": "2022-07-22T03:32:38.360137Z"
    },
    "papermill": {
     "duration": 0.030107,
     "end_time": "2022-07-22T03:32:38.364217",
     "exception": false,
     "start_time": "2022-07-22T03:32:38.334110",
     "status": "completed"
    },
    "tags": []
   },
   "outputs": [
    {
     "data": {
      "text/plain": [
       "'S-MultiXcan condition number: 30'"
      ]
     },
     "metadata": {},
     "output_type": "display_data"
    }
   ],
   "source": [
    "assert (\n",
    "    SMULTIXCAN_CONDITION_NUMBER is not None or SMULTIXCAN_CONDITION_NUMBER > 0\n",
    "), \"The S-MultiXcan condition number (positive integer) must be given\"\n",
    "\n",
    "display(f\"S-MultiXcan condition number: {SMULTIXCAN_CONDITION_NUMBER}\")"
   ]
  },
  {
   "cell_type": "code",
   "execution_count": 9,
   "id": "f34a336f-548e-4afe-8955-90eaea4f42c6",
   "metadata": {
    "execution": {
     "iopub.execute_input": "2022-07-22T03:32:38.380429Z",
     "iopub.status.busy": "2022-07-22T03:32:38.380245Z",
     "iopub.status.idle": "2022-07-22T03:32:38.399628Z",
     "shell.execute_reply": "2022-07-22T03:32:38.396858Z"
    },
    "papermill": {
     "duration": 0.029789,
     "end_time": "2022-07-22T03:32:38.401142",
     "exception": false,
     "start_time": "2022-07-22T03:32:38.371353",
     "status": "completed"
    },
    "tags": []
   },
   "outputs": [
    {
     "data": {
      "text/plain": [
       "'Working on chromosome 3'"
      ]
     },
     "metadata": {},
     "output_type": "display_data"
    }
   ],
   "source": [
    "assert CHROMOSOME is not None and (\n",
    "    1 <= CHROMOSOME <= 22\n",
    "), \"You have to select one chromosome (format: number between 1 and 22)\"\n",
    "\n",
    "CHROMOSOME = str(CHROMOSOME)\n",
    "display(f\"Working on chromosome {CHROMOSOME}\")"
   ]
  },
  {
   "cell_type": "code",
   "execution_count": 10,
   "id": "ab8e96e8-06b5-4363-9dcd-dc4d78cc27f7",
   "metadata": {
    "execution": {
     "iopub.execute_input": "2022-07-22T03:32:38.417221Z",
     "iopub.status.busy": "2022-07-22T03:32:38.417044Z",
     "iopub.status.idle": "2022-07-22T03:32:38.435490Z",
     "shell.execute_reply": "2022-07-22T03:32:38.435005Z"
    },
    "papermill": {
     "duration": 0.028411,
     "end_time": "2022-07-22T03:32:38.436838",
     "exception": false,
     "start_time": "2022-07-22T03:32:38.408427",
     "status": "completed"
    },
    "tags": []
   },
   "outputs": [
    {
     "data": {
      "text/plain": [
       "'Compute correlation within distance True'"
      ]
     },
     "metadata": {},
     "output_type": "display_data"
    }
   ],
   "source": [
    "# TODO: see if this is necessary; if so, make it a parameter with default value True\n",
    "# This parameter, if True, computes the correlation between closeby genes only\n",
    "\n",
    "COMPUTE_CORRELATIONS_WITHIN_DISTANCE = True\n",
    "display(f\"Compute correlation within distance {COMPUTE_CORRELATIONS_WITHIN_DISTANCE}\")"
   ]
  },
  {
   "cell_type": "code",
   "execution_count": 11,
   "id": "396392dc-0340-4540-9b02-e182b833f909",
   "metadata": {
    "execution": {
     "iopub.execute_input": "2022-07-22T03:32:38.454584Z",
     "iopub.status.busy": "2022-07-22T03:32:38.453083Z",
     "iopub.status.idle": "2022-07-22T03:32:38.475497Z",
     "shell.execute_reply": "2022-07-22T03:32:38.475016Z"
    },
    "papermill": {
     "duration": 0.03856,
     "end_time": "2022-07-22T03:32:38.482777",
     "exception": false,
     "start_time": "2022-07-22T03:32:38.444217",
     "status": "completed"
    },
    "tags": []
   },
   "outputs": [
    {
     "data": {
      "text/plain": [
       "'Using output dir base: /opt/data/results/gls/gene_corrs/cohorts/1000g_eur/1000g/mashr'"
      ]
     },
     "metadata": {},
     "output_type": "display_data"
    }
   ],
   "source": [
    "OUTPUT_DIR_BASE = (\n",
    "    conf.RESULTS[\"GLS\"]\n",
    "    / \"gene_corrs\"\n",
    "    / \"cohorts\"\n",
    "    / COHORT_NAME\n",
    "    / REFERENCE_PANEL.lower()\n",
    "    / EQTL_MODEL.lower()\n",
    ")\n",
    "OUTPUT_DIR_BASE.mkdir(parents=True, exist_ok=True)\n",
    "\n",
    "display(f\"Using output dir base: {OUTPUT_DIR_BASE}\")"
   ]
  },
  {
   "cell_type": "code",
   "execution_count": 12,
   "id": "974b4bb1-aa98-4e30-b221-7cd034ad3833",
   "metadata": {
    "execution": {
     "iopub.execute_input": "2022-07-22T03:32:38.499449Z",
     "iopub.status.busy": "2022-07-22T03:32:38.499261Z",
     "iopub.status.idle": "2022-07-22T03:32:38.519106Z",
     "shell.execute_reply": "2022-07-22T03:32:38.518593Z"
    },
    "papermill": {
     "duration": 0.0298,
     "end_time": "2022-07-22T03:32:38.520484",
     "exception": false,
     "start_time": "2022-07-22T03:32:38.490684",
     "status": "completed"
    },
    "tags": []
   },
   "outputs": [
    {
     "data": {
      "text/plain": [
       "PosixPath('/opt/data/results/gls/gene_corrs/cohorts/1000g_eur')"
      ]
     },
     "metadata": {},
     "output_type": "display_data"
    }
   ],
   "source": [
    "INPUT_DIR = conf.RESULTS[\"GLS\"] / \"gene_corrs\" / \"cohorts\" / COHORT_NAME\n",
    "assert INPUT_DIR.exists()\n",
    "\n",
    "display(INPUT_DIR)"
   ]
  },
  {
   "cell_type": "markdown",
   "id": "d2ba085e",
   "metadata": {
    "papermill": {
     "duration": 0.007812,
     "end_time": "2022-07-22T03:32:38.536302",
     "exception": false,
     "start_time": "2022-07-22T03:32:38.528490",
     "status": "completed"
    },
    "tags": []
   },
   "source": [
    "# Load data"
   ]
  },
  {
   "cell_type": "markdown",
   "id": "7dcb8db7",
   "metadata": {
    "papermill": {
     "duration": 0.00711,
     "end_time": "2022-07-22T03:32:38.550860",
     "exception": false,
     "start_time": "2022-07-22T03:32:38.543750",
     "status": "completed"
    },
    "tags": []
   },
   "source": [
    "## GWAS variants"
   ]
  },
  {
   "cell_type": "code",
   "execution_count": 13,
   "id": "29434c4e-8cd3-4b9b-82e4-b5a251d9dd19",
   "metadata": {
    "execution": {
     "iopub.execute_input": "2022-07-22T03:32:38.565976Z",
     "iopub.status.busy": "2022-07-22T03:32:38.565806Z",
     "iopub.status.idle": "2022-07-22T03:32:41.336068Z",
     "shell.execute_reply": "2022-07-22T03:32:41.335094Z"
    },
    "papermill": {
     "duration": 2.780988,
     "end_time": "2022-07-22T03:32:41.339041",
     "exception": false,
     "start_time": "2022-07-22T03:32:38.558053",
     "status": "completed"
    },
    "tags": []
   },
   "outputs": [],
   "source": [
    "with open(INPUT_DIR / \"gwas_variant_ids.pkl\", \"rb\") as handle:\n",
    "    gwas_variants_ids_set = pickle.load(handle)"
   ]
  },
  {
   "cell_type": "code",
   "execution_count": 14,
   "id": "b9d9dec2-4a76-4bf9-bde2-e24c95acb8a0",
   "metadata": {
    "execution": {
     "iopub.execute_input": "2022-07-22T03:32:41.374759Z",
     "iopub.status.busy": "2022-07-22T03:32:41.370669Z",
     "iopub.status.idle": "2022-07-22T03:32:41.402031Z",
     "shell.execute_reply": "2022-07-22T03:32:41.401168Z"
    },
    "papermill": {
     "duration": 0.051796,
     "end_time": "2022-07-22T03:32:41.404112",
     "exception": false,
     "start_time": "2022-07-22T03:32:41.352316",
     "status": "completed"
    },
    "tags": []
   },
   "outputs": [
    {
     "data": {
      "text/plain": [
       "8339505"
      ]
     },
     "execution_count": 14,
     "metadata": {},
     "output_type": "execute_result"
    }
   ],
   "source": [
    "len(gwas_variants_ids_set)"
   ]
  },
  {
   "cell_type": "code",
   "execution_count": 15,
   "id": "4235b06a-6034-4ee4-a0a3-2ae35d122418",
   "metadata": {
    "execution": {
     "iopub.execute_input": "2022-07-22T03:32:41.422816Z",
     "iopub.status.busy": "2022-07-22T03:32:41.422622Z",
     "iopub.status.idle": "2022-07-22T03:32:42.274323Z",
     "shell.execute_reply": "2022-07-22T03:32:42.272849Z"
    },
    "papermill": {
     "duration": 0.864784,
     "end_time": "2022-07-22T03:32:42.278126",
     "exception": false,
     "start_time": "2022-07-22T03:32:41.413342",
     "status": "completed"
    },
    "tags": []
   },
   "outputs": [
    {
     "data": {
      "text/plain": [
       "['chr18_192802_A_G_b38',\n",
       " 'chr4_97129555_A_C_b38',\n",
       " 'chr12_8513522_A_T_b38',\n",
       " 'chr7_66758430_A_G_b38',\n",
       " 'chr8_1183526_G_A_b38']"
      ]
     },
     "execution_count": 15,
     "metadata": {},
     "output_type": "execute_result"
    }
   ],
   "source": [
    "list(gwas_variants_ids_set)[:5]"
   ]
  },
  {
   "cell_type": "markdown",
   "id": "07866999-2305-41f9-a144-e69c9122c212",
   "metadata": {
    "papermill": {
     "duration": 0.014354,
     "end_time": "2022-07-22T03:32:42.309597",
     "exception": false,
     "start_time": "2022-07-22T03:32:42.295243",
     "status": "completed"
    },
    "tags": []
   },
   "source": [
    "## S-PrediXcan tissue models"
   ]
  },
  {
   "cell_type": "code",
   "execution_count": 16,
   "id": "780611d9-77c8-405f-90a4-f271f7b09397",
   "metadata": {
    "execution": {
     "iopub.execute_input": "2022-07-22T03:32:42.338035Z",
     "iopub.status.busy": "2022-07-22T03:32:42.337372Z",
     "iopub.status.idle": "2022-07-22T03:32:43.756234Z",
     "shell.execute_reply": "2022-07-22T03:32:43.755615Z"
    },
    "papermill": {
     "duration": 1.434515,
     "end_time": "2022-07-22T03:32:43.758044",
     "exception": false,
     "start_time": "2022-07-22T03:32:42.323529",
     "status": "completed"
    },
    "tags": []
   },
   "outputs": [],
   "source": [
    "spredixcan_genes_models = pd.read_pickle(INPUT_DIR / \"gene_tissues.pkl\").set_index(\n",
    "    \"gene_id\"\n",
    ")"
   ]
  },
  {
   "cell_type": "code",
   "execution_count": 17,
   "id": "726dd1f6-9557-4225-91fa-b3b879ea96e1",
   "metadata": {
    "execution": {
     "iopub.execute_input": "2022-07-22T03:32:43.776012Z",
     "iopub.status.busy": "2022-07-22T03:32:43.775795Z",
     "iopub.status.idle": "2022-07-22T03:32:43.793334Z",
     "shell.execute_reply": "2022-07-22T03:32:43.792831Z"
    },
    "papermill": {
     "duration": 0.028182,
     "end_time": "2022-07-22T03:32:43.794747",
     "exception": false,
     "start_time": "2022-07-22T03:32:43.766565",
     "status": "completed"
    },
    "tags": []
   },
   "outputs": [
    {
     "data": {
      "text/plain": [
       "(22314, 2)"
      ]
     },
     "execution_count": 17,
     "metadata": {},
     "output_type": "execute_result"
    }
   ],
   "source": [
    "spredixcan_genes_models.shape"
   ]
  },
  {
   "cell_type": "code",
   "execution_count": 18,
   "id": "944a1b48-222c-4eb0-b252-b9de2cbca215",
   "metadata": {
    "execution": {
     "iopub.execute_input": "2022-07-22T03:32:43.819113Z",
     "iopub.status.busy": "2022-07-22T03:32:43.818891Z",
     "iopub.status.idle": "2022-07-22T03:32:43.843399Z",
     "shell.execute_reply": "2022-07-22T03:32:43.842957Z"
    },
    "papermill": {
     "duration": 0.041808,
     "end_time": "2022-07-22T03:32:43.844805",
     "exception": false,
     "start_time": "2022-07-22T03:32:43.802997",
     "status": "completed"
    },
    "tags": []
   },
   "outputs": [
    {
     "data": {
      "text/html": [
       "<div>\n",
       "<style scoped>\n",
       "    .dataframe tbody tr th:only-of-type {\n",
       "        vertical-align: middle;\n",
       "    }\n",
       "\n",
       "    .dataframe tbody tr th {\n",
       "        vertical-align: top;\n",
       "    }\n",
       "\n",
       "    .dataframe thead th {\n",
       "        text-align: right;\n",
       "    }\n",
       "</style>\n",
       "<table border=\"1\" class=\"dataframe\">\n",
       "  <thead>\n",
       "    <tr style=\"text-align: right;\">\n",
       "      <th></th>\n",
       "      <th>gene_name</th>\n",
       "      <th>tissue</th>\n",
       "    </tr>\n",
       "    <tr>\n",
       "      <th>gene_id</th>\n",
       "      <th></th>\n",
       "      <th></th>\n",
       "    </tr>\n",
       "  </thead>\n",
       "  <tbody>\n",
       "    <tr>\n",
       "      <th>ENSG00000000419</th>\n",
       "      <td>DPM1</td>\n",
       "      <td>(Brain_Substantia_nigra, Brain_Hypothalamus)</td>\n",
       "    </tr>\n",
       "    <tr>\n",
       "      <th>ENSG00000000457</th>\n",
       "      <td>SCYL3</td>\n",
       "      <td>(Brain_Cortex, Esophagus_Mucosa, Brain_Cerebel...</td>\n",
       "    </tr>\n",
       "    <tr>\n",
       "      <th>ENSG00000000460</th>\n",
       "      <td>C1orf112</td>\n",
       "      <td>(Brain_Cortex, Esophagus_Mucosa, Brain_Cerebel...</td>\n",
       "    </tr>\n",
       "    <tr>\n",
       "      <th>ENSG00000000938</th>\n",
       "      <td>FGR</td>\n",
       "      <td>(Brain_Cortex, Esophagus_Mucosa, Brain_Cerebel...</td>\n",
       "    </tr>\n",
       "    <tr>\n",
       "      <th>ENSG00000000971</th>\n",
       "      <td>CFH</td>\n",
       "      <td>(Brain_Cortex, Brain_Cerebellar_Hemisphere, Sk...</td>\n",
       "    </tr>\n",
       "  </tbody>\n",
       "</table>\n",
       "</div>"
      ],
      "text/plain": [
       "                gene_name                                             tissue\n",
       "gene_id                                                                     \n",
       "ENSG00000000419      DPM1       (Brain_Substantia_nigra, Brain_Hypothalamus)\n",
       "ENSG00000000457     SCYL3  (Brain_Cortex, Esophagus_Mucosa, Brain_Cerebel...\n",
       "ENSG00000000460  C1orf112  (Brain_Cortex, Esophagus_Mucosa, Brain_Cerebel...\n",
       "ENSG00000000938       FGR  (Brain_Cortex, Esophagus_Mucosa, Brain_Cerebel...\n",
       "ENSG00000000971       CFH  (Brain_Cortex, Brain_Cerebellar_Hemisphere, Sk..."
      ]
     },
     "execution_count": 18,
     "metadata": {},
     "output_type": "execute_result"
    }
   ],
   "source": [
    "spredixcan_genes_models.head()"
   ]
  },
  {
   "cell_type": "code",
   "execution_count": 19,
   "id": "d1c11bb1-be0b-4f40-b360-633d6827109f",
   "metadata": {
    "execution": {
     "iopub.execute_input": "2022-07-22T03:32:43.862493Z",
     "iopub.status.busy": "2022-07-22T03:32:43.862319Z",
     "iopub.status.idle": "2022-07-22T03:32:43.880996Z",
     "shell.execute_reply": "2022-07-22T03:32:43.880422Z"
    },
    "papermill": {
     "duration": 0.029403,
     "end_time": "2022-07-22T03:32:43.882407",
     "exception": false,
     "start_time": "2022-07-22T03:32:43.853004",
     "status": "completed"
    },
    "tags": []
   },
   "outputs": [],
   "source": [
    "assert spredixcan_genes_models.index.is_unique"
   ]
  },
  {
   "cell_type": "markdown",
   "id": "6caf9d10-eda8-4ad2-8811-a983aa77a25a",
   "metadata": {
    "papermill": {
     "duration": 0.007538,
     "end_time": "2022-07-22T03:32:43.899837",
     "exception": false,
     "start_time": "2022-07-22T03:32:43.892299",
     "status": "completed"
    },
    "tags": []
   },
   "source": [
    "## Get common genes"
   ]
  },
  {
   "cell_type": "code",
   "execution_count": 20,
   "id": "f8d1e317-1cc8-4bdf-bbe9-c3b0a5478359",
   "metadata": {
    "execution": {
     "iopub.execute_input": "2022-07-22T03:32:43.915826Z",
     "iopub.status.busy": "2022-07-22T03:32:43.915646Z",
     "iopub.status.idle": "2022-07-22T03:32:43.933430Z",
     "shell.execute_reply": "2022-07-22T03:32:43.932888Z"
    },
    "papermill": {
     "duration": 0.027725,
     "end_time": "2022-07-22T03:32:43.935147",
     "exception": false,
     "start_time": "2022-07-22T03:32:43.907422",
     "status": "completed"
    },
    "tags": []
   },
   "outputs": [],
   "source": [
    "with open(INPUT_DIR / \"common_genes.pkl\", \"rb\") as handle:\n",
    "    common_genes = pickle.load(handle)"
   ]
  },
  {
   "cell_type": "code",
   "execution_count": 21,
   "id": "ce9506aa-2f38-4e46-b9c2-84d750fac0da",
   "metadata": {
    "execution": {
     "iopub.execute_input": "2022-07-22T03:32:43.951605Z",
     "iopub.status.busy": "2022-07-22T03:32:43.951427Z",
     "iopub.status.idle": "2022-07-22T03:32:43.971569Z",
     "shell.execute_reply": "2022-07-22T03:32:43.968110Z"
    },
    "papermill": {
     "duration": 0.029749,
     "end_time": "2022-07-22T03:32:43.973006",
     "exception": false,
     "start_time": "2022-07-22T03:32:43.943257",
     "status": "completed"
    },
    "tags": []
   },
   "outputs": [
    {
     "data": {
      "text/plain": [
       "6444"
      ]
     },
     "execution_count": 21,
     "metadata": {},
     "output_type": "execute_result"
    }
   ],
   "source": [
    "len(common_genes)"
   ]
  },
  {
   "cell_type": "code",
   "execution_count": 22,
   "id": "f525a698-506a-48e0-9aee-1aca62def5dd",
   "metadata": {
    "execution": {
     "iopub.execute_input": "2022-07-22T03:32:43.989500Z",
     "iopub.status.busy": "2022-07-22T03:32:43.989329Z",
     "iopub.status.idle": "2022-07-22T03:32:44.008395Z",
     "shell.execute_reply": "2022-07-22T03:32:44.007919Z"
    },
    "papermill": {
     "duration": 0.028709,
     "end_time": "2022-07-22T03:32:44.009842",
     "exception": false,
     "start_time": "2022-07-22T03:32:43.981133",
     "status": "completed"
    },
    "tags": []
   },
   "outputs": [
    {
     "data": {
      "text/plain": [
       "['A2M', 'AAAS', 'AANAT', 'AARS', 'AARS2']"
      ]
     },
     "execution_count": 22,
     "metadata": {},
     "output_type": "execute_result"
    }
   ],
   "source": [
    "sorted(list(common_genes))[:5]"
   ]
  },
  {
   "cell_type": "markdown",
   "id": "a5b5092c-a13e-47c4-a92a-480fcc08f3ae",
   "metadata": {
    "papermill": {
     "duration": 0.007794,
     "end_time": "2022-07-22T03:32:44.027112",
     "exception": false,
     "start_time": "2022-07-22T03:32:44.019318",
     "status": "completed"
    },
    "tags": []
   },
   "source": [
    "## Gene info"
   ]
  },
  {
   "cell_type": "code",
   "execution_count": 23,
   "id": "7d6bb224-88e9-4358-ac10-43a41d92cdad",
   "metadata": {
    "execution": {
     "iopub.execute_input": "2022-07-22T03:32:44.043132Z",
     "iopub.status.busy": "2022-07-22T03:32:44.042779Z",
     "iopub.status.idle": "2022-07-22T03:32:44.061480Z",
     "shell.execute_reply": "2022-07-22T03:32:44.060961Z"
    },
    "papermill": {
     "duration": 0.032936,
     "end_time": "2022-07-22T03:32:44.068017",
     "exception": false,
     "start_time": "2022-07-22T03:32:44.035081",
     "status": "completed"
    },
    "tags": []
   },
   "outputs": [],
   "source": [
    "genes_info = pd.read_pickle(INPUT_DIR / \"genes_info.pkl\")"
   ]
  },
  {
   "cell_type": "code",
   "execution_count": 24,
   "id": "9e32abfa-546d-483e-8c18-d526e9e05903",
   "metadata": {
    "execution": {
     "iopub.execute_input": "2022-07-22T03:32:44.084456Z",
     "iopub.status.busy": "2022-07-22T03:32:44.084086Z",
     "iopub.status.idle": "2022-07-22T03:32:44.101662Z",
     "shell.execute_reply": "2022-07-22T03:32:44.101180Z"
    },
    "papermill": {
     "duration": 0.027406,
     "end_time": "2022-07-22T03:32:44.103235",
     "exception": false,
     "start_time": "2022-07-22T03:32:44.075829",
     "status": "completed"
    },
    "tags": []
   },
   "outputs": [
    {
     "data": {
      "text/plain": [
       "(6444, 7)"
      ]
     },
     "execution_count": 24,
     "metadata": {},
     "output_type": "execute_result"
    }
   ],
   "source": [
    "genes_info.shape"
   ]
  },
  {
   "cell_type": "code",
   "execution_count": 25,
   "id": "d16c3e92-85ec-468a-9a56-e25a9774a1cb",
   "metadata": {
    "execution": {
     "iopub.execute_input": "2022-07-22T03:32:44.120336Z",
     "iopub.status.busy": "2022-07-22T03:32:44.119889Z",
     "iopub.status.idle": "2022-07-22T03:32:44.143461Z",
     "shell.execute_reply": "2022-07-22T03:32:44.142908Z"
    },
    "papermill": {
     "duration": 0.033567,
     "end_time": "2022-07-22T03:32:44.144939",
     "exception": false,
     "start_time": "2022-07-22T03:32:44.111372",
     "status": "completed"
    },
    "tags": []
   },
   "outputs": [
    {
     "data": {
      "text/html": [
       "<div>\n",
       "<style scoped>\n",
       "    .dataframe tbody tr th:only-of-type {\n",
       "        vertical-align: middle;\n",
       "    }\n",
       "\n",
       "    .dataframe tbody tr th {\n",
       "        vertical-align: top;\n",
       "    }\n",
       "\n",
       "    .dataframe thead th {\n",
       "        text-align: right;\n",
       "    }\n",
       "</style>\n",
       "<table border=\"1\" class=\"dataframe\">\n",
       "  <thead>\n",
       "    <tr style=\"text-align: right;\">\n",
       "      <th></th>\n",
       "      <th>name</th>\n",
       "      <th>id</th>\n",
       "      <th>chr</th>\n",
       "      <th>band</th>\n",
       "      <th>start_position</th>\n",
       "      <th>end_position</th>\n",
       "      <th>gene_length</th>\n",
       "    </tr>\n",
       "  </thead>\n",
       "  <tbody>\n",
       "    <tr>\n",
       "      <th>0</th>\n",
       "      <td>MFN2</td>\n",
       "      <td>ENSG00000116688</td>\n",
       "      <td>1</td>\n",
       "      <td>1p36.22</td>\n",
       "      <td>11980181.0</td>\n",
       "      <td>12013514.0</td>\n",
       "      <td>33333.0</td>\n",
       "    </tr>\n",
       "    <tr>\n",
       "      <th>1</th>\n",
       "      <td>PPA2</td>\n",
       "      <td>ENSG00000138777</td>\n",
       "      <td>4</td>\n",
       "      <td>4q24</td>\n",
       "      <td>105369077.0</td>\n",
       "      <td>105474067.0</td>\n",
       "      <td>104990.0</td>\n",
       "    </tr>\n",
       "    <tr>\n",
       "      <th>2</th>\n",
       "      <td>ADRA2A</td>\n",
       "      <td>ENSG00000150594</td>\n",
       "      <td>10</td>\n",
       "      <td>10q25.2</td>\n",
       "      <td>111077163.0</td>\n",
       "      <td>111080907.0</td>\n",
       "      <td>3744.0</td>\n",
       "    </tr>\n",
       "    <tr>\n",
       "      <th>3</th>\n",
       "      <td>RYR2</td>\n",
       "      <td>ENSG00000198626</td>\n",
       "      <td>1</td>\n",
       "      <td>1q43</td>\n",
       "      <td>237042184.0</td>\n",
       "      <td>237833988.0</td>\n",
       "      <td>791804.0</td>\n",
       "    </tr>\n",
       "    <tr>\n",
       "      <th>4</th>\n",
       "      <td>VAV2</td>\n",
       "      <td>ENSG00000160293</td>\n",
       "      <td>9</td>\n",
       "      <td>9q34.2</td>\n",
       "      <td>133761894.0</td>\n",
       "      <td>133992604.0</td>\n",
       "      <td>230710.0</td>\n",
       "    </tr>\n",
       "  </tbody>\n",
       "</table>\n",
       "</div>"
      ],
      "text/plain": [
       "     name               id chr     band  start_position  end_position  \\\n",
       "0    MFN2  ENSG00000116688   1  1p36.22      11980181.0    12013514.0   \n",
       "1    PPA2  ENSG00000138777   4     4q24     105369077.0   105474067.0   \n",
       "2  ADRA2A  ENSG00000150594  10  10q25.2     111077163.0   111080907.0   \n",
       "3    RYR2  ENSG00000198626   1     1q43     237042184.0   237833988.0   \n",
       "4    VAV2  ENSG00000160293   9   9q34.2     133761894.0   133992604.0   \n",
       "\n",
       "   gene_length  \n",
       "0      33333.0  \n",
       "1     104990.0  \n",
       "2       3744.0  \n",
       "3     791804.0  \n",
       "4     230710.0  "
      ]
     },
     "execution_count": 25,
     "metadata": {},
     "output_type": "execute_result"
    }
   ],
   "source": [
    "genes_info.head()"
   ]
  },
  {
   "cell_type": "markdown",
   "id": "d3843e06",
   "metadata": {
    "papermill": {
     "duration": 0.008194,
     "end_time": "2022-07-22T03:32:44.161619",
     "exception": false,
     "start_time": "2022-07-22T03:32:44.153425",
     "status": "completed"
    },
    "tags": []
   },
   "source": [
    "# Compute correlations"
   ]
  },
  {
   "cell_type": "code",
   "execution_count": 26,
   "id": "cb859c15-d1f3-4006-a74c-2b83c0db9611",
   "metadata": {
    "execution": {
     "iopub.execute_input": "2022-07-22T03:32:44.178144Z",
     "iopub.status.busy": "2022-07-22T03:32:44.177950Z",
     "iopub.status.idle": "2022-07-22T03:32:44.195501Z",
     "shell.execute_reply": "2022-07-22T03:32:44.195070Z"
    },
    "papermill": {
     "duration": 0.027045,
     "end_time": "2022-07-22T03:32:44.197004",
     "exception": false,
     "start_time": "2022-07-22T03:32:44.169959",
     "status": "completed"
    },
    "tags": []
   },
   "outputs": [
    {
     "data": {
      "text/plain": [
       "PosixPath('/opt/data/results/gls/gene_corrs/cohorts/1000g_eur/1000g/mashr/by_chr/gene_corrs-chr3.pkl')"
      ]
     },
     "metadata": {},
     "output_type": "display_data"
    }
   ],
   "source": [
    "output_dir = OUTPUT_DIR_BASE / \"by_chr\"\n",
    "output_dir.mkdir(exist_ok=True, parents=True)\n",
    "output_file = output_dir / f\"gene_corrs-chr{CHROMOSOME}.pkl\"\n",
    "display(output_file)"
   ]
  },
  {
   "cell_type": "code",
   "execution_count": 27,
   "id": "aa674fe4-6794-4eed-98fa-32b39d1d4ace",
   "metadata": {
    "execution": {
     "iopub.execute_input": "2022-07-22T03:32:44.215295Z",
     "iopub.status.busy": "2022-07-22T03:32:44.214243Z",
     "iopub.status.idle": "2022-07-22T03:32:44.234777Z",
     "shell.execute_reply": "2022-07-22T03:32:44.234287Z"
    },
    "papermill": {
     "duration": 0.030624,
     "end_time": "2022-07-22T03:32:44.236221",
     "exception": false,
     "start_time": "2022-07-22T03:32:44.205597",
     "status": "completed"
    },
    "tags": []
   },
   "outputs": [],
   "source": [
    "warnings.filterwarnings(\"error\")"
   ]
  },
  {
   "cell_type": "code",
   "execution_count": 28,
   "id": "44d5450b-3baf-43f1-9e2e-4b06f1a785f8",
   "metadata": {
    "execution": {
     "iopub.execute_input": "2022-07-22T03:32:44.254021Z",
     "iopub.status.busy": "2022-07-22T03:32:44.253739Z",
     "iopub.status.idle": "2022-07-22T03:32:44.270531Z",
     "shell.execute_reply": "2022-07-22T03:32:44.269877Z"
    },
    "papermill": {
     "duration": 0.027274,
     "end_time": "2022-07-22T03:32:44.272018",
     "exception": false,
     "start_time": "2022-07-22T03:32:44.244744",
     "status": "completed"
    },
    "tags": []
   },
   "outputs": [],
   "source": [
    "# standard checks\n",
    "all_chrs = genes_info[\"chr\"].dropna().unique()\n",
    "assert all_chrs.shape[0] == 22\n",
    "\n",
    "# select chromosome given by the user\n",
    "assert CHROMOSOME in all_chrs"
   ]
  },
  {
   "cell_type": "code",
   "execution_count": 29,
   "id": "2d7c043c-92a7-4d35-991b-fa69ac1e0268",
   "metadata": {
    "execution": {
     "iopub.execute_input": "2022-07-22T03:32:44.289655Z",
     "iopub.status.busy": "2022-07-22T03:32:44.289475Z",
     "iopub.status.idle": "2022-07-22T03:32:44.307825Z",
     "shell.execute_reply": "2022-07-22T03:32:44.307326Z"
    },
    "papermill": {
     "duration": 0.02881,
     "end_time": "2022-07-22T03:32:44.309233",
     "exception": false,
     "start_time": "2022-07-22T03:32:44.280423",
     "status": "completed"
    },
    "tags": []
   },
   "outputs": [
    {
     "name": "stdout",
     "output_type": "stream",
     "text": [
      "Number of genes in chromosome: 392\n"
     ]
    }
   ],
   "source": [
    "# run only on the chromosome specified\n",
    "all_chrs = [CHROMOSOME]\n",
    "genes_chr = genes_info[genes_info[\"chr\"] == CHROMOSOME]\n",
    "\n",
    "# For testing purposes\n",
    "# genes_chr = genes_chr.sample(n=20)\n",
    "\n",
    "print(f\"Number of genes in chromosome: {genes_chr.shape[0]}\", flush=True)"
   ]
  },
  {
   "cell_type": "code",
   "execution_count": 30,
   "id": "916015d8-2979-46d3-a9b9-1cf5a0932c6a",
   "metadata": {
    "execution": {
     "iopub.execute_input": "2022-07-22T03:32:44.327826Z",
     "iopub.status.busy": "2022-07-22T03:32:44.327599Z",
     "iopub.status.idle": "2022-07-22T03:32:44.346098Z",
     "shell.execute_reply": "2022-07-22T03:32:44.345621Z"
    },
    "papermill": {
     "duration": 0.029685,
     "end_time": "2022-07-22T03:32:44.347570",
     "exception": false,
     "start_time": "2022-07-22T03:32:44.317885",
     "status": "completed"
    },
    "tags": []
   },
   "outputs": [],
   "source": [
    "# sort genes by starting position to make visualizations better later\n",
    "genes_chr = genes_chr.sort_values(\"start_position\")"
   ]
  },
  {
   "cell_type": "code",
   "execution_count": 31,
   "id": "a38aa74a-8ad3-47f6-8ef9-56be0e011774",
   "metadata": {
    "execution": {
     "iopub.execute_input": "2022-07-22T03:32:44.367881Z",
     "iopub.status.busy": "2022-07-22T03:32:44.366286Z",
     "iopub.status.idle": "2022-07-22T03:32:44.386558Z",
     "shell.execute_reply": "2022-07-22T03:32:44.386040Z"
    },
    "papermill": {
     "duration": 0.031764,
     "end_time": "2022-07-22T03:32:44.387987",
     "exception": false,
     "start_time": "2022-07-22T03:32:44.356223",
     "status": "completed"
    },
    "tags": []
   },
   "outputs": [],
   "source": [
    "gene_chr_objs = [Gene(ensembl_id=gene_id) for gene_id in genes_chr[\"id\"]]"
   ]
  },
  {
   "cell_type": "code",
   "execution_count": 32,
   "id": "570f974f-13c3-42b6-ad3a-ce99ca885c1a",
   "metadata": {
    "execution": {
     "iopub.execute_input": "2022-07-22T03:32:44.406266Z",
     "iopub.status.busy": "2022-07-22T03:32:44.406086Z",
     "iopub.status.idle": "2022-07-22T03:32:44.422745Z",
     "shell.execute_reply": "2022-07-22T03:32:44.422179Z"
    },
    "papermill": {
     "duration": 0.027488,
     "end_time": "2022-07-22T03:32:44.424159",
     "exception": false,
     "start_time": "2022-07-22T03:32:44.396671",
     "status": "completed"
    },
    "tags": []
   },
   "outputs": [
    {
     "name": "stdout",
     "output_type": "stream",
     "text": [
      "Number of gene combinations: 76636\n"
     ]
    }
   ],
   "source": [
    "n = len(gene_chr_objs)\n",
    "n_comb = int(n * (n - 1) / 2.0)\n",
    "print(f\"Number of gene combinations: {n_comb}\", flush=True)"
   ]
  },
  {
   "cell_type": "code",
   "execution_count": 33,
   "id": "cdbb90a1",
   "metadata": {
    "execution": {
     "iopub.execute_input": "2022-07-22T03:32:44.443001Z",
     "iopub.status.busy": "2022-07-22T03:32:44.442577Z",
     "iopub.status.idle": "2022-07-22T03:43:08.786058Z",
     "shell.execute_reply": "2022-07-22T03:43:08.785562Z"
    },
    "papermill": {
     "duration": 624.354825,
     "end_time": "2022-07-22T03:43:08.787527",
     "exception": false,
     "start_time": "2022-07-22T03:32:44.432702",
     "status": "completed"
    },
    "tags": []
   },
   "outputs": [
    {
     "name": "stderr",
     "output_type": "stream",
     "text": [
      "ENSG00000161267 / ENSG00000182899: 100%|█████████████████████| 76636/76636 [10:24<00:00, 122.75it/s]\n"
     ]
    },
    {
     "data": {
      "text/plain": [
       "PosixPath('/opt/data/results/gls/gene_corrs/cohorts/1000g_eur/1000g/mashr/by_chr/gene_corrs-chr3.pkl')"
      ]
     },
     "metadata": {},
     "output_type": "display_data"
    }
   ],
   "source": [
    "gene_corrs = []\n",
    "\n",
    "i = 0\n",
    "with tqdm(ncols=100, total=n_comb) as pbar:\n",
    "    for gene1_idx in range(0, len(gene_chr_objs) - 1):\n",
    "        gene1_obj = gene_chr_objs[gene1_idx]\n",
    "        gene1_tissues = spredixcan_genes_models.loc[gene1_obj.ensembl_id, \"tissue\"]\n",
    "\n",
    "        for gene2_idx in range(gene1_idx + 1, len(gene_chr_objs)):\n",
    "            gene2_obj = gene_chr_objs[gene2_idx]\n",
    "            gene2_tissues = spredixcan_genes_models.loc[gene2_obj.ensembl_id, \"tissue\"]\n",
    "\n",
    "            pbar.set_description(f\"{gene1_obj.ensembl_id} / {gene2_obj.ensembl_id}\")\n",
    "\n",
    "            try:\n",
    "                r = gene1_obj.get_ssm_correlation(\n",
    "                    other_gene=gene2_obj,\n",
    "                    tissues=gene1_tissues,\n",
    "                    other_tissues=gene2_tissues,\n",
    "                    snps_subset=gwas_variants_ids_set,\n",
    "                    condition_number=SMULTIXCAN_CONDITION_NUMBER,\n",
    "                    reference_panel=REFERENCE_PANEL,\n",
    "                    model_type=EQTL_MODEL,\n",
    "                    use_within_distance=COMPUTE_CORRELATIONS_WITHIN_DISTANCE,\n",
    "                )\n",
    "\n",
    "                if r is None:\n",
    "                    # if r is None, it's very likely because:\n",
    "                    #  * one of the genes has no prediction models\n",
    "                    #  * all the SNPs predictors for the gene are not present in the reference\n",
    "                    #    panel\n",
    "\n",
    "                    r = 0.0\n",
    "\n",
    "                gene_corrs.append(r)\n",
    "            except Warning as e:\n",
    "                if not DEBUG_MODE:\n",
    "                    raise e\n",
    "\n",
    "                print(\n",
    "                    f\"RuntimeWarning for genes {gene1_obj.ensembl_id} and {gene2_obj.ensembl_id}\",\n",
    "                    flush=True,\n",
    "                )\n",
    "                print(traceback.format_exc(), flush=True)\n",
    "\n",
    "                gene_corrs.append(np.nan)\n",
    "            except Exception as e:\n",
    "                if not DEBUG_MODE:\n",
    "                    raise e\n",
    "\n",
    "                print(\n",
    "                    f\"Exception for genes {gene1_obj.ensembl_id} and {gene2_obj.ensembl_id}\",\n",
    "                    flush=True,\n",
    "                )\n",
    "                print(traceback.format_exc(), flush=True)\n",
    "\n",
    "                gene_corrs.append(np.nan)\n",
    "\n",
    "            pbar.update(1)\n",
    "\n",
    "# create a pandas series\n",
    "gene_corrs_flat = pd.Series(gene_corrs)\n",
    "\n",
    "# save\n",
    "# FIXME: consider saving only the condenced matrix here. See here for\n",
    "# more details: https://github.com/greenelab/phenoplier/pull/38#discussion_r634600813\n",
    "gene_corrs_data = squareform(np.array(gene_corrs, dtype=np.float64))\n",
    "np.fill_diagonal(gene_corrs_data, 1.0)\n",
    "\n",
    "gene_chr_ids = [g.ensembl_id for g in gene_chr_objs]\n",
    "gene_corrs_df = pd.DataFrame(\n",
    "    data=gene_corrs_data,\n",
    "    index=gene_chr_ids,\n",
    "    columns=gene_chr_ids,\n",
    ")\n",
    "\n",
    "output_dir.mkdir(exist_ok=True, parents=True)\n",
    "display(output_file)\n",
    "\n",
    "gene_corrs_df.to_pickle(output_file)"
   ]
  },
  {
   "cell_type": "markdown",
   "id": "faa67b51-5373-470f-aa72-2ded53fa6dfe",
   "metadata": {
    "papermill": {
     "duration": 2.920297,
     "end_time": "2022-07-22T03:43:14.690965",
     "exception": false,
     "start_time": "2022-07-22T03:43:11.770668",
     "status": "completed"
    },
    "tags": []
   },
   "source": [
    "# Testing"
   ]
  },
  {
   "cell_type": "code",
   "execution_count": 34,
   "id": "14f7d046-4b55-4896-a56b-990127bcc388",
   "metadata": {
    "execution": {
     "iopub.execute_input": "2022-07-22T03:43:20.614375Z",
     "iopub.status.busy": "2022-07-22T03:43:20.614208Z",
     "iopub.status.idle": "2022-07-22T03:43:20.632266Z",
     "shell.execute_reply": "2022-07-22T03:43:20.631850Z"
    },
    "papermill": {
     "duration": 2.959453,
     "end_time": "2022-07-22T03:43:20.633555",
     "exception": false,
     "start_time": "2022-07-22T03:43:17.674102",
     "status": "completed"
    },
    "tags": []
   },
   "outputs": [
    {
     "data": {
      "text/plain": [
       "(392, 392)"
      ]
     },
     "execution_count": 34,
     "metadata": {},
     "output_type": "execute_result"
    }
   ],
   "source": [
    "gene_corrs_df.shape"
   ]
  },
  {
   "cell_type": "code",
   "execution_count": 35,
   "id": "c7d15414-3297-4537-a7c6-7588c0baeb75",
   "metadata": {
    "execution": {
     "iopub.execute_input": "2022-07-22T03:43:26.719114Z",
     "iopub.status.busy": "2022-07-22T03:43:26.718939Z",
     "iopub.status.idle": "2022-07-22T03:43:26.749346Z",
     "shell.execute_reply": "2022-07-22T03:43:26.748935Z"
    },
    "papermill": {
     "duration": 3.049761,
     "end_time": "2022-07-22T03:43:26.750688",
     "exception": false,
     "start_time": "2022-07-22T03:43:23.700927",
     "status": "completed"
    },
    "tags": []
   },
   "outputs": [
    {
     "data": {
      "text/html": [
       "<div>\n",
       "<style scoped>\n",
       "    .dataframe tbody tr th:only-of-type {\n",
       "        vertical-align: middle;\n",
       "    }\n",
       "\n",
       "    .dataframe tbody tr th {\n",
       "        vertical-align: top;\n",
       "    }\n",
       "\n",
       "    .dataframe thead th {\n",
       "        text-align: right;\n",
       "    }\n",
       "</style>\n",
       "<table border=\"1\" class=\"dataframe\">\n",
       "  <thead>\n",
       "    <tr style=\"text-align: right;\">\n",
       "      <th></th>\n",
       "      <th>ENSG00000134121</th>\n",
       "      <th>ENSG00000091181</th>\n",
       "      <th>ENSG00000144455</th>\n",
       "      <th>ENSG00000170364</th>\n",
       "      <th>ENSG00000150995</th>\n",
       "      <th>ENSG00000134107</th>\n",
       "      <th>ENSG00000134109</th>\n",
       "      <th>ENSG00000180914</th>\n",
       "      <th>ENSG00000196220</th>\n",
       "      <th>ENSG00000163719</th>\n",
       "      <th>...</th>\n",
       "      <th>ENSG00000061938</th>\n",
       "      <th>ENSG00000072274</th>\n",
       "      <th>ENSG00000161217</th>\n",
       "      <th>ENSG00000174013</th>\n",
       "      <th>ENSG00000163964</th>\n",
       "      <th>ENSG00000180370</th>\n",
       "      <th>ENSG00000114503</th>\n",
       "      <th>ENSG00000075711</th>\n",
       "      <th>ENSG00000161267</th>\n",
       "      <th>ENSG00000182899</th>\n",
       "    </tr>\n",
       "  </thead>\n",
       "  <tbody>\n",
       "    <tr>\n",
       "      <th>ENSG00000134121</th>\n",
       "      <td>1.000000</td>\n",
       "      <td>0.017714</td>\n",
       "      <td>0.012666</td>\n",
       "      <td>0.012782</td>\n",
       "      <td>0.018774</td>\n",
       "      <td>0.016141</td>\n",
       "      <td>0.018831</td>\n",
       "      <td>0.000000</td>\n",
       "      <td>0.000000</td>\n",
       "      <td>0.000000</td>\n",
       "      <td>...</td>\n",
       "      <td>0.0</td>\n",
       "      <td>0.0</td>\n",
       "      <td>0.0</td>\n",
       "      <td>0.0</td>\n",
       "      <td>0.0</td>\n",
       "      <td>0.0</td>\n",
       "      <td>0.0</td>\n",
       "      <td>0.0</td>\n",
       "      <td>0.0</td>\n",
       "      <td>0.0</td>\n",
       "    </tr>\n",
       "    <tr>\n",
       "      <th>ENSG00000091181</th>\n",
       "      <td>0.017714</td>\n",
       "      <td>1.000000</td>\n",
       "      <td>0.003377</td>\n",
       "      <td>0.008189</td>\n",
       "      <td>0.010217</td>\n",
       "      <td>0.008806</td>\n",
       "      <td>0.010159</td>\n",
       "      <td>0.000000</td>\n",
       "      <td>0.000000</td>\n",
       "      <td>0.000000</td>\n",
       "      <td>...</td>\n",
       "      <td>0.0</td>\n",
       "      <td>0.0</td>\n",
       "      <td>0.0</td>\n",
       "      <td>0.0</td>\n",
       "      <td>0.0</td>\n",
       "      <td>0.0</td>\n",
       "      <td>0.0</td>\n",
       "      <td>0.0</td>\n",
       "      <td>0.0</td>\n",
       "      <td>0.0</td>\n",
       "    </tr>\n",
       "    <tr>\n",
       "      <th>ENSG00000144455</th>\n",
       "      <td>0.012666</td>\n",
       "      <td>0.003377</td>\n",
       "      <td>1.000000</td>\n",
       "      <td>0.175023</td>\n",
       "      <td>0.238990</td>\n",
       "      <td>0.005771</td>\n",
       "      <td>0.007382</td>\n",
       "      <td>0.011520</td>\n",
       "      <td>0.006743</td>\n",
       "      <td>0.000000</td>\n",
       "      <td>...</td>\n",
       "      <td>0.0</td>\n",
       "      <td>0.0</td>\n",
       "      <td>0.0</td>\n",
       "      <td>0.0</td>\n",
       "      <td>0.0</td>\n",
       "      <td>0.0</td>\n",
       "      <td>0.0</td>\n",
       "      <td>0.0</td>\n",
       "      <td>0.0</td>\n",
       "      <td>0.0</td>\n",
       "    </tr>\n",
       "    <tr>\n",
       "      <th>ENSG00000170364</th>\n",
       "      <td>0.012782</td>\n",
       "      <td>0.008189</td>\n",
       "      <td>0.175023</td>\n",
       "      <td>1.000000</td>\n",
       "      <td>0.021733</td>\n",
       "      <td>0.005274</td>\n",
       "      <td>0.004330</td>\n",
       "      <td>0.009591</td>\n",
       "      <td>0.009424</td>\n",
       "      <td>0.000000</td>\n",
       "      <td>...</td>\n",
       "      <td>0.0</td>\n",
       "      <td>0.0</td>\n",
       "      <td>0.0</td>\n",
       "      <td>0.0</td>\n",
       "      <td>0.0</td>\n",
       "      <td>0.0</td>\n",
       "      <td>0.0</td>\n",
       "      <td>0.0</td>\n",
       "      <td>0.0</td>\n",
       "      <td>0.0</td>\n",
       "    </tr>\n",
       "    <tr>\n",
       "      <th>ENSG00000150995</th>\n",
       "      <td>0.018774</td>\n",
       "      <td>0.010217</td>\n",
       "      <td>0.238990</td>\n",
       "      <td>0.021733</td>\n",
       "      <td>1.000000</td>\n",
       "      <td>0.058600</td>\n",
       "      <td>0.013710</td>\n",
       "      <td>0.014855</td>\n",
       "      <td>0.009411</td>\n",
       "      <td>0.007317</td>\n",
       "      <td>...</td>\n",
       "      <td>0.0</td>\n",
       "      <td>0.0</td>\n",
       "      <td>0.0</td>\n",
       "      <td>0.0</td>\n",
       "      <td>0.0</td>\n",
       "      <td>0.0</td>\n",
       "      <td>0.0</td>\n",
       "      <td>0.0</td>\n",
       "      <td>0.0</td>\n",
       "      <td>0.0</td>\n",
       "    </tr>\n",
       "  </tbody>\n",
       "</table>\n",
       "<p>5 rows × 392 columns</p>\n",
       "</div>"
      ],
      "text/plain": [
       "                 ENSG00000134121  ENSG00000091181  ENSG00000144455  \\\n",
       "ENSG00000134121         1.000000         0.017714         0.012666   \n",
       "ENSG00000091181         0.017714         1.000000         0.003377   \n",
       "ENSG00000144455         0.012666         0.003377         1.000000   \n",
       "ENSG00000170364         0.012782         0.008189         0.175023   \n",
       "ENSG00000150995         0.018774         0.010217         0.238990   \n",
       "\n",
       "                 ENSG00000170364  ENSG00000150995  ENSG00000134107  \\\n",
       "ENSG00000134121         0.012782         0.018774         0.016141   \n",
       "ENSG00000091181         0.008189         0.010217         0.008806   \n",
       "ENSG00000144455         0.175023         0.238990         0.005771   \n",
       "ENSG00000170364         1.000000         0.021733         0.005274   \n",
       "ENSG00000150995         0.021733         1.000000         0.058600   \n",
       "\n",
       "                 ENSG00000134109  ENSG00000180914  ENSG00000196220  \\\n",
       "ENSG00000134121         0.018831         0.000000         0.000000   \n",
       "ENSG00000091181         0.010159         0.000000         0.000000   \n",
       "ENSG00000144455         0.007382         0.011520         0.006743   \n",
       "ENSG00000170364         0.004330         0.009591         0.009424   \n",
       "ENSG00000150995         0.013710         0.014855         0.009411   \n",
       "\n",
       "                 ENSG00000163719  ...  ENSG00000061938  ENSG00000072274  \\\n",
       "ENSG00000134121         0.000000  ...              0.0              0.0   \n",
       "ENSG00000091181         0.000000  ...              0.0              0.0   \n",
       "ENSG00000144455         0.000000  ...              0.0              0.0   \n",
       "ENSG00000170364         0.000000  ...              0.0              0.0   \n",
       "ENSG00000150995         0.007317  ...              0.0              0.0   \n",
       "\n",
       "                 ENSG00000161217  ENSG00000174013  ENSG00000163964  \\\n",
       "ENSG00000134121              0.0              0.0              0.0   \n",
       "ENSG00000091181              0.0              0.0              0.0   \n",
       "ENSG00000144455              0.0              0.0              0.0   \n",
       "ENSG00000170364              0.0              0.0              0.0   \n",
       "ENSG00000150995              0.0              0.0              0.0   \n",
       "\n",
       "                 ENSG00000180370  ENSG00000114503  ENSG00000075711  \\\n",
       "ENSG00000134121              0.0              0.0              0.0   \n",
       "ENSG00000091181              0.0              0.0              0.0   \n",
       "ENSG00000144455              0.0              0.0              0.0   \n",
       "ENSG00000170364              0.0              0.0              0.0   \n",
       "ENSG00000150995              0.0              0.0              0.0   \n",
       "\n",
       "                 ENSG00000161267  ENSG00000182899  \n",
       "ENSG00000134121              0.0              0.0  \n",
       "ENSG00000091181              0.0              0.0  \n",
       "ENSG00000144455              0.0              0.0  \n",
       "ENSG00000170364              0.0              0.0  \n",
       "ENSG00000150995              0.0              0.0  \n",
       "\n",
       "[5 rows x 392 columns]"
      ]
     },
     "execution_count": 35,
     "metadata": {},
     "output_type": "execute_result"
    }
   ],
   "source": [
    "gene_corrs_df.head()"
   ]
  },
  {
   "cell_type": "markdown",
   "id": "dad6603f-01c6-41fb-a6f6-241051207dd8",
   "metadata": {
    "papermill": {
     "duration": 2.961052,
     "end_time": "2022-07-22T03:43:32.704226",
     "exception": false,
     "start_time": "2022-07-22T03:43:29.743174",
     "status": "completed"
    },
    "tags": []
   },
   "source": [
    "## Standard checks and stats"
   ]
  },
  {
   "cell_type": "code",
   "execution_count": 36,
   "id": "286686af-1b7b-4440-8453-6bdcbd8de19c",
   "metadata": {
    "execution": {
     "iopub.execute_input": "2022-07-22T03:43:38.588468Z",
     "iopub.status.busy": "2022-07-22T03:43:38.588118Z",
     "iopub.status.idle": "2022-07-22T03:43:38.604169Z",
     "shell.execute_reply": "2022-07-22T03:43:38.603785Z"
    },
    "papermill": {
     "duration": 3.037242,
     "end_time": "2022-07-22T03:43:38.605473",
     "exception": false,
     "start_time": "2022-07-22T03:43:35.568231",
     "status": "completed"
    },
    "tags": []
   },
   "outputs": [],
   "source": [
    "assert not gene_corrs_df.isna().any().any()"
   ]
  },
  {
   "cell_type": "code",
   "execution_count": 37,
   "id": "00583efc-7068-4270-ad1e-4a418e91db96",
   "metadata": {
    "execution": {
     "iopub.execute_input": "2022-07-22T03:43:44.551031Z",
     "iopub.status.busy": "2022-07-22T03:43:44.550541Z",
     "iopub.status.idle": "2022-07-22T03:43:44.567872Z",
     "shell.execute_reply": "2022-07-22T03:43:44.567376Z"
    },
    "papermill": {
     "duration": 3.026041,
     "end_time": "2022-07-22T03:43:44.569215",
     "exception": false,
     "start_time": "2022-07-22T03:43:41.543174",
     "status": "completed"
    },
    "tags": []
   },
   "outputs": [
    {
     "data": {
      "text/plain": [
       "0.0"
      ]
     },
     "metadata": {},
     "output_type": "display_data"
    }
   ],
   "source": [
    "_min_val = gene_corrs_df.min().min()\n",
    "display(_min_val)\n",
    "assert _min_val >= 0.0"
   ]
  },
  {
   "cell_type": "code",
   "execution_count": 38,
   "id": "d04fb2cf-1050-475b-b855-f5f7cc04092b",
   "metadata": {
    "execution": {
     "iopub.execute_input": "2022-07-22T03:43:50.509326Z",
     "iopub.status.busy": "2022-07-22T03:43:50.509088Z",
     "iopub.status.idle": "2022-07-22T03:43:50.527439Z",
     "shell.execute_reply": "2022-07-22T03:43:50.527047Z"
    },
    "papermill": {
     "duration": 3.034609,
     "end_time": "2022-07-22T03:43:50.528601",
     "exception": false,
     "start_time": "2022-07-22T03:43:47.493992",
     "status": "completed"
    },
    "tags": []
   },
   "outputs": [
    {
     "data": {
      "text/plain": [
       "1.0"
      ]
     },
     "metadata": {},
     "output_type": "display_data"
    }
   ],
   "source": [
    "_max_val = gene_corrs_df.max().max()  # this captures the diagonal\n",
    "display(_max_val)\n",
    "assert _max_val <= 1.0"
   ]
  },
  {
   "cell_type": "code",
   "execution_count": 39,
   "id": "96d02c44-1fba-47be-8a93-8f2608420b9c",
   "metadata": {
    "execution": {
     "iopub.execute_input": "2022-07-22T03:43:56.443964Z",
     "iopub.status.busy": "2022-07-22T03:43:56.443798Z",
     "iopub.status.idle": "2022-07-22T03:43:56.465145Z",
     "shell.execute_reply": "2022-07-22T03:43:56.464573Z"
    },
    "papermill": {
     "duration": 3.035473,
     "end_time": "2022-07-22T03:43:56.467713",
     "exception": false,
     "start_time": "2022-07-22T03:43:53.432240",
     "status": "completed"
    },
    "tags": []
   },
   "outputs": [],
   "source": [
    "# check upper triangular values\n",
    "assert len(gene_corrs) == int(genes_chr.shape[0] * (genes_chr.shape[0] - 1) / 2)"
   ]
  },
  {
   "cell_type": "code",
   "execution_count": 40,
   "id": "fe283586-c348-40e0-8841-f6d97bfb021c",
   "metadata": {
    "execution": {
     "iopub.execute_input": "2022-07-22T03:44:02.416689Z",
     "iopub.status.busy": "2022-07-22T03:44:02.416530Z",
     "iopub.status.idle": "2022-07-22T03:44:02.438443Z",
     "shell.execute_reply": "2022-07-22T03:44:02.438059Z"
    },
    "papermill": {
     "duration": 3.083479,
     "end_time": "2022-07-22T03:44:02.439727",
     "exception": false,
     "start_time": "2022-07-22T03:43:59.356248",
     "status": "completed"
    },
    "tags": []
   },
   "outputs": [
    {
     "data": {
      "text/plain": [
       "count    76636.000000\n",
       "mean         0.003122\n",
       "std          0.029189\n",
       "min          0.000000\n",
       "25%          0.000000\n",
       "50%          0.000000\n",
       "75%          0.000000\n",
       "max          0.996647\n",
       "dtype: float64"
      ]
     },
     "execution_count": 40,
     "metadata": {},
     "output_type": "execute_result"
    }
   ],
   "source": [
    "gene_corrs_flat.describe()"
   ]
  },
  {
   "cell_type": "code",
   "execution_count": 41,
   "id": "b3815678-0f93-4b35-897b-a9d047a2aa78",
   "metadata": {
    "execution": {
     "iopub.execute_input": "2022-07-22T03:44:08.480218Z",
     "iopub.status.busy": "2022-07-22T03:44:08.480036Z",
     "iopub.status.idle": "2022-07-22T03:44:08.508210Z",
     "shell.execute_reply": "2022-07-22T03:44:08.507637Z"
    },
    "papermill": {
     "duration": 3.093744,
     "end_time": "2022-07-22T03:44:08.509902",
     "exception": false,
     "start_time": "2022-07-22T03:44:05.416158",
     "status": "completed"
    },
    "tags": []
   },
   "outputs": [
    {
     "data": {
      "text/plain": [
       "0.00    0.000000\n",
       "0.05    0.000000\n",
       "0.10    0.000000\n",
       "0.15    0.000000\n",
       "0.20    0.000000\n",
       "0.25    0.000000\n",
       "0.30    0.000000\n",
       "0.35    0.000000\n",
       "0.40    0.000000\n",
       "0.45    0.000000\n",
       "0.50    0.000000\n",
       "0.55    0.000000\n",
       "0.60    0.000000\n",
       "0.65    0.000000\n",
       "0.70    0.000000\n",
       "0.75    0.000000\n",
       "0.80    0.000000\n",
       "0.85    0.000000\n",
       "0.90    0.000000\n",
       "0.95    0.008832\n",
       "dtype: float64"
      ]
     },
     "metadata": {},
     "output_type": "display_data"
    }
   ],
   "source": [
    "gene_corrs_quantiles = gene_corrs_flat.quantile(np.arange(0, 1, 0.05))\n",
    "display(gene_corrs_quantiles)"
   ]
  },
  {
   "cell_type": "markdown",
   "id": "87134509-b145-4a10-8bc9-b7e914c2b0fa",
   "metadata": {
    "papermill": {
     "duration": 2.980439,
     "end_time": "2022-07-22T03:44:14.483409",
     "exception": false,
     "start_time": "2022-07-22T03:44:11.502970",
     "status": "completed"
    },
    "tags": []
   },
   "source": [
    "## Positive definiteness"
   ]
  },
  {
   "cell_type": "code",
   "execution_count": 42,
   "id": "07d9a9a1-a4f7-48aa-b916-6d42a8cc6186",
   "metadata": {
    "execution": {
     "iopub.execute_input": "2022-07-22T03:44:20.345398Z",
     "iopub.status.busy": "2022-07-22T03:44:20.344700Z",
     "iopub.status.idle": "2022-07-22T03:44:20.433944Z",
     "shell.execute_reply": "2022-07-22T03:44:20.433531Z"
    },
    "papermill": {
     "duration": 3.024004,
     "end_time": "2022-07-22T03:44:20.435708",
     "exception": false,
     "start_time": "2022-07-22T03:44:17.411704",
     "status": "completed"
    },
    "tags": []
   },
   "outputs": [
    {
     "data": {
      "text/plain": [
       "0"
      ]
     },
     "metadata": {},
     "output_type": "display_data"
    },
    {
     "data": {
      "text/plain": [
       "array([], dtype=float64)"
      ]
     },
     "metadata": {},
     "output_type": "display_data"
    }
   ],
   "source": [
    "# print negative eigenvalues\n",
    "eigs = np.linalg.eigvals(gene_corrs_df.to_numpy())\n",
    "display(len(eigs[eigs < 0]))\n",
    "display(eigs[eigs < 0])"
   ]
  },
  {
   "cell_type": "code",
   "execution_count": 43,
   "id": "6e218436-c3c5-4028-8c94-a4fa6260efce",
   "metadata": {
    "execution": {
     "iopub.execute_input": "2022-07-22T03:44:26.314065Z",
     "iopub.status.busy": "2022-07-22T03:44:26.313707Z",
     "iopub.status.idle": "2022-07-22T03:44:26.359876Z",
     "shell.execute_reply": "2022-07-22T03:44:26.359476Z"
    },
    "papermill": {
     "duration": 3.020735,
     "end_time": "2022-07-22T03:44:26.361181",
     "exception": false,
     "start_time": "2022-07-22T03:44:23.340446",
     "status": "completed"
    },
    "tags": []
   },
   "outputs": [
    {
     "name": "stdout",
     "output_type": "stream",
     "text": [
      "Works!\n"
     ]
    }
   ],
   "source": [
    "try:\n",
    "    chol_mat = np.linalg.cholesky(gene_corrs_df.to_numpy())\n",
    "    cov_inv = np.linalg.inv(chol_mat)\n",
    "    print(\"Works!\")\n",
    "except:\n",
    "    print(\"Cholesky decomposition failed\")"
   ]
  },
  {
   "cell_type": "markdown",
   "id": "8e60a080-edb2-4e9c-b2ef-22961693200c",
   "metadata": {
    "papermill": {
     "duration": 2.982401,
     "end_time": "2022-07-22T03:44:32.339404",
     "exception": false,
     "start_time": "2022-07-22T03:44:29.357003",
     "status": "completed"
    },
    "tags": []
   },
   "source": [
    "## Plot: distribution"
   ]
  },
  {
   "cell_type": "code",
   "execution_count": 44,
   "id": "8301126b-a7d4-4744-9c7d-f0f86eb6f54c",
   "metadata": {
    "execution": {
     "iopub.execute_input": "2022-07-22T03:44:38.229720Z",
     "iopub.status.busy": "2022-07-22T03:44:38.229533Z",
     "iopub.status.idle": "2022-07-22T03:44:38.765400Z",
     "shell.execute_reply": "2022-07-22T03:44:38.765018Z"
    },
    "papermill": {
     "duration": 3.559651,
     "end_time": "2022-07-22T03:44:38.766747",
     "exception": false,
     "start_time": "2022-07-22T03:44:35.207096",
     "status": "completed"
    },
    "tags": []
   },
   "outputs": [
    {
     "data": {
      "image/png": "[encoded data removed]",
      "text/plain": [
       "<Figure size 504x504 with 1 Axes>"
      ]
     },
     "metadata": {
      "needs_background": "light"
     },
     "output_type": "display_data"
    }
   ],
   "source": [
    "with sns.plotting_context(\"paper\", font_scale=1.5):\n",
    "    g = sns.displot(gene_corrs_flat, kde=True, height=7)\n",
    "    g.ax.set_title(\n",
    "        f\"Distribution of gene correlation values in chromosome {CHROMOSOME}\"\n",
    "    )"
   ]
  },
  {
   "cell_type": "markdown",
   "id": "cbd52bca-d878-4a2f-b684-5c83aa3038d4",
   "metadata": {
    "papermill": {
     "duration": 2.985441,
     "end_time": "2022-07-22T03:44:44.697249",
     "exception": false,
     "start_time": "2022-07-22T03:44:41.711808",
     "status": "completed"
    },
    "tags": []
   },
   "source": [
    "## Plot: heatmap"
   ]
  },
  {
   "cell_type": "code",
   "execution_count": 45,
   "id": "d03fe63a-c7b2-4fb9-a53c-db362ce843c9",
   "metadata": {
    "execution": {
     "iopub.execute_input": "2022-07-22T03:44:50.642870Z",
     "iopub.status.busy": "2022-07-22T03:44:50.642709Z",
     "iopub.status.idle": "2022-07-22T03:44:50.662977Z",
     "shell.execute_reply": "2022-07-22T03:44:50.662216Z"
    },
    "papermill": {
     "duration": 2.953445,
     "end_time": "2022-07-22T03:44:50.664457",
     "exception": false,
     "start_time": "2022-07-22T03:44:47.711012",
     "status": "completed"
    },
    "tags": []
   },
   "outputs": [
    {
     "data": {
      "text/plain": [
       "'0.0 / 0.05'"
      ]
     },
     "metadata": {},
     "output_type": "display_data"
    }
   ],
   "source": [
    "vmin_val = min(0.00, gene_corrs_quantiles[0.10])\n",
    "vmax_val = max(0.05, gene_corrs_quantiles[0.90])\n",
    "display(f\"{vmin_val} / {vmax_val}\")"
   ]
  },
  {
   "cell_type": "code",
   "execution_count": 46,
   "id": "dc41b70b-5bcc-4d9e-9f33-a22c4a94dab5",
   "metadata": {
    "execution": {
     "iopub.execute_input": "2022-07-22T03:44:56.632329Z",
     "iopub.status.busy": "2022-07-22T03:44:56.632009Z",
     "iopub.status.idle": "2022-07-22T03:44:56.904443Z",
     "shell.execute_reply": "2022-07-22T03:44:56.903939Z"
    },
    "papermill": {
     "duration": 3.213271,
     "end_time": "2022-07-22T03:44:56.906078",
     "exception": false,
     "start_time": "2022-07-22T03:44:53.692807",
     "status": "completed"
    },
    "tags": []
   },
   "outputs": [
    {
     "data": {
      "text/plain": [
       "Text(0.5, 1.0, 'Gene correlations in chromosome 3')"
      ]
     },
     "execution_count": 46,
     "metadata": {},
     "output_type": "execute_result"
    },
    {
     "data": {
      "image/png": "[encoded data removed]",
      "text/plain": [
       "<Figure size 720x720 with 2 Axes>"
      ]
     },
     "metadata": {
      "needs_background": "light"
     },
     "output_type": "display_data"
    }
   ],
   "source": [
    "f, ax = plt.subplots(figsize=(10, 10))\n",
    "sns.heatmap(\n",
    "    gene_corrs_df,\n",
    "    xticklabels=False,\n",
    "    yticklabels=False,\n",
    "    square=True,\n",
    "    vmin=vmin_val,\n",
    "    vmax=vmax_val,\n",
    "    cmap=\"rocket_r\",\n",
    "    ax=ax,\n",
    ")\n",
    "ax.set_title(f\"Gene correlations in chromosome {CHROMOSOME}\")"
   ]
  },
  {
   "cell_type": "code",
   "execution_count": null,
   "id": "b25e3ead",
   "metadata": {
    "papermill": {
     "duration": 2.983752,
     "end_time": "2022-07-22T03:45:03.014857",
     "exception": false,
     "start_time": "2022-07-22T03:45:00.031105",
     "status": "completed"
    },
    "tags": []
   },
   "outputs": [],
   "source": []
  }
 ],
 "metadata": {
  "jupytext": {
   "cell_metadata_filter": "all,-execution,-papermill,-trusted",
   "formats": "ipynb,py//py:percent"
  },
  "kernelspec": {
   "display_name": "Python 3 (ipykernel)",
   "language": "python",
   "name": "python3"
  },
  "language_info": {
   "codemirror_mode": {
    "name": "ipython",
    "version": 3
   },
   "file_extension": ".py",
   "mimetype": "text/x-python",
   "name": "python",
   "nbconvert_exporter": "python",
   "pygments_lexer": "ipython3",
   "version": "3.8.13"
  },
  "papermill": {
   "default_parameters": {},
   "duration": 753.920382,
   "end_time": "2022-07-22T03:45:09.611380",
   "environment_variables": {},
   "exception": null,
   "input_path": "nbs/15_gsa_gls/10-gene_expr_correlations.ipynb",
   "output_path": "nbs/15_gsa_gls/gene_corrs/cohorts/1000g_eur/1000g/mashr/10-gene_expr_correlations-chr3.run.ipynb",
   "parameters": {
    "CHROMOSOME": 3,
    "COHORT_NAME": "1000G_EUR",
    "EQTL_MODEL": "MASHR",
    "REFERENCE_PANEL": "1000G"
   },
   "start_time": "2022-07-22T03:32:35.690998",
   "version": "2.2.2"
  }
 },
 "nbformat": 4,
 "nbformat_minor": 5
}
