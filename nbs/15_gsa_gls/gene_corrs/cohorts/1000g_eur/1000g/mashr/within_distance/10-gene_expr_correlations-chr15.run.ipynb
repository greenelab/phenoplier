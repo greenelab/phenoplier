{
 "cells": [
  {
   "cell_type": "markdown",
   "id": "7a6632fb",
   "metadata": {
    "papermill": {
     "duration": 0.006457,
     "end_time": "2022-07-22T04:33:57.893330",
     "exception": false,
     "start_time": "2022-07-22T04:33:57.886873",
     "status": "completed"
    },
    "tags": []
   },
   "source": [
    "# Description"
   ]
  },
  {
   "cell_type": "markdown",
   "id": "7097c346",
   "metadata": {
    "papermill": {
     "duration": 0.005812,
     "end_time": "2022-07-22T04:33:57.904989",
     "exception": false,
     "start_time": "2022-07-22T04:33:57.899177",
     "status": "completed"
    },
    "tags": []
   },
   "source": [
    "(Please, take a look at the README.md file in this directory for instructions on how to run this notebook)\n",
    "\n",
    "This notebook computes predicted expression correlations between all genes in the MultiPLIER models.\n",
    "\n",
    "It also has a parameter set for papermill to run on a single chromosome to run in parallel (see under `Settings` below).\n",
    "\n",
    "This notebook is not directly run. See README.md."
   ]
  },
  {
   "cell_type": "markdown",
   "id": "c61d8427",
   "metadata": {
    "papermill": {
     "duration": 0.005834,
     "end_time": "2022-07-22T04:33:57.916746",
     "exception": false,
     "start_time": "2022-07-22T04:33:57.910912",
     "status": "completed"
    },
    "tags": []
   },
   "source": [
    "# Modules"
   ]
  },
  {
   "cell_type": "code",
   "execution_count": 1,
   "id": "bbc0234f",
   "metadata": {
    "execution": {
     "iopub.execute_input": "2022-07-22T04:33:57.930606Z",
     "iopub.status.busy": "2022-07-22T04:33:57.930314Z",
     "iopub.status.idle": "2022-07-22T04:33:57.944683Z",
     "shell.execute_reply": "2022-07-22T04:33:57.944305Z"
    },
    "papermill": {
     "duration": 0.02321,
     "end_time": "2022-07-22T04:33:57.946038",
     "exception": false,
     "start_time": "2022-07-22T04:33:57.922828",
     "status": "completed"
    },
    "tags": []
   },
   "outputs": [],
   "source": [
    "%load_ext autoreload\n",
    "%autoreload 2"
   ]
  },
  {
   "cell_type": "code",
   "execution_count": 2,
   "id": "1d5f5a59",
   "metadata": {
    "execution": {
     "iopub.execute_input": "2022-07-22T04:33:57.987404Z",
     "iopub.status.busy": "2022-07-22T04:33:57.987179Z",
     "iopub.status.idle": "2022-07-22T04:33:58.917635Z",
     "shell.execute_reply": "2022-07-22T04:33:58.917105Z"
    },
    "papermill": {
     "duration": 0.939382,
     "end_time": "2022-07-22T04:33:58.919046",
     "exception": false,
     "start_time": "2022-07-22T04:33:57.979664",
     "status": "completed"
    },
    "tags": []
   },
   "outputs": [],
   "source": [
    "from random import sample, seed\n",
    "import warnings\n",
    "from pathlib import Path\n",
    "import pickle\n",
    "import traceback\n",
    "\n",
    "import numpy as np\n",
    "from scipy.spatial.distance import squareform\n",
    "import pandas as pd\n",
    "from tqdm import tqdm\n",
    "import matplotlib.pyplot as plt\n",
    "import seaborn as sns\n",
    "\n",
    "import conf\n",
    "from entity import Gene"
   ]
  },
  {
   "cell_type": "markdown",
   "id": "1eac24b5",
   "metadata": {
    "papermill": {
     "duration": 0.005802,
     "end_time": "2022-07-22T04:33:58.930988",
     "exception": false,
     "start_time": "2022-07-22T04:33:58.925186",
     "status": "completed"
    },
    "tags": []
   },
   "source": [
    "# Settings"
   ]
  },
  {
   "cell_type": "code",
   "execution_count": 3,
   "id": "ca4560ba",
   "metadata": {
    "execution": {
     "iopub.execute_input": "2022-07-22T04:33:58.943650Z",
     "iopub.status.busy": "2022-07-22T04:33:58.943244Z",
     "iopub.status.idle": "2022-07-22T04:33:58.958339Z",
     "shell.execute_reply": "2022-07-22T04:33:58.957798Z"
    },
    "papermill": {
     "duration": 0.02305,
     "end_time": "2022-07-22T04:33:58.959901",
     "exception": false,
     "start_time": "2022-07-22T04:33:58.936851",
     "status": "completed"
    },
    "tags": [
     "parameters"
    ]
   },
   "outputs": [],
   "source": [
    "# a cohort name (it could be something like UK_BIOBANK, etc)\n",
    "COHORT_NAME = None\n",
    "\n",
    "# reference panel such as 1000G or GTEX_V8\n",
    "REFERENCE_PANEL = None\n",
    "\n",
    "# predictions models such as MASHR or ELASTIC_NET\n",
    "EQTL_MODEL = None\n",
    "\n",
    "# this is the default value used in S-MultiXcan to select the\n",
    "# top principal components of the expression correlation matrix\n",
    "SMULTIXCAN_CONDITION_NUMBER = 30\n",
    "\n",
    "# specifies a single chromosome value\n",
    "CHROMOSOME = None\n",
    "\n",
    "# if True, then it will continue if a gene pair correlation fails,\n",
    "# printing the warning/error for debugging. If False, any warning/error\n",
    "# will be thrown\n",
    "# FIXME: make it False when all is working\n",
    "DEBUG_MODE = True"
   ]
  },
  {
   "cell_type": "code",
   "execution_count": 4,
   "id": "c8cf3698",
   "metadata": {
    "execution": {
     "iopub.execute_input": "2022-07-22T04:33:58.972500Z",
     "iopub.status.busy": "2022-07-22T04:33:58.972328Z",
     "iopub.status.idle": "2022-07-22T04:33:58.987050Z",
     "shell.execute_reply": "2022-07-22T04:33:58.986655Z"
    },
    "papermill": {
     "duration": 0.022507,
     "end_time": "2022-07-22T04:33:58.988425",
     "exception": false,
     "start_time": "2022-07-22T04:33:58.965918",
     "status": "completed"
    },
    "tags": [
     "injected-parameters"
    ]
   },
   "outputs": [],
   "source": [
    "# Parameters\n",
    "COHORT_NAME = \"1000G_EUR\"\n",
    "REFERENCE_PANEL = \"1000G\"\n",
    "EQTL_MODEL = \"MASHR\"\n",
    "CHROMOSOME = 15\n"
   ]
  },
  {
   "cell_type": "code",
   "execution_count": 5,
   "id": "3190631f-27fc-480f-b18e-571d580425a5",
   "metadata": {
    "execution": {
     "iopub.execute_input": "2022-07-22T04:33:59.000964Z",
     "iopub.status.busy": "2022-07-22T04:33:59.000757Z",
     "iopub.status.idle": "2022-07-22T04:33:59.018321Z",
     "shell.execute_reply": "2022-07-22T04:33:59.017885Z"
    },
    "papermill": {
     "duration": 0.02554,
     "end_time": "2022-07-22T04:33:59.019913",
     "exception": false,
     "start_time": "2022-07-22T04:33:58.994373",
     "status": "completed"
    },
    "tags": []
   },
   "outputs": [
    {
     "data": {
      "text/plain": [
       "'Cohort name: 1000g_eur'"
      ]
     },
     "metadata": {},
     "output_type": "display_data"
    }
   ],
   "source": [
    "assert COHORT_NAME is not None or len(COHORT_NAME) == 0, \"A cohort name must be given\"\n",
    "\n",
    "COHORT_NAME = COHORT_NAME.lower()\n",
    "display(f\"Cohort name: {COHORT_NAME}\")"
   ]
  },
  {
   "cell_type": "code",
   "execution_count": 6,
   "id": "f53ba19b-0f93-4fa2-a047-63b375939d1a",
   "metadata": {
    "execution": {
     "iopub.execute_input": "2022-07-22T04:33:59.033325Z",
     "iopub.status.busy": "2022-07-22T04:33:59.032897Z",
     "iopub.status.idle": "2022-07-22T04:33:59.049223Z",
     "shell.execute_reply": "2022-07-22T04:33:59.048719Z"
    },
    "papermill": {
     "duration": 0.024293,
     "end_time": "2022-07-22T04:33:59.050449",
     "exception": false,
     "start_time": "2022-07-22T04:33:59.026156",
     "status": "completed"
    },
    "tags": []
   },
   "outputs": [
    {
     "data": {
      "text/plain": [
       "'Reference panel: 1000G'"
      ]
     },
     "metadata": {},
     "output_type": "display_data"
    }
   ],
   "source": [
    "assert (\n",
    "    REFERENCE_PANEL is not None or len(REFERENCE_PANEL) == 0\n",
    "), \"A reference panel must be given\"\n",
    "\n",
    "display(f\"Reference panel: {REFERENCE_PANEL}\")"
   ]
  },
  {
   "cell_type": "code",
   "execution_count": 7,
   "id": "e024d130-c139-429a-9c6e-ccf149e297b0",
   "metadata": {
    "execution": {
     "iopub.execute_input": "2022-07-22T04:33:59.063969Z",
     "iopub.status.busy": "2022-07-22T04:33:59.063402Z",
     "iopub.status.idle": "2022-07-22T04:33:59.080230Z",
     "shell.execute_reply": "2022-07-22T04:33:59.079679Z"
    },
    "papermill": {
     "duration": 0.024826,
     "end_time": "2022-07-22T04:33:59.081525",
     "exception": false,
     "start_time": "2022-07-22T04:33:59.056699",
     "status": "completed"
    },
    "tags": []
   },
   "outputs": [
    {
     "data": {
      "text/plain": [
       "'eQTL model: MASHR) / mashr_'"
      ]
     },
     "metadata": {},
     "output_type": "display_data"
    }
   ],
   "source": [
    "assert (\n",
    "    EQTL_MODEL is not None or len(EQTL_MODEL) == 0\n",
    "), \"A prediction/eQTL model must be given\"\n",
    "\n",
    "EQTL_MODEL_FILES_PREFIX = conf.PHENOMEXCAN[\"PREDICTION_MODELS\"][f\"{EQTL_MODEL}_PREFIX\"]\n",
    "display(f\"eQTL model: {EQTL_MODEL}) / {EQTL_MODEL_FILES_PREFIX}\")"
   ]
  },
  {
   "cell_type": "code",
   "execution_count": 8,
   "id": "552a7f63-a18c-4d3e-bb6a-94f99b431291",
   "metadata": {
    "execution": {
     "iopub.execute_input": "2022-07-22T04:33:59.094929Z",
     "iopub.status.busy": "2022-07-22T04:33:59.094485Z",
     "iopub.status.idle": "2022-07-22T04:33:59.109959Z",
     "shell.execute_reply": "2022-07-22T04:33:59.109515Z"
    },
    "papermill": {
     "duration": 0.023407,
     "end_time": "2022-07-22T04:33:59.111203",
     "exception": false,
     "start_time": "2022-07-22T04:33:59.087796",
     "status": "completed"
    },
    "tags": []
   },
   "outputs": [
    {
     "data": {
      "text/plain": [
       "'S-MultiXcan condition number: 30'"
      ]
     },
     "metadata": {},
     "output_type": "display_data"
    }
   ],
   "source": [
    "assert (\n",
    "    SMULTIXCAN_CONDITION_NUMBER is not None or SMULTIXCAN_CONDITION_NUMBER > 0\n",
    "), \"The S-MultiXcan condition number (positive integer) must be given\"\n",
    "\n",
    "display(f\"S-MultiXcan condition number: {SMULTIXCAN_CONDITION_NUMBER}\")"
   ]
  },
  {
   "cell_type": "code",
   "execution_count": 9,
   "id": "f34a336f-548e-4afe-8955-90eaea4f42c6",
   "metadata": {
    "execution": {
     "iopub.execute_input": "2022-07-22T04:33:59.124679Z",
     "iopub.status.busy": "2022-07-22T04:33:59.124471Z",
     "iopub.status.idle": "2022-07-22T04:33:59.140077Z",
     "shell.execute_reply": "2022-07-22T04:33:59.139586Z"
    },
    "papermill": {
     "duration": 0.023665,
     "end_time": "2022-07-22T04:33:59.141346",
     "exception": false,
     "start_time": "2022-07-22T04:33:59.117681",
     "status": "completed"
    },
    "tags": []
   },
   "outputs": [
    {
     "data": {
      "text/plain": [
       "'Working on chromosome 15'"
      ]
     },
     "metadata": {},
     "output_type": "display_data"
    }
   ],
   "source": [
    "assert CHROMOSOME is not None and (\n",
    "    1 <= CHROMOSOME <= 22\n",
    "), \"You have to select one chromosome (format: number between 1 and 22)\"\n",
    "\n",
    "CHROMOSOME = str(CHROMOSOME)\n",
    "display(f\"Working on chromosome {CHROMOSOME}\")"
   ]
  },
  {
   "cell_type": "code",
   "execution_count": 10,
   "id": "ab8e96e8-06b5-4363-9dcd-dc4d78cc27f7",
   "metadata": {
    "execution": {
     "iopub.execute_input": "2022-07-22T04:33:59.155161Z",
     "iopub.status.busy": "2022-07-22T04:33:59.154698Z",
     "iopub.status.idle": "2022-07-22T04:33:59.169665Z",
     "shell.execute_reply": "2022-07-22T04:33:59.169245Z"
    },
    "papermill": {
     "duration": 0.023098,
     "end_time": "2022-07-22T04:33:59.170867",
     "exception": false,
     "start_time": "2022-07-22T04:33:59.147769",
     "status": "completed"
    },
    "tags": []
   },
   "outputs": [
    {
     "data": {
      "text/plain": [
       "'Compute correlation within distance True'"
      ]
     },
     "metadata": {},
     "output_type": "display_data"
    }
   ],
   "source": [
    "# TODO: see if this is necessary; if so, make it a parameter with default value True\n",
    "# This parameter, if True, computes the correlation between closeby genes only\n",
    "\n",
    "COMPUTE_CORRELATIONS_WITHIN_DISTANCE = True\n",
    "display(f\"Compute correlation within distance {COMPUTE_CORRELATIONS_WITHIN_DISTANCE}\")"
   ]
  },
  {
   "cell_type": "code",
   "execution_count": 11,
   "id": "396392dc-0340-4540-9b02-e182b833f909",
   "metadata": {
    "execution": {
     "iopub.execute_input": "2022-07-22T04:33:59.185335Z",
     "iopub.status.busy": "2022-07-22T04:33:59.185116Z",
     "iopub.status.idle": "2022-07-22T04:33:59.200885Z",
     "shell.execute_reply": "2022-07-22T04:33:59.200446Z"
    },
    "papermill": {
     "duration": 0.024725,
     "end_time": "2022-07-22T04:33:59.202142",
     "exception": false,
     "start_time": "2022-07-22T04:33:59.177417",
     "status": "completed"
    },
    "tags": []
   },
   "outputs": [
    {
     "data": {
      "text/plain": [
       "'Using output dir base: /opt/data/results/gls/gene_corrs/cohorts/1000g_eur/1000g/mashr'"
      ]
     },
     "metadata": {},
     "output_type": "display_data"
    }
   ],
   "source": [
    "OUTPUT_DIR_BASE = (\n",
    "    conf.RESULTS[\"GLS\"]\n",
    "    / \"gene_corrs\"\n",
    "    / \"cohorts\"\n",
    "    / COHORT_NAME\n",
    "    / REFERENCE_PANEL.lower()\n",
    "    / EQTL_MODEL.lower()\n",
    ")\n",
    "OUTPUT_DIR_BASE.mkdir(parents=True, exist_ok=True)\n",
    "\n",
    "display(f\"Using output dir base: {OUTPUT_DIR_BASE}\")"
   ]
  },
  {
   "cell_type": "code",
   "execution_count": 12,
   "id": "974b4bb1-aa98-4e30-b221-7cd034ad3833",
   "metadata": {
    "execution": {
     "iopub.execute_input": "2022-07-22T04:33:59.216212Z",
     "iopub.status.busy": "2022-07-22T04:33:59.215900Z",
     "iopub.status.idle": "2022-07-22T04:33:59.232544Z",
     "shell.execute_reply": "2022-07-22T04:33:59.232067Z"
    },
    "papermill": {
     "duration": 0.025101,
     "end_time": "2022-07-22T04:33:59.233885",
     "exception": false,
     "start_time": "2022-07-22T04:33:59.208784",
     "status": "completed"
    },
    "tags": []
   },
   "outputs": [
    {
     "data": {
      "text/plain": [
       "PosixPath('/opt/data/results/gls/gene_corrs/cohorts/1000g_eur')"
      ]
     },
     "metadata": {},
     "output_type": "display_data"
    }
   ],
   "source": [
    "INPUT_DIR = conf.RESULTS[\"GLS\"] / \"gene_corrs\" / \"cohorts\" / COHORT_NAME\n",
    "assert INPUT_DIR.exists()\n",
    "\n",
    "display(INPUT_DIR)"
   ]
  },
  {
   "cell_type": "markdown",
   "id": "d2ba085e",
   "metadata": {
    "papermill": {
     "duration": 0.006645,
     "end_time": "2022-07-22T04:33:59.247442",
     "exception": false,
     "start_time": "2022-07-22T04:33:59.240797",
     "status": "completed"
    },
    "tags": []
   },
   "source": [
    "# Load data"
   ]
  },
  {
   "cell_type": "markdown",
   "id": "7dcb8db7",
   "metadata": {
    "papermill": {
     "duration": 0.006228,
     "end_time": "2022-07-22T04:33:59.260210",
     "exception": false,
     "start_time": "2022-07-22T04:33:59.253982",
     "status": "completed"
    },
    "tags": []
   },
   "source": [
    "## GWAS variants"
   ]
  },
  {
   "cell_type": "code",
   "execution_count": 13,
   "id": "29434c4e-8cd3-4b9b-82e4-b5a251d9dd19",
   "metadata": {
    "execution": {
     "iopub.execute_input": "2022-07-22T04:33:59.273684Z",
     "iopub.status.busy": "2022-07-22T04:33:59.273477Z",
     "iopub.status.idle": "2022-07-22T04:34:01.879486Z",
     "shell.execute_reply": "2022-07-22T04:34:01.878953Z"
    },
    "papermill": {
     "duration": 2.614569,
     "end_time": "2022-07-22T04:34:01.881056",
     "exception": false,
     "start_time": "2022-07-22T04:33:59.266487",
     "status": "completed"
    },
    "tags": []
   },
   "outputs": [],
   "source": [
    "with open(INPUT_DIR / \"gwas_variant_ids.pkl\", \"rb\") as handle:\n",
    "    gwas_variants_ids_set = pickle.load(handle)"
   ]
  },
  {
   "cell_type": "code",
   "execution_count": 14,
   "id": "b9d9dec2-4a76-4bf9-bde2-e24c95acb8a0",
   "metadata": {
    "execution": {
     "iopub.execute_input": "2022-07-22T04:34:01.897612Z",
     "iopub.status.busy": "2022-07-22T04:34:01.897374Z",
     "iopub.status.idle": "2022-07-22T04:34:01.914862Z",
     "shell.execute_reply": "2022-07-22T04:34:01.914376Z"
    },
    "papermill": {
     "duration": 0.027472,
     "end_time": "2022-07-22T04:34:01.916455",
     "exception": false,
     "start_time": "2022-07-22T04:34:01.888983",
     "status": "completed"
    },
    "tags": []
   },
   "outputs": [
    {
     "data": {
      "text/plain": [
       "8339505"
      ]
     },
     "execution_count": 14,
     "metadata": {},
     "output_type": "execute_result"
    }
   ],
   "source": [
    "len(gwas_variants_ids_set)"
   ]
  },
  {
   "cell_type": "code",
   "execution_count": 15,
   "id": "4235b06a-6034-4ee4-a0a3-2ae35d122418",
   "metadata": {
    "execution": {
     "iopub.execute_input": "2022-07-22T04:34:01.932002Z",
     "iopub.status.busy": "2022-07-22T04:34:01.931778Z",
     "iopub.status.idle": "2022-07-22T04:34:02.428068Z",
     "shell.execute_reply": "2022-07-22T04:34:02.427309Z"
    },
    "papermill": {
     "duration": 0.505613,
     "end_time": "2022-07-22T04:34:02.429549",
     "exception": false,
     "start_time": "2022-07-22T04:34:01.923936",
     "status": "completed"
    },
    "tags": []
   },
   "outputs": [
    {
     "data": {
      "text/plain": [
       "['chr14_77009807_C_T_b38',\n",
       " 'chr1_80223048_G_T_b38',\n",
       " 'chr7_158785823_A_G_b38',\n",
       " 'chr2_195013293_T_G_b38',\n",
       " 'chr8_3597827_G_A_b38']"
      ]
     },
     "execution_count": 15,
     "metadata": {},
     "output_type": "execute_result"
    }
   ],
   "source": [
    "list(gwas_variants_ids_set)[:5]"
   ]
  },
  {
   "cell_type": "markdown",
   "id": "07866999-2305-41f9-a144-e69c9122c212",
   "metadata": {
    "papermill": {
     "duration": 0.00777,
     "end_time": "2022-07-22T04:34:02.445478",
     "exception": false,
     "start_time": "2022-07-22T04:34:02.437708",
     "status": "completed"
    },
    "tags": []
   },
   "source": [
    "## S-PrediXcan tissue models"
   ]
  },
  {
   "cell_type": "code",
   "execution_count": 16,
   "id": "780611d9-77c8-405f-90a4-f271f7b09397",
   "metadata": {
    "execution": {
     "iopub.execute_input": "2022-07-22T04:34:02.464285Z",
     "iopub.status.busy": "2022-07-22T04:34:02.463753Z",
     "iopub.status.idle": "2022-07-22T04:34:03.265402Z",
     "shell.execute_reply": "2022-07-22T04:34:03.264836Z"
    },
    "papermill": {
     "duration": 0.812379,
     "end_time": "2022-07-22T04:34:03.267136",
     "exception": false,
     "start_time": "2022-07-22T04:34:02.454757",
     "status": "completed"
    },
    "tags": []
   },
   "outputs": [],
   "source": [
    "spredixcan_genes_models = pd.read_pickle(INPUT_DIR / \"gene_tissues.pkl\").set_index(\n",
    "    \"gene_id\"\n",
    ")"
   ]
  },
  {
   "cell_type": "code",
   "execution_count": 17,
   "id": "726dd1f6-9557-4225-91fa-b3b879ea96e1",
   "metadata": {
    "execution": {
     "iopub.execute_input": "2022-07-22T04:34:03.282871Z",
     "iopub.status.busy": "2022-07-22T04:34:03.282688Z",
     "iopub.status.idle": "2022-07-22T04:34:03.299346Z",
     "shell.execute_reply": "2022-07-22T04:34:03.298836Z"
    },
    "papermill": {
     "duration": 0.025731,
     "end_time": "2022-07-22T04:34:03.300604",
     "exception": false,
     "start_time": "2022-07-22T04:34:03.274873",
     "status": "completed"
    },
    "tags": []
   },
   "outputs": [
    {
     "data": {
      "text/plain": [
       "(22314, 2)"
      ]
     },
     "execution_count": 17,
     "metadata": {},
     "output_type": "execute_result"
    }
   ],
   "source": [
    "spredixcan_genes_models.shape"
   ]
  },
  {
   "cell_type": "code",
   "execution_count": 18,
   "id": "944a1b48-222c-4eb0-b252-b9de2cbca215",
   "metadata": {
    "execution": {
     "iopub.execute_input": "2022-07-22T04:34:03.315540Z",
     "iopub.status.busy": "2022-07-22T04:34:03.315372Z",
     "iopub.status.idle": "2022-07-22T04:34:03.336908Z",
     "shell.execute_reply": "2022-07-22T04:34:03.336416Z"
    },
    "papermill": {
     "duration": 0.030072,
     "end_time": "2022-07-22T04:34:03.338105",
     "exception": false,
     "start_time": "2022-07-22T04:34:03.308033",
     "status": "completed"
    },
    "tags": []
   },
   "outputs": [
    {
     "data": {
      "text/html": [
       "<div>\n",
       "<style scoped>\n",
       "    .dataframe tbody tr th:only-of-type {\n",
       "        vertical-align: middle;\n",
       "    }\n",
       "\n",
       "    .dataframe tbody tr th {\n",
       "        vertical-align: top;\n",
       "    }\n",
       "\n",
       "    .dataframe thead th {\n",
       "        text-align: right;\n",
       "    }\n",
       "</style>\n",
       "<table border=\"1\" class=\"dataframe\">\n",
       "  <thead>\n",
       "    <tr style=\"text-align: right;\">\n",
       "      <th></th>\n",
       "      <th>gene_name</th>\n",
       "      <th>tissue</th>\n",
       "    </tr>\n",
       "    <tr>\n",
       "      <th>gene_id</th>\n",
       "      <th></th>\n",
       "      <th></th>\n",
       "    </tr>\n",
       "  </thead>\n",
       "  <tbody>\n",
       "    <tr>\n",
       "      <th>ENSG00000000419</th>\n",
       "      <td>DPM1</td>\n",
       "      <td>(Brain_Substantia_nigra, Brain_Hypothalamus)</td>\n",
       "    </tr>\n",
       "    <tr>\n",
       "      <th>ENSG00000000457</th>\n",
       "      <td>SCYL3</td>\n",
       "      <td>(Skin_Not_Sun_Exposed_Suprapubic, Pituitary, C...</td>\n",
       "    </tr>\n",
       "    <tr>\n",
       "      <th>ENSG00000000460</th>\n",
       "      <td>C1orf112</td>\n",
       "      <td>(Pituitary, Colon_Transverse, Brain_Caudate_ba...</td>\n",
       "    </tr>\n",
       "    <tr>\n",
       "      <th>ENSG00000000938</th>\n",
       "      <td>FGR</td>\n",
       "      <td>(Skin_Not_Sun_Exposed_Suprapubic, Pituitary, C...</td>\n",
       "    </tr>\n",
       "    <tr>\n",
       "      <th>ENSG00000000971</th>\n",
       "      <td>CFH</td>\n",
       "      <td>(Skin_Not_Sun_Exposed_Suprapubic, Pituitary, C...</td>\n",
       "    </tr>\n",
       "  </tbody>\n",
       "</table>\n",
       "</div>"
      ],
      "text/plain": [
       "                gene_name                                             tissue\n",
       "gene_id                                                                     \n",
       "ENSG00000000419      DPM1       (Brain_Substantia_nigra, Brain_Hypothalamus)\n",
       "ENSG00000000457     SCYL3  (Skin_Not_Sun_Exposed_Suprapubic, Pituitary, C...\n",
       "ENSG00000000460  C1orf112  (Pituitary, Colon_Transverse, Brain_Caudate_ba...\n",
       "ENSG00000000938       FGR  (Skin_Not_Sun_Exposed_Suprapubic, Pituitary, C...\n",
       "ENSG00000000971       CFH  (Skin_Not_Sun_Exposed_Suprapubic, Pituitary, C..."
      ]
     },
     "execution_count": 18,
     "metadata": {},
     "output_type": "execute_result"
    }
   ],
   "source": [
    "spredixcan_genes_models.head()"
   ]
  },
  {
   "cell_type": "code",
   "execution_count": 19,
   "id": "d1c11bb1-be0b-4f40-b360-633d6827109f",
   "metadata": {
    "execution": {
     "iopub.execute_input": "2022-07-22T04:34:03.353024Z",
     "iopub.status.busy": "2022-07-22T04:34:03.352802Z",
     "iopub.status.idle": "2022-07-22T04:34:03.369083Z",
     "shell.execute_reply": "2022-07-22T04:34:03.368580Z"
    },
    "papermill": {
     "duration": 0.025287,
     "end_time": "2022-07-22T04:34:03.370466",
     "exception": false,
     "start_time": "2022-07-22T04:34:03.345179",
     "status": "completed"
    },
    "tags": []
   },
   "outputs": [],
   "source": [
    "assert spredixcan_genes_models.index.is_unique"
   ]
  },
  {
   "cell_type": "markdown",
   "id": "6caf9d10-eda8-4ad2-8811-a983aa77a25a",
   "metadata": {
    "papermill": {
     "duration": 0.006701,
     "end_time": "2022-07-22T04:34:03.384304",
     "exception": false,
     "start_time": "2022-07-22T04:34:03.377603",
     "status": "completed"
    },
    "tags": []
   },
   "source": [
    "## Get common genes"
   ]
  },
  {
   "cell_type": "code",
   "execution_count": 20,
   "id": "f8d1e317-1cc8-4bdf-bbe9-c3b0a5478359",
   "metadata": {
    "execution": {
     "iopub.execute_input": "2022-07-22T04:34:03.399217Z",
     "iopub.status.busy": "2022-07-22T04:34:03.398905Z",
     "iopub.status.idle": "2022-07-22T04:34:03.414462Z",
     "shell.execute_reply": "2022-07-22T04:34:03.414054Z"
    },
    "papermill": {
     "duration": 0.024634,
     "end_time": "2022-07-22T04:34:03.415777",
     "exception": false,
     "start_time": "2022-07-22T04:34:03.391143",
     "status": "completed"
    },
    "tags": []
   },
   "outputs": [],
   "source": [
    "with open(INPUT_DIR / \"common_genes.pkl\", \"rb\") as handle:\n",
    "    common_genes = pickle.load(handle)"
   ]
  },
  {
   "cell_type": "code",
   "execution_count": 21,
   "id": "ce9506aa-2f38-4e46-b9c2-84d750fac0da",
   "metadata": {
    "execution": {
     "iopub.execute_input": "2022-07-22T04:34:03.430756Z",
     "iopub.status.busy": "2022-07-22T04:34:03.430455Z",
     "iopub.status.idle": "2022-07-22T04:34:03.445321Z",
     "shell.execute_reply": "2022-07-22T04:34:03.444867Z"
    },
    "papermill": {
     "duration": 0.023618,
     "end_time": "2022-07-22T04:34:03.446462",
     "exception": false,
     "start_time": "2022-07-22T04:34:03.422844",
     "status": "completed"
    },
    "tags": []
   },
   "outputs": [
    {
     "data": {
      "text/plain": [
       "6444"
      ]
     },
     "execution_count": 21,
     "metadata": {},
     "output_type": "execute_result"
    }
   ],
   "source": [
    "len(common_genes)"
   ]
  },
  {
   "cell_type": "code",
   "execution_count": 22,
   "id": "f525a698-506a-48e0-9aee-1aca62def5dd",
   "metadata": {
    "execution": {
     "iopub.execute_input": "2022-07-22T04:34:03.461467Z",
     "iopub.status.busy": "2022-07-22T04:34:03.461159Z",
     "iopub.status.idle": "2022-07-22T04:34:03.480320Z",
     "shell.execute_reply": "2022-07-22T04:34:03.479457Z"
    },
    "papermill": {
     "duration": 0.02849,
     "end_time": "2022-07-22T04:34:03.481990",
     "exception": false,
     "start_time": "2022-07-22T04:34:03.453500",
     "status": "completed"
    },
    "tags": []
   },
   "outputs": [
    {
     "data": {
      "text/plain": [
       "['A2M', 'AAAS', 'AANAT', 'AARS', 'AARS2']"
      ]
     },
     "execution_count": 22,
     "metadata": {},
     "output_type": "execute_result"
    }
   ],
   "source": [
    "sorted(list(common_genes))[:5]"
   ]
  },
  {
   "cell_type": "markdown",
   "id": "a5b5092c-a13e-47c4-a92a-480fcc08f3ae",
   "metadata": {
    "papermill": {
     "duration": 0.007091,
     "end_time": "2022-07-22T04:34:03.496849",
     "exception": false,
     "start_time": "2022-07-22T04:34:03.489758",
     "status": "completed"
    },
    "tags": []
   },
   "source": [
    "## Gene info"
   ]
  },
  {
   "cell_type": "code",
   "execution_count": 23,
   "id": "7d6bb224-88e9-4358-ac10-43a41d92cdad",
   "metadata": {
    "execution": {
     "iopub.execute_input": "2022-07-22T04:34:03.512136Z",
     "iopub.status.busy": "2022-07-22T04:34:03.511851Z",
     "iopub.status.idle": "2022-07-22T04:34:03.530084Z",
     "shell.execute_reply": "2022-07-22T04:34:03.529670Z"
    },
    "papermill": {
     "duration": 0.034496,
     "end_time": "2022-07-22T04:34:03.538485",
     "exception": false,
     "start_time": "2022-07-22T04:34:03.503989",
     "status": "completed"
    },
    "tags": []
   },
   "outputs": [],
   "source": [
    "genes_info = pd.read_pickle(INPUT_DIR / \"genes_info.pkl\")"
   ]
  },
  {
   "cell_type": "code",
   "execution_count": 24,
   "id": "9e32abfa-546d-483e-8c18-d526e9e05903",
   "metadata": {
    "execution": {
     "iopub.execute_input": "2022-07-22T04:34:03.557624Z",
     "iopub.status.busy": "2022-07-22T04:34:03.557438Z",
     "iopub.status.idle": "2022-07-22T04:34:03.575110Z",
     "shell.execute_reply": "2022-07-22T04:34:03.574649Z"
    },
    "papermill": {
     "duration": 0.029091,
     "end_time": "2022-07-22T04:34:03.576434",
     "exception": false,
     "start_time": "2022-07-22T04:34:03.547343",
     "status": "completed"
    },
    "tags": []
   },
   "outputs": [
    {
     "data": {
      "text/plain": [
       "(6444, 7)"
      ]
     },
     "execution_count": 24,
     "metadata": {},
     "output_type": "execute_result"
    }
   ],
   "source": [
    "genes_info.shape"
   ]
  },
  {
   "cell_type": "code",
   "execution_count": 25,
   "id": "d16c3e92-85ec-468a-9a56-e25a9774a1cb",
   "metadata": {
    "execution": {
     "iopub.execute_input": "2022-07-22T04:34:03.593698Z",
     "iopub.status.busy": "2022-07-22T04:34:03.593373Z",
     "iopub.status.idle": "2022-07-22T04:34:03.615533Z",
     "shell.execute_reply": "2022-07-22T04:34:03.615130Z"
    },
    "papermill": {
     "duration": 0.032159,
     "end_time": "2022-07-22T04:34:03.616809",
     "exception": false,
     "start_time": "2022-07-22T04:34:03.584650",
     "status": "completed"
    },
    "tags": []
   },
   "outputs": [
    {
     "data": {
      "text/html": [
       "<div>\n",
       "<style scoped>\n",
       "    .dataframe tbody tr th:only-of-type {\n",
       "        vertical-align: middle;\n",
       "    }\n",
       "\n",
       "    .dataframe tbody tr th {\n",
       "        vertical-align: top;\n",
       "    }\n",
       "\n",
       "    .dataframe thead th {\n",
       "        text-align: right;\n",
       "    }\n",
       "</style>\n",
       "<table border=\"1\" class=\"dataframe\">\n",
       "  <thead>\n",
       "    <tr style=\"text-align: right;\">\n",
       "      <th></th>\n",
       "      <th>name</th>\n",
       "      <th>id</th>\n",
       "      <th>chr</th>\n",
       "      <th>band</th>\n",
       "      <th>start_position</th>\n",
       "      <th>end_position</th>\n",
       "      <th>gene_length</th>\n",
       "    </tr>\n",
       "  </thead>\n",
       "  <tbody>\n",
       "    <tr>\n",
       "      <th>0</th>\n",
       "      <td>MFN2</td>\n",
       "      <td>ENSG00000116688</td>\n",
       "      <td>1</td>\n",
       "      <td>1p36.22</td>\n",
       "      <td>11980181.0</td>\n",
       "      <td>12013514.0</td>\n",
       "      <td>33333.0</td>\n",
       "    </tr>\n",
       "    <tr>\n",
       "      <th>1</th>\n",
       "      <td>PPA2</td>\n",
       "      <td>ENSG00000138777</td>\n",
       "      <td>4</td>\n",
       "      <td>4q24</td>\n",
       "      <td>105369077.0</td>\n",
       "      <td>105474067.0</td>\n",
       "      <td>104990.0</td>\n",
       "    </tr>\n",
       "    <tr>\n",
       "      <th>2</th>\n",
       "      <td>ADRA2A</td>\n",
       "      <td>ENSG00000150594</td>\n",
       "      <td>10</td>\n",
       "      <td>10q25.2</td>\n",
       "      <td>111077163.0</td>\n",
       "      <td>111080907.0</td>\n",
       "      <td>3744.0</td>\n",
       "    </tr>\n",
       "    <tr>\n",
       "      <th>3</th>\n",
       "      <td>RYR2</td>\n",
       "      <td>ENSG00000198626</td>\n",
       "      <td>1</td>\n",
       "      <td>1q43</td>\n",
       "      <td>237042184.0</td>\n",
       "      <td>237833988.0</td>\n",
       "      <td>791804.0</td>\n",
       "    </tr>\n",
       "    <tr>\n",
       "      <th>4</th>\n",
       "      <td>VAV2</td>\n",
       "      <td>ENSG00000160293</td>\n",
       "      <td>9</td>\n",
       "      <td>9q34.2</td>\n",
       "      <td>133761894.0</td>\n",
       "      <td>133992604.0</td>\n",
       "      <td>230710.0</td>\n",
       "    </tr>\n",
       "  </tbody>\n",
       "</table>\n",
       "</div>"
      ],
      "text/plain": [
       "     name               id chr     band  start_position  end_position  \\\n",
       "0    MFN2  ENSG00000116688   1  1p36.22      11980181.0    12013514.0   \n",
       "1    PPA2  ENSG00000138777   4     4q24     105369077.0   105474067.0   \n",
       "2  ADRA2A  ENSG00000150594  10  10q25.2     111077163.0   111080907.0   \n",
       "3    RYR2  ENSG00000198626   1     1q43     237042184.0   237833988.0   \n",
       "4    VAV2  ENSG00000160293   9   9q34.2     133761894.0   133992604.0   \n",
       "\n",
       "   gene_length  \n",
       "0      33333.0  \n",
       "1     104990.0  \n",
       "2       3744.0  \n",
       "3     791804.0  \n",
       "4     230710.0  "
      ]
     },
     "execution_count": 25,
     "metadata": {},
     "output_type": "execute_result"
    }
   ],
   "source": [
    "genes_info.head()"
   ]
  },
  {
   "cell_type": "markdown",
   "id": "d3843e06",
   "metadata": {
    "papermill": {
     "duration": 0.0073,
     "end_time": "2022-07-22T04:34:03.631908",
     "exception": false,
     "start_time": "2022-07-22T04:34:03.624608",
     "status": "completed"
    },
    "tags": []
   },
   "source": [
    "# Compute correlations"
   ]
  },
  {
   "cell_type": "code",
   "execution_count": 26,
   "id": "cb859c15-d1f3-4006-a74c-2b83c0db9611",
   "metadata": {
    "execution": {
     "iopub.execute_input": "2022-07-22T04:34:03.647810Z",
     "iopub.status.busy": "2022-07-22T04:34:03.647475Z",
     "iopub.status.idle": "2022-07-22T04:34:03.663070Z",
     "shell.execute_reply": "2022-07-22T04:34:03.662571Z"
    },
    "papermill": {
     "duration": 0.024881,
     "end_time": "2022-07-22T04:34:03.664375",
     "exception": false,
     "start_time": "2022-07-22T04:34:03.639494",
     "status": "completed"
    },
    "tags": []
   },
   "outputs": [
    {
     "data": {
      "text/plain": [
       "PosixPath('/opt/data/results/gls/gene_corrs/cohorts/1000g_eur/1000g/mashr/by_chr/gene_corrs-chr15.pkl')"
      ]
     },
     "metadata": {},
     "output_type": "display_data"
    }
   ],
   "source": [
    "output_dir = OUTPUT_DIR_BASE / \"by_chr\"\n",
    "output_dir.mkdir(exist_ok=True, parents=True)\n",
    "output_file = output_dir / f\"gene_corrs-chr{CHROMOSOME}.pkl\"\n",
    "display(output_file)"
   ]
  },
  {
   "cell_type": "code",
   "execution_count": 27,
   "id": "aa674fe4-6794-4eed-98fa-32b39d1d4ace",
   "metadata": {
    "execution": {
     "iopub.execute_input": "2022-07-22T04:34:03.680783Z",
     "iopub.status.busy": "2022-07-22T04:34:03.680521Z",
     "iopub.status.idle": "2022-07-22T04:34:03.695187Z",
     "shell.execute_reply": "2022-07-22T04:34:03.694672Z"
    },
    "papermill": {
     "duration": 0.024444,
     "end_time": "2022-07-22T04:34:03.696516",
     "exception": false,
     "start_time": "2022-07-22T04:34:03.672072",
     "status": "completed"
    },
    "tags": []
   },
   "outputs": [],
   "source": [
    "warnings.filterwarnings(\"error\")"
   ]
  },
  {
   "cell_type": "code",
   "execution_count": 28,
   "id": "44d5450b-3baf-43f1-9e2e-4b06f1a785f8",
   "metadata": {
    "execution": {
     "iopub.execute_input": "2022-07-22T04:34:03.713035Z",
     "iopub.status.busy": "2022-07-22T04:34:03.712576Z",
     "iopub.status.idle": "2022-07-22T04:34:03.728300Z",
     "shell.execute_reply": "2022-07-22T04:34:03.727714Z"
    },
    "papermill": {
     "duration": 0.025441,
     "end_time": "2022-07-22T04:34:03.729699",
     "exception": false,
     "start_time": "2022-07-22T04:34:03.704258",
     "status": "completed"
    },
    "tags": []
   },
   "outputs": [],
   "source": [
    "# standard checks\n",
    "all_chrs = genes_info[\"chr\"].dropna().unique()\n",
    "assert all_chrs.shape[0] == 22\n",
    "\n",
    "# select chromosome given by the user\n",
    "assert CHROMOSOME in all_chrs"
   ]
  },
  {
   "cell_type": "code",
   "execution_count": 29,
   "id": "2d7c043c-92a7-4d35-991b-fa69ac1e0268",
   "metadata": {
    "execution": {
     "iopub.execute_input": "2022-07-22T04:34:03.746393Z",
     "iopub.status.busy": "2022-07-22T04:34:03.745992Z",
     "iopub.status.idle": "2022-07-22T04:34:03.762499Z",
     "shell.execute_reply": "2022-07-22T04:34:03.762053Z"
    },
    "papermill": {
     "duration": 0.026141,
     "end_time": "2022-07-22T04:34:03.763834",
     "exception": false,
     "start_time": "2022-07-22T04:34:03.737693",
     "status": "completed"
    },
    "tags": []
   },
   "outputs": [
    {
     "name": "stdout",
     "output_type": "stream",
     "text": [
      "Number of genes in chromosome: 187\n"
     ]
    }
   ],
   "source": [
    "# run only on the chromosome specified\n",
    "all_chrs = [CHROMOSOME]\n",
    "genes_chr = genes_info[genes_info[\"chr\"] == CHROMOSOME]\n",
    "\n",
    "# For testing purposes\n",
    "# genes_chr = genes_chr.sample(n=20)\n",
    "\n",
    "print(f\"Number of genes in chromosome: {genes_chr.shape[0]}\", flush=True)"
   ]
  },
  {
   "cell_type": "code",
   "execution_count": 30,
   "id": "916015d8-2979-46d3-a9b9-1cf5a0932c6a",
   "metadata": {
    "execution": {
     "iopub.execute_input": "2022-07-22T04:34:03.780200Z",
     "iopub.status.busy": "2022-07-22T04:34:03.779944Z",
     "iopub.status.idle": "2022-07-22T04:34:03.794794Z",
     "shell.execute_reply": "2022-07-22T04:34:03.794368Z"
    },
    "papermill": {
     "duration": 0.024565,
     "end_time": "2022-07-22T04:34:03.796178",
     "exception": false,
     "start_time": "2022-07-22T04:34:03.771613",
     "status": "completed"
    },
    "tags": []
   },
   "outputs": [],
   "source": [
    "# sort genes by starting position to make visualizations better later\n",
    "genes_chr = genes_chr.sort_values(\"start_position\")"
   ]
  },
  {
   "cell_type": "code",
   "execution_count": 31,
   "id": "a38aa74a-8ad3-47f6-8ef9-56be0e011774",
   "metadata": {
    "execution": {
     "iopub.execute_input": "2022-07-22T04:34:03.812758Z",
     "iopub.status.busy": "2022-07-22T04:34:03.812354Z",
     "iopub.status.idle": "2022-07-22T04:34:03.827653Z",
     "shell.execute_reply": "2022-07-22T04:34:03.827212Z"
    },
    "papermill": {
     "duration": 0.025045,
     "end_time": "2022-07-22T04:34:03.829177",
     "exception": false,
     "start_time": "2022-07-22T04:34:03.804132",
     "status": "completed"
    },
    "tags": []
   },
   "outputs": [],
   "source": [
    "gene_chr_objs = [Gene(ensembl_id=gene_id) for gene_id in genes_chr[\"id\"]]"
   ]
  },
  {
   "cell_type": "code",
   "execution_count": 32,
   "id": "570f974f-13c3-42b6-ad3a-ce99ca885c1a",
   "metadata": {
    "execution": {
     "iopub.execute_input": "2022-07-22T04:34:03.845831Z",
     "iopub.status.busy": "2022-07-22T04:34:03.845427Z",
     "iopub.status.idle": "2022-07-22T04:34:03.862306Z",
     "shell.execute_reply": "2022-07-22T04:34:03.861761Z"
    },
    "papermill": {
     "duration": 0.02626,
     "end_time": "2022-07-22T04:34:03.863551",
     "exception": false,
     "start_time": "2022-07-22T04:34:03.837291",
     "status": "completed"
    },
    "tags": []
   },
   "outputs": [
    {
     "name": "stdout",
     "output_type": "stream",
     "text": [
      "Number of gene combinations: 17391\n"
     ]
    }
   ],
   "source": [
    "n = len(gene_chr_objs)\n",
    "n_comb = int(n * (n - 1) / 2.0)\n",
    "print(f\"Number of gene combinations: {n_comb}\", flush=True)"
   ]
  },
  {
   "cell_type": "code",
   "execution_count": 33,
   "id": "cdbb90a1",
   "metadata": {
    "execution": {
     "iopub.execute_input": "2022-07-22T04:34:03.880670Z",
     "iopub.status.busy": "2022-07-22T04:34:03.880325Z",
     "iopub.status.idle": "2022-07-22T04:38:27.545625Z",
     "shell.execute_reply": "2022-07-22T04:38:27.545078Z"
    },
    "papermill": {
     "duration": 263.675294,
     "end_time": "2022-07-22T04:38:27.546961",
     "exception": false,
     "start_time": "2022-07-22T04:34:03.871667",
     "status": "completed"
    },
    "tags": []
   },
   "outputs": [
    {
     "name": "stderr",
     "output_type": "stream",
     "text": [
      "ENSG00000140479 / ENSG00000185418: 100%|██████████████████████| 17391/17391 [04:23<00:00, 65.97it/s]\n"
     ]
    },
    {
     "data": {
      "text/plain": [
       "PosixPath('/opt/data/results/gls/gene_corrs/cohorts/1000g_eur/1000g/mashr/by_chr/gene_corrs-chr15.pkl')"
      ]
     },
     "metadata": {},
     "output_type": "display_data"
    }
   ],
   "source": [
    "gene_corrs = []\n",
    "\n",
    "i = 0\n",
    "with tqdm(ncols=100, total=n_comb) as pbar:\n",
    "    for gene1_idx in range(0, len(gene_chr_objs) - 1):\n",
    "        gene1_obj = gene_chr_objs[gene1_idx]\n",
    "        gene1_tissues = spredixcan_genes_models.loc[gene1_obj.ensembl_id, \"tissue\"]\n",
    "\n",
    "        for gene2_idx in range(gene1_idx + 1, len(gene_chr_objs)):\n",
    "            gene2_obj = gene_chr_objs[gene2_idx]\n",
    "            gene2_tissues = spredixcan_genes_models.loc[gene2_obj.ensembl_id, \"tissue\"]\n",
    "\n",
    "            pbar.set_description(f\"{gene1_obj.ensembl_id} / {gene2_obj.ensembl_id}\")\n",
    "\n",
    "            try:\n",
    "                r = gene1_obj.get_ssm_correlation(\n",
    "                    other_gene=gene2_obj,\n",
    "                    tissues=gene1_tissues,\n",
    "                    other_tissues=gene2_tissues,\n",
    "                    snps_subset=gwas_variants_ids_set,\n",
    "                    condition_number=SMULTIXCAN_CONDITION_NUMBER,\n",
    "                    reference_panel=REFERENCE_PANEL,\n",
    "                    model_type=EQTL_MODEL,\n",
    "                    use_within_distance=COMPUTE_CORRELATIONS_WITHIN_DISTANCE,\n",
    "                )\n",
    "\n",
    "                if r is None:\n",
    "                    # if r is None, it's very likely because:\n",
    "                    #  * one of the genes has no prediction models\n",
    "                    #  * all the SNPs predictors for the gene are not present in the reference\n",
    "                    #    panel\n",
    "\n",
    "                    r = 0.0\n",
    "\n",
    "                gene_corrs.append(r)\n",
    "            except Warning as e:\n",
    "                if not DEBUG_MODE:\n",
    "                    raise e\n",
    "\n",
    "                print(\n",
    "                    f\"RuntimeWarning for genes {gene1_obj.ensembl_id} and {gene2_obj.ensembl_id}\",\n",
    "                    flush=True,\n",
    "                )\n",
    "                print(traceback.format_exc(), flush=True)\n",
    "\n",
    "                gene_corrs.append(np.nan)\n",
    "            except Exception as e:\n",
    "                if not DEBUG_MODE:\n",
    "                    raise e\n",
    "\n",
    "                print(\n",
    "                    f\"Exception for genes {gene1_obj.ensembl_id} and {gene2_obj.ensembl_id}\",\n",
    "                    flush=True,\n",
    "                )\n",
    "                print(traceback.format_exc(), flush=True)\n",
    "\n",
    "                gene_corrs.append(np.nan)\n",
    "\n",
    "            pbar.update(1)\n",
    "\n",
    "# create a pandas series\n",
    "gene_corrs_flat = pd.Series(gene_corrs)\n",
    "\n",
    "# save\n",
    "# FIXME: consider saving only the condenced matrix here. See here for\n",
    "# more details: https://github.com/greenelab/phenoplier/pull/38#discussion_r634600813\n",
    "gene_corrs_data = squareform(np.array(gene_corrs, dtype=np.float64))\n",
    "np.fill_diagonal(gene_corrs_data, 1.0)\n",
    "\n",
    "gene_chr_ids = [g.ensembl_id for g in gene_chr_objs]\n",
    "gene_corrs_df = pd.DataFrame(\n",
    "    data=gene_corrs_data,\n",
    "    index=gene_chr_ids,\n",
    "    columns=gene_chr_ids,\n",
    ")\n",
    "\n",
    "output_dir.mkdir(exist_ok=True, parents=True)\n",
    "display(output_file)\n",
    "\n",
    "gene_corrs_df.to_pickle(output_file)"
   ]
  },
  {
   "cell_type": "markdown",
   "id": "faa67b51-5373-470f-aa72-2ded53fa6dfe",
   "metadata": {
    "papermill": {
     "duration": 0.646329,
     "end_time": "2022-07-22T04:38:28.817322",
     "exception": false,
     "start_time": "2022-07-22T04:38:28.170993",
     "status": "completed"
    },
    "tags": []
   },
   "source": [
    "# Testing"
   ]
  },
  {
   "cell_type": "code",
   "execution_count": 34,
   "id": "14f7d046-4b55-4896-a56b-990127bcc388",
   "metadata": {
    "execution": {
     "iopub.execute_input": "2022-07-22T04:38:30.121528Z",
     "iopub.status.busy": "2022-07-22T04:38:30.121340Z",
     "iopub.status.idle": "2022-07-22T04:38:30.139936Z",
     "shell.execute_reply": "2022-07-22T04:38:30.139384Z"
    },
    "papermill": {
     "duration": 0.67094,
     "end_time": "2022-07-22T04:38:30.141322",
     "exception": false,
     "start_time": "2022-07-22T04:38:29.470382",
     "status": "completed"
    },
    "tags": []
   },
   "outputs": [
    {
     "data": {
      "text/plain": [
       "(187, 187)"
      ]
     },
     "execution_count": 34,
     "metadata": {},
     "output_type": "execute_result"
    }
   ],
   "source": [
    "gene_corrs_df.shape"
   ]
  },
  {
   "cell_type": "code",
   "execution_count": 35,
   "id": "c7d15414-3297-4537-a7c6-7588c0baeb75",
   "metadata": {
    "execution": {
     "iopub.execute_input": "2022-07-22T04:38:31.515602Z",
     "iopub.status.busy": "2022-07-22T04:38:31.515414Z",
     "iopub.status.idle": "2022-07-22T04:38:31.545464Z",
     "shell.execute_reply": "2022-07-22T04:38:31.544984Z"
    },
    "papermill": {
     "duration": 0.70865,
     "end_time": "2022-07-22T04:38:31.546721",
     "exception": false,
     "start_time": "2022-07-22T04:38:30.838071",
     "status": "completed"
    },
    "tags": []
   },
   "outputs": [
    {
     "data": {
      "text/html": [
       "<div>\n",
       "<style scoped>\n",
       "    .dataframe tbody tr th:only-of-type {\n",
       "        vertical-align: middle;\n",
       "    }\n",
       "\n",
       "    .dataframe tbody tr th {\n",
       "        vertical-align: top;\n",
       "    }\n",
       "\n",
       "    .dataframe thead th {\n",
       "        text-align: right;\n",
       "    }\n",
       "</style>\n",
       "<table border=\"1\" class=\"dataframe\">\n",
       "  <thead>\n",
       "    <tr style=\"text-align: right;\">\n",
       "      <th></th>\n",
       "      <th>ENSG00000273749</th>\n",
       "      <th>ENSG00000275835</th>\n",
       "      <th>ENSG00000182636</th>\n",
       "      <th>ENSG00000273173</th>\n",
       "      <th>ENSG00000114062</th>\n",
       "      <th>ENSG00000206190</th>\n",
       "      <th>ENSG00000128731</th>\n",
       "      <th>ENSG00000034053</th>\n",
       "      <th>ENSG00000198690</th>\n",
       "      <th>ENSG00000166912</th>\n",
       "      <th>...</th>\n",
       "      <th>ENSG00000182175</th>\n",
       "      <th>ENSG00000140450</th>\n",
       "      <th>ENSG00000140443</th>\n",
       "      <th>ENSG00000068305</th>\n",
       "      <th>ENSG00000183475</th>\n",
       "      <th>ENSG00000184254</th>\n",
       "      <th>ENSG00000131873</th>\n",
       "      <th>ENSG00000131876</th>\n",
       "      <th>ENSG00000140479</th>\n",
       "      <th>ENSG00000185418</th>\n",
       "    </tr>\n",
       "  </thead>\n",
       "  <tbody>\n",
       "    <tr>\n",
       "      <th>ENSG00000273749</th>\n",
       "      <td>1.000000</td>\n",
       "      <td>0.068878</td>\n",
       "      <td>0.015976</td>\n",
       "      <td>0.013542</td>\n",
       "      <td>0.011531</td>\n",
       "      <td>0.019480</td>\n",
       "      <td>0.000000</td>\n",
       "      <td>0.000000</td>\n",
       "      <td>0.0</td>\n",
       "      <td>0.0</td>\n",
       "      <td>...</td>\n",
       "      <td>0.0</td>\n",
       "      <td>0.0</td>\n",
       "      <td>0.0</td>\n",
       "      <td>0.0</td>\n",
       "      <td>0.0</td>\n",
       "      <td>0.0</td>\n",
       "      <td>0.0</td>\n",
       "      <td>0.0</td>\n",
       "      <td>0.0</td>\n",
       "      <td>0.0</td>\n",
       "    </tr>\n",
       "    <tr>\n",
       "      <th>ENSG00000275835</th>\n",
       "      <td>0.068878</td>\n",
       "      <td>1.000000</td>\n",
       "      <td>0.007951</td>\n",
       "      <td>0.010579</td>\n",
       "      <td>0.006857</td>\n",
       "      <td>0.006705</td>\n",
       "      <td>0.000000</td>\n",
       "      <td>0.000000</td>\n",
       "      <td>0.0</td>\n",
       "      <td>0.0</td>\n",
       "      <td>...</td>\n",
       "      <td>0.0</td>\n",
       "      <td>0.0</td>\n",
       "      <td>0.0</td>\n",
       "      <td>0.0</td>\n",
       "      <td>0.0</td>\n",
       "      <td>0.0</td>\n",
       "      <td>0.0</td>\n",
       "      <td>0.0</td>\n",
       "      <td>0.0</td>\n",
       "      <td>0.0</td>\n",
       "    </tr>\n",
       "    <tr>\n",
       "      <th>ENSG00000182636</th>\n",
       "      <td>0.015976</td>\n",
       "      <td>0.007951</td>\n",
       "      <td>1.000000</td>\n",
       "      <td>0.005602</td>\n",
       "      <td>0.005393</td>\n",
       "      <td>0.014057</td>\n",
       "      <td>0.005148</td>\n",
       "      <td>0.000000</td>\n",
       "      <td>0.0</td>\n",
       "      <td>0.0</td>\n",
       "      <td>...</td>\n",
       "      <td>0.0</td>\n",
       "      <td>0.0</td>\n",
       "      <td>0.0</td>\n",
       "      <td>0.0</td>\n",
       "      <td>0.0</td>\n",
       "      <td>0.0</td>\n",
       "      <td>0.0</td>\n",
       "      <td>0.0</td>\n",
       "      <td>0.0</td>\n",
       "      <td>0.0</td>\n",
       "    </tr>\n",
       "    <tr>\n",
       "      <th>ENSG00000273173</th>\n",
       "      <td>0.013542</td>\n",
       "      <td>0.010579</td>\n",
       "      <td>0.005602</td>\n",
       "      <td>1.000000</td>\n",
       "      <td>0.005033</td>\n",
       "      <td>0.010688</td>\n",
       "      <td>0.010784</td>\n",
       "      <td>0.012473</td>\n",
       "      <td>0.0</td>\n",
       "      <td>0.0</td>\n",
       "      <td>...</td>\n",
       "      <td>0.0</td>\n",
       "      <td>0.0</td>\n",
       "      <td>0.0</td>\n",
       "      <td>0.0</td>\n",
       "      <td>0.0</td>\n",
       "      <td>0.0</td>\n",
       "      <td>0.0</td>\n",
       "      <td>0.0</td>\n",
       "      <td>0.0</td>\n",
       "      <td>0.0</td>\n",
       "    </tr>\n",
       "    <tr>\n",
       "      <th>ENSG00000114062</th>\n",
       "      <td>0.011531</td>\n",
       "      <td>0.006857</td>\n",
       "      <td>0.005393</td>\n",
       "      <td>0.005033</td>\n",
       "      <td>1.000000</td>\n",
       "      <td>0.010618</td>\n",
       "      <td>0.000671</td>\n",
       "      <td>0.008269</td>\n",
       "      <td>0.0</td>\n",
       "      <td>0.0</td>\n",
       "      <td>...</td>\n",
       "      <td>0.0</td>\n",
       "      <td>0.0</td>\n",
       "      <td>0.0</td>\n",
       "      <td>0.0</td>\n",
       "      <td>0.0</td>\n",
       "      <td>0.0</td>\n",
       "      <td>0.0</td>\n",
       "      <td>0.0</td>\n",
       "      <td>0.0</td>\n",
       "      <td>0.0</td>\n",
       "    </tr>\n",
       "  </tbody>\n",
       "</table>\n",
       "<p>5 rows × 187 columns</p>\n",
       "</div>"
      ],
      "text/plain": [
       "                 ENSG00000273749  ENSG00000275835  ENSG00000182636  \\\n",
       "ENSG00000273749         1.000000         0.068878         0.015976   \n",
       "ENSG00000275835         0.068878         1.000000         0.007951   \n",
       "ENSG00000182636         0.015976         0.007951         1.000000   \n",
       "ENSG00000273173         0.013542         0.010579         0.005602   \n",
       "ENSG00000114062         0.011531         0.006857         0.005393   \n",
       "\n",
       "                 ENSG00000273173  ENSG00000114062  ENSG00000206190  \\\n",
       "ENSG00000273749         0.013542         0.011531         0.019480   \n",
       "ENSG00000275835         0.010579         0.006857         0.006705   \n",
       "ENSG00000182636         0.005602         0.005393         0.014057   \n",
       "ENSG00000273173         1.000000         0.005033         0.010688   \n",
       "ENSG00000114062         0.005033         1.000000         0.010618   \n",
       "\n",
       "                 ENSG00000128731  ENSG00000034053  ENSG00000198690  \\\n",
       "ENSG00000273749         0.000000         0.000000              0.0   \n",
       "ENSG00000275835         0.000000         0.000000              0.0   \n",
       "ENSG00000182636         0.005148         0.000000              0.0   \n",
       "ENSG00000273173         0.010784         0.012473              0.0   \n",
       "ENSG00000114062         0.000671         0.008269              0.0   \n",
       "\n",
       "                 ENSG00000166912  ...  ENSG00000182175  ENSG00000140450  \\\n",
       "ENSG00000273749              0.0  ...              0.0              0.0   \n",
       "ENSG00000275835              0.0  ...              0.0              0.0   \n",
       "ENSG00000182636              0.0  ...              0.0              0.0   \n",
       "ENSG00000273173              0.0  ...              0.0              0.0   \n",
       "ENSG00000114062              0.0  ...              0.0              0.0   \n",
       "\n",
       "                 ENSG00000140443  ENSG00000068305  ENSG00000183475  \\\n",
       "ENSG00000273749              0.0              0.0              0.0   \n",
       "ENSG00000275835              0.0              0.0              0.0   \n",
       "ENSG00000182636              0.0              0.0              0.0   \n",
       "ENSG00000273173              0.0              0.0              0.0   \n",
       "ENSG00000114062              0.0              0.0              0.0   \n",
       "\n",
       "                 ENSG00000184254  ENSG00000131873  ENSG00000131876  \\\n",
       "ENSG00000273749              0.0              0.0              0.0   \n",
       "ENSG00000275835              0.0              0.0              0.0   \n",
       "ENSG00000182636              0.0              0.0              0.0   \n",
       "ENSG00000273173              0.0              0.0              0.0   \n",
       "ENSG00000114062              0.0              0.0              0.0   \n",
       "\n",
       "                 ENSG00000140479  ENSG00000185418  \n",
       "ENSG00000273749              0.0              0.0  \n",
       "ENSG00000275835              0.0              0.0  \n",
       "ENSG00000182636              0.0              0.0  \n",
       "ENSG00000273173              0.0              0.0  \n",
       "ENSG00000114062              0.0              0.0  \n",
       "\n",
       "[5 rows x 187 columns]"
      ]
     },
     "execution_count": 35,
     "metadata": {},
     "output_type": "execute_result"
    }
   ],
   "source": [
    "gene_corrs_df.head()"
   ]
  },
  {
   "cell_type": "markdown",
   "id": "dad6603f-01c6-41fb-a6f6-241051207dd8",
   "metadata": {
    "papermill": {
     "duration": 0.715914,
     "end_time": "2022-07-22T04:38:32.938272",
     "exception": false,
     "start_time": "2022-07-22T04:38:32.222358",
     "status": "completed"
    },
    "tags": []
   },
   "source": [
    "## Standard checks and stats"
   ]
  },
  {
   "cell_type": "code",
   "execution_count": 36,
   "id": "286686af-1b7b-4440-8453-6bdcbd8de19c",
   "metadata": {
    "execution": {
     "iopub.execute_input": "2022-07-22T04:38:34.265857Z",
     "iopub.status.busy": "2022-07-22T04:38:34.265640Z",
     "iopub.status.idle": "2022-07-22T04:38:34.282192Z",
     "shell.execute_reply": "2022-07-22T04:38:34.281669Z"
    },
    "papermill": {
     "duration": 0.699363,
     "end_time": "2022-07-22T04:38:34.283562",
     "exception": false,
     "start_time": "2022-07-22T04:38:33.584199",
     "status": "completed"
    },
    "tags": []
   },
   "outputs": [],
   "source": [
    "assert not gene_corrs_df.isna().any().any()"
   ]
  },
  {
   "cell_type": "code",
   "execution_count": 37,
   "id": "00583efc-7068-4270-ad1e-4a418e91db96",
   "metadata": {
    "execution": {
     "iopub.execute_input": "2022-07-22T04:38:35.537481Z",
     "iopub.status.busy": "2022-07-22T04:38:35.537140Z",
     "iopub.status.idle": "2022-07-22T04:38:35.556951Z",
     "shell.execute_reply": "2022-07-22T04:38:35.556389Z"
    },
    "papermill": {
     "duration": 0.675816,
     "end_time": "2022-07-22T04:38:35.558289",
     "exception": false,
     "start_time": "2022-07-22T04:38:34.882473",
     "status": "completed"
    },
    "tags": []
   },
   "outputs": [
    {
     "data": {
      "text/plain": [
       "0.0"
      ]
     },
     "metadata": {},
     "output_type": "display_data"
    }
   ],
   "source": [
    "_min_val = gene_corrs_df.min().min()\n",
    "display(_min_val)\n",
    "assert _min_val >= 0.0"
   ]
  },
  {
   "cell_type": "code",
   "execution_count": 38,
   "id": "d04fb2cf-1050-475b-b855-f5f7cc04092b",
   "metadata": {
    "execution": {
     "iopub.execute_input": "2022-07-22T04:38:36.849613Z",
     "iopub.status.busy": "2022-07-22T04:38:36.849278Z",
     "iopub.status.idle": "2022-07-22T04:38:36.868966Z",
     "shell.execute_reply": "2022-07-22T04:38:36.868393Z"
    },
    "papermill": {
     "duration": 0.659752,
     "end_time": "2022-07-22T04:38:36.870387",
     "exception": false,
     "start_time": "2022-07-22T04:38:36.210635",
     "status": "completed"
    },
    "tags": []
   },
   "outputs": [
    {
     "data": {
      "text/plain": [
       "1.0"
      ]
     },
     "metadata": {},
     "output_type": "display_data"
    }
   ],
   "source": [
    "_max_val = gene_corrs_df.max().max()  # this captures the diagonal\n",
    "display(_max_val)\n",
    "assert _max_val <= 1.0"
   ]
  },
  {
   "cell_type": "code",
   "execution_count": 39,
   "id": "96d02c44-1fba-47be-8a93-8f2608420b9c",
   "metadata": {
    "execution": {
     "iopub.execute_input": "2022-07-22T04:38:38.131987Z",
     "iopub.status.busy": "2022-07-22T04:38:38.131772Z",
     "iopub.status.idle": "2022-07-22T04:38:38.147811Z",
     "shell.execute_reply": "2022-07-22T04:38:38.147049Z"
    },
    "papermill": {
     "duration": 0.669853,
     "end_time": "2022-07-22T04:38:38.149225",
     "exception": false,
     "start_time": "2022-07-22T04:38:37.479372",
     "status": "completed"
    },
    "tags": []
   },
   "outputs": [],
   "source": [
    "# check upper triangular values\n",
    "assert len(gene_corrs) == int(genes_chr.shape[0] * (genes_chr.shape[0] - 1) / 2)"
   ]
  },
  {
   "cell_type": "code",
   "execution_count": 40,
   "id": "fe283586-c348-40e0-8841-f6d97bfb021c",
   "metadata": {
    "execution": {
     "iopub.execute_input": "2022-07-22T04:38:39.445746Z",
     "iopub.status.busy": "2022-07-22T04:38:39.445559Z",
     "iopub.status.idle": "2022-07-22T04:38:39.465438Z",
     "shell.execute_reply": "2022-07-22T04:38:39.464978Z"
    },
    "papermill": {
     "duration": 0.685107,
     "end_time": "2022-07-22T04:38:39.466867",
     "exception": false,
     "start_time": "2022-07-22T04:38:38.781760",
     "status": "completed"
    },
    "tags": []
   },
   "outputs": [
    {
     "data": {
      "text/plain": [
       "count    17391.000000\n",
       "mean         0.004979\n",
       "std          0.037830\n",
       "min          0.000000\n",
       "25%          0.000000\n",
       "50%          0.000000\n",
       "75%          0.000000\n",
       "max          0.959944\n",
       "dtype: float64"
      ]
     },
     "execution_count": 40,
     "metadata": {},
     "output_type": "execute_result"
    }
   ],
   "source": [
    "gene_corrs_flat.describe()"
   ]
  },
  {
   "cell_type": "code",
   "execution_count": 41,
   "id": "b3815678-0f93-4b35-897b-a9d047a2aa78",
   "metadata": {
    "execution": {
     "iopub.execute_input": "2022-07-22T04:38:40.727439Z",
     "iopub.status.busy": "2022-07-22T04:38:40.727267Z",
     "iopub.status.idle": "2022-07-22T04:38:40.745047Z",
     "shell.execute_reply": "2022-07-22T04:38:40.744531Z"
    },
    "papermill": {
     "duration": 0.62331,
     "end_time": "2022-07-22T04:38:40.746282",
     "exception": false,
     "start_time": "2022-07-22T04:38:40.122972",
     "status": "completed"
    },
    "tags": []
   },
   "outputs": [
    {
     "data": {
      "text/plain": [
       "0.00    0.000000\n",
       "0.05    0.000000\n",
       "0.10    0.000000\n",
       "0.15    0.000000\n",
       "0.20    0.000000\n",
       "0.25    0.000000\n",
       "0.30    0.000000\n",
       "0.35    0.000000\n",
       "0.40    0.000000\n",
       "0.45    0.000000\n",
       "0.50    0.000000\n",
       "0.55    0.000000\n",
       "0.60    0.000000\n",
       "0.65    0.000000\n",
       "0.70    0.000000\n",
       "0.75    0.000000\n",
       "0.80    0.000000\n",
       "0.85    0.000000\n",
       "0.90    0.006426\n",
       "0.95    0.012302\n",
       "dtype: float64"
      ]
     },
     "metadata": {},
     "output_type": "display_data"
    }
   ],
   "source": [
    "gene_corrs_quantiles = gene_corrs_flat.quantile(np.arange(0, 1, 0.05))\n",
    "display(gene_corrs_quantiles)"
   ]
  },
  {
   "cell_type": "markdown",
   "id": "87134509-b145-4a10-8bc9-b7e914c2b0fa",
   "metadata": {
    "papermill": {
     "duration": 0.65833,
     "end_time": "2022-07-22T04:38:42.048932",
     "exception": false,
     "start_time": "2022-07-22T04:38:41.390602",
     "status": "completed"
    },
    "tags": []
   },
   "source": [
    "## Positive definiteness"
   ]
  },
  {
   "cell_type": "code",
   "execution_count": 42,
   "id": "07d9a9a1-a4f7-48aa-b916-6d42a8cc6186",
   "metadata": {
    "execution": {
     "iopub.execute_input": "2022-07-22T04:38:43.393261Z",
     "iopub.status.busy": "2022-07-22T04:38:43.393085Z",
     "iopub.status.idle": "2022-07-22T04:38:43.422237Z",
     "shell.execute_reply": "2022-07-22T04:38:43.421837Z"
    },
    "papermill": {
     "duration": 0.723712,
     "end_time": "2022-07-22T04:38:43.423515",
     "exception": false,
     "start_time": "2022-07-22T04:38:42.699803",
     "status": "completed"
    },
    "tags": []
   },
   "outputs": [
    {
     "data": {
      "text/plain": [
       "0"
      ]
     },
     "metadata": {},
     "output_type": "display_data"
    },
    {
     "data": {
      "text/plain": [
       "array([], dtype=float64)"
      ]
     },
     "metadata": {},
     "output_type": "display_data"
    }
   ],
   "source": [
    "# print negative eigenvalues\n",
    "eigs = np.linalg.eigvals(gene_corrs_df.to_numpy())\n",
    "display(len(eigs[eigs < 0]))\n",
    "display(eigs[eigs < 0])"
   ]
  },
  {
   "cell_type": "code",
   "execution_count": 43,
   "id": "6e218436-c3c5-4028-8c94-a4fa6260efce",
   "metadata": {
    "execution": {
     "iopub.execute_input": "2022-07-22T04:38:44.723295Z",
     "iopub.status.busy": "2022-07-22T04:38:44.723116Z",
     "iopub.status.idle": "2022-07-22T04:38:44.754297Z",
     "shell.execute_reply": "2022-07-22T04:38:44.753865Z"
    },
    "papermill": {
     "duration": 0.673154,
     "end_time": "2022-07-22T04:38:44.755712",
     "exception": false,
     "start_time": "2022-07-22T04:38:44.082558",
     "status": "completed"
    },
    "tags": []
   },
   "outputs": [
    {
     "name": "stdout",
     "output_type": "stream",
     "text": [
      "Works!\n"
     ]
    }
   ],
   "source": [
    "try:\n",
    "    chol_mat = np.linalg.cholesky(gene_corrs_df.to_numpy())\n",
    "    cov_inv = np.linalg.inv(chol_mat)\n",
    "    print(\"Works!\")\n",
    "except:\n",
    "    print(\"Cholesky decomposition failed\")"
   ]
  },
  {
   "cell_type": "markdown",
   "id": "8e60a080-edb2-4e9c-b2ef-22961693200c",
   "metadata": {
    "papermill": {
     "duration": 0.705175,
     "end_time": "2022-07-22T04:38:46.180775",
     "exception": false,
     "start_time": "2022-07-22T04:38:45.475600",
     "status": "completed"
    },
    "tags": []
   },
   "source": [
    "## Plot: distribution"
   ]
  },
  {
   "cell_type": "code",
   "execution_count": 44,
   "id": "8301126b-a7d4-4744-9c7d-f0f86eb6f54c",
   "metadata": {
    "execution": {
     "iopub.execute_input": "2022-07-22T04:38:47.549348Z",
     "iopub.status.busy": "2022-07-22T04:38:47.549128Z",
     "iopub.status.idle": "2022-07-22T04:38:47.854104Z",
     "shell.execute_reply": "2022-07-22T04:38:47.853572Z"
    },
    "papermill": {
     "duration": 1.033067,
     "end_time": "2022-07-22T04:38:47.855393",
     "exception": false,
     "start_time": "2022-07-22T04:38:46.822326",
     "status": "completed"
    },
    "tags": []
   },
   "outputs": [
    {
     "data": {
      "image/png": "[encoded data removed]",
      "text/plain": [
       "<Figure size 504x504 with 1 Axes>"
      ]
     },
     "metadata": {
      "needs_background": "light"
     },
     "output_type": "display_data"
    }
   ],
   "source": [
    "with sns.plotting_context(\"paper\", font_scale=1.5):\n",
    "    g = sns.displot(gene_corrs_flat, kde=True, height=7)\n",
    "    g.ax.set_title(\n",
    "        f\"Distribution of gene correlation values in chromosome {CHROMOSOME}\"\n",
    "    )"
   ]
  },
  {
   "cell_type": "markdown",
   "id": "cbd52bca-d878-4a2f-b684-5c83aa3038d4",
   "metadata": {
    "papermill": {
     "duration": 0.677318,
     "end_time": "2022-07-22T04:38:49.270805",
     "exception": false,
     "start_time": "2022-07-22T04:38:48.593487",
     "status": "completed"
    },
    "tags": []
   },
   "source": [
    "## Plot: heatmap"
   ]
  },
  {
   "cell_type": "code",
   "execution_count": 45,
   "id": "d03fe63a-c7b2-4fb9-a53c-db362ce843c9",
   "metadata": {
    "execution": {
     "iopub.execute_input": "2022-07-22T04:38:50.587409Z",
     "iopub.status.busy": "2022-07-22T04:38:50.586896Z",
     "iopub.status.idle": "2022-07-22T04:38:50.605626Z",
     "shell.execute_reply": "2022-07-22T04:38:50.605096Z"
    },
    "papermill": {
     "duration": 0.647947,
     "end_time": "2022-07-22T04:38:50.607040",
     "exception": false,
     "start_time": "2022-07-22T04:38:49.959093",
     "status": "completed"
    },
    "tags": []
   },
   "outputs": [
    {
     "data": {
      "text/plain": [
       "'0.0 / 0.05'"
      ]
     },
     "metadata": {},
     "output_type": "display_data"
    }
   ],
   "source": [
    "vmin_val = min(0.00, gene_corrs_quantiles[0.10])\n",
    "vmax_val = max(0.05, gene_corrs_quantiles[0.90])\n",
    "display(f\"{vmin_val} / {vmax_val}\")"
   ]
  },
  {
   "cell_type": "code",
   "execution_count": 46,
   "id": "dc41b70b-5bcc-4d9e-9f33-a22c4a94dab5",
   "metadata": {
    "execution": {
     "iopub.execute_input": "2022-07-22T04:38:51.919417Z",
     "iopub.status.busy": "2022-07-22T04:38:51.919115Z",
     "iopub.status.idle": "2022-07-22T04:38:52.102907Z",
     "shell.execute_reply": "2022-07-22T04:38:52.101825Z"
    },
    "papermill": {
     "duration": 0.840251,
     "end_time": "2022-07-22T04:38:52.104391",
     "exception": false,
     "start_time": "2022-07-22T04:38:51.264140",
     "status": "completed"
    },
    "tags": []
   },
   "outputs": [
    {
     "data": {
      "text/plain": [
       "Text(0.5, 1.0, 'Gene correlations in chromosome 15')"
      ]
     },
     "execution_count": 46,
     "metadata": {},
     "output_type": "execute_result"
    },
    {
     "data": {
      "image/png": "[encoded data removed]",
      "text/plain": [
       "<Figure size 720x720 with 2 Axes>"
      ]
     },
     "metadata": {
      "needs_background": "light"
     },
     "output_type": "display_data"
    }
   ],
   "source": [
    "f, ax = plt.subplots(figsize=(10, 10))\n",
    "sns.heatmap(\n",
    "    gene_corrs_df,\n",
    "    xticklabels=False,\n",
    "    yticklabels=False,\n",
    "    square=True,\n",
    "    vmin=vmin_val,\n",
    "    vmax=vmax_val,\n",
    "    cmap=\"rocket_r\",\n",
    "    ax=ax,\n",
    ")\n",
    "ax.set_title(f\"Gene correlations in chromosome {CHROMOSOME}\")"
   ]
  },
  {
   "cell_type": "code",
   "execution_count": null,
   "id": "b25e3ead",
   "metadata": {
    "papermill": {
     "duration": 0.656609,
     "end_time": "2022-07-22T04:38:53.417560",
     "exception": false,
     "start_time": "2022-07-22T04:38:52.760951",
     "status": "completed"
    },
    "tags": []
   },
   "outputs": [],
   "source": []
  }
 ],
 "metadata": {
  "jupytext": {
   "cell_metadata_filter": "all,-execution,-papermill,-trusted",
   "formats": "ipynb,py//py:percent"
  },
  "kernelspec": {
   "display_name": "Python 3 (ipykernel)",
   "language": "python",
   "name": "python3"
  },
  "language_info": {
   "codemirror_mode": {
    "name": "ipython",
    "version": 3
   },
   "file_extension": ".py",
   "mimetype": "text/x-python",
   "name": "python",
   "nbconvert_exporter": "python",
   "pygments_lexer": "ipython3",
   "version": "3.8.13"
  },
  "papermill": {
   "default_parameters": {},
   "duration": 300.771448,
   "end_time": "2022-07-22T04:38:57.452569",
   "environment_variables": {},
   "exception": null,
   "input_path": "nbs/15_gsa_gls/10-gene_expr_correlations.ipynb",
   "output_path": "nbs/15_gsa_gls/gene_corrs/cohorts/1000g_eur/1000g/mashr/10-gene_expr_correlations-chr15.run.ipynb",
   "parameters": {
    "CHROMOSOME": 15,
    "COHORT_NAME": "1000G_EUR",
    "EQTL_MODEL": "MASHR",
    "REFERENCE_PANEL": "1000G"
   },
   "start_time": "2022-07-22T04:33:56.681121",
   "version": "2.2.2"
  }
 },
 "nbformat": 4,
 "nbformat_minor": 5
}
