{
 "cells": [
  {
   "cell_type": "markdown",
   "id": "7a6632fb",
   "metadata": {
    "papermill": {
     "duration": 0.006784,
     "end_time": "2022-07-22T04:02:41.657072",
     "exception": false,
     "start_time": "2022-07-22T04:02:41.650288",
     "status": "completed"
    },
    "tags": []
   },
   "source": [
    "# Description"
   ]
  },
  {
   "cell_type": "markdown",
   "id": "7097c346",
   "metadata": {
    "papermill": {
     "duration": 0.005797,
     "end_time": "2022-07-22T04:02:41.669178",
     "exception": false,
     "start_time": "2022-07-22T04:02:41.663381",
     "status": "completed"
    },
    "tags": []
   },
   "source": [
    "(Please, take a look at the README.md file in this directory for instructions on how to run this notebook)\n",
    "\n",
    "This notebook computes predicted expression correlations between all genes in the MultiPLIER models.\n",
    "\n",
    "It also has a parameter set for papermill to run on a single chromosome to run in parallel (see under `Settings` below).\n",
    "\n",
    "This notebook is not directly run. See README.md."
   ]
  },
  {
   "cell_type": "markdown",
   "id": "c61d8427",
   "metadata": {
    "papermill": {
     "duration": 0.005577,
     "end_time": "2022-07-22T04:02:41.680530",
     "exception": false,
     "start_time": "2022-07-22T04:02:41.674953",
     "status": "completed"
    },
    "tags": []
   },
   "source": [
    "# Modules"
   ]
  },
  {
   "cell_type": "code",
   "execution_count": 1,
   "id": "bbc0234f",
   "metadata": {
    "execution": {
     "iopub.execute_input": "2022-07-22T04:02:41.693697Z",
     "iopub.status.busy": "2022-07-22T04:02:41.693057Z",
     "iopub.status.idle": "2022-07-22T04:02:41.707442Z",
     "shell.execute_reply": "2022-07-22T04:02:41.706889Z"
    },
    "papermill": {
     "duration": 0.022768,
     "end_time": "2022-07-22T04:02:41.708902",
     "exception": false,
     "start_time": "2022-07-22T04:02:41.686134",
     "status": "completed"
    },
    "tags": []
   },
   "outputs": [],
   "source": [
    "%load_ext autoreload\n",
    "%autoreload 2"
   ]
  },
  {
   "cell_type": "code",
   "execution_count": 2,
   "id": "1d5f5a59",
   "metadata": {
    "execution": {
     "iopub.execute_input": "2022-07-22T04:02:41.748749Z",
     "iopub.status.busy": "2022-07-22T04:02:41.748271Z",
     "iopub.status.idle": "2022-07-22T04:02:42.675569Z",
     "shell.execute_reply": "2022-07-22T04:02:42.675116Z"
    },
    "papermill": {
     "duration": 0.93602,
     "end_time": "2022-07-22T04:02:42.677036",
     "exception": false,
     "start_time": "2022-07-22T04:02:41.741016",
     "status": "completed"
    },
    "tags": []
   },
   "outputs": [],
   "source": [
    "from random import sample, seed\n",
    "import warnings\n",
    "from pathlib import Path\n",
    "import pickle\n",
    "import traceback\n",
    "\n",
    "import numpy as np\n",
    "from scipy.spatial.distance import squareform\n",
    "import pandas as pd\n",
    "from tqdm import tqdm\n",
    "import matplotlib.pyplot as plt\n",
    "import seaborn as sns\n",
    "\n",
    "import conf\n",
    "from entity import Gene"
   ]
  },
  {
   "cell_type": "markdown",
   "id": "1eac24b5",
   "metadata": {
    "papermill": {
     "duration": 0.012458,
     "end_time": "2022-07-22T04:02:42.696439",
     "exception": false,
     "start_time": "2022-07-22T04:02:42.683981",
     "status": "completed"
    },
    "tags": []
   },
   "source": [
    "# Settings"
   ]
  },
  {
   "cell_type": "code",
   "execution_count": 3,
   "id": "ca4560ba",
   "metadata": {
    "execution": {
     "iopub.execute_input": "2022-07-22T04:02:42.708892Z",
     "iopub.status.busy": "2022-07-22T04:02:42.708729Z",
     "iopub.status.idle": "2022-07-22T04:02:42.723380Z",
     "shell.execute_reply": "2022-07-22T04:02:42.722882Z"
    },
    "papermill": {
     "duration": 0.022364,
     "end_time": "2022-07-22T04:02:42.724720",
     "exception": false,
     "start_time": "2022-07-22T04:02:42.702356",
     "status": "completed"
    },
    "tags": [
     "parameters"
    ]
   },
   "outputs": [],
   "source": [
    "# a cohort name (it could be something like UK_BIOBANK, etc)\n",
    "COHORT_NAME = None\n",
    "\n",
    "# reference panel such as 1000G or GTEX_V8\n",
    "REFERENCE_PANEL = None\n",
    "\n",
    "# predictions models such as MASHR or ELASTIC_NET\n",
    "EQTL_MODEL = None\n",
    "\n",
    "# this is the default value used in S-MultiXcan to select the\n",
    "# top principal components of the expression correlation matrix\n",
    "SMULTIXCAN_CONDITION_NUMBER = 30\n",
    "\n",
    "# specifies a single chromosome value\n",
    "CHROMOSOME = None\n",
    "\n",
    "# if True, then it will continue if a gene pair correlation fails,\n",
    "# printing the warning/error for debugging. If False, any warning/error\n",
    "# will be thrown\n",
    "# FIXME: make it False when all is working\n",
    "DEBUG_MODE = True"
   ]
  },
  {
   "cell_type": "code",
   "execution_count": 4,
   "id": "b18d2d9c",
   "metadata": {
    "execution": {
     "iopub.execute_input": "2022-07-22T04:02:42.737418Z",
     "iopub.status.busy": "2022-07-22T04:02:42.737036Z",
     "iopub.status.idle": "2022-07-22T04:02:42.750928Z",
     "shell.execute_reply": "2022-07-22T04:02:42.750435Z"
    },
    "papermill": {
     "duration": 0.021721,
     "end_time": "2022-07-22T04:02:42.752255",
     "exception": false,
     "start_time": "2022-07-22T04:02:42.730534",
     "status": "completed"
    },
    "tags": [
     "injected-parameters"
    ]
   },
   "outputs": [],
   "source": [
    "# Parameters\n",
    "COHORT_NAME = \"1000G_EUR\"\n",
    "REFERENCE_PANEL = \"1000G\"\n",
    "EQTL_MODEL = \"MASHR\"\n",
    "CHROMOSOME = 8\n"
   ]
  },
  {
   "cell_type": "code",
   "execution_count": 5,
   "id": "3190631f-27fc-480f-b18e-571d580425a5",
   "metadata": {
    "execution": {
     "iopub.execute_input": "2022-07-22T04:02:42.764898Z",
     "iopub.status.busy": "2022-07-22T04:02:42.764596Z",
     "iopub.status.idle": "2022-07-22T04:02:42.783192Z",
     "shell.execute_reply": "2022-07-22T04:02:42.782681Z"
    },
    "papermill": {
     "duration": 0.026485,
     "end_time": "2022-07-22T04:02:42.784549",
     "exception": false,
     "start_time": "2022-07-22T04:02:42.758064",
     "status": "completed"
    },
    "tags": []
   },
   "outputs": [
    {
     "data": {
      "text/plain": [
       "'Cohort name: 1000g_eur'"
      ]
     },
     "metadata": {},
     "output_type": "display_data"
    }
   ],
   "source": [
    "assert COHORT_NAME is not None or len(COHORT_NAME) == 0, \"A cohort name must be given\"\n",
    "\n",
    "COHORT_NAME = COHORT_NAME.lower()\n",
    "display(f\"Cohort name: {COHORT_NAME}\")"
   ]
  },
  {
   "cell_type": "code",
   "execution_count": 6,
   "id": "f53ba19b-0f93-4fa2-a047-63b375939d1a",
   "metadata": {
    "execution": {
     "iopub.execute_input": "2022-07-22T04:02:42.797504Z",
     "iopub.status.busy": "2022-07-22T04:02:42.797205Z",
     "iopub.status.idle": "2022-07-22T04:02:42.812099Z",
     "shell.execute_reply": "2022-07-22T04:02:42.811677Z"
    },
    "papermill": {
     "duration": 0.022679,
     "end_time": "2022-07-22T04:02:42.813301",
     "exception": false,
     "start_time": "2022-07-22T04:02:42.790622",
     "status": "completed"
    },
    "tags": []
   },
   "outputs": [
    {
     "data": {
      "text/plain": [
       "'Reference panel: 1000G'"
      ]
     },
     "metadata": {},
     "output_type": "display_data"
    }
   ],
   "source": [
    "assert (\n",
    "    REFERENCE_PANEL is not None or len(REFERENCE_PANEL) == 0\n",
    "), \"A reference panel must be given\"\n",
    "\n",
    "display(f\"Reference panel: {REFERENCE_PANEL}\")"
   ]
  },
  {
   "cell_type": "code",
   "execution_count": 7,
   "id": "e024d130-c139-429a-9c6e-ccf149e297b0",
   "metadata": {
    "execution": {
     "iopub.execute_input": "2022-07-22T04:02:42.826377Z",
     "iopub.status.busy": "2022-07-22T04:02:42.826083Z",
     "iopub.status.idle": "2022-07-22T04:02:42.842036Z",
     "shell.execute_reply": "2022-07-22T04:02:42.841596Z"
    },
    "papermill": {
     "duration": 0.023802,
     "end_time": "2022-07-22T04:02:42.843313",
     "exception": false,
     "start_time": "2022-07-22T04:02:42.819511",
     "status": "completed"
    },
    "tags": []
   },
   "outputs": [
    {
     "data": {
      "text/plain": [
       "'eQTL model: MASHR) / mashr_'"
      ]
     },
     "metadata": {},
     "output_type": "display_data"
    }
   ],
   "source": [
    "assert (\n",
    "    EQTL_MODEL is not None or len(EQTL_MODEL) == 0\n",
    "), \"A prediction/eQTL model must be given\"\n",
    "\n",
    "EQTL_MODEL_FILES_PREFIX = conf.PHENOMEXCAN[\"PREDICTION_MODELS\"][f\"{EQTL_MODEL}_PREFIX\"]\n",
    "display(f\"eQTL model: {EQTL_MODEL}) / {EQTL_MODEL_FILES_PREFIX}\")"
   ]
  },
  {
   "cell_type": "code",
   "execution_count": 8,
   "id": "552a7f63-a18c-4d3e-bb6a-94f99b431291",
   "metadata": {
    "execution": {
     "iopub.execute_input": "2022-07-22T04:02:42.856813Z",
     "iopub.status.busy": "2022-07-22T04:02:42.856489Z",
     "iopub.status.idle": "2022-07-22T04:02:42.871647Z",
     "shell.execute_reply": "2022-07-22T04:02:42.871222Z"
    },
    "papermill": {
     "duration": 0.02335,
     "end_time": "2022-07-22T04:02:42.872857",
     "exception": false,
     "start_time": "2022-07-22T04:02:42.849507",
     "status": "completed"
    },
    "tags": []
   },
   "outputs": [
    {
     "data": {
      "text/plain": [
       "'S-MultiXcan condition number: 30'"
      ]
     },
     "metadata": {},
     "output_type": "display_data"
    }
   ],
   "source": [
    "assert (\n",
    "    SMULTIXCAN_CONDITION_NUMBER is not None or SMULTIXCAN_CONDITION_NUMBER > 0\n",
    "), \"The S-MultiXcan condition number (positive integer) must be given\"\n",
    "\n",
    "display(f\"S-MultiXcan condition number: {SMULTIXCAN_CONDITION_NUMBER}\")"
   ]
  },
  {
   "cell_type": "code",
   "execution_count": 9,
   "id": "f34a336f-548e-4afe-8955-90eaea4f42c6",
   "metadata": {
    "execution": {
     "iopub.execute_input": "2022-07-22T04:02:42.886166Z",
     "iopub.status.busy": "2022-07-22T04:02:42.885968Z",
     "iopub.status.idle": "2022-07-22T04:02:42.900593Z",
     "shell.execute_reply": "2022-07-22T04:02:42.900180Z"
    },
    "papermill": {
     "duration": 0.022553,
     "end_time": "2022-07-22T04:02:42.901739",
     "exception": false,
     "start_time": "2022-07-22T04:02:42.879186",
     "status": "completed"
    },
    "tags": []
   },
   "outputs": [
    {
     "data": {
      "text/plain": [
       "'Working on chromosome 8'"
      ]
     },
     "metadata": {},
     "output_type": "display_data"
    }
   ],
   "source": [
    "assert CHROMOSOME is not None and (\n",
    "    1 <= CHROMOSOME <= 22\n",
    "), \"You have to select one chromosome (format: number between 1 and 22)\"\n",
    "\n",
    "CHROMOSOME = str(CHROMOSOME)\n",
    "display(f\"Working on chromosome {CHROMOSOME}\")"
   ]
  },
  {
   "cell_type": "code",
   "execution_count": 10,
   "id": "ab8e96e8-06b5-4363-9dcd-dc4d78cc27f7",
   "metadata": {
    "execution": {
     "iopub.execute_input": "2022-07-22T04:02:42.915325Z",
     "iopub.status.busy": "2022-07-22T04:02:42.915128Z",
     "iopub.status.idle": "2022-07-22T04:02:42.929306Z",
     "shell.execute_reply": "2022-07-22T04:02:42.928895Z"
    },
    "papermill": {
     "duration": 0.022348,
     "end_time": "2022-07-22T04:02:42.930480",
     "exception": false,
     "start_time": "2022-07-22T04:02:42.908132",
     "status": "completed"
    },
    "tags": []
   },
   "outputs": [
    {
     "data": {
      "text/plain": [
       "'Compute correlation within distance True'"
      ]
     },
     "metadata": {},
     "output_type": "display_data"
    }
   ],
   "source": [
    "# TODO: see if this is necessary; if so, make it a parameter with default value True\n",
    "# This parameter, if True, computes the correlation between closeby genes only\n",
    "\n",
    "COMPUTE_CORRELATIONS_WITHIN_DISTANCE = True\n",
    "display(f\"Compute correlation within distance {COMPUTE_CORRELATIONS_WITHIN_DISTANCE}\")"
   ]
  },
  {
   "cell_type": "code",
   "execution_count": 11,
   "id": "396392dc-0340-4540-9b02-e182b833f909",
   "metadata": {
    "execution": {
     "iopub.execute_input": "2022-07-22T04:02:42.943776Z",
     "iopub.status.busy": "2022-07-22T04:02:42.943572Z",
     "iopub.status.idle": "2022-07-22T04:02:42.959999Z",
     "shell.execute_reply": "2022-07-22T04:02:42.959500Z"
    },
    "papermill": {
     "duration": 0.024442,
     "end_time": "2022-07-22T04:02:42.961226",
     "exception": false,
     "start_time": "2022-07-22T04:02:42.936784",
     "status": "completed"
    },
    "tags": []
   },
   "outputs": [
    {
     "data": {
      "text/plain": [
       "'Using output dir base: /opt/data/results/gls/gene_corrs/cohorts/1000g_eur/1000g/mashr'"
      ]
     },
     "metadata": {},
     "output_type": "display_data"
    }
   ],
   "source": [
    "OUTPUT_DIR_BASE = (\n",
    "    conf.RESULTS[\"GLS\"]\n",
    "    / \"gene_corrs\"\n",
    "    / \"cohorts\"\n",
    "    / COHORT_NAME\n",
    "    / REFERENCE_PANEL.lower()\n",
    "    / EQTL_MODEL.lower()\n",
    ")\n",
    "OUTPUT_DIR_BASE.mkdir(parents=True, exist_ok=True)\n",
    "\n",
    "display(f\"Using output dir base: {OUTPUT_DIR_BASE}\")"
   ]
  },
  {
   "cell_type": "code",
   "execution_count": 12,
   "id": "974b4bb1-aa98-4e30-b221-7cd034ad3833",
   "metadata": {
    "execution": {
     "iopub.execute_input": "2022-07-22T04:02:42.974903Z",
     "iopub.status.busy": "2022-07-22T04:02:42.974734Z",
     "iopub.status.idle": "2022-07-22T04:02:42.989423Z",
     "shell.execute_reply": "2022-07-22T04:02:42.989005Z"
    },
    "papermill": {
     "duration": 0.022921,
     "end_time": "2022-07-22T04:02:42.990644",
     "exception": false,
     "start_time": "2022-07-22T04:02:42.967723",
     "status": "completed"
    },
    "tags": []
   },
   "outputs": [
    {
     "data": {
      "text/plain": [
       "PosixPath('/opt/data/results/gls/gene_corrs/cohorts/1000g_eur')"
      ]
     },
     "metadata": {},
     "output_type": "display_data"
    }
   ],
   "source": [
    "INPUT_DIR = conf.RESULTS[\"GLS\"] / \"gene_corrs\" / \"cohorts\" / COHORT_NAME\n",
    "assert INPUT_DIR.exists()\n",
    "\n",
    "display(INPUT_DIR)"
   ]
  },
  {
   "cell_type": "markdown",
   "id": "d2ba085e",
   "metadata": {
    "papermill": {
     "duration": 0.006188,
     "end_time": "2022-07-22T04:02:43.003366",
     "exception": false,
     "start_time": "2022-07-22T04:02:42.997178",
     "status": "completed"
    },
    "tags": []
   },
   "source": [
    "# Load data"
   ]
  },
  {
   "cell_type": "markdown",
   "id": "7dcb8db7",
   "metadata": {
    "papermill": {
     "duration": 0.006416,
     "end_time": "2022-07-22T04:02:43.016881",
     "exception": false,
     "start_time": "2022-07-22T04:02:43.010465",
     "status": "completed"
    },
    "tags": []
   },
   "source": [
    "## GWAS variants"
   ]
  },
  {
   "cell_type": "code",
   "execution_count": 13,
   "id": "29434c4e-8cd3-4b9b-82e4-b5a251d9dd19",
   "metadata": {
    "execution": {
     "iopub.execute_input": "2022-07-22T04:02:43.030849Z",
     "iopub.status.busy": "2022-07-22T04:02:43.030241Z",
     "iopub.status.idle": "2022-07-22T04:02:45.622540Z",
     "shell.execute_reply": "2022-07-22T04:02:45.621825Z"
    },
    "papermill": {
     "duration": 2.601005,
     "end_time": "2022-07-22T04:02:45.624163",
     "exception": false,
     "start_time": "2022-07-22T04:02:43.023158",
     "status": "completed"
    },
    "tags": []
   },
   "outputs": [],
   "source": [
    "with open(INPUT_DIR / \"gwas_variant_ids.pkl\", \"rb\") as handle:\n",
    "    gwas_variants_ids_set = pickle.load(handle)"
   ]
  },
  {
   "cell_type": "code",
   "execution_count": 14,
   "id": "b9d9dec2-4a76-4bf9-bde2-e24c95acb8a0",
   "metadata": {
    "execution": {
     "iopub.execute_input": "2022-07-22T04:02:45.643046Z",
     "iopub.status.busy": "2022-07-22T04:02:45.642575Z",
     "iopub.status.idle": "2022-07-22T04:02:45.659827Z",
     "shell.execute_reply": "2022-07-22T04:02:45.659314Z"
    },
    "papermill": {
     "duration": 0.02795,
     "end_time": "2022-07-22T04:02:45.661483",
     "exception": false,
     "start_time": "2022-07-22T04:02:45.633533",
     "status": "completed"
    },
    "tags": []
   },
   "outputs": [
    {
     "data": {
      "text/plain": [
       "8339505"
      ]
     },
     "execution_count": 14,
     "metadata": {},
     "output_type": "execute_result"
    }
   ],
   "source": [
    "len(gwas_variants_ids_set)"
   ]
  },
  {
   "cell_type": "code",
   "execution_count": 15,
   "id": "4235b06a-6034-4ee4-a0a3-2ae35d122418",
   "metadata": {
    "execution": {
     "iopub.execute_input": "2022-07-22T04:02:45.677238Z",
     "iopub.status.busy": "2022-07-22T04:02:45.677031Z",
     "iopub.status.idle": "2022-07-22T04:02:46.184848Z",
     "shell.execute_reply": "2022-07-22T04:02:46.184351Z"
    },
    "papermill": {
     "duration": 0.517148,
     "end_time": "2022-07-22T04:02:46.186321",
     "exception": false,
     "start_time": "2022-07-22T04:02:45.669173",
     "status": "completed"
    },
    "tags": []
   },
   "outputs": [
    {
     "data": {
      "text/plain": [
       "['chr18_26514424_A_G_b38',\n",
       " 'chr16_83959001_G_A_b38',\n",
       " 'chr8_86695358_T_A_b38',\n",
       " 'chr10_6617219_G_T_b38',\n",
       " 'chr1_50378501_T_C_b38']"
      ]
     },
     "execution_count": 15,
     "metadata": {},
     "output_type": "execute_result"
    }
   ],
   "source": [
    "list(gwas_variants_ids_set)[:5]"
   ]
  },
  {
   "cell_type": "markdown",
   "id": "07866999-2305-41f9-a144-e69c9122c212",
   "metadata": {
    "papermill": {
     "duration": 0.016007,
     "end_time": "2022-07-22T04:02:46.218765",
     "exception": false,
     "start_time": "2022-07-22T04:02:46.202758",
     "status": "completed"
    },
    "tags": []
   },
   "source": [
    "## S-PrediXcan tissue models"
   ]
  },
  {
   "cell_type": "code",
   "execution_count": 16,
   "id": "780611d9-77c8-405f-90a4-f271f7b09397",
   "metadata": {
    "execution": {
     "iopub.execute_input": "2022-07-22T04:02:46.243374Z",
     "iopub.status.busy": "2022-07-22T04:02:46.243149Z",
     "iopub.status.idle": "2022-07-22T04:02:47.004169Z",
     "shell.execute_reply": "2022-07-22T04:02:47.003767Z"
    },
    "papermill": {
     "duration": 0.770577,
     "end_time": "2022-07-22T04:02:47.005495",
     "exception": false,
     "start_time": "2022-07-22T04:02:46.234918",
     "status": "completed"
    },
    "tags": []
   },
   "outputs": [],
   "source": [
    "spredixcan_genes_models = pd.read_pickle(INPUT_DIR / \"gene_tissues.pkl\").set_index(\n",
    "    \"gene_id\"\n",
    ")"
   ]
  },
  {
   "cell_type": "code",
   "execution_count": 17,
   "id": "726dd1f6-9557-4225-91fa-b3b879ea96e1",
   "metadata": {
    "execution": {
     "iopub.execute_input": "2022-07-22T04:02:47.026136Z",
     "iopub.status.busy": "2022-07-22T04:02:47.025769Z",
     "iopub.status.idle": "2022-07-22T04:02:47.041562Z",
     "shell.execute_reply": "2022-07-22T04:02:47.040965Z"
    },
    "papermill": {
     "duration": 0.02436,
     "end_time": "2022-07-22T04:02:47.042909",
     "exception": false,
     "start_time": "2022-07-22T04:02:47.018549",
     "status": "completed"
    },
    "tags": []
   },
   "outputs": [
    {
     "data": {
      "text/plain": [
       "(22314, 2)"
      ]
     },
     "execution_count": 17,
     "metadata": {},
     "output_type": "execute_result"
    }
   ],
   "source": [
    "spredixcan_genes_models.shape"
   ]
  },
  {
   "cell_type": "code",
   "execution_count": 18,
   "id": "944a1b48-222c-4eb0-b252-b9de2cbca215",
   "metadata": {
    "execution": {
     "iopub.execute_input": "2022-07-22T04:02:47.057462Z",
     "iopub.status.busy": "2022-07-22T04:02:47.057035Z",
     "iopub.status.idle": "2022-07-22T04:02:47.076803Z",
     "shell.execute_reply": "2022-07-22T04:02:47.076377Z"
    },
    "papermill": {
     "duration": 0.028416,
     "end_time": "2022-07-22T04:02:47.078157",
     "exception": false,
     "start_time": "2022-07-22T04:02:47.049741",
     "status": "completed"
    },
    "tags": []
   },
   "outputs": [
    {
     "data": {
      "text/html": [
       "<div>\n",
       "<style scoped>\n",
       "    .dataframe tbody tr th:only-of-type {\n",
       "        vertical-align: middle;\n",
       "    }\n",
       "\n",
       "    .dataframe tbody tr th {\n",
       "        vertical-align: top;\n",
       "    }\n",
       "\n",
       "    .dataframe thead th {\n",
       "        text-align: right;\n",
       "    }\n",
       "</style>\n",
       "<table border=\"1\" class=\"dataframe\">\n",
       "  <thead>\n",
       "    <tr style=\"text-align: right;\">\n",
       "      <th></th>\n",
       "      <th>gene_name</th>\n",
       "      <th>tissue</th>\n",
       "    </tr>\n",
       "    <tr>\n",
       "      <th>gene_id</th>\n",
       "      <th></th>\n",
       "      <th></th>\n",
       "    </tr>\n",
       "  </thead>\n",
       "  <tbody>\n",
       "    <tr>\n",
       "      <th>ENSG00000000419</th>\n",
       "      <td>DPM1</td>\n",
       "      <td>(Brain_Substantia_nigra, Brain_Hypothalamus)</td>\n",
       "    </tr>\n",
       "    <tr>\n",
       "      <th>ENSG00000000457</th>\n",
       "      <td>SCYL3</td>\n",
       "      <td>(Brain_Spinal_cord_cervical_c-1, Thyroid, Panc...</td>\n",
       "    </tr>\n",
       "    <tr>\n",
       "      <th>ENSG00000000460</th>\n",
       "      <td>C1orf112</td>\n",
       "      <td>(Brain_Spinal_cord_cervical_c-1, Thyroid, Panc...</td>\n",
       "    </tr>\n",
       "    <tr>\n",
       "      <th>ENSG00000000938</th>\n",
       "      <td>FGR</td>\n",
       "      <td>(Brain_Spinal_cord_cervical_c-1, Thyroid, Panc...</td>\n",
       "    </tr>\n",
       "    <tr>\n",
       "      <th>ENSG00000000971</th>\n",
       "      <td>CFH</td>\n",
       "      <td>(Brain_Spinal_cord_cervical_c-1, Thyroid, Brai...</td>\n",
       "    </tr>\n",
       "  </tbody>\n",
       "</table>\n",
       "</div>"
      ],
      "text/plain": [
       "                gene_name                                             tissue\n",
       "gene_id                                                                     \n",
       "ENSG00000000419      DPM1       (Brain_Substantia_nigra, Brain_Hypothalamus)\n",
       "ENSG00000000457     SCYL3  (Brain_Spinal_cord_cervical_c-1, Thyroid, Panc...\n",
       "ENSG00000000460  C1orf112  (Brain_Spinal_cord_cervical_c-1, Thyroid, Panc...\n",
       "ENSG00000000938       FGR  (Brain_Spinal_cord_cervical_c-1, Thyroid, Panc...\n",
       "ENSG00000000971       CFH  (Brain_Spinal_cord_cervical_c-1, Thyroid, Brai..."
      ]
     },
     "execution_count": 18,
     "metadata": {},
     "output_type": "execute_result"
    }
   ],
   "source": [
    "spredixcan_genes_models.head()"
   ]
  },
  {
   "cell_type": "code",
   "execution_count": 19,
   "id": "d1c11bb1-be0b-4f40-b360-633d6827109f",
   "metadata": {
    "execution": {
     "iopub.execute_input": "2022-07-22T04:02:47.095193Z",
     "iopub.status.busy": "2022-07-22T04:02:47.094194Z",
     "iopub.status.idle": "2022-07-22T04:02:47.126526Z",
     "shell.execute_reply": "2022-07-22T04:02:47.125983Z"
    },
    "papermill": {
     "duration": 0.042784,
     "end_time": "2022-07-22T04:02:47.128042",
     "exception": false,
     "start_time": "2022-07-22T04:02:47.085258",
     "status": "completed"
    },
    "tags": []
   },
   "outputs": [],
   "source": [
    "assert spredixcan_genes_models.index.is_unique"
   ]
  },
  {
   "cell_type": "markdown",
   "id": "6caf9d10-eda8-4ad2-8811-a983aa77a25a",
   "metadata": {
    "papermill": {
     "duration": 0.007012,
     "end_time": "2022-07-22T04:02:47.142202",
     "exception": false,
     "start_time": "2022-07-22T04:02:47.135190",
     "status": "completed"
    },
    "tags": []
   },
   "source": [
    "## Get common genes"
   ]
  },
  {
   "cell_type": "code",
   "execution_count": 20,
   "id": "f8d1e317-1cc8-4bdf-bbe9-c3b0a5478359",
   "metadata": {
    "execution": {
     "iopub.execute_input": "2022-07-22T04:02:47.157233Z",
     "iopub.status.busy": "2022-07-22T04:02:47.156886Z",
     "iopub.status.idle": "2022-07-22T04:02:47.172171Z",
     "shell.execute_reply": "2022-07-22T04:02:47.171636Z"
    },
    "papermill": {
     "duration": 0.024298,
     "end_time": "2022-07-22T04:02:47.173488",
     "exception": false,
     "start_time": "2022-07-22T04:02:47.149190",
     "status": "completed"
    },
    "tags": []
   },
   "outputs": [],
   "source": [
    "with open(INPUT_DIR / \"common_genes.pkl\", \"rb\") as handle:\n",
    "    common_genes = pickle.load(handle)"
   ]
  },
  {
   "cell_type": "code",
   "execution_count": 21,
   "id": "ce9506aa-2f38-4e46-b9c2-84d750fac0da",
   "metadata": {
    "execution": {
     "iopub.execute_input": "2022-07-22T04:02:47.188660Z",
     "iopub.status.busy": "2022-07-22T04:02:47.188120Z",
     "iopub.status.idle": "2022-07-22T04:02:47.204089Z",
     "shell.execute_reply": "2022-07-22T04:02:47.203599Z"
    },
    "papermill": {
     "duration": 0.024673,
     "end_time": "2022-07-22T04:02:47.205291",
     "exception": false,
     "start_time": "2022-07-22T04:02:47.180618",
     "status": "completed"
    },
    "tags": []
   },
   "outputs": [
    {
     "data": {
      "text/plain": [
       "6444"
      ]
     },
     "execution_count": 21,
     "metadata": {},
     "output_type": "execute_result"
    }
   ],
   "source": [
    "len(common_genes)"
   ]
  },
  {
   "cell_type": "code",
   "execution_count": 22,
   "id": "f525a698-506a-48e0-9aee-1aca62def5dd",
   "metadata": {
    "execution": {
     "iopub.execute_input": "2022-07-22T04:02:47.220989Z",
     "iopub.status.busy": "2022-07-22T04:02:47.220481Z",
     "iopub.status.idle": "2022-07-22T04:02:47.237346Z",
     "shell.execute_reply": "2022-07-22T04:02:47.236883Z"
    },
    "papermill": {
     "duration": 0.026186,
     "end_time": "2022-07-22T04:02:47.238565",
     "exception": false,
     "start_time": "2022-07-22T04:02:47.212379",
     "status": "completed"
    },
    "tags": []
   },
   "outputs": [
    {
     "data": {
      "text/plain": [
       "['A2M', 'AAAS', 'AANAT', 'AARS', 'AARS2']"
      ]
     },
     "execution_count": 22,
     "metadata": {},
     "output_type": "execute_result"
    }
   ],
   "source": [
    "sorted(list(common_genes))[:5]"
   ]
  },
  {
   "cell_type": "markdown",
   "id": "a5b5092c-a13e-47c4-a92a-480fcc08f3ae",
   "metadata": {
    "papermill": {
     "duration": 0.007304,
     "end_time": "2022-07-22T04:02:47.253345",
     "exception": false,
     "start_time": "2022-07-22T04:02:47.246041",
     "status": "completed"
    },
    "tags": []
   },
   "source": [
    "## Gene info"
   ]
  },
  {
   "cell_type": "code",
   "execution_count": 23,
   "id": "7d6bb224-88e9-4358-ac10-43a41d92cdad",
   "metadata": {
    "execution": {
     "iopub.execute_input": "2022-07-22T04:02:47.268963Z",
     "iopub.status.busy": "2022-07-22T04:02:47.268431Z",
     "iopub.status.idle": "2022-07-22T04:02:47.285885Z",
     "shell.execute_reply": "2022-07-22T04:02:47.285354Z"
    },
    "papermill": {
     "duration": 0.026609,
     "end_time": "2022-07-22T04:02:47.287196",
     "exception": false,
     "start_time": "2022-07-22T04:02:47.260587",
     "status": "completed"
    },
    "tags": []
   },
   "outputs": [],
   "source": [
    "genes_info = pd.read_pickle(INPUT_DIR / \"genes_info.pkl\")"
   ]
  },
  {
   "cell_type": "code",
   "execution_count": 24,
   "id": "9e32abfa-546d-483e-8c18-d526e9e05903",
   "metadata": {
    "execution": {
     "iopub.execute_input": "2022-07-22T04:02:47.302889Z",
     "iopub.status.busy": "2022-07-22T04:02:47.302599Z",
     "iopub.status.idle": "2022-07-22T04:02:47.317031Z",
     "shell.execute_reply": "2022-07-22T04:02:47.316575Z"
    },
    "papermill": {
     "duration": 0.023505,
     "end_time": "2022-07-22T04:02:47.318201",
     "exception": false,
     "start_time": "2022-07-22T04:02:47.294696",
     "status": "completed"
    },
    "tags": []
   },
   "outputs": [
    {
     "data": {
      "text/plain": [
       "(6444, 7)"
      ]
     },
     "execution_count": 24,
     "metadata": {},
     "output_type": "execute_result"
    }
   ],
   "source": [
    "genes_info.shape"
   ]
  },
  {
   "cell_type": "code",
   "execution_count": 25,
   "id": "d16c3e92-85ec-468a-9a56-e25a9774a1cb",
   "metadata": {
    "execution": {
     "iopub.execute_input": "2022-07-22T04:02:47.334260Z",
     "iopub.status.busy": "2022-07-22T04:02:47.333491Z",
     "iopub.status.idle": "2022-07-22T04:02:47.355544Z",
     "shell.execute_reply": "2022-07-22T04:02:47.355016Z"
    },
    "papermill": {
     "duration": 0.031377,
     "end_time": "2022-07-22T04:02:47.356968",
     "exception": false,
     "start_time": "2022-07-22T04:02:47.325591",
     "status": "completed"
    },
    "tags": []
   },
   "outputs": [
    {
     "data": {
      "text/html": [
       "<div>\n",
       "<style scoped>\n",
       "    .dataframe tbody tr th:only-of-type {\n",
       "        vertical-align: middle;\n",
       "    }\n",
       "\n",
       "    .dataframe tbody tr th {\n",
       "        vertical-align: top;\n",
       "    }\n",
       "\n",
       "    .dataframe thead th {\n",
       "        text-align: right;\n",
       "    }\n",
       "</style>\n",
       "<table border=\"1\" class=\"dataframe\">\n",
       "  <thead>\n",
       "    <tr style=\"text-align: right;\">\n",
       "      <th></th>\n",
       "      <th>name</th>\n",
       "      <th>id</th>\n",
       "      <th>chr</th>\n",
       "      <th>band</th>\n",
       "      <th>start_position</th>\n",
       "      <th>end_position</th>\n",
       "      <th>gene_length</th>\n",
       "    </tr>\n",
       "  </thead>\n",
       "  <tbody>\n",
       "    <tr>\n",
       "      <th>0</th>\n",
       "      <td>MFN2</td>\n",
       "      <td>ENSG00000116688</td>\n",
       "      <td>1</td>\n",
       "      <td>1p36.22</td>\n",
       "      <td>11980181.0</td>\n",
       "      <td>12013514.0</td>\n",
       "      <td>33333.0</td>\n",
       "    </tr>\n",
       "    <tr>\n",
       "      <th>1</th>\n",
       "      <td>PPA2</td>\n",
       "      <td>ENSG00000138777</td>\n",
       "      <td>4</td>\n",
       "      <td>4q24</td>\n",
       "      <td>105369077.0</td>\n",
       "      <td>105474067.0</td>\n",
       "      <td>104990.0</td>\n",
       "    </tr>\n",
       "    <tr>\n",
       "      <th>2</th>\n",
       "      <td>ADRA2A</td>\n",
       "      <td>ENSG00000150594</td>\n",
       "      <td>10</td>\n",
       "      <td>10q25.2</td>\n",
       "      <td>111077163.0</td>\n",
       "      <td>111080907.0</td>\n",
       "      <td>3744.0</td>\n",
       "    </tr>\n",
       "    <tr>\n",
       "      <th>3</th>\n",
       "      <td>RYR2</td>\n",
       "      <td>ENSG00000198626</td>\n",
       "      <td>1</td>\n",
       "      <td>1q43</td>\n",
       "      <td>237042184.0</td>\n",
       "      <td>237833988.0</td>\n",
       "      <td>791804.0</td>\n",
       "    </tr>\n",
       "    <tr>\n",
       "      <th>4</th>\n",
       "      <td>VAV2</td>\n",
       "      <td>ENSG00000160293</td>\n",
       "      <td>9</td>\n",
       "      <td>9q34.2</td>\n",
       "      <td>133761894.0</td>\n",
       "      <td>133992604.0</td>\n",
       "      <td>230710.0</td>\n",
       "    </tr>\n",
       "  </tbody>\n",
       "</table>\n",
       "</div>"
      ],
      "text/plain": [
       "     name               id chr     band  start_position  end_position  \\\n",
       "0    MFN2  ENSG00000116688   1  1p36.22      11980181.0    12013514.0   \n",
       "1    PPA2  ENSG00000138777   4     4q24     105369077.0   105474067.0   \n",
       "2  ADRA2A  ENSG00000150594  10  10q25.2     111077163.0   111080907.0   \n",
       "3    RYR2  ENSG00000198626   1     1q43     237042184.0   237833988.0   \n",
       "4    VAV2  ENSG00000160293   9   9q34.2     133761894.0   133992604.0   \n",
       "\n",
       "   gene_length  \n",
       "0      33333.0  \n",
       "1     104990.0  \n",
       "2       3744.0  \n",
       "3     791804.0  \n",
       "4     230710.0  "
      ]
     },
     "execution_count": 25,
     "metadata": {},
     "output_type": "execute_result"
    }
   ],
   "source": [
    "genes_info.head()"
   ]
  },
  {
   "cell_type": "markdown",
   "id": "d3843e06",
   "metadata": {
    "papermill": {
     "duration": 0.007459,
     "end_time": "2022-07-22T04:02:47.372099",
     "exception": false,
     "start_time": "2022-07-22T04:02:47.364640",
     "status": "completed"
    },
    "tags": []
   },
   "source": [
    "# Compute correlations"
   ]
  },
  {
   "cell_type": "code",
   "execution_count": 26,
   "id": "cb859c15-d1f3-4006-a74c-2b83c0db9611",
   "metadata": {
    "execution": {
     "iopub.execute_input": "2022-07-22T04:02:47.388503Z",
     "iopub.status.busy": "2022-07-22T04:02:47.387755Z",
     "iopub.status.idle": "2022-07-22T04:02:47.403276Z",
     "shell.execute_reply": "2022-07-22T04:02:47.402682Z"
    },
    "papermill": {
     "duration": 0.024962,
     "end_time": "2022-07-22T04:02:47.404549",
     "exception": false,
     "start_time": "2022-07-22T04:02:47.379587",
     "status": "completed"
    },
    "tags": []
   },
   "outputs": [
    {
     "data": {
      "text/plain": [
       "PosixPath('/opt/data/results/gls/gene_corrs/cohorts/1000g_eur/1000g/mashr/by_chr/gene_corrs-chr8.pkl')"
      ]
     },
     "metadata": {},
     "output_type": "display_data"
    }
   ],
   "source": [
    "output_dir = OUTPUT_DIR_BASE / \"by_chr\"\n",
    "output_dir.mkdir(exist_ok=True, parents=True)\n",
    "output_file = output_dir / f\"gene_corrs-chr{CHROMOSOME}.pkl\"\n",
    "display(output_file)"
   ]
  },
  {
   "cell_type": "code",
   "execution_count": 27,
   "id": "aa674fe4-6794-4eed-98fa-32b39d1d4ace",
   "metadata": {
    "execution": {
     "iopub.execute_input": "2022-07-22T04:02:47.421355Z",
     "iopub.status.busy": "2022-07-22T04:02:47.421107Z",
     "iopub.status.idle": "2022-07-22T04:02:47.435424Z",
     "shell.execute_reply": "2022-07-22T04:02:47.434932Z"
    },
    "papermill": {
     "duration": 0.024263,
     "end_time": "2022-07-22T04:02:47.436801",
     "exception": false,
     "start_time": "2022-07-22T04:02:47.412538",
     "status": "completed"
    },
    "tags": []
   },
   "outputs": [],
   "source": [
    "warnings.filterwarnings(\"error\")"
   ]
  },
  {
   "cell_type": "code",
   "execution_count": 28,
   "id": "44d5450b-3baf-43f1-9e2e-4b06f1a785f8",
   "metadata": {
    "execution": {
     "iopub.execute_input": "2022-07-22T04:02:47.453753Z",
     "iopub.status.busy": "2022-07-22T04:02:47.453270Z",
     "iopub.status.idle": "2022-07-22T04:02:47.469105Z",
     "shell.execute_reply": "2022-07-22T04:02:47.468582Z"
    },
    "papermill": {
     "duration": 0.025667,
     "end_time": "2022-07-22T04:02:47.470423",
     "exception": false,
     "start_time": "2022-07-22T04:02:47.444756",
     "status": "completed"
    },
    "tags": []
   },
   "outputs": [],
   "source": [
    "# standard checks\n",
    "all_chrs = genes_info[\"chr\"].dropna().unique()\n",
    "assert all_chrs.shape[0] == 22\n",
    "\n",
    "# select chromosome given by the user\n",
    "assert CHROMOSOME in all_chrs"
   ]
  },
  {
   "cell_type": "code",
   "execution_count": 29,
   "id": "2d7c043c-92a7-4d35-991b-fa69ac1e0268",
   "metadata": {
    "execution": {
     "iopub.execute_input": "2022-07-22T04:02:47.487274Z",
     "iopub.status.busy": "2022-07-22T04:02:47.486824Z",
     "iopub.status.idle": "2022-07-22T04:02:47.503123Z",
     "shell.execute_reply": "2022-07-22T04:02:47.502660Z"
    },
    "papermill": {
     "duration": 0.026239,
     "end_time": "2022-07-22T04:02:47.504618",
     "exception": false,
     "start_time": "2022-07-22T04:02:47.478379",
     "status": "completed"
    },
    "tags": []
   },
   "outputs": [
    {
     "name": "stdout",
     "output_type": "stream",
     "text": [
      "Number of genes in chromosome: 222\n"
     ]
    }
   ],
   "source": [
    "# run only on the chromosome specified\n",
    "all_chrs = [CHROMOSOME]\n",
    "genes_chr = genes_info[genes_info[\"chr\"] == CHROMOSOME]\n",
    "\n",
    "# For testing purposes\n",
    "# genes_chr = genes_chr.sample(n=20)\n",
    "\n",
    "print(f\"Number of genes in chromosome: {genes_chr.shape[0]}\", flush=True)"
   ]
  },
  {
   "cell_type": "code",
   "execution_count": 30,
   "id": "916015d8-2979-46d3-a9b9-1cf5a0932c6a",
   "metadata": {
    "execution": {
     "iopub.execute_input": "2022-07-22T04:02:47.521162Z",
     "iopub.status.busy": "2022-07-22T04:02:47.520614Z",
     "iopub.status.idle": "2022-07-22T04:02:47.534831Z",
     "shell.execute_reply": "2022-07-22T04:02:47.534305Z"
    },
    "papermill": {
     "duration": 0.023757,
     "end_time": "2022-07-22T04:02:47.536229",
     "exception": false,
     "start_time": "2022-07-22T04:02:47.512472",
     "status": "completed"
    },
    "tags": []
   },
   "outputs": [],
   "source": [
    "# sort genes by starting position to make visualizations better later\n",
    "genes_chr = genes_chr.sort_values(\"start_position\")"
   ]
  },
  {
   "cell_type": "code",
   "execution_count": 31,
   "id": "a38aa74a-8ad3-47f6-8ef9-56be0e011774",
   "metadata": {
    "execution": {
     "iopub.execute_input": "2022-07-22T04:02:47.552238Z",
     "iopub.status.busy": "2022-07-22T04:02:47.552054Z",
     "iopub.status.idle": "2022-07-22T04:02:47.566544Z",
     "shell.execute_reply": "2022-07-22T04:02:47.565965Z"
    },
    "papermill": {
     "duration": 0.024158,
     "end_time": "2022-07-22T04:02:47.567952",
     "exception": false,
     "start_time": "2022-07-22T04:02:47.543794",
     "status": "completed"
    },
    "tags": []
   },
   "outputs": [],
   "source": [
    "gene_chr_objs = [Gene(ensembl_id=gene_id) for gene_id in genes_chr[\"id\"]]"
   ]
  },
  {
   "cell_type": "code",
   "execution_count": 32,
   "id": "570f974f-13c3-42b6-ad3a-ce99ca885c1a",
   "metadata": {
    "execution": {
     "iopub.execute_input": "2022-07-22T04:02:47.584162Z",
     "iopub.status.busy": "2022-07-22T04:02:47.583604Z",
     "iopub.status.idle": "2022-07-22T04:02:47.599034Z",
     "shell.execute_reply": "2022-07-22T04:02:47.598444Z"
    },
    "papermill": {
     "duration": 0.024899,
     "end_time": "2022-07-22T04:02:47.600351",
     "exception": false,
     "start_time": "2022-07-22T04:02:47.575452",
     "status": "completed"
    },
    "tags": []
   },
   "outputs": [
    {
     "name": "stdout",
     "output_type": "stream",
     "text": [
      "Number of gene combinations: 24531\n"
     ]
    }
   ],
   "source": [
    "n = len(gene_chr_objs)\n",
    "n_comb = int(n * (n - 1) / 2.0)\n",
    "print(f\"Number of gene combinations: {n_comb}\", flush=True)"
   ]
  },
  {
   "cell_type": "code",
   "execution_count": 33,
   "id": "cdbb90a1",
   "metadata": {
    "execution": {
     "iopub.execute_input": "2022-07-22T04:02:47.626122Z",
     "iopub.status.busy": "2022-07-22T04:02:47.625096Z",
     "iopub.status.idle": "2022-07-22T04:07:07.778249Z",
     "shell.execute_reply": "2022-07-22T04:07:07.777660Z"
    },
    "papermill": {
     "duration": 260.172105,
     "end_time": "2022-07-22T04:07:07.780333",
     "exception": false,
     "start_time": "2022-07-22T04:02:47.608228",
     "status": "completed"
    },
    "tags": []
   },
   "outputs": [
    {
     "name": "stderr",
     "output_type": "stream",
     "text": [
      "ENSG00000197363 / ENSG00000196150: 100%|██████████████████████| 24531/24531 [04:20<00:00, 94.31it/s]\n"
     ]
    },
    {
     "data": {
      "text/plain": [
       "PosixPath('/opt/data/results/gls/gene_corrs/cohorts/1000g_eur/1000g/mashr/by_chr/gene_corrs-chr8.pkl')"
      ]
     },
     "metadata": {},
     "output_type": "display_data"
    }
   ],
   "source": [
    "gene_corrs = []\n",
    "\n",
    "i = 0\n",
    "with tqdm(ncols=100, total=n_comb) as pbar:\n",
    "    for gene1_idx in range(0, len(gene_chr_objs) - 1):\n",
    "        gene1_obj = gene_chr_objs[gene1_idx]\n",
    "        gene1_tissues = spredixcan_genes_models.loc[gene1_obj.ensembl_id, \"tissue\"]\n",
    "\n",
    "        for gene2_idx in range(gene1_idx + 1, len(gene_chr_objs)):\n",
    "            gene2_obj = gene_chr_objs[gene2_idx]\n",
    "            gene2_tissues = spredixcan_genes_models.loc[gene2_obj.ensembl_id, \"tissue\"]\n",
    "\n",
    "            pbar.set_description(f\"{gene1_obj.ensembl_id} / {gene2_obj.ensembl_id}\")\n",
    "\n",
    "            try:\n",
    "                r = gene1_obj.get_ssm_correlation(\n",
    "                    other_gene=gene2_obj,\n",
    "                    tissues=gene1_tissues,\n",
    "                    other_tissues=gene2_tissues,\n",
    "                    snps_subset=gwas_variants_ids_set,\n",
    "                    condition_number=SMULTIXCAN_CONDITION_NUMBER,\n",
    "                    reference_panel=REFERENCE_PANEL,\n",
    "                    model_type=EQTL_MODEL,\n",
    "                    use_within_distance=COMPUTE_CORRELATIONS_WITHIN_DISTANCE,\n",
    "                )\n",
    "\n",
    "                if r is None:\n",
    "                    # if r is None, it's very likely because:\n",
    "                    #  * one of the genes has no prediction models\n",
    "                    #  * all the SNPs predictors for the gene are not present in the reference\n",
    "                    #    panel\n",
    "\n",
    "                    r = 0.0\n",
    "\n",
    "                gene_corrs.append(r)\n",
    "            except Warning as e:\n",
    "                if not DEBUG_MODE:\n",
    "                    raise e\n",
    "\n",
    "                print(\n",
    "                    f\"RuntimeWarning for genes {gene1_obj.ensembl_id} and {gene2_obj.ensembl_id}\",\n",
    "                    flush=True,\n",
    "                )\n",
    "                print(traceback.format_exc(), flush=True)\n",
    "\n",
    "                gene_corrs.append(np.nan)\n",
    "            except Exception as e:\n",
    "                if not DEBUG_MODE:\n",
    "                    raise e\n",
    "\n",
    "                print(\n",
    "                    f\"Exception for genes {gene1_obj.ensembl_id} and {gene2_obj.ensembl_id}\",\n",
    "                    flush=True,\n",
    "                )\n",
    "                print(traceback.format_exc(), flush=True)\n",
    "\n",
    "                gene_corrs.append(np.nan)\n",
    "\n",
    "            pbar.update(1)\n",
    "\n",
    "# create a pandas series\n",
    "gene_corrs_flat = pd.Series(gene_corrs)\n",
    "\n",
    "# save\n",
    "# FIXME: consider saving only the condenced matrix here. See here for\n",
    "# more details: https://github.com/greenelab/phenoplier/pull/38#discussion_r634600813\n",
    "gene_corrs_data = squareform(np.array(gene_corrs, dtype=np.float64))\n",
    "np.fill_diagonal(gene_corrs_data, 1.0)\n",
    "\n",
    "gene_chr_ids = [g.ensembl_id for g in gene_chr_objs]\n",
    "gene_corrs_df = pd.DataFrame(\n",
    "    data=gene_corrs_data,\n",
    "    index=gene_chr_ids,\n",
    "    columns=gene_chr_ids,\n",
    ")\n",
    "\n",
    "output_dir.mkdir(exist_ok=True, parents=True)\n",
    "display(output_file)\n",
    "\n",
    "gene_corrs_df.to_pickle(output_file)"
   ]
  },
  {
   "cell_type": "markdown",
   "id": "faa67b51-5373-470f-aa72-2ded53fa6dfe",
   "metadata": {
    "papermill": {
     "duration": 0.946854,
     "end_time": "2022-07-22T04:07:09.658621",
     "exception": false,
     "start_time": "2022-07-22T04:07:08.711767",
     "status": "completed"
    },
    "tags": []
   },
   "source": [
    "# Testing"
   ]
  },
  {
   "cell_type": "code",
   "execution_count": 34,
   "id": "14f7d046-4b55-4896-a56b-990127bcc388",
   "metadata": {
    "execution": {
     "iopub.execute_input": "2022-07-22T04:07:11.518837Z",
     "iopub.status.busy": "2022-07-22T04:07:11.518496Z",
     "iopub.status.idle": "2022-07-22T04:07:11.538052Z",
     "shell.execute_reply": "2022-07-22T04:07:11.537583Z"
    },
    "papermill": {
     "duration": 0.958125,
     "end_time": "2022-07-22T04:07:11.539383",
     "exception": false,
     "start_time": "2022-07-22T04:07:10.581258",
     "status": "completed"
    },
    "tags": []
   },
   "outputs": [
    {
     "data": {
      "text/plain": [
       "(222, 222)"
      ]
     },
     "execution_count": 34,
     "metadata": {},
     "output_type": "execute_result"
    }
   ],
   "source": [
    "gene_corrs_df.shape"
   ]
  },
  {
   "cell_type": "code",
   "execution_count": 35,
   "id": "c7d15414-3297-4537-a7c6-7588c0baeb75",
   "metadata": {
    "execution": {
     "iopub.execute_input": "2022-07-22T04:07:13.515437Z",
     "iopub.status.busy": "2022-07-22T04:07:13.515232Z",
     "iopub.status.idle": "2022-07-22T04:07:13.544209Z",
     "shell.execute_reply": "2022-07-22T04:07:13.543806Z"
    },
    "papermill": {
     "duration": 0.997703,
     "end_time": "2022-07-22T04:07:13.545420",
     "exception": false,
     "start_time": "2022-07-22T04:07:12.547717",
     "status": "completed"
    },
    "tags": []
   },
   "outputs": [
    {
     "data": {
      "text/html": [
       "<div>\n",
       "<style scoped>\n",
       "    .dataframe tbody tr th:only-of-type {\n",
       "        vertical-align: middle;\n",
       "    }\n",
       "\n",
       "    .dataframe tbody tr th {\n",
       "        vertical-align: top;\n",
       "    }\n",
       "\n",
       "    .dataframe thead th {\n",
       "        text-align: right;\n",
       "    }\n",
       "</style>\n",
       "<table border=\"1\" class=\"dataframe\">\n",
       "  <thead>\n",
       "    <tr style=\"text-align: right;\">\n",
       "      <th></th>\n",
       "      <th>ENSG00000172748</th>\n",
       "      <th>ENSG00000182372</th>\n",
       "      <th>ENSG00000104728</th>\n",
       "      <th>ENSG00000036448</th>\n",
       "      <th>ENSG00000091879</th>\n",
       "      <th>ENSG00000155189</th>\n",
       "      <th>ENSG00000164821</th>\n",
       "      <th>ENSG00000253958</th>\n",
       "      <th>ENSG00000147324</th>\n",
       "      <th>ENSG00000173281</th>\n",
       "      <th>...</th>\n",
       "      <th>ENSG00000071894</th>\n",
       "      <th>ENSG00000147804</th>\n",
       "      <th>ENSG00000160948</th>\n",
       "      <th>ENSG00000160949</th>\n",
       "      <th>ENSG00000187954</th>\n",
       "      <th>ENSG00000160972</th>\n",
       "      <th>ENSG00000167701</th>\n",
       "      <th>ENSG00000161016</th>\n",
       "      <th>ENSG00000197363</th>\n",
       "      <th>ENSG00000196150</th>\n",
       "    </tr>\n",
       "  </thead>\n",
       "  <tbody>\n",
       "    <tr>\n",
       "      <th>ENSG00000172748</th>\n",
       "      <td>1.000000</td>\n",
       "      <td>0.008854</td>\n",
       "      <td>0.017059</td>\n",
       "      <td>0.015724</td>\n",
       "      <td>0.000000</td>\n",
       "      <td>0.000000</td>\n",
       "      <td>0.000000</td>\n",
       "      <td>0.000000</td>\n",
       "      <td>0.000000</td>\n",
       "      <td>0.000000</td>\n",
       "      <td>...</td>\n",
       "      <td>0.0</td>\n",
       "      <td>0.0</td>\n",
       "      <td>0.0</td>\n",
       "      <td>0.0</td>\n",
       "      <td>0.0</td>\n",
       "      <td>0.0</td>\n",
       "      <td>0.0</td>\n",
       "      <td>0.0</td>\n",
       "      <td>0.0</td>\n",
       "      <td>0.0</td>\n",
       "    </tr>\n",
       "    <tr>\n",
       "      <th>ENSG00000182372</th>\n",
       "      <td>0.008854</td>\n",
       "      <td>1.000000</td>\n",
       "      <td>0.185009</td>\n",
       "      <td>0.014785</td>\n",
       "      <td>0.011253</td>\n",
       "      <td>0.007711</td>\n",
       "      <td>0.000000</td>\n",
       "      <td>0.000000</td>\n",
       "      <td>0.000000</td>\n",
       "      <td>0.000000</td>\n",
       "      <td>...</td>\n",
       "      <td>0.0</td>\n",
       "      <td>0.0</td>\n",
       "      <td>0.0</td>\n",
       "      <td>0.0</td>\n",
       "      <td>0.0</td>\n",
       "      <td>0.0</td>\n",
       "      <td>0.0</td>\n",
       "      <td>0.0</td>\n",
       "      <td>0.0</td>\n",
       "      <td>0.0</td>\n",
       "    </tr>\n",
       "    <tr>\n",
       "      <th>ENSG00000104728</th>\n",
       "      <td>0.017059</td>\n",
       "      <td>0.185009</td>\n",
       "      <td>1.000000</td>\n",
       "      <td>0.038948</td>\n",
       "      <td>0.018172</td>\n",
       "      <td>0.021263</td>\n",
       "      <td>0.013428</td>\n",
       "      <td>0.000000</td>\n",
       "      <td>0.000000</td>\n",
       "      <td>0.000000</td>\n",
       "      <td>...</td>\n",
       "      <td>0.0</td>\n",
       "      <td>0.0</td>\n",
       "      <td>0.0</td>\n",
       "      <td>0.0</td>\n",
       "      <td>0.0</td>\n",
       "      <td>0.0</td>\n",
       "      <td>0.0</td>\n",
       "      <td>0.0</td>\n",
       "      <td>0.0</td>\n",
       "      <td>0.0</td>\n",
       "    </tr>\n",
       "    <tr>\n",
       "      <th>ENSG00000036448</th>\n",
       "      <td>0.015724</td>\n",
       "      <td>0.014785</td>\n",
       "      <td>0.038948</td>\n",
       "      <td>1.000000</td>\n",
       "      <td>0.014444</td>\n",
       "      <td>0.013368</td>\n",
       "      <td>0.015180</td>\n",
       "      <td>0.000000</td>\n",
       "      <td>0.000000</td>\n",
       "      <td>0.000000</td>\n",
       "      <td>...</td>\n",
       "      <td>0.0</td>\n",
       "      <td>0.0</td>\n",
       "      <td>0.0</td>\n",
       "      <td>0.0</td>\n",
       "      <td>0.0</td>\n",
       "      <td>0.0</td>\n",
       "      <td>0.0</td>\n",
       "      <td>0.0</td>\n",
       "      <td>0.0</td>\n",
       "      <td>0.0</td>\n",
       "    </tr>\n",
       "    <tr>\n",
       "      <th>ENSG00000091879</th>\n",
       "      <td>0.000000</td>\n",
       "      <td>0.011253</td>\n",
       "      <td>0.018172</td>\n",
       "      <td>0.014444</td>\n",
       "      <td>1.000000</td>\n",
       "      <td>0.090980</td>\n",
       "      <td>0.029294</td>\n",
       "      <td>0.007567</td>\n",
       "      <td>0.011896</td>\n",
       "      <td>0.017696</td>\n",
       "      <td>...</td>\n",
       "      <td>0.0</td>\n",
       "      <td>0.0</td>\n",
       "      <td>0.0</td>\n",
       "      <td>0.0</td>\n",
       "      <td>0.0</td>\n",
       "      <td>0.0</td>\n",
       "      <td>0.0</td>\n",
       "      <td>0.0</td>\n",
       "      <td>0.0</td>\n",
       "      <td>0.0</td>\n",
       "    </tr>\n",
       "  </tbody>\n",
       "</table>\n",
       "<p>5 rows × 222 columns</p>\n",
       "</div>"
      ],
      "text/plain": [
       "                 ENSG00000172748  ENSG00000182372  ENSG00000104728  \\\n",
       "ENSG00000172748         1.000000         0.008854         0.017059   \n",
       "ENSG00000182372         0.008854         1.000000         0.185009   \n",
       "ENSG00000104728         0.017059         0.185009         1.000000   \n",
       "ENSG00000036448         0.015724         0.014785         0.038948   \n",
       "ENSG00000091879         0.000000         0.011253         0.018172   \n",
       "\n",
       "                 ENSG00000036448  ENSG00000091879  ENSG00000155189  \\\n",
       "ENSG00000172748         0.015724         0.000000         0.000000   \n",
       "ENSG00000182372         0.014785         0.011253         0.007711   \n",
       "ENSG00000104728         0.038948         0.018172         0.021263   \n",
       "ENSG00000036448         1.000000         0.014444         0.013368   \n",
       "ENSG00000091879         0.014444         1.000000         0.090980   \n",
       "\n",
       "                 ENSG00000164821  ENSG00000253958  ENSG00000147324  \\\n",
       "ENSG00000172748         0.000000         0.000000         0.000000   \n",
       "ENSG00000182372         0.000000         0.000000         0.000000   \n",
       "ENSG00000104728         0.013428         0.000000         0.000000   \n",
       "ENSG00000036448         0.015180         0.000000         0.000000   \n",
       "ENSG00000091879         0.029294         0.007567         0.011896   \n",
       "\n",
       "                 ENSG00000173281  ...  ENSG00000071894  ENSG00000147804  \\\n",
       "ENSG00000172748         0.000000  ...              0.0              0.0   \n",
       "ENSG00000182372         0.000000  ...              0.0              0.0   \n",
       "ENSG00000104728         0.000000  ...              0.0              0.0   \n",
       "ENSG00000036448         0.000000  ...              0.0              0.0   \n",
       "ENSG00000091879         0.017696  ...              0.0              0.0   \n",
       "\n",
       "                 ENSG00000160948  ENSG00000160949  ENSG00000187954  \\\n",
       "ENSG00000172748              0.0              0.0              0.0   \n",
       "ENSG00000182372              0.0              0.0              0.0   \n",
       "ENSG00000104728              0.0              0.0              0.0   \n",
       "ENSG00000036448              0.0              0.0              0.0   \n",
       "ENSG00000091879              0.0              0.0              0.0   \n",
       "\n",
       "                 ENSG00000160972  ENSG00000167701  ENSG00000161016  \\\n",
       "ENSG00000172748              0.0              0.0              0.0   \n",
       "ENSG00000182372              0.0              0.0              0.0   \n",
       "ENSG00000104728              0.0              0.0              0.0   \n",
       "ENSG00000036448              0.0              0.0              0.0   \n",
       "ENSG00000091879              0.0              0.0              0.0   \n",
       "\n",
       "                 ENSG00000197363  ENSG00000196150  \n",
       "ENSG00000172748              0.0              0.0  \n",
       "ENSG00000182372              0.0              0.0  \n",
       "ENSG00000104728              0.0              0.0  \n",
       "ENSG00000036448              0.0              0.0  \n",
       "ENSG00000091879              0.0              0.0  \n",
       "\n",
       "[5 rows x 222 columns]"
      ]
     },
     "execution_count": 35,
     "metadata": {},
     "output_type": "execute_result"
    }
   ],
   "source": [
    "gene_corrs_df.head()"
   ]
  },
  {
   "cell_type": "markdown",
   "id": "dad6603f-01c6-41fb-a6f6-241051207dd8",
   "metadata": {
    "papermill": {
     "duration": 0.95755,
     "end_time": "2022-07-22T04:07:15.433766",
     "exception": false,
     "start_time": "2022-07-22T04:07:14.476216",
     "status": "completed"
    },
    "tags": []
   },
   "source": [
    "## Standard checks and stats"
   ]
  },
  {
   "cell_type": "code",
   "execution_count": 36,
   "id": "286686af-1b7b-4440-8453-6bdcbd8de19c",
   "metadata": {
    "execution": {
     "iopub.execute_input": "2022-07-22T04:07:17.324754Z",
     "iopub.status.busy": "2022-07-22T04:07:17.324582Z",
     "iopub.status.idle": "2022-07-22T04:07:17.340384Z",
     "shell.execute_reply": "2022-07-22T04:07:17.339904Z"
    },
    "papermill": {
     "duration": 0.979042,
     "end_time": "2022-07-22T04:07:17.341732",
     "exception": false,
     "start_time": "2022-07-22T04:07:16.362690",
     "status": "completed"
    },
    "tags": []
   },
   "outputs": [],
   "source": [
    "assert not gene_corrs_df.isna().any().any()"
   ]
  },
  {
   "cell_type": "code",
   "execution_count": 37,
   "id": "00583efc-7068-4270-ad1e-4a418e91db96",
   "metadata": {
    "execution": {
     "iopub.execute_input": "2022-07-22T04:07:19.228645Z",
     "iopub.status.busy": "2022-07-22T04:07:19.228335Z",
     "iopub.status.idle": "2022-07-22T04:07:19.245856Z",
     "shell.execute_reply": "2022-07-22T04:07:19.245389Z"
    },
    "papermill": {
     "duration": 0.962842,
     "end_time": "2022-07-22T04:07:19.247081",
     "exception": false,
     "start_time": "2022-07-22T04:07:18.284239",
     "status": "completed"
    },
    "tags": []
   },
   "outputs": [
    {
     "data": {
      "text/plain": [
       "0.0"
      ]
     },
     "metadata": {},
     "output_type": "display_data"
    }
   ],
   "source": [
    "_min_val = gene_corrs_df.min().min()\n",
    "display(_min_val)\n",
    "assert _min_val >= 0.0"
   ]
  },
  {
   "cell_type": "code",
   "execution_count": 38,
   "id": "d04fb2cf-1050-475b-b855-f5f7cc04092b",
   "metadata": {
    "execution": {
     "iopub.execute_input": "2022-07-22T04:07:21.152145Z",
     "iopub.status.busy": "2022-07-22T04:07:21.151979Z",
     "iopub.status.idle": "2022-07-22T04:07:21.168771Z",
     "shell.execute_reply": "2022-07-22T04:07:21.168305Z"
    },
    "papermill": {
     "duration": 1.000769,
     "end_time": "2022-07-22T04:07:21.169982",
     "exception": false,
     "start_time": "2022-07-22T04:07:20.169213",
     "status": "completed"
    },
    "tags": []
   },
   "outputs": [
    {
     "data": {
      "text/plain": [
       "1.0"
      ]
     },
     "metadata": {},
     "output_type": "display_data"
    }
   ],
   "source": [
    "_max_val = gene_corrs_df.max().max()  # this captures the diagonal\n",
    "display(_max_val)\n",
    "assert _max_val <= 1.0"
   ]
  },
  {
   "cell_type": "code",
   "execution_count": 39,
   "id": "96d02c44-1fba-47be-8a93-8f2608420b9c",
   "metadata": {
    "execution": {
     "iopub.execute_input": "2022-07-22T04:07:23.121609Z",
     "iopub.status.busy": "2022-07-22T04:07:23.121423Z",
     "iopub.status.idle": "2022-07-22T04:07:23.137402Z",
     "shell.execute_reply": "2022-07-22T04:07:23.136993Z"
    },
    "papermill": {
     "duration": 0.992801,
     "end_time": "2022-07-22T04:07:23.138719",
     "exception": false,
     "start_time": "2022-07-22T04:07:22.145918",
     "status": "completed"
    },
    "tags": []
   },
   "outputs": [],
   "source": [
    "# check upper triangular values\n",
    "assert len(gene_corrs) == int(genes_chr.shape[0] * (genes_chr.shape[0] - 1) / 2)"
   ]
  },
  {
   "cell_type": "code",
   "execution_count": 40,
   "id": "fe283586-c348-40e0-8841-f6d97bfb021c",
   "metadata": {
    "execution": {
     "iopub.execute_input": "2022-07-22T04:07:25.017537Z",
     "iopub.status.busy": "2022-07-22T04:07:25.017309Z",
     "iopub.status.idle": "2022-07-22T04:07:25.037024Z",
     "shell.execute_reply": "2022-07-22T04:07:25.036551Z"
    },
    "papermill": {
     "duration": 0.944308,
     "end_time": "2022-07-22T04:07:25.038299",
     "exception": false,
     "start_time": "2022-07-22T04:07:24.093991",
     "status": "completed"
    },
    "tags": []
   },
   "outputs": [
    {
     "data": {
      "text/plain": [
       "count    24531.000000\n",
       "mean         0.002555\n",
       "std          0.023897\n",
       "min          0.000000\n",
       "25%          0.000000\n",
       "50%          0.000000\n",
       "75%          0.000000\n",
       "max          0.758006\n",
       "dtype: float64"
      ]
     },
     "execution_count": 40,
     "metadata": {},
     "output_type": "execute_result"
    }
   ],
   "source": [
    "gene_corrs_flat.describe()"
   ]
  },
  {
   "cell_type": "code",
   "execution_count": 41,
   "id": "b3815678-0f93-4b35-897b-a9d047a2aa78",
   "metadata": {
    "execution": {
     "iopub.execute_input": "2022-07-22T04:07:26.912801Z",
     "iopub.status.busy": "2022-07-22T04:07:26.912582Z",
     "iopub.status.idle": "2022-07-22T04:07:26.932276Z",
     "shell.execute_reply": "2022-07-22T04:07:26.931760Z"
    },
    "papermill": {
     "duration": 0.952634,
     "end_time": "2022-07-22T04:07:26.933526",
     "exception": false,
     "start_time": "2022-07-22T04:07:25.980892",
     "status": "completed"
    },
    "tags": []
   },
   "outputs": [
    {
     "data": {
      "text/plain": [
       "0.00    0.000000\n",
       "0.05    0.000000\n",
       "0.10    0.000000\n",
       "0.15    0.000000\n",
       "0.20    0.000000\n",
       "0.25    0.000000\n",
       "0.30    0.000000\n",
       "0.35    0.000000\n",
       "0.40    0.000000\n",
       "0.45    0.000000\n",
       "0.50    0.000000\n",
       "0.55    0.000000\n",
       "0.60    0.000000\n",
       "0.65    0.000000\n",
       "0.70    0.000000\n",
       "0.75    0.000000\n",
       "0.80    0.000000\n",
       "0.85    0.000000\n",
       "0.90    0.000000\n",
       "0.95    0.009009\n",
       "dtype: float64"
      ]
     },
     "metadata": {},
     "output_type": "display_data"
    }
   ],
   "source": [
    "gene_corrs_quantiles = gene_corrs_flat.quantile(np.arange(0, 1, 0.05))\n",
    "display(gene_corrs_quantiles)"
   ]
  },
  {
   "cell_type": "markdown",
   "id": "87134509-b145-4a10-8bc9-b7e914c2b0fa",
   "metadata": {
    "papermill": {
     "duration": 0.936826,
     "end_time": "2022-07-22T04:07:28.799765",
     "exception": false,
     "start_time": "2022-07-22T04:07:27.862939",
     "status": "completed"
    },
    "tags": []
   },
   "source": [
    "## Positive definiteness"
   ]
  },
  {
   "cell_type": "code",
   "execution_count": 42,
   "id": "07d9a9a1-a4f7-48aa-b916-6d42a8cc6186",
   "metadata": {
    "execution": {
     "iopub.execute_input": "2022-07-22T04:07:30.668129Z",
     "iopub.status.busy": "2022-07-22T04:07:30.667841Z",
     "iopub.status.idle": "2022-07-22T04:07:30.696539Z",
     "shell.execute_reply": "2022-07-22T04:07:30.696142Z"
    },
    "papermill": {
     "duration": 0.979701,
     "end_time": "2022-07-22T04:07:30.697699",
     "exception": false,
     "start_time": "2022-07-22T04:07:29.717998",
     "status": "completed"
    },
    "tags": []
   },
   "outputs": [
    {
     "data": {
      "text/plain": [
       "0"
      ]
     },
     "metadata": {},
     "output_type": "display_data"
    },
    {
     "data": {
      "text/plain": [
       "array([], dtype=float64)"
      ]
     },
     "metadata": {},
     "output_type": "display_data"
    }
   ],
   "source": [
    "# print negative eigenvalues\n",
    "eigs = np.linalg.eigvals(gene_corrs_df.to_numpy())\n",
    "display(len(eigs[eigs < 0]))\n",
    "display(eigs[eigs < 0])"
   ]
  },
  {
   "cell_type": "code",
   "execution_count": 43,
   "id": "6e218436-c3c5-4028-8c94-a4fa6260efce",
   "metadata": {
    "execution": {
     "iopub.execute_input": "2022-07-22T04:07:32.666671Z",
     "iopub.status.busy": "2022-07-22T04:07:32.666257Z",
     "iopub.status.idle": "2022-07-22T04:07:32.728007Z",
     "shell.execute_reply": "2022-07-22T04:07:32.727610Z"
    },
    "papermill": {
     "duration": 1.051845,
     "end_time": "2022-07-22T04:07:32.729280",
     "exception": false,
     "start_time": "2022-07-22T04:07:31.677435",
     "status": "completed"
    },
    "tags": []
   },
   "outputs": [
    {
     "name": "stdout",
     "output_type": "stream",
     "text": [
      "Works!\n"
     ]
    }
   ],
   "source": [
    "try:\n",
    "    chol_mat = np.linalg.cholesky(gene_corrs_df.to_numpy())\n",
    "    cov_inv = np.linalg.inv(chol_mat)\n",
    "    print(\"Works!\")\n",
    "except:\n",
    "    print(\"Cholesky decomposition failed\")"
   ]
  },
  {
   "cell_type": "markdown",
   "id": "8e60a080-edb2-4e9c-b2ef-22961693200c",
   "metadata": {
    "papermill": {
     "duration": 0.931169,
     "end_time": "2022-07-22T04:07:34.607456",
     "exception": false,
     "start_time": "2022-07-22T04:07:33.676287",
     "status": "completed"
    },
    "tags": []
   },
   "source": [
    "## Plot: distribution"
   ]
  },
  {
   "cell_type": "code",
   "execution_count": 44,
   "id": "8301126b-a7d4-4744-9c7d-f0f86eb6f54c",
   "metadata": {
    "execution": {
     "iopub.execute_input": "2022-07-22T04:07:36.525803Z",
     "iopub.status.busy": "2022-07-22T04:07:36.525628Z",
     "iopub.status.idle": "2022-07-22T04:07:36.840263Z",
     "shell.execute_reply": "2022-07-22T04:07:36.839740Z"
    },
    "papermill": {
     "duration": 1.269363,
     "end_time": "2022-07-22T04:07:36.841574",
     "exception": false,
     "start_time": "2022-07-22T04:07:35.572211",
     "status": "completed"
    },
    "tags": []
   },
   "outputs": [
    {
     "data": {
      "image/png": "[encoded data removed]",
      "text/plain": [
       "<Figure size 504x504 with 1 Axes>"
      ]
     },
     "metadata": {
      "needs_background": "light"
     },
     "output_type": "display_data"
    }
   ],
   "source": [
    "with sns.plotting_context(\"paper\", font_scale=1.5):\n",
    "    g = sns.displot(gene_corrs_flat, kde=True, height=7)\n",
    "    g.ax.set_title(\n",
    "        f\"Distribution of gene correlation values in chromosome {CHROMOSOME}\"\n",
    "    )"
   ]
  },
  {
   "cell_type": "markdown",
   "id": "cbd52bca-d878-4a2f-b684-5c83aa3038d4",
   "metadata": {
    "papermill": {
     "duration": 0.935549,
     "end_time": "2022-07-22T04:07:38.733256",
     "exception": false,
     "start_time": "2022-07-22T04:07:37.797707",
     "status": "completed"
    },
    "tags": []
   },
   "source": [
    "## Plot: heatmap"
   ]
  },
  {
   "cell_type": "code",
   "execution_count": 45,
   "id": "d03fe63a-c7b2-4fb9-a53c-db362ce843c9",
   "metadata": {
    "execution": {
     "iopub.execute_input": "2022-07-22T04:07:40.622647Z",
     "iopub.status.busy": "2022-07-22T04:07:40.622473Z",
     "iopub.status.idle": "2022-07-22T04:07:40.639186Z",
     "shell.execute_reply": "2022-07-22T04:07:40.638721Z"
    },
    "papermill": {
     "duration": 0.968896,
     "end_time": "2022-07-22T04:07:40.640466",
     "exception": false,
     "start_time": "2022-07-22T04:07:39.671570",
     "status": "completed"
    },
    "tags": []
   },
   "outputs": [
    {
     "data": {
      "text/plain": [
       "'0.0 / 0.05'"
      ]
     },
     "metadata": {},
     "output_type": "display_data"
    }
   ],
   "source": [
    "vmin_val = min(0.00, gene_corrs_quantiles[0.10])\n",
    "vmax_val = max(0.05, gene_corrs_quantiles[0.90])\n",
    "display(f\"{vmin_val} / {vmax_val}\")"
   ]
  },
  {
   "cell_type": "code",
   "execution_count": 46,
   "id": "dc41b70b-5bcc-4d9e-9f33-a22c4a94dab5",
   "metadata": {
    "execution": {
     "iopub.execute_input": "2022-07-22T04:07:42.503001Z",
     "iopub.status.busy": "2022-07-22T04:07:42.502792Z",
     "iopub.status.idle": "2022-07-22T04:07:42.681174Z",
     "shell.execute_reply": "2022-07-22T04:07:42.680584Z"
    },
    "papermill": {
     "duration": 1.112491,
     "end_time": "2022-07-22T04:07:42.682436",
     "exception": false,
     "start_time": "2022-07-22T04:07:41.569945",
     "status": "completed"
    },
    "tags": []
   },
   "outputs": [
    {
     "data": {
      "text/plain": [
       "Text(0.5, 1.0, 'Gene correlations in chromosome 8')"
      ]
     },
     "execution_count": 46,
     "metadata": {},
     "output_type": "execute_result"
    },
    {
     "data": {
      "image/png": "[encoded data removed]",
      "text/plain": [
       "<Figure size 720x720 with 2 Axes>"
      ]
     },
     "metadata": {
      "needs_background": "light"
     },
     "output_type": "display_data"
    }
   ],
   "source": [
    "f, ax = plt.subplots(figsize=(10, 10))\n",
    "sns.heatmap(\n",
    "    gene_corrs_df,\n",
    "    xticklabels=False,\n",
    "    yticklabels=False,\n",
    "    square=True,\n",
    "    vmin=vmin_val,\n",
    "    vmax=vmax_val,\n",
    "    cmap=\"rocket_r\",\n",
    "    ax=ax,\n",
    ")\n",
    "ax.set_title(f\"Gene correlations in chromosome {CHROMOSOME}\")"
   ]
  },
  {
   "cell_type": "code",
   "execution_count": null,
   "id": "b25e3ead",
   "metadata": {
    "papermill": {
     "duration": 0.918542,
     "end_time": "2022-07-22T04:07:44.539888",
     "exception": false,
     "start_time": "2022-07-22T04:07:43.621346",
     "status": "completed"
    },
    "tags": []
   },
   "outputs": [],
   "source": []
  }
 ],
 "metadata": {
  "jupytext": {
   "cell_metadata_filter": "all,-execution,-papermill,-trusted",
   "formats": "ipynb,py//py:percent"
  },
  "kernelspec": {
   "display_name": "Python 3 (ipykernel)",
   "language": "python",
   "name": "python3"
  },
  "language_info": {
   "codemirror_mode": {
    "name": "ipython",
    "version": 3
   },
   "file_extension": ".py",
   "mimetype": "text/x-python",
   "name": "python",
   "nbconvert_exporter": "python",
   "pygments_lexer": "ipython3",
   "version": "3.8.13"
  },
  "papermill": {
   "default_parameters": {},
   "duration": 308.02455,
   "end_time": "2022-07-22T04:07:48.457013",
   "environment_variables": {},
   "exception": null,
   "input_path": "nbs/15_gsa_gls/10-gene_expr_correlations.ipynb",
   "output_path": "nbs/15_gsa_gls/gene_corrs/cohorts/1000g_eur/1000g/mashr/10-gene_expr_correlations-chr8.run.ipynb",
   "parameters": {
    "CHROMOSOME": 8,
    "COHORT_NAME": "1000G_EUR",
    "EQTL_MODEL": "MASHR",
    "REFERENCE_PANEL": "1000G"
   },
   "start_time": "2022-07-22T04:02:40.432463",
   "version": "2.2.2"
  }
 },
 "nbformat": 4,
 "nbformat_minor": 5
}
