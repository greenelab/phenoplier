{
 "cells": [
  {
   "cell_type": "markdown",
   "id": "7a6632fb",
   "metadata": {
    "papermill": {
     "duration": 0.025359,
     "end_time": "2022-07-22T03:32:36.957662",
     "exception": false,
     "start_time": "2022-07-22T03:32:36.932303",
     "status": "completed"
    },
    "tags": []
   },
   "source": [
    "# Description"
   ]
  },
  {
   "cell_type": "markdown",
   "id": "7097c346",
   "metadata": {
    "papermill": {
     "duration": 0.022595,
     "end_time": "2022-07-22T03:32:37.003348",
     "exception": false,
     "start_time": "2022-07-22T03:32:36.980753",
     "status": "completed"
    },
    "tags": []
   },
   "source": [
    "(Please, take a look at the README.md file in this directory for instructions on how to run this notebook)\n",
    "\n",
    "This notebook computes predicted expression correlations between all genes in the MultiPLIER models.\n",
    "\n",
    "It also has a parameter set for papermill to run on a single chromosome to run in parallel (see under `Settings` below).\n",
    "\n",
    "This notebook is not directly run. See README.md."
   ]
  },
  {
   "cell_type": "markdown",
   "id": "c61d8427",
   "metadata": {
    "papermill": {
     "duration": 0.019073,
     "end_time": "2022-07-22T03:32:37.045475",
     "exception": false,
     "start_time": "2022-07-22T03:32:37.026402",
     "status": "completed"
    },
    "tags": []
   },
   "source": [
    "# Modules"
   ]
  },
  {
   "cell_type": "code",
   "execution_count": 1,
   "id": "bbc0234f",
   "metadata": {
    "execution": {
     "iopub.execute_input": "2022-07-22T03:32:37.067211Z",
     "iopub.status.busy": "2022-07-22T03:32:37.066966Z",
     "iopub.status.idle": "2022-07-22T03:32:37.083508Z",
     "shell.execute_reply": "2022-07-22T03:32:37.083068Z"
    },
    "papermill": {
     "duration": 0.028183,
     "end_time": "2022-07-22T03:32:37.084951",
     "exception": false,
     "start_time": "2022-07-22T03:32:37.056768",
     "status": "completed"
    },
    "tags": []
   },
   "outputs": [],
   "source": [
    "%load_ext autoreload\n",
    "%autoreload 2"
   ]
  },
  {
   "cell_type": "code",
   "execution_count": 2,
   "id": "1d5f5a59",
   "metadata": {
    "execution": {
     "iopub.execute_input": "2022-07-22T03:32:37.129601Z",
     "iopub.status.busy": "2022-07-22T03:32:37.129026Z",
     "iopub.status.idle": "2022-07-22T03:32:38.139503Z",
     "shell.execute_reply": "2022-07-22T03:32:38.138973Z"
    },
    "papermill": {
     "duration": 1.023598,
     "end_time": "2022-07-22T03:32:38.144821",
     "exception": false,
     "start_time": "2022-07-22T03:32:37.121223",
     "status": "completed"
    },
    "tags": []
   },
   "outputs": [],
   "source": [
    "from random import sample, seed\n",
    "import warnings\n",
    "from pathlib import Path\n",
    "import pickle\n",
    "import traceback\n",
    "\n",
    "import numpy as np\n",
    "from scipy.spatial.distance import squareform\n",
    "import pandas as pd\n",
    "from tqdm import tqdm\n",
    "import matplotlib.pyplot as plt\n",
    "import seaborn as sns\n",
    "\n",
    "import conf\n",
    "from entity import Gene"
   ]
  },
  {
   "cell_type": "markdown",
   "id": "1eac24b5",
   "metadata": {
    "papermill": {
     "duration": 0.006511,
     "end_time": "2022-07-22T03:32:38.158029",
     "exception": false,
     "start_time": "2022-07-22T03:32:38.151518",
     "status": "completed"
    },
    "tags": []
   },
   "source": [
    "# Settings"
   ]
  },
  {
   "cell_type": "code",
   "execution_count": 3,
   "id": "ca4560ba",
   "metadata": {
    "execution": {
     "iopub.execute_input": "2022-07-22T03:32:38.172724Z",
     "iopub.status.busy": "2022-07-22T03:32:38.172493Z",
     "iopub.status.idle": "2022-07-22T03:32:38.191803Z",
     "shell.execute_reply": "2022-07-22T03:32:38.191297Z"
    },
    "papermill": {
     "duration": 0.02858,
     "end_time": "2022-07-22T03:32:38.193369",
     "exception": false,
     "start_time": "2022-07-22T03:32:38.164789",
     "status": "completed"
    },
    "tags": [
     "parameters"
    ]
   },
   "outputs": [],
   "source": [
    "# a cohort name (it could be something like UK_BIOBANK, etc)\n",
    "COHORT_NAME = None\n",
    "\n",
    "# reference panel such as 1000G or GTEX_V8\n",
    "REFERENCE_PANEL = None\n",
    "\n",
    "# predictions models such as MASHR or ELASTIC_NET\n",
    "EQTL_MODEL = None\n",
    "\n",
    "# this is the default value used in S-MultiXcan to select the\n",
    "# top principal components of the expression correlation matrix\n",
    "SMULTIXCAN_CONDITION_NUMBER = 30\n",
    "\n",
    "# specifies a single chromosome value\n",
    "CHROMOSOME = None\n",
    "\n",
    "# if True, then it will continue if a gene pair correlation fails,\n",
    "# printing the warning/error for debugging. If False, any warning/error\n",
    "# will be thrown\n",
    "# FIXME: make it False when all is working\n",
    "DEBUG_MODE = True"
   ]
  },
  {
   "cell_type": "code",
   "execution_count": 4,
   "id": "b573a47b",
   "metadata": {
    "execution": {
     "iopub.execute_input": "2022-07-22T03:32:38.208729Z",
     "iopub.status.busy": "2022-07-22T03:32:38.208536Z",
     "iopub.status.idle": "2022-07-22T03:32:38.225048Z",
     "shell.execute_reply": "2022-07-22T03:32:38.224476Z"
    },
    "papermill": {
     "duration": 0.026077,
     "end_time": "2022-07-22T03:32:38.226599",
     "exception": false,
     "start_time": "2022-07-22T03:32:38.200522",
     "status": "completed"
    },
    "tags": [
     "injected-parameters"
    ]
   },
   "outputs": [],
   "source": [
    "# Parameters\n",
    "COHORT_NAME = \"1000G_EUR\"\n",
    "REFERENCE_PANEL = \"1000G\"\n",
    "EQTL_MODEL = \"MASHR\"\n",
    "CHROMOSOME = 1\n"
   ]
  },
  {
   "cell_type": "code",
   "execution_count": 5,
   "id": "3190631f-27fc-480f-b18e-571d580425a5",
   "metadata": {
    "execution": {
     "iopub.execute_input": "2022-07-22T03:32:38.242293Z",
     "iopub.status.busy": "2022-07-22T03:32:38.241877Z",
     "iopub.status.idle": "2022-07-22T03:32:38.259563Z",
     "shell.execute_reply": "2022-07-22T03:32:38.259059Z"
    },
    "papermill": {
     "duration": 0.027331,
     "end_time": "2022-07-22T03:32:38.261038",
     "exception": false,
     "start_time": "2022-07-22T03:32:38.233707",
     "status": "completed"
    },
    "tags": []
   },
   "outputs": [
    {
     "data": {
      "text/plain": [
       "'Cohort name: 1000g_eur'"
      ]
     },
     "metadata": {},
     "output_type": "display_data"
    }
   ],
   "source": [
    "assert COHORT_NAME is not None or len(COHORT_NAME) == 0, \"A cohort name must be given\"\n",
    "\n",
    "COHORT_NAME = COHORT_NAME.lower()\n",
    "display(f\"Cohort name: {COHORT_NAME}\")"
   ]
  },
  {
   "cell_type": "code",
   "execution_count": 6,
   "id": "f53ba19b-0f93-4fa2-a047-63b375939d1a",
   "metadata": {
    "execution": {
     "iopub.execute_input": "2022-07-22T03:32:38.275826Z",
     "iopub.status.busy": "2022-07-22T03:32:38.275471Z",
     "iopub.status.idle": "2022-07-22T03:32:38.292583Z",
     "shell.execute_reply": "2022-07-22T03:32:38.292058Z"
    },
    "papermill": {
     "duration": 0.026078,
     "end_time": "2022-07-22T03:32:38.294060",
     "exception": false,
     "start_time": "2022-07-22T03:32:38.267982",
     "status": "completed"
    },
    "tags": []
   },
   "outputs": [
    {
     "data": {
      "text/plain": [
       "'Reference panel: 1000G'"
      ]
     },
     "metadata": {},
     "output_type": "display_data"
    }
   ],
   "source": [
    "assert (\n",
    "    REFERENCE_PANEL is not None or len(REFERENCE_PANEL) == 0\n",
    "), \"A reference panel must be given\"\n",
    "\n",
    "display(f\"Reference panel: {REFERENCE_PANEL}\")"
   ]
  },
  {
   "cell_type": "code",
   "execution_count": 7,
   "id": "e024d130-c139-429a-9c6e-ccf149e297b0",
   "metadata": {
    "execution": {
     "iopub.execute_input": "2022-07-22T03:32:38.308329Z",
     "iopub.status.busy": "2022-07-22T03:32:38.308143Z",
     "iopub.status.idle": "2022-07-22T03:32:38.327176Z",
     "shell.execute_reply": "2022-07-22T03:32:38.326639Z"
    },
    "papermill": {
     "duration": 0.02777,
     "end_time": "2022-07-22T03:32:38.328613",
     "exception": false,
     "start_time": "2022-07-22T03:32:38.300843",
     "status": "completed"
    },
    "tags": []
   },
   "outputs": [
    {
     "data": {
      "text/plain": [
       "'eQTL model: MASHR) / mashr_'"
      ]
     },
     "metadata": {},
     "output_type": "display_data"
    }
   ],
   "source": [
    "assert (\n",
    "    EQTL_MODEL is not None or len(EQTL_MODEL) == 0\n",
    "), \"A prediction/eQTL model must be given\"\n",
    "\n",
    "EQTL_MODEL_FILES_PREFIX = conf.PHENOMEXCAN[\"PREDICTION_MODELS\"][f\"{EQTL_MODEL}_PREFIX\"]\n",
    "display(f\"eQTL model: {EQTL_MODEL}) / {EQTL_MODEL_FILES_PREFIX}\")"
   ]
  },
  {
   "cell_type": "code",
   "execution_count": 8,
   "id": "552a7f63-a18c-4d3e-bb6a-94f99b431291",
   "metadata": {
    "execution": {
     "iopub.execute_input": "2022-07-22T03:32:38.343188Z",
     "iopub.status.busy": "2022-07-22T03:32:38.342974Z",
     "iopub.status.idle": "2022-07-22T03:32:38.362127Z",
     "shell.execute_reply": "2022-07-22T03:32:38.361162Z"
    },
    "papermill": {
     "duration": 0.027972,
     "end_time": "2022-07-22T03:32:38.363509",
     "exception": false,
     "start_time": "2022-07-22T03:32:38.335537",
     "status": "completed"
    },
    "tags": []
   },
   "outputs": [
    {
     "data": {
      "text/plain": [
       "'S-MultiXcan condition number: 30'"
      ]
     },
     "metadata": {},
     "output_type": "display_data"
    }
   ],
   "source": [
    "assert (\n",
    "    SMULTIXCAN_CONDITION_NUMBER is not None or SMULTIXCAN_CONDITION_NUMBER > 0\n",
    "), \"The S-MultiXcan condition number (positive integer) must be given\"\n",
    "\n",
    "display(f\"S-MultiXcan condition number: {SMULTIXCAN_CONDITION_NUMBER}\")"
   ]
  },
  {
   "cell_type": "code",
   "execution_count": 9,
   "id": "f34a336f-548e-4afe-8955-90eaea4f42c6",
   "metadata": {
    "execution": {
     "iopub.execute_input": "2022-07-22T03:32:38.378554Z",
     "iopub.status.busy": "2022-07-22T03:32:38.378371Z",
     "iopub.status.idle": "2022-07-22T03:32:38.397169Z",
     "shell.execute_reply": "2022-07-22T03:32:38.395662Z"
    },
    "papermill": {
     "duration": 0.027919,
     "end_time": "2022-07-22T03:32:38.398654",
     "exception": false,
     "start_time": "2022-07-22T03:32:38.370735",
     "status": "completed"
    },
    "tags": []
   },
   "outputs": [
    {
     "data": {
      "text/plain": [
       "'Working on chromosome 1'"
      ]
     },
     "metadata": {},
     "output_type": "display_data"
    }
   ],
   "source": [
    "assert CHROMOSOME is not None and (\n",
    "    1 <= CHROMOSOME <= 22\n",
    "), \"You have to select one chromosome (format: number between 1 and 22)\"\n",
    "\n",
    "CHROMOSOME = str(CHROMOSOME)\n",
    "display(f\"Working on chromosome {CHROMOSOME}\")"
   ]
  },
  {
   "cell_type": "code",
   "execution_count": 10,
   "id": "ab8e96e8-06b5-4363-9dcd-dc4d78cc27f7",
   "metadata": {
    "execution": {
     "iopub.execute_input": "2022-07-22T03:32:38.414030Z",
     "iopub.status.busy": "2022-07-22T03:32:38.413851Z",
     "iopub.status.idle": "2022-07-22T03:32:38.430280Z",
     "shell.execute_reply": "2022-07-22T03:32:38.429711Z"
    },
    "papermill": {
     "duration": 0.025583,
     "end_time": "2022-07-22T03:32:38.431680",
     "exception": false,
     "start_time": "2022-07-22T03:32:38.406097",
     "status": "completed"
    },
    "tags": []
   },
   "outputs": [
    {
     "data": {
      "text/plain": [
       "'Compute correlation within distance True'"
      ]
     },
     "metadata": {},
     "output_type": "display_data"
    }
   ],
   "source": [
    "# TODO: see if this is necessary; if so, make it a parameter with default value True\n",
    "# This parameter, if True, computes the correlation between closeby genes only\n",
    "\n",
    "COMPUTE_CORRELATIONS_WITHIN_DISTANCE = True\n",
    "display(f\"Compute correlation within distance {COMPUTE_CORRELATIONS_WITHIN_DISTANCE}\")"
   ]
  },
  {
   "cell_type": "code",
   "execution_count": 11,
   "id": "396392dc-0340-4540-9b02-e182b833f909",
   "metadata": {
    "execution": {
     "iopub.execute_input": "2022-07-22T03:32:38.447408Z",
     "iopub.status.busy": "2022-07-22T03:32:38.447172Z",
     "iopub.status.idle": "2022-07-22T03:32:38.476424Z",
     "shell.execute_reply": "2022-07-22T03:32:38.475925Z"
    },
    "papermill": {
     "duration": 0.042091,
     "end_time": "2022-07-22T03:32:38.481191",
     "exception": false,
     "start_time": "2022-07-22T03:32:38.439100",
     "status": "completed"
    },
    "tags": []
   },
   "outputs": [
    {
     "data": {
      "text/plain": [
       "'Using output dir base: /opt/data/results/gls/gene_corrs/cohorts/1000g_eur/1000g/mashr'"
      ]
     },
     "metadata": {},
     "output_type": "display_data"
    }
   ],
   "source": [
    "OUTPUT_DIR_BASE = (\n",
    "    conf.RESULTS[\"GLS\"]\n",
    "    / \"gene_corrs\"\n",
    "    / \"cohorts\"\n",
    "    / COHORT_NAME\n",
    "    / REFERENCE_PANEL.lower()\n",
    "    / EQTL_MODEL.lower()\n",
    ")\n",
    "OUTPUT_DIR_BASE.mkdir(parents=True, exist_ok=True)\n",
    "\n",
    "display(f\"Using output dir base: {OUTPUT_DIR_BASE}\")"
   ]
  },
  {
   "cell_type": "code",
   "execution_count": 12,
   "id": "974b4bb1-aa98-4e30-b221-7cd034ad3833",
   "metadata": {
    "execution": {
     "iopub.execute_input": "2022-07-22T03:32:38.509767Z",
     "iopub.status.busy": "2022-07-22T03:32:38.509577Z",
     "iopub.status.idle": "2022-07-22T03:32:38.528595Z",
     "shell.execute_reply": "2022-07-22T03:32:38.527795Z"
    },
    "papermill": {
     "duration": 0.029552,
     "end_time": "2022-07-22T03:32:38.530307",
     "exception": false,
     "start_time": "2022-07-22T03:32:38.500755",
     "status": "completed"
    },
    "tags": []
   },
   "outputs": [
    {
     "data": {
      "text/plain": [
       "PosixPath('/opt/data/results/gls/gene_corrs/cohorts/1000g_eur')"
      ]
     },
     "metadata": {},
     "output_type": "display_data"
    }
   ],
   "source": [
    "INPUT_DIR = conf.RESULTS[\"GLS\"] / \"gene_corrs\" / \"cohorts\" / COHORT_NAME\n",
    "assert INPUT_DIR.exists()\n",
    "\n",
    "display(INPUT_DIR)"
   ]
  },
  {
   "cell_type": "markdown",
   "id": "d2ba085e",
   "metadata": {
    "papermill": {
     "duration": 0.00718,
     "end_time": "2022-07-22T03:32:38.545332",
     "exception": false,
     "start_time": "2022-07-22T03:32:38.538152",
     "status": "completed"
    },
    "tags": []
   },
   "source": [
    "# Load data"
   ]
  },
  {
   "cell_type": "markdown",
   "id": "7dcb8db7",
   "metadata": {
    "papermill": {
     "duration": 0.006865,
     "end_time": "2022-07-22T03:32:38.559413",
     "exception": false,
     "start_time": "2022-07-22T03:32:38.552548",
     "status": "completed"
    },
    "tags": []
   },
   "source": [
    "## GWAS variants"
   ]
  },
  {
   "cell_type": "code",
   "execution_count": 13,
   "id": "29434c4e-8cd3-4b9b-82e4-b5a251d9dd19",
   "metadata": {
    "execution": {
     "iopub.execute_input": "2022-07-22T03:32:38.574543Z",
     "iopub.status.busy": "2022-07-22T03:32:38.574332Z",
     "iopub.status.idle": "2022-07-22T03:32:41.391023Z",
     "shell.execute_reply": "2022-07-22T03:32:41.390159Z"
    },
    "papermill": {
     "duration": 2.826949,
     "end_time": "2022-07-22T03:32:41.393462",
     "exception": false,
     "start_time": "2022-07-22T03:32:38.566513",
     "status": "completed"
    },
    "tags": []
   },
   "outputs": [],
   "source": [
    "with open(INPUT_DIR / \"gwas_variant_ids.pkl\", \"rb\") as handle:\n",
    "    gwas_variants_ids_set = pickle.load(handle)"
   ]
  },
  {
   "cell_type": "code",
   "execution_count": 14,
   "id": "b9d9dec2-4a76-4bf9-bde2-e24c95acb8a0",
   "metadata": {
    "execution": {
     "iopub.execute_input": "2022-07-22T03:32:41.414201Z",
     "iopub.status.busy": "2022-07-22T03:32:41.413966Z",
     "iopub.status.idle": "2022-07-22T03:32:41.432997Z",
     "shell.execute_reply": "2022-07-22T03:32:41.432427Z"
    },
    "papermill": {
     "duration": 0.030597,
     "end_time": "2022-07-22T03:32:41.434446",
     "exception": false,
     "start_time": "2022-07-22T03:32:41.403849",
     "status": "completed"
    },
    "tags": []
   },
   "outputs": [
    {
     "data": {
      "text/plain": [
       "8339505"
      ]
     },
     "execution_count": 14,
     "metadata": {},
     "output_type": "execute_result"
    }
   ],
   "source": [
    "len(gwas_variants_ids_set)"
   ]
  },
  {
   "cell_type": "code",
   "execution_count": 15,
   "id": "4235b06a-6034-4ee4-a0a3-2ae35d122418",
   "metadata": {
    "execution": {
     "iopub.execute_input": "2022-07-22T03:32:41.451975Z",
     "iopub.status.busy": "2022-07-22T03:32:41.451531Z",
     "iopub.status.idle": "2022-07-22T03:32:42.325007Z",
     "shell.execute_reply": "2022-07-22T03:32:42.324090Z"
    },
    "papermill": {
     "duration": 0.884676,
     "end_time": "2022-07-22T03:32:42.327354",
     "exception": false,
     "start_time": "2022-07-22T03:32:41.442678",
     "status": "completed"
    },
    "tags": []
   },
   "outputs": [
    {
     "data": {
      "text/plain": [
       "['chr1_49897760_T_C_b38',\n",
       " 'chr11_126865456_C_A_b38',\n",
       " 'chr15_55719171_G_A_b38',\n",
       " 'chr6_21379274_C_T_b38',\n",
       " 'chr11_93759066_G_A_b38']"
      ]
     },
     "execution_count": 15,
     "metadata": {},
     "output_type": "execute_result"
    }
   ],
   "source": [
    "list(gwas_variants_ids_set)[:5]"
   ]
  },
  {
   "cell_type": "markdown",
   "id": "07866999-2305-41f9-a144-e69c9122c212",
   "metadata": {
    "papermill": {
     "duration": 0.010134,
     "end_time": "2022-07-22T03:32:42.349913",
     "exception": false,
     "start_time": "2022-07-22T03:32:42.339779",
     "status": "completed"
    },
    "tags": []
   },
   "source": [
    "## S-PrediXcan tissue models"
   ]
  },
  {
   "cell_type": "code",
   "execution_count": 16,
   "id": "780611d9-77c8-405f-90a4-f271f7b09397",
   "metadata": {
    "execution": {
     "iopub.execute_input": "2022-07-22T03:32:42.368338Z",
     "iopub.status.busy": "2022-07-22T03:32:42.367971Z",
     "iopub.status.idle": "2022-07-22T03:32:43.767336Z",
     "shell.execute_reply": "2022-07-22T03:32:43.766711Z"
    },
    "papermill": {
     "duration": 1.410236,
     "end_time": "2022-07-22T03:32:43.768842",
     "exception": false,
     "start_time": "2022-07-22T03:32:42.358606",
     "status": "completed"
    },
    "tags": []
   },
   "outputs": [],
   "source": [
    "spredixcan_genes_models = pd.read_pickle(INPUT_DIR / \"gene_tissues.pkl\").set_index(\n",
    "    \"gene_id\"\n",
    ")"
   ]
  },
  {
   "cell_type": "code",
   "execution_count": 17,
   "id": "726dd1f6-9557-4225-91fa-b3b879ea96e1",
   "metadata": {
    "execution": {
     "iopub.execute_input": "2022-07-22T03:32:43.786868Z",
     "iopub.status.busy": "2022-07-22T03:32:43.786519Z",
     "iopub.status.idle": "2022-07-22T03:32:43.805322Z",
     "shell.execute_reply": "2022-07-22T03:32:43.804754Z"
    },
    "papermill": {
     "duration": 0.029269,
     "end_time": "2022-07-22T03:32:43.806683",
     "exception": false,
     "start_time": "2022-07-22T03:32:43.777414",
     "status": "completed"
    },
    "tags": []
   },
   "outputs": [
    {
     "data": {
      "text/plain": [
       "(22314, 2)"
      ]
     },
     "execution_count": 17,
     "metadata": {},
     "output_type": "execute_result"
    }
   ],
   "source": [
    "spredixcan_genes_models.shape"
   ]
  },
  {
   "cell_type": "code",
   "execution_count": 18,
   "id": "944a1b48-222c-4eb0-b252-b9de2cbca215",
   "metadata": {
    "execution": {
     "iopub.execute_input": "2022-07-22T03:32:43.829841Z",
     "iopub.status.busy": "2022-07-22T03:32:43.829660Z",
     "iopub.status.idle": "2022-07-22T03:32:43.852421Z",
     "shell.execute_reply": "2022-07-22T03:32:43.851988Z"
    },
    "papermill": {
     "duration": 0.0325,
     "end_time": "2022-07-22T03:32:43.853807",
     "exception": false,
     "start_time": "2022-07-22T03:32:43.821307",
     "status": "completed"
    },
    "tags": []
   },
   "outputs": [
    {
     "data": {
      "text/html": [
       "<div>\n",
       "<style scoped>\n",
       "    .dataframe tbody tr th:only-of-type {\n",
       "        vertical-align: middle;\n",
       "    }\n",
       "\n",
       "    .dataframe tbody tr th {\n",
       "        vertical-align: top;\n",
       "    }\n",
       "\n",
       "    .dataframe thead th {\n",
       "        text-align: right;\n",
       "    }\n",
       "</style>\n",
       "<table border=\"1\" class=\"dataframe\">\n",
       "  <thead>\n",
       "    <tr style=\"text-align: right;\">\n",
       "      <th></th>\n",
       "      <th>gene_name</th>\n",
       "      <th>tissue</th>\n",
       "    </tr>\n",
       "    <tr>\n",
       "      <th>gene_id</th>\n",
       "      <th></th>\n",
       "      <th></th>\n",
       "    </tr>\n",
       "  </thead>\n",
       "  <tbody>\n",
       "    <tr>\n",
       "      <th>ENSG00000000419</th>\n",
       "      <td>DPM1</td>\n",
       "      <td>(Brain_Substantia_nigra, Brain_Hypothalamus)</td>\n",
       "    </tr>\n",
       "    <tr>\n",
       "      <th>ENSG00000000457</th>\n",
       "      <td>SCYL3</td>\n",
       "      <td>(Lung, Spleen, Thyroid, Brain_Hippocampus, Bra...</td>\n",
       "    </tr>\n",
       "    <tr>\n",
       "      <th>ENSG00000000460</th>\n",
       "      <td>C1orf112</td>\n",
       "      <td>(Lung, Thyroid, Brain_Hippocampus, Brain_Front...</td>\n",
       "    </tr>\n",
       "    <tr>\n",
       "      <th>ENSG00000000938</th>\n",
       "      <td>FGR</td>\n",
       "      <td>(Lung, Spleen, Thyroid, Brain_Hippocampus, Bra...</td>\n",
       "    </tr>\n",
       "    <tr>\n",
       "      <th>ENSG00000000971</th>\n",
       "      <td>CFH</td>\n",
       "      <td>(Lung, Thyroid, Brain_Hippocampus, Brain_Front...</td>\n",
       "    </tr>\n",
       "  </tbody>\n",
       "</table>\n",
       "</div>"
      ],
      "text/plain": [
       "                gene_name                                             tissue\n",
       "gene_id                                                                     \n",
       "ENSG00000000419      DPM1       (Brain_Substantia_nigra, Brain_Hypothalamus)\n",
       "ENSG00000000457     SCYL3  (Lung, Spleen, Thyroid, Brain_Hippocampus, Bra...\n",
       "ENSG00000000460  C1orf112  (Lung, Thyroid, Brain_Hippocampus, Brain_Front...\n",
       "ENSG00000000938       FGR  (Lung, Spleen, Thyroid, Brain_Hippocampus, Bra...\n",
       "ENSG00000000971       CFH  (Lung, Thyroid, Brain_Hippocampus, Brain_Front..."
      ]
     },
     "execution_count": 18,
     "metadata": {},
     "output_type": "execute_result"
    }
   ],
   "source": [
    "spredixcan_genes_models.head()"
   ]
  },
  {
   "cell_type": "code",
   "execution_count": 19,
   "id": "d1c11bb1-be0b-4f40-b360-633d6827109f",
   "metadata": {
    "execution": {
     "iopub.execute_input": "2022-07-22T03:32:43.870467Z",
     "iopub.status.busy": "2022-07-22T03:32:43.870290Z",
     "iopub.status.idle": "2022-07-22T03:32:43.888307Z",
     "shell.execute_reply": "2022-07-22T03:32:43.887764Z"
    },
    "papermill": {
     "duration": 0.028025,
     "end_time": "2022-07-22T03:32:43.889694",
     "exception": false,
     "start_time": "2022-07-22T03:32:43.861669",
     "status": "completed"
    },
    "tags": []
   },
   "outputs": [],
   "source": [
    "assert spredixcan_genes_models.index.is_unique"
   ]
  },
  {
   "cell_type": "markdown",
   "id": "6caf9d10-eda8-4ad2-8811-a983aa77a25a",
   "metadata": {
    "papermill": {
     "duration": 0.007356,
     "end_time": "2022-07-22T03:32:43.905691",
     "exception": false,
     "start_time": "2022-07-22T03:32:43.898335",
     "status": "completed"
    },
    "tags": []
   },
   "source": [
    "## Get common genes"
   ]
  },
  {
   "cell_type": "code",
   "execution_count": 20,
   "id": "f8d1e317-1cc8-4bdf-bbe9-c3b0a5478359",
   "metadata": {
    "execution": {
     "iopub.execute_input": "2022-07-22T03:32:43.922241Z",
     "iopub.status.busy": "2022-07-22T03:32:43.922066Z",
     "iopub.status.idle": "2022-07-22T03:32:43.938513Z",
     "shell.execute_reply": "2022-07-22T03:32:43.938048Z"
    },
    "papermill": {
     "duration": 0.02674,
     "end_time": "2022-07-22T03:32:43.939955",
     "exception": false,
     "start_time": "2022-07-22T03:32:43.913215",
     "status": "completed"
    },
    "tags": []
   },
   "outputs": [],
   "source": [
    "with open(INPUT_DIR / \"common_genes.pkl\", \"rb\") as handle:\n",
    "    common_genes = pickle.load(handle)"
   ]
  },
  {
   "cell_type": "code",
   "execution_count": 21,
   "id": "ce9506aa-2f38-4e46-b9c2-84d750fac0da",
   "metadata": {
    "execution": {
     "iopub.execute_input": "2022-07-22T03:32:43.957690Z",
     "iopub.status.busy": "2022-07-22T03:32:43.957443Z",
     "iopub.status.idle": "2022-07-22T03:32:43.974391Z",
     "shell.execute_reply": "2022-07-22T03:32:43.973988Z"
    },
    "papermill": {
     "duration": 0.027862,
     "end_time": "2022-07-22T03:32:43.975642",
     "exception": false,
     "start_time": "2022-07-22T03:32:43.947780",
     "status": "completed"
    },
    "tags": []
   },
   "outputs": [
    {
     "data": {
      "text/plain": [
       "6444"
      ]
     },
     "execution_count": 21,
     "metadata": {},
     "output_type": "execute_result"
    }
   ],
   "source": [
    "len(common_genes)"
   ]
  },
  {
   "cell_type": "code",
   "execution_count": 22,
   "id": "f525a698-506a-48e0-9aee-1aca62def5dd",
   "metadata": {
    "execution": {
     "iopub.execute_input": "2022-07-22T03:32:43.992099Z",
     "iopub.status.busy": "2022-07-22T03:32:43.991646Z",
     "iopub.status.idle": "2022-07-22T03:32:44.009542Z",
     "shell.execute_reply": "2022-07-22T03:32:44.009040Z"
    },
    "papermill": {
     "duration": 0.027372,
     "end_time": "2022-07-22T03:32:44.010877",
     "exception": false,
     "start_time": "2022-07-22T03:32:43.983505",
     "status": "completed"
    },
    "tags": []
   },
   "outputs": [
    {
     "data": {
      "text/plain": [
       "['A2M', 'AAAS', 'AANAT', 'AARS', 'AARS2']"
      ]
     },
     "execution_count": 22,
     "metadata": {},
     "output_type": "execute_result"
    }
   ],
   "source": [
    "sorted(list(common_genes))[:5]"
   ]
  },
  {
   "cell_type": "markdown",
   "id": "a5b5092c-a13e-47c4-a92a-480fcc08f3ae",
   "metadata": {
    "papermill": {
     "duration": 0.007839,
     "end_time": "2022-07-22T03:32:44.026848",
     "exception": false,
     "start_time": "2022-07-22T03:32:44.019009",
     "status": "completed"
    },
    "tags": []
   },
   "source": [
    "## Gene info"
   ]
  },
  {
   "cell_type": "code",
   "execution_count": 23,
   "id": "7d6bb224-88e9-4358-ac10-43a41d92cdad",
   "metadata": {
    "execution": {
     "iopub.execute_input": "2022-07-22T03:32:44.042891Z",
     "iopub.status.busy": "2022-07-22T03:32:44.042509Z",
     "iopub.status.idle": "2022-07-22T03:32:44.061424Z",
     "shell.execute_reply": "2022-07-22T03:32:44.060785Z"
    },
    "papermill": {
     "duration": 0.028057,
     "end_time": "2022-07-22T03:32:44.062866",
     "exception": false,
     "start_time": "2022-07-22T03:32:44.034809",
     "status": "completed"
    },
    "tags": []
   },
   "outputs": [],
   "source": [
    "genes_info = pd.read_pickle(INPUT_DIR / \"genes_info.pkl\")"
   ]
  },
  {
   "cell_type": "code",
   "execution_count": 24,
   "id": "9e32abfa-546d-483e-8c18-d526e9e05903",
   "metadata": {
    "execution": {
     "iopub.execute_input": "2022-07-22T03:32:44.079475Z",
     "iopub.status.busy": "2022-07-22T03:32:44.079168Z",
     "iopub.status.idle": "2022-07-22T03:32:44.098601Z",
     "shell.execute_reply": "2022-07-22T03:32:44.095063Z"
    },
    "papermill": {
     "duration": 0.029116,
     "end_time": "2022-07-22T03:32:44.099963",
     "exception": false,
     "start_time": "2022-07-22T03:32:44.070847",
     "status": "completed"
    },
    "tags": []
   },
   "outputs": [
    {
     "data": {
      "text/plain": [
       "(6444, 7)"
      ]
     },
     "execution_count": 24,
     "metadata": {},
     "output_type": "execute_result"
    }
   ],
   "source": [
    "genes_info.shape"
   ]
  },
  {
   "cell_type": "code",
   "execution_count": 25,
   "id": "d16c3e92-85ec-468a-9a56-e25a9774a1cb",
   "metadata": {
    "execution": {
     "iopub.execute_input": "2022-07-22T03:32:44.117430Z",
     "iopub.status.busy": "2022-07-22T03:32:44.117036Z",
     "iopub.status.idle": "2022-07-22T03:32:44.141419Z",
     "shell.execute_reply": "2022-07-22T03:32:44.139006Z"
    },
    "papermill": {
     "duration": 0.034558,
     "end_time": "2022-07-22T03:32:44.142878",
     "exception": false,
     "start_time": "2022-07-22T03:32:44.108320",
     "status": "completed"
    },
    "tags": []
   },
   "outputs": [
    {
     "data": {
      "text/html": [
       "<div>\n",
       "<style scoped>\n",
       "    .dataframe tbody tr th:only-of-type {\n",
       "        vertical-align: middle;\n",
       "    }\n",
       "\n",
       "    .dataframe tbody tr th {\n",
       "        vertical-align: top;\n",
       "    }\n",
       "\n",
       "    .dataframe thead th {\n",
       "        text-align: right;\n",
       "    }\n",
       "</style>\n",
       "<table border=\"1\" class=\"dataframe\">\n",
       "  <thead>\n",
       "    <tr style=\"text-align: right;\">\n",
       "      <th></th>\n",
       "      <th>name</th>\n",
       "      <th>id</th>\n",
       "      <th>chr</th>\n",
       "      <th>band</th>\n",
       "      <th>start_position</th>\n",
       "      <th>end_position</th>\n",
       "      <th>gene_length</th>\n",
       "    </tr>\n",
       "  </thead>\n",
       "  <tbody>\n",
       "    <tr>\n",
       "      <th>0</th>\n",
       "      <td>MFN2</td>\n",
       "      <td>ENSG00000116688</td>\n",
       "      <td>1</td>\n",
       "      <td>1p36.22</td>\n",
       "      <td>11980181.0</td>\n",
       "      <td>12013514.0</td>\n",
       "      <td>33333.0</td>\n",
       "    </tr>\n",
       "    <tr>\n",
       "      <th>1</th>\n",
       "      <td>PPA2</td>\n",
       "      <td>ENSG00000138777</td>\n",
       "      <td>4</td>\n",
       "      <td>4q24</td>\n",
       "      <td>105369077.0</td>\n",
       "      <td>105474067.0</td>\n",
       "      <td>104990.0</td>\n",
       "    </tr>\n",
       "    <tr>\n",
       "      <th>2</th>\n",
       "      <td>ADRA2A</td>\n",
       "      <td>ENSG00000150594</td>\n",
       "      <td>10</td>\n",
       "      <td>10q25.2</td>\n",
       "      <td>111077163.0</td>\n",
       "      <td>111080907.0</td>\n",
       "      <td>3744.0</td>\n",
       "    </tr>\n",
       "    <tr>\n",
       "      <th>3</th>\n",
       "      <td>RYR2</td>\n",
       "      <td>ENSG00000198626</td>\n",
       "      <td>1</td>\n",
       "      <td>1q43</td>\n",
       "      <td>237042184.0</td>\n",
       "      <td>237833988.0</td>\n",
       "      <td>791804.0</td>\n",
       "    </tr>\n",
       "    <tr>\n",
       "      <th>4</th>\n",
       "      <td>VAV2</td>\n",
       "      <td>ENSG00000160293</td>\n",
       "      <td>9</td>\n",
       "      <td>9q34.2</td>\n",
       "      <td>133761894.0</td>\n",
       "      <td>133992604.0</td>\n",
       "      <td>230710.0</td>\n",
       "    </tr>\n",
       "  </tbody>\n",
       "</table>\n",
       "</div>"
      ],
      "text/plain": [
       "     name               id chr     band  start_position  end_position  \\\n",
       "0    MFN2  ENSG00000116688   1  1p36.22      11980181.0    12013514.0   \n",
       "1    PPA2  ENSG00000138777   4     4q24     105369077.0   105474067.0   \n",
       "2  ADRA2A  ENSG00000150594  10  10q25.2     111077163.0   111080907.0   \n",
       "3    RYR2  ENSG00000198626   1     1q43     237042184.0   237833988.0   \n",
       "4    VAV2  ENSG00000160293   9   9q34.2     133761894.0   133992604.0   \n",
       "\n",
       "   gene_length  \n",
       "0      33333.0  \n",
       "1     104990.0  \n",
       "2       3744.0  \n",
       "3     791804.0  \n",
       "4     230710.0  "
      ]
     },
     "execution_count": 25,
     "metadata": {},
     "output_type": "execute_result"
    }
   ],
   "source": [
    "genes_info.head()"
   ]
  },
  {
   "cell_type": "markdown",
   "id": "d3843e06",
   "metadata": {
    "papermill": {
     "duration": 0.008209,
     "end_time": "2022-07-22T03:32:44.159634",
     "exception": false,
     "start_time": "2022-07-22T03:32:44.151425",
     "status": "completed"
    },
    "tags": []
   },
   "source": [
    "# Compute correlations"
   ]
  },
  {
   "cell_type": "code",
   "execution_count": 26,
   "id": "cb859c15-d1f3-4006-a74c-2b83c0db9611",
   "metadata": {
    "execution": {
     "iopub.execute_input": "2022-07-22T03:32:44.176391Z",
     "iopub.status.busy": "2022-07-22T03:32:44.176229Z",
     "iopub.status.idle": "2022-07-22T03:32:44.192952Z",
     "shell.execute_reply": "2022-07-22T03:32:44.192429Z"
    },
    "papermill": {
     "duration": 0.026413,
     "end_time": "2022-07-22T03:32:44.194450",
     "exception": false,
     "start_time": "2022-07-22T03:32:44.168037",
     "status": "completed"
    },
    "tags": []
   },
   "outputs": [
    {
     "data": {
      "text/plain": [
       "PosixPath('/opt/data/results/gls/gene_corrs/cohorts/1000g_eur/1000g/mashr/by_chr/gene_corrs-chr1.pkl')"
      ]
     },
     "metadata": {},
     "output_type": "display_data"
    }
   ],
   "source": [
    "output_dir = OUTPUT_DIR_BASE / \"by_chr\"\n",
    "output_dir.mkdir(exist_ok=True, parents=True)\n",
    "output_file = output_dir / f\"gene_corrs-chr{CHROMOSOME}.pkl\"\n",
    "display(output_file)"
   ]
  },
  {
   "cell_type": "code",
   "execution_count": 27,
   "id": "aa674fe4-6794-4eed-98fa-32b39d1d4ace",
   "metadata": {
    "execution": {
     "iopub.execute_input": "2022-07-22T03:32:44.212068Z",
     "iopub.status.busy": "2022-07-22T03:32:44.211897Z",
     "iopub.status.idle": "2022-07-22T03:32:44.226998Z",
     "shell.execute_reply": "2022-07-22T03:32:44.226444Z"
    },
    "papermill": {
     "duration": 0.025384,
     "end_time": "2022-07-22T03:32:44.228448",
     "exception": false,
     "start_time": "2022-07-22T03:32:44.203064",
     "status": "completed"
    },
    "tags": []
   },
   "outputs": [],
   "source": [
    "warnings.filterwarnings(\"error\")"
   ]
  },
  {
   "cell_type": "code",
   "execution_count": 28,
   "id": "44d5450b-3baf-43f1-9e2e-4b06f1a785f8",
   "metadata": {
    "execution": {
     "iopub.execute_input": "2022-07-22T03:32:44.247769Z",
     "iopub.status.busy": "2022-07-22T03:32:44.246040Z",
     "iopub.status.idle": "2022-07-22T03:32:44.266006Z",
     "shell.execute_reply": "2022-07-22T03:32:44.265456Z"
    },
    "papermill": {
     "duration": 0.030339,
     "end_time": "2022-07-22T03:32:44.267442",
     "exception": false,
     "start_time": "2022-07-22T03:32:44.237103",
     "status": "completed"
    },
    "tags": []
   },
   "outputs": [],
   "source": [
    "# standard checks\n",
    "all_chrs = genes_info[\"chr\"].dropna().unique()\n",
    "assert all_chrs.shape[0] == 22\n",
    "\n",
    "# select chromosome given by the user\n",
    "assert CHROMOSOME in all_chrs"
   ]
  },
  {
   "cell_type": "code",
   "execution_count": 29,
   "id": "2d7c043c-92a7-4d35-991b-fa69ac1e0268",
   "metadata": {
    "execution": {
     "iopub.execute_input": "2022-07-22T03:32:44.287775Z",
     "iopub.status.busy": "2022-07-22T03:32:44.285842Z",
     "iopub.status.idle": "2022-07-22T03:32:44.305199Z",
     "shell.execute_reply": "2022-07-22T03:32:44.304625Z"
    },
    "papermill": {
     "duration": 0.029824,
     "end_time": "2022-07-22T03:32:44.306667",
     "exception": false,
     "start_time": "2022-07-22T03:32:44.276843",
     "status": "completed"
    },
    "tags": []
   },
   "outputs": [
    {
     "name": "stdout",
     "output_type": "stream",
     "text": [
      "Number of genes in chromosome: 698\n"
     ]
    }
   ],
   "source": [
    "# run only on the chromosome specified\n",
    "all_chrs = [CHROMOSOME]\n",
    "genes_chr = genes_info[genes_info[\"chr\"] == CHROMOSOME]\n",
    "\n",
    "# For testing purposes\n",
    "# genes_chr = genes_chr.sample(n=20)\n",
    "\n",
    "print(f\"Number of genes in chromosome: {genes_chr.shape[0]}\", flush=True)"
   ]
  },
  {
   "cell_type": "code",
   "execution_count": 30,
   "id": "916015d8-2979-46d3-a9b9-1cf5a0932c6a",
   "metadata": {
    "execution": {
     "iopub.execute_input": "2022-07-22T03:32:44.324994Z",
     "iopub.status.busy": "2022-07-22T03:32:44.324604Z",
     "iopub.status.idle": "2022-07-22T03:32:44.340983Z",
     "shell.execute_reply": "2022-07-22T03:32:44.340430Z"
    },
    "papermill": {
     "duration": 0.027042,
     "end_time": "2022-07-22T03:32:44.342454",
     "exception": false,
     "start_time": "2022-07-22T03:32:44.315412",
     "status": "completed"
    },
    "tags": []
   },
   "outputs": [],
   "source": [
    "# sort genes by starting position to make visualizations better later\n",
    "genes_chr = genes_chr.sort_values(\"start_position\")"
   ]
  },
  {
   "cell_type": "code",
   "execution_count": 31,
   "id": "a38aa74a-8ad3-47f6-8ef9-56be0e011774",
   "metadata": {
    "execution": {
     "iopub.execute_input": "2022-07-22T03:32:44.360872Z",
     "iopub.status.busy": "2022-07-22T03:32:44.360468Z",
     "iopub.status.idle": "2022-07-22T03:32:44.379193Z",
     "shell.execute_reply": "2022-07-22T03:32:44.378644Z"
    },
    "papermill": {
     "duration": 0.029429,
     "end_time": "2022-07-22T03:32:44.380608",
     "exception": false,
     "start_time": "2022-07-22T03:32:44.351179",
     "status": "completed"
    },
    "tags": []
   },
   "outputs": [],
   "source": [
    "gene_chr_objs = [Gene(ensembl_id=gene_id) for gene_id in genes_chr[\"id\"]]"
   ]
  },
  {
   "cell_type": "code",
   "execution_count": 32,
   "id": "570f974f-13c3-42b6-ad3a-ce99ca885c1a",
   "metadata": {
    "execution": {
     "iopub.execute_input": "2022-07-22T03:32:44.399660Z",
     "iopub.status.busy": "2022-07-22T03:32:44.399467Z",
     "iopub.status.idle": "2022-07-22T03:32:44.416862Z",
     "shell.execute_reply": "2022-07-22T03:32:44.416260Z"
    },
    "papermill": {
     "duration": 0.028034,
     "end_time": "2022-07-22T03:32:44.418215",
     "exception": false,
     "start_time": "2022-07-22T03:32:44.390181",
     "status": "completed"
    },
    "tags": []
   },
   "outputs": [
    {
     "name": "stdout",
     "output_type": "stream",
     "text": [
      "Number of gene combinations: 243253\n"
     ]
    }
   ],
   "source": [
    "n = len(gene_chr_objs)\n",
    "n_comb = int(n * (n - 1) / 2.0)\n",
    "print(f\"Number of gene combinations: {n_comb}\", flush=True)"
   ]
  },
  {
   "cell_type": "code",
   "execution_count": 33,
   "id": "cdbb90a1",
   "metadata": {
    "execution": {
     "iopub.execute_input": "2022-07-22T03:32:44.436408Z",
     "iopub.status.busy": "2022-07-22T03:32:44.436203Z",
     "iopub.status.idle": "2022-07-22T03:56:30.704844Z",
     "shell.execute_reply": "2022-07-22T03:56:30.704402Z"
    },
    "papermill": {
     "duration": 1426.279155,
     "end_time": "2022-07-22T03:56:30.706169",
     "exception": false,
     "start_time": "2022-07-22T03:32:44.427014",
     "status": "completed"
    },
    "tags": []
   },
   "outputs": [
    {
     "name": "stderr",
     "output_type": "stream",
     "text": [
      "ENSG00000162722 / ENSG00000238243: 100%|███████████████████| 243253/243253 [23:46<00:00, 170.56it/s]\n"
     ]
    },
    {
     "data": {
      "text/plain": [
       "PosixPath('/opt/data/results/gls/gene_corrs/cohorts/1000g_eur/1000g/mashr/by_chr/gene_corrs-chr1.pkl')"
      ]
     },
     "metadata": {},
     "output_type": "display_data"
    }
   ],
   "source": [
    "gene_corrs = []\n",
    "\n",
    "i = 0\n",
    "with tqdm(ncols=100, total=n_comb) as pbar:\n",
    "    for gene1_idx in range(0, len(gene_chr_objs) - 1):\n",
    "        gene1_obj = gene_chr_objs[gene1_idx]\n",
    "        gene1_tissues = spredixcan_genes_models.loc[gene1_obj.ensembl_id, \"tissue\"]\n",
    "\n",
    "        for gene2_idx in range(gene1_idx + 1, len(gene_chr_objs)):\n",
    "            gene2_obj = gene_chr_objs[gene2_idx]\n",
    "            gene2_tissues = spredixcan_genes_models.loc[gene2_obj.ensembl_id, \"tissue\"]\n",
    "\n",
    "            pbar.set_description(f\"{gene1_obj.ensembl_id} / {gene2_obj.ensembl_id}\")\n",
    "\n",
    "            try:\n",
    "                r = gene1_obj.get_ssm_correlation(\n",
    "                    other_gene=gene2_obj,\n",
    "                    tissues=gene1_tissues,\n",
    "                    other_tissues=gene2_tissues,\n",
    "                    snps_subset=gwas_variants_ids_set,\n",
    "                    condition_number=SMULTIXCAN_CONDITION_NUMBER,\n",
    "                    reference_panel=REFERENCE_PANEL,\n",
    "                    model_type=EQTL_MODEL,\n",
    "                    use_within_distance=COMPUTE_CORRELATIONS_WITHIN_DISTANCE,\n",
    "                )\n",
    "\n",
    "                if r is None:\n",
    "                    # if r is None, it's very likely because:\n",
    "                    #  * one of the genes has no prediction models\n",
    "                    #  * all the SNPs predictors for the gene are not present in the reference\n",
    "                    #    panel\n",
    "\n",
    "                    r = 0.0\n",
    "\n",
    "                gene_corrs.append(r)\n",
    "            except Warning as e:\n",
    "                if not DEBUG_MODE:\n",
    "                    raise e\n",
    "\n",
    "                print(\n",
    "                    f\"RuntimeWarning for genes {gene1_obj.ensembl_id} and {gene2_obj.ensembl_id}\",\n",
    "                    flush=True,\n",
    "                )\n",
    "                print(traceback.format_exc(), flush=True)\n",
    "\n",
    "                gene_corrs.append(np.nan)\n",
    "            except Exception as e:\n",
    "                if not DEBUG_MODE:\n",
    "                    raise e\n",
    "\n",
    "                print(\n",
    "                    f\"Exception for genes {gene1_obj.ensembl_id} and {gene2_obj.ensembl_id}\",\n",
    "                    flush=True,\n",
    "                )\n",
    "                print(traceback.format_exc(), flush=True)\n",
    "\n",
    "                gene_corrs.append(np.nan)\n",
    "\n",
    "            pbar.update(1)\n",
    "\n",
    "# create a pandas series\n",
    "gene_corrs_flat = pd.Series(gene_corrs)\n",
    "\n",
    "# save\n",
    "# FIXME: consider saving only the condenced matrix here. See here for\n",
    "# more details: https://github.com/greenelab/phenoplier/pull/38#discussion_r634600813\n",
    "gene_corrs_data = squareform(np.array(gene_corrs, dtype=np.float64))\n",
    "np.fill_diagonal(gene_corrs_data, 1.0)\n",
    "\n",
    "gene_chr_ids = [g.ensembl_id for g in gene_chr_objs]\n",
    "gene_corrs_df = pd.DataFrame(\n",
    "    data=gene_corrs_data,\n",
    "    index=gene_chr_ids,\n",
    "    columns=gene_chr_ids,\n",
    ")\n",
    "\n",
    "output_dir.mkdir(exist_ok=True, parents=True)\n",
    "display(output_file)\n",
    "\n",
    "gene_corrs_df.to_pickle(output_file)"
   ]
  },
  {
   "cell_type": "markdown",
   "id": "faa67b51-5373-470f-aa72-2ded53fa6dfe",
   "metadata": {
    "papermill": {
     "duration": 9.757173,
     "end_time": "2022-07-22T03:56:50.098165",
     "exception": false,
     "start_time": "2022-07-22T03:56:40.340992",
     "status": "completed"
    },
    "tags": []
   },
   "source": [
    "# Testing"
   ]
  },
  {
   "cell_type": "code",
   "execution_count": 34,
   "id": "14f7d046-4b55-4896-a56b-990127bcc388",
   "metadata": {
    "execution": {
     "iopub.execute_input": "2022-07-22T03:57:09.498421Z",
     "iopub.status.busy": "2022-07-22T03:57:09.498043Z",
     "iopub.status.idle": "2022-07-22T03:57:09.515728Z",
     "shell.execute_reply": "2022-07-22T03:57:09.515344Z"
    },
    "papermill": {
     "duration": 9.690586,
     "end_time": "2022-07-22T03:57:09.517028",
     "exception": false,
     "start_time": "2022-07-22T03:56:59.826442",
     "status": "completed"
    },
    "tags": []
   },
   "outputs": [
    {
     "data": {
      "text/plain": [
       "(698, 698)"
      ]
     },
     "execution_count": 34,
     "metadata": {},
     "output_type": "execute_result"
    }
   ],
   "source": [
    "gene_corrs_df.shape"
   ]
  },
  {
   "cell_type": "code",
   "execution_count": 35,
   "id": "c7d15414-3297-4537-a7c6-7588c0baeb75",
   "metadata": {
    "execution": {
     "iopub.execute_input": "2022-07-22T03:57:28.579863Z",
     "iopub.status.busy": "2022-07-22T03:57:28.579695Z",
     "iopub.status.idle": "2022-07-22T03:57:28.609106Z",
     "shell.execute_reply": "2022-07-22T03:57:28.608369Z"
    },
    "papermill": {
     "duration": 9.572916,
     "end_time": "2022-07-22T03:57:28.610383",
     "exception": false,
     "start_time": "2022-07-22T03:57:19.037467",
     "status": "completed"
    },
    "tags": []
   },
   "outputs": [
    {
     "data": {
      "text/html": [
       "<div>\n",
       "<style scoped>\n",
       "    .dataframe tbody tr th:only-of-type {\n",
       "        vertical-align: middle;\n",
       "    }\n",
       "\n",
       "    .dataframe tbody tr th {\n",
       "        vertical-align: top;\n",
       "    }\n",
       "\n",
       "    .dataframe thead th {\n",
       "        text-align: right;\n",
       "    }\n",
       "</style>\n",
       "<table border=\"1\" class=\"dataframe\">\n",
       "  <thead>\n",
       "    <tr style=\"text-align: right;\">\n",
       "      <th></th>\n",
       "      <th>ENSG00000188976</th>\n",
       "      <th>ENSG00000188290</th>\n",
       "      <th>ENSG00000187608</th>\n",
       "      <th>ENSG00000188157</th>\n",
       "      <th>ENSG00000186891</th>\n",
       "      <th>ENSG00000186827</th>\n",
       "      <th>ENSG00000176022</th>\n",
       "      <th>ENSG00000160087</th>\n",
       "      <th>ENSG00000131584</th>\n",
       "      <th>ENSG00000169962</th>\n",
       "      <th>...</th>\n",
       "      <th>ENSG00000054282</th>\n",
       "      <th>ENSG00000117020</th>\n",
       "      <th>ENSG00000035687</th>\n",
       "      <th>ENSG00000153187</th>\n",
       "      <th>ENSG00000162851</th>\n",
       "      <th>ENSG00000153207</th>\n",
       "      <th>ENSG00000162714</th>\n",
       "      <th>ENSG00000162711</th>\n",
       "      <th>ENSG00000162722</th>\n",
       "      <th>ENSG00000238243</th>\n",
       "    </tr>\n",
       "  </thead>\n",
       "  <tbody>\n",
       "    <tr>\n",
       "      <th>ENSG00000188976</th>\n",
       "      <td>1.000000</td>\n",
       "      <td>0.115011</td>\n",
       "      <td>0.173138</td>\n",
       "      <td>0.056096</td>\n",
       "      <td>0.008032</td>\n",
       "      <td>0.008727</td>\n",
       "      <td>0.006797</td>\n",
       "      <td>0.004533</td>\n",
       "      <td>0.007350</td>\n",
       "      <td>0.010391</td>\n",
       "      <td>...</td>\n",
       "      <td>0.0</td>\n",
       "      <td>0.0</td>\n",
       "      <td>0.0</td>\n",
       "      <td>0.0</td>\n",
       "      <td>0.0</td>\n",
       "      <td>0.0</td>\n",
       "      <td>0.0</td>\n",
       "      <td>0.0</td>\n",
       "      <td>0.0</td>\n",
       "      <td>0.0</td>\n",
       "    </tr>\n",
       "    <tr>\n",
       "      <th>ENSG00000188290</th>\n",
       "      <td>0.115011</td>\n",
       "      <td>1.000000</td>\n",
       "      <td>0.681368</td>\n",
       "      <td>0.360588</td>\n",
       "      <td>0.011545</td>\n",
       "      <td>0.010729</td>\n",
       "      <td>0.003577</td>\n",
       "      <td>0.010230</td>\n",
       "      <td>0.010747</td>\n",
       "      <td>0.008769</td>\n",
       "      <td>...</td>\n",
       "      <td>0.0</td>\n",
       "      <td>0.0</td>\n",
       "      <td>0.0</td>\n",
       "      <td>0.0</td>\n",
       "      <td>0.0</td>\n",
       "      <td>0.0</td>\n",
       "      <td>0.0</td>\n",
       "      <td>0.0</td>\n",
       "      <td>0.0</td>\n",
       "      <td>0.0</td>\n",
       "    </tr>\n",
       "    <tr>\n",
       "      <th>ENSG00000187608</th>\n",
       "      <td>0.173138</td>\n",
       "      <td>0.681368</td>\n",
       "      <td>1.000000</td>\n",
       "      <td>0.381394</td>\n",
       "      <td>0.011774</td>\n",
       "      <td>0.012527</td>\n",
       "      <td>0.003754</td>\n",
       "      <td>0.012096</td>\n",
       "      <td>0.012679</td>\n",
       "      <td>0.010442</td>\n",
       "      <td>...</td>\n",
       "      <td>0.0</td>\n",
       "      <td>0.0</td>\n",
       "      <td>0.0</td>\n",
       "      <td>0.0</td>\n",
       "      <td>0.0</td>\n",
       "      <td>0.0</td>\n",
       "      <td>0.0</td>\n",
       "      <td>0.0</td>\n",
       "      <td>0.0</td>\n",
       "      <td>0.0</td>\n",
       "    </tr>\n",
       "    <tr>\n",
       "      <th>ENSG00000188157</th>\n",
       "      <td>0.056096</td>\n",
       "      <td>0.360588</td>\n",
       "      <td>0.381394</td>\n",
       "      <td>1.000000</td>\n",
       "      <td>0.013005</td>\n",
       "      <td>0.015775</td>\n",
       "      <td>0.006184</td>\n",
       "      <td>0.006813</td>\n",
       "      <td>0.010775</td>\n",
       "      <td>0.009189</td>\n",
       "      <td>...</td>\n",
       "      <td>0.0</td>\n",
       "      <td>0.0</td>\n",
       "      <td>0.0</td>\n",
       "      <td>0.0</td>\n",
       "      <td>0.0</td>\n",
       "      <td>0.0</td>\n",
       "      <td>0.0</td>\n",
       "      <td>0.0</td>\n",
       "      <td>0.0</td>\n",
       "      <td>0.0</td>\n",
       "    </tr>\n",
       "    <tr>\n",
       "      <th>ENSG00000186891</th>\n",
       "      <td>0.008032</td>\n",
       "      <td>0.011545</td>\n",
       "      <td>0.011774</td>\n",
       "      <td>0.013005</td>\n",
       "      <td>1.000000</td>\n",
       "      <td>0.356676</td>\n",
       "      <td>0.454010</td>\n",
       "      <td>0.137643</td>\n",
       "      <td>0.200340</td>\n",
       "      <td>0.093210</td>\n",
       "      <td>...</td>\n",
       "      <td>0.0</td>\n",
       "      <td>0.0</td>\n",
       "      <td>0.0</td>\n",
       "      <td>0.0</td>\n",
       "      <td>0.0</td>\n",
       "      <td>0.0</td>\n",
       "      <td>0.0</td>\n",
       "      <td>0.0</td>\n",
       "      <td>0.0</td>\n",
       "      <td>0.0</td>\n",
       "    </tr>\n",
       "  </tbody>\n",
       "</table>\n",
       "<p>5 rows × 698 columns</p>\n",
       "</div>"
      ],
      "text/plain": [
       "                 ENSG00000188976  ENSG00000188290  ENSG00000187608  \\\n",
       "ENSG00000188976         1.000000         0.115011         0.173138   \n",
       "ENSG00000188290         0.115011         1.000000         0.681368   \n",
       "ENSG00000187608         0.173138         0.681368         1.000000   \n",
       "ENSG00000188157         0.056096         0.360588         0.381394   \n",
       "ENSG00000186891         0.008032         0.011545         0.011774   \n",
       "\n",
       "                 ENSG00000188157  ENSG00000186891  ENSG00000186827  \\\n",
       "ENSG00000188976         0.056096         0.008032         0.008727   \n",
       "ENSG00000188290         0.360588         0.011545         0.010729   \n",
       "ENSG00000187608         0.381394         0.011774         0.012527   \n",
       "ENSG00000188157         1.000000         0.013005         0.015775   \n",
       "ENSG00000186891         0.013005         1.000000         0.356676   \n",
       "\n",
       "                 ENSG00000176022  ENSG00000160087  ENSG00000131584  \\\n",
       "ENSG00000188976         0.006797         0.004533         0.007350   \n",
       "ENSG00000188290         0.003577         0.010230         0.010747   \n",
       "ENSG00000187608         0.003754         0.012096         0.012679   \n",
       "ENSG00000188157         0.006184         0.006813         0.010775   \n",
       "ENSG00000186891         0.454010         0.137643         0.200340   \n",
       "\n",
       "                 ENSG00000169962  ...  ENSG00000054282  ENSG00000117020  \\\n",
       "ENSG00000188976         0.010391  ...              0.0              0.0   \n",
       "ENSG00000188290         0.008769  ...              0.0              0.0   \n",
       "ENSG00000187608         0.010442  ...              0.0              0.0   \n",
       "ENSG00000188157         0.009189  ...              0.0              0.0   \n",
       "ENSG00000186891         0.093210  ...              0.0              0.0   \n",
       "\n",
       "                 ENSG00000035687  ENSG00000153187  ENSG00000162851  \\\n",
       "ENSG00000188976              0.0              0.0              0.0   \n",
       "ENSG00000188290              0.0              0.0              0.0   \n",
       "ENSG00000187608              0.0              0.0              0.0   \n",
       "ENSG00000188157              0.0              0.0              0.0   \n",
       "ENSG00000186891              0.0              0.0              0.0   \n",
       "\n",
       "                 ENSG00000153207  ENSG00000162714  ENSG00000162711  \\\n",
       "ENSG00000188976              0.0              0.0              0.0   \n",
       "ENSG00000188290              0.0              0.0              0.0   \n",
       "ENSG00000187608              0.0              0.0              0.0   \n",
       "ENSG00000188157              0.0              0.0              0.0   \n",
       "ENSG00000186891              0.0              0.0              0.0   \n",
       "\n",
       "                 ENSG00000162722  ENSG00000238243  \n",
       "ENSG00000188976              0.0              0.0  \n",
       "ENSG00000188290              0.0              0.0  \n",
       "ENSG00000187608              0.0              0.0  \n",
       "ENSG00000188157              0.0              0.0  \n",
       "ENSG00000186891              0.0              0.0  \n",
       "\n",
       "[5 rows x 698 columns]"
      ]
     },
     "execution_count": 35,
     "metadata": {},
     "output_type": "execute_result"
    }
   ],
   "source": [
    "gene_corrs_df.head()"
   ]
  },
  {
   "cell_type": "markdown",
   "id": "dad6603f-01c6-41fb-a6f6-241051207dd8",
   "metadata": {
    "papermill": {
     "duration": 9.515996,
     "end_time": "2022-07-22T03:57:47.725288",
     "exception": false,
     "start_time": "2022-07-22T03:57:38.209292",
     "status": "completed"
    },
    "tags": []
   },
   "source": [
    "## Standard checks and stats"
   ]
  },
  {
   "cell_type": "code",
   "execution_count": 36,
   "id": "286686af-1b7b-4440-8453-6bdcbd8de19c",
   "metadata": {
    "execution": {
     "iopub.execute_input": "2022-07-22T03:58:06.999097Z",
     "iopub.status.busy": "2022-07-22T03:58:06.998875Z",
     "iopub.status.idle": "2022-07-22T03:58:07.016369Z",
     "shell.execute_reply": "2022-07-22T03:58:07.015928Z"
    },
    "papermill": {
     "duration": 9.623408,
     "end_time": "2022-07-22T03:58:07.017771",
     "exception": false,
     "start_time": "2022-07-22T03:57:57.394363",
     "status": "completed"
    },
    "tags": []
   },
   "outputs": [],
   "source": [
    "assert not gene_corrs_df.isna().any().any()"
   ]
  },
  {
   "cell_type": "code",
   "execution_count": 37,
   "id": "00583efc-7068-4270-ad1e-4a418e91db96",
   "metadata": {
    "execution": {
     "iopub.execute_input": "2022-07-22T03:58:25.873269Z",
     "iopub.status.busy": "2022-07-22T03:58:25.872897Z",
     "iopub.status.idle": "2022-07-22T03:58:25.891996Z",
     "shell.execute_reply": "2022-07-22T03:58:25.891541Z"
    },
    "papermill": {
     "duration": 9.381706,
     "end_time": "2022-07-22T03:58:25.894006",
     "exception": false,
     "start_time": "2022-07-22T03:58:16.512300",
     "status": "completed"
    },
    "tags": []
   },
   "outputs": [
    {
     "data": {
      "text/plain": [
       "0.0"
      ]
     },
     "metadata": {},
     "output_type": "display_data"
    }
   ],
   "source": [
    "_min_val = gene_corrs_df.min().min()\n",
    "display(_min_val)\n",
    "assert _min_val >= 0.0"
   ]
  },
  {
   "cell_type": "code",
   "execution_count": 38,
   "id": "d04fb2cf-1050-475b-b855-f5f7cc04092b",
   "metadata": {
    "execution": {
     "iopub.execute_input": "2022-07-22T03:58:45.468986Z",
     "iopub.status.busy": "2022-07-22T03:58:45.468751Z",
     "iopub.status.idle": "2022-07-22T03:58:45.487872Z",
     "shell.execute_reply": "2022-07-22T03:58:45.487448Z"
    },
    "papermill": {
     "duration": 9.799259,
     "end_time": "2022-07-22T03:58:45.488979",
     "exception": false,
     "start_time": "2022-07-22T03:58:35.689720",
     "status": "completed"
    },
    "tags": []
   },
   "outputs": [
    {
     "data": {
      "text/plain": [
       "1.0"
      ]
     },
     "metadata": {},
     "output_type": "display_data"
    }
   ],
   "source": [
    "_max_val = gene_corrs_df.max().max()  # this captures the diagonal\n",
    "display(_max_val)\n",
    "assert _max_val <= 1.0"
   ]
  },
  {
   "cell_type": "code",
   "execution_count": 39,
   "id": "96d02c44-1fba-47be-8a93-8f2608420b9c",
   "metadata": {
    "execution": {
     "iopub.execute_input": "2022-07-22T03:59:04.907173Z",
     "iopub.status.busy": "2022-07-22T03:59:04.906946Z",
     "iopub.status.idle": "2022-07-22T03:59:04.922606Z",
     "shell.execute_reply": "2022-07-22T03:59:04.922211Z"
    },
    "papermill": {
     "duration": 9.893759,
     "end_time": "2022-07-22T03:59:04.923930",
     "exception": false,
     "start_time": "2022-07-22T03:58:55.030171",
     "status": "completed"
    },
    "tags": []
   },
   "outputs": [],
   "source": [
    "# check upper triangular values\n",
    "assert len(gene_corrs) == int(genes_chr.shape[0] * (genes_chr.shape[0] - 1) / 2)"
   ]
  },
  {
   "cell_type": "code",
   "execution_count": 40,
   "id": "fe283586-c348-40e0-8841-f6d97bfb021c",
   "metadata": {
    "execution": {
     "iopub.execute_input": "2022-07-22T03:59:24.421434Z",
     "iopub.status.busy": "2022-07-22T03:59:24.421276Z",
     "iopub.status.idle": "2022-07-22T03:59:24.449484Z",
     "shell.execute_reply": "2022-07-22T03:59:24.449088Z"
    },
    "papermill": {
     "duration": 9.870633,
     "end_time": "2022-07-22T03:59:24.450779",
     "exception": false,
     "start_time": "2022-07-22T03:59:14.580146",
     "status": "completed"
    },
    "tags": []
   },
   "outputs": [
    {
     "data": {
      "text/plain": [
       "count    243253.000000\n",
       "mean          0.001645\n",
       "std           0.020878\n",
       "min           0.000000\n",
       "25%           0.000000\n",
       "50%           0.000000\n",
       "75%           0.000000\n",
       "max           0.933048\n",
       "dtype: float64"
      ]
     },
     "execution_count": 40,
     "metadata": {},
     "output_type": "execute_result"
    }
   ],
   "source": [
    "gene_corrs_flat.describe()"
   ]
  },
  {
   "cell_type": "code",
   "execution_count": 41,
   "id": "b3815678-0f93-4b35-897b-a9d047a2aa78",
   "metadata": {
    "execution": {
     "iopub.execute_input": "2022-07-22T03:59:43.800166Z",
     "iopub.status.busy": "2022-07-22T03:59:43.800004Z",
     "iopub.status.idle": "2022-07-22T03:59:43.821102Z",
     "shell.execute_reply": "2022-07-22T03:59:43.820678Z"
    },
    "papermill": {
     "duration": 9.50508,
     "end_time": "2022-07-22T03:59:43.822312",
     "exception": false,
     "start_time": "2022-07-22T03:59:34.317232",
     "status": "completed"
    },
    "tags": []
   },
   "outputs": [
    {
     "data": {
      "text/plain": [
       "0.00    0.000000\n",
       "0.05    0.000000\n",
       "0.10    0.000000\n",
       "0.15    0.000000\n",
       "0.20    0.000000\n",
       "0.25    0.000000\n",
       "0.30    0.000000\n",
       "0.35    0.000000\n",
       "0.40    0.000000\n",
       "0.45    0.000000\n",
       "0.50    0.000000\n",
       "0.55    0.000000\n",
       "0.60    0.000000\n",
       "0.65    0.000000\n",
       "0.70    0.000000\n",
       "0.75    0.000000\n",
       "0.80    0.000000\n",
       "0.85    0.000000\n",
       "0.90    0.000000\n",
       "0.95    0.004519\n",
       "dtype: float64"
      ]
     },
     "metadata": {},
     "output_type": "display_data"
    }
   ],
   "source": [
    "gene_corrs_quantiles = gene_corrs_flat.quantile(np.arange(0, 1, 0.05))\n",
    "display(gene_corrs_quantiles)"
   ]
  },
  {
   "cell_type": "markdown",
   "id": "87134509-b145-4a10-8bc9-b7e914c2b0fa",
   "metadata": {
    "papermill": {
     "duration": 9.82786,
     "end_time": "2022-07-22T04:00:03.376849",
     "exception": false,
     "start_time": "2022-07-22T03:59:53.548989",
     "status": "completed"
    },
    "tags": []
   },
   "source": [
    "## Positive definiteness"
   ]
  },
  {
   "cell_type": "code",
   "execution_count": 42,
   "id": "07d9a9a1-a4f7-48aa-b916-6d42a8cc6186",
   "metadata": {
    "execution": {
     "iopub.execute_input": "2022-07-22T04:00:22.529110Z",
     "iopub.status.busy": "2022-07-22T04:00:22.528883Z",
     "iopub.status.idle": "2022-07-22T04:00:22.677686Z",
     "shell.execute_reply": "2022-07-22T04:00:22.677292Z"
    },
    "papermill": {
     "duration": 9.830117,
     "end_time": "2022-07-22T04:00:22.679007",
     "exception": false,
     "start_time": "2022-07-22T04:00:12.848890",
     "status": "completed"
    },
    "tags": []
   },
   "outputs": [
    {
     "data": {
      "text/plain": [
       "0"
      ]
     },
     "metadata": {},
     "output_type": "display_data"
    },
    {
     "data": {
      "text/plain": [
       "array([], dtype=float64)"
      ]
     },
     "metadata": {},
     "output_type": "display_data"
    }
   ],
   "source": [
    "# print negative eigenvalues\n",
    "eigs = np.linalg.eigvals(gene_corrs_df.to_numpy())\n",
    "display(len(eigs[eigs < 0]))\n",
    "display(eigs[eigs < 0])"
   ]
  },
  {
   "cell_type": "code",
   "execution_count": 43,
   "id": "6e218436-c3c5-4028-8c94-a4fa6260efce",
   "metadata": {
    "execution": {
     "iopub.execute_input": "2022-07-22T04:00:42.050143Z",
     "iopub.status.busy": "2022-07-22T04:00:42.049919Z",
     "iopub.status.idle": "2022-07-22T04:00:42.094170Z",
     "shell.execute_reply": "2022-07-22T04:00:42.093759Z"
    },
    "papermill": {
     "duration": 9.787514,
     "end_time": "2022-07-22T04:00:42.095325",
     "exception": false,
     "start_time": "2022-07-22T04:00:32.307811",
     "status": "completed"
    },
    "tags": []
   },
   "outputs": [
    {
     "name": "stdout",
     "output_type": "stream",
     "text": [
      "Works!\n"
     ]
    }
   ],
   "source": [
    "try:\n",
    "    chol_mat = np.linalg.cholesky(gene_corrs_df.to_numpy())\n",
    "    cov_inv = np.linalg.inv(chol_mat)\n",
    "    print(\"Works!\")\n",
    "except:\n",
    "    print(\"Cholesky decomposition failed\")"
   ]
  },
  {
   "cell_type": "markdown",
   "id": "8e60a080-edb2-4e9c-b2ef-22961693200c",
   "metadata": {
    "papermill": {
     "duration": 9.668591,
     "end_time": "2022-07-22T04:01:01.249357",
     "exception": false,
     "start_time": "2022-07-22T04:00:51.580766",
     "status": "completed"
    },
    "tags": []
   },
   "source": [
    "## Plot: distribution"
   ]
  },
  {
   "cell_type": "code",
   "execution_count": 44,
   "id": "8301126b-a7d4-4744-9c7d-f0f86eb6f54c",
   "metadata": {
    "execution": {
     "iopub.execute_input": "2022-07-22T04:01:20.520156Z",
     "iopub.status.busy": "2022-07-22T04:01:20.519919Z",
     "iopub.status.idle": "2022-07-22T04:01:21.525601Z",
     "shell.execute_reply": "2022-07-22T04:01:21.525090Z"
    },
    "papermill": {
     "duration": 10.408288,
     "end_time": "2022-07-22T04:01:21.526795",
     "exception": false,
     "start_time": "2022-07-22T04:01:11.118507",
     "status": "completed"
    },
    "tags": []
   },
   "outputs": [
    {
     "data": {
      "image/png": "[encoded data removed]",
      "text/plain": [
       "<Figure size 504x504 with 1 Axes>"
      ]
     },
     "metadata": {
      "needs_background": "light"
     },
     "output_type": "display_data"
    }
   ],
   "source": [
    "with sns.plotting_context(\"paper\", font_scale=1.5):\n",
    "    g = sns.displot(gene_corrs_flat, kde=True, height=7)\n",
    "    g.ax.set_title(\n",
    "        f\"Distribution of gene correlation values in chromosome {CHROMOSOME}\"\n",
    "    )"
   ]
  },
  {
   "cell_type": "markdown",
   "id": "cbd52bca-d878-4a2f-b684-5c83aa3038d4",
   "metadata": {
    "papermill": {
     "duration": 9.518362,
     "end_time": "2022-07-22T04:01:40.550783",
     "exception": false,
     "start_time": "2022-07-22T04:01:31.032421",
     "status": "completed"
    },
    "tags": []
   },
   "source": [
    "## Plot: heatmap"
   ]
  },
  {
   "cell_type": "code",
   "execution_count": 45,
   "id": "d03fe63a-c7b2-4fb9-a53c-db362ce843c9",
   "metadata": {
    "execution": {
     "iopub.execute_input": "2022-07-22T04:01:59.121582Z",
     "iopub.status.busy": "2022-07-22T04:01:59.121119Z",
     "iopub.status.idle": "2022-07-22T04:01:59.138101Z",
     "shell.execute_reply": "2022-07-22T04:01:59.137476Z"
    },
    "papermill": {
     "duration": 9.396865,
     "end_time": "2022-07-22T04:01:59.139301",
     "exception": false,
     "start_time": "2022-07-22T04:01:49.742436",
     "status": "completed"
    },
    "tags": []
   },
   "outputs": [
    {
     "data": {
      "text/plain": [
       "'0.0 / 0.05'"
      ]
     },
     "metadata": {},
     "output_type": "display_data"
    }
   ],
   "source": [
    "vmin_val = min(0.00, gene_corrs_quantiles[0.10])\n",
    "vmax_val = max(0.05, gene_corrs_quantiles[0.90])\n",
    "display(f\"{vmin_val} / {vmax_val}\")"
   ]
  },
  {
   "cell_type": "code",
   "execution_count": 46,
   "id": "dc41b70b-5bcc-4d9e-9f33-a22c4a94dab5",
   "metadata": {
    "execution": {
     "iopub.execute_input": "2022-07-22T04:02:18.061834Z",
     "iopub.status.busy": "2022-07-22T04:02:18.061449Z",
     "iopub.status.idle": "2022-07-22T04:02:18.557842Z",
     "shell.execute_reply": "2022-07-22T04:02:18.557158Z"
    },
    "papermill": {
     "duration": 10.040191,
     "end_time": "2022-07-22T04:02:18.559075",
     "exception": false,
     "start_time": "2022-07-22T04:02:08.518884",
     "status": "completed"
    },
    "tags": []
   },
   "outputs": [
    {
     "data": {
      "text/plain": [
       "Text(0.5, 1.0, 'Gene correlations in chromosome 1')"
      ]
     },
     "execution_count": 46,
     "metadata": {},
     "output_type": "execute_result"
    },
    {
     "data": {
      "image/png": "[encoded data removed]",
      "text/plain": [
       "<Figure size 720x720 with 2 Axes>"
      ]
     },
     "metadata": {
      "needs_background": "light"
     },
     "output_type": "display_data"
    }
   ],
   "source": [
    "f, ax = plt.subplots(figsize=(10, 10))\n",
    "sns.heatmap(\n",
    "    gene_corrs_df,\n",
    "    xticklabels=False,\n",
    "    yticklabels=False,\n",
    "    square=True,\n",
    "    vmin=vmin_val,\n",
    "    vmax=vmax_val,\n",
    "    cmap=\"rocket_r\",\n",
    "    ax=ax,\n",
    ")\n",
    "ax.set_title(f\"Gene correlations in chromosome {CHROMOSOME}\")"
   ]
  },
  {
   "cell_type": "code",
   "execution_count": null,
   "id": "b25e3ead",
   "metadata": {
    "papermill": {
     "duration": 10.648686,
     "end_time": "2022-07-22T04:02:38.907431",
     "exception": false,
     "start_time": "2022-07-22T04:02:28.258745",
     "status": "completed"
    },
    "tags": []
   },
   "outputs": [],
   "source": []
  }
 ],
 "metadata": {
  "jupytext": {
   "cell_metadata_filter": "all,-execution,-papermill,-trusted",
   "formats": "ipynb,py//py:percent"
  },
  "kernelspec": {
   "display_name": "Python 3 (ipykernel)",
   "language": "python",
   "name": "python3"
  },
  "language_info": {
   "codemirror_mode": {
    "name": "ipython",
    "version": 3
   },
   "file_extension": ".py",
   "mimetype": "text/x-python",
   "name": "python",
   "nbconvert_exporter": "python",
   "pygments_lexer": "ipython3",
   "version": "3.8.13"
  },
  "papermill": {
   "default_parameters": {},
   "duration": 1817.040658,
   "end_time": "2022-07-22T04:02:52.733910",
   "environment_variables": {},
   "exception": null,
   "input_path": "nbs/15_gsa_gls/10-gene_expr_correlations.ipynb",
   "output_path": "nbs/15_gsa_gls/gene_corrs/cohorts/1000g_eur/1000g/mashr/10-gene_expr_correlations-chr1.run.ipynb",
   "parameters": {
    "CHROMOSOME": 1,
    "COHORT_NAME": "1000G_EUR",
    "EQTL_MODEL": "MASHR",
    "REFERENCE_PANEL": "1000G"
   },
   "start_time": "2022-07-22T03:32:35.693252",
   "version": "2.2.2"
  }
 },
 "nbformat": 4,
 "nbformat_minor": 5
}
