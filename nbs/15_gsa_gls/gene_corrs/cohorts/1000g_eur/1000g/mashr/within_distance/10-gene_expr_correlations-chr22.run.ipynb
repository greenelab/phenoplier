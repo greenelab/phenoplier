{
 "cells": [
  {
   "cell_type": "markdown",
   "id": "7a6632fb",
   "metadata": {
    "papermill": {
     "duration": 0.006604,
     "end_time": "2022-07-22T04:57:04.814657",
     "exception": false,
     "start_time": "2022-07-22T04:57:04.808053",
     "status": "completed"
    },
    "tags": []
   },
   "source": [
    "# Description"
   ]
  },
  {
   "cell_type": "markdown",
   "id": "7097c346",
   "metadata": {
    "papermill": {
     "duration": 0.00713,
     "end_time": "2022-07-22T04:57:04.827874",
     "exception": false,
     "start_time": "2022-07-22T04:57:04.820744",
     "status": "completed"
    },
    "tags": []
   },
   "source": [
    "(Please, take a look at the README.md file in this directory for instructions on how to run this notebook)\n",
    "\n",
    "This notebook computes predicted expression correlations between all genes in the MultiPLIER models.\n",
    "\n",
    "It also has a parameter set for papermill to run on a single chromosome to run in parallel (see under `Settings` below).\n",
    "\n",
    "This notebook is not directly run. See README.md."
   ]
  },
  {
   "cell_type": "markdown",
   "id": "c61d8427",
   "metadata": {
    "papermill": {
     "duration": 0.005913,
     "end_time": "2022-07-22T04:57:04.840231",
     "exception": false,
     "start_time": "2022-07-22T04:57:04.834318",
     "status": "completed"
    },
    "tags": []
   },
   "source": [
    "# Modules"
   ]
  },
  {
   "cell_type": "code",
   "execution_count": 1,
   "id": "bbc0234f",
   "metadata": {
    "execution": {
     "iopub.execute_input": "2022-07-22T04:57:04.853890Z",
     "iopub.status.busy": "2022-07-22T04:57:04.853635Z",
     "iopub.status.idle": "2022-07-22T04:57:04.868684Z",
     "shell.execute_reply": "2022-07-22T04:57:04.868234Z"
    },
    "papermill": {
     "duration": 0.023837,
     "end_time": "2022-07-22T04:57:04.870099",
     "exception": false,
     "start_time": "2022-07-22T04:57:04.846262",
     "status": "completed"
    },
    "tags": []
   },
   "outputs": [],
   "source": [
    "%load_ext autoreload\n",
    "%autoreload 2"
   ]
  },
  {
   "cell_type": "code",
   "execution_count": 2,
   "id": "1d5f5a59",
   "metadata": {
    "execution": {
     "iopub.execute_input": "2022-07-22T04:57:04.911519Z",
     "iopub.status.busy": "2022-07-22T04:57:04.911125Z",
     "iopub.status.idle": "2022-07-22T04:57:05.796249Z",
     "shell.execute_reply": "2022-07-22T04:57:05.795799Z"
    },
    "papermill": {
     "duration": 0.893716,
     "end_time": "2022-07-22T04:57:05.797518",
     "exception": false,
     "start_time": "2022-07-22T04:57:04.903802",
     "status": "completed"
    },
    "tags": []
   },
   "outputs": [],
   "source": [
    "from random import sample, seed\n",
    "import warnings\n",
    "from pathlib import Path\n",
    "import pickle\n",
    "import traceback\n",
    "\n",
    "import numpy as np\n",
    "from scipy.spatial.distance import squareform\n",
    "import pandas as pd\n",
    "from tqdm import tqdm\n",
    "import matplotlib.pyplot as plt\n",
    "import seaborn as sns\n",
    "\n",
    "import conf\n",
    "from entity import Gene"
   ]
  },
  {
   "cell_type": "markdown",
   "id": "1eac24b5",
   "metadata": {
    "papermill": {
     "duration": 0.005791,
     "end_time": "2022-07-22T04:57:05.809107",
     "exception": false,
     "start_time": "2022-07-22T04:57:05.803316",
     "status": "completed"
    },
    "tags": []
   },
   "source": [
    "# Settings"
   ]
  },
  {
   "cell_type": "code",
   "execution_count": 3,
   "id": "ca4560ba",
   "metadata": {
    "execution": {
     "iopub.execute_input": "2022-07-22T04:57:05.822637Z",
     "iopub.status.busy": "2022-07-22T04:57:05.822202Z",
     "iopub.status.idle": "2022-07-22T04:57:05.839791Z",
     "shell.execute_reply": "2022-07-22T04:57:05.839330Z"
    },
    "papermill": {
     "duration": 0.025834,
     "end_time": "2022-07-22T04:57:05.841052",
     "exception": false,
     "start_time": "2022-07-22T04:57:05.815218",
     "status": "completed"
    },
    "tags": [
     "parameters"
    ]
   },
   "outputs": [],
   "source": [
    "# a cohort name (it could be something like UK_BIOBANK, etc)\n",
    "COHORT_NAME = None\n",
    "\n",
    "# reference panel such as 1000G or GTEX_V8\n",
    "REFERENCE_PANEL = None\n",
    "\n",
    "# predictions models such as MASHR or ELASTIC_NET\n",
    "EQTL_MODEL = None\n",
    "\n",
    "# this is the default value used in S-MultiXcan to select the\n",
    "# top principal components of the expression correlation matrix\n",
    "SMULTIXCAN_CONDITION_NUMBER = 30\n",
    "\n",
    "# specifies a single chromosome value\n",
    "CHROMOSOME = None\n",
    "\n",
    "# if True, then it will continue if a gene pair correlation fails,\n",
    "# printing the warning/error for debugging. If False, any warning/error\n",
    "# will be thrown\n",
    "# FIXME: make it False when all is working\n",
    "DEBUG_MODE = True"
   ]
  },
  {
   "cell_type": "code",
   "execution_count": 4,
   "id": "dcd420e8",
   "metadata": {
    "execution": {
     "iopub.execute_input": "2022-07-22T04:57:05.854103Z",
     "iopub.status.busy": "2022-07-22T04:57:05.853846Z",
     "iopub.status.idle": "2022-07-22T04:57:05.868361Z",
     "shell.execute_reply": "2022-07-22T04:57:05.867923Z"
    },
    "papermill": {
     "duration": 0.022564,
     "end_time": "2022-07-22T04:57:05.869602",
     "exception": false,
     "start_time": "2022-07-22T04:57:05.847038",
     "status": "completed"
    },
    "tags": [
     "injected-parameters"
    ]
   },
   "outputs": [],
   "source": [
    "# Parameters\n",
    "COHORT_NAME = \"1000G_EUR\"\n",
    "REFERENCE_PANEL = \"1000G\"\n",
    "EQTL_MODEL = \"MASHR\"\n",
    "CHROMOSOME = 22\n"
   ]
  },
  {
   "cell_type": "code",
   "execution_count": 5,
   "id": "3190631f-27fc-480f-b18e-571d580425a5",
   "metadata": {
    "execution": {
     "iopub.execute_input": "2022-07-22T04:57:05.882728Z",
     "iopub.status.busy": "2022-07-22T04:57:05.882536Z",
     "iopub.status.idle": "2022-07-22T04:57:05.899036Z",
     "shell.execute_reply": "2022-07-22T04:57:05.898611Z"
    },
    "papermill": {
     "duration": 0.02469,
     "end_time": "2022-07-22T04:57:05.900525",
     "exception": false,
     "start_time": "2022-07-22T04:57:05.875835",
     "status": "completed"
    },
    "tags": []
   },
   "outputs": [
    {
     "data": {
      "text/plain": [
       "'Cohort name: 1000g_eur'"
      ]
     },
     "metadata": {},
     "output_type": "display_data"
    }
   ],
   "source": [
    "assert COHORT_NAME is not None or len(COHORT_NAME) == 0, \"A cohort name must be given\"\n",
    "\n",
    "COHORT_NAME = COHORT_NAME.lower()\n",
    "display(f\"Cohort name: {COHORT_NAME}\")"
   ]
  },
  {
   "cell_type": "code",
   "execution_count": 6,
   "id": "f53ba19b-0f93-4fa2-a047-63b375939d1a",
   "metadata": {
    "execution": {
     "iopub.execute_input": "2022-07-22T04:57:05.913847Z",
     "iopub.status.busy": "2022-07-22T04:57:05.913527Z",
     "iopub.status.idle": "2022-07-22T04:57:05.928853Z",
     "shell.execute_reply": "2022-07-22T04:57:05.928374Z"
    },
    "papermill": {
     "duration": 0.02311,
     "end_time": "2022-07-22T04:57:05.930061",
     "exception": false,
     "start_time": "2022-07-22T04:57:05.906951",
     "status": "completed"
    },
    "tags": []
   },
   "outputs": [
    {
     "data": {
      "text/plain": [
       "'Reference panel: 1000G'"
      ]
     },
     "metadata": {},
     "output_type": "display_data"
    }
   ],
   "source": [
    "assert (\n",
    "    REFERENCE_PANEL is not None or len(REFERENCE_PANEL) == 0\n",
    "), \"A reference panel must be given\"\n",
    "\n",
    "display(f\"Reference panel: {REFERENCE_PANEL}\")"
   ]
  },
  {
   "cell_type": "code",
   "execution_count": 7,
   "id": "e024d130-c139-429a-9c6e-ccf149e297b0",
   "metadata": {
    "execution": {
     "iopub.execute_input": "2022-07-22T04:57:05.944137Z",
     "iopub.status.busy": "2022-07-22T04:57:05.943775Z",
     "iopub.status.idle": "2022-07-22T04:57:05.959910Z",
     "shell.execute_reply": "2022-07-22T04:57:05.959490Z"
    },
    "papermill": {
     "duration": 0.024515,
     "end_time": "2022-07-22T04:57:05.961072",
     "exception": false,
     "start_time": "2022-07-22T04:57:05.936557",
     "status": "completed"
    },
    "tags": []
   },
   "outputs": [
    {
     "data": {
      "text/plain": [
       "'eQTL model: MASHR) / mashr_'"
      ]
     },
     "metadata": {},
     "output_type": "display_data"
    }
   ],
   "source": [
    "assert (\n",
    "    EQTL_MODEL is not None or len(EQTL_MODEL) == 0\n",
    "), \"A prediction/eQTL model must be given\"\n",
    "\n",
    "EQTL_MODEL_FILES_PREFIX = conf.PHENOMEXCAN[\"PREDICTION_MODELS\"][f\"{EQTL_MODEL}_PREFIX\"]\n",
    "display(f\"eQTL model: {EQTL_MODEL}) / {EQTL_MODEL_FILES_PREFIX}\")"
   ]
  },
  {
   "cell_type": "code",
   "execution_count": 8,
   "id": "552a7f63-a18c-4d3e-bb6a-94f99b431291",
   "metadata": {
    "execution": {
     "iopub.execute_input": "2022-07-22T04:57:05.974330Z",
     "iopub.status.busy": "2022-07-22T04:57:05.974140Z",
     "iopub.status.idle": "2022-07-22T04:57:05.989395Z",
     "shell.execute_reply": "2022-07-22T04:57:05.989018Z"
    },
    "papermill": {
     "duration": 0.023364,
     "end_time": "2022-07-22T04:57:05.990703",
     "exception": false,
     "start_time": "2022-07-22T04:57:05.967339",
     "status": "completed"
    },
    "tags": []
   },
   "outputs": [
    {
     "data": {
      "text/plain": [
       "'S-MultiXcan condition number: 30'"
      ]
     },
     "metadata": {},
     "output_type": "display_data"
    }
   ],
   "source": [
    "assert (\n",
    "    SMULTIXCAN_CONDITION_NUMBER is not None or SMULTIXCAN_CONDITION_NUMBER > 0\n",
    "), \"The S-MultiXcan condition number (positive integer) must be given\"\n",
    "\n",
    "display(f\"S-MultiXcan condition number: {SMULTIXCAN_CONDITION_NUMBER}\")"
   ]
  },
  {
   "cell_type": "code",
   "execution_count": 9,
   "id": "f34a336f-548e-4afe-8955-90eaea4f42c6",
   "metadata": {
    "execution": {
     "iopub.execute_input": "2022-07-22T04:57:06.004893Z",
     "iopub.status.busy": "2022-07-22T04:57:06.004605Z",
     "iopub.status.idle": "2022-07-22T04:57:06.019956Z",
     "shell.execute_reply": "2022-07-22T04:57:06.019539Z"
    },
    "papermill": {
     "duration": 0.023815,
     "end_time": "2022-07-22T04:57:06.021155",
     "exception": false,
     "start_time": "2022-07-22T04:57:05.997340",
     "status": "completed"
    },
    "tags": []
   },
   "outputs": [
    {
     "data": {
      "text/plain": [
       "'Working on chromosome 22'"
      ]
     },
     "metadata": {},
     "output_type": "display_data"
    }
   ],
   "source": [
    "assert CHROMOSOME is not None and (\n",
    "    1 <= CHROMOSOME <= 22\n",
    "), \"You have to select one chromosome (format: number between 1 and 22)\"\n",
    "\n",
    "CHROMOSOME = str(CHROMOSOME)\n",
    "display(f\"Working on chromosome {CHROMOSOME}\")"
   ]
  },
  {
   "cell_type": "code",
   "execution_count": 10,
   "id": "ab8e96e8-06b5-4363-9dcd-dc4d78cc27f7",
   "metadata": {
    "execution": {
     "iopub.execute_input": "2022-07-22T04:57:06.035254Z",
     "iopub.status.busy": "2022-07-22T04:57:06.035034Z",
     "iopub.status.idle": "2022-07-22T04:57:06.049979Z",
     "shell.execute_reply": "2022-07-22T04:57:06.049576Z"
    },
    "papermill": {
     "duration": 0.023349,
     "end_time": "2022-07-22T04:57:06.051173",
     "exception": false,
     "start_time": "2022-07-22T04:57:06.027824",
     "status": "completed"
    },
    "tags": []
   },
   "outputs": [
    {
     "data": {
      "text/plain": [
       "'Compute correlation within distance True'"
      ]
     },
     "metadata": {},
     "output_type": "display_data"
    }
   ],
   "source": [
    "# TODO: see if this is necessary; if so, make it a parameter with default value True\n",
    "# This parameter, if True, computes the correlation between closeby genes only\n",
    "\n",
    "COMPUTE_CORRELATIONS_WITHIN_DISTANCE = True\n",
    "display(f\"Compute correlation within distance {COMPUTE_CORRELATIONS_WITHIN_DISTANCE}\")"
   ]
  },
  {
   "cell_type": "code",
   "execution_count": 11,
   "id": "396392dc-0340-4540-9b02-e182b833f909",
   "metadata": {
    "execution": {
     "iopub.execute_input": "2022-07-22T04:57:06.065198Z",
     "iopub.status.busy": "2022-07-22T04:57:06.064873Z",
     "iopub.status.idle": "2022-07-22T04:57:06.079927Z",
     "shell.execute_reply": "2022-07-22T04:57:06.079498Z"
    },
    "papermill": {
     "duration": 0.023285,
     "end_time": "2022-07-22T04:57:06.081096",
     "exception": false,
     "start_time": "2022-07-22T04:57:06.057811",
     "status": "completed"
    },
    "tags": []
   },
   "outputs": [
    {
     "data": {
      "text/plain": [
       "'Using output dir base: /opt/data/results/gls/gene_corrs/cohorts/1000g_eur/1000g/mashr'"
      ]
     },
     "metadata": {},
     "output_type": "display_data"
    }
   ],
   "source": [
    "OUTPUT_DIR_BASE = (\n",
    "    conf.RESULTS[\"GLS\"]\n",
    "    / \"gene_corrs\"\n",
    "    / \"cohorts\"\n",
    "    / COHORT_NAME\n",
    "    / REFERENCE_PANEL.lower()\n",
    "    / EQTL_MODEL.lower()\n",
    ")\n",
    "OUTPUT_DIR_BASE.mkdir(parents=True, exist_ok=True)\n",
    "\n",
    "display(f\"Using output dir base: {OUTPUT_DIR_BASE}\")"
   ]
  },
  {
   "cell_type": "code",
   "execution_count": 12,
   "id": "974b4bb1-aa98-4e30-b221-7cd034ad3833",
   "metadata": {
    "execution": {
     "iopub.execute_input": "2022-07-22T04:57:06.095020Z",
     "iopub.status.busy": "2022-07-22T04:57:06.094788Z",
     "iopub.status.idle": "2022-07-22T04:57:06.110108Z",
     "shell.execute_reply": "2022-07-22T04:57:06.109701Z"
    },
    "papermill": {
     "duration": 0.023784,
     "end_time": "2022-07-22T04:57:06.111243",
     "exception": false,
     "start_time": "2022-07-22T04:57:06.087459",
     "status": "completed"
    },
    "tags": []
   },
   "outputs": [
    {
     "data": {
      "text/plain": [
       "PosixPath('/opt/data/results/gls/gene_corrs/cohorts/1000g_eur')"
      ]
     },
     "metadata": {},
     "output_type": "display_data"
    }
   ],
   "source": [
    "INPUT_DIR = conf.RESULTS[\"GLS\"] / \"gene_corrs\" / \"cohorts\" / COHORT_NAME\n",
    "assert INPUT_DIR.exists()\n",
    "\n",
    "display(INPUT_DIR)"
   ]
  },
  {
   "cell_type": "markdown",
   "id": "d2ba085e",
   "metadata": {
    "papermill": {
     "duration": 0.006729,
     "end_time": "2022-07-22T04:57:06.124738",
     "exception": false,
     "start_time": "2022-07-22T04:57:06.118009",
     "status": "completed"
    },
    "tags": []
   },
   "source": [
    "# Load data"
   ]
  },
  {
   "cell_type": "markdown",
   "id": "7dcb8db7",
   "metadata": {
    "papermill": {
     "duration": 0.006587,
     "end_time": "2022-07-22T04:57:06.138212",
     "exception": false,
     "start_time": "2022-07-22T04:57:06.131625",
     "status": "completed"
    },
    "tags": []
   },
   "source": [
    "## GWAS variants"
   ]
  },
  {
   "cell_type": "code",
   "execution_count": 13,
   "id": "29434c4e-8cd3-4b9b-82e4-b5a251d9dd19",
   "metadata": {
    "execution": {
     "iopub.execute_input": "2022-07-22T04:57:06.152675Z",
     "iopub.status.busy": "2022-07-22T04:57:06.152478Z",
     "iopub.status.idle": "2022-07-22T04:57:08.724301Z",
     "shell.execute_reply": "2022-07-22T04:57:08.723717Z"
    },
    "papermill": {
     "duration": 2.580813,
     "end_time": "2022-07-22T04:57:08.725808",
     "exception": false,
     "start_time": "2022-07-22T04:57:06.144995",
     "status": "completed"
    },
    "tags": []
   },
   "outputs": [],
   "source": [
    "with open(INPUT_DIR / \"gwas_variant_ids.pkl\", \"rb\") as handle:\n",
    "    gwas_variants_ids_set = pickle.load(handle)"
   ]
  },
  {
   "cell_type": "code",
   "execution_count": 14,
   "id": "b9d9dec2-4a76-4bf9-bde2-e24c95acb8a0",
   "metadata": {
    "execution": {
     "iopub.execute_input": "2022-07-22T04:57:08.743558Z",
     "iopub.status.busy": "2022-07-22T04:57:08.743325Z",
     "iopub.status.idle": "2022-07-22T04:57:08.759452Z",
     "shell.execute_reply": "2022-07-22T04:57:08.758994Z"
    },
    "papermill": {
     "duration": 0.027177,
     "end_time": "2022-07-22T04:57:08.760866",
     "exception": false,
     "start_time": "2022-07-22T04:57:08.733689",
     "status": "completed"
    },
    "tags": []
   },
   "outputs": [
    {
     "data": {
      "text/plain": [
       "8339505"
      ]
     },
     "execution_count": 14,
     "metadata": {},
     "output_type": "execute_result"
    }
   ],
   "source": [
    "len(gwas_variants_ids_set)"
   ]
  },
  {
   "cell_type": "code",
   "execution_count": 15,
   "id": "4235b06a-6034-4ee4-a0a3-2ae35d122418",
   "metadata": {
    "execution": {
     "iopub.execute_input": "2022-07-22T04:57:08.775699Z",
     "iopub.status.busy": "2022-07-22T04:57:08.775486Z",
     "iopub.status.idle": "2022-07-22T04:57:09.247115Z",
     "shell.execute_reply": "2022-07-22T04:57:09.246666Z"
    },
    "papermill": {
     "duration": 0.480544,
     "end_time": "2022-07-22T04:57:09.248453",
     "exception": false,
     "start_time": "2022-07-22T04:57:08.767909",
     "status": "completed"
    },
    "tags": []
   },
   "outputs": [
    {
     "data": {
      "text/plain": [
       "['chr11_121180039_T_C_b38',\n",
       " 'chr4_61888602_A_G_b38',\n",
       " 'chr15_89654095_T_C_b38',\n",
       " 'chr15_39270752_T_C_b38',\n",
       " 'chr8_79194058_C_G_b38']"
      ]
     },
     "execution_count": 15,
     "metadata": {},
     "output_type": "execute_result"
    }
   ],
   "source": [
    "list(gwas_variants_ids_set)[:5]"
   ]
  },
  {
   "cell_type": "markdown",
   "id": "07866999-2305-41f9-a144-e69c9122c212",
   "metadata": {
    "papermill": {
     "duration": 0.007772,
     "end_time": "2022-07-22T04:57:09.264290",
     "exception": false,
     "start_time": "2022-07-22T04:57:09.256518",
     "status": "completed"
    },
    "tags": []
   },
   "source": [
    "## S-PrediXcan tissue models"
   ]
  },
  {
   "cell_type": "code",
   "execution_count": 16,
   "id": "780611d9-77c8-405f-90a4-f271f7b09397",
   "metadata": {
    "execution": {
     "iopub.execute_input": "2022-07-22T04:57:09.280845Z",
     "iopub.status.busy": "2022-07-22T04:57:09.280634Z",
     "iopub.status.idle": "2022-07-22T04:57:10.022956Z",
     "shell.execute_reply": "2022-07-22T04:57:10.022536Z"
    },
    "papermill": {
     "duration": 0.751889,
     "end_time": "2022-07-22T04:57:10.024349",
     "exception": false,
     "start_time": "2022-07-22T04:57:09.272460",
     "status": "completed"
    },
    "tags": []
   },
   "outputs": [],
   "source": [
    "spredixcan_genes_models = pd.read_pickle(INPUT_DIR / \"gene_tissues.pkl\").set_index(\n",
    "    \"gene_id\"\n",
    ")"
   ]
  },
  {
   "cell_type": "code",
   "execution_count": 17,
   "id": "726dd1f6-9557-4225-91fa-b3b879ea96e1",
   "metadata": {
    "execution": {
     "iopub.execute_input": "2022-07-22T04:57:10.039237Z",
     "iopub.status.busy": "2022-07-22T04:57:10.039033Z",
     "iopub.status.idle": "2022-07-22T04:57:10.053772Z",
     "shell.execute_reply": "2022-07-22T04:57:10.053341Z"
    },
    "papermill": {
     "duration": 0.023288,
     "end_time": "2022-07-22T04:57:10.054980",
     "exception": false,
     "start_time": "2022-07-22T04:57:10.031692",
     "status": "completed"
    },
    "tags": []
   },
   "outputs": [
    {
     "data": {
      "text/plain": [
       "(22314, 2)"
      ]
     },
     "execution_count": 17,
     "metadata": {},
     "output_type": "execute_result"
    }
   ],
   "source": [
    "spredixcan_genes_models.shape"
   ]
  },
  {
   "cell_type": "code",
   "execution_count": 18,
   "id": "944a1b48-222c-4eb0-b252-b9de2cbca215",
   "metadata": {
    "execution": {
     "iopub.execute_input": "2022-07-22T04:57:10.069906Z",
     "iopub.status.busy": "2022-07-22T04:57:10.069682Z",
     "iopub.status.idle": "2022-07-22T04:57:10.089519Z",
     "shell.execute_reply": "2022-07-22T04:57:10.089093Z"
    },
    "papermill": {
     "duration": 0.028858,
     "end_time": "2022-07-22T04:57:10.090825",
     "exception": false,
     "start_time": "2022-07-22T04:57:10.061967",
     "status": "completed"
    },
    "tags": []
   },
   "outputs": [
    {
     "data": {
      "text/html": [
       "<div>\n",
       "<style scoped>\n",
       "    .dataframe tbody tr th:only-of-type {\n",
       "        vertical-align: middle;\n",
       "    }\n",
       "\n",
       "    .dataframe tbody tr th {\n",
       "        vertical-align: top;\n",
       "    }\n",
       "\n",
       "    .dataframe thead th {\n",
       "        text-align: right;\n",
       "    }\n",
       "</style>\n",
       "<table border=\"1\" class=\"dataframe\">\n",
       "  <thead>\n",
       "    <tr style=\"text-align: right;\">\n",
       "      <th></th>\n",
       "      <th>gene_name</th>\n",
       "      <th>tissue</th>\n",
       "    </tr>\n",
       "    <tr>\n",
       "      <th>gene_id</th>\n",
       "      <th></th>\n",
       "      <th></th>\n",
       "    </tr>\n",
       "  </thead>\n",
       "  <tbody>\n",
       "    <tr>\n",
       "      <th>ENSG00000000419</th>\n",
       "      <td>DPM1</td>\n",
       "      <td>(Brain_Hypothalamus, Brain_Substantia_nigra)</td>\n",
       "    </tr>\n",
       "    <tr>\n",
       "      <th>ENSG00000000457</th>\n",
       "      <td>SCYL3</td>\n",
       "      <td>(Stomach, Minor_Salivary_Gland, Adipose_Viscer...</td>\n",
       "    </tr>\n",
       "    <tr>\n",
       "      <th>ENSG00000000460</th>\n",
       "      <td>C1orf112</td>\n",
       "      <td>(Minor_Salivary_Gland, Adipose_Visceral_Omentu...</td>\n",
       "    </tr>\n",
       "    <tr>\n",
       "      <th>ENSG00000000938</th>\n",
       "      <td>FGR</td>\n",
       "      <td>(Stomach, Adipose_Visceral_Omentum, Thyroid, S...</td>\n",
       "    </tr>\n",
       "    <tr>\n",
       "      <th>ENSG00000000971</th>\n",
       "      <td>CFH</td>\n",
       "      <td>(Stomach, Thyroid, Testis, Brain_Caudate_basal...</td>\n",
       "    </tr>\n",
       "  </tbody>\n",
       "</table>\n",
       "</div>"
      ],
      "text/plain": [
       "                gene_name                                             tissue\n",
       "gene_id                                                                     \n",
       "ENSG00000000419      DPM1       (Brain_Hypothalamus, Brain_Substantia_nigra)\n",
       "ENSG00000000457     SCYL3  (Stomach, Minor_Salivary_Gland, Adipose_Viscer...\n",
       "ENSG00000000460  C1orf112  (Minor_Salivary_Gland, Adipose_Visceral_Omentu...\n",
       "ENSG00000000938       FGR  (Stomach, Adipose_Visceral_Omentum, Thyroid, S...\n",
       "ENSG00000000971       CFH  (Stomach, Thyroid, Testis, Brain_Caudate_basal..."
      ]
     },
     "execution_count": 18,
     "metadata": {},
     "output_type": "execute_result"
    }
   ],
   "source": [
    "spredixcan_genes_models.head()"
   ]
  },
  {
   "cell_type": "code",
   "execution_count": 19,
   "id": "d1c11bb1-be0b-4f40-b360-633d6827109f",
   "metadata": {
    "execution": {
     "iopub.execute_input": "2022-07-22T04:57:10.105801Z",
     "iopub.status.busy": "2022-07-22T04:57:10.105565Z",
     "iopub.status.idle": "2022-07-22T04:57:10.121257Z",
     "shell.execute_reply": "2022-07-22T04:57:10.120859Z"
    },
    "papermill": {
     "duration": 0.024764,
     "end_time": "2022-07-22T04:57:10.122559",
     "exception": false,
     "start_time": "2022-07-22T04:57:10.097795",
     "status": "completed"
    },
    "tags": []
   },
   "outputs": [],
   "source": [
    "assert spredixcan_genes_models.index.is_unique"
   ]
  },
  {
   "cell_type": "markdown",
   "id": "6caf9d10-eda8-4ad2-8811-a983aa77a25a",
   "metadata": {
    "papermill": {
     "duration": 0.007179,
     "end_time": "2022-07-22T04:57:10.136837",
     "exception": false,
     "start_time": "2022-07-22T04:57:10.129658",
     "status": "completed"
    },
    "tags": []
   },
   "source": [
    "## Get common genes"
   ]
  },
  {
   "cell_type": "code",
   "execution_count": 20,
   "id": "f8d1e317-1cc8-4bdf-bbe9-c3b0a5478359",
   "metadata": {
    "execution": {
     "iopub.execute_input": "2022-07-22T04:57:10.152350Z",
     "iopub.status.busy": "2022-07-22T04:57:10.152043Z",
     "iopub.status.idle": "2022-07-22T04:57:10.167815Z",
     "shell.execute_reply": "2022-07-22T04:57:10.167419Z"
    },
    "papermill": {
     "duration": 0.024871,
     "end_time": "2022-07-22T04:57:10.169053",
     "exception": false,
     "start_time": "2022-07-22T04:57:10.144182",
     "status": "completed"
    },
    "tags": []
   },
   "outputs": [],
   "source": [
    "with open(INPUT_DIR / \"common_genes.pkl\", \"rb\") as handle:\n",
    "    common_genes = pickle.load(handle)"
   ]
  },
  {
   "cell_type": "code",
   "execution_count": 21,
   "id": "ce9506aa-2f38-4e46-b9c2-84d750fac0da",
   "metadata": {
    "execution": {
     "iopub.execute_input": "2022-07-22T04:57:10.184995Z",
     "iopub.status.busy": "2022-07-22T04:57:10.184811Z",
     "iopub.status.idle": "2022-07-22T04:57:10.199347Z",
     "shell.execute_reply": "2022-07-22T04:57:10.198866Z"
    },
    "papermill": {
     "duration": 0.024188,
     "end_time": "2022-07-22T04:57:10.200760",
     "exception": false,
     "start_time": "2022-07-22T04:57:10.176572",
     "status": "completed"
    },
    "tags": []
   },
   "outputs": [
    {
     "data": {
      "text/plain": [
       "6444"
      ]
     },
     "execution_count": 21,
     "metadata": {},
     "output_type": "execute_result"
    }
   ],
   "source": [
    "len(common_genes)"
   ]
  },
  {
   "cell_type": "code",
   "execution_count": 22,
   "id": "f525a698-506a-48e0-9aee-1aca62def5dd",
   "metadata": {
    "execution": {
     "iopub.execute_input": "2022-07-22T04:57:10.218742Z",
     "iopub.status.busy": "2022-07-22T04:57:10.218363Z",
     "iopub.status.idle": "2022-07-22T04:57:10.237814Z",
     "shell.execute_reply": "2022-07-22T04:57:10.237299Z"
    },
    "papermill": {
     "duration": 0.030352,
     "end_time": "2022-07-22T04:57:10.239330",
     "exception": false,
     "start_time": "2022-07-22T04:57:10.208978",
     "status": "completed"
    },
    "tags": []
   },
   "outputs": [
    {
     "data": {
      "text/plain": [
       "['A2M', 'AAAS', 'AANAT', 'AARS', 'AARS2']"
      ]
     },
     "execution_count": 22,
     "metadata": {},
     "output_type": "execute_result"
    }
   ],
   "source": [
    "sorted(list(common_genes))[:5]"
   ]
  },
  {
   "cell_type": "markdown",
   "id": "a5b5092c-a13e-47c4-a92a-480fcc08f3ae",
   "metadata": {
    "papermill": {
     "duration": 0.008617,
     "end_time": "2022-07-22T04:57:10.256736",
     "exception": false,
     "start_time": "2022-07-22T04:57:10.248119",
     "status": "completed"
    },
    "tags": []
   },
   "source": [
    "## Gene info"
   ]
  },
  {
   "cell_type": "code",
   "execution_count": 23,
   "id": "7d6bb224-88e9-4358-ac10-43a41d92cdad",
   "metadata": {
    "execution": {
     "iopub.execute_input": "2022-07-22T04:57:10.275008Z",
     "iopub.status.busy": "2022-07-22T04:57:10.274779Z",
     "iopub.status.idle": "2022-07-22T04:57:10.293597Z",
     "shell.execute_reply": "2022-07-22T04:57:10.293141Z"
    },
    "papermill": {
     "duration": 0.029586,
     "end_time": "2022-07-22T04:57:10.295000",
     "exception": false,
     "start_time": "2022-07-22T04:57:10.265414",
     "status": "completed"
    },
    "tags": []
   },
   "outputs": [],
   "source": [
    "genes_info = pd.read_pickle(INPUT_DIR / \"genes_info.pkl\")"
   ]
  },
  {
   "cell_type": "code",
   "execution_count": 24,
   "id": "9e32abfa-546d-483e-8c18-d526e9e05903",
   "metadata": {
    "execution": {
     "iopub.execute_input": "2022-07-22T04:57:10.311153Z",
     "iopub.status.busy": "2022-07-22T04:57:10.310857Z",
     "iopub.status.idle": "2022-07-22T04:57:10.325871Z",
     "shell.execute_reply": "2022-07-22T04:57:10.325442Z"
    },
    "papermill": {
     "duration": 0.024518,
     "end_time": "2022-07-22T04:57:10.327244",
     "exception": false,
     "start_time": "2022-07-22T04:57:10.302726",
     "status": "completed"
    },
    "tags": []
   },
   "outputs": [
    {
     "data": {
      "text/plain": [
       "(6444, 7)"
      ]
     },
     "execution_count": 24,
     "metadata": {},
     "output_type": "execute_result"
    }
   ],
   "source": [
    "genes_info.shape"
   ]
  },
  {
   "cell_type": "code",
   "execution_count": 25,
   "id": "d16c3e92-85ec-468a-9a56-e25a9774a1cb",
   "metadata": {
    "execution": {
     "iopub.execute_input": "2022-07-22T04:57:10.343562Z",
     "iopub.status.busy": "2022-07-22T04:57:10.343239Z",
     "iopub.status.idle": "2022-07-22T04:57:10.362970Z",
     "shell.execute_reply": "2022-07-22T04:57:10.362592Z"
    },
    "papermill": {
     "duration": 0.029348,
     "end_time": "2022-07-22T04:57:10.364092",
     "exception": false,
     "start_time": "2022-07-22T04:57:10.334744",
     "status": "completed"
    },
    "tags": []
   },
   "outputs": [
    {
     "data": {
      "text/html": [
       "<div>\n",
       "<style scoped>\n",
       "    .dataframe tbody tr th:only-of-type {\n",
       "        vertical-align: middle;\n",
       "    }\n",
       "\n",
       "    .dataframe tbody tr th {\n",
       "        vertical-align: top;\n",
       "    }\n",
       "\n",
       "    .dataframe thead th {\n",
       "        text-align: right;\n",
       "    }\n",
       "</style>\n",
       "<table border=\"1\" class=\"dataframe\">\n",
       "  <thead>\n",
       "    <tr style=\"text-align: right;\">\n",
       "      <th></th>\n",
       "      <th>name</th>\n",
       "      <th>id</th>\n",
       "      <th>chr</th>\n",
       "      <th>band</th>\n",
       "      <th>start_position</th>\n",
       "      <th>end_position</th>\n",
       "      <th>gene_length</th>\n",
       "    </tr>\n",
       "  </thead>\n",
       "  <tbody>\n",
       "    <tr>\n",
       "      <th>0</th>\n",
       "      <td>MFN2</td>\n",
       "      <td>ENSG00000116688</td>\n",
       "      <td>1</td>\n",
       "      <td>1p36.22</td>\n",
       "      <td>11980181.0</td>\n",
       "      <td>12013514.0</td>\n",
       "      <td>33333.0</td>\n",
       "    </tr>\n",
       "    <tr>\n",
       "      <th>1</th>\n",
       "      <td>PPA2</td>\n",
       "      <td>ENSG00000138777</td>\n",
       "      <td>4</td>\n",
       "      <td>4q24</td>\n",
       "      <td>105369077.0</td>\n",
       "      <td>105474067.0</td>\n",
       "      <td>104990.0</td>\n",
       "    </tr>\n",
       "    <tr>\n",
       "      <th>2</th>\n",
       "      <td>ADRA2A</td>\n",
       "      <td>ENSG00000150594</td>\n",
       "      <td>10</td>\n",
       "      <td>10q25.2</td>\n",
       "      <td>111077163.0</td>\n",
       "      <td>111080907.0</td>\n",
       "      <td>3744.0</td>\n",
       "    </tr>\n",
       "    <tr>\n",
       "      <th>3</th>\n",
       "      <td>RYR2</td>\n",
       "      <td>ENSG00000198626</td>\n",
       "      <td>1</td>\n",
       "      <td>1q43</td>\n",
       "      <td>237042184.0</td>\n",
       "      <td>237833988.0</td>\n",
       "      <td>791804.0</td>\n",
       "    </tr>\n",
       "    <tr>\n",
       "      <th>4</th>\n",
       "      <td>VAV2</td>\n",
       "      <td>ENSG00000160293</td>\n",
       "      <td>9</td>\n",
       "      <td>9q34.2</td>\n",
       "      <td>133761894.0</td>\n",
       "      <td>133992604.0</td>\n",
       "      <td>230710.0</td>\n",
       "    </tr>\n",
       "  </tbody>\n",
       "</table>\n",
       "</div>"
      ],
      "text/plain": [
       "     name               id chr     band  start_position  end_position  \\\n",
       "0    MFN2  ENSG00000116688   1  1p36.22      11980181.0    12013514.0   \n",
       "1    PPA2  ENSG00000138777   4     4q24     105369077.0   105474067.0   \n",
       "2  ADRA2A  ENSG00000150594  10  10q25.2     111077163.0   111080907.0   \n",
       "3    RYR2  ENSG00000198626   1     1q43     237042184.0   237833988.0   \n",
       "4    VAV2  ENSG00000160293   9   9q34.2     133761894.0   133992604.0   \n",
       "\n",
       "   gene_length  \n",
       "0      33333.0  \n",
       "1     104990.0  \n",
       "2       3744.0  \n",
       "3     791804.0  \n",
       "4     230710.0  "
      ]
     },
     "execution_count": 25,
     "metadata": {},
     "output_type": "execute_result"
    }
   ],
   "source": [
    "genes_info.head()"
   ]
  },
  {
   "cell_type": "markdown",
   "id": "d3843e06",
   "metadata": {
    "papermill": {
     "duration": 0.007633,
     "end_time": "2022-07-22T04:57:10.379241",
     "exception": false,
     "start_time": "2022-07-22T04:57:10.371608",
     "status": "completed"
    },
    "tags": []
   },
   "source": [
    "# Compute correlations"
   ]
  },
  {
   "cell_type": "code",
   "execution_count": 26,
   "id": "cb859c15-d1f3-4006-a74c-2b83c0db9611",
   "metadata": {
    "execution": {
     "iopub.execute_input": "2022-07-22T04:57:10.396305Z",
     "iopub.status.busy": "2022-07-22T04:57:10.395764Z",
     "iopub.status.idle": "2022-07-22T04:57:10.412022Z",
     "shell.execute_reply": "2022-07-22T04:57:10.411587Z"
    },
    "papermill": {
     "duration": 0.025993,
     "end_time": "2022-07-22T04:57:10.413200",
     "exception": false,
     "start_time": "2022-07-22T04:57:10.387207",
     "status": "completed"
    },
    "tags": []
   },
   "outputs": [
    {
     "data": {
      "text/plain": [
       "PosixPath('/opt/data/results/gls/gene_corrs/cohorts/1000g_eur/1000g/mashr/by_chr/gene_corrs-chr22.pkl')"
      ]
     },
     "metadata": {},
     "output_type": "display_data"
    }
   ],
   "source": [
    "output_dir = OUTPUT_DIR_BASE / \"by_chr\"\n",
    "output_dir.mkdir(exist_ok=True, parents=True)\n",
    "output_file = output_dir / f\"gene_corrs-chr{CHROMOSOME}.pkl\"\n",
    "display(output_file)"
   ]
  },
  {
   "cell_type": "code",
   "execution_count": 27,
   "id": "aa674fe4-6794-4eed-98fa-32b39d1d4ace",
   "metadata": {
    "execution": {
     "iopub.execute_input": "2022-07-22T04:57:10.429788Z",
     "iopub.status.busy": "2022-07-22T04:57:10.429485Z",
     "iopub.status.idle": "2022-07-22T04:57:10.443207Z",
     "shell.execute_reply": "2022-07-22T04:57:10.442827Z"
    },
    "papermill": {
     "duration": 0.023553,
     "end_time": "2022-07-22T04:57:10.444455",
     "exception": false,
     "start_time": "2022-07-22T04:57:10.420902",
     "status": "completed"
    },
    "tags": []
   },
   "outputs": [],
   "source": [
    "warnings.filterwarnings(\"error\")"
   ]
  },
  {
   "cell_type": "code",
   "execution_count": 28,
   "id": "44d5450b-3baf-43f1-9e2e-4b06f1a785f8",
   "metadata": {
    "execution": {
     "iopub.execute_input": "2022-07-22T04:57:10.460795Z",
     "iopub.status.busy": "2022-07-22T04:57:10.460569Z",
     "iopub.status.idle": "2022-07-22T04:57:10.475464Z",
     "shell.execute_reply": "2022-07-22T04:57:10.475087Z"
    },
    "papermill": {
     "duration": 0.024615,
     "end_time": "2022-07-22T04:57:10.476727",
     "exception": false,
     "start_time": "2022-07-22T04:57:10.452112",
     "status": "completed"
    },
    "tags": []
   },
   "outputs": [],
   "source": [
    "# standard checks\n",
    "all_chrs = genes_info[\"chr\"].dropna().unique()\n",
    "assert all_chrs.shape[0] == 22\n",
    "\n",
    "# select chromosome given by the user\n",
    "assert CHROMOSOME in all_chrs"
   ]
  },
  {
   "cell_type": "code",
   "execution_count": 29,
   "id": "2d7c043c-92a7-4d35-991b-fa69ac1e0268",
   "metadata": {
    "execution": {
     "iopub.execute_input": "2022-07-22T04:57:10.493099Z",
     "iopub.status.busy": "2022-07-22T04:57:10.492767Z",
     "iopub.status.idle": "2022-07-22T04:57:10.508457Z",
     "shell.execute_reply": "2022-07-22T04:57:10.507968Z"
    },
    "papermill": {
     "duration": 0.025318,
     "end_time": "2022-07-22T04:57:10.509665",
     "exception": false,
     "start_time": "2022-07-22T04:57:10.484347",
     "status": "completed"
    },
    "tags": []
   },
   "outputs": [
    {
     "name": "stdout",
     "output_type": "stream",
     "text": [
      "Number of genes in chromosome: 170\n"
     ]
    }
   ],
   "source": [
    "# run only on the chromosome specified\n",
    "all_chrs = [CHROMOSOME]\n",
    "genes_chr = genes_info[genes_info[\"chr\"] == CHROMOSOME]\n",
    "\n",
    "# For testing purposes\n",
    "# genes_chr = genes_chr.sample(n=20)\n",
    "\n",
    "print(f\"Number of genes in chromosome: {genes_chr.shape[0]}\", flush=True)"
   ]
  },
  {
   "cell_type": "code",
   "execution_count": 30,
   "id": "916015d8-2979-46d3-a9b9-1cf5a0932c6a",
   "metadata": {
    "execution": {
     "iopub.execute_input": "2022-07-22T04:57:10.525900Z",
     "iopub.status.busy": "2022-07-22T04:57:10.525701Z",
     "iopub.status.idle": "2022-07-22T04:57:10.539942Z",
     "shell.execute_reply": "2022-07-22T04:57:10.539427Z"
    },
    "papermill": {
     "duration": 0.023841,
     "end_time": "2022-07-22T04:57:10.541269",
     "exception": false,
     "start_time": "2022-07-22T04:57:10.517428",
     "status": "completed"
    },
    "tags": []
   },
   "outputs": [],
   "source": [
    "# sort genes by starting position to make visualizations better later\n",
    "genes_chr = genes_chr.sort_values(\"start_position\")"
   ]
  },
  {
   "cell_type": "code",
   "execution_count": 31,
   "id": "a38aa74a-8ad3-47f6-8ef9-56be0e011774",
   "metadata": {
    "execution": {
     "iopub.execute_input": "2022-07-22T04:57:10.557835Z",
     "iopub.status.busy": "2022-07-22T04:57:10.557540Z",
     "iopub.status.idle": "2022-07-22T04:57:10.571673Z",
     "shell.execute_reply": "2022-07-22T04:57:10.571212Z"
    },
    "papermill": {
     "duration": 0.02376,
     "end_time": "2022-07-22T04:57:10.572974",
     "exception": false,
     "start_time": "2022-07-22T04:57:10.549214",
     "status": "completed"
    },
    "tags": []
   },
   "outputs": [],
   "source": [
    "gene_chr_objs = [Gene(ensembl_id=gene_id) for gene_id in genes_chr[\"id\"]]"
   ]
  },
  {
   "cell_type": "code",
   "execution_count": 32,
   "id": "570f974f-13c3-42b6-ad3a-ce99ca885c1a",
   "metadata": {
    "execution": {
     "iopub.execute_input": "2022-07-22T04:57:10.589248Z",
     "iopub.status.busy": "2022-07-22T04:57:10.588913Z",
     "iopub.status.idle": "2022-07-22T04:57:10.604168Z",
     "shell.execute_reply": "2022-07-22T04:57:10.603759Z"
    },
    "papermill": {
     "duration": 0.02468,
     "end_time": "2022-07-22T04:57:10.605413",
     "exception": false,
     "start_time": "2022-07-22T04:57:10.580733",
     "status": "completed"
    },
    "tags": []
   },
   "outputs": [
    {
     "name": "stdout",
     "output_type": "stream",
     "text": [
      "Number of gene combinations: 14365\n"
     ]
    }
   ],
   "source": [
    "n = len(gene_chr_objs)\n",
    "n_comb = int(n * (n - 1) / 2.0)\n",
    "print(f\"Number of gene combinations: {n_comb}\", flush=True)"
   ]
  },
  {
   "cell_type": "code",
   "execution_count": 33,
   "id": "cdbb90a1",
   "metadata": {
    "execution": {
     "iopub.execute_input": "2022-07-22T04:57:10.622254Z",
     "iopub.status.busy": "2022-07-22T04:57:10.621801Z",
     "iopub.status.idle": "2022-07-22T05:04:03.213428Z",
     "shell.execute_reply": "2022-07-22T05:04:03.212806Z"
    },
    "papermill": {
     "duration": 412.601462,
     "end_time": "2022-07-22T05:04:03.214718",
     "exception": false,
     "start_time": "2022-07-22T04:57:10.613256",
     "status": "completed"
    },
    "tags": []
   },
   "outputs": [
    {
     "name": "stderr",
     "output_type": "stream",
     "text": [
      "ENSG00000100299 / ENSG00000251322: 100%|██████████████████████| 14365/14365 [06:52<00:00, 34.82it/s]\n"
     ]
    },
    {
     "data": {
      "text/plain": [
       "PosixPath('/opt/data/results/gls/gene_corrs/cohorts/1000g_eur/1000g/mashr/by_chr/gene_corrs-chr22.pkl')"
      ]
     },
     "metadata": {},
     "output_type": "display_data"
    }
   ],
   "source": [
    "gene_corrs = []\n",
    "\n",
    "i = 0\n",
    "with tqdm(ncols=100, total=n_comb) as pbar:\n",
    "    for gene1_idx in range(0, len(gene_chr_objs) - 1):\n",
    "        gene1_obj = gene_chr_objs[gene1_idx]\n",
    "        gene1_tissues = spredixcan_genes_models.loc[gene1_obj.ensembl_id, \"tissue\"]\n",
    "\n",
    "        for gene2_idx in range(gene1_idx + 1, len(gene_chr_objs)):\n",
    "            gene2_obj = gene_chr_objs[gene2_idx]\n",
    "            gene2_tissues = spredixcan_genes_models.loc[gene2_obj.ensembl_id, \"tissue\"]\n",
    "\n",
    "            pbar.set_description(f\"{gene1_obj.ensembl_id} / {gene2_obj.ensembl_id}\")\n",
    "\n",
    "            try:\n",
    "                r = gene1_obj.get_ssm_correlation(\n",
    "                    other_gene=gene2_obj,\n",
    "                    tissues=gene1_tissues,\n",
    "                    other_tissues=gene2_tissues,\n",
    "                    snps_subset=gwas_variants_ids_set,\n",
    "                    condition_number=SMULTIXCAN_CONDITION_NUMBER,\n",
    "                    reference_panel=REFERENCE_PANEL,\n",
    "                    model_type=EQTL_MODEL,\n",
    "                    use_within_distance=COMPUTE_CORRELATIONS_WITHIN_DISTANCE,\n",
    "                )\n",
    "\n",
    "                if r is None:\n",
    "                    # if r is None, it's very likely because:\n",
    "                    #  * one of the genes has no prediction models\n",
    "                    #  * all the SNPs predictors for the gene are not present in the reference\n",
    "                    #    panel\n",
    "\n",
    "                    r = 0.0\n",
    "\n",
    "                gene_corrs.append(r)\n",
    "            except Warning as e:\n",
    "                if not DEBUG_MODE:\n",
    "                    raise e\n",
    "\n",
    "                print(\n",
    "                    f\"RuntimeWarning for genes {gene1_obj.ensembl_id} and {gene2_obj.ensembl_id}\",\n",
    "                    flush=True,\n",
    "                )\n",
    "                print(traceback.format_exc(), flush=True)\n",
    "\n",
    "                gene_corrs.append(np.nan)\n",
    "            except Exception as e:\n",
    "                if not DEBUG_MODE:\n",
    "                    raise e\n",
    "\n",
    "                print(\n",
    "                    f\"Exception for genes {gene1_obj.ensembl_id} and {gene2_obj.ensembl_id}\",\n",
    "                    flush=True,\n",
    "                )\n",
    "                print(traceback.format_exc(), flush=True)\n",
    "\n",
    "                gene_corrs.append(np.nan)\n",
    "\n",
    "            pbar.update(1)\n",
    "\n",
    "# create a pandas series\n",
    "gene_corrs_flat = pd.Series(gene_corrs)\n",
    "\n",
    "# save\n",
    "# FIXME: consider saving only the condenced matrix here. See here for\n",
    "# more details: https://github.com/greenelab/phenoplier/pull/38#discussion_r634600813\n",
    "gene_corrs_data = squareform(np.array(gene_corrs, dtype=np.float64))\n",
    "np.fill_diagonal(gene_corrs_data, 1.0)\n",
    "\n",
    "gene_chr_ids = [g.ensembl_id for g in gene_chr_objs]\n",
    "gene_corrs_df = pd.DataFrame(\n",
    "    data=gene_corrs_data,\n",
    "    index=gene_chr_ids,\n",
    "    columns=gene_chr_ids,\n",
    ")\n",
    "\n",
    "output_dir.mkdir(exist_ok=True, parents=True)\n",
    "display(output_file)\n",
    "\n",
    "gene_corrs_df.to_pickle(output_file)"
   ]
  },
  {
   "cell_type": "markdown",
   "id": "faa67b51-5373-470f-aa72-2ded53fa6dfe",
   "metadata": {
    "papermill": {
     "duration": 0.554616,
     "end_time": "2022-07-22T05:04:04.331844",
     "exception": false,
     "start_time": "2022-07-22T05:04:03.777228",
     "status": "completed"
    },
    "tags": []
   },
   "source": [
    "# Testing"
   ]
  },
  {
   "cell_type": "code",
   "execution_count": 34,
   "id": "14f7d046-4b55-4896-a56b-990127bcc388",
   "metadata": {
    "execution": {
     "iopub.execute_input": "2022-07-22T05:04:05.462125Z",
     "iopub.status.busy": "2022-07-22T05:04:05.461948Z",
     "iopub.status.idle": "2022-07-22T05:04:05.479411Z",
     "shell.execute_reply": "2022-07-22T05:04:05.478974Z"
    },
    "papermill": {
     "duration": 0.59052,
     "end_time": "2022-07-22T05:04:05.480766",
     "exception": false,
     "start_time": "2022-07-22T05:04:04.890246",
     "status": "completed"
    },
    "tags": []
   },
   "outputs": [
    {
     "data": {
      "text/plain": [
       "(170, 170)"
      ]
     },
     "execution_count": 34,
     "metadata": {},
     "output_type": "execute_result"
    }
   ],
   "source": [
    "gene_corrs_df.shape"
   ]
  },
  {
   "cell_type": "code",
   "execution_count": 35,
   "id": "c7d15414-3297-4537-a7c6-7588c0baeb75",
   "metadata": {
    "execution": {
     "iopub.execute_input": "2022-07-22T05:04:06.578219Z",
     "iopub.status.busy": "2022-07-22T05:04:06.578060Z",
     "iopub.status.idle": "2022-07-22T05:04:06.605861Z",
     "shell.execute_reply": "2022-07-22T05:04:06.605389Z"
    },
    "papermill": {
     "duration": 0.59234,
     "end_time": "2022-07-22T05:04:06.607032",
     "exception": false,
     "start_time": "2022-07-22T05:04:06.014692",
     "status": "completed"
    },
    "tags": []
   },
   "outputs": [
    {
     "data": {
      "text/html": [
       "<div>\n",
       "<style scoped>\n",
       "    .dataframe tbody tr th:only-of-type {\n",
       "        vertical-align: middle;\n",
       "    }\n",
       "\n",
       "    .dataframe tbody tr th {\n",
       "        vertical-align: top;\n",
       "    }\n",
       "\n",
       "    .dataframe thead th {\n",
       "        text-align: right;\n",
       "    }\n",
       "</style>\n",
       "<table border=\"1\" class=\"dataframe\">\n",
       "  <thead>\n",
       "    <tr style=\"text-align: right;\">\n",
       "      <th></th>\n",
       "      <th>ENSG00000177663</th>\n",
       "      <th>ENSG00000131100</th>\n",
       "      <th>ENSG00000099968</th>\n",
       "      <th>ENSG00000015475</th>\n",
       "      <th>ENSG00000243156</th>\n",
       "      <th>ENSG00000215193</th>\n",
       "      <th>ENSG00000183785</th>\n",
       "      <th>ENSG00000184979</th>\n",
       "      <th>ENSG00000100033</th>\n",
       "      <th>ENSG00000100075</th>\n",
       "      <th>...</th>\n",
       "      <th>ENSG00000196576</th>\n",
       "      <th>ENSG00000128165</th>\n",
       "      <th>ENSG00000100253</th>\n",
       "      <th>ENSG00000130489</th>\n",
       "      <th>ENSG00000025708</th>\n",
       "      <th>ENSG00000205560</th>\n",
       "      <th>ENSG00000100288</th>\n",
       "      <th>ENSG00000008735</th>\n",
       "      <th>ENSG00000100299</th>\n",
       "      <th>ENSG00000251322</th>\n",
       "    </tr>\n",
       "  </thead>\n",
       "  <tbody>\n",
       "    <tr>\n",
       "      <th>ENSG00000177663</th>\n",
       "      <td>1.000000</td>\n",
       "      <td>0.006885</td>\n",
       "      <td>0.011973</td>\n",
       "      <td>0.007085</td>\n",
       "      <td>0.016720</td>\n",
       "      <td>0.010888</td>\n",
       "      <td>0.015925</td>\n",
       "      <td>0.008418</td>\n",
       "      <td>0.012096</td>\n",
       "      <td>0.004643</td>\n",
       "      <td>...</td>\n",
       "      <td>0.0</td>\n",
       "      <td>0.0</td>\n",
       "      <td>0.0</td>\n",
       "      <td>0.0</td>\n",
       "      <td>0.0</td>\n",
       "      <td>0.0</td>\n",
       "      <td>0.0</td>\n",
       "      <td>0.0</td>\n",
       "      <td>0.0</td>\n",
       "      <td>0.0</td>\n",
       "    </tr>\n",
       "    <tr>\n",
       "      <th>ENSG00000131100</th>\n",
       "      <td>0.006885</td>\n",
       "      <td>1.000000</td>\n",
       "      <td>0.556418</td>\n",
       "      <td>0.253376</td>\n",
       "      <td>0.019566</td>\n",
       "      <td>0.012030</td>\n",
       "      <td>0.017317</td>\n",
       "      <td>0.006565</td>\n",
       "      <td>0.009928</td>\n",
       "      <td>0.000792</td>\n",
       "      <td>...</td>\n",
       "      <td>0.0</td>\n",
       "      <td>0.0</td>\n",
       "      <td>0.0</td>\n",
       "      <td>0.0</td>\n",
       "      <td>0.0</td>\n",
       "      <td>0.0</td>\n",
       "      <td>0.0</td>\n",
       "      <td>0.0</td>\n",
       "      <td>0.0</td>\n",
       "      <td>0.0</td>\n",
       "    </tr>\n",
       "    <tr>\n",
       "      <th>ENSG00000099968</th>\n",
       "      <td>0.011973</td>\n",
       "      <td>0.556418</td>\n",
       "      <td>1.000000</td>\n",
       "      <td>0.378947</td>\n",
       "      <td>0.026867</td>\n",
       "      <td>0.016886</td>\n",
       "      <td>0.022113</td>\n",
       "      <td>0.014682</td>\n",
       "      <td>0.015125</td>\n",
       "      <td>0.003139</td>\n",
       "      <td>...</td>\n",
       "      <td>0.0</td>\n",
       "      <td>0.0</td>\n",
       "      <td>0.0</td>\n",
       "      <td>0.0</td>\n",
       "      <td>0.0</td>\n",
       "      <td>0.0</td>\n",
       "      <td>0.0</td>\n",
       "      <td>0.0</td>\n",
       "      <td>0.0</td>\n",
       "      <td>0.0</td>\n",
       "    </tr>\n",
       "    <tr>\n",
       "      <th>ENSG00000015475</th>\n",
       "      <td>0.007085</td>\n",
       "      <td>0.253376</td>\n",
       "      <td>0.378947</td>\n",
       "      <td>1.000000</td>\n",
       "      <td>0.029674</td>\n",
       "      <td>0.022601</td>\n",
       "      <td>0.027740</td>\n",
       "      <td>0.015188</td>\n",
       "      <td>0.020504</td>\n",
       "      <td>0.010532</td>\n",
       "      <td>...</td>\n",
       "      <td>0.0</td>\n",
       "      <td>0.0</td>\n",
       "      <td>0.0</td>\n",
       "      <td>0.0</td>\n",
       "      <td>0.0</td>\n",
       "      <td>0.0</td>\n",
       "      <td>0.0</td>\n",
       "      <td>0.0</td>\n",
       "      <td>0.0</td>\n",
       "      <td>0.0</td>\n",
       "    </tr>\n",
       "    <tr>\n",
       "      <th>ENSG00000243156</th>\n",
       "      <td>0.016720</td>\n",
       "      <td>0.019566</td>\n",
       "      <td>0.026867</td>\n",
       "      <td>0.029674</td>\n",
       "      <td>1.000000</td>\n",
       "      <td>0.060184</td>\n",
       "      <td>0.028523</td>\n",
       "      <td>0.018416</td>\n",
       "      <td>0.022125</td>\n",
       "      <td>0.008687</td>\n",
       "      <td>...</td>\n",
       "      <td>0.0</td>\n",
       "      <td>0.0</td>\n",
       "      <td>0.0</td>\n",
       "      <td>0.0</td>\n",
       "      <td>0.0</td>\n",
       "      <td>0.0</td>\n",
       "      <td>0.0</td>\n",
       "      <td>0.0</td>\n",
       "      <td>0.0</td>\n",
       "      <td>0.0</td>\n",
       "    </tr>\n",
       "  </tbody>\n",
       "</table>\n",
       "<p>5 rows × 170 columns</p>\n",
       "</div>"
      ],
      "text/plain": [
       "                 ENSG00000177663  ENSG00000131100  ENSG00000099968  \\\n",
       "ENSG00000177663         1.000000         0.006885         0.011973   \n",
       "ENSG00000131100         0.006885         1.000000         0.556418   \n",
       "ENSG00000099968         0.011973         0.556418         1.000000   \n",
       "ENSG00000015475         0.007085         0.253376         0.378947   \n",
       "ENSG00000243156         0.016720         0.019566         0.026867   \n",
       "\n",
       "                 ENSG00000015475  ENSG00000243156  ENSG00000215193  \\\n",
       "ENSG00000177663         0.007085         0.016720         0.010888   \n",
       "ENSG00000131100         0.253376         0.019566         0.012030   \n",
       "ENSG00000099968         0.378947         0.026867         0.016886   \n",
       "ENSG00000015475         1.000000         0.029674         0.022601   \n",
       "ENSG00000243156         0.029674         1.000000         0.060184   \n",
       "\n",
       "                 ENSG00000183785  ENSG00000184979  ENSG00000100033  \\\n",
       "ENSG00000177663         0.015925         0.008418         0.012096   \n",
       "ENSG00000131100         0.017317         0.006565         0.009928   \n",
       "ENSG00000099968         0.022113         0.014682         0.015125   \n",
       "ENSG00000015475         0.027740         0.015188         0.020504   \n",
       "ENSG00000243156         0.028523         0.018416         0.022125   \n",
       "\n",
       "                 ENSG00000100075  ...  ENSG00000196576  ENSG00000128165  \\\n",
       "ENSG00000177663         0.004643  ...              0.0              0.0   \n",
       "ENSG00000131100         0.000792  ...              0.0              0.0   \n",
       "ENSG00000099968         0.003139  ...              0.0              0.0   \n",
       "ENSG00000015475         0.010532  ...              0.0              0.0   \n",
       "ENSG00000243156         0.008687  ...              0.0              0.0   \n",
       "\n",
       "                 ENSG00000100253  ENSG00000130489  ENSG00000025708  \\\n",
       "ENSG00000177663              0.0              0.0              0.0   \n",
       "ENSG00000131100              0.0              0.0              0.0   \n",
       "ENSG00000099968              0.0              0.0              0.0   \n",
       "ENSG00000015475              0.0              0.0              0.0   \n",
       "ENSG00000243156              0.0              0.0              0.0   \n",
       "\n",
       "                 ENSG00000205560  ENSG00000100288  ENSG00000008735  \\\n",
       "ENSG00000177663              0.0              0.0              0.0   \n",
       "ENSG00000131100              0.0              0.0              0.0   \n",
       "ENSG00000099968              0.0              0.0              0.0   \n",
       "ENSG00000015475              0.0              0.0              0.0   \n",
       "ENSG00000243156              0.0              0.0              0.0   \n",
       "\n",
       "                 ENSG00000100299  ENSG00000251322  \n",
       "ENSG00000177663              0.0              0.0  \n",
       "ENSG00000131100              0.0              0.0  \n",
       "ENSG00000099968              0.0              0.0  \n",
       "ENSG00000015475              0.0              0.0  \n",
       "ENSG00000243156              0.0              0.0  \n",
       "\n",
       "[5 rows x 170 columns]"
      ]
     },
     "execution_count": 35,
     "metadata": {},
     "output_type": "execute_result"
    }
   ],
   "source": [
    "gene_corrs_df.head()"
   ]
  },
  {
   "cell_type": "markdown",
   "id": "dad6603f-01c6-41fb-a6f6-241051207dd8",
   "metadata": {
    "papermill": {
     "duration": 0.526267,
     "end_time": "2022-07-22T05:04:07.686636",
     "exception": false,
     "start_time": "2022-07-22T05:04:07.160369",
     "status": "completed"
    },
    "tags": []
   },
   "source": [
    "## Standard checks and stats"
   ]
  },
  {
   "cell_type": "code",
   "execution_count": 36,
   "id": "286686af-1b7b-4440-8453-6bdcbd8de19c",
   "metadata": {
    "execution": {
     "iopub.execute_input": "2022-07-22T05:04:08.803541Z",
     "iopub.status.busy": "2022-07-22T05:04:08.803334Z",
     "iopub.status.idle": "2022-07-22T05:04:08.818591Z",
     "shell.execute_reply": "2022-07-22T05:04:08.818217Z"
    },
    "papermill": {
     "duration": 0.583098,
     "end_time": "2022-07-22T05:04:08.819809",
     "exception": false,
     "start_time": "2022-07-22T05:04:08.236711",
     "status": "completed"
    },
    "tags": []
   },
   "outputs": [],
   "source": [
    "assert not gene_corrs_df.isna().any().any()"
   ]
  },
  {
   "cell_type": "code",
   "execution_count": 37,
   "id": "00583efc-7068-4270-ad1e-4a418e91db96",
   "metadata": {
    "execution": {
     "iopub.execute_input": "2022-07-22T05:04:09.897403Z",
     "iopub.status.busy": "2022-07-22T05:04:09.897205Z",
     "iopub.status.idle": "2022-07-22T05:04:09.913249Z",
     "shell.execute_reply": "2022-07-22T05:04:09.912861Z"
    },
    "papermill": {
     "duration": 0.581401,
     "end_time": "2022-07-22T05:04:09.914498",
     "exception": false,
     "start_time": "2022-07-22T05:04:09.333097",
     "status": "completed"
    },
    "tags": []
   },
   "outputs": [
    {
     "data": {
      "text/plain": [
       "0.0"
      ]
     },
     "metadata": {},
     "output_type": "display_data"
    }
   ],
   "source": [
    "_min_val = gene_corrs_df.min().min()\n",
    "display(_min_val)\n",
    "assert _min_val >= 0.0"
   ]
  },
  {
   "cell_type": "code",
   "execution_count": 38,
   "id": "d04fb2cf-1050-475b-b855-f5f7cc04092b",
   "metadata": {
    "execution": {
     "iopub.execute_input": "2022-07-22T05:04:10.998718Z",
     "iopub.status.busy": "2022-07-22T05:04:10.998518Z",
     "iopub.status.idle": "2022-07-22T05:04:11.015034Z",
     "shell.execute_reply": "2022-07-22T05:04:11.014645Z"
    },
    "papermill": {
     "duration": 0.533882,
     "end_time": "2022-07-22T05:04:11.016218",
     "exception": false,
     "start_time": "2022-07-22T05:04:10.482336",
     "status": "completed"
    },
    "tags": []
   },
   "outputs": [
    {
     "data": {
      "text/plain": [
       "1.0"
      ]
     },
     "metadata": {},
     "output_type": "display_data"
    }
   ],
   "source": [
    "_max_val = gene_corrs_df.max().max()  # this captures the diagonal\n",
    "display(_max_val)\n",
    "assert _max_val <= 1.0"
   ]
  },
  {
   "cell_type": "code",
   "execution_count": 39,
   "id": "96d02c44-1fba-47be-8a93-8f2608420b9c",
   "metadata": {
    "execution": {
     "iopub.execute_input": "2022-07-22T05:04:12.123997Z",
     "iopub.status.busy": "2022-07-22T05:04:12.123832Z",
     "iopub.status.idle": "2022-07-22T05:04:12.138663Z",
     "shell.execute_reply": "2022-07-22T05:04:12.138172Z"
    },
    "papermill": {
     "duration": 0.573158,
     "end_time": "2022-07-22T05:04:12.139937",
     "exception": false,
     "start_time": "2022-07-22T05:04:11.566779",
     "status": "completed"
    },
    "tags": []
   },
   "outputs": [],
   "source": [
    "# check upper triangular values\n",
    "assert len(gene_corrs) == int(genes_chr.shape[0] * (genes_chr.shape[0] - 1) / 2)"
   ]
  },
  {
   "cell_type": "code",
   "execution_count": 40,
   "id": "fe283586-c348-40e0-8841-f6d97bfb021c",
   "metadata": {
    "execution": {
     "iopub.execute_input": "2022-07-22T05:04:13.235255Z",
     "iopub.status.busy": "2022-07-22T05:04:13.235094Z",
     "iopub.status.idle": "2022-07-22T05:04:13.252917Z",
     "shell.execute_reply": "2022-07-22T05:04:13.252362Z"
    },
    "papermill": {
     "duration": 0.537928,
     "end_time": "2022-07-22T05:04:13.254068",
     "exception": false,
     "start_time": "2022-07-22T05:04:12.716140",
     "status": "completed"
    },
    "tags": []
   },
   "outputs": [
    {
     "data": {
      "text/plain": [
       "count    14365.000000\n",
       "mean         0.007478\n",
       "std          0.041196\n",
       "min          0.000000\n",
       "25%          0.000000\n",
       "50%          0.000000\n",
       "75%          0.003600\n",
       "max          0.986330\n",
       "dtype: float64"
      ]
     },
     "execution_count": 40,
     "metadata": {},
     "output_type": "execute_result"
    }
   ],
   "source": [
    "gene_corrs_flat.describe()"
   ]
  },
  {
   "cell_type": "code",
   "execution_count": 41,
   "id": "b3815678-0f93-4b35-897b-a9d047a2aa78",
   "metadata": {
    "execution": {
     "iopub.execute_input": "2022-07-22T05:04:14.375599Z",
     "iopub.status.busy": "2022-07-22T05:04:14.375394Z",
     "iopub.status.idle": "2022-07-22T05:04:14.392238Z",
     "shell.execute_reply": "2022-07-22T05:04:14.391874Z"
    },
    "papermill": {
     "duration": 0.581987,
     "end_time": "2022-07-22T05:04:14.393292",
     "exception": false,
     "start_time": "2022-07-22T05:04:13.811305",
     "status": "completed"
    },
    "tags": []
   },
   "outputs": [
    {
     "data": {
      "text/plain": [
       "0.00    0.000000\n",
       "0.05    0.000000\n",
       "0.10    0.000000\n",
       "0.15    0.000000\n",
       "0.20    0.000000\n",
       "0.25    0.000000\n",
       "0.30    0.000000\n",
       "0.35    0.000000\n",
       "0.40    0.000000\n",
       "0.45    0.000000\n",
       "0.50    0.000000\n",
       "0.55    0.000000\n",
       "0.60    0.000000\n",
       "0.65    0.000000\n",
       "0.70    0.000000\n",
       "0.75    0.003600\n",
       "0.80    0.006440\n",
       "0.85    0.008797\n",
       "0.90    0.011598\n",
       "0.95    0.016364\n",
       "dtype: float64"
      ]
     },
     "metadata": {},
     "output_type": "display_data"
    }
   ],
   "source": [
    "gene_corrs_quantiles = gene_corrs_flat.quantile(np.arange(0, 1, 0.05))\n",
    "display(gene_corrs_quantiles)"
   ]
  },
  {
   "cell_type": "markdown",
   "id": "87134509-b145-4a10-8bc9-b7e914c2b0fa",
   "metadata": {
    "papermill": {
     "duration": 0.555637,
     "end_time": "2022-07-22T05:04:15.470097",
     "exception": false,
     "start_time": "2022-07-22T05:04:14.914460",
     "status": "completed"
    },
    "tags": []
   },
   "source": [
    "## Positive definiteness"
   ]
  },
  {
   "cell_type": "code",
   "execution_count": 42,
   "id": "07d9a9a1-a4f7-48aa-b916-6d42a8cc6186",
   "metadata": {
    "execution": {
     "iopub.execute_input": "2022-07-22T05:04:16.566763Z",
     "iopub.status.busy": "2022-07-22T05:04:16.566545Z",
     "iopub.status.idle": "2022-07-22T05:04:16.590311Z",
     "shell.execute_reply": "2022-07-22T05:04:16.589916Z"
    },
    "papermill": {
     "duration": 0.560415,
     "end_time": "2022-07-22T05:04:16.591448",
     "exception": false,
     "start_time": "2022-07-22T05:04:16.031033",
     "status": "completed"
    },
    "tags": []
   },
   "outputs": [
    {
     "data": {
      "text/plain": [
       "0"
      ]
     },
     "metadata": {},
     "output_type": "display_data"
    },
    {
     "data": {
      "text/plain": [
       "array([], dtype=float64)"
      ]
     },
     "metadata": {},
     "output_type": "display_data"
    }
   ],
   "source": [
    "# print negative eigenvalues\n",
    "eigs = np.linalg.eigvals(gene_corrs_df.to_numpy())\n",
    "display(len(eigs[eigs < 0]))\n",
    "display(eigs[eigs < 0])"
   ]
  },
  {
   "cell_type": "code",
   "execution_count": 43,
   "id": "6e218436-c3c5-4028-8c94-a4fa6260efce",
   "metadata": {
    "execution": {
     "iopub.execute_input": "2022-07-22T05:04:17.704603Z",
     "iopub.status.busy": "2022-07-22T05:04:17.704406Z",
     "iopub.status.idle": "2022-07-22T05:04:17.720379Z",
     "shell.execute_reply": "2022-07-22T05:04:17.720009Z"
    },
    "papermill": {
     "duration": 0.574821,
     "end_time": "2022-07-22T05:04:17.721406",
     "exception": false,
     "start_time": "2022-07-22T05:04:17.146585",
     "status": "completed"
    },
    "tags": []
   },
   "outputs": [
    {
     "name": "stdout",
     "output_type": "stream",
     "text": [
      "Works!\n"
     ]
    }
   ],
   "source": [
    "try:\n",
    "    chol_mat = np.linalg.cholesky(gene_corrs_df.to_numpy())\n",
    "    cov_inv = np.linalg.inv(chol_mat)\n",
    "    print(\"Works!\")\n",
    "except:\n",
    "    print(\"Cholesky decomposition failed\")"
   ]
  },
  {
   "cell_type": "markdown",
   "id": "8e60a080-edb2-4e9c-b2ef-22961693200c",
   "metadata": {
    "papermill": {
     "duration": 0.553708,
     "end_time": "2022-07-22T05:04:18.794509",
     "exception": false,
     "start_time": "2022-07-22T05:04:18.240801",
     "status": "completed"
    },
    "tags": []
   },
   "source": [
    "## Plot: distribution"
   ]
  },
  {
   "cell_type": "code",
   "execution_count": 44,
   "id": "8301126b-a7d4-4744-9c7d-f0f86eb6f54c",
   "metadata": {
    "execution": {
     "iopub.execute_input": "2022-07-22T05:04:19.873808Z",
     "iopub.status.busy": "2022-07-22T05:04:19.873643Z",
     "iopub.status.idle": "2022-07-22T05:04:26.090212Z",
     "shell.execute_reply": "2022-07-22T05:04:26.089705Z"
    },
    "papermill": {
     "duration": 6.742075,
     "end_time": "2022-07-22T05:04:26.091662",
     "exception": false,
     "start_time": "2022-07-22T05:04:19.349587",
     "status": "completed"
    },
    "tags": []
   },
   "outputs": [
    {
     "data": {
      "image/png": "[encoded data removed]",
      "text/plain": [
       "<Figure size 504x504 with 1 Axes>"
      ]
     },
     "metadata": {
      "needs_background": "light"
     },
     "output_type": "display_data"
    }
   ],
   "source": [
    "with sns.plotting_context(\"paper\", font_scale=1.5):\n",
    "    g = sns.displot(gene_corrs_flat, kde=True, height=7)\n",
    "    g.ax.set_title(\n",
    "        f\"Distribution of gene correlation values in chromosome {CHROMOSOME}\"\n",
    "    )"
   ]
  },
  {
   "cell_type": "markdown",
   "id": "cbd52bca-d878-4a2f-b684-5c83aa3038d4",
   "metadata": {
    "papermill": {
     "duration": 0.5622,
     "end_time": "2022-07-22T05:04:27.216209",
     "exception": false,
     "start_time": "2022-07-22T05:04:26.654009",
     "status": "completed"
    },
    "tags": []
   },
   "source": [
    "## Plot: heatmap"
   ]
  },
  {
   "cell_type": "code",
   "execution_count": 45,
   "id": "d03fe63a-c7b2-4fb9-a53c-db362ce843c9",
   "metadata": {
    "execution": {
     "iopub.execute_input": "2022-07-22T05:04:28.310240Z",
     "iopub.status.busy": "2022-07-22T05:04:28.310033Z",
     "iopub.status.idle": "2022-07-22T05:04:28.326406Z",
     "shell.execute_reply": "2022-07-22T05:04:28.325917Z"
    },
    "papermill": {
     "duration": 0.574741,
     "end_time": "2022-07-22T05:04:28.327696",
     "exception": false,
     "start_time": "2022-07-22T05:04:27.752955",
     "status": "completed"
    },
    "tags": []
   },
   "outputs": [
    {
     "data": {
      "text/plain": [
       "'0.0 / 0.05'"
      ]
     },
     "metadata": {},
     "output_type": "display_data"
    }
   ],
   "source": [
    "vmin_val = min(0.00, gene_corrs_quantiles[0.10])\n",
    "vmax_val = max(0.05, gene_corrs_quantiles[0.90])\n",
    "display(f\"{vmin_val} / {vmax_val}\")"
   ]
  },
  {
   "cell_type": "code",
   "execution_count": 46,
   "id": "dc41b70b-5bcc-4d9e-9f33-a22c4a94dab5",
   "metadata": {
    "execution": {
     "iopub.execute_input": "2022-07-22T05:04:29.464192Z",
     "iopub.status.busy": "2022-07-22T05:04:29.463979Z",
     "iopub.status.idle": "2022-07-22T05:04:29.629533Z",
     "shell.execute_reply": "2022-07-22T05:04:29.629072Z"
    },
    "papermill": {
     "duration": 0.74126,
     "end_time": "2022-07-22T05:04:29.630715",
     "exception": false,
     "start_time": "2022-07-22T05:04:28.889455",
     "status": "completed"
    },
    "tags": []
   },
   "outputs": [
    {
     "data": {
      "text/plain": [
       "Text(0.5, 1.0, 'Gene correlations in chromosome 22')"
      ]
     },
     "execution_count": 46,
     "metadata": {},
     "output_type": "execute_result"
    },
    {
     "data": {
      "image/png": "[encoded data removed]",
      "text/plain": [
       "<Figure size 720x720 with 2 Axes>"
      ]
     },
     "metadata": {
      "needs_background": "light"
     },
     "output_type": "display_data"
    }
   ],
   "source": [
    "f, ax = plt.subplots(figsize=(10, 10))\n",
    "sns.heatmap(\n",
    "    gene_corrs_df,\n",
    "    xticklabels=False,\n",
    "    yticklabels=False,\n",
    "    square=True,\n",
    "    vmin=vmin_val,\n",
    "    vmax=vmax_val,\n",
    "    cmap=\"rocket_r\",\n",
    "    ax=ax,\n",
    ")\n",
    "ax.set_title(f\"Gene correlations in chromosome {CHROMOSOME}\")"
   ]
  },
  {
   "cell_type": "code",
   "execution_count": null,
   "id": "b25e3ead",
   "metadata": {
    "papermill": {
     "duration": 0.580355,
     "end_time": "2022-07-22T05:04:30.757547",
     "exception": false,
     "start_time": "2022-07-22T05:04:30.177192",
     "status": "completed"
    },
    "tags": []
   },
   "outputs": [],
   "source": []
  }
 ],
 "metadata": {
  "jupytext": {
   "cell_metadata_filter": "all,-execution,-papermill,-trusted",
   "formats": "ipynb,py//py:percent"
  },
  "kernelspec": {
   "display_name": "Python 3 (ipykernel)",
   "language": "python",
   "name": "python3"
  },
  "language_info": {
   "codemirror_mode": {
    "name": "ipython",
    "version": 3
   },
   "file_extension": ".py",
   "mimetype": "text/x-python",
   "name": "python",
   "nbconvert_exporter": "python",
   "pygments_lexer": "ipython3",
   "version": "3.8.13"
  },
  "papermill": {
   "default_parameters": {},
   "duration": 450.885614,
   "end_time": "2022-07-22T05:04:34.390948",
   "environment_variables": {},
   "exception": null,
   "input_path": "nbs/15_gsa_gls/10-gene_expr_correlations.ipynb",
   "output_path": "nbs/15_gsa_gls/gene_corrs/cohorts/1000g_eur/1000g/mashr/10-gene_expr_correlations-chr22.run.ipynb",
   "parameters": {
    "CHROMOSOME": 22,
    "COHORT_NAME": "1000G_EUR",
    "EQTL_MODEL": "MASHR",
    "REFERENCE_PANEL": "1000G"
   },
   "start_time": "2022-07-22T04:57:03.505334",
   "version": "2.2.2"
  }
 },
 "nbformat": 4,
 "nbformat_minor": 5
}
