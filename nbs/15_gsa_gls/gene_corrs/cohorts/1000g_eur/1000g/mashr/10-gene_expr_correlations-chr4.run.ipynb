{
 "cells": [
  {
   "cell_type": "markdown",
   "id": "7a6632fb",
   "metadata": {
    "papermill": {
     "duration": 0.035933,
     "end_time": "2022-08-02T20:33:14.160739",
     "exception": false,
     "start_time": "2022-08-02T20:33:14.124806",
     "status": "completed"
    },
    "tags": []
   },
   "source": [
    "# Description"
   ]
  },
  {
   "cell_type": "markdown",
   "id": "7097c346",
   "metadata": {
    "papermill": {
     "duration": 0.07548,
     "end_time": "2022-08-02T20:33:14.257608",
     "exception": false,
     "start_time": "2022-08-02T20:33:14.182128",
     "status": "completed"
    },
    "tags": []
   },
   "source": [
    "(Please, take a look at the README.md file in this directory for instructions on how to run this notebook)\n",
    "\n",
    "This notebook computes predicted expression correlations between all genes in the MultiPLIER models.\n",
    "\n",
    "It also has a parameter set for papermill to run on a single chromosome to run in parallel (see under `Settings` below).\n",
    "\n",
    "This notebook is not directly run. See README.md."
   ]
  },
  {
   "cell_type": "markdown",
   "id": "c61d8427",
   "metadata": {
    "papermill": {
     "duration": 0.024074,
     "end_time": "2022-08-02T20:33:14.301949",
     "exception": false,
     "start_time": "2022-08-02T20:33:14.277875",
     "status": "completed"
    },
    "tags": []
   },
   "source": [
    "# Modules"
   ]
  },
  {
   "cell_type": "code",
   "execution_count": 1,
   "id": "bbc0234f",
   "metadata": {
    "execution": {
     "iopub.execute_input": "2022-08-02T20:33:14.329598Z",
     "iopub.status.busy": "2022-08-02T20:33:14.329302Z",
     "iopub.status.idle": "2022-08-02T20:33:14.408286Z",
     "shell.execute_reply": "2022-08-02T20:33:14.407681Z"
    },
    "papermill": {
     "duration": 0.09317,
     "end_time": "2022-08-02T20:33:14.410320",
     "exception": false,
     "start_time": "2022-08-02T20:33:14.317150",
     "status": "completed"
    },
    "tags": []
   },
   "outputs": [],
   "source": [
    "%load_ext autoreload\n",
    "%autoreload 2"
   ]
  },
  {
   "cell_type": "code",
   "execution_count": 2,
   "id": "1d5f5a59",
   "metadata": {
    "execution": {
     "iopub.execute_input": "2022-08-02T20:33:14.433932Z",
     "iopub.status.busy": "2022-08-02T20:33:14.433732Z",
     "iopub.status.idle": "2022-08-02T20:33:17.412846Z",
     "shell.execute_reply": "2022-08-02T20:33:17.412213Z"
    },
    "papermill": {
     "duration": 2.993785,
     "end_time": "2022-08-02T20:33:17.414862",
     "exception": false,
     "start_time": "2022-08-02T20:33:14.421077",
     "status": "completed"
    },
    "tags": []
   },
   "outputs": [],
   "source": [
    "from random import sample, seed\n",
    "import warnings\n",
    "from pathlib import Path\n",
    "import pickle\n",
    "import traceback\n",
    "\n",
    "import numpy as np\n",
    "from scipy.spatial.distance import squareform\n",
    "import pandas as pd\n",
    "from tqdm import tqdm\n",
    "import matplotlib.pyplot as plt\n",
    "import seaborn as sns\n",
    "\n",
    "import conf\n",
    "from entity import Gene"
   ]
  },
  {
   "cell_type": "markdown",
   "id": "1eac24b5",
   "metadata": {
    "papermill": {
     "duration": 0.009235,
     "end_time": "2022-08-02T20:33:17.432888",
     "exception": false,
     "start_time": "2022-08-02T20:33:17.423653",
     "status": "completed"
    },
    "tags": []
   },
   "source": [
    "# Settings"
   ]
  },
  {
   "cell_type": "code",
   "execution_count": 3,
   "id": "ca4560ba",
   "metadata": {
    "execution": {
     "iopub.execute_input": "2022-08-02T20:33:17.451697Z",
     "iopub.status.busy": "2022-08-02T20:33:17.451479Z",
     "iopub.status.idle": "2022-08-02T20:33:17.587699Z",
     "shell.execute_reply": "2022-08-02T20:33:17.587084Z"
    },
    "papermill": {
     "duration": 0.148274,
     "end_time": "2022-08-02T20:33:17.589674",
     "exception": false,
     "start_time": "2022-08-02T20:33:17.441400",
     "status": "completed"
    },
    "tags": [
     "parameters"
    ]
   },
   "outputs": [],
   "source": [
    "# a cohort name (it could be something like UK_BIOBANK, etc)\n",
    "COHORT_NAME = None\n",
    "\n",
    "# reference panel such as 1000G or GTEX_V8\n",
    "REFERENCE_PANEL = None\n",
    "\n",
    "# predictions models such as MASHR or ELASTIC_NET\n",
    "EQTL_MODEL = None\n",
    "\n",
    "# this is the default value used in S-MultiXcan to select the\n",
    "# top principal components of the expression correlation matrix\n",
    "SMULTIXCAN_CONDITION_NUMBER = 30\n",
    "\n",
    "# specifies a single chromosome value\n",
    "CHROMOSOME = None\n",
    "\n",
    "# If True, computes the correlation between closeby genes only;\n",
    "# otherwise, it computes correlations for all genes in a chromosome\n",
    "COMPUTE_CORRELATIONS_WITHIN_DISTANCE = False\n",
    "\n",
    "# if True, then it will continue if a gene pair correlation fails,\n",
    "# printing the warning/error for debugging. If False, any warning/error\n",
    "# will be thrown\n",
    "DEBUG_MODE = False"
   ]
  },
  {
   "cell_type": "code",
   "execution_count": 4,
   "id": "58591895",
   "metadata": {
    "execution": {
     "iopub.execute_input": "2022-08-02T20:33:17.608214Z",
     "iopub.status.busy": "2022-08-02T20:33:17.608001Z",
     "iopub.status.idle": "2022-08-02T20:33:17.626449Z",
     "shell.execute_reply": "2022-08-02T20:33:17.625866Z"
    },
    "papermill": {
     "duration": 0.029017,
     "end_time": "2022-08-02T20:33:17.627979",
     "exception": false,
     "start_time": "2022-08-02T20:33:17.598962",
     "status": "completed"
    },
    "tags": [
     "injected-parameters"
    ]
   },
   "outputs": [],
   "source": [
    "# Parameters\n",
    "COHORT_NAME = \"1000G_EUR\"\n",
    "REFERENCE_PANEL = \"1000G\"\n",
    "EQTL_MODEL = \"MASHR\"\n",
    "CHROMOSOME = 4\n"
   ]
  },
  {
   "cell_type": "code",
   "execution_count": 5,
   "id": "3190631f-27fc-480f-b18e-571d580425a5",
   "metadata": {
    "execution": {
     "iopub.execute_input": "2022-08-02T20:33:17.647273Z",
     "iopub.status.busy": "2022-08-02T20:33:17.646993Z",
     "iopub.status.idle": "2022-08-02T20:33:17.669903Z",
     "shell.execute_reply": "2022-08-02T20:33:17.669401Z"
    },
    "papermill": {
     "duration": 0.034227,
     "end_time": "2022-08-02T20:33:17.671371",
     "exception": false,
     "start_time": "2022-08-02T20:33:17.637144",
     "status": "completed"
    },
    "tags": []
   },
   "outputs": [
    {
     "data": {
      "text/plain": [
       "'Cohort name: 1000g_eur'"
      ]
     },
     "metadata": {},
     "output_type": "display_data"
    }
   ],
   "source": [
    "assert COHORT_NAME is not None and len(COHORT_NAME) > 0, \"A cohort name must be given\"\n",
    "\n",
    "COHORT_NAME = COHORT_NAME.lower()\n",
    "display(f\"Cohort name: {COHORT_NAME}\")"
   ]
  },
  {
   "cell_type": "code",
   "execution_count": 6,
   "id": "f53ba19b-0f93-4fa2-a047-63b375939d1a",
   "metadata": {
    "execution": {
     "iopub.execute_input": "2022-08-02T20:33:17.690783Z",
     "iopub.status.busy": "2022-08-02T20:33:17.690557Z",
     "iopub.status.idle": "2022-08-02T20:33:17.710836Z",
     "shell.execute_reply": "2022-08-02T20:33:17.710318Z"
    },
    "papermill": {
     "duration": 0.031486,
     "end_time": "2022-08-02T20:33:17.712525",
     "exception": false,
     "start_time": "2022-08-02T20:33:17.681039",
     "status": "completed"
    },
    "tags": []
   },
   "outputs": [
    {
     "data": {
      "text/plain": [
       "'Reference panel: 1000G'"
      ]
     },
     "metadata": {},
     "output_type": "display_data"
    }
   ],
   "source": [
    "assert (\n",
    "    REFERENCE_PANEL is not None and len(REFERENCE_PANEL) > 0\n",
    "), \"A reference panel must be given\"\n",
    "\n",
    "display(f\"Reference panel: {REFERENCE_PANEL}\")"
   ]
  },
  {
   "cell_type": "code",
   "execution_count": 7,
   "id": "e024d130-c139-429a-9c6e-ccf149e297b0",
   "metadata": {
    "execution": {
     "iopub.execute_input": "2022-08-02T20:33:17.731537Z",
     "iopub.status.busy": "2022-08-02T20:33:17.731294Z",
     "iopub.status.idle": "2022-08-02T20:33:17.751581Z",
     "shell.execute_reply": "2022-08-02T20:33:17.751065Z"
    },
    "papermill": {
     "duration": 0.031602,
     "end_time": "2022-08-02T20:33:17.753068",
     "exception": false,
     "start_time": "2022-08-02T20:33:17.721466",
     "status": "completed"
    },
    "tags": []
   },
   "outputs": [
    {
     "data": {
      "text/plain": [
       "'eQTL model: MASHR) / mashr_'"
      ]
     },
     "metadata": {},
     "output_type": "display_data"
    }
   ],
   "source": [
    "assert (\n",
    "    EQTL_MODEL is not None and len(EQTL_MODEL) > 0\n",
    "), \"A prediction/eQTL model must be given\"\n",
    "\n",
    "EQTL_MODEL_FILES_PREFIX = conf.PHENOMEXCAN[\"PREDICTION_MODELS\"][f\"{EQTL_MODEL}_PREFIX\"]\n",
    "display(f\"eQTL model: {EQTL_MODEL}) / {EQTL_MODEL_FILES_PREFIX}\")"
   ]
  },
  {
   "cell_type": "code",
   "execution_count": 8,
   "id": "552a7f63-a18c-4d3e-bb6a-94f99b431291",
   "metadata": {
    "execution": {
     "iopub.execute_input": "2022-08-02T20:33:17.777347Z",
     "iopub.status.busy": "2022-08-02T20:33:17.777128Z",
     "iopub.status.idle": "2022-08-02T20:33:17.806466Z",
     "shell.execute_reply": "2022-08-02T20:33:17.805948Z"
    },
    "papermill": {
     "duration": 0.043034,
     "end_time": "2022-08-02T20:33:17.807927",
     "exception": false,
     "start_time": "2022-08-02T20:33:17.764893",
     "status": "completed"
    },
    "tags": []
   },
   "outputs": [
    {
     "data": {
      "text/plain": [
       "'S-MultiXcan condition number: 30'"
      ]
     },
     "metadata": {},
     "output_type": "display_data"
    }
   ],
   "source": [
    "assert (\n",
    "    SMULTIXCAN_CONDITION_NUMBER is not None and SMULTIXCAN_CONDITION_NUMBER > 0\n",
    "), \"The S-MultiXcan condition number (positive integer) must be given\"\n",
    "\n",
    "display(f\"S-MultiXcan condition number: {SMULTIXCAN_CONDITION_NUMBER}\")"
   ]
  },
  {
   "cell_type": "code",
   "execution_count": 9,
   "id": "f34a336f-548e-4afe-8955-90eaea4f42c6",
   "metadata": {
    "execution": {
     "iopub.execute_input": "2022-08-02T20:33:17.834209Z",
     "iopub.status.busy": "2022-08-02T20:33:17.833973Z",
     "iopub.status.idle": "2022-08-02T20:33:17.854488Z",
     "shell.execute_reply": "2022-08-02T20:33:17.853954Z"
    },
    "papermill": {
     "duration": 0.034979,
     "end_time": "2022-08-02T20:33:17.855982",
     "exception": false,
     "start_time": "2022-08-02T20:33:17.821003",
     "status": "completed"
    },
    "tags": []
   },
   "outputs": [
    {
     "data": {
      "text/plain": [
       "'Working on chromosome 4'"
      ]
     },
     "metadata": {},
     "output_type": "display_data"
    }
   ],
   "source": [
    "assert CHROMOSOME is not None and (\n",
    "    1 <= CHROMOSOME <= 22\n",
    "), \"You have to select one chromosome (format: number between 1 and 22)\"\n",
    "\n",
    "CHROMOSOME = str(CHROMOSOME)\n",
    "display(f\"Working on chromosome {CHROMOSOME}\")"
   ]
  },
  {
   "cell_type": "code",
   "execution_count": 10,
   "id": "ab8e96e8-06b5-4363-9dcd-dc4d78cc27f7",
   "metadata": {
    "execution": {
     "iopub.execute_input": "2022-08-02T20:33:17.874548Z",
     "iopub.status.busy": "2022-08-02T20:33:17.874357Z",
     "iopub.status.idle": "2022-08-02T20:33:17.895308Z",
     "shell.execute_reply": "2022-08-02T20:33:17.894800Z"
    },
    "papermill": {
     "duration": 0.032089,
     "end_time": "2022-08-02T20:33:17.896787",
     "exception": false,
     "start_time": "2022-08-02T20:33:17.864698",
     "status": "completed"
    },
    "tags": []
   },
   "outputs": [
    {
     "data": {
      "text/plain": [
       "'Compute correlation within distance False'"
      ]
     },
     "metadata": {},
     "output_type": "display_data"
    }
   ],
   "source": [
    "display(f\"Compute correlation within distance {COMPUTE_CORRELATIONS_WITHIN_DISTANCE}\")"
   ]
  },
  {
   "cell_type": "code",
   "execution_count": 11,
   "id": "396392dc-0340-4540-9b02-e182b833f909",
   "metadata": {
    "execution": {
     "iopub.execute_input": "2022-08-02T20:33:17.924530Z",
     "iopub.status.busy": "2022-08-02T20:33:17.924320Z",
     "iopub.status.idle": "2022-08-02T20:33:17.971823Z",
     "shell.execute_reply": "2022-08-02T20:33:17.971278Z"
    },
    "papermill": {
     "duration": 0.063565,
     "end_time": "2022-08-02T20:33:17.973404",
     "exception": false,
     "start_time": "2022-08-02T20:33:17.909839",
     "status": "completed"
    },
    "tags": []
   },
   "outputs": [
    {
     "data": {
      "text/plain": [
       "'Using output dir base: /project/ritchie20/projects/phenoplier/base/results/gls/gene_corrs/cohorts/1000g_eur/1000g/mashr'"
      ]
     },
     "metadata": {},
     "output_type": "display_data"
    }
   ],
   "source": [
    "OUTPUT_DIR_BASE = (\n",
    "    conf.RESULTS[\"GLS\"]\n",
    "    / \"gene_corrs\"\n",
    "    / \"cohorts\"\n",
    "    / COHORT_NAME\n",
    "    / REFERENCE_PANEL.lower()\n",
    "    / EQTL_MODEL.lower()\n",
    ")\n",
    "OUTPUT_DIR_BASE.mkdir(parents=True, exist_ok=True)\n",
    "\n",
    "display(f\"Using output dir base: {OUTPUT_DIR_BASE}\")"
   ]
  },
  {
   "cell_type": "markdown",
   "id": "d2ba085e",
   "metadata": {
    "papermill": {
     "duration": 0.022279,
     "end_time": "2022-08-02T20:33:18.018572",
     "exception": false,
     "start_time": "2022-08-02T20:33:17.996293",
     "status": "completed"
    },
    "tags": []
   },
   "source": [
    "# Load data"
   ]
  },
  {
   "cell_type": "markdown",
   "id": "7dcb8db7",
   "metadata": {
    "papermill": {
     "duration": 0.015499,
     "end_time": "2022-08-02T20:33:18.048798",
     "exception": false,
     "start_time": "2022-08-02T20:33:18.033299",
     "status": "completed"
    },
    "tags": []
   },
   "source": [
    "## GWAS variants"
   ]
  },
  {
   "cell_type": "code",
   "execution_count": 12,
   "id": "29434c4e-8cd3-4b9b-82e4-b5a251d9dd19",
   "metadata": {
    "execution": {
     "iopub.execute_input": "2022-08-02T20:33:18.090080Z",
     "iopub.status.busy": "2022-08-02T20:33:18.089800Z",
     "iopub.status.idle": "2022-08-02T20:33:20.956288Z",
     "shell.execute_reply": "2022-08-02T20:33:20.955432Z"
    },
    "papermill": {
     "duration": 2.888477,
     "end_time": "2022-08-02T20:33:20.958418",
     "exception": false,
     "start_time": "2022-08-02T20:33:18.069941",
     "status": "completed"
    },
    "tags": []
   },
   "outputs": [],
   "source": [
    "with open(OUTPUT_DIR_BASE / \"gwas_variant_ids.pkl\", \"rb\") as handle:\n",
    "    gwas_variants_ids_set = pickle.load(handle)"
   ]
  },
  {
   "cell_type": "code",
   "execution_count": 13,
   "id": "b9d9dec2-4a76-4bf9-bde2-e24c95acb8a0",
   "metadata": {
    "execution": {
     "iopub.execute_input": "2022-08-02T20:33:21.011963Z",
     "iopub.status.busy": "2022-08-02T20:33:21.011689Z",
     "iopub.status.idle": "2022-08-02T20:33:21.671912Z",
     "shell.execute_reply": "2022-08-02T20:33:21.671366Z"
    },
    "papermill": {
     "duration": 0.688023,
     "end_time": "2022-08-02T20:33:21.673548",
     "exception": false,
     "start_time": "2022-08-02T20:33:20.985525",
     "status": "completed"
    },
    "tags": []
   },
   "outputs": [
    {
     "data": {
      "text/plain": [
       "8325729"
      ]
     },
     "execution_count": 13,
     "metadata": {},
     "output_type": "execute_result"
    }
   ],
   "source": [
    "len(gwas_variants_ids_set)"
   ]
  },
  {
   "cell_type": "code",
   "execution_count": 14,
   "id": "4235b06a-6034-4ee4-a0a3-2ae35d122418",
   "metadata": {
    "execution": {
     "iopub.execute_input": "2022-08-02T20:33:21.695490Z",
     "iopub.status.busy": "2022-08-02T20:33:21.695250Z",
     "iopub.status.idle": "2022-08-02T20:33:22.246603Z",
     "shell.execute_reply": "2022-08-02T20:33:22.246064Z"
    },
    "papermill": {
     "duration": 0.565252,
     "end_time": "2022-08-02T20:33:22.248154",
     "exception": false,
     "start_time": "2022-08-02T20:33:21.682902",
     "status": "completed"
    },
    "tags": []
   },
   "outputs": [
    {
     "data": {
      "text/plain": [
       "['chr5_31623039_T_C_b38',\n",
       " 'chr2_207509407_T_C_b38',\n",
       " 'chr11_115632506_T_A_b38',\n",
       " 'chr10_91400751_C_T_b38',\n",
       " 'chr13_50327967_C_T_b38']"
      ]
     },
     "execution_count": 14,
     "metadata": {},
     "output_type": "execute_result"
    }
   ],
   "source": [
    "list(gwas_variants_ids_set)[:5]"
   ]
  },
  {
   "cell_type": "markdown",
   "id": "07866999-2305-41f9-a144-e69c9122c212",
   "metadata": {
    "papermill": {
     "duration": 0.009219,
     "end_time": "2022-08-02T20:33:22.267921",
     "exception": false,
     "start_time": "2022-08-02T20:33:22.258702",
     "status": "completed"
    },
    "tags": []
   },
   "source": [
    "## S-PrediXcan tissue models"
   ]
  },
  {
   "cell_type": "code",
   "execution_count": 15,
   "id": "780611d9-77c8-405f-90a4-f271f7b09397",
   "metadata": {
    "execution": {
     "iopub.execute_input": "2022-08-02T20:33:22.288694Z",
     "iopub.status.busy": "2022-08-02T20:33:22.288475Z",
     "iopub.status.idle": "2022-08-02T20:33:23.319742Z",
     "shell.execute_reply": "2022-08-02T20:33:23.319140Z"
    },
    "papermill": {
     "duration": 1.043571,
     "end_time": "2022-08-02T20:33:23.321750",
     "exception": false,
     "start_time": "2022-08-02T20:33:22.278179",
     "status": "completed"
    },
    "tags": []
   },
   "outputs": [],
   "source": [
    "spredixcan_genes_models = pd.read_pickle(OUTPUT_DIR_BASE / \"gene_tissues.pkl\")"
   ]
  },
  {
   "cell_type": "code",
   "execution_count": 16,
   "id": "726dd1f6-9557-4225-91fa-b3b879ea96e1",
   "metadata": {
    "execution": {
     "iopub.execute_input": "2022-08-02T20:33:23.369855Z",
     "iopub.status.busy": "2022-08-02T20:33:23.369621Z",
     "iopub.status.idle": "2022-08-02T20:33:23.402455Z",
     "shell.execute_reply": "2022-08-02T20:33:23.401941Z"
    },
    "papermill": {
     "duration": 0.056148,
     "end_time": "2022-08-02T20:33:23.403924",
     "exception": false,
     "start_time": "2022-08-02T20:33:23.347776",
     "status": "completed"
    },
    "tags": []
   },
   "outputs": [
    {
     "data": {
      "text/plain": [
       "(6444, 10)"
      ]
     },
     "execution_count": 16,
     "metadata": {},
     "output_type": "execute_result"
    }
   ],
   "source": [
    "spredixcan_genes_models.shape"
   ]
  },
  {
   "cell_type": "code",
   "execution_count": 17,
   "id": "944a1b48-222c-4eb0-b252-b9de2cbca215",
   "metadata": {
    "execution": {
     "iopub.execute_input": "2022-08-02T20:33:23.436402Z",
     "iopub.status.busy": "2022-08-02T20:33:23.436142Z",
     "iopub.status.idle": "2022-08-02T20:33:23.476860Z",
     "shell.execute_reply": "2022-08-02T20:33:23.476298Z"
    },
    "papermill": {
     "duration": 0.059242,
     "end_time": "2022-08-02T20:33:23.478454",
     "exception": false,
     "start_time": "2022-08-02T20:33:23.419212",
     "status": "completed"
    },
    "tags": []
   },
   "outputs": [
    {
     "data": {
      "text/html": [
       "<div>\n",
       "<style scoped>\n",
       "    .dataframe tbody tr th:only-of-type {\n",
       "        vertical-align: middle;\n",
       "    }\n",
       "\n",
       "    .dataframe tbody tr th {\n",
       "        vertical-align: top;\n",
       "    }\n",
       "\n",
       "    .dataframe thead th {\n",
       "        text-align: right;\n",
       "    }\n",
       "</style>\n",
       "<table border=\"1\" class=\"dataframe\">\n",
       "  <thead>\n",
       "    <tr style=\"text-align: right;\">\n",
       "      <th></th>\n",
       "      <th>gene_name</th>\n",
       "      <th>tissue</th>\n",
       "      <th>n_tissues</th>\n",
       "      <th>tissues_pc_variances</th>\n",
       "      <th>tissues_pc_variances_cov</th>\n",
       "      <th>tissues_variances</th>\n",
       "      <th>n_snps_used_sum</th>\n",
       "      <th>n_snps_in_model_sum</th>\n",
       "      <th>unique_n_snps_in_model</th>\n",
       "      <th>unique_n_snps_used</th>\n",
       "    </tr>\n",
       "    <tr>\n",
       "      <th>gene_id</th>\n",
       "      <th></th>\n",
       "      <th></th>\n",
       "      <th></th>\n",
       "      <th></th>\n",
       "      <th></th>\n",
       "      <th></th>\n",
       "      <th></th>\n",
       "      <th></th>\n",
       "      <th></th>\n",
       "      <th></th>\n",
       "    </tr>\n",
       "  </thead>\n",
       "  <tbody>\n",
       "    <tr>\n",
       "      <th>ENSG00000000419</th>\n",
       "      <td>DPM1</td>\n",
       "      <td>(Brain_Substantia_nigra, Brain_Hypothalamus)</td>\n",
       "      <td>2</td>\n",
       "      <td>[1.0372585612589562, 0.9627414387410438]</td>\n",
       "      <td>[0.008284978865240098, 0.000732674839341259]</td>\n",
       "      <td>{'Brain_Substantia_nigra': 0.00073379232755585...</td>\n",
       "      <td>2</td>\n",
       "      <td>2</td>\n",
       "      <td>2</td>\n",
       "      <td>2</td>\n",
       "    </tr>\n",
       "    <tr>\n",
       "      <th>ENSG00000000938</th>\n",
       "      <td>FGR</td>\n",
       "      <td>(Cells_EBV-transformed_lymphocytes, Adipose_Vi...</td>\n",
       "      <td>36</td>\n",
       "      <td>[30.57880701512375, 2.029732645600111, 1.40179...</td>\n",
       "      <td>[0.22478471249969334, 0.00881387381303179]</td>\n",
       "      <td>{'Brain_Cerebellum': 0.020204550992367513, 'Ne...</td>\n",
       "      <td>40</td>\n",
       "      <td>40</td>\n",
       "      <td>5</td>\n",
       "      <td>5</td>\n",
       "    </tr>\n",
       "    <tr>\n",
       "      <th>ENSG00000000971</th>\n",
       "      <td>CFH</td>\n",
       "      <td>(Brain_Frontal_Cortex_BA9, Heart_Atrial_Append...</td>\n",
       "      <td>34</td>\n",
       "      <td>[20.77260827663932, 8.17715814232484, 1.864649...</td>\n",
       "      <td>[0.19699534279580108, 0.05731825316349161, 0.0...</td>\n",
       "      <td>{'Brain_Cerebellum': 0.0042432870992385, 'Nerv...</td>\n",
       "      <td>44</td>\n",
       "      <td>44</td>\n",
       "      <td>12</td>\n",
       "      <td>12</td>\n",
       "    </tr>\n",
       "    <tr>\n",
       "      <th>ENSG00000001084</th>\n",
       "      <td>GCLC</td>\n",
       "      <td>(Cells_EBV-transformed_lymphocytes, Heart_Atri...</td>\n",
       "      <td>32</td>\n",
       "      <td>[20.976449940269084, 4.772354749306766, 2.2362...</td>\n",
       "      <td>[0.36578096389253945, 0.12645413710424552, 0.0...</td>\n",
       "      <td>{'Brain_Cerebellum': 0.03163805534230767, 'Ner...</td>\n",
       "      <td>46</td>\n",
       "      <td>46</td>\n",
       "      <td>23</td>\n",
       "      <td>23</td>\n",
       "    </tr>\n",
       "    <tr>\n",
       "      <th>ENSG00000001167</th>\n",
       "      <td>NFYA</td>\n",
       "      <td>(Heart_Atrial_Appendage, Adipose_Visceral_Omen...</td>\n",
       "      <td>40</td>\n",
       "      <td>[37.638369782404986]</td>\n",
       "      <td>[1.4787144508923995, 0.049690618387739104]</td>\n",
       "      <td>{'Brain_Cerebellum': 0.1311467889326876, 'Nerv...</td>\n",
       "      <td>47</td>\n",
       "      <td>48</td>\n",
       "      <td>14</td>\n",
       "      <td>13</td>\n",
       "    </tr>\n",
       "  </tbody>\n",
       "</table>\n",
       "</div>"
      ],
      "text/plain": [
       "                gene_name                                             tissue  \\\n",
       "gene_id                                                                        \n",
       "ENSG00000000419      DPM1       (Brain_Substantia_nigra, Brain_Hypothalamus)   \n",
       "ENSG00000000938       FGR  (Cells_EBV-transformed_lymphocytes, Adipose_Vi...   \n",
       "ENSG00000000971       CFH  (Brain_Frontal_Cortex_BA9, Heart_Atrial_Append...   \n",
       "ENSG00000001084      GCLC  (Cells_EBV-transformed_lymphocytes, Heart_Atri...   \n",
       "ENSG00000001167      NFYA  (Heart_Atrial_Appendage, Adipose_Visceral_Omen...   \n",
       "\n",
       "                 n_tissues                               tissues_pc_variances  \\\n",
       "gene_id                                                                         \n",
       "ENSG00000000419          2           [1.0372585612589562, 0.9627414387410438]   \n",
       "ENSG00000000938         36  [30.57880701512375, 2.029732645600111, 1.40179...   \n",
       "ENSG00000000971         34  [20.77260827663932, 8.17715814232484, 1.864649...   \n",
       "ENSG00000001084         32  [20.976449940269084, 4.772354749306766, 2.2362...   \n",
       "ENSG00000001167         40                               [37.638369782404986]   \n",
       "\n",
       "                                          tissues_pc_variances_cov  \\\n",
       "gene_id                                                              \n",
       "ENSG00000000419       [0.008284978865240098, 0.000732674839341259]   \n",
       "ENSG00000000938         [0.22478471249969334, 0.00881387381303179]   \n",
       "ENSG00000000971  [0.19699534279580108, 0.05731825316349161, 0.0...   \n",
       "ENSG00000001084  [0.36578096389253945, 0.12645413710424552, 0.0...   \n",
       "ENSG00000001167         [1.4787144508923995, 0.049690618387739104]   \n",
       "\n",
       "                                                 tissues_variances  \\\n",
       "gene_id                                                              \n",
       "ENSG00000000419  {'Brain_Substantia_nigra': 0.00073379232755585...   \n",
       "ENSG00000000938  {'Brain_Cerebellum': 0.020204550992367513, 'Ne...   \n",
       "ENSG00000000971  {'Brain_Cerebellum': 0.0042432870992385, 'Nerv...   \n",
       "ENSG00000001084  {'Brain_Cerebellum': 0.03163805534230767, 'Ner...   \n",
       "ENSG00000001167  {'Brain_Cerebellum': 0.1311467889326876, 'Nerv...   \n",
       "\n",
       "                 n_snps_used_sum  n_snps_in_model_sum  unique_n_snps_in_model  \\\n",
       "gene_id                                                                         \n",
       "ENSG00000000419                2                    2                       2   \n",
       "ENSG00000000938               40                   40                       5   \n",
       "ENSG00000000971               44                   44                      12   \n",
       "ENSG00000001084               46                   46                      23   \n",
       "ENSG00000001167               47                   48                      14   \n",
       "\n",
       "                 unique_n_snps_used  \n",
       "gene_id                              \n",
       "ENSG00000000419                   2  \n",
       "ENSG00000000938                   5  \n",
       "ENSG00000000971                  12  \n",
       "ENSG00000001084                  23  \n",
       "ENSG00000001167                  13  "
      ]
     },
     "execution_count": 17,
     "metadata": {},
     "output_type": "execute_result"
    }
   ],
   "source": [
    "spredixcan_genes_models.head()"
   ]
  },
  {
   "cell_type": "code",
   "execution_count": 18,
   "id": "d1c11bb1-be0b-4f40-b360-633d6827109f",
   "metadata": {
    "execution": {
     "iopub.execute_input": "2022-08-02T20:33:23.508697Z",
     "iopub.status.busy": "2022-08-02T20:33:23.508446Z",
     "iopub.status.idle": "2022-08-02T20:33:23.970968Z",
     "shell.execute_reply": "2022-08-02T20:33:23.970366Z"
    },
    "papermill": {
     "duration": 0.478828,
     "end_time": "2022-08-02T20:33:23.972915",
     "exception": false,
     "start_time": "2022-08-02T20:33:23.494087",
     "status": "completed"
    },
    "tags": []
   },
   "outputs": [],
   "source": [
    "assert spredixcan_genes_models.index.is_unique"
   ]
  },
  {
   "cell_type": "markdown",
   "id": "a5b5092c-a13e-47c4-a92a-480fcc08f3ae",
   "metadata": {
    "papermill": {
     "duration": 0.010616,
     "end_time": "2022-08-02T20:33:23.994866",
     "exception": false,
     "start_time": "2022-08-02T20:33:23.984250",
     "status": "completed"
    },
    "tags": []
   },
   "source": [
    "## Gene info"
   ]
  },
  {
   "cell_type": "code",
   "execution_count": 19,
   "id": "7d6bb224-88e9-4358-ac10-43a41d92cdad",
   "metadata": {
    "execution": {
     "iopub.execute_input": "2022-08-02T20:33:24.019217Z",
     "iopub.status.busy": "2022-08-02T20:33:24.018986Z",
     "iopub.status.idle": "2022-08-02T20:33:24.041828Z",
     "shell.execute_reply": "2022-08-02T20:33:24.041316Z"
    },
    "papermill": {
     "duration": 0.037193,
     "end_time": "2022-08-02T20:33:24.043402",
     "exception": false,
     "start_time": "2022-08-02T20:33:24.006209",
     "status": "completed"
    },
    "tags": []
   },
   "outputs": [],
   "source": [
    "genes_info = pd.read_pickle(OUTPUT_DIR_BASE / \"genes_info.pkl\")"
   ]
  },
  {
   "cell_type": "code",
   "execution_count": 20,
   "id": "9e32abfa-546d-483e-8c18-d526e9e05903",
   "metadata": {
    "execution": {
     "iopub.execute_input": "2022-08-02T20:33:24.065123Z",
     "iopub.status.busy": "2022-08-02T20:33:24.064916Z",
     "iopub.status.idle": "2022-08-02T20:33:24.083909Z",
     "shell.execute_reply": "2022-08-02T20:33:24.083407Z"
    },
    "papermill": {
     "duration": 0.031602,
     "end_time": "2022-08-02T20:33:24.085353",
     "exception": false,
     "start_time": "2022-08-02T20:33:24.053751",
     "status": "completed"
    },
    "tags": []
   },
   "outputs": [
    {
     "data": {
      "text/plain": [
       "(6444, 7)"
      ]
     },
     "execution_count": 20,
     "metadata": {},
     "output_type": "execute_result"
    }
   ],
   "source": [
    "genes_info.shape"
   ]
  },
  {
   "cell_type": "code",
   "execution_count": 21,
   "id": "d16c3e92-85ec-468a-9a56-e25a9774a1cb",
   "metadata": {
    "execution": {
     "iopub.execute_input": "2022-08-02T20:33:24.110372Z",
     "iopub.status.busy": "2022-08-02T20:33:24.110151Z",
     "iopub.status.idle": "2022-08-02T20:33:24.140722Z",
     "shell.execute_reply": "2022-08-02T20:33:24.140176Z"
    },
    "papermill": {
     "duration": 0.04377,
     "end_time": "2022-08-02T20:33:24.142287",
     "exception": false,
     "start_time": "2022-08-02T20:33:24.098517",
     "status": "completed"
    },
    "tags": []
   },
   "outputs": [
    {
     "data": {
      "text/html": [
       "<div>\n",
       "<style scoped>\n",
       "    .dataframe tbody tr th:only-of-type {\n",
       "        vertical-align: middle;\n",
       "    }\n",
       "\n",
       "    .dataframe tbody tr th {\n",
       "        vertical-align: top;\n",
       "    }\n",
       "\n",
       "    .dataframe thead th {\n",
       "        text-align: right;\n",
       "    }\n",
       "</style>\n",
       "<table border=\"1\" class=\"dataframe\">\n",
       "  <thead>\n",
       "    <tr style=\"text-align: right;\">\n",
       "      <th></th>\n",
       "      <th>name</th>\n",
       "      <th>id</th>\n",
       "      <th>chr</th>\n",
       "      <th>band</th>\n",
       "      <th>start_position</th>\n",
       "      <th>end_position</th>\n",
       "      <th>gene_length</th>\n",
       "    </tr>\n",
       "  </thead>\n",
       "  <tbody>\n",
       "    <tr>\n",
       "      <th>0</th>\n",
       "      <td>CDC14B</td>\n",
       "      <td>ENSG00000081377</td>\n",
       "      <td>9</td>\n",
       "      <td>9q22.33</td>\n",
       "      <td>96490241.0</td>\n",
       "      <td>96619830.0</td>\n",
       "      <td>129589.0</td>\n",
       "    </tr>\n",
       "    <tr>\n",
       "      <th>1</th>\n",
       "      <td>DOCK3</td>\n",
       "      <td>ENSG00000088538</td>\n",
       "      <td>3</td>\n",
       "      <td>3p21.2</td>\n",
       "      <td>50674927.0</td>\n",
       "      <td>51384198.0</td>\n",
       "      <td>709271.0</td>\n",
       "    </tr>\n",
       "    <tr>\n",
       "      <th>2</th>\n",
       "      <td>SLCO4C1</td>\n",
       "      <td>ENSG00000173930</td>\n",
       "      <td>5</td>\n",
       "      <td>5q21.1</td>\n",
       "      <td>102233986.0</td>\n",
       "      <td>102296284.0</td>\n",
       "      <td>62298.0</td>\n",
       "    </tr>\n",
       "    <tr>\n",
       "      <th>3</th>\n",
       "      <td>UST</td>\n",
       "      <td>ENSG00000111962</td>\n",
       "      <td>6</td>\n",
       "      <td>6q25.1</td>\n",
       "      <td>148747030.0</td>\n",
       "      <td>149076990.0</td>\n",
       "      <td>329960.0</td>\n",
       "    </tr>\n",
       "    <tr>\n",
       "      <th>4</th>\n",
       "      <td>CFH</td>\n",
       "      <td>ENSG00000000971</td>\n",
       "      <td>1</td>\n",
       "      <td>1q31.3</td>\n",
       "      <td>196651878.0</td>\n",
       "      <td>196747504.0</td>\n",
       "      <td>95626.0</td>\n",
       "    </tr>\n",
       "  </tbody>\n",
       "</table>\n",
       "</div>"
      ],
      "text/plain": [
       "      name               id chr     band  start_position  end_position  \\\n",
       "0   CDC14B  ENSG00000081377   9  9q22.33      96490241.0    96619830.0   \n",
       "1    DOCK3  ENSG00000088538   3   3p21.2      50674927.0    51384198.0   \n",
       "2  SLCO4C1  ENSG00000173930   5   5q21.1     102233986.0   102296284.0   \n",
       "3      UST  ENSG00000111962   6   6q25.1     148747030.0   149076990.0   \n",
       "4      CFH  ENSG00000000971   1   1q31.3     196651878.0   196747504.0   \n",
       "\n",
       "   gene_length  \n",
       "0     129589.0  \n",
       "1     709271.0  \n",
       "2      62298.0  \n",
       "3     329960.0  \n",
       "4      95626.0  "
      ]
     },
     "execution_count": 21,
     "metadata": {},
     "output_type": "execute_result"
    }
   ],
   "source": [
    "genes_info.head()"
   ]
  },
  {
   "cell_type": "markdown",
   "id": "d3843e06",
   "metadata": {
    "papermill": {
     "duration": 0.011854,
     "end_time": "2022-08-02T20:33:24.167011",
     "exception": false,
     "start_time": "2022-08-02T20:33:24.155157",
     "status": "completed"
    },
    "tags": []
   },
   "source": [
    "# Compute correlations"
   ]
  },
  {
   "cell_type": "code",
   "execution_count": 22,
   "id": "cb859c15-d1f3-4006-a74c-2b83c0db9611",
   "metadata": {
    "execution": {
     "iopub.execute_input": "2022-08-02T20:33:24.191535Z",
     "iopub.status.busy": "2022-08-02T20:33:24.191277Z",
     "iopub.status.idle": "2022-08-02T20:33:24.233753Z",
     "shell.execute_reply": "2022-08-02T20:33:24.233198Z"
    },
    "papermill": {
     "duration": 0.057263,
     "end_time": "2022-08-02T20:33:24.235273",
     "exception": false,
     "start_time": "2022-08-02T20:33:24.178010",
     "status": "completed"
    },
    "tags": []
   },
   "outputs": [
    {
     "data": {
      "text/plain": [
       "PosixPath('/project/ritchie20/projects/phenoplier/base/results/gls/gene_corrs/cohorts/1000g_eur/1000g/mashr/by_chr/gene_corrs-chr4.pkl')"
      ]
     },
     "metadata": {},
     "output_type": "display_data"
    }
   ],
   "source": [
    "output_dir = OUTPUT_DIR_BASE / \"by_chr\"\n",
    "output_dir.mkdir(exist_ok=True, parents=True)\n",
    "output_file = output_dir / f\"gene_corrs-chr{CHROMOSOME}.pkl\"\n",
    "display(output_file)"
   ]
  },
  {
   "cell_type": "code",
   "execution_count": 23,
   "id": "aa674fe4-6794-4eed-98fa-32b39d1d4ace",
   "metadata": {
    "execution": {
     "iopub.execute_input": "2022-08-02T20:33:24.262228Z",
     "iopub.status.busy": "2022-08-02T20:33:24.261976Z",
     "iopub.status.idle": "2022-08-02T20:33:24.282593Z",
     "shell.execute_reply": "2022-08-02T20:33:24.282008Z"
    },
    "papermill": {
     "duration": 0.035826,
     "end_time": "2022-08-02T20:33:24.284296",
     "exception": false,
     "start_time": "2022-08-02T20:33:24.248470",
     "status": "completed"
    },
    "tags": []
   },
   "outputs": [],
   "source": [
    "warnings.filterwarnings(\"error\")"
   ]
  },
  {
   "cell_type": "code",
   "execution_count": 24,
   "id": "44d5450b-3baf-43f1-9e2e-4b06f1a785f8",
   "metadata": {
    "execution": {
     "iopub.execute_input": "2022-08-02T20:33:24.309533Z",
     "iopub.status.busy": "2022-08-02T20:33:24.309318Z",
     "iopub.status.idle": "2022-08-02T20:33:24.328542Z",
     "shell.execute_reply": "2022-08-02T20:33:24.328040Z"
    },
    "papermill": {
     "duration": 0.034023,
     "end_time": "2022-08-02T20:33:24.330090",
     "exception": false,
     "start_time": "2022-08-02T20:33:24.296067",
     "status": "completed"
    },
    "tags": []
   },
   "outputs": [],
   "source": [
    "# standard checks\n",
    "all_chrs = genes_info[\"chr\"].dropna().unique()\n",
    "assert all_chrs.shape[0] == 22\n",
    "\n",
    "# select chromosome given by the user\n",
    "assert CHROMOSOME in all_chrs"
   ]
  },
  {
   "cell_type": "code",
   "execution_count": 25,
   "id": "2d7c043c-92a7-4d35-991b-fa69ac1e0268",
   "metadata": {
    "execution": {
     "iopub.execute_input": "2022-08-02T20:33:24.356055Z",
     "iopub.status.busy": "2022-08-02T20:33:24.355852Z",
     "iopub.status.idle": "2022-08-02T20:33:24.375999Z",
     "shell.execute_reply": "2022-08-02T20:33:24.375488Z"
    },
    "papermill": {
     "duration": 0.033806,
     "end_time": "2022-08-02T20:33:24.377575",
     "exception": false,
     "start_time": "2022-08-02T20:33:24.343769",
     "status": "completed"
    },
    "tags": []
   },
   "outputs": [
    {
     "name": "stdout",
     "output_type": "stream",
     "text": [
      "Number of genes in chromosome: 244\n"
     ]
    }
   ],
   "source": [
    "# run only on the chromosome specified\n",
    "all_chrs = [CHROMOSOME]\n",
    "genes_chr = genes_info[genes_info[\"chr\"] == CHROMOSOME]\n",
    "\n",
    "# For testing purposes\n",
    "# genes_chr = genes_chr.sample(n=20)\n",
    "\n",
    "print(f\"Number of genes in chromosome: {genes_chr.shape[0]}\", flush=True)"
   ]
  },
  {
   "cell_type": "code",
   "execution_count": 26,
   "id": "916015d8-2979-46d3-a9b9-1cf5a0932c6a",
   "metadata": {
    "execution": {
     "iopub.execute_input": "2022-08-02T20:33:24.404568Z",
     "iopub.status.busy": "2022-08-02T20:33:24.404372Z",
     "iopub.status.idle": "2022-08-02T20:33:24.422451Z",
     "shell.execute_reply": "2022-08-02T20:33:24.421865Z"
    },
    "papermill": {
     "duration": 0.033271,
     "end_time": "2022-08-02T20:33:24.424058",
     "exception": false,
     "start_time": "2022-08-02T20:33:24.390787",
     "status": "completed"
    },
    "tags": []
   },
   "outputs": [],
   "source": [
    "# sort genes by starting position to make visualizations better later\n",
    "genes_chr = genes_chr.sort_values(\"start_position\")"
   ]
  },
  {
   "cell_type": "code",
   "execution_count": 27,
   "id": "a38aa74a-8ad3-47f6-8ef9-56be0e011774",
   "metadata": {
    "execution": {
     "iopub.execute_input": "2022-08-02T20:33:24.451080Z",
     "iopub.status.busy": "2022-08-02T20:33:24.450874Z",
     "iopub.status.idle": "2022-08-02T20:33:24.468700Z",
     "shell.execute_reply": "2022-08-02T20:33:24.468188Z"
    },
    "papermill": {
     "duration": 0.033393,
     "end_time": "2022-08-02T20:33:24.470240",
     "exception": false,
     "start_time": "2022-08-02T20:33:24.436847",
     "status": "completed"
    },
    "tags": []
   },
   "outputs": [],
   "source": [
    "gene_chr_objs = [Gene(ensembl_id=gene_id) for gene_id in genes_chr[\"id\"]]"
   ]
  },
  {
   "cell_type": "code",
   "execution_count": 28,
   "id": "570f974f-13c3-42b6-ad3a-ce99ca885c1a",
   "metadata": {
    "execution": {
     "iopub.execute_input": "2022-08-02T20:33:24.497423Z",
     "iopub.status.busy": "2022-08-02T20:33:24.497183Z",
     "iopub.status.idle": "2022-08-02T20:33:24.518445Z",
     "shell.execute_reply": "2022-08-02T20:33:24.517868Z"
    },
    "papermill": {
     "duration": 0.036378,
     "end_time": "2022-08-02T20:33:24.520025",
     "exception": false,
     "start_time": "2022-08-02T20:33:24.483647",
     "status": "completed"
    },
    "tags": []
   },
   "outputs": [
    {
     "name": "stdout",
     "output_type": "stream",
     "text": [
      "Number of gene combinations: 29646\n"
     ]
    }
   ],
   "source": [
    "n = len(gene_chr_objs)\n",
    "n_comb = int(n * (n - 1) / 2.0)\n",
    "print(f\"Number of gene combinations: {n_comb}\", flush=True)"
   ]
  },
  {
   "cell_type": "code",
   "execution_count": 29,
   "id": "cdbb90a1",
   "metadata": {
    "execution": {
     "iopub.execute_input": "2022-08-02T20:33:24.548507Z",
     "iopub.status.busy": "2022-08-02T20:33:24.548285Z",
     "iopub.status.idle": "2022-08-02T21:16:19.167603Z",
     "shell.execute_reply": "2022-08-02T21:16:19.166548Z"
    },
    "papermill": {
     "duration": 2574.637349,
     "end_time": "2022-08-02T21:16:19.170270",
     "exception": false,
     "start_time": "2022-08-02T20:33:24.532921",
     "status": "completed"
    },
    "tags": []
   },
   "outputs": [
    {
     "name": "stderr",
     "output_type": "stream",
     "text": [
      "ENSG00000164344 / ENSG00000109536: 100%|██████████████████████| 29646/29646 [42:54<00:00, 11.52it/s]\n"
     ]
    },
    {
     "data": {
      "text/plain": [
       "PosixPath('/project/ritchie20/projects/phenoplier/base/results/gls/gene_corrs/cohorts/1000g_eur/1000g/mashr/by_chr/gene_corrs-chr4.pkl')"
      ]
     },
     "metadata": {},
     "output_type": "display_data"
    }
   ],
   "source": [
    "gene_corrs = []\n",
    "\n",
    "i = 0\n",
    "with tqdm(ncols=100, total=n_comb) as pbar:\n",
    "    for gene1_idx in range(0, len(gene_chr_objs) - 1):\n",
    "        gene1_obj = gene_chr_objs[gene1_idx]\n",
    "        gene1_tissues = spredixcan_genes_models.loc[gene1_obj.ensembl_id, \"tissue\"]\n",
    "\n",
    "        for gene2_idx in range(gene1_idx + 1, len(gene_chr_objs)):\n",
    "            gene2_obj = gene_chr_objs[gene2_idx]\n",
    "            gene2_tissues = spredixcan_genes_models.loc[gene2_obj.ensembl_id, \"tissue\"]\n",
    "\n",
    "            pbar.set_description(f\"{gene1_obj.ensembl_id} / {gene2_obj.ensembl_id}\")\n",
    "\n",
    "            try:\n",
    "                r = gene1_obj.get_ssm_correlation(\n",
    "                    other_gene=gene2_obj,\n",
    "                    tissues=gene1_tissues,\n",
    "                    other_tissues=gene2_tissues,\n",
    "                    snps_subset=gwas_variants_ids_set,\n",
    "                    condition_number=SMULTIXCAN_CONDITION_NUMBER,\n",
    "                    reference_panel=REFERENCE_PANEL,\n",
    "                    model_type=EQTL_MODEL,\n",
    "                    use_within_distance=COMPUTE_CORRELATIONS_WITHIN_DISTANCE,\n",
    "                )\n",
    "\n",
    "                if r is None:\n",
    "                    # if r is None, it's very likely because:\n",
    "                    #  * one of the genes has no prediction models\n",
    "                    #  * all the SNPs predictors for the gene are not present in the reference\n",
    "                    #    panel\n",
    "\n",
    "                    r = 0.0\n",
    "\n",
    "                gene_corrs.append(r)\n",
    "            except Warning as e:\n",
    "                if not DEBUG_MODE:\n",
    "                    raise e\n",
    "\n",
    "                print(\n",
    "                    f\"RuntimeWarning for genes {gene1_obj.ensembl_id} and {gene2_obj.ensembl_id}\",\n",
    "                    flush=True,\n",
    "                )\n",
    "                print(traceback.format_exc(), flush=True)\n",
    "\n",
    "                gene_corrs.append(np.nan)\n",
    "            except Exception as e:\n",
    "                if not DEBUG_MODE:\n",
    "                    raise e\n",
    "\n",
    "                print(\n",
    "                    f\"Exception for genes {gene1_obj.ensembl_id} and {gene2_obj.ensembl_id}\",\n",
    "                    flush=True,\n",
    "                )\n",
    "                print(traceback.format_exc(), flush=True)\n",
    "\n",
    "                gene_corrs.append(np.nan)\n",
    "\n",
    "            pbar.update(1)\n",
    "\n",
    "# create a pandas series\n",
    "gene_corrs_flat = pd.Series(gene_corrs)\n",
    "\n",
    "# save\n",
    "# FIXME: consider saving only the condenced matrix here. See here for\n",
    "# more details: https://github.com/greenelab/phenoplier/pull/38#discussion_r634600813\n",
    "gene_corrs_data = squareform(np.array(gene_corrs, dtype=np.float64))\n",
    "np.fill_diagonal(gene_corrs_data, 1.0)\n",
    "\n",
    "gene_chr_ids = [g.ensembl_id for g in gene_chr_objs]\n",
    "gene_corrs_df = pd.DataFrame(\n",
    "    data=gene_corrs_data,\n",
    "    index=gene_chr_ids,\n",
    "    columns=gene_chr_ids,\n",
    ")\n",
    "\n",
    "output_dir.mkdir(exist_ok=True, parents=True)\n",
    "display(output_file)\n",
    "\n",
    "gene_corrs_df.to_pickle(output_file)"
   ]
  },
  {
   "cell_type": "markdown",
   "id": "faa67b51-5373-470f-aa72-2ded53fa6dfe",
   "metadata": {
    "papermill": {
     "duration": 1.883538,
     "end_time": "2022-08-02T21:16:22.911539",
     "exception": false,
     "start_time": "2022-08-02T21:16:21.028001",
     "status": "completed"
    },
    "tags": []
   },
   "source": [
    "# Testing"
   ]
  },
  {
   "cell_type": "code",
   "execution_count": 30,
   "id": "14f7d046-4b55-4896-a56b-990127bcc388",
   "metadata": {
    "execution": {
     "iopub.execute_input": "2022-08-02T21:16:26.588023Z",
     "iopub.status.busy": "2022-08-02T21:16:26.587740Z",
     "iopub.status.idle": "2022-08-02T21:16:26.806959Z",
     "shell.execute_reply": "2022-08-02T21:16:26.806398Z"
    },
    "papermill": {
     "duration": 2.083717,
     "end_time": "2022-08-02T21:16:26.808558",
     "exception": false,
     "start_time": "2022-08-02T21:16:24.724841",
     "status": "completed"
    },
    "tags": []
   },
   "outputs": [
    {
     "data": {
      "text/plain": [
       "(244, 244)"
      ]
     },
     "execution_count": 30,
     "metadata": {},
     "output_type": "execute_result"
    }
   ],
   "source": [
    "gene_corrs_df.shape"
   ]
  },
  {
   "cell_type": "code",
   "execution_count": 31,
   "id": "c7d15414-3297-4537-a7c6-7588c0baeb75",
   "metadata": {
    "execution": {
     "iopub.execute_input": "2022-08-02T21:16:30.577482Z",
     "iopub.status.busy": "2022-08-02T21:16:30.577212Z",
     "iopub.status.idle": "2022-08-02T21:16:30.614137Z",
     "shell.execute_reply": "2022-08-02T21:16:30.613593Z"
    },
    "papermill": {
     "duration": 1.92017,
     "end_time": "2022-08-02T21:16:30.615655",
     "exception": false,
     "start_time": "2022-08-02T21:16:28.695485",
     "status": "completed"
    },
    "tags": []
   },
   "outputs": [
    {
     "data": {
      "text/html": [
       "<div>\n",
       "<style scoped>\n",
       "    .dataframe tbody tr th:only-of-type {\n",
       "        vertical-align: middle;\n",
       "    }\n",
       "\n",
       "    .dataframe tbody tr th {\n",
       "        vertical-align: top;\n",
       "    }\n",
       "\n",
       "    .dataframe thead th {\n",
       "        text-align: right;\n",
       "    }\n",
       "</style>\n",
       "<table border=\"1\" class=\"dataframe\">\n",
       "  <thead>\n",
       "    <tr style=\"text-align: right;\">\n",
       "      <th></th>\n",
       "      <th>ENSG00000272602</th>\n",
       "      <th>ENSG00000131127</th>\n",
       "      <th>ENSG00000174227</th>\n",
       "      <th>ENSG00000133256</th>\n",
       "      <th>ENSG00000169020</th>\n",
       "      <th>ENSG00000215375</th>\n",
       "      <th>ENSG00000169026</th>\n",
       "      <th>ENSG00000178950</th>\n",
       "      <th>ENSG00000145214</th>\n",
       "      <th>ENSG00000145217</th>\n",
       "      <th>...</th>\n",
       "      <th>ENSG00000109674</th>\n",
       "      <th>ENSG00000038002</th>\n",
       "      <th>ENSG00000129187</th>\n",
       "      <th>ENSG00000168310</th>\n",
       "      <th>ENSG00000164305</th>\n",
       "      <th>ENSG00000151726</th>\n",
       "      <th>ENSG00000151729</th>\n",
       "      <th>ENSG00000164342</th>\n",
       "      <th>ENSG00000164344</th>\n",
       "      <th>ENSG00000109536</th>\n",
       "    </tr>\n",
       "  </thead>\n",
       "  <tbody>\n",
       "    <tr>\n",
       "      <th>ENSG00000272602</th>\n",
       "      <td>1.000000</td>\n",
       "      <td>0.055963</td>\n",
       "      <td>0.190848</td>\n",
       "      <td>0.094818</td>\n",
       "      <td>0.097104</td>\n",
       "      <td>0.045591</td>\n",
       "      <td>0.038776</td>\n",
       "      <td>0.017085</td>\n",
       "      <td>0.010274</td>\n",
       "      <td>0.008550</td>\n",
       "      <td>...</td>\n",
       "      <td>0.011293</td>\n",
       "      <td>0.003976</td>\n",
       "      <td>0.009994</td>\n",
       "      <td>0.012164</td>\n",
       "      <td>0.010508</td>\n",
       "      <td>0.011360</td>\n",
       "      <td>0.006107</td>\n",
       "      <td>0.012878</td>\n",
       "      <td>0.009609</td>\n",
       "      <td>0.007955</td>\n",
       "    </tr>\n",
       "    <tr>\n",
       "      <th>ENSG00000131127</th>\n",
       "      <td>0.055963</td>\n",
       "      <td>1.000000</td>\n",
       "      <td>0.332490</td>\n",
       "      <td>0.080283</td>\n",
       "      <td>0.029108</td>\n",
       "      <td>0.037342</td>\n",
       "      <td>0.033256</td>\n",
       "      <td>0.017609</td>\n",
       "      <td>0.019846</td>\n",
       "      <td>0.004169</td>\n",
       "      <td>...</td>\n",
       "      <td>0.007431</td>\n",
       "      <td>0.006405</td>\n",
       "      <td>0.010952</td>\n",
       "      <td>0.005998</td>\n",
       "      <td>0.011946</td>\n",
       "      <td>0.009701</td>\n",
       "      <td>0.012015</td>\n",
       "      <td>0.008999</td>\n",
       "      <td>0.008260</td>\n",
       "      <td>0.007588</td>\n",
       "    </tr>\n",
       "    <tr>\n",
       "      <th>ENSG00000174227</th>\n",
       "      <td>0.190848</td>\n",
       "      <td>0.332490</td>\n",
       "      <td>1.000000</td>\n",
       "      <td>0.268060</td>\n",
       "      <td>0.180474</td>\n",
       "      <td>0.071813</td>\n",
       "      <td>0.091312</td>\n",
       "      <td>0.019070</td>\n",
       "      <td>0.014028</td>\n",
       "      <td>0.011207</td>\n",
       "      <td>...</td>\n",
       "      <td>0.009701</td>\n",
       "      <td>0.002663</td>\n",
       "      <td>0.009264</td>\n",
       "      <td>0.015099</td>\n",
       "      <td>0.007044</td>\n",
       "      <td>0.009475</td>\n",
       "      <td>0.011735</td>\n",
       "      <td>0.008641</td>\n",
       "      <td>0.012064</td>\n",
       "      <td>0.006070</td>\n",
       "    </tr>\n",
       "    <tr>\n",
       "      <th>ENSG00000133256</th>\n",
       "      <td>0.094818</td>\n",
       "      <td>0.080283</td>\n",
       "      <td>0.268060</td>\n",
       "      <td>1.000000</td>\n",
       "      <td>0.295010</td>\n",
       "      <td>0.260298</td>\n",
       "      <td>0.282435</td>\n",
       "      <td>0.017026</td>\n",
       "      <td>0.009293</td>\n",
       "      <td>0.005894</td>\n",
       "      <td>...</td>\n",
       "      <td>0.009711</td>\n",
       "      <td>0.002563</td>\n",
       "      <td>0.012641</td>\n",
       "      <td>0.017632</td>\n",
       "      <td>0.012215</td>\n",
       "      <td>0.008717</td>\n",
       "      <td>0.007462</td>\n",
       "      <td>0.013749</td>\n",
       "      <td>0.009682</td>\n",
       "      <td>0.013185</td>\n",
       "    </tr>\n",
       "    <tr>\n",
       "      <th>ENSG00000169020</th>\n",
       "      <td>0.097104</td>\n",
       "      <td>0.029108</td>\n",
       "      <td>0.180474</td>\n",
       "      <td>0.295010</td>\n",
       "      <td>1.000000</td>\n",
       "      <td>0.197665</td>\n",
       "      <td>0.216094</td>\n",
       "      <td>0.013160</td>\n",
       "      <td>0.008778</td>\n",
       "      <td>0.000006</td>\n",
       "      <td>...</td>\n",
       "      <td>0.002939</td>\n",
       "      <td>0.001123</td>\n",
       "      <td>0.003127</td>\n",
       "      <td>0.005294</td>\n",
       "      <td>0.003389</td>\n",
       "      <td>0.001329</td>\n",
       "      <td>0.003203</td>\n",
       "      <td>0.003536</td>\n",
       "      <td>0.005664</td>\n",
       "      <td>0.004214</td>\n",
       "    </tr>\n",
       "  </tbody>\n",
       "</table>\n",
       "<p>5 rows × 244 columns</p>\n",
       "</div>"
      ],
      "text/plain": [
       "                 ENSG00000272602  ENSG00000131127  ENSG00000174227  \\\n",
       "ENSG00000272602         1.000000         0.055963         0.190848   \n",
       "ENSG00000131127         0.055963         1.000000         0.332490   \n",
       "ENSG00000174227         0.190848         0.332490         1.000000   \n",
       "ENSG00000133256         0.094818         0.080283         0.268060   \n",
       "ENSG00000169020         0.097104         0.029108         0.180474   \n",
       "\n",
       "                 ENSG00000133256  ENSG00000169020  ENSG00000215375  \\\n",
       "ENSG00000272602         0.094818         0.097104         0.045591   \n",
       "ENSG00000131127         0.080283         0.029108         0.037342   \n",
       "ENSG00000174227         0.268060         0.180474         0.071813   \n",
       "ENSG00000133256         1.000000         0.295010         0.260298   \n",
       "ENSG00000169020         0.295010         1.000000         0.197665   \n",
       "\n",
       "                 ENSG00000169026  ENSG00000178950  ENSG00000145214  \\\n",
       "ENSG00000272602         0.038776         0.017085         0.010274   \n",
       "ENSG00000131127         0.033256         0.017609         0.019846   \n",
       "ENSG00000174227         0.091312         0.019070         0.014028   \n",
       "ENSG00000133256         0.282435         0.017026         0.009293   \n",
       "ENSG00000169020         0.216094         0.013160         0.008778   \n",
       "\n",
       "                 ENSG00000145217  ...  ENSG00000109674  ENSG00000038002  \\\n",
       "ENSG00000272602         0.008550  ...         0.011293         0.003976   \n",
       "ENSG00000131127         0.004169  ...         0.007431         0.006405   \n",
       "ENSG00000174227         0.011207  ...         0.009701         0.002663   \n",
       "ENSG00000133256         0.005894  ...         0.009711         0.002563   \n",
       "ENSG00000169020         0.000006  ...         0.002939         0.001123   \n",
       "\n",
       "                 ENSG00000129187  ENSG00000168310  ENSG00000164305  \\\n",
       "ENSG00000272602         0.009994         0.012164         0.010508   \n",
       "ENSG00000131127         0.010952         0.005998         0.011946   \n",
       "ENSG00000174227         0.009264         0.015099         0.007044   \n",
       "ENSG00000133256         0.012641         0.017632         0.012215   \n",
       "ENSG00000169020         0.003127         0.005294         0.003389   \n",
       "\n",
       "                 ENSG00000151726  ENSG00000151729  ENSG00000164342  \\\n",
       "ENSG00000272602         0.011360         0.006107         0.012878   \n",
       "ENSG00000131127         0.009701         0.012015         0.008999   \n",
       "ENSG00000174227         0.009475         0.011735         0.008641   \n",
       "ENSG00000133256         0.008717         0.007462         0.013749   \n",
       "ENSG00000169020         0.001329         0.003203         0.003536   \n",
       "\n",
       "                 ENSG00000164344  ENSG00000109536  \n",
       "ENSG00000272602         0.009609         0.007955  \n",
       "ENSG00000131127         0.008260         0.007588  \n",
       "ENSG00000174227         0.012064         0.006070  \n",
       "ENSG00000133256         0.009682         0.013185  \n",
       "ENSG00000169020         0.005664         0.004214  \n",
       "\n",
       "[5 rows x 244 columns]"
      ]
     },
     "execution_count": 31,
     "metadata": {},
     "output_type": "execute_result"
    }
   ],
   "source": [
    "gene_corrs_df.head()"
   ]
  },
  {
   "cell_type": "markdown",
   "id": "dad6603f-01c6-41fb-a6f6-241051207dd8",
   "metadata": {
    "papermill": {
     "duration": 1.835377,
     "end_time": "2022-08-02T21:16:34.283230",
     "exception": false,
     "start_time": "2022-08-02T21:16:32.447853",
     "status": "completed"
    },
    "tags": []
   },
   "source": [
    "## Standard checks and stats"
   ]
  },
  {
   "cell_type": "code",
   "execution_count": 32,
   "id": "286686af-1b7b-4440-8453-6bdcbd8de19c",
   "metadata": {
    "execution": {
     "iopub.execute_input": "2022-08-02T21:16:38.042512Z",
     "iopub.status.busy": "2022-08-02T21:16:38.042242Z",
     "iopub.status.idle": "2022-08-02T21:16:38.063463Z",
     "shell.execute_reply": "2022-08-02T21:16:38.062932Z"
    },
    "papermill": {
     "duration": 1.903333,
     "end_time": "2022-08-02T21:16:38.065092",
     "exception": false,
     "start_time": "2022-08-02T21:16:36.161759",
     "status": "completed"
    },
    "tags": []
   },
   "outputs": [],
   "source": [
    "assert not gene_corrs_df.isna().any().any()"
   ]
  },
  {
   "cell_type": "code",
   "execution_count": 33,
   "id": "00583efc-7068-4270-ad1e-4a418e91db96",
   "metadata": {
    "execution": {
     "iopub.execute_input": "2022-08-02T21:16:41.709520Z",
     "iopub.status.busy": "2022-08-02T21:16:41.709252Z",
     "iopub.status.idle": "2022-08-02T21:16:41.796578Z",
     "shell.execute_reply": "2022-08-02T21:16:41.796048Z"
    },
    "papermill": {
     "duration": 1.910321,
     "end_time": "2022-08-02T21:16:41.798099",
     "exception": false,
     "start_time": "2022-08-02T21:16:39.887778",
     "status": "completed"
    },
    "tags": []
   },
   "outputs": [
    {
     "data": {
      "text/plain": [
       "5.46235655986164e-08"
      ]
     },
     "metadata": {},
     "output_type": "display_data"
    }
   ],
   "source": [
    "_min_val = gene_corrs_df.min().min()\n",
    "display(_min_val)\n",
    "assert _min_val >= 0.0"
   ]
  },
  {
   "cell_type": "code",
   "execution_count": 34,
   "id": "d04fb2cf-1050-475b-b855-f5f7cc04092b",
   "metadata": {
    "execution": {
     "iopub.execute_input": "2022-08-02T21:16:45.547665Z",
     "iopub.status.busy": "2022-08-02T21:16:45.547401Z",
     "iopub.status.idle": "2022-08-02T21:16:45.570161Z",
     "shell.execute_reply": "2022-08-02T21:16:45.569612Z"
    },
    "papermill": {
     "duration": 1.903109,
     "end_time": "2022-08-02T21:16:45.571801",
     "exception": false,
     "start_time": "2022-08-02T21:16:43.668692",
     "status": "completed"
    },
    "tags": []
   },
   "outputs": [
    {
     "data": {
      "text/plain": [
       "1.0"
      ]
     },
     "metadata": {},
     "output_type": "display_data"
    }
   ],
   "source": [
    "_max_val = gene_corrs_df.max().max()  # this captures the diagonal\n",
    "display(_max_val)\n",
    "assert _max_val <= 1.0"
   ]
  },
  {
   "cell_type": "code",
   "execution_count": 35,
   "id": "96d02c44-1fba-47be-8a93-8f2608420b9c",
   "metadata": {
    "execution": {
     "iopub.execute_input": "2022-08-02T21:16:49.217564Z",
     "iopub.status.busy": "2022-08-02T21:16:49.217283Z",
     "iopub.status.idle": "2022-08-02T21:16:49.238600Z",
     "shell.execute_reply": "2022-08-02T21:16:49.238069Z"
    },
    "papermill": {
     "duration": 1.840056,
     "end_time": "2022-08-02T21:16:49.240229",
     "exception": false,
     "start_time": "2022-08-02T21:16:47.400173",
     "status": "completed"
    },
    "tags": []
   },
   "outputs": [],
   "source": [
    "# check upper triangular values\n",
    "assert len(gene_corrs) == int(genes_chr.shape[0] * (genes_chr.shape[0] - 1) / 2)"
   ]
  },
  {
   "cell_type": "code",
   "execution_count": 36,
   "id": "fe283586-c348-40e0-8841-f6d97bfb021c",
   "metadata": {
    "execution": {
     "iopub.execute_input": "2022-08-02T21:16:53.013846Z",
     "iopub.status.busy": "2022-08-02T21:16:53.013581Z",
     "iopub.status.idle": "2022-08-02T21:16:53.136543Z",
     "shell.execute_reply": "2022-08-02T21:16:53.136003Z"
    },
    "papermill": {
     "duration": 2.016973,
     "end_time": "2022-08-02T21:16:53.138063",
     "exception": false,
     "start_time": "2022-08-02T21:16:51.121090",
     "status": "completed"
    },
    "tags": []
   },
   "outputs": [
    {
     "data": {
      "text/plain": [
       "count    2.964600e+04\n",
       "mean     9.393033e-03\n",
       "std      2.219670e-02\n",
       "min      5.462357e-08\n",
       "25%      4.996742e-03\n",
       "50%      7.742823e-03\n",
       "75%      1.086173e-02\n",
       "max      9.238465e-01\n",
       "dtype: float64"
      ]
     },
     "execution_count": 36,
     "metadata": {},
     "output_type": "execute_result"
    }
   ],
   "source": [
    "gene_corrs_flat.describe()"
   ]
  },
  {
   "cell_type": "code",
   "execution_count": 37,
   "id": "b3815678-0f93-4b35-897b-a9d047a2aa78",
   "metadata": {
    "execution": {
     "iopub.execute_input": "2022-08-02T21:16:56.777740Z",
     "iopub.status.busy": "2022-08-02T21:16:56.777478Z",
     "iopub.status.idle": "2022-08-02T21:16:56.824932Z",
     "shell.execute_reply": "2022-08-02T21:16:56.824403Z"
    },
    "papermill": {
     "duration": 1.871686,
     "end_time": "2022-08-02T21:16:56.826455",
     "exception": false,
     "start_time": "2022-08-02T21:16:54.954769",
     "status": "completed"
    },
    "tags": []
   },
   "outputs": [
    {
     "data": {
      "text/plain": [
       "0.00    5.462357e-08\n",
       "0.05    1.850975e-03\n",
       "0.10    2.856763e-03\n",
       "0.15    3.698788e-03\n",
       "0.20    4.362890e-03\n",
       "0.25    4.996742e-03\n",
       "0.30    5.553807e-03\n",
       "0.35    6.101444e-03\n",
       "0.40    6.650007e-03\n",
       "0.45    7.189067e-03\n",
       "0.50    7.742823e-03\n",
       "0.55    8.305805e-03\n",
       "0.60    8.883201e-03\n",
       "0.65    9.507734e-03\n",
       "0.70    1.014459e-02\n",
       "0.75    1.086173e-02\n",
       "0.80    1.169251e-02\n",
       "0.85    1.272560e-02\n",
       "0.90    1.400543e-02\n",
       "0.95    1.608643e-02\n",
       "dtype: float64"
      ]
     },
     "metadata": {},
     "output_type": "display_data"
    }
   ],
   "source": [
    "gene_corrs_quantiles = gene_corrs_flat.quantile(np.arange(0, 1, 0.05))\n",
    "display(gene_corrs_quantiles)"
   ]
  },
  {
   "cell_type": "markdown",
   "id": "87134509-b145-4a10-8bc9-b7e914c2b0fa",
   "metadata": {
    "papermill": {
     "duration": 1.88582,
     "end_time": "2022-08-02T21:17:00.640042",
     "exception": false,
     "start_time": "2022-08-02T21:16:58.754222",
     "status": "completed"
    },
    "tags": []
   },
   "source": [
    "## Positive definiteness"
   ]
  },
  {
   "cell_type": "code",
   "execution_count": 38,
   "id": "07d9a9a1-a4f7-48aa-b916-6d42a8cc6186",
   "metadata": {
    "execution": {
     "iopub.execute_input": "2022-08-02T21:17:04.304735Z",
     "iopub.status.busy": "2022-08-02T21:17:04.304470Z",
     "iopub.status.idle": "2022-08-02T21:17:04.344140Z",
     "shell.execute_reply": "2022-08-02T21:17:04.343591Z"
    },
    "papermill": {
     "duration": 1.880949,
     "end_time": "2022-08-02T21:17:04.345675",
     "exception": false,
     "start_time": "2022-08-02T21:17:02.464726",
     "status": "completed"
    },
    "tags": []
   },
   "outputs": [
    {
     "data": {
      "text/plain": [
       "0"
      ]
     },
     "metadata": {},
     "output_type": "display_data"
    },
    {
     "data": {
      "text/plain": [
       "array([], dtype=float64)"
      ]
     },
     "metadata": {},
     "output_type": "display_data"
    }
   ],
   "source": [
    "# print negative eigenvalues\n",
    "eigs = np.linalg.eigvals(gene_corrs_df.to_numpy())\n",
    "display(len(eigs[eigs < 0]))\n",
    "display(eigs[eigs < 0])"
   ]
  },
  {
   "cell_type": "code",
   "execution_count": 39,
   "id": "6e218436-c3c5-4028-8c94-a4fa6260efce",
   "metadata": {
    "execution": {
     "iopub.execute_input": "2022-08-02T21:17:08.078478Z",
     "iopub.status.busy": "2022-08-02T21:17:08.078211Z",
     "iopub.status.idle": "2022-08-02T21:17:08.170436Z",
     "shell.execute_reply": "2022-08-02T21:17:08.169861Z"
    },
    "papermill": {
     "duration": 1.969093,
     "end_time": "2022-08-02T21:17:08.172096",
     "exception": false,
     "start_time": "2022-08-02T21:17:06.203003",
     "status": "completed"
    },
    "tags": []
   },
   "outputs": [
    {
     "name": "stdout",
     "output_type": "stream",
     "text": [
      "Works!\n"
     ]
    }
   ],
   "source": [
    "try:\n",
    "    chol_mat = np.linalg.cholesky(gene_corrs_df.to_numpy())\n",
    "    cov_inv = np.linalg.inv(chol_mat)\n",
    "    print(\"Works!\")\n",
    "except:\n",
    "    print(\"Cholesky decomposition failed\")"
   ]
  },
  {
   "cell_type": "markdown",
   "id": "8e60a080-edb2-4e9c-b2ef-22961693200c",
   "metadata": {
    "papermill": {
     "duration": 1.83887,
     "end_time": "2022-08-02T21:17:11.840051",
     "exception": false,
     "start_time": "2022-08-02T21:17:10.001181",
     "status": "completed"
    },
    "tags": []
   },
   "source": [
    "## Plot: distribution"
   ]
  },
  {
   "cell_type": "code",
   "execution_count": 40,
   "id": "8301126b-a7d4-4744-9c7d-f0f86eb6f54c",
   "metadata": {
    "execution": {
     "iopub.execute_input": "2022-08-02T21:17:15.573920Z",
     "iopub.status.busy": "2022-08-02T21:17:15.573656Z",
     "iopub.status.idle": "2022-08-02T21:17:21.331919Z",
     "shell.execute_reply": "2022-08-02T21:17:21.331362Z"
    },
    "papermill": {
     "duration": 7.637579,
     "end_time": "2022-08-02T21:17:21.333617",
     "exception": false,
     "start_time": "2022-08-02T21:17:13.696038",
     "status": "completed"
    },
    "tags": []
   },
   "outputs": [
    {
     "data": {
      "image/png": "[encoded data removed]",
      "text/plain": [
       "<Figure size 504x504 with 1 Axes>"
      ]
     },
     "metadata": {
      "needs_background": "light"
     },
     "output_type": "display_data"
    }
   ],
   "source": [
    "with sns.plotting_context(\"paper\", font_scale=1.5):\n",
    "    g = sns.displot(gene_corrs_flat, kde=True, height=7)\n",
    "    g.ax.set_title(\n",
    "        f\"Distribution of gene correlation values in chromosome {CHROMOSOME}\"\n",
    "    )"
   ]
  },
  {
   "cell_type": "markdown",
   "id": "cbd52bca-d878-4a2f-b684-5c83aa3038d4",
   "metadata": {
    "papermill": {
     "duration": 1.818669,
     "end_time": "2022-08-02T21:17:24.972079",
     "exception": false,
     "start_time": "2022-08-02T21:17:23.153410",
     "status": "completed"
    },
    "tags": []
   },
   "source": [
    "## Plot: heatmap"
   ]
  },
  {
   "cell_type": "code",
   "execution_count": 41,
   "id": "d03fe63a-c7b2-4fb9-a53c-db362ce843c9",
   "metadata": {
    "execution": {
     "iopub.execute_input": "2022-08-02T21:17:28.727124Z",
     "iopub.status.busy": "2022-08-02T21:17:28.726843Z",
     "iopub.status.idle": "2022-08-02T21:17:28.776291Z",
     "shell.execute_reply": "2022-08-02T21:17:28.775767Z"
    },
    "papermill": {
     "duration": 1.932905,
     "end_time": "2022-08-02T21:17:28.777825",
     "exception": false,
     "start_time": "2022-08-02T21:17:26.844920",
     "status": "completed"
    },
    "tags": []
   },
   "outputs": [
    {
     "data": {
      "text/plain": [
       "'0.0 / 0.05'"
      ]
     },
     "metadata": {},
     "output_type": "display_data"
    }
   ],
   "source": [
    "vmin_val = min(0.00, gene_corrs_quantiles[0.10])\n",
    "vmax_val = max(0.05, gene_corrs_quantiles[0.90])\n",
    "display(f\"{vmin_val} / {vmax_val}\")"
   ]
  },
  {
   "cell_type": "code",
   "execution_count": 42,
   "id": "dc41b70b-5bcc-4d9e-9f33-a22c4a94dab5",
   "metadata": {
    "execution": {
     "iopub.execute_input": "2022-08-02T21:17:32.466130Z",
     "iopub.status.busy": "2022-08-02T21:17:32.465837Z",
     "iopub.status.idle": "2022-08-02T21:17:32.715710Z",
     "shell.execute_reply": "2022-08-02T21:17:32.715141Z"
    },
    "papermill": {
     "duration": 2.112381,
     "end_time": "2022-08-02T21:17:32.717440",
     "exception": false,
     "start_time": "2022-08-02T21:17:30.605059",
     "status": "completed"
    },
    "tags": []
   },
   "outputs": [
    {
     "data": {
      "text/plain": [
       "Text(0.5, 1.0, 'Gene correlations in chromosome 4')"
      ]
     },
     "execution_count": 42,
     "metadata": {},
     "output_type": "execute_result"
    },
    {
     "data": {
      "image/png": "[encoded data removed]",
      "text/plain": [
       "<Figure size 720x720 with 2 Axes>"
      ]
     },
     "metadata": {
      "needs_background": "light"
     },
     "output_type": "display_data"
    }
   ],
   "source": [
    "f, ax = plt.subplots(figsize=(10, 10))\n",
    "sns.heatmap(\n",
    "    gene_corrs_df,\n",
    "    xticklabels=False,\n",
    "    yticklabels=False,\n",
    "    square=True,\n",
    "    vmin=vmin_val,\n",
    "    vmax=vmax_val,\n",
    "    cmap=\"rocket_r\",\n",
    "    ax=ax,\n",
    ")\n",
    "ax.set_title(f\"Gene correlations in chromosome {CHROMOSOME}\")"
   ]
  },
  {
   "cell_type": "code",
   "execution_count": null,
   "id": "b25e3ead",
   "metadata": {
    "papermill": {
     "duration": 1.886669,
     "end_time": "2022-08-02T21:17:36.506350",
     "exception": false,
     "start_time": "2022-08-02T21:17:34.619681",
     "status": "completed"
    },
    "tags": []
   },
   "outputs": [],
   "source": []
  }
 ],
 "metadata": {
  "jupytext": {
   "cell_metadata_filter": "all,-execution,-papermill,-trusted",
   "formats": "ipynb,py//py:percent"
  },
  "kernelspec": {
   "display_name": "Python 3 (ipykernel)",
   "language": "python",
   "name": "python3"
  },
  "language_info": {
   "codemirror_mode": {
    "name": "ipython",
    "version": 3
   },
   "file_extension": ".py",
   "mimetype": "text/x-python",
   "name": "python",
   "nbconvert_exporter": "python",
   "pygments_lexer": "ipython3",
   "version": "3.8.13"
  },
  "papermill": {
   "default_parameters": {},
   "duration": 2670.030108,
   "end_time": "2022-08-02T21:17:41.504578",
   "environment_variables": {},
   "exception": null,
   "input_path": "nbs/15_gsa_gls/10-gene_expr_correlations.ipynb",
   "output_path": "nbs/15_gsa_gls/gene_corrs/cohorts/1000g_eur/1000g/mashr/10-gene_expr_correlations-chr4.run.ipynb",
   "parameters": {
    "CHROMOSOME": 4,
    "COHORT_NAME": "1000G_EUR",
    "EQTL_MODEL": "MASHR",
    "REFERENCE_PANEL": "1000G"
   },
   "start_time": "2022-08-02T20:33:11.474470",
   "version": "2.2.2"
  }
 },
 "nbformat": 4,
 "nbformat_minor": 5
}
