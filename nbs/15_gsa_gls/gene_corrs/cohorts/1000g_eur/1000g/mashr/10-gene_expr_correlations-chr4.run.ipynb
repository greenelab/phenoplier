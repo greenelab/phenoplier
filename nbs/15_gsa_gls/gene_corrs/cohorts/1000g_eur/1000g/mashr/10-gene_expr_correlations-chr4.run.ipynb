{
 "cells": [
  {
   "cell_type": "markdown",
   "id": "7a6632fb",
   "metadata": {
    "papermill": {
     "duration": 0.007709,
     "end_time": "2022-07-22T03:46:54.887837",
     "exception": false,
     "start_time": "2022-07-22T03:46:54.880128",
     "status": "completed"
    },
    "tags": []
   },
   "source": [
    "# Description"
   ]
  },
  {
   "cell_type": "markdown",
   "id": "7097c346",
   "metadata": {
    "papermill": {
     "duration": 0.006687,
     "end_time": "2022-07-22T03:46:54.901578",
     "exception": false,
     "start_time": "2022-07-22T03:46:54.894891",
     "status": "completed"
    },
    "tags": []
   },
   "source": [
    "(Please, take a look at the README.md file in this directory for instructions on how to run this notebook)\n",
    "\n",
    "This notebook computes predicted expression correlations between all genes in the MultiPLIER models.\n",
    "\n",
    "It also has a parameter set for papermill to run on a single chromosome to run in parallel (see under `Settings` below).\n",
    "\n",
    "This notebook is not directly run. See README.md."
   ]
  },
  {
   "cell_type": "markdown",
   "id": "c61d8427",
   "metadata": {
    "papermill": {
     "duration": 0.006579,
     "end_time": "2022-07-22T03:46:54.914999",
     "exception": false,
     "start_time": "2022-07-22T03:46:54.908420",
     "status": "completed"
    },
    "tags": []
   },
   "source": [
    "# Modules"
   ]
  },
  {
   "cell_type": "code",
   "execution_count": 1,
   "id": "bbc0234f",
   "metadata": {
    "execution": {
     "iopub.execute_input": "2022-07-22T03:46:54.929988Z",
     "iopub.status.busy": "2022-07-22T03:46:54.929699Z",
     "iopub.status.idle": "2022-07-22T03:46:54.947250Z",
     "shell.execute_reply": "2022-07-22T03:46:54.946767Z"
    },
    "papermill": {
     "duration": 0.02737,
     "end_time": "2022-07-22T03:46:54.949021",
     "exception": false,
     "start_time": "2022-07-22T03:46:54.921651",
     "status": "completed"
    },
    "tags": []
   },
   "outputs": [],
   "source": [
    "%load_ext autoreload\n",
    "%autoreload 2"
   ]
  },
  {
   "cell_type": "code",
   "execution_count": 2,
   "id": "1d5f5a59",
   "metadata": {
    "execution": {
     "iopub.execute_input": "2022-07-22T03:46:55.000282Z",
     "iopub.status.busy": "2022-07-22T03:46:54.999823Z",
     "iopub.status.idle": "2022-07-22T03:46:56.115133Z",
     "shell.execute_reply": "2022-07-22T03:46:56.114625Z"
    },
    "papermill": {
     "duration": 1.125089,
     "end_time": "2022-07-22T03:46:56.116845",
     "exception": false,
     "start_time": "2022-07-22T03:46:54.991756",
     "status": "completed"
    },
    "tags": []
   },
   "outputs": [],
   "source": [
    "from random import sample, seed\n",
    "import warnings\n",
    "from pathlib import Path\n",
    "import pickle\n",
    "import traceback\n",
    "\n",
    "import numpy as np\n",
    "from scipy.spatial.distance import squareform\n",
    "import pandas as pd\n",
    "from tqdm import tqdm\n",
    "import matplotlib.pyplot as plt\n",
    "import seaborn as sns\n",
    "\n",
    "import conf\n",
    "from entity import Gene"
   ]
  },
  {
   "cell_type": "markdown",
   "id": "1eac24b5",
   "metadata": {
    "papermill": {
     "duration": 0.006935,
     "end_time": "2022-07-22T03:46:56.131158",
     "exception": false,
     "start_time": "2022-07-22T03:46:56.124223",
     "status": "completed"
    },
    "tags": []
   },
   "source": [
    "# Settings"
   ]
  },
  {
   "cell_type": "code",
   "execution_count": 3,
   "id": "ca4560ba",
   "metadata": {
    "execution": {
     "iopub.execute_input": "2022-07-22T03:46:56.146931Z",
     "iopub.status.busy": "2022-07-22T03:46:56.146648Z",
     "iopub.status.idle": "2022-07-22T03:46:56.164795Z",
     "shell.execute_reply": "2022-07-22T03:46:56.164266Z"
    },
    "papermill": {
     "duration": 0.027933,
     "end_time": "2022-07-22T03:46:56.166462",
     "exception": false,
     "start_time": "2022-07-22T03:46:56.138529",
     "status": "completed"
    },
    "tags": [
     "parameters"
    ]
   },
   "outputs": [],
   "source": [
    "# a cohort name (it could be something like UK_BIOBANK, etc)\n",
    "COHORT_NAME = None\n",
    "\n",
    "# reference panel such as 1000G or GTEX_V8\n",
    "REFERENCE_PANEL = None\n",
    "\n",
    "# predictions models such as MASHR or ELASTIC_NET\n",
    "EQTL_MODEL = None\n",
    "\n",
    "# this is the default value used in S-MultiXcan to select the\n",
    "# top principal components of the expression correlation matrix\n",
    "SMULTIXCAN_CONDITION_NUMBER = 30\n",
    "\n",
    "# specifies a single chromosome value\n",
    "CHROMOSOME = None\n",
    "\n",
    "# if True, then it will continue if a gene pair correlation fails,\n",
    "# printing the warning/error for debugging. If False, any warning/error\n",
    "# will be thrown\n",
    "# FIXME: make it False when all is working\n",
    "DEBUG_MODE = True"
   ]
  },
  {
   "cell_type": "code",
   "execution_count": 4,
   "id": "053280d7",
   "metadata": {
    "execution": {
     "iopub.execute_input": "2022-07-22T03:46:56.183448Z",
     "iopub.status.busy": "2022-07-22T03:46:56.183180Z",
     "iopub.status.idle": "2022-07-22T03:46:56.200532Z",
     "shell.execute_reply": "2022-07-22T03:46:56.199988Z"
    },
    "papermill": {
     "duration": 0.027086,
     "end_time": "2022-07-22T03:46:56.202201",
     "exception": false,
     "start_time": "2022-07-22T03:46:56.175115",
     "status": "completed"
    },
    "tags": [
     "injected-parameters"
    ]
   },
   "outputs": [],
   "source": [
    "# Parameters\n",
    "COHORT_NAME = \"1000G_EUR\"\n",
    "REFERENCE_PANEL = \"1000G\"\n",
    "EQTL_MODEL = \"MASHR\"\n",
    "CHROMOSOME = 4\n"
   ]
  },
  {
   "cell_type": "code",
   "execution_count": 5,
   "id": "3190631f-27fc-480f-b18e-571d580425a5",
   "metadata": {
    "execution": {
     "iopub.execute_input": "2022-07-22T03:46:56.217892Z",
     "iopub.status.busy": "2022-07-22T03:46:56.217625Z",
     "iopub.status.idle": "2022-07-22T03:46:56.248994Z",
     "shell.execute_reply": "2022-07-22T03:46:56.248399Z"
    },
    "papermill": {
     "duration": 0.043195,
     "end_time": "2022-07-22T03:46:56.252759",
     "exception": false,
     "start_time": "2022-07-22T03:46:56.209564",
     "status": "completed"
    },
    "tags": []
   },
   "outputs": [
    {
     "data": {
      "text/plain": [
       "'Cohort name: 1000g_eur'"
      ]
     },
     "metadata": {},
     "output_type": "display_data"
    }
   ],
   "source": [
    "assert COHORT_NAME is not None or len(COHORT_NAME) == 0, \"A cohort name must be given\"\n",
    "\n",
    "COHORT_NAME = COHORT_NAME.lower()\n",
    "display(f\"Cohort name: {COHORT_NAME}\")"
   ]
  },
  {
   "cell_type": "code",
   "execution_count": 6,
   "id": "f53ba19b-0f93-4fa2-a047-63b375939d1a",
   "metadata": {
    "execution": {
     "iopub.execute_input": "2022-07-22T03:46:56.269650Z",
     "iopub.status.busy": "2022-07-22T03:46:56.269100Z",
     "iopub.status.idle": "2022-07-22T03:46:56.290472Z",
     "shell.execute_reply": "2022-07-22T03:46:56.289973Z"
    },
    "papermill": {
     "duration": 0.03123,
     "end_time": "2022-07-22T03:46:56.292016",
     "exception": false,
     "start_time": "2022-07-22T03:46:56.260786",
     "status": "completed"
    },
    "tags": []
   },
   "outputs": [
    {
     "data": {
      "text/plain": [
       "'Reference panel: 1000G'"
      ]
     },
     "metadata": {},
     "output_type": "display_data"
    }
   ],
   "source": [
    "assert (\n",
    "    REFERENCE_PANEL is not None or len(REFERENCE_PANEL) == 0\n",
    "), \"A reference panel must be given\"\n",
    "\n",
    "display(f\"Reference panel: {REFERENCE_PANEL}\")"
   ]
  },
  {
   "cell_type": "code",
   "execution_count": 7,
   "id": "e024d130-c139-429a-9c6e-ccf149e297b0",
   "metadata": {
    "execution": {
     "iopub.execute_input": "2022-07-22T03:46:56.308061Z",
     "iopub.status.busy": "2022-07-22T03:46:56.307659Z",
     "iopub.status.idle": "2022-07-22T03:46:56.326778Z",
     "shell.execute_reply": "2022-07-22T03:46:56.326118Z"
    },
    "papermill": {
     "duration": 0.028921,
     "end_time": "2022-07-22T03:46:56.328418",
     "exception": false,
     "start_time": "2022-07-22T03:46:56.299497",
     "status": "completed"
    },
    "tags": []
   },
   "outputs": [
    {
     "data": {
      "text/plain": [
       "'eQTL model: MASHR) / mashr_'"
      ]
     },
     "metadata": {},
     "output_type": "display_data"
    }
   ],
   "source": [
    "assert (\n",
    "    EQTL_MODEL is not None or len(EQTL_MODEL) == 0\n",
    "), \"A prediction/eQTL model must be given\"\n",
    "\n",
    "EQTL_MODEL_FILES_PREFIX = conf.PHENOMEXCAN[\"PREDICTION_MODELS\"][f\"{EQTL_MODEL}_PREFIX\"]\n",
    "display(f\"eQTL model: {EQTL_MODEL}) / {EQTL_MODEL_FILES_PREFIX}\")"
   ]
  },
  {
   "cell_type": "code",
   "execution_count": 8,
   "id": "552a7f63-a18c-4d3e-bb6a-94f99b431291",
   "metadata": {
    "execution": {
     "iopub.execute_input": "2022-07-22T03:46:56.344555Z",
     "iopub.status.busy": "2022-07-22T03:46:56.344289Z",
     "iopub.status.idle": "2022-07-22T03:46:56.362596Z",
     "shell.execute_reply": "2022-07-22T03:46:56.362063Z"
    },
    "papermill": {
     "duration": 0.028238,
     "end_time": "2022-07-22T03:46:56.364267",
     "exception": false,
     "start_time": "2022-07-22T03:46:56.336029",
     "status": "completed"
    },
    "tags": []
   },
   "outputs": [
    {
     "data": {
      "text/plain": [
       "'S-MultiXcan condition number: 30'"
      ]
     },
     "metadata": {},
     "output_type": "display_data"
    }
   ],
   "source": [
    "assert (\n",
    "    SMULTIXCAN_CONDITION_NUMBER is not None or SMULTIXCAN_CONDITION_NUMBER > 0\n",
    "), \"The S-MultiXcan condition number (positive integer) must be given\"\n",
    "\n",
    "display(f\"S-MultiXcan condition number: {SMULTIXCAN_CONDITION_NUMBER}\")"
   ]
  },
  {
   "cell_type": "code",
   "execution_count": 9,
   "id": "f34a336f-548e-4afe-8955-90eaea4f42c6",
   "metadata": {
    "execution": {
     "iopub.execute_input": "2022-07-22T03:46:56.388641Z",
     "iopub.status.busy": "2022-07-22T03:46:56.388247Z",
     "iopub.status.idle": "2022-07-22T03:46:56.406951Z",
     "shell.execute_reply": "2022-07-22T03:46:56.406307Z"
    },
    "papermill": {
     "duration": 0.037208,
     "end_time": "2022-07-22T03:46:56.409504",
     "exception": false,
     "start_time": "2022-07-22T03:46:56.372296",
     "status": "completed"
    },
    "tags": []
   },
   "outputs": [
    {
     "data": {
      "text/plain": [
       "'Working on chromosome 4'"
      ]
     },
     "metadata": {},
     "output_type": "display_data"
    }
   ],
   "source": [
    "assert CHROMOSOME is not None and (\n",
    "    1 <= CHROMOSOME <= 22\n",
    "), \"You have to select one chromosome (format: number between 1 and 22)\"\n",
    "\n",
    "CHROMOSOME = str(CHROMOSOME)\n",
    "display(f\"Working on chromosome {CHROMOSOME}\")"
   ]
  },
  {
   "cell_type": "code",
   "execution_count": 10,
   "id": "ab8e96e8-06b5-4363-9dcd-dc4d78cc27f7",
   "metadata": {
    "execution": {
     "iopub.execute_input": "2022-07-22T03:46:56.426316Z",
     "iopub.status.busy": "2022-07-22T03:46:56.426037Z",
     "iopub.status.idle": "2022-07-22T03:46:56.445150Z",
     "shell.execute_reply": "2022-07-22T03:46:56.444494Z"
    },
    "papermill": {
     "duration": 0.029463,
     "end_time": "2022-07-22T03:46:56.446899",
     "exception": false,
     "start_time": "2022-07-22T03:46:56.417436",
     "status": "completed"
    },
    "tags": []
   },
   "outputs": [
    {
     "data": {
      "text/plain": [
       "'Compute correlation within distance True'"
      ]
     },
     "metadata": {},
     "output_type": "display_data"
    }
   ],
   "source": [
    "# TODO: see if this is necessary; if so, make it a parameter with default value True\n",
    "# This parameter, if True, computes the correlation between closeby genes only\n",
    "\n",
    "COMPUTE_CORRELATIONS_WITHIN_DISTANCE = True\n",
    "display(f\"Compute correlation within distance {COMPUTE_CORRELATIONS_WITHIN_DISTANCE}\")"
   ]
  },
  {
   "cell_type": "code",
   "execution_count": 11,
   "id": "396392dc-0340-4540-9b02-e182b833f909",
   "metadata": {
    "execution": {
     "iopub.execute_input": "2022-07-22T03:46:56.463794Z",
     "iopub.status.busy": "2022-07-22T03:46:56.463520Z",
     "iopub.status.idle": "2022-07-22T03:46:56.482353Z",
     "shell.execute_reply": "2022-07-22T03:46:56.481818Z"
    },
    "papermill": {
     "duration": 0.029253,
     "end_time": "2022-07-22T03:46:56.483993",
     "exception": false,
     "start_time": "2022-07-22T03:46:56.454740",
     "status": "completed"
    },
    "tags": []
   },
   "outputs": [
    {
     "data": {
      "text/plain": [
       "'Using output dir base: /opt/data/results/gls/gene_corrs/cohorts/1000g_eur/1000g/mashr'"
      ]
     },
     "metadata": {},
     "output_type": "display_data"
    }
   ],
   "source": [
    "OUTPUT_DIR_BASE = (\n",
    "    conf.RESULTS[\"GLS\"]\n",
    "    / \"gene_corrs\"\n",
    "    / \"cohorts\"\n",
    "    / COHORT_NAME\n",
    "    / REFERENCE_PANEL.lower()\n",
    "    / EQTL_MODEL.lower()\n",
    ")\n",
    "OUTPUT_DIR_BASE.mkdir(parents=True, exist_ok=True)\n",
    "\n",
    "display(f\"Using output dir base: {OUTPUT_DIR_BASE}\")"
   ]
  },
  {
   "cell_type": "code",
   "execution_count": 12,
   "id": "974b4bb1-aa98-4e30-b221-7cd034ad3833",
   "metadata": {
    "execution": {
     "iopub.execute_input": "2022-07-22T03:46:56.501093Z",
     "iopub.status.busy": "2022-07-22T03:46:56.500828Z",
     "iopub.status.idle": "2022-07-22T03:46:56.519650Z",
     "shell.execute_reply": "2022-07-22T03:46:56.519140Z"
    },
    "papermill": {
     "duration": 0.029865,
     "end_time": "2022-07-22T03:46:56.521908",
     "exception": false,
     "start_time": "2022-07-22T03:46:56.492043",
     "status": "completed"
    },
    "tags": []
   },
   "outputs": [
    {
     "data": {
      "text/plain": [
       "PosixPath('/opt/data/results/gls/gene_corrs/cohorts/1000g_eur')"
      ]
     },
     "metadata": {},
     "output_type": "display_data"
    }
   ],
   "source": [
    "INPUT_DIR = conf.RESULTS[\"GLS\"] / \"gene_corrs\" / \"cohorts\" / COHORT_NAME\n",
    "assert INPUT_DIR.exists()\n",
    "\n",
    "display(INPUT_DIR)"
   ]
  },
  {
   "cell_type": "markdown",
   "id": "d2ba085e",
   "metadata": {
    "papermill": {
     "duration": 0.007797,
     "end_time": "2022-07-22T03:46:56.537732",
     "exception": false,
     "start_time": "2022-07-22T03:46:56.529935",
     "status": "completed"
    },
    "tags": []
   },
   "source": [
    "# Load data"
   ]
  },
  {
   "cell_type": "markdown",
   "id": "7dcb8db7",
   "metadata": {
    "papermill": {
     "duration": 0.007761,
     "end_time": "2022-07-22T03:46:56.553368",
     "exception": false,
     "start_time": "2022-07-22T03:46:56.545607",
     "status": "completed"
    },
    "tags": []
   },
   "source": [
    "## GWAS variants"
   ]
  },
  {
   "cell_type": "code",
   "execution_count": 13,
   "id": "29434c4e-8cd3-4b9b-82e4-b5a251d9dd19",
   "metadata": {
    "execution": {
     "iopub.execute_input": "2022-07-22T03:46:56.570004Z",
     "iopub.status.busy": "2022-07-22T03:46:56.569606Z",
     "iopub.status.idle": "2022-07-22T03:46:59.656387Z",
     "shell.execute_reply": "2022-07-22T03:46:59.655716Z"
    },
    "papermill": {
     "duration": 3.097034,
     "end_time": "2022-07-22T03:46:59.658137",
     "exception": false,
     "start_time": "2022-07-22T03:46:56.561103",
     "status": "completed"
    },
    "tags": []
   },
   "outputs": [],
   "source": [
    "with open(INPUT_DIR / \"gwas_variant_ids.pkl\", \"rb\") as handle:\n",
    "    gwas_variants_ids_set = pickle.load(handle)"
   ]
  },
  {
   "cell_type": "code",
   "execution_count": 14,
   "id": "b9d9dec2-4a76-4bf9-bde2-e24c95acb8a0",
   "metadata": {
    "execution": {
     "iopub.execute_input": "2022-07-22T03:46:59.676143Z",
     "iopub.status.busy": "2022-07-22T03:46:59.675741Z",
     "iopub.status.idle": "2022-07-22T03:46:59.695244Z",
     "shell.execute_reply": "2022-07-22T03:46:59.694675Z"
    },
    "papermill": {
     "duration": 0.030144,
     "end_time": "2022-07-22T03:46:59.696821",
     "exception": false,
     "start_time": "2022-07-22T03:46:59.666677",
     "status": "completed"
    },
    "tags": []
   },
   "outputs": [
    {
     "data": {
      "text/plain": [
       "8339505"
      ]
     },
     "execution_count": 14,
     "metadata": {},
     "output_type": "execute_result"
    }
   ],
   "source": [
    "len(gwas_variants_ids_set)"
   ]
  },
  {
   "cell_type": "code",
   "execution_count": 15,
   "id": "4235b06a-6034-4ee4-a0a3-2ae35d122418",
   "metadata": {
    "execution": {
     "iopub.execute_input": "2022-07-22T03:46:59.714375Z",
     "iopub.status.busy": "2022-07-22T03:46:59.714111Z",
     "iopub.status.idle": "2022-07-22T03:47:00.365428Z",
     "shell.execute_reply": "2022-07-22T03:47:00.364375Z"
    },
    "papermill": {
     "duration": 0.661958,
     "end_time": "2022-07-22T03:47:00.367031",
     "exception": false,
     "start_time": "2022-07-22T03:46:59.705073",
     "status": "completed"
    },
    "tags": []
   },
   "outputs": [
    {
     "data": {
      "text/plain": [
       "['chr15_49504391_G_A_b38',\n",
       " 'chr12_10788175_A_G_b38',\n",
       " 'chr9_31040691_G_A_b38',\n",
       " 'chr6_149878221_A_G_b38',\n",
       " 'chr3_187987345_A_C_b38']"
      ]
     },
     "execution_count": 15,
     "metadata": {},
     "output_type": "execute_result"
    }
   ],
   "source": [
    "list(gwas_variants_ids_set)[:5]"
   ]
  },
  {
   "cell_type": "markdown",
   "id": "07866999-2305-41f9-a144-e69c9122c212",
   "metadata": {
    "papermill": {
     "duration": 0.008266,
     "end_time": "2022-07-22T03:47:00.383963",
     "exception": false,
     "start_time": "2022-07-22T03:47:00.375697",
     "status": "completed"
    },
    "tags": []
   },
   "source": [
    "## S-PrediXcan tissue models"
   ]
  },
  {
   "cell_type": "code",
   "execution_count": 16,
   "id": "780611d9-77c8-405f-90a4-f271f7b09397",
   "metadata": {
    "execution": {
     "iopub.execute_input": "2022-07-22T03:47:00.401356Z",
     "iopub.status.busy": "2022-07-22T03:47:00.401091Z",
     "iopub.status.idle": "2022-07-22T03:47:01.512599Z",
     "shell.execute_reply": "2022-07-22T03:47:01.512046Z"
    },
    "papermill": {
     "duration": 1.122051,
     "end_time": "2022-07-22T03:47:01.514251",
     "exception": false,
     "start_time": "2022-07-22T03:47:00.392200",
     "status": "completed"
    },
    "tags": []
   },
   "outputs": [],
   "source": [
    "spredixcan_genes_models = pd.read_pickle(INPUT_DIR / \"gene_tissues.pkl\").set_index(\n",
    "    \"gene_id\"\n",
    ")"
   ]
  },
  {
   "cell_type": "code",
   "execution_count": 17,
   "id": "726dd1f6-9557-4225-91fa-b3b879ea96e1",
   "metadata": {
    "execution": {
     "iopub.execute_input": "2022-07-22T03:47:01.536547Z",
     "iopub.status.busy": "2022-07-22T03:47:01.536139Z",
     "iopub.status.idle": "2022-07-22T03:47:01.554446Z",
     "shell.execute_reply": "2022-07-22T03:47:01.553969Z"
    },
    "papermill": {
     "duration": 0.032828,
     "end_time": "2022-07-22T03:47:01.555991",
     "exception": false,
     "start_time": "2022-07-22T03:47:01.523163",
     "status": "completed"
    },
    "tags": []
   },
   "outputs": [
    {
     "data": {
      "text/plain": [
       "(22314, 2)"
      ]
     },
     "execution_count": 17,
     "metadata": {},
     "output_type": "execute_result"
    }
   ],
   "source": [
    "spredixcan_genes_models.shape"
   ]
  },
  {
   "cell_type": "code",
   "execution_count": 18,
   "id": "944a1b48-222c-4eb0-b252-b9de2cbca215",
   "metadata": {
    "execution": {
     "iopub.execute_input": "2022-07-22T03:47:01.574234Z",
     "iopub.status.busy": "2022-07-22T03:47:01.573703Z",
     "iopub.status.idle": "2022-07-22T03:47:01.599912Z",
     "shell.execute_reply": "2022-07-22T03:47:01.599245Z"
    },
    "papermill": {
     "duration": 0.037128,
     "end_time": "2022-07-22T03:47:01.601553",
     "exception": false,
     "start_time": "2022-07-22T03:47:01.564425",
     "status": "completed"
    },
    "tags": []
   },
   "outputs": [
    {
     "data": {
      "text/html": [
       "<div>\n",
       "<style scoped>\n",
       "    .dataframe tbody tr th:only-of-type {\n",
       "        vertical-align: middle;\n",
       "    }\n",
       "\n",
       "    .dataframe tbody tr th {\n",
       "        vertical-align: top;\n",
       "    }\n",
       "\n",
       "    .dataframe thead th {\n",
       "        text-align: right;\n",
       "    }\n",
       "</style>\n",
       "<table border=\"1\" class=\"dataframe\">\n",
       "  <thead>\n",
       "    <tr style=\"text-align: right;\">\n",
       "      <th></th>\n",
       "      <th>gene_name</th>\n",
       "      <th>tissue</th>\n",
       "    </tr>\n",
       "    <tr>\n",
       "      <th>gene_id</th>\n",
       "      <th></th>\n",
       "      <th></th>\n",
       "    </tr>\n",
       "  </thead>\n",
       "  <tbody>\n",
       "    <tr>\n",
       "      <th>ENSG00000000419</th>\n",
       "      <td>DPM1</td>\n",
       "      <td>(Brain_Substantia_nigra, Brain_Hypothalamus)</td>\n",
       "    </tr>\n",
       "    <tr>\n",
       "      <th>ENSG00000000457</th>\n",
       "      <td>SCYL3</td>\n",
       "      <td>(Brain_Putamen_basal_ganglia, Brain_Substantia...</td>\n",
       "    </tr>\n",
       "    <tr>\n",
       "      <th>ENSG00000000460</th>\n",
       "      <td>C1orf112</td>\n",
       "      <td>(Brain_Putamen_basal_ganglia, Brain_Substantia...</td>\n",
       "    </tr>\n",
       "    <tr>\n",
       "      <th>ENSG00000000938</th>\n",
       "      <td>FGR</td>\n",
       "      <td>(Esophagus_Mucosa, Esophagus_Muscularis, Arter...</td>\n",
       "    </tr>\n",
       "    <tr>\n",
       "      <th>ENSG00000000971</th>\n",
       "      <td>CFH</td>\n",
       "      <td>(Brain_Putamen_basal_ganglia, Brain_Substantia...</td>\n",
       "    </tr>\n",
       "  </tbody>\n",
       "</table>\n",
       "</div>"
      ],
      "text/plain": [
       "                gene_name                                             tissue\n",
       "gene_id                                                                     \n",
       "ENSG00000000419      DPM1       (Brain_Substantia_nigra, Brain_Hypothalamus)\n",
       "ENSG00000000457     SCYL3  (Brain_Putamen_basal_ganglia, Brain_Substantia...\n",
       "ENSG00000000460  C1orf112  (Brain_Putamen_basal_ganglia, Brain_Substantia...\n",
       "ENSG00000000938       FGR  (Esophagus_Mucosa, Esophagus_Muscularis, Arter...\n",
       "ENSG00000000971       CFH  (Brain_Putamen_basal_ganglia, Brain_Substantia..."
      ]
     },
     "execution_count": 18,
     "metadata": {},
     "output_type": "execute_result"
    }
   ],
   "source": [
    "spredixcan_genes_models.head()"
   ]
  },
  {
   "cell_type": "code",
   "execution_count": 19,
   "id": "d1c11bb1-be0b-4f40-b360-633d6827109f",
   "metadata": {
    "execution": {
     "iopub.execute_input": "2022-07-22T03:47:01.620014Z",
     "iopub.status.busy": "2022-07-22T03:47:01.619357Z",
     "iopub.status.idle": "2022-07-22T03:47:01.639136Z",
     "shell.execute_reply": "2022-07-22T03:47:01.638503Z"
    },
    "papermill": {
     "duration": 0.03057,
     "end_time": "2022-07-22T03:47:01.640802",
     "exception": false,
     "start_time": "2022-07-22T03:47:01.610232",
     "status": "completed"
    },
    "tags": []
   },
   "outputs": [],
   "source": [
    "assert spredixcan_genes_models.index.is_unique"
   ]
  },
  {
   "cell_type": "markdown",
   "id": "6caf9d10-eda8-4ad2-8811-a983aa77a25a",
   "metadata": {
    "papermill": {
     "duration": 0.007993,
     "end_time": "2022-07-22T03:47:01.657256",
     "exception": false,
     "start_time": "2022-07-22T03:47:01.649263",
     "status": "completed"
    },
    "tags": []
   },
   "source": [
    "## Get common genes"
   ]
  },
  {
   "cell_type": "code",
   "execution_count": 20,
   "id": "f8d1e317-1cc8-4bdf-bbe9-c3b0a5478359",
   "metadata": {
    "execution": {
     "iopub.execute_input": "2022-07-22T03:47:01.675029Z",
     "iopub.status.busy": "2022-07-22T03:47:01.674410Z",
     "iopub.status.idle": "2022-07-22T03:47:01.692822Z",
     "shell.execute_reply": "2022-07-22T03:47:01.692321Z"
    },
    "papermill": {
     "duration": 0.029103,
     "end_time": "2022-07-22T03:47:01.694465",
     "exception": false,
     "start_time": "2022-07-22T03:47:01.665362",
     "status": "completed"
    },
    "tags": []
   },
   "outputs": [],
   "source": [
    "with open(INPUT_DIR / \"common_genes.pkl\", \"rb\") as handle:\n",
    "    common_genes = pickle.load(handle)"
   ]
  },
  {
   "cell_type": "code",
   "execution_count": 21,
   "id": "ce9506aa-2f38-4e46-b9c2-84d750fac0da",
   "metadata": {
    "execution": {
     "iopub.execute_input": "2022-07-22T03:47:01.714348Z",
     "iopub.status.busy": "2022-07-22T03:47:01.713845Z",
     "iopub.status.idle": "2022-07-22T03:47:01.733807Z",
     "shell.execute_reply": "2022-07-22T03:47:01.733253Z"
    },
    "papermill": {
     "duration": 0.032066,
     "end_time": "2022-07-22T03:47:01.735344",
     "exception": false,
     "start_time": "2022-07-22T03:47:01.703278",
     "status": "completed"
    },
    "tags": []
   },
   "outputs": [
    {
     "data": {
      "text/plain": [
       "6444"
      ]
     },
     "execution_count": 21,
     "metadata": {},
     "output_type": "execute_result"
    }
   ],
   "source": [
    "len(common_genes)"
   ]
  },
  {
   "cell_type": "code",
   "execution_count": 22,
   "id": "f525a698-506a-48e0-9aee-1aca62def5dd",
   "metadata": {
    "execution": {
     "iopub.execute_input": "2022-07-22T03:47:01.754060Z",
     "iopub.status.busy": "2022-07-22T03:47:01.753454Z",
     "iopub.status.idle": "2022-07-22T03:47:01.773248Z",
     "shell.execute_reply": "2022-07-22T03:47:01.772719Z"
    },
    "papermill": {
     "duration": 0.030856,
     "end_time": "2022-07-22T03:47:01.774937",
     "exception": false,
     "start_time": "2022-07-22T03:47:01.744081",
     "status": "completed"
    },
    "tags": []
   },
   "outputs": [
    {
     "data": {
      "text/plain": [
       "['A2M', 'AAAS', 'AANAT', 'AARS', 'AARS2']"
      ]
     },
     "execution_count": 22,
     "metadata": {},
     "output_type": "execute_result"
    }
   ],
   "source": [
    "sorted(list(common_genes))[:5]"
   ]
  },
  {
   "cell_type": "markdown",
   "id": "a5b5092c-a13e-47c4-a92a-480fcc08f3ae",
   "metadata": {
    "papermill": {
     "duration": 0.008377,
     "end_time": "2022-07-22T03:47:01.792178",
     "exception": false,
     "start_time": "2022-07-22T03:47:01.783801",
     "status": "completed"
    },
    "tags": []
   },
   "source": [
    "## Gene info"
   ]
  },
  {
   "cell_type": "code",
   "execution_count": 23,
   "id": "7d6bb224-88e9-4358-ac10-43a41d92cdad",
   "metadata": {
    "execution": {
     "iopub.execute_input": "2022-07-22T03:47:01.810128Z",
     "iopub.status.busy": "2022-07-22T03:47:01.809741Z",
     "iopub.status.idle": "2022-07-22T03:47:01.830596Z",
     "shell.execute_reply": "2022-07-22T03:47:01.830103Z"
    },
    "papermill": {
     "duration": 0.031639,
     "end_time": "2022-07-22T03:47:01.832250",
     "exception": false,
     "start_time": "2022-07-22T03:47:01.800611",
     "status": "completed"
    },
    "tags": []
   },
   "outputs": [],
   "source": [
    "genes_info = pd.read_pickle(INPUT_DIR / \"genes_info.pkl\")"
   ]
  },
  {
   "cell_type": "code",
   "execution_count": 24,
   "id": "9e32abfa-546d-483e-8c18-d526e9e05903",
   "metadata": {
    "execution": {
     "iopub.execute_input": "2022-07-22T03:47:01.851441Z",
     "iopub.status.busy": "2022-07-22T03:47:01.851125Z",
     "iopub.status.idle": "2022-07-22T03:47:01.870377Z",
     "shell.execute_reply": "2022-07-22T03:47:01.869772Z"
    },
    "papermill": {
     "duration": 0.030907,
     "end_time": "2022-07-22T03:47:01.871991",
     "exception": false,
     "start_time": "2022-07-22T03:47:01.841084",
     "status": "completed"
    },
    "tags": []
   },
   "outputs": [
    {
     "data": {
      "text/plain": [
       "(6444, 7)"
      ]
     },
     "execution_count": 24,
     "metadata": {},
     "output_type": "execute_result"
    }
   ],
   "source": [
    "genes_info.shape"
   ]
  },
  {
   "cell_type": "code",
   "execution_count": 25,
   "id": "d16c3e92-85ec-468a-9a56-e25a9774a1cb",
   "metadata": {
    "execution": {
     "iopub.execute_input": "2022-07-22T03:47:01.891504Z",
     "iopub.status.busy": "2022-07-22T03:47:01.890930Z",
     "iopub.status.idle": "2022-07-22T03:47:01.916795Z",
     "shell.execute_reply": "2022-07-22T03:47:01.916279Z"
    },
    "papermill": {
     "duration": 0.037471,
     "end_time": "2022-07-22T03:47:01.918385",
     "exception": false,
     "start_time": "2022-07-22T03:47:01.880914",
     "status": "completed"
    },
    "tags": []
   },
   "outputs": [
    {
     "data": {
      "text/html": [
       "<div>\n",
       "<style scoped>\n",
       "    .dataframe tbody tr th:only-of-type {\n",
       "        vertical-align: middle;\n",
       "    }\n",
       "\n",
       "    .dataframe tbody tr th {\n",
       "        vertical-align: top;\n",
       "    }\n",
       "\n",
       "    .dataframe thead th {\n",
       "        text-align: right;\n",
       "    }\n",
       "</style>\n",
       "<table border=\"1\" class=\"dataframe\">\n",
       "  <thead>\n",
       "    <tr style=\"text-align: right;\">\n",
       "      <th></th>\n",
       "      <th>name</th>\n",
       "      <th>id</th>\n",
       "      <th>chr</th>\n",
       "      <th>band</th>\n",
       "      <th>start_position</th>\n",
       "      <th>end_position</th>\n",
       "      <th>gene_length</th>\n",
       "    </tr>\n",
       "  </thead>\n",
       "  <tbody>\n",
       "    <tr>\n",
       "      <th>0</th>\n",
       "      <td>MFN2</td>\n",
       "      <td>ENSG00000116688</td>\n",
       "      <td>1</td>\n",
       "      <td>1p36.22</td>\n",
       "      <td>11980181.0</td>\n",
       "      <td>12013514.0</td>\n",
       "      <td>33333.0</td>\n",
       "    </tr>\n",
       "    <tr>\n",
       "      <th>1</th>\n",
       "      <td>PPA2</td>\n",
       "      <td>ENSG00000138777</td>\n",
       "      <td>4</td>\n",
       "      <td>4q24</td>\n",
       "      <td>105369077.0</td>\n",
       "      <td>105474067.0</td>\n",
       "      <td>104990.0</td>\n",
       "    </tr>\n",
       "    <tr>\n",
       "      <th>2</th>\n",
       "      <td>ADRA2A</td>\n",
       "      <td>ENSG00000150594</td>\n",
       "      <td>10</td>\n",
       "      <td>10q25.2</td>\n",
       "      <td>111077163.0</td>\n",
       "      <td>111080907.0</td>\n",
       "      <td>3744.0</td>\n",
       "    </tr>\n",
       "    <tr>\n",
       "      <th>3</th>\n",
       "      <td>RYR2</td>\n",
       "      <td>ENSG00000198626</td>\n",
       "      <td>1</td>\n",
       "      <td>1q43</td>\n",
       "      <td>237042184.0</td>\n",
       "      <td>237833988.0</td>\n",
       "      <td>791804.0</td>\n",
       "    </tr>\n",
       "    <tr>\n",
       "      <th>4</th>\n",
       "      <td>VAV2</td>\n",
       "      <td>ENSG00000160293</td>\n",
       "      <td>9</td>\n",
       "      <td>9q34.2</td>\n",
       "      <td>133761894.0</td>\n",
       "      <td>133992604.0</td>\n",
       "      <td>230710.0</td>\n",
       "    </tr>\n",
       "  </tbody>\n",
       "</table>\n",
       "</div>"
      ],
      "text/plain": [
       "     name               id chr     band  start_position  end_position  \\\n",
       "0    MFN2  ENSG00000116688   1  1p36.22      11980181.0    12013514.0   \n",
       "1    PPA2  ENSG00000138777   4     4q24     105369077.0   105474067.0   \n",
       "2  ADRA2A  ENSG00000150594  10  10q25.2     111077163.0   111080907.0   \n",
       "3    RYR2  ENSG00000198626   1     1q43     237042184.0   237833988.0   \n",
       "4    VAV2  ENSG00000160293   9   9q34.2     133761894.0   133992604.0   \n",
       "\n",
       "   gene_length  \n",
       "0      33333.0  \n",
       "1     104990.0  \n",
       "2       3744.0  \n",
       "3     791804.0  \n",
       "4     230710.0  "
      ]
     },
     "execution_count": 25,
     "metadata": {},
     "output_type": "execute_result"
    }
   ],
   "source": [
    "genes_info.head()"
   ]
  },
  {
   "cell_type": "markdown",
   "id": "d3843e06",
   "metadata": {
    "papermill": {
     "duration": 0.008947,
     "end_time": "2022-07-22T03:47:01.936600",
     "exception": false,
     "start_time": "2022-07-22T03:47:01.927653",
     "status": "completed"
    },
    "tags": []
   },
   "source": [
    "# Compute correlations"
   ]
  },
  {
   "cell_type": "code",
   "execution_count": 26,
   "id": "cb859c15-d1f3-4006-a74c-2b83c0db9611",
   "metadata": {
    "execution": {
     "iopub.execute_input": "2022-07-22T03:47:01.955473Z",
     "iopub.status.busy": "2022-07-22T03:47:01.955093Z",
     "iopub.status.idle": "2022-07-22T03:47:01.972931Z",
     "shell.execute_reply": "2022-07-22T03:47:01.972398Z"
    },
    "papermill": {
     "duration": 0.02903,
     "end_time": "2022-07-22T03:47:01.974526",
     "exception": false,
     "start_time": "2022-07-22T03:47:01.945496",
     "status": "completed"
    },
    "tags": []
   },
   "outputs": [
    {
     "data": {
      "text/plain": [
       "PosixPath('/opt/data/results/gls/gene_corrs/cohorts/1000g_eur/1000g/mashr/by_chr/gene_corrs-chr4.pkl')"
      ]
     },
     "metadata": {},
     "output_type": "display_data"
    }
   ],
   "source": [
    "output_dir = OUTPUT_DIR_BASE / \"by_chr\"\n",
    "output_dir.mkdir(exist_ok=True, parents=True)\n",
    "output_file = output_dir / f\"gene_corrs-chr{CHROMOSOME}.pkl\"\n",
    "display(output_file)"
   ]
  },
  {
   "cell_type": "code",
   "execution_count": 27,
   "id": "aa674fe4-6794-4eed-98fa-32b39d1d4ace",
   "metadata": {
    "execution": {
     "iopub.execute_input": "2022-07-22T03:47:01.993899Z",
     "iopub.status.busy": "2022-07-22T03:47:01.993374Z",
     "iopub.status.idle": "2022-07-22T03:47:02.012028Z",
     "shell.execute_reply": "2022-07-22T03:47:02.009614Z"
    },
    "papermill": {
     "duration": 0.029966,
     "end_time": "2022-07-22T03:47:02.013701",
     "exception": false,
     "start_time": "2022-07-22T03:47:01.983735",
     "status": "completed"
    },
    "tags": []
   },
   "outputs": [],
   "source": [
    "warnings.filterwarnings(\"error\")"
   ]
  },
  {
   "cell_type": "code",
   "execution_count": 28,
   "id": "44d5450b-3baf-43f1-9e2e-4b06f1a785f8",
   "metadata": {
    "execution": {
     "iopub.execute_input": "2022-07-22T03:47:02.033667Z",
     "iopub.status.busy": "2022-07-22T03:47:02.033071Z",
     "iopub.status.idle": "2022-07-22T03:47:02.051539Z",
     "shell.execute_reply": "2022-07-22T03:47:02.051059Z"
    },
    "papermill": {
     "duration": 0.030118,
     "end_time": "2022-07-22T03:47:02.053172",
     "exception": false,
     "start_time": "2022-07-22T03:47:02.023054",
     "status": "completed"
    },
    "tags": []
   },
   "outputs": [],
   "source": [
    "# standard checks\n",
    "all_chrs = genes_info[\"chr\"].dropna().unique()\n",
    "assert all_chrs.shape[0] == 22\n",
    "\n",
    "# select chromosome given by the user\n",
    "assert CHROMOSOME in all_chrs"
   ]
  },
  {
   "cell_type": "code",
   "execution_count": 29,
   "id": "2d7c043c-92a7-4d35-991b-fa69ac1e0268",
   "metadata": {
    "execution": {
     "iopub.execute_input": "2022-07-22T03:47:02.072975Z",
     "iopub.status.busy": "2022-07-22T03:47:02.072588Z",
     "iopub.status.idle": "2022-07-22T03:47:02.092493Z",
     "shell.execute_reply": "2022-07-22T03:47:02.091952Z"
    },
    "papermill": {
     "duration": 0.031421,
     "end_time": "2022-07-22T03:47:02.094021",
     "exception": false,
     "start_time": "2022-07-22T03:47:02.062600",
     "status": "completed"
    },
    "tags": []
   },
   "outputs": [
    {
     "name": "stdout",
     "output_type": "stream",
     "text": [
      "Number of genes in chromosome: 244\n"
     ]
    }
   ],
   "source": [
    "# run only on the chromosome specified\n",
    "all_chrs = [CHROMOSOME]\n",
    "genes_chr = genes_info[genes_info[\"chr\"] == CHROMOSOME]\n",
    "\n",
    "# For testing purposes\n",
    "# genes_chr = genes_chr.sample(n=20)\n",
    "\n",
    "print(f\"Number of genes in chromosome: {genes_chr.shape[0]}\", flush=True)"
   ]
  },
  {
   "cell_type": "code",
   "execution_count": 30,
   "id": "916015d8-2979-46d3-a9b9-1cf5a0932c6a",
   "metadata": {
    "execution": {
     "iopub.execute_input": "2022-07-22T03:47:02.113852Z",
     "iopub.status.busy": "2022-07-22T03:47:02.113466Z",
     "iopub.status.idle": "2022-07-22T03:47:02.131272Z",
     "shell.execute_reply": "2022-07-22T03:47:02.130763Z"
    },
    "papermill": {
     "duration": 0.029425,
     "end_time": "2022-07-22T03:47:02.132948",
     "exception": false,
     "start_time": "2022-07-22T03:47:02.103523",
     "status": "completed"
    },
    "tags": []
   },
   "outputs": [],
   "source": [
    "# sort genes by starting position to make visualizations better later\n",
    "genes_chr = genes_chr.sort_values(\"start_position\")"
   ]
  },
  {
   "cell_type": "code",
   "execution_count": 31,
   "id": "a38aa74a-8ad3-47f6-8ef9-56be0e011774",
   "metadata": {
    "execution": {
     "iopub.execute_input": "2022-07-22T03:47:02.153010Z",
     "iopub.status.busy": "2022-07-22T03:47:02.152683Z",
     "iopub.status.idle": "2022-07-22T03:47:02.170567Z",
     "shell.execute_reply": "2022-07-22T03:47:02.170081Z"
    },
    "papermill": {
     "duration": 0.029642,
     "end_time": "2022-07-22T03:47:02.172199",
     "exception": false,
     "start_time": "2022-07-22T03:47:02.142557",
     "status": "completed"
    },
    "tags": []
   },
   "outputs": [],
   "source": [
    "gene_chr_objs = [Gene(ensembl_id=gene_id) for gene_id in genes_chr[\"id\"]]"
   ]
  },
  {
   "cell_type": "code",
   "execution_count": 32,
   "id": "570f974f-13c3-42b6-ad3a-ce99ca885c1a",
   "metadata": {
    "execution": {
     "iopub.execute_input": "2022-07-22T03:47:02.192154Z",
     "iopub.status.busy": "2022-07-22T03:47:02.191900Z",
     "iopub.status.idle": "2022-07-22T03:47:02.210936Z",
     "shell.execute_reply": "2022-07-22T03:47:02.210449Z"
    },
    "papermill": {
     "duration": 0.034693,
     "end_time": "2022-07-22T03:47:02.216482",
     "exception": false,
     "start_time": "2022-07-22T03:47:02.181789",
     "status": "completed"
    },
    "tags": []
   },
   "outputs": [
    {
     "name": "stdout",
     "output_type": "stream",
     "text": [
      "Number of gene combinations: 29646\n"
     ]
    }
   ],
   "source": [
    "n = len(gene_chr_objs)\n",
    "n_comb = int(n * (n - 1) / 2.0)\n",
    "print(f\"Number of gene combinations: {n_comb}\", flush=True)"
   ]
  },
  {
   "cell_type": "code",
   "execution_count": 33,
   "id": "cdbb90a1",
   "metadata": {
    "execution": {
     "iopub.execute_input": "2022-07-22T03:47:02.236769Z",
     "iopub.status.busy": "2022-07-22T03:47:02.236234Z",
     "iopub.status.idle": "2022-07-22T03:51:02.371114Z",
     "shell.execute_reply": "2022-07-22T03:51:02.370704Z"
    },
    "papermill": {
     "duration": 240.146561,
     "end_time": "2022-07-22T03:51:02.372534",
     "exception": false,
     "start_time": "2022-07-22T03:47:02.225973",
     "status": "completed"
    },
    "tags": []
   },
   "outputs": [
    {
     "name": "stderr",
     "output_type": "stream",
     "text": [
      "ENSG00000164344 / ENSG00000109536: 100%|█████████████████████| 29646/29646 [04:00<00:00, 123.48it/s]\n"
     ]
    },
    {
     "data": {
      "text/plain": [
       "PosixPath('/opt/data/results/gls/gene_corrs/cohorts/1000g_eur/1000g/mashr/by_chr/gene_corrs-chr4.pkl')"
      ]
     },
     "metadata": {},
     "output_type": "display_data"
    }
   ],
   "source": [
    "gene_corrs = []\n",
    "\n",
    "i = 0\n",
    "with tqdm(ncols=100, total=n_comb) as pbar:\n",
    "    for gene1_idx in range(0, len(gene_chr_objs) - 1):\n",
    "        gene1_obj = gene_chr_objs[gene1_idx]\n",
    "        gene1_tissues = spredixcan_genes_models.loc[gene1_obj.ensembl_id, \"tissue\"]\n",
    "\n",
    "        for gene2_idx in range(gene1_idx + 1, len(gene_chr_objs)):\n",
    "            gene2_obj = gene_chr_objs[gene2_idx]\n",
    "            gene2_tissues = spredixcan_genes_models.loc[gene2_obj.ensembl_id, \"tissue\"]\n",
    "\n",
    "            pbar.set_description(f\"{gene1_obj.ensembl_id} / {gene2_obj.ensembl_id}\")\n",
    "\n",
    "            try:\n",
    "                r = gene1_obj.get_ssm_correlation(\n",
    "                    other_gene=gene2_obj,\n",
    "                    tissues=gene1_tissues,\n",
    "                    other_tissues=gene2_tissues,\n",
    "                    snps_subset=gwas_variants_ids_set,\n",
    "                    condition_number=SMULTIXCAN_CONDITION_NUMBER,\n",
    "                    reference_panel=REFERENCE_PANEL,\n",
    "                    model_type=EQTL_MODEL,\n",
    "                    use_within_distance=COMPUTE_CORRELATIONS_WITHIN_DISTANCE,\n",
    "                )\n",
    "\n",
    "                if r is None:\n",
    "                    # if r is None, it's very likely because:\n",
    "                    #  * one of the genes has no prediction models\n",
    "                    #  * all the SNPs predictors for the gene are not present in the reference\n",
    "                    #    panel\n",
    "\n",
    "                    r = 0.0\n",
    "\n",
    "                gene_corrs.append(r)\n",
    "            except Warning as e:\n",
    "                if not DEBUG_MODE:\n",
    "                    raise e\n",
    "\n",
    "                print(\n",
    "                    f\"RuntimeWarning for genes {gene1_obj.ensembl_id} and {gene2_obj.ensembl_id}\",\n",
    "                    flush=True,\n",
    "                )\n",
    "                print(traceback.format_exc(), flush=True)\n",
    "\n",
    "                gene_corrs.append(np.nan)\n",
    "            except Exception as e:\n",
    "                if not DEBUG_MODE:\n",
    "                    raise e\n",
    "\n",
    "                print(\n",
    "                    f\"Exception for genes {gene1_obj.ensembl_id} and {gene2_obj.ensembl_id}\",\n",
    "                    flush=True,\n",
    "                )\n",
    "                print(traceback.format_exc(), flush=True)\n",
    "\n",
    "                gene_corrs.append(np.nan)\n",
    "\n",
    "            pbar.update(1)\n",
    "\n",
    "# create a pandas series\n",
    "gene_corrs_flat = pd.Series(gene_corrs)\n",
    "\n",
    "# save\n",
    "# FIXME: consider saving only the condenced matrix here. See here for\n",
    "# more details: https://github.com/greenelab/phenoplier/pull/38#discussion_r634600813\n",
    "gene_corrs_data = squareform(np.array(gene_corrs, dtype=np.float64))\n",
    "np.fill_diagonal(gene_corrs_data, 1.0)\n",
    "\n",
    "gene_chr_ids = [g.ensembl_id for g in gene_chr_objs]\n",
    "gene_corrs_df = pd.DataFrame(\n",
    "    data=gene_corrs_data,\n",
    "    index=gene_chr_ids,\n",
    "    columns=gene_chr_ids,\n",
    ")\n",
    "\n",
    "output_dir.mkdir(exist_ok=True, parents=True)\n",
    "display(output_file)\n",
    "\n",
    "gene_corrs_df.to_pickle(output_file)"
   ]
  },
  {
   "cell_type": "markdown",
   "id": "faa67b51-5373-470f-aa72-2ded53fa6dfe",
   "metadata": {
    "papermill": {
     "duration": 1.170647,
     "end_time": "2022-07-22T03:51:04.610525",
     "exception": false,
     "start_time": "2022-07-22T03:51:03.439878",
     "status": "completed"
    },
    "tags": []
   },
   "source": [
    "# Testing"
   ]
  },
  {
   "cell_type": "code",
   "execution_count": 34,
   "id": "14f7d046-4b55-4896-a56b-990127bcc388",
   "metadata": {
    "execution": {
     "iopub.execute_input": "2022-07-22T03:51:06.847718Z",
     "iopub.status.busy": "2022-07-22T03:51:06.847537Z",
     "iopub.status.idle": "2022-07-22T03:51:06.864625Z",
     "shell.execute_reply": "2022-07-22T03:51:06.864212Z"
    },
    "papermill": {
     "duration": 1.124985,
     "end_time": "2022-07-22T03:51:06.866011",
     "exception": false,
     "start_time": "2022-07-22T03:51:05.741026",
     "status": "completed"
    },
    "tags": []
   },
   "outputs": [
    {
     "data": {
      "text/plain": [
       "(244, 244)"
      ]
     },
     "execution_count": 34,
     "metadata": {},
     "output_type": "execute_result"
    }
   ],
   "source": [
    "gene_corrs_df.shape"
   ]
  },
  {
   "cell_type": "code",
   "execution_count": 35,
   "id": "c7d15414-3297-4537-a7c6-7588c0baeb75",
   "metadata": {
    "execution": {
     "iopub.execute_input": "2022-07-22T03:51:09.156591Z",
     "iopub.status.busy": "2022-07-22T03:51:09.156364Z",
     "iopub.status.idle": "2022-07-22T03:51:09.186245Z",
     "shell.execute_reply": "2022-07-22T03:51:09.185855Z"
    },
    "papermill": {
     "duration": 1.186009,
     "end_time": "2022-07-22T03:51:09.187463",
     "exception": false,
     "start_time": "2022-07-22T03:51:08.001454",
     "status": "completed"
    },
    "tags": []
   },
   "outputs": [
    {
     "data": {
      "text/html": [
       "<div>\n",
       "<style scoped>\n",
       "    .dataframe tbody tr th:only-of-type {\n",
       "        vertical-align: middle;\n",
       "    }\n",
       "\n",
       "    .dataframe tbody tr th {\n",
       "        vertical-align: top;\n",
       "    }\n",
       "\n",
       "    .dataframe thead th {\n",
       "        text-align: right;\n",
       "    }\n",
       "</style>\n",
       "<table border=\"1\" class=\"dataframe\">\n",
       "  <thead>\n",
       "    <tr style=\"text-align: right;\">\n",
       "      <th></th>\n",
       "      <th>ENSG00000272602</th>\n",
       "      <th>ENSG00000131127</th>\n",
       "      <th>ENSG00000174227</th>\n",
       "      <th>ENSG00000133256</th>\n",
       "      <th>ENSG00000169020</th>\n",
       "      <th>ENSG00000215375</th>\n",
       "      <th>ENSG00000169026</th>\n",
       "      <th>ENSG00000178950</th>\n",
       "      <th>ENSG00000145214</th>\n",
       "      <th>ENSG00000145217</th>\n",
       "      <th>...</th>\n",
       "      <th>ENSG00000109674</th>\n",
       "      <th>ENSG00000038002</th>\n",
       "      <th>ENSG00000129187</th>\n",
       "      <th>ENSG00000168310</th>\n",
       "      <th>ENSG00000164305</th>\n",
       "      <th>ENSG00000151726</th>\n",
       "      <th>ENSG00000151729</th>\n",
       "      <th>ENSG00000164342</th>\n",
       "      <th>ENSG00000164344</th>\n",
       "      <th>ENSG00000109536</th>\n",
       "    </tr>\n",
       "  </thead>\n",
       "  <tbody>\n",
       "    <tr>\n",
       "      <th>ENSG00000272602</th>\n",
       "      <td>1.000000</td>\n",
       "      <td>0.055963</td>\n",
       "      <td>0.190848</td>\n",
       "      <td>0.094818</td>\n",
       "      <td>0.097104</td>\n",
       "      <td>0.045591</td>\n",
       "      <td>0.038776</td>\n",
       "      <td>0.017085</td>\n",
       "      <td>0.010274</td>\n",
       "      <td>0.008550</td>\n",
       "      <td>...</td>\n",
       "      <td>0.0</td>\n",
       "      <td>0.0</td>\n",
       "      <td>0.0</td>\n",
       "      <td>0.0</td>\n",
       "      <td>0.0</td>\n",
       "      <td>0.0</td>\n",
       "      <td>0.0</td>\n",
       "      <td>0.0</td>\n",
       "      <td>0.0</td>\n",
       "      <td>0.0</td>\n",
       "    </tr>\n",
       "    <tr>\n",
       "      <th>ENSG00000131127</th>\n",
       "      <td>0.055963</td>\n",
       "      <td>1.000000</td>\n",
       "      <td>0.332490</td>\n",
       "      <td>0.080283</td>\n",
       "      <td>0.029108</td>\n",
       "      <td>0.037342</td>\n",
       "      <td>0.033256</td>\n",
       "      <td>0.017609</td>\n",
       "      <td>0.019846</td>\n",
       "      <td>0.004169</td>\n",
       "      <td>...</td>\n",
       "      <td>0.0</td>\n",
       "      <td>0.0</td>\n",
       "      <td>0.0</td>\n",
       "      <td>0.0</td>\n",
       "      <td>0.0</td>\n",
       "      <td>0.0</td>\n",
       "      <td>0.0</td>\n",
       "      <td>0.0</td>\n",
       "      <td>0.0</td>\n",
       "      <td>0.0</td>\n",
       "    </tr>\n",
       "    <tr>\n",
       "      <th>ENSG00000174227</th>\n",
       "      <td>0.190848</td>\n",
       "      <td>0.332490</td>\n",
       "      <td>1.000000</td>\n",
       "      <td>0.268060</td>\n",
       "      <td>0.180474</td>\n",
       "      <td>0.071813</td>\n",
       "      <td>0.091312</td>\n",
       "      <td>0.019070</td>\n",
       "      <td>0.014028</td>\n",
       "      <td>0.011207</td>\n",
       "      <td>...</td>\n",
       "      <td>0.0</td>\n",
       "      <td>0.0</td>\n",
       "      <td>0.0</td>\n",
       "      <td>0.0</td>\n",
       "      <td>0.0</td>\n",
       "      <td>0.0</td>\n",
       "      <td>0.0</td>\n",
       "      <td>0.0</td>\n",
       "      <td>0.0</td>\n",
       "      <td>0.0</td>\n",
       "    </tr>\n",
       "    <tr>\n",
       "      <th>ENSG00000133256</th>\n",
       "      <td>0.094818</td>\n",
       "      <td>0.080283</td>\n",
       "      <td>0.268060</td>\n",
       "      <td>1.000000</td>\n",
       "      <td>0.295010</td>\n",
       "      <td>0.260298</td>\n",
       "      <td>0.282435</td>\n",
       "      <td>0.017026</td>\n",
       "      <td>0.009293</td>\n",
       "      <td>0.005894</td>\n",
       "      <td>...</td>\n",
       "      <td>0.0</td>\n",
       "      <td>0.0</td>\n",
       "      <td>0.0</td>\n",
       "      <td>0.0</td>\n",
       "      <td>0.0</td>\n",
       "      <td>0.0</td>\n",
       "      <td>0.0</td>\n",
       "      <td>0.0</td>\n",
       "      <td>0.0</td>\n",
       "      <td>0.0</td>\n",
       "    </tr>\n",
       "    <tr>\n",
       "      <th>ENSG00000169020</th>\n",
       "      <td>0.097104</td>\n",
       "      <td>0.029108</td>\n",
       "      <td>0.180474</td>\n",
       "      <td>0.295010</td>\n",
       "      <td>1.000000</td>\n",
       "      <td>0.197665</td>\n",
       "      <td>0.216094</td>\n",
       "      <td>0.013160</td>\n",
       "      <td>0.008778</td>\n",
       "      <td>0.000006</td>\n",
       "      <td>...</td>\n",
       "      <td>0.0</td>\n",
       "      <td>0.0</td>\n",
       "      <td>0.0</td>\n",
       "      <td>0.0</td>\n",
       "      <td>0.0</td>\n",
       "      <td>0.0</td>\n",
       "      <td>0.0</td>\n",
       "      <td>0.0</td>\n",
       "      <td>0.0</td>\n",
       "      <td>0.0</td>\n",
       "    </tr>\n",
       "  </tbody>\n",
       "</table>\n",
       "<p>5 rows × 244 columns</p>\n",
       "</div>"
      ],
      "text/plain": [
       "                 ENSG00000272602  ENSG00000131127  ENSG00000174227  \\\n",
       "ENSG00000272602         1.000000         0.055963         0.190848   \n",
       "ENSG00000131127         0.055963         1.000000         0.332490   \n",
       "ENSG00000174227         0.190848         0.332490         1.000000   \n",
       "ENSG00000133256         0.094818         0.080283         0.268060   \n",
       "ENSG00000169020         0.097104         0.029108         0.180474   \n",
       "\n",
       "                 ENSG00000133256  ENSG00000169020  ENSG00000215375  \\\n",
       "ENSG00000272602         0.094818         0.097104         0.045591   \n",
       "ENSG00000131127         0.080283         0.029108         0.037342   \n",
       "ENSG00000174227         0.268060         0.180474         0.071813   \n",
       "ENSG00000133256         1.000000         0.295010         0.260298   \n",
       "ENSG00000169020         0.295010         1.000000         0.197665   \n",
       "\n",
       "                 ENSG00000169026  ENSG00000178950  ENSG00000145214  \\\n",
       "ENSG00000272602         0.038776         0.017085         0.010274   \n",
       "ENSG00000131127         0.033256         0.017609         0.019846   \n",
       "ENSG00000174227         0.091312         0.019070         0.014028   \n",
       "ENSG00000133256         0.282435         0.017026         0.009293   \n",
       "ENSG00000169020         0.216094         0.013160         0.008778   \n",
       "\n",
       "                 ENSG00000145217  ...  ENSG00000109674  ENSG00000038002  \\\n",
       "ENSG00000272602         0.008550  ...              0.0              0.0   \n",
       "ENSG00000131127         0.004169  ...              0.0              0.0   \n",
       "ENSG00000174227         0.011207  ...              0.0              0.0   \n",
       "ENSG00000133256         0.005894  ...              0.0              0.0   \n",
       "ENSG00000169020         0.000006  ...              0.0              0.0   \n",
       "\n",
       "                 ENSG00000129187  ENSG00000168310  ENSG00000164305  \\\n",
       "ENSG00000272602              0.0              0.0              0.0   \n",
       "ENSG00000131127              0.0              0.0              0.0   \n",
       "ENSG00000174227              0.0              0.0              0.0   \n",
       "ENSG00000133256              0.0              0.0              0.0   \n",
       "ENSG00000169020              0.0              0.0              0.0   \n",
       "\n",
       "                 ENSG00000151726  ENSG00000151729  ENSG00000164342  \\\n",
       "ENSG00000272602              0.0              0.0              0.0   \n",
       "ENSG00000131127              0.0              0.0              0.0   \n",
       "ENSG00000174227              0.0              0.0              0.0   \n",
       "ENSG00000133256              0.0              0.0              0.0   \n",
       "ENSG00000169020              0.0              0.0              0.0   \n",
       "\n",
       "                 ENSG00000164344  ENSG00000109536  \n",
       "ENSG00000272602              0.0              0.0  \n",
       "ENSG00000131127              0.0              0.0  \n",
       "ENSG00000174227              0.0              0.0  \n",
       "ENSG00000133256              0.0              0.0  \n",
       "ENSG00000169020              0.0              0.0  \n",
       "\n",
       "[5 rows x 244 columns]"
      ]
     },
     "execution_count": 35,
     "metadata": {},
     "output_type": "execute_result"
    }
   ],
   "source": [
    "gene_corrs_df.head()"
   ]
  },
  {
   "cell_type": "markdown",
   "id": "dad6603f-01c6-41fb-a6f6-241051207dd8",
   "metadata": {
    "papermill": {
     "duration": 1.110841,
     "end_time": "2022-07-22T03:51:11.445007",
     "exception": false,
     "start_time": "2022-07-22T03:51:10.334166",
     "status": "completed"
    },
    "tags": []
   },
   "source": [
    "## Standard checks and stats"
   ]
  },
  {
   "cell_type": "code",
   "execution_count": 36,
   "id": "286686af-1b7b-4440-8453-6bdcbd8de19c",
   "metadata": {
    "execution": {
     "iopub.execute_input": "2022-07-22T03:51:13.776145Z",
     "iopub.status.busy": "2022-07-22T03:51:13.775818Z",
     "iopub.status.idle": "2022-07-22T03:51:13.792205Z",
     "shell.execute_reply": "2022-07-22T03:51:13.791800Z"
    },
    "papermill": {
     "duration": 1.169962,
     "end_time": "2022-07-22T03:51:13.793493",
     "exception": false,
     "start_time": "2022-07-22T03:51:12.623531",
     "status": "completed"
    },
    "tags": []
   },
   "outputs": [],
   "source": [
    "assert not gene_corrs_df.isna().any().any()"
   ]
  },
  {
   "cell_type": "code",
   "execution_count": 37,
   "id": "00583efc-7068-4270-ad1e-4a418e91db96",
   "metadata": {
    "execution": {
     "iopub.execute_input": "2022-07-22T03:51:16.141994Z",
     "iopub.status.busy": "2022-07-22T03:51:16.141753Z",
     "iopub.status.idle": "2022-07-22T03:51:16.158556Z",
     "shell.execute_reply": "2022-07-22T03:51:16.158123Z"
    },
    "papermill": {
     "duration": 1.219166,
     "end_time": "2022-07-22T03:51:16.159704",
     "exception": false,
     "start_time": "2022-07-22T03:51:14.940538",
     "status": "completed"
    },
    "tags": []
   },
   "outputs": [
    {
     "data": {
      "text/plain": [
       "0.0"
      ]
     },
     "metadata": {},
     "output_type": "display_data"
    }
   ],
   "source": [
    "_min_val = gene_corrs_df.min().min()\n",
    "display(_min_val)\n",
    "assert _min_val >= 0.0"
   ]
  },
  {
   "cell_type": "code",
   "execution_count": 38,
   "id": "d04fb2cf-1050-475b-b855-f5f7cc04092b",
   "metadata": {
    "execution": {
     "iopub.execute_input": "2022-07-22T03:51:18.429660Z",
     "iopub.status.busy": "2022-07-22T03:51:18.429458Z",
     "iopub.status.idle": "2022-07-22T03:51:18.446502Z",
     "shell.execute_reply": "2022-07-22T03:51:18.446028Z"
    },
    "papermill": {
     "duration": 1.158046,
     "end_time": "2022-07-22T03:51:18.447894",
     "exception": false,
     "start_time": "2022-07-22T03:51:17.289848",
     "status": "completed"
    },
    "tags": []
   },
   "outputs": [
    {
     "data": {
      "text/plain": [
       "1.0"
      ]
     },
     "metadata": {},
     "output_type": "display_data"
    }
   ],
   "source": [
    "_max_val = gene_corrs_df.max().max()  # this captures the diagonal\n",
    "display(_max_val)\n",
    "assert _max_val <= 1.0"
   ]
  },
  {
   "cell_type": "code",
   "execution_count": 39,
   "id": "96d02c44-1fba-47be-8a93-8f2608420b9c",
   "metadata": {
    "execution": {
     "iopub.execute_input": "2022-07-22T03:51:20.783920Z",
     "iopub.status.busy": "2022-07-22T03:51:20.783693Z",
     "iopub.status.idle": "2022-07-22T03:51:20.799356Z",
     "shell.execute_reply": "2022-07-22T03:51:20.798872Z"
    },
    "papermill": {
     "duration": 1.173474,
     "end_time": "2022-07-22T03:51:20.800574",
     "exception": false,
     "start_time": "2022-07-22T03:51:19.627100",
     "status": "completed"
    },
    "tags": []
   },
   "outputs": [],
   "source": [
    "# check upper triangular values\n",
    "assert len(gene_corrs) == int(genes_chr.shape[0] * (genes_chr.shape[0] - 1) / 2)"
   ]
  },
  {
   "cell_type": "code",
   "execution_count": 40,
   "id": "fe283586-c348-40e0-8841-f6d97bfb021c",
   "metadata": {
    "execution": {
     "iopub.execute_input": "2022-07-22T03:51:23.156257Z",
     "iopub.status.busy": "2022-07-22T03:51:23.155792Z",
     "iopub.status.idle": "2022-07-22T03:51:23.173614Z",
     "shell.execute_reply": "2022-07-22T03:51:23.173201Z"
    },
    "papermill": {
     "duration": 1.224094,
     "end_time": "2022-07-22T03:51:23.174740",
     "exception": false,
     "start_time": "2022-07-22T03:51:21.950646",
     "status": "completed"
    },
    "tags": []
   },
   "outputs": [
    {
     "data": {
      "text/plain": [
       "count    29646.000000\n",
       "mean         0.001902\n",
       "std          0.022376\n",
       "min          0.000000\n",
       "25%          0.000000\n",
       "50%          0.000000\n",
       "75%          0.000000\n",
       "max          0.923846\n",
       "dtype: float64"
      ]
     },
     "execution_count": 40,
     "metadata": {},
     "output_type": "execute_result"
    }
   ],
   "source": [
    "gene_corrs_flat.describe()"
   ]
  },
  {
   "cell_type": "code",
   "execution_count": 41,
   "id": "b3815678-0f93-4b35-897b-a9d047a2aa78",
   "metadata": {
    "execution": {
     "iopub.execute_input": "2022-07-22T03:51:25.505152Z",
     "iopub.status.busy": "2022-07-22T03:51:25.504992Z",
     "iopub.status.idle": "2022-07-22T03:51:25.524276Z",
     "shell.execute_reply": "2022-07-22T03:51:25.523892Z"
    },
    "papermill": {
     "duration": 1.199977,
     "end_time": "2022-07-22T03:51:25.525558",
     "exception": false,
     "start_time": "2022-07-22T03:51:24.325581",
     "status": "completed"
    },
    "tags": []
   },
   "outputs": [
    {
     "data": {
      "text/plain": [
       "0.00    0.000000\n",
       "0.05    0.000000\n",
       "0.10    0.000000\n",
       "0.15    0.000000\n",
       "0.20    0.000000\n",
       "0.25    0.000000\n",
       "0.30    0.000000\n",
       "0.35    0.000000\n",
       "0.40    0.000000\n",
       "0.45    0.000000\n",
       "0.50    0.000000\n",
       "0.55    0.000000\n",
       "0.60    0.000000\n",
       "0.65    0.000000\n",
       "0.70    0.000000\n",
       "0.75    0.000000\n",
       "0.80    0.000000\n",
       "0.85    0.000000\n",
       "0.90    0.000000\n",
       "0.95    0.006137\n",
       "dtype: float64"
      ]
     },
     "metadata": {},
     "output_type": "display_data"
    }
   ],
   "source": [
    "gene_corrs_quantiles = gene_corrs_flat.quantile(np.arange(0, 1, 0.05))\n",
    "display(gene_corrs_quantiles)"
   ]
  },
  {
   "cell_type": "markdown",
   "id": "87134509-b145-4a10-8bc9-b7e914c2b0fa",
   "metadata": {
    "papermill": {
     "duration": 1.164577,
     "end_time": "2022-07-22T03:51:27.800955",
     "exception": false,
     "start_time": "2022-07-22T03:51:26.636378",
     "status": "completed"
    },
    "tags": []
   },
   "source": [
    "## Positive definiteness"
   ]
  },
  {
   "cell_type": "code",
   "execution_count": 42,
   "id": "07d9a9a1-a4f7-48aa-b916-6d42a8cc6186",
   "metadata": {
    "execution": {
     "iopub.execute_input": "2022-07-22T03:51:30.089771Z",
     "iopub.status.busy": "2022-07-22T03:51:30.089521Z",
     "iopub.status.idle": "2022-07-22T03:51:30.116657Z",
     "shell.execute_reply": "2022-07-22T03:51:30.116298Z"
    },
    "papermill": {
     "duration": 1.190348,
     "end_time": "2022-07-22T03:51:30.117710",
     "exception": false,
     "start_time": "2022-07-22T03:51:28.927362",
     "status": "completed"
    },
    "tags": []
   },
   "outputs": [
    {
     "data": {
      "text/plain": [
       "0"
      ]
     },
     "metadata": {},
     "output_type": "display_data"
    },
    {
     "data": {
      "text/plain": [
       "array([], dtype=float64)"
      ]
     },
     "metadata": {},
     "output_type": "display_data"
    }
   ],
   "source": [
    "# print negative eigenvalues\n",
    "eigs = np.linalg.eigvals(gene_corrs_df.to_numpy())\n",
    "display(len(eigs[eigs < 0]))\n",
    "display(eigs[eigs < 0])"
   ]
  },
  {
   "cell_type": "code",
   "execution_count": 43,
   "id": "6e218436-c3c5-4028-8c94-a4fa6260efce",
   "metadata": {
    "execution": {
     "iopub.execute_input": "2022-07-22T03:51:32.465178Z",
     "iopub.status.busy": "2022-07-22T03:51:32.465001Z",
     "iopub.status.idle": "2022-07-22T03:51:32.500895Z",
     "shell.execute_reply": "2022-07-22T03:51:32.500518Z"
    },
    "papermill": {
     "duration": 1.188027,
     "end_time": "2022-07-22T03:51:32.501964",
     "exception": false,
     "start_time": "2022-07-22T03:51:31.313937",
     "status": "completed"
    },
    "tags": []
   },
   "outputs": [
    {
     "name": "stdout",
     "output_type": "stream",
     "text": [
      "Works!\n"
     ]
    }
   ],
   "source": [
    "try:\n",
    "    chol_mat = np.linalg.cholesky(gene_corrs_df.to_numpy())\n",
    "    cov_inv = np.linalg.inv(chol_mat)\n",
    "    print(\"Works!\")\n",
    "except:\n",
    "    print(\"Cholesky decomposition failed\")"
   ]
  },
  {
   "cell_type": "markdown",
   "id": "8e60a080-edb2-4e9c-b2ef-22961693200c",
   "metadata": {
    "papermill": {
     "duration": 1.177557,
     "end_time": "2022-07-22T03:51:34.845436",
     "exception": false,
     "start_time": "2022-07-22T03:51:33.667879",
     "status": "completed"
    },
    "tags": []
   },
   "source": [
    "## Plot: distribution"
   ]
  },
  {
   "cell_type": "code",
   "execution_count": 44,
   "id": "8301126b-a7d4-4744-9c7d-f0f86eb6f54c",
   "metadata": {
    "execution": {
     "iopub.execute_input": "2022-07-22T03:51:37.139556Z",
     "iopub.status.busy": "2022-07-22T03:51:37.139375Z",
     "iopub.status.idle": "2022-07-22T03:51:37.494612Z",
     "shell.execute_reply": "2022-07-22T03:51:37.494168Z"
    },
    "papermill": {
     "duration": 1.529353,
     "end_time": "2022-07-22T03:51:37.495767",
     "exception": false,
     "start_time": "2022-07-22T03:51:35.966414",
     "status": "completed"
    },
    "tags": []
   },
   "outputs": [
    {
     "data": {
      "image/png": "[encoded data removed]",
      "text/plain": [
       "<Figure size 504x504 with 1 Axes>"
      ]
     },
     "metadata": {
      "needs_background": "light"
     },
     "output_type": "display_data"
    }
   ],
   "source": [
    "with sns.plotting_context(\"paper\", font_scale=1.5):\n",
    "    g = sns.displot(gene_corrs_flat, kde=True, height=7)\n",
    "    g.ax.set_title(\n",
    "        f\"Distribution of gene correlation values in chromosome {CHROMOSOME}\"\n",
    "    )"
   ]
  },
  {
   "cell_type": "markdown",
   "id": "cbd52bca-d878-4a2f-b684-5c83aa3038d4",
   "metadata": {
    "papermill": {
     "duration": 1.165669,
     "end_time": "2022-07-22T03:51:39.864732",
     "exception": false,
     "start_time": "2022-07-22T03:51:38.699063",
     "status": "completed"
    },
    "tags": []
   },
   "source": [
    "## Plot: heatmap"
   ]
  },
  {
   "cell_type": "code",
   "execution_count": 45,
   "id": "d03fe63a-c7b2-4fb9-a53c-db362ce843c9",
   "metadata": {
    "execution": {
     "iopub.execute_input": "2022-07-22T03:51:42.183215Z",
     "iopub.status.busy": "2022-07-22T03:51:42.182960Z",
     "iopub.status.idle": "2022-07-22T03:51:42.199707Z",
     "shell.execute_reply": "2022-07-22T03:51:42.199245Z"
    },
    "papermill": {
     "duration": 1.214007,
     "end_time": "2022-07-22T03:51:42.200944",
     "exception": false,
     "start_time": "2022-07-22T03:51:40.986937",
     "status": "completed"
    },
    "tags": []
   },
   "outputs": [
    {
     "data": {
      "text/plain": [
       "'0.0 / 0.05'"
      ]
     },
     "metadata": {},
     "output_type": "display_data"
    }
   ],
   "source": [
    "vmin_val = min(0.00, gene_corrs_quantiles[0.10])\n",
    "vmax_val = max(0.05, gene_corrs_quantiles[0.90])\n",
    "display(f\"{vmin_val} / {vmax_val}\")"
   ]
  },
  {
   "cell_type": "code",
   "execution_count": 46,
   "id": "dc41b70b-5bcc-4d9e-9f33-a22c4a94dab5",
   "metadata": {
    "execution": {
     "iopub.execute_input": "2022-07-22T03:51:44.459195Z",
     "iopub.status.busy": "2022-07-22T03:51:44.458955Z",
     "iopub.status.idle": "2022-07-22T03:51:44.652616Z",
     "shell.execute_reply": "2022-07-22T03:51:44.652071Z"
    },
    "papermill": {
     "duration": 1.312454,
     "end_time": "2022-07-22T03:51:44.653919",
     "exception": false,
     "start_time": "2022-07-22T03:51:43.341465",
     "status": "completed"
    },
    "tags": []
   },
   "outputs": [
    {
     "data": {
      "text/plain": [
       "Text(0.5, 1.0, 'Gene correlations in chromosome 4')"
      ]
     },
     "execution_count": 46,
     "metadata": {},
     "output_type": "execute_result"
    },
    {
     "data": {
      "image/png": "[encoded data removed]",
      "text/plain": [
       "<Figure size 720x720 with 2 Axes>"
      ]
     },
     "metadata": {
      "needs_background": "light"
     },
     "output_type": "display_data"
    }
   ],
   "source": [
    "f, ax = plt.subplots(figsize=(10, 10))\n",
    "sns.heatmap(\n",
    "    gene_corrs_df,\n",
    "    xticklabels=False,\n",
    "    yticklabels=False,\n",
    "    square=True,\n",
    "    vmin=vmin_val,\n",
    "    vmax=vmax_val,\n",
    "    cmap=\"rocket_r\",\n",
    "    ax=ax,\n",
    ")\n",
    "ax.set_title(f\"Gene correlations in chromosome {CHROMOSOME}\")"
   ]
  },
  {
   "cell_type": "code",
   "execution_count": null,
   "id": "b25e3ead",
   "metadata": {
    "papermill": {
     "duration": 1.08414,
     "end_time": "2022-07-22T03:51:46.900137",
     "exception": false,
     "start_time": "2022-07-22T03:51:45.815997",
     "status": "completed"
    },
    "tags": []
   },
   "outputs": [],
   "source": []
  }
 ],
 "metadata": {
  "jupytext": {
   "cell_metadata_filter": "all,-execution,-papermill,-trusted",
   "formats": "ipynb,py//py:percent"
  },
  "kernelspec": {
   "display_name": "Python 3 (ipykernel)",
   "language": "python",
   "name": "python3"
  },
  "language_info": {
   "codemirror_mode": {
    "name": "ipython",
    "version": 3
   },
   "file_extension": ".py",
   "mimetype": "text/x-python",
   "name": "python",
   "nbconvert_exporter": "python",
   "pygments_lexer": "ipython3",
   "version": "3.8.13"
  },
  "papermill": {
   "default_parameters": {},
   "duration": 297.29618,
   "end_time": "2022-07-22T03:51:50.686723",
   "environment_variables": {},
   "exception": null,
   "input_path": "nbs/15_gsa_gls/10-gene_expr_correlations.ipynb",
   "output_path": "nbs/15_gsa_gls/gene_corrs/cohorts/1000g_eur/1000g/mashr/10-gene_expr_correlations-chr4.run.ipynb",
   "parameters": {
    "CHROMOSOME": 4,
    "COHORT_NAME": "1000G_EUR",
    "EQTL_MODEL": "MASHR",
    "REFERENCE_PANEL": "1000G"
   },
   "start_time": "2022-07-22T03:46:53.390543",
   "version": "2.2.2"
  }
 },
 "nbformat": 4,
 "nbformat_minor": 5
}
