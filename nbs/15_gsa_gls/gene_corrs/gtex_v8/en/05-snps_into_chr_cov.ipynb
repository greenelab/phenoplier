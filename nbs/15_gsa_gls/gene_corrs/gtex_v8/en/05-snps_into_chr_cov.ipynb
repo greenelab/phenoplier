{
 "cells": [
  {
   "cell_type": "markdown",
   "id": "d88b3ffc",
   "metadata": {
    "papermill": {
     "duration": 0.0325,
     "end_time": "2022-06-10T14:34:51.209513",
     "exception": false,
     "start_time": "2022-06-10T14:34:51.177013",
     "status": "completed"
    },
    "tags": []
   },
   "source": [
    "# Description"
   ]
  },
  {
   "cell_type": "markdown",
   "id": "69f66c44",
   "metadata": {
    "papermill": {
     "duration": 0.009051,
     "end_time": "2022-06-10T14:34:51.232014",
     "exception": false,
     "start_time": "2022-06-10T14:34:51.222963",
     "status": "completed"
    },
    "tags": []
   },
   "source": [
    "(Please, take a look at the README.md file in this directory for instructions on how to run this notebook)\n",
    "\n",
    "This notebook computes the covariance of SNPs for each chr."
   ]
  },
  {
   "cell_type": "markdown",
   "id": "0cb79cbe",
   "metadata": {
    "papermill": {
     "duration": 0.008037,
     "end_time": "2022-06-10T14:34:51.247594",
     "exception": false,
     "start_time": "2022-06-10T14:34:51.239557",
     "status": "completed"
    },
    "tags": []
   },
   "source": [
    "# Modules"
   ]
  },
  {
   "cell_type": "code",
   "execution_count": 1,
   "id": "0a4272be",
   "metadata": {
    "execution": {
     "iopub.execute_input": "2022-06-10T14:34:51.295018Z",
     "iopub.status.busy": "2022-06-10T14:34:51.294791Z",
     "iopub.status.idle": "2022-06-10T14:34:51.329679Z",
     "shell.execute_reply": "2022-06-10T14:34:51.328536Z"
    },
    "papermill": {
     "duration": 0.048974,
     "end_time": "2022-06-10T14:34:51.333177",
     "exception": false,
     "start_time": "2022-06-10T14:34:51.284203",
     "status": "completed"
    },
    "tags": []
   },
   "outputs": [],
   "source": [
    "%load_ext autoreload\n",
    "%autoreload 2"
   ]
  },
  {
   "cell_type": "code",
   "execution_count": 2,
   "id": "4141c781",
   "metadata": {
    "execution": {
     "iopub.execute_input": "2022-06-10T14:34:51.369371Z",
     "iopub.status.busy": "2022-06-10T14:34:51.369164Z",
     "iopub.status.idle": "2022-06-10T14:34:51.988578Z",
     "shell.execute_reply": "2022-06-10T14:34:51.987940Z"
    },
    "papermill": {
     "duration": 0.634973,
     "end_time": "2022-06-10T14:34:51.990134",
     "exception": false,
     "start_time": "2022-06-10T14:34:51.355161",
     "status": "completed"
    },
    "tags": []
   },
   "outputs": [],
   "source": [
    "import gc\n",
    "import sqlite3\n",
    "from pathlib import Path\n",
    "\n",
    "import numpy as np\n",
    "import pandas as pd\n",
    "from tqdm import tqdm\n",
    "\n",
    "import conf\n",
    "from entity import Gene"
   ]
  },
  {
   "cell_type": "markdown",
   "id": "37055abe",
   "metadata": {
    "papermill": {
     "duration": 0.008084,
     "end_time": "2022-06-10T14:34:52.007176",
     "exception": false,
     "start_time": "2022-06-10T14:34:51.999092",
     "status": "completed"
    },
    "tags": []
   },
   "source": [
    "# Settings"
   ]
  },
  {
   "cell_type": "code",
   "execution_count": 3,
   "id": "c264a67f",
   "metadata": {
    "execution": {
     "iopub.execute_input": "2022-06-10T14:34:52.023741Z",
     "iopub.status.busy": "2022-06-10T14:34:52.023554Z",
     "iopub.status.idle": "2022-06-10T14:34:52.034516Z",
     "shell.execute_reply": "2022-06-10T14:34:52.033906Z"
    },
    "papermill": {
     "duration": 0.020756,
     "end_time": "2022-06-10T14:34:52.035869",
     "exception": false,
     "start_time": "2022-06-10T14:34:52.015113",
     "status": "completed"
    },
    "tags": []
   },
   "outputs": [],
   "source": [
    "COV_DTYPE = np.float32"
   ]
  },
  {
   "cell_type": "code",
   "execution_count": 4,
   "id": "ac93914d",
   "metadata": {
    "execution": {
     "iopub.execute_input": "2022-06-10T14:34:52.053535Z",
     "iopub.status.busy": "2022-06-10T14:34:52.053364Z",
     "iopub.status.idle": "2022-06-10T14:34:52.064884Z",
     "shell.execute_reply": "2022-06-10T14:34:52.064375Z"
    },
    "papermill": {
     "duration": 0.021929,
     "end_time": "2022-06-10T14:34:52.066234",
     "exception": false,
     "start_time": "2022-06-10T14:34:52.044305",
     "status": "completed"
    },
    "tags": [
     "parameters"
    ]
   },
   "outputs": [],
   "source": [
    "# reference panel\n",
    "REFERENCE_PANEL = \"GTEX_V8\"\n",
    "# REFERENCE_PANEL = \"1000G\"\n",
    "\n",
    "# prediction models\n",
    "## mashr\n",
    "EQTL_MODEL = \"MASHR\"\n",
    "EQTL_MODEL_FILES_PREFIX = \"mashr_\"\n",
    "\n",
    "# ## elastic net\n",
    "# EQTL_MODEL = \"ELASTIC_NET\"\n",
    "# EQTL_MODEL_FILES_PREFIX = \"en_\"\n",
    "\n",
    "# make it read the prefix from conf.py\n",
    "EQTL_MODEL_FILES_PREFIX = None"
   ]
  },
  {
   "cell_type": "code",
   "execution_count": 5,
   "id": "14824a20",
   "metadata": {
    "execution": {
     "iopub.execute_input": "2022-06-10T14:34:52.083368Z",
     "iopub.status.busy": "2022-06-10T14:34:52.083214Z",
     "iopub.status.idle": "2022-06-10T14:34:52.094408Z",
     "shell.execute_reply": "2022-06-10T14:34:52.093890Z"
    },
    "papermill": {
     "duration": 0.021224,
     "end_time": "2022-06-10T14:34:52.095835",
     "exception": false,
     "start_time": "2022-06-10T14:34:52.074611",
     "status": "completed"
    },
    "tags": [
     "injected-parameters"
    ]
   },
   "outputs": [],
   "source": [
    "# Parameters\n",
    "REFERENCE_PANEL = \"GTEX_V8\"\n",
    "EQTL_MODEL = \"ELASTIC_NET\"\n"
   ]
  },
  {
   "cell_type": "code",
   "execution_count": 6,
   "id": "455c2e55",
   "metadata": {
    "execution": {
     "iopub.execute_input": "2022-06-10T14:34:52.115238Z",
     "iopub.status.busy": "2022-06-10T14:34:52.115050Z",
     "iopub.status.idle": "2022-06-10T14:34:52.126672Z",
     "shell.execute_reply": "2022-06-10T14:34:52.126128Z"
    },
    "papermill": {
     "duration": 0.022844,
     "end_time": "2022-06-10T14:34:52.128157",
     "exception": false,
     "start_time": "2022-06-10T14:34:52.105313",
     "status": "completed"
    },
    "tags": []
   },
   "outputs": [],
   "source": [
    "if EQTL_MODEL_FILES_PREFIX is None:\n",
    "    EQTL_MODEL_FILES_PREFIX = conf.PHENOMEXCAN[\"PREDICTION_MODELS\"][\n",
    "        f\"{EQTL_MODEL}_PREFIX\"\n",
    "    ]"
   ]
  },
  {
   "cell_type": "code",
   "execution_count": 7,
   "id": "ebd7a49b-8062-4c37-b571-efb5c4689adc",
   "metadata": {
    "execution": {
     "iopub.execute_input": "2022-06-10T14:34:52.147213Z",
     "iopub.status.busy": "2022-06-10T14:34:52.147034Z",
     "iopub.status.idle": "2022-06-10T14:34:52.164394Z",
     "shell.execute_reply": "2022-06-10T14:34:52.163837Z"
    },
    "papermill": {
     "duration": 0.028463,
     "end_time": "2022-06-10T14:34:52.165797",
     "exception": false,
     "start_time": "2022-06-10T14:34:52.137334",
     "status": "completed"
    },
    "tags": []
   },
   "outputs": [
    {
     "data": {
      "text/plain": [
       "'Using eQTL model: ELASTIC_NET / en_'"
      ]
     },
     "metadata": {},
     "output_type": "display_data"
    }
   ],
   "source": [
    "display(f\"Using eQTL model: {EQTL_MODEL} / {EQTL_MODEL_FILES_PREFIX}\")"
   ]
  },
  {
   "cell_type": "code",
   "execution_count": 8,
   "id": "32bd0019-14eb-4645-8a7f-98bdcf11e04a",
   "metadata": {
    "execution": {
     "iopub.execute_input": "2022-06-10T14:34:52.184983Z",
     "iopub.status.busy": "2022-06-10T14:34:52.184451Z",
     "iopub.status.idle": "2022-06-10T14:34:52.196045Z",
     "shell.execute_reply": "2022-06-10T14:34:52.195511Z"
    },
    "papermill": {
     "duration": 0.022374,
     "end_time": "2022-06-10T14:34:52.197458",
     "exception": false,
     "start_time": "2022-06-10T14:34:52.175084",
     "status": "completed"
    },
    "tags": []
   },
   "outputs": [],
   "source": [
    "REFERENCE_PANEL_DIR = conf.PHENOMEXCAN[\"LD_BLOCKS\"][f\"{REFERENCE_PANEL}_GENOTYPE_DIR\"]"
   ]
  },
  {
   "cell_type": "code",
   "execution_count": 9,
   "id": "a2ea1be5",
   "metadata": {
    "execution": {
     "iopub.execute_input": "2022-06-10T14:34:52.215614Z",
     "iopub.status.busy": "2022-06-10T14:34:52.215446Z",
     "iopub.status.idle": "2022-06-10T14:34:52.227630Z",
     "shell.execute_reply": "2022-06-10T14:34:52.227011Z"
    },
    "papermill": {
     "duration": 0.022609,
     "end_time": "2022-06-10T14:34:52.228883",
     "exception": false,
     "start_time": "2022-06-10T14:34:52.206274",
     "status": "completed"
    },
    "tags": []
   },
   "outputs": [
    {
     "data": {
      "text/plain": [
       "'Using reference panel folder: /opt/data/data/phenomexcan/ld_blocks/reference_panel_gtex_v8'"
      ]
     },
     "metadata": {},
     "output_type": "display_data"
    }
   ],
   "source": [
    "display(f\"Using reference panel folder: {str(REFERENCE_PANEL_DIR)}\")"
   ]
  },
  {
   "cell_type": "code",
   "execution_count": 10,
   "id": "e9bac058-9add-44c1-897d-09200964448c",
   "metadata": {
    "execution": {
     "iopub.execute_input": "2022-06-10T14:34:52.247604Z",
     "iopub.status.busy": "2022-06-10T14:34:52.247435Z",
     "iopub.status.idle": "2022-06-10T14:34:52.259618Z",
     "shell.execute_reply": "2022-06-10T14:34:52.259128Z"
    },
    "papermill": {
     "duration": 0.023167,
     "end_time": "2022-06-10T14:34:52.261086",
     "exception": false,
     "start_time": "2022-06-10T14:34:52.237919",
     "status": "completed"
    },
    "tags": []
   },
   "outputs": [],
   "source": [
    "OUTPUT_DIR_BASE = (\n",
    "    conf.PHENOMEXCAN[\"LD_BLOCKS\"][f\"GENE_CORRS_DIR\"]\n",
    "    / REFERENCE_PANEL.lower()\n",
    "    / EQTL_MODEL.lower()\n",
    ")\n",
    "OUTPUT_DIR_BASE.mkdir(parents=True, exist_ok=True)"
   ]
  },
  {
   "cell_type": "code",
   "execution_count": 11,
   "id": "09a8d5b0-82d8-4f5d-97f4-6910301cba8b",
   "metadata": {
    "execution": {
     "iopub.execute_input": "2022-06-10T14:34:52.279464Z",
     "iopub.status.busy": "2022-06-10T14:34:52.279305Z",
     "iopub.status.idle": "2022-06-10T14:34:52.291230Z",
     "shell.execute_reply": "2022-06-10T14:34:52.290659Z"
    },
    "papermill": {
     "duration": 0.02254,
     "end_time": "2022-06-10T14:34:52.292617",
     "exception": false,
     "start_time": "2022-06-10T14:34:52.270077",
     "status": "completed"
    },
    "tags": []
   },
   "outputs": [
    {
     "data": {
      "text/plain": [
       "'Using output dir base: /opt/data/data/phenomexcan/ld_blocks/gene_corrs/gtex_v8/elastic_net'"
      ]
     },
     "metadata": {},
     "output_type": "display_data"
    }
   ],
   "source": [
    "display(f\"Using output dir base: {OUTPUT_DIR_BASE}\")"
   ]
  },
  {
   "cell_type": "markdown",
   "id": "37dfafb8",
   "metadata": {
    "papermill": {
     "duration": 0.008586,
     "end_time": "2022-06-10T14:34:52.310035",
     "exception": false,
     "start_time": "2022-06-10T14:34:52.301449",
     "status": "completed"
    },
    "tags": []
   },
   "source": [
    "# Load data"
   ]
  },
  {
   "cell_type": "markdown",
   "id": "c6f55abd",
   "metadata": {
    "papermill": {
     "duration": 0.007913,
     "end_time": "2022-06-10T14:34:52.326628",
     "exception": false,
     "start_time": "2022-06-10T14:34:52.318715",
     "status": "completed"
    },
    "tags": []
   },
   "source": [
    "## Functions"
   ]
  },
  {
   "cell_type": "code",
   "execution_count": 12,
   "id": "5d1731cc-7c43-4dbe-bea5-88a9ecfc58f8",
   "metadata": {
    "execution": {
     "iopub.execute_input": "2022-06-10T14:34:52.343447Z",
     "iopub.status.busy": "2022-06-10T14:34:52.343259Z",
     "iopub.status.idle": "2022-06-10T14:34:52.354873Z",
     "shell.execute_reply": "2022-06-10T14:34:52.354438Z"
    },
    "papermill": {
     "duration": 0.02157,
     "end_time": "2022-06-10T14:34:52.356225",
     "exception": false,
     "start_time": "2022-06-10T14:34:52.334655",
     "status": "completed"
    },
    "tags": []
   },
   "outputs": [],
   "source": [
    "def get_reference_panel_file(directory: Path, file_pattern: str) -> Path:\n",
    "    files = list(directory.glob(f\"*{file_pattern}*.parquet\"))\n",
    "    assert len(files) == 1, f\"More than one file was found: {files}\"\n",
    "    return files[0]"
   ]
  },
  {
   "cell_type": "code",
   "execution_count": 13,
   "id": "5b460090-39d3-40da-a06a-8ccc039e748c",
   "metadata": {
    "execution": {
     "iopub.execute_input": "2022-06-10T14:34:52.373818Z",
     "iopub.status.busy": "2022-06-10T14:34:52.373664Z",
     "iopub.status.idle": "2022-06-10T14:34:52.412197Z",
     "shell.execute_reply": "2022-06-10T14:34:52.411466Z"
    },
    "papermill": {
     "duration": 0.048939,
     "end_time": "2022-06-10T14:34:52.413686",
     "exception": false,
     "start_time": "2022-06-10T14:34:52.364747",
     "status": "completed"
    },
    "tags": []
   },
   "outputs": [],
   "source": [
    "# testing\n",
    "_tmp = get_reference_panel_file(\n",
    "    conf.PHENOMEXCAN[\"LD_BLOCKS\"][\"GTEX_V8_GENOTYPE_DIR\"], \"chr1.variants\"\n",
    ")\n",
    "assert _tmp is not None\n",
    "assert (\n",
    "    _tmp.name\n",
    "    == \"gtex_v8_eur_filtered_maf0.01_monoallelic_variants.chr1.variants.parquet\"\n",
    ")\n",
    "\n",
    "_tmp = get_reference_panel_file(\n",
    "    conf.PHENOMEXCAN[\"LD_BLOCKS\"][\"GTEX_V8_GENOTYPE_DIR\"], \"_metadata\"\n",
    ")\n",
    "assert _tmp is not None\n",
    "assert (\n",
    "    _tmp.name\n",
    "    == \"gtex_v8_eur_filtered_maf0.01_monoallelic_variants.variants_metadata.parquet\"\n",
    ")\n",
    "\n",
    "# 1000G\n",
    "_tmp = get_reference_panel_file(\n",
    "    conf.PHENOMEXCAN[\"LD_BLOCKS\"][\"1000G_GENOTYPE_DIR\"], \"chr1.variants\"\n",
    ")\n",
    "assert _tmp is not None\n",
    "assert _tmp.name == \"chr1.variants.parquet\"\n",
    "\n",
    "_tmp = get_reference_panel_file(\n",
    "    conf.PHENOMEXCAN[\"LD_BLOCKS\"][\"1000G_GENOTYPE_DIR\"], \"_metadata\"\n",
    ")\n",
    "assert _tmp is not None\n",
    "assert _tmp.name == \"variant_metadata.parquet\"\n",
    "\n",
    "# pattern matches more than one file\n",
    "try:\n",
    "    get_reference_panel_file(\n",
    "        conf.PHENOMEXCAN[\"LD_BLOCKS\"][\"1000G_GENOTYPE_DIR\"], \"chr1\"\n",
    "    )\n",
    "    raise AssertionError(\"Exception was not raised\")\n",
    "except AssertionError as e:\n",
    "    assert \"More than one file was found\" in str(e)"
   ]
  },
  {
   "cell_type": "markdown",
   "id": "cd93f57d-ba1b-463c-b5ae-97435954a5de",
   "metadata": {
    "papermill": {
     "duration": 0.008895,
     "end_time": "2022-06-10T14:34:52.431944",
     "exception": false,
     "start_time": "2022-06-10T14:34:52.423049",
     "status": "completed"
    },
    "tags": []
   },
   "source": [
    "## SNPs in predictions models"
   ]
  },
  {
   "cell_type": "code",
   "execution_count": 14,
   "id": "c94c4cbb",
   "metadata": {
    "execution": {
     "iopub.execute_input": "2022-06-10T14:34:52.449380Z",
     "iopub.status.busy": "2022-06-10T14:34:52.449225Z",
     "iopub.status.idle": "2022-06-10T14:34:52.461090Z",
     "shell.execute_reply": "2022-06-10T14:34:52.460531Z"
    },
    "papermill": {
     "duration": 0.02199,
     "end_time": "2022-06-10T14:34:52.462471",
     "exception": false,
     "start_time": "2022-06-10T14:34:52.440481",
     "status": "completed"
    },
    "tags": []
   },
   "outputs": [],
   "source": [
    "mashr_models_db_files = list(\n",
    "    conf.PHENOMEXCAN[\"PREDICTION_MODELS\"][EQTL_MODEL].glob(\"*.db\")\n",
    ")"
   ]
  },
  {
   "cell_type": "code",
   "execution_count": 15,
   "id": "9015c1d7",
   "metadata": {
    "execution": {
     "iopub.execute_input": "2022-06-10T14:34:52.481107Z",
     "iopub.status.busy": "2022-06-10T14:34:52.480925Z",
     "iopub.status.idle": "2022-06-10T14:34:52.491885Z",
     "shell.execute_reply": "2022-06-10T14:34:52.491375Z"
    },
    "papermill": {
     "duration": 0.021833,
     "end_time": "2022-06-10T14:34:52.493210",
     "exception": false,
     "start_time": "2022-06-10T14:34:52.471377",
     "status": "completed"
    },
    "tags": []
   },
   "outputs": [],
   "source": [
    "assert len(mashr_models_db_files) == 49"
   ]
  },
  {
   "cell_type": "code",
   "execution_count": 16,
   "id": "d5a28a46",
   "metadata": {
    "execution": {
     "iopub.execute_input": "2022-06-10T14:34:52.511369Z",
     "iopub.status.busy": "2022-06-10T14:34:52.511197Z",
     "iopub.status.idle": "2022-06-10T14:35:05.756342Z",
     "shell.execute_reply": "2022-06-10T14:35:05.755741Z"
    },
    "papermill": {
     "duration": 13.256163,
     "end_time": "2022-06-10T14:35:05.758043",
     "exception": false,
     "start_time": "2022-06-10T14:34:52.501880",
     "status": "completed"
    },
    "tags": []
   },
   "outputs": [
    {
     "name": "stdout",
     "output_type": "stream",
     "text": [
      "Processing en_Vagina.db\n",
      "Processing en_Colon_Sigmoid.db\n",
      "Processing en_Brain_Caudate_basal_ganglia.db\n",
      "Processing en_Stomach.db\n",
      "Processing en_Skin_Not_Sun_Exposed_Suprapubic.db\n",
      "Processing en_Artery_Tibial.db\n",
      "Processing en_Brain_Hippocampus.db\n",
      "Processing en_Esophagus_Gastroesophageal_Junction.db\n",
      "Processing en_Esophagus_Muscularis.db\n",
      "Processing en_Cells_Cultured_fibroblasts.db\n",
      "Processing en_Brain_Nucleus_accumbens_basal_ganglia.db\n",
      "Processing en_Brain_Frontal_Cortex_BA9.db\n",
      "Processing en_Brain_Hypothalamus.db\n",
      "Processing en_Breast_Mammary_Tissue.db\n",
      "Processing en_Colon_Transverse.db\n",
      "Processing en_Lung.db\n",
      "Processing en_Esophagus_Mucosa.db\n",
      "Processing en_Brain_Cerebellum.db\n",
      "Processing en_Brain_Putamen_basal_ganglia.db\n",
      "Processing en_Heart_Atrial_Appendage.db\n",
      "Processing en_Heart_Left_Ventricle.db\n",
      "Processing en_Brain_Anterior_cingulate_cortex_BA24.db\n",
      "Processing en_Nerve_Tibial.db\n",
      "Processing en_Prostate.db\n",
      "Processing en_Adrenal_Gland.db\n",
      "Processing en_Minor_Salivary_Gland.db\n",
      "Processing en_Testis.db\n",
      "Processing en_Whole_Blood.db\n",
      "Processing en_Thyroid.db\n",
      "Processing en_Liver.db\n",
      "Processing en_Pancreas.db\n",
      "Processing en_Kidney_Cortex.db\n",
      "Processing en_Small_Intestine_Terminal_Ileum.db\n",
      "Processing en_Artery_Coronary.db\n",
      "Processing en_Brain_Cerebellar_Hemisphere.db\n",
      "Processing en_Cells_EBV-transformed_lymphocytes.db\n",
      "Processing en_Brain_Spinal_cord_cervical_c-1.db\n",
      "Processing en_Adipose_Visceral_Omentum.db\n",
      "Processing en_Brain_Amygdala.db\n",
      "Processing en_Adipose_Subcutaneous.db\n",
      "Processing en_Spleen.db\n",
      "Processing en_Muscle_Skeletal.db\n",
      "Processing en_Skin_Sun_Exposed_Lower_leg.db\n",
      "Processing en_Brain_Substantia_nigra.db\n",
      "Processing en_Artery_Aorta.db\n",
      "Processing en_Ovary.db\n",
      "Processing en_Pituitary.db\n",
      "Processing en_Uterus.db\n",
      "Processing en_Brain_Cortex.db\n"
     ]
    }
   ],
   "source": [
    "all_variants_ids = []\n",
    "\n",
    "for m in mashr_models_db_files:\n",
    "    print(f\"Processing {m.name}\")\n",
    "    tissue = m.name.split(EQTL_MODEL_FILES_PREFIX)[1].split(\".db\")[0]\n",
    "\n",
    "    with sqlite3.connect(m) as conn:\n",
    "        df = pd.read_sql(\"select gene, varID from weights\", conn)\n",
    "        df[\"gene\"] = df[\"gene\"].apply(lambda x: x.split(\".\")[0])\n",
    "        df = df.assign(tissue=tissue)\n",
    "\n",
    "        all_variants_ids.append(df)"
   ]
  },
  {
   "cell_type": "code",
   "execution_count": 17,
   "id": "986feda1",
   "metadata": {
    "execution": {
     "iopub.execute_input": "2022-06-10T14:35:05.782925Z",
     "iopub.status.busy": "2022-06-10T14:35:05.782428Z",
     "iopub.status.idle": "2022-06-10T14:35:06.975492Z",
     "shell.execute_reply": "2022-06-10T14:35:06.974911Z"
    },
    "papermill": {
     "duration": 1.206908,
     "end_time": "2022-06-10T14:35:06.977105",
     "exception": false,
     "start_time": "2022-06-10T14:35:05.770197",
     "status": "completed"
    },
    "tags": []
   },
   "outputs": [],
   "source": [
    "all_gene_snps = pd.concat(all_variants_ids, ignore_index=True)"
   ]
  },
  {
   "cell_type": "code",
   "execution_count": 18,
   "id": "cdbb12ef",
   "metadata": {
    "execution": {
     "iopub.execute_input": "2022-06-10T14:35:07.001228Z",
     "iopub.status.busy": "2022-06-10T14:35:07.001038Z",
     "iopub.status.idle": "2022-06-10T14:35:07.014621Z",
     "shell.execute_reply": "2022-06-10T14:35:07.013992Z"
    },
    "papermill": {
     "duration": 0.027402,
     "end_time": "2022-06-10T14:35:07.016154",
     "exception": false,
     "start_time": "2022-06-10T14:35:06.988752",
     "status": "completed"
    },
    "tags": []
   },
   "outputs": [
    {
     "data": {
      "text/plain": [
       "(8558894, 3)"
      ]
     },
     "execution_count": 18,
     "metadata": {},
     "output_type": "execute_result"
    }
   ],
   "source": [
    "all_gene_snps.shape"
   ]
  },
  {
   "cell_type": "code",
   "execution_count": 19,
   "id": "c5300203",
   "metadata": {
    "execution": {
     "iopub.execute_input": "2022-06-10T14:35:07.040085Z",
     "iopub.status.busy": "2022-06-10T14:35:07.039915Z",
     "iopub.status.idle": "2022-06-10T14:35:07.056299Z",
     "shell.execute_reply": "2022-06-10T14:35:07.055697Z"
    },
    "papermill": {
     "duration": 0.029623,
     "end_time": "2022-06-10T14:35:07.057629",
     "exception": false,
     "start_time": "2022-06-10T14:35:07.028006",
     "status": "completed"
    },
    "tags": []
   },
   "outputs": [
    {
     "data": {
      "text/html": [
       "<div>\n",
       "<style scoped>\n",
       "    .dataframe tbody tr th:only-of-type {\n",
       "        vertical-align: middle;\n",
       "    }\n",
       "\n",
       "    .dataframe tbody tr th {\n",
       "        vertical-align: top;\n",
       "    }\n",
       "\n",
       "    .dataframe thead th {\n",
       "        text-align: right;\n",
       "    }\n",
       "</style>\n",
       "<table border=\"1\" class=\"dataframe\">\n",
       "  <thead>\n",
       "    <tr style=\"text-align: right;\">\n",
       "      <th></th>\n",
       "      <th>gene</th>\n",
       "      <th>varID</th>\n",
       "      <th>tissue</th>\n",
       "    </tr>\n",
       "  </thead>\n",
       "  <tbody>\n",
       "    <tr>\n",
       "      <th>0</th>\n",
       "      <td>ENSG00000272983</td>\n",
       "      <td>chr10_37251057_C_T_b38</td>\n",
       "      <td>Vagina</td>\n",
       "    </tr>\n",
       "    <tr>\n",
       "      <th>1</th>\n",
       "      <td>ENSG00000272983</td>\n",
       "      <td>chr10_37307461_G_T_b38</td>\n",
       "      <td>Vagina</td>\n",
       "    </tr>\n",
       "    <tr>\n",
       "      <th>2</th>\n",
       "      <td>ENSG00000272983</td>\n",
       "      <td>chr10_37535769_T_C_b38</td>\n",
       "      <td>Vagina</td>\n",
       "    </tr>\n",
       "    <tr>\n",
       "      <th>3</th>\n",
       "      <td>ENSG00000272983</td>\n",
       "      <td>chr10_37537564_T_C_b38</td>\n",
       "      <td>Vagina</td>\n",
       "    </tr>\n",
       "    <tr>\n",
       "      <th>4</th>\n",
       "      <td>ENSG00000272983</td>\n",
       "      <td>chr10_37544467_T_C_b38</td>\n",
       "      <td>Vagina</td>\n",
       "    </tr>\n",
       "  </tbody>\n",
       "</table>\n",
       "</div>"
      ],
      "text/plain": [
       "              gene                   varID  tissue\n",
       "0  ENSG00000272983  chr10_37251057_C_T_b38  Vagina\n",
       "1  ENSG00000272983  chr10_37307461_G_T_b38  Vagina\n",
       "2  ENSG00000272983  chr10_37535769_T_C_b38  Vagina\n",
       "3  ENSG00000272983  chr10_37537564_T_C_b38  Vagina\n",
       "4  ENSG00000272983  chr10_37544467_T_C_b38  Vagina"
      ]
     },
     "execution_count": 19,
     "metadata": {},
     "output_type": "execute_result"
    }
   ],
   "source": [
    "all_gene_snps.head()"
   ]
  },
  {
   "cell_type": "code",
   "execution_count": 20,
   "id": "e5a2d4be",
   "metadata": {
    "execution": {
     "iopub.execute_input": "2022-06-10T14:35:07.079911Z",
     "iopub.status.busy": "2022-06-10T14:35:07.079738Z",
     "iopub.status.idle": "2022-06-10T14:35:10.503897Z",
     "shell.execute_reply": "2022-06-10T14:35:10.503133Z"
    },
    "papermill": {
     "duration": 3.43749,
     "end_time": "2022-06-10T14:35:10.505933",
     "exception": false,
     "start_time": "2022-06-10T14:35:07.068443",
     "status": "completed"
    },
    "tags": []
   },
   "outputs": [],
   "source": [
    "all_snps_in_models = set(all_gene_snps[\"varID\"].unique())"
   ]
  },
  {
   "cell_type": "markdown",
   "id": "e2cfb3d9",
   "metadata": {
    "papermill": {
     "duration": 0.012292,
     "end_time": "2022-06-10T14:35:10.532487",
     "exception": false,
     "start_time": "2022-06-10T14:35:10.520195",
     "status": "completed"
    },
    "tags": []
   },
   "source": [
    "## MultiPLIER Z"
   ]
  },
  {
   "cell_type": "code",
   "execution_count": 21,
   "id": "0e901bf8",
   "metadata": {
    "execution": {
     "iopub.execute_input": "2022-06-10T14:35:10.556999Z",
     "iopub.status.busy": "2022-06-10T14:35:10.556815Z",
     "iopub.status.idle": "2022-06-10T14:35:10.880749Z",
     "shell.execute_reply": "2022-06-10T14:35:10.880154Z"
    },
    "papermill": {
     "duration": 0.337876,
     "end_time": "2022-06-10T14:35:10.882237",
     "exception": false,
     "start_time": "2022-06-10T14:35:10.544361",
     "status": "completed"
    },
    "tags": []
   },
   "outputs": [],
   "source": [
    "multiplier_z = pd.read_pickle(conf.MULTIPLIER[\"MODEL_Z_MATRIX_FILE\"])"
   ]
  },
  {
   "cell_type": "code",
   "execution_count": 22,
   "id": "55da6f21",
   "metadata": {
    "execution": {
     "iopub.execute_input": "2022-06-10T14:35:10.904275Z",
     "iopub.status.busy": "2022-06-10T14:35:10.904113Z",
     "iopub.status.idle": "2022-06-10T14:35:10.916258Z",
     "shell.execute_reply": "2022-06-10T14:35:10.915716Z"
    },
    "papermill": {
     "duration": 0.024618,
     "end_time": "2022-06-10T14:35:10.917628",
     "exception": false,
     "start_time": "2022-06-10T14:35:10.893010",
     "status": "completed"
    },
    "tags": []
   },
   "outputs": [
    {
     "data": {
      "text/plain": [
       "(6750, 987)"
      ]
     },
     "execution_count": 22,
     "metadata": {},
     "output_type": "execute_result"
    }
   ],
   "source": [
    "multiplier_z.shape"
   ]
  },
  {
   "cell_type": "code",
   "execution_count": 23,
   "id": "5efd6fc7",
   "metadata": {
    "execution": {
     "iopub.execute_input": "2022-06-10T14:35:10.939585Z",
     "iopub.status.busy": "2022-06-10T14:35:10.939415Z",
     "iopub.status.idle": "2022-06-10T14:35:11.058424Z",
     "shell.execute_reply": "2022-06-10T14:35:11.057804Z"
    },
    "papermill": {
     "duration": 0.131768,
     "end_time": "2022-06-10T14:35:11.060021",
     "exception": false,
     "start_time": "2022-06-10T14:35:10.928253",
     "status": "completed"
    },
    "tags": []
   },
   "outputs": [
    {
     "data": {
      "text/html": [
       "<div>\n",
       "<style scoped>\n",
       "    .dataframe tbody tr th:only-of-type {\n",
       "        vertical-align: middle;\n",
       "    }\n",
       "\n",
       "    .dataframe tbody tr th {\n",
       "        vertical-align: top;\n",
       "    }\n",
       "\n",
       "    .dataframe thead th {\n",
       "        text-align: right;\n",
       "    }\n",
       "</style>\n",
       "<table border=\"1\" class=\"dataframe\">\n",
       "  <thead>\n",
       "    <tr style=\"text-align: right;\">\n",
       "      <th></th>\n",
       "      <th>LV1</th>\n",
       "      <th>LV2</th>\n",
       "      <th>LV3</th>\n",
       "      <th>LV4</th>\n",
       "      <th>LV5</th>\n",
       "      <th>LV6</th>\n",
       "      <th>LV7</th>\n",
       "      <th>LV8</th>\n",
       "      <th>LV9</th>\n",
       "      <th>LV10</th>\n",
       "      <th>...</th>\n",
       "      <th>LV978</th>\n",
       "      <th>LV979</th>\n",
       "      <th>LV980</th>\n",
       "      <th>LV981</th>\n",
       "      <th>LV982</th>\n",
       "      <th>LV983</th>\n",
       "      <th>LV984</th>\n",
       "      <th>LV985</th>\n",
       "      <th>LV986</th>\n",
       "      <th>LV987</th>\n",
       "    </tr>\n",
       "  </thead>\n",
       "  <tbody>\n",
       "    <tr>\n",
       "      <th>GAS6</th>\n",
       "      <td>0.000000</td>\n",
       "      <td>0.0</td>\n",
       "      <td>0.039438</td>\n",
       "      <td>0.0</td>\n",
       "      <td>0.050476</td>\n",
       "      <td>0.000000</td>\n",
       "      <td>0.0</td>\n",
       "      <td>0.000000</td>\n",
       "      <td>0.590949</td>\n",
       "      <td>0.000000</td>\n",
       "      <td>...</td>\n",
       "      <td>0.050125</td>\n",
       "      <td>0.00000</td>\n",
       "      <td>0.033407</td>\n",
       "      <td>0.000000</td>\n",
       "      <td>0.000000</td>\n",
       "      <td>0.005963</td>\n",
       "      <td>0.347362</td>\n",
       "      <td>0.0</td>\n",
       "      <td>0.000000</td>\n",
       "      <td>0.000000</td>\n",
       "    </tr>\n",
       "    <tr>\n",
       "      <th>MMP14</th>\n",
       "      <td>0.000000</td>\n",
       "      <td>0.0</td>\n",
       "      <td>0.000000</td>\n",
       "      <td>0.0</td>\n",
       "      <td>0.070072</td>\n",
       "      <td>0.000000</td>\n",
       "      <td>0.0</td>\n",
       "      <td>0.004904</td>\n",
       "      <td>1.720179</td>\n",
       "      <td>2.423595</td>\n",
       "      <td>...</td>\n",
       "      <td>0.000000</td>\n",
       "      <td>0.00000</td>\n",
       "      <td>0.001007</td>\n",
       "      <td>0.000000</td>\n",
       "      <td>0.035747</td>\n",
       "      <td>0.000000</td>\n",
       "      <td>0.000000</td>\n",
       "      <td>0.0</td>\n",
       "      <td>0.014978</td>\n",
       "      <td>0.000000</td>\n",
       "    </tr>\n",
       "    <tr>\n",
       "      <th>DSP</th>\n",
       "      <td>0.000000</td>\n",
       "      <td>0.0</td>\n",
       "      <td>0.000000</td>\n",
       "      <td>0.0</td>\n",
       "      <td>0.000000</td>\n",
       "      <td>0.041697</td>\n",
       "      <td>0.0</td>\n",
       "      <td>0.005718</td>\n",
       "      <td>0.000000</td>\n",
       "      <td>0.000000</td>\n",
       "      <td>...</td>\n",
       "      <td>0.020853</td>\n",
       "      <td>0.00000</td>\n",
       "      <td>0.000000</td>\n",
       "      <td>0.000000</td>\n",
       "      <td>0.000000</td>\n",
       "      <td>0.005774</td>\n",
       "      <td>0.000000</td>\n",
       "      <td>0.0</td>\n",
       "      <td>0.000000</td>\n",
       "      <td>0.416405</td>\n",
       "    </tr>\n",
       "    <tr>\n",
       "      <th>MARCKSL1</th>\n",
       "      <td>0.305212</td>\n",
       "      <td>0.0</td>\n",
       "      <td>0.000000</td>\n",
       "      <td>0.0</td>\n",
       "      <td>0.000000</td>\n",
       "      <td>0.000000</td>\n",
       "      <td>0.0</td>\n",
       "      <td>0.000000</td>\n",
       "      <td>0.161843</td>\n",
       "      <td>0.149471</td>\n",
       "      <td>...</td>\n",
       "      <td>0.027134</td>\n",
       "      <td>0.05272</td>\n",
       "      <td>0.000000</td>\n",
       "      <td>0.030189</td>\n",
       "      <td>0.060884</td>\n",
       "      <td>0.000000</td>\n",
       "      <td>0.000000</td>\n",
       "      <td>0.0</td>\n",
       "      <td>0.000000</td>\n",
       "      <td>0.448480</td>\n",
       "    </tr>\n",
       "    <tr>\n",
       "      <th>SPARC</th>\n",
       "      <td>0.000000</td>\n",
       "      <td>0.0</td>\n",
       "      <td>0.000000</td>\n",
       "      <td>0.0</td>\n",
       "      <td>0.000000</td>\n",
       "      <td>0.000000</td>\n",
       "      <td>0.0</td>\n",
       "      <td>0.000000</td>\n",
       "      <td>0.000000</td>\n",
       "      <td>0.014014</td>\n",
       "      <td>...</td>\n",
       "      <td>0.000000</td>\n",
       "      <td>0.00000</td>\n",
       "      <td>0.000000</td>\n",
       "      <td>0.000000</td>\n",
       "      <td>0.000000</td>\n",
       "      <td>0.000000</td>\n",
       "      <td>0.067779</td>\n",
       "      <td>0.0</td>\n",
       "      <td>0.122417</td>\n",
       "      <td>0.062665</td>\n",
       "    </tr>\n",
       "  </tbody>\n",
       "</table>\n",
       "<p>5 rows × 987 columns</p>\n",
       "</div>"
      ],
      "text/plain": [
       "               LV1  LV2       LV3  LV4       LV5       LV6  LV7       LV8  \\\n",
       "GAS6      0.000000  0.0  0.039438  0.0  0.050476  0.000000  0.0  0.000000   \n",
       "MMP14     0.000000  0.0  0.000000  0.0  0.070072  0.000000  0.0  0.004904   \n",
       "DSP       0.000000  0.0  0.000000  0.0  0.000000  0.041697  0.0  0.005718   \n",
       "MARCKSL1  0.305212  0.0  0.000000  0.0  0.000000  0.000000  0.0  0.000000   \n",
       "SPARC     0.000000  0.0  0.000000  0.0  0.000000  0.000000  0.0  0.000000   \n",
       "\n",
       "               LV9      LV10  ...     LV978    LV979     LV980     LV981  \\\n",
       "GAS6      0.590949  0.000000  ...  0.050125  0.00000  0.033407  0.000000   \n",
       "MMP14     1.720179  2.423595  ...  0.000000  0.00000  0.001007  0.000000   \n",
       "DSP       0.000000  0.000000  ...  0.020853  0.00000  0.000000  0.000000   \n",
       "MARCKSL1  0.161843  0.149471  ...  0.027134  0.05272  0.000000  0.030189   \n",
       "SPARC     0.000000  0.014014  ...  0.000000  0.00000  0.000000  0.000000   \n",
       "\n",
       "             LV982     LV983     LV984  LV985     LV986     LV987  \n",
       "GAS6      0.000000  0.005963  0.347362    0.0  0.000000  0.000000  \n",
       "MMP14     0.035747  0.000000  0.000000    0.0  0.014978  0.000000  \n",
       "DSP       0.000000  0.005774  0.000000    0.0  0.000000  0.416405  \n",
       "MARCKSL1  0.060884  0.000000  0.000000    0.0  0.000000  0.448480  \n",
       "SPARC     0.000000  0.000000  0.067779    0.0  0.122417  0.062665  \n",
       "\n",
       "[5 rows x 987 columns]"
      ]
     },
     "execution_count": 23,
     "metadata": {},
     "output_type": "execute_result"
    }
   ],
   "source": [
    "multiplier_z.head()"
   ]
  },
  {
   "cell_type": "markdown",
   "id": "c2109617",
   "metadata": {
    "papermill": {
     "duration": 0.012331,
     "end_time": "2022-06-10T14:35:11.085231",
     "exception": false,
     "start_time": "2022-06-10T14:35:11.072900",
     "status": "completed"
    },
    "tags": []
   },
   "source": [
    "## Reference panel variants metadata"
   ]
  },
  {
   "cell_type": "code",
   "execution_count": 24,
   "id": "f69e80b2",
   "metadata": {
    "execution": {
     "iopub.execute_input": "2022-06-10T14:35:11.109800Z",
     "iopub.status.busy": "2022-06-10T14:35:11.109628Z",
     "iopub.status.idle": "2022-06-10T14:35:11.122441Z",
     "shell.execute_reply": "2022-06-10T14:35:11.121928Z"
    },
    "papermill": {
     "duration": 0.026302,
     "end_time": "2022-06-10T14:35:11.123856",
     "exception": false,
     "start_time": "2022-06-10T14:35:11.097554",
     "status": "completed"
    },
    "tags": []
   },
   "outputs": [
    {
     "data": {
      "text/plain": [
       "PosixPath('/opt/data/data/phenomexcan/ld_blocks/reference_panel_gtex_v8/gtex_v8_eur_filtered_maf0.01_monoallelic_variants.variants_metadata.parquet')"
      ]
     },
     "metadata": {},
     "output_type": "display_data"
    }
   ],
   "source": [
    "input_file = get_reference_panel_file(REFERENCE_PANEL_DIR, \"_metadata\")\n",
    "display(input_file)"
   ]
  },
  {
   "cell_type": "code",
   "execution_count": 25,
   "id": "41e34ee0",
   "metadata": {
    "execution": {
     "iopub.execute_input": "2022-06-10T14:35:11.147895Z",
     "iopub.status.busy": "2022-06-10T14:35:11.147718Z",
     "iopub.status.idle": "2022-06-10T14:35:15.930535Z",
     "shell.execute_reply": "2022-06-10T14:35:15.929771Z"
    },
    "papermill": {
     "duration": 4.796592,
     "end_time": "2022-06-10T14:35:15.932099",
     "exception": false,
     "start_time": "2022-06-10T14:35:11.135507",
     "status": "completed"
    },
    "tags": []
   },
   "outputs": [],
   "source": [
    "variants_metadata = pd.read_parquet(input_file, columns=[\"id\"])"
   ]
  },
  {
   "cell_type": "code",
   "execution_count": 26,
   "id": "81410760",
   "metadata": {
    "execution": {
     "iopub.execute_input": "2022-06-10T14:35:15.956717Z",
     "iopub.status.busy": "2022-06-10T14:35:15.956543Z",
     "iopub.status.idle": "2022-06-10T14:35:15.971655Z",
     "shell.execute_reply": "2022-06-10T14:35:15.971117Z"
    },
    "papermill": {
     "duration": 0.028434,
     "end_time": "2022-06-10T14:35:15.973007",
     "exception": false,
     "start_time": "2022-06-10T14:35:15.944573",
     "status": "completed"
    },
    "tags": []
   },
   "outputs": [
    {
     "data": {
      "text/plain": [
       "(8880842, 1)"
      ]
     },
     "execution_count": 26,
     "metadata": {},
     "output_type": "execute_result"
    }
   ],
   "source": [
    "variants_metadata.shape"
   ]
  },
  {
   "cell_type": "code",
   "execution_count": 27,
   "id": "1d008de7",
   "metadata": {
    "execution": {
     "iopub.execute_input": "2022-06-10T14:35:15.996277Z",
     "iopub.status.busy": "2022-06-10T14:35:15.996113Z",
     "iopub.status.idle": "2022-06-10T14:35:16.012624Z",
     "shell.execute_reply": "2022-06-10T14:35:16.012039Z"
    },
    "papermill": {
     "duration": 0.02967,
     "end_time": "2022-06-10T14:35:16.014081",
     "exception": false,
     "start_time": "2022-06-10T14:35:15.984411",
     "status": "completed"
    },
    "tags": []
   },
   "outputs": [
    {
     "data": {
      "text/html": [
       "<div>\n",
       "<style scoped>\n",
       "    .dataframe tbody tr th:only-of-type {\n",
       "        vertical-align: middle;\n",
       "    }\n",
       "\n",
       "    .dataframe tbody tr th {\n",
       "        vertical-align: top;\n",
       "    }\n",
       "\n",
       "    .dataframe thead th {\n",
       "        text-align: right;\n",
       "    }\n",
       "</style>\n",
       "<table border=\"1\" class=\"dataframe\">\n",
       "  <thead>\n",
       "    <tr style=\"text-align: right;\">\n",
       "      <th></th>\n",
       "      <th>id</th>\n",
       "    </tr>\n",
       "  </thead>\n",
       "  <tbody>\n",
       "    <tr>\n",
       "      <th>0</th>\n",
       "      <td>chr1_13550_G_A_b38</td>\n",
       "    </tr>\n",
       "    <tr>\n",
       "      <th>1</th>\n",
       "      <td>chr1_14671_G_C_b38</td>\n",
       "    </tr>\n",
       "    <tr>\n",
       "      <th>2</th>\n",
       "      <td>chr1_14677_G_A_b38</td>\n",
       "    </tr>\n",
       "    <tr>\n",
       "      <th>3</th>\n",
       "      <td>chr1_14933_G_A_b38</td>\n",
       "    </tr>\n",
       "    <tr>\n",
       "      <th>4</th>\n",
       "      <td>chr1_16841_G_T_b38</td>\n",
       "    </tr>\n",
       "  </tbody>\n",
       "</table>\n",
       "</div>"
      ],
      "text/plain": [
       "                   id\n",
       "0  chr1_13550_G_A_b38\n",
       "1  chr1_14671_G_C_b38\n",
       "2  chr1_14677_G_A_b38\n",
       "3  chr1_14933_G_A_b38\n",
       "4  chr1_16841_G_T_b38"
      ]
     },
     "execution_count": 27,
     "metadata": {},
     "output_type": "execute_result"
    }
   ],
   "source": [
    "variants_metadata.head()"
   ]
  },
  {
   "cell_type": "code",
   "execution_count": 28,
   "id": "45bd2164",
   "metadata": {
    "execution": {
     "iopub.execute_input": "2022-06-10T14:35:16.037239Z",
     "iopub.status.busy": "2022-06-10T14:35:16.037080Z",
     "iopub.status.idle": "2022-06-10T14:35:18.471569Z",
     "shell.execute_reply": "2022-06-10T14:35:18.470923Z"
    },
    "papermill": {
     "duration": 2.447536,
     "end_time": "2022-06-10T14:35:18.473212",
     "exception": false,
     "start_time": "2022-06-10T14:35:16.025676",
     "status": "completed"
    },
    "tags": []
   },
   "outputs": [],
   "source": [
    "variants_ids_with_genotype = set(variants_metadata[\"id\"])"
   ]
  },
  {
   "cell_type": "code",
   "execution_count": 29,
   "id": "8f2937d7",
   "metadata": {
    "execution": {
     "iopub.execute_input": "2022-06-10T14:35:18.499638Z",
     "iopub.status.busy": "2022-06-10T14:35:18.499454Z",
     "iopub.status.idle": "2022-06-10T14:35:18.515421Z",
     "shell.execute_reply": "2022-06-10T14:35:18.514811Z"
    },
    "papermill": {
     "duration": 0.030772,
     "end_time": "2022-06-10T14:35:18.516836",
     "exception": false,
     "start_time": "2022-06-10T14:35:18.486064",
     "status": "completed"
    },
    "tags": []
   },
   "outputs": [
    {
     "data": {
      "text/plain": [
       "8880842"
      ]
     },
     "execution_count": 29,
     "metadata": {},
     "output_type": "execute_result"
    }
   ],
   "source": [
    "len(variants_ids_with_genotype)"
   ]
  },
  {
   "cell_type": "code",
   "execution_count": 30,
   "id": "6b160cc3",
   "metadata": {
    "execution": {
     "iopub.execute_input": "2022-06-10T14:35:18.541367Z",
     "iopub.status.busy": "2022-06-10T14:35:18.541200Z",
     "iopub.status.idle": "2022-06-10T14:35:19.225263Z",
     "shell.execute_reply": "2022-06-10T14:35:19.224186Z"
    },
    "papermill": {
     "duration": 0.698899,
     "end_time": "2022-06-10T14:35:19.228226",
     "exception": false,
     "start_time": "2022-06-10T14:35:18.529327",
     "status": "completed"
    },
    "tags": []
   },
   "outputs": [
    {
     "data": {
      "text/plain": [
       "['chr5_23730990_A_T_b38',\n",
       " 'chr2_230563662_T_C_b38',\n",
       " 'chr5_124951706_C_T_b38',\n",
       " 'chr3_191464512_G_A_b38',\n",
       " 'chr5_6936248_C_T_b38',\n",
       " 'chr5_133597437_T_C_b38',\n",
       " 'chr5_153503821_A_C_b38',\n",
       " 'chr7_31296335_C_A_b38',\n",
       " 'chr2_41777897_C_T_b38',\n",
       " 'chr7_34234636_G_A_b38']"
      ]
     },
     "execution_count": 30,
     "metadata": {},
     "output_type": "execute_result"
    }
   ],
   "source": [
    "list(variants_ids_with_genotype)[:10]"
   ]
  },
  {
   "cell_type": "code",
   "execution_count": 31,
   "id": "0a38a43c",
   "metadata": {
    "execution": {
     "iopub.execute_input": "2022-06-10T14:35:19.261845Z",
     "iopub.status.busy": "2022-06-10T14:35:19.261640Z",
     "iopub.status.idle": "2022-06-10T14:35:19.277359Z",
     "shell.execute_reply": "2022-06-10T14:35:19.276765Z"
    },
    "papermill": {
     "duration": 0.031864,
     "end_time": "2022-06-10T14:35:19.278916",
     "exception": false,
     "start_time": "2022-06-10T14:35:19.247052",
     "status": "completed"
    },
    "tags": []
   },
   "outputs": [],
   "source": [
    "del variants_metadata"
   ]
  },
  {
   "cell_type": "markdown",
   "id": "4b7ca4c8",
   "metadata": {
    "papermill": {
     "duration": 0.01238,
     "end_time": "2022-06-10T14:35:19.304782",
     "exception": false,
     "start_time": "2022-06-10T14:35:19.292402",
     "status": "completed"
    },
    "tags": []
   },
   "source": [
    "# How many variants in predictions models are present in the reference panel?"
   ]
  },
  {
   "cell_type": "code",
   "execution_count": 32,
   "id": "4e323c11",
   "metadata": {
    "execution": {
     "iopub.execute_input": "2022-06-10T14:35:19.327767Z",
     "iopub.status.busy": "2022-06-10T14:35:19.327593Z",
     "iopub.status.idle": "2022-06-10T14:35:19.341735Z",
     "shell.execute_reply": "2022-06-10T14:35:19.341215Z"
    },
    "papermill": {
     "duration": 0.026789,
     "end_time": "2022-06-10T14:35:19.343017",
     "exception": false,
     "start_time": "2022-06-10T14:35:19.316228",
     "status": "completed"
    },
    "tags": []
   },
   "outputs": [
    {
     "data": {
      "text/plain": [
       "1657598"
      ]
     },
     "metadata": {},
     "output_type": "display_data"
    }
   ],
   "source": [
    "n_snps_in_models = len(all_snps_in_models)\n",
    "display(n_snps_in_models)"
   ]
  },
  {
   "cell_type": "code",
   "execution_count": 33,
   "id": "a9ecb68e",
   "metadata": {
    "execution": {
     "iopub.execute_input": "2022-06-10T14:35:19.366802Z",
     "iopub.status.busy": "2022-06-10T14:35:19.366634Z",
     "iopub.status.idle": "2022-06-10T14:35:19.787644Z",
     "shell.execute_reply": "2022-06-10T14:35:19.786889Z"
    },
    "papermill": {
     "duration": 0.434819,
     "end_time": "2022-06-10T14:35:19.789411",
     "exception": false,
     "start_time": "2022-06-10T14:35:19.354592",
     "status": "completed"
    },
    "tags": []
   },
   "outputs": [
    {
     "data": {
      "text/plain": [
       "1657598"
      ]
     },
     "metadata": {},
     "output_type": "display_data"
    }
   ],
   "source": [
    "n_snps_in_ref_panel = len(all_snps_in_models.intersection(variants_ids_with_genotype))\n",
    "display(n_snps_in_ref_panel)"
   ]
  },
  {
   "cell_type": "code",
   "execution_count": 34,
   "id": "5f2f5991",
   "metadata": {
    "execution": {
     "iopub.execute_input": "2022-06-10T14:35:19.818694Z",
     "iopub.status.busy": "2022-06-10T14:35:19.818502Z",
     "iopub.status.idle": "2022-06-10T14:35:19.835136Z",
     "shell.execute_reply": "2022-06-10T14:35:19.834540Z"
    },
    "papermill": {
     "duration": 0.032509,
     "end_time": "2022-06-10T14:35:19.836590",
     "exception": false,
     "start_time": "2022-06-10T14:35:19.804081",
     "status": "completed"
    },
    "tags": []
   },
   "outputs": [
    {
     "data": {
      "text/plain": [
       "1.0"
      ]
     },
     "execution_count": 34,
     "metadata": {},
     "output_type": "execute_result"
    }
   ],
   "source": [
    "n_snps_in_ref_panel / n_snps_in_models"
   ]
  },
  {
   "cell_type": "markdown",
   "id": "a9a0d07c",
   "metadata": {
    "papermill": {
     "duration": 0.011826,
     "end_time": "2022-06-10T14:35:19.861585",
     "exception": false,
     "start_time": "2022-06-10T14:35:19.849759",
     "status": "completed"
    },
    "tags": []
   },
   "source": [
    "# Get final list of genes in MultiPLIER"
   ]
  },
  {
   "cell_type": "code",
   "execution_count": 35,
   "id": "e9801fec",
   "metadata": {
    "execution": {
     "iopub.execute_input": "2022-06-10T14:35:19.884616Z",
     "iopub.status.busy": "2022-06-10T14:35:19.884423Z",
     "iopub.status.idle": "2022-06-10T14:35:19.903175Z",
     "shell.execute_reply": "2022-06-10T14:35:19.902633Z"
    },
    "papermill": {
     "duration": 0.031733,
     "end_time": "2022-06-10T14:35:19.904569",
     "exception": false,
     "start_time": "2022-06-10T14:35:19.872836",
     "status": "completed"
    },
    "tags": []
   },
   "outputs": [],
   "source": [
    "genes_in_z = [\n",
    "    Gene(name=gene_name).ensembl_id\n",
    "    for gene_name in multiplier_z.index\n",
    "    if gene_name in Gene.GENE_NAME_TO_ID_MAP\n",
    "]"
   ]
  },
  {
   "cell_type": "code",
   "execution_count": 36,
   "id": "4cde8776",
   "metadata": {
    "execution": {
     "iopub.execute_input": "2022-06-10T14:35:19.928186Z",
     "iopub.status.busy": "2022-06-10T14:35:19.928020Z",
     "iopub.status.idle": "2022-06-10T14:35:19.942219Z",
     "shell.execute_reply": "2022-06-10T14:35:19.941677Z"
    },
    "papermill": {
     "duration": 0.027374,
     "end_time": "2022-06-10T14:35:19.943425",
     "exception": false,
     "start_time": "2022-06-10T14:35:19.916051",
     "status": "completed"
    },
    "tags": []
   },
   "outputs": [
    {
     "data": {
      "text/plain": [
       "6454"
      ]
     },
     "execution_count": 36,
     "metadata": {},
     "output_type": "execute_result"
    }
   ],
   "source": [
    "len(genes_in_z)"
   ]
  },
  {
   "cell_type": "code",
   "execution_count": 37,
   "id": "577cf614",
   "metadata": {
    "execution": {
     "iopub.execute_input": "2022-06-10T14:35:19.967256Z",
     "iopub.status.busy": "2022-06-10T14:35:19.966700Z",
     "iopub.status.idle": "2022-06-10T14:35:19.981901Z",
     "shell.execute_reply": "2022-06-10T14:35:19.981371Z"
    },
    "papermill": {
     "duration": 0.028136,
     "end_time": "2022-06-10T14:35:19.983192",
     "exception": false,
     "start_time": "2022-06-10T14:35:19.955056",
     "status": "completed"
    },
    "tags": []
   },
   "outputs": [
    {
     "data": {
      "text/plain": [
       "['ENSG00000183087',\n",
       " 'ENSG00000157227',\n",
       " 'ENSG00000096696',\n",
       " 'ENSG00000175130',\n",
       " 'ENSG00000113140']"
      ]
     },
     "execution_count": 37,
     "metadata": {},
     "output_type": "execute_result"
    }
   ],
   "source": [
    "genes_in_z[:5]"
   ]
  },
  {
   "cell_type": "code",
   "execution_count": 38,
   "id": "3136fc66",
   "metadata": {
    "execution": {
     "iopub.execute_input": "2022-06-10T14:35:20.007058Z",
     "iopub.status.busy": "2022-06-10T14:35:20.006852Z",
     "iopub.status.idle": "2022-06-10T14:35:20.021402Z",
     "shell.execute_reply": "2022-06-10T14:35:20.020930Z"
    },
    "papermill": {
     "duration": 0.028001,
     "end_time": "2022-06-10T14:35:20.022784",
     "exception": false,
     "start_time": "2022-06-10T14:35:19.994783",
     "status": "completed"
    },
    "tags": []
   },
   "outputs": [],
   "source": [
    "genes_in_z = set(genes_in_z)"
   ]
  },
  {
   "cell_type": "code",
   "execution_count": 39,
   "id": "0f1cace8",
   "metadata": {
    "execution": {
     "iopub.execute_input": "2022-06-10T14:35:20.047212Z",
     "iopub.status.busy": "2022-06-10T14:35:20.047046Z",
     "iopub.status.idle": "2022-06-10T14:35:20.061363Z",
     "shell.execute_reply": "2022-06-10T14:35:20.060849Z"
    },
    "papermill": {
     "duration": 0.027647,
     "end_time": "2022-06-10T14:35:20.062582",
     "exception": false,
     "start_time": "2022-06-10T14:35:20.034935",
     "status": "completed"
    },
    "tags": []
   },
   "outputs": [
    {
     "data": {
      "text/plain": [
       "6454"
      ]
     },
     "execution_count": 39,
     "metadata": {},
     "output_type": "execute_result"
    }
   ],
   "source": [
    "len(genes_in_z)"
   ]
  },
  {
   "cell_type": "code",
   "execution_count": 40,
   "id": "b9dc4d3e",
   "metadata": {
    "execution": {
     "iopub.execute_input": "2022-06-10T14:35:20.086919Z",
     "iopub.status.busy": "2022-06-10T14:35:20.086504Z",
     "iopub.status.idle": "2022-06-10T14:35:20.716681Z",
     "shell.execute_reply": "2022-06-10T14:35:20.715986Z"
    },
    "papermill": {
     "duration": 0.643956,
     "end_time": "2022-06-10T14:35:20.718176",
     "exception": false,
     "start_time": "2022-06-10T14:35:20.074220",
     "status": "completed"
    },
    "tags": []
   },
   "outputs": [
    {
     "data": {
      "text/plain": [
       "(8558894, 3)"
      ]
     },
     "metadata": {},
     "output_type": "display_data"
    },
    {
     "data": {
      "text/plain": [
       "(2826818, 3)"
      ]
     },
     "metadata": {},
     "output_type": "display_data"
    }
   ],
   "source": [
    "# keep genes in MultiPLIER only\n",
    "display(all_gene_snps.shape)\n",
    "\n",
    "all_gene_snps = all_gene_snps[all_gene_snps[\"gene\"].isin(genes_in_z)]\n",
    "\n",
    "display(all_gene_snps.shape)"
   ]
  },
  {
   "cell_type": "markdown",
   "id": "69e77b6e",
   "metadata": {
    "papermill": {
     "duration": 0.013207,
     "end_time": "2022-06-10T14:35:20.745410",
     "exception": false,
     "start_time": "2022-06-10T14:35:20.732203",
     "status": "completed"
    },
    "tags": []
   },
   "source": [
    "# (For MultiPLIER genes): How many variants in predictions models are present in the reference panel?"
   ]
  },
  {
   "cell_type": "code",
   "execution_count": 41,
   "id": "c8a3405c",
   "metadata": {
    "execution": {
     "iopub.execute_input": "2022-06-10T14:35:20.769495Z",
     "iopub.status.busy": "2022-06-10T14:35:20.769332Z",
     "iopub.status.idle": "2022-06-10T14:35:21.578789Z",
     "shell.execute_reply": "2022-06-10T14:35:21.578091Z"
    },
    "papermill": {
     "duration": 0.822775,
     "end_time": "2022-06-10T14:35:21.580228",
     "exception": false,
     "start_time": "2022-06-10T14:35:20.757453",
     "status": "completed"
    },
    "tags": []
   },
   "outputs": [
    {
     "data": {
      "text/plain": [
       "949171"
      ]
     },
     "metadata": {},
     "output_type": "display_data"
    }
   ],
   "source": [
    "all_snps_in_models_multiplier = set(all_gene_snps[\"varID\"])\n",
    "\n",
    "n_snps_in_models = len(all_snps_in_models_multiplier)\n",
    "display(n_snps_in_models)"
   ]
  },
  {
   "cell_type": "code",
   "execution_count": 42,
   "id": "a118deab",
   "metadata": {
    "execution": {
     "iopub.execute_input": "2022-06-10T14:35:21.609568Z",
     "iopub.status.busy": "2022-06-10T14:35:21.609351Z",
     "iopub.status.idle": "2022-06-10T14:35:21.850264Z",
     "shell.execute_reply": "2022-06-10T14:35:21.849625Z"
    },
    "papermill": {
     "duration": 0.257537,
     "end_time": "2022-06-10T14:35:21.852225",
     "exception": false,
     "start_time": "2022-06-10T14:35:21.594688",
     "status": "completed"
    },
    "tags": []
   },
   "outputs": [
    {
     "data": {
      "text/plain": [
       "949171"
      ]
     },
     "metadata": {},
     "output_type": "display_data"
    }
   ],
   "source": [
    "n_snps_in_ref_panel = len(\n",
    "    all_snps_in_models_multiplier.intersection(variants_ids_with_genotype)\n",
    ")\n",
    "display(n_snps_in_ref_panel)"
   ]
  },
  {
   "cell_type": "code",
   "execution_count": 43,
   "id": "cb5b96f3",
   "metadata": {
    "execution": {
     "iopub.execute_input": "2022-06-10T14:35:21.883376Z",
     "iopub.status.busy": "2022-06-10T14:35:21.883190Z",
     "iopub.status.idle": "2022-06-10T14:35:21.899640Z",
     "shell.execute_reply": "2022-06-10T14:35:21.898925Z"
    },
    "papermill": {
     "duration": 0.032959,
     "end_time": "2022-06-10T14:35:21.901074",
     "exception": false,
     "start_time": "2022-06-10T14:35:21.868115",
     "status": "completed"
    },
    "tags": []
   },
   "outputs": [
    {
     "data": {
      "text/plain": [
       "1.0"
      ]
     },
     "execution_count": 43,
     "metadata": {},
     "output_type": "execute_result"
    }
   ],
   "source": [
    "n_snps_in_ref_panel / n_snps_in_models"
   ]
  },
  {
   "cell_type": "markdown",
   "id": "dbabf1c1",
   "metadata": {
    "papermill": {
     "duration": 0.013919,
     "end_time": "2022-06-10T14:35:21.929201",
     "exception": false,
     "start_time": "2022-06-10T14:35:21.915282",
     "status": "completed"
    },
    "tags": []
   },
   "source": [
    "## Preprocess SNPs data"
   ]
  },
  {
   "cell_type": "code",
   "execution_count": 44,
   "id": "19838f0a",
   "metadata": {
    "execution": {
     "iopub.execute_input": "2022-06-10T14:35:21.953372Z",
     "iopub.status.busy": "2022-06-10T14:35:21.953176Z",
     "iopub.status.idle": "2022-06-10T14:35:23.062200Z",
     "shell.execute_reply": "2022-06-10T14:35:23.061254Z"
    },
    "papermill": {
     "duration": 1.123371,
     "end_time": "2022-06-10T14:35:23.064453",
     "exception": false,
     "start_time": "2022-06-10T14:35:21.941082",
     "status": "completed"
    },
    "tags": []
   },
   "outputs": [],
   "source": [
    "variants_ld_block_df = all_gene_snps[[\"varID\"]].drop_duplicates()"
   ]
  },
  {
   "cell_type": "code",
   "execution_count": 45,
   "id": "d015b20d",
   "metadata": {
    "execution": {
     "iopub.execute_input": "2022-06-10T14:35:23.097474Z",
     "iopub.status.busy": "2022-06-10T14:35:23.097285Z",
     "iopub.status.idle": "2022-06-10T14:35:23.113789Z",
     "shell.execute_reply": "2022-06-10T14:35:23.113194Z"
    },
    "papermill": {
     "duration": 0.033372,
     "end_time": "2022-06-10T14:35:23.115185",
     "exception": false,
     "start_time": "2022-06-10T14:35:23.081813",
     "status": "completed"
    },
    "tags": []
   },
   "outputs": [
    {
     "data": {
      "text/plain": [
       "(949171, 1)"
      ]
     },
     "execution_count": 45,
     "metadata": {},
     "output_type": "execute_result"
    }
   ],
   "source": [
    "variants_ld_block_df.shape"
   ]
  },
  {
   "cell_type": "code",
   "execution_count": 46,
   "id": "ed4a5faa",
   "metadata": {
    "execution": {
     "iopub.execute_input": "2022-06-10T14:35:23.143320Z",
     "iopub.status.busy": "2022-06-10T14:35:23.143152Z",
     "iopub.status.idle": "2022-06-10T14:35:23.159951Z",
     "shell.execute_reply": "2022-06-10T14:35:23.159387Z"
    },
    "papermill": {
     "duration": 0.031884,
     "end_time": "2022-06-10T14:35:23.161259",
     "exception": false,
     "start_time": "2022-06-10T14:35:23.129375",
     "status": "completed"
    },
    "tags": []
   },
   "outputs": [
    {
     "data": {
      "text/html": [
       "<div>\n",
       "<style scoped>\n",
       "    .dataframe tbody tr th:only-of-type {\n",
       "        vertical-align: middle;\n",
       "    }\n",
       "\n",
       "    .dataframe tbody tr th {\n",
       "        vertical-align: top;\n",
       "    }\n",
       "\n",
       "    .dataframe thead th {\n",
       "        text-align: right;\n",
       "    }\n",
       "</style>\n",
       "<table border=\"1\" class=\"dataframe\">\n",
       "  <thead>\n",
       "    <tr style=\"text-align: right;\">\n",
       "      <th></th>\n",
       "      <th>varID</th>\n",
       "    </tr>\n",
       "  </thead>\n",
       "  <tbody>\n",
       "    <tr>\n",
       "      <th>58</th>\n",
       "      <td>chr10_42564881_C_T_b38</td>\n",
       "    </tr>\n",
       "    <tr>\n",
       "      <th>59</th>\n",
       "      <td>chr10_42567504_T_C_b38</td>\n",
       "    </tr>\n",
       "    <tr>\n",
       "      <th>60</th>\n",
       "      <td>chr10_42568462_G_T_b38</td>\n",
       "    </tr>\n",
       "    <tr>\n",
       "      <th>61</th>\n",
       "      <td>chr10_42569289_A_G_b38</td>\n",
       "    </tr>\n",
       "    <tr>\n",
       "      <th>62</th>\n",
       "      <td>chr10_42570991_C_T_b38</td>\n",
       "    </tr>\n",
       "  </tbody>\n",
       "</table>\n",
       "</div>"
      ],
      "text/plain": [
       "                     varID\n",
       "58  chr10_42564881_C_T_b38\n",
       "59  chr10_42567504_T_C_b38\n",
       "60  chr10_42568462_G_T_b38\n",
       "61  chr10_42569289_A_G_b38\n",
       "62  chr10_42570991_C_T_b38"
      ]
     },
     "execution_count": 46,
     "metadata": {},
     "output_type": "execute_result"
    }
   ],
   "source": [
    "variants_ld_block_df.head()"
   ]
  },
  {
   "cell_type": "code",
   "execution_count": 47,
   "id": "3557d870",
   "metadata": {
    "execution": {
     "iopub.execute_input": "2022-06-10T14:35:23.186805Z",
     "iopub.status.busy": "2022-06-10T14:35:23.186594Z",
     "iopub.status.idle": "2022-06-10T14:35:31.176008Z",
     "shell.execute_reply": "2022-06-10T14:35:31.175406Z"
    },
    "papermill": {
     "duration": 8.003598,
     "end_time": "2022-06-10T14:35:31.177676",
     "exception": false,
     "start_time": "2022-06-10T14:35:23.174078",
     "status": "completed"
    },
    "tags": []
   },
   "outputs": [],
   "source": [
    "variants_info = variants_ld_block_df[\"varID\"].str.split(\"_\", expand=True)"
   ]
  },
  {
   "cell_type": "code",
   "execution_count": 48,
   "id": "bd49aa4c",
   "metadata": {
    "execution": {
     "iopub.execute_input": "2022-06-10T14:35:31.207732Z",
     "iopub.status.busy": "2022-06-10T14:35:31.207547Z",
     "iopub.status.idle": "2022-06-10T14:35:31.223448Z",
     "shell.execute_reply": "2022-06-10T14:35:31.222884Z"
    },
    "papermill": {
     "duration": 0.032376,
     "end_time": "2022-06-10T14:35:31.224832",
     "exception": false,
     "start_time": "2022-06-10T14:35:31.192456",
     "status": "completed"
    },
    "tags": []
   },
   "outputs": [
    {
     "data": {
      "text/plain": [
       "(949171, 5)"
      ]
     },
     "execution_count": 48,
     "metadata": {},
     "output_type": "execute_result"
    }
   ],
   "source": [
    "variants_info.shape"
   ]
  },
  {
   "cell_type": "code",
   "execution_count": 49,
   "id": "7e2b7606",
   "metadata": {
    "execution": {
     "iopub.execute_input": "2022-06-10T14:35:31.251842Z",
     "iopub.status.busy": "2022-06-10T14:35:31.251680Z",
     "iopub.status.idle": "2022-06-10T14:35:31.266197Z",
     "shell.execute_reply": "2022-06-10T14:35:31.265597Z"
    },
    "papermill": {
     "duration": 0.029154,
     "end_time": "2022-06-10T14:35:31.267442",
     "exception": false,
     "start_time": "2022-06-10T14:35:31.238288",
     "status": "completed"
    },
    "tags": []
   },
   "outputs": [],
   "source": [
    "assert variants_ld_block_df.shape[0] == variants_info.shape[0]"
   ]
  },
  {
   "cell_type": "code",
   "execution_count": 50,
   "id": "048abd7f",
   "metadata": {
    "execution": {
     "iopub.execute_input": "2022-06-10T14:35:31.293937Z",
     "iopub.status.busy": "2022-06-10T14:35:31.293781Z",
     "iopub.status.idle": "2022-06-10T14:35:31.962081Z",
     "shell.execute_reply": "2022-06-10T14:35:31.961200Z"
    },
    "papermill": {
     "duration": 0.683389,
     "end_time": "2022-06-10T14:35:31.964335",
     "exception": false,
     "start_time": "2022-06-10T14:35:31.280946",
     "status": "completed"
    },
    "tags": []
   },
   "outputs": [],
   "source": [
    "variants_ld_block_df = variants_ld_block_df.join(variants_info)[[\"varID\", 0, 1, 2, 3]]"
   ]
  },
  {
   "cell_type": "code",
   "execution_count": 51,
   "id": "5bfb6a7a",
   "metadata": {
    "execution": {
     "iopub.execute_input": "2022-06-10T14:35:31.998018Z",
     "iopub.status.busy": "2022-06-10T14:35:31.997357Z",
     "iopub.status.idle": "2022-06-10T14:35:32.013113Z",
     "shell.execute_reply": "2022-06-10T14:35:32.012478Z"
    },
    "papermill": {
     "duration": 0.032981,
     "end_time": "2022-06-10T14:35:32.014652",
     "exception": false,
     "start_time": "2022-06-10T14:35:31.981671",
     "status": "completed"
    },
    "tags": []
   },
   "outputs": [],
   "source": [
    "assert variants_ld_block_df.shape[0] == variants_info.shape[0]"
   ]
  },
  {
   "cell_type": "code",
   "execution_count": 52,
   "id": "4d8cf1da",
   "metadata": {
    "execution": {
     "iopub.execute_input": "2022-06-10T14:35:32.043275Z",
     "iopub.status.busy": "2022-06-10T14:35:32.043113Z",
     "iopub.status.idle": "2022-06-10T14:35:32.061828Z",
     "shell.execute_reply": "2022-06-10T14:35:32.061244Z"
    },
    "papermill": {
     "duration": 0.033971,
     "end_time": "2022-06-10T14:35:32.063134",
     "exception": false,
     "start_time": "2022-06-10T14:35:32.029163",
     "status": "completed"
    },
    "tags": []
   },
   "outputs": [
    {
     "data": {
      "text/html": [
       "<div>\n",
       "<style scoped>\n",
       "    .dataframe tbody tr th:only-of-type {\n",
       "        vertical-align: middle;\n",
       "    }\n",
       "\n",
       "    .dataframe tbody tr th {\n",
       "        vertical-align: top;\n",
       "    }\n",
       "\n",
       "    .dataframe thead th {\n",
       "        text-align: right;\n",
       "    }\n",
       "</style>\n",
       "<table border=\"1\" class=\"dataframe\">\n",
       "  <thead>\n",
       "    <tr style=\"text-align: right;\">\n",
       "      <th></th>\n",
       "      <th>varID</th>\n",
       "      <th>0</th>\n",
       "      <th>1</th>\n",
       "      <th>2</th>\n",
       "      <th>3</th>\n",
       "    </tr>\n",
       "  </thead>\n",
       "  <tbody>\n",
       "    <tr>\n",
       "      <th>58</th>\n",
       "      <td>chr10_42564881_C_T_b38</td>\n",
       "      <td>chr10</td>\n",
       "      <td>42564881</td>\n",
       "      <td>C</td>\n",
       "      <td>T</td>\n",
       "    </tr>\n",
       "    <tr>\n",
       "      <th>59</th>\n",
       "      <td>chr10_42567504_T_C_b38</td>\n",
       "      <td>chr10</td>\n",
       "      <td>42567504</td>\n",
       "      <td>T</td>\n",
       "      <td>C</td>\n",
       "    </tr>\n",
       "    <tr>\n",
       "      <th>60</th>\n",
       "      <td>chr10_42568462_G_T_b38</td>\n",
       "      <td>chr10</td>\n",
       "      <td>42568462</td>\n",
       "      <td>G</td>\n",
       "      <td>T</td>\n",
       "    </tr>\n",
       "    <tr>\n",
       "      <th>61</th>\n",
       "      <td>chr10_42569289_A_G_b38</td>\n",
       "      <td>chr10</td>\n",
       "      <td>42569289</td>\n",
       "      <td>A</td>\n",
       "      <td>G</td>\n",
       "    </tr>\n",
       "    <tr>\n",
       "      <th>62</th>\n",
       "      <td>chr10_42570991_C_T_b38</td>\n",
       "      <td>chr10</td>\n",
       "      <td>42570991</td>\n",
       "      <td>C</td>\n",
       "      <td>T</td>\n",
       "    </tr>\n",
       "  </tbody>\n",
       "</table>\n",
       "</div>"
      ],
      "text/plain": [
       "                     varID      0         1  2  3\n",
       "58  chr10_42564881_C_T_b38  chr10  42564881  C  T\n",
       "59  chr10_42567504_T_C_b38  chr10  42567504  T  C\n",
       "60  chr10_42568462_G_T_b38  chr10  42568462  G  T\n",
       "61  chr10_42569289_A_G_b38  chr10  42569289  A  G\n",
       "62  chr10_42570991_C_T_b38  chr10  42570991  C  T"
      ]
     },
     "execution_count": 52,
     "metadata": {},
     "output_type": "execute_result"
    }
   ],
   "source": [
    "variants_ld_block_df.head()"
   ]
  },
  {
   "cell_type": "code",
   "execution_count": 53,
   "id": "47448229",
   "metadata": {
    "execution": {
     "iopub.execute_input": "2022-06-10T14:35:32.089111Z",
     "iopub.status.busy": "2022-06-10T14:35:32.088444Z",
     "iopub.status.idle": "2022-06-10T14:35:32.164048Z",
     "shell.execute_reply": "2022-06-10T14:35:32.163365Z"
    },
    "papermill": {
     "duration": 0.089865,
     "end_time": "2022-06-10T14:35:32.165624",
     "exception": false,
     "start_time": "2022-06-10T14:35:32.075759",
     "status": "completed"
    },
    "tags": []
   },
   "outputs": [],
   "source": [
    "variants_ld_block_df = variants_ld_block_df.rename(\n",
    "    columns={\n",
    "        0: \"chr\",\n",
    "        1: \"position\",\n",
    "        2: \"ref_allele\",\n",
    "        3: \"eff_allele\",\n",
    "    }\n",
    ")"
   ]
  },
  {
   "cell_type": "code",
   "execution_count": 54,
   "id": "3beadcf8",
   "metadata": {
    "execution": {
     "iopub.execute_input": "2022-06-10T14:35:32.196017Z",
     "iopub.status.busy": "2022-06-10T14:35:32.195837Z",
     "iopub.status.idle": "2022-06-10T14:35:32.750146Z",
     "shell.execute_reply": "2022-06-10T14:35:32.749337Z"
    },
    "papermill": {
     "duration": 0.571495,
     "end_time": "2022-06-10T14:35:32.752090",
     "exception": false,
     "start_time": "2022-06-10T14:35:32.180595",
     "status": "completed"
    },
    "tags": []
   },
   "outputs": [],
   "source": [
    "variants_ld_block_df[\"chr\"] = variants_ld_block_df[\"chr\"].apply(lambda x: int(x[3:]))"
   ]
  },
  {
   "cell_type": "code",
   "execution_count": 55,
   "id": "b18c25c1",
   "metadata": {
    "execution": {
     "iopub.execute_input": "2022-06-10T14:35:32.784835Z",
     "iopub.status.busy": "2022-06-10T14:35:32.784644Z",
     "iopub.status.idle": "2022-06-10T14:35:32.919329Z",
     "shell.execute_reply": "2022-06-10T14:35:32.918624Z"
    },
    "papermill": {
     "duration": 0.152765,
     "end_time": "2022-06-10T14:35:32.921337",
     "exception": false,
     "start_time": "2022-06-10T14:35:32.768572",
     "status": "completed"
    },
    "tags": []
   },
   "outputs": [],
   "source": [
    "variants_ld_block_df[\"position\"] = variants_ld_block_df[\"position\"].astype(int)"
   ]
  },
  {
   "cell_type": "code",
   "execution_count": 56,
   "id": "13af12ae",
   "metadata": {
    "execution": {
     "iopub.execute_input": "2022-06-10T14:35:32.954215Z",
     "iopub.status.busy": "2022-06-10T14:35:32.954018Z",
     "iopub.status.idle": "2022-06-10T14:35:32.970588Z",
     "shell.execute_reply": "2022-06-10T14:35:32.970002Z"
    },
    "papermill": {
     "duration": 0.034307,
     "end_time": "2022-06-10T14:35:32.972001",
     "exception": false,
     "start_time": "2022-06-10T14:35:32.937694",
     "status": "completed"
    },
    "tags": []
   },
   "outputs": [
    {
     "data": {
      "text/plain": [
       "(949171, 5)"
      ]
     },
     "execution_count": 56,
     "metadata": {},
     "output_type": "execute_result"
    }
   ],
   "source": [
    "variants_ld_block_df.shape"
   ]
  },
  {
   "cell_type": "code",
   "execution_count": 57,
   "id": "431d8602",
   "metadata": {
    "execution": {
     "iopub.execute_input": "2022-06-10T14:35:33.001366Z",
     "iopub.status.busy": "2022-06-10T14:35:33.000980Z",
     "iopub.status.idle": "2022-06-10T14:35:33.018550Z",
     "shell.execute_reply": "2022-06-10T14:35:33.018100Z"
    },
    "papermill": {
     "duration": 0.032751,
     "end_time": "2022-06-10T14:35:33.019835",
     "exception": false,
     "start_time": "2022-06-10T14:35:32.987084",
     "status": "completed"
    },
    "tags": []
   },
   "outputs": [
    {
     "data": {
      "text/html": [
       "<div>\n",
       "<style scoped>\n",
       "    .dataframe tbody tr th:only-of-type {\n",
       "        vertical-align: middle;\n",
       "    }\n",
       "\n",
       "    .dataframe tbody tr th {\n",
       "        vertical-align: top;\n",
       "    }\n",
       "\n",
       "    .dataframe thead th {\n",
       "        text-align: right;\n",
       "    }\n",
       "</style>\n",
       "<table border=\"1\" class=\"dataframe\">\n",
       "  <thead>\n",
       "    <tr style=\"text-align: right;\">\n",
       "      <th></th>\n",
       "      <th>varID</th>\n",
       "      <th>chr</th>\n",
       "      <th>position</th>\n",
       "      <th>ref_allele</th>\n",
       "      <th>eff_allele</th>\n",
       "    </tr>\n",
       "  </thead>\n",
       "  <tbody>\n",
       "    <tr>\n",
       "      <th>58</th>\n",
       "      <td>chr10_42564881_C_T_b38</td>\n",
       "      <td>10</td>\n",
       "      <td>42564881</td>\n",
       "      <td>C</td>\n",
       "      <td>T</td>\n",
       "    </tr>\n",
       "    <tr>\n",
       "      <th>59</th>\n",
       "      <td>chr10_42567504_T_C_b38</td>\n",
       "      <td>10</td>\n",
       "      <td>42567504</td>\n",
       "      <td>T</td>\n",
       "      <td>C</td>\n",
       "    </tr>\n",
       "    <tr>\n",
       "      <th>60</th>\n",
       "      <td>chr10_42568462_G_T_b38</td>\n",
       "      <td>10</td>\n",
       "      <td>42568462</td>\n",
       "      <td>G</td>\n",
       "      <td>T</td>\n",
       "    </tr>\n",
       "    <tr>\n",
       "      <th>61</th>\n",
       "      <td>chr10_42569289_A_G_b38</td>\n",
       "      <td>10</td>\n",
       "      <td>42569289</td>\n",
       "      <td>A</td>\n",
       "      <td>G</td>\n",
       "    </tr>\n",
       "    <tr>\n",
       "      <th>62</th>\n",
       "      <td>chr10_42570991_C_T_b38</td>\n",
       "      <td>10</td>\n",
       "      <td>42570991</td>\n",
       "      <td>C</td>\n",
       "      <td>T</td>\n",
       "    </tr>\n",
       "  </tbody>\n",
       "</table>\n",
       "</div>"
      ],
      "text/plain": [
       "                     varID  chr  position ref_allele eff_allele\n",
       "58  chr10_42564881_C_T_b38   10  42564881          C          T\n",
       "59  chr10_42567504_T_C_b38   10  42567504          T          C\n",
       "60  chr10_42568462_G_T_b38   10  42568462          G          T\n",
       "61  chr10_42569289_A_G_b38   10  42569289          A          G\n",
       "62  chr10_42570991_C_T_b38   10  42570991          C          T"
      ]
     },
     "execution_count": 57,
     "metadata": {},
     "output_type": "execute_result"
    }
   ],
   "source": [
    "variants_ld_block_df.head()"
   ]
  },
  {
   "cell_type": "code",
   "execution_count": 58,
   "id": "35fc8e6d",
   "metadata": {
    "execution": {
     "iopub.execute_input": "2022-06-10T14:35:33.046505Z",
     "iopub.status.busy": "2022-06-10T14:35:33.045872Z",
     "iopub.status.idle": "2022-06-10T14:35:33.061140Z",
     "shell.execute_reply": "2022-06-10T14:35:33.060637Z"
    },
    "papermill": {
     "duration": 0.029727,
     "end_time": "2022-06-10T14:35:33.062567",
     "exception": false,
     "start_time": "2022-06-10T14:35:33.032840",
     "status": "completed"
    },
    "tags": []
   },
   "outputs": [
    {
     "data": {
      "text/plain": [
       "varID         object\n",
       "chr            int64\n",
       "position       int64\n",
       "ref_allele    object\n",
       "eff_allele    object\n",
       "dtype: object"
      ]
     },
     "execution_count": 58,
     "metadata": {},
     "output_type": "execute_result"
    }
   ],
   "source": [
    "variants_ld_block_df.dtypes"
   ]
  },
  {
   "cell_type": "markdown",
   "id": "ec84177c",
   "metadata": {
    "papermill": {
     "duration": 0.01238,
     "end_time": "2022-06-10T14:35:33.087415",
     "exception": false,
     "start_time": "2022-06-10T14:35:33.075035",
     "status": "completed"
    },
    "tags": []
   },
   "source": [
    "# Covariance for each chromosome block"
   ]
  },
  {
   "cell_type": "markdown",
   "id": "d43e1890",
   "metadata": {
    "papermill": {
     "duration": 0.012312,
     "end_time": "2022-06-10T14:35:33.112094",
     "exception": false,
     "start_time": "2022-06-10T14:35:33.099782",
     "status": "completed"
    },
    "tags": []
   },
   "source": [
    "## Functions"
   ]
  },
  {
   "cell_type": "code",
   "execution_count": 59,
   "id": "394c6b4d",
   "metadata": {
    "execution": {
     "iopub.execute_input": "2022-06-10T14:35:33.137368Z",
     "iopub.status.busy": "2022-06-10T14:35:33.137175Z",
     "iopub.status.idle": "2022-06-10T14:35:33.151369Z",
     "shell.execute_reply": "2022-06-10T14:35:33.150877Z"
    },
    "papermill": {
     "duration": 0.02845,
     "end_time": "2022-06-10T14:35:33.152678",
     "exception": false,
     "start_time": "2022-06-10T14:35:33.124228",
     "status": "completed"
    },
    "tags": []
   },
   "outputs": [],
   "source": [
    "def covariance(df, dtype):\n",
    "    n = df.shape[0]\n",
    "    df = df.sub(df.mean(), axis=1).astype(dtype)\n",
    "    return df.T.dot(df) / (n - 1)"
   ]
  },
  {
   "cell_type": "code",
   "execution_count": 60,
   "id": "ed702fd0",
   "metadata": {
    "execution": {
     "iopub.execute_input": "2022-06-10T14:35:33.178546Z",
     "iopub.status.busy": "2022-06-10T14:35:33.178389Z",
     "iopub.status.idle": "2022-06-10T14:35:33.231712Z",
     "shell.execute_reply": "2022-06-10T14:35:33.231117Z"
    },
    "papermill": {
     "duration": 0.067707,
     "end_time": "2022-06-10T14:35:33.233073",
     "exception": false,
     "start_time": "2022-06-10T14:35:33.165366",
     "status": "completed"
    },
    "tags": []
   },
   "outputs": [],
   "source": [
    "# testing\n",
    "rs = np.random.RandomState(0)\n",
    "\n",
    "_test_data = pd.DataFrame(rs.normal(size=(50, 5)), columns=[f\"c{i}\" for i in range(5)])\n",
    "\n",
    "# float64\n",
    "pd.testing.assert_frame_equal(\n",
    "    covariance(_test_data, np.float64),\n",
    "    _test_data.cov(),\n",
    "    rtol=1e-10,\n",
    "    atol=1e-10,\n",
    "    check_dtype=True,\n",
    ")\n",
    "\n",
    "# float32\n",
    "pd.testing.assert_frame_equal(\n",
    "    covariance(_test_data, np.float32),\n",
    "    _test_data.cov(),\n",
    "    rtol=1e-5,\n",
    "    atol=1e-8,\n",
    "    check_dtype=False,\n",
    ")\n",
    "\n",
    "del _test_data"
   ]
  },
  {
   "cell_type": "code",
   "execution_count": 61,
   "id": "417717ae",
   "metadata": {
    "execution": {
     "iopub.execute_input": "2022-06-10T14:35:33.259541Z",
     "iopub.status.busy": "2022-06-10T14:35:33.259342Z",
     "iopub.status.idle": "2022-06-10T14:35:33.274035Z",
     "shell.execute_reply": "2022-06-10T14:35:33.273510Z"
    },
    "papermill": {
     "duration": 0.029431,
     "end_time": "2022-06-10T14:35:33.275362",
     "exception": false,
     "start_time": "2022-06-10T14:35:33.245931",
     "status": "completed"
    },
    "tags": []
   },
   "outputs": [],
   "source": [
    "def compute_snps_cov(snps_df):\n",
    "    assert snps_df[\"chr\"].unique().shape[0] == 1\n",
    "    chromosome = snps_df[\"chr\"].unique()[0]\n",
    "\n",
    "    # keep variants only present in genotype\n",
    "    snps_ids = list(set(snps_df[\"varID\"]).intersection(variants_ids_with_genotype))\n",
    "\n",
    "    chromosome_file = get_reference_panel_file(\n",
    "        REFERENCE_PANEL_DIR, f\"chr{chromosome}.variants\"\n",
    "    )\n",
    "    snps_genotypes = pd.read_parquet(chromosome_file, columns=snps_ids)\n",
    "\n",
    "    return covariance(snps_genotypes, COV_DTYPE)"
   ]
  },
  {
   "cell_type": "code",
   "execution_count": 62,
   "id": "db4aed3c",
   "metadata": {
    "execution": {
     "iopub.execute_input": "2022-06-10T14:35:33.302460Z",
     "iopub.status.busy": "2022-06-10T14:35:33.302271Z",
     "iopub.status.idle": "2022-06-10T14:35:33.474109Z",
     "shell.execute_reply": "2022-06-10T14:35:33.473513Z"
    },
    "papermill": {
     "duration": 0.186825,
     "end_time": "2022-06-10T14:35:33.475471",
     "exception": false,
     "start_time": "2022-06-10T14:35:33.288646",
     "status": "completed"
    },
    "tags": []
   },
   "outputs": [],
   "source": [
    "# testing\n",
    "_tmp_snps = variants_ld_block_df[variants_ld_block_df[\"chr\"] == 22]\n",
    "assert _tmp_snps.shape[0] > 0"
   ]
  },
  {
   "cell_type": "code",
   "execution_count": 63,
   "id": "db520e6e",
   "metadata": {
    "execution": {
     "iopub.execute_input": "2022-06-10T14:35:33.502001Z",
     "iopub.status.busy": "2022-06-10T14:35:33.501838Z",
     "iopub.status.idle": "2022-06-10T14:35:33.516677Z",
     "shell.execute_reply": "2022-06-10T14:35:33.516102Z"
    },
    "papermill": {
     "duration": 0.0295,
     "end_time": "2022-06-10T14:35:33.517903",
     "exception": false,
     "start_time": "2022-06-10T14:35:33.488403",
     "status": "completed"
    },
    "tags": []
   },
   "outputs": [
    {
     "data": {
      "text/plain": [
       "(20774, 5)"
      ]
     },
     "execution_count": 63,
     "metadata": {},
     "output_type": "execute_result"
    }
   ],
   "source": [
    "_tmp_snps.shape"
   ]
  },
  {
   "cell_type": "code",
   "execution_count": 64,
   "id": "7f7bb541",
   "metadata": {
    "execution": {
     "iopub.execute_input": "2022-06-10T14:35:33.544514Z",
     "iopub.status.busy": "2022-06-10T14:35:33.544303Z",
     "iopub.status.idle": "2022-06-10T14:35:33.567784Z",
     "shell.execute_reply": "2022-06-10T14:35:33.567236Z"
    },
    "papermill": {
     "duration": 0.03822,
     "end_time": "2022-06-10T14:35:33.569208",
     "exception": false,
     "start_time": "2022-06-10T14:35:33.530988",
     "status": "completed"
    },
    "tags": []
   },
   "outputs": [
    {
     "data": {
      "text/plain": [
       "20774"
      ]
     },
     "metadata": {},
     "output_type": "display_data"
    }
   ],
   "source": [
    "n_expected = len(set(_tmp_snps[\"varID\"]).intersection(variants_ids_with_genotype))\n",
    "display(n_expected)"
   ]
  },
  {
   "cell_type": "code",
   "execution_count": 65,
   "id": "f9de93c0",
   "metadata": {
    "execution": {
     "iopub.execute_input": "2022-06-10T14:35:33.601723Z",
     "iopub.status.busy": "2022-06-10T14:35:33.601551Z",
     "iopub.status.idle": "2022-06-10T14:37:20.272418Z",
     "shell.execute_reply": "2022-06-10T14:37:20.271729Z"
    },
    "papermill": {
     "duration": 106.68874,
     "end_time": "2022-06-10T14:37:20.273752",
     "exception": false,
     "start_time": "2022-06-10T14:35:33.585012",
     "status": "completed"
    },
    "tags": []
   },
   "outputs": [],
   "source": [
    "_tmp = compute_snps_cov(_tmp_snps)"
   ]
  },
  {
   "cell_type": "code",
   "execution_count": 66,
   "id": "46ab35a8",
   "metadata": {
    "execution": {
     "iopub.execute_input": "2022-06-10T14:37:20.302971Z",
     "iopub.status.busy": "2022-06-10T14:37:20.302815Z",
     "iopub.status.idle": "2022-06-10T14:37:20.544767Z",
     "shell.execute_reply": "2022-06-10T14:37:20.544173Z"
    },
    "papermill": {
     "duration": 0.257145,
     "end_time": "2022-06-10T14:37:20.546295",
     "exception": false,
     "start_time": "2022-06-10T14:37:20.289150",
     "status": "completed"
    },
    "tags": []
   },
   "outputs": [],
   "source": [
    "assert _tmp.shape == (n_expected, n_expected)\n",
    "assert not _tmp.isna().any().any()"
   ]
  },
  {
   "cell_type": "code",
   "execution_count": 67,
   "id": "9320eeb4",
   "metadata": {
    "execution": {
     "iopub.execute_input": "2022-06-10T14:37:20.574325Z",
     "iopub.status.busy": "2022-06-10T14:37:20.574158Z",
     "iopub.status.idle": "2022-06-10T14:37:20.591537Z",
     "shell.execute_reply": "2022-06-10T14:37:20.590939Z"
    },
    "papermill": {
     "duration": 0.032555,
     "end_time": "2022-06-10T14:37:20.592952",
     "exception": false,
     "start_time": "2022-06-10T14:37:20.560397",
     "status": "completed"
    },
    "tags": []
   },
   "outputs": [],
   "source": [
    "del _tmp_snps, _tmp"
   ]
  },
  {
   "cell_type": "markdown",
   "id": "1264f97f",
   "metadata": {
    "papermill": {
     "duration": 0.013914,
     "end_time": "2022-06-10T14:37:20.621139",
     "exception": false,
     "start_time": "2022-06-10T14:37:20.607225",
     "status": "completed"
    },
    "tags": []
   },
   "source": [
    "## Compute covariance and save"
   ]
  },
  {
   "cell_type": "code",
   "execution_count": 68,
   "id": "b938ae8a",
   "metadata": {
    "execution": {
     "iopub.execute_input": "2022-06-10T14:37:20.646559Z",
     "iopub.status.busy": "2022-06-10T14:37:20.646340Z",
     "iopub.status.idle": "2022-06-10T14:37:20.661772Z",
     "shell.execute_reply": "2022-06-10T14:37:20.661236Z"
    },
    "papermill": {
     "duration": 0.029598,
     "end_time": "2022-06-10T14:37:20.662917",
     "exception": false,
     "start_time": "2022-06-10T14:37:20.633319",
     "status": "completed"
    },
    "tags": []
   },
   "outputs": [
    {
     "data": {
      "text/plain": [
       "PosixPath('/opt/data/data/phenomexcan/ld_blocks/gene_corrs/gtex_v8/elastic_net/snps_chr_blocks_cov.h5')"
      ]
     },
     "metadata": {},
     "output_type": "display_data"
    }
   ],
   "source": [
    "output_file_name_template = conf.PHENOMEXCAN[\"LD_BLOCKS\"][\n",
    "    \"GENE_CORRS_FILE_NAME_TEMPLATES\"\n",
    "][\"SNPS_COVARIANCE\"]\n",
    "\n",
    "output_file = OUTPUT_DIR_BASE / output_file_name_template.format(\n",
    "    prefix=\"\",\n",
    "    suffix=\"\",\n",
    ")\n",
    "display(output_file)"
   ]
  },
  {
   "cell_type": "code",
   "execution_count": 69,
   "id": "8953db89",
   "metadata": {
    "execution": {
     "iopub.execute_input": "2022-06-10T14:37:20.688962Z",
     "iopub.status.busy": "2022-06-10T14:37:20.688783Z",
     "iopub.status.idle": "2022-06-10T23:24:23.192027Z",
     "shell.execute_reply": "2022-06-10T23:24:23.190732Z"
    },
    "papermill": {
     "duration": 31622.525702,
     "end_time": "2022-06-10T23:24:23.201347",
     "exception": false,
     "start_time": "2022-06-10T14:37:20.675645",
     "status": "completed"
    },
    "tags": []
   },
   "outputs": [
    {
     "name": "stderr",
     "output_type": "stream",
     "text": [
      "22 (20774, 5): 100%|████████████████████████████████████████████| 22/22 [8:47:02<00:00, 1437.38s/it]\n"
     ]
    }
   ],
   "source": [
    "with pd.HDFStore(output_file, mode=\"w\", complevel=4) as store:\n",
    "    pbar = tqdm(\n",
    "        variants_ld_block_df.groupby(\"chr\"),\n",
    "        ncols=100,\n",
    "        total=variants_ld_block_df[\"chr\"].unique().shape[0],\n",
    "    )\n",
    "\n",
    "    store[\"metadata\"] = variants_ld_block_df\n",
    "\n",
    "    for grp_name, grp_data in pbar:\n",
    "        pbar.set_description(f\"{grp_name} {grp_data.shape}\")\n",
    "        snps_cov = compute_snps_cov(grp_data)  # .astype(COV_DTYPE)\n",
    "        assert not snps_cov.isna().any().any()\n",
    "        store[f\"chr{grp_name}\"] = snps_cov\n",
    "\n",
    "        del snps_cov\n",
    "        store.flush()\n",
    "\n",
    "        gc.collect()"
   ]
  },
  {
   "cell_type": "markdown",
   "id": "1de34e70",
   "metadata": {
    "papermill": {
     "duration": 0.018329,
     "end_time": "2022-06-10T23:24:23.237120",
     "exception": false,
     "start_time": "2022-06-10T23:24:23.218791",
     "status": "completed"
    },
    "tags": []
   },
   "source": [
    "# Testing"
   ]
  },
  {
   "cell_type": "code",
   "execution_count": 70,
   "id": "54fc512c",
   "metadata": {
    "execution": {
     "iopub.execute_input": "2022-06-10T23:24:23.269727Z",
     "iopub.status.busy": "2022-06-10T23:24:23.269448Z",
     "iopub.status.idle": "2022-06-10T23:24:23.495024Z",
     "shell.execute_reply": "2022-06-10T23:24:23.494591Z"
    },
    "papermill": {
     "duration": 0.243522,
     "end_time": "2022-06-10T23:24:23.496311",
     "exception": false,
     "start_time": "2022-06-10T23:24:23.252789",
     "status": "completed"
    },
    "tags": []
   },
   "outputs": [],
   "source": [
    "_tmp = variants_ld_block_df[variants_ld_block_df[\"chr\"] == 1]"
   ]
  },
  {
   "cell_type": "code",
   "execution_count": 71,
   "id": "a3bd8ede",
   "metadata": {
    "execution": {
     "iopub.execute_input": "2022-06-10T23:24:23.527706Z",
     "iopub.status.busy": "2022-06-10T23:24:23.527518Z",
     "iopub.status.idle": "2022-06-10T23:24:23.543337Z",
     "shell.execute_reply": "2022-06-10T23:24:23.542787Z"
    },
    "papermill": {
     "duration": 0.032933,
     "end_time": "2022-06-10T23:24:23.544540",
     "exception": false,
     "start_time": "2022-06-10T23:24:23.511607",
     "status": "completed"
    },
    "tags": []
   },
   "outputs": [
    {
     "data": {
      "text/plain": [
       "(91597, 5)"
      ]
     },
     "execution_count": 71,
     "metadata": {},
     "output_type": "execute_result"
    }
   ],
   "source": [
    "_tmp.shape"
   ]
  },
  {
   "cell_type": "code",
   "execution_count": 72,
   "id": "6149cee4",
   "metadata": {
    "execution": {
     "iopub.execute_input": "2022-06-10T23:24:23.573886Z",
     "iopub.status.busy": "2022-06-10T23:24:23.573684Z",
     "iopub.status.idle": "2022-06-10T23:24:23.587953Z",
     "shell.execute_reply": "2022-06-10T23:24:23.587438Z"
    },
    "papermill": {
     "duration": 0.030063,
     "end_time": "2022-06-10T23:24:23.589266",
     "exception": false,
     "start_time": "2022-06-10T23:24:23.559203",
     "status": "completed"
    },
    "tags": []
   },
   "outputs": [],
   "source": [
    "assert _tmp.shape[0] > 0"
   ]
  },
  {
   "cell_type": "code",
   "execution_count": 73,
   "id": "8aceb74a",
   "metadata": {
    "execution": {
     "iopub.execute_input": "2022-06-10T23:24:23.618471Z",
     "iopub.status.busy": "2022-06-10T23:24:23.618266Z",
     "iopub.status.idle": "2022-06-10T23:24:23.675178Z",
     "shell.execute_reply": "2022-06-10T23:24:23.674590Z"
    },
    "papermill": {
     "duration": 0.072948,
     "end_time": "2022-06-10T23:24:23.676721",
     "exception": false,
     "start_time": "2022-06-10T23:24:23.603773",
     "status": "completed"
    },
    "tags": []
   },
   "outputs": [
    {
     "data": {
      "text/plain": [
       "91597"
      ]
     },
     "metadata": {},
     "output_type": "display_data"
    }
   ],
   "source": [
    "n_expected = len(set(_tmp[\"varID\"]).intersection(variants_ids_with_genotype))\n",
    "display(n_expected)\n",
    "assert n_expected > 0"
   ]
  },
  {
   "cell_type": "code",
   "execution_count": 74,
   "id": "ffdb4c4b",
   "metadata": {
    "execution": {
     "iopub.execute_input": "2022-06-10T23:24:23.713695Z",
     "iopub.status.busy": "2022-06-10T23:24:23.713518Z",
     "iopub.status.idle": "2022-06-10T23:31:34.174367Z",
     "shell.execute_reply": "2022-06-10T23:31:34.154530Z"
    },
    "papermill": {
     "duration": 430.522236,
     "end_time": "2022-06-10T23:31:34.217188",
     "exception": false,
     "start_time": "2022-06-10T23:24:23.694952",
     "status": "completed"
    },
    "tags": []
   },
   "outputs": [],
   "source": [
    "with pd.HDFStore(output_file, mode=\"r\") as store:\n",
    "    df = store[\"chr1\"]\n",
    "    assert df.shape == (n_expected, n_expected)\n",
    "    assert not df.isna().any().any()"
   ]
  },
  {
   "cell_type": "code",
   "execution_count": null,
   "id": "49dccd49",
   "metadata": {
    "papermill": {
     "duration": 0.016087,
     "end_time": "2022-06-10T23:31:34.318644",
     "exception": false,
     "start_time": "2022-06-10T23:31:34.302557",
     "status": "completed"
    },
    "tags": []
   },
   "outputs": [],
   "source": []
  }
 ],
 "metadata": {
  "jupytext": {
   "cell_metadata_filter": "all,-execution,-papermill,-trusted",
   "formats": "ipynb,py//py:percent"
  },
  "kernelspec": {
   "display_name": "Python 3 (ipykernel)",
   "language": "python",
   "name": "python3"
  },
  "language_info": {
   "codemirror_mode": {
    "name": "ipython",
    "version": 3
   },
   "file_extension": ".py",
   "mimetype": "text/x-python",
   "name": "python",
   "nbconvert_exporter": "python",
   "pygments_lexer": "ipython3",
   "version": "3.8.13"
  },
  "papermill": {
   "default_parameters": {},
   "duration": 32210.049423,
   "end_time": "2022-06-10T23:31:39.998792",
   "environment_variables": {},
   "exception": null,
   "input_path": "nbs/15_gsa_gls/05-snps_into_chr_cov.ipynb",
   "output_path": "nbs/15_gsa_gls/gene_corrs/gtex_v8/en/05-snps_into_chr_cov.ipynb",
   "parameters": {
    "EQTL_MODEL": "ELASTIC_NET",
    "REFERENCE_PANEL": "GTEX_V8"
   },
   "start_time": "2022-06-10T14:34:49.949369",
   "version": "2.2.2"
  }
 },
 "nbformat": 4,
 "nbformat_minor": 5
}
