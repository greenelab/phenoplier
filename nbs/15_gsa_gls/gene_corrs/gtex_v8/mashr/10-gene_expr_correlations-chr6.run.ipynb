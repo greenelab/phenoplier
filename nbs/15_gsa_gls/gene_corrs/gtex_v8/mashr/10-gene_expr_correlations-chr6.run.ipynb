{
 "cells": [
  {
   "cell_type": "markdown",
   "id": "7a6632fb",
   "metadata": {
    "papermill": {
     "duration": 0.005855,
     "end_time": "2022-06-16T02:14:47.519847",
     "exception": false,
     "start_time": "2022-06-16T02:14:47.513992",
     "status": "completed"
    },
    "tags": []
   },
   "source": [
    "# Description"
   ]
  },
  {
   "cell_type": "markdown",
   "id": "7097c346",
   "metadata": {
    "papermill": {
     "duration": 0.005233,
     "end_time": "2022-06-16T02:14:47.530463",
     "exception": false,
     "start_time": "2022-06-16T02:14:47.525230",
     "status": "completed"
    },
    "tags": []
   },
   "source": [
    "(Please, take a look at the README.md file in this directory for instructions on how to run this notebook)\n",
    "\n",
    "This notebook computes predicted expression correlations between all genes in the MultiPLIER models.\n",
    "\n",
    "It also has a parameter set for papermill to run on a single chromosome to run in parallel (see under `Settings` below).\n",
    "\n",
    "This notebook is not directly run. See README.md."
   ]
  },
  {
   "cell_type": "markdown",
   "id": "c61d8427",
   "metadata": {
    "papermill": {
     "duration": 0.005541,
     "end_time": "2022-06-16T02:14:47.541499",
     "exception": false,
     "start_time": "2022-06-16T02:14:47.535958",
     "status": "completed"
    },
    "tags": []
   },
   "source": [
    "# Modules"
   ]
  },
  {
   "cell_type": "code",
   "execution_count": 1,
   "id": "bbc0234f",
   "metadata": {
    "execution": {
     "iopub.execute_input": "2022-06-16T02:14:47.553759Z",
     "iopub.status.busy": "2022-06-16T02:14:47.553541Z",
     "iopub.status.idle": "2022-06-16T02:14:47.569472Z",
     "shell.execute_reply": "2022-06-16T02:14:47.568953Z"
    },
    "papermill": {
     "duration": 0.023934,
     "end_time": "2022-06-16T02:14:47.571045",
     "exception": false,
     "start_time": "2022-06-16T02:14:47.547111",
     "status": "completed"
    },
    "tags": []
   },
   "outputs": [],
   "source": [
    "%load_ext autoreload\n",
    "%autoreload 2"
   ]
  },
  {
   "cell_type": "code",
   "execution_count": 2,
   "id": "1d5f5a59",
   "metadata": {
    "execution": {
     "iopub.execute_input": "2022-06-16T02:14:47.584801Z",
     "iopub.status.busy": "2022-06-16T02:14:47.584217Z",
     "iopub.status.idle": "2022-06-16T02:14:48.602135Z",
     "shell.execute_reply": "2022-06-16T02:14:48.601497Z"
    },
    "papermill": {
     "duration": 1.026828,
     "end_time": "2022-06-16T02:14:48.603924",
     "exception": false,
     "start_time": "2022-06-16T02:14:47.577096",
     "status": "completed"
    },
    "tags": []
   },
   "outputs": [],
   "source": [
    "from random import sample\n",
    "import warnings\n",
    "\n",
    "import numpy as np\n",
    "from scipy.spatial.distance import squareform\n",
    "import pandas as pd\n",
    "from tqdm import tqdm\n",
    "import matplotlib.pyplot as plt\n",
    "import seaborn as sns\n",
    "\n",
    "import conf\n",
    "from entity import Gene"
   ]
  },
  {
   "cell_type": "markdown",
   "id": "1eac24b5",
   "metadata": {
    "papermill": {
     "duration": 0.006309,
     "end_time": "2022-06-16T02:14:48.646681",
     "exception": false,
     "start_time": "2022-06-16T02:14:48.640372",
     "status": "completed"
    },
    "tags": []
   },
   "source": [
    "# Settings"
   ]
  },
  {
   "cell_type": "code",
   "execution_count": 3,
   "id": "ca4560ba",
   "metadata": {
    "execution": {
     "iopub.execute_input": "2022-06-16T02:14:48.660538Z",
     "iopub.status.busy": "2022-06-16T02:14:48.660332Z",
     "iopub.status.idle": "2022-06-16T02:14:48.677351Z",
     "shell.execute_reply": "2022-06-16T02:14:48.676755Z"
    },
    "papermill": {
     "duration": 0.025833,
     "end_time": "2022-06-16T02:14:48.678932",
     "exception": false,
     "start_time": "2022-06-16T02:14:48.653099",
     "status": "completed"
    },
    "tags": [
     "parameters"
    ]
   },
   "outputs": [],
   "source": [
    "# reference panel\n",
    "REFERENCE_PANEL = \"GTEX_V8\"\n",
    "# REFERENCE_PANEL = \"1000G\"\n",
    "\n",
    "# prediction models\n",
    "## mashr\n",
    "EQTL_MODEL = \"MASHR\"\n",
    "EQTL_MODEL_FILES_PREFIX = \"mashr_\"\n",
    "\n",
    "# ## elastic net\n",
    "# EQTL_MODEL = \"ELASTIC_NET\"\n",
    "# EQTL_MODEL_FILES_PREFIX = \"en_\"\n",
    "\n",
    "# make it read the prefix from conf.py\n",
    "EQTL_MODEL_FILES_PREFIX = None\n",
    "\n",
    "# this is the default value used in S-MultiXcan to select the\n",
    "# top principal components of the expression correlation matrix\n",
    "SMULTIXCAN_CONDITION_NUMBER = 30\n",
    "\n",
    "# specifies a single chromosome value\n",
    "# by default, run on all chromosomes\n",
    "chromosome = None"
   ]
  },
  {
   "cell_type": "code",
   "execution_count": 4,
   "id": "1581a1cf",
   "metadata": {
    "execution": {
     "iopub.execute_input": "2022-06-16T02:14:48.693093Z",
     "iopub.status.busy": "2022-06-16T02:14:48.692638Z",
     "iopub.status.idle": "2022-06-16T02:14:48.709299Z",
     "shell.execute_reply": "2022-06-16T02:14:48.708648Z"
    },
    "papermill": {
     "duration": 0.025399,
     "end_time": "2022-06-16T02:14:48.710841",
     "exception": false,
     "start_time": "2022-06-16T02:14:48.685442",
     "status": "completed"
    },
    "tags": [
     "injected-parameters"
    ]
   },
   "outputs": [],
   "source": [
    "# Parameters\n",
    "chromosome = 6\n",
    "REFERENCE_PANEL = \"GTEX_V8\"\n",
    "EQTL_MODEL = \"MASHR\"\n"
   ]
  },
  {
   "cell_type": "code",
   "execution_count": 5,
   "id": "a089c9ff",
   "metadata": {
    "execution": {
     "iopub.execute_input": "2022-06-16T02:14:48.725058Z",
     "iopub.status.busy": "2022-06-16T02:14:48.724534Z",
     "iopub.status.idle": "2022-06-16T02:14:48.740830Z",
     "shell.execute_reply": "2022-06-16T02:14:48.740222Z"
    },
    "papermill": {
     "duration": 0.025023,
     "end_time": "2022-06-16T02:14:48.742535",
     "exception": false,
     "start_time": "2022-06-16T02:14:48.717512",
     "status": "completed"
    },
    "tags": []
   },
   "outputs": [],
   "source": [
    "if EQTL_MODEL_FILES_PREFIX is None:\n",
    "    EQTL_MODEL_FILES_PREFIX = conf.PHENOMEXCAN[\"PREDICTION_MODELS\"][\n",
    "        f\"{EQTL_MODEL}_PREFIX\"\n",
    "    ]"
   ]
  },
  {
   "cell_type": "code",
   "execution_count": 6,
   "id": "8fe24bef",
   "metadata": {
    "execution": {
     "iopub.execute_input": "2022-06-16T02:14:48.756331Z",
     "iopub.status.busy": "2022-06-16T02:14:48.755809Z",
     "iopub.status.idle": "2022-06-16T02:14:48.775490Z",
     "shell.execute_reply": "2022-06-16T02:14:48.774870Z"
    },
    "papermill": {
     "duration": 0.028294,
     "end_time": "2022-06-16T02:14:48.777134",
     "exception": false,
     "start_time": "2022-06-16T02:14:48.748840",
     "status": "completed"
    },
    "tags": []
   },
   "outputs": [
    {
     "data": {
      "text/plain": [
       "'Using eQTL model: MASHR / mashr_'"
      ]
     },
     "metadata": {},
     "output_type": "display_data"
    }
   ],
   "source": [
    "display(f\"Using eQTL model: {EQTL_MODEL} / {EQTL_MODEL_FILES_PREFIX}\")"
   ]
  },
  {
   "cell_type": "code",
   "execution_count": 7,
   "id": "0230ebcb-2c32-4b95-9292-d9a52038e70d",
   "metadata": {
    "execution": {
     "iopub.execute_input": "2022-06-16T02:14:48.791495Z",
     "iopub.status.busy": "2022-06-16T02:14:48.790884Z",
     "iopub.status.idle": "2022-06-16T02:14:48.806904Z",
     "shell.execute_reply": "2022-06-16T02:14:48.806310Z"
    },
    "papermill": {
     "duration": 0.024845,
     "end_time": "2022-06-16T02:14:48.808615",
     "exception": false,
     "start_time": "2022-06-16T02:14:48.783770",
     "status": "completed"
    },
    "tags": []
   },
   "outputs": [],
   "source": [
    "REFERENCE_PANEL_DIR = conf.PHENOMEXCAN[\"LD_BLOCKS\"][f\"{REFERENCE_PANEL}_GENOTYPE_DIR\"]"
   ]
  },
  {
   "cell_type": "code",
   "execution_count": 8,
   "id": "98c4a159-601d-4a22-a1ab-35bd451c25f9",
   "metadata": {
    "execution": {
     "iopub.execute_input": "2022-06-16T02:14:48.822126Z",
     "iopub.status.busy": "2022-06-16T02:14:48.821938Z",
     "iopub.status.idle": "2022-06-16T02:14:48.839913Z",
     "shell.execute_reply": "2022-06-16T02:14:48.839297Z"
    },
    "papermill": {
     "duration": 0.026648,
     "end_time": "2022-06-16T02:14:48.841606",
     "exception": false,
     "start_time": "2022-06-16T02:14:48.814958",
     "status": "completed"
    },
    "tags": []
   },
   "outputs": [
    {
     "data": {
      "text/plain": [
       "'Using reference panel folder: /opt/data/data/phenomexcan/ld_blocks/reference_panel_gtex_v8'"
      ]
     },
     "metadata": {},
     "output_type": "display_data"
    }
   ],
   "source": [
    "display(f\"Using reference panel folder: {str(REFERENCE_PANEL_DIR)}\")"
   ]
  },
  {
   "cell_type": "code",
   "execution_count": 9,
   "id": "396392dc-0340-4540-9b02-e182b833f909",
   "metadata": {
    "execution": {
     "iopub.execute_input": "2022-06-16T02:14:48.855992Z",
     "iopub.status.busy": "2022-06-16T02:14:48.855439Z",
     "iopub.status.idle": "2022-06-16T02:14:48.871802Z",
     "shell.execute_reply": "2022-06-16T02:14:48.871226Z"
    },
    "papermill": {
     "duration": 0.02507,
     "end_time": "2022-06-16T02:14:48.873338",
     "exception": false,
     "start_time": "2022-06-16T02:14:48.848268",
     "status": "completed"
    },
    "tags": []
   },
   "outputs": [],
   "source": [
    "OUTPUT_DIR_BASE = (\n",
    "    conf.PHENOMEXCAN[\"LD_BLOCKS\"][f\"GENE_CORRS_DIR\"]\n",
    "    / REFERENCE_PANEL.lower()\n",
    "    / EQTL_MODEL.lower()\n",
    ")\n",
    "OUTPUT_DIR_BASE.mkdir(parents=True, exist_ok=True)"
   ]
  },
  {
   "cell_type": "code",
   "execution_count": 10,
   "id": "8942c2d3-e53c-4d63-a0eb-b6fce0574d36",
   "metadata": {
    "execution": {
     "iopub.execute_input": "2022-06-16T02:14:48.887403Z",
     "iopub.status.busy": "2022-06-16T02:14:48.886891Z",
     "iopub.status.idle": "2022-06-16T02:14:48.903435Z",
     "shell.execute_reply": "2022-06-16T02:14:48.902912Z"
    },
    "papermill": {
     "duration": 0.025004,
     "end_time": "2022-06-16T02:14:48.904897",
     "exception": false,
     "start_time": "2022-06-16T02:14:48.879893",
     "status": "completed"
    },
    "tags": []
   },
   "outputs": [
    {
     "data": {
      "text/plain": [
       "'Using output dir base: /opt/data/data/phenomexcan/ld_blocks/gene_corrs/gtex_v8/mashr'"
      ]
     },
     "metadata": {},
     "output_type": "display_data"
    }
   ],
   "source": [
    "display(f\"Using output dir base: {OUTPUT_DIR_BASE}\")"
   ]
  },
  {
   "cell_type": "code",
   "execution_count": 11,
   "id": "408aa590",
   "metadata": {
    "execution": {
     "iopub.execute_input": "2022-06-16T02:14:48.919364Z",
     "iopub.status.busy": "2022-06-16T02:14:48.918744Z",
     "iopub.status.idle": "2022-06-16T02:14:48.934666Z",
     "shell.execute_reply": "2022-06-16T02:14:48.934074Z"
    },
    "papermill": {
     "duration": 0.024606,
     "end_time": "2022-06-16T02:14:48.936153",
     "exception": false,
     "start_time": "2022-06-16T02:14:48.911547",
     "status": "completed"
    },
    "tags": []
   },
   "outputs": [],
   "source": [
    "assert (\n",
    "    chromosome is not None\n",
    "), \"You have to select one chromosome (format: number between 1 and 22)\""
   ]
  },
  {
   "cell_type": "code",
   "execution_count": 12,
   "id": "c1c7dd06-80ff-453c-bcb7-0899edce75da",
   "metadata": {
    "execution": {
     "iopub.execute_input": "2022-06-16T02:14:48.950737Z",
     "iopub.status.busy": "2022-06-16T02:14:48.950192Z",
     "iopub.status.idle": "2022-06-16T02:14:48.966101Z",
     "shell.execute_reply": "2022-06-16T02:14:48.965500Z"
    },
    "papermill": {
     "duration": 0.024654,
     "end_time": "2022-06-16T02:14:48.967622",
     "exception": false,
     "start_time": "2022-06-16T02:14:48.942968",
     "status": "completed"
    },
    "tags": []
   },
   "outputs": [],
   "source": [
    "chromosome = str(chromosome)"
   ]
  },
  {
   "cell_type": "code",
   "execution_count": 13,
   "id": "bc17b84c-9c26-47a5-a3ab-7046e72f3ef4",
   "metadata": {
    "execution": {
     "iopub.execute_input": "2022-06-16T02:14:48.989210Z",
     "iopub.status.busy": "2022-06-16T02:14:48.988662Z",
     "iopub.status.idle": "2022-06-16T02:14:49.006073Z",
     "shell.execute_reply": "2022-06-16T02:14:49.005494Z"
    },
    "papermill": {
     "duration": 0.026208,
     "end_time": "2022-06-16T02:14:49.007628",
     "exception": false,
     "start_time": "2022-06-16T02:14:48.981420",
     "status": "completed"
    },
    "tags": []
   },
   "outputs": [
    {
     "data": {
      "text/plain": [
       "'Working on chromosome 6'"
      ]
     },
     "metadata": {},
     "output_type": "display_data"
    }
   ],
   "source": [
    "display(f\"Working on chromosome {chromosome}\")"
   ]
  },
  {
   "cell_type": "markdown",
   "id": "d2ba085e",
   "metadata": {
    "papermill": {
     "duration": 0.006673,
     "end_time": "2022-06-16T02:14:49.021235",
     "exception": false,
     "start_time": "2022-06-16T02:14:49.014562",
     "status": "completed"
    },
    "tags": []
   },
   "source": [
    "# Load data"
   ]
  },
  {
   "cell_type": "markdown",
   "id": "abcc4b3d",
   "metadata": {
    "papermill": {
     "duration": 0.006404,
     "end_time": "2022-06-16T02:14:49.034338",
     "exception": false,
     "start_time": "2022-06-16T02:14:49.027934",
     "status": "completed"
    },
    "tags": []
   },
   "source": [
    "## MultiPLIER Z"
   ]
  },
  {
   "cell_type": "code",
   "execution_count": 14,
   "id": "c48ef527",
   "metadata": {
    "execution": {
     "iopub.execute_input": "2022-06-16T02:14:49.048765Z",
     "iopub.status.busy": "2022-06-16T02:14:49.048163Z",
     "iopub.status.idle": "2022-06-16T02:14:49.092671Z",
     "shell.execute_reply": "2022-06-16T02:14:49.092062Z"
    },
    "papermill": {
     "duration": 0.05353,
     "end_time": "2022-06-16T02:14:49.094433",
     "exception": false,
     "start_time": "2022-06-16T02:14:49.040903",
     "status": "completed"
    },
    "tags": []
   },
   "outputs": [],
   "source": [
    "multiplier_z_genes = pd.read_pickle(\n",
    "    conf.MULTIPLIER[\"MODEL_Z_MATRIX_FILE\"]\n",
    ").index.tolist()"
   ]
  },
  {
   "cell_type": "code",
   "execution_count": 15,
   "id": "0a4ecbd9",
   "metadata": {
    "execution": {
     "iopub.execute_input": "2022-06-16T02:14:49.109573Z",
     "iopub.status.busy": "2022-06-16T02:14:49.109357Z",
     "iopub.status.idle": "2022-06-16T02:14:49.126789Z",
     "shell.execute_reply": "2022-06-16T02:14:49.126234Z"
    },
    "papermill": {
     "duration": 0.026755,
     "end_time": "2022-06-16T02:14:49.128342",
     "exception": false,
     "start_time": "2022-06-16T02:14:49.101587",
     "status": "completed"
    },
    "tags": []
   },
   "outputs": [
    {
     "data": {
      "text/plain": [
       "6750"
      ]
     },
     "execution_count": 15,
     "metadata": {},
     "output_type": "execute_result"
    }
   ],
   "source": [
    "len(multiplier_z_genes)"
   ]
  },
  {
   "cell_type": "code",
   "execution_count": 16,
   "id": "115e8864",
   "metadata": {
    "execution": {
     "iopub.execute_input": "2022-06-16T02:14:49.143712Z",
     "iopub.status.busy": "2022-06-16T02:14:49.143248Z",
     "iopub.status.idle": "2022-06-16T02:14:49.161379Z",
     "shell.execute_reply": "2022-06-16T02:14:49.160778Z"
    },
    "papermill": {
     "duration": 0.02737,
     "end_time": "2022-06-16T02:14:49.162908",
     "exception": false,
     "start_time": "2022-06-16T02:14:49.135538",
     "status": "completed"
    },
    "tags": []
   },
   "outputs": [
    {
     "data": {
      "text/plain": [
       "['GAS6',\n",
       " 'MMP14',\n",
       " 'DSP',\n",
       " 'MARCKSL1',\n",
       " 'SPARC',\n",
       " 'CTSD',\n",
       " 'EPAS1',\n",
       " 'PALLD',\n",
       " 'PHC2',\n",
       " 'LGALS3BP']"
      ]
     },
     "execution_count": 16,
     "metadata": {},
     "output_type": "execute_result"
    }
   ],
   "source": [
    "multiplier_z_genes[:10]"
   ]
  },
  {
   "cell_type": "markdown",
   "id": "7dcb8db7",
   "metadata": {
    "papermill": {
     "duration": 0.006806,
     "end_time": "2022-06-16T02:14:49.176827",
     "exception": false,
     "start_time": "2022-06-16T02:14:49.170021",
     "status": "completed"
    },
    "tags": []
   },
   "source": [
    "## Get gene objects"
   ]
  },
  {
   "cell_type": "code",
   "execution_count": 17,
   "id": "bb932812",
   "metadata": {
    "execution": {
     "iopub.execute_input": "2022-06-16T02:14:49.192133Z",
     "iopub.status.busy": "2022-06-16T02:14:49.191553Z",
     "iopub.status.idle": "2022-06-16T02:14:49.214928Z",
     "shell.execute_reply": "2022-06-16T02:14:49.214330Z"
    },
    "papermill": {
     "duration": 0.032349,
     "end_time": "2022-06-16T02:14:49.216542",
     "exception": false,
     "start_time": "2022-06-16T02:14:49.184193",
     "status": "completed"
    },
    "tags": []
   },
   "outputs": [],
   "source": [
    "multiplier_gene_obj = {\n",
    "    gene_name: Gene(name=gene_name)\n",
    "    for gene_name in multiplier_z_genes\n",
    "    if gene_name in Gene.GENE_NAME_TO_ID_MAP\n",
    "}"
   ]
  },
  {
   "cell_type": "code",
   "execution_count": 18,
   "id": "39533214",
   "metadata": {
    "execution": {
     "iopub.execute_input": "2022-06-16T02:14:49.231972Z",
     "iopub.status.busy": "2022-06-16T02:14:49.231444Z",
     "iopub.status.idle": "2022-06-16T02:14:49.249341Z",
     "shell.execute_reply": "2022-06-16T02:14:49.248717Z"
    },
    "papermill": {
     "duration": 0.027052,
     "end_time": "2022-06-16T02:14:49.250841",
     "exception": false,
     "start_time": "2022-06-16T02:14:49.223789",
     "status": "completed"
    },
    "tags": []
   },
   "outputs": [
    {
     "data": {
      "text/plain": [
       "6454"
      ]
     },
     "execution_count": 18,
     "metadata": {},
     "output_type": "execute_result"
    }
   ],
   "source": [
    "len(multiplier_gene_obj)"
   ]
  },
  {
   "cell_type": "code",
   "execution_count": 19,
   "id": "9a5d0b84",
   "metadata": {
    "execution": {
     "iopub.execute_input": "2022-06-16T02:14:49.266497Z",
     "iopub.status.busy": "2022-06-16T02:14:49.265985Z",
     "iopub.status.idle": "2022-06-16T02:14:49.282730Z",
     "shell.execute_reply": "2022-06-16T02:14:49.282229Z"
    },
    "papermill": {
     "duration": 0.02598,
     "end_time": "2022-06-16T02:14:49.284177",
     "exception": false,
     "start_time": "2022-06-16T02:14:49.258197",
     "status": "completed"
    },
    "tags": []
   },
   "outputs": [
    {
     "data": {
      "text/plain": [
       "'ENSG00000183087'"
      ]
     },
     "execution_count": 19,
     "metadata": {},
     "output_type": "execute_result"
    }
   ],
   "source": [
    "multiplier_gene_obj[\"GAS6\"].ensembl_id"
   ]
  },
  {
   "cell_type": "code",
   "execution_count": 20,
   "id": "e3ffabc7",
   "metadata": {
    "execution": {
     "iopub.execute_input": "2022-06-16T02:14:49.299914Z",
     "iopub.status.busy": "2022-06-16T02:14:49.299626Z",
     "iopub.status.idle": "2022-06-16T02:14:51.432811Z",
     "shell.execute_reply": "2022-06-16T02:14:51.432254Z"
    },
    "papermill": {
     "duration": 2.142838,
     "end_time": "2022-06-16T02:14:51.434449",
     "exception": false,
     "start_time": "2022-06-16T02:14:49.291611",
     "status": "completed"
    },
    "tags": []
   },
   "outputs": [],
   "source": [
    "_gene_obj = list(multiplier_gene_obj.values())\n",
    "\n",
    "genes_info = pd.DataFrame(\n",
    "    {\n",
    "        \"name\": [g.name for g in _gene_obj],\n",
    "        \"id\": [g.ensembl_id for g in _gene_obj],\n",
    "        \"chr\": [g.chromosome for g in _gene_obj],\n",
    "        \"band\": [g.band for g in _gene_obj],\n",
    "        \"start_position\": [g.get_attribute(\"start_position\") for g in _gene_obj],\n",
    "    }\n",
    ")"
   ]
  },
  {
   "cell_type": "code",
   "execution_count": 21,
   "id": "e23519b8",
   "metadata": {
    "execution": {
     "iopub.execute_input": "2022-06-16T02:14:51.455552Z",
     "iopub.status.busy": "2022-06-16T02:14:51.455367Z",
     "iopub.status.idle": "2022-06-16T02:14:51.472462Z",
     "shell.execute_reply": "2022-06-16T02:14:51.471889Z"
    },
    "papermill": {
     "duration": 0.031954,
     "end_time": "2022-06-16T02:14:51.473921",
     "exception": false,
     "start_time": "2022-06-16T02:14:51.441967",
     "status": "completed"
    },
    "tags": []
   },
   "outputs": [
    {
     "data": {
      "text/plain": [
       "(6454, 5)"
      ]
     },
     "execution_count": 21,
     "metadata": {},
     "output_type": "execute_result"
    }
   ],
   "source": [
    "genes_info.shape"
   ]
  },
  {
   "cell_type": "code",
   "execution_count": 22,
   "id": "0d71881c",
   "metadata": {
    "execution": {
     "iopub.execute_input": "2022-06-16T02:14:51.489256Z",
     "iopub.status.busy": "2022-06-16T02:14:51.489071Z",
     "iopub.status.idle": "2022-06-16T02:14:51.512662Z",
     "shell.execute_reply": "2022-06-16T02:14:51.512057Z"
    },
    "papermill": {
     "duration": 0.033095,
     "end_time": "2022-06-16T02:14:51.514308",
     "exception": false,
     "start_time": "2022-06-16T02:14:51.481213",
     "status": "completed"
    },
    "tags": []
   },
   "outputs": [
    {
     "data": {
      "text/html": [
       "<div>\n",
       "<style scoped>\n",
       "    .dataframe tbody tr th:only-of-type {\n",
       "        vertical-align: middle;\n",
       "    }\n",
       "\n",
       "    .dataframe tbody tr th {\n",
       "        vertical-align: top;\n",
       "    }\n",
       "\n",
       "    .dataframe thead th {\n",
       "        text-align: right;\n",
       "    }\n",
       "</style>\n",
       "<table border=\"1\" class=\"dataframe\">\n",
       "  <thead>\n",
       "    <tr style=\"text-align: right;\">\n",
       "      <th></th>\n",
       "      <th>name</th>\n",
       "      <th>id</th>\n",
       "      <th>chr</th>\n",
       "      <th>band</th>\n",
       "      <th>start_position</th>\n",
       "    </tr>\n",
       "  </thead>\n",
       "  <tbody>\n",
       "    <tr>\n",
       "      <th>0</th>\n",
       "      <td>GAS6</td>\n",
       "      <td>ENSG00000183087</td>\n",
       "      <td>13</td>\n",
       "      <td>13q34</td>\n",
       "      <td>113820549.0</td>\n",
       "    </tr>\n",
       "    <tr>\n",
       "      <th>1</th>\n",
       "      <td>MMP14</td>\n",
       "      <td>ENSG00000157227</td>\n",
       "      <td>14</td>\n",
       "      <td>14q11.2</td>\n",
       "      <td>22836560.0</td>\n",
       "    </tr>\n",
       "    <tr>\n",
       "      <th>2</th>\n",
       "      <td>DSP</td>\n",
       "      <td>ENSG00000096696</td>\n",
       "      <td>6</td>\n",
       "      <td>6p24.3</td>\n",
       "      <td>7541617.0</td>\n",
       "    </tr>\n",
       "    <tr>\n",
       "      <th>3</th>\n",
       "      <td>MARCKSL1</td>\n",
       "      <td>ENSG00000175130</td>\n",
       "      <td>1</td>\n",
       "      <td>1p35.1</td>\n",
       "      <td>32333839.0</td>\n",
       "    </tr>\n",
       "    <tr>\n",
       "      <th>4</th>\n",
       "      <td>SPARC</td>\n",
       "      <td>ENSG00000113140</td>\n",
       "      <td>5</td>\n",
       "      <td>5q33.1</td>\n",
       "      <td>151661096.0</td>\n",
       "    </tr>\n",
       "  </tbody>\n",
       "</table>\n",
       "</div>"
      ],
      "text/plain": [
       "       name               id chr     band  start_position\n",
       "0      GAS6  ENSG00000183087  13    13q34     113820549.0\n",
       "1     MMP14  ENSG00000157227  14  14q11.2      22836560.0\n",
       "2       DSP  ENSG00000096696   6   6p24.3       7541617.0\n",
       "3  MARCKSL1  ENSG00000175130   1   1p35.1      32333839.0\n",
       "4     SPARC  ENSG00000113140   5   5q33.1     151661096.0"
      ]
     },
     "execution_count": 22,
     "metadata": {},
     "output_type": "execute_result"
    }
   ],
   "source": [
    "genes_info.head()"
   ]
  },
  {
   "cell_type": "markdown",
   "id": "8c9dbb4a",
   "metadata": {
    "papermill": {
     "duration": 0.007289,
     "end_time": "2022-06-16T02:14:51.529249",
     "exception": false,
     "start_time": "2022-06-16T02:14:51.521960",
     "status": "completed"
    },
    "tags": []
   },
   "source": [
    "## Get tissues names"
   ]
  },
  {
   "cell_type": "code",
   "execution_count": 23,
   "id": "2bc52419",
   "metadata": {
    "execution": {
     "iopub.execute_input": "2022-06-16T02:14:51.545270Z",
     "iopub.status.busy": "2022-06-16T02:14:51.544743Z",
     "iopub.status.idle": "2022-06-16T02:14:51.560247Z",
     "shell.execute_reply": "2022-06-16T02:14:51.559750Z"
    },
    "papermill": {
     "duration": 0.025071,
     "end_time": "2022-06-16T02:14:51.561712",
     "exception": false,
     "start_time": "2022-06-16T02:14:51.536641",
     "status": "completed"
    },
    "tags": []
   },
   "outputs": [],
   "source": [
    "tissues = conf.PHENOMEXCAN[\"PREDICTION_MODELS\"][f\"{EQTL_MODEL}_TISSUES\"].split(\" \")"
   ]
  },
  {
   "cell_type": "code",
   "execution_count": 24,
   "id": "64b293a1",
   "metadata": {
    "execution": {
     "iopub.execute_input": "2022-06-16T02:14:51.577631Z",
     "iopub.status.busy": "2022-06-16T02:14:51.577372Z",
     "iopub.status.idle": "2022-06-16T02:14:51.594298Z",
     "shell.execute_reply": "2022-06-16T02:14:51.593745Z"
    },
    "papermill": {
     "duration": 0.026492,
     "end_time": "2022-06-16T02:14:51.595798",
     "exception": false,
     "start_time": "2022-06-16T02:14:51.569306",
     "status": "completed"
    },
    "tags": []
   },
   "outputs": [
    {
     "data": {
      "text/plain": [
       "['Skin_Not_Sun_Exposed_Suprapubic',\n",
       " 'Cells_EBV-transformed_lymphocytes',\n",
       " 'Brain_Frontal_Cortex_BA9',\n",
       " 'Kidney_Cortex',\n",
       " 'Brain_Substantia_nigra']"
      ]
     },
     "execution_count": 24,
     "metadata": {},
     "output_type": "execute_result"
    }
   ],
   "source": [
    "tissues[:5]"
   ]
  },
  {
   "cell_type": "code",
   "execution_count": 25,
   "id": "48a7202a",
   "metadata": {
    "execution": {
     "iopub.execute_input": "2022-06-16T02:14:51.612376Z",
     "iopub.status.busy": "2022-06-16T02:14:51.611976Z",
     "iopub.status.idle": "2022-06-16T02:14:51.627881Z",
     "shell.execute_reply": "2022-06-16T02:14:51.627291Z"
    },
    "papermill": {
     "duration": 0.025787,
     "end_time": "2022-06-16T02:14:51.629460",
     "exception": false,
     "start_time": "2022-06-16T02:14:51.603673",
     "status": "completed"
    },
    "tags": []
   },
   "outputs": [],
   "source": [
    "assert len(tissues) == 49"
   ]
  },
  {
   "cell_type": "markdown",
   "id": "c8d1038f",
   "metadata": {
    "papermill": {
     "duration": 0.007403,
     "end_time": "2022-06-16T02:14:51.644638",
     "exception": false,
     "start_time": "2022-06-16T02:14:51.637235",
     "status": "completed"
    },
    "tags": []
   },
   "source": [
    "# Test"
   ]
  },
  {
   "cell_type": "code",
   "execution_count": 26,
   "id": "64993abf",
   "metadata": {
    "execution": {
     "iopub.execute_input": "2022-06-16T02:14:51.661030Z",
     "iopub.status.busy": "2022-06-16T02:14:51.660481Z",
     "iopub.status.idle": "2022-06-16T02:14:51.686259Z",
     "shell.execute_reply": "2022-06-16T02:14:51.685502Z"
    },
    "papermill": {
     "duration": 0.035589,
     "end_time": "2022-06-16T02:14:51.687790",
     "exception": false,
     "start_time": "2022-06-16T02:14:51.652201",
     "status": "completed"
    },
    "tags": []
   },
   "outputs": [
    {
     "data": {
      "text/html": [
       "<div>\n",
       "<style scoped>\n",
       "    .dataframe tbody tr th:only-of-type {\n",
       "        vertical-align: middle;\n",
       "    }\n",
       "\n",
       "    .dataframe tbody tr th {\n",
       "        vertical-align: top;\n",
       "    }\n",
       "\n",
       "    .dataframe thead th {\n",
       "        text-align: right;\n",
       "    }\n",
       "</style>\n",
       "<table border=\"1\" class=\"dataframe\">\n",
       "  <thead>\n",
       "    <tr style=\"text-align: right;\">\n",
       "      <th></th>\n",
       "      <th>name</th>\n",
       "      <th>id</th>\n",
       "      <th>chr</th>\n",
       "      <th>band</th>\n",
       "      <th>start_position</th>\n",
       "    </tr>\n",
       "  </thead>\n",
       "  <tbody>\n",
       "    <tr>\n",
       "      <th>2</th>\n",
       "      <td>DSP</td>\n",
       "      <td>ENSG00000096696</td>\n",
       "      <td>6</td>\n",
       "      <td>6p24.3</td>\n",
       "      <td>7541617.0</td>\n",
       "    </tr>\n",
       "    <tr>\n",
       "      <th>32</th>\n",
       "      <td>IER3</td>\n",
       "      <td>ENSG00000137331</td>\n",
       "      <td>6</td>\n",
       "      <td>6p21.33</td>\n",
       "      <td>30743199.0</td>\n",
       "    </tr>\n",
       "    <tr>\n",
       "      <th>40</th>\n",
       "      <td>DYNLT1</td>\n",
       "      <td>ENSG00000146425</td>\n",
       "      <td>6</td>\n",
       "      <td>6q25.3</td>\n",
       "      <td>158636474.0</td>\n",
       "    </tr>\n",
       "    <tr>\n",
       "      <th>55</th>\n",
       "      <td>TRAM2</td>\n",
       "      <td>ENSG00000065308</td>\n",
       "      <td>6</td>\n",
       "      <td>6p12.2</td>\n",
       "      <td>52497408.0</td>\n",
       "    </tr>\n",
       "    <tr>\n",
       "      <th>76</th>\n",
       "      <td>MAP7</td>\n",
       "      <td>ENSG00000135525</td>\n",
       "      <td>6</td>\n",
       "      <td>6q23.3</td>\n",
       "      <td>136342281.0</td>\n",
       "    </tr>\n",
       "    <tr>\n",
       "      <th>...</th>\n",
       "      <td>...</td>\n",
       "      <td>...</td>\n",
       "      <td>...</td>\n",
       "      <td>...</td>\n",
       "      <td>...</td>\n",
       "    </tr>\n",
       "    <tr>\n",
       "      <th>6396</th>\n",
       "      <td>CD2AP</td>\n",
       "      <td>ENSG00000198087</td>\n",
       "      <td>6</td>\n",
       "      <td>6p12.3</td>\n",
       "      <td>47477789.0</td>\n",
       "    </tr>\n",
       "    <tr>\n",
       "      <th>6410</th>\n",
       "      <td>ORC3</td>\n",
       "      <td>ENSG00000135336</td>\n",
       "      <td>6</td>\n",
       "      <td>6q15</td>\n",
       "      <td>87590067.0</td>\n",
       "    </tr>\n",
       "    <tr>\n",
       "      <th>6428</th>\n",
       "      <td>PRDM1</td>\n",
       "      <td>ENSG00000057657</td>\n",
       "      <td>6</td>\n",
       "      <td>6q21</td>\n",
       "      <td>105993463.0</td>\n",
       "    </tr>\n",
       "    <tr>\n",
       "      <th>6430</th>\n",
       "      <td>RGS17</td>\n",
       "      <td>ENSG00000091844</td>\n",
       "      <td>6</td>\n",
       "      <td>6q25.2</td>\n",
       "      <td>153004459.0</td>\n",
       "    </tr>\n",
       "    <tr>\n",
       "      <th>6440</th>\n",
       "      <td>BRPF3</td>\n",
       "      <td>ENSG00000096070</td>\n",
       "      <td>6</td>\n",
       "      <td>6p21.31</td>\n",
       "      <td>36196744.0</td>\n",
       "    </tr>\n",
       "  </tbody>\n",
       "</table>\n",
       "<p>339 rows × 5 columns</p>\n",
       "</div>"
      ],
      "text/plain": [
       "        name               id chr     band  start_position\n",
       "2        DSP  ENSG00000096696   6   6p24.3       7541617.0\n",
       "32      IER3  ENSG00000137331   6  6p21.33      30743199.0\n",
       "40    DYNLT1  ENSG00000146425   6   6q25.3     158636474.0\n",
       "55     TRAM2  ENSG00000065308   6   6p12.2      52497408.0\n",
       "76      MAP7  ENSG00000135525   6   6q23.3     136342281.0\n",
       "...      ...              ...  ..      ...             ...\n",
       "6396   CD2AP  ENSG00000198087   6   6p12.3      47477789.0\n",
       "6410    ORC3  ENSG00000135336   6     6q15      87590067.0\n",
       "6428   PRDM1  ENSG00000057657   6     6q21     105993463.0\n",
       "6430   RGS17  ENSG00000091844   6   6q25.2     153004459.0\n",
       "6440   BRPF3  ENSG00000096070   6  6p21.31      36196744.0\n",
       "\n",
       "[339 rows x 5 columns]"
      ]
     },
     "metadata": {},
     "output_type": "display_data"
    }
   ],
   "source": [
    "chromosome_genes_info = genes_info[genes_info[\"chr\"] == chromosome]\n",
    "display(chromosome_genes_info)"
   ]
  },
  {
   "cell_type": "code",
   "execution_count": 27,
   "id": "d2e42726-7de6-46eb-acfc-6323eaa8fae6",
   "metadata": {
    "execution": {
     "iopub.execute_input": "2022-06-16T02:14:51.704827Z",
     "iopub.status.busy": "2022-06-16T02:14:51.704309Z",
     "iopub.status.idle": "2022-06-16T02:14:51.722733Z",
     "shell.execute_reply": "2022-06-16T02:14:51.721942Z"
    },
    "papermill": {
     "duration": 0.028624,
     "end_time": "2022-06-16T02:14:51.724439",
     "exception": false,
     "start_time": "2022-06-16T02:14:51.695815",
     "status": "completed"
    },
    "tags": []
   },
   "outputs": [
    {
     "data": {
      "text/plain": [
       "5"
      ]
     },
     "metadata": {},
     "output_type": "display_data"
    }
   ],
   "source": [
    "_gene_list_ids = sample(chromosome_genes_info[\"id\"].tolist(), 5)\n",
    "selected_chromosome_genes_obj = [Gene(ensembl_id=g_id) for g_id in _gene_list_ids]\n",
    "display(len(selected_chromosome_genes_obj))"
   ]
  },
  {
   "cell_type": "code",
   "execution_count": 28,
   "id": "1b355359",
   "metadata": {
    "execution": {
     "iopub.execute_input": "2022-06-16T02:14:51.742074Z",
     "iopub.status.busy": "2022-06-16T02:14:51.741527Z",
     "iopub.status.idle": "2022-06-16T02:14:51.867649Z",
     "shell.execute_reply": "2022-06-16T02:14:51.866838Z"
    },
    "papermill": {
     "duration": 0.136166,
     "end_time": "2022-06-16T02:14:51.868993",
     "exception": false,
     "start_time": "2022-06-16T02:14:51.732827",
     "status": "completed"
    },
    "tags": []
   },
   "outputs": [
    {
     "name": "stdout",
     "output_type": "stream",
     "text": [
      "CCNC / HIST1H3H: 0.0\n",
      "CCNC / CNPY3: 0.0\n",
      "CCNC / UST: 0.0\n",
      "CCNC / SLC16A10: 0.0\n",
      "HIST1H3H / CNPY3: 0.0\n",
      "HIST1H3H / UST: 0.0\n",
      "HIST1H3H / SLC16A10: 0.0\n",
      "CNPY3 / UST: 0.0\n",
      "CNPY3 / SLC16A10: 0.0\n",
      "UST / SLC16A10: 0.0\n"
     ]
    }
   ],
   "source": [
    "for gene_idx1 in range(0, len(selected_chromosome_genes_obj) - 1):\n",
    "    gene_obj1 = selected_chromosome_genes_obj[gene_idx1]\n",
    "\n",
    "    for gene_idx2 in range(gene_idx1 + 1, len(selected_chromosome_genes_obj)):\n",
    "        gene_obj2 = selected_chromosome_genes_obj[gene_idx2]\n",
    "\n",
    "        c = gene_obj1.get_ssm_correlation(\n",
    "            gene_obj2,\n",
    "        )\n",
    "\n",
    "        print(f\"{gene_obj1.name} / {gene_obj2.name}: {c}\")"
   ]
  },
  {
   "cell_type": "markdown",
   "id": "d3843e06",
   "metadata": {
    "papermill": {
     "duration": 0.007708,
     "end_time": "2022-06-16T02:14:51.885075",
     "exception": false,
     "start_time": "2022-06-16T02:14:51.877367",
     "status": "completed"
    },
    "tags": []
   },
   "source": [
    "# Compute correlation per chromosome"
   ]
  },
  {
   "cell_type": "code",
   "execution_count": 29,
   "id": "aa674fe4-6794-4eed-98fa-32b39d1d4ace",
   "metadata": {
    "execution": {
     "iopub.execute_input": "2022-06-16T02:14:51.901196Z",
     "iopub.status.busy": "2022-06-16T02:14:51.901014Z",
     "iopub.status.idle": "2022-06-16T02:14:51.917193Z",
     "shell.execute_reply": "2022-06-16T02:14:51.916663Z"
    },
    "papermill": {
     "duration": 0.025912,
     "end_time": "2022-06-16T02:14:51.918688",
     "exception": false,
     "start_time": "2022-06-16T02:14:51.892776",
     "status": "completed"
    },
    "tags": []
   },
   "outputs": [],
   "source": [
    "warnings.filterwarnings(\"error\")"
   ]
  },
  {
   "cell_type": "code",
   "execution_count": 30,
   "id": "cdbb90a1",
   "metadata": {
    "execution": {
     "iopub.execute_input": "2022-06-16T02:14:51.935964Z",
     "iopub.status.busy": "2022-06-16T02:14:51.935779Z",
     "iopub.status.idle": "2022-06-16T07:36:48.616021Z",
     "shell.execute_reply": "2022-06-16T07:36:48.615528Z"
    },
    "papermill": {
     "duration": 19319.20152,
     "end_time": "2022-06-16T07:36:51.128366",
     "exception": false,
     "start_time": "2022-06-16T02:14:51.926846",
     "status": "completed"
    },
    "tags": []
   },
   "outputs": [
    {
     "name": "stdout",
     "output_type": "stream",
     "text": [
      "Number of genes in chromosome: 339\n",
      "Chromosome 6\n",
      "Number of gene combinations: 57291\n"
     ]
    },
    {
     "name": "stderr",
     "output_type": "stream",
     "text": [
      "ENSG00000008018 / ENSG00000112592: 100%|████████████████████| 57291/57291 [5:21:56<00:00,  2.97it/s]"
     ]
    },
    {
     "name": "stdout",
     "output_type": "stream",
     "text": [
      "Min/max values: -0.9802120659145713 / 0.9953462652490928\n"
     ]
    },
    {
     "name": "stderr",
     "output_type": "stream",
     "text": [
      "\n"
     ]
    },
    {
     "data": {
      "text/plain": [
       "PosixPath('/opt/data/data/phenomexcan/ld_blocks/gene_corrs/gtex_v8/mashr/by_chr/gene_corrs-chr6.pkl')"
      ]
     },
     "metadata": {},
     "output_type": "display_data"
    }
   ],
   "source": [
    "# standard checks\n",
    "all_chrs = genes_info[\"chr\"].dropna().unique()\n",
    "assert all_chrs.shape[0] == 22\n",
    "\n",
    "# select chromosome given by the user\n",
    "assert chromosome in all_chrs\n",
    "\n",
    "# run only on the chromosome specified\n",
    "all_chrs = [chromosome]\n",
    "genes_chr = genes_info[genes_info[\"chr\"] == chromosome]\n",
    "print(f\"Number of genes in chromosome: {genes_chr.shape[0]}\", flush=True)\n",
    "\n",
    "# For testing purposes\n",
    "# genes_chr = genes_chr.sample(n=20)\n",
    "\n",
    "# sort genes by starting position to make visualizations better later\n",
    "genes_chr = genes_chr.sort_values(\"start_position\")\n",
    "\n",
    "\n",
    "for chr_num in all_chrs:\n",
    "    print(f\"Chromosome {chr_num}\", flush=True)\n",
    "\n",
    "    # check if results exist\n",
    "    output_dir = OUTPUT_DIR_BASE / \"by_chr\"\n",
    "    output_file = output_dir / f\"gene_corrs-chr{chr_num}.pkl\"\n",
    "\n",
    "    if output_file.exists():\n",
    "        _tmp_data = pd.read_pickle(output_file)\n",
    "\n",
    "        if _tmp_data.shape[0] > 0:\n",
    "            print(\"Already run, stopping.\")\n",
    "            continue\n",
    "\n",
    "    gene_chr_objs = [Gene(ensembl_id=gene_id) for gene_id in genes_chr[\"id\"]]\n",
    "    gene_chr_ids = [g.ensembl_id for g in gene_chr_objs]\n",
    "\n",
    "    n = len(gene_chr_objs)\n",
    "    n_comb = int(n * (n - 1) / 2.0)\n",
    "    print(f\"Number of gene combinations: {n_comb}\", flush=True)\n",
    "\n",
    "    gene_corrs = []\n",
    "\n",
    "    pbar = tqdm(ncols=100, total=n_comb)\n",
    "    i = 0\n",
    "    for gene_idx1 in range(0, len(gene_chr_objs) - 1):\n",
    "        gene_obj1 = gene_chr_objs[gene_idx1]\n",
    "\n",
    "        for gene_idx2 in range(gene_idx1 + 1, len(gene_chr_objs)):\n",
    "            gene_obj2 = gene_chr_objs[gene_idx2]\n",
    "\n",
    "            pbar.set_description(f\"{gene_obj1.ensembl_id} / {gene_obj2.ensembl_id}\")\n",
    "\n",
    "            try:\n",
    "                # FIXME: compute the correlation of the sum of squares of the model using all\n",
    "                # the available tissues; this could be problematic because for some results\n",
    "                # (computed on a specific phenotype/GWAS) we might not have all the tissues\n",
    "                # available, which can certainly bias the correlation estimation.\n",
    "                # Since this depends on the GWAS on a specific phenotype, we should ideally have\n",
    "                # one correlation matrix per GWAS. I should look at how we can improve this.\n",
    "                gene_corrs.append(\n",
    "                    gene_obj1.get_ssm_correlation(\n",
    "                        other_gene=gene_obj2,\n",
    "                        condition_number=SMULTIXCAN_CONDITION_NUMBER,\n",
    "                        reference_panel=REFERENCE_PANEL,\n",
    "                        model_type=EQTL_MODEL,\n",
    "                    )\n",
    "                )\n",
    "            except Warning:\n",
    "                print(\n",
    "                    f\"RuntimeWarning for genes {gene_obj1.ensembl_id} and {gene_obj2.ensembl_id}\",\n",
    "                    flush=True,\n",
    "                )\n",
    "                import traceback\n",
    "\n",
    "                print(traceback.format_exc(), flush=True)\n",
    "            except Exception as e:\n",
    "                print(\n",
    "                    f\"Exception for genes {gene_obj1.ensembl_id} and {gene_obj2.ensembl_id}\",\n",
    "                    flush=True,\n",
    "                )\n",
    "                import traceback\n",
    "\n",
    "                print(traceback.format_exc(), flush=True)\n",
    "                gene_corrs.append(np.nan)\n",
    "\n",
    "            pbar.update(1)\n",
    "\n",
    "    pbar.close()\n",
    "\n",
    "    # testing\n",
    "    gene_corrs_flat = pd.Series(gene_corrs)\n",
    "    print(f\"Min/max values: {gene_corrs_flat.min()} / {gene_corrs_flat.max()}\")\n",
    "    assert gene_corrs_flat.min() >= -1.001\n",
    "    assert gene_corrs_flat.max() <= 1.001\n",
    "\n",
    "    # save\n",
    "    # FIXME: consider saving only the condenced matrix here. See here for\n",
    "    # more details: https://github.com/greenelab/phenoplier/pull/38#discussion_r634600813\n",
    "    gene_corrs_data = squareform(np.array(gene_corrs, dtype=np.float64))\n",
    "    np.fill_diagonal(gene_corrs_data, 1.0)\n",
    "\n",
    "    gene_corrs_df = pd.DataFrame(\n",
    "        data=gene_corrs_data,\n",
    "        index=gene_chr_ids,\n",
    "        columns=gene_chr_ids,\n",
    "    )\n",
    "\n",
    "    output_dir.mkdir(exist_ok=True, parents=True)\n",
    "    display(output_file)\n",
    "\n",
    "    gene_corrs_df.to_pickle(output_file)"
   ]
  },
  {
   "cell_type": "markdown",
   "id": "faa67b51-5373-470f-aa72-2ded53fa6dfe",
   "metadata": {
    "papermill": {
     "duration": 2.418228,
     "end_time": "2022-06-16T07:36:56.030296",
     "exception": false,
     "start_time": "2022-06-16T07:36:53.612068",
     "status": "completed"
    },
    "tags": []
   },
   "source": [
    "# Testing"
   ]
  },
  {
   "cell_type": "code",
   "execution_count": 31,
   "id": "14f7d046-4b55-4896-a56b-990127bcc388",
   "metadata": {
    "execution": {
     "iopub.execute_input": "2022-06-16T07:37:01.213157Z",
     "iopub.status.busy": "2022-06-16T07:37:01.212967Z",
     "iopub.status.idle": "2022-06-16T07:37:01.232881Z",
     "shell.execute_reply": "2022-06-16T07:37:01.232387Z"
    },
    "papermill": {
     "duration": 2.663662,
     "end_time": "2022-06-16T07:37:01.234559",
     "exception": false,
     "start_time": "2022-06-16T07:36:58.570897",
     "status": "completed"
    },
    "tags": []
   },
   "outputs": [
    {
     "data": {
      "text/plain": [
       "(339, 339)"
      ]
     },
     "execution_count": 31,
     "metadata": {},
     "output_type": "execute_result"
    }
   ],
   "source": [
    "gene_corrs_df.shape"
   ]
  },
  {
   "cell_type": "code",
   "execution_count": 32,
   "id": "c7d15414-3297-4537-a7c6-7588c0baeb75",
   "metadata": {
    "execution": {
     "iopub.execute_input": "2022-06-16T07:37:06.132386Z",
     "iopub.status.busy": "2022-06-16T07:37:06.132204Z",
     "iopub.status.idle": "2022-06-16T07:37:06.164154Z",
     "shell.execute_reply": "2022-06-16T07:37:06.163523Z"
    },
    "papermill": {
     "duration": 2.460547,
     "end_time": "2022-06-16T07:37:06.165658",
     "exception": false,
     "start_time": "2022-06-16T07:37:03.705111",
     "status": "completed"
    },
    "tags": []
   },
   "outputs": [
    {
     "data": {
      "text/html": [
       "<div>\n",
       "<style scoped>\n",
       "    .dataframe tbody tr th:only-of-type {\n",
       "        vertical-align: middle;\n",
       "    }\n",
       "\n",
       "    .dataframe tbody tr th {\n",
       "        vertical-align: top;\n",
       "    }\n",
       "\n",
       "    .dataframe thead th {\n",
       "        text-align: right;\n",
       "    }\n",
       "</style>\n",
       "<table border=\"1\" class=\"dataframe\">\n",
       "  <thead>\n",
       "    <tr style=\"text-align: right;\">\n",
       "      <th></th>\n",
       "      <th>ENSG00000137265</th>\n",
       "      <th>ENSG00000112685</th>\n",
       "      <th>ENSG00000112699</th>\n",
       "      <th>ENSG00000124570</th>\n",
       "      <th>ENSG00000137275</th>\n",
       "      <th>ENSG00000137267</th>\n",
       "      <th>ENSG00000112739</th>\n",
       "      <th>ENSG00000153046</th>\n",
       "      <th>ENSG00000145982</th>\n",
       "      <th>ENSG00000124491</th>\n",
       "      <th>...</th>\n",
       "      <th>ENSG00000146477</th>\n",
       "      <th>ENSG00000085511</th>\n",
       "      <th>ENSG00000026652</th>\n",
       "      <th>ENSG00000071242</th>\n",
       "      <th>ENSG00000213066</th>\n",
       "      <th>ENSG00000112486</th>\n",
       "      <th>ENSG00000186340</th>\n",
       "      <th>ENSG00000198719</th>\n",
       "      <th>ENSG00000008018</th>\n",
       "      <th>ENSG00000112592</th>\n",
       "    </tr>\n",
       "  </thead>\n",
       "  <tbody>\n",
       "    <tr>\n",
       "      <th>ENSG00000137265</th>\n",
       "      <td>1.000000</td>\n",
       "      <td>-0.278090</td>\n",
       "      <td>-0.177070</td>\n",
       "      <td>0.098278</td>\n",
       "      <td>0.009275</td>\n",
       "      <td>0.019001</td>\n",
       "      <td>-0.110031</td>\n",
       "      <td>0.016630</td>\n",
       "      <td>0.095397</td>\n",
       "      <td>0.000000</td>\n",
       "      <td>...</td>\n",
       "      <td>0.0</td>\n",
       "      <td>0.0</td>\n",
       "      <td>0.0</td>\n",
       "      <td>0.0</td>\n",
       "      <td>0.0</td>\n",
       "      <td>0.0</td>\n",
       "      <td>0.0</td>\n",
       "      <td>0.0</td>\n",
       "      <td>0.0</td>\n",
       "      <td>0.0</td>\n",
       "    </tr>\n",
       "    <tr>\n",
       "      <th>ENSG00000112685</th>\n",
       "      <td>-0.278090</td>\n",
       "      <td>1.000000</td>\n",
       "      <td>-0.101521</td>\n",
       "      <td>-0.080383</td>\n",
       "      <td>0.240844</td>\n",
       "      <td>0.101419</td>\n",
       "      <td>0.188779</td>\n",
       "      <td>0.016102</td>\n",
       "      <td>0.016655</td>\n",
       "      <td>0.000000</td>\n",
       "      <td>...</td>\n",
       "      <td>0.0</td>\n",
       "      <td>0.0</td>\n",
       "      <td>0.0</td>\n",
       "      <td>0.0</td>\n",
       "      <td>0.0</td>\n",
       "      <td>0.0</td>\n",
       "      <td>0.0</td>\n",
       "      <td>0.0</td>\n",
       "      <td>0.0</td>\n",
       "      <td>0.0</td>\n",
       "    </tr>\n",
       "    <tr>\n",
       "      <th>ENSG00000112699</th>\n",
       "      <td>-0.177070</td>\n",
       "      <td>-0.101521</td>\n",
       "      <td>1.000000</td>\n",
       "      <td>-0.069150</td>\n",
       "      <td>0.007904</td>\n",
       "      <td>-0.071628</td>\n",
       "      <td>-0.129614</td>\n",
       "      <td>0.013593</td>\n",
       "      <td>-0.050332</td>\n",
       "      <td>0.086229</td>\n",
       "      <td>...</td>\n",
       "      <td>0.0</td>\n",
       "      <td>0.0</td>\n",
       "      <td>0.0</td>\n",
       "      <td>0.0</td>\n",
       "      <td>0.0</td>\n",
       "      <td>0.0</td>\n",
       "      <td>0.0</td>\n",
       "      <td>0.0</td>\n",
       "      <td>0.0</td>\n",
       "      <td>0.0</td>\n",
       "    </tr>\n",
       "    <tr>\n",
       "      <th>ENSG00000124570</th>\n",
       "      <td>0.098278</td>\n",
       "      <td>-0.080383</td>\n",
       "      <td>-0.069150</td>\n",
       "      <td>1.000000</td>\n",
       "      <td>0.193548</td>\n",
       "      <td>0.079518</td>\n",
       "      <td>-0.037312</td>\n",
       "      <td>-0.024305</td>\n",
       "      <td>0.029618</td>\n",
       "      <td>-0.017360</td>\n",
       "      <td>...</td>\n",
       "      <td>0.0</td>\n",
       "      <td>0.0</td>\n",
       "      <td>0.0</td>\n",
       "      <td>0.0</td>\n",
       "      <td>0.0</td>\n",
       "      <td>0.0</td>\n",
       "      <td>0.0</td>\n",
       "      <td>0.0</td>\n",
       "      <td>0.0</td>\n",
       "      <td>0.0</td>\n",
       "    </tr>\n",
       "    <tr>\n",
       "      <th>ENSG00000137275</th>\n",
       "      <td>0.009275</td>\n",
       "      <td>0.240844</td>\n",
       "      <td>0.007904</td>\n",
       "      <td>0.193548</td>\n",
       "      <td>1.000000</td>\n",
       "      <td>-0.065167</td>\n",
       "      <td>-0.016673</td>\n",
       "      <td>-0.162611</td>\n",
       "      <td>-0.077147</td>\n",
       "      <td>-0.075485</td>\n",
       "      <td>...</td>\n",
       "      <td>0.0</td>\n",
       "      <td>0.0</td>\n",
       "      <td>0.0</td>\n",
       "      <td>0.0</td>\n",
       "      <td>0.0</td>\n",
       "      <td>0.0</td>\n",
       "      <td>0.0</td>\n",
       "      <td>0.0</td>\n",
       "      <td>0.0</td>\n",
       "      <td>0.0</td>\n",
       "    </tr>\n",
       "  </tbody>\n",
       "</table>\n",
       "<p>5 rows × 339 columns</p>\n",
       "</div>"
      ],
      "text/plain": [
       "                 ENSG00000137265  ENSG00000112685  ENSG00000112699  \\\n",
       "ENSG00000137265         1.000000        -0.278090        -0.177070   \n",
       "ENSG00000112685        -0.278090         1.000000        -0.101521   \n",
       "ENSG00000112699        -0.177070        -0.101521         1.000000   \n",
       "ENSG00000124570         0.098278        -0.080383        -0.069150   \n",
       "ENSG00000137275         0.009275         0.240844         0.007904   \n",
       "\n",
       "                 ENSG00000124570  ENSG00000137275  ENSG00000137267  \\\n",
       "ENSG00000137265         0.098278         0.009275         0.019001   \n",
       "ENSG00000112685        -0.080383         0.240844         0.101419   \n",
       "ENSG00000112699        -0.069150         0.007904        -0.071628   \n",
       "ENSG00000124570         1.000000         0.193548         0.079518   \n",
       "ENSG00000137275         0.193548         1.000000        -0.065167   \n",
       "\n",
       "                 ENSG00000112739  ENSG00000153046  ENSG00000145982  \\\n",
       "ENSG00000137265        -0.110031         0.016630         0.095397   \n",
       "ENSG00000112685         0.188779         0.016102         0.016655   \n",
       "ENSG00000112699        -0.129614         0.013593        -0.050332   \n",
       "ENSG00000124570        -0.037312        -0.024305         0.029618   \n",
       "ENSG00000137275        -0.016673        -0.162611        -0.077147   \n",
       "\n",
       "                 ENSG00000124491  ...  ENSG00000146477  ENSG00000085511  \\\n",
       "ENSG00000137265         0.000000  ...              0.0              0.0   \n",
       "ENSG00000112685         0.000000  ...              0.0              0.0   \n",
       "ENSG00000112699         0.086229  ...              0.0              0.0   \n",
       "ENSG00000124570        -0.017360  ...              0.0              0.0   \n",
       "ENSG00000137275        -0.075485  ...              0.0              0.0   \n",
       "\n",
       "                 ENSG00000026652  ENSG00000071242  ENSG00000213066  \\\n",
       "ENSG00000137265              0.0              0.0              0.0   \n",
       "ENSG00000112685              0.0              0.0              0.0   \n",
       "ENSG00000112699              0.0              0.0              0.0   \n",
       "ENSG00000124570              0.0              0.0              0.0   \n",
       "ENSG00000137275              0.0              0.0              0.0   \n",
       "\n",
       "                 ENSG00000112486  ENSG00000186340  ENSG00000198719  \\\n",
       "ENSG00000137265              0.0              0.0              0.0   \n",
       "ENSG00000112685              0.0              0.0              0.0   \n",
       "ENSG00000112699              0.0              0.0              0.0   \n",
       "ENSG00000124570              0.0              0.0              0.0   \n",
       "ENSG00000137275              0.0              0.0              0.0   \n",
       "\n",
       "                 ENSG00000008018  ENSG00000112592  \n",
       "ENSG00000137265              0.0              0.0  \n",
       "ENSG00000112685              0.0              0.0  \n",
       "ENSG00000112699              0.0              0.0  \n",
       "ENSG00000124570              0.0              0.0  \n",
       "ENSG00000137275              0.0              0.0  \n",
       "\n",
       "[5 rows x 339 columns]"
      ]
     },
     "execution_count": 32,
     "metadata": {},
     "output_type": "execute_result"
    }
   ],
   "source": [
    "gene_corrs_df.head()"
   ]
  },
  {
   "cell_type": "code",
   "execution_count": 33,
   "id": "00583efc-7068-4270-ad1e-4a418e91db96",
   "metadata": {
    "execution": {
     "iopub.execute_input": "2022-06-16T07:37:11.077334Z",
     "iopub.status.busy": "2022-06-16T07:37:11.077151Z",
     "iopub.status.idle": "2022-06-16T07:37:11.095949Z",
     "shell.execute_reply": "2022-06-16T07:37:11.095352Z"
    },
    "papermill": {
     "duration": 2.446176,
     "end_time": "2022-06-16T07:37:11.097305",
     "exception": false,
     "start_time": "2022-06-16T07:37:08.651129",
     "status": "completed"
    },
    "tags": []
   },
   "outputs": [
    {
     "data": {
      "text/plain": [
       "-0.9802120659145713"
      ]
     },
     "metadata": {},
     "output_type": "display_data"
    }
   ],
   "source": [
    "_min_val = gene_corrs_df.min().min()\n",
    "display(_min_val)\n",
    "assert _min_val >= -1.0"
   ]
  },
  {
   "cell_type": "code",
   "execution_count": 34,
   "id": "d04fb2cf-1050-475b-b855-f5f7cc04092b",
   "metadata": {
    "execution": {
     "iopub.execute_input": "2022-06-16T07:37:15.989881Z",
     "iopub.status.busy": "2022-06-16T07:37:15.989706Z",
     "iopub.status.idle": "2022-06-16T07:37:16.009337Z",
     "shell.execute_reply": "2022-06-16T07:37:16.008713Z"
    },
    "papermill": {
     "duration": 2.424221,
     "end_time": "2022-06-16T07:37:16.010798",
     "exception": false,
     "start_time": "2022-06-16T07:37:13.586577",
     "status": "completed"
    },
    "tags": []
   },
   "outputs": [
    {
     "data": {
      "text/plain": [
       "1.0"
      ]
     },
     "metadata": {},
     "output_type": "display_data"
    }
   ],
   "source": [
    "_max_val = gene_corrs_df.max().max()  # this captures the diagonal\n",
    "display(_max_val)\n",
    "assert _max_val <= 1.0"
   ]
  },
  {
   "cell_type": "code",
   "execution_count": 35,
   "id": "96d02c44-1fba-47be-8a93-8f2608420b9c",
   "metadata": {
    "execution": {
     "iopub.execute_input": "2022-06-16T07:37:20.965654Z",
     "iopub.status.busy": "2022-06-16T07:37:20.965462Z",
     "iopub.status.idle": "2022-06-16T07:37:20.981466Z",
     "shell.execute_reply": "2022-06-16T07:37:20.980963Z"
    },
    "papermill": {
     "duration": 2.469979,
     "end_time": "2022-06-16T07:37:20.982928",
     "exception": false,
     "start_time": "2022-06-16T07:37:18.512949",
     "status": "completed"
    },
    "tags": []
   },
   "outputs": [],
   "source": [
    "# check upper triangular values\n",
    "assert len(gene_corrs) == int(genes_chr.shape[0] * (genes_chr.shape[0] - 1) / 2)"
   ]
  },
  {
   "cell_type": "code",
   "execution_count": 36,
   "id": "aaa51627-f4e3-4744-a41f-7d25adcc0a78",
   "metadata": {
    "execution": {
     "iopub.execute_input": "2022-06-16T07:37:25.936532Z",
     "iopub.status.busy": "2022-06-16T07:37:25.936297Z",
     "iopub.status.idle": "2022-06-16T07:37:25.958171Z",
     "shell.execute_reply": "2022-06-16T07:37:25.957622Z"
    },
    "papermill": {
     "duration": 2.506738,
     "end_time": "2022-06-16T07:37:25.959595",
     "exception": false,
     "start_time": "2022-06-16T07:37:23.452857",
     "status": "completed"
    },
    "tags": []
   },
   "outputs": [],
   "source": [
    "gene_corrs = pd.Series(gene_corrs)"
   ]
  },
  {
   "cell_type": "code",
   "execution_count": 37,
   "id": "fe283586-c348-40e0-8841-f6d97bfb021c",
   "metadata": {
    "execution": {
     "iopub.execute_input": "2022-06-16T07:37:30.814436Z",
     "iopub.status.busy": "2022-06-16T07:37:30.814251Z",
     "iopub.status.idle": "2022-06-16T07:37:30.836309Z",
     "shell.execute_reply": "2022-06-16T07:37:30.835732Z"
    },
    "papermill": {
     "duration": 2.411498,
     "end_time": "2022-06-16T07:37:30.837754",
     "exception": false,
     "start_time": "2022-06-16T07:37:28.426256",
     "status": "completed"
    },
    "tags": []
   },
   "outputs": [
    {
     "data": {
      "text/plain": [
       "count    57291.000000\n",
       "mean         0.000123\n",
       "std          0.048118\n",
       "min         -0.980212\n",
       "25%          0.000000\n",
       "50%          0.000000\n",
       "75%          0.000000\n",
       "max          0.995346\n",
       "dtype: float64"
      ]
     },
     "execution_count": 37,
     "metadata": {},
     "output_type": "execute_result"
    }
   ],
   "source": [
    "gene_corrs.describe()"
   ]
  },
  {
   "cell_type": "code",
   "execution_count": 38,
   "id": "b3815678-0f93-4b35-897b-a9d047a2aa78",
   "metadata": {
    "execution": {
     "iopub.execute_input": "2022-06-16T07:37:35.762277Z",
     "iopub.status.busy": "2022-06-16T07:37:35.762076Z",
     "iopub.status.idle": "2022-06-16T07:37:35.782033Z",
     "shell.execute_reply": "2022-06-16T07:37:35.781455Z"
    },
    "papermill": {
     "duration": 2.435097,
     "end_time": "2022-06-16T07:37:35.783461",
     "exception": false,
     "start_time": "2022-06-16T07:37:33.348364",
     "status": "completed"
    },
    "tags": []
   },
   "outputs": [
    {
     "data": {
      "text/plain": [
       "0.00   -0.980212\n",
       "0.05   -0.015567\n",
       "0.10    0.000000\n",
       "0.15    0.000000\n",
       "0.20    0.000000\n",
       "0.25    0.000000\n",
       "0.30    0.000000\n",
       "0.35    0.000000\n",
       "0.40    0.000000\n",
       "0.45    0.000000\n",
       "0.50    0.000000\n",
       "0.55    0.000000\n",
       "0.60    0.000000\n",
       "0.65    0.000000\n",
       "0.70    0.000000\n",
       "0.75    0.000000\n",
       "0.80    0.000000\n",
       "0.85    0.000000\n",
       "0.90    0.000000\n",
       "0.95    0.016233\n",
       "dtype: float64"
      ]
     },
     "metadata": {},
     "output_type": "display_data"
    }
   ],
   "source": [
    "gene_corrs_quantiles = gene_corrs.quantile(np.arange(0, 1, 0.05))\n",
    "display(gene_corrs_quantiles)"
   ]
  },
  {
   "cell_type": "markdown",
   "id": "8e60a080-edb2-4e9c-b2ef-22961693200c",
   "metadata": {
    "papermill": {
     "duration": 2.392668,
     "end_time": "2022-06-16T07:37:40.553558",
     "exception": false,
     "start_time": "2022-06-16T07:37:38.160890",
     "status": "completed"
    },
    "tags": []
   },
   "source": [
    "## Plot: distribution"
   ]
  },
  {
   "cell_type": "code",
   "execution_count": 39,
   "id": "8301126b-a7d4-4744-9c7d-f0f86eb6f54c",
   "metadata": {
    "execution": {
     "iopub.execute_input": "2022-06-16T07:37:45.462760Z",
     "iopub.status.busy": "2022-06-16T07:37:45.462455Z",
     "iopub.status.idle": "2022-06-16T07:37:45.957514Z",
     "shell.execute_reply": "2022-06-16T07:37:45.956945Z"
    },
    "papermill": {
     "duration": 2.923691,
     "end_time": "2022-06-16T07:37:45.958930",
     "exception": false,
     "start_time": "2022-06-16T07:37:43.035239",
     "status": "completed"
    },
    "tags": []
   },
   "outputs": [
    {
     "data": {
      "image/png": "[encoded data removed]",
      "text/plain": [
       "<Figure size 504x504 with 1 Axes>"
      ]
     },
     "metadata": {
      "needs_background": "light"
     },
     "output_type": "display_data"
    }
   ],
   "source": [
    "with sns.plotting_context(\"paper\", font_scale=1.5):\n",
    "    g = sns.displot(gene_corrs, kde=True, height=7)\n",
    "    g.ax.set_title(\n",
    "        f\"Distribution of gene correlation values in chromosome {chromosome}\"\n",
    "    )"
   ]
  },
  {
   "cell_type": "markdown",
   "id": "cbd52bca-d878-4a2f-b684-5c83aa3038d4",
   "metadata": {
    "papermill": {
     "duration": 2.402694,
     "end_time": "2022-06-16T07:37:50.852827",
     "exception": false,
     "start_time": "2022-06-16T07:37:48.450133",
     "status": "completed"
    },
    "tags": []
   },
   "source": [
    "## Plot: heatmap"
   ]
  },
  {
   "cell_type": "code",
   "execution_count": 40,
   "id": "d03fe63a-c7b2-4fb9-a53c-db362ce843c9",
   "metadata": {
    "execution": {
     "iopub.execute_input": "2022-06-16T07:37:55.751020Z",
     "iopub.status.busy": "2022-06-16T07:37:55.749829Z",
     "iopub.status.idle": "2022-06-16T07:37:55.772074Z",
     "shell.execute_reply": "2022-06-16T07:37:55.771578Z"
    },
    "papermill": {
     "duration": 2.44661,
     "end_time": "2022-06-16T07:37:55.773842",
     "exception": false,
     "start_time": "2022-06-16T07:37:53.327232",
     "status": "completed"
    },
    "tags": []
   },
   "outputs": [
    {
     "data": {
      "text/plain": [
       "'-0.05 / 0.05'"
      ]
     },
     "metadata": {},
     "output_type": "display_data"
    }
   ],
   "source": [
    "vmin_val = min(-0.05, gene_corrs_quantiles[0.10])\n",
    "vmax_val = max(0.05, gene_corrs_quantiles[0.90])\n",
    "display(f\"{vmin_val} / {vmax_val}\")"
   ]
  },
  {
   "cell_type": "code",
   "execution_count": 41,
   "id": "dc41b70b-5bcc-4d9e-9f33-a22c4a94dab5",
   "metadata": {
    "execution": {
     "iopub.execute_input": "2022-06-16T07:38:00.634121Z",
     "iopub.status.busy": "2022-06-16T07:38:00.633939Z",
     "iopub.status.idle": "2022-06-16T07:38:00.870360Z",
     "shell.execute_reply": "2022-06-16T07:38:00.868916Z"
    },
    "papermill": {
     "duration": 2.609614,
     "end_time": "2022-06-16T07:38:00.871760",
     "exception": false,
     "start_time": "2022-06-16T07:37:58.262146",
     "status": "completed"
    },
    "tags": []
   },
   "outputs": [
    {
     "data": {
      "text/plain": [
       "Text(0.5, 1.0, 'Gene correlations in chromosome 6')"
      ]
     },
     "execution_count": 41,
     "metadata": {},
     "output_type": "execute_result"
    },
    {
     "data": {
      "image/png": "[encoded data removed]",
      "text/plain": [
       "<Figure size 720x720 with 2 Axes>"
      ]
     },
     "metadata": {
      "needs_background": "light"
     },
     "output_type": "display_data"
    }
   ],
   "source": [
    "f, ax = plt.subplots(figsize=(10, 10))\n",
    "sns.heatmap(\n",
    "    gene_corrs_df,\n",
    "    xticklabels=False,\n",
    "    yticklabels=False,\n",
    "    square=True,\n",
    "    vmin=vmin_val,\n",
    "    vmax=vmax_val,\n",
    "    cmap=\"YlGnBu\",\n",
    "    ax=ax,\n",
    ")\n",
    "ax.set_title(f\"Gene correlations in chromosome {chromosome}\")"
   ]
  },
  {
   "cell_type": "code",
   "execution_count": null,
   "id": "b25e3ead",
   "metadata": {
    "papermill": {
     "duration": 2.404033,
     "end_time": "2022-06-16T07:38:05.759105",
     "exception": false,
     "start_time": "2022-06-16T07:38:03.355072",
     "status": "completed"
    },
    "tags": []
   },
   "outputs": [],
   "source": []
  }
 ],
 "metadata": {
  "jupytext": {
   "cell_metadata_filter": "all,-execution,-papermill,-trusted",
   "formats": "ipynb,py//py:percent"
  },
  "kernelspec": {
   "display_name": "Python 3 (ipykernel)",
   "language": "python",
   "name": "python3"
  },
  "language_info": {
   "codemirror_mode": {
    "name": "ipython",
    "version": 3
   },
   "file_extension": ".py",
   "mimetype": "text/x-python",
   "name": "python",
   "nbconvert_exporter": "python",
   "pygments_lexer": "ipython3",
   "version": "3.8.13"
  },
  "papermill": {
   "default_parameters": {},
   "duration": 19405.576097,
   "end_time": "2022-06-16T07:38:11.823628",
   "environment_variables": {},
   "exception": null,
   "input_path": "nbs/15_gsa_gls/10-gene_expr_correlations.ipynb",
   "output_path": "nbs/15_gsa_gls/gene_corrs/gtex_v8/mashr/10-gene_expr_correlations-chr6.run.ipynb",
   "parameters": {
    "EQTL_MODEL": "MASHR",
    "REFERENCE_PANEL": "GTEX_V8",
    "chromosome": 6
   },
   "start_time": "2022-06-16T02:14:46.247531",
   "version": "2.2.2"
  }
 },
 "nbformat": 4,
 "nbformat_minor": 5
}
