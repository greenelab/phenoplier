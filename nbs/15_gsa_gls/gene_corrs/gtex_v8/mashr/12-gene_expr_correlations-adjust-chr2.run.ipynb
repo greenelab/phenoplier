{
 "cells": [
  {
   "cell_type": "markdown",
   "id": "6c1f0ae4-cd27-4fec-a23d-51699e7059e8",
   "metadata": {
    "papermill": {
     "duration": 0.008031,
     "end_time": "2022-06-18T11:49:53.037632",
     "exception": false,
     "start_time": "2022-06-18T11:49:53.029601",
     "status": "completed"
    },
    "tags": []
   },
   "source": [
    "# Description"
   ]
  },
  {
   "cell_type": "markdown",
   "id": "3268a19a-8a83-4f61-aa39-09b084c81d61",
   "metadata": {
    "papermill": {
     "duration": 0.00402,
     "end_time": "2022-06-18T11:49:53.045889",
     "exception": false,
     "start_time": "2022-06-18T11:49:53.041869",
     "status": "completed"
    },
    "tags": []
   },
   "source": [
    "**TODO**"
   ]
  },
  {
   "cell_type": "markdown",
   "id": "401368d3-22c1-4d81-a2c3-c4a81fde4191",
   "metadata": {
    "papermill": {
     "duration": 0.004402,
     "end_time": "2022-06-18T11:49:53.054444",
     "exception": false,
     "start_time": "2022-06-18T11:49:53.050042",
     "status": "completed"
    },
    "tags": []
   },
   "source": [
    "# Modules"
   ]
  },
  {
   "cell_type": "code",
   "execution_count": 1,
   "id": "f9b5022b-7c5e-4d37-9c7a-fdb91777c7f9",
   "metadata": {
    "execution": {
     "iopub.execute_input": "2022-06-18T11:49:53.095524Z",
     "iopub.status.busy": "2022-06-18T11:49:53.093099Z",
     "iopub.status.idle": "2022-06-18T11:49:56.354007Z",
     "shell.execute_reply": "2022-06-18T11:49:56.352671Z"
    },
    "papermill": {
     "duration": 3.297634,
     "end_time": "2022-06-18T11:49:56.356308",
     "exception": false,
     "start_time": "2022-06-18T11:49:53.058674",
     "status": "completed"
    },
    "tags": []
   },
   "outputs": [],
   "source": [
    "library(reticulate)\n",
    "pd <- import(\"pandas\")"
   ]
  },
  {
   "cell_type": "markdown",
   "id": "c1958d6a-0229-47e8-823e-792fcf84fccf",
   "metadata": {
    "papermill": {
     "duration": 0.004511,
     "end_time": "2022-06-18T11:49:56.365575",
     "exception": false,
     "start_time": "2022-06-18T11:49:56.361064",
     "status": "completed"
    },
    "tags": []
   },
   "source": [
    "# Settings"
   ]
  },
  {
   "cell_type": "code",
   "execution_count": 2,
   "id": "22d12bb4-1699-4a6b-b1b9-d3fdd3d547d7",
   "metadata": {
    "execution": {
     "iopub.execute_input": "2022-06-18T11:49:56.397479Z",
     "iopub.status.busy": "2022-06-18T11:49:56.375754Z",
     "iopub.status.idle": "2022-06-18T11:49:56.409878Z",
     "shell.execute_reply": "2022-06-18T11:49:56.408643Z"
    },
    "papermill": {
     "duration": 0.041703,
     "end_time": "2022-06-18T11:49:56.411836",
     "exception": false,
     "start_time": "2022-06-18T11:49:56.370133",
     "status": "completed"
    },
    "tags": [
     "parameters"
    ]
   },
   "outputs": [],
   "source": [
    "# reference panel\n",
    "REFERENCE_PANEL <- \"GTEX_V8\"\n",
    "# REFERENCE_PANEL = \"1000G\"\n",
    "\n",
    "# prediction models\n",
    "## mashr\n",
    "EQTL_MODEL <- \"MASHR\"\n",
    "\n",
    "# ## elastic net\n",
    "# EQTL_MODEL = \"ELASTIC_NET\"\n",
    "\n",
    "chromosome <- NULL"
   ]
  },
  {
   "cell_type": "code",
   "execution_count": 3,
   "id": "3c7121d2",
   "metadata": {
    "execution": {
     "iopub.execute_input": "2022-06-18T11:49:56.434711Z",
     "iopub.status.busy": "2022-06-18T11:49:56.433544Z",
     "iopub.status.idle": "2022-06-18T11:49:56.452032Z",
     "shell.execute_reply": "2022-06-18T11:49:56.450662Z"
    },
    "papermill": {
     "duration": 0.029209,
     "end_time": "2022-06-18T11:49:56.453911",
     "exception": false,
     "start_time": "2022-06-18T11:49:56.424702",
     "status": "completed"
    },
    "tags": [
     "injected-parameters"
    ]
   },
   "outputs": [],
   "source": [
    "# Parameters\n",
    "chromosome = 2\n",
    "REFERENCE_PANEL = \"GTEX_V8\"\n",
    "EQTL_MODEL = \"MASHR\"\n"
   ]
  },
  {
   "cell_type": "code",
   "execution_count": 4,
   "id": "8fe24bef",
   "metadata": {
    "execution": {
     "iopub.execute_input": "2022-06-18T11:49:56.466382Z",
     "iopub.status.busy": "2022-06-18T11:49:56.465304Z",
     "iopub.status.idle": "2022-06-18T11:49:56.478597Z",
     "shell.execute_reply": "2022-06-18T11:49:56.477239Z"
    },
    "papermill": {
     "duration": 0.021215,
     "end_time": "2022-06-18T11:49:56.480366",
     "exception": false,
     "start_time": "2022-06-18T11:49:56.459151",
     "status": "completed"
    },
    "tags": []
   },
   "outputs": [
    {
     "data": {
      "text/html": [
       "'Using reference panel: GTEX_V8'"
      ],
      "text/latex": [
       "'Using reference panel: GTEX\\_V8'"
      ],
      "text/markdown": [
       "'Using reference panel: GTEX_V8'"
      ],
      "text/plain": [
       "[1] \"Using reference panel: GTEX_V8\""
      ]
     },
     "metadata": {},
     "output_type": "display_data"
    }
   ],
   "source": [
    "paste0(\"Using reference panel: \", REFERENCE_PANEL)"
   ]
  },
  {
   "cell_type": "code",
   "execution_count": 5,
   "id": "d62c28f8-186c-478b-948c-58e14f00df4b",
   "metadata": {
    "execution": {
     "iopub.execute_input": "2022-06-18T11:49:56.495369Z",
     "iopub.status.busy": "2022-06-18T11:49:56.494243Z",
     "iopub.status.idle": "2022-06-18T11:49:56.505845Z",
     "shell.execute_reply": "2022-06-18T11:49:56.504551Z"
    },
    "papermill": {
     "duration": 0.021705,
     "end_time": "2022-06-18T11:49:56.507730",
     "exception": false,
     "start_time": "2022-06-18T11:49:56.486025",
     "status": "completed"
    },
    "tags": []
   },
   "outputs": [
    {
     "data": {
      "text/html": [
       "'Using eQTL model: MASHR'"
      ],
      "text/latex": [
       "'Using eQTL model: MASHR'"
      ],
      "text/markdown": [
       "'Using eQTL model: MASHR'"
      ],
      "text/plain": [
       "[1] \"Using eQTL model: MASHR\""
      ]
     },
     "metadata": {},
     "output_type": "display_data"
    }
   ],
   "source": [
    "paste0(\"Using eQTL model: \", EQTL_MODEL)"
   ]
  },
  {
   "cell_type": "code",
   "execution_count": 6,
   "id": "5243676f-c889-4405-9a4d-262f0f044614",
   "metadata": {
    "execution": {
     "iopub.execute_input": "2022-06-18T11:49:56.523426Z",
     "iopub.status.busy": "2022-06-18T11:49:56.522273Z",
     "iopub.status.idle": "2022-06-18T11:49:56.532130Z",
     "shell.execute_reply": "2022-06-18T11:49:56.530905Z"
    },
    "papermill": {
     "duration": 0.019166,
     "end_time": "2022-06-18T11:49:56.534062",
     "exception": false,
     "start_time": "2022-06-18T11:49:56.514896",
     "status": "completed"
    },
    "tags": []
   },
   "outputs": [],
   "source": [
    "# chromosome must be provided as parameter\n",
    "stopifnot(!is.null(chromosome))"
   ]
  },
  {
   "cell_type": "markdown",
   "id": "83a49773-bcf5-44c4-8d9b-a6ac65a57ec6",
   "metadata": {
    "papermill": {
     "duration": 0.005339,
     "end_time": "2022-06-18T11:49:56.545336",
     "exception": false,
     "start_time": "2022-06-18T11:49:56.539997",
     "status": "completed"
    },
    "tags": []
   },
   "source": [
    "# Paths"
   ]
  },
  {
   "cell_type": "code",
   "execution_count": 7,
   "id": "eb6aa8aa-b452-4a2f-a780-93dd80ad4285",
   "metadata": {
    "execution": {
     "iopub.execute_input": "2022-06-18T11:49:56.558454Z",
     "iopub.status.busy": "2022-06-18T11:49:56.557026Z",
     "iopub.status.idle": "2022-06-18T11:49:56.569263Z",
     "shell.execute_reply": "2022-06-18T11:49:56.568115Z"
    },
    "papermill": {
     "duration": 0.021,
     "end_time": "2022-06-18T11:49:56.571735",
     "exception": false,
     "start_time": "2022-06-18T11:49:56.550735",
     "status": "completed"
    },
    "tags": []
   },
   "outputs": [
    {
     "data": {
      "text/html": [
       "'/opt/data/data/phenomexcan/ld_blocks/gene_corrs'"
      ],
      "text/latex": [
       "'/opt/data/data/phenomexcan/ld\\_blocks/gene\\_corrs'"
      ],
      "text/markdown": [
       "'/opt/data/data/phenomexcan/ld_blocks/gene_corrs'"
      ],
      "text/plain": [
       "[1] \"/opt/data/data/phenomexcan/ld_blocks/gene_corrs\""
      ]
     },
     "metadata": {},
     "output_type": "display_data"
    }
   ],
   "source": [
    "GENE_CORRS_DIR <- Sys.getenv(\"PHENOPLIER_PHENOMEXCAN_LD_BLOCKS_GENE_CORRS_DIR\")\n",
    "IRdisplay::display(GENE_CORRS_DIR)"
   ]
  },
  {
   "cell_type": "code",
   "execution_count": 8,
   "id": "eb24f15f-f282-4476-8943-8413c4483f12",
   "metadata": {
    "execution": {
     "iopub.execute_input": "2022-06-18T11:49:56.585090Z",
     "iopub.status.busy": "2022-06-18T11:49:56.584006Z",
     "iopub.status.idle": "2022-06-18T11:49:56.600169Z",
     "shell.execute_reply": "2022-06-18T11:49:56.597937Z"
    },
    "papermill": {
     "duration": 0.024867,
     "end_time": "2022-06-18T11:49:56.602165",
     "exception": false,
     "start_time": "2022-06-18T11:49:56.577298",
     "status": "completed"
    },
    "tags": []
   },
   "outputs": [
    {
     "data": {
      "text/html": [
       "'/opt/data/data/phenomexcan/ld_blocks/gene_corrs/gtex_v8/mashr/by_chr'"
      ],
      "text/latex": [
       "'/opt/data/data/phenomexcan/ld\\_blocks/gene\\_corrs/gtex\\_v8/mashr/by\\_chr'"
      ],
      "text/markdown": [
       "'/opt/data/data/phenomexcan/ld_blocks/gene_corrs/gtex_v8/mashr/by_chr'"
      ],
      "text/plain": [
       "[1] \"/opt/data/data/phenomexcan/ld_blocks/gene_corrs/gtex_v8/mashr/by_chr\""
      ]
     },
     "metadata": {},
     "output_type": "display_data"
    }
   ],
   "source": [
    "INPUT_DIR <- file.path(GENE_CORRS_DIR, tolower(REFERENCE_PANEL), tolower(EQTL_MODEL), \"by_chr\")\n",
    "IRdisplay::display(INPUT_DIR)"
   ]
  },
  {
   "cell_type": "code",
   "execution_count": 9,
   "id": "43c1daba-0da9-4822-8d1e-968e9767e251",
   "metadata": {
    "execution": {
     "iopub.execute_input": "2022-06-18T11:49:56.616108Z",
     "iopub.status.busy": "2022-06-18T11:49:56.615030Z",
     "iopub.status.idle": "2022-06-18T11:49:56.630091Z",
     "shell.execute_reply": "2022-06-18T11:49:56.628695Z"
    },
    "papermill": {
     "duration": 0.02379,
     "end_time": "2022-06-18T11:49:56.631967",
     "exception": false,
     "start_time": "2022-06-18T11:49:56.608177",
     "status": "completed"
    },
    "tags": []
   },
   "outputs": [
    {
     "data": {
      "text/html": [
       "'/opt/data/data/phenomexcan/ld_blocks/gene_corrs/gtex_v8/mashr/by_chr/gene_corrs-chr2.pkl'"
      ],
      "text/latex": [
       "'/opt/data/data/phenomexcan/ld\\_blocks/gene\\_corrs/gtex\\_v8/mashr/by\\_chr/gene\\_corrs-chr2.pkl'"
      ],
      "text/markdown": [
       "'/opt/data/data/phenomexcan/ld_blocks/gene_corrs/gtex_v8/mashr/by_chr/gene_corrs-chr2.pkl'"
      ],
      "text/plain": [
       "[1] \"/opt/data/data/phenomexcan/ld_blocks/gene_corrs/gtex_v8/mashr/by_chr/gene_corrs-chr2.pkl\""
      ]
     },
     "metadata": {},
     "output_type": "display_data"
    }
   ],
   "source": [
    "INPUT_FILE <- file.path(INPUT_DIR, paste0(\"gene_corrs-chr\", chromosome, \".pkl\"))\n",
    "IRdisplay::display(INPUT_FILE)\n",
    "stopifnot(file.exists(INPUT_FILE))"
   ]
  },
  {
   "cell_type": "code",
   "execution_count": 10,
   "id": "72386fbf-982b-420a-9057-ea9a97a5e571",
   "metadata": {
    "execution": {
     "iopub.execute_input": "2022-06-18T11:49:56.648268Z",
     "iopub.status.busy": "2022-06-18T11:49:56.647160Z",
     "iopub.status.idle": "2022-06-18T11:49:56.662267Z",
     "shell.execute_reply": "2022-06-18T11:49:56.660902Z"
    },
    "papermill": {
     "duration": 0.026025,
     "end_time": "2022-06-18T11:49:56.664117",
     "exception": false,
     "start_time": "2022-06-18T11:49:56.638092",
     "status": "completed"
    },
    "tags": []
   },
   "outputs": [
    {
     "data": {
      "text/html": [
       "'/opt/data/data/phenomexcan/ld_blocks/gene_corrs/gtex_v8/mashr/by_chr/corrected_positive_definite'"
      ],
      "text/latex": [
       "'/opt/data/data/phenomexcan/ld\\_blocks/gene\\_corrs/gtex\\_v8/mashr/by\\_chr/corrected\\_positive\\_definite'"
      ],
      "text/markdown": [
       "'/opt/data/data/phenomexcan/ld_blocks/gene_corrs/gtex_v8/mashr/by_chr/corrected_positive_definite'"
      ],
      "text/plain": [
       "[1] \"/opt/data/data/phenomexcan/ld_blocks/gene_corrs/gtex_v8/mashr/by_chr/corrected_positive_definite\""
      ]
     },
     "metadata": {},
     "output_type": "display_data"
    }
   ],
   "source": [
    "OUTPUT_DIR <- file.path(INPUT_DIR, \"corrected_positive_definite\")\n",
    "IRdisplay::display(OUTPUT_DIR)\n",
    "dir.create(OUTPUT_DIR, recursive = TRUE, showWarnings = FALSE)"
   ]
  },
  {
   "cell_type": "code",
   "execution_count": 11,
   "id": "f9f19d1d-ce4c-4099-a26e-250fec751de7",
   "metadata": {
    "execution": {
     "iopub.execute_input": "2022-06-18T11:49:56.678647Z",
     "iopub.status.busy": "2022-06-18T11:49:56.677500Z",
     "iopub.status.idle": "2022-06-18T11:49:56.697601Z",
     "shell.execute_reply": "2022-06-18T11:49:56.693230Z"
    },
    "papermill": {
     "duration": 0.029325,
     "end_time": "2022-06-18T11:49:56.699643",
     "exception": false,
     "start_time": "2022-06-18T11:49:56.670318",
     "status": "completed"
    },
    "tags": []
   },
   "outputs": [
    {
     "data": {
      "text/html": [
       "'/opt/data/data/phenomexcan/ld_blocks/gene_corrs/gtex_v8/mashr/by_chr/corrected_positive_definite/gene_corrs-chr2.pkl'"
      ],
      "text/latex": [
       "'/opt/data/data/phenomexcan/ld\\_blocks/gene\\_corrs/gtex\\_v8/mashr/by\\_chr/corrected\\_positive\\_definite/gene\\_corrs-chr2.pkl'"
      ],
      "text/markdown": [
       "'/opt/data/data/phenomexcan/ld_blocks/gene_corrs/gtex_v8/mashr/by_chr/corrected_positive_definite/gene_corrs-chr2.pkl'"
      ],
      "text/plain": [
       "[1] \"/opt/data/data/phenomexcan/ld_blocks/gene_corrs/gtex_v8/mashr/by_chr/corrected_positive_definite/gene_corrs-chr2.pkl\""
      ]
     },
     "metadata": {},
     "output_type": "display_data"
    },
    {
     "data": {
      "text/html": [
       "'Output file exists, it will be overwritten'"
      ],
      "text/latex": [
       "'Output file exists, it will be overwritten'"
      ],
      "text/markdown": [
       "'Output file exists, it will be overwritten'"
      ],
      "text/plain": [
       "[1] \"Output file exists, it will be overwritten\""
      ]
     },
     "metadata": {},
     "output_type": "display_data"
    }
   ],
   "source": [
    "OUTPUT_FILE <- file.path(OUTPUT_DIR, paste0(\"gene_corrs-chr\", chromosome, \".pkl\"))\n",
    "IRdisplay::display(OUTPUT_FILE)\n",
    "if (file.exists(OUTPUT_FILE)) {\n",
    "  IRdisplay::display(\"Output file exists, it will be overwritten\")\n",
    "}"
   ]
  },
  {
   "cell_type": "markdown",
   "id": "5aad60e6-cba4-41b5-9755-93eb86f4ed05",
   "metadata": {
    "papermill": {
     "duration": 0.006256,
     "end_time": "2022-06-18T11:49:56.720589",
     "exception": false,
     "start_time": "2022-06-18T11:49:56.714333",
     "status": "completed"
    },
    "tags": []
   },
   "source": [
    "# Functions"
   ]
  },
  {
   "cell_type": "code",
   "execution_count": 12,
   "id": "f828f081-7358-4cc8-8a89-1ee293bcc1a7",
   "metadata": {
    "execution": {
     "iopub.execute_input": "2022-06-18T11:49:56.734982Z",
     "iopub.status.busy": "2022-06-18T11:49:56.733843Z",
     "iopub.status.idle": "2022-06-18T11:49:56.743927Z",
     "shell.execute_reply": "2022-06-18T11:49:56.742638Z"
    },
    "papermill": {
     "duration": 0.019028,
     "end_time": "2022-06-18T11:49:56.745742",
     "exception": false,
     "start_time": "2022-06-18T11:49:56.726714",
     "status": "completed"
    },
    "tags": []
   },
   "outputs": [],
   "source": [
    "# taken from https://www.r-bloggers.com/2013/08/correcting-a-pseudo-correlation-matrix-to-be-positive-semidefinite/\n",
    "# TODO: add documentation\n",
    "CorrectCM <- function(CM, p = 0) {\n",
    "  n <- dim(var(CM))[1L]\n",
    "  E <- eigen(CM)\n",
    "  CM1 <- E$vectors %*% tcrossprod(diag(pmax(E$values, p), n), E$vectors)\n",
    "  Balance <- diag(1 / sqrt(diag(CM1)))\n",
    "  CM2 <- Balance %*% CM1 %*% Balance\n",
    "  return(CM2)\n",
    "}"
   ]
  },
  {
   "cell_type": "code",
   "execution_count": 13,
   "id": "7ab9bebf-50a1-4e6f-b16a-e23cae93d02a",
   "metadata": {
    "execution": {
     "iopub.execute_input": "2022-06-18T11:49:56.760190Z",
     "iopub.status.busy": "2022-06-18T11:49:56.759144Z",
     "iopub.status.idle": "2022-06-18T11:49:56.768258Z",
     "shell.execute_reply": "2022-06-18T11:49:56.767000Z"
    },
    "papermill": {
     "duration": 0.020358,
     "end_time": "2022-06-18T11:49:56.772472",
     "exception": false,
     "start_time": "2022-06-18T11:49:56.752114",
     "status": "completed"
    },
    "tags": []
   },
   "outputs": [],
   "source": [
    "is_positive_definite <- function(data) {\n",
    "  eigenvalues <- eigen(data)$values\n",
    "  nonpositive_eigenvalues <- eigenvalues[eigenvalues <= 0]\n",
    "\n",
    "  if (length(nonpositive_eigenvalues) > 0) {\n",
    "    IRdisplay::display(\"We need to correct the data and make the matrix positive definite\")\n",
    "    return(FALSE)\n",
    "  } else {\n",
    "    IRdisplay::display(\"Matrix is already positive definite!\")\n",
    "    return(TRUE)\n",
    "  }\n",
    "}"
   ]
  },
  {
   "cell_type": "markdown",
   "id": "ac52ecbc-5618-4876-a4fa-546a08e3fcf3",
   "metadata": {
    "papermill": {
     "duration": 0.006144,
     "end_time": "2022-06-18T11:49:56.784978",
     "exception": false,
     "start_time": "2022-06-18T11:49:56.778834",
     "status": "completed"
    },
    "tags": []
   },
   "source": [
    "# Load data"
   ]
  },
  {
   "cell_type": "code",
   "execution_count": 14,
   "id": "3a7744e1-2e5a-450e-9dcf-945ec181347d",
   "metadata": {
    "execution": {
     "iopub.execute_input": "2022-06-18T11:49:56.798799Z",
     "iopub.status.busy": "2022-06-18T11:49:56.797801Z",
     "iopub.status.idle": "2022-06-18T11:49:56.873607Z",
     "shell.execute_reply": "2022-06-18T11:49:56.872287Z"
    },
    "papermill": {
     "duration": 0.084402,
     "end_time": "2022-06-18T11:49:56.875427",
     "exception": false,
     "start_time": "2022-06-18T11:49:56.791025",
     "status": "completed"
    },
    "tags": []
   },
   "outputs": [],
   "source": [
    "gene_corrs <- pd$read_pickle(INPUT_FILE)"
   ]
  },
  {
   "cell_type": "code",
   "execution_count": 15,
   "id": "6fb150b2-4c68-4e9b-9aa5-1890d3f762e3",
   "metadata": {
    "execution": {
     "iopub.execute_input": "2022-06-18T11:49:56.890768Z",
     "iopub.status.busy": "2022-06-18T11:49:56.889689Z",
     "iopub.status.idle": "2022-06-18T11:49:56.902054Z",
     "shell.execute_reply": "2022-06-18T11:49:56.900640Z"
    },
    "papermill": {
     "duration": 0.021279,
     "end_time": "2022-06-18T11:49:56.903941",
     "exception": false,
     "start_time": "2022-06-18T11:49:56.882662",
     "status": "completed"
    },
    "tags": []
   },
   "outputs": [
    {
     "data": {
      "text/html": [
       "<style>\n",
       ".list-inline {list-style: none; margin:0; padding: 0}\n",
       ".list-inline>li {display: inline-block}\n",
       ".list-inline>li:not(:last-child)::after {content: \"\\00b7\"; padding: 0 .5ex}\n",
       "</style>\n",
       "<ol class=list-inline><li>445</li><li>445</li></ol>\n"
      ],
      "text/latex": [
       "\\begin{enumerate*}\n",
       "\\item 445\n",
       "\\item 445\n",
       "\\end{enumerate*}\n"
      ],
      "text/markdown": [
       "1. 445\n",
       "2. 445\n",
       "\n",
       "\n"
      ],
      "text/plain": [
       "[1] 445 445"
      ]
     },
     "metadata": {},
     "output_type": "display_data"
    }
   ],
   "source": [
    "dim(gene_corrs)"
   ]
  },
  {
   "cell_type": "code",
   "execution_count": 16,
   "id": "0d4e53b5-7586-4a68-8ce5-d930d74ba943",
   "metadata": {
    "execution": {
     "iopub.execute_input": "2022-06-18T11:49:56.926780Z",
     "iopub.status.busy": "2022-06-18T11:49:56.925681Z",
     "iopub.status.idle": "2022-06-18T11:49:56.948477Z",
     "shell.execute_reply": "2022-06-18T11:49:56.947224Z"
    },
    "papermill": {
     "duration": 0.031588,
     "end_time": "2022-06-18T11:49:56.950197",
     "exception": false,
     "start_time": "2022-06-18T11:49:56.918609",
     "status": "completed"
    },
    "tags": []
   },
   "outputs": [
    {
     "data": {
      "text/html": [
       "<table class=\"dataframe\">\n",
       "<caption>A data.frame: 6 × 10</caption>\n",
       "<thead>\n",
       "\t<tr><th></th><th scope=col>ENSG00000143727</th><th scope=col>ENSG00000115705</th><th scope=col>ENSG00000130508</th><th scope=col>ENSG00000182551</th><th scope=col>ENSG00000171865</th><th scope=col>ENSG00000171863</th><th scope=col>ENSG00000134326</th><th scope=col>ENSG00000134321</th><th scope=col>ENSG00000115738</th><th scope=col>ENSG00000134313</th></tr>\n",
       "\t<tr><th></th><th scope=col>&lt;dbl&gt;</th><th scope=col>&lt;dbl&gt;</th><th scope=col>&lt;dbl&gt;</th><th scope=col>&lt;dbl&gt;</th><th scope=col>&lt;dbl&gt;</th><th scope=col>&lt;dbl&gt;</th><th scope=col>&lt;dbl&gt;</th><th scope=col>&lt;dbl&gt;</th><th scope=col>&lt;dbl&gt;</th><th scope=col>&lt;dbl&gt;</th></tr>\n",
       "</thead>\n",
       "<tbody>\n",
       "\t<tr><th scope=row>ENSG00000143727</th><td> 1.00000000</td><td>-0.07840744</td><td> 0.19581325</td><td>-0.031212187</td><td> 0.034284308</td><td>-0.12374498</td><td> 0.00000000</td><td> 0.00000000</td><td>0</td><td>0</td></tr>\n",
       "\t<tr><th scope=row>ENSG00000115705</th><td>-0.07840744</td><td> 1.00000000</td><td> 0.01839845</td><td>-0.048030022</td><td>-0.024985746</td><td> 0.02461206</td><td> 0.00000000</td><td> 0.00000000</td><td>0</td><td>0</td></tr>\n",
       "\t<tr><th scope=row>ENSG00000130508</th><td> 0.19581325</td><td> 0.01839845</td><td> 1.00000000</td><td> 0.178464442</td><td> 0.071530193</td><td>-0.13140764</td><td> 0.00000000</td><td> 0.00000000</td><td>0</td><td>0</td></tr>\n",
       "\t<tr><th scope=row>ENSG00000182551</th><td>-0.03121219</td><td>-0.04803002</td><td> 0.17846444</td><td> 1.000000000</td><td>-0.009727435</td><td>-0.09785083</td><td>-0.02614311</td><td>-0.06780080</td><td>0</td><td>0</td></tr>\n",
       "\t<tr><th scope=row>ENSG00000171865</th><td> 0.03428431</td><td>-0.02498575</td><td> 0.07153019</td><td>-0.009727435</td><td> 1.000000000</td><td>-0.06822706</td><td> 0.01867079</td><td> 0.04843000</td><td>0</td><td>0</td></tr>\n",
       "\t<tr><th scope=row>ENSG00000171863</th><td>-0.12374498</td><td> 0.02461206</td><td>-0.13140764</td><td>-0.097850834</td><td>-0.068227057</td><td> 1.00000000</td><td>-0.07223635</td><td>-0.07550064</td><td>0</td><td>0</td></tr>\n",
       "</tbody>\n",
       "</table>\n"
      ],
      "text/latex": [
       "A data.frame: 6 × 10\n",
       "\\begin{tabular}{r|llllllllll}\n",
       "  & ENSG00000143727 & ENSG00000115705 & ENSG00000130508 & ENSG00000182551 & ENSG00000171865 & ENSG00000171863 & ENSG00000134326 & ENSG00000134321 & ENSG00000115738 & ENSG00000134313\\\\\n",
       "  & <dbl> & <dbl> & <dbl> & <dbl> & <dbl> & <dbl> & <dbl> & <dbl> & <dbl> & <dbl>\\\\\n",
       "\\hline\n",
       "\tENSG00000143727 &  1.00000000 & -0.07840744 &  0.19581325 & -0.031212187 &  0.034284308 & -0.12374498 &  0.00000000 &  0.00000000 & 0 & 0\\\\\n",
       "\tENSG00000115705 & -0.07840744 &  1.00000000 &  0.01839845 & -0.048030022 & -0.024985746 &  0.02461206 &  0.00000000 &  0.00000000 & 0 & 0\\\\\n",
       "\tENSG00000130508 &  0.19581325 &  0.01839845 &  1.00000000 &  0.178464442 &  0.071530193 & -0.13140764 &  0.00000000 &  0.00000000 & 0 & 0\\\\\n",
       "\tENSG00000182551 & -0.03121219 & -0.04803002 &  0.17846444 &  1.000000000 & -0.009727435 & -0.09785083 & -0.02614311 & -0.06780080 & 0 & 0\\\\\n",
       "\tENSG00000171865 &  0.03428431 & -0.02498575 &  0.07153019 & -0.009727435 &  1.000000000 & -0.06822706 &  0.01867079 &  0.04843000 & 0 & 0\\\\\n",
       "\tENSG00000171863 & -0.12374498 &  0.02461206 & -0.13140764 & -0.097850834 & -0.068227057 &  1.00000000 & -0.07223635 & -0.07550064 & 0 & 0\\\\\n",
       "\\end{tabular}\n"
      ],
      "text/markdown": [
       "\n",
       "A data.frame: 6 × 10\n",
       "\n",
       "| <!--/--> | ENSG00000143727 &lt;dbl&gt; | ENSG00000115705 &lt;dbl&gt; | ENSG00000130508 &lt;dbl&gt; | ENSG00000182551 &lt;dbl&gt; | ENSG00000171865 &lt;dbl&gt; | ENSG00000171863 &lt;dbl&gt; | ENSG00000134326 &lt;dbl&gt; | ENSG00000134321 &lt;dbl&gt; | ENSG00000115738 &lt;dbl&gt; | ENSG00000134313 &lt;dbl&gt; |\n",
       "|---|---|---|---|---|---|---|---|---|---|---|\n",
       "| ENSG00000143727 |  1.00000000 | -0.07840744 |  0.19581325 | -0.031212187 |  0.034284308 | -0.12374498 |  0.00000000 |  0.00000000 | 0 | 0 |\n",
       "| ENSG00000115705 | -0.07840744 |  1.00000000 |  0.01839845 | -0.048030022 | -0.024985746 |  0.02461206 |  0.00000000 |  0.00000000 | 0 | 0 |\n",
       "| ENSG00000130508 |  0.19581325 |  0.01839845 |  1.00000000 |  0.178464442 |  0.071530193 | -0.13140764 |  0.00000000 |  0.00000000 | 0 | 0 |\n",
       "| ENSG00000182551 | -0.03121219 | -0.04803002 |  0.17846444 |  1.000000000 | -0.009727435 | -0.09785083 | -0.02614311 | -0.06780080 | 0 | 0 |\n",
       "| ENSG00000171865 |  0.03428431 | -0.02498575 |  0.07153019 | -0.009727435 |  1.000000000 | -0.06822706 |  0.01867079 |  0.04843000 | 0 | 0 |\n",
       "| ENSG00000171863 | -0.12374498 |  0.02461206 | -0.13140764 | -0.097850834 | -0.068227057 |  1.00000000 | -0.07223635 | -0.07550064 | 0 | 0 |\n",
       "\n"
      ],
      "text/plain": [
       "                ENSG00000143727 ENSG00000115705 ENSG00000130508 ENSG00000182551\n",
       "ENSG00000143727  1.00000000     -0.07840744      0.19581325     -0.031212187   \n",
       "ENSG00000115705 -0.07840744      1.00000000      0.01839845     -0.048030022   \n",
       "ENSG00000130508  0.19581325      0.01839845      1.00000000      0.178464442   \n",
       "ENSG00000182551 -0.03121219     -0.04803002      0.17846444      1.000000000   \n",
       "ENSG00000171865  0.03428431     -0.02498575      0.07153019     -0.009727435   \n",
       "ENSG00000171863 -0.12374498      0.02461206     -0.13140764     -0.097850834   \n",
       "                ENSG00000171865 ENSG00000171863 ENSG00000134326 ENSG00000134321\n",
       "ENSG00000143727  0.034284308    -0.12374498      0.00000000      0.00000000    \n",
       "ENSG00000115705 -0.024985746     0.02461206      0.00000000      0.00000000    \n",
       "ENSG00000130508  0.071530193    -0.13140764      0.00000000      0.00000000    \n",
       "ENSG00000182551 -0.009727435    -0.09785083     -0.02614311     -0.06780080    \n",
       "ENSG00000171865  1.000000000    -0.06822706      0.01867079      0.04843000    \n",
       "ENSG00000171863 -0.068227057     1.00000000     -0.07223635     -0.07550064    \n",
       "                ENSG00000115738 ENSG00000134313\n",
       "ENSG00000143727 0               0              \n",
       "ENSG00000115705 0               0              \n",
       "ENSG00000130508 0               0              \n",
       "ENSG00000182551 0               0              \n",
       "ENSG00000171865 0               0              \n",
       "ENSG00000171863 0               0              "
      ]
     },
     "metadata": {},
     "output_type": "display_data"
    }
   ],
   "source": [
    "head(gene_corrs[1:10, 1:10])"
   ]
  },
  {
   "cell_type": "markdown",
   "id": "c5c9ffba-1678-4ce7-8988-4ee03e23bdf2",
   "metadata": {
    "papermill": {
     "duration": 0.005827,
     "end_time": "2022-06-18T11:49:56.970373",
     "exception": false,
     "start_time": "2022-06-18T11:49:56.964546",
     "status": "completed"
    },
    "tags": []
   },
   "source": [
    "# Check positive definiteness"
   ]
  },
  {
   "cell_type": "code",
   "execution_count": 17,
   "id": "178854f5-487a-42e8-82b4-625c1979734a",
   "metadata": {
    "execution": {
     "iopub.execute_input": "2022-06-18T11:49:56.984223Z",
     "iopub.status.busy": "2022-06-18T11:49:56.983264Z",
     "iopub.status.idle": "2022-06-18T11:49:57.096019Z",
     "shell.execute_reply": "2022-06-18T11:49:57.090911Z"
    },
    "papermill": {
     "duration": 0.121112,
     "end_time": "2022-06-18T11:49:57.097513",
     "exception": false,
     "start_time": "2022-06-18T11:49:56.976401",
     "status": "completed"
    },
    "tags": []
   },
   "outputs": [
    {
     "data": {
      "text/html": [
       "'We need to correct the data and make the matrix positive definite'"
      ],
      "text/latex": [
       "'We need to correct the data and make the matrix positive definite'"
      ],
      "text/markdown": [
       "'We need to correct the data and make the matrix positive definite'"
      ],
      "text/plain": [
       "[1] \"We need to correct the data and make the matrix positive definite\""
      ]
     },
     "metadata": {},
     "output_type": "display_data"
    },
    {
     "data": {
      "text/html": [
       "FALSE"
      ],
      "text/latex": [
       "FALSE"
      ],
      "text/markdown": [
       "FALSE"
      ],
      "text/plain": [
       "[1] FALSE"
      ]
     },
     "metadata": {},
     "output_type": "display_data"
    }
   ],
   "source": [
    "is_positive_definite(gene_corrs)"
   ]
  },
  {
   "cell_type": "code",
   "execution_count": 18,
   "id": "58542ade-c80f-42e6-acbf-6464dab70fdb",
   "metadata": {
    "execution": {
     "iopub.execute_input": "2022-06-18T11:49:57.129028Z",
     "iopub.status.busy": "2022-06-18T11:49:57.128143Z",
     "iopub.status.idle": "2022-06-18T11:49:57.285069Z",
     "shell.execute_reply": "2022-06-18T11:49:57.283691Z"
    },
    "papermill": {
     "duration": 0.181096,
     "end_time": "2022-06-18T11:49:57.290743",
     "exception": false,
     "start_time": "2022-06-18T11:49:57.109647",
     "status": "completed"
    },
    "tags": []
   },
   "outputs": [],
   "source": [
    "# see eigenvalues\n",
    "eigenvalues <- eigen(gene_corrs)$values"
   ]
  },
  {
   "cell_type": "code",
   "execution_count": 19,
   "id": "9486e0db-e924-43ab-bb6c-0d997fd38f3d",
   "metadata": {
    "execution": {
     "iopub.execute_input": "2022-06-18T11:49:57.321201Z",
     "iopub.status.busy": "2022-06-18T11:49:57.320199Z",
     "iopub.status.idle": "2022-06-18T11:49:57.350837Z",
     "shell.execute_reply": "2022-06-18T11:49:57.347720Z"
    },
    "papermill": {
     "duration": 0.051111,
     "end_time": "2022-06-18T11:49:57.352341",
     "exception": false,
     "start_time": "2022-06-18T11:49:57.301230",
     "status": "completed"
    },
    "tags": []
   },
   "outputs": [
    {
     "data": {
      "text/html": [
       "22"
      ],
      "text/latex": [
       "22"
      ],
      "text/markdown": [
       "22"
      ],
      "text/plain": [
       "[1] 22"
      ]
     },
     "metadata": {},
     "output_type": "display_data"
    },
    {
     "data": {
      "text/html": [
       "<style>\n",
       ".list-inline {list-style: none; margin:0; padding: 0}\n",
       ".list-inline>li {display: inline-block}\n",
       ".list-inline>li:not(:last-child)::after {content: \"\\00b7\"; padding: 0 .5ex}\n",
       "</style>\n",
       "<ol class=list-inline><li>-0.00787946182775756</li><li>-0.0759041690669519</li><li>-0.0891300617813799</li><li>-0.0939045987545027</li><li>-0.103049786117491</li><li>-0.117544356720567</li><li>-0.15292654431246</li><li>-0.156526536906339</li><li>-0.250051757447353</li><li>-0.268007607584432</li><li>-0.286957249984739</li><li>-0.359292158918239</li><li>-0.391492308447903</li><li>-0.473873246347289</li><li>-0.488917557591779</li><li>-0.577738620217986</li><li>-0.592093911592312</li><li>-0.788551122103541</li><li>-0.81229457708229</li><li>-0.875576359580719</li><li>-1.05100578115835</li><li>-1.66043678251322</li></ol>\n"
      ],
      "text/latex": [
       "\\begin{enumerate*}\n",
       "\\item -0.00787946182775756\n",
       "\\item -0.0759041690669519\n",
       "\\item -0.0891300617813799\n",
       "\\item -0.0939045987545027\n",
       "\\item -0.103049786117491\n",
       "\\item -0.117544356720567\n",
       "\\item -0.15292654431246\n",
       "\\item -0.156526536906339\n",
       "\\item -0.250051757447353\n",
       "\\item -0.268007607584432\n",
       "\\item -0.286957249984739\n",
       "\\item -0.359292158918239\n",
       "\\item -0.391492308447903\n",
       "\\item -0.473873246347289\n",
       "\\item -0.488917557591779\n",
       "\\item -0.577738620217986\n",
       "\\item -0.592093911592312\n",
       "\\item -0.788551122103541\n",
       "\\item -0.81229457708229\n",
       "\\item -0.875576359580719\n",
       "\\item -1.05100578115835\n",
       "\\item -1.66043678251322\n",
       "\\end{enumerate*}\n"
      ],
      "text/markdown": [
       "1. -0.00787946182775756\n",
       "2. -0.0759041690669519\n",
       "3. -0.0891300617813799\n",
       "4. -0.0939045987545027\n",
       "5. -0.103049786117491\n",
       "6. -0.117544356720567\n",
       "7. -0.15292654431246\n",
       "8. -0.156526536906339\n",
       "9. -0.250051757447353\n",
       "10. -0.268007607584432\n",
       "11. -0.286957249984739\n",
       "12. -0.359292158918239\n",
       "13. -0.391492308447903\n",
       "14. -0.473873246347289\n",
       "15. -0.488917557591779\n",
       "16. -0.577738620217986\n",
       "17. -0.592093911592312\n",
       "18. -0.788551122103541\n",
       "19. -0.81229457708229\n",
       "20. -0.875576359580719\n",
       "21. -1.05100578115835\n",
       "22. -1.66043678251322\n",
       "\n",
       "\n"
      ],
      "text/plain": [
       " [1] -0.007879462 -0.075904169 -0.089130062 -0.093904599 -0.103049786\n",
       " [6] -0.117544357 -0.152926544 -0.156526537 -0.250051757 -0.268007608\n",
       "[11] -0.286957250 -0.359292159 -0.391492308 -0.473873246 -0.488917558\n",
       "[16] -0.577738620 -0.592093912 -0.788551122 -0.812294577 -0.875576360\n",
       "[21] -1.051005781 -1.660436783"
      ]
     },
     "metadata": {},
     "output_type": "display_data"
    }
   ],
   "source": [
    "nonpositive_eigenvalues <- eigenvalues[eigenvalues <= 0]\n",
    "IRdisplay::display(length(nonpositive_eigenvalues))\n",
    "IRdisplay::display(nonpositive_eigenvalues)"
   ]
  },
  {
   "cell_type": "code",
   "execution_count": 20,
   "id": "410ee452-488f-4518-b93a-2acd608ba99c",
   "metadata": {
    "execution": {
     "iopub.execute_input": "2022-06-18T11:49:57.381803Z",
     "iopub.status.busy": "2022-06-18T11:49:57.380882Z",
     "iopub.status.idle": "2022-06-18T11:49:57.398577Z",
     "shell.execute_reply": "2022-06-18T11:49:57.393023Z"
    },
    "papermill": {
     "duration": 0.037427,
     "end_time": "2022-06-18T11:49:57.399922",
     "exception": false,
     "start_time": "2022-06-18T11:49:57.362495",
     "status": "completed"
    },
    "tags": []
   },
   "outputs": [],
   "source": [
    "if (length(eigenvalues[eigenvalues <= 0]) == 0) { quit() }"
   ]
  },
  {
   "cell_type": "markdown",
   "id": "2d280a82-f231-402d-82ab-9291d395afc1",
   "metadata": {
    "papermill": {
     "duration": 0.013671,
     "end_time": "2022-06-18T11:49:57.423678",
     "exception": false,
     "start_time": "2022-06-18T11:49:57.410007",
     "status": "completed"
    },
    "tags": []
   },
   "source": [
    "# Make matrix positive definite if needed"
   ]
  },
  {
   "cell_type": "code",
   "execution_count": 21,
   "id": "b9037873-4067-4ac6-aa92-e9225a6c9353",
   "metadata": {
    "execution": {
     "iopub.execute_input": "2022-06-18T11:49:57.462066Z",
     "iopub.status.busy": "2022-06-18T11:49:57.461059Z",
     "iopub.status.idle": "2022-06-18T11:49:57.591840Z",
     "shell.execute_reply": "2022-06-18T11:49:57.590652Z"
    },
    "papermill": {
     "duration": 0.14692,
     "end_time": "2022-06-18T11:49:57.593320",
     "exception": false,
     "start_time": "2022-06-18T11:49:57.446400",
     "status": "completed"
    },
    "tags": []
   },
   "outputs": [],
   "source": [
    "gene_corrs_corrected <- CorrectCM(gene_corrs, 1)"
   ]
  },
  {
   "cell_type": "code",
   "execution_count": 22,
   "id": "03c86284-5aac-4f66-86cc-74eb97102a7e",
   "metadata": {
    "execution": {
     "iopub.execute_input": "2022-06-18T11:49:57.627249Z",
     "iopub.status.busy": "2022-06-18T11:49:57.626303Z",
     "iopub.status.idle": "2022-06-18T11:49:57.644649Z",
     "shell.execute_reply": "2022-06-18T11:49:57.642829Z"
    },
    "papermill": {
     "duration": 0.045492,
     "end_time": "2022-06-18T11:49:57.649625",
     "exception": false,
     "start_time": "2022-06-18T11:49:57.604133",
     "status": "completed"
    },
    "tags": []
   },
   "outputs": [],
   "source": [
    "dimnames(gene_corrs_corrected)[[1]] <- rownames(gene_corrs)"
   ]
  },
  {
   "cell_type": "code",
   "execution_count": 23,
   "id": "576e7069-25ff-473d-8158-35b5f2ff212e",
   "metadata": {
    "execution": {
     "iopub.execute_input": "2022-06-18T11:49:57.664978Z",
     "iopub.status.busy": "2022-06-18T11:49:57.663991Z",
     "iopub.status.idle": "2022-06-18T11:49:57.676942Z",
     "shell.execute_reply": "2022-06-18T11:49:57.675693Z"
    },
    "papermill": {
     "duration": 0.022367,
     "end_time": "2022-06-18T11:49:57.678625",
     "exception": false,
     "start_time": "2022-06-18T11:49:57.656258",
     "status": "completed"
    },
    "tags": []
   },
   "outputs": [],
   "source": [
    "dimnames(gene_corrs_corrected)[[2]] <- colnames(gene_corrs)"
   ]
  },
  {
   "cell_type": "code",
   "execution_count": 24,
   "id": "f77d043a-321d-447f-8da5-2503981d3e73",
   "metadata": {
    "execution": {
     "iopub.execute_input": "2022-06-18T11:49:57.697272Z",
     "iopub.status.busy": "2022-06-18T11:49:57.696241Z",
     "iopub.status.idle": "2022-06-18T11:49:57.714494Z",
     "shell.execute_reply": "2022-06-18T11:49:57.712380Z"
    },
    "papermill": {
     "duration": 0.031017,
     "end_time": "2022-06-18T11:49:57.716365",
     "exception": false,
     "start_time": "2022-06-18T11:49:57.685348",
     "status": "completed"
    },
    "tags": []
   },
   "outputs": [],
   "source": [
    "gene_corrs_corrected <- as.data.frame(gene_corrs_corrected)"
   ]
  },
  {
   "cell_type": "code",
   "execution_count": 25,
   "id": "3e844024-f9a2-42a2-bbd0-695cfdbb78f5",
   "metadata": {
    "execution": {
     "iopub.execute_input": "2022-06-18T11:49:57.732072Z",
     "iopub.status.busy": "2022-06-18T11:49:57.731064Z",
     "iopub.status.idle": "2022-06-18T11:49:57.746447Z",
     "shell.execute_reply": "2022-06-18T11:49:57.744377Z"
    },
    "papermill": {
     "duration": 0.024551,
     "end_time": "2022-06-18T11:49:57.748238",
     "exception": false,
     "start_time": "2022-06-18T11:49:57.723687",
     "status": "completed"
    },
    "tags": []
   },
   "outputs": [
    {
     "data": {
      "text/html": [
       "<style>\n",
       ".list-inline {list-style: none; margin:0; padding: 0}\n",
       ".list-inline>li {display: inline-block}\n",
       ".list-inline>li:not(:last-child)::after {content: \"\\00b7\"; padding: 0 .5ex}\n",
       "</style>\n",
       "<ol class=list-inline><li>445</li><li>445</li></ol>\n"
      ],
      "text/latex": [
       "\\begin{enumerate*}\n",
       "\\item 445\n",
       "\\item 445\n",
       "\\end{enumerate*}\n"
      ],
      "text/markdown": [
       "1. 445\n",
       "2. 445\n",
       "\n",
       "\n"
      ],
      "text/plain": [
       "[1] 445 445"
      ]
     },
     "metadata": {},
     "output_type": "display_data"
    }
   ],
   "source": [
    "dim(gene_corrs_corrected)"
   ]
  },
  {
   "cell_type": "markdown",
   "id": "244b6bde-4ca8-46d1-acc7-b4c35b5d3c62",
   "metadata": {
    "papermill": {
     "duration": 0.006499,
     "end_time": "2022-06-18T11:49:57.761490",
     "exception": false,
     "start_time": "2022-06-18T11:49:57.754991",
     "status": "completed"
    },
    "tags": []
   },
   "source": [
    "# Check positive definiteness of corrected matrix"
   ]
  },
  {
   "cell_type": "code",
   "execution_count": 26,
   "id": "0fd5b688-e137-4619-910c-35130d32d600",
   "metadata": {
    "execution": {
     "iopub.execute_input": "2022-06-18T11:49:57.778186Z",
     "iopub.status.busy": "2022-06-18T11:49:57.777091Z",
     "iopub.status.idle": "2022-06-18T11:49:57.872875Z",
     "shell.execute_reply": "2022-06-18T11:49:57.868036Z"
    },
    "papermill": {
     "duration": 0.106934,
     "end_time": "2022-06-18T11:49:57.874983",
     "exception": false,
     "start_time": "2022-06-18T11:49:57.768049",
     "status": "completed"
    },
    "tags": []
   },
   "outputs": [
    {
     "data": {
      "text/html": [
       "'Matrix is already positive definite!'"
      ],
      "text/latex": [
       "'Matrix is already positive definite!'"
      ],
      "text/markdown": [
       "'Matrix is already positive definite!'"
      ],
      "text/plain": [
       "[1] \"Matrix is already positive definite!\""
      ]
     },
     "metadata": {},
     "output_type": "display_data"
    },
    {
     "data": {
      "text/html": [
       "TRUE"
      ],
      "text/latex": [
       "TRUE"
      ],
      "text/markdown": [
       "TRUE"
      ],
      "text/plain": [
       "[1] TRUE"
      ]
     },
     "metadata": {},
     "output_type": "display_data"
    }
   ],
   "source": [
    "is_positive_definite(gene_corrs_corrected)"
   ]
  },
  {
   "cell_type": "code",
   "execution_count": 27,
   "id": "06d23ab8-bebb-474c-be33-dca7e53c1717",
   "metadata": {
    "execution": {
     "iopub.execute_input": "2022-06-18T11:49:57.904749Z",
     "iopub.status.busy": "2022-06-18T11:49:57.903729Z",
     "iopub.status.idle": "2022-06-18T11:49:57.968373Z",
     "shell.execute_reply": "2022-06-18T11:49:57.967195Z"
    },
    "papermill": {
     "duration": 0.083601,
     "end_time": "2022-06-18T11:49:57.969785",
     "exception": false,
     "start_time": "2022-06-18T11:49:57.886184",
     "status": "completed"
    },
    "tags": []
   },
   "outputs": [],
   "source": [
    "# see eigenvalues\n",
    "eigenvalues <- eigen(gene_corrs_corrected)$values"
   ]
  },
  {
   "cell_type": "code",
   "execution_count": 28,
   "id": "ddf8afb8-e0e2-4b4e-876d-12bd6856c1ad",
   "metadata": {
    "execution": {
     "iopub.execute_input": "2022-06-18T11:49:57.989119Z",
     "iopub.status.busy": "2022-06-18T11:49:57.987389Z",
     "iopub.status.idle": "2022-06-18T11:49:58.011148Z",
     "shell.execute_reply": "2022-06-18T11:49:58.009374Z"
    },
    "papermill": {
     "duration": 0.035176,
     "end_time": "2022-06-18T11:49:58.012642",
     "exception": false,
     "start_time": "2022-06-18T11:49:57.977466",
     "status": "completed"
    },
    "tags": []
   },
   "outputs": [
    {
     "data": {
      "text/html": [
       "0"
      ],
      "text/latex": [
       "0"
      ],
      "text/markdown": [
       "0"
      ],
      "text/plain": [
       "[1] 0"
      ]
     },
     "metadata": {},
     "output_type": "display_data"
    },
    {
     "data": {
      "text/html": [],
      "text/latex": [],
      "text/markdown": [],
      "text/plain": [
       "numeric(0)"
      ]
     },
     "metadata": {},
     "output_type": "display_data"
    }
   ],
   "source": [
    "nonpositive_eigenvalues <- eigenvalues[eigenvalues <= 0]\n",
    "IRdisplay::display(length(nonpositive_eigenvalues))\n",
    "IRdisplay::display(nonpositive_eigenvalues)"
   ]
  },
  {
   "cell_type": "code",
   "execution_count": 29,
   "id": "712fd71a-b6ec-4a13-a956-80c99be7f585",
   "metadata": {
    "execution": {
     "iopub.execute_input": "2022-06-18T11:49:58.040123Z",
     "iopub.status.busy": "2022-06-18T11:49:58.038317Z",
     "iopub.status.idle": "2022-06-18T11:49:58.057688Z",
     "shell.execute_reply": "2022-06-18T11:49:58.048262Z"
    },
    "papermill": {
     "duration": 0.04003,
     "end_time": "2022-06-18T11:49:58.059372",
     "exception": false,
     "start_time": "2022-06-18T11:49:58.019342",
     "status": "completed"
    },
    "tags": []
   },
   "outputs": [],
   "source": [
    "stopifnot(length(eigenvalues[eigenvalues <= 0]) == 0)"
   ]
  },
  {
   "cell_type": "code",
   "execution_count": 30,
   "id": "786d6336-3844-40f7-979b-6d6028787f7f",
   "metadata": {
    "execution": {
     "iopub.execute_input": "2022-06-18T11:49:58.089859Z",
     "iopub.status.busy": "2022-06-18T11:49:58.087740Z",
     "iopub.status.idle": "2022-06-18T11:49:58.155914Z",
     "shell.execute_reply": "2022-06-18T11:49:58.154157Z"
    },
    "papermill": {
     "duration": 0.086181,
     "end_time": "2022-06-18T11:49:58.157380",
     "exception": false,
     "start_time": "2022-06-18T11:49:58.071199",
     "status": "completed"
    },
    "tags": []
   },
   "outputs": [
    {
     "data": {
      "text/html": [
       "<table class=\"dataframe\">\n",
       "<caption>A data.frame: 6 × 10</caption>\n",
       "<thead>\n",
       "\t<tr><th></th><th scope=col>ENSG00000143727</th><th scope=col>ENSG00000115705</th><th scope=col>ENSG00000130508</th><th scope=col>ENSG00000182551</th><th scope=col>ENSG00000171865</th><th scope=col>ENSG00000171863</th><th scope=col>ENSG00000134326</th><th scope=col>ENSG00000134321</th><th scope=col>ENSG00000115738</th><th scope=col>ENSG00000134313</th></tr>\n",
       "\t<tr><th></th><th scope=col>&lt;dbl&gt;</th><th scope=col>&lt;dbl&gt;</th><th scope=col>&lt;dbl&gt;</th><th scope=col>&lt;dbl&gt;</th><th scope=col>&lt;dbl&gt;</th><th scope=col>&lt;dbl&gt;</th><th scope=col>&lt;dbl&gt;</th><th scope=col>&lt;dbl&gt;</th><th scope=col>&lt;dbl&gt;</th><th scope=col>&lt;dbl&gt;</th></tr>\n",
       "</thead>\n",
       "<tbody>\n",
       "\t<tr><th scope=row>ENSG00000143727</th><td> 1.00000000</td><td>-0.07840744</td><td> 0.19581325</td><td>-0.031212187</td><td> 0.034284308</td><td>-0.12374498</td><td> 0.00000000</td><td> 0.00000000</td><td>0</td><td>0</td></tr>\n",
       "\t<tr><th scope=row>ENSG00000115705</th><td>-0.07840744</td><td> 1.00000000</td><td> 0.01839845</td><td>-0.048030022</td><td>-0.024985746</td><td> 0.02461206</td><td> 0.00000000</td><td> 0.00000000</td><td>0</td><td>0</td></tr>\n",
       "\t<tr><th scope=row>ENSG00000130508</th><td> 0.19581325</td><td> 0.01839845</td><td> 1.00000000</td><td> 0.178464442</td><td> 0.071530193</td><td>-0.13140764</td><td> 0.00000000</td><td> 0.00000000</td><td>0</td><td>0</td></tr>\n",
       "\t<tr><th scope=row>ENSG00000182551</th><td>-0.03121219</td><td>-0.04803002</td><td> 0.17846444</td><td> 1.000000000</td><td>-0.009727435</td><td>-0.09785083</td><td>-0.02614311</td><td>-0.06780080</td><td>0</td><td>0</td></tr>\n",
       "\t<tr><th scope=row>ENSG00000171865</th><td> 0.03428431</td><td>-0.02498575</td><td> 0.07153019</td><td>-0.009727435</td><td> 1.000000000</td><td>-0.06822706</td><td> 0.01867079</td><td> 0.04843000</td><td>0</td><td>0</td></tr>\n",
       "\t<tr><th scope=row>ENSG00000171863</th><td>-0.12374498</td><td> 0.02461206</td><td>-0.13140764</td><td>-0.097850834</td><td>-0.068227057</td><td> 1.00000000</td><td>-0.07223635</td><td>-0.07550064</td><td>0</td><td>0</td></tr>\n",
       "</tbody>\n",
       "</table>\n"
      ],
      "text/latex": [
       "A data.frame: 6 × 10\n",
       "\\begin{tabular}{r|llllllllll}\n",
       "  & ENSG00000143727 & ENSG00000115705 & ENSG00000130508 & ENSG00000182551 & ENSG00000171865 & ENSG00000171863 & ENSG00000134326 & ENSG00000134321 & ENSG00000115738 & ENSG00000134313\\\\\n",
       "  & <dbl> & <dbl> & <dbl> & <dbl> & <dbl> & <dbl> & <dbl> & <dbl> & <dbl> & <dbl>\\\\\n",
       "\\hline\n",
       "\tENSG00000143727 &  1.00000000 & -0.07840744 &  0.19581325 & -0.031212187 &  0.034284308 & -0.12374498 &  0.00000000 &  0.00000000 & 0 & 0\\\\\n",
       "\tENSG00000115705 & -0.07840744 &  1.00000000 &  0.01839845 & -0.048030022 & -0.024985746 &  0.02461206 &  0.00000000 &  0.00000000 & 0 & 0\\\\\n",
       "\tENSG00000130508 &  0.19581325 &  0.01839845 &  1.00000000 &  0.178464442 &  0.071530193 & -0.13140764 &  0.00000000 &  0.00000000 & 0 & 0\\\\\n",
       "\tENSG00000182551 & -0.03121219 & -0.04803002 &  0.17846444 &  1.000000000 & -0.009727435 & -0.09785083 & -0.02614311 & -0.06780080 & 0 & 0\\\\\n",
       "\tENSG00000171865 &  0.03428431 & -0.02498575 &  0.07153019 & -0.009727435 &  1.000000000 & -0.06822706 &  0.01867079 &  0.04843000 & 0 & 0\\\\\n",
       "\tENSG00000171863 & -0.12374498 &  0.02461206 & -0.13140764 & -0.097850834 & -0.068227057 &  1.00000000 & -0.07223635 & -0.07550064 & 0 & 0\\\\\n",
       "\\end{tabular}\n"
      ],
      "text/markdown": [
       "\n",
       "A data.frame: 6 × 10\n",
       "\n",
       "| <!--/--> | ENSG00000143727 &lt;dbl&gt; | ENSG00000115705 &lt;dbl&gt; | ENSG00000130508 &lt;dbl&gt; | ENSG00000182551 &lt;dbl&gt; | ENSG00000171865 &lt;dbl&gt; | ENSG00000171863 &lt;dbl&gt; | ENSG00000134326 &lt;dbl&gt; | ENSG00000134321 &lt;dbl&gt; | ENSG00000115738 &lt;dbl&gt; | ENSG00000134313 &lt;dbl&gt; |\n",
       "|---|---|---|---|---|---|---|---|---|---|---|\n",
       "| ENSG00000143727 |  1.00000000 | -0.07840744 |  0.19581325 | -0.031212187 |  0.034284308 | -0.12374498 |  0.00000000 |  0.00000000 | 0 | 0 |\n",
       "| ENSG00000115705 | -0.07840744 |  1.00000000 |  0.01839845 | -0.048030022 | -0.024985746 |  0.02461206 |  0.00000000 |  0.00000000 | 0 | 0 |\n",
       "| ENSG00000130508 |  0.19581325 |  0.01839845 |  1.00000000 |  0.178464442 |  0.071530193 | -0.13140764 |  0.00000000 |  0.00000000 | 0 | 0 |\n",
       "| ENSG00000182551 | -0.03121219 | -0.04803002 |  0.17846444 |  1.000000000 | -0.009727435 | -0.09785083 | -0.02614311 | -0.06780080 | 0 | 0 |\n",
       "| ENSG00000171865 |  0.03428431 | -0.02498575 |  0.07153019 | -0.009727435 |  1.000000000 | -0.06822706 |  0.01867079 |  0.04843000 | 0 | 0 |\n",
       "| ENSG00000171863 | -0.12374498 |  0.02461206 | -0.13140764 | -0.097850834 | -0.068227057 |  1.00000000 | -0.07223635 | -0.07550064 | 0 | 0 |\n",
       "\n"
      ],
      "text/plain": [
       "                ENSG00000143727 ENSG00000115705 ENSG00000130508 ENSG00000182551\n",
       "ENSG00000143727  1.00000000     -0.07840744      0.19581325     -0.031212187   \n",
       "ENSG00000115705 -0.07840744      1.00000000      0.01839845     -0.048030022   \n",
       "ENSG00000130508  0.19581325      0.01839845      1.00000000      0.178464442   \n",
       "ENSG00000182551 -0.03121219     -0.04803002      0.17846444      1.000000000   \n",
       "ENSG00000171865  0.03428431     -0.02498575      0.07153019     -0.009727435   \n",
       "ENSG00000171863 -0.12374498      0.02461206     -0.13140764     -0.097850834   \n",
       "                ENSG00000171865 ENSG00000171863 ENSG00000134326 ENSG00000134321\n",
       "ENSG00000143727  0.034284308    -0.12374498      0.00000000      0.00000000    \n",
       "ENSG00000115705 -0.024985746     0.02461206      0.00000000      0.00000000    \n",
       "ENSG00000130508  0.071530193    -0.13140764      0.00000000      0.00000000    \n",
       "ENSG00000182551 -0.009727435    -0.09785083     -0.02614311     -0.06780080    \n",
       "ENSG00000171865  1.000000000    -0.06822706      0.01867079      0.04843000    \n",
       "ENSG00000171863 -0.068227057     1.00000000     -0.07223635     -0.07550064    \n",
       "                ENSG00000115738 ENSG00000134313\n",
       "ENSG00000143727 0               0              \n",
       "ENSG00000115705 0               0              \n",
       "ENSG00000130508 0               0              \n",
       "ENSG00000182551 0               0              \n",
       "ENSG00000171865 0               0              \n",
       "ENSG00000171863 0               0              "
      ]
     },
     "metadata": {},
     "output_type": "display_data"
    },
    {
     "data": {
      "text/html": [
       "<table class=\"dataframe\">\n",
       "<caption>A data.frame: 6 × 10</caption>\n",
       "<thead>\n",
       "\t<tr><th></th><th scope=col>ENSG00000143727</th><th scope=col>ENSG00000115705</th><th scope=col>ENSG00000130508</th><th scope=col>ENSG00000182551</th><th scope=col>ENSG00000171865</th><th scope=col>ENSG00000171863</th><th scope=col>ENSG00000134326</th><th scope=col>ENSG00000134321</th><th scope=col>ENSG00000115738</th><th scope=col>ENSG00000134313</th></tr>\n",
       "\t<tr><th></th><th scope=col>&lt;dbl&gt;</th><th scope=col>&lt;dbl&gt;</th><th scope=col>&lt;dbl&gt;</th><th scope=col>&lt;dbl&gt;</th><th scope=col>&lt;dbl&gt;</th><th scope=col>&lt;dbl&gt;</th><th scope=col>&lt;dbl&gt;</th><th scope=col>&lt;dbl&gt;</th><th scope=col>&lt;dbl&gt;</th><th scope=col>&lt;dbl&gt;</th></tr>\n",
       "</thead>\n",
       "<tbody>\n",
       "\t<tr><th scope=row>ENSG00000143727</th><td> 1.00000000</td><td>-0.03471638</td><td> 0.09231575</td><td> 0.04634517</td><td> 0.04685952</td><td>-0.08016655</td><td> 0.0072143967</td><td> 8.559309e-03</td><td> 0.0012442669</td><td>-2.902927e-03</td></tr>\n",
       "\t<tr><th scope=row>ENSG00000115705</th><td>-0.03471638</td><td> 1.00000000</td><td>-0.02941794</td><td>-0.01190866</td><td>-0.01687068</td><td> 0.02580236</td><td> 0.0009909984</td><td> 4.706685e-04</td><td> 0.0003051304</td><td> 7.024305e-05</td></tr>\n",
       "\t<tr><th scope=row>ENSG00000130508</th><td> 0.09231575</td><td>-0.02941794</td><td> 1.00000000</td><td> 0.08274796</td><td> 0.04527668</td><td>-0.09825233</td><td> 0.0020353241</td><td>-5.412952e-05</td><td> 0.0001379938</td><td>-9.027237e-04</td></tr>\n",
       "\t<tr><th scope=row>ENSG00000182551</th><td> 0.04634517</td><td>-0.01190866</td><td> 0.08274796</td><td> 1.00000000</td><td> 0.01438333</td><td>-0.05545717</td><td>-0.0246278726</td><td>-3.029527e-02</td><td>-0.0014908876</td><td>-3.005412e-03</td></tr>\n",
       "\t<tr><th scope=row>ENSG00000171865</th><td> 0.04685952</td><td>-0.01687068</td><td> 0.04527668</td><td> 0.01438333</td><td> 1.00000000</td><td>-0.04665396</td><td> 0.0255013948</td><td> 2.771904e-02</td><td> 0.0013748303</td><td> 1.021597e-03</td></tr>\n",
       "\t<tr><th scope=row>ENSG00000171863</th><td>-0.08016655</td><td> 0.02580236</td><td>-0.09825233</td><td>-0.05545717</td><td>-0.04665396</td><td> 1.00000000</td><td>-0.0446797025</td><td>-4.048404e-02</td><td> 0.0001385210</td><td>-7.872039e-03</td></tr>\n",
       "</tbody>\n",
       "</table>\n"
      ],
      "text/latex": [
       "A data.frame: 6 × 10\n",
       "\\begin{tabular}{r|llllllllll}\n",
       "  & ENSG00000143727 & ENSG00000115705 & ENSG00000130508 & ENSG00000182551 & ENSG00000171865 & ENSG00000171863 & ENSG00000134326 & ENSG00000134321 & ENSG00000115738 & ENSG00000134313\\\\\n",
       "  & <dbl> & <dbl> & <dbl> & <dbl> & <dbl> & <dbl> & <dbl> & <dbl> & <dbl> & <dbl>\\\\\n",
       "\\hline\n",
       "\tENSG00000143727 &  1.00000000 & -0.03471638 &  0.09231575 &  0.04634517 &  0.04685952 & -0.08016655 &  0.0072143967 &  8.559309e-03 &  0.0012442669 & -2.902927e-03\\\\\n",
       "\tENSG00000115705 & -0.03471638 &  1.00000000 & -0.02941794 & -0.01190866 & -0.01687068 &  0.02580236 &  0.0009909984 &  4.706685e-04 &  0.0003051304 &  7.024305e-05\\\\\n",
       "\tENSG00000130508 &  0.09231575 & -0.02941794 &  1.00000000 &  0.08274796 &  0.04527668 & -0.09825233 &  0.0020353241 & -5.412952e-05 &  0.0001379938 & -9.027237e-04\\\\\n",
       "\tENSG00000182551 &  0.04634517 & -0.01190866 &  0.08274796 &  1.00000000 &  0.01438333 & -0.05545717 & -0.0246278726 & -3.029527e-02 & -0.0014908876 & -3.005412e-03\\\\\n",
       "\tENSG00000171865 &  0.04685952 & -0.01687068 &  0.04527668 &  0.01438333 &  1.00000000 & -0.04665396 &  0.0255013948 &  2.771904e-02 &  0.0013748303 &  1.021597e-03\\\\\n",
       "\tENSG00000171863 & -0.08016655 &  0.02580236 & -0.09825233 & -0.05545717 & -0.04665396 &  1.00000000 & -0.0446797025 & -4.048404e-02 &  0.0001385210 & -7.872039e-03\\\\\n",
       "\\end{tabular}\n"
      ],
      "text/markdown": [
       "\n",
       "A data.frame: 6 × 10\n",
       "\n",
       "| <!--/--> | ENSG00000143727 &lt;dbl&gt; | ENSG00000115705 &lt;dbl&gt; | ENSG00000130508 &lt;dbl&gt; | ENSG00000182551 &lt;dbl&gt; | ENSG00000171865 &lt;dbl&gt; | ENSG00000171863 &lt;dbl&gt; | ENSG00000134326 &lt;dbl&gt; | ENSG00000134321 &lt;dbl&gt; | ENSG00000115738 &lt;dbl&gt; | ENSG00000134313 &lt;dbl&gt; |\n",
       "|---|---|---|---|---|---|---|---|---|---|---|\n",
       "| ENSG00000143727 |  1.00000000 | -0.03471638 |  0.09231575 |  0.04634517 |  0.04685952 | -0.08016655 |  0.0072143967 |  8.559309e-03 |  0.0012442669 | -2.902927e-03 |\n",
       "| ENSG00000115705 | -0.03471638 |  1.00000000 | -0.02941794 | -0.01190866 | -0.01687068 |  0.02580236 |  0.0009909984 |  4.706685e-04 |  0.0003051304 |  7.024305e-05 |\n",
       "| ENSG00000130508 |  0.09231575 | -0.02941794 |  1.00000000 |  0.08274796 |  0.04527668 | -0.09825233 |  0.0020353241 | -5.412952e-05 |  0.0001379938 | -9.027237e-04 |\n",
       "| ENSG00000182551 |  0.04634517 | -0.01190866 |  0.08274796 |  1.00000000 |  0.01438333 | -0.05545717 | -0.0246278726 | -3.029527e-02 | -0.0014908876 | -3.005412e-03 |\n",
       "| ENSG00000171865 |  0.04685952 | -0.01687068 |  0.04527668 |  0.01438333 |  1.00000000 | -0.04665396 |  0.0255013948 |  2.771904e-02 |  0.0013748303 |  1.021597e-03 |\n",
       "| ENSG00000171863 | -0.08016655 |  0.02580236 | -0.09825233 | -0.05545717 | -0.04665396 |  1.00000000 | -0.0446797025 | -4.048404e-02 |  0.0001385210 | -7.872039e-03 |\n",
       "\n"
      ],
      "text/plain": [
       "                ENSG00000143727 ENSG00000115705 ENSG00000130508 ENSG00000182551\n",
       "ENSG00000143727  1.00000000     -0.03471638      0.09231575      0.04634517    \n",
       "ENSG00000115705 -0.03471638      1.00000000     -0.02941794     -0.01190866    \n",
       "ENSG00000130508  0.09231575     -0.02941794      1.00000000      0.08274796    \n",
       "ENSG00000182551  0.04634517     -0.01190866      0.08274796      1.00000000    \n",
       "ENSG00000171865  0.04685952     -0.01687068      0.04527668      0.01438333    \n",
       "ENSG00000171863 -0.08016655      0.02580236     -0.09825233     -0.05545717    \n",
       "                ENSG00000171865 ENSG00000171863 ENSG00000134326 ENSG00000134321\n",
       "ENSG00000143727  0.04685952     -0.08016655      0.0072143967    8.559309e-03  \n",
       "ENSG00000115705 -0.01687068      0.02580236      0.0009909984    4.706685e-04  \n",
       "ENSG00000130508  0.04527668     -0.09825233      0.0020353241   -5.412952e-05  \n",
       "ENSG00000182551  0.01438333     -0.05545717     -0.0246278726   -3.029527e-02  \n",
       "ENSG00000171865  1.00000000     -0.04665396      0.0255013948    2.771904e-02  \n",
       "ENSG00000171863 -0.04665396      1.00000000     -0.0446797025   -4.048404e-02  \n",
       "                ENSG00000115738 ENSG00000134313\n",
       "ENSG00000143727  0.0012442669   -2.902927e-03  \n",
       "ENSG00000115705  0.0003051304    7.024305e-05  \n",
       "ENSG00000130508  0.0001379938   -9.027237e-04  \n",
       "ENSG00000182551 -0.0014908876   -3.005412e-03  \n",
       "ENSG00000171865  0.0013748303    1.021597e-03  \n",
       "ENSG00000171863  0.0001385210   -7.872039e-03  "
      ]
     },
     "metadata": {},
     "output_type": "display_data"
    }
   ],
   "source": [
    "# quick and visual comparison of the two matrices\n",
    "IRdisplay::display(head(gene_corrs[1:10, 1:10]))\n",
    "IRdisplay::display(head(gene_corrs_corrected[1:10, 1:10]))"
   ]
  },
  {
   "cell_type": "markdown",
   "id": "c6c40f1a-d153-475a-94eb-c71697ad9d51",
   "metadata": {
    "papermill": {
     "duration": 0.00723,
     "end_time": "2022-06-18T11:49:58.172185",
     "exception": false,
     "start_time": "2022-06-18T11:49:58.164955",
     "status": "completed"
    },
    "tags": []
   },
   "source": [
    "Both matrices should \"look\" similar. We are not interested in perfectly accurate correlation values (they are already inaccurate)."
   ]
  },
  {
   "cell_type": "markdown",
   "id": "bf0f49cb-9c21-4616-8390-bb68d52dae56",
   "metadata": {
    "papermill": {
     "duration": 0.006842,
     "end_time": "2022-06-18T11:49:58.186158",
     "exception": false,
     "start_time": "2022-06-18T11:49:58.179316",
     "status": "completed"
    },
    "tags": []
   },
   "source": [
    "# Save"
   ]
  },
  {
   "cell_type": "code",
   "execution_count": 31,
   "id": "2e58e7f3-a75c-4195-a20e-39e3e3e1cc9a",
   "metadata": {
    "execution": {
     "iopub.execute_input": "2022-06-18T11:49:58.201441Z",
     "iopub.status.busy": "2022-06-18T11:49:58.200543Z",
     "iopub.status.idle": "2022-06-18T11:49:58.231525Z",
     "shell.execute_reply": "2022-06-18T11:49:58.229622Z"
    },
    "papermill": {
     "duration": 0.04031,
     "end_time": "2022-06-18T11:49:58.233224",
     "exception": false,
     "start_time": "2022-06-18T11:49:58.192914",
     "status": "completed"
    },
    "tags": []
   },
   "outputs": [],
   "source": [
    "py_save_object(gene_corrs_corrected, OUTPUT_FILE)"
   ]
  },
  {
   "cell_type": "code",
   "execution_count": null,
   "id": "d8ae4220-2171-460c-9231-cd5219f3fe77",
   "metadata": {
    "papermill": {
     "duration": 0.007909,
     "end_time": "2022-06-18T11:49:58.249227",
     "exception": false,
     "start_time": "2022-06-18T11:49:58.241318",
     "status": "completed"
    },
    "tags": []
   },
   "outputs": [],
   "source": []
  }
 ],
 "metadata": {
  "jupytext": {
   "cell_metadata_filter": "all,-execution,-papermill,-trusted"
  },
  "kernelspec": {
   "display_name": "R",
   "language": "R",
   "name": "ir"
  },
  "language_info": {
   "codemirror_mode": "r",
   "file_extension": ".r",
   "mimetype": "text/x-r-source",
   "name": "R",
   "pygments_lexer": "r",
   "version": "3.6.3"
  },
  "papermill": {
   "default_parameters": {},
   "duration": 6.478958,
   "end_time": "2022-06-18T11:49:58.374728",
   "environment_variables": {},
   "exception": null,
   "input_path": "nbs/15_gsa_gls/12-gene_expr_correlations-adjust.ipynb",
   "output_path": "nbs/15_gsa_gls/gene_corrs/gtex_v8/mashr/12-gene_expr_correlations-adjust-chr2.run.ipynb",
   "parameters": {
    "EQTL_MODEL": "MASHR",
    "REFERENCE_PANEL": "GTEX_V8",
    "chromosome": 2
   },
   "start_time": "2022-06-18T11:49:51.895770",
   "version": "2.3.4"
  }
 },
 "nbformat": 4,
 "nbformat_minor": 5
}
