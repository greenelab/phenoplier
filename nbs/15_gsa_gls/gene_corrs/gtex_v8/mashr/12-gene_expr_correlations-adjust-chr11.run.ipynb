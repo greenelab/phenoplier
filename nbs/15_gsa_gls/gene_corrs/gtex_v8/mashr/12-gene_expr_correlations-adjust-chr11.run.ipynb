{
 "cells": [
  {
   "cell_type": "markdown",
   "id": "6c1f0ae4-cd27-4fec-a23d-51699e7059e8",
   "metadata": {
    "papermill": {
     "duration": 0.00597,
     "end_time": "2022-06-18T11:50:15.975961",
     "exception": false,
     "start_time": "2022-06-18T11:50:15.969991",
     "status": "completed"
    },
    "tags": []
   },
   "source": [
    "# Description"
   ]
  },
  {
   "cell_type": "markdown",
   "id": "3268a19a-8a83-4f61-aa39-09b084c81d61",
   "metadata": {
    "papermill": {
     "duration": 0.004888,
     "end_time": "2022-06-18T11:50:15.985975",
     "exception": false,
     "start_time": "2022-06-18T11:50:15.981087",
     "status": "completed"
    },
    "tags": []
   },
   "source": [
    "**TODO**"
   ]
  },
  {
   "cell_type": "markdown",
   "id": "401368d3-22c1-4d81-a2c3-c4a81fde4191",
   "metadata": {
    "papermill": {
     "duration": 0.004706,
     "end_time": "2022-06-18T11:50:15.995446",
     "exception": false,
     "start_time": "2022-06-18T11:50:15.990740",
     "status": "completed"
    },
    "tags": []
   },
   "source": [
    "# Modules"
   ]
  },
  {
   "cell_type": "code",
   "execution_count": 1,
   "id": "f9b5022b-7c5e-4d37-9c7a-fdb91777c7f9",
   "metadata": {
    "execution": {
     "iopub.execute_input": "2022-06-18T11:50:16.030325Z",
     "iopub.status.busy": "2022-06-18T11:50:16.028694Z",
     "iopub.status.idle": "2022-06-18T11:50:19.405606Z",
     "shell.execute_reply": "2022-06-18T11:50:19.404087Z"
    },
    "papermill": {
     "duration": 3.407738,
     "end_time": "2022-06-18T11:50:19.407743",
     "exception": false,
     "start_time": "2022-06-18T11:50:16.000005",
     "status": "completed"
    },
    "tags": []
   },
   "outputs": [],
   "source": [
    "library(reticulate)\n",
    "pd <- import(\"pandas\")"
   ]
  },
  {
   "cell_type": "markdown",
   "id": "c1958d6a-0229-47e8-823e-792fcf84fccf",
   "metadata": {
    "papermill": {
     "duration": 0.005031,
     "end_time": "2022-06-18T11:50:19.418011",
     "exception": false,
     "start_time": "2022-06-18T11:50:19.412980",
     "status": "completed"
    },
    "tags": []
   },
   "source": [
    "# Settings"
   ]
  },
  {
   "cell_type": "code",
   "execution_count": 2,
   "id": "22d12bb4-1699-4a6b-b1b9-d3fdd3d547d7",
   "metadata": {
    "execution": {
     "iopub.execute_input": "2022-06-18T11:50:19.452545Z",
     "iopub.status.busy": "2022-06-18T11:50:19.429358Z",
     "iopub.status.idle": "2022-06-18T11:50:19.465108Z",
     "shell.execute_reply": "2022-06-18T11:50:19.463885Z"
    },
    "papermill": {
     "duration": 0.043878,
     "end_time": "2022-06-18T11:50:19.466973",
     "exception": false,
     "start_time": "2022-06-18T11:50:19.423095",
     "status": "completed"
    },
    "tags": [
     "parameters"
    ]
   },
   "outputs": [],
   "source": [
    "# reference panel\n",
    "REFERENCE_PANEL <- \"GTEX_V8\"\n",
    "# REFERENCE_PANEL = \"1000G\"\n",
    "\n",
    "# prediction models\n",
    "## mashr\n",
    "EQTL_MODEL <- \"MASHR\"\n",
    "\n",
    "# ## elastic net\n",
    "# EQTL_MODEL = \"ELASTIC_NET\"\n",
    "\n",
    "chromosome <- NULL"
   ]
  },
  {
   "cell_type": "code",
   "execution_count": 3,
   "id": "be5bd7ba",
   "metadata": {
    "execution": {
     "iopub.execute_input": "2022-06-18T11:50:19.478937Z",
     "iopub.status.busy": "2022-06-18T11:50:19.477768Z",
     "iopub.status.idle": "2022-06-18T11:50:19.496428Z",
     "shell.execute_reply": "2022-06-18T11:50:19.495122Z"
    },
    "papermill": {
     "duration": 0.026306,
     "end_time": "2022-06-18T11:50:19.498218",
     "exception": false,
     "start_time": "2022-06-18T11:50:19.471912",
     "status": "completed"
    },
    "tags": [
     "injected-parameters"
    ]
   },
   "outputs": [],
   "source": [
    "# Parameters\n",
    "chromosome = 11\n",
    "REFERENCE_PANEL = \"GTEX_V8\"\n",
    "EQTL_MODEL = \"MASHR\"\n"
   ]
  },
  {
   "cell_type": "code",
   "execution_count": 4,
   "id": "8fe24bef",
   "metadata": {
    "execution": {
     "iopub.execute_input": "2022-06-18T11:50:19.510644Z",
     "iopub.status.busy": "2022-06-18T11:50:19.509594Z",
     "iopub.status.idle": "2022-06-18T11:50:19.523244Z",
     "shell.execute_reply": "2022-06-18T11:50:19.521878Z"
    },
    "papermill": {
     "duration": 0.021769,
     "end_time": "2022-06-18T11:50:19.525218",
     "exception": false,
     "start_time": "2022-06-18T11:50:19.503449",
     "status": "completed"
    },
    "tags": []
   },
   "outputs": [
    {
     "data": {
      "text/html": [
       "'Using reference panel: GTEX_V8'"
      ],
      "text/latex": [
       "'Using reference panel: GTEX\\_V8'"
      ],
      "text/markdown": [
       "'Using reference panel: GTEX_V8'"
      ],
      "text/plain": [
       "[1] \"Using reference panel: GTEX_V8\""
      ]
     },
     "metadata": {},
     "output_type": "display_data"
    }
   ],
   "source": [
    "paste0(\"Using reference panel: \", REFERENCE_PANEL)"
   ]
  },
  {
   "cell_type": "code",
   "execution_count": 5,
   "id": "d62c28f8-186c-478b-948c-58e14f00df4b",
   "metadata": {
    "execution": {
     "iopub.execute_input": "2022-06-18T11:50:19.539420Z",
     "iopub.status.busy": "2022-06-18T11:50:19.537728Z",
     "iopub.status.idle": "2022-06-18T11:50:19.550958Z",
     "shell.execute_reply": "2022-06-18T11:50:19.549659Z"
    },
    "papermill": {
     "duration": 0.022213,
     "end_time": "2022-06-18T11:50:19.553245",
     "exception": false,
     "start_time": "2022-06-18T11:50:19.531032",
     "status": "completed"
    },
    "tags": []
   },
   "outputs": [
    {
     "data": {
      "text/html": [
       "'Using eQTL model: MASHR'"
      ],
      "text/latex": [
       "'Using eQTL model: MASHR'"
      ],
      "text/markdown": [
       "'Using eQTL model: MASHR'"
      ],
      "text/plain": [
       "[1] \"Using eQTL model: MASHR\""
      ]
     },
     "metadata": {},
     "output_type": "display_data"
    }
   ],
   "source": [
    "paste0(\"Using eQTL model: \", EQTL_MODEL)"
   ]
  },
  {
   "cell_type": "code",
   "execution_count": 6,
   "id": "5243676f-c889-4405-9a4d-262f0f044614",
   "metadata": {
    "execution": {
     "iopub.execute_input": "2022-06-18T11:50:19.567156Z",
     "iopub.status.busy": "2022-06-18T11:50:19.565871Z",
     "iopub.status.idle": "2022-06-18T11:50:19.576369Z",
     "shell.execute_reply": "2022-06-18T11:50:19.575053Z"
    },
    "papermill": {
     "duration": 0.019146,
     "end_time": "2022-06-18T11:50:19.578226",
     "exception": false,
     "start_time": "2022-06-18T11:50:19.559080",
     "status": "completed"
    },
    "tags": []
   },
   "outputs": [],
   "source": [
    "# chromosome must be provided as parameter\n",
    "stopifnot(!is.null(chromosome))"
   ]
  },
  {
   "cell_type": "markdown",
   "id": "83a49773-bcf5-44c4-8d9b-a6ac65a57ec6",
   "metadata": {
    "papermill": {
     "duration": 0.005227,
     "end_time": "2022-06-18T11:50:19.589646",
     "exception": false,
     "start_time": "2022-06-18T11:50:19.584419",
     "status": "completed"
    },
    "tags": []
   },
   "source": [
    "# Paths"
   ]
  },
  {
   "cell_type": "code",
   "execution_count": 7,
   "id": "eb6aa8aa-b452-4a2f-a780-93dd80ad4285",
   "metadata": {
    "execution": {
     "iopub.execute_input": "2022-06-18T11:50:19.602389Z",
     "iopub.status.busy": "2022-06-18T11:50:19.601202Z",
     "iopub.status.idle": "2022-06-18T11:50:19.616439Z",
     "shell.execute_reply": "2022-06-18T11:50:19.614796Z"
    },
    "papermill": {
     "duration": 0.023678,
     "end_time": "2022-06-18T11:50:19.618579",
     "exception": false,
     "start_time": "2022-06-18T11:50:19.594901",
     "status": "completed"
    },
    "tags": []
   },
   "outputs": [
    {
     "data": {
      "text/html": [
       "'/opt/data/data/phenomexcan/ld_blocks/gene_corrs'"
      ],
      "text/latex": [
       "'/opt/data/data/phenomexcan/ld\\_blocks/gene\\_corrs'"
      ],
      "text/markdown": [
       "'/opt/data/data/phenomexcan/ld_blocks/gene_corrs'"
      ],
      "text/plain": [
       "[1] \"/opt/data/data/phenomexcan/ld_blocks/gene_corrs\""
      ]
     },
     "metadata": {},
     "output_type": "display_data"
    }
   ],
   "source": [
    "GENE_CORRS_DIR <- Sys.getenv(\"PHENOPLIER_PHENOMEXCAN_LD_BLOCKS_GENE_CORRS_DIR\")\n",
    "IRdisplay::display(GENE_CORRS_DIR)"
   ]
  },
  {
   "cell_type": "code",
   "execution_count": 8,
   "id": "eb24f15f-f282-4476-8943-8413c4483f12",
   "metadata": {
    "execution": {
     "iopub.execute_input": "2022-06-18T11:50:19.631753Z",
     "iopub.status.busy": "2022-06-18T11:50:19.630695Z",
     "iopub.status.idle": "2022-06-18T11:50:19.645550Z",
     "shell.execute_reply": "2022-06-18T11:50:19.644124Z"
    },
    "papermill": {
     "duration": 0.023022,
     "end_time": "2022-06-18T11:50:19.647341",
     "exception": false,
     "start_time": "2022-06-18T11:50:19.624319",
     "status": "completed"
    },
    "tags": []
   },
   "outputs": [
    {
     "data": {
      "text/html": [
       "'/opt/data/data/phenomexcan/ld_blocks/gene_corrs/gtex_v8/mashr/by_chr'"
      ],
      "text/latex": [
       "'/opt/data/data/phenomexcan/ld\\_blocks/gene\\_corrs/gtex\\_v8/mashr/by\\_chr'"
      ],
      "text/markdown": [
       "'/opt/data/data/phenomexcan/ld_blocks/gene_corrs/gtex_v8/mashr/by_chr'"
      ],
      "text/plain": [
       "[1] \"/opt/data/data/phenomexcan/ld_blocks/gene_corrs/gtex_v8/mashr/by_chr\""
      ]
     },
     "metadata": {},
     "output_type": "display_data"
    }
   ],
   "source": [
    "INPUT_DIR <- file.path(GENE_CORRS_DIR, tolower(REFERENCE_PANEL), tolower(EQTL_MODEL), \"by_chr\")\n",
    "IRdisplay::display(INPUT_DIR)"
   ]
  },
  {
   "cell_type": "code",
   "execution_count": 9,
   "id": "43c1daba-0da9-4822-8d1e-968e9767e251",
   "metadata": {
    "execution": {
     "iopub.execute_input": "2022-06-18T11:50:19.660766Z",
     "iopub.status.busy": "2022-06-18T11:50:19.659640Z",
     "iopub.status.idle": "2022-06-18T11:50:19.675297Z",
     "shell.execute_reply": "2022-06-18T11:50:19.673987Z"
    },
    "papermill": {
     "duration": 0.024193,
     "end_time": "2022-06-18T11:50:19.677293",
     "exception": false,
     "start_time": "2022-06-18T11:50:19.653100",
     "status": "completed"
    },
    "tags": []
   },
   "outputs": [
    {
     "data": {
      "text/html": [
       "'/opt/data/data/phenomexcan/ld_blocks/gene_corrs/gtex_v8/mashr/by_chr/gene_corrs-chr11.pkl'"
      ],
      "text/latex": [
       "'/opt/data/data/phenomexcan/ld\\_blocks/gene\\_corrs/gtex\\_v8/mashr/by\\_chr/gene\\_corrs-chr11.pkl'"
      ],
      "text/markdown": [
       "'/opt/data/data/phenomexcan/ld_blocks/gene_corrs/gtex_v8/mashr/by_chr/gene_corrs-chr11.pkl'"
      ],
      "text/plain": [
       "[1] \"/opt/data/data/phenomexcan/ld_blocks/gene_corrs/gtex_v8/mashr/by_chr/gene_corrs-chr11.pkl\""
      ]
     },
     "metadata": {},
     "output_type": "display_data"
    }
   ],
   "source": [
    "INPUT_FILE <- file.path(INPUT_DIR, paste0(\"gene_corrs-chr\", chromosome, \".pkl\"))\n",
    "IRdisplay::display(INPUT_FILE)\n",
    "stopifnot(file.exists(INPUT_FILE))"
   ]
  },
  {
   "cell_type": "code",
   "execution_count": 10,
   "id": "72386fbf-982b-420a-9057-ea9a97a5e571",
   "metadata": {
    "execution": {
     "iopub.execute_input": "2022-06-18T11:50:19.691531Z",
     "iopub.status.busy": "2022-06-18T11:50:19.690438Z",
     "iopub.status.idle": "2022-06-18T11:50:19.705786Z",
     "shell.execute_reply": "2022-06-18T11:50:19.704422Z"
    },
    "papermill": {
     "duration": 0.024303,
     "end_time": "2022-06-18T11:50:19.707697",
     "exception": false,
     "start_time": "2022-06-18T11:50:19.683394",
     "status": "completed"
    },
    "tags": []
   },
   "outputs": [
    {
     "data": {
      "text/html": [
       "'/opt/data/data/phenomexcan/ld_blocks/gene_corrs/gtex_v8/mashr/by_chr/corrected_positive_definite'"
      ],
      "text/latex": [
       "'/opt/data/data/phenomexcan/ld\\_blocks/gene\\_corrs/gtex\\_v8/mashr/by\\_chr/corrected\\_positive\\_definite'"
      ],
      "text/markdown": [
       "'/opt/data/data/phenomexcan/ld_blocks/gene_corrs/gtex_v8/mashr/by_chr/corrected_positive_definite'"
      ],
      "text/plain": [
       "[1] \"/opt/data/data/phenomexcan/ld_blocks/gene_corrs/gtex_v8/mashr/by_chr/corrected_positive_definite\""
      ]
     },
     "metadata": {},
     "output_type": "display_data"
    }
   ],
   "source": [
    "OUTPUT_DIR <- file.path(INPUT_DIR, \"corrected_positive_definite\")\n",
    "IRdisplay::display(OUTPUT_DIR)\n",
    "dir.create(OUTPUT_DIR, recursive = TRUE, showWarnings = FALSE)"
   ]
  },
  {
   "cell_type": "code",
   "execution_count": 11,
   "id": "f9f19d1d-ce4c-4099-a26e-250fec751de7",
   "metadata": {
    "execution": {
     "iopub.execute_input": "2022-06-18T11:50:19.722398Z",
     "iopub.status.busy": "2022-06-18T11:50:19.721288Z",
     "iopub.status.idle": "2022-06-18T11:50:19.740694Z",
     "shell.execute_reply": "2022-06-18T11:50:19.736495Z"
    },
    "papermill": {
     "duration": 0.029103,
     "end_time": "2022-06-18T11:50:19.743362",
     "exception": false,
     "start_time": "2022-06-18T11:50:19.714259",
     "status": "completed"
    },
    "tags": []
   },
   "outputs": [
    {
     "data": {
      "text/html": [
       "'/opt/data/data/phenomexcan/ld_blocks/gene_corrs/gtex_v8/mashr/by_chr/corrected_positive_definite/gene_corrs-chr11.pkl'"
      ],
      "text/latex": [
       "'/opt/data/data/phenomexcan/ld\\_blocks/gene\\_corrs/gtex\\_v8/mashr/by\\_chr/corrected\\_positive\\_definite/gene\\_corrs-chr11.pkl'"
      ],
      "text/markdown": [
       "'/opt/data/data/phenomexcan/ld_blocks/gene_corrs/gtex_v8/mashr/by_chr/corrected_positive_definite/gene_corrs-chr11.pkl'"
      ],
      "text/plain": [
       "[1] \"/opt/data/data/phenomexcan/ld_blocks/gene_corrs/gtex_v8/mashr/by_chr/corrected_positive_definite/gene_corrs-chr11.pkl\""
      ]
     },
     "metadata": {},
     "output_type": "display_data"
    },
    {
     "data": {
      "text/html": [
       "'Output file exists, it will be overwritten'"
      ],
      "text/latex": [
       "'Output file exists, it will be overwritten'"
      ],
      "text/markdown": [
       "'Output file exists, it will be overwritten'"
      ],
      "text/plain": [
       "[1] \"Output file exists, it will be overwritten\""
      ]
     },
     "metadata": {},
     "output_type": "display_data"
    }
   ],
   "source": [
    "OUTPUT_FILE <- file.path(OUTPUT_DIR, paste0(\"gene_corrs-chr\", chromosome, \".pkl\"))\n",
    "IRdisplay::display(OUTPUT_FILE)\n",
    "if (file.exists(OUTPUT_FILE)) {\n",
    "  IRdisplay::display(\"Output file exists, it will be overwritten\")\n",
    "}"
   ]
  },
  {
   "cell_type": "markdown",
   "id": "5aad60e6-cba4-41b5-9755-93eb86f4ed05",
   "metadata": {
    "papermill": {
     "duration": 0.006278,
     "end_time": "2022-06-18T11:50:19.756948",
     "exception": false,
     "start_time": "2022-06-18T11:50:19.750670",
     "status": "completed"
    },
    "tags": []
   },
   "source": [
    "# Functions"
   ]
  },
  {
   "cell_type": "code",
   "execution_count": 12,
   "id": "f828f081-7358-4cc8-8a89-1ee293bcc1a7",
   "metadata": {
    "execution": {
     "iopub.execute_input": "2022-06-18T11:50:19.770842Z",
     "iopub.status.busy": "2022-06-18T11:50:19.769788Z",
     "iopub.status.idle": "2022-06-18T11:50:19.781611Z",
     "shell.execute_reply": "2022-06-18T11:50:19.779611Z"
    },
    "papermill": {
     "duration": 0.020249,
     "end_time": "2022-06-18T11:50:19.783387",
     "exception": false,
     "start_time": "2022-06-18T11:50:19.763138",
     "status": "completed"
    },
    "tags": []
   },
   "outputs": [],
   "source": [
    "# taken from https://www.r-bloggers.com/2013/08/correcting-a-pseudo-correlation-matrix-to-be-positive-semidefinite/\n",
    "# TODO: add documentation\n",
    "CorrectCM <- function(CM, p = 0) {\n",
    "  n <- dim(var(CM))[1L]\n",
    "  E <- eigen(CM)\n",
    "  CM1 <- E$vectors %*% tcrossprod(diag(pmax(E$values, p), n), E$vectors)\n",
    "  Balance <- diag(1 / sqrt(diag(CM1)))\n",
    "  CM2 <- Balance %*% CM1 %*% Balance\n",
    "  return(CM2)\n",
    "}"
   ]
  },
  {
   "cell_type": "code",
   "execution_count": 13,
   "id": "7ab9bebf-50a1-4e6f-b16a-e23cae93d02a",
   "metadata": {
    "execution": {
     "iopub.execute_input": "2022-06-18T11:50:19.797024Z",
     "iopub.status.busy": "2022-06-18T11:50:19.796037Z",
     "iopub.status.idle": "2022-06-18T11:50:19.806451Z",
     "shell.execute_reply": "2022-06-18T11:50:19.804505Z"
    },
    "papermill": {
     "duration": 0.018683,
     "end_time": "2022-06-18T11:50:19.808156",
     "exception": false,
     "start_time": "2022-06-18T11:50:19.789473",
     "status": "completed"
    },
    "tags": []
   },
   "outputs": [],
   "source": [
    "is_positive_definite <- function(data) {\n",
    "  eigenvalues <- eigen(data)$values\n",
    "  nonpositive_eigenvalues <- eigenvalues[eigenvalues <= 0]\n",
    "\n",
    "  if (length(nonpositive_eigenvalues) > 0) {\n",
    "    IRdisplay::display(\"We need to correct the data and make the matrix positive definite\")\n",
    "    return(FALSE)\n",
    "  } else {\n",
    "    IRdisplay::display(\"Matrix is already positive definite!\")\n",
    "    return(TRUE)\n",
    "  }\n",
    "}"
   ]
  },
  {
   "cell_type": "markdown",
   "id": "ac52ecbc-5618-4876-a4fa-546a08e3fcf3",
   "metadata": {
    "papermill": {
     "duration": 0.005511,
     "end_time": "2022-06-18T11:50:19.819545",
     "exception": false,
     "start_time": "2022-06-18T11:50:19.814034",
     "status": "completed"
    },
    "tags": []
   },
   "source": [
    "# Load data"
   ]
  },
  {
   "cell_type": "code",
   "execution_count": 14,
   "id": "3a7744e1-2e5a-450e-9dcf-945ec181347d",
   "metadata": {
    "execution": {
     "iopub.execute_input": "2022-06-18T11:50:19.832298Z",
     "iopub.status.busy": "2022-06-18T11:50:19.831310Z",
     "iopub.status.idle": "2022-06-18T11:50:19.900932Z",
     "shell.execute_reply": "2022-06-18T11:50:19.898924Z"
    },
    "papermill": {
     "duration": 0.077537,
     "end_time": "2022-06-18T11:50:19.902604",
     "exception": false,
     "start_time": "2022-06-18T11:50:19.825067",
     "status": "completed"
    },
    "tags": []
   },
   "outputs": [],
   "source": [
    "gene_corrs <- pd$read_pickle(INPUT_FILE)"
   ]
  },
  {
   "cell_type": "code",
   "execution_count": 15,
   "id": "6fb150b2-4c68-4e9b-9aa5-1890d3f762e3",
   "metadata": {
    "execution": {
     "iopub.execute_input": "2022-06-18T11:50:19.916196Z",
     "iopub.status.busy": "2022-06-18T11:50:19.915177Z",
     "iopub.status.idle": "2022-06-18T11:50:19.929301Z",
     "shell.execute_reply": "2022-06-18T11:50:19.927446Z"
    },
    "papermill": {
     "duration": 0.022365,
     "end_time": "2022-06-18T11:50:19.930979",
     "exception": false,
     "start_time": "2022-06-18T11:50:19.908614",
     "status": "completed"
    },
    "tags": []
   },
   "outputs": [
    {
     "data": {
      "text/html": [
       "<style>\n",
       ".list-inline {list-style: none; margin:0; padding: 0}\n",
       ".list-inline>li {display: inline-block}\n",
       ".list-inline>li:not(:last-child)::after {content: \"\\00b7\"; padding: 0 .5ex}\n",
       "</style>\n",
       "<ol class=list-inline><li>387</li><li>387</li></ol>\n"
      ],
      "text/latex": [
       "\\begin{enumerate*}\n",
       "\\item 387\n",
       "\\item 387\n",
       "\\end{enumerate*}\n"
      ],
      "text/markdown": [
       "1. 387\n",
       "2. 387\n",
       "\n",
       "\n"
      ],
      "text/plain": [
       "[1] 387 387"
      ]
     },
     "metadata": {},
     "output_type": "display_data"
    }
   ],
   "source": [
    "dim(gene_corrs)"
   ]
  },
  {
   "cell_type": "code",
   "execution_count": 16,
   "id": "0d4e53b5-7586-4a68-8ce5-d930d74ba943",
   "metadata": {
    "execution": {
     "iopub.execute_input": "2022-06-18T11:50:19.944564Z",
     "iopub.status.busy": "2022-06-18T11:50:19.943572Z",
     "iopub.status.idle": "2022-06-18T11:50:19.965775Z",
     "shell.execute_reply": "2022-06-18T11:50:19.963917Z"
    },
    "papermill": {
     "duration": 0.03009,
     "end_time": "2022-06-18T11:50:19.967307",
     "exception": false,
     "start_time": "2022-06-18T11:50:19.937217",
     "status": "completed"
    },
    "tags": []
   },
   "outputs": [
    {
     "data": {
      "text/html": [
       "<table class=\"dataframe\">\n",
       "<caption>A data.frame: 6 × 10</caption>\n",
       "<thead>\n",
       "\t<tr><th></th><th scope=col>ENSG00000177951</th><th scope=col>ENSG00000142082</th><th scope=col>ENSG00000185627</th><th scope=col>ENSG00000185201</th><th scope=col>ENSG00000185885</th><th scope=col>ENSG00000142089</th><th scope=col>ENSG00000185187</th><th scope=col>ENSG00000174915</th><th scope=col>ENSG00000174775</th><th scope=col>ENSG00000185507</th></tr>\n",
       "\t<tr><th></th><th scope=col>&lt;dbl&gt;</th><th scope=col>&lt;dbl&gt;</th><th scope=col>&lt;dbl&gt;</th><th scope=col>&lt;dbl&gt;</th><th scope=col>&lt;dbl&gt;</th><th scope=col>&lt;dbl&gt;</th><th scope=col>&lt;dbl&gt;</th><th scope=col>&lt;dbl&gt;</th><th scope=col>&lt;dbl&gt;</th><th scope=col>&lt;dbl&gt;</th></tr>\n",
       "</thead>\n",
       "<tbody>\n",
       "\t<tr><th scope=row>ENSG00000177951</th><td> 1.00000000</td><td> 0.06467838</td><td> 0.01383004</td><td> 0.01835632</td><td>-0.1160407</td><td> 0.09404034</td><td> 0.1771446168</td><td>-0.040395376</td><td>-0.04674757</td><td> 0.04000345</td></tr>\n",
       "\t<tr><th scope=row>ENSG00000142082</th><td> 0.06467838</td><td> 1.00000000</td><td>-0.15957186</td><td>-0.06578159</td><td> 0.1416064</td><td>-0.14939870</td><td> 0.0405351920</td><td>-0.000672903</td><td> 0.08710930</td><td>-0.10074523</td></tr>\n",
       "\t<tr><th scope=row>ENSG00000185627</th><td> 0.01383004</td><td>-0.15957186</td><td> 1.00000000</td><td> 0.05390432</td><td> 0.0385715</td><td>-0.01263637</td><td> 0.0002437382</td><td>-0.216339443</td><td>-0.06214113</td><td> 0.05229397</td></tr>\n",
       "\t<tr><th scope=row>ENSG00000185201</th><td> 0.01835632</td><td>-0.06578159</td><td> 0.05390432</td><td> 1.00000000</td><td>-0.0618631</td><td> 0.06515788</td><td> 0.0835571610</td><td> 0.021877127</td><td> 0.02263662</td><td> 0.07407167</td></tr>\n",
       "\t<tr><th scope=row>ENSG00000185885</th><td>-0.11604075</td><td> 0.14160642</td><td> 0.03857150</td><td>-0.06186310</td><td> 1.0000000</td><td>-0.18196319</td><td> 0.1008124295</td><td>-0.032441819</td><td>-0.03839574</td><td>-0.21432607</td></tr>\n",
       "\t<tr><th scope=row>ENSG00000142089</th><td> 0.09404034</td><td>-0.14939870</td><td>-0.01263637</td><td> 0.06515788</td><td>-0.1819632</td><td> 1.00000000</td><td>-0.1382320098</td><td> 0.048044527</td><td> 0.02692348</td><td> 0.04434910</td></tr>\n",
       "</tbody>\n",
       "</table>\n"
      ],
      "text/latex": [
       "A data.frame: 6 × 10\n",
       "\\begin{tabular}{r|llllllllll}\n",
       "  & ENSG00000177951 & ENSG00000142082 & ENSG00000185627 & ENSG00000185201 & ENSG00000185885 & ENSG00000142089 & ENSG00000185187 & ENSG00000174915 & ENSG00000174775 & ENSG00000185507\\\\\n",
       "  & <dbl> & <dbl> & <dbl> & <dbl> & <dbl> & <dbl> & <dbl> & <dbl> & <dbl> & <dbl>\\\\\n",
       "\\hline\n",
       "\tENSG00000177951 &  1.00000000 &  0.06467838 &  0.01383004 &  0.01835632 & -0.1160407 &  0.09404034 &  0.1771446168 & -0.040395376 & -0.04674757 &  0.04000345\\\\\n",
       "\tENSG00000142082 &  0.06467838 &  1.00000000 & -0.15957186 & -0.06578159 &  0.1416064 & -0.14939870 &  0.0405351920 & -0.000672903 &  0.08710930 & -0.10074523\\\\\n",
       "\tENSG00000185627 &  0.01383004 & -0.15957186 &  1.00000000 &  0.05390432 &  0.0385715 & -0.01263637 &  0.0002437382 & -0.216339443 & -0.06214113 &  0.05229397\\\\\n",
       "\tENSG00000185201 &  0.01835632 & -0.06578159 &  0.05390432 &  1.00000000 & -0.0618631 &  0.06515788 &  0.0835571610 &  0.021877127 &  0.02263662 &  0.07407167\\\\\n",
       "\tENSG00000185885 & -0.11604075 &  0.14160642 &  0.03857150 & -0.06186310 &  1.0000000 & -0.18196319 &  0.1008124295 & -0.032441819 & -0.03839574 & -0.21432607\\\\\n",
       "\tENSG00000142089 &  0.09404034 & -0.14939870 & -0.01263637 &  0.06515788 & -0.1819632 &  1.00000000 & -0.1382320098 &  0.048044527 &  0.02692348 &  0.04434910\\\\\n",
       "\\end{tabular}\n"
      ],
      "text/markdown": [
       "\n",
       "A data.frame: 6 × 10\n",
       "\n",
       "| <!--/--> | ENSG00000177951 &lt;dbl&gt; | ENSG00000142082 &lt;dbl&gt; | ENSG00000185627 &lt;dbl&gt; | ENSG00000185201 &lt;dbl&gt; | ENSG00000185885 &lt;dbl&gt; | ENSG00000142089 &lt;dbl&gt; | ENSG00000185187 &lt;dbl&gt; | ENSG00000174915 &lt;dbl&gt; | ENSG00000174775 &lt;dbl&gt; | ENSG00000185507 &lt;dbl&gt; |\n",
       "|---|---|---|---|---|---|---|---|---|---|---|\n",
       "| ENSG00000177951 |  1.00000000 |  0.06467838 |  0.01383004 |  0.01835632 | -0.1160407 |  0.09404034 |  0.1771446168 | -0.040395376 | -0.04674757 |  0.04000345 |\n",
       "| ENSG00000142082 |  0.06467838 |  1.00000000 | -0.15957186 | -0.06578159 |  0.1416064 | -0.14939870 |  0.0405351920 | -0.000672903 |  0.08710930 | -0.10074523 |\n",
       "| ENSG00000185627 |  0.01383004 | -0.15957186 |  1.00000000 |  0.05390432 |  0.0385715 | -0.01263637 |  0.0002437382 | -0.216339443 | -0.06214113 |  0.05229397 |\n",
       "| ENSG00000185201 |  0.01835632 | -0.06578159 |  0.05390432 |  1.00000000 | -0.0618631 |  0.06515788 |  0.0835571610 |  0.021877127 |  0.02263662 |  0.07407167 |\n",
       "| ENSG00000185885 | -0.11604075 |  0.14160642 |  0.03857150 | -0.06186310 |  1.0000000 | -0.18196319 |  0.1008124295 | -0.032441819 | -0.03839574 | -0.21432607 |\n",
       "| ENSG00000142089 |  0.09404034 | -0.14939870 | -0.01263637 |  0.06515788 | -0.1819632 |  1.00000000 | -0.1382320098 |  0.048044527 |  0.02692348 |  0.04434910 |\n",
       "\n"
      ],
      "text/plain": [
       "                ENSG00000177951 ENSG00000142082 ENSG00000185627 ENSG00000185201\n",
       "ENSG00000177951  1.00000000      0.06467838      0.01383004      0.01835632    \n",
       "ENSG00000142082  0.06467838      1.00000000     -0.15957186     -0.06578159    \n",
       "ENSG00000185627  0.01383004     -0.15957186      1.00000000      0.05390432    \n",
       "ENSG00000185201  0.01835632     -0.06578159      0.05390432      1.00000000    \n",
       "ENSG00000185885 -0.11604075      0.14160642      0.03857150     -0.06186310    \n",
       "ENSG00000142089  0.09404034     -0.14939870     -0.01263637      0.06515788    \n",
       "                ENSG00000185885 ENSG00000142089 ENSG00000185187 ENSG00000174915\n",
       "ENSG00000177951 -0.1160407       0.09404034      0.1771446168   -0.040395376   \n",
       "ENSG00000142082  0.1416064      -0.14939870      0.0405351920   -0.000672903   \n",
       "ENSG00000185627  0.0385715      -0.01263637      0.0002437382   -0.216339443   \n",
       "ENSG00000185201 -0.0618631       0.06515788      0.0835571610    0.021877127   \n",
       "ENSG00000185885  1.0000000      -0.18196319      0.1008124295   -0.032441819   \n",
       "ENSG00000142089 -0.1819632       1.00000000     -0.1382320098    0.048044527   \n",
       "                ENSG00000174775 ENSG00000185507\n",
       "ENSG00000177951 -0.04674757      0.04000345    \n",
       "ENSG00000142082  0.08710930     -0.10074523    \n",
       "ENSG00000185627 -0.06214113      0.05229397    \n",
       "ENSG00000185201  0.02263662      0.07407167    \n",
       "ENSG00000185885 -0.03839574     -0.21432607    \n",
       "ENSG00000142089  0.02692348      0.04434910    "
      ]
     },
     "metadata": {},
     "output_type": "display_data"
    }
   ],
   "source": [
    "head(gene_corrs[1:10, 1:10])"
   ]
  },
  {
   "cell_type": "markdown",
   "id": "c5c9ffba-1678-4ce7-8988-4ee03e23bdf2",
   "metadata": {
    "papermill": {
     "duration": 0.005626,
     "end_time": "2022-06-18T11:50:19.978724",
     "exception": false,
     "start_time": "2022-06-18T11:50:19.973098",
     "status": "completed"
    },
    "tags": []
   },
   "source": [
    "# Check positive definiteness"
   ]
  },
  {
   "cell_type": "code",
   "execution_count": 17,
   "id": "178854f5-487a-42e8-82b4-625c1979734a",
   "metadata": {
    "execution": {
     "iopub.execute_input": "2022-06-18T11:50:20.001607Z",
     "iopub.status.busy": "2022-06-18T11:50:20.000542Z",
     "iopub.status.idle": "2022-06-18T11:50:20.089678Z",
     "shell.execute_reply": "2022-06-18T11:50:20.081936Z"
    },
    "papermill": {
     "duration": 0.106492,
     "end_time": "2022-06-18T11:50:20.091375",
     "exception": false,
     "start_time": "2022-06-18T11:50:19.984883",
     "status": "completed"
    },
    "tags": []
   },
   "outputs": [
    {
     "data": {
      "text/html": [
       "'We need to correct the data and make the matrix positive definite'"
      ],
      "text/latex": [
       "'We need to correct the data and make the matrix positive definite'"
      ],
      "text/markdown": [
       "'We need to correct the data and make the matrix positive definite'"
      ],
      "text/plain": [
       "[1] \"We need to correct the data and make the matrix positive definite\""
      ]
     },
     "metadata": {},
     "output_type": "display_data"
    },
    {
     "data": {
      "text/html": [
       "FALSE"
      ],
      "text/latex": [
       "FALSE"
      ],
      "text/markdown": [
       "FALSE"
      ],
      "text/plain": [
       "[1] FALSE"
      ]
     },
     "metadata": {},
     "output_type": "display_data"
    }
   ],
   "source": [
    "is_positive_definite(gene_corrs)"
   ]
  },
  {
   "cell_type": "code",
   "execution_count": 18,
   "id": "58542ade-c80f-42e6-acbf-6464dab70fdb",
   "metadata": {
    "execution": {
     "iopub.execute_input": "2022-06-18T11:50:20.107095Z",
     "iopub.status.busy": "2022-06-18T11:50:20.106206Z",
     "iopub.status.idle": "2022-06-18T11:50:20.161838Z",
     "shell.execute_reply": "2022-06-18T11:50:20.160657Z"
    },
    "papermill": {
     "duration": 0.066245,
     "end_time": "2022-06-18T11:50:20.163374",
     "exception": false,
     "start_time": "2022-06-18T11:50:20.097129",
     "status": "completed"
    },
    "tags": []
   },
   "outputs": [],
   "source": [
    "# see eigenvalues\n",
    "eigenvalues <- eigen(gene_corrs)$values"
   ]
  },
  {
   "cell_type": "code",
   "execution_count": 19,
   "id": "9486e0db-e924-43ab-bb6c-0d997fd38f3d",
   "metadata": {
    "execution": {
     "iopub.execute_input": "2022-06-18T11:50:20.183754Z",
     "iopub.status.busy": "2022-06-18T11:50:20.179007Z",
     "iopub.status.idle": "2022-06-18T11:50:20.198613Z",
     "shell.execute_reply": "2022-06-18T11:50:20.197516Z"
    },
    "papermill": {
     "duration": 0.028157,
     "end_time": "2022-06-18T11:50:20.200048",
     "exception": false,
     "start_time": "2022-06-18T11:50:20.171891",
     "status": "completed"
    },
    "tags": []
   },
   "outputs": [
    {
     "data": {
      "text/html": [
       "48"
      ],
      "text/latex": [
       "48"
      ],
      "text/markdown": [
       "48"
      ],
      "text/plain": [
       "[1] 48"
      ]
     },
     "metadata": {},
     "output_type": "display_data"
    },
    {
     "data": {
      "text/html": [
       "<style>\n",
       ".list-inline {list-style: none; margin:0; padding: 0}\n",
       ".list-inline>li {display: inline-block}\n",
       ".list-inline>li:not(:last-child)::after {content: \"\\00b7\"; padding: 0 .5ex}\n",
       "</style>\n",
       "<ol class=list-inline><li>-0.0149943437088284</li><li>-0.0286988413860063</li><li>-0.0313795303012492</li><li>-0.0656000268610555</li><li>-0.0808997190652718</li><li>-0.0848389466431078</li><li>-0.132756278719386</li><li>-0.136427521626131</li><li>-0.153833480676551</li><li>-0.16167530192775</li><li>-0.163471969654481</li><li>-0.181762257476118</li><li>-0.233474635503947</li><li>-0.254801040258265</li><li>-0.272575137114357</li><li>-0.283972331286146</li><li>-0.291157651463203</li><li>-0.31453658242257</li><li>-0.384541271053527</li><li>-0.41786938549392</li><li>-0.42913670467863</li><li>-0.446330830660217</li><li>-0.504567931652283</li><li>-0.508680316849756</li><li>-0.537709897730875</li><li>-0.555020764738638</li><li>-0.583186160720851</li><li>-0.666361215531493</li><li>-0.707909667509461</li><li>-0.857186850474614</li><li>-0.873014065643094</li><li>-0.926202021966594</li><li>-1.01531935482598</li><li>-1.04905385844084</li><li>-1.08818142333695</li><li>-1.1657827655075</li><li>-1.3154367998816</li><li>-1.38041630859074</li><li>-1.39997147701547</li><li>-1.6260436862583</li><li>-1.80877900674946</li><li>-1.87290735292751</li><li>-2.03586321361665</li><li>-2.07419466584274</li><li>-2.15977552259753</li><li>-2.50014489091561</li><li>-2.92795069007135</li><li>-4.35306093818096</li></ol>\n"
      ],
      "text/latex": [
       "\\begin{enumerate*}\n",
       "\\item -0.0149943437088284\n",
       "\\item -0.0286988413860063\n",
       "\\item -0.0313795303012492\n",
       "\\item -0.0656000268610555\n",
       "\\item -0.0808997190652718\n",
       "\\item -0.0848389466431078\n",
       "\\item -0.132756278719386\n",
       "\\item -0.136427521626131\n",
       "\\item -0.153833480676551\n",
       "\\item -0.16167530192775\n",
       "\\item -0.163471969654481\n",
       "\\item -0.181762257476118\n",
       "\\item -0.233474635503947\n",
       "\\item -0.254801040258265\n",
       "\\item -0.272575137114357\n",
       "\\item -0.283972331286146\n",
       "\\item -0.291157651463203\n",
       "\\item -0.31453658242257\n",
       "\\item -0.384541271053527\n",
       "\\item -0.41786938549392\n",
       "\\item -0.42913670467863\n",
       "\\item -0.446330830660217\n",
       "\\item -0.504567931652283\n",
       "\\item -0.508680316849756\n",
       "\\item -0.537709897730875\n",
       "\\item -0.555020764738638\n",
       "\\item -0.583186160720851\n",
       "\\item -0.666361215531493\n",
       "\\item -0.707909667509461\n",
       "\\item -0.857186850474614\n",
       "\\item -0.873014065643094\n",
       "\\item -0.926202021966594\n",
       "\\item -1.01531935482598\n",
       "\\item -1.04905385844084\n",
       "\\item -1.08818142333695\n",
       "\\item -1.1657827655075\n",
       "\\item -1.3154367998816\n",
       "\\item -1.38041630859074\n",
       "\\item -1.39997147701547\n",
       "\\item -1.6260436862583\n",
       "\\item -1.80877900674946\n",
       "\\item -1.87290735292751\n",
       "\\item -2.03586321361665\n",
       "\\item -2.07419466584274\n",
       "\\item -2.15977552259753\n",
       "\\item -2.50014489091561\n",
       "\\item -2.92795069007135\n",
       "\\item -4.35306093818096\n",
       "\\end{enumerate*}\n"
      ],
      "text/markdown": [
       "1. -0.0149943437088284\n",
       "2. -0.0286988413860063\n",
       "3. -0.0313795303012492\n",
       "4. -0.0656000268610555\n",
       "5. -0.0808997190652718\n",
       "6. -0.0848389466431078\n",
       "7. -0.132756278719386\n",
       "8. -0.136427521626131\n",
       "9. -0.153833480676551\n",
       "10. -0.16167530192775\n",
       "11. -0.163471969654481\n",
       "12. -0.181762257476118\n",
       "13. -0.233474635503947\n",
       "14. -0.254801040258265\n",
       "15. -0.272575137114357\n",
       "16. -0.283972331286146\n",
       "17. -0.291157651463203\n",
       "18. -0.31453658242257\n",
       "19. -0.384541271053527\n",
       "20. -0.41786938549392\n",
       "21. -0.42913670467863\n",
       "22. -0.446330830660217\n",
       "23. -0.504567931652283\n",
       "24. -0.508680316849756\n",
       "25. -0.537709897730875\n",
       "26. -0.555020764738638\n",
       "27. -0.583186160720851\n",
       "28. -0.666361215531493\n",
       "29. -0.707909667509461\n",
       "30. -0.857186850474614\n",
       "31. -0.873014065643094\n",
       "32. -0.926202021966594\n",
       "33. -1.01531935482598\n",
       "34. -1.04905385844084\n",
       "35. -1.08818142333695\n",
       "36. -1.1657827655075\n",
       "37. -1.3154367998816\n",
       "38. -1.38041630859074\n",
       "39. -1.39997147701547\n",
       "40. -1.6260436862583\n",
       "41. -1.80877900674946\n",
       "42. -1.87290735292751\n",
       "43. -2.03586321361665\n",
       "44. -2.07419466584274\n",
       "45. -2.15977552259753\n",
       "46. -2.50014489091561\n",
       "47. -2.92795069007135\n",
       "48. -4.35306093818096\n",
       "\n",
       "\n"
      ],
      "text/plain": [
       " [1] -0.01499434 -0.02869884 -0.03137953 -0.06560003 -0.08089972 -0.08483895\n",
       " [7] -0.13275628 -0.13642752 -0.15383348 -0.16167530 -0.16347197 -0.18176226\n",
       "[13] -0.23347464 -0.25480104 -0.27257514 -0.28397233 -0.29115765 -0.31453658\n",
       "[19] -0.38454127 -0.41786939 -0.42913670 -0.44633083 -0.50456793 -0.50868032\n",
       "[25] -0.53770990 -0.55502076 -0.58318616 -0.66636122 -0.70790967 -0.85718685\n",
       "[31] -0.87301407 -0.92620202 -1.01531935 -1.04905386 -1.08818142 -1.16578277\n",
       "[37] -1.31543680 -1.38041631 -1.39997148 -1.62604369 -1.80877901 -1.87290735\n",
       "[43] -2.03586321 -2.07419467 -2.15977552 -2.50014489 -2.92795069 -4.35306094"
      ]
     },
     "metadata": {},
     "output_type": "display_data"
    }
   ],
   "source": [
    "nonpositive_eigenvalues <- eigenvalues[eigenvalues <= 0]\n",
    "IRdisplay::display(length(nonpositive_eigenvalues))\n",
    "IRdisplay::display(nonpositive_eigenvalues)"
   ]
  },
  {
   "cell_type": "code",
   "execution_count": 20,
   "id": "410ee452-488f-4518-b93a-2acd608ba99c",
   "metadata": {
    "execution": {
     "iopub.execute_input": "2022-06-18T11:50:20.214821Z",
     "iopub.status.busy": "2022-06-18T11:50:20.213901Z",
     "iopub.status.idle": "2022-06-18T11:50:20.222473Z",
     "shell.execute_reply": "2022-06-18T11:50:20.220506Z"
    },
    "papermill": {
     "duration": 0.018208,
     "end_time": "2022-06-18T11:50:20.224448",
     "exception": false,
     "start_time": "2022-06-18T11:50:20.206240",
     "status": "completed"
    },
    "tags": []
   },
   "outputs": [],
   "source": [
    "if (length(eigenvalues[eigenvalues <= 0]) == 0) { quit() }"
   ]
  },
  {
   "cell_type": "markdown",
   "id": "2d280a82-f231-402d-82ab-9291d395afc1",
   "metadata": {
    "papermill": {
     "duration": 0.006555,
     "end_time": "2022-06-18T11:50:20.238105",
     "exception": false,
     "start_time": "2022-06-18T11:50:20.231550",
     "status": "completed"
    },
    "tags": []
   },
   "source": [
    "# Make matrix positive definite if needed"
   ]
  },
  {
   "cell_type": "code",
   "execution_count": 21,
   "id": "b9037873-4067-4ac6-aa92-e9225a6c9353",
   "metadata": {
    "execution": {
     "iopub.execute_input": "2022-06-18T11:50:20.252195Z",
     "iopub.status.busy": "2022-06-18T11:50:20.251252Z",
     "iopub.status.idle": "2022-06-18T11:50:20.334454Z",
     "shell.execute_reply": "2022-06-18T11:50:20.332127Z"
    },
    "papermill": {
     "duration": 0.091932,
     "end_time": "2022-06-18T11:50:20.336143",
     "exception": false,
     "start_time": "2022-06-18T11:50:20.244211",
     "status": "completed"
    },
    "tags": []
   },
   "outputs": [],
   "source": [
    "gene_corrs_corrected <- CorrectCM(gene_corrs, 1)"
   ]
  },
  {
   "cell_type": "code",
   "execution_count": 22,
   "id": "03c86284-5aac-4f66-86cc-74eb97102a7e",
   "metadata": {
    "execution": {
     "iopub.execute_input": "2022-06-18T11:50:20.351240Z",
     "iopub.status.busy": "2022-06-18T11:50:20.350282Z",
     "iopub.status.idle": "2022-06-18T11:50:20.364137Z",
     "shell.execute_reply": "2022-06-18T11:50:20.361295Z"
    },
    "papermill": {
     "duration": 0.023591,
     "end_time": "2022-06-18T11:50:20.366427",
     "exception": false,
     "start_time": "2022-06-18T11:50:20.342836",
     "status": "completed"
    },
    "tags": []
   },
   "outputs": [],
   "source": [
    "dimnames(gene_corrs_corrected)[[1]] <- rownames(gene_corrs)"
   ]
  },
  {
   "cell_type": "code",
   "execution_count": 23,
   "id": "576e7069-25ff-473d-8158-35b5f2ff212e",
   "metadata": {
    "execution": {
     "iopub.execute_input": "2022-06-18T11:50:20.393867Z",
     "iopub.status.busy": "2022-06-18T11:50:20.392753Z",
     "iopub.status.idle": "2022-06-18T11:50:20.404104Z",
     "shell.execute_reply": "2022-06-18T11:50:20.402095Z"
    },
    "papermill": {
     "duration": 0.028844,
     "end_time": "2022-06-18T11:50:20.405744",
     "exception": false,
     "start_time": "2022-06-18T11:50:20.376900",
     "status": "completed"
    },
    "tags": []
   },
   "outputs": [],
   "source": [
    "dimnames(gene_corrs_corrected)[[2]] <- colnames(gene_corrs)"
   ]
  },
  {
   "cell_type": "code",
   "execution_count": 24,
   "id": "f77d043a-321d-447f-8da5-2503981d3e73",
   "metadata": {
    "execution": {
     "iopub.execute_input": "2022-06-18T11:50:20.421698Z",
     "iopub.status.busy": "2022-06-18T11:50:20.420490Z",
     "iopub.status.idle": "2022-06-18T11:50:20.434027Z",
     "shell.execute_reply": "2022-06-18T11:50:20.432671Z"
    },
    "papermill": {
     "duration": 0.023157,
     "end_time": "2022-06-18T11:50:20.435807",
     "exception": false,
     "start_time": "2022-06-18T11:50:20.412650",
     "status": "completed"
    },
    "tags": []
   },
   "outputs": [],
   "source": [
    "gene_corrs_corrected <- as.data.frame(gene_corrs_corrected)"
   ]
  },
  {
   "cell_type": "code",
   "execution_count": 25,
   "id": "3e844024-f9a2-42a2-bbd0-695cfdbb78f5",
   "metadata": {
    "execution": {
     "iopub.execute_input": "2022-06-18T11:50:20.453094Z",
     "iopub.status.busy": "2022-06-18T11:50:20.452020Z",
     "iopub.status.idle": "2022-06-18T11:50:20.465140Z",
     "shell.execute_reply": "2022-06-18T11:50:20.463291Z"
    },
    "papermill": {
     "duration": 0.023468,
     "end_time": "2022-06-18T11:50:20.467253",
     "exception": false,
     "start_time": "2022-06-18T11:50:20.443785",
     "status": "completed"
    },
    "tags": []
   },
   "outputs": [
    {
     "data": {
      "text/html": [
       "<style>\n",
       ".list-inline {list-style: none; margin:0; padding: 0}\n",
       ".list-inline>li {display: inline-block}\n",
       ".list-inline>li:not(:last-child)::after {content: \"\\00b7\"; padding: 0 .5ex}\n",
       "</style>\n",
       "<ol class=list-inline><li>387</li><li>387</li></ol>\n"
      ],
      "text/latex": [
       "\\begin{enumerate*}\n",
       "\\item 387\n",
       "\\item 387\n",
       "\\end{enumerate*}\n"
      ],
      "text/markdown": [
       "1. 387\n",
       "2. 387\n",
       "\n",
       "\n"
      ],
      "text/plain": [
       "[1] 387 387"
      ]
     },
     "metadata": {},
     "output_type": "display_data"
    }
   ],
   "source": [
    "dim(gene_corrs_corrected)"
   ]
  },
  {
   "cell_type": "markdown",
   "id": "244b6bde-4ca8-46d1-acc7-b4c35b5d3c62",
   "metadata": {
    "papermill": {
     "duration": 0.007087,
     "end_time": "2022-06-18T11:50:20.482211",
     "exception": false,
     "start_time": "2022-06-18T11:50:20.475124",
     "status": "completed"
    },
    "tags": []
   },
   "source": [
    "# Check positive definiteness of corrected matrix"
   ]
  },
  {
   "cell_type": "code",
   "execution_count": 26,
   "id": "0fd5b688-e137-4619-910c-35130d32d600",
   "metadata": {
    "execution": {
     "iopub.execute_input": "2022-06-18T11:50:20.498380Z",
     "iopub.status.busy": "2022-06-18T11:50:20.497200Z",
     "iopub.status.idle": "2022-06-18T11:50:20.549921Z",
     "shell.execute_reply": "2022-06-18T11:50:20.548559Z"
    },
    "papermill": {
     "duration": 0.062087,
     "end_time": "2022-06-18T11:50:20.551372",
     "exception": false,
     "start_time": "2022-06-18T11:50:20.489285",
     "status": "completed"
    },
    "tags": []
   },
   "outputs": [
    {
     "data": {
      "text/html": [
       "'Matrix is already positive definite!'"
      ],
      "text/latex": [
       "'Matrix is already positive definite!'"
      ],
      "text/markdown": [
       "'Matrix is already positive definite!'"
      ],
      "text/plain": [
       "[1] \"Matrix is already positive definite!\""
      ]
     },
     "metadata": {},
     "output_type": "display_data"
    },
    {
     "data": {
      "text/html": [
       "TRUE"
      ],
      "text/latex": [
       "TRUE"
      ],
      "text/markdown": [
       "TRUE"
      ],
      "text/plain": [
       "[1] TRUE"
      ]
     },
     "metadata": {},
     "output_type": "display_data"
    }
   ],
   "source": [
    "is_positive_definite(gene_corrs_corrected)"
   ]
  },
  {
   "cell_type": "code",
   "execution_count": 27,
   "id": "06d23ab8-bebb-474c-be33-dca7e53c1717",
   "metadata": {
    "execution": {
     "iopub.execute_input": "2022-06-18T11:50:20.568664Z",
     "iopub.status.busy": "2022-06-18T11:50:20.566804Z",
     "iopub.status.idle": "2022-06-18T11:50:20.601128Z",
     "shell.execute_reply": "2022-06-18T11:50:20.599231Z"
    },
    "papermill": {
     "duration": 0.043572,
     "end_time": "2022-06-18T11:50:20.602740",
     "exception": false,
     "start_time": "2022-06-18T11:50:20.559168",
     "status": "completed"
    },
    "tags": []
   },
   "outputs": [],
   "source": [
    "# see eigenvalues\n",
    "eigenvalues <- eigen(gene_corrs_corrected)$values"
   ]
  },
  {
   "cell_type": "code",
   "execution_count": 28,
   "id": "ddf8afb8-e0e2-4b4e-876d-12bd6856c1ad",
   "metadata": {
    "execution": {
     "iopub.execute_input": "2022-06-18T11:50:20.617820Z",
     "iopub.status.busy": "2022-06-18T11:50:20.616823Z",
     "iopub.status.idle": "2022-06-18T11:50:20.635452Z",
     "shell.execute_reply": "2022-06-18T11:50:20.633644Z"
    },
    "papermill": {
     "duration": 0.027682,
     "end_time": "2022-06-18T11:50:20.637002",
     "exception": false,
     "start_time": "2022-06-18T11:50:20.609320",
     "status": "completed"
    },
    "tags": []
   },
   "outputs": [
    {
     "data": {
      "text/html": [
       "0"
      ],
      "text/latex": [
       "0"
      ],
      "text/markdown": [
       "0"
      ],
      "text/plain": [
       "[1] 0"
      ]
     },
     "metadata": {},
     "output_type": "display_data"
    },
    {
     "data": {
      "text/html": [],
      "text/latex": [],
      "text/markdown": [],
      "text/plain": [
       "numeric(0)"
      ]
     },
     "metadata": {},
     "output_type": "display_data"
    }
   ],
   "source": [
    "nonpositive_eigenvalues <- eigenvalues[eigenvalues <= 0]\n",
    "IRdisplay::display(length(nonpositive_eigenvalues))\n",
    "IRdisplay::display(nonpositive_eigenvalues)"
   ]
  },
  {
   "cell_type": "code",
   "execution_count": 29,
   "id": "712fd71a-b6ec-4a13-a956-80c99be7f585",
   "metadata": {
    "execution": {
     "iopub.execute_input": "2022-06-18T11:50:20.652151Z",
     "iopub.status.busy": "2022-06-18T11:50:20.651242Z",
     "iopub.status.idle": "2022-06-18T11:50:20.661554Z",
     "shell.execute_reply": "2022-06-18T11:50:20.659430Z"
    },
    "papermill": {
     "duration": 0.019332,
     "end_time": "2022-06-18T11:50:20.663118",
     "exception": false,
     "start_time": "2022-06-18T11:50:20.643786",
     "status": "completed"
    },
    "tags": []
   },
   "outputs": [],
   "source": [
    "stopifnot(length(eigenvalues[eigenvalues <= 0]) == 0)"
   ]
  },
  {
   "cell_type": "code",
   "execution_count": 30,
   "id": "786d6336-3844-40f7-979b-6d6028787f7f",
   "metadata": {
    "execution": {
     "iopub.execute_input": "2022-06-18T11:50:20.689013Z",
     "iopub.status.busy": "2022-06-18T11:50:20.687946Z",
     "iopub.status.idle": "2022-06-18T11:50:20.717417Z",
     "shell.execute_reply": "2022-06-18T11:50:20.716006Z"
    },
    "papermill": {
     "duration": 0.040663,
     "end_time": "2022-06-18T11:50:20.720676",
     "exception": false,
     "start_time": "2022-06-18T11:50:20.680013",
     "status": "completed"
    },
    "tags": []
   },
   "outputs": [
    {
     "data": {
      "text/html": [
       "<table class=\"dataframe\">\n",
       "<caption>A data.frame: 6 × 10</caption>\n",
       "<thead>\n",
       "\t<tr><th></th><th scope=col>ENSG00000177951</th><th scope=col>ENSG00000142082</th><th scope=col>ENSG00000185627</th><th scope=col>ENSG00000185201</th><th scope=col>ENSG00000185885</th><th scope=col>ENSG00000142089</th><th scope=col>ENSG00000185187</th><th scope=col>ENSG00000174915</th><th scope=col>ENSG00000174775</th><th scope=col>ENSG00000185507</th></tr>\n",
       "\t<tr><th></th><th scope=col>&lt;dbl&gt;</th><th scope=col>&lt;dbl&gt;</th><th scope=col>&lt;dbl&gt;</th><th scope=col>&lt;dbl&gt;</th><th scope=col>&lt;dbl&gt;</th><th scope=col>&lt;dbl&gt;</th><th scope=col>&lt;dbl&gt;</th><th scope=col>&lt;dbl&gt;</th><th scope=col>&lt;dbl&gt;</th><th scope=col>&lt;dbl&gt;</th></tr>\n",
       "</thead>\n",
       "<tbody>\n",
       "\t<tr><th scope=row>ENSG00000177951</th><td> 1.00000000</td><td> 0.06467838</td><td> 0.01383004</td><td> 0.01835632</td><td>-0.1160407</td><td> 0.09404034</td><td> 0.1771446168</td><td>-0.040395376</td><td>-0.04674757</td><td> 0.04000345</td></tr>\n",
       "\t<tr><th scope=row>ENSG00000142082</th><td> 0.06467838</td><td> 1.00000000</td><td>-0.15957186</td><td>-0.06578159</td><td> 0.1416064</td><td>-0.14939870</td><td> 0.0405351920</td><td>-0.000672903</td><td> 0.08710930</td><td>-0.10074523</td></tr>\n",
       "\t<tr><th scope=row>ENSG00000185627</th><td> 0.01383004</td><td>-0.15957186</td><td> 1.00000000</td><td> 0.05390432</td><td> 0.0385715</td><td>-0.01263637</td><td> 0.0002437382</td><td>-0.216339443</td><td>-0.06214113</td><td> 0.05229397</td></tr>\n",
       "\t<tr><th scope=row>ENSG00000185201</th><td> 0.01835632</td><td>-0.06578159</td><td> 0.05390432</td><td> 1.00000000</td><td>-0.0618631</td><td> 0.06515788</td><td> 0.0835571610</td><td> 0.021877127</td><td> 0.02263662</td><td> 0.07407167</td></tr>\n",
       "\t<tr><th scope=row>ENSG00000185885</th><td>-0.11604075</td><td> 0.14160642</td><td> 0.03857150</td><td>-0.06186310</td><td> 1.0000000</td><td>-0.18196319</td><td> 0.1008124295</td><td>-0.032441819</td><td>-0.03839574</td><td>-0.21432607</td></tr>\n",
       "\t<tr><th scope=row>ENSG00000142089</th><td> 0.09404034</td><td>-0.14939870</td><td>-0.01263637</td><td> 0.06515788</td><td>-0.1819632</td><td> 1.00000000</td><td>-0.1382320098</td><td> 0.048044527</td><td> 0.02692348</td><td> 0.04434910</td></tr>\n",
       "</tbody>\n",
       "</table>\n"
      ],
      "text/latex": [
       "A data.frame: 6 × 10\n",
       "\\begin{tabular}{r|llllllllll}\n",
       "  & ENSG00000177951 & ENSG00000142082 & ENSG00000185627 & ENSG00000185201 & ENSG00000185885 & ENSG00000142089 & ENSG00000185187 & ENSG00000174915 & ENSG00000174775 & ENSG00000185507\\\\\n",
       "  & <dbl> & <dbl> & <dbl> & <dbl> & <dbl> & <dbl> & <dbl> & <dbl> & <dbl> & <dbl>\\\\\n",
       "\\hline\n",
       "\tENSG00000177951 &  1.00000000 &  0.06467838 &  0.01383004 &  0.01835632 & -0.1160407 &  0.09404034 &  0.1771446168 & -0.040395376 & -0.04674757 &  0.04000345\\\\\n",
       "\tENSG00000142082 &  0.06467838 &  1.00000000 & -0.15957186 & -0.06578159 &  0.1416064 & -0.14939870 &  0.0405351920 & -0.000672903 &  0.08710930 & -0.10074523\\\\\n",
       "\tENSG00000185627 &  0.01383004 & -0.15957186 &  1.00000000 &  0.05390432 &  0.0385715 & -0.01263637 &  0.0002437382 & -0.216339443 & -0.06214113 &  0.05229397\\\\\n",
       "\tENSG00000185201 &  0.01835632 & -0.06578159 &  0.05390432 &  1.00000000 & -0.0618631 &  0.06515788 &  0.0835571610 &  0.021877127 &  0.02263662 &  0.07407167\\\\\n",
       "\tENSG00000185885 & -0.11604075 &  0.14160642 &  0.03857150 & -0.06186310 &  1.0000000 & -0.18196319 &  0.1008124295 & -0.032441819 & -0.03839574 & -0.21432607\\\\\n",
       "\tENSG00000142089 &  0.09404034 & -0.14939870 & -0.01263637 &  0.06515788 & -0.1819632 &  1.00000000 & -0.1382320098 &  0.048044527 &  0.02692348 &  0.04434910\\\\\n",
       "\\end{tabular}\n"
      ],
      "text/markdown": [
       "\n",
       "A data.frame: 6 × 10\n",
       "\n",
       "| <!--/--> | ENSG00000177951 &lt;dbl&gt; | ENSG00000142082 &lt;dbl&gt; | ENSG00000185627 &lt;dbl&gt; | ENSG00000185201 &lt;dbl&gt; | ENSG00000185885 &lt;dbl&gt; | ENSG00000142089 &lt;dbl&gt; | ENSG00000185187 &lt;dbl&gt; | ENSG00000174915 &lt;dbl&gt; | ENSG00000174775 &lt;dbl&gt; | ENSG00000185507 &lt;dbl&gt; |\n",
       "|---|---|---|---|---|---|---|---|---|---|---|\n",
       "| ENSG00000177951 |  1.00000000 |  0.06467838 |  0.01383004 |  0.01835632 | -0.1160407 |  0.09404034 |  0.1771446168 | -0.040395376 | -0.04674757 |  0.04000345 |\n",
       "| ENSG00000142082 |  0.06467838 |  1.00000000 | -0.15957186 | -0.06578159 |  0.1416064 | -0.14939870 |  0.0405351920 | -0.000672903 |  0.08710930 | -0.10074523 |\n",
       "| ENSG00000185627 |  0.01383004 | -0.15957186 |  1.00000000 |  0.05390432 |  0.0385715 | -0.01263637 |  0.0002437382 | -0.216339443 | -0.06214113 |  0.05229397 |\n",
       "| ENSG00000185201 |  0.01835632 | -0.06578159 |  0.05390432 |  1.00000000 | -0.0618631 |  0.06515788 |  0.0835571610 |  0.021877127 |  0.02263662 |  0.07407167 |\n",
       "| ENSG00000185885 | -0.11604075 |  0.14160642 |  0.03857150 | -0.06186310 |  1.0000000 | -0.18196319 |  0.1008124295 | -0.032441819 | -0.03839574 | -0.21432607 |\n",
       "| ENSG00000142089 |  0.09404034 | -0.14939870 | -0.01263637 |  0.06515788 | -0.1819632 |  1.00000000 | -0.1382320098 |  0.048044527 |  0.02692348 |  0.04434910 |\n",
       "\n"
      ],
      "text/plain": [
       "                ENSG00000177951 ENSG00000142082 ENSG00000185627 ENSG00000185201\n",
       "ENSG00000177951  1.00000000      0.06467838      0.01383004      0.01835632    \n",
       "ENSG00000142082  0.06467838      1.00000000     -0.15957186     -0.06578159    \n",
       "ENSG00000185627  0.01383004     -0.15957186      1.00000000      0.05390432    \n",
       "ENSG00000185201  0.01835632     -0.06578159      0.05390432      1.00000000    \n",
       "ENSG00000185885 -0.11604075      0.14160642      0.03857150     -0.06186310    \n",
       "ENSG00000142089  0.09404034     -0.14939870     -0.01263637      0.06515788    \n",
       "                ENSG00000185885 ENSG00000142089 ENSG00000185187 ENSG00000174915\n",
       "ENSG00000177951 -0.1160407       0.09404034      0.1771446168   -0.040395376   \n",
       "ENSG00000142082  0.1416064      -0.14939870      0.0405351920   -0.000672903   \n",
       "ENSG00000185627  0.0385715      -0.01263637      0.0002437382   -0.216339443   \n",
       "ENSG00000185201 -0.0618631       0.06515788      0.0835571610    0.021877127   \n",
       "ENSG00000185885  1.0000000      -0.18196319      0.1008124295   -0.032441819   \n",
       "ENSG00000142089 -0.1819632       1.00000000     -0.1382320098    0.048044527   \n",
       "                ENSG00000174775 ENSG00000185507\n",
       "ENSG00000177951 -0.04674757      0.04000345    \n",
       "ENSG00000142082  0.08710930     -0.10074523    \n",
       "ENSG00000185627 -0.06214113      0.05229397    \n",
       "ENSG00000185201  0.02263662      0.07407167    \n",
       "ENSG00000185885 -0.03839574     -0.21432607    \n",
       "ENSG00000142089  0.02692348      0.04434910    "
      ]
     },
     "metadata": {},
     "output_type": "display_data"
    },
    {
     "data": {
      "text/html": [
       "<table class=\"dataframe\">\n",
       "<caption>A data.frame: 6 × 10</caption>\n",
       "<thead>\n",
       "\t<tr><th></th><th scope=col>ENSG00000177951</th><th scope=col>ENSG00000142082</th><th scope=col>ENSG00000185627</th><th scope=col>ENSG00000185201</th><th scope=col>ENSG00000185885</th><th scope=col>ENSG00000142089</th><th scope=col>ENSG00000185187</th><th scope=col>ENSG00000174915</th><th scope=col>ENSG00000174775</th><th scope=col>ENSG00000185507</th></tr>\n",
       "\t<tr><th></th><th scope=col>&lt;dbl&gt;</th><th scope=col>&lt;dbl&gt;</th><th scope=col>&lt;dbl&gt;</th><th scope=col>&lt;dbl&gt;</th><th scope=col>&lt;dbl&gt;</th><th scope=col>&lt;dbl&gt;</th><th scope=col>&lt;dbl&gt;</th><th scope=col>&lt;dbl&gt;</th><th scope=col>&lt;dbl&gt;</th><th scope=col>&lt;dbl&gt;</th></tr>\n",
       "</thead>\n",
       "<tbody>\n",
       "\t<tr><th scope=row>ENSG00000177951</th><td> 1.000000000</td><td>-0.00285156</td><td> 0.005834611</td><td>-0.00328707</td><td>-0.07672903</td><td> 0.05717433</td><td> 0.07990477</td><td>-0.002244259</td><td>-0.02203210</td><td> 0.02809111</td></tr>\n",
       "\t<tr><th scope=row>ENSG00000142082</th><td>-0.002851560</td><td> 1.00000000</td><td>-0.112784503</td><td>-0.08709298</td><td> 0.07196395</td><td>-0.04865865</td><td> 0.04776076</td><td> 0.022990948</td><td> 0.02298238</td><td>-0.06570505</td></tr>\n",
       "\t<tr><th scope=row>ENSG00000185627</th><td> 0.005834611</td><td>-0.11278450</td><td> 1.000000000</td><td> 0.11452384</td><td> 0.03570503</td><td>-0.03518592</td><td>-0.05159305</td><td>-0.076258156</td><td>-0.04612396</td><td> 0.04722397</td></tr>\n",
       "\t<tr><th scope=row>ENSG00000185201</th><td>-0.003287070</td><td>-0.08709298</td><td> 0.114523837</td><td> 1.00000000</td><td> 0.04785150</td><td>-0.06080794</td><td>-0.04139225</td><td> 0.026716669</td><td> 0.03061249</td><td> 0.01449240</td></tr>\n",
       "\t<tr><th scope=row>ENSG00000185885</th><td>-0.076729032</td><td> 0.07196395</td><td> 0.035705029</td><td> 0.04785150</td><td> 1.00000000</td><td>-0.15816945</td><td> 0.01753376</td><td>-0.017072725</td><td>-0.01337802</td><td>-0.11184699</td></tr>\n",
       "\t<tr><th scope=row>ENSG00000142089</th><td> 0.057174326</td><td>-0.04865865</td><td>-0.035185924</td><td>-0.06080794</td><td>-0.15816945</td><td> 1.00000000</td><td>-0.01414340</td><td> 0.013979248</td><td> 0.01947357</td><td> 0.05973707</td></tr>\n",
       "</tbody>\n",
       "</table>\n"
      ],
      "text/latex": [
       "A data.frame: 6 × 10\n",
       "\\begin{tabular}{r|llllllllll}\n",
       "  & ENSG00000177951 & ENSG00000142082 & ENSG00000185627 & ENSG00000185201 & ENSG00000185885 & ENSG00000142089 & ENSG00000185187 & ENSG00000174915 & ENSG00000174775 & ENSG00000185507\\\\\n",
       "  & <dbl> & <dbl> & <dbl> & <dbl> & <dbl> & <dbl> & <dbl> & <dbl> & <dbl> & <dbl>\\\\\n",
       "\\hline\n",
       "\tENSG00000177951 &  1.000000000 & -0.00285156 &  0.005834611 & -0.00328707 & -0.07672903 &  0.05717433 &  0.07990477 & -0.002244259 & -0.02203210 &  0.02809111\\\\\n",
       "\tENSG00000142082 & -0.002851560 &  1.00000000 & -0.112784503 & -0.08709298 &  0.07196395 & -0.04865865 &  0.04776076 &  0.022990948 &  0.02298238 & -0.06570505\\\\\n",
       "\tENSG00000185627 &  0.005834611 & -0.11278450 &  1.000000000 &  0.11452384 &  0.03570503 & -0.03518592 & -0.05159305 & -0.076258156 & -0.04612396 &  0.04722397\\\\\n",
       "\tENSG00000185201 & -0.003287070 & -0.08709298 &  0.114523837 &  1.00000000 &  0.04785150 & -0.06080794 & -0.04139225 &  0.026716669 &  0.03061249 &  0.01449240\\\\\n",
       "\tENSG00000185885 & -0.076729032 &  0.07196395 &  0.035705029 &  0.04785150 &  1.00000000 & -0.15816945 &  0.01753376 & -0.017072725 & -0.01337802 & -0.11184699\\\\\n",
       "\tENSG00000142089 &  0.057174326 & -0.04865865 & -0.035185924 & -0.06080794 & -0.15816945 &  1.00000000 & -0.01414340 &  0.013979248 &  0.01947357 &  0.05973707\\\\\n",
       "\\end{tabular}\n"
      ],
      "text/markdown": [
       "\n",
       "A data.frame: 6 × 10\n",
       "\n",
       "| <!--/--> | ENSG00000177951 &lt;dbl&gt; | ENSG00000142082 &lt;dbl&gt; | ENSG00000185627 &lt;dbl&gt; | ENSG00000185201 &lt;dbl&gt; | ENSG00000185885 &lt;dbl&gt; | ENSG00000142089 &lt;dbl&gt; | ENSG00000185187 &lt;dbl&gt; | ENSG00000174915 &lt;dbl&gt; | ENSG00000174775 &lt;dbl&gt; | ENSG00000185507 &lt;dbl&gt; |\n",
       "|---|---|---|---|---|---|---|---|---|---|---|\n",
       "| ENSG00000177951 |  1.000000000 | -0.00285156 |  0.005834611 | -0.00328707 | -0.07672903 |  0.05717433 |  0.07990477 | -0.002244259 | -0.02203210 |  0.02809111 |\n",
       "| ENSG00000142082 | -0.002851560 |  1.00000000 | -0.112784503 | -0.08709298 |  0.07196395 | -0.04865865 |  0.04776076 |  0.022990948 |  0.02298238 | -0.06570505 |\n",
       "| ENSG00000185627 |  0.005834611 | -0.11278450 |  1.000000000 |  0.11452384 |  0.03570503 | -0.03518592 | -0.05159305 | -0.076258156 | -0.04612396 |  0.04722397 |\n",
       "| ENSG00000185201 | -0.003287070 | -0.08709298 |  0.114523837 |  1.00000000 |  0.04785150 | -0.06080794 | -0.04139225 |  0.026716669 |  0.03061249 |  0.01449240 |\n",
       "| ENSG00000185885 | -0.076729032 |  0.07196395 |  0.035705029 |  0.04785150 |  1.00000000 | -0.15816945 |  0.01753376 | -0.017072725 | -0.01337802 | -0.11184699 |\n",
       "| ENSG00000142089 |  0.057174326 | -0.04865865 | -0.035185924 | -0.06080794 | -0.15816945 |  1.00000000 | -0.01414340 |  0.013979248 |  0.01947357 |  0.05973707 |\n",
       "\n"
      ],
      "text/plain": [
       "                ENSG00000177951 ENSG00000142082 ENSG00000185627 ENSG00000185201\n",
       "ENSG00000177951  1.000000000    -0.00285156      0.005834611    -0.00328707    \n",
       "ENSG00000142082 -0.002851560     1.00000000     -0.112784503    -0.08709298    \n",
       "ENSG00000185627  0.005834611    -0.11278450      1.000000000     0.11452384    \n",
       "ENSG00000185201 -0.003287070    -0.08709298      0.114523837     1.00000000    \n",
       "ENSG00000185885 -0.076729032     0.07196395      0.035705029     0.04785150    \n",
       "ENSG00000142089  0.057174326    -0.04865865     -0.035185924    -0.06080794    \n",
       "                ENSG00000185885 ENSG00000142089 ENSG00000185187 ENSG00000174915\n",
       "ENSG00000177951 -0.07672903      0.05717433      0.07990477     -0.002244259   \n",
       "ENSG00000142082  0.07196395     -0.04865865      0.04776076      0.022990948   \n",
       "ENSG00000185627  0.03570503     -0.03518592     -0.05159305     -0.076258156   \n",
       "ENSG00000185201  0.04785150     -0.06080794     -0.04139225      0.026716669   \n",
       "ENSG00000185885  1.00000000     -0.15816945      0.01753376     -0.017072725   \n",
       "ENSG00000142089 -0.15816945      1.00000000     -0.01414340      0.013979248   \n",
       "                ENSG00000174775 ENSG00000185507\n",
       "ENSG00000177951 -0.02203210      0.02809111    \n",
       "ENSG00000142082  0.02298238     -0.06570505    \n",
       "ENSG00000185627 -0.04612396      0.04722397    \n",
       "ENSG00000185201  0.03061249      0.01449240    \n",
       "ENSG00000185885 -0.01337802     -0.11184699    \n",
       "ENSG00000142089  0.01947357      0.05973707    "
      ]
     },
     "metadata": {},
     "output_type": "display_data"
    }
   ],
   "source": [
    "# quick and visual comparison of the two matrices\n",
    "IRdisplay::display(head(gene_corrs[1:10, 1:10]))\n",
    "IRdisplay::display(head(gene_corrs_corrected[1:10, 1:10]))"
   ]
  },
  {
   "cell_type": "markdown",
   "id": "c6c40f1a-d153-475a-94eb-c71697ad9d51",
   "metadata": {
    "papermill": {
     "duration": 0.008731,
     "end_time": "2022-06-18T11:50:20.738442",
     "exception": false,
     "start_time": "2022-06-18T11:50:20.729711",
     "status": "completed"
    },
    "tags": []
   },
   "source": [
    "Both matrices should \"look\" similar. We are not interested in perfectly accurate correlation values (they are already inaccurate)."
   ]
  },
  {
   "cell_type": "markdown",
   "id": "bf0f49cb-9c21-4616-8390-bb68d52dae56",
   "metadata": {
    "papermill": {
     "duration": 0.008899,
     "end_time": "2022-06-18T11:50:20.756073",
     "exception": false,
     "start_time": "2022-06-18T11:50:20.747174",
     "status": "completed"
    },
    "tags": []
   },
   "source": [
    "# Save"
   ]
  },
  {
   "cell_type": "code",
   "execution_count": 31,
   "id": "2e58e7f3-a75c-4195-a20e-39e3e3e1cc9a",
   "metadata": {
    "execution": {
     "iopub.execute_input": "2022-06-18T11:50:20.776283Z",
     "iopub.status.busy": "2022-06-18T11:50:20.775059Z",
     "iopub.status.idle": "2022-06-18T11:50:20.807564Z",
     "shell.execute_reply": "2022-06-18T11:50:20.806101Z"
    },
    "papermill": {
     "duration": 0.044428,
     "end_time": "2022-06-18T11:50:20.809437",
     "exception": false,
     "start_time": "2022-06-18T11:50:20.765009",
     "status": "completed"
    },
    "tags": []
   },
   "outputs": [],
   "source": [
    "py_save_object(gene_corrs_corrected, OUTPUT_FILE)"
   ]
  },
  {
   "cell_type": "code",
   "execution_count": null,
   "id": "d8ae4220-2171-460c-9231-cd5219f3fe77",
   "metadata": {
    "papermill": {
     "duration": 0.008505,
     "end_time": "2022-06-18T11:50:20.826881",
     "exception": false,
     "start_time": "2022-06-18T11:50:20.818376",
     "status": "completed"
    },
    "tags": []
   },
   "outputs": [],
   "source": []
  }
 ],
 "metadata": {
  "jupytext": {
   "cell_metadata_filter": "all,-execution,-papermill,-trusted"
  },
  "kernelspec": {
   "display_name": "R",
   "language": "R",
   "name": "ir"
  },
  "language_info": {
   "codemirror_mode": "r",
   "file_extension": ".r",
   "mimetype": "text/x-r-source",
   "name": "R",
   "pygments_lexer": "r",
   "version": "3.6.3"
  },
  "papermill": {
   "default_parameters": {},
   "duration": 6.032744,
   "end_time": "2022-06-18T11:50:20.953287",
   "environment_variables": {},
   "exception": null,
   "input_path": "nbs/15_gsa_gls/12-gene_expr_correlations-adjust.ipynb",
   "output_path": "nbs/15_gsa_gls/gene_corrs/gtex_v8/mashr/12-gene_expr_correlations-adjust-chr11.run.ipynb",
   "parameters": {
    "EQTL_MODEL": "MASHR",
    "REFERENCE_PANEL": "GTEX_V8",
    "chromosome": 11
   },
   "start_time": "2022-06-18T11:50:14.920543",
   "version": "2.3.4"
  }
 },
 "nbformat": 4,
 "nbformat_minor": 5
}
