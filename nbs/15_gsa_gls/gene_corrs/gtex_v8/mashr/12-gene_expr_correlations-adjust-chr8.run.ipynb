{
 "cells": [
  {
   "cell_type": "markdown",
   "id": "6c1f0ae4-cd27-4fec-a23d-51699e7059e8",
   "metadata": {
    "papermill": {
     "duration": 0.00542,
     "end_time": "2022-06-18T11:50:08.586514",
     "exception": false,
     "start_time": "2022-06-18T11:50:08.581094",
     "status": "completed"
    },
    "tags": []
   },
   "source": [
    "# Description"
   ]
  },
  {
   "cell_type": "markdown",
   "id": "3268a19a-8a83-4f61-aa39-09b084c81d61",
   "metadata": {
    "papermill": {
     "duration": 0.004459,
     "end_time": "2022-06-18T11:50:08.595630",
     "exception": false,
     "start_time": "2022-06-18T11:50:08.591171",
     "status": "completed"
    },
    "tags": []
   },
   "source": [
    "**TODO**"
   ]
  },
  {
   "cell_type": "markdown",
   "id": "401368d3-22c1-4d81-a2c3-c4a81fde4191",
   "metadata": {
    "papermill": {
     "duration": 0.004465,
     "end_time": "2022-06-18T11:50:08.604524",
     "exception": false,
     "start_time": "2022-06-18T11:50:08.600059",
     "status": "completed"
    },
    "tags": []
   },
   "source": [
    "# Modules"
   ]
  },
  {
   "cell_type": "code",
   "execution_count": 1,
   "id": "f9b5022b-7c5e-4d37-9c7a-fdb91777c7f9",
   "metadata": {
    "execution": {
     "iopub.execute_input": "2022-06-18T11:50:08.638007Z",
     "iopub.status.busy": "2022-06-18T11:50:08.636395Z",
     "iopub.status.idle": "2022-06-18T11:50:12.022676Z",
     "shell.execute_reply": "2022-06-18T11:50:12.021332Z"
    },
    "papermill": {
     "duration": 3.415729,
     "end_time": "2022-06-18T11:50:12.024640",
     "exception": false,
     "start_time": "2022-06-18T11:50:08.608911",
     "status": "completed"
    },
    "tags": []
   },
   "outputs": [],
   "source": [
    "library(reticulate)\n",
    "pd <- import(\"pandas\")"
   ]
  },
  {
   "cell_type": "markdown",
   "id": "c1958d6a-0229-47e8-823e-792fcf84fccf",
   "metadata": {
    "papermill": {
     "duration": 0.00514,
     "end_time": "2022-06-18T11:50:12.035033",
     "exception": false,
     "start_time": "2022-06-18T11:50:12.029893",
     "status": "completed"
    },
    "tags": []
   },
   "source": [
    "# Settings"
   ]
  },
  {
   "cell_type": "code",
   "execution_count": 2,
   "id": "22d12bb4-1699-4a6b-b1b9-d3fdd3d547d7",
   "metadata": {
    "execution": {
     "iopub.execute_input": "2022-06-18T11:50:12.070554Z",
     "iopub.status.busy": "2022-06-18T11:50:12.045924Z",
     "iopub.status.idle": "2022-06-18T11:50:12.084720Z",
     "shell.execute_reply": "2022-06-18T11:50:12.083299Z"
    },
    "papermill": {
     "duration": 0.046844,
     "end_time": "2022-06-18T11:50:12.086868",
     "exception": false,
     "start_time": "2022-06-18T11:50:12.040024",
     "status": "completed"
    },
    "tags": [
     "parameters"
    ]
   },
   "outputs": [],
   "source": [
    "# reference panel\n",
    "REFERENCE_PANEL <- \"GTEX_V8\"\n",
    "# REFERENCE_PANEL = \"1000G\"\n",
    "\n",
    "# prediction models\n",
    "## mashr\n",
    "EQTL_MODEL <- \"MASHR\"\n",
    "\n",
    "# ## elastic net\n",
    "# EQTL_MODEL = \"ELASTIC_NET\"\n",
    "\n",
    "chromosome <- NULL"
   ]
  },
  {
   "cell_type": "code",
   "execution_count": 3,
   "id": "564d98be",
   "metadata": {
    "execution": {
     "iopub.execute_input": "2022-06-18T11:50:12.099467Z",
     "iopub.status.busy": "2022-06-18T11:50:12.098408Z",
     "iopub.status.idle": "2022-06-18T11:50:12.116589Z",
     "shell.execute_reply": "2022-06-18T11:50:12.115311Z"
    },
    "papermill": {
     "duration": 0.026328,
     "end_time": "2022-06-18T11:50:12.118443",
     "exception": false,
     "start_time": "2022-06-18T11:50:12.092115",
     "status": "completed"
    },
    "tags": [
     "injected-parameters"
    ]
   },
   "outputs": [],
   "source": [
    "# Parameters\n",
    "chromosome = 8\n",
    "REFERENCE_PANEL = \"GTEX_V8\"\n",
    "EQTL_MODEL = \"MASHR\"\n"
   ]
  },
  {
   "cell_type": "code",
   "execution_count": 4,
   "id": "8fe24bef",
   "metadata": {
    "execution": {
     "iopub.execute_input": "2022-06-18T11:50:12.131534Z",
     "iopub.status.busy": "2022-06-18T11:50:12.130376Z",
     "iopub.status.idle": "2022-06-18T11:50:12.144303Z",
     "shell.execute_reply": "2022-06-18T11:50:12.143031Z"
    },
    "papermill": {
     "duration": 0.022201,
     "end_time": "2022-06-18T11:50:12.146102",
     "exception": false,
     "start_time": "2022-06-18T11:50:12.123901",
     "status": "completed"
    },
    "tags": []
   },
   "outputs": [
    {
     "data": {
      "text/html": [
       "'Using reference panel: GTEX_V8'"
      ],
      "text/latex": [
       "'Using reference panel: GTEX\\_V8'"
      ],
      "text/markdown": [
       "'Using reference panel: GTEX_V8'"
      ],
      "text/plain": [
       "[1] \"Using reference panel: GTEX_V8\""
      ]
     },
     "metadata": {},
     "output_type": "display_data"
    }
   ],
   "source": [
    "paste0(\"Using reference panel: \", REFERENCE_PANEL)"
   ]
  },
  {
   "cell_type": "code",
   "execution_count": 5,
   "id": "d62c28f8-186c-478b-948c-58e14f00df4b",
   "metadata": {
    "execution": {
     "iopub.execute_input": "2022-06-18T11:50:12.158960Z",
     "iopub.status.busy": "2022-06-18T11:50:12.157867Z",
     "iopub.status.idle": "2022-06-18T11:50:12.170968Z",
     "shell.execute_reply": "2022-06-18T11:50:12.169567Z"
    },
    "papermill": {
     "duration": 0.021503,
     "end_time": "2022-06-18T11:50:12.173074",
     "exception": false,
     "start_time": "2022-06-18T11:50:12.151571",
     "status": "completed"
    },
    "tags": []
   },
   "outputs": [
    {
     "data": {
      "text/html": [
       "'Using eQTL model: MASHR'"
      ],
      "text/latex": [
       "'Using eQTL model: MASHR'"
      ],
      "text/markdown": [
       "'Using eQTL model: MASHR'"
      ],
      "text/plain": [
       "[1] \"Using eQTL model: MASHR\""
      ]
     },
     "metadata": {},
     "output_type": "display_data"
    }
   ],
   "source": [
    "paste0(\"Using eQTL model: \", EQTL_MODEL)"
   ]
  },
  {
   "cell_type": "code",
   "execution_count": 6,
   "id": "5243676f-c889-4405-9a4d-262f0f044614",
   "metadata": {
    "execution": {
     "iopub.execute_input": "2022-06-18T11:50:12.187482Z",
     "iopub.status.busy": "2022-06-18T11:50:12.186340Z",
     "iopub.status.idle": "2022-06-18T11:50:12.197222Z",
     "shell.execute_reply": "2022-06-18T11:50:12.195883Z"
    },
    "papermill": {
     "duration": 0.020195,
     "end_time": "2022-06-18T11:50:12.199273",
     "exception": false,
     "start_time": "2022-06-18T11:50:12.179078",
     "status": "completed"
    },
    "tags": []
   },
   "outputs": [],
   "source": [
    "# chromosome must be provided as parameter\n",
    "stopifnot(!is.null(chromosome))"
   ]
  },
  {
   "cell_type": "markdown",
   "id": "83a49773-bcf5-44c4-8d9b-a6ac65a57ec6",
   "metadata": {
    "papermill": {
     "duration": 0.005395,
     "end_time": "2022-06-18T11:50:12.211111",
     "exception": false,
     "start_time": "2022-06-18T11:50:12.205716",
     "status": "completed"
    },
    "tags": []
   },
   "source": [
    "# Paths"
   ]
  },
  {
   "cell_type": "code",
   "execution_count": 7,
   "id": "eb6aa8aa-b452-4a2f-a780-93dd80ad4285",
   "metadata": {
    "execution": {
     "iopub.execute_input": "2022-06-18T11:50:12.224429Z",
     "iopub.status.busy": "2022-06-18T11:50:12.223273Z",
     "iopub.status.idle": "2022-06-18T11:50:12.236764Z",
     "shell.execute_reply": "2022-06-18T11:50:12.235490Z"
    },
    "papermill": {
     "duration": 0.021931,
     "end_time": "2022-06-18T11:50:12.238629",
     "exception": false,
     "start_time": "2022-06-18T11:50:12.216698",
     "status": "completed"
    },
    "tags": []
   },
   "outputs": [
    {
     "data": {
      "text/html": [
       "'/opt/data/data/phenomexcan/ld_blocks/gene_corrs'"
      ],
      "text/latex": [
       "'/opt/data/data/phenomexcan/ld\\_blocks/gene\\_corrs'"
      ],
      "text/markdown": [
       "'/opt/data/data/phenomexcan/ld_blocks/gene_corrs'"
      ],
      "text/plain": [
       "[1] \"/opt/data/data/phenomexcan/ld_blocks/gene_corrs\""
      ]
     },
     "metadata": {},
     "output_type": "display_data"
    }
   ],
   "source": [
    "GENE_CORRS_DIR <- Sys.getenv(\"PHENOPLIER_PHENOMEXCAN_LD_BLOCKS_GENE_CORRS_DIR\")\n",
    "IRdisplay::display(GENE_CORRS_DIR)"
   ]
  },
  {
   "cell_type": "code",
   "execution_count": 8,
   "id": "eb24f15f-f282-4476-8943-8413c4483f12",
   "metadata": {
    "execution": {
     "iopub.execute_input": "2022-06-18T11:50:12.252082Z",
     "iopub.status.busy": "2022-06-18T11:50:12.250929Z",
     "iopub.status.idle": "2022-06-18T11:50:12.263908Z",
     "shell.execute_reply": "2022-06-18T11:50:12.262681Z"
    },
    "papermill": {
     "duration": 0.0212,
     "end_time": "2022-06-18T11:50:12.265677",
     "exception": false,
     "start_time": "2022-06-18T11:50:12.244477",
     "status": "completed"
    },
    "tags": []
   },
   "outputs": [
    {
     "data": {
      "text/html": [
       "'/opt/data/data/phenomexcan/ld_blocks/gene_corrs/gtex_v8/mashr/by_chr'"
      ],
      "text/latex": [
       "'/opt/data/data/phenomexcan/ld\\_blocks/gene\\_corrs/gtex\\_v8/mashr/by\\_chr'"
      ],
      "text/markdown": [
       "'/opt/data/data/phenomexcan/ld_blocks/gene_corrs/gtex_v8/mashr/by_chr'"
      ],
      "text/plain": [
       "[1] \"/opt/data/data/phenomexcan/ld_blocks/gene_corrs/gtex_v8/mashr/by_chr\""
      ]
     },
     "metadata": {},
     "output_type": "display_data"
    }
   ],
   "source": [
    "INPUT_DIR <- file.path(GENE_CORRS_DIR, tolower(REFERENCE_PANEL), tolower(EQTL_MODEL), \"by_chr\")\n",
    "IRdisplay::display(INPUT_DIR)"
   ]
  },
  {
   "cell_type": "code",
   "execution_count": 9,
   "id": "43c1daba-0da9-4822-8d1e-968e9767e251",
   "metadata": {
    "execution": {
     "iopub.execute_input": "2022-06-18T11:50:12.278287Z",
     "iopub.status.busy": "2022-06-18T11:50:12.277248Z",
     "iopub.status.idle": "2022-06-18T11:50:12.291308Z",
     "shell.execute_reply": "2022-06-18T11:50:12.290133Z"
    },
    "papermill": {
     "duration": 0.021959,
     "end_time": "2022-06-18T11:50:12.293046",
     "exception": false,
     "start_time": "2022-06-18T11:50:12.271087",
     "status": "completed"
    },
    "tags": []
   },
   "outputs": [
    {
     "data": {
      "text/html": [
       "'/opt/data/data/phenomexcan/ld_blocks/gene_corrs/gtex_v8/mashr/by_chr/gene_corrs-chr8.pkl'"
      ],
      "text/latex": [
       "'/opt/data/data/phenomexcan/ld\\_blocks/gene\\_corrs/gtex\\_v8/mashr/by\\_chr/gene\\_corrs-chr8.pkl'"
      ],
      "text/markdown": [
       "'/opt/data/data/phenomexcan/ld_blocks/gene_corrs/gtex_v8/mashr/by_chr/gene_corrs-chr8.pkl'"
      ],
      "text/plain": [
       "[1] \"/opt/data/data/phenomexcan/ld_blocks/gene_corrs/gtex_v8/mashr/by_chr/gene_corrs-chr8.pkl\""
      ]
     },
     "metadata": {},
     "output_type": "display_data"
    }
   ],
   "source": [
    "INPUT_FILE <- file.path(INPUT_DIR, paste0(\"gene_corrs-chr\", chromosome, \".pkl\"))\n",
    "IRdisplay::display(INPUT_FILE)\n",
    "stopifnot(file.exists(INPUT_FILE))"
   ]
  },
  {
   "cell_type": "code",
   "execution_count": 10,
   "id": "72386fbf-982b-420a-9057-ea9a97a5e571",
   "metadata": {
    "execution": {
     "iopub.execute_input": "2022-06-18T11:50:12.306198Z",
     "iopub.status.busy": "2022-06-18T11:50:12.305126Z",
     "iopub.status.idle": "2022-06-18T11:50:12.322609Z",
     "shell.execute_reply": "2022-06-18T11:50:12.321144Z"
    },
    "papermill": {
     "duration": 0.026719,
     "end_time": "2022-06-18T11:50:12.325413",
     "exception": false,
     "start_time": "2022-06-18T11:50:12.298694",
     "status": "completed"
    },
    "tags": []
   },
   "outputs": [
    {
     "data": {
      "text/html": [
       "'/opt/data/data/phenomexcan/ld_blocks/gene_corrs/gtex_v8/mashr/by_chr/corrected_positive_definite'"
      ],
      "text/latex": [
       "'/opt/data/data/phenomexcan/ld\\_blocks/gene\\_corrs/gtex\\_v8/mashr/by\\_chr/corrected\\_positive\\_definite'"
      ],
      "text/markdown": [
       "'/opt/data/data/phenomexcan/ld_blocks/gene_corrs/gtex_v8/mashr/by_chr/corrected_positive_definite'"
      ],
      "text/plain": [
       "[1] \"/opt/data/data/phenomexcan/ld_blocks/gene_corrs/gtex_v8/mashr/by_chr/corrected_positive_definite\""
      ]
     },
     "metadata": {},
     "output_type": "display_data"
    }
   ],
   "source": [
    "OUTPUT_DIR <- file.path(INPUT_DIR, \"corrected_positive_definite\")\n",
    "IRdisplay::display(OUTPUT_DIR)\n",
    "dir.create(OUTPUT_DIR, recursive = TRUE, showWarnings = FALSE)"
   ]
  },
  {
   "cell_type": "code",
   "execution_count": 11,
   "id": "f9f19d1d-ce4c-4099-a26e-250fec751de7",
   "metadata": {
    "execution": {
     "iopub.execute_input": "2022-06-18T11:50:12.341286Z",
     "iopub.status.busy": "2022-06-18T11:50:12.340033Z",
     "iopub.status.idle": "2022-06-18T11:50:12.366529Z",
     "shell.execute_reply": "2022-06-18T11:50:12.361961Z"
    },
    "papermill": {
     "duration": 0.036535,
     "end_time": "2022-06-18T11:50:12.368603",
     "exception": false,
     "start_time": "2022-06-18T11:50:12.332068",
     "status": "completed"
    },
    "tags": []
   },
   "outputs": [
    {
     "data": {
      "text/html": [
       "'/opt/data/data/phenomexcan/ld_blocks/gene_corrs/gtex_v8/mashr/by_chr/corrected_positive_definite/gene_corrs-chr8.pkl'"
      ],
      "text/latex": [
       "'/opt/data/data/phenomexcan/ld\\_blocks/gene\\_corrs/gtex\\_v8/mashr/by\\_chr/corrected\\_positive\\_definite/gene\\_corrs-chr8.pkl'"
      ],
      "text/markdown": [
       "'/opt/data/data/phenomexcan/ld_blocks/gene_corrs/gtex_v8/mashr/by_chr/corrected_positive_definite/gene_corrs-chr8.pkl'"
      ],
      "text/plain": [
       "[1] \"/opt/data/data/phenomexcan/ld_blocks/gene_corrs/gtex_v8/mashr/by_chr/corrected_positive_definite/gene_corrs-chr8.pkl\""
      ]
     },
     "metadata": {},
     "output_type": "display_data"
    },
    {
     "data": {
      "text/html": [
       "'Output file exists, it will be overwritten'"
      ],
      "text/latex": [
       "'Output file exists, it will be overwritten'"
      ],
      "text/markdown": [
       "'Output file exists, it will be overwritten'"
      ],
      "text/plain": [
       "[1] \"Output file exists, it will be overwritten\""
      ]
     },
     "metadata": {},
     "output_type": "display_data"
    }
   ],
   "source": [
    "OUTPUT_FILE <- file.path(OUTPUT_DIR, paste0(\"gene_corrs-chr\", chromosome, \".pkl\"))\n",
    "IRdisplay::display(OUTPUT_FILE)\n",
    "if (file.exists(OUTPUT_FILE)) {\n",
    "  IRdisplay::display(\"Output file exists, it will be overwritten\")\n",
    "}"
   ]
  },
  {
   "cell_type": "markdown",
   "id": "5aad60e6-cba4-41b5-9755-93eb86f4ed05",
   "metadata": {
    "papermill": {
     "duration": 0.006268,
     "end_time": "2022-06-18T11:50:12.381285",
     "exception": false,
     "start_time": "2022-06-18T11:50:12.375017",
     "status": "completed"
    },
    "tags": []
   },
   "source": [
    "# Functions"
   ]
  },
  {
   "cell_type": "code",
   "execution_count": 12,
   "id": "f828f081-7358-4cc8-8a89-1ee293bcc1a7",
   "metadata": {
    "execution": {
     "iopub.execute_input": "2022-06-18T11:50:12.399430Z",
     "iopub.status.busy": "2022-06-18T11:50:12.398380Z",
     "iopub.status.idle": "2022-06-18T11:50:12.408341Z",
     "shell.execute_reply": "2022-06-18T11:50:12.407101Z"
    },
    "papermill": {
     "duration": 0.020216,
     "end_time": "2022-06-18T11:50:12.410017",
     "exception": false,
     "start_time": "2022-06-18T11:50:12.389801",
     "status": "completed"
    },
    "tags": []
   },
   "outputs": [],
   "source": [
    "# taken from https://www.r-bloggers.com/2013/08/correcting-a-pseudo-correlation-matrix-to-be-positive-semidefinite/\n",
    "# TODO: add documentation\n",
    "CorrectCM <- function(CM, p = 0) {\n",
    "  n <- dim(var(CM))[1L]\n",
    "  E <- eigen(CM)\n",
    "  CM1 <- E$vectors %*% tcrossprod(diag(pmax(E$values, p), n), E$vectors)\n",
    "  Balance <- diag(1 / sqrt(diag(CM1)))\n",
    "  CM2 <- Balance %*% CM1 %*% Balance\n",
    "  return(CM2)\n",
    "}"
   ]
  },
  {
   "cell_type": "code",
   "execution_count": 13,
   "id": "7ab9bebf-50a1-4e6f-b16a-e23cae93d02a",
   "metadata": {
    "execution": {
     "iopub.execute_input": "2022-06-18T11:50:12.425343Z",
     "iopub.status.busy": "2022-06-18T11:50:12.423468Z",
     "iopub.status.idle": "2022-06-18T11:50:12.434906Z",
     "shell.execute_reply": "2022-06-18T11:50:12.432886Z"
    },
    "papermill": {
     "duration": 0.020217,
     "end_time": "2022-06-18T11:50:12.436583",
     "exception": false,
     "start_time": "2022-06-18T11:50:12.416366",
     "status": "completed"
    },
    "tags": []
   },
   "outputs": [],
   "source": [
    "is_positive_definite <- function(data) {\n",
    "  eigenvalues <- eigen(data)$values\n",
    "  nonpositive_eigenvalues <- eigenvalues[eigenvalues <= 0]\n",
    "\n",
    "  if (length(nonpositive_eigenvalues) > 0) {\n",
    "    IRdisplay::display(\"We need to correct the data and make the matrix positive definite\")\n",
    "    return(FALSE)\n",
    "  } else {\n",
    "    IRdisplay::display(\"Matrix is already positive definite!\")\n",
    "    return(TRUE)\n",
    "  }\n",
    "}"
   ]
  },
  {
   "cell_type": "markdown",
   "id": "ac52ecbc-5618-4876-a4fa-546a08e3fcf3",
   "metadata": {
    "papermill": {
     "duration": 0.005445,
     "end_time": "2022-06-18T11:50:12.447982",
     "exception": false,
     "start_time": "2022-06-18T11:50:12.442537",
     "status": "completed"
    },
    "tags": []
   },
   "source": [
    "# Load data"
   ]
  },
  {
   "cell_type": "code",
   "execution_count": 14,
   "id": "3a7744e1-2e5a-450e-9dcf-945ec181347d",
   "metadata": {
    "execution": {
     "iopub.execute_input": "2022-06-18T11:50:12.461146Z",
     "iopub.status.busy": "2022-06-18T11:50:12.460100Z",
     "iopub.status.idle": "2022-06-18T11:50:12.497342Z",
     "shell.execute_reply": "2022-06-18T11:50:12.495369Z"
    },
    "papermill": {
     "duration": 0.045418,
     "end_time": "2022-06-18T11:50:12.499120",
     "exception": false,
     "start_time": "2022-06-18T11:50:12.453702",
     "status": "completed"
    },
    "tags": []
   },
   "outputs": [],
   "source": [
    "gene_corrs <- pd$read_pickle(INPUT_FILE)"
   ]
  },
  {
   "cell_type": "code",
   "execution_count": 15,
   "id": "6fb150b2-4c68-4e9b-9aa5-1890d3f762e3",
   "metadata": {
    "execution": {
     "iopub.execute_input": "2022-06-18T11:50:12.512492Z",
     "iopub.status.busy": "2022-06-18T11:50:12.511469Z",
     "iopub.status.idle": "2022-06-18T11:50:12.525321Z",
     "shell.execute_reply": "2022-06-18T11:50:12.523477Z"
    },
    "papermill": {
     "duration": 0.021892,
     "end_time": "2022-06-18T11:50:12.526872",
     "exception": false,
     "start_time": "2022-06-18T11:50:12.504980",
     "status": "completed"
    },
    "tags": []
   },
   "outputs": [
    {
     "data": {
      "text/html": [
       "<style>\n",
       ".list-inline {list-style: none; margin:0; padding: 0}\n",
       ".list-inline>li {display: inline-block}\n",
       ".list-inline>li:not(:last-child)::after {content: \"\\00b7\"; padding: 0 .5ex}\n",
       "</style>\n",
       "<ol class=list-inline><li>222</li><li>222</li></ol>\n"
      ],
      "text/latex": [
       "\\begin{enumerate*}\n",
       "\\item 222\n",
       "\\item 222\n",
       "\\end{enumerate*}\n"
      ],
      "text/markdown": [
       "1. 222\n",
       "2. 222\n",
       "\n",
       "\n"
      ],
      "text/plain": [
       "[1] 222 222"
      ]
     },
     "metadata": {},
     "output_type": "display_data"
    }
   ],
   "source": [
    "dim(gene_corrs)"
   ]
  },
  {
   "cell_type": "code",
   "execution_count": 16,
   "id": "0d4e53b5-7586-4a68-8ce5-d930d74ba943",
   "metadata": {
    "execution": {
     "iopub.execute_input": "2022-06-18T11:50:12.540332Z",
     "iopub.status.busy": "2022-06-18T11:50:12.539412Z",
     "iopub.status.idle": "2022-06-18T11:50:12.560387Z",
     "shell.execute_reply": "2022-06-18T11:50:12.559235Z"
    },
    "papermill": {
     "duration": 0.029209,
     "end_time": "2022-06-18T11:50:12.562053",
     "exception": false,
     "start_time": "2022-06-18T11:50:12.532844",
     "status": "completed"
    },
    "tags": []
   },
   "outputs": [
    {
     "data": {
      "text/html": [
       "<table class=\"dataframe\">\n",
       "<caption>A data.frame: 6 × 10</caption>\n",
       "<thead>\n",
       "\t<tr><th></th><th scope=col>ENSG00000172748</th><th scope=col>ENSG00000182372</th><th scope=col>ENSG00000104728</th><th scope=col>ENSG00000036448</th><th scope=col>ENSG00000091879</th><th scope=col>ENSG00000155189</th><th scope=col>ENSG00000164821</th><th scope=col>ENSG00000253958</th><th scope=col>ENSG00000147324</th><th scope=col>ENSG00000173281</th></tr>\n",
       "\t<tr><th></th><th scope=col>&lt;dbl&gt;</th><th scope=col>&lt;dbl&gt;</th><th scope=col>&lt;dbl&gt;</th><th scope=col>&lt;dbl&gt;</th><th scope=col>&lt;dbl&gt;</th><th scope=col>&lt;dbl&gt;</th><th scope=col>&lt;dbl&gt;</th><th scope=col>&lt;dbl&gt;</th><th scope=col>&lt;dbl&gt;</th><th scope=col>&lt;dbl&gt;</th></tr>\n",
       "</thead>\n",
       "<tbody>\n",
       "\t<tr><th scope=row>ENSG00000172748</th><td> 1.00000000</td><td> 0.02931887</td><td> 0.03472605</td><td>-0.02439109</td><td> 0.00000000</td><td> 0.00000000</td><td> 0.00000000</td><td>0.0000000</td><td> 0.00000000</td><td> 0.00000000</td></tr>\n",
       "\t<tr><th scope=row>ENSG00000182372</th><td> 0.02931887</td><td> 1.00000000</td><td>-0.06838250</td><td> 0.08534388</td><td>-0.03524857</td><td>-0.05286252</td><td> 0.00000000</td><td>0.0000000</td><td> 0.00000000</td><td> 0.00000000</td></tr>\n",
       "\t<tr><th scope=row>ENSG00000104728</th><td> 0.03472605</td><td>-0.06838250</td><td> 1.00000000</td><td> 0.02055591</td><td>-0.04310498</td><td> 0.07790795</td><td>-0.02011401</td><td>0.0000000</td><td> 0.00000000</td><td> 0.00000000</td></tr>\n",
       "\t<tr><th scope=row>ENSG00000036448</th><td>-0.02439109</td><td> 0.08534388</td><td> 0.02055591</td><td> 1.00000000</td><td>-0.01193855</td><td> 0.03715707</td><td>-0.05811610</td><td>0.0000000</td><td> 0.00000000</td><td> 0.00000000</td></tr>\n",
       "\t<tr><th scope=row>ENSG00000091879</th><td> 0.00000000</td><td>-0.03524857</td><td>-0.04310498</td><td>-0.01193855</td><td> 1.00000000</td><td> 0.02863605</td><td> 0.02006410</td><td>0.0474210</td><td>-0.04648296</td><td> 0.02190241</td></tr>\n",
       "\t<tr><th scope=row>ENSG00000155189</th><td> 0.00000000</td><td>-0.05286252</td><td> 0.07790795</td><td> 0.03715707</td><td> 0.02863605</td><td> 1.00000000</td><td>-0.10798990</td><td>0.1888645</td><td> 0.02620260</td><td>-0.05672479</td></tr>\n",
       "</tbody>\n",
       "</table>\n"
      ],
      "text/latex": [
       "A data.frame: 6 × 10\n",
       "\\begin{tabular}{r|llllllllll}\n",
       "  & ENSG00000172748 & ENSG00000182372 & ENSG00000104728 & ENSG00000036448 & ENSG00000091879 & ENSG00000155189 & ENSG00000164821 & ENSG00000253958 & ENSG00000147324 & ENSG00000173281\\\\\n",
       "  & <dbl> & <dbl> & <dbl> & <dbl> & <dbl> & <dbl> & <dbl> & <dbl> & <dbl> & <dbl>\\\\\n",
       "\\hline\n",
       "\tENSG00000172748 &  1.00000000 &  0.02931887 &  0.03472605 & -0.02439109 &  0.00000000 &  0.00000000 &  0.00000000 & 0.0000000 &  0.00000000 &  0.00000000\\\\\n",
       "\tENSG00000182372 &  0.02931887 &  1.00000000 & -0.06838250 &  0.08534388 & -0.03524857 & -0.05286252 &  0.00000000 & 0.0000000 &  0.00000000 &  0.00000000\\\\\n",
       "\tENSG00000104728 &  0.03472605 & -0.06838250 &  1.00000000 &  0.02055591 & -0.04310498 &  0.07790795 & -0.02011401 & 0.0000000 &  0.00000000 &  0.00000000\\\\\n",
       "\tENSG00000036448 & -0.02439109 &  0.08534388 &  0.02055591 &  1.00000000 & -0.01193855 &  0.03715707 & -0.05811610 & 0.0000000 &  0.00000000 &  0.00000000\\\\\n",
       "\tENSG00000091879 &  0.00000000 & -0.03524857 & -0.04310498 & -0.01193855 &  1.00000000 &  0.02863605 &  0.02006410 & 0.0474210 & -0.04648296 &  0.02190241\\\\\n",
       "\tENSG00000155189 &  0.00000000 & -0.05286252 &  0.07790795 &  0.03715707 &  0.02863605 &  1.00000000 & -0.10798990 & 0.1888645 &  0.02620260 & -0.05672479\\\\\n",
       "\\end{tabular}\n"
      ],
      "text/markdown": [
       "\n",
       "A data.frame: 6 × 10\n",
       "\n",
       "| <!--/--> | ENSG00000172748 &lt;dbl&gt; | ENSG00000182372 &lt;dbl&gt; | ENSG00000104728 &lt;dbl&gt; | ENSG00000036448 &lt;dbl&gt; | ENSG00000091879 &lt;dbl&gt; | ENSG00000155189 &lt;dbl&gt; | ENSG00000164821 &lt;dbl&gt; | ENSG00000253958 &lt;dbl&gt; | ENSG00000147324 &lt;dbl&gt; | ENSG00000173281 &lt;dbl&gt; |\n",
       "|---|---|---|---|---|---|---|---|---|---|---|\n",
       "| ENSG00000172748 |  1.00000000 |  0.02931887 |  0.03472605 | -0.02439109 |  0.00000000 |  0.00000000 |  0.00000000 | 0.0000000 |  0.00000000 |  0.00000000 |\n",
       "| ENSG00000182372 |  0.02931887 |  1.00000000 | -0.06838250 |  0.08534388 | -0.03524857 | -0.05286252 |  0.00000000 | 0.0000000 |  0.00000000 |  0.00000000 |\n",
       "| ENSG00000104728 |  0.03472605 | -0.06838250 |  1.00000000 |  0.02055591 | -0.04310498 |  0.07790795 | -0.02011401 | 0.0000000 |  0.00000000 |  0.00000000 |\n",
       "| ENSG00000036448 | -0.02439109 |  0.08534388 |  0.02055591 |  1.00000000 | -0.01193855 |  0.03715707 | -0.05811610 | 0.0000000 |  0.00000000 |  0.00000000 |\n",
       "| ENSG00000091879 |  0.00000000 | -0.03524857 | -0.04310498 | -0.01193855 |  1.00000000 |  0.02863605 |  0.02006410 | 0.0474210 | -0.04648296 |  0.02190241 |\n",
       "| ENSG00000155189 |  0.00000000 | -0.05286252 |  0.07790795 |  0.03715707 |  0.02863605 |  1.00000000 | -0.10798990 | 0.1888645 |  0.02620260 | -0.05672479 |\n",
       "\n"
      ],
      "text/plain": [
       "                ENSG00000172748 ENSG00000182372 ENSG00000104728 ENSG00000036448\n",
       "ENSG00000172748  1.00000000      0.02931887      0.03472605     -0.02439109    \n",
       "ENSG00000182372  0.02931887      1.00000000     -0.06838250      0.08534388    \n",
       "ENSG00000104728  0.03472605     -0.06838250      1.00000000      0.02055591    \n",
       "ENSG00000036448 -0.02439109      0.08534388      0.02055591      1.00000000    \n",
       "ENSG00000091879  0.00000000     -0.03524857     -0.04310498     -0.01193855    \n",
       "ENSG00000155189  0.00000000     -0.05286252      0.07790795      0.03715707    \n",
       "                ENSG00000091879 ENSG00000155189 ENSG00000164821 ENSG00000253958\n",
       "ENSG00000172748  0.00000000      0.00000000      0.00000000     0.0000000      \n",
       "ENSG00000182372 -0.03524857     -0.05286252      0.00000000     0.0000000      \n",
       "ENSG00000104728 -0.04310498      0.07790795     -0.02011401     0.0000000      \n",
       "ENSG00000036448 -0.01193855      0.03715707     -0.05811610     0.0000000      \n",
       "ENSG00000091879  1.00000000      0.02863605      0.02006410     0.0474210      \n",
       "ENSG00000155189  0.02863605      1.00000000     -0.10798990     0.1888645      \n",
       "                ENSG00000147324 ENSG00000173281\n",
       "ENSG00000172748  0.00000000      0.00000000    \n",
       "ENSG00000182372  0.00000000      0.00000000    \n",
       "ENSG00000104728  0.00000000      0.00000000    \n",
       "ENSG00000036448  0.00000000      0.00000000    \n",
       "ENSG00000091879 -0.04648296      0.02190241    \n",
       "ENSG00000155189  0.02620260     -0.05672479    "
      ]
     },
     "metadata": {},
     "output_type": "display_data"
    }
   ],
   "source": [
    "head(gene_corrs[1:10, 1:10])"
   ]
  },
  {
   "cell_type": "markdown",
   "id": "c5c9ffba-1678-4ce7-8988-4ee03e23bdf2",
   "metadata": {
    "papermill": {
     "duration": 0.006375,
     "end_time": "2022-06-18T11:50:12.574958",
     "exception": false,
     "start_time": "2022-06-18T11:50:12.568583",
     "status": "completed"
    },
    "tags": []
   },
   "source": [
    "# Check positive definiteness"
   ]
  },
  {
   "cell_type": "code",
   "execution_count": 17,
   "id": "178854f5-487a-42e8-82b4-625c1979734a",
   "metadata": {
    "execution": {
     "iopub.execute_input": "2022-06-18T11:50:12.588927Z",
     "iopub.status.busy": "2022-06-18T11:50:12.587964Z",
     "iopub.status.idle": "2022-06-18T11:50:12.638195Z",
     "shell.execute_reply": "2022-06-18T11:50:12.635246Z"
    },
    "papermill": {
     "duration": 0.058657,
     "end_time": "2022-06-18T11:50:12.639708",
     "exception": false,
     "start_time": "2022-06-18T11:50:12.581051",
     "status": "completed"
    },
    "tags": []
   },
   "outputs": [
    {
     "data": {
      "text/html": [
       "'We need to correct the data and make the matrix positive definite'"
      ],
      "text/latex": [
       "'We need to correct the data and make the matrix positive definite'"
      ],
      "text/markdown": [
       "'We need to correct the data and make the matrix positive definite'"
      ],
      "text/plain": [
       "[1] \"We need to correct the data and make the matrix positive definite\""
      ]
     },
     "metadata": {},
     "output_type": "display_data"
    },
    {
     "data": {
      "text/html": [
       "FALSE"
      ],
      "text/latex": [
       "FALSE"
      ],
      "text/markdown": [
       "FALSE"
      ],
      "text/plain": [
       "[1] FALSE"
      ]
     },
     "metadata": {},
     "output_type": "display_data"
    }
   ],
   "source": [
    "is_positive_definite(gene_corrs)"
   ]
  },
  {
   "cell_type": "code",
   "execution_count": 18,
   "id": "58542ade-c80f-42e6-acbf-6464dab70fdb",
   "metadata": {
    "execution": {
     "iopub.execute_input": "2022-06-18T11:50:12.660787Z",
     "iopub.status.busy": "2022-06-18T11:50:12.659881Z",
     "iopub.status.idle": "2022-06-18T11:50:12.700250Z",
     "shell.execute_reply": "2022-06-18T11:50:12.698369Z"
    },
    "papermill": {
     "duration": 0.056443,
     "end_time": "2022-06-18T11:50:12.701815",
     "exception": false,
     "start_time": "2022-06-18T11:50:12.645372",
     "status": "completed"
    },
    "tags": []
   },
   "outputs": [],
   "source": [
    "# see eigenvalues\n",
    "eigenvalues <- eigen(gene_corrs)$values"
   ]
  },
  {
   "cell_type": "code",
   "execution_count": 19,
   "id": "9486e0db-e924-43ab-bb6c-0d997fd38f3d",
   "metadata": {
    "execution": {
     "iopub.execute_input": "2022-06-18T11:50:12.715590Z",
     "iopub.status.busy": "2022-06-18T11:50:12.714702Z",
     "iopub.status.idle": "2022-06-18T11:50:12.738180Z",
     "shell.execute_reply": "2022-06-18T11:50:12.736416Z"
    },
    "papermill": {
     "duration": 0.031689,
     "end_time": "2022-06-18T11:50:12.739678",
     "exception": false,
     "start_time": "2022-06-18T11:50:12.707989",
     "status": "completed"
    },
    "tags": []
   },
   "outputs": [
    {
     "data": {
      "text/html": [
       "8"
      ],
      "text/latex": [
       "8"
      ],
      "text/markdown": [
       "8"
      ],
      "text/plain": [
       "[1] 8"
      ]
     },
     "metadata": {},
     "output_type": "display_data"
    },
    {
     "data": {
      "text/html": [
       "<style>\n",
       ".list-inline {list-style: none; margin:0; padding: 0}\n",
       ".list-inline>li {display: inline-block}\n",
       ".list-inline>li:not(:last-child)::after {content: \"\\00b7\"; padding: 0 .5ex}\n",
       "</style>\n",
       "<ol class=list-inline><li>-0.0180529239917688</li><li>-0.0710966696426132</li><li>-0.0802591306663221</li><li>-0.0821571224800288</li><li>-0.26141576569212</li><li>-0.492816889632425</li><li>-1.03522088409694</li><li>-1.26669553934276</li></ol>\n"
      ],
      "text/latex": [
       "\\begin{enumerate*}\n",
       "\\item -0.0180529239917688\n",
       "\\item -0.0710966696426132\n",
       "\\item -0.0802591306663221\n",
       "\\item -0.0821571224800288\n",
       "\\item -0.26141576569212\n",
       "\\item -0.492816889632425\n",
       "\\item -1.03522088409694\n",
       "\\item -1.26669553934276\n",
       "\\end{enumerate*}\n"
      ],
      "text/markdown": [
       "1. -0.0180529239917688\n",
       "2. -0.0710966696426132\n",
       "3. -0.0802591306663221\n",
       "4. -0.0821571224800288\n",
       "5. -0.26141576569212\n",
       "6. -0.492816889632425\n",
       "7. -1.03522088409694\n",
       "8. -1.26669553934276\n",
       "\n",
       "\n"
      ],
      "text/plain": [
       "[1] -0.01805292 -0.07109667 -0.08025913 -0.08215712 -0.26141577 -0.49281689\n",
       "[7] -1.03522088 -1.26669554"
      ]
     },
     "metadata": {},
     "output_type": "display_data"
    }
   ],
   "source": [
    "nonpositive_eigenvalues <- eigenvalues[eigenvalues <= 0]\n",
    "IRdisplay::display(length(nonpositive_eigenvalues))\n",
    "IRdisplay::display(nonpositive_eigenvalues)"
   ]
  },
  {
   "cell_type": "code",
   "execution_count": 20,
   "id": "410ee452-488f-4518-b93a-2acd608ba99c",
   "metadata": {
    "execution": {
     "iopub.execute_input": "2022-06-18T11:50:12.753641Z",
     "iopub.status.busy": "2022-06-18T11:50:12.752738Z",
     "iopub.status.idle": "2022-06-18T11:50:12.762844Z",
     "shell.execute_reply": "2022-06-18T11:50:12.761018Z"
    },
    "papermill": {
     "duration": 0.018461,
     "end_time": "2022-06-18T11:50:12.764366",
     "exception": false,
     "start_time": "2022-06-18T11:50:12.745905",
     "status": "completed"
    },
    "tags": []
   },
   "outputs": [],
   "source": [
    "if (length(eigenvalues[eigenvalues <= 0]) == 0) { quit() }"
   ]
  },
  {
   "cell_type": "markdown",
   "id": "2d280a82-f231-402d-82ab-9291d395afc1",
   "metadata": {
    "papermill": {
     "duration": 0.006139,
     "end_time": "2022-06-18T11:50:12.777009",
     "exception": false,
     "start_time": "2022-06-18T11:50:12.770870",
     "status": "completed"
    },
    "tags": []
   },
   "source": [
    "# Make matrix positive definite if needed"
   ]
  },
  {
   "cell_type": "code",
   "execution_count": 21,
   "id": "b9037873-4067-4ac6-aa92-e9225a6c9353",
   "metadata": {
    "execution": {
     "iopub.execute_input": "2022-06-18T11:50:12.792498Z",
     "iopub.status.busy": "2022-06-18T11:50:12.791518Z",
     "iopub.status.idle": "2022-06-18T11:50:12.825518Z",
     "shell.execute_reply": "2022-06-18T11:50:12.824390Z"
    },
    "papermill": {
     "duration": 0.043619,
     "end_time": "2022-06-18T11:50:12.826995",
     "exception": false,
     "start_time": "2022-06-18T11:50:12.783376",
     "status": "completed"
    },
    "tags": []
   },
   "outputs": [],
   "source": [
    "gene_corrs_corrected <- CorrectCM(gene_corrs, 1)"
   ]
  },
  {
   "cell_type": "code",
   "execution_count": 22,
   "id": "03c86284-5aac-4f66-86cc-74eb97102a7e",
   "metadata": {
    "execution": {
     "iopub.execute_input": "2022-06-18T11:50:12.852886Z",
     "iopub.status.busy": "2022-06-18T11:50:12.851851Z",
     "iopub.status.idle": "2022-06-18T11:50:12.868000Z",
     "shell.execute_reply": "2022-06-18T11:50:12.864495Z"
    },
    "papermill": {
     "duration": 0.032587,
     "end_time": "2022-06-18T11:50:12.869685",
     "exception": false,
     "start_time": "2022-06-18T11:50:12.837098",
     "status": "completed"
    },
    "tags": []
   },
   "outputs": [],
   "source": [
    "dimnames(gene_corrs_corrected)[[1]] <- rownames(gene_corrs)"
   ]
  },
  {
   "cell_type": "code",
   "execution_count": 23,
   "id": "576e7069-25ff-473d-8158-35b5f2ff212e",
   "metadata": {
    "execution": {
     "iopub.execute_input": "2022-06-18T11:50:12.893796Z",
     "iopub.status.busy": "2022-06-18T11:50:12.892781Z",
     "iopub.status.idle": "2022-06-18T11:50:12.908572Z",
     "shell.execute_reply": "2022-06-18T11:50:12.903229Z"
    },
    "papermill": {
     "duration": 0.030172,
     "end_time": "2022-06-18T11:50:12.910252",
     "exception": false,
     "start_time": "2022-06-18T11:50:12.880080",
     "status": "completed"
    },
    "tags": []
   },
   "outputs": [],
   "source": [
    "dimnames(gene_corrs_corrected)[[2]] <- colnames(gene_corrs)"
   ]
  },
  {
   "cell_type": "code",
   "execution_count": 24,
   "id": "f77d043a-321d-447f-8da5-2503981d3e73",
   "metadata": {
    "execution": {
     "iopub.execute_input": "2022-06-18T11:50:12.934672Z",
     "iopub.status.busy": "2022-06-18T11:50:12.933695Z",
     "iopub.status.idle": "2022-06-18T11:50:12.949435Z",
     "shell.execute_reply": "2022-06-18T11:50:12.947422Z"
    },
    "papermill": {
     "duration": 0.030605,
     "end_time": "2022-06-18T11:50:12.951061",
     "exception": false,
     "start_time": "2022-06-18T11:50:12.920456",
     "status": "completed"
    },
    "tags": []
   },
   "outputs": [],
   "source": [
    "gene_corrs_corrected <- as.data.frame(gene_corrs_corrected)"
   ]
  },
  {
   "cell_type": "code",
   "execution_count": 25,
   "id": "3e844024-f9a2-42a2-bbd0-695cfdbb78f5",
   "metadata": {
    "execution": {
     "iopub.execute_input": "2022-06-18T11:50:12.965877Z",
     "iopub.status.busy": "2022-06-18T11:50:12.964908Z",
     "iopub.status.idle": "2022-06-18T11:50:12.978126Z",
     "shell.execute_reply": "2022-06-18T11:50:12.976371Z"
    },
    "papermill": {
     "duration": 0.021681,
     "end_time": "2022-06-18T11:50:12.979563",
     "exception": false,
     "start_time": "2022-06-18T11:50:12.957882",
     "status": "completed"
    },
    "tags": []
   },
   "outputs": [
    {
     "data": {
      "text/html": [
       "<style>\n",
       ".list-inline {list-style: none; margin:0; padding: 0}\n",
       ".list-inline>li {display: inline-block}\n",
       ".list-inline>li:not(:last-child)::after {content: \"\\00b7\"; padding: 0 .5ex}\n",
       "</style>\n",
       "<ol class=list-inline><li>222</li><li>222</li></ol>\n"
      ],
      "text/latex": [
       "\\begin{enumerate*}\n",
       "\\item 222\n",
       "\\item 222\n",
       "\\end{enumerate*}\n"
      ],
      "text/markdown": [
       "1. 222\n",
       "2. 222\n",
       "\n",
       "\n"
      ],
      "text/plain": [
       "[1] 222 222"
      ]
     },
     "metadata": {},
     "output_type": "display_data"
    }
   ],
   "source": [
    "dim(gene_corrs_corrected)"
   ]
  },
  {
   "cell_type": "markdown",
   "id": "244b6bde-4ca8-46d1-acc7-b4c35b5d3c62",
   "metadata": {
    "papermill": {
     "duration": 0.006042,
     "end_time": "2022-06-18T11:50:12.991904",
     "exception": false,
     "start_time": "2022-06-18T11:50:12.985862",
     "status": "completed"
    },
    "tags": []
   },
   "source": [
    "# Check positive definiteness of corrected matrix"
   ]
  },
  {
   "cell_type": "code",
   "execution_count": 26,
   "id": "0fd5b688-e137-4619-910c-35130d32d600",
   "metadata": {
    "execution": {
     "iopub.execute_input": "2022-06-18T11:50:13.006095Z",
     "iopub.status.busy": "2022-06-18T11:50:13.005113Z",
     "iopub.status.idle": "2022-06-18T11:50:13.034965Z",
     "shell.execute_reply": "2022-06-18T11:50:13.033770Z"
    },
    "papermill": {
     "duration": 0.038493,
     "end_time": "2022-06-18T11:50:13.036498",
     "exception": false,
     "start_time": "2022-06-18T11:50:12.998005",
     "status": "completed"
    },
    "tags": []
   },
   "outputs": [
    {
     "data": {
      "text/html": [
       "'Matrix is already positive definite!'"
      ],
      "text/latex": [
       "'Matrix is already positive definite!'"
      ],
      "text/markdown": [
       "'Matrix is already positive definite!'"
      ],
      "text/plain": [
       "[1] \"Matrix is already positive definite!\""
      ]
     },
     "metadata": {},
     "output_type": "display_data"
    },
    {
     "data": {
      "text/html": [
       "TRUE"
      ],
      "text/latex": [
       "TRUE"
      ],
      "text/markdown": [
       "TRUE"
      ],
      "text/plain": [
       "[1] TRUE"
      ]
     },
     "metadata": {},
     "output_type": "display_data"
    }
   ],
   "source": [
    "is_positive_definite(gene_corrs_corrected)"
   ]
  },
  {
   "cell_type": "code",
   "execution_count": 27,
   "id": "06d23ab8-bebb-474c-be33-dca7e53c1717",
   "metadata": {
    "execution": {
     "iopub.execute_input": "2022-06-18T11:50:13.064510Z",
     "iopub.status.busy": "2022-06-18T11:50:13.063539Z",
     "iopub.status.idle": "2022-06-18T11:50:13.097835Z",
     "shell.execute_reply": "2022-06-18T11:50:13.094244Z"
    },
    "papermill": {
     "duration": 0.051913,
     "end_time": "2022-06-18T11:50:13.099455",
     "exception": false,
     "start_time": "2022-06-18T11:50:13.047542",
     "status": "completed"
    },
    "tags": []
   },
   "outputs": [],
   "source": [
    "# see eigenvalues\n",
    "eigenvalues <- eigen(gene_corrs_corrected)$values"
   ]
  },
  {
   "cell_type": "code",
   "execution_count": 28,
   "id": "ddf8afb8-e0e2-4b4e-876d-12bd6856c1ad",
   "metadata": {
    "execution": {
     "iopub.execute_input": "2022-06-18T11:50:13.126448Z",
     "iopub.status.busy": "2022-06-18T11:50:13.125419Z",
     "iopub.status.idle": "2022-06-18T11:50:13.159887Z",
     "shell.execute_reply": "2022-06-18T11:50:13.156605Z"
    },
    "papermill": {
     "duration": 0.052629,
     "end_time": "2022-06-18T11:50:13.161529",
     "exception": false,
     "start_time": "2022-06-18T11:50:13.108900",
     "status": "completed"
    },
    "tags": []
   },
   "outputs": [
    {
     "data": {
      "text/html": [
       "0"
      ],
      "text/latex": [
       "0"
      ],
      "text/markdown": [
       "0"
      ],
      "text/plain": [
       "[1] 0"
      ]
     },
     "metadata": {},
     "output_type": "display_data"
    },
    {
     "data": {
      "text/html": [],
      "text/latex": [],
      "text/markdown": [],
      "text/plain": [
       "numeric(0)"
      ]
     },
     "metadata": {},
     "output_type": "display_data"
    }
   ],
   "source": [
    "nonpositive_eigenvalues <- eigenvalues[eigenvalues <= 0]\n",
    "IRdisplay::display(length(nonpositive_eigenvalues))\n",
    "IRdisplay::display(nonpositive_eigenvalues)"
   ]
  },
  {
   "cell_type": "code",
   "execution_count": 29,
   "id": "712fd71a-b6ec-4a13-a956-80c99be7f585",
   "metadata": {
    "execution": {
     "iopub.execute_input": "2022-06-18T11:50:13.183670Z",
     "iopub.status.busy": "2022-06-18T11:50:13.182652Z",
     "iopub.status.idle": "2022-06-18T11:50:13.191765Z",
     "shell.execute_reply": "2022-06-18T11:50:13.190556Z"
    },
    "papermill": {
     "duration": 0.020594,
     "end_time": "2022-06-18T11:50:13.193509",
     "exception": false,
     "start_time": "2022-06-18T11:50:13.172915",
     "status": "completed"
    },
    "tags": []
   },
   "outputs": [],
   "source": [
    "stopifnot(length(eigenvalues[eigenvalues <= 0]) == 0)"
   ]
  },
  {
   "cell_type": "code",
   "execution_count": 30,
   "id": "786d6336-3844-40f7-979b-6d6028787f7f",
   "metadata": {
    "execution": {
     "iopub.execute_input": "2022-06-18T11:50:13.210866Z",
     "iopub.status.busy": "2022-06-18T11:50:13.209865Z",
     "iopub.status.idle": "2022-06-18T11:50:13.237503Z",
     "shell.execute_reply": "2022-06-18T11:50:13.236353Z"
    },
    "papermill": {
     "duration": 0.037569,
     "end_time": "2022-06-18T11:50:13.239075",
     "exception": false,
     "start_time": "2022-06-18T11:50:13.201506",
     "status": "completed"
    },
    "tags": []
   },
   "outputs": [
    {
     "data": {
      "text/html": [
       "<table class=\"dataframe\">\n",
       "<caption>A data.frame: 6 × 10</caption>\n",
       "<thead>\n",
       "\t<tr><th></th><th scope=col>ENSG00000172748</th><th scope=col>ENSG00000182372</th><th scope=col>ENSG00000104728</th><th scope=col>ENSG00000036448</th><th scope=col>ENSG00000091879</th><th scope=col>ENSG00000155189</th><th scope=col>ENSG00000164821</th><th scope=col>ENSG00000253958</th><th scope=col>ENSG00000147324</th><th scope=col>ENSG00000173281</th></tr>\n",
       "\t<tr><th></th><th scope=col>&lt;dbl&gt;</th><th scope=col>&lt;dbl&gt;</th><th scope=col>&lt;dbl&gt;</th><th scope=col>&lt;dbl&gt;</th><th scope=col>&lt;dbl&gt;</th><th scope=col>&lt;dbl&gt;</th><th scope=col>&lt;dbl&gt;</th><th scope=col>&lt;dbl&gt;</th><th scope=col>&lt;dbl&gt;</th><th scope=col>&lt;dbl&gt;</th></tr>\n",
       "</thead>\n",
       "<tbody>\n",
       "\t<tr><th scope=row>ENSG00000172748</th><td> 1.00000000</td><td> 0.02931887</td><td> 0.03472605</td><td>-0.02439109</td><td> 0.00000000</td><td> 0.00000000</td><td> 0.00000000</td><td>0.0000000</td><td> 0.00000000</td><td> 0.00000000</td></tr>\n",
       "\t<tr><th scope=row>ENSG00000182372</th><td> 0.02931887</td><td> 1.00000000</td><td>-0.06838250</td><td> 0.08534388</td><td>-0.03524857</td><td>-0.05286252</td><td> 0.00000000</td><td>0.0000000</td><td> 0.00000000</td><td> 0.00000000</td></tr>\n",
       "\t<tr><th scope=row>ENSG00000104728</th><td> 0.03472605</td><td>-0.06838250</td><td> 1.00000000</td><td> 0.02055591</td><td>-0.04310498</td><td> 0.07790795</td><td>-0.02011401</td><td>0.0000000</td><td> 0.00000000</td><td> 0.00000000</td></tr>\n",
       "\t<tr><th scope=row>ENSG00000036448</th><td>-0.02439109</td><td> 0.08534388</td><td> 0.02055591</td><td> 1.00000000</td><td>-0.01193855</td><td> 0.03715707</td><td>-0.05811610</td><td>0.0000000</td><td> 0.00000000</td><td> 0.00000000</td></tr>\n",
       "\t<tr><th scope=row>ENSG00000091879</th><td> 0.00000000</td><td>-0.03524857</td><td>-0.04310498</td><td>-0.01193855</td><td> 1.00000000</td><td> 0.02863605</td><td> 0.02006410</td><td>0.0474210</td><td>-0.04648296</td><td> 0.02190241</td></tr>\n",
       "\t<tr><th scope=row>ENSG00000155189</th><td> 0.00000000</td><td>-0.05286252</td><td> 0.07790795</td><td> 0.03715707</td><td> 0.02863605</td><td> 1.00000000</td><td>-0.10798990</td><td>0.1888645</td><td> 0.02620260</td><td>-0.05672479</td></tr>\n",
       "</tbody>\n",
       "</table>\n"
      ],
      "text/latex": [
       "A data.frame: 6 × 10\n",
       "\\begin{tabular}{r|llllllllll}\n",
       "  & ENSG00000172748 & ENSG00000182372 & ENSG00000104728 & ENSG00000036448 & ENSG00000091879 & ENSG00000155189 & ENSG00000164821 & ENSG00000253958 & ENSG00000147324 & ENSG00000173281\\\\\n",
       "  & <dbl> & <dbl> & <dbl> & <dbl> & <dbl> & <dbl> & <dbl> & <dbl> & <dbl> & <dbl>\\\\\n",
       "\\hline\n",
       "\tENSG00000172748 &  1.00000000 &  0.02931887 &  0.03472605 & -0.02439109 &  0.00000000 &  0.00000000 &  0.00000000 & 0.0000000 &  0.00000000 &  0.00000000\\\\\n",
       "\tENSG00000182372 &  0.02931887 &  1.00000000 & -0.06838250 &  0.08534388 & -0.03524857 & -0.05286252 &  0.00000000 & 0.0000000 &  0.00000000 &  0.00000000\\\\\n",
       "\tENSG00000104728 &  0.03472605 & -0.06838250 &  1.00000000 &  0.02055591 & -0.04310498 &  0.07790795 & -0.02011401 & 0.0000000 &  0.00000000 &  0.00000000\\\\\n",
       "\tENSG00000036448 & -0.02439109 &  0.08534388 &  0.02055591 &  1.00000000 & -0.01193855 &  0.03715707 & -0.05811610 & 0.0000000 &  0.00000000 &  0.00000000\\\\\n",
       "\tENSG00000091879 &  0.00000000 & -0.03524857 & -0.04310498 & -0.01193855 &  1.00000000 &  0.02863605 &  0.02006410 & 0.0474210 & -0.04648296 &  0.02190241\\\\\n",
       "\tENSG00000155189 &  0.00000000 & -0.05286252 &  0.07790795 &  0.03715707 &  0.02863605 &  1.00000000 & -0.10798990 & 0.1888645 &  0.02620260 & -0.05672479\\\\\n",
       "\\end{tabular}\n"
      ],
      "text/markdown": [
       "\n",
       "A data.frame: 6 × 10\n",
       "\n",
       "| <!--/--> | ENSG00000172748 &lt;dbl&gt; | ENSG00000182372 &lt;dbl&gt; | ENSG00000104728 &lt;dbl&gt; | ENSG00000036448 &lt;dbl&gt; | ENSG00000091879 &lt;dbl&gt; | ENSG00000155189 &lt;dbl&gt; | ENSG00000164821 &lt;dbl&gt; | ENSG00000253958 &lt;dbl&gt; | ENSG00000147324 &lt;dbl&gt; | ENSG00000173281 &lt;dbl&gt; |\n",
       "|---|---|---|---|---|---|---|---|---|---|---|\n",
       "| ENSG00000172748 |  1.00000000 |  0.02931887 |  0.03472605 | -0.02439109 |  0.00000000 |  0.00000000 |  0.00000000 | 0.0000000 |  0.00000000 |  0.00000000 |\n",
       "| ENSG00000182372 |  0.02931887 |  1.00000000 | -0.06838250 |  0.08534388 | -0.03524857 | -0.05286252 |  0.00000000 | 0.0000000 |  0.00000000 |  0.00000000 |\n",
       "| ENSG00000104728 |  0.03472605 | -0.06838250 |  1.00000000 |  0.02055591 | -0.04310498 |  0.07790795 | -0.02011401 | 0.0000000 |  0.00000000 |  0.00000000 |\n",
       "| ENSG00000036448 | -0.02439109 |  0.08534388 |  0.02055591 |  1.00000000 | -0.01193855 |  0.03715707 | -0.05811610 | 0.0000000 |  0.00000000 |  0.00000000 |\n",
       "| ENSG00000091879 |  0.00000000 | -0.03524857 | -0.04310498 | -0.01193855 |  1.00000000 |  0.02863605 |  0.02006410 | 0.0474210 | -0.04648296 |  0.02190241 |\n",
       "| ENSG00000155189 |  0.00000000 | -0.05286252 |  0.07790795 |  0.03715707 |  0.02863605 |  1.00000000 | -0.10798990 | 0.1888645 |  0.02620260 | -0.05672479 |\n",
       "\n"
      ],
      "text/plain": [
       "                ENSG00000172748 ENSG00000182372 ENSG00000104728 ENSG00000036448\n",
       "ENSG00000172748  1.00000000      0.02931887      0.03472605     -0.02439109    \n",
       "ENSG00000182372  0.02931887      1.00000000     -0.06838250      0.08534388    \n",
       "ENSG00000104728  0.03472605     -0.06838250      1.00000000      0.02055591    \n",
       "ENSG00000036448 -0.02439109      0.08534388      0.02055591      1.00000000    \n",
       "ENSG00000091879  0.00000000     -0.03524857     -0.04310498     -0.01193855    \n",
       "ENSG00000155189  0.00000000     -0.05286252      0.07790795      0.03715707    \n",
       "                ENSG00000091879 ENSG00000155189 ENSG00000164821 ENSG00000253958\n",
       "ENSG00000172748  0.00000000      0.00000000      0.00000000     0.0000000      \n",
       "ENSG00000182372 -0.03524857     -0.05286252      0.00000000     0.0000000      \n",
       "ENSG00000104728 -0.04310498      0.07790795     -0.02011401     0.0000000      \n",
       "ENSG00000036448 -0.01193855      0.03715707     -0.05811610     0.0000000      \n",
       "ENSG00000091879  1.00000000      0.02863605      0.02006410     0.0474210      \n",
       "ENSG00000155189  0.02863605      1.00000000     -0.10798990     0.1888645      \n",
       "                ENSG00000147324 ENSG00000173281\n",
       "ENSG00000172748  0.00000000      0.00000000    \n",
       "ENSG00000182372  0.00000000      0.00000000    \n",
       "ENSG00000104728  0.00000000      0.00000000    \n",
       "ENSG00000036448  0.00000000      0.00000000    \n",
       "ENSG00000091879 -0.04648296      0.02190241    \n",
       "ENSG00000155189  0.02620260     -0.05672479    "
      ]
     },
     "metadata": {},
     "output_type": "display_data"
    },
    {
     "data": {
      "text/html": [
       "<table class=\"dataframe\">\n",
       "<caption>A data.frame: 6 × 10</caption>\n",
       "<thead>\n",
       "\t<tr><th></th><th scope=col>ENSG00000172748</th><th scope=col>ENSG00000182372</th><th scope=col>ENSG00000104728</th><th scope=col>ENSG00000036448</th><th scope=col>ENSG00000091879</th><th scope=col>ENSG00000155189</th><th scope=col>ENSG00000164821</th><th scope=col>ENSG00000253958</th><th scope=col>ENSG00000147324</th><th scope=col>ENSG00000173281</th></tr>\n",
       "\t<tr><th></th><th scope=col>&lt;dbl&gt;</th><th scope=col>&lt;dbl&gt;</th><th scope=col>&lt;dbl&gt;</th><th scope=col>&lt;dbl&gt;</th><th scope=col>&lt;dbl&gt;</th><th scope=col>&lt;dbl&gt;</th><th scope=col>&lt;dbl&gt;</th><th scope=col>&lt;dbl&gt;</th><th scope=col>&lt;dbl&gt;</th><th scope=col>&lt;dbl&gt;</th></tr>\n",
       "</thead>\n",
       "<tbody>\n",
       "\t<tr><th scope=row>ENSG00000172748</th><td> 1.0000000000</td><td> 0.001045143</td><td> 0.0126676510</td><td>-0.0014158703</td><td>-0.007270520</td><td>-0.0006070921</td><td> 0.003244942</td><td> 0.0003554503</td><td>-0.0002523168</td><td> 0.0015093936</td></tr>\n",
       "\t<tr><th scope=row>ENSG00000182372</th><td> 0.0010451426</td><td> 1.000000000</td><td>-0.0312172085</td><td> 0.0349986803</td><td>-0.015480467</td><td>-0.0304531729</td><td> 0.004005112</td><td>-0.0073498478</td><td> 0.0026469945</td><td>-0.0004888716</td></tr>\n",
       "\t<tr><th scope=row>ENSG00000104728</th><td> 0.0126676510</td><td>-0.031217209</td><td> 1.0000000000</td><td>-0.0001901169</td><td>-0.007031286</td><td> 0.0488929571</td><td>-0.028765897</td><td> 0.0041621024</td><td> 0.0082216977</td><td>-0.0064872737</td></tr>\n",
       "\t<tr><th scope=row>ENSG00000036448</th><td>-0.0014158703</td><td> 0.034998680</td><td>-0.0001901169</td><td> 1.0000000000</td><td>-0.008365653</td><td> 0.0241311924</td><td>-0.036694371</td><td> 0.0027857639</td><td> 0.0068484301</td><td>-0.0026449886</td></tr>\n",
       "\t<tr><th scope=row>ENSG00000091879</th><td>-0.0072705202</td><td>-0.015480467</td><td>-0.0070312863</td><td>-0.0083656532</td><td> 1.000000000</td><td> 0.0067920325</td><td> 0.011905261</td><td> 0.0398552176</td><td>-0.0315584943</td><td> 0.0271838781</td></tr>\n",
       "\t<tr><th scope=row>ENSG00000155189</th><td>-0.0006070921</td><td>-0.030453173</td><td> 0.0488929571</td><td> 0.0241311924</td><td> 0.006792032</td><td> 1.0000000000</td><td>-0.050936064</td><td> 0.0598471042</td><td> 0.0321340519</td><td>-0.0391586288</td></tr>\n",
       "</tbody>\n",
       "</table>\n"
      ],
      "text/latex": [
       "A data.frame: 6 × 10\n",
       "\\begin{tabular}{r|llllllllll}\n",
       "  & ENSG00000172748 & ENSG00000182372 & ENSG00000104728 & ENSG00000036448 & ENSG00000091879 & ENSG00000155189 & ENSG00000164821 & ENSG00000253958 & ENSG00000147324 & ENSG00000173281\\\\\n",
       "  & <dbl> & <dbl> & <dbl> & <dbl> & <dbl> & <dbl> & <dbl> & <dbl> & <dbl> & <dbl>\\\\\n",
       "\\hline\n",
       "\tENSG00000172748 &  1.0000000000 &  0.001045143 &  0.0126676510 & -0.0014158703 & -0.007270520 & -0.0006070921 &  0.003244942 &  0.0003554503 & -0.0002523168 &  0.0015093936\\\\\n",
       "\tENSG00000182372 &  0.0010451426 &  1.000000000 & -0.0312172085 &  0.0349986803 & -0.015480467 & -0.0304531729 &  0.004005112 & -0.0073498478 &  0.0026469945 & -0.0004888716\\\\\n",
       "\tENSG00000104728 &  0.0126676510 & -0.031217209 &  1.0000000000 & -0.0001901169 & -0.007031286 &  0.0488929571 & -0.028765897 &  0.0041621024 &  0.0082216977 & -0.0064872737\\\\\n",
       "\tENSG00000036448 & -0.0014158703 &  0.034998680 & -0.0001901169 &  1.0000000000 & -0.008365653 &  0.0241311924 & -0.036694371 &  0.0027857639 &  0.0068484301 & -0.0026449886\\\\\n",
       "\tENSG00000091879 & -0.0072705202 & -0.015480467 & -0.0070312863 & -0.0083656532 &  1.000000000 &  0.0067920325 &  0.011905261 &  0.0398552176 & -0.0315584943 &  0.0271838781\\\\\n",
       "\tENSG00000155189 & -0.0006070921 & -0.030453173 &  0.0488929571 &  0.0241311924 &  0.006792032 &  1.0000000000 & -0.050936064 &  0.0598471042 &  0.0321340519 & -0.0391586288\\\\\n",
       "\\end{tabular}\n"
      ],
      "text/markdown": [
       "\n",
       "A data.frame: 6 × 10\n",
       "\n",
       "| <!--/--> | ENSG00000172748 &lt;dbl&gt; | ENSG00000182372 &lt;dbl&gt; | ENSG00000104728 &lt;dbl&gt; | ENSG00000036448 &lt;dbl&gt; | ENSG00000091879 &lt;dbl&gt; | ENSG00000155189 &lt;dbl&gt; | ENSG00000164821 &lt;dbl&gt; | ENSG00000253958 &lt;dbl&gt; | ENSG00000147324 &lt;dbl&gt; | ENSG00000173281 &lt;dbl&gt; |\n",
       "|---|---|---|---|---|---|---|---|---|---|---|\n",
       "| ENSG00000172748 |  1.0000000000 |  0.001045143 |  0.0126676510 | -0.0014158703 | -0.007270520 | -0.0006070921 |  0.003244942 |  0.0003554503 | -0.0002523168 |  0.0015093936 |\n",
       "| ENSG00000182372 |  0.0010451426 |  1.000000000 | -0.0312172085 |  0.0349986803 | -0.015480467 | -0.0304531729 |  0.004005112 | -0.0073498478 |  0.0026469945 | -0.0004888716 |\n",
       "| ENSG00000104728 |  0.0126676510 | -0.031217209 |  1.0000000000 | -0.0001901169 | -0.007031286 |  0.0488929571 | -0.028765897 |  0.0041621024 |  0.0082216977 | -0.0064872737 |\n",
       "| ENSG00000036448 | -0.0014158703 |  0.034998680 | -0.0001901169 |  1.0000000000 | -0.008365653 |  0.0241311924 | -0.036694371 |  0.0027857639 |  0.0068484301 | -0.0026449886 |\n",
       "| ENSG00000091879 | -0.0072705202 | -0.015480467 | -0.0070312863 | -0.0083656532 |  1.000000000 |  0.0067920325 |  0.011905261 |  0.0398552176 | -0.0315584943 |  0.0271838781 |\n",
       "| ENSG00000155189 | -0.0006070921 | -0.030453173 |  0.0488929571 |  0.0241311924 |  0.006792032 |  1.0000000000 | -0.050936064 |  0.0598471042 |  0.0321340519 | -0.0391586288 |\n",
       "\n"
      ],
      "text/plain": [
       "                ENSG00000172748 ENSG00000182372 ENSG00000104728 ENSG00000036448\n",
       "ENSG00000172748  1.0000000000    0.001045143     0.0126676510   -0.0014158703  \n",
       "ENSG00000182372  0.0010451426    1.000000000    -0.0312172085    0.0349986803  \n",
       "ENSG00000104728  0.0126676510   -0.031217209     1.0000000000   -0.0001901169  \n",
       "ENSG00000036448 -0.0014158703    0.034998680    -0.0001901169    1.0000000000  \n",
       "ENSG00000091879 -0.0072705202   -0.015480467    -0.0070312863   -0.0083656532  \n",
       "ENSG00000155189 -0.0006070921   -0.030453173     0.0488929571    0.0241311924  \n",
       "                ENSG00000091879 ENSG00000155189 ENSG00000164821 ENSG00000253958\n",
       "ENSG00000172748 -0.007270520    -0.0006070921    0.003244942     0.0003554503  \n",
       "ENSG00000182372 -0.015480467    -0.0304531729    0.004005112    -0.0073498478  \n",
       "ENSG00000104728 -0.007031286     0.0488929571   -0.028765897     0.0041621024  \n",
       "ENSG00000036448 -0.008365653     0.0241311924   -0.036694371     0.0027857639  \n",
       "ENSG00000091879  1.000000000     0.0067920325    0.011905261     0.0398552176  \n",
       "ENSG00000155189  0.006792032     1.0000000000   -0.050936064     0.0598471042  \n",
       "                ENSG00000147324 ENSG00000173281\n",
       "ENSG00000172748 -0.0002523168    0.0015093936  \n",
       "ENSG00000182372  0.0026469945   -0.0004888716  \n",
       "ENSG00000104728  0.0082216977   -0.0064872737  \n",
       "ENSG00000036448  0.0068484301   -0.0026449886  \n",
       "ENSG00000091879 -0.0315584943    0.0271838781  \n",
       "ENSG00000155189  0.0321340519   -0.0391586288  "
      ]
     },
     "metadata": {},
     "output_type": "display_data"
    }
   ],
   "source": [
    "# quick and visual comparison of the two matrices\n",
    "IRdisplay::display(head(gene_corrs[1:10, 1:10]))\n",
    "IRdisplay::display(head(gene_corrs_corrected[1:10, 1:10]))"
   ]
  },
  {
   "cell_type": "markdown",
   "id": "c6c40f1a-d153-475a-94eb-c71697ad9d51",
   "metadata": {
    "papermill": {
     "duration": 0.007027,
     "end_time": "2022-06-18T11:50:13.256393",
     "exception": false,
     "start_time": "2022-06-18T11:50:13.249366",
     "status": "completed"
    },
    "tags": []
   },
   "source": [
    "Both matrices should \"look\" similar. We are not interested in perfectly accurate correlation values (they are already inaccurate)."
   ]
  },
  {
   "cell_type": "markdown",
   "id": "bf0f49cb-9c21-4616-8390-bb68d52dae56",
   "metadata": {
    "papermill": {
     "duration": 0.006843,
     "end_time": "2022-06-18T11:50:13.270196",
     "exception": false,
     "start_time": "2022-06-18T11:50:13.263353",
     "status": "completed"
    },
    "tags": []
   },
   "source": [
    "# Save"
   ]
  },
  {
   "cell_type": "code",
   "execution_count": 31,
   "id": "2e58e7f3-a75c-4195-a20e-39e3e3e1cc9a",
   "metadata": {
    "execution": {
     "iopub.execute_input": "2022-06-18T11:50:13.286036Z",
     "iopub.status.busy": "2022-06-18T11:50:13.284982Z",
     "iopub.status.idle": "2022-06-18T11:50:13.307692Z",
     "shell.execute_reply": "2022-06-18T11:50:13.306370Z"
    },
    "papermill": {
     "duration": 0.032397,
     "end_time": "2022-06-18T11:50:13.309499",
     "exception": false,
     "start_time": "2022-06-18T11:50:13.277102",
     "status": "completed"
    },
    "tags": []
   },
   "outputs": [],
   "source": [
    "py_save_object(gene_corrs_corrected, OUTPUT_FILE)"
   ]
  },
  {
   "cell_type": "code",
   "execution_count": null,
   "id": "d8ae4220-2171-460c-9231-cd5219f3fe77",
   "metadata": {
    "papermill": {
     "duration": 0.008973,
     "end_time": "2022-06-18T11:50:13.328029",
     "exception": false,
     "start_time": "2022-06-18T11:50:13.319056",
     "status": "completed"
    },
    "tags": []
   },
   "outputs": [],
   "source": []
  }
 ],
 "metadata": {
  "jupytext": {
   "cell_metadata_filter": "all,-execution,-papermill,-trusted"
  },
  "kernelspec": {
   "display_name": "R",
   "language": "R",
   "name": "ir"
  },
  "language_info": {
   "codemirror_mode": "r",
   "file_extension": ".r",
   "mimetype": "text/x-r-source",
   "name": "R",
   "pygments_lexer": "r",
   "version": "3.6.3"
  },
  "papermill": {
   "default_parameters": {},
   "duration": 5.925845,
   "end_time": "2022-06-18T11:50:13.467747",
   "environment_variables": {},
   "exception": null,
   "input_path": "nbs/15_gsa_gls/12-gene_expr_correlations-adjust.ipynb",
   "output_path": "nbs/15_gsa_gls/gene_corrs/gtex_v8/mashr/12-gene_expr_correlations-adjust-chr8.run.ipynb",
   "parameters": {
    "EQTL_MODEL": "MASHR",
    "REFERENCE_PANEL": "GTEX_V8",
    "chromosome": 8
   },
   "start_time": "2022-06-18T11:50:07.541902",
   "version": "2.3.4"
  }
 },
 "nbformat": 4,
 "nbformat_minor": 5
}
