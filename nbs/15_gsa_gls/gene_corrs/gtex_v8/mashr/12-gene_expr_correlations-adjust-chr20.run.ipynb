{
 "cells": [
  {
   "cell_type": "markdown",
   "id": "6c1f0ae4-cd27-4fec-a23d-51699e7059e8",
   "metadata": {
    "papermill": {
     "duration": 0.005258,
     "end_time": "2022-06-18T11:50:38.919208",
     "exception": false,
     "start_time": "2022-06-18T11:50:38.913950",
     "status": "completed"
    },
    "tags": []
   },
   "source": [
    "# Description"
   ]
  },
  {
   "cell_type": "markdown",
   "id": "3268a19a-8a83-4f61-aa39-09b084c81d61",
   "metadata": {
    "papermill": {
     "duration": 0.004587,
     "end_time": "2022-06-18T11:50:38.928422",
     "exception": false,
     "start_time": "2022-06-18T11:50:38.923835",
     "status": "completed"
    },
    "tags": []
   },
   "source": [
    "**TODO**"
   ]
  },
  {
   "cell_type": "markdown",
   "id": "401368d3-22c1-4d81-a2c3-c4a81fde4191",
   "metadata": {
    "papermill": {
     "duration": 0.004412,
     "end_time": "2022-06-18T11:50:38.937274",
     "exception": false,
     "start_time": "2022-06-18T11:50:38.932862",
     "status": "completed"
    },
    "tags": []
   },
   "source": [
    "# Modules"
   ]
  },
  {
   "cell_type": "code",
   "execution_count": 1,
   "id": "f9b5022b-7c5e-4d37-9c7a-fdb91777c7f9",
   "metadata": {
    "execution": {
     "iopub.execute_input": "2022-06-18T11:50:38.948559Z",
     "iopub.status.busy": "2022-06-18T11:50:38.947027Z",
     "iopub.status.idle": "2022-06-18T11:50:42.276955Z",
     "shell.execute_reply": "2022-06-18T11:50:42.275638Z"
    },
    "papermill": {
     "duration": 3.337256,
     "end_time": "2022-06-18T11:50:42.278829",
     "exception": false,
     "start_time": "2022-06-18T11:50:38.941573",
     "status": "completed"
    },
    "tags": []
   },
   "outputs": [],
   "source": [
    "library(reticulate)\n",
    "pd <- import(\"pandas\")"
   ]
  },
  {
   "cell_type": "markdown",
   "id": "c1958d6a-0229-47e8-823e-792fcf84fccf",
   "metadata": {
    "papermill": {
     "duration": 0.00883,
     "end_time": "2022-06-18T11:50:42.292771",
     "exception": false,
     "start_time": "2022-06-18T11:50:42.283941",
     "status": "completed"
    },
    "tags": []
   },
   "source": [
    "# Settings"
   ]
  },
  {
   "cell_type": "code",
   "execution_count": 2,
   "id": "22d12bb4-1699-4a6b-b1b9-d3fdd3d547d7",
   "metadata": {
    "execution": {
     "iopub.execute_input": "2022-06-18T11:50:42.327251Z",
     "iopub.status.busy": "2022-06-18T11:50:42.304356Z",
     "iopub.status.idle": "2022-06-18T11:50:42.339179Z",
     "shell.execute_reply": "2022-06-18T11:50:42.338016Z"
    },
    "papermill": {
     "duration": 0.042748,
     "end_time": "2022-06-18T11:50:42.340835",
     "exception": false,
     "start_time": "2022-06-18T11:50:42.298087",
     "status": "completed"
    },
    "tags": [
     "parameters"
    ]
   },
   "outputs": [],
   "source": [
    "# reference panel\n",
    "REFERENCE_PANEL <- \"GTEX_V8\"\n",
    "# REFERENCE_PANEL = \"1000G\"\n",
    "\n",
    "# prediction models\n",
    "## mashr\n",
    "EQTL_MODEL <- \"MASHR\"\n",
    "\n",
    "# ## elastic net\n",
    "# EQTL_MODEL = \"ELASTIC_NET\"\n",
    "\n",
    "chromosome <- NULL"
   ]
  },
  {
   "cell_type": "code",
   "execution_count": 3,
   "id": "7fbf8967",
   "metadata": {
    "execution": {
     "iopub.execute_input": "2022-06-18T11:50:42.352454Z",
     "iopub.status.busy": "2022-06-18T11:50:42.351367Z",
     "iopub.status.idle": "2022-06-18T11:50:42.369848Z",
     "shell.execute_reply": "2022-06-18T11:50:42.368548Z"
    },
    "papermill": {
     "duration": 0.026103,
     "end_time": "2022-06-18T11:50:42.371698",
     "exception": false,
     "start_time": "2022-06-18T11:50:42.345595",
     "status": "completed"
    },
    "tags": [
     "injected-parameters"
    ]
   },
   "outputs": [],
   "source": [
    "# Parameters\n",
    "chromosome = 20\n",
    "REFERENCE_PANEL = \"GTEX_V8\"\n",
    "EQTL_MODEL = \"MASHR\"\n"
   ]
  },
  {
   "cell_type": "code",
   "execution_count": 4,
   "id": "8fe24bef",
   "metadata": {
    "execution": {
     "iopub.execute_input": "2022-06-18T11:50:42.384582Z",
     "iopub.status.busy": "2022-06-18T11:50:42.383202Z",
     "iopub.status.idle": "2022-06-18T11:50:42.398243Z",
     "shell.execute_reply": "2022-06-18T11:50:42.396792Z"
    },
    "papermill": {
     "duration": 0.023204,
     "end_time": "2022-06-18T11:50:42.400149",
     "exception": false,
     "start_time": "2022-06-18T11:50:42.376945",
     "status": "completed"
    },
    "tags": []
   },
   "outputs": [
    {
     "data": {
      "text/html": [
       "'Using reference panel: GTEX_V8'"
      ],
      "text/latex": [
       "'Using reference panel: GTEX\\_V8'"
      ],
      "text/markdown": [
       "'Using reference panel: GTEX_V8'"
      ],
      "text/plain": [
       "[1] \"Using reference panel: GTEX_V8\""
      ]
     },
     "metadata": {},
     "output_type": "display_data"
    }
   ],
   "source": [
    "paste0(\"Using reference panel: \", REFERENCE_PANEL)"
   ]
  },
  {
   "cell_type": "code",
   "execution_count": 5,
   "id": "d62c28f8-186c-478b-948c-58e14f00df4b",
   "metadata": {
    "execution": {
     "iopub.execute_input": "2022-06-18T11:50:42.414529Z",
     "iopub.status.busy": "2022-06-18T11:50:42.413391Z",
     "iopub.status.idle": "2022-06-18T11:50:42.425512Z",
     "shell.execute_reply": "2022-06-18T11:50:42.424223Z"
    },
    "papermill": {
     "duration": 0.020985,
     "end_time": "2022-06-18T11:50:42.427376",
     "exception": false,
     "start_time": "2022-06-18T11:50:42.406391",
     "status": "completed"
    },
    "tags": []
   },
   "outputs": [
    {
     "data": {
      "text/html": [
       "'Using eQTL model: MASHR'"
      ],
      "text/latex": [
       "'Using eQTL model: MASHR'"
      ],
      "text/markdown": [
       "'Using eQTL model: MASHR'"
      ],
      "text/plain": [
       "[1] \"Using eQTL model: MASHR\""
      ]
     },
     "metadata": {},
     "output_type": "display_data"
    }
   ],
   "source": [
    "paste0(\"Using eQTL model: \", EQTL_MODEL)"
   ]
  },
  {
   "cell_type": "code",
   "execution_count": 6,
   "id": "5243676f-c889-4405-9a4d-262f0f044614",
   "metadata": {
    "execution": {
     "iopub.execute_input": "2022-06-18T11:50:42.440592Z",
     "iopub.status.busy": "2022-06-18T11:50:42.439403Z",
     "iopub.status.idle": "2022-06-18T11:50:42.450242Z",
     "shell.execute_reply": "2022-06-18T11:50:42.448791Z"
    },
    "papermill": {
     "duration": 0.019024,
     "end_time": "2022-06-18T11:50:42.452111",
     "exception": false,
     "start_time": "2022-06-18T11:50:42.433087",
     "status": "completed"
    },
    "tags": []
   },
   "outputs": [],
   "source": [
    "# chromosome must be provided as parameter\n",
    "stopifnot(!is.null(chromosome))"
   ]
  },
  {
   "cell_type": "markdown",
   "id": "83a49773-bcf5-44c4-8d9b-a6ac65a57ec6",
   "metadata": {
    "papermill": {
     "duration": 0.005683,
     "end_time": "2022-06-18T11:50:42.472189",
     "exception": false,
     "start_time": "2022-06-18T11:50:42.466506",
     "status": "completed"
    },
    "tags": []
   },
   "source": [
    "# Paths"
   ]
  },
  {
   "cell_type": "code",
   "execution_count": 7,
   "id": "eb6aa8aa-b452-4a2f-a780-93dd80ad4285",
   "metadata": {
    "execution": {
     "iopub.execute_input": "2022-06-18T11:50:42.487111Z",
     "iopub.status.busy": "2022-06-18T11:50:42.485082Z",
     "iopub.status.idle": "2022-06-18T11:50:42.502478Z",
     "shell.execute_reply": "2022-06-18T11:50:42.500360Z"
    },
    "papermill": {
     "duration": 0.026126,
     "end_time": "2022-06-18T11:50:42.504620",
     "exception": false,
     "start_time": "2022-06-18T11:50:42.478494",
     "status": "completed"
    },
    "tags": []
   },
   "outputs": [
    {
     "data": {
      "text/html": [
       "'/opt/data/data/phenomexcan/ld_blocks/gene_corrs'"
      ],
      "text/latex": [
       "'/opt/data/data/phenomexcan/ld\\_blocks/gene\\_corrs'"
      ],
      "text/markdown": [
       "'/opt/data/data/phenomexcan/ld_blocks/gene_corrs'"
      ],
      "text/plain": [
       "[1] \"/opt/data/data/phenomexcan/ld_blocks/gene_corrs\""
      ]
     },
     "metadata": {},
     "output_type": "display_data"
    }
   ],
   "source": [
    "GENE_CORRS_DIR <- Sys.getenv(\"PHENOPLIER_PHENOMEXCAN_LD_BLOCKS_GENE_CORRS_DIR\")\n",
    "IRdisplay::display(GENE_CORRS_DIR)"
   ]
  },
  {
   "cell_type": "code",
   "execution_count": 8,
   "id": "eb24f15f-f282-4476-8943-8413c4483f12",
   "metadata": {
    "execution": {
     "iopub.execute_input": "2022-06-18T11:50:42.518255Z",
     "iopub.status.busy": "2022-06-18T11:50:42.517146Z",
     "iopub.status.idle": "2022-06-18T11:50:42.534773Z",
     "shell.execute_reply": "2022-06-18T11:50:42.532625Z"
    },
    "papermill": {
     "duration": 0.025778,
     "end_time": "2022-06-18T11:50:42.536553",
     "exception": false,
     "start_time": "2022-06-18T11:50:42.510775",
     "status": "completed"
    },
    "tags": []
   },
   "outputs": [
    {
     "data": {
      "text/html": [
       "'/opt/data/data/phenomexcan/ld_blocks/gene_corrs/gtex_v8/mashr/by_chr'"
      ],
      "text/latex": [
       "'/opt/data/data/phenomexcan/ld\\_blocks/gene\\_corrs/gtex\\_v8/mashr/by\\_chr'"
      ],
      "text/markdown": [
       "'/opt/data/data/phenomexcan/ld_blocks/gene_corrs/gtex_v8/mashr/by_chr'"
      ],
      "text/plain": [
       "[1] \"/opt/data/data/phenomexcan/ld_blocks/gene_corrs/gtex_v8/mashr/by_chr\""
      ]
     },
     "metadata": {},
     "output_type": "display_data"
    }
   ],
   "source": [
    "INPUT_DIR <- file.path(GENE_CORRS_DIR, tolower(REFERENCE_PANEL), tolower(EQTL_MODEL), \"by_chr\")\n",
    "IRdisplay::display(INPUT_DIR)"
   ]
  },
  {
   "cell_type": "code",
   "execution_count": 9,
   "id": "43c1daba-0da9-4822-8d1e-968e9767e251",
   "metadata": {
    "execution": {
     "iopub.execute_input": "2022-06-18T11:50:42.549290Z",
     "iopub.status.busy": "2022-06-18T11:50:42.548284Z",
     "iopub.status.idle": "2022-06-18T11:50:42.565862Z",
     "shell.execute_reply": "2022-06-18T11:50:42.564014Z"
    },
    "papermill": {
     "duration": 0.025327,
     "end_time": "2022-06-18T11:50:42.567436",
     "exception": false,
     "start_time": "2022-06-18T11:50:42.542109",
     "status": "completed"
    },
    "tags": []
   },
   "outputs": [
    {
     "data": {
      "text/html": [
       "'/opt/data/data/phenomexcan/ld_blocks/gene_corrs/gtex_v8/mashr/by_chr/gene_corrs-chr20.pkl'"
      ],
      "text/latex": [
       "'/opt/data/data/phenomexcan/ld\\_blocks/gene\\_corrs/gtex\\_v8/mashr/by\\_chr/gene\\_corrs-chr20.pkl'"
      ],
      "text/markdown": [
       "'/opt/data/data/phenomexcan/ld_blocks/gene_corrs/gtex_v8/mashr/by_chr/gene_corrs-chr20.pkl'"
      ],
      "text/plain": [
       "[1] \"/opt/data/data/phenomexcan/ld_blocks/gene_corrs/gtex_v8/mashr/by_chr/gene_corrs-chr20.pkl\""
      ]
     },
     "metadata": {},
     "output_type": "display_data"
    }
   ],
   "source": [
    "INPUT_FILE <- file.path(INPUT_DIR, paste0(\"gene_corrs-chr\", chromosome, \".pkl\"))\n",
    "IRdisplay::display(INPUT_FILE)\n",
    "stopifnot(file.exists(INPUT_FILE))"
   ]
  },
  {
   "cell_type": "code",
   "execution_count": 10,
   "id": "72386fbf-982b-420a-9057-ea9a97a5e571",
   "metadata": {
    "execution": {
     "iopub.execute_input": "2022-06-18T11:50:42.580349Z",
     "iopub.status.busy": "2022-06-18T11:50:42.579273Z",
     "iopub.status.idle": "2022-06-18T11:50:42.596771Z",
     "shell.execute_reply": "2022-06-18T11:50:42.594867Z"
    },
    "papermill": {
     "duration": 0.025664,
     "end_time": "2022-06-18T11:50:42.598530",
     "exception": false,
     "start_time": "2022-06-18T11:50:42.572866",
     "status": "completed"
    },
    "tags": []
   },
   "outputs": [
    {
     "data": {
      "text/html": [
       "'/opt/data/data/phenomexcan/ld_blocks/gene_corrs/gtex_v8/mashr/by_chr/corrected_positive_definite'"
      ],
      "text/latex": [
       "'/opt/data/data/phenomexcan/ld\\_blocks/gene\\_corrs/gtex\\_v8/mashr/by\\_chr/corrected\\_positive\\_definite'"
      ],
      "text/markdown": [
       "'/opt/data/data/phenomexcan/ld_blocks/gene_corrs/gtex_v8/mashr/by_chr/corrected_positive_definite'"
      ],
      "text/plain": [
       "[1] \"/opt/data/data/phenomexcan/ld_blocks/gene_corrs/gtex_v8/mashr/by_chr/corrected_positive_definite\""
      ]
     },
     "metadata": {},
     "output_type": "display_data"
    }
   ],
   "source": [
    "OUTPUT_DIR <- file.path(INPUT_DIR, \"corrected_positive_definite\")\n",
    "IRdisplay::display(OUTPUT_DIR)\n",
    "dir.create(OUTPUT_DIR, recursive = TRUE, showWarnings = FALSE)"
   ]
  },
  {
   "cell_type": "code",
   "execution_count": 11,
   "id": "f9f19d1d-ce4c-4099-a26e-250fec751de7",
   "metadata": {
    "execution": {
     "iopub.execute_input": "2022-06-18T11:50:42.611304Z",
     "iopub.status.busy": "2022-06-18T11:50:42.610343Z",
     "iopub.status.idle": "2022-06-18T11:50:42.634140Z",
     "shell.execute_reply": "2022-06-18T11:50:42.628535Z"
    },
    "papermill": {
     "duration": 0.03173,
     "end_time": "2022-06-18T11:50:42.635959",
     "exception": false,
     "start_time": "2022-06-18T11:50:42.604229",
     "status": "completed"
    },
    "tags": []
   },
   "outputs": [
    {
     "data": {
      "text/html": [
       "'/opt/data/data/phenomexcan/ld_blocks/gene_corrs/gtex_v8/mashr/by_chr/corrected_positive_definite/gene_corrs-chr20.pkl'"
      ],
      "text/latex": [
       "'/opt/data/data/phenomexcan/ld\\_blocks/gene\\_corrs/gtex\\_v8/mashr/by\\_chr/corrected\\_positive\\_definite/gene\\_corrs-chr20.pkl'"
      ],
      "text/markdown": [
       "'/opt/data/data/phenomexcan/ld_blocks/gene_corrs/gtex_v8/mashr/by_chr/corrected_positive_definite/gene_corrs-chr20.pkl'"
      ],
      "text/plain": [
       "[1] \"/opt/data/data/phenomexcan/ld_blocks/gene_corrs/gtex_v8/mashr/by_chr/corrected_positive_definite/gene_corrs-chr20.pkl\""
      ]
     },
     "metadata": {},
     "output_type": "display_data"
    },
    {
     "data": {
      "text/html": [
       "'Output file exists, it will be overwritten'"
      ],
      "text/latex": [
       "'Output file exists, it will be overwritten'"
      ],
      "text/markdown": [
       "'Output file exists, it will be overwritten'"
      ],
      "text/plain": [
       "[1] \"Output file exists, it will be overwritten\""
      ]
     },
     "metadata": {},
     "output_type": "display_data"
    }
   ],
   "source": [
    "OUTPUT_FILE <- file.path(OUTPUT_DIR, paste0(\"gene_corrs-chr\", chromosome, \".pkl\"))\n",
    "IRdisplay::display(OUTPUT_FILE)\n",
    "if (file.exists(OUTPUT_FILE)) {\n",
    "  IRdisplay::display(\"Output file exists, it will be overwritten\")\n",
    "}"
   ]
  },
  {
   "cell_type": "markdown",
   "id": "5aad60e6-cba4-41b5-9755-93eb86f4ed05",
   "metadata": {
    "papermill": {
     "duration": 0.00521,
     "end_time": "2022-06-18T11:50:42.646515",
     "exception": false,
     "start_time": "2022-06-18T11:50:42.641305",
     "status": "completed"
    },
    "tags": []
   },
   "source": [
    "# Functions"
   ]
  },
  {
   "cell_type": "code",
   "execution_count": 12,
   "id": "f828f081-7358-4cc8-8a89-1ee293bcc1a7",
   "metadata": {
    "execution": {
     "iopub.execute_input": "2022-06-18T11:50:42.659859Z",
     "iopub.status.busy": "2022-06-18T11:50:42.658974Z",
     "iopub.status.idle": "2022-06-18T11:50:42.669810Z",
     "shell.execute_reply": "2022-06-18T11:50:42.667926Z"
    },
    "papermill": {
     "duration": 0.019607,
     "end_time": "2022-06-18T11:50:42.671290",
     "exception": false,
     "start_time": "2022-06-18T11:50:42.651683",
     "status": "completed"
    },
    "tags": []
   },
   "outputs": [],
   "source": [
    "# taken from https://www.r-bloggers.com/2013/08/correcting-a-pseudo-correlation-matrix-to-be-positive-semidefinite/\n",
    "# TODO: add documentation\n",
    "CorrectCM <- function(CM, p = 0) {\n",
    "  n <- dim(var(CM))[1L]\n",
    "  E <- eigen(CM)\n",
    "  CM1 <- E$vectors %*% tcrossprod(diag(pmax(E$values, p), n), E$vectors)\n",
    "  Balance <- diag(1 / sqrt(diag(CM1)))\n",
    "  CM2 <- Balance %*% CM1 %*% Balance\n",
    "  return(CM2)\n",
    "}"
   ]
  },
  {
   "cell_type": "code",
   "execution_count": 13,
   "id": "7ab9bebf-50a1-4e6f-b16a-e23cae93d02a",
   "metadata": {
    "execution": {
     "iopub.execute_input": "2022-06-18T11:50:42.684472Z",
     "iopub.status.busy": "2022-06-18T11:50:42.683515Z",
     "iopub.status.idle": "2022-06-18T11:50:42.694005Z",
     "shell.execute_reply": "2022-06-18T11:50:42.691817Z"
    },
    "papermill": {
     "duration": 0.01868,
     "end_time": "2022-06-18T11:50:42.695610",
     "exception": false,
     "start_time": "2022-06-18T11:50:42.676930",
     "status": "completed"
    },
    "tags": []
   },
   "outputs": [],
   "source": [
    "is_positive_definite <- function(data) {\n",
    "  eigenvalues <- eigen(data)$values\n",
    "  nonpositive_eigenvalues <- eigenvalues[eigenvalues <= 0]\n",
    "\n",
    "  if (length(nonpositive_eigenvalues) > 0) {\n",
    "    IRdisplay::display(\"We need to correct the data and make the matrix positive definite\")\n",
    "    return(FALSE)\n",
    "  } else {\n",
    "    IRdisplay::display(\"Matrix is already positive definite!\")\n",
    "    return(TRUE)\n",
    "  }\n",
    "}"
   ]
  },
  {
   "cell_type": "markdown",
   "id": "ac52ecbc-5618-4876-a4fa-546a08e3fcf3",
   "metadata": {
    "papermill": {
     "duration": 0.005235,
     "end_time": "2022-06-18T11:50:42.706798",
     "exception": false,
     "start_time": "2022-06-18T11:50:42.701563",
     "status": "completed"
    },
    "tags": []
   },
   "source": [
    "# Load data"
   ]
  },
  {
   "cell_type": "code",
   "execution_count": 14,
   "id": "3a7744e1-2e5a-450e-9dcf-945ec181347d",
   "metadata": {
    "execution": {
     "iopub.execute_input": "2022-06-18T11:50:42.719142Z",
     "iopub.status.busy": "2022-06-18T11:50:42.718206Z",
     "iopub.status.idle": "2022-06-18T11:50:42.750339Z",
     "shell.execute_reply": "2022-06-18T11:50:42.748905Z"
    },
    "papermill": {
     "duration": 0.039739,
     "end_time": "2022-06-18T11:50:42.751956",
     "exception": false,
     "start_time": "2022-06-18T11:50:42.712217",
     "status": "completed"
    },
    "tags": []
   },
   "outputs": [],
   "source": [
    "gene_corrs <- pd$read_pickle(INPUT_FILE)"
   ]
  },
  {
   "cell_type": "code",
   "execution_count": 15,
   "id": "6fb150b2-4c68-4e9b-9aa5-1890d3f762e3",
   "metadata": {
    "execution": {
     "iopub.execute_input": "2022-06-18T11:50:42.765688Z",
     "iopub.status.busy": "2022-06-18T11:50:42.763936Z",
     "iopub.status.idle": "2022-06-18T11:50:42.777260Z",
     "shell.execute_reply": "2022-06-18T11:50:42.775821Z"
    },
    "papermill": {
     "duration": 0.021746,
     "end_time": "2022-06-18T11:50:42.779274",
     "exception": false,
     "start_time": "2022-06-18T11:50:42.757528",
     "status": "completed"
    },
    "tags": []
   },
   "outputs": [
    {
     "data": {
      "text/html": [
       "<style>\n",
       ".list-inline {list-style: none; margin:0; padding: 0}\n",
       ".list-inline>li {display: inline-block}\n",
       ".list-inline>li:not(:last-child)::after {content: \"\\00b7\"; padding: 0 .5ex}\n",
       "</style>\n",
       "<ol class=list-inline><li>187</li><li>187</li></ol>\n"
      ],
      "text/latex": [
       "\\begin{enumerate*}\n",
       "\\item 187\n",
       "\\item 187\n",
       "\\end{enumerate*}\n"
      ],
      "text/markdown": [
       "1. 187\n",
       "2. 187\n",
       "\n",
       "\n"
      ],
      "text/plain": [
       "[1] 187 187"
      ]
     },
     "metadata": {},
     "output_type": "display_data"
    }
   ],
   "source": [
    "dim(gene_corrs)"
   ]
  },
  {
   "cell_type": "code",
   "execution_count": 16,
   "id": "0d4e53b5-7586-4a68-8ce5-d930d74ba943",
   "metadata": {
    "execution": {
     "iopub.execute_input": "2022-06-18T11:50:42.793464Z",
     "iopub.status.busy": "2022-06-18T11:50:42.792487Z",
     "iopub.status.idle": "2022-06-18T11:50:42.812637Z",
     "shell.execute_reply": "2022-06-18T11:50:42.811414Z"
    },
    "papermill": {
     "duration": 0.028704,
     "end_time": "2022-06-18T11:50:42.814388",
     "exception": false,
     "start_time": "2022-06-18T11:50:42.785684",
     "status": "completed"
    },
    "tags": []
   },
   "outputs": [
    {
     "data": {
      "text/html": [
       "<table class=\"dataframe\">\n",
       "<caption>A data.frame: 6 × 10</caption>\n",
       "<thead>\n",
       "\t<tr><th></th><th scope=col>ENSG00000101255</th><th scope=col>ENSG00000125826</th><th scope=col>ENSG00000101266</th><th scope=col>ENSG00000101280</th><th scope=col>ENSG00000125818</th><th scope=col>ENSG00000101298</th><th scope=col>ENSG00000088832</th><th scope=col>ENSG00000101307</th><th scope=col>ENSG00000089012</th><th scope=col>ENSG00000198053</th></tr>\n",
       "\t<tr><th></th><th scope=col>&lt;dbl&gt;</th><th scope=col>&lt;dbl&gt;</th><th scope=col>&lt;dbl&gt;</th><th scope=col>&lt;dbl&gt;</th><th scope=col>&lt;dbl&gt;</th><th scope=col>&lt;dbl&gt;</th><th scope=col>&lt;dbl&gt;</th><th scope=col>&lt;dbl&gt;</th><th scope=col>&lt;dbl&gt;</th><th scope=col>&lt;dbl&gt;</th></tr>\n",
       "</thead>\n",
       "<tbody>\n",
       "\t<tr><th scope=row>ENSG00000101255</th><td> 1.00000000</td><td> 0.07116780</td><td>-0.01661844</td><td> 0.12590226</td><td> 0.06163206</td><td> 0.04033341</td><td> 0.0656184145</td><td>-0.08399902</td><td> 0.03417133</td><td> 0.09272230</td></tr>\n",
       "\t<tr><th scope=row>ENSG00000125826</th><td> 0.07116780</td><td> 1.00000000</td><td>-0.04990565</td><td> 0.08615582</td><td>-0.02007391</td><td>-0.07842001</td><td> 0.0007446513</td><td> 0.45129085</td><td>-0.07229110</td><td>-0.09455175</td></tr>\n",
       "\t<tr><th scope=row>ENSG00000101266</th><td>-0.01661844</td><td>-0.04990565</td><td> 1.00000000</td><td>-0.15247166</td><td>-0.10278400</td><td>-0.09379928</td><td>-0.1203321645</td><td>-0.05763548</td><td>-0.07945995</td><td>-0.05885954</td></tr>\n",
       "\t<tr><th scope=row>ENSG00000101280</th><td> 0.12590226</td><td> 0.08615582</td><td>-0.15247166</td><td> 1.00000000</td><td>-0.03173951</td><td> 0.07143994</td><td>-0.0462339328</td><td> 0.04168030</td><td>-0.04259196</td><td> 0.06605722</td></tr>\n",
       "\t<tr><th scope=row>ENSG00000125818</th><td> 0.06163206</td><td>-0.02007391</td><td>-0.10278400</td><td>-0.03173951</td><td> 1.00000000</td><td> 0.04809711</td><td>-0.2797302935</td><td> 0.01121849</td><td>-0.04626598</td><td>-0.03855960</td></tr>\n",
       "\t<tr><th scope=row>ENSG00000101298</th><td> 0.04033341</td><td>-0.07842001</td><td>-0.09379928</td><td> 0.07143994</td><td> 0.04809711</td><td> 1.00000000</td><td>-0.0539865198</td><td> 0.14891914</td><td>-0.01919014</td><td>-0.13382007</td></tr>\n",
       "</tbody>\n",
       "</table>\n"
      ],
      "text/latex": [
       "A data.frame: 6 × 10\n",
       "\\begin{tabular}{r|llllllllll}\n",
       "  & ENSG00000101255 & ENSG00000125826 & ENSG00000101266 & ENSG00000101280 & ENSG00000125818 & ENSG00000101298 & ENSG00000088832 & ENSG00000101307 & ENSG00000089012 & ENSG00000198053\\\\\n",
       "  & <dbl> & <dbl> & <dbl> & <dbl> & <dbl> & <dbl> & <dbl> & <dbl> & <dbl> & <dbl>\\\\\n",
       "\\hline\n",
       "\tENSG00000101255 &  1.00000000 &  0.07116780 & -0.01661844 &  0.12590226 &  0.06163206 &  0.04033341 &  0.0656184145 & -0.08399902 &  0.03417133 &  0.09272230\\\\\n",
       "\tENSG00000125826 &  0.07116780 &  1.00000000 & -0.04990565 &  0.08615582 & -0.02007391 & -0.07842001 &  0.0007446513 &  0.45129085 & -0.07229110 & -0.09455175\\\\\n",
       "\tENSG00000101266 & -0.01661844 & -0.04990565 &  1.00000000 & -0.15247166 & -0.10278400 & -0.09379928 & -0.1203321645 & -0.05763548 & -0.07945995 & -0.05885954\\\\\n",
       "\tENSG00000101280 &  0.12590226 &  0.08615582 & -0.15247166 &  1.00000000 & -0.03173951 &  0.07143994 & -0.0462339328 &  0.04168030 & -0.04259196 &  0.06605722\\\\\n",
       "\tENSG00000125818 &  0.06163206 & -0.02007391 & -0.10278400 & -0.03173951 &  1.00000000 &  0.04809711 & -0.2797302935 &  0.01121849 & -0.04626598 & -0.03855960\\\\\n",
       "\tENSG00000101298 &  0.04033341 & -0.07842001 & -0.09379928 &  0.07143994 &  0.04809711 &  1.00000000 & -0.0539865198 &  0.14891914 & -0.01919014 & -0.13382007\\\\\n",
       "\\end{tabular}\n"
      ],
      "text/markdown": [
       "\n",
       "A data.frame: 6 × 10\n",
       "\n",
       "| <!--/--> | ENSG00000101255 &lt;dbl&gt; | ENSG00000125826 &lt;dbl&gt; | ENSG00000101266 &lt;dbl&gt; | ENSG00000101280 &lt;dbl&gt; | ENSG00000125818 &lt;dbl&gt; | ENSG00000101298 &lt;dbl&gt; | ENSG00000088832 &lt;dbl&gt; | ENSG00000101307 &lt;dbl&gt; | ENSG00000089012 &lt;dbl&gt; | ENSG00000198053 &lt;dbl&gt; |\n",
       "|---|---|---|---|---|---|---|---|---|---|---|\n",
       "| ENSG00000101255 |  1.00000000 |  0.07116780 | -0.01661844 |  0.12590226 |  0.06163206 |  0.04033341 |  0.0656184145 | -0.08399902 |  0.03417133 |  0.09272230 |\n",
       "| ENSG00000125826 |  0.07116780 |  1.00000000 | -0.04990565 |  0.08615582 | -0.02007391 | -0.07842001 |  0.0007446513 |  0.45129085 | -0.07229110 | -0.09455175 |\n",
       "| ENSG00000101266 | -0.01661844 | -0.04990565 |  1.00000000 | -0.15247166 | -0.10278400 | -0.09379928 | -0.1203321645 | -0.05763548 | -0.07945995 | -0.05885954 |\n",
       "| ENSG00000101280 |  0.12590226 |  0.08615582 | -0.15247166 |  1.00000000 | -0.03173951 |  0.07143994 | -0.0462339328 |  0.04168030 | -0.04259196 |  0.06605722 |\n",
       "| ENSG00000125818 |  0.06163206 | -0.02007391 | -0.10278400 | -0.03173951 |  1.00000000 |  0.04809711 | -0.2797302935 |  0.01121849 | -0.04626598 | -0.03855960 |\n",
       "| ENSG00000101298 |  0.04033341 | -0.07842001 | -0.09379928 |  0.07143994 |  0.04809711 |  1.00000000 | -0.0539865198 |  0.14891914 | -0.01919014 | -0.13382007 |\n",
       "\n"
      ],
      "text/plain": [
       "                ENSG00000101255 ENSG00000125826 ENSG00000101266 ENSG00000101280\n",
       "ENSG00000101255  1.00000000      0.07116780     -0.01661844      0.12590226    \n",
       "ENSG00000125826  0.07116780      1.00000000     -0.04990565      0.08615582    \n",
       "ENSG00000101266 -0.01661844     -0.04990565      1.00000000     -0.15247166    \n",
       "ENSG00000101280  0.12590226      0.08615582     -0.15247166      1.00000000    \n",
       "ENSG00000125818  0.06163206     -0.02007391     -0.10278400     -0.03173951    \n",
       "ENSG00000101298  0.04033341     -0.07842001     -0.09379928      0.07143994    \n",
       "                ENSG00000125818 ENSG00000101298 ENSG00000088832 ENSG00000101307\n",
       "ENSG00000101255  0.06163206      0.04033341      0.0656184145   -0.08399902    \n",
       "ENSG00000125826 -0.02007391     -0.07842001      0.0007446513    0.45129085    \n",
       "ENSG00000101266 -0.10278400     -0.09379928     -0.1203321645   -0.05763548    \n",
       "ENSG00000101280 -0.03173951      0.07143994     -0.0462339328    0.04168030    \n",
       "ENSG00000125818  1.00000000      0.04809711     -0.2797302935    0.01121849    \n",
       "ENSG00000101298  0.04809711      1.00000000     -0.0539865198    0.14891914    \n",
       "                ENSG00000089012 ENSG00000198053\n",
       "ENSG00000101255  0.03417133      0.09272230    \n",
       "ENSG00000125826 -0.07229110     -0.09455175    \n",
       "ENSG00000101266 -0.07945995     -0.05885954    \n",
       "ENSG00000101280 -0.04259196      0.06605722    \n",
       "ENSG00000125818 -0.04626598     -0.03855960    \n",
       "ENSG00000101298 -0.01919014     -0.13382007    "
      ]
     },
     "metadata": {},
     "output_type": "display_data"
    }
   ],
   "source": [
    "head(gene_corrs[1:10, 1:10])"
   ]
  },
  {
   "cell_type": "markdown",
   "id": "c5c9ffba-1678-4ce7-8988-4ee03e23bdf2",
   "metadata": {
    "papermill": {
     "duration": 0.006256,
     "end_time": "2022-06-18T11:50:42.826994",
     "exception": false,
     "start_time": "2022-06-18T11:50:42.820738",
     "status": "completed"
    },
    "tags": []
   },
   "source": [
    "# Check positive definiteness"
   ]
  },
  {
   "cell_type": "code",
   "execution_count": 17,
   "id": "178854f5-487a-42e8-82b4-625c1979734a",
   "metadata": {
    "execution": {
     "iopub.execute_input": "2022-06-18T11:50:42.841704Z",
     "iopub.status.busy": "2022-06-18T11:50:42.840485Z",
     "iopub.status.idle": "2022-06-18T11:50:42.874968Z",
     "shell.execute_reply": "2022-06-18T11:50:42.871498Z"
    },
    "papermill": {
     "duration": 0.043351,
     "end_time": "2022-06-18T11:50:42.876698",
     "exception": false,
     "start_time": "2022-06-18T11:50:42.833347",
     "status": "completed"
    },
    "tags": []
   },
   "outputs": [
    {
     "data": {
      "text/html": [
       "'We need to correct the data and make the matrix positive definite'"
      ],
      "text/latex": [
       "'We need to correct the data and make the matrix positive definite'"
      ],
      "text/markdown": [
       "'We need to correct the data and make the matrix positive definite'"
      ],
      "text/plain": [
       "[1] \"We need to correct the data and make the matrix positive definite\""
      ]
     },
     "metadata": {},
     "output_type": "display_data"
    },
    {
     "data": {
      "text/html": [
       "FALSE"
      ],
      "text/latex": [
       "FALSE"
      ],
      "text/markdown": [
       "FALSE"
      ],
      "text/plain": [
       "[1] FALSE"
      ]
     },
     "metadata": {},
     "output_type": "display_data"
    }
   ],
   "source": [
    "is_positive_definite(gene_corrs)"
   ]
  },
  {
   "cell_type": "code",
   "execution_count": 18,
   "id": "58542ade-c80f-42e6-acbf-6464dab70fdb",
   "metadata": {
    "execution": {
     "iopub.execute_input": "2022-06-18T11:50:42.903166Z",
     "iopub.status.busy": "2022-06-18T11:50:42.901959Z",
     "iopub.status.idle": "2022-06-18T11:50:42.937234Z",
     "shell.execute_reply": "2022-06-18T11:50:42.932758Z"
    },
    "papermill": {
     "duration": 0.053299,
     "end_time": "2022-06-18T11:50:42.939252",
     "exception": false,
     "start_time": "2022-06-18T11:50:42.885953",
     "status": "completed"
    },
    "tags": []
   },
   "outputs": [],
   "source": [
    "# see eigenvalues\n",
    "eigenvalues <- eigen(gene_corrs)$values"
   ]
  },
  {
   "cell_type": "code",
   "execution_count": 19,
   "id": "9486e0db-e924-43ab-bb6c-0d997fd38f3d",
   "metadata": {
    "execution": {
     "iopub.execute_input": "2022-06-18T11:50:42.958767Z",
     "iopub.status.busy": "2022-06-18T11:50:42.957253Z",
     "iopub.status.idle": "2022-06-18T11:50:43.019063Z",
     "shell.execute_reply": "2022-06-18T11:50:43.016721Z"
    },
    "papermill": {
     "duration": 0.073396,
     "end_time": "2022-06-18T11:50:43.021028",
     "exception": false,
     "start_time": "2022-06-18T11:50:42.947632",
     "status": "completed"
    },
    "tags": []
   },
   "outputs": [
    {
     "data": {
      "text/html": [
       "14"
      ],
      "text/latex": [
       "14"
      ],
      "text/markdown": [
       "14"
      ],
      "text/plain": [
       "[1] 14"
      ]
     },
     "metadata": {},
     "output_type": "display_data"
    },
    {
     "data": {
      "text/html": [
       "<style>\n",
       ".list-inline {list-style: none; margin:0; padding: 0}\n",
       ".list-inline>li {display: inline-block}\n",
       ".list-inline>li:not(:last-child)::after {content: \"\\00b7\"; padding: 0 .5ex}\n",
       "</style>\n",
       "<ol class=list-inline><li>-0.0350748278054476</li><li>-0.123306146613084</li><li>-0.137578937094512</li><li>-0.181607847553942</li><li>-0.195289405564362</li><li>-0.228786182566807</li><li>-0.301638866267635</li><li>-0.419683042464516</li><li>-0.553891871146032</li><li>-0.651470671845024</li><li>-0.678433202830087</li><li>-1.00869219516279</li><li>-1.07086470807426</li><li>-2.73749059232262</li></ol>\n"
      ],
      "text/latex": [
       "\\begin{enumerate*}\n",
       "\\item -0.0350748278054476\n",
       "\\item -0.123306146613084\n",
       "\\item -0.137578937094512\n",
       "\\item -0.181607847553942\n",
       "\\item -0.195289405564362\n",
       "\\item -0.228786182566807\n",
       "\\item -0.301638866267635\n",
       "\\item -0.419683042464516\n",
       "\\item -0.553891871146032\n",
       "\\item -0.651470671845024\n",
       "\\item -0.678433202830087\n",
       "\\item -1.00869219516279\n",
       "\\item -1.07086470807426\n",
       "\\item -2.73749059232262\n",
       "\\end{enumerate*}\n"
      ],
      "text/markdown": [
       "1. -0.0350748278054476\n",
       "2. -0.123306146613084\n",
       "3. -0.137578937094512\n",
       "4. -0.181607847553942\n",
       "5. -0.195289405564362\n",
       "6. -0.228786182566807\n",
       "7. -0.301638866267635\n",
       "8. -0.419683042464516\n",
       "9. -0.553891871146032\n",
       "10. -0.651470671845024\n",
       "11. -0.678433202830087\n",
       "12. -1.00869219516279\n",
       "13. -1.07086470807426\n",
       "14. -2.73749059232262\n",
       "\n",
       "\n"
      ],
      "text/plain": [
       " [1] -0.03507483 -0.12330615 -0.13757894 -0.18160785 -0.19528941 -0.22878618\n",
       " [7] -0.30163887 -0.41968304 -0.55389187 -0.65147067 -0.67843320 -1.00869220\n",
       "[13] -1.07086471 -2.73749059"
      ]
     },
     "metadata": {},
     "output_type": "display_data"
    }
   ],
   "source": [
    "nonpositive_eigenvalues <- eigenvalues[eigenvalues <= 0]\n",
    "IRdisplay::display(length(nonpositive_eigenvalues))\n",
    "IRdisplay::display(nonpositive_eigenvalues)"
   ]
  },
  {
   "cell_type": "code",
   "execution_count": 20,
   "id": "410ee452-488f-4518-b93a-2acd608ba99c",
   "metadata": {
    "execution": {
     "iopub.execute_input": "2022-06-18T11:50:43.038754Z",
     "iopub.status.busy": "2022-06-18T11:50:43.037533Z",
     "iopub.status.idle": "2022-06-18T11:50:43.050662Z",
     "shell.execute_reply": "2022-06-18T11:50:43.048394Z"
    },
    "papermill": {
     "duration": 0.024124,
     "end_time": "2022-06-18T11:50:43.052846",
     "exception": false,
     "start_time": "2022-06-18T11:50:43.028722",
     "status": "completed"
    },
    "tags": []
   },
   "outputs": [],
   "source": [
    "if (length(eigenvalues[eigenvalues <= 0]) == 0) { quit() }"
   ]
  },
  {
   "cell_type": "markdown",
   "id": "2d280a82-f231-402d-82ab-9291d395afc1",
   "metadata": {
    "papermill": {
     "duration": 0.007577,
     "end_time": "2022-06-18T11:50:43.068407",
     "exception": false,
     "start_time": "2022-06-18T11:50:43.060830",
     "status": "completed"
    },
    "tags": []
   },
   "source": [
    "# Make matrix positive definite if needed"
   ]
  },
  {
   "cell_type": "code",
   "execution_count": 21,
   "id": "b9037873-4067-4ac6-aa92-e9225a6c9353",
   "metadata": {
    "execution": {
     "iopub.execute_input": "2022-06-18T11:50:43.098938Z",
     "iopub.status.busy": "2022-06-18T11:50:43.097833Z",
     "iopub.status.idle": "2022-06-18T11:50:43.146988Z",
     "shell.execute_reply": "2022-06-18T11:50:43.139998Z"
    },
    "papermill": {
     "duration": 0.067426,
     "end_time": "2022-06-18T11:50:43.150029",
     "exception": false,
     "start_time": "2022-06-18T11:50:43.082603",
     "status": "completed"
    },
    "tags": []
   },
   "outputs": [],
   "source": [
    "gene_corrs_corrected <- CorrectCM(gene_corrs, 1)"
   ]
  },
  {
   "cell_type": "code",
   "execution_count": 22,
   "id": "03c86284-5aac-4f66-86cc-74eb97102a7e",
   "metadata": {
    "execution": {
     "iopub.execute_input": "2022-06-18T11:50:43.165973Z",
     "iopub.status.busy": "2022-06-18T11:50:43.164801Z",
     "iopub.status.idle": "2022-06-18T11:50:43.177575Z",
     "shell.execute_reply": "2022-06-18T11:50:43.175365Z"
    },
    "papermill": {
     "duration": 0.022447,
     "end_time": "2022-06-18T11:50:43.179447",
     "exception": false,
     "start_time": "2022-06-18T11:50:43.157000",
     "status": "completed"
    },
    "tags": []
   },
   "outputs": [],
   "source": [
    "dimnames(gene_corrs_corrected)[[1]] <- rownames(gene_corrs)"
   ]
  },
  {
   "cell_type": "code",
   "execution_count": 23,
   "id": "576e7069-25ff-473d-8158-35b5f2ff212e",
   "metadata": {
    "execution": {
     "iopub.execute_input": "2022-06-18T11:50:43.195758Z",
     "iopub.status.busy": "2022-06-18T11:50:43.194660Z",
     "iopub.status.idle": "2022-06-18T11:50:43.207327Z",
     "shell.execute_reply": "2022-06-18T11:50:43.205181Z"
    },
    "papermill": {
     "duration": 0.022295,
     "end_time": "2022-06-18T11:50:43.209203",
     "exception": false,
     "start_time": "2022-06-18T11:50:43.186908",
     "status": "completed"
    },
    "tags": []
   },
   "outputs": [],
   "source": [
    "dimnames(gene_corrs_corrected)[[2]] <- colnames(gene_corrs)"
   ]
  },
  {
   "cell_type": "code",
   "execution_count": 24,
   "id": "f77d043a-321d-447f-8da5-2503981d3e73",
   "metadata": {
    "execution": {
     "iopub.execute_input": "2022-06-18T11:50:43.225248Z",
     "iopub.status.busy": "2022-06-18T11:50:43.224264Z",
     "iopub.status.idle": "2022-06-18T11:50:43.234222Z",
     "shell.execute_reply": "2022-06-18T11:50:43.233020Z"
    },
    "papermill": {
     "duration": 0.019221,
     "end_time": "2022-06-18T11:50:43.235942",
     "exception": false,
     "start_time": "2022-06-18T11:50:43.216721",
     "status": "completed"
    },
    "tags": []
   },
   "outputs": [],
   "source": [
    "gene_corrs_corrected <- as.data.frame(gene_corrs_corrected)"
   ]
  },
  {
   "cell_type": "code",
   "execution_count": 25,
   "id": "3e844024-f9a2-42a2-bbd0-695cfdbb78f5",
   "metadata": {
    "execution": {
     "iopub.execute_input": "2022-06-18T11:50:43.252147Z",
     "iopub.status.busy": "2022-06-18T11:50:43.251113Z",
     "iopub.status.idle": "2022-06-18T11:50:43.262193Z",
     "shell.execute_reply": "2022-06-18T11:50:43.260952Z"
    },
    "papermill": {
     "duration": 0.020629,
     "end_time": "2022-06-18T11:50:43.263983",
     "exception": false,
     "start_time": "2022-06-18T11:50:43.243354",
     "status": "completed"
    },
    "tags": []
   },
   "outputs": [
    {
     "data": {
      "text/html": [
       "<style>\n",
       ".list-inline {list-style: none; margin:0; padding: 0}\n",
       ".list-inline>li {display: inline-block}\n",
       ".list-inline>li:not(:last-child)::after {content: \"\\00b7\"; padding: 0 .5ex}\n",
       "</style>\n",
       "<ol class=list-inline><li>187</li><li>187</li></ol>\n"
      ],
      "text/latex": [
       "\\begin{enumerate*}\n",
       "\\item 187\n",
       "\\item 187\n",
       "\\end{enumerate*}\n"
      ],
      "text/markdown": [
       "1. 187\n",
       "2. 187\n",
       "\n",
       "\n"
      ],
      "text/plain": [
       "[1] 187 187"
      ]
     },
     "metadata": {},
     "output_type": "display_data"
    }
   ],
   "source": [
    "dim(gene_corrs_corrected)"
   ]
  },
  {
   "cell_type": "markdown",
   "id": "244b6bde-4ca8-46d1-acc7-b4c35b5d3c62",
   "metadata": {
    "papermill": {
     "duration": 0.006895,
     "end_time": "2022-06-18T11:50:43.278237",
     "exception": false,
     "start_time": "2022-06-18T11:50:43.271342",
     "status": "completed"
    },
    "tags": []
   },
   "source": [
    "# Check positive definiteness of corrected matrix"
   ]
  },
  {
   "cell_type": "code",
   "execution_count": 26,
   "id": "0fd5b688-e137-4619-910c-35130d32d600",
   "metadata": {
    "execution": {
     "iopub.execute_input": "2022-06-18T11:50:43.294811Z",
     "iopub.status.busy": "2022-06-18T11:50:43.293520Z",
     "iopub.status.idle": "2022-06-18T11:50:43.324656Z",
     "shell.execute_reply": "2022-06-18T11:50:43.322774Z"
    },
    "papermill": {
     "duration": 0.040813,
     "end_time": "2022-06-18T11:50:43.326203",
     "exception": false,
     "start_time": "2022-06-18T11:50:43.285390",
     "status": "completed"
    },
    "tags": []
   },
   "outputs": [
    {
     "data": {
      "text/html": [
       "'Matrix is already positive definite!'"
      ],
      "text/latex": [
       "'Matrix is already positive definite!'"
      ],
      "text/markdown": [
       "'Matrix is already positive definite!'"
      ],
      "text/plain": [
       "[1] \"Matrix is already positive definite!\""
      ]
     },
     "metadata": {},
     "output_type": "display_data"
    },
    {
     "data": {
      "text/html": [
       "TRUE"
      ],
      "text/latex": [
       "TRUE"
      ],
      "text/markdown": [
       "TRUE"
      ],
      "text/plain": [
       "[1] TRUE"
      ]
     },
     "metadata": {},
     "output_type": "display_data"
    }
   ],
   "source": [
    "is_positive_definite(gene_corrs_corrected)"
   ]
  },
  {
   "cell_type": "code",
   "execution_count": 27,
   "id": "06d23ab8-bebb-474c-be33-dca7e53c1717",
   "metadata": {
    "execution": {
     "iopub.execute_input": "2022-06-18T11:50:43.340897Z",
     "iopub.status.busy": "2022-06-18T11:50:43.340008Z",
     "iopub.status.idle": "2022-06-18T11:50:43.360753Z",
     "shell.execute_reply": "2022-06-18T11:50:43.358784Z"
    },
    "papermill": {
     "duration": 0.029773,
     "end_time": "2022-06-18T11:50:43.362450",
     "exception": false,
     "start_time": "2022-06-18T11:50:43.332677",
     "status": "completed"
    },
    "tags": []
   },
   "outputs": [],
   "source": [
    "# see eigenvalues\n",
    "eigenvalues <- eigen(gene_corrs_corrected)$values"
   ]
  },
  {
   "cell_type": "code",
   "execution_count": 28,
   "id": "ddf8afb8-e0e2-4b4e-876d-12bd6856c1ad",
   "metadata": {
    "execution": {
     "iopub.execute_input": "2022-06-18T11:50:43.377728Z",
     "iopub.status.busy": "2022-06-18T11:50:43.376681Z",
     "iopub.status.idle": "2022-06-18T11:50:43.400270Z",
     "shell.execute_reply": "2022-06-18T11:50:43.398238Z"
    },
    "papermill": {
     "duration": 0.032867,
     "end_time": "2022-06-18T11:50:43.402082",
     "exception": false,
     "start_time": "2022-06-18T11:50:43.369215",
     "status": "completed"
    },
    "tags": []
   },
   "outputs": [
    {
     "data": {
      "text/html": [
       "0"
      ],
      "text/latex": [
       "0"
      ],
      "text/markdown": [
       "0"
      ],
      "text/plain": [
       "[1] 0"
      ]
     },
     "metadata": {},
     "output_type": "display_data"
    },
    {
     "data": {
      "text/html": [],
      "text/latex": [],
      "text/markdown": [],
      "text/plain": [
       "numeric(0)"
      ]
     },
     "metadata": {},
     "output_type": "display_data"
    }
   ],
   "source": [
    "nonpositive_eigenvalues <- eigenvalues[eigenvalues <= 0]\n",
    "IRdisplay::display(length(nonpositive_eigenvalues))\n",
    "IRdisplay::display(nonpositive_eigenvalues)"
   ]
  },
  {
   "cell_type": "code",
   "execution_count": 29,
   "id": "712fd71a-b6ec-4a13-a956-80c99be7f585",
   "metadata": {
    "execution": {
     "iopub.execute_input": "2022-06-18T11:50:43.419078Z",
     "iopub.status.busy": "2022-06-18T11:50:43.418080Z",
     "iopub.status.idle": "2022-06-18T11:50:43.428561Z",
     "shell.execute_reply": "2022-06-18T11:50:43.426622Z"
    },
    "papermill": {
     "duration": 0.020197,
     "end_time": "2022-06-18T11:50:43.430125",
     "exception": false,
     "start_time": "2022-06-18T11:50:43.409928",
     "status": "completed"
    },
    "tags": []
   },
   "outputs": [],
   "source": [
    "stopifnot(length(eigenvalues[eigenvalues <= 0]) == 0)"
   ]
  },
  {
   "cell_type": "code",
   "execution_count": 30,
   "id": "786d6336-3844-40f7-979b-6d6028787f7f",
   "metadata": {
    "execution": {
     "iopub.execute_input": "2022-06-18T11:50:43.453637Z",
     "iopub.status.busy": "2022-06-18T11:50:43.445283Z",
     "iopub.status.idle": "2022-06-18T11:50:43.495555Z",
     "shell.execute_reply": "2022-06-18T11:50:43.494117Z"
    },
    "papermill": {
     "duration": 0.059579,
     "end_time": "2022-06-18T11:50:43.497240",
     "exception": false,
     "start_time": "2022-06-18T11:50:43.437661",
     "status": "completed"
    },
    "tags": []
   },
   "outputs": [
    {
     "data": {
      "text/html": [
       "<table class=\"dataframe\">\n",
       "<caption>A data.frame: 6 × 10</caption>\n",
       "<thead>\n",
       "\t<tr><th></th><th scope=col>ENSG00000101255</th><th scope=col>ENSG00000125826</th><th scope=col>ENSG00000101266</th><th scope=col>ENSG00000101280</th><th scope=col>ENSG00000125818</th><th scope=col>ENSG00000101298</th><th scope=col>ENSG00000088832</th><th scope=col>ENSG00000101307</th><th scope=col>ENSG00000089012</th><th scope=col>ENSG00000198053</th></tr>\n",
       "\t<tr><th></th><th scope=col>&lt;dbl&gt;</th><th scope=col>&lt;dbl&gt;</th><th scope=col>&lt;dbl&gt;</th><th scope=col>&lt;dbl&gt;</th><th scope=col>&lt;dbl&gt;</th><th scope=col>&lt;dbl&gt;</th><th scope=col>&lt;dbl&gt;</th><th scope=col>&lt;dbl&gt;</th><th scope=col>&lt;dbl&gt;</th><th scope=col>&lt;dbl&gt;</th></tr>\n",
       "</thead>\n",
       "<tbody>\n",
       "\t<tr><th scope=row>ENSG00000101255</th><td> 1.00000000</td><td> 0.07116780</td><td>-0.01661844</td><td> 0.12590226</td><td> 0.06163206</td><td> 0.04033341</td><td> 0.0656184145</td><td>-0.08399902</td><td> 0.03417133</td><td> 0.09272230</td></tr>\n",
       "\t<tr><th scope=row>ENSG00000125826</th><td> 0.07116780</td><td> 1.00000000</td><td>-0.04990565</td><td> 0.08615582</td><td>-0.02007391</td><td>-0.07842001</td><td> 0.0007446513</td><td> 0.45129085</td><td>-0.07229110</td><td>-0.09455175</td></tr>\n",
       "\t<tr><th scope=row>ENSG00000101266</th><td>-0.01661844</td><td>-0.04990565</td><td> 1.00000000</td><td>-0.15247166</td><td>-0.10278400</td><td>-0.09379928</td><td>-0.1203321645</td><td>-0.05763548</td><td>-0.07945995</td><td>-0.05885954</td></tr>\n",
       "\t<tr><th scope=row>ENSG00000101280</th><td> 0.12590226</td><td> 0.08615582</td><td>-0.15247166</td><td> 1.00000000</td><td>-0.03173951</td><td> 0.07143994</td><td>-0.0462339328</td><td> 0.04168030</td><td>-0.04259196</td><td> 0.06605722</td></tr>\n",
       "\t<tr><th scope=row>ENSG00000125818</th><td> 0.06163206</td><td>-0.02007391</td><td>-0.10278400</td><td>-0.03173951</td><td> 1.00000000</td><td> 0.04809711</td><td>-0.2797302935</td><td> 0.01121849</td><td>-0.04626598</td><td>-0.03855960</td></tr>\n",
       "\t<tr><th scope=row>ENSG00000101298</th><td> 0.04033341</td><td>-0.07842001</td><td>-0.09379928</td><td> 0.07143994</td><td> 0.04809711</td><td> 1.00000000</td><td>-0.0539865198</td><td> 0.14891914</td><td>-0.01919014</td><td>-0.13382007</td></tr>\n",
       "</tbody>\n",
       "</table>\n"
      ],
      "text/latex": [
       "A data.frame: 6 × 10\n",
       "\\begin{tabular}{r|llllllllll}\n",
       "  & ENSG00000101255 & ENSG00000125826 & ENSG00000101266 & ENSG00000101280 & ENSG00000125818 & ENSG00000101298 & ENSG00000088832 & ENSG00000101307 & ENSG00000089012 & ENSG00000198053\\\\\n",
       "  & <dbl> & <dbl> & <dbl> & <dbl> & <dbl> & <dbl> & <dbl> & <dbl> & <dbl> & <dbl>\\\\\n",
       "\\hline\n",
       "\tENSG00000101255 &  1.00000000 &  0.07116780 & -0.01661844 &  0.12590226 &  0.06163206 &  0.04033341 &  0.0656184145 & -0.08399902 &  0.03417133 &  0.09272230\\\\\n",
       "\tENSG00000125826 &  0.07116780 &  1.00000000 & -0.04990565 &  0.08615582 & -0.02007391 & -0.07842001 &  0.0007446513 &  0.45129085 & -0.07229110 & -0.09455175\\\\\n",
       "\tENSG00000101266 & -0.01661844 & -0.04990565 &  1.00000000 & -0.15247166 & -0.10278400 & -0.09379928 & -0.1203321645 & -0.05763548 & -0.07945995 & -0.05885954\\\\\n",
       "\tENSG00000101280 &  0.12590226 &  0.08615582 & -0.15247166 &  1.00000000 & -0.03173951 &  0.07143994 & -0.0462339328 &  0.04168030 & -0.04259196 &  0.06605722\\\\\n",
       "\tENSG00000125818 &  0.06163206 & -0.02007391 & -0.10278400 & -0.03173951 &  1.00000000 &  0.04809711 & -0.2797302935 &  0.01121849 & -0.04626598 & -0.03855960\\\\\n",
       "\tENSG00000101298 &  0.04033341 & -0.07842001 & -0.09379928 &  0.07143994 &  0.04809711 &  1.00000000 & -0.0539865198 &  0.14891914 & -0.01919014 & -0.13382007\\\\\n",
       "\\end{tabular}\n"
      ],
      "text/markdown": [
       "\n",
       "A data.frame: 6 × 10\n",
       "\n",
       "| <!--/--> | ENSG00000101255 &lt;dbl&gt; | ENSG00000125826 &lt;dbl&gt; | ENSG00000101266 &lt;dbl&gt; | ENSG00000101280 &lt;dbl&gt; | ENSG00000125818 &lt;dbl&gt; | ENSG00000101298 &lt;dbl&gt; | ENSG00000088832 &lt;dbl&gt; | ENSG00000101307 &lt;dbl&gt; | ENSG00000089012 &lt;dbl&gt; | ENSG00000198053 &lt;dbl&gt; |\n",
       "|---|---|---|---|---|---|---|---|---|---|---|\n",
       "| ENSG00000101255 |  1.00000000 |  0.07116780 | -0.01661844 |  0.12590226 |  0.06163206 |  0.04033341 |  0.0656184145 | -0.08399902 |  0.03417133 |  0.09272230 |\n",
       "| ENSG00000125826 |  0.07116780 |  1.00000000 | -0.04990565 |  0.08615582 | -0.02007391 | -0.07842001 |  0.0007446513 |  0.45129085 | -0.07229110 | -0.09455175 |\n",
       "| ENSG00000101266 | -0.01661844 | -0.04990565 |  1.00000000 | -0.15247166 | -0.10278400 | -0.09379928 | -0.1203321645 | -0.05763548 | -0.07945995 | -0.05885954 |\n",
       "| ENSG00000101280 |  0.12590226 |  0.08615582 | -0.15247166 |  1.00000000 | -0.03173951 |  0.07143994 | -0.0462339328 |  0.04168030 | -0.04259196 |  0.06605722 |\n",
       "| ENSG00000125818 |  0.06163206 | -0.02007391 | -0.10278400 | -0.03173951 |  1.00000000 |  0.04809711 | -0.2797302935 |  0.01121849 | -0.04626598 | -0.03855960 |\n",
       "| ENSG00000101298 |  0.04033341 | -0.07842001 | -0.09379928 |  0.07143994 |  0.04809711 |  1.00000000 | -0.0539865198 |  0.14891914 | -0.01919014 | -0.13382007 |\n",
       "\n"
      ],
      "text/plain": [
       "                ENSG00000101255 ENSG00000125826 ENSG00000101266 ENSG00000101280\n",
       "ENSG00000101255  1.00000000      0.07116780     -0.01661844      0.12590226    \n",
       "ENSG00000125826  0.07116780      1.00000000     -0.04990565      0.08615582    \n",
       "ENSG00000101266 -0.01661844     -0.04990565      1.00000000     -0.15247166    \n",
       "ENSG00000101280  0.12590226      0.08615582     -0.15247166      1.00000000    \n",
       "ENSG00000125818  0.06163206     -0.02007391     -0.10278400     -0.03173951    \n",
       "ENSG00000101298  0.04033341     -0.07842001     -0.09379928      0.07143994    \n",
       "                ENSG00000125818 ENSG00000101298 ENSG00000088832 ENSG00000101307\n",
       "ENSG00000101255  0.06163206      0.04033341      0.0656184145   -0.08399902    \n",
       "ENSG00000125826 -0.02007391     -0.07842001      0.0007446513    0.45129085    \n",
       "ENSG00000101266 -0.10278400     -0.09379928     -0.1203321645   -0.05763548    \n",
       "ENSG00000101280 -0.03173951      0.07143994     -0.0462339328    0.04168030    \n",
       "ENSG00000125818  1.00000000      0.04809711     -0.2797302935    0.01121849    \n",
       "ENSG00000101298  0.04809711      1.00000000     -0.0539865198    0.14891914    \n",
       "                ENSG00000089012 ENSG00000198053\n",
       "ENSG00000101255  0.03417133      0.09272230    \n",
       "ENSG00000125826 -0.07229110     -0.09455175    \n",
       "ENSG00000101266 -0.07945995     -0.05885954    \n",
       "ENSG00000101280 -0.04259196      0.06605722    \n",
       "ENSG00000125818 -0.04626598     -0.03855960    \n",
       "ENSG00000101298 -0.01919014     -0.13382007    "
      ]
     },
     "metadata": {},
     "output_type": "display_data"
    },
    {
     "data": {
      "text/html": [
       "<table class=\"dataframe\">\n",
       "<caption>A data.frame: 6 × 10</caption>\n",
       "<thead>\n",
       "\t<tr><th></th><th scope=col>ENSG00000101255</th><th scope=col>ENSG00000125826</th><th scope=col>ENSG00000101266</th><th scope=col>ENSG00000101280</th><th scope=col>ENSG00000125818</th><th scope=col>ENSG00000101298</th><th scope=col>ENSG00000088832</th><th scope=col>ENSG00000101307</th><th scope=col>ENSG00000089012</th><th scope=col>ENSG00000198053</th></tr>\n",
       "\t<tr><th></th><th scope=col>&lt;dbl&gt;</th><th scope=col>&lt;dbl&gt;</th><th scope=col>&lt;dbl&gt;</th><th scope=col>&lt;dbl&gt;</th><th scope=col>&lt;dbl&gt;</th><th scope=col>&lt;dbl&gt;</th><th scope=col>&lt;dbl&gt;</th><th scope=col>&lt;dbl&gt;</th><th scope=col>&lt;dbl&gt;</th><th scope=col>&lt;dbl&gt;</th></tr>\n",
       "</thead>\n",
       "<tbody>\n",
       "\t<tr><th scope=row>ENSG00000101255</th><td> 1.000000000</td><td> 0.043315543</td><td>-0.008469768</td><td> 0.06083937</td><td> 0.038120981</td><td> 0.009123620</td><td> 0.02305991</td><td>-0.048594232</td><td>-0.0258213228</td><td> 0.052929224</td></tr>\n",
       "\t<tr><th scope=row>ENSG00000125826</th><td> 0.043315543</td><td> 1.000000000</td><td>-0.021832068</td><td> 0.05290155</td><td>-0.002175285</td><td> 0.004453637</td><td> 0.01862289</td><td> 0.140991757</td><td> 0.0038127294</td><td>-0.064178282</td></tr>\n",
       "\t<tr><th scope=row>ENSG00000101266</th><td>-0.008469768</td><td>-0.021832068</td><td> 1.000000000</td><td>-0.04084000</td><td>-0.024473111</td><td>-0.032017804</td><td>-0.06786354</td><td>-0.049237382</td><td>-0.0241530739</td><td>-0.001132488</td></tr>\n",
       "\t<tr><th scope=row>ENSG00000101280</th><td> 0.060839366</td><td> 0.052901553</td><td>-0.040840002</td><td> 1.00000000</td><td>-0.018761835</td><td> 0.071250866</td><td>-0.01801663</td><td> 0.003632707</td><td> 0.0097449884</td><td> 0.039432014</td></tr>\n",
       "\t<tr><th scope=row>ENSG00000125818</th><td> 0.038120981</td><td>-0.002175285</td><td>-0.024473111</td><td>-0.01876183</td><td> 1.000000000</td><td> 0.043822260</td><td>-0.09110818</td><td> 0.010378850</td><td>-0.0005461786</td><td>-0.018106840</td></tr>\n",
       "\t<tr><th scope=row>ENSG00000101298</th><td> 0.009123620</td><td> 0.004453637</td><td>-0.032017804</td><td> 0.07125087</td><td> 0.043822260</td><td> 1.000000000</td><td>-0.02949655</td><td> 0.049233109</td><td>-0.0118557875</td><td>-0.039780304</td></tr>\n",
       "</tbody>\n",
       "</table>\n"
      ],
      "text/latex": [
       "A data.frame: 6 × 10\n",
       "\\begin{tabular}{r|llllllllll}\n",
       "  & ENSG00000101255 & ENSG00000125826 & ENSG00000101266 & ENSG00000101280 & ENSG00000125818 & ENSG00000101298 & ENSG00000088832 & ENSG00000101307 & ENSG00000089012 & ENSG00000198053\\\\\n",
       "  & <dbl> & <dbl> & <dbl> & <dbl> & <dbl> & <dbl> & <dbl> & <dbl> & <dbl> & <dbl>\\\\\n",
       "\\hline\n",
       "\tENSG00000101255 &  1.000000000 &  0.043315543 & -0.008469768 &  0.06083937 &  0.038120981 &  0.009123620 &  0.02305991 & -0.048594232 & -0.0258213228 &  0.052929224\\\\\n",
       "\tENSG00000125826 &  0.043315543 &  1.000000000 & -0.021832068 &  0.05290155 & -0.002175285 &  0.004453637 &  0.01862289 &  0.140991757 &  0.0038127294 & -0.064178282\\\\\n",
       "\tENSG00000101266 & -0.008469768 & -0.021832068 &  1.000000000 & -0.04084000 & -0.024473111 & -0.032017804 & -0.06786354 & -0.049237382 & -0.0241530739 & -0.001132488\\\\\n",
       "\tENSG00000101280 &  0.060839366 &  0.052901553 & -0.040840002 &  1.00000000 & -0.018761835 &  0.071250866 & -0.01801663 &  0.003632707 &  0.0097449884 &  0.039432014\\\\\n",
       "\tENSG00000125818 &  0.038120981 & -0.002175285 & -0.024473111 & -0.01876183 &  1.000000000 &  0.043822260 & -0.09110818 &  0.010378850 & -0.0005461786 & -0.018106840\\\\\n",
       "\tENSG00000101298 &  0.009123620 &  0.004453637 & -0.032017804 &  0.07125087 &  0.043822260 &  1.000000000 & -0.02949655 &  0.049233109 & -0.0118557875 & -0.039780304\\\\\n",
       "\\end{tabular}\n"
      ],
      "text/markdown": [
       "\n",
       "A data.frame: 6 × 10\n",
       "\n",
       "| <!--/--> | ENSG00000101255 &lt;dbl&gt; | ENSG00000125826 &lt;dbl&gt; | ENSG00000101266 &lt;dbl&gt; | ENSG00000101280 &lt;dbl&gt; | ENSG00000125818 &lt;dbl&gt; | ENSG00000101298 &lt;dbl&gt; | ENSG00000088832 &lt;dbl&gt; | ENSG00000101307 &lt;dbl&gt; | ENSG00000089012 &lt;dbl&gt; | ENSG00000198053 &lt;dbl&gt; |\n",
       "|---|---|---|---|---|---|---|---|---|---|---|\n",
       "| ENSG00000101255 |  1.000000000 |  0.043315543 | -0.008469768 |  0.06083937 |  0.038120981 |  0.009123620 |  0.02305991 | -0.048594232 | -0.0258213228 |  0.052929224 |\n",
       "| ENSG00000125826 |  0.043315543 |  1.000000000 | -0.021832068 |  0.05290155 | -0.002175285 |  0.004453637 |  0.01862289 |  0.140991757 |  0.0038127294 | -0.064178282 |\n",
       "| ENSG00000101266 | -0.008469768 | -0.021832068 |  1.000000000 | -0.04084000 | -0.024473111 | -0.032017804 | -0.06786354 | -0.049237382 | -0.0241530739 | -0.001132488 |\n",
       "| ENSG00000101280 |  0.060839366 |  0.052901553 | -0.040840002 |  1.00000000 | -0.018761835 |  0.071250866 | -0.01801663 |  0.003632707 |  0.0097449884 |  0.039432014 |\n",
       "| ENSG00000125818 |  0.038120981 | -0.002175285 | -0.024473111 | -0.01876183 |  1.000000000 |  0.043822260 | -0.09110818 |  0.010378850 | -0.0005461786 | -0.018106840 |\n",
       "| ENSG00000101298 |  0.009123620 |  0.004453637 | -0.032017804 |  0.07125087 |  0.043822260 |  1.000000000 | -0.02949655 |  0.049233109 | -0.0118557875 | -0.039780304 |\n",
       "\n"
      ],
      "text/plain": [
       "                ENSG00000101255 ENSG00000125826 ENSG00000101266 ENSG00000101280\n",
       "ENSG00000101255  1.000000000     0.043315543    -0.008469768     0.06083937    \n",
       "ENSG00000125826  0.043315543     1.000000000    -0.021832068     0.05290155    \n",
       "ENSG00000101266 -0.008469768    -0.021832068     1.000000000    -0.04084000    \n",
       "ENSG00000101280  0.060839366     0.052901553    -0.040840002     1.00000000    \n",
       "ENSG00000125818  0.038120981    -0.002175285    -0.024473111    -0.01876183    \n",
       "ENSG00000101298  0.009123620     0.004453637    -0.032017804     0.07125087    \n",
       "                ENSG00000125818 ENSG00000101298 ENSG00000088832 ENSG00000101307\n",
       "ENSG00000101255  0.038120981     0.009123620     0.02305991     -0.048594232   \n",
       "ENSG00000125826 -0.002175285     0.004453637     0.01862289      0.140991757   \n",
       "ENSG00000101266 -0.024473111    -0.032017804    -0.06786354     -0.049237382   \n",
       "ENSG00000101280 -0.018761835     0.071250866    -0.01801663      0.003632707   \n",
       "ENSG00000125818  1.000000000     0.043822260    -0.09110818      0.010378850   \n",
       "ENSG00000101298  0.043822260     1.000000000    -0.02949655      0.049233109   \n",
       "                ENSG00000089012 ENSG00000198053\n",
       "ENSG00000101255 -0.0258213228    0.052929224   \n",
       "ENSG00000125826  0.0038127294   -0.064178282   \n",
       "ENSG00000101266 -0.0241530739   -0.001132488   \n",
       "ENSG00000101280  0.0097449884    0.039432014   \n",
       "ENSG00000125818 -0.0005461786   -0.018106840   \n",
       "ENSG00000101298 -0.0118557875   -0.039780304   "
      ]
     },
     "metadata": {},
     "output_type": "display_data"
    }
   ],
   "source": [
    "# quick and visual comparison of the two matrices\n",
    "IRdisplay::display(head(gene_corrs[1:10, 1:10]))\n",
    "IRdisplay::display(head(gene_corrs_corrected[1:10, 1:10]))"
   ]
  },
  {
   "cell_type": "markdown",
   "id": "c6c40f1a-d153-475a-94eb-c71697ad9d51",
   "metadata": {
    "papermill": {
     "duration": 0.007616,
     "end_time": "2022-06-18T11:50:43.513368",
     "exception": false,
     "start_time": "2022-06-18T11:50:43.505752",
     "status": "completed"
    },
    "tags": []
   },
   "source": [
    "Both matrices should \"look\" similar. We are not interested in perfectly accurate correlation values (they are already inaccurate)."
   ]
  },
  {
   "cell_type": "markdown",
   "id": "bf0f49cb-9c21-4616-8390-bb68d52dae56",
   "metadata": {
    "papermill": {
     "duration": 0.007187,
     "end_time": "2022-06-18T11:50:43.527803",
     "exception": false,
     "start_time": "2022-06-18T11:50:43.520616",
     "status": "completed"
    },
    "tags": []
   },
   "source": [
    "# Save"
   ]
  },
  {
   "cell_type": "code",
   "execution_count": 31,
   "id": "2e58e7f3-a75c-4195-a20e-39e3e3e1cc9a",
   "metadata": {
    "execution": {
     "iopub.execute_input": "2022-06-18T11:50:43.544428Z",
     "iopub.status.busy": "2022-06-18T11:50:43.543337Z",
     "iopub.status.idle": "2022-06-18T11:50:43.564197Z",
     "shell.execute_reply": "2022-06-18T11:50:43.562243Z"
    },
    "papermill": {
     "duration": 0.030705,
     "end_time": "2022-06-18T11:50:43.565912",
     "exception": false,
     "start_time": "2022-06-18T11:50:43.535207",
     "status": "completed"
    },
    "tags": []
   },
   "outputs": [],
   "source": [
    "py_save_object(gene_corrs_corrected, OUTPUT_FILE)"
   ]
  },
  {
   "cell_type": "code",
   "execution_count": null,
   "id": "d8ae4220-2171-460c-9231-cd5219f3fe77",
   "metadata": {
    "papermill": {
     "duration": 0.007464,
     "end_time": "2022-06-18T11:50:43.581046",
     "exception": false,
     "start_time": "2022-06-18T11:50:43.573582",
     "status": "completed"
    },
    "tags": []
   },
   "outputs": [],
   "source": []
  }
 ],
 "metadata": {
  "jupytext": {
   "cell_metadata_filter": "all,-execution,-papermill,-trusted"
  },
  "kernelspec": {
   "display_name": "R",
   "language": "R",
   "name": "ir"
  },
  "language_info": {
   "codemirror_mode": "r",
   "file_extension": ".r",
   "mimetype": "text/x-r-source",
   "name": "R",
   "pygments_lexer": "r",
   "version": "3.6.3"
  },
  "papermill": {
   "default_parameters": {},
   "duration": 6.088765,
   "end_time": "2022-06-18T11:50:43.706694",
   "environment_variables": {},
   "exception": null,
   "input_path": "nbs/15_gsa_gls/12-gene_expr_correlations-adjust.ipynb",
   "output_path": "nbs/15_gsa_gls/gene_corrs/gtex_v8/mashr/12-gene_expr_correlations-adjust-chr20.run.ipynb",
   "parameters": {
    "EQTL_MODEL": "MASHR",
    "REFERENCE_PANEL": "GTEX_V8",
    "chromosome": 20
   },
   "start_time": "2022-06-18T11:50:37.617929",
   "version": "2.3.4"
  }
 },
 "nbformat": 4,
 "nbformat_minor": 5
}
