{
 "cells": [
  {
   "cell_type": "markdown",
   "id": "7a6632fb",
   "metadata": {
    "papermill": {
     "duration": 0.006642,
     "end_time": "2022-06-16T17:01:03.875273",
     "exception": false,
     "start_time": "2022-06-16T17:01:03.868631",
     "status": "completed"
    },
    "tags": []
   },
   "source": [
    "# Description"
   ]
  },
  {
   "cell_type": "markdown",
   "id": "7097c346",
   "metadata": {
    "papermill": {
     "duration": 0.005627,
     "end_time": "2022-06-16T17:01:03.886678",
     "exception": false,
     "start_time": "2022-06-16T17:01:03.881051",
     "status": "completed"
    },
    "tags": []
   },
   "source": [
    "(Please, take a look at the README.md file in this directory for instructions on how to run this notebook)\n",
    "\n",
    "This notebook computes predicted expression correlations between all genes in the MultiPLIER models.\n",
    "\n",
    "It also has a parameter set for papermill to run on a single chromosome to run in parallel (see under `Settings` below).\n",
    "\n",
    "This notebook is not directly run. See README.md."
   ]
  },
  {
   "cell_type": "markdown",
   "id": "c61d8427",
   "metadata": {
    "papermill": {
     "duration": 0.005562,
     "end_time": "2022-06-16T17:01:03.898007",
     "exception": false,
     "start_time": "2022-06-16T17:01:03.892445",
     "status": "completed"
    },
    "tags": []
   },
   "source": [
    "# Modules"
   ]
  },
  {
   "cell_type": "code",
   "execution_count": 1,
   "id": "bbc0234f",
   "metadata": {
    "execution": {
     "iopub.execute_input": "2022-06-16T17:01:03.910228Z",
     "iopub.status.busy": "2022-06-16T17:01:03.910011Z",
     "iopub.status.idle": "2022-06-16T17:01:03.925980Z",
     "shell.execute_reply": "2022-06-16T17:01:03.925342Z"
    },
    "papermill": {
     "duration": 0.023935,
     "end_time": "2022-06-16T17:01:03.927602",
     "exception": false,
     "start_time": "2022-06-16T17:01:03.903667",
     "status": "completed"
    },
    "tags": []
   },
   "outputs": [],
   "source": [
    "%load_ext autoreload\n",
    "%autoreload 2"
   ]
  },
  {
   "cell_type": "code",
   "execution_count": 2,
   "id": "1d5f5a59",
   "metadata": {
    "execution": {
     "iopub.execute_input": "2022-06-16T17:01:03.941162Z",
     "iopub.status.busy": "2022-06-16T17:01:03.940581Z",
     "iopub.status.idle": "2022-06-16T17:01:04.941125Z",
     "shell.execute_reply": "2022-06-16T17:01:04.940510Z"
    },
    "papermill": {
     "duration": 1.009057,
     "end_time": "2022-06-16T17:01:04.942721",
     "exception": false,
     "start_time": "2022-06-16T17:01:03.933664",
     "status": "completed"
    },
    "tags": []
   },
   "outputs": [],
   "source": [
    "from random import sample\n",
    "import warnings\n",
    "\n",
    "import numpy as np\n",
    "from scipy.spatial.distance import squareform\n",
    "import pandas as pd\n",
    "from tqdm import tqdm\n",
    "import matplotlib.pyplot as plt\n",
    "import seaborn as sns\n",
    "\n",
    "import conf\n",
    "from entity import Gene"
   ]
  },
  {
   "cell_type": "markdown",
   "id": "1eac24b5",
   "metadata": {
    "papermill": {
     "duration": 0.006254,
     "end_time": "2022-06-16T17:01:04.985222",
     "exception": false,
     "start_time": "2022-06-16T17:01:04.978968",
     "status": "completed"
    },
    "tags": []
   },
   "source": [
    "# Settings"
   ]
  },
  {
   "cell_type": "code",
   "execution_count": 3,
   "id": "ca4560ba",
   "metadata": {
    "execution": {
     "iopub.execute_input": "2022-06-16T17:01:04.999372Z",
     "iopub.status.busy": "2022-06-16T17:01:04.998790Z",
     "iopub.status.idle": "2022-06-16T17:01:05.016125Z",
     "shell.execute_reply": "2022-06-16T17:01:05.015515Z"
    },
    "papermill": {
     "duration": 0.026119,
     "end_time": "2022-06-16T17:01:05.017718",
     "exception": false,
     "start_time": "2022-06-16T17:01:04.991599",
     "status": "completed"
    },
    "tags": [
     "parameters"
    ]
   },
   "outputs": [],
   "source": [
    "# reference panel\n",
    "REFERENCE_PANEL = \"GTEX_V8\"\n",
    "# REFERENCE_PANEL = \"1000G\"\n",
    "\n",
    "# prediction models\n",
    "## mashr\n",
    "EQTL_MODEL = \"MASHR\"\n",
    "EQTL_MODEL_FILES_PREFIX = \"mashr_\"\n",
    "\n",
    "# ## elastic net\n",
    "# EQTL_MODEL = \"ELASTIC_NET\"\n",
    "# EQTL_MODEL_FILES_PREFIX = \"en_\"\n",
    "\n",
    "# make it read the prefix from conf.py\n",
    "EQTL_MODEL_FILES_PREFIX = None\n",
    "\n",
    "# this is the default value used in S-MultiXcan to select the\n",
    "# top principal components of the expression correlation matrix\n",
    "SMULTIXCAN_CONDITION_NUMBER = 30\n",
    "\n",
    "# specifies a single chromosome value\n",
    "# by default, run on all chromosomes\n",
    "chromosome = None"
   ]
  },
  {
   "cell_type": "code",
   "execution_count": 4,
   "id": "8de23617",
   "metadata": {
    "execution": {
     "iopub.execute_input": "2022-06-16T17:01:05.031625Z",
     "iopub.status.busy": "2022-06-16T17:01:05.031079Z",
     "iopub.status.idle": "2022-06-16T17:01:05.047182Z",
     "shell.execute_reply": "2022-06-16T17:01:05.046570Z"
    },
    "papermill": {
     "duration": 0.024604,
     "end_time": "2022-06-16T17:01:05.048702",
     "exception": false,
     "start_time": "2022-06-16T17:01:05.024098",
     "status": "completed"
    },
    "tags": [
     "injected-parameters"
    ]
   },
   "outputs": [],
   "source": [
    "# Parameters\n",
    "chromosome = 18\n",
    "REFERENCE_PANEL = \"GTEX_V8\"\n",
    "EQTL_MODEL = \"MASHR\"\n"
   ]
  },
  {
   "cell_type": "code",
   "execution_count": 5,
   "id": "a089c9ff",
   "metadata": {
    "execution": {
     "iopub.execute_input": "2022-06-16T17:01:05.062092Z",
     "iopub.status.busy": "2022-06-16T17:01:05.061540Z",
     "iopub.status.idle": "2022-06-16T17:01:05.077446Z",
     "shell.execute_reply": "2022-06-16T17:01:05.076918Z"
    },
    "papermill": {
     "duration": 0.024101,
     "end_time": "2022-06-16T17:01:05.078906",
     "exception": false,
     "start_time": "2022-06-16T17:01:05.054805",
     "status": "completed"
    },
    "tags": []
   },
   "outputs": [],
   "source": [
    "if EQTL_MODEL_FILES_PREFIX is None:\n",
    "    EQTL_MODEL_FILES_PREFIX = conf.PHENOMEXCAN[\"PREDICTION_MODELS\"][\n",
    "        f\"{EQTL_MODEL}_PREFIX\"\n",
    "    ]"
   ]
  },
  {
   "cell_type": "code",
   "execution_count": 6,
   "id": "8fe24bef",
   "metadata": {
    "execution": {
     "iopub.execute_input": "2022-06-16T17:01:05.092278Z",
     "iopub.status.busy": "2022-06-16T17:01:05.091719Z",
     "iopub.status.idle": "2022-06-16T17:01:05.111106Z",
     "shell.execute_reply": "2022-06-16T17:01:05.110517Z"
    },
    "papermill": {
     "duration": 0.029827,
     "end_time": "2022-06-16T17:01:05.114749",
     "exception": false,
     "start_time": "2022-06-16T17:01:05.084922",
     "status": "completed"
    },
    "tags": []
   },
   "outputs": [
    {
     "data": {
      "text/plain": [
       "'Using eQTL model: MASHR / mashr_'"
      ]
     },
     "metadata": {},
     "output_type": "display_data"
    }
   ],
   "source": [
    "display(f\"Using eQTL model: {EQTL_MODEL} / {EQTL_MODEL_FILES_PREFIX}\")"
   ]
  },
  {
   "cell_type": "code",
   "execution_count": 7,
   "id": "0230ebcb-2c32-4b95-9292-d9a52038e70d",
   "metadata": {
    "execution": {
     "iopub.execute_input": "2022-06-16T17:01:05.128643Z",
     "iopub.status.busy": "2022-06-16T17:01:05.128088Z",
     "iopub.status.idle": "2022-06-16T17:01:05.143711Z",
     "shell.execute_reply": "2022-06-16T17:01:05.143137Z"
    },
    "papermill": {
     "duration": 0.023961,
     "end_time": "2022-06-16T17:01:05.145248",
     "exception": false,
     "start_time": "2022-06-16T17:01:05.121287",
     "status": "completed"
    },
    "tags": []
   },
   "outputs": [],
   "source": [
    "REFERENCE_PANEL_DIR = conf.PHENOMEXCAN[\"LD_BLOCKS\"][f\"{REFERENCE_PANEL}_GENOTYPE_DIR\"]"
   ]
  },
  {
   "cell_type": "code",
   "execution_count": 8,
   "id": "98c4a159-601d-4a22-a1ab-35bd451c25f9",
   "metadata": {
    "execution": {
     "iopub.execute_input": "2022-06-16T17:01:05.158659Z",
     "iopub.status.busy": "2022-06-16T17:01:05.158133Z",
     "iopub.status.idle": "2022-06-16T17:01:05.175744Z",
     "shell.execute_reply": "2022-06-16T17:01:05.175137Z"
    },
    "papermill": {
     "duration": 0.025835,
     "end_time": "2022-06-16T17:01:05.177233",
     "exception": false,
     "start_time": "2022-06-16T17:01:05.151398",
     "status": "completed"
    },
    "tags": []
   },
   "outputs": [
    {
     "data": {
      "text/plain": [
       "'Using reference panel folder: /opt/data/data/phenomexcan/ld_blocks/reference_panel_gtex_v8'"
      ]
     },
     "metadata": {},
     "output_type": "display_data"
    }
   ],
   "source": [
    "display(f\"Using reference panel folder: {str(REFERENCE_PANEL_DIR)}\")"
   ]
  },
  {
   "cell_type": "code",
   "execution_count": 9,
   "id": "396392dc-0340-4540-9b02-e182b833f909",
   "metadata": {
    "execution": {
     "iopub.execute_input": "2022-06-16T17:01:05.191081Z",
     "iopub.status.busy": "2022-06-16T17:01:05.190478Z",
     "iopub.status.idle": "2022-06-16T17:01:05.206463Z",
     "shell.execute_reply": "2022-06-16T17:01:05.205852Z"
    },
    "papermill": {
     "duration": 0.024712,
     "end_time": "2022-06-16T17:01:05.208247",
     "exception": false,
     "start_time": "2022-06-16T17:01:05.183535",
     "status": "completed"
    },
    "tags": []
   },
   "outputs": [],
   "source": [
    "OUTPUT_DIR_BASE = (\n",
    "    conf.PHENOMEXCAN[\"LD_BLOCKS\"][f\"GENE_CORRS_DIR\"]\n",
    "    / REFERENCE_PANEL.lower()\n",
    "    / EQTL_MODEL.lower()\n",
    ")\n",
    "OUTPUT_DIR_BASE.mkdir(parents=True, exist_ok=True)"
   ]
  },
  {
   "cell_type": "code",
   "execution_count": 10,
   "id": "8942c2d3-e53c-4d63-a0eb-b6fce0574d36",
   "metadata": {
    "execution": {
     "iopub.execute_input": "2022-06-16T17:01:05.221546Z",
     "iopub.status.busy": "2022-06-16T17:01:05.221359Z",
     "iopub.status.idle": "2022-06-16T17:01:05.237834Z",
     "shell.execute_reply": "2022-06-16T17:01:05.237310Z"
    },
    "papermill": {
     "duration": 0.024742,
     "end_time": "2022-06-16T17:01:05.239275",
     "exception": false,
     "start_time": "2022-06-16T17:01:05.214533",
     "status": "completed"
    },
    "tags": []
   },
   "outputs": [
    {
     "data": {
      "text/plain": [
       "'Using output dir base: /opt/data/data/phenomexcan/ld_blocks/gene_corrs/gtex_v8/mashr'"
      ]
     },
     "metadata": {},
     "output_type": "display_data"
    }
   ],
   "source": [
    "display(f\"Using output dir base: {OUTPUT_DIR_BASE}\")"
   ]
  },
  {
   "cell_type": "code",
   "execution_count": 11,
   "id": "408aa590",
   "metadata": {
    "execution": {
     "iopub.execute_input": "2022-06-16T17:01:05.265411Z",
     "iopub.status.busy": "2022-06-16T17:01:05.264975Z",
     "iopub.status.idle": "2022-06-16T17:01:05.280089Z",
     "shell.execute_reply": "2022-06-16T17:01:05.279491Z"
    },
    "papermill": {
     "duration": 0.035784,
     "end_time": "2022-06-16T17:01:05.281541",
     "exception": false,
     "start_time": "2022-06-16T17:01:05.245757",
     "status": "completed"
    },
    "tags": []
   },
   "outputs": [],
   "source": [
    "assert (\n",
    "    chromosome is not None\n",
    "), \"You have to select one chromosome (format: number between 1 and 22)\""
   ]
  },
  {
   "cell_type": "code",
   "execution_count": 12,
   "id": "c1c7dd06-80ff-453c-bcb7-0899edce75da",
   "metadata": {
    "execution": {
     "iopub.execute_input": "2022-06-16T17:01:05.295297Z",
     "iopub.status.busy": "2022-06-16T17:01:05.294771Z",
     "iopub.status.idle": "2022-06-16T17:01:05.310270Z",
     "shell.execute_reply": "2022-06-16T17:01:05.309680Z"
    },
    "papermill": {
     "duration": 0.024096,
     "end_time": "2022-06-16T17:01:05.311984",
     "exception": false,
     "start_time": "2022-06-16T17:01:05.287888",
     "status": "completed"
    },
    "tags": []
   },
   "outputs": [],
   "source": [
    "chromosome = str(chromosome)"
   ]
  },
  {
   "cell_type": "code",
   "execution_count": 13,
   "id": "bc17b84c-9c26-47a5-a3ab-7046e72f3ef4",
   "metadata": {
    "execution": {
     "iopub.execute_input": "2022-06-16T17:01:05.325492Z",
     "iopub.status.busy": "2022-06-16T17:01:05.325305Z",
     "iopub.status.idle": "2022-06-16T17:01:05.342718Z",
     "shell.execute_reply": "2022-06-16T17:01:05.342137Z"
    },
    "papermill": {
     "duration": 0.025786,
     "end_time": "2022-06-16T17:01:05.344199",
     "exception": false,
     "start_time": "2022-06-16T17:01:05.318413",
     "status": "completed"
    },
    "tags": []
   },
   "outputs": [
    {
     "data": {
      "text/plain": [
       "'Working on chromosome 18'"
      ]
     },
     "metadata": {},
     "output_type": "display_data"
    }
   ],
   "source": [
    "display(f\"Working on chromosome {chromosome}\")"
   ]
  },
  {
   "cell_type": "markdown",
   "id": "d2ba085e",
   "metadata": {
    "papermill": {
     "duration": 0.006398,
     "end_time": "2022-06-16T17:01:05.357249",
     "exception": false,
     "start_time": "2022-06-16T17:01:05.350851",
     "status": "completed"
    },
    "tags": []
   },
   "source": [
    "# Load data"
   ]
  },
  {
   "cell_type": "markdown",
   "id": "abcc4b3d",
   "metadata": {
    "papermill": {
     "duration": 0.006152,
     "end_time": "2022-06-16T17:01:05.369846",
     "exception": false,
     "start_time": "2022-06-16T17:01:05.363694",
     "status": "completed"
    },
    "tags": []
   },
   "source": [
    "## MultiPLIER Z"
   ]
  },
  {
   "cell_type": "code",
   "execution_count": 14,
   "id": "c48ef527",
   "metadata": {
    "execution": {
     "iopub.execute_input": "2022-06-16T17:01:05.383489Z",
     "iopub.status.busy": "2022-06-16T17:01:05.382873Z",
     "iopub.status.idle": "2022-06-16T17:01:05.427157Z",
     "shell.execute_reply": "2022-06-16T17:01:05.426547Z"
    },
    "papermill": {
     "duration": 0.052792,
     "end_time": "2022-06-16T17:01:05.428901",
     "exception": false,
     "start_time": "2022-06-16T17:01:05.376109",
     "status": "completed"
    },
    "tags": []
   },
   "outputs": [],
   "source": [
    "multiplier_z_genes = pd.read_pickle(\n",
    "    conf.MULTIPLIER[\"MODEL_Z_MATRIX_FILE\"]\n",
    ").index.tolist()"
   ]
  },
  {
   "cell_type": "code",
   "execution_count": 15,
   "id": "0a4ecbd9",
   "metadata": {
    "execution": {
     "iopub.execute_input": "2022-06-16T17:01:05.443918Z",
     "iopub.status.busy": "2022-06-16T17:01:05.443721Z",
     "iopub.status.idle": "2022-06-16T17:01:05.460984Z",
     "shell.execute_reply": "2022-06-16T17:01:05.460390Z"
    },
    "papermill": {
     "duration": 0.026712,
     "end_time": "2022-06-16T17:01:05.462720",
     "exception": false,
     "start_time": "2022-06-16T17:01:05.436008",
     "status": "completed"
    },
    "tags": []
   },
   "outputs": [
    {
     "data": {
      "text/plain": [
       "6750"
      ]
     },
     "execution_count": 15,
     "metadata": {},
     "output_type": "execute_result"
    }
   ],
   "source": [
    "len(multiplier_z_genes)"
   ]
  },
  {
   "cell_type": "code",
   "execution_count": 16,
   "id": "115e8864",
   "metadata": {
    "execution": {
     "iopub.execute_input": "2022-06-16T17:01:05.477272Z",
     "iopub.status.busy": "2022-06-16T17:01:05.477084Z",
     "iopub.status.idle": "2022-06-16T17:01:05.494841Z",
     "shell.execute_reply": "2022-06-16T17:01:05.494272Z"
    },
    "papermill": {
     "duration": 0.026531,
     "end_time": "2022-06-16T17:01:05.496278",
     "exception": false,
     "start_time": "2022-06-16T17:01:05.469747",
     "status": "completed"
    },
    "tags": []
   },
   "outputs": [
    {
     "data": {
      "text/plain": [
       "['GAS6',\n",
       " 'MMP14',\n",
       " 'DSP',\n",
       " 'MARCKSL1',\n",
       " 'SPARC',\n",
       " 'CTSD',\n",
       " 'EPAS1',\n",
       " 'PALLD',\n",
       " 'PHC2',\n",
       " 'LGALS3BP']"
      ]
     },
     "execution_count": 16,
     "metadata": {},
     "output_type": "execute_result"
    }
   ],
   "source": [
    "multiplier_z_genes[:10]"
   ]
  },
  {
   "cell_type": "markdown",
   "id": "7dcb8db7",
   "metadata": {
    "papermill": {
     "duration": 0.006594,
     "end_time": "2022-06-16T17:01:05.509738",
     "exception": false,
     "start_time": "2022-06-16T17:01:05.503144",
     "status": "completed"
    },
    "tags": []
   },
   "source": [
    "## Get gene objects"
   ]
  },
  {
   "cell_type": "code",
   "execution_count": 17,
   "id": "bb932812",
   "metadata": {
    "execution": {
     "iopub.execute_input": "2022-06-16T17:01:05.524209Z",
     "iopub.status.busy": "2022-06-16T17:01:05.523698Z",
     "iopub.status.idle": "2022-06-16T17:01:05.546977Z",
     "shell.execute_reply": "2022-06-16T17:01:05.546405Z"
    },
    "papermill": {
     "duration": 0.03194,
     "end_time": "2022-06-16T17:01:05.548405",
     "exception": false,
     "start_time": "2022-06-16T17:01:05.516465",
     "status": "completed"
    },
    "tags": []
   },
   "outputs": [],
   "source": [
    "multiplier_gene_obj = {\n",
    "    gene_name: Gene(name=gene_name)\n",
    "    for gene_name in multiplier_z_genes\n",
    "    if gene_name in Gene.GENE_NAME_TO_ID_MAP\n",
    "}"
   ]
  },
  {
   "cell_type": "code",
   "execution_count": 18,
   "id": "39533214",
   "metadata": {
    "execution": {
     "iopub.execute_input": "2022-06-16T17:01:05.571845Z",
     "iopub.status.busy": "2022-06-16T17:01:05.571339Z",
     "iopub.status.idle": "2022-06-16T17:01:05.606835Z",
     "shell.execute_reply": "2022-06-16T17:01:05.606135Z"
    },
    "papermill": {
     "duration": 0.044093,
     "end_time": "2022-06-16T17:01:05.608179",
     "exception": false,
     "start_time": "2022-06-16T17:01:05.564086",
     "status": "completed"
    },
    "tags": []
   },
   "outputs": [
    {
     "data": {
      "text/plain": [
       "6454"
      ]
     },
     "execution_count": 18,
     "metadata": {},
     "output_type": "execute_result"
    }
   ],
   "source": [
    "len(multiplier_gene_obj)"
   ]
  },
  {
   "cell_type": "code",
   "execution_count": 19,
   "id": "9a5d0b84",
   "metadata": {
    "execution": {
     "iopub.execute_input": "2022-06-16T17:01:05.622532Z",
     "iopub.status.busy": "2022-06-16T17:01:05.621933Z",
     "iopub.status.idle": "2022-06-16T17:01:05.639214Z",
     "shell.execute_reply": "2022-06-16T17:01:05.638595Z"
    },
    "papermill": {
     "duration": 0.026018,
     "end_time": "2022-06-16T17:01:05.640774",
     "exception": false,
     "start_time": "2022-06-16T17:01:05.614756",
     "status": "completed"
    },
    "tags": []
   },
   "outputs": [
    {
     "data": {
      "text/plain": [
       "'ENSG00000183087'"
      ]
     },
     "execution_count": 19,
     "metadata": {},
     "output_type": "execute_result"
    }
   ],
   "source": [
    "multiplier_gene_obj[\"GAS6\"].ensembl_id"
   ]
  },
  {
   "cell_type": "code",
   "execution_count": 20,
   "id": "e3ffabc7",
   "metadata": {
    "execution": {
     "iopub.execute_input": "2022-06-16T17:01:05.655448Z",
     "iopub.status.busy": "2022-06-16T17:01:05.655264Z",
     "iopub.status.idle": "2022-06-16T17:01:07.731238Z",
     "shell.execute_reply": "2022-06-16T17:01:07.730698Z"
    },
    "papermill": {
     "duration": 2.08512,
     "end_time": "2022-06-16T17:01:07.732782",
     "exception": false,
     "start_time": "2022-06-16T17:01:05.647662",
     "status": "completed"
    },
    "tags": []
   },
   "outputs": [],
   "source": [
    "_gene_obj = list(multiplier_gene_obj.values())\n",
    "\n",
    "genes_info = pd.DataFrame(\n",
    "    {\n",
    "        \"name\": [g.name for g in _gene_obj],\n",
    "        \"id\": [g.ensembl_id for g in _gene_obj],\n",
    "        \"chr\": [g.chromosome for g in _gene_obj],\n",
    "        \"band\": [g.band for g in _gene_obj],\n",
    "        \"start_position\": [g.get_attribute(\"start_position\") for g in _gene_obj],\n",
    "    }\n",
    ")"
   ]
  },
  {
   "cell_type": "code",
   "execution_count": 21,
   "id": "e23519b8",
   "metadata": {
    "execution": {
     "iopub.execute_input": "2022-06-16T17:01:07.756638Z",
     "iopub.status.busy": "2022-06-16T17:01:07.756233Z",
     "iopub.status.idle": "2022-06-16T17:01:07.772824Z",
     "shell.execute_reply": "2022-06-16T17:01:07.772256Z"
    },
    "papermill": {
     "duration": 0.034633,
     "end_time": "2022-06-16T17:01:07.774388",
     "exception": false,
     "start_time": "2022-06-16T17:01:07.739755",
     "status": "completed"
    },
    "tags": []
   },
   "outputs": [
    {
     "data": {
      "text/plain": [
       "(6454, 5)"
      ]
     },
     "execution_count": 21,
     "metadata": {},
     "output_type": "execute_result"
    }
   ],
   "source": [
    "genes_info.shape"
   ]
  },
  {
   "cell_type": "code",
   "execution_count": 22,
   "id": "0d71881c",
   "metadata": {
    "execution": {
     "iopub.execute_input": "2022-06-16T17:01:07.789098Z",
     "iopub.status.busy": "2022-06-16T17:01:07.788915Z",
     "iopub.status.idle": "2022-06-16T17:01:07.812155Z",
     "shell.execute_reply": "2022-06-16T17:01:07.811567Z"
    },
    "papermill": {
     "duration": 0.032422,
     "end_time": "2022-06-16T17:01:07.813754",
     "exception": false,
     "start_time": "2022-06-16T17:01:07.781332",
     "status": "completed"
    },
    "tags": []
   },
   "outputs": [
    {
     "data": {
      "text/html": [
       "<div>\n",
       "<style scoped>\n",
       "    .dataframe tbody tr th:only-of-type {\n",
       "        vertical-align: middle;\n",
       "    }\n",
       "\n",
       "    .dataframe tbody tr th {\n",
       "        vertical-align: top;\n",
       "    }\n",
       "\n",
       "    .dataframe thead th {\n",
       "        text-align: right;\n",
       "    }\n",
       "</style>\n",
       "<table border=\"1\" class=\"dataframe\">\n",
       "  <thead>\n",
       "    <tr style=\"text-align: right;\">\n",
       "      <th></th>\n",
       "      <th>name</th>\n",
       "      <th>id</th>\n",
       "      <th>chr</th>\n",
       "      <th>band</th>\n",
       "      <th>start_position</th>\n",
       "    </tr>\n",
       "  </thead>\n",
       "  <tbody>\n",
       "    <tr>\n",
       "      <th>0</th>\n",
       "      <td>GAS6</td>\n",
       "      <td>ENSG00000183087</td>\n",
       "      <td>13</td>\n",
       "      <td>13q34</td>\n",
       "      <td>113820549.0</td>\n",
       "    </tr>\n",
       "    <tr>\n",
       "      <th>1</th>\n",
       "      <td>MMP14</td>\n",
       "      <td>ENSG00000157227</td>\n",
       "      <td>14</td>\n",
       "      <td>14q11.2</td>\n",
       "      <td>22836560.0</td>\n",
       "    </tr>\n",
       "    <tr>\n",
       "      <th>2</th>\n",
       "      <td>DSP</td>\n",
       "      <td>ENSG00000096696</td>\n",
       "      <td>6</td>\n",
       "      <td>6p24.3</td>\n",
       "      <td>7541617.0</td>\n",
       "    </tr>\n",
       "    <tr>\n",
       "      <th>3</th>\n",
       "      <td>MARCKSL1</td>\n",
       "      <td>ENSG00000175130</td>\n",
       "      <td>1</td>\n",
       "      <td>1p35.1</td>\n",
       "      <td>32333839.0</td>\n",
       "    </tr>\n",
       "    <tr>\n",
       "      <th>4</th>\n",
       "      <td>SPARC</td>\n",
       "      <td>ENSG00000113140</td>\n",
       "      <td>5</td>\n",
       "      <td>5q33.1</td>\n",
       "      <td>151661096.0</td>\n",
       "    </tr>\n",
       "  </tbody>\n",
       "</table>\n",
       "</div>"
      ],
      "text/plain": [
       "       name               id chr     band  start_position\n",
       "0      GAS6  ENSG00000183087  13    13q34     113820549.0\n",
       "1     MMP14  ENSG00000157227  14  14q11.2      22836560.0\n",
       "2       DSP  ENSG00000096696   6   6p24.3       7541617.0\n",
       "3  MARCKSL1  ENSG00000175130   1   1p35.1      32333839.0\n",
       "4     SPARC  ENSG00000113140   5   5q33.1     151661096.0"
      ]
     },
     "execution_count": 22,
     "metadata": {},
     "output_type": "execute_result"
    }
   ],
   "source": [
    "genes_info.head()"
   ]
  },
  {
   "cell_type": "markdown",
   "id": "8c9dbb4a",
   "metadata": {
    "papermill": {
     "duration": 0.007105,
     "end_time": "2022-06-16T17:01:07.828307",
     "exception": false,
     "start_time": "2022-06-16T17:01:07.821202",
     "status": "completed"
    },
    "tags": []
   },
   "source": [
    "## Get tissues names"
   ]
  },
  {
   "cell_type": "code",
   "execution_count": 23,
   "id": "2bc52419",
   "metadata": {
    "execution": {
     "iopub.execute_input": "2022-06-16T17:01:07.852297Z",
     "iopub.status.busy": "2022-06-16T17:01:07.851895Z",
     "iopub.status.idle": "2022-06-16T17:01:07.872582Z",
     "shell.execute_reply": "2022-06-16T17:01:07.871904Z"
    },
    "papermill": {
     "duration": 0.038646,
     "end_time": "2022-06-16T17:01:07.874129",
     "exception": false,
     "start_time": "2022-06-16T17:01:07.835483",
     "status": "completed"
    },
    "tags": []
   },
   "outputs": [],
   "source": [
    "tissues = conf.PHENOMEXCAN[\"PREDICTION_MODELS\"][f\"{EQTL_MODEL}_TISSUES\"].split(\" \")"
   ]
  },
  {
   "cell_type": "code",
   "execution_count": 24,
   "id": "64b293a1",
   "metadata": {
    "execution": {
     "iopub.execute_input": "2022-06-16T17:01:07.891106Z",
     "iopub.status.busy": "2022-06-16T17:01:07.890913Z",
     "iopub.status.idle": "2022-06-16T17:01:07.910940Z",
     "shell.execute_reply": "2022-06-16T17:01:07.910384Z"
    },
    "papermill": {
     "duration": 0.030412,
     "end_time": "2022-06-16T17:01:07.912416",
     "exception": false,
     "start_time": "2022-06-16T17:01:07.882004",
     "status": "completed"
    },
    "tags": []
   },
   "outputs": [
    {
     "data": {
      "text/plain": [
       "['Skin_Not_Sun_Exposed_Suprapubic',\n",
       " 'Cells_EBV-transformed_lymphocytes',\n",
       " 'Brain_Frontal_Cortex_BA9',\n",
       " 'Kidney_Cortex',\n",
       " 'Brain_Substantia_nigra']"
      ]
     },
     "execution_count": 24,
     "metadata": {},
     "output_type": "execute_result"
    }
   ],
   "source": [
    "tissues[:5]"
   ]
  },
  {
   "cell_type": "code",
   "execution_count": 25,
   "id": "48a7202a",
   "metadata": {
    "execution": {
     "iopub.execute_input": "2022-06-16T17:01:07.929268Z",
     "iopub.status.busy": "2022-06-16T17:01:07.928719Z",
     "iopub.status.idle": "2022-06-16T17:01:07.944808Z",
     "shell.execute_reply": "2022-06-16T17:01:07.944234Z"
    },
    "papermill": {
     "duration": 0.025915,
     "end_time": "2022-06-16T17:01:07.946339",
     "exception": false,
     "start_time": "2022-06-16T17:01:07.920424",
     "status": "completed"
    },
    "tags": []
   },
   "outputs": [],
   "source": [
    "assert len(tissues) == 49"
   ]
  },
  {
   "cell_type": "markdown",
   "id": "c8d1038f",
   "metadata": {
    "papermill": {
     "duration": 0.007289,
     "end_time": "2022-06-16T17:01:07.961124",
     "exception": false,
     "start_time": "2022-06-16T17:01:07.953835",
     "status": "completed"
    },
    "tags": []
   },
   "source": [
    "# Test"
   ]
  },
  {
   "cell_type": "code",
   "execution_count": 26,
   "id": "64993abf",
   "metadata": {
    "execution": {
     "iopub.execute_input": "2022-06-16T17:01:07.976843Z",
     "iopub.status.busy": "2022-06-16T17:01:07.976344Z",
     "iopub.status.idle": "2022-06-16T17:01:08.001831Z",
     "shell.execute_reply": "2022-06-16T17:01:08.001308Z"
    },
    "papermill": {
     "duration": 0.034902,
     "end_time": "2022-06-16T17:01:08.003385",
     "exception": false,
     "start_time": "2022-06-16T17:01:07.968483",
     "status": "completed"
    },
    "tags": []
   },
   "outputs": [
    {
     "data": {
      "text/html": [
       "<div>\n",
       "<style scoped>\n",
       "    .dataframe tbody tr th:only-of-type {\n",
       "        vertical-align: middle;\n",
       "    }\n",
       "\n",
       "    .dataframe tbody tr th {\n",
       "        vertical-align: top;\n",
       "    }\n",
       "\n",
       "    .dataframe thead th {\n",
       "        text-align: right;\n",
       "    }\n",
       "</style>\n",
       "<table border=\"1\" class=\"dataframe\">\n",
       "  <thead>\n",
       "    <tr style=\"text-align: right;\">\n",
       "      <th></th>\n",
       "      <th>name</th>\n",
       "      <th>id</th>\n",
       "      <th>chr</th>\n",
       "      <th>band</th>\n",
       "      <th>start_position</th>\n",
       "    </tr>\n",
       "  </thead>\n",
       "  <tbody>\n",
       "    <tr>\n",
       "      <th>31</th>\n",
       "      <td>PPP4R1</td>\n",
       "      <td>ENSG00000154845</td>\n",
       "      <td>18</td>\n",
       "      <td>18p11.22</td>\n",
       "      <td>9546791.0</td>\n",
       "    </tr>\n",
       "    <tr>\n",
       "      <th>81</th>\n",
       "      <td>YES1</td>\n",
       "      <td>ENSG00000176105</td>\n",
       "      <td>18</td>\n",
       "      <td>18p11.32</td>\n",
       "      <td>721588.0</td>\n",
       "    </tr>\n",
       "    <tr>\n",
       "      <th>92</th>\n",
       "      <td>IMPA2</td>\n",
       "      <td>ENSG00000141401</td>\n",
       "      <td>18</td>\n",
       "      <td>18p11.21</td>\n",
       "      <td>11981025.0</td>\n",
       "    </tr>\n",
       "    <tr>\n",
       "      <th>103</th>\n",
       "      <td>CDH2</td>\n",
       "      <td>ENSG00000170558</td>\n",
       "      <td>18</td>\n",
       "      <td>18q12.1</td>\n",
       "      <td>27950966.0</td>\n",
       "    </tr>\n",
       "    <tr>\n",
       "      <th>287</th>\n",
       "      <td>EPB41L3</td>\n",
       "      <td>ENSG00000082397</td>\n",
       "      <td>18</td>\n",
       "      <td>18p11.31</td>\n",
       "      <td>5392381.0</td>\n",
       "    </tr>\n",
       "    <tr>\n",
       "      <th>...</th>\n",
       "      <td>...</td>\n",
       "      <td>...</td>\n",
       "      <td>...</td>\n",
       "      <td>...</td>\n",
       "      <td>...</td>\n",
       "    </tr>\n",
       "    <tr>\n",
       "      <th>5895</th>\n",
       "      <td>CNDP2</td>\n",
       "      <td>ENSG00000133313</td>\n",
       "      <td>18</td>\n",
       "      <td>18q22.3</td>\n",
       "      <td>74495816.0</td>\n",
       "    </tr>\n",
       "    <tr>\n",
       "      <th>6261</th>\n",
       "      <td>NDC80</td>\n",
       "      <td>ENSG00000080986</td>\n",
       "      <td>18</td>\n",
       "      <td>18p11.32</td>\n",
       "      <td>2571557.0</td>\n",
       "    </tr>\n",
       "    <tr>\n",
       "      <th>6293</th>\n",
       "      <td>TGIF1</td>\n",
       "      <td>ENSG00000177426</td>\n",
       "      <td>18</td>\n",
       "      <td>18p11.31</td>\n",
       "      <td>3411608.0</td>\n",
       "    </tr>\n",
       "    <tr>\n",
       "      <th>6317</th>\n",
       "      <td>MYO5B</td>\n",
       "      <td>ENSG00000167306</td>\n",
       "      <td>18</td>\n",
       "      <td>18q21.1</td>\n",
       "      <td>49822789.0</td>\n",
       "    </tr>\n",
       "    <tr>\n",
       "      <th>6409</th>\n",
       "      <td>SLC14A2</td>\n",
       "      <td>ENSG00000132874</td>\n",
       "      <td>18</td>\n",
       "      <td>18q12.3</td>\n",
       "      <td>45212995.0</td>\n",
       "    </tr>\n",
       "  </tbody>\n",
       "</table>\n",
       "<p>96 rows × 5 columns</p>\n",
       "</div>"
      ],
      "text/plain": [
       "         name               id chr      band  start_position\n",
       "31     PPP4R1  ENSG00000154845  18  18p11.22       9546791.0\n",
       "81       YES1  ENSG00000176105  18  18p11.32        721588.0\n",
       "92      IMPA2  ENSG00000141401  18  18p11.21      11981025.0\n",
       "103      CDH2  ENSG00000170558  18   18q12.1      27950966.0\n",
       "287   EPB41L3  ENSG00000082397  18  18p11.31       5392381.0\n",
       "...       ...              ...  ..       ...             ...\n",
       "5895    CNDP2  ENSG00000133313  18   18q22.3      74495816.0\n",
       "6261    NDC80  ENSG00000080986  18  18p11.32       2571557.0\n",
       "6293    TGIF1  ENSG00000177426  18  18p11.31       3411608.0\n",
       "6317    MYO5B  ENSG00000167306  18   18q21.1      49822789.0\n",
       "6409  SLC14A2  ENSG00000132874  18   18q12.3      45212995.0\n",
       "\n",
       "[96 rows x 5 columns]"
      ]
     },
     "metadata": {},
     "output_type": "display_data"
    }
   ],
   "source": [
    "chromosome_genes_info = genes_info[genes_info[\"chr\"] == chromosome]\n",
    "display(chromosome_genes_info)"
   ]
  },
  {
   "cell_type": "code",
   "execution_count": 27,
   "id": "d2e42726-7de6-46eb-acfc-6323eaa8fae6",
   "metadata": {
    "execution": {
     "iopub.execute_input": "2022-06-16T17:01:08.019771Z",
     "iopub.status.busy": "2022-06-16T17:01:08.019280Z",
     "iopub.status.idle": "2022-06-16T17:01:08.036245Z",
     "shell.execute_reply": "2022-06-16T17:01:08.035742Z"
    },
    "papermill": {
     "duration": 0.026581,
     "end_time": "2022-06-16T17:01:08.037700",
     "exception": false,
     "start_time": "2022-06-16T17:01:08.011119",
     "status": "completed"
    },
    "tags": []
   },
   "outputs": [
    {
     "data": {
      "text/plain": [
       "5"
      ]
     },
     "metadata": {},
     "output_type": "display_data"
    }
   ],
   "source": [
    "_gene_list_ids = sample(chromosome_genes_info[\"id\"].tolist(), 5)\n",
    "selected_chromosome_genes_obj = [Gene(ensembl_id=g_id) for g_id in _gene_list_ids]\n",
    "display(len(selected_chromosome_genes_obj))"
   ]
  },
  {
   "cell_type": "code",
   "execution_count": 28,
   "id": "1b355359",
   "metadata": {
    "execution": {
     "iopub.execute_input": "2022-06-16T17:01:08.054443Z",
     "iopub.status.busy": "2022-06-16T17:01:08.053930Z",
     "iopub.status.idle": "2022-06-16T17:01:12.906315Z",
     "shell.execute_reply": "2022-06-16T17:01:12.905641Z"
    },
    "papermill": {
     "duration": 4.862183,
     "end_time": "2022-06-16T17:01:12.907810",
     "exception": false,
     "start_time": "2022-06-16T17:01:08.045627",
     "status": "completed"
    },
    "tags": []
   },
   "outputs": [
    {
     "name": "stdout",
     "output_type": "stream",
     "text": [
      "SLC14A1 / PIK3C3: -0.12972736011130664\n",
      "SLC14A1 / CEP76: 0.0\n",
      "SLC14A1 / PARD6G: 0.0\n",
      "SLC14A1 / BCL2: 0.0\n",
      "PIK3C3 / CEP76: 0.0\n",
      "PIK3C3 / PARD6G: 0.0\n",
      "PIK3C3 / BCL2: 0.0\n",
      "CEP76 / PARD6G: 0.0\n",
      "CEP76 / BCL2: 0.0\n",
      "PARD6G / BCL2: 0.0\n"
     ]
    }
   ],
   "source": [
    "for gene_idx1 in range(0, len(selected_chromosome_genes_obj) - 1):\n",
    "    gene_obj1 = selected_chromosome_genes_obj[gene_idx1]\n",
    "\n",
    "    for gene_idx2 in range(gene_idx1 + 1, len(selected_chromosome_genes_obj)):\n",
    "        gene_obj2 = selected_chromosome_genes_obj[gene_idx2]\n",
    "\n",
    "        c = gene_obj1.get_ssm_correlation(\n",
    "            gene_obj2,\n",
    "        )\n",
    "\n",
    "        print(f\"{gene_obj1.name} / {gene_obj2.name}: {c}\")"
   ]
  },
  {
   "cell_type": "markdown",
   "id": "d3843e06",
   "metadata": {
    "papermill": {
     "duration": 0.01165,
     "end_time": "2022-06-16T17:01:12.927812",
     "exception": false,
     "start_time": "2022-06-16T17:01:12.916162",
     "status": "completed"
    },
    "tags": []
   },
   "source": [
    "# Compute correlation per chromosome"
   ]
  },
  {
   "cell_type": "code",
   "execution_count": 29,
   "id": "aa674fe4-6794-4eed-98fa-32b39d1d4ace",
   "metadata": {
    "execution": {
     "iopub.execute_input": "2022-06-16T17:01:12.943893Z",
     "iopub.status.busy": "2022-06-16T17:01:12.943710Z",
     "iopub.status.idle": "2022-06-16T17:01:12.959819Z",
     "shell.execute_reply": "2022-06-16T17:01:12.959251Z"
    },
    "papermill": {
     "duration": 0.025709,
     "end_time": "2022-06-16T17:01:12.961253",
     "exception": false,
     "start_time": "2022-06-16T17:01:12.935544",
     "status": "completed"
    },
    "tags": []
   },
   "outputs": [],
   "source": [
    "warnings.filterwarnings(\"error\")"
   ]
  },
  {
   "cell_type": "code",
   "execution_count": 30,
   "id": "cdbb90a1",
   "metadata": {
    "execution": {
     "iopub.execute_input": "2022-06-16T17:01:12.978125Z",
     "iopub.status.busy": "2022-06-16T17:01:12.977591Z",
     "iopub.status.idle": "2022-06-16T17:24:54.830592Z",
     "shell.execute_reply": "2022-06-16T17:24:54.830169Z"
    },
    "papermill": {
     "duration": 1421.863025,
     "end_time": "2022-06-16T17:24:54.832134",
     "exception": false,
     "start_time": "2022-06-16T17:01:12.969109",
     "status": "completed"
    },
    "tags": []
   },
   "outputs": [
    {
     "name": "stdout",
     "output_type": "stream",
     "text": [
      "Number of genes in chromosome: 96\n",
      "Chromosome 18\n",
      "Number of gene combinations: 4560\n"
     ]
    },
    {
     "name": "stderr",
     "output_type": "stream",
     "text": [
      "ENSG00000141759 / ENSG00000178184: 100%|████████████████████████| 4560/4560 [23:41<00:00,  3.21it/s]"
     ]
    },
    {
     "name": "stdout",
     "output_type": "stream",
     "text": [
      "Min/max values: -0.9792584058749738 / 0.49598531773874227\n"
     ]
    },
    {
     "name": "stderr",
     "output_type": "stream",
     "text": [
      "\n"
     ]
    },
    {
     "data": {
      "text/plain": [
       "PosixPath('/opt/data/data/phenomexcan/ld_blocks/gene_corrs/gtex_v8/mashr/by_chr/gene_corrs-chr18.pkl')"
      ]
     },
     "metadata": {},
     "output_type": "display_data"
    }
   ],
   "source": [
    "# standard checks\n",
    "all_chrs = genes_info[\"chr\"].dropna().unique()\n",
    "assert all_chrs.shape[0] == 22\n",
    "\n",
    "# select chromosome given by the user\n",
    "assert chromosome in all_chrs\n",
    "\n",
    "# run only on the chromosome specified\n",
    "all_chrs = [chromosome]\n",
    "genes_chr = genes_info[genes_info[\"chr\"] == chromosome]\n",
    "print(f\"Number of genes in chromosome: {genes_chr.shape[0]}\", flush=True)\n",
    "\n",
    "# For testing purposes\n",
    "# genes_chr = genes_chr.sample(n=20)\n",
    "\n",
    "# sort genes by starting position to make visualizations better later\n",
    "genes_chr = genes_chr.sort_values(\"start_position\")\n",
    "\n",
    "\n",
    "for chr_num in all_chrs:\n",
    "    print(f\"Chromosome {chr_num}\", flush=True)\n",
    "\n",
    "    # check if results exist\n",
    "    output_dir = OUTPUT_DIR_BASE / \"by_chr\"\n",
    "    output_file = output_dir / f\"gene_corrs-chr{chr_num}.pkl\"\n",
    "\n",
    "    if output_file.exists():\n",
    "        _tmp_data = pd.read_pickle(output_file)\n",
    "\n",
    "        if _tmp_data.shape[0] > 0:\n",
    "            print(\"Already run, stopping.\")\n",
    "            continue\n",
    "\n",
    "    gene_chr_objs = [Gene(ensembl_id=gene_id) for gene_id in genes_chr[\"id\"]]\n",
    "    gene_chr_ids = [g.ensembl_id for g in gene_chr_objs]\n",
    "\n",
    "    n = len(gene_chr_objs)\n",
    "    n_comb = int(n * (n - 1) / 2.0)\n",
    "    print(f\"Number of gene combinations: {n_comb}\", flush=True)\n",
    "\n",
    "    gene_corrs = []\n",
    "\n",
    "    pbar = tqdm(ncols=100, total=n_comb)\n",
    "    i = 0\n",
    "    for gene_idx1 in range(0, len(gene_chr_objs) - 1):\n",
    "        gene_obj1 = gene_chr_objs[gene_idx1]\n",
    "\n",
    "        for gene_idx2 in range(gene_idx1 + 1, len(gene_chr_objs)):\n",
    "            gene_obj2 = gene_chr_objs[gene_idx2]\n",
    "\n",
    "            pbar.set_description(f\"{gene_obj1.ensembl_id} / {gene_obj2.ensembl_id}\")\n",
    "\n",
    "            try:\n",
    "                # FIXME: compute the correlation of the sum of squares of the model using all\n",
    "                # the available tissues; this could be problematic because for some results\n",
    "                # (computed on a specific phenotype/GWAS) we might not have all the tissues\n",
    "                # available, which can certainly bias the correlation estimation.\n",
    "                # Since this depends on the GWAS on a specific phenotype, we should ideally have\n",
    "                # one correlation matrix per GWAS. I should look at how we can improve this.\n",
    "                gene_corrs.append(\n",
    "                    gene_obj1.get_ssm_correlation(\n",
    "                        other_gene=gene_obj2,\n",
    "                        condition_number=SMULTIXCAN_CONDITION_NUMBER,\n",
    "                        reference_panel=REFERENCE_PANEL,\n",
    "                        model_type=EQTL_MODEL,\n",
    "                    )\n",
    "                )\n",
    "            except Warning:\n",
    "                print(\n",
    "                    f\"RuntimeWarning for genes {gene_obj1.ensembl_id} and {gene_obj2.ensembl_id}\",\n",
    "                    flush=True,\n",
    "                )\n",
    "                import traceback\n",
    "\n",
    "                print(traceback.format_exc(), flush=True)\n",
    "            except Exception as e:\n",
    "                print(\n",
    "                    f\"Exception for genes {gene_obj1.ensembl_id} and {gene_obj2.ensembl_id}\",\n",
    "                    flush=True,\n",
    "                )\n",
    "                import traceback\n",
    "\n",
    "                print(traceback.format_exc(), flush=True)\n",
    "                gene_corrs.append(np.nan)\n",
    "\n",
    "            pbar.update(1)\n",
    "\n",
    "    pbar.close()\n",
    "\n",
    "    # testing\n",
    "    gene_corrs_flat = pd.Series(gene_corrs)\n",
    "    print(f\"Min/max values: {gene_corrs_flat.min()} / {gene_corrs_flat.max()}\")\n",
    "    assert gene_corrs_flat.min() >= -1.001\n",
    "    assert gene_corrs_flat.max() <= 1.001\n",
    "\n",
    "    # save\n",
    "    # FIXME: consider saving only the condenced matrix here. See here for\n",
    "    # more details: https://github.com/greenelab/phenoplier/pull/38#discussion_r634600813\n",
    "    gene_corrs_data = squareform(np.array(gene_corrs, dtype=np.float64))\n",
    "    np.fill_diagonal(gene_corrs_data, 1.0)\n",
    "\n",
    "    gene_corrs_df = pd.DataFrame(\n",
    "        data=gene_corrs_data,\n",
    "        index=gene_chr_ids,\n",
    "        columns=gene_chr_ids,\n",
    "    )\n",
    "\n",
    "    output_dir.mkdir(exist_ok=True, parents=True)\n",
    "    display(output_file)\n",
    "\n",
    "    gene_corrs_df.to_pickle(output_file)"
   ]
  },
  {
   "cell_type": "markdown",
   "id": "faa67b51-5373-470f-aa72-2ded53fa6dfe",
   "metadata": {
    "papermill": {
     "duration": 0.189499,
     "end_time": "2022-06-16T17:24:55.230280",
     "exception": false,
     "start_time": "2022-06-16T17:24:55.040781",
     "status": "completed"
    },
    "tags": []
   },
   "source": [
    "# Testing"
   ]
  },
  {
   "cell_type": "code",
   "execution_count": 31,
   "id": "14f7d046-4b55-4896-a56b-990127bcc388",
   "metadata": {
    "execution": {
     "iopub.execute_input": "2022-06-16T17:24:55.639479Z",
     "iopub.status.busy": "2022-06-16T17:24:55.639296Z",
     "iopub.status.idle": "2022-06-16T17:24:55.655621Z",
     "shell.execute_reply": "2022-06-16T17:24:55.655086Z"
    },
    "papermill": {
     "duration": 0.239751,
     "end_time": "2022-06-16T17:24:55.656855",
     "exception": false,
     "start_time": "2022-06-16T17:24:55.417104",
     "status": "completed"
    },
    "tags": []
   },
   "outputs": [
    {
     "data": {
      "text/plain": [
       "(96, 96)"
      ]
     },
     "execution_count": 31,
     "metadata": {},
     "output_type": "execute_result"
    }
   ],
   "source": [
    "gene_corrs_df.shape"
   ]
  },
  {
   "cell_type": "code",
   "execution_count": 32,
   "id": "c7d15414-3297-4537-a7c6-7588c0baeb75",
   "metadata": {
    "execution": {
     "iopub.execute_input": "2022-06-16T17:24:56.024159Z",
     "iopub.status.busy": "2022-06-16T17:24:56.023984Z",
     "iopub.status.idle": "2022-06-16T17:24:56.054716Z",
     "shell.execute_reply": "2022-06-16T17:24:56.054167Z"
    },
    "papermill": {
     "duration": 0.214124,
     "end_time": "2022-06-16T17:24:56.056030",
     "exception": false,
     "start_time": "2022-06-16T17:24:55.841906",
     "status": "completed"
    },
    "tags": []
   },
   "outputs": [
    {
     "data": {
      "text/html": [
       "<div>\n",
       "<style scoped>\n",
       "    .dataframe tbody tr th:only-of-type {\n",
       "        vertical-align: middle;\n",
       "    }\n",
       "\n",
       "    .dataframe tbody tr th {\n",
       "        vertical-align: top;\n",
       "    }\n",
       "\n",
       "    .dataframe thead th {\n",
       "        text-align: right;\n",
       "    }\n",
       "</style>\n",
       "<table border=\"1\" class=\"dataframe\">\n",
       "  <thead>\n",
       "    <tr style=\"text-align: right;\">\n",
       "      <th></th>\n",
       "      <th>ENSG00000079134</th>\n",
       "      <th>ENSG00000158270</th>\n",
       "      <th>ENSG00000176890</th>\n",
       "      <th>ENSG00000176105</th>\n",
       "      <th>ENSG00000080986</th>\n",
       "      <th>ENSG00000132205</th>\n",
       "      <th>ENSG00000101577</th>\n",
       "      <th>ENSG00000101608</th>\n",
       "      <th>ENSG00000118680</th>\n",
       "      <th>ENSG00000177426</th>\n",
       "      <th>...</th>\n",
       "      <th>ENSG00000166347</th>\n",
       "      <th>ENSG00000133313</th>\n",
       "      <th>ENSG00000166573</th>\n",
       "      <th>ENSG00000166377</th>\n",
       "      <th>ENSG00000131196</th>\n",
       "      <th>ENSG00000060069</th>\n",
       "      <th>ENSG00000178342</th>\n",
       "      <th>ENSG00000122490</th>\n",
       "      <th>ENSG00000141759</th>\n",
       "      <th>ENSG00000178184</th>\n",
       "    </tr>\n",
       "  </thead>\n",
       "  <tbody>\n",
       "    <tr>\n",
       "      <th>ENSG00000079134</th>\n",
       "      <td>1.000000</td>\n",
       "      <td>-0.001966</td>\n",
       "      <td>-0.057801</td>\n",
       "      <td>0.095837</td>\n",
       "      <td>0.002515</td>\n",
       "      <td>0.017029</td>\n",
       "      <td>-0.089917</td>\n",
       "      <td>0.069115</td>\n",
       "      <td>-0.107817</td>\n",
       "      <td>-0.007772</td>\n",
       "      <td>...</td>\n",
       "      <td>0.0</td>\n",
       "      <td>0.0</td>\n",
       "      <td>0.0</td>\n",
       "      <td>0.0</td>\n",
       "      <td>0.0</td>\n",
       "      <td>0.0</td>\n",
       "      <td>0.0</td>\n",
       "      <td>0.0</td>\n",
       "      <td>0.0</td>\n",
       "      <td>0.0</td>\n",
       "    </tr>\n",
       "    <tr>\n",
       "      <th>ENSG00000158270</th>\n",
       "      <td>-0.001966</td>\n",
       "      <td>1.000000</td>\n",
       "      <td>-0.035190</td>\n",
       "      <td>0.005575</td>\n",
       "      <td>-0.023892</td>\n",
       "      <td>-0.035183</td>\n",
       "      <td>-0.005395</td>\n",
       "      <td>0.016168</td>\n",
       "      <td>-0.074194</td>\n",
       "      <td>0.056955</td>\n",
       "      <td>...</td>\n",
       "      <td>0.0</td>\n",
       "      <td>0.0</td>\n",
       "      <td>0.0</td>\n",
       "      <td>0.0</td>\n",
       "      <td>0.0</td>\n",
       "      <td>0.0</td>\n",
       "      <td>0.0</td>\n",
       "      <td>0.0</td>\n",
       "      <td>0.0</td>\n",
       "      <td>0.0</td>\n",
       "    </tr>\n",
       "    <tr>\n",
       "      <th>ENSG00000176890</th>\n",
       "      <td>-0.057801</td>\n",
       "      <td>-0.035190</td>\n",
       "      <td>1.000000</td>\n",
       "      <td>0.174949</td>\n",
       "      <td>0.040534</td>\n",
       "      <td>0.076640</td>\n",
       "      <td>-0.022327</td>\n",
       "      <td>-0.032976</td>\n",
       "      <td>-0.045548</td>\n",
       "      <td>-0.075751</td>\n",
       "      <td>...</td>\n",
       "      <td>0.0</td>\n",
       "      <td>0.0</td>\n",
       "      <td>0.0</td>\n",
       "      <td>0.0</td>\n",
       "      <td>0.0</td>\n",
       "      <td>0.0</td>\n",
       "      <td>0.0</td>\n",
       "      <td>0.0</td>\n",
       "      <td>0.0</td>\n",
       "      <td>0.0</td>\n",
       "    </tr>\n",
       "    <tr>\n",
       "      <th>ENSG00000176105</th>\n",
       "      <td>0.095837</td>\n",
       "      <td>0.005575</td>\n",
       "      <td>0.174949</td>\n",
       "      <td>1.000000</td>\n",
       "      <td>0.056679</td>\n",
       "      <td>-0.024109</td>\n",
       "      <td>0.028034</td>\n",
       "      <td>0.151123</td>\n",
       "      <td>0.035062</td>\n",
       "      <td>0.103447</td>\n",
       "      <td>...</td>\n",
       "      <td>0.0</td>\n",
       "      <td>0.0</td>\n",
       "      <td>0.0</td>\n",
       "      <td>0.0</td>\n",
       "      <td>0.0</td>\n",
       "      <td>0.0</td>\n",
       "      <td>0.0</td>\n",
       "      <td>0.0</td>\n",
       "      <td>0.0</td>\n",
       "      <td>0.0</td>\n",
       "    </tr>\n",
       "    <tr>\n",
       "      <th>ENSG00000080986</th>\n",
       "      <td>0.002515</td>\n",
       "      <td>-0.023892</td>\n",
       "      <td>0.040534</td>\n",
       "      <td>0.056679</td>\n",
       "      <td>1.000000</td>\n",
       "      <td>-0.060662</td>\n",
       "      <td>0.034297</td>\n",
       "      <td>-0.040763</td>\n",
       "      <td>0.052347</td>\n",
       "      <td>-0.068280</td>\n",
       "      <td>...</td>\n",
       "      <td>0.0</td>\n",
       "      <td>0.0</td>\n",
       "      <td>0.0</td>\n",
       "      <td>0.0</td>\n",
       "      <td>0.0</td>\n",
       "      <td>0.0</td>\n",
       "      <td>0.0</td>\n",
       "      <td>0.0</td>\n",
       "      <td>0.0</td>\n",
       "      <td>0.0</td>\n",
       "    </tr>\n",
       "  </tbody>\n",
       "</table>\n",
       "<p>5 rows × 96 columns</p>\n",
       "</div>"
      ],
      "text/plain": [
       "                 ENSG00000079134  ENSG00000158270  ENSG00000176890  \\\n",
       "ENSG00000079134         1.000000        -0.001966        -0.057801   \n",
       "ENSG00000158270        -0.001966         1.000000        -0.035190   \n",
       "ENSG00000176890        -0.057801        -0.035190         1.000000   \n",
       "ENSG00000176105         0.095837         0.005575         0.174949   \n",
       "ENSG00000080986         0.002515        -0.023892         0.040534   \n",
       "\n",
       "                 ENSG00000176105  ENSG00000080986  ENSG00000132205  \\\n",
       "ENSG00000079134         0.095837         0.002515         0.017029   \n",
       "ENSG00000158270         0.005575        -0.023892        -0.035183   \n",
       "ENSG00000176890         0.174949         0.040534         0.076640   \n",
       "ENSG00000176105         1.000000         0.056679        -0.024109   \n",
       "ENSG00000080986         0.056679         1.000000        -0.060662   \n",
       "\n",
       "                 ENSG00000101577  ENSG00000101608  ENSG00000118680  \\\n",
       "ENSG00000079134        -0.089917         0.069115        -0.107817   \n",
       "ENSG00000158270        -0.005395         0.016168        -0.074194   \n",
       "ENSG00000176890        -0.022327        -0.032976        -0.045548   \n",
       "ENSG00000176105         0.028034         0.151123         0.035062   \n",
       "ENSG00000080986         0.034297        -0.040763         0.052347   \n",
       "\n",
       "                 ENSG00000177426  ...  ENSG00000166347  ENSG00000133313  \\\n",
       "ENSG00000079134        -0.007772  ...              0.0              0.0   \n",
       "ENSG00000158270         0.056955  ...              0.0              0.0   \n",
       "ENSG00000176890        -0.075751  ...              0.0              0.0   \n",
       "ENSG00000176105         0.103447  ...              0.0              0.0   \n",
       "ENSG00000080986        -0.068280  ...              0.0              0.0   \n",
       "\n",
       "                 ENSG00000166573  ENSG00000166377  ENSG00000131196  \\\n",
       "ENSG00000079134              0.0              0.0              0.0   \n",
       "ENSG00000158270              0.0              0.0              0.0   \n",
       "ENSG00000176890              0.0              0.0              0.0   \n",
       "ENSG00000176105              0.0              0.0              0.0   \n",
       "ENSG00000080986              0.0              0.0              0.0   \n",
       "\n",
       "                 ENSG00000060069  ENSG00000178342  ENSG00000122490  \\\n",
       "ENSG00000079134              0.0              0.0              0.0   \n",
       "ENSG00000158270              0.0              0.0              0.0   \n",
       "ENSG00000176890              0.0              0.0              0.0   \n",
       "ENSG00000176105              0.0              0.0              0.0   \n",
       "ENSG00000080986              0.0              0.0              0.0   \n",
       "\n",
       "                 ENSG00000141759  ENSG00000178184  \n",
       "ENSG00000079134              0.0              0.0  \n",
       "ENSG00000158270              0.0              0.0  \n",
       "ENSG00000176890              0.0              0.0  \n",
       "ENSG00000176105              0.0              0.0  \n",
       "ENSG00000080986              0.0              0.0  \n",
       "\n",
       "[5 rows x 96 columns]"
      ]
     },
     "execution_count": 32,
     "metadata": {},
     "output_type": "execute_result"
    }
   ],
   "source": [
    "gene_corrs_df.head()"
   ]
  },
  {
   "cell_type": "code",
   "execution_count": 33,
   "id": "00583efc-7068-4270-ad1e-4a418e91db96",
   "metadata": {
    "execution": {
     "iopub.execute_input": "2022-06-16T17:24:56.468028Z",
     "iopub.status.busy": "2022-06-16T17:24:56.467851Z",
     "iopub.status.idle": "2022-06-16T17:24:56.487220Z",
     "shell.execute_reply": "2022-06-16T17:24:56.486651Z"
    },
    "papermill": {
     "duration": 0.240723,
     "end_time": "2022-06-16T17:24:56.488649",
     "exception": false,
     "start_time": "2022-06-16T17:24:56.247926",
     "status": "completed"
    },
    "tags": []
   },
   "outputs": [
    {
     "data": {
      "text/plain": [
       "-0.9792584058749738"
      ]
     },
     "metadata": {},
     "output_type": "display_data"
    }
   ],
   "source": [
    "_min_val = gene_corrs_df.min().min()\n",
    "display(_min_val)\n",
    "assert _min_val >= -1.0"
   ]
  },
  {
   "cell_type": "code",
   "execution_count": 34,
   "id": "d04fb2cf-1050-475b-b855-f5f7cc04092b",
   "metadata": {
    "execution": {
     "iopub.execute_input": "2022-06-16T17:24:56.858169Z",
     "iopub.status.busy": "2022-06-16T17:24:56.857553Z",
     "iopub.status.idle": "2022-06-16T17:24:56.876658Z",
     "shell.execute_reply": "2022-06-16T17:24:56.876052Z"
    },
    "papermill": {
     "duration": 0.202996,
     "end_time": "2022-06-16T17:24:56.878141",
     "exception": false,
     "start_time": "2022-06-16T17:24:56.675145",
     "status": "completed"
    },
    "tags": []
   },
   "outputs": [
    {
     "data": {
      "text/plain": [
       "1.0"
      ]
     },
     "metadata": {},
     "output_type": "display_data"
    }
   ],
   "source": [
    "_max_val = gene_corrs_df.max().max()  # this captures the diagonal\n",
    "display(_max_val)\n",
    "assert _max_val <= 1.0"
   ]
  },
  {
   "cell_type": "code",
   "execution_count": 35,
   "id": "96d02c44-1fba-47be-8a93-8f2608420b9c",
   "metadata": {
    "execution": {
     "iopub.execute_input": "2022-06-16T17:24:57.259674Z",
     "iopub.status.busy": "2022-06-16T17:24:57.259457Z",
     "iopub.status.idle": "2022-06-16T17:24:57.275813Z",
     "shell.execute_reply": "2022-06-16T17:24:57.275253Z"
    },
    "papermill": {
     "duration": 0.214617,
     "end_time": "2022-06-16T17:24:57.277223",
     "exception": false,
     "start_time": "2022-06-16T17:24:57.062606",
     "status": "completed"
    },
    "tags": []
   },
   "outputs": [],
   "source": [
    "# check upper triangular values\n",
    "assert len(gene_corrs) == int(genes_chr.shape[0] * (genes_chr.shape[0] - 1) / 2)"
   ]
  },
  {
   "cell_type": "code",
   "execution_count": 36,
   "id": "aaa51627-f4e3-4744-a41f-7d25adcc0a78",
   "metadata": {
    "execution": {
     "iopub.execute_input": "2022-06-16T17:24:57.683465Z",
     "iopub.status.busy": "2022-06-16T17:24:57.683141Z",
     "iopub.status.idle": "2022-06-16T17:24:57.699828Z",
     "shell.execute_reply": "2022-06-16T17:24:57.699293Z"
    },
    "papermill": {
     "duration": 0.203209,
     "end_time": "2022-06-16T17:24:57.701276",
     "exception": false,
     "start_time": "2022-06-16T17:24:57.498067",
     "status": "completed"
    },
    "tags": []
   },
   "outputs": [],
   "source": [
    "gene_corrs = pd.Series(gene_corrs)"
   ]
  },
  {
   "cell_type": "code",
   "execution_count": 37,
   "id": "fe283586-c348-40e0-8841-f6d97bfb021c",
   "metadata": {
    "execution": {
     "iopub.execute_input": "2022-06-16T17:24:58.063096Z",
     "iopub.status.busy": "2022-06-16T17:24:58.062779Z",
     "iopub.status.idle": "2022-06-16T17:24:58.083716Z",
     "shell.execute_reply": "2022-06-16T17:24:58.083142Z"
    },
    "papermill": {
     "duration": 0.202387,
     "end_time": "2022-06-16T17:24:58.085155",
     "exception": false,
     "start_time": "2022-06-16T17:24:57.882768",
     "status": "completed"
    },
    "tags": []
   },
   "outputs": [
    {
     "data": {
      "text/plain": [
       "count    4560.000000\n",
       "mean       -0.000339\n",
       "std         0.040639\n",
       "min        -0.979258\n",
       "25%         0.000000\n",
       "50%         0.000000\n",
       "75%         0.000000\n",
       "max         0.495985\n",
       "dtype: float64"
      ]
     },
     "execution_count": 37,
     "metadata": {},
     "output_type": "execute_result"
    }
   ],
   "source": [
    "gene_corrs.describe()"
   ]
  },
  {
   "cell_type": "code",
   "execution_count": 38,
   "id": "b3815678-0f93-4b35-897b-a9d047a2aa78",
   "metadata": {
    "execution": {
     "iopub.execute_input": "2022-06-16T17:24:58.496644Z",
     "iopub.status.busy": "2022-06-16T17:24:58.496169Z",
     "iopub.status.idle": "2022-06-16T17:24:58.515629Z",
     "shell.execute_reply": "2022-06-16T17:24:58.515028Z"
    },
    "papermill": {
     "duration": 0.200777,
     "end_time": "2022-06-16T17:24:58.517062",
     "exception": false,
     "start_time": "2022-06-16T17:24:58.316285",
     "status": "completed"
    },
    "tags": []
   },
   "outputs": [
    {
     "data": {
      "text/plain": [
       "0.00   -0.979258\n",
       "0.05   -0.022400\n",
       "0.10    0.000000\n",
       "0.15    0.000000\n",
       "0.20    0.000000\n",
       "0.25    0.000000\n",
       "0.30    0.000000\n",
       "0.35    0.000000\n",
       "0.40    0.000000\n",
       "0.45    0.000000\n",
       "0.50    0.000000\n",
       "0.55    0.000000\n",
       "0.60    0.000000\n",
       "0.65    0.000000\n",
       "0.70    0.000000\n",
       "0.75    0.000000\n",
       "0.80    0.000000\n",
       "0.85    0.000000\n",
       "0.90    0.000000\n",
       "0.95    0.022438\n",
       "dtype: float64"
      ]
     },
     "metadata": {},
     "output_type": "display_data"
    }
   ],
   "source": [
    "gene_corrs_quantiles = gene_corrs.quantile(np.arange(0, 1, 0.05))\n",
    "display(gene_corrs_quantiles)"
   ]
  },
  {
   "cell_type": "markdown",
   "id": "8e60a080-edb2-4e9c-b2ef-22961693200c",
   "metadata": {
    "papermill": {
     "duration": 0.180159,
     "end_time": "2022-06-16T17:24:58.878396",
     "exception": false,
     "start_time": "2022-06-16T17:24:58.698237",
     "status": "completed"
    },
    "tags": []
   },
   "source": [
    "## Plot: distribution"
   ]
  },
  {
   "cell_type": "code",
   "execution_count": 39,
   "id": "8301126b-a7d4-4744-9c7d-f0f86eb6f54c",
   "metadata": {
    "execution": {
     "iopub.execute_input": "2022-06-16T17:24:59.292311Z",
     "iopub.status.busy": "2022-06-16T17:24:59.291992Z",
     "iopub.status.idle": "2022-06-16T17:24:59.542072Z",
     "shell.execute_reply": "2022-06-16T17:24:59.541516Z"
    },
    "papermill": {
     "duration": 0.446516,
     "end_time": "2022-06-16T17:24:59.543464",
     "exception": false,
     "start_time": "2022-06-16T17:24:59.096948",
     "status": "completed"
    },
    "tags": []
   },
   "outputs": [
    {
     "data": {
      "image/png": "[encoded data removed]",
      "text/plain": [
       "<Figure size 504x504 with 1 Axes>"
      ]
     },
     "metadata": {
      "needs_background": "light"
     },
     "output_type": "display_data"
    }
   ],
   "source": [
    "with sns.plotting_context(\"paper\", font_scale=1.5):\n",
    "    g = sns.displot(gene_corrs, kde=True, height=7)\n",
    "    g.ax.set_title(\n",
    "        f\"Distribution of gene correlation values in chromosome {chromosome}\"\n",
    "    )"
   ]
  },
  {
   "cell_type": "markdown",
   "id": "cbd52bca-d878-4a2f-b684-5c83aa3038d4",
   "metadata": {
    "papermill": {
     "duration": 0.180293,
     "end_time": "2022-06-16T17:24:59.903949",
     "exception": false,
     "start_time": "2022-06-16T17:24:59.723656",
     "status": "completed"
    },
    "tags": []
   },
   "source": [
    "## Plot: heatmap"
   ]
  },
  {
   "cell_type": "code",
   "execution_count": 40,
   "id": "d03fe63a-c7b2-4fb9-a53c-db362ce843c9",
   "metadata": {
    "execution": {
     "iopub.execute_input": "2022-06-16T17:25:00.312933Z",
     "iopub.status.busy": "2022-06-16T17:25:00.312752Z",
     "iopub.status.idle": "2022-06-16T17:25:00.331665Z",
     "shell.execute_reply": "2022-06-16T17:25:00.331153Z"
    },
    "papermill": {
     "duration": 0.248012,
     "end_time": "2022-06-16T17:25:00.333132",
     "exception": false,
     "start_time": "2022-06-16T17:25:00.085120",
     "status": "completed"
    },
    "tags": []
   },
   "outputs": [
    {
     "data": {
      "text/plain": [
       "'-0.05 / 0.05'"
      ]
     },
     "metadata": {},
     "output_type": "display_data"
    }
   ],
   "source": [
    "vmin_val = min(-0.05, gene_corrs_quantiles[0.10])\n",
    "vmax_val = max(0.05, gene_corrs_quantiles[0.90])\n",
    "display(f\"{vmin_val} / {vmax_val}\")"
   ]
  },
  {
   "cell_type": "code",
   "execution_count": 41,
   "id": "dc41b70b-5bcc-4d9e-9f33-a22c4a94dab5",
   "metadata": {
    "execution": {
     "iopub.execute_input": "2022-06-16T17:25:00.703019Z",
     "iopub.status.busy": "2022-06-16T17:25:00.702460Z",
     "iopub.status.idle": "2022-06-16T17:25:00.850452Z",
     "shell.execute_reply": "2022-06-16T17:25:00.849950Z"
    },
    "papermill": {
     "duration": 0.334166,
     "end_time": "2022-06-16T17:25:00.851999",
     "exception": false,
     "start_time": "2022-06-16T17:25:00.517833",
     "status": "completed"
    },
    "tags": []
   },
   "outputs": [
    {
     "data": {
      "text/plain": [
       "Text(0.5, 1.0, 'Gene correlations in chromosome 18')"
      ]
     },
     "execution_count": 41,
     "metadata": {},
     "output_type": "execute_result"
    },
    {
     "data": {
      "image/png": "[encoded data removed]",
      "text/plain": [
       "<Figure size 720x720 with 2 Axes>"
      ]
     },
     "metadata": {
      "needs_background": "light"
     },
     "output_type": "display_data"
    }
   ],
   "source": [
    "f, ax = plt.subplots(figsize=(10, 10))\n",
    "sns.heatmap(\n",
    "    gene_corrs_df,\n",
    "    xticklabels=False,\n",
    "    yticklabels=False,\n",
    "    square=True,\n",
    "    vmin=vmin_val,\n",
    "    vmax=vmax_val,\n",
    "    cmap=\"YlGnBu\",\n",
    "    ax=ax,\n",
    ")\n",
    "ax.set_title(f\"Gene correlations in chromosome {chromosome}\")"
   ]
  },
  {
   "cell_type": "code",
   "execution_count": null,
   "id": "b25e3ead",
   "metadata": {
    "papermill": {
     "duration": 0.225553,
     "end_time": "2022-06-16T17:25:01.259623",
     "exception": false,
     "start_time": "2022-06-16T17:25:01.034070",
     "status": "completed"
    },
    "tags": []
   },
   "outputs": [],
   "source": []
  }
 ],
 "metadata": {
  "jupytext": {
   "cell_metadata_filter": "all,-execution,-papermill,-trusted",
   "formats": "ipynb,py//py:percent"
  },
  "kernelspec": {
   "display_name": "Python 3 (ipykernel)",
   "language": "python",
   "name": "python3"
  },
  "language_info": {
   "codemirror_mode": {
    "name": "ipython",
    "version": 3
   },
   "file_extension": ".py",
   "mimetype": "text/x-python",
   "name": "python",
   "nbconvert_exporter": "python",
   "pygments_lexer": "ipython3",
   "version": "3.8.13"
  },
  "papermill": {
   "default_parameters": {},
   "duration": 1441.919112,
   "end_time": "2022-06-16T17:25:04.518715",
   "environment_variables": {},
   "exception": null,
   "input_path": "nbs/15_gsa_gls/10-gene_expr_correlations.ipynb",
   "output_path": "nbs/15_gsa_gls/gene_corrs/gtex_v8/mashr/10-gene_expr_correlations-chr18.run.ipynb",
   "parameters": {
    "EQTL_MODEL": "MASHR",
    "REFERENCE_PANEL": "GTEX_V8",
    "chromosome": 18
   },
   "start_time": "2022-06-16T17:01:02.599603",
   "version": "2.2.2"
  }
 },
 "nbformat": 4,
 "nbformat_minor": 5
}
