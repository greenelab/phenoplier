{
 "cells": [
  {
   "cell_type": "markdown",
   "id": "7a6632fb",
   "metadata": {
    "papermill": {
     "duration": 0.006132,
     "end_time": "2022-06-16T10:24:17.517692",
     "exception": false,
     "start_time": "2022-06-16T10:24:17.511560",
     "status": "completed"
    },
    "tags": []
   },
   "source": [
    "# Description"
   ]
  },
  {
   "cell_type": "markdown",
   "id": "7097c346",
   "metadata": {
    "papermill": {
     "duration": 0.005416,
     "end_time": "2022-06-16T10:24:17.528720",
     "exception": false,
     "start_time": "2022-06-16T10:24:17.523304",
     "status": "completed"
    },
    "tags": []
   },
   "source": [
    "(Please, take a look at the README.md file in this directory for instructions on how to run this notebook)\n",
    "\n",
    "This notebook computes predicted expression correlations between all genes in the MultiPLIER models.\n",
    "\n",
    "It also has a parameter set for papermill to run on a single chromosome to run in parallel (see under `Settings` below).\n",
    "\n",
    "This notebook is not directly run. See README.md."
   ]
  },
  {
   "cell_type": "markdown",
   "id": "c61d8427",
   "metadata": {
    "papermill": {
     "duration": 0.005412,
     "end_time": "2022-06-16T10:24:17.539816",
     "exception": false,
     "start_time": "2022-06-16T10:24:17.534404",
     "status": "completed"
    },
    "tags": []
   },
   "source": [
    "# Modules"
   ]
  },
  {
   "cell_type": "code",
   "execution_count": 1,
   "id": "bbc0234f",
   "metadata": {
    "execution": {
     "iopub.execute_input": "2022-06-16T10:24:17.566314Z",
     "iopub.status.busy": "2022-06-16T10:24:17.565948Z",
     "iopub.status.idle": "2022-06-16T10:24:17.588144Z",
     "shell.execute_reply": "2022-06-16T10:24:17.587579Z"
    },
    "papermill": {
     "duration": 0.030227,
     "end_time": "2022-06-16T10:24:17.589773",
     "exception": false,
     "start_time": "2022-06-16T10:24:17.559546",
     "status": "completed"
    },
    "tags": []
   },
   "outputs": [],
   "source": [
    "%load_ext autoreload\n",
    "%autoreload 2"
   ]
  },
  {
   "cell_type": "code",
   "execution_count": 2,
   "id": "1d5f5a59",
   "metadata": {
    "execution": {
     "iopub.execute_input": "2022-06-16T10:24:17.603250Z",
     "iopub.status.busy": "2022-06-16T10:24:17.602758Z",
     "iopub.status.idle": "2022-06-16T10:24:18.627911Z",
     "shell.execute_reply": "2022-06-16T10:24:18.627409Z"
    },
    "papermill": {
     "duration": 1.033756,
     "end_time": "2022-06-16T10:24:18.629456",
     "exception": false,
     "start_time": "2022-06-16T10:24:17.595700",
     "status": "completed"
    },
    "tags": []
   },
   "outputs": [],
   "source": [
    "from random import sample\n",
    "import warnings\n",
    "\n",
    "import numpy as np\n",
    "from scipy.spatial.distance import squareform\n",
    "import pandas as pd\n",
    "from tqdm import tqdm\n",
    "import matplotlib.pyplot as plt\n",
    "import seaborn as sns\n",
    "\n",
    "import conf\n",
    "from entity import Gene"
   ]
  },
  {
   "cell_type": "markdown",
   "id": "1eac24b5",
   "metadata": {
    "papermill": {
     "duration": 0.006275,
     "end_time": "2022-06-16T10:24:18.672358",
     "exception": false,
     "start_time": "2022-06-16T10:24:18.666083",
     "status": "completed"
    },
    "tags": []
   },
   "source": [
    "# Settings"
   ]
  },
  {
   "cell_type": "code",
   "execution_count": 3,
   "id": "ca4560ba",
   "metadata": {
    "execution": {
     "iopub.execute_input": "2022-06-16T10:24:18.686955Z",
     "iopub.status.busy": "2022-06-16T10:24:18.686396Z",
     "iopub.status.idle": "2022-06-16T10:24:18.704190Z",
     "shell.execute_reply": "2022-06-16T10:24:18.703573Z"
    },
    "papermill": {
     "duration": 0.02696,
     "end_time": "2022-06-16T10:24:18.705947",
     "exception": false,
     "start_time": "2022-06-16T10:24:18.678987",
     "status": "completed"
    },
    "tags": [
     "parameters"
    ]
   },
   "outputs": [],
   "source": [
    "# reference panel\n",
    "REFERENCE_PANEL = \"GTEX_V8\"\n",
    "# REFERENCE_PANEL = \"1000G\"\n",
    "\n",
    "# prediction models\n",
    "## mashr\n",
    "EQTL_MODEL = \"MASHR\"\n",
    "EQTL_MODEL_FILES_PREFIX = \"mashr_\"\n",
    "\n",
    "# ## elastic net\n",
    "# EQTL_MODEL = \"ELASTIC_NET\"\n",
    "# EQTL_MODEL_FILES_PREFIX = \"en_\"\n",
    "\n",
    "# make it read the prefix from conf.py\n",
    "EQTL_MODEL_FILES_PREFIX = None\n",
    "\n",
    "# this is the default value used in S-MultiXcan to select the\n",
    "# top principal components of the expression correlation matrix\n",
    "SMULTIXCAN_CONDITION_NUMBER = 30\n",
    "\n",
    "# specifies a single chromosome value\n",
    "# by default, run on all chromosomes\n",
    "chromosome = None"
   ]
  },
  {
   "cell_type": "code",
   "execution_count": 4,
   "id": "ba23e3f8",
   "metadata": {
    "execution": {
     "iopub.execute_input": "2022-06-16T10:24:18.720244Z",
     "iopub.status.busy": "2022-06-16T10:24:18.719677Z",
     "iopub.status.idle": "2022-06-16T10:24:18.736404Z",
     "shell.execute_reply": "2022-06-16T10:24:18.735772Z"
    },
    "papermill": {
     "duration": 0.025667,
     "end_time": "2022-06-16T10:24:18.738084",
     "exception": false,
     "start_time": "2022-06-16T10:24:18.712417",
     "status": "completed"
    },
    "tags": [
     "injected-parameters"
    ]
   },
   "outputs": [],
   "source": [
    "# Parameters\n",
    "chromosome = 12\n",
    "REFERENCE_PANEL = \"GTEX_V8\"\n",
    "EQTL_MODEL = \"MASHR\"\n"
   ]
  },
  {
   "cell_type": "code",
   "execution_count": 5,
   "id": "a089c9ff",
   "metadata": {
    "execution": {
     "iopub.execute_input": "2022-06-16T10:24:18.752068Z",
     "iopub.status.busy": "2022-06-16T10:24:18.751517Z",
     "iopub.status.idle": "2022-06-16T10:24:18.768153Z",
     "shell.execute_reply": "2022-06-16T10:24:18.767556Z"
    },
    "papermill": {
     "duration": 0.025508,
     "end_time": "2022-06-16T10:24:18.769944",
     "exception": false,
     "start_time": "2022-06-16T10:24:18.744436",
     "status": "completed"
    },
    "tags": []
   },
   "outputs": [],
   "source": [
    "if EQTL_MODEL_FILES_PREFIX is None:\n",
    "    EQTL_MODEL_FILES_PREFIX = conf.PHENOMEXCAN[\"PREDICTION_MODELS\"][\n",
    "        f\"{EQTL_MODEL}_PREFIX\"\n",
    "    ]"
   ]
  },
  {
   "cell_type": "code",
   "execution_count": 6,
   "id": "8fe24bef",
   "metadata": {
    "execution": {
     "iopub.execute_input": "2022-06-16T10:24:18.783639Z",
     "iopub.status.busy": "2022-06-16T10:24:18.783433Z",
     "iopub.status.idle": "2022-06-16T10:24:18.802429Z",
     "shell.execute_reply": "2022-06-16T10:24:18.801899Z"
    },
    "papermill": {
     "duration": 0.027902,
     "end_time": "2022-06-16T10:24:18.804293",
     "exception": false,
     "start_time": "2022-06-16T10:24:18.776391",
     "status": "completed"
    },
    "tags": []
   },
   "outputs": [
    {
     "data": {
      "text/plain": [
       "'Using eQTL model: MASHR / mashr_'"
      ]
     },
     "metadata": {},
     "output_type": "display_data"
    }
   ],
   "source": [
    "display(f\"Using eQTL model: {EQTL_MODEL} / {EQTL_MODEL_FILES_PREFIX}\")"
   ]
  },
  {
   "cell_type": "code",
   "execution_count": 7,
   "id": "0230ebcb-2c32-4b95-9292-d9a52038e70d",
   "metadata": {
    "execution": {
     "iopub.execute_input": "2022-06-16T10:24:18.818454Z",
     "iopub.status.busy": "2022-06-16T10:24:18.817943Z",
     "iopub.status.idle": "2022-06-16T10:24:18.834263Z",
     "shell.execute_reply": "2022-06-16T10:24:18.833632Z"
    },
    "papermill": {
     "duration": 0.024969,
     "end_time": "2022-06-16T10:24:18.835795",
     "exception": false,
     "start_time": "2022-06-16T10:24:18.810826",
     "status": "completed"
    },
    "tags": []
   },
   "outputs": [],
   "source": [
    "REFERENCE_PANEL_DIR = conf.PHENOMEXCAN[\"LD_BLOCKS\"][f\"{REFERENCE_PANEL}_GENOTYPE_DIR\"]"
   ]
  },
  {
   "cell_type": "code",
   "execution_count": 8,
   "id": "98c4a159-601d-4a22-a1ab-35bd451c25f9",
   "metadata": {
    "execution": {
     "iopub.execute_input": "2022-06-16T10:24:18.849738Z",
     "iopub.status.busy": "2022-06-16T10:24:18.849221Z",
     "iopub.status.idle": "2022-06-16T10:24:18.867203Z",
     "shell.execute_reply": "2022-06-16T10:24:18.866579Z"
    },
    "papermill": {
     "duration": 0.026545,
     "end_time": "2022-06-16T10:24:18.868751",
     "exception": false,
     "start_time": "2022-06-16T10:24:18.842206",
     "status": "completed"
    },
    "tags": []
   },
   "outputs": [
    {
     "data": {
      "text/plain": [
       "'Using reference panel folder: /opt/data/data/phenomexcan/ld_blocks/reference_panel_gtex_v8'"
      ]
     },
     "metadata": {},
     "output_type": "display_data"
    }
   ],
   "source": [
    "display(f\"Using reference panel folder: {str(REFERENCE_PANEL_DIR)}\")"
   ]
  },
  {
   "cell_type": "code",
   "execution_count": 9,
   "id": "396392dc-0340-4540-9b02-e182b833f909",
   "metadata": {
    "execution": {
     "iopub.execute_input": "2022-06-16T10:24:18.882863Z",
     "iopub.status.busy": "2022-06-16T10:24:18.882434Z",
     "iopub.status.idle": "2022-06-16T10:24:18.899199Z",
     "shell.execute_reply": "2022-06-16T10:24:18.898624Z"
    },
    "papermill": {
     "duration": 0.025388,
     "end_time": "2022-06-16T10:24:18.900631",
     "exception": false,
     "start_time": "2022-06-16T10:24:18.875243",
     "status": "completed"
    },
    "tags": []
   },
   "outputs": [],
   "source": [
    "OUTPUT_DIR_BASE = (\n",
    "    conf.PHENOMEXCAN[\"LD_BLOCKS\"][f\"GENE_CORRS_DIR\"]\n",
    "    / REFERENCE_PANEL.lower()\n",
    "    / EQTL_MODEL.lower()\n",
    ")\n",
    "OUTPUT_DIR_BASE.mkdir(parents=True, exist_ok=True)"
   ]
  },
  {
   "cell_type": "code",
   "execution_count": 10,
   "id": "8942c2d3-e53c-4d63-a0eb-b6fce0574d36",
   "metadata": {
    "execution": {
     "iopub.execute_input": "2022-06-16T10:24:18.914917Z",
     "iopub.status.busy": "2022-06-16T10:24:18.914418Z",
     "iopub.status.idle": "2022-06-16T10:24:18.932440Z",
     "shell.execute_reply": "2022-06-16T10:24:18.931812Z"
    },
    "papermill": {
     "duration": 0.026781,
     "end_time": "2022-06-16T10:24:18.934059",
     "exception": false,
     "start_time": "2022-06-16T10:24:18.907278",
     "status": "completed"
    },
    "tags": []
   },
   "outputs": [
    {
     "data": {
      "text/plain": [
       "'Using output dir base: /opt/data/data/phenomexcan/ld_blocks/gene_corrs/gtex_v8/mashr'"
      ]
     },
     "metadata": {},
     "output_type": "display_data"
    }
   ],
   "source": [
    "display(f\"Using output dir base: {OUTPUT_DIR_BASE}\")"
   ]
  },
  {
   "cell_type": "code",
   "execution_count": 11,
   "id": "408aa590",
   "metadata": {
    "execution": {
     "iopub.execute_input": "2022-06-16T10:24:18.948786Z",
     "iopub.status.busy": "2022-06-16T10:24:18.948181Z",
     "iopub.status.idle": "2022-06-16T10:24:18.964259Z",
     "shell.execute_reply": "2022-06-16T10:24:18.963676Z"
    },
    "papermill": {
     "duration": 0.025281,
     "end_time": "2022-06-16T10:24:18.966073",
     "exception": false,
     "start_time": "2022-06-16T10:24:18.940792",
     "status": "completed"
    },
    "tags": []
   },
   "outputs": [],
   "source": [
    "assert (\n",
    "    chromosome is not None\n",
    "), \"You have to select one chromosome (format: number between 1 and 22)\""
   ]
  },
  {
   "cell_type": "code",
   "execution_count": 12,
   "id": "c1c7dd06-80ff-453c-bcb7-0899edce75da",
   "metadata": {
    "execution": {
     "iopub.execute_input": "2022-06-16T10:24:18.980195Z",
     "iopub.status.busy": "2022-06-16T10:24:18.980013Z",
     "iopub.status.idle": "2022-06-16T10:24:18.996352Z",
     "shell.execute_reply": "2022-06-16T10:24:18.995738Z"
    },
    "papermill": {
     "duration": 0.025236,
     "end_time": "2022-06-16T10:24:18.998022",
     "exception": false,
     "start_time": "2022-06-16T10:24:18.972786",
     "status": "completed"
    },
    "tags": []
   },
   "outputs": [],
   "source": [
    "chromosome = str(chromosome)"
   ]
  },
  {
   "cell_type": "code",
   "execution_count": 13,
   "id": "bc17b84c-9c26-47a5-a3ab-7046e72f3ef4",
   "metadata": {
    "execution": {
     "iopub.execute_input": "2022-06-16T10:24:19.012884Z",
     "iopub.status.busy": "2022-06-16T10:24:19.012416Z",
     "iopub.status.idle": "2022-06-16T10:24:19.030810Z",
     "shell.execute_reply": "2022-06-16T10:24:19.030179Z"
    },
    "papermill": {
     "duration": 0.027513,
     "end_time": "2022-06-16T10:24:19.032430",
     "exception": false,
     "start_time": "2022-06-16T10:24:19.004917",
     "status": "completed"
    },
    "tags": []
   },
   "outputs": [
    {
     "data": {
      "text/plain": [
       "'Working on chromosome 12'"
      ]
     },
     "metadata": {},
     "output_type": "display_data"
    }
   ],
   "source": [
    "display(f\"Working on chromosome {chromosome}\")"
   ]
  },
  {
   "cell_type": "markdown",
   "id": "d2ba085e",
   "metadata": {
    "papermill": {
     "duration": 0.00664,
     "end_time": "2022-06-16T10:24:19.046020",
     "exception": false,
     "start_time": "2022-06-16T10:24:19.039380",
     "status": "completed"
    },
    "tags": []
   },
   "source": [
    "# Load data"
   ]
  },
  {
   "cell_type": "markdown",
   "id": "abcc4b3d",
   "metadata": {
    "papermill": {
     "duration": 0.006406,
     "end_time": "2022-06-16T10:24:19.059105",
     "exception": false,
     "start_time": "2022-06-16T10:24:19.052699",
     "status": "completed"
    },
    "tags": []
   },
   "source": [
    "## MultiPLIER Z"
   ]
  },
  {
   "cell_type": "code",
   "execution_count": 14,
   "id": "c48ef527",
   "metadata": {
    "execution": {
     "iopub.execute_input": "2022-06-16T10:24:19.075581Z",
     "iopub.status.busy": "2022-06-16T10:24:19.075077Z",
     "iopub.status.idle": "2022-06-16T10:24:19.120043Z",
     "shell.execute_reply": "2022-06-16T10:24:19.119393Z"
    },
    "papermill": {
     "duration": 0.053887,
     "end_time": "2022-06-16T10:24:19.121643",
     "exception": false,
     "start_time": "2022-06-16T10:24:19.067756",
     "status": "completed"
    },
    "tags": []
   },
   "outputs": [],
   "source": [
    "multiplier_z_genes = pd.read_pickle(\n",
    "    conf.MULTIPLIER[\"MODEL_Z_MATRIX_FILE\"]\n",
    ").index.tolist()"
   ]
  },
  {
   "cell_type": "code",
   "execution_count": 15,
   "id": "0a4ecbd9",
   "metadata": {
    "execution": {
     "iopub.execute_input": "2022-06-16T10:24:19.137079Z",
     "iopub.status.busy": "2022-06-16T10:24:19.136480Z",
     "iopub.status.idle": "2022-06-16T10:24:19.155245Z",
     "shell.execute_reply": "2022-06-16T10:24:19.154618Z"
    },
    "papermill": {
     "duration": 0.028048,
     "end_time": "2022-06-16T10:24:19.156757",
     "exception": false,
     "start_time": "2022-06-16T10:24:19.128709",
     "status": "completed"
    },
    "tags": []
   },
   "outputs": [
    {
     "data": {
      "text/plain": [
       "6750"
      ]
     },
     "execution_count": 15,
     "metadata": {},
     "output_type": "execute_result"
    }
   ],
   "source": [
    "len(multiplier_z_genes)"
   ]
  },
  {
   "cell_type": "code",
   "execution_count": 16,
   "id": "115e8864",
   "metadata": {
    "execution": {
     "iopub.execute_input": "2022-06-16T10:24:19.171776Z",
     "iopub.status.busy": "2022-06-16T10:24:19.171591Z",
     "iopub.status.idle": "2022-06-16T10:24:19.189886Z",
     "shell.execute_reply": "2022-06-16T10:24:19.189264Z"
    },
    "papermill": {
     "duration": 0.027633,
     "end_time": "2022-06-16T10:24:19.191439",
     "exception": false,
     "start_time": "2022-06-16T10:24:19.163806",
     "status": "completed"
    },
    "tags": []
   },
   "outputs": [
    {
     "data": {
      "text/plain": [
       "['GAS6',\n",
       " 'MMP14',\n",
       " 'DSP',\n",
       " 'MARCKSL1',\n",
       " 'SPARC',\n",
       " 'CTSD',\n",
       " 'EPAS1',\n",
       " 'PALLD',\n",
       " 'PHC2',\n",
       " 'LGALS3BP']"
      ]
     },
     "execution_count": 16,
     "metadata": {},
     "output_type": "execute_result"
    }
   ],
   "source": [
    "multiplier_z_genes[:10]"
   ]
  },
  {
   "cell_type": "markdown",
   "id": "7dcb8db7",
   "metadata": {
    "papermill": {
     "duration": 0.006827,
     "end_time": "2022-06-16T10:24:19.205396",
     "exception": false,
     "start_time": "2022-06-16T10:24:19.198569",
     "status": "completed"
    },
    "tags": []
   },
   "source": [
    "## Get gene objects"
   ]
  },
  {
   "cell_type": "code",
   "execution_count": 17,
   "id": "bb932812",
   "metadata": {
    "execution": {
     "iopub.execute_input": "2022-06-16T10:24:19.220136Z",
     "iopub.status.busy": "2022-06-16T10:24:19.219714Z",
     "iopub.status.idle": "2022-06-16T10:24:19.243290Z",
     "shell.execute_reply": "2022-06-16T10:24:19.242686Z"
    },
    "papermill": {
     "duration": 0.032835,
     "end_time": "2022-06-16T10:24:19.245057",
     "exception": false,
     "start_time": "2022-06-16T10:24:19.212222",
     "status": "completed"
    },
    "tags": []
   },
   "outputs": [],
   "source": [
    "multiplier_gene_obj = {\n",
    "    gene_name: Gene(name=gene_name)\n",
    "    for gene_name in multiplier_z_genes\n",
    "    if gene_name in Gene.GENE_NAME_TO_ID_MAP\n",
    "}"
   ]
  },
  {
   "cell_type": "code",
   "execution_count": 18,
   "id": "39533214",
   "metadata": {
    "execution": {
     "iopub.execute_input": "2022-06-16T10:24:19.260339Z",
     "iopub.status.busy": "2022-06-16T10:24:19.260154Z",
     "iopub.status.idle": "2022-06-16T10:24:19.277097Z",
     "shell.execute_reply": "2022-06-16T10:24:19.276542Z"
    },
    "papermill": {
     "duration": 0.026393,
     "end_time": "2022-06-16T10:24:19.278777",
     "exception": false,
     "start_time": "2022-06-16T10:24:19.252384",
     "status": "completed"
    },
    "tags": []
   },
   "outputs": [
    {
     "data": {
      "text/plain": [
       "6454"
      ]
     },
     "execution_count": 18,
     "metadata": {},
     "output_type": "execute_result"
    }
   ],
   "source": [
    "len(multiplier_gene_obj)"
   ]
  },
  {
   "cell_type": "code",
   "execution_count": 19,
   "id": "9a5d0b84",
   "metadata": {
    "execution": {
     "iopub.execute_input": "2022-06-16T10:24:19.294052Z",
     "iopub.status.busy": "2022-06-16T10:24:19.293870Z",
     "iopub.status.idle": "2022-06-16T10:24:19.312053Z",
     "shell.execute_reply": "2022-06-16T10:24:19.311467Z"
    },
    "papermill": {
     "duration": 0.027518,
     "end_time": "2022-06-16T10:24:19.313586",
     "exception": false,
     "start_time": "2022-06-16T10:24:19.286068",
     "status": "completed"
    },
    "tags": []
   },
   "outputs": [
    {
     "data": {
      "text/plain": [
       "'ENSG00000183087'"
      ]
     },
     "execution_count": 19,
     "metadata": {},
     "output_type": "execute_result"
    }
   ],
   "source": [
    "multiplier_gene_obj[\"GAS6\"].ensembl_id"
   ]
  },
  {
   "cell_type": "code",
   "execution_count": 20,
   "id": "e3ffabc7",
   "metadata": {
    "execution": {
     "iopub.execute_input": "2022-06-16T10:24:19.329338Z",
     "iopub.status.busy": "2022-06-16T10:24:19.328867Z",
     "iopub.status.idle": "2022-06-16T10:24:21.433836Z",
     "shell.execute_reply": "2022-06-16T10:24:21.433290Z"
    },
    "papermill": {
     "duration": 2.114499,
     "end_time": "2022-06-16T10:24:21.435384",
     "exception": false,
     "start_time": "2022-06-16T10:24:19.320885",
     "status": "completed"
    },
    "tags": []
   },
   "outputs": [],
   "source": [
    "_gene_obj = list(multiplier_gene_obj.values())\n",
    "\n",
    "genes_info = pd.DataFrame(\n",
    "    {\n",
    "        \"name\": [g.name for g in _gene_obj],\n",
    "        \"id\": [g.ensembl_id for g in _gene_obj],\n",
    "        \"chr\": [g.chromosome for g in _gene_obj],\n",
    "        \"band\": [g.band for g in _gene_obj],\n",
    "        \"start_position\": [g.get_attribute(\"start_position\") for g in _gene_obj],\n",
    "    }\n",
    ")"
   ]
  },
  {
   "cell_type": "code",
   "execution_count": 21,
   "id": "e23519b8",
   "metadata": {
    "execution": {
     "iopub.execute_input": "2022-06-16T10:24:21.450506Z",
     "iopub.status.busy": "2022-06-16T10:24:21.450306Z",
     "iopub.status.idle": "2022-06-16T10:24:21.468019Z",
     "shell.execute_reply": "2022-06-16T10:24:21.467435Z"
    },
    "papermill": {
     "duration": 0.026808,
     "end_time": "2022-06-16T10:24:21.469480",
     "exception": false,
     "start_time": "2022-06-16T10:24:21.442672",
     "status": "completed"
    },
    "tags": []
   },
   "outputs": [
    {
     "data": {
      "text/plain": [
       "(6454, 5)"
      ]
     },
     "execution_count": 21,
     "metadata": {},
     "output_type": "execute_result"
    }
   ],
   "source": [
    "genes_info.shape"
   ]
  },
  {
   "cell_type": "code",
   "execution_count": 22,
   "id": "0d71881c",
   "metadata": {
    "execution": {
     "iopub.execute_input": "2022-06-16T10:24:21.484988Z",
     "iopub.status.busy": "2022-06-16T10:24:21.484807Z",
     "iopub.status.idle": "2022-06-16T10:24:21.508879Z",
     "shell.execute_reply": "2022-06-16T10:24:21.508227Z"
    },
    "papermill": {
     "duration": 0.034216,
     "end_time": "2022-06-16T10:24:21.511144",
     "exception": false,
     "start_time": "2022-06-16T10:24:21.476928",
     "status": "completed"
    },
    "tags": []
   },
   "outputs": [
    {
     "data": {
      "text/html": [
       "<div>\n",
       "<style scoped>\n",
       "    .dataframe tbody tr th:only-of-type {\n",
       "        vertical-align: middle;\n",
       "    }\n",
       "\n",
       "    .dataframe tbody tr th {\n",
       "        vertical-align: top;\n",
       "    }\n",
       "\n",
       "    .dataframe thead th {\n",
       "        text-align: right;\n",
       "    }\n",
       "</style>\n",
       "<table border=\"1\" class=\"dataframe\">\n",
       "  <thead>\n",
       "    <tr style=\"text-align: right;\">\n",
       "      <th></th>\n",
       "      <th>name</th>\n",
       "      <th>id</th>\n",
       "      <th>chr</th>\n",
       "      <th>band</th>\n",
       "      <th>start_position</th>\n",
       "    </tr>\n",
       "  </thead>\n",
       "  <tbody>\n",
       "    <tr>\n",
       "      <th>0</th>\n",
       "      <td>GAS6</td>\n",
       "      <td>ENSG00000183087</td>\n",
       "      <td>13</td>\n",
       "      <td>13q34</td>\n",
       "      <td>113820549.0</td>\n",
       "    </tr>\n",
       "    <tr>\n",
       "      <th>1</th>\n",
       "      <td>MMP14</td>\n",
       "      <td>ENSG00000157227</td>\n",
       "      <td>14</td>\n",
       "      <td>14q11.2</td>\n",
       "      <td>22836560.0</td>\n",
       "    </tr>\n",
       "    <tr>\n",
       "      <th>2</th>\n",
       "      <td>DSP</td>\n",
       "      <td>ENSG00000096696</td>\n",
       "      <td>6</td>\n",
       "      <td>6p24.3</td>\n",
       "      <td>7541617.0</td>\n",
       "    </tr>\n",
       "    <tr>\n",
       "      <th>3</th>\n",
       "      <td>MARCKSL1</td>\n",
       "      <td>ENSG00000175130</td>\n",
       "      <td>1</td>\n",
       "      <td>1p35.1</td>\n",
       "      <td>32333839.0</td>\n",
       "    </tr>\n",
       "    <tr>\n",
       "      <th>4</th>\n",
       "      <td>SPARC</td>\n",
       "      <td>ENSG00000113140</td>\n",
       "      <td>5</td>\n",
       "      <td>5q33.1</td>\n",
       "      <td>151661096.0</td>\n",
       "    </tr>\n",
       "  </tbody>\n",
       "</table>\n",
       "</div>"
      ],
      "text/plain": [
       "       name               id chr     band  start_position\n",
       "0      GAS6  ENSG00000183087  13    13q34     113820549.0\n",
       "1     MMP14  ENSG00000157227  14  14q11.2      22836560.0\n",
       "2       DSP  ENSG00000096696   6   6p24.3       7541617.0\n",
       "3  MARCKSL1  ENSG00000175130   1   1p35.1      32333839.0\n",
       "4     SPARC  ENSG00000113140   5   5q33.1     151661096.0"
      ]
     },
     "execution_count": 22,
     "metadata": {},
     "output_type": "execute_result"
    }
   ],
   "source": [
    "genes_info.head()"
   ]
  },
  {
   "cell_type": "markdown",
   "id": "8c9dbb4a",
   "metadata": {
    "papermill": {
     "duration": 0.007407,
     "end_time": "2022-06-16T10:24:21.526452",
     "exception": false,
     "start_time": "2022-06-16T10:24:21.519045",
     "status": "completed"
    },
    "tags": []
   },
   "source": [
    "## Get tissues names"
   ]
  },
  {
   "cell_type": "code",
   "execution_count": 23,
   "id": "2bc52419",
   "metadata": {
    "execution": {
     "iopub.execute_input": "2022-06-16T10:24:21.542637Z",
     "iopub.status.busy": "2022-06-16T10:24:21.542109Z",
     "iopub.status.idle": "2022-06-16T10:24:21.558133Z",
     "shell.execute_reply": "2022-06-16T10:24:21.557522Z"
    },
    "papermill": {
     "duration": 0.025917,
     "end_time": "2022-06-16T10:24:21.559840",
     "exception": false,
     "start_time": "2022-06-16T10:24:21.533923",
     "status": "completed"
    },
    "tags": []
   },
   "outputs": [],
   "source": [
    "tissues = conf.PHENOMEXCAN[\"PREDICTION_MODELS\"][f\"{EQTL_MODEL}_TISSUES\"].split(\" \")"
   ]
  },
  {
   "cell_type": "code",
   "execution_count": 24,
   "id": "64b293a1",
   "metadata": {
    "execution": {
     "iopub.execute_input": "2022-06-16T10:24:21.581275Z",
     "iopub.status.busy": "2022-06-16T10:24:21.580738Z",
     "iopub.status.idle": "2022-06-16T10:24:21.597321Z",
     "shell.execute_reply": "2022-06-16T10:24:21.596738Z"
    },
    "papermill": {
     "duration": 0.031415,
     "end_time": "2022-06-16T10:24:21.598808",
     "exception": false,
     "start_time": "2022-06-16T10:24:21.567393",
     "status": "completed"
    },
    "tags": []
   },
   "outputs": [
    {
     "data": {
      "text/plain": [
       "['Skin_Not_Sun_Exposed_Suprapubic',\n",
       " 'Cells_EBV-transformed_lymphocytes',\n",
       " 'Brain_Frontal_Cortex_BA9',\n",
       " 'Kidney_Cortex',\n",
       " 'Brain_Substantia_nigra']"
      ]
     },
     "execution_count": 24,
     "metadata": {},
     "output_type": "execute_result"
    }
   ],
   "source": [
    "tissues[:5]"
   ]
  },
  {
   "cell_type": "code",
   "execution_count": 25,
   "id": "48a7202a",
   "metadata": {
    "execution": {
     "iopub.execute_input": "2022-06-16T10:24:21.615182Z",
     "iopub.status.busy": "2022-06-16T10:24:21.614668Z",
     "iopub.status.idle": "2022-06-16T10:24:21.630718Z",
     "shell.execute_reply": "2022-06-16T10:24:21.630138Z"
    },
    "papermill": {
     "duration": 0.025746,
     "end_time": "2022-06-16T10:24:21.632249",
     "exception": false,
     "start_time": "2022-06-16T10:24:21.606503",
     "status": "completed"
    },
    "tags": []
   },
   "outputs": [],
   "source": [
    "assert len(tissues) == 49"
   ]
  },
  {
   "cell_type": "markdown",
   "id": "c8d1038f",
   "metadata": {
    "papermill": {
     "duration": 0.007492,
     "end_time": "2022-06-16T10:24:21.647573",
     "exception": false,
     "start_time": "2022-06-16T10:24:21.640081",
     "status": "completed"
    },
    "tags": []
   },
   "source": [
    "# Test"
   ]
  },
  {
   "cell_type": "code",
   "execution_count": 26,
   "id": "64993abf",
   "metadata": {
    "execution": {
     "iopub.execute_input": "2022-06-16T10:24:21.663887Z",
     "iopub.status.busy": "2022-06-16T10:24:21.663370Z",
     "iopub.status.idle": "2022-06-16T10:24:21.689574Z",
     "shell.execute_reply": "2022-06-16T10:24:21.689009Z"
    },
    "papermill": {
     "duration": 0.036025,
     "end_time": "2022-06-16T10:24:21.691172",
     "exception": false,
     "start_time": "2022-06-16T10:24:21.655147",
     "status": "completed"
    },
    "tags": []
   },
   "outputs": [
    {
     "data": {
      "text/html": [
       "<div>\n",
       "<style scoped>\n",
       "    .dataframe tbody tr th:only-of-type {\n",
       "        vertical-align: middle;\n",
       "    }\n",
       "\n",
       "    .dataframe tbody tr th {\n",
       "        vertical-align: top;\n",
       "    }\n",
       "\n",
       "    .dataframe thead th {\n",
       "        text-align: right;\n",
       "    }\n",
       "</style>\n",
       "<table border=\"1\" class=\"dataframe\">\n",
       "  <thead>\n",
       "    <tr style=\"text-align: right;\">\n",
       "      <th></th>\n",
       "      <th>name</th>\n",
       "      <th>id</th>\n",
       "      <th>chr</th>\n",
       "      <th>band</th>\n",
       "      <th>start_position</th>\n",
       "    </tr>\n",
       "  </thead>\n",
       "  <tbody>\n",
       "    <tr>\n",
       "      <th>20</th>\n",
       "      <td>EMP1</td>\n",
       "      <td>ENSG00000134531</td>\n",
       "      <td>12</td>\n",
       "      <td>12p13.1</td>\n",
       "      <td>13196723.0</td>\n",
       "    </tr>\n",
       "    <tr>\n",
       "      <th>64</th>\n",
       "      <td>FOXM1</td>\n",
       "      <td>ENSG00000111206</td>\n",
       "      <td>12</td>\n",
       "      <td>12p13.33</td>\n",
       "      <td>2857681.0</td>\n",
       "    </tr>\n",
       "    <tr>\n",
       "      <th>100</th>\n",
       "      <td>SOCS2</td>\n",
       "      <td>ENSG00000120833</td>\n",
       "      <td>12</td>\n",
       "      <td>12q22</td>\n",
       "      <td>93569814.0</td>\n",
       "    </tr>\n",
       "    <tr>\n",
       "      <th>111</th>\n",
       "      <td>FAIM2</td>\n",
       "      <td>ENSG00000135472</td>\n",
       "      <td>12</td>\n",
       "      <td>12q13.12</td>\n",
       "      <td>49866896.0</td>\n",
       "    </tr>\n",
       "    <tr>\n",
       "      <th>114</th>\n",
       "      <td>CD163</td>\n",
       "      <td>ENSG00000177575</td>\n",
       "      <td>12</td>\n",
       "      <td>12p13.31</td>\n",
       "      <td>7470813.0</td>\n",
       "    </tr>\n",
       "    <tr>\n",
       "      <th>...</th>\n",
       "      <td>...</td>\n",
       "      <td>...</td>\n",
       "      <td>...</td>\n",
       "      <td>...</td>\n",
       "      <td>...</td>\n",
       "    </tr>\n",
       "    <tr>\n",
       "      <th>6347</th>\n",
       "      <td>STAT2</td>\n",
       "      <td>ENSG00000170581</td>\n",
       "      <td>12</td>\n",
       "      <td>12q13.3</td>\n",
       "      <td>56341597.0</td>\n",
       "    </tr>\n",
       "    <tr>\n",
       "      <th>6372</th>\n",
       "      <td>ATP5G2</td>\n",
       "      <td>ENSG00000135390</td>\n",
       "      <td>12</td>\n",
       "      <td>12q13.13</td>\n",
       "      <td>53632726.0</td>\n",
       "    </tr>\n",
       "    <tr>\n",
       "      <th>6397</th>\n",
       "      <td>PTGES3</td>\n",
       "      <td>ENSG00000110958</td>\n",
       "      <td>12</td>\n",
       "      <td>12q13.3</td>\n",
       "      <td>56663341.0</td>\n",
       "    </tr>\n",
       "    <tr>\n",
       "      <th>6444</th>\n",
       "      <td>LDHB</td>\n",
       "      <td>ENSG00000111716</td>\n",
       "      <td>12</td>\n",
       "      <td>12p12.1</td>\n",
       "      <td>21635342.0</td>\n",
       "    </tr>\n",
       "    <tr>\n",
       "      <th>6451</th>\n",
       "      <td>PLEKHG6</td>\n",
       "      <td>ENSG00000008323</td>\n",
       "      <td>12</td>\n",
       "      <td>12p13.31</td>\n",
       "      <td>6310436.0</td>\n",
       "    </tr>\n",
       "  </tbody>\n",
       "</table>\n",
       "<p>389 rows × 5 columns</p>\n",
       "</div>"
      ],
      "text/plain": [
       "         name               id chr      band  start_position\n",
       "20       EMP1  ENSG00000134531  12   12p13.1      13196723.0\n",
       "64      FOXM1  ENSG00000111206  12  12p13.33       2857681.0\n",
       "100     SOCS2  ENSG00000120833  12     12q22      93569814.0\n",
       "111     FAIM2  ENSG00000135472  12  12q13.12      49866896.0\n",
       "114     CD163  ENSG00000177575  12  12p13.31       7470813.0\n",
       "...       ...              ...  ..       ...             ...\n",
       "6347    STAT2  ENSG00000170581  12   12q13.3      56341597.0\n",
       "6372   ATP5G2  ENSG00000135390  12  12q13.13      53632726.0\n",
       "6397   PTGES3  ENSG00000110958  12   12q13.3      56663341.0\n",
       "6444     LDHB  ENSG00000111716  12   12p12.1      21635342.0\n",
       "6451  PLEKHG6  ENSG00000008323  12  12p13.31       6310436.0\n",
       "\n",
       "[389 rows x 5 columns]"
      ]
     },
     "metadata": {},
     "output_type": "display_data"
    }
   ],
   "source": [
    "chromosome_genes_info = genes_info[genes_info[\"chr\"] == chromosome]\n",
    "display(chromosome_genes_info)"
   ]
  },
  {
   "cell_type": "code",
   "execution_count": 27,
   "id": "d2e42726-7de6-46eb-acfc-6323eaa8fae6",
   "metadata": {
    "execution": {
     "iopub.execute_input": "2022-06-16T10:24:21.708218Z",
     "iopub.status.busy": "2022-06-16T10:24:21.708032Z",
     "iopub.status.idle": "2022-06-16T10:24:21.726505Z",
     "shell.execute_reply": "2022-06-16T10:24:21.725896Z"
    },
    "papermill": {
     "duration": 0.028887,
     "end_time": "2022-06-16T10:24:21.728146",
     "exception": false,
     "start_time": "2022-06-16T10:24:21.699259",
     "status": "completed"
    },
    "tags": []
   },
   "outputs": [
    {
     "data": {
      "text/plain": [
       "5"
      ]
     },
     "metadata": {},
     "output_type": "display_data"
    }
   ],
   "source": [
    "_gene_list_ids = sample(chromosome_genes_info[\"id\"].tolist(), 5)\n",
    "selected_chromosome_genes_obj = [Gene(ensembl_id=g_id) for g_id in _gene_list_ids]\n",
    "display(len(selected_chromosome_genes_obj))"
   ]
  },
  {
   "cell_type": "code",
   "execution_count": 28,
   "id": "1b355359",
   "metadata": {
    "execution": {
     "iopub.execute_input": "2022-06-16T10:24:21.745628Z",
     "iopub.status.busy": "2022-06-16T10:24:21.745107Z",
     "iopub.status.idle": "2022-06-16T10:24:32.160082Z",
     "shell.execute_reply": "2022-06-16T10:24:32.159549Z"
    },
    "papermill": {
     "duration": 10.425362,
     "end_time": "2022-06-16T10:24:32.161780",
     "exception": false,
     "start_time": "2022-06-16T10:24:21.736418",
     "status": "completed"
    },
    "tags": []
   },
   "outputs": [
    {
     "name": "stdout",
     "output_type": "stream",
     "text": [
      "ORAI1 / TAC3: 0.0\n",
      "ORAI1 / MRPL42: 0.0\n",
      "ORAI1 / ATP5G2: 0.0\n",
      "ORAI1 / ERBB3: 0.0\n",
      "TAC3 / MRPL42: 0.0\n",
      "TAC3 / ATP5G2: 0.07886420158954996\n",
      "TAC3 / ERBB3: 0.1458895529097109\n",
      "MRPL42 / ATP5G2: 0.0\n",
      "MRPL42 / ERBB3: 0.0\n",
      "ATP5G2 / ERBB3: -0.03223241635694202\n"
     ]
    }
   ],
   "source": [
    "for gene_idx1 in range(0, len(selected_chromosome_genes_obj) - 1):\n",
    "    gene_obj1 = selected_chromosome_genes_obj[gene_idx1]\n",
    "\n",
    "    for gene_idx2 in range(gene_idx1 + 1, len(selected_chromosome_genes_obj)):\n",
    "        gene_obj2 = selected_chromosome_genes_obj[gene_idx2]\n",
    "\n",
    "        c = gene_obj1.get_ssm_correlation(\n",
    "            gene_obj2,\n",
    "        )\n",
    "\n",
    "        print(f\"{gene_obj1.name} / {gene_obj2.name}: {c}\")"
   ]
  },
  {
   "cell_type": "markdown",
   "id": "d3843e06",
   "metadata": {
    "papermill": {
     "duration": 0.008067,
     "end_time": "2022-06-16T10:24:32.178385",
     "exception": false,
     "start_time": "2022-06-16T10:24:32.170318",
     "status": "completed"
    },
    "tags": []
   },
   "source": [
    "# Compute correlation per chromosome"
   ]
  },
  {
   "cell_type": "code",
   "execution_count": 29,
   "id": "aa674fe4-6794-4eed-98fa-32b39d1d4ace",
   "metadata": {
    "execution": {
     "iopub.execute_input": "2022-06-16T10:24:32.195333Z",
     "iopub.status.busy": "2022-06-16T10:24:32.195145Z",
     "iopub.status.idle": "2022-06-16T10:24:32.211678Z",
     "shell.execute_reply": "2022-06-16T10:24:32.211105Z"
    },
    "papermill": {
     "duration": 0.026932,
     "end_time": "2022-06-16T10:24:32.213323",
     "exception": false,
     "start_time": "2022-06-16T10:24:32.186391",
     "status": "completed"
    },
    "tags": []
   },
   "outputs": [],
   "source": [
    "warnings.filterwarnings(\"error\")"
   ]
  },
  {
   "cell_type": "code",
   "execution_count": 30,
   "id": "cdbb90a1",
   "metadata": {
    "execution": {
     "iopub.execute_input": "2022-06-16T10:24:32.230417Z",
     "iopub.status.busy": "2022-06-16T10:24:32.230233Z",
     "iopub.status.idle": "2022-06-16T16:31:36.214432Z",
     "shell.execute_reply": "2022-06-16T16:31:36.213985Z"
    },
    "papermill": {
     "duration": 22023.994412,
     "end_time": "2022-06-16T16:31:36.215793",
     "exception": false,
     "start_time": "2022-06-16T10:24:32.221381",
     "status": "completed"
    },
    "tags": []
   },
   "outputs": [
    {
     "name": "stdout",
     "output_type": "stream",
     "text": [
      "Number of genes in chromosome: 389\n",
      "Chromosome 12\n",
      "Number of gene combinations: 75466\n"
     ]
    },
    {
     "name": "stderr",
     "output_type": "stream",
     "text": [
      "ENSG00000196387 / ENSG00000256223: 100%|████████████████████| 75466/75466 [6:07:03<00:00,  3.43it/s]"
     ]
    },
    {
     "name": "stdout",
     "output_type": "stream",
     "text": [
      "Min/max values: -0.9982967105515688 / 0.9969947433321128\n"
     ]
    },
    {
     "name": "stderr",
     "output_type": "stream",
     "text": [
      "\n"
     ]
    },
    {
     "data": {
      "text/plain": [
       "PosixPath('/opt/data/data/phenomexcan/ld_blocks/gene_corrs/gtex_v8/mashr/by_chr/gene_corrs-chr12.pkl')"
      ]
     },
     "metadata": {},
     "output_type": "display_data"
    }
   ],
   "source": [
    "# standard checks\n",
    "all_chrs = genes_info[\"chr\"].dropna().unique()\n",
    "assert all_chrs.shape[0] == 22\n",
    "\n",
    "# select chromosome given by the user\n",
    "assert chromosome in all_chrs\n",
    "\n",
    "# run only on the chromosome specified\n",
    "all_chrs = [chromosome]\n",
    "genes_chr = genes_info[genes_info[\"chr\"] == chromosome]\n",
    "print(f\"Number of genes in chromosome: {genes_chr.shape[0]}\", flush=True)\n",
    "\n",
    "# For testing purposes\n",
    "# genes_chr = genes_chr.sample(n=20)\n",
    "\n",
    "# sort genes by starting position to make visualizations better later\n",
    "genes_chr = genes_chr.sort_values(\"start_position\")\n",
    "\n",
    "\n",
    "for chr_num in all_chrs:\n",
    "    print(f\"Chromosome {chr_num}\", flush=True)\n",
    "\n",
    "    # check if results exist\n",
    "    output_dir = OUTPUT_DIR_BASE / \"by_chr\"\n",
    "    output_file = output_dir / f\"gene_corrs-chr{chr_num}.pkl\"\n",
    "\n",
    "    if output_file.exists():\n",
    "        _tmp_data = pd.read_pickle(output_file)\n",
    "\n",
    "        if _tmp_data.shape[0] > 0:\n",
    "            print(\"Already run, stopping.\")\n",
    "            continue\n",
    "\n",
    "    gene_chr_objs = [Gene(ensembl_id=gene_id) for gene_id in genes_chr[\"id\"]]\n",
    "    gene_chr_ids = [g.ensembl_id for g in gene_chr_objs]\n",
    "\n",
    "    n = len(gene_chr_objs)\n",
    "    n_comb = int(n * (n - 1) / 2.0)\n",
    "    print(f\"Number of gene combinations: {n_comb}\", flush=True)\n",
    "\n",
    "    gene_corrs = []\n",
    "\n",
    "    pbar = tqdm(ncols=100, total=n_comb)\n",
    "    i = 0\n",
    "    for gene_idx1 in range(0, len(gene_chr_objs) - 1):\n",
    "        gene_obj1 = gene_chr_objs[gene_idx1]\n",
    "\n",
    "        for gene_idx2 in range(gene_idx1 + 1, len(gene_chr_objs)):\n",
    "            gene_obj2 = gene_chr_objs[gene_idx2]\n",
    "\n",
    "            pbar.set_description(f\"{gene_obj1.ensembl_id} / {gene_obj2.ensembl_id}\")\n",
    "\n",
    "            try:\n",
    "                # FIXME: compute the correlation of the sum of squares of the model using all\n",
    "                # the available tissues; this could be problematic because for some results\n",
    "                # (computed on a specific phenotype/GWAS) we might not have all the tissues\n",
    "                # available, which can certainly bias the correlation estimation.\n",
    "                # Since this depends on the GWAS on a specific phenotype, we should ideally have\n",
    "                # one correlation matrix per GWAS. I should look at how we can improve this.\n",
    "                gene_corrs.append(\n",
    "                    gene_obj1.get_ssm_correlation(\n",
    "                        other_gene=gene_obj2,\n",
    "                        condition_number=SMULTIXCAN_CONDITION_NUMBER,\n",
    "                        reference_panel=REFERENCE_PANEL,\n",
    "                        model_type=EQTL_MODEL,\n",
    "                    )\n",
    "                )\n",
    "            except Warning:\n",
    "                print(\n",
    "                    f\"RuntimeWarning for genes {gene_obj1.ensembl_id} and {gene_obj2.ensembl_id}\",\n",
    "                    flush=True,\n",
    "                )\n",
    "                import traceback\n",
    "\n",
    "                print(traceback.format_exc(), flush=True)\n",
    "            except Exception as e:\n",
    "                print(\n",
    "                    f\"Exception for genes {gene_obj1.ensembl_id} and {gene_obj2.ensembl_id}\",\n",
    "                    flush=True,\n",
    "                )\n",
    "                import traceback\n",
    "\n",
    "                print(traceback.format_exc(), flush=True)\n",
    "                gene_corrs.append(np.nan)\n",
    "\n",
    "            pbar.update(1)\n",
    "\n",
    "    pbar.close()\n",
    "\n",
    "    # testing\n",
    "    gene_corrs_flat = pd.Series(gene_corrs)\n",
    "    print(f\"Min/max values: {gene_corrs_flat.min()} / {gene_corrs_flat.max()}\")\n",
    "    assert gene_corrs_flat.min() >= -1.001\n",
    "    assert gene_corrs_flat.max() <= 1.001\n",
    "\n",
    "    # save\n",
    "    # FIXME: consider saving only the condenced matrix here. See here for\n",
    "    # more details: https://github.com/greenelab/phenoplier/pull/38#discussion_r634600813\n",
    "    gene_corrs_data = squareform(np.array(gene_corrs, dtype=np.float64))\n",
    "    np.fill_diagonal(gene_corrs_data, 1.0)\n",
    "\n",
    "    gene_corrs_df = pd.DataFrame(\n",
    "        data=gene_corrs_data,\n",
    "        index=gene_chr_ids,\n",
    "        columns=gene_chr_ids,\n",
    "    )\n",
    "\n",
    "    output_dir.mkdir(exist_ok=True, parents=True)\n",
    "    display(output_file)\n",
    "\n",
    "    gene_corrs_df.to_pickle(output_file)"
   ]
  },
  {
   "cell_type": "markdown",
   "id": "faa67b51-5373-470f-aa72-2ded53fa6dfe",
   "metadata": {
    "papermill": {
     "duration": 3.468092,
     "end_time": "2022-06-16T16:31:43.230683",
     "exception": false,
     "start_time": "2022-06-16T16:31:39.762591",
     "status": "completed"
    },
    "tags": []
   },
   "source": [
    "# Testing"
   ]
  },
  {
   "cell_type": "code",
   "execution_count": 31,
   "id": "14f7d046-4b55-4896-a56b-990127bcc388",
   "metadata": {
    "execution": {
     "iopub.execute_input": "2022-06-16T16:31:49.558894Z",
     "iopub.status.busy": "2022-06-16T16:31:49.558376Z",
     "iopub.status.idle": "2022-06-16T16:31:49.574499Z",
     "shell.execute_reply": "2022-06-16T16:31:49.574015Z"
    },
    "papermill": {
     "duration": 3.252027,
     "end_time": "2022-06-16T16:31:49.575747",
     "exception": false,
     "start_time": "2022-06-16T16:31:46.323720",
     "status": "completed"
    },
    "tags": []
   },
   "outputs": [
    {
     "data": {
      "text/plain": [
       "(389, 389)"
      ]
     },
     "execution_count": 31,
     "metadata": {},
     "output_type": "execute_result"
    }
   ],
   "source": [
    "gene_corrs_df.shape"
   ]
  },
  {
   "cell_type": "code",
   "execution_count": 32,
   "id": "c7d15414-3297-4537-a7c6-7588c0baeb75",
   "metadata": {
    "execution": {
     "iopub.execute_input": "2022-06-16T16:31:56.214058Z",
     "iopub.status.busy": "2022-06-16T16:31:56.213631Z",
     "iopub.status.idle": "2022-06-16T16:31:56.251465Z",
     "shell.execute_reply": "2022-06-16T16:31:56.250854Z"
    },
    "papermill": {
     "duration": 3.523447,
     "end_time": "2022-06-16T16:31:56.253119",
     "exception": false,
     "start_time": "2022-06-16T16:31:52.729672",
     "status": "completed"
    },
    "tags": []
   },
   "outputs": [
    {
     "data": {
      "text/html": [
       "<div>\n",
       "<style scoped>\n",
       "    .dataframe tbody tr th:only-of-type {\n",
       "        vertical-align: middle;\n",
       "    }\n",
       "\n",
       "    .dataframe tbody tr th {\n",
       "        vertical-align: top;\n",
       "    }\n",
       "\n",
       "    .dataframe thead th {\n",
       "        text-align: right;\n",
       "    }\n",
       "</style>\n",
       "<table border=\"1\" class=\"dataframe\">\n",
       "  <thead>\n",
       "    <tr style=\"text-align: right;\">\n",
       "      <th></th>\n",
       "      <th>ENSG00000120645</th>\n",
       "      <th>ENSG00000111181</th>\n",
       "      <th>ENSG00000171840</th>\n",
       "      <th>ENSG00000060237</th>\n",
       "      <th>ENSG00000002016</th>\n",
       "      <th>ENSG00000082805</th>\n",
       "      <th>ENSG00000111186</th>\n",
       "      <th>ENSG00000006831</th>\n",
       "      <th>ENSG00000151062</th>\n",
       "      <th>ENSG00000151065</th>\n",
       "      <th>...</th>\n",
       "      <th>ENSG00000132341</th>\n",
       "      <th>ENSG00000198598</th>\n",
       "      <th>ENSG00000177169</th>\n",
       "      <th>ENSG00000182870</th>\n",
       "      <th>ENSG00000177084</th>\n",
       "      <th>ENSG00000176894</th>\n",
       "      <th>ENSG00000196458</th>\n",
       "      <th>ENSG00000198393</th>\n",
       "      <th>ENSG00000196387</th>\n",
       "      <th>ENSG00000256223</th>\n",
       "    </tr>\n",
       "  </thead>\n",
       "  <tbody>\n",
       "    <tr>\n",
       "      <th>ENSG00000120645</th>\n",
       "      <td>1.000000</td>\n",
       "      <td>-0.049417</td>\n",
       "      <td>-0.056575</td>\n",
       "      <td>0.048659</td>\n",
       "      <td>0.029227</td>\n",
       "      <td>0.000990</td>\n",
       "      <td>0.039116</td>\n",
       "      <td>-0.047698</td>\n",
       "      <td>-0.018082</td>\n",
       "      <td>-0.068448</td>\n",
       "      <td>...</td>\n",
       "      <td>0.0</td>\n",
       "      <td>0.0</td>\n",
       "      <td>0.0</td>\n",
       "      <td>0.0</td>\n",
       "      <td>0.0</td>\n",
       "      <td>0.0</td>\n",
       "      <td>0.0</td>\n",
       "      <td>0.0</td>\n",
       "      <td>0.0</td>\n",
       "      <td>0.0</td>\n",
       "    </tr>\n",
       "    <tr>\n",
       "      <th>ENSG00000111181</th>\n",
       "      <td>-0.049417</td>\n",
       "      <td>1.000000</td>\n",
       "      <td>-0.021797</td>\n",
       "      <td>0.005337</td>\n",
       "      <td>0.065544</td>\n",
       "      <td>-0.024246</td>\n",
       "      <td>0.109825</td>\n",
       "      <td>-0.056594</td>\n",
       "      <td>0.004523</td>\n",
       "      <td>-0.012559</td>\n",
       "      <td>...</td>\n",
       "      <td>0.0</td>\n",
       "      <td>0.0</td>\n",
       "      <td>0.0</td>\n",
       "      <td>0.0</td>\n",
       "      <td>0.0</td>\n",
       "      <td>0.0</td>\n",
       "      <td>0.0</td>\n",
       "      <td>0.0</td>\n",
       "      <td>0.0</td>\n",
       "      <td>0.0</td>\n",
       "    </tr>\n",
       "    <tr>\n",
       "      <th>ENSG00000171840</th>\n",
       "      <td>-0.056575</td>\n",
       "      <td>-0.021797</td>\n",
       "      <td>1.000000</td>\n",
       "      <td>-0.009132</td>\n",
       "      <td>-0.139078</td>\n",
       "      <td>-0.074546</td>\n",
       "      <td>0.042766</td>\n",
       "      <td>0.112736</td>\n",
       "      <td>0.050263</td>\n",
       "      <td>-0.007610</td>\n",
       "      <td>...</td>\n",
       "      <td>0.0</td>\n",
       "      <td>0.0</td>\n",
       "      <td>0.0</td>\n",
       "      <td>0.0</td>\n",
       "      <td>0.0</td>\n",
       "      <td>0.0</td>\n",
       "      <td>0.0</td>\n",
       "      <td>0.0</td>\n",
       "      <td>0.0</td>\n",
       "      <td>0.0</td>\n",
       "    </tr>\n",
       "    <tr>\n",
       "      <th>ENSG00000060237</th>\n",
       "      <td>0.048659</td>\n",
       "      <td>0.005337</td>\n",
       "      <td>-0.009132</td>\n",
       "      <td>1.000000</td>\n",
       "      <td>-0.039166</td>\n",
       "      <td>0.023380</td>\n",
       "      <td>-0.113647</td>\n",
       "      <td>-0.020968</td>\n",
       "      <td>-0.026575</td>\n",
       "      <td>0.029823</td>\n",
       "      <td>...</td>\n",
       "      <td>0.0</td>\n",
       "      <td>0.0</td>\n",
       "      <td>0.0</td>\n",
       "      <td>0.0</td>\n",
       "      <td>0.0</td>\n",
       "      <td>0.0</td>\n",
       "      <td>0.0</td>\n",
       "      <td>0.0</td>\n",
       "      <td>0.0</td>\n",
       "      <td>0.0</td>\n",
       "    </tr>\n",
       "    <tr>\n",
       "      <th>ENSG00000002016</th>\n",
       "      <td>0.029227</td>\n",
       "      <td>0.065544</td>\n",
       "      <td>-0.139078</td>\n",
       "      <td>-0.039166</td>\n",
       "      <td>1.000000</td>\n",
       "      <td>0.021313</td>\n",
       "      <td>-0.120371</td>\n",
       "      <td>-0.057250</td>\n",
       "      <td>0.112586</td>\n",
       "      <td>0.056742</td>\n",
       "      <td>...</td>\n",
       "      <td>0.0</td>\n",
       "      <td>0.0</td>\n",
       "      <td>0.0</td>\n",
       "      <td>0.0</td>\n",
       "      <td>0.0</td>\n",
       "      <td>0.0</td>\n",
       "      <td>0.0</td>\n",
       "      <td>0.0</td>\n",
       "      <td>0.0</td>\n",
       "      <td>0.0</td>\n",
       "    </tr>\n",
       "  </tbody>\n",
       "</table>\n",
       "<p>5 rows × 389 columns</p>\n",
       "</div>"
      ],
      "text/plain": [
       "                 ENSG00000120645  ENSG00000111181  ENSG00000171840  \\\n",
       "ENSG00000120645         1.000000        -0.049417        -0.056575   \n",
       "ENSG00000111181        -0.049417         1.000000        -0.021797   \n",
       "ENSG00000171840        -0.056575        -0.021797         1.000000   \n",
       "ENSG00000060237         0.048659         0.005337        -0.009132   \n",
       "ENSG00000002016         0.029227         0.065544        -0.139078   \n",
       "\n",
       "                 ENSG00000060237  ENSG00000002016  ENSG00000082805  \\\n",
       "ENSG00000120645         0.048659         0.029227         0.000990   \n",
       "ENSG00000111181         0.005337         0.065544        -0.024246   \n",
       "ENSG00000171840        -0.009132        -0.139078        -0.074546   \n",
       "ENSG00000060237         1.000000        -0.039166         0.023380   \n",
       "ENSG00000002016        -0.039166         1.000000         0.021313   \n",
       "\n",
       "                 ENSG00000111186  ENSG00000006831  ENSG00000151062  \\\n",
       "ENSG00000120645         0.039116        -0.047698        -0.018082   \n",
       "ENSG00000111181         0.109825        -0.056594         0.004523   \n",
       "ENSG00000171840         0.042766         0.112736         0.050263   \n",
       "ENSG00000060237        -0.113647        -0.020968        -0.026575   \n",
       "ENSG00000002016        -0.120371        -0.057250         0.112586   \n",
       "\n",
       "                 ENSG00000151065  ...  ENSG00000132341  ENSG00000198598  \\\n",
       "ENSG00000120645        -0.068448  ...              0.0              0.0   \n",
       "ENSG00000111181        -0.012559  ...              0.0              0.0   \n",
       "ENSG00000171840        -0.007610  ...              0.0              0.0   \n",
       "ENSG00000060237         0.029823  ...              0.0              0.0   \n",
       "ENSG00000002016         0.056742  ...              0.0              0.0   \n",
       "\n",
       "                 ENSG00000177169  ENSG00000182870  ENSG00000177084  \\\n",
       "ENSG00000120645              0.0              0.0              0.0   \n",
       "ENSG00000111181              0.0              0.0              0.0   \n",
       "ENSG00000171840              0.0              0.0              0.0   \n",
       "ENSG00000060237              0.0              0.0              0.0   \n",
       "ENSG00000002016              0.0              0.0              0.0   \n",
       "\n",
       "                 ENSG00000176894  ENSG00000196458  ENSG00000198393  \\\n",
       "ENSG00000120645              0.0              0.0              0.0   \n",
       "ENSG00000111181              0.0              0.0              0.0   \n",
       "ENSG00000171840              0.0              0.0              0.0   \n",
       "ENSG00000060237              0.0              0.0              0.0   \n",
       "ENSG00000002016              0.0              0.0              0.0   \n",
       "\n",
       "                 ENSG00000196387  ENSG00000256223  \n",
       "ENSG00000120645              0.0              0.0  \n",
       "ENSG00000111181              0.0              0.0  \n",
       "ENSG00000171840              0.0              0.0  \n",
       "ENSG00000060237              0.0              0.0  \n",
       "ENSG00000002016              0.0              0.0  \n",
       "\n",
       "[5 rows x 389 columns]"
      ]
     },
     "execution_count": 32,
     "metadata": {},
     "output_type": "execute_result"
    }
   ],
   "source": [
    "gene_corrs_df.head()"
   ]
  },
  {
   "cell_type": "code",
   "execution_count": 33,
   "id": "00583efc-7068-4270-ad1e-4a418e91db96",
   "metadata": {
    "execution": {
     "iopub.execute_input": "2022-06-16T16:32:04.358770Z",
     "iopub.status.busy": "2022-06-16T16:32:04.358595Z",
     "iopub.status.idle": "2022-06-16T16:32:04.409158Z",
     "shell.execute_reply": "2022-06-16T16:32:04.408649Z"
    },
    "papermill": {
     "duration": 4.604893,
     "end_time": "2022-06-16T16:32:04.411371",
     "exception": false,
     "start_time": "2022-06-16T16:31:59.806478",
     "status": "completed"
    },
    "tags": []
   },
   "outputs": [
    {
     "data": {
      "text/plain": [
       "-0.9982967105515688"
      ]
     },
     "metadata": {},
     "output_type": "display_data"
    }
   ],
   "source": [
    "_min_val = gene_corrs_df.min().min()\n",
    "display(_min_val)\n",
    "assert _min_val >= -1.0"
   ]
  },
  {
   "cell_type": "code",
   "execution_count": 34,
   "id": "d04fb2cf-1050-475b-b855-f5f7cc04092b",
   "metadata": {
    "execution": {
     "iopub.execute_input": "2022-06-16T16:32:12.143143Z",
     "iopub.status.busy": "2022-06-16T16:32:12.142940Z",
     "iopub.status.idle": "2022-06-16T16:32:12.166026Z",
     "shell.execute_reply": "2022-06-16T16:32:12.165513Z"
    },
    "papermill": {
     "duration": 3.920086,
     "end_time": "2022-06-16T16:32:12.167721",
     "exception": false,
     "start_time": "2022-06-16T16:32:08.247635",
     "status": "completed"
    },
    "tags": []
   },
   "outputs": [
    {
     "data": {
      "text/plain": [
       "1.0"
      ]
     },
     "metadata": {},
     "output_type": "display_data"
    }
   ],
   "source": [
    "_max_val = gene_corrs_df.max().max()  # this captures the diagonal\n",
    "display(_max_val)\n",
    "assert _max_val <= 1.0"
   ]
  },
  {
   "cell_type": "code",
   "execution_count": 35,
   "id": "96d02c44-1fba-47be-8a93-8f2608420b9c",
   "metadata": {
    "execution": {
     "iopub.execute_input": "2022-06-16T16:32:19.587300Z",
     "iopub.status.busy": "2022-06-16T16:32:19.587103Z",
     "iopub.status.idle": "2022-06-16T16:32:19.607481Z",
     "shell.execute_reply": "2022-06-16T16:32:19.606952Z"
    },
    "papermill": {
     "duration": 3.826274,
     "end_time": "2022-06-16T16:32:19.609231",
     "exception": false,
     "start_time": "2022-06-16T16:32:15.782957",
     "status": "completed"
    },
    "tags": []
   },
   "outputs": [],
   "source": [
    "# check upper triangular values\n",
    "assert len(gene_corrs) == int(genes_chr.shape[0] * (genes_chr.shape[0] - 1) / 2)"
   ]
  },
  {
   "cell_type": "code",
   "execution_count": 36,
   "id": "aaa51627-f4e3-4744-a41f-7d25adcc0a78",
   "metadata": {
    "execution": {
     "iopub.execute_input": "2022-06-16T16:32:27.502391Z",
     "iopub.status.busy": "2022-06-16T16:32:27.502191Z",
     "iopub.status.idle": "2022-06-16T16:32:27.534899Z",
     "shell.execute_reply": "2022-06-16T16:32:27.534340Z"
    },
    "papermill": {
     "duration": 3.91332,
     "end_time": "2022-06-16T16:32:27.536878",
     "exception": false,
     "start_time": "2022-06-16T16:32:23.623558",
     "status": "completed"
    },
    "tags": []
   },
   "outputs": [],
   "source": [
    "gene_corrs = pd.Series(gene_corrs)"
   ]
  },
  {
   "cell_type": "code",
   "execution_count": 37,
   "id": "fe283586-c348-40e0-8841-f6d97bfb021c",
   "metadata": {
    "execution": {
     "iopub.execute_input": "2022-06-16T16:32:35.466773Z",
     "iopub.status.busy": "2022-06-16T16:32:35.466581Z",
     "iopub.status.idle": "2022-06-16T16:32:35.493221Z",
     "shell.execute_reply": "2022-06-16T16:32:35.492699Z"
    },
    "papermill": {
     "duration": 3.986075,
     "end_time": "2022-06-16T16:32:35.495058",
     "exception": false,
     "start_time": "2022-06-16T16:32:31.508983",
     "status": "completed"
    },
    "tags": []
   },
   "outputs": [
    {
     "data": {
      "text/plain": [
       "count    75466.000000\n",
       "mean         0.000217\n",
       "std          0.056939\n",
       "min         -0.998297\n",
       "25%          0.000000\n",
       "50%          0.000000\n",
       "75%          0.000000\n",
       "max          0.996995\n",
       "dtype: float64"
      ]
     },
     "execution_count": 37,
     "metadata": {},
     "output_type": "execute_result"
    }
   ],
   "source": [
    "gene_corrs.describe()"
   ]
  },
  {
   "cell_type": "code",
   "execution_count": 38,
   "id": "b3815678-0f93-4b35-897b-a9d047a2aa78",
   "metadata": {
    "execution": {
     "iopub.execute_input": "2022-06-16T16:32:44.659994Z",
     "iopub.status.busy": "2022-06-16T16:32:44.659797Z",
     "iopub.status.idle": "2022-06-16T16:32:44.684469Z",
     "shell.execute_reply": "2022-06-16T16:32:44.683994Z"
    },
    "papermill": {
     "duration": 4.650557,
     "end_time": "2022-06-16T16:32:44.686269",
     "exception": false,
     "start_time": "2022-06-16T16:32:40.035712",
     "status": "completed"
    },
    "tags": []
   },
   "outputs": [
    {
     "data": {
      "text/plain": [
       "0.00   -0.998297\n",
       "0.05   -0.019678\n",
       "0.10    0.000000\n",
       "0.15    0.000000\n",
       "0.20    0.000000\n",
       "0.25    0.000000\n",
       "0.30    0.000000\n",
       "0.35    0.000000\n",
       "0.40    0.000000\n",
       "0.45    0.000000\n",
       "0.50    0.000000\n",
       "0.55    0.000000\n",
       "0.60    0.000000\n",
       "0.65    0.000000\n",
       "0.70    0.000000\n",
       "0.75    0.000000\n",
       "0.80    0.000000\n",
       "0.85    0.000000\n",
       "0.90    0.000000\n",
       "0.95    0.024915\n",
       "dtype: float64"
      ]
     },
     "metadata": {},
     "output_type": "display_data"
    }
   ],
   "source": [
    "gene_corrs_quantiles = gene_corrs.quantile(np.arange(0, 1, 0.05))\n",
    "display(gene_corrs_quantiles)"
   ]
  },
  {
   "cell_type": "markdown",
   "id": "8e60a080-edb2-4e9c-b2ef-22961693200c",
   "metadata": {
    "papermill": {
     "duration": 3.24374,
     "end_time": "2022-06-16T16:32:51.300497",
     "exception": false,
     "start_time": "2022-06-16T16:32:48.056757",
     "status": "completed"
    },
    "tags": []
   },
   "source": [
    "## Plot: distribution"
   ]
  },
  {
   "cell_type": "code",
   "execution_count": 39,
   "id": "8301126b-a7d4-4744-9c7d-f0f86eb6f54c",
   "metadata": {
    "execution": {
     "iopub.execute_input": "2022-06-16T16:32:57.665422Z",
     "iopub.status.busy": "2022-06-16T16:32:57.665248Z",
     "iopub.status.idle": "2022-06-16T16:32:58.190322Z",
     "shell.execute_reply": "2022-06-16T16:32:58.189703Z"
    },
    "papermill": {
     "duration": 3.767908,
     "end_time": "2022-06-16T16:32:58.191638",
     "exception": false,
     "start_time": "2022-06-16T16:32:54.423730",
     "status": "completed"
    },
    "tags": []
   },
   "outputs": [
    {
     "data": {
      "image/png": "[encoded data removed]",
      "text/plain": [
       "<Figure size 504x504 with 1 Axes>"
      ]
     },
     "metadata": {
      "needs_background": "light"
     },
     "output_type": "display_data"
    }
   ],
   "source": [
    "with sns.plotting_context(\"paper\", font_scale=1.5):\n",
    "    g = sns.displot(gene_corrs, kde=True, height=7)\n",
    "    g.ax.set_title(\n",
    "        f\"Distribution of gene correlation values in chromosome {chromosome}\"\n",
    "    )"
   ]
  },
  {
   "cell_type": "markdown",
   "id": "cbd52bca-d878-4a2f-b684-5c83aa3038d4",
   "metadata": {
    "papermill": {
     "duration": 3.274397,
     "end_time": "2022-06-16T16:33:04.640890",
     "exception": false,
     "start_time": "2022-06-16T16:33:01.366493",
     "status": "completed"
    },
    "tags": []
   },
   "source": [
    "## Plot: heatmap"
   ]
  },
  {
   "cell_type": "code",
   "execution_count": 40,
   "id": "d03fe63a-c7b2-4fb9-a53c-db362ce843c9",
   "metadata": {
    "execution": {
     "iopub.execute_input": "2022-06-16T16:33:11.229736Z",
     "iopub.status.busy": "2022-06-16T16:33:11.229567Z",
     "iopub.status.idle": "2022-06-16T16:33:11.250658Z",
     "shell.execute_reply": "2022-06-16T16:33:11.250192Z"
    },
    "papermill": {
     "duration": 3.385922,
     "end_time": "2022-06-16T16:33:11.252261",
     "exception": false,
     "start_time": "2022-06-16T16:33:07.866339",
     "status": "completed"
    },
    "tags": []
   },
   "outputs": [
    {
     "data": {
      "text/plain": [
       "'-0.05 / 0.05'"
      ]
     },
     "metadata": {},
     "output_type": "display_data"
    }
   ],
   "source": [
    "vmin_val = min(-0.05, gene_corrs_quantiles[0.10])\n",
    "vmax_val = max(0.05, gene_corrs_quantiles[0.90])\n",
    "display(f\"{vmin_val} / {vmax_val}\")"
   ]
  },
  {
   "cell_type": "code",
   "execution_count": 41,
   "id": "dc41b70b-5bcc-4d9e-9f33-a22c4a94dab5",
   "metadata": {
    "execution": {
     "iopub.execute_input": "2022-06-16T16:33:17.827511Z",
     "iopub.status.busy": "2022-06-16T16:33:17.826773Z",
     "iopub.status.idle": "2022-06-16T16:33:18.276948Z",
     "shell.execute_reply": "2022-06-16T16:33:18.276343Z"
    },
    "papermill": {
     "duration": 3.872682,
     "end_time": "2022-06-16T16:33:18.278579",
     "exception": false,
     "start_time": "2022-06-16T16:33:14.405897",
     "status": "completed"
    },
    "tags": []
   },
   "outputs": [
    {
     "data": {
      "text/plain": [
       "Text(0.5, 1.0, 'Gene correlations in chromosome 12')"
      ]
     },
     "execution_count": 41,
     "metadata": {},
     "output_type": "execute_result"
    },
    {
     "data": {
      "image/png": "[encoded data removed]",
      "text/plain": [
       "<Figure size 720x720 with 2 Axes>"
      ]
     },
     "metadata": {
      "needs_background": "light"
     },
     "output_type": "display_data"
    }
   ],
   "source": [
    "f, ax = plt.subplots(figsize=(10, 10))\n",
    "sns.heatmap(\n",
    "    gene_corrs_df,\n",
    "    xticklabels=False,\n",
    "    yticklabels=False,\n",
    "    square=True,\n",
    "    vmin=vmin_val,\n",
    "    vmax=vmax_val,\n",
    "    cmap=\"YlGnBu\",\n",
    "    ax=ax,\n",
    ")\n",
    "ax.set_title(f\"Gene correlations in chromosome {chromosome}\")"
   ]
  },
  {
   "cell_type": "code",
   "execution_count": null,
   "id": "b25e3ead",
   "metadata": {
    "papermill": {
     "duration": 3.260279,
     "end_time": "2022-06-16T16:33:24.641820",
     "exception": false,
     "start_time": "2022-06-16T16:33:21.381541",
     "status": "completed"
    },
    "tags": []
   },
   "outputs": [],
   "source": []
  }
 ],
 "metadata": {
  "jupytext": {
   "cell_metadata_filter": "all,-execution,-papermill,-trusted",
   "formats": "ipynb,py//py:percent"
  },
  "kernelspec": {
   "display_name": "Python 3 (ipykernel)",
   "language": "python",
   "name": "python3"
  },
  "language_info": {
   "codemirror_mode": {
    "name": "ipython",
    "version": 3
   },
   "file_extension": ".py",
   "mimetype": "text/x-python",
   "name": "python",
   "nbconvert_exporter": "python",
   "pygments_lexer": "ipython3",
   "version": "3.8.13"
  },
  "papermill": {
   "default_parameters": {},
   "duration": 22154.322017,
   "end_time": "2022-06-16T16:33:30.569618",
   "environment_variables": {},
   "exception": null,
   "input_path": "nbs/15_gsa_gls/10-gene_expr_correlations.ipynb",
   "output_path": "nbs/15_gsa_gls/gene_corrs/gtex_v8/mashr/10-gene_expr_correlations-chr12.run.ipynb",
   "parameters": {
    "EQTL_MODEL": "MASHR",
    "REFERENCE_PANEL": "GTEX_V8",
    "chromosome": 12
   },
   "start_time": "2022-06-16T10:24:16.247601",
   "version": "2.2.2"
  }
 },
 "nbformat": 4,
 "nbformat_minor": 5
}
