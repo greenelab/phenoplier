{
 "cells": [
  {
   "cell_type": "markdown",
   "id": "6c1f0ae4-cd27-4fec-a23d-51699e7059e8",
   "metadata": {
    "papermill": {
     "duration": 0.005183,
     "end_time": "2022-06-18T11:50:00.966285",
     "exception": false,
     "start_time": "2022-06-18T11:50:00.961102",
     "status": "completed"
    },
    "tags": []
   },
   "source": [
    "# Description"
   ]
  },
  {
   "cell_type": "markdown",
   "id": "3268a19a-8a83-4f61-aa39-09b084c81d61",
   "metadata": {
    "papermill": {
     "duration": 0.004185,
     "end_time": "2022-06-18T11:50:00.974786",
     "exception": false,
     "start_time": "2022-06-18T11:50:00.970601",
     "status": "completed"
    },
    "tags": []
   },
   "source": [
    "**TODO**"
   ]
  },
  {
   "cell_type": "markdown",
   "id": "401368d3-22c1-4d81-a2c3-c4a81fde4191",
   "metadata": {
    "papermill": {
     "duration": 0.004218,
     "end_time": "2022-06-18T11:50:00.983243",
     "exception": false,
     "start_time": "2022-06-18T11:50:00.979025",
     "status": "completed"
    },
    "tags": []
   },
   "source": [
    "# Modules"
   ]
  },
  {
   "cell_type": "code",
   "execution_count": 1,
   "id": "f9b5022b-7c5e-4d37-9c7a-fdb91777c7f9",
   "metadata": {
    "execution": {
     "iopub.execute_input": "2022-06-18T11:50:01.014622Z",
     "iopub.status.busy": "2022-06-18T11:50:01.013121Z",
     "iopub.status.idle": "2022-06-18T11:50:04.219493Z",
     "shell.execute_reply": "2022-06-18T11:50:04.217596Z"
    },
    "papermill": {
     "duration": 3.234136,
     "end_time": "2022-06-18T11:50:04.221443",
     "exception": false,
     "start_time": "2022-06-18T11:50:00.987307",
     "status": "completed"
    },
    "tags": []
   },
   "outputs": [],
   "source": [
    "library(reticulate)\n",
    "pd <- import(\"pandas\")"
   ]
  },
  {
   "cell_type": "markdown",
   "id": "c1958d6a-0229-47e8-823e-792fcf84fccf",
   "metadata": {
    "papermill": {
     "duration": 0.004792,
     "end_time": "2022-06-18T11:50:04.232217",
     "exception": false,
     "start_time": "2022-06-18T11:50:04.227425",
     "status": "completed"
    },
    "tags": []
   },
   "source": [
    "# Settings"
   ]
  },
  {
   "cell_type": "code",
   "execution_count": 2,
   "id": "22d12bb4-1699-4a6b-b1b9-d3fdd3d547d7",
   "metadata": {
    "execution": {
     "iopub.execute_input": "2022-06-18T11:50:04.266330Z",
     "iopub.status.busy": "2022-06-18T11:50:04.243122Z",
     "iopub.status.idle": "2022-06-18T11:50:04.279215Z",
     "shell.execute_reply": "2022-06-18T11:50:04.277950Z"
    },
    "papermill": {
     "duration": 0.043975,
     "end_time": "2022-06-18T11:50:04.281026",
     "exception": false,
     "start_time": "2022-06-18T11:50:04.237051",
     "status": "completed"
    },
    "tags": [
     "parameters"
    ]
   },
   "outputs": [],
   "source": [
    "# reference panel\n",
    "REFERENCE_PANEL <- \"GTEX_V8\"\n",
    "# REFERENCE_PANEL = \"1000G\"\n",
    "\n",
    "# prediction models\n",
    "## mashr\n",
    "EQTL_MODEL <- \"MASHR\"\n",
    "\n",
    "# ## elastic net\n",
    "# EQTL_MODEL = \"ELASTIC_NET\"\n",
    "\n",
    "chromosome <- NULL"
   ]
  },
  {
   "cell_type": "code",
   "execution_count": 3,
   "id": "3f87513d",
   "metadata": {
    "execution": {
     "iopub.execute_input": "2022-06-18T11:50:04.293848Z",
     "iopub.status.busy": "2022-06-18T11:50:04.292597Z",
     "iopub.status.idle": "2022-06-18T11:50:04.316351Z",
     "shell.execute_reply": "2022-06-18T11:50:04.314043Z"
    },
    "papermill": {
     "duration": 0.032003,
     "end_time": "2022-06-18T11:50:04.318466",
     "exception": false,
     "start_time": "2022-06-18T11:50:04.286463",
     "status": "completed"
    },
    "tags": [
     "injected-parameters"
    ]
   },
   "outputs": [],
   "source": [
    "# Parameters\n",
    "chromosome = 4\n",
    "REFERENCE_PANEL = \"GTEX_V8\"\n",
    "EQTL_MODEL = \"MASHR\"\n"
   ]
  },
  {
   "cell_type": "code",
   "execution_count": 4,
   "id": "8fe24bef",
   "metadata": {
    "execution": {
     "iopub.execute_input": "2022-06-18T11:50:04.331453Z",
     "iopub.status.busy": "2022-06-18T11:50:04.330323Z",
     "iopub.status.idle": "2022-06-18T11:50:04.344437Z",
     "shell.execute_reply": "2022-06-18T11:50:04.343086Z"
    },
    "papermill": {
     "duration": 0.022419,
     "end_time": "2022-06-18T11:50:04.346269",
     "exception": false,
     "start_time": "2022-06-18T11:50:04.323850",
     "status": "completed"
    },
    "tags": []
   },
   "outputs": [
    {
     "data": {
      "text/html": [
       "'Using reference panel: GTEX_V8'"
      ],
      "text/latex": [
       "'Using reference panel: GTEX\\_V8'"
      ],
      "text/markdown": [
       "'Using reference panel: GTEX_V8'"
      ],
      "text/plain": [
       "[1] \"Using reference panel: GTEX_V8\""
      ]
     },
     "metadata": {},
     "output_type": "display_data"
    }
   ],
   "source": [
    "paste0(\"Using reference panel: \", REFERENCE_PANEL)"
   ]
  },
  {
   "cell_type": "code",
   "execution_count": 5,
   "id": "d62c28f8-186c-478b-948c-58e14f00df4b",
   "metadata": {
    "execution": {
     "iopub.execute_input": "2022-06-18T11:50:04.362167Z",
     "iopub.status.busy": "2022-06-18T11:50:04.360698Z",
     "iopub.status.idle": "2022-06-18T11:50:04.375639Z",
     "shell.execute_reply": "2022-06-18T11:50:04.373490Z"
    },
    "papermill": {
     "duration": 0.025894,
     "end_time": "2022-06-18T11:50:04.377782",
     "exception": false,
     "start_time": "2022-06-18T11:50:04.351888",
     "status": "completed"
    },
    "tags": []
   },
   "outputs": [
    {
     "data": {
      "text/html": [
       "'Using eQTL model: MASHR'"
      ],
      "text/latex": [
       "'Using eQTL model: MASHR'"
      ],
      "text/markdown": [
       "'Using eQTL model: MASHR'"
      ],
      "text/plain": [
       "[1] \"Using eQTL model: MASHR\""
      ]
     },
     "metadata": {},
     "output_type": "display_data"
    }
   ],
   "source": [
    "paste0(\"Using eQTL model: \", EQTL_MODEL)"
   ]
  },
  {
   "cell_type": "code",
   "execution_count": 6,
   "id": "5243676f-c889-4405-9a4d-262f0f044614",
   "metadata": {
    "execution": {
     "iopub.execute_input": "2022-06-18T11:50:04.392194Z",
     "iopub.status.busy": "2022-06-18T11:50:04.390980Z",
     "iopub.status.idle": "2022-06-18T11:50:04.401265Z",
     "shell.execute_reply": "2022-06-18T11:50:04.399950Z"
    },
    "papermill": {
     "duration": 0.019132,
     "end_time": "2022-06-18T11:50:04.403236",
     "exception": false,
     "start_time": "2022-06-18T11:50:04.384104",
     "status": "completed"
    },
    "tags": []
   },
   "outputs": [],
   "source": [
    "# chromosome must be provided as parameter\n",
    "stopifnot(!is.null(chromosome))"
   ]
  },
  {
   "cell_type": "markdown",
   "id": "83a49773-bcf5-44c4-8d9b-a6ac65a57ec6",
   "metadata": {
    "papermill": {
     "duration": 0.00554,
     "end_time": "2022-06-18T11:50:04.415071",
     "exception": false,
     "start_time": "2022-06-18T11:50:04.409531",
     "status": "completed"
    },
    "tags": []
   },
   "source": [
    "# Paths"
   ]
  },
  {
   "cell_type": "code",
   "execution_count": 7,
   "id": "eb6aa8aa-b452-4a2f-a780-93dd80ad4285",
   "metadata": {
    "execution": {
     "iopub.execute_input": "2022-06-18T11:50:04.427767Z",
     "iopub.status.busy": "2022-06-18T11:50:04.426731Z",
     "iopub.status.idle": "2022-06-18T11:50:04.440958Z",
     "shell.execute_reply": "2022-06-18T11:50:04.439573Z"
    },
    "papermill": {
     "duration": 0.022265,
     "end_time": "2022-06-18T11:50:04.442726",
     "exception": false,
     "start_time": "2022-06-18T11:50:04.420461",
     "status": "completed"
    },
    "tags": []
   },
   "outputs": [
    {
     "data": {
      "text/html": [
       "'/opt/data/data/phenomexcan/ld_blocks/gene_corrs'"
      ],
      "text/latex": [
       "'/opt/data/data/phenomexcan/ld\\_blocks/gene\\_corrs'"
      ],
      "text/markdown": [
       "'/opt/data/data/phenomexcan/ld_blocks/gene_corrs'"
      ],
      "text/plain": [
       "[1] \"/opt/data/data/phenomexcan/ld_blocks/gene_corrs\""
      ]
     },
     "metadata": {},
     "output_type": "display_data"
    }
   ],
   "source": [
    "GENE_CORRS_DIR <- Sys.getenv(\"PHENOPLIER_PHENOMEXCAN_LD_BLOCKS_GENE_CORRS_DIR\")\n",
    "IRdisplay::display(GENE_CORRS_DIR)"
   ]
  },
  {
   "cell_type": "code",
   "execution_count": 8,
   "id": "eb24f15f-f282-4476-8943-8413c4483f12",
   "metadata": {
    "execution": {
     "iopub.execute_input": "2022-06-18T11:50:04.455733Z",
     "iopub.status.busy": "2022-06-18T11:50:04.454719Z",
     "iopub.status.idle": "2022-06-18T11:50:04.466541Z",
     "shell.execute_reply": "2022-06-18T11:50:04.465289Z"
    },
    "papermill": {
     "duration": 0.020052,
     "end_time": "2022-06-18T11:50:04.468250",
     "exception": false,
     "start_time": "2022-06-18T11:50:04.448198",
     "status": "completed"
    },
    "tags": []
   },
   "outputs": [
    {
     "data": {
      "text/html": [
       "'/opt/data/data/phenomexcan/ld_blocks/gene_corrs/gtex_v8/mashr/by_chr'"
      ],
      "text/latex": [
       "'/opt/data/data/phenomexcan/ld\\_blocks/gene\\_corrs/gtex\\_v8/mashr/by\\_chr'"
      ],
      "text/markdown": [
       "'/opt/data/data/phenomexcan/ld_blocks/gene_corrs/gtex_v8/mashr/by_chr'"
      ],
      "text/plain": [
       "[1] \"/opt/data/data/phenomexcan/ld_blocks/gene_corrs/gtex_v8/mashr/by_chr\""
      ]
     },
     "metadata": {},
     "output_type": "display_data"
    }
   ],
   "source": [
    "INPUT_DIR <- file.path(GENE_CORRS_DIR, tolower(REFERENCE_PANEL), tolower(EQTL_MODEL), \"by_chr\")\n",
    "IRdisplay::display(INPUT_DIR)"
   ]
  },
  {
   "cell_type": "code",
   "execution_count": 9,
   "id": "43c1daba-0da9-4822-8d1e-968e9767e251",
   "metadata": {
    "execution": {
     "iopub.execute_input": "2022-06-18T11:50:04.482361Z",
     "iopub.status.busy": "2022-06-18T11:50:04.481158Z",
     "iopub.status.idle": "2022-06-18T11:50:04.495696Z",
     "shell.execute_reply": "2022-06-18T11:50:04.494470Z"
    },
    "papermill": {
     "duration": 0.023757,
     "end_time": "2022-06-18T11:50:04.497473",
     "exception": false,
     "start_time": "2022-06-18T11:50:04.473716",
     "status": "completed"
    },
    "tags": []
   },
   "outputs": [
    {
     "data": {
      "text/html": [
       "'/opt/data/data/phenomexcan/ld_blocks/gene_corrs/gtex_v8/mashr/by_chr/gene_corrs-chr4.pkl'"
      ],
      "text/latex": [
       "'/opt/data/data/phenomexcan/ld\\_blocks/gene\\_corrs/gtex\\_v8/mashr/by\\_chr/gene\\_corrs-chr4.pkl'"
      ],
      "text/markdown": [
       "'/opt/data/data/phenomexcan/ld_blocks/gene_corrs/gtex_v8/mashr/by_chr/gene_corrs-chr4.pkl'"
      ],
      "text/plain": [
       "[1] \"/opt/data/data/phenomexcan/ld_blocks/gene_corrs/gtex_v8/mashr/by_chr/gene_corrs-chr4.pkl\""
      ]
     },
     "metadata": {},
     "output_type": "display_data"
    }
   ],
   "source": [
    "INPUT_FILE <- file.path(INPUT_DIR, paste0(\"gene_corrs-chr\", chromosome, \".pkl\"))\n",
    "IRdisplay::display(INPUT_FILE)\n",
    "stopifnot(file.exists(INPUT_FILE))"
   ]
  },
  {
   "cell_type": "code",
   "execution_count": 10,
   "id": "72386fbf-982b-420a-9057-ea9a97a5e571",
   "metadata": {
    "execution": {
     "iopub.execute_input": "2022-06-18T11:50:04.511320Z",
     "iopub.status.busy": "2022-06-18T11:50:04.510158Z",
     "iopub.status.idle": "2022-06-18T11:50:04.525021Z",
     "shell.execute_reply": "2022-06-18T11:50:04.523797Z"
    },
    "papermill": {
     "duration": 0.023446,
     "end_time": "2022-06-18T11:50:04.526802",
     "exception": false,
     "start_time": "2022-06-18T11:50:04.503356",
     "status": "completed"
    },
    "tags": []
   },
   "outputs": [
    {
     "data": {
      "text/html": [
       "'/opt/data/data/phenomexcan/ld_blocks/gene_corrs/gtex_v8/mashr/by_chr/corrected_positive_definite'"
      ],
      "text/latex": [
       "'/opt/data/data/phenomexcan/ld\\_blocks/gene\\_corrs/gtex\\_v8/mashr/by\\_chr/corrected\\_positive\\_definite'"
      ],
      "text/markdown": [
       "'/opt/data/data/phenomexcan/ld_blocks/gene_corrs/gtex_v8/mashr/by_chr/corrected_positive_definite'"
      ],
      "text/plain": [
       "[1] \"/opt/data/data/phenomexcan/ld_blocks/gene_corrs/gtex_v8/mashr/by_chr/corrected_positive_definite\""
      ]
     },
     "metadata": {},
     "output_type": "display_data"
    }
   ],
   "source": [
    "OUTPUT_DIR <- file.path(INPUT_DIR, \"corrected_positive_definite\")\n",
    "IRdisplay::display(OUTPUT_DIR)\n",
    "dir.create(OUTPUT_DIR, recursive = TRUE, showWarnings = FALSE)"
   ]
  },
  {
   "cell_type": "code",
   "execution_count": 11,
   "id": "f9f19d1d-ce4c-4099-a26e-250fec751de7",
   "metadata": {
    "execution": {
     "iopub.execute_input": "2022-06-18T11:50:04.541227Z",
     "iopub.status.busy": "2022-06-18T11:50:04.540009Z",
     "iopub.status.idle": "2022-06-18T11:50:04.561413Z",
     "shell.execute_reply": "2022-06-18T11:50:04.557163Z"
    },
    "papermill": {
     "duration": 0.030491,
     "end_time": "2022-06-18T11:50:04.563364",
     "exception": false,
     "start_time": "2022-06-18T11:50:04.532873",
     "status": "completed"
    },
    "tags": []
   },
   "outputs": [
    {
     "data": {
      "text/html": [
       "'/opt/data/data/phenomexcan/ld_blocks/gene_corrs/gtex_v8/mashr/by_chr/corrected_positive_definite/gene_corrs-chr4.pkl'"
      ],
      "text/latex": [
       "'/opt/data/data/phenomexcan/ld\\_blocks/gene\\_corrs/gtex\\_v8/mashr/by\\_chr/corrected\\_positive\\_definite/gene\\_corrs-chr4.pkl'"
      ],
      "text/markdown": [
       "'/opt/data/data/phenomexcan/ld_blocks/gene_corrs/gtex_v8/mashr/by_chr/corrected_positive_definite/gene_corrs-chr4.pkl'"
      ],
      "text/plain": [
       "[1] \"/opt/data/data/phenomexcan/ld_blocks/gene_corrs/gtex_v8/mashr/by_chr/corrected_positive_definite/gene_corrs-chr4.pkl\""
      ]
     },
     "metadata": {},
     "output_type": "display_data"
    },
    {
     "data": {
      "text/html": [
       "'Output file exists, it will be overwritten'"
      ],
      "text/latex": [
       "'Output file exists, it will be overwritten'"
      ],
      "text/markdown": [
       "'Output file exists, it will be overwritten'"
      ],
      "text/plain": [
       "[1] \"Output file exists, it will be overwritten\""
      ]
     },
     "metadata": {},
     "output_type": "display_data"
    }
   ],
   "source": [
    "OUTPUT_FILE <- file.path(OUTPUT_DIR, paste0(\"gene_corrs-chr\", chromosome, \".pkl\"))\n",
    "IRdisplay::display(OUTPUT_FILE)\n",
    "if (file.exists(OUTPUT_FILE)) {\n",
    "  IRdisplay::display(\"Output file exists, it will be overwritten\")\n",
    "}"
   ]
  },
  {
   "cell_type": "markdown",
   "id": "5aad60e6-cba4-41b5-9755-93eb86f4ed05",
   "metadata": {
    "papermill": {
     "duration": 0.006022,
     "end_time": "2022-06-18T11:50:04.575636",
     "exception": false,
     "start_time": "2022-06-18T11:50:04.569614",
     "status": "completed"
    },
    "tags": []
   },
   "source": [
    "# Functions"
   ]
  },
  {
   "cell_type": "code",
   "execution_count": 12,
   "id": "f828f081-7358-4cc8-8a89-1ee293bcc1a7",
   "metadata": {
    "execution": {
     "iopub.execute_input": "2022-06-18T11:50:04.590808Z",
     "iopub.status.busy": "2022-06-18T11:50:04.589665Z",
     "iopub.status.idle": "2022-06-18T11:50:04.599836Z",
     "shell.execute_reply": "2022-06-18T11:50:04.598568Z"
    },
    "papermill": {
     "duration": 0.019893,
     "end_time": "2022-06-18T11:50:04.601900",
     "exception": false,
     "start_time": "2022-06-18T11:50:04.582007",
     "status": "completed"
    },
    "tags": []
   },
   "outputs": [],
   "source": [
    "# taken from https://www.r-bloggers.com/2013/08/correcting-a-pseudo-correlation-matrix-to-be-positive-semidefinite/\n",
    "# TODO: add documentation\n",
    "CorrectCM <- function(CM, p = 0) {\n",
    "  n <- dim(var(CM))[1L]\n",
    "  E <- eigen(CM)\n",
    "  CM1 <- E$vectors %*% tcrossprod(diag(pmax(E$values, p), n), E$vectors)\n",
    "  Balance <- diag(1 / sqrt(diag(CM1)))\n",
    "  CM2 <- Balance %*% CM1 %*% Balance\n",
    "  return(CM2)\n",
    "}"
   ]
  },
  {
   "cell_type": "code",
   "execution_count": 13,
   "id": "7ab9bebf-50a1-4e6f-b16a-e23cae93d02a",
   "metadata": {
    "execution": {
     "iopub.execute_input": "2022-06-18T11:50:04.617911Z",
     "iopub.status.busy": "2022-06-18T11:50:04.616231Z",
     "iopub.status.idle": "2022-06-18T11:50:04.627294Z",
     "shell.execute_reply": "2022-06-18T11:50:04.626002Z"
    },
    "papermill": {
     "duration": 0.020541,
     "end_time": "2022-06-18T11:50:04.629063",
     "exception": false,
     "start_time": "2022-06-18T11:50:04.608522",
     "status": "completed"
    },
    "tags": []
   },
   "outputs": [],
   "source": [
    "is_positive_definite <- function(data) {\n",
    "  eigenvalues <- eigen(data)$values\n",
    "  nonpositive_eigenvalues <- eigenvalues[eigenvalues <= 0]\n",
    "\n",
    "  if (length(nonpositive_eigenvalues) > 0) {\n",
    "    IRdisplay::display(\"We need to correct the data and make the matrix positive definite\")\n",
    "    return(FALSE)\n",
    "  } else {\n",
    "    IRdisplay::display(\"Matrix is already positive definite!\")\n",
    "    return(TRUE)\n",
    "  }\n",
    "}"
   ]
  },
  {
   "cell_type": "markdown",
   "id": "ac52ecbc-5618-4876-a4fa-546a08e3fcf3",
   "metadata": {
    "papermill": {
     "duration": 0.006945,
     "end_time": "2022-06-18T11:50:04.643497",
     "exception": false,
     "start_time": "2022-06-18T11:50:04.636552",
     "status": "completed"
    },
    "tags": []
   },
   "source": [
    "# Load data"
   ]
  },
  {
   "cell_type": "code",
   "execution_count": 14,
   "id": "3a7744e1-2e5a-450e-9dcf-945ec181347d",
   "metadata": {
    "execution": {
     "iopub.execute_input": "2022-06-18T11:50:04.658104Z",
     "iopub.status.busy": "2022-06-18T11:50:04.656842Z",
     "iopub.status.idle": "2022-06-18T11:50:04.699650Z",
     "shell.execute_reply": "2022-06-18T11:50:04.698380Z"
    },
    "papermill": {
     "duration": 0.051945,
     "end_time": "2022-06-18T11:50:04.701701",
     "exception": false,
     "start_time": "2022-06-18T11:50:04.649756",
     "status": "completed"
    },
    "tags": []
   },
   "outputs": [],
   "source": [
    "gene_corrs <- pd$read_pickle(INPUT_FILE)"
   ]
  },
  {
   "cell_type": "code",
   "execution_count": 15,
   "id": "6fb150b2-4c68-4e9b-9aa5-1890d3f762e3",
   "metadata": {
    "execution": {
     "iopub.execute_input": "2022-06-18T11:50:04.716402Z",
     "iopub.status.busy": "2022-06-18T11:50:04.715385Z",
     "iopub.status.idle": "2022-06-18T11:50:04.727510Z",
     "shell.execute_reply": "2022-06-18T11:50:04.726236Z"
    },
    "papermill": {
     "duration": 0.021144,
     "end_time": "2022-06-18T11:50:04.729290",
     "exception": false,
     "start_time": "2022-06-18T11:50:04.708146",
     "status": "completed"
    },
    "tags": []
   },
   "outputs": [
    {
     "data": {
      "text/html": [
       "<style>\n",
       ".list-inline {list-style: none; margin:0; padding: 0}\n",
       ".list-inline>li {display: inline-block}\n",
       ".list-inline>li:not(:last-child)::after {content: \"\\00b7\"; padding: 0 .5ex}\n",
       "</style>\n",
       "<ol class=list-inline><li>244</li><li>244</li></ol>\n"
      ],
      "text/latex": [
       "\\begin{enumerate*}\n",
       "\\item 244\n",
       "\\item 244\n",
       "\\end{enumerate*}\n"
      ],
      "text/markdown": [
       "1. 244\n",
       "2. 244\n",
       "\n",
       "\n"
      ],
      "text/plain": [
       "[1] 244 244"
      ]
     },
     "metadata": {},
     "output_type": "display_data"
    }
   ],
   "source": [
    "dim(gene_corrs)"
   ]
  },
  {
   "cell_type": "code",
   "execution_count": 16,
   "id": "0d4e53b5-7586-4a68-8ce5-d930d74ba943",
   "metadata": {
    "execution": {
     "iopub.execute_input": "2022-06-18T11:50:04.745786Z",
     "iopub.status.busy": "2022-06-18T11:50:04.744466Z",
     "iopub.status.idle": "2022-06-18T11:50:04.768522Z",
     "shell.execute_reply": "2022-06-18T11:50:04.767178Z"
    },
    "papermill": {
     "duration": 0.033778,
     "end_time": "2022-06-18T11:50:04.770715",
     "exception": false,
     "start_time": "2022-06-18T11:50:04.736937",
     "status": "completed"
    },
    "tags": []
   },
   "outputs": [
    {
     "data": {
      "text/html": [
       "<table class=\"dataframe\">\n",
       "<caption>A data.frame: 6 × 10</caption>\n",
       "<thead>\n",
       "\t<tr><th></th><th scope=col>ENSG00000272602</th><th scope=col>ENSG00000131127</th><th scope=col>ENSG00000174227</th><th scope=col>ENSG00000133256</th><th scope=col>ENSG00000169020</th><th scope=col>ENSG00000215375</th><th scope=col>ENSG00000169026</th><th scope=col>ENSG00000178950</th><th scope=col>ENSG00000145214</th><th scope=col>ENSG00000145217</th></tr>\n",
       "\t<tr><th></th><th scope=col>&lt;dbl&gt;</th><th scope=col>&lt;dbl&gt;</th><th scope=col>&lt;dbl&gt;</th><th scope=col>&lt;dbl&gt;</th><th scope=col>&lt;dbl&gt;</th><th scope=col>&lt;dbl&gt;</th><th scope=col>&lt;dbl&gt;</th><th scope=col>&lt;dbl&gt;</th><th scope=col>&lt;dbl&gt;</th><th scope=col>&lt;dbl&gt;</th></tr>\n",
       "</thead>\n",
       "<tbody>\n",
       "\t<tr><th scope=row>ENSG00000272602</th><td> 1.000000000</td><td>-0.009553751</td><td> 0.150293675</td><td> 0.03335459</td><td>-0.14932365</td><td>-0.01873805</td><td> 0.22156662</td><td>-0.165014736</td><td> 0.08899452</td><td>-0.02932051</td></tr>\n",
       "\t<tr><th scope=row>ENSG00000131127</th><td>-0.009553751</td><td> 1.000000000</td><td> 0.007011144</td><td>-0.01196897</td><td>-0.11262825</td><td>-0.33456193</td><td> 0.47397527</td><td> 0.006672161</td><td>-0.17425058</td><td>-0.08271097</td></tr>\n",
       "\t<tr><th scope=row>ENSG00000174227</th><td> 0.150293675</td><td> 0.007011144</td><td> 1.000000000</td><td> 0.15153585</td><td>-0.25450142</td><td>-0.07142492</td><td> 0.39495518</td><td> 0.059066888</td><td>-0.04577018</td><td> 0.19981893</td></tr>\n",
       "\t<tr><th scope=row>ENSG00000133256</th><td> 0.033354592</td><td>-0.011968967</td><td> 0.151535848</td><td> 1.00000000</td><td> 0.09553455</td><td>-0.16724901</td><td>-0.02378855</td><td> 0.070181002</td><td> 0.10198709</td><td> 0.02238429</td></tr>\n",
       "\t<tr><th scope=row>ENSG00000169020</th><td>-0.149323648</td><td>-0.112628250</td><td>-0.254501417</td><td> 0.09553455</td><td> 1.00000000</td><td> 0.01104808</td><td>-0.14681850</td><td>-0.160465205</td><td> 0.11454032</td><td> 0.01720044</td></tr>\n",
       "\t<tr><th scope=row>ENSG00000215375</th><td>-0.018738046</td><td>-0.334561933</td><td>-0.071424922</td><td>-0.16724901</td><td> 0.01104808</td><td> 1.00000000</td><td>-0.30027667</td><td> 0.025483868</td><td>-0.10166441</td><td> 0.19250162</td></tr>\n",
       "</tbody>\n",
       "</table>\n"
      ],
      "text/latex": [
       "A data.frame: 6 × 10\n",
       "\\begin{tabular}{r|llllllllll}\n",
       "  & ENSG00000272602 & ENSG00000131127 & ENSG00000174227 & ENSG00000133256 & ENSG00000169020 & ENSG00000215375 & ENSG00000169026 & ENSG00000178950 & ENSG00000145214 & ENSG00000145217\\\\\n",
       "  & <dbl> & <dbl> & <dbl> & <dbl> & <dbl> & <dbl> & <dbl> & <dbl> & <dbl> & <dbl>\\\\\n",
       "\\hline\n",
       "\tENSG00000272602 &  1.000000000 & -0.009553751 &  0.150293675 &  0.03335459 & -0.14932365 & -0.01873805 &  0.22156662 & -0.165014736 &  0.08899452 & -0.02932051\\\\\n",
       "\tENSG00000131127 & -0.009553751 &  1.000000000 &  0.007011144 & -0.01196897 & -0.11262825 & -0.33456193 &  0.47397527 &  0.006672161 & -0.17425058 & -0.08271097\\\\\n",
       "\tENSG00000174227 &  0.150293675 &  0.007011144 &  1.000000000 &  0.15153585 & -0.25450142 & -0.07142492 &  0.39495518 &  0.059066888 & -0.04577018 &  0.19981893\\\\\n",
       "\tENSG00000133256 &  0.033354592 & -0.011968967 &  0.151535848 &  1.00000000 &  0.09553455 & -0.16724901 & -0.02378855 &  0.070181002 &  0.10198709 &  0.02238429\\\\\n",
       "\tENSG00000169020 & -0.149323648 & -0.112628250 & -0.254501417 &  0.09553455 &  1.00000000 &  0.01104808 & -0.14681850 & -0.160465205 &  0.11454032 &  0.01720044\\\\\n",
       "\tENSG00000215375 & -0.018738046 & -0.334561933 & -0.071424922 & -0.16724901 &  0.01104808 &  1.00000000 & -0.30027667 &  0.025483868 & -0.10166441 &  0.19250162\\\\\n",
       "\\end{tabular}\n"
      ],
      "text/markdown": [
       "\n",
       "A data.frame: 6 × 10\n",
       "\n",
       "| <!--/--> | ENSG00000272602 &lt;dbl&gt; | ENSG00000131127 &lt;dbl&gt; | ENSG00000174227 &lt;dbl&gt; | ENSG00000133256 &lt;dbl&gt; | ENSG00000169020 &lt;dbl&gt; | ENSG00000215375 &lt;dbl&gt; | ENSG00000169026 &lt;dbl&gt; | ENSG00000178950 &lt;dbl&gt; | ENSG00000145214 &lt;dbl&gt; | ENSG00000145217 &lt;dbl&gt; |\n",
       "|---|---|---|---|---|---|---|---|---|---|---|\n",
       "| ENSG00000272602 |  1.000000000 | -0.009553751 |  0.150293675 |  0.03335459 | -0.14932365 | -0.01873805 |  0.22156662 | -0.165014736 |  0.08899452 | -0.02932051 |\n",
       "| ENSG00000131127 | -0.009553751 |  1.000000000 |  0.007011144 | -0.01196897 | -0.11262825 | -0.33456193 |  0.47397527 |  0.006672161 | -0.17425058 | -0.08271097 |\n",
       "| ENSG00000174227 |  0.150293675 |  0.007011144 |  1.000000000 |  0.15153585 | -0.25450142 | -0.07142492 |  0.39495518 |  0.059066888 | -0.04577018 |  0.19981893 |\n",
       "| ENSG00000133256 |  0.033354592 | -0.011968967 |  0.151535848 |  1.00000000 |  0.09553455 | -0.16724901 | -0.02378855 |  0.070181002 |  0.10198709 |  0.02238429 |\n",
       "| ENSG00000169020 | -0.149323648 | -0.112628250 | -0.254501417 |  0.09553455 |  1.00000000 |  0.01104808 | -0.14681850 | -0.160465205 |  0.11454032 |  0.01720044 |\n",
       "| ENSG00000215375 | -0.018738046 | -0.334561933 | -0.071424922 | -0.16724901 |  0.01104808 |  1.00000000 | -0.30027667 |  0.025483868 | -0.10166441 |  0.19250162 |\n",
       "\n"
      ],
      "text/plain": [
       "                ENSG00000272602 ENSG00000131127 ENSG00000174227 ENSG00000133256\n",
       "ENSG00000272602  1.000000000    -0.009553751     0.150293675     0.03335459    \n",
       "ENSG00000131127 -0.009553751     1.000000000     0.007011144    -0.01196897    \n",
       "ENSG00000174227  0.150293675     0.007011144     1.000000000     0.15153585    \n",
       "ENSG00000133256  0.033354592    -0.011968967     0.151535848     1.00000000    \n",
       "ENSG00000169020 -0.149323648    -0.112628250    -0.254501417     0.09553455    \n",
       "ENSG00000215375 -0.018738046    -0.334561933    -0.071424922    -0.16724901    \n",
       "                ENSG00000169020 ENSG00000215375 ENSG00000169026 ENSG00000178950\n",
       "ENSG00000272602 -0.14932365     -0.01873805      0.22156662     -0.165014736   \n",
       "ENSG00000131127 -0.11262825     -0.33456193      0.47397527      0.006672161   \n",
       "ENSG00000174227 -0.25450142     -0.07142492      0.39495518      0.059066888   \n",
       "ENSG00000133256  0.09553455     -0.16724901     -0.02378855      0.070181002   \n",
       "ENSG00000169020  1.00000000      0.01104808     -0.14681850     -0.160465205   \n",
       "ENSG00000215375  0.01104808      1.00000000     -0.30027667      0.025483868   \n",
       "                ENSG00000145214 ENSG00000145217\n",
       "ENSG00000272602  0.08899452     -0.02932051    \n",
       "ENSG00000131127 -0.17425058     -0.08271097    \n",
       "ENSG00000174227 -0.04577018      0.19981893    \n",
       "ENSG00000133256  0.10198709      0.02238429    \n",
       "ENSG00000169020  0.11454032      0.01720044    \n",
       "ENSG00000215375 -0.10166441      0.19250162    "
      ]
     },
     "metadata": {},
     "output_type": "display_data"
    }
   ],
   "source": [
    "head(gene_corrs[1:10, 1:10])"
   ]
  },
  {
   "cell_type": "markdown",
   "id": "c5c9ffba-1678-4ce7-8988-4ee03e23bdf2",
   "metadata": {
    "papermill": {
     "duration": 0.006622,
     "end_time": "2022-06-18T11:50:04.784524",
     "exception": false,
     "start_time": "2022-06-18T11:50:04.777902",
     "status": "completed"
    },
    "tags": []
   },
   "source": [
    "# Check positive definiteness"
   ]
  },
  {
   "cell_type": "code",
   "execution_count": 17,
   "id": "178854f5-487a-42e8-82b4-625c1979734a",
   "metadata": {
    "execution": {
     "iopub.execute_input": "2022-06-18T11:50:04.801676Z",
     "iopub.status.busy": "2022-06-18T11:50:04.799648Z",
     "iopub.status.idle": "2022-06-18T11:50:04.832515Z",
     "shell.execute_reply": "2022-06-18T11:50:04.831268Z"
    },
    "papermill": {
     "duration": 0.042626,
     "end_time": "2022-06-18T11:50:04.834104",
     "exception": false,
     "start_time": "2022-06-18T11:50:04.791478",
     "status": "completed"
    },
    "tags": []
   },
   "outputs": [
    {
     "data": {
      "text/html": [
       "'We need to correct the data and make the matrix positive definite'"
      ],
      "text/latex": [
       "'We need to correct the data and make the matrix positive definite'"
      ],
      "text/markdown": [
       "'We need to correct the data and make the matrix positive definite'"
      ],
      "text/plain": [
       "[1] \"We need to correct the data and make the matrix positive definite\""
      ]
     },
     "metadata": {},
     "output_type": "display_data"
    },
    {
     "data": {
      "text/html": [
       "FALSE"
      ],
      "text/latex": [
       "FALSE"
      ],
      "text/markdown": [
       "FALSE"
      ],
      "text/plain": [
       "[1] FALSE"
      ]
     },
     "metadata": {},
     "output_type": "display_data"
    }
   ],
   "source": [
    "is_positive_definite(gene_corrs)"
   ]
  },
  {
   "cell_type": "code",
   "execution_count": 18,
   "id": "58542ade-c80f-42e6-acbf-6464dab70fdb",
   "metadata": {
    "execution": {
     "iopub.execute_input": "2022-06-18T11:50:04.851700Z",
     "iopub.status.busy": "2022-06-18T11:50:04.849904Z",
     "iopub.status.idle": "2022-06-18T11:50:04.871095Z",
     "shell.execute_reply": "2022-06-18T11:50:04.869933Z"
    },
    "papermill": {
     "duration": 0.031837,
     "end_time": "2022-06-18T11:50:04.872708",
     "exception": false,
     "start_time": "2022-06-18T11:50:04.840871",
     "status": "completed"
    },
    "tags": []
   },
   "outputs": [],
   "source": [
    "# see eigenvalues\n",
    "eigenvalues <- eigen(gene_corrs)$values"
   ]
  },
  {
   "cell_type": "code",
   "execution_count": 19,
   "id": "9486e0db-e924-43ab-bb6c-0d997fd38f3d",
   "metadata": {
    "execution": {
     "iopub.execute_input": "2022-06-18T11:50:04.889440Z",
     "iopub.status.busy": "2022-06-18T11:50:04.888486Z",
     "iopub.status.idle": "2022-06-18T11:50:04.913038Z",
     "shell.execute_reply": "2022-06-18T11:50:04.910859Z"
    },
    "papermill": {
     "duration": 0.032907,
     "end_time": "2022-06-18T11:50:04.914713",
     "exception": false,
     "start_time": "2022-06-18T11:50:04.881806",
     "status": "completed"
    },
    "tags": []
   },
   "outputs": [
    {
     "data": {
      "text/html": [
       "11"
      ],
      "text/latex": [
       "11"
      ],
      "text/markdown": [
       "11"
      ],
      "text/plain": [
       "[1] 11"
      ]
     },
     "metadata": {},
     "output_type": "display_data"
    },
    {
     "data": {
      "text/html": [
       "<style>\n",
       ".list-inline {list-style: none; margin:0; padding: 0}\n",
       ".list-inline>li {display: inline-block}\n",
       ".list-inline>li:not(:last-child)::after {content: \"\\00b7\"; padding: 0 .5ex}\n",
       "</style>\n",
       "<ol class=list-inline><li>-0.0228595576747304</li><li>-0.0238465219647899</li><li>-0.0626400960322956</li><li>-0.0665201069072129</li><li>-0.0795468924669285</li><li>-0.170669734207895</li><li>-0.178567722521852</li><li>-0.195211990187881</li><li>-0.365362443958405</li><li>-0.611373244129001</li><li>-0.89465733078559</li></ol>\n"
      ],
      "text/latex": [
       "\\begin{enumerate*}\n",
       "\\item -0.0228595576747304\n",
       "\\item -0.0238465219647899\n",
       "\\item -0.0626400960322956\n",
       "\\item -0.0665201069072129\n",
       "\\item -0.0795468924669285\n",
       "\\item -0.170669734207895\n",
       "\\item -0.178567722521852\n",
       "\\item -0.195211990187881\n",
       "\\item -0.365362443958405\n",
       "\\item -0.611373244129001\n",
       "\\item -0.89465733078559\n",
       "\\end{enumerate*}\n"
      ],
      "text/markdown": [
       "1. -0.0228595576747304\n",
       "2. -0.0238465219647899\n",
       "3. -0.0626400960322956\n",
       "4. -0.0665201069072129\n",
       "5. -0.0795468924669285\n",
       "6. -0.170669734207895\n",
       "7. -0.178567722521852\n",
       "8. -0.195211990187881\n",
       "9. -0.365362443958405\n",
       "10. -0.611373244129001\n",
       "11. -0.89465733078559\n",
       "\n",
       "\n"
      ],
      "text/plain": [
       " [1] -0.02285956 -0.02384652 -0.06264010 -0.06652011 -0.07954689 -0.17066973\n",
       " [7] -0.17856772 -0.19521199 -0.36536244 -0.61137324 -0.89465733"
      ]
     },
     "metadata": {},
     "output_type": "display_data"
    }
   ],
   "source": [
    "nonpositive_eigenvalues <- eigenvalues[eigenvalues <= 0]\n",
    "IRdisplay::display(length(nonpositive_eigenvalues))\n",
    "IRdisplay::display(nonpositive_eigenvalues)"
   ]
  },
  {
   "cell_type": "code",
   "execution_count": 20,
   "id": "410ee452-488f-4518-b93a-2acd608ba99c",
   "metadata": {
    "execution": {
     "iopub.execute_input": "2022-06-18T11:50:04.931040Z",
     "iopub.status.busy": "2022-06-18T11:50:04.930073Z",
     "iopub.status.idle": "2022-06-18T11:50:04.940321Z",
     "shell.execute_reply": "2022-06-18T11:50:04.938488Z"
    },
    "papermill": {
     "duration": 0.020772,
     "end_time": "2022-06-18T11:50:04.941843",
     "exception": false,
     "start_time": "2022-06-18T11:50:04.921071",
     "status": "completed"
    },
    "tags": []
   },
   "outputs": [],
   "source": [
    "if (length(eigenvalues[eigenvalues <= 0]) == 0) { quit() }"
   ]
  },
  {
   "cell_type": "markdown",
   "id": "2d280a82-f231-402d-82ab-9291d395afc1",
   "metadata": {
    "papermill": {
     "duration": 0.006241,
     "end_time": "2022-06-18T11:50:04.954320",
     "exception": false,
     "start_time": "2022-06-18T11:50:04.948079",
     "status": "completed"
    },
    "tags": []
   },
   "source": [
    "# Make matrix positive definite if needed"
   ]
  },
  {
   "cell_type": "code",
   "execution_count": 21,
   "id": "b9037873-4067-4ac6-aa92-e9225a6c9353",
   "metadata": {
    "execution": {
     "iopub.execute_input": "2022-06-18T11:50:04.969592Z",
     "iopub.status.busy": "2022-06-18T11:50:04.968584Z",
     "iopub.status.idle": "2022-06-18T11:50:05.014259Z",
     "shell.execute_reply": "2022-06-18T11:50:05.010211Z"
    },
    "papermill": {
     "duration": 0.054451,
     "end_time": "2022-06-18T11:50:05.015988",
     "exception": false,
     "start_time": "2022-06-18T11:50:04.961537",
     "status": "completed"
    },
    "tags": []
   },
   "outputs": [],
   "source": [
    "gene_corrs_corrected <- CorrectCM(gene_corrs, 1)"
   ]
  },
  {
   "cell_type": "code",
   "execution_count": 22,
   "id": "03c86284-5aac-4f66-86cc-74eb97102a7e",
   "metadata": {
    "execution": {
     "iopub.execute_input": "2022-06-18T11:50:05.047564Z",
     "iopub.status.busy": "2022-06-18T11:50:05.046636Z",
     "iopub.status.idle": "2022-06-18T11:50:05.056262Z",
     "shell.execute_reply": "2022-06-18T11:50:05.055187Z"
    },
    "papermill": {
     "duration": 0.035357,
     "end_time": "2022-06-18T11:50:05.067097",
     "exception": false,
     "start_time": "2022-06-18T11:50:05.031740",
     "status": "completed"
    },
    "tags": []
   },
   "outputs": [],
   "source": [
    "dimnames(gene_corrs_corrected)[[1]] <- rownames(gene_corrs)"
   ]
  },
  {
   "cell_type": "code",
   "execution_count": 23,
   "id": "576e7069-25ff-473d-8158-35b5f2ff212e",
   "metadata": {
    "execution": {
     "iopub.execute_input": "2022-06-18T11:50:05.095288Z",
     "iopub.status.busy": "2022-06-18T11:50:05.094300Z",
     "iopub.status.idle": "2022-06-18T11:50:05.102884Z",
     "shell.execute_reply": "2022-06-18T11:50:05.101678Z"
    },
    "papermill": {
     "duration": 0.018599,
     "end_time": "2022-06-18T11:50:05.104314",
     "exception": false,
     "start_time": "2022-06-18T11:50:05.085715",
     "status": "completed"
    },
    "tags": []
   },
   "outputs": [],
   "source": [
    "dimnames(gene_corrs_corrected)[[2]] <- colnames(gene_corrs)"
   ]
  },
  {
   "cell_type": "code",
   "execution_count": 24,
   "id": "f77d043a-321d-447f-8da5-2503981d3e73",
   "metadata": {
    "execution": {
     "iopub.execute_input": "2022-06-18T11:50:05.119667Z",
     "iopub.status.busy": "2022-06-18T11:50:05.118685Z",
     "iopub.status.idle": "2022-06-18T11:50:05.132141Z",
     "shell.execute_reply": "2022-06-18T11:50:05.129047Z"
    },
    "papermill": {
     "duration": 0.022254,
     "end_time": "2022-06-18T11:50:05.133839",
     "exception": false,
     "start_time": "2022-06-18T11:50:05.111585",
     "status": "completed"
    },
    "tags": []
   },
   "outputs": [],
   "source": [
    "gene_corrs_corrected <- as.data.frame(gene_corrs_corrected)"
   ]
  },
  {
   "cell_type": "code",
   "execution_count": 25,
   "id": "3e844024-f9a2-42a2-bbd0-695cfdbb78f5",
   "metadata": {
    "execution": {
     "iopub.execute_input": "2022-06-18T11:50:05.148811Z",
     "iopub.status.busy": "2022-06-18T11:50:05.147776Z",
     "iopub.status.idle": "2022-06-18T11:50:05.161906Z",
     "shell.execute_reply": "2022-06-18T11:50:05.159995Z"
    },
    "papermill": {
     "duration": 0.022794,
     "end_time": "2022-06-18T11:50:05.163592",
     "exception": false,
     "start_time": "2022-06-18T11:50:05.140798",
     "status": "completed"
    },
    "tags": []
   },
   "outputs": [
    {
     "data": {
      "text/html": [
       "<style>\n",
       ".list-inline {list-style: none; margin:0; padding: 0}\n",
       ".list-inline>li {display: inline-block}\n",
       ".list-inline>li:not(:last-child)::after {content: \"\\00b7\"; padding: 0 .5ex}\n",
       "</style>\n",
       "<ol class=list-inline><li>244</li><li>244</li></ol>\n"
      ],
      "text/latex": [
       "\\begin{enumerate*}\n",
       "\\item 244\n",
       "\\item 244\n",
       "\\end{enumerate*}\n"
      ],
      "text/markdown": [
       "1. 244\n",
       "2. 244\n",
       "\n",
       "\n"
      ],
      "text/plain": [
       "[1] 244 244"
      ]
     },
     "metadata": {},
     "output_type": "display_data"
    }
   ],
   "source": [
    "dim(gene_corrs_corrected)"
   ]
  },
  {
   "cell_type": "markdown",
   "id": "244b6bde-4ca8-46d1-acc7-b4c35b5d3c62",
   "metadata": {
    "papermill": {
     "duration": 0.006396,
     "end_time": "2022-06-18T11:50:05.176789",
     "exception": false,
     "start_time": "2022-06-18T11:50:05.170393",
     "status": "completed"
    },
    "tags": []
   },
   "source": [
    "# Check positive definiteness of corrected matrix"
   ]
  },
  {
   "cell_type": "code",
   "execution_count": 26,
   "id": "0fd5b688-e137-4619-910c-35130d32d600",
   "metadata": {
    "execution": {
     "iopub.execute_input": "2022-06-18T11:50:05.195081Z",
     "iopub.status.busy": "2022-06-18T11:50:05.194188Z",
     "iopub.status.idle": "2022-06-18T11:50:05.255815Z",
     "shell.execute_reply": "2022-06-18T11:50:05.254787Z"
    },
    "papermill": {
     "duration": 0.073949,
     "end_time": "2022-06-18T11:50:05.257203",
     "exception": false,
     "start_time": "2022-06-18T11:50:05.183254",
     "status": "completed"
    },
    "tags": []
   },
   "outputs": [
    {
     "data": {
      "text/html": [
       "'Matrix is already positive definite!'"
      ],
      "text/latex": [
       "'Matrix is already positive definite!'"
      ],
      "text/markdown": [
       "'Matrix is already positive definite!'"
      ],
      "text/plain": [
       "[1] \"Matrix is already positive definite!\""
      ]
     },
     "metadata": {},
     "output_type": "display_data"
    },
    {
     "data": {
      "text/html": [
       "TRUE"
      ],
      "text/latex": [
       "TRUE"
      ],
      "text/markdown": [
       "TRUE"
      ],
      "text/plain": [
       "[1] TRUE"
      ]
     },
     "metadata": {},
     "output_type": "display_data"
    }
   ],
   "source": [
    "is_positive_definite(gene_corrs_corrected)"
   ]
  },
  {
   "cell_type": "code",
   "execution_count": 27,
   "id": "06d23ab8-bebb-474c-be33-dca7e53c1717",
   "metadata": {
    "execution": {
     "iopub.execute_input": "2022-06-18T11:50:05.272227Z",
     "iopub.status.busy": "2022-06-18T11:50:05.271219Z",
     "iopub.status.idle": "2022-06-18T11:50:05.307331Z",
     "shell.execute_reply": "2022-06-18T11:50:05.296498Z"
    },
    "papermill": {
     "duration": 0.045277,
     "end_time": "2022-06-18T11:50:05.309090",
     "exception": false,
     "start_time": "2022-06-18T11:50:05.263813",
     "status": "completed"
    },
    "tags": []
   },
   "outputs": [],
   "source": [
    "# see eigenvalues\n",
    "eigenvalues <- eigen(gene_corrs_corrected)$values"
   ]
  },
  {
   "cell_type": "code",
   "execution_count": 28,
   "id": "ddf8afb8-e0e2-4b4e-876d-12bd6856c1ad",
   "metadata": {
    "execution": {
     "iopub.execute_input": "2022-06-18T11:50:05.338034Z",
     "iopub.status.busy": "2022-06-18T11:50:05.337088Z",
     "iopub.status.idle": "2022-06-18T11:50:05.376174Z",
     "shell.execute_reply": "2022-06-18T11:50:05.372002Z"
    },
    "papermill": {
     "duration": 0.057075,
     "end_time": "2022-06-18T11:50:05.377740",
     "exception": false,
     "start_time": "2022-06-18T11:50:05.320665",
     "status": "completed"
    },
    "tags": []
   },
   "outputs": [
    {
     "data": {
      "text/html": [
       "0"
      ],
      "text/latex": [
       "0"
      ],
      "text/markdown": [
       "0"
      ],
      "text/plain": [
       "[1] 0"
      ]
     },
     "metadata": {},
     "output_type": "display_data"
    },
    {
     "data": {
      "text/html": [],
      "text/latex": [],
      "text/markdown": [],
      "text/plain": [
       "numeric(0)"
      ]
     },
     "metadata": {},
     "output_type": "display_data"
    }
   ],
   "source": [
    "nonpositive_eigenvalues <- eigenvalues[eigenvalues <= 0]\n",
    "IRdisplay::display(length(nonpositive_eigenvalues))\n",
    "IRdisplay::display(nonpositive_eigenvalues)"
   ]
  },
  {
   "cell_type": "code",
   "execution_count": 29,
   "id": "712fd71a-b6ec-4a13-a956-80c99be7f585",
   "metadata": {
    "execution": {
     "iopub.execute_input": "2022-06-18T11:50:05.393163Z",
     "iopub.status.busy": "2022-06-18T11:50:05.392258Z",
     "iopub.status.idle": "2022-06-18T11:50:05.405036Z",
     "shell.execute_reply": "2022-06-18T11:50:05.403244Z"
    },
    "papermill": {
     "duration": 0.021853,
     "end_time": "2022-06-18T11:50:05.406487",
     "exception": false,
     "start_time": "2022-06-18T11:50:05.384634",
     "status": "completed"
    },
    "tags": []
   },
   "outputs": [],
   "source": [
    "stopifnot(length(eigenvalues[eigenvalues <= 0]) == 0)"
   ]
  },
  {
   "cell_type": "code",
   "execution_count": 30,
   "id": "786d6336-3844-40f7-979b-6d6028787f7f",
   "metadata": {
    "execution": {
     "iopub.execute_input": "2022-06-18T11:50:05.421573Z",
     "iopub.status.busy": "2022-06-18T11:50:05.420589Z",
     "iopub.status.idle": "2022-06-18T11:50:05.451056Z",
     "shell.execute_reply": "2022-06-18T11:50:05.449202Z"
    },
    "papermill": {
     "duration": 0.039298,
     "end_time": "2022-06-18T11:50:05.452554",
     "exception": false,
     "start_time": "2022-06-18T11:50:05.413256",
     "status": "completed"
    },
    "tags": []
   },
   "outputs": [
    {
     "data": {
      "text/html": [
       "<table class=\"dataframe\">\n",
       "<caption>A data.frame: 6 × 10</caption>\n",
       "<thead>\n",
       "\t<tr><th></th><th scope=col>ENSG00000272602</th><th scope=col>ENSG00000131127</th><th scope=col>ENSG00000174227</th><th scope=col>ENSG00000133256</th><th scope=col>ENSG00000169020</th><th scope=col>ENSG00000215375</th><th scope=col>ENSG00000169026</th><th scope=col>ENSG00000178950</th><th scope=col>ENSG00000145214</th><th scope=col>ENSG00000145217</th></tr>\n",
       "\t<tr><th></th><th scope=col>&lt;dbl&gt;</th><th scope=col>&lt;dbl&gt;</th><th scope=col>&lt;dbl&gt;</th><th scope=col>&lt;dbl&gt;</th><th scope=col>&lt;dbl&gt;</th><th scope=col>&lt;dbl&gt;</th><th scope=col>&lt;dbl&gt;</th><th scope=col>&lt;dbl&gt;</th><th scope=col>&lt;dbl&gt;</th><th scope=col>&lt;dbl&gt;</th></tr>\n",
       "</thead>\n",
       "<tbody>\n",
       "\t<tr><th scope=row>ENSG00000272602</th><td> 1.000000000</td><td>-0.009553751</td><td> 0.150293675</td><td> 0.03335459</td><td>-0.14932365</td><td>-0.01873805</td><td> 0.22156662</td><td>-0.165014736</td><td> 0.08899452</td><td>-0.02932051</td></tr>\n",
       "\t<tr><th scope=row>ENSG00000131127</th><td>-0.009553751</td><td> 1.000000000</td><td> 0.007011144</td><td>-0.01196897</td><td>-0.11262825</td><td>-0.33456193</td><td> 0.47397527</td><td> 0.006672161</td><td>-0.17425058</td><td>-0.08271097</td></tr>\n",
       "\t<tr><th scope=row>ENSG00000174227</th><td> 0.150293675</td><td> 0.007011144</td><td> 1.000000000</td><td> 0.15153585</td><td>-0.25450142</td><td>-0.07142492</td><td> 0.39495518</td><td> 0.059066888</td><td>-0.04577018</td><td> 0.19981893</td></tr>\n",
       "\t<tr><th scope=row>ENSG00000133256</th><td> 0.033354592</td><td>-0.011968967</td><td> 0.151535848</td><td> 1.00000000</td><td> 0.09553455</td><td>-0.16724901</td><td>-0.02378855</td><td> 0.070181002</td><td> 0.10198709</td><td> 0.02238429</td></tr>\n",
       "\t<tr><th scope=row>ENSG00000169020</th><td>-0.149323648</td><td>-0.112628250</td><td>-0.254501417</td><td> 0.09553455</td><td> 1.00000000</td><td> 0.01104808</td><td>-0.14681850</td><td>-0.160465205</td><td> 0.11454032</td><td> 0.01720044</td></tr>\n",
       "\t<tr><th scope=row>ENSG00000215375</th><td>-0.018738046</td><td>-0.334561933</td><td>-0.071424922</td><td>-0.16724901</td><td> 0.01104808</td><td> 1.00000000</td><td>-0.30027667</td><td> 0.025483868</td><td>-0.10166441</td><td> 0.19250162</td></tr>\n",
       "</tbody>\n",
       "</table>\n"
      ],
      "text/latex": [
       "A data.frame: 6 × 10\n",
       "\\begin{tabular}{r|llllllllll}\n",
       "  & ENSG00000272602 & ENSG00000131127 & ENSG00000174227 & ENSG00000133256 & ENSG00000169020 & ENSG00000215375 & ENSG00000169026 & ENSG00000178950 & ENSG00000145214 & ENSG00000145217\\\\\n",
       "  & <dbl> & <dbl> & <dbl> & <dbl> & <dbl> & <dbl> & <dbl> & <dbl> & <dbl> & <dbl>\\\\\n",
       "\\hline\n",
       "\tENSG00000272602 &  1.000000000 & -0.009553751 &  0.150293675 &  0.03335459 & -0.14932365 & -0.01873805 &  0.22156662 & -0.165014736 &  0.08899452 & -0.02932051\\\\\n",
       "\tENSG00000131127 & -0.009553751 &  1.000000000 &  0.007011144 & -0.01196897 & -0.11262825 & -0.33456193 &  0.47397527 &  0.006672161 & -0.17425058 & -0.08271097\\\\\n",
       "\tENSG00000174227 &  0.150293675 &  0.007011144 &  1.000000000 &  0.15153585 & -0.25450142 & -0.07142492 &  0.39495518 &  0.059066888 & -0.04577018 &  0.19981893\\\\\n",
       "\tENSG00000133256 &  0.033354592 & -0.011968967 &  0.151535848 &  1.00000000 &  0.09553455 & -0.16724901 & -0.02378855 &  0.070181002 &  0.10198709 &  0.02238429\\\\\n",
       "\tENSG00000169020 & -0.149323648 & -0.112628250 & -0.254501417 &  0.09553455 &  1.00000000 &  0.01104808 & -0.14681850 & -0.160465205 &  0.11454032 &  0.01720044\\\\\n",
       "\tENSG00000215375 & -0.018738046 & -0.334561933 & -0.071424922 & -0.16724901 &  0.01104808 &  1.00000000 & -0.30027667 &  0.025483868 & -0.10166441 &  0.19250162\\\\\n",
       "\\end{tabular}\n"
      ],
      "text/markdown": [
       "\n",
       "A data.frame: 6 × 10\n",
       "\n",
       "| <!--/--> | ENSG00000272602 &lt;dbl&gt; | ENSG00000131127 &lt;dbl&gt; | ENSG00000174227 &lt;dbl&gt; | ENSG00000133256 &lt;dbl&gt; | ENSG00000169020 &lt;dbl&gt; | ENSG00000215375 &lt;dbl&gt; | ENSG00000169026 &lt;dbl&gt; | ENSG00000178950 &lt;dbl&gt; | ENSG00000145214 &lt;dbl&gt; | ENSG00000145217 &lt;dbl&gt; |\n",
       "|---|---|---|---|---|---|---|---|---|---|---|\n",
       "| ENSG00000272602 |  1.000000000 | -0.009553751 |  0.150293675 |  0.03335459 | -0.14932365 | -0.01873805 |  0.22156662 | -0.165014736 |  0.08899452 | -0.02932051 |\n",
       "| ENSG00000131127 | -0.009553751 |  1.000000000 |  0.007011144 | -0.01196897 | -0.11262825 | -0.33456193 |  0.47397527 |  0.006672161 | -0.17425058 | -0.08271097 |\n",
       "| ENSG00000174227 |  0.150293675 |  0.007011144 |  1.000000000 |  0.15153585 | -0.25450142 | -0.07142492 |  0.39495518 |  0.059066888 | -0.04577018 |  0.19981893 |\n",
       "| ENSG00000133256 |  0.033354592 | -0.011968967 |  0.151535848 |  1.00000000 |  0.09553455 | -0.16724901 | -0.02378855 |  0.070181002 |  0.10198709 |  0.02238429 |\n",
       "| ENSG00000169020 | -0.149323648 | -0.112628250 | -0.254501417 |  0.09553455 |  1.00000000 |  0.01104808 | -0.14681850 | -0.160465205 |  0.11454032 |  0.01720044 |\n",
       "| ENSG00000215375 | -0.018738046 | -0.334561933 | -0.071424922 | -0.16724901 |  0.01104808 |  1.00000000 | -0.30027667 |  0.025483868 | -0.10166441 |  0.19250162 |\n",
       "\n"
      ],
      "text/plain": [
       "                ENSG00000272602 ENSG00000131127 ENSG00000174227 ENSG00000133256\n",
       "ENSG00000272602  1.000000000    -0.009553751     0.150293675     0.03335459    \n",
       "ENSG00000131127 -0.009553751     1.000000000     0.007011144    -0.01196897    \n",
       "ENSG00000174227  0.150293675     0.007011144     1.000000000     0.15153585    \n",
       "ENSG00000133256  0.033354592    -0.011968967     0.151535848     1.00000000    \n",
       "ENSG00000169020 -0.149323648    -0.112628250    -0.254501417     0.09553455    \n",
       "ENSG00000215375 -0.018738046    -0.334561933    -0.071424922    -0.16724901    \n",
       "                ENSG00000169020 ENSG00000215375 ENSG00000169026 ENSG00000178950\n",
       "ENSG00000272602 -0.14932365     -0.01873805      0.22156662     -0.165014736   \n",
       "ENSG00000131127 -0.11262825     -0.33456193      0.47397527      0.006672161   \n",
       "ENSG00000174227 -0.25450142     -0.07142492      0.39495518      0.059066888   \n",
       "ENSG00000133256  0.09553455     -0.16724901     -0.02378855      0.070181002   \n",
       "ENSG00000169020  1.00000000      0.01104808     -0.14681850     -0.160465205   \n",
       "ENSG00000215375  0.01104808      1.00000000     -0.30027667      0.025483868   \n",
       "                ENSG00000145214 ENSG00000145217\n",
       "ENSG00000272602  0.08899452     -0.02932051    \n",
       "ENSG00000131127 -0.17425058     -0.08271097    \n",
       "ENSG00000174227 -0.04577018      0.19981893    \n",
       "ENSG00000133256  0.10198709      0.02238429    \n",
       "ENSG00000169020  0.11454032      0.01720044    \n",
       "ENSG00000215375 -0.10166441      0.19250162    "
      ]
     },
     "metadata": {},
     "output_type": "display_data"
    },
    {
     "data": {
      "text/html": [
       "<table class=\"dataframe\">\n",
       "<caption>A data.frame: 6 × 10</caption>\n",
       "<thead>\n",
       "\t<tr><th></th><th scope=col>ENSG00000272602</th><th scope=col>ENSG00000131127</th><th scope=col>ENSG00000174227</th><th scope=col>ENSG00000133256</th><th scope=col>ENSG00000169020</th><th scope=col>ENSG00000215375</th><th scope=col>ENSG00000169026</th><th scope=col>ENSG00000178950</th><th scope=col>ENSG00000145214</th><th scope=col>ENSG00000145217</th></tr>\n",
       "\t<tr><th></th><th scope=col>&lt;dbl&gt;</th><th scope=col>&lt;dbl&gt;</th><th scope=col>&lt;dbl&gt;</th><th scope=col>&lt;dbl&gt;</th><th scope=col>&lt;dbl&gt;</th><th scope=col>&lt;dbl&gt;</th><th scope=col>&lt;dbl&gt;</th><th scope=col>&lt;dbl&gt;</th><th scope=col>&lt;dbl&gt;</th><th scope=col>&lt;dbl&gt;</th></tr>\n",
       "</thead>\n",
       "<tbody>\n",
       "\t<tr><th scope=row>ENSG00000272602</th><td> 1.000000000</td><td> 0.028396694</td><td> 0.08695441</td><td> 0.002295969</td><td>-0.08346763</td><td>-0.04525615</td><td> 0.07294869</td><td>-0.05899910</td><td> 0.038594126</td><td>-0.029559569</td></tr>\n",
       "\t<tr><th scope=row>ENSG00000131127</th><td> 0.028396694</td><td> 1.000000000</td><td> 0.05617119</td><td>-0.002971049</td><td>-0.04778612</td><td>-0.16047656</td><td> 0.18112620</td><td> 0.01679856</td><td>-0.076828257</td><td>-0.006607089</td></tr>\n",
       "\t<tr><th scope=row>ENSG00000174227</th><td> 0.086954408</td><td> 0.056171185</td><td> 1.00000000</td><td> 0.046791821</td><td>-0.12264813</td><td>-0.04778183</td><td> 0.17567495</td><td> 0.06052697</td><td>-0.005914992</td><td> 0.109970559</td></tr>\n",
       "\t<tr><th scope=row>ENSG00000133256</th><td> 0.002295969</td><td>-0.002971049</td><td> 0.04679182</td><td> 1.000000000</td><td> 0.03491539</td><td>-0.08277364</td><td> 0.02635418</td><td> 0.03970548</td><td> 0.063155939</td><td> 0.021925123</td></tr>\n",
       "\t<tr><th scope=row>ENSG00000169020</th><td>-0.083467632</td><td>-0.047786118</td><td>-0.12264813</td><td> 0.034915394</td><td> 1.00000000</td><td> 0.02232428</td><td>-0.12997424</td><td>-0.04662427</td><td> 0.036021650</td><td>-0.039444413</td></tr>\n",
       "\t<tr><th scope=row>ENSG00000215375</th><td>-0.045256148</td><td>-0.160476561</td><td>-0.04778183</td><td>-0.082773639</td><td> 0.02232428</td><td> 1.00000000</td><td>-0.16083800</td><td> 0.02922385</td><td>-0.061470865</td><td> 0.096611995</td></tr>\n",
       "</tbody>\n",
       "</table>\n"
      ],
      "text/latex": [
       "A data.frame: 6 × 10\n",
       "\\begin{tabular}{r|llllllllll}\n",
       "  & ENSG00000272602 & ENSG00000131127 & ENSG00000174227 & ENSG00000133256 & ENSG00000169020 & ENSG00000215375 & ENSG00000169026 & ENSG00000178950 & ENSG00000145214 & ENSG00000145217\\\\\n",
       "  & <dbl> & <dbl> & <dbl> & <dbl> & <dbl> & <dbl> & <dbl> & <dbl> & <dbl> & <dbl>\\\\\n",
       "\\hline\n",
       "\tENSG00000272602 &  1.000000000 &  0.028396694 &  0.08695441 &  0.002295969 & -0.08346763 & -0.04525615 &  0.07294869 & -0.05899910 &  0.038594126 & -0.029559569\\\\\n",
       "\tENSG00000131127 &  0.028396694 &  1.000000000 &  0.05617119 & -0.002971049 & -0.04778612 & -0.16047656 &  0.18112620 &  0.01679856 & -0.076828257 & -0.006607089\\\\\n",
       "\tENSG00000174227 &  0.086954408 &  0.056171185 &  1.00000000 &  0.046791821 & -0.12264813 & -0.04778183 &  0.17567495 &  0.06052697 & -0.005914992 &  0.109970559\\\\\n",
       "\tENSG00000133256 &  0.002295969 & -0.002971049 &  0.04679182 &  1.000000000 &  0.03491539 & -0.08277364 &  0.02635418 &  0.03970548 &  0.063155939 &  0.021925123\\\\\n",
       "\tENSG00000169020 & -0.083467632 & -0.047786118 & -0.12264813 &  0.034915394 &  1.00000000 &  0.02232428 & -0.12997424 & -0.04662427 &  0.036021650 & -0.039444413\\\\\n",
       "\tENSG00000215375 & -0.045256148 & -0.160476561 & -0.04778183 & -0.082773639 &  0.02232428 &  1.00000000 & -0.16083800 &  0.02922385 & -0.061470865 &  0.096611995\\\\\n",
       "\\end{tabular}\n"
      ],
      "text/markdown": [
       "\n",
       "A data.frame: 6 × 10\n",
       "\n",
       "| <!--/--> | ENSG00000272602 &lt;dbl&gt; | ENSG00000131127 &lt;dbl&gt; | ENSG00000174227 &lt;dbl&gt; | ENSG00000133256 &lt;dbl&gt; | ENSG00000169020 &lt;dbl&gt; | ENSG00000215375 &lt;dbl&gt; | ENSG00000169026 &lt;dbl&gt; | ENSG00000178950 &lt;dbl&gt; | ENSG00000145214 &lt;dbl&gt; | ENSG00000145217 &lt;dbl&gt; |\n",
       "|---|---|---|---|---|---|---|---|---|---|---|\n",
       "| ENSG00000272602 |  1.000000000 |  0.028396694 |  0.08695441 |  0.002295969 | -0.08346763 | -0.04525615 |  0.07294869 | -0.05899910 |  0.038594126 | -0.029559569 |\n",
       "| ENSG00000131127 |  0.028396694 |  1.000000000 |  0.05617119 | -0.002971049 | -0.04778612 | -0.16047656 |  0.18112620 |  0.01679856 | -0.076828257 | -0.006607089 |\n",
       "| ENSG00000174227 |  0.086954408 |  0.056171185 |  1.00000000 |  0.046791821 | -0.12264813 | -0.04778183 |  0.17567495 |  0.06052697 | -0.005914992 |  0.109970559 |\n",
       "| ENSG00000133256 |  0.002295969 | -0.002971049 |  0.04679182 |  1.000000000 |  0.03491539 | -0.08277364 |  0.02635418 |  0.03970548 |  0.063155939 |  0.021925123 |\n",
       "| ENSG00000169020 | -0.083467632 | -0.047786118 | -0.12264813 |  0.034915394 |  1.00000000 |  0.02232428 | -0.12997424 | -0.04662427 |  0.036021650 | -0.039444413 |\n",
       "| ENSG00000215375 | -0.045256148 | -0.160476561 | -0.04778183 | -0.082773639 |  0.02232428 |  1.00000000 | -0.16083800 |  0.02922385 | -0.061470865 |  0.096611995 |\n",
       "\n"
      ],
      "text/plain": [
       "                ENSG00000272602 ENSG00000131127 ENSG00000174227 ENSG00000133256\n",
       "ENSG00000272602  1.000000000     0.028396694     0.08695441      0.002295969   \n",
       "ENSG00000131127  0.028396694     1.000000000     0.05617119     -0.002971049   \n",
       "ENSG00000174227  0.086954408     0.056171185     1.00000000      0.046791821   \n",
       "ENSG00000133256  0.002295969    -0.002971049     0.04679182      1.000000000   \n",
       "ENSG00000169020 -0.083467632    -0.047786118    -0.12264813      0.034915394   \n",
       "ENSG00000215375 -0.045256148    -0.160476561    -0.04778183     -0.082773639   \n",
       "                ENSG00000169020 ENSG00000215375 ENSG00000169026 ENSG00000178950\n",
       "ENSG00000272602 -0.08346763     -0.04525615      0.07294869     -0.05899910    \n",
       "ENSG00000131127 -0.04778612     -0.16047656      0.18112620      0.01679856    \n",
       "ENSG00000174227 -0.12264813     -0.04778183      0.17567495      0.06052697    \n",
       "ENSG00000133256  0.03491539     -0.08277364      0.02635418      0.03970548    \n",
       "ENSG00000169020  1.00000000      0.02232428     -0.12997424     -0.04662427    \n",
       "ENSG00000215375  0.02232428      1.00000000     -0.16083800      0.02922385    \n",
       "                ENSG00000145214 ENSG00000145217\n",
       "ENSG00000272602  0.038594126    -0.029559569   \n",
       "ENSG00000131127 -0.076828257    -0.006607089   \n",
       "ENSG00000174227 -0.005914992     0.109970559   \n",
       "ENSG00000133256  0.063155939     0.021925123   \n",
       "ENSG00000169020  0.036021650    -0.039444413   \n",
       "ENSG00000215375 -0.061470865     0.096611995   "
      ]
     },
     "metadata": {},
     "output_type": "display_data"
    }
   ],
   "source": [
    "# quick and visual comparison of the two matrices\n",
    "IRdisplay::display(head(gene_corrs[1:10, 1:10]))\n",
    "IRdisplay::display(head(gene_corrs_corrected[1:10, 1:10]))"
   ]
  },
  {
   "cell_type": "markdown",
   "id": "c6c40f1a-d153-475a-94eb-c71697ad9d51",
   "metadata": {
    "papermill": {
     "duration": 0.006817,
     "end_time": "2022-06-18T11:50:05.466669",
     "exception": false,
     "start_time": "2022-06-18T11:50:05.459852",
     "status": "completed"
    },
    "tags": []
   },
   "source": [
    "Both matrices should \"look\" similar. We are not interested in perfectly accurate correlation values (they are already inaccurate)."
   ]
  },
  {
   "cell_type": "markdown",
   "id": "bf0f49cb-9c21-4616-8390-bb68d52dae56",
   "metadata": {
    "papermill": {
     "duration": 0.007403,
     "end_time": "2022-06-18T11:50:05.481570",
     "exception": false,
     "start_time": "2022-06-18T11:50:05.474167",
     "status": "completed"
    },
    "tags": []
   },
   "source": [
    "# Save"
   ]
  },
  {
   "cell_type": "code",
   "execution_count": 31,
   "id": "2e58e7f3-a75c-4195-a20e-39e3e3e1cc9a",
   "metadata": {
    "execution": {
     "iopub.execute_input": "2022-06-18T11:50:05.498127Z",
     "iopub.status.busy": "2022-06-18T11:50:05.497047Z",
     "iopub.status.idle": "2022-06-18T11:50:05.541108Z",
     "shell.execute_reply": "2022-06-18T11:50:05.539064Z"
    },
    "papermill": {
     "duration": 0.05412,
     "end_time": "2022-06-18T11:50:05.542964",
     "exception": false,
     "start_time": "2022-06-18T11:50:05.488844",
     "status": "completed"
    },
    "tags": []
   },
   "outputs": [],
   "source": [
    "py_save_object(gene_corrs_corrected, OUTPUT_FILE)"
   ]
  },
  {
   "cell_type": "code",
   "execution_count": null,
   "id": "d8ae4220-2171-460c-9231-cd5219f3fe77",
   "metadata": {
    "papermill": {
     "duration": 0.007751,
     "end_time": "2022-06-18T11:50:05.559013",
     "exception": false,
     "start_time": "2022-06-18T11:50:05.551262",
     "status": "completed"
    },
    "tags": []
   },
   "outputs": [],
   "source": []
  }
 ],
 "metadata": {
  "jupytext": {
   "cell_metadata_filter": "all,-execution,-papermill,-trusted"
  },
  "kernelspec": {
   "display_name": "R",
   "language": "R",
   "name": "ir"
  },
  "language_info": {
   "codemirror_mode": "r",
   "file_extension": ".r",
   "mimetype": "text/x-r-source",
   "name": "R",
   "pygments_lexer": "r",
   "version": "3.6.3"
  },
  "papermill": {
   "default_parameters": {},
   "duration": 5.80486,
   "end_time": "2022-06-18T11:50:05.684566",
   "environment_variables": {},
   "exception": null,
   "input_path": "nbs/15_gsa_gls/12-gene_expr_correlations-adjust.ipynb",
   "output_path": "nbs/15_gsa_gls/gene_corrs/gtex_v8/mashr/12-gene_expr_correlations-adjust-chr4.run.ipynb",
   "parameters": {
    "EQTL_MODEL": "MASHR",
    "REFERENCE_PANEL": "GTEX_V8",
    "chromosome": 4
   },
   "start_time": "2022-06-18T11:49:59.879706",
   "version": "2.3.4"
  }
 },
 "nbformat": 4,
 "nbformat_minor": 5
}
