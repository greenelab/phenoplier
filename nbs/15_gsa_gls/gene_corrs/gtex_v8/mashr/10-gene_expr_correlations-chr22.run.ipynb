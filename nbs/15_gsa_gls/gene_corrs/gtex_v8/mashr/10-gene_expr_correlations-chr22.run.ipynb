{
 "cells": [
  {
   "cell_type": "markdown",
   "id": "7a6632fb",
   "metadata": {
    "papermill": {
     "duration": 0.022062,
     "end_time": "2022-06-17T02:22:42.614337",
     "exception": false,
     "start_time": "2022-06-17T02:22:42.592275",
     "status": "completed"
    },
    "tags": []
   },
   "source": [
    "# Description"
   ]
  },
  {
   "cell_type": "markdown",
   "id": "7097c346",
   "metadata": {
    "papermill": {
     "duration": 0.017079,
     "end_time": "2022-06-17T02:22:42.651083",
     "exception": false,
     "start_time": "2022-06-17T02:22:42.634004",
     "status": "completed"
    },
    "tags": []
   },
   "source": [
    "(Please, take a look at the README.md file in this directory for instructions on how to run this notebook)\n",
    "\n",
    "This notebook computes predicted expression correlations between all genes in the MultiPLIER models.\n",
    "\n",
    "It also has a parameter set for papermill to run on a single chromosome to run in parallel (see under `Settings` below).\n",
    "\n",
    "This notebook is not directly run. See README.md."
   ]
  },
  {
   "cell_type": "markdown",
   "id": "c61d8427",
   "metadata": {
    "papermill": {
     "duration": 0.006549,
     "end_time": "2022-06-17T02:22:42.666726",
     "exception": false,
     "start_time": "2022-06-17T02:22:42.660177",
     "status": "completed"
    },
    "tags": []
   },
   "source": [
    "# Modules"
   ]
  },
  {
   "cell_type": "code",
   "execution_count": 1,
   "id": "bbc0234f",
   "metadata": {
    "execution": {
     "iopub.execute_input": "2022-06-17T02:22:42.678225Z",
     "iopub.status.busy": "2022-06-17T02:22:42.677981Z",
     "iopub.status.idle": "2022-06-17T02:22:42.692337Z",
     "shell.execute_reply": "2022-06-17T02:22:42.691818Z"
    },
    "papermill": {
     "duration": 0.021684,
     "end_time": "2022-06-17T02:22:42.693930",
     "exception": false,
     "start_time": "2022-06-17T02:22:42.672246",
     "status": "completed"
    },
    "tags": []
   },
   "outputs": [],
   "source": [
    "%load_ext autoreload\n",
    "%autoreload 2"
   ]
  },
  {
   "cell_type": "code",
   "execution_count": 2,
   "id": "1d5f5a59",
   "metadata": {
    "execution": {
     "iopub.execute_input": "2022-06-17T02:22:42.704254Z",
     "iopub.status.busy": "2022-06-17T02:22:42.704061Z",
     "iopub.status.idle": "2022-06-17T02:22:43.700050Z",
     "shell.execute_reply": "2022-06-17T02:22:43.699436Z"
    },
    "papermill": {
     "duration": 1.002778,
     "end_time": "2022-06-17T02:22:43.701531",
     "exception": false,
     "start_time": "2022-06-17T02:22:42.698753",
     "status": "completed"
    },
    "tags": []
   },
   "outputs": [],
   "source": [
    "from random import sample, seed\n",
    "import warnings\n",
    "from pathlib import Path\n",
    "\n",
    "import numpy as np\n",
    "from scipy.spatial.distance import squareform\n",
    "import pandas as pd\n",
    "from tqdm import tqdm\n",
    "import matplotlib.pyplot as plt\n",
    "import seaborn as sns\n",
    "\n",
    "import conf\n",
    "from entity import Gene"
   ]
  },
  {
   "cell_type": "markdown",
   "id": "1eac24b5",
   "metadata": {
    "papermill": {
     "duration": 0.036989,
     "end_time": "2022-06-17T02:22:43.744498",
     "exception": false,
     "start_time": "2022-06-17T02:22:43.707509",
     "status": "completed"
    },
    "tags": []
   },
   "source": [
    "# Settings"
   ]
  },
  {
   "cell_type": "code",
   "execution_count": 3,
   "id": "ca4560ba",
   "metadata": {
    "execution": {
     "iopub.execute_input": "2022-06-17T02:22:43.758612Z",
     "iopub.status.busy": "2022-06-17T02:22:43.758024Z",
     "iopub.status.idle": "2022-06-17T02:22:43.785123Z",
     "shell.execute_reply": "2022-06-17T02:22:43.784535Z"
    },
    "papermill": {
     "duration": 0.036334,
     "end_time": "2022-06-17T02:22:43.787166",
     "exception": false,
     "start_time": "2022-06-17T02:22:43.750832",
     "status": "completed"
    },
    "tags": [
     "parameters"
    ]
   },
   "outputs": [],
   "source": [
    "# reference panel\n",
    "REFERENCE_PANEL = \"GTEX_V8\"\n",
    "# REFERENCE_PANEL = \"1000G\"\n",
    "\n",
    "# prediction models\n",
    "## mashr\n",
    "EQTL_MODEL = \"MASHR\"\n",
    "EQTL_MODEL_FILES_PREFIX = \"mashr_\"\n",
    "\n",
    "# ## elastic net\n",
    "# EQTL_MODEL = \"ELASTIC_NET\"\n",
    "# EQTL_MODEL_FILES_PREFIX = \"en_\"\n",
    "\n",
    "# make it read the prefix from conf.py\n",
    "EQTL_MODEL_FILES_PREFIX = None\n",
    "\n",
    "# this is the default value used in S-MultiXcan to select the\n",
    "# top principal components of the expression correlation matrix\n",
    "SMULTIXCAN_CONDITION_NUMBER = 30\n",
    "\n",
    "# specifies a single chromosome value\n",
    "# by default, run on all chromosomes\n",
    "chromosome = None"
   ]
  },
  {
   "cell_type": "code",
   "execution_count": 4,
   "id": "6e238418",
   "metadata": {
    "execution": {
     "iopub.execute_input": "2022-06-17T02:22:43.800984Z",
     "iopub.status.busy": "2022-06-17T02:22:43.800792Z",
     "iopub.status.idle": "2022-06-17T02:22:43.819336Z",
     "shell.execute_reply": "2022-06-17T02:22:43.818691Z"
    },
    "papermill": {
     "duration": 0.027718,
     "end_time": "2022-06-17T02:22:43.821411",
     "exception": false,
     "start_time": "2022-06-17T02:22:43.793693",
     "status": "completed"
    },
    "tags": [
     "injected-parameters"
    ]
   },
   "outputs": [],
   "source": [
    "# Parameters\n",
    "chromosome = 22\n",
    "REFERENCE_PANEL = \"GTEX_V8\"\n",
    "EQTL_MODEL = \"MASHR\"\n"
   ]
  },
  {
   "cell_type": "code",
   "execution_count": 5,
   "id": "a089c9ff",
   "metadata": {
    "execution": {
     "iopub.execute_input": "2022-06-17T02:22:43.835512Z",
     "iopub.status.busy": "2022-06-17T02:22:43.835310Z",
     "iopub.status.idle": "2022-06-17T02:22:43.852440Z",
     "shell.execute_reply": "2022-06-17T02:22:43.851773Z"
    },
    "papermill": {
     "duration": 0.025997,
     "end_time": "2022-06-17T02:22:43.854031",
     "exception": false,
     "start_time": "2022-06-17T02:22:43.828034",
     "status": "completed"
    },
    "tags": []
   },
   "outputs": [],
   "source": [
    "if EQTL_MODEL_FILES_PREFIX is None:\n",
    "    EQTL_MODEL_FILES_PREFIX = conf.PHENOMEXCAN[\"PREDICTION_MODELS\"][\n",
    "        f\"{EQTL_MODEL}_PREFIX\"\n",
    "    ]"
   ]
  },
  {
   "cell_type": "code",
   "execution_count": 6,
   "id": "8fe24bef",
   "metadata": {
    "execution": {
     "iopub.execute_input": "2022-06-17T02:22:43.869241Z",
     "iopub.status.busy": "2022-06-17T02:22:43.867026Z",
     "iopub.status.idle": "2022-06-17T02:22:43.888734Z",
     "shell.execute_reply": "2022-06-17T02:22:43.888207Z"
    },
    "papermill": {
     "duration": 0.029908,
     "end_time": "2022-06-17T02:22:43.890143",
     "exception": false,
     "start_time": "2022-06-17T02:22:43.860235",
     "status": "completed"
    },
    "tags": []
   },
   "outputs": [
    {
     "data": {
      "text/plain": [
       "'Using eQTL model: MASHR / mashr_'"
      ]
     },
     "metadata": {},
     "output_type": "display_data"
    }
   ],
   "source": [
    "display(f\"Using eQTL model: {EQTL_MODEL} / {EQTL_MODEL_FILES_PREFIX}\")"
   ]
  },
  {
   "cell_type": "code",
   "execution_count": 7,
   "id": "0230ebcb-2c32-4b95-9292-d9a52038e70d",
   "metadata": {
    "execution": {
     "iopub.execute_input": "2022-06-17T02:22:43.903935Z",
     "iopub.status.busy": "2022-06-17T02:22:43.903590Z",
     "iopub.status.idle": "2022-06-17T02:22:43.921024Z",
     "shell.execute_reply": "2022-06-17T02:22:43.920480Z"
    },
    "papermill": {
     "duration": 0.025946,
     "end_time": "2022-06-17T02:22:43.922438",
     "exception": false,
     "start_time": "2022-06-17T02:22:43.896492",
     "status": "completed"
    },
    "tags": []
   },
   "outputs": [],
   "source": [
    "REFERENCE_PANEL_DIR = conf.PHENOMEXCAN[\"LD_BLOCKS\"][f\"{REFERENCE_PANEL}_GENOTYPE_DIR\"]"
   ]
  },
  {
   "cell_type": "code",
   "execution_count": 8,
   "id": "98c4a159-601d-4a22-a1ab-35bd451c25f9",
   "metadata": {
    "execution": {
     "iopub.execute_input": "2022-06-17T02:22:43.935398Z",
     "iopub.status.busy": "2022-06-17T02:22:43.935216Z",
     "iopub.status.idle": "2022-06-17T02:22:43.951414Z",
     "shell.execute_reply": "2022-06-17T02:22:43.950814Z"
    },
    "papermill": {
     "duration": 0.024494,
     "end_time": "2022-06-17T02:22:43.953004",
     "exception": false,
     "start_time": "2022-06-17T02:22:43.928510",
     "status": "completed"
    },
    "tags": []
   },
   "outputs": [
    {
     "data": {
      "text/plain": [
       "'Using reference panel folder: /opt/data/data/phenomexcan/ld_blocks/reference_panel_gtex_v8'"
      ]
     },
     "metadata": {},
     "output_type": "display_data"
    }
   ],
   "source": [
    "display(f\"Using reference panel folder: {str(REFERENCE_PANEL_DIR)}\")"
   ]
  },
  {
   "cell_type": "code",
   "execution_count": 9,
   "id": "396392dc-0340-4540-9b02-e182b833f909",
   "metadata": {
    "execution": {
     "iopub.execute_input": "2022-06-17T02:22:43.965951Z",
     "iopub.status.busy": "2022-06-17T02:22:43.965767Z",
     "iopub.status.idle": "2022-06-17T02:22:43.982275Z",
     "shell.execute_reply": "2022-06-17T02:22:43.981718Z"
    },
    "papermill": {
     "duration": 0.024598,
     "end_time": "2022-06-17T02:22:43.983699",
     "exception": false,
     "start_time": "2022-06-17T02:22:43.959101",
     "status": "completed"
    },
    "tags": []
   },
   "outputs": [],
   "source": [
    "OUTPUT_DIR_BASE = (\n",
    "    conf.PHENOMEXCAN[\"LD_BLOCKS\"][f\"GENE_CORRS_DIR\"]\n",
    "    / REFERENCE_PANEL.lower()\n",
    "    / EQTL_MODEL.lower()\n",
    ")\n",
    "OUTPUT_DIR_BASE.mkdir(parents=True, exist_ok=True)"
   ]
  },
  {
   "cell_type": "code",
   "execution_count": 10,
   "id": "8942c2d3-e53c-4d63-a0eb-b6fce0574d36",
   "metadata": {
    "execution": {
     "iopub.execute_input": "2022-06-17T02:22:43.998260Z",
     "iopub.status.busy": "2022-06-17T02:22:43.998083Z",
     "iopub.status.idle": "2022-06-17T02:22:44.015641Z",
     "shell.execute_reply": "2022-06-17T02:22:44.015159Z"
    },
    "papermill": {
     "duration": 0.02723,
     "end_time": "2022-06-17T02:22:44.017009",
     "exception": false,
     "start_time": "2022-06-17T02:22:43.989779",
     "status": "completed"
    },
    "tags": []
   },
   "outputs": [
    {
     "data": {
      "text/plain": [
       "'Using output dir base: /opt/data/data/phenomexcan/ld_blocks/gene_corrs/gtex_v8/mashr'"
      ]
     },
     "metadata": {},
     "output_type": "display_data"
    }
   ],
   "source": [
    "display(f\"Using output dir base: {OUTPUT_DIR_BASE}\")"
   ]
  },
  {
   "cell_type": "code",
   "execution_count": 11,
   "id": "408aa590",
   "metadata": {
    "execution": {
     "iopub.execute_input": "2022-06-17T02:22:44.030464Z",
     "iopub.status.busy": "2022-06-17T02:22:44.030179Z",
     "iopub.status.idle": "2022-06-17T02:22:44.049095Z",
     "shell.execute_reply": "2022-06-17T02:22:44.047593Z"
    },
    "papermill": {
     "duration": 0.027236,
     "end_time": "2022-06-17T02:22:44.050511",
     "exception": false,
     "start_time": "2022-06-17T02:22:44.023275",
     "status": "completed"
    },
    "tags": []
   },
   "outputs": [],
   "source": [
    "assert (\n",
    "    chromosome is not None\n",
    "), \"You have to select one chromosome (format: number between 1 and 22)\""
   ]
  },
  {
   "cell_type": "code",
   "execution_count": 12,
   "id": "c1c7dd06-80ff-453c-bcb7-0899edce75da",
   "metadata": {
    "execution": {
     "iopub.execute_input": "2022-06-17T02:22:44.065768Z",
     "iopub.status.busy": "2022-06-17T02:22:44.065582Z",
     "iopub.status.idle": "2022-06-17T02:22:44.081384Z",
     "shell.execute_reply": "2022-06-17T02:22:44.080869Z"
    },
    "papermill": {
     "duration": 0.024189,
     "end_time": "2022-06-17T02:22:44.082808",
     "exception": false,
     "start_time": "2022-06-17T02:22:44.058619",
     "status": "completed"
    },
    "tags": []
   },
   "outputs": [],
   "source": [
    "chromosome = str(chromosome)"
   ]
  },
  {
   "cell_type": "code",
   "execution_count": 13,
   "id": "bc17b84c-9c26-47a5-a3ab-7046e72f3ef4",
   "metadata": {
    "execution": {
     "iopub.execute_input": "2022-06-17T02:22:44.096845Z",
     "iopub.status.busy": "2022-06-17T02:22:44.096347Z",
     "iopub.status.idle": "2022-06-17T02:22:44.114015Z",
     "shell.execute_reply": "2022-06-17T02:22:44.113508Z"
    },
    "papermill": {
     "duration": 0.02618,
     "end_time": "2022-06-17T02:22:44.115390",
     "exception": false,
     "start_time": "2022-06-17T02:22:44.089210",
     "status": "completed"
    },
    "tags": []
   },
   "outputs": [
    {
     "data": {
      "text/plain": [
       "'Working on chromosome 22'"
      ]
     },
     "metadata": {},
     "output_type": "display_data"
    }
   ],
   "source": [
    "display(f\"Working on chromosome {chromosome}\")"
   ]
  },
  {
   "cell_type": "markdown",
   "id": "d2ba085e",
   "metadata": {
    "papermill": {
     "duration": 0.005864,
     "end_time": "2022-06-17T02:22:44.127630",
     "exception": false,
     "start_time": "2022-06-17T02:22:44.121766",
     "status": "completed"
    },
    "tags": []
   },
   "source": [
    "# Load data"
   ]
  },
  {
   "cell_type": "markdown",
   "id": "abcc4b3d",
   "metadata": {
    "papermill": {
     "duration": 0.005809,
     "end_time": "2022-06-17T02:22:44.139526",
     "exception": false,
     "start_time": "2022-06-17T02:22:44.133717",
     "status": "completed"
    },
    "tags": []
   },
   "source": [
    "## MultiPLIER Z"
   ]
  },
  {
   "cell_type": "code",
   "execution_count": 14,
   "id": "c48ef527",
   "metadata": {
    "execution": {
     "iopub.execute_input": "2022-06-17T02:22:44.152218Z",
     "iopub.status.busy": "2022-06-17T02:22:44.152005Z",
     "iopub.status.idle": "2022-06-17T02:22:44.193874Z",
     "shell.execute_reply": "2022-06-17T02:22:44.193334Z"
    },
    "papermill": {
     "duration": 0.050047,
     "end_time": "2022-06-17T02:22:44.195405",
     "exception": false,
     "start_time": "2022-06-17T02:22:44.145358",
     "status": "completed"
    },
    "tags": []
   },
   "outputs": [],
   "source": [
    "multiplier_z_genes = pd.read_pickle(\n",
    "    conf.MULTIPLIER[\"MODEL_Z_MATRIX_FILE\"]\n",
    ").index.tolist()"
   ]
  },
  {
   "cell_type": "code",
   "execution_count": 15,
   "id": "0a4ecbd9",
   "metadata": {
    "execution": {
     "iopub.execute_input": "2022-06-17T02:22:44.209071Z",
     "iopub.status.busy": "2022-06-17T02:22:44.208795Z",
     "iopub.status.idle": "2022-06-17T02:22:44.224375Z",
     "shell.execute_reply": "2022-06-17T02:22:44.223909Z"
    },
    "papermill": {
     "duration": 0.023878,
     "end_time": "2022-06-17T02:22:44.225749",
     "exception": false,
     "start_time": "2022-06-17T02:22:44.201871",
     "status": "completed"
    },
    "tags": []
   },
   "outputs": [
    {
     "data": {
      "text/plain": [
       "6750"
      ]
     },
     "execution_count": 15,
     "metadata": {},
     "output_type": "execute_result"
    }
   ],
   "source": [
    "len(multiplier_z_genes)"
   ]
  },
  {
   "cell_type": "code",
   "execution_count": 16,
   "id": "115e8864",
   "metadata": {
    "execution": {
     "iopub.execute_input": "2022-06-17T02:22:44.239168Z",
     "iopub.status.busy": "2022-06-17T02:22:44.238944Z",
     "iopub.status.idle": "2022-06-17T02:22:44.257725Z",
     "shell.execute_reply": "2022-06-17T02:22:44.257080Z"
    },
    "papermill": {
     "duration": 0.027384,
     "end_time": "2022-06-17T02:22:44.259303",
     "exception": false,
     "start_time": "2022-06-17T02:22:44.231919",
     "status": "completed"
    },
    "tags": []
   },
   "outputs": [
    {
     "data": {
      "text/plain": [
       "['GAS6',\n",
       " 'MMP14',\n",
       " 'DSP',\n",
       " 'MARCKSL1',\n",
       " 'SPARC',\n",
       " 'CTSD',\n",
       " 'EPAS1',\n",
       " 'PALLD',\n",
       " 'PHC2',\n",
       " 'LGALS3BP']"
      ]
     },
     "execution_count": 16,
     "metadata": {},
     "output_type": "execute_result"
    }
   ],
   "source": [
    "multiplier_z_genes[:10]"
   ]
  },
  {
   "cell_type": "markdown",
   "id": "7dcb8db7",
   "metadata": {
    "papermill": {
     "duration": 0.00692,
     "end_time": "2022-06-17T02:22:44.275568",
     "exception": false,
     "start_time": "2022-06-17T02:22:44.268648",
     "status": "completed"
    },
    "tags": []
   },
   "source": [
    "## Get gene objects"
   ]
  },
  {
   "cell_type": "code",
   "execution_count": 17,
   "id": "bb932812",
   "metadata": {
    "execution": {
     "iopub.execute_input": "2022-06-17T02:22:44.291019Z",
     "iopub.status.busy": "2022-06-17T02:22:44.290836Z",
     "iopub.status.idle": "2022-06-17T02:22:44.314673Z",
     "shell.execute_reply": "2022-06-17T02:22:44.314119Z"
    },
    "papermill": {
     "duration": 0.0327,
     "end_time": "2022-06-17T02:22:44.316125",
     "exception": false,
     "start_time": "2022-06-17T02:22:44.283425",
     "status": "completed"
    },
    "tags": []
   },
   "outputs": [],
   "source": [
    "multiplier_gene_obj = {\n",
    "    gene_name: Gene(name=gene_name)\n",
    "    for gene_name in multiplier_z_genes\n",
    "    if gene_name in Gene.GENE_NAME_TO_ID_MAP\n",
    "}"
   ]
  },
  {
   "cell_type": "code",
   "execution_count": 18,
   "id": "39533214",
   "metadata": {
    "execution": {
     "iopub.execute_input": "2022-06-17T02:22:44.330327Z",
     "iopub.status.busy": "2022-06-17T02:22:44.330103Z",
     "iopub.status.idle": "2022-06-17T02:22:44.347276Z",
     "shell.execute_reply": "2022-06-17T02:22:44.346449Z"
    },
    "papermill": {
     "duration": 0.025714,
     "end_time": "2022-06-17T02:22:44.348675",
     "exception": false,
     "start_time": "2022-06-17T02:22:44.322961",
     "status": "completed"
    },
    "tags": []
   },
   "outputs": [
    {
     "data": {
      "text/plain": [
       "6454"
      ]
     },
     "execution_count": 18,
     "metadata": {},
     "output_type": "execute_result"
    }
   ],
   "source": [
    "len(multiplier_gene_obj)"
   ]
  },
  {
   "cell_type": "code",
   "execution_count": 19,
   "id": "9a5d0b84",
   "metadata": {
    "execution": {
     "iopub.execute_input": "2022-06-17T02:22:44.370017Z",
     "iopub.status.busy": "2022-06-17T02:22:44.369493Z",
     "iopub.status.idle": "2022-06-17T02:22:44.388686Z",
     "shell.execute_reply": "2022-06-17T02:22:44.384858Z"
    },
    "papermill": {
     "duration": 0.035028,
     "end_time": "2022-06-17T02:22:44.390278",
     "exception": false,
     "start_time": "2022-06-17T02:22:44.355250",
     "status": "completed"
    },
    "tags": []
   },
   "outputs": [
    {
     "data": {
      "text/plain": [
       "'ENSG00000183087'"
      ]
     },
     "execution_count": 19,
     "metadata": {},
     "output_type": "execute_result"
    }
   ],
   "source": [
    "multiplier_gene_obj[\"GAS6\"].ensembl_id"
   ]
  },
  {
   "cell_type": "code",
   "execution_count": 20,
   "id": "e3ffabc7",
   "metadata": {
    "execution": {
     "iopub.execute_input": "2022-06-17T02:22:44.404737Z",
     "iopub.status.busy": "2022-06-17T02:22:44.404280Z",
     "iopub.status.idle": "2022-06-17T02:22:46.422023Z",
     "shell.execute_reply": "2022-06-17T02:22:46.421435Z"
    },
    "papermill": {
     "duration": 2.026467,
     "end_time": "2022-06-17T02:22:46.423332",
     "exception": false,
     "start_time": "2022-06-17T02:22:44.396865",
     "status": "completed"
    },
    "tags": []
   },
   "outputs": [],
   "source": [
    "_gene_obj = list(multiplier_gene_obj.values())\n",
    "\n",
    "genes_info = pd.DataFrame(\n",
    "    {\n",
    "        \"name\": [g.name for g in _gene_obj],\n",
    "        \"id\": [g.ensembl_id for g in _gene_obj],\n",
    "        \"chr\": [g.chromosome for g in _gene_obj],\n",
    "        \"band\": [g.band for g in _gene_obj],\n",
    "        \"start_position\": [g.get_attribute(\"start_position\") for g in _gene_obj],\n",
    "    }\n",
    ")"
   ]
  },
  {
   "cell_type": "code",
   "execution_count": 21,
   "id": "e23519b8",
   "metadata": {
    "execution": {
     "iopub.execute_input": "2022-06-17T02:22:46.443501Z",
     "iopub.status.busy": "2022-06-17T02:22:46.443237Z",
     "iopub.status.idle": "2022-06-17T02:22:46.457619Z",
     "shell.execute_reply": "2022-06-17T02:22:46.457161Z"
    },
    "papermill": {
     "duration": 0.028834,
     "end_time": "2022-06-17T02:22:46.458833",
     "exception": false,
     "start_time": "2022-06-17T02:22:46.429999",
     "status": "completed"
    },
    "tags": []
   },
   "outputs": [
    {
     "data": {
      "text/plain": [
       "(6454, 5)"
      ]
     },
     "execution_count": 21,
     "metadata": {},
     "output_type": "execute_result"
    }
   ],
   "source": [
    "genes_info.shape"
   ]
  },
  {
   "cell_type": "code",
   "execution_count": 22,
   "id": "0d71881c",
   "metadata": {
    "execution": {
     "iopub.execute_input": "2022-06-17T02:22:46.485754Z",
     "iopub.status.busy": "2022-06-17T02:22:46.485394Z",
     "iopub.status.idle": "2022-06-17T02:22:46.506958Z",
     "shell.execute_reply": "2022-06-17T02:22:46.506400Z"
    },
    "papermill": {
     "duration": 0.043587,
     "end_time": "2022-06-17T02:22:46.508392",
     "exception": false,
     "start_time": "2022-06-17T02:22:46.464805",
     "status": "completed"
    },
    "tags": []
   },
   "outputs": [
    {
     "data": {
      "text/html": [
       "<div>\n",
       "<style scoped>\n",
       "    .dataframe tbody tr th:only-of-type {\n",
       "        vertical-align: middle;\n",
       "    }\n",
       "\n",
       "    .dataframe tbody tr th {\n",
       "        vertical-align: top;\n",
       "    }\n",
       "\n",
       "    .dataframe thead th {\n",
       "        text-align: right;\n",
       "    }\n",
       "</style>\n",
       "<table border=\"1\" class=\"dataframe\">\n",
       "  <thead>\n",
       "    <tr style=\"text-align: right;\">\n",
       "      <th></th>\n",
       "      <th>name</th>\n",
       "      <th>id</th>\n",
       "      <th>chr</th>\n",
       "      <th>band</th>\n",
       "      <th>start_position</th>\n",
       "    </tr>\n",
       "  </thead>\n",
       "  <tbody>\n",
       "    <tr>\n",
       "      <th>0</th>\n",
       "      <td>GAS6</td>\n",
       "      <td>ENSG00000183087</td>\n",
       "      <td>13</td>\n",
       "      <td>13q34</td>\n",
       "      <td>113820549.0</td>\n",
       "    </tr>\n",
       "    <tr>\n",
       "      <th>1</th>\n",
       "      <td>MMP14</td>\n",
       "      <td>ENSG00000157227</td>\n",
       "      <td>14</td>\n",
       "      <td>14q11.2</td>\n",
       "      <td>22836560.0</td>\n",
       "    </tr>\n",
       "    <tr>\n",
       "      <th>2</th>\n",
       "      <td>DSP</td>\n",
       "      <td>ENSG00000096696</td>\n",
       "      <td>6</td>\n",
       "      <td>6p24.3</td>\n",
       "      <td>7541617.0</td>\n",
       "    </tr>\n",
       "    <tr>\n",
       "      <th>3</th>\n",
       "      <td>MARCKSL1</td>\n",
       "      <td>ENSG00000175130</td>\n",
       "      <td>1</td>\n",
       "      <td>1p35.1</td>\n",
       "      <td>32333839.0</td>\n",
       "    </tr>\n",
       "    <tr>\n",
       "      <th>4</th>\n",
       "      <td>SPARC</td>\n",
       "      <td>ENSG00000113140</td>\n",
       "      <td>5</td>\n",
       "      <td>5q33.1</td>\n",
       "      <td>151661096.0</td>\n",
       "    </tr>\n",
       "  </tbody>\n",
       "</table>\n",
       "</div>"
      ],
      "text/plain": [
       "       name               id chr     band  start_position\n",
       "0      GAS6  ENSG00000183087  13    13q34     113820549.0\n",
       "1     MMP14  ENSG00000157227  14  14q11.2      22836560.0\n",
       "2       DSP  ENSG00000096696   6   6p24.3       7541617.0\n",
       "3  MARCKSL1  ENSG00000175130   1   1p35.1      32333839.0\n",
       "4     SPARC  ENSG00000113140   5   5q33.1     151661096.0"
      ]
     },
     "execution_count": 22,
     "metadata": {},
     "output_type": "execute_result"
    }
   ],
   "source": [
    "genes_info.head()"
   ]
  },
  {
   "cell_type": "markdown",
   "id": "c8d1038f",
   "metadata": {
    "papermill": {
     "duration": 0.005966,
     "end_time": "2022-06-17T02:22:46.521701",
     "exception": false,
     "start_time": "2022-06-17T02:22:46.515735",
     "status": "completed"
    },
    "tags": []
   },
   "source": [
    "# Test"
   ]
  },
  {
   "cell_type": "code",
   "execution_count": 23,
   "id": "64993abf",
   "metadata": {
    "execution": {
     "iopub.execute_input": "2022-06-17T02:22:46.535041Z",
     "iopub.status.busy": "2022-06-17T02:22:46.534690Z",
     "iopub.status.idle": "2022-06-17T02:22:46.558791Z",
     "shell.execute_reply": "2022-06-17T02:22:46.558273Z"
    },
    "papermill": {
     "duration": 0.032458,
     "end_time": "2022-06-17T02:22:46.560263",
     "exception": false,
     "start_time": "2022-06-17T02:22:46.527805",
     "status": "completed"
    },
    "tags": []
   },
   "outputs": [
    {
     "data": {
      "text/html": [
       "<div>\n",
       "<style scoped>\n",
       "    .dataframe tbody tr th:only-of-type {\n",
       "        vertical-align: middle;\n",
       "    }\n",
       "\n",
       "    .dataframe tbody tr th {\n",
       "        vertical-align: top;\n",
       "    }\n",
       "\n",
       "    .dataframe thead th {\n",
       "        text-align: right;\n",
       "    }\n",
       "</style>\n",
       "<table border=\"1\" class=\"dataframe\">\n",
       "  <thead>\n",
       "    <tr style=\"text-align: right;\">\n",
       "      <th></th>\n",
       "      <th>name</th>\n",
       "      <th>id</th>\n",
       "      <th>chr</th>\n",
       "      <th>band</th>\n",
       "      <th>start_position</th>\n",
       "    </tr>\n",
       "  </thead>\n",
       "  <tbody>\n",
       "    <tr>\n",
       "      <th>15</th>\n",
       "      <td>TIMP3</td>\n",
       "      <td>ENSG00000100234</td>\n",
       "      <td>22</td>\n",
       "      <td>22q12.3</td>\n",
       "      <td>32801701.0</td>\n",
       "    </tr>\n",
       "    <tr>\n",
       "      <th>50</th>\n",
       "      <td>LIMK2</td>\n",
       "      <td>ENSG00000182541</td>\n",
       "      <td>22</td>\n",
       "      <td>22q12.2</td>\n",
       "      <td>31212239.0</td>\n",
       "    </tr>\n",
       "    <tr>\n",
       "      <th>72</th>\n",
       "      <td>TOM1</td>\n",
       "      <td>ENSG00000100284</td>\n",
       "      <td>22</td>\n",
       "      <td>22q12.3</td>\n",
       "      <td>35299275.0</td>\n",
       "    </tr>\n",
       "    <tr>\n",
       "      <th>136</th>\n",
       "      <td>KDELR3</td>\n",
       "      <td>ENSG00000100196</td>\n",
       "      <td>22</td>\n",
       "      <td>22q13.1</td>\n",
       "      <td>38468078.0</td>\n",
       "    </tr>\n",
       "    <tr>\n",
       "      <th>170</th>\n",
       "      <td>PICK1</td>\n",
       "      <td>ENSG00000100151</td>\n",
       "      <td>22</td>\n",
       "      <td>22q13.1</td>\n",
       "      <td>38056311.0</td>\n",
       "    </tr>\n",
       "    <tr>\n",
       "      <th>...</th>\n",
       "      <td>...</td>\n",
       "      <td>...</td>\n",
       "      <td>...</td>\n",
       "      <td>...</td>\n",
       "      <td>...</td>\n",
       "    </tr>\n",
       "    <tr>\n",
       "      <th>6244</th>\n",
       "      <td>MKL1</td>\n",
       "      <td>ENSG00000196588</td>\n",
       "      <td>22</td>\n",
       "      <td>22q13.2</td>\n",
       "      <td>40410281.0</td>\n",
       "    </tr>\n",
       "    <tr>\n",
       "      <th>6286</th>\n",
       "      <td>XRCC6</td>\n",
       "      <td>ENSG00000196419</td>\n",
       "      <td>22</td>\n",
       "      <td>22q13.2</td>\n",
       "      <td>41621119.0</td>\n",
       "    </tr>\n",
       "    <tr>\n",
       "      <th>6399</th>\n",
       "      <td>PDGFB</td>\n",
       "      <td>ENSG00000100311</td>\n",
       "      <td>22</td>\n",
       "      <td>22q13.1</td>\n",
       "      <td>39223359.0</td>\n",
       "    </tr>\n",
       "    <tr>\n",
       "      <th>6402</th>\n",
       "      <td>UBE2L3</td>\n",
       "      <td>ENSG00000185651</td>\n",
       "      <td>22</td>\n",
       "      <td>22q11.21</td>\n",
       "      <td>21549447.0</td>\n",
       "    </tr>\n",
       "    <tr>\n",
       "      <th>6420</th>\n",
       "      <td>TUBA8</td>\n",
       "      <td>ENSG00000183785</td>\n",
       "      <td>22</td>\n",
       "      <td>22q11.21</td>\n",
       "      <td>18110331.0</td>\n",
       "    </tr>\n",
       "  </tbody>\n",
       "</table>\n",
       "<p>170 rows × 5 columns</p>\n",
       "</div>"
      ],
      "text/plain": [
       "        name               id chr      band  start_position\n",
       "15     TIMP3  ENSG00000100234  22   22q12.3      32801701.0\n",
       "50     LIMK2  ENSG00000182541  22   22q12.2      31212239.0\n",
       "72      TOM1  ENSG00000100284  22   22q12.3      35299275.0\n",
       "136   KDELR3  ENSG00000100196  22   22q13.1      38468078.0\n",
       "170    PICK1  ENSG00000100151  22   22q13.1      38056311.0\n",
       "...      ...              ...  ..       ...             ...\n",
       "6244    MKL1  ENSG00000196588  22   22q13.2      40410281.0\n",
       "6286   XRCC6  ENSG00000196419  22   22q13.2      41621119.0\n",
       "6399   PDGFB  ENSG00000100311  22   22q13.1      39223359.0\n",
       "6402  UBE2L3  ENSG00000185651  22  22q11.21      21549447.0\n",
       "6420   TUBA8  ENSG00000183785  22  22q11.21      18110331.0\n",
       "\n",
       "[170 rows x 5 columns]"
      ]
     },
     "metadata": {},
     "output_type": "display_data"
    }
   ],
   "source": [
    "chromosome_genes_info = genes_info[genes_info[\"chr\"] == chromosome]\n",
    "display(chromosome_genes_info)"
   ]
  },
  {
   "cell_type": "code",
   "execution_count": 24,
   "id": "d2e42726-7de6-46eb-acfc-6323eaa8fae6",
   "metadata": {
    "execution": {
     "iopub.execute_input": "2022-06-17T02:22:46.574774Z",
     "iopub.status.busy": "2022-06-17T02:22:46.574603Z",
     "iopub.status.idle": "2022-06-17T02:22:46.591519Z",
     "shell.execute_reply": "2022-06-17T02:22:46.590951Z"
    },
    "papermill": {
     "duration": 0.026502,
     "end_time": "2022-06-17T02:22:46.593770",
     "exception": false,
     "start_time": "2022-06-17T02:22:46.567268",
     "status": "completed"
    },
    "tags": []
   },
   "outputs": [
    {
     "data": {
      "text/plain": [
       "5"
      ]
     },
     "metadata": {},
     "output_type": "display_data"
    }
   ],
   "source": [
    "seed(0)\n",
    "_gene_list_ids = sample(chromosome_genes_info[\"id\"].tolist(), 5)\n",
    "selected_chromosome_genes_obj = [Gene(ensembl_id=g_id) for g_id in _gene_list_ids]\n",
    "display(len(selected_chromosome_genes_obj))"
   ]
  },
  {
   "cell_type": "code",
   "execution_count": 25,
   "id": "1b355359",
   "metadata": {
    "execution": {
     "iopub.execute_input": "2022-06-17T02:22:46.609636Z",
     "iopub.status.busy": "2022-06-17T02:22:46.608654Z",
     "iopub.status.idle": "2022-06-17T02:22:54.090956Z",
     "shell.execute_reply": "2022-06-17T02:22:54.090388Z"
    },
    "papermill": {
     "duration": 7.491267,
     "end_time": "2022-06-17T02:22:54.092188",
     "exception": false,
     "start_time": "2022-06-17T02:22:46.600921",
     "status": "completed"
    },
    "tags": []
   },
   "outputs": [
    {
     "name": "stdout",
     "output_type": "stream",
     "text": [
      "MGAT3 / ADM2: 0.0\n",
      "MGAT3 / TTC28: 0.0\n",
      "MGAT3 / SMC1B: 0.0\n",
      "MGAT3 / RANGAP1: -0.023791163065520097\n",
      "ADM2 / TTC28: 0.0\n",
      "ADM2 / SMC1B: 0.0\n",
      "ADM2 / RANGAP1: 0.0\n",
      "TTC28 / SMC1B: 0.0\n",
      "TTC28 / RANGAP1: 0.0\n",
      "SMC1B / RANGAP1: 0.07668122234998234\n"
     ]
    }
   ],
   "source": [
    "for gene_idx1 in range(0, len(selected_chromosome_genes_obj) - 1):\n",
    "    gene_obj1 = selected_chromosome_genes_obj[gene_idx1]\n",
    "\n",
    "    for gene_idx2 in range(gene_idx1 + 1, len(selected_chromosome_genes_obj)):\n",
    "        gene_obj2 = selected_chromosome_genes_obj[gene_idx2]\n",
    "\n",
    "        c = gene_obj1.get_ssm_correlation(\n",
    "            gene_obj2,\n",
    "        )\n",
    "\n",
    "        print(f\"{gene_obj1.name} / {gene_obj2.name}: {c}\")"
   ]
  },
  {
   "cell_type": "markdown",
   "id": "d3843e06",
   "metadata": {
    "papermill": {
     "duration": 0.006905,
     "end_time": "2022-06-17T02:22:54.106272",
     "exception": false,
     "start_time": "2022-06-17T02:22:54.099367",
     "status": "completed"
    },
    "tags": []
   },
   "source": [
    "# Compute correlation per chromosome"
   ]
  },
  {
   "cell_type": "code",
   "execution_count": 26,
   "id": "cb859c15-d1f3-4006-a74c-2b83c0db9611",
   "metadata": {
    "execution": {
     "iopub.execute_input": "2022-06-17T02:22:54.121414Z",
     "iopub.status.busy": "2022-06-17T02:22:54.121117Z",
     "iopub.status.idle": "2022-06-17T02:22:54.138397Z",
     "shell.execute_reply": "2022-06-17T02:22:54.137860Z"
    },
    "papermill": {
     "duration": 0.026371,
     "end_time": "2022-06-17T02:22:54.139720",
     "exception": false,
     "start_time": "2022-06-17T02:22:54.113349",
     "status": "completed"
    },
    "tags": []
   },
   "outputs": [
    {
     "data": {
      "text/plain": [
       "PosixPath('/opt/data/data/phenomexcan/ld_blocks/gene_corrs/gtex_v8/mashr/by_chr/gene_corrs-chr22.pkl')"
      ]
     },
     "metadata": {},
     "output_type": "display_data"
    }
   ],
   "source": [
    "output_dir = OUTPUT_DIR_BASE / \"by_chr\"\n",
    "output_dir.mkdir(exist_ok=True, parents=True)\n",
    "output_file = output_dir / f\"gene_corrs-chr{chromosome}.pkl\"\n",
    "display(output_file)"
   ]
  },
  {
   "cell_type": "code",
   "execution_count": 27,
   "id": "aa674fe4-6794-4eed-98fa-32b39d1d4ace",
   "metadata": {
    "execution": {
     "iopub.execute_input": "2022-06-17T02:22:54.161877Z",
     "iopub.status.busy": "2022-06-17T02:22:54.161703Z",
     "iopub.status.idle": "2022-06-17T02:22:54.177436Z",
     "shell.execute_reply": "2022-06-17T02:22:54.176904Z"
    },
    "papermill": {
     "duration": 0.026224,
     "end_time": "2022-06-17T02:22:54.178883",
     "exception": false,
     "start_time": "2022-06-17T02:22:54.152659",
     "status": "completed"
    },
    "tags": []
   },
   "outputs": [],
   "source": [
    "warnings.filterwarnings(\"error\")"
   ]
  },
  {
   "cell_type": "code",
   "execution_count": 28,
   "id": "cdbb90a1",
   "metadata": {
    "execution": {
     "iopub.execute_input": "2022-06-17T02:22:54.194651Z",
     "iopub.status.busy": "2022-06-17T02:22:54.194330Z",
     "iopub.status.idle": "2022-06-17T05:24:00.970149Z",
     "shell.execute_reply": "2022-06-17T05:24:00.969584Z"
    },
    "papermill": {
     "duration": 10866.785893,
     "end_time": "2022-06-17T05:24:00.972181",
     "exception": false,
     "start_time": "2022-06-17T02:22:54.186288",
     "status": "completed"
    },
    "tags": []
   },
   "outputs": [
    {
     "name": "stdout",
     "output_type": "stream",
     "text": [
      "Number of genes in chromosome: 170\n",
      "Number of gene combinations: 14365\n"
     ]
    },
    {
     "name": "stderr",
     "output_type": "stream",
     "text": [
      "ENSG00000100299 / ENSG00000251322: 100%|████████████████████| 14365/14365 [3:01:06<00:00,  1.32it/s]"
     ]
    },
    {
     "name": "stdout",
     "output_type": "stream",
     "text": [
      "Min/max values: -0.9236407170461433 / 0.9748602821409127\n"
     ]
    },
    {
     "name": "stderr",
     "output_type": "stream",
     "text": [
      "\n"
     ]
    },
    {
     "data": {
      "text/plain": [
       "PosixPath('/opt/data/data/phenomexcan/ld_blocks/gene_corrs/gtex_v8/mashr/by_chr/gene_corrs-chr22.pkl')"
      ]
     },
     "metadata": {},
     "output_type": "display_data"
    }
   ],
   "source": [
    "# standard checks\n",
    "all_chrs = genes_info[\"chr\"].dropna().unique()\n",
    "assert all_chrs.shape[0] == 22\n",
    "\n",
    "# select chromosome given by the user\n",
    "assert chromosome in all_chrs\n",
    "\n",
    "# run only on the chromosome specified\n",
    "all_chrs = [chromosome]\n",
    "genes_chr = genes_info[genes_info[\"chr\"] == chromosome]\n",
    "\n",
    "# For testing purposes\n",
    "# genes_chr = genes_chr.sample(n=20)\n",
    "\n",
    "print(f\"Number of genes in chromosome: {genes_chr.shape[0]}\", flush=True)\n",
    "\n",
    "# sort genes by starting position to make visualizations better later\n",
    "genes_chr = genes_chr.sort_values(\"start_position\")\n",
    "\n",
    "gene_chr_objs = [Gene(ensembl_id=gene_id) for gene_id in genes_chr[\"id\"]]\n",
    "gene_chr_ids = [g.ensembl_id for g in gene_chr_objs]\n",
    "\n",
    "n = len(gene_chr_objs)\n",
    "n_comb = int(n * (n - 1) / 2.0)\n",
    "print(f\"Number of gene combinations: {n_comb}\", flush=True)\n",
    "\n",
    "gene_corrs = []\n",
    "\n",
    "pbar = tqdm(ncols=100, total=n_comb)\n",
    "i = 0\n",
    "for gene_idx1 in range(0, len(gene_chr_objs) - 1):\n",
    "    gene_obj1 = gene_chr_objs[gene_idx1]\n",
    "\n",
    "    for gene_idx2 in range(gene_idx1 + 1, len(gene_chr_objs)):\n",
    "        gene_obj2 = gene_chr_objs[gene_idx2]\n",
    "\n",
    "        pbar.set_description(f\"{gene_obj1.ensembl_id} / {gene_obj2.ensembl_id}\")\n",
    "\n",
    "        try:\n",
    "            # FIXME: compute the correlation of the sum of squares of the model using all\n",
    "            # the available tissues; this could be problematic because for some results\n",
    "            # (computed on a specific phenotype/GWAS) we might not have all the tissues\n",
    "            # available, which can certainly bias the correlation estimation.\n",
    "            # Since this depends on the GWAS on a specific phenotype, we should ideally have\n",
    "            # one correlation matrix per GWAS. I should look at how we can improve this.\n",
    "            gene_corrs.append(\n",
    "                gene_obj1.get_ssm_correlation(\n",
    "                    other_gene=gene_obj2,\n",
    "                    condition_number=SMULTIXCAN_CONDITION_NUMBER,\n",
    "                    reference_panel=REFERENCE_PANEL,\n",
    "                    model_type=EQTL_MODEL,\n",
    "                )\n",
    "            )\n",
    "        except Warning:\n",
    "            print(\n",
    "                f\"RuntimeWarning for genes {gene_obj1.ensembl_id} and {gene_obj2.ensembl_id}\",\n",
    "                flush=True,\n",
    "            )\n",
    "            import traceback\n",
    "\n",
    "            print(traceback.format_exc(), flush=True)\n",
    "        except Exception as e:\n",
    "            print(\n",
    "                f\"Exception for genes {gene_obj1.ensembl_id} and {gene_obj2.ensembl_id}\",\n",
    "                flush=True,\n",
    "            )\n",
    "            import traceback\n",
    "\n",
    "            print(traceback.format_exc(), flush=True)\n",
    "            gene_corrs.append(np.nan)\n",
    "\n",
    "        pbar.update(1)\n",
    "\n",
    "pbar.close()\n",
    "\n",
    "# testing\n",
    "gene_corrs_flat = pd.Series(gene_corrs)\n",
    "print(f\"Min/max values: {gene_corrs_flat.min()} / {gene_corrs_flat.max()}\")\n",
    "assert gene_corrs_flat.min() >= -1.001\n",
    "assert gene_corrs_flat.max() <= 1.001\n",
    "\n",
    "# save\n",
    "# FIXME: consider saving only the condenced matrix here. See here for\n",
    "# more details: https://github.com/greenelab/phenoplier/pull/38#discussion_r634600813\n",
    "gene_corrs_data = squareform(np.array(gene_corrs, dtype=np.float64))\n",
    "np.fill_diagonal(gene_corrs_data, 1.0)\n",
    "\n",
    "gene_corrs_df = pd.DataFrame(\n",
    "    data=gene_corrs_data,\n",
    "    index=gene_chr_ids,\n",
    "    columns=gene_chr_ids,\n",
    ")\n",
    "\n",
    "output_dir.mkdir(exist_ok=True, parents=True)\n",
    "display(output_file)\n",
    "\n",
    "gene_corrs_df.to_pickle(output_file)"
   ]
  },
  {
   "cell_type": "markdown",
   "id": "faa67b51-5373-470f-aa72-2ded53fa6dfe",
   "metadata": {
    "papermill": {
     "duration": 0.65596,
     "end_time": "2022-06-17T05:24:02.344366",
     "exception": false,
     "start_time": "2022-06-17T05:24:01.688406",
     "status": "completed"
    },
    "tags": []
   },
   "source": [
    "# Testing"
   ]
  },
  {
   "cell_type": "code",
   "execution_count": 29,
   "id": "14f7d046-4b55-4896-a56b-990127bcc388",
   "metadata": {
    "execution": {
     "iopub.execute_input": "2022-06-17T05:24:03.795949Z",
     "iopub.status.busy": "2022-06-17T05:24:03.795433Z",
     "iopub.status.idle": "2022-06-17T05:24:03.813113Z",
     "shell.execute_reply": "2022-06-17T05:24:03.812564Z"
    },
    "papermill": {
     "duration": 0.766687,
     "end_time": "2022-06-17T05:24:03.814623",
     "exception": false,
     "start_time": "2022-06-17T05:24:03.047936",
     "status": "completed"
    },
    "tags": []
   },
   "outputs": [
    {
     "data": {
      "text/plain": [
       "(170, 170)"
      ]
     },
     "execution_count": 29,
     "metadata": {},
     "output_type": "execute_result"
    }
   ],
   "source": [
    "gene_corrs_df.shape"
   ]
  },
  {
   "cell_type": "code",
   "execution_count": 30,
   "id": "c7d15414-3297-4537-a7c6-7588c0baeb75",
   "metadata": {
    "execution": {
     "iopub.execute_input": "2022-06-17T05:24:05.170868Z",
     "iopub.status.busy": "2022-06-17T05:24:05.170523Z",
     "iopub.status.idle": "2022-06-17T05:24:05.205906Z",
     "shell.execute_reply": "2022-06-17T05:24:05.205268Z"
    },
    "papermill": {
     "duration": 0.747991,
     "end_time": "2022-06-17T05:24:05.207393",
     "exception": false,
     "start_time": "2022-06-17T05:24:04.459402",
     "status": "completed"
    },
    "tags": []
   },
   "outputs": [
    {
     "data": {
      "text/html": [
       "<div>\n",
       "<style scoped>\n",
       "    .dataframe tbody tr th:only-of-type {\n",
       "        vertical-align: middle;\n",
       "    }\n",
       "\n",
       "    .dataframe tbody tr th {\n",
       "        vertical-align: top;\n",
       "    }\n",
       "\n",
       "    .dataframe thead th {\n",
       "        text-align: right;\n",
       "    }\n",
       "</style>\n",
       "<table border=\"1\" class=\"dataframe\">\n",
       "  <thead>\n",
       "    <tr style=\"text-align: right;\">\n",
       "      <th></th>\n",
       "      <th>ENSG00000177663</th>\n",
       "      <th>ENSG00000131100</th>\n",
       "      <th>ENSG00000099968</th>\n",
       "      <th>ENSG00000015475</th>\n",
       "      <th>ENSG00000243156</th>\n",
       "      <th>ENSG00000215193</th>\n",
       "      <th>ENSG00000183785</th>\n",
       "      <th>ENSG00000184979</th>\n",
       "      <th>ENSG00000100033</th>\n",
       "      <th>ENSG00000100075</th>\n",
       "      <th>...</th>\n",
       "      <th>ENSG00000196576</th>\n",
       "      <th>ENSG00000128165</th>\n",
       "      <th>ENSG00000100253</th>\n",
       "      <th>ENSG00000130489</th>\n",
       "      <th>ENSG00000025708</th>\n",
       "      <th>ENSG00000205560</th>\n",
       "      <th>ENSG00000100288</th>\n",
       "      <th>ENSG00000008735</th>\n",
       "      <th>ENSG00000100299</th>\n",
       "      <th>ENSG00000251322</th>\n",
       "    </tr>\n",
       "  </thead>\n",
       "  <tbody>\n",
       "    <tr>\n",
       "      <th>ENSG00000177663</th>\n",
       "      <td>1.000000</td>\n",
       "      <td>-0.077172</td>\n",
       "      <td>0.078901</td>\n",
       "      <td>-0.034644</td>\n",
       "      <td>-0.008794</td>\n",
       "      <td>0.035955</td>\n",
       "      <td>0.001726</td>\n",
       "      <td>0.095402</td>\n",
       "      <td>0.039103</td>\n",
       "      <td>0.321565</td>\n",
       "      <td>...</td>\n",
       "      <td>0.0</td>\n",
       "      <td>0.0</td>\n",
       "      <td>0.0</td>\n",
       "      <td>0.0</td>\n",
       "      <td>0.0</td>\n",
       "      <td>0.0</td>\n",
       "      <td>0.0</td>\n",
       "      <td>0.0</td>\n",
       "      <td>0.0</td>\n",
       "      <td>0.0</td>\n",
       "    </tr>\n",
       "    <tr>\n",
       "      <th>ENSG00000131100</th>\n",
       "      <td>-0.077172</td>\n",
       "      <td>1.000000</td>\n",
       "      <td>-0.258279</td>\n",
       "      <td>0.154259</td>\n",
       "      <td>-0.102484</td>\n",
       "      <td>-0.038330</td>\n",
       "      <td>-0.069451</td>\n",
       "      <td>-0.077467</td>\n",
       "      <td>-0.251487</td>\n",
       "      <td>-0.363512</td>\n",
       "      <td>...</td>\n",
       "      <td>0.0</td>\n",
       "      <td>0.0</td>\n",
       "      <td>0.0</td>\n",
       "      <td>0.0</td>\n",
       "      <td>0.0</td>\n",
       "      <td>0.0</td>\n",
       "      <td>0.0</td>\n",
       "      <td>0.0</td>\n",
       "      <td>0.0</td>\n",
       "      <td>0.0</td>\n",
       "    </tr>\n",
       "    <tr>\n",
       "      <th>ENSG00000099968</th>\n",
       "      <td>0.078901</td>\n",
       "      <td>-0.258279</td>\n",
       "      <td>1.000000</td>\n",
       "      <td>-0.152361</td>\n",
       "      <td>0.151568</td>\n",
       "      <td>0.063979</td>\n",
       "      <td>-0.028284</td>\n",
       "      <td>0.094150</td>\n",
       "      <td>0.026342</td>\n",
       "      <td>0.238936</td>\n",
       "      <td>...</td>\n",
       "      <td>0.0</td>\n",
       "      <td>0.0</td>\n",
       "      <td>0.0</td>\n",
       "      <td>0.0</td>\n",
       "      <td>0.0</td>\n",
       "      <td>0.0</td>\n",
       "      <td>0.0</td>\n",
       "      <td>0.0</td>\n",
       "      <td>0.0</td>\n",
       "      <td>0.0</td>\n",
       "    </tr>\n",
       "    <tr>\n",
       "      <th>ENSG00000015475</th>\n",
       "      <td>-0.034644</td>\n",
       "      <td>0.154259</td>\n",
       "      <td>-0.152361</td>\n",
       "      <td>1.000000</td>\n",
       "      <td>-0.075706</td>\n",
       "      <td>-0.028132</td>\n",
       "      <td>-0.160491</td>\n",
       "      <td>0.014911</td>\n",
       "      <td>-0.144986</td>\n",
       "      <td>-0.064597</td>\n",
       "      <td>...</td>\n",
       "      <td>0.0</td>\n",
       "      <td>0.0</td>\n",
       "      <td>0.0</td>\n",
       "      <td>0.0</td>\n",
       "      <td>0.0</td>\n",
       "      <td>0.0</td>\n",
       "      <td>0.0</td>\n",
       "      <td>0.0</td>\n",
       "      <td>0.0</td>\n",
       "      <td>0.0</td>\n",
       "    </tr>\n",
       "    <tr>\n",
       "      <th>ENSG00000243156</th>\n",
       "      <td>-0.008794</td>\n",
       "      <td>-0.102484</td>\n",
       "      <td>0.151568</td>\n",
       "      <td>-0.075706</td>\n",
       "      <td>1.000000</td>\n",
       "      <td>-0.057975</td>\n",
       "      <td>-0.077885</td>\n",
       "      <td>0.010540</td>\n",
       "      <td>0.038399</td>\n",
       "      <td>0.018256</td>\n",
       "      <td>...</td>\n",
       "      <td>0.0</td>\n",
       "      <td>0.0</td>\n",
       "      <td>0.0</td>\n",
       "      <td>0.0</td>\n",
       "      <td>0.0</td>\n",
       "      <td>0.0</td>\n",
       "      <td>0.0</td>\n",
       "      <td>0.0</td>\n",
       "      <td>0.0</td>\n",
       "      <td>0.0</td>\n",
       "    </tr>\n",
       "  </tbody>\n",
       "</table>\n",
       "<p>5 rows × 170 columns</p>\n",
       "</div>"
      ],
      "text/plain": [
       "                 ENSG00000177663  ENSG00000131100  ENSG00000099968  \\\n",
       "ENSG00000177663         1.000000        -0.077172         0.078901   \n",
       "ENSG00000131100        -0.077172         1.000000        -0.258279   \n",
       "ENSG00000099968         0.078901        -0.258279         1.000000   \n",
       "ENSG00000015475        -0.034644         0.154259        -0.152361   \n",
       "ENSG00000243156        -0.008794        -0.102484         0.151568   \n",
       "\n",
       "                 ENSG00000015475  ENSG00000243156  ENSG00000215193  \\\n",
       "ENSG00000177663        -0.034644        -0.008794         0.035955   \n",
       "ENSG00000131100         0.154259        -0.102484        -0.038330   \n",
       "ENSG00000099968        -0.152361         0.151568         0.063979   \n",
       "ENSG00000015475         1.000000        -0.075706        -0.028132   \n",
       "ENSG00000243156        -0.075706         1.000000        -0.057975   \n",
       "\n",
       "                 ENSG00000183785  ENSG00000184979  ENSG00000100033  \\\n",
       "ENSG00000177663         0.001726         0.095402         0.039103   \n",
       "ENSG00000131100        -0.069451        -0.077467        -0.251487   \n",
       "ENSG00000099968        -0.028284         0.094150         0.026342   \n",
       "ENSG00000015475        -0.160491         0.014911        -0.144986   \n",
       "ENSG00000243156        -0.077885         0.010540         0.038399   \n",
       "\n",
       "                 ENSG00000100075  ...  ENSG00000196576  ENSG00000128165  \\\n",
       "ENSG00000177663         0.321565  ...              0.0              0.0   \n",
       "ENSG00000131100        -0.363512  ...              0.0              0.0   \n",
       "ENSG00000099968         0.238936  ...              0.0              0.0   \n",
       "ENSG00000015475        -0.064597  ...              0.0              0.0   \n",
       "ENSG00000243156         0.018256  ...              0.0              0.0   \n",
       "\n",
       "                 ENSG00000100253  ENSG00000130489  ENSG00000025708  \\\n",
       "ENSG00000177663              0.0              0.0              0.0   \n",
       "ENSG00000131100              0.0              0.0              0.0   \n",
       "ENSG00000099968              0.0              0.0              0.0   \n",
       "ENSG00000015475              0.0              0.0              0.0   \n",
       "ENSG00000243156              0.0              0.0              0.0   \n",
       "\n",
       "                 ENSG00000205560  ENSG00000100288  ENSG00000008735  \\\n",
       "ENSG00000177663              0.0              0.0              0.0   \n",
       "ENSG00000131100              0.0              0.0              0.0   \n",
       "ENSG00000099968              0.0              0.0              0.0   \n",
       "ENSG00000015475              0.0              0.0              0.0   \n",
       "ENSG00000243156              0.0              0.0              0.0   \n",
       "\n",
       "                 ENSG00000100299  ENSG00000251322  \n",
       "ENSG00000177663              0.0              0.0  \n",
       "ENSG00000131100              0.0              0.0  \n",
       "ENSG00000099968              0.0              0.0  \n",
       "ENSG00000015475              0.0              0.0  \n",
       "ENSG00000243156              0.0              0.0  \n",
       "\n",
       "[5 rows x 170 columns]"
      ]
     },
     "execution_count": 30,
     "metadata": {},
     "output_type": "execute_result"
    }
   ],
   "source": [
    "gene_corrs_df.head()"
   ]
  },
  {
   "cell_type": "code",
   "execution_count": 31,
   "id": "00583efc-7068-4270-ad1e-4a418e91db96",
   "metadata": {
    "execution": {
     "iopub.execute_input": "2022-06-17T05:24:06.558308Z",
     "iopub.status.busy": "2022-06-17T05:24:06.557949Z",
     "iopub.status.idle": "2022-06-17T05:24:06.577812Z",
     "shell.execute_reply": "2022-06-17T05:24:06.577254Z"
    },
    "papermill": {
     "duration": 0.725744,
     "end_time": "2022-06-17T05:24:06.579242",
     "exception": false,
     "start_time": "2022-06-17T05:24:05.853498",
     "status": "completed"
    },
    "tags": []
   },
   "outputs": [
    {
     "data": {
      "text/plain": [
       "-0.9236407170461433"
      ]
     },
     "metadata": {},
     "output_type": "display_data"
    }
   ],
   "source": [
    "_min_val = gene_corrs_df.min().min()\n",
    "display(_min_val)\n",
    "assert _min_val >= -1.0"
   ]
  },
  {
   "cell_type": "code",
   "execution_count": 32,
   "id": "d04fb2cf-1050-475b-b855-f5f7cc04092b",
   "metadata": {
    "execution": {
     "iopub.execute_input": "2022-06-17T05:24:07.926614Z",
     "iopub.status.busy": "2022-06-17T05:24:07.926419Z",
     "iopub.status.idle": "2022-06-17T05:24:07.947046Z",
     "shell.execute_reply": "2022-06-17T05:24:07.946350Z"
    },
    "papermill": {
     "duration": 0.725938,
     "end_time": "2022-06-17T05:24:07.948548",
     "exception": false,
     "start_time": "2022-06-17T05:24:07.222610",
     "status": "completed"
    },
    "tags": []
   },
   "outputs": [
    {
     "data": {
      "text/plain": [
       "1.0"
      ]
     },
     "metadata": {},
     "output_type": "display_data"
    }
   ],
   "source": [
    "_max_val = gene_corrs_df.max().max()  # this captures the diagonal\n",
    "display(_max_val)\n",
    "assert _max_val <= 1.0"
   ]
  },
  {
   "cell_type": "code",
   "execution_count": 33,
   "id": "96d02c44-1fba-47be-8a93-8f2608420b9c",
   "metadata": {
    "execution": {
     "iopub.execute_input": "2022-06-17T05:24:09.327096Z",
     "iopub.status.busy": "2022-06-17T05:24:09.326907Z",
     "iopub.status.idle": "2022-06-17T05:24:09.344509Z",
     "shell.execute_reply": "2022-06-17T05:24:09.343877Z"
    },
    "papermill": {
     "duration": 0.690481,
     "end_time": "2022-06-17T05:24:09.346015",
     "exception": false,
     "start_time": "2022-06-17T05:24:08.655534",
     "status": "completed"
    },
    "tags": []
   },
   "outputs": [],
   "source": [
    "# check upper triangular values\n",
    "assert len(gene_corrs) == int(genes_chr.shape[0] * (genes_chr.shape[0] - 1) / 2)"
   ]
  },
  {
   "cell_type": "code",
   "execution_count": 34,
   "id": "aaa51627-f4e3-4744-a41f-7d25adcc0a78",
   "metadata": {
    "execution": {
     "iopub.execute_input": "2022-06-17T05:24:10.714242Z",
     "iopub.status.busy": "2022-06-17T05:24:10.713863Z",
     "iopub.status.idle": "2022-06-17T05:24:10.738098Z",
     "shell.execute_reply": "2022-06-17T05:24:10.737537Z"
    },
    "papermill": {
     "duration": 0.692084,
     "end_time": "2022-06-17T05:24:10.739782",
     "exception": false,
     "start_time": "2022-06-17T05:24:10.047698",
     "status": "completed"
    },
    "tags": []
   },
   "outputs": [],
   "source": [
    "gene_corrs = pd.Series(gene_corrs)"
   ]
  },
  {
   "cell_type": "code",
   "execution_count": 35,
   "id": "fe283586-c348-40e0-8841-f6d97bfb021c",
   "metadata": {
    "execution": {
     "iopub.execute_input": "2022-06-17T05:24:12.259800Z",
     "iopub.status.busy": "2022-06-17T05:24:12.259429Z",
     "iopub.status.idle": "2022-06-17T05:24:12.282281Z",
     "shell.execute_reply": "2022-06-17T05:24:12.281624Z"
    },
    "papermill": {
     "duration": 0.706124,
     "end_time": "2022-06-17T05:24:12.283768",
     "exception": false,
     "start_time": "2022-06-17T05:24:11.577644",
     "status": "completed"
    },
    "tags": []
   },
   "outputs": [
    {
     "data": {
      "text/plain": [
       "count    14365.000000\n",
       "mean        -0.000238\n",
       "std          0.070024\n",
       "min         -0.923641\n",
       "25%          0.000000\n",
       "50%          0.000000\n",
       "75%          0.000000\n",
       "max          0.974860\n",
       "dtype: float64"
      ]
     },
     "execution_count": 35,
     "metadata": {},
     "output_type": "execute_result"
    }
   ],
   "source": [
    "gene_corrs.describe()"
   ]
  },
  {
   "cell_type": "code",
   "execution_count": 36,
   "id": "b3815678-0f93-4b35-897b-a9d047a2aa78",
   "metadata": {
    "execution": {
     "iopub.execute_input": "2022-06-17T05:24:13.707157Z",
     "iopub.status.busy": "2022-06-17T05:24:13.706803Z",
     "iopub.status.idle": "2022-06-17T05:24:13.729161Z",
     "shell.execute_reply": "2022-06-17T05:24:13.728514Z"
    },
    "papermill": {
     "duration": 0.737124,
     "end_time": "2022-06-17T05:24:13.730713",
     "exception": false,
     "start_time": "2022-06-17T05:24:12.993589",
     "status": "completed"
    },
    "tags": []
   },
   "outputs": [
    {
     "data": {
      "text/plain": [
       "0.00   -0.923641\n",
       "0.05   -0.099842\n",
       "0.10   -0.036748\n",
       "0.15    0.000000\n",
       "0.20    0.000000\n",
       "0.25    0.000000\n",
       "0.30    0.000000\n",
       "0.35    0.000000\n",
       "0.40    0.000000\n",
       "0.45    0.000000\n",
       "0.50    0.000000\n",
       "0.55    0.000000\n",
       "0.60    0.000000\n",
       "0.65    0.000000\n",
       "0.70    0.000000\n",
       "0.75    0.000000\n",
       "0.80    0.000000\n",
       "0.85    0.000000\n",
       "0.90    0.032996\n",
       "0.95    0.096503\n",
       "dtype: float64"
      ]
     },
     "metadata": {},
     "output_type": "display_data"
    }
   ],
   "source": [
    "gene_corrs_quantiles = gene_corrs.quantile(np.arange(0, 1, 0.05))\n",
    "display(gene_corrs_quantiles)"
   ]
  },
  {
   "cell_type": "markdown",
   "id": "8e60a080-edb2-4e9c-b2ef-22961693200c",
   "metadata": {
    "papermill": {
     "duration": 0.710851,
     "end_time": "2022-06-17T05:24:15.093612",
     "exception": false,
     "start_time": "2022-06-17T05:24:14.382761",
     "status": "completed"
    },
    "tags": []
   },
   "source": [
    "## Plot: distribution"
   ]
  },
  {
   "cell_type": "code",
   "execution_count": 37,
   "id": "8301126b-a7d4-4744-9c7d-f0f86eb6f54c",
   "metadata": {
    "execution": {
     "iopub.execute_input": "2022-06-17T05:24:16.476444Z",
     "iopub.status.busy": "2022-06-17T05:24:16.476245Z",
     "iopub.status.idle": "2022-06-17T05:24:16.790658Z",
     "shell.execute_reply": "2022-06-17T05:24:16.790011Z"
    },
    "papermill": {
     "duration": 1.019574,
     "end_time": "2022-06-17T05:24:16.792277",
     "exception": false,
     "start_time": "2022-06-17T05:24:15.772703",
     "status": "completed"
    },
    "tags": []
   },
   "outputs": [
    {
     "data": {
      "image/png": "[encoded data removed]",
      "text/plain": [
       "<Figure size 504x504 with 1 Axes>"
      ]
     },
     "metadata": {
      "needs_background": "light"
     },
     "output_type": "display_data"
    }
   ],
   "source": [
    "with sns.plotting_context(\"paper\", font_scale=1.5):\n",
    "    g = sns.displot(gene_corrs, kde=True, height=7)\n",
    "    g.ax.set_title(\n",
    "        f\"Distribution of gene correlation values in chromosome {chromosome}\"\n",
    "    )"
   ]
  },
  {
   "cell_type": "markdown",
   "id": "cbd52bca-d878-4a2f-b684-5c83aa3038d4",
   "metadata": {
    "papermill": {
     "duration": 0.725444,
     "end_time": "2022-06-17T05:24:18.168286",
     "exception": false,
     "start_time": "2022-06-17T05:24:17.442842",
     "status": "completed"
    },
    "tags": []
   },
   "source": [
    "## Plot: heatmap"
   ]
  },
  {
   "cell_type": "code",
   "execution_count": 38,
   "id": "d03fe63a-c7b2-4fb9-a53c-db362ce843c9",
   "metadata": {
    "execution": {
     "iopub.execute_input": "2022-06-17T05:24:19.535369Z",
     "iopub.status.busy": "2022-06-17T05:24:19.534788Z",
     "iopub.status.idle": "2022-06-17T05:24:19.554088Z",
     "shell.execute_reply": "2022-06-17T05:24:19.553456Z"
    },
    "papermill": {
     "duration": 0.67655,
     "end_time": "2022-06-17T05:24:19.555566",
     "exception": false,
     "start_time": "2022-06-17T05:24:18.879016",
     "status": "completed"
    },
    "tags": []
   },
   "outputs": [
    {
     "data": {
      "text/plain": [
       "'-0.05 / 0.05'"
      ]
     },
     "metadata": {},
     "output_type": "display_data"
    }
   ],
   "source": [
    "vmin_val = min(-0.05, gene_corrs_quantiles[0.10])\n",
    "vmax_val = max(0.05, gene_corrs_quantiles[0.90])\n",
    "display(f\"{vmin_val} / {vmax_val}\")"
   ]
  },
  {
   "cell_type": "code",
   "execution_count": 39,
   "id": "dc41b70b-5bcc-4d9e-9f33-a22c4a94dab5",
   "metadata": {
    "execution": {
     "iopub.execute_input": "2022-06-17T05:24:20.912518Z",
     "iopub.status.busy": "2022-06-17T05:24:20.912161Z",
     "iopub.status.idle": "2022-06-17T05:24:21.094910Z",
     "shell.execute_reply": "2022-06-17T05:24:21.094257Z"
    },
    "papermill": {
     "duration": 0.838776,
     "end_time": "2022-06-17T05:24:21.096366",
     "exception": false,
     "start_time": "2022-06-17T05:24:20.257590",
     "status": "completed"
    },
    "tags": []
   },
   "outputs": [
    {
     "data": {
      "text/plain": [
       "Text(0.5, 1.0, 'Gene correlations in chromosome 22')"
      ]
     },
     "execution_count": 39,
     "metadata": {},
     "output_type": "execute_result"
    },
    {
     "data": {
      "image/png": "[encoded data removed]",
      "text/plain": [
       "<Figure size 720x720 with 2 Axes>"
      ]
     },
     "metadata": {
      "needs_background": "light"
     },
     "output_type": "display_data"
    }
   ],
   "source": [
    "f, ax = plt.subplots(figsize=(10, 10))\n",
    "sns.heatmap(\n",
    "    gene_corrs_df,\n",
    "    xticklabels=False,\n",
    "    yticklabels=False,\n",
    "    square=True,\n",
    "    vmin=vmin_val,\n",
    "    vmax=vmax_val,\n",
    "    cmap=\"YlGnBu\",\n",
    "    ax=ax,\n",
    ")\n",
    "ax.set_title(f\"Gene correlations in chromosome {chromosome}\")"
   ]
  },
  {
   "cell_type": "code",
   "execution_count": null,
   "id": "b25e3ead",
   "metadata": {
    "papermill": {
     "duration": 0.654553,
     "end_time": "2022-06-17T05:24:22.474959",
     "exception": false,
     "start_time": "2022-06-17T05:24:21.820406",
     "status": "completed"
    },
    "tags": []
   },
   "outputs": [],
   "source": []
  }
 ],
 "metadata": {
  "jupytext": {
   "cell_metadata_filter": "all,-execution,-papermill,-trusted",
   "formats": "ipynb,py//py:percent"
  },
  "kernelspec": {
   "display_name": "Python 3 (ipykernel)",
   "language": "python",
   "name": "python3"
  },
  "language_info": {
   "codemirror_mode": {
    "name": "ipython",
    "version": 3
   },
   "file_extension": ".py",
   "mimetype": "text/x-python",
   "name": "python",
   "nbconvert_exporter": "python",
   "pygments_lexer": "ipython3",
   "version": "3.8.13"
  },
  "papermill": {
   "default_parameters": {},
   "duration": 10905.432007,
   "end_time": "2022-06-17T05:24:26.768238",
   "environment_variables": {},
   "exception": null,
   "input_path": "nbs/15_gsa_gls/10-gene_expr_correlations.ipynb",
   "output_path": "nbs/15_gsa_gls/gene_corrs/gtex_v8/mashr/10-gene_expr_correlations-chr22.run.ipynb",
   "parameters": {
    "EQTL_MODEL": "MASHR",
    "REFERENCE_PANEL": "GTEX_V8",
    "chromosome": 22
   },
   "start_time": "2022-06-17T02:22:41.336231",
   "version": "2.2.2"
  }
 },
 "nbformat": 4,
 "nbformat_minor": 5
}
