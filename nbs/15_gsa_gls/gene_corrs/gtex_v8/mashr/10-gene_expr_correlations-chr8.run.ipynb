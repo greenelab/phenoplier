{
 "cells": [
  {
   "cell_type": "markdown",
   "id": "7a6632fb",
   "metadata": {
    "papermill": {
     "duration": 0.006032,
     "end_time": "2022-06-16T06:32:28.163507",
     "exception": false,
     "start_time": "2022-06-16T06:32:28.157475",
     "status": "completed"
    },
    "tags": []
   },
   "source": [
    "# Description"
   ]
  },
  {
   "cell_type": "markdown",
   "id": "7097c346",
   "metadata": {
    "papermill": {
     "duration": 0.005243,
     "end_time": "2022-06-16T06:32:28.174202",
     "exception": false,
     "start_time": "2022-06-16T06:32:28.168959",
     "status": "completed"
    },
    "tags": []
   },
   "source": [
    "(Please, take a look at the README.md file in this directory for instructions on how to run this notebook)\n",
    "\n",
    "This notebook computes predicted expression correlations between all genes in the MultiPLIER models.\n",
    "\n",
    "It also has a parameter set for papermill to run on a single chromosome to run in parallel (see under `Settings` below).\n",
    "\n",
    "This notebook is not directly run. See README.md."
   ]
  },
  {
   "cell_type": "markdown",
   "id": "c61d8427",
   "metadata": {
    "papermill": {
     "duration": 0.005433,
     "end_time": "2022-06-16T06:32:28.185050",
     "exception": false,
     "start_time": "2022-06-16T06:32:28.179617",
     "status": "completed"
    },
    "tags": []
   },
   "source": [
    "# Modules"
   ]
  },
  {
   "cell_type": "code",
   "execution_count": 1,
   "id": "bbc0234f",
   "metadata": {
    "execution": {
     "iopub.execute_input": "2022-06-16T06:32:28.197285Z",
     "iopub.status.busy": "2022-06-16T06:32:28.197076Z",
     "iopub.status.idle": "2022-06-16T06:32:28.212903Z",
     "shell.execute_reply": "2022-06-16T06:32:28.212304Z"
    },
    "papermill": {
     "duration": 0.02388,
     "end_time": "2022-06-16T06:32:28.214574",
     "exception": false,
     "start_time": "2022-06-16T06:32:28.190694",
     "status": "completed"
    },
    "tags": []
   },
   "outputs": [],
   "source": [
    "%load_ext autoreload\n",
    "%autoreload 2"
   ]
  },
  {
   "cell_type": "code",
   "execution_count": 2,
   "id": "1d5f5a59",
   "metadata": {
    "execution": {
     "iopub.execute_input": "2022-06-16T06:32:28.228147Z",
     "iopub.status.busy": "2022-06-16T06:32:28.227641Z",
     "iopub.status.idle": "2022-06-16T06:32:29.246256Z",
     "shell.execute_reply": "2022-06-16T06:32:29.245621Z"
    },
    "papermill": {
     "duration": 1.027244,
     "end_time": "2022-06-16T06:32:29.247861",
     "exception": false,
     "start_time": "2022-06-16T06:32:28.220617",
     "status": "completed"
    },
    "tags": []
   },
   "outputs": [],
   "source": [
    "from random import sample\n",
    "import warnings\n",
    "\n",
    "import numpy as np\n",
    "from scipy.spatial.distance import squareform\n",
    "import pandas as pd\n",
    "from tqdm import tqdm\n",
    "import matplotlib.pyplot as plt\n",
    "import seaborn as sns\n",
    "\n",
    "import conf\n",
    "from entity import Gene"
   ]
  },
  {
   "cell_type": "markdown",
   "id": "1eac24b5",
   "metadata": {
    "papermill": {
     "duration": 0.006337,
     "end_time": "2022-06-16T06:32:29.290668",
     "exception": false,
     "start_time": "2022-06-16T06:32:29.284331",
     "status": "completed"
    },
    "tags": []
   },
   "source": [
    "# Settings"
   ]
  },
  {
   "cell_type": "code",
   "execution_count": 3,
   "id": "ca4560ba",
   "metadata": {
    "execution": {
     "iopub.execute_input": "2022-06-16T06:32:29.304985Z",
     "iopub.status.busy": "2022-06-16T06:32:29.304451Z",
     "iopub.status.idle": "2022-06-16T06:32:29.321800Z",
     "shell.execute_reply": "2022-06-16T06:32:29.321184Z"
    },
    "papermill": {
     "duration": 0.026168,
     "end_time": "2022-06-16T06:32:29.323298",
     "exception": false,
     "start_time": "2022-06-16T06:32:29.297130",
     "status": "completed"
    },
    "tags": [
     "parameters"
    ]
   },
   "outputs": [],
   "source": [
    "# reference panel\n",
    "REFERENCE_PANEL = \"GTEX_V8\"\n",
    "# REFERENCE_PANEL = \"1000G\"\n",
    "\n",
    "# prediction models\n",
    "## mashr\n",
    "EQTL_MODEL = \"MASHR\"\n",
    "EQTL_MODEL_FILES_PREFIX = \"mashr_\"\n",
    "\n",
    "# ## elastic net\n",
    "# EQTL_MODEL = \"ELASTIC_NET\"\n",
    "# EQTL_MODEL_FILES_PREFIX = \"en_\"\n",
    "\n",
    "# make it read the prefix from conf.py\n",
    "EQTL_MODEL_FILES_PREFIX = None\n",
    "\n",
    "# this is the default value used in S-MultiXcan to select the\n",
    "# top principal components of the expression correlation matrix\n",
    "SMULTIXCAN_CONDITION_NUMBER = 30\n",
    "\n",
    "# specifies a single chromosome value\n",
    "# by default, run on all chromosomes\n",
    "chromosome = None"
   ]
  },
  {
   "cell_type": "code",
   "execution_count": 4,
   "id": "77e43637",
   "metadata": {
    "execution": {
     "iopub.execute_input": "2022-06-16T06:32:29.337738Z",
     "iopub.status.busy": "2022-06-16T06:32:29.337325Z",
     "iopub.status.idle": "2022-06-16T06:32:29.354281Z",
     "shell.execute_reply": "2022-06-16T06:32:29.353649Z"
    },
    "papermill": {
     "duration": 0.025921,
     "end_time": "2022-06-16T06:32:29.356039",
     "exception": false,
     "start_time": "2022-06-16T06:32:29.330118",
     "status": "completed"
    },
    "tags": [
     "injected-parameters"
    ]
   },
   "outputs": [],
   "source": [
    "# Parameters\n",
    "chromosome = 8\n",
    "REFERENCE_PANEL = \"GTEX_V8\"\n",
    "EQTL_MODEL = \"MASHR\"\n"
   ]
  },
  {
   "cell_type": "code",
   "execution_count": 5,
   "id": "a089c9ff",
   "metadata": {
    "execution": {
     "iopub.execute_input": "2022-06-16T06:32:29.370091Z",
     "iopub.status.busy": "2022-06-16T06:32:29.369551Z",
     "iopub.status.idle": "2022-06-16T06:32:29.386127Z",
     "shell.execute_reply": "2022-06-16T06:32:29.385517Z"
    },
    "papermill": {
     "duration": 0.025406,
     "end_time": "2022-06-16T06:32:29.387901",
     "exception": false,
     "start_time": "2022-06-16T06:32:29.362495",
     "status": "completed"
    },
    "tags": []
   },
   "outputs": [],
   "source": [
    "if EQTL_MODEL_FILES_PREFIX is None:\n",
    "    EQTL_MODEL_FILES_PREFIX = conf.PHENOMEXCAN[\"PREDICTION_MODELS\"][\n",
    "        f\"{EQTL_MODEL}_PREFIX\"\n",
    "    ]"
   ]
  },
  {
   "cell_type": "code",
   "execution_count": 6,
   "id": "8fe24bef",
   "metadata": {
    "execution": {
     "iopub.execute_input": "2022-06-16T06:32:29.401242Z",
     "iopub.status.busy": "2022-06-16T06:32:29.401029Z",
     "iopub.status.idle": "2022-06-16T06:32:29.421161Z",
     "shell.execute_reply": "2022-06-16T06:32:29.420552Z"
    },
    "papermill": {
     "duration": 0.028572,
     "end_time": "2022-06-16T06:32:29.422742",
     "exception": false,
     "start_time": "2022-06-16T06:32:29.394170",
     "status": "completed"
    },
    "tags": []
   },
   "outputs": [
    {
     "data": {
      "text/plain": [
       "'Using eQTL model: MASHR / mashr_'"
      ]
     },
     "metadata": {},
     "output_type": "display_data"
    }
   ],
   "source": [
    "display(f\"Using eQTL model: {EQTL_MODEL} / {EQTL_MODEL_FILES_PREFIX}\")"
   ]
  },
  {
   "cell_type": "code",
   "execution_count": 7,
   "id": "0230ebcb-2c32-4b95-9292-d9a52038e70d",
   "metadata": {
    "execution": {
     "iopub.execute_input": "2022-06-16T06:32:29.436839Z",
     "iopub.status.busy": "2022-06-16T06:32:29.436267Z",
     "iopub.status.idle": "2022-06-16T06:32:29.452548Z",
     "shell.execute_reply": "2022-06-16T06:32:29.451952Z"
    },
    "papermill": {
     "duration": 0.024911,
     "end_time": "2022-06-16T06:32:29.454088",
     "exception": false,
     "start_time": "2022-06-16T06:32:29.429177",
     "status": "completed"
    },
    "tags": []
   },
   "outputs": [],
   "source": [
    "REFERENCE_PANEL_DIR = conf.PHENOMEXCAN[\"LD_BLOCKS\"][f\"{REFERENCE_PANEL}_GENOTYPE_DIR\"]"
   ]
  },
  {
   "cell_type": "code",
   "execution_count": 8,
   "id": "98c4a159-601d-4a22-a1ab-35bd451c25f9",
   "metadata": {
    "execution": {
     "iopub.execute_input": "2022-06-16T06:32:29.468215Z",
     "iopub.status.busy": "2022-06-16T06:32:29.467741Z",
     "iopub.status.idle": "2022-06-16T06:32:29.485785Z",
     "shell.execute_reply": "2022-06-16T06:32:29.485181Z"
    },
    "papermill": {
     "duration": 0.026689,
     "end_time": "2022-06-16T06:32:29.487336",
     "exception": false,
     "start_time": "2022-06-16T06:32:29.460647",
     "status": "completed"
    },
    "tags": []
   },
   "outputs": [
    {
     "data": {
      "text/plain": [
       "'Using reference panel folder: /opt/data/data/phenomexcan/ld_blocks/reference_panel_gtex_v8'"
      ]
     },
     "metadata": {},
     "output_type": "display_data"
    }
   ],
   "source": [
    "display(f\"Using reference panel folder: {str(REFERENCE_PANEL_DIR)}\")"
   ]
  },
  {
   "cell_type": "code",
   "execution_count": 9,
   "id": "396392dc-0340-4540-9b02-e182b833f909",
   "metadata": {
    "execution": {
     "iopub.execute_input": "2022-06-16T06:32:29.501763Z",
     "iopub.status.busy": "2022-06-16T06:32:29.501574Z",
     "iopub.status.idle": "2022-06-16T06:32:29.518325Z",
     "shell.execute_reply": "2022-06-16T06:32:29.517690Z"
    },
    "papermill": {
     "duration": 0.025824,
     "end_time": "2022-06-16T06:32:29.520147",
     "exception": false,
     "start_time": "2022-06-16T06:32:29.494323",
     "status": "completed"
    },
    "tags": []
   },
   "outputs": [],
   "source": [
    "OUTPUT_DIR_BASE = (\n",
    "    conf.PHENOMEXCAN[\"LD_BLOCKS\"][f\"GENE_CORRS_DIR\"]\n",
    "    / REFERENCE_PANEL.lower()\n",
    "    / EQTL_MODEL.lower()\n",
    ")\n",
    "OUTPUT_DIR_BASE.mkdir(parents=True, exist_ok=True)"
   ]
  },
  {
   "cell_type": "code",
   "execution_count": 10,
   "id": "8942c2d3-e53c-4d63-a0eb-b6fce0574d36",
   "metadata": {
    "execution": {
     "iopub.execute_input": "2022-06-16T06:32:29.533985Z",
     "iopub.status.busy": "2022-06-16T06:32:29.533800Z",
     "iopub.status.idle": "2022-06-16T06:32:29.551913Z",
     "shell.execute_reply": "2022-06-16T06:32:29.551300Z"
    },
    "papermill": {
     "duration": 0.02689,
     "end_time": "2022-06-16T06:32:29.553586",
     "exception": false,
     "start_time": "2022-06-16T06:32:29.526696",
     "status": "completed"
    },
    "tags": []
   },
   "outputs": [
    {
     "data": {
      "text/plain": [
       "'Using output dir base: /opt/data/data/phenomexcan/ld_blocks/gene_corrs/gtex_v8/mashr'"
      ]
     },
     "metadata": {},
     "output_type": "display_data"
    }
   ],
   "source": [
    "display(f\"Using output dir base: {OUTPUT_DIR_BASE}\")"
   ]
  },
  {
   "cell_type": "code",
   "execution_count": 11,
   "id": "408aa590",
   "metadata": {
    "execution": {
     "iopub.execute_input": "2022-06-16T06:32:29.568098Z",
     "iopub.status.busy": "2022-06-16T06:32:29.567507Z",
     "iopub.status.idle": "2022-06-16T06:32:29.583658Z",
     "shell.execute_reply": "2022-06-16T06:32:29.583041Z"
    },
    "papermill": {
     "duration": 0.024966,
     "end_time": "2022-06-16T06:32:29.585222",
     "exception": false,
     "start_time": "2022-06-16T06:32:29.560256",
     "status": "completed"
    },
    "tags": []
   },
   "outputs": [],
   "source": [
    "assert (\n",
    "    chromosome is not None\n",
    "), \"You have to select one chromosome (format: number between 1 and 22)\""
   ]
  },
  {
   "cell_type": "code",
   "execution_count": 12,
   "id": "c1c7dd06-80ff-453c-bcb7-0899edce75da",
   "metadata": {
    "execution": {
     "iopub.execute_input": "2022-06-16T06:32:29.599672Z",
     "iopub.status.busy": "2022-06-16T06:32:29.599138Z",
     "iopub.status.idle": "2022-06-16T06:32:29.615408Z",
     "shell.execute_reply": "2022-06-16T06:32:29.614775Z"
    },
    "papermill": {
     "duration": 0.024982,
     "end_time": "2022-06-16T06:32:29.616954",
     "exception": false,
     "start_time": "2022-06-16T06:32:29.591972",
     "status": "completed"
    },
    "tags": []
   },
   "outputs": [],
   "source": [
    "chromosome = str(chromosome)"
   ]
  },
  {
   "cell_type": "code",
   "execution_count": 13,
   "id": "bc17b84c-9c26-47a5-a3ab-7046e72f3ef4",
   "metadata": {
    "execution": {
     "iopub.execute_input": "2022-06-16T06:32:29.631525Z",
     "iopub.status.busy": "2022-06-16T06:32:29.630982Z",
     "iopub.status.idle": "2022-06-16T06:32:29.649095Z",
     "shell.execute_reply": "2022-06-16T06:32:29.648486Z"
    },
    "papermill": {
     "duration": 0.027028,
     "end_time": "2022-06-16T06:32:29.650711",
     "exception": false,
     "start_time": "2022-06-16T06:32:29.623683",
     "status": "completed"
    },
    "tags": []
   },
   "outputs": [
    {
     "data": {
      "text/plain": [
       "'Working on chromosome 8'"
      ]
     },
     "metadata": {},
     "output_type": "display_data"
    }
   ],
   "source": [
    "display(f\"Working on chromosome {chromosome}\")"
   ]
  },
  {
   "cell_type": "markdown",
   "id": "d2ba085e",
   "metadata": {
    "papermill": {
     "duration": 0.006551,
     "end_time": "2022-06-16T06:32:29.664148",
     "exception": false,
     "start_time": "2022-06-16T06:32:29.657597",
     "status": "completed"
    },
    "tags": []
   },
   "source": [
    "# Load data"
   ]
  },
  {
   "cell_type": "markdown",
   "id": "abcc4b3d",
   "metadata": {
    "papermill": {
     "duration": 0.006435,
     "end_time": "2022-06-16T06:32:29.677181",
     "exception": false,
     "start_time": "2022-06-16T06:32:29.670746",
     "status": "completed"
    },
    "tags": []
   },
   "source": [
    "## MultiPLIER Z"
   ]
  },
  {
   "cell_type": "code",
   "execution_count": 14,
   "id": "c48ef527",
   "metadata": {
    "execution": {
     "iopub.execute_input": "2022-06-16T06:32:29.691618Z",
     "iopub.status.busy": "2022-06-16T06:32:29.691117Z",
     "iopub.status.idle": "2022-06-16T06:32:29.735694Z",
     "shell.execute_reply": "2022-06-16T06:32:29.735095Z"
    },
    "papermill": {
     "duration": 0.053502,
     "end_time": "2022-06-16T06:32:29.737318",
     "exception": false,
     "start_time": "2022-06-16T06:32:29.683816",
     "status": "completed"
    },
    "tags": []
   },
   "outputs": [],
   "source": [
    "multiplier_z_genes = pd.read_pickle(\n",
    "    conf.MULTIPLIER[\"MODEL_Z_MATRIX_FILE\"]\n",
    ").index.tolist()"
   ]
  },
  {
   "cell_type": "code",
   "execution_count": 15,
   "id": "0a4ecbd9",
   "metadata": {
    "execution": {
     "iopub.execute_input": "2022-06-16T06:32:29.752466Z",
     "iopub.status.busy": "2022-06-16T06:32:29.752269Z",
     "iopub.status.idle": "2022-06-16T06:32:29.771000Z",
     "shell.execute_reply": "2022-06-16T06:32:29.770387Z"
    },
    "papermill": {
     "duration": 0.028133,
     "end_time": "2022-06-16T06:32:29.772590",
     "exception": false,
     "start_time": "2022-06-16T06:32:29.744457",
     "status": "completed"
    },
    "tags": []
   },
   "outputs": [
    {
     "data": {
      "text/plain": [
       "6750"
      ]
     },
     "execution_count": 15,
     "metadata": {},
     "output_type": "execute_result"
    }
   ],
   "source": [
    "len(multiplier_z_genes)"
   ]
  },
  {
   "cell_type": "code",
   "execution_count": 16,
   "id": "115e8864",
   "metadata": {
    "execution": {
     "iopub.execute_input": "2022-06-16T06:32:29.788195Z",
     "iopub.status.busy": "2022-06-16T06:32:29.787595Z",
     "iopub.status.idle": "2022-06-16T06:32:29.806314Z",
     "shell.execute_reply": "2022-06-16T06:32:29.805690Z"
    },
    "papermill": {
     "duration": 0.028133,
     "end_time": "2022-06-16T06:32:29.807935",
     "exception": false,
     "start_time": "2022-06-16T06:32:29.779802",
     "status": "completed"
    },
    "tags": []
   },
   "outputs": [
    {
     "data": {
      "text/plain": [
       "['GAS6',\n",
       " 'MMP14',\n",
       " 'DSP',\n",
       " 'MARCKSL1',\n",
       " 'SPARC',\n",
       " 'CTSD',\n",
       " 'EPAS1',\n",
       " 'PALLD',\n",
       " 'PHC2',\n",
       " 'LGALS3BP']"
      ]
     },
     "execution_count": 16,
     "metadata": {},
     "output_type": "execute_result"
    }
   ],
   "source": [
    "multiplier_z_genes[:10]"
   ]
  },
  {
   "cell_type": "markdown",
   "id": "7dcb8db7",
   "metadata": {
    "papermill": {
     "duration": 0.006914,
     "end_time": "2022-06-16T06:32:29.822105",
     "exception": false,
     "start_time": "2022-06-16T06:32:29.815191",
     "status": "completed"
    },
    "tags": []
   },
   "source": [
    "## Get gene objects"
   ]
  },
  {
   "cell_type": "code",
   "execution_count": 17,
   "id": "bb932812",
   "metadata": {
    "execution": {
     "iopub.execute_input": "2022-06-16T06:32:29.837040Z",
     "iopub.status.busy": "2022-06-16T06:32:29.836537Z",
     "iopub.status.idle": "2022-06-16T06:32:29.860090Z",
     "shell.execute_reply": "2022-06-16T06:32:29.859486Z"
    },
    "papermill": {
     "duration": 0.032857,
     "end_time": "2022-06-16T06:32:29.861816",
     "exception": false,
     "start_time": "2022-06-16T06:32:29.828959",
     "status": "completed"
    },
    "tags": []
   },
   "outputs": [],
   "source": [
    "multiplier_gene_obj = {\n",
    "    gene_name: Gene(name=gene_name)\n",
    "    for gene_name in multiplier_z_genes\n",
    "    if gene_name in Gene.GENE_NAME_TO_ID_MAP\n",
    "}"
   ]
  },
  {
   "cell_type": "code",
   "execution_count": 18,
   "id": "39533214",
   "metadata": {
    "execution": {
     "iopub.execute_input": "2022-06-16T06:32:29.877228Z",
     "iopub.status.busy": "2022-06-16T06:32:29.876622Z",
     "iopub.status.idle": "2022-06-16T06:32:29.894668Z",
     "shell.execute_reply": "2022-06-16T06:32:29.894055Z"
    },
    "papermill": {
     "duration": 0.027362,
     "end_time": "2022-06-16T06:32:29.896294",
     "exception": false,
     "start_time": "2022-06-16T06:32:29.868932",
     "status": "completed"
    },
    "tags": []
   },
   "outputs": [
    {
     "data": {
      "text/plain": [
       "6454"
      ]
     },
     "execution_count": 18,
     "metadata": {},
     "output_type": "execute_result"
    }
   ],
   "source": [
    "len(multiplier_gene_obj)"
   ]
  },
  {
   "cell_type": "code",
   "execution_count": 19,
   "id": "9a5d0b84",
   "metadata": {
    "execution": {
     "iopub.execute_input": "2022-06-16T06:32:29.911805Z",
     "iopub.status.busy": "2022-06-16T06:32:29.911444Z",
     "iopub.status.idle": "2022-06-16T06:32:29.929721Z",
     "shell.execute_reply": "2022-06-16T06:32:29.929115Z"
    },
    "papermill": {
     "duration": 0.027618,
     "end_time": "2022-06-16T06:32:29.931218",
     "exception": false,
     "start_time": "2022-06-16T06:32:29.903600",
     "status": "completed"
    },
    "tags": []
   },
   "outputs": [
    {
     "data": {
      "text/plain": [
       "'ENSG00000183087'"
      ]
     },
     "execution_count": 19,
     "metadata": {},
     "output_type": "execute_result"
    }
   ],
   "source": [
    "multiplier_gene_obj[\"GAS6\"].ensembl_id"
   ]
  },
  {
   "cell_type": "code",
   "execution_count": 20,
   "id": "e3ffabc7",
   "metadata": {
    "execution": {
     "iopub.execute_input": "2022-06-16T06:32:29.947009Z",
     "iopub.status.busy": "2022-06-16T06:32:29.946475Z",
     "iopub.status.idle": "2022-06-16T06:32:32.182141Z",
     "shell.execute_reply": "2022-06-16T06:32:32.181549Z"
    },
    "papermill": {
     "duration": 2.245038,
     "end_time": "2022-06-16T06:32:32.183609",
     "exception": false,
     "start_time": "2022-06-16T06:32:29.938571",
     "status": "completed"
    },
    "tags": []
   },
   "outputs": [],
   "source": [
    "_gene_obj = list(multiplier_gene_obj.values())\n",
    "\n",
    "genes_info = pd.DataFrame(\n",
    "    {\n",
    "        \"name\": [g.name for g in _gene_obj],\n",
    "        \"id\": [g.ensembl_id for g in _gene_obj],\n",
    "        \"chr\": [g.chromosome for g in _gene_obj],\n",
    "        \"band\": [g.band for g in _gene_obj],\n",
    "        \"start_position\": [g.get_attribute(\"start_position\") for g in _gene_obj],\n",
    "    }\n",
    ")"
   ]
  },
  {
   "cell_type": "code",
   "execution_count": 21,
   "id": "e23519b8",
   "metadata": {
    "execution": {
     "iopub.execute_input": "2022-06-16T06:32:32.198408Z",
     "iopub.status.busy": "2022-06-16T06:32:32.198223Z",
     "iopub.status.idle": "2022-06-16T06:32:32.215983Z",
     "shell.execute_reply": "2022-06-16T06:32:32.215369Z"
    },
    "papermill": {
     "duration": 0.026872,
     "end_time": "2022-06-16T06:32:32.217493",
     "exception": false,
     "start_time": "2022-06-16T06:32:32.190621",
     "status": "completed"
    },
    "tags": []
   },
   "outputs": [
    {
     "data": {
      "text/plain": [
       "(6454, 5)"
      ]
     },
     "execution_count": 21,
     "metadata": {},
     "output_type": "execute_result"
    }
   ],
   "source": [
    "genes_info.shape"
   ]
  },
  {
   "cell_type": "code",
   "execution_count": 22,
   "id": "0d71881c",
   "metadata": {
    "execution": {
     "iopub.execute_input": "2022-06-16T06:32:32.232882Z",
     "iopub.status.busy": "2022-06-16T06:32:32.232698Z",
     "iopub.status.idle": "2022-06-16T06:32:32.256579Z",
     "shell.execute_reply": "2022-06-16T06:32:32.255956Z"
    },
    "papermill": {
     "duration": 0.033409,
     "end_time": "2022-06-16T06:32:32.258191",
     "exception": false,
     "start_time": "2022-06-16T06:32:32.224782",
     "status": "completed"
    },
    "tags": []
   },
   "outputs": [
    {
     "data": {
      "text/html": [
       "<div>\n",
       "<style scoped>\n",
       "    .dataframe tbody tr th:only-of-type {\n",
       "        vertical-align: middle;\n",
       "    }\n",
       "\n",
       "    .dataframe tbody tr th {\n",
       "        vertical-align: top;\n",
       "    }\n",
       "\n",
       "    .dataframe thead th {\n",
       "        text-align: right;\n",
       "    }\n",
       "</style>\n",
       "<table border=\"1\" class=\"dataframe\">\n",
       "  <thead>\n",
       "    <tr style=\"text-align: right;\">\n",
       "      <th></th>\n",
       "      <th>name</th>\n",
       "      <th>id</th>\n",
       "      <th>chr</th>\n",
       "      <th>band</th>\n",
       "      <th>start_position</th>\n",
       "    </tr>\n",
       "  </thead>\n",
       "  <tbody>\n",
       "    <tr>\n",
       "      <th>0</th>\n",
       "      <td>GAS6</td>\n",
       "      <td>ENSG00000183087</td>\n",
       "      <td>13</td>\n",
       "      <td>13q34</td>\n",
       "      <td>113820549.0</td>\n",
       "    </tr>\n",
       "    <tr>\n",
       "      <th>1</th>\n",
       "      <td>MMP14</td>\n",
       "      <td>ENSG00000157227</td>\n",
       "      <td>14</td>\n",
       "      <td>14q11.2</td>\n",
       "      <td>22836560.0</td>\n",
       "    </tr>\n",
       "    <tr>\n",
       "      <th>2</th>\n",
       "      <td>DSP</td>\n",
       "      <td>ENSG00000096696</td>\n",
       "      <td>6</td>\n",
       "      <td>6p24.3</td>\n",
       "      <td>7541617.0</td>\n",
       "    </tr>\n",
       "    <tr>\n",
       "      <th>3</th>\n",
       "      <td>MARCKSL1</td>\n",
       "      <td>ENSG00000175130</td>\n",
       "      <td>1</td>\n",
       "      <td>1p35.1</td>\n",
       "      <td>32333839.0</td>\n",
       "    </tr>\n",
       "    <tr>\n",
       "      <th>4</th>\n",
       "      <td>SPARC</td>\n",
       "      <td>ENSG00000113140</td>\n",
       "      <td>5</td>\n",
       "      <td>5q33.1</td>\n",
       "      <td>151661096.0</td>\n",
       "    </tr>\n",
       "  </tbody>\n",
       "</table>\n",
       "</div>"
      ],
      "text/plain": [
       "       name               id chr     band  start_position\n",
       "0      GAS6  ENSG00000183087  13    13q34     113820549.0\n",
       "1     MMP14  ENSG00000157227  14  14q11.2      22836560.0\n",
       "2       DSP  ENSG00000096696   6   6p24.3       7541617.0\n",
       "3  MARCKSL1  ENSG00000175130   1   1p35.1      32333839.0\n",
       "4     SPARC  ENSG00000113140   5   5q33.1     151661096.0"
      ]
     },
     "execution_count": 22,
     "metadata": {},
     "output_type": "execute_result"
    }
   ],
   "source": [
    "genes_info.head()"
   ]
  },
  {
   "cell_type": "markdown",
   "id": "8c9dbb4a",
   "metadata": {
    "papermill": {
     "duration": 0.007322,
     "end_time": "2022-06-16T06:32:32.273401",
     "exception": false,
     "start_time": "2022-06-16T06:32:32.266079",
     "status": "completed"
    },
    "tags": []
   },
   "source": [
    "## Get tissues names"
   ]
  },
  {
   "cell_type": "code",
   "execution_count": 23,
   "id": "2bc52419",
   "metadata": {
    "execution": {
     "iopub.execute_input": "2022-06-16T06:32:32.289363Z",
     "iopub.status.busy": "2022-06-16T06:32:32.288874Z",
     "iopub.status.idle": "2022-06-16T06:32:32.304803Z",
     "shell.execute_reply": "2022-06-16T06:32:32.304205Z"
    },
    "papermill": {
     "duration": 0.025544,
     "end_time": "2022-06-16T06:32:32.306325",
     "exception": false,
     "start_time": "2022-06-16T06:32:32.280781",
     "status": "completed"
    },
    "tags": []
   },
   "outputs": [],
   "source": [
    "tissues = conf.PHENOMEXCAN[\"PREDICTION_MODELS\"][f\"{EQTL_MODEL}_TISSUES\"].split(\" \")"
   ]
  },
  {
   "cell_type": "code",
   "execution_count": 24,
   "id": "64b293a1",
   "metadata": {
    "execution": {
     "iopub.execute_input": "2022-06-16T06:32:32.322487Z",
     "iopub.status.busy": "2022-06-16T06:32:32.321944Z",
     "iopub.status.idle": "2022-06-16T06:32:32.339551Z",
     "shell.execute_reply": "2022-06-16T06:32:32.339087Z"
    },
    "papermill": {
     "duration": 0.027159,
     "end_time": "2022-06-16T06:32:32.341039",
     "exception": false,
     "start_time": "2022-06-16T06:32:32.313880",
     "status": "completed"
    },
    "tags": []
   },
   "outputs": [
    {
     "data": {
      "text/plain": [
       "['Skin_Not_Sun_Exposed_Suprapubic',\n",
       " 'Cells_EBV-transformed_lymphocytes',\n",
       " 'Brain_Frontal_Cortex_BA9',\n",
       " 'Kidney_Cortex',\n",
       " 'Brain_Substantia_nigra']"
      ]
     },
     "execution_count": 24,
     "metadata": {},
     "output_type": "execute_result"
    }
   ],
   "source": [
    "tissues[:5]"
   ]
  },
  {
   "cell_type": "code",
   "execution_count": 25,
   "id": "48a7202a",
   "metadata": {
    "execution": {
     "iopub.execute_input": "2022-06-16T06:32:32.357009Z",
     "iopub.status.busy": "2022-06-16T06:32:32.356575Z",
     "iopub.status.idle": "2022-06-16T06:32:32.372689Z",
     "shell.execute_reply": "2022-06-16T06:32:32.372096Z"
    },
    "papermill": {
     "duration": 0.026074,
     "end_time": "2022-06-16T06:32:32.374327",
     "exception": false,
     "start_time": "2022-06-16T06:32:32.348253",
     "status": "completed"
    },
    "tags": []
   },
   "outputs": [],
   "source": [
    "assert len(tissues) == 49"
   ]
  },
  {
   "cell_type": "markdown",
   "id": "c8d1038f",
   "metadata": {
    "papermill": {
     "duration": 0.007365,
     "end_time": "2022-06-16T06:32:32.389470",
     "exception": false,
     "start_time": "2022-06-16T06:32:32.382105",
     "status": "completed"
    },
    "tags": []
   },
   "source": [
    "# Test"
   ]
  },
  {
   "cell_type": "code",
   "execution_count": 26,
   "id": "64993abf",
   "metadata": {
    "execution": {
     "iopub.execute_input": "2022-06-16T06:32:32.405599Z",
     "iopub.status.busy": "2022-06-16T06:32:32.405396Z",
     "iopub.status.idle": "2022-06-16T06:32:32.430142Z",
     "shell.execute_reply": "2022-06-16T06:32:32.429647Z"
    },
    "papermill": {
     "duration": 0.03454,
     "end_time": "2022-06-16T06:32:32.431643",
     "exception": false,
     "start_time": "2022-06-16T06:32:32.397103",
     "status": "completed"
    },
    "tags": []
   },
   "outputs": [
    {
     "data": {
      "text/html": [
       "<div>\n",
       "<style scoped>\n",
       "    .dataframe tbody tr th:only-of-type {\n",
       "        vertical-align: middle;\n",
       "    }\n",
       "\n",
       "    .dataframe tbody tr th {\n",
       "        vertical-align: top;\n",
       "    }\n",
       "\n",
       "    .dataframe thead th {\n",
       "        text-align: right;\n",
       "    }\n",
       "</style>\n",
       "<table border=\"1\" class=\"dataframe\">\n",
       "  <thead>\n",
       "    <tr style=\"text-align: right;\">\n",
       "      <th></th>\n",
       "      <th>name</th>\n",
       "      <th>id</th>\n",
       "      <th>chr</th>\n",
       "      <th>band</th>\n",
       "      <th>start_position</th>\n",
       "    </tr>\n",
       "  </thead>\n",
       "  <tbody>\n",
       "    <tr>\n",
       "      <th>34</th>\n",
       "      <td>TPD52</td>\n",
       "      <td>ENSG00000076554</td>\n",
       "      <td>8</td>\n",
       "      <td>8q21.13</td>\n",
       "      <td>80034745.0</td>\n",
       "    </tr>\n",
       "    <tr>\n",
       "      <th>56</th>\n",
       "      <td>ADAM9</td>\n",
       "      <td>ENSG00000168615</td>\n",
       "      <td>8</td>\n",
       "      <td>8p11.22</td>\n",
       "      <td>38996869.0</td>\n",
       "    </tr>\n",
       "    <tr>\n",
       "      <th>99</th>\n",
       "      <td>PSD3</td>\n",
       "      <td>ENSG00000156011</td>\n",
       "      <td>8</td>\n",
       "      <td>8p22</td>\n",
       "      <td>18527303.0</td>\n",
       "    </tr>\n",
       "    <tr>\n",
       "      <th>108</th>\n",
       "      <td>LPL</td>\n",
       "      <td>ENSG00000175445</td>\n",
       "      <td>8</td>\n",
       "      <td>8p21.3</td>\n",
       "      <td>19901717.0</td>\n",
       "    </tr>\n",
       "    <tr>\n",
       "      <th>231</th>\n",
       "      <td>MYOM2</td>\n",
       "      <td>ENSG00000036448</td>\n",
       "      <td>8</td>\n",
       "      <td>8p23.3</td>\n",
       "      <td>2045046.0</td>\n",
       "    </tr>\n",
       "    <tr>\n",
       "      <th>...</th>\n",
       "      <td>...</td>\n",
       "      <td>...</td>\n",
       "      <td>...</td>\n",
       "      <td>...</td>\n",
       "      <td>...</td>\n",
       "    </tr>\n",
       "    <tr>\n",
       "      <th>6280</th>\n",
       "      <td>CEBPD</td>\n",
       "      <td>ENSG00000221869</td>\n",
       "      <td>8</td>\n",
       "      <td>8q11.21</td>\n",
       "      <td>47736909.0</td>\n",
       "    </tr>\n",
       "    <tr>\n",
       "      <th>6301</th>\n",
       "      <td>TSNARE1</td>\n",
       "      <td>ENSG00000171045</td>\n",
       "      <td>8</td>\n",
       "      <td>8q24.3</td>\n",
       "      <td>142212080.0</td>\n",
       "    </tr>\n",
       "    <tr>\n",
       "      <th>6309</th>\n",
       "      <td>EXTL3</td>\n",
       "      <td>ENSG00000012232</td>\n",
       "      <td>8</td>\n",
       "      <td>8p21.1</td>\n",
       "      <td>28600469.0</td>\n",
       "    </tr>\n",
       "    <tr>\n",
       "      <th>6311</th>\n",
       "      <td>GPT</td>\n",
       "      <td>ENSG00000167701</td>\n",
       "      <td>8</td>\n",
       "      <td>8q24.3</td>\n",
       "      <td>144502973.0</td>\n",
       "    </tr>\n",
       "    <tr>\n",
       "      <th>6415</th>\n",
       "      <td>PLAT</td>\n",
       "      <td>ENSG00000104368</td>\n",
       "      <td>8</td>\n",
       "      <td>8p11.21</td>\n",
       "      <td>42175233.0</td>\n",
       "    </tr>\n",
       "  </tbody>\n",
       "</table>\n",
       "<p>222 rows × 5 columns</p>\n",
       "</div>"
      ],
      "text/plain": [
       "         name               id chr     band  start_position\n",
       "34      TPD52  ENSG00000076554   8  8q21.13      80034745.0\n",
       "56      ADAM9  ENSG00000168615   8  8p11.22      38996869.0\n",
       "99       PSD3  ENSG00000156011   8     8p22      18527303.0\n",
       "108       LPL  ENSG00000175445   8   8p21.3      19901717.0\n",
       "231     MYOM2  ENSG00000036448   8   8p23.3       2045046.0\n",
       "...       ...              ...  ..      ...             ...\n",
       "6280    CEBPD  ENSG00000221869   8  8q11.21      47736909.0\n",
       "6301  TSNARE1  ENSG00000171045   8   8q24.3     142212080.0\n",
       "6309    EXTL3  ENSG00000012232   8   8p21.1      28600469.0\n",
       "6311      GPT  ENSG00000167701   8   8q24.3     144502973.0\n",
       "6415     PLAT  ENSG00000104368   8  8p11.21      42175233.0\n",
       "\n",
       "[222 rows x 5 columns]"
      ]
     },
     "metadata": {},
     "output_type": "display_data"
    }
   ],
   "source": [
    "chromosome_genes_info = genes_info[genes_info[\"chr\"] == chromosome]\n",
    "display(chromosome_genes_info)"
   ]
  },
  {
   "cell_type": "code",
   "execution_count": 27,
   "id": "d2e42726-7de6-46eb-acfc-6323eaa8fae6",
   "metadata": {
    "execution": {
     "iopub.execute_input": "2022-06-16T06:32:32.449085Z",
     "iopub.status.busy": "2022-06-16T06:32:32.448585Z",
     "iopub.status.idle": "2022-06-16T06:32:32.466273Z",
     "shell.execute_reply": "2022-06-16T06:32:32.465645Z"
    },
    "papermill": {
     "duration": 0.028391,
     "end_time": "2022-06-16T06:32:32.468080",
     "exception": false,
     "start_time": "2022-06-16T06:32:32.439689",
     "status": "completed"
    },
    "tags": []
   },
   "outputs": [
    {
     "data": {
      "text/plain": [
       "5"
      ]
     },
     "metadata": {},
     "output_type": "display_data"
    }
   ],
   "source": [
    "_gene_list_ids = sample(chromosome_genes_info[\"id\"].tolist(), 5)\n",
    "selected_chromosome_genes_obj = [Gene(ensembl_id=g_id) for g_id in _gene_list_ids]\n",
    "display(len(selected_chromosome_genes_obj))"
   ]
  },
  {
   "cell_type": "code",
   "execution_count": 28,
   "id": "1b355359",
   "metadata": {
    "execution": {
     "iopub.execute_input": "2022-06-16T06:32:32.487783Z",
     "iopub.status.busy": "2022-06-16T06:32:32.487597Z",
     "iopub.status.idle": "2022-06-16T06:32:34.844981Z",
     "shell.execute_reply": "2022-06-16T06:32:34.844341Z"
    },
    "papermill": {
     "duration": 2.37009,
     "end_time": "2022-06-16T06:32:34.846440",
     "exception": false,
     "start_time": "2022-06-16T06:32:32.476350",
     "status": "completed"
    },
    "tags": []
   },
   "outputs": [
    {
     "name": "stdout",
     "output_type": "stream",
     "text": [
      "EBAG9 / SLC25A37: 0.0\n",
      "EBAG9 / ASAH1: 0.0\n",
      "EBAG9 / DOK2: 0.0\n",
      "EBAG9 / SQLE: 0.0\n",
      "SLC25A37 / ASAH1: 0.0\n",
      "SLC25A37 / DOK2: -0.021768887238603978\n",
      "SLC25A37 / SQLE: 0.0\n",
      "ASAH1 / DOK2: -0.0184271390739048\n",
      "ASAH1 / SQLE: 0.0\n",
      "DOK2 / SQLE: 0.0\n"
     ]
    }
   ],
   "source": [
    "for gene_idx1 in range(0, len(selected_chromosome_genes_obj) - 1):\n",
    "    gene_obj1 = selected_chromosome_genes_obj[gene_idx1]\n",
    "\n",
    "    for gene_idx2 in range(gene_idx1 + 1, len(selected_chromosome_genes_obj)):\n",
    "        gene_obj2 = selected_chromosome_genes_obj[gene_idx2]\n",
    "\n",
    "        c = gene_obj1.get_ssm_correlation(\n",
    "            gene_obj2,\n",
    "        )\n",
    "\n",
    "        print(f\"{gene_obj1.name} / {gene_obj2.name}: {c}\")"
   ]
  },
  {
   "cell_type": "markdown",
   "id": "d3843e06",
   "metadata": {
    "papermill": {
     "duration": 0.007874,
     "end_time": "2022-06-16T06:32:34.862477",
     "exception": false,
     "start_time": "2022-06-16T06:32:34.854603",
     "status": "completed"
    },
    "tags": []
   },
   "source": [
    "# Compute correlation per chromosome"
   ]
  },
  {
   "cell_type": "code",
   "execution_count": 29,
   "id": "aa674fe4-6794-4eed-98fa-32b39d1d4ace",
   "metadata": {
    "execution": {
     "iopub.execute_input": "2022-06-16T06:32:34.879615Z",
     "iopub.status.busy": "2022-06-16T06:32:34.879116Z",
     "iopub.status.idle": "2022-06-16T06:32:34.895695Z",
     "shell.execute_reply": "2022-06-16T06:32:34.895112Z"
    },
    "papermill": {
     "duration": 0.026699,
     "end_time": "2022-06-16T06:32:34.897210",
     "exception": false,
     "start_time": "2022-06-16T06:32:34.870511",
     "status": "completed"
    },
    "tags": []
   },
   "outputs": [],
   "source": [
    "warnings.filterwarnings(\"error\")"
   ]
  },
  {
   "cell_type": "code",
   "execution_count": 30,
   "id": "cdbb90a1",
   "metadata": {
    "execution": {
     "iopub.execute_input": "2022-06-16T06:32:34.914685Z",
     "iopub.status.busy": "2022-06-16T06:32:34.914129Z",
     "iopub.status.idle": "2022-06-16T08:05:18.163800Z",
     "shell.execute_reply": "2022-06-16T08:05:18.163300Z"
    },
    "papermill": {
     "duration": 5563.259989,
     "end_time": "2022-06-16T08:05:18.165252",
     "exception": false,
     "start_time": "2022-06-16T06:32:34.905263",
     "status": "completed"
    },
    "tags": []
   },
   "outputs": [
    {
     "name": "stdout",
     "output_type": "stream",
     "text": [
      "Number of genes in chromosome: 222\n",
      "Chromosome 8\n",
      "Number of gene combinations: 24531\n"
     ]
    },
    {
     "name": "stderr",
     "output_type": "stream",
     "text": [
      "ENSG00000197363 / ENSG00000196150: 100%|████████████████████| 24531/24531 [1:32:43<00:00,  4.41it/s]"
     ]
    },
    {
     "name": "stdout",
     "output_type": "stream",
     "text": [
      "Min/max values: -0.966268669686343 / 0.8976688849388577\n"
     ]
    },
    {
     "name": "stderr",
     "output_type": "stream",
     "text": [
      "\n"
     ]
    },
    {
     "data": {
      "text/plain": [
       "PosixPath('/opt/data/data/phenomexcan/ld_blocks/gene_corrs/gtex_v8/mashr/by_chr/gene_corrs-chr8.pkl')"
      ]
     },
     "metadata": {},
     "output_type": "display_data"
    }
   ],
   "source": [
    "# standard checks\n",
    "all_chrs = genes_info[\"chr\"].dropna().unique()\n",
    "assert all_chrs.shape[0] == 22\n",
    "\n",
    "# select chromosome given by the user\n",
    "assert chromosome in all_chrs\n",
    "\n",
    "# run only on the chromosome specified\n",
    "all_chrs = [chromosome]\n",
    "genes_chr = genes_info[genes_info[\"chr\"] == chromosome]\n",
    "print(f\"Number of genes in chromosome: {genes_chr.shape[0]}\", flush=True)\n",
    "\n",
    "# For testing purposes\n",
    "# genes_chr = genes_chr.sample(n=20)\n",
    "\n",
    "# sort genes by starting position to make visualizations better later\n",
    "genes_chr = genes_chr.sort_values(\"start_position\")\n",
    "\n",
    "\n",
    "for chr_num in all_chrs:\n",
    "    print(f\"Chromosome {chr_num}\", flush=True)\n",
    "\n",
    "    # check if results exist\n",
    "    output_dir = OUTPUT_DIR_BASE / \"by_chr\"\n",
    "    output_file = output_dir / f\"gene_corrs-chr{chr_num}.pkl\"\n",
    "\n",
    "    if output_file.exists():\n",
    "        _tmp_data = pd.read_pickle(output_file)\n",
    "\n",
    "        if _tmp_data.shape[0] > 0:\n",
    "            print(\"Already run, stopping.\")\n",
    "            continue\n",
    "\n",
    "    gene_chr_objs = [Gene(ensembl_id=gene_id) for gene_id in genes_chr[\"id\"]]\n",
    "    gene_chr_ids = [g.ensembl_id for g in gene_chr_objs]\n",
    "\n",
    "    n = len(gene_chr_objs)\n",
    "    n_comb = int(n * (n - 1) / 2.0)\n",
    "    print(f\"Number of gene combinations: {n_comb}\", flush=True)\n",
    "\n",
    "    gene_corrs = []\n",
    "\n",
    "    pbar = tqdm(ncols=100, total=n_comb)\n",
    "    i = 0\n",
    "    for gene_idx1 in range(0, len(gene_chr_objs) - 1):\n",
    "        gene_obj1 = gene_chr_objs[gene_idx1]\n",
    "\n",
    "        for gene_idx2 in range(gene_idx1 + 1, len(gene_chr_objs)):\n",
    "            gene_obj2 = gene_chr_objs[gene_idx2]\n",
    "\n",
    "            pbar.set_description(f\"{gene_obj1.ensembl_id} / {gene_obj2.ensembl_id}\")\n",
    "\n",
    "            try:\n",
    "                # FIXME: compute the correlation of the sum of squares of the model using all\n",
    "                # the available tissues; this could be problematic because for some results\n",
    "                # (computed on a specific phenotype/GWAS) we might not have all the tissues\n",
    "                # available, which can certainly bias the correlation estimation.\n",
    "                # Since this depends on the GWAS on a specific phenotype, we should ideally have\n",
    "                # one correlation matrix per GWAS. I should look at how we can improve this.\n",
    "                gene_corrs.append(\n",
    "                    gene_obj1.get_ssm_correlation(\n",
    "                        other_gene=gene_obj2,\n",
    "                        condition_number=SMULTIXCAN_CONDITION_NUMBER,\n",
    "                        reference_panel=REFERENCE_PANEL,\n",
    "                        model_type=EQTL_MODEL,\n",
    "                    )\n",
    "                )\n",
    "            except Warning:\n",
    "                print(\n",
    "                    f\"RuntimeWarning for genes {gene_obj1.ensembl_id} and {gene_obj2.ensembl_id}\",\n",
    "                    flush=True,\n",
    "                )\n",
    "                import traceback\n",
    "\n",
    "                print(traceback.format_exc(), flush=True)\n",
    "            except Exception as e:\n",
    "                print(\n",
    "                    f\"Exception for genes {gene_obj1.ensembl_id} and {gene_obj2.ensembl_id}\",\n",
    "                    flush=True,\n",
    "                )\n",
    "                import traceback\n",
    "\n",
    "                print(traceback.format_exc(), flush=True)\n",
    "                gene_corrs.append(np.nan)\n",
    "\n",
    "            pbar.update(1)\n",
    "\n",
    "    pbar.close()\n",
    "\n",
    "    # testing\n",
    "    gene_corrs_flat = pd.Series(gene_corrs)\n",
    "    print(f\"Min/max values: {gene_corrs_flat.min()} / {gene_corrs_flat.max()}\")\n",
    "    assert gene_corrs_flat.min() >= -1.001\n",
    "    assert gene_corrs_flat.max() <= 1.001\n",
    "\n",
    "    # save\n",
    "    # FIXME: consider saving only the condenced matrix here. See here for\n",
    "    # more details: https://github.com/greenelab/phenoplier/pull/38#discussion_r634600813\n",
    "    gene_corrs_data = squareform(np.array(gene_corrs, dtype=np.float64))\n",
    "    np.fill_diagonal(gene_corrs_data, 1.0)\n",
    "\n",
    "    gene_corrs_df = pd.DataFrame(\n",
    "        data=gene_corrs_data,\n",
    "        index=gene_chr_ids,\n",
    "        columns=gene_chr_ids,\n",
    "    )\n",
    "\n",
    "    output_dir.mkdir(exist_ok=True, parents=True)\n",
    "    display(output_file)\n",
    "\n",
    "    gene_corrs_df.to_pickle(output_file)"
   ]
  },
  {
   "cell_type": "markdown",
   "id": "faa67b51-5373-470f-aa72-2ded53fa6dfe",
   "metadata": {
    "papermill": {
     "duration": 1.029303,
     "end_time": "2022-06-16T08:05:20.294706",
     "exception": false,
     "start_time": "2022-06-16T08:05:19.265403",
     "status": "completed"
    },
    "tags": []
   },
   "source": [
    "# Testing"
   ]
  },
  {
   "cell_type": "code",
   "execution_count": 31,
   "id": "14f7d046-4b55-4896-a56b-990127bcc388",
   "metadata": {
    "execution": {
     "iopub.execute_input": "2022-06-16T08:05:22.346241Z",
     "iopub.status.busy": "2022-06-16T08:05:22.346050Z",
     "iopub.status.idle": "2022-06-16T08:05:22.363460Z",
     "shell.execute_reply": "2022-06-16T08:05:22.362932Z"
    },
    "papermill": {
     "duration": 1.109076,
     "end_time": "2022-06-16T08:05:22.364814",
     "exception": false,
     "start_time": "2022-06-16T08:05:21.255738",
     "status": "completed"
    },
    "tags": []
   },
   "outputs": [
    {
     "data": {
      "text/plain": [
       "(222, 222)"
      ]
     },
     "execution_count": 31,
     "metadata": {},
     "output_type": "execute_result"
    }
   ],
   "source": [
    "gene_corrs_df.shape"
   ]
  },
  {
   "cell_type": "code",
   "execution_count": 32,
   "id": "c7d15414-3297-4537-a7c6-7588c0baeb75",
   "metadata": {
    "execution": {
     "iopub.execute_input": "2022-06-16T08:05:24.362191Z",
     "iopub.status.busy": "2022-06-16T08:05:24.361994Z",
     "iopub.status.idle": "2022-06-16T08:05:24.396877Z",
     "shell.execute_reply": "2022-06-16T08:05:24.396247Z"
    },
    "papermill": {
     "duration": 1.00572,
     "end_time": "2022-06-16T08:05:24.398403",
     "exception": false,
     "start_time": "2022-06-16T08:05:23.392683",
     "status": "completed"
    },
    "tags": []
   },
   "outputs": [
    {
     "data": {
      "text/html": [
       "<div>\n",
       "<style scoped>\n",
       "    .dataframe tbody tr th:only-of-type {\n",
       "        vertical-align: middle;\n",
       "    }\n",
       "\n",
       "    .dataframe tbody tr th {\n",
       "        vertical-align: top;\n",
       "    }\n",
       "\n",
       "    .dataframe thead th {\n",
       "        text-align: right;\n",
       "    }\n",
       "</style>\n",
       "<table border=\"1\" class=\"dataframe\">\n",
       "  <thead>\n",
       "    <tr style=\"text-align: right;\">\n",
       "      <th></th>\n",
       "      <th>ENSG00000172748</th>\n",
       "      <th>ENSG00000182372</th>\n",
       "      <th>ENSG00000104728</th>\n",
       "      <th>ENSG00000036448</th>\n",
       "      <th>ENSG00000091879</th>\n",
       "      <th>ENSG00000155189</th>\n",
       "      <th>ENSG00000164821</th>\n",
       "      <th>ENSG00000253958</th>\n",
       "      <th>ENSG00000147324</th>\n",
       "      <th>ENSG00000173281</th>\n",
       "      <th>...</th>\n",
       "      <th>ENSG00000071894</th>\n",
       "      <th>ENSG00000147804</th>\n",
       "      <th>ENSG00000160948</th>\n",
       "      <th>ENSG00000160949</th>\n",
       "      <th>ENSG00000187954</th>\n",
       "      <th>ENSG00000160972</th>\n",
       "      <th>ENSG00000167701</th>\n",
       "      <th>ENSG00000161016</th>\n",
       "      <th>ENSG00000197363</th>\n",
       "      <th>ENSG00000196150</th>\n",
       "    </tr>\n",
       "  </thead>\n",
       "  <tbody>\n",
       "    <tr>\n",
       "      <th>ENSG00000172748</th>\n",
       "      <td>1.000000</td>\n",
       "      <td>0.029319</td>\n",
       "      <td>0.034726</td>\n",
       "      <td>-0.024391</td>\n",
       "      <td>0.000000</td>\n",
       "      <td>0.000000</td>\n",
       "      <td>0.000000</td>\n",
       "      <td>0.000000</td>\n",
       "      <td>0.000000</td>\n",
       "      <td>0.000000</td>\n",
       "      <td>...</td>\n",
       "      <td>0.0</td>\n",
       "      <td>0.0</td>\n",
       "      <td>0.0</td>\n",
       "      <td>0.0</td>\n",
       "      <td>0.0</td>\n",
       "      <td>0.0</td>\n",
       "      <td>0.0</td>\n",
       "      <td>0.0</td>\n",
       "      <td>0.0</td>\n",
       "      <td>0.0</td>\n",
       "    </tr>\n",
       "    <tr>\n",
       "      <th>ENSG00000182372</th>\n",
       "      <td>0.029319</td>\n",
       "      <td>1.000000</td>\n",
       "      <td>-0.068383</td>\n",
       "      <td>0.085344</td>\n",
       "      <td>-0.035249</td>\n",
       "      <td>-0.052863</td>\n",
       "      <td>0.000000</td>\n",
       "      <td>0.000000</td>\n",
       "      <td>0.000000</td>\n",
       "      <td>0.000000</td>\n",
       "      <td>...</td>\n",
       "      <td>0.0</td>\n",
       "      <td>0.0</td>\n",
       "      <td>0.0</td>\n",
       "      <td>0.0</td>\n",
       "      <td>0.0</td>\n",
       "      <td>0.0</td>\n",
       "      <td>0.0</td>\n",
       "      <td>0.0</td>\n",
       "      <td>0.0</td>\n",
       "      <td>0.0</td>\n",
       "    </tr>\n",
       "    <tr>\n",
       "      <th>ENSG00000104728</th>\n",
       "      <td>0.034726</td>\n",
       "      <td>-0.068383</td>\n",
       "      <td>1.000000</td>\n",
       "      <td>0.020556</td>\n",
       "      <td>-0.043105</td>\n",
       "      <td>0.077908</td>\n",
       "      <td>-0.020114</td>\n",
       "      <td>0.000000</td>\n",
       "      <td>0.000000</td>\n",
       "      <td>0.000000</td>\n",
       "      <td>...</td>\n",
       "      <td>0.0</td>\n",
       "      <td>0.0</td>\n",
       "      <td>0.0</td>\n",
       "      <td>0.0</td>\n",
       "      <td>0.0</td>\n",
       "      <td>0.0</td>\n",
       "      <td>0.0</td>\n",
       "      <td>0.0</td>\n",
       "      <td>0.0</td>\n",
       "      <td>0.0</td>\n",
       "    </tr>\n",
       "    <tr>\n",
       "      <th>ENSG00000036448</th>\n",
       "      <td>-0.024391</td>\n",
       "      <td>0.085344</td>\n",
       "      <td>0.020556</td>\n",
       "      <td>1.000000</td>\n",
       "      <td>-0.011939</td>\n",
       "      <td>0.037157</td>\n",
       "      <td>-0.058116</td>\n",
       "      <td>0.000000</td>\n",
       "      <td>0.000000</td>\n",
       "      <td>0.000000</td>\n",
       "      <td>...</td>\n",
       "      <td>0.0</td>\n",
       "      <td>0.0</td>\n",
       "      <td>0.0</td>\n",
       "      <td>0.0</td>\n",
       "      <td>0.0</td>\n",
       "      <td>0.0</td>\n",
       "      <td>0.0</td>\n",
       "      <td>0.0</td>\n",
       "      <td>0.0</td>\n",
       "      <td>0.0</td>\n",
       "    </tr>\n",
       "    <tr>\n",
       "      <th>ENSG00000091879</th>\n",
       "      <td>0.000000</td>\n",
       "      <td>-0.035249</td>\n",
       "      <td>-0.043105</td>\n",
       "      <td>-0.011939</td>\n",
       "      <td>1.000000</td>\n",
       "      <td>0.028636</td>\n",
       "      <td>0.020064</td>\n",
       "      <td>0.047421</td>\n",
       "      <td>-0.046483</td>\n",
       "      <td>0.021902</td>\n",
       "      <td>...</td>\n",
       "      <td>0.0</td>\n",
       "      <td>0.0</td>\n",
       "      <td>0.0</td>\n",
       "      <td>0.0</td>\n",
       "      <td>0.0</td>\n",
       "      <td>0.0</td>\n",
       "      <td>0.0</td>\n",
       "      <td>0.0</td>\n",
       "      <td>0.0</td>\n",
       "      <td>0.0</td>\n",
       "    </tr>\n",
       "  </tbody>\n",
       "</table>\n",
       "<p>5 rows × 222 columns</p>\n",
       "</div>"
      ],
      "text/plain": [
       "                 ENSG00000172748  ENSG00000182372  ENSG00000104728  \\\n",
       "ENSG00000172748         1.000000         0.029319         0.034726   \n",
       "ENSG00000182372         0.029319         1.000000        -0.068383   \n",
       "ENSG00000104728         0.034726        -0.068383         1.000000   \n",
       "ENSG00000036448        -0.024391         0.085344         0.020556   \n",
       "ENSG00000091879         0.000000        -0.035249        -0.043105   \n",
       "\n",
       "                 ENSG00000036448  ENSG00000091879  ENSG00000155189  \\\n",
       "ENSG00000172748        -0.024391         0.000000         0.000000   \n",
       "ENSG00000182372         0.085344        -0.035249        -0.052863   \n",
       "ENSG00000104728         0.020556        -0.043105         0.077908   \n",
       "ENSG00000036448         1.000000        -0.011939         0.037157   \n",
       "ENSG00000091879        -0.011939         1.000000         0.028636   \n",
       "\n",
       "                 ENSG00000164821  ENSG00000253958  ENSG00000147324  \\\n",
       "ENSG00000172748         0.000000         0.000000         0.000000   \n",
       "ENSG00000182372         0.000000         0.000000         0.000000   \n",
       "ENSG00000104728        -0.020114         0.000000         0.000000   \n",
       "ENSG00000036448        -0.058116         0.000000         0.000000   \n",
       "ENSG00000091879         0.020064         0.047421        -0.046483   \n",
       "\n",
       "                 ENSG00000173281  ...  ENSG00000071894  ENSG00000147804  \\\n",
       "ENSG00000172748         0.000000  ...              0.0              0.0   \n",
       "ENSG00000182372         0.000000  ...              0.0              0.0   \n",
       "ENSG00000104728         0.000000  ...              0.0              0.0   \n",
       "ENSG00000036448         0.000000  ...              0.0              0.0   \n",
       "ENSG00000091879         0.021902  ...              0.0              0.0   \n",
       "\n",
       "                 ENSG00000160948  ENSG00000160949  ENSG00000187954  \\\n",
       "ENSG00000172748              0.0              0.0              0.0   \n",
       "ENSG00000182372              0.0              0.0              0.0   \n",
       "ENSG00000104728              0.0              0.0              0.0   \n",
       "ENSG00000036448              0.0              0.0              0.0   \n",
       "ENSG00000091879              0.0              0.0              0.0   \n",
       "\n",
       "                 ENSG00000160972  ENSG00000167701  ENSG00000161016  \\\n",
       "ENSG00000172748              0.0              0.0              0.0   \n",
       "ENSG00000182372              0.0              0.0              0.0   \n",
       "ENSG00000104728              0.0              0.0              0.0   \n",
       "ENSG00000036448              0.0              0.0              0.0   \n",
       "ENSG00000091879              0.0              0.0              0.0   \n",
       "\n",
       "                 ENSG00000197363  ENSG00000196150  \n",
       "ENSG00000172748              0.0              0.0  \n",
       "ENSG00000182372              0.0              0.0  \n",
       "ENSG00000104728              0.0              0.0  \n",
       "ENSG00000036448              0.0              0.0  \n",
       "ENSG00000091879              0.0              0.0  \n",
       "\n",
       "[5 rows x 222 columns]"
      ]
     },
     "execution_count": 32,
     "metadata": {},
     "output_type": "execute_result"
    }
   ],
   "source": [
    "gene_corrs_df.head()"
   ]
  },
  {
   "cell_type": "code",
   "execution_count": 33,
   "id": "00583efc-7068-4270-ad1e-4a418e91db96",
   "metadata": {
    "execution": {
     "iopub.execute_input": "2022-06-16T08:05:26.511253Z",
     "iopub.status.busy": "2022-06-16T08:05:26.511061Z",
     "iopub.status.idle": "2022-06-16T08:05:26.531033Z",
     "shell.execute_reply": "2022-06-16T08:05:26.530425Z"
    },
    "papermill": {
     "duration": 1.035079,
     "end_time": "2022-06-16T08:05:26.532398",
     "exception": false,
     "start_time": "2022-06-16T08:05:25.497319",
     "status": "completed"
    },
    "tags": []
   },
   "outputs": [
    {
     "data": {
      "text/plain": [
       "-0.966268669686343"
      ]
     },
     "metadata": {},
     "output_type": "display_data"
    }
   ],
   "source": [
    "_min_val = gene_corrs_df.min().min()\n",
    "display(_min_val)\n",
    "assert _min_val >= -1.0"
   ]
  },
  {
   "cell_type": "code",
   "execution_count": 34,
   "id": "d04fb2cf-1050-475b-b855-f5f7cc04092b",
   "metadata": {
    "execution": {
     "iopub.execute_input": "2022-06-16T08:05:28.551844Z",
     "iopub.status.busy": "2022-06-16T08:05:28.551646Z",
     "iopub.status.idle": "2022-06-16T08:05:28.572040Z",
     "shell.execute_reply": "2022-06-16T08:05:28.571433Z"
    },
    "papermill": {
     "duration": 1.069107,
     "end_time": "2022-06-16T08:05:28.573550",
     "exception": false,
     "start_time": "2022-06-16T08:05:27.504443",
     "status": "completed"
    },
    "tags": []
   },
   "outputs": [
    {
     "data": {
      "text/plain": [
       "1.0"
      ]
     },
     "metadata": {},
     "output_type": "display_data"
    }
   ],
   "source": [
    "_max_val = gene_corrs_df.max().max()  # this captures the diagonal\n",
    "display(_max_val)\n",
    "assert _max_val <= 1.0"
   ]
  },
  {
   "cell_type": "code",
   "execution_count": 35,
   "id": "96d02c44-1fba-47be-8a93-8f2608420b9c",
   "metadata": {
    "execution": {
     "iopub.execute_input": "2022-06-16T08:05:30.531938Z",
     "iopub.status.busy": "2022-06-16T08:05:30.531484Z",
     "iopub.status.idle": "2022-06-16T08:05:30.550506Z",
     "shell.execute_reply": "2022-06-16T08:05:30.549992Z"
    },
    "papermill": {
     "duration": 0.961164,
     "end_time": "2022-06-16T08:05:30.552177",
     "exception": false,
     "start_time": "2022-06-16T08:05:29.591013",
     "status": "completed"
    },
    "tags": []
   },
   "outputs": [],
   "source": [
    "# check upper triangular values\n",
    "assert len(gene_corrs) == int(genes_chr.shape[0] * (genes_chr.shape[0] - 1) / 2)"
   ]
  },
  {
   "cell_type": "code",
   "execution_count": 36,
   "id": "aaa51627-f4e3-4744-a41f-7d25adcc0a78",
   "metadata": {
    "execution": {
     "iopub.execute_input": "2022-06-16T08:05:32.623571Z",
     "iopub.status.busy": "2022-06-16T08:05:32.623018Z",
     "iopub.status.idle": "2022-06-16T08:05:32.643401Z",
     "shell.execute_reply": "2022-06-16T08:05:32.642839Z"
    },
    "papermill": {
     "duration": 1.023023,
     "end_time": "2022-06-16T08:05:32.644916",
     "exception": false,
     "start_time": "2022-06-16T08:05:31.621893",
     "status": "completed"
    },
    "tags": []
   },
   "outputs": [],
   "source": [
    "gene_corrs = pd.Series(gene_corrs)"
   ]
  },
  {
   "cell_type": "code",
   "execution_count": 37,
   "id": "fe283586-c348-40e0-8841-f6d97bfb021c",
   "metadata": {
    "execution": {
     "iopub.execute_input": "2022-06-16T08:05:34.715670Z",
     "iopub.status.busy": "2022-06-16T08:05:34.715326Z",
     "iopub.status.idle": "2022-06-16T08:05:34.738932Z",
     "shell.execute_reply": "2022-06-16T08:05:34.738415Z"
    },
    "papermill": {
     "duration": 1.048368,
     "end_time": "2022-06-16T08:05:34.740437",
     "exception": false,
     "start_time": "2022-06-16T08:05:33.692069",
     "status": "completed"
    },
    "tags": []
   },
   "outputs": [
    {
     "data": {
      "text/plain": [
       "count    24531.000000\n",
       "mean        -0.000438\n",
       "std          0.040597\n",
       "min         -0.966269\n",
       "25%          0.000000\n",
       "50%          0.000000\n",
       "75%          0.000000\n",
       "max          0.897669\n",
       "dtype: float64"
      ]
     },
     "execution_count": 37,
     "metadata": {},
     "output_type": "execute_result"
    }
   ],
   "source": [
    "gene_corrs.describe()"
   ]
  },
  {
   "cell_type": "code",
   "execution_count": 38,
   "id": "b3815678-0f93-4b35-897b-a9d047a2aa78",
   "metadata": {
    "execution": {
     "iopub.execute_input": "2022-06-16T08:05:36.748629Z",
     "iopub.status.busy": "2022-06-16T08:05:36.748250Z",
     "iopub.status.idle": "2022-06-16T08:05:36.770917Z",
     "shell.execute_reply": "2022-06-16T08:05:36.770350Z"
    },
    "papermill": {
     "duration": 1.0774,
     "end_time": "2022-06-16T08:05:36.772433",
     "exception": false,
     "start_time": "2022-06-16T08:05:35.695033",
     "status": "completed"
    },
    "tags": []
   },
   "outputs": [
    {
     "data": {
      "text/plain": [
       "0.00   -0.966269\n",
       "0.05    0.000000\n",
       "0.10    0.000000\n",
       "0.15    0.000000\n",
       "0.20    0.000000\n",
       "0.25    0.000000\n",
       "0.30    0.000000\n",
       "0.35    0.000000\n",
       "0.40    0.000000\n",
       "0.45    0.000000\n",
       "0.50    0.000000\n",
       "0.55    0.000000\n",
       "0.60    0.000000\n",
       "0.65    0.000000\n",
       "0.70    0.000000\n",
       "0.75    0.000000\n",
       "0.80    0.000000\n",
       "0.85    0.000000\n",
       "0.90    0.000000\n",
       "0.95    0.000000\n",
       "dtype: float64"
      ]
     },
     "metadata": {},
     "output_type": "display_data"
    }
   ],
   "source": [
    "gene_corrs_quantiles = gene_corrs.quantile(np.arange(0, 1, 0.05))\n",
    "display(gene_corrs_quantiles)"
   ]
  },
  {
   "cell_type": "markdown",
   "id": "8e60a080-edb2-4e9c-b2ef-22961693200c",
   "metadata": {
    "papermill": {
     "duration": 0.948832,
     "end_time": "2022-06-16T08:05:38.740851",
     "exception": false,
     "start_time": "2022-06-16T08:05:37.792019",
     "status": "completed"
    },
    "tags": []
   },
   "source": [
    "## Plot: distribution"
   ]
  },
  {
   "cell_type": "code",
   "execution_count": 39,
   "id": "8301126b-a7d4-4744-9c7d-f0f86eb6f54c",
   "metadata": {
    "execution": {
     "iopub.execute_input": "2022-06-16T08:05:40.820138Z",
     "iopub.status.busy": "2022-06-16T08:05:40.819639Z",
     "iopub.status.idle": "2022-06-16T08:05:41.210783Z",
     "shell.execute_reply": "2022-06-16T08:05:41.210171Z"
    },
    "papermill": {
     "duration": 1.395935,
     "end_time": "2022-06-16T08:05:41.212152",
     "exception": false,
     "start_time": "2022-06-16T08:05:39.816217",
     "status": "completed"
    },
    "tags": []
   },
   "outputs": [
    {
     "data": {
      "image/png": "[encoded data removed]",
      "text/plain": [
       "<Figure size 504x504 with 1 Axes>"
      ]
     },
     "metadata": {
      "needs_background": "light"
     },
     "output_type": "display_data"
    }
   ],
   "source": [
    "with sns.plotting_context(\"paper\", font_scale=1.5):\n",
    "    g = sns.displot(gene_corrs, kde=True, height=7)\n",
    "    g.ax.set_title(\n",
    "        f\"Distribution of gene correlation values in chromosome {chromosome}\"\n",
    "    )"
   ]
  },
  {
   "cell_type": "markdown",
   "id": "cbd52bca-d878-4a2f-b684-5c83aa3038d4",
   "metadata": {
    "papermill": {
     "duration": 1.055819,
     "end_time": "2022-06-16T08:05:43.321590",
     "exception": false,
     "start_time": "2022-06-16T08:05:42.265771",
     "status": "completed"
    },
    "tags": []
   },
   "source": [
    "## Plot: heatmap"
   ]
  },
  {
   "cell_type": "code",
   "execution_count": 40,
   "id": "d03fe63a-c7b2-4fb9-a53c-db362ce843c9",
   "metadata": {
    "execution": {
     "iopub.execute_input": "2022-06-16T08:05:45.355249Z",
     "iopub.status.busy": "2022-06-16T08:05:45.355058Z",
     "iopub.status.idle": "2022-06-16T08:05:45.373881Z",
     "shell.execute_reply": "2022-06-16T08:05:45.373329Z"
    },
    "papermill": {
     "duration": 1.026848,
     "end_time": "2022-06-16T08:05:45.375348",
     "exception": false,
     "start_time": "2022-06-16T08:05:44.348500",
     "status": "completed"
    },
    "tags": []
   },
   "outputs": [
    {
     "data": {
      "text/plain": [
       "'-0.05 / 0.05'"
      ]
     },
     "metadata": {},
     "output_type": "display_data"
    }
   ],
   "source": [
    "vmin_val = min(-0.05, gene_corrs_quantiles[0.10])\n",
    "vmax_val = max(0.05, gene_corrs_quantiles[0.90])\n",
    "display(f\"{vmin_val} / {vmax_val}\")"
   ]
  },
  {
   "cell_type": "code",
   "execution_count": 41,
   "id": "dc41b70b-5bcc-4d9e-9f33-a22c4a94dab5",
   "metadata": {
    "execution": {
     "iopub.execute_input": "2022-06-16T08:05:47.362776Z",
     "iopub.status.busy": "2022-06-16T08:05:47.362592Z",
     "iopub.status.idle": "2022-06-16T08:05:47.551147Z",
     "shell.execute_reply": "2022-06-16T08:05:47.550642Z"
    },
    "papermill": {
     "duration": 1.166546,
     "end_time": "2022-06-16T08:05:47.552861",
     "exception": false,
     "start_time": "2022-06-16T08:05:46.386315",
     "status": "completed"
    },
    "tags": []
   },
   "outputs": [
    {
     "data": {
      "text/plain": [
       "Text(0.5, 1.0, 'Gene correlations in chromosome 8')"
      ]
     },
     "execution_count": 41,
     "metadata": {},
     "output_type": "execute_result"
    },
    {
     "data": {
      "image/png": "[encoded data removed]",
      "text/plain": [
       "<Figure size 720x720 with 2 Axes>"
      ]
     },
     "metadata": {
      "needs_background": "light"
     },
     "output_type": "display_data"
    }
   ],
   "source": [
    "f, ax = plt.subplots(figsize=(10, 10))\n",
    "sns.heatmap(\n",
    "    gene_corrs_df,\n",
    "    xticklabels=False,\n",
    "    yticklabels=False,\n",
    "    square=True,\n",
    "    vmin=vmin_val,\n",
    "    vmax=vmax_val,\n",
    "    cmap=\"YlGnBu\",\n",
    "    ax=ax,\n",
    ")\n",
    "ax.set_title(f\"Gene correlations in chromosome {chromosome}\")"
   ]
  },
  {
   "cell_type": "code",
   "execution_count": null,
   "id": "b25e3ead",
   "metadata": {
    "papermill": {
     "duration": 1.046201,
     "end_time": "2022-06-16T08:05:49.713706",
     "exception": false,
     "start_time": "2022-06-16T08:05:48.667505",
     "status": "completed"
    },
    "tags": []
   },
   "outputs": [],
   "source": []
  }
 ],
 "metadata": {
  "jupytext": {
   "cell_metadata_filter": "all,-execution,-papermill,-trusted",
   "formats": "ipynb,py//py:percent"
  },
  "kernelspec": {
   "display_name": "Python 3 (ipykernel)",
   "language": "python",
   "name": "python3"
  },
  "language_info": {
   "codemirror_mode": {
    "name": "ipython",
    "version": 3
   },
   "file_extension": ".py",
   "mimetype": "text/x-python",
   "name": "python",
   "nbconvert_exporter": "python",
   "pygments_lexer": "ipython3",
   "version": "3.8.13"
  },
  "papermill": {
   "default_parameters": {},
   "duration": 5607.312716,
   "end_time": "2022-06-16T08:05:54.202120",
   "environment_variables": {},
   "exception": null,
   "input_path": "nbs/15_gsa_gls/10-gene_expr_correlations.ipynb",
   "output_path": "nbs/15_gsa_gls/gene_corrs/gtex_v8/mashr/10-gene_expr_correlations-chr8.run.ipynb",
   "parameters": {
    "EQTL_MODEL": "MASHR",
    "REFERENCE_PANEL": "GTEX_V8",
    "chromosome": 8
   },
   "start_time": "2022-06-16T06:32:26.889404",
   "version": "2.2.2"
  }
 },
 "nbformat": 4,
 "nbformat_minor": 5
}
