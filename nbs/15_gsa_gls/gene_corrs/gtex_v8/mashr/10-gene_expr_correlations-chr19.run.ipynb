{
 "cells": [
  {
   "cell_type": "markdown",
   "id": "7a6632fb",
   "metadata": {
    "papermill": {
     "duration": 0.006825,
     "end_time": "2022-06-17T02:22:42.732071",
     "exception": false,
     "start_time": "2022-06-17T02:22:42.725246",
     "status": "completed"
    },
    "tags": []
   },
   "source": [
    "# Description"
   ]
  },
  {
   "cell_type": "markdown",
   "id": "7097c346",
   "metadata": {
    "papermill": {
     "duration": 0.018175,
     "end_time": "2022-06-17T02:22:42.758107",
     "exception": false,
     "start_time": "2022-06-17T02:22:42.739932",
     "status": "completed"
    },
    "tags": []
   },
   "source": [
    "(Please, take a look at the README.md file in this directory for instructions on how to run this notebook)\n",
    "\n",
    "This notebook computes predicted expression correlations between all genes in the MultiPLIER models.\n",
    "\n",
    "It also has a parameter set for papermill to run on a single chromosome to run in parallel (see under `Settings` below).\n",
    "\n",
    "This notebook is not directly run. See README.md."
   ]
  },
  {
   "cell_type": "markdown",
   "id": "c61d8427",
   "metadata": {
    "papermill": {
     "duration": 0.013139,
     "end_time": "2022-06-17T02:22:42.776148",
     "exception": false,
     "start_time": "2022-06-17T02:22:42.763009",
     "status": "completed"
    },
    "tags": []
   },
   "source": [
    "# Modules"
   ]
  },
  {
   "cell_type": "code",
   "execution_count": 1,
   "id": "bbc0234f",
   "metadata": {
    "execution": {
     "iopub.execute_input": "2022-06-17T02:22:42.796713Z",
     "iopub.status.busy": "2022-06-17T02:22:42.796502Z",
     "iopub.status.idle": "2022-06-17T02:22:42.826202Z",
     "shell.execute_reply": "2022-06-17T02:22:42.825539Z"
    },
    "papermill": {
     "duration": 0.037559,
     "end_time": "2022-06-17T02:22:42.827786",
     "exception": false,
     "start_time": "2022-06-17T02:22:42.790227",
     "status": "completed"
    },
    "tags": []
   },
   "outputs": [],
   "source": [
    "%load_ext autoreload\n",
    "%autoreload 2"
   ]
  },
  {
   "cell_type": "code",
   "execution_count": 2,
   "id": "1d5f5a59",
   "metadata": {
    "execution": {
     "iopub.execute_input": "2022-06-17T02:22:42.839935Z",
     "iopub.status.busy": "2022-06-17T02:22:42.839748Z",
     "iopub.status.idle": "2022-06-17T02:22:43.795712Z",
     "shell.execute_reply": "2022-06-17T02:22:43.795196Z"
    },
    "papermill": {
     "duration": 0.963817,
     "end_time": "2022-06-17T02:22:43.797357",
     "exception": false,
     "start_time": "2022-06-17T02:22:42.833540",
     "status": "completed"
    },
    "tags": []
   },
   "outputs": [],
   "source": [
    "from random import sample, seed\n",
    "import warnings\n",
    "from pathlib import Path\n",
    "\n",
    "import numpy as np\n",
    "from scipy.spatial.distance import squareform\n",
    "import pandas as pd\n",
    "from tqdm import tqdm\n",
    "import matplotlib.pyplot as plt\n",
    "import seaborn as sns\n",
    "\n",
    "import conf\n",
    "from entity import Gene"
   ]
  },
  {
   "cell_type": "markdown",
   "id": "1eac24b5",
   "metadata": {
    "papermill": {
     "duration": 0.036514,
     "end_time": "2022-06-17T02:22:43.840896",
     "exception": false,
     "start_time": "2022-06-17T02:22:43.804382",
     "status": "completed"
    },
    "tags": []
   },
   "source": [
    "# Settings"
   ]
  },
  {
   "cell_type": "code",
   "execution_count": 3,
   "id": "ca4560ba",
   "metadata": {
    "execution": {
     "iopub.execute_input": "2022-06-17T02:22:43.853993Z",
     "iopub.status.busy": "2022-06-17T02:22:43.853798Z",
     "iopub.status.idle": "2022-06-17T02:22:43.871657Z",
     "shell.execute_reply": "2022-06-17T02:22:43.871067Z"
    },
    "papermill": {
     "duration": 0.026146,
     "end_time": "2022-06-17T02:22:43.873130",
     "exception": false,
     "start_time": "2022-06-17T02:22:43.846984",
     "status": "completed"
    },
    "tags": [
     "parameters"
    ]
   },
   "outputs": [],
   "source": [
    "# reference panel\n",
    "REFERENCE_PANEL = \"GTEX_V8\"\n",
    "# REFERENCE_PANEL = \"1000G\"\n",
    "\n",
    "# prediction models\n",
    "## mashr\n",
    "EQTL_MODEL = \"MASHR\"\n",
    "EQTL_MODEL_FILES_PREFIX = \"mashr_\"\n",
    "\n",
    "# ## elastic net\n",
    "# EQTL_MODEL = \"ELASTIC_NET\"\n",
    "# EQTL_MODEL_FILES_PREFIX = \"en_\"\n",
    "\n",
    "# make it read the prefix from conf.py\n",
    "EQTL_MODEL_FILES_PREFIX = None\n",
    "\n",
    "# this is the default value used in S-MultiXcan to select the\n",
    "# top principal components of the expression correlation matrix\n",
    "SMULTIXCAN_CONDITION_NUMBER = 30\n",
    "\n",
    "# specifies a single chromosome value\n",
    "# by default, run on all chromosomes\n",
    "chromosome = None"
   ]
  },
  {
   "cell_type": "code",
   "execution_count": 4,
   "id": "4102b00c",
   "metadata": {
    "execution": {
     "iopub.execute_input": "2022-06-17T02:22:43.887079Z",
     "iopub.status.busy": "2022-06-17T02:22:43.886709Z",
     "iopub.status.idle": "2022-06-17T02:22:43.903377Z",
     "shell.execute_reply": "2022-06-17T02:22:43.902802Z"
    },
    "papermill": {
     "duration": 0.024909,
     "end_time": "2022-06-17T02:22:43.904839",
     "exception": false,
     "start_time": "2022-06-17T02:22:43.879930",
     "status": "completed"
    },
    "tags": [
     "injected-parameters"
    ]
   },
   "outputs": [],
   "source": [
    "# Parameters\n",
    "chromosome = 19\n",
    "REFERENCE_PANEL = \"GTEX_V8\"\n",
    "EQTL_MODEL = \"MASHR\"\n"
   ]
  },
  {
   "cell_type": "code",
   "execution_count": 5,
   "id": "a089c9ff",
   "metadata": {
    "execution": {
     "iopub.execute_input": "2022-06-17T02:22:43.919882Z",
     "iopub.status.busy": "2022-06-17T02:22:43.917284Z",
     "iopub.status.idle": "2022-06-17T02:22:43.935777Z",
     "shell.execute_reply": "2022-06-17T02:22:43.935197Z"
    },
    "papermill": {
     "duration": 0.026463,
     "end_time": "2022-06-17T02:22:43.937250",
     "exception": false,
     "start_time": "2022-06-17T02:22:43.910787",
     "status": "completed"
    },
    "tags": []
   },
   "outputs": [],
   "source": [
    "if EQTL_MODEL_FILES_PREFIX is None:\n",
    "    EQTL_MODEL_FILES_PREFIX = conf.PHENOMEXCAN[\"PREDICTION_MODELS\"][\n",
    "        f\"{EQTL_MODEL}_PREFIX\"\n",
    "    ]"
   ]
  },
  {
   "cell_type": "code",
   "execution_count": 6,
   "id": "8fe24bef",
   "metadata": {
    "execution": {
     "iopub.execute_input": "2022-06-17T02:22:43.950345Z",
     "iopub.status.busy": "2022-06-17T02:22:43.950164Z",
     "iopub.status.idle": "2022-06-17T02:22:43.970679Z",
     "shell.execute_reply": "2022-06-17T02:22:43.970182Z"
    },
    "papermill": {
     "duration": 0.028262,
     "end_time": "2022-06-17T02:22:43.972054",
     "exception": false,
     "start_time": "2022-06-17T02:22:43.943792",
     "status": "completed"
    },
    "tags": []
   },
   "outputs": [
    {
     "data": {
      "text/plain": [
       "'Using eQTL model: MASHR / mashr_'"
      ]
     },
     "metadata": {},
     "output_type": "display_data"
    }
   ],
   "source": [
    "display(f\"Using eQTL model: {EQTL_MODEL} / {EQTL_MODEL_FILES_PREFIX}\")"
   ]
  },
  {
   "cell_type": "code",
   "execution_count": 7,
   "id": "0230ebcb-2c32-4b95-9292-d9a52038e70d",
   "metadata": {
    "execution": {
     "iopub.execute_input": "2022-06-17T02:22:43.984835Z",
     "iopub.status.busy": "2022-06-17T02:22:43.984440Z",
     "iopub.status.idle": "2022-06-17T02:22:44.000646Z",
     "shell.execute_reply": "2022-06-17T02:22:44.000166Z"
    },
    "papermill": {
     "duration": 0.024136,
     "end_time": "2022-06-17T02:22:44.002067",
     "exception": false,
     "start_time": "2022-06-17T02:22:43.977931",
     "status": "completed"
    },
    "tags": []
   },
   "outputs": [],
   "source": [
    "REFERENCE_PANEL_DIR = conf.PHENOMEXCAN[\"LD_BLOCKS\"][f\"{REFERENCE_PANEL}_GENOTYPE_DIR\"]"
   ]
  },
  {
   "cell_type": "code",
   "execution_count": 8,
   "id": "98c4a159-601d-4a22-a1ab-35bd451c25f9",
   "metadata": {
    "execution": {
     "iopub.execute_input": "2022-06-17T02:22:44.014969Z",
     "iopub.status.busy": "2022-06-17T02:22:44.014510Z",
     "iopub.status.idle": "2022-06-17T02:22:44.032543Z",
     "shell.execute_reply": "2022-06-17T02:22:44.032073Z"
    },
    "papermill": {
     "duration": 0.02582,
     "end_time": "2022-06-17T02:22:44.033864",
     "exception": false,
     "start_time": "2022-06-17T02:22:44.008044",
     "status": "completed"
    },
    "tags": []
   },
   "outputs": [
    {
     "data": {
      "text/plain": [
       "'Using reference panel folder: /opt/data/data/phenomexcan/ld_blocks/reference_panel_gtex_v8'"
      ]
     },
     "metadata": {},
     "output_type": "display_data"
    }
   ],
   "source": [
    "display(f\"Using reference panel folder: {str(REFERENCE_PANEL_DIR)}\")"
   ]
  },
  {
   "cell_type": "code",
   "execution_count": 9,
   "id": "396392dc-0340-4540-9b02-e182b833f909",
   "metadata": {
    "execution": {
     "iopub.execute_input": "2022-06-17T02:22:44.046511Z",
     "iopub.status.busy": "2022-06-17T02:22:44.046335Z",
     "iopub.status.idle": "2022-06-17T02:22:44.062516Z",
     "shell.execute_reply": "2022-06-17T02:22:44.061992Z"
    },
    "papermill": {
     "duration": 0.024334,
     "end_time": "2022-06-17T02:22:44.064114",
     "exception": false,
     "start_time": "2022-06-17T02:22:44.039780",
     "status": "completed"
    },
    "tags": []
   },
   "outputs": [],
   "source": [
    "OUTPUT_DIR_BASE = (\n",
    "    conf.PHENOMEXCAN[\"LD_BLOCKS\"][f\"GENE_CORRS_DIR\"]\n",
    "    / REFERENCE_PANEL.lower()\n",
    "    / EQTL_MODEL.lower()\n",
    ")\n",
    "OUTPUT_DIR_BASE.mkdir(parents=True, exist_ok=True)"
   ]
  },
  {
   "cell_type": "code",
   "execution_count": 10,
   "id": "8942c2d3-e53c-4d63-a0eb-b6fce0574d36",
   "metadata": {
    "execution": {
     "iopub.execute_input": "2022-06-17T02:22:44.078300Z",
     "iopub.status.busy": "2022-06-17T02:22:44.077967Z",
     "iopub.status.idle": "2022-06-17T02:22:44.096937Z",
     "shell.execute_reply": "2022-06-17T02:22:44.096349Z"
    },
    "papermill": {
     "duration": 0.027177,
     "end_time": "2022-06-17T02:22:44.098368",
     "exception": false,
     "start_time": "2022-06-17T02:22:44.071191",
     "status": "completed"
    },
    "tags": []
   },
   "outputs": [
    {
     "data": {
      "text/plain": [
       "'Using output dir base: /opt/data/data/phenomexcan/ld_blocks/gene_corrs/gtex_v8/mashr'"
      ]
     },
     "metadata": {},
     "output_type": "display_data"
    }
   ],
   "source": [
    "display(f\"Using output dir base: {OUTPUT_DIR_BASE}\")"
   ]
  },
  {
   "cell_type": "code",
   "execution_count": 11,
   "id": "408aa590",
   "metadata": {
    "execution": {
     "iopub.execute_input": "2022-06-17T02:22:44.111764Z",
     "iopub.status.busy": "2022-06-17T02:22:44.111457Z",
     "iopub.status.idle": "2022-06-17T02:22:44.129754Z",
     "shell.execute_reply": "2022-06-17T02:22:44.129199Z"
    },
    "papermill": {
     "duration": 0.02662,
     "end_time": "2022-06-17T02:22:44.131284",
     "exception": false,
     "start_time": "2022-06-17T02:22:44.104664",
     "status": "completed"
    },
    "tags": []
   },
   "outputs": [],
   "source": [
    "assert (\n",
    "    chromosome is not None\n",
    "), \"You have to select one chromosome (format: number between 1 and 22)\""
   ]
  },
  {
   "cell_type": "code",
   "execution_count": 12,
   "id": "c1c7dd06-80ff-453c-bcb7-0899edce75da",
   "metadata": {
    "execution": {
     "iopub.execute_input": "2022-06-17T02:22:44.143673Z",
     "iopub.status.busy": "2022-06-17T02:22:44.143504Z",
     "iopub.status.idle": "2022-06-17T02:22:44.161202Z",
     "shell.execute_reply": "2022-06-17T02:22:44.160617Z"
    },
    "papermill": {
     "duration": 0.025432,
     "end_time": "2022-06-17T02:22:44.162594",
     "exception": false,
     "start_time": "2022-06-17T02:22:44.137162",
     "status": "completed"
    },
    "tags": []
   },
   "outputs": [],
   "source": [
    "chromosome = str(chromosome)"
   ]
  },
  {
   "cell_type": "code",
   "execution_count": 13,
   "id": "bc17b84c-9c26-47a5-a3ab-7046e72f3ef4",
   "metadata": {
    "execution": {
     "iopub.execute_input": "2022-06-17T02:22:44.176071Z",
     "iopub.status.busy": "2022-06-17T02:22:44.175603Z",
     "iopub.status.idle": "2022-06-17T02:22:44.193879Z",
     "shell.execute_reply": "2022-06-17T02:22:44.193382Z"
    },
    "papermill": {
     "duration": 0.026763,
     "end_time": "2022-06-17T02:22:44.195391",
     "exception": false,
     "start_time": "2022-06-17T02:22:44.168628",
     "status": "completed"
    },
    "tags": []
   },
   "outputs": [
    {
     "data": {
      "text/plain": [
       "'Working on chromosome 19'"
      ]
     },
     "metadata": {},
     "output_type": "display_data"
    }
   ],
   "source": [
    "display(f\"Working on chromosome {chromosome}\")"
   ]
  },
  {
   "cell_type": "markdown",
   "id": "d2ba085e",
   "metadata": {
    "papermill": {
     "duration": 0.00612,
     "end_time": "2022-06-17T02:22:44.208460",
     "exception": false,
     "start_time": "2022-06-17T02:22:44.202340",
     "status": "completed"
    },
    "tags": []
   },
   "source": [
    "# Load data"
   ]
  },
  {
   "cell_type": "markdown",
   "id": "abcc4b3d",
   "metadata": {
    "papermill": {
     "duration": 0.006545,
     "end_time": "2022-06-17T02:22:44.221051",
     "exception": false,
     "start_time": "2022-06-17T02:22:44.214506",
     "status": "completed"
    },
    "tags": []
   },
   "source": [
    "## MultiPLIER Z"
   ]
  },
  {
   "cell_type": "code",
   "execution_count": 14,
   "id": "c48ef527",
   "metadata": {
    "execution": {
     "iopub.execute_input": "2022-06-17T02:22:44.233986Z",
     "iopub.status.busy": "2022-06-17T02:22:44.233811Z",
     "iopub.status.idle": "2022-06-17T02:22:44.279672Z",
     "shell.execute_reply": "2022-06-17T02:22:44.279077Z"
    },
    "papermill": {
     "duration": 0.0541,
     "end_time": "2022-06-17T02:22:44.281297",
     "exception": false,
     "start_time": "2022-06-17T02:22:44.227197",
     "status": "completed"
    },
    "tags": []
   },
   "outputs": [],
   "source": [
    "multiplier_z_genes = pd.read_pickle(\n",
    "    conf.MULTIPLIER[\"MODEL_Z_MATRIX_FILE\"]\n",
    ").index.tolist()"
   ]
  },
  {
   "cell_type": "code",
   "execution_count": 15,
   "id": "0a4ecbd9",
   "metadata": {
    "execution": {
     "iopub.execute_input": "2022-06-17T02:22:44.295962Z",
     "iopub.status.busy": "2022-06-17T02:22:44.295771Z",
     "iopub.status.idle": "2022-06-17T02:22:44.314846Z",
     "shell.execute_reply": "2022-06-17T02:22:44.313961Z"
    },
    "papermill": {
     "duration": 0.028431,
     "end_time": "2022-06-17T02:22:44.316356",
     "exception": false,
     "start_time": "2022-06-17T02:22:44.287925",
     "status": "completed"
    },
    "tags": []
   },
   "outputs": [
    {
     "data": {
      "text/plain": [
       "6750"
      ]
     },
     "execution_count": 15,
     "metadata": {},
     "output_type": "execute_result"
    }
   ],
   "source": [
    "len(multiplier_z_genes)"
   ]
  },
  {
   "cell_type": "code",
   "execution_count": 16,
   "id": "115e8864",
   "metadata": {
    "execution": {
     "iopub.execute_input": "2022-06-17T02:22:44.330443Z",
     "iopub.status.busy": "2022-06-17T02:22:44.330142Z",
     "iopub.status.idle": "2022-06-17T02:22:44.347078Z",
     "shell.execute_reply": "2022-06-17T02:22:44.346580Z"
    },
    "papermill": {
     "duration": 0.025572,
     "end_time": "2022-06-17T02:22:44.348530",
     "exception": false,
     "start_time": "2022-06-17T02:22:44.322958",
     "status": "completed"
    },
    "tags": []
   },
   "outputs": [
    {
     "data": {
      "text/plain": [
       "['GAS6',\n",
       " 'MMP14',\n",
       " 'DSP',\n",
       " 'MARCKSL1',\n",
       " 'SPARC',\n",
       " 'CTSD',\n",
       " 'EPAS1',\n",
       " 'PALLD',\n",
       " 'PHC2',\n",
       " 'LGALS3BP']"
      ]
     },
     "execution_count": 16,
     "metadata": {},
     "output_type": "execute_result"
    }
   ],
   "source": [
    "multiplier_z_genes[:10]"
   ]
  },
  {
   "cell_type": "markdown",
   "id": "7dcb8db7",
   "metadata": {
    "papermill": {
     "duration": 0.013586,
     "end_time": "2022-06-17T02:22:44.368619",
     "exception": false,
     "start_time": "2022-06-17T02:22:44.355033",
     "status": "completed"
    },
    "tags": []
   },
   "source": [
    "## Get gene objects"
   ]
  },
  {
   "cell_type": "code",
   "execution_count": 17,
   "id": "bb932812",
   "metadata": {
    "execution": {
     "iopub.execute_input": "2022-06-17T02:22:44.381240Z",
     "iopub.status.busy": "2022-06-17T02:22:44.381075Z",
     "iopub.status.idle": "2022-06-17T02:22:44.403490Z",
     "shell.execute_reply": "2022-06-17T02:22:44.402940Z"
    },
    "papermill": {
     "duration": 0.030389,
     "end_time": "2022-06-17T02:22:44.404896",
     "exception": false,
     "start_time": "2022-06-17T02:22:44.374507",
     "status": "completed"
    },
    "tags": []
   },
   "outputs": [],
   "source": [
    "multiplier_gene_obj = {\n",
    "    gene_name: Gene(name=gene_name)\n",
    "    for gene_name in multiplier_z_genes\n",
    "    if gene_name in Gene.GENE_NAME_TO_ID_MAP\n",
    "}"
   ]
  },
  {
   "cell_type": "code",
   "execution_count": 18,
   "id": "39533214",
   "metadata": {
    "execution": {
     "iopub.execute_input": "2022-06-17T02:22:44.419743Z",
     "iopub.status.busy": "2022-06-17T02:22:44.419272Z",
     "iopub.status.idle": "2022-06-17T02:22:44.436419Z",
     "shell.execute_reply": "2022-06-17T02:22:44.435950Z"
    },
    "papermill": {
     "duration": 0.026345,
     "end_time": "2022-06-17T02:22:44.437795",
     "exception": false,
     "start_time": "2022-06-17T02:22:44.411450",
     "status": "completed"
    },
    "tags": []
   },
   "outputs": [
    {
     "data": {
      "text/plain": [
       "6454"
      ]
     },
     "execution_count": 18,
     "metadata": {},
     "output_type": "execute_result"
    }
   ],
   "source": [
    "len(multiplier_gene_obj)"
   ]
  },
  {
   "cell_type": "code",
   "execution_count": 19,
   "id": "9a5d0b84",
   "metadata": {
    "execution": {
     "iopub.execute_input": "2022-06-17T02:22:44.453088Z",
     "iopub.status.busy": "2022-06-17T02:22:44.452631Z",
     "iopub.status.idle": "2022-06-17T02:22:44.469311Z",
     "shell.execute_reply": "2022-06-17T02:22:44.468909Z"
    },
    "papermill": {
     "duration": 0.026209,
     "end_time": "2022-06-17T02:22:44.470806",
     "exception": false,
     "start_time": "2022-06-17T02:22:44.444597",
     "status": "completed"
    },
    "tags": []
   },
   "outputs": [
    {
     "data": {
      "text/plain": [
       "'ENSG00000183087'"
      ]
     },
     "execution_count": 19,
     "metadata": {},
     "output_type": "execute_result"
    }
   ],
   "source": [
    "multiplier_gene_obj[\"GAS6\"].ensembl_id"
   ]
  },
  {
   "cell_type": "code",
   "execution_count": 20,
   "id": "e3ffabc7",
   "metadata": {
    "execution": {
     "iopub.execute_input": "2022-06-17T02:22:44.484288Z",
     "iopub.status.busy": "2022-06-17T02:22:44.484118Z",
     "iopub.status.idle": "2022-06-17T02:22:46.546144Z",
     "shell.execute_reply": "2022-06-17T02:22:46.545608Z"
    },
    "papermill": {
     "duration": 2.070291,
     "end_time": "2022-06-17T02:22:46.547540",
     "exception": false,
     "start_time": "2022-06-17T02:22:44.477249",
     "status": "completed"
    },
    "tags": []
   },
   "outputs": [],
   "source": [
    "_gene_obj = list(multiplier_gene_obj.values())\n",
    "\n",
    "genes_info = pd.DataFrame(\n",
    "    {\n",
    "        \"name\": [g.name for g in _gene_obj],\n",
    "        \"id\": [g.ensembl_id for g in _gene_obj],\n",
    "        \"chr\": [g.chromosome for g in _gene_obj],\n",
    "        \"band\": [g.band for g in _gene_obj],\n",
    "        \"start_position\": [g.get_attribute(\"start_position\") for g in _gene_obj],\n",
    "    }\n",
    ")"
   ]
  },
  {
   "cell_type": "code",
   "execution_count": 21,
   "id": "e23519b8",
   "metadata": {
    "execution": {
     "iopub.execute_input": "2022-06-17T02:22:46.561095Z",
     "iopub.status.busy": "2022-06-17T02:22:46.560921Z",
     "iopub.status.idle": "2022-06-17T02:22:46.576631Z",
     "shell.execute_reply": "2022-06-17T02:22:46.576060Z"
    },
    "papermill": {
     "duration": 0.024024,
     "end_time": "2022-06-17T02:22:46.578008",
     "exception": false,
     "start_time": "2022-06-17T02:22:46.553984",
     "status": "completed"
    },
    "tags": []
   },
   "outputs": [
    {
     "data": {
      "text/plain": [
       "(6454, 5)"
      ]
     },
     "execution_count": 21,
     "metadata": {},
     "output_type": "execute_result"
    }
   ],
   "source": [
    "genes_info.shape"
   ]
  },
  {
   "cell_type": "code",
   "execution_count": 22,
   "id": "0d71881c",
   "metadata": {
    "execution": {
     "iopub.execute_input": "2022-06-17T02:22:46.591328Z",
     "iopub.status.busy": "2022-06-17T02:22:46.591153Z",
     "iopub.status.idle": "2022-06-17T02:22:46.613658Z",
     "shell.execute_reply": "2022-06-17T02:22:46.613172Z"
    },
    "papermill": {
     "duration": 0.030725,
     "end_time": "2022-06-17T02:22:46.615056",
     "exception": false,
     "start_time": "2022-06-17T02:22:46.584331",
     "status": "completed"
    },
    "tags": []
   },
   "outputs": [
    {
     "data": {
      "text/html": [
       "<div>\n",
       "<style scoped>\n",
       "    .dataframe tbody tr th:only-of-type {\n",
       "        vertical-align: middle;\n",
       "    }\n",
       "\n",
       "    .dataframe tbody tr th {\n",
       "        vertical-align: top;\n",
       "    }\n",
       "\n",
       "    .dataframe thead th {\n",
       "        text-align: right;\n",
       "    }\n",
       "</style>\n",
       "<table border=\"1\" class=\"dataframe\">\n",
       "  <thead>\n",
       "    <tr style=\"text-align: right;\">\n",
       "      <th></th>\n",
       "      <th>name</th>\n",
       "      <th>id</th>\n",
       "      <th>chr</th>\n",
       "      <th>band</th>\n",
       "      <th>start_position</th>\n",
       "    </tr>\n",
       "  </thead>\n",
       "  <tbody>\n",
       "    <tr>\n",
       "      <th>0</th>\n",
       "      <td>GAS6</td>\n",
       "      <td>ENSG00000183087</td>\n",
       "      <td>13</td>\n",
       "      <td>13q34</td>\n",
       "      <td>113820549.0</td>\n",
       "    </tr>\n",
       "    <tr>\n",
       "      <th>1</th>\n",
       "      <td>MMP14</td>\n",
       "      <td>ENSG00000157227</td>\n",
       "      <td>14</td>\n",
       "      <td>14q11.2</td>\n",
       "      <td>22836560.0</td>\n",
       "    </tr>\n",
       "    <tr>\n",
       "      <th>2</th>\n",
       "      <td>DSP</td>\n",
       "      <td>ENSG00000096696</td>\n",
       "      <td>6</td>\n",
       "      <td>6p24.3</td>\n",
       "      <td>7541617.0</td>\n",
       "    </tr>\n",
       "    <tr>\n",
       "      <th>3</th>\n",
       "      <td>MARCKSL1</td>\n",
       "      <td>ENSG00000175130</td>\n",
       "      <td>1</td>\n",
       "      <td>1p35.1</td>\n",
       "      <td>32333839.0</td>\n",
       "    </tr>\n",
       "    <tr>\n",
       "      <th>4</th>\n",
       "      <td>SPARC</td>\n",
       "      <td>ENSG00000113140</td>\n",
       "      <td>5</td>\n",
       "      <td>5q33.1</td>\n",
       "      <td>151661096.0</td>\n",
       "    </tr>\n",
       "  </tbody>\n",
       "</table>\n",
       "</div>"
      ],
      "text/plain": [
       "       name               id chr     band  start_position\n",
       "0      GAS6  ENSG00000183087  13    13q34     113820549.0\n",
       "1     MMP14  ENSG00000157227  14  14q11.2      22836560.0\n",
       "2       DSP  ENSG00000096696   6   6p24.3       7541617.0\n",
       "3  MARCKSL1  ENSG00000175130   1   1p35.1      32333839.0\n",
       "4     SPARC  ENSG00000113140   5   5q33.1     151661096.0"
      ]
     },
     "execution_count": 22,
     "metadata": {},
     "output_type": "execute_result"
    }
   ],
   "source": [
    "genes_info.head()"
   ]
  },
  {
   "cell_type": "markdown",
   "id": "c8d1038f",
   "metadata": {
    "papermill": {
     "duration": 0.006448,
     "end_time": "2022-06-17T02:22:46.628359",
     "exception": false,
     "start_time": "2022-06-17T02:22:46.621911",
     "status": "completed"
    },
    "tags": []
   },
   "source": [
    "# Test"
   ]
  },
  {
   "cell_type": "code",
   "execution_count": 23,
   "id": "64993abf",
   "metadata": {
    "execution": {
     "iopub.execute_input": "2022-06-17T02:22:46.642886Z",
     "iopub.status.busy": "2022-06-17T02:22:46.642703Z",
     "iopub.status.idle": "2022-06-17T02:22:46.666410Z",
     "shell.execute_reply": "2022-06-17T02:22:46.665916Z"
    },
    "papermill": {
     "duration": 0.032342,
     "end_time": "2022-06-17T02:22:46.667672",
     "exception": false,
     "start_time": "2022-06-17T02:22:46.635330",
     "status": "completed"
    },
    "tags": []
   },
   "outputs": [
    {
     "data": {
      "text/html": [
       "<div>\n",
       "<style scoped>\n",
       "    .dataframe tbody tr th:only-of-type {\n",
       "        vertical-align: middle;\n",
       "    }\n",
       "\n",
       "    .dataframe tbody tr th {\n",
       "        vertical-align: top;\n",
       "    }\n",
       "\n",
       "    .dataframe thead th {\n",
       "        text-align: right;\n",
       "    }\n",
       "</style>\n",
       "<table border=\"1\" class=\"dataframe\">\n",
       "  <thead>\n",
       "    <tr style=\"text-align: right;\">\n",
       "      <th></th>\n",
       "      <th>name</th>\n",
       "      <th>id</th>\n",
       "      <th>chr</th>\n",
       "      <th>band</th>\n",
       "      <th>start_position</th>\n",
       "    </tr>\n",
       "  </thead>\n",
       "  <tbody>\n",
       "    <tr>\n",
       "      <th>51</th>\n",
       "      <td>BLVRB</td>\n",
       "      <td>ENSG00000090013</td>\n",
       "      <td>19</td>\n",
       "      <td>19q13.2</td>\n",
       "      <td>40447765.0</td>\n",
       "    </tr>\n",
       "    <tr>\n",
       "      <th>68</th>\n",
       "      <td>TRIP10</td>\n",
       "      <td>ENSG00000125733</td>\n",
       "      <td>19</td>\n",
       "      <td>19p13.3</td>\n",
       "      <td>6737925.0</td>\n",
       "    </tr>\n",
       "    <tr>\n",
       "      <th>96</th>\n",
       "      <td>FCGBP</td>\n",
       "      <td>ENSG00000275395</td>\n",
       "      <td>19</td>\n",
       "      <td>19q13.2</td>\n",
       "      <td>39863323.0</td>\n",
       "    </tr>\n",
       "    <tr>\n",
       "      <th>113</th>\n",
       "      <td>ERF</td>\n",
       "      <td>ENSG00000105722</td>\n",
       "      <td>19</td>\n",
       "      <td>19q13.2</td>\n",
       "      <td>42247569.0</td>\n",
       "    </tr>\n",
       "    <tr>\n",
       "      <th>152</th>\n",
       "      <td>GMFG</td>\n",
       "      <td>ENSG00000130755</td>\n",
       "      <td>19</td>\n",
       "      <td>19q13.2</td>\n",
       "      <td>39328353.0</td>\n",
       "    </tr>\n",
       "    <tr>\n",
       "      <th>...</th>\n",
       "      <td>...</td>\n",
       "      <td>...</td>\n",
       "      <td>...</td>\n",
       "      <td>...</td>\n",
       "      <td>...</td>\n",
       "    </tr>\n",
       "    <tr>\n",
       "      <th>6367</th>\n",
       "      <td>MAP2K7</td>\n",
       "      <td>ENSG00000076984</td>\n",
       "      <td>19</td>\n",
       "      <td>19p13.2</td>\n",
       "      <td>7903843.0</td>\n",
       "    </tr>\n",
       "    <tr>\n",
       "      <th>6391</th>\n",
       "      <td>GIPC1</td>\n",
       "      <td>ENSG00000123159</td>\n",
       "      <td>19</td>\n",
       "      <td>19p13.12</td>\n",
       "      <td>14477760.0</td>\n",
       "    </tr>\n",
       "    <tr>\n",
       "      <th>6403</th>\n",
       "      <td>DNM2</td>\n",
       "      <td>ENSG00000079805</td>\n",
       "      <td>19</td>\n",
       "      <td>19p13.2</td>\n",
       "      <td>10718079.0</td>\n",
       "    </tr>\n",
       "    <tr>\n",
       "      <th>6411</th>\n",
       "      <td>GYS1</td>\n",
       "      <td>ENSG00000104812</td>\n",
       "      <td>19</td>\n",
       "      <td>19q13.33</td>\n",
       "      <td>48968130.0</td>\n",
       "    </tr>\n",
       "    <tr>\n",
       "      <th>6425</th>\n",
       "      <td>PLEKHG2</td>\n",
       "      <td>ENSG00000090924</td>\n",
       "      <td>19</td>\n",
       "      <td>19q13.2</td>\n",
       "      <td>39412669.0</td>\n",
       "    </tr>\n",
       "  </tbody>\n",
       "</table>\n",
       "<p>540 rows × 5 columns</p>\n",
       "</div>"
      ],
      "text/plain": [
       "         name               id chr      band  start_position\n",
       "51      BLVRB  ENSG00000090013  19   19q13.2      40447765.0\n",
       "68     TRIP10  ENSG00000125733  19   19p13.3       6737925.0\n",
       "96      FCGBP  ENSG00000275395  19   19q13.2      39863323.0\n",
       "113       ERF  ENSG00000105722  19   19q13.2      42247569.0\n",
       "152      GMFG  ENSG00000130755  19   19q13.2      39328353.0\n",
       "...       ...              ...  ..       ...             ...\n",
       "6367   MAP2K7  ENSG00000076984  19   19p13.2       7903843.0\n",
       "6391    GIPC1  ENSG00000123159  19  19p13.12      14477760.0\n",
       "6403     DNM2  ENSG00000079805  19   19p13.2      10718079.0\n",
       "6411     GYS1  ENSG00000104812  19  19q13.33      48968130.0\n",
       "6425  PLEKHG2  ENSG00000090924  19   19q13.2      39412669.0\n",
       "\n",
       "[540 rows x 5 columns]"
      ]
     },
     "metadata": {},
     "output_type": "display_data"
    }
   ],
   "source": [
    "chromosome_genes_info = genes_info[genes_info[\"chr\"] == chromosome]\n",
    "display(chromosome_genes_info)"
   ]
  },
  {
   "cell_type": "code",
   "execution_count": 24,
   "id": "d2e42726-7de6-46eb-acfc-6323eaa8fae6",
   "metadata": {
    "execution": {
     "iopub.execute_input": "2022-06-17T02:22:46.682482Z",
     "iopub.status.busy": "2022-06-17T02:22:46.681981Z",
     "iopub.status.idle": "2022-06-17T02:22:46.699548Z",
     "shell.execute_reply": "2022-06-17T02:22:46.698964Z"
    },
    "papermill": {
     "duration": 0.026515,
     "end_time": "2022-06-17T02:22:46.701027",
     "exception": false,
     "start_time": "2022-06-17T02:22:46.674512",
     "status": "completed"
    },
    "tags": []
   },
   "outputs": [
    {
     "data": {
      "text/plain": [
       "5"
      ]
     },
     "metadata": {},
     "output_type": "display_data"
    }
   ],
   "source": [
    "seed(0)\n",
    "_gene_list_ids = sample(chromosome_genes_info[\"id\"].tolist(), 5)\n",
    "selected_chromosome_genes_obj = [Gene(ensembl_id=g_id) for g_id in _gene_list_ids]\n",
    "display(len(selected_chromosome_genes_obj))"
   ]
  },
  {
   "cell_type": "code",
   "execution_count": 25,
   "id": "1b355359",
   "metadata": {
    "execution": {
     "iopub.execute_input": "2022-06-17T02:22:46.716534Z",
     "iopub.status.busy": "2022-06-17T02:22:46.716357Z",
     "iopub.status.idle": "2022-06-17T02:22:54.060915Z",
     "shell.execute_reply": "2022-06-17T02:22:54.060283Z"
    },
    "papermill": {
     "duration": 7.354193,
     "end_time": "2022-06-17T02:22:54.062660",
     "exception": false,
     "start_time": "2022-06-17T02:22:46.708467",
     "status": "completed"
    },
    "tags": []
   },
   "outputs": [
    {
     "name": "stdout",
     "output_type": "stream",
     "text": [
      "ZNF160 / PSENEN: 0.0\n",
      "ZNF160 / EBI3: 0.0\n",
      "ZNF160 / POLR2E: 0.0\n",
      "ZNF160 / CIRBP: 0.0\n",
      "PSENEN / EBI3: 0.0\n",
      "PSENEN / POLR2E: 0.0\n",
      "PSENEN / CIRBP: 0.0\n",
      "EBI3 / POLR2E: -0.001415677167233544\n",
      "EBI3 / CIRBP: 0.03325300996741984\n",
      "POLR2E / CIRBP: 0.039109166519103344\n"
     ]
    }
   ],
   "source": [
    "for gene_idx1 in range(0, len(selected_chromosome_genes_obj) - 1):\n",
    "    gene_obj1 = selected_chromosome_genes_obj[gene_idx1]\n",
    "\n",
    "    for gene_idx2 in range(gene_idx1 + 1, len(selected_chromosome_genes_obj)):\n",
    "        gene_obj2 = selected_chromosome_genes_obj[gene_idx2]\n",
    "\n",
    "        c = gene_obj1.get_ssm_correlation(\n",
    "            gene_obj2,\n",
    "        )\n",
    "\n",
    "        print(f\"{gene_obj1.name} / {gene_obj2.name}: {c}\")"
   ]
  },
  {
   "cell_type": "markdown",
   "id": "d3843e06",
   "metadata": {
    "papermill": {
     "duration": 0.007271,
     "end_time": "2022-06-17T02:22:54.077647",
     "exception": false,
     "start_time": "2022-06-17T02:22:54.070376",
     "status": "completed"
    },
    "tags": []
   },
   "source": [
    "# Compute correlation per chromosome"
   ]
  },
  {
   "cell_type": "code",
   "execution_count": 26,
   "id": "cb859c15-d1f3-4006-a74c-2b83c0db9611",
   "metadata": {
    "execution": {
     "iopub.execute_input": "2022-06-17T02:22:54.110230Z",
     "iopub.status.busy": "2022-06-17T02:22:54.110060Z",
     "iopub.status.idle": "2022-06-17T02:22:54.126913Z",
     "shell.execute_reply": "2022-06-17T02:22:54.126423Z"
    },
    "papermill": {
     "duration": 0.025981,
     "end_time": "2022-06-17T02:22:54.128307",
     "exception": false,
     "start_time": "2022-06-17T02:22:54.102326",
     "status": "completed"
    },
    "tags": []
   },
   "outputs": [
    {
     "data": {
      "text/plain": [
       "PosixPath('/opt/data/data/phenomexcan/ld_blocks/gene_corrs/gtex_v8/mashr/by_chr/gene_corrs-chr19.pkl')"
      ]
     },
     "metadata": {},
     "output_type": "display_data"
    }
   ],
   "source": [
    "output_dir = OUTPUT_DIR_BASE / \"by_chr\"\n",
    "output_dir.mkdir(exist_ok=True, parents=True)\n",
    "output_file = output_dir / f\"gene_corrs-chr{chromosome}.pkl\"\n",
    "display(output_file)"
   ]
  },
  {
   "cell_type": "code",
   "execution_count": 27,
   "id": "aa674fe4-6794-4eed-98fa-32b39d1d4ace",
   "metadata": {
    "execution": {
     "iopub.execute_input": "2022-06-17T02:22:54.151730Z",
     "iopub.status.busy": "2022-06-17T02:22:54.151556Z",
     "iopub.status.idle": "2022-06-17T02:22:54.167380Z",
     "shell.execute_reply": "2022-06-17T02:22:54.166798Z"
    },
    "papermill": {
     "duration": 0.033017,
     "end_time": "2022-06-17T02:22:54.168752",
     "exception": false,
     "start_time": "2022-06-17T02:22:54.135735",
     "status": "completed"
    },
    "tags": []
   },
   "outputs": [],
   "source": [
    "warnings.filterwarnings(\"error\")"
   ]
  },
  {
   "cell_type": "code",
   "execution_count": 28,
   "id": "cdbb90a1",
   "metadata": {
    "execution": {
     "iopub.execute_input": "2022-06-17T02:22:54.185395Z",
     "iopub.status.busy": "2022-06-17T02:22:54.185222Z",
     "iopub.status.idle": "2022-06-18T00:14:52.752932Z",
     "shell.execute_reply": "2022-06-18T00:14:52.752495Z"
    },
    "papermill": {
     "duration": 78724.642743,
     "end_time": "2022-06-18T00:14:58.818966",
     "exception": false,
     "start_time": "2022-06-17T02:22:54.176223",
     "status": "completed"
    },
    "tags": []
   },
   "outputs": [
    {
     "name": "stdout",
     "output_type": "stream",
     "text": [
      "Number of genes in chromosome: 540\n",
      "Number of gene combinations: 145530\n"
     ]
    },
    {
     "name": "stderr",
     "output_type": "stream",
     "text": [
      "ENSG00000130724 / ENSG00000130725: 100%|█████████████████| 145530/145530 [21:51:58<00:00,  1.85it/s]"
     ]
    },
    {
     "name": "stdout",
     "output_type": "stream",
     "text": [
      "Min/max values: -0.975986543849457 / 0.9892469693870115\n"
     ]
    },
    {
     "name": "stderr",
     "output_type": "stream",
     "text": [
      "\n"
     ]
    },
    {
     "data": {
      "text/plain": [
       "PosixPath('/opt/data/data/phenomexcan/ld_blocks/gene_corrs/gtex_v8/mashr/by_chr/gene_corrs-chr19.pkl')"
      ]
     },
     "metadata": {},
     "output_type": "display_data"
    }
   ],
   "source": [
    "# standard checks\n",
    "all_chrs = genes_info[\"chr\"].dropna().unique()\n",
    "assert all_chrs.shape[0] == 22\n",
    "\n",
    "# select chromosome given by the user\n",
    "assert chromosome in all_chrs\n",
    "\n",
    "# run only on the chromosome specified\n",
    "all_chrs = [chromosome]\n",
    "genes_chr = genes_info[genes_info[\"chr\"] == chromosome]\n",
    "\n",
    "# For testing purposes\n",
    "# genes_chr = genes_chr.sample(n=20)\n",
    "\n",
    "print(f\"Number of genes in chromosome: {genes_chr.shape[0]}\", flush=True)\n",
    "\n",
    "# sort genes by starting position to make visualizations better later\n",
    "genes_chr = genes_chr.sort_values(\"start_position\")\n",
    "\n",
    "gene_chr_objs = [Gene(ensembl_id=gene_id) for gene_id in genes_chr[\"id\"]]\n",
    "gene_chr_ids = [g.ensembl_id for g in gene_chr_objs]\n",
    "\n",
    "n = len(gene_chr_objs)\n",
    "n_comb = int(n * (n - 1) / 2.0)\n",
    "print(f\"Number of gene combinations: {n_comb}\", flush=True)\n",
    "\n",
    "gene_corrs = []\n",
    "\n",
    "pbar = tqdm(ncols=100, total=n_comb)\n",
    "i = 0\n",
    "for gene_idx1 in range(0, len(gene_chr_objs) - 1):\n",
    "    gene_obj1 = gene_chr_objs[gene_idx1]\n",
    "\n",
    "    for gene_idx2 in range(gene_idx1 + 1, len(gene_chr_objs)):\n",
    "        gene_obj2 = gene_chr_objs[gene_idx2]\n",
    "\n",
    "        pbar.set_description(f\"{gene_obj1.ensembl_id} / {gene_obj2.ensembl_id}\")\n",
    "\n",
    "        try:\n",
    "            # FIXME: compute the correlation of the sum of squares of the model using all\n",
    "            # the available tissues; this could be problematic because for some results\n",
    "            # (computed on a specific phenotype/GWAS) we might not have all the tissues\n",
    "            # available, which can certainly bias the correlation estimation.\n",
    "            # Since this depends on the GWAS on a specific phenotype, we should ideally have\n",
    "            # one correlation matrix per GWAS. I should look at how we can improve this.\n",
    "            gene_corrs.append(\n",
    "                gene_obj1.get_ssm_correlation(\n",
    "                    other_gene=gene_obj2,\n",
    "                    condition_number=SMULTIXCAN_CONDITION_NUMBER,\n",
    "                    reference_panel=REFERENCE_PANEL,\n",
    "                    model_type=EQTL_MODEL,\n",
    "                )\n",
    "            )\n",
    "        except Warning:\n",
    "            print(\n",
    "                f\"RuntimeWarning for genes {gene_obj1.ensembl_id} and {gene_obj2.ensembl_id}\",\n",
    "                flush=True,\n",
    "            )\n",
    "            import traceback\n",
    "\n",
    "            print(traceback.format_exc(), flush=True)\n",
    "        except Exception as e:\n",
    "            print(\n",
    "                f\"Exception for genes {gene_obj1.ensembl_id} and {gene_obj2.ensembl_id}\",\n",
    "                flush=True,\n",
    "            )\n",
    "            import traceback\n",
    "\n",
    "            print(traceback.format_exc(), flush=True)\n",
    "            gene_corrs.append(np.nan)\n",
    "\n",
    "        pbar.update(1)\n",
    "\n",
    "pbar.close()\n",
    "\n",
    "# testing\n",
    "gene_corrs_flat = pd.Series(gene_corrs)\n",
    "print(f\"Min/max values: {gene_corrs_flat.min()} / {gene_corrs_flat.max()}\")\n",
    "assert gene_corrs_flat.min() >= -1.001\n",
    "assert gene_corrs_flat.max() <= 1.001\n",
    "\n",
    "# save\n",
    "# FIXME: consider saving only the condenced matrix here. See here for\n",
    "# more details: https://github.com/greenelab/phenoplier/pull/38#discussion_r634600813\n",
    "gene_corrs_data = squareform(np.array(gene_corrs, dtype=np.float64))\n",
    "np.fill_diagonal(gene_corrs_data, 1.0)\n",
    "\n",
    "gene_corrs_df = pd.DataFrame(\n",
    "    data=gene_corrs_data,\n",
    "    index=gene_chr_ids,\n",
    "    columns=gene_chr_ids,\n",
    ")\n",
    "\n",
    "output_dir.mkdir(exist_ok=True, parents=True)\n",
    "display(output_file)\n",
    "\n",
    "gene_corrs_df.to_pickle(output_file)"
   ]
  },
  {
   "cell_type": "markdown",
   "id": "faa67b51-5373-470f-aa72-2ded53fa6dfe",
   "metadata": {
    "papermill": {
     "duration": 5.850575,
     "end_time": "2022-06-18T00:15:10.491018",
     "exception": false,
     "start_time": "2022-06-18T00:15:04.640443",
     "status": "completed"
    },
    "tags": []
   },
   "source": [
    "# Testing"
   ]
  },
  {
   "cell_type": "code",
   "execution_count": 29,
   "id": "14f7d046-4b55-4896-a56b-990127bcc388",
   "metadata": {
    "execution": {
     "iopub.execute_input": "2022-06-18T00:15:22.395716Z",
     "iopub.status.busy": "2022-06-18T00:15:22.395144Z",
     "iopub.status.idle": "2022-06-18T00:15:22.419032Z",
     "shell.execute_reply": "2022-06-18T00:15:22.418473Z"
    },
    "papermill": {
     "duration": 5.827368,
     "end_time": "2022-06-18T00:15:22.420425",
     "exception": false,
     "start_time": "2022-06-18T00:15:16.593057",
     "status": "completed"
    },
    "tags": []
   },
   "outputs": [
    {
     "data": {
      "text/plain": [
       "(540, 540)"
      ]
     },
     "execution_count": 29,
     "metadata": {},
     "output_type": "execute_result"
    }
   ],
   "source": [
    "gene_corrs_df.shape"
   ]
  },
  {
   "cell_type": "code",
   "execution_count": 30,
   "id": "c7d15414-3297-4537-a7c6-7588c0baeb75",
   "metadata": {
    "execution": {
     "iopub.execute_input": "2022-06-18T00:15:34.320238Z",
     "iopub.status.busy": "2022-06-18T00:15:34.319667Z",
     "iopub.status.idle": "2022-06-18T00:15:34.356524Z",
     "shell.execute_reply": "2022-06-18T00:15:34.355980Z"
    },
    "papermill": {
     "duration": 6.117555,
     "end_time": "2022-06-18T00:15:34.357763",
     "exception": false,
     "start_time": "2022-06-18T00:15:28.240208",
     "status": "completed"
    },
    "tags": []
   },
   "outputs": [
    {
     "data": {
      "text/html": [
       "<div>\n",
       "<style scoped>\n",
       "    .dataframe tbody tr th:only-of-type {\n",
       "        vertical-align: middle;\n",
       "    }\n",
       "\n",
       "    .dataframe tbody tr th {\n",
       "        vertical-align: top;\n",
       "    }\n",
       "\n",
       "    .dataframe thead th {\n",
       "        text-align: right;\n",
       "    }\n",
       "</style>\n",
       "<table border=\"1\" class=\"dataframe\">\n",
       "  <thead>\n",
       "    <tr style=\"text-align: right;\">\n",
       "      <th></th>\n",
       "      <th>ENSG00000129946</th>\n",
       "      <th>ENSG00000099866</th>\n",
       "      <th>ENSG00000099804</th>\n",
       "      <th>ENSG00000197540</th>\n",
       "      <th>ENSG00000172270</th>\n",
       "      <th>ENSG00000099822</th>\n",
       "      <th>ENSG00000099821</th>\n",
       "      <th>ENSG00000011304</th>\n",
       "      <th>ENSG00000172232</th>\n",
       "      <th>ENSG00000196415</th>\n",
       "      <th>...</th>\n",
       "      <th>ENSG00000171606</th>\n",
       "      <th>ENSG00000198131</th>\n",
       "      <th>ENSG00000083845</th>\n",
       "      <th>ENSG00000171574</th>\n",
       "      <th>ENSG00000083812</th>\n",
       "      <th>ENSG00000083838</th>\n",
       "      <th>ENSG00000083807</th>\n",
       "      <th>ENSG00000130726</th>\n",
       "      <th>ENSG00000130724</th>\n",
       "      <th>ENSG00000130725</th>\n",
       "    </tr>\n",
       "  </thead>\n",
       "  <tbody>\n",
       "    <tr>\n",
       "      <th>ENSG00000129946</th>\n",
       "      <td>1.000000</td>\n",
       "      <td>-0.016957</td>\n",
       "      <td>0.012666</td>\n",
       "      <td>0.070645</td>\n",
       "      <td>-0.007171</td>\n",
       "      <td>-0.005085</td>\n",
       "      <td>0.011618</td>\n",
       "      <td>-0.013305</td>\n",
       "      <td>-0.095554</td>\n",
       "      <td>0.094325</td>\n",
       "      <td>...</td>\n",
       "      <td>0.0</td>\n",
       "      <td>0.0</td>\n",
       "      <td>0.0</td>\n",
       "      <td>0.0</td>\n",
       "      <td>0.0</td>\n",
       "      <td>0.0</td>\n",
       "      <td>0.0</td>\n",
       "      <td>0.0</td>\n",
       "      <td>0.0</td>\n",
       "      <td>0.0</td>\n",
       "    </tr>\n",
       "    <tr>\n",
       "      <th>ENSG00000099866</th>\n",
       "      <td>-0.016957</td>\n",
       "      <td>1.000000</td>\n",
       "      <td>0.022873</td>\n",
       "      <td>-0.034854</td>\n",
       "      <td>-0.084173</td>\n",
       "      <td>0.015583</td>\n",
       "      <td>0.133820</td>\n",
       "      <td>0.065602</td>\n",
       "      <td>-0.045635</td>\n",
       "      <td>-0.017068</td>\n",
       "      <td>...</td>\n",
       "      <td>0.0</td>\n",
       "      <td>0.0</td>\n",
       "      <td>0.0</td>\n",
       "      <td>0.0</td>\n",
       "      <td>0.0</td>\n",
       "      <td>0.0</td>\n",
       "      <td>0.0</td>\n",
       "      <td>0.0</td>\n",
       "      <td>0.0</td>\n",
       "      <td>0.0</td>\n",
       "    </tr>\n",
       "    <tr>\n",
       "      <th>ENSG00000099804</th>\n",
       "      <td>0.012666</td>\n",
       "      <td>0.022873</td>\n",
       "      <td>1.000000</td>\n",
       "      <td>-0.028792</td>\n",
       "      <td>-0.217811</td>\n",
       "      <td>0.046367</td>\n",
       "      <td>0.026759</td>\n",
       "      <td>-0.019784</td>\n",
       "      <td>-0.040117</td>\n",
       "      <td>-0.115116</td>\n",
       "      <td>...</td>\n",
       "      <td>0.0</td>\n",
       "      <td>0.0</td>\n",
       "      <td>0.0</td>\n",
       "      <td>0.0</td>\n",
       "      <td>0.0</td>\n",
       "      <td>0.0</td>\n",
       "      <td>0.0</td>\n",
       "      <td>0.0</td>\n",
       "      <td>0.0</td>\n",
       "      <td>0.0</td>\n",
       "    </tr>\n",
       "    <tr>\n",
       "      <th>ENSG00000197540</th>\n",
       "      <td>0.070645</td>\n",
       "      <td>-0.034854</td>\n",
       "      <td>-0.028792</td>\n",
       "      <td>1.000000</td>\n",
       "      <td>0.077361</td>\n",
       "      <td>0.108568</td>\n",
       "      <td>-0.005330</td>\n",
       "      <td>0.026417</td>\n",
       "      <td>-0.039067</td>\n",
       "      <td>-0.021543</td>\n",
       "      <td>...</td>\n",
       "      <td>0.0</td>\n",
       "      <td>0.0</td>\n",
       "      <td>0.0</td>\n",
       "      <td>0.0</td>\n",
       "      <td>0.0</td>\n",
       "      <td>0.0</td>\n",
       "      <td>0.0</td>\n",
       "      <td>0.0</td>\n",
       "      <td>0.0</td>\n",
       "      <td>0.0</td>\n",
       "    </tr>\n",
       "    <tr>\n",
       "      <th>ENSG00000172270</th>\n",
       "      <td>-0.007171</td>\n",
       "      <td>-0.084173</td>\n",
       "      <td>-0.217811</td>\n",
       "      <td>0.077361</td>\n",
       "      <td>1.000000</td>\n",
       "      <td>-0.022704</td>\n",
       "      <td>0.023504</td>\n",
       "      <td>-0.061774</td>\n",
       "      <td>-0.047057</td>\n",
       "      <td>0.074313</td>\n",
       "      <td>...</td>\n",
       "      <td>0.0</td>\n",
       "      <td>0.0</td>\n",
       "      <td>0.0</td>\n",
       "      <td>0.0</td>\n",
       "      <td>0.0</td>\n",
       "      <td>0.0</td>\n",
       "      <td>0.0</td>\n",
       "      <td>0.0</td>\n",
       "      <td>0.0</td>\n",
       "      <td>0.0</td>\n",
       "    </tr>\n",
       "  </tbody>\n",
       "</table>\n",
       "<p>5 rows × 540 columns</p>\n",
       "</div>"
      ],
      "text/plain": [
       "                 ENSG00000129946  ENSG00000099866  ENSG00000099804  \\\n",
       "ENSG00000129946         1.000000        -0.016957         0.012666   \n",
       "ENSG00000099866        -0.016957         1.000000         0.022873   \n",
       "ENSG00000099804         0.012666         0.022873         1.000000   \n",
       "ENSG00000197540         0.070645        -0.034854        -0.028792   \n",
       "ENSG00000172270        -0.007171        -0.084173        -0.217811   \n",
       "\n",
       "                 ENSG00000197540  ENSG00000172270  ENSG00000099822  \\\n",
       "ENSG00000129946         0.070645        -0.007171        -0.005085   \n",
       "ENSG00000099866        -0.034854        -0.084173         0.015583   \n",
       "ENSG00000099804        -0.028792        -0.217811         0.046367   \n",
       "ENSG00000197540         1.000000         0.077361         0.108568   \n",
       "ENSG00000172270         0.077361         1.000000        -0.022704   \n",
       "\n",
       "                 ENSG00000099821  ENSG00000011304  ENSG00000172232  \\\n",
       "ENSG00000129946         0.011618        -0.013305        -0.095554   \n",
       "ENSG00000099866         0.133820         0.065602        -0.045635   \n",
       "ENSG00000099804         0.026759        -0.019784        -0.040117   \n",
       "ENSG00000197540        -0.005330         0.026417        -0.039067   \n",
       "ENSG00000172270         0.023504        -0.061774        -0.047057   \n",
       "\n",
       "                 ENSG00000196415  ...  ENSG00000171606  ENSG00000198131  \\\n",
       "ENSG00000129946         0.094325  ...              0.0              0.0   \n",
       "ENSG00000099866        -0.017068  ...              0.0              0.0   \n",
       "ENSG00000099804        -0.115116  ...              0.0              0.0   \n",
       "ENSG00000197540        -0.021543  ...              0.0              0.0   \n",
       "ENSG00000172270         0.074313  ...              0.0              0.0   \n",
       "\n",
       "                 ENSG00000083845  ENSG00000171574  ENSG00000083812  \\\n",
       "ENSG00000129946              0.0              0.0              0.0   \n",
       "ENSG00000099866              0.0              0.0              0.0   \n",
       "ENSG00000099804              0.0              0.0              0.0   \n",
       "ENSG00000197540              0.0              0.0              0.0   \n",
       "ENSG00000172270              0.0              0.0              0.0   \n",
       "\n",
       "                 ENSG00000083838  ENSG00000083807  ENSG00000130726  \\\n",
       "ENSG00000129946              0.0              0.0              0.0   \n",
       "ENSG00000099866              0.0              0.0              0.0   \n",
       "ENSG00000099804              0.0              0.0              0.0   \n",
       "ENSG00000197540              0.0              0.0              0.0   \n",
       "ENSG00000172270              0.0              0.0              0.0   \n",
       "\n",
       "                 ENSG00000130724  ENSG00000130725  \n",
       "ENSG00000129946              0.0              0.0  \n",
       "ENSG00000099866              0.0              0.0  \n",
       "ENSG00000099804              0.0              0.0  \n",
       "ENSG00000197540              0.0              0.0  \n",
       "ENSG00000172270              0.0              0.0  \n",
       "\n",
       "[5 rows x 540 columns]"
      ]
     },
     "execution_count": 30,
     "metadata": {},
     "output_type": "execute_result"
    }
   ],
   "source": [
    "gene_corrs_df.head()"
   ]
  },
  {
   "cell_type": "code",
   "execution_count": 31,
   "id": "00583efc-7068-4270-ad1e-4a418e91db96",
   "metadata": {
    "execution": {
     "iopub.execute_input": "2022-06-18T00:15:45.907727Z",
     "iopub.status.busy": "2022-06-18T00:15:45.907158Z",
     "iopub.status.idle": "2022-06-18T00:15:45.933519Z",
     "shell.execute_reply": "2022-06-18T00:15:45.932973Z"
    },
    "papermill": {
     "duration": 5.812774,
     "end_time": "2022-06-18T00:15:45.934860",
     "exception": false,
     "start_time": "2022-06-18T00:15:40.122086",
     "status": "completed"
    },
    "tags": []
   },
   "outputs": [
    {
     "data": {
      "text/plain": [
       "-0.975986543849457"
      ]
     },
     "metadata": {},
     "output_type": "display_data"
    }
   ],
   "source": [
    "_min_val = gene_corrs_df.min().min()\n",
    "display(_min_val)\n",
    "assert _min_val >= -1.0"
   ]
  },
  {
   "cell_type": "code",
   "execution_count": 32,
   "id": "d04fb2cf-1050-475b-b855-f5f7cc04092b",
   "metadata": {
    "execution": {
     "iopub.execute_input": "2022-06-18T00:15:57.818113Z",
     "iopub.status.busy": "2022-06-18T00:15:57.817542Z",
     "iopub.status.idle": "2022-06-18T00:15:57.839976Z",
     "shell.execute_reply": "2022-06-18T00:15:57.839404Z"
    },
    "papermill": {
     "duration": 6.095208,
     "end_time": "2022-06-18T00:15:57.841324",
     "exception": false,
     "start_time": "2022-06-18T00:15:51.746116",
     "status": "completed"
    },
    "tags": []
   },
   "outputs": [
    {
     "data": {
      "text/plain": [
       "1.0"
      ]
     },
     "metadata": {},
     "output_type": "display_data"
    }
   ],
   "source": [
    "_max_val = gene_corrs_df.max().max()  # this captures the diagonal\n",
    "display(_max_val)\n",
    "assert _max_val <= 1.0"
   ]
  },
  {
   "cell_type": "code",
   "execution_count": 33,
   "id": "96d02c44-1fba-47be-8a93-8f2608420b9c",
   "metadata": {
    "execution": {
     "iopub.execute_input": "2022-06-18T00:16:09.699345Z",
     "iopub.status.busy": "2022-06-18T00:16:09.698781Z",
     "iopub.status.idle": "2022-06-18T00:16:09.722612Z",
     "shell.execute_reply": "2022-06-18T00:16:09.722061Z"
    },
    "papermill": {
     "duration": 6.070789,
     "end_time": "2022-06-18T00:16:09.723949",
     "exception": false,
     "start_time": "2022-06-18T00:16:03.653160",
     "status": "completed"
    },
    "tags": []
   },
   "outputs": [],
   "source": [
    "# check upper triangular values\n",
    "assert len(gene_corrs) == int(genes_chr.shape[0] * (genes_chr.shape[0] - 1) / 2)"
   ]
  },
  {
   "cell_type": "code",
   "execution_count": 34,
   "id": "aaa51627-f4e3-4744-a41f-7d25adcc0a78",
   "metadata": {
    "execution": {
     "iopub.execute_input": "2022-06-18T00:16:21.668889Z",
     "iopub.status.busy": "2022-06-18T00:16:21.668323Z",
     "iopub.status.idle": "2022-06-18T00:16:21.707514Z",
     "shell.execute_reply": "2022-06-18T00:16:21.706872Z"
    },
    "papermill": {
     "duration": 6.139747,
     "end_time": "2022-06-18T00:16:21.708983",
     "exception": false,
     "start_time": "2022-06-18T00:16:15.569236",
     "status": "completed"
    },
    "tags": []
   },
   "outputs": [],
   "source": [
    "gene_corrs = pd.Series(gene_corrs)"
   ]
  },
  {
   "cell_type": "code",
   "execution_count": 35,
   "id": "fe283586-c348-40e0-8841-f6d97bfb021c",
   "metadata": {
    "execution": {
     "iopub.execute_input": "2022-06-18T00:16:33.298509Z",
     "iopub.status.busy": "2022-06-18T00:16:33.297938Z",
     "iopub.status.idle": "2022-06-18T00:16:33.328077Z",
     "shell.execute_reply": "2022-06-18T00:16:33.327542Z"
    },
    "papermill": {
     "duration": 5.833628,
     "end_time": "2022-06-18T00:16:33.329409",
     "exception": false,
     "start_time": "2022-06-18T00:16:27.495781",
     "status": "completed"
    },
    "tags": []
   },
   "outputs": [
    {
     "data": {
      "text/plain": [
       "count    145530.000000\n",
       "mean          0.000364\n",
       "std           0.064803\n",
       "min          -0.975987\n",
       "25%           0.000000\n",
       "50%           0.000000\n",
       "75%           0.000000\n",
       "max           0.989247\n",
       "dtype: float64"
      ]
     },
     "execution_count": 35,
     "metadata": {},
     "output_type": "execute_result"
    }
   ],
   "source": [
    "gene_corrs.describe()"
   ]
  },
  {
   "cell_type": "code",
   "execution_count": 36,
   "id": "b3815678-0f93-4b35-897b-a9d047a2aa78",
   "metadata": {
    "execution": {
     "iopub.execute_input": "2022-06-18T00:16:45.167169Z",
     "iopub.status.busy": "2022-06-18T00:16:45.166599Z",
     "iopub.status.idle": "2022-06-18T00:16:45.191512Z",
     "shell.execute_reply": "2022-06-18T00:16:45.190850Z"
    },
    "papermill": {
     "duration": 5.834494,
     "end_time": "2022-06-18T00:16:45.192941",
     "exception": false,
     "start_time": "2022-06-18T00:16:39.358447",
     "status": "completed"
    },
    "tags": []
   },
   "outputs": [
    {
     "data": {
      "text/plain": [
       "0.00   -0.975987\n",
       "0.05   -0.068927\n",
       "0.10    0.000000\n",
       "0.15    0.000000\n",
       "0.20    0.000000\n",
       "0.25    0.000000\n",
       "0.30    0.000000\n",
       "0.35    0.000000\n",
       "0.40    0.000000\n",
       "0.45    0.000000\n",
       "0.50    0.000000\n",
       "0.55    0.000000\n",
       "0.60    0.000000\n",
       "0.65    0.000000\n",
       "0.70    0.000000\n",
       "0.75    0.000000\n",
       "0.80    0.000000\n",
       "0.85    0.000000\n",
       "0.90    0.000000\n",
       "0.95    0.071651\n",
       "dtype: float64"
      ]
     },
     "metadata": {},
     "output_type": "display_data"
    }
   ],
   "source": [
    "gene_corrs_quantiles = gene_corrs.quantile(np.arange(0, 1, 0.05))\n",
    "display(gene_corrs_quantiles)"
   ]
  },
  {
   "cell_type": "markdown",
   "id": "8e60a080-edb2-4e9c-b2ef-22961693200c",
   "metadata": {
    "papermill": {
     "duration": 5.800977,
     "end_time": "2022-06-18T00:16:56.974339",
     "exception": false,
     "start_time": "2022-06-18T00:16:51.173362",
     "status": "completed"
    },
    "tags": []
   },
   "source": [
    "## Plot: distribution"
   ]
  },
  {
   "cell_type": "code",
   "execution_count": 37,
   "id": "8301126b-a7d4-4744-9c7d-f0f86eb6f54c",
   "metadata": {
    "execution": {
     "iopub.execute_input": "2022-06-18T00:17:08.949565Z",
     "iopub.status.busy": "2022-06-18T00:17:08.948964Z",
     "iopub.status.idle": "2022-06-18T00:17:09.600013Z",
     "shell.execute_reply": "2022-06-18T00:17:09.599373Z"
    },
    "papermill": {
     "duration": 6.542053,
     "end_time": "2022-06-18T00:17:09.601430",
     "exception": false,
     "start_time": "2022-06-18T00:17:03.059377",
     "status": "completed"
    },
    "tags": []
   },
   "outputs": [
    {
     "data": {
      "image/png": "[encoded data removed]",
      "text/plain": [
       "<Figure size 504x504 with 1 Axes>"
      ]
     },
     "metadata": {
      "needs_background": "light"
     },
     "output_type": "display_data"
    }
   ],
   "source": [
    "with sns.plotting_context(\"paper\", font_scale=1.5):\n",
    "    g = sns.displot(gene_corrs, kde=True, height=7)\n",
    "    g.ax.set_title(\n",
    "        f\"Distribution of gene correlation values in chromosome {chromosome}\"\n",
    "    )"
   ]
  },
  {
   "cell_type": "markdown",
   "id": "cbd52bca-d878-4a2f-b684-5c83aa3038d4",
   "metadata": {
    "papermill": {
     "duration": 6.034407,
     "end_time": "2022-06-18T00:17:21.425990",
     "exception": false,
     "start_time": "2022-06-18T00:17:15.391583",
     "status": "completed"
    },
    "tags": []
   },
   "source": [
    "## Plot: heatmap"
   ]
  },
  {
   "cell_type": "code",
   "execution_count": 38,
   "id": "d03fe63a-c7b2-4fb9-a53c-db362ce843c9",
   "metadata": {
    "execution": {
     "iopub.execute_input": "2022-06-18T00:17:33.279263Z",
     "iopub.status.busy": "2022-06-18T00:17:33.278685Z",
     "iopub.status.idle": "2022-06-18T00:17:33.298926Z",
     "shell.execute_reply": "2022-06-18T00:17:33.298384Z"
    },
    "papermill": {
     "duration": 6.071754,
     "end_time": "2022-06-18T00:17:33.300332",
     "exception": false,
     "start_time": "2022-06-18T00:17:27.228578",
     "status": "completed"
    },
    "tags": []
   },
   "outputs": [
    {
     "data": {
      "text/plain": [
       "'-0.05 / 0.05'"
      ]
     },
     "metadata": {},
     "output_type": "display_data"
    }
   ],
   "source": [
    "vmin_val = min(-0.05, gene_corrs_quantiles[0.10])\n",
    "vmax_val = max(0.05, gene_corrs_quantiles[0.90])\n",
    "display(f\"{vmin_val} / {vmax_val}\")"
   ]
  },
  {
   "cell_type": "code",
   "execution_count": 39,
   "id": "dc41b70b-5bcc-4d9e-9f33-a22c4a94dab5",
   "metadata": {
    "execution": {
     "iopub.execute_input": "2022-06-18T00:17:45.186251Z",
     "iopub.status.busy": "2022-06-18T00:17:45.185686Z",
     "iopub.status.idle": "2022-06-18T00:17:45.535922Z",
     "shell.execute_reply": "2022-06-18T00:17:45.534928Z"
    },
    "papermill": {
     "duration": 6.426407,
     "end_time": "2022-06-18T00:17:45.539115",
     "exception": false,
     "start_time": "2022-06-18T00:17:39.112708",
     "status": "completed"
    },
    "tags": []
   },
   "outputs": [
    {
     "data": {
      "text/plain": [
       "Text(0.5, 1.0, 'Gene correlations in chromosome 19')"
      ]
     },
     "execution_count": 39,
     "metadata": {},
     "output_type": "execute_result"
    },
    {
     "data": {
      "image/png": "[encoded data removed]",
      "text/plain": [
       "<Figure size 720x720 with 2 Axes>"
      ]
     },
     "metadata": {
      "needs_background": "light"
     },
     "output_type": "display_data"
    }
   ],
   "source": [
    "f, ax = plt.subplots(figsize=(10, 10))\n",
    "sns.heatmap(\n",
    "    gene_corrs_df,\n",
    "    xticklabels=False,\n",
    "    yticklabels=False,\n",
    "    square=True,\n",
    "    vmin=vmin_val,\n",
    "    vmax=vmax_val,\n",
    "    cmap=\"YlGnBu\",\n",
    "    ax=ax,\n",
    ")\n",
    "ax.set_title(f\"Gene correlations in chromosome {chromosome}\")"
   ]
  },
  {
   "cell_type": "code",
   "execution_count": null,
   "id": "b25e3ead",
   "metadata": {
    "papermill": {
     "duration": 6.110912,
     "end_time": "2022-06-18T00:17:57.462336",
     "exception": false,
     "start_time": "2022-06-18T00:17:51.351424",
     "status": "completed"
    },
    "tags": []
   },
   "outputs": [],
   "source": []
  }
 ],
 "metadata": {
  "jupytext": {
   "cell_metadata_filter": "all,-execution,-papermill,-trusted",
   "formats": "ipynb,py//py:percent"
  },
  "kernelspec": {
   "display_name": "Python 3 (ipykernel)",
   "language": "python",
   "name": "python3"
  },
  "language_info": {
   "codemirror_mode": {
    "name": "ipython",
    "version": 3
   },
   "file_extension": ".py",
   "mimetype": "text/x-python",
   "name": "python",
   "nbconvert_exporter": "python",
   "pygments_lexer": "ipython3",
   "version": "3.8.13"
  },
  "papermill": {
   "default_parameters": {},
   "duration": 78924.736754,
   "end_time": "2022-06-18T00:18:06.072970",
   "environment_variables": {},
   "exception": null,
   "input_path": "nbs/15_gsa_gls/10-gene_expr_correlations.ipynb",
   "output_path": "nbs/15_gsa_gls/gene_corrs/gtex_v8/mashr/10-gene_expr_correlations-chr19.run.ipynb",
   "parameters": {
    "EQTL_MODEL": "MASHR",
    "REFERENCE_PANEL": "GTEX_V8",
    "chromosome": 19
   },
   "start_time": "2022-06-17T02:22:41.336216",
   "version": "2.2.2"
  }
 },
 "nbformat": 4,
 "nbformat_minor": 5
}
