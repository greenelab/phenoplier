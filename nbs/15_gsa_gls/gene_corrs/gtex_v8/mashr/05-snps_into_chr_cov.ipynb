{
 "cells": [
  {
   "cell_type": "markdown",
   "id": "d88b3ffc",
   "metadata": {
    "papermill": {
     "duration": 0.032656,
     "end_time": "2022-07-09T09:54:49.536133",
     "exception": false,
     "start_time": "2022-07-09T09:54:49.503477",
     "status": "completed"
    },
    "tags": []
   },
   "source": [
    "# Description"
   ]
  },
  {
   "cell_type": "markdown",
   "id": "69f66c44",
   "metadata": {
    "papermill": {
     "duration": 0.010046,
     "end_time": "2022-07-09T09:54:49.559988",
     "exception": false,
     "start_time": "2022-07-09T09:54:49.549942",
     "status": "completed"
    },
    "tags": []
   },
   "source": [
    "(Please, take a look at the README.md file in this directory for instructions on how to run this notebook)\n",
    "\n",
    "This notebook computes the covariance of SNPs for each chr."
   ]
  },
  {
   "cell_type": "markdown",
   "id": "0cb79cbe",
   "metadata": {
    "papermill": {
     "duration": 0.008228,
     "end_time": "2022-07-09T09:54:49.575954",
     "exception": false,
     "start_time": "2022-07-09T09:54:49.567726",
     "status": "completed"
    },
    "tags": []
   },
   "source": [
    "# Modules"
   ]
  },
  {
   "cell_type": "code",
   "execution_count": 1,
   "id": "0a4272be",
   "metadata": {
    "execution": {
     "iopub.execute_input": "2022-07-09T09:54:49.622313Z",
     "iopub.status.busy": "2022-07-09T09:54:49.622094Z",
     "iopub.status.idle": "2022-07-09T09:54:49.638627Z",
     "shell.execute_reply": "2022-07-09T09:54:49.638107Z"
    },
    "papermill": {
     "duration": 0.028764,
     "end_time": "2022-07-09T09:54:49.640249",
     "exception": false,
     "start_time": "2022-07-09T09:54:49.611485",
     "status": "completed"
    },
    "tags": []
   },
   "outputs": [],
   "source": [
    "%load_ext autoreload\n",
    "%autoreload 2"
   ]
  },
  {
   "cell_type": "code",
   "execution_count": 2,
   "id": "4141c781",
   "metadata": {
    "execution": {
     "iopub.execute_input": "2022-07-09T09:54:49.660076Z",
     "iopub.status.busy": "2022-07-09T09:54:49.659900Z",
     "iopub.status.idle": "2022-07-09T09:54:50.133158Z",
     "shell.execute_reply": "2022-07-09T09:54:50.132611Z"
    },
    "papermill": {
     "duration": 0.484636,
     "end_time": "2022-07-09T09:54:50.134505",
     "exception": false,
     "start_time": "2022-07-09T09:54:49.649869",
     "status": "completed"
    },
    "tags": []
   },
   "outputs": [],
   "source": [
    "import gc\n",
    "import sqlite3\n",
    "from pathlib import Path\n",
    "\n",
    "import numpy as np\n",
    "import pandas as pd\n",
    "from tqdm import tqdm\n",
    "\n",
    "import conf\n",
    "from entity import Gene"
   ]
  },
  {
   "cell_type": "markdown",
   "id": "37055abe",
   "metadata": {
    "papermill": {
     "duration": 0.008058,
     "end_time": "2022-07-09T09:54:50.151223",
     "exception": false,
     "start_time": "2022-07-09T09:54:50.143165",
     "status": "completed"
    },
    "tags": []
   },
   "source": [
    "# Settings"
   ]
  },
  {
   "cell_type": "code",
   "execution_count": 3,
   "id": "ac93914d",
   "metadata": {
    "execution": {
     "iopub.execute_input": "2022-07-09T09:54:50.168066Z",
     "iopub.status.busy": "2022-07-09T09:54:50.167878Z",
     "iopub.status.idle": "2022-07-09T09:54:50.180054Z",
     "shell.execute_reply": "2022-07-09T09:54:50.179568Z"
    },
    "papermill": {
     "duration": 0.022465,
     "end_time": "2022-07-09T09:54:50.181571",
     "exception": false,
     "start_time": "2022-07-09T09:54:50.159106",
     "status": "completed"
    },
    "tags": [
     "parameters"
    ]
   },
   "outputs": [],
   "source": [
    "# reference panel\n",
    "REFERENCE_PANEL = \"GTEX_V8\"\n",
    "# REFERENCE_PANEL = \"1000G\"\n",
    "\n",
    "# prediction models\n",
    "## mashr\n",
    "EQTL_MODEL = \"MASHR\"\n",
    "EQTL_MODEL_FILES_PREFIX = \"mashr_\"\n",
    "\n",
    "# ## elastic net\n",
    "# EQTL_MODEL = \"ELASTIC_NET\"\n",
    "# EQTL_MODEL_FILES_PREFIX = \"en_\"\n",
    "\n",
    "# make it read the prefix from conf.py\n",
    "EQTL_MODEL_FILES_PREFIX = None\n",
    "\n",
    "# the numpy dtype used for the covariance matrix\n",
    "#  either float64 or float32 (for huge matrices)\n",
    "COVARIANCE_MATRIX_DTYPE = None"
   ]
  },
  {
   "cell_type": "code",
   "execution_count": 4,
   "id": "42987bc6",
   "metadata": {
    "execution": {
     "iopub.execute_input": "2022-07-09T09:54:50.198326Z",
     "iopub.status.busy": "2022-07-09T09:54:50.198170Z",
     "iopub.status.idle": "2022-07-09T09:54:50.209511Z",
     "shell.execute_reply": "2022-07-09T09:54:50.209028Z"
    },
    "papermill": {
     "duration": 0.021131,
     "end_time": "2022-07-09T09:54:50.210743",
     "exception": false,
     "start_time": "2022-07-09T09:54:50.189612",
     "status": "completed"
    },
    "tags": [
     "injected-parameters"
    ]
   },
   "outputs": [],
   "source": [
    "# Parameters\n",
    "REFERENCE_PANEL = \"GTEX_V8\"\n",
    "EQTL_MODEL = \"MASHR\"\n"
   ]
  },
  {
   "cell_type": "code",
   "execution_count": 5,
   "id": "455c2e55",
   "metadata": {
    "execution": {
     "iopub.execute_input": "2022-07-09T09:54:50.227721Z",
     "iopub.status.busy": "2022-07-09T09:54:50.227512Z",
     "iopub.status.idle": "2022-07-09T09:54:50.239334Z",
     "shell.execute_reply": "2022-07-09T09:54:50.238812Z"
    },
    "papermill": {
     "duration": 0.021732,
     "end_time": "2022-07-09T09:54:50.240732",
     "exception": false,
     "start_time": "2022-07-09T09:54:50.219000",
     "status": "completed"
    },
    "tags": []
   },
   "outputs": [],
   "source": [
    "if EQTL_MODEL_FILES_PREFIX is None:\n",
    "    EQTL_MODEL_FILES_PREFIX = conf.PHENOMEXCAN[\"PREDICTION_MODELS\"][\n",
    "        f\"{EQTL_MODEL}_PREFIX\"\n",
    "    ]"
   ]
  },
  {
   "cell_type": "code",
   "execution_count": 6,
   "id": "ebd7a49b-8062-4c37-b571-efb5c4689adc",
   "metadata": {
    "execution": {
     "iopub.execute_input": "2022-07-09T09:54:50.258633Z",
     "iopub.status.busy": "2022-07-09T09:54:50.258467Z",
     "iopub.status.idle": "2022-07-09T09:54:50.275702Z",
     "shell.execute_reply": "2022-07-09T09:54:50.275205Z"
    },
    "papermill": {
     "duration": 0.02773,
     "end_time": "2022-07-09T09:54:50.277012",
     "exception": false,
     "start_time": "2022-07-09T09:54:50.249282",
     "status": "completed"
    },
    "tags": []
   },
   "outputs": [
    {
     "data": {
      "text/plain": [
       "'Using eQTL model: MASHR / mashr_'"
      ]
     },
     "metadata": {},
     "output_type": "display_data"
    }
   ],
   "source": [
    "display(f\"Using eQTL model: {EQTL_MODEL} / {EQTL_MODEL_FILES_PREFIX}\")"
   ]
  },
  {
   "cell_type": "code",
   "execution_count": 7,
   "id": "32bd0019-14eb-4645-8a7f-98bdcf11e04a",
   "metadata": {
    "execution": {
     "iopub.execute_input": "2022-07-09T09:54:50.294932Z",
     "iopub.status.busy": "2022-07-09T09:54:50.294759Z",
     "iopub.status.idle": "2022-07-09T09:54:50.306531Z",
     "shell.execute_reply": "2022-07-09T09:54:50.306027Z"
    },
    "papermill": {
     "duration": 0.022221,
     "end_time": "2022-07-09T09:54:50.307877",
     "exception": false,
     "start_time": "2022-07-09T09:54:50.285656",
     "status": "completed"
    },
    "tags": []
   },
   "outputs": [],
   "source": [
    "REFERENCE_PANEL_DIR = conf.PHENOMEXCAN[\"LD_BLOCKS\"][f\"{REFERENCE_PANEL}_GENOTYPE_DIR\"]"
   ]
  },
  {
   "cell_type": "code",
   "execution_count": 8,
   "id": "a2ea1be5",
   "metadata": {
    "execution": {
     "iopub.execute_input": "2022-07-09T09:54:50.325750Z",
     "iopub.status.busy": "2022-07-09T09:54:50.325585Z",
     "iopub.status.idle": "2022-07-09T09:54:50.338526Z",
     "shell.execute_reply": "2022-07-09T09:54:50.338008Z"
    },
    "papermill": {
     "duration": 0.023362,
     "end_time": "2022-07-09T09:54:50.339832",
     "exception": false,
     "start_time": "2022-07-09T09:54:50.316470",
     "status": "completed"
    },
    "tags": []
   },
   "outputs": [
    {
     "data": {
      "text/plain": [
       "'Using reference panel folder: /opt/data/data/phenomexcan/ld_blocks/reference_panel_gtex_v8'"
      ]
     },
     "metadata": {},
     "output_type": "display_data"
    }
   ],
   "source": [
    "display(f\"Using reference panel folder: {str(REFERENCE_PANEL_DIR)}\")"
   ]
  },
  {
   "cell_type": "code",
   "execution_count": 9,
   "id": "e9bac058-9add-44c1-897d-09200964448c",
   "metadata": {
    "execution": {
     "iopub.execute_input": "2022-07-09T09:54:50.358024Z",
     "iopub.status.busy": "2022-07-09T09:54:50.357855Z",
     "iopub.status.idle": "2022-07-09T09:54:50.370293Z",
     "shell.execute_reply": "2022-07-09T09:54:50.369750Z"
    },
    "papermill": {
     "duration": 0.023136,
     "end_time": "2022-07-09T09:54:50.371698",
     "exception": false,
     "start_time": "2022-07-09T09:54:50.348562",
     "status": "completed"
    },
    "tags": []
   },
   "outputs": [],
   "source": [
    "OUTPUT_DIR_BASE = (\n",
    "    conf.PHENOMEXCAN[\"LD_BLOCKS\"][f\"GENE_CORRS_DIR\"]\n",
    "    / REFERENCE_PANEL.lower()\n",
    "    / EQTL_MODEL.lower()\n",
    ")\n",
    "OUTPUT_DIR_BASE.mkdir(parents=True, exist_ok=True)"
   ]
  },
  {
   "cell_type": "code",
   "execution_count": 10,
   "id": "09a8d5b0-82d8-4f5d-97f4-6910301cba8b",
   "metadata": {
    "execution": {
     "iopub.execute_input": "2022-07-09T09:54:50.389891Z",
     "iopub.status.busy": "2022-07-09T09:54:50.389725Z",
     "iopub.status.idle": "2022-07-09T09:54:50.402225Z",
     "shell.execute_reply": "2022-07-09T09:54:50.401683Z"
    },
    "papermill": {
     "duration": 0.023017,
     "end_time": "2022-07-09T09:54:50.403468",
     "exception": false,
     "start_time": "2022-07-09T09:54:50.380451",
     "status": "completed"
    },
    "tags": []
   },
   "outputs": [
    {
     "data": {
      "text/plain": [
       "'Using output dir base: /opt/data/data/phenomexcan/ld_blocks/gene_corrs/gtex_v8/mashr'"
      ]
     },
     "metadata": {},
     "output_type": "display_data"
    }
   ],
   "source": [
    "display(f\"Using output dir base: {OUTPUT_DIR_BASE}\")"
   ]
  },
  {
   "cell_type": "code",
   "execution_count": 11,
   "id": "c264a67f",
   "metadata": {
    "execution": {
     "iopub.execute_input": "2022-07-09T09:54:50.421812Z",
     "iopub.status.busy": "2022-07-09T09:54:50.421643Z",
     "iopub.status.idle": "2022-07-09T09:54:50.434720Z",
     "shell.execute_reply": "2022-07-09T09:54:50.434206Z"
    },
    "papermill": {
     "duration": 0.023741,
     "end_time": "2022-07-09T09:54:50.435976",
     "exception": false,
     "start_time": "2022-07-09T09:54:50.412235",
     "status": "completed"
    },
    "tags": []
   },
   "outputs": [
    {
     "data": {
      "text/plain": [
       "\"Covariance matrix dtype used: <class 'numpy.float64'>\""
      ]
     },
     "metadata": {},
     "output_type": "display_data"
    }
   ],
   "source": [
    "cov_dtype_dict = {\n",
    "    \"float32\": np.float32,\n",
    "    \"float64\": np.float64,\n",
    "}\n",
    "\n",
    "if COVARIANCE_MATRIX_DTYPE in cov_dtype_dict:\n",
    "    COV_DTYPE = cov_dtype_dict[COVARIANCE_MATRIX_DTYPE]\n",
    "else:\n",
    "    COV_DTYPE = np.float64\n",
    "\n",
    "display(f\"Covariance matrix dtype used: {str(COV_DTYPE)}\")"
   ]
  },
  {
   "cell_type": "markdown",
   "id": "37dfafb8",
   "metadata": {
    "papermill": {
     "duration": 0.008024,
     "end_time": "2022-07-09T09:54:50.452576",
     "exception": false,
     "start_time": "2022-07-09T09:54:50.444552",
     "status": "completed"
    },
    "tags": []
   },
   "source": [
    "# Load data"
   ]
  },
  {
   "cell_type": "markdown",
   "id": "c6f55abd",
   "metadata": {
    "papermill": {
     "duration": 0.008595,
     "end_time": "2022-07-09T09:54:50.469153",
     "exception": false,
     "start_time": "2022-07-09T09:54:50.460558",
     "status": "completed"
    },
    "tags": []
   },
   "source": [
    "## Functions"
   ]
  },
  {
   "cell_type": "code",
   "execution_count": 12,
   "id": "5d1731cc-7c43-4dbe-bea5-88a9ecfc58f8",
   "metadata": {
    "execution": {
     "iopub.execute_input": "2022-07-09T09:54:50.487293Z",
     "iopub.status.busy": "2022-07-09T09:54:50.486712Z",
     "iopub.status.idle": "2022-07-09T09:54:50.499130Z",
     "shell.execute_reply": "2022-07-09T09:54:50.498630Z"
    },
    "papermill": {
     "duration": 0.022797,
     "end_time": "2022-07-09T09:54:50.500440",
     "exception": false,
     "start_time": "2022-07-09T09:54:50.477643",
     "status": "completed"
    },
    "tags": []
   },
   "outputs": [],
   "source": [
    "def get_reference_panel_file(directory: Path, file_pattern: str) -> Path:\n",
    "    files = list(directory.glob(f\"*{file_pattern}*.parquet\"))\n",
    "    assert len(files) == 1, f\"More than one file was found: {files}\"\n",
    "    return files[0]"
   ]
  },
  {
   "cell_type": "code",
   "execution_count": 13,
   "id": "5b460090-39d3-40da-a06a-8ccc039e748c",
   "metadata": {
    "execution": {
     "iopub.execute_input": "2022-07-09T09:54:50.518356Z",
     "iopub.status.busy": "2022-07-09T09:54:50.518166Z",
     "iopub.status.idle": "2022-07-09T09:54:50.534004Z",
     "shell.execute_reply": "2022-07-09T09:54:50.533379Z"
    },
    "papermill": {
     "duration": 0.026464,
     "end_time": "2022-07-09T09:54:50.535455",
     "exception": false,
     "start_time": "2022-07-09T09:54:50.508991",
     "status": "completed"
    },
    "tags": []
   },
   "outputs": [],
   "source": [
    "# testing\n",
    "_tmp = get_reference_panel_file(\n",
    "    conf.PHENOMEXCAN[\"LD_BLOCKS\"][\"GTEX_V8_GENOTYPE_DIR\"], \"chr1.variants\"\n",
    ")\n",
    "assert _tmp is not None\n",
    "assert (\n",
    "    _tmp.name\n",
    "    == \"gtex_v8_eur_filtered_maf0.01_monoallelic_variants.chr1.variants.parquet\"\n",
    ")\n",
    "\n",
    "_tmp = get_reference_panel_file(\n",
    "    conf.PHENOMEXCAN[\"LD_BLOCKS\"][\"GTEX_V8_GENOTYPE_DIR\"], \"_metadata\"\n",
    ")\n",
    "assert _tmp is not None\n",
    "assert (\n",
    "    _tmp.name\n",
    "    == \"gtex_v8_eur_filtered_maf0.01_monoallelic_variants.variants_metadata.parquet\"\n",
    ")\n",
    "\n",
    "# 1000G\n",
    "_tmp = get_reference_panel_file(\n",
    "    conf.PHENOMEXCAN[\"LD_BLOCKS\"][\"1000G_GENOTYPE_DIR\"], \"chr1.variants\"\n",
    ")\n",
    "assert _tmp is not None\n",
    "assert _tmp.name == \"chr1.variants.parquet\"\n",
    "\n",
    "_tmp = get_reference_panel_file(\n",
    "    conf.PHENOMEXCAN[\"LD_BLOCKS\"][\"1000G_GENOTYPE_DIR\"], \"_metadata\"\n",
    ")\n",
    "assert _tmp is not None\n",
    "assert _tmp.name == \"variant_metadata.parquet\"\n",
    "\n",
    "# pattern matches more than one file\n",
    "try:\n",
    "    get_reference_panel_file(\n",
    "        conf.PHENOMEXCAN[\"LD_BLOCKS\"][\"1000G_GENOTYPE_DIR\"], \"chr1\"\n",
    "    )\n",
    "    raise AssertionError(\"Exception was not raised\")\n",
    "except AssertionError as e:\n",
    "    assert \"More than one file was found\" in str(e)"
   ]
  },
  {
   "cell_type": "markdown",
   "id": "cd93f57d-ba1b-463c-b5ae-97435954a5de",
   "metadata": {
    "papermill": {
     "duration": 0.008413,
     "end_time": "2022-07-09T09:54:50.553161",
     "exception": false,
     "start_time": "2022-07-09T09:54:50.544748",
     "status": "completed"
    },
    "tags": []
   },
   "source": [
    "## SNPs in predictions models"
   ]
  },
  {
   "cell_type": "code",
   "execution_count": 14,
   "id": "c94c4cbb",
   "metadata": {
    "execution": {
     "iopub.execute_input": "2022-07-09T09:54:50.571312Z",
     "iopub.status.busy": "2022-07-09T09:54:50.571152Z",
     "iopub.status.idle": "2022-07-09T09:54:50.582959Z",
     "shell.execute_reply": "2022-07-09T09:54:50.582412Z"
    },
    "papermill": {
     "duration": 0.022321,
     "end_time": "2022-07-09T09:54:50.584324",
     "exception": false,
     "start_time": "2022-07-09T09:54:50.562003",
     "status": "completed"
    },
    "tags": []
   },
   "outputs": [],
   "source": [
    "mashr_models_db_files = list(\n",
    "    conf.PHENOMEXCAN[\"PREDICTION_MODELS\"][EQTL_MODEL].glob(\"*.db\")\n",
    ")"
   ]
  },
  {
   "cell_type": "code",
   "execution_count": 15,
   "id": "9015c1d7",
   "metadata": {
    "execution": {
     "iopub.execute_input": "2022-07-09T09:54:50.603019Z",
     "iopub.status.busy": "2022-07-09T09:54:50.602853Z",
     "iopub.status.idle": "2022-07-09T09:54:50.615038Z",
     "shell.execute_reply": "2022-07-09T09:54:50.614517Z"
    },
    "papermill": {
     "duration": 0.023072,
     "end_time": "2022-07-09T09:54:50.616364",
     "exception": false,
     "start_time": "2022-07-09T09:54:50.593292",
     "status": "completed"
    },
    "tags": []
   },
   "outputs": [],
   "source": [
    "assert len(mashr_models_db_files) == 49"
   ]
  },
  {
   "cell_type": "code",
   "execution_count": 16,
   "id": "d5a28a46",
   "metadata": {
    "execution": {
     "iopub.execute_input": "2022-07-09T09:54:50.635091Z",
     "iopub.status.busy": "2022-07-09T09:54:50.634923Z",
     "iopub.status.idle": "2022-07-09T09:54:52.190346Z",
     "shell.execute_reply": "2022-07-09T09:54:52.189771Z"
    },
    "papermill": {
     "duration": 1.566444,
     "end_time": "2022-07-09T09:54:52.191784",
     "exception": false,
     "start_time": "2022-07-09T09:54:50.625340",
     "status": "completed"
    },
    "tags": []
   },
   "outputs": [
    {
     "name": "stdout",
     "output_type": "stream",
     "text": [
      "Processing mashr_Skin_Not_Sun_Exposed_Suprapubic.db\n",
      "Processing mashr_Cells_EBV-transformed_lymphocytes.db\n",
      "Processing mashr_Brain_Frontal_Cortex_BA9.db\n",
      "Processing mashr_Kidney_Cortex.db\n",
      "Processing mashr_Brain_Substantia_nigra.db\n",
      "Processing mashr_Spleen.db\n",
      "Processing mashr_Colon_Transverse.db\n",
      "Processing mashr_Heart_Left_Ventricle.db\n",
      "Processing mashr_Lung.db\n",
      "Processing mashr_Muscle_Skeletal.db\n",
      "Processing mashr_Brain_Hypothalamus.db\n",
      "Processing mashr_Brain_Cortex.db\n",
      "Processing mashr_Brain_Amygdala.db\n",
      "Processing mashr_Esophagus_Mucosa.db\n",
      "Processing mashr_Adrenal_Gland.db\n",
      "Processing mashr_Uterus.db\n",
      "Processing mashr_Prostate.db\n",
      "Processing mashr_Whole_Blood.db\n",
      "Processing mashr_Pituitary.db\n",
      "Processing mashr_Esophagus_Gastroesophageal_Junction.db\n",
      "Processing mashr_Stomach.db\n",
      "Processing mashr_Heart_Atrial_Appendage.db\n",
      "Processing mashr_Brain_Cerebellum.db\n",
      "Processing mashr_Breast_Mammary_Tissue.db\n",
      "Processing mashr_Artery_Tibial.db\n",
      "Processing mashr_Artery_Aorta.db\n",
      "Processing mashr_Small_Intestine_Terminal_Ileum.db\n",
      "Processing mashr_Brain_Hippocampus.db\n",
      "Processing mashr_Testis.db\n",
      "Processing mashr_Brain_Putamen_basal_ganglia.db\n",
      "Processing mashr_Pancreas.db\n",
      "Processing mashr_Adipose_Subcutaneous.db\n",
      "Processing mashr_Brain_Cerebellar_Hemisphere.db\n",
      "Processing mashr_Colon_Sigmoid.db\n",
      "Processing mashr_Minor_Salivary_Gland.db\n",
      "Processing mashr_Cells_Cultured_fibroblasts.db\n",
      "Processing mashr_Brain_Nucleus_accumbens_basal_ganglia.db\n",
      "Processing mashr_Brain_Anterior_cingulate_cortex_BA24.db\n",
      "Processing mashr_Vagina.db\n",
      "Processing mashr_Ovary.db\n",
      "Processing mashr_Skin_Sun_Exposed_Lower_leg.db\n",
      "Processing mashr_Esophagus_Muscularis.db\n",
      "Processing mashr_Brain_Spinal_cord_cervical_c-1.db\n",
      "Processing mashr_Artery_Coronary.db\n",
      "Processing mashr_Thyroid.db\n",
      "Processing mashr_Brain_Caudate_basal_ganglia.db\n",
      "Processing mashr_Adipose_Visceral_Omentum.db\n",
      "Processing mashr_Nerve_Tibial.db\n",
      "Processing mashr_Liver.db\n"
     ]
    }
   ],
   "source": [
    "all_variants_ids = []\n",
    "\n",
    "for m in mashr_models_db_files:\n",
    "    print(f\"Processing {m.name}\")\n",
    "    tissue = m.name.split(EQTL_MODEL_FILES_PREFIX)[1].split(\".db\")[0]\n",
    "\n",
    "    with sqlite3.connect(m) as conn:\n",
    "        df = pd.read_sql(\"select gene, varID from weights\", conn)\n",
    "        df[\"gene\"] = df[\"gene\"].apply(lambda x: x.split(\".\")[0])\n",
    "        df = df.assign(tissue=tissue)\n",
    "\n",
    "        all_variants_ids.append(df)"
   ]
  },
  {
   "cell_type": "code",
   "execution_count": 17,
   "id": "986feda1",
   "metadata": {
    "execution": {
     "iopub.execute_input": "2022-07-09T09:54:52.216694Z",
     "iopub.status.busy": "2022-07-09T09:54:52.216520Z",
     "iopub.status.idle": "2022-07-09T09:54:52.361911Z",
     "shell.execute_reply": "2022-07-09T09:54:52.361312Z"
    },
    "papermill": {
     "duration": 0.160534,
     "end_time": "2022-07-09T09:54:52.363589",
     "exception": false,
     "start_time": "2022-07-09T09:54:52.203055",
     "status": "completed"
    },
    "tags": []
   },
   "outputs": [],
   "source": [
    "all_gene_snps = pd.concat(all_variants_ids, ignore_index=True)"
   ]
  },
  {
   "cell_type": "code",
   "execution_count": 18,
   "id": "cdbb12ef",
   "metadata": {
    "execution": {
     "iopub.execute_input": "2022-07-09T09:54:52.385837Z",
     "iopub.status.busy": "2022-07-09T09:54:52.385649Z",
     "iopub.status.idle": "2022-07-09T09:54:52.400017Z",
     "shell.execute_reply": "2022-07-09T09:54:52.399422Z"
    },
    "papermill": {
     "duration": 0.02705,
     "end_time": "2022-07-09T09:54:52.401423",
     "exception": false,
     "start_time": "2022-07-09T09:54:52.374373",
     "status": "completed"
    },
    "tags": []
   },
   "outputs": [
    {
     "data": {
      "text/plain": [
       "(1132714, 3)"
      ]
     },
     "execution_count": 18,
     "metadata": {},
     "output_type": "execute_result"
    }
   ],
   "source": [
    "all_gene_snps.shape"
   ]
  },
  {
   "cell_type": "code",
   "execution_count": 19,
   "id": "c5300203",
   "metadata": {
    "execution": {
     "iopub.execute_input": "2022-07-09T09:54:52.421871Z",
     "iopub.status.busy": "2022-07-09T09:54:52.421693Z",
     "iopub.status.idle": "2022-07-09T09:54:52.437895Z",
     "shell.execute_reply": "2022-07-09T09:54:52.437505Z"
    },
    "papermill": {
     "duration": 0.027564,
     "end_time": "2022-07-09T09:54:52.439094",
     "exception": false,
     "start_time": "2022-07-09T09:54:52.411530",
     "status": "completed"
    },
    "tags": []
   },
   "outputs": [
    {
     "data": {
      "text/html": [
       "<div>\n",
       "<style scoped>\n",
       "    .dataframe tbody tr th:only-of-type {\n",
       "        vertical-align: middle;\n",
       "    }\n",
       "\n",
       "    .dataframe tbody tr th {\n",
       "        vertical-align: top;\n",
       "    }\n",
       "\n",
       "    .dataframe thead th {\n",
       "        text-align: right;\n",
       "    }\n",
       "</style>\n",
       "<table border=\"1\" class=\"dataframe\">\n",
       "  <thead>\n",
       "    <tr style=\"text-align: right;\">\n",
       "      <th></th>\n",
       "      <th>gene</th>\n",
       "      <th>varID</th>\n",
       "      <th>tissue</th>\n",
       "    </tr>\n",
       "  </thead>\n",
       "  <tbody>\n",
       "    <tr>\n",
       "      <th>0</th>\n",
       "      <td>ENSG00000169583</td>\n",
       "      <td>chr9_136996001_G_A_b38</td>\n",
       "      <td>Skin_Not_Sun_Exposed_Suprapubic</td>\n",
       "    </tr>\n",
       "    <tr>\n",
       "      <th>1</th>\n",
       "      <td>ENSG00000107331</td>\n",
       "      <td>chr9_137029055_C_CA_b38</td>\n",
       "      <td>Skin_Not_Sun_Exposed_Suprapubic</td>\n",
       "    </tr>\n",
       "    <tr>\n",
       "      <th>2</th>\n",
       "      <td>ENSG00000107331</td>\n",
       "      <td>chr9_137029407_T_G_b38</td>\n",
       "      <td>Skin_Not_Sun_Exposed_Suprapubic</td>\n",
       "    </tr>\n",
       "    <tr>\n",
       "      <th>3</th>\n",
       "      <td>ENSG00000180549</td>\n",
       "      <td>chr9_137031950_T_C_b38</td>\n",
       "      <td>Skin_Not_Sun_Exposed_Suprapubic</td>\n",
       "    </tr>\n",
       "    <tr>\n",
       "      <th>4</th>\n",
       "      <td>ENSG00000180549</td>\n",
       "      <td>chr9_137032610_A_G_b38</td>\n",
       "      <td>Skin_Not_Sun_Exposed_Suprapubic</td>\n",
       "    </tr>\n",
       "  </tbody>\n",
       "</table>\n",
       "</div>"
      ],
      "text/plain": [
       "              gene                    varID                           tissue\n",
       "0  ENSG00000169583   chr9_136996001_G_A_b38  Skin_Not_Sun_Exposed_Suprapubic\n",
       "1  ENSG00000107331  chr9_137029055_C_CA_b38  Skin_Not_Sun_Exposed_Suprapubic\n",
       "2  ENSG00000107331   chr9_137029407_T_G_b38  Skin_Not_Sun_Exposed_Suprapubic\n",
       "3  ENSG00000180549   chr9_137031950_T_C_b38  Skin_Not_Sun_Exposed_Suprapubic\n",
       "4  ENSG00000180549   chr9_137032610_A_G_b38  Skin_Not_Sun_Exposed_Suprapubic"
      ]
     },
     "execution_count": 19,
     "metadata": {},
     "output_type": "execute_result"
    }
   ],
   "source": [
    "all_gene_snps.head()"
   ]
  },
  {
   "cell_type": "code",
   "execution_count": 20,
   "id": "e5a2d4be",
   "metadata": {
    "execution": {
     "iopub.execute_input": "2022-07-09T09:54:52.459042Z",
     "iopub.status.busy": "2022-07-09T09:54:52.458876Z",
     "iopub.status.idle": "2022-07-09T09:54:52.795575Z",
     "shell.execute_reply": "2022-07-09T09:54:52.794939Z"
    },
    "papermill": {
     "duration": 0.348557,
     "end_time": "2022-07-09T09:54:52.797293",
     "exception": false,
     "start_time": "2022-07-09T09:54:52.448736",
     "status": "completed"
    },
    "tags": []
   },
   "outputs": [],
   "source": [
    "all_snps_in_models = set(all_gene_snps[\"varID\"].unique())"
   ]
  },
  {
   "cell_type": "markdown",
   "id": "e2cfb3d9",
   "metadata": {
    "papermill": {
     "duration": 0.010741,
     "end_time": "2022-07-09T09:54:52.819327",
     "exception": false,
     "start_time": "2022-07-09T09:54:52.808586",
     "status": "completed"
    },
    "tags": []
   },
   "source": [
    "## MultiPLIER Z"
   ]
  },
  {
   "cell_type": "code",
   "execution_count": 21,
   "id": "0e901bf8",
   "metadata": {
    "execution": {
     "iopub.execute_input": "2022-07-09T09:54:52.841531Z",
     "iopub.status.busy": "2022-07-09T09:54:52.841354Z",
     "iopub.status.idle": "2022-07-09T09:54:52.877737Z",
     "shell.execute_reply": "2022-07-09T09:54:52.877153Z"
    },
    "papermill": {
     "duration": 0.049185,
     "end_time": "2022-07-09T09:54:52.879325",
     "exception": false,
     "start_time": "2022-07-09T09:54:52.830140",
     "status": "completed"
    },
    "tags": []
   },
   "outputs": [],
   "source": [
    "multiplier_z = pd.read_pickle(conf.MULTIPLIER[\"MODEL_Z_MATRIX_FILE\"])"
   ]
  },
  {
   "cell_type": "code",
   "execution_count": 22,
   "id": "55da6f21",
   "metadata": {
    "execution": {
     "iopub.execute_input": "2022-07-09T09:54:52.900964Z",
     "iopub.status.busy": "2022-07-09T09:54:52.900781Z",
     "iopub.status.idle": "2022-07-09T09:54:52.914315Z",
     "shell.execute_reply": "2022-07-09T09:54:52.913716Z"
    },
    "papermill": {
     "duration": 0.025826,
     "end_time": "2022-07-09T09:54:52.915721",
     "exception": false,
     "start_time": "2022-07-09T09:54:52.889895",
     "status": "completed"
    },
    "tags": []
   },
   "outputs": [
    {
     "data": {
      "text/plain": [
       "(6750, 987)"
      ]
     },
     "execution_count": 22,
     "metadata": {},
     "output_type": "execute_result"
    }
   ],
   "source": [
    "multiplier_z.shape"
   ]
  },
  {
   "cell_type": "code",
   "execution_count": 23,
   "id": "5efd6fc7",
   "metadata": {
    "execution": {
     "iopub.execute_input": "2022-07-09T09:54:52.935323Z",
     "iopub.status.busy": "2022-07-09T09:54:52.935169Z",
     "iopub.status.idle": "2022-07-09T09:54:52.971500Z",
     "shell.execute_reply": "2022-07-09T09:54:52.970737Z"
    },
    "papermill": {
     "duration": 0.047421,
     "end_time": "2022-07-09T09:54:52.972963",
     "exception": false,
     "start_time": "2022-07-09T09:54:52.925542",
     "status": "completed"
    },
    "tags": []
   },
   "outputs": [
    {
     "data": {
      "text/html": [
       "<div>\n",
       "<style scoped>\n",
       "    .dataframe tbody tr th:only-of-type {\n",
       "        vertical-align: middle;\n",
       "    }\n",
       "\n",
       "    .dataframe tbody tr th {\n",
       "        vertical-align: top;\n",
       "    }\n",
       "\n",
       "    .dataframe thead th {\n",
       "        text-align: right;\n",
       "    }\n",
       "</style>\n",
       "<table border=\"1\" class=\"dataframe\">\n",
       "  <thead>\n",
       "    <tr style=\"text-align: right;\">\n",
       "      <th></th>\n",
       "      <th>LV1</th>\n",
       "      <th>LV2</th>\n",
       "      <th>LV3</th>\n",
       "      <th>LV4</th>\n",
       "      <th>LV5</th>\n",
       "      <th>LV6</th>\n",
       "      <th>LV7</th>\n",
       "      <th>LV8</th>\n",
       "      <th>LV9</th>\n",
       "      <th>LV10</th>\n",
       "      <th>...</th>\n",
       "      <th>LV978</th>\n",
       "      <th>LV979</th>\n",
       "      <th>LV980</th>\n",
       "      <th>LV981</th>\n",
       "      <th>LV982</th>\n",
       "      <th>LV983</th>\n",
       "      <th>LV984</th>\n",
       "      <th>LV985</th>\n",
       "      <th>LV986</th>\n",
       "      <th>LV987</th>\n",
       "    </tr>\n",
       "  </thead>\n",
       "  <tbody>\n",
       "    <tr>\n",
       "      <th>GAS6</th>\n",
       "      <td>0.000000</td>\n",
       "      <td>0.0</td>\n",
       "      <td>0.039438</td>\n",
       "      <td>0.0</td>\n",
       "      <td>0.050476</td>\n",
       "      <td>0.000000</td>\n",
       "      <td>0.0</td>\n",
       "      <td>0.000000</td>\n",
       "      <td>0.590949</td>\n",
       "      <td>0.000000</td>\n",
       "      <td>...</td>\n",
       "      <td>0.050125</td>\n",
       "      <td>0.00000</td>\n",
       "      <td>0.033407</td>\n",
       "      <td>0.000000</td>\n",
       "      <td>0.000000</td>\n",
       "      <td>0.005963</td>\n",
       "      <td>0.347362</td>\n",
       "      <td>0.0</td>\n",
       "      <td>0.000000</td>\n",
       "      <td>0.000000</td>\n",
       "    </tr>\n",
       "    <tr>\n",
       "      <th>MMP14</th>\n",
       "      <td>0.000000</td>\n",
       "      <td>0.0</td>\n",
       "      <td>0.000000</td>\n",
       "      <td>0.0</td>\n",
       "      <td>0.070072</td>\n",
       "      <td>0.000000</td>\n",
       "      <td>0.0</td>\n",
       "      <td>0.004904</td>\n",
       "      <td>1.720179</td>\n",
       "      <td>2.423595</td>\n",
       "      <td>...</td>\n",
       "      <td>0.000000</td>\n",
       "      <td>0.00000</td>\n",
       "      <td>0.001007</td>\n",
       "      <td>0.000000</td>\n",
       "      <td>0.035747</td>\n",
       "      <td>0.000000</td>\n",
       "      <td>0.000000</td>\n",
       "      <td>0.0</td>\n",
       "      <td>0.014978</td>\n",
       "      <td>0.000000</td>\n",
       "    </tr>\n",
       "    <tr>\n",
       "      <th>DSP</th>\n",
       "      <td>0.000000</td>\n",
       "      <td>0.0</td>\n",
       "      <td>0.000000</td>\n",
       "      <td>0.0</td>\n",
       "      <td>0.000000</td>\n",
       "      <td>0.041697</td>\n",
       "      <td>0.0</td>\n",
       "      <td>0.005718</td>\n",
       "      <td>0.000000</td>\n",
       "      <td>0.000000</td>\n",
       "      <td>...</td>\n",
       "      <td>0.020853</td>\n",
       "      <td>0.00000</td>\n",
       "      <td>0.000000</td>\n",
       "      <td>0.000000</td>\n",
       "      <td>0.000000</td>\n",
       "      <td>0.005774</td>\n",
       "      <td>0.000000</td>\n",
       "      <td>0.0</td>\n",
       "      <td>0.000000</td>\n",
       "      <td>0.416405</td>\n",
       "    </tr>\n",
       "    <tr>\n",
       "      <th>MARCKSL1</th>\n",
       "      <td>0.305212</td>\n",
       "      <td>0.0</td>\n",
       "      <td>0.000000</td>\n",
       "      <td>0.0</td>\n",
       "      <td>0.000000</td>\n",
       "      <td>0.000000</td>\n",
       "      <td>0.0</td>\n",
       "      <td>0.000000</td>\n",
       "      <td>0.161843</td>\n",
       "      <td>0.149471</td>\n",
       "      <td>...</td>\n",
       "      <td>0.027134</td>\n",
       "      <td>0.05272</td>\n",
       "      <td>0.000000</td>\n",
       "      <td>0.030189</td>\n",
       "      <td>0.060884</td>\n",
       "      <td>0.000000</td>\n",
       "      <td>0.000000</td>\n",
       "      <td>0.0</td>\n",
       "      <td>0.000000</td>\n",
       "      <td>0.448480</td>\n",
       "    </tr>\n",
       "    <tr>\n",
       "      <th>SPARC</th>\n",
       "      <td>0.000000</td>\n",
       "      <td>0.0</td>\n",
       "      <td>0.000000</td>\n",
       "      <td>0.0</td>\n",
       "      <td>0.000000</td>\n",
       "      <td>0.000000</td>\n",
       "      <td>0.0</td>\n",
       "      <td>0.000000</td>\n",
       "      <td>0.000000</td>\n",
       "      <td>0.014014</td>\n",
       "      <td>...</td>\n",
       "      <td>0.000000</td>\n",
       "      <td>0.00000</td>\n",
       "      <td>0.000000</td>\n",
       "      <td>0.000000</td>\n",
       "      <td>0.000000</td>\n",
       "      <td>0.000000</td>\n",
       "      <td>0.067779</td>\n",
       "      <td>0.0</td>\n",
       "      <td>0.122417</td>\n",
       "      <td>0.062665</td>\n",
       "    </tr>\n",
       "  </tbody>\n",
       "</table>\n",
       "<p>5 rows × 987 columns</p>\n",
       "</div>"
      ],
      "text/plain": [
       "               LV1  LV2       LV3  LV4       LV5       LV6  LV7       LV8  \\\n",
       "GAS6      0.000000  0.0  0.039438  0.0  0.050476  0.000000  0.0  0.000000   \n",
       "MMP14     0.000000  0.0  0.000000  0.0  0.070072  0.000000  0.0  0.004904   \n",
       "DSP       0.000000  0.0  0.000000  0.0  0.000000  0.041697  0.0  0.005718   \n",
       "MARCKSL1  0.305212  0.0  0.000000  0.0  0.000000  0.000000  0.0  0.000000   \n",
       "SPARC     0.000000  0.0  0.000000  0.0  0.000000  0.000000  0.0  0.000000   \n",
       "\n",
       "               LV9      LV10  ...     LV978    LV979     LV980     LV981  \\\n",
       "GAS6      0.590949  0.000000  ...  0.050125  0.00000  0.033407  0.000000   \n",
       "MMP14     1.720179  2.423595  ...  0.000000  0.00000  0.001007  0.000000   \n",
       "DSP       0.000000  0.000000  ...  0.020853  0.00000  0.000000  0.000000   \n",
       "MARCKSL1  0.161843  0.149471  ...  0.027134  0.05272  0.000000  0.030189   \n",
       "SPARC     0.000000  0.014014  ...  0.000000  0.00000  0.000000  0.000000   \n",
       "\n",
       "             LV982     LV983     LV984  LV985     LV986     LV987  \n",
       "GAS6      0.000000  0.005963  0.347362    0.0  0.000000  0.000000  \n",
       "MMP14     0.035747  0.000000  0.000000    0.0  0.014978  0.000000  \n",
       "DSP       0.000000  0.005774  0.000000    0.0  0.000000  0.416405  \n",
       "MARCKSL1  0.060884  0.000000  0.000000    0.0  0.000000  0.448480  \n",
       "SPARC     0.000000  0.000000  0.067779    0.0  0.122417  0.062665  \n",
       "\n",
       "[5 rows x 987 columns]"
      ]
     },
     "execution_count": 23,
     "metadata": {},
     "output_type": "execute_result"
    }
   ],
   "source": [
    "multiplier_z.head()"
   ]
  },
  {
   "cell_type": "markdown",
   "id": "c2109617",
   "metadata": {
    "papermill": {
     "duration": 0.011179,
     "end_time": "2022-07-09T09:54:52.995666",
     "exception": false,
     "start_time": "2022-07-09T09:54:52.984487",
     "status": "completed"
    },
    "tags": []
   },
   "source": [
    "## Reference panel variants metadata"
   ]
  },
  {
   "cell_type": "code",
   "execution_count": 24,
   "id": "f69e80b2",
   "metadata": {
    "execution": {
     "iopub.execute_input": "2022-07-09T09:54:53.017120Z",
     "iopub.status.busy": "2022-07-09T09:54:53.016945Z",
     "iopub.status.idle": "2022-07-09T09:54:53.031250Z",
     "shell.execute_reply": "2022-07-09T09:54:53.030488Z"
    },
    "papermill": {
     "duration": 0.026115,
     "end_time": "2022-07-09T09:54:53.032641",
     "exception": false,
     "start_time": "2022-07-09T09:54:53.006526",
     "status": "completed"
    },
    "tags": []
   },
   "outputs": [
    {
     "data": {
      "text/plain": [
       "PosixPath('/opt/data/data/phenomexcan/ld_blocks/reference_panel_gtex_v8/gtex_v8_eur_filtered_maf0.01_monoallelic_variants.variants_metadata.parquet')"
      ]
     },
     "metadata": {},
     "output_type": "display_data"
    }
   ],
   "source": [
    "input_file = get_reference_panel_file(REFERENCE_PANEL_DIR, \"_metadata\")\n",
    "display(input_file)"
   ]
  },
  {
   "cell_type": "code",
   "execution_count": 25,
   "id": "41e34ee0",
   "metadata": {
    "execution": {
     "iopub.execute_input": "2022-07-09T09:54:53.055032Z",
     "iopub.status.busy": "2022-07-09T09:54:53.054858Z",
     "iopub.status.idle": "2022-07-09T09:54:56.281773Z",
     "shell.execute_reply": "2022-07-09T09:54:56.281165Z"
    },
    "papermill": {
     "duration": 3.239721,
     "end_time": "2022-07-09T09:54:56.283188",
     "exception": false,
     "start_time": "2022-07-09T09:54:53.043467",
     "status": "completed"
    },
    "tags": []
   },
   "outputs": [],
   "source": [
    "variants_metadata = pd.read_parquet(input_file, columns=[\"id\"])"
   ]
  },
  {
   "cell_type": "code",
   "execution_count": 26,
   "id": "81410760",
   "metadata": {
    "execution": {
     "iopub.execute_input": "2022-07-09T09:54:56.303552Z",
     "iopub.status.busy": "2022-07-09T09:54:56.303392Z",
     "iopub.status.idle": "2022-07-09T09:54:56.317782Z",
     "shell.execute_reply": "2022-07-09T09:54:56.317325Z"
    },
    "papermill": {
     "duration": 0.026032,
     "end_time": "2022-07-09T09:54:56.319139",
     "exception": false,
     "start_time": "2022-07-09T09:54:56.293107",
     "status": "completed"
    },
    "tags": []
   },
   "outputs": [
    {
     "data": {
      "text/plain": [
       "(8880842, 1)"
      ]
     },
     "execution_count": 26,
     "metadata": {},
     "output_type": "execute_result"
    }
   ],
   "source": [
    "variants_metadata.shape"
   ]
  },
  {
   "cell_type": "code",
   "execution_count": 27,
   "id": "1d008de7",
   "metadata": {
    "execution": {
     "iopub.execute_input": "2022-07-09T09:54:56.340281Z",
     "iopub.status.busy": "2022-07-09T09:54:56.339431Z",
     "iopub.status.idle": "2022-07-09T09:54:56.355957Z",
     "shell.execute_reply": "2022-07-09T09:54:56.355367Z"
    },
    "papermill": {
     "duration": 0.028134,
     "end_time": "2022-07-09T09:54:56.357253",
     "exception": false,
     "start_time": "2022-07-09T09:54:56.329119",
     "status": "completed"
    },
    "tags": []
   },
   "outputs": [
    {
     "data": {
      "text/html": [
       "<div>\n",
       "<style scoped>\n",
       "    .dataframe tbody tr th:only-of-type {\n",
       "        vertical-align: middle;\n",
       "    }\n",
       "\n",
       "    .dataframe tbody tr th {\n",
       "        vertical-align: top;\n",
       "    }\n",
       "\n",
       "    .dataframe thead th {\n",
       "        text-align: right;\n",
       "    }\n",
       "</style>\n",
       "<table border=\"1\" class=\"dataframe\">\n",
       "  <thead>\n",
       "    <tr style=\"text-align: right;\">\n",
       "      <th></th>\n",
       "      <th>id</th>\n",
       "    </tr>\n",
       "  </thead>\n",
       "  <tbody>\n",
       "    <tr>\n",
       "      <th>0</th>\n",
       "      <td>chr1_13550_G_A_b38</td>\n",
       "    </tr>\n",
       "    <tr>\n",
       "      <th>1</th>\n",
       "      <td>chr1_14671_G_C_b38</td>\n",
       "    </tr>\n",
       "    <tr>\n",
       "      <th>2</th>\n",
       "      <td>chr1_14677_G_A_b38</td>\n",
       "    </tr>\n",
       "    <tr>\n",
       "      <th>3</th>\n",
       "      <td>chr1_14933_G_A_b38</td>\n",
       "    </tr>\n",
       "    <tr>\n",
       "      <th>4</th>\n",
       "      <td>chr1_16841_G_T_b38</td>\n",
       "    </tr>\n",
       "  </tbody>\n",
       "</table>\n",
       "</div>"
      ],
      "text/plain": [
       "                   id\n",
       "0  chr1_13550_G_A_b38\n",
       "1  chr1_14671_G_C_b38\n",
       "2  chr1_14677_G_A_b38\n",
       "3  chr1_14933_G_A_b38\n",
       "4  chr1_16841_G_T_b38"
      ]
     },
     "execution_count": 27,
     "metadata": {},
     "output_type": "execute_result"
    }
   ],
   "source": [
    "variants_metadata.head()"
   ]
  },
  {
   "cell_type": "code",
   "execution_count": 28,
   "id": "45bd2164",
   "metadata": {
    "execution": {
     "iopub.execute_input": "2022-07-09T09:54:56.378088Z",
     "iopub.status.busy": "2022-07-09T09:54:56.377926Z",
     "iopub.status.idle": "2022-07-09T09:54:58.744213Z",
     "shell.execute_reply": "2022-07-09T09:54:58.743610Z"
    },
    "papermill": {
     "duration": 2.378477,
     "end_time": "2022-07-09T09:54:58.745845",
     "exception": false,
     "start_time": "2022-07-09T09:54:56.367368",
     "status": "completed"
    },
    "tags": []
   },
   "outputs": [],
   "source": [
    "variants_ids_with_genotype = set(variants_metadata[\"id\"])"
   ]
  },
  {
   "cell_type": "code",
   "execution_count": 29,
   "id": "8f2937d7",
   "metadata": {
    "execution": {
     "iopub.execute_input": "2022-07-09T09:54:58.771014Z",
     "iopub.status.busy": "2022-07-09T09:54:58.770828Z",
     "iopub.status.idle": "2022-07-09T09:54:58.787364Z",
     "shell.execute_reply": "2022-07-09T09:54:58.786759Z"
    },
    "papermill": {
     "duration": 0.030435,
     "end_time": "2022-07-09T09:54:58.788797",
     "exception": false,
     "start_time": "2022-07-09T09:54:58.758362",
     "status": "completed"
    },
    "tags": []
   },
   "outputs": [
    {
     "data": {
      "text/plain": [
       "8880842"
      ]
     },
     "execution_count": 29,
     "metadata": {},
     "output_type": "execute_result"
    }
   ],
   "source": [
    "len(variants_ids_with_genotype)"
   ]
  },
  {
   "cell_type": "code",
   "execution_count": 30,
   "id": "6b160cc3",
   "metadata": {
    "execution": {
     "iopub.execute_input": "2022-07-09T09:54:58.811089Z",
     "iopub.status.busy": "2022-07-09T09:54:58.810565Z",
     "iopub.status.idle": "2022-07-09T09:54:59.479673Z",
     "shell.execute_reply": "2022-07-09T09:54:59.478685Z"
    },
    "papermill": {
     "duration": 0.682245,
     "end_time": "2022-07-09T09:54:59.481950",
     "exception": false,
     "start_time": "2022-07-09T09:54:58.799705",
     "status": "completed"
    },
    "tags": []
   },
   "outputs": [
    {
     "data": {
      "text/plain": [
       "['chr18_36962467_G_A_b38',\n",
       " 'chr14_96718978_C_T_b38',\n",
       " 'chr7_85274724_A_G_b38',\n",
       " 'chr21_38319283_G_A_b38',\n",
       " 'chr13_52675862_T_C_b38',\n",
       " 'chr7_54548178_C_T_b38',\n",
       " 'chr21_40718850_G_A_b38',\n",
       " 'chr1_198582222_A_G_b38',\n",
       " 'chr2_119556879_G_A_b38',\n",
       " 'chr3_186468867_A_G_b38']"
      ]
     },
     "execution_count": 30,
     "metadata": {},
     "output_type": "execute_result"
    }
   ],
   "source": [
    "list(variants_ids_with_genotype)[:10]"
   ]
  },
  {
   "cell_type": "code",
   "execution_count": 31,
   "id": "0a38a43c",
   "metadata": {
    "execution": {
     "iopub.execute_input": "2022-07-09T09:54:59.512967Z",
     "iopub.status.busy": "2022-07-09T09:54:59.512775Z",
     "iopub.status.idle": "2022-07-09T09:54:59.528908Z",
     "shell.execute_reply": "2022-07-09T09:54:59.528258Z"
    },
    "papermill": {
     "duration": 0.03148,
     "end_time": "2022-07-09T09:54:59.530462",
     "exception": false,
     "start_time": "2022-07-09T09:54:59.498982",
     "status": "completed"
    },
    "tags": []
   },
   "outputs": [],
   "source": [
    "del variants_metadata"
   ]
  },
  {
   "cell_type": "markdown",
   "id": "4b7ca4c8",
   "metadata": {
    "papermill": {
     "duration": 0.012287,
     "end_time": "2022-07-09T09:54:59.555471",
     "exception": false,
     "start_time": "2022-07-09T09:54:59.543184",
     "status": "completed"
    },
    "tags": []
   },
   "source": [
    "# How many variants in predictions models are present in the reference panel?"
   ]
  },
  {
   "cell_type": "code",
   "execution_count": 32,
   "id": "4e323c11",
   "metadata": {
    "execution": {
     "iopub.execute_input": "2022-07-09T09:54:59.577552Z",
     "iopub.status.busy": "2022-07-09T09:54:59.577393Z",
     "iopub.status.idle": "2022-07-09T09:54:59.591603Z",
     "shell.execute_reply": "2022-07-09T09:54:59.591105Z"
    },
    "papermill": {
     "duration": 0.026308,
     "end_time": "2022-07-09T09:54:59.592837",
     "exception": false,
     "start_time": "2022-07-09T09:54:59.566529",
     "status": "completed"
    },
    "tags": []
   },
   "outputs": [
    {
     "data": {
      "text/plain": [
       "237405"
      ]
     },
     "metadata": {},
     "output_type": "display_data"
    }
   ],
   "source": [
    "n_snps_in_models = len(all_snps_in_models)\n",
    "display(n_snps_in_models)"
   ]
  },
  {
   "cell_type": "code",
   "execution_count": 33,
   "id": "a9ecb68e",
   "metadata": {
    "execution": {
     "iopub.execute_input": "2022-07-09T09:54:59.615127Z",
     "iopub.status.busy": "2022-07-09T09:54:59.614921Z",
     "iopub.status.idle": "2022-07-09T09:54:59.678226Z",
     "shell.execute_reply": "2022-07-09T09:54:59.677493Z"
    },
    "papermill": {
     "duration": 0.076254,
     "end_time": "2022-07-09T09:54:59.679857",
     "exception": false,
     "start_time": "2022-07-09T09:54:59.603603",
     "status": "completed"
    },
    "tags": []
   },
   "outputs": [
    {
     "data": {
      "text/plain": [
       "237405"
      ]
     },
     "metadata": {},
     "output_type": "display_data"
    }
   ],
   "source": [
    "n_snps_in_ref_panel = len(all_snps_in_models.intersection(variants_ids_with_genotype))\n",
    "display(n_snps_in_ref_panel)"
   ]
  },
  {
   "cell_type": "code",
   "execution_count": 34,
   "id": "5f2f5991",
   "metadata": {
    "execution": {
     "iopub.execute_input": "2022-07-09T09:54:59.706564Z",
     "iopub.status.busy": "2022-07-09T09:54:59.706367Z",
     "iopub.status.idle": "2022-07-09T09:54:59.723387Z",
     "shell.execute_reply": "2022-07-09T09:54:59.722824Z"
    },
    "papermill": {
     "duration": 0.032084,
     "end_time": "2022-07-09T09:54:59.724913",
     "exception": false,
     "start_time": "2022-07-09T09:54:59.692829",
     "status": "completed"
    },
    "tags": []
   },
   "outputs": [
    {
     "data": {
      "text/plain": [
       "1.0"
      ]
     },
     "execution_count": 34,
     "metadata": {},
     "output_type": "execute_result"
    }
   ],
   "source": [
    "n_snps_in_ref_panel / n_snps_in_models"
   ]
  },
  {
   "cell_type": "markdown",
   "id": "a9a0d07c",
   "metadata": {
    "papermill": {
     "duration": 0.012778,
     "end_time": "2022-07-09T09:54:59.750671",
     "exception": false,
     "start_time": "2022-07-09T09:54:59.737893",
     "status": "completed"
    },
    "tags": []
   },
   "source": [
    "# Get final list of genes in MultiPLIER"
   ]
  },
  {
   "cell_type": "code",
   "execution_count": 35,
   "id": "e9801fec",
   "metadata": {
    "execution": {
     "iopub.execute_input": "2022-07-09T09:54:59.773659Z",
     "iopub.status.busy": "2022-07-09T09:54:59.773453Z",
     "iopub.status.idle": "2022-07-09T09:54:59.792610Z",
     "shell.execute_reply": "2022-07-09T09:54:59.791937Z"
    },
    "papermill": {
     "duration": 0.031359,
     "end_time": "2022-07-09T09:54:59.793946",
     "exception": false,
     "start_time": "2022-07-09T09:54:59.762587",
     "status": "completed"
    },
    "tags": []
   },
   "outputs": [],
   "source": [
    "genes_in_z = [\n",
    "    Gene(name=gene_name).ensembl_id\n",
    "    for gene_name in multiplier_z.index\n",
    "    if gene_name in Gene.GENE_NAME_TO_ID_MAP\n",
    "]"
   ]
  },
  {
   "cell_type": "code",
   "execution_count": 36,
   "id": "4cde8776",
   "metadata": {
    "execution": {
     "iopub.execute_input": "2022-07-09T09:54:59.816081Z",
     "iopub.status.busy": "2022-07-09T09:54:59.815898Z",
     "iopub.status.idle": "2022-07-09T09:54:59.830167Z",
     "shell.execute_reply": "2022-07-09T09:54:59.829674Z"
    },
    "papermill": {
     "duration": 0.026906,
     "end_time": "2022-07-09T09:54:59.831447",
     "exception": false,
     "start_time": "2022-07-09T09:54:59.804541",
     "status": "completed"
    },
    "tags": []
   },
   "outputs": [
    {
     "data": {
      "text/plain": [
       "6454"
      ]
     },
     "execution_count": 36,
     "metadata": {},
     "output_type": "execute_result"
    }
   ],
   "source": [
    "len(genes_in_z)"
   ]
  },
  {
   "cell_type": "code",
   "execution_count": 37,
   "id": "577cf614",
   "metadata": {
    "execution": {
     "iopub.execute_input": "2022-07-09T09:54:59.853466Z",
     "iopub.status.busy": "2022-07-09T09:54:59.853038Z",
     "iopub.status.idle": "2022-07-09T09:54:59.867535Z",
     "shell.execute_reply": "2022-07-09T09:54:59.867041Z"
    },
    "papermill": {
     "duration": 0.026675,
     "end_time": "2022-07-09T09:54:59.868779",
     "exception": false,
     "start_time": "2022-07-09T09:54:59.842104",
     "status": "completed"
    },
    "tags": []
   },
   "outputs": [
    {
     "data": {
      "text/plain": [
       "['ENSG00000183087',\n",
       " 'ENSG00000157227',\n",
       " 'ENSG00000096696',\n",
       " 'ENSG00000175130',\n",
       " 'ENSG00000113140']"
      ]
     },
     "execution_count": 37,
     "metadata": {},
     "output_type": "execute_result"
    }
   ],
   "source": [
    "genes_in_z[:5]"
   ]
  },
  {
   "cell_type": "code",
   "execution_count": 38,
   "id": "3136fc66",
   "metadata": {
    "execution": {
     "iopub.execute_input": "2022-07-09T09:54:59.890772Z",
     "iopub.status.busy": "2022-07-09T09:54:59.890567Z",
     "iopub.status.idle": "2022-07-09T09:54:59.904934Z",
     "shell.execute_reply": "2022-07-09T09:54:59.904417Z"
    },
    "papermill": {
     "duration": 0.026802,
     "end_time": "2022-07-09T09:54:59.906331",
     "exception": false,
     "start_time": "2022-07-09T09:54:59.879529",
     "status": "completed"
    },
    "tags": []
   },
   "outputs": [],
   "source": [
    "genes_in_z = set(genes_in_z)"
   ]
  },
  {
   "cell_type": "code",
   "execution_count": 39,
   "id": "0f1cace8",
   "metadata": {
    "execution": {
     "iopub.execute_input": "2022-07-09T09:54:59.930049Z",
     "iopub.status.busy": "2022-07-09T09:54:59.929861Z",
     "iopub.status.idle": "2022-07-09T09:54:59.943768Z",
     "shell.execute_reply": "2022-07-09T09:54:59.943269Z"
    },
    "papermill": {
     "duration": 0.026508,
     "end_time": "2022-07-09T09:54:59.945050",
     "exception": false,
     "start_time": "2022-07-09T09:54:59.918542",
     "status": "completed"
    },
    "tags": []
   },
   "outputs": [
    {
     "data": {
      "text/plain": [
       "6454"
      ]
     },
     "execution_count": 39,
     "metadata": {},
     "output_type": "execute_result"
    }
   ],
   "source": [
    "len(genes_in_z)"
   ]
  },
  {
   "cell_type": "code",
   "execution_count": 40,
   "id": "b9dc4d3e",
   "metadata": {
    "execution": {
     "iopub.execute_input": "2022-07-09T09:54:59.967635Z",
     "iopub.status.busy": "2022-07-09T09:54:59.967262Z",
     "iopub.status.idle": "2022-07-09T09:55:00.086391Z",
     "shell.execute_reply": "2022-07-09T09:55:00.085784Z"
    },
    "papermill": {
     "duration": 0.131914,
     "end_time": "2022-07-09T09:55:00.087810",
     "exception": false,
     "start_time": "2022-07-09T09:54:59.955896",
     "status": "completed"
    },
    "tags": []
   },
   "outputs": [
    {
     "data": {
      "text/plain": [
       "(1132714, 3)"
      ]
     },
     "metadata": {},
     "output_type": "display_data"
    },
    {
     "data": {
      "text/plain": [
       "(396890, 3)"
      ]
     },
     "metadata": {},
     "output_type": "display_data"
    }
   ],
   "source": [
    "# keep genes in MultiPLIER only\n",
    "display(all_gene_snps.shape)\n",
    "\n",
    "all_gene_snps = all_gene_snps[all_gene_snps[\"gene\"].isin(genes_in_z)]\n",
    "\n",
    "display(all_gene_snps.shape)"
   ]
  },
  {
   "cell_type": "markdown",
   "id": "69e77b6e",
   "metadata": {
    "papermill": {
     "duration": 0.012692,
     "end_time": "2022-07-09T09:55:00.113434",
     "exception": false,
     "start_time": "2022-07-09T09:55:00.100742",
     "status": "completed"
    },
    "tags": []
   },
   "source": [
    "# (For MultiPLIER genes): How many variants in predictions models are present in the reference panel?"
   ]
  },
  {
   "cell_type": "code",
   "execution_count": 41,
   "id": "c8a3405c",
   "metadata": {
    "execution": {
     "iopub.execute_input": "2022-07-09T09:55:00.137366Z",
     "iopub.status.busy": "2022-07-09T09:55:00.137206Z",
     "iopub.status.idle": "2022-07-09T09:55:00.249288Z",
     "shell.execute_reply": "2022-07-09T09:55:00.248755Z"
    },
    "papermill": {
     "duration": 0.125278,
     "end_time": "2022-07-09T09:55:00.250810",
     "exception": false,
     "start_time": "2022-07-09T09:55:00.125532",
     "status": "completed"
    },
    "tags": []
   },
   "outputs": [
    {
     "data": {
      "text/plain": [
       "84708"
      ]
     },
     "metadata": {},
     "output_type": "display_data"
    }
   ],
   "source": [
    "all_snps_in_models_multiplier = set(all_gene_snps[\"varID\"])\n",
    "\n",
    "n_snps_in_models = len(all_snps_in_models_multiplier)\n",
    "display(n_snps_in_models)"
   ]
  },
  {
   "cell_type": "code",
   "execution_count": 42,
   "id": "a118deab",
   "metadata": {
    "execution": {
     "iopub.execute_input": "2022-07-09T09:55:00.278026Z",
     "iopub.status.busy": "2022-07-09T09:55:00.277838Z",
     "iopub.status.idle": "2022-07-09T09:55:00.312333Z",
     "shell.execute_reply": "2022-07-09T09:55:00.311730Z"
    },
    "papermill": {
     "duration": 0.04976,
     "end_time": "2022-07-09T09:55:00.313846",
     "exception": false,
     "start_time": "2022-07-09T09:55:00.264086",
     "status": "completed"
    },
    "tags": []
   },
   "outputs": [
    {
     "data": {
      "text/plain": [
       "84708"
      ]
     },
     "metadata": {},
     "output_type": "display_data"
    }
   ],
   "source": [
    "n_snps_in_ref_panel = len(\n",
    "    all_snps_in_models_multiplier.intersection(variants_ids_with_genotype)\n",
    ")\n",
    "display(n_snps_in_ref_panel)"
   ]
  },
  {
   "cell_type": "code",
   "execution_count": 43,
   "id": "cb5b96f3",
   "metadata": {
    "execution": {
     "iopub.execute_input": "2022-07-09T09:55:00.342216Z",
     "iopub.status.busy": "2022-07-09T09:55:00.342030Z",
     "iopub.status.idle": "2022-07-09T09:55:00.358400Z",
     "shell.execute_reply": "2022-07-09T09:55:00.357852Z"
    },
    "papermill": {
     "duration": 0.032228,
     "end_time": "2022-07-09T09:55:00.359847",
     "exception": false,
     "start_time": "2022-07-09T09:55:00.327619",
     "status": "completed"
    },
    "tags": []
   },
   "outputs": [
    {
     "data": {
      "text/plain": [
       "1.0"
      ]
     },
     "execution_count": 43,
     "metadata": {},
     "output_type": "execute_result"
    }
   ],
   "source": [
    "n_snps_in_ref_panel / n_snps_in_models"
   ]
  },
  {
   "cell_type": "markdown",
   "id": "dbabf1c1",
   "metadata": {
    "papermill": {
     "duration": 0.013133,
     "end_time": "2022-07-09T09:55:00.386235",
     "exception": false,
     "start_time": "2022-07-09T09:55:00.373102",
     "status": "completed"
    },
    "tags": []
   },
   "source": [
    "## Preprocess SNPs data"
   ]
  },
  {
   "cell_type": "code",
   "execution_count": 44,
   "id": "19838f0a",
   "metadata": {
    "execution": {
     "iopub.execute_input": "2022-07-09T09:55:00.408935Z",
     "iopub.status.busy": "2022-07-09T09:55:00.408747Z",
     "iopub.status.idle": "2022-07-09T09:55:00.547719Z",
     "shell.execute_reply": "2022-07-09T09:55:00.547143Z"
    },
    "papermill": {
     "duration": 0.151807,
     "end_time": "2022-07-09T09:55:00.549304",
     "exception": false,
     "start_time": "2022-07-09T09:55:00.397497",
     "status": "completed"
    },
    "tags": []
   },
   "outputs": [],
   "source": [
    "variants_ld_block_df = all_gene_snps[[\"varID\"]].drop_duplicates()"
   ]
  },
  {
   "cell_type": "code",
   "execution_count": 45,
   "id": "d015b20d",
   "metadata": {
    "execution": {
     "iopub.execute_input": "2022-07-09T09:55:00.577961Z",
     "iopub.status.busy": "2022-07-09T09:55:00.577771Z",
     "iopub.status.idle": "2022-07-09T09:55:00.594608Z",
     "shell.execute_reply": "2022-07-09T09:55:00.594080Z"
    },
    "papermill": {
     "duration": 0.032833,
     "end_time": "2022-07-09T09:55:00.596002",
     "exception": false,
     "start_time": "2022-07-09T09:55:00.563169",
     "status": "completed"
    },
    "tags": []
   },
   "outputs": [
    {
     "data": {
      "text/plain": [
       "(84708, 1)"
      ]
     },
     "execution_count": 45,
     "metadata": {},
     "output_type": "execute_result"
    }
   ],
   "source": [
    "variants_ld_block_df.shape"
   ]
  },
  {
   "cell_type": "code",
   "execution_count": 46,
   "id": "ed4a5faa",
   "metadata": {
    "execution": {
     "iopub.execute_input": "2022-07-09T09:55:00.623273Z",
     "iopub.status.busy": "2022-07-09T09:55:00.623110Z",
     "iopub.status.idle": "2022-07-09T09:55:00.640020Z",
     "shell.execute_reply": "2022-07-09T09:55:00.639447Z"
    },
    "papermill": {
     "duration": 0.0316,
     "end_time": "2022-07-09T09:55:00.641339",
     "exception": false,
     "start_time": "2022-07-09T09:55:00.609739",
     "status": "completed"
    },
    "tags": []
   },
   "outputs": [
    {
     "data": {
      "text/html": [
       "<div>\n",
       "<style scoped>\n",
       "    .dataframe tbody tr th:only-of-type {\n",
       "        vertical-align: middle;\n",
       "    }\n",
       "\n",
       "    .dataframe tbody tr th {\n",
       "        vertical-align: top;\n",
       "    }\n",
       "\n",
       "    .dataframe thead th {\n",
       "        text-align: right;\n",
       "    }\n",
       "</style>\n",
       "<table border=\"1\" class=\"dataframe\">\n",
       "  <thead>\n",
       "    <tr style=\"text-align: right;\">\n",
       "      <th></th>\n",
       "      <th>varID</th>\n",
       "    </tr>\n",
       "  </thead>\n",
       "  <tbody>\n",
       "    <tr>\n",
       "      <th>0</th>\n",
       "      <td>chr9_136996001_G_A_b38</td>\n",
       "    </tr>\n",
       "    <tr>\n",
       "      <th>1</th>\n",
       "      <td>chr9_137029055_C_CA_b38</td>\n",
       "    </tr>\n",
       "    <tr>\n",
       "      <th>2</th>\n",
       "      <td>chr9_137029407_T_G_b38</td>\n",
       "    </tr>\n",
       "    <tr>\n",
       "      <th>10</th>\n",
       "      <td>chr9_137084985_C_T_b38</td>\n",
       "    </tr>\n",
       "    <tr>\n",
       "      <th>11</th>\n",
       "      <td>chr9_137102549_TACAC_T_b38</td>\n",
       "    </tr>\n",
       "  </tbody>\n",
       "</table>\n",
       "</div>"
      ],
      "text/plain": [
       "                         varID\n",
       "0       chr9_136996001_G_A_b38\n",
       "1      chr9_137029055_C_CA_b38\n",
       "2       chr9_137029407_T_G_b38\n",
       "10      chr9_137084985_C_T_b38\n",
       "11  chr9_137102549_TACAC_T_b38"
      ]
     },
     "execution_count": 46,
     "metadata": {},
     "output_type": "execute_result"
    }
   ],
   "source": [
    "variants_ld_block_df.head()"
   ]
  },
  {
   "cell_type": "code",
   "execution_count": 47,
   "id": "3557d870",
   "metadata": {
    "execution": {
     "iopub.execute_input": "2022-07-09T09:55:00.666205Z",
     "iopub.status.busy": "2022-07-09T09:55:00.666049Z",
     "iopub.status.idle": "2022-07-09T09:55:02.283399Z",
     "shell.execute_reply": "2022-07-09T09:55:02.282747Z"
    },
    "papermill": {
     "duration": 1.631168,
     "end_time": "2022-07-09T09:55:02.284987",
     "exception": false,
     "start_time": "2022-07-09T09:55:00.653819",
     "status": "completed"
    },
    "tags": []
   },
   "outputs": [],
   "source": [
    "variants_info = variants_ld_block_df[\"varID\"].str.split(\"_\", expand=True)"
   ]
  },
  {
   "cell_type": "code",
   "execution_count": 48,
   "id": "bd49aa4c",
   "metadata": {
    "execution": {
     "iopub.execute_input": "2022-07-09T09:55:02.313542Z",
     "iopub.status.busy": "2022-07-09T09:55:02.313351Z",
     "iopub.status.idle": "2022-07-09T09:55:02.330020Z",
     "shell.execute_reply": "2022-07-09T09:55:02.329496Z"
    },
    "papermill": {
     "duration": 0.03261,
     "end_time": "2022-07-09T09:55:02.331466",
     "exception": false,
     "start_time": "2022-07-09T09:55:02.298856",
     "status": "completed"
    },
    "tags": []
   },
   "outputs": [
    {
     "data": {
      "text/plain": [
       "(84708, 5)"
      ]
     },
     "execution_count": 48,
     "metadata": {},
     "output_type": "execute_result"
    }
   ],
   "source": [
    "variants_info.shape"
   ]
  },
  {
   "cell_type": "code",
   "execution_count": 49,
   "id": "7e2b7606",
   "metadata": {
    "execution": {
     "iopub.execute_input": "2022-07-09T09:55:02.359525Z",
     "iopub.status.busy": "2022-07-09T09:55:02.359357Z",
     "iopub.status.idle": "2022-07-09T09:55:02.373506Z",
     "shell.execute_reply": "2022-07-09T09:55:02.373001Z"
    },
    "papermill": {
     "duration": 0.029602,
     "end_time": "2022-07-09T09:55:02.374871",
     "exception": false,
     "start_time": "2022-07-09T09:55:02.345269",
     "status": "completed"
    },
    "tags": []
   },
   "outputs": [],
   "source": [
    "assert variants_ld_block_df.shape[0] == variants_info.shape[0]"
   ]
  },
  {
   "cell_type": "code",
   "execution_count": 50,
   "id": "048abd7f",
   "metadata": {
    "execution": {
     "iopub.execute_input": "2022-07-09T09:55:02.399035Z",
     "iopub.status.busy": "2022-07-09T09:55:02.398880Z",
     "iopub.status.idle": "2022-07-09T09:55:02.449547Z",
     "shell.execute_reply": "2022-07-09T09:55:02.448814Z"
    },
    "papermill": {
     "duration": 0.06435,
     "end_time": "2022-07-09T09:55:02.451257",
     "exception": false,
     "start_time": "2022-07-09T09:55:02.386907",
     "status": "completed"
    },
    "tags": []
   },
   "outputs": [],
   "source": [
    "variants_ld_block_df = variants_ld_block_df.join(variants_info)[[\"varID\", 0, 1, 2, 3]]"
   ]
  },
  {
   "cell_type": "code",
   "execution_count": 51,
   "id": "5bfb6a7a",
   "metadata": {
    "execution": {
     "iopub.execute_input": "2022-07-09T09:55:02.482745Z",
     "iopub.status.busy": "2022-07-09T09:55:02.482554Z",
     "iopub.status.idle": "2022-07-09T09:55:02.498486Z",
     "shell.execute_reply": "2022-07-09T09:55:02.498029Z"
    },
    "papermill": {
     "duration": 0.033574,
     "end_time": "2022-07-09T09:55:02.500054",
     "exception": false,
     "start_time": "2022-07-09T09:55:02.466480",
     "status": "completed"
    },
    "tags": []
   },
   "outputs": [],
   "source": [
    "assert variants_ld_block_df.shape[0] == variants_info.shape[0]"
   ]
  },
  {
   "cell_type": "code",
   "execution_count": 52,
   "id": "4d8cf1da",
   "metadata": {
    "execution": {
     "iopub.execute_input": "2022-07-09T09:55:02.527289Z",
     "iopub.status.busy": "2022-07-09T09:55:02.527117Z",
     "iopub.status.idle": "2022-07-09T09:55:02.546861Z",
     "shell.execute_reply": "2022-07-09T09:55:02.546278Z"
    },
    "papermill": {
     "duration": 0.03442,
     "end_time": "2022-07-09T09:55:02.548183",
     "exception": false,
     "start_time": "2022-07-09T09:55:02.513763",
     "status": "completed"
    },
    "tags": []
   },
   "outputs": [
    {
     "data": {
      "text/html": [
       "<div>\n",
       "<style scoped>\n",
       "    .dataframe tbody tr th:only-of-type {\n",
       "        vertical-align: middle;\n",
       "    }\n",
       "\n",
       "    .dataframe tbody tr th {\n",
       "        vertical-align: top;\n",
       "    }\n",
       "\n",
       "    .dataframe thead th {\n",
       "        text-align: right;\n",
       "    }\n",
       "</style>\n",
       "<table border=\"1\" class=\"dataframe\">\n",
       "  <thead>\n",
       "    <tr style=\"text-align: right;\">\n",
       "      <th></th>\n",
       "      <th>varID</th>\n",
       "      <th>0</th>\n",
       "      <th>1</th>\n",
       "      <th>2</th>\n",
       "      <th>3</th>\n",
       "    </tr>\n",
       "  </thead>\n",
       "  <tbody>\n",
       "    <tr>\n",
       "      <th>0</th>\n",
       "      <td>chr9_136996001_G_A_b38</td>\n",
       "      <td>chr9</td>\n",
       "      <td>136996001</td>\n",
       "      <td>G</td>\n",
       "      <td>A</td>\n",
       "    </tr>\n",
       "    <tr>\n",
       "      <th>1</th>\n",
       "      <td>chr9_137029055_C_CA_b38</td>\n",
       "      <td>chr9</td>\n",
       "      <td>137029055</td>\n",
       "      <td>C</td>\n",
       "      <td>CA</td>\n",
       "    </tr>\n",
       "    <tr>\n",
       "      <th>2</th>\n",
       "      <td>chr9_137029407_T_G_b38</td>\n",
       "      <td>chr9</td>\n",
       "      <td>137029407</td>\n",
       "      <td>T</td>\n",
       "      <td>G</td>\n",
       "    </tr>\n",
       "    <tr>\n",
       "      <th>10</th>\n",
       "      <td>chr9_137084985_C_T_b38</td>\n",
       "      <td>chr9</td>\n",
       "      <td>137084985</td>\n",
       "      <td>C</td>\n",
       "      <td>T</td>\n",
       "    </tr>\n",
       "    <tr>\n",
       "      <th>11</th>\n",
       "      <td>chr9_137102549_TACAC_T_b38</td>\n",
       "      <td>chr9</td>\n",
       "      <td>137102549</td>\n",
       "      <td>TACAC</td>\n",
       "      <td>T</td>\n",
       "    </tr>\n",
       "  </tbody>\n",
       "</table>\n",
       "</div>"
      ],
      "text/plain": [
       "                         varID     0          1      2   3\n",
       "0       chr9_136996001_G_A_b38  chr9  136996001      G   A\n",
       "1      chr9_137029055_C_CA_b38  chr9  137029055      C  CA\n",
       "2       chr9_137029407_T_G_b38  chr9  137029407      T   G\n",
       "10      chr9_137084985_C_T_b38  chr9  137084985      C   T\n",
       "11  chr9_137102549_TACAC_T_b38  chr9  137102549  TACAC   T"
      ]
     },
     "execution_count": 52,
     "metadata": {},
     "output_type": "execute_result"
    }
   ],
   "source": [
    "variants_ld_block_df.head()"
   ]
  },
  {
   "cell_type": "code",
   "execution_count": 53,
   "id": "47448229",
   "metadata": {
    "execution": {
     "iopub.execute_input": "2022-07-09T09:55:02.576684Z",
     "iopub.status.busy": "2022-07-09T09:55:02.576485Z",
     "iopub.status.idle": "2022-07-09T09:55:02.599817Z",
     "shell.execute_reply": "2022-07-09T09:55:02.595608Z"
    },
    "papermill": {
     "duration": 0.039872,
     "end_time": "2022-07-09T09:55:02.601275",
     "exception": false,
     "start_time": "2022-07-09T09:55:02.561403",
     "status": "completed"
    },
    "tags": []
   },
   "outputs": [],
   "source": [
    "variants_ld_block_df = variants_ld_block_df.rename(\n",
    "    columns={\n",
    "        0: \"chr\",\n",
    "        1: \"position\",\n",
    "        2: \"ref_allele\",\n",
    "        3: \"eff_allele\",\n",
    "    }\n",
    ")"
   ]
  },
  {
   "cell_type": "code",
   "execution_count": 54,
   "id": "3beadcf8",
   "metadata": {
    "execution": {
     "iopub.execute_input": "2022-07-09T09:55:02.627666Z",
     "iopub.status.busy": "2022-07-09T09:55:02.627487Z",
     "iopub.status.idle": "2022-07-09T09:55:02.680867Z",
     "shell.execute_reply": "2022-07-09T09:55:02.680256Z"
    },
    "papermill": {
     "duration": 0.067876,
     "end_time": "2022-07-09T09:55:02.682426",
     "exception": false,
     "start_time": "2022-07-09T09:55:02.614550",
     "status": "completed"
    },
    "tags": []
   },
   "outputs": [],
   "source": [
    "variants_ld_block_df[\"chr\"] = variants_ld_block_df[\"chr\"].apply(lambda x: int(x[3:]))"
   ]
  },
  {
   "cell_type": "code",
   "execution_count": 55,
   "id": "b18c25c1",
   "metadata": {
    "execution": {
     "iopub.execute_input": "2022-07-09T09:55:02.711024Z",
     "iopub.status.busy": "2022-07-09T09:55:02.710849Z",
     "iopub.status.idle": "2022-07-09T09:55:02.737366Z",
     "shell.execute_reply": "2022-07-09T09:55:02.736900Z"
    },
    "papermill": {
     "duration": 0.042356,
     "end_time": "2022-07-09T09:55:02.738916",
     "exception": false,
     "start_time": "2022-07-09T09:55:02.696560",
     "status": "completed"
    },
    "tags": []
   },
   "outputs": [],
   "source": [
    "variants_ld_block_df[\"position\"] = variants_ld_block_df[\"position\"].astype(int)"
   ]
  },
  {
   "cell_type": "code",
   "execution_count": 56,
   "id": "13af12ae",
   "metadata": {
    "execution": {
     "iopub.execute_input": "2022-07-09T09:55:02.764196Z",
     "iopub.status.busy": "2022-07-09T09:55:02.763607Z",
     "iopub.status.idle": "2022-07-09T09:55:02.778710Z",
     "shell.execute_reply": "2022-07-09T09:55:02.778194Z"
    },
    "papermill": {
     "duration": 0.028924,
     "end_time": "2022-07-09T09:55:02.780132",
     "exception": false,
     "start_time": "2022-07-09T09:55:02.751208",
     "status": "completed"
    },
    "tags": []
   },
   "outputs": [
    {
     "data": {
      "text/plain": [
       "(84708, 5)"
      ]
     },
     "execution_count": 56,
     "metadata": {},
     "output_type": "execute_result"
    }
   ],
   "source": [
    "variants_ld_block_df.shape"
   ]
  },
  {
   "cell_type": "code",
   "execution_count": 57,
   "id": "431d8602",
   "metadata": {
    "execution": {
     "iopub.execute_input": "2022-07-09T09:55:02.810921Z",
     "iopub.status.busy": "2022-07-09T09:55:02.810456Z",
     "iopub.status.idle": "2022-07-09T09:55:02.829164Z",
     "shell.execute_reply": "2022-07-09T09:55:02.828545Z"
    },
    "papermill": {
     "duration": 0.035955,
     "end_time": "2022-07-09T09:55:02.830489",
     "exception": false,
     "start_time": "2022-07-09T09:55:02.794534",
     "status": "completed"
    },
    "tags": []
   },
   "outputs": [
    {
     "data": {
      "text/html": [
       "<div>\n",
       "<style scoped>\n",
       "    .dataframe tbody tr th:only-of-type {\n",
       "        vertical-align: middle;\n",
       "    }\n",
       "\n",
       "    .dataframe tbody tr th {\n",
       "        vertical-align: top;\n",
       "    }\n",
       "\n",
       "    .dataframe thead th {\n",
       "        text-align: right;\n",
       "    }\n",
       "</style>\n",
       "<table border=\"1\" class=\"dataframe\">\n",
       "  <thead>\n",
       "    <tr style=\"text-align: right;\">\n",
       "      <th></th>\n",
       "      <th>varID</th>\n",
       "      <th>chr</th>\n",
       "      <th>position</th>\n",
       "      <th>ref_allele</th>\n",
       "      <th>eff_allele</th>\n",
       "    </tr>\n",
       "  </thead>\n",
       "  <tbody>\n",
       "    <tr>\n",
       "      <th>0</th>\n",
       "      <td>chr9_136996001_G_A_b38</td>\n",
       "      <td>9</td>\n",
       "      <td>136996001</td>\n",
       "      <td>G</td>\n",
       "      <td>A</td>\n",
       "    </tr>\n",
       "    <tr>\n",
       "      <th>1</th>\n",
       "      <td>chr9_137029055_C_CA_b38</td>\n",
       "      <td>9</td>\n",
       "      <td>137029055</td>\n",
       "      <td>C</td>\n",
       "      <td>CA</td>\n",
       "    </tr>\n",
       "    <tr>\n",
       "      <th>2</th>\n",
       "      <td>chr9_137029407_T_G_b38</td>\n",
       "      <td>9</td>\n",
       "      <td>137029407</td>\n",
       "      <td>T</td>\n",
       "      <td>G</td>\n",
       "    </tr>\n",
       "    <tr>\n",
       "      <th>10</th>\n",
       "      <td>chr9_137084985_C_T_b38</td>\n",
       "      <td>9</td>\n",
       "      <td>137084985</td>\n",
       "      <td>C</td>\n",
       "      <td>T</td>\n",
       "    </tr>\n",
       "    <tr>\n",
       "      <th>11</th>\n",
       "      <td>chr9_137102549_TACAC_T_b38</td>\n",
       "      <td>9</td>\n",
       "      <td>137102549</td>\n",
       "      <td>TACAC</td>\n",
       "      <td>T</td>\n",
       "    </tr>\n",
       "  </tbody>\n",
       "</table>\n",
       "</div>"
      ],
      "text/plain": [
       "                         varID  chr   position ref_allele eff_allele\n",
       "0       chr9_136996001_G_A_b38    9  136996001          G          A\n",
       "1      chr9_137029055_C_CA_b38    9  137029055          C         CA\n",
       "2       chr9_137029407_T_G_b38    9  137029407          T          G\n",
       "10      chr9_137084985_C_T_b38    9  137084985          C          T\n",
       "11  chr9_137102549_TACAC_T_b38    9  137102549      TACAC          T"
      ]
     },
     "execution_count": 57,
     "metadata": {},
     "output_type": "execute_result"
    }
   ],
   "source": [
    "variants_ld_block_df.head()"
   ]
  },
  {
   "cell_type": "code",
   "execution_count": 58,
   "id": "35fc8e6d",
   "metadata": {
    "execution": {
     "iopub.execute_input": "2022-07-09T09:55:02.855880Z",
     "iopub.status.busy": "2022-07-09T09:55:02.855721Z",
     "iopub.status.idle": "2022-07-09T09:55:02.870896Z",
     "shell.execute_reply": "2022-07-09T09:55:02.870349Z"
    },
    "papermill": {
     "duration": 0.029286,
     "end_time": "2022-07-09T09:55:02.872205",
     "exception": false,
     "start_time": "2022-07-09T09:55:02.842919",
     "status": "completed"
    },
    "tags": []
   },
   "outputs": [
    {
     "data": {
      "text/plain": [
       "varID         object\n",
       "chr            int64\n",
       "position       int64\n",
       "ref_allele    object\n",
       "eff_allele    object\n",
       "dtype: object"
      ]
     },
     "execution_count": 58,
     "metadata": {},
     "output_type": "execute_result"
    }
   ],
   "source": [
    "variants_ld_block_df.dtypes"
   ]
  },
  {
   "cell_type": "markdown",
   "id": "ec84177c",
   "metadata": {
    "papermill": {
     "duration": 0.011514,
     "end_time": "2022-07-09T09:55:02.896350",
     "exception": false,
     "start_time": "2022-07-09T09:55:02.884836",
     "status": "completed"
    },
    "tags": []
   },
   "source": [
    "# Covariance for each chromosome block"
   ]
  },
  {
   "cell_type": "markdown",
   "id": "d43e1890",
   "metadata": {
    "papermill": {
     "duration": 0.012662,
     "end_time": "2022-07-09T09:55:02.920895",
     "exception": false,
     "start_time": "2022-07-09T09:55:02.908233",
     "status": "completed"
    },
    "tags": []
   },
   "source": [
    "## Functions"
   ]
  },
  {
   "cell_type": "code",
   "execution_count": 59,
   "id": "394c6b4d",
   "metadata": {
    "execution": {
     "iopub.execute_input": "2022-07-09T09:55:02.946639Z",
     "iopub.status.busy": "2022-07-09T09:55:02.946369Z",
     "iopub.status.idle": "2022-07-09T09:55:02.961786Z",
     "shell.execute_reply": "2022-07-09T09:55:02.961238Z"
    },
    "papermill": {
     "duration": 0.029983,
     "end_time": "2022-07-09T09:55:02.963204",
     "exception": false,
     "start_time": "2022-07-09T09:55:02.933221",
     "status": "completed"
    },
    "tags": []
   },
   "outputs": [],
   "source": [
    "def covariance(df, dtype):\n",
    "    n = df.shape[0]\n",
    "    df = df.sub(df.mean(), axis=1).astype(dtype)\n",
    "    return df.T.dot(df) / (n - 1)"
   ]
  },
  {
   "cell_type": "code",
   "execution_count": 60,
   "id": "ed702fd0",
   "metadata": {
    "execution": {
     "iopub.execute_input": "2022-07-09T09:55:02.989490Z",
     "iopub.status.busy": "2022-07-09T09:55:02.988784Z",
     "iopub.status.idle": "2022-07-09T09:55:03.033415Z",
     "shell.execute_reply": "2022-07-09T09:55:03.032989Z"
    },
    "papermill": {
     "duration": 0.058929,
     "end_time": "2022-07-09T09:55:03.034962",
     "exception": false,
     "start_time": "2022-07-09T09:55:02.976033",
     "status": "completed"
    },
    "tags": []
   },
   "outputs": [],
   "source": [
    "# testing\n",
    "rs = np.random.RandomState(0)\n",
    "\n",
    "_test_data = pd.DataFrame(rs.normal(size=(50, 5)), columns=[f\"c{i}\" for i in range(5)])\n",
    "\n",
    "# float64\n",
    "pd.testing.assert_frame_equal(\n",
    "    covariance(_test_data, np.float64),\n",
    "    _test_data.cov(),\n",
    "    rtol=1e-10,\n",
    "    atol=1e-10,\n",
    "    check_dtype=True,\n",
    ")\n",
    "\n",
    "# float32\n",
    "pd.testing.assert_frame_equal(\n",
    "    covariance(_test_data, np.float32),\n",
    "    _test_data.cov(),\n",
    "    rtol=1e-5,\n",
    "    atol=1e-8,\n",
    "    check_dtype=False,\n",
    ")\n",
    "\n",
    "del _test_data"
   ]
  },
  {
   "cell_type": "code",
   "execution_count": 61,
   "id": "417717ae",
   "metadata": {
    "execution": {
     "iopub.execute_input": "2022-07-09T09:55:03.060865Z",
     "iopub.status.busy": "2022-07-09T09:55:03.060705Z",
     "iopub.status.idle": "2022-07-09T09:55:03.075880Z",
     "shell.execute_reply": "2022-07-09T09:55:03.075416Z"
    },
    "papermill": {
     "duration": 0.029381,
     "end_time": "2022-07-09T09:55:03.077217",
     "exception": false,
     "start_time": "2022-07-09T09:55:03.047836",
     "status": "completed"
    },
    "tags": []
   },
   "outputs": [],
   "source": [
    "def compute_snps_cov(snps_df):\n",
    "    assert snps_df[\"chr\"].unique().shape[0] == 1\n",
    "    chromosome = snps_df[\"chr\"].unique()[0]\n",
    "\n",
    "    # keep variants only present in genotype\n",
    "    snps_ids = list(set(snps_df[\"varID\"]).intersection(variants_ids_with_genotype))\n",
    "\n",
    "    chromosome_file = get_reference_panel_file(\n",
    "        REFERENCE_PANEL_DIR, f\"chr{chromosome}.variants\"\n",
    "    )\n",
    "    snps_genotypes = pd.read_parquet(chromosome_file, columns=snps_ids)\n",
    "\n",
    "    return covariance(snps_genotypes, COV_DTYPE)"
   ]
  },
  {
   "cell_type": "code",
   "execution_count": 62,
   "id": "db4aed3c",
   "metadata": {
    "execution": {
     "iopub.execute_input": "2022-07-09T09:55:03.102315Z",
     "iopub.status.busy": "2022-07-09T09:55:03.102157Z",
     "iopub.status.idle": "2022-07-09T09:55:03.118037Z",
     "shell.execute_reply": "2022-07-09T09:55:03.117451Z"
    },
    "papermill": {
     "duration": 0.029958,
     "end_time": "2022-07-09T09:55:03.119463",
     "exception": false,
     "start_time": "2022-07-09T09:55:03.089505",
     "status": "completed"
    },
    "tags": []
   },
   "outputs": [],
   "source": [
    "# testing\n",
    "_tmp_snps = variants_ld_block_df[variants_ld_block_df[\"chr\"] == 22]\n",
    "assert _tmp_snps.shape[0] > 0"
   ]
  },
  {
   "cell_type": "code",
   "execution_count": 63,
   "id": "db520e6e",
   "metadata": {
    "execution": {
     "iopub.execute_input": "2022-07-09T09:55:03.146171Z",
     "iopub.status.busy": "2022-07-09T09:55:03.145966Z",
     "iopub.status.idle": "2022-07-09T09:55:03.161131Z",
     "shell.execute_reply": "2022-07-09T09:55:03.160607Z"
    },
    "papermill": {
     "duration": 0.030061,
     "end_time": "2022-07-09T09:55:03.162397",
     "exception": false,
     "start_time": "2022-07-09T09:55:03.132336",
     "status": "completed"
    },
    "tags": []
   },
   "outputs": [
    {
     "data": {
      "text/plain": [
       "(2687, 5)"
      ]
     },
     "execution_count": 63,
     "metadata": {},
     "output_type": "execute_result"
    }
   ],
   "source": [
    "_tmp_snps.shape"
   ]
  },
  {
   "cell_type": "code",
   "execution_count": 64,
   "id": "7f7bb541",
   "metadata": {
    "execution": {
     "iopub.execute_input": "2022-07-09T09:55:03.190115Z",
     "iopub.status.busy": "2022-07-09T09:55:03.188671Z",
     "iopub.status.idle": "2022-07-09T09:55:03.209790Z",
     "shell.execute_reply": "2022-07-09T09:55:03.209394Z"
    },
    "papermill": {
     "duration": 0.037326,
     "end_time": "2022-07-09T09:55:03.212348",
     "exception": false,
     "start_time": "2022-07-09T09:55:03.175022",
     "status": "completed"
    },
    "tags": []
   },
   "outputs": [
    {
     "data": {
      "text/plain": [
       "2687"
      ]
     },
     "metadata": {},
     "output_type": "display_data"
    }
   ],
   "source": [
    "n_expected = len(set(_tmp_snps[\"varID\"]).intersection(variants_ids_with_genotype))\n",
    "display(n_expected)"
   ]
  },
  {
   "cell_type": "code",
   "execution_count": 65,
   "id": "f9de93c0",
   "metadata": {
    "execution": {
     "iopub.execute_input": "2022-07-09T09:55:03.238100Z",
     "iopub.status.busy": "2022-07-09T09:55:03.237937Z",
     "iopub.status.idle": "2022-07-09T09:55:17.415757Z",
     "shell.execute_reply": "2022-07-09T09:55:17.415235Z"
    },
    "papermill": {
     "duration": 14.192564,
     "end_time": "2022-07-09T09:55:17.417187",
     "exception": false,
     "start_time": "2022-07-09T09:55:03.224623",
     "status": "completed"
    },
    "tags": []
   },
   "outputs": [],
   "source": [
    "_tmp = compute_snps_cov(_tmp_snps)"
   ]
  },
  {
   "cell_type": "code",
   "execution_count": 66,
   "id": "46ab35a8",
   "metadata": {
    "execution": {
     "iopub.execute_input": "2022-07-09T09:55:17.442787Z",
     "iopub.status.busy": "2022-07-09T09:55:17.442445Z",
     "iopub.status.idle": "2022-07-09T09:55:17.466336Z",
     "shell.execute_reply": "2022-07-09T09:55:17.465741Z"
    },
    "papermill": {
     "duration": 0.038139,
     "end_time": "2022-07-09T09:55:17.467671",
     "exception": false,
     "start_time": "2022-07-09T09:55:17.429532",
     "status": "completed"
    },
    "tags": []
   },
   "outputs": [],
   "source": [
    "assert _tmp.shape == (n_expected, n_expected)\n",
    "assert not _tmp.isna().any().any()"
   ]
  },
  {
   "cell_type": "code",
   "execution_count": 67,
   "id": "9320eeb4",
   "metadata": {
    "execution": {
     "iopub.execute_input": "2022-07-09T09:55:17.493335Z",
     "iopub.status.busy": "2022-07-09T09:55:17.493133Z",
     "iopub.status.idle": "2022-07-09T09:55:17.507614Z",
     "shell.execute_reply": "2022-07-09T09:55:17.507127Z"
    },
    "papermill": {
     "duration": 0.028584,
     "end_time": "2022-07-09T09:55:17.509010",
     "exception": false,
     "start_time": "2022-07-09T09:55:17.480426",
     "status": "completed"
    },
    "tags": []
   },
   "outputs": [],
   "source": [
    "del _tmp_snps, _tmp"
   ]
  },
  {
   "cell_type": "markdown",
   "id": "1264f97f",
   "metadata": {
    "papermill": {
     "duration": 0.012213,
     "end_time": "2022-07-09T09:55:17.534397",
     "exception": false,
     "start_time": "2022-07-09T09:55:17.522184",
     "status": "completed"
    },
    "tags": []
   },
   "source": [
    "## Compute covariance and save"
   ]
  },
  {
   "cell_type": "code",
   "execution_count": 68,
   "id": "b938ae8a",
   "metadata": {
    "execution": {
     "iopub.execute_input": "2022-07-09T09:55:17.559478Z",
     "iopub.status.busy": "2022-07-09T09:55:17.559310Z",
     "iopub.status.idle": "2022-07-09T09:55:17.574069Z",
     "shell.execute_reply": "2022-07-09T09:55:17.573551Z"
    },
    "papermill": {
     "duration": 0.02864,
     "end_time": "2022-07-09T09:55:17.575261",
     "exception": false,
     "start_time": "2022-07-09T09:55:17.546621",
     "status": "completed"
    },
    "tags": []
   },
   "outputs": [
    {
     "data": {
      "text/plain": [
       "PosixPath('/opt/data/data/phenomexcan/ld_blocks/gene_corrs/gtex_v8/mashr/snps_chr_blocks_cov.h5')"
      ]
     },
     "metadata": {},
     "output_type": "display_data"
    }
   ],
   "source": [
    "output_file_name_template = conf.PHENOMEXCAN[\"LD_BLOCKS\"][\n",
    "    \"GENE_CORRS_FILE_NAME_TEMPLATES\"\n",
    "][\"SNPS_COVARIANCE\"]\n",
    "\n",
    "output_file = OUTPUT_DIR_BASE / output_file_name_template.format(\n",
    "    prefix=\"\",\n",
    "    suffix=\"\",\n",
    ")\n",
    "display(output_file)"
   ]
  },
  {
   "cell_type": "code",
   "execution_count": 69,
   "id": "8953db89",
   "metadata": {
    "execution": {
     "iopub.execute_input": "2022-07-09T09:55:17.600807Z",
     "iopub.status.busy": "2022-07-09T09:55:17.600648Z",
     "iopub.status.idle": "2022-07-09T10:16:02.876894Z",
     "shell.execute_reply": "2022-07-09T10:16:02.874899Z"
    },
    "papermill": {
     "duration": 1245.293984,
     "end_time": "2022-07-09T10:16:02.881656",
     "exception": false,
     "start_time": "2022-07-09T09:55:17.587672",
     "status": "completed"
    },
    "tags": []
   },
   "outputs": [
    {
     "name": "stderr",
     "output_type": "stream",
     "text": [
      "22 (2687, 5): 100%|█████████████████████████████████████████████████| 22/22 [20:44<00:00, 56.58s/it]\n"
     ]
    }
   ],
   "source": [
    "with pd.HDFStore(output_file, mode=\"w\", complevel=4) as store:\n",
    "    pbar = tqdm(\n",
    "        variants_ld_block_df.groupby(\"chr\"),\n",
    "        ncols=100,\n",
    "        total=variants_ld_block_df[\"chr\"].unique().shape[0],\n",
    "    )\n",
    "\n",
    "    store[\"metadata\"] = variants_ld_block_df\n",
    "\n",
    "    for grp_name, grp_data in pbar:\n",
    "        pbar.set_description(f\"{grp_name} {grp_data.shape}\")\n",
    "        snps_cov = compute_snps_cov(grp_data)  # .astype(COV_DTYPE)\n",
    "        assert not snps_cov.isna().any().any()\n",
    "        store[f\"chr{grp_name}\"] = snps_cov\n",
    "\n",
    "        del snps_cov\n",
    "        store.flush()\n",
    "\n",
    "        gc.collect()"
   ]
  },
  {
   "cell_type": "markdown",
   "id": "1de34e70",
   "metadata": {
    "papermill": {
     "duration": 0.03378,
     "end_time": "2022-07-09T10:16:02.930233",
     "exception": false,
     "start_time": "2022-07-09T10:16:02.896453",
     "status": "completed"
    },
    "tags": []
   },
   "source": [
    "# Testing"
   ]
  },
  {
   "cell_type": "code",
   "execution_count": 70,
   "id": "54fc512c",
   "metadata": {
    "execution": {
     "iopub.execute_input": "2022-07-09T10:16:02.978751Z",
     "iopub.status.busy": "2022-07-09T10:16:02.978530Z",
     "iopub.status.idle": "2022-07-09T10:16:02.994931Z",
     "shell.execute_reply": "2022-07-09T10:16:02.994403Z"
    },
    "papermill": {
     "duration": 0.034249,
     "end_time": "2022-07-09T10:16:02.996327",
     "exception": false,
     "start_time": "2022-07-09T10:16:02.962078",
     "status": "completed"
    },
    "tags": []
   },
   "outputs": [],
   "source": [
    "_tmp = variants_ld_block_df[variants_ld_block_df[\"chr\"] == 1]"
   ]
  },
  {
   "cell_type": "code",
   "execution_count": 71,
   "id": "a3bd8ede",
   "metadata": {
    "execution": {
     "iopub.execute_input": "2022-07-09T10:16:03.026238Z",
     "iopub.status.busy": "2022-07-09T10:16:03.026071Z",
     "iopub.status.idle": "2022-07-09T10:16:03.041774Z",
     "shell.execute_reply": "2022-07-09T10:16:03.041238Z"
    },
    "papermill": {
     "duration": 0.031824,
     "end_time": "2022-07-09T10:16:03.043078",
     "exception": false,
     "start_time": "2022-07-09T10:16:03.011254",
     "status": "completed"
    },
    "tags": []
   },
   "outputs": [
    {
     "data": {
      "text/plain": [
       "(8130, 5)"
      ]
     },
     "execution_count": 71,
     "metadata": {},
     "output_type": "execute_result"
    }
   ],
   "source": [
    "_tmp.shape"
   ]
  },
  {
   "cell_type": "code",
   "execution_count": 72,
   "id": "6149cee4",
   "metadata": {
    "execution": {
     "iopub.execute_input": "2022-07-09T10:16:03.073490Z",
     "iopub.status.busy": "2022-07-09T10:16:03.073307Z",
     "iopub.status.idle": "2022-07-09T10:16:03.087417Z",
     "shell.execute_reply": "2022-07-09T10:16:03.086928Z"
    },
    "papermill": {
     "duration": 0.030847,
     "end_time": "2022-07-09T10:16:03.088797",
     "exception": false,
     "start_time": "2022-07-09T10:16:03.057950",
     "status": "completed"
    },
    "tags": []
   },
   "outputs": [],
   "source": [
    "assert _tmp.shape[0] > 0"
   ]
  },
  {
   "cell_type": "code",
   "execution_count": 73,
   "id": "8aceb74a",
   "metadata": {
    "execution": {
     "iopub.execute_input": "2022-07-09T10:16:03.119329Z",
     "iopub.status.busy": "2022-07-09T10:16:03.119143Z",
     "iopub.status.idle": "2022-07-09T10:16:03.137562Z",
     "shell.execute_reply": "2022-07-09T10:16:03.137022Z"
    },
    "papermill": {
     "duration": 0.035244,
     "end_time": "2022-07-09T10:16:03.139025",
     "exception": false,
     "start_time": "2022-07-09T10:16:03.103781",
     "status": "completed"
    },
    "tags": []
   },
   "outputs": [
    {
     "data": {
      "text/plain": [
       "8130"
      ]
     },
     "metadata": {},
     "output_type": "display_data"
    }
   ],
   "source": [
    "n_expected = len(set(_tmp[\"varID\"]).intersection(variants_ids_with_genotype))\n",
    "display(n_expected)\n",
    "assert n_expected > 0"
   ]
  },
  {
   "cell_type": "code",
   "execution_count": 74,
   "id": "ffdb4c4b",
   "metadata": {
    "execution": {
     "iopub.execute_input": "2022-07-09T10:16:03.172159Z",
     "iopub.status.busy": "2022-07-09T10:16:03.171974Z",
     "iopub.status.idle": "2022-07-09T10:16:05.712666Z",
     "shell.execute_reply": "2022-07-09T10:16:05.711936Z"
    },
    "papermill": {
     "duration": 2.558597,
     "end_time": "2022-07-09T10:16:05.714222",
     "exception": false,
     "start_time": "2022-07-09T10:16:03.155625",
     "status": "completed"
    },
    "tags": []
   },
   "outputs": [],
   "source": [
    "with pd.HDFStore(output_file, mode=\"r\") as store:\n",
    "    df = store[\"chr1\"]\n",
    "    assert df.shape == (n_expected, n_expected)\n",
    "    assert not df.isna().any().any()"
   ]
  },
  {
   "cell_type": "code",
   "execution_count": null,
   "id": "49dccd49",
   "metadata": {
    "papermill": {
     "duration": 0.015709,
     "end_time": "2022-07-09T10:16:05.746921",
     "exception": false,
     "start_time": "2022-07-09T10:16:05.731212",
     "status": "completed"
    },
    "tags": []
   },
   "outputs": [],
   "source": []
  }
 ],
 "metadata": {
  "jupytext": {
   "cell_metadata_filter": "all,-execution,-papermill,-trusted",
   "formats": "ipynb,py//py:percent"
  },
  "kernelspec": {
   "display_name": "Python 3 (ipykernel)",
   "language": "python",
   "name": "python3"
  },
  "language_info": {
   "codemirror_mode": {
    "name": "ipython",
    "version": 3
   },
   "file_extension": ".py",
   "mimetype": "text/x-python",
   "name": "python",
   "nbconvert_exporter": "python",
   "pygments_lexer": "ipython3",
   "version": "3.8.13"
  },
  "papermill": {
   "default_parameters": {},
   "duration": 1278.898253,
   "end_time": "2022-07-09T10:16:07.192144",
   "environment_variables": {},
   "exception": null,
   "input_path": "nbs/15_gsa_gls/05-snps_into_chr_cov.ipynb",
   "output_path": "nbs/15_gsa_gls/gene_corrs/gtex_v8/mashr/05-snps_into_chr_cov.ipynb",
   "parameters": {
    "EQTL_MODEL": "MASHR",
    "REFERENCE_PANEL": "GTEX_V8"
   },
   "start_time": "2022-07-09T09:54:48.293891",
   "version": "2.2.2"
  }
 },
 "nbformat": 4,
 "nbformat_minor": 5
}
