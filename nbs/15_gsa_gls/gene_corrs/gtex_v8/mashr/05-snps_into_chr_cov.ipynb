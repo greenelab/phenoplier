{
 "cells": [
  {
   "cell_type": "markdown",
   "id": "d88b3ffc",
   "metadata": {
    "papermill": {
     "duration": 0.01324,
     "end_time": "2022-07-08T18:44:28.067452",
     "exception": false,
     "start_time": "2022-07-08T18:44:28.054212",
     "status": "completed"
    },
    "tags": []
   },
   "source": [
    "# Description"
   ]
  },
  {
   "cell_type": "markdown",
   "id": "69f66c44",
   "metadata": {
    "papermill": {
     "duration": 0.014403,
     "end_time": "2022-07-08T18:44:28.113564",
     "exception": false,
     "start_time": "2022-07-08T18:44:28.099161",
     "status": "completed"
    },
    "tags": []
   },
   "source": [
    "(Please, take a look at the README.md file in this directory for instructions on how to run this notebook)\n",
    "\n",
    "This notebook computes the covariance of SNPs for each chr."
   ]
  },
  {
   "cell_type": "markdown",
   "id": "0cb79cbe",
   "metadata": {
    "papermill": {
     "duration": 0.008225,
     "end_time": "2022-07-08T18:44:28.130996",
     "exception": false,
     "start_time": "2022-07-08T18:44:28.122771",
     "status": "completed"
    },
    "tags": []
   },
   "source": [
    "# Modules"
   ]
  },
  {
   "cell_type": "code",
   "execution_count": 1,
   "id": "0a4272be",
   "metadata": {
    "execution": {
     "iopub.execute_input": "2022-07-08T18:44:28.178245Z",
     "iopub.status.busy": "2022-07-08T18:44:28.178029Z",
     "iopub.status.idle": "2022-07-08T18:44:28.194755Z",
     "shell.execute_reply": "2022-07-08T18:44:28.194184Z"
    },
    "papermill": {
     "duration": 0.02894,
     "end_time": "2022-07-08T18:44:28.196406",
     "exception": false,
     "start_time": "2022-07-08T18:44:28.167466",
     "status": "completed"
    },
    "tags": []
   },
   "outputs": [],
   "source": [
    "%load_ext autoreload\n",
    "%autoreload 2"
   ]
  },
  {
   "cell_type": "code",
   "execution_count": 2,
   "id": "4141c781",
   "metadata": {
    "execution": {
     "iopub.execute_input": "2022-07-08T18:44:28.216344Z",
     "iopub.status.busy": "2022-07-08T18:44:28.216159Z",
     "iopub.status.idle": "2022-07-08T18:44:28.700592Z",
     "shell.execute_reply": "2022-07-08T18:44:28.699917Z"
    },
    "papermill": {
     "duration": 0.496125,
     "end_time": "2022-07-08T18:44:28.702109",
     "exception": false,
     "start_time": "2022-07-08T18:44:28.205984",
     "status": "completed"
    },
    "tags": []
   },
   "outputs": [],
   "source": [
    "import gc\n",
    "import sqlite3\n",
    "from pathlib import Path\n",
    "\n",
    "import numpy as np\n",
    "import pandas as pd\n",
    "from tqdm import tqdm\n",
    "\n",
    "import conf\n",
    "from entity import Gene"
   ]
  },
  {
   "cell_type": "markdown",
   "id": "37055abe",
   "metadata": {
    "papermill": {
     "duration": 0.009071,
     "end_time": "2022-07-08T18:44:28.721404",
     "exception": false,
     "start_time": "2022-07-08T18:44:28.712333",
     "status": "completed"
    },
    "tags": []
   },
   "source": [
    "# Settings"
   ]
  },
  {
   "cell_type": "code",
   "execution_count": 3,
   "id": "c264a67f",
   "metadata": {
    "execution": {
     "iopub.execute_input": "2022-07-08T18:44:28.740833Z",
     "iopub.status.busy": "2022-07-08T18:44:28.740485Z",
     "iopub.status.idle": "2022-07-08T18:44:28.754125Z",
     "shell.execute_reply": "2022-07-08T18:44:28.753542Z"
    },
    "papermill": {
     "duration": 0.025014,
     "end_time": "2022-07-08T18:44:28.755637",
     "exception": false,
     "start_time": "2022-07-08T18:44:28.730623",
     "status": "completed"
    },
    "tags": []
   },
   "outputs": [],
   "source": [
    "COV_DTYPE = np.float32"
   ]
  },
  {
   "cell_type": "code",
   "execution_count": 4,
   "id": "ac93914d",
   "metadata": {
    "execution": {
     "iopub.execute_input": "2022-07-08T18:44:28.775904Z",
     "iopub.status.busy": "2022-07-08T18:44:28.775386Z",
     "iopub.status.idle": "2022-07-08T18:44:28.788943Z",
     "shell.execute_reply": "2022-07-08T18:44:28.788250Z"
    },
    "papermill": {
     "duration": 0.025256,
     "end_time": "2022-07-08T18:44:28.790361",
     "exception": false,
     "start_time": "2022-07-08T18:44:28.765105",
     "status": "completed"
    },
    "tags": [
     "parameters"
    ]
   },
   "outputs": [],
   "source": [
    "# reference panel\n",
    "REFERENCE_PANEL = \"GTEX_V8\"\n",
    "# REFERENCE_PANEL = \"1000G\"\n",
    "\n",
    "# prediction models\n",
    "## mashr\n",
    "EQTL_MODEL = \"MASHR\"\n",
    "EQTL_MODEL_FILES_PREFIX = \"mashr_\"\n",
    "\n",
    "# ## elastic net\n",
    "# EQTL_MODEL = \"ELASTIC_NET\"\n",
    "# EQTL_MODEL_FILES_PREFIX = \"en_\"\n",
    "\n",
    "# make it read the prefix from conf.py\n",
    "EQTL_MODEL_FILES_PREFIX = None"
   ]
  },
  {
   "cell_type": "code",
   "execution_count": 5,
   "id": "228aa7b2",
   "metadata": {
    "execution": {
     "iopub.execute_input": "2022-07-08T18:44:28.808294Z",
     "iopub.status.busy": "2022-07-08T18:44:28.808116Z",
     "iopub.status.idle": "2022-07-08T18:44:28.820552Z",
     "shell.execute_reply": "2022-07-08T18:44:28.820021Z"
    },
    "papermill": {
     "duration": 0.023,
     "end_time": "2022-07-08T18:44:28.822028",
     "exception": false,
     "start_time": "2022-07-08T18:44:28.799028",
     "status": "completed"
    },
    "tags": [
     "injected-parameters"
    ]
   },
   "outputs": [],
   "source": [
    "# Parameters\n",
    "REFERENCE_PANEL = \"GTEX_V8\"\n",
    "EQTL_MODEL = \"MASHR\"\n"
   ]
  },
  {
   "cell_type": "code",
   "execution_count": 6,
   "id": "455c2e55",
   "metadata": {
    "execution": {
     "iopub.execute_input": "2022-07-08T18:44:28.841252Z",
     "iopub.status.busy": "2022-07-08T18:44:28.841076Z",
     "iopub.status.idle": "2022-07-08T18:44:28.854046Z",
     "shell.execute_reply": "2022-07-08T18:44:28.853514Z"
    },
    "papermill": {
     "duration": 0.024559,
     "end_time": "2022-07-08T18:44:28.855713",
     "exception": false,
     "start_time": "2022-07-08T18:44:28.831154",
     "status": "completed"
    },
    "tags": []
   },
   "outputs": [],
   "source": [
    "if EQTL_MODEL_FILES_PREFIX is None:\n",
    "    EQTL_MODEL_FILES_PREFIX = conf.PHENOMEXCAN[\"PREDICTION_MODELS\"][\n",
    "        f\"{EQTL_MODEL}_PREFIX\"\n",
    "    ]"
   ]
  },
  {
   "cell_type": "code",
   "execution_count": 7,
   "id": "ebd7a49b-8062-4c37-b571-efb5c4689adc",
   "metadata": {
    "execution": {
     "iopub.execute_input": "2022-07-08T18:44:28.875465Z",
     "iopub.status.busy": "2022-07-08T18:44:28.875009Z",
     "iopub.status.idle": "2022-07-08T18:44:28.893579Z",
     "shell.execute_reply": "2022-07-08T18:44:28.892974Z"
    },
    "papermill": {
     "duration": 0.029952,
     "end_time": "2022-07-08T18:44:28.895025",
     "exception": false,
     "start_time": "2022-07-08T18:44:28.865073",
     "status": "completed"
    },
    "tags": []
   },
   "outputs": [
    {
     "data": {
      "text/plain": [
       "'Using eQTL model: MASHR / mashr_'"
      ]
     },
     "metadata": {},
     "output_type": "display_data"
    }
   ],
   "source": [
    "display(f\"Using eQTL model: {EQTL_MODEL} / {EQTL_MODEL_FILES_PREFIX}\")"
   ]
  },
  {
   "cell_type": "code",
   "execution_count": 8,
   "id": "32bd0019-14eb-4645-8a7f-98bdcf11e04a",
   "metadata": {
    "execution": {
     "iopub.execute_input": "2022-07-08T18:44:28.916534Z",
     "iopub.status.busy": "2022-07-08T18:44:28.916351Z",
     "iopub.status.idle": "2022-07-08T18:44:28.928904Z",
     "shell.execute_reply": "2022-07-08T18:44:28.928367Z"
    },
    "papermill": {
     "duration": 0.025702,
     "end_time": "2022-07-08T18:44:28.930566",
     "exception": false,
     "start_time": "2022-07-08T18:44:28.904864",
     "status": "completed"
    },
    "tags": []
   },
   "outputs": [],
   "source": [
    "REFERENCE_PANEL_DIR = conf.PHENOMEXCAN[\"LD_BLOCKS\"][f\"{REFERENCE_PANEL}_GENOTYPE_DIR\"]"
   ]
  },
  {
   "cell_type": "code",
   "execution_count": 9,
   "id": "a2ea1be5",
   "metadata": {
    "execution": {
     "iopub.execute_input": "2022-07-08T18:44:28.950216Z",
     "iopub.status.busy": "2022-07-08T18:44:28.949687Z",
     "iopub.status.idle": "2022-07-08T18:44:28.963436Z",
     "shell.execute_reply": "2022-07-08T18:44:28.962899Z"
    },
    "papermill": {
     "duration": 0.024867,
     "end_time": "2022-07-08T18:44:28.964830",
     "exception": false,
     "start_time": "2022-07-08T18:44:28.939963",
     "status": "completed"
    },
    "tags": []
   },
   "outputs": [
    {
     "data": {
      "text/plain": [
       "'Using reference panel folder: /opt/data/data/phenomexcan/ld_blocks/reference_panel_gtex_v8'"
      ]
     },
     "metadata": {},
     "output_type": "display_data"
    }
   ],
   "source": [
    "display(f\"Using reference panel folder: {str(REFERENCE_PANEL_DIR)}\")"
   ]
  },
  {
   "cell_type": "code",
   "execution_count": 10,
   "id": "e9bac058-9add-44c1-897d-09200964448c",
   "metadata": {
    "execution": {
     "iopub.execute_input": "2022-07-08T18:44:28.984534Z",
     "iopub.status.busy": "2022-07-08T18:44:28.984039Z",
     "iopub.status.idle": "2022-07-08T18:44:28.996654Z",
     "shell.execute_reply": "2022-07-08T18:44:28.996137Z"
    },
    "papermill": {
     "duration": 0.023674,
     "end_time": "2022-07-08T18:44:28.998069",
     "exception": false,
     "start_time": "2022-07-08T18:44:28.974395",
     "status": "completed"
    },
    "tags": []
   },
   "outputs": [],
   "source": [
    "OUTPUT_DIR_BASE = (\n",
    "    conf.PHENOMEXCAN[\"LD_BLOCKS\"][f\"GENE_CORRS_DIR\"]\n",
    "    / REFERENCE_PANEL.lower()\n",
    "    / EQTL_MODEL.lower()\n",
    ")\n",
    "OUTPUT_DIR_BASE.mkdir(parents=True, exist_ok=True)"
   ]
  },
  {
   "cell_type": "code",
   "execution_count": 11,
   "id": "09a8d5b0-82d8-4f5d-97f4-6910301cba8b",
   "metadata": {
    "execution": {
     "iopub.execute_input": "2022-07-08T18:44:29.016073Z",
     "iopub.status.busy": "2022-07-08T18:44:29.015911Z",
     "iopub.status.idle": "2022-07-08T18:44:29.028439Z",
     "shell.execute_reply": "2022-07-08T18:44:29.027837Z"
    },
    "papermill": {
     "duration": 0.023046,
     "end_time": "2022-07-08T18:44:29.029725",
     "exception": false,
     "start_time": "2022-07-08T18:44:29.006679",
     "status": "completed"
    },
    "tags": []
   },
   "outputs": [
    {
     "data": {
      "text/plain": [
       "'Using output dir base: /opt/data/data/phenomexcan/ld_blocks/gene_corrs/gtex_v8/mashr'"
      ]
     },
     "metadata": {},
     "output_type": "display_data"
    }
   ],
   "source": [
    "display(f\"Using output dir base: {OUTPUT_DIR_BASE}\")"
   ]
  },
  {
   "cell_type": "markdown",
   "id": "37dfafb8",
   "metadata": {
    "papermill": {
     "duration": 0.008103,
     "end_time": "2022-07-08T18:44:29.046634",
     "exception": false,
     "start_time": "2022-07-08T18:44:29.038531",
     "status": "completed"
    },
    "tags": []
   },
   "source": [
    "# Load data"
   ]
  },
  {
   "cell_type": "markdown",
   "id": "c6f55abd",
   "metadata": {
    "papermill": {
     "duration": 0.008502,
     "end_time": "2022-07-08T18:44:29.063285",
     "exception": false,
     "start_time": "2022-07-08T18:44:29.054783",
     "status": "completed"
    },
    "tags": []
   },
   "source": [
    "## Functions"
   ]
  },
  {
   "cell_type": "code",
   "execution_count": 12,
   "id": "5d1731cc-7c43-4dbe-bea5-88a9ecfc58f8",
   "metadata": {
    "execution": {
     "iopub.execute_input": "2022-07-08T18:44:29.081415Z",
     "iopub.status.busy": "2022-07-08T18:44:29.081212Z",
     "iopub.status.idle": "2022-07-08T18:44:29.094106Z",
     "shell.execute_reply": "2022-07-08T18:44:29.093602Z"
    },
    "papermill": {
     "duration": 0.023377,
     "end_time": "2022-07-08T18:44:29.095440",
     "exception": false,
     "start_time": "2022-07-08T18:44:29.072063",
     "status": "completed"
    },
    "tags": []
   },
   "outputs": [],
   "source": [
    "def get_reference_panel_file(directory: Path, file_pattern: str) -> Path:\n",
    "    files = list(directory.glob(f\"*{file_pattern}*.parquet\"))\n",
    "    assert len(files) == 1, f\"More than one file was found: {files}\"\n",
    "    return files[0]"
   ]
  },
  {
   "cell_type": "code",
   "execution_count": 13,
   "id": "5b460090-39d3-40da-a06a-8ccc039e748c",
   "metadata": {
    "execution": {
     "iopub.execute_input": "2022-07-08T18:44:29.113383Z",
     "iopub.status.busy": "2022-07-08T18:44:29.113198Z",
     "iopub.status.idle": "2022-07-08T18:44:29.128435Z",
     "shell.execute_reply": "2022-07-08T18:44:29.127951Z"
    },
    "papermill": {
     "duration": 0.025794,
     "end_time": "2022-07-08T18:44:29.129758",
     "exception": false,
     "start_time": "2022-07-08T18:44:29.103964",
     "status": "completed"
    },
    "tags": []
   },
   "outputs": [],
   "source": [
    "# testing\n",
    "_tmp = get_reference_panel_file(\n",
    "    conf.PHENOMEXCAN[\"LD_BLOCKS\"][\"GTEX_V8_GENOTYPE_DIR\"], \"chr1.variants\"\n",
    ")\n",
    "assert _tmp is not None\n",
    "assert (\n",
    "    _tmp.name\n",
    "    == \"gtex_v8_eur_filtered_maf0.01_monoallelic_variants.chr1.variants.parquet\"\n",
    ")\n",
    "\n",
    "_tmp = get_reference_panel_file(\n",
    "    conf.PHENOMEXCAN[\"LD_BLOCKS\"][\"GTEX_V8_GENOTYPE_DIR\"], \"_metadata\"\n",
    ")\n",
    "assert _tmp is not None\n",
    "assert (\n",
    "    _tmp.name\n",
    "    == \"gtex_v8_eur_filtered_maf0.01_monoallelic_variants.variants_metadata.parquet\"\n",
    ")\n",
    "\n",
    "# 1000G\n",
    "_tmp = get_reference_panel_file(\n",
    "    conf.PHENOMEXCAN[\"LD_BLOCKS\"][\"1000G_GENOTYPE_DIR\"], \"chr1.variants\"\n",
    ")\n",
    "assert _tmp is not None\n",
    "assert _tmp.name == \"chr1.variants.parquet\"\n",
    "\n",
    "_tmp = get_reference_panel_file(\n",
    "    conf.PHENOMEXCAN[\"LD_BLOCKS\"][\"1000G_GENOTYPE_DIR\"], \"_metadata\"\n",
    ")\n",
    "assert _tmp is not None\n",
    "assert _tmp.name == \"variant_metadata.parquet\"\n",
    "\n",
    "# pattern matches more than one file\n",
    "try:\n",
    "    get_reference_panel_file(\n",
    "        conf.PHENOMEXCAN[\"LD_BLOCKS\"][\"1000G_GENOTYPE_DIR\"], \"chr1\"\n",
    "    )\n",
    "    raise AssertionError(\"Exception was not raised\")\n",
    "except AssertionError as e:\n",
    "    assert \"More than one file was found\" in str(e)"
   ]
  },
  {
   "cell_type": "markdown",
   "id": "cd93f57d-ba1b-463c-b5ae-97435954a5de",
   "metadata": {
    "papermill": {
     "duration": 0.008357,
     "end_time": "2022-07-08T18:44:29.146868",
     "exception": false,
     "start_time": "2022-07-08T18:44:29.138511",
     "status": "completed"
    },
    "tags": []
   },
   "source": [
    "## SNPs in predictions models"
   ]
  },
  {
   "cell_type": "code",
   "execution_count": 14,
   "id": "c94c4cbb",
   "metadata": {
    "execution": {
     "iopub.execute_input": "2022-07-08T18:44:29.166912Z",
     "iopub.status.busy": "2022-07-08T18:44:29.165906Z",
     "iopub.status.idle": "2022-07-08T18:44:29.179061Z",
     "shell.execute_reply": "2022-07-08T18:44:29.178546Z"
    },
    "papermill": {
     "duration": 0.024638,
     "end_time": "2022-07-08T18:44:29.180461",
     "exception": false,
     "start_time": "2022-07-08T18:44:29.155823",
     "status": "completed"
    },
    "tags": []
   },
   "outputs": [],
   "source": [
    "mashr_models_db_files = list(\n",
    "    conf.PHENOMEXCAN[\"PREDICTION_MODELS\"][EQTL_MODEL].glob(\"*.db\")\n",
    ")"
   ]
  },
  {
   "cell_type": "code",
   "execution_count": 15,
   "id": "9015c1d7",
   "metadata": {
    "execution": {
     "iopub.execute_input": "2022-07-08T18:44:29.198799Z",
     "iopub.status.busy": "2022-07-08T18:44:29.198636Z",
     "iopub.status.idle": "2022-07-08T18:44:29.210415Z",
     "shell.execute_reply": "2022-07-08T18:44:29.209926Z"
    },
    "papermill": {
     "duration": 0.022472,
     "end_time": "2022-07-08T18:44:29.211812",
     "exception": false,
     "start_time": "2022-07-08T18:44:29.189340",
     "status": "completed"
    },
    "tags": []
   },
   "outputs": [],
   "source": [
    "assert len(mashr_models_db_files) == 49"
   ]
  },
  {
   "cell_type": "code",
   "execution_count": 16,
   "id": "d5a28a46",
   "metadata": {
    "execution": {
     "iopub.execute_input": "2022-07-08T18:44:29.230157Z",
     "iopub.status.busy": "2022-07-08T18:44:29.229964Z",
     "iopub.status.idle": "2022-07-08T18:44:30.768441Z",
     "shell.execute_reply": "2022-07-08T18:44:30.767779Z"
    },
    "papermill": {
     "duration": 1.549361,
     "end_time": "2022-07-08T18:44:30.769801",
     "exception": false,
     "start_time": "2022-07-08T18:44:29.220440",
     "status": "completed"
    },
    "tags": []
   },
   "outputs": [
    {
     "name": "stdout",
     "output_type": "stream",
     "text": [
      "Processing mashr_Skin_Not_Sun_Exposed_Suprapubic.db\n",
      "Processing mashr_Cells_EBV-transformed_lymphocytes.db\n",
      "Processing mashr_Brain_Frontal_Cortex_BA9.db\n",
      "Processing mashr_Kidney_Cortex.db\n",
      "Processing mashr_Brain_Substantia_nigra.db\n",
      "Processing mashr_Spleen.db\n",
      "Processing mashr_Colon_Transverse.db\n",
      "Processing mashr_Heart_Left_Ventricle.db\n",
      "Processing mashr_Lung.db\n",
      "Processing mashr_Muscle_Skeletal.db\n",
      "Processing mashr_Brain_Hypothalamus.db\n",
      "Processing mashr_Brain_Cortex.db\n",
      "Processing mashr_Brain_Amygdala.db\n",
      "Processing mashr_Esophagus_Mucosa.db\n",
      "Processing mashr_Adrenal_Gland.db\n",
      "Processing mashr_Uterus.db\n",
      "Processing mashr_Prostate.db\n",
      "Processing mashr_Whole_Blood.db\n",
      "Processing mashr_Pituitary.db\n",
      "Processing mashr_Esophagus_Gastroesophageal_Junction.db\n",
      "Processing mashr_Stomach.db\n",
      "Processing mashr_Heart_Atrial_Appendage.db\n",
      "Processing mashr_Brain_Cerebellum.db\n",
      "Processing mashr_Breast_Mammary_Tissue.db\n",
      "Processing mashr_Artery_Tibial.db\n",
      "Processing mashr_Artery_Aorta.db\n",
      "Processing mashr_Small_Intestine_Terminal_Ileum.db\n",
      "Processing mashr_Brain_Hippocampus.db\n",
      "Processing mashr_Testis.db\n",
      "Processing mashr_Brain_Putamen_basal_ganglia.db\n",
      "Processing mashr_Pancreas.db\n",
      "Processing mashr_Adipose_Subcutaneous.db\n",
      "Processing mashr_Brain_Cerebellar_Hemisphere.db\n",
      "Processing mashr_Colon_Sigmoid.db\n",
      "Processing mashr_Minor_Salivary_Gland.db\n",
      "Processing mashr_Cells_Cultured_fibroblasts.db\n",
      "Processing mashr_Brain_Nucleus_accumbens_basal_ganglia.db\n",
      "Processing mashr_Brain_Anterior_cingulate_cortex_BA24.db\n",
      "Processing mashr_Vagina.db\n",
      "Processing mashr_Ovary.db\n",
      "Processing mashr_Skin_Sun_Exposed_Lower_leg.db\n",
      "Processing mashr_Esophagus_Muscularis.db\n",
      "Processing mashr_Brain_Spinal_cord_cervical_c-1.db\n",
      "Processing mashr_Artery_Coronary.db\n",
      "Processing mashr_Thyroid.db\n",
      "Processing mashr_Brain_Caudate_basal_ganglia.db\n",
      "Processing mashr_Adipose_Visceral_Omentum.db\n",
      "Processing mashr_Nerve_Tibial.db\n",
      "Processing mashr_Liver.db\n"
     ]
    }
   ],
   "source": [
    "all_variants_ids = []\n",
    "\n",
    "for m in mashr_models_db_files:\n",
    "    print(f\"Processing {m.name}\")\n",
    "    tissue = m.name.split(EQTL_MODEL_FILES_PREFIX)[1].split(\".db\")[0]\n",
    "\n",
    "    with sqlite3.connect(m) as conn:\n",
    "        df = pd.read_sql(\"select gene, varID from weights\", conn)\n",
    "        df[\"gene\"] = df[\"gene\"].apply(lambda x: x.split(\".\")[0])\n",
    "        df = df.assign(tissue=tissue)\n",
    "\n",
    "        all_variants_ids.append(df)"
   ]
  },
  {
   "cell_type": "code",
   "execution_count": 17,
   "id": "986feda1",
   "metadata": {
    "execution": {
     "iopub.execute_input": "2022-07-08T18:44:30.789096Z",
     "iopub.status.busy": "2022-07-08T18:44:30.788934Z",
     "iopub.status.idle": "2022-07-08T18:44:30.958103Z",
     "shell.execute_reply": "2022-07-08T18:44:30.957508Z"
    },
    "papermill": {
     "duration": 0.18033,
     "end_time": "2022-07-08T18:44:30.959689",
     "exception": false,
     "start_time": "2022-07-08T18:44:30.779359",
     "status": "completed"
    },
    "tags": []
   },
   "outputs": [],
   "source": [
    "all_gene_snps = pd.concat(all_variants_ids, ignore_index=True)"
   ]
  },
  {
   "cell_type": "code",
   "execution_count": 18,
   "id": "cdbb12ef",
   "metadata": {
    "execution": {
     "iopub.execute_input": "2022-07-08T18:44:30.981267Z",
     "iopub.status.busy": "2022-07-08T18:44:30.981092Z",
     "iopub.status.idle": "2022-07-08T18:44:30.994428Z",
     "shell.execute_reply": "2022-07-08T18:44:30.993878Z"
    },
    "papermill": {
     "duration": 0.025544,
     "end_time": "2022-07-08T18:44:30.995755",
     "exception": false,
     "start_time": "2022-07-08T18:44:30.970211",
     "status": "completed"
    },
    "tags": []
   },
   "outputs": [
    {
     "data": {
      "text/plain": [
       "(1132714, 3)"
      ]
     },
     "execution_count": 18,
     "metadata": {},
     "output_type": "execute_result"
    }
   ],
   "source": [
    "all_gene_snps.shape"
   ]
  },
  {
   "cell_type": "code",
   "execution_count": 19,
   "id": "c5300203",
   "metadata": {
    "execution": {
     "iopub.execute_input": "2022-07-08T18:44:31.018469Z",
     "iopub.status.busy": "2022-07-08T18:44:31.018100Z",
     "iopub.status.idle": "2022-07-08T18:44:31.034397Z",
     "shell.execute_reply": "2022-07-08T18:44:31.033871Z"
    },
    "papermill": {
     "duration": 0.027248,
     "end_time": "2022-07-08T18:44:31.035623",
     "exception": false,
     "start_time": "2022-07-08T18:44:31.008375",
     "status": "completed"
    },
    "tags": []
   },
   "outputs": [
    {
     "data": {
      "text/html": [
       "<div>\n",
       "<style scoped>\n",
       "    .dataframe tbody tr th:only-of-type {\n",
       "        vertical-align: middle;\n",
       "    }\n",
       "\n",
       "    .dataframe tbody tr th {\n",
       "        vertical-align: top;\n",
       "    }\n",
       "\n",
       "    .dataframe thead th {\n",
       "        text-align: right;\n",
       "    }\n",
       "</style>\n",
       "<table border=\"1\" class=\"dataframe\">\n",
       "  <thead>\n",
       "    <tr style=\"text-align: right;\">\n",
       "      <th></th>\n",
       "      <th>gene</th>\n",
       "      <th>varID</th>\n",
       "      <th>tissue</th>\n",
       "    </tr>\n",
       "  </thead>\n",
       "  <tbody>\n",
       "    <tr>\n",
       "      <th>0</th>\n",
       "      <td>ENSG00000169583</td>\n",
       "      <td>chr9_136996001_G_A_b38</td>\n",
       "      <td>Skin_Not_Sun_Exposed_Suprapubic</td>\n",
       "    </tr>\n",
       "    <tr>\n",
       "      <th>1</th>\n",
       "      <td>ENSG00000107331</td>\n",
       "      <td>chr9_137029055_C_CA_b38</td>\n",
       "      <td>Skin_Not_Sun_Exposed_Suprapubic</td>\n",
       "    </tr>\n",
       "    <tr>\n",
       "      <th>2</th>\n",
       "      <td>ENSG00000107331</td>\n",
       "      <td>chr9_137029407_T_G_b38</td>\n",
       "      <td>Skin_Not_Sun_Exposed_Suprapubic</td>\n",
       "    </tr>\n",
       "    <tr>\n",
       "      <th>3</th>\n",
       "      <td>ENSG00000180549</td>\n",
       "      <td>chr9_137031950_T_C_b38</td>\n",
       "      <td>Skin_Not_Sun_Exposed_Suprapubic</td>\n",
       "    </tr>\n",
       "    <tr>\n",
       "      <th>4</th>\n",
       "      <td>ENSG00000180549</td>\n",
       "      <td>chr9_137032610_A_G_b38</td>\n",
       "      <td>Skin_Not_Sun_Exposed_Suprapubic</td>\n",
       "    </tr>\n",
       "  </tbody>\n",
       "</table>\n",
       "</div>"
      ],
      "text/plain": [
       "              gene                    varID                           tissue\n",
       "0  ENSG00000169583   chr9_136996001_G_A_b38  Skin_Not_Sun_Exposed_Suprapubic\n",
       "1  ENSG00000107331  chr9_137029055_C_CA_b38  Skin_Not_Sun_Exposed_Suprapubic\n",
       "2  ENSG00000107331   chr9_137029407_T_G_b38  Skin_Not_Sun_Exposed_Suprapubic\n",
       "3  ENSG00000180549   chr9_137031950_T_C_b38  Skin_Not_Sun_Exposed_Suprapubic\n",
       "4  ENSG00000180549   chr9_137032610_A_G_b38  Skin_Not_Sun_Exposed_Suprapubic"
      ]
     },
     "execution_count": 19,
     "metadata": {},
     "output_type": "execute_result"
    }
   ],
   "source": [
    "all_gene_snps.head()"
   ]
  },
  {
   "cell_type": "code",
   "execution_count": 20,
   "id": "e5a2d4be",
   "metadata": {
    "execution": {
     "iopub.execute_input": "2022-07-08T18:44:31.055378Z",
     "iopub.status.busy": "2022-07-08T18:44:31.054791Z",
     "iopub.status.idle": "2022-07-08T18:44:31.390505Z",
     "shell.execute_reply": "2022-07-08T18:44:31.389927Z"
    },
    "papermill": {
     "duration": 0.347371,
     "end_time": "2022-07-08T18:44:31.392103",
     "exception": false,
     "start_time": "2022-07-08T18:44:31.044732",
     "status": "completed"
    },
    "tags": []
   },
   "outputs": [],
   "source": [
    "all_snps_in_models = set(all_gene_snps[\"varID\"].unique())"
   ]
  },
  {
   "cell_type": "markdown",
   "id": "e2cfb3d9",
   "metadata": {
    "papermill": {
     "duration": 0.010936,
     "end_time": "2022-07-08T18:44:31.414035",
     "exception": false,
     "start_time": "2022-07-08T18:44:31.403099",
     "status": "completed"
    },
    "tags": []
   },
   "source": [
    "## MultiPLIER Z"
   ]
  },
  {
   "cell_type": "code",
   "execution_count": 21,
   "id": "0e901bf8",
   "metadata": {
    "execution": {
     "iopub.execute_input": "2022-07-08T18:44:31.435325Z",
     "iopub.status.busy": "2022-07-08T18:44:31.435156Z",
     "iopub.status.idle": "2022-07-08T18:44:31.469569Z",
     "shell.execute_reply": "2022-07-08T18:44:31.469022Z"
    },
    "papermill": {
     "duration": 0.046736,
     "end_time": "2022-07-08T18:44:31.471010",
     "exception": false,
     "start_time": "2022-07-08T18:44:31.424274",
     "status": "completed"
    },
    "tags": []
   },
   "outputs": [],
   "source": [
    "multiplier_z = pd.read_pickle(conf.MULTIPLIER[\"MODEL_Z_MATRIX_FILE\"])"
   ]
  },
  {
   "cell_type": "code",
   "execution_count": 22,
   "id": "55da6f21",
   "metadata": {
    "execution": {
     "iopub.execute_input": "2022-07-08T18:44:31.490931Z",
     "iopub.status.busy": "2022-07-08T18:44:31.490762Z",
     "iopub.status.idle": "2022-07-08T18:44:31.503211Z",
     "shell.execute_reply": "2022-07-08T18:44:31.502672Z"
    },
    "papermill": {
     "duration": 0.023698,
     "end_time": "2022-07-08T18:44:31.504480",
     "exception": false,
     "start_time": "2022-07-08T18:44:31.480782",
     "status": "completed"
    },
    "tags": []
   },
   "outputs": [
    {
     "data": {
      "text/plain": [
       "(6750, 987)"
      ]
     },
     "execution_count": 22,
     "metadata": {},
     "output_type": "execute_result"
    }
   ],
   "source": [
    "multiplier_z.shape"
   ]
  },
  {
   "cell_type": "code",
   "execution_count": 23,
   "id": "5efd6fc7",
   "metadata": {
    "execution": {
     "iopub.execute_input": "2022-07-08T18:44:31.524114Z",
     "iopub.status.busy": "2022-07-08T18:44:31.523919Z",
     "iopub.status.idle": "2022-07-08T18:44:31.563249Z",
     "shell.execute_reply": "2022-07-08T18:44:31.562714Z"
    },
    "papermill": {
     "duration": 0.050805,
     "end_time": "2022-07-08T18:44:31.564557",
     "exception": false,
     "start_time": "2022-07-08T18:44:31.513752",
     "status": "completed"
    },
    "tags": []
   },
   "outputs": [
    {
     "data": {
      "text/html": [
       "<div>\n",
       "<style scoped>\n",
       "    .dataframe tbody tr th:only-of-type {\n",
       "        vertical-align: middle;\n",
       "    }\n",
       "\n",
       "    .dataframe tbody tr th {\n",
       "        vertical-align: top;\n",
       "    }\n",
       "\n",
       "    .dataframe thead th {\n",
       "        text-align: right;\n",
       "    }\n",
       "</style>\n",
       "<table border=\"1\" class=\"dataframe\">\n",
       "  <thead>\n",
       "    <tr style=\"text-align: right;\">\n",
       "      <th></th>\n",
       "      <th>LV1</th>\n",
       "      <th>LV2</th>\n",
       "      <th>LV3</th>\n",
       "      <th>LV4</th>\n",
       "      <th>LV5</th>\n",
       "      <th>LV6</th>\n",
       "      <th>LV7</th>\n",
       "      <th>LV8</th>\n",
       "      <th>LV9</th>\n",
       "      <th>LV10</th>\n",
       "      <th>...</th>\n",
       "      <th>LV978</th>\n",
       "      <th>LV979</th>\n",
       "      <th>LV980</th>\n",
       "      <th>LV981</th>\n",
       "      <th>LV982</th>\n",
       "      <th>LV983</th>\n",
       "      <th>LV984</th>\n",
       "      <th>LV985</th>\n",
       "      <th>LV986</th>\n",
       "      <th>LV987</th>\n",
       "    </tr>\n",
       "  </thead>\n",
       "  <tbody>\n",
       "    <tr>\n",
       "      <th>GAS6</th>\n",
       "      <td>0.000000</td>\n",
       "      <td>0.0</td>\n",
       "      <td>0.039438</td>\n",
       "      <td>0.0</td>\n",
       "      <td>0.050476</td>\n",
       "      <td>0.000000</td>\n",
       "      <td>0.0</td>\n",
       "      <td>0.000000</td>\n",
       "      <td>0.590949</td>\n",
       "      <td>0.000000</td>\n",
       "      <td>...</td>\n",
       "      <td>0.050125</td>\n",
       "      <td>0.00000</td>\n",
       "      <td>0.033407</td>\n",
       "      <td>0.000000</td>\n",
       "      <td>0.000000</td>\n",
       "      <td>0.005963</td>\n",
       "      <td>0.347362</td>\n",
       "      <td>0.0</td>\n",
       "      <td>0.000000</td>\n",
       "      <td>0.000000</td>\n",
       "    </tr>\n",
       "    <tr>\n",
       "      <th>MMP14</th>\n",
       "      <td>0.000000</td>\n",
       "      <td>0.0</td>\n",
       "      <td>0.000000</td>\n",
       "      <td>0.0</td>\n",
       "      <td>0.070072</td>\n",
       "      <td>0.000000</td>\n",
       "      <td>0.0</td>\n",
       "      <td>0.004904</td>\n",
       "      <td>1.720179</td>\n",
       "      <td>2.423595</td>\n",
       "      <td>...</td>\n",
       "      <td>0.000000</td>\n",
       "      <td>0.00000</td>\n",
       "      <td>0.001007</td>\n",
       "      <td>0.000000</td>\n",
       "      <td>0.035747</td>\n",
       "      <td>0.000000</td>\n",
       "      <td>0.000000</td>\n",
       "      <td>0.0</td>\n",
       "      <td>0.014978</td>\n",
       "      <td>0.000000</td>\n",
       "    </tr>\n",
       "    <tr>\n",
       "      <th>DSP</th>\n",
       "      <td>0.000000</td>\n",
       "      <td>0.0</td>\n",
       "      <td>0.000000</td>\n",
       "      <td>0.0</td>\n",
       "      <td>0.000000</td>\n",
       "      <td>0.041697</td>\n",
       "      <td>0.0</td>\n",
       "      <td>0.005718</td>\n",
       "      <td>0.000000</td>\n",
       "      <td>0.000000</td>\n",
       "      <td>...</td>\n",
       "      <td>0.020853</td>\n",
       "      <td>0.00000</td>\n",
       "      <td>0.000000</td>\n",
       "      <td>0.000000</td>\n",
       "      <td>0.000000</td>\n",
       "      <td>0.005774</td>\n",
       "      <td>0.000000</td>\n",
       "      <td>0.0</td>\n",
       "      <td>0.000000</td>\n",
       "      <td>0.416405</td>\n",
       "    </tr>\n",
       "    <tr>\n",
       "      <th>MARCKSL1</th>\n",
       "      <td>0.305212</td>\n",
       "      <td>0.0</td>\n",
       "      <td>0.000000</td>\n",
       "      <td>0.0</td>\n",
       "      <td>0.000000</td>\n",
       "      <td>0.000000</td>\n",
       "      <td>0.0</td>\n",
       "      <td>0.000000</td>\n",
       "      <td>0.161843</td>\n",
       "      <td>0.149471</td>\n",
       "      <td>...</td>\n",
       "      <td>0.027134</td>\n",
       "      <td>0.05272</td>\n",
       "      <td>0.000000</td>\n",
       "      <td>0.030189</td>\n",
       "      <td>0.060884</td>\n",
       "      <td>0.000000</td>\n",
       "      <td>0.000000</td>\n",
       "      <td>0.0</td>\n",
       "      <td>0.000000</td>\n",
       "      <td>0.448480</td>\n",
       "    </tr>\n",
       "    <tr>\n",
       "      <th>SPARC</th>\n",
       "      <td>0.000000</td>\n",
       "      <td>0.0</td>\n",
       "      <td>0.000000</td>\n",
       "      <td>0.0</td>\n",
       "      <td>0.000000</td>\n",
       "      <td>0.000000</td>\n",
       "      <td>0.0</td>\n",
       "      <td>0.000000</td>\n",
       "      <td>0.000000</td>\n",
       "      <td>0.014014</td>\n",
       "      <td>...</td>\n",
       "      <td>0.000000</td>\n",
       "      <td>0.00000</td>\n",
       "      <td>0.000000</td>\n",
       "      <td>0.000000</td>\n",
       "      <td>0.000000</td>\n",
       "      <td>0.000000</td>\n",
       "      <td>0.067779</td>\n",
       "      <td>0.0</td>\n",
       "      <td>0.122417</td>\n",
       "      <td>0.062665</td>\n",
       "    </tr>\n",
       "  </tbody>\n",
       "</table>\n",
       "<p>5 rows × 987 columns</p>\n",
       "</div>"
      ],
      "text/plain": [
       "               LV1  LV2       LV3  LV4       LV5       LV6  LV7       LV8  \\\n",
       "GAS6      0.000000  0.0  0.039438  0.0  0.050476  0.000000  0.0  0.000000   \n",
       "MMP14     0.000000  0.0  0.000000  0.0  0.070072  0.000000  0.0  0.004904   \n",
       "DSP       0.000000  0.0  0.000000  0.0  0.000000  0.041697  0.0  0.005718   \n",
       "MARCKSL1  0.305212  0.0  0.000000  0.0  0.000000  0.000000  0.0  0.000000   \n",
       "SPARC     0.000000  0.0  0.000000  0.0  0.000000  0.000000  0.0  0.000000   \n",
       "\n",
       "               LV9      LV10  ...     LV978    LV979     LV980     LV981  \\\n",
       "GAS6      0.590949  0.000000  ...  0.050125  0.00000  0.033407  0.000000   \n",
       "MMP14     1.720179  2.423595  ...  0.000000  0.00000  0.001007  0.000000   \n",
       "DSP       0.000000  0.000000  ...  0.020853  0.00000  0.000000  0.000000   \n",
       "MARCKSL1  0.161843  0.149471  ...  0.027134  0.05272  0.000000  0.030189   \n",
       "SPARC     0.000000  0.014014  ...  0.000000  0.00000  0.000000  0.000000   \n",
       "\n",
       "             LV982     LV983     LV984  LV985     LV986     LV987  \n",
       "GAS6      0.000000  0.005963  0.347362    0.0  0.000000  0.000000  \n",
       "MMP14     0.035747  0.000000  0.000000    0.0  0.014978  0.000000  \n",
       "DSP       0.000000  0.005774  0.000000    0.0  0.000000  0.416405  \n",
       "MARCKSL1  0.060884  0.000000  0.000000    0.0  0.000000  0.448480  \n",
       "SPARC     0.000000  0.000000  0.067779    0.0  0.122417  0.062665  \n",
       "\n",
       "[5 rows x 987 columns]"
      ]
     },
     "execution_count": 23,
     "metadata": {},
     "output_type": "execute_result"
    }
   ],
   "source": [
    "multiplier_z.head()"
   ]
  },
  {
   "cell_type": "markdown",
   "id": "c2109617",
   "metadata": {
    "papermill": {
     "duration": 0.009423,
     "end_time": "2022-07-08T18:44:31.584142",
     "exception": false,
     "start_time": "2022-07-08T18:44:31.574719",
     "status": "completed"
    },
    "tags": []
   },
   "source": [
    "## Reference panel variants metadata"
   ]
  },
  {
   "cell_type": "code",
   "execution_count": 24,
   "id": "f69e80b2",
   "metadata": {
    "execution": {
     "iopub.execute_input": "2022-07-08T18:44:31.604732Z",
     "iopub.status.busy": "2022-07-08T18:44:31.604407Z",
     "iopub.status.idle": "2022-07-08T18:44:31.617610Z",
     "shell.execute_reply": "2022-07-08T18:44:31.617092Z"
    },
    "papermill": {
     "duration": 0.024976,
     "end_time": "2022-07-08T18:44:31.618836",
     "exception": false,
     "start_time": "2022-07-08T18:44:31.593860",
     "status": "completed"
    },
    "tags": []
   },
   "outputs": [
    {
     "data": {
      "text/plain": [
       "PosixPath('/opt/data/data/phenomexcan/ld_blocks/reference_panel_gtex_v8/gtex_v8_eur_filtered_maf0.01_monoallelic_variants.variants_metadata.parquet')"
      ]
     },
     "metadata": {},
     "output_type": "display_data"
    }
   ],
   "source": [
    "input_file = get_reference_panel_file(REFERENCE_PANEL_DIR, \"_metadata\")\n",
    "display(input_file)"
   ]
  },
  {
   "cell_type": "code",
   "execution_count": 25,
   "id": "41e34ee0",
   "metadata": {
    "execution": {
     "iopub.execute_input": "2022-07-08T18:44:31.638943Z",
     "iopub.status.busy": "2022-07-08T18:44:31.638507Z",
     "iopub.status.idle": "2022-07-08T18:44:35.677822Z",
     "shell.execute_reply": "2022-07-08T18:44:35.677141Z"
    },
    "papermill": {
     "duration": 4.051151,
     "end_time": "2022-07-08T18:44:35.679422",
     "exception": false,
     "start_time": "2022-07-08T18:44:31.628271",
     "status": "completed"
    },
    "tags": []
   },
   "outputs": [],
   "source": [
    "variants_metadata = pd.read_parquet(input_file, columns=[\"id\"])"
   ]
  },
  {
   "cell_type": "code",
   "execution_count": 26,
   "id": "81410760",
   "metadata": {
    "execution": {
     "iopub.execute_input": "2022-07-08T18:44:35.702623Z",
     "iopub.status.busy": "2022-07-08T18:44:35.702439Z",
     "iopub.status.idle": "2022-07-08T18:44:35.718942Z",
     "shell.execute_reply": "2022-07-08T18:44:35.718401Z"
    },
    "papermill": {
     "duration": 0.02952,
     "end_time": "2022-07-08T18:44:35.720342",
     "exception": false,
     "start_time": "2022-07-08T18:44:35.690822",
     "status": "completed"
    },
    "tags": []
   },
   "outputs": [
    {
     "data": {
      "text/plain": [
       "(8880842, 1)"
      ]
     },
     "execution_count": 26,
     "metadata": {},
     "output_type": "execute_result"
    }
   ],
   "source": [
    "variants_metadata.shape"
   ]
  },
  {
   "cell_type": "code",
   "execution_count": 27,
   "id": "1d008de7",
   "metadata": {
    "execution": {
     "iopub.execute_input": "2022-07-08T18:44:35.743220Z",
     "iopub.status.busy": "2022-07-08T18:44:35.743053Z",
     "iopub.status.idle": "2022-07-08T18:44:35.760171Z",
     "shell.execute_reply": "2022-07-08T18:44:35.759602Z"
    },
    "papermill": {
     "duration": 0.030067,
     "end_time": "2022-07-08T18:44:35.761538",
     "exception": false,
     "start_time": "2022-07-08T18:44:35.731471",
     "status": "completed"
    },
    "tags": []
   },
   "outputs": [
    {
     "data": {
      "text/html": [
       "<div>\n",
       "<style scoped>\n",
       "    .dataframe tbody tr th:only-of-type {\n",
       "        vertical-align: middle;\n",
       "    }\n",
       "\n",
       "    .dataframe tbody tr th {\n",
       "        vertical-align: top;\n",
       "    }\n",
       "\n",
       "    .dataframe thead th {\n",
       "        text-align: right;\n",
       "    }\n",
       "</style>\n",
       "<table border=\"1\" class=\"dataframe\">\n",
       "  <thead>\n",
       "    <tr style=\"text-align: right;\">\n",
       "      <th></th>\n",
       "      <th>id</th>\n",
       "    </tr>\n",
       "  </thead>\n",
       "  <tbody>\n",
       "    <tr>\n",
       "      <th>0</th>\n",
       "      <td>chr1_13550_G_A_b38</td>\n",
       "    </tr>\n",
       "    <tr>\n",
       "      <th>1</th>\n",
       "      <td>chr1_14671_G_C_b38</td>\n",
       "    </tr>\n",
       "    <tr>\n",
       "      <th>2</th>\n",
       "      <td>chr1_14677_G_A_b38</td>\n",
       "    </tr>\n",
       "    <tr>\n",
       "      <th>3</th>\n",
       "      <td>chr1_14933_G_A_b38</td>\n",
       "    </tr>\n",
       "    <tr>\n",
       "      <th>4</th>\n",
       "      <td>chr1_16841_G_T_b38</td>\n",
       "    </tr>\n",
       "  </tbody>\n",
       "</table>\n",
       "</div>"
      ],
      "text/plain": [
       "                   id\n",
       "0  chr1_13550_G_A_b38\n",
       "1  chr1_14671_G_C_b38\n",
       "2  chr1_14677_G_A_b38\n",
       "3  chr1_14933_G_A_b38\n",
       "4  chr1_16841_G_T_b38"
      ]
     },
     "execution_count": 27,
     "metadata": {},
     "output_type": "execute_result"
    }
   ],
   "source": [
    "variants_metadata.head()"
   ]
  },
  {
   "cell_type": "code",
   "execution_count": 28,
   "id": "45bd2164",
   "metadata": {
    "execution": {
     "iopub.execute_input": "2022-07-08T18:44:35.784162Z",
     "iopub.status.busy": "2022-07-08T18:44:35.783983Z",
     "iopub.status.idle": "2022-07-08T18:44:38.160861Z",
     "shell.execute_reply": "2022-07-08T18:44:38.160244Z"
    },
    "papermill": {
     "duration": 2.390075,
     "end_time": "2022-07-08T18:44:38.162515",
     "exception": false,
     "start_time": "2022-07-08T18:44:35.772440",
     "status": "completed"
    },
    "tags": []
   },
   "outputs": [],
   "source": [
    "variants_ids_with_genotype = set(variants_metadata[\"id\"])"
   ]
  },
  {
   "cell_type": "code",
   "execution_count": 29,
   "id": "8f2937d7",
   "metadata": {
    "execution": {
     "iopub.execute_input": "2022-07-08T18:44:38.186789Z",
     "iopub.status.busy": "2022-07-08T18:44:38.186597Z",
     "iopub.status.idle": "2022-07-08T18:44:38.203434Z",
     "shell.execute_reply": "2022-07-08T18:44:38.202907Z"
    },
    "papermill": {
     "duration": 0.030646,
     "end_time": "2022-07-08T18:44:38.204909",
     "exception": false,
     "start_time": "2022-07-08T18:44:38.174263",
     "status": "completed"
    },
    "tags": []
   },
   "outputs": [
    {
     "data": {
      "text/plain": [
       "8880842"
      ]
     },
     "execution_count": 29,
     "metadata": {},
     "output_type": "execute_result"
    }
   ],
   "source": [
    "len(variants_ids_with_genotype)"
   ]
  },
  {
   "cell_type": "code",
   "execution_count": 30,
   "id": "6b160cc3",
   "metadata": {
    "execution": {
     "iopub.execute_input": "2022-07-08T18:44:38.227664Z",
     "iopub.status.busy": "2022-07-08T18:44:38.227435Z",
     "iopub.status.idle": "2022-07-08T18:44:38.867377Z",
     "shell.execute_reply": "2022-07-08T18:44:38.866468Z"
    },
    "papermill": {
     "duration": 0.653185,
     "end_time": "2022-07-08T18:44:38.869540",
     "exception": false,
     "start_time": "2022-07-08T18:44:38.216355",
     "status": "completed"
    },
    "tags": []
   },
   "outputs": [
    {
     "data": {
      "text/plain": [
       "['chr9_126526849_G_T_b38',\n",
       " 'chr11_33186929_C_T_b38',\n",
       " 'chr4_15289679_T_C_b38',\n",
       " 'chr16_75531054_G_T_b38',\n",
       " 'chr1_157896915_G_A_b38',\n",
       " 'chr1_246300698_T_C_b38',\n",
       " 'chr7_132595596_C_T_b38',\n",
       " 'chr10_90836555_ACG_A_b38',\n",
       " 'chr18_37015880_T_G_b38',\n",
       " 'chr1_204536359_T_C_b38']"
      ]
     },
     "execution_count": 30,
     "metadata": {},
     "output_type": "execute_result"
    }
   ],
   "source": [
    "list(variants_ids_with_genotype)[:10]"
   ]
  },
  {
   "cell_type": "code",
   "execution_count": 31,
   "id": "0a38a43c",
   "metadata": {
    "execution": {
     "iopub.execute_input": "2022-07-08T18:44:38.900054Z",
     "iopub.status.busy": "2022-07-08T18:44:38.899855Z",
     "iopub.status.idle": "2022-07-08T18:44:38.915882Z",
     "shell.execute_reply": "2022-07-08T18:44:38.915306Z"
    },
    "papermill": {
     "duration": 0.031136,
     "end_time": "2022-07-08T18:44:38.917394",
     "exception": false,
     "start_time": "2022-07-08T18:44:38.886258",
     "status": "completed"
    },
    "tags": []
   },
   "outputs": [],
   "source": [
    "del variants_metadata"
   ]
  },
  {
   "cell_type": "markdown",
   "id": "4b7ca4c8",
   "metadata": {
    "papermill": {
     "duration": 0.011654,
     "end_time": "2022-07-08T18:44:38.941013",
     "exception": false,
     "start_time": "2022-07-08T18:44:38.929359",
     "status": "completed"
    },
    "tags": []
   },
   "source": [
    "# How many variants in predictions models are present in the reference panel?"
   ]
  },
  {
   "cell_type": "code",
   "execution_count": 32,
   "id": "4e323c11",
   "metadata": {
    "execution": {
     "iopub.execute_input": "2022-07-08T18:44:38.963036Z",
     "iopub.status.busy": "2022-07-08T18:44:38.962868Z",
     "iopub.status.idle": "2022-07-08T18:44:38.977914Z",
     "shell.execute_reply": "2022-07-08T18:44:38.977388Z"
    },
    "papermill": {
     "duration": 0.027354,
     "end_time": "2022-07-08T18:44:38.979203",
     "exception": false,
     "start_time": "2022-07-08T18:44:38.951849",
     "status": "completed"
    },
    "tags": []
   },
   "outputs": [
    {
     "data": {
      "text/plain": [
       "237405"
      ]
     },
     "metadata": {},
     "output_type": "display_data"
    }
   ],
   "source": [
    "n_snps_in_models = len(all_snps_in_models)\n",
    "display(n_snps_in_models)"
   ]
  },
  {
   "cell_type": "code",
   "execution_count": 33,
   "id": "a9ecb68e",
   "metadata": {
    "execution": {
     "iopub.execute_input": "2022-07-08T18:44:39.001281Z",
     "iopub.status.busy": "2022-07-08T18:44:39.001111Z",
     "iopub.status.idle": "2022-07-08T18:44:39.065250Z",
     "shell.execute_reply": "2022-07-08T18:44:39.064590Z"
    },
    "papermill": {
     "duration": 0.076964,
     "end_time": "2022-07-08T18:44:39.066878",
     "exception": false,
     "start_time": "2022-07-08T18:44:38.989914",
     "status": "completed"
    },
    "tags": []
   },
   "outputs": [
    {
     "data": {
      "text/plain": [
       "237405"
      ]
     },
     "metadata": {},
     "output_type": "display_data"
    }
   ],
   "source": [
    "n_snps_in_ref_panel = len(all_snps_in_models.intersection(variants_ids_with_genotype))\n",
    "display(n_snps_in_ref_panel)"
   ]
  },
  {
   "cell_type": "code",
   "execution_count": 34,
   "id": "5f2f5991",
   "metadata": {
    "execution": {
     "iopub.execute_input": "2022-07-08T18:44:39.093120Z",
     "iopub.status.busy": "2022-07-08T18:44:39.092927Z",
     "iopub.status.idle": "2022-07-08T18:44:39.110049Z",
     "shell.execute_reply": "2022-07-08T18:44:39.109325Z"
    },
    "papermill": {
     "duration": 0.031972,
     "end_time": "2022-07-08T18:44:39.111604",
     "exception": false,
     "start_time": "2022-07-08T18:44:39.079632",
     "status": "completed"
    },
    "tags": []
   },
   "outputs": [
    {
     "data": {
      "text/plain": [
       "1.0"
      ]
     },
     "execution_count": 34,
     "metadata": {},
     "output_type": "execute_result"
    }
   ],
   "source": [
    "n_snps_in_ref_panel / n_snps_in_models"
   ]
  },
  {
   "cell_type": "markdown",
   "id": "a9a0d07c",
   "metadata": {
    "papermill": {
     "duration": 0.012529,
     "end_time": "2022-07-08T18:44:39.136916",
     "exception": false,
     "start_time": "2022-07-08T18:44:39.124387",
     "status": "completed"
    },
    "tags": []
   },
   "source": [
    "# Get final list of genes in MultiPLIER"
   ]
  },
  {
   "cell_type": "code",
   "execution_count": 35,
   "id": "e9801fec",
   "metadata": {
    "execution": {
     "iopub.execute_input": "2022-07-08T18:44:39.159397Z",
     "iopub.status.busy": "2022-07-08T18:44:39.159200Z",
     "iopub.status.idle": "2022-07-08T18:44:39.178830Z",
     "shell.execute_reply": "2022-07-08T18:44:39.178150Z"
    },
    "papermill": {
     "duration": 0.031773,
     "end_time": "2022-07-08T18:44:39.180251",
     "exception": false,
     "start_time": "2022-07-08T18:44:39.148478",
     "status": "completed"
    },
    "tags": []
   },
   "outputs": [],
   "source": [
    "genes_in_z = [\n",
    "    Gene(name=gene_name).ensembl_id\n",
    "    for gene_name in multiplier_z.index\n",
    "    if gene_name in Gene.GENE_NAME_TO_ID_MAP\n",
    "]"
   ]
  },
  {
   "cell_type": "code",
   "execution_count": 36,
   "id": "4cde8776",
   "metadata": {
    "execution": {
     "iopub.execute_input": "2022-07-08T18:44:39.201657Z",
     "iopub.status.busy": "2022-07-08T18:44:39.201496Z",
     "iopub.status.idle": "2022-07-08T18:44:39.216032Z",
     "shell.execute_reply": "2022-07-08T18:44:39.215459Z"
    },
    "papermill": {
     "duration": 0.026509,
     "end_time": "2022-07-08T18:44:39.217290",
     "exception": false,
     "start_time": "2022-07-08T18:44:39.190781",
     "status": "completed"
    },
    "tags": []
   },
   "outputs": [
    {
     "data": {
      "text/plain": [
       "6454"
      ]
     },
     "execution_count": 36,
     "metadata": {},
     "output_type": "execute_result"
    }
   ],
   "source": [
    "len(genes_in_z)"
   ]
  },
  {
   "cell_type": "code",
   "execution_count": 37,
   "id": "577cf614",
   "metadata": {
    "execution": {
     "iopub.execute_input": "2022-07-08T18:44:39.239630Z",
     "iopub.status.busy": "2022-07-08T18:44:39.239141Z",
     "iopub.status.idle": "2022-07-08T18:44:39.253732Z",
     "shell.execute_reply": "2022-07-08T18:44:39.253242Z"
    },
    "papermill": {
     "duration": 0.026983,
     "end_time": "2022-07-08T18:44:39.254996",
     "exception": false,
     "start_time": "2022-07-08T18:44:39.228013",
     "status": "completed"
    },
    "tags": []
   },
   "outputs": [
    {
     "data": {
      "text/plain": [
       "['ENSG00000183087',\n",
       " 'ENSG00000157227',\n",
       " 'ENSG00000096696',\n",
       " 'ENSG00000175130',\n",
       " 'ENSG00000113140']"
      ]
     },
     "execution_count": 37,
     "metadata": {},
     "output_type": "execute_result"
    }
   ],
   "source": [
    "genes_in_z[:5]"
   ]
  },
  {
   "cell_type": "code",
   "execution_count": 38,
   "id": "3136fc66",
   "metadata": {
    "execution": {
     "iopub.execute_input": "2022-07-08T18:44:39.277267Z",
     "iopub.status.busy": "2022-07-08T18:44:39.277036Z",
     "iopub.status.idle": "2022-07-08T18:44:39.292267Z",
     "shell.execute_reply": "2022-07-08T18:44:39.291614Z"
    },
    "papermill": {
     "duration": 0.029199,
     "end_time": "2022-07-08T18:44:39.294870",
     "exception": false,
     "start_time": "2022-07-08T18:44:39.265671",
     "status": "completed"
    },
    "tags": []
   },
   "outputs": [],
   "source": [
    "genes_in_z = set(genes_in_z)"
   ]
  },
  {
   "cell_type": "code",
   "execution_count": 39,
   "id": "0f1cace8",
   "metadata": {
    "execution": {
     "iopub.execute_input": "2022-07-08T18:44:39.318603Z",
     "iopub.status.busy": "2022-07-08T18:44:39.318417Z",
     "iopub.status.idle": "2022-07-08T18:44:39.333186Z",
     "shell.execute_reply": "2022-07-08T18:44:39.332594Z"
    },
    "papermill": {
     "duration": 0.027656,
     "end_time": "2022-07-08T18:44:39.334503",
     "exception": false,
     "start_time": "2022-07-08T18:44:39.306847",
     "status": "completed"
    },
    "tags": []
   },
   "outputs": [
    {
     "data": {
      "text/plain": [
       "6454"
      ]
     },
     "execution_count": 39,
     "metadata": {},
     "output_type": "execute_result"
    }
   ],
   "source": [
    "len(genes_in_z)"
   ]
  },
  {
   "cell_type": "code",
   "execution_count": 40,
   "id": "b9dc4d3e",
   "metadata": {
    "execution": {
     "iopub.execute_input": "2022-07-08T18:44:39.357125Z",
     "iopub.status.busy": "2022-07-08T18:44:39.356935Z",
     "iopub.status.idle": "2022-07-08T18:44:39.468165Z",
     "shell.execute_reply": "2022-07-08T18:44:39.467542Z"
    },
    "papermill": {
     "duration": 0.123806,
     "end_time": "2022-07-08T18:44:39.469546",
     "exception": false,
     "start_time": "2022-07-08T18:44:39.345740",
     "status": "completed"
    },
    "tags": []
   },
   "outputs": [
    {
     "data": {
      "text/plain": [
       "(1132714, 3)"
      ]
     },
     "metadata": {},
     "output_type": "display_data"
    },
    {
     "data": {
      "text/plain": [
       "(396890, 3)"
      ]
     },
     "metadata": {},
     "output_type": "display_data"
    }
   ],
   "source": [
    "# keep genes in MultiPLIER only\n",
    "display(all_gene_snps.shape)\n",
    "\n",
    "all_gene_snps = all_gene_snps[all_gene_snps[\"gene\"].isin(genes_in_z)]\n",
    "\n",
    "display(all_gene_snps.shape)"
   ]
  },
  {
   "cell_type": "markdown",
   "id": "69e77b6e",
   "metadata": {
    "papermill": {
     "duration": 0.012899,
     "end_time": "2022-07-08T18:44:39.495305",
     "exception": false,
     "start_time": "2022-07-08T18:44:39.482406",
     "status": "completed"
    },
    "tags": []
   },
   "source": [
    "# (For MultiPLIER genes): How many variants in predictions models are present in the reference panel?"
   ]
  },
  {
   "cell_type": "code",
   "execution_count": 41,
   "id": "c8a3405c",
   "metadata": {
    "execution": {
     "iopub.execute_input": "2022-07-08T18:44:39.519759Z",
     "iopub.status.busy": "2022-07-08T18:44:39.519592Z",
     "iopub.status.idle": "2022-07-08T18:44:39.638397Z",
     "shell.execute_reply": "2022-07-08T18:44:39.637786Z"
    },
    "papermill": {
     "duration": 0.13232,
     "end_time": "2022-07-08T18:44:39.640033",
     "exception": false,
     "start_time": "2022-07-08T18:44:39.507713",
     "status": "completed"
    },
    "tags": []
   },
   "outputs": [
    {
     "data": {
      "text/plain": [
       "84708"
      ]
     },
     "metadata": {},
     "output_type": "display_data"
    }
   ],
   "source": [
    "all_snps_in_models_multiplier = set(all_gene_snps[\"varID\"])\n",
    "\n",
    "n_snps_in_models = len(all_snps_in_models_multiplier)\n",
    "display(n_snps_in_models)"
   ]
  },
  {
   "cell_type": "code",
   "execution_count": 42,
   "id": "a118deab",
   "metadata": {
    "execution": {
     "iopub.execute_input": "2022-07-08T18:44:39.667599Z",
     "iopub.status.busy": "2022-07-08T18:44:39.667403Z",
     "iopub.status.idle": "2022-07-08T18:44:39.702343Z",
     "shell.execute_reply": "2022-07-08T18:44:39.701643Z"
    },
    "papermill": {
     "duration": 0.050152,
     "end_time": "2022-07-08T18:44:39.703897",
     "exception": false,
     "start_time": "2022-07-08T18:44:39.653745",
     "status": "completed"
    },
    "tags": []
   },
   "outputs": [
    {
     "data": {
      "text/plain": [
       "84708"
      ]
     },
     "metadata": {},
     "output_type": "display_data"
    }
   ],
   "source": [
    "n_snps_in_ref_panel = len(\n",
    "    all_snps_in_models_multiplier.intersection(variants_ids_with_genotype)\n",
    ")\n",
    "display(n_snps_in_ref_panel)"
   ]
  },
  {
   "cell_type": "code",
   "execution_count": 43,
   "id": "cb5b96f3",
   "metadata": {
    "execution": {
     "iopub.execute_input": "2022-07-08T18:44:39.731259Z",
     "iopub.status.busy": "2022-07-08T18:44:39.731068Z",
     "iopub.status.idle": "2022-07-08T18:44:39.747888Z",
     "shell.execute_reply": "2022-07-08T18:44:39.747216Z"
    },
    "papermill": {
     "duration": 0.031978,
     "end_time": "2022-07-08T18:44:39.749286",
     "exception": false,
     "start_time": "2022-07-08T18:44:39.717308",
     "status": "completed"
    },
    "tags": []
   },
   "outputs": [
    {
     "data": {
      "text/plain": [
       "1.0"
      ]
     },
     "execution_count": 43,
     "metadata": {},
     "output_type": "execute_result"
    }
   ],
   "source": [
    "n_snps_in_ref_panel / n_snps_in_models"
   ]
  },
  {
   "cell_type": "markdown",
   "id": "dbabf1c1",
   "metadata": {
    "papermill": {
     "duration": 0.011165,
     "end_time": "2022-07-08T18:44:39.774676",
     "exception": false,
     "start_time": "2022-07-08T18:44:39.763511",
     "status": "completed"
    },
    "tags": []
   },
   "source": [
    "## Preprocess SNPs data"
   ]
  },
  {
   "cell_type": "code",
   "execution_count": 44,
   "id": "19838f0a",
   "metadata": {
    "execution": {
     "iopub.execute_input": "2022-07-08T18:44:39.797075Z",
     "iopub.status.busy": "2022-07-08T18:44:39.796445Z",
     "iopub.status.idle": "2022-07-08T18:44:39.932988Z",
     "shell.execute_reply": "2022-07-08T18:44:39.932516Z"
    },
    "papermill": {
     "duration": 0.149877,
     "end_time": "2022-07-08T18:44:39.934897",
     "exception": false,
     "start_time": "2022-07-08T18:44:39.785020",
     "status": "completed"
    },
    "tags": []
   },
   "outputs": [],
   "source": [
    "variants_ld_block_df = all_gene_snps[[\"varID\"]].drop_duplicates()"
   ]
  },
  {
   "cell_type": "code",
   "execution_count": 45,
   "id": "d015b20d",
   "metadata": {
    "execution": {
     "iopub.execute_input": "2022-07-08T18:44:39.962297Z",
     "iopub.status.busy": "2022-07-08T18:44:39.962105Z",
     "iopub.status.idle": "2022-07-08T18:44:39.978573Z",
     "shell.execute_reply": "2022-07-08T18:44:39.977991Z"
    },
    "papermill": {
     "duration": 0.031604,
     "end_time": "2022-07-08T18:44:39.979881",
     "exception": false,
     "start_time": "2022-07-08T18:44:39.948277",
     "status": "completed"
    },
    "tags": []
   },
   "outputs": [
    {
     "data": {
      "text/plain": [
       "(84708, 1)"
      ]
     },
     "execution_count": 45,
     "metadata": {},
     "output_type": "execute_result"
    }
   ],
   "source": [
    "variants_ld_block_df.shape"
   ]
  },
  {
   "cell_type": "code",
   "execution_count": 46,
   "id": "ed4a5faa",
   "metadata": {
    "execution": {
     "iopub.execute_input": "2022-07-08T18:44:40.004180Z",
     "iopub.status.busy": "2022-07-08T18:44:40.004020Z",
     "iopub.status.idle": "2022-07-08T18:44:40.020504Z",
     "shell.execute_reply": "2022-07-08T18:44:40.019900Z"
    },
    "papermill": {
     "duration": 0.029649,
     "end_time": "2022-07-08T18:44:40.021813",
     "exception": false,
     "start_time": "2022-07-08T18:44:39.992164",
     "status": "completed"
    },
    "tags": []
   },
   "outputs": [
    {
     "data": {
      "text/html": [
       "<div>\n",
       "<style scoped>\n",
       "    .dataframe tbody tr th:only-of-type {\n",
       "        vertical-align: middle;\n",
       "    }\n",
       "\n",
       "    .dataframe tbody tr th {\n",
       "        vertical-align: top;\n",
       "    }\n",
       "\n",
       "    .dataframe thead th {\n",
       "        text-align: right;\n",
       "    }\n",
       "</style>\n",
       "<table border=\"1\" class=\"dataframe\">\n",
       "  <thead>\n",
       "    <tr style=\"text-align: right;\">\n",
       "      <th></th>\n",
       "      <th>varID</th>\n",
       "    </tr>\n",
       "  </thead>\n",
       "  <tbody>\n",
       "    <tr>\n",
       "      <th>0</th>\n",
       "      <td>chr9_136996001_G_A_b38</td>\n",
       "    </tr>\n",
       "    <tr>\n",
       "      <th>1</th>\n",
       "      <td>chr9_137029055_C_CA_b38</td>\n",
       "    </tr>\n",
       "    <tr>\n",
       "      <th>2</th>\n",
       "      <td>chr9_137029407_T_G_b38</td>\n",
       "    </tr>\n",
       "    <tr>\n",
       "      <th>10</th>\n",
       "      <td>chr9_137084985_C_T_b38</td>\n",
       "    </tr>\n",
       "    <tr>\n",
       "      <th>11</th>\n",
       "      <td>chr9_137102549_TACAC_T_b38</td>\n",
       "    </tr>\n",
       "  </tbody>\n",
       "</table>\n",
       "</div>"
      ],
      "text/plain": [
       "                         varID\n",
       "0       chr9_136996001_G_A_b38\n",
       "1      chr9_137029055_C_CA_b38\n",
       "2       chr9_137029407_T_G_b38\n",
       "10      chr9_137084985_C_T_b38\n",
       "11  chr9_137102549_TACAC_T_b38"
      ]
     },
     "execution_count": 46,
     "metadata": {},
     "output_type": "execute_result"
    }
   ],
   "source": [
    "variants_ld_block_df.head()"
   ]
  },
  {
   "cell_type": "code",
   "execution_count": 47,
   "id": "3557d870",
   "metadata": {
    "execution": {
     "iopub.execute_input": "2022-07-08T18:44:40.045159Z",
     "iopub.status.busy": "2022-07-08T18:44:40.044969Z",
     "iopub.status.idle": "2022-07-08T18:44:41.719571Z",
     "shell.execute_reply": "2022-07-08T18:44:41.718983Z"
    },
    "papermill": {
     "duration": 1.687909,
     "end_time": "2022-07-08T18:44:41.721205",
     "exception": false,
     "start_time": "2022-07-08T18:44:40.033296",
     "status": "completed"
    },
    "tags": []
   },
   "outputs": [],
   "source": [
    "variants_info = variants_ld_block_df[\"varID\"].str.split(\"_\", expand=True)"
   ]
  },
  {
   "cell_type": "code",
   "execution_count": 48,
   "id": "bd49aa4c",
   "metadata": {
    "execution": {
     "iopub.execute_input": "2022-07-08T18:44:41.749539Z",
     "iopub.status.busy": "2022-07-08T18:44:41.749344Z",
     "iopub.status.idle": "2022-07-08T18:44:41.765982Z",
     "shell.execute_reply": "2022-07-08T18:44:41.765401Z"
    },
    "papermill": {
     "duration": 0.03228,
     "end_time": "2022-07-08T18:44:41.767402",
     "exception": false,
     "start_time": "2022-07-08T18:44:41.735122",
     "status": "completed"
    },
    "tags": []
   },
   "outputs": [
    {
     "data": {
      "text/plain": [
       "(84708, 5)"
      ]
     },
     "execution_count": 48,
     "metadata": {},
     "output_type": "execute_result"
    }
   ],
   "source": [
    "variants_info.shape"
   ]
  },
  {
   "cell_type": "code",
   "execution_count": 49,
   "id": "7e2b7606",
   "metadata": {
    "execution": {
     "iopub.execute_input": "2022-07-08T18:44:41.794080Z",
     "iopub.status.busy": "2022-07-08T18:44:41.793911Z",
     "iopub.status.idle": "2022-07-08T18:44:41.808036Z",
     "shell.execute_reply": "2022-07-08T18:44:41.807535Z"
    },
    "papermill": {
     "duration": 0.028421,
     "end_time": "2022-07-08T18:44:41.809331",
     "exception": false,
     "start_time": "2022-07-08T18:44:41.780910",
     "status": "completed"
    },
    "tags": []
   },
   "outputs": [],
   "source": [
    "assert variants_ld_block_df.shape[0] == variants_info.shape[0]"
   ]
  },
  {
   "cell_type": "code",
   "execution_count": 50,
   "id": "048abd7f",
   "metadata": {
    "execution": {
     "iopub.execute_input": "2022-07-08T18:44:41.832779Z",
     "iopub.status.busy": "2022-07-08T18:44:41.832576Z",
     "iopub.status.idle": "2022-07-08T18:44:41.883462Z",
     "shell.execute_reply": "2022-07-08T18:44:41.882767Z"
    },
    "papermill": {
     "duration": 0.064418,
     "end_time": "2022-07-08T18:44:41.885226",
     "exception": false,
     "start_time": "2022-07-08T18:44:41.820808",
     "status": "completed"
    },
    "tags": []
   },
   "outputs": [],
   "source": [
    "variants_ld_block_df = variants_ld_block_df.join(variants_info)[[\"varID\", 0, 1, 2, 3]]"
   ]
  },
  {
   "cell_type": "code",
   "execution_count": 51,
   "id": "5bfb6a7a",
   "metadata": {
    "execution": {
     "iopub.execute_input": "2022-07-08T18:44:41.914726Z",
     "iopub.status.busy": "2022-07-08T18:44:41.914529Z",
     "iopub.status.idle": "2022-07-08T18:44:41.931101Z",
     "shell.execute_reply": "2022-07-08T18:44:41.930465Z"
    },
    "papermill": {
     "duration": 0.033009,
     "end_time": "2022-07-08T18:44:41.932724",
     "exception": false,
     "start_time": "2022-07-08T18:44:41.899715",
     "status": "completed"
    },
    "tags": []
   },
   "outputs": [],
   "source": [
    "assert variants_ld_block_df.shape[0] == variants_info.shape[0]"
   ]
  },
  {
   "cell_type": "code",
   "execution_count": 52,
   "id": "4d8cf1da",
   "metadata": {
    "execution": {
     "iopub.execute_input": "2022-07-08T18:44:41.961369Z",
     "iopub.status.busy": "2022-07-08T18:44:41.961193Z",
     "iopub.status.idle": "2022-07-08T18:44:41.980562Z",
     "shell.execute_reply": "2022-07-08T18:44:41.979969Z"
    },
    "papermill": {
     "duration": 0.034957,
     "end_time": "2022-07-08T18:44:41.981927",
     "exception": false,
     "start_time": "2022-07-08T18:44:41.946970",
     "status": "completed"
    },
    "tags": []
   },
   "outputs": [
    {
     "data": {
      "text/html": [
       "<div>\n",
       "<style scoped>\n",
       "    .dataframe tbody tr th:only-of-type {\n",
       "        vertical-align: middle;\n",
       "    }\n",
       "\n",
       "    .dataframe tbody tr th {\n",
       "        vertical-align: top;\n",
       "    }\n",
       "\n",
       "    .dataframe thead th {\n",
       "        text-align: right;\n",
       "    }\n",
       "</style>\n",
       "<table border=\"1\" class=\"dataframe\">\n",
       "  <thead>\n",
       "    <tr style=\"text-align: right;\">\n",
       "      <th></th>\n",
       "      <th>varID</th>\n",
       "      <th>0</th>\n",
       "      <th>1</th>\n",
       "      <th>2</th>\n",
       "      <th>3</th>\n",
       "    </tr>\n",
       "  </thead>\n",
       "  <tbody>\n",
       "    <tr>\n",
       "      <th>0</th>\n",
       "      <td>chr9_136996001_G_A_b38</td>\n",
       "      <td>chr9</td>\n",
       "      <td>136996001</td>\n",
       "      <td>G</td>\n",
       "      <td>A</td>\n",
       "    </tr>\n",
       "    <tr>\n",
       "      <th>1</th>\n",
       "      <td>chr9_137029055_C_CA_b38</td>\n",
       "      <td>chr9</td>\n",
       "      <td>137029055</td>\n",
       "      <td>C</td>\n",
       "      <td>CA</td>\n",
       "    </tr>\n",
       "    <tr>\n",
       "      <th>2</th>\n",
       "      <td>chr9_137029407_T_G_b38</td>\n",
       "      <td>chr9</td>\n",
       "      <td>137029407</td>\n",
       "      <td>T</td>\n",
       "      <td>G</td>\n",
       "    </tr>\n",
       "    <tr>\n",
       "      <th>10</th>\n",
       "      <td>chr9_137084985_C_T_b38</td>\n",
       "      <td>chr9</td>\n",
       "      <td>137084985</td>\n",
       "      <td>C</td>\n",
       "      <td>T</td>\n",
       "    </tr>\n",
       "    <tr>\n",
       "      <th>11</th>\n",
       "      <td>chr9_137102549_TACAC_T_b38</td>\n",
       "      <td>chr9</td>\n",
       "      <td>137102549</td>\n",
       "      <td>TACAC</td>\n",
       "      <td>T</td>\n",
       "    </tr>\n",
       "  </tbody>\n",
       "</table>\n",
       "</div>"
      ],
      "text/plain": [
       "                         varID     0          1      2   3\n",
       "0       chr9_136996001_G_A_b38  chr9  136996001      G   A\n",
       "1      chr9_137029055_C_CA_b38  chr9  137029055      C  CA\n",
       "2       chr9_137029407_T_G_b38  chr9  137029407      T   G\n",
       "10      chr9_137084985_C_T_b38  chr9  137084985      C   T\n",
       "11  chr9_137102549_TACAC_T_b38  chr9  137102549  TACAC   T"
      ]
     },
     "execution_count": 52,
     "metadata": {},
     "output_type": "execute_result"
    }
   ],
   "source": [
    "variants_ld_block_df.head()"
   ]
  },
  {
   "cell_type": "code",
   "execution_count": 53,
   "id": "47448229",
   "metadata": {
    "execution": {
     "iopub.execute_input": "2022-07-08T18:44:42.007241Z",
     "iopub.status.busy": "2022-07-08T18:44:42.006705Z",
     "iopub.status.idle": "2022-07-08T18:44:42.025227Z",
     "shell.execute_reply": "2022-07-08T18:44:42.024480Z"
    },
    "papermill": {
     "duration": 0.032396,
     "end_time": "2022-07-08T18:44:42.026857",
     "exception": false,
     "start_time": "2022-07-08T18:44:41.994461",
     "status": "completed"
    },
    "tags": []
   },
   "outputs": [],
   "source": [
    "variants_ld_block_df = variants_ld_block_df.rename(\n",
    "    columns={\n",
    "        0: \"chr\",\n",
    "        1: \"position\",\n",
    "        2: \"ref_allele\",\n",
    "        3: \"eff_allele\",\n",
    "    }\n",
    ")"
   ]
  },
  {
   "cell_type": "code",
   "execution_count": 54,
   "id": "3beadcf8",
   "metadata": {
    "execution": {
     "iopub.execute_input": "2022-07-08T18:44:42.055544Z",
     "iopub.status.busy": "2022-07-08T18:44:42.055352Z",
     "iopub.status.idle": "2022-07-08T18:44:42.111072Z",
     "shell.execute_reply": "2022-07-08T18:44:42.110492Z"
    },
    "papermill": {
     "duration": 0.071912,
     "end_time": "2022-07-08T18:44:42.112655",
     "exception": false,
     "start_time": "2022-07-08T18:44:42.040743",
     "status": "completed"
    },
    "tags": []
   },
   "outputs": [],
   "source": [
    "variants_ld_block_df[\"chr\"] = variants_ld_block_df[\"chr\"].apply(lambda x: int(x[3:]))"
   ]
  },
  {
   "cell_type": "code",
   "execution_count": 55,
   "id": "b18c25c1",
   "metadata": {
    "execution": {
     "iopub.execute_input": "2022-07-08T18:44:42.141433Z",
     "iopub.status.busy": "2022-07-08T18:44:42.141245Z",
     "iopub.status.idle": "2022-07-08T18:44:42.170697Z",
     "shell.execute_reply": "2022-07-08T18:44:42.170106Z"
    },
    "papermill": {
     "duration": 0.045661,
     "end_time": "2022-07-08T18:44:42.172258",
     "exception": false,
     "start_time": "2022-07-08T18:44:42.126597",
     "status": "completed"
    },
    "tags": []
   },
   "outputs": [],
   "source": [
    "variants_ld_block_df[\"position\"] = variants_ld_block_df[\"position\"].astype(int)"
   ]
  },
  {
   "cell_type": "code",
   "execution_count": 56,
   "id": "13af12ae",
   "metadata": {
    "execution": {
     "iopub.execute_input": "2022-07-08T18:44:42.199944Z",
     "iopub.status.busy": "2022-07-08T18:44:42.199769Z",
     "iopub.status.idle": "2022-07-08T18:44:42.215284Z",
     "shell.execute_reply": "2022-07-08T18:44:42.214777Z"
    },
    "papermill": {
     "duration": 0.03034,
     "end_time": "2022-07-08T18:44:42.216531",
     "exception": false,
     "start_time": "2022-07-08T18:44:42.186191",
     "status": "completed"
    },
    "tags": []
   },
   "outputs": [
    {
     "data": {
      "text/plain": [
       "(84708, 5)"
      ]
     },
     "execution_count": 56,
     "metadata": {},
     "output_type": "execute_result"
    }
   ],
   "source": [
    "variants_ld_block_df.shape"
   ]
  },
  {
   "cell_type": "code",
   "execution_count": 57,
   "id": "431d8602",
   "metadata": {
    "execution": {
     "iopub.execute_input": "2022-07-08T18:44:42.242930Z",
     "iopub.status.busy": "2022-07-08T18:44:42.242759Z",
     "iopub.status.idle": "2022-07-08T18:44:42.261495Z",
     "shell.execute_reply": "2022-07-08T18:44:42.260954Z"
    },
    "papermill": {
     "duration": 0.033429,
     "end_time": "2022-07-08T18:44:42.262783",
     "exception": false,
     "start_time": "2022-07-08T18:44:42.229354",
     "status": "completed"
    },
    "tags": []
   },
   "outputs": [
    {
     "data": {
      "text/html": [
       "<div>\n",
       "<style scoped>\n",
       "    .dataframe tbody tr th:only-of-type {\n",
       "        vertical-align: middle;\n",
       "    }\n",
       "\n",
       "    .dataframe tbody tr th {\n",
       "        vertical-align: top;\n",
       "    }\n",
       "\n",
       "    .dataframe thead th {\n",
       "        text-align: right;\n",
       "    }\n",
       "</style>\n",
       "<table border=\"1\" class=\"dataframe\">\n",
       "  <thead>\n",
       "    <tr style=\"text-align: right;\">\n",
       "      <th></th>\n",
       "      <th>varID</th>\n",
       "      <th>chr</th>\n",
       "      <th>position</th>\n",
       "      <th>ref_allele</th>\n",
       "      <th>eff_allele</th>\n",
       "    </tr>\n",
       "  </thead>\n",
       "  <tbody>\n",
       "    <tr>\n",
       "      <th>0</th>\n",
       "      <td>chr9_136996001_G_A_b38</td>\n",
       "      <td>9</td>\n",
       "      <td>136996001</td>\n",
       "      <td>G</td>\n",
       "      <td>A</td>\n",
       "    </tr>\n",
       "    <tr>\n",
       "      <th>1</th>\n",
       "      <td>chr9_137029055_C_CA_b38</td>\n",
       "      <td>9</td>\n",
       "      <td>137029055</td>\n",
       "      <td>C</td>\n",
       "      <td>CA</td>\n",
       "    </tr>\n",
       "    <tr>\n",
       "      <th>2</th>\n",
       "      <td>chr9_137029407_T_G_b38</td>\n",
       "      <td>9</td>\n",
       "      <td>137029407</td>\n",
       "      <td>T</td>\n",
       "      <td>G</td>\n",
       "    </tr>\n",
       "    <tr>\n",
       "      <th>10</th>\n",
       "      <td>chr9_137084985_C_T_b38</td>\n",
       "      <td>9</td>\n",
       "      <td>137084985</td>\n",
       "      <td>C</td>\n",
       "      <td>T</td>\n",
       "    </tr>\n",
       "    <tr>\n",
       "      <th>11</th>\n",
       "      <td>chr9_137102549_TACAC_T_b38</td>\n",
       "      <td>9</td>\n",
       "      <td>137102549</td>\n",
       "      <td>TACAC</td>\n",
       "      <td>T</td>\n",
       "    </tr>\n",
       "  </tbody>\n",
       "</table>\n",
       "</div>"
      ],
      "text/plain": [
       "                         varID  chr   position ref_allele eff_allele\n",
       "0       chr9_136996001_G_A_b38    9  136996001          G          A\n",
       "1      chr9_137029055_C_CA_b38    9  137029055          C         CA\n",
       "2       chr9_137029407_T_G_b38    9  137029407          T          G\n",
       "10      chr9_137084985_C_T_b38    9  137084985          C          T\n",
       "11  chr9_137102549_TACAC_T_b38    9  137102549      TACAC          T"
      ]
     },
     "execution_count": 57,
     "metadata": {},
     "output_type": "execute_result"
    }
   ],
   "source": [
    "variants_ld_block_df.head()"
   ]
  },
  {
   "cell_type": "code",
   "execution_count": 58,
   "id": "35fc8e6d",
   "metadata": {
    "execution": {
     "iopub.execute_input": "2022-07-08T18:44:42.287703Z",
     "iopub.status.busy": "2022-07-08T18:44:42.287531Z",
     "iopub.status.idle": "2022-07-08T18:44:42.303510Z",
     "shell.execute_reply": "2022-07-08T18:44:42.302945Z"
    },
    "papermill": {
     "duration": 0.029921,
     "end_time": "2022-07-08T18:44:42.304830",
     "exception": false,
     "start_time": "2022-07-08T18:44:42.274909",
     "status": "completed"
    },
    "tags": []
   },
   "outputs": [
    {
     "data": {
      "text/plain": [
       "varID         object\n",
       "chr            int64\n",
       "position       int64\n",
       "ref_allele    object\n",
       "eff_allele    object\n",
       "dtype: object"
      ]
     },
     "execution_count": 58,
     "metadata": {},
     "output_type": "execute_result"
    }
   ],
   "source": [
    "variants_ld_block_df.dtypes"
   ]
  },
  {
   "cell_type": "markdown",
   "id": "ec84177c",
   "metadata": {
    "papermill": {
     "duration": 0.011964,
     "end_time": "2022-07-08T18:44:42.328961",
     "exception": false,
     "start_time": "2022-07-08T18:44:42.316997",
     "status": "completed"
    },
    "tags": []
   },
   "source": [
    "# Covariance for each chromosome block"
   ]
  },
  {
   "cell_type": "markdown",
   "id": "d43e1890",
   "metadata": {
    "papermill": {
     "duration": 0.011446,
     "end_time": "2022-07-08T18:44:42.352332",
     "exception": false,
     "start_time": "2022-07-08T18:44:42.340886",
     "status": "completed"
    },
    "tags": []
   },
   "source": [
    "## Functions"
   ]
  },
  {
   "cell_type": "code",
   "execution_count": 59,
   "id": "394c6b4d",
   "metadata": {
    "execution": {
     "iopub.execute_input": "2022-07-08T18:44:42.376504Z",
     "iopub.status.busy": "2022-07-08T18:44:42.376298Z",
     "iopub.status.idle": "2022-07-08T18:44:42.391422Z",
     "shell.execute_reply": "2022-07-08T18:44:42.390996Z"
    },
    "papermill": {
     "duration": 0.028899,
     "end_time": "2022-07-08T18:44:42.392742",
     "exception": false,
     "start_time": "2022-07-08T18:44:42.363843",
     "status": "completed"
    },
    "tags": []
   },
   "outputs": [],
   "source": [
    "def covariance(df, dtype):\n",
    "    n = df.shape[0]\n",
    "    df = df.sub(df.mean(), axis=1).astype(dtype)\n",
    "    return df.T.dot(df) / (n - 1)"
   ]
  },
  {
   "cell_type": "code",
   "execution_count": 60,
   "id": "ed702fd0",
   "metadata": {
    "execution": {
     "iopub.execute_input": "2022-07-08T18:44:42.417015Z",
     "iopub.status.busy": "2022-07-08T18:44:42.416812Z",
     "iopub.status.idle": "2022-07-08T18:44:42.458993Z",
     "shell.execute_reply": "2022-07-08T18:44:42.458401Z"
    },
    "papermill": {
     "duration": 0.05585,
     "end_time": "2022-07-08T18:44:42.460369",
     "exception": false,
     "start_time": "2022-07-08T18:44:42.404519",
     "status": "completed"
    },
    "tags": []
   },
   "outputs": [],
   "source": [
    "# testing\n",
    "rs = np.random.RandomState(0)\n",
    "\n",
    "_test_data = pd.DataFrame(rs.normal(size=(50, 5)), columns=[f\"c{i}\" for i in range(5)])\n",
    "\n",
    "# float64\n",
    "pd.testing.assert_frame_equal(\n",
    "    covariance(_test_data, np.float64),\n",
    "    _test_data.cov(),\n",
    "    rtol=1e-10,\n",
    "    atol=1e-10,\n",
    "    check_dtype=True,\n",
    ")\n",
    "\n",
    "# float32\n",
    "pd.testing.assert_frame_equal(\n",
    "    covariance(_test_data, np.float32),\n",
    "    _test_data.cov(),\n",
    "    rtol=1e-5,\n",
    "    atol=1e-8,\n",
    "    check_dtype=False,\n",
    ")\n",
    "\n",
    "del _test_data"
   ]
  },
  {
   "cell_type": "code",
   "execution_count": 61,
   "id": "417717ae",
   "metadata": {
    "execution": {
     "iopub.execute_input": "2022-07-08T18:44:42.484805Z",
     "iopub.status.busy": "2022-07-08T18:44:42.484649Z",
     "iopub.status.idle": "2022-07-08T18:44:42.500095Z",
     "shell.execute_reply": "2022-07-08T18:44:42.499589Z"
    },
    "papermill": {
     "duration": 0.029236,
     "end_time": "2022-07-08T18:44:42.501433",
     "exception": false,
     "start_time": "2022-07-08T18:44:42.472197",
     "status": "completed"
    },
    "tags": []
   },
   "outputs": [],
   "source": [
    "def compute_snps_cov(snps_df):\n",
    "    assert snps_df[\"chr\"].unique().shape[0] == 1\n",
    "    chromosome = snps_df[\"chr\"].unique()[0]\n",
    "\n",
    "    # keep variants only present in genotype\n",
    "    snps_ids = list(set(snps_df[\"varID\"]).intersection(variants_ids_with_genotype))\n",
    "\n",
    "    chromosome_file = get_reference_panel_file(\n",
    "        REFERENCE_PANEL_DIR, f\"chr{chromosome}.variants\"\n",
    "    )\n",
    "    snps_genotypes = pd.read_parquet(chromosome_file, columns=snps_ids)\n",
    "\n",
    "    return covariance(snps_genotypes, COV_DTYPE)"
   ]
  },
  {
   "cell_type": "code",
   "execution_count": 62,
   "id": "db4aed3c",
   "metadata": {
    "execution": {
     "iopub.execute_input": "2022-07-08T18:44:42.527416Z",
     "iopub.status.busy": "2022-07-08T18:44:42.527137Z",
     "iopub.status.idle": "2022-07-08T18:44:42.544066Z",
     "shell.execute_reply": "2022-07-08T18:44:42.543499Z"
    },
    "papermill": {
     "duration": 0.031678,
     "end_time": "2022-07-08T18:44:42.545465",
     "exception": false,
     "start_time": "2022-07-08T18:44:42.513787",
     "status": "completed"
    },
    "tags": []
   },
   "outputs": [],
   "source": [
    "# testing\n",
    "_tmp_snps = variants_ld_block_df[variants_ld_block_df[\"chr\"] == 22]\n",
    "assert _tmp_snps.shape[0] > 0"
   ]
  },
  {
   "cell_type": "code",
   "execution_count": 63,
   "id": "db520e6e",
   "metadata": {
    "execution": {
     "iopub.execute_input": "2022-07-08T18:44:42.571492Z",
     "iopub.status.busy": "2022-07-08T18:44:42.571334Z",
     "iopub.status.idle": "2022-07-08T18:44:42.587528Z",
     "shell.execute_reply": "2022-07-08T18:44:42.587029Z"
    },
    "papermill": {
     "duration": 0.03033,
     "end_time": "2022-07-08T18:44:42.588876",
     "exception": false,
     "start_time": "2022-07-08T18:44:42.558546",
     "status": "completed"
    },
    "tags": []
   },
   "outputs": [
    {
     "data": {
      "text/plain": [
       "(2687, 5)"
      ]
     },
     "execution_count": 63,
     "metadata": {},
     "output_type": "execute_result"
    }
   ],
   "source": [
    "_tmp_snps.shape"
   ]
  },
  {
   "cell_type": "code",
   "execution_count": 64,
   "id": "7f7bb541",
   "metadata": {
    "execution": {
     "iopub.execute_input": "2022-07-08T18:44:42.615248Z",
     "iopub.status.busy": "2022-07-08T18:44:42.615053Z",
     "iopub.status.idle": "2022-07-08T18:44:42.631975Z",
     "shell.execute_reply": "2022-07-08T18:44:42.631395Z"
    },
    "papermill": {
     "duration": 0.031185,
     "end_time": "2022-07-08T18:44:42.633224",
     "exception": false,
     "start_time": "2022-07-08T18:44:42.602039",
     "status": "completed"
    },
    "tags": []
   },
   "outputs": [
    {
     "data": {
      "text/plain": [
       "2687"
      ]
     },
     "metadata": {},
     "output_type": "display_data"
    }
   ],
   "source": [
    "n_expected = len(set(_tmp_snps[\"varID\"]).intersection(variants_ids_with_genotype))\n",
    "display(n_expected)"
   ]
  },
  {
   "cell_type": "code",
   "execution_count": 65,
   "id": "f9de93c0",
   "metadata": {
    "execution": {
     "iopub.execute_input": "2022-07-08T18:44:42.659261Z",
     "iopub.status.busy": "2022-07-08T18:44:42.659059Z",
     "iopub.status.idle": "2022-07-08T18:44:57.017108Z",
     "shell.execute_reply": "2022-07-08T18:44:57.016602Z"
    },
    "papermill": {
     "duration": 14.372321,
     "end_time": "2022-07-08T18:44:57.018629",
     "exception": false,
     "start_time": "2022-07-08T18:44:42.646308",
     "status": "completed"
    },
    "tags": []
   },
   "outputs": [],
   "source": [
    "_tmp = compute_snps_cov(_tmp_snps)"
   ]
  },
  {
   "cell_type": "code",
   "execution_count": 66,
   "id": "46ab35a8",
   "metadata": {
    "execution": {
     "iopub.execute_input": "2022-07-08T18:44:57.045526Z",
     "iopub.status.busy": "2022-07-08T18:44:57.045045Z",
     "iopub.status.idle": "2022-07-08T18:44:57.066164Z",
     "shell.execute_reply": "2022-07-08T18:44:57.065567Z"
    },
    "papermill": {
     "duration": 0.035762,
     "end_time": "2022-07-08T18:44:57.067551",
     "exception": false,
     "start_time": "2022-07-08T18:44:57.031789",
     "status": "completed"
    },
    "tags": []
   },
   "outputs": [],
   "source": [
    "assert _tmp.shape == (n_expected, n_expected)\n",
    "assert not _tmp.isna().any().any()"
   ]
  },
  {
   "cell_type": "code",
   "execution_count": 67,
   "id": "9320eeb4",
   "metadata": {
    "execution": {
     "iopub.execute_input": "2022-07-08T18:44:57.092806Z",
     "iopub.status.busy": "2022-07-08T18:44:57.092626Z",
     "iopub.status.idle": "2022-07-08T18:44:57.107348Z",
     "shell.execute_reply": "2022-07-08T18:44:57.106836Z"
    },
    "papermill": {
     "duration": 0.028806,
     "end_time": "2022-07-08T18:44:57.108703",
     "exception": false,
     "start_time": "2022-07-08T18:44:57.079897",
     "status": "completed"
    },
    "tags": []
   },
   "outputs": [],
   "source": [
    "del _tmp_snps, _tmp"
   ]
  },
  {
   "cell_type": "markdown",
   "id": "1264f97f",
   "metadata": {
    "papermill": {
     "duration": 0.011951,
     "end_time": "2022-07-08T18:44:57.133009",
     "exception": false,
     "start_time": "2022-07-08T18:44:57.121058",
     "status": "completed"
    },
    "tags": []
   },
   "source": [
    "## Compute covariance and save"
   ]
  },
  {
   "cell_type": "code",
   "execution_count": 68,
   "id": "b938ae8a",
   "metadata": {
    "execution": {
     "iopub.execute_input": "2022-07-08T18:44:57.158018Z",
     "iopub.status.busy": "2022-07-08T18:44:57.157791Z",
     "iopub.status.idle": "2022-07-08T18:44:57.173513Z",
     "shell.execute_reply": "2022-07-08T18:44:57.173016Z"
    },
    "papermill": {
     "duration": 0.029968,
     "end_time": "2022-07-08T18:44:57.174815",
     "exception": false,
     "start_time": "2022-07-08T18:44:57.144847",
     "status": "completed"
    },
    "tags": []
   },
   "outputs": [
    {
     "data": {
      "text/plain": [
       "PosixPath('/opt/data/data/phenomexcan/ld_blocks/gene_corrs/gtex_v8/mashr/snps_chr_blocks_cov.h5')"
      ]
     },
     "metadata": {},
     "output_type": "display_data"
    }
   ],
   "source": [
    "output_file_name_template = conf.PHENOMEXCAN[\"LD_BLOCKS\"][\n",
    "    \"GENE_CORRS_FILE_NAME_TEMPLATES\"\n",
    "][\"SNPS_COVARIANCE\"]\n",
    "\n",
    "output_file = OUTPUT_DIR_BASE / output_file_name_template.format(\n",
    "    prefix=\"\",\n",
    "    suffix=\"\",\n",
    ")\n",
    "display(output_file)"
   ]
  },
  {
   "cell_type": "code",
   "execution_count": 69,
   "id": "8953db89",
   "metadata": {
    "execution": {
     "iopub.execute_input": "2022-07-08T18:44:57.200388Z",
     "iopub.status.busy": "2022-07-08T18:44:57.199918Z",
     "iopub.status.idle": "2022-07-08T19:05:08.967444Z",
     "shell.execute_reply": "2022-07-08T19:05:08.966670Z"
    },
    "papermill": {
     "duration": 1211.782467,
     "end_time": "2022-07-08T19:05:08.969632",
     "exception": false,
     "start_time": "2022-07-08T18:44:57.187165",
     "status": "completed"
    },
    "tags": []
   },
   "outputs": [
    {
     "name": "stderr",
     "output_type": "stream",
     "text": [
      "22 (2687, 5): 100%|█████████████████████████████████████████████████| 22/22 [20:11<00:00, 55.07s/it]\n"
     ]
    }
   ],
   "source": [
    "with pd.HDFStore(output_file, mode=\"w\", complevel=4) as store:\n",
    "    pbar = tqdm(\n",
    "        variants_ld_block_df.groupby(\"chr\"),\n",
    "        ncols=100,\n",
    "        total=variants_ld_block_df[\"chr\"].unique().shape[0],\n",
    "    )\n",
    "\n",
    "    store[\"metadata\"] = variants_ld_block_df\n",
    "\n",
    "    for grp_name, grp_data in pbar:\n",
    "        pbar.set_description(f\"{grp_name} {grp_data.shape}\")\n",
    "        snps_cov = compute_snps_cov(grp_data)  # .astype(COV_DTYPE)\n",
    "        assert not snps_cov.isna().any().any()\n",
    "        store[f\"chr{grp_name}\"] = snps_cov\n",
    "\n",
    "        del snps_cov\n",
    "        store.flush()\n",
    "\n",
    "        gc.collect()"
   ]
  },
  {
   "cell_type": "markdown",
   "id": "1de34e70",
   "metadata": {
    "papermill": {
     "duration": 0.017411,
     "end_time": "2022-07-08T19:05:09.018119",
     "exception": false,
     "start_time": "2022-07-08T19:05:09.000708",
     "status": "completed"
    },
    "tags": []
   },
   "source": [
    "# Testing"
   ]
  },
  {
   "cell_type": "code",
   "execution_count": 70,
   "id": "54fc512c",
   "metadata": {
    "execution": {
     "iopub.execute_input": "2022-07-08T19:05:09.046622Z",
     "iopub.status.busy": "2022-07-08T19:05:09.046416Z",
     "iopub.status.idle": "2022-07-08T19:05:09.062289Z",
     "shell.execute_reply": "2022-07-08T19:05:09.061676Z"
    },
    "papermill": {
     "duration": 0.031804,
     "end_time": "2022-07-08T19:05:09.063670",
     "exception": false,
     "start_time": "2022-07-08T19:05:09.031866",
     "status": "completed"
    },
    "tags": []
   },
   "outputs": [],
   "source": [
    "_tmp = variants_ld_block_df[variants_ld_block_df[\"chr\"] == 1]"
   ]
  },
  {
   "cell_type": "code",
   "execution_count": 71,
   "id": "a3bd8ede",
   "metadata": {
    "execution": {
     "iopub.execute_input": "2022-07-08T19:05:09.092635Z",
     "iopub.status.busy": "2022-07-08T19:05:09.092474Z",
     "iopub.status.idle": "2022-07-08T19:05:09.107539Z",
     "shell.execute_reply": "2022-07-08T19:05:09.107073Z"
    },
    "papermill": {
     "duration": 0.030939,
     "end_time": "2022-07-08T19:05:09.108833",
     "exception": false,
     "start_time": "2022-07-08T19:05:09.077894",
     "status": "completed"
    },
    "tags": []
   },
   "outputs": [
    {
     "data": {
      "text/plain": [
       "(8130, 5)"
      ]
     },
     "execution_count": 71,
     "metadata": {},
     "output_type": "execute_result"
    }
   ],
   "source": [
    "_tmp.shape"
   ]
  },
  {
   "cell_type": "code",
   "execution_count": 72,
   "id": "6149cee4",
   "metadata": {
    "execution": {
     "iopub.execute_input": "2022-07-08T19:05:09.138605Z",
     "iopub.status.busy": "2022-07-08T19:05:09.137860Z",
     "iopub.status.idle": "2022-07-08T19:05:09.152339Z",
     "shell.execute_reply": "2022-07-08T19:05:09.151817Z"
    },
    "papermill": {
     "duration": 0.030392,
     "end_time": "2022-07-08T19:05:09.153683",
     "exception": false,
     "start_time": "2022-07-08T19:05:09.123291",
     "status": "completed"
    },
    "tags": []
   },
   "outputs": [],
   "source": [
    "assert _tmp.shape[0] > 0"
   ]
  },
  {
   "cell_type": "code",
   "execution_count": 73,
   "id": "8aceb74a",
   "metadata": {
    "execution": {
     "iopub.execute_input": "2022-07-08T19:05:09.184283Z",
     "iopub.status.busy": "2022-07-08T19:05:09.184088Z",
     "iopub.status.idle": "2022-07-08T19:05:09.202960Z",
     "shell.execute_reply": "2022-07-08T19:05:09.202464Z"
    },
    "papermill": {
     "duration": 0.03572,
     "end_time": "2022-07-08T19:05:09.204354",
     "exception": false,
     "start_time": "2022-07-08T19:05:09.168634",
     "status": "completed"
    },
    "tags": []
   },
   "outputs": [
    {
     "data": {
      "text/plain": [
       "8130"
      ]
     },
     "metadata": {},
     "output_type": "display_data"
    }
   ],
   "source": [
    "n_expected = len(set(_tmp[\"varID\"]).intersection(variants_ids_with_genotype))\n",
    "display(n_expected)\n",
    "assert n_expected > 0"
   ]
  },
  {
   "cell_type": "code",
   "execution_count": 74,
   "id": "ffdb4c4b",
   "metadata": {
    "execution": {
     "iopub.execute_input": "2022-07-08T19:05:09.235857Z",
     "iopub.status.busy": "2022-07-08T19:05:09.235698Z",
     "iopub.status.idle": "2022-07-08T19:05:10.621828Z",
     "shell.execute_reply": "2022-07-08T19:05:10.621181Z"
    },
    "papermill": {
     "duration": 1.402589,
     "end_time": "2022-07-08T19:05:10.623507",
     "exception": false,
     "start_time": "2022-07-08T19:05:09.220918",
     "status": "completed"
    },
    "tags": []
   },
   "outputs": [],
   "source": [
    "with pd.HDFStore(output_file, mode=\"r\") as store:\n",
    "    df = store[\"chr1\"]\n",
    "    assert df.shape == (n_expected, n_expected)\n",
    "    assert not df.isna().any().any()"
   ]
  },
  {
   "cell_type": "code",
   "execution_count": null,
   "id": "49dccd49",
   "metadata": {
    "papermill": {
     "duration": 0.015318,
     "end_time": "2022-07-08T19:05:10.655683",
     "exception": false,
     "start_time": "2022-07-08T19:05:10.640365",
     "status": "completed"
    },
    "tags": []
   },
   "outputs": [],
   "source": []
  }
 ],
 "metadata": {
  "jupytext": {
   "cell_metadata_filter": "all,-execution,-papermill,-trusted",
   "formats": "ipynb,py//py:percent"
  },
  "kernelspec": {
   "display_name": "Python 3 (ipykernel)",
   "language": "python",
   "name": "python3"
  },
  "language_info": {
   "codemirror_mode": {
    "name": "ipython",
    "version": 3
   },
   "file_extension": ".py",
   "mimetype": "text/x-python",
   "name": "python",
   "nbconvert_exporter": "python",
   "pygments_lexer": "ipython3",
   "version": "3.8.13"
  },
  "papermill": {
   "default_parameters": {},
   "duration": 1245.250015,
   "end_time": "2022-07-08T19:05:12.101524",
   "environment_variables": {},
   "exception": null,
   "input_path": "nbs/15_gsa_gls/05-snps_into_chr_cov.ipynb",
   "output_path": "nbs/15_gsa_gls/gene_corrs/gtex_v8/mashr/05-snps_into_chr_cov.ipynb",
   "parameters": {
    "EQTL_MODEL": "MASHR",
    "REFERENCE_PANEL": "GTEX_V8"
   },
   "start_time": "2022-07-08T18:44:26.851509",
   "version": "2.2.2"
  }
 },
 "nbformat": 4,
 "nbformat_minor": 5
}
