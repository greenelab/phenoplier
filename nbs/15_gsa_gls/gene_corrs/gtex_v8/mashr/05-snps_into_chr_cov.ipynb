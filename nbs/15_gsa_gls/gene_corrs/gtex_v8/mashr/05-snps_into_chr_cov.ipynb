{
 "cells": [
  {
   "cell_type": "markdown",
   "id": "d88b3ffc",
   "metadata": {
    "papermill": {
     "duration": 0.040353,
     "end_time": "2022-06-05T04:13:44.240876",
     "exception": false,
     "start_time": "2022-06-05T04:13:44.200523",
     "status": "completed"
    },
    "tags": []
   },
   "source": [
    "# Description"
   ]
  },
  {
   "cell_type": "markdown",
   "id": "69f66c44",
   "metadata": {
    "papermill": {
     "duration": 0.010376,
     "end_time": "2022-06-05T04:13:44.266999",
     "exception": false,
     "start_time": "2022-06-05T04:13:44.256623",
     "status": "completed"
    },
    "tags": []
   },
   "source": [
    "(Please, take a look at the README.md file in this directory for instructions on how to run this notebook)\n",
    "\n",
    "This notebook computes the covariance of SNPs for each chr."
   ]
  },
  {
   "cell_type": "markdown",
   "id": "0cb79cbe",
   "metadata": {
    "papermill": {
     "duration": 0.010069,
     "end_time": "2022-06-05T04:13:44.286418",
     "exception": false,
     "start_time": "2022-06-05T04:13:44.276349",
     "status": "completed"
    },
    "tags": []
   },
   "source": [
    "# Modules"
   ]
  },
  {
   "cell_type": "code",
   "execution_count": 1,
   "id": "0a4272be",
   "metadata": {
    "execution": {
     "iopub.execute_input": "2022-06-05T04:13:44.335991Z",
     "iopub.status.busy": "2022-06-05T04:13:44.335748Z",
     "iopub.status.idle": "2022-06-05T04:13:44.354892Z",
     "shell.execute_reply": "2022-06-05T04:13:44.354266Z"
    },
    "papermill": {
     "duration": 0.034229,
     "end_time": "2022-06-05T04:13:44.356848",
     "exception": false,
     "start_time": "2022-06-05T04:13:44.322619",
     "status": "completed"
    },
    "tags": []
   },
   "outputs": [],
   "source": [
    "%load_ext autoreload\n",
    "%autoreload 2"
   ]
  },
  {
   "cell_type": "code",
   "execution_count": 2,
   "id": "4141c781",
   "metadata": {
    "execution": {
     "iopub.execute_input": "2022-06-05T04:13:44.379833Z",
     "iopub.status.busy": "2022-06-05T04:13:44.379664Z",
     "iopub.status.idle": "2022-06-05T04:13:44.813118Z",
     "shell.execute_reply": "2022-06-05T04:13:44.812561Z"
    },
    "papermill": {
     "duration": 0.446208,
     "end_time": "2022-06-05T04:13:44.814755",
     "exception": false,
     "start_time": "2022-06-05T04:13:44.368547",
     "status": "completed"
    },
    "tags": []
   },
   "outputs": [],
   "source": [
    "import gc\n",
    "import sqlite3\n",
    "from pathlib import Path\n",
    "\n",
    "import numpy as np\n",
    "import pandas as pd\n",
    "from tqdm import tqdm\n",
    "\n",
    "import conf\n",
    "from entity import Gene"
   ]
  },
  {
   "cell_type": "markdown",
   "id": "37055abe",
   "metadata": {
    "papermill": {
     "duration": 0.009657,
     "end_time": "2022-06-05T04:13:44.834991",
     "exception": false,
     "start_time": "2022-06-05T04:13:44.825334",
     "status": "completed"
    },
    "tags": []
   },
   "source": [
    "# Settings"
   ]
  },
  {
   "cell_type": "code",
   "execution_count": 3,
   "id": "c264a67f",
   "metadata": {
    "execution": {
     "iopub.execute_input": "2022-06-05T04:13:44.855530Z",
     "iopub.status.busy": "2022-06-05T04:13:44.855298Z",
     "iopub.status.idle": "2022-06-05T04:13:44.867850Z",
     "shell.execute_reply": "2022-06-05T04:13:44.867364Z"
    },
    "papermill": {
     "duration": 0.024476,
     "end_time": "2022-06-05T04:13:44.869245",
     "exception": false,
     "start_time": "2022-06-05T04:13:44.844769",
     "status": "completed"
    },
    "tags": []
   },
   "outputs": [],
   "source": [
    "COV_DTYPE = np.float32"
   ]
  },
  {
   "cell_type": "code",
   "execution_count": 4,
   "id": "ac93914d",
   "metadata": {
    "execution": {
     "iopub.execute_input": "2022-06-05T04:13:44.890493Z",
     "iopub.status.busy": "2022-06-05T04:13:44.890309Z",
     "iopub.status.idle": "2022-06-05T04:13:44.902532Z",
     "shell.execute_reply": "2022-06-05T04:13:44.902028Z"
    },
    "papermill": {
     "duration": 0.024388,
     "end_time": "2022-06-05T04:13:44.903924",
     "exception": false,
     "start_time": "2022-06-05T04:13:44.879536",
     "status": "completed"
    },
    "tags": [
     "parameters"
    ]
   },
   "outputs": [],
   "source": [
    "# reference panel\n",
    "REFERENCE_PANEL = \"GTEX_V8\"\n",
    "# REFERENCE_PANEL = \"1000G\"\n",
    "\n",
    "# prediction models\n",
    "## mashr\n",
    "EQTL_MODEL = \"MASHR\"\n",
    "EQTL_MODEL_FILES_PREFIX = \"mashr_\"\n",
    "\n",
    "# ## elastic net\n",
    "# EQTL_MODEL = \"ELASTIC_NET\"\n",
    "# EQTL_MODEL_FILES_PREFIX = \"en_\"\n",
    "\n",
    "# make it read the prefix from conf.py\n",
    "EQTL_MODEL_FILES_PREFIX = None"
   ]
  },
  {
   "cell_type": "code",
   "execution_count": 5,
   "id": "6c2efa0b",
   "metadata": {
    "execution": {
     "iopub.execute_input": "2022-06-05T04:13:44.924693Z",
     "iopub.status.busy": "2022-06-05T04:13:44.924491Z",
     "iopub.status.idle": "2022-06-05T04:13:44.936454Z",
     "shell.execute_reply": "2022-06-05T04:13:44.935942Z"
    },
    "papermill": {
     "duration": 0.023831,
     "end_time": "2022-06-05T04:13:44.937789",
     "exception": false,
     "start_time": "2022-06-05T04:13:44.913958",
     "status": "completed"
    },
    "tags": [
     "injected-parameters"
    ]
   },
   "outputs": [],
   "source": [
    "# Parameters\n",
    "REFERENCE_PANEL = \"GTEX_V8\"\n",
    "EQTL_MODEL = \"MASHR\"\n"
   ]
  },
  {
   "cell_type": "code",
   "execution_count": 6,
   "id": "455c2e55",
   "metadata": {
    "execution": {
     "iopub.execute_input": "2022-06-05T04:13:44.958772Z",
     "iopub.status.busy": "2022-06-05T04:13:44.958604Z",
     "iopub.status.idle": "2022-06-05T04:13:44.970846Z",
     "shell.execute_reply": "2022-06-05T04:13:44.970276Z"
    },
    "papermill": {
     "duration": 0.024348,
     "end_time": "2022-06-05T04:13:44.972286",
     "exception": false,
     "start_time": "2022-06-05T04:13:44.947938",
     "status": "completed"
    },
    "tags": []
   },
   "outputs": [],
   "source": [
    "if EQTL_MODEL_FILES_PREFIX is None:\n",
    "    EQTL_MODEL_FILES_PREFIX = conf.PHENOMEXCAN[\"PREDICTION_MODELS\"][\n",
    "        f\"{EQTL_MODEL}_PREFIX\"\n",
    "    ]"
   ]
  },
  {
   "cell_type": "code",
   "execution_count": 7,
   "id": "32bd0019-14eb-4645-8a7f-98bdcf11e04a",
   "metadata": {
    "execution": {
     "iopub.execute_input": "2022-06-05T04:13:44.993366Z",
     "iopub.status.busy": "2022-06-05T04:13:44.993198Z",
     "iopub.status.idle": "2022-06-05T04:13:45.005261Z",
     "shell.execute_reply": "2022-06-05T04:13:45.004763Z"
    },
    "papermill": {
     "duration": 0.024143,
     "end_time": "2022-06-05T04:13:45.006682",
     "exception": false,
     "start_time": "2022-06-05T04:13:44.982539",
     "status": "completed"
    },
    "tags": []
   },
   "outputs": [],
   "source": [
    "REFERENCE_PANEL_DIR = conf.PHENOMEXCAN[\"LD_BLOCKS\"][f\"{REFERENCE_PANEL}_GENOTYPE_DIR\"]"
   ]
  },
  {
   "cell_type": "code",
   "execution_count": 8,
   "id": "a2ea1be5",
   "metadata": {
    "execution": {
     "iopub.execute_input": "2022-06-05T04:13:45.028056Z",
     "iopub.status.busy": "2022-06-05T04:13:45.027845Z",
     "iopub.status.idle": "2022-06-05T04:13:45.045662Z",
     "shell.execute_reply": "2022-06-05T04:13:45.044934Z"
    },
    "papermill": {
     "duration": 0.030051,
     "end_time": "2022-06-05T04:13:45.047122",
     "exception": false,
     "start_time": "2022-06-05T04:13:45.017071",
     "status": "completed"
    },
    "tags": []
   },
   "outputs": [
    {
     "data": {
      "text/plain": [
       "'Using reference panel folder: /opt/data/data/phenomexcan/ld_blocks/reference_panel_gtex_v8'"
      ]
     },
     "metadata": {},
     "output_type": "display_data"
    }
   ],
   "source": [
    "display(f\"Using reference panel folder: {str(REFERENCE_PANEL_DIR)}\")"
   ]
  },
  {
   "cell_type": "code",
   "execution_count": 9,
   "id": "e9bac058-9add-44c1-897d-09200964448c",
   "metadata": {
    "execution": {
     "iopub.execute_input": "2022-06-05T04:13:45.068442Z",
     "iopub.status.busy": "2022-06-05T04:13:45.068238Z",
     "iopub.status.idle": "2022-06-05T04:13:45.080790Z",
     "shell.execute_reply": "2022-06-05T04:13:45.080302Z"
    },
    "papermill": {
     "duration": 0.024747,
     "end_time": "2022-06-05T04:13:45.082208",
     "exception": false,
     "start_time": "2022-06-05T04:13:45.057461",
     "status": "completed"
    },
    "tags": []
   },
   "outputs": [],
   "source": [
    "OUTPUT_DIR_BASE = conf.PHENOMEXCAN[\"LD_BLOCKS\"][f\"GENE_CORRS_DIR\"] / REFERENCE_PANEL.lower() / EQTL_MODEL.lower()\n",
    "OUTPUT_DIR_BASE.mkdir(parents=True, exist_ok=True)"
   ]
  },
  {
   "cell_type": "code",
   "execution_count": 10,
   "id": "09a8d5b0-82d8-4f5d-97f4-6910301cba8b",
   "metadata": {
    "execution": {
     "iopub.execute_input": "2022-06-05T04:13:45.103604Z",
     "iopub.status.busy": "2022-06-05T04:13:45.103390Z",
     "iopub.status.idle": "2022-06-05T04:13:45.116537Z",
     "shell.execute_reply": "2022-06-05T04:13:45.115980Z"
    },
    "papermill": {
     "duration": 0.025347,
     "end_time": "2022-06-05T04:13:45.117921",
     "exception": false,
     "start_time": "2022-06-05T04:13:45.092574",
     "status": "completed"
    },
    "tags": []
   },
   "outputs": [
    {
     "data": {
      "text/plain": [
       "'Using output dir base: /opt/data/data/phenomexcan/ld_blocks/gene_corrs/gtex_v8/mashr'"
      ]
     },
     "metadata": {},
     "output_type": "display_data"
    }
   ],
   "source": [
    "display(f\"Using output dir base: {OUTPUT_DIR_BASE}\")"
   ]
  },
  {
   "cell_type": "markdown",
   "id": "37dfafb8",
   "metadata": {
    "papermill": {
     "duration": 0.009997,
     "end_time": "2022-06-05T04:13:45.138340",
     "exception": false,
     "start_time": "2022-06-05T04:13:45.128343",
     "status": "completed"
    },
    "tags": []
   },
   "source": [
    "# Load data"
   ]
  },
  {
   "cell_type": "markdown",
   "id": "c6f55abd",
   "metadata": {
    "papermill": {
     "duration": 0.00989,
     "end_time": "2022-06-05T04:13:45.158512",
     "exception": false,
     "start_time": "2022-06-05T04:13:45.148622",
     "status": "completed"
    },
    "tags": []
   },
   "source": [
    "## Functions"
   ]
  },
  {
   "cell_type": "code",
   "execution_count": 11,
   "id": "5d1731cc-7c43-4dbe-bea5-88a9ecfc58f8",
   "metadata": {
    "execution": {
     "iopub.execute_input": "2022-06-05T04:13:45.179970Z",
     "iopub.status.busy": "2022-06-05T04:13:45.179233Z",
     "iopub.status.idle": "2022-06-05T04:13:45.192105Z",
     "shell.execute_reply": "2022-06-05T04:13:45.191482Z"
    },
    "papermill": {
     "duration": 0.02527,
     "end_time": "2022-06-05T04:13:45.193652",
     "exception": false,
     "start_time": "2022-06-05T04:13:45.168382",
     "status": "completed"
    },
    "tags": []
   },
   "outputs": [],
   "source": [
    "def get_reference_panel_file(directory: Path, file_pattern: str) -> Path:\n",
    "    files = list(directory.glob(f\"*{file_pattern}*.parquet\"))\n",
    "    assert len(files) == 1, f\"More than one file was found: {files}\"\n",
    "    return files[0]"
   ]
  },
  {
   "cell_type": "code",
   "execution_count": 12,
   "id": "5b460090-39d3-40da-a06a-8ccc039e748c",
   "metadata": {
    "execution": {
     "iopub.execute_input": "2022-06-05T04:13:45.215012Z",
     "iopub.status.busy": "2022-06-05T04:13:45.214813Z",
     "iopub.status.idle": "2022-06-05T04:13:45.230883Z",
     "shell.execute_reply": "2022-06-05T04:13:45.230291Z"
    },
    "papermill": {
     "duration": 0.028339,
     "end_time": "2022-06-05T04:13:45.232308",
     "exception": false,
     "start_time": "2022-06-05T04:13:45.203969",
     "status": "completed"
    },
    "tags": []
   },
   "outputs": [],
   "source": [
    "# testing\n",
    "_tmp = get_reference_panel_file(\n",
    "    conf.PHENOMEXCAN[\"LD_BLOCKS\"][\"GTEX_V8_GENOTYPE_DIR\"], \"chr1.variants\"\n",
    ")\n",
    "assert _tmp is not None\n",
    "assert _tmp.name == \"gtex_v8_eur_filtered_maf0.01_monoallelic_variants.chr1.variants.parquet\"\n",
    "\n",
    "_tmp = get_reference_panel_file(\n",
    "    conf.PHENOMEXCAN[\"LD_BLOCKS\"][\"GTEX_V8_GENOTYPE_DIR\"], \"_metadata\"\n",
    ")\n",
    "assert _tmp is not None\n",
    "assert _tmp.name == \"gtex_v8_eur_filtered_maf0.01_monoallelic_variants.variants_metadata.parquet\"\n",
    "\n",
    "# 1000G\n",
    "_tmp = get_reference_panel_file(\n",
    "    conf.PHENOMEXCAN[\"LD_BLOCKS\"][\"1000G_GENOTYPE_DIR\"], \"chr1.variants\"\n",
    ")\n",
    "assert _tmp is not None\n",
    "assert _tmp.name == \"chr1.variants.parquet\"\n",
    "\n",
    "_tmp = get_reference_panel_file(\n",
    "    conf.PHENOMEXCAN[\"LD_BLOCKS\"][\"1000G_GENOTYPE_DIR\"], \"_metadata\"\n",
    ")\n",
    "assert _tmp is not None\n",
    "assert _tmp.name == \"variant_metadata.parquet\"\n",
    "\n",
    "# pattern matches more than one file\n",
    "try:\n",
    "    get_reference_panel_file(\n",
    "        conf.PHENOMEXCAN[\"LD_BLOCKS\"][\"1000G_GENOTYPE_DIR\"], \"chr1\"\n",
    "    )\n",
    "    raise AssertionError(\"Exception was not raised\")\n",
    "except AssertionError as e:\n",
    "    assert \"More than one file was found\" in str(e)"
   ]
  },
  {
   "cell_type": "markdown",
   "id": "cd93f57d-ba1b-463c-b5ae-97435954a5de",
   "metadata": {
    "papermill": {
     "duration": 0.01023,
     "end_time": "2022-06-05T04:13:45.253042",
     "exception": false,
     "start_time": "2022-06-05T04:13:45.242812",
     "status": "completed"
    },
    "tags": []
   },
   "source": [
    "## SNPs in predictions models"
   ]
  },
  {
   "cell_type": "code",
   "execution_count": 13,
   "id": "c94c4cbb",
   "metadata": {
    "execution": {
     "iopub.execute_input": "2022-06-05T04:13:45.273976Z",
     "iopub.status.busy": "2022-06-05T04:13:45.273758Z",
     "iopub.status.idle": "2022-06-05T04:13:45.286475Z",
     "shell.execute_reply": "2022-06-05T04:13:45.285953Z"
    },
    "papermill": {
     "duration": 0.024938,
     "end_time": "2022-06-05T04:13:45.287936",
     "exception": false,
     "start_time": "2022-06-05T04:13:45.262998",
     "status": "completed"
    },
    "tags": []
   },
   "outputs": [],
   "source": [
    "mashr_models_db_files = list(\n",
    "    conf.PHENOMEXCAN[\"PREDICTION_MODELS\"][EQTL_MODEL].glob(\"*.db\")\n",
    ")"
   ]
  },
  {
   "cell_type": "code",
   "execution_count": 14,
   "id": "9015c1d7",
   "metadata": {
    "execution": {
     "iopub.execute_input": "2022-06-05T04:13:45.309590Z",
     "iopub.status.busy": "2022-06-05T04:13:45.309373Z",
     "iopub.status.idle": "2022-06-05T04:13:45.321864Z",
     "shell.execute_reply": "2022-06-05T04:13:45.321361Z"
    },
    "papermill": {
     "duration": 0.024693,
     "end_time": "2022-06-05T04:13:45.323279",
     "exception": false,
     "start_time": "2022-06-05T04:13:45.298586",
     "status": "completed"
    },
    "tags": []
   },
   "outputs": [],
   "source": [
    "assert len(mashr_models_db_files) == 49"
   ]
  },
  {
   "cell_type": "code",
   "execution_count": 15,
   "id": "d5a28a46",
   "metadata": {
    "execution": {
     "iopub.execute_input": "2022-06-05T04:13:45.344861Z",
     "iopub.status.busy": "2022-06-05T04:13:45.344521Z",
     "iopub.status.idle": "2022-06-05T04:13:47.570572Z",
     "shell.execute_reply": "2022-06-05T04:13:47.569934Z"
    },
    "papermill": {
     "duration": 2.238601,
     "end_time": "2022-06-05T04:13:47.572176",
     "exception": false,
     "start_time": "2022-06-05T04:13:45.333575",
     "status": "completed"
    },
    "tags": []
   },
   "outputs": [
    {
     "name": "stdout",
     "output_type": "stream",
     "text": [
      "Processing mashr_Skin_Not_Sun_Exposed_Suprapubic.db\n",
      "Processing mashr_Cells_EBV-transformed_lymphocytes.db\n",
      "Processing mashr_Brain_Frontal_Cortex_BA9.db\n",
      "Processing mashr_Kidney_Cortex.db\n",
      "Processing mashr_Brain_Substantia_nigra.db\n",
      "Processing mashr_Spleen.db\n",
      "Processing mashr_Colon_Transverse.db\n",
      "Processing mashr_Heart_Left_Ventricle.db\n",
      "Processing mashr_Lung.db\n",
      "Processing mashr_Muscle_Skeletal.db\n",
      "Processing mashr_Brain_Hypothalamus.db\n",
      "Processing mashr_Brain_Cortex.db\n",
      "Processing mashr_Brain_Amygdala.db\n",
      "Processing mashr_Esophagus_Mucosa.db\n",
      "Processing mashr_Adrenal_Gland.db\n",
      "Processing mashr_Uterus.db\n",
      "Processing mashr_Prostate.db\n",
      "Processing mashr_Whole_Blood.db\n",
      "Processing mashr_Pituitary.db\n",
      "Processing mashr_Esophagus_Gastroesophageal_Junction.db\n",
      "Processing mashr_Stomach.db\n",
      "Processing mashr_Heart_Atrial_Appendage.db\n",
      "Processing mashr_Brain_Cerebellum.db\n",
      "Processing mashr_Breast_Mammary_Tissue.db\n",
      "Processing mashr_Artery_Tibial.db\n",
      "Processing mashr_Artery_Aorta.db\n",
      "Processing mashr_Small_Intestine_Terminal_Ileum.db\n",
      "Processing mashr_Brain_Hippocampus.db\n",
      "Processing mashr_Testis.db\n",
      "Processing mashr_Brain_Putamen_basal_ganglia.db\n",
      "Processing mashr_Pancreas.db\n",
      "Processing mashr_Adipose_Subcutaneous.db\n",
      "Processing mashr_Brain_Cerebellar_Hemisphere.db\n",
      "Processing mashr_Colon_Sigmoid.db\n",
      "Processing mashr_Minor_Salivary_Gland.db\n",
      "Processing mashr_Cells_Cultured_fibroblasts.db\n",
      "Processing mashr_Brain_Nucleus_accumbens_basal_ganglia.db\n",
      "Processing mashr_Brain_Anterior_cingulate_cortex_BA24.db\n",
      "Processing mashr_Vagina.db\n",
      "Processing mashr_Ovary.db\n",
      "Processing mashr_Skin_Sun_Exposed_Lower_leg.db\n",
      "Processing mashr_Esophagus_Muscularis.db\n",
      "Processing mashr_Brain_Spinal_cord_cervical_c-1.db\n",
      "Processing mashr_Artery_Coronary.db\n",
      "Processing mashr_Thyroid.db\n",
      "Processing mashr_Brain_Caudate_basal_ganglia.db\n",
      "Processing mashr_Adipose_Visceral_Omentum.db\n",
      "Processing mashr_Nerve_Tibial.db\n",
      "Processing mashr_Liver.db\n"
     ]
    }
   ],
   "source": [
    "all_variants_ids = []\n",
    "\n",
    "for m in mashr_models_db_files:\n",
    "    print(f\"Processing {m.name}\")\n",
    "    tissue = m.name.split(EQTL_MODEL_FILES_PREFIX)[1].split(\".db\")[0]\n",
    "\n",
    "    with sqlite3.connect(m) as conn:\n",
    "        df = pd.read_sql(\"select gene, varID from weights\", conn)\n",
    "        df[\"gene\"] = df[\"gene\"].apply(lambda x: x.split(\".\")[0])\n",
    "        df = df.assign(tissue=tissue)\n",
    "\n",
    "        all_variants_ids.append(df)"
   ]
  },
  {
   "cell_type": "code",
   "execution_count": 16,
   "id": "986feda1",
   "metadata": {
    "execution": {
     "iopub.execute_input": "2022-06-05T04:13:47.598411Z",
     "iopub.status.busy": "2022-06-05T04:13:47.598230Z",
     "iopub.status.idle": "2022-06-05T04:13:47.746926Z",
     "shell.execute_reply": "2022-06-05T04:13:47.746240Z"
    },
    "papermill": {
     "duration": 0.163199,
     "end_time": "2022-06-05T04:13:47.748686",
     "exception": false,
     "start_time": "2022-06-05T04:13:47.585487",
     "status": "completed"
    },
    "tags": []
   },
   "outputs": [],
   "source": [
    "all_gene_snps = pd.concat(all_variants_ids, ignore_index=True)"
   ]
  },
  {
   "cell_type": "code",
   "execution_count": 17,
   "id": "cdbb12ef",
   "metadata": {
    "execution": {
     "iopub.execute_input": "2022-06-05T04:13:47.776897Z",
     "iopub.status.busy": "2022-06-05T04:13:47.776693Z",
     "iopub.status.idle": "2022-06-05T04:13:47.791512Z",
     "shell.execute_reply": "2022-06-05T04:13:47.790939Z"
    },
    "papermill": {
     "duration": 0.030619,
     "end_time": "2022-06-05T04:13:47.793038",
     "exception": false,
     "start_time": "2022-06-05T04:13:47.762419",
     "status": "completed"
    },
    "tags": []
   },
   "outputs": [
    {
     "data": {
      "text/plain": [
       "(1132714, 3)"
      ]
     },
     "execution_count": 17,
     "metadata": {},
     "output_type": "execute_result"
    }
   ],
   "source": [
    "all_gene_snps.shape"
   ]
  },
  {
   "cell_type": "code",
   "execution_count": 18,
   "id": "c5300203",
   "metadata": {
    "execution": {
     "iopub.execute_input": "2022-06-05T04:13:47.818767Z",
     "iopub.status.busy": "2022-06-05T04:13:47.818580Z",
     "iopub.status.idle": "2022-06-05T04:13:47.836231Z",
     "shell.execute_reply": "2022-06-05T04:13:47.835695Z"
    },
    "papermill": {
     "duration": 0.032139,
     "end_time": "2022-06-05T04:13:47.837657",
     "exception": false,
     "start_time": "2022-06-05T04:13:47.805518",
     "status": "completed"
    },
    "tags": []
   },
   "outputs": [
    {
     "data": {
      "text/html": [
       "<div>\n",
       "<style scoped>\n",
       "    .dataframe tbody tr th:only-of-type {\n",
       "        vertical-align: middle;\n",
       "    }\n",
       "\n",
       "    .dataframe tbody tr th {\n",
       "        vertical-align: top;\n",
       "    }\n",
       "\n",
       "    .dataframe thead th {\n",
       "        text-align: right;\n",
       "    }\n",
       "</style>\n",
       "<table border=\"1\" class=\"dataframe\">\n",
       "  <thead>\n",
       "    <tr style=\"text-align: right;\">\n",
       "      <th></th>\n",
       "      <th>gene</th>\n",
       "      <th>varID</th>\n",
       "      <th>tissue</th>\n",
       "    </tr>\n",
       "  </thead>\n",
       "  <tbody>\n",
       "    <tr>\n",
       "      <th>0</th>\n",
       "      <td>ENSG00000169583</td>\n",
       "      <td>chr9_136996001_G_A_b38</td>\n",
       "      <td>Skin_Not_Sun_Exposed_Suprapubic</td>\n",
       "    </tr>\n",
       "    <tr>\n",
       "      <th>1</th>\n",
       "      <td>ENSG00000107331</td>\n",
       "      <td>chr9_137029055_C_CA_b38</td>\n",
       "      <td>Skin_Not_Sun_Exposed_Suprapubic</td>\n",
       "    </tr>\n",
       "    <tr>\n",
       "      <th>2</th>\n",
       "      <td>ENSG00000107331</td>\n",
       "      <td>chr9_137029407_T_G_b38</td>\n",
       "      <td>Skin_Not_Sun_Exposed_Suprapubic</td>\n",
       "    </tr>\n",
       "    <tr>\n",
       "      <th>3</th>\n",
       "      <td>ENSG00000180549</td>\n",
       "      <td>chr9_137031950_T_C_b38</td>\n",
       "      <td>Skin_Not_Sun_Exposed_Suprapubic</td>\n",
       "    </tr>\n",
       "    <tr>\n",
       "      <th>4</th>\n",
       "      <td>ENSG00000180549</td>\n",
       "      <td>chr9_137032610_A_G_b38</td>\n",
       "      <td>Skin_Not_Sun_Exposed_Suprapubic</td>\n",
       "    </tr>\n",
       "  </tbody>\n",
       "</table>\n",
       "</div>"
      ],
      "text/plain": [
       "              gene                    varID                           tissue\n",
       "0  ENSG00000169583   chr9_136996001_G_A_b38  Skin_Not_Sun_Exposed_Suprapubic\n",
       "1  ENSG00000107331  chr9_137029055_C_CA_b38  Skin_Not_Sun_Exposed_Suprapubic\n",
       "2  ENSG00000107331   chr9_137029407_T_G_b38  Skin_Not_Sun_Exposed_Suprapubic\n",
       "3  ENSG00000180549   chr9_137031950_T_C_b38  Skin_Not_Sun_Exposed_Suprapubic\n",
       "4  ENSG00000180549   chr9_137032610_A_G_b38  Skin_Not_Sun_Exposed_Suprapubic"
      ]
     },
     "execution_count": 18,
     "metadata": {},
     "output_type": "execute_result"
    }
   ],
   "source": [
    "all_gene_snps.head()"
   ]
  },
  {
   "cell_type": "code",
   "execution_count": 19,
   "id": "e5a2d4be",
   "metadata": {
    "execution": {
     "iopub.execute_input": "2022-06-05T04:13:47.862685Z",
     "iopub.status.busy": "2022-06-05T04:13:47.862200Z",
     "iopub.status.idle": "2022-06-05T04:13:48.198979Z",
     "shell.execute_reply": "2022-06-05T04:13:48.198277Z"
    },
    "papermill": {
     "duration": 0.350781,
     "end_time": "2022-06-05T04:13:48.200783",
     "exception": false,
     "start_time": "2022-06-05T04:13:47.850002",
     "status": "completed"
    },
    "tags": []
   },
   "outputs": [],
   "source": [
    "all_snps_in_models = set(all_gene_snps[\"varID\"].unique())"
   ]
  },
  {
   "cell_type": "markdown",
   "id": "e2cfb3d9",
   "metadata": {
    "papermill": {
     "duration": 0.013848,
     "end_time": "2022-06-05T04:13:48.229758",
     "exception": false,
     "start_time": "2022-06-05T04:13:48.215910",
     "status": "completed"
    },
    "tags": []
   },
   "source": [
    "## MultiPLIER Z"
   ]
  },
  {
   "cell_type": "code",
   "execution_count": 20,
   "id": "0e901bf8",
   "metadata": {
    "execution": {
     "iopub.execute_input": "2022-06-05T04:13:48.256957Z",
     "iopub.status.busy": "2022-06-05T04:13:48.256777Z",
     "iopub.status.idle": "2022-06-05T04:13:48.290394Z",
     "shell.execute_reply": "2022-06-05T04:13:48.289832Z"
    },
    "papermill": {
     "duration": 0.048543,
     "end_time": "2022-06-05T04:13:48.292075",
     "exception": false,
     "start_time": "2022-06-05T04:13:48.243532",
     "status": "completed"
    },
    "tags": []
   },
   "outputs": [],
   "source": [
    "multiplier_z = pd.read_pickle(conf.MULTIPLIER[\"MODEL_Z_MATRIX_FILE\"])"
   ]
  },
  {
   "cell_type": "code",
   "execution_count": 21,
   "id": "55da6f21",
   "metadata": {
    "execution": {
     "iopub.execute_input": "2022-06-05T04:13:48.318092Z",
     "iopub.status.busy": "2022-06-05T04:13:48.317913Z",
     "iopub.status.idle": "2022-06-05T04:13:48.330879Z",
     "shell.execute_reply": "2022-06-05T04:13:48.330374Z"
    },
    "papermill": {
     "duration": 0.027388,
     "end_time": "2022-06-05T04:13:48.332292",
     "exception": false,
     "start_time": "2022-06-05T04:13:48.304904",
     "status": "completed"
    },
    "tags": []
   },
   "outputs": [
    {
     "data": {
      "text/plain": [
       "(6750, 987)"
      ]
     },
     "execution_count": 21,
     "metadata": {},
     "output_type": "execute_result"
    }
   ],
   "source": [
    "multiplier_z.shape"
   ]
  },
  {
   "cell_type": "code",
   "execution_count": 22,
   "id": "5efd6fc7",
   "metadata": {
    "execution": {
     "iopub.execute_input": "2022-06-05T04:13:48.356247Z",
     "iopub.status.busy": "2022-06-05T04:13:48.356054Z",
     "iopub.status.idle": "2022-06-05T04:13:48.394974Z",
     "shell.execute_reply": "2022-06-05T04:13:48.394318Z"
    },
    "papermill": {
     "duration": 0.052471,
     "end_time": "2022-06-05T04:13:48.396554",
     "exception": false,
     "start_time": "2022-06-05T04:13:48.344083",
     "status": "completed"
    },
    "tags": []
   },
   "outputs": [
    {
     "data": {
      "text/html": [
       "<div>\n",
       "<style scoped>\n",
       "    .dataframe tbody tr th:only-of-type {\n",
       "        vertical-align: middle;\n",
       "    }\n",
       "\n",
       "    .dataframe tbody tr th {\n",
       "        vertical-align: top;\n",
       "    }\n",
       "\n",
       "    .dataframe thead th {\n",
       "        text-align: right;\n",
       "    }\n",
       "</style>\n",
       "<table border=\"1\" class=\"dataframe\">\n",
       "  <thead>\n",
       "    <tr style=\"text-align: right;\">\n",
       "      <th></th>\n",
       "      <th>LV1</th>\n",
       "      <th>LV2</th>\n",
       "      <th>LV3</th>\n",
       "      <th>LV4</th>\n",
       "      <th>LV5</th>\n",
       "      <th>LV6</th>\n",
       "      <th>LV7</th>\n",
       "      <th>LV8</th>\n",
       "      <th>LV9</th>\n",
       "      <th>LV10</th>\n",
       "      <th>...</th>\n",
       "      <th>LV978</th>\n",
       "      <th>LV979</th>\n",
       "      <th>LV980</th>\n",
       "      <th>LV981</th>\n",
       "      <th>LV982</th>\n",
       "      <th>LV983</th>\n",
       "      <th>LV984</th>\n",
       "      <th>LV985</th>\n",
       "      <th>LV986</th>\n",
       "      <th>LV987</th>\n",
       "    </tr>\n",
       "  </thead>\n",
       "  <tbody>\n",
       "    <tr>\n",
       "      <th>GAS6</th>\n",
       "      <td>0.000000</td>\n",
       "      <td>0.0</td>\n",
       "      <td>0.039438</td>\n",
       "      <td>0.0</td>\n",
       "      <td>0.050476</td>\n",
       "      <td>0.000000</td>\n",
       "      <td>0.0</td>\n",
       "      <td>0.000000</td>\n",
       "      <td>0.590949</td>\n",
       "      <td>0.000000</td>\n",
       "      <td>...</td>\n",
       "      <td>0.050125</td>\n",
       "      <td>0.00000</td>\n",
       "      <td>0.033407</td>\n",
       "      <td>0.000000</td>\n",
       "      <td>0.000000</td>\n",
       "      <td>0.005963</td>\n",
       "      <td>0.347362</td>\n",
       "      <td>0.0</td>\n",
       "      <td>0.000000</td>\n",
       "      <td>0.000000</td>\n",
       "    </tr>\n",
       "    <tr>\n",
       "      <th>MMP14</th>\n",
       "      <td>0.000000</td>\n",
       "      <td>0.0</td>\n",
       "      <td>0.000000</td>\n",
       "      <td>0.0</td>\n",
       "      <td>0.070072</td>\n",
       "      <td>0.000000</td>\n",
       "      <td>0.0</td>\n",
       "      <td>0.004904</td>\n",
       "      <td>1.720179</td>\n",
       "      <td>2.423595</td>\n",
       "      <td>...</td>\n",
       "      <td>0.000000</td>\n",
       "      <td>0.00000</td>\n",
       "      <td>0.001007</td>\n",
       "      <td>0.000000</td>\n",
       "      <td>0.035747</td>\n",
       "      <td>0.000000</td>\n",
       "      <td>0.000000</td>\n",
       "      <td>0.0</td>\n",
       "      <td>0.014978</td>\n",
       "      <td>0.000000</td>\n",
       "    </tr>\n",
       "    <tr>\n",
       "      <th>DSP</th>\n",
       "      <td>0.000000</td>\n",
       "      <td>0.0</td>\n",
       "      <td>0.000000</td>\n",
       "      <td>0.0</td>\n",
       "      <td>0.000000</td>\n",
       "      <td>0.041697</td>\n",
       "      <td>0.0</td>\n",
       "      <td>0.005718</td>\n",
       "      <td>0.000000</td>\n",
       "      <td>0.000000</td>\n",
       "      <td>...</td>\n",
       "      <td>0.020853</td>\n",
       "      <td>0.00000</td>\n",
       "      <td>0.000000</td>\n",
       "      <td>0.000000</td>\n",
       "      <td>0.000000</td>\n",
       "      <td>0.005774</td>\n",
       "      <td>0.000000</td>\n",
       "      <td>0.0</td>\n",
       "      <td>0.000000</td>\n",
       "      <td>0.416405</td>\n",
       "    </tr>\n",
       "    <tr>\n",
       "      <th>MARCKSL1</th>\n",
       "      <td>0.305212</td>\n",
       "      <td>0.0</td>\n",
       "      <td>0.000000</td>\n",
       "      <td>0.0</td>\n",
       "      <td>0.000000</td>\n",
       "      <td>0.000000</td>\n",
       "      <td>0.0</td>\n",
       "      <td>0.000000</td>\n",
       "      <td>0.161843</td>\n",
       "      <td>0.149471</td>\n",
       "      <td>...</td>\n",
       "      <td>0.027134</td>\n",
       "      <td>0.05272</td>\n",
       "      <td>0.000000</td>\n",
       "      <td>0.030189</td>\n",
       "      <td>0.060884</td>\n",
       "      <td>0.000000</td>\n",
       "      <td>0.000000</td>\n",
       "      <td>0.0</td>\n",
       "      <td>0.000000</td>\n",
       "      <td>0.448480</td>\n",
       "    </tr>\n",
       "    <tr>\n",
       "      <th>SPARC</th>\n",
       "      <td>0.000000</td>\n",
       "      <td>0.0</td>\n",
       "      <td>0.000000</td>\n",
       "      <td>0.0</td>\n",
       "      <td>0.000000</td>\n",
       "      <td>0.000000</td>\n",
       "      <td>0.0</td>\n",
       "      <td>0.000000</td>\n",
       "      <td>0.000000</td>\n",
       "      <td>0.014014</td>\n",
       "      <td>...</td>\n",
       "      <td>0.000000</td>\n",
       "      <td>0.00000</td>\n",
       "      <td>0.000000</td>\n",
       "      <td>0.000000</td>\n",
       "      <td>0.000000</td>\n",
       "      <td>0.000000</td>\n",
       "      <td>0.067779</td>\n",
       "      <td>0.0</td>\n",
       "      <td>0.122417</td>\n",
       "      <td>0.062665</td>\n",
       "    </tr>\n",
       "  </tbody>\n",
       "</table>\n",
       "<p>5 rows × 987 columns</p>\n",
       "</div>"
      ],
      "text/plain": [
       "               LV1  LV2       LV3  LV4       LV5       LV6  LV7       LV8  \\\n",
       "GAS6      0.000000  0.0  0.039438  0.0  0.050476  0.000000  0.0  0.000000   \n",
       "MMP14     0.000000  0.0  0.000000  0.0  0.070072  0.000000  0.0  0.004904   \n",
       "DSP       0.000000  0.0  0.000000  0.0  0.000000  0.041697  0.0  0.005718   \n",
       "MARCKSL1  0.305212  0.0  0.000000  0.0  0.000000  0.000000  0.0  0.000000   \n",
       "SPARC     0.000000  0.0  0.000000  0.0  0.000000  0.000000  0.0  0.000000   \n",
       "\n",
       "               LV9      LV10  ...     LV978    LV979     LV980     LV981  \\\n",
       "GAS6      0.590949  0.000000  ...  0.050125  0.00000  0.033407  0.000000   \n",
       "MMP14     1.720179  2.423595  ...  0.000000  0.00000  0.001007  0.000000   \n",
       "DSP       0.000000  0.000000  ...  0.020853  0.00000  0.000000  0.000000   \n",
       "MARCKSL1  0.161843  0.149471  ...  0.027134  0.05272  0.000000  0.030189   \n",
       "SPARC     0.000000  0.014014  ...  0.000000  0.00000  0.000000  0.000000   \n",
       "\n",
       "             LV982     LV983     LV984  LV985     LV986     LV987  \n",
       "GAS6      0.000000  0.005963  0.347362    0.0  0.000000  0.000000  \n",
       "MMP14     0.035747  0.000000  0.000000    0.0  0.014978  0.000000  \n",
       "DSP       0.000000  0.005774  0.000000    0.0  0.000000  0.416405  \n",
       "MARCKSL1  0.060884  0.000000  0.000000    0.0  0.000000  0.448480  \n",
       "SPARC     0.000000  0.000000  0.067779    0.0  0.122417  0.062665  \n",
       "\n",
       "[5 rows x 987 columns]"
      ]
     },
     "execution_count": 22,
     "metadata": {},
     "output_type": "execute_result"
    }
   ],
   "source": [
    "multiplier_z.head()"
   ]
  },
  {
   "cell_type": "markdown",
   "id": "c2109617",
   "metadata": {
    "papermill": {
     "duration": 0.012426,
     "end_time": "2022-06-05T04:13:48.423079",
     "exception": false,
     "start_time": "2022-06-05T04:13:48.410653",
     "status": "completed"
    },
    "tags": []
   },
   "source": [
    "## Reference panel variants metadata"
   ]
  },
  {
   "cell_type": "code",
   "execution_count": 23,
   "id": "f69e80b2",
   "metadata": {
    "execution": {
     "iopub.execute_input": "2022-06-05T04:13:48.447055Z",
     "iopub.status.busy": "2022-06-05T04:13:48.446820Z",
     "iopub.status.idle": "2022-06-05T04:13:48.460324Z",
     "shell.execute_reply": "2022-06-05T04:13:48.459741Z"
    },
    "papermill": {
     "duration": 0.027054,
     "end_time": "2022-06-05T04:13:48.461684",
     "exception": false,
     "start_time": "2022-06-05T04:13:48.434630",
     "status": "completed"
    },
    "tags": []
   },
   "outputs": [
    {
     "data": {
      "text/plain": [
       "PosixPath('/opt/data/data/phenomexcan/ld_blocks/reference_panel_gtex_v8/gtex_v8_eur_filtered_maf0.01_monoallelic_variants.variants_metadata.parquet')"
      ]
     },
     "metadata": {},
     "output_type": "display_data"
    }
   ],
   "source": [
    "input_file = (\n",
    "    get_reference_panel_file(REFERENCE_PANEL_DIR, \"_metadata\")\n",
    ")\n",
    "display(input_file)"
   ]
  },
  {
   "cell_type": "code",
   "execution_count": 24,
   "id": "41e34ee0",
   "metadata": {
    "execution": {
     "iopub.execute_input": "2022-06-05T04:13:48.486914Z",
     "iopub.status.busy": "2022-06-05T04:13:48.486461Z",
     "iopub.status.idle": "2022-06-05T04:13:52.301179Z",
     "shell.execute_reply": "2022-06-05T04:13:52.300612Z"
    },
    "papermill": {
     "duration": 3.828894,
     "end_time": "2022-06-05T04:13:52.302716",
     "exception": false,
     "start_time": "2022-06-05T04:13:48.473822",
     "status": "completed"
    },
    "tags": []
   },
   "outputs": [],
   "source": [
    "variants_metadata = pd.read_parquet(input_file, columns=[\"id\"])"
   ]
  },
  {
   "cell_type": "code",
   "execution_count": 25,
   "id": "81410760",
   "metadata": {
    "execution": {
     "iopub.execute_input": "2022-06-05T04:13:52.327244Z",
     "iopub.status.busy": "2022-06-05T04:13:52.327012Z",
     "iopub.status.idle": "2022-06-05T04:13:52.343179Z",
     "shell.execute_reply": "2022-06-05T04:13:52.342456Z"
    },
    "papermill": {
     "duration": 0.029758,
     "end_time": "2022-06-05T04:13:52.344560",
     "exception": false,
     "start_time": "2022-06-05T04:13:52.314802",
     "status": "completed"
    },
    "tags": []
   },
   "outputs": [
    {
     "data": {
      "text/plain": [
       "(8880842, 1)"
      ]
     },
     "execution_count": 25,
     "metadata": {},
     "output_type": "execute_result"
    }
   ],
   "source": [
    "variants_metadata.shape"
   ]
  },
  {
   "cell_type": "code",
   "execution_count": 26,
   "id": "1d008de7",
   "metadata": {
    "execution": {
     "iopub.execute_input": "2022-06-05T04:13:52.370144Z",
     "iopub.status.busy": "2022-06-05T04:13:52.369900Z",
     "iopub.status.idle": "2022-06-05T04:13:52.388191Z",
     "shell.execute_reply": "2022-06-05T04:13:52.387533Z"
    },
    "papermill": {
     "duration": 0.032665,
     "end_time": "2022-06-05T04:13:52.389634",
     "exception": false,
     "start_time": "2022-06-05T04:13:52.356969",
     "status": "completed"
    },
    "tags": []
   },
   "outputs": [
    {
     "data": {
      "text/html": [
       "<div>\n",
       "<style scoped>\n",
       "    .dataframe tbody tr th:only-of-type {\n",
       "        vertical-align: middle;\n",
       "    }\n",
       "\n",
       "    .dataframe tbody tr th {\n",
       "        vertical-align: top;\n",
       "    }\n",
       "\n",
       "    .dataframe thead th {\n",
       "        text-align: right;\n",
       "    }\n",
       "</style>\n",
       "<table border=\"1\" class=\"dataframe\">\n",
       "  <thead>\n",
       "    <tr style=\"text-align: right;\">\n",
       "      <th></th>\n",
       "      <th>id</th>\n",
       "    </tr>\n",
       "  </thead>\n",
       "  <tbody>\n",
       "    <tr>\n",
       "      <th>0</th>\n",
       "      <td>chr1_13550_G_A_b38</td>\n",
       "    </tr>\n",
       "    <tr>\n",
       "      <th>1</th>\n",
       "      <td>chr1_14671_G_C_b38</td>\n",
       "    </tr>\n",
       "    <tr>\n",
       "      <th>2</th>\n",
       "      <td>chr1_14677_G_A_b38</td>\n",
       "    </tr>\n",
       "    <tr>\n",
       "      <th>3</th>\n",
       "      <td>chr1_14933_G_A_b38</td>\n",
       "    </tr>\n",
       "    <tr>\n",
       "      <th>4</th>\n",
       "      <td>chr1_16841_G_T_b38</td>\n",
       "    </tr>\n",
       "  </tbody>\n",
       "</table>\n",
       "</div>"
      ],
      "text/plain": [
       "                   id\n",
       "0  chr1_13550_G_A_b38\n",
       "1  chr1_14671_G_C_b38\n",
       "2  chr1_14677_G_A_b38\n",
       "3  chr1_14933_G_A_b38\n",
       "4  chr1_16841_G_T_b38"
      ]
     },
     "execution_count": 26,
     "metadata": {},
     "output_type": "execute_result"
    }
   ],
   "source": [
    "variants_metadata.head()"
   ]
  },
  {
   "cell_type": "code",
   "execution_count": 27,
   "id": "45bd2164",
   "metadata": {
    "execution": {
     "iopub.execute_input": "2022-06-05T04:13:52.415366Z",
     "iopub.status.busy": "2022-06-05T04:13:52.415194Z",
     "iopub.status.idle": "2022-06-05T04:13:54.913921Z",
     "shell.execute_reply": "2022-06-05T04:13:54.913206Z"
    },
    "papermill": {
     "duration": 2.513476,
     "end_time": "2022-06-05T04:13:54.915694",
     "exception": false,
     "start_time": "2022-06-05T04:13:52.402218",
     "status": "completed"
    },
    "tags": []
   },
   "outputs": [],
   "source": [
    "variants_ids_with_genotype = set(variants_metadata[\"id\"])"
   ]
  },
  {
   "cell_type": "code",
   "execution_count": 28,
   "id": "8f2937d7",
   "metadata": {
    "execution": {
     "iopub.execute_input": "2022-06-05T04:13:54.946933Z",
     "iopub.status.busy": "2022-06-05T04:13:54.946728Z",
     "iopub.status.idle": "2022-06-05T04:13:54.963886Z",
     "shell.execute_reply": "2022-06-05T04:13:54.963406Z"
    },
    "papermill": {
     "duration": 0.034412,
     "end_time": "2022-06-05T04:13:54.965305",
     "exception": false,
     "start_time": "2022-06-05T04:13:54.930893",
     "status": "completed"
    },
    "tags": []
   },
   "outputs": [
    {
     "data": {
      "text/plain": [
       "8880842"
      ]
     },
     "execution_count": 28,
     "metadata": {},
     "output_type": "execute_result"
    }
   ],
   "source": [
    "len(variants_ids_with_genotype)"
   ]
  },
  {
   "cell_type": "code",
   "execution_count": 29,
   "id": "6b160cc3",
   "metadata": {
    "execution": {
     "iopub.execute_input": "2022-06-05T04:13:54.992516Z",
     "iopub.status.busy": "2022-06-05T04:13:54.992316Z",
     "iopub.status.idle": "2022-06-05T04:13:55.688716Z",
     "shell.execute_reply": "2022-06-05T04:13:55.687706Z"
    },
    "papermill": {
     "duration": 0.712601,
     "end_time": "2022-06-05T04:13:55.691252",
     "exception": false,
     "start_time": "2022-06-05T04:13:54.978651",
     "status": "completed"
    },
    "tags": []
   },
   "outputs": [
    {
     "data": {
      "text/plain": [
       "['chr22_19567649_G_A_b38',\n",
       " 'chr2_66922615_T_C_b38',\n",
       " 'chr4_108784944_T_C_b38',\n",
       " 'chr1_222850409_T_TC_b38',\n",
       " 'chr13_93386475_A_AC_b38',\n",
       " 'chr1_11014363_G_A_b38',\n",
       " 'chr2_65614672_G_A_b38',\n",
       " 'chr8_77739523_C_T_b38',\n",
       " 'chr13_45857493_AG_A_b38',\n",
       " 'chr14_36536510_C_A_b38']"
      ]
     },
     "execution_count": 29,
     "metadata": {},
     "output_type": "execute_result"
    }
   ],
   "source": [
    "list(variants_ids_with_genotype)[:10]"
   ]
  },
  {
   "cell_type": "code",
   "execution_count": 30,
   "id": "0a38a43c",
   "metadata": {
    "execution": {
     "iopub.execute_input": "2022-06-05T04:13:55.727377Z",
     "iopub.status.busy": "2022-06-05T04:13:55.727167Z",
     "iopub.status.idle": "2022-06-05T04:13:55.744613Z",
     "shell.execute_reply": "2022-06-05T04:13:55.743958Z"
    },
    "papermill": {
     "duration": 0.035695,
     "end_time": "2022-06-05T04:13:55.746253",
     "exception": false,
     "start_time": "2022-06-05T04:13:55.710558",
     "status": "completed"
    },
    "tags": []
   },
   "outputs": [],
   "source": [
    "del variants_metadata"
   ]
  },
  {
   "cell_type": "markdown",
   "id": "4b7ca4c8",
   "metadata": {
    "papermill": {
     "duration": 0.014897,
     "end_time": "2022-06-05T04:13:55.776661",
     "exception": false,
     "start_time": "2022-06-05T04:13:55.761764",
     "status": "completed"
    },
    "tags": []
   },
   "source": [
    "# How many variants in predictions models are present in the reference panel?"
   ]
  },
  {
   "cell_type": "code",
   "execution_count": 31,
   "id": "4e323c11",
   "metadata": {
    "execution": {
     "iopub.execute_input": "2022-06-05T04:13:55.801865Z",
     "iopub.status.busy": "2022-06-05T04:13:55.801648Z",
     "iopub.status.idle": "2022-06-05T04:13:55.818076Z",
     "shell.execute_reply": "2022-06-05T04:13:55.817255Z"
    },
    "papermill": {
     "duration": 0.030569,
     "end_time": "2022-06-05T04:13:55.819460",
     "exception": false,
     "start_time": "2022-06-05T04:13:55.788891",
     "status": "completed"
    },
    "tags": []
   },
   "outputs": [
    {
     "data": {
      "text/plain": [
       "237405"
      ]
     },
     "metadata": {},
     "output_type": "display_data"
    }
   ],
   "source": [
    "n_snps_in_models = len(all_snps_in_models)\n",
    "display(n_snps_in_models)"
   ]
  },
  {
   "cell_type": "code",
   "execution_count": 32,
   "id": "a9ecb68e",
   "metadata": {
    "execution": {
     "iopub.execute_input": "2022-06-05T04:13:55.845502Z",
     "iopub.status.busy": "2022-06-05T04:13:55.845243Z",
     "iopub.status.idle": "2022-06-05T04:13:55.910241Z",
     "shell.execute_reply": "2022-06-05T04:13:55.909575Z"
    },
    "papermill": {
     "duration": 0.080013,
     "end_time": "2022-06-05T04:13:55.912123",
     "exception": false,
     "start_time": "2022-06-05T04:13:55.832110",
     "status": "completed"
    },
    "tags": []
   },
   "outputs": [
    {
     "data": {
      "text/plain": [
       "237405"
      ]
     },
     "metadata": {},
     "output_type": "display_data"
    }
   ],
   "source": [
    "n_snps_in_ref_panel = len(all_snps_in_models.intersection(variants_ids_with_genotype))\n",
    "display(n_snps_in_ref_panel)"
   ]
  },
  {
   "cell_type": "code",
   "execution_count": 33,
   "id": "5f2f5991",
   "metadata": {
    "execution": {
     "iopub.execute_input": "2022-06-05T04:13:55.945532Z",
     "iopub.status.busy": "2022-06-05T04:13:55.945326Z",
     "iopub.status.idle": "2022-06-05T04:13:55.963335Z",
     "shell.execute_reply": "2022-06-05T04:13:55.962748Z"
    },
    "papermill": {
     "duration": 0.036334,
     "end_time": "2022-06-05T04:13:55.964871",
     "exception": false,
     "start_time": "2022-06-05T04:13:55.928537",
     "status": "completed"
    },
    "tags": []
   },
   "outputs": [
    {
     "data": {
      "text/plain": [
       "1.0"
      ]
     },
     "execution_count": 33,
     "metadata": {},
     "output_type": "execute_result"
    }
   ],
   "source": [
    "n_snps_in_ref_panel / n_snps_in_models"
   ]
  },
  {
   "cell_type": "markdown",
   "id": "a9a0d07c",
   "metadata": {
    "papermill": {
     "duration": 0.012424,
     "end_time": "2022-06-05T04:13:55.991962",
     "exception": false,
     "start_time": "2022-06-05T04:13:55.979538",
     "status": "completed"
    },
    "tags": []
   },
   "source": [
    "# Get final list of genes in MultiPLIER"
   ]
  },
  {
   "cell_type": "code",
   "execution_count": 34,
   "id": "e9801fec",
   "metadata": {
    "execution": {
     "iopub.execute_input": "2022-06-05T04:13:56.017553Z",
     "iopub.status.busy": "2022-06-05T04:13:56.017333Z",
     "iopub.status.idle": "2022-06-05T04:13:56.038623Z",
     "shell.execute_reply": "2022-06-05T04:13:56.038093Z"
    },
    "papermill": {
     "duration": 0.035839,
     "end_time": "2022-06-05T04:13:56.040125",
     "exception": false,
     "start_time": "2022-06-05T04:13:56.004286",
     "status": "completed"
    },
    "tags": []
   },
   "outputs": [],
   "source": [
    "genes_in_z = [\n",
    "    Gene(name=gene_name).ensembl_id\n",
    "    for gene_name in multiplier_z.index\n",
    "    if gene_name in Gene.GENE_NAME_TO_ID_MAP\n",
    "]"
   ]
  },
  {
   "cell_type": "code",
   "execution_count": 35,
   "id": "4cde8776",
   "metadata": {
    "execution": {
     "iopub.execute_input": "2022-06-05T04:13:56.066622Z",
     "iopub.status.busy": "2022-06-05T04:13:56.066451Z",
     "iopub.status.idle": "2022-06-05T04:13:56.081981Z",
     "shell.execute_reply": "2022-06-05T04:13:56.081329Z"
    },
    "papermill": {
     "duration": 0.030412,
     "end_time": "2022-06-05T04:13:56.083376",
     "exception": false,
     "start_time": "2022-06-05T04:13:56.052964",
     "status": "completed"
    },
    "tags": []
   },
   "outputs": [
    {
     "data": {
      "text/plain": [
       "6454"
      ]
     },
     "execution_count": 35,
     "metadata": {},
     "output_type": "execute_result"
    }
   ],
   "source": [
    "len(genes_in_z)"
   ]
  },
  {
   "cell_type": "code",
   "execution_count": 36,
   "id": "577cf614",
   "metadata": {
    "execution": {
     "iopub.execute_input": "2022-06-05T04:13:56.109949Z",
     "iopub.status.busy": "2022-06-05T04:13:56.109779Z",
     "iopub.status.idle": "2022-06-05T04:13:56.125750Z",
     "shell.execute_reply": "2022-06-05T04:13:56.125210Z"
    },
    "papermill": {
     "duration": 0.030678,
     "end_time": "2022-06-05T04:13:56.127075",
     "exception": false,
     "start_time": "2022-06-05T04:13:56.096397",
     "status": "completed"
    },
    "tags": []
   },
   "outputs": [
    {
     "data": {
      "text/plain": [
       "['ENSG00000183087',\n",
       " 'ENSG00000157227',\n",
       " 'ENSG00000096696',\n",
       " 'ENSG00000175130',\n",
       " 'ENSG00000113140']"
      ]
     },
     "execution_count": 36,
     "metadata": {},
     "output_type": "execute_result"
    }
   ],
   "source": [
    "genes_in_z[:5]"
   ]
  },
  {
   "cell_type": "code",
   "execution_count": 37,
   "id": "3136fc66",
   "metadata": {
    "execution": {
     "iopub.execute_input": "2022-06-05T04:13:56.154170Z",
     "iopub.status.busy": "2022-06-05T04:13:56.153671Z",
     "iopub.status.idle": "2022-06-05T04:13:56.169351Z",
     "shell.execute_reply": "2022-06-05T04:13:56.168804Z"
    },
    "papermill": {
     "duration": 0.030432,
     "end_time": "2022-06-05T04:13:56.170829",
     "exception": false,
     "start_time": "2022-06-05T04:13:56.140397",
     "status": "completed"
    },
    "tags": []
   },
   "outputs": [],
   "source": [
    "genes_in_z = set(genes_in_z)"
   ]
  },
  {
   "cell_type": "code",
   "execution_count": 38,
   "id": "0f1cace8",
   "metadata": {
    "execution": {
     "iopub.execute_input": "2022-06-05T04:13:56.197636Z",
     "iopub.status.busy": "2022-06-05T04:13:56.197406Z",
     "iopub.status.idle": "2022-06-05T04:13:56.213704Z",
     "shell.execute_reply": "2022-06-05T04:13:56.213245Z"
    },
    "papermill": {
     "duration": 0.031052,
     "end_time": "2022-06-05T04:13:56.215028",
     "exception": false,
     "start_time": "2022-06-05T04:13:56.183976",
     "status": "completed"
    },
    "tags": []
   },
   "outputs": [
    {
     "data": {
      "text/plain": [
       "6454"
      ]
     },
     "execution_count": 38,
     "metadata": {},
     "output_type": "execute_result"
    }
   ],
   "source": [
    "len(genes_in_z)"
   ]
  },
  {
   "cell_type": "code",
   "execution_count": 39,
   "id": "b9dc4d3e",
   "metadata": {
    "execution": {
     "iopub.execute_input": "2022-06-05T04:13:56.242344Z",
     "iopub.status.busy": "2022-06-05T04:13:56.241829Z",
     "iopub.status.idle": "2022-06-05T04:13:56.353312Z",
     "shell.execute_reply": "2022-06-05T04:13:56.352680Z"
    },
    "papermill": {
     "duration": 0.126345,
     "end_time": "2022-06-05T04:13:56.354909",
     "exception": false,
     "start_time": "2022-06-05T04:13:56.228564",
     "status": "completed"
    },
    "tags": []
   },
   "outputs": [
    {
     "data": {
      "text/plain": [
       "(1132714, 3)"
      ]
     },
     "metadata": {},
     "output_type": "display_data"
    },
    {
     "data": {
      "text/plain": [
       "(396890, 3)"
      ]
     },
     "metadata": {},
     "output_type": "display_data"
    }
   ],
   "source": [
    "# keep genes in MultiPLIER only\n",
    "display(all_gene_snps.shape)\n",
    "\n",
    "all_gene_snps = all_gene_snps[all_gene_snps[\"gene\"].isin(genes_in_z)]\n",
    "\n",
    "display(all_gene_snps.shape)"
   ]
  },
  {
   "cell_type": "markdown",
   "id": "69e77b6e",
   "metadata": {
    "papermill": {
     "duration": 0.015533,
     "end_time": "2022-06-05T04:13:56.386911",
     "exception": false,
     "start_time": "2022-06-05T04:13:56.371378",
     "status": "completed"
    },
    "tags": []
   },
   "source": [
    "# (For MultiPLIER genes): How many variants in predictions models are present in the reference panel?"
   ]
  },
  {
   "cell_type": "code",
   "execution_count": 40,
   "id": "c8a3405c",
   "metadata": {
    "execution": {
     "iopub.execute_input": "2022-06-05T04:13:56.413725Z",
     "iopub.status.busy": "2022-06-05T04:13:56.413492Z",
     "iopub.status.idle": "2022-06-05T04:13:56.527895Z",
     "shell.execute_reply": "2022-06-05T04:13:56.527178Z"
    },
    "papermill": {
     "duration": 0.129567,
     "end_time": "2022-06-05T04:13:56.529538",
     "exception": false,
     "start_time": "2022-06-05T04:13:56.399971",
     "status": "completed"
    },
    "tags": []
   },
   "outputs": [
    {
     "data": {
      "text/plain": [
       "84708"
      ]
     },
     "metadata": {},
     "output_type": "display_data"
    }
   ],
   "source": [
    "all_snps_in_models_multiplier = set(all_gene_snps[\"varID\"])\n",
    "\n",
    "n_snps_in_models = len(all_snps_in_models_multiplier)\n",
    "display(n_snps_in_models)"
   ]
  },
  {
   "cell_type": "code",
   "execution_count": 41,
   "id": "a118deab",
   "metadata": {
    "execution": {
     "iopub.execute_input": "2022-06-05T04:13:56.562219Z",
     "iopub.status.busy": "2022-06-05T04:13:56.562040Z",
     "iopub.status.idle": "2022-06-05T04:13:56.596486Z",
     "shell.execute_reply": "2022-06-05T04:13:56.595871Z"
    },
    "papermill": {
     "duration": 0.051851,
     "end_time": "2022-06-05T04:13:56.598100",
     "exception": false,
     "start_time": "2022-06-05T04:13:56.546249",
     "status": "completed"
    },
    "tags": []
   },
   "outputs": [
    {
     "data": {
      "text/plain": [
       "84708"
      ]
     },
     "metadata": {},
     "output_type": "display_data"
    }
   ],
   "source": [
    "n_snps_in_ref_panel = len(\n",
    "    all_snps_in_models_multiplier.intersection(variants_ids_with_genotype)\n",
    ")\n",
    "display(n_snps_in_ref_panel)"
   ]
  },
  {
   "cell_type": "code",
   "execution_count": 42,
   "id": "cb5b96f3",
   "metadata": {
    "execution": {
     "iopub.execute_input": "2022-06-05T04:13:56.631707Z",
     "iopub.status.busy": "2022-06-05T04:13:56.631524Z",
     "iopub.status.idle": "2022-06-05T04:13:56.648208Z",
     "shell.execute_reply": "2022-06-05T04:13:56.647705Z"
    },
    "papermill": {
     "duration": 0.034647,
     "end_time": "2022-06-05T04:13:56.649596",
     "exception": false,
     "start_time": "2022-06-05T04:13:56.614949",
     "status": "completed"
    },
    "tags": []
   },
   "outputs": [
    {
     "data": {
      "text/plain": [
       "1.0"
      ]
     },
     "execution_count": 42,
     "metadata": {},
     "output_type": "execute_result"
    }
   ],
   "source": [
    "n_snps_in_ref_panel / n_snps_in_models"
   ]
  },
  {
   "cell_type": "markdown",
   "id": "dbabf1c1",
   "metadata": {
    "papermill": {
     "duration": 0.014268,
     "end_time": "2022-06-05T04:13:56.678900",
     "exception": false,
     "start_time": "2022-06-05T04:13:56.664632",
     "status": "completed"
    },
    "tags": []
   },
   "source": [
    "## Preprocess SNPs data"
   ]
  },
  {
   "cell_type": "code",
   "execution_count": 43,
   "id": "19838f0a",
   "metadata": {
    "execution": {
     "iopub.execute_input": "2022-06-05T04:13:56.706833Z",
     "iopub.status.busy": "2022-06-05T04:13:56.706613Z",
     "iopub.status.idle": "2022-06-05T04:13:56.837944Z",
     "shell.execute_reply": "2022-06-05T04:13:56.837245Z"
    },
    "papermill": {
     "duration": 0.147304,
     "end_time": "2022-06-05T04:13:56.839738",
     "exception": false,
     "start_time": "2022-06-05T04:13:56.692434",
     "status": "completed"
    },
    "tags": []
   },
   "outputs": [],
   "source": [
    "variants_ld_block_df = all_gene_snps[[\"varID\"]].drop_duplicates()"
   ]
  },
  {
   "cell_type": "code",
   "execution_count": 44,
   "id": "d015b20d",
   "metadata": {
    "execution": {
     "iopub.execute_input": "2022-06-05T04:13:56.874985Z",
     "iopub.status.busy": "2022-06-05T04:13:56.874786Z",
     "iopub.status.idle": "2022-06-05T04:13:56.892434Z",
     "shell.execute_reply": "2022-06-05T04:13:56.891858Z"
    },
    "papermill": {
     "duration": 0.036708,
     "end_time": "2022-06-05T04:13:56.893879",
     "exception": false,
     "start_time": "2022-06-05T04:13:56.857171",
     "status": "completed"
    },
    "tags": []
   },
   "outputs": [
    {
     "data": {
      "text/plain": [
       "(84708, 1)"
      ]
     },
     "execution_count": 44,
     "metadata": {},
     "output_type": "execute_result"
    }
   ],
   "source": [
    "variants_ld_block_df.shape"
   ]
  },
  {
   "cell_type": "code",
   "execution_count": 45,
   "id": "ed4a5faa",
   "metadata": {
    "execution": {
     "iopub.execute_input": "2022-06-05T04:13:56.924323Z",
     "iopub.status.busy": "2022-06-05T04:13:56.924107Z",
     "iopub.status.idle": "2022-06-05T04:13:56.942140Z",
     "shell.execute_reply": "2022-06-05T04:13:56.941463Z"
    },
    "papermill": {
     "duration": 0.033739,
     "end_time": "2022-06-05T04:13:56.943555",
     "exception": false,
     "start_time": "2022-06-05T04:13:56.909816",
     "status": "completed"
    },
    "tags": []
   },
   "outputs": [
    {
     "data": {
      "text/html": [
       "<div>\n",
       "<style scoped>\n",
       "    .dataframe tbody tr th:only-of-type {\n",
       "        vertical-align: middle;\n",
       "    }\n",
       "\n",
       "    .dataframe tbody tr th {\n",
       "        vertical-align: top;\n",
       "    }\n",
       "\n",
       "    .dataframe thead th {\n",
       "        text-align: right;\n",
       "    }\n",
       "</style>\n",
       "<table border=\"1\" class=\"dataframe\">\n",
       "  <thead>\n",
       "    <tr style=\"text-align: right;\">\n",
       "      <th></th>\n",
       "      <th>varID</th>\n",
       "    </tr>\n",
       "  </thead>\n",
       "  <tbody>\n",
       "    <tr>\n",
       "      <th>0</th>\n",
       "      <td>chr9_136996001_G_A_b38</td>\n",
       "    </tr>\n",
       "    <tr>\n",
       "      <th>1</th>\n",
       "      <td>chr9_137029055_C_CA_b38</td>\n",
       "    </tr>\n",
       "    <tr>\n",
       "      <th>2</th>\n",
       "      <td>chr9_137029407_T_G_b38</td>\n",
       "    </tr>\n",
       "    <tr>\n",
       "      <th>10</th>\n",
       "      <td>chr9_137084985_C_T_b38</td>\n",
       "    </tr>\n",
       "    <tr>\n",
       "      <th>11</th>\n",
       "      <td>chr9_137102549_TACAC_T_b38</td>\n",
       "    </tr>\n",
       "  </tbody>\n",
       "</table>\n",
       "</div>"
      ],
      "text/plain": [
       "                         varID\n",
       "0       chr9_136996001_G_A_b38\n",
       "1      chr9_137029055_C_CA_b38\n",
       "2       chr9_137029407_T_G_b38\n",
       "10      chr9_137084985_C_T_b38\n",
       "11  chr9_137102549_TACAC_T_b38"
      ]
     },
     "execution_count": 45,
     "metadata": {},
     "output_type": "execute_result"
    }
   ],
   "source": [
    "variants_ld_block_df.head()"
   ]
  },
  {
   "cell_type": "code",
   "execution_count": 46,
   "id": "3557d870",
   "metadata": {
    "execution": {
     "iopub.execute_input": "2022-06-05T04:13:56.971818Z",
     "iopub.status.busy": "2022-06-05T04:13:56.971587Z",
     "iopub.status.idle": "2022-06-05T04:13:58.657960Z",
     "shell.execute_reply": "2022-06-05T04:13:58.657309Z"
    },
    "papermill": {
     "duration": 1.702309,
     "end_time": "2022-06-05T04:13:58.659692",
     "exception": false,
     "start_time": "2022-06-05T04:13:56.957383",
     "status": "completed"
    },
    "tags": []
   },
   "outputs": [],
   "source": [
    "variants_info = variants_ld_block_df[\"varID\"].str.split(\"_\", expand=True)"
   ]
  },
  {
   "cell_type": "code",
   "execution_count": 47,
   "id": "bd49aa4c",
   "metadata": {
    "execution": {
     "iopub.execute_input": "2022-06-05T04:13:58.695254Z",
     "iopub.status.busy": "2022-06-05T04:13:58.695062Z",
     "iopub.status.idle": "2022-06-05T04:13:58.712137Z",
     "shell.execute_reply": "2022-06-05T04:13:58.711569Z"
    },
    "papermill": {
     "duration": 0.036109,
     "end_time": "2022-06-05T04:13:58.713584",
     "exception": false,
     "start_time": "2022-06-05T04:13:58.677475",
     "status": "completed"
    },
    "tags": []
   },
   "outputs": [
    {
     "data": {
      "text/plain": [
       "(84708, 5)"
      ]
     },
     "execution_count": 47,
     "metadata": {},
     "output_type": "execute_result"
    }
   ],
   "source": [
    "variants_info.shape"
   ]
  },
  {
   "cell_type": "code",
   "execution_count": 48,
   "id": "7e2b7606",
   "metadata": {
    "execution": {
     "iopub.execute_input": "2022-06-05T04:13:58.745335Z",
     "iopub.status.busy": "2022-06-05T04:13:58.745116Z",
     "iopub.status.idle": "2022-06-05T04:13:58.761780Z",
     "shell.execute_reply": "2022-06-05T04:13:58.759898Z"
    },
    "papermill": {
     "duration": 0.037685,
     "end_time": "2022-06-05T04:13:58.767061",
     "exception": false,
     "start_time": "2022-06-05T04:13:58.729376",
     "status": "completed"
    },
    "tags": []
   },
   "outputs": [],
   "source": [
    "assert variants_ld_block_df.shape[0] == variants_info.shape[0]"
   ]
  },
  {
   "cell_type": "code",
   "execution_count": 49,
   "id": "048abd7f",
   "metadata": {
    "execution": {
     "iopub.execute_input": "2022-06-05T04:13:58.815966Z",
     "iopub.status.busy": "2022-06-05T04:13:58.815729Z",
     "iopub.status.idle": "2022-06-05T04:13:58.865887Z",
     "shell.execute_reply": "2022-06-05T04:13:58.865177Z"
    },
    "papermill": {
     "duration": 0.0675,
     "end_time": "2022-06-05T04:13:58.867756",
     "exception": false,
     "start_time": "2022-06-05T04:13:58.800256",
     "status": "completed"
    },
    "tags": []
   },
   "outputs": [],
   "source": [
    "variants_ld_block_df = variants_ld_block_df.join(variants_info)[[\"varID\", 0, 1, 2, 3]]"
   ]
  },
  {
   "cell_type": "code",
   "execution_count": 50,
   "id": "5bfb6a7a",
   "metadata": {
    "execution": {
     "iopub.execute_input": "2022-06-05T04:13:58.904679Z",
     "iopub.status.busy": "2022-06-05T04:13:58.904485Z",
     "iopub.status.idle": "2022-06-05T04:13:58.921352Z",
     "shell.execute_reply": "2022-06-05T04:13:58.920778Z"
    },
    "papermill": {
     "duration": 0.036726,
     "end_time": "2022-06-05T04:13:58.922848",
     "exception": false,
     "start_time": "2022-06-05T04:13:58.886122",
     "status": "completed"
    },
    "tags": []
   },
   "outputs": [],
   "source": [
    "assert variants_ld_block_df.shape[0] == variants_info.shape[0]"
   ]
  },
  {
   "cell_type": "code",
   "execution_count": 51,
   "id": "4d8cf1da",
   "metadata": {
    "execution": {
     "iopub.execute_input": "2022-06-05T04:13:58.954049Z",
     "iopub.status.busy": "2022-06-05T04:13:58.953835Z",
     "iopub.status.idle": "2022-06-05T04:13:58.974171Z",
     "shell.execute_reply": "2022-06-05T04:13:58.973571Z"
    },
    "papermill": {
     "duration": 0.036295,
     "end_time": "2022-06-05T04:13:58.975604",
     "exception": false,
     "start_time": "2022-06-05T04:13:58.939309",
     "status": "completed"
    },
    "tags": []
   },
   "outputs": [
    {
     "data": {
      "text/html": [
       "<div>\n",
       "<style scoped>\n",
       "    .dataframe tbody tr th:only-of-type {\n",
       "        vertical-align: middle;\n",
       "    }\n",
       "\n",
       "    .dataframe tbody tr th {\n",
       "        vertical-align: top;\n",
       "    }\n",
       "\n",
       "    .dataframe thead th {\n",
       "        text-align: right;\n",
       "    }\n",
       "</style>\n",
       "<table border=\"1\" class=\"dataframe\">\n",
       "  <thead>\n",
       "    <tr style=\"text-align: right;\">\n",
       "      <th></th>\n",
       "      <th>varID</th>\n",
       "      <th>0</th>\n",
       "      <th>1</th>\n",
       "      <th>2</th>\n",
       "      <th>3</th>\n",
       "    </tr>\n",
       "  </thead>\n",
       "  <tbody>\n",
       "    <tr>\n",
       "      <th>0</th>\n",
       "      <td>chr9_136996001_G_A_b38</td>\n",
       "      <td>chr9</td>\n",
       "      <td>136996001</td>\n",
       "      <td>G</td>\n",
       "      <td>A</td>\n",
       "    </tr>\n",
       "    <tr>\n",
       "      <th>1</th>\n",
       "      <td>chr9_137029055_C_CA_b38</td>\n",
       "      <td>chr9</td>\n",
       "      <td>137029055</td>\n",
       "      <td>C</td>\n",
       "      <td>CA</td>\n",
       "    </tr>\n",
       "    <tr>\n",
       "      <th>2</th>\n",
       "      <td>chr9_137029407_T_G_b38</td>\n",
       "      <td>chr9</td>\n",
       "      <td>137029407</td>\n",
       "      <td>T</td>\n",
       "      <td>G</td>\n",
       "    </tr>\n",
       "    <tr>\n",
       "      <th>10</th>\n",
       "      <td>chr9_137084985_C_T_b38</td>\n",
       "      <td>chr9</td>\n",
       "      <td>137084985</td>\n",
       "      <td>C</td>\n",
       "      <td>T</td>\n",
       "    </tr>\n",
       "    <tr>\n",
       "      <th>11</th>\n",
       "      <td>chr9_137102549_TACAC_T_b38</td>\n",
       "      <td>chr9</td>\n",
       "      <td>137102549</td>\n",
       "      <td>TACAC</td>\n",
       "      <td>T</td>\n",
       "    </tr>\n",
       "  </tbody>\n",
       "</table>\n",
       "</div>"
      ],
      "text/plain": [
       "                         varID     0          1      2   3\n",
       "0       chr9_136996001_G_A_b38  chr9  136996001      G   A\n",
       "1      chr9_137029055_C_CA_b38  chr9  137029055      C  CA\n",
       "2       chr9_137029407_T_G_b38  chr9  137029407      T   G\n",
       "10      chr9_137084985_C_T_b38  chr9  137084985      C   T\n",
       "11  chr9_137102549_TACAC_T_b38  chr9  137102549  TACAC   T"
      ]
     },
     "execution_count": 51,
     "metadata": {},
     "output_type": "execute_result"
    }
   ],
   "source": [
    "variants_ld_block_df.head()"
   ]
  },
  {
   "cell_type": "code",
   "execution_count": 52,
   "id": "47448229",
   "metadata": {
    "execution": {
     "iopub.execute_input": "2022-06-05T04:13:59.005081Z",
     "iopub.status.busy": "2022-06-05T04:13:59.004871Z",
     "iopub.status.idle": "2022-06-05T04:13:59.024307Z",
     "shell.execute_reply": "2022-06-05T04:13:59.023642Z"
    },
    "papermill": {
     "duration": 0.036025,
     "end_time": "2022-06-05T04:13:59.026284",
     "exception": false,
     "start_time": "2022-06-05T04:13:58.990259",
     "status": "completed"
    },
    "tags": []
   },
   "outputs": [],
   "source": [
    "variants_ld_block_df = variants_ld_block_df.rename(\n",
    "    columns={\n",
    "        0: \"chr\",\n",
    "        1: \"position\",\n",
    "        2: \"ref_allele\",\n",
    "        3: \"eff_allele\",\n",
    "    }\n",
    ")"
   ]
  },
  {
   "cell_type": "code",
   "execution_count": 53,
   "id": "3beadcf8",
   "metadata": {
    "execution": {
     "iopub.execute_input": "2022-06-05T04:13:59.058101Z",
     "iopub.status.busy": "2022-06-05T04:13:59.057897Z",
     "iopub.status.idle": "2022-06-05T04:13:59.114973Z",
     "shell.execute_reply": "2022-06-05T04:13:59.114205Z"
    },
    "papermill": {
     "duration": 0.07394,
     "end_time": "2022-06-05T04:13:59.116813",
     "exception": false,
     "start_time": "2022-06-05T04:13:59.042873",
     "status": "completed"
    },
    "tags": []
   },
   "outputs": [],
   "source": [
    "variants_ld_block_df[\"chr\"] = variants_ld_block_df[\"chr\"].apply(lambda x: int(x[3:]))"
   ]
  },
  {
   "cell_type": "code",
   "execution_count": 54,
   "id": "b18c25c1",
   "metadata": {
    "execution": {
     "iopub.execute_input": "2022-06-05T04:13:59.151723Z",
     "iopub.status.busy": "2022-06-05T04:13:59.151550Z",
     "iopub.status.idle": "2022-06-05T04:13:59.178082Z",
     "shell.execute_reply": "2022-06-05T04:13:59.177507Z"
    },
    "papermill": {
     "duration": 0.045546,
     "end_time": "2022-06-05T04:13:59.179839",
     "exception": false,
     "start_time": "2022-06-05T04:13:59.134293",
     "status": "completed"
    },
    "tags": []
   },
   "outputs": [],
   "source": [
    "variants_ld_block_df[\"position\"] = variants_ld_block_df[\"position\"].astype(int)"
   ]
  },
  {
   "cell_type": "code",
   "execution_count": 55,
   "id": "13af12ae",
   "metadata": {
    "execution": {
     "iopub.execute_input": "2022-06-05T04:13:59.212005Z",
     "iopub.status.busy": "2022-06-05T04:13:59.211789Z",
     "iopub.status.idle": "2022-06-05T04:13:59.227459Z",
     "shell.execute_reply": "2022-06-05T04:13:59.226959Z"
    },
    "papermill": {
     "duration": 0.032386,
     "end_time": "2022-06-05T04:13:59.228806",
     "exception": false,
     "start_time": "2022-06-05T04:13:59.196420",
     "status": "completed"
    },
    "tags": []
   },
   "outputs": [
    {
     "data": {
      "text/plain": [
       "(84708, 5)"
      ]
     },
     "execution_count": 55,
     "metadata": {},
     "output_type": "execute_result"
    }
   ],
   "source": [
    "variants_ld_block_df.shape"
   ]
  },
  {
   "cell_type": "code",
   "execution_count": 56,
   "id": "431d8602",
   "metadata": {
    "execution": {
     "iopub.execute_input": "2022-06-05T04:13:59.259383Z",
     "iopub.status.busy": "2022-06-05T04:13:59.259109Z",
     "iopub.status.idle": "2022-06-05T04:13:59.279214Z",
     "shell.execute_reply": "2022-06-05T04:13:59.278537Z"
    },
    "papermill": {
     "duration": 0.036962,
     "end_time": "2022-06-05T04:13:59.280681",
     "exception": false,
     "start_time": "2022-06-05T04:13:59.243719",
     "status": "completed"
    },
    "tags": []
   },
   "outputs": [
    {
     "data": {
      "text/html": [
       "<div>\n",
       "<style scoped>\n",
       "    .dataframe tbody tr th:only-of-type {\n",
       "        vertical-align: middle;\n",
       "    }\n",
       "\n",
       "    .dataframe tbody tr th {\n",
       "        vertical-align: top;\n",
       "    }\n",
       "\n",
       "    .dataframe thead th {\n",
       "        text-align: right;\n",
       "    }\n",
       "</style>\n",
       "<table border=\"1\" class=\"dataframe\">\n",
       "  <thead>\n",
       "    <tr style=\"text-align: right;\">\n",
       "      <th></th>\n",
       "      <th>varID</th>\n",
       "      <th>chr</th>\n",
       "      <th>position</th>\n",
       "      <th>ref_allele</th>\n",
       "      <th>eff_allele</th>\n",
       "    </tr>\n",
       "  </thead>\n",
       "  <tbody>\n",
       "    <tr>\n",
       "      <th>0</th>\n",
       "      <td>chr9_136996001_G_A_b38</td>\n",
       "      <td>9</td>\n",
       "      <td>136996001</td>\n",
       "      <td>G</td>\n",
       "      <td>A</td>\n",
       "    </tr>\n",
       "    <tr>\n",
       "      <th>1</th>\n",
       "      <td>chr9_137029055_C_CA_b38</td>\n",
       "      <td>9</td>\n",
       "      <td>137029055</td>\n",
       "      <td>C</td>\n",
       "      <td>CA</td>\n",
       "    </tr>\n",
       "    <tr>\n",
       "      <th>2</th>\n",
       "      <td>chr9_137029407_T_G_b38</td>\n",
       "      <td>9</td>\n",
       "      <td>137029407</td>\n",
       "      <td>T</td>\n",
       "      <td>G</td>\n",
       "    </tr>\n",
       "    <tr>\n",
       "      <th>10</th>\n",
       "      <td>chr9_137084985_C_T_b38</td>\n",
       "      <td>9</td>\n",
       "      <td>137084985</td>\n",
       "      <td>C</td>\n",
       "      <td>T</td>\n",
       "    </tr>\n",
       "    <tr>\n",
       "      <th>11</th>\n",
       "      <td>chr9_137102549_TACAC_T_b38</td>\n",
       "      <td>9</td>\n",
       "      <td>137102549</td>\n",
       "      <td>TACAC</td>\n",
       "      <td>T</td>\n",
       "    </tr>\n",
       "  </tbody>\n",
       "</table>\n",
       "</div>"
      ],
      "text/plain": [
       "                         varID  chr   position ref_allele eff_allele\n",
       "0       chr9_136996001_G_A_b38    9  136996001          G          A\n",
       "1      chr9_137029055_C_CA_b38    9  137029055          C         CA\n",
       "2       chr9_137029407_T_G_b38    9  137029407          T          G\n",
       "10      chr9_137084985_C_T_b38    9  137084985          C          T\n",
       "11  chr9_137102549_TACAC_T_b38    9  137102549      TACAC          T"
      ]
     },
     "execution_count": 56,
     "metadata": {},
     "output_type": "execute_result"
    }
   ],
   "source": [
    "variants_ld_block_df.head()"
   ]
  },
  {
   "cell_type": "code",
   "execution_count": 57,
   "id": "35fc8e6d",
   "metadata": {
    "execution": {
     "iopub.execute_input": "2022-06-05T04:13:59.310217Z",
     "iopub.status.busy": "2022-06-05T04:13:59.310023Z",
     "iopub.status.idle": "2022-06-05T04:13:59.328079Z",
     "shell.execute_reply": "2022-06-05T04:13:59.327527Z"
    },
    "papermill": {
     "duration": 0.034421,
     "end_time": "2022-06-05T04:13:59.329398",
     "exception": false,
     "start_time": "2022-06-05T04:13:59.294977",
     "status": "completed"
    },
    "tags": []
   },
   "outputs": [
    {
     "data": {
      "text/plain": [
       "varID         object\n",
       "chr            int64\n",
       "position       int64\n",
       "ref_allele    object\n",
       "eff_allele    object\n",
       "dtype: object"
      ]
     },
     "execution_count": 57,
     "metadata": {},
     "output_type": "execute_result"
    }
   ],
   "source": [
    "variants_ld_block_df.dtypes"
   ]
  },
  {
   "cell_type": "markdown",
   "id": "ec84177c",
   "metadata": {
    "papermill": {
     "duration": 0.014425,
     "end_time": "2022-06-05T04:13:59.358364",
     "exception": false,
     "start_time": "2022-06-05T04:13:59.343939",
     "status": "completed"
    },
    "tags": []
   },
   "source": [
    "# Covariance for each chromosome block"
   ]
  },
  {
   "cell_type": "markdown",
   "id": "d43e1890",
   "metadata": {
    "papermill": {
     "duration": 0.014136,
     "end_time": "2022-06-05T04:13:59.387063",
     "exception": false,
     "start_time": "2022-06-05T04:13:59.372927",
     "status": "completed"
    },
    "tags": []
   },
   "source": [
    "## Functions"
   ]
  },
  {
   "cell_type": "code",
   "execution_count": 58,
   "id": "394c6b4d",
   "metadata": {
    "execution": {
     "iopub.execute_input": "2022-06-05T04:13:59.417014Z",
     "iopub.status.busy": "2022-06-05T04:13:59.416399Z",
     "iopub.status.idle": "2022-06-05T04:13:59.431848Z",
     "shell.execute_reply": "2022-06-05T04:13:59.431320Z"
    },
    "papermill": {
     "duration": 0.031946,
     "end_time": "2022-06-05T04:13:59.433468",
     "exception": false,
     "start_time": "2022-06-05T04:13:59.401522",
     "status": "completed"
    },
    "tags": []
   },
   "outputs": [],
   "source": [
    "def covariance(df, dtype):\n",
    "    n = df.shape[0]\n",
    "    df = df.sub(df.mean(), axis=1).astype(dtype)\n",
    "    return df.T.dot(df) / (n - 1)"
   ]
  },
  {
   "cell_type": "code",
   "execution_count": 59,
   "id": "ed702fd0",
   "metadata": {
    "execution": {
     "iopub.execute_input": "2022-06-05T04:13:59.463387Z",
     "iopub.status.busy": "2022-06-05T04:13:59.462982Z",
     "iopub.status.idle": "2022-06-05T04:13:59.514077Z",
     "shell.execute_reply": "2022-06-05T04:13:59.513474Z"
    },
    "papermill": {
     "duration": 0.067623,
     "end_time": "2022-06-05T04:13:59.515610",
     "exception": false,
     "start_time": "2022-06-05T04:13:59.447987",
     "status": "completed"
    },
    "tags": []
   },
   "outputs": [],
   "source": [
    "# testing\n",
    "rs = np.random.RandomState(0)\n",
    "\n",
    "_test_data = pd.DataFrame(rs.normal(size=(50, 5)), columns=[f\"c{i}\" for i in range(5)])\n",
    "\n",
    "# float64\n",
    "pd.testing.assert_frame_equal(\n",
    "    covariance(_test_data, np.float64),\n",
    "    _test_data.cov(),\n",
    "    rtol=1e-10,\n",
    "    atol=1e-10,\n",
    "    check_dtype=True,\n",
    ")\n",
    "\n",
    "# float32\n",
    "pd.testing.assert_frame_equal(\n",
    "    covariance(_test_data, np.float32),\n",
    "    _test_data.cov(),\n",
    "    rtol=1e-5,\n",
    "    atol=1e-8,\n",
    "    check_dtype=False,\n",
    ")\n",
    "\n",
    "del _test_data"
   ]
  },
  {
   "cell_type": "code",
   "execution_count": 60,
   "id": "417717ae",
   "metadata": {
    "execution": {
     "iopub.execute_input": "2022-06-05T04:13:59.545655Z",
     "iopub.status.busy": "2022-06-05T04:13:59.545485Z",
     "iopub.status.idle": "2022-06-05T04:13:59.562163Z",
     "shell.execute_reply": "2022-06-05T04:13:59.561695Z"
    },
    "papermill": {
     "duration": 0.033252,
     "end_time": "2022-06-05T04:13:59.563537",
     "exception": false,
     "start_time": "2022-06-05T04:13:59.530285",
     "status": "completed"
    },
    "tags": []
   },
   "outputs": [],
   "source": [
    "def compute_snps_cov(snps_df):\n",
    "    assert snps_df[\"chr\"].unique().shape[0] == 1\n",
    "    chromosome = snps_df[\"chr\"].unique()[0]\n",
    "\n",
    "    # keep variants only present in genotype\n",
    "    snps_ids = list(set(snps_df[\"varID\"]).intersection(variants_ids_with_genotype))\n",
    "\n",
    "    chromosome_file = get_reference_panel_file(REFERENCE_PANEL_DIR, f\"chr{chromosome}.variants\")\n",
    "    snps_genotypes = pd.read_parquet(chromosome_file, columns=snps_ids)\n",
    "\n",
    "    return covariance(snps_genotypes, COV_DTYPE)"
   ]
  },
  {
   "cell_type": "code",
   "execution_count": 61,
   "id": "db4aed3c",
   "metadata": {
    "execution": {
     "iopub.execute_input": "2022-06-05T04:13:59.594384Z",
     "iopub.status.busy": "2022-06-05T04:13:59.594207Z",
     "iopub.status.idle": "2022-06-05T04:13:59.611863Z",
     "shell.execute_reply": "2022-06-05T04:13:59.611315Z"
    },
    "papermill": {
     "duration": 0.034756,
     "end_time": "2022-06-05T04:13:59.613350",
     "exception": false,
     "start_time": "2022-06-05T04:13:59.578594",
     "status": "completed"
    },
    "tags": []
   },
   "outputs": [],
   "source": [
    "# testing\n",
    "_tmp_snps = variants_ld_block_df[variants_ld_block_df[\"chr\"] == 22]\n",
    "assert _tmp_snps.shape[0] > 0"
   ]
  },
  {
   "cell_type": "code",
   "execution_count": 62,
   "id": "db520e6e",
   "metadata": {
    "execution": {
     "iopub.execute_input": "2022-06-05T04:13:59.644244Z",
     "iopub.status.busy": "2022-06-05T04:13:59.644072Z",
     "iopub.status.idle": "2022-06-05T04:13:59.660291Z",
     "shell.execute_reply": "2022-06-05T04:13:59.659629Z"
    },
    "papermill": {
     "duration": 0.033237,
     "end_time": "2022-06-05T04:13:59.661669",
     "exception": false,
     "start_time": "2022-06-05T04:13:59.628432",
     "status": "completed"
    },
    "tags": []
   },
   "outputs": [
    {
     "data": {
      "text/plain": [
       "(2687, 5)"
      ]
     },
     "execution_count": 62,
     "metadata": {},
     "output_type": "execute_result"
    }
   ],
   "source": [
    "_tmp_snps.shape"
   ]
  },
  {
   "cell_type": "code",
   "execution_count": 63,
   "id": "7f7bb541",
   "metadata": {
    "execution": {
     "iopub.execute_input": "2022-06-05T04:13:59.693966Z",
     "iopub.status.busy": "2022-06-05T04:13:59.693747Z",
     "iopub.status.idle": "2022-06-05T04:13:59.712136Z",
     "shell.execute_reply": "2022-06-05T04:13:59.711577Z"
    },
    "papermill": {
     "duration": 0.035908,
     "end_time": "2022-06-05T04:13:59.713502",
     "exception": false,
     "start_time": "2022-06-05T04:13:59.677594",
     "status": "completed"
    },
    "tags": []
   },
   "outputs": [
    {
     "data": {
      "text/plain": [
       "2687"
      ]
     },
     "metadata": {},
     "output_type": "display_data"
    }
   ],
   "source": [
    "n_expected = len(set(_tmp_snps[\"varID\"]).intersection(variants_ids_with_genotype))\n",
    "display(n_expected)"
   ]
  },
  {
   "cell_type": "code",
   "execution_count": 64,
   "id": "f9de93c0",
   "metadata": {
    "execution": {
     "iopub.execute_input": "2022-06-05T04:13:59.745274Z",
     "iopub.status.busy": "2022-06-05T04:13:59.744765Z",
     "iopub.status.idle": "2022-06-05T04:14:14.581922Z",
     "shell.execute_reply": "2022-06-05T04:14:14.581269Z"
    },
    "papermill": {
     "duration": 14.854156,
     "end_time": "2022-06-05T04:14:14.583416",
     "exception": false,
     "start_time": "2022-06-05T04:13:59.729260",
     "status": "completed"
    },
    "tags": []
   },
   "outputs": [],
   "source": [
    "_tmp = compute_snps_cov(_tmp_snps)"
   ]
  },
  {
   "cell_type": "code",
   "execution_count": 65,
   "id": "46ab35a8",
   "metadata": {
    "execution": {
     "iopub.execute_input": "2022-06-05T04:14:14.615270Z",
     "iopub.status.busy": "2022-06-05T04:14:14.614912Z",
     "iopub.status.idle": "2022-06-05T04:14:14.638674Z",
     "shell.execute_reply": "2022-06-05T04:14:14.638085Z"
    },
    "papermill": {
     "duration": 0.041145,
     "end_time": "2022-06-05T04:14:14.640190",
     "exception": false,
     "start_time": "2022-06-05T04:14:14.599045",
     "status": "completed"
    },
    "tags": []
   },
   "outputs": [],
   "source": [
    "assert _tmp.shape == (n_expected, n_expected)\n",
    "assert not _tmp.isna().any().any()"
   ]
  },
  {
   "cell_type": "code",
   "execution_count": 66,
   "id": "9320eeb4",
   "metadata": {
    "execution": {
     "iopub.execute_input": "2022-06-05T04:14:14.670649Z",
     "iopub.status.busy": "2022-06-05T04:14:14.670364Z",
     "iopub.status.idle": "2022-06-05T04:14:14.688310Z",
     "shell.execute_reply": "2022-06-05T04:14:14.687645Z"
    },
    "papermill": {
     "duration": 0.036514,
     "end_time": "2022-06-05T04:14:14.691534",
     "exception": false,
     "start_time": "2022-06-05T04:14:14.655020",
     "status": "completed"
    },
    "tags": []
   },
   "outputs": [],
   "source": [
    "del _tmp_snps, _tmp"
   ]
  },
  {
   "cell_type": "markdown",
   "id": "1264f97f",
   "metadata": {
    "papermill": {
     "duration": 0.014522,
     "end_time": "2022-06-05T04:14:14.721670",
     "exception": false,
     "start_time": "2022-06-05T04:14:14.707148",
     "status": "completed"
    },
    "tags": []
   },
   "source": [
    "## Compute covariance and save"
   ]
  },
  {
   "cell_type": "code",
   "execution_count": 67,
   "id": "b938ae8a",
   "metadata": {
    "execution": {
     "iopub.execute_input": "2022-06-05T04:14:14.752302Z",
     "iopub.status.busy": "2022-06-05T04:14:14.751682Z",
     "iopub.status.idle": "2022-06-05T04:14:14.769355Z",
     "shell.execute_reply": "2022-06-05T04:14:14.768694Z"
    },
    "papermill": {
     "duration": 0.034402,
     "end_time": "2022-06-05T04:14:14.770682",
     "exception": false,
     "start_time": "2022-06-05T04:14:14.736280",
     "status": "completed"
    },
    "tags": []
   },
   "outputs": [
    {
     "data": {
      "text/plain": [
       "PosixPath('/opt/data/data/phenomexcan/ld_blocks/gene_corrs/gtex_v8/mashr/snps_chr_blocks_cov.h5')"
      ]
     },
     "metadata": {},
     "output_type": "display_data"
    }
   ],
   "source": [
    "output_file_name_template = conf.PHENOMEXCAN[\"LD_BLOCKS\"][\"GENE_CORRS_FILE_NAME_TEMPLATES\"][\"SNPS_COVARIANCE\"]\n",
    "\n",
    "output_file = OUTPUT_DIR_BASE / output_file_name_template.format(\n",
    "    prefix=\"\",\n",
    "    suffix=\"\",\n",
    ")\n",
    "display(output_file)"
   ]
  },
  {
   "cell_type": "code",
   "execution_count": 68,
   "id": "8953db89",
   "metadata": {
    "execution": {
     "iopub.execute_input": "2022-06-05T04:14:14.802346Z",
     "iopub.status.busy": "2022-06-05T04:14:14.801977Z",
     "iopub.status.idle": "2022-06-05T04:36:11.656424Z",
     "shell.execute_reply": "2022-06-05T04:36:11.655570Z"
    },
    "papermill": {
     "duration": 1316.872207,
     "end_time": "2022-06-05T04:36:11.658613",
     "exception": false,
     "start_time": "2022-06-05T04:14:14.786406",
     "status": "completed"
    },
    "tags": []
   },
   "outputs": [
    {
     "name": "stderr",
     "output_type": "stream",
     "text": [
      "22 (2687, 5): 100%|█████████████████████████████████████████████████| 22/22 [21:56<00:00, 59.85s/it]\n"
     ]
    }
   ],
   "source": [
    "with pd.HDFStore(output_file, mode=\"w\", complevel=4) as store:\n",
    "    pbar = tqdm(\n",
    "        variants_ld_block_df.groupby(\"chr\"),\n",
    "        ncols=100,\n",
    "        total=variants_ld_block_df[\"chr\"].unique().shape[0],\n",
    "    )\n",
    "\n",
    "    store[\"metadata\"] = variants_ld_block_df\n",
    "\n",
    "    for grp_name, grp_data in pbar:\n",
    "        pbar.set_description(f\"{grp_name} {grp_data.shape}\")\n",
    "        snps_cov = compute_snps_cov(grp_data)  # .astype(COV_DTYPE)\n",
    "        assert not snps_cov.isna().any().any()\n",
    "        store[f\"chr{grp_name}\"] = snps_cov\n",
    "\n",
    "        del snps_cov\n",
    "        store.flush()\n",
    "\n",
    "        gc.collect()"
   ]
  },
  {
   "cell_type": "markdown",
   "id": "1de34e70",
   "metadata": {
    "papermill": {
     "duration": 0.021511,
     "end_time": "2022-06-05T04:36:11.703862",
     "exception": false,
     "start_time": "2022-06-05T04:36:11.682351",
     "status": "completed"
    },
    "tags": []
   },
   "source": [
    "# Testing"
   ]
  },
  {
   "cell_type": "code",
   "execution_count": 69,
   "id": "54fc512c",
   "metadata": {
    "execution": {
     "iopub.execute_input": "2022-06-05T04:36:11.744360Z",
     "iopub.status.busy": "2022-06-05T04:36:11.743813Z",
     "iopub.status.idle": "2022-06-05T04:36:11.761046Z",
     "shell.execute_reply": "2022-06-05T04:36:11.760501Z"
    },
    "papermill": {
     "duration": 0.03779,
     "end_time": "2022-06-05T04:36:11.762576",
     "exception": false,
     "start_time": "2022-06-05T04:36:11.724786",
     "status": "completed"
    },
    "tags": []
   },
   "outputs": [],
   "source": [
    "_tmp = variants_ld_block_df[variants_ld_block_df[\"chr\"] == 1]"
   ]
  },
  {
   "cell_type": "code",
   "execution_count": 70,
   "id": "a3bd8ede",
   "metadata": {
    "execution": {
     "iopub.execute_input": "2022-06-05T04:36:11.797926Z",
     "iopub.status.busy": "2022-06-05T04:36:11.797706Z",
     "iopub.status.idle": "2022-06-05T04:36:11.815767Z",
     "shell.execute_reply": "2022-06-05T04:36:11.815255Z"
    },
    "papermill": {
     "duration": 0.036925,
     "end_time": "2022-06-05T04:36:11.817115",
     "exception": false,
     "start_time": "2022-06-05T04:36:11.780190",
     "status": "completed"
    },
    "tags": []
   },
   "outputs": [
    {
     "data": {
      "text/plain": [
       "(8130, 5)"
      ]
     },
     "execution_count": 70,
     "metadata": {},
     "output_type": "execute_result"
    }
   ],
   "source": [
    "_tmp.shape"
   ]
  },
  {
   "cell_type": "code",
   "execution_count": 71,
   "id": "6149cee4",
   "metadata": {
    "execution": {
     "iopub.execute_input": "2022-06-05T04:36:11.852945Z",
     "iopub.status.busy": "2022-06-05T04:36:11.852723Z",
     "iopub.status.idle": "2022-06-05T04:36:11.868546Z",
     "shell.execute_reply": "2022-06-05T04:36:11.867970Z"
    },
    "papermill": {
     "duration": 0.035379,
     "end_time": "2022-06-05T04:36:11.870017",
     "exception": false,
     "start_time": "2022-06-05T04:36:11.834638",
     "status": "completed"
    },
    "tags": []
   },
   "outputs": [],
   "source": [
    "assert _tmp.shape[0] > 0"
   ]
  },
  {
   "cell_type": "code",
   "execution_count": 72,
   "id": "8aceb74a",
   "metadata": {
    "execution": {
     "iopub.execute_input": "2022-06-05T04:36:11.905671Z",
     "iopub.status.busy": "2022-06-05T04:36:11.905478Z",
     "iopub.status.idle": "2022-06-05T04:36:11.925742Z",
     "shell.execute_reply": "2022-06-05T04:36:11.925220Z"
    },
    "papermill": {
     "duration": 0.039357,
     "end_time": "2022-06-05T04:36:11.927164",
     "exception": false,
     "start_time": "2022-06-05T04:36:11.887807",
     "status": "completed"
    },
    "tags": []
   },
   "outputs": [
    {
     "data": {
      "text/plain": [
       "8130"
      ]
     },
     "metadata": {},
     "output_type": "display_data"
    }
   ],
   "source": [
    "n_expected = len(set(_tmp[\"varID\"]).intersection(variants_ids_with_genotype))\n",
    "display(n_expected)\n",
    "assert n_expected > 0"
   ]
  },
  {
   "cell_type": "code",
   "execution_count": 73,
   "id": "ffdb4c4b",
   "metadata": {
    "execution": {
     "iopub.execute_input": "2022-06-05T04:36:11.964100Z",
     "iopub.status.busy": "2022-06-05T04:36:11.963643Z",
     "iopub.status.idle": "2022-06-05T04:36:13.306831Z",
     "shell.execute_reply": "2022-06-05T04:36:13.306163Z"
    },
    "papermill": {
     "duration": 1.362445,
     "end_time": "2022-06-05T04:36:13.308532",
     "exception": false,
     "start_time": "2022-06-05T04:36:11.946087",
     "status": "completed"
    },
    "tags": []
   },
   "outputs": [],
   "source": [
    "with pd.HDFStore(output_file, mode=\"r\") as store:\n",
    "    df = store[\"chr1\"]\n",
    "    assert df.shape == (n_expected, n_expected)\n",
    "    assert not df.isna().any().any()"
   ]
  },
  {
   "cell_type": "code",
   "execution_count": null,
   "id": "49dccd49",
   "metadata": {
    "papermill": {
     "duration": 0.016884,
     "end_time": "2022-06-05T04:36:13.345113",
     "exception": false,
     "start_time": "2022-06-05T04:36:13.328229",
     "status": "completed"
    },
    "tags": []
   },
   "outputs": [],
   "source": []
  }
 ],
 "metadata": {
  "jupytext": {
   "cell_metadata_filter": "all,-execution,-papermill,-trusted",
   "formats": "ipynb,py//py:percent"
  },
  "kernelspec": {
   "display_name": "Python 3 (ipykernel)",
   "language": "python",
   "name": "python3"
  },
  "language_info": {
   "codemirror_mode": {
    "name": "ipython",
    "version": 3
   },
   "file_extension": ".py",
   "mimetype": "text/x-python",
   "name": "python",
   "nbconvert_exporter": "python",
   "pygments_lexer": "ipython3",
   "version": "3.8.13"
  },
  "papermill": {
   "default_parameters": {},
   "duration": 1351.712736,
   "end_time": "2022-06-05T04:36:14.688092",
   "environment_variables": {},
   "exception": null,
   "input_path": "nbs/15_gsa_gls/05-snps_into_chr_cov.ipynb",
   "output_path": "nbs/15_gsa_gls/gene_corrs/gtex_v8/mashr/05-snps_into_chr_cov.ipynb",
   "parameters": {
    "EQTL_MODEL": "MASHR",
    "REFERENCE_PANEL": "GTEX_V8"
   },
   "start_time": "2022-06-05T04:13:42.975356",
   "version": "2.2.2"
  }
 },
 "nbformat": 4,
 "nbformat_minor": 5
}
