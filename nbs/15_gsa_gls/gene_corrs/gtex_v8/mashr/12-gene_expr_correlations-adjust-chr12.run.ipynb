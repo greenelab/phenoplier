{
 "cells": [
  {
   "cell_type": "markdown",
   "id": "6c1f0ae4-cd27-4fec-a23d-51699e7059e8",
   "metadata": {
    "papermill": {
     "duration": 0.006532,
     "end_time": "2022-06-18T11:50:17.566756",
     "exception": false,
     "start_time": "2022-06-18T11:50:17.560224",
     "status": "completed"
    },
    "tags": []
   },
   "source": [
    "# Description"
   ]
  },
  {
   "cell_type": "markdown",
   "id": "3268a19a-8a83-4f61-aa39-09b084c81d61",
   "metadata": {
    "papermill": {
     "duration": 0.005957,
     "end_time": "2022-06-18T11:50:17.578654",
     "exception": false,
     "start_time": "2022-06-18T11:50:17.572697",
     "status": "completed"
    },
    "tags": []
   },
   "source": [
    "**TODO**"
   ]
  },
  {
   "cell_type": "markdown",
   "id": "401368d3-22c1-4d81-a2c3-c4a81fde4191",
   "metadata": {
    "papermill": {
     "duration": 0.004745,
     "end_time": "2022-06-18T11:50:17.588693",
     "exception": false,
     "start_time": "2022-06-18T11:50:17.583948",
     "status": "completed"
    },
    "tags": []
   },
   "source": [
    "# Modules"
   ]
  },
  {
   "cell_type": "code",
   "execution_count": 1,
   "id": "f9b5022b-7c5e-4d37-9c7a-fdb91777c7f9",
   "metadata": {
    "execution": {
     "iopub.execute_input": "2022-06-18T11:50:17.601441Z",
     "iopub.status.busy": "2022-06-18T11:50:17.599234Z",
     "iopub.status.idle": "2022-06-18T11:50:21.362583Z",
     "shell.execute_reply": "2022-06-18T11:50:21.360361Z"
    },
    "papermill": {
     "duration": 3.771157,
     "end_time": "2022-06-18T11:50:21.364397",
     "exception": false,
     "start_time": "2022-06-18T11:50:17.593240",
     "status": "completed"
    },
    "tags": []
   },
   "outputs": [],
   "source": [
    "library(reticulate)\n",
    "pd <- import(\"pandas\")"
   ]
  },
  {
   "cell_type": "markdown",
   "id": "c1958d6a-0229-47e8-823e-792fcf84fccf",
   "metadata": {
    "papermill": {
     "duration": 0.008554,
     "end_time": "2022-06-18T11:50:21.390356",
     "exception": false,
     "start_time": "2022-06-18T11:50:21.381802",
     "status": "completed"
    },
    "tags": []
   },
   "source": [
    "# Settings"
   ]
  },
  {
   "cell_type": "code",
   "execution_count": 2,
   "id": "22d12bb4-1699-4a6b-b1b9-d3fdd3d547d7",
   "metadata": {
    "execution": {
     "iopub.execute_input": "2022-06-18T11:50:21.425307Z",
     "iopub.status.busy": "2022-06-18T11:50:21.403037Z",
     "iopub.status.idle": "2022-06-18T11:50:21.437120Z",
     "shell.execute_reply": "2022-06-18T11:50:21.435953Z"
    },
    "papermill": {
     "duration": 0.041755,
     "end_time": "2022-06-18T11:50:21.438808",
     "exception": false,
     "start_time": "2022-06-18T11:50:21.397053",
     "status": "completed"
    },
    "tags": [
     "parameters"
    ]
   },
   "outputs": [],
   "source": [
    "# reference panel\n",
    "REFERENCE_PANEL <- \"GTEX_V8\"\n",
    "# REFERENCE_PANEL = \"1000G\"\n",
    "\n",
    "# prediction models\n",
    "## mashr\n",
    "EQTL_MODEL <- \"MASHR\"\n",
    "\n",
    "# ## elastic net\n",
    "# EQTL_MODEL = \"ELASTIC_NET\"\n",
    "\n",
    "chromosome <- NULL"
   ]
  },
  {
   "cell_type": "code",
   "execution_count": 3,
   "id": "8efe024c",
   "metadata": {
    "execution": {
     "iopub.execute_input": "2022-06-18T11:50:21.451096Z",
     "iopub.status.busy": "2022-06-18T11:50:21.449958Z",
     "iopub.status.idle": "2022-06-18T11:50:21.467773Z",
     "shell.execute_reply": "2022-06-18T11:50:21.466525Z"
    },
    "papermill": {
     "duration": 0.025756,
     "end_time": "2022-06-18T11:50:21.469555",
     "exception": false,
     "start_time": "2022-06-18T11:50:21.443799",
     "status": "completed"
    },
    "tags": [
     "injected-parameters"
    ]
   },
   "outputs": [],
   "source": [
    "# Parameters\n",
    "chromosome = 12\n",
    "REFERENCE_PANEL = \"GTEX_V8\"\n",
    "EQTL_MODEL = \"MASHR\"\n"
   ]
  },
  {
   "cell_type": "code",
   "execution_count": 4,
   "id": "8fe24bef",
   "metadata": {
    "execution": {
     "iopub.execute_input": "2022-06-18T11:50:21.481340Z",
     "iopub.status.busy": "2022-06-18T11:50:21.480343Z",
     "iopub.status.idle": "2022-06-18T11:50:21.492815Z",
     "shell.execute_reply": "2022-06-18T11:50:21.491595Z"
    },
    "papermill": {
     "duration": 0.019869,
     "end_time": "2022-06-18T11:50:21.494504",
     "exception": false,
     "start_time": "2022-06-18T11:50:21.474635",
     "status": "completed"
    },
    "tags": []
   },
   "outputs": [
    {
     "data": {
      "text/html": [
       "'Using reference panel: GTEX_V8'"
      ],
      "text/latex": [
       "'Using reference panel: GTEX\\_V8'"
      ],
      "text/markdown": [
       "'Using reference panel: GTEX_V8'"
      ],
      "text/plain": [
       "[1] \"Using reference panel: GTEX_V8\""
      ]
     },
     "metadata": {},
     "output_type": "display_data"
    }
   ],
   "source": [
    "paste0(\"Using reference panel: \", REFERENCE_PANEL)"
   ]
  },
  {
   "cell_type": "code",
   "execution_count": 5,
   "id": "d62c28f8-186c-478b-948c-58e14f00df4b",
   "metadata": {
    "execution": {
     "iopub.execute_input": "2022-06-18T11:50:21.506093Z",
     "iopub.status.busy": "2022-06-18T11:50:21.505112Z",
     "iopub.status.idle": "2022-06-18T11:50:21.515573Z",
     "shell.execute_reply": "2022-06-18T11:50:21.514405Z"
    },
    "papermill": {
     "duration": 0.01774,
     "end_time": "2022-06-18T11:50:21.517203",
     "exception": false,
     "start_time": "2022-06-18T11:50:21.499463",
     "status": "completed"
    },
    "tags": []
   },
   "outputs": [
    {
     "data": {
      "text/html": [
       "'Using eQTL model: MASHR'"
      ],
      "text/latex": [
       "'Using eQTL model: MASHR'"
      ],
      "text/markdown": [
       "'Using eQTL model: MASHR'"
      ],
      "text/plain": [
       "[1] \"Using eQTL model: MASHR\""
      ]
     },
     "metadata": {},
     "output_type": "display_data"
    }
   ],
   "source": [
    "paste0(\"Using eQTL model: \", EQTL_MODEL)"
   ]
  },
  {
   "cell_type": "code",
   "execution_count": 6,
   "id": "5243676f-c889-4405-9a4d-262f0f044614",
   "metadata": {
    "execution": {
     "iopub.execute_input": "2022-06-18T11:50:21.528835Z",
     "iopub.status.busy": "2022-06-18T11:50:21.527804Z",
     "iopub.status.idle": "2022-06-18T11:50:21.536676Z",
     "shell.execute_reply": "2022-06-18T11:50:21.535554Z"
    },
    "papermill": {
     "duration": 0.016181,
     "end_time": "2022-06-18T11:50:21.538283",
     "exception": false,
     "start_time": "2022-06-18T11:50:21.522102",
     "status": "completed"
    },
    "tags": []
   },
   "outputs": [],
   "source": [
    "# chromosome must be provided as parameter\n",
    "stopifnot(!is.null(chromosome))"
   ]
  },
  {
   "cell_type": "markdown",
   "id": "83a49773-bcf5-44c4-8d9b-a6ac65a57ec6",
   "metadata": {
    "papermill": {
     "duration": 0.004602,
     "end_time": "2022-06-18T11:50:21.548190",
     "exception": false,
     "start_time": "2022-06-18T11:50:21.543588",
     "status": "completed"
    },
    "tags": []
   },
   "source": [
    "# Paths"
   ]
  },
  {
   "cell_type": "code",
   "execution_count": 7,
   "id": "eb6aa8aa-b452-4a2f-a780-93dd80ad4285",
   "metadata": {
    "execution": {
     "iopub.execute_input": "2022-06-18T11:50:21.559510Z",
     "iopub.status.busy": "2022-06-18T11:50:21.558550Z",
     "iopub.status.idle": "2022-06-18T11:50:21.570369Z",
     "shell.execute_reply": "2022-06-18T11:50:21.569228Z"
    },
    "papermill": {
     "duration": 0.018997,
     "end_time": "2022-06-18T11:50:21.571900",
     "exception": false,
     "start_time": "2022-06-18T11:50:21.552903",
     "status": "completed"
    },
    "tags": []
   },
   "outputs": [
    {
     "data": {
      "text/html": [
       "'/opt/data/data/phenomexcan/ld_blocks/gene_corrs'"
      ],
      "text/latex": [
       "'/opt/data/data/phenomexcan/ld\\_blocks/gene\\_corrs'"
      ],
      "text/markdown": [
       "'/opt/data/data/phenomexcan/ld_blocks/gene_corrs'"
      ],
      "text/plain": [
       "[1] \"/opt/data/data/phenomexcan/ld_blocks/gene_corrs\""
      ]
     },
     "metadata": {},
     "output_type": "display_data"
    }
   ],
   "source": [
    "GENE_CORRS_DIR <- Sys.getenv(\"PHENOPLIER_PHENOMEXCAN_LD_BLOCKS_GENE_CORRS_DIR\")\n",
    "IRdisplay::display(GENE_CORRS_DIR)"
   ]
  },
  {
   "cell_type": "code",
   "execution_count": 8,
   "id": "eb24f15f-f282-4476-8943-8413c4483f12",
   "metadata": {
    "execution": {
     "iopub.execute_input": "2022-06-18T11:50:21.583653Z",
     "iopub.status.busy": "2022-06-18T11:50:21.582633Z",
     "iopub.status.idle": "2022-06-18T11:50:21.594499Z",
     "shell.execute_reply": "2022-06-18T11:50:21.593331Z"
    },
    "papermill": {
     "duration": 0.019238,
     "end_time": "2022-06-18T11:50:21.596123",
     "exception": false,
     "start_time": "2022-06-18T11:50:21.576885",
     "status": "completed"
    },
    "tags": []
   },
   "outputs": [
    {
     "data": {
      "text/html": [
       "'/opt/data/data/phenomexcan/ld_blocks/gene_corrs/gtex_v8/mashr/by_chr'"
      ],
      "text/latex": [
       "'/opt/data/data/phenomexcan/ld\\_blocks/gene\\_corrs/gtex\\_v8/mashr/by\\_chr'"
      ],
      "text/markdown": [
       "'/opt/data/data/phenomexcan/ld_blocks/gene_corrs/gtex_v8/mashr/by_chr'"
      ],
      "text/plain": [
       "[1] \"/opt/data/data/phenomexcan/ld_blocks/gene_corrs/gtex_v8/mashr/by_chr\""
      ]
     },
     "metadata": {},
     "output_type": "display_data"
    }
   ],
   "source": [
    "INPUT_DIR <- file.path(GENE_CORRS_DIR, tolower(REFERENCE_PANEL), tolower(EQTL_MODEL), \"by_chr\")\n",
    "IRdisplay::display(INPUT_DIR)"
   ]
  },
  {
   "cell_type": "code",
   "execution_count": 9,
   "id": "43c1daba-0da9-4822-8d1e-968e9767e251",
   "metadata": {
    "execution": {
     "iopub.execute_input": "2022-06-18T11:50:21.608161Z",
     "iopub.status.busy": "2022-06-18T11:50:21.607158Z",
     "iopub.status.idle": "2022-06-18T11:50:21.620403Z",
     "shell.execute_reply": "2022-06-18T11:50:21.619262Z"
    },
    "papermill": {
     "duration": 0.020744,
     "end_time": "2022-06-18T11:50:21.621984",
     "exception": false,
     "start_time": "2022-06-18T11:50:21.601240",
     "status": "completed"
    },
    "tags": []
   },
   "outputs": [
    {
     "data": {
      "text/html": [
       "'/opt/data/data/phenomexcan/ld_blocks/gene_corrs/gtex_v8/mashr/by_chr/gene_corrs-chr12.pkl'"
      ],
      "text/latex": [
       "'/opt/data/data/phenomexcan/ld\\_blocks/gene\\_corrs/gtex\\_v8/mashr/by\\_chr/gene\\_corrs-chr12.pkl'"
      ],
      "text/markdown": [
       "'/opt/data/data/phenomexcan/ld_blocks/gene_corrs/gtex_v8/mashr/by_chr/gene_corrs-chr12.pkl'"
      ],
      "text/plain": [
       "[1] \"/opt/data/data/phenomexcan/ld_blocks/gene_corrs/gtex_v8/mashr/by_chr/gene_corrs-chr12.pkl\""
      ]
     },
     "metadata": {},
     "output_type": "display_data"
    }
   ],
   "source": [
    "INPUT_FILE <- file.path(INPUT_DIR, paste0(\"gene_corrs-chr\", chromosome, \".pkl\"))\n",
    "IRdisplay::display(INPUT_FILE)\n",
    "stopifnot(file.exists(INPUT_FILE))"
   ]
  },
  {
   "cell_type": "code",
   "execution_count": 10,
   "id": "72386fbf-982b-420a-9057-ea9a97a5e571",
   "metadata": {
    "execution": {
     "iopub.execute_input": "2022-06-18T11:50:21.634422Z",
     "iopub.status.busy": "2022-06-18T11:50:21.633388Z",
     "iopub.status.idle": "2022-06-18T11:50:21.647011Z",
     "shell.execute_reply": "2022-06-18T11:50:21.645861Z"
    },
    "papermill": {
     "duration": 0.021315,
     "end_time": "2022-06-18T11:50:21.648601",
     "exception": false,
     "start_time": "2022-06-18T11:50:21.627286",
     "status": "completed"
    },
    "tags": []
   },
   "outputs": [
    {
     "data": {
      "text/html": [
       "'/opt/data/data/phenomexcan/ld_blocks/gene_corrs/gtex_v8/mashr/by_chr/corrected_positive_definite'"
      ],
      "text/latex": [
       "'/opt/data/data/phenomexcan/ld\\_blocks/gene\\_corrs/gtex\\_v8/mashr/by\\_chr/corrected\\_positive\\_definite'"
      ],
      "text/markdown": [
       "'/opt/data/data/phenomexcan/ld_blocks/gene_corrs/gtex_v8/mashr/by_chr/corrected_positive_definite'"
      ],
      "text/plain": [
       "[1] \"/opt/data/data/phenomexcan/ld_blocks/gene_corrs/gtex_v8/mashr/by_chr/corrected_positive_definite\""
      ]
     },
     "metadata": {},
     "output_type": "display_data"
    }
   ],
   "source": [
    "OUTPUT_DIR <- file.path(INPUT_DIR, \"corrected_positive_definite\")\n",
    "IRdisplay::display(OUTPUT_DIR)\n",
    "dir.create(OUTPUT_DIR, recursive = TRUE, showWarnings = FALSE)"
   ]
  },
  {
   "cell_type": "code",
   "execution_count": 11,
   "id": "f9f19d1d-ce4c-4099-a26e-250fec751de7",
   "metadata": {
    "execution": {
     "iopub.execute_input": "2022-06-18T11:50:21.661217Z",
     "iopub.status.busy": "2022-06-18T11:50:21.660249Z",
     "iopub.status.idle": "2022-06-18T11:50:21.678483Z",
     "shell.execute_reply": "2022-06-18T11:50:21.674420Z"
    },
    "papermill": {
     "duration": 0.026244,
     "end_time": "2022-06-18T11:50:21.680254",
     "exception": false,
     "start_time": "2022-06-18T11:50:21.654010",
     "status": "completed"
    },
    "tags": []
   },
   "outputs": [
    {
     "data": {
      "text/html": [
       "'/opt/data/data/phenomexcan/ld_blocks/gene_corrs/gtex_v8/mashr/by_chr/corrected_positive_definite/gene_corrs-chr12.pkl'"
      ],
      "text/latex": [
       "'/opt/data/data/phenomexcan/ld\\_blocks/gene\\_corrs/gtex\\_v8/mashr/by\\_chr/corrected\\_positive\\_definite/gene\\_corrs-chr12.pkl'"
      ],
      "text/markdown": [
       "'/opt/data/data/phenomexcan/ld_blocks/gene_corrs/gtex_v8/mashr/by_chr/corrected_positive_definite/gene_corrs-chr12.pkl'"
      ],
      "text/plain": [
       "[1] \"/opt/data/data/phenomexcan/ld_blocks/gene_corrs/gtex_v8/mashr/by_chr/corrected_positive_definite/gene_corrs-chr12.pkl\""
      ]
     },
     "metadata": {},
     "output_type": "display_data"
    },
    {
     "data": {
      "text/html": [
       "'Output file exists, it will be overwritten'"
      ],
      "text/latex": [
       "'Output file exists, it will be overwritten'"
      ],
      "text/markdown": [
       "'Output file exists, it will be overwritten'"
      ],
      "text/plain": [
       "[1] \"Output file exists, it will be overwritten\""
      ]
     },
     "metadata": {},
     "output_type": "display_data"
    }
   ],
   "source": [
    "OUTPUT_FILE <- file.path(OUTPUT_DIR, paste0(\"gene_corrs-chr\", chromosome, \".pkl\"))\n",
    "IRdisplay::display(OUTPUT_FILE)\n",
    "if (file.exists(OUTPUT_FILE)) {\n",
    "  IRdisplay::display(\"Output file exists, it will be overwritten\")\n",
    "}"
   ]
  },
  {
   "cell_type": "markdown",
   "id": "5aad60e6-cba4-41b5-9755-93eb86f4ed05",
   "metadata": {
    "papermill": {
     "duration": 0.005634,
     "end_time": "2022-06-18T11:50:21.691664",
     "exception": false,
     "start_time": "2022-06-18T11:50:21.686030",
     "status": "completed"
    },
    "tags": []
   },
   "source": [
    "# Functions"
   ]
  },
  {
   "cell_type": "code",
   "execution_count": 12,
   "id": "f828f081-7358-4cc8-8a89-1ee293bcc1a7",
   "metadata": {
    "execution": {
     "iopub.execute_input": "2022-06-18T11:50:21.704654Z",
     "iopub.status.busy": "2022-06-18T11:50:21.703629Z",
     "iopub.status.idle": "2022-06-18T11:50:21.712698Z",
     "shell.execute_reply": "2022-06-18T11:50:21.711536Z"
    },
    "papermill": {
     "duration": 0.017071,
     "end_time": "2022-06-18T11:50:21.714316",
     "exception": false,
     "start_time": "2022-06-18T11:50:21.697245",
     "status": "completed"
    },
    "tags": []
   },
   "outputs": [],
   "source": [
    "# taken from https://www.r-bloggers.com/2013/08/correcting-a-pseudo-correlation-matrix-to-be-positive-semidefinite/\n",
    "# TODO: add documentation\n",
    "CorrectCM <- function(CM, p = 0) {\n",
    "  n <- dim(var(CM))[1L]\n",
    "  E <- eigen(CM)\n",
    "  CM1 <- E$vectors %*% tcrossprod(diag(pmax(E$values, p), n), E$vectors)\n",
    "  Balance <- diag(1 / sqrt(diag(CM1)))\n",
    "  CM2 <- Balance %*% CM1 %*% Balance\n",
    "  return(CM2)\n",
    "}"
   ]
  },
  {
   "cell_type": "code",
   "execution_count": 13,
   "id": "7ab9bebf-50a1-4e6f-b16a-e23cae93d02a",
   "metadata": {
    "execution": {
     "iopub.execute_input": "2022-06-18T11:50:21.727359Z",
     "iopub.status.busy": "2022-06-18T11:50:21.726397Z",
     "iopub.status.idle": "2022-06-18T11:50:21.734840Z",
     "shell.execute_reply": "2022-06-18T11:50:21.733622Z"
    },
    "papermill": {
     "duration": 0.016478,
     "end_time": "2022-06-18T11:50:21.736420",
     "exception": false,
     "start_time": "2022-06-18T11:50:21.719942",
     "status": "completed"
    },
    "tags": []
   },
   "outputs": [],
   "source": [
    "is_positive_definite <- function(data) {\n",
    "  eigenvalues <- eigen(data)$values\n",
    "  nonpositive_eigenvalues <- eigenvalues[eigenvalues <= 0]\n",
    "\n",
    "  if (length(nonpositive_eigenvalues) > 0) {\n",
    "    IRdisplay::display(\"We need to correct the data and make the matrix positive definite\")\n",
    "    return(FALSE)\n",
    "  } else {\n",
    "    IRdisplay::display(\"Matrix is already positive definite!\")\n",
    "    return(TRUE)\n",
    "  }\n",
    "}"
   ]
  },
  {
   "cell_type": "markdown",
   "id": "ac52ecbc-5618-4876-a4fa-546a08e3fcf3",
   "metadata": {
    "papermill": {
     "duration": 0.005401,
     "end_time": "2022-06-18T11:50:21.747460",
     "exception": false,
     "start_time": "2022-06-18T11:50:21.742059",
     "status": "completed"
    },
    "tags": []
   },
   "source": [
    "# Load data"
   ]
  },
  {
   "cell_type": "code",
   "execution_count": 14,
   "id": "3a7744e1-2e5a-450e-9dcf-945ec181347d",
   "metadata": {
    "execution": {
     "iopub.execute_input": "2022-06-18T11:50:21.774009Z",
     "iopub.status.busy": "2022-06-18T11:50:21.772797Z",
     "iopub.status.idle": "2022-06-18T11:50:21.846745Z",
     "shell.execute_reply": "2022-06-18T11:50:21.845506Z"
    },
    "papermill": {
     "duration": 0.095552,
     "end_time": "2022-06-18T11:50:21.848485",
     "exception": false,
     "start_time": "2022-06-18T11:50:21.752933",
     "status": "completed"
    },
    "tags": []
   },
   "outputs": [],
   "source": [
    "gene_corrs <- pd$read_pickle(INPUT_FILE)"
   ]
  },
  {
   "cell_type": "code",
   "execution_count": 15,
   "id": "6fb150b2-4c68-4e9b-9aa5-1890d3f762e3",
   "metadata": {
    "execution": {
     "iopub.execute_input": "2022-06-18T11:50:21.862897Z",
     "iopub.status.busy": "2022-06-18T11:50:21.861865Z",
     "iopub.status.idle": "2022-06-18T11:50:21.873693Z",
     "shell.execute_reply": "2022-06-18T11:50:21.872440Z"
    },
    "papermill": {
     "duration": 0.020711,
     "end_time": "2022-06-18T11:50:21.875436",
     "exception": false,
     "start_time": "2022-06-18T11:50:21.854725",
     "status": "completed"
    },
    "tags": []
   },
   "outputs": [
    {
     "data": {
      "text/html": [
       "<style>\n",
       ".list-inline {list-style: none; margin:0; padding: 0}\n",
       ".list-inline>li {display: inline-block}\n",
       ".list-inline>li:not(:last-child)::after {content: \"\\00b7\"; padding: 0 .5ex}\n",
       "</style>\n",
       "<ol class=list-inline><li>389</li><li>389</li></ol>\n"
      ],
      "text/latex": [
       "\\begin{enumerate*}\n",
       "\\item 389\n",
       "\\item 389\n",
       "\\end{enumerate*}\n"
      ],
      "text/markdown": [
       "1. 389\n",
       "2. 389\n",
       "\n",
       "\n"
      ],
      "text/plain": [
       "[1] 389 389"
      ]
     },
     "metadata": {},
     "output_type": "display_data"
    }
   ],
   "source": [
    "dim(gene_corrs)"
   ]
  },
  {
   "cell_type": "code",
   "execution_count": 16,
   "id": "0d4e53b5-7586-4a68-8ce5-d930d74ba943",
   "metadata": {
    "execution": {
     "iopub.execute_input": "2022-06-18T11:50:21.890083Z",
     "iopub.status.busy": "2022-06-18T11:50:21.889033Z",
     "iopub.status.idle": "2022-06-18T11:50:21.909359Z",
     "shell.execute_reply": "2022-06-18T11:50:21.908172Z"
    },
    "papermill": {
     "duration": 0.02902,
     "end_time": "2022-06-18T11:50:21.911084",
     "exception": false,
     "start_time": "2022-06-18T11:50:21.882064",
     "status": "completed"
    },
    "tags": []
   },
   "outputs": [
    {
     "data": {
      "text/html": [
       "<table class=\"dataframe\">\n",
       "<caption>A data.frame: 6 × 10</caption>\n",
       "<thead>\n",
       "\t<tr><th></th><th scope=col>ENSG00000120645</th><th scope=col>ENSG00000111181</th><th scope=col>ENSG00000171840</th><th scope=col>ENSG00000060237</th><th scope=col>ENSG00000002016</th><th scope=col>ENSG00000082805</th><th scope=col>ENSG00000111186</th><th scope=col>ENSG00000006831</th><th scope=col>ENSG00000151062</th><th scope=col>ENSG00000151065</th></tr>\n",
       "\t<tr><th></th><th scope=col>&lt;dbl&gt;</th><th scope=col>&lt;dbl&gt;</th><th scope=col>&lt;dbl&gt;</th><th scope=col>&lt;dbl&gt;</th><th scope=col>&lt;dbl&gt;</th><th scope=col>&lt;dbl&gt;</th><th scope=col>&lt;dbl&gt;</th><th scope=col>&lt;dbl&gt;</th><th scope=col>&lt;dbl&gt;</th><th scope=col>&lt;dbl&gt;</th></tr>\n",
       "</thead>\n",
       "<tbody>\n",
       "\t<tr><th scope=row>ENSG00000120645</th><td> 1.000000000</td><td>-0.049416899</td><td>-0.056575107</td><td> 0.048658608</td><td> 0.02922662</td><td> 0.000989973</td><td> 0.03911587</td><td>-0.04769783</td><td>-0.018081879</td><td>-0.068448015</td></tr>\n",
       "\t<tr><th scope=row>ENSG00000111181</th><td>-0.049416899</td><td> 1.000000000</td><td>-0.021797121</td><td> 0.005337499</td><td> 0.06554360</td><td>-0.024246285</td><td> 0.10982490</td><td>-0.05659368</td><td> 0.004522582</td><td>-0.012559306</td></tr>\n",
       "\t<tr><th scope=row>ENSG00000171840</th><td>-0.056575107</td><td>-0.021797121</td><td> 1.000000000</td><td>-0.009131751</td><td>-0.13907795</td><td>-0.074546131</td><td> 0.04276620</td><td> 0.11273593</td><td> 0.050262549</td><td>-0.007609613</td></tr>\n",
       "\t<tr><th scope=row>ENSG00000060237</th><td> 0.048658608</td><td> 0.005337499</td><td>-0.009131751</td><td> 1.000000000</td><td>-0.03916614</td><td> 0.023379811</td><td>-0.11364707</td><td>-0.02096805</td><td>-0.026575339</td><td> 0.029822830</td></tr>\n",
       "\t<tr><th scope=row>ENSG00000002016</th><td> 0.029226625</td><td> 0.065543598</td><td>-0.139077949</td><td>-0.039166141</td><td> 1.00000000</td><td> 0.021312729</td><td>-0.12037136</td><td>-0.05725021</td><td> 0.112585641</td><td> 0.056742248</td></tr>\n",
       "\t<tr><th scope=row>ENSG00000082805</th><td> 0.000989973</td><td>-0.024246285</td><td>-0.074546131</td><td> 0.023379811</td><td> 0.02131273</td><td> 1.000000000</td><td> 0.01840896</td><td>-0.06007252</td><td> 0.079096633</td><td> 0.052220807</td></tr>\n",
       "</tbody>\n",
       "</table>\n"
      ],
      "text/latex": [
       "A data.frame: 6 × 10\n",
       "\\begin{tabular}{r|llllllllll}\n",
       "  & ENSG00000120645 & ENSG00000111181 & ENSG00000171840 & ENSG00000060237 & ENSG00000002016 & ENSG00000082805 & ENSG00000111186 & ENSG00000006831 & ENSG00000151062 & ENSG00000151065\\\\\n",
       "  & <dbl> & <dbl> & <dbl> & <dbl> & <dbl> & <dbl> & <dbl> & <dbl> & <dbl> & <dbl>\\\\\n",
       "\\hline\n",
       "\tENSG00000120645 &  1.000000000 & -0.049416899 & -0.056575107 &  0.048658608 &  0.02922662 &  0.000989973 &  0.03911587 & -0.04769783 & -0.018081879 & -0.068448015\\\\\n",
       "\tENSG00000111181 & -0.049416899 &  1.000000000 & -0.021797121 &  0.005337499 &  0.06554360 & -0.024246285 &  0.10982490 & -0.05659368 &  0.004522582 & -0.012559306\\\\\n",
       "\tENSG00000171840 & -0.056575107 & -0.021797121 &  1.000000000 & -0.009131751 & -0.13907795 & -0.074546131 &  0.04276620 &  0.11273593 &  0.050262549 & -0.007609613\\\\\n",
       "\tENSG00000060237 &  0.048658608 &  0.005337499 & -0.009131751 &  1.000000000 & -0.03916614 &  0.023379811 & -0.11364707 & -0.02096805 & -0.026575339 &  0.029822830\\\\\n",
       "\tENSG00000002016 &  0.029226625 &  0.065543598 & -0.139077949 & -0.039166141 &  1.00000000 &  0.021312729 & -0.12037136 & -0.05725021 &  0.112585641 &  0.056742248\\\\\n",
       "\tENSG00000082805 &  0.000989973 & -0.024246285 & -0.074546131 &  0.023379811 &  0.02131273 &  1.000000000 &  0.01840896 & -0.06007252 &  0.079096633 &  0.052220807\\\\\n",
       "\\end{tabular}\n"
      ],
      "text/markdown": [
       "\n",
       "A data.frame: 6 × 10\n",
       "\n",
       "| <!--/--> | ENSG00000120645 &lt;dbl&gt; | ENSG00000111181 &lt;dbl&gt; | ENSG00000171840 &lt;dbl&gt; | ENSG00000060237 &lt;dbl&gt; | ENSG00000002016 &lt;dbl&gt; | ENSG00000082805 &lt;dbl&gt; | ENSG00000111186 &lt;dbl&gt; | ENSG00000006831 &lt;dbl&gt; | ENSG00000151062 &lt;dbl&gt; | ENSG00000151065 &lt;dbl&gt; |\n",
       "|---|---|---|---|---|---|---|---|---|---|---|\n",
       "| ENSG00000120645 |  1.000000000 | -0.049416899 | -0.056575107 |  0.048658608 |  0.02922662 |  0.000989973 |  0.03911587 | -0.04769783 | -0.018081879 | -0.068448015 |\n",
       "| ENSG00000111181 | -0.049416899 |  1.000000000 | -0.021797121 |  0.005337499 |  0.06554360 | -0.024246285 |  0.10982490 | -0.05659368 |  0.004522582 | -0.012559306 |\n",
       "| ENSG00000171840 | -0.056575107 | -0.021797121 |  1.000000000 | -0.009131751 | -0.13907795 | -0.074546131 |  0.04276620 |  0.11273593 |  0.050262549 | -0.007609613 |\n",
       "| ENSG00000060237 |  0.048658608 |  0.005337499 | -0.009131751 |  1.000000000 | -0.03916614 |  0.023379811 | -0.11364707 | -0.02096805 | -0.026575339 |  0.029822830 |\n",
       "| ENSG00000002016 |  0.029226625 |  0.065543598 | -0.139077949 | -0.039166141 |  1.00000000 |  0.021312729 | -0.12037136 | -0.05725021 |  0.112585641 |  0.056742248 |\n",
       "| ENSG00000082805 |  0.000989973 | -0.024246285 | -0.074546131 |  0.023379811 |  0.02131273 |  1.000000000 |  0.01840896 | -0.06007252 |  0.079096633 |  0.052220807 |\n",
       "\n"
      ],
      "text/plain": [
       "                ENSG00000120645 ENSG00000111181 ENSG00000171840 ENSG00000060237\n",
       "ENSG00000120645  1.000000000    -0.049416899    -0.056575107     0.048658608   \n",
       "ENSG00000111181 -0.049416899     1.000000000    -0.021797121     0.005337499   \n",
       "ENSG00000171840 -0.056575107    -0.021797121     1.000000000    -0.009131751   \n",
       "ENSG00000060237  0.048658608     0.005337499    -0.009131751     1.000000000   \n",
       "ENSG00000002016  0.029226625     0.065543598    -0.139077949    -0.039166141   \n",
       "ENSG00000082805  0.000989973    -0.024246285    -0.074546131     0.023379811   \n",
       "                ENSG00000002016 ENSG00000082805 ENSG00000111186 ENSG00000006831\n",
       "ENSG00000120645  0.02922662      0.000989973     0.03911587     -0.04769783    \n",
       "ENSG00000111181  0.06554360     -0.024246285     0.10982490     -0.05659368    \n",
       "ENSG00000171840 -0.13907795     -0.074546131     0.04276620      0.11273593    \n",
       "ENSG00000060237 -0.03916614      0.023379811    -0.11364707     -0.02096805    \n",
       "ENSG00000002016  1.00000000      0.021312729    -0.12037136     -0.05725021    \n",
       "ENSG00000082805  0.02131273      1.000000000     0.01840896     -0.06007252    \n",
       "                ENSG00000151062 ENSG00000151065\n",
       "ENSG00000120645 -0.018081879    -0.068448015   \n",
       "ENSG00000111181  0.004522582    -0.012559306   \n",
       "ENSG00000171840  0.050262549    -0.007609613   \n",
       "ENSG00000060237 -0.026575339     0.029822830   \n",
       "ENSG00000002016  0.112585641     0.056742248   \n",
       "ENSG00000082805  0.079096633     0.052220807   "
      ]
     },
     "metadata": {},
     "output_type": "display_data"
    }
   ],
   "source": [
    "head(gene_corrs[1:10, 1:10])"
   ]
  },
  {
   "cell_type": "markdown",
   "id": "c5c9ffba-1678-4ce7-8988-4ee03e23bdf2",
   "metadata": {
    "papermill": {
     "duration": 0.005906,
     "end_time": "2022-06-18T11:50:21.923263",
     "exception": false,
     "start_time": "2022-06-18T11:50:21.917357",
     "status": "completed"
    },
    "tags": []
   },
   "source": [
    "# Check positive definiteness"
   ]
  },
  {
   "cell_type": "code",
   "execution_count": 17,
   "id": "178854f5-487a-42e8-82b4-625c1979734a",
   "metadata": {
    "execution": {
     "iopub.execute_input": "2022-06-18T11:50:21.949884Z",
     "iopub.status.busy": "2022-06-18T11:50:21.948910Z",
     "iopub.status.idle": "2022-06-18T11:50:22.033097Z",
     "shell.execute_reply": "2022-06-18T11:50:22.030058Z"
    },
    "papermill": {
     "duration": 0.105727,
     "end_time": "2022-06-18T11:50:22.034987",
     "exception": false,
     "start_time": "2022-06-18T11:50:21.929260",
     "status": "completed"
    },
    "tags": []
   },
   "outputs": [
    {
     "data": {
      "text/html": [
       "'We need to correct the data and make the matrix positive definite'"
      ],
      "text/latex": [
       "'We need to correct the data and make the matrix positive definite'"
      ],
      "text/markdown": [
       "'We need to correct the data and make the matrix positive definite'"
      ],
      "text/plain": [
       "[1] \"We need to correct the data and make the matrix positive definite\""
      ]
     },
     "metadata": {},
     "output_type": "display_data"
    },
    {
     "data": {
      "text/html": [
       "FALSE"
      ],
      "text/latex": [
       "FALSE"
      ],
      "text/markdown": [
       "FALSE"
      ],
      "text/plain": [
       "[1] FALSE"
      ]
     },
     "metadata": {},
     "output_type": "display_data"
    }
   ],
   "source": [
    "is_positive_definite(gene_corrs)"
   ]
  },
  {
   "cell_type": "code",
   "execution_count": 18,
   "id": "58542ade-c80f-42e6-acbf-6464dab70fdb",
   "metadata": {
    "execution": {
     "iopub.execute_input": "2022-06-18T11:50:22.063485Z",
     "iopub.status.busy": "2022-06-18T11:50:22.062263Z",
     "iopub.status.idle": "2022-06-18T11:50:22.136714Z",
     "shell.execute_reply": "2022-06-18T11:50:22.135579Z"
    },
    "papermill": {
     "duration": 0.094275,
     "end_time": "2022-06-18T11:50:22.138085",
     "exception": false,
     "start_time": "2022-06-18T11:50:22.043810",
     "status": "completed"
    },
    "tags": []
   },
   "outputs": [],
   "source": [
    "# see eigenvalues\n",
    "eigenvalues <- eigen(gene_corrs)$values"
   ]
  },
  {
   "cell_type": "code",
   "execution_count": 19,
   "id": "9486e0db-e924-43ab-bb6c-0d997fd38f3d",
   "metadata": {
    "execution": {
     "iopub.execute_input": "2022-06-18T11:50:22.169668Z",
     "iopub.status.busy": "2022-06-18T11:50:22.159928Z",
     "iopub.status.idle": "2022-06-18T11:50:22.188674Z",
     "shell.execute_reply": "2022-06-18T11:50:22.187439Z"
    },
    "papermill": {
     "duration": 0.04625,
     "end_time": "2022-06-18T11:50:22.190250",
     "exception": false,
     "start_time": "2022-06-18T11:50:22.144000",
     "status": "completed"
    },
    "tags": []
   },
   "outputs": [
    {
     "data": {
      "text/html": [
       "44"
      ],
      "text/latex": [
       "44"
      ],
      "text/markdown": [
       "44"
      ],
      "text/plain": [
       "[1] 44"
      ]
     },
     "metadata": {},
     "output_type": "display_data"
    },
    {
     "data": {
      "text/html": [
       "<style>\n",
       ".list-inline {list-style: none; margin:0; padding: 0}\n",
       ".list-inline>li {display: inline-block}\n",
       ".list-inline>li:not(:last-child)::after {content: \"\\00b7\"; padding: 0 .5ex}\n",
       "</style>\n",
       "<ol class=list-inline><li>-0.0070442592867731</li><li>-0.0105139178666213</li><li>-0.0327294710643957</li><li>-0.0617946855586369</li><li>-0.0649905247000949</li><li>-0.0694036534913058</li><li>-0.0901459854143916</li><li>-0.114621464230891</li><li>-0.119831351869041</li><li>-0.126113556336976</li><li>-0.198365847075218</li><li>-0.204057607976461</li><li>-0.2181716013004</li><li>-0.23451992360349</li><li>-0.252332820741572</li><li>-0.275437677796426</li><li>-0.298224725949694</li><li>-0.308873223762153</li><li>-0.324756499706308</li><li>-0.367133109959555</li><li>-0.397989538345872</li><li>-0.417515248309447</li><li>-0.468577841474523</li><li>-0.483196497883947</li><li>-0.579933045159619</li><li>-0.58489483841346</li><li>-0.589107893863747</li><li>-0.608419526677071</li><li>-0.625252885342806</li><li>-0.763448647661292</li><li>-0.882663635684081</li><li>-0.943158023201335</li><li>-1.20286227672519</li><li>-1.24122587890569</li><li>-1.24993440985728</li><li>-1.3366408073044</li><li>-1.39820660315033</li><li>-1.41120626271076</li><li>-1.80660280108822</li><li>-1.85322938644682</li><li>-1.91858952823795</li><li>-2.28114152808694</li><li>-2.61128493400185</li><li>-3.59727880679043</li></ol>\n"
      ],
      "text/latex": [
       "\\begin{enumerate*}\n",
       "\\item -0.0070442592867731\n",
       "\\item -0.0105139178666213\n",
       "\\item -0.0327294710643957\n",
       "\\item -0.0617946855586369\n",
       "\\item -0.0649905247000949\n",
       "\\item -0.0694036534913058\n",
       "\\item -0.0901459854143916\n",
       "\\item -0.114621464230891\n",
       "\\item -0.119831351869041\n",
       "\\item -0.126113556336976\n",
       "\\item -0.198365847075218\n",
       "\\item -0.204057607976461\n",
       "\\item -0.2181716013004\n",
       "\\item -0.23451992360349\n",
       "\\item -0.252332820741572\n",
       "\\item -0.275437677796426\n",
       "\\item -0.298224725949694\n",
       "\\item -0.308873223762153\n",
       "\\item -0.324756499706308\n",
       "\\item -0.367133109959555\n",
       "\\item -0.397989538345872\n",
       "\\item -0.417515248309447\n",
       "\\item -0.468577841474523\n",
       "\\item -0.483196497883947\n",
       "\\item -0.579933045159619\n",
       "\\item -0.58489483841346\n",
       "\\item -0.589107893863747\n",
       "\\item -0.608419526677071\n",
       "\\item -0.625252885342806\n",
       "\\item -0.763448647661292\n",
       "\\item -0.882663635684081\n",
       "\\item -0.943158023201335\n",
       "\\item -1.20286227672519\n",
       "\\item -1.24122587890569\n",
       "\\item -1.24993440985728\n",
       "\\item -1.3366408073044\n",
       "\\item -1.39820660315033\n",
       "\\item -1.41120626271076\n",
       "\\item -1.80660280108822\n",
       "\\item -1.85322938644682\n",
       "\\item -1.91858952823795\n",
       "\\item -2.28114152808694\n",
       "\\item -2.61128493400185\n",
       "\\item -3.59727880679043\n",
       "\\end{enumerate*}\n"
      ],
      "text/markdown": [
       "1. -0.0070442592867731\n",
       "2. -0.0105139178666213\n",
       "3. -0.0327294710643957\n",
       "4. -0.0617946855586369\n",
       "5. -0.0649905247000949\n",
       "6. -0.0694036534913058\n",
       "7. -0.0901459854143916\n",
       "8. -0.114621464230891\n",
       "9. -0.119831351869041\n",
       "10. -0.126113556336976\n",
       "11. -0.198365847075218\n",
       "12. -0.204057607976461\n",
       "13. -0.2181716013004\n",
       "14. -0.23451992360349\n",
       "15. -0.252332820741572\n",
       "16. -0.275437677796426\n",
       "17. -0.298224725949694\n",
       "18. -0.308873223762153\n",
       "19. -0.324756499706308\n",
       "20. -0.367133109959555\n",
       "21. -0.397989538345872\n",
       "22. -0.417515248309447\n",
       "23. -0.468577841474523\n",
       "24. -0.483196497883947\n",
       "25. -0.579933045159619\n",
       "26. -0.58489483841346\n",
       "27. -0.589107893863747\n",
       "28. -0.608419526677071\n",
       "29. -0.625252885342806\n",
       "30. -0.763448647661292\n",
       "31. -0.882663635684081\n",
       "32. -0.943158023201335\n",
       "33. -1.20286227672519\n",
       "34. -1.24122587890569\n",
       "35. -1.24993440985728\n",
       "36. -1.3366408073044\n",
       "37. -1.39820660315033\n",
       "38. -1.41120626271076\n",
       "39. -1.80660280108822\n",
       "40. -1.85322938644682\n",
       "41. -1.91858952823795\n",
       "42. -2.28114152808694\n",
       "43. -2.61128493400185\n",
       "44. -3.59727880679043\n",
       "\n",
       "\n"
      ],
      "text/plain": [
       " [1] -0.007044259 -0.010513918 -0.032729471 -0.061794686 -0.064990525\n",
       " [6] -0.069403653 -0.090145985 -0.114621464 -0.119831352 -0.126113556\n",
       "[11] -0.198365847 -0.204057608 -0.218171601 -0.234519924 -0.252332821\n",
       "[16] -0.275437678 -0.298224726 -0.308873224 -0.324756500 -0.367133110\n",
       "[21] -0.397989538 -0.417515248 -0.468577841 -0.483196498 -0.579933045\n",
       "[26] -0.584894838 -0.589107894 -0.608419527 -0.625252885 -0.763448648\n",
       "[31] -0.882663636 -0.943158023 -1.202862277 -1.241225879 -1.249934410\n",
       "[36] -1.336640807 -1.398206603 -1.411206263 -1.806602801 -1.853229386\n",
       "[41] -1.918589528 -2.281141528 -2.611284934 -3.597278807"
      ]
     },
     "metadata": {},
     "output_type": "display_data"
    }
   ],
   "source": [
    "nonpositive_eigenvalues <- eigenvalues[eigenvalues <= 0]\n",
    "IRdisplay::display(length(nonpositive_eigenvalues))\n",
    "IRdisplay::display(nonpositive_eigenvalues)"
   ]
  },
  {
   "cell_type": "code",
   "execution_count": 20,
   "id": "410ee452-488f-4518-b93a-2acd608ba99c",
   "metadata": {
    "execution": {
     "iopub.execute_input": "2022-06-18T11:50:22.218428Z",
     "iopub.status.busy": "2022-06-18T11:50:22.217434Z",
     "iopub.status.idle": "2022-06-18T11:50:22.226175Z",
     "shell.execute_reply": "2022-06-18T11:50:22.224959Z"
    },
    "papermill": {
     "duration": 0.022466,
     "end_time": "2022-06-18T11:50:22.227828",
     "exception": false,
     "start_time": "2022-06-18T11:50:22.205362",
     "status": "completed"
    },
    "tags": []
   },
   "outputs": [],
   "source": [
    "if (length(eigenvalues[eigenvalues <= 0]) == 0) { quit() }"
   ]
  },
  {
   "cell_type": "markdown",
   "id": "2d280a82-f231-402d-82ab-9291d395afc1",
   "metadata": {
    "papermill": {
     "duration": 0.006548,
     "end_time": "2022-06-18T11:50:22.241310",
     "exception": false,
     "start_time": "2022-06-18T11:50:22.234762",
     "status": "completed"
    },
    "tags": []
   },
   "source": [
    "# Make matrix positive definite if needed"
   ]
  },
  {
   "cell_type": "code",
   "execution_count": 21,
   "id": "b9037873-4067-4ac6-aa92-e9225a6c9353",
   "metadata": {
    "execution": {
     "iopub.execute_input": "2022-06-18T11:50:22.256470Z",
     "iopub.status.busy": "2022-06-18T11:50:22.255458Z",
     "iopub.status.idle": "2022-06-18T11:50:22.360313Z",
     "shell.execute_reply": "2022-06-18T11:50:22.359101Z"
    },
    "papermill": {
     "duration": 0.114202,
     "end_time": "2022-06-18T11:50:22.362068",
     "exception": false,
     "start_time": "2022-06-18T11:50:22.247866",
     "status": "completed"
    },
    "tags": []
   },
   "outputs": [],
   "source": [
    "gene_corrs_corrected <- CorrectCM(gene_corrs, 1)"
   ]
  },
  {
   "cell_type": "code",
   "execution_count": 22,
   "id": "03c86284-5aac-4f66-86cc-74eb97102a7e",
   "metadata": {
    "execution": {
     "iopub.execute_input": "2022-06-18T11:50:22.386472Z",
     "iopub.status.busy": "2022-06-18T11:50:22.384897Z",
     "iopub.status.idle": "2022-06-18T11:50:22.398612Z",
     "shell.execute_reply": "2022-06-18T11:50:22.395815Z"
    },
    "papermill": {
     "duration": 0.02562,
     "end_time": "2022-06-18T11:50:22.400479",
     "exception": false,
     "start_time": "2022-06-18T11:50:22.374859",
     "status": "completed"
    },
    "tags": []
   },
   "outputs": [],
   "source": [
    "dimnames(gene_corrs_corrected)[[1]] <- rownames(gene_corrs)"
   ]
  },
  {
   "cell_type": "code",
   "execution_count": 23,
   "id": "576e7069-25ff-473d-8158-35b5f2ff212e",
   "metadata": {
    "execution": {
     "iopub.execute_input": "2022-06-18T11:50:22.451269Z",
     "iopub.status.busy": "2022-06-18T11:50:22.450370Z",
     "iopub.status.idle": "2022-06-18T11:50:22.464455Z",
     "shell.execute_reply": "2022-06-18T11:50:22.462652Z"
    },
    "papermill": {
     "duration": 0.030923,
     "end_time": "2022-06-18T11:50:22.465877",
     "exception": false,
     "start_time": "2022-06-18T11:50:22.434954",
     "status": "completed"
    },
    "tags": []
   },
   "outputs": [],
   "source": [
    "dimnames(gene_corrs_corrected)[[2]] <- colnames(gene_corrs)"
   ]
  },
  {
   "cell_type": "code",
   "execution_count": 24,
   "id": "f77d043a-321d-447f-8da5-2503981d3e73",
   "metadata": {
    "execution": {
     "iopub.execute_input": "2022-06-18T11:50:22.492349Z",
     "iopub.status.busy": "2022-06-18T11:50:22.491447Z",
     "iopub.status.idle": "2022-06-18T11:50:22.506804Z",
     "shell.execute_reply": "2022-06-18T11:50:22.505010Z"
    },
    "papermill": {
     "duration": 0.032009,
     "end_time": "2022-06-18T11:50:22.508384",
     "exception": false,
     "start_time": "2022-06-18T11:50:22.476375",
     "status": "completed"
    },
    "tags": []
   },
   "outputs": [],
   "source": [
    "gene_corrs_corrected <- as.data.frame(gene_corrs_corrected)"
   ]
  },
  {
   "cell_type": "code",
   "execution_count": 25,
   "id": "3e844024-f9a2-42a2-bbd0-695cfdbb78f5",
   "metadata": {
    "execution": {
     "iopub.execute_input": "2022-06-18T11:50:22.524521Z",
     "iopub.status.busy": "2022-06-18T11:50:22.523469Z",
     "iopub.status.idle": "2022-06-18T11:50:22.534799Z",
     "shell.execute_reply": "2022-06-18T11:50:22.533579Z"
    },
    "papermill": {
     "duration": 0.021327,
     "end_time": "2022-06-18T11:50:22.536522",
     "exception": false,
     "start_time": "2022-06-18T11:50:22.515195",
     "status": "completed"
    },
    "tags": []
   },
   "outputs": [
    {
     "data": {
      "text/html": [
       "<style>\n",
       ".list-inline {list-style: none; margin:0; padding: 0}\n",
       ".list-inline>li {display: inline-block}\n",
       ".list-inline>li:not(:last-child)::after {content: \"\\00b7\"; padding: 0 .5ex}\n",
       "</style>\n",
       "<ol class=list-inline><li>389</li><li>389</li></ol>\n"
      ],
      "text/latex": [
       "\\begin{enumerate*}\n",
       "\\item 389\n",
       "\\item 389\n",
       "\\end{enumerate*}\n"
      ],
      "text/markdown": [
       "1. 389\n",
       "2. 389\n",
       "\n",
       "\n"
      ],
      "text/plain": [
       "[1] 389 389"
      ]
     },
     "metadata": {},
     "output_type": "display_data"
    }
   ],
   "source": [
    "dim(gene_corrs_corrected)"
   ]
  },
  {
   "cell_type": "markdown",
   "id": "244b6bde-4ca8-46d1-acc7-b4c35b5d3c62",
   "metadata": {
    "papermill": {
     "duration": 0.007206,
     "end_time": "2022-06-18T11:50:22.550963",
     "exception": false,
     "start_time": "2022-06-18T11:50:22.543757",
     "status": "completed"
    },
    "tags": []
   },
   "source": [
    "# Check positive definiteness of corrected matrix"
   ]
  },
  {
   "cell_type": "code",
   "execution_count": 26,
   "id": "0fd5b688-e137-4619-910c-35130d32d600",
   "metadata": {
    "execution": {
     "iopub.execute_input": "2022-06-18T11:50:22.569056Z",
     "iopub.status.busy": "2022-06-18T11:50:22.567928Z",
     "iopub.status.idle": "2022-06-18T11:50:22.641696Z",
     "shell.execute_reply": "2022-06-18T11:50:22.640443Z"
    },
    "papermill": {
     "duration": 0.084414,
     "end_time": "2022-06-18T11:50:22.643193",
     "exception": false,
     "start_time": "2022-06-18T11:50:22.558779",
     "status": "completed"
    },
    "tags": []
   },
   "outputs": [
    {
     "data": {
      "text/html": [
       "'Matrix is already positive definite!'"
      ],
      "text/latex": [
       "'Matrix is already positive definite!'"
      ],
      "text/markdown": [
       "'Matrix is already positive definite!'"
      ],
      "text/plain": [
       "[1] \"Matrix is already positive definite!\""
      ]
     },
     "metadata": {},
     "output_type": "display_data"
    },
    {
     "data": {
      "text/html": [
       "TRUE"
      ],
      "text/latex": [
       "TRUE"
      ],
      "text/markdown": [
       "TRUE"
      ],
      "text/plain": [
       "[1] TRUE"
      ]
     },
     "metadata": {},
     "output_type": "display_data"
    }
   ],
   "source": [
    "is_positive_definite(gene_corrs_corrected)"
   ]
  },
  {
   "cell_type": "code",
   "execution_count": 27,
   "id": "06d23ab8-bebb-474c-be33-dca7e53c1717",
   "metadata": {
    "execution": {
     "iopub.execute_input": "2022-06-18T11:50:22.666545Z",
     "iopub.status.busy": "2022-06-18T11:50:22.665591Z",
     "iopub.status.idle": "2022-06-18T11:50:22.729974Z",
     "shell.execute_reply": "2022-06-18T11:50:22.727899Z"
    },
    "papermill": {
     "duration": 0.076884,
     "end_time": "2022-06-18T11:50:22.731535",
     "exception": false,
     "start_time": "2022-06-18T11:50:22.654651",
     "status": "completed"
    },
    "tags": []
   },
   "outputs": [],
   "source": [
    "# see eigenvalues\n",
    "eigenvalues <- eigen(gene_corrs_corrected)$values"
   ]
  },
  {
   "cell_type": "code",
   "execution_count": 28,
   "id": "ddf8afb8-e0e2-4b4e-876d-12bd6856c1ad",
   "metadata": {
    "execution": {
     "iopub.execute_input": "2022-06-18T11:50:22.747673Z",
     "iopub.status.busy": "2022-06-18T11:50:22.746634Z",
     "iopub.status.idle": "2022-06-18T11:50:22.776740Z",
     "shell.execute_reply": "2022-06-18T11:50:22.772925Z"
    },
    "papermill": {
     "duration": 0.039417,
     "end_time": "2022-06-18T11:50:22.778324",
     "exception": false,
     "start_time": "2022-06-18T11:50:22.738907",
     "status": "completed"
    },
    "tags": []
   },
   "outputs": [
    {
     "data": {
      "text/html": [
       "0"
      ],
      "text/latex": [
       "0"
      ],
      "text/markdown": [
       "0"
      ],
      "text/plain": [
       "[1] 0"
      ]
     },
     "metadata": {},
     "output_type": "display_data"
    },
    {
     "data": {
      "text/html": [],
      "text/latex": [],
      "text/markdown": [],
      "text/plain": [
       "numeric(0)"
      ]
     },
     "metadata": {},
     "output_type": "display_data"
    }
   ],
   "source": [
    "nonpositive_eigenvalues <- eigenvalues[eigenvalues <= 0]\n",
    "IRdisplay::display(length(nonpositive_eigenvalues))\n",
    "IRdisplay::display(nonpositive_eigenvalues)"
   ]
  },
  {
   "cell_type": "code",
   "execution_count": 29,
   "id": "712fd71a-b6ec-4a13-a956-80c99be7f585",
   "metadata": {
    "execution": {
     "iopub.execute_input": "2022-06-18T11:50:22.801889Z",
     "iopub.status.busy": "2022-06-18T11:50:22.800974Z",
     "iopub.status.idle": "2022-06-18T11:50:22.813185Z",
     "shell.execute_reply": "2022-06-18T11:50:22.811385Z"
    },
    "papermill": {
     "duration": 0.026577,
     "end_time": "2022-06-18T11:50:22.814738",
     "exception": false,
     "start_time": "2022-06-18T11:50:22.788161",
     "status": "completed"
    },
    "tags": []
   },
   "outputs": [],
   "source": [
    "stopifnot(length(eigenvalues[eigenvalues <= 0]) == 0)"
   ]
  },
  {
   "cell_type": "code",
   "execution_count": 30,
   "id": "786d6336-3844-40f7-979b-6d6028787f7f",
   "metadata": {
    "execution": {
     "iopub.execute_input": "2022-06-18T11:50:22.830398Z",
     "iopub.status.busy": "2022-06-18T11:50:22.829372Z",
     "iopub.status.idle": "2022-06-18T11:50:22.860548Z",
     "shell.execute_reply": "2022-06-18T11:50:22.859253Z"
    },
    "papermill": {
     "duration": 0.040635,
     "end_time": "2022-06-18T11:50:22.862399",
     "exception": false,
     "start_time": "2022-06-18T11:50:22.821764",
     "status": "completed"
    },
    "tags": []
   },
   "outputs": [
    {
     "data": {
      "text/html": [
       "<table class=\"dataframe\">\n",
       "<caption>A data.frame: 6 × 10</caption>\n",
       "<thead>\n",
       "\t<tr><th></th><th scope=col>ENSG00000120645</th><th scope=col>ENSG00000111181</th><th scope=col>ENSG00000171840</th><th scope=col>ENSG00000060237</th><th scope=col>ENSG00000002016</th><th scope=col>ENSG00000082805</th><th scope=col>ENSG00000111186</th><th scope=col>ENSG00000006831</th><th scope=col>ENSG00000151062</th><th scope=col>ENSG00000151065</th></tr>\n",
       "\t<tr><th></th><th scope=col>&lt;dbl&gt;</th><th scope=col>&lt;dbl&gt;</th><th scope=col>&lt;dbl&gt;</th><th scope=col>&lt;dbl&gt;</th><th scope=col>&lt;dbl&gt;</th><th scope=col>&lt;dbl&gt;</th><th scope=col>&lt;dbl&gt;</th><th scope=col>&lt;dbl&gt;</th><th scope=col>&lt;dbl&gt;</th><th scope=col>&lt;dbl&gt;</th></tr>\n",
       "</thead>\n",
       "<tbody>\n",
       "\t<tr><th scope=row>ENSG00000120645</th><td> 1.000000000</td><td>-0.049416899</td><td>-0.056575107</td><td> 0.048658608</td><td> 0.02922662</td><td> 0.000989973</td><td> 0.03911587</td><td>-0.04769783</td><td>-0.018081879</td><td>-0.068448015</td></tr>\n",
       "\t<tr><th scope=row>ENSG00000111181</th><td>-0.049416899</td><td> 1.000000000</td><td>-0.021797121</td><td> 0.005337499</td><td> 0.06554360</td><td>-0.024246285</td><td> 0.10982490</td><td>-0.05659368</td><td> 0.004522582</td><td>-0.012559306</td></tr>\n",
       "\t<tr><th scope=row>ENSG00000171840</th><td>-0.056575107</td><td>-0.021797121</td><td> 1.000000000</td><td>-0.009131751</td><td>-0.13907795</td><td>-0.074546131</td><td> 0.04276620</td><td> 0.11273593</td><td> 0.050262549</td><td>-0.007609613</td></tr>\n",
       "\t<tr><th scope=row>ENSG00000060237</th><td> 0.048658608</td><td> 0.005337499</td><td>-0.009131751</td><td> 1.000000000</td><td>-0.03916614</td><td> 0.023379811</td><td>-0.11364707</td><td>-0.02096805</td><td>-0.026575339</td><td> 0.029822830</td></tr>\n",
       "\t<tr><th scope=row>ENSG00000002016</th><td> 0.029226625</td><td> 0.065543598</td><td>-0.139077949</td><td>-0.039166141</td><td> 1.00000000</td><td> 0.021312729</td><td>-0.12037136</td><td>-0.05725021</td><td> 0.112585641</td><td> 0.056742248</td></tr>\n",
       "\t<tr><th scope=row>ENSG00000082805</th><td> 0.000989973</td><td>-0.024246285</td><td>-0.074546131</td><td> 0.023379811</td><td> 0.02131273</td><td> 1.000000000</td><td> 0.01840896</td><td>-0.06007252</td><td> 0.079096633</td><td> 0.052220807</td></tr>\n",
       "</tbody>\n",
       "</table>\n"
      ],
      "text/latex": [
       "A data.frame: 6 × 10\n",
       "\\begin{tabular}{r|llllllllll}\n",
       "  & ENSG00000120645 & ENSG00000111181 & ENSG00000171840 & ENSG00000060237 & ENSG00000002016 & ENSG00000082805 & ENSG00000111186 & ENSG00000006831 & ENSG00000151062 & ENSG00000151065\\\\\n",
       "  & <dbl> & <dbl> & <dbl> & <dbl> & <dbl> & <dbl> & <dbl> & <dbl> & <dbl> & <dbl>\\\\\n",
       "\\hline\n",
       "\tENSG00000120645 &  1.000000000 & -0.049416899 & -0.056575107 &  0.048658608 &  0.02922662 &  0.000989973 &  0.03911587 & -0.04769783 & -0.018081879 & -0.068448015\\\\\n",
       "\tENSG00000111181 & -0.049416899 &  1.000000000 & -0.021797121 &  0.005337499 &  0.06554360 & -0.024246285 &  0.10982490 & -0.05659368 &  0.004522582 & -0.012559306\\\\\n",
       "\tENSG00000171840 & -0.056575107 & -0.021797121 &  1.000000000 & -0.009131751 & -0.13907795 & -0.074546131 &  0.04276620 &  0.11273593 &  0.050262549 & -0.007609613\\\\\n",
       "\tENSG00000060237 &  0.048658608 &  0.005337499 & -0.009131751 &  1.000000000 & -0.03916614 &  0.023379811 & -0.11364707 & -0.02096805 & -0.026575339 &  0.029822830\\\\\n",
       "\tENSG00000002016 &  0.029226625 &  0.065543598 & -0.139077949 & -0.039166141 &  1.00000000 &  0.021312729 & -0.12037136 & -0.05725021 &  0.112585641 &  0.056742248\\\\\n",
       "\tENSG00000082805 &  0.000989973 & -0.024246285 & -0.074546131 &  0.023379811 &  0.02131273 &  1.000000000 &  0.01840896 & -0.06007252 &  0.079096633 &  0.052220807\\\\\n",
       "\\end{tabular}\n"
      ],
      "text/markdown": [
       "\n",
       "A data.frame: 6 × 10\n",
       "\n",
       "| <!--/--> | ENSG00000120645 &lt;dbl&gt; | ENSG00000111181 &lt;dbl&gt; | ENSG00000171840 &lt;dbl&gt; | ENSG00000060237 &lt;dbl&gt; | ENSG00000002016 &lt;dbl&gt; | ENSG00000082805 &lt;dbl&gt; | ENSG00000111186 &lt;dbl&gt; | ENSG00000006831 &lt;dbl&gt; | ENSG00000151062 &lt;dbl&gt; | ENSG00000151065 &lt;dbl&gt; |\n",
       "|---|---|---|---|---|---|---|---|---|---|---|\n",
       "| ENSG00000120645 |  1.000000000 | -0.049416899 | -0.056575107 |  0.048658608 |  0.02922662 |  0.000989973 |  0.03911587 | -0.04769783 | -0.018081879 | -0.068448015 |\n",
       "| ENSG00000111181 | -0.049416899 |  1.000000000 | -0.021797121 |  0.005337499 |  0.06554360 | -0.024246285 |  0.10982490 | -0.05659368 |  0.004522582 | -0.012559306 |\n",
       "| ENSG00000171840 | -0.056575107 | -0.021797121 |  1.000000000 | -0.009131751 | -0.13907795 | -0.074546131 |  0.04276620 |  0.11273593 |  0.050262549 | -0.007609613 |\n",
       "| ENSG00000060237 |  0.048658608 |  0.005337499 | -0.009131751 |  1.000000000 | -0.03916614 |  0.023379811 | -0.11364707 | -0.02096805 | -0.026575339 |  0.029822830 |\n",
       "| ENSG00000002016 |  0.029226625 |  0.065543598 | -0.139077949 | -0.039166141 |  1.00000000 |  0.021312729 | -0.12037136 | -0.05725021 |  0.112585641 |  0.056742248 |\n",
       "| ENSG00000082805 |  0.000989973 | -0.024246285 | -0.074546131 |  0.023379811 |  0.02131273 |  1.000000000 |  0.01840896 | -0.06007252 |  0.079096633 |  0.052220807 |\n",
       "\n"
      ],
      "text/plain": [
       "                ENSG00000120645 ENSG00000111181 ENSG00000171840 ENSG00000060237\n",
       "ENSG00000120645  1.000000000    -0.049416899    -0.056575107     0.048658608   \n",
       "ENSG00000111181 -0.049416899     1.000000000    -0.021797121     0.005337499   \n",
       "ENSG00000171840 -0.056575107    -0.021797121     1.000000000    -0.009131751   \n",
       "ENSG00000060237  0.048658608     0.005337499    -0.009131751     1.000000000   \n",
       "ENSG00000002016  0.029226625     0.065543598    -0.139077949    -0.039166141   \n",
       "ENSG00000082805  0.000989973    -0.024246285    -0.074546131     0.023379811   \n",
       "                ENSG00000002016 ENSG00000082805 ENSG00000111186 ENSG00000006831\n",
       "ENSG00000120645  0.02922662      0.000989973     0.03911587     -0.04769783    \n",
       "ENSG00000111181  0.06554360     -0.024246285     0.10982490     -0.05659368    \n",
       "ENSG00000171840 -0.13907795     -0.074546131     0.04276620      0.11273593    \n",
       "ENSG00000060237 -0.03916614      0.023379811    -0.11364707     -0.02096805    \n",
       "ENSG00000002016  1.00000000      0.021312729    -0.12037136     -0.05725021    \n",
       "ENSG00000082805  0.02131273      1.000000000     0.01840896     -0.06007252    \n",
       "                ENSG00000151062 ENSG00000151065\n",
       "ENSG00000120645 -0.018081879    -0.068448015   \n",
       "ENSG00000111181  0.004522582    -0.012559306   \n",
       "ENSG00000171840  0.050262549    -0.007609613   \n",
       "ENSG00000060237 -0.026575339     0.029822830   \n",
       "ENSG00000002016  0.112585641     0.056742248   \n",
       "ENSG00000082805  0.079096633     0.052220807   "
      ]
     },
     "metadata": {},
     "output_type": "display_data"
    },
    {
     "data": {
      "text/html": [
       "<table class=\"dataframe\">\n",
       "<caption>A data.frame: 6 × 10</caption>\n",
       "<thead>\n",
       "\t<tr><th></th><th scope=col>ENSG00000120645</th><th scope=col>ENSG00000111181</th><th scope=col>ENSG00000171840</th><th scope=col>ENSG00000060237</th><th scope=col>ENSG00000002016</th><th scope=col>ENSG00000082805</th><th scope=col>ENSG00000111186</th><th scope=col>ENSG00000006831</th><th scope=col>ENSG00000151062</th><th scope=col>ENSG00000151065</th></tr>\n",
       "\t<tr><th></th><th scope=col>&lt;dbl&gt;</th><th scope=col>&lt;dbl&gt;</th><th scope=col>&lt;dbl&gt;</th><th scope=col>&lt;dbl&gt;</th><th scope=col>&lt;dbl&gt;</th><th scope=col>&lt;dbl&gt;</th><th scope=col>&lt;dbl&gt;</th><th scope=col>&lt;dbl&gt;</th><th scope=col>&lt;dbl&gt;</th><th scope=col>&lt;dbl&gt;</th></tr>\n",
       "</thead>\n",
       "<tbody>\n",
       "\t<tr><th scope=row>ENSG00000120645</th><td> 1.00000000</td><td>-0.005444680</td><td>-0.02489953</td><td> 0.010450514</td><td> 0.018177695</td><td> 0.011039772</td><td> 0.01242243</td><td>-0.04305986</td><td>-0.022686539</td><td>-0.031379025</td></tr>\n",
       "\t<tr><th scope=row>ENSG00000111181</th><td>-0.00544468</td><td> 1.000000000</td><td>-0.01209668</td><td>-0.040424638</td><td> 0.030789176</td><td>-0.001935039</td><td> 0.04153581</td><td>-0.01872605</td><td>-0.003911105</td><td> 0.014576503</td></tr>\n",
       "\t<tr><th scope=row>ENSG00000171840</th><td>-0.02489953</td><td>-0.012096682</td><td> 1.00000000</td><td>-0.017831006</td><td>-0.079905304</td><td>-0.048398897</td><td> 0.03334152</td><td> 0.07425710</td><td> 0.020306092</td><td>-0.024292982</td></tr>\n",
       "\t<tr><th scope=row>ENSG00000060237</th><td> 0.01045051</td><td>-0.040424638</td><td>-0.01783101</td><td> 1.000000000</td><td> 0.004035556</td><td> 0.001755507</td><td>-0.04831061</td><td>-0.02612281</td><td>-0.027971074</td><td> 0.008633825</td></tr>\n",
       "\t<tr><th scope=row>ENSG00000002016</th><td> 0.01817770</td><td> 0.030789176</td><td>-0.07990530</td><td> 0.004035556</td><td> 1.000000000</td><td> 0.026340178</td><td>-0.04927355</td><td>-0.04255480</td><td> 0.038055594</td><td> 0.037793600</td></tr>\n",
       "\t<tr><th scope=row>ENSG00000082805</th><td> 0.01103977</td><td>-0.001935039</td><td>-0.04839890</td><td> 0.001755507</td><td> 0.026340178</td><td> 1.000000000</td><td> 0.02119234</td><td>-0.02699893</td><td> 0.005606310</td><td> 0.032120609</td></tr>\n",
       "</tbody>\n",
       "</table>\n"
      ],
      "text/latex": [
       "A data.frame: 6 × 10\n",
       "\\begin{tabular}{r|llllllllll}\n",
       "  & ENSG00000120645 & ENSG00000111181 & ENSG00000171840 & ENSG00000060237 & ENSG00000002016 & ENSG00000082805 & ENSG00000111186 & ENSG00000006831 & ENSG00000151062 & ENSG00000151065\\\\\n",
       "  & <dbl> & <dbl> & <dbl> & <dbl> & <dbl> & <dbl> & <dbl> & <dbl> & <dbl> & <dbl>\\\\\n",
       "\\hline\n",
       "\tENSG00000120645 &  1.00000000 & -0.005444680 & -0.02489953 &  0.010450514 &  0.018177695 &  0.011039772 &  0.01242243 & -0.04305986 & -0.022686539 & -0.031379025\\\\\n",
       "\tENSG00000111181 & -0.00544468 &  1.000000000 & -0.01209668 & -0.040424638 &  0.030789176 & -0.001935039 &  0.04153581 & -0.01872605 & -0.003911105 &  0.014576503\\\\\n",
       "\tENSG00000171840 & -0.02489953 & -0.012096682 &  1.00000000 & -0.017831006 & -0.079905304 & -0.048398897 &  0.03334152 &  0.07425710 &  0.020306092 & -0.024292982\\\\\n",
       "\tENSG00000060237 &  0.01045051 & -0.040424638 & -0.01783101 &  1.000000000 &  0.004035556 &  0.001755507 & -0.04831061 & -0.02612281 & -0.027971074 &  0.008633825\\\\\n",
       "\tENSG00000002016 &  0.01817770 &  0.030789176 & -0.07990530 &  0.004035556 &  1.000000000 &  0.026340178 & -0.04927355 & -0.04255480 &  0.038055594 &  0.037793600\\\\\n",
       "\tENSG00000082805 &  0.01103977 & -0.001935039 & -0.04839890 &  0.001755507 &  0.026340178 &  1.000000000 &  0.02119234 & -0.02699893 &  0.005606310 &  0.032120609\\\\\n",
       "\\end{tabular}\n"
      ],
      "text/markdown": [
       "\n",
       "A data.frame: 6 × 10\n",
       "\n",
       "| <!--/--> | ENSG00000120645 &lt;dbl&gt; | ENSG00000111181 &lt;dbl&gt; | ENSG00000171840 &lt;dbl&gt; | ENSG00000060237 &lt;dbl&gt; | ENSG00000002016 &lt;dbl&gt; | ENSG00000082805 &lt;dbl&gt; | ENSG00000111186 &lt;dbl&gt; | ENSG00000006831 &lt;dbl&gt; | ENSG00000151062 &lt;dbl&gt; | ENSG00000151065 &lt;dbl&gt; |\n",
       "|---|---|---|---|---|---|---|---|---|---|---|\n",
       "| ENSG00000120645 |  1.00000000 | -0.005444680 | -0.02489953 |  0.010450514 |  0.018177695 |  0.011039772 |  0.01242243 | -0.04305986 | -0.022686539 | -0.031379025 |\n",
       "| ENSG00000111181 | -0.00544468 |  1.000000000 | -0.01209668 | -0.040424638 |  0.030789176 | -0.001935039 |  0.04153581 | -0.01872605 | -0.003911105 |  0.014576503 |\n",
       "| ENSG00000171840 | -0.02489953 | -0.012096682 |  1.00000000 | -0.017831006 | -0.079905304 | -0.048398897 |  0.03334152 |  0.07425710 |  0.020306092 | -0.024292982 |\n",
       "| ENSG00000060237 |  0.01045051 | -0.040424638 | -0.01783101 |  1.000000000 |  0.004035556 |  0.001755507 | -0.04831061 | -0.02612281 | -0.027971074 |  0.008633825 |\n",
       "| ENSG00000002016 |  0.01817770 |  0.030789176 | -0.07990530 |  0.004035556 |  1.000000000 |  0.026340178 | -0.04927355 | -0.04255480 |  0.038055594 |  0.037793600 |\n",
       "| ENSG00000082805 |  0.01103977 | -0.001935039 | -0.04839890 |  0.001755507 |  0.026340178 |  1.000000000 |  0.02119234 | -0.02699893 |  0.005606310 |  0.032120609 |\n",
       "\n"
      ],
      "text/plain": [
       "                ENSG00000120645 ENSG00000111181 ENSG00000171840 ENSG00000060237\n",
       "ENSG00000120645  1.00000000     -0.005444680    -0.02489953      0.010450514   \n",
       "ENSG00000111181 -0.00544468      1.000000000    -0.01209668     -0.040424638   \n",
       "ENSG00000171840 -0.02489953     -0.012096682     1.00000000     -0.017831006   \n",
       "ENSG00000060237  0.01045051     -0.040424638    -0.01783101      1.000000000   \n",
       "ENSG00000002016  0.01817770      0.030789176    -0.07990530      0.004035556   \n",
       "ENSG00000082805  0.01103977     -0.001935039    -0.04839890      0.001755507   \n",
       "                ENSG00000002016 ENSG00000082805 ENSG00000111186 ENSG00000006831\n",
       "ENSG00000120645  0.018177695     0.011039772     0.01242243     -0.04305986    \n",
       "ENSG00000111181  0.030789176    -0.001935039     0.04153581     -0.01872605    \n",
       "ENSG00000171840 -0.079905304    -0.048398897     0.03334152      0.07425710    \n",
       "ENSG00000060237  0.004035556     0.001755507    -0.04831061     -0.02612281    \n",
       "ENSG00000002016  1.000000000     0.026340178    -0.04927355     -0.04255480    \n",
       "ENSG00000082805  0.026340178     1.000000000     0.02119234     -0.02699893    \n",
       "                ENSG00000151062 ENSG00000151065\n",
       "ENSG00000120645 -0.022686539    -0.031379025   \n",
       "ENSG00000111181 -0.003911105     0.014576503   \n",
       "ENSG00000171840  0.020306092    -0.024292982   \n",
       "ENSG00000060237 -0.027971074     0.008633825   \n",
       "ENSG00000002016  0.038055594     0.037793600   \n",
       "ENSG00000082805  0.005606310     0.032120609   "
      ]
     },
     "metadata": {},
     "output_type": "display_data"
    }
   ],
   "source": [
    "# quick and visual comparison of the two matrices\n",
    "IRdisplay::display(head(gene_corrs[1:10, 1:10]))\n",
    "IRdisplay::display(head(gene_corrs_corrected[1:10, 1:10]))"
   ]
  },
  {
   "cell_type": "markdown",
   "id": "c6c40f1a-d153-475a-94eb-c71697ad9d51",
   "metadata": {
    "papermill": {
     "duration": 0.008246,
     "end_time": "2022-06-18T11:50:22.879421",
     "exception": false,
     "start_time": "2022-06-18T11:50:22.871175",
     "status": "completed"
    },
    "tags": []
   },
   "source": [
    "Both matrices should \"look\" similar. We are not interested in perfectly accurate correlation values (they are already inaccurate)."
   ]
  },
  {
   "cell_type": "markdown",
   "id": "bf0f49cb-9c21-4616-8390-bb68d52dae56",
   "metadata": {
    "papermill": {
     "duration": 0.007964,
     "end_time": "2022-06-18T11:50:22.895835",
     "exception": false,
     "start_time": "2022-06-18T11:50:22.887871",
     "status": "completed"
    },
    "tags": []
   },
   "source": [
    "# Save"
   ]
  },
  {
   "cell_type": "code",
   "execution_count": 31,
   "id": "2e58e7f3-a75c-4195-a20e-39e3e3e1cc9a",
   "metadata": {
    "execution": {
     "iopub.execute_input": "2022-06-18T11:50:22.913371Z",
     "iopub.status.busy": "2022-06-18T11:50:22.912326Z",
     "iopub.status.idle": "2022-06-18T11:50:22.940584Z",
     "shell.execute_reply": "2022-06-18T11:50:22.939365Z"
    },
    "papermill": {
     "duration": 0.038872,
     "end_time": "2022-06-18T11:50:22.942499",
     "exception": false,
     "start_time": "2022-06-18T11:50:22.903627",
     "status": "completed"
    },
    "tags": []
   },
   "outputs": [],
   "source": [
    "py_save_object(gene_corrs_corrected, OUTPUT_FILE)"
   ]
  },
  {
   "cell_type": "code",
   "execution_count": null,
   "id": "d8ae4220-2171-460c-9231-cd5219f3fe77",
   "metadata": {
    "papermill": {
     "duration": 0.008685,
     "end_time": "2022-06-18T11:50:22.959547",
     "exception": false,
     "start_time": "2022-06-18T11:50:22.950862",
     "status": "completed"
    },
    "tags": []
   },
   "outputs": [],
   "source": []
  }
 ],
 "metadata": {
  "jupytext": {
   "cell_metadata_filter": "all,-execution,-papermill,-trusted"
  },
  "kernelspec": {
   "display_name": "R",
   "language": "R",
   "name": "ir"
  },
  "language_info": {
   "codemirror_mode": "r",
   "file_extension": ".r",
   "mimetype": "text/x-r-source",
   "name": "R",
   "pygments_lexer": "r",
   "version": "3.6.3"
  },
  "papermill": {
   "default_parameters": {},
   "duration": 6.79341,
   "end_time": "2022-06-18T11:50:23.085375",
   "environment_variables": {},
   "exception": null,
   "input_path": "nbs/15_gsa_gls/12-gene_expr_correlations-adjust.ipynb",
   "output_path": "nbs/15_gsa_gls/gene_corrs/gtex_v8/mashr/12-gene_expr_correlations-adjust-chr12.run.ipynb",
   "parameters": {
    "EQTL_MODEL": "MASHR",
    "REFERENCE_PANEL": "GTEX_V8",
    "chromosome": 12
   },
   "start_time": "2022-06-18T11:50:16.291965",
   "version": "2.3.4"
  }
 },
 "nbformat": 4,
 "nbformat_minor": 5
}
