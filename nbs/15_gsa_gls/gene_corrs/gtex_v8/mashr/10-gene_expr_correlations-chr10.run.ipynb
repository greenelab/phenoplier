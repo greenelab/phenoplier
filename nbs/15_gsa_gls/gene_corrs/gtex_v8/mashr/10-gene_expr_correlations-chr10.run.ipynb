{
 "cells": [
  {
   "cell_type": "markdown",
   "id": "7a6632fb",
   "metadata": {
    "papermill": {
     "duration": 0.006672,
     "end_time": "2022-06-16T08:06:08.467043",
     "exception": false,
     "start_time": "2022-06-16T08:06:08.460371",
     "status": "completed"
    },
    "tags": []
   },
   "source": [
    "# Description"
   ]
  },
  {
   "cell_type": "markdown",
   "id": "7097c346",
   "metadata": {
    "papermill": {
     "duration": 0.005778,
     "end_time": "2022-06-16T08:06:08.478688",
     "exception": false,
     "start_time": "2022-06-16T08:06:08.472910",
     "status": "completed"
    },
    "tags": []
   },
   "source": [
    "(Please, take a look at the README.md file in this directory for instructions on how to run this notebook)\n",
    "\n",
    "This notebook computes predicted expression correlations between all genes in the MultiPLIER models.\n",
    "\n",
    "It also has a parameter set for papermill to run on a single chromosome to run in parallel (see under `Settings` below).\n",
    "\n",
    "This notebook is not directly run. See README.md."
   ]
  },
  {
   "cell_type": "markdown",
   "id": "c61d8427",
   "metadata": {
    "papermill": {
     "duration": 0.005736,
     "end_time": "2022-06-16T08:06:08.490208",
     "exception": false,
     "start_time": "2022-06-16T08:06:08.484472",
     "status": "completed"
    },
    "tags": []
   },
   "source": [
    "# Modules"
   ]
  },
  {
   "cell_type": "code",
   "execution_count": 1,
   "id": "bbc0234f",
   "metadata": {
    "execution": {
     "iopub.execute_input": "2022-06-16T08:06:08.503232Z",
     "iopub.status.busy": "2022-06-16T08:06:08.503011Z",
     "iopub.status.idle": "2022-06-16T08:06:08.521135Z",
     "shell.execute_reply": "2022-06-16T08:06:08.520662Z"
    },
    "papermill": {
     "duration": 0.026929,
     "end_time": "2022-06-16T08:06:08.522906",
     "exception": false,
     "start_time": "2022-06-16T08:06:08.495977",
     "status": "completed"
    },
    "tags": []
   },
   "outputs": [],
   "source": [
    "%load_ext autoreload\n",
    "%autoreload 2"
   ]
  },
  {
   "cell_type": "code",
   "execution_count": 2,
   "id": "1d5f5a59",
   "metadata": {
    "execution": {
     "iopub.execute_input": "2022-06-16T08:06:08.537110Z",
     "iopub.status.busy": "2022-06-16T08:06:08.536682Z",
     "iopub.status.idle": "2022-06-16T08:06:09.632730Z",
     "shell.execute_reply": "2022-06-16T08:06:09.632206Z"
    },
    "papermill": {
     "duration": 1.105335,
     "end_time": "2022-06-16T08:06:09.634679",
     "exception": false,
     "start_time": "2022-06-16T08:06:08.529344",
     "status": "completed"
    },
    "tags": []
   },
   "outputs": [],
   "source": [
    "from random import sample\n",
    "import warnings\n",
    "\n",
    "import numpy as np\n",
    "from scipy.spatial.distance import squareform\n",
    "import pandas as pd\n",
    "from tqdm import tqdm\n",
    "import matplotlib.pyplot as plt\n",
    "import seaborn as sns\n",
    "\n",
    "import conf\n",
    "from entity import Gene"
   ]
  },
  {
   "cell_type": "markdown",
   "id": "1eac24b5",
   "metadata": {
    "papermill": {
     "duration": 0.006515,
     "end_time": "2022-06-16T08:06:09.678247",
     "exception": false,
     "start_time": "2022-06-16T08:06:09.671732",
     "status": "completed"
    },
    "tags": []
   },
   "source": [
    "# Settings"
   ]
  },
  {
   "cell_type": "code",
   "execution_count": 3,
   "id": "ca4560ba",
   "metadata": {
    "execution": {
     "iopub.execute_input": "2022-06-16T08:06:09.692303Z",
     "iopub.status.busy": "2022-06-16T08:06:09.692103Z",
     "iopub.status.idle": "2022-06-16T08:06:09.711397Z",
     "shell.execute_reply": "2022-06-16T08:06:09.710893Z"
    },
    "papermill": {
     "duration": 0.028271,
     "end_time": "2022-06-16T08:06:09.713115",
     "exception": false,
     "start_time": "2022-06-16T08:06:09.684844",
     "status": "completed"
    },
    "tags": [
     "parameters"
    ]
   },
   "outputs": [],
   "source": [
    "# reference panel\n",
    "REFERENCE_PANEL = \"GTEX_V8\"\n",
    "# REFERENCE_PANEL = \"1000G\"\n",
    "\n",
    "# prediction models\n",
    "## mashr\n",
    "EQTL_MODEL = \"MASHR\"\n",
    "EQTL_MODEL_FILES_PREFIX = \"mashr_\"\n",
    "\n",
    "# ## elastic net\n",
    "# EQTL_MODEL = \"ELASTIC_NET\"\n",
    "# EQTL_MODEL_FILES_PREFIX = \"en_\"\n",
    "\n",
    "# make it read the prefix from conf.py\n",
    "EQTL_MODEL_FILES_PREFIX = None\n",
    "\n",
    "# this is the default value used in S-MultiXcan to select the\n",
    "# top principal components of the expression correlation matrix\n",
    "SMULTIXCAN_CONDITION_NUMBER = 30\n",
    "\n",
    "# specifies a single chromosome value\n",
    "# by default, run on all chromosomes\n",
    "chromosome = None"
   ]
  },
  {
   "cell_type": "code",
   "execution_count": 4,
   "id": "7deb48eb",
   "metadata": {
    "execution": {
     "iopub.execute_input": "2022-06-16T08:06:09.727938Z",
     "iopub.status.busy": "2022-06-16T08:06:09.727742Z",
     "iopub.status.idle": "2022-06-16T08:06:09.746241Z",
     "shell.execute_reply": "2022-06-16T08:06:09.745706Z"
    },
    "papermill": {
     "duration": 0.02737,
     "end_time": "2022-06-16T08:06:09.747752",
     "exception": false,
     "start_time": "2022-06-16T08:06:09.720382",
     "status": "completed"
    },
    "tags": [
     "injected-parameters"
    ]
   },
   "outputs": [],
   "source": [
    "# Parameters\n",
    "chromosome = 10\n",
    "REFERENCE_PANEL = \"GTEX_V8\"\n",
    "EQTL_MODEL = \"MASHR\"\n"
   ]
  },
  {
   "cell_type": "code",
   "execution_count": 5,
   "id": "a089c9ff",
   "metadata": {
    "execution": {
     "iopub.execute_input": "2022-06-16T08:06:09.761662Z",
     "iopub.status.busy": "2022-06-16T08:06:09.761465Z",
     "iopub.status.idle": "2022-06-16T08:06:09.779428Z",
     "shell.execute_reply": "2022-06-16T08:06:09.778943Z"
    },
    "papermill": {
     "duration": 0.026448,
     "end_time": "2022-06-16T08:06:09.780946",
     "exception": false,
     "start_time": "2022-06-16T08:06:09.754498",
     "status": "completed"
    },
    "tags": []
   },
   "outputs": [],
   "source": [
    "if EQTL_MODEL_FILES_PREFIX is None:\n",
    "    EQTL_MODEL_FILES_PREFIX = conf.PHENOMEXCAN[\"PREDICTION_MODELS\"][\n",
    "        f\"{EQTL_MODEL}_PREFIX\"\n",
    "    ]"
   ]
  },
  {
   "cell_type": "code",
   "execution_count": 6,
   "id": "8fe24bef",
   "metadata": {
    "execution": {
     "iopub.execute_input": "2022-06-16T08:06:09.796420Z",
     "iopub.status.busy": "2022-06-16T08:06:09.795171Z",
     "iopub.status.idle": "2022-06-16T08:06:09.837967Z",
     "shell.execute_reply": "2022-06-16T08:06:09.837517Z"
    },
    "papermill": {
     "duration": 0.051749,
     "end_time": "2022-06-16T08:06:09.839556",
     "exception": false,
     "start_time": "2022-06-16T08:06:09.787807",
     "status": "completed"
    },
    "tags": []
   },
   "outputs": [
    {
     "data": {
      "text/plain": [
       "'Using eQTL model: MASHR / mashr_'"
      ]
     },
     "metadata": {},
     "output_type": "display_data"
    }
   ],
   "source": [
    "display(f\"Using eQTL model: {EQTL_MODEL} / {EQTL_MODEL_FILES_PREFIX}\")"
   ]
  },
  {
   "cell_type": "code",
   "execution_count": 7,
   "id": "0230ebcb-2c32-4b95-9292-d9a52038e70d",
   "metadata": {
    "execution": {
     "iopub.execute_input": "2022-06-16T08:06:09.854197Z",
     "iopub.status.busy": "2022-06-16T08:06:09.853732Z",
     "iopub.status.idle": "2022-06-16T08:06:09.871622Z",
     "shell.execute_reply": "2022-06-16T08:06:09.871154Z"
    },
    "papermill": {
     "duration": 0.026798,
     "end_time": "2022-06-16T08:06:09.873169",
     "exception": false,
     "start_time": "2022-06-16T08:06:09.846371",
     "status": "completed"
    },
    "tags": []
   },
   "outputs": [],
   "source": [
    "REFERENCE_PANEL_DIR = conf.PHENOMEXCAN[\"LD_BLOCKS\"][f\"{REFERENCE_PANEL}_GENOTYPE_DIR\"]"
   ]
  },
  {
   "cell_type": "code",
   "execution_count": 8,
   "id": "98c4a159-601d-4a22-a1ab-35bd451c25f9",
   "metadata": {
    "execution": {
     "iopub.execute_input": "2022-06-16T08:06:09.887680Z",
     "iopub.status.busy": "2022-06-16T08:06:09.887201Z",
     "iopub.status.idle": "2022-06-16T08:06:09.906980Z",
     "shell.execute_reply": "2022-06-16T08:06:09.906508Z"
    },
    "papermill": {
     "duration": 0.02866,
     "end_time": "2022-06-16T08:06:09.908582",
     "exception": false,
     "start_time": "2022-06-16T08:06:09.879922",
     "status": "completed"
    },
    "tags": []
   },
   "outputs": [
    {
     "data": {
      "text/plain": [
       "'Using reference panel folder: /opt/data/data/phenomexcan/ld_blocks/reference_panel_gtex_v8'"
      ]
     },
     "metadata": {},
     "output_type": "display_data"
    }
   ],
   "source": [
    "display(f\"Using reference panel folder: {str(REFERENCE_PANEL_DIR)}\")"
   ]
  },
  {
   "cell_type": "code",
   "execution_count": 9,
   "id": "396392dc-0340-4540-9b02-e182b833f909",
   "metadata": {
    "execution": {
     "iopub.execute_input": "2022-06-16T08:06:09.923375Z",
     "iopub.status.busy": "2022-06-16T08:06:09.922821Z",
     "iopub.status.idle": "2022-06-16T08:06:09.941416Z",
     "shell.execute_reply": "2022-06-16T08:06:09.940926Z"
    },
    "papermill": {
     "duration": 0.027716,
     "end_time": "2022-06-16T08:06:09.943120",
     "exception": false,
     "start_time": "2022-06-16T08:06:09.915404",
     "status": "completed"
    },
    "tags": []
   },
   "outputs": [],
   "source": [
    "OUTPUT_DIR_BASE = (\n",
    "    conf.PHENOMEXCAN[\"LD_BLOCKS\"][f\"GENE_CORRS_DIR\"]\n",
    "    / REFERENCE_PANEL.lower()\n",
    "    / EQTL_MODEL.lower()\n",
    ")\n",
    "OUTPUT_DIR_BASE.mkdir(parents=True, exist_ok=True)"
   ]
  },
  {
   "cell_type": "code",
   "execution_count": 10,
   "id": "8942c2d3-e53c-4d63-a0eb-b6fce0574d36",
   "metadata": {
    "execution": {
     "iopub.execute_input": "2022-06-16T08:06:09.957998Z",
     "iopub.status.busy": "2022-06-16T08:06:09.957420Z",
     "iopub.status.idle": "2022-06-16T08:06:09.977442Z",
     "shell.execute_reply": "2022-06-16T08:06:09.976845Z"
    },
    "papermill": {
     "duration": 0.029076,
     "end_time": "2022-06-16T08:06:09.979129",
     "exception": false,
     "start_time": "2022-06-16T08:06:09.950053",
     "status": "completed"
    },
    "tags": []
   },
   "outputs": [
    {
     "data": {
      "text/plain": [
       "'Using output dir base: /opt/data/data/phenomexcan/ld_blocks/gene_corrs/gtex_v8/mashr'"
      ]
     },
     "metadata": {},
     "output_type": "display_data"
    }
   ],
   "source": [
    "display(f\"Using output dir base: {OUTPUT_DIR_BASE}\")"
   ]
  },
  {
   "cell_type": "code",
   "execution_count": 11,
   "id": "408aa590",
   "metadata": {
    "execution": {
     "iopub.execute_input": "2022-06-16T08:06:09.994342Z",
     "iopub.status.busy": "2022-06-16T08:06:09.993632Z",
     "iopub.status.idle": "2022-06-16T08:06:10.012027Z",
     "shell.execute_reply": "2022-06-16T08:06:10.011535Z"
    },
    "papermill": {
     "duration": 0.027513,
     "end_time": "2022-06-16T08:06:10.013710",
     "exception": false,
     "start_time": "2022-06-16T08:06:09.986197",
     "status": "completed"
    },
    "tags": []
   },
   "outputs": [],
   "source": [
    "assert (\n",
    "    chromosome is not None\n",
    "), \"You have to select one chromosome (format: number between 1 and 22)\""
   ]
  },
  {
   "cell_type": "code",
   "execution_count": 12,
   "id": "c1c7dd06-80ff-453c-bcb7-0899edce75da",
   "metadata": {
    "execution": {
     "iopub.execute_input": "2022-06-16T08:06:10.028877Z",
     "iopub.status.busy": "2022-06-16T08:06:10.028307Z",
     "iopub.status.idle": "2022-06-16T08:06:10.046315Z",
     "shell.execute_reply": "2022-06-16T08:06:10.045847Z"
    },
    "papermill": {
     "duration": 0.027179,
     "end_time": "2022-06-16T08:06:10.047975",
     "exception": false,
     "start_time": "2022-06-16T08:06:10.020796",
     "status": "completed"
    },
    "tags": []
   },
   "outputs": [],
   "source": [
    "chromosome = str(chromosome)"
   ]
  },
  {
   "cell_type": "code",
   "execution_count": 13,
   "id": "bc17b84c-9c26-47a5-a3ab-7046e72f3ef4",
   "metadata": {
    "execution": {
     "iopub.execute_input": "2022-06-16T08:06:10.063228Z",
     "iopub.status.busy": "2022-06-16T08:06:10.062667Z",
     "iopub.status.idle": "2022-06-16T08:06:10.082638Z",
     "shell.execute_reply": "2022-06-16T08:06:10.082151Z"
    },
    "papermill": {
     "duration": 0.029166,
     "end_time": "2022-06-16T08:06:10.084304",
     "exception": false,
     "start_time": "2022-06-16T08:06:10.055138",
     "status": "completed"
    },
    "tags": []
   },
   "outputs": [
    {
     "data": {
      "text/plain": [
       "'Working on chromosome 10'"
      ]
     },
     "metadata": {},
     "output_type": "display_data"
    }
   ],
   "source": [
    "display(f\"Working on chromosome {chromosome}\")"
   ]
  },
  {
   "cell_type": "markdown",
   "id": "d2ba085e",
   "metadata": {
    "papermill": {
     "duration": 0.006696,
     "end_time": "2022-06-16T08:06:10.098445",
     "exception": false,
     "start_time": "2022-06-16T08:06:10.091749",
     "status": "completed"
    },
    "tags": []
   },
   "source": [
    "# Load data"
   ]
  },
  {
   "cell_type": "markdown",
   "id": "abcc4b3d",
   "metadata": {
    "papermill": {
     "duration": 0.006706,
     "end_time": "2022-06-16T08:06:10.112618",
     "exception": false,
     "start_time": "2022-06-16T08:06:10.105912",
     "status": "completed"
    },
    "tags": []
   },
   "source": [
    "## MultiPLIER Z"
   ]
  },
  {
   "cell_type": "code",
   "execution_count": 14,
   "id": "c48ef527",
   "metadata": {
    "execution": {
     "iopub.execute_input": "2022-06-16T08:06:10.130611Z",
     "iopub.status.busy": "2022-06-16T08:06:10.130406Z",
     "iopub.status.idle": "2022-06-16T08:06:10.178207Z",
     "shell.execute_reply": "2022-06-16T08:06:10.177695Z"
    },
    "papermill": {
     "duration": 0.057038,
     "end_time": "2022-06-16T08:06:10.180012",
     "exception": false,
     "start_time": "2022-06-16T08:06:10.122974",
     "status": "completed"
    },
    "tags": []
   },
   "outputs": [],
   "source": [
    "multiplier_z_genes = pd.read_pickle(\n",
    "    conf.MULTIPLIER[\"MODEL_Z_MATRIX_FILE\"]\n",
    ").index.tolist()"
   ]
  },
  {
   "cell_type": "code",
   "execution_count": 15,
   "id": "0a4ecbd9",
   "metadata": {
    "execution": {
     "iopub.execute_input": "2022-06-16T08:06:10.195648Z",
     "iopub.status.busy": "2022-06-16T08:06:10.195460Z",
     "iopub.status.idle": "2022-06-16T08:06:10.216250Z",
     "shell.execute_reply": "2022-06-16T08:06:10.215749Z"
    },
    "papermill": {
     "duration": 0.03052,
     "end_time": "2022-06-16T08:06:10.217968",
     "exception": false,
     "start_time": "2022-06-16T08:06:10.187448",
     "status": "completed"
    },
    "tags": []
   },
   "outputs": [
    {
     "data": {
      "text/plain": [
       "6750"
      ]
     },
     "execution_count": 15,
     "metadata": {},
     "output_type": "execute_result"
    }
   ],
   "source": [
    "len(multiplier_z_genes)"
   ]
  },
  {
   "cell_type": "code",
   "execution_count": 16,
   "id": "115e8864",
   "metadata": {
    "execution": {
     "iopub.execute_input": "2022-06-16T08:06:10.233972Z",
     "iopub.status.busy": "2022-06-16T08:06:10.233785Z",
     "iopub.status.idle": "2022-06-16T08:06:10.254608Z",
     "shell.execute_reply": "2022-06-16T08:06:10.254091Z"
    },
    "papermill": {
     "duration": 0.030487,
     "end_time": "2022-06-16T08:06:10.256307",
     "exception": false,
     "start_time": "2022-06-16T08:06:10.225820",
     "status": "completed"
    },
    "tags": []
   },
   "outputs": [
    {
     "data": {
      "text/plain": [
       "['GAS6',\n",
       " 'MMP14',\n",
       " 'DSP',\n",
       " 'MARCKSL1',\n",
       " 'SPARC',\n",
       " 'CTSD',\n",
       " 'EPAS1',\n",
       " 'PALLD',\n",
       " 'PHC2',\n",
       " 'LGALS3BP']"
      ]
     },
     "execution_count": 16,
     "metadata": {},
     "output_type": "execute_result"
    }
   ],
   "source": [
    "multiplier_z_genes[:10]"
   ]
  },
  {
   "cell_type": "markdown",
   "id": "7dcb8db7",
   "metadata": {
    "papermill": {
     "duration": 0.00707,
     "end_time": "2022-06-16T08:06:10.271275",
     "exception": false,
     "start_time": "2022-06-16T08:06:10.264205",
     "status": "completed"
    },
    "tags": []
   },
   "source": [
    "## Get gene objects"
   ]
  },
  {
   "cell_type": "code",
   "execution_count": 17,
   "id": "bb932812",
   "metadata": {
    "execution": {
     "iopub.execute_input": "2022-06-16T08:06:10.287479Z",
     "iopub.status.busy": "2022-06-16T08:06:10.287303Z",
     "iopub.status.idle": "2022-06-16T08:06:10.312609Z",
     "shell.execute_reply": "2022-06-16T08:06:10.312120Z"
    },
    "papermill": {
     "duration": 0.034801,
     "end_time": "2022-06-16T08:06:10.314388",
     "exception": false,
     "start_time": "2022-06-16T08:06:10.279587",
     "status": "completed"
    },
    "tags": []
   },
   "outputs": [],
   "source": [
    "multiplier_gene_obj = {\n",
    "    gene_name: Gene(name=gene_name)\n",
    "    for gene_name in multiplier_z_genes\n",
    "    if gene_name in Gene.GENE_NAME_TO_ID_MAP\n",
    "}"
   ]
  },
  {
   "cell_type": "code",
   "execution_count": 18,
   "id": "39533214",
   "metadata": {
    "execution": {
     "iopub.execute_input": "2022-06-16T08:06:10.344472Z",
     "iopub.status.busy": "2022-06-16T08:06:10.344301Z",
     "iopub.status.idle": "2022-06-16T08:06:10.368140Z",
     "shell.execute_reply": "2022-06-16T08:06:10.367675Z"
    },
    "papermill": {
     "duration": 0.039871,
     "end_time": "2022-06-16T08:06:10.369690",
     "exception": false,
     "start_time": "2022-06-16T08:06:10.329819",
     "status": "completed"
    },
    "tags": []
   },
   "outputs": [
    {
     "data": {
      "text/plain": [
       "6454"
      ]
     },
     "execution_count": 18,
     "metadata": {},
     "output_type": "execute_result"
    }
   ],
   "source": [
    "len(multiplier_gene_obj)"
   ]
  },
  {
   "cell_type": "code",
   "execution_count": 19,
   "id": "9a5d0b84",
   "metadata": {
    "execution": {
     "iopub.execute_input": "2022-06-16T08:06:10.385265Z",
     "iopub.status.busy": "2022-06-16T08:06:10.384795Z",
     "iopub.status.idle": "2022-06-16T08:06:10.404002Z",
     "shell.execute_reply": "2022-06-16T08:06:10.403520Z"
    },
    "papermill": {
     "duration": 0.028668,
     "end_time": "2022-06-16T08:06:10.405777",
     "exception": false,
     "start_time": "2022-06-16T08:06:10.377109",
     "status": "completed"
    },
    "tags": []
   },
   "outputs": [
    {
     "data": {
      "text/plain": [
       "'ENSG00000183087'"
      ]
     },
     "execution_count": 19,
     "metadata": {},
     "output_type": "execute_result"
    }
   ],
   "source": [
    "multiplier_gene_obj[\"GAS6\"].ensembl_id"
   ]
  },
  {
   "cell_type": "code",
   "execution_count": 20,
   "id": "e3ffabc7",
   "metadata": {
    "execution": {
     "iopub.execute_input": "2022-06-16T08:06:10.421478Z",
     "iopub.status.busy": "2022-06-16T08:06:10.421060Z",
     "iopub.status.idle": "2022-06-16T08:06:12.770345Z",
     "shell.execute_reply": "2022-06-16T08:06:12.769902Z"
    },
    "papermill": {
     "duration": 2.358465,
     "end_time": "2022-06-16T08:06:12.771713",
     "exception": false,
     "start_time": "2022-06-16T08:06:10.413248",
     "status": "completed"
    },
    "tags": []
   },
   "outputs": [],
   "source": [
    "_gene_obj = list(multiplier_gene_obj.values())\n",
    "\n",
    "genes_info = pd.DataFrame(\n",
    "    {\n",
    "        \"name\": [g.name for g in _gene_obj],\n",
    "        \"id\": [g.ensembl_id for g in _gene_obj],\n",
    "        \"chr\": [g.chromosome for g in _gene_obj],\n",
    "        \"band\": [g.band for g in _gene_obj],\n",
    "        \"start_position\": [g.get_attribute(\"start_position\") for g in _gene_obj],\n",
    "    }\n",
    ")"
   ]
  },
  {
   "cell_type": "code",
   "execution_count": 21,
   "id": "e23519b8",
   "metadata": {
    "execution": {
     "iopub.execute_input": "2022-06-16T08:06:12.787141Z",
     "iopub.status.busy": "2022-06-16T08:06:12.786730Z",
     "iopub.status.idle": "2022-06-16T08:06:12.805292Z",
     "shell.execute_reply": "2022-06-16T08:06:12.804801Z"
    },
    "papermill": {
     "duration": 0.028137,
     "end_time": "2022-06-16T08:06:12.807225",
     "exception": false,
     "start_time": "2022-06-16T08:06:12.779088",
     "status": "completed"
    },
    "tags": []
   },
   "outputs": [
    {
     "data": {
      "text/plain": [
       "(6454, 5)"
      ]
     },
     "execution_count": 21,
     "metadata": {},
     "output_type": "execute_result"
    }
   ],
   "source": [
    "genes_info.shape"
   ]
  },
  {
   "cell_type": "code",
   "execution_count": 22,
   "id": "0d71881c",
   "metadata": {
    "execution": {
     "iopub.execute_input": "2022-06-16T08:06:12.840184Z",
     "iopub.status.busy": "2022-06-16T08:06:12.839660Z",
     "iopub.status.idle": "2022-06-16T08:06:12.864799Z",
     "shell.execute_reply": "2022-06-16T08:06:12.864347Z"
    },
    "papermill": {
     "duration": 0.051741,
     "end_time": "2022-06-16T08:06:12.866622",
     "exception": false,
     "start_time": "2022-06-16T08:06:12.814881",
     "status": "completed"
    },
    "tags": []
   },
   "outputs": [
    {
     "data": {
      "text/html": [
       "<div>\n",
       "<style scoped>\n",
       "    .dataframe tbody tr th:only-of-type {\n",
       "        vertical-align: middle;\n",
       "    }\n",
       "\n",
       "    .dataframe tbody tr th {\n",
       "        vertical-align: top;\n",
       "    }\n",
       "\n",
       "    .dataframe thead th {\n",
       "        text-align: right;\n",
       "    }\n",
       "</style>\n",
       "<table border=\"1\" class=\"dataframe\">\n",
       "  <thead>\n",
       "    <tr style=\"text-align: right;\">\n",
       "      <th></th>\n",
       "      <th>name</th>\n",
       "      <th>id</th>\n",
       "      <th>chr</th>\n",
       "      <th>band</th>\n",
       "      <th>start_position</th>\n",
       "    </tr>\n",
       "  </thead>\n",
       "  <tbody>\n",
       "    <tr>\n",
       "      <th>0</th>\n",
       "      <td>GAS6</td>\n",
       "      <td>ENSG00000183087</td>\n",
       "      <td>13</td>\n",
       "      <td>13q34</td>\n",
       "      <td>113820549.0</td>\n",
       "    </tr>\n",
       "    <tr>\n",
       "      <th>1</th>\n",
       "      <td>MMP14</td>\n",
       "      <td>ENSG00000157227</td>\n",
       "      <td>14</td>\n",
       "      <td>14q11.2</td>\n",
       "      <td>22836560.0</td>\n",
       "    </tr>\n",
       "    <tr>\n",
       "      <th>2</th>\n",
       "      <td>DSP</td>\n",
       "      <td>ENSG00000096696</td>\n",
       "      <td>6</td>\n",
       "      <td>6p24.3</td>\n",
       "      <td>7541617.0</td>\n",
       "    </tr>\n",
       "    <tr>\n",
       "      <th>3</th>\n",
       "      <td>MARCKSL1</td>\n",
       "      <td>ENSG00000175130</td>\n",
       "      <td>1</td>\n",
       "      <td>1p35.1</td>\n",
       "      <td>32333839.0</td>\n",
       "    </tr>\n",
       "    <tr>\n",
       "      <th>4</th>\n",
       "      <td>SPARC</td>\n",
       "      <td>ENSG00000113140</td>\n",
       "      <td>5</td>\n",
       "      <td>5q33.1</td>\n",
       "      <td>151661096.0</td>\n",
       "    </tr>\n",
       "  </tbody>\n",
       "</table>\n",
       "</div>"
      ],
      "text/plain": [
       "       name               id chr     band  start_position\n",
       "0      GAS6  ENSG00000183087  13    13q34     113820549.0\n",
       "1     MMP14  ENSG00000157227  14  14q11.2      22836560.0\n",
       "2       DSP  ENSG00000096696   6   6p24.3       7541617.0\n",
       "3  MARCKSL1  ENSG00000175130   1   1p35.1      32333839.0\n",
       "4     SPARC  ENSG00000113140   5   5q33.1     151661096.0"
      ]
     },
     "execution_count": 22,
     "metadata": {},
     "output_type": "execute_result"
    }
   ],
   "source": [
    "genes_info.head()"
   ]
  },
  {
   "cell_type": "markdown",
   "id": "8c9dbb4a",
   "metadata": {
    "papermill": {
     "duration": 0.007398,
     "end_time": "2022-06-16T08:06:12.881734",
     "exception": false,
     "start_time": "2022-06-16T08:06:12.874336",
     "status": "completed"
    },
    "tags": []
   },
   "source": [
    "## Get tissues names"
   ]
  },
  {
   "cell_type": "code",
   "execution_count": 23,
   "id": "2bc52419",
   "metadata": {
    "execution": {
     "iopub.execute_input": "2022-06-16T08:06:12.897270Z",
     "iopub.status.busy": "2022-06-16T08:06:12.897088Z",
     "iopub.status.idle": "2022-06-16T08:06:12.914665Z",
     "shell.execute_reply": "2022-06-16T08:06:12.914186Z"
    },
    "papermill": {
     "duration": 0.027208,
     "end_time": "2022-06-16T08:06:12.916290",
     "exception": false,
     "start_time": "2022-06-16T08:06:12.889082",
     "status": "completed"
    },
    "tags": []
   },
   "outputs": [],
   "source": [
    "tissues = conf.PHENOMEXCAN[\"PREDICTION_MODELS\"][f\"{EQTL_MODEL}_TISSUES\"].split(\" \")"
   ]
  },
  {
   "cell_type": "code",
   "execution_count": 24,
   "id": "64b293a1",
   "metadata": {
    "execution": {
     "iopub.execute_input": "2022-06-16T08:06:12.932367Z",
     "iopub.status.busy": "2022-06-16T08:06:12.932191Z",
     "iopub.status.idle": "2022-06-16T08:06:12.951600Z",
     "shell.execute_reply": "2022-06-16T08:06:12.951119Z"
    },
    "papermill": {
     "duration": 0.02912,
     "end_time": "2022-06-16T08:06:12.953208",
     "exception": false,
     "start_time": "2022-06-16T08:06:12.924088",
     "status": "completed"
    },
    "tags": []
   },
   "outputs": [
    {
     "data": {
      "text/plain": [
       "['Skin_Not_Sun_Exposed_Suprapubic',\n",
       " 'Cells_EBV-transformed_lymphocytes',\n",
       " 'Brain_Frontal_Cortex_BA9',\n",
       " 'Kidney_Cortex',\n",
       " 'Brain_Substantia_nigra']"
      ]
     },
     "execution_count": 24,
     "metadata": {},
     "output_type": "execute_result"
    }
   ],
   "source": [
    "tissues[:5]"
   ]
  },
  {
   "cell_type": "code",
   "execution_count": 25,
   "id": "48a7202a",
   "metadata": {
    "execution": {
     "iopub.execute_input": "2022-06-16T08:06:12.969703Z",
     "iopub.status.busy": "2022-06-16T08:06:12.969515Z",
     "iopub.status.idle": "2022-06-16T08:06:12.986733Z",
     "shell.execute_reply": "2022-06-16T08:06:12.986252Z"
    },
    "papermill": {
     "duration": 0.027211,
     "end_time": "2022-06-16T08:06:12.988481",
     "exception": false,
     "start_time": "2022-06-16T08:06:12.961270",
     "status": "completed"
    },
    "tags": []
   },
   "outputs": [],
   "source": [
    "assert len(tissues) == 49"
   ]
  },
  {
   "cell_type": "markdown",
   "id": "c8d1038f",
   "metadata": {
    "papermill": {
     "duration": 0.007449,
     "end_time": "2022-06-16T08:06:13.003804",
     "exception": false,
     "start_time": "2022-06-16T08:06:12.996355",
     "status": "completed"
    },
    "tags": []
   },
   "source": [
    "# Test"
   ]
  },
  {
   "cell_type": "code",
   "execution_count": 26,
   "id": "64993abf",
   "metadata": {
    "execution": {
     "iopub.execute_input": "2022-06-16T08:06:13.019784Z",
     "iopub.status.busy": "2022-06-16T08:06:13.019601Z",
     "iopub.status.idle": "2022-06-16T08:06:13.047411Z",
     "shell.execute_reply": "2022-06-16T08:06:13.046937Z"
    },
    "papermill": {
     "duration": 0.037654,
     "end_time": "2022-06-16T08:06:13.049124",
     "exception": false,
     "start_time": "2022-06-16T08:06:13.011470",
     "status": "completed"
    },
    "tags": []
   },
   "outputs": [
    {
     "data": {
      "text/html": [
       "<div>\n",
       "<style scoped>\n",
       "    .dataframe tbody tr th:only-of-type {\n",
       "        vertical-align: middle;\n",
       "    }\n",
       "\n",
       "    .dataframe tbody tr th {\n",
       "        vertical-align: top;\n",
       "    }\n",
       "\n",
       "    .dataframe thead th {\n",
       "        text-align: right;\n",
       "    }\n",
       "</style>\n",
       "<table border=\"1\" class=\"dataframe\">\n",
       "  <thead>\n",
       "    <tr style=\"text-align: right;\">\n",
       "      <th></th>\n",
       "      <th>name</th>\n",
       "      <th>id</th>\n",
       "      <th>chr</th>\n",
       "      <th>band</th>\n",
       "      <th>start_position</th>\n",
       "    </tr>\n",
       "  </thead>\n",
       "  <tbody>\n",
       "    <tr>\n",
       "      <th>26</th>\n",
       "      <td>PPIF</td>\n",
       "      <td>ENSG00000108179</td>\n",
       "      <td>10</td>\n",
       "      <td>10q22.3</td>\n",
       "      <td>79347469.0</td>\n",
       "    </tr>\n",
       "    <tr>\n",
       "      <th>33</th>\n",
       "      <td>DLG5</td>\n",
       "      <td>ENSG00000151208</td>\n",
       "      <td>10</td>\n",
       "      <td>10q22.3</td>\n",
       "      <td>77790791.0</td>\n",
       "    </tr>\n",
       "    <tr>\n",
       "      <th>61</th>\n",
       "      <td>PFKFB3</td>\n",
       "      <td>ENSG00000170525</td>\n",
       "      <td>10</td>\n",
       "      <td>10p15.1</td>\n",
       "      <td>6144934.0</td>\n",
       "    </tr>\n",
       "    <tr>\n",
       "      <th>84</th>\n",
       "      <td>INPP5A</td>\n",
       "      <td>ENSG00000068383</td>\n",
       "      <td>10</td>\n",
       "      <td>10q26.3</td>\n",
       "      <td>132537787.0</td>\n",
       "    </tr>\n",
       "    <tr>\n",
       "      <th>88</th>\n",
       "      <td>PAPSS2</td>\n",
       "      <td>ENSG00000198682</td>\n",
       "      <td>10</td>\n",
       "      <td>10q23.2</td>\n",
       "      <td>87659613.0</td>\n",
       "    </tr>\n",
       "    <tr>\n",
       "      <th>...</th>\n",
       "      <td>...</td>\n",
       "      <td>...</td>\n",
       "      <td>...</td>\n",
       "      <td>...</td>\n",
       "      <td>...</td>\n",
       "    </tr>\n",
       "    <tr>\n",
       "      <th>6187</th>\n",
       "      <td>RBM17</td>\n",
       "      <td>ENSG00000134453</td>\n",
       "      <td>10</td>\n",
       "      <td>10p15.1</td>\n",
       "      <td>6089034.0</td>\n",
       "    </tr>\n",
       "    <tr>\n",
       "      <th>6202</th>\n",
       "      <td>TUBGCP2</td>\n",
       "      <td>ENSG00000130640</td>\n",
       "      <td>10</td>\n",
       "      <td>10q26.3</td>\n",
       "      <td>133278630.0</td>\n",
       "    </tr>\n",
       "    <tr>\n",
       "      <th>6381</th>\n",
       "      <td>ABCC2</td>\n",
       "      <td>ENSG00000023839</td>\n",
       "      <td>10</td>\n",
       "      <td>10q24.2</td>\n",
       "      <td>99782640.0</td>\n",
       "    </tr>\n",
       "    <tr>\n",
       "      <th>6382</th>\n",
       "      <td>NMT2</td>\n",
       "      <td>ENSG00000152465</td>\n",
       "      <td>10</td>\n",
       "      <td>10p13</td>\n",
       "      <td>15102584.0</td>\n",
       "    </tr>\n",
       "    <tr>\n",
       "      <th>6412</th>\n",
       "      <td>PLAU</td>\n",
       "      <td>ENSG00000122861</td>\n",
       "      <td>10</td>\n",
       "      <td>10q22.2</td>\n",
       "      <td>73909177.0</td>\n",
       "    </tr>\n",
       "  </tbody>\n",
       "</table>\n",
       "<p>245 rows × 5 columns</p>\n",
       "</div>"
      ],
      "text/plain": [
       "         name               id chr     band  start_position\n",
       "26       PPIF  ENSG00000108179  10  10q22.3      79347469.0\n",
       "33       DLG5  ENSG00000151208  10  10q22.3      77790791.0\n",
       "61     PFKFB3  ENSG00000170525  10  10p15.1       6144934.0\n",
       "84     INPP5A  ENSG00000068383  10  10q26.3     132537787.0\n",
       "88     PAPSS2  ENSG00000198682  10  10q23.2      87659613.0\n",
       "...       ...              ...  ..      ...             ...\n",
       "6187    RBM17  ENSG00000134453  10  10p15.1       6089034.0\n",
       "6202  TUBGCP2  ENSG00000130640  10  10q26.3     133278630.0\n",
       "6381    ABCC2  ENSG00000023839  10  10q24.2      99782640.0\n",
       "6382     NMT2  ENSG00000152465  10    10p13      15102584.0\n",
       "6412     PLAU  ENSG00000122861  10  10q22.2      73909177.0\n",
       "\n",
       "[245 rows x 5 columns]"
      ]
     },
     "metadata": {},
     "output_type": "display_data"
    }
   ],
   "source": [
    "chromosome_genes_info = genes_info[genes_info[\"chr\"] == chromosome]\n",
    "display(chromosome_genes_info)"
   ]
  },
  {
   "cell_type": "code",
   "execution_count": 27,
   "id": "d2e42726-7de6-46eb-acfc-6323eaa8fae6",
   "metadata": {
    "execution": {
     "iopub.execute_input": "2022-06-16T08:06:13.065982Z",
     "iopub.status.busy": "2022-06-16T08:06:13.065806Z",
     "iopub.status.idle": "2022-06-16T08:06:13.085804Z",
     "shell.execute_reply": "2022-06-16T08:06:13.085315Z"
    },
    "papermill": {
     "duration": 0.030148,
     "end_time": "2022-06-16T08:06:13.087449",
     "exception": false,
     "start_time": "2022-06-16T08:06:13.057301",
     "status": "completed"
    },
    "tags": []
   },
   "outputs": [
    {
     "data": {
      "text/plain": [
       "5"
      ]
     },
     "metadata": {},
     "output_type": "display_data"
    }
   ],
   "source": [
    "_gene_list_ids = sample(chromosome_genes_info[\"id\"].tolist(), 5)\n",
    "selected_chromosome_genes_obj = [Gene(ensembl_id=g_id) for g_id in _gene_list_ids]\n",
    "display(len(selected_chromosome_genes_obj))"
   ]
  },
  {
   "cell_type": "code",
   "execution_count": 28,
   "id": "1b355359",
   "metadata": {
    "execution": {
     "iopub.execute_input": "2022-06-16T08:06:13.115457Z",
     "iopub.status.busy": "2022-06-16T08:06:13.115277Z",
     "iopub.status.idle": "2022-06-16T08:06:13.245225Z",
     "shell.execute_reply": "2022-06-16T08:06:13.244044Z"
    },
    "papermill": {
     "duration": 0.150903,
     "end_time": "2022-06-16T08:06:13.246817",
     "exception": false,
     "start_time": "2022-06-16T08:06:13.095914",
     "status": "completed"
    },
    "tags": []
   },
   "outputs": [
    {
     "name": "stdout",
     "output_type": "stream",
     "text": [
      "SEC61A2 / SVIL: 0.0\n",
      "SEC61A2 / CYP2E1: 0.0\n",
      "SEC61A2 / CAMK2G: 0.0\n",
      "SEC61A2 / ZNF37A: 0.0\n",
      "SVIL / CYP2E1: 0.0\n",
      "SVIL / CAMK2G: 0.0\n",
      "SVIL / ZNF37A: 0.0\n",
      "CYP2E1 / CAMK2G: 0.0\n",
      "CYP2E1 / ZNF37A: 0.0\n",
      "CAMK2G / ZNF37A: 0.0\n"
     ]
    }
   ],
   "source": [
    "for gene_idx1 in range(0, len(selected_chromosome_genes_obj) - 1):\n",
    "    gene_obj1 = selected_chromosome_genes_obj[gene_idx1]\n",
    "\n",
    "    for gene_idx2 in range(gene_idx1 + 1, len(selected_chromosome_genes_obj)):\n",
    "        gene_obj2 = selected_chromosome_genes_obj[gene_idx2]\n",
    "\n",
    "        c = gene_obj1.get_ssm_correlation(\n",
    "            gene_obj2,\n",
    "        )\n",
    "\n",
    "        print(f\"{gene_obj1.name} / {gene_obj2.name}: {c}\")"
   ]
  },
  {
   "cell_type": "markdown",
   "id": "d3843e06",
   "metadata": {
    "papermill": {
     "duration": 0.007628,
     "end_time": "2022-06-16T08:06:13.262701",
     "exception": false,
     "start_time": "2022-06-16T08:06:13.255073",
     "status": "completed"
    },
    "tags": []
   },
   "source": [
    "# Compute correlation per chromosome"
   ]
  },
  {
   "cell_type": "code",
   "execution_count": 29,
   "id": "aa674fe4-6794-4eed-98fa-32b39d1d4ace",
   "metadata": {
    "execution": {
     "iopub.execute_input": "2022-06-16T08:06:13.279083Z",
     "iopub.status.busy": "2022-06-16T08:06:13.278905Z",
     "iopub.status.idle": "2022-06-16T08:06:13.296511Z",
     "shell.execute_reply": "2022-06-16T08:06:13.296009Z"
    },
    "papermill": {
     "duration": 0.027736,
     "end_time": "2022-06-16T08:06:13.298134",
     "exception": false,
     "start_time": "2022-06-16T08:06:13.270398",
     "status": "completed"
    },
    "tags": []
   },
   "outputs": [],
   "source": [
    "warnings.filterwarnings(\"error\")"
   ]
  },
  {
   "cell_type": "code",
   "execution_count": 30,
   "id": "cdbb90a1",
   "metadata": {
    "execution": {
     "iopub.execute_input": "2022-06-16T08:06:13.315781Z",
     "iopub.status.busy": "2022-06-16T08:06:13.315603Z",
     "iopub.status.idle": "2022-06-16T10:23:15.836426Z",
     "shell.execute_reply": "2022-06-16T10:23:15.835994Z"
    },
    "papermill": {
     "duration": 8222.531183,
     "end_time": "2022-06-16T10:23:15.837760",
     "exception": false,
     "start_time": "2022-06-16T08:06:13.306577",
     "status": "completed"
    },
    "tags": []
   },
   "outputs": [
    {
     "name": "stdout",
     "output_type": "stream",
     "text": [
      "Number of genes in chromosome: 245\n",
      "Chromosome 10\n",
      "Number of gene combinations: 29890\n"
     ]
    },
    {
     "name": "stderr",
     "output_type": "stream",
     "text": [
      "ENSG00000148832 / ENSG00000130649: 100%|████████████████████| 29890/29890 [2:17:02<00:00,  3.64it/s]"
     ]
    },
    {
     "name": "stdout",
     "output_type": "stream",
     "text": [
      "Min/max values: -0.9510440318371937 / 0.8926541085990738\n"
     ]
    },
    {
     "name": "stderr",
     "output_type": "stream",
     "text": [
      "\n"
     ]
    },
    {
     "data": {
      "text/plain": [
       "PosixPath('/opt/data/data/phenomexcan/ld_blocks/gene_corrs/gtex_v8/mashr/by_chr/gene_corrs-chr10.pkl')"
      ]
     },
     "metadata": {},
     "output_type": "display_data"
    }
   ],
   "source": [
    "# standard checks\n",
    "all_chrs = genes_info[\"chr\"].dropna().unique()\n",
    "assert all_chrs.shape[0] == 22\n",
    "\n",
    "# select chromosome given by the user\n",
    "assert chromosome in all_chrs\n",
    "\n",
    "# run only on the chromosome specified\n",
    "all_chrs = [chromosome]\n",
    "genes_chr = genes_info[genes_info[\"chr\"] == chromosome]\n",
    "print(f\"Number of genes in chromosome: {genes_chr.shape[0]}\", flush=True)\n",
    "\n",
    "# For testing purposes\n",
    "# genes_chr = genes_chr.sample(n=20)\n",
    "\n",
    "# sort genes by starting position to make visualizations better later\n",
    "genes_chr = genes_chr.sort_values(\"start_position\")\n",
    "\n",
    "\n",
    "for chr_num in all_chrs:\n",
    "    print(f\"Chromosome {chr_num}\", flush=True)\n",
    "\n",
    "    # check if results exist\n",
    "    output_dir = OUTPUT_DIR_BASE / \"by_chr\"\n",
    "    output_file = output_dir / f\"gene_corrs-chr{chr_num}.pkl\"\n",
    "\n",
    "    if output_file.exists():\n",
    "        _tmp_data = pd.read_pickle(output_file)\n",
    "\n",
    "        if _tmp_data.shape[0] > 0:\n",
    "            print(\"Already run, stopping.\")\n",
    "            continue\n",
    "\n",
    "    gene_chr_objs = [Gene(ensembl_id=gene_id) for gene_id in genes_chr[\"id\"]]\n",
    "    gene_chr_ids = [g.ensembl_id for g in gene_chr_objs]\n",
    "\n",
    "    n = len(gene_chr_objs)\n",
    "    n_comb = int(n * (n - 1) / 2.0)\n",
    "    print(f\"Number of gene combinations: {n_comb}\", flush=True)\n",
    "\n",
    "    gene_corrs = []\n",
    "\n",
    "    pbar = tqdm(ncols=100, total=n_comb)\n",
    "    i = 0\n",
    "    for gene_idx1 in range(0, len(gene_chr_objs) - 1):\n",
    "        gene_obj1 = gene_chr_objs[gene_idx1]\n",
    "\n",
    "        for gene_idx2 in range(gene_idx1 + 1, len(gene_chr_objs)):\n",
    "            gene_obj2 = gene_chr_objs[gene_idx2]\n",
    "\n",
    "            pbar.set_description(f\"{gene_obj1.ensembl_id} / {gene_obj2.ensembl_id}\")\n",
    "\n",
    "            try:\n",
    "                # FIXME: compute the correlation of the sum of squares of the model using all\n",
    "                # the available tissues; this could be problematic because for some results\n",
    "                # (computed on a specific phenotype/GWAS) we might not have all the tissues\n",
    "                # available, which can certainly bias the correlation estimation.\n",
    "                # Since this depends on the GWAS on a specific phenotype, we should ideally have\n",
    "                # one correlation matrix per GWAS. I should look at how we can improve this.\n",
    "                gene_corrs.append(\n",
    "                    gene_obj1.get_ssm_correlation(\n",
    "                        other_gene=gene_obj2,\n",
    "                        condition_number=SMULTIXCAN_CONDITION_NUMBER,\n",
    "                        reference_panel=REFERENCE_PANEL,\n",
    "                        model_type=EQTL_MODEL,\n",
    "                    )\n",
    "                )\n",
    "            except Warning:\n",
    "                print(\n",
    "                    f\"RuntimeWarning for genes {gene_obj1.ensembl_id} and {gene_obj2.ensembl_id}\",\n",
    "                    flush=True,\n",
    "                )\n",
    "                import traceback\n",
    "\n",
    "                print(traceback.format_exc(), flush=True)\n",
    "            except Exception as e:\n",
    "                print(\n",
    "                    f\"Exception for genes {gene_obj1.ensembl_id} and {gene_obj2.ensembl_id}\",\n",
    "                    flush=True,\n",
    "                )\n",
    "                import traceback\n",
    "\n",
    "                print(traceback.format_exc(), flush=True)\n",
    "                gene_corrs.append(np.nan)\n",
    "\n",
    "            pbar.update(1)\n",
    "\n",
    "    pbar.close()\n",
    "\n",
    "    # testing\n",
    "    gene_corrs_flat = pd.Series(gene_corrs)\n",
    "    print(f\"Min/max values: {gene_corrs_flat.min()} / {gene_corrs_flat.max()}\")\n",
    "    assert gene_corrs_flat.min() >= -1.001\n",
    "    assert gene_corrs_flat.max() <= 1.001\n",
    "\n",
    "    # save\n",
    "    # FIXME: consider saving only the condenced matrix here. See here for\n",
    "    # more details: https://github.com/greenelab/phenoplier/pull/38#discussion_r634600813\n",
    "    gene_corrs_data = squareform(np.array(gene_corrs, dtype=np.float64))\n",
    "    np.fill_diagonal(gene_corrs_data, 1.0)\n",
    "\n",
    "    gene_corrs_df = pd.DataFrame(\n",
    "        data=gene_corrs_data,\n",
    "        index=gene_chr_ids,\n",
    "        columns=gene_chr_ids,\n",
    "    )\n",
    "\n",
    "    output_dir.mkdir(exist_ok=True, parents=True)\n",
    "    display(output_file)\n",
    "\n",
    "    gene_corrs_df.to_pickle(output_file)"
   ]
  },
  {
   "cell_type": "markdown",
   "id": "faa67b51-5373-470f-aa72-2ded53fa6dfe",
   "metadata": {
    "papermill": {
     "duration": 1.229958,
     "end_time": "2022-06-16T10:23:18.333076",
     "exception": false,
     "start_time": "2022-06-16T10:23:17.103118",
     "status": "completed"
    },
    "tags": []
   },
   "source": [
    "# Testing"
   ]
  },
  {
   "cell_type": "code",
   "execution_count": 31,
   "id": "14f7d046-4b55-4896-a56b-990127bcc388",
   "metadata": {
    "execution": {
     "iopub.execute_input": "2022-06-16T10:23:20.796591Z",
     "iopub.status.busy": "2022-06-16T10:23:20.796240Z",
     "iopub.status.idle": "2022-06-16T10:23:20.816226Z",
     "shell.execute_reply": "2022-06-16T10:23:20.815581Z"
    },
    "papermill": {
     "duration": 1.257725,
     "end_time": "2022-06-16T10:23:20.817760",
     "exception": false,
     "start_time": "2022-06-16T10:23:19.560035",
     "status": "completed"
    },
    "tags": []
   },
   "outputs": [
    {
     "data": {
      "text/plain": [
       "(245, 245)"
      ]
     },
     "execution_count": 31,
     "metadata": {},
     "output_type": "execute_result"
    }
   ],
   "source": [
    "gene_corrs_df.shape"
   ]
  },
  {
   "cell_type": "code",
   "execution_count": 32,
   "id": "c7d15414-3297-4537-a7c6-7588c0baeb75",
   "metadata": {
    "execution": {
     "iopub.execute_input": "2022-06-16T10:23:23.297293Z",
     "iopub.status.busy": "2022-06-16T10:23:23.297103Z",
     "iopub.status.idle": "2022-06-16T10:23:23.329280Z",
     "shell.execute_reply": "2022-06-16T10:23:23.328811Z"
    },
    "papermill": {
     "duration": 1.287269,
     "end_time": "2022-06-16T10:23:23.330679",
     "exception": false,
     "start_time": "2022-06-16T10:23:22.043410",
     "status": "completed"
    },
    "tags": []
   },
   "outputs": [
    {
     "data": {
      "text/html": [
       "<div>\n",
       "<style scoped>\n",
       "    .dataframe tbody tr th:only-of-type {\n",
       "        vertical-align: middle;\n",
       "    }\n",
       "\n",
       "    .dataframe tbody tr th {\n",
       "        vertical-align: top;\n",
       "    }\n",
       "\n",
       "    .dataframe thead th {\n",
       "        text-align: right;\n",
       "    }\n",
       "</style>\n",
       "<table border=\"1\" class=\"dataframe\">\n",
       "  <thead>\n",
       "    <tr style=\"text-align: right;\">\n",
       "      <th></th>\n",
       "      <th>ENSG00000261456</th>\n",
       "      <th>ENSG00000148377</th>\n",
       "      <th>ENSG00000067064</th>\n",
       "      <th>ENSG00000067057</th>\n",
       "      <th>ENSG00000067082</th>\n",
       "      <th>ENSG00000187134</th>\n",
       "      <th>ENSG00000151632</th>\n",
       "      <th>ENSG00000196139</th>\n",
       "      <th>ENSG00000173848</th>\n",
       "      <th>ENSG00000196372</th>\n",
       "      <th>...</th>\n",
       "      <th>ENSG00000148773</th>\n",
       "      <th>ENSG00000170430</th>\n",
       "      <th>ENSG00000175470</th>\n",
       "      <th>ENSG00000176171</th>\n",
       "      <th>ENSG00000151640</th>\n",
       "      <th>ENSG00000068383</th>\n",
       "      <th>ENSG00000130640</th>\n",
       "      <th>ENSG00000127884</th>\n",
       "      <th>ENSG00000148832</th>\n",
       "      <th>ENSG00000130649</th>\n",
       "    </tr>\n",
       "  </thead>\n",
       "  <tbody>\n",
       "    <tr>\n",
       "      <th>ENSG00000261456</th>\n",
       "      <td>1.000000</td>\n",
       "      <td>-0.122850</td>\n",
       "      <td>0.050842</td>\n",
       "      <td>0.003262</td>\n",
       "      <td>0.098135</td>\n",
       "      <td>-0.078188</td>\n",
       "      <td>0.038094</td>\n",
       "      <td>-0.005630</td>\n",
       "      <td>0.000000</td>\n",
       "      <td>0.000000</td>\n",
       "      <td>...</td>\n",
       "      <td>0.0</td>\n",
       "      <td>0.0</td>\n",
       "      <td>0.0</td>\n",
       "      <td>0.0</td>\n",
       "      <td>0.0</td>\n",
       "      <td>0.0</td>\n",
       "      <td>0.0</td>\n",
       "      <td>0.0</td>\n",
       "      <td>0.0</td>\n",
       "      <td>0.0</td>\n",
       "    </tr>\n",
       "    <tr>\n",
       "      <th>ENSG00000148377</th>\n",
       "      <td>-0.122850</td>\n",
       "      <td>1.000000</td>\n",
       "      <td>-0.170759</td>\n",
       "      <td>-0.125379</td>\n",
       "      <td>-0.228603</td>\n",
       "      <td>0.462657</td>\n",
       "      <td>0.240805</td>\n",
       "      <td>0.211018</td>\n",
       "      <td>-0.168583</td>\n",
       "      <td>0.150270</td>\n",
       "      <td>...</td>\n",
       "      <td>0.0</td>\n",
       "      <td>0.0</td>\n",
       "      <td>0.0</td>\n",
       "      <td>0.0</td>\n",
       "      <td>0.0</td>\n",
       "      <td>0.0</td>\n",
       "      <td>0.0</td>\n",
       "      <td>0.0</td>\n",
       "      <td>0.0</td>\n",
       "      <td>0.0</td>\n",
       "    </tr>\n",
       "    <tr>\n",
       "      <th>ENSG00000067064</th>\n",
       "      <td>0.050842</td>\n",
       "      <td>-0.170759</td>\n",
       "      <td>1.000000</td>\n",
       "      <td>0.002722</td>\n",
       "      <td>-0.024991</td>\n",
       "      <td>0.172416</td>\n",
       "      <td>-0.025107</td>\n",
       "      <td>0.021680</td>\n",
       "      <td>-0.014667</td>\n",
       "      <td>-0.016345</td>\n",
       "      <td>...</td>\n",
       "      <td>0.0</td>\n",
       "      <td>0.0</td>\n",
       "      <td>0.0</td>\n",
       "      <td>0.0</td>\n",
       "      <td>0.0</td>\n",
       "      <td>0.0</td>\n",
       "      <td>0.0</td>\n",
       "      <td>0.0</td>\n",
       "      <td>0.0</td>\n",
       "      <td>0.0</td>\n",
       "    </tr>\n",
       "    <tr>\n",
       "      <th>ENSG00000067057</th>\n",
       "      <td>0.003262</td>\n",
       "      <td>-0.125379</td>\n",
       "      <td>0.002722</td>\n",
       "      <td>1.000000</td>\n",
       "      <td>-0.078868</td>\n",
       "      <td>0.056113</td>\n",
       "      <td>-0.058811</td>\n",
       "      <td>0.060549</td>\n",
       "      <td>0.121128</td>\n",
       "      <td>0.000327</td>\n",
       "      <td>...</td>\n",
       "      <td>0.0</td>\n",
       "      <td>0.0</td>\n",
       "      <td>0.0</td>\n",
       "      <td>0.0</td>\n",
       "      <td>0.0</td>\n",
       "      <td>0.0</td>\n",
       "      <td>0.0</td>\n",
       "      <td>0.0</td>\n",
       "      <td>0.0</td>\n",
       "      <td>0.0</td>\n",
       "    </tr>\n",
       "    <tr>\n",
       "      <th>ENSG00000067082</th>\n",
       "      <td>0.098135</td>\n",
       "      <td>-0.228603</td>\n",
       "      <td>-0.024991</td>\n",
       "      <td>-0.078868</td>\n",
       "      <td>1.000000</td>\n",
       "      <td>0.111290</td>\n",
       "      <td>-0.057890</td>\n",
       "      <td>0.038039</td>\n",
       "      <td>-0.030065</td>\n",
       "      <td>-0.005353</td>\n",
       "      <td>...</td>\n",
       "      <td>0.0</td>\n",
       "      <td>0.0</td>\n",
       "      <td>0.0</td>\n",
       "      <td>0.0</td>\n",
       "      <td>0.0</td>\n",
       "      <td>0.0</td>\n",
       "      <td>0.0</td>\n",
       "      <td>0.0</td>\n",
       "      <td>0.0</td>\n",
       "      <td>0.0</td>\n",
       "    </tr>\n",
       "  </tbody>\n",
       "</table>\n",
       "<p>5 rows × 245 columns</p>\n",
       "</div>"
      ],
      "text/plain": [
       "                 ENSG00000261456  ENSG00000148377  ENSG00000067064  \\\n",
       "ENSG00000261456         1.000000        -0.122850         0.050842   \n",
       "ENSG00000148377        -0.122850         1.000000        -0.170759   \n",
       "ENSG00000067064         0.050842        -0.170759         1.000000   \n",
       "ENSG00000067057         0.003262        -0.125379         0.002722   \n",
       "ENSG00000067082         0.098135        -0.228603        -0.024991   \n",
       "\n",
       "                 ENSG00000067057  ENSG00000067082  ENSG00000187134  \\\n",
       "ENSG00000261456         0.003262         0.098135        -0.078188   \n",
       "ENSG00000148377        -0.125379        -0.228603         0.462657   \n",
       "ENSG00000067064         0.002722        -0.024991         0.172416   \n",
       "ENSG00000067057         1.000000        -0.078868         0.056113   \n",
       "ENSG00000067082        -0.078868         1.000000         0.111290   \n",
       "\n",
       "                 ENSG00000151632  ENSG00000196139  ENSG00000173848  \\\n",
       "ENSG00000261456         0.038094        -0.005630         0.000000   \n",
       "ENSG00000148377         0.240805         0.211018        -0.168583   \n",
       "ENSG00000067064        -0.025107         0.021680        -0.014667   \n",
       "ENSG00000067057        -0.058811         0.060549         0.121128   \n",
       "ENSG00000067082        -0.057890         0.038039        -0.030065   \n",
       "\n",
       "                 ENSG00000196372  ...  ENSG00000148773  ENSG00000170430  \\\n",
       "ENSG00000261456         0.000000  ...              0.0              0.0   \n",
       "ENSG00000148377         0.150270  ...              0.0              0.0   \n",
       "ENSG00000067064        -0.016345  ...              0.0              0.0   \n",
       "ENSG00000067057         0.000327  ...              0.0              0.0   \n",
       "ENSG00000067082        -0.005353  ...              0.0              0.0   \n",
       "\n",
       "                 ENSG00000175470  ENSG00000176171  ENSG00000151640  \\\n",
       "ENSG00000261456              0.0              0.0              0.0   \n",
       "ENSG00000148377              0.0              0.0              0.0   \n",
       "ENSG00000067064              0.0              0.0              0.0   \n",
       "ENSG00000067057              0.0              0.0              0.0   \n",
       "ENSG00000067082              0.0              0.0              0.0   \n",
       "\n",
       "                 ENSG00000068383  ENSG00000130640  ENSG00000127884  \\\n",
       "ENSG00000261456              0.0              0.0              0.0   \n",
       "ENSG00000148377              0.0              0.0              0.0   \n",
       "ENSG00000067064              0.0              0.0              0.0   \n",
       "ENSG00000067057              0.0              0.0              0.0   \n",
       "ENSG00000067082              0.0              0.0              0.0   \n",
       "\n",
       "                 ENSG00000148832  ENSG00000130649  \n",
       "ENSG00000261456              0.0              0.0  \n",
       "ENSG00000148377              0.0              0.0  \n",
       "ENSG00000067064              0.0              0.0  \n",
       "ENSG00000067057              0.0              0.0  \n",
       "ENSG00000067082              0.0              0.0  \n",
       "\n",
       "[5 rows x 245 columns]"
      ]
     },
     "execution_count": 32,
     "metadata": {},
     "output_type": "execute_result"
    }
   ],
   "source": [
    "gene_corrs_df.head()"
   ]
  },
  {
   "cell_type": "code",
   "execution_count": 33,
   "id": "00583efc-7068-4270-ad1e-4a418e91db96",
   "metadata": {
    "execution": {
     "iopub.execute_input": "2022-06-16T10:23:25.866904Z",
     "iopub.status.busy": "2022-06-16T10:23:25.866730Z",
     "iopub.status.idle": "2022-06-16T10:23:25.885574Z",
     "shell.execute_reply": "2022-06-16T10:23:25.884960Z"
    },
    "papermill": {
     "duration": 1.266641,
     "end_time": "2022-06-16T10:23:25.886976",
     "exception": false,
     "start_time": "2022-06-16T10:23:24.620335",
     "status": "completed"
    },
    "tags": []
   },
   "outputs": [
    {
     "data": {
      "text/plain": [
       "-0.9510440318371937"
      ]
     },
     "metadata": {},
     "output_type": "display_data"
    }
   ],
   "source": [
    "_min_val = gene_corrs_df.min().min()\n",
    "display(_min_val)\n",
    "assert _min_val >= -1.0"
   ]
  },
  {
   "cell_type": "code",
   "execution_count": 34,
   "id": "d04fb2cf-1050-475b-b855-f5f7cc04092b",
   "metadata": {
    "execution": {
     "iopub.execute_input": "2022-06-16T10:23:28.333259Z",
     "iopub.status.busy": "2022-06-16T10:23:28.333070Z",
     "iopub.status.idle": "2022-06-16T10:23:28.353698Z",
     "shell.execute_reply": "2022-06-16T10:23:28.353068Z"
    },
    "papermill": {
     "duration": 1.310791,
     "end_time": "2022-06-16T10:23:28.355251",
     "exception": false,
     "start_time": "2022-06-16T10:23:27.044460",
     "status": "completed"
    },
    "tags": []
   },
   "outputs": [
    {
     "data": {
      "text/plain": [
       "1.0"
      ]
     },
     "metadata": {},
     "output_type": "display_data"
    }
   ],
   "source": [
    "_max_val = gene_corrs_df.max().max()  # this captures the diagonal\n",
    "display(_max_val)\n",
    "assert _max_val <= 1.0"
   ]
  },
  {
   "cell_type": "code",
   "execution_count": 35,
   "id": "96d02c44-1fba-47be-8a93-8f2608420b9c",
   "metadata": {
    "execution": {
     "iopub.execute_input": "2022-06-16T10:23:30.808557Z",
     "iopub.status.busy": "2022-06-16T10:23:30.808205Z",
     "iopub.status.idle": "2022-06-16T10:23:30.826249Z",
     "shell.execute_reply": "2022-06-16T10:23:30.825626Z"
    },
    "papermill": {
     "duration": 1.246005,
     "end_time": "2022-06-16T10:23:30.827772",
     "exception": false,
     "start_time": "2022-06-16T10:23:29.581767",
     "status": "completed"
    },
    "tags": []
   },
   "outputs": [],
   "source": [
    "# check upper triangular values\n",
    "assert len(gene_corrs) == int(genes_chr.shape[0] * (genes_chr.shape[0] - 1) / 2)"
   ]
  },
  {
   "cell_type": "code",
   "execution_count": 36,
   "id": "aaa51627-f4e3-4744-a41f-7d25adcc0a78",
   "metadata": {
    "execution": {
     "iopub.execute_input": "2022-06-16T10:23:33.312414Z",
     "iopub.status.busy": "2022-06-16T10:23:33.312226Z",
     "iopub.status.idle": "2022-06-16T10:23:33.333359Z",
     "shell.execute_reply": "2022-06-16T10:23:33.332776Z"
    },
    "papermill": {
     "duration": 1.265532,
     "end_time": "2022-06-16T10:23:33.334872",
     "exception": false,
     "start_time": "2022-06-16T10:23:32.069340",
     "status": "completed"
    },
    "tags": []
   },
   "outputs": [],
   "source": [
    "gene_corrs = pd.Series(gene_corrs)"
   ]
  },
  {
   "cell_type": "code",
   "execution_count": 37,
   "id": "fe283586-c348-40e0-8841-f6d97bfb021c",
   "metadata": {
    "execution": {
     "iopub.execute_input": "2022-06-16T10:23:35.946994Z",
     "iopub.status.busy": "2022-06-16T10:23:35.946467Z",
     "iopub.status.idle": "2022-06-16T10:23:35.968175Z",
     "shell.execute_reply": "2022-06-16T10:23:35.967674Z"
    },
    "papermill": {
     "duration": 1.378415,
     "end_time": "2022-06-16T10:23:35.969699",
     "exception": false,
     "start_time": "2022-06-16T10:23:34.591284",
     "status": "completed"
    },
    "tags": []
   },
   "outputs": [
    {
     "data": {
      "text/plain": [
       "count    29890.000000\n",
       "mean        -0.000004\n",
       "std          0.040257\n",
       "min         -0.951044\n",
       "25%          0.000000\n",
       "50%          0.000000\n",
       "75%          0.000000\n",
       "max          0.892654\n",
       "dtype: float64"
      ]
     },
     "execution_count": 37,
     "metadata": {},
     "output_type": "execute_result"
    }
   ],
   "source": [
    "gene_corrs.describe()"
   ]
  },
  {
   "cell_type": "code",
   "execution_count": 38,
   "id": "b3815678-0f93-4b35-897b-a9d047a2aa78",
   "metadata": {
    "execution": {
     "iopub.execute_input": "2022-06-16T10:23:38.450589Z",
     "iopub.status.busy": "2022-06-16T10:23:38.450406Z",
     "iopub.status.idle": "2022-06-16T10:23:38.470914Z",
     "shell.execute_reply": "2022-06-16T10:23:38.470368Z"
    },
    "papermill": {
     "duration": 1.271699,
     "end_time": "2022-06-16T10:23:38.472343",
     "exception": false,
     "start_time": "2022-06-16T10:23:37.200644",
     "status": "completed"
    },
    "tags": []
   },
   "outputs": [
    {
     "data": {
      "text/plain": [
       "0.00   -0.951044\n",
       "0.05    0.000000\n",
       "0.10    0.000000\n",
       "0.15    0.000000\n",
       "0.20    0.000000\n",
       "0.25    0.000000\n",
       "0.30    0.000000\n",
       "0.35    0.000000\n",
       "0.40    0.000000\n",
       "0.45    0.000000\n",
       "0.50    0.000000\n",
       "0.55    0.000000\n",
       "0.60    0.000000\n",
       "0.65    0.000000\n",
       "0.70    0.000000\n",
       "0.75    0.000000\n",
       "0.80    0.000000\n",
       "0.85    0.000000\n",
       "0.90    0.000000\n",
       "0.95    0.000000\n",
       "dtype: float64"
      ]
     },
     "metadata": {},
     "output_type": "display_data"
    }
   ],
   "source": [
    "gene_corrs_quantiles = gene_corrs.quantile(np.arange(0, 1, 0.05))\n",
    "display(gene_corrs_quantiles)"
   ]
  },
  {
   "cell_type": "markdown",
   "id": "8e60a080-edb2-4e9c-b2ef-22961693200c",
   "metadata": {
    "papermill": {
     "duration": 1.238073,
     "end_time": "2022-06-16T10:23:40.940808",
     "exception": false,
     "start_time": "2022-06-16T10:23:39.702735",
     "status": "completed"
    },
    "tags": []
   },
   "source": [
    "## Plot: distribution"
   ]
  },
  {
   "cell_type": "code",
   "execution_count": 39,
   "id": "8301126b-a7d4-4744-9c7d-f0f86eb6f54c",
   "metadata": {
    "execution": {
     "iopub.execute_input": "2022-06-16T10:23:43.450135Z",
     "iopub.status.busy": "2022-06-16T10:23:43.449564Z",
     "iopub.status.idle": "2022-06-16T10:23:43.850715Z",
     "shell.execute_reply": "2022-06-16T10:23:43.850104Z"
    },
    "papermill": {
     "duration": 1.675932,
     "end_time": "2022-06-16T10:23:43.852303",
     "exception": false,
     "start_time": "2022-06-16T10:23:42.176371",
     "status": "completed"
    },
    "tags": []
   },
   "outputs": [
    {
     "data": {
      "image/png": "[encoded data removed]",
      "text/plain": [
       "<Figure size 504x504 with 1 Axes>"
      ]
     },
     "metadata": {
      "needs_background": "light"
     },
     "output_type": "display_data"
    }
   ],
   "source": [
    "with sns.plotting_context(\"paper\", font_scale=1.5):\n",
    "    g = sns.displot(gene_corrs, kde=True, height=7)\n",
    "    g.ax.set_title(\n",
    "        f\"Distribution of gene correlation values in chromosome {chromosome}\"\n",
    "    )"
   ]
  },
  {
   "cell_type": "markdown",
   "id": "cbd52bca-d878-4a2f-b684-5c83aa3038d4",
   "metadata": {
    "papermill": {
     "duration": 1.318732,
     "end_time": "2022-06-16T10:23:46.431947",
     "exception": false,
     "start_time": "2022-06-16T10:23:45.113215",
     "status": "completed"
    },
    "tags": []
   },
   "source": [
    "## Plot: heatmap"
   ]
  },
  {
   "cell_type": "code",
   "execution_count": 40,
   "id": "d03fe63a-c7b2-4fb9-a53c-db362ce843c9",
   "metadata": {
    "execution": {
     "iopub.execute_input": "2022-06-16T10:23:48.839022Z",
     "iopub.status.busy": "2022-06-16T10:23:48.838830Z",
     "iopub.status.idle": "2022-06-16T10:23:48.857993Z",
     "shell.execute_reply": "2022-06-16T10:23:48.857450Z"
    },
    "papermill": {
     "duration": 1.197891,
     "end_time": "2022-06-16T10:23:48.859518",
     "exception": false,
     "start_time": "2022-06-16T10:23:47.661627",
     "status": "completed"
    },
    "tags": []
   },
   "outputs": [
    {
     "data": {
      "text/plain": [
       "'-0.05 / 0.05'"
      ]
     },
     "metadata": {},
     "output_type": "display_data"
    }
   ],
   "source": [
    "vmin_val = min(-0.05, gene_corrs_quantiles[0.10])\n",
    "vmax_val = max(0.05, gene_corrs_quantiles[0.90])\n",
    "display(f\"{vmin_val} / {vmax_val}\")"
   ]
  },
  {
   "cell_type": "code",
   "execution_count": 41,
   "id": "dc41b70b-5bcc-4d9e-9f33-a22c4a94dab5",
   "metadata": {
    "execution": {
     "iopub.execute_input": "2022-06-16T10:23:51.469149Z",
     "iopub.status.busy": "2022-06-16T10:23:51.468971Z",
     "iopub.status.idle": "2022-06-16T10:23:51.667658Z",
     "shell.execute_reply": "2022-06-16T10:23:51.667146Z"
    },
    "papermill": {
     "duration": 1.501272,
     "end_time": "2022-06-16T10:23:51.669351",
     "exception": false,
     "start_time": "2022-06-16T10:23:50.168079",
     "status": "completed"
    },
    "tags": []
   },
   "outputs": [
    {
     "data": {
      "text/plain": [
       "Text(0.5, 1.0, 'Gene correlations in chromosome 10')"
      ]
     },
     "execution_count": 41,
     "metadata": {},
     "output_type": "execute_result"
    },
    {
     "data": {
      "image/png": "[encoded data removed]",
      "text/plain": [
       "<Figure size 720x720 with 2 Axes>"
      ]
     },
     "metadata": {
      "needs_background": "light"
     },
     "output_type": "display_data"
    }
   ],
   "source": [
    "f, ax = plt.subplots(figsize=(10, 10))\n",
    "sns.heatmap(\n",
    "    gene_corrs_df,\n",
    "    xticklabels=False,\n",
    "    yticklabels=False,\n",
    "    square=True,\n",
    "    vmin=vmin_val,\n",
    "    vmax=vmax_val,\n",
    "    cmap=\"YlGnBu\",\n",
    "    ax=ax,\n",
    ")\n",
    "ax.set_title(f\"Gene correlations in chromosome {chromosome}\")"
   ]
  },
  {
   "cell_type": "code",
   "execution_count": null,
   "id": "b25e3ead",
   "metadata": {
    "papermill": {
     "duration": 1.254486,
     "end_time": "2022-06-16T10:23:54.187245",
     "exception": false,
     "start_time": "2022-06-16T10:23:52.932759",
     "status": "completed"
    },
    "tags": []
   },
   "outputs": [],
   "source": []
  }
 ],
 "metadata": {
  "jupytext": {
   "cell_metadata_filter": "all,-execution,-papermill,-trusted",
   "formats": "ipynb,py//py:percent"
  },
  "kernelspec": {
   "display_name": "Python 3 (ipykernel)",
   "language": "python",
   "name": "python3"
  },
  "language_info": {
   "codemirror_mode": {
    "name": "ipython",
    "version": 3
   },
   "file_extension": ".py",
   "mimetype": "text/x-python",
   "name": "python",
   "nbconvert_exporter": "python",
   "pygments_lexer": "ipython3",
   "version": "3.8.13"
  },
  "papermill": {
   "default_parameters": {},
   "duration": 8271.375202,
   "end_time": "2022-06-16T10:23:58.549076",
   "environment_variables": {},
   "exception": null,
   "input_path": "nbs/15_gsa_gls/10-gene_expr_correlations.ipynb",
   "output_path": "nbs/15_gsa_gls/gene_corrs/gtex_v8/mashr/10-gene_expr_correlations-chr10.run.ipynb",
   "parameters": {
    "EQTL_MODEL": "MASHR",
    "REFERENCE_PANEL": "GTEX_V8",
    "chromosome": 10
   },
   "start_time": "2022-06-16T08:06:07.173874",
   "version": "2.2.2"
  }
 },
 "nbformat": 4,
 "nbformat_minor": 5
}
