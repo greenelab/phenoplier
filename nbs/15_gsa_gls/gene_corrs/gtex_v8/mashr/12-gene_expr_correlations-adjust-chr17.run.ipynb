{
 "cells": [
  {
   "cell_type": "markdown",
   "id": "6c1f0ae4-cd27-4fec-a23d-51699e7059e8",
   "metadata": {
    "papermill": {
     "duration": 0.006186,
     "end_time": "2022-06-18T11:50:31.011841",
     "exception": false,
     "start_time": "2022-06-18T11:50:31.005655",
     "status": "completed"
    },
    "tags": []
   },
   "source": [
    "# Description"
   ]
  },
  {
   "cell_type": "markdown",
   "id": "3268a19a-8a83-4f61-aa39-09b084c81d61",
   "metadata": {
    "papermill": {
     "duration": 0.00529,
     "end_time": "2022-06-18T11:50:31.022583",
     "exception": false,
     "start_time": "2022-06-18T11:50:31.017293",
     "status": "completed"
    },
    "tags": []
   },
   "source": [
    "**TODO**"
   ]
  },
  {
   "cell_type": "markdown",
   "id": "401368d3-22c1-4d81-a2c3-c4a81fde4191",
   "metadata": {
    "papermill": {
     "duration": 0.005704,
     "end_time": "2022-06-18T11:50:31.033538",
     "exception": false,
     "start_time": "2022-06-18T11:50:31.027834",
     "status": "completed"
    },
    "tags": []
   },
   "source": [
    "# Modules"
   ]
  },
  {
   "cell_type": "code",
   "execution_count": 1,
   "id": "f9b5022b-7c5e-4d37-9c7a-fdb91777c7f9",
   "metadata": {
    "execution": {
     "iopub.execute_input": "2022-06-18T11:50:31.071996Z",
     "iopub.status.busy": "2022-06-18T11:50:31.070283Z",
     "iopub.status.idle": "2022-06-18T11:50:34.311486Z",
     "shell.execute_reply": "2022-06-18T11:50:34.310231Z"
    },
    "papermill": {
     "duration": 3.274404,
     "end_time": "2022-06-18T11:50:34.313199",
     "exception": false,
     "start_time": "2022-06-18T11:50:31.038795",
     "status": "completed"
    },
    "tags": []
   },
   "outputs": [],
   "source": [
    "library(reticulate)\n",
    "pd <- import(\"pandas\")"
   ]
  },
  {
   "cell_type": "markdown",
   "id": "c1958d6a-0229-47e8-823e-792fcf84fccf",
   "metadata": {
    "papermill": {
     "duration": 0.004475,
     "end_time": "2022-06-18T11:50:34.322478",
     "exception": false,
     "start_time": "2022-06-18T11:50:34.318003",
     "status": "completed"
    },
    "tags": []
   },
   "source": [
    "# Settings"
   ]
  },
  {
   "cell_type": "code",
   "execution_count": 2,
   "id": "22d12bb4-1699-4a6b-b1b9-d3fdd3d547d7",
   "metadata": {
    "execution": {
     "iopub.execute_input": "2022-06-18T11:50:34.354940Z",
     "iopub.status.busy": "2022-06-18T11:50:34.332947Z",
     "iopub.status.idle": "2022-06-18T11:50:34.367498Z",
     "shell.execute_reply": "2022-06-18T11:50:34.366243Z"
    },
    "papermill": {
     "duration": 0.041934,
     "end_time": "2022-06-18T11:50:34.369201",
     "exception": false,
     "start_time": "2022-06-18T11:50:34.327267",
     "status": "completed"
    },
    "tags": [
     "parameters"
    ]
   },
   "outputs": [],
   "source": [
    "# reference panel\n",
    "REFERENCE_PANEL <- \"GTEX_V8\"\n",
    "# REFERENCE_PANEL = \"1000G\"\n",
    "\n",
    "# prediction models\n",
    "## mashr\n",
    "EQTL_MODEL <- \"MASHR\"\n",
    "\n",
    "# ## elastic net\n",
    "# EQTL_MODEL = \"ELASTIC_NET\"\n",
    "\n",
    "chromosome <- NULL"
   ]
  },
  {
   "cell_type": "code",
   "execution_count": 3,
   "id": "c9cc8542",
   "metadata": {
    "execution": {
     "iopub.execute_input": "2022-06-18T11:50:34.380700Z",
     "iopub.status.busy": "2022-06-18T11:50:34.379703Z",
     "iopub.status.idle": "2022-06-18T11:50:34.397551Z",
     "shell.execute_reply": "2022-06-18T11:50:34.396290Z"
    },
    "papermill": {
     "duration": 0.025339,
     "end_time": "2022-06-18T11:50:34.399405",
     "exception": false,
     "start_time": "2022-06-18T11:50:34.374066",
     "status": "completed"
    },
    "tags": [
     "injected-parameters"
    ]
   },
   "outputs": [],
   "source": [
    "# Parameters\n",
    "chromosome = 17\n",
    "REFERENCE_PANEL = \"GTEX_V8\"\n",
    "EQTL_MODEL = \"MASHR\"\n"
   ]
  },
  {
   "cell_type": "code",
   "execution_count": 4,
   "id": "8fe24bef",
   "metadata": {
    "execution": {
     "iopub.execute_input": "2022-06-18T11:50:34.411386Z",
     "iopub.status.busy": "2022-06-18T11:50:34.410303Z",
     "iopub.status.idle": "2022-06-18T11:50:34.429291Z",
     "shell.execute_reply": "2022-06-18T11:50:34.426924Z"
    },
    "papermill": {
     "duration": 0.026973,
     "end_time": "2022-06-18T11:50:34.431486",
     "exception": false,
     "start_time": "2022-06-18T11:50:34.404513",
     "status": "completed"
    },
    "tags": []
   },
   "outputs": [
    {
     "data": {
      "text/html": [
       "'Using reference panel: GTEX_V8'"
      ],
      "text/latex": [
       "'Using reference panel: GTEX\\_V8'"
      ],
      "text/markdown": [
       "'Using reference panel: GTEX_V8'"
      ],
      "text/plain": [
       "[1] \"Using reference panel: GTEX_V8\""
      ]
     },
     "metadata": {},
     "output_type": "display_data"
    }
   ],
   "source": [
    "paste0(\"Using reference panel: \", REFERENCE_PANEL)"
   ]
  },
  {
   "cell_type": "code",
   "execution_count": 5,
   "id": "d62c28f8-186c-478b-948c-58e14f00df4b",
   "metadata": {
    "execution": {
     "iopub.execute_input": "2022-06-18T11:50:34.447526Z",
     "iopub.status.busy": "2022-06-18T11:50:34.446239Z",
     "iopub.status.idle": "2022-06-18T11:50:34.461092Z",
     "shell.execute_reply": "2022-06-18T11:50:34.459738Z"
    },
    "papermill": {
     "duration": 0.024039,
     "end_time": "2022-06-18T11:50:34.463015",
     "exception": false,
     "start_time": "2022-06-18T11:50:34.438976",
     "status": "completed"
    },
    "tags": []
   },
   "outputs": [
    {
     "data": {
      "text/html": [
       "'Using eQTL model: MASHR'"
      ],
      "text/latex": [
       "'Using eQTL model: MASHR'"
      ],
      "text/markdown": [
       "'Using eQTL model: MASHR'"
      ],
      "text/plain": [
       "[1] \"Using eQTL model: MASHR\""
      ]
     },
     "metadata": {},
     "output_type": "display_data"
    }
   ],
   "source": [
    "paste0(\"Using eQTL model: \", EQTL_MODEL)"
   ]
  },
  {
   "cell_type": "code",
   "execution_count": 6,
   "id": "5243676f-c889-4405-9a4d-262f0f044614",
   "metadata": {
    "execution": {
     "iopub.execute_input": "2022-06-18T11:50:34.476626Z",
     "iopub.status.busy": "2022-06-18T11:50:34.475465Z",
     "iopub.status.idle": "2022-06-18T11:50:34.485603Z",
     "shell.execute_reply": "2022-06-18T11:50:34.484297Z"
    },
    "papermill": {
     "duration": 0.018688,
     "end_time": "2022-06-18T11:50:34.487404",
     "exception": false,
     "start_time": "2022-06-18T11:50:34.468716",
     "status": "completed"
    },
    "tags": []
   },
   "outputs": [],
   "source": [
    "# chromosome must be provided as parameter\n",
    "stopifnot(!is.null(chromosome))"
   ]
  },
  {
   "cell_type": "markdown",
   "id": "83a49773-bcf5-44c4-8d9b-a6ac65a57ec6",
   "metadata": {
    "papermill": {
     "duration": 0.005624,
     "end_time": "2022-06-18T11:50:34.499210",
     "exception": false,
     "start_time": "2022-06-18T11:50:34.493586",
     "status": "completed"
    },
    "tags": []
   },
   "source": [
    "# Paths"
   ]
  },
  {
   "cell_type": "code",
   "execution_count": 7,
   "id": "eb6aa8aa-b452-4a2f-a780-93dd80ad4285",
   "metadata": {
    "execution": {
     "iopub.execute_input": "2022-06-18T11:50:34.512341Z",
     "iopub.status.busy": "2022-06-18T11:50:34.511148Z",
     "iopub.status.idle": "2022-06-18T11:50:34.525238Z",
     "shell.execute_reply": "2022-06-18T11:50:34.523899Z"
    },
    "papermill": {
     "duration": 0.022367,
     "end_time": "2022-06-18T11:50:34.527133",
     "exception": false,
     "start_time": "2022-06-18T11:50:34.504766",
     "status": "completed"
    },
    "tags": []
   },
   "outputs": [
    {
     "data": {
      "text/html": [
       "'/opt/data/data/phenomexcan/ld_blocks/gene_corrs'"
      ],
      "text/latex": [
       "'/opt/data/data/phenomexcan/ld\\_blocks/gene\\_corrs'"
      ],
      "text/markdown": [
       "'/opt/data/data/phenomexcan/ld_blocks/gene_corrs'"
      ],
      "text/plain": [
       "[1] \"/opt/data/data/phenomexcan/ld_blocks/gene_corrs\""
      ]
     },
     "metadata": {},
     "output_type": "display_data"
    }
   ],
   "source": [
    "GENE_CORRS_DIR <- Sys.getenv(\"PHENOPLIER_PHENOMEXCAN_LD_BLOCKS_GENE_CORRS_DIR\")\n",
    "IRdisplay::display(GENE_CORRS_DIR)"
   ]
  },
  {
   "cell_type": "code",
   "execution_count": 8,
   "id": "eb24f15f-f282-4476-8943-8413c4483f12",
   "metadata": {
    "execution": {
     "iopub.execute_input": "2022-06-18T11:50:34.540968Z",
     "iopub.status.busy": "2022-06-18T11:50:34.539788Z",
     "iopub.status.idle": "2022-06-18T11:50:34.553850Z",
     "shell.execute_reply": "2022-06-18T11:50:34.552503Z"
    },
    "papermill": {
     "duration": 0.022696,
     "end_time": "2022-06-18T11:50:34.555707",
     "exception": false,
     "start_time": "2022-06-18T11:50:34.533011",
     "status": "completed"
    },
    "tags": []
   },
   "outputs": [
    {
     "data": {
      "text/html": [
       "'/opt/data/data/phenomexcan/ld_blocks/gene_corrs/gtex_v8/mashr/by_chr'"
      ],
      "text/latex": [
       "'/opt/data/data/phenomexcan/ld\\_blocks/gene\\_corrs/gtex\\_v8/mashr/by\\_chr'"
      ],
      "text/markdown": [
       "'/opt/data/data/phenomexcan/ld_blocks/gene_corrs/gtex_v8/mashr/by_chr'"
      ],
      "text/plain": [
       "[1] \"/opt/data/data/phenomexcan/ld_blocks/gene_corrs/gtex_v8/mashr/by_chr\""
      ]
     },
     "metadata": {},
     "output_type": "display_data"
    }
   ],
   "source": [
    "INPUT_DIR <- file.path(GENE_CORRS_DIR, tolower(REFERENCE_PANEL), tolower(EQTL_MODEL), \"by_chr\")\n",
    "IRdisplay::display(INPUT_DIR)"
   ]
  },
  {
   "cell_type": "code",
   "execution_count": 9,
   "id": "43c1daba-0da9-4822-8d1e-968e9767e251",
   "metadata": {
    "execution": {
     "iopub.execute_input": "2022-06-18T11:50:34.570351Z",
     "iopub.status.busy": "2022-06-18T11:50:34.569087Z",
     "iopub.status.idle": "2022-06-18T11:50:34.595758Z",
     "shell.execute_reply": "2022-06-18T11:50:34.590935Z"
    },
    "papermill": {
     "duration": 0.040013,
     "end_time": "2022-06-18T11:50:34.601868",
     "exception": false,
     "start_time": "2022-06-18T11:50:34.561855",
     "status": "completed"
    },
    "tags": []
   },
   "outputs": [
    {
     "data": {
      "text/html": [
       "'/opt/data/data/phenomexcan/ld_blocks/gene_corrs/gtex_v8/mashr/by_chr/gene_corrs-chr17.pkl'"
      ],
      "text/latex": [
       "'/opt/data/data/phenomexcan/ld\\_blocks/gene\\_corrs/gtex\\_v8/mashr/by\\_chr/gene\\_corrs-chr17.pkl'"
      ],
      "text/markdown": [
       "'/opt/data/data/phenomexcan/ld_blocks/gene_corrs/gtex_v8/mashr/by_chr/gene_corrs-chr17.pkl'"
      ],
      "text/plain": [
       "[1] \"/opt/data/data/phenomexcan/ld_blocks/gene_corrs/gtex_v8/mashr/by_chr/gene_corrs-chr17.pkl\""
      ]
     },
     "metadata": {},
     "output_type": "display_data"
    }
   ],
   "source": [
    "INPUT_FILE <- file.path(INPUT_DIR, paste0(\"gene_corrs-chr\", chromosome, \".pkl\"))\n",
    "IRdisplay::display(INPUT_FILE)\n",
    "stopifnot(file.exists(INPUT_FILE))"
   ]
  },
  {
   "cell_type": "code",
   "execution_count": 10,
   "id": "72386fbf-982b-420a-9057-ea9a97a5e571",
   "metadata": {
    "execution": {
     "iopub.execute_input": "2022-06-18T11:50:34.659524Z",
     "iopub.status.busy": "2022-06-18T11:50:34.658507Z",
     "iopub.status.idle": "2022-06-18T11:50:34.685186Z",
     "shell.execute_reply": "2022-06-18T11:50:34.680193Z"
    },
    "papermill": {
     "duration": 0.071876,
     "end_time": "2022-06-18T11:50:34.686871",
     "exception": false,
     "start_time": "2022-06-18T11:50:34.614995",
     "status": "completed"
    },
    "tags": []
   },
   "outputs": [
    {
     "data": {
      "text/html": [
       "'/opt/data/data/phenomexcan/ld_blocks/gene_corrs/gtex_v8/mashr/by_chr/corrected_positive_definite'"
      ],
      "text/latex": [
       "'/opt/data/data/phenomexcan/ld\\_blocks/gene\\_corrs/gtex\\_v8/mashr/by\\_chr/corrected\\_positive\\_definite'"
      ],
      "text/markdown": [
       "'/opt/data/data/phenomexcan/ld_blocks/gene_corrs/gtex_v8/mashr/by_chr/corrected_positive_definite'"
      ],
      "text/plain": [
       "[1] \"/opt/data/data/phenomexcan/ld_blocks/gene_corrs/gtex_v8/mashr/by_chr/corrected_positive_definite\""
      ]
     },
     "metadata": {},
     "output_type": "display_data"
    }
   ],
   "source": [
    "OUTPUT_DIR <- file.path(INPUT_DIR, \"corrected_positive_definite\")\n",
    "IRdisplay::display(OUTPUT_DIR)\n",
    "dir.create(OUTPUT_DIR, recursive = TRUE, showWarnings = FALSE)"
   ]
  },
  {
   "cell_type": "code",
   "execution_count": 11,
   "id": "f9f19d1d-ce4c-4099-a26e-250fec751de7",
   "metadata": {
    "execution": {
     "iopub.execute_input": "2022-06-18T11:50:34.703106Z",
     "iopub.status.busy": "2022-06-18T11:50:34.702095Z",
     "iopub.status.idle": "2022-06-18T11:50:34.741856Z",
     "shell.execute_reply": "2022-06-18T11:50:34.731069Z"
    },
    "papermill": {
     "duration": 0.051922,
     "end_time": "2022-06-18T11:50:34.743888",
     "exception": false,
     "start_time": "2022-06-18T11:50:34.691966",
     "status": "completed"
    },
    "tags": []
   },
   "outputs": [
    {
     "data": {
      "text/html": [
       "'/opt/data/data/phenomexcan/ld_blocks/gene_corrs/gtex_v8/mashr/by_chr/corrected_positive_definite/gene_corrs-chr17.pkl'"
      ],
      "text/latex": [
       "'/opt/data/data/phenomexcan/ld\\_blocks/gene\\_corrs/gtex\\_v8/mashr/by\\_chr/corrected\\_positive\\_definite/gene\\_corrs-chr17.pkl'"
      ],
      "text/markdown": [
       "'/opt/data/data/phenomexcan/ld_blocks/gene_corrs/gtex_v8/mashr/by_chr/corrected_positive_definite/gene_corrs-chr17.pkl'"
      ],
      "text/plain": [
       "[1] \"/opt/data/data/phenomexcan/ld_blocks/gene_corrs/gtex_v8/mashr/by_chr/corrected_positive_definite/gene_corrs-chr17.pkl\""
      ]
     },
     "metadata": {},
     "output_type": "display_data"
    },
    {
     "data": {
      "text/html": [
       "'Output file exists, it will be overwritten'"
      ],
      "text/latex": [
       "'Output file exists, it will be overwritten'"
      ],
      "text/markdown": [
       "'Output file exists, it will be overwritten'"
      ],
      "text/plain": [
       "[1] \"Output file exists, it will be overwritten\""
      ]
     },
     "metadata": {},
     "output_type": "display_data"
    }
   ],
   "source": [
    "OUTPUT_FILE <- file.path(OUTPUT_DIR, paste0(\"gene_corrs-chr\", chromosome, \".pkl\"))\n",
    "IRdisplay::display(OUTPUT_FILE)\n",
    "if (file.exists(OUTPUT_FILE)) {\n",
    "  IRdisplay::display(\"Output file exists, it will be overwritten\")\n",
    "}"
   ]
  },
  {
   "cell_type": "markdown",
   "id": "5aad60e6-cba4-41b5-9755-93eb86f4ed05",
   "metadata": {
    "papermill": {
     "duration": 0.005682,
     "end_time": "2022-06-18T11:50:34.755818",
     "exception": false,
     "start_time": "2022-06-18T11:50:34.750136",
     "status": "completed"
    },
    "tags": []
   },
   "source": [
    "# Functions"
   ]
  },
  {
   "cell_type": "code",
   "execution_count": 12,
   "id": "f828f081-7358-4cc8-8a89-1ee293bcc1a7",
   "metadata": {
    "execution": {
     "iopub.execute_input": "2022-06-18T11:50:34.769109Z",
     "iopub.status.busy": "2022-06-18T11:50:34.768077Z",
     "iopub.status.idle": "2022-06-18T11:50:34.778872Z",
     "shell.execute_reply": "2022-06-18T11:50:34.777721Z"
    },
    "papermill": {
     "duration": 0.018909,
     "end_time": "2022-06-18T11:50:34.780498",
     "exception": false,
     "start_time": "2022-06-18T11:50:34.761589",
     "status": "completed"
    },
    "tags": []
   },
   "outputs": [],
   "source": [
    "# taken from https://www.r-bloggers.com/2013/08/correcting-a-pseudo-correlation-matrix-to-be-positive-semidefinite/\n",
    "# TODO: add documentation\n",
    "CorrectCM <- function(CM, p = 0) {\n",
    "  n <- dim(var(CM))[1L]\n",
    "  E <- eigen(CM)\n",
    "  CM1 <- E$vectors %*% tcrossprod(diag(pmax(E$values, p), n), E$vectors)\n",
    "  Balance <- diag(1 / sqrt(diag(CM1)))\n",
    "  CM2 <- Balance %*% CM1 %*% Balance\n",
    "  return(CM2)\n",
    "}"
   ]
  },
  {
   "cell_type": "code",
   "execution_count": 13,
   "id": "7ab9bebf-50a1-4e6f-b16a-e23cae93d02a",
   "metadata": {
    "execution": {
     "iopub.execute_input": "2022-06-18T11:50:34.793998Z",
     "iopub.status.busy": "2022-06-18T11:50:34.792937Z",
     "iopub.status.idle": "2022-06-18T11:50:34.802139Z",
     "shell.execute_reply": "2022-06-18T11:50:34.800890Z"
    },
    "papermill": {
     "duration": 0.017717,
     "end_time": "2022-06-18T11:50:34.803896",
     "exception": false,
     "start_time": "2022-06-18T11:50:34.786179",
     "status": "completed"
    },
    "tags": []
   },
   "outputs": [],
   "source": [
    "is_positive_definite <- function(data) {\n",
    "  eigenvalues <- eigen(data)$values\n",
    "  nonpositive_eigenvalues <- eigenvalues[eigenvalues <= 0]\n",
    "\n",
    "  if (length(nonpositive_eigenvalues) > 0) {\n",
    "    IRdisplay::display(\"We need to correct the data and make the matrix positive definite\")\n",
    "    return(FALSE)\n",
    "  } else {\n",
    "    IRdisplay::display(\"Matrix is already positive definite!\")\n",
    "    return(TRUE)\n",
    "  }\n",
    "}"
   ]
  },
  {
   "cell_type": "markdown",
   "id": "ac52ecbc-5618-4876-a4fa-546a08e3fcf3",
   "metadata": {
    "papermill": {
     "duration": 0.005777,
     "end_time": "2022-06-18T11:50:34.815638",
     "exception": false,
     "start_time": "2022-06-18T11:50:34.809861",
     "status": "completed"
    },
    "tags": []
   },
   "source": [
    "# Load data"
   ]
  },
  {
   "cell_type": "code",
   "execution_count": 14,
   "id": "3a7744e1-2e5a-450e-9dcf-945ec181347d",
   "metadata": {
    "execution": {
     "iopub.execute_input": "2022-06-18T11:50:34.828888Z",
     "iopub.status.busy": "2022-06-18T11:50:34.827869Z",
     "iopub.status.idle": "2022-06-18T11:50:34.905819Z",
     "shell.execute_reply": "2022-06-18T11:50:34.904097Z"
    },
    "papermill": {
     "duration": 0.086499,
     "end_time": "2022-06-18T11:50:34.907854",
     "exception": false,
     "start_time": "2022-06-18T11:50:34.821355",
     "status": "completed"
    },
    "tags": []
   },
   "outputs": [],
   "source": [
    "gene_corrs <- pd$read_pickle(INPUT_FILE)"
   ]
  },
  {
   "cell_type": "code",
   "execution_count": 15,
   "id": "6fb150b2-4c68-4e9b-9aa5-1890d3f762e3",
   "metadata": {
    "execution": {
     "iopub.execute_input": "2022-06-18T11:50:34.923299Z",
     "iopub.status.busy": "2022-06-18T11:50:34.922209Z",
     "iopub.status.idle": "2022-06-18T11:50:34.937828Z",
     "shell.execute_reply": "2022-06-18T11:50:34.935795Z"
    },
    "papermill": {
     "duration": 0.024675,
     "end_time": "2022-06-18T11:50:34.939570",
     "exception": false,
     "start_time": "2022-06-18T11:50:34.914895",
     "status": "completed"
    },
    "tags": []
   },
   "outputs": [
    {
     "data": {
      "text/html": [
       "<style>\n",
       ".list-inline {list-style: none; margin:0; padding: 0}\n",
       ".list-inline>li {display: inline-block}\n",
       ".list-inline>li:not(:last-child)::after {content: \"\\00b7\"; padding: 0 .5ex}\n",
       "</style>\n",
       "<ol class=list-inline><li>411</li><li>411</li></ol>\n"
      ],
      "text/latex": [
       "\\begin{enumerate*}\n",
       "\\item 411\n",
       "\\item 411\n",
       "\\end{enumerate*}\n"
      ],
      "text/markdown": [
       "1. 411\n",
       "2. 411\n",
       "\n",
       "\n"
      ],
      "text/plain": [
       "[1] 411 411"
      ]
     },
     "metadata": {},
     "output_type": "display_data"
    }
   ],
   "source": [
    "dim(gene_corrs)"
   ]
  },
  {
   "cell_type": "code",
   "execution_count": 16,
   "id": "0d4e53b5-7586-4a68-8ce5-d930d74ba943",
   "metadata": {
    "execution": {
     "iopub.execute_input": "2022-06-18T11:50:34.954256Z",
     "iopub.status.busy": "2022-06-18T11:50:34.953176Z",
     "iopub.status.idle": "2022-06-18T11:50:34.976700Z",
     "shell.execute_reply": "2022-06-18T11:50:34.975508Z"
    },
    "papermill": {
     "duration": 0.032091,
     "end_time": "2022-06-18T11:50:34.978399",
     "exception": false,
     "start_time": "2022-06-18T11:50:34.946308",
     "status": "completed"
    },
    "tags": []
   },
   "outputs": [
    {
     "data": {
      "text/html": [
       "<table class=\"dataframe\">\n",
       "<caption>A data.frame: 6 × 10</caption>\n",
       "<thead>\n",
       "\t<tr><th></th><th scope=col>ENSG00000141252</th><th scope=col>ENSG00000179409</th><th scope=col>ENSG00000177370</th><th scope=col>ENSG00000159842</th><th scope=col>ENSG00000108953</th><th scope=col>ENSG00000167193</th><th scope=col>ENSG00000132376</th><th scope=col>ENSG00000174238</th><th scope=col>ENSG00000167703</th><th scope=col>ENSG00000074660</th></tr>\n",
       "\t<tr><th></th><th scope=col>&lt;dbl&gt;</th><th scope=col>&lt;dbl&gt;</th><th scope=col>&lt;dbl&gt;</th><th scope=col>&lt;dbl&gt;</th><th scope=col>&lt;dbl&gt;</th><th scope=col>&lt;dbl&gt;</th><th scope=col>&lt;dbl&gt;</th><th scope=col>&lt;dbl&gt;</th><th scope=col>&lt;dbl&gt;</th><th scope=col>&lt;dbl&gt;</th></tr>\n",
       "</thead>\n",
       "<tbody>\n",
       "\t<tr><th scope=row>ENSG00000141252</th><td> 1.000000000</td><td>-0.002168166</td><td>-0.10526912</td><td>-0.14260553</td><td>-0.11679223</td><td>-0.1264286</td><td> 0.03305758</td><td> 0.04929982</td><td> 0.05354040</td><td> 0.09827782</td></tr>\n",
       "\t<tr><th scope=row>ENSG00000179409</th><td>-0.002168166</td><td> 1.000000000</td><td> 0.04153991</td><td> 0.02523228</td><td>-0.07800946</td><td>-0.1177687</td><td>-0.14877769</td><td>-0.09574923</td><td>-0.01690717</td><td> 0.07129504</td></tr>\n",
       "\t<tr><th scope=row>ENSG00000177370</th><td>-0.105269116</td><td> 0.041539907</td><td> 1.00000000</td><td>-0.01133539</td><td>-0.21439141</td><td>-0.1725250</td><td> 0.10247609</td><td>-0.13978892</td><td> 0.00723778</td><td>-0.16551010</td></tr>\n",
       "\t<tr><th scope=row>ENSG00000159842</th><td>-0.142605531</td><td> 0.025232278</td><td>-0.01133539</td><td> 1.00000000</td><td> 0.09116378</td><td> 0.1511315</td><td>-0.07990859</td><td>-0.04184291</td><td> 0.01421924</td><td>-0.05225554</td></tr>\n",
       "\t<tr><th scope=row>ENSG00000108953</th><td>-0.116792232</td><td>-0.078009458</td><td>-0.21439141</td><td> 0.09116378</td><td> 1.00000000</td><td> 0.1621040</td><td>-0.03117966</td><td>-0.13869220</td><td>-0.07390874</td><td>-0.06960261</td></tr>\n",
       "\t<tr><th scope=row>ENSG00000167193</th><td>-0.126428580</td><td>-0.117768749</td><td>-0.17252496</td><td> 0.15113150</td><td> 0.16210402</td><td> 1.0000000</td><td>-0.13947468</td><td>-0.04390502</td><td> 0.01581805</td><td>-0.19394277</td></tr>\n",
       "</tbody>\n",
       "</table>\n"
      ],
      "text/latex": [
       "A data.frame: 6 × 10\n",
       "\\begin{tabular}{r|llllllllll}\n",
       "  & ENSG00000141252 & ENSG00000179409 & ENSG00000177370 & ENSG00000159842 & ENSG00000108953 & ENSG00000167193 & ENSG00000132376 & ENSG00000174238 & ENSG00000167703 & ENSG00000074660\\\\\n",
       "  & <dbl> & <dbl> & <dbl> & <dbl> & <dbl> & <dbl> & <dbl> & <dbl> & <dbl> & <dbl>\\\\\n",
       "\\hline\n",
       "\tENSG00000141252 &  1.000000000 & -0.002168166 & -0.10526912 & -0.14260553 & -0.11679223 & -0.1264286 &  0.03305758 &  0.04929982 &  0.05354040 &  0.09827782\\\\\n",
       "\tENSG00000179409 & -0.002168166 &  1.000000000 &  0.04153991 &  0.02523228 & -0.07800946 & -0.1177687 & -0.14877769 & -0.09574923 & -0.01690717 &  0.07129504\\\\\n",
       "\tENSG00000177370 & -0.105269116 &  0.041539907 &  1.00000000 & -0.01133539 & -0.21439141 & -0.1725250 &  0.10247609 & -0.13978892 &  0.00723778 & -0.16551010\\\\\n",
       "\tENSG00000159842 & -0.142605531 &  0.025232278 & -0.01133539 &  1.00000000 &  0.09116378 &  0.1511315 & -0.07990859 & -0.04184291 &  0.01421924 & -0.05225554\\\\\n",
       "\tENSG00000108953 & -0.116792232 & -0.078009458 & -0.21439141 &  0.09116378 &  1.00000000 &  0.1621040 & -0.03117966 & -0.13869220 & -0.07390874 & -0.06960261\\\\\n",
       "\tENSG00000167193 & -0.126428580 & -0.117768749 & -0.17252496 &  0.15113150 &  0.16210402 &  1.0000000 & -0.13947468 & -0.04390502 &  0.01581805 & -0.19394277\\\\\n",
       "\\end{tabular}\n"
      ],
      "text/markdown": [
       "\n",
       "A data.frame: 6 × 10\n",
       "\n",
       "| <!--/--> | ENSG00000141252 &lt;dbl&gt; | ENSG00000179409 &lt;dbl&gt; | ENSG00000177370 &lt;dbl&gt; | ENSG00000159842 &lt;dbl&gt; | ENSG00000108953 &lt;dbl&gt; | ENSG00000167193 &lt;dbl&gt; | ENSG00000132376 &lt;dbl&gt; | ENSG00000174238 &lt;dbl&gt; | ENSG00000167703 &lt;dbl&gt; | ENSG00000074660 &lt;dbl&gt; |\n",
       "|---|---|---|---|---|---|---|---|---|---|---|\n",
       "| ENSG00000141252 |  1.000000000 | -0.002168166 | -0.10526912 | -0.14260553 | -0.11679223 | -0.1264286 |  0.03305758 |  0.04929982 |  0.05354040 |  0.09827782 |\n",
       "| ENSG00000179409 | -0.002168166 |  1.000000000 |  0.04153991 |  0.02523228 | -0.07800946 | -0.1177687 | -0.14877769 | -0.09574923 | -0.01690717 |  0.07129504 |\n",
       "| ENSG00000177370 | -0.105269116 |  0.041539907 |  1.00000000 | -0.01133539 | -0.21439141 | -0.1725250 |  0.10247609 | -0.13978892 |  0.00723778 | -0.16551010 |\n",
       "| ENSG00000159842 | -0.142605531 |  0.025232278 | -0.01133539 |  1.00000000 |  0.09116378 |  0.1511315 | -0.07990859 | -0.04184291 |  0.01421924 | -0.05225554 |\n",
       "| ENSG00000108953 | -0.116792232 | -0.078009458 | -0.21439141 |  0.09116378 |  1.00000000 |  0.1621040 | -0.03117966 | -0.13869220 | -0.07390874 | -0.06960261 |\n",
       "| ENSG00000167193 | -0.126428580 | -0.117768749 | -0.17252496 |  0.15113150 |  0.16210402 |  1.0000000 | -0.13947468 | -0.04390502 |  0.01581805 | -0.19394277 |\n",
       "\n"
      ],
      "text/plain": [
       "                ENSG00000141252 ENSG00000179409 ENSG00000177370 ENSG00000159842\n",
       "ENSG00000141252  1.000000000    -0.002168166    -0.10526912     -0.14260553    \n",
       "ENSG00000179409 -0.002168166     1.000000000     0.04153991      0.02523228    \n",
       "ENSG00000177370 -0.105269116     0.041539907     1.00000000     -0.01133539    \n",
       "ENSG00000159842 -0.142605531     0.025232278    -0.01133539      1.00000000    \n",
       "ENSG00000108953 -0.116792232    -0.078009458    -0.21439141      0.09116378    \n",
       "ENSG00000167193 -0.126428580    -0.117768749    -0.17252496      0.15113150    \n",
       "                ENSG00000108953 ENSG00000167193 ENSG00000132376 ENSG00000174238\n",
       "ENSG00000141252 -0.11679223     -0.1264286       0.03305758      0.04929982    \n",
       "ENSG00000179409 -0.07800946     -0.1177687      -0.14877769     -0.09574923    \n",
       "ENSG00000177370 -0.21439141     -0.1725250       0.10247609     -0.13978892    \n",
       "ENSG00000159842  0.09116378      0.1511315      -0.07990859     -0.04184291    \n",
       "ENSG00000108953  1.00000000      0.1621040      -0.03117966     -0.13869220    \n",
       "ENSG00000167193  0.16210402      1.0000000      -0.13947468     -0.04390502    \n",
       "                ENSG00000167703 ENSG00000074660\n",
       "ENSG00000141252  0.05354040      0.09827782    \n",
       "ENSG00000179409 -0.01690717      0.07129504    \n",
       "ENSG00000177370  0.00723778     -0.16551010    \n",
       "ENSG00000159842  0.01421924     -0.05225554    \n",
       "ENSG00000108953 -0.07390874     -0.06960261    \n",
       "ENSG00000167193  0.01581805     -0.19394277    "
      ]
     },
     "metadata": {},
     "output_type": "display_data"
    }
   ],
   "source": [
    "head(gene_corrs[1:10, 1:10])"
   ]
  },
  {
   "cell_type": "markdown",
   "id": "c5c9ffba-1678-4ce7-8988-4ee03e23bdf2",
   "metadata": {
    "papermill": {
     "duration": 0.006168,
     "end_time": "2022-06-18T11:50:34.990863",
     "exception": false,
     "start_time": "2022-06-18T11:50:34.984695",
     "status": "completed"
    },
    "tags": []
   },
   "source": [
    "# Check positive definiteness"
   ]
  },
  {
   "cell_type": "code",
   "execution_count": 17,
   "id": "178854f5-487a-42e8-82b4-625c1979734a",
   "metadata": {
    "execution": {
     "iopub.execute_input": "2022-06-18T11:50:35.005897Z",
     "iopub.status.busy": "2022-06-18T11:50:35.004857Z",
     "iopub.status.idle": "2022-06-18T11:50:35.076293Z",
     "shell.execute_reply": "2022-06-18T11:50:35.072898Z"
    },
    "papermill": {
     "duration": 0.080718,
     "end_time": "2022-06-18T11:50:35.078074",
     "exception": false,
     "start_time": "2022-06-18T11:50:34.997356",
     "status": "completed"
    },
    "tags": []
   },
   "outputs": [
    {
     "data": {
      "text/html": [
       "'We need to correct the data and make the matrix positive definite'"
      ],
      "text/latex": [
       "'We need to correct the data and make the matrix positive definite'"
      ],
      "text/markdown": [
       "'We need to correct the data and make the matrix positive definite'"
      ],
      "text/plain": [
       "[1] \"We need to correct the data and make the matrix positive definite\""
      ]
     },
     "metadata": {},
     "output_type": "display_data"
    },
    {
     "data": {
      "text/html": [
       "FALSE"
      ],
      "text/latex": [
       "FALSE"
      ],
      "text/markdown": [
       "FALSE"
      ],
      "text/plain": [
       "[1] FALSE"
      ]
     },
     "metadata": {},
     "output_type": "display_data"
    }
   ],
   "source": [
    "is_positive_definite(gene_corrs)"
   ]
  },
  {
   "cell_type": "code",
   "execution_count": 18,
   "id": "58542ade-c80f-42e6-acbf-6464dab70fdb",
   "metadata": {
    "execution": {
     "iopub.execute_input": "2022-06-18T11:50:35.119779Z",
     "iopub.status.busy": "2022-06-18T11:50:35.118638Z",
     "iopub.status.idle": "2022-06-18T11:50:35.183631Z",
     "shell.execute_reply": "2022-06-18T11:50:35.181521Z"
    },
    "papermill": {
     "duration": 0.09278,
     "end_time": "2022-06-18T11:50:35.189399",
     "exception": false,
     "start_time": "2022-06-18T11:50:35.096619",
     "status": "completed"
    },
    "tags": []
   },
   "outputs": [],
   "source": [
    "# see eigenvalues\n",
    "eigenvalues <- eigen(gene_corrs)$values"
   ]
  },
  {
   "cell_type": "code",
   "execution_count": 19,
   "id": "9486e0db-e924-43ab-bb6c-0d997fd38f3d",
   "metadata": {
    "execution": {
     "iopub.execute_input": "2022-06-18T11:50:35.205561Z",
     "iopub.status.busy": "2022-06-18T11:50:35.204326Z",
     "iopub.status.idle": "2022-06-18T11:50:35.228842Z",
     "shell.execute_reply": "2022-06-18T11:50:35.226653Z"
    },
    "papermill": {
     "duration": 0.034337,
     "end_time": "2022-06-18T11:50:35.230749",
     "exception": false,
     "start_time": "2022-06-18T11:50:35.196412",
     "status": "completed"
    },
    "tags": []
   },
   "outputs": [
    {
     "data": {
      "text/html": [
       "60"
      ],
      "text/latex": [
       "60"
      ],
      "text/markdown": [
       "60"
      ],
      "text/plain": [
       "[1] 60"
      ]
     },
     "metadata": {},
     "output_type": "display_data"
    },
    {
     "data": {
      "text/html": [
       "<style>\n",
       ".list-inline {list-style: none; margin:0; padding: 0}\n",
       ".list-inline>li {display: inline-block}\n",
       ".list-inline>li:not(:last-child)::after {content: \"\\00b7\"; padding: 0 .5ex}\n",
       "</style>\n",
       "<ol class=list-inline><li>-0.026428236396093</li><li>-0.0365230592543935</li><li>-0.056151360157697</li><li>-0.0594639829218443</li><li>-0.0596400920061789</li><li>-0.0725508498931533</li><li>-0.0783982226690441</li><li>-0.101749876213494</li><li>-0.119807077963314</li><li>-0.121237733285301</li><li>-0.124966104519484</li><li>-0.146502371708752</li><li>-0.158555794271332</li><li>-0.171289026226264</li><li>-0.206109115454288</li><li>-0.220568989461413</li><li>-0.22567766194084</li><li>-0.248908283254785</li><li>-0.25607501655805</li><li>-0.258884798896655</li><li>-0.261476914446826</li><li>-0.272403689706207</li><li>-0.294440658128185</li><li>-0.312490177643378</li><li>-0.326678420307383</li><li>-0.337906853519581</li><li>-0.372563803179041</li><li>-0.377639146467617</li><li>-0.402788438921893</li><li>-0.428333763398385</li><li>-0.436701093747782</li><li>-0.470665397273833</li><li>-0.47671398682443</li><li>-0.513101473470063</li><li>-0.560487723165956</li><li>-0.599770568628829</li><li>-0.64451515896847</li><li>-0.653019280058866</li><li>-0.685995329262863</li><li>-0.720396671618183</li><li>-0.730773592422546</li><li>-0.82961473182034</li><li>-0.861540534714911</li><li>-0.897968249388113</li><li>-0.950959313571081</li><li>-0.964672517562079</li><li>-1.02496194986159</li><li>-1.04194881481475</li><li>-1.10792360147017</li><li>-1.15248450989269</li><li>-1.18591465584324</li><li>-1.2142268977795</li><li>-1.28089791073031</li><li>-1.29071636298175</li><li>-1.36613434541034</li><li>-1.46650716683852</li><li>-1.56361007012075</li><li>-1.65386644992714</li><li>-1.95994697997235</li><li>-3.9536209893661</li></ol>\n"
      ],
      "text/latex": [
       "\\begin{enumerate*}\n",
       "\\item -0.026428236396093\n",
       "\\item -0.0365230592543935\n",
       "\\item -0.056151360157697\n",
       "\\item -0.0594639829218443\n",
       "\\item -0.0596400920061789\n",
       "\\item -0.0725508498931533\n",
       "\\item -0.0783982226690441\n",
       "\\item -0.101749876213494\n",
       "\\item -0.119807077963314\n",
       "\\item -0.121237733285301\n",
       "\\item -0.124966104519484\n",
       "\\item -0.146502371708752\n",
       "\\item -0.158555794271332\n",
       "\\item -0.171289026226264\n",
       "\\item -0.206109115454288\n",
       "\\item -0.220568989461413\n",
       "\\item -0.22567766194084\n",
       "\\item -0.248908283254785\n",
       "\\item -0.25607501655805\n",
       "\\item -0.258884798896655\n",
       "\\item -0.261476914446826\n",
       "\\item -0.272403689706207\n",
       "\\item -0.294440658128185\n",
       "\\item -0.312490177643378\n",
       "\\item -0.326678420307383\n",
       "\\item -0.337906853519581\n",
       "\\item -0.372563803179041\n",
       "\\item -0.377639146467617\n",
       "\\item -0.402788438921893\n",
       "\\item -0.428333763398385\n",
       "\\item -0.436701093747782\n",
       "\\item -0.470665397273833\n",
       "\\item -0.47671398682443\n",
       "\\item -0.513101473470063\n",
       "\\item -0.560487723165956\n",
       "\\item -0.599770568628829\n",
       "\\item -0.64451515896847\n",
       "\\item -0.653019280058866\n",
       "\\item -0.685995329262863\n",
       "\\item -0.720396671618183\n",
       "\\item -0.730773592422546\n",
       "\\item -0.82961473182034\n",
       "\\item -0.861540534714911\n",
       "\\item -0.897968249388113\n",
       "\\item -0.950959313571081\n",
       "\\item -0.964672517562079\n",
       "\\item -1.02496194986159\n",
       "\\item -1.04194881481475\n",
       "\\item -1.10792360147017\n",
       "\\item -1.15248450989269\n",
       "\\item -1.18591465584324\n",
       "\\item -1.2142268977795\n",
       "\\item -1.28089791073031\n",
       "\\item -1.29071636298175\n",
       "\\item -1.36613434541034\n",
       "\\item -1.46650716683852\n",
       "\\item -1.56361007012075\n",
       "\\item -1.65386644992714\n",
       "\\item -1.95994697997235\n",
       "\\item -3.9536209893661\n",
       "\\end{enumerate*}\n"
      ],
      "text/markdown": [
       "1. -0.026428236396093\n",
       "2. -0.0365230592543935\n",
       "3. -0.056151360157697\n",
       "4. -0.0594639829218443\n",
       "5. -0.0596400920061789\n",
       "6. -0.0725508498931533\n",
       "7. -0.0783982226690441\n",
       "8. -0.101749876213494\n",
       "9. -0.119807077963314\n",
       "10. -0.121237733285301\n",
       "11. -0.124966104519484\n",
       "12. -0.146502371708752\n",
       "13. -0.158555794271332\n",
       "14. -0.171289026226264\n",
       "15. -0.206109115454288\n",
       "16. -0.220568989461413\n",
       "17. -0.22567766194084\n",
       "18. -0.248908283254785\n",
       "19. -0.25607501655805\n",
       "20. -0.258884798896655\n",
       "21. -0.261476914446826\n",
       "22. -0.272403689706207\n",
       "23. -0.294440658128185\n",
       "24. -0.312490177643378\n",
       "25. -0.326678420307383\n",
       "26. -0.337906853519581\n",
       "27. -0.372563803179041\n",
       "28. -0.377639146467617\n",
       "29. -0.402788438921893\n",
       "30. -0.428333763398385\n",
       "31. -0.436701093747782\n",
       "32. -0.470665397273833\n",
       "33. -0.47671398682443\n",
       "34. -0.513101473470063\n",
       "35. -0.560487723165956\n",
       "36. -0.599770568628829\n",
       "37. -0.64451515896847\n",
       "38. -0.653019280058866\n",
       "39. -0.685995329262863\n",
       "40. -0.720396671618183\n",
       "41. -0.730773592422546\n",
       "42. -0.82961473182034\n",
       "43. -0.861540534714911\n",
       "44. -0.897968249388113\n",
       "45. -0.950959313571081\n",
       "46. -0.964672517562079\n",
       "47. -1.02496194986159\n",
       "48. -1.04194881481475\n",
       "49. -1.10792360147017\n",
       "50. -1.15248450989269\n",
       "51. -1.18591465584324\n",
       "52. -1.2142268977795\n",
       "53. -1.28089791073031\n",
       "54. -1.29071636298175\n",
       "55. -1.36613434541034\n",
       "56. -1.46650716683852\n",
       "57. -1.56361007012075\n",
       "58. -1.65386644992714\n",
       "59. -1.95994697997235\n",
       "60. -3.9536209893661\n",
       "\n",
       "\n"
      ],
      "text/plain": [
       " [1] -0.02642824 -0.03652306 -0.05615136 -0.05946398 -0.05964009 -0.07255085\n",
       " [7] -0.07839822 -0.10174988 -0.11980708 -0.12123773 -0.12496610 -0.14650237\n",
       "[13] -0.15855579 -0.17128903 -0.20610912 -0.22056899 -0.22567766 -0.24890828\n",
       "[19] -0.25607502 -0.25888480 -0.26147691 -0.27240369 -0.29444066 -0.31249018\n",
       "[25] -0.32667842 -0.33790685 -0.37256380 -0.37763915 -0.40278844 -0.42833376\n",
       "[31] -0.43670109 -0.47066540 -0.47671399 -0.51310147 -0.56048772 -0.59977057\n",
       "[37] -0.64451516 -0.65301928 -0.68599533 -0.72039667 -0.73077359 -0.82961473\n",
       "[43] -0.86154053 -0.89796825 -0.95095931 -0.96467252 -1.02496195 -1.04194881\n",
       "[49] -1.10792360 -1.15248451 -1.18591466 -1.21422690 -1.28089791 -1.29071636\n",
       "[55] -1.36613435 -1.46650717 -1.56361007 -1.65386645 -1.95994698 -3.95362099"
      ]
     },
     "metadata": {},
     "output_type": "display_data"
    }
   ],
   "source": [
    "nonpositive_eigenvalues <- eigenvalues[eigenvalues <= 0]\n",
    "IRdisplay::display(length(nonpositive_eigenvalues))\n",
    "IRdisplay::display(nonpositive_eigenvalues)"
   ]
  },
  {
   "cell_type": "code",
   "execution_count": 20,
   "id": "410ee452-488f-4518-b93a-2acd608ba99c",
   "metadata": {
    "execution": {
     "iopub.execute_input": "2022-06-18T11:50:35.246978Z",
     "iopub.status.busy": "2022-06-18T11:50:35.245841Z",
     "iopub.status.idle": "2022-06-18T11:50:35.256778Z",
     "shell.execute_reply": "2022-06-18T11:50:35.254839Z"
    },
    "papermill": {
     "duration": 0.020109,
     "end_time": "2022-06-18T11:50:35.258543",
     "exception": false,
     "start_time": "2022-06-18T11:50:35.238434",
     "status": "completed"
    },
    "tags": []
   },
   "outputs": [],
   "source": [
    "if (length(eigenvalues[eigenvalues <= 0]) == 0) { quit() }"
   ]
  },
  {
   "cell_type": "markdown",
   "id": "2d280a82-f231-402d-82ab-9291d395afc1",
   "metadata": {
    "papermill": {
     "duration": 0.00658,
     "end_time": "2022-06-18T11:50:35.272057",
     "exception": false,
     "start_time": "2022-06-18T11:50:35.265477",
     "status": "completed"
    },
    "tags": []
   },
   "source": [
    "# Make matrix positive definite if needed"
   ]
  },
  {
   "cell_type": "code",
   "execution_count": 21,
   "id": "b9037873-4067-4ac6-aa92-e9225a6c9353",
   "metadata": {
    "execution": {
     "iopub.execute_input": "2022-06-18T11:50:35.287176Z",
     "iopub.status.busy": "2022-06-18T11:50:35.286138Z",
     "iopub.status.idle": "2022-06-18T11:50:35.399408Z",
     "shell.execute_reply": "2022-06-18T11:50:35.398201Z"
    },
    "papermill": {
     "duration": 0.122439,
     "end_time": "2022-06-18T11:50:35.400978",
     "exception": false,
     "start_time": "2022-06-18T11:50:35.278539",
     "status": "completed"
    },
    "tags": []
   },
   "outputs": [],
   "source": [
    "gene_corrs_corrected <- CorrectCM(gene_corrs, 1)"
   ]
  },
  {
   "cell_type": "code",
   "execution_count": 22,
   "id": "03c86284-5aac-4f66-86cc-74eb97102a7e",
   "metadata": {
    "execution": {
     "iopub.execute_input": "2022-06-18T11:50:35.416640Z",
     "iopub.status.busy": "2022-06-18T11:50:35.415532Z",
     "iopub.status.idle": "2022-06-18T11:50:35.431634Z",
     "shell.execute_reply": "2022-06-18T11:50:35.428754Z"
    },
    "papermill": {
     "duration": 0.025932,
     "end_time": "2022-06-18T11:50:35.433744",
     "exception": false,
     "start_time": "2022-06-18T11:50:35.407812",
     "status": "completed"
    },
    "tags": []
   },
   "outputs": [],
   "source": [
    "dimnames(gene_corrs_corrected)[[1]] <- rownames(gene_corrs)"
   ]
  },
  {
   "cell_type": "code",
   "execution_count": 23,
   "id": "576e7069-25ff-473d-8158-35b5f2ff212e",
   "metadata": {
    "execution": {
     "iopub.execute_input": "2022-06-18T11:50:35.459985Z",
     "iopub.status.busy": "2022-06-18T11:50:35.458890Z",
     "iopub.status.idle": "2022-06-18T11:50:35.468290Z",
     "shell.execute_reply": "2022-06-18T11:50:35.467017Z"
    },
    "papermill": {
     "duration": 0.023095,
     "end_time": "2022-06-18T11:50:35.470223",
     "exception": false,
     "start_time": "2022-06-18T11:50:35.447128",
     "status": "completed"
    },
    "tags": []
   },
   "outputs": [],
   "source": [
    "dimnames(gene_corrs_corrected)[[2]] <- colnames(gene_corrs)"
   ]
  },
  {
   "cell_type": "code",
   "execution_count": 24,
   "id": "f77d043a-321d-447f-8da5-2503981d3e73",
   "metadata": {
    "execution": {
     "iopub.execute_input": "2022-06-18T11:50:35.486711Z",
     "iopub.status.busy": "2022-06-18T11:50:35.485705Z",
     "iopub.status.idle": "2022-06-18T11:50:35.497987Z",
     "shell.execute_reply": "2022-06-18T11:50:35.496792Z"
    },
    "papermill": {
     "duration": 0.022145,
     "end_time": "2022-06-18T11:50:35.499757",
     "exception": false,
     "start_time": "2022-06-18T11:50:35.477612",
     "status": "completed"
    },
    "tags": []
   },
   "outputs": [],
   "source": [
    "gene_corrs_corrected <- as.data.frame(gene_corrs_corrected)"
   ]
  },
  {
   "cell_type": "code",
   "execution_count": 25,
   "id": "3e844024-f9a2-42a2-bbd0-695cfdbb78f5",
   "metadata": {
    "execution": {
     "iopub.execute_input": "2022-06-18T11:50:35.515912Z",
     "iopub.status.busy": "2022-06-18T11:50:35.514919Z",
     "iopub.status.idle": "2022-06-18T11:50:35.526625Z",
     "shell.execute_reply": "2022-06-18T11:50:35.525312Z"
    },
    "papermill": {
     "duration": 0.021426,
     "end_time": "2022-06-18T11:50:35.528580",
     "exception": false,
     "start_time": "2022-06-18T11:50:35.507154",
     "status": "completed"
    },
    "tags": []
   },
   "outputs": [
    {
     "data": {
      "text/html": [
       "<style>\n",
       ".list-inline {list-style: none; margin:0; padding: 0}\n",
       ".list-inline>li {display: inline-block}\n",
       ".list-inline>li:not(:last-child)::after {content: \"\\00b7\"; padding: 0 .5ex}\n",
       "</style>\n",
       "<ol class=list-inline><li>411</li><li>411</li></ol>\n"
      ],
      "text/latex": [
       "\\begin{enumerate*}\n",
       "\\item 411\n",
       "\\item 411\n",
       "\\end{enumerate*}\n"
      ],
      "text/markdown": [
       "1. 411\n",
       "2. 411\n",
       "\n",
       "\n"
      ],
      "text/plain": [
       "[1] 411 411"
      ]
     },
     "metadata": {},
     "output_type": "display_data"
    }
   ],
   "source": [
    "dim(gene_corrs_corrected)"
   ]
  },
  {
   "cell_type": "markdown",
   "id": "244b6bde-4ca8-46d1-acc7-b4c35b5d3c62",
   "metadata": {
    "papermill": {
     "duration": 0.00719,
     "end_time": "2022-06-18T11:50:35.543031",
     "exception": false,
     "start_time": "2022-06-18T11:50:35.535841",
     "status": "completed"
    },
    "tags": []
   },
   "source": [
    "# Check positive definiteness of corrected matrix"
   ]
  },
  {
   "cell_type": "code",
   "execution_count": 26,
   "id": "0fd5b688-e137-4619-910c-35130d32d600",
   "metadata": {
    "execution": {
     "iopub.execute_input": "2022-06-18T11:50:35.560603Z",
     "iopub.status.busy": "2022-06-18T11:50:35.559266Z",
     "iopub.status.idle": "2022-06-18T11:50:35.740118Z",
     "shell.execute_reply": "2022-06-18T11:50:35.738215Z"
    },
    "papermill": {
     "duration": 0.191354,
     "end_time": "2022-06-18T11:50:35.741774",
     "exception": false,
     "start_time": "2022-06-18T11:50:35.550420",
     "status": "completed"
    },
    "tags": []
   },
   "outputs": [
    {
     "data": {
      "text/html": [
       "'Matrix is already positive definite!'"
      ],
      "text/latex": [
       "'Matrix is already positive definite!'"
      ],
      "text/markdown": [
       "'Matrix is already positive definite!'"
      ],
      "text/plain": [
       "[1] \"Matrix is already positive definite!\""
      ]
     },
     "metadata": {},
     "output_type": "display_data"
    },
    {
     "data": {
      "text/html": [
       "TRUE"
      ],
      "text/latex": [
       "TRUE"
      ],
      "text/markdown": [
       "TRUE"
      ],
      "text/plain": [
       "[1] TRUE"
      ]
     },
     "metadata": {},
     "output_type": "display_data"
    }
   ],
   "source": [
    "is_positive_definite(gene_corrs_corrected)"
   ]
  },
  {
   "cell_type": "code",
   "execution_count": 27,
   "id": "06d23ab8-bebb-474c-be33-dca7e53c1717",
   "metadata": {
    "execution": {
     "iopub.execute_input": "2022-06-18T11:50:35.757362Z",
     "iopub.status.busy": "2022-06-18T11:50:35.756460Z",
     "iopub.status.idle": "2022-06-18T11:50:35.801805Z",
     "shell.execute_reply": "2022-06-18T11:50:35.799941Z"
    },
    "papermill": {
     "duration": 0.054232,
     "end_time": "2022-06-18T11:50:35.803312",
     "exception": false,
     "start_time": "2022-06-18T11:50:35.749080",
     "status": "completed"
    },
    "tags": []
   },
   "outputs": [],
   "source": [
    "# see eigenvalues\n",
    "eigenvalues <- eigen(gene_corrs_corrected)$values"
   ]
  },
  {
   "cell_type": "code",
   "execution_count": 28,
   "id": "ddf8afb8-e0e2-4b4e-876d-12bd6856c1ad",
   "metadata": {
    "execution": {
     "iopub.execute_input": "2022-06-18T11:50:35.818994Z",
     "iopub.status.busy": "2022-06-18T11:50:35.817994Z",
     "iopub.status.idle": "2022-06-18T11:50:35.839384Z",
     "shell.execute_reply": "2022-06-18T11:50:35.837658Z"
    },
    "papermill": {
     "duration": 0.030541,
     "end_time": "2022-06-18T11:50:35.840816",
     "exception": false,
     "start_time": "2022-06-18T11:50:35.810275",
     "status": "completed"
    },
    "tags": []
   },
   "outputs": [
    {
     "data": {
      "text/html": [
       "0"
      ],
      "text/latex": [
       "0"
      ],
      "text/markdown": [
       "0"
      ],
      "text/plain": [
       "[1] 0"
      ]
     },
     "metadata": {},
     "output_type": "display_data"
    },
    {
     "data": {
      "text/html": [],
      "text/latex": [],
      "text/markdown": [],
      "text/plain": [
       "numeric(0)"
      ]
     },
     "metadata": {},
     "output_type": "display_data"
    }
   ],
   "source": [
    "nonpositive_eigenvalues <- eigenvalues[eigenvalues <= 0]\n",
    "IRdisplay::display(length(nonpositive_eigenvalues))\n",
    "IRdisplay::display(nonpositive_eigenvalues)"
   ]
  },
  {
   "cell_type": "code",
   "execution_count": 29,
   "id": "712fd71a-b6ec-4a13-a956-80c99be7f585",
   "metadata": {
    "execution": {
     "iopub.execute_input": "2022-06-18T11:50:35.856306Z",
     "iopub.status.busy": "2022-06-18T11:50:35.855444Z",
     "iopub.status.idle": "2022-06-18T11:50:35.865601Z",
     "shell.execute_reply": "2022-06-18T11:50:35.863759Z"
    },
    "papermill": {
     "duration": 0.019234,
     "end_time": "2022-06-18T11:50:35.867195",
     "exception": false,
     "start_time": "2022-06-18T11:50:35.847961",
     "status": "completed"
    },
    "tags": []
   },
   "outputs": [],
   "source": [
    "stopifnot(length(eigenvalues[eigenvalues <= 0]) == 0)"
   ]
  },
  {
   "cell_type": "code",
   "execution_count": 30,
   "id": "786d6336-3844-40f7-979b-6d6028787f7f",
   "metadata": {
    "execution": {
     "iopub.execute_input": "2022-06-18T11:50:35.885962Z",
     "iopub.status.busy": "2022-06-18T11:50:35.884903Z",
     "iopub.status.idle": "2022-06-18T11:50:35.911714Z",
     "shell.execute_reply": "2022-06-18T11:50:35.910582Z"
    },
    "papermill": {
     "duration": 0.036344,
     "end_time": "2022-06-18T11:50:35.913503",
     "exception": false,
     "start_time": "2022-06-18T11:50:35.877159",
     "status": "completed"
    },
    "tags": []
   },
   "outputs": [
    {
     "data": {
      "text/html": [
       "<table class=\"dataframe\">\n",
       "<caption>A data.frame: 6 × 10</caption>\n",
       "<thead>\n",
       "\t<tr><th></th><th scope=col>ENSG00000141252</th><th scope=col>ENSG00000179409</th><th scope=col>ENSG00000177370</th><th scope=col>ENSG00000159842</th><th scope=col>ENSG00000108953</th><th scope=col>ENSG00000167193</th><th scope=col>ENSG00000132376</th><th scope=col>ENSG00000174238</th><th scope=col>ENSG00000167703</th><th scope=col>ENSG00000074660</th></tr>\n",
       "\t<tr><th></th><th scope=col>&lt;dbl&gt;</th><th scope=col>&lt;dbl&gt;</th><th scope=col>&lt;dbl&gt;</th><th scope=col>&lt;dbl&gt;</th><th scope=col>&lt;dbl&gt;</th><th scope=col>&lt;dbl&gt;</th><th scope=col>&lt;dbl&gt;</th><th scope=col>&lt;dbl&gt;</th><th scope=col>&lt;dbl&gt;</th><th scope=col>&lt;dbl&gt;</th></tr>\n",
       "</thead>\n",
       "<tbody>\n",
       "\t<tr><th scope=row>ENSG00000141252</th><td> 1.000000000</td><td>-0.002168166</td><td>-0.10526912</td><td>-0.14260553</td><td>-0.11679223</td><td>-0.1264286</td><td> 0.03305758</td><td> 0.04929982</td><td> 0.05354040</td><td> 0.09827782</td></tr>\n",
       "\t<tr><th scope=row>ENSG00000179409</th><td>-0.002168166</td><td> 1.000000000</td><td> 0.04153991</td><td> 0.02523228</td><td>-0.07800946</td><td>-0.1177687</td><td>-0.14877769</td><td>-0.09574923</td><td>-0.01690717</td><td> 0.07129504</td></tr>\n",
       "\t<tr><th scope=row>ENSG00000177370</th><td>-0.105269116</td><td> 0.041539907</td><td> 1.00000000</td><td>-0.01133539</td><td>-0.21439141</td><td>-0.1725250</td><td> 0.10247609</td><td>-0.13978892</td><td> 0.00723778</td><td>-0.16551010</td></tr>\n",
       "\t<tr><th scope=row>ENSG00000159842</th><td>-0.142605531</td><td> 0.025232278</td><td>-0.01133539</td><td> 1.00000000</td><td> 0.09116378</td><td> 0.1511315</td><td>-0.07990859</td><td>-0.04184291</td><td> 0.01421924</td><td>-0.05225554</td></tr>\n",
       "\t<tr><th scope=row>ENSG00000108953</th><td>-0.116792232</td><td>-0.078009458</td><td>-0.21439141</td><td> 0.09116378</td><td> 1.00000000</td><td> 0.1621040</td><td>-0.03117966</td><td>-0.13869220</td><td>-0.07390874</td><td>-0.06960261</td></tr>\n",
       "\t<tr><th scope=row>ENSG00000167193</th><td>-0.126428580</td><td>-0.117768749</td><td>-0.17252496</td><td> 0.15113150</td><td> 0.16210402</td><td> 1.0000000</td><td>-0.13947468</td><td>-0.04390502</td><td> 0.01581805</td><td>-0.19394277</td></tr>\n",
       "</tbody>\n",
       "</table>\n"
      ],
      "text/latex": [
       "A data.frame: 6 × 10\n",
       "\\begin{tabular}{r|llllllllll}\n",
       "  & ENSG00000141252 & ENSG00000179409 & ENSG00000177370 & ENSG00000159842 & ENSG00000108953 & ENSG00000167193 & ENSG00000132376 & ENSG00000174238 & ENSG00000167703 & ENSG00000074660\\\\\n",
       "  & <dbl> & <dbl> & <dbl> & <dbl> & <dbl> & <dbl> & <dbl> & <dbl> & <dbl> & <dbl>\\\\\n",
       "\\hline\n",
       "\tENSG00000141252 &  1.000000000 & -0.002168166 & -0.10526912 & -0.14260553 & -0.11679223 & -0.1264286 &  0.03305758 &  0.04929982 &  0.05354040 &  0.09827782\\\\\n",
       "\tENSG00000179409 & -0.002168166 &  1.000000000 &  0.04153991 &  0.02523228 & -0.07800946 & -0.1177687 & -0.14877769 & -0.09574923 & -0.01690717 &  0.07129504\\\\\n",
       "\tENSG00000177370 & -0.105269116 &  0.041539907 &  1.00000000 & -0.01133539 & -0.21439141 & -0.1725250 &  0.10247609 & -0.13978892 &  0.00723778 & -0.16551010\\\\\n",
       "\tENSG00000159842 & -0.142605531 &  0.025232278 & -0.01133539 &  1.00000000 &  0.09116378 &  0.1511315 & -0.07990859 & -0.04184291 &  0.01421924 & -0.05225554\\\\\n",
       "\tENSG00000108953 & -0.116792232 & -0.078009458 & -0.21439141 &  0.09116378 &  1.00000000 &  0.1621040 & -0.03117966 & -0.13869220 & -0.07390874 & -0.06960261\\\\\n",
       "\tENSG00000167193 & -0.126428580 & -0.117768749 & -0.17252496 &  0.15113150 &  0.16210402 &  1.0000000 & -0.13947468 & -0.04390502 &  0.01581805 & -0.19394277\\\\\n",
       "\\end{tabular}\n"
      ],
      "text/markdown": [
       "\n",
       "A data.frame: 6 × 10\n",
       "\n",
       "| <!--/--> | ENSG00000141252 &lt;dbl&gt; | ENSG00000179409 &lt;dbl&gt; | ENSG00000177370 &lt;dbl&gt; | ENSG00000159842 &lt;dbl&gt; | ENSG00000108953 &lt;dbl&gt; | ENSG00000167193 &lt;dbl&gt; | ENSG00000132376 &lt;dbl&gt; | ENSG00000174238 &lt;dbl&gt; | ENSG00000167703 &lt;dbl&gt; | ENSG00000074660 &lt;dbl&gt; |\n",
       "|---|---|---|---|---|---|---|---|---|---|---|\n",
       "| ENSG00000141252 |  1.000000000 | -0.002168166 | -0.10526912 | -0.14260553 | -0.11679223 | -0.1264286 |  0.03305758 |  0.04929982 |  0.05354040 |  0.09827782 |\n",
       "| ENSG00000179409 | -0.002168166 |  1.000000000 |  0.04153991 |  0.02523228 | -0.07800946 | -0.1177687 | -0.14877769 | -0.09574923 | -0.01690717 |  0.07129504 |\n",
       "| ENSG00000177370 | -0.105269116 |  0.041539907 |  1.00000000 | -0.01133539 | -0.21439141 | -0.1725250 |  0.10247609 | -0.13978892 |  0.00723778 | -0.16551010 |\n",
       "| ENSG00000159842 | -0.142605531 |  0.025232278 | -0.01133539 |  1.00000000 |  0.09116378 |  0.1511315 | -0.07990859 | -0.04184291 |  0.01421924 | -0.05225554 |\n",
       "| ENSG00000108953 | -0.116792232 | -0.078009458 | -0.21439141 |  0.09116378 |  1.00000000 |  0.1621040 | -0.03117966 | -0.13869220 | -0.07390874 | -0.06960261 |\n",
       "| ENSG00000167193 | -0.126428580 | -0.117768749 | -0.17252496 |  0.15113150 |  0.16210402 |  1.0000000 | -0.13947468 | -0.04390502 |  0.01581805 | -0.19394277 |\n",
       "\n"
      ],
      "text/plain": [
       "                ENSG00000141252 ENSG00000179409 ENSG00000177370 ENSG00000159842\n",
       "ENSG00000141252  1.000000000    -0.002168166    -0.10526912     -0.14260553    \n",
       "ENSG00000179409 -0.002168166     1.000000000     0.04153991      0.02523228    \n",
       "ENSG00000177370 -0.105269116     0.041539907     1.00000000     -0.01133539    \n",
       "ENSG00000159842 -0.142605531     0.025232278    -0.01133539      1.00000000    \n",
       "ENSG00000108953 -0.116792232    -0.078009458    -0.21439141      0.09116378    \n",
       "ENSG00000167193 -0.126428580    -0.117768749    -0.17252496      0.15113150    \n",
       "                ENSG00000108953 ENSG00000167193 ENSG00000132376 ENSG00000174238\n",
       "ENSG00000141252 -0.11679223     -0.1264286       0.03305758      0.04929982    \n",
       "ENSG00000179409 -0.07800946     -0.1177687      -0.14877769     -0.09574923    \n",
       "ENSG00000177370 -0.21439141     -0.1725250       0.10247609     -0.13978892    \n",
       "ENSG00000159842  0.09116378      0.1511315      -0.07990859     -0.04184291    \n",
       "ENSG00000108953  1.00000000      0.1621040      -0.03117966     -0.13869220    \n",
       "ENSG00000167193  0.16210402      1.0000000      -0.13947468     -0.04390502    \n",
       "                ENSG00000167703 ENSG00000074660\n",
       "ENSG00000141252  0.05354040      0.09827782    \n",
       "ENSG00000179409 -0.01690717      0.07129504    \n",
       "ENSG00000177370  0.00723778     -0.16551010    \n",
       "ENSG00000159842  0.01421924     -0.05225554    \n",
       "ENSG00000108953 -0.07390874     -0.06960261    \n",
       "ENSG00000167193  0.01581805     -0.19394277    "
      ]
     },
     "metadata": {},
     "output_type": "display_data"
    },
    {
     "data": {
      "text/html": [
       "<table class=\"dataframe\">\n",
       "<caption>A data.frame: 6 × 10</caption>\n",
       "<thead>\n",
       "\t<tr><th></th><th scope=col>ENSG00000141252</th><th scope=col>ENSG00000179409</th><th scope=col>ENSG00000177370</th><th scope=col>ENSG00000159842</th><th scope=col>ENSG00000108953</th><th scope=col>ENSG00000167193</th><th scope=col>ENSG00000132376</th><th scope=col>ENSG00000174238</th><th scope=col>ENSG00000167703</th><th scope=col>ENSG00000074660</th></tr>\n",
       "\t<tr><th></th><th scope=col>&lt;dbl&gt;</th><th scope=col>&lt;dbl&gt;</th><th scope=col>&lt;dbl&gt;</th><th scope=col>&lt;dbl&gt;</th><th scope=col>&lt;dbl&gt;</th><th scope=col>&lt;dbl&gt;</th><th scope=col>&lt;dbl&gt;</th><th scope=col>&lt;dbl&gt;</th><th scope=col>&lt;dbl&gt;</th><th scope=col>&lt;dbl&gt;</th></tr>\n",
       "</thead>\n",
       "<tbody>\n",
       "\t<tr><th scope=row>ENSG00000141252</th><td> 1.0000000000</td><td>-0.0002348178</td><td>-0.043855656</td><td>-0.070361940</td><td>-0.06831111</td><td>-0.09916495</td><td> 0.001925025</td><td> 0.06951742</td><td> 0.033876487</td><td> 0.08166539</td></tr>\n",
       "\t<tr><th scope=row>ENSG00000179409</th><td>-0.0002348178</td><td> 1.0000000000</td><td> 0.033564392</td><td>-0.015451875</td><td>-0.03529851</td><td>-0.03470117</td><td>-0.044539984</td><td>-0.04570858</td><td>-0.001021914</td><td> 0.04185624</td></tr>\n",
       "\t<tr><th scope=row>ENSG00000177370</th><td>-0.0438556562</td><td> 0.0335643924</td><td> 1.000000000</td><td>-0.005327594</td><td>-0.07866632</td><td>-0.04387253</td><td> 0.005807192</td><td>-0.03517750</td><td>-0.013213012</td><td>-0.05637138</td></tr>\n",
       "\t<tr><th scope=row>ENSG00000159842</th><td>-0.0703619399</td><td>-0.0154518747</td><td>-0.005327594</td><td> 1.000000000</td><td> 0.06066238</td><td> 0.09387363</td><td>-0.061298733</td><td>-0.03078036</td><td> 0.005949511</td><td>-0.05242286</td></tr>\n",
       "\t<tr><th scope=row>ENSG00000108953</th><td>-0.0683111110</td><td>-0.0352985141</td><td>-0.078666323</td><td> 0.060662376</td><td> 1.00000000</td><td> 0.12835345</td><td>-0.033500565</td><td>-0.04175059</td><td>-0.055257294</td><td>-0.03187476</td></tr>\n",
       "\t<tr><th scope=row>ENSG00000167193</th><td>-0.0991649452</td><td>-0.0347011691</td><td>-0.043872526</td><td> 0.093873634</td><td> 0.12835345</td><td> 1.00000000</td><td>-0.052411376</td><td>-0.02002554</td><td>-0.018207400</td><td>-0.09652247</td></tr>\n",
       "</tbody>\n",
       "</table>\n"
      ],
      "text/latex": [
       "A data.frame: 6 × 10\n",
       "\\begin{tabular}{r|llllllllll}\n",
       "  & ENSG00000141252 & ENSG00000179409 & ENSG00000177370 & ENSG00000159842 & ENSG00000108953 & ENSG00000167193 & ENSG00000132376 & ENSG00000174238 & ENSG00000167703 & ENSG00000074660\\\\\n",
       "  & <dbl> & <dbl> & <dbl> & <dbl> & <dbl> & <dbl> & <dbl> & <dbl> & <dbl> & <dbl>\\\\\n",
       "\\hline\n",
       "\tENSG00000141252 &  1.0000000000 & -0.0002348178 & -0.043855656 & -0.070361940 & -0.06831111 & -0.09916495 &  0.001925025 &  0.06951742 &  0.033876487 &  0.08166539\\\\\n",
       "\tENSG00000179409 & -0.0002348178 &  1.0000000000 &  0.033564392 & -0.015451875 & -0.03529851 & -0.03470117 & -0.044539984 & -0.04570858 & -0.001021914 &  0.04185624\\\\\n",
       "\tENSG00000177370 & -0.0438556562 &  0.0335643924 &  1.000000000 & -0.005327594 & -0.07866632 & -0.04387253 &  0.005807192 & -0.03517750 & -0.013213012 & -0.05637138\\\\\n",
       "\tENSG00000159842 & -0.0703619399 & -0.0154518747 & -0.005327594 &  1.000000000 &  0.06066238 &  0.09387363 & -0.061298733 & -0.03078036 &  0.005949511 & -0.05242286\\\\\n",
       "\tENSG00000108953 & -0.0683111110 & -0.0352985141 & -0.078666323 &  0.060662376 &  1.00000000 &  0.12835345 & -0.033500565 & -0.04175059 & -0.055257294 & -0.03187476\\\\\n",
       "\tENSG00000167193 & -0.0991649452 & -0.0347011691 & -0.043872526 &  0.093873634 &  0.12835345 &  1.00000000 & -0.052411376 & -0.02002554 & -0.018207400 & -0.09652247\\\\\n",
       "\\end{tabular}\n"
      ],
      "text/markdown": [
       "\n",
       "A data.frame: 6 × 10\n",
       "\n",
       "| <!--/--> | ENSG00000141252 &lt;dbl&gt; | ENSG00000179409 &lt;dbl&gt; | ENSG00000177370 &lt;dbl&gt; | ENSG00000159842 &lt;dbl&gt; | ENSG00000108953 &lt;dbl&gt; | ENSG00000167193 &lt;dbl&gt; | ENSG00000132376 &lt;dbl&gt; | ENSG00000174238 &lt;dbl&gt; | ENSG00000167703 &lt;dbl&gt; | ENSG00000074660 &lt;dbl&gt; |\n",
       "|---|---|---|---|---|---|---|---|---|---|---|\n",
       "| ENSG00000141252 |  1.0000000000 | -0.0002348178 | -0.043855656 | -0.070361940 | -0.06831111 | -0.09916495 |  0.001925025 |  0.06951742 |  0.033876487 |  0.08166539 |\n",
       "| ENSG00000179409 | -0.0002348178 |  1.0000000000 |  0.033564392 | -0.015451875 | -0.03529851 | -0.03470117 | -0.044539984 | -0.04570858 | -0.001021914 |  0.04185624 |\n",
       "| ENSG00000177370 | -0.0438556562 |  0.0335643924 |  1.000000000 | -0.005327594 | -0.07866632 | -0.04387253 |  0.005807192 | -0.03517750 | -0.013213012 | -0.05637138 |\n",
       "| ENSG00000159842 | -0.0703619399 | -0.0154518747 | -0.005327594 |  1.000000000 |  0.06066238 |  0.09387363 | -0.061298733 | -0.03078036 |  0.005949511 | -0.05242286 |\n",
       "| ENSG00000108953 | -0.0683111110 | -0.0352985141 | -0.078666323 |  0.060662376 |  1.00000000 |  0.12835345 | -0.033500565 | -0.04175059 | -0.055257294 | -0.03187476 |\n",
       "| ENSG00000167193 | -0.0991649452 | -0.0347011691 | -0.043872526 |  0.093873634 |  0.12835345 |  1.00000000 | -0.052411376 | -0.02002554 | -0.018207400 | -0.09652247 |\n",
       "\n"
      ],
      "text/plain": [
       "                ENSG00000141252 ENSG00000179409 ENSG00000177370 ENSG00000159842\n",
       "ENSG00000141252  1.0000000000   -0.0002348178   -0.043855656    -0.070361940   \n",
       "ENSG00000179409 -0.0002348178    1.0000000000    0.033564392    -0.015451875   \n",
       "ENSG00000177370 -0.0438556562    0.0335643924    1.000000000    -0.005327594   \n",
       "ENSG00000159842 -0.0703619399   -0.0154518747   -0.005327594     1.000000000   \n",
       "ENSG00000108953 -0.0683111110   -0.0352985141   -0.078666323     0.060662376   \n",
       "ENSG00000167193 -0.0991649452   -0.0347011691   -0.043872526     0.093873634   \n",
       "                ENSG00000108953 ENSG00000167193 ENSG00000132376 ENSG00000174238\n",
       "ENSG00000141252 -0.06831111     -0.09916495      0.001925025     0.06951742    \n",
       "ENSG00000179409 -0.03529851     -0.03470117     -0.044539984    -0.04570858    \n",
       "ENSG00000177370 -0.07866632     -0.04387253      0.005807192    -0.03517750    \n",
       "ENSG00000159842  0.06066238      0.09387363     -0.061298733    -0.03078036    \n",
       "ENSG00000108953  1.00000000      0.12835345     -0.033500565    -0.04175059    \n",
       "ENSG00000167193  0.12835345      1.00000000     -0.052411376    -0.02002554    \n",
       "                ENSG00000167703 ENSG00000074660\n",
       "ENSG00000141252  0.033876487     0.08166539    \n",
       "ENSG00000179409 -0.001021914     0.04185624    \n",
       "ENSG00000177370 -0.013213012    -0.05637138    \n",
       "ENSG00000159842  0.005949511    -0.05242286    \n",
       "ENSG00000108953 -0.055257294    -0.03187476    \n",
       "ENSG00000167193 -0.018207400    -0.09652247    "
      ]
     },
     "metadata": {},
     "output_type": "display_data"
    }
   ],
   "source": [
    "# quick and visual comparison of the two matrices\n",
    "IRdisplay::display(head(gene_corrs[1:10, 1:10]))\n",
    "IRdisplay::display(head(gene_corrs_corrected[1:10, 1:10]))"
   ]
  },
  {
   "cell_type": "markdown",
   "id": "c6c40f1a-d153-475a-94eb-c71697ad9d51",
   "metadata": {
    "papermill": {
     "duration": 0.00751,
     "end_time": "2022-06-18T11:50:35.928812",
     "exception": false,
     "start_time": "2022-06-18T11:50:35.921302",
     "status": "completed"
    },
    "tags": []
   },
   "source": [
    "Both matrices should \"look\" similar. We are not interested in perfectly accurate correlation values (they are already inaccurate)."
   ]
  },
  {
   "cell_type": "markdown",
   "id": "bf0f49cb-9c21-4616-8390-bb68d52dae56",
   "metadata": {
    "papermill": {
     "duration": 0.007257,
     "end_time": "2022-06-18T11:50:35.943525",
     "exception": false,
     "start_time": "2022-06-18T11:50:35.936268",
     "status": "completed"
    },
    "tags": []
   },
   "source": [
    "# Save"
   ]
  },
  {
   "cell_type": "code",
   "execution_count": 31,
   "id": "2e58e7f3-a75c-4195-a20e-39e3e3e1cc9a",
   "metadata": {
    "execution": {
     "iopub.execute_input": "2022-06-18T11:50:35.961039Z",
     "iopub.status.busy": "2022-06-18T11:50:35.959937Z",
     "iopub.status.idle": "2022-06-18T11:50:35.990433Z",
     "shell.execute_reply": "2022-06-18T11:50:35.988633Z"
    },
    "papermill": {
     "duration": 0.041424,
     "end_time": "2022-06-18T11:50:35.992452",
     "exception": false,
     "start_time": "2022-06-18T11:50:35.951028",
     "status": "completed"
    },
    "tags": []
   },
   "outputs": [],
   "source": [
    "py_save_object(gene_corrs_corrected, OUTPUT_FILE)"
   ]
  },
  {
   "cell_type": "code",
   "execution_count": null,
   "id": "d8ae4220-2171-460c-9231-cd5219f3fe77",
   "metadata": {
    "papermill": {
     "duration": 0.008282,
     "end_time": "2022-06-18T11:50:36.009355",
     "exception": false,
     "start_time": "2022-06-18T11:50:36.001073",
     "status": "completed"
    },
    "tags": []
   },
   "outputs": [],
   "source": []
  }
 ],
 "metadata": {
  "jupytext": {
   "cell_metadata_filter": "all,-execution,-papermill,-trusted"
  },
  "kernelspec": {
   "display_name": "R",
   "language": "R",
   "name": "ir"
  },
  "language_info": {
   "codemirror_mode": "r",
   "file_extension": ".r",
   "mimetype": "text/x-r-source",
   "name": "R",
   "pygments_lexer": "r",
   "version": "3.6.3"
  },
  "papermill": {
   "default_parameters": {},
   "duration": 6.304641,
   "end_time": "2022-06-18T11:50:36.134630",
   "environment_variables": {},
   "exception": null,
   "input_path": "nbs/15_gsa_gls/12-gene_expr_correlations-adjust.ipynb",
   "output_path": "nbs/15_gsa_gls/gene_corrs/gtex_v8/mashr/12-gene_expr_correlations-adjust-chr17.run.ipynb",
   "parameters": {
    "EQTL_MODEL": "MASHR",
    "REFERENCE_PANEL": "GTEX_V8",
    "chromosome": 17
   },
   "start_time": "2022-06-18T11:50:29.829989",
   "version": "2.3.4"
  }
 },
 "nbformat": 4,
 "nbformat_minor": 5
}
