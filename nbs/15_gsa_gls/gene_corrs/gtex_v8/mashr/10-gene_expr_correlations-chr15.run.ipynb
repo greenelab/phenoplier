{
 "cells": [
  {
   "cell_type": "markdown",
   "id": "7a6632fb",
   "metadata": {
    "papermill": {
     "duration": 0.006366,
     "end_time": "2022-06-16T15:14:01.366622",
     "exception": false,
     "start_time": "2022-06-16T15:14:01.360256",
     "status": "completed"
    },
    "tags": []
   },
   "source": [
    "# Description"
   ]
  },
  {
   "cell_type": "markdown",
   "id": "7097c346",
   "metadata": {
    "papermill": {
     "duration": 0.005287,
     "end_time": "2022-06-16T15:14:01.384195",
     "exception": false,
     "start_time": "2022-06-16T15:14:01.378908",
     "status": "completed"
    },
    "tags": []
   },
   "source": [
    "(Please, take a look at the README.md file in this directory for instructions on how to run this notebook)\n",
    "\n",
    "This notebook computes predicted expression correlations between all genes in the MultiPLIER models.\n",
    "\n",
    "It also has a parameter set for papermill to run on a single chromosome to run in parallel (see under `Settings` below).\n",
    "\n",
    "This notebook is not directly run. See README.md."
   ]
  },
  {
   "cell_type": "markdown",
   "id": "c61d8427",
   "metadata": {
    "papermill": {
     "duration": 0.00508,
     "end_time": "2022-06-16T15:14:01.394478",
     "exception": false,
     "start_time": "2022-06-16T15:14:01.389398",
     "status": "completed"
    },
    "tags": []
   },
   "source": [
    "# Modules"
   ]
  },
  {
   "cell_type": "code",
   "execution_count": 1,
   "id": "bbc0234f",
   "metadata": {
    "execution": {
     "iopub.execute_input": "2022-06-16T15:14:01.406279Z",
     "iopub.status.busy": "2022-06-16T15:14:01.405679Z",
     "iopub.status.idle": "2022-06-16T15:14:01.420641Z",
     "shell.execute_reply": "2022-06-16T15:14:01.420069Z"
    },
    "papermill": {
     "duration": 0.022497,
     "end_time": "2022-06-16T15:14:01.422175",
     "exception": false,
     "start_time": "2022-06-16T15:14:01.399678",
     "status": "completed"
    },
    "tags": []
   },
   "outputs": [],
   "source": [
    "%load_ext autoreload\n",
    "%autoreload 2"
   ]
  },
  {
   "cell_type": "code",
   "execution_count": 2,
   "id": "1d5f5a59",
   "metadata": {
    "execution": {
     "iopub.execute_input": "2022-06-16T15:14:01.434726Z",
     "iopub.status.busy": "2022-06-16T15:14:01.434271Z",
     "iopub.status.idle": "2022-06-16T15:14:02.413580Z",
     "shell.execute_reply": "2022-06-16T15:14:02.413032Z"
    },
    "papermill": {
     "duration": 0.987297,
     "end_time": "2022-06-16T15:14:02.415086",
     "exception": false,
     "start_time": "2022-06-16T15:14:01.427789",
     "status": "completed"
    },
    "tags": []
   },
   "outputs": [],
   "source": [
    "from random import sample\n",
    "import warnings\n",
    "\n",
    "import numpy as np\n",
    "from scipy.spatial.distance import squareform\n",
    "import pandas as pd\n",
    "from tqdm import tqdm\n",
    "import matplotlib.pyplot as plt\n",
    "import seaborn as sns\n",
    "\n",
    "import conf\n",
    "from entity import Gene"
   ]
  },
  {
   "cell_type": "markdown",
   "id": "1eac24b5",
   "metadata": {
    "papermill": {
     "duration": 0.006213,
     "end_time": "2022-06-16T15:14:02.457005",
     "exception": false,
     "start_time": "2022-06-16T15:14:02.450792",
     "status": "completed"
    },
    "tags": []
   },
   "source": [
    "# Settings"
   ]
  },
  {
   "cell_type": "code",
   "execution_count": 3,
   "id": "ca4560ba",
   "metadata": {
    "execution": {
     "iopub.execute_input": "2022-06-16T15:14:02.480554Z",
     "iopub.status.busy": "2022-06-16T15:14:02.480355Z",
     "iopub.status.idle": "2022-06-16T15:14:02.499613Z",
     "shell.execute_reply": "2022-06-16T15:14:02.499089Z"
    },
    "papermill": {
     "duration": 0.028635,
     "end_time": "2022-06-16T15:14:02.501574",
     "exception": false,
     "start_time": "2022-06-16T15:14:02.472939",
     "status": "completed"
    },
    "tags": [
     "parameters"
    ]
   },
   "outputs": [],
   "source": [
    "# reference panel\n",
    "REFERENCE_PANEL = \"GTEX_V8\"\n",
    "# REFERENCE_PANEL = \"1000G\"\n",
    "\n",
    "# prediction models\n",
    "## mashr\n",
    "EQTL_MODEL = \"MASHR\"\n",
    "EQTL_MODEL_FILES_PREFIX = \"mashr_\"\n",
    "\n",
    "# ## elastic net\n",
    "# EQTL_MODEL = \"ELASTIC_NET\"\n",
    "# EQTL_MODEL_FILES_PREFIX = \"en_\"\n",
    "\n",
    "# make it read the prefix from conf.py\n",
    "EQTL_MODEL_FILES_PREFIX = None\n",
    "\n",
    "# this is the default value used in S-MultiXcan to select the\n",
    "# top principal components of the expression correlation matrix\n",
    "SMULTIXCAN_CONDITION_NUMBER = 30\n",
    "\n",
    "# specifies a single chromosome value\n",
    "# by default, run on all chromosomes\n",
    "chromosome = None"
   ]
  },
  {
   "cell_type": "code",
   "execution_count": 4,
   "id": "2bc030b5",
   "metadata": {
    "execution": {
     "iopub.execute_input": "2022-06-16T15:14:02.516036Z",
     "iopub.status.busy": "2022-06-16T15:14:02.515841Z",
     "iopub.status.idle": "2022-06-16T15:14:02.534533Z",
     "shell.execute_reply": "2022-06-16T15:14:02.534024Z"
    },
    "papermill": {
     "duration": 0.028009,
     "end_time": "2022-06-16T15:14:02.536465",
     "exception": false,
     "start_time": "2022-06-16T15:14:02.508456",
     "status": "completed"
    },
    "tags": [
     "injected-parameters"
    ]
   },
   "outputs": [],
   "source": [
    "# Parameters\n",
    "chromosome = 15\n",
    "REFERENCE_PANEL = \"GTEX_V8\"\n",
    "EQTL_MODEL = \"MASHR\"\n"
   ]
  },
  {
   "cell_type": "code",
   "execution_count": 5,
   "id": "a089c9ff",
   "metadata": {
    "execution": {
     "iopub.execute_input": "2022-06-16T15:14:02.551000Z",
     "iopub.status.busy": "2022-06-16T15:14:02.550697Z",
     "iopub.status.idle": "2022-06-16T15:14:02.569782Z",
     "shell.execute_reply": "2022-06-16T15:14:02.569251Z"
    },
    "papermill": {
     "duration": 0.02822,
     "end_time": "2022-06-16T15:14:02.571501",
     "exception": false,
     "start_time": "2022-06-16T15:14:02.543281",
     "status": "completed"
    },
    "tags": []
   },
   "outputs": [],
   "source": [
    "if EQTL_MODEL_FILES_PREFIX is None:\n",
    "    EQTL_MODEL_FILES_PREFIX = conf.PHENOMEXCAN[\"PREDICTION_MODELS\"][\n",
    "        f\"{EQTL_MODEL}_PREFIX\"\n",
    "    ]"
   ]
  },
  {
   "cell_type": "code",
   "execution_count": 6,
   "id": "8fe24bef",
   "metadata": {
    "execution": {
     "iopub.execute_input": "2022-06-16T15:14:02.586183Z",
     "iopub.status.busy": "2022-06-16T15:14:02.585985Z",
     "iopub.status.idle": "2022-06-16T15:14:02.608451Z",
     "shell.execute_reply": "2022-06-16T15:14:02.607946Z"
    },
    "papermill": {
     "duration": 0.031721,
     "end_time": "2022-06-16T15:14:02.610169",
     "exception": false,
     "start_time": "2022-06-16T15:14:02.578448",
     "status": "completed"
    },
    "tags": []
   },
   "outputs": [
    {
     "data": {
      "text/plain": [
       "'Using eQTL model: MASHR / mashr_'"
      ]
     },
     "metadata": {},
     "output_type": "display_data"
    }
   ],
   "source": [
    "display(f\"Using eQTL model: {EQTL_MODEL} / {EQTL_MODEL_FILES_PREFIX}\")"
   ]
  },
  {
   "cell_type": "code",
   "execution_count": 7,
   "id": "0230ebcb-2c32-4b95-9292-d9a52038e70d",
   "metadata": {
    "execution": {
     "iopub.execute_input": "2022-06-16T15:14:02.624718Z",
     "iopub.status.busy": "2022-06-16T15:14:02.624517Z",
     "iopub.status.idle": "2022-06-16T15:14:02.642918Z",
     "shell.execute_reply": "2022-06-16T15:14:02.642401Z"
    },
    "papermill": {
     "duration": 0.027552,
     "end_time": "2022-06-16T15:14:02.644720",
     "exception": false,
     "start_time": "2022-06-16T15:14:02.617168",
     "status": "completed"
    },
    "tags": []
   },
   "outputs": [],
   "source": [
    "REFERENCE_PANEL_DIR = conf.PHENOMEXCAN[\"LD_BLOCKS\"][f\"{REFERENCE_PANEL}_GENOTYPE_DIR\"]"
   ]
  },
  {
   "cell_type": "code",
   "execution_count": 8,
   "id": "98c4a159-601d-4a22-a1ab-35bd451c25f9",
   "metadata": {
    "execution": {
     "iopub.execute_input": "2022-06-16T15:14:02.665625Z",
     "iopub.status.busy": "2022-06-16T15:14:02.665400Z",
     "iopub.status.idle": "2022-06-16T15:14:02.686031Z",
     "shell.execute_reply": "2022-06-16T15:14:02.685475Z"
    },
    "papermill": {
     "duration": 0.030049,
     "end_time": "2022-06-16T15:14:02.687857",
     "exception": false,
     "start_time": "2022-06-16T15:14:02.657808",
     "status": "completed"
    },
    "tags": []
   },
   "outputs": [
    {
     "data": {
      "text/plain": [
       "'Using reference panel folder: /opt/data/data/phenomexcan/ld_blocks/reference_panel_gtex_v8'"
      ]
     },
     "metadata": {},
     "output_type": "display_data"
    }
   ],
   "source": [
    "display(f\"Using reference panel folder: {str(REFERENCE_PANEL_DIR)}\")"
   ]
  },
  {
   "cell_type": "code",
   "execution_count": 9,
   "id": "396392dc-0340-4540-9b02-e182b833f909",
   "metadata": {
    "execution": {
     "iopub.execute_input": "2022-06-16T15:14:02.702913Z",
     "iopub.status.busy": "2022-06-16T15:14:02.702713Z",
     "iopub.status.idle": "2022-06-16T15:14:02.721862Z",
     "shell.execute_reply": "2022-06-16T15:14:02.721253Z"
    },
    "papermill": {
     "duration": 0.028417,
     "end_time": "2022-06-16T15:14:02.723472",
     "exception": false,
     "start_time": "2022-06-16T15:14:02.695055",
     "status": "completed"
    },
    "tags": []
   },
   "outputs": [],
   "source": [
    "OUTPUT_DIR_BASE = (\n",
    "    conf.PHENOMEXCAN[\"LD_BLOCKS\"][f\"GENE_CORRS_DIR\"]\n",
    "    / REFERENCE_PANEL.lower()\n",
    "    / EQTL_MODEL.lower()\n",
    ")\n",
    "OUTPUT_DIR_BASE.mkdir(parents=True, exist_ok=True)"
   ]
  },
  {
   "cell_type": "code",
   "execution_count": 10,
   "id": "8942c2d3-e53c-4d63-a0eb-b6fce0574d36",
   "metadata": {
    "execution": {
     "iopub.execute_input": "2022-06-16T15:14:02.738091Z",
     "iopub.status.busy": "2022-06-16T15:14:02.737667Z",
     "iopub.status.idle": "2022-06-16T15:14:02.756700Z",
     "shell.execute_reply": "2022-06-16T15:14:02.756095Z"
    },
    "papermill": {
     "duration": 0.027994,
     "end_time": "2022-06-16T15:14:02.758377",
     "exception": false,
     "start_time": "2022-06-16T15:14:02.730383",
     "status": "completed"
    },
    "tags": []
   },
   "outputs": [
    {
     "data": {
      "text/plain": [
       "'Using output dir base: /opt/data/data/phenomexcan/ld_blocks/gene_corrs/gtex_v8/mashr'"
      ]
     },
     "metadata": {},
     "output_type": "display_data"
    }
   ],
   "source": [
    "display(f\"Using output dir base: {OUTPUT_DIR_BASE}\")"
   ]
  },
  {
   "cell_type": "code",
   "execution_count": 11,
   "id": "408aa590",
   "metadata": {
    "execution": {
     "iopub.execute_input": "2022-06-16T15:14:02.772065Z",
     "iopub.status.busy": "2022-06-16T15:14:02.771870Z",
     "iopub.status.idle": "2022-06-16T15:14:02.787432Z",
     "shell.execute_reply": "2022-06-16T15:14:02.786860Z"
    },
    "papermill": {
     "duration": 0.023982,
     "end_time": "2022-06-16T15:14:02.788883",
     "exception": false,
     "start_time": "2022-06-16T15:14:02.764901",
     "status": "completed"
    },
    "tags": []
   },
   "outputs": [],
   "source": [
    "assert (\n",
    "    chromosome is not None\n",
    "), \"You have to select one chromosome (format: number between 1 and 22)\""
   ]
  },
  {
   "cell_type": "code",
   "execution_count": 12,
   "id": "c1c7dd06-80ff-453c-bcb7-0899edce75da",
   "metadata": {
    "execution": {
     "iopub.execute_input": "2022-06-16T15:14:02.802495Z",
     "iopub.status.busy": "2022-06-16T15:14:02.802062Z",
     "iopub.status.idle": "2022-06-16T15:14:02.817156Z",
     "shell.execute_reply": "2022-06-16T15:14:02.816590Z"
    },
    "papermill": {
     "duration": 0.02335,
     "end_time": "2022-06-16T15:14:02.818576",
     "exception": false,
     "start_time": "2022-06-16T15:14:02.795226",
     "status": "completed"
    },
    "tags": []
   },
   "outputs": [],
   "source": [
    "chromosome = str(chromosome)"
   ]
  },
  {
   "cell_type": "code",
   "execution_count": 13,
   "id": "bc17b84c-9c26-47a5-a3ab-7046e72f3ef4",
   "metadata": {
    "execution": {
     "iopub.execute_input": "2022-06-16T15:14:02.831856Z",
     "iopub.status.busy": "2022-06-16T15:14:02.831475Z",
     "iopub.status.idle": "2022-06-16T15:14:02.847399Z",
     "shell.execute_reply": "2022-06-16T15:14:02.846798Z"
    },
    "papermill": {
     "duration": 0.023966,
     "end_time": "2022-06-16T15:14:02.848732",
     "exception": false,
     "start_time": "2022-06-16T15:14:02.824766",
     "status": "completed"
    },
    "tags": []
   },
   "outputs": [
    {
     "data": {
      "text/plain": [
       "'Working on chromosome 15'"
      ]
     },
     "metadata": {},
     "output_type": "display_data"
    }
   ],
   "source": [
    "display(f\"Working on chromosome {chromosome}\")"
   ]
  },
  {
   "cell_type": "markdown",
   "id": "d2ba085e",
   "metadata": {
    "papermill": {
     "duration": 0.006094,
     "end_time": "2022-06-16T15:14:02.861182",
     "exception": false,
     "start_time": "2022-06-16T15:14:02.855088",
     "status": "completed"
    },
    "tags": []
   },
   "source": [
    "# Load data"
   ]
  },
  {
   "cell_type": "markdown",
   "id": "abcc4b3d",
   "metadata": {
    "papermill": {
     "duration": 0.005952,
     "end_time": "2022-06-16T15:14:02.873246",
     "exception": false,
     "start_time": "2022-06-16T15:14:02.867294",
     "status": "completed"
    },
    "tags": []
   },
   "source": [
    "## MultiPLIER Z"
   ]
  },
  {
   "cell_type": "code",
   "execution_count": 14,
   "id": "c48ef527",
   "metadata": {
    "execution": {
     "iopub.execute_input": "2022-06-16T15:14:02.886377Z",
     "iopub.status.busy": "2022-06-16T15:14:02.885869Z",
     "iopub.status.idle": "2022-06-16T15:14:02.928952Z",
     "shell.execute_reply": "2022-06-16T15:14:02.928342Z"
    },
    "papermill": {
     "duration": 0.051187,
     "end_time": "2022-06-16T15:14:02.930494",
     "exception": false,
     "start_time": "2022-06-16T15:14:02.879307",
     "status": "completed"
    },
    "tags": []
   },
   "outputs": [],
   "source": [
    "multiplier_z_genes = pd.read_pickle(\n",
    "    conf.MULTIPLIER[\"MODEL_Z_MATRIX_FILE\"]\n",
    ").index.tolist()"
   ]
  },
  {
   "cell_type": "code",
   "execution_count": 15,
   "id": "0a4ecbd9",
   "metadata": {
    "execution": {
     "iopub.execute_input": "2022-06-16T15:14:02.945260Z",
     "iopub.status.busy": "2022-06-16T15:14:02.945074Z",
     "iopub.status.idle": "2022-06-16T15:14:02.962184Z",
     "shell.execute_reply": "2022-06-16T15:14:02.961226Z"
    },
    "papermill": {
     "duration": 0.026091,
     "end_time": "2022-06-16T15:14:02.963693",
     "exception": false,
     "start_time": "2022-06-16T15:14:02.937602",
     "status": "completed"
    },
    "tags": []
   },
   "outputs": [
    {
     "data": {
      "text/plain": [
       "6750"
      ]
     },
     "execution_count": 15,
     "metadata": {},
     "output_type": "execute_result"
    }
   ],
   "source": [
    "len(multiplier_z_genes)"
   ]
  },
  {
   "cell_type": "code",
   "execution_count": 16,
   "id": "115e8864",
   "metadata": {
    "execution": {
     "iopub.execute_input": "2022-06-16T15:14:02.977831Z",
     "iopub.status.busy": "2022-06-16T15:14:02.977649Z",
     "iopub.status.idle": "2022-06-16T15:14:02.994077Z",
     "shell.execute_reply": "2022-06-16T15:14:02.993577Z"
    },
    "papermill": {
     "duration": 0.025196,
     "end_time": "2022-06-16T15:14:02.995523",
     "exception": false,
     "start_time": "2022-06-16T15:14:02.970327",
     "status": "completed"
    },
    "tags": []
   },
   "outputs": [
    {
     "data": {
      "text/plain": [
       "['GAS6',\n",
       " 'MMP14',\n",
       " 'DSP',\n",
       " 'MARCKSL1',\n",
       " 'SPARC',\n",
       " 'CTSD',\n",
       " 'EPAS1',\n",
       " 'PALLD',\n",
       " 'PHC2',\n",
       " 'LGALS3BP']"
      ]
     },
     "execution_count": 16,
     "metadata": {},
     "output_type": "execute_result"
    }
   ],
   "source": [
    "multiplier_z_genes[:10]"
   ]
  },
  {
   "cell_type": "markdown",
   "id": "7dcb8db7",
   "metadata": {
    "papermill": {
     "duration": 0.006416,
     "end_time": "2022-06-16T15:14:03.008673",
     "exception": false,
     "start_time": "2022-06-16T15:14:03.002257",
     "status": "completed"
    },
    "tags": []
   },
   "source": [
    "## Get gene objects"
   ]
  },
  {
   "cell_type": "code",
   "execution_count": 17,
   "id": "bb932812",
   "metadata": {
    "execution": {
     "iopub.execute_input": "2022-06-16T15:14:03.022665Z",
     "iopub.status.busy": "2022-06-16T15:14:03.022316Z",
     "iopub.status.idle": "2022-06-16T15:14:03.045180Z",
     "shell.execute_reply": "2022-06-16T15:14:03.044606Z"
    },
    "papermill": {
     "duration": 0.031436,
     "end_time": "2022-06-16T15:14:03.046676",
     "exception": false,
     "start_time": "2022-06-16T15:14:03.015240",
     "status": "completed"
    },
    "tags": []
   },
   "outputs": [],
   "source": [
    "multiplier_gene_obj = {\n",
    "    gene_name: Gene(name=gene_name)\n",
    "    for gene_name in multiplier_z_genes\n",
    "    if gene_name in Gene.GENE_NAME_TO_ID_MAP\n",
    "}"
   ]
  },
  {
   "cell_type": "code",
   "execution_count": 18,
   "id": "39533214",
   "metadata": {
    "execution": {
     "iopub.execute_input": "2022-06-16T15:14:03.061263Z",
     "iopub.status.busy": "2022-06-16T15:14:03.060750Z",
     "iopub.status.idle": "2022-06-16T15:14:03.077773Z",
     "shell.execute_reply": "2022-06-16T15:14:03.077173Z"
    },
    "papermill": {
     "duration": 0.025655,
     "end_time": "2022-06-16T15:14:03.079179",
     "exception": false,
     "start_time": "2022-06-16T15:14:03.053524",
     "status": "completed"
    },
    "tags": []
   },
   "outputs": [
    {
     "data": {
      "text/plain": [
       "6454"
      ]
     },
     "execution_count": 18,
     "metadata": {},
     "output_type": "execute_result"
    }
   ],
   "source": [
    "len(multiplier_gene_obj)"
   ]
  },
  {
   "cell_type": "code",
   "execution_count": 19,
   "id": "9a5d0b84",
   "metadata": {
    "execution": {
     "iopub.execute_input": "2022-06-16T15:14:03.094030Z",
     "iopub.status.busy": "2022-06-16T15:14:03.093379Z",
     "iopub.status.idle": "2022-06-16T15:14:03.110445Z",
     "shell.execute_reply": "2022-06-16T15:14:03.109828Z"
    },
    "papermill": {
     "duration": 0.025881,
     "end_time": "2022-06-16T15:14:03.111898",
     "exception": false,
     "start_time": "2022-06-16T15:14:03.086017",
     "status": "completed"
    },
    "tags": []
   },
   "outputs": [
    {
     "data": {
      "text/plain": [
       "'ENSG00000183087'"
      ]
     },
     "execution_count": 19,
     "metadata": {},
     "output_type": "execute_result"
    }
   ],
   "source": [
    "multiplier_gene_obj[\"GAS6\"].ensembl_id"
   ]
  },
  {
   "cell_type": "code",
   "execution_count": 20,
   "id": "e3ffabc7",
   "metadata": {
    "execution": {
     "iopub.execute_input": "2022-06-16T15:14:03.126616Z",
     "iopub.status.busy": "2022-06-16T15:14:03.126122Z",
     "iopub.status.idle": "2022-06-16T15:14:05.189232Z",
     "shell.execute_reply": "2022-06-16T15:14:05.188717Z"
    },
    "papermill": {
     "duration": 2.071987,
     "end_time": "2022-06-16T15:14:05.190773",
     "exception": false,
     "start_time": "2022-06-16T15:14:03.118786",
     "status": "completed"
    },
    "tags": []
   },
   "outputs": [],
   "source": [
    "_gene_obj = list(multiplier_gene_obj.values())\n",
    "\n",
    "genes_info = pd.DataFrame(\n",
    "    {\n",
    "        \"name\": [g.name for g in _gene_obj],\n",
    "        \"id\": [g.ensembl_id for g in _gene_obj],\n",
    "        \"chr\": [g.chromosome for g in _gene_obj],\n",
    "        \"band\": [g.band for g in _gene_obj],\n",
    "        \"start_position\": [g.get_attribute(\"start_position\") for g in _gene_obj],\n",
    "    }\n",
    ")"
   ]
  },
  {
   "cell_type": "code",
   "execution_count": 21,
   "id": "e23519b8",
   "metadata": {
    "execution": {
     "iopub.execute_input": "2022-06-16T15:14:05.204316Z",
     "iopub.status.busy": "2022-06-16T15:14:05.204146Z",
     "iopub.status.idle": "2022-06-16T15:14:05.220920Z",
     "shell.execute_reply": "2022-06-16T15:14:05.220361Z"
    },
    "papermill": {
     "duration": 0.025222,
     "end_time": "2022-06-16T15:14:05.222379",
     "exception": false,
     "start_time": "2022-06-16T15:14:05.197157",
     "status": "completed"
    },
    "tags": []
   },
   "outputs": [
    {
     "data": {
      "text/plain": [
       "(6454, 5)"
      ]
     },
     "execution_count": 21,
     "metadata": {},
     "output_type": "execute_result"
    }
   ],
   "source": [
    "genes_info.shape"
   ]
  },
  {
   "cell_type": "code",
   "execution_count": 22,
   "id": "0d71881c",
   "metadata": {
    "execution": {
     "iopub.execute_input": "2022-06-16T15:14:05.237351Z",
     "iopub.status.busy": "2022-06-16T15:14:05.237172Z",
     "iopub.status.idle": "2022-06-16T15:14:05.259868Z",
     "shell.execute_reply": "2022-06-16T15:14:05.259282Z"
    },
    "papermill": {
     "duration": 0.031888,
     "end_time": "2022-06-16T15:14:05.261426",
     "exception": false,
     "start_time": "2022-06-16T15:14:05.229538",
     "status": "completed"
    },
    "tags": []
   },
   "outputs": [
    {
     "data": {
      "text/html": [
       "<div>\n",
       "<style scoped>\n",
       "    .dataframe tbody tr th:only-of-type {\n",
       "        vertical-align: middle;\n",
       "    }\n",
       "\n",
       "    .dataframe tbody tr th {\n",
       "        vertical-align: top;\n",
       "    }\n",
       "\n",
       "    .dataframe thead th {\n",
       "        text-align: right;\n",
       "    }\n",
       "</style>\n",
       "<table border=\"1\" class=\"dataframe\">\n",
       "  <thead>\n",
       "    <tr style=\"text-align: right;\">\n",
       "      <th></th>\n",
       "      <th>name</th>\n",
       "      <th>id</th>\n",
       "      <th>chr</th>\n",
       "      <th>band</th>\n",
       "      <th>start_position</th>\n",
       "    </tr>\n",
       "  </thead>\n",
       "  <tbody>\n",
       "    <tr>\n",
       "      <th>0</th>\n",
       "      <td>GAS6</td>\n",
       "      <td>ENSG00000183087</td>\n",
       "      <td>13</td>\n",
       "      <td>13q34</td>\n",
       "      <td>113820549.0</td>\n",
       "    </tr>\n",
       "    <tr>\n",
       "      <th>1</th>\n",
       "      <td>MMP14</td>\n",
       "      <td>ENSG00000157227</td>\n",
       "      <td>14</td>\n",
       "      <td>14q11.2</td>\n",
       "      <td>22836560.0</td>\n",
       "    </tr>\n",
       "    <tr>\n",
       "      <th>2</th>\n",
       "      <td>DSP</td>\n",
       "      <td>ENSG00000096696</td>\n",
       "      <td>6</td>\n",
       "      <td>6p24.3</td>\n",
       "      <td>7541617.0</td>\n",
       "    </tr>\n",
       "    <tr>\n",
       "      <th>3</th>\n",
       "      <td>MARCKSL1</td>\n",
       "      <td>ENSG00000175130</td>\n",
       "      <td>1</td>\n",
       "      <td>1p35.1</td>\n",
       "      <td>32333839.0</td>\n",
       "    </tr>\n",
       "    <tr>\n",
       "      <th>4</th>\n",
       "      <td>SPARC</td>\n",
       "      <td>ENSG00000113140</td>\n",
       "      <td>5</td>\n",
       "      <td>5q33.1</td>\n",
       "      <td>151661096.0</td>\n",
       "    </tr>\n",
       "  </tbody>\n",
       "</table>\n",
       "</div>"
      ],
      "text/plain": [
       "       name               id chr     band  start_position\n",
       "0      GAS6  ENSG00000183087  13    13q34     113820549.0\n",
       "1     MMP14  ENSG00000157227  14  14q11.2      22836560.0\n",
       "2       DSP  ENSG00000096696   6   6p24.3       7541617.0\n",
       "3  MARCKSL1  ENSG00000175130   1   1p35.1      32333839.0\n",
       "4     SPARC  ENSG00000113140   5   5q33.1     151661096.0"
      ]
     },
     "execution_count": 22,
     "metadata": {},
     "output_type": "execute_result"
    }
   ],
   "source": [
    "genes_info.head()"
   ]
  },
  {
   "cell_type": "markdown",
   "id": "8c9dbb4a",
   "metadata": {
    "papermill": {
     "duration": 0.012702,
     "end_time": "2022-06-16T15:14:05.281241",
     "exception": false,
     "start_time": "2022-06-16T15:14:05.268539",
     "status": "completed"
    },
    "tags": []
   },
   "source": [
    "## Get tissues names"
   ]
  },
  {
   "cell_type": "code",
   "execution_count": 23,
   "id": "2bc52419",
   "metadata": {
    "execution": {
     "iopub.execute_input": "2022-06-16T15:14:05.300274Z",
     "iopub.status.busy": "2022-06-16T15:14:05.299485Z",
     "iopub.status.idle": "2022-06-16T15:14:05.316443Z",
     "shell.execute_reply": "2022-06-16T15:14:05.315861Z"
    },
    "papermill": {
     "duration": 0.02766,
     "end_time": "2022-06-16T15:14:05.317994",
     "exception": false,
     "start_time": "2022-06-16T15:14:05.290334",
     "status": "completed"
    },
    "tags": []
   },
   "outputs": [],
   "source": [
    "tissues = conf.PHENOMEXCAN[\"PREDICTION_MODELS\"][f\"{EQTL_MODEL}_TISSUES\"].split(\" \")"
   ]
  },
  {
   "cell_type": "code",
   "execution_count": 24,
   "id": "64b293a1",
   "metadata": {
    "execution": {
     "iopub.execute_input": "2022-06-16T15:14:05.333917Z",
     "iopub.status.busy": "2022-06-16T15:14:05.333467Z",
     "iopub.status.idle": "2022-06-16T15:14:05.351069Z",
     "shell.execute_reply": "2022-06-16T15:14:05.350457Z"
    },
    "papermill": {
     "duration": 0.027013,
     "end_time": "2022-06-16T15:14:05.352577",
     "exception": false,
     "start_time": "2022-06-16T15:14:05.325564",
     "status": "completed"
    },
    "tags": []
   },
   "outputs": [
    {
     "data": {
      "text/plain": [
       "['Skin_Not_Sun_Exposed_Suprapubic',\n",
       " 'Cells_EBV-transformed_lymphocytes',\n",
       " 'Brain_Frontal_Cortex_BA9',\n",
       " 'Kidney_Cortex',\n",
       " 'Brain_Substantia_nigra']"
      ]
     },
     "execution_count": 24,
     "metadata": {},
     "output_type": "execute_result"
    }
   ],
   "source": [
    "tissues[:5]"
   ]
  },
  {
   "cell_type": "code",
   "execution_count": 25,
   "id": "48a7202a",
   "metadata": {
    "execution": {
     "iopub.execute_input": "2022-06-16T15:14:05.368324Z",
     "iopub.status.busy": "2022-06-16T15:14:05.367813Z",
     "iopub.status.idle": "2022-06-16T15:14:05.382949Z",
     "shell.execute_reply": "2022-06-16T15:14:05.382401Z"
    },
    "papermill": {
     "duration": 0.024388,
     "end_time": "2022-06-16T15:14:05.384377",
     "exception": false,
     "start_time": "2022-06-16T15:14:05.359989",
     "status": "completed"
    },
    "tags": []
   },
   "outputs": [],
   "source": [
    "assert len(tissues) == 49"
   ]
  },
  {
   "cell_type": "markdown",
   "id": "c8d1038f",
   "metadata": {
    "papermill": {
     "duration": 0.006911,
     "end_time": "2022-06-16T15:14:05.398517",
     "exception": false,
     "start_time": "2022-06-16T15:14:05.391606",
     "status": "completed"
    },
    "tags": []
   },
   "source": [
    "# Test"
   ]
  },
  {
   "cell_type": "code",
   "execution_count": 26,
   "id": "64993abf",
   "metadata": {
    "execution": {
     "iopub.execute_input": "2022-06-16T15:14:05.413649Z",
     "iopub.status.busy": "2022-06-16T15:14:05.413164Z",
     "iopub.status.idle": "2022-06-16T15:14:05.436436Z",
     "shell.execute_reply": "2022-06-16T15:14:05.435986Z"
    },
    "papermill": {
     "duration": 0.033902,
     "end_time": "2022-06-16T15:14:05.439430",
     "exception": false,
     "start_time": "2022-06-16T15:14:05.405528",
     "status": "completed"
    },
    "tags": []
   },
   "outputs": [
    {
     "data": {
      "text/html": [
       "<div>\n",
       "<style scoped>\n",
       "    .dataframe tbody tr th:only-of-type {\n",
       "        vertical-align: middle;\n",
       "    }\n",
       "\n",
       "    .dataframe tbody tr th {\n",
       "        vertical-align: top;\n",
       "    }\n",
       "\n",
       "    .dataframe thead th {\n",
       "        text-align: right;\n",
       "    }\n",
       "</style>\n",
       "<table border=\"1\" class=\"dataframe\">\n",
       "  <thead>\n",
       "    <tr style=\"text-align: right;\">\n",
       "      <th></th>\n",
       "      <th>name</th>\n",
       "      <th>id</th>\n",
       "      <th>chr</th>\n",
       "      <th>band</th>\n",
       "      <th>start_position</th>\n",
       "    </tr>\n",
       "  </thead>\n",
       "  <tbody>\n",
       "    <tr>\n",
       "      <th>12</th>\n",
       "      <td>THBS1</td>\n",
       "      <td>ENSG00000137801</td>\n",
       "      <td>15</td>\n",
       "      <td>15q14</td>\n",
       "      <td>39581079.0</td>\n",
       "    </tr>\n",
       "    <tr>\n",
       "      <th>66</th>\n",
       "      <td>CCNB2</td>\n",
       "      <td>ENSG00000157456</td>\n",
       "      <td>15</td>\n",
       "      <td>15q22.2</td>\n",
       "      <td>59105126.0</td>\n",
       "    </tr>\n",
       "    <tr>\n",
       "      <th>70</th>\n",
       "      <td>FBN1</td>\n",
       "      <td>ENSG00000166147</td>\n",
       "      <td>15</td>\n",
       "      <td>15q21.1</td>\n",
       "      <td>48408306.0</td>\n",
       "    </tr>\n",
       "    <tr>\n",
       "      <th>73</th>\n",
       "      <td>SPINT1</td>\n",
       "      <td>ENSG00000166145</td>\n",
       "      <td>15</td>\n",
       "      <td>15q15.1</td>\n",
       "      <td>40844018.0</td>\n",
       "    </tr>\n",
       "    <tr>\n",
       "      <th>75</th>\n",
       "      <td>ANPEP</td>\n",
       "      <td>ENSG00000166825</td>\n",
       "      <td>15</td>\n",
       "      <td>15q26.1</td>\n",
       "      <td>89784895.0</td>\n",
       "    </tr>\n",
       "    <tr>\n",
       "      <th>...</th>\n",
       "      <td>...</td>\n",
       "      <td>...</td>\n",
       "      <td>...</td>\n",
       "      <td>...</td>\n",
       "      <td>...</td>\n",
       "    </tr>\n",
       "    <tr>\n",
       "      <th>6365</th>\n",
       "      <td>MAP2K1</td>\n",
       "      <td>ENSG00000169032</td>\n",
       "      <td>15</td>\n",
       "      <td>15q22.31</td>\n",
       "      <td>66386817.0</td>\n",
       "    </tr>\n",
       "    <tr>\n",
       "      <th>6368</th>\n",
       "      <td>MAP2K5</td>\n",
       "      <td>ENSG00000137764</td>\n",
       "      <td>15</td>\n",
       "      <td>15q23</td>\n",
       "      <td>67542703.0</td>\n",
       "    </tr>\n",
       "    <tr>\n",
       "      <th>6385</th>\n",
       "      <td>RYR3</td>\n",
       "      <td>ENSG00000198838</td>\n",
       "      <td>15</td>\n",
       "      <td>15q13.3</td>\n",
       "      <td>33310945.0</td>\n",
       "    </tr>\n",
       "    <tr>\n",
       "      <th>6389</th>\n",
       "      <td>SLCO3A1</td>\n",
       "      <td>ENSG00000176463</td>\n",
       "      <td>15</td>\n",
       "      <td>15q26.1</td>\n",
       "      <td>91853708.0</td>\n",
       "    </tr>\n",
       "    <tr>\n",
       "      <th>6439</th>\n",
       "      <td>NDN</td>\n",
       "      <td>ENSG00000182636</td>\n",
       "      <td>15</td>\n",
       "      <td>15q11.2</td>\n",
       "      <td>23685400.0</td>\n",
       "    </tr>\n",
       "  </tbody>\n",
       "</table>\n",
       "<p>187 rows × 5 columns</p>\n",
       "</div>"
      ],
      "text/plain": [
       "         name               id chr      band  start_position\n",
       "12      THBS1  ENSG00000137801  15     15q14      39581079.0\n",
       "66      CCNB2  ENSG00000157456  15   15q22.2      59105126.0\n",
       "70       FBN1  ENSG00000166147  15   15q21.1      48408306.0\n",
       "73     SPINT1  ENSG00000166145  15   15q15.1      40844018.0\n",
       "75      ANPEP  ENSG00000166825  15   15q26.1      89784895.0\n",
       "...       ...              ...  ..       ...             ...\n",
       "6365   MAP2K1  ENSG00000169032  15  15q22.31      66386817.0\n",
       "6368   MAP2K5  ENSG00000137764  15     15q23      67542703.0\n",
       "6385     RYR3  ENSG00000198838  15   15q13.3      33310945.0\n",
       "6389  SLCO3A1  ENSG00000176463  15   15q26.1      91853708.0\n",
       "6439      NDN  ENSG00000182636  15   15q11.2      23685400.0\n",
       "\n",
       "[187 rows x 5 columns]"
      ]
     },
     "metadata": {},
     "output_type": "display_data"
    }
   ],
   "source": [
    "chromosome_genes_info = genes_info[genes_info[\"chr\"] == chromosome]\n",
    "display(chromosome_genes_info)"
   ]
  },
  {
   "cell_type": "code",
   "execution_count": 27,
   "id": "d2e42726-7de6-46eb-acfc-6323eaa8fae6",
   "metadata": {
    "execution": {
     "iopub.execute_input": "2022-06-16T15:14:05.455872Z",
     "iopub.status.busy": "2022-06-16T15:14:05.455380Z",
     "iopub.status.idle": "2022-06-16T15:14:05.472096Z",
     "shell.execute_reply": "2022-06-16T15:14:05.471506Z"
    },
    "papermill": {
     "duration": 0.026267,
     "end_time": "2022-06-16T15:14:05.473463",
     "exception": false,
     "start_time": "2022-06-16T15:14:05.447196",
     "status": "completed"
    },
    "tags": []
   },
   "outputs": [
    {
     "data": {
      "text/plain": [
       "5"
      ]
     },
     "metadata": {},
     "output_type": "display_data"
    }
   ],
   "source": [
    "_gene_list_ids = sample(chromosome_genes_info[\"id\"].tolist(), 5)\n",
    "selected_chromosome_genes_obj = [Gene(ensembl_id=g_id) for g_id in _gene_list_ids]\n",
    "display(len(selected_chromosome_genes_obj))"
   ]
  },
  {
   "cell_type": "code",
   "execution_count": 28,
   "id": "1b355359",
   "metadata": {
    "execution": {
     "iopub.execute_input": "2022-06-16T15:14:05.489827Z",
     "iopub.status.busy": "2022-06-16T15:14:05.489295Z",
     "iopub.status.idle": "2022-06-16T15:14:09.555765Z",
     "shell.execute_reply": "2022-06-16T15:14:09.555349Z"
    },
    "papermill": {
     "duration": 4.075815,
     "end_time": "2022-06-16T15:14:09.557003",
     "exception": false,
     "start_time": "2022-06-16T15:14:05.481188",
     "status": "completed"
    },
    "tags": []
   },
   "outputs": [
    {
     "name": "stdout",
     "output_type": "stream",
     "text": [
      "SEMA7A / RPS27L: 0.0\n",
      "SEMA7A / MAN2A2: 0.0\n",
      "SEMA7A / ISG20: 0.0\n",
      "SEMA7A / MEX3B: 0.0\n",
      "RPS27L / MAN2A2: 0.0\n",
      "RPS27L / ISG20: 0.0\n",
      "RPS27L / MEX3B: 0.0\n",
      "MAN2A2 / ISG20: 0.0457844112101782\n",
      "MAN2A2 / MEX3B: 0.0\n",
      "ISG20 / MEX3B: 0.0\n"
     ]
    }
   ],
   "source": [
    "for gene_idx1 in range(0, len(selected_chromosome_genes_obj) - 1):\n",
    "    gene_obj1 = selected_chromosome_genes_obj[gene_idx1]\n",
    "\n",
    "    for gene_idx2 in range(gene_idx1 + 1, len(selected_chromosome_genes_obj)):\n",
    "        gene_obj2 = selected_chromosome_genes_obj[gene_idx2]\n",
    "\n",
    "        c = gene_obj1.get_ssm_correlation(\n",
    "            gene_obj2,\n",
    "        )\n",
    "\n",
    "        print(f\"{gene_obj1.name} / {gene_obj2.name}: {c}\")"
   ]
  },
  {
   "cell_type": "markdown",
   "id": "d3843e06",
   "metadata": {
    "papermill": {
     "duration": 0.012326,
     "end_time": "2022-06-16T15:14:09.581461",
     "exception": false,
     "start_time": "2022-06-16T15:14:09.569135",
     "status": "completed"
    },
    "tags": []
   },
   "source": [
    "# Compute correlation per chromosome"
   ]
  },
  {
   "cell_type": "code",
   "execution_count": 29,
   "id": "aa674fe4-6794-4eed-98fa-32b39d1d4ace",
   "metadata": {
    "execution": {
     "iopub.execute_input": "2022-06-16T15:14:09.608892Z",
     "iopub.status.busy": "2022-06-16T15:14:09.608497Z",
     "iopub.status.idle": "2022-06-16T15:14:09.623768Z",
     "shell.execute_reply": "2022-06-16T15:14:09.623275Z"
    },
    "papermill": {
     "duration": 0.029125,
     "end_time": "2022-06-16T15:14:09.625184",
     "exception": false,
     "start_time": "2022-06-16T15:14:09.596059",
     "status": "completed"
    },
    "tags": []
   },
   "outputs": [],
   "source": [
    "warnings.filterwarnings(\"error\")"
   ]
  },
  {
   "cell_type": "code",
   "execution_count": 30,
   "id": "cdbb90a1",
   "metadata": {
    "execution": {
     "iopub.execute_input": "2022-06-16T15:14:09.641000Z",
     "iopub.status.busy": "2022-06-16T15:14:09.640825Z",
     "iopub.status.idle": "2022-06-16T16:50:42.777478Z",
     "shell.execute_reply": "2022-06-16T16:50:42.776993Z"
    },
    "papermill": {
     "duration": 5793.146454,
     "end_time": "2022-06-16T16:50:42.779011",
     "exception": false,
     "start_time": "2022-06-16T15:14:09.632557",
     "status": "completed"
    },
    "tags": []
   },
   "outputs": [
    {
     "name": "stdout",
     "output_type": "stream",
     "text": [
      "Number of genes in chromosome: 187\n",
      "Chromosome 15\n",
      "Number of gene combinations: 17391\n"
     ]
    },
    {
     "name": "stderr",
     "output_type": "stream",
     "text": [
      "ENSG00000140479 / ENSG00000185418: 100%|████████████████████| 17391/17391 [1:36:33<00:00,  3.00it/s]"
     ]
    },
    {
     "name": "stdout",
     "output_type": "stream",
     "text": [
      "Min/max values: -0.9878238543305496 / 0.9579672981035805\n"
     ]
    },
    {
     "name": "stderr",
     "output_type": "stream",
     "text": [
      "\n"
     ]
    },
    {
     "data": {
      "text/plain": [
       "PosixPath('/opt/data/data/phenomexcan/ld_blocks/gene_corrs/gtex_v8/mashr/by_chr/gene_corrs-chr15.pkl')"
      ]
     },
     "metadata": {},
     "output_type": "display_data"
    }
   ],
   "source": [
    "# standard checks\n",
    "all_chrs = genes_info[\"chr\"].dropna().unique()\n",
    "assert all_chrs.shape[0] == 22\n",
    "\n",
    "# select chromosome given by the user\n",
    "assert chromosome in all_chrs\n",
    "\n",
    "# run only on the chromosome specified\n",
    "all_chrs = [chromosome]\n",
    "genes_chr = genes_info[genes_info[\"chr\"] == chromosome]\n",
    "print(f\"Number of genes in chromosome: {genes_chr.shape[0]}\", flush=True)\n",
    "\n",
    "# For testing purposes\n",
    "# genes_chr = genes_chr.sample(n=20)\n",
    "\n",
    "# sort genes by starting position to make visualizations better later\n",
    "genes_chr = genes_chr.sort_values(\"start_position\")\n",
    "\n",
    "\n",
    "for chr_num in all_chrs:\n",
    "    print(f\"Chromosome {chr_num}\", flush=True)\n",
    "\n",
    "    # check if results exist\n",
    "    output_dir = OUTPUT_DIR_BASE / \"by_chr\"\n",
    "    output_file = output_dir / f\"gene_corrs-chr{chr_num}.pkl\"\n",
    "\n",
    "    if output_file.exists():\n",
    "        _tmp_data = pd.read_pickle(output_file)\n",
    "\n",
    "        if _tmp_data.shape[0] > 0:\n",
    "            print(\"Already run, stopping.\")\n",
    "            continue\n",
    "\n",
    "    gene_chr_objs = [Gene(ensembl_id=gene_id) for gene_id in genes_chr[\"id\"]]\n",
    "    gene_chr_ids = [g.ensembl_id for g in gene_chr_objs]\n",
    "\n",
    "    n = len(gene_chr_objs)\n",
    "    n_comb = int(n * (n - 1) / 2.0)\n",
    "    print(f\"Number of gene combinations: {n_comb}\", flush=True)\n",
    "\n",
    "    gene_corrs = []\n",
    "\n",
    "    pbar = tqdm(ncols=100, total=n_comb)\n",
    "    i = 0\n",
    "    for gene_idx1 in range(0, len(gene_chr_objs) - 1):\n",
    "        gene_obj1 = gene_chr_objs[gene_idx1]\n",
    "\n",
    "        for gene_idx2 in range(gene_idx1 + 1, len(gene_chr_objs)):\n",
    "            gene_obj2 = gene_chr_objs[gene_idx2]\n",
    "\n",
    "            pbar.set_description(f\"{gene_obj1.ensembl_id} / {gene_obj2.ensembl_id}\")\n",
    "\n",
    "            try:\n",
    "                # FIXME: compute the correlation of the sum of squares of the model using all\n",
    "                # the available tissues; this could be problematic because for some results\n",
    "                # (computed on a specific phenotype/GWAS) we might not have all the tissues\n",
    "                # available, which can certainly bias the correlation estimation.\n",
    "                # Since this depends on the GWAS on a specific phenotype, we should ideally have\n",
    "                # one correlation matrix per GWAS. I should look at how we can improve this.\n",
    "                gene_corrs.append(\n",
    "                    gene_obj1.get_ssm_correlation(\n",
    "                        other_gene=gene_obj2,\n",
    "                        condition_number=SMULTIXCAN_CONDITION_NUMBER,\n",
    "                        reference_panel=REFERENCE_PANEL,\n",
    "                        model_type=EQTL_MODEL,\n",
    "                    )\n",
    "                )\n",
    "            except Warning:\n",
    "                print(\n",
    "                    f\"RuntimeWarning for genes {gene_obj1.ensembl_id} and {gene_obj2.ensembl_id}\",\n",
    "                    flush=True,\n",
    "                )\n",
    "                import traceback\n",
    "\n",
    "                print(traceback.format_exc(), flush=True)\n",
    "            except Exception as e:\n",
    "                print(\n",
    "                    f\"Exception for genes {gene_obj1.ensembl_id} and {gene_obj2.ensembl_id}\",\n",
    "                    flush=True,\n",
    "                )\n",
    "                import traceback\n",
    "\n",
    "                print(traceback.format_exc(), flush=True)\n",
    "                gene_corrs.append(np.nan)\n",
    "\n",
    "            pbar.update(1)\n",
    "\n",
    "    pbar.close()\n",
    "\n",
    "    # testing\n",
    "    gene_corrs_flat = pd.Series(gene_corrs)\n",
    "    print(f\"Min/max values: {gene_corrs_flat.min()} / {gene_corrs_flat.max()}\")\n",
    "    assert gene_corrs_flat.min() >= -1.001\n",
    "    assert gene_corrs_flat.max() <= 1.001\n",
    "\n",
    "    # save\n",
    "    # FIXME: consider saving only the condenced matrix here. See here for\n",
    "    # more details: https://github.com/greenelab/phenoplier/pull/38#discussion_r634600813\n",
    "    gene_corrs_data = squareform(np.array(gene_corrs, dtype=np.float64))\n",
    "    np.fill_diagonal(gene_corrs_data, 1.0)\n",
    "\n",
    "    gene_corrs_df = pd.DataFrame(\n",
    "        data=gene_corrs_data,\n",
    "        index=gene_chr_ids,\n",
    "        columns=gene_chr_ids,\n",
    "    )\n",
    "\n",
    "    output_dir.mkdir(exist_ok=True, parents=True)\n",
    "    display(output_file)\n",
    "\n",
    "    gene_corrs_df.to_pickle(output_file)"
   ]
  },
  {
   "cell_type": "markdown",
   "id": "faa67b51-5373-470f-aa72-2ded53fa6dfe",
   "metadata": {
    "papermill": {
     "duration": 0.733994,
     "end_time": "2022-06-16T16:50:44.239970",
     "exception": false,
     "start_time": "2022-06-16T16:50:43.505976",
     "status": "completed"
    },
    "tags": []
   },
   "source": [
    "# Testing"
   ]
  },
  {
   "cell_type": "code",
   "execution_count": 31,
   "id": "14f7d046-4b55-4896-a56b-990127bcc388",
   "metadata": {
    "execution": {
     "iopub.execute_input": "2022-06-16T16:50:45.699171Z",
     "iopub.status.busy": "2022-06-16T16:50:45.698998Z",
     "iopub.status.idle": "2022-06-16T16:50:45.715436Z",
     "shell.execute_reply": "2022-06-16T16:50:45.714875Z"
    },
    "papermill": {
     "duration": 0.746071,
     "end_time": "2022-06-16T16:50:45.716767",
     "exception": false,
     "start_time": "2022-06-16T16:50:44.970696",
     "status": "completed"
    },
    "tags": []
   },
   "outputs": [
    {
     "data": {
      "text/plain": [
       "(187, 187)"
      ]
     },
     "execution_count": 31,
     "metadata": {},
     "output_type": "execute_result"
    }
   ],
   "source": [
    "gene_corrs_df.shape"
   ]
  },
  {
   "cell_type": "code",
   "execution_count": 32,
   "id": "c7d15414-3297-4537-a7c6-7588c0baeb75",
   "metadata": {
    "execution": {
     "iopub.execute_input": "2022-06-16T16:50:47.117605Z",
     "iopub.status.busy": "2022-06-16T16:50:47.117411Z",
     "iopub.status.idle": "2022-06-16T16:50:47.148954Z",
     "shell.execute_reply": "2022-06-16T16:50:47.148313Z"
    },
    "papermill": {
     "duration": 0.758448,
     "end_time": "2022-06-16T16:50:47.150338",
     "exception": false,
     "start_time": "2022-06-16T16:50:46.391890",
     "status": "completed"
    },
    "tags": []
   },
   "outputs": [
    {
     "data": {
      "text/html": [
       "<div>\n",
       "<style scoped>\n",
       "    .dataframe tbody tr th:only-of-type {\n",
       "        vertical-align: middle;\n",
       "    }\n",
       "\n",
       "    .dataframe tbody tr th {\n",
       "        vertical-align: top;\n",
       "    }\n",
       "\n",
       "    .dataframe thead th {\n",
       "        text-align: right;\n",
       "    }\n",
       "</style>\n",
       "<table border=\"1\" class=\"dataframe\">\n",
       "  <thead>\n",
       "    <tr style=\"text-align: right;\">\n",
       "      <th></th>\n",
       "      <th>ENSG00000273749</th>\n",
       "      <th>ENSG00000275835</th>\n",
       "      <th>ENSG00000182636</th>\n",
       "      <th>ENSG00000273173</th>\n",
       "      <th>ENSG00000114062</th>\n",
       "      <th>ENSG00000206190</th>\n",
       "      <th>ENSG00000128731</th>\n",
       "      <th>ENSG00000034053</th>\n",
       "      <th>ENSG00000198690</th>\n",
       "      <th>ENSG00000166912</th>\n",
       "      <th>...</th>\n",
       "      <th>ENSG00000182175</th>\n",
       "      <th>ENSG00000140450</th>\n",
       "      <th>ENSG00000140443</th>\n",
       "      <th>ENSG00000068305</th>\n",
       "      <th>ENSG00000183475</th>\n",
       "      <th>ENSG00000184254</th>\n",
       "      <th>ENSG00000131873</th>\n",
       "      <th>ENSG00000131876</th>\n",
       "      <th>ENSG00000140479</th>\n",
       "      <th>ENSG00000185418</th>\n",
       "    </tr>\n",
       "  </thead>\n",
       "  <tbody>\n",
       "    <tr>\n",
       "      <th>ENSG00000273749</th>\n",
       "      <td>1.000000</td>\n",
       "      <td>0.036806</td>\n",
       "      <td>-0.040012</td>\n",
       "      <td>-0.139933</td>\n",
       "      <td>0.062978</td>\n",
       "      <td>-0.038156</td>\n",
       "      <td>0.000000</td>\n",
       "      <td>0.000000</td>\n",
       "      <td>0.0</td>\n",
       "      <td>0.0</td>\n",
       "      <td>...</td>\n",
       "      <td>0.0</td>\n",
       "      <td>0.0</td>\n",
       "      <td>0.0</td>\n",
       "      <td>0.0</td>\n",
       "      <td>0.0</td>\n",
       "      <td>0.0</td>\n",
       "      <td>0.0</td>\n",
       "      <td>0.0</td>\n",
       "      <td>0.0</td>\n",
       "      <td>0.0</td>\n",
       "    </tr>\n",
       "    <tr>\n",
       "      <th>ENSG00000275835</th>\n",
       "      <td>0.036806</td>\n",
       "      <td>1.000000</td>\n",
       "      <td>-0.035815</td>\n",
       "      <td>0.074656</td>\n",
       "      <td>-0.085608</td>\n",
       "      <td>0.098016</td>\n",
       "      <td>0.000000</td>\n",
       "      <td>0.000000</td>\n",
       "      <td>0.0</td>\n",
       "      <td>0.0</td>\n",
       "      <td>...</td>\n",
       "      <td>0.0</td>\n",
       "      <td>0.0</td>\n",
       "      <td>0.0</td>\n",
       "      <td>0.0</td>\n",
       "      <td>0.0</td>\n",
       "      <td>0.0</td>\n",
       "      <td>0.0</td>\n",
       "      <td>0.0</td>\n",
       "      <td>0.0</td>\n",
       "      <td>0.0</td>\n",
       "    </tr>\n",
       "    <tr>\n",
       "      <th>ENSG00000182636</th>\n",
       "      <td>-0.040012</td>\n",
       "      <td>-0.035815</td>\n",
       "      <td>1.000000</td>\n",
       "      <td>-0.045759</td>\n",
       "      <td>-0.031634</td>\n",
       "      <td>0.142423</td>\n",
       "      <td>-0.228638</td>\n",
       "      <td>0.000000</td>\n",
       "      <td>0.0</td>\n",
       "      <td>0.0</td>\n",
       "      <td>...</td>\n",
       "      <td>0.0</td>\n",
       "      <td>0.0</td>\n",
       "      <td>0.0</td>\n",
       "      <td>0.0</td>\n",
       "      <td>0.0</td>\n",
       "      <td>0.0</td>\n",
       "      <td>0.0</td>\n",
       "      <td>0.0</td>\n",
       "      <td>0.0</td>\n",
       "      <td>0.0</td>\n",
       "    </tr>\n",
       "    <tr>\n",
       "      <th>ENSG00000273173</th>\n",
       "      <td>-0.139933</td>\n",
       "      <td>0.074656</td>\n",
       "      <td>-0.045759</td>\n",
       "      <td>1.000000</td>\n",
       "      <td>-0.085595</td>\n",
       "      <td>-0.107631</td>\n",
       "      <td>-0.228070</td>\n",
       "      <td>0.005408</td>\n",
       "      <td>0.0</td>\n",
       "      <td>0.0</td>\n",
       "      <td>...</td>\n",
       "      <td>0.0</td>\n",
       "      <td>0.0</td>\n",
       "      <td>0.0</td>\n",
       "      <td>0.0</td>\n",
       "      <td>0.0</td>\n",
       "      <td>0.0</td>\n",
       "      <td>0.0</td>\n",
       "      <td>0.0</td>\n",
       "      <td>0.0</td>\n",
       "      <td>0.0</td>\n",
       "    </tr>\n",
       "    <tr>\n",
       "      <th>ENSG00000114062</th>\n",
       "      <td>0.062978</td>\n",
       "      <td>-0.085608</td>\n",
       "      <td>-0.031634</td>\n",
       "      <td>-0.085595</td>\n",
       "      <td>1.000000</td>\n",
       "      <td>-0.020262</td>\n",
       "      <td>0.127391</td>\n",
       "      <td>0.111128</td>\n",
       "      <td>0.0</td>\n",
       "      <td>0.0</td>\n",
       "      <td>...</td>\n",
       "      <td>0.0</td>\n",
       "      <td>0.0</td>\n",
       "      <td>0.0</td>\n",
       "      <td>0.0</td>\n",
       "      <td>0.0</td>\n",
       "      <td>0.0</td>\n",
       "      <td>0.0</td>\n",
       "      <td>0.0</td>\n",
       "      <td>0.0</td>\n",
       "      <td>0.0</td>\n",
       "    </tr>\n",
       "  </tbody>\n",
       "</table>\n",
       "<p>5 rows × 187 columns</p>\n",
       "</div>"
      ],
      "text/plain": [
       "                 ENSG00000273749  ENSG00000275835  ENSG00000182636  \\\n",
       "ENSG00000273749         1.000000         0.036806        -0.040012   \n",
       "ENSG00000275835         0.036806         1.000000        -0.035815   \n",
       "ENSG00000182636        -0.040012        -0.035815         1.000000   \n",
       "ENSG00000273173        -0.139933         0.074656        -0.045759   \n",
       "ENSG00000114062         0.062978        -0.085608        -0.031634   \n",
       "\n",
       "                 ENSG00000273173  ENSG00000114062  ENSG00000206190  \\\n",
       "ENSG00000273749        -0.139933         0.062978        -0.038156   \n",
       "ENSG00000275835         0.074656        -0.085608         0.098016   \n",
       "ENSG00000182636        -0.045759        -0.031634         0.142423   \n",
       "ENSG00000273173         1.000000        -0.085595        -0.107631   \n",
       "ENSG00000114062        -0.085595         1.000000        -0.020262   \n",
       "\n",
       "                 ENSG00000128731  ENSG00000034053  ENSG00000198690  \\\n",
       "ENSG00000273749         0.000000         0.000000              0.0   \n",
       "ENSG00000275835         0.000000         0.000000              0.0   \n",
       "ENSG00000182636        -0.228638         0.000000              0.0   \n",
       "ENSG00000273173        -0.228070         0.005408              0.0   \n",
       "ENSG00000114062         0.127391         0.111128              0.0   \n",
       "\n",
       "                 ENSG00000166912  ...  ENSG00000182175  ENSG00000140450  \\\n",
       "ENSG00000273749              0.0  ...              0.0              0.0   \n",
       "ENSG00000275835              0.0  ...              0.0              0.0   \n",
       "ENSG00000182636              0.0  ...              0.0              0.0   \n",
       "ENSG00000273173              0.0  ...              0.0              0.0   \n",
       "ENSG00000114062              0.0  ...              0.0              0.0   \n",
       "\n",
       "                 ENSG00000140443  ENSG00000068305  ENSG00000183475  \\\n",
       "ENSG00000273749              0.0              0.0              0.0   \n",
       "ENSG00000275835              0.0              0.0              0.0   \n",
       "ENSG00000182636              0.0              0.0              0.0   \n",
       "ENSG00000273173              0.0              0.0              0.0   \n",
       "ENSG00000114062              0.0              0.0              0.0   \n",
       "\n",
       "                 ENSG00000184254  ENSG00000131873  ENSG00000131876  \\\n",
       "ENSG00000273749              0.0              0.0              0.0   \n",
       "ENSG00000275835              0.0              0.0              0.0   \n",
       "ENSG00000182636              0.0              0.0              0.0   \n",
       "ENSG00000273173              0.0              0.0              0.0   \n",
       "ENSG00000114062              0.0              0.0              0.0   \n",
       "\n",
       "                 ENSG00000140479  ENSG00000185418  \n",
       "ENSG00000273749              0.0              0.0  \n",
       "ENSG00000275835              0.0              0.0  \n",
       "ENSG00000182636              0.0              0.0  \n",
       "ENSG00000273173              0.0              0.0  \n",
       "ENSG00000114062              0.0              0.0  \n",
       "\n",
       "[5 rows x 187 columns]"
      ]
     },
     "execution_count": 32,
     "metadata": {},
     "output_type": "execute_result"
    }
   ],
   "source": [
    "gene_corrs_df.head()"
   ]
  },
  {
   "cell_type": "code",
   "execution_count": 33,
   "id": "00583efc-7068-4270-ad1e-4a418e91db96",
   "metadata": {
    "execution": {
     "iopub.execute_input": "2022-06-16T16:50:48.651926Z",
     "iopub.status.busy": "2022-06-16T16:50:48.651748Z",
     "iopub.status.idle": "2022-06-16T16:50:48.670259Z",
     "shell.execute_reply": "2022-06-16T16:50:48.669748Z"
    },
    "papermill": {
     "duration": 0.781595,
     "end_time": "2022-06-16T16:50:48.671637",
     "exception": false,
     "start_time": "2022-06-16T16:50:47.890042",
     "status": "completed"
    },
    "tags": []
   },
   "outputs": [
    {
     "data": {
      "text/plain": [
       "-0.9878238543305496"
      ]
     },
     "metadata": {},
     "output_type": "display_data"
    }
   ],
   "source": [
    "_min_val = gene_corrs_df.min().min()\n",
    "display(_min_val)\n",
    "assert _min_val >= -1.0"
   ]
  },
  {
   "cell_type": "code",
   "execution_count": 34,
   "id": "d04fb2cf-1050-475b-b855-f5f7cc04092b",
   "metadata": {
    "execution": {
     "iopub.execute_input": "2022-06-16T16:50:50.092325Z",
     "iopub.status.busy": "2022-06-16T16:50:50.092147Z",
     "iopub.status.idle": "2022-06-16T16:50:50.110928Z",
     "shell.execute_reply": "2022-06-16T16:50:50.110312Z"
    },
    "papermill": {
     "duration": 0.76446,
     "end_time": "2022-06-16T16:50:50.112382",
     "exception": false,
     "start_time": "2022-06-16T16:50:49.347922",
     "status": "completed"
    },
    "tags": []
   },
   "outputs": [
    {
     "data": {
      "text/plain": [
       "1.0"
      ]
     },
     "metadata": {},
     "output_type": "display_data"
    }
   ],
   "source": [
    "_max_val = gene_corrs_df.max().max()  # this captures the diagonal\n",
    "display(_max_val)\n",
    "assert _max_val <= 1.0"
   ]
  },
  {
   "cell_type": "code",
   "execution_count": 35,
   "id": "96d02c44-1fba-47be-8a93-8f2608420b9c",
   "metadata": {
    "execution": {
     "iopub.execute_input": "2022-06-16T16:50:51.558738Z",
     "iopub.status.busy": "2022-06-16T16:50:51.558556Z",
     "iopub.status.idle": "2022-06-16T16:50:51.574716Z",
     "shell.execute_reply": "2022-06-16T16:50:51.574148Z"
    },
    "papermill": {
     "duration": 0.736352,
     "end_time": "2022-06-16T16:50:51.576101",
     "exception": false,
     "start_time": "2022-06-16T16:50:50.839749",
     "status": "completed"
    },
    "tags": []
   },
   "outputs": [],
   "source": [
    "# check upper triangular values\n",
    "assert len(gene_corrs) == int(genes_chr.shape[0] * (genes_chr.shape[0] - 1) / 2)"
   ]
  },
  {
   "cell_type": "code",
   "execution_count": 36,
   "id": "aaa51627-f4e3-4744-a41f-7d25adcc0a78",
   "metadata": {
    "execution": {
     "iopub.execute_input": "2022-06-16T16:50:53.033005Z",
     "iopub.status.busy": "2022-06-16T16:50:53.032820Z",
     "iopub.status.idle": "2022-06-16T16:50:53.050831Z",
     "shell.execute_reply": "2022-06-16T16:50:53.050247Z"
    },
    "papermill": {
     "duration": 0.740725,
     "end_time": "2022-06-16T16:50:53.052198",
     "exception": false,
     "start_time": "2022-06-16T16:50:52.311473",
     "status": "completed"
    },
    "tags": []
   },
   "outputs": [],
   "source": [
    "gene_corrs = pd.Series(gene_corrs)"
   ]
  },
  {
   "cell_type": "code",
   "execution_count": 37,
   "id": "fe283586-c348-40e0-8841-f6d97bfb021c",
   "metadata": {
    "execution": {
     "iopub.execute_input": "2022-06-16T16:50:54.469972Z",
     "iopub.status.busy": "2022-06-16T16:50:54.469783Z",
     "iopub.status.idle": "2022-06-16T16:50:54.490871Z",
     "shell.execute_reply": "2022-06-16T16:50:54.490303Z"
    },
    "papermill": {
     "duration": 0.710808,
     "end_time": "2022-06-16T16:50:54.492263",
     "exception": false,
     "start_time": "2022-06-16T16:50:53.781455",
     "status": "completed"
    },
    "tags": []
   },
   "outputs": [
    {
     "data": {
      "text/plain": [
       "count    17391.000000\n",
       "mean         0.000598\n",
       "std          0.060898\n",
       "min         -0.987824\n",
       "25%          0.000000\n",
       "50%          0.000000\n",
       "75%          0.000000\n",
       "max          0.957967\n",
       "dtype: float64"
      ]
     },
     "execution_count": 37,
     "metadata": {},
     "output_type": "execute_result"
    }
   ],
   "source": [
    "gene_corrs.describe()"
   ]
  },
  {
   "cell_type": "code",
   "execution_count": 38,
   "id": "b3815678-0f93-4b35-897b-a9d047a2aa78",
   "metadata": {
    "execution": {
     "iopub.execute_input": "2022-06-16T16:50:55.995541Z",
     "iopub.status.busy": "2022-06-16T16:50:55.995219Z",
     "iopub.status.idle": "2022-06-16T16:50:56.014729Z",
     "shell.execute_reply": "2022-06-16T16:50:56.014132Z"
    },
    "papermill": {
     "duration": 0.748354,
     "end_time": "2022-06-16T16:50:56.016085",
     "exception": false,
     "start_time": "2022-06-16T16:50:55.267731",
     "status": "completed"
    },
    "tags": []
   },
   "outputs": [
    {
     "data": {
      "text/plain": [
       "0.00   -0.987824\n",
       "0.05   -0.037716\n",
       "0.10    0.000000\n",
       "0.15    0.000000\n",
       "0.20    0.000000\n",
       "0.25    0.000000\n",
       "0.30    0.000000\n",
       "0.35    0.000000\n",
       "0.40    0.000000\n",
       "0.45    0.000000\n",
       "0.50    0.000000\n",
       "0.55    0.000000\n",
       "0.60    0.000000\n",
       "0.65    0.000000\n",
       "0.70    0.000000\n",
       "0.75    0.000000\n",
       "0.80    0.000000\n",
       "0.85    0.000000\n",
       "0.90    0.000000\n",
       "0.95    0.041467\n",
       "dtype: float64"
      ]
     },
     "metadata": {},
     "output_type": "display_data"
    }
   ],
   "source": [
    "gene_corrs_quantiles = gene_corrs.quantile(np.arange(0, 1, 0.05))\n",
    "display(gene_corrs_quantiles)"
   ]
  },
  {
   "cell_type": "markdown",
   "id": "8e60a080-edb2-4e9c-b2ef-22961693200c",
   "metadata": {
    "papermill": {
     "duration": 0.665198,
     "end_time": "2022-06-16T16:50:57.427870",
     "exception": false,
     "start_time": "2022-06-16T16:50:56.762672",
     "status": "completed"
    },
    "tags": []
   },
   "source": [
    "## Plot: distribution"
   ]
  },
  {
   "cell_type": "code",
   "execution_count": 39,
   "id": "8301126b-a7d4-4744-9c7d-f0f86eb6f54c",
   "metadata": {
    "execution": {
     "iopub.execute_input": "2022-06-16T16:50:58.890594Z",
     "iopub.status.busy": "2022-06-16T16:50:58.890408Z",
     "iopub.status.idle": "2022-06-16T16:50:59.244288Z",
     "shell.execute_reply": "2022-06-16T16:50:59.243732Z"
    },
    "papermill": {
     "duration": 1.091609,
     "end_time": "2022-06-16T16:50:59.245666",
     "exception": false,
     "start_time": "2022-06-16T16:50:58.154057",
     "status": "completed"
    },
    "tags": []
   },
   "outputs": [
    {
     "data": {
      "image/png": "[encoded data removed]",
      "text/plain": [
       "<Figure size 504x504 with 1 Axes>"
      ]
     },
     "metadata": {
      "needs_background": "light"
     },
     "output_type": "display_data"
    }
   ],
   "source": [
    "with sns.plotting_context(\"paper\", font_scale=1.5):\n",
    "    g = sns.displot(gene_corrs, kde=True, height=7)\n",
    "    g.ax.set_title(\n",
    "        f\"Distribution of gene correlation values in chromosome {chromosome}\"\n",
    "    )"
   ]
  },
  {
   "cell_type": "markdown",
   "id": "cbd52bca-d878-4a2f-b684-5c83aa3038d4",
   "metadata": {
    "papermill": {
     "duration": 0.743384,
     "end_time": "2022-06-16T16:51:00.734470",
     "exception": false,
     "start_time": "2022-06-16T16:50:59.991086",
     "status": "completed"
    },
    "tags": []
   },
   "source": [
    "## Plot: heatmap"
   ]
  },
  {
   "cell_type": "code",
   "execution_count": 40,
   "id": "d03fe63a-c7b2-4fb9-a53c-db362ce843c9",
   "metadata": {
    "execution": {
     "iopub.execute_input": "2022-06-16T16:51:02.197055Z",
     "iopub.status.busy": "2022-06-16T16:51:02.196877Z",
     "iopub.status.idle": "2022-06-16T16:51:02.214378Z",
     "shell.execute_reply": "2022-06-16T16:51:02.213775Z"
    },
    "papermill": {
     "duration": 0.751411,
     "end_time": "2022-06-16T16:51:02.215705",
     "exception": false,
     "start_time": "2022-06-16T16:51:01.464294",
     "status": "completed"
    },
    "tags": []
   },
   "outputs": [
    {
     "data": {
      "text/plain": [
       "'-0.05 / 0.05'"
      ]
     },
     "metadata": {},
     "output_type": "display_data"
    }
   ],
   "source": [
    "vmin_val = min(-0.05, gene_corrs_quantiles[0.10])\n",
    "vmax_val = max(0.05, gene_corrs_quantiles[0.90])\n",
    "display(f\"{vmin_val} / {vmax_val}\")"
   ]
  },
  {
   "cell_type": "code",
   "execution_count": 41,
   "id": "dc41b70b-5bcc-4d9e-9f33-a22c4a94dab5",
   "metadata": {
    "execution": {
     "iopub.execute_input": "2022-06-16T16:51:03.665533Z",
     "iopub.status.busy": "2022-06-16T16:51:03.665304Z",
     "iopub.status.idle": "2022-06-16T16:51:03.828602Z",
     "shell.execute_reply": "2022-06-16T16:51:03.828147Z"
    },
    "papermill": {
     "duration": 0.927284,
     "end_time": "2022-06-16T16:51:03.830254",
     "exception": false,
     "start_time": "2022-06-16T16:51:02.902970",
     "status": "completed"
    },
    "tags": []
   },
   "outputs": [
    {
     "data": {
      "text/plain": [
       "Text(0.5, 1.0, 'Gene correlations in chromosome 15')"
      ]
     },
     "execution_count": 41,
     "metadata": {},
     "output_type": "execute_result"
    },
    {
     "data": {
      "image/png": "[encoded data removed]",
      "text/plain": [
       "<Figure size 720x720 with 2 Axes>"
      ]
     },
     "metadata": {
      "needs_background": "light"
     },
     "output_type": "display_data"
    }
   ],
   "source": [
    "f, ax = plt.subplots(figsize=(10, 10))\n",
    "sns.heatmap(\n",
    "    gene_corrs_df,\n",
    "    xticklabels=False,\n",
    "    yticklabels=False,\n",
    "    square=True,\n",
    "    vmin=vmin_val,\n",
    "    vmax=vmax_val,\n",
    "    cmap=\"YlGnBu\",\n",
    "    ax=ax,\n",
    ")\n",
    "ax.set_title(f\"Gene correlations in chromosome {chromosome}\")"
   ]
  },
  {
   "cell_type": "code",
   "execution_count": null,
   "id": "b25e3ead",
   "metadata": {
    "papermill": {
     "duration": 0.734971,
     "end_time": "2022-06-16T16:51:05.307839",
     "exception": false,
     "start_time": "2022-06-16T16:51:04.572868",
     "status": "completed"
    },
    "tags": []
   },
   "outputs": [],
   "source": []
  }
 ],
 "metadata": {
  "jupytext": {
   "cell_metadata_filter": "all,-execution,-papermill,-trusted",
   "formats": "ipynb,py//py:percent"
  },
  "kernelspec": {
   "display_name": "Python 3 (ipykernel)",
   "language": "python",
   "name": "python3"
  },
  "language_info": {
   "codemirror_mode": {
    "name": "ipython",
    "version": 3
   },
   "file_extension": ".py",
   "mimetype": "text/x-python",
   "name": "python",
   "nbconvert_exporter": "python",
   "pygments_lexer": "ipython3",
   "version": "3.8.13"
  },
  "papermill": {
   "default_parameters": {},
   "duration": 5828.854038,
   "end_time": "2022-06-16T16:51:08.969893",
   "environment_variables": {},
   "exception": null,
   "input_path": "nbs/15_gsa_gls/10-gene_expr_correlations.ipynb",
   "output_path": "nbs/15_gsa_gls/gene_corrs/gtex_v8/mashr/10-gene_expr_correlations-chr15.run.ipynb",
   "parameters": {
    "EQTL_MODEL": "MASHR",
    "REFERENCE_PANEL": "GTEX_V8",
    "chromosome": 15
   },
   "start_time": "2022-06-16T15:14:00.115855",
   "version": "2.2.2"
  }
 },
 "nbformat": 4,
 "nbformat_minor": 5
}
