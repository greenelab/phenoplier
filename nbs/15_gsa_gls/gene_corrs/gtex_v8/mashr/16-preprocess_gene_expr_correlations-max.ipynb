{
 "cells": [
  {
   "cell_type": "markdown",
   "id": "5ef66977",
   "metadata": {
    "papermill": {
     "duration": 0.036307,
     "end_time": "2022-06-06T17:04:20.440607",
     "exception": false,
     "start_time": "2022-06-06T17:04:20.404300",
     "status": "completed"
    },
    "tags": []
   },
   "source": [
    "# Description"
   ]
  },
  {
   "cell_type": "markdown",
   "id": "658d4f7c",
   "metadata": {
    "papermill": {
     "duration": 0.009637,
     "end_time": "2022-06-06T17:04:20.464690",
     "exception": false,
     "start_time": "2022-06-06T17:04:20.455053",
     "status": "completed"
    },
    "tags": []
   },
   "source": [
    "(Please, take a look at the README.md file in this directory for instructions on how to run this notebook)\n",
    "\n",
    "This notebook reads all gene correlations across all tissues and computes a single correlation matrix using the maximum correlation for a gene pair across all tissues."
   ]
  },
  {
   "cell_type": "markdown",
   "id": "60fa4530",
   "metadata": {
    "papermill": {
     "duration": 0.008688,
     "end_time": "2022-06-06T17:04:20.481980",
     "exception": false,
     "start_time": "2022-06-06T17:04:20.473292",
     "status": "completed"
    },
    "tags": []
   },
   "source": [
    "# Modules"
   ]
  },
  {
   "cell_type": "code",
   "execution_count": 1,
   "id": "d70b0833",
   "metadata": {
    "execution": {
     "iopub.execute_input": "2022-06-06T17:04:20.530874Z",
     "iopub.status.busy": "2022-06-06T17:04:20.530152Z",
     "iopub.status.idle": "2022-06-06T17:04:20.550098Z",
     "shell.execute_reply": "2022-06-06T17:04:20.549482Z"
    },
    "papermill": {
     "duration": 0.060814,
     "end_time": "2022-06-06T17:04:20.551958",
     "exception": false,
     "start_time": "2022-06-06T17:04:20.491144",
     "status": "completed"
    },
    "tags": []
   },
   "outputs": [],
   "source": [
    "%load_ext autoreload\n",
    "%autoreload 2"
   ]
  },
  {
   "cell_type": "code",
   "execution_count": 2,
   "id": "6b2f9ca0",
   "metadata": {
    "execution": {
     "iopub.execute_input": "2022-06-06T17:04:20.574992Z",
     "iopub.status.busy": "2022-06-06T17:04:20.574570Z",
     "iopub.status.idle": "2022-06-06T17:04:21.049763Z",
     "shell.execute_reply": "2022-06-06T17:04:21.049199Z"
    },
    "papermill": {
     "duration": 0.488003,
     "end_time": "2022-06-06T17:04:21.051339",
     "exception": false,
     "start_time": "2022-06-06T17:04:20.563336",
     "status": "completed"
    },
    "tags": []
   },
   "outputs": [],
   "source": [
    "import numpy as np\n",
    "from scipy.spatial.distance import squareform\n",
    "import pandas as pd\n",
    "\n",
    "import conf\n",
    "from entity import Gene"
   ]
  },
  {
   "cell_type": "markdown",
   "id": "5b96e797",
   "metadata": {
    "papermill": {
     "duration": 0.008997,
     "end_time": "2022-06-06T17:04:21.070111",
     "exception": false,
     "start_time": "2022-06-06T17:04:21.061114",
     "status": "completed"
    },
    "tags": []
   },
   "source": [
    "# Settings"
   ]
  },
  {
   "cell_type": "code",
   "execution_count": 3,
   "id": "4fc1b6a0",
   "metadata": {
    "execution": {
     "iopub.execute_input": "2022-06-06T17:04:21.088875Z",
     "iopub.status.busy": "2022-06-06T17:04:21.088644Z",
     "iopub.status.idle": "2022-06-06T17:04:21.102310Z",
     "shell.execute_reply": "2022-06-06T17:04:21.101853Z"
    },
    "papermill": {
     "duration": 0.024781,
     "end_time": "2022-06-06T17:04:21.103674",
     "exception": false,
     "start_time": "2022-06-06T17:04:21.078893",
     "status": "completed"
    },
    "tags": [
     "parameters"
    ]
   },
   "outputs": [],
   "source": [
    "# reference panel\n",
    "REFERENCE_PANEL = \"GTEX_V8\"\n",
    "# REFERENCE_PANEL = \"1000G\"\n",
    "\n",
    "# prediction models\n",
    "## mashr\n",
    "EQTL_MODEL = \"MASHR\"\n",
    "EQTL_MODEL_FILES_PREFIX = \"mashr_\"\n",
    "\n",
    "# ## elastic net\n",
    "# EQTL_MODEL = \"ELASTIC_NET\"\n",
    "# EQTL_MODEL_FILES_PREFIX = \"en_\"\n",
    "\n",
    "# make it read the prefix from conf.py\n",
    "EQTL_MODEL_FILES_PREFIX = None"
   ]
  },
  {
   "cell_type": "code",
   "execution_count": 4,
   "id": "47ea81fe",
   "metadata": {
    "execution": {
     "iopub.execute_input": "2022-06-06T17:04:21.125471Z",
     "iopub.status.busy": "2022-06-06T17:04:21.125276Z",
     "iopub.status.idle": "2022-06-06T17:04:21.139161Z",
     "shell.execute_reply": "2022-06-06T17:04:21.138606Z"
    },
    "papermill": {
     "duration": 0.027211,
     "end_time": "2022-06-06T17:04:21.140730",
     "exception": false,
     "start_time": "2022-06-06T17:04:21.113519",
     "status": "completed"
    },
    "tags": [
     "injected-parameters"
    ]
   },
   "outputs": [],
   "source": [
    "# Parameters\n",
    "REFERENCE_PANEL = \"GTEX_V8\"\n",
    "EQTL_MODEL = \"MASHR\"\n"
   ]
  },
  {
   "cell_type": "code",
   "execution_count": 5,
   "id": "92e6297a",
   "metadata": {
    "execution": {
     "iopub.execute_input": "2022-06-06T17:04:21.161857Z",
     "iopub.status.busy": "2022-06-06T17:04:21.161684Z",
     "iopub.status.idle": "2022-06-06T17:04:21.175196Z",
     "shell.execute_reply": "2022-06-06T17:04:21.174589Z"
    },
    "papermill": {
     "duration": 0.025514,
     "end_time": "2022-06-06T17:04:21.176614",
     "exception": false,
     "start_time": "2022-06-06T17:04:21.151100",
     "status": "completed"
    },
    "tags": []
   },
   "outputs": [],
   "source": [
    "if EQTL_MODEL_FILES_PREFIX is None:\n",
    "    EQTL_MODEL_FILES_PREFIX = conf.PHENOMEXCAN[\"PREDICTION_MODELS\"][\n",
    "        f\"{EQTL_MODEL}_PREFIX\"\n",
    "    ]"
   ]
  },
  {
   "cell_type": "code",
   "execution_count": 6,
   "id": "c76e4f93",
   "metadata": {
    "execution": {
     "iopub.execute_input": "2022-06-06T17:04:21.196575Z",
     "iopub.status.busy": "2022-06-06T17:04:21.196400Z",
     "iopub.status.idle": "2022-06-06T17:04:21.215234Z",
     "shell.execute_reply": "2022-06-06T17:04:21.214643Z"
    },
    "papermill": {
     "duration": 0.030276,
     "end_time": "2022-06-06T17:04:21.216531",
     "exception": false,
     "start_time": "2022-06-06T17:04:21.186255",
     "status": "completed"
    },
    "tags": []
   },
   "outputs": [
    {
     "data": {
      "text/plain": [
       "'Using eQTL model: MASHR / mashr_'"
      ]
     },
     "metadata": {},
     "output_type": "display_data"
    }
   ],
   "source": [
    "display(f\"Using eQTL model: {EQTL_MODEL} / {EQTL_MODEL_FILES_PREFIX}\")"
   ]
  },
  {
   "cell_type": "code",
   "execution_count": 7,
   "id": "8b85565e-d749-42a9-840d-794f535503ce",
   "metadata": {
    "execution": {
     "iopub.execute_input": "2022-06-06T17:04:21.236292Z",
     "iopub.status.busy": "2022-06-06T17:04:21.235607Z",
     "iopub.status.idle": "2022-06-06T17:04:21.248636Z",
     "shell.execute_reply": "2022-06-06T17:04:21.248148Z"
    },
    "papermill": {
     "duration": 0.023879,
     "end_time": "2022-06-06T17:04:21.249985",
     "exception": false,
     "start_time": "2022-06-06T17:04:21.226106",
     "status": "completed"
    },
    "tags": []
   },
   "outputs": [],
   "source": [
    "REFERENCE_PANEL_DIR = conf.PHENOMEXCAN[\"LD_BLOCKS\"][f\"{REFERENCE_PANEL}_GENOTYPE_DIR\"]"
   ]
  },
  {
   "cell_type": "code",
   "execution_count": 8,
   "id": "7d88b555-08c0-4a85-94e1-c7679a361093",
   "metadata": {
    "execution": {
     "iopub.execute_input": "2022-06-06T17:04:21.269169Z",
     "iopub.status.busy": "2022-06-06T17:04:21.268955Z",
     "iopub.status.idle": "2022-06-06T17:04:21.282865Z",
     "shell.execute_reply": "2022-06-06T17:04:21.282219Z"
    },
    "papermill": {
     "duration": 0.024919,
     "end_time": "2022-06-06T17:04:21.284251",
     "exception": false,
     "start_time": "2022-06-06T17:04:21.259332",
     "status": "completed"
    },
    "tags": []
   },
   "outputs": [
    {
     "data": {
      "text/plain": [
       "'Using reference panel folder: /opt/data/data/phenomexcan/ld_blocks/reference_panel_gtex_v8'"
      ]
     },
     "metadata": {},
     "output_type": "display_data"
    }
   ],
   "source": [
    "display(f\"Using reference panel folder: {str(REFERENCE_PANEL_DIR)}\")"
   ]
  },
  {
   "cell_type": "code",
   "execution_count": 9,
   "id": "ac0c0705-90e4-42f8-8298-a457c7e778ff",
   "metadata": {
    "execution": {
     "iopub.execute_input": "2022-06-06T17:04:21.303824Z",
     "iopub.status.busy": "2022-06-06T17:04:21.303658Z",
     "iopub.status.idle": "2022-06-06T17:04:21.317153Z",
     "shell.execute_reply": "2022-06-06T17:04:21.316644Z"
    },
    "papermill": {
     "duration": 0.024943,
     "end_time": "2022-06-06T17:04:21.318623",
     "exception": false,
     "start_time": "2022-06-06T17:04:21.293680",
     "status": "completed"
    },
    "tags": []
   },
   "outputs": [],
   "source": [
    "OUTPUT_DIR_BASE = (\n",
    "    conf.PHENOMEXCAN[\"LD_BLOCKS\"][f\"GENE_CORRS_DIR\"]\n",
    "    / REFERENCE_PANEL.lower()\n",
    "    / EQTL_MODEL.lower()\n",
    ")\n",
    "OUTPUT_DIR_BASE.mkdir(parents=True, exist_ok=True)"
   ]
  },
  {
   "cell_type": "code",
   "execution_count": 10,
   "id": "91e9b1f6-954d-494f-9ace-c2c9dfc74d4f",
   "metadata": {
    "execution": {
     "iopub.execute_input": "2022-06-06T17:04:21.340041Z",
     "iopub.status.busy": "2022-06-06T17:04:21.339858Z",
     "iopub.status.idle": "2022-06-06T17:04:21.354561Z",
     "shell.execute_reply": "2022-06-06T17:04:21.354011Z"
    },
    "papermill": {
     "duration": 0.027408,
     "end_time": "2022-06-06T17:04:21.356094",
     "exception": false,
     "start_time": "2022-06-06T17:04:21.328686",
     "status": "completed"
    },
    "tags": []
   },
   "outputs": [
    {
     "data": {
      "text/plain": [
       "'Using output dir base: /opt/data/data/phenomexcan/ld_blocks/gene_corrs/gtex_v8/mashr'"
      ]
     },
     "metadata": {},
     "output_type": "display_data"
    }
   ],
   "source": [
    "display(f\"Using output dir base: {OUTPUT_DIR_BASE}\")"
   ]
  },
  {
   "cell_type": "code",
   "execution_count": 11,
   "id": "1afd50f7",
   "metadata": {
    "execution": {
     "iopub.execute_input": "2022-06-06T17:04:21.377796Z",
     "iopub.status.busy": "2022-06-06T17:04:21.377579Z",
     "iopub.status.idle": "2022-06-06T17:04:21.391845Z",
     "shell.execute_reply": "2022-06-06T17:04:21.391274Z"
    },
    "papermill": {
     "duration": 0.026402,
     "end_time": "2022-06-06T17:04:21.393163",
     "exception": false,
     "start_time": "2022-06-06T17:04:21.366761",
     "status": "completed"
    },
    "tags": []
   },
   "outputs": [
    {
     "data": {
      "text/plain": [
       "PosixPath('/opt/data/data/phenomexcan/ld_blocks/gene_corrs/gtex_v8/mashr/by_tissue')"
      ]
     },
     "metadata": {},
     "output_type": "display_data"
    }
   ],
   "source": [
    "INPUT_DIR = OUTPUT_DIR_BASE / \"by_tissue\"\n",
    "display(INPUT_DIR)\n",
    "assert INPUT_DIR.exists()"
   ]
  },
  {
   "cell_type": "code",
   "execution_count": 12,
   "id": "e496cf0d-ede3-4c40-b5e0-73bddf2590b1",
   "metadata": {
    "execution": {
     "iopub.execute_input": "2022-06-06T17:04:21.413459Z",
     "iopub.status.busy": "2022-06-06T17:04:21.412746Z",
     "iopub.status.idle": "2022-06-06T17:04:21.425796Z",
     "shell.execute_reply": "2022-06-06T17:04:21.425294Z"
    },
    "papermill": {
     "duration": 0.024406,
     "end_time": "2022-06-06T17:04:21.427187",
     "exception": false,
     "start_time": "2022-06-06T17:04:21.402781",
     "status": "completed"
    },
    "tags": []
   },
   "outputs": [],
   "source": [
    "OUTPUT_FILE_AGG_METHOD = \"max\""
   ]
  },
  {
   "cell_type": "markdown",
   "id": "99ccb166",
   "metadata": {
    "papermill": {
     "duration": 0.009421,
     "end_time": "2022-06-06T17:04:21.446330",
     "exception": false,
     "start_time": "2022-06-06T17:04:21.436909",
     "status": "completed"
    },
    "tags": []
   },
   "source": [
    "# Load data"
   ]
  },
  {
   "cell_type": "markdown",
   "id": "028bdd42",
   "metadata": {
    "papermill": {
     "duration": 0.009004,
     "end_time": "2022-06-06T17:04:21.464636",
     "exception": false,
     "start_time": "2022-06-06T17:04:21.455632",
     "status": "completed"
    },
    "tags": []
   },
   "source": [
    "## Gene correlations"
   ]
  },
  {
   "cell_type": "code",
   "execution_count": 13,
   "id": "04624465",
   "metadata": {
    "execution": {
     "iopub.execute_input": "2022-06-06T17:04:21.484333Z",
     "iopub.status.busy": "2022-06-06T17:04:21.483853Z",
     "iopub.status.idle": "2022-06-06T17:04:21.502203Z",
     "shell.execute_reply": "2022-06-06T17:04:21.501705Z"
    },
    "papermill": {
     "duration": 0.029875,
     "end_time": "2022-06-06T17:04:21.503678",
     "exception": false,
     "start_time": "2022-06-06T17:04:21.473803",
     "status": "completed"
    },
    "tags": []
   },
   "outputs": [],
   "source": [
    "all_gene_corr_files = list(INPUT_DIR.rglob(\"*.pkl\"))"
   ]
  },
  {
   "cell_type": "code",
   "execution_count": 14,
   "id": "7d1168f5",
   "metadata": {
    "execution": {
     "iopub.execute_input": "2022-06-06T17:04:21.523717Z",
     "iopub.status.busy": "2022-06-06T17:04:21.523514Z",
     "iopub.status.idle": "2022-06-06T17:04:21.537573Z",
     "shell.execute_reply": "2022-06-06T17:04:21.536978Z"
    },
    "papermill": {
     "duration": 0.025811,
     "end_time": "2022-06-06T17:04:21.539030",
     "exception": false,
     "start_time": "2022-06-06T17:04:21.513219",
     "status": "completed"
    },
    "tags": []
   },
   "outputs": [
    {
     "data": {
      "text/plain": [
       "1078"
      ]
     },
     "execution_count": 14,
     "metadata": {},
     "output_type": "execute_result"
    }
   ],
   "source": [
    "len(all_gene_corr_files)"
   ]
  },
  {
   "cell_type": "code",
   "execution_count": 15,
   "id": "39364170",
   "metadata": {
    "execution": {
     "iopub.execute_input": "2022-06-06T17:04:21.559119Z",
     "iopub.status.busy": "2022-06-06T17:04:21.558909Z",
     "iopub.status.idle": "2022-06-06T17:04:21.574175Z",
     "shell.execute_reply": "2022-06-06T17:04:21.573538Z"
    },
    "papermill": {
     "duration": 0.026694,
     "end_time": "2022-06-06T17:04:21.575567",
     "exception": false,
     "start_time": "2022-06-06T17:04:21.548873",
     "status": "completed"
    },
    "tags": []
   },
   "outputs": [
    {
     "data": {
      "text/plain": [
       "[PosixPath('/opt/data/data/phenomexcan/ld_blocks/gene_corrs/gtex_v8/mashr/by_tissue/gene_corrs-Prostate-chr19.pkl'),\n",
       " PosixPath('/opt/data/data/phenomexcan/ld_blocks/gene_corrs/gtex_v8/mashr/by_tissue/gene_corrs-Small_Intestine_Terminal_Ileum-chr20.pkl'),\n",
       " PosixPath('/opt/data/data/phenomexcan/ld_blocks/gene_corrs/gtex_v8/mashr/by_tissue/gene_corrs-Skin_Not_Sun_Exposed_Suprapubic-chr11.pkl'),\n",
       " PosixPath('/opt/data/data/phenomexcan/ld_blocks/gene_corrs/gtex_v8/mashr/by_tissue/gene_corrs-Nerve_Tibial-chr22.pkl'),\n",
       " PosixPath('/opt/data/data/phenomexcan/ld_blocks/gene_corrs/gtex_v8/mashr/by_tissue/gene_corrs-Brain_Amygdala-chr6.pkl')]"
      ]
     },
     "execution_count": 15,
     "metadata": {},
     "output_type": "execute_result"
    }
   ],
   "source": [
    "all_gene_corr_files[:5]"
   ]
  },
  {
   "cell_type": "code",
   "execution_count": 16,
   "id": "6e48c284",
   "metadata": {
    "execution": {
     "iopub.execute_input": "2022-06-06T17:04:21.596034Z",
     "iopub.status.busy": "2022-06-06T17:04:21.595823Z",
     "iopub.status.idle": "2022-06-06T17:04:21.608930Z",
     "shell.execute_reply": "2022-06-06T17:04:21.608444Z"
    },
    "papermill": {
     "duration": 0.024827,
     "end_time": "2022-06-06T17:04:21.610347",
     "exception": false,
     "start_time": "2022-06-06T17:04:21.585520",
     "status": "completed"
    },
    "tags": []
   },
   "outputs": [],
   "source": [
    "assert len(all_gene_corr_files) == 22 * 49"
   ]
  },
  {
   "cell_type": "code",
   "execution_count": 17,
   "id": "593d443c",
   "metadata": {
    "execution": {
     "iopub.execute_input": "2022-06-06T17:04:21.630939Z",
     "iopub.status.busy": "2022-06-06T17:04:21.630723Z",
     "iopub.status.idle": "2022-06-06T17:04:21.644503Z",
     "shell.execute_reply": "2022-06-06T17:04:21.643978Z"
    },
    "papermill": {
     "duration": 0.025491,
     "end_time": "2022-06-06T17:04:21.645913",
     "exception": false,
     "start_time": "2022-06-06T17:04:21.620422",
     "status": "completed"
    },
    "tags": []
   },
   "outputs": [],
   "source": [
    "all_gene_corr_files_df = pd.DataFrame({\"corr_file\": [f for f in all_gene_corr_files]})"
   ]
  },
  {
   "cell_type": "code",
   "execution_count": 18,
   "id": "cff28955",
   "metadata": {
    "execution": {
     "iopub.execute_input": "2022-06-06T17:04:21.666831Z",
     "iopub.status.busy": "2022-06-06T17:04:21.666616Z",
     "iopub.status.idle": "2022-06-06T17:04:21.681150Z",
     "shell.execute_reply": "2022-06-06T17:04:21.680641Z"
    },
    "papermill": {
     "duration": 0.02656,
     "end_time": "2022-06-06T17:04:21.682618",
     "exception": false,
     "start_time": "2022-06-06T17:04:21.656058",
     "status": "completed"
    },
    "tags": []
   },
   "outputs": [],
   "source": [
    "all_gene_corr_files_df = all_gene_corr_files_df.assign(\n",
    "    file_name=all_gene_corr_files_df[\"corr_file\"].apply(lambda x: x.name)\n",
    ")"
   ]
  },
  {
   "cell_type": "code",
   "execution_count": 19,
   "id": "cfe5bb46",
   "metadata": {
    "execution": {
     "iopub.execute_input": "2022-06-06T17:04:21.703305Z",
     "iopub.status.busy": "2022-06-06T17:04:21.703135Z",
     "iopub.status.idle": "2022-06-06T17:04:21.717697Z",
     "shell.execute_reply": "2022-06-06T17:04:21.717192Z"
    },
    "papermill": {
     "duration": 0.026525,
     "end_time": "2022-06-06T17:04:21.719202",
     "exception": false,
     "start_time": "2022-06-06T17:04:21.692677",
     "status": "completed"
    },
    "tags": []
   },
   "outputs": [],
   "source": [
    "all_gene_corr_files_df = all_gene_corr_files_df.assign(\n",
    "    tissue=all_gene_corr_files_df[\"file_name\"].apply(\n",
    "        lambda x: x.split(\"-chr\")[0].split(\"gene_corrs-\")[1]\n",
    "    )\n",
    ")"
   ]
  },
  {
   "cell_type": "code",
   "execution_count": 20,
   "id": "2f17383c",
   "metadata": {
    "execution": {
     "iopub.execute_input": "2022-06-06T17:04:21.740322Z",
     "iopub.status.busy": "2022-06-06T17:04:21.740094Z",
     "iopub.status.idle": "2022-06-06T17:04:21.754940Z",
     "shell.execute_reply": "2022-06-06T17:04:21.754447Z"
    },
    "papermill": {
     "duration": 0.027029,
     "end_time": "2022-06-06T17:04:21.756418",
     "exception": false,
     "start_time": "2022-06-06T17:04:21.729389",
     "status": "completed"
    },
    "tags": []
   },
   "outputs": [],
   "source": [
    "all_gene_corr_files_df = all_gene_corr_files_df.assign(\n",
    "    chromosome=all_gene_corr_files_df[\"file_name\"].apply(\n",
    "        lambda x: int(x.split(\"-chr\")[1].split(\".\")[0])\n",
    "    )\n",
    ")"
   ]
  },
  {
   "cell_type": "code",
   "execution_count": 21,
   "id": "48b83603",
   "metadata": {
    "execution": {
     "iopub.execute_input": "2022-06-06T17:04:21.777573Z",
     "iopub.status.busy": "2022-06-06T17:04:21.777362Z",
     "iopub.status.idle": "2022-06-06T17:04:21.790842Z",
     "shell.execute_reply": "2022-06-06T17:04:21.790323Z"
    },
    "papermill": {
     "duration": 0.025579,
     "end_time": "2022-06-06T17:04:21.792227",
     "exception": false,
     "start_time": "2022-06-06T17:04:21.766648",
     "status": "completed"
    },
    "tags": []
   },
   "outputs": [],
   "source": [
    "assert all_gene_corr_files_df[\"tissue\"].unique().shape[0] == 49"
   ]
  },
  {
   "cell_type": "code",
   "execution_count": 22,
   "id": "0592a66d",
   "metadata": {
    "execution": {
     "iopub.execute_input": "2022-06-06T17:04:21.813247Z",
     "iopub.status.busy": "2022-06-06T17:04:21.813046Z",
     "iopub.status.idle": "2022-06-06T17:04:21.826479Z",
     "shell.execute_reply": "2022-06-06T17:04:21.825981Z"
    },
    "papermill": {
     "duration": 0.025398,
     "end_time": "2022-06-06T17:04:21.827864",
     "exception": false,
     "start_time": "2022-06-06T17:04:21.802466",
     "status": "completed"
    },
    "tags": []
   },
   "outputs": [],
   "source": [
    "assert all_gene_corr_files_df[\"chromosome\"].unique().shape[0] == 22\n",
    "assert set(all_gene_corr_files_df[\"chromosome\"]) == set(range(1, 23))"
   ]
  },
  {
   "cell_type": "code",
   "execution_count": 23,
   "id": "0d6ff5d0",
   "metadata": {
    "execution": {
     "iopub.execute_input": "2022-06-06T17:04:21.848877Z",
     "iopub.status.busy": "2022-06-06T17:04:21.848711Z",
     "iopub.status.idle": "2022-06-06T17:04:21.862393Z",
     "shell.execute_reply": "2022-06-06T17:04:21.861944Z"
    },
    "papermill": {
     "duration": 0.025708,
     "end_time": "2022-06-06T17:04:21.863756",
     "exception": false,
     "start_time": "2022-06-06T17:04:21.838048",
     "status": "completed"
    },
    "tags": []
   },
   "outputs": [
    {
     "data": {
      "text/plain": [
       "(1078, 4)"
      ]
     },
     "execution_count": 23,
     "metadata": {},
     "output_type": "execute_result"
    }
   ],
   "source": [
    "all_gene_corr_files_df.shape"
   ]
  },
  {
   "cell_type": "code",
   "execution_count": 24,
   "id": "92309dc4",
   "metadata": {
    "execution": {
     "iopub.execute_input": "2022-06-06T17:04:21.885108Z",
     "iopub.status.busy": "2022-06-06T17:04:21.884917Z",
     "iopub.status.idle": "2022-06-06T17:04:21.903091Z",
     "shell.execute_reply": "2022-06-06T17:04:21.902456Z"
    },
    "papermill": {
     "duration": 0.030158,
     "end_time": "2022-06-06T17:04:21.904374",
     "exception": false,
     "start_time": "2022-06-06T17:04:21.874216",
     "status": "completed"
    },
    "tags": []
   },
   "outputs": [
    {
     "data": {
      "text/html": [
       "<div>\n",
       "<style scoped>\n",
       "    .dataframe tbody tr th:only-of-type {\n",
       "        vertical-align: middle;\n",
       "    }\n",
       "\n",
       "    .dataframe tbody tr th {\n",
       "        vertical-align: top;\n",
       "    }\n",
       "\n",
       "    .dataframe thead th {\n",
       "        text-align: right;\n",
       "    }\n",
       "</style>\n",
       "<table border=\"1\" class=\"dataframe\">\n",
       "  <thead>\n",
       "    <tr style=\"text-align: right;\">\n",
       "      <th></th>\n",
       "      <th>corr_file</th>\n",
       "      <th>file_name</th>\n",
       "      <th>tissue</th>\n",
       "      <th>chromosome</th>\n",
       "    </tr>\n",
       "  </thead>\n",
       "  <tbody>\n",
       "    <tr>\n",
       "      <th>0</th>\n",
       "      <td>/opt/data/data/phenomexcan/ld_blocks/gene_corr...</td>\n",
       "      <td>gene_corrs-Prostate-chr19.pkl</td>\n",
       "      <td>Prostate</td>\n",
       "      <td>19</td>\n",
       "    </tr>\n",
       "    <tr>\n",
       "      <th>1</th>\n",
       "      <td>/opt/data/data/phenomexcan/ld_blocks/gene_corr...</td>\n",
       "      <td>gene_corrs-Small_Intestine_Terminal_Ileum-chr2...</td>\n",
       "      <td>Small_Intestine_Terminal_Ileum</td>\n",
       "      <td>20</td>\n",
       "    </tr>\n",
       "    <tr>\n",
       "      <th>2</th>\n",
       "      <td>/opt/data/data/phenomexcan/ld_blocks/gene_corr...</td>\n",
       "      <td>gene_corrs-Skin_Not_Sun_Exposed_Suprapubic-chr...</td>\n",
       "      <td>Skin_Not_Sun_Exposed_Suprapubic</td>\n",
       "      <td>11</td>\n",
       "    </tr>\n",
       "    <tr>\n",
       "      <th>3</th>\n",
       "      <td>/opt/data/data/phenomexcan/ld_blocks/gene_corr...</td>\n",
       "      <td>gene_corrs-Nerve_Tibial-chr22.pkl</td>\n",
       "      <td>Nerve_Tibial</td>\n",
       "      <td>22</td>\n",
       "    </tr>\n",
       "    <tr>\n",
       "      <th>4</th>\n",
       "      <td>/opt/data/data/phenomexcan/ld_blocks/gene_corr...</td>\n",
       "      <td>gene_corrs-Brain_Amygdala-chr6.pkl</td>\n",
       "      <td>Brain_Amygdala</td>\n",
       "      <td>6</td>\n",
       "    </tr>\n",
       "  </tbody>\n",
       "</table>\n",
       "</div>"
      ],
      "text/plain": [
       "                                           corr_file  \\\n",
       "0  /opt/data/data/phenomexcan/ld_blocks/gene_corr...   \n",
       "1  /opt/data/data/phenomexcan/ld_blocks/gene_corr...   \n",
       "2  /opt/data/data/phenomexcan/ld_blocks/gene_corr...   \n",
       "3  /opt/data/data/phenomexcan/ld_blocks/gene_corr...   \n",
       "4  /opt/data/data/phenomexcan/ld_blocks/gene_corr...   \n",
       "\n",
       "                                           file_name  \\\n",
       "0                      gene_corrs-Prostate-chr19.pkl   \n",
       "1  gene_corrs-Small_Intestine_Terminal_Ileum-chr2...   \n",
       "2  gene_corrs-Skin_Not_Sun_Exposed_Suprapubic-chr...   \n",
       "3                  gene_corrs-Nerve_Tibial-chr22.pkl   \n",
       "4                 gene_corrs-Brain_Amygdala-chr6.pkl   \n",
       "\n",
       "                            tissue  chromosome  \n",
       "0                         Prostate          19  \n",
       "1   Small_Intestine_Terminal_Ileum          20  \n",
       "2  Skin_Not_Sun_Exposed_Suprapubic          11  \n",
       "3                     Nerve_Tibial          22  \n",
       "4                   Brain_Amygdala           6  "
      ]
     },
     "execution_count": 24,
     "metadata": {},
     "output_type": "execute_result"
    }
   ],
   "source": [
    "all_gene_corr_files_df.head()"
   ]
  },
  {
   "cell_type": "markdown",
   "id": "46ae0b3e",
   "metadata": {
    "papermill": {
     "duration": 0.010032,
     "end_time": "2022-06-06T17:04:21.924799",
     "exception": false,
     "start_time": "2022-06-06T17:04:21.914767",
     "status": "completed"
    },
    "tags": []
   },
   "source": [
    "## MultiPLIER Z"
   ]
  },
  {
   "cell_type": "code",
   "execution_count": 25,
   "id": "d38d9749",
   "metadata": {
    "execution": {
     "iopub.execute_input": "2022-06-06T17:04:21.945980Z",
     "iopub.status.busy": "2022-06-06T17:04:21.945504Z",
     "iopub.status.idle": "2022-06-06T17:04:21.981779Z",
     "shell.execute_reply": "2022-06-06T17:04:21.981227Z"
    },
    "papermill": {
     "duration": 0.048496,
     "end_time": "2022-06-06T17:04:21.983414",
     "exception": false,
     "start_time": "2022-06-06T17:04:21.934918",
     "status": "completed"
    },
    "tags": []
   },
   "outputs": [],
   "source": [
    "multiplier_z_genes = pd.read_pickle(\n",
    "    conf.MULTIPLIER[\"MODEL_Z_MATRIX_FILE\"]\n",
    ").index.tolist()"
   ]
  },
  {
   "cell_type": "code",
   "execution_count": 26,
   "id": "67e93797",
   "metadata": {
    "execution": {
     "iopub.execute_input": "2022-06-06T17:04:22.007073Z",
     "iopub.status.busy": "2022-06-06T17:04:22.006893Z",
     "iopub.status.idle": "2022-06-06T17:04:22.021436Z",
     "shell.execute_reply": "2022-06-06T17:04:22.020798Z"
    },
    "papermill": {
     "duration": 0.02787,
     "end_time": "2022-06-06T17:04:22.022802",
     "exception": false,
     "start_time": "2022-06-06T17:04:21.994932",
     "status": "completed"
    },
    "tags": []
   },
   "outputs": [
    {
     "data": {
      "text/plain": [
       "6750"
      ]
     },
     "execution_count": 26,
     "metadata": {},
     "output_type": "execute_result"
    }
   ],
   "source": [
    "len(multiplier_z_genes)"
   ]
  },
  {
   "cell_type": "code",
   "execution_count": 27,
   "id": "e1ba1ead",
   "metadata": {
    "execution": {
     "iopub.execute_input": "2022-06-06T17:04:22.045128Z",
     "iopub.status.busy": "2022-06-06T17:04:22.044957Z",
     "iopub.status.idle": "2022-06-06T17:04:22.058766Z",
     "shell.execute_reply": "2022-06-06T17:04:22.058248Z"
    },
    "papermill": {
     "duration": 0.026524,
     "end_time": "2022-06-06T17:04:22.060123",
     "exception": false,
     "start_time": "2022-06-06T17:04:22.033599",
     "status": "completed"
    },
    "tags": []
   },
   "outputs": [
    {
     "data": {
      "text/plain": [
       "['GAS6',\n",
       " 'MMP14',\n",
       " 'DSP',\n",
       " 'MARCKSL1',\n",
       " 'SPARC',\n",
       " 'CTSD',\n",
       " 'EPAS1',\n",
       " 'PALLD',\n",
       " 'PHC2',\n",
       " 'LGALS3BP']"
      ]
     },
     "execution_count": 27,
     "metadata": {},
     "output_type": "execute_result"
    }
   ],
   "source": [
    "multiplier_z_genes[:10]"
   ]
  },
  {
   "cell_type": "markdown",
   "id": "18873129",
   "metadata": {
    "papermill": {
     "duration": 0.010614,
     "end_time": "2022-06-06T17:04:22.081672",
     "exception": false,
     "start_time": "2022-06-06T17:04:22.071058",
     "status": "completed"
    },
    "tags": []
   },
   "source": [
    "## Get gene objects"
   ]
  },
  {
   "cell_type": "code",
   "execution_count": 28,
   "id": "3660a0b8",
   "metadata": {
    "execution": {
     "iopub.execute_input": "2022-06-06T17:04:22.103482Z",
     "iopub.status.busy": "2022-06-06T17:04:22.103252Z",
     "iopub.status.idle": "2022-06-06T17:04:22.123092Z",
     "shell.execute_reply": "2022-06-06T17:04:22.122477Z"
    },
    "papermill": {
     "duration": 0.032335,
     "end_time": "2022-06-06T17:04:22.124587",
     "exception": false,
     "start_time": "2022-06-06T17:04:22.092252",
     "status": "completed"
    },
    "tags": []
   },
   "outputs": [],
   "source": [
    "multiplier_gene_obj = {\n",
    "    gene_name: Gene(name=gene_name)\n",
    "    for gene_name in multiplier_z_genes\n",
    "    if gene_name in Gene.GENE_NAME_TO_ID_MAP\n",
    "}"
   ]
  },
  {
   "cell_type": "code",
   "execution_count": 29,
   "id": "43bacda1",
   "metadata": {
    "execution": {
     "iopub.execute_input": "2022-06-06T17:04:22.146963Z",
     "iopub.status.busy": "2022-06-06T17:04:22.146750Z",
     "iopub.status.idle": "2022-06-06T17:04:22.160857Z",
     "shell.execute_reply": "2022-06-06T17:04:22.160340Z"
    },
    "papermill": {
     "duration": 0.026575,
     "end_time": "2022-06-06T17:04:22.162195",
     "exception": false,
     "start_time": "2022-06-06T17:04:22.135620",
     "status": "completed"
    },
    "tags": []
   },
   "outputs": [
    {
     "data": {
      "text/plain": [
       "6454"
      ]
     },
     "execution_count": 29,
     "metadata": {},
     "output_type": "execute_result"
    }
   ],
   "source": [
    "len(multiplier_gene_obj)"
   ]
  },
  {
   "cell_type": "code",
   "execution_count": 30,
   "id": "a60c1bb6",
   "metadata": {
    "execution": {
     "iopub.execute_input": "2022-06-06T17:04:22.185066Z",
     "iopub.status.busy": "2022-06-06T17:04:22.184897Z",
     "iopub.status.idle": "2022-06-06T17:04:22.198577Z",
     "shell.execute_reply": "2022-06-06T17:04:22.198072Z"
    },
    "papermill": {
     "duration": 0.026584,
     "end_time": "2022-06-06T17:04:22.199851",
     "exception": false,
     "start_time": "2022-06-06T17:04:22.173267",
     "status": "completed"
    },
    "tags": []
   },
   "outputs": [
    {
     "data": {
      "text/plain": [
       "'ENSG00000183087'"
      ]
     },
     "execution_count": 30,
     "metadata": {},
     "output_type": "execute_result"
    }
   ],
   "source": [
    "multiplier_gene_obj[\"GAS6\"].ensembl_id"
   ]
  },
  {
   "cell_type": "code",
   "execution_count": 31,
   "id": "ba55cbcb",
   "metadata": {
    "execution": {
     "iopub.execute_input": "2022-06-06T17:04:22.222451Z",
     "iopub.status.busy": "2022-06-06T17:04:22.222225Z",
     "iopub.status.idle": "2022-06-06T17:04:23.025822Z",
     "shell.execute_reply": "2022-06-06T17:04:23.025245Z"
    },
    "papermill": {
     "duration": 0.816486,
     "end_time": "2022-06-06T17:04:23.027524",
     "exception": false,
     "start_time": "2022-06-06T17:04:22.211038",
     "status": "completed"
    },
    "tags": []
   },
   "outputs": [],
   "source": [
    "_gene_obj = list(multiplier_gene_obj.values())\n",
    "\n",
    "genes_info = pd.DataFrame(\n",
    "    {\n",
    "        \"name\": [g.name for g in _gene_obj],\n",
    "        \"id\": [g.ensembl_id for g in _gene_obj],\n",
    "        \"chr\": [g.chromosome for g in _gene_obj],\n",
    "    }\n",
    ").dropna()"
   ]
  },
  {
   "cell_type": "code",
   "execution_count": 32,
   "id": "9510fe3a",
   "metadata": {
    "execution": {
     "iopub.execute_input": "2022-06-06T17:04:23.050071Z",
     "iopub.status.busy": "2022-06-06T17:04:23.049869Z",
     "iopub.status.idle": "2022-06-06T17:04:23.064985Z",
     "shell.execute_reply": "2022-06-06T17:04:23.064365Z"
    },
    "papermill": {
     "duration": 0.027954,
     "end_time": "2022-06-06T17:04:23.066288",
     "exception": false,
     "start_time": "2022-06-06T17:04:23.038334",
     "status": "completed"
    },
    "tags": []
   },
   "outputs": [
    {
     "data": {
      "text/plain": [
       "(6452, 3)"
      ]
     },
     "execution_count": 32,
     "metadata": {},
     "output_type": "execute_result"
    }
   ],
   "source": [
    "genes_info.shape"
   ]
  },
  {
   "cell_type": "code",
   "execution_count": 33,
   "id": "b175ee0c",
   "metadata": {
    "execution": {
     "iopub.execute_input": "2022-06-06T17:04:23.089178Z",
     "iopub.status.busy": "2022-06-06T17:04:23.088952Z",
     "iopub.status.idle": "2022-06-06T17:04:23.106632Z",
     "shell.execute_reply": "2022-06-06T17:04:23.106053Z"
    },
    "papermill": {
     "duration": 0.030773,
     "end_time": "2022-06-06T17:04:23.108065",
     "exception": false,
     "start_time": "2022-06-06T17:04:23.077292",
     "status": "completed"
    },
    "tags": []
   },
   "outputs": [
    {
     "data": {
      "text/html": [
       "<div>\n",
       "<style scoped>\n",
       "    .dataframe tbody tr th:only-of-type {\n",
       "        vertical-align: middle;\n",
       "    }\n",
       "\n",
       "    .dataframe tbody tr th {\n",
       "        vertical-align: top;\n",
       "    }\n",
       "\n",
       "    .dataframe thead th {\n",
       "        text-align: right;\n",
       "    }\n",
       "</style>\n",
       "<table border=\"1\" class=\"dataframe\">\n",
       "  <thead>\n",
       "    <tr style=\"text-align: right;\">\n",
       "      <th></th>\n",
       "      <th>name</th>\n",
       "      <th>id</th>\n",
       "      <th>chr</th>\n",
       "    </tr>\n",
       "  </thead>\n",
       "  <tbody>\n",
       "    <tr>\n",
       "      <th>0</th>\n",
       "      <td>GAS6</td>\n",
       "      <td>ENSG00000183087</td>\n",
       "      <td>13</td>\n",
       "    </tr>\n",
       "    <tr>\n",
       "      <th>1</th>\n",
       "      <td>MMP14</td>\n",
       "      <td>ENSG00000157227</td>\n",
       "      <td>14</td>\n",
       "    </tr>\n",
       "    <tr>\n",
       "      <th>2</th>\n",
       "      <td>DSP</td>\n",
       "      <td>ENSG00000096696</td>\n",
       "      <td>6</td>\n",
       "    </tr>\n",
       "    <tr>\n",
       "      <th>3</th>\n",
       "      <td>MARCKSL1</td>\n",
       "      <td>ENSG00000175130</td>\n",
       "      <td>1</td>\n",
       "    </tr>\n",
       "    <tr>\n",
       "      <th>4</th>\n",
       "      <td>SPARC</td>\n",
       "      <td>ENSG00000113140</td>\n",
       "      <td>5</td>\n",
       "    </tr>\n",
       "  </tbody>\n",
       "</table>\n",
       "</div>"
      ],
      "text/plain": [
       "       name               id chr\n",
       "0      GAS6  ENSG00000183087  13\n",
       "1     MMP14  ENSG00000157227  14\n",
       "2       DSP  ENSG00000096696   6\n",
       "3  MARCKSL1  ENSG00000175130   1\n",
       "4     SPARC  ENSG00000113140   5"
      ]
     },
     "execution_count": 33,
     "metadata": {},
     "output_type": "execute_result"
    }
   ],
   "source": [
    "genes_info.head()"
   ]
  },
  {
   "cell_type": "markdown",
   "id": "6a29d252",
   "metadata": {
    "papermill": {
     "duration": 0.011176,
     "end_time": "2022-06-06T17:04:23.130787",
     "exception": false,
     "start_time": "2022-06-06T17:04:23.119611",
     "status": "completed"
    },
    "tags": []
   },
   "source": [
    "## Get tissues names"
   ]
  },
  {
   "cell_type": "code",
   "execution_count": 34,
   "id": "2bc52419",
   "metadata": {
    "execution": {
     "iopub.execute_input": "2022-06-06T17:04:23.153427Z",
     "iopub.status.busy": "2022-06-06T17:04:23.153209Z",
     "iopub.status.idle": "2022-06-06T17:04:23.166778Z",
     "shell.execute_reply": "2022-06-06T17:04:23.166284Z"
    },
    "papermill": {
     "duration": 0.026361,
     "end_time": "2022-06-06T17:04:23.168182",
     "exception": false,
     "start_time": "2022-06-06T17:04:23.141821",
     "status": "completed"
    },
    "tags": []
   },
   "outputs": [],
   "source": [
    "tissues = conf.PHENOMEXCAN[\"PREDICTION_MODELS\"][f\"{EQTL_MODEL}_TISSUES\"].split(\" \")"
   ]
  },
  {
   "cell_type": "code",
   "execution_count": 35,
   "id": "64b293a1",
   "metadata": {
    "execution": {
     "iopub.execute_input": "2022-06-06T17:04:23.191546Z",
     "iopub.status.busy": "2022-06-06T17:04:23.191331Z",
     "iopub.status.idle": "2022-06-06T17:04:23.205891Z",
     "shell.execute_reply": "2022-06-06T17:04:23.205178Z"
    },
    "papermill": {
     "duration": 0.027659,
     "end_time": "2022-06-06T17:04:23.207260",
     "exception": false,
     "start_time": "2022-06-06T17:04:23.179601",
     "status": "completed"
    },
    "tags": []
   },
   "outputs": [
    {
     "data": {
      "text/plain": [
       "['Skin_Not_Sun_Exposed_Suprapubic',\n",
       " 'Cells_EBV-transformed_lymphocytes',\n",
       " 'Brain_Frontal_Cortex_BA9',\n",
       " 'Kidney_Cortex',\n",
       " 'Brain_Substantia_nigra']"
      ]
     },
     "execution_count": 35,
     "metadata": {},
     "output_type": "execute_result"
    }
   ],
   "source": [
    "tissues[:5]"
   ]
  },
  {
   "cell_type": "code",
   "execution_count": 36,
   "id": "48a7202a",
   "metadata": {
    "execution": {
     "iopub.execute_input": "2022-06-06T17:04:23.230578Z",
     "iopub.status.busy": "2022-06-06T17:04:23.230027Z",
     "iopub.status.idle": "2022-06-06T17:04:23.242991Z",
     "shell.execute_reply": "2022-06-06T17:04:23.242518Z"
    },
    "papermill": {
     "duration": 0.025926,
     "end_time": "2022-06-06T17:04:23.244355",
     "exception": false,
     "start_time": "2022-06-06T17:04:23.218429",
     "status": "completed"
    },
    "tags": []
   },
   "outputs": [],
   "source": [
    "assert len(tissues) == 49"
   ]
  },
  {
   "cell_type": "markdown",
   "id": "f4d4f177",
   "metadata": {
    "papermill": {
     "duration": 0.010983,
     "end_time": "2022-06-06T17:04:23.266648",
     "exception": false,
     "start_time": "2022-06-06T17:04:23.255665",
     "status": "completed"
    },
    "tags": []
   },
   "source": [
    "# Average correlations per chromosome"
   ]
  },
  {
   "cell_type": "code",
   "execution_count": 37,
   "id": "e497c5fa",
   "metadata": {
    "execution": {
     "iopub.execute_input": "2022-06-06T17:04:23.289665Z",
     "iopub.status.busy": "2022-06-06T17:04:23.289446Z",
     "iopub.status.idle": "2022-06-06T17:04:31.846147Z",
     "shell.execute_reply": "2022-06-06T17:04:31.845564Z"
    },
    "papermill": {
     "duration": 8.569828,
     "end_time": "2022-06-06T17:04:31.847458",
     "exception": false,
     "start_time": "2022-06-06T17:04:23.277630",
     "status": "completed"
    },
    "tags": []
   },
   "outputs": [
    {
     "name": "stdout",
     "output_type": "stream",
     "text": [
      "Chromosome: 1\n",
      "Number of corrs files: (49, 4)\n",
      "Number of MultiPLIER genes: (700, 3)\n",
      "Reading corrs per tissue\n"
     ]
    },
    {
     "data": {
      "text/plain": [
       "count    244650.000000\n",
       "mean          0.000252\n",
       "std           0.084379\n",
       "min          -1.000000\n",
       "25%          -0.068571\n",
       "50%           0.000000\n",
       "75%           0.068654\n",
       "max           1.000000\n",
       "dtype: float64"
      ]
     },
     "metadata": {},
     "output_type": "display_data"
    },
    {
     "name": "stdout",
     "output_type": "stream",
     "text": [
      "\n",
      "\n",
      "Chromosome: 2\n",
      "Number of corrs files: (49, 4)\n",
      "Number of MultiPLIER genes: (445, 3)\n",
      "Reading corrs per tissue\n"
     ]
    },
    {
     "data": {
      "text/plain": [
       "count    98790.000000\n",
       "mean         0.000414\n",
       "std          0.086621\n",
       "min         -1.000000\n",
       "25%         -0.069871\n",
       "50%          0.000000\n",
       "75%          0.070289\n",
       "max          1.000000\n",
       "dtype: float64"
      ]
     },
     "metadata": {},
     "output_type": "display_data"
    },
    {
     "name": "stdout",
     "output_type": "stream",
     "text": [
      "\n",
      "\n",
      "Chromosome: 3\n",
      "Number of corrs files: (49, 4)\n",
      "Number of MultiPLIER genes: (393, 3)\n",
      "Reading corrs per tissue\n"
     ]
    },
    {
     "data": {
      "text/plain": [
       "count    77028.000000\n",
       "mean         0.000872\n",
       "std          0.096020\n",
       "min         -1.000000\n",
       "25%         -0.070694\n",
       "50%          0.010492\n",
       "75%          0.071181\n",
       "max          1.000000\n",
       "dtype: float64"
      ]
     },
     "metadata": {},
     "output_type": "display_data"
    },
    {
     "name": "stdout",
     "output_type": "stream",
     "text": [
      "\n",
      "\n",
      "Chromosome: 4\n",
      "Number of corrs files: (49, 4)\n",
      "Number of MultiPLIER genes: (244, 3)\n",
      "Reading corrs per tissue\n"
     ]
    },
    {
     "data": {
      "text/plain": [
       "count    29646.000000\n",
       "mean         0.000191\n",
       "std          0.087477\n",
       "min         -1.000000\n",
       "25%         -0.069918\n",
       "50%          0.000000\n",
       "75%          0.069911\n",
       "max          1.000000\n",
       "dtype: float64"
      ]
     },
     "metadata": {},
     "output_type": "display_data"
    },
    {
     "name": "stdout",
     "output_type": "stream",
     "text": [
      "\n",
      "\n",
      "Chromosome: 5\n",
      "Number of corrs files: (49, 4)\n",
      "Number of MultiPLIER genes: (306, 3)\n",
      "Reading corrs per tissue\n"
     ]
    },
    {
     "data": {
      "text/plain": [
       "count    46665.000000\n",
       "mean        -0.000069\n",
       "std          0.092074\n",
       "min         -1.000000\n",
       "25%         -0.070518\n",
       "50%          0.000000\n",
       "75%          0.070312\n",
       "max          1.000000\n",
       "dtype: float64"
      ]
     },
     "metadata": {},
     "output_type": "display_data"
    },
    {
     "name": "stdout",
     "output_type": "stream",
     "text": [
      "\n",
      "\n",
      "Chromosome: 6\n",
      "Number of corrs files: (49, 4)\n",
      "Number of MultiPLIER genes: (339, 3)\n",
      "Reading corrs per tissue\n"
     ]
    },
    {
     "data": {
      "text/plain": [
       "count    57291.000000\n",
       "mean        -0.000021\n",
       "std          0.106326\n",
       "min         -1.000000\n",
       "25%         -0.072344\n",
       "50%          0.000000\n",
       "75%          0.072184\n",
       "max          1.000000\n",
       "dtype: float64"
      ]
     },
     "metadata": {},
     "output_type": "display_data"
    },
    {
     "name": "stdout",
     "output_type": "stream",
     "text": [
      "\n",
      "\n",
      "Chromosome: 7\n",
      "Number of corrs files: (49, 4)\n",
      "Number of MultiPLIER genes: (281, 3)\n",
      "Reading corrs per tissue\n"
     ]
    },
    {
     "data": {
      "text/plain": [
       "count    39340.000000\n",
       "mean         0.001811\n",
       "std          0.098027\n",
       "min         -1.000000\n",
       "25%         -0.070690\n",
       "50%          0.019394\n",
       "75%          0.071717\n",
       "max          1.000000\n",
       "dtype: float64"
      ]
     },
     "metadata": {},
     "output_type": "display_data"
    },
    {
     "name": "stdout",
     "output_type": "stream",
     "text": [
      "\n",
      "\n",
      "Chromosome: 8\n",
      "Number of corrs files: (49, 4)\n",
      "Number of MultiPLIER genes: (222, 3)\n",
      "Reading corrs per tissue\n"
     ]
    },
    {
     "data": {
      "text/plain": [
       "count    24531.000000\n",
       "mean         0.000106\n",
       "std          0.093808\n",
       "min         -1.000000\n",
       "25%         -0.071128\n",
       "50%          0.012256\n",
       "75%          0.070825\n",
       "max          1.000000\n",
       "dtype: float64"
      ]
     },
     "metadata": {},
     "output_type": "display_data"
    },
    {
     "name": "stdout",
     "output_type": "stream",
     "text": [
      "\n",
      "\n",
      "Chromosome: 9\n",
      "Number of corrs files: (49, 4)\n",
      "Number of MultiPLIER genes: (245, 3)\n",
      "Reading corrs per tissue\n"
     ]
    },
    {
     "data": {
      "text/plain": [
       "count    29890.000000\n",
       "mean         0.000067\n",
       "std          0.096784\n",
       "min         -1.000000\n",
       "25%         -0.071795\n",
       "50%         -0.012786\n",
       "75%          0.071360\n",
       "max          1.000000\n",
       "dtype: float64"
      ]
     },
     "metadata": {},
     "output_type": "display_data"
    },
    {
     "name": "stdout",
     "output_type": "stream",
     "text": [
      "\n",
      "\n",
      "Chromosome: 10\n",
      "Number of corrs files: (49, 4)\n",
      "Number of MultiPLIER genes: (245, 3)\n",
      "Reading corrs per tissue\n"
     ]
    },
    {
     "data": {
      "text/plain": [
       "count    29890.000000\n",
       "mean         0.001134\n",
       "std          0.096141\n",
       "min         -1.000000\n",
       "25%         -0.072734\n",
       "50%          0.020601\n",
       "75%          0.073581\n",
       "max          1.000000\n",
       "dtype: float64"
      ]
     },
     "metadata": {},
     "output_type": "display_data"
    },
    {
     "name": "stdout",
     "output_type": "stream",
     "text": [
      "\n",
      "\n",
      "Chromosome: 11\n",
      "Number of corrs files: (49, 4)\n",
      "Number of MultiPLIER genes: (387, 3)\n",
      "Reading corrs per tissue\n"
     ]
    },
    {
     "data": {
      "text/plain": [
       "count    74691.000000\n",
       "mean         0.000716\n",
       "std          0.097918\n",
       "min         -1.000000\n",
       "25%         -0.069625\n",
       "50%          0.000000\n",
       "75%          0.069847\n",
       "max          1.000000\n",
       "dtype: float64"
      ]
     },
     "metadata": {},
     "output_type": "display_data"
    },
    {
     "name": "stdout",
     "output_type": "stream",
     "text": [
      "\n",
      "\n",
      "Chromosome: 12\n",
      "Number of corrs files: (49, 4)\n",
      "Number of MultiPLIER genes: (389, 3)\n",
      "Reading corrs per tissue\n"
     ]
    },
    {
     "data": {
      "text/plain": [
       "count    75466.000000\n",
       "mean        -0.000163\n",
       "std          0.095543\n",
       "min         -1.000000\n",
       "25%         -0.069971\n",
       "50%         -0.010295\n",
       "75%          0.069769\n",
       "max          1.000000\n",
       "dtype: float64"
      ]
     },
     "metadata": {},
     "output_type": "display_data"
    },
    {
     "name": "stdout",
     "output_type": "stream",
     "text": [
      "\n",
      "\n",
      "Chromosome: 13\n",
      "Number of corrs files: (49, 4)\n",
      "Number of MultiPLIER genes: (118, 3)\n",
      "Reading corrs per tissue\n"
     ]
    },
    {
     "data": {
      "text/plain": [
       "count    6903.000000\n",
       "mean        0.001860\n",
       "std         0.101672\n",
       "min        -1.000000\n",
       "25%        -0.070944\n",
       "50%         0.013242\n",
       "75%         0.071081\n",
       "max         1.000000\n",
       "dtype: float64"
      ]
     },
     "metadata": {},
     "output_type": "display_data"
    },
    {
     "name": "stdout",
     "output_type": "stream",
     "text": [
      "\n",
      "\n",
      "Chromosome: 14\n",
      "Number of corrs files: (49, 4)\n",
      "Number of MultiPLIER genes: (211, 3)\n",
      "Reading corrs per tissue\n"
     ]
    },
    {
     "data": {
      "text/plain": [
       "count    22155.000000\n",
       "mean         0.000554\n",
       "std          0.102319\n",
       "min         -1.000000\n",
       "25%         -0.071484\n",
       "50%          0.000000\n",
       "75%          0.072109\n",
       "max          1.000000\n",
       "dtype: float64"
      ]
     },
     "metadata": {},
     "output_type": "display_data"
    },
    {
     "name": "stdout",
     "output_type": "stream",
     "text": [
      "\n",
      "\n",
      "Chromosome: 15\n",
      "Number of corrs files: (49, 4)\n",
      "Number of MultiPLIER genes: (187, 3)\n",
      "Reading corrs per tissue\n"
     ]
    },
    {
     "data": {
      "text/plain": [
       "count    17391.000000\n",
       "mean         0.003035\n",
       "std          0.108692\n",
       "min         -1.000000\n",
       "25%         -0.071063\n",
       "50%          0.011453\n",
       "75%          0.072023\n",
       "max          1.000000\n",
       "dtype: float64"
      ]
     },
     "metadata": {},
     "output_type": "display_data"
    },
    {
     "name": "stdout",
     "output_type": "stream",
     "text": [
      "\n",
      "\n",
      "Chromosome: 16\n",
      "Number of corrs files: (49, 4)\n",
      "Number of MultiPLIER genes: (274, 3)\n",
      "Reading corrs per tissue\n"
     ]
    },
    {
     "data": {
      "text/plain": [
       "count    37401.000000\n",
       "mean        -0.000311\n",
       "std          0.118417\n",
       "min         -1.000000\n",
       "25%         -0.070045\n",
       "50%          0.000000\n",
       "75%          0.070044\n",
       "max          1.000003\n",
       "dtype: float64"
      ]
     },
     "metadata": {},
     "output_type": "display_data"
    },
    {
     "name": "stdout",
     "output_type": "stream",
     "text": [
      "\n",
      "\n",
      "Chromosome: 17\n",
      "Number of corrs files: (49, 4)\n",
      "Number of MultiPLIER genes: (411, 3)\n",
      "Reading corrs per tissue\n"
     ]
    },
    {
     "data": {
      "text/plain": [
       "count    84255.000000\n",
       "mean        -0.000099\n",
       "std          0.095443\n",
       "min         -1.000000\n",
       "25%         -0.069476\n",
       "50%          0.000000\n",
       "75%          0.069407\n",
       "max          1.000000\n",
       "dtype: float64"
      ]
     },
     "metadata": {},
     "output_type": "display_data"
    },
    {
     "name": "stdout",
     "output_type": "stream",
     "text": [
      "\n",
      "\n",
      "Chromosome: 18\n",
      "Number of corrs files: (49, 4)\n",
      "Number of MultiPLIER genes: (96, 3)\n",
      "Reading corrs per tissue\n"
     ]
    },
    {
     "data": {
      "text/plain": [
       "count    4560.000000\n",
       "mean        0.001541\n",
       "std         0.096251\n",
       "min        -0.754294\n",
       "25%        -0.075722\n",
       "50%         0.001773\n",
       "75%         0.075922\n",
       "max         1.000000\n",
       "dtype: float64"
      ]
     },
     "metadata": {},
     "output_type": "display_data"
    },
    {
     "name": "stdout",
     "output_type": "stream",
     "text": [
      "\n",
      "\n",
      "Chromosome: 19\n",
      "Number of corrs files: (49, 4)\n",
      "Number of MultiPLIER genes: (540, 3)\n",
      "Reading corrs per tissue\n"
     ]
    },
    {
     "data": {
      "text/plain": [
       "count    145530.000000\n",
       "mean          0.000460\n",
       "std           0.091536\n",
       "min          -1.000000\n",
       "25%          -0.070115\n",
       "50%           0.000000\n",
       "75%           0.070405\n",
       "max           1.000000\n",
       "dtype: float64"
      ]
     },
     "metadata": {},
     "output_type": "display_data"
    },
    {
     "name": "stdout",
     "output_type": "stream",
     "text": [
      "\n",
      "\n",
      "Chromosome: 20\n",
      "Number of corrs files: (49, 4)\n",
      "Number of MultiPLIER genes: (187, 3)\n",
      "Reading corrs per tissue\n"
     ]
    },
    {
     "data": {
      "text/plain": [
       "count    17391.000000\n",
       "mean         0.000679\n",
       "std          0.109615\n",
       "min         -1.000000\n",
       "25%         -0.072883\n",
       "50%         -0.011962\n",
       "75%          0.072430\n",
       "max          1.000003\n",
       "dtype: float64"
      ]
     },
     "metadata": {},
     "output_type": "display_data"
    },
    {
     "name": "stdout",
     "output_type": "stream",
     "text": [
      "\n",
      "\n",
      "Chromosome: 21\n",
      "Number of corrs files: (49, 4)\n",
      "Number of MultiPLIER genes: (62, 3)\n",
      "Reading corrs per tissue\n"
     ]
    },
    {
     "data": {
      "text/plain": [
       "count    1891.000000\n",
       "mean        0.004073\n",
       "std         0.114659\n",
       "min        -0.906591\n",
       "25%        -0.075585\n",
       "50%         0.040136\n",
       "75%         0.078893\n",
       "max         1.000000\n",
       "dtype: float64"
      ]
     },
     "metadata": {},
     "output_type": "display_data"
    },
    {
     "name": "stdout",
     "output_type": "stream",
     "text": [
      "\n",
      "\n",
      "Chromosome: 22\n",
      "Number of corrs files: (49, 4)\n",
      "Number of MultiPLIER genes: (170, 3)\n",
      "Reading corrs per tissue\n"
     ]
    },
    {
     "data": {
      "text/plain": [
       "count    14365.000000\n",
       "mean         0.001708\n",
       "std          0.117709\n",
       "min         -1.000000\n",
       "25%         -0.072208\n",
       "50%          0.012863\n",
       "75%          0.072986\n",
       "max          1.000000\n",
       "dtype: float64"
      ]
     },
     "metadata": {},
     "output_type": "display_data"
    },
    {
     "name": "stdout",
     "output_type": "stream",
     "text": [
      "\n",
      "\n"
     ]
    }
   ],
   "source": [
    "corrs_per_chr = {}\n",
    "\n",
    "for chr_num in range(1, 23):\n",
    "    print(f\"Chromosome: {chr_num}\", flush=True)\n",
    "\n",
    "    chr_files = all_gene_corr_files_df[all_gene_corr_files_df[\"chromosome\"] == chr_num]\n",
    "    print(f\"Number of corrs files: {chr_files.shape}\")\n",
    "\n",
    "    multiplier_genes_in_chr = genes_info[genes_info[\"chr\"] == str(chr_num)]\n",
    "    print(f\"Number of MultiPLIER genes: {multiplier_genes_in_chr.shape}\")\n",
    "\n",
    "    # create final dataframe with corrs for this chr\n",
    "    chr_df = pd.DataFrame(\n",
    "        data=0.0,\n",
    "        index=multiplier_genes_in_chr[\"id\"],\n",
    "        columns=multiplier_genes_in_chr[\"id\"],\n",
    "    )\n",
    "\n",
    "    print(\"Reading corrs per tissue\", flush=True)\n",
    "    for idx, tissue_corrs in chr_files.iterrows():\n",
    "        tissue_corrs_df = pd.read_pickle(tissue_corrs[\"corr_file\"])\n",
    "\n",
    "        nan_values = tissue_corrs_df.isna()\n",
    "        if nan_values.any().any():\n",
    "            print(\n",
    "                f\"  WARNING ({tissue_corrs['tissue']}): has NaN values ({nan_values.sum().sum()})\"\n",
    "            )\n",
    "            tissue_corrs_df = tissue_corrs_df.fillna(0.0)\n",
    "\n",
    "        # align\n",
    "        tissue_corrs_df = tissue_corrs_df.loc[chr_df.index, chr_df.columns]\n",
    "\n",
    "        # chr_df = chr_df + tissue_corrs_df\n",
    "        chr_df = chr_df.where(\n",
    "            chr_df.abs() > tissue_corrs_df.abs(), tissue_corrs_df\n",
    "        ).fillna(chr_df)\n",
    "\n",
    "    # chr_df = chr_df / float(chr_files.shape[0])\n",
    "    chr_df_flat = pd.Series(squareform(chr_df.values, checks=False))\n",
    "    display(chr_df_flat.describe())\n",
    "\n",
    "    corrs_per_chr[chr_num] = chr_df\n",
    "\n",
    "    print(\"\\n\")"
   ]
  },
  {
   "cell_type": "markdown",
   "id": "b4c29c41",
   "metadata": {
    "papermill": {
     "duration": 0.014008,
     "end_time": "2022-06-06T17:04:31.876044",
     "exception": false,
     "start_time": "2022-06-06T17:04:31.862036",
     "status": "completed"
    },
    "tags": []
   },
   "source": [
    "# Create full gene correlation matrix"
   ]
  },
  {
   "cell_type": "markdown",
   "id": "54d599c0",
   "metadata": {
    "papermill": {
     "duration": 0.014372,
     "end_time": "2022-06-06T17:04:31.904890",
     "exception": false,
     "start_time": "2022-06-06T17:04:31.890518",
     "status": "completed"
    },
    "tags": []
   },
   "source": [
    "This matrix has all genes in MultiPLIER Z"
   ]
  },
  {
   "cell_type": "code",
   "execution_count": 38,
   "id": "85e42d66",
   "metadata": {
    "execution": {
     "iopub.execute_input": "2022-06-06T17:04:31.934325Z",
     "iopub.status.busy": "2022-06-06T17:04:31.933830Z",
     "iopub.status.idle": "2022-06-06T17:04:31.985143Z",
     "shell.execute_reply": "2022-06-06T17:04:31.984607Z"
    },
    "papermill": {
     "duration": 0.067715,
     "end_time": "2022-06-06T17:04:31.986789",
     "exception": false,
     "start_time": "2022-06-06T17:04:31.919074",
     "status": "completed"
    },
    "tags": []
   },
   "outputs": [],
   "source": [
    "gene_corrs_df = pd.DataFrame(data=0.0, index=genes_info[\"id\"], columns=genes_info[\"id\"])"
   ]
  },
  {
   "cell_type": "code",
   "execution_count": 39,
   "id": "c231355e",
   "metadata": {
    "execution": {
     "iopub.execute_input": "2022-06-06T17:04:32.016388Z",
     "iopub.status.busy": "2022-06-06T17:04:32.016159Z",
     "iopub.status.idle": "2022-06-06T17:04:32.030968Z",
     "shell.execute_reply": "2022-06-06T17:04:32.030391Z"
    },
    "papermill": {
     "duration": 0.03129,
     "end_time": "2022-06-06T17:04:32.032287",
     "exception": false,
     "start_time": "2022-06-06T17:04:32.000997",
     "status": "completed"
    },
    "tags": []
   },
   "outputs": [
    {
     "data": {
      "text/plain": [
       "(6452, 6452)"
      ]
     },
     "execution_count": 39,
     "metadata": {},
     "output_type": "execute_result"
    }
   ],
   "source": [
    "gene_corrs_df.shape"
   ]
  },
  {
   "cell_type": "code",
   "execution_count": 40,
   "id": "04f0fe9e",
   "metadata": {
    "execution": {
     "iopub.execute_input": "2022-06-06T17:04:32.063555Z",
     "iopub.status.busy": "2022-06-06T17:04:32.063383Z",
     "iopub.status.idle": "2022-06-06T17:04:32.093955Z",
     "shell.execute_reply": "2022-06-06T17:04:32.093020Z"
    },
    "papermill": {
     "duration": 0.047681,
     "end_time": "2022-06-06T17:04:32.095278",
     "exception": false,
     "start_time": "2022-06-06T17:04:32.047597",
     "status": "completed"
    },
    "tags": []
   },
   "outputs": [
    {
     "data": {
      "text/html": [
       "<div>\n",
       "<style scoped>\n",
       "    .dataframe tbody tr th:only-of-type {\n",
       "        vertical-align: middle;\n",
       "    }\n",
       "\n",
       "    .dataframe tbody tr th {\n",
       "        vertical-align: top;\n",
       "    }\n",
       "\n",
       "    .dataframe thead th {\n",
       "        text-align: right;\n",
       "    }\n",
       "</style>\n",
       "<table border=\"1\" class=\"dataframe\">\n",
       "  <thead>\n",
       "    <tr style=\"text-align: right;\">\n",
       "      <th>id</th>\n",
       "      <th>ENSG00000183087</th>\n",
       "      <th>ENSG00000157227</th>\n",
       "      <th>ENSG00000096696</th>\n",
       "      <th>ENSG00000175130</th>\n",
       "      <th>ENSG00000113140</th>\n",
       "      <th>ENSG00000117984</th>\n",
       "      <th>ENSG00000116016</th>\n",
       "      <th>ENSG00000129116</th>\n",
       "      <th>ENSG00000134686</th>\n",
       "      <th>ENSG00000108679</th>\n",
       "      <th>...</th>\n",
       "      <th>ENSG00000111716</th>\n",
       "      <th>ENSG00000166796</th>\n",
       "      <th>ENSG00000114331</th>\n",
       "      <th>ENSG00000131584</th>\n",
       "      <th>ENSG00000165410</th>\n",
       "      <th>ENSG00000172757</th>\n",
       "      <th>ENSG00000147862</th>\n",
       "      <th>ENSG00000008323</th>\n",
       "      <th>ENSG00000167083</th>\n",
       "      <th>ENSG00000149257</th>\n",
       "    </tr>\n",
       "    <tr>\n",
       "      <th>id</th>\n",
       "      <th></th>\n",
       "      <th></th>\n",
       "      <th></th>\n",
       "      <th></th>\n",
       "      <th></th>\n",
       "      <th></th>\n",
       "      <th></th>\n",
       "      <th></th>\n",
       "      <th></th>\n",
       "      <th></th>\n",
       "      <th></th>\n",
       "      <th></th>\n",
       "      <th></th>\n",
       "      <th></th>\n",
       "      <th></th>\n",
       "      <th></th>\n",
       "      <th></th>\n",
       "      <th></th>\n",
       "      <th></th>\n",
       "      <th></th>\n",
       "      <th></th>\n",
       "    </tr>\n",
       "  </thead>\n",
       "  <tbody>\n",
       "    <tr>\n",
       "      <th>ENSG00000183087</th>\n",
       "      <td>0.0</td>\n",
       "      <td>0.0</td>\n",
       "      <td>0.0</td>\n",
       "      <td>0.0</td>\n",
       "      <td>0.0</td>\n",
       "      <td>0.0</td>\n",
       "      <td>0.0</td>\n",
       "      <td>0.0</td>\n",
       "      <td>0.0</td>\n",
       "      <td>0.0</td>\n",
       "      <td>...</td>\n",
       "      <td>0.0</td>\n",
       "      <td>0.0</td>\n",
       "      <td>0.0</td>\n",
       "      <td>0.0</td>\n",
       "      <td>0.0</td>\n",
       "      <td>0.0</td>\n",
       "      <td>0.0</td>\n",
       "      <td>0.0</td>\n",
       "      <td>0.0</td>\n",
       "      <td>0.0</td>\n",
       "    </tr>\n",
       "    <tr>\n",
       "      <th>ENSG00000157227</th>\n",
       "      <td>0.0</td>\n",
       "      <td>0.0</td>\n",
       "      <td>0.0</td>\n",
       "      <td>0.0</td>\n",
       "      <td>0.0</td>\n",
       "      <td>0.0</td>\n",
       "      <td>0.0</td>\n",
       "      <td>0.0</td>\n",
       "      <td>0.0</td>\n",
       "      <td>0.0</td>\n",
       "      <td>...</td>\n",
       "      <td>0.0</td>\n",
       "      <td>0.0</td>\n",
       "      <td>0.0</td>\n",
       "      <td>0.0</td>\n",
       "      <td>0.0</td>\n",
       "      <td>0.0</td>\n",
       "      <td>0.0</td>\n",
       "      <td>0.0</td>\n",
       "      <td>0.0</td>\n",
       "      <td>0.0</td>\n",
       "    </tr>\n",
       "    <tr>\n",
       "      <th>ENSG00000096696</th>\n",
       "      <td>0.0</td>\n",
       "      <td>0.0</td>\n",
       "      <td>0.0</td>\n",
       "      <td>0.0</td>\n",
       "      <td>0.0</td>\n",
       "      <td>0.0</td>\n",
       "      <td>0.0</td>\n",
       "      <td>0.0</td>\n",
       "      <td>0.0</td>\n",
       "      <td>0.0</td>\n",
       "      <td>...</td>\n",
       "      <td>0.0</td>\n",
       "      <td>0.0</td>\n",
       "      <td>0.0</td>\n",
       "      <td>0.0</td>\n",
       "      <td>0.0</td>\n",
       "      <td>0.0</td>\n",
       "      <td>0.0</td>\n",
       "      <td>0.0</td>\n",
       "      <td>0.0</td>\n",
       "      <td>0.0</td>\n",
       "    </tr>\n",
       "    <tr>\n",
       "      <th>ENSG00000175130</th>\n",
       "      <td>0.0</td>\n",
       "      <td>0.0</td>\n",
       "      <td>0.0</td>\n",
       "      <td>0.0</td>\n",
       "      <td>0.0</td>\n",
       "      <td>0.0</td>\n",
       "      <td>0.0</td>\n",
       "      <td>0.0</td>\n",
       "      <td>0.0</td>\n",
       "      <td>0.0</td>\n",
       "      <td>...</td>\n",
       "      <td>0.0</td>\n",
       "      <td>0.0</td>\n",
       "      <td>0.0</td>\n",
       "      <td>0.0</td>\n",
       "      <td>0.0</td>\n",
       "      <td>0.0</td>\n",
       "      <td>0.0</td>\n",
       "      <td>0.0</td>\n",
       "      <td>0.0</td>\n",
       "      <td>0.0</td>\n",
       "    </tr>\n",
       "    <tr>\n",
       "      <th>ENSG00000113140</th>\n",
       "      <td>0.0</td>\n",
       "      <td>0.0</td>\n",
       "      <td>0.0</td>\n",
       "      <td>0.0</td>\n",
       "      <td>0.0</td>\n",
       "      <td>0.0</td>\n",
       "      <td>0.0</td>\n",
       "      <td>0.0</td>\n",
       "      <td>0.0</td>\n",
       "      <td>0.0</td>\n",
       "      <td>...</td>\n",
       "      <td>0.0</td>\n",
       "      <td>0.0</td>\n",
       "      <td>0.0</td>\n",
       "      <td>0.0</td>\n",
       "      <td>0.0</td>\n",
       "      <td>0.0</td>\n",
       "      <td>0.0</td>\n",
       "      <td>0.0</td>\n",
       "      <td>0.0</td>\n",
       "      <td>0.0</td>\n",
       "    </tr>\n",
       "  </tbody>\n",
       "</table>\n",
       "<p>5 rows × 6452 columns</p>\n",
       "</div>"
      ],
      "text/plain": [
       "id               ENSG00000183087  ENSG00000157227  ENSG00000096696  \\\n",
       "id                                                                   \n",
       "ENSG00000183087              0.0              0.0              0.0   \n",
       "ENSG00000157227              0.0              0.0              0.0   \n",
       "ENSG00000096696              0.0              0.0              0.0   \n",
       "ENSG00000175130              0.0              0.0              0.0   \n",
       "ENSG00000113140              0.0              0.0              0.0   \n",
       "\n",
       "id               ENSG00000175130  ENSG00000113140  ENSG00000117984  \\\n",
       "id                                                                   \n",
       "ENSG00000183087              0.0              0.0              0.0   \n",
       "ENSG00000157227              0.0              0.0              0.0   \n",
       "ENSG00000096696              0.0              0.0              0.0   \n",
       "ENSG00000175130              0.0              0.0              0.0   \n",
       "ENSG00000113140              0.0              0.0              0.0   \n",
       "\n",
       "id               ENSG00000116016  ENSG00000129116  ENSG00000134686  \\\n",
       "id                                                                   \n",
       "ENSG00000183087              0.0              0.0              0.0   \n",
       "ENSG00000157227              0.0              0.0              0.0   \n",
       "ENSG00000096696              0.0              0.0              0.0   \n",
       "ENSG00000175130              0.0              0.0              0.0   \n",
       "ENSG00000113140              0.0              0.0              0.0   \n",
       "\n",
       "id               ENSG00000108679  ...  ENSG00000111716  ENSG00000166796  \\\n",
       "id                                ...                                     \n",
       "ENSG00000183087              0.0  ...              0.0              0.0   \n",
       "ENSG00000157227              0.0  ...              0.0              0.0   \n",
       "ENSG00000096696              0.0  ...              0.0              0.0   \n",
       "ENSG00000175130              0.0  ...              0.0              0.0   \n",
       "ENSG00000113140              0.0  ...              0.0              0.0   \n",
       "\n",
       "id               ENSG00000114331  ENSG00000131584  ENSG00000165410  \\\n",
       "id                                                                   \n",
       "ENSG00000183087              0.0              0.0              0.0   \n",
       "ENSG00000157227              0.0              0.0              0.0   \n",
       "ENSG00000096696              0.0              0.0              0.0   \n",
       "ENSG00000175130              0.0              0.0              0.0   \n",
       "ENSG00000113140              0.0              0.0              0.0   \n",
       "\n",
       "id               ENSG00000172757  ENSG00000147862  ENSG00000008323  \\\n",
       "id                                                                   \n",
       "ENSG00000183087              0.0              0.0              0.0   \n",
       "ENSG00000157227              0.0              0.0              0.0   \n",
       "ENSG00000096696              0.0              0.0              0.0   \n",
       "ENSG00000175130              0.0              0.0              0.0   \n",
       "ENSG00000113140              0.0              0.0              0.0   \n",
       "\n",
       "id               ENSG00000167083  ENSG00000149257  \n",
       "id                                                 \n",
       "ENSG00000183087              0.0              0.0  \n",
       "ENSG00000157227              0.0              0.0  \n",
       "ENSG00000096696              0.0              0.0  \n",
       "ENSG00000175130              0.0              0.0  \n",
       "ENSG00000113140              0.0              0.0  \n",
       "\n",
       "[5 rows x 6452 columns]"
      ]
     },
     "execution_count": 40,
     "metadata": {},
     "output_type": "execute_result"
    }
   ],
   "source": [
    "gene_corrs_df.head()"
   ]
  },
  {
   "cell_type": "code",
   "execution_count": 41,
   "id": "23be89f1",
   "metadata": {
    "execution": {
     "iopub.execute_input": "2022-06-06T17:04:32.127262Z",
     "iopub.status.busy": "2022-06-06T17:04:32.127033Z",
     "iopub.status.idle": "2022-06-06T17:04:40.366872Z",
     "shell.execute_reply": "2022-06-06T17:04:40.366214Z"
    },
    "papermill": {
     "duration": 8.25761,
     "end_time": "2022-06-06T17:04:40.368574",
     "exception": false,
     "start_time": "2022-06-06T17:04:32.110964",
     "status": "completed"
    },
    "tags": []
   },
   "outputs": [],
   "source": [
    "for chr_num, chr_data in corrs_per_chr.items():\n",
    "    chr_data = chr_data.reindex(\n",
    "        index=gene_corrs_df.index, columns=gene_corrs_df.columns\n",
    "    )\n",
    "    gene_corrs_df = gene_corrs_df + chr_data.fillna(0.0)"
   ]
  },
  {
   "cell_type": "code",
   "execution_count": 42,
   "id": "08883f22",
   "metadata": {
    "execution": {
     "iopub.execute_input": "2022-06-06T17:04:40.402901Z",
     "iopub.status.busy": "2022-06-06T17:04:40.402675Z",
     "iopub.status.idle": "2022-06-06T17:04:40.454259Z",
     "shell.execute_reply": "2022-06-06T17:04:40.453633Z"
    },
    "papermill": {
     "duration": 0.069357,
     "end_time": "2022-06-06T17:04:40.455883",
     "exception": false,
     "start_time": "2022-06-06T17:04:40.386526",
     "status": "completed"
    },
    "tags": []
   },
   "outputs": [],
   "source": [
    "gene_corrs_df = gene_corrs_df.astype(np.float32)"
   ]
  },
  {
   "cell_type": "code",
   "execution_count": 43,
   "id": "5d684e7c",
   "metadata": {
    "execution": {
     "iopub.execute_input": "2022-06-06T17:04:40.489277Z",
     "iopub.status.busy": "2022-06-06T17:04:40.489060Z",
     "iopub.status.idle": "2022-06-06T17:04:40.518704Z",
     "shell.execute_reply": "2022-06-06T17:04:40.517917Z"
    },
    "papermill": {
     "duration": 0.047787,
     "end_time": "2022-06-06T17:04:40.520158",
     "exception": false,
     "start_time": "2022-06-06T17:04:40.472371",
     "status": "completed"
    },
    "tags": []
   },
   "outputs": [
    {
     "data": {
      "text/html": [
       "<div>\n",
       "<style scoped>\n",
       "    .dataframe tbody tr th:only-of-type {\n",
       "        vertical-align: middle;\n",
       "    }\n",
       "\n",
       "    .dataframe tbody tr th {\n",
       "        vertical-align: top;\n",
       "    }\n",
       "\n",
       "    .dataframe thead th {\n",
       "        text-align: right;\n",
       "    }\n",
       "</style>\n",
       "<table border=\"1\" class=\"dataframe\">\n",
       "  <thead>\n",
       "    <tr style=\"text-align: right;\">\n",
       "      <th>id</th>\n",
       "      <th>ENSG00000183087</th>\n",
       "      <th>ENSG00000157227</th>\n",
       "      <th>ENSG00000096696</th>\n",
       "      <th>ENSG00000175130</th>\n",
       "      <th>ENSG00000113140</th>\n",
       "      <th>ENSG00000117984</th>\n",
       "      <th>ENSG00000116016</th>\n",
       "      <th>ENSG00000129116</th>\n",
       "      <th>ENSG00000134686</th>\n",
       "      <th>ENSG00000108679</th>\n",
       "      <th>...</th>\n",
       "      <th>ENSG00000111716</th>\n",
       "      <th>ENSG00000166796</th>\n",
       "      <th>ENSG00000114331</th>\n",
       "      <th>ENSG00000131584</th>\n",
       "      <th>ENSG00000165410</th>\n",
       "      <th>ENSG00000172757</th>\n",
       "      <th>ENSG00000147862</th>\n",
       "      <th>ENSG00000008323</th>\n",
       "      <th>ENSG00000167083</th>\n",
       "      <th>ENSG00000149257</th>\n",
       "    </tr>\n",
       "    <tr>\n",
       "      <th>id</th>\n",
       "      <th></th>\n",
       "      <th></th>\n",
       "      <th></th>\n",
       "      <th></th>\n",
       "      <th></th>\n",
       "      <th></th>\n",
       "      <th></th>\n",
       "      <th></th>\n",
       "      <th></th>\n",
       "      <th></th>\n",
       "      <th></th>\n",
       "      <th></th>\n",
       "      <th></th>\n",
       "      <th></th>\n",
       "      <th></th>\n",
       "      <th></th>\n",
       "      <th></th>\n",
       "      <th></th>\n",
       "      <th></th>\n",
       "      <th></th>\n",
       "      <th></th>\n",
       "    </tr>\n",
       "  </thead>\n",
       "  <tbody>\n",
       "    <tr>\n",
       "      <th>ENSG00000183087</th>\n",
       "      <td>1.0</td>\n",
       "      <td>0.0</td>\n",
       "      <td>0.0</td>\n",
       "      <td>0.0</td>\n",
       "      <td>0.0</td>\n",
       "      <td>0.0</td>\n",
       "      <td>0.0</td>\n",
       "      <td>0.0</td>\n",
       "      <td>0.000000</td>\n",
       "      <td>0.0</td>\n",
       "      <td>...</td>\n",
       "      <td>0.0</td>\n",
       "      <td>0.0</td>\n",
       "      <td>0.0</td>\n",
       "      <td>0.000000</td>\n",
       "      <td>0.000000</td>\n",
       "      <td>0.0</td>\n",
       "      <td>0.0</td>\n",
       "      <td>0.0</td>\n",
       "      <td>0.0</td>\n",
       "      <td>0.0</td>\n",
       "    </tr>\n",
       "    <tr>\n",
       "      <th>ENSG00000157227</th>\n",
       "      <td>0.0</td>\n",
       "      <td>1.0</td>\n",
       "      <td>0.0</td>\n",
       "      <td>0.0</td>\n",
       "      <td>0.0</td>\n",
       "      <td>0.0</td>\n",
       "      <td>0.0</td>\n",
       "      <td>0.0</td>\n",
       "      <td>0.000000</td>\n",
       "      <td>0.0</td>\n",
       "      <td>...</td>\n",
       "      <td>0.0</td>\n",
       "      <td>0.0</td>\n",
       "      <td>0.0</td>\n",
       "      <td>0.000000</td>\n",
       "      <td>-0.055612</td>\n",
       "      <td>0.0</td>\n",
       "      <td>0.0</td>\n",
       "      <td>0.0</td>\n",
       "      <td>0.0</td>\n",
       "      <td>0.0</td>\n",
       "    </tr>\n",
       "    <tr>\n",
       "      <th>ENSG00000096696</th>\n",
       "      <td>0.0</td>\n",
       "      <td>0.0</td>\n",
       "      <td>1.0</td>\n",
       "      <td>0.0</td>\n",
       "      <td>0.0</td>\n",
       "      <td>0.0</td>\n",
       "      <td>0.0</td>\n",
       "      <td>0.0</td>\n",
       "      <td>0.000000</td>\n",
       "      <td>0.0</td>\n",
       "      <td>...</td>\n",
       "      <td>0.0</td>\n",
       "      <td>0.0</td>\n",
       "      <td>0.0</td>\n",
       "      <td>0.000000</td>\n",
       "      <td>0.000000</td>\n",
       "      <td>0.0</td>\n",
       "      <td>0.0</td>\n",
       "      <td>0.0</td>\n",
       "      <td>0.0</td>\n",
       "      <td>0.0</td>\n",
       "    </tr>\n",
       "    <tr>\n",
       "      <th>ENSG00000175130</th>\n",
       "      <td>0.0</td>\n",
       "      <td>0.0</td>\n",
       "      <td>0.0</td>\n",
       "      <td>1.0</td>\n",
       "      <td>0.0</td>\n",
       "      <td>0.0</td>\n",
       "      <td>0.0</td>\n",
       "      <td>0.0</td>\n",
       "      <td>-0.045233</td>\n",
       "      <td>0.0</td>\n",
       "      <td>...</td>\n",
       "      <td>0.0</td>\n",
       "      <td>0.0</td>\n",
       "      <td>0.0</td>\n",
       "      <td>0.065927</td>\n",
       "      <td>0.000000</td>\n",
       "      <td>0.0</td>\n",
       "      <td>0.0</td>\n",
       "      <td>0.0</td>\n",
       "      <td>0.0</td>\n",
       "      <td>0.0</td>\n",
       "    </tr>\n",
       "    <tr>\n",
       "      <th>ENSG00000113140</th>\n",
       "      <td>0.0</td>\n",
       "      <td>0.0</td>\n",
       "      <td>0.0</td>\n",
       "      <td>0.0</td>\n",
       "      <td>1.0</td>\n",
       "      <td>0.0</td>\n",
       "      <td>0.0</td>\n",
       "      <td>0.0</td>\n",
       "      <td>0.000000</td>\n",
       "      <td>0.0</td>\n",
       "      <td>...</td>\n",
       "      <td>0.0</td>\n",
       "      <td>0.0</td>\n",
       "      <td>0.0</td>\n",
       "      <td>0.000000</td>\n",
       "      <td>0.000000</td>\n",
       "      <td>0.0</td>\n",
       "      <td>0.0</td>\n",
       "      <td>0.0</td>\n",
       "      <td>0.0</td>\n",
       "      <td>0.0</td>\n",
       "    </tr>\n",
       "  </tbody>\n",
       "</table>\n",
       "<p>5 rows × 6452 columns</p>\n",
       "</div>"
      ],
      "text/plain": [
       "id               ENSG00000183087  ENSG00000157227  ENSG00000096696  \\\n",
       "id                                                                   \n",
       "ENSG00000183087              1.0              0.0              0.0   \n",
       "ENSG00000157227              0.0              1.0              0.0   \n",
       "ENSG00000096696              0.0              0.0              1.0   \n",
       "ENSG00000175130              0.0              0.0              0.0   \n",
       "ENSG00000113140              0.0              0.0              0.0   \n",
       "\n",
       "id               ENSG00000175130  ENSG00000113140  ENSG00000117984  \\\n",
       "id                                                                   \n",
       "ENSG00000183087              0.0              0.0              0.0   \n",
       "ENSG00000157227              0.0              0.0              0.0   \n",
       "ENSG00000096696              0.0              0.0              0.0   \n",
       "ENSG00000175130              1.0              0.0              0.0   \n",
       "ENSG00000113140              0.0              1.0              0.0   \n",
       "\n",
       "id               ENSG00000116016  ENSG00000129116  ENSG00000134686  \\\n",
       "id                                                                   \n",
       "ENSG00000183087              0.0              0.0         0.000000   \n",
       "ENSG00000157227              0.0              0.0         0.000000   \n",
       "ENSG00000096696              0.0              0.0         0.000000   \n",
       "ENSG00000175130              0.0              0.0        -0.045233   \n",
       "ENSG00000113140              0.0              0.0         0.000000   \n",
       "\n",
       "id               ENSG00000108679  ...  ENSG00000111716  ENSG00000166796  \\\n",
       "id                                ...                                     \n",
       "ENSG00000183087              0.0  ...              0.0              0.0   \n",
       "ENSG00000157227              0.0  ...              0.0              0.0   \n",
       "ENSG00000096696              0.0  ...              0.0              0.0   \n",
       "ENSG00000175130              0.0  ...              0.0              0.0   \n",
       "ENSG00000113140              0.0  ...              0.0              0.0   \n",
       "\n",
       "id               ENSG00000114331  ENSG00000131584  ENSG00000165410  \\\n",
       "id                                                                   \n",
       "ENSG00000183087              0.0         0.000000         0.000000   \n",
       "ENSG00000157227              0.0         0.000000        -0.055612   \n",
       "ENSG00000096696              0.0         0.000000         0.000000   \n",
       "ENSG00000175130              0.0         0.065927         0.000000   \n",
       "ENSG00000113140              0.0         0.000000         0.000000   \n",
       "\n",
       "id               ENSG00000172757  ENSG00000147862  ENSG00000008323  \\\n",
       "id                                                                   \n",
       "ENSG00000183087              0.0              0.0              0.0   \n",
       "ENSG00000157227              0.0              0.0              0.0   \n",
       "ENSG00000096696              0.0              0.0              0.0   \n",
       "ENSG00000175130              0.0              0.0              0.0   \n",
       "ENSG00000113140              0.0              0.0              0.0   \n",
       "\n",
       "id               ENSG00000167083  ENSG00000149257  \n",
       "id                                                 \n",
       "ENSG00000183087              0.0              0.0  \n",
       "ENSG00000157227              0.0              0.0  \n",
       "ENSG00000096696              0.0              0.0  \n",
       "ENSG00000175130              0.0              0.0  \n",
       "ENSG00000113140              0.0              0.0  \n",
       "\n",
       "[5 rows x 6452 columns]"
      ]
     },
     "execution_count": 43,
     "metadata": {},
     "output_type": "execute_result"
    }
   ],
   "source": [
    "gene_corrs_df.head()"
   ]
  },
  {
   "cell_type": "code",
   "execution_count": 44,
   "id": "05106117",
   "metadata": {
    "execution": {
     "iopub.execute_input": "2022-06-06T17:04:40.555725Z",
     "iopub.status.busy": "2022-06-06T17:04:40.555549Z",
     "iopub.status.idle": "2022-06-06T17:04:40.570829Z",
     "shell.execute_reply": "2022-06-06T17:04:40.568877Z"
    },
    "papermill": {
     "duration": 0.038229,
     "end_time": "2022-06-06T17:04:40.576272",
     "exception": false,
     "start_time": "2022-06-06T17:04:40.538043",
     "status": "completed"
    },
    "tags": []
   },
   "outputs": [],
   "source": [
    "assert np.all(gene_corrs_df.values.diagonal() == 1.0)"
   ]
  },
  {
   "cell_type": "markdown",
   "id": "183120b0",
   "metadata": {
    "papermill": {
     "duration": 0.016446,
     "end_time": "2022-06-06T17:04:40.634629",
     "exception": false,
     "start_time": "2022-06-06T17:04:40.618183",
     "status": "completed"
    },
    "tags": []
   },
   "source": [
    "## Stats"
   ]
  },
  {
   "cell_type": "code",
   "execution_count": 45,
   "id": "0e1712c1",
   "metadata": {
    "execution": {
     "iopub.execute_input": "2022-06-06T17:04:40.665502Z",
     "iopub.status.busy": "2022-06-06T17:04:40.665284Z",
     "iopub.status.idle": "2022-06-06T17:04:40.809172Z",
     "shell.execute_reply": "2022-06-06T17:04:40.808528Z"
    },
    "papermill": {
     "duration": 0.161184,
     "end_time": "2022-06-06T17:04:40.810781",
     "exception": false,
     "start_time": "2022-06-06T17:04:40.649597",
     "status": "completed"
    },
    "tags": []
   },
   "outputs": [],
   "source": [
    "_gene_corrs_flat = squareform(gene_corrs_df.values, checks=False)"
   ]
  },
  {
   "cell_type": "code",
   "execution_count": 46,
   "id": "67e7f149",
   "metadata": {
    "execution": {
     "iopub.execute_input": "2022-06-06T17:04:40.843952Z",
     "iopub.status.busy": "2022-06-06T17:04:40.843741Z",
     "iopub.status.idle": "2022-06-06T17:04:41.318259Z",
     "shell.execute_reply": "2022-06-06T17:04:41.317773Z"
    },
    "papermill": {
     "duration": 0.492412,
     "end_time": "2022-06-06T17:04:41.319581",
     "exception": false,
     "start_time": "2022-06-06T17:04:40.827169",
     "status": "completed"
    },
    "tags": []
   },
   "outputs": [
    {
     "data": {
      "text/plain": [
       "count    2.081093e+07\n",
       "mean     2.391569e-05\n",
       "std      2.247723e-02\n",
       "min     -1.000000e+00\n",
       "25%      0.000000e+00\n",
       "50%      0.000000e+00\n",
       "75%      0.000000e+00\n",
       "max      1.000003e+00\n",
       "dtype: float64"
      ]
     },
     "execution_count": 46,
     "metadata": {},
     "output_type": "execute_result"
    }
   ],
   "source": [
    "pd.Series(_gene_corrs_flat).describe()"
   ]
  },
  {
   "cell_type": "markdown",
   "id": "ca0ec949",
   "metadata": {
    "papermill": {
     "duration": 0.01502,
     "end_time": "2022-06-06T17:04:41.349940",
     "exception": false,
     "start_time": "2022-06-06T17:04:41.334920",
     "status": "completed"
    },
    "tags": []
   },
   "source": [
    "# Plot"
   ]
  },
  {
   "cell_type": "code",
   "execution_count": 47,
   "id": "3f915f50",
   "metadata": {
    "execution": {
     "iopub.execute_input": "2022-06-06T17:04:41.381545Z",
     "iopub.status.busy": "2022-06-06T17:04:41.381326Z",
     "iopub.status.idle": "2022-06-06T17:04:41.596665Z",
     "shell.execute_reply": "2022-06-06T17:04:41.596106Z"
    },
    "papermill": {
     "duration": 0.23294,
     "end_time": "2022-06-06T17:04:41.598274",
     "exception": false,
     "start_time": "2022-06-06T17:04:41.365334",
     "status": "completed"
    },
    "tags": []
   },
   "outputs": [],
   "source": [
    "import matplotlib.pyplot as plt\n",
    "from matplotlib.colors import ListedColormap"
   ]
  },
  {
   "cell_type": "code",
   "execution_count": 48,
   "id": "ba72ef73",
   "metadata": {
    "execution": {
     "iopub.execute_input": "2022-06-06T17:04:41.630285Z",
     "iopub.status.busy": "2022-06-06T17:04:41.630093Z",
     "iopub.status.idle": "2022-06-06T17:04:41.647838Z",
     "shell.execute_reply": "2022-06-06T17:04:41.647275Z"
    },
    "papermill": {
     "duration": 0.035563,
     "end_time": "2022-06-06T17:04:41.649351",
     "exception": false,
     "start_time": "2022-06-06T17:04:41.613788",
     "status": "completed"
    },
    "tags": []
   },
   "outputs": [],
   "source": [
    "genes_order = genes_info.sort_values(\"chr\")[\"id\"].tolist()"
   ]
  },
  {
   "cell_type": "code",
   "execution_count": 49,
   "id": "eaf12e9e",
   "metadata": {
    "execution": {
     "iopub.execute_input": "2022-06-06T17:04:41.682139Z",
     "iopub.status.busy": "2022-06-06T17:04:41.681921Z",
     "iopub.status.idle": "2022-06-06T17:04:41.696364Z",
     "shell.execute_reply": "2022-06-06T17:04:41.695823Z"
    },
    "papermill": {
     "duration": 0.032473,
     "end_time": "2022-06-06T17:04:41.697870",
     "exception": false,
     "start_time": "2022-06-06T17:04:41.665397",
     "status": "completed"
    },
    "tags": []
   },
   "outputs": [],
   "source": [
    "cmap = ListedColormap([\"w\", \"r\"])"
   ]
  },
  {
   "cell_type": "code",
   "execution_count": 50,
   "id": "ffdeef1f",
   "metadata": {
    "execution": {
     "iopub.execute_input": "2022-06-06T17:04:41.729318Z",
     "iopub.status.busy": "2022-06-06T17:04:41.729085Z",
     "iopub.status.idle": "2022-06-06T17:04:42.695892Z",
     "shell.execute_reply": "2022-06-06T17:04:42.695246Z"
    },
    "papermill": {
     "duration": 0.984349,
     "end_time": "2022-06-06T17:04:42.697475",
     "exception": false,
     "start_time": "2022-06-06T17:04:41.713126",
     "status": "completed"
    },
    "tags": []
   },
   "outputs": [
    {
     "data": {
      "text/plain": [
       "[]"
      ]
     },
     "execution_count": 50,
     "metadata": {},
     "output_type": "execute_result"
    },
    {
     "data": {
      "image/png": "[encoded data removed]",
      "text/plain": [
       "<Figure size 720x720 with 1 Axes>"
      ]
     },
     "metadata": {},
     "output_type": "display_data"
    }
   ],
   "source": [
    "fig, ax = plt.subplots(figsize=(10, 10))\n",
    "ax.matshow(\n",
    "    gene_corrs_df.loc[genes_order, genes_order].values, vmin=-0.05, vmax=0.05, cmap=cmap\n",
    ")\n",
    "ax.set_xlabel(\"Genes\")\n",
    "ax.set_ylabel(\"Genes\")\n",
    "ax.set_xticks([])\n",
    "ax.set_yticks([])"
   ]
  },
  {
   "cell_type": "markdown",
   "id": "c13be5c3",
   "metadata": {
    "papermill": {
     "duration": 0.016065,
     "end_time": "2022-06-06T17:04:42.729725",
     "exception": false,
     "start_time": "2022-06-06T17:04:42.713660",
     "status": "completed"
    },
    "tags": []
   },
   "source": [
    "# Testing"
   ]
  },
  {
   "cell_type": "code",
   "execution_count": 51,
   "id": "50e94dc6",
   "metadata": {
    "execution": {
     "iopub.execute_input": "2022-06-06T17:04:42.762000Z",
     "iopub.status.busy": "2022-06-06T17:04:42.761768Z",
     "iopub.status.idle": "2022-06-06T17:04:42.778194Z",
     "shell.execute_reply": "2022-06-06T17:04:42.777577Z"
    },
    "papermill": {
     "duration": 0.034237,
     "end_time": "2022-06-06T17:04:42.779628",
     "exception": false,
     "start_time": "2022-06-06T17:04:42.745391",
     "status": "completed"
    },
    "tags": []
   },
   "outputs": [
    {
     "data": {
      "text/plain": [
       "0.9689303"
      ]
     },
     "execution_count": 51,
     "metadata": {},
     "output_type": "execute_result"
    }
   ],
   "source": [
    "# COL4A1 and COL4A2\n",
    "gene1 = \"ENSG00000187498\"\n",
    "gene2 = \"ENSG00000134871\"\n",
    "\n",
    "gene_corrs_df.loc[gene1, gene2]"
   ]
  },
  {
   "cell_type": "code",
   "execution_count": 52,
   "id": "3f7a77e8",
   "metadata": {
    "execution": {
     "iopub.execute_input": "2022-06-06T17:04:42.813908Z",
     "iopub.status.busy": "2022-06-06T17:04:42.812924Z",
     "iopub.status.idle": "2022-06-06T17:04:42.828698Z",
     "shell.execute_reply": "2022-06-06T17:04:42.828101Z"
    },
    "papermill": {
     "duration": 0.034274,
     "end_time": "2022-06-06T17:04:42.830251",
     "exception": false,
     "start_time": "2022-06-06T17:04:42.795977",
     "status": "completed"
    },
    "tags": []
   },
   "outputs": [],
   "source": [
    "_genes_files = all_gene_corr_files_df[all_gene_corr_files_df[\"chromosome\"] == 13][\n",
    "    \"corr_file\"\n",
    "].tolist()\n",
    "assert len(_genes_files) == 49"
   ]
  },
  {
   "cell_type": "code",
   "execution_count": 53,
   "id": "d78aa703",
   "metadata": {
    "execution": {
     "iopub.execute_input": "2022-06-06T17:04:42.864334Z",
     "iopub.status.busy": "2022-06-06T17:04:42.864116Z",
     "iopub.status.idle": "2022-06-06T17:04:42.908738Z",
     "shell.execute_reply": "2022-06-06T17:04:42.908130Z"
    },
    "papermill": {
     "duration": 0.063339,
     "end_time": "2022-06-06T17:04:42.910344",
     "exception": false,
     "start_time": "2022-06-06T17:04:42.847005",
     "status": "completed"
    },
    "tags": []
   },
   "outputs": [],
   "source": [
    "_gene_values = []\n",
    "for f in _genes_files:\n",
    "    gene1_gene2_corr = pd.read_pickle(f).loc[gene1, gene2]\n",
    "    _gene_values.append(gene1_gene2_corr)"
   ]
  },
  {
   "cell_type": "code",
   "execution_count": 54,
   "id": "e0109cc5",
   "metadata": {
    "execution": {
     "iopub.execute_input": "2022-06-06T17:04:42.943600Z",
     "iopub.status.busy": "2022-06-06T17:04:42.942899Z",
     "iopub.status.idle": "2022-06-06T17:04:42.957405Z",
     "shell.execute_reply": "2022-06-06T17:04:42.956770Z"
    },
    "papermill": {
     "duration": 0.032572,
     "end_time": "2022-06-06T17:04:42.958916",
     "exception": false,
     "start_time": "2022-06-06T17:04:42.926344",
     "status": "completed"
    },
    "tags": []
   },
   "outputs": [],
   "source": [
    "_gene_values = np.array(_gene_values)\n",
    "assert _gene_values.shape[0] == 49"
   ]
  },
  {
   "cell_type": "code",
   "execution_count": 55,
   "id": "ce8e26f5",
   "metadata": {
    "execution": {
     "iopub.execute_input": "2022-06-06T17:04:42.992745Z",
     "iopub.status.busy": "2022-06-06T17:04:42.992494Z",
     "iopub.status.idle": "2022-06-06T17:04:43.011200Z",
     "shell.execute_reply": "2022-06-06T17:04:43.010556Z"
    },
    "papermill": {
     "duration": 0.037188,
     "end_time": "2022-06-06T17:04:43.012663",
     "exception": false,
     "start_time": "2022-06-06T17:04:42.975475",
     "status": "completed"
    },
    "tags": []
   },
   "outputs": [
    {
     "data": {
      "text/plain": [
       "count    49.000000\n",
       "mean      0.205679\n",
       "std       0.376234\n",
       "min      -0.018678\n",
       "25%       0.000000\n",
       "50%       0.000000\n",
       "75%       0.090196\n",
       "max       0.968930\n",
       "dtype: float64"
      ]
     },
     "metadata": {},
     "output_type": "display_data"
    }
   ],
   "source": [
    "# display(_gene_values.mean())\n",
    "display(pd.Series(_gene_values).describe())\n",
    "assert gene_corrs_df.loc[gene1, gene2].round(5) == _gene_values.max().round(\n",
    "    5\n",
    "), gene_corrs_df.loc[gene1, gene2]"
   ]
  },
  {
   "cell_type": "markdown",
   "id": "e34db3c2",
   "metadata": {
    "papermill": {
     "duration": 0.016192,
     "end_time": "2022-06-06T17:04:43.045889",
     "exception": false,
     "start_time": "2022-06-06T17:04:43.029697",
     "status": "completed"
    },
    "tags": []
   },
   "source": [
    "# Save"
   ]
  },
  {
   "cell_type": "markdown",
   "id": "510183a9",
   "metadata": {
    "papermill": {
     "duration": 0.016043,
     "end_time": "2022-06-06T17:04:43.077735",
     "exception": false,
     "start_time": "2022-06-06T17:04:43.061692",
     "status": "completed"
    },
    "tags": []
   },
   "source": [
    "## With ensemble ids"
   ]
  },
  {
   "cell_type": "code",
   "execution_count": 56,
   "id": "751cdc8c-1cce-4dee-8524-89b4b9a27feb",
   "metadata": {
    "execution": {
     "iopub.execute_input": "2022-06-06T17:04:43.110678Z",
     "iopub.status.busy": "2022-06-06T17:04:43.110457Z",
     "iopub.status.idle": "2022-06-06T17:04:43.126487Z",
     "shell.execute_reply": "2022-06-06T17:04:43.125896Z"
    },
    "papermill": {
     "duration": 0.034371,
     "end_time": "2022-06-06T17:04:43.127866",
     "exception": false,
     "start_time": "2022-06-06T17:04:43.093495",
     "status": "completed"
    },
    "tags": []
   },
   "outputs": [
    {
     "data": {
      "text/plain": [
       "PosixPath('/opt/data/data/phenomexcan/ld_blocks/gene_corrs/gtex_v8/mashr/multiplier_genes-pred_expression_corr_avg-max-gene_ensembl_ids.pkl')"
      ]
     },
     "metadata": {},
     "output_type": "display_data"
    }
   ],
   "source": [
    "output_file_name_template = conf.PHENOMEXCAN[\"LD_BLOCKS\"][\n",
    "    \"GENE_CORRS_FILE_NAME_TEMPLATES\"\n",
    "][\"GENE_CORR_AVG\"]\n",
    "\n",
    "output_file = OUTPUT_DIR_BASE / output_file_name_template.format(\n",
    "    prefix=\"\",\n",
    "    suffix=f\"-{OUTPUT_FILE_AGG_METHOD}-gene_ensembl_ids\",\n",
    ")\n",
    "display(output_file)"
   ]
  },
  {
   "cell_type": "code",
   "execution_count": 57,
   "id": "d841e2a0",
   "metadata": {
    "execution": {
     "iopub.execute_input": "2022-06-06T17:04:43.162142Z",
     "iopub.status.busy": "2022-06-06T17:04:43.161927Z",
     "iopub.status.idle": "2022-06-06T17:04:43.332798Z",
     "shell.execute_reply": "2022-06-06T17:04:43.332242Z"
    },
    "papermill": {
     "duration": 0.189793,
     "end_time": "2022-06-06T17:04:43.334408",
     "exception": false,
     "start_time": "2022-06-06T17:04:43.144615",
     "status": "completed"
    },
    "tags": []
   },
   "outputs": [],
   "source": [
    "gene_corrs_df.to_pickle(output_file)"
   ]
  },
  {
   "cell_type": "markdown",
   "id": "7f9816a6",
   "metadata": {
    "papermill": {
     "duration": 0.016555,
     "end_time": "2022-06-06T17:04:43.368424",
     "exception": false,
     "start_time": "2022-06-06T17:04:43.351869",
     "status": "completed"
    },
    "tags": []
   },
   "source": [
    "## With gene symbols"
   ]
  },
  {
   "cell_type": "code",
   "execution_count": 58,
   "id": "2f174f95-2be3-4b63-95fb-451413ad361d",
   "metadata": {
    "execution": {
     "iopub.execute_input": "2022-06-06T17:04:43.401886Z",
     "iopub.status.busy": "2022-06-06T17:04:43.401671Z",
     "iopub.status.idle": "2022-06-06T17:04:43.417911Z",
     "shell.execute_reply": "2022-06-06T17:04:43.417245Z"
    },
    "papermill": {
     "duration": 0.034692,
     "end_time": "2022-06-06T17:04:43.419308",
     "exception": false,
     "start_time": "2022-06-06T17:04:43.384616",
     "status": "completed"
    },
    "tags": []
   },
   "outputs": [
    {
     "data": {
      "text/plain": [
       "PosixPath('/opt/data/data/phenomexcan/ld_blocks/gene_corrs/gtex_v8/mashr/multiplier_genes-pred_expression_corr_avg-max-gene_symbols.pkl')"
      ]
     },
     "metadata": {},
     "output_type": "display_data"
    }
   ],
   "source": [
    "output_file_name_template = conf.PHENOMEXCAN[\"LD_BLOCKS\"][\n",
    "    \"GENE_CORRS_FILE_NAME_TEMPLATES\"\n",
    "][\"GENE_CORR_AVG\"]\n",
    "\n",
    "output_file = OUTPUT_DIR_BASE / output_file_name_template.format(\n",
    "    prefix=\"\",\n",
    "    suffix=f\"-{OUTPUT_FILE_AGG_METHOD}-gene_symbols\",\n",
    ")\n",
    "display(output_file)"
   ]
  },
  {
   "cell_type": "code",
   "execution_count": 59,
   "id": "1436a25d",
   "metadata": {
    "execution": {
     "iopub.execute_input": "2022-06-06T17:04:43.454196Z",
     "iopub.status.busy": "2022-06-06T17:04:43.453649Z",
     "iopub.status.idle": "2022-06-06T17:04:43.510456Z",
     "shell.execute_reply": "2022-06-06T17:04:43.509041Z"
    },
    "papermill": {
     "duration": 0.077832,
     "end_time": "2022-06-06T17:04:43.514062",
     "exception": false,
     "start_time": "2022-06-06T17:04:43.436230",
     "status": "completed"
    },
    "tags": []
   },
   "outputs": [],
   "source": [
    "gene_corrs_gene_names_df = gene_corrs_df.rename(\n",
    "    index=Gene.GENE_ID_TO_NAME_MAP, columns=Gene.GENE_ID_TO_NAME_MAP\n",
    ")"
   ]
  },
  {
   "cell_type": "code",
   "execution_count": 60,
   "id": "b2014f92",
   "metadata": {
    "execution": {
     "iopub.execute_input": "2022-06-06T17:04:43.560151Z",
     "iopub.status.busy": "2022-06-06T17:04:43.559978Z",
     "iopub.status.idle": "2022-06-06T17:04:43.576218Z",
     "shell.execute_reply": "2022-06-06T17:04:43.575655Z"
    },
    "papermill": {
     "duration": 0.037393,
     "end_time": "2022-06-06T17:04:43.577799",
     "exception": false,
     "start_time": "2022-06-06T17:04:43.540406",
     "status": "completed"
    },
    "tags": []
   },
   "outputs": [],
   "source": [
    "assert gene_corrs_gene_names_df.index.is_unique"
   ]
  },
  {
   "cell_type": "code",
   "execution_count": 61,
   "id": "1ced30b0",
   "metadata": {
    "execution": {
     "iopub.execute_input": "2022-06-06T17:04:43.614366Z",
     "iopub.status.busy": "2022-06-06T17:04:43.614142Z",
     "iopub.status.idle": "2022-06-06T17:04:43.629774Z",
     "shell.execute_reply": "2022-06-06T17:04:43.629270Z"
    },
    "papermill": {
     "duration": 0.034996,
     "end_time": "2022-06-06T17:04:43.631261",
     "exception": false,
     "start_time": "2022-06-06T17:04:43.596265",
     "status": "completed"
    },
    "tags": []
   },
   "outputs": [],
   "source": [
    "assert gene_corrs_gene_names_df.columns.is_unique"
   ]
  },
  {
   "cell_type": "code",
   "execution_count": 62,
   "id": "d9e18eab",
   "metadata": {
    "execution": {
     "iopub.execute_input": "2022-06-06T17:04:43.666155Z",
     "iopub.status.busy": "2022-06-06T17:04:43.665939Z",
     "iopub.status.idle": "2022-06-06T17:04:43.681712Z",
     "shell.execute_reply": "2022-06-06T17:04:43.680983Z"
    },
    "papermill": {
     "duration": 0.034808,
     "end_time": "2022-06-06T17:04:43.683074",
     "exception": false,
     "start_time": "2022-06-06T17:04:43.648266",
     "status": "completed"
    },
    "tags": []
   },
   "outputs": [
    {
     "data": {
      "text/plain": [
       "(6452, 6452)"
      ]
     },
     "execution_count": 62,
     "metadata": {},
     "output_type": "execute_result"
    }
   ],
   "source": [
    "gene_corrs_gene_names_df.shape"
   ]
  },
  {
   "cell_type": "code",
   "execution_count": 63,
   "id": "44e83e62",
   "metadata": {
    "execution": {
     "iopub.execute_input": "2022-06-06T17:04:43.717175Z",
     "iopub.status.busy": "2022-06-06T17:04:43.716957Z",
     "iopub.status.idle": "2022-06-06T17:04:43.746664Z",
     "shell.execute_reply": "2022-06-06T17:04:43.745997Z"
    },
    "papermill": {
     "duration": 0.048653,
     "end_time": "2022-06-06T17:04:43.748294",
     "exception": false,
     "start_time": "2022-06-06T17:04:43.699641",
     "status": "completed"
    },
    "tags": []
   },
   "outputs": [
    {
     "data": {
      "text/html": [
       "<div>\n",
       "<style scoped>\n",
       "    .dataframe tbody tr th:only-of-type {\n",
       "        vertical-align: middle;\n",
       "    }\n",
       "\n",
       "    .dataframe tbody tr th {\n",
       "        vertical-align: top;\n",
       "    }\n",
       "\n",
       "    .dataframe thead th {\n",
       "        text-align: right;\n",
       "    }\n",
       "</style>\n",
       "<table border=\"1\" class=\"dataframe\">\n",
       "  <thead>\n",
       "    <tr style=\"text-align: right;\">\n",
       "      <th>id</th>\n",
       "      <th>GAS6</th>\n",
       "      <th>MMP14</th>\n",
       "      <th>DSP</th>\n",
       "      <th>MARCKSL1</th>\n",
       "      <th>SPARC</th>\n",
       "      <th>CTSD</th>\n",
       "      <th>EPAS1</th>\n",
       "      <th>PALLD</th>\n",
       "      <th>PHC2</th>\n",
       "      <th>LGALS3BP</th>\n",
       "      <th>...</th>\n",
       "      <th>LDHB</th>\n",
       "      <th>LDHC</th>\n",
       "      <th>ACAP2</th>\n",
       "      <th>ACAP3</th>\n",
       "      <th>CFL2</th>\n",
       "      <th>CFL1</th>\n",
       "      <th>NFIB</th>\n",
       "      <th>PLEKHG6</th>\n",
       "      <th>GNGT2</th>\n",
       "      <th>SERPINH1</th>\n",
       "    </tr>\n",
       "    <tr>\n",
       "      <th>id</th>\n",
       "      <th></th>\n",
       "      <th></th>\n",
       "      <th></th>\n",
       "      <th></th>\n",
       "      <th></th>\n",
       "      <th></th>\n",
       "      <th></th>\n",
       "      <th></th>\n",
       "      <th></th>\n",
       "      <th></th>\n",
       "      <th></th>\n",
       "      <th></th>\n",
       "      <th></th>\n",
       "      <th></th>\n",
       "      <th></th>\n",
       "      <th></th>\n",
       "      <th></th>\n",
       "      <th></th>\n",
       "      <th></th>\n",
       "      <th></th>\n",
       "      <th></th>\n",
       "    </tr>\n",
       "  </thead>\n",
       "  <tbody>\n",
       "    <tr>\n",
       "      <th>GAS6</th>\n",
       "      <td>1.0</td>\n",
       "      <td>0.0</td>\n",
       "      <td>0.0</td>\n",
       "      <td>0.0</td>\n",
       "      <td>0.0</td>\n",
       "      <td>0.0</td>\n",
       "      <td>0.0</td>\n",
       "      <td>0.0</td>\n",
       "      <td>0.000000</td>\n",
       "      <td>0.0</td>\n",
       "      <td>...</td>\n",
       "      <td>0.0</td>\n",
       "      <td>0.0</td>\n",
       "      <td>0.0</td>\n",
       "      <td>0.000000</td>\n",
       "      <td>0.000000</td>\n",
       "      <td>0.0</td>\n",
       "      <td>0.0</td>\n",
       "      <td>0.0</td>\n",
       "      <td>0.0</td>\n",
       "      <td>0.0</td>\n",
       "    </tr>\n",
       "    <tr>\n",
       "      <th>MMP14</th>\n",
       "      <td>0.0</td>\n",
       "      <td>1.0</td>\n",
       "      <td>0.0</td>\n",
       "      <td>0.0</td>\n",
       "      <td>0.0</td>\n",
       "      <td>0.0</td>\n",
       "      <td>0.0</td>\n",
       "      <td>0.0</td>\n",
       "      <td>0.000000</td>\n",
       "      <td>0.0</td>\n",
       "      <td>...</td>\n",
       "      <td>0.0</td>\n",
       "      <td>0.0</td>\n",
       "      <td>0.0</td>\n",
       "      <td>0.000000</td>\n",
       "      <td>-0.055612</td>\n",
       "      <td>0.0</td>\n",
       "      <td>0.0</td>\n",
       "      <td>0.0</td>\n",
       "      <td>0.0</td>\n",
       "      <td>0.0</td>\n",
       "    </tr>\n",
       "    <tr>\n",
       "      <th>DSP</th>\n",
       "      <td>0.0</td>\n",
       "      <td>0.0</td>\n",
       "      <td>1.0</td>\n",
       "      <td>0.0</td>\n",
       "      <td>0.0</td>\n",
       "      <td>0.0</td>\n",
       "      <td>0.0</td>\n",
       "      <td>0.0</td>\n",
       "      <td>0.000000</td>\n",
       "      <td>0.0</td>\n",
       "      <td>...</td>\n",
       "      <td>0.0</td>\n",
       "      <td>0.0</td>\n",
       "      <td>0.0</td>\n",
       "      <td>0.000000</td>\n",
       "      <td>0.000000</td>\n",
       "      <td>0.0</td>\n",
       "      <td>0.0</td>\n",
       "      <td>0.0</td>\n",
       "      <td>0.0</td>\n",
       "      <td>0.0</td>\n",
       "    </tr>\n",
       "    <tr>\n",
       "      <th>MARCKSL1</th>\n",
       "      <td>0.0</td>\n",
       "      <td>0.0</td>\n",
       "      <td>0.0</td>\n",
       "      <td>1.0</td>\n",
       "      <td>0.0</td>\n",
       "      <td>0.0</td>\n",
       "      <td>0.0</td>\n",
       "      <td>0.0</td>\n",
       "      <td>-0.045233</td>\n",
       "      <td>0.0</td>\n",
       "      <td>...</td>\n",
       "      <td>0.0</td>\n",
       "      <td>0.0</td>\n",
       "      <td>0.0</td>\n",
       "      <td>0.065927</td>\n",
       "      <td>0.000000</td>\n",
       "      <td>0.0</td>\n",
       "      <td>0.0</td>\n",
       "      <td>0.0</td>\n",
       "      <td>0.0</td>\n",
       "      <td>0.0</td>\n",
       "    </tr>\n",
       "    <tr>\n",
       "      <th>SPARC</th>\n",
       "      <td>0.0</td>\n",
       "      <td>0.0</td>\n",
       "      <td>0.0</td>\n",
       "      <td>0.0</td>\n",
       "      <td>1.0</td>\n",
       "      <td>0.0</td>\n",
       "      <td>0.0</td>\n",
       "      <td>0.0</td>\n",
       "      <td>0.000000</td>\n",
       "      <td>0.0</td>\n",
       "      <td>...</td>\n",
       "      <td>0.0</td>\n",
       "      <td>0.0</td>\n",
       "      <td>0.0</td>\n",
       "      <td>0.000000</td>\n",
       "      <td>0.000000</td>\n",
       "      <td>0.0</td>\n",
       "      <td>0.0</td>\n",
       "      <td>0.0</td>\n",
       "      <td>0.0</td>\n",
       "      <td>0.0</td>\n",
       "    </tr>\n",
       "  </tbody>\n",
       "</table>\n",
       "<p>5 rows × 6452 columns</p>\n",
       "</div>"
      ],
      "text/plain": [
       "id        GAS6  MMP14  DSP  MARCKSL1  SPARC  CTSD  EPAS1  PALLD      PHC2  \\\n",
       "id                                                                          \n",
       "GAS6       1.0    0.0  0.0       0.0    0.0   0.0    0.0    0.0  0.000000   \n",
       "MMP14      0.0    1.0  0.0       0.0    0.0   0.0    0.0    0.0  0.000000   \n",
       "DSP        0.0    0.0  1.0       0.0    0.0   0.0    0.0    0.0  0.000000   \n",
       "MARCKSL1   0.0    0.0  0.0       1.0    0.0   0.0    0.0    0.0 -0.045233   \n",
       "SPARC      0.0    0.0  0.0       0.0    1.0   0.0    0.0    0.0  0.000000   \n",
       "\n",
       "id        LGALS3BP  ...  LDHB  LDHC  ACAP2     ACAP3      CFL2  CFL1  NFIB  \\\n",
       "id                  ...                                                      \n",
       "GAS6           0.0  ...   0.0   0.0    0.0  0.000000  0.000000   0.0   0.0   \n",
       "MMP14          0.0  ...   0.0   0.0    0.0  0.000000 -0.055612   0.0   0.0   \n",
       "DSP            0.0  ...   0.0   0.0    0.0  0.000000  0.000000   0.0   0.0   \n",
       "MARCKSL1       0.0  ...   0.0   0.0    0.0  0.065927  0.000000   0.0   0.0   \n",
       "SPARC          0.0  ...   0.0   0.0    0.0  0.000000  0.000000   0.0   0.0   \n",
       "\n",
       "id        PLEKHG6  GNGT2  SERPINH1  \n",
       "id                                  \n",
       "GAS6          0.0    0.0       0.0  \n",
       "MMP14         0.0    0.0       0.0  \n",
       "DSP           0.0    0.0       0.0  \n",
       "MARCKSL1      0.0    0.0       0.0  \n",
       "SPARC         0.0    0.0       0.0  \n",
       "\n",
       "[5 rows x 6452 columns]"
      ]
     },
     "execution_count": 63,
     "metadata": {},
     "output_type": "execute_result"
    }
   ],
   "source": [
    "gene_corrs_gene_names_df.head()"
   ]
  },
  {
   "cell_type": "code",
   "execution_count": 64,
   "id": "04ec6c52",
   "metadata": {
    "execution": {
     "iopub.execute_input": "2022-06-06T17:04:43.783127Z",
     "iopub.status.busy": "2022-06-06T17:04:43.782896Z",
     "iopub.status.idle": "2022-06-06T17:04:43.950367Z",
     "shell.execute_reply": "2022-06-06T17:04:43.949827Z"
    },
    "papermill": {
     "duration": 0.186536,
     "end_time": "2022-06-06T17:04:43.952005",
     "exception": false,
     "start_time": "2022-06-06T17:04:43.765469",
     "status": "completed"
    },
    "tags": []
   },
   "outputs": [],
   "source": [
    "gene_corrs_gene_names_df.to_pickle(output_file)"
   ]
  },
  {
   "cell_type": "code",
   "execution_count": null,
   "id": "38cf09b7",
   "metadata": {
    "papermill": {
     "duration": 0.017237,
     "end_time": "2022-06-06T17:04:43.987587",
     "exception": false,
     "start_time": "2022-06-06T17:04:43.970350",
     "status": "completed"
    },
    "tags": []
   },
   "outputs": [],
   "source": []
  }
 ],
 "metadata": {
  "jupytext": {
   "cell_metadata_filter": "all,-execution,-papermill,-trusted",
   "formats": "ipynb,py//py:percent"
  },
  "kernelspec": {
   "display_name": "Python 3 (ipykernel)",
   "language": "python",
   "name": "python3"
  },
  "language_info": {
   "codemirror_mode": {
    "name": "ipython",
    "version": 3
   },
   "file_extension": ".py",
   "mimetype": "text/x-python",
   "name": "python",
   "nbconvert_exporter": "python",
   "pygments_lexer": "ipython3",
   "version": "3.8.13"
  },
  "papermill": {
   "default_parameters": {},
   "duration": 25.150239,
   "end_time": "2022-06-06T17:04:44.325128",
   "environment_variables": {},
   "exception": null,
   "input_path": "nbs/15_gsa_gls/16-preprocess_gene_expr_correlations-max.ipynb",
   "output_path": "nbs/15_gsa_gls/gene_corrs/gtex_v8/mashr/16-preprocess_gene_expr_correlations-max.ipynb",
   "parameters": {
    "EQTL_MODEL": "MASHR",
    "REFERENCE_PANEL": "GTEX_V8"
   },
   "start_time": "2022-06-06T17:04:19.174889",
   "version": "2.2.2"
  }
 },
 "nbformat": 4,
 "nbformat_minor": 5
}
