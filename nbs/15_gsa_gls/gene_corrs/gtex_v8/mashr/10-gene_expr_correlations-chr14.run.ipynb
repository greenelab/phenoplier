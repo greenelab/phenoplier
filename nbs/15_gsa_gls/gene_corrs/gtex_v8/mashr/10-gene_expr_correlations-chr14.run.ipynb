{
 "cells": [
  {
   "cell_type": "markdown",
   "id": "7a6632fb",
   "metadata": {
    "papermill": {
     "duration": 0.005885,
     "end_time": "2022-06-16T13:03:06.137321",
     "exception": false,
     "start_time": "2022-06-16T13:03:06.131436",
     "status": "completed"
    },
    "tags": []
   },
   "source": [
    "# Description"
   ]
  },
  {
   "cell_type": "markdown",
   "id": "7097c346",
   "metadata": {
    "papermill": {
     "duration": 0.005046,
     "end_time": "2022-06-16T13:03:06.147675",
     "exception": false,
     "start_time": "2022-06-16T13:03:06.142629",
     "status": "completed"
    },
    "tags": []
   },
   "source": [
    "(Please, take a look at the README.md file in this directory for instructions on how to run this notebook)\n",
    "\n",
    "This notebook computes predicted expression correlations between all genes in the MultiPLIER models.\n",
    "\n",
    "It also has a parameter set for papermill to run on a single chromosome to run in parallel (see under `Settings` below).\n",
    "\n",
    "This notebook is not directly run. See README.md."
   ]
  },
  {
   "cell_type": "markdown",
   "id": "c61d8427",
   "metadata": {
    "papermill": {
     "duration": 0.00511,
     "end_time": "2022-06-16T13:03:06.158001",
     "exception": false,
     "start_time": "2022-06-16T13:03:06.152891",
     "status": "completed"
    },
    "tags": []
   },
   "source": [
    "# Modules"
   ]
  },
  {
   "cell_type": "code",
   "execution_count": 1,
   "id": "bbc0234f",
   "metadata": {
    "execution": {
     "iopub.execute_input": "2022-06-16T13:03:06.169856Z",
     "iopub.status.busy": "2022-06-16T13:03:06.169250Z",
     "iopub.status.idle": "2022-06-16T13:03:06.184181Z",
     "shell.execute_reply": "2022-06-16T13:03:06.183667Z"
    },
    "papermill": {
     "duration": 0.022434,
     "end_time": "2022-06-16T13:03:06.185660",
     "exception": false,
     "start_time": "2022-06-16T13:03:06.163226",
     "status": "completed"
    },
    "tags": []
   },
   "outputs": [],
   "source": [
    "%load_ext autoreload\n",
    "%autoreload 2"
   ]
  },
  {
   "cell_type": "code",
   "execution_count": 2,
   "id": "1d5f5a59",
   "metadata": {
    "execution": {
     "iopub.execute_input": "2022-06-16T13:03:06.198121Z",
     "iopub.status.busy": "2022-06-16T13:03:06.197634Z",
     "iopub.status.idle": "2022-06-16T13:03:07.175842Z",
     "shell.execute_reply": "2022-06-16T13:03:07.175205Z"
    },
    "papermill": {
     "duration": 0.986232,
     "end_time": "2022-06-16T13:03:07.177391",
     "exception": false,
     "start_time": "2022-06-16T13:03:06.191159",
     "status": "completed"
    },
    "tags": []
   },
   "outputs": [],
   "source": [
    "from random import sample\n",
    "import warnings\n",
    "\n",
    "import numpy as np\n",
    "from scipy.spatial.distance import squareform\n",
    "import pandas as pd\n",
    "from tqdm import tqdm\n",
    "import matplotlib.pyplot as plt\n",
    "import seaborn as sns\n",
    "\n",
    "import conf\n",
    "from entity import Gene"
   ]
  },
  {
   "cell_type": "markdown",
   "id": "1eac24b5",
   "metadata": {
    "papermill": {
     "duration": 0.00633,
     "end_time": "2022-06-16T13:03:07.219300",
     "exception": false,
     "start_time": "2022-06-16T13:03:07.212970",
     "status": "completed"
    },
    "tags": []
   },
   "source": [
    "# Settings"
   ]
  },
  {
   "cell_type": "code",
   "execution_count": 3,
   "id": "ca4560ba",
   "metadata": {
    "execution": {
     "iopub.execute_input": "2022-06-16T13:03:07.233466Z",
     "iopub.status.busy": "2022-06-16T13:03:07.232982Z",
     "iopub.status.idle": "2022-06-16T13:03:07.250555Z",
     "shell.execute_reply": "2022-06-16T13:03:07.249928Z"
    },
    "papermill": {
     "duration": 0.026359,
     "end_time": "2022-06-16T13:03:07.252097",
     "exception": false,
     "start_time": "2022-06-16T13:03:07.225738",
     "status": "completed"
    },
    "tags": [
     "parameters"
    ]
   },
   "outputs": [],
   "source": [
    "# reference panel\n",
    "REFERENCE_PANEL = \"GTEX_V8\"\n",
    "# REFERENCE_PANEL = \"1000G\"\n",
    "\n",
    "# prediction models\n",
    "## mashr\n",
    "EQTL_MODEL = \"MASHR\"\n",
    "EQTL_MODEL_FILES_PREFIX = \"mashr_\"\n",
    "\n",
    "# ## elastic net\n",
    "# EQTL_MODEL = \"ELASTIC_NET\"\n",
    "# EQTL_MODEL_FILES_PREFIX = \"en_\"\n",
    "\n",
    "# make it read the prefix from conf.py\n",
    "EQTL_MODEL_FILES_PREFIX = None\n",
    "\n",
    "# this is the default value used in S-MultiXcan to select the\n",
    "# top principal components of the expression correlation matrix\n",
    "SMULTIXCAN_CONDITION_NUMBER = 30\n",
    "\n",
    "# specifies a single chromosome value\n",
    "# by default, run on all chromosomes\n",
    "chromosome = None"
   ]
  },
  {
   "cell_type": "code",
   "execution_count": 4,
   "id": "c1da1936",
   "metadata": {
    "execution": {
     "iopub.execute_input": "2022-06-16T13:03:07.272419Z",
     "iopub.status.busy": "2022-06-16T13:03:07.271957Z",
     "iopub.status.idle": "2022-06-16T13:03:07.287430Z",
     "shell.execute_reply": "2022-06-16T13:03:07.286870Z"
    },
    "papermill": {
     "duration": 0.030091,
     "end_time": "2022-06-16T13:03:07.288872",
     "exception": false,
     "start_time": "2022-06-16T13:03:07.258781",
     "status": "completed"
    },
    "tags": [
     "injected-parameters"
    ]
   },
   "outputs": [],
   "source": [
    "# Parameters\n",
    "chromosome = 14\n",
    "REFERENCE_PANEL = \"GTEX_V8\"\n",
    "EQTL_MODEL = \"MASHR\"\n"
   ]
  },
  {
   "cell_type": "code",
   "execution_count": 5,
   "id": "a089c9ff",
   "metadata": {
    "execution": {
     "iopub.execute_input": "2022-06-16T13:03:07.301894Z",
     "iopub.status.busy": "2022-06-16T13:03:07.301464Z",
     "iopub.status.idle": "2022-06-16T13:03:07.317128Z",
     "shell.execute_reply": "2022-06-16T13:03:07.316570Z"
    },
    "papermill": {
     "duration": 0.023686,
     "end_time": "2022-06-16T13:03:07.318543",
     "exception": false,
     "start_time": "2022-06-16T13:03:07.294857",
     "status": "completed"
    },
    "tags": []
   },
   "outputs": [],
   "source": [
    "if EQTL_MODEL_FILES_PREFIX is None:\n",
    "    EQTL_MODEL_FILES_PREFIX = conf.PHENOMEXCAN[\"PREDICTION_MODELS\"][\n",
    "        f\"{EQTL_MODEL}_PREFIX\"\n",
    "    ]"
   ]
  },
  {
   "cell_type": "code",
   "execution_count": 6,
   "id": "8fe24bef",
   "metadata": {
    "execution": {
     "iopub.execute_input": "2022-06-16T13:03:07.331520Z",
     "iopub.status.busy": "2022-06-16T13:03:07.331006Z",
     "iopub.status.idle": "2022-06-16T13:03:07.349939Z",
     "shell.execute_reply": "2022-06-16T13:03:07.349373Z"
    },
    "papermill": {
     "duration": 0.026847,
     "end_time": "2022-06-16T13:03:07.351305",
     "exception": false,
     "start_time": "2022-06-16T13:03:07.324458",
     "status": "completed"
    },
    "tags": []
   },
   "outputs": [
    {
     "data": {
      "text/plain": [
       "'Using eQTL model: MASHR / mashr_'"
      ]
     },
     "metadata": {},
     "output_type": "display_data"
    }
   ],
   "source": [
    "display(f\"Using eQTL model: {EQTL_MODEL} / {EQTL_MODEL_FILES_PREFIX}\")"
   ]
  },
  {
   "cell_type": "code",
   "execution_count": 7,
   "id": "0230ebcb-2c32-4b95-9292-d9a52038e70d",
   "metadata": {
    "execution": {
     "iopub.execute_input": "2022-06-16T13:03:07.364404Z",
     "iopub.status.busy": "2022-06-16T13:03:07.363954Z",
     "iopub.status.idle": "2022-06-16T13:03:07.379320Z",
     "shell.execute_reply": "2022-06-16T13:03:07.378760Z"
    },
    "papermill": {
     "duration": 0.023533,
     "end_time": "2022-06-16T13:03:07.380917",
     "exception": false,
     "start_time": "2022-06-16T13:03:07.357384",
     "status": "completed"
    },
    "tags": []
   },
   "outputs": [],
   "source": [
    "REFERENCE_PANEL_DIR = conf.PHENOMEXCAN[\"LD_BLOCKS\"][f\"{REFERENCE_PANEL}_GENOTYPE_DIR\"]"
   ]
  },
  {
   "cell_type": "code",
   "execution_count": 8,
   "id": "98c4a159-601d-4a22-a1ab-35bd451c25f9",
   "metadata": {
    "execution": {
     "iopub.execute_input": "2022-06-16T13:03:07.393764Z",
     "iopub.status.busy": "2022-06-16T13:03:07.393586Z",
     "iopub.status.idle": "2022-06-16T13:03:07.410794Z",
     "shell.execute_reply": "2022-06-16T13:03:07.410178Z"
    },
    "papermill": {
     "duration": 0.025442,
     "end_time": "2022-06-16T13:03:07.412372",
     "exception": false,
     "start_time": "2022-06-16T13:03:07.386930",
     "status": "completed"
    },
    "tags": []
   },
   "outputs": [
    {
     "data": {
      "text/plain": [
       "'Using reference panel folder: /opt/data/data/phenomexcan/ld_blocks/reference_panel_gtex_v8'"
      ]
     },
     "metadata": {},
     "output_type": "display_data"
    }
   ],
   "source": [
    "display(f\"Using reference panel folder: {str(REFERENCE_PANEL_DIR)}\")"
   ]
  },
  {
   "cell_type": "code",
   "execution_count": 9,
   "id": "396392dc-0340-4540-9b02-e182b833f909",
   "metadata": {
    "execution": {
     "iopub.execute_input": "2022-06-16T13:03:07.425634Z",
     "iopub.status.busy": "2022-06-16T13:03:07.425436Z",
     "iopub.status.idle": "2022-06-16T13:03:07.441274Z",
     "shell.execute_reply": "2022-06-16T13:03:07.440764Z"
    },
    "papermill": {
     "duration": 0.024045,
     "end_time": "2022-06-16T13:03:07.442726",
     "exception": false,
     "start_time": "2022-06-16T13:03:07.418681",
     "status": "completed"
    },
    "tags": []
   },
   "outputs": [],
   "source": [
    "OUTPUT_DIR_BASE = (\n",
    "    conf.PHENOMEXCAN[\"LD_BLOCKS\"][f\"GENE_CORRS_DIR\"]\n",
    "    / REFERENCE_PANEL.lower()\n",
    "    / EQTL_MODEL.lower()\n",
    ")\n",
    "OUTPUT_DIR_BASE.mkdir(parents=True, exist_ok=True)"
   ]
  },
  {
   "cell_type": "code",
   "execution_count": 10,
   "id": "8942c2d3-e53c-4d63-a0eb-b6fce0574d36",
   "metadata": {
    "execution": {
     "iopub.execute_input": "2022-06-16T13:03:07.455981Z",
     "iopub.status.busy": "2022-06-16T13:03:07.455528Z",
     "iopub.status.idle": "2022-06-16T13:03:07.471595Z",
     "shell.execute_reply": "2022-06-16T13:03:07.471096Z"
    },
    "papermill": {
     "duration": 0.024087,
     "end_time": "2022-06-16T13:03:07.472983",
     "exception": false,
     "start_time": "2022-06-16T13:03:07.448896",
     "status": "completed"
    },
    "tags": []
   },
   "outputs": [
    {
     "data": {
      "text/plain": [
       "'Using output dir base: /opt/data/data/phenomexcan/ld_blocks/gene_corrs/gtex_v8/mashr'"
      ]
     },
     "metadata": {},
     "output_type": "display_data"
    }
   ],
   "source": [
    "display(f\"Using output dir base: {OUTPUT_DIR_BASE}\")"
   ]
  },
  {
   "cell_type": "code",
   "execution_count": 11,
   "id": "408aa590",
   "metadata": {
    "execution": {
     "iopub.execute_input": "2022-06-16T13:03:07.486841Z",
     "iopub.status.busy": "2022-06-16T13:03:07.486257Z",
     "iopub.status.idle": "2022-06-16T13:03:07.501377Z",
     "shell.execute_reply": "2022-06-16T13:03:07.500886Z"
    },
    "papermill": {
     "duration": 0.023672,
     "end_time": "2022-06-16T13:03:07.502982",
     "exception": false,
     "start_time": "2022-06-16T13:03:07.479310",
     "status": "completed"
    },
    "tags": []
   },
   "outputs": [],
   "source": [
    "assert (\n",
    "    chromosome is not None\n",
    "), \"You have to select one chromosome (format: number between 1 and 22)\""
   ]
  },
  {
   "cell_type": "code",
   "execution_count": 12,
   "id": "c1c7dd06-80ff-453c-bcb7-0899edce75da",
   "metadata": {
    "execution": {
     "iopub.execute_input": "2022-06-16T13:03:07.516788Z",
     "iopub.status.busy": "2022-06-16T13:03:07.516284Z",
     "iopub.status.idle": "2022-06-16T13:03:07.531460Z",
     "shell.execute_reply": "2022-06-16T13:03:07.530908Z"
    },
    "papermill": {
     "duration": 0.023814,
     "end_time": "2022-06-16T13:03:07.533120",
     "exception": false,
     "start_time": "2022-06-16T13:03:07.509306",
     "status": "completed"
    },
    "tags": []
   },
   "outputs": [],
   "source": [
    "chromosome = str(chromosome)"
   ]
  },
  {
   "cell_type": "code",
   "execution_count": 13,
   "id": "bc17b84c-9c26-47a5-a3ab-7046e72f3ef4",
   "metadata": {
    "execution": {
     "iopub.execute_input": "2022-06-16T13:03:07.559109Z",
     "iopub.status.busy": "2022-06-16T13:03:07.558940Z",
     "iopub.status.idle": "2022-06-16T13:03:07.574390Z",
     "shell.execute_reply": "2022-06-16T13:03:07.573914Z"
    },
    "papermill": {
     "duration": 0.036337,
     "end_time": "2022-06-16T13:03:07.575823",
     "exception": false,
     "start_time": "2022-06-16T13:03:07.539486",
     "status": "completed"
    },
    "tags": []
   },
   "outputs": [
    {
     "data": {
      "text/plain": [
       "'Working on chromosome 14'"
      ]
     },
     "metadata": {},
     "output_type": "display_data"
    }
   ],
   "source": [
    "display(f\"Working on chromosome {chromosome}\")"
   ]
  },
  {
   "cell_type": "markdown",
   "id": "d2ba085e",
   "metadata": {
    "papermill": {
     "duration": 0.006075,
     "end_time": "2022-06-16T13:03:07.588308",
     "exception": false,
     "start_time": "2022-06-16T13:03:07.582233",
     "status": "completed"
    },
    "tags": []
   },
   "source": [
    "# Load data"
   ]
  },
  {
   "cell_type": "markdown",
   "id": "abcc4b3d",
   "metadata": {
    "papermill": {
     "duration": 0.006472,
     "end_time": "2022-06-16T13:03:07.601023",
     "exception": false,
     "start_time": "2022-06-16T13:03:07.594551",
     "status": "completed"
    },
    "tags": []
   },
   "source": [
    "## MultiPLIER Z"
   ]
  },
  {
   "cell_type": "code",
   "execution_count": 14,
   "id": "c48ef527",
   "metadata": {
    "execution": {
     "iopub.execute_input": "2022-06-16T13:03:07.621588Z",
     "iopub.status.busy": "2022-06-16T13:03:07.620659Z",
     "iopub.status.idle": "2022-06-16T13:03:07.668839Z",
     "shell.execute_reply": "2022-06-16T13:03:07.668235Z"
    },
    "papermill": {
     "duration": 0.062397,
     "end_time": "2022-06-16T13:03:07.670426",
     "exception": false,
     "start_time": "2022-06-16T13:03:07.608029",
     "status": "completed"
    },
    "tags": []
   },
   "outputs": [],
   "source": [
    "multiplier_z_genes = pd.read_pickle(\n",
    "    conf.MULTIPLIER[\"MODEL_Z_MATRIX_FILE\"]\n",
    ").index.tolist()"
   ]
  },
  {
   "cell_type": "code",
   "execution_count": 15,
   "id": "0a4ecbd9",
   "metadata": {
    "execution": {
     "iopub.execute_input": "2022-06-16T13:03:07.685676Z",
     "iopub.status.busy": "2022-06-16T13:03:07.685473Z",
     "iopub.status.idle": "2022-06-16T13:03:07.704023Z",
     "shell.execute_reply": "2022-06-16T13:03:07.703377Z"
    },
    "papermill": {
     "duration": 0.028009,
     "end_time": "2022-06-16T13:03:07.705667",
     "exception": false,
     "start_time": "2022-06-16T13:03:07.677658",
     "status": "completed"
    },
    "tags": []
   },
   "outputs": [
    {
     "data": {
      "text/plain": [
       "6750"
      ]
     },
     "execution_count": 15,
     "metadata": {},
     "output_type": "execute_result"
    }
   ],
   "source": [
    "len(multiplier_z_genes)"
   ]
  },
  {
   "cell_type": "code",
   "execution_count": 16,
   "id": "115e8864",
   "metadata": {
    "execution": {
     "iopub.execute_input": "2022-06-16T13:03:07.720567Z",
     "iopub.status.busy": "2022-06-16T13:03:07.720005Z",
     "iopub.status.idle": "2022-06-16T13:03:07.737742Z",
     "shell.execute_reply": "2022-06-16T13:03:07.737152Z"
    },
    "papermill": {
     "duration": 0.026677,
     "end_time": "2022-06-16T13:03:07.739238",
     "exception": false,
     "start_time": "2022-06-16T13:03:07.712561",
     "status": "completed"
    },
    "tags": []
   },
   "outputs": [
    {
     "data": {
      "text/plain": [
       "['GAS6',\n",
       " 'MMP14',\n",
       " 'DSP',\n",
       " 'MARCKSL1',\n",
       " 'SPARC',\n",
       " 'CTSD',\n",
       " 'EPAS1',\n",
       " 'PALLD',\n",
       " 'PHC2',\n",
       " 'LGALS3BP']"
      ]
     },
     "execution_count": 16,
     "metadata": {},
     "output_type": "execute_result"
    }
   ],
   "source": [
    "multiplier_z_genes[:10]"
   ]
  },
  {
   "cell_type": "markdown",
   "id": "7dcb8db7",
   "metadata": {
    "papermill": {
     "duration": 0.006523,
     "end_time": "2022-06-16T13:03:07.752593",
     "exception": false,
     "start_time": "2022-06-16T13:03:07.746070",
     "status": "completed"
    },
    "tags": []
   },
   "source": [
    "## Get gene objects"
   ]
  },
  {
   "cell_type": "code",
   "execution_count": 17,
   "id": "bb932812",
   "metadata": {
    "execution": {
     "iopub.execute_input": "2022-06-16T13:03:07.766946Z",
     "iopub.status.busy": "2022-06-16T13:03:07.766484Z",
     "iopub.status.idle": "2022-06-16T13:03:07.789300Z",
     "shell.execute_reply": "2022-06-16T13:03:07.788759Z"
    },
    "papermill": {
     "duration": 0.031592,
     "end_time": "2022-06-16T13:03:07.790855",
     "exception": false,
     "start_time": "2022-06-16T13:03:07.759263",
     "status": "completed"
    },
    "tags": []
   },
   "outputs": [],
   "source": [
    "multiplier_gene_obj = {\n",
    "    gene_name: Gene(name=gene_name)\n",
    "    for gene_name in multiplier_z_genes\n",
    "    if gene_name in Gene.GENE_NAME_TO_ID_MAP\n",
    "}"
   ]
  },
  {
   "cell_type": "code",
   "execution_count": 18,
   "id": "39533214",
   "metadata": {
    "execution": {
     "iopub.execute_input": "2022-06-16T13:03:07.805559Z",
     "iopub.status.busy": "2022-06-16T13:03:07.805069Z",
     "iopub.status.idle": "2022-06-16T13:03:07.822197Z",
     "shell.execute_reply": "2022-06-16T13:03:07.821602Z"
    },
    "papermill": {
     "duration": 0.025938,
     "end_time": "2022-06-16T13:03:07.823697",
     "exception": false,
     "start_time": "2022-06-16T13:03:07.797759",
     "status": "completed"
    },
    "tags": []
   },
   "outputs": [
    {
     "data": {
      "text/plain": [
       "6454"
      ]
     },
     "execution_count": 18,
     "metadata": {},
     "output_type": "execute_result"
    }
   ],
   "source": [
    "len(multiplier_gene_obj)"
   ]
  },
  {
   "cell_type": "code",
   "execution_count": 19,
   "id": "9a5d0b84",
   "metadata": {
    "execution": {
     "iopub.execute_input": "2022-06-16T13:03:07.838349Z",
     "iopub.status.busy": "2022-06-16T13:03:07.837996Z",
     "iopub.status.idle": "2022-06-16T13:03:07.855575Z",
     "shell.execute_reply": "2022-06-16T13:03:07.855000Z"
    },
    "papermill": {
     "duration": 0.026466,
     "end_time": "2022-06-16T13:03:07.857066",
     "exception": false,
     "start_time": "2022-06-16T13:03:07.830600",
     "status": "completed"
    },
    "tags": []
   },
   "outputs": [
    {
     "data": {
      "text/plain": [
       "'ENSG00000183087'"
      ]
     },
     "execution_count": 19,
     "metadata": {},
     "output_type": "execute_result"
    }
   ],
   "source": [
    "multiplier_gene_obj[\"GAS6\"].ensembl_id"
   ]
  },
  {
   "cell_type": "code",
   "execution_count": 20,
   "id": "e3ffabc7",
   "metadata": {
    "execution": {
     "iopub.execute_input": "2022-06-16T13:03:07.872275Z",
     "iopub.status.busy": "2022-06-16T13:03:07.871756Z",
     "iopub.status.idle": "2022-06-16T13:03:09.943138Z",
     "shell.execute_reply": "2022-06-16T13:03:09.942589Z"
    },
    "papermill": {
     "duration": 2.080304,
     "end_time": "2022-06-16T13:03:09.944478",
     "exception": false,
     "start_time": "2022-06-16T13:03:07.864174",
     "status": "completed"
    },
    "tags": []
   },
   "outputs": [],
   "source": [
    "_gene_obj = list(multiplier_gene_obj.values())\n",
    "\n",
    "genes_info = pd.DataFrame(\n",
    "    {\n",
    "        \"name\": [g.name for g in _gene_obj],\n",
    "        \"id\": [g.ensembl_id for g in _gene_obj],\n",
    "        \"chr\": [g.chromosome for g in _gene_obj],\n",
    "        \"band\": [g.band for g in _gene_obj],\n",
    "        \"start_position\": [g.get_attribute(\"start_position\") for g in _gene_obj],\n",
    "    }\n",
    ")"
   ]
  },
  {
   "cell_type": "code",
   "execution_count": 21,
   "id": "e23519b8",
   "metadata": {
    "execution": {
     "iopub.execute_input": "2022-06-16T13:03:09.958772Z",
     "iopub.status.busy": "2022-06-16T13:03:09.958372Z",
     "iopub.status.idle": "2022-06-16T13:03:09.975056Z",
     "shell.execute_reply": "2022-06-16T13:03:09.974503Z"
    },
    "papermill": {
     "duration": 0.025323,
     "end_time": "2022-06-16T13:03:09.976465",
     "exception": false,
     "start_time": "2022-06-16T13:03:09.951142",
     "status": "completed"
    },
    "tags": []
   },
   "outputs": [
    {
     "data": {
      "text/plain": [
       "(6454, 5)"
      ]
     },
     "execution_count": 21,
     "metadata": {},
     "output_type": "execute_result"
    }
   ],
   "source": [
    "genes_info.shape"
   ]
  },
  {
   "cell_type": "code",
   "execution_count": 22,
   "id": "0d71881c",
   "metadata": {
    "execution": {
     "iopub.execute_input": "2022-06-16T13:03:09.990859Z",
     "iopub.status.busy": "2022-06-16T13:03:09.990684Z",
     "iopub.status.idle": "2022-06-16T13:03:10.013232Z",
     "shell.execute_reply": "2022-06-16T13:03:10.012682Z"
    },
    "papermill": {
     "duration": 0.031397,
     "end_time": "2022-06-16T13:03:10.014692",
     "exception": false,
     "start_time": "2022-06-16T13:03:09.983295",
     "status": "completed"
    },
    "tags": []
   },
   "outputs": [
    {
     "data": {
      "text/html": [
       "<div>\n",
       "<style scoped>\n",
       "    .dataframe tbody tr th:only-of-type {\n",
       "        vertical-align: middle;\n",
       "    }\n",
       "\n",
       "    .dataframe tbody tr th {\n",
       "        vertical-align: top;\n",
       "    }\n",
       "\n",
       "    .dataframe thead th {\n",
       "        text-align: right;\n",
       "    }\n",
       "</style>\n",
       "<table border=\"1\" class=\"dataframe\">\n",
       "  <thead>\n",
       "    <tr style=\"text-align: right;\">\n",
       "      <th></th>\n",
       "      <th>name</th>\n",
       "      <th>id</th>\n",
       "      <th>chr</th>\n",
       "      <th>band</th>\n",
       "      <th>start_position</th>\n",
       "    </tr>\n",
       "  </thead>\n",
       "  <tbody>\n",
       "    <tr>\n",
       "      <th>0</th>\n",
       "      <td>GAS6</td>\n",
       "      <td>ENSG00000183087</td>\n",
       "      <td>13</td>\n",
       "      <td>13q34</td>\n",
       "      <td>113820549.0</td>\n",
       "    </tr>\n",
       "    <tr>\n",
       "      <th>1</th>\n",
       "      <td>MMP14</td>\n",
       "      <td>ENSG00000157227</td>\n",
       "      <td>14</td>\n",
       "      <td>14q11.2</td>\n",
       "      <td>22836560.0</td>\n",
       "    </tr>\n",
       "    <tr>\n",
       "      <th>2</th>\n",
       "      <td>DSP</td>\n",
       "      <td>ENSG00000096696</td>\n",
       "      <td>6</td>\n",
       "      <td>6p24.3</td>\n",
       "      <td>7541617.0</td>\n",
       "    </tr>\n",
       "    <tr>\n",
       "      <th>3</th>\n",
       "      <td>MARCKSL1</td>\n",
       "      <td>ENSG00000175130</td>\n",
       "      <td>1</td>\n",
       "      <td>1p35.1</td>\n",
       "      <td>32333839.0</td>\n",
       "    </tr>\n",
       "    <tr>\n",
       "      <th>4</th>\n",
       "      <td>SPARC</td>\n",
       "      <td>ENSG00000113140</td>\n",
       "      <td>5</td>\n",
       "      <td>5q33.1</td>\n",
       "      <td>151661096.0</td>\n",
       "    </tr>\n",
       "  </tbody>\n",
       "</table>\n",
       "</div>"
      ],
      "text/plain": [
       "       name               id chr     band  start_position\n",
       "0      GAS6  ENSG00000183087  13    13q34     113820549.0\n",
       "1     MMP14  ENSG00000157227  14  14q11.2      22836560.0\n",
       "2       DSP  ENSG00000096696   6   6p24.3       7541617.0\n",
       "3  MARCKSL1  ENSG00000175130   1   1p35.1      32333839.0\n",
       "4     SPARC  ENSG00000113140   5   5q33.1     151661096.0"
      ]
     },
     "execution_count": 22,
     "metadata": {},
     "output_type": "execute_result"
    }
   ],
   "source": [
    "genes_info.head()"
   ]
  },
  {
   "cell_type": "markdown",
   "id": "8c9dbb4a",
   "metadata": {
    "papermill": {
     "duration": 0.006974,
     "end_time": "2022-06-16T13:03:10.029003",
     "exception": false,
     "start_time": "2022-06-16T13:03:10.022029",
     "status": "completed"
    },
    "tags": []
   },
   "source": [
    "## Get tissues names"
   ]
  },
  {
   "cell_type": "code",
   "execution_count": 23,
   "id": "2bc52419",
   "metadata": {
    "execution": {
     "iopub.execute_input": "2022-06-16T13:03:10.044094Z",
     "iopub.status.busy": "2022-06-16T13:03:10.043544Z",
     "iopub.status.idle": "2022-06-16T13:03:10.058690Z",
     "shell.execute_reply": "2022-06-16T13:03:10.058100Z"
    },
    "papermill": {
     "duration": 0.02418,
     "end_time": "2022-06-16T13:03:10.060120",
     "exception": false,
     "start_time": "2022-06-16T13:03:10.035940",
     "status": "completed"
    },
    "tags": []
   },
   "outputs": [],
   "source": [
    "tissues = conf.PHENOMEXCAN[\"PREDICTION_MODELS\"][f\"{EQTL_MODEL}_TISSUES\"].split(\" \")"
   ]
  },
  {
   "cell_type": "code",
   "execution_count": 24,
   "id": "64b293a1",
   "metadata": {
    "execution": {
     "iopub.execute_input": "2022-06-16T13:03:10.075340Z",
     "iopub.status.busy": "2022-06-16T13:03:10.074869Z",
     "iopub.status.idle": "2022-06-16T13:03:10.091780Z",
     "shell.execute_reply": "2022-06-16T13:03:10.091122Z"
    },
    "papermill": {
     "duration": 0.025927,
     "end_time": "2022-06-16T13:03:10.093185",
     "exception": false,
     "start_time": "2022-06-16T13:03:10.067258",
     "status": "completed"
    },
    "tags": []
   },
   "outputs": [
    {
     "data": {
      "text/plain": [
       "['Skin_Not_Sun_Exposed_Suprapubic',\n",
       " 'Cells_EBV-transformed_lymphocytes',\n",
       " 'Brain_Frontal_Cortex_BA9',\n",
       " 'Kidney_Cortex',\n",
       " 'Brain_Substantia_nigra']"
      ]
     },
     "execution_count": 24,
     "metadata": {},
     "output_type": "execute_result"
    }
   ],
   "source": [
    "tissues[:5]"
   ]
  },
  {
   "cell_type": "code",
   "execution_count": 25,
   "id": "48a7202a",
   "metadata": {
    "execution": {
     "iopub.execute_input": "2022-06-16T13:03:10.109046Z",
     "iopub.status.busy": "2022-06-16T13:03:10.108542Z",
     "iopub.status.idle": "2022-06-16T13:03:10.123856Z",
     "shell.execute_reply": "2022-06-16T13:03:10.123254Z"
    },
    "papermill": {
     "duration": 0.025111,
     "end_time": "2022-06-16T13:03:10.125542",
     "exception": false,
     "start_time": "2022-06-16T13:03:10.100431",
     "status": "completed"
    },
    "tags": []
   },
   "outputs": [],
   "source": [
    "assert len(tissues) == 49"
   ]
  },
  {
   "cell_type": "markdown",
   "id": "c8d1038f",
   "metadata": {
    "papermill": {
     "duration": 0.006934,
     "end_time": "2022-06-16T13:03:10.139794",
     "exception": false,
     "start_time": "2022-06-16T13:03:10.132860",
     "status": "completed"
    },
    "tags": []
   },
   "source": [
    "# Test"
   ]
  },
  {
   "cell_type": "code",
   "execution_count": 26,
   "id": "64993abf",
   "metadata": {
    "execution": {
     "iopub.execute_input": "2022-06-16T13:03:10.154522Z",
     "iopub.status.busy": "2022-06-16T13:03:10.154353Z",
     "iopub.status.idle": "2022-06-16T13:03:10.178602Z",
     "shell.execute_reply": "2022-06-16T13:03:10.178064Z"
    },
    "papermill": {
     "duration": 0.033141,
     "end_time": "2022-06-16T13:03:10.179961",
     "exception": false,
     "start_time": "2022-06-16T13:03:10.146820",
     "status": "completed"
    },
    "tags": []
   },
   "outputs": [
    {
     "data": {
      "text/html": [
       "<div>\n",
       "<style scoped>\n",
       "    .dataframe tbody tr th:only-of-type {\n",
       "        vertical-align: middle;\n",
       "    }\n",
       "\n",
       "    .dataframe tbody tr th {\n",
       "        vertical-align: top;\n",
       "    }\n",
       "\n",
       "    .dataframe thead th {\n",
       "        text-align: right;\n",
       "    }\n",
       "</style>\n",
       "<table border=\"1\" class=\"dataframe\">\n",
       "  <thead>\n",
       "    <tr style=\"text-align: right;\">\n",
       "      <th></th>\n",
       "      <th>name</th>\n",
       "      <th>id</th>\n",
       "      <th>chr</th>\n",
       "      <th>band</th>\n",
       "      <th>start_position</th>\n",
       "    </tr>\n",
       "  </thead>\n",
       "  <tbody>\n",
       "    <tr>\n",
       "      <th>1</th>\n",
       "      <td>MMP14</td>\n",
       "      <td>ENSG00000157227</td>\n",
       "      <td>14</td>\n",
       "      <td>14q11.2</td>\n",
       "      <td>22836560.0</td>\n",
       "    </tr>\n",
       "    <tr>\n",
       "      <th>57</th>\n",
       "      <td>IFI27</td>\n",
       "      <td>ENSG00000165949</td>\n",
       "      <td>14</td>\n",
       "      <td>14q32.12</td>\n",
       "      <td>94104836.0</td>\n",
       "    </tr>\n",
       "    <tr>\n",
       "      <th>62</th>\n",
       "      <td>TNFAIP2</td>\n",
       "      <td>ENSG00000185215</td>\n",
       "      <td>14</td>\n",
       "      <td>14q32.32</td>\n",
       "      <td>103123442.0</td>\n",
       "    </tr>\n",
       "    <tr>\n",
       "      <th>69</th>\n",
       "      <td>SLC7A8</td>\n",
       "      <td>ENSG00000092068</td>\n",
       "      <td>14</td>\n",
       "      <td>14q11.2</td>\n",
       "      <td>23125295.0</td>\n",
       "    </tr>\n",
       "    <tr>\n",
       "      <th>83</th>\n",
       "      <td>PYGL</td>\n",
       "      <td>ENSG00000100504</td>\n",
       "      <td>14</td>\n",
       "      <td>14q22.1</td>\n",
       "      <td>50857891.0</td>\n",
       "    </tr>\n",
       "    <tr>\n",
       "      <th>...</th>\n",
       "      <td>...</td>\n",
       "      <td>...</td>\n",
       "      <td>...</td>\n",
       "      <td>...</td>\n",
       "      <td>...</td>\n",
       "    </tr>\n",
       "    <tr>\n",
       "      <th>6145</th>\n",
       "      <td>LTB4R2</td>\n",
       "      <td>ENSG00000213906</td>\n",
       "      <td>14</td>\n",
       "      <td>14q12</td>\n",
       "      <td>24305734.0</td>\n",
       "    </tr>\n",
       "    <tr>\n",
       "      <th>6149</th>\n",
       "      <td>FKBP3</td>\n",
       "      <td>ENSG00000100442</td>\n",
       "      <td>14</td>\n",
       "      <td>14q21.2</td>\n",
       "      <td>45115599.0</td>\n",
       "    </tr>\n",
       "    <tr>\n",
       "      <th>6303</th>\n",
       "      <td>MPP5</td>\n",
       "      <td>ENSG00000072415</td>\n",
       "      <td>14</td>\n",
       "      <td>14q23.3</td>\n",
       "      <td>67241109.0</td>\n",
       "    </tr>\n",
       "    <tr>\n",
       "      <th>6442</th>\n",
       "      <td>GMPR2</td>\n",
       "      <td>ENSG00000100938</td>\n",
       "      <td>14</td>\n",
       "      <td>14q12</td>\n",
       "      <td>24232422.0</td>\n",
       "    </tr>\n",
       "    <tr>\n",
       "      <th>6448</th>\n",
       "      <td>CFL2</td>\n",
       "      <td>ENSG00000165410</td>\n",
       "      <td>14</td>\n",
       "      <td>14q13.1</td>\n",
       "      <td>34706769.0</td>\n",
       "    </tr>\n",
       "  </tbody>\n",
       "</table>\n",
       "<p>211 rows × 5 columns</p>\n",
       "</div>"
      ],
      "text/plain": [
       "         name               id chr      band  start_position\n",
       "1       MMP14  ENSG00000157227  14   14q11.2      22836560.0\n",
       "57      IFI27  ENSG00000165949  14  14q32.12      94104836.0\n",
       "62    TNFAIP2  ENSG00000185215  14  14q32.32     103123442.0\n",
       "69     SLC7A8  ENSG00000092068  14   14q11.2      23125295.0\n",
       "83       PYGL  ENSG00000100504  14   14q22.1      50857891.0\n",
       "...       ...              ...  ..       ...             ...\n",
       "6145   LTB4R2  ENSG00000213906  14     14q12      24305734.0\n",
       "6149    FKBP3  ENSG00000100442  14   14q21.2      45115599.0\n",
       "6303     MPP5  ENSG00000072415  14   14q23.3      67241109.0\n",
       "6442    GMPR2  ENSG00000100938  14     14q12      24232422.0\n",
       "6448     CFL2  ENSG00000165410  14   14q13.1      34706769.0\n",
       "\n",
       "[211 rows x 5 columns]"
      ]
     },
     "metadata": {},
     "output_type": "display_data"
    }
   ],
   "source": [
    "chromosome_genes_info = genes_info[genes_info[\"chr\"] == chromosome]\n",
    "display(chromosome_genes_info)"
   ]
  },
  {
   "cell_type": "code",
   "execution_count": 27,
   "id": "d2e42726-7de6-46eb-acfc-6323eaa8fae6",
   "metadata": {
    "execution": {
     "iopub.execute_input": "2022-06-16T13:03:10.196218Z",
     "iopub.status.busy": "2022-06-16T13:03:10.195877Z",
     "iopub.status.idle": "2022-06-16T13:03:10.211918Z",
     "shell.execute_reply": "2022-06-16T13:03:10.211445Z"
    },
    "papermill": {
     "duration": 0.026,
     "end_time": "2022-06-16T13:03:10.213260",
     "exception": false,
     "start_time": "2022-06-16T13:03:10.187260",
     "status": "completed"
    },
    "tags": []
   },
   "outputs": [
    {
     "data": {
      "text/plain": [
       "5"
      ]
     },
     "metadata": {},
     "output_type": "display_data"
    }
   ],
   "source": [
    "_gene_list_ids = sample(chromosome_genes_info[\"id\"].tolist(), 5)\n",
    "selected_chromosome_genes_obj = [Gene(ensembl_id=g_id) for g_id in _gene_list_ids]\n",
    "display(len(selected_chromosome_genes_obj))"
   ]
  },
  {
   "cell_type": "code",
   "execution_count": 28,
   "id": "1b355359",
   "metadata": {
    "execution": {
     "iopub.execute_input": "2022-06-16T13:03:10.229349Z",
     "iopub.status.busy": "2022-06-16T13:03:10.228870Z",
     "iopub.status.idle": "2022-06-16T13:03:14.641684Z",
     "shell.execute_reply": "2022-06-16T13:03:14.638115Z"
    },
    "papermill": {
     "duration": 4.424112,
     "end_time": "2022-06-16T13:03:14.644941",
     "exception": false,
     "start_time": "2022-06-16T13:03:10.220829",
     "status": "completed"
    },
    "tags": []
   },
   "outputs": [
    {
     "name": "stdout",
     "output_type": "stream",
     "text": [
      "LIN52 / SNAPC1: 0.0\n",
      "LIN52 / TECPR2: 0.0\n",
      "LIN52 / ANG: 0.0\n",
      "LIN52 / AKT1: 0.0\n",
      "SNAPC1 / TECPR2: 0.0\n",
      "SNAPC1 / ANG: 0.0\n",
      "SNAPC1 / AKT1: 0.0\n",
      "TECPR2 / ANG: 0.0\n",
      "TECPR2 / AKT1: -0.13595104924555743\n",
      "ANG / AKT1: 0.0\n"
     ]
    }
   ],
   "source": [
    "for gene_idx1 in range(0, len(selected_chromosome_genes_obj) - 1):\n",
    "    gene_obj1 = selected_chromosome_genes_obj[gene_idx1]\n",
    "\n",
    "    for gene_idx2 in range(gene_idx1 + 1, len(selected_chromosome_genes_obj)):\n",
    "        gene_obj2 = selected_chromosome_genes_obj[gene_idx2]\n",
    "\n",
    "        c = gene_obj1.get_ssm_correlation(\n",
    "            gene_obj2,\n",
    "        )\n",
    "\n",
    "        print(f\"{gene_obj1.name} / {gene_obj2.name}: {c}\")"
   ]
  },
  {
   "cell_type": "markdown",
   "id": "d3843e06",
   "metadata": {
    "papermill": {
     "duration": 0.008633,
     "end_time": "2022-06-16T13:03:14.664687",
     "exception": false,
     "start_time": "2022-06-16T13:03:14.656054",
     "status": "completed"
    },
    "tags": []
   },
   "source": [
    "# Compute correlation per chromosome"
   ]
  },
  {
   "cell_type": "code",
   "execution_count": 29,
   "id": "aa674fe4-6794-4eed-98fa-32b39d1d4ace",
   "metadata": {
    "execution": {
     "iopub.execute_input": "2022-06-16T13:03:14.681426Z",
     "iopub.status.busy": "2022-06-16T13:03:14.681248Z",
     "iopub.status.idle": "2022-06-16T13:03:14.697568Z",
     "shell.execute_reply": "2022-06-16T13:03:14.697048Z"
    },
    "papermill": {
     "duration": 0.026201,
     "end_time": "2022-06-16T13:03:14.698942",
     "exception": false,
     "start_time": "2022-06-16T13:03:14.672741",
     "status": "completed"
    },
    "tags": []
   },
   "outputs": [],
   "source": [
    "warnings.filterwarnings(\"error\")"
   ]
  },
  {
   "cell_type": "code",
   "execution_count": 30,
   "id": "cdbb90a1",
   "metadata": {
    "execution": {
     "iopub.execute_input": "2022-06-16T13:03:14.715865Z",
     "iopub.status.busy": "2022-06-16T13:03:14.715689Z",
     "iopub.status.idle": "2022-06-16T15:13:15.483247Z",
     "shell.execute_reply": "2022-06-16T15:13:15.482813Z"
    },
    "papermill": {
     "duration": 7800.7774,
     "end_time": "2022-06-16T15:13:15.484594",
     "exception": false,
     "start_time": "2022-06-16T13:03:14.707194",
     "status": "completed"
    },
    "tags": []
   },
   "outputs": [
    {
     "name": "stdout",
     "output_type": "stream",
     "text": [
      "Number of genes in chromosome: 211\n",
      "Chromosome 14\n",
      "Number of gene combinations: 22155\n"
     ]
    },
    {
     "name": "stderr",
     "output_type": "stream",
     "text": [
      "ENSG00000185024 / ENSG00000182979: 100%|████████████████████| 22155/22155 [2:10:00<00:00,  2.84it/s]"
     ]
    },
    {
     "name": "stdout",
     "output_type": "stream",
     "text": [
      "Min/max values: -0.9838467234077043 / 0.9999999999999998\n"
     ]
    },
    {
     "name": "stderr",
     "output_type": "stream",
     "text": [
      "\n"
     ]
    },
    {
     "data": {
      "text/plain": [
       "PosixPath('/opt/data/data/phenomexcan/ld_blocks/gene_corrs/gtex_v8/mashr/by_chr/gene_corrs-chr14.pkl')"
      ]
     },
     "metadata": {},
     "output_type": "display_data"
    }
   ],
   "source": [
    "# standard checks\n",
    "all_chrs = genes_info[\"chr\"].dropna().unique()\n",
    "assert all_chrs.shape[0] == 22\n",
    "\n",
    "# select chromosome given by the user\n",
    "assert chromosome in all_chrs\n",
    "\n",
    "# run only on the chromosome specified\n",
    "all_chrs = [chromosome]\n",
    "genes_chr = genes_info[genes_info[\"chr\"] == chromosome]\n",
    "print(f\"Number of genes in chromosome: {genes_chr.shape[0]}\", flush=True)\n",
    "\n",
    "# For testing purposes\n",
    "# genes_chr = genes_chr.sample(n=20)\n",
    "\n",
    "# sort genes by starting position to make visualizations better later\n",
    "genes_chr = genes_chr.sort_values(\"start_position\")\n",
    "\n",
    "\n",
    "for chr_num in all_chrs:\n",
    "    print(f\"Chromosome {chr_num}\", flush=True)\n",
    "\n",
    "    # check if results exist\n",
    "    output_dir = OUTPUT_DIR_BASE / \"by_chr\"\n",
    "    output_file = output_dir / f\"gene_corrs-chr{chr_num}.pkl\"\n",
    "\n",
    "    if output_file.exists():\n",
    "        _tmp_data = pd.read_pickle(output_file)\n",
    "\n",
    "        if _tmp_data.shape[0] > 0:\n",
    "            print(\"Already run, stopping.\")\n",
    "            continue\n",
    "\n",
    "    gene_chr_objs = [Gene(ensembl_id=gene_id) for gene_id in genes_chr[\"id\"]]\n",
    "    gene_chr_ids = [g.ensembl_id for g in gene_chr_objs]\n",
    "\n",
    "    n = len(gene_chr_objs)\n",
    "    n_comb = int(n * (n - 1) / 2.0)\n",
    "    print(f\"Number of gene combinations: {n_comb}\", flush=True)\n",
    "\n",
    "    gene_corrs = []\n",
    "\n",
    "    pbar = tqdm(ncols=100, total=n_comb)\n",
    "    i = 0\n",
    "    for gene_idx1 in range(0, len(gene_chr_objs) - 1):\n",
    "        gene_obj1 = gene_chr_objs[gene_idx1]\n",
    "\n",
    "        for gene_idx2 in range(gene_idx1 + 1, len(gene_chr_objs)):\n",
    "            gene_obj2 = gene_chr_objs[gene_idx2]\n",
    "\n",
    "            pbar.set_description(f\"{gene_obj1.ensembl_id} / {gene_obj2.ensembl_id}\")\n",
    "\n",
    "            try:\n",
    "                # FIXME: compute the correlation of the sum of squares of the model using all\n",
    "                # the available tissues; this could be problematic because for some results\n",
    "                # (computed on a specific phenotype/GWAS) we might not have all the tissues\n",
    "                # available, which can certainly bias the correlation estimation.\n",
    "                # Since this depends on the GWAS on a specific phenotype, we should ideally have\n",
    "                # one correlation matrix per GWAS. I should look at how we can improve this.\n",
    "                gene_corrs.append(\n",
    "                    gene_obj1.get_ssm_correlation(\n",
    "                        other_gene=gene_obj2,\n",
    "                        condition_number=SMULTIXCAN_CONDITION_NUMBER,\n",
    "                        reference_panel=REFERENCE_PANEL,\n",
    "                        model_type=EQTL_MODEL,\n",
    "                    )\n",
    "                )\n",
    "            except Warning:\n",
    "                print(\n",
    "                    f\"RuntimeWarning for genes {gene_obj1.ensembl_id} and {gene_obj2.ensembl_id}\",\n",
    "                    flush=True,\n",
    "                )\n",
    "                import traceback\n",
    "\n",
    "                print(traceback.format_exc(), flush=True)\n",
    "            except Exception as e:\n",
    "                print(\n",
    "                    f\"Exception for genes {gene_obj1.ensembl_id} and {gene_obj2.ensembl_id}\",\n",
    "                    flush=True,\n",
    "                )\n",
    "                import traceback\n",
    "\n",
    "                print(traceback.format_exc(), flush=True)\n",
    "                gene_corrs.append(np.nan)\n",
    "\n",
    "            pbar.update(1)\n",
    "\n",
    "    pbar.close()\n",
    "\n",
    "    # testing\n",
    "    gene_corrs_flat = pd.Series(gene_corrs)\n",
    "    print(f\"Min/max values: {gene_corrs_flat.min()} / {gene_corrs_flat.max()}\")\n",
    "    assert gene_corrs_flat.min() >= -1.001\n",
    "    assert gene_corrs_flat.max() <= 1.001\n",
    "\n",
    "    # save\n",
    "    # FIXME: consider saving only the condenced matrix here. See here for\n",
    "    # more details: https://github.com/greenelab/phenoplier/pull/38#discussion_r634600813\n",
    "    gene_corrs_data = squareform(np.array(gene_corrs, dtype=np.float64))\n",
    "    np.fill_diagonal(gene_corrs_data, 1.0)\n",
    "\n",
    "    gene_corrs_df = pd.DataFrame(\n",
    "        data=gene_corrs_data,\n",
    "        index=gene_chr_ids,\n",
    "        columns=gene_chr_ids,\n",
    "    )\n",
    "\n",
    "    output_dir.mkdir(exist_ok=True, parents=True)\n",
    "    display(output_file)\n",
    "\n",
    "    gene_corrs_df.to_pickle(output_file)"
   ]
  },
  {
   "cell_type": "markdown",
   "id": "faa67b51-5373-470f-aa72-2ded53fa6dfe",
   "metadata": {
    "papermill": {
     "duration": 0.953459,
     "end_time": "2022-06-16T15:13:17.315101",
     "exception": false,
     "start_time": "2022-06-16T15:13:16.361642",
     "status": "completed"
    },
    "tags": []
   },
   "source": [
    "# Testing"
   ]
  },
  {
   "cell_type": "code",
   "execution_count": 31,
   "id": "14f7d046-4b55-4896-a56b-990127bcc388",
   "metadata": {
    "execution": {
     "iopub.execute_input": "2022-06-16T15:13:19.208573Z",
     "iopub.status.busy": "2022-06-16T15:13:19.208397Z",
     "iopub.status.idle": "2022-06-16T15:13:19.225990Z",
     "shell.execute_reply": "2022-06-16T15:13:19.225380Z"
    },
    "papermill": {
     "duration": 0.982903,
     "end_time": "2022-06-16T15:13:19.227359",
     "exception": false,
     "start_time": "2022-06-16T15:13:18.244456",
     "status": "completed"
    },
    "tags": []
   },
   "outputs": [
    {
     "data": {
      "text/plain": [
       "(211, 211)"
      ]
     },
     "execution_count": 31,
     "metadata": {},
     "output_type": "execute_result"
    }
   ],
   "source": [
    "gene_corrs_df.shape"
   ]
  },
  {
   "cell_type": "code",
   "execution_count": 32,
   "id": "c7d15414-3297-4537-a7c6-7588c0baeb75",
   "metadata": {
    "execution": {
     "iopub.execute_input": "2022-06-16T15:13:21.135040Z",
     "iopub.status.busy": "2022-06-16T15:13:21.134854Z",
     "iopub.status.idle": "2022-06-16T15:13:21.169113Z",
     "shell.execute_reply": "2022-06-16T15:13:21.168634Z"
    },
    "papermill": {
     "duration": 1.012796,
     "end_time": "2022-06-16T15:13:21.170817",
     "exception": false,
     "start_time": "2022-06-16T15:13:20.158021",
     "status": "completed"
    },
    "tags": []
   },
   "outputs": [
    {
     "data": {
      "text/html": [
       "<div>\n",
       "<style scoped>\n",
       "    .dataframe tbody tr th:only-of-type {\n",
       "        vertical-align: middle;\n",
       "    }\n",
       "\n",
       "    .dataframe tbody tr th {\n",
       "        vertical-align: top;\n",
       "    }\n",
       "\n",
       "    .dataframe thead th {\n",
       "        text-align: right;\n",
       "    }\n",
       "</style>\n",
       "<table border=\"1\" class=\"dataframe\">\n",
       "  <thead>\n",
       "    <tr style=\"text-align: right;\">\n",
       "      <th></th>\n",
       "      <th>ENSG00000222036</th>\n",
       "      <th>ENSG00000136319</th>\n",
       "      <th>ENSG00000129484</th>\n",
       "      <th>ENSG00000129566</th>\n",
       "      <th>ENSG00000100823</th>\n",
       "      <th>ENSG00000198805</th>\n",
       "      <th>ENSG00000214274</th>\n",
       "      <th>ENSG00000258818</th>\n",
       "      <th>ENSG00000169413</th>\n",
       "      <th>ENSG00000169397</th>\n",
       "      <th>...</th>\n",
       "      <th>ENSG00000126215</th>\n",
       "      <th>ENSG00000088808</th>\n",
       "      <th>ENSG00000066735</th>\n",
       "      <th>ENSG00000185100</th>\n",
       "      <th>ENSG00000142208</th>\n",
       "      <th>ENSG00000166428</th>\n",
       "      <th>ENSG00000183484</th>\n",
       "      <th>ENSG00000184916</th>\n",
       "      <th>ENSG00000185024</th>\n",
       "      <th>ENSG00000182979</th>\n",
       "    </tr>\n",
       "  </thead>\n",
       "  <tbody>\n",
       "    <tr>\n",
       "      <th>ENSG00000222036</th>\n",
       "      <td>1.000000</td>\n",
       "      <td>0.145424</td>\n",
       "      <td>-0.162514</td>\n",
       "      <td>-0.091770</td>\n",
       "      <td>-0.068911</td>\n",
       "      <td>0.128313</td>\n",
       "      <td>-0.126157</td>\n",
       "      <td>0.100140</td>\n",
       "      <td>-0.094920</td>\n",
       "      <td>0.191653</td>\n",
       "      <td>...</td>\n",
       "      <td>0.0</td>\n",
       "      <td>0.0</td>\n",
       "      <td>0.0</td>\n",
       "      <td>0.0</td>\n",
       "      <td>0.0</td>\n",
       "      <td>0.0</td>\n",
       "      <td>0.0</td>\n",
       "      <td>0.0</td>\n",
       "      <td>0.0</td>\n",
       "      <td>0.0</td>\n",
       "    </tr>\n",
       "    <tr>\n",
       "      <th>ENSG00000136319</th>\n",
       "      <td>0.145424</td>\n",
       "      <td>1.000000</td>\n",
       "      <td>-0.269010</td>\n",
       "      <td>0.051850</td>\n",
       "      <td>0.226901</td>\n",
       "      <td>0.079462</td>\n",
       "      <td>-0.036627</td>\n",
       "      <td>-0.158757</td>\n",
       "      <td>-0.066790</td>\n",
       "      <td>-0.007953</td>\n",
       "      <td>...</td>\n",
       "      <td>0.0</td>\n",
       "      <td>0.0</td>\n",
       "      <td>0.0</td>\n",
       "      <td>0.0</td>\n",
       "      <td>0.0</td>\n",
       "      <td>0.0</td>\n",
       "      <td>0.0</td>\n",
       "      <td>0.0</td>\n",
       "      <td>0.0</td>\n",
       "      <td>0.0</td>\n",
       "    </tr>\n",
       "    <tr>\n",
       "      <th>ENSG00000129484</th>\n",
       "      <td>-0.162514</td>\n",
       "      <td>-0.269010</td>\n",
       "      <td>1.000000</td>\n",
       "      <td>0.100499</td>\n",
       "      <td>-0.024816</td>\n",
       "      <td>0.182257</td>\n",
       "      <td>0.090142</td>\n",
       "      <td>-0.126575</td>\n",
       "      <td>-0.000965</td>\n",
       "      <td>-0.036483</td>\n",
       "      <td>...</td>\n",
       "      <td>0.0</td>\n",
       "      <td>0.0</td>\n",
       "      <td>0.0</td>\n",
       "      <td>0.0</td>\n",
       "      <td>0.0</td>\n",
       "      <td>0.0</td>\n",
       "      <td>0.0</td>\n",
       "      <td>0.0</td>\n",
       "      <td>0.0</td>\n",
       "      <td>0.0</td>\n",
       "    </tr>\n",
       "    <tr>\n",
       "      <th>ENSG00000129566</th>\n",
       "      <td>-0.091770</td>\n",
       "      <td>0.051850</td>\n",
       "      <td>0.100499</td>\n",
       "      <td>1.000000</td>\n",
       "      <td>-0.008927</td>\n",
       "      <td>0.234154</td>\n",
       "      <td>0.029798</td>\n",
       "      <td>0.129517</td>\n",
       "      <td>-0.044486</td>\n",
       "      <td>0.155347</td>\n",
       "      <td>...</td>\n",
       "      <td>0.0</td>\n",
       "      <td>0.0</td>\n",
       "      <td>0.0</td>\n",
       "      <td>0.0</td>\n",
       "      <td>0.0</td>\n",
       "      <td>0.0</td>\n",
       "      <td>0.0</td>\n",
       "      <td>0.0</td>\n",
       "      <td>0.0</td>\n",
       "      <td>0.0</td>\n",
       "    </tr>\n",
       "    <tr>\n",
       "      <th>ENSG00000100823</th>\n",
       "      <td>-0.068911</td>\n",
       "      <td>0.226901</td>\n",
       "      <td>-0.024816</td>\n",
       "      <td>-0.008927</td>\n",
       "      <td>1.000000</td>\n",
       "      <td>0.335669</td>\n",
       "      <td>-0.057596</td>\n",
       "      <td>0.101348</td>\n",
       "      <td>0.078383</td>\n",
       "      <td>0.157657</td>\n",
       "      <td>...</td>\n",
       "      <td>0.0</td>\n",
       "      <td>0.0</td>\n",
       "      <td>0.0</td>\n",
       "      <td>0.0</td>\n",
       "      <td>0.0</td>\n",
       "      <td>0.0</td>\n",
       "      <td>0.0</td>\n",
       "      <td>0.0</td>\n",
       "      <td>0.0</td>\n",
       "      <td>0.0</td>\n",
       "    </tr>\n",
       "  </tbody>\n",
       "</table>\n",
       "<p>5 rows × 211 columns</p>\n",
       "</div>"
      ],
      "text/plain": [
       "                 ENSG00000222036  ENSG00000136319  ENSG00000129484  \\\n",
       "ENSG00000222036         1.000000         0.145424        -0.162514   \n",
       "ENSG00000136319         0.145424         1.000000        -0.269010   \n",
       "ENSG00000129484        -0.162514        -0.269010         1.000000   \n",
       "ENSG00000129566        -0.091770         0.051850         0.100499   \n",
       "ENSG00000100823        -0.068911         0.226901        -0.024816   \n",
       "\n",
       "                 ENSG00000129566  ENSG00000100823  ENSG00000198805  \\\n",
       "ENSG00000222036        -0.091770        -0.068911         0.128313   \n",
       "ENSG00000136319         0.051850         0.226901         0.079462   \n",
       "ENSG00000129484         0.100499        -0.024816         0.182257   \n",
       "ENSG00000129566         1.000000        -0.008927         0.234154   \n",
       "ENSG00000100823        -0.008927         1.000000         0.335669   \n",
       "\n",
       "                 ENSG00000214274  ENSG00000258818  ENSG00000169413  \\\n",
       "ENSG00000222036        -0.126157         0.100140        -0.094920   \n",
       "ENSG00000136319        -0.036627        -0.158757        -0.066790   \n",
       "ENSG00000129484         0.090142        -0.126575        -0.000965   \n",
       "ENSG00000129566         0.029798         0.129517        -0.044486   \n",
       "ENSG00000100823        -0.057596         0.101348         0.078383   \n",
       "\n",
       "                 ENSG00000169397  ...  ENSG00000126215  ENSG00000088808  \\\n",
       "ENSG00000222036         0.191653  ...              0.0              0.0   \n",
       "ENSG00000136319        -0.007953  ...              0.0              0.0   \n",
       "ENSG00000129484        -0.036483  ...              0.0              0.0   \n",
       "ENSG00000129566         0.155347  ...              0.0              0.0   \n",
       "ENSG00000100823         0.157657  ...              0.0              0.0   \n",
       "\n",
       "                 ENSG00000066735  ENSG00000185100  ENSG00000142208  \\\n",
       "ENSG00000222036              0.0              0.0              0.0   \n",
       "ENSG00000136319              0.0              0.0              0.0   \n",
       "ENSG00000129484              0.0              0.0              0.0   \n",
       "ENSG00000129566              0.0              0.0              0.0   \n",
       "ENSG00000100823              0.0              0.0              0.0   \n",
       "\n",
       "                 ENSG00000166428  ENSG00000183484  ENSG00000184916  \\\n",
       "ENSG00000222036              0.0              0.0              0.0   \n",
       "ENSG00000136319              0.0              0.0              0.0   \n",
       "ENSG00000129484              0.0              0.0              0.0   \n",
       "ENSG00000129566              0.0              0.0              0.0   \n",
       "ENSG00000100823              0.0              0.0              0.0   \n",
       "\n",
       "                 ENSG00000185024  ENSG00000182979  \n",
       "ENSG00000222036              0.0              0.0  \n",
       "ENSG00000136319              0.0              0.0  \n",
       "ENSG00000129484              0.0              0.0  \n",
       "ENSG00000129566              0.0              0.0  \n",
       "ENSG00000100823              0.0              0.0  \n",
       "\n",
       "[5 rows x 211 columns]"
      ]
     },
     "execution_count": 32,
     "metadata": {},
     "output_type": "execute_result"
    }
   ],
   "source": [
    "gene_corrs_df.head()"
   ]
  },
  {
   "cell_type": "code",
   "execution_count": 33,
   "id": "00583efc-7068-4270-ad1e-4a418e91db96",
   "metadata": {
    "execution": {
     "iopub.execute_input": "2022-06-16T15:13:23.145941Z",
     "iopub.status.busy": "2022-06-16T15:13:23.145754Z",
     "iopub.status.idle": "2022-06-16T15:13:23.165583Z",
     "shell.execute_reply": "2022-06-16T15:13:23.165056Z"
    },
    "papermill": {
     "duration": 0.930654,
     "end_time": "2022-06-16T15:13:23.166926",
     "exception": false,
     "start_time": "2022-06-16T15:13:22.236272",
     "status": "completed"
    },
    "tags": []
   },
   "outputs": [
    {
     "data": {
      "text/plain": [
       "-0.9838467234077043"
      ]
     },
     "metadata": {},
     "output_type": "display_data"
    }
   ],
   "source": [
    "_min_val = gene_corrs_df.min().min()\n",
    "display(_min_val)\n",
    "assert _min_val >= -1.0"
   ]
  },
  {
   "cell_type": "code",
   "execution_count": 34,
   "id": "d04fb2cf-1050-475b-b855-f5f7cc04092b",
   "metadata": {
    "execution": {
     "iopub.execute_input": "2022-06-16T15:13:25.101050Z",
     "iopub.status.busy": "2022-06-16T15:13:25.100849Z",
     "iopub.status.idle": "2022-06-16T15:13:25.122201Z",
     "shell.execute_reply": "2022-06-16T15:13:25.121695Z"
    },
    "papermill": {
     "duration": 1.034057,
     "end_time": "2022-06-16T15:13:25.123850",
     "exception": false,
     "start_time": "2022-06-16T15:13:24.089793",
     "status": "completed"
    },
    "tags": []
   },
   "outputs": [
    {
     "data": {
      "text/plain": [
       "1.0"
      ]
     },
     "metadata": {},
     "output_type": "display_data"
    }
   ],
   "source": [
    "_max_val = gene_corrs_df.max().max()  # this captures the diagonal\n",
    "display(_max_val)\n",
    "assert _max_val <= 1.0"
   ]
  },
  {
   "cell_type": "code",
   "execution_count": 35,
   "id": "96d02c44-1fba-47be-8a93-8f2608420b9c",
   "metadata": {
    "execution": {
     "iopub.execute_input": "2022-06-16T15:13:26.925876Z",
     "iopub.status.busy": "2022-06-16T15:13:26.925691Z",
     "iopub.status.idle": "2022-06-16T15:13:26.942225Z",
     "shell.execute_reply": "2022-06-16T15:13:26.941496Z"
    },
    "papermill": {
     "duration": 0.95073,
     "end_time": "2022-06-16T15:13:26.943627",
     "exception": false,
     "start_time": "2022-06-16T15:13:25.992897",
     "status": "completed"
    },
    "tags": []
   },
   "outputs": [],
   "source": [
    "# check upper triangular values\n",
    "assert len(gene_corrs) == int(genes_chr.shape[0] * (genes_chr.shape[0] - 1) / 2)"
   ]
  },
  {
   "cell_type": "code",
   "execution_count": 36,
   "id": "aaa51627-f4e3-4744-a41f-7d25adcc0a78",
   "metadata": {
    "execution": {
     "iopub.execute_input": "2022-06-16T15:13:28.838436Z",
     "iopub.status.busy": "2022-06-16T15:13:28.838260Z",
     "iopub.status.idle": "2022-06-16T15:13:28.856917Z",
     "shell.execute_reply": "2022-06-16T15:13:28.856325Z"
    },
    "papermill": {
     "duration": 0.916866,
     "end_time": "2022-06-16T15:13:28.858330",
     "exception": false,
     "start_time": "2022-06-16T15:13:27.941464",
     "status": "completed"
    },
    "tags": []
   },
   "outputs": [],
   "source": [
    "gene_corrs = pd.Series(gene_corrs)"
   ]
  },
  {
   "cell_type": "code",
   "execution_count": 37,
   "id": "fe283586-c348-40e0-8841-f6d97bfb021c",
   "metadata": {
    "execution": {
     "iopub.execute_input": "2022-06-16T15:13:30.770557Z",
     "iopub.status.busy": "2022-06-16T15:13:30.770376Z",
     "iopub.status.idle": "2022-06-16T15:13:30.790980Z",
     "shell.execute_reply": "2022-06-16T15:13:30.790326Z"
    },
    "papermill": {
     "duration": 1.005441,
     "end_time": "2022-06-16T15:13:30.797828",
     "exception": false,
     "start_time": "2022-06-16T15:13:29.792387",
     "status": "completed"
    },
    "tags": []
   },
   "outputs": [
    {
     "data": {
      "text/plain": [
       "count    22155.000000\n",
       "mean         0.000108\n",
       "std          0.049938\n",
       "min         -0.983847\n",
       "25%          0.000000\n",
       "50%          0.000000\n",
       "75%          0.000000\n",
       "max          1.000000\n",
       "dtype: float64"
      ]
     },
     "execution_count": 37,
     "metadata": {},
     "output_type": "execute_result"
    }
   ],
   "source": [
    "gene_corrs.describe()"
   ]
  },
  {
   "cell_type": "code",
   "execution_count": 38,
   "id": "b3815678-0f93-4b35-897b-a9d047a2aa78",
   "metadata": {
    "execution": {
     "iopub.execute_input": "2022-06-16T15:13:32.631320Z",
     "iopub.status.busy": "2022-06-16T15:13:32.631139Z",
     "iopub.status.idle": "2022-06-16T15:13:32.652286Z",
     "shell.execute_reply": "2022-06-16T15:13:32.651653Z"
    },
    "papermill": {
     "duration": 0.981989,
     "end_time": "2022-06-16T15:13:32.653730",
     "exception": false,
     "start_time": "2022-06-16T15:13:31.671741",
     "status": "completed"
    },
    "tags": []
   },
   "outputs": [
    {
     "data": {
      "text/plain": [
       "0.00   -0.983847\n",
       "0.05   -0.040270\n",
       "0.10    0.000000\n",
       "0.15    0.000000\n",
       "0.20    0.000000\n",
       "0.25    0.000000\n",
       "0.30    0.000000\n",
       "0.35    0.000000\n",
       "0.40    0.000000\n",
       "0.45    0.000000\n",
       "0.50    0.000000\n",
       "0.55    0.000000\n",
       "0.60    0.000000\n",
       "0.65    0.000000\n",
       "0.70    0.000000\n",
       "0.75    0.000000\n",
       "0.80    0.000000\n",
       "0.85    0.000000\n",
       "0.90    0.000000\n",
       "0.95    0.042450\n",
       "dtype: float64"
      ]
     },
     "metadata": {},
     "output_type": "display_data"
    }
   ],
   "source": [
    "gene_corrs_quantiles = gene_corrs.quantile(np.arange(0, 1, 0.05))\n",
    "display(gene_corrs_quantiles)"
   ]
  },
  {
   "cell_type": "markdown",
   "id": "8e60a080-edb2-4e9c-b2ef-22961693200c",
   "metadata": {
    "papermill": {
     "duration": 0.866631,
     "end_time": "2022-06-16T15:13:34.581822",
     "exception": false,
     "start_time": "2022-06-16T15:13:33.715191",
     "status": "completed"
    },
    "tags": []
   },
   "source": [
    "## Plot: distribution"
   ]
  },
  {
   "cell_type": "code",
   "execution_count": 39,
   "id": "8301126b-a7d4-4744-9c7d-f0f86eb6f54c",
   "metadata": {
    "execution": {
     "iopub.execute_input": "2022-06-16T15:13:36.591565Z",
     "iopub.status.busy": "2022-06-16T15:13:36.591067Z",
     "iopub.status.idle": "2022-06-16T15:13:37.070550Z",
     "shell.execute_reply": "2022-06-16T15:13:37.070133Z"
    },
    "papermill": {
     "duration": 1.534594,
     "end_time": "2022-06-16T15:13:37.072051",
     "exception": false,
     "start_time": "2022-06-16T15:13:35.537457",
     "status": "completed"
    },
    "tags": []
   },
   "outputs": [
    {
     "data": {
      "image/png": "[encoded data removed]",
      "text/plain": [
       "<Figure size 504x504 with 1 Axes>"
      ]
     },
     "metadata": {
      "needs_background": "light"
     },
     "output_type": "display_data"
    }
   ],
   "source": [
    "with sns.plotting_context(\"paper\", font_scale=1.5):\n",
    "    g = sns.displot(gene_corrs, kde=True, height=7)\n",
    "    g.ax.set_title(\n",
    "        f\"Distribution of gene correlation values in chromosome {chromosome}\"\n",
    "    )"
   ]
  },
  {
   "cell_type": "markdown",
   "id": "cbd52bca-d878-4a2f-b684-5c83aa3038d4",
   "metadata": {
    "papermill": {
     "duration": 1.016529,
     "end_time": "2022-06-16T15:13:39.050178",
     "exception": false,
     "start_time": "2022-06-16T15:13:38.033649",
     "status": "completed"
    },
    "tags": []
   },
   "source": [
    "## Plot: heatmap"
   ]
  },
  {
   "cell_type": "code",
   "execution_count": 40,
   "id": "d03fe63a-c7b2-4fb9-a53c-db362ce843c9",
   "metadata": {
    "execution": {
     "iopub.execute_input": "2022-06-16T15:13:40.966802Z",
     "iopub.status.busy": "2022-06-16T15:13:40.966625Z",
     "iopub.status.idle": "2022-06-16T15:13:40.984784Z",
     "shell.execute_reply": "2022-06-16T15:13:40.984306Z"
    },
    "papermill": {
     "duration": 0.913376,
     "end_time": "2022-06-16T15:13:40.986241",
     "exception": false,
     "start_time": "2022-06-16T15:13:40.072865",
     "status": "completed"
    },
    "tags": []
   },
   "outputs": [
    {
     "data": {
      "text/plain": [
       "'-0.05 / 0.05'"
      ]
     },
     "metadata": {},
     "output_type": "display_data"
    }
   ],
   "source": [
    "vmin_val = min(-0.05, gene_corrs_quantiles[0.10])\n",
    "vmax_val = max(0.05, gene_corrs_quantiles[0.90])\n",
    "display(f\"{vmin_val} / {vmax_val}\")"
   ]
  },
  {
   "cell_type": "code",
   "execution_count": 41,
   "id": "dc41b70b-5bcc-4d9e-9f33-a22c4a94dab5",
   "metadata": {
    "execution": {
     "iopub.execute_input": "2022-06-16T15:13:42.908556Z",
     "iopub.status.busy": "2022-06-16T15:13:42.908240Z",
     "iopub.status.idle": "2022-06-16T15:13:43.085351Z",
     "shell.execute_reply": "2022-06-16T15:13:43.084806Z"
    },
    "papermill": {
     "duration": 1.169741,
     "end_time": "2022-06-16T15:13:43.086667",
     "exception": false,
     "start_time": "2022-06-16T15:13:41.916926",
     "status": "completed"
    },
    "tags": []
   },
   "outputs": [
    {
     "data": {
      "text/plain": [
       "Text(0.5, 1.0, 'Gene correlations in chromosome 14')"
      ]
     },
     "execution_count": 41,
     "metadata": {},
     "output_type": "execute_result"
    },
    {
     "data": {
      "image/png": "[encoded data removed]",
      "text/plain": [
       "<Figure size 720x720 with 2 Axes>"
      ]
     },
     "metadata": {
      "needs_background": "light"
     },
     "output_type": "display_data"
    }
   ],
   "source": [
    "f, ax = plt.subplots(figsize=(10, 10))\n",
    "sns.heatmap(\n",
    "    gene_corrs_df,\n",
    "    xticklabels=False,\n",
    "    yticklabels=False,\n",
    "    square=True,\n",
    "    vmin=vmin_val,\n",
    "    vmax=vmax_val,\n",
    "    cmap=\"YlGnBu\",\n",
    "    ax=ax,\n",
    ")\n",
    "ax.set_title(f\"Gene correlations in chromosome {chromosome}\")"
   ]
  },
  {
   "cell_type": "code",
   "execution_count": null,
   "id": "b25e3ead",
   "metadata": {
    "papermill": {
     "duration": 0.941712,
     "end_time": "2022-06-16T15:13:44.907919",
     "exception": false,
     "start_time": "2022-06-16T15:13:43.966207",
     "status": "completed"
    },
    "tags": []
   },
   "outputs": [],
   "source": []
  }
 ],
 "metadata": {
  "jupytext": {
   "cell_metadata_filter": "all,-execution,-papermill,-trusted",
   "formats": "ipynb,py//py:percent"
  },
  "kernelspec": {
   "display_name": "Python 3 (ipykernel)",
   "language": "python",
   "name": "python3"
  },
  "language_info": {
   "codemirror_mode": {
    "name": "ipython",
    "version": 3
   },
   "file_extension": ".py",
   "mimetype": "text/x-python",
   "name": "python",
   "nbconvert_exporter": "python",
   "pygments_lexer": "ipython3",
   "version": "3.8.13"
  },
  "papermill": {
   "default_parameters": {},
   "duration": 7843.801643,
   "end_time": "2022-06-16T15:13:48.688830",
   "environment_variables": {},
   "exception": null,
   "input_path": "nbs/15_gsa_gls/10-gene_expr_correlations.ipynb",
   "output_path": "nbs/15_gsa_gls/gene_corrs/gtex_v8/mashr/10-gene_expr_correlations-chr14.run.ipynb",
   "parameters": {
    "EQTL_MODEL": "MASHR",
    "REFERENCE_PANEL": "GTEX_V8",
    "chromosome": 14
   },
   "start_time": "2022-06-16T13:03:04.887187",
   "version": "2.2.2"
  }
 },
 "nbformat": 4,
 "nbformat_minor": 5
}
