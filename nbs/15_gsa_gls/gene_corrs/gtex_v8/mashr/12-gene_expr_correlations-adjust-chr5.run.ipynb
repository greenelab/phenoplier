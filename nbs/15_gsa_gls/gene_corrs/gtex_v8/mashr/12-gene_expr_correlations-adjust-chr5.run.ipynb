{
 "cells": [
  {
   "cell_type": "markdown",
   "id": "6c1f0ae4-cd27-4fec-a23d-51699e7059e8",
   "metadata": {
    "papermill": {
     "duration": 0.005138,
     "end_time": "2022-06-18T11:50:01.025470",
     "exception": false,
     "start_time": "2022-06-18T11:50:01.020332",
     "status": "completed"
    },
    "tags": []
   },
   "source": [
    "# Description"
   ]
  },
  {
   "cell_type": "markdown",
   "id": "3268a19a-8a83-4f61-aa39-09b084c81d61",
   "metadata": {
    "papermill": {
     "duration": 0.004443,
     "end_time": "2022-06-18T11:50:01.034349",
     "exception": false,
     "start_time": "2022-06-18T11:50:01.029906",
     "status": "completed"
    },
    "tags": []
   },
   "source": [
    "**TODO**"
   ]
  },
  {
   "cell_type": "markdown",
   "id": "401368d3-22c1-4d81-a2c3-c4a81fde4191",
   "metadata": {
    "papermill": {
     "duration": 0.004567,
     "end_time": "2022-06-18T11:50:01.043618",
     "exception": false,
     "start_time": "2022-06-18T11:50:01.039051",
     "status": "completed"
    },
    "tags": []
   },
   "source": [
    "# Modules"
   ]
  },
  {
   "cell_type": "code",
   "execution_count": 1,
   "id": "f9b5022b-7c5e-4d37-9c7a-fdb91777c7f9",
   "metadata": {
    "execution": {
     "iopub.execute_input": "2022-06-18T11:50:01.078167Z",
     "iopub.status.busy": "2022-06-18T11:50:01.076535Z",
     "iopub.status.idle": "2022-06-18T11:50:04.449386Z",
     "shell.execute_reply": "2022-06-18T11:50:04.448137Z"
    },
    "papermill": {
     "duration": 3.402961,
     "end_time": "2022-06-18T11:50:04.451116",
     "exception": false,
     "start_time": "2022-06-18T11:50:01.048155",
     "status": "completed"
    },
    "tags": []
   },
   "outputs": [],
   "source": [
    "library(reticulate)\n",
    "pd <- import(\"pandas\")"
   ]
  },
  {
   "cell_type": "markdown",
   "id": "c1958d6a-0229-47e8-823e-792fcf84fccf",
   "metadata": {
    "papermill": {
     "duration": 0.004584,
     "end_time": "2022-06-18T11:50:04.460587",
     "exception": false,
     "start_time": "2022-06-18T11:50:04.456003",
     "status": "completed"
    },
    "tags": []
   },
   "source": [
    "# Settings"
   ]
  },
  {
   "cell_type": "code",
   "execution_count": 2,
   "id": "22d12bb4-1699-4a6b-b1b9-d3fdd3d547d7",
   "metadata": {
    "execution": {
     "iopub.execute_input": "2022-06-18T11:50:04.501856Z",
     "iopub.status.busy": "2022-06-18T11:50:04.478499Z",
     "iopub.status.idle": "2022-06-18T11:50:04.514564Z",
     "shell.execute_reply": "2022-06-18T11:50:04.513308Z"
    },
    "papermill": {
     "duration": 0.051146,
     "end_time": "2022-06-18T11:50:04.516388",
     "exception": false,
     "start_time": "2022-06-18T11:50:04.465242",
     "status": "completed"
    },
    "tags": [
     "parameters"
    ]
   },
   "outputs": [],
   "source": [
    "# reference panel\n",
    "REFERENCE_PANEL <- \"GTEX_V8\"\n",
    "# REFERENCE_PANEL = \"1000G\"\n",
    "\n",
    "# prediction models\n",
    "## mashr\n",
    "EQTL_MODEL <- \"MASHR\"\n",
    "\n",
    "# ## elastic net\n",
    "# EQTL_MODEL = \"ELASTIC_NET\"\n",
    "\n",
    "chromosome <- NULL"
   ]
  },
  {
   "cell_type": "code",
   "execution_count": 3,
   "id": "3a708aa9",
   "metadata": {
    "execution": {
     "iopub.execute_input": "2022-06-18T11:50:04.528690Z",
     "iopub.status.busy": "2022-06-18T11:50:04.527628Z",
     "iopub.status.idle": "2022-06-18T11:50:04.545404Z",
     "shell.execute_reply": "2022-06-18T11:50:04.544129Z"
    },
    "papermill": {
     "duration": 0.025696,
     "end_time": "2022-06-18T11:50:04.547227",
     "exception": false,
     "start_time": "2022-06-18T11:50:04.521531",
     "status": "completed"
    },
    "tags": [
     "injected-parameters"
    ]
   },
   "outputs": [],
   "source": [
    "# Parameters\n",
    "chromosome = 5\n",
    "REFERENCE_PANEL = \"GTEX_V8\"\n",
    "EQTL_MODEL = \"MASHR\"\n"
   ]
  },
  {
   "cell_type": "code",
   "execution_count": 4,
   "id": "8fe24bef",
   "metadata": {
    "execution": {
     "iopub.execute_input": "2022-06-18T11:50:04.575036Z",
     "iopub.status.busy": "2022-06-18T11:50:04.574000Z",
     "iopub.status.idle": "2022-06-18T11:50:04.587473Z",
     "shell.execute_reply": "2022-06-18T11:50:04.586127Z"
    },
    "papermill": {
     "duration": 0.036971,
     "end_time": "2022-06-18T11:50:04.589506",
     "exception": false,
     "start_time": "2022-06-18T11:50:04.552535",
     "status": "completed"
    },
    "tags": []
   },
   "outputs": [
    {
     "data": {
      "text/html": [
       "'Using reference panel: GTEX_V8'"
      ],
      "text/latex": [
       "'Using reference panel: GTEX\\_V8'"
      ],
      "text/markdown": [
       "'Using reference panel: GTEX_V8'"
      ],
      "text/plain": [
       "[1] \"Using reference panel: GTEX_V8\""
      ]
     },
     "metadata": {},
     "output_type": "display_data"
    }
   ],
   "source": [
    "paste0(\"Using reference panel: \", REFERENCE_PANEL)"
   ]
  },
  {
   "cell_type": "code",
   "execution_count": 5,
   "id": "d62c28f8-186c-478b-948c-58e14f00df4b",
   "metadata": {
    "execution": {
     "iopub.execute_input": "2022-06-18T11:50:04.602940Z",
     "iopub.status.busy": "2022-06-18T11:50:04.601779Z",
     "iopub.status.idle": "2022-06-18T11:50:04.615463Z",
     "shell.execute_reply": "2022-06-18T11:50:04.613175Z"
    },
    "papermill": {
     "duration": 0.022637,
     "end_time": "2022-06-18T11:50:04.617824",
     "exception": false,
     "start_time": "2022-06-18T11:50:04.595187",
     "status": "completed"
    },
    "tags": []
   },
   "outputs": [
    {
     "data": {
      "text/html": [
       "'Using eQTL model: MASHR'"
      ],
      "text/latex": [
       "'Using eQTL model: MASHR'"
      ],
      "text/markdown": [
       "'Using eQTL model: MASHR'"
      ],
      "text/plain": [
       "[1] \"Using eQTL model: MASHR\""
      ]
     },
     "metadata": {},
     "output_type": "display_data"
    }
   ],
   "source": [
    "paste0(\"Using eQTL model: \", EQTL_MODEL)"
   ]
  },
  {
   "cell_type": "code",
   "execution_count": 6,
   "id": "5243676f-c889-4405-9a4d-262f0f044614",
   "metadata": {
    "execution": {
     "iopub.execute_input": "2022-06-18T11:50:04.631437Z",
     "iopub.status.busy": "2022-06-18T11:50:04.630300Z",
     "iopub.status.idle": "2022-06-18T11:50:04.640461Z",
     "shell.execute_reply": "2022-06-18T11:50:04.639163Z"
    },
    "papermill": {
     "duration": 0.018645,
     "end_time": "2022-06-18T11:50:04.642238",
     "exception": false,
     "start_time": "2022-06-18T11:50:04.623593",
     "status": "completed"
    },
    "tags": []
   },
   "outputs": [],
   "source": [
    "# chromosome must be provided as parameter\n",
    "stopifnot(!is.null(chromosome))"
   ]
  },
  {
   "cell_type": "markdown",
   "id": "83a49773-bcf5-44c4-8d9b-a6ac65a57ec6",
   "metadata": {
    "papermill": {
     "duration": 0.005304,
     "end_time": "2022-06-18T11:50:04.653464",
     "exception": false,
     "start_time": "2022-06-18T11:50:04.648160",
     "status": "completed"
    },
    "tags": []
   },
   "source": [
    "# Paths"
   ]
  },
  {
   "cell_type": "code",
   "execution_count": 7,
   "id": "eb6aa8aa-b452-4a2f-a780-93dd80ad4285",
   "metadata": {
    "execution": {
     "iopub.execute_input": "2022-06-18T11:50:04.666583Z",
     "iopub.status.busy": "2022-06-18T11:50:04.665270Z",
     "iopub.status.idle": "2022-06-18T11:50:04.679375Z",
     "shell.execute_reply": "2022-06-18T11:50:04.678094Z"
    },
    "papermill": {
     "duration": 0.022405,
     "end_time": "2022-06-18T11:50:04.681170",
     "exception": false,
     "start_time": "2022-06-18T11:50:04.658765",
     "status": "completed"
    },
    "tags": []
   },
   "outputs": [
    {
     "data": {
      "text/html": [
       "'/opt/data/data/phenomexcan/ld_blocks/gene_corrs'"
      ],
      "text/latex": [
       "'/opt/data/data/phenomexcan/ld\\_blocks/gene\\_corrs'"
      ],
      "text/markdown": [
       "'/opt/data/data/phenomexcan/ld_blocks/gene_corrs'"
      ],
      "text/plain": [
       "[1] \"/opt/data/data/phenomexcan/ld_blocks/gene_corrs\""
      ]
     },
     "metadata": {},
     "output_type": "display_data"
    }
   ],
   "source": [
    "GENE_CORRS_DIR <- Sys.getenv(\"PHENOPLIER_PHENOMEXCAN_LD_BLOCKS_GENE_CORRS_DIR\")\n",
    "IRdisplay::display(GENE_CORRS_DIR)"
   ]
  },
  {
   "cell_type": "code",
   "execution_count": 8,
   "id": "eb24f15f-f282-4476-8943-8413c4483f12",
   "metadata": {
    "execution": {
     "iopub.execute_input": "2022-06-18T11:50:04.694239Z",
     "iopub.status.busy": "2022-06-18T11:50:04.692966Z",
     "iopub.status.idle": "2022-06-18T11:50:04.706762Z",
     "shell.execute_reply": "2022-06-18T11:50:04.705359Z"
    },
    "papermill": {
     "duration": 0.021827,
     "end_time": "2022-06-18T11:50:04.708494",
     "exception": false,
     "start_time": "2022-06-18T11:50:04.686667",
     "status": "completed"
    },
    "tags": []
   },
   "outputs": [
    {
     "data": {
      "text/html": [
       "'/opt/data/data/phenomexcan/ld_blocks/gene_corrs/gtex_v8/mashr/by_chr'"
      ],
      "text/latex": [
       "'/opt/data/data/phenomexcan/ld\\_blocks/gene\\_corrs/gtex\\_v8/mashr/by\\_chr'"
      ],
      "text/markdown": [
       "'/opt/data/data/phenomexcan/ld_blocks/gene_corrs/gtex_v8/mashr/by_chr'"
      ],
      "text/plain": [
       "[1] \"/opt/data/data/phenomexcan/ld_blocks/gene_corrs/gtex_v8/mashr/by_chr\""
      ]
     },
     "metadata": {},
     "output_type": "display_data"
    }
   ],
   "source": [
    "INPUT_DIR <- file.path(GENE_CORRS_DIR, tolower(REFERENCE_PANEL), tolower(EQTL_MODEL), \"by_chr\")\n",
    "IRdisplay::display(INPUT_DIR)"
   ]
  },
  {
   "cell_type": "code",
   "execution_count": 9,
   "id": "43c1daba-0da9-4822-8d1e-968e9767e251",
   "metadata": {
    "execution": {
     "iopub.execute_input": "2022-06-18T11:50:04.721930Z",
     "iopub.status.busy": "2022-06-18T11:50:04.720813Z",
     "iopub.status.idle": "2022-06-18T11:50:04.737920Z",
     "shell.execute_reply": "2022-06-18T11:50:04.736565Z"
    },
    "papermill": {
     "duration": 0.02553,
     "end_time": "2022-06-18T11:50:04.739638",
     "exception": false,
     "start_time": "2022-06-18T11:50:04.714108",
     "status": "completed"
    },
    "tags": []
   },
   "outputs": [
    {
     "data": {
      "text/html": [
       "'/opt/data/data/phenomexcan/ld_blocks/gene_corrs/gtex_v8/mashr/by_chr/gene_corrs-chr5.pkl'"
      ],
      "text/latex": [
       "'/opt/data/data/phenomexcan/ld\\_blocks/gene\\_corrs/gtex\\_v8/mashr/by\\_chr/gene\\_corrs-chr5.pkl'"
      ],
      "text/markdown": [
       "'/opt/data/data/phenomexcan/ld_blocks/gene_corrs/gtex_v8/mashr/by_chr/gene_corrs-chr5.pkl'"
      ],
      "text/plain": [
       "[1] \"/opt/data/data/phenomexcan/ld_blocks/gene_corrs/gtex_v8/mashr/by_chr/gene_corrs-chr5.pkl\""
      ]
     },
     "metadata": {},
     "output_type": "display_data"
    }
   ],
   "source": [
    "INPUT_FILE <- file.path(INPUT_DIR, paste0(\"gene_corrs-chr\", chromosome, \".pkl\"))\n",
    "IRdisplay::display(INPUT_FILE)\n",
    "stopifnot(file.exists(INPUT_FILE))"
   ]
  },
  {
   "cell_type": "code",
   "execution_count": 10,
   "id": "72386fbf-982b-420a-9057-ea9a97a5e571",
   "metadata": {
    "execution": {
     "iopub.execute_input": "2022-06-18T11:50:04.753806Z",
     "iopub.status.busy": "2022-06-18T11:50:04.752548Z",
     "iopub.status.idle": "2022-06-18T11:50:04.768548Z",
     "shell.execute_reply": "2022-06-18T11:50:04.767090Z"
    },
    "papermill": {
     "duration": 0.025227,
     "end_time": "2022-06-18T11:50:04.770781",
     "exception": false,
     "start_time": "2022-06-18T11:50:04.745554",
     "status": "completed"
    },
    "tags": []
   },
   "outputs": [
    {
     "data": {
      "text/html": [
       "'/opt/data/data/phenomexcan/ld_blocks/gene_corrs/gtex_v8/mashr/by_chr/corrected_positive_definite'"
      ],
      "text/latex": [
       "'/opt/data/data/phenomexcan/ld\\_blocks/gene\\_corrs/gtex\\_v8/mashr/by\\_chr/corrected\\_positive\\_definite'"
      ],
      "text/markdown": [
       "'/opt/data/data/phenomexcan/ld_blocks/gene_corrs/gtex_v8/mashr/by_chr/corrected_positive_definite'"
      ],
      "text/plain": [
       "[1] \"/opt/data/data/phenomexcan/ld_blocks/gene_corrs/gtex_v8/mashr/by_chr/corrected_positive_definite\""
      ]
     },
     "metadata": {},
     "output_type": "display_data"
    }
   ],
   "source": [
    "OUTPUT_DIR <- file.path(INPUT_DIR, \"corrected_positive_definite\")\n",
    "IRdisplay::display(OUTPUT_DIR)\n",
    "dir.create(OUTPUT_DIR, recursive = TRUE, showWarnings = FALSE)"
   ]
  },
  {
   "cell_type": "code",
   "execution_count": 11,
   "id": "f9f19d1d-ce4c-4099-a26e-250fec751de7",
   "metadata": {
    "execution": {
     "iopub.execute_input": "2022-06-18T11:50:04.785315Z",
     "iopub.status.busy": "2022-06-18T11:50:04.783971Z",
     "iopub.status.idle": "2022-06-18T11:50:04.806944Z",
     "shell.execute_reply": "2022-06-18T11:50:04.801875Z"
    },
    "papermill": {
     "duration": 0.032215,
     "end_time": "2022-06-18T11:50:04.809072",
     "exception": false,
     "start_time": "2022-06-18T11:50:04.776857",
     "status": "completed"
    },
    "tags": []
   },
   "outputs": [
    {
     "data": {
      "text/html": [
       "'/opt/data/data/phenomexcan/ld_blocks/gene_corrs/gtex_v8/mashr/by_chr/corrected_positive_definite/gene_corrs-chr5.pkl'"
      ],
      "text/latex": [
       "'/opt/data/data/phenomexcan/ld\\_blocks/gene\\_corrs/gtex\\_v8/mashr/by\\_chr/corrected\\_positive\\_definite/gene\\_corrs-chr5.pkl'"
      ],
      "text/markdown": [
       "'/opt/data/data/phenomexcan/ld_blocks/gene_corrs/gtex_v8/mashr/by_chr/corrected_positive_definite/gene_corrs-chr5.pkl'"
      ],
      "text/plain": [
       "[1] \"/opt/data/data/phenomexcan/ld_blocks/gene_corrs/gtex_v8/mashr/by_chr/corrected_positive_definite/gene_corrs-chr5.pkl\""
      ]
     },
     "metadata": {},
     "output_type": "display_data"
    },
    {
     "data": {
      "text/html": [
       "'Output file exists, it will be overwritten'"
      ],
      "text/latex": [
       "'Output file exists, it will be overwritten'"
      ],
      "text/markdown": [
       "'Output file exists, it will be overwritten'"
      ],
      "text/plain": [
       "[1] \"Output file exists, it will be overwritten\""
      ]
     },
     "metadata": {},
     "output_type": "display_data"
    }
   ],
   "source": [
    "OUTPUT_FILE <- file.path(OUTPUT_DIR, paste0(\"gene_corrs-chr\", chromosome, \".pkl\"))\n",
    "IRdisplay::display(OUTPUT_FILE)\n",
    "if (file.exists(OUTPUT_FILE)) {\n",
    "  IRdisplay::display(\"Output file exists, it will be overwritten\")\n",
    "}"
   ]
  },
  {
   "cell_type": "markdown",
   "id": "5aad60e6-cba4-41b5-9755-93eb86f4ed05",
   "metadata": {
    "papermill": {
     "duration": 0.006303,
     "end_time": "2022-06-18T11:50:04.821913",
     "exception": false,
     "start_time": "2022-06-18T11:50:04.815610",
     "status": "completed"
    },
    "tags": []
   },
   "source": [
    "# Functions"
   ]
  },
  {
   "cell_type": "code",
   "execution_count": 12,
   "id": "f828f081-7358-4cc8-8a89-1ee293bcc1a7",
   "metadata": {
    "execution": {
     "iopub.execute_input": "2022-06-18T11:50:04.836183Z",
     "iopub.status.busy": "2022-06-18T11:50:04.835085Z",
     "iopub.status.idle": "2022-06-18T11:50:04.845616Z",
     "shell.execute_reply": "2022-06-18T11:50:04.843629Z"
    },
    "papermill": {
     "duration": 0.019116,
     "end_time": "2022-06-18T11:50:04.847194",
     "exception": false,
     "start_time": "2022-06-18T11:50:04.828078",
     "status": "completed"
    },
    "tags": []
   },
   "outputs": [],
   "source": [
    "# taken from https://www.r-bloggers.com/2013/08/correcting-a-pseudo-correlation-matrix-to-be-positive-semidefinite/\n",
    "# TODO: add documentation\n",
    "CorrectCM <- function(CM, p = 0) {\n",
    "  n <- dim(var(CM))[1L]\n",
    "  E <- eigen(CM)\n",
    "  CM1 <- E$vectors %*% tcrossprod(diag(pmax(E$values, p), n), E$vectors)\n",
    "  Balance <- diag(1 / sqrt(diag(CM1)))\n",
    "  CM2 <- Balance %*% CM1 %*% Balance\n",
    "  return(CM2)\n",
    "}"
   ]
  },
  {
   "cell_type": "code",
   "execution_count": 13,
   "id": "7ab9bebf-50a1-4e6f-b16a-e23cae93d02a",
   "metadata": {
    "execution": {
     "iopub.execute_input": "2022-06-18T11:50:04.862492Z",
     "iopub.status.busy": "2022-06-18T11:50:04.860682Z",
     "iopub.status.idle": "2022-06-18T11:50:04.873192Z",
     "shell.execute_reply": "2022-06-18T11:50:04.869744Z"
    },
    "papermill": {
     "duration": 0.021941,
     "end_time": "2022-06-18T11:50:04.874906",
     "exception": false,
     "start_time": "2022-06-18T11:50:04.852965",
     "status": "completed"
    },
    "tags": []
   },
   "outputs": [],
   "source": [
    "is_positive_definite <- function(data) {\n",
    "  eigenvalues <- eigen(data)$values\n",
    "  nonpositive_eigenvalues <- eigenvalues[eigenvalues <= 0]\n",
    "\n",
    "  if (length(nonpositive_eigenvalues) > 0) {\n",
    "    IRdisplay::display(\"We need to correct the data and make the matrix positive definite\")\n",
    "    return(FALSE)\n",
    "  } else {\n",
    "    IRdisplay::display(\"Matrix is already positive definite!\")\n",
    "    return(TRUE)\n",
    "  }\n",
    "}"
   ]
  },
  {
   "cell_type": "markdown",
   "id": "ac52ecbc-5618-4876-a4fa-546a08e3fcf3",
   "metadata": {
    "papermill": {
     "duration": 0.005318,
     "end_time": "2022-06-18T11:50:04.885681",
     "exception": false,
     "start_time": "2022-06-18T11:50:04.880363",
     "status": "completed"
    },
    "tags": []
   },
   "source": [
    "# Load data"
   ]
  },
  {
   "cell_type": "code",
   "execution_count": 14,
   "id": "3a7744e1-2e5a-450e-9dcf-945ec181347d",
   "metadata": {
    "execution": {
     "iopub.execute_input": "2022-06-18T11:50:04.898587Z",
     "iopub.status.busy": "2022-06-18T11:50:04.897559Z",
     "iopub.status.idle": "2022-06-18T11:50:04.957427Z",
     "shell.execute_reply": "2022-06-18T11:50:04.956329Z"
    },
    "papermill": {
     "duration": 0.067793,
     "end_time": "2022-06-18T11:50:04.958971",
     "exception": false,
     "start_time": "2022-06-18T11:50:04.891178",
     "status": "completed"
    },
    "tags": []
   },
   "outputs": [],
   "source": [
    "gene_corrs <- pd$read_pickle(INPUT_FILE)"
   ]
  },
  {
   "cell_type": "code",
   "execution_count": 15,
   "id": "6fb150b2-4c68-4e9b-9aa5-1890d3f762e3",
   "metadata": {
    "execution": {
     "iopub.execute_input": "2022-06-18T11:50:04.972471Z",
     "iopub.status.busy": "2022-06-18T11:50:04.971465Z",
     "iopub.status.idle": "2022-06-18T11:50:04.982568Z",
     "shell.execute_reply": "2022-06-18T11:50:04.981363Z"
    },
    "papermill": {
     "duration": 0.019443,
     "end_time": "2022-06-18T11:50:04.984170",
     "exception": false,
     "start_time": "2022-06-18T11:50:04.964727",
     "status": "completed"
    },
    "tags": []
   },
   "outputs": [
    {
     "data": {
      "text/html": [
       "<style>\n",
       ".list-inline {list-style: none; margin:0; padding: 0}\n",
       ".list-inline>li {display: inline-block}\n",
       ".list-inline>li:not(:last-child)::after {content: \"\\00b7\"; padding: 0 .5ex}\n",
       "</style>\n",
       "<ol class=list-inline><li>306</li><li>306</li></ol>\n"
      ],
      "text/latex": [
       "\\begin{enumerate*}\n",
       "\\item 306\n",
       "\\item 306\n",
       "\\end{enumerate*}\n"
      ],
      "text/markdown": [
       "1. 306\n",
       "2. 306\n",
       "\n",
       "\n"
      ],
      "text/plain": [
       "[1] 306 306"
      ]
     },
     "metadata": {},
     "output_type": "display_data"
    }
   ],
   "source": [
    "dim(gene_corrs)"
   ]
  },
  {
   "cell_type": "code",
   "execution_count": 16,
   "id": "0d4e53b5-7586-4a68-8ce5-d930d74ba943",
   "metadata": {
    "execution": {
     "iopub.execute_input": "2022-06-18T11:50:04.997965Z",
     "iopub.status.busy": "2022-06-18T11:50:04.996987Z",
     "iopub.status.idle": "2022-06-18T11:50:05.020447Z",
     "shell.execute_reply": "2022-06-18T11:50:05.019318Z"
    },
    "papermill": {
     "duration": 0.032251,
     "end_time": "2022-06-18T11:50:05.022593",
     "exception": false,
     "start_time": "2022-06-18T11:50:04.990342",
     "status": "completed"
    },
    "tags": []
   },
   "outputs": [
    {
     "data": {
      "text/html": [
       "<table class=\"dataframe\">\n",
       "<caption>A data.frame: 6 × 10</caption>\n",
       "<thead>\n",
       "\t<tr><th></th><th scope=col>ENSG00000073578</th><th scope=col>ENSG00000180104</th><th scope=col>ENSG00000066230</th><th scope=col>ENSG00000112877</th><th scope=col>ENSG00000113504</th><th scope=col>ENSG00000174358</th><th scope=col>ENSG00000164362</th><th scope=col>ENSG00000049656</th><th scope=col>ENSG00000153395</th><th scope=col>ENSG00000171421</th></tr>\n",
       "\t<tr><th></th><th scope=col>&lt;dbl&gt;</th><th scope=col>&lt;dbl&gt;</th><th scope=col>&lt;dbl&gt;</th><th scope=col>&lt;dbl&gt;</th><th scope=col>&lt;dbl&gt;</th><th scope=col>&lt;dbl&gt;</th><th scope=col>&lt;dbl&gt;</th><th scope=col>&lt;dbl&gt;</th><th scope=col>&lt;dbl&gt;</th><th scope=col>&lt;dbl&gt;</th></tr>\n",
       "</thead>\n",
       "<tbody>\n",
       "\t<tr><th scope=row>ENSG00000073578</th><td> 1.000000000</td><td>-0.05612548</td><td> 0.00574107</td><td>-0.00739731</td><td>-0.005595571</td><td> 0.07901083</td><td>-0.062200336</td><td> 0.08899457</td><td>-0.11784006</td><td>-0.106602702</td></tr>\n",
       "\t<tr><th scope=row>ENSG00000180104</th><td>-0.056125480</td><td> 1.00000000</td><td>-0.01198212</td><td> 0.05724206</td><td>-0.018769286</td><td>-0.17536181</td><td> 0.051252334</td><td> 0.17546878</td><td> 0.01845199</td><td>-0.082228548</td></tr>\n",
       "\t<tr><th scope=row>ENSG00000066230</th><td> 0.005741070</td><td>-0.01198212</td><td> 1.00000000</td><td>-0.24549811</td><td> 0.131906294</td><td> 0.05823369</td><td>-0.010682731</td><td> 0.17484437</td><td> 0.12153711</td><td>-0.346419367</td></tr>\n",
       "\t<tr><th scope=row>ENSG00000112877</th><td>-0.007397310</td><td> 0.05724206</td><td>-0.24549811</td><td> 1.00000000</td><td> 0.015312475</td><td>-0.15265107</td><td> 0.027053136</td><td> 0.05707100</td><td> 0.12739757</td><td> 0.026691514</td></tr>\n",
       "\t<tr><th scope=row>ENSG00000113504</th><td>-0.005595571</td><td>-0.01876929</td><td> 0.13190629</td><td> 0.01531248</td><td> 1.000000000</td><td> 0.02573308</td><td>-0.009157251</td><td> 0.00701811</td><td> 0.03856403</td><td> 0.069161785</td></tr>\n",
       "\t<tr><th scope=row>ENSG00000174358</th><td> 0.079010830</td><td>-0.17536181</td><td> 0.05823369</td><td>-0.15265107</td><td> 0.025733080</td><td> 1.00000000</td><td>-0.041351802</td><td>-0.27964319</td><td>-0.01417308</td><td>-0.007056436</td></tr>\n",
       "</tbody>\n",
       "</table>\n"
      ],
      "text/latex": [
       "A data.frame: 6 × 10\n",
       "\\begin{tabular}{r|llllllllll}\n",
       "  & ENSG00000073578 & ENSG00000180104 & ENSG00000066230 & ENSG00000112877 & ENSG00000113504 & ENSG00000174358 & ENSG00000164362 & ENSG00000049656 & ENSG00000153395 & ENSG00000171421\\\\\n",
       "  & <dbl> & <dbl> & <dbl> & <dbl> & <dbl> & <dbl> & <dbl> & <dbl> & <dbl> & <dbl>\\\\\n",
       "\\hline\n",
       "\tENSG00000073578 &  1.000000000 & -0.05612548 &  0.00574107 & -0.00739731 & -0.005595571 &  0.07901083 & -0.062200336 &  0.08899457 & -0.11784006 & -0.106602702\\\\\n",
       "\tENSG00000180104 & -0.056125480 &  1.00000000 & -0.01198212 &  0.05724206 & -0.018769286 & -0.17536181 &  0.051252334 &  0.17546878 &  0.01845199 & -0.082228548\\\\\n",
       "\tENSG00000066230 &  0.005741070 & -0.01198212 &  1.00000000 & -0.24549811 &  0.131906294 &  0.05823369 & -0.010682731 &  0.17484437 &  0.12153711 & -0.346419367\\\\\n",
       "\tENSG00000112877 & -0.007397310 &  0.05724206 & -0.24549811 &  1.00000000 &  0.015312475 & -0.15265107 &  0.027053136 &  0.05707100 &  0.12739757 &  0.026691514\\\\\n",
       "\tENSG00000113504 & -0.005595571 & -0.01876929 &  0.13190629 &  0.01531248 &  1.000000000 &  0.02573308 & -0.009157251 &  0.00701811 &  0.03856403 &  0.069161785\\\\\n",
       "\tENSG00000174358 &  0.079010830 & -0.17536181 &  0.05823369 & -0.15265107 &  0.025733080 &  1.00000000 & -0.041351802 & -0.27964319 & -0.01417308 & -0.007056436\\\\\n",
       "\\end{tabular}\n"
      ],
      "text/markdown": [
       "\n",
       "A data.frame: 6 × 10\n",
       "\n",
       "| <!--/--> | ENSG00000073578 &lt;dbl&gt; | ENSG00000180104 &lt;dbl&gt; | ENSG00000066230 &lt;dbl&gt; | ENSG00000112877 &lt;dbl&gt; | ENSG00000113504 &lt;dbl&gt; | ENSG00000174358 &lt;dbl&gt; | ENSG00000164362 &lt;dbl&gt; | ENSG00000049656 &lt;dbl&gt; | ENSG00000153395 &lt;dbl&gt; | ENSG00000171421 &lt;dbl&gt; |\n",
       "|---|---|---|---|---|---|---|---|---|---|---|\n",
       "| ENSG00000073578 |  1.000000000 | -0.05612548 |  0.00574107 | -0.00739731 | -0.005595571 |  0.07901083 | -0.062200336 |  0.08899457 | -0.11784006 | -0.106602702 |\n",
       "| ENSG00000180104 | -0.056125480 |  1.00000000 | -0.01198212 |  0.05724206 | -0.018769286 | -0.17536181 |  0.051252334 |  0.17546878 |  0.01845199 | -0.082228548 |\n",
       "| ENSG00000066230 |  0.005741070 | -0.01198212 |  1.00000000 | -0.24549811 |  0.131906294 |  0.05823369 | -0.010682731 |  0.17484437 |  0.12153711 | -0.346419367 |\n",
       "| ENSG00000112877 | -0.007397310 |  0.05724206 | -0.24549811 |  1.00000000 |  0.015312475 | -0.15265107 |  0.027053136 |  0.05707100 |  0.12739757 |  0.026691514 |\n",
       "| ENSG00000113504 | -0.005595571 | -0.01876929 |  0.13190629 |  0.01531248 |  1.000000000 |  0.02573308 | -0.009157251 |  0.00701811 |  0.03856403 |  0.069161785 |\n",
       "| ENSG00000174358 |  0.079010830 | -0.17536181 |  0.05823369 | -0.15265107 |  0.025733080 |  1.00000000 | -0.041351802 | -0.27964319 | -0.01417308 | -0.007056436 |\n",
       "\n"
      ],
      "text/plain": [
       "                ENSG00000073578 ENSG00000180104 ENSG00000066230 ENSG00000112877\n",
       "ENSG00000073578  1.000000000    -0.05612548      0.00574107     -0.00739731    \n",
       "ENSG00000180104 -0.056125480     1.00000000     -0.01198212      0.05724206    \n",
       "ENSG00000066230  0.005741070    -0.01198212      1.00000000     -0.24549811    \n",
       "ENSG00000112877 -0.007397310     0.05724206     -0.24549811      1.00000000    \n",
       "ENSG00000113504 -0.005595571    -0.01876929      0.13190629      0.01531248    \n",
       "ENSG00000174358  0.079010830    -0.17536181      0.05823369     -0.15265107    \n",
       "                ENSG00000113504 ENSG00000174358 ENSG00000164362 ENSG00000049656\n",
       "ENSG00000073578 -0.005595571     0.07901083     -0.062200336     0.08899457    \n",
       "ENSG00000180104 -0.018769286    -0.17536181      0.051252334     0.17546878    \n",
       "ENSG00000066230  0.131906294     0.05823369     -0.010682731     0.17484437    \n",
       "ENSG00000112877  0.015312475    -0.15265107      0.027053136     0.05707100    \n",
       "ENSG00000113504  1.000000000     0.02573308     -0.009157251     0.00701811    \n",
       "ENSG00000174358  0.025733080     1.00000000     -0.041351802    -0.27964319    \n",
       "                ENSG00000153395 ENSG00000171421\n",
       "ENSG00000073578 -0.11784006     -0.106602702   \n",
       "ENSG00000180104  0.01845199     -0.082228548   \n",
       "ENSG00000066230  0.12153711     -0.346419367   \n",
       "ENSG00000112877  0.12739757      0.026691514   \n",
       "ENSG00000113504  0.03856403      0.069161785   \n",
       "ENSG00000174358 -0.01417308     -0.007056436   "
      ]
     },
     "metadata": {},
     "output_type": "display_data"
    }
   ],
   "source": [
    "head(gene_corrs[1:10, 1:10])"
   ]
  },
  {
   "cell_type": "markdown",
   "id": "c5c9ffba-1678-4ce7-8988-4ee03e23bdf2",
   "metadata": {
    "papermill": {
     "duration": 0.013528,
     "end_time": "2022-06-18T11:50:05.041805",
     "exception": false,
     "start_time": "2022-06-18T11:50:05.028277",
     "status": "completed"
    },
    "tags": []
   },
   "source": [
    "# Check positive definiteness"
   ]
  },
  {
   "cell_type": "code",
   "execution_count": 17,
   "id": "178854f5-487a-42e8-82b4-625c1979734a",
   "metadata": {
    "execution": {
     "iopub.execute_input": "2022-06-18T11:50:05.084713Z",
     "iopub.status.busy": "2022-06-18T11:50:05.083782Z",
     "iopub.status.idle": "2022-06-18T11:50:05.135297Z",
     "shell.execute_reply": "2022-06-18T11:50:05.133460Z"
    },
    "papermill": {
     "duration": 0.066931,
     "end_time": "2022-06-18T11:50:05.136758",
     "exception": false,
     "start_time": "2022-06-18T11:50:05.069827",
     "status": "completed"
    },
    "tags": []
   },
   "outputs": [
    {
     "data": {
      "text/html": [
       "'We need to correct the data and make the matrix positive definite'"
      ],
      "text/latex": [
       "'We need to correct the data and make the matrix positive definite'"
      ],
      "text/markdown": [
       "'We need to correct the data and make the matrix positive definite'"
      ],
      "text/plain": [
       "[1] \"We need to correct the data and make the matrix positive definite\""
      ]
     },
     "metadata": {},
     "output_type": "display_data"
    },
    {
     "data": {
      "text/html": [
       "FALSE"
      ],
      "text/latex": [
       "FALSE"
      ],
      "text/markdown": [
       "FALSE"
      ],
      "text/plain": [
       "[1] FALSE"
      ]
     },
     "metadata": {},
     "output_type": "display_data"
    }
   ],
   "source": [
    "is_positive_definite(gene_corrs)"
   ]
  },
  {
   "cell_type": "code",
   "execution_count": 18,
   "id": "58542ade-c80f-42e6-acbf-6464dab70fdb",
   "metadata": {
    "execution": {
     "iopub.execute_input": "2022-06-18T11:50:05.150381Z",
     "iopub.status.busy": "2022-06-18T11:50:05.149441Z",
     "iopub.status.idle": "2022-06-18T11:50:05.180154Z",
     "shell.execute_reply": "2022-06-18T11:50:05.178265Z"
    },
    "papermill": {
     "duration": 0.038882,
     "end_time": "2022-06-18T11:50:05.181759",
     "exception": false,
     "start_time": "2022-06-18T11:50:05.142877",
     "status": "completed"
    },
    "tags": []
   },
   "outputs": [],
   "source": [
    "# see eigenvalues\n",
    "eigenvalues <- eigen(gene_corrs)$values"
   ]
  },
  {
   "cell_type": "code",
   "execution_count": 19,
   "id": "9486e0db-e924-43ab-bb6c-0d997fd38f3d",
   "metadata": {
    "execution": {
     "iopub.execute_input": "2022-06-18T11:50:05.195143Z",
     "iopub.status.busy": "2022-06-18T11:50:05.194189Z",
     "iopub.status.idle": "2022-06-18T11:50:05.217402Z",
     "shell.execute_reply": "2022-06-18T11:50:05.215580Z"
    },
    "papermill": {
     "duration": 0.031279,
     "end_time": "2022-06-18T11:50:05.218940",
     "exception": false,
     "start_time": "2022-06-18T11:50:05.187661",
     "status": "completed"
    },
    "tags": []
   },
   "outputs": [
    {
     "data": {
      "text/html": [
       "18"
      ],
      "text/latex": [
       "18"
      ],
      "text/markdown": [
       "18"
      ],
      "text/plain": [
       "[1] 18"
      ]
     },
     "metadata": {},
     "output_type": "display_data"
    },
    {
     "data": {
      "text/html": [
       "<style>\n",
       ".list-inline {list-style: none; margin:0; padding: 0}\n",
       ".list-inline>li {display: inline-block}\n",
       ".list-inline>li:not(:last-child)::after {content: \"\\00b7\"; padding: 0 .5ex}\n",
       "</style>\n",
       "<ol class=list-inline><li>-0.0133617513562077</li><li>-0.0266912225381795</li><li>-0.0456778119934769</li><li>-0.0510624143274781</li><li>-0.0851463012569257</li><li>-0.15514271010975</li><li>-0.16526575059638</li><li>-0.167113867538474</li><li>-0.176236269001551</li><li>-0.22542423520818</li><li>-0.267838583610668</li><li>-0.434117401798198</li><li>-0.451290929009438</li><li>-0.589470091900641</li><li>-0.65452123755385</li><li>-0.878754749001041</li><li>-0.937347197879048</li><li>-1.06010012431029</li></ol>\n"
      ],
      "text/latex": [
       "\\begin{enumerate*}\n",
       "\\item -0.0133617513562077\n",
       "\\item -0.0266912225381795\n",
       "\\item -0.0456778119934769\n",
       "\\item -0.0510624143274781\n",
       "\\item -0.0851463012569257\n",
       "\\item -0.15514271010975\n",
       "\\item -0.16526575059638\n",
       "\\item -0.167113867538474\n",
       "\\item -0.176236269001551\n",
       "\\item -0.22542423520818\n",
       "\\item -0.267838583610668\n",
       "\\item -0.434117401798198\n",
       "\\item -0.451290929009438\n",
       "\\item -0.589470091900641\n",
       "\\item -0.65452123755385\n",
       "\\item -0.878754749001041\n",
       "\\item -0.937347197879048\n",
       "\\item -1.06010012431029\n",
       "\\end{enumerate*}\n"
      ],
      "text/markdown": [
       "1. -0.0133617513562077\n",
       "2. -0.0266912225381795\n",
       "3. -0.0456778119934769\n",
       "4. -0.0510624143274781\n",
       "5. -0.0851463012569257\n",
       "6. -0.15514271010975\n",
       "7. -0.16526575059638\n",
       "8. -0.167113867538474\n",
       "9. -0.176236269001551\n",
       "10. -0.22542423520818\n",
       "11. -0.267838583610668\n",
       "12. -0.434117401798198\n",
       "13. -0.451290929009438\n",
       "14. -0.589470091900641\n",
       "15. -0.65452123755385\n",
       "16. -0.878754749001041\n",
       "17. -0.937347197879048\n",
       "18. -1.06010012431029\n",
       "\n",
       "\n"
      ],
      "text/plain": [
       " [1] -0.01336175 -0.02669122 -0.04567781 -0.05106241 -0.08514630 -0.15514271\n",
       " [7] -0.16526575 -0.16711387 -0.17623627 -0.22542424 -0.26783858 -0.43411740\n",
       "[13] -0.45129093 -0.58947009 -0.65452124 -0.87875475 -0.93734720 -1.06010012"
      ]
     },
     "metadata": {},
     "output_type": "display_data"
    }
   ],
   "source": [
    "nonpositive_eigenvalues <- eigenvalues[eigenvalues <= 0]\n",
    "IRdisplay::display(length(nonpositive_eigenvalues))\n",
    "IRdisplay::display(nonpositive_eigenvalues)"
   ]
  },
  {
   "cell_type": "code",
   "execution_count": 20,
   "id": "410ee452-488f-4518-b93a-2acd608ba99c",
   "metadata": {
    "execution": {
     "iopub.execute_input": "2022-06-18T11:50:05.237756Z",
     "iopub.status.busy": "2022-06-18T11:50:05.236769Z",
     "iopub.status.idle": "2022-06-18T11:50:05.256832Z",
     "shell.execute_reply": "2022-06-18T11:50:05.246937Z"
    },
    "papermill": {
     "duration": 0.03269,
     "end_time": "2022-06-18T11:50:05.258451",
     "exception": false,
     "start_time": "2022-06-18T11:50:05.225761",
     "status": "completed"
    },
    "tags": []
   },
   "outputs": [],
   "source": [
    "if (length(eigenvalues[eigenvalues <= 0]) == 0) { quit() }"
   ]
  },
  {
   "cell_type": "markdown",
   "id": "2d280a82-f231-402d-82ab-9291d395afc1",
   "metadata": {
    "papermill": {
     "duration": 0.005852,
     "end_time": "2022-06-18T11:50:05.270343",
     "exception": false,
     "start_time": "2022-06-18T11:50:05.264491",
     "status": "completed"
    },
    "tags": []
   },
   "source": [
    "# Make matrix positive definite if needed"
   ]
  },
  {
   "cell_type": "code",
   "execution_count": 21,
   "id": "b9037873-4067-4ac6-aa92-e9225a6c9353",
   "metadata": {
    "execution": {
     "iopub.execute_input": "2022-06-18T11:50:05.286816Z",
     "iopub.status.busy": "2022-06-18T11:50:05.285781Z",
     "iopub.status.idle": "2022-06-18T11:50:05.401679Z",
     "shell.execute_reply": "2022-06-18T11:50:05.395938Z"
    },
    "papermill": {
     "duration": 0.124794,
     "end_time": "2022-06-18T11:50:05.403360",
     "exception": false,
     "start_time": "2022-06-18T11:50:05.278566",
     "status": "completed"
    },
    "tags": []
   },
   "outputs": [],
   "source": [
    "gene_corrs_corrected <- CorrectCM(gene_corrs, 1)"
   ]
  },
  {
   "cell_type": "code",
   "execution_count": 22,
   "id": "03c86284-5aac-4f66-86cc-74eb97102a7e",
   "metadata": {
    "execution": {
     "iopub.execute_input": "2022-06-18T11:50:05.429622Z",
     "iopub.status.busy": "2022-06-18T11:50:05.428627Z",
     "iopub.status.idle": "2022-06-18T11:50:05.442662Z",
     "shell.execute_reply": "2022-06-18T11:50:05.439756Z"
    },
    "papermill": {
     "duration": 0.034892,
     "end_time": "2022-06-18T11:50:05.444341",
     "exception": false,
     "start_time": "2022-06-18T11:50:05.409449",
     "status": "completed"
    },
    "tags": []
   },
   "outputs": [],
   "source": [
    "dimnames(gene_corrs_corrected)[[1]] <- rownames(gene_corrs)"
   ]
  },
  {
   "cell_type": "code",
   "execution_count": 23,
   "id": "576e7069-25ff-473d-8158-35b5f2ff212e",
   "metadata": {
    "execution": {
     "iopub.execute_input": "2022-06-18T11:50:05.468842Z",
     "iopub.status.busy": "2022-06-18T11:50:05.467835Z",
     "iopub.status.idle": "2022-06-18T11:50:05.477379Z",
     "shell.execute_reply": "2022-06-18T11:50:05.476273Z"
    },
    "papermill": {
     "duration": 0.024139,
     "end_time": "2022-06-18T11:50:05.478984",
     "exception": false,
     "start_time": "2022-06-18T11:50:05.454845",
     "status": "completed"
    },
    "tags": []
   },
   "outputs": [],
   "source": [
    "dimnames(gene_corrs_corrected)[[2]] <- colnames(gene_corrs)"
   ]
  },
  {
   "cell_type": "code",
   "execution_count": 24,
   "id": "f77d043a-321d-447f-8da5-2503981d3e73",
   "metadata": {
    "execution": {
     "iopub.execute_input": "2022-06-18T11:50:05.493468Z",
     "iopub.status.busy": "2022-06-18T11:50:05.492538Z",
     "iopub.status.idle": "2022-06-18T11:50:05.503363Z",
     "shell.execute_reply": "2022-06-18T11:50:05.502079Z"
    },
    "papermill": {
     "duration": 0.01976,
     "end_time": "2022-06-18T11:50:05.505171",
     "exception": false,
     "start_time": "2022-06-18T11:50:05.485411",
     "status": "completed"
    },
    "tags": []
   },
   "outputs": [],
   "source": [
    "gene_corrs_corrected <- as.data.frame(gene_corrs_corrected)"
   ]
  },
  {
   "cell_type": "code",
   "execution_count": 25,
   "id": "3e844024-f9a2-42a2-bbd0-695cfdbb78f5",
   "metadata": {
    "execution": {
     "iopub.execute_input": "2022-06-18T11:50:05.522068Z",
     "iopub.status.busy": "2022-06-18T11:50:05.521019Z",
     "iopub.status.idle": "2022-06-18T11:50:05.532353Z",
     "shell.execute_reply": "2022-06-18T11:50:05.531035Z"
    },
    "papermill": {
     "duration": 0.021744,
     "end_time": "2022-06-18T11:50:05.534485",
     "exception": false,
     "start_time": "2022-06-18T11:50:05.512741",
     "status": "completed"
    },
    "tags": []
   },
   "outputs": [
    {
     "data": {
      "text/html": [
       "<style>\n",
       ".list-inline {list-style: none; margin:0; padding: 0}\n",
       ".list-inline>li {display: inline-block}\n",
       ".list-inline>li:not(:last-child)::after {content: \"\\00b7\"; padding: 0 .5ex}\n",
       "</style>\n",
       "<ol class=list-inline><li>306</li><li>306</li></ol>\n"
      ],
      "text/latex": [
       "\\begin{enumerate*}\n",
       "\\item 306\n",
       "\\item 306\n",
       "\\end{enumerate*}\n"
      ],
      "text/markdown": [
       "1. 306\n",
       "2. 306\n",
       "\n",
       "\n"
      ],
      "text/plain": [
       "[1] 306 306"
      ]
     },
     "metadata": {},
     "output_type": "display_data"
    }
   ],
   "source": [
    "dim(gene_corrs_corrected)"
   ]
  },
  {
   "cell_type": "markdown",
   "id": "244b6bde-4ca8-46d1-acc7-b4c35b5d3c62",
   "metadata": {
    "papermill": {
     "duration": 0.007231,
     "end_time": "2022-06-18T11:50:05.549443",
     "exception": false,
     "start_time": "2022-06-18T11:50:05.542212",
     "status": "completed"
    },
    "tags": []
   },
   "source": [
    "# Check positive definiteness of corrected matrix"
   ]
  },
  {
   "cell_type": "code",
   "execution_count": 26,
   "id": "0fd5b688-e137-4619-910c-35130d32d600",
   "metadata": {
    "execution": {
     "iopub.execute_input": "2022-06-18T11:50:05.565457Z",
     "iopub.status.busy": "2022-06-18T11:50:05.564420Z",
     "iopub.status.idle": "2022-06-18T11:50:05.613169Z",
     "shell.execute_reply": "2022-06-18T11:50:05.611986Z"
    },
    "papermill": {
     "duration": 0.0583,
     "end_time": "2022-06-18T11:50:05.614676",
     "exception": false,
     "start_time": "2022-06-18T11:50:05.556376",
     "status": "completed"
    },
    "tags": []
   },
   "outputs": [
    {
     "data": {
      "text/html": [
       "'Matrix is already positive definite!'"
      ],
      "text/latex": [
       "'Matrix is already positive definite!'"
      ],
      "text/markdown": [
       "'Matrix is already positive definite!'"
      ],
      "text/plain": [
       "[1] \"Matrix is already positive definite!\""
      ]
     },
     "metadata": {},
     "output_type": "display_data"
    },
    {
     "data": {
      "text/html": [
       "TRUE"
      ],
      "text/latex": [
       "TRUE"
      ],
      "text/markdown": [
       "TRUE"
      ],
      "text/plain": [
       "[1] TRUE"
      ]
     },
     "metadata": {},
     "output_type": "display_data"
    }
   ],
   "source": [
    "is_positive_definite(gene_corrs_corrected)"
   ]
  },
  {
   "cell_type": "code",
   "execution_count": 27,
   "id": "06d23ab8-bebb-474c-be33-dca7e53c1717",
   "metadata": {
    "execution": {
     "iopub.execute_input": "2022-06-18T11:50:05.630409Z",
     "iopub.status.busy": "2022-06-18T11:50:05.629332Z",
     "iopub.status.idle": "2022-06-18T11:50:05.662223Z",
     "shell.execute_reply": "2022-06-18T11:50:05.661073Z"
    },
    "papermill": {
     "duration": 0.042148,
     "end_time": "2022-06-18T11:50:05.663685",
     "exception": false,
     "start_time": "2022-06-18T11:50:05.621537",
     "status": "completed"
    },
    "tags": []
   },
   "outputs": [],
   "source": [
    "# see eigenvalues\n",
    "eigenvalues <- eigen(gene_corrs_corrected)$values"
   ]
  },
  {
   "cell_type": "code",
   "execution_count": 28,
   "id": "ddf8afb8-e0e2-4b4e-876d-12bd6856c1ad",
   "metadata": {
    "execution": {
     "iopub.execute_input": "2022-06-18T11:50:05.678511Z",
     "iopub.status.busy": "2022-06-18T11:50:05.677618Z",
     "iopub.status.idle": "2022-06-18T11:50:05.696780Z",
     "shell.execute_reply": "2022-06-18T11:50:05.694834Z"
    },
    "papermill": {
     "duration": 0.028103,
     "end_time": "2022-06-18T11:50:05.698350",
     "exception": false,
     "start_time": "2022-06-18T11:50:05.670247",
     "status": "completed"
    },
    "tags": []
   },
   "outputs": [
    {
     "data": {
      "text/html": [
       "0"
      ],
      "text/latex": [
       "0"
      ],
      "text/markdown": [
       "0"
      ],
      "text/plain": [
       "[1] 0"
      ]
     },
     "metadata": {},
     "output_type": "display_data"
    },
    {
     "data": {
      "text/html": [],
      "text/latex": [],
      "text/markdown": [],
      "text/plain": [
       "numeric(0)"
      ]
     },
     "metadata": {},
     "output_type": "display_data"
    }
   ],
   "source": [
    "nonpositive_eigenvalues <- eigenvalues[eigenvalues <= 0]\n",
    "IRdisplay::display(length(nonpositive_eigenvalues))\n",
    "IRdisplay::display(nonpositive_eigenvalues)"
   ]
  },
  {
   "cell_type": "code",
   "execution_count": 29,
   "id": "712fd71a-b6ec-4a13-a956-80c99be7f585",
   "metadata": {
    "execution": {
     "iopub.execute_input": "2022-06-18T11:50:05.714130Z",
     "iopub.status.busy": "2022-06-18T11:50:05.713098Z",
     "iopub.status.idle": "2022-06-18T11:50:05.723759Z",
     "shell.execute_reply": "2022-06-18T11:50:05.721803Z"
    },
    "papermill": {
     "duration": 0.020471,
     "end_time": "2022-06-18T11:50:05.725599",
     "exception": false,
     "start_time": "2022-06-18T11:50:05.705128",
     "status": "completed"
    },
    "tags": []
   },
   "outputs": [],
   "source": [
    "stopifnot(length(eigenvalues[eigenvalues <= 0]) == 0)"
   ]
  },
  {
   "cell_type": "code",
   "execution_count": 30,
   "id": "786d6336-3844-40f7-979b-6d6028787f7f",
   "metadata": {
    "execution": {
     "iopub.execute_input": "2022-06-18T11:50:05.743264Z",
     "iopub.status.busy": "2022-06-18T11:50:05.742205Z",
     "iopub.status.idle": "2022-06-18T11:50:05.774061Z",
     "shell.execute_reply": "2022-06-18T11:50:05.772751Z"
    },
    "papermill": {
     "duration": 0.042551,
     "end_time": "2022-06-18T11:50:05.775946",
     "exception": false,
     "start_time": "2022-06-18T11:50:05.733395",
     "status": "completed"
    },
    "tags": []
   },
   "outputs": [
    {
     "data": {
      "text/html": [
       "<table class=\"dataframe\">\n",
       "<caption>A data.frame: 6 × 10</caption>\n",
       "<thead>\n",
       "\t<tr><th></th><th scope=col>ENSG00000073578</th><th scope=col>ENSG00000180104</th><th scope=col>ENSG00000066230</th><th scope=col>ENSG00000112877</th><th scope=col>ENSG00000113504</th><th scope=col>ENSG00000174358</th><th scope=col>ENSG00000164362</th><th scope=col>ENSG00000049656</th><th scope=col>ENSG00000153395</th><th scope=col>ENSG00000171421</th></tr>\n",
       "\t<tr><th></th><th scope=col>&lt;dbl&gt;</th><th scope=col>&lt;dbl&gt;</th><th scope=col>&lt;dbl&gt;</th><th scope=col>&lt;dbl&gt;</th><th scope=col>&lt;dbl&gt;</th><th scope=col>&lt;dbl&gt;</th><th scope=col>&lt;dbl&gt;</th><th scope=col>&lt;dbl&gt;</th><th scope=col>&lt;dbl&gt;</th><th scope=col>&lt;dbl&gt;</th></tr>\n",
       "</thead>\n",
       "<tbody>\n",
       "\t<tr><th scope=row>ENSG00000073578</th><td> 1.000000000</td><td>-0.05612548</td><td> 0.00574107</td><td>-0.00739731</td><td>-0.005595571</td><td> 0.07901083</td><td>-0.062200336</td><td> 0.08899457</td><td>-0.11784006</td><td>-0.106602702</td></tr>\n",
       "\t<tr><th scope=row>ENSG00000180104</th><td>-0.056125480</td><td> 1.00000000</td><td>-0.01198212</td><td> 0.05724206</td><td>-0.018769286</td><td>-0.17536181</td><td> 0.051252334</td><td> 0.17546878</td><td> 0.01845199</td><td>-0.082228548</td></tr>\n",
       "\t<tr><th scope=row>ENSG00000066230</th><td> 0.005741070</td><td>-0.01198212</td><td> 1.00000000</td><td>-0.24549811</td><td> 0.131906294</td><td> 0.05823369</td><td>-0.010682731</td><td> 0.17484437</td><td> 0.12153711</td><td>-0.346419367</td></tr>\n",
       "\t<tr><th scope=row>ENSG00000112877</th><td>-0.007397310</td><td> 0.05724206</td><td>-0.24549811</td><td> 1.00000000</td><td> 0.015312475</td><td>-0.15265107</td><td> 0.027053136</td><td> 0.05707100</td><td> 0.12739757</td><td> 0.026691514</td></tr>\n",
       "\t<tr><th scope=row>ENSG00000113504</th><td>-0.005595571</td><td>-0.01876929</td><td> 0.13190629</td><td> 0.01531248</td><td> 1.000000000</td><td> 0.02573308</td><td>-0.009157251</td><td> 0.00701811</td><td> 0.03856403</td><td> 0.069161785</td></tr>\n",
       "\t<tr><th scope=row>ENSG00000174358</th><td> 0.079010830</td><td>-0.17536181</td><td> 0.05823369</td><td>-0.15265107</td><td> 0.025733080</td><td> 1.00000000</td><td>-0.041351802</td><td>-0.27964319</td><td>-0.01417308</td><td>-0.007056436</td></tr>\n",
       "</tbody>\n",
       "</table>\n"
      ],
      "text/latex": [
       "A data.frame: 6 × 10\n",
       "\\begin{tabular}{r|llllllllll}\n",
       "  & ENSG00000073578 & ENSG00000180104 & ENSG00000066230 & ENSG00000112877 & ENSG00000113504 & ENSG00000174358 & ENSG00000164362 & ENSG00000049656 & ENSG00000153395 & ENSG00000171421\\\\\n",
       "  & <dbl> & <dbl> & <dbl> & <dbl> & <dbl> & <dbl> & <dbl> & <dbl> & <dbl> & <dbl>\\\\\n",
       "\\hline\n",
       "\tENSG00000073578 &  1.000000000 & -0.05612548 &  0.00574107 & -0.00739731 & -0.005595571 &  0.07901083 & -0.062200336 &  0.08899457 & -0.11784006 & -0.106602702\\\\\n",
       "\tENSG00000180104 & -0.056125480 &  1.00000000 & -0.01198212 &  0.05724206 & -0.018769286 & -0.17536181 &  0.051252334 &  0.17546878 &  0.01845199 & -0.082228548\\\\\n",
       "\tENSG00000066230 &  0.005741070 & -0.01198212 &  1.00000000 & -0.24549811 &  0.131906294 &  0.05823369 & -0.010682731 &  0.17484437 &  0.12153711 & -0.346419367\\\\\n",
       "\tENSG00000112877 & -0.007397310 &  0.05724206 & -0.24549811 &  1.00000000 &  0.015312475 & -0.15265107 &  0.027053136 &  0.05707100 &  0.12739757 &  0.026691514\\\\\n",
       "\tENSG00000113504 & -0.005595571 & -0.01876929 &  0.13190629 &  0.01531248 &  1.000000000 &  0.02573308 & -0.009157251 &  0.00701811 &  0.03856403 &  0.069161785\\\\\n",
       "\tENSG00000174358 &  0.079010830 & -0.17536181 &  0.05823369 & -0.15265107 &  0.025733080 &  1.00000000 & -0.041351802 & -0.27964319 & -0.01417308 & -0.007056436\\\\\n",
       "\\end{tabular}\n"
      ],
      "text/markdown": [
       "\n",
       "A data.frame: 6 × 10\n",
       "\n",
       "| <!--/--> | ENSG00000073578 &lt;dbl&gt; | ENSG00000180104 &lt;dbl&gt; | ENSG00000066230 &lt;dbl&gt; | ENSG00000112877 &lt;dbl&gt; | ENSG00000113504 &lt;dbl&gt; | ENSG00000174358 &lt;dbl&gt; | ENSG00000164362 &lt;dbl&gt; | ENSG00000049656 &lt;dbl&gt; | ENSG00000153395 &lt;dbl&gt; | ENSG00000171421 &lt;dbl&gt; |\n",
       "|---|---|---|---|---|---|---|---|---|---|---|\n",
       "| ENSG00000073578 |  1.000000000 | -0.05612548 |  0.00574107 | -0.00739731 | -0.005595571 |  0.07901083 | -0.062200336 |  0.08899457 | -0.11784006 | -0.106602702 |\n",
       "| ENSG00000180104 | -0.056125480 |  1.00000000 | -0.01198212 |  0.05724206 | -0.018769286 | -0.17536181 |  0.051252334 |  0.17546878 |  0.01845199 | -0.082228548 |\n",
       "| ENSG00000066230 |  0.005741070 | -0.01198212 |  1.00000000 | -0.24549811 |  0.131906294 |  0.05823369 | -0.010682731 |  0.17484437 |  0.12153711 | -0.346419367 |\n",
       "| ENSG00000112877 | -0.007397310 |  0.05724206 | -0.24549811 |  1.00000000 |  0.015312475 | -0.15265107 |  0.027053136 |  0.05707100 |  0.12739757 |  0.026691514 |\n",
       "| ENSG00000113504 | -0.005595571 | -0.01876929 |  0.13190629 |  0.01531248 |  1.000000000 |  0.02573308 | -0.009157251 |  0.00701811 |  0.03856403 |  0.069161785 |\n",
       "| ENSG00000174358 |  0.079010830 | -0.17536181 |  0.05823369 | -0.15265107 |  0.025733080 |  1.00000000 | -0.041351802 | -0.27964319 | -0.01417308 | -0.007056436 |\n",
       "\n"
      ],
      "text/plain": [
       "                ENSG00000073578 ENSG00000180104 ENSG00000066230 ENSG00000112877\n",
       "ENSG00000073578  1.000000000    -0.05612548      0.00574107     -0.00739731    \n",
       "ENSG00000180104 -0.056125480     1.00000000     -0.01198212      0.05724206    \n",
       "ENSG00000066230  0.005741070    -0.01198212      1.00000000     -0.24549811    \n",
       "ENSG00000112877 -0.007397310     0.05724206     -0.24549811      1.00000000    \n",
       "ENSG00000113504 -0.005595571    -0.01876929      0.13190629      0.01531248    \n",
       "ENSG00000174358  0.079010830    -0.17536181      0.05823369     -0.15265107    \n",
       "                ENSG00000113504 ENSG00000174358 ENSG00000164362 ENSG00000049656\n",
       "ENSG00000073578 -0.005595571     0.07901083     -0.062200336     0.08899457    \n",
       "ENSG00000180104 -0.018769286    -0.17536181      0.051252334     0.17546878    \n",
       "ENSG00000066230  0.131906294     0.05823369     -0.010682731     0.17484437    \n",
       "ENSG00000112877  0.015312475    -0.15265107      0.027053136     0.05707100    \n",
       "ENSG00000113504  1.000000000     0.02573308     -0.009157251     0.00701811    \n",
       "ENSG00000174358  0.025733080     1.00000000     -0.041351802    -0.27964319    \n",
       "                ENSG00000153395 ENSG00000171421\n",
       "ENSG00000073578 -0.11784006     -0.106602702   \n",
       "ENSG00000180104  0.01845199     -0.082228548   \n",
       "ENSG00000066230  0.12153711     -0.346419367   \n",
       "ENSG00000112877  0.12739757      0.026691514   \n",
       "ENSG00000113504  0.03856403      0.069161785   \n",
       "ENSG00000174358 -0.01417308     -0.007056436   "
      ]
     },
     "metadata": {},
     "output_type": "display_data"
    },
    {
     "data": {
      "text/html": [
       "<table class=\"dataframe\">\n",
       "<caption>A data.frame: 6 × 10</caption>\n",
       "<thead>\n",
       "\t<tr><th></th><th scope=col>ENSG00000073578</th><th scope=col>ENSG00000180104</th><th scope=col>ENSG00000066230</th><th scope=col>ENSG00000112877</th><th scope=col>ENSG00000113504</th><th scope=col>ENSG00000174358</th><th scope=col>ENSG00000164362</th><th scope=col>ENSG00000049656</th><th scope=col>ENSG00000153395</th><th scope=col>ENSG00000171421</th></tr>\n",
       "\t<tr><th></th><th scope=col>&lt;dbl&gt;</th><th scope=col>&lt;dbl&gt;</th><th scope=col>&lt;dbl&gt;</th><th scope=col>&lt;dbl&gt;</th><th scope=col>&lt;dbl&gt;</th><th scope=col>&lt;dbl&gt;</th><th scope=col>&lt;dbl&gt;</th><th scope=col>&lt;dbl&gt;</th><th scope=col>&lt;dbl&gt;</th><th scope=col>&lt;dbl&gt;</th></tr>\n",
       "</thead>\n",
       "<tbody>\n",
       "\t<tr><th scope=row>ENSG00000073578</th><td> 1.00000000</td><td>-0.02385578</td><td> 0.02586042</td><td>-0.04349128</td><td>-0.01609092</td><td> 0.02876361</td><td>-0.063299546</td><td> 0.03408823</td><td>-0.06983502</td><td>-0.03915242</td></tr>\n",
       "\t<tr><th scope=row>ENSG00000180104</th><td>-0.02385578</td><td> 1.00000000</td><td> 0.01251901</td><td> 0.05316903</td><td>-0.01981211</td><td>-0.12027728</td><td>-0.010225739</td><td> 0.09022209</td><td> 0.02813691</td><td>-0.02901164</td></tr>\n",
       "\t<tr><th scope=row>ENSG00000066230</th><td> 0.02586042</td><td> 0.01251901</td><td> 1.00000000</td><td>-0.10273345</td><td> 0.04753210</td><td> 0.02471952</td><td>-0.044812746</td><td> 0.04009000</td><td> 0.02585309</td><td>-0.13961061</td></tr>\n",
       "\t<tr><th scope=row>ENSG00000112877</th><td>-0.04349128</td><td> 0.05316903</td><td>-0.10273345</td><td> 1.00000000</td><td>-0.01987190</td><td>-0.08991721</td><td> 0.021639599</td><td> 0.02951299</td><td> 0.02900528</td><td> 0.07745540</td></tr>\n",
       "\t<tr><th scope=row>ENSG00000113504</th><td>-0.01609092</td><td>-0.01981211</td><td> 0.04753210</td><td>-0.01987190</td><td> 1.00000000</td><td> 0.01719498</td><td>-0.006693077</td><td> 0.01598707</td><td> 0.02487355</td><td> 0.01955773</td></tr>\n",
       "\t<tr><th scope=row>ENSG00000174358</th><td> 0.02876361</td><td>-0.12027728</td><td> 0.02471952</td><td>-0.08991721</td><td> 0.01719498</td><td> 1.00000000</td><td> 0.020803988</td><td>-0.12099929</td><td>-0.02425842</td><td>-0.01393593</td></tr>\n",
       "</tbody>\n",
       "</table>\n"
      ],
      "text/latex": [
       "A data.frame: 6 × 10\n",
       "\\begin{tabular}{r|llllllllll}\n",
       "  & ENSG00000073578 & ENSG00000180104 & ENSG00000066230 & ENSG00000112877 & ENSG00000113504 & ENSG00000174358 & ENSG00000164362 & ENSG00000049656 & ENSG00000153395 & ENSG00000171421\\\\\n",
       "  & <dbl> & <dbl> & <dbl> & <dbl> & <dbl> & <dbl> & <dbl> & <dbl> & <dbl> & <dbl>\\\\\n",
       "\\hline\n",
       "\tENSG00000073578 &  1.00000000 & -0.02385578 &  0.02586042 & -0.04349128 & -0.01609092 &  0.02876361 & -0.063299546 &  0.03408823 & -0.06983502 & -0.03915242\\\\\n",
       "\tENSG00000180104 & -0.02385578 &  1.00000000 &  0.01251901 &  0.05316903 & -0.01981211 & -0.12027728 & -0.010225739 &  0.09022209 &  0.02813691 & -0.02901164\\\\\n",
       "\tENSG00000066230 &  0.02586042 &  0.01251901 &  1.00000000 & -0.10273345 &  0.04753210 &  0.02471952 & -0.044812746 &  0.04009000 &  0.02585309 & -0.13961061\\\\\n",
       "\tENSG00000112877 & -0.04349128 &  0.05316903 & -0.10273345 &  1.00000000 & -0.01987190 & -0.08991721 &  0.021639599 &  0.02951299 &  0.02900528 &  0.07745540\\\\\n",
       "\tENSG00000113504 & -0.01609092 & -0.01981211 &  0.04753210 & -0.01987190 &  1.00000000 &  0.01719498 & -0.006693077 &  0.01598707 &  0.02487355 &  0.01955773\\\\\n",
       "\tENSG00000174358 &  0.02876361 & -0.12027728 &  0.02471952 & -0.08991721 &  0.01719498 &  1.00000000 &  0.020803988 & -0.12099929 & -0.02425842 & -0.01393593\\\\\n",
       "\\end{tabular}\n"
      ],
      "text/markdown": [
       "\n",
       "A data.frame: 6 × 10\n",
       "\n",
       "| <!--/--> | ENSG00000073578 &lt;dbl&gt; | ENSG00000180104 &lt;dbl&gt; | ENSG00000066230 &lt;dbl&gt; | ENSG00000112877 &lt;dbl&gt; | ENSG00000113504 &lt;dbl&gt; | ENSG00000174358 &lt;dbl&gt; | ENSG00000164362 &lt;dbl&gt; | ENSG00000049656 &lt;dbl&gt; | ENSG00000153395 &lt;dbl&gt; | ENSG00000171421 &lt;dbl&gt; |\n",
       "|---|---|---|---|---|---|---|---|---|---|---|\n",
       "| ENSG00000073578 |  1.00000000 | -0.02385578 |  0.02586042 | -0.04349128 | -0.01609092 |  0.02876361 | -0.063299546 |  0.03408823 | -0.06983502 | -0.03915242 |\n",
       "| ENSG00000180104 | -0.02385578 |  1.00000000 |  0.01251901 |  0.05316903 | -0.01981211 | -0.12027728 | -0.010225739 |  0.09022209 |  0.02813691 | -0.02901164 |\n",
       "| ENSG00000066230 |  0.02586042 |  0.01251901 |  1.00000000 | -0.10273345 |  0.04753210 |  0.02471952 | -0.044812746 |  0.04009000 |  0.02585309 | -0.13961061 |\n",
       "| ENSG00000112877 | -0.04349128 |  0.05316903 | -0.10273345 |  1.00000000 | -0.01987190 | -0.08991721 |  0.021639599 |  0.02951299 |  0.02900528 |  0.07745540 |\n",
       "| ENSG00000113504 | -0.01609092 | -0.01981211 |  0.04753210 | -0.01987190 |  1.00000000 |  0.01719498 | -0.006693077 |  0.01598707 |  0.02487355 |  0.01955773 |\n",
       "| ENSG00000174358 |  0.02876361 | -0.12027728 |  0.02471952 | -0.08991721 |  0.01719498 |  1.00000000 |  0.020803988 | -0.12099929 | -0.02425842 | -0.01393593 |\n",
       "\n"
      ],
      "text/plain": [
       "                ENSG00000073578 ENSG00000180104 ENSG00000066230 ENSG00000112877\n",
       "ENSG00000073578  1.00000000     -0.02385578      0.02586042     -0.04349128    \n",
       "ENSG00000180104 -0.02385578      1.00000000      0.01251901      0.05316903    \n",
       "ENSG00000066230  0.02586042      0.01251901      1.00000000     -0.10273345    \n",
       "ENSG00000112877 -0.04349128      0.05316903     -0.10273345      1.00000000    \n",
       "ENSG00000113504 -0.01609092     -0.01981211      0.04753210     -0.01987190    \n",
       "ENSG00000174358  0.02876361     -0.12027728      0.02471952     -0.08991721    \n",
       "                ENSG00000113504 ENSG00000174358 ENSG00000164362 ENSG00000049656\n",
       "ENSG00000073578 -0.01609092      0.02876361     -0.063299546     0.03408823    \n",
       "ENSG00000180104 -0.01981211     -0.12027728     -0.010225739     0.09022209    \n",
       "ENSG00000066230  0.04753210      0.02471952     -0.044812746     0.04009000    \n",
       "ENSG00000112877 -0.01987190     -0.08991721      0.021639599     0.02951299    \n",
       "ENSG00000113504  1.00000000      0.01719498     -0.006693077     0.01598707    \n",
       "ENSG00000174358  0.01719498      1.00000000      0.020803988    -0.12099929    \n",
       "                ENSG00000153395 ENSG00000171421\n",
       "ENSG00000073578 -0.06983502     -0.03915242    \n",
       "ENSG00000180104  0.02813691     -0.02901164    \n",
       "ENSG00000066230  0.02585309     -0.13961061    \n",
       "ENSG00000112877  0.02900528      0.07745540    \n",
       "ENSG00000113504  0.02487355      0.01955773    \n",
       "ENSG00000174358 -0.02425842     -0.01393593    "
      ]
     },
     "metadata": {},
     "output_type": "display_data"
    }
   ],
   "source": [
    "# quick and visual comparison of the two matrices\n",
    "IRdisplay::display(head(gene_corrs[1:10, 1:10]))\n",
    "IRdisplay::display(head(gene_corrs_corrected[1:10, 1:10]))"
   ]
  },
  {
   "cell_type": "markdown",
   "id": "c6c40f1a-d153-475a-94eb-c71697ad9d51",
   "metadata": {
    "papermill": {
     "duration": 0.008888,
     "end_time": "2022-06-18T11:50:05.793445",
     "exception": false,
     "start_time": "2022-06-18T11:50:05.784557",
     "status": "completed"
    },
    "tags": []
   },
   "source": [
    "Both matrices should \"look\" similar. We are not interested in perfectly accurate correlation values (they are already inaccurate)."
   ]
  },
  {
   "cell_type": "markdown",
   "id": "bf0f49cb-9c21-4616-8390-bb68d52dae56",
   "metadata": {
    "papermill": {
     "duration": 0.008539,
     "end_time": "2022-06-18T11:50:05.810583",
     "exception": false,
     "start_time": "2022-06-18T11:50:05.802044",
     "status": "completed"
    },
    "tags": []
   },
   "source": [
    "# Save"
   ]
  },
  {
   "cell_type": "code",
   "execution_count": 31,
   "id": "2e58e7f3-a75c-4195-a20e-39e3e3e1cc9a",
   "metadata": {
    "execution": {
     "iopub.execute_input": "2022-06-18T11:50:05.829949Z",
     "iopub.status.busy": "2022-06-18T11:50:05.828839Z",
     "iopub.status.idle": "2022-06-18T11:50:05.855394Z",
     "shell.execute_reply": "2022-06-18T11:50:05.854085Z"
    },
    "papermill": {
     "duration": 0.037931,
     "end_time": "2022-06-18T11:50:05.857270",
     "exception": false,
     "start_time": "2022-06-18T11:50:05.819339",
     "status": "completed"
    },
    "tags": []
   },
   "outputs": [],
   "source": [
    "py_save_object(gene_corrs_corrected, OUTPUT_FILE)"
   ]
  },
  {
   "cell_type": "code",
   "execution_count": null,
   "id": "d8ae4220-2171-460c-9231-cd5219f3fe77",
   "metadata": {
    "papermill": {
     "duration": 0.008086,
     "end_time": "2022-06-18T11:50:05.873804",
     "exception": false,
     "start_time": "2022-06-18T11:50:05.865718",
     "status": "completed"
    },
    "tags": []
   },
   "outputs": [],
   "source": []
  }
 ],
 "metadata": {
  "jupytext": {
   "cell_metadata_filter": "all,-execution,-papermill,-trusted"
  },
  "kernelspec": {
   "display_name": "R",
   "language": "R",
   "name": "ir"
  },
  "language_info": {
   "codemirror_mode": "r",
   "file_extension": ".r",
   "mimetype": "text/x-r-source",
   "name": "R",
   "pygments_lexer": "r",
   "version": "3.6.3"
  },
  "papermill": {
   "default_parameters": {},
   "duration": 6.036761,
   "end_time": "2022-06-18T11:50:05.998677",
   "environment_variables": {},
   "exception": null,
   "input_path": "nbs/15_gsa_gls/12-gene_expr_correlations-adjust.ipynb",
   "output_path": "nbs/15_gsa_gls/gene_corrs/gtex_v8/mashr/12-gene_expr_correlations-adjust-chr5.run.ipynb",
   "parameters": {
    "EQTL_MODEL": "MASHR",
    "REFERENCE_PANEL": "GTEX_V8",
    "chromosome": 5
   },
   "start_time": "2022-06-18T11:49:59.961916",
   "version": "2.3.4"
  }
 },
 "nbformat": 4,
 "nbformat_minor": 5
}
