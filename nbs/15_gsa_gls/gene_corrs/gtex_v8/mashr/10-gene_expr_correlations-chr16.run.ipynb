{
 "cells": [
  {
   "cell_type": "markdown",
   "id": "7a6632fb",
   "metadata": {
    "papermill": {
     "duration": 0.005852,
     "end_time": "2022-06-16T16:35:15.371848",
     "exception": false,
     "start_time": "2022-06-16T16:35:15.365996",
     "status": "completed"
    },
    "tags": []
   },
   "source": [
    "# Description"
   ]
  },
  {
   "cell_type": "markdown",
   "id": "7097c346",
   "metadata": {
    "papermill": {
     "duration": 0.005016,
     "end_time": "2022-06-16T16:35:15.382025",
     "exception": false,
     "start_time": "2022-06-16T16:35:15.377009",
     "status": "completed"
    },
    "tags": []
   },
   "source": [
    "(Please, take a look at the README.md file in this directory for instructions on how to run this notebook)\n",
    "\n",
    "This notebook computes predicted expression correlations between all genes in the MultiPLIER models.\n",
    "\n",
    "It also has a parameter set for papermill to run on a single chromosome to run in parallel (see under `Settings` below).\n",
    "\n",
    "This notebook is not directly run. See README.md."
   ]
  },
  {
   "cell_type": "markdown",
   "id": "c61d8427",
   "metadata": {
    "papermill": {
     "duration": 0.005391,
     "end_time": "2022-06-16T16:35:15.392519",
     "exception": false,
     "start_time": "2022-06-16T16:35:15.387128",
     "status": "completed"
    },
    "tags": []
   },
   "source": [
    "# Modules"
   ]
  },
  {
   "cell_type": "code",
   "execution_count": 1,
   "id": "bbc0234f",
   "metadata": {
    "execution": {
     "iopub.execute_input": "2022-06-16T16:35:15.416773Z",
     "iopub.status.busy": "2022-06-16T16:35:15.416286Z",
     "iopub.status.idle": "2022-06-16T16:35:15.430969Z",
     "shell.execute_reply": "2022-06-16T16:35:15.430434Z"
    },
    "papermill": {
     "duration": 0.022197,
     "end_time": "2022-06-16T16:35:15.432421",
     "exception": false,
     "start_time": "2022-06-16T16:35:15.410224",
     "status": "completed"
    },
    "tags": []
   },
   "outputs": [],
   "source": [
    "%load_ext autoreload\n",
    "%autoreload 2"
   ]
  },
  {
   "cell_type": "code",
   "execution_count": 2,
   "id": "1d5f5a59",
   "metadata": {
    "execution": {
     "iopub.execute_input": "2022-06-16T16:35:15.444806Z",
     "iopub.status.busy": "2022-06-16T16:35:15.444333Z",
     "iopub.status.idle": "2022-06-16T16:35:16.416508Z",
     "shell.execute_reply": "2022-06-16T16:35:16.415901Z"
    },
    "papermill": {
     "duration": 0.980322,
     "end_time": "2022-06-16T16:35:16.418205",
     "exception": false,
     "start_time": "2022-06-16T16:35:15.437883",
     "status": "completed"
    },
    "tags": []
   },
   "outputs": [],
   "source": [
    "from random import sample\n",
    "import warnings\n",
    "\n",
    "import numpy as np\n",
    "from scipy.spatial.distance import squareform\n",
    "import pandas as pd\n",
    "from tqdm import tqdm\n",
    "import matplotlib.pyplot as plt\n",
    "import seaborn as sns\n",
    "\n",
    "import conf\n",
    "from entity import Gene"
   ]
  },
  {
   "cell_type": "markdown",
   "id": "1eac24b5",
   "metadata": {
    "papermill": {
     "duration": 0.006215,
     "end_time": "2022-06-16T16:35:16.459610",
     "exception": false,
     "start_time": "2022-06-16T16:35:16.453395",
     "status": "completed"
    },
    "tags": []
   },
   "source": [
    "# Settings"
   ]
  },
  {
   "cell_type": "code",
   "execution_count": 3,
   "id": "ca4560ba",
   "metadata": {
    "execution": {
     "iopub.execute_input": "2022-06-16T16:35:16.473374Z",
     "iopub.status.busy": "2022-06-16T16:35:16.473175Z",
     "iopub.status.idle": "2022-06-16T16:35:16.490147Z",
     "shell.execute_reply": "2022-06-16T16:35:16.489587Z"
    },
    "papermill": {
     "duration": 0.025754,
     "end_time": "2022-06-16T16:35:16.491743",
     "exception": false,
     "start_time": "2022-06-16T16:35:16.465989",
     "status": "completed"
    },
    "tags": [
     "parameters"
    ]
   },
   "outputs": [],
   "source": [
    "# reference panel\n",
    "REFERENCE_PANEL = \"GTEX_V8\"\n",
    "# REFERENCE_PANEL = \"1000G\"\n",
    "\n",
    "# prediction models\n",
    "## mashr\n",
    "EQTL_MODEL = \"MASHR\"\n",
    "EQTL_MODEL_FILES_PREFIX = \"mashr_\"\n",
    "\n",
    "# ## elastic net\n",
    "# EQTL_MODEL = \"ELASTIC_NET\"\n",
    "# EQTL_MODEL_FILES_PREFIX = \"en_\"\n",
    "\n",
    "# make it read the prefix from conf.py\n",
    "EQTL_MODEL_FILES_PREFIX = None\n",
    "\n",
    "# this is the default value used in S-MultiXcan to select the\n",
    "# top principal components of the expression correlation matrix\n",
    "SMULTIXCAN_CONDITION_NUMBER = 30\n",
    "\n",
    "# specifies a single chromosome value\n",
    "# by default, run on all chromosomes\n",
    "chromosome = None"
   ]
  },
  {
   "cell_type": "code",
   "execution_count": 4,
   "id": "95119660",
   "metadata": {
    "execution": {
     "iopub.execute_input": "2022-06-16T16:35:16.505015Z",
     "iopub.status.busy": "2022-06-16T16:35:16.504499Z",
     "iopub.status.idle": "2022-06-16T16:35:16.520082Z",
     "shell.execute_reply": "2022-06-16T16:35:16.519525Z"
    },
    "papermill": {
     "duration": 0.02367,
     "end_time": "2022-06-16T16:35:16.521559",
     "exception": false,
     "start_time": "2022-06-16T16:35:16.497889",
     "status": "completed"
    },
    "tags": [
     "injected-parameters"
    ]
   },
   "outputs": [],
   "source": [
    "# Parameters\n",
    "chromosome = 16\n",
    "REFERENCE_PANEL = \"GTEX_V8\"\n",
    "EQTL_MODEL = \"MASHR\"\n"
   ]
  },
  {
   "cell_type": "code",
   "execution_count": 5,
   "id": "a089c9ff",
   "metadata": {
    "execution": {
     "iopub.execute_input": "2022-06-16T16:35:16.534456Z",
     "iopub.status.busy": "2022-06-16T16:35:16.533882Z",
     "iopub.status.idle": "2022-06-16T16:35:16.549295Z",
     "shell.execute_reply": "2022-06-16T16:35:16.548725Z"
    },
    "papermill": {
     "duration": 0.023313,
     "end_time": "2022-06-16T16:35:16.550771",
     "exception": false,
     "start_time": "2022-06-16T16:35:16.527458",
     "status": "completed"
    },
    "tags": []
   },
   "outputs": [],
   "source": [
    "if EQTL_MODEL_FILES_PREFIX is None:\n",
    "    EQTL_MODEL_FILES_PREFIX = conf.PHENOMEXCAN[\"PREDICTION_MODELS\"][\n",
    "        f\"{EQTL_MODEL}_PREFIX\"\n",
    "    ]"
   ]
  },
  {
   "cell_type": "code",
   "execution_count": 6,
   "id": "8fe24bef",
   "metadata": {
    "execution": {
     "iopub.execute_input": "2022-06-16T16:35:16.563337Z",
     "iopub.status.busy": "2022-06-16T16:35:16.562840Z",
     "iopub.status.idle": "2022-06-16T16:35:16.581142Z",
     "shell.execute_reply": "2022-06-16T16:35:16.580581Z"
    },
    "papermill": {
     "duration": 0.026009,
     "end_time": "2022-06-16T16:35:16.582535",
     "exception": false,
     "start_time": "2022-06-16T16:35:16.556526",
     "status": "completed"
    },
    "tags": []
   },
   "outputs": [
    {
     "data": {
      "text/plain": [
       "'Using eQTL model: MASHR / mashr_'"
      ]
     },
     "metadata": {},
     "output_type": "display_data"
    }
   ],
   "source": [
    "display(f\"Using eQTL model: {EQTL_MODEL} / {EQTL_MODEL_FILES_PREFIX}\")"
   ]
  },
  {
   "cell_type": "code",
   "execution_count": 7,
   "id": "0230ebcb-2c32-4b95-9292-d9a52038e70d",
   "metadata": {
    "execution": {
     "iopub.execute_input": "2022-06-16T16:35:16.614971Z",
     "iopub.status.busy": "2022-06-16T16:35:16.614655Z",
     "iopub.status.idle": "2022-06-16T16:35:16.629231Z",
     "shell.execute_reply": "2022-06-16T16:35:16.628721Z"
    },
    "papermill": {
     "duration": 0.037369,
     "end_time": "2022-06-16T16:35:16.630614",
     "exception": false,
     "start_time": "2022-06-16T16:35:16.593245",
     "status": "completed"
    },
    "tags": []
   },
   "outputs": [],
   "source": [
    "REFERENCE_PANEL_DIR = conf.PHENOMEXCAN[\"LD_BLOCKS\"][f\"{REFERENCE_PANEL}_GENOTYPE_DIR\"]"
   ]
  },
  {
   "cell_type": "code",
   "execution_count": 8,
   "id": "98c4a159-601d-4a22-a1ab-35bd451c25f9",
   "metadata": {
    "execution": {
     "iopub.execute_input": "2022-06-16T16:35:16.642982Z",
     "iopub.status.busy": "2022-06-16T16:35:16.642566Z",
     "iopub.status.idle": "2022-06-16T16:35:16.658230Z",
     "shell.execute_reply": "2022-06-16T16:35:16.657711Z"
    },
    "papermill": {
     "duration": 0.023374,
     "end_time": "2022-06-16T16:35:16.659573",
     "exception": false,
     "start_time": "2022-06-16T16:35:16.636199",
     "status": "completed"
    },
    "tags": []
   },
   "outputs": [
    {
     "data": {
      "text/plain": [
       "'Using reference panel folder: /opt/data/data/phenomexcan/ld_blocks/reference_panel_gtex_v8'"
      ]
     },
     "metadata": {},
     "output_type": "display_data"
    }
   ],
   "source": [
    "display(f\"Using reference panel folder: {str(REFERENCE_PANEL_DIR)}\")"
   ]
  },
  {
   "cell_type": "code",
   "execution_count": 9,
   "id": "396392dc-0340-4540-9b02-e182b833f909",
   "metadata": {
    "execution": {
     "iopub.execute_input": "2022-06-16T16:35:16.672404Z",
     "iopub.status.busy": "2022-06-16T16:35:16.671922Z",
     "iopub.status.idle": "2022-06-16T16:35:16.687199Z",
     "shell.execute_reply": "2022-06-16T16:35:16.686651Z"
    },
    "papermill": {
     "duration": 0.023139,
     "end_time": "2022-06-16T16:35:16.688561",
     "exception": false,
     "start_time": "2022-06-16T16:35:16.665422",
     "status": "completed"
    },
    "tags": []
   },
   "outputs": [],
   "source": [
    "OUTPUT_DIR_BASE = (\n",
    "    conf.PHENOMEXCAN[\"LD_BLOCKS\"][f\"GENE_CORRS_DIR\"]\n",
    "    / REFERENCE_PANEL.lower()\n",
    "    / EQTL_MODEL.lower()\n",
    ")\n",
    "OUTPUT_DIR_BASE.mkdir(parents=True, exist_ok=True)"
   ]
  },
  {
   "cell_type": "code",
   "execution_count": 10,
   "id": "8942c2d3-e53c-4d63-a0eb-b6fce0574d36",
   "metadata": {
    "execution": {
     "iopub.execute_input": "2022-06-16T16:35:16.701470Z",
     "iopub.status.busy": "2022-06-16T16:35:16.700953Z",
     "iopub.status.idle": "2022-06-16T16:35:16.717459Z",
     "shell.execute_reply": "2022-06-16T16:35:16.716942Z"
    },
    "papermill": {
     "duration": 0.024396,
     "end_time": "2022-06-16T16:35:16.718860",
     "exception": false,
     "start_time": "2022-06-16T16:35:16.694464",
     "status": "completed"
    },
    "tags": []
   },
   "outputs": [
    {
     "data": {
      "text/plain": [
       "'Using output dir base: /opt/data/data/phenomexcan/ld_blocks/gene_corrs/gtex_v8/mashr'"
      ]
     },
     "metadata": {},
     "output_type": "display_data"
    }
   ],
   "source": [
    "display(f\"Using output dir base: {OUTPUT_DIR_BASE}\")"
   ]
  },
  {
   "cell_type": "code",
   "execution_count": 11,
   "id": "408aa590",
   "metadata": {
    "execution": {
     "iopub.execute_input": "2022-06-16T16:35:16.732240Z",
     "iopub.status.busy": "2022-06-16T16:35:16.731686Z",
     "iopub.status.idle": "2022-06-16T16:35:16.746694Z",
     "shell.execute_reply": "2022-06-16T16:35:16.746145Z"
    },
    "papermill": {
     "duration": 0.023094,
     "end_time": "2022-06-16T16:35:16.748114",
     "exception": false,
     "start_time": "2022-06-16T16:35:16.725020",
     "status": "completed"
    },
    "tags": []
   },
   "outputs": [],
   "source": [
    "assert (\n",
    "    chromosome is not None\n",
    "), \"You have to select one chromosome (format: number between 1 and 22)\""
   ]
  },
  {
   "cell_type": "code",
   "execution_count": 12,
   "id": "c1c7dd06-80ff-453c-bcb7-0899edce75da",
   "metadata": {
    "execution": {
     "iopub.execute_input": "2022-06-16T16:35:16.761427Z",
     "iopub.status.busy": "2022-06-16T16:35:16.760860Z",
     "iopub.status.idle": "2022-06-16T16:35:16.775722Z",
     "shell.execute_reply": "2022-06-16T16:35:16.775212Z"
    },
    "papermill": {
     "duration": 0.022867,
     "end_time": "2022-06-16T16:35:16.777125",
     "exception": false,
     "start_time": "2022-06-16T16:35:16.754258",
     "status": "completed"
    },
    "tags": []
   },
   "outputs": [],
   "source": [
    "chromosome = str(chromosome)"
   ]
  },
  {
   "cell_type": "code",
   "execution_count": 13,
   "id": "bc17b84c-9c26-47a5-a3ab-7046e72f3ef4",
   "metadata": {
    "execution": {
     "iopub.execute_input": "2022-06-16T16:35:16.790628Z",
     "iopub.status.busy": "2022-06-16T16:35:16.790110Z",
     "iopub.status.idle": "2022-06-16T16:35:16.806052Z",
     "shell.execute_reply": "2022-06-16T16:35:16.805412Z"
    },
    "papermill": {
     "duration": 0.024099,
     "end_time": "2022-06-16T16:35:16.807428",
     "exception": false,
     "start_time": "2022-06-16T16:35:16.783329",
     "status": "completed"
    },
    "tags": []
   },
   "outputs": [
    {
     "data": {
      "text/plain": [
       "'Working on chromosome 16'"
      ]
     },
     "metadata": {},
     "output_type": "display_data"
    }
   ],
   "source": [
    "display(f\"Working on chromosome {chromosome}\")"
   ]
  },
  {
   "cell_type": "markdown",
   "id": "d2ba085e",
   "metadata": {
    "papermill": {
     "duration": 0.005946,
     "end_time": "2022-06-16T16:35:16.819735",
     "exception": false,
     "start_time": "2022-06-16T16:35:16.813789",
     "status": "completed"
    },
    "tags": []
   },
   "source": [
    "# Load data"
   ]
  },
  {
   "cell_type": "markdown",
   "id": "abcc4b3d",
   "metadata": {
    "papermill": {
     "duration": 0.005946,
     "end_time": "2022-06-16T16:35:16.831784",
     "exception": false,
     "start_time": "2022-06-16T16:35:16.825838",
     "status": "completed"
    },
    "tags": []
   },
   "source": [
    "## MultiPLIER Z"
   ]
  },
  {
   "cell_type": "code",
   "execution_count": 14,
   "id": "c48ef527",
   "metadata": {
    "execution": {
     "iopub.execute_input": "2022-06-16T16:35:16.845011Z",
     "iopub.status.busy": "2022-06-16T16:35:16.844540Z",
     "iopub.status.idle": "2022-06-16T16:35:16.887379Z",
     "shell.execute_reply": "2022-06-16T16:35:16.886774Z"
    },
    "papermill": {
     "duration": 0.051216,
     "end_time": "2022-06-16T16:35:16.889098",
     "exception": false,
     "start_time": "2022-06-16T16:35:16.837882",
     "status": "completed"
    },
    "tags": []
   },
   "outputs": [],
   "source": [
    "multiplier_z_genes = pd.read_pickle(\n",
    "    conf.MULTIPLIER[\"MODEL_Z_MATRIX_FILE\"]\n",
    ").index.tolist()"
   ]
  },
  {
   "cell_type": "code",
   "execution_count": 15,
   "id": "0a4ecbd9",
   "metadata": {
    "execution": {
     "iopub.execute_input": "2022-06-16T16:35:16.903546Z",
     "iopub.status.busy": "2022-06-16T16:35:16.903362Z",
     "iopub.status.idle": "2022-06-16T16:35:16.921116Z",
     "shell.execute_reply": "2022-06-16T16:35:16.920540Z"
    },
    "papermill": {
     "duration": 0.026647,
     "end_time": "2022-06-16T16:35:16.922657",
     "exception": false,
     "start_time": "2022-06-16T16:35:16.896010",
     "status": "completed"
    },
    "tags": []
   },
   "outputs": [
    {
     "data": {
      "text/plain": [
       "6750"
      ]
     },
     "execution_count": 15,
     "metadata": {},
     "output_type": "execute_result"
    }
   ],
   "source": [
    "len(multiplier_z_genes)"
   ]
  },
  {
   "cell_type": "code",
   "execution_count": 16,
   "id": "115e8864",
   "metadata": {
    "execution": {
     "iopub.execute_input": "2022-06-16T16:35:16.937013Z",
     "iopub.status.busy": "2022-06-16T16:35:16.936448Z",
     "iopub.status.idle": "2022-06-16T16:35:16.952529Z",
     "shell.execute_reply": "2022-06-16T16:35:16.952046Z"
    },
    "papermill": {
     "duration": 0.024617,
     "end_time": "2022-06-16T16:35:16.953925",
     "exception": false,
     "start_time": "2022-06-16T16:35:16.929308",
     "status": "completed"
    },
    "tags": []
   },
   "outputs": [
    {
     "data": {
      "text/plain": [
       "['GAS6',\n",
       " 'MMP14',\n",
       " 'DSP',\n",
       " 'MARCKSL1',\n",
       " 'SPARC',\n",
       " 'CTSD',\n",
       " 'EPAS1',\n",
       " 'PALLD',\n",
       " 'PHC2',\n",
       " 'LGALS3BP']"
      ]
     },
     "execution_count": 16,
     "metadata": {},
     "output_type": "execute_result"
    }
   ],
   "source": [
    "multiplier_z_genes[:10]"
   ]
  },
  {
   "cell_type": "markdown",
   "id": "7dcb8db7",
   "metadata": {
    "papermill": {
     "duration": 0.006183,
     "end_time": "2022-06-16T16:35:16.966722",
     "exception": false,
     "start_time": "2022-06-16T16:35:16.960539",
     "status": "completed"
    },
    "tags": []
   },
   "source": [
    "## Get gene objects"
   ]
  },
  {
   "cell_type": "code",
   "execution_count": 17,
   "id": "bb932812",
   "metadata": {
    "execution": {
     "iopub.execute_input": "2022-06-16T16:35:16.980436Z",
     "iopub.status.busy": "2022-06-16T16:35:16.979981Z",
     "iopub.status.idle": "2022-06-16T16:35:17.002314Z",
     "shell.execute_reply": "2022-06-16T16:35:17.001723Z"
    },
    "papermill": {
     "duration": 0.030726,
     "end_time": "2022-06-16T16:35:17.003754",
     "exception": false,
     "start_time": "2022-06-16T16:35:16.973028",
     "status": "completed"
    },
    "tags": []
   },
   "outputs": [],
   "source": [
    "multiplier_gene_obj = {\n",
    "    gene_name: Gene(name=gene_name)\n",
    "    for gene_name in multiplier_z_genes\n",
    "    if gene_name in Gene.GENE_NAME_TO_ID_MAP\n",
    "}"
   ]
  },
  {
   "cell_type": "code",
   "execution_count": 18,
   "id": "39533214",
   "metadata": {
    "execution": {
     "iopub.execute_input": "2022-06-16T16:35:17.017993Z",
     "iopub.status.busy": "2022-06-16T16:35:17.017494Z",
     "iopub.status.idle": "2022-06-16T16:35:17.034338Z",
     "shell.execute_reply": "2022-06-16T16:35:17.033743Z"
    },
    "papermill": {
     "duration": 0.025402,
     "end_time": "2022-06-16T16:35:17.035851",
     "exception": false,
     "start_time": "2022-06-16T16:35:17.010449",
     "status": "completed"
    },
    "tags": []
   },
   "outputs": [
    {
     "data": {
      "text/plain": [
       "6454"
      ]
     },
     "execution_count": 18,
     "metadata": {},
     "output_type": "execute_result"
    }
   ],
   "source": [
    "len(multiplier_gene_obj)"
   ]
  },
  {
   "cell_type": "code",
   "execution_count": 19,
   "id": "9a5d0b84",
   "metadata": {
    "execution": {
     "iopub.execute_input": "2022-06-16T16:35:17.050200Z",
     "iopub.status.busy": "2022-06-16T16:35:17.049749Z",
     "iopub.status.idle": "2022-06-16T16:35:17.066579Z",
     "shell.execute_reply": "2022-06-16T16:35:17.066016Z"
    },
    "papermill": {
     "duration": 0.025507,
     "end_time": "2022-06-16T16:35:17.068039",
     "exception": false,
     "start_time": "2022-06-16T16:35:17.042532",
     "status": "completed"
    },
    "tags": []
   },
   "outputs": [
    {
     "data": {
      "text/plain": [
       "'ENSG00000183087'"
      ]
     },
     "execution_count": 19,
     "metadata": {},
     "output_type": "execute_result"
    }
   ],
   "source": [
    "multiplier_gene_obj[\"GAS6\"].ensembl_id"
   ]
  },
  {
   "cell_type": "code",
   "execution_count": 20,
   "id": "e3ffabc7",
   "metadata": {
    "execution": {
     "iopub.execute_input": "2022-06-16T16:35:17.082439Z",
     "iopub.status.busy": "2022-06-16T16:35:17.081962Z",
     "iopub.status.idle": "2022-06-16T16:35:19.166600Z",
     "shell.execute_reply": "2022-06-16T16:35:19.166034Z"
    },
    "papermill": {
     "duration": 2.093355,
     "end_time": "2022-06-16T16:35:19.168103",
     "exception": false,
     "start_time": "2022-06-16T16:35:17.074748",
     "status": "completed"
    },
    "tags": []
   },
   "outputs": [],
   "source": [
    "_gene_obj = list(multiplier_gene_obj.values())\n",
    "\n",
    "genes_info = pd.DataFrame(\n",
    "    {\n",
    "        \"name\": [g.name for g in _gene_obj],\n",
    "        \"id\": [g.ensembl_id for g in _gene_obj],\n",
    "        \"chr\": [g.chromosome for g in _gene_obj],\n",
    "        \"band\": [g.band for g in _gene_obj],\n",
    "        \"start_position\": [g.get_attribute(\"start_position\") for g in _gene_obj],\n",
    "    }\n",
    ")"
   ]
  },
  {
   "cell_type": "code",
   "execution_count": 21,
   "id": "e23519b8",
   "metadata": {
    "execution": {
     "iopub.execute_input": "2022-06-16T16:35:19.181499Z",
     "iopub.status.busy": "2022-06-16T16:35:19.181322Z",
     "iopub.status.idle": "2022-06-16T16:35:19.197717Z",
     "shell.execute_reply": "2022-06-16T16:35:19.197216Z"
    },
    "papermill": {
     "duration": 0.024713,
     "end_time": "2022-06-16T16:35:19.199173",
     "exception": false,
     "start_time": "2022-06-16T16:35:19.174460",
     "status": "completed"
    },
    "tags": []
   },
   "outputs": [
    {
     "data": {
      "text/plain": [
       "(6454, 5)"
      ]
     },
     "execution_count": 21,
     "metadata": {},
     "output_type": "execute_result"
    }
   ],
   "source": [
    "genes_info.shape"
   ]
  },
  {
   "cell_type": "code",
   "execution_count": 22,
   "id": "0d71881c",
   "metadata": {
    "execution": {
     "iopub.execute_input": "2022-06-16T16:35:19.213390Z",
     "iopub.status.busy": "2022-06-16T16:35:19.213179Z",
     "iopub.status.idle": "2022-06-16T16:35:19.235328Z",
     "shell.execute_reply": "2022-06-16T16:35:19.234791Z"
    },
    "papermill": {
     "duration": 0.030869,
     "end_time": "2022-06-16T16:35:19.236771",
     "exception": false,
     "start_time": "2022-06-16T16:35:19.205902",
     "status": "completed"
    },
    "tags": []
   },
   "outputs": [
    {
     "data": {
      "text/html": [
       "<div>\n",
       "<style scoped>\n",
       "    .dataframe tbody tr th:only-of-type {\n",
       "        vertical-align: middle;\n",
       "    }\n",
       "\n",
       "    .dataframe tbody tr th {\n",
       "        vertical-align: top;\n",
       "    }\n",
       "\n",
       "    .dataframe thead th {\n",
       "        text-align: right;\n",
       "    }\n",
       "</style>\n",
       "<table border=\"1\" class=\"dataframe\">\n",
       "  <thead>\n",
       "    <tr style=\"text-align: right;\">\n",
       "      <th></th>\n",
       "      <th>name</th>\n",
       "      <th>id</th>\n",
       "      <th>chr</th>\n",
       "      <th>band</th>\n",
       "      <th>start_position</th>\n",
       "    </tr>\n",
       "  </thead>\n",
       "  <tbody>\n",
       "    <tr>\n",
       "      <th>0</th>\n",
       "      <td>GAS6</td>\n",
       "      <td>ENSG00000183087</td>\n",
       "      <td>13</td>\n",
       "      <td>13q34</td>\n",
       "      <td>113820549.0</td>\n",
       "    </tr>\n",
       "    <tr>\n",
       "      <th>1</th>\n",
       "      <td>MMP14</td>\n",
       "      <td>ENSG00000157227</td>\n",
       "      <td>14</td>\n",
       "      <td>14q11.2</td>\n",
       "      <td>22836560.0</td>\n",
       "    </tr>\n",
       "    <tr>\n",
       "      <th>2</th>\n",
       "      <td>DSP</td>\n",
       "      <td>ENSG00000096696</td>\n",
       "      <td>6</td>\n",
       "      <td>6p24.3</td>\n",
       "      <td>7541617.0</td>\n",
       "    </tr>\n",
       "    <tr>\n",
       "      <th>3</th>\n",
       "      <td>MARCKSL1</td>\n",
       "      <td>ENSG00000175130</td>\n",
       "      <td>1</td>\n",
       "      <td>1p35.1</td>\n",
       "      <td>32333839.0</td>\n",
       "    </tr>\n",
       "    <tr>\n",
       "      <th>4</th>\n",
       "      <td>SPARC</td>\n",
       "      <td>ENSG00000113140</td>\n",
       "      <td>5</td>\n",
       "      <td>5q33.1</td>\n",
       "      <td>151661096.0</td>\n",
       "    </tr>\n",
       "  </tbody>\n",
       "</table>\n",
       "</div>"
      ],
      "text/plain": [
       "       name               id chr     band  start_position\n",
       "0      GAS6  ENSG00000183087  13    13q34     113820549.0\n",
       "1     MMP14  ENSG00000157227  14  14q11.2      22836560.0\n",
       "2       DSP  ENSG00000096696   6   6p24.3       7541617.0\n",
       "3  MARCKSL1  ENSG00000175130   1   1p35.1      32333839.0\n",
       "4     SPARC  ENSG00000113140   5   5q33.1     151661096.0"
      ]
     },
     "execution_count": 22,
     "metadata": {},
     "output_type": "execute_result"
    }
   ],
   "source": [
    "genes_info.head()"
   ]
  },
  {
   "cell_type": "markdown",
   "id": "8c9dbb4a",
   "metadata": {
    "papermill": {
     "duration": 0.006694,
     "end_time": "2022-06-16T16:35:19.250567",
     "exception": false,
     "start_time": "2022-06-16T16:35:19.243873",
     "status": "completed"
    },
    "tags": []
   },
   "source": [
    "## Get tissues names"
   ]
  },
  {
   "cell_type": "code",
   "execution_count": 23,
   "id": "2bc52419",
   "metadata": {
    "execution": {
     "iopub.execute_input": "2022-06-16T16:35:19.265188Z",
     "iopub.status.busy": "2022-06-16T16:35:19.264735Z",
     "iopub.status.idle": "2022-06-16T16:35:19.279691Z",
     "shell.execute_reply": "2022-06-16T16:35:19.279136Z"
    },
    "papermill": {
     "duration": 0.023634,
     "end_time": "2022-06-16T16:35:19.281025",
     "exception": false,
     "start_time": "2022-06-16T16:35:19.257391",
     "status": "completed"
    },
    "tags": []
   },
   "outputs": [],
   "source": [
    "tissues = conf.PHENOMEXCAN[\"PREDICTION_MODELS\"][f\"{EQTL_MODEL}_TISSUES\"].split(\" \")"
   ]
  },
  {
   "cell_type": "code",
   "execution_count": 24,
   "id": "64b293a1",
   "metadata": {
    "execution": {
     "iopub.execute_input": "2022-06-16T16:35:19.308166Z",
     "iopub.status.busy": "2022-06-16T16:35:19.307962Z",
     "iopub.status.idle": "2022-06-16T16:35:19.330382Z",
     "shell.execute_reply": "2022-06-16T16:35:19.329666Z"
    },
    "papermill": {
     "duration": 0.035878,
     "end_time": "2022-06-16T16:35:19.332301",
     "exception": false,
     "start_time": "2022-06-16T16:35:19.296423",
     "status": "completed"
    },
    "tags": []
   },
   "outputs": [
    {
     "data": {
      "text/plain": [
       "['Skin_Not_Sun_Exposed_Suprapubic',\n",
       " 'Cells_EBV-transformed_lymphocytes',\n",
       " 'Brain_Frontal_Cortex_BA9',\n",
       " 'Kidney_Cortex',\n",
       " 'Brain_Substantia_nigra']"
      ]
     },
     "execution_count": 24,
     "metadata": {},
     "output_type": "execute_result"
    }
   ],
   "source": [
    "tissues[:5]"
   ]
  },
  {
   "cell_type": "code",
   "execution_count": 25,
   "id": "48a7202a",
   "metadata": {
    "execution": {
     "iopub.execute_input": "2022-06-16T16:35:19.348737Z",
     "iopub.status.busy": "2022-06-16T16:35:19.348552Z",
     "iopub.status.idle": "2022-06-16T16:35:19.366579Z",
     "shell.execute_reply": "2022-06-16T16:35:19.365997Z"
    },
    "papermill": {
     "duration": 0.028032,
     "end_time": "2022-06-16T16:35:19.368337",
     "exception": false,
     "start_time": "2022-06-16T16:35:19.340305",
     "status": "completed"
    },
    "tags": []
   },
   "outputs": [],
   "source": [
    "assert len(tissues) == 49"
   ]
  },
  {
   "cell_type": "markdown",
   "id": "c8d1038f",
   "metadata": {
    "papermill": {
     "duration": 0.00722,
     "end_time": "2022-06-16T16:35:19.383024",
     "exception": false,
     "start_time": "2022-06-16T16:35:19.375804",
     "status": "completed"
    },
    "tags": []
   },
   "source": [
    "# Test"
   ]
  },
  {
   "cell_type": "code",
   "execution_count": 26,
   "id": "64993abf",
   "metadata": {
    "execution": {
     "iopub.execute_input": "2022-06-16T16:35:19.397963Z",
     "iopub.status.busy": "2022-06-16T16:35:19.397780Z",
     "iopub.status.idle": "2022-06-16T16:35:19.422123Z",
     "shell.execute_reply": "2022-06-16T16:35:19.421560Z"
    },
    "papermill": {
     "duration": 0.033516,
     "end_time": "2022-06-16T16:35:19.423567",
     "exception": false,
     "start_time": "2022-06-16T16:35:19.390051",
     "status": "completed"
    },
    "tags": []
   },
   "outputs": [
    {
     "data": {
      "text/html": [
       "<div>\n",
       "<style scoped>\n",
       "    .dataframe tbody tr th:only-of-type {\n",
       "        vertical-align: middle;\n",
       "    }\n",
       "\n",
       "    .dataframe tbody tr th {\n",
       "        vertical-align: top;\n",
       "    }\n",
       "\n",
       "    .dataframe thead th {\n",
       "        text-align: right;\n",
       "    }\n",
       "</style>\n",
       "<table border=\"1\" class=\"dataframe\">\n",
       "  <thead>\n",
       "    <tr style=\"text-align: right;\">\n",
       "      <th></th>\n",
       "      <th>name</th>\n",
       "      <th>id</th>\n",
       "      <th>chr</th>\n",
       "      <th>band</th>\n",
       "      <th>start_position</th>\n",
       "    </tr>\n",
       "  </thead>\n",
       "  <tbody>\n",
       "    <tr>\n",
       "      <th>172</th>\n",
       "      <td>RRAD</td>\n",
       "      <td>ENSG00000166592</td>\n",
       "      <td>16</td>\n",
       "      <td>16q22.1</td>\n",
       "      <td>66921679.0</td>\n",
       "    </tr>\n",
       "    <tr>\n",
       "      <th>268</th>\n",
       "      <td>CD19</td>\n",
       "      <td>ENSG00000177455</td>\n",
       "      <td>16</td>\n",
       "      <td>16p11.2</td>\n",
       "      <td>28931761.0</td>\n",
       "    </tr>\n",
       "    <tr>\n",
       "      <th>270</th>\n",
       "      <td>IGSF6</td>\n",
       "      <td>ENSG00000140749</td>\n",
       "      <td>16</td>\n",
       "      <td>16p12.2</td>\n",
       "      <td>21639550.0</td>\n",
       "    </tr>\n",
       "    <tr>\n",
       "      <th>281</th>\n",
       "      <td>TNFRSF17</td>\n",
       "      <td>ENSG00000048462</td>\n",
       "      <td>16</td>\n",
       "      <td>16p13.13</td>\n",
       "      <td>11965210.0</td>\n",
       "    </tr>\n",
       "    <tr>\n",
       "      <th>335</th>\n",
       "      <td>MMP25</td>\n",
       "      <td>ENSG00000008516</td>\n",
       "      <td>16</td>\n",
       "      <td>16p13.3</td>\n",
       "      <td>3046561.0</td>\n",
       "    </tr>\n",
       "    <tr>\n",
       "      <th>...</th>\n",
       "      <td>...</td>\n",
       "      <td>...</td>\n",
       "      <td>...</td>\n",
       "      <td>...</td>\n",
       "      <td>...</td>\n",
       "    </tr>\n",
       "    <tr>\n",
       "      <th>6380</th>\n",
       "      <td>ABCC1</td>\n",
       "      <td>ENSG00000103222</td>\n",
       "      <td>16</td>\n",
       "      <td>16p13.11</td>\n",
       "      <td>15949577.0</td>\n",
       "    </tr>\n",
       "    <tr>\n",
       "      <th>6390</th>\n",
       "      <td>PDPR</td>\n",
       "      <td>ENSG00000090857</td>\n",
       "      <td>16</td>\n",
       "      <td>16q22.1</td>\n",
       "      <td>70113626.0</td>\n",
       "    </tr>\n",
       "    <tr>\n",
       "      <th>6392</th>\n",
       "      <td>CSNK2A2</td>\n",
       "      <td>ENSG00000070770</td>\n",
       "      <td>16</td>\n",
       "      <td>16q21</td>\n",
       "      <td>58157907.0</td>\n",
       "    </tr>\n",
       "    <tr>\n",
       "      <th>6438</th>\n",
       "      <td>EXOSC6</td>\n",
       "      <td>ENSG00000223496</td>\n",
       "      <td>16</td>\n",
       "      <td>16q22.1</td>\n",
       "      <td>70246778.0</td>\n",
       "    </tr>\n",
       "    <tr>\n",
       "      <th>6441</th>\n",
       "      <td>LDHD</td>\n",
       "      <td>ENSG00000166816</td>\n",
       "      <td>16</td>\n",
       "      <td>16q23.1</td>\n",
       "      <td>75111860.0</td>\n",
       "    </tr>\n",
       "  </tbody>\n",
       "</table>\n",
       "<p>274 rows × 5 columns</p>\n",
       "</div>"
      ],
      "text/plain": [
       "          name               id chr      band  start_position\n",
       "172       RRAD  ENSG00000166592  16   16q22.1      66921679.0\n",
       "268       CD19  ENSG00000177455  16   16p11.2      28931761.0\n",
       "270      IGSF6  ENSG00000140749  16   16p12.2      21639550.0\n",
       "281   TNFRSF17  ENSG00000048462  16  16p13.13      11965210.0\n",
       "335      MMP25  ENSG00000008516  16   16p13.3       3046561.0\n",
       "...        ...              ...  ..       ...             ...\n",
       "6380     ABCC1  ENSG00000103222  16  16p13.11      15949577.0\n",
       "6390      PDPR  ENSG00000090857  16   16q22.1      70113626.0\n",
       "6392   CSNK2A2  ENSG00000070770  16     16q21      58157907.0\n",
       "6438    EXOSC6  ENSG00000223496  16   16q22.1      70246778.0\n",
       "6441      LDHD  ENSG00000166816  16   16q23.1      75111860.0\n",
       "\n",
       "[274 rows x 5 columns]"
      ]
     },
     "metadata": {},
     "output_type": "display_data"
    }
   ],
   "source": [
    "chromosome_genes_info = genes_info[genes_info[\"chr\"] == chromosome]\n",
    "display(chromosome_genes_info)"
   ]
  },
  {
   "cell_type": "code",
   "execution_count": 27,
   "id": "d2e42726-7de6-46eb-acfc-6323eaa8fae6",
   "metadata": {
    "execution": {
     "iopub.execute_input": "2022-06-16T16:35:19.439325Z",
     "iopub.status.busy": "2022-06-16T16:35:19.438812Z",
     "iopub.status.idle": "2022-06-16T16:35:19.455041Z",
     "shell.execute_reply": "2022-06-16T16:35:19.454528Z"
    },
    "papermill": {
     "duration": 0.025476,
     "end_time": "2022-06-16T16:35:19.456427",
     "exception": false,
     "start_time": "2022-06-16T16:35:19.430951",
     "status": "completed"
    },
    "tags": []
   },
   "outputs": [
    {
     "data": {
      "text/plain": [
       "5"
      ]
     },
     "metadata": {},
     "output_type": "display_data"
    }
   ],
   "source": [
    "_gene_list_ids = sample(chromosome_genes_info[\"id\"].tolist(), 5)\n",
    "selected_chromosome_genes_obj = [Gene(ensembl_id=g_id) for g_id in _gene_list_ids]\n",
    "display(len(selected_chromosome_genes_obj))"
   ]
  },
  {
   "cell_type": "code",
   "execution_count": 28,
   "id": "1b355359",
   "metadata": {
    "execution": {
     "iopub.execute_input": "2022-06-16T16:35:19.472414Z",
     "iopub.status.busy": "2022-06-16T16:35:19.471949Z",
     "iopub.status.idle": "2022-06-16T16:35:26.038826Z",
     "shell.execute_reply": "2022-06-16T16:35:26.038343Z"
    },
    "papermill": {
     "duration": 6.576234,
     "end_time": "2022-06-16T16:35:26.040268",
     "exception": false,
     "start_time": "2022-06-16T16:35:19.464034",
     "status": "completed"
    },
    "tags": []
   },
   "outputs": [
    {
     "name": "stdout",
     "output_type": "stream",
     "text": [
      "MGRN1 / DHX38: 0.0\n",
      "MGRN1 / EDC4: 0.0\n",
      "MGRN1 / ZFP90: 0.0\n",
      "MGRN1 / IL21R: 0.0\n",
      "DHX38 / EDC4: -0.09892448839546243\n",
      "DHX38 / ZFP90: -0.18148621047111724\n",
      "DHX38 / IL21R: 0.0\n",
      "EDC4 / ZFP90: 0.0008576268611718784\n",
      "EDC4 / IL21R: 0.0\n",
      "ZFP90 / IL21R: 0.0\n"
     ]
    }
   ],
   "source": [
    "for gene_idx1 in range(0, len(selected_chromosome_genes_obj) - 1):\n",
    "    gene_obj1 = selected_chromosome_genes_obj[gene_idx1]\n",
    "\n",
    "    for gene_idx2 in range(gene_idx1 + 1, len(selected_chromosome_genes_obj)):\n",
    "        gene_obj2 = selected_chromosome_genes_obj[gene_idx2]\n",
    "\n",
    "        c = gene_obj1.get_ssm_correlation(\n",
    "            gene_obj2,\n",
    "        )\n",
    "\n",
    "        print(f\"{gene_obj1.name} / {gene_obj2.name}: {c}\")"
   ]
  },
  {
   "cell_type": "markdown",
   "id": "d3843e06",
   "metadata": {
    "papermill": {
     "duration": 0.007923,
     "end_time": "2022-06-16T16:35:26.056368",
     "exception": false,
     "start_time": "2022-06-16T16:35:26.048445",
     "status": "completed"
    },
    "tags": []
   },
   "source": [
    "# Compute correlation per chromosome"
   ]
  },
  {
   "cell_type": "code",
   "execution_count": 29,
   "id": "aa674fe4-6794-4eed-98fa-32b39d1d4ace",
   "metadata": {
    "execution": {
     "iopub.execute_input": "2022-06-16T16:35:26.072996Z",
     "iopub.status.busy": "2022-06-16T16:35:26.072813Z",
     "iopub.status.idle": "2022-06-16T16:35:26.088897Z",
     "shell.execute_reply": "2022-06-16T16:35:26.088406Z"
    },
    "papermill": {
     "duration": 0.026035,
     "end_time": "2022-06-16T16:35:26.090321",
     "exception": false,
     "start_time": "2022-06-16T16:35:26.064286",
     "status": "completed"
    },
    "tags": []
   },
   "outputs": [],
   "source": [
    "warnings.filterwarnings(\"error\")"
   ]
  },
  {
   "cell_type": "code",
   "execution_count": 30,
   "id": "cdbb90a1",
   "metadata": {
    "execution": {
     "iopub.execute_input": "2022-06-16T16:35:26.108040Z",
     "iopub.status.busy": "2022-06-16T16:35:26.107838Z",
     "iopub.status.idle": "2022-06-16T21:27:19.115966Z",
     "shell.execute_reply": "2022-06-16T21:27:19.115393Z"
    },
    "papermill": {
     "duration": 17513.019209,
     "end_time": "2022-06-16T21:27:19.117529",
     "exception": false,
     "start_time": "2022-06-16T16:35:26.098320",
     "status": "completed"
    },
    "tags": []
   },
   "outputs": [
    {
     "name": "stdout",
     "output_type": "stream",
     "text": [
      "Number of genes in chromosome: 274\n",
      "Chromosome 16\n",
      "Number of gene combinations: 37401\n"
     ]
    },
    {
     "name": "stderr",
     "output_type": "stream",
     "text": [
      "ENSG00000258839 / ENSG00000258947: 100%|████████████████████| 37401/37401 [4:51:52<00:00,  2.14it/s]"
     ]
    },
    {
     "name": "stdout",
     "output_type": "stream",
     "text": [
      "Min/max values: -0.9999999999999998 / 0.9743096279403722\n"
     ]
    },
    {
     "name": "stderr",
     "output_type": "stream",
     "text": [
      "\n"
     ]
    },
    {
     "data": {
      "text/plain": [
       "PosixPath('/opt/data/data/phenomexcan/ld_blocks/gene_corrs/gtex_v8/mashr/by_chr/gene_corrs-chr16.pkl')"
      ]
     },
     "metadata": {},
     "output_type": "display_data"
    }
   ],
   "source": [
    "# standard checks\n",
    "all_chrs = genes_info[\"chr\"].dropna().unique()\n",
    "assert all_chrs.shape[0] == 22\n",
    "\n",
    "# select chromosome given by the user\n",
    "assert chromosome in all_chrs\n",
    "\n",
    "# run only on the chromosome specified\n",
    "all_chrs = [chromosome]\n",
    "genes_chr = genes_info[genes_info[\"chr\"] == chromosome]\n",
    "print(f\"Number of genes in chromosome: {genes_chr.shape[0]}\", flush=True)\n",
    "\n",
    "# For testing purposes\n",
    "# genes_chr = genes_chr.sample(n=20)\n",
    "\n",
    "# sort genes by starting position to make visualizations better later\n",
    "genes_chr = genes_chr.sort_values(\"start_position\")\n",
    "\n",
    "\n",
    "for chr_num in all_chrs:\n",
    "    print(f\"Chromosome {chr_num}\", flush=True)\n",
    "\n",
    "    # check if results exist\n",
    "    output_dir = OUTPUT_DIR_BASE / \"by_chr\"\n",
    "    output_file = output_dir / f\"gene_corrs-chr{chr_num}.pkl\"\n",
    "\n",
    "    if output_file.exists():\n",
    "        _tmp_data = pd.read_pickle(output_file)\n",
    "\n",
    "        if _tmp_data.shape[0] > 0:\n",
    "            print(\"Already run, stopping.\")\n",
    "            continue\n",
    "\n",
    "    gene_chr_objs = [Gene(ensembl_id=gene_id) for gene_id in genes_chr[\"id\"]]\n",
    "    gene_chr_ids = [g.ensembl_id for g in gene_chr_objs]\n",
    "\n",
    "    n = len(gene_chr_objs)\n",
    "    n_comb = int(n * (n - 1) / 2.0)\n",
    "    print(f\"Number of gene combinations: {n_comb}\", flush=True)\n",
    "\n",
    "    gene_corrs = []\n",
    "\n",
    "    pbar = tqdm(ncols=100, total=n_comb)\n",
    "    i = 0\n",
    "    for gene_idx1 in range(0, len(gene_chr_objs) - 1):\n",
    "        gene_obj1 = gene_chr_objs[gene_idx1]\n",
    "\n",
    "        for gene_idx2 in range(gene_idx1 + 1, len(gene_chr_objs)):\n",
    "            gene_obj2 = gene_chr_objs[gene_idx2]\n",
    "\n",
    "            pbar.set_description(f\"{gene_obj1.ensembl_id} / {gene_obj2.ensembl_id}\")\n",
    "\n",
    "            try:\n",
    "                # FIXME: compute the correlation of the sum of squares of the model using all\n",
    "                # the available tissues; this could be problematic because for some results\n",
    "                # (computed on a specific phenotype/GWAS) we might not have all the tissues\n",
    "                # available, which can certainly bias the correlation estimation.\n",
    "                # Since this depends on the GWAS on a specific phenotype, we should ideally have\n",
    "                # one correlation matrix per GWAS. I should look at how we can improve this.\n",
    "                gene_corrs.append(\n",
    "                    gene_obj1.get_ssm_correlation(\n",
    "                        other_gene=gene_obj2,\n",
    "                        condition_number=SMULTIXCAN_CONDITION_NUMBER,\n",
    "                        reference_panel=REFERENCE_PANEL,\n",
    "                        model_type=EQTL_MODEL,\n",
    "                    )\n",
    "                )\n",
    "            except Warning:\n",
    "                print(\n",
    "                    f\"RuntimeWarning for genes {gene_obj1.ensembl_id} and {gene_obj2.ensembl_id}\",\n",
    "                    flush=True,\n",
    "                )\n",
    "                import traceback\n",
    "\n",
    "                print(traceback.format_exc(), flush=True)\n",
    "            except Exception as e:\n",
    "                print(\n",
    "                    f\"Exception for genes {gene_obj1.ensembl_id} and {gene_obj2.ensembl_id}\",\n",
    "                    flush=True,\n",
    "                )\n",
    "                import traceback\n",
    "\n",
    "                print(traceback.format_exc(), flush=True)\n",
    "                gene_corrs.append(np.nan)\n",
    "\n",
    "            pbar.update(1)\n",
    "\n",
    "    pbar.close()\n",
    "\n",
    "    # testing\n",
    "    gene_corrs_flat = pd.Series(gene_corrs)\n",
    "    print(f\"Min/max values: {gene_corrs_flat.min()} / {gene_corrs_flat.max()}\")\n",
    "    assert gene_corrs_flat.min() >= -1.001\n",
    "    assert gene_corrs_flat.max() <= 1.001\n",
    "\n",
    "    # save\n",
    "    # FIXME: consider saving only the condenced matrix here. See here for\n",
    "    # more details: https://github.com/greenelab/phenoplier/pull/38#discussion_r634600813\n",
    "    gene_corrs_data = squareform(np.array(gene_corrs, dtype=np.float64))\n",
    "    np.fill_diagonal(gene_corrs_data, 1.0)\n",
    "\n",
    "    gene_corrs_df = pd.DataFrame(\n",
    "        data=gene_corrs_data,\n",
    "        index=gene_chr_ids,\n",
    "        columns=gene_chr_ids,\n",
    "    )\n",
    "\n",
    "    output_dir.mkdir(exist_ok=True, parents=True)\n",
    "    display(output_file)\n",
    "\n",
    "    gene_corrs_df.to_pickle(output_file)"
   ]
  },
  {
   "cell_type": "markdown",
   "id": "faa67b51-5373-470f-aa72-2ded53fa6dfe",
   "metadata": {
    "papermill": {
     "duration": 1.902717,
     "end_time": "2022-06-16T21:27:22.808116",
     "exception": false,
     "start_time": "2022-06-16T21:27:20.905399",
     "status": "completed"
    },
    "tags": []
   },
   "source": [
    "# Testing"
   ]
  },
  {
   "cell_type": "code",
   "execution_count": 31,
   "id": "14f7d046-4b55-4896-a56b-990127bcc388",
   "metadata": {
    "execution": {
     "iopub.execute_input": "2022-06-16T21:27:26.313615Z",
     "iopub.status.busy": "2022-06-16T21:27:26.313385Z",
     "iopub.status.idle": "2022-06-16T21:27:26.334951Z",
     "shell.execute_reply": "2022-06-16T21:27:26.334332Z"
    },
    "papermill": {
     "duration": 1.747251,
     "end_time": "2022-06-16T21:27:26.336558",
     "exception": false,
     "start_time": "2022-06-16T21:27:24.589307",
     "status": "completed"
    },
    "tags": []
   },
   "outputs": [
    {
     "data": {
      "text/plain": [
       "(274, 274)"
      ]
     },
     "execution_count": 31,
     "metadata": {},
     "output_type": "execute_result"
    }
   ],
   "source": [
    "gene_corrs_df.shape"
   ]
  },
  {
   "cell_type": "code",
   "execution_count": 32,
   "id": "c7d15414-3297-4537-a7c6-7588c0baeb75",
   "metadata": {
    "execution": {
     "iopub.execute_input": "2022-06-16T21:27:29.702233Z",
     "iopub.status.busy": "2022-06-16T21:27:29.702048Z",
     "iopub.status.idle": "2022-06-16T21:27:29.736813Z",
     "shell.execute_reply": "2022-06-16T21:27:29.736143Z"
    },
    "papermill": {
     "duration": 1.670799,
     "end_time": "2022-06-16T21:27:29.738282",
     "exception": false,
     "start_time": "2022-06-16T21:27:28.067483",
     "status": "completed"
    },
    "tags": []
   },
   "outputs": [
    {
     "data": {
      "text/html": [
       "<div>\n",
       "<style scoped>\n",
       "    .dataframe tbody tr th:only-of-type {\n",
       "        vertical-align: middle;\n",
       "    }\n",
       "\n",
       "    .dataframe tbody tr th {\n",
       "        vertical-align: top;\n",
       "    }\n",
       "\n",
       "    .dataframe thead th {\n",
       "        text-align: right;\n",
       "    }\n",
       "</style>\n",
       "<table border=\"1\" class=\"dataframe\">\n",
       "  <thead>\n",
       "    <tr style=\"text-align: right;\">\n",
       "      <th></th>\n",
       "      <th>ENSG00000161980</th>\n",
       "      <th>ENSG00000103152</th>\n",
       "      <th>ENSG00000206172</th>\n",
       "      <th>ENSG00000086506</th>\n",
       "      <th>ENSG00000076344</th>\n",
       "      <th>ENSG00000103126</th>\n",
       "      <th>ENSG00000086504</th>\n",
       "      <th>ENSG00000103202</th>\n",
       "      <th>ENSG00000242612</th>\n",
       "      <th>ENSG00000090565</th>\n",
       "      <th>...</th>\n",
       "      <th>ENSG00000051523</th>\n",
       "      <th>ENSG00000167508</th>\n",
       "      <th>ENSG00000167513</th>\n",
       "      <th>ENSG00000198931</th>\n",
       "      <th>ENSG00000141012</th>\n",
       "      <th>ENSG00000129993</th>\n",
       "      <th>ENSG00000167526</th>\n",
       "      <th>ENSG00000187741</th>\n",
       "      <th>ENSG00000258839</th>\n",
       "      <th>ENSG00000258947</th>\n",
       "    </tr>\n",
       "  </thead>\n",
       "  <tbody>\n",
       "    <tr>\n",
       "      <th>ENSG00000161980</th>\n",
       "      <td>1.000000</td>\n",
       "      <td>-0.266730</td>\n",
       "      <td>-0.181153</td>\n",
       "      <td>-0.224207</td>\n",
       "      <td>0.192009</td>\n",
       "      <td>-0.147435</td>\n",
       "      <td>0.071889</td>\n",
       "      <td>0.300649</td>\n",
       "      <td>-0.425757</td>\n",
       "      <td>-0.217509</td>\n",
       "      <td>...</td>\n",
       "      <td>0.0</td>\n",
       "      <td>0.0</td>\n",
       "      <td>0.0</td>\n",
       "      <td>0.0</td>\n",
       "      <td>0.0</td>\n",
       "      <td>0.0</td>\n",
       "      <td>0.0</td>\n",
       "      <td>0.0</td>\n",
       "      <td>0.0</td>\n",
       "      <td>0.0</td>\n",
       "    </tr>\n",
       "    <tr>\n",
       "      <th>ENSG00000103152</th>\n",
       "      <td>-0.266730</td>\n",
       "      <td>1.000000</td>\n",
       "      <td>0.096556</td>\n",
       "      <td>0.124980</td>\n",
       "      <td>-0.074225</td>\n",
       "      <td>-0.035227</td>\n",
       "      <td>-0.001852</td>\n",
       "      <td>0.007358</td>\n",
       "      <td>0.106593</td>\n",
       "      <td>0.244214</td>\n",
       "      <td>...</td>\n",
       "      <td>0.0</td>\n",
       "      <td>0.0</td>\n",
       "      <td>0.0</td>\n",
       "      <td>0.0</td>\n",
       "      <td>0.0</td>\n",
       "      <td>0.0</td>\n",
       "      <td>0.0</td>\n",
       "      <td>0.0</td>\n",
       "      <td>0.0</td>\n",
       "      <td>0.0</td>\n",
       "    </tr>\n",
       "    <tr>\n",
       "      <th>ENSG00000206172</th>\n",
       "      <td>-0.181153</td>\n",
       "      <td>0.096556</td>\n",
       "      <td>1.000000</td>\n",
       "      <td>0.177077</td>\n",
       "      <td>0.116859</td>\n",
       "      <td>0.133553</td>\n",
       "      <td>-0.076985</td>\n",
       "      <td>0.135401</td>\n",
       "      <td>0.068208</td>\n",
       "      <td>-0.098165</td>\n",
       "      <td>...</td>\n",
       "      <td>0.0</td>\n",
       "      <td>0.0</td>\n",
       "      <td>0.0</td>\n",
       "      <td>0.0</td>\n",
       "      <td>0.0</td>\n",
       "      <td>0.0</td>\n",
       "      <td>0.0</td>\n",
       "      <td>0.0</td>\n",
       "      <td>0.0</td>\n",
       "      <td>0.0</td>\n",
       "    </tr>\n",
       "    <tr>\n",
       "      <th>ENSG00000086506</th>\n",
       "      <td>-0.224207</td>\n",
       "      <td>0.124980</td>\n",
       "      <td>0.177077</td>\n",
       "      <td>1.000000</td>\n",
       "      <td>0.060687</td>\n",
       "      <td>-0.084642</td>\n",
       "      <td>-0.106039</td>\n",
       "      <td>-0.160896</td>\n",
       "      <td>0.228341</td>\n",
       "      <td>0.092627</td>\n",
       "      <td>...</td>\n",
       "      <td>0.0</td>\n",
       "      <td>0.0</td>\n",
       "      <td>0.0</td>\n",
       "      <td>0.0</td>\n",
       "      <td>0.0</td>\n",
       "      <td>0.0</td>\n",
       "      <td>0.0</td>\n",
       "      <td>0.0</td>\n",
       "      <td>0.0</td>\n",
       "      <td>0.0</td>\n",
       "    </tr>\n",
       "    <tr>\n",
       "      <th>ENSG00000076344</th>\n",
       "      <td>0.192009</td>\n",
       "      <td>-0.074225</td>\n",
       "      <td>0.116859</td>\n",
       "      <td>0.060687</td>\n",
       "      <td>1.000000</td>\n",
       "      <td>-0.252965</td>\n",
       "      <td>-0.112546</td>\n",
       "      <td>0.459020</td>\n",
       "      <td>-0.500295</td>\n",
       "      <td>0.065697</td>\n",
       "      <td>...</td>\n",
       "      <td>0.0</td>\n",
       "      <td>0.0</td>\n",
       "      <td>0.0</td>\n",
       "      <td>0.0</td>\n",
       "      <td>0.0</td>\n",
       "      <td>0.0</td>\n",
       "      <td>0.0</td>\n",
       "      <td>0.0</td>\n",
       "      <td>0.0</td>\n",
       "      <td>0.0</td>\n",
       "    </tr>\n",
       "  </tbody>\n",
       "</table>\n",
       "<p>5 rows × 274 columns</p>\n",
       "</div>"
      ],
      "text/plain": [
       "                 ENSG00000161980  ENSG00000103152  ENSG00000206172  \\\n",
       "ENSG00000161980         1.000000        -0.266730        -0.181153   \n",
       "ENSG00000103152        -0.266730         1.000000         0.096556   \n",
       "ENSG00000206172        -0.181153         0.096556         1.000000   \n",
       "ENSG00000086506        -0.224207         0.124980         0.177077   \n",
       "ENSG00000076344         0.192009        -0.074225         0.116859   \n",
       "\n",
       "                 ENSG00000086506  ENSG00000076344  ENSG00000103126  \\\n",
       "ENSG00000161980        -0.224207         0.192009        -0.147435   \n",
       "ENSG00000103152         0.124980        -0.074225        -0.035227   \n",
       "ENSG00000206172         0.177077         0.116859         0.133553   \n",
       "ENSG00000086506         1.000000         0.060687        -0.084642   \n",
       "ENSG00000076344         0.060687         1.000000        -0.252965   \n",
       "\n",
       "                 ENSG00000086504  ENSG00000103202  ENSG00000242612  \\\n",
       "ENSG00000161980         0.071889         0.300649        -0.425757   \n",
       "ENSG00000103152        -0.001852         0.007358         0.106593   \n",
       "ENSG00000206172        -0.076985         0.135401         0.068208   \n",
       "ENSG00000086506        -0.106039        -0.160896         0.228341   \n",
       "ENSG00000076344        -0.112546         0.459020        -0.500295   \n",
       "\n",
       "                 ENSG00000090565  ...  ENSG00000051523  ENSG00000167508  \\\n",
       "ENSG00000161980        -0.217509  ...              0.0              0.0   \n",
       "ENSG00000103152         0.244214  ...              0.0              0.0   \n",
       "ENSG00000206172        -0.098165  ...              0.0              0.0   \n",
       "ENSG00000086506         0.092627  ...              0.0              0.0   \n",
       "ENSG00000076344         0.065697  ...              0.0              0.0   \n",
       "\n",
       "                 ENSG00000167513  ENSG00000198931  ENSG00000141012  \\\n",
       "ENSG00000161980              0.0              0.0              0.0   \n",
       "ENSG00000103152              0.0              0.0              0.0   \n",
       "ENSG00000206172              0.0              0.0              0.0   \n",
       "ENSG00000086506              0.0              0.0              0.0   \n",
       "ENSG00000076344              0.0              0.0              0.0   \n",
       "\n",
       "                 ENSG00000129993  ENSG00000167526  ENSG00000187741  \\\n",
       "ENSG00000161980              0.0              0.0              0.0   \n",
       "ENSG00000103152              0.0              0.0              0.0   \n",
       "ENSG00000206172              0.0              0.0              0.0   \n",
       "ENSG00000086506              0.0              0.0              0.0   \n",
       "ENSG00000076344              0.0              0.0              0.0   \n",
       "\n",
       "                 ENSG00000258839  ENSG00000258947  \n",
       "ENSG00000161980              0.0              0.0  \n",
       "ENSG00000103152              0.0              0.0  \n",
       "ENSG00000206172              0.0              0.0  \n",
       "ENSG00000086506              0.0              0.0  \n",
       "ENSG00000076344              0.0              0.0  \n",
       "\n",
       "[5 rows x 274 columns]"
      ]
     },
     "execution_count": 32,
     "metadata": {},
     "output_type": "execute_result"
    }
   ],
   "source": [
    "gene_corrs_df.head()"
   ]
  },
  {
   "cell_type": "code",
   "execution_count": 33,
   "id": "00583efc-7068-4270-ad1e-4a418e91db96",
   "metadata": {
    "execution": {
     "iopub.execute_input": "2022-06-16T21:27:33.322959Z",
     "iopub.status.busy": "2022-06-16T21:27:33.322753Z",
     "iopub.status.idle": "2022-06-16T21:27:33.361323Z",
     "shell.execute_reply": "2022-06-16T21:27:33.360756Z"
    },
    "papermill": {
     "duration": 1.824743,
     "end_time": "2022-06-16T21:27:33.363033",
     "exception": false,
     "start_time": "2022-06-16T21:27:31.538290",
     "status": "completed"
    },
    "tags": []
   },
   "outputs": [
    {
     "data": {
      "text/plain": [
       "-0.9999999999999998"
      ]
     },
     "metadata": {},
     "output_type": "display_data"
    }
   ],
   "source": [
    "_min_val = gene_corrs_df.min().min()\n",
    "display(_min_val)\n",
    "assert _min_val >= -1.0"
   ]
  },
  {
   "cell_type": "code",
   "execution_count": 34,
   "id": "d04fb2cf-1050-475b-b855-f5f7cc04092b",
   "metadata": {
    "execution": {
     "iopub.execute_input": "2022-06-16T21:27:36.893266Z",
     "iopub.status.busy": "2022-06-16T21:27:36.893074Z",
     "iopub.status.idle": "2022-06-16T21:27:36.912839Z",
     "shell.execute_reply": "2022-06-16T21:27:36.912161Z"
    },
    "papermill": {
     "duration": 1.769222,
     "end_time": "2022-06-16T21:27:36.914380",
     "exception": false,
     "start_time": "2022-06-16T21:27:35.145158",
     "status": "completed"
    },
    "tags": []
   },
   "outputs": [
    {
     "data": {
      "text/plain": [
       "1.0"
      ]
     },
     "metadata": {},
     "output_type": "display_data"
    }
   ],
   "source": [
    "_max_val = gene_corrs_df.max().max()  # this captures the diagonal\n",
    "display(_max_val)\n",
    "assert _max_val <= 1.0"
   ]
  },
  {
   "cell_type": "code",
   "execution_count": 35,
   "id": "96d02c44-1fba-47be-8a93-8f2608420b9c",
   "metadata": {
    "execution": {
     "iopub.execute_input": "2022-06-16T21:27:40.464650Z",
     "iopub.status.busy": "2022-06-16T21:27:40.464450Z",
     "iopub.status.idle": "2022-06-16T21:27:40.483329Z",
     "shell.execute_reply": "2022-06-16T21:27:40.482656Z"
    },
    "papermill": {
     "duration": 1.835976,
     "end_time": "2022-06-16T21:27:40.484816",
     "exception": false,
     "start_time": "2022-06-16T21:27:38.648840",
     "status": "completed"
    },
    "tags": []
   },
   "outputs": [],
   "source": [
    "# check upper triangular values\n",
    "assert len(gene_corrs) == int(genes_chr.shape[0] * (genes_chr.shape[0] - 1) / 2)"
   ]
  },
  {
   "cell_type": "code",
   "execution_count": 36,
   "id": "aaa51627-f4e3-4744-a41f-7d25adcc0a78",
   "metadata": {
    "execution": {
     "iopub.execute_input": "2022-06-16T21:27:43.917966Z",
     "iopub.status.busy": "2022-06-16T21:27:43.917774Z",
     "iopub.status.idle": "2022-06-16T21:27:43.939479Z",
     "shell.execute_reply": "2022-06-16T21:27:43.938877Z"
    },
    "papermill": {
     "duration": 1.753799,
     "end_time": "2022-06-16T21:27:43.940956",
     "exception": false,
     "start_time": "2022-06-16T21:27:42.187157",
     "status": "completed"
    },
    "tags": []
   },
   "outputs": [],
   "source": [
    "gene_corrs = pd.Series(gene_corrs)"
   ]
  },
  {
   "cell_type": "code",
   "execution_count": 37,
   "id": "fe283586-c348-40e0-8841-f6d97bfb021c",
   "metadata": {
    "execution": {
     "iopub.execute_input": "2022-06-16T21:27:47.379891Z",
     "iopub.status.busy": "2022-06-16T21:27:47.379444Z",
     "iopub.status.idle": "2022-06-16T21:27:47.434586Z",
     "shell.execute_reply": "2022-06-16T21:27:47.433996Z"
    },
    "papermill": {
     "duration": 1.780226,
     "end_time": "2022-06-16T21:27:47.436176",
     "exception": false,
     "start_time": "2022-06-16T21:27:45.655950",
     "status": "completed"
    },
    "tags": []
   },
   "outputs": [
    {
     "data": {
      "text/plain": [
       "count    37401.000000\n",
       "mean        -0.000114\n",
       "std          0.068269\n",
       "min         -1.000000\n",
       "25%          0.000000\n",
       "50%          0.000000\n",
       "75%          0.000000\n",
       "max          0.974310\n",
       "dtype: float64"
      ]
     },
     "execution_count": 37,
     "metadata": {},
     "output_type": "execute_result"
    }
   ],
   "source": [
    "gene_corrs.describe()"
   ]
  },
  {
   "cell_type": "code",
   "execution_count": 38,
   "id": "b3815678-0f93-4b35-897b-a9d047a2aa78",
   "metadata": {
    "execution": {
     "iopub.execute_input": "2022-06-16T21:27:50.873905Z",
     "iopub.status.busy": "2022-06-16T21:27:50.873715Z",
     "iopub.status.idle": "2022-06-16T21:27:50.894848Z",
     "shell.execute_reply": "2022-06-16T21:27:50.894264Z"
    },
    "papermill": {
     "duration": 1.774606,
     "end_time": "2022-06-16T21:27:50.896341",
     "exception": false,
     "start_time": "2022-06-16T21:27:49.121735",
     "status": "completed"
    },
    "tags": []
   },
   "outputs": [
    {
     "data": {
      "text/plain": [
       "0.00   -1.000000\n",
       "0.05   -0.054701\n",
       "0.10    0.000000\n",
       "0.15    0.000000\n",
       "0.20    0.000000\n",
       "0.25    0.000000\n",
       "0.30    0.000000\n",
       "0.35    0.000000\n",
       "0.40    0.000000\n",
       "0.45    0.000000\n",
       "0.50    0.000000\n",
       "0.55    0.000000\n",
       "0.60    0.000000\n",
       "0.65    0.000000\n",
       "0.70    0.000000\n",
       "0.75    0.000000\n",
       "0.80    0.000000\n",
       "0.85    0.000000\n",
       "0.90    0.000000\n",
       "0.95    0.055306\n",
       "dtype: float64"
      ]
     },
     "metadata": {},
     "output_type": "display_data"
    }
   ],
   "source": [
    "gene_corrs_quantiles = gene_corrs.quantile(np.arange(0, 1, 0.05))\n",
    "display(gene_corrs_quantiles)"
   ]
  },
  {
   "cell_type": "markdown",
   "id": "8e60a080-edb2-4e9c-b2ef-22961693200c",
   "metadata": {
    "papermill": {
     "duration": 1.649015,
     "end_time": "2022-06-16T21:27:54.301745",
     "exception": false,
     "start_time": "2022-06-16T21:27:52.652730",
     "status": "completed"
    },
    "tags": []
   },
   "source": [
    "## Plot: distribution"
   ]
  },
  {
   "cell_type": "code",
   "execution_count": 39,
   "id": "8301126b-a7d4-4744-9c7d-f0f86eb6f54c",
   "metadata": {
    "execution": {
     "iopub.execute_input": "2022-06-16T21:27:57.654184Z",
     "iopub.status.busy": "2022-06-16T21:27:57.653648Z",
     "iopub.status.idle": "2022-06-16T21:27:58.113246Z",
     "shell.execute_reply": "2022-06-16T21:27:58.112669Z"
    },
    "papermill": {
     "duration": 2.188919,
     "end_time": "2022-06-16T21:27:58.114961",
     "exception": false,
     "start_time": "2022-06-16T21:27:55.926042",
     "status": "completed"
    },
    "tags": []
   },
   "outputs": [
    {
     "data": {
      "image/png": "[encoded data removed]",
      "text/plain": [
       "<Figure size 504x504 with 1 Axes>"
      ]
     },
     "metadata": {
      "needs_background": "light"
     },
     "output_type": "display_data"
    }
   ],
   "source": [
    "with sns.plotting_context(\"paper\", font_scale=1.5):\n",
    "    g = sns.displot(gene_corrs, kde=True, height=7)\n",
    "    g.ax.set_title(\n",
    "        f\"Distribution of gene correlation values in chromosome {chromosome}\"\n",
    "    )"
   ]
  },
  {
   "cell_type": "markdown",
   "id": "cbd52bca-d878-4a2f-b684-5c83aa3038d4",
   "metadata": {
    "papermill": {
     "duration": 1.717101,
     "end_time": "2022-06-16T21:28:01.582455",
     "exception": false,
     "start_time": "2022-06-16T21:27:59.865354",
     "status": "completed"
    },
    "tags": []
   },
   "source": [
    "## Plot: heatmap"
   ]
  },
  {
   "cell_type": "code",
   "execution_count": 40,
   "id": "d03fe63a-c7b2-4fb9-a53c-db362ce843c9",
   "metadata": {
    "execution": {
     "iopub.execute_input": "2022-06-16T21:28:05.042870Z",
     "iopub.status.busy": "2022-06-16T21:28:05.042676Z",
     "iopub.status.idle": "2022-06-16T21:28:05.061616Z",
     "shell.execute_reply": "2022-06-16T21:28:05.061081Z"
    },
    "papermill": {
     "duration": 1.759853,
     "end_time": "2022-06-16T21:28:05.063394",
     "exception": false,
     "start_time": "2022-06-16T21:28:03.303541",
     "status": "completed"
    },
    "tags": []
   },
   "outputs": [
    {
     "data": {
      "text/plain": [
       "'-0.05 / 0.05'"
      ]
     },
     "metadata": {},
     "output_type": "display_data"
    }
   ],
   "source": [
    "vmin_val = min(-0.05, gene_corrs_quantiles[0.10])\n",
    "vmax_val = max(0.05, gene_corrs_quantiles[0.90])\n",
    "display(f\"{vmin_val} / {vmax_val}\")"
   ]
  },
  {
   "cell_type": "code",
   "execution_count": 41,
   "id": "dc41b70b-5bcc-4d9e-9f33-a22c4a94dab5",
   "metadata": {
    "execution": {
     "iopub.execute_input": "2022-06-16T21:28:08.622056Z",
     "iopub.status.busy": "2022-06-16T21:28:08.621857Z",
     "iopub.status.idle": "2022-06-16T21:28:08.844461Z",
     "shell.execute_reply": "2022-06-16T21:28:08.843861Z"
    },
    "papermill": {
     "duration": 2.044457,
     "end_time": "2022-06-16T21:28:08.846167",
     "exception": false,
     "start_time": "2022-06-16T21:28:06.801710",
     "status": "completed"
    },
    "tags": []
   },
   "outputs": [
    {
     "data": {
      "text/plain": [
       "Text(0.5, 1.0, 'Gene correlations in chromosome 16')"
      ]
     },
     "execution_count": 41,
     "metadata": {},
     "output_type": "execute_result"
    },
    {
     "data": {
      "image/png": "[encoded data removed]",
      "text/plain": [
       "<Figure size 720x720 with 2 Axes>"
      ]
     },
     "metadata": {
      "needs_background": "light"
     },
     "output_type": "display_data"
    }
   ],
   "source": [
    "f, ax = plt.subplots(figsize=(10, 10))\n",
    "sns.heatmap(\n",
    "    gene_corrs_df,\n",
    "    xticklabels=False,\n",
    "    yticklabels=False,\n",
    "    square=True,\n",
    "    vmin=vmin_val,\n",
    "    vmax=vmax_val,\n",
    "    cmap=\"YlGnBu\",\n",
    "    ax=ax,\n",
    ")\n",
    "ax.set_title(f\"Gene correlations in chromosome {chromosome}\")"
   ]
  },
  {
   "cell_type": "code",
   "execution_count": null,
   "id": "b25e3ead",
   "metadata": {
    "papermill": {
     "duration": 1.781626,
     "end_time": "2022-06-16T21:28:12.390655",
     "exception": false,
     "start_time": "2022-06-16T21:28:10.609029",
     "status": "completed"
    },
    "tags": []
   },
   "outputs": [],
   "source": []
  }
 ],
 "metadata": {
  "jupytext": {
   "cell_metadata_filter": "all,-execution,-papermill,-trusted",
   "formats": "ipynb,py//py:percent"
  },
  "kernelspec": {
   "display_name": "Python 3 (ipykernel)",
   "language": "python",
   "name": "python3"
  },
  "language_info": {
   "codemirror_mode": {
    "name": "ipython",
    "version": 3
   },
   "file_extension": ".py",
   "mimetype": "text/x-python",
   "name": "python",
   "nbconvert_exporter": "python",
   "pygments_lexer": "ipython3",
   "version": "3.8.13"
  },
  "papermill": {
   "default_parameters": {},
   "duration": 17582.841536,
   "end_time": "2022-06-16T21:28:16.812856",
   "environment_variables": {},
   "exception": null,
   "input_path": "nbs/15_gsa_gls/10-gene_expr_correlations.ipynb",
   "output_path": "nbs/15_gsa_gls/gene_corrs/gtex_v8/mashr/10-gene_expr_correlations-chr16.run.ipynb",
   "parameters": {
    "EQTL_MODEL": "MASHR",
    "REFERENCE_PANEL": "GTEX_V8",
    "chromosome": 16
   },
   "start_time": "2022-06-16T16:35:13.971320",
   "version": "2.2.2"
  }
 },
 "nbformat": 4,
 "nbformat_minor": 5
}
