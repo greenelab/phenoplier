{
 "cells": [
  {
   "cell_type": "markdown",
   "id": "6c1f0ae4-cd27-4fec-a23d-51699e7059e8",
   "metadata": {
    "papermill": {
     "duration": 0.007294,
     "end_time": "2022-06-18T11:49:53.037885",
     "exception": false,
     "start_time": "2022-06-18T11:49:53.030591",
     "status": "completed"
    },
    "tags": []
   },
   "source": [
    "# Description"
   ]
  },
  {
   "cell_type": "markdown",
   "id": "3268a19a-8a83-4f61-aa39-09b084c81d61",
   "metadata": {
    "papermill": {
     "duration": 0.004066,
     "end_time": "2022-06-18T11:49:53.046189",
     "exception": false,
     "start_time": "2022-06-18T11:49:53.042123",
     "status": "completed"
    },
    "tags": []
   },
   "source": [
    "**TODO**"
   ]
  },
  {
   "cell_type": "markdown",
   "id": "401368d3-22c1-4d81-a2c3-c4a81fde4191",
   "metadata": {
    "papermill": {
     "duration": 0.004355,
     "end_time": "2022-06-18T11:49:53.054697",
     "exception": false,
     "start_time": "2022-06-18T11:49:53.050342",
     "status": "completed"
    },
    "tags": []
   },
   "source": [
    "# Modules"
   ]
  },
  {
   "cell_type": "code",
   "execution_count": 1,
   "id": "f9b5022b-7c5e-4d37-9c7a-fdb91777c7f9",
   "metadata": {
    "execution": {
     "iopub.execute_input": "2022-06-18T11:49:53.095986Z",
     "iopub.status.busy": "2022-06-18T11:49:53.093530Z",
     "iopub.status.idle": "2022-06-18T11:49:56.347366Z",
     "shell.execute_reply": "2022-06-18T11:49:56.345248Z"
    },
    "papermill": {
     "duration": 3.290211,
     "end_time": "2022-06-18T11:49:56.349149",
     "exception": false,
     "start_time": "2022-06-18T11:49:53.058938",
     "status": "completed"
    },
    "tags": []
   },
   "outputs": [],
   "source": [
    "library(reticulate)\n",
    "pd <- import(\"pandas\")"
   ]
  },
  {
   "cell_type": "markdown",
   "id": "c1958d6a-0229-47e8-823e-792fcf84fccf",
   "metadata": {
    "papermill": {
     "duration": 0.004798,
     "end_time": "2022-06-18T11:49:56.359128",
     "exception": false,
     "start_time": "2022-06-18T11:49:56.354330",
     "status": "completed"
    },
    "tags": []
   },
   "source": [
    "# Settings"
   ]
  },
  {
   "cell_type": "code",
   "execution_count": 2,
   "id": "22d12bb4-1699-4a6b-b1b9-d3fdd3d547d7",
   "metadata": {
    "execution": {
     "iopub.execute_input": "2022-06-18T11:49:56.393445Z",
     "iopub.status.busy": "2022-06-18T11:49:56.369377Z",
     "iopub.status.idle": "2022-06-18T11:49:56.405362Z",
     "shell.execute_reply": "2022-06-18T11:49:56.404149Z"
    },
    "papermill": {
     "duration": 0.043261,
     "end_time": "2022-06-18T11:49:56.407114",
     "exception": false,
     "start_time": "2022-06-18T11:49:56.363853",
     "status": "completed"
    },
    "tags": [
     "parameters"
    ]
   },
   "outputs": [],
   "source": [
    "# reference panel\n",
    "REFERENCE_PANEL <- \"GTEX_V8\"\n",
    "# REFERENCE_PANEL = \"1000G\"\n",
    "\n",
    "# prediction models\n",
    "## mashr\n",
    "EQTL_MODEL <- \"MASHR\"\n",
    "\n",
    "# ## elastic net\n",
    "# EQTL_MODEL = \"ELASTIC_NET\"\n",
    "\n",
    "chromosome <- NULL"
   ]
  },
  {
   "cell_type": "code",
   "execution_count": 3,
   "id": "2b20455c",
   "metadata": {
    "execution": {
     "iopub.execute_input": "2022-06-18T11:49:56.418850Z",
     "iopub.status.busy": "2022-06-18T11:49:56.417859Z",
     "iopub.status.idle": "2022-06-18T11:49:56.434651Z",
     "shell.execute_reply": "2022-06-18T11:49:56.433382Z"
    },
    "papermill": {
     "duration": 0.024937,
     "end_time": "2022-06-18T11:49:56.437020",
     "exception": false,
     "start_time": "2022-06-18T11:49:56.412083",
     "status": "completed"
    },
    "tags": [
     "injected-parameters"
    ]
   },
   "outputs": [],
   "source": [
    "# Parameters\n",
    "chromosome = 1\n",
    "REFERENCE_PANEL = \"GTEX_V8\"\n",
    "EQTL_MODEL = \"MASHR\"\n"
   ]
  },
  {
   "cell_type": "code",
   "execution_count": 4,
   "id": "8fe24bef",
   "metadata": {
    "execution": {
     "iopub.execute_input": "2022-06-18T11:49:56.450009Z",
     "iopub.status.busy": "2022-06-18T11:49:56.448920Z",
     "iopub.status.idle": "2022-06-18T11:49:56.463074Z",
     "shell.execute_reply": "2022-06-18T11:49:56.461836Z"
    },
    "papermill": {
     "duration": 0.024321,
     "end_time": "2022-06-18T11:49:56.466766",
     "exception": false,
     "start_time": "2022-06-18T11:49:56.442445",
     "status": "completed"
    },
    "tags": []
   },
   "outputs": [
    {
     "data": {
      "text/html": [
       "'Using reference panel: GTEX_V8'"
      ],
      "text/latex": [
       "'Using reference panel: GTEX\\_V8'"
      ],
      "text/markdown": [
       "'Using reference panel: GTEX_V8'"
      ],
      "text/plain": [
       "[1] \"Using reference panel: GTEX_V8\""
      ]
     },
     "metadata": {},
     "output_type": "display_data"
    }
   ],
   "source": [
    "paste0(\"Using reference panel: \", REFERENCE_PANEL)"
   ]
  },
  {
   "cell_type": "code",
   "execution_count": 5,
   "id": "d62c28f8-186c-478b-948c-58e14f00df4b",
   "metadata": {
    "execution": {
     "iopub.execute_input": "2022-06-18T11:49:56.482041Z",
     "iopub.status.busy": "2022-06-18T11:49:56.480909Z",
     "iopub.status.idle": "2022-06-18T11:49:56.492567Z",
     "shell.execute_reply": "2022-06-18T11:49:56.491348Z"
    },
    "papermill": {
     "duration": 0.022092,
     "end_time": "2022-06-18T11:49:56.494348",
     "exception": false,
     "start_time": "2022-06-18T11:49:56.472256",
     "status": "completed"
    },
    "tags": []
   },
   "outputs": [
    {
     "data": {
      "text/html": [
       "'Using eQTL model: MASHR'"
      ],
      "text/latex": [
       "'Using eQTL model: MASHR'"
      ],
      "text/markdown": [
       "'Using eQTL model: MASHR'"
      ],
      "text/plain": [
       "[1] \"Using eQTL model: MASHR\""
      ]
     },
     "metadata": {},
     "output_type": "display_data"
    }
   ],
   "source": [
    "paste0(\"Using eQTL model: \", EQTL_MODEL)"
   ]
  },
  {
   "cell_type": "code",
   "execution_count": 6,
   "id": "5243676f-c889-4405-9a4d-262f0f044614",
   "metadata": {
    "execution": {
     "iopub.execute_input": "2022-06-18T11:49:56.507758Z",
     "iopub.status.busy": "2022-06-18T11:49:56.506597Z",
     "iopub.status.idle": "2022-06-18T11:49:56.516538Z",
     "shell.execute_reply": "2022-06-18T11:49:56.515275Z"
    },
    "papermill": {
     "duration": 0.018352,
     "end_time": "2022-06-18T11:49:56.518302",
     "exception": false,
     "start_time": "2022-06-18T11:49:56.499950",
     "status": "completed"
    },
    "tags": []
   },
   "outputs": [],
   "source": [
    "# chromosome must be provided as parameter\n",
    "stopifnot(!is.null(chromosome))"
   ]
  },
  {
   "cell_type": "markdown",
   "id": "83a49773-bcf5-44c4-8d9b-a6ac65a57ec6",
   "metadata": {
    "papermill": {
     "duration": 0.005467,
     "end_time": "2022-06-18T11:49:56.529935",
     "exception": false,
     "start_time": "2022-06-18T11:49:56.524468",
     "status": "completed"
    },
    "tags": []
   },
   "source": [
    "# Paths"
   ]
  },
  {
   "cell_type": "code",
   "execution_count": 7,
   "id": "eb6aa8aa-b452-4a2f-a780-93dd80ad4285",
   "metadata": {
    "execution": {
     "iopub.execute_input": "2022-06-18T11:49:56.542777Z",
     "iopub.status.busy": "2022-06-18T11:49:56.541718Z",
     "iopub.status.idle": "2022-06-18T11:49:56.554869Z",
     "shell.execute_reply": "2022-06-18T11:49:56.553646Z"
    },
    "papermill": {
     "duration": 0.021121,
     "end_time": "2022-06-18T11:49:56.556518",
     "exception": false,
     "start_time": "2022-06-18T11:49:56.535397",
     "status": "completed"
    },
    "tags": []
   },
   "outputs": [
    {
     "data": {
      "text/html": [
       "'/opt/data/data/phenomexcan/ld_blocks/gene_corrs'"
      ],
      "text/latex": [
       "'/opt/data/data/phenomexcan/ld\\_blocks/gene\\_corrs'"
      ],
      "text/markdown": [
       "'/opt/data/data/phenomexcan/ld_blocks/gene_corrs'"
      ],
      "text/plain": [
       "[1] \"/opt/data/data/phenomexcan/ld_blocks/gene_corrs\""
      ]
     },
     "metadata": {},
     "output_type": "display_data"
    }
   ],
   "source": [
    "GENE_CORRS_DIR <- Sys.getenv(\"PHENOPLIER_PHENOMEXCAN_LD_BLOCKS_GENE_CORRS_DIR\")\n",
    "IRdisplay::display(GENE_CORRS_DIR)"
   ]
  },
  {
   "cell_type": "code",
   "execution_count": 8,
   "id": "eb24f15f-f282-4476-8943-8413c4483f12",
   "metadata": {
    "execution": {
     "iopub.execute_input": "2022-06-18T11:49:56.569241Z",
     "iopub.status.busy": "2022-06-18T11:49:56.567415Z",
     "iopub.status.idle": "2022-06-18T11:49:56.581218Z",
     "shell.execute_reply": "2022-06-18T11:49:56.579840Z"
    },
    "papermill": {
     "duration": 0.021477,
     "end_time": "2022-06-18T11:49:56.583129",
     "exception": false,
     "start_time": "2022-06-18T11:49:56.561652",
     "status": "completed"
    },
    "tags": []
   },
   "outputs": [
    {
     "data": {
      "text/html": [
       "'/opt/data/data/phenomexcan/ld_blocks/gene_corrs/gtex_v8/mashr/by_chr'"
      ],
      "text/latex": [
       "'/opt/data/data/phenomexcan/ld\\_blocks/gene\\_corrs/gtex\\_v8/mashr/by\\_chr'"
      ],
      "text/markdown": [
       "'/opt/data/data/phenomexcan/ld_blocks/gene_corrs/gtex_v8/mashr/by_chr'"
      ],
      "text/plain": [
       "[1] \"/opt/data/data/phenomexcan/ld_blocks/gene_corrs/gtex_v8/mashr/by_chr\""
      ]
     },
     "metadata": {},
     "output_type": "display_data"
    }
   ],
   "source": [
    "INPUT_DIR <- file.path(GENE_CORRS_DIR, tolower(REFERENCE_PANEL), tolower(EQTL_MODEL), \"by_chr\")\n",
    "IRdisplay::display(INPUT_DIR)"
   ]
  },
  {
   "cell_type": "code",
   "execution_count": 9,
   "id": "43c1daba-0da9-4822-8d1e-968e9767e251",
   "metadata": {
    "execution": {
     "iopub.execute_input": "2022-06-18T11:49:56.596985Z",
     "iopub.status.busy": "2022-06-18T11:49:56.595874Z",
     "iopub.status.idle": "2022-06-18T11:49:56.611969Z",
     "shell.execute_reply": "2022-06-18T11:49:56.610710Z"
    },
    "papermill": {
     "duration": 0.024705,
     "end_time": "2022-06-18T11:49:56.613735",
     "exception": false,
     "start_time": "2022-06-18T11:49:56.589030",
     "status": "completed"
    },
    "tags": []
   },
   "outputs": [
    {
     "data": {
      "text/html": [
       "'/opt/data/data/phenomexcan/ld_blocks/gene_corrs/gtex_v8/mashr/by_chr/gene_corrs-chr1.pkl'"
      ],
      "text/latex": [
       "'/opt/data/data/phenomexcan/ld\\_blocks/gene\\_corrs/gtex\\_v8/mashr/by\\_chr/gene\\_corrs-chr1.pkl'"
      ],
      "text/markdown": [
       "'/opt/data/data/phenomexcan/ld_blocks/gene_corrs/gtex_v8/mashr/by_chr/gene_corrs-chr1.pkl'"
      ],
      "text/plain": [
       "[1] \"/opt/data/data/phenomexcan/ld_blocks/gene_corrs/gtex_v8/mashr/by_chr/gene_corrs-chr1.pkl\""
      ]
     },
     "metadata": {},
     "output_type": "display_data"
    }
   ],
   "source": [
    "INPUT_FILE <- file.path(INPUT_DIR, paste0(\"gene_corrs-chr\", chromosome, \".pkl\"))\n",
    "IRdisplay::display(INPUT_FILE)\n",
    "stopifnot(file.exists(INPUT_FILE))"
   ]
  },
  {
   "cell_type": "code",
   "execution_count": 10,
   "id": "72386fbf-982b-420a-9057-ea9a97a5e571",
   "metadata": {
    "execution": {
     "iopub.execute_input": "2022-06-18T11:49:56.628257Z",
     "iopub.status.busy": "2022-06-18T11:49:56.627038Z",
     "iopub.status.idle": "2022-06-18T11:49:56.642334Z",
     "shell.execute_reply": "2022-06-18T11:49:56.641004Z"
    },
    "papermill": {
     "duration": 0.024149,
     "end_time": "2022-06-18T11:49:56.644123",
     "exception": false,
     "start_time": "2022-06-18T11:49:56.619974",
     "status": "completed"
    },
    "tags": []
   },
   "outputs": [
    {
     "data": {
      "text/html": [
       "'/opt/data/data/phenomexcan/ld_blocks/gene_corrs/gtex_v8/mashr/by_chr/corrected_positive_definite'"
      ],
      "text/latex": [
       "'/opt/data/data/phenomexcan/ld\\_blocks/gene\\_corrs/gtex\\_v8/mashr/by\\_chr/corrected\\_positive\\_definite'"
      ],
      "text/markdown": [
       "'/opt/data/data/phenomexcan/ld_blocks/gene_corrs/gtex_v8/mashr/by_chr/corrected_positive_definite'"
      ],
      "text/plain": [
       "[1] \"/opt/data/data/phenomexcan/ld_blocks/gene_corrs/gtex_v8/mashr/by_chr/corrected_positive_definite\""
      ]
     },
     "metadata": {},
     "output_type": "display_data"
    }
   ],
   "source": [
    "OUTPUT_DIR <- file.path(INPUT_DIR, \"corrected_positive_definite\")\n",
    "IRdisplay::display(OUTPUT_DIR)\n",
    "dir.create(OUTPUT_DIR, recursive = TRUE, showWarnings = FALSE)"
   ]
  },
  {
   "cell_type": "code",
   "execution_count": 11,
   "id": "f9f19d1d-ce4c-4099-a26e-250fec751de7",
   "metadata": {
    "execution": {
     "iopub.execute_input": "2022-06-18T11:49:56.658126Z",
     "iopub.status.busy": "2022-06-18T11:49:56.656974Z",
     "iopub.status.idle": "2022-06-18T11:49:56.677507Z",
     "shell.execute_reply": "2022-06-18T11:49:56.673028Z"
    },
    "papermill": {
     "duration": 0.02929,
     "end_time": "2022-06-18T11:49:56.679465",
     "exception": false,
     "start_time": "2022-06-18T11:49:56.650175",
     "status": "completed"
    },
    "tags": []
   },
   "outputs": [
    {
     "data": {
      "text/html": [
       "'/opt/data/data/phenomexcan/ld_blocks/gene_corrs/gtex_v8/mashr/by_chr/corrected_positive_definite/gene_corrs-chr1.pkl'"
      ],
      "text/latex": [
       "'/opt/data/data/phenomexcan/ld\\_blocks/gene\\_corrs/gtex\\_v8/mashr/by\\_chr/corrected\\_positive\\_definite/gene\\_corrs-chr1.pkl'"
      ],
      "text/markdown": [
       "'/opt/data/data/phenomexcan/ld_blocks/gene_corrs/gtex_v8/mashr/by_chr/corrected_positive_definite/gene_corrs-chr1.pkl'"
      ],
      "text/plain": [
       "[1] \"/opt/data/data/phenomexcan/ld_blocks/gene_corrs/gtex_v8/mashr/by_chr/corrected_positive_definite/gene_corrs-chr1.pkl\""
      ]
     },
     "metadata": {},
     "output_type": "display_data"
    },
    {
     "data": {
      "text/html": [
       "'Output file exists, it will be overwritten'"
      ],
      "text/latex": [
       "'Output file exists, it will be overwritten'"
      ],
      "text/markdown": [
       "'Output file exists, it will be overwritten'"
      ],
      "text/plain": [
       "[1] \"Output file exists, it will be overwritten\""
      ]
     },
     "metadata": {},
     "output_type": "display_data"
    }
   ],
   "source": [
    "OUTPUT_FILE <- file.path(OUTPUT_DIR, paste0(\"gene_corrs-chr\", chromosome, \".pkl\"))\n",
    "IRdisplay::display(OUTPUT_FILE)\n",
    "if (file.exists(OUTPUT_FILE)) {\n",
    "  IRdisplay::display(\"Output file exists, it will be overwritten\")\n",
    "}"
   ]
  },
  {
   "cell_type": "markdown",
   "id": "5aad60e6-cba4-41b5-9755-93eb86f4ed05",
   "metadata": {
    "papermill": {
     "duration": 0.006142,
     "end_time": "2022-06-18T11:49:56.691992",
     "exception": false,
     "start_time": "2022-06-18T11:49:56.685850",
     "status": "completed"
    },
    "tags": []
   },
   "source": [
    "# Functions"
   ]
  },
  {
   "cell_type": "code",
   "execution_count": 12,
   "id": "f828f081-7358-4cc8-8a89-1ee293bcc1a7",
   "metadata": {
    "execution": {
     "iopub.execute_input": "2022-06-18T11:49:56.706983Z",
     "iopub.status.busy": "2022-06-18T11:49:56.705901Z",
     "iopub.status.idle": "2022-06-18T11:49:56.715782Z",
     "shell.execute_reply": "2022-06-18T11:49:56.714472Z"
    },
    "papermill": {
     "duration": 0.0191,
     "end_time": "2022-06-18T11:49:56.717624",
     "exception": false,
     "start_time": "2022-06-18T11:49:56.698524",
     "status": "completed"
    },
    "tags": []
   },
   "outputs": [],
   "source": [
    "# taken from https://www.r-bloggers.com/2013/08/correcting-a-pseudo-correlation-matrix-to-be-positive-semidefinite/\n",
    "# TODO: add documentation\n",
    "CorrectCM <- function(CM, p = 0) {\n",
    "  n <- dim(var(CM))[1L]\n",
    "  E <- eigen(CM)\n",
    "  CM1 <- E$vectors %*% tcrossprod(diag(pmax(E$values, p), n), E$vectors)\n",
    "  Balance <- diag(1 / sqrt(diag(CM1)))\n",
    "  CM2 <- Balance %*% CM1 %*% Balance\n",
    "  return(CM2)\n",
    "}"
   ]
  },
  {
   "cell_type": "code",
   "execution_count": 13,
   "id": "7ab9bebf-50a1-4e6f-b16a-e23cae93d02a",
   "metadata": {
    "execution": {
     "iopub.execute_input": "2022-06-18T11:49:56.732308Z",
     "iopub.status.busy": "2022-06-18T11:49:56.731184Z",
     "iopub.status.idle": "2022-06-18T11:49:56.741032Z",
     "shell.execute_reply": "2022-06-18T11:49:56.739735Z"
    },
    "papermill": {
     "duration": 0.018903,
     "end_time": "2022-06-18T11:49:56.742851",
     "exception": false,
     "start_time": "2022-06-18T11:49:56.723948",
     "status": "completed"
    },
    "tags": []
   },
   "outputs": [],
   "source": [
    "is_positive_definite <- function(data) {\n",
    "  eigenvalues <- eigen(data)$values\n",
    "  nonpositive_eigenvalues <- eigenvalues[eigenvalues <= 0]\n",
    "\n",
    "  if (length(nonpositive_eigenvalues) > 0) {\n",
    "    IRdisplay::display(\"We need to correct the data and make the matrix positive definite\")\n",
    "    return(FALSE)\n",
    "  } else {\n",
    "    IRdisplay::display(\"Matrix is already positive definite!\")\n",
    "    return(TRUE)\n",
    "  }\n",
    "}"
   ]
  },
  {
   "cell_type": "markdown",
   "id": "ac52ecbc-5618-4876-a4fa-546a08e3fcf3",
   "metadata": {
    "papermill": {
     "duration": 0.006197,
     "end_time": "2022-06-18T11:49:56.755639",
     "exception": false,
     "start_time": "2022-06-18T11:49:56.749442",
     "status": "completed"
    },
    "tags": []
   },
   "source": [
    "# Load data"
   ]
  },
  {
   "cell_type": "code",
   "execution_count": 14,
   "id": "3a7744e1-2e5a-450e-9dcf-945ec181347d",
   "metadata": {
    "execution": {
     "iopub.execute_input": "2022-06-18T11:49:56.770159Z",
     "iopub.status.busy": "2022-06-18T11:49:56.769068Z",
     "iopub.status.idle": "2022-06-18T11:49:56.878534Z",
     "shell.execute_reply": "2022-06-18T11:49:56.877196Z"
    },
    "papermill": {
     "duration": 0.118392,
     "end_time": "2022-06-18T11:49:56.880302",
     "exception": false,
     "start_time": "2022-06-18T11:49:56.761910",
     "status": "completed"
    },
    "tags": []
   },
   "outputs": [],
   "source": [
    "gene_corrs <- pd$read_pickle(INPUT_FILE)"
   ]
  },
  {
   "cell_type": "code",
   "execution_count": 15,
   "id": "6fb150b2-4c68-4e9b-9aa5-1890d3f762e3",
   "metadata": {
    "execution": {
     "iopub.execute_input": "2022-06-18T11:49:56.894772Z",
     "iopub.status.busy": "2022-06-18T11:49:56.893637Z",
     "iopub.status.idle": "2022-06-18T11:49:56.906042Z",
     "shell.execute_reply": "2022-06-18T11:49:56.904767Z"
    },
    "papermill": {
     "duration": 0.021412,
     "end_time": "2022-06-18T11:49:56.907898",
     "exception": false,
     "start_time": "2022-06-18T11:49:56.886486",
     "status": "completed"
    },
    "tags": []
   },
   "outputs": [
    {
     "data": {
      "text/html": [
       "<style>\n",
       ".list-inline {list-style: none; margin:0; padding: 0}\n",
       ".list-inline>li {display: inline-block}\n",
       ".list-inline>li:not(:last-child)::after {content: \"\\00b7\"; padding: 0 .5ex}\n",
       "</style>\n",
       "<ol class=list-inline><li>700</li><li>700</li></ol>\n"
      ],
      "text/latex": [
       "\\begin{enumerate*}\n",
       "\\item 700\n",
       "\\item 700\n",
       "\\end{enumerate*}\n"
      ],
      "text/markdown": [
       "1. 700\n",
       "2. 700\n",
       "\n",
       "\n"
      ],
      "text/plain": [
       "[1] 700 700"
      ]
     },
     "metadata": {},
     "output_type": "display_data"
    }
   ],
   "source": [
    "dim(gene_corrs)"
   ]
  },
  {
   "cell_type": "code",
   "execution_count": 16,
   "id": "0d4e53b5-7586-4a68-8ce5-d930d74ba943",
   "metadata": {
    "execution": {
     "iopub.execute_input": "2022-06-18T11:49:56.928105Z",
     "iopub.status.busy": "2022-06-18T11:49:56.926972Z",
     "iopub.status.idle": "2022-06-18T11:49:56.950139Z",
     "shell.execute_reply": "2022-06-18T11:49:56.948867Z"
    },
    "papermill": {
     "duration": 0.034959,
     "end_time": "2022-06-18T11:49:56.954729",
     "exception": false,
     "start_time": "2022-06-18T11:49:56.919770",
     "status": "completed"
    },
    "tags": []
   },
   "outputs": [
    {
     "data": {
      "text/html": [
       "<table class=\"dataframe\">\n",
       "<caption>A data.frame: 6 × 10</caption>\n",
       "<thead>\n",
       "\t<tr><th></th><th scope=col>ENSG00000188976</th><th scope=col>ENSG00000188290</th><th scope=col>ENSG00000187608</th><th scope=col>ENSG00000188157</th><th scope=col>ENSG00000186891</th><th scope=col>ENSG00000186827</th><th scope=col>ENSG00000176022</th><th scope=col>ENSG00000160087</th><th scope=col>ENSG00000131584</th><th scope=col>ENSG00000169962</th></tr>\n",
       "\t<tr><th></th><th scope=col>&lt;dbl&gt;</th><th scope=col>&lt;dbl&gt;</th><th scope=col>&lt;dbl&gt;</th><th scope=col>&lt;dbl&gt;</th><th scope=col>&lt;dbl&gt;</th><th scope=col>&lt;dbl&gt;</th><th scope=col>&lt;dbl&gt;</th><th scope=col>&lt;dbl&gt;</th><th scope=col>&lt;dbl&gt;</th><th scope=col>&lt;dbl&gt;</th></tr>\n",
       "</thead>\n",
       "<tbody>\n",
       "\t<tr><th scope=row>ENSG00000188976</th><td> 1.00000000</td><td> 0.02361128</td><td> 0.051490837</td><td>-0.34217863</td><td> 0.023875079</td><td> 0.05151428</td><td>-0.11406162</td><td>-0.04373261</td><td> 0.017677782</td><td> 0.068202071</td></tr>\n",
       "\t<tr><th scope=row>ENSG00000188290</th><td> 0.02361128</td><td> 1.00000000</td><td> 0.136524599</td><td>-0.07697149</td><td> 0.092037617</td><td>-0.05575377</td><td>-0.06365866</td><td>-0.06995675</td><td> 0.103245595</td><td>-0.060622698</td></tr>\n",
       "\t<tr><th scope=row>ENSG00000187608</th><td> 0.05149084</td><td> 0.13652460</td><td> 1.000000000</td><td> 0.01305981</td><td>-0.009458447</td><td>-0.07905110</td><td>-0.24629385</td><td>-0.06376631</td><td> 0.016577053</td><td>-0.097012421</td></tr>\n",
       "\t<tr><th scope=row>ENSG00000188157</th><td>-0.34217863</td><td>-0.07697149</td><td> 0.013059813</td><td> 1.00000000</td><td>-0.058856618</td><td>-0.14024394</td><td>-0.25159589</td><td>-0.04346579</td><td>-0.005467761</td><td>-0.034212459</td></tr>\n",
       "\t<tr><th scope=row>ENSG00000186891</th><td> 0.02387508</td><td> 0.09203762</td><td>-0.009458447</td><td>-0.05885662</td><td> 1.000000000</td><td> 0.09812693</td><td> 0.27406428</td><td>-0.19015347</td><td> 0.277689351</td><td>-0.034433500</td></tr>\n",
       "\t<tr><th scope=row>ENSG00000186827</th><td> 0.05151428</td><td>-0.05575377</td><td>-0.079051100</td><td>-0.14024394</td><td> 0.098126927</td><td> 1.00000000</td><td> 0.20819153</td><td> 0.16215540</td><td> 0.041733146</td><td> 0.001576558</td></tr>\n",
       "</tbody>\n",
       "</table>\n"
      ],
      "text/latex": [
       "A data.frame: 6 × 10\n",
       "\\begin{tabular}{r|llllllllll}\n",
       "  & ENSG00000188976 & ENSG00000188290 & ENSG00000187608 & ENSG00000188157 & ENSG00000186891 & ENSG00000186827 & ENSG00000176022 & ENSG00000160087 & ENSG00000131584 & ENSG00000169962\\\\\n",
       "  & <dbl> & <dbl> & <dbl> & <dbl> & <dbl> & <dbl> & <dbl> & <dbl> & <dbl> & <dbl>\\\\\n",
       "\\hline\n",
       "\tENSG00000188976 &  1.00000000 &  0.02361128 &  0.051490837 & -0.34217863 &  0.023875079 &  0.05151428 & -0.11406162 & -0.04373261 &  0.017677782 &  0.068202071\\\\\n",
       "\tENSG00000188290 &  0.02361128 &  1.00000000 &  0.136524599 & -0.07697149 &  0.092037617 & -0.05575377 & -0.06365866 & -0.06995675 &  0.103245595 & -0.060622698\\\\\n",
       "\tENSG00000187608 &  0.05149084 &  0.13652460 &  1.000000000 &  0.01305981 & -0.009458447 & -0.07905110 & -0.24629385 & -0.06376631 &  0.016577053 & -0.097012421\\\\\n",
       "\tENSG00000188157 & -0.34217863 & -0.07697149 &  0.013059813 &  1.00000000 & -0.058856618 & -0.14024394 & -0.25159589 & -0.04346579 & -0.005467761 & -0.034212459\\\\\n",
       "\tENSG00000186891 &  0.02387508 &  0.09203762 & -0.009458447 & -0.05885662 &  1.000000000 &  0.09812693 &  0.27406428 & -0.19015347 &  0.277689351 & -0.034433500\\\\\n",
       "\tENSG00000186827 &  0.05151428 & -0.05575377 & -0.079051100 & -0.14024394 &  0.098126927 &  1.00000000 &  0.20819153 &  0.16215540 &  0.041733146 &  0.001576558\\\\\n",
       "\\end{tabular}\n"
      ],
      "text/markdown": [
       "\n",
       "A data.frame: 6 × 10\n",
       "\n",
       "| <!--/--> | ENSG00000188976 &lt;dbl&gt; | ENSG00000188290 &lt;dbl&gt; | ENSG00000187608 &lt;dbl&gt; | ENSG00000188157 &lt;dbl&gt; | ENSG00000186891 &lt;dbl&gt; | ENSG00000186827 &lt;dbl&gt; | ENSG00000176022 &lt;dbl&gt; | ENSG00000160087 &lt;dbl&gt; | ENSG00000131584 &lt;dbl&gt; | ENSG00000169962 &lt;dbl&gt; |\n",
       "|---|---|---|---|---|---|---|---|---|---|---|\n",
       "| ENSG00000188976 |  1.00000000 |  0.02361128 |  0.051490837 | -0.34217863 |  0.023875079 |  0.05151428 | -0.11406162 | -0.04373261 |  0.017677782 |  0.068202071 |\n",
       "| ENSG00000188290 |  0.02361128 |  1.00000000 |  0.136524599 | -0.07697149 |  0.092037617 | -0.05575377 | -0.06365866 | -0.06995675 |  0.103245595 | -0.060622698 |\n",
       "| ENSG00000187608 |  0.05149084 |  0.13652460 |  1.000000000 |  0.01305981 | -0.009458447 | -0.07905110 | -0.24629385 | -0.06376631 |  0.016577053 | -0.097012421 |\n",
       "| ENSG00000188157 | -0.34217863 | -0.07697149 |  0.013059813 |  1.00000000 | -0.058856618 | -0.14024394 | -0.25159589 | -0.04346579 | -0.005467761 | -0.034212459 |\n",
       "| ENSG00000186891 |  0.02387508 |  0.09203762 | -0.009458447 | -0.05885662 |  1.000000000 |  0.09812693 |  0.27406428 | -0.19015347 |  0.277689351 | -0.034433500 |\n",
       "| ENSG00000186827 |  0.05151428 | -0.05575377 | -0.079051100 | -0.14024394 |  0.098126927 |  1.00000000 |  0.20819153 |  0.16215540 |  0.041733146 |  0.001576558 |\n",
       "\n"
      ],
      "text/plain": [
       "                ENSG00000188976 ENSG00000188290 ENSG00000187608 ENSG00000188157\n",
       "ENSG00000188976  1.00000000      0.02361128      0.051490837    -0.34217863    \n",
       "ENSG00000188290  0.02361128      1.00000000      0.136524599    -0.07697149    \n",
       "ENSG00000187608  0.05149084      0.13652460      1.000000000     0.01305981    \n",
       "ENSG00000188157 -0.34217863     -0.07697149      0.013059813     1.00000000    \n",
       "ENSG00000186891  0.02387508      0.09203762     -0.009458447    -0.05885662    \n",
       "ENSG00000186827  0.05151428     -0.05575377     -0.079051100    -0.14024394    \n",
       "                ENSG00000186891 ENSG00000186827 ENSG00000176022 ENSG00000160087\n",
       "ENSG00000188976  0.023875079     0.05151428     -0.11406162     -0.04373261    \n",
       "ENSG00000188290  0.092037617    -0.05575377     -0.06365866     -0.06995675    \n",
       "ENSG00000187608 -0.009458447    -0.07905110     -0.24629385     -0.06376631    \n",
       "ENSG00000188157 -0.058856618    -0.14024394     -0.25159589     -0.04346579    \n",
       "ENSG00000186891  1.000000000     0.09812693      0.27406428     -0.19015347    \n",
       "ENSG00000186827  0.098126927     1.00000000      0.20819153      0.16215540    \n",
       "                ENSG00000131584 ENSG00000169962\n",
       "ENSG00000188976  0.017677782     0.068202071   \n",
       "ENSG00000188290  0.103245595    -0.060622698   \n",
       "ENSG00000187608  0.016577053    -0.097012421   \n",
       "ENSG00000188157 -0.005467761    -0.034212459   \n",
       "ENSG00000186891  0.277689351    -0.034433500   \n",
       "ENSG00000186827  0.041733146     0.001576558   "
      ]
     },
     "metadata": {},
     "output_type": "display_data"
    }
   ],
   "source": [
    "head(gene_corrs[1:10, 1:10])"
   ]
  },
  {
   "cell_type": "markdown",
   "id": "c5c9ffba-1678-4ce7-8988-4ee03e23bdf2",
   "metadata": {
    "papermill": {
     "duration": 0.013313,
     "end_time": "2022-06-18T11:49:56.974393",
     "exception": false,
     "start_time": "2022-06-18T11:49:56.961080",
     "status": "completed"
    },
    "tags": []
   },
   "source": [
    "# Check positive definiteness"
   ]
  },
  {
   "cell_type": "code",
   "execution_count": 17,
   "id": "178854f5-487a-42e8-82b4-625c1979734a",
   "metadata": {
    "execution": {
     "iopub.execute_input": "2022-06-18T11:49:56.988554Z",
     "iopub.status.busy": "2022-06-18T11:49:56.987454Z",
     "iopub.status.idle": "2022-06-18T11:49:57.196534Z",
     "shell.execute_reply": "2022-06-18T11:49:57.193767Z"
    },
    "papermill": {
     "duration": 0.217637,
     "end_time": "2022-06-18T11:49:57.198081",
     "exception": false,
     "start_time": "2022-06-18T11:49:56.980444",
     "status": "completed"
    },
    "tags": []
   },
   "outputs": [
    {
     "data": {
      "text/html": [
       "'We need to correct the data and make the matrix positive definite'"
      ],
      "text/latex": [
       "'We need to correct the data and make the matrix positive definite'"
      ],
      "text/markdown": [
       "'We need to correct the data and make the matrix positive definite'"
      ],
      "text/plain": [
       "[1] \"We need to correct the data and make the matrix positive definite\""
      ]
     },
     "metadata": {},
     "output_type": "display_data"
    },
    {
     "data": {
      "text/html": [
       "FALSE"
      ],
      "text/latex": [
       "FALSE"
      ],
      "text/markdown": [
       "FALSE"
      ],
      "text/plain": [
       "[1] FALSE"
      ]
     },
     "metadata": {},
     "output_type": "display_data"
    }
   ],
   "source": [
    "is_positive_definite(gene_corrs)"
   ]
  },
  {
   "cell_type": "code",
   "execution_count": 18,
   "id": "58542ade-c80f-42e6-acbf-6464dab70fdb",
   "metadata": {
    "execution": {
     "iopub.execute_input": "2022-06-18T11:49:57.220120Z",
     "iopub.status.busy": "2022-06-18T11:49:57.219263Z",
     "iopub.status.idle": "2022-06-18T11:49:57.443003Z",
     "shell.execute_reply": "2022-06-18T11:49:57.437048Z"
    },
    "papermill": {
     "duration": 0.239841,
     "end_time": "2022-06-18T11:49:57.444416",
     "exception": false,
     "start_time": "2022-06-18T11:49:57.204575",
     "status": "completed"
    },
    "tags": []
   },
   "outputs": [],
   "source": [
    "# see eigenvalues\n",
    "eigenvalues <- eigen(gene_corrs)$values"
   ]
  },
  {
   "cell_type": "code",
   "execution_count": 19,
   "id": "9486e0db-e924-43ab-bb6c-0d997fd38f3d",
   "metadata": {
    "execution": {
     "iopub.execute_input": "2022-06-18T11:49:57.466388Z",
     "iopub.status.busy": "2022-06-18T11:49:57.464727Z",
     "iopub.status.idle": "2022-06-18T11:49:57.518321Z",
     "shell.execute_reply": "2022-06-18T11:49:57.516388Z"
    },
    "papermill": {
     "duration": 0.072899,
     "end_time": "2022-06-18T11:49:57.525940",
     "exception": false,
     "start_time": "2022-06-18T11:49:57.453041",
     "status": "completed"
    },
    "tags": []
   },
   "outputs": [
    {
     "data": {
      "text/html": [
       "81"
      ],
      "text/latex": [
       "81"
      ],
      "text/markdown": [
       "81"
      ],
      "text/plain": [
       "[1] 81"
      ]
     },
     "metadata": {},
     "output_type": "display_data"
    },
    {
     "data": {
      "text/html": [
       "<style>\n",
       ".list-inline {list-style: none; margin:0; padding: 0}\n",
       ".list-inline>li {display: inline-block}\n",
       ".list-inline>li:not(:last-child)::after {content: \"\\00b7\"; padding: 0 .5ex}\n",
       "</style>\n",
       "<ol class=list-inline><li>-0.0156955308630753</li><li>-0.0208327565266933</li><li>-0.033430615372962</li><li>-0.0416160533231313</li><li>-0.0467267493818833</li><li>-0.0487969688741972</li><li>-0.0493897516477664</li><li>-0.0731242694391909</li><li>-0.0808768458202334</li><li>-0.0893070137101731</li><li>-0.0898106502814602</li><li>-0.096172120241067</li><li>-0.10233186987164</li><li>-0.102425057395169</li><li>-0.107075676973417</li><li>-0.111342617962745</li><li>-0.127522679609</li><li>-0.133163486875046</li><li>-0.135813781100553</li><li>-0.156037276274072</li><li>-0.169733420735918</li><li>-0.175232568151752</li><li>-0.176568379620148</li><li>-0.184492453540049</li><li>-0.194300741681277</li><li>-0.196304546933432</li><li>-0.215053173086288</li><li>-0.223783388768249</li><li>-0.246116949027408</li><li>-0.268850353194186</li><li>-0.288120971963929</li><li>-0.300117708492236</li><li>-0.306404593291013</li><li>-0.310588751569746</li><li>-0.317352913718109</li><li>-0.318445765940553</li><li>-0.325399329558132</li><li>-0.373509973077596</li><li>-0.389984890131935</li><li>-0.397671536485835</li><li>-0.423367259847581</li><li>-0.447108527660514</li><li>-0.464105145570144</li><li>-0.476389838969019</li><li>-0.535456313988354</li><li>-0.538211137268011</li><li>-0.557396201528334</li><li>-0.57024089857673</li><li>-0.588613177808644</li><li>-0.605924513440469</li><li>-0.613060323950121</li><li>-0.615974692522506</li><li>-0.639575647963443</li><li>-0.676268558108758</li><li>-0.685356493399196</li><li>-0.776616598165847</li><li>-0.796952685090365</li><li>-0.827133215963899</li><li>-0.851636089847605</li><li>-0.856086476873673</li><li>-0.963914616576565</li><li>-0.997848932295307</li><li>-1.0268689819885</li><li>-1.02868448666861</li><li>-1.05120023959147</li><li>-1.17731129079712</li><li>-1.24559734110665</li><li>-1.27396310136059</li><li>-1.33315920314729</li><li>-1.42582603477795</li><li>-1.4977928853092</li><li>-1.63034189303226</li><li>-1.66344662795388</li><li>-1.93073880470639</li><li>-2.10599786088602</li><li>-2.35925101284576</li><li>-2.78943257693101</li><li>-3.05668597709461</li><li>-3.31178549268019</li><li>-3.68830248104505</li><li>-4.79597806761876</li></ol>\n"
      ],
      "text/latex": [
       "\\begin{enumerate*}\n",
       "\\item -0.0156955308630753\n",
       "\\item -0.0208327565266933\n",
       "\\item -0.033430615372962\n",
       "\\item -0.0416160533231313\n",
       "\\item -0.0467267493818833\n",
       "\\item -0.0487969688741972\n",
       "\\item -0.0493897516477664\n",
       "\\item -0.0731242694391909\n",
       "\\item -0.0808768458202334\n",
       "\\item -0.0893070137101731\n",
       "\\item -0.0898106502814602\n",
       "\\item -0.096172120241067\n",
       "\\item -0.10233186987164\n",
       "\\item -0.102425057395169\n",
       "\\item -0.107075676973417\n",
       "\\item -0.111342617962745\n",
       "\\item -0.127522679609\n",
       "\\item -0.133163486875046\n",
       "\\item -0.135813781100553\n",
       "\\item -0.156037276274072\n",
       "\\item -0.169733420735918\n",
       "\\item -0.175232568151752\n",
       "\\item -0.176568379620148\n",
       "\\item -0.184492453540049\n",
       "\\item -0.194300741681277\n",
       "\\item -0.196304546933432\n",
       "\\item -0.215053173086288\n",
       "\\item -0.223783388768249\n",
       "\\item -0.246116949027408\n",
       "\\item -0.268850353194186\n",
       "\\item -0.288120971963929\n",
       "\\item -0.300117708492236\n",
       "\\item -0.306404593291013\n",
       "\\item -0.310588751569746\n",
       "\\item -0.317352913718109\n",
       "\\item -0.318445765940553\n",
       "\\item -0.325399329558132\n",
       "\\item -0.373509973077596\n",
       "\\item -0.389984890131935\n",
       "\\item -0.397671536485835\n",
       "\\item -0.423367259847581\n",
       "\\item -0.447108527660514\n",
       "\\item -0.464105145570144\n",
       "\\item -0.476389838969019\n",
       "\\item -0.535456313988354\n",
       "\\item -0.538211137268011\n",
       "\\item -0.557396201528334\n",
       "\\item -0.57024089857673\n",
       "\\item -0.588613177808644\n",
       "\\item -0.605924513440469\n",
       "\\item -0.613060323950121\n",
       "\\item -0.615974692522506\n",
       "\\item -0.639575647963443\n",
       "\\item -0.676268558108758\n",
       "\\item -0.685356493399196\n",
       "\\item -0.776616598165847\n",
       "\\item -0.796952685090365\n",
       "\\item -0.827133215963899\n",
       "\\item -0.851636089847605\n",
       "\\item -0.856086476873673\n",
       "\\item -0.963914616576565\n",
       "\\item -0.997848932295307\n",
       "\\item -1.0268689819885\n",
       "\\item -1.02868448666861\n",
       "\\item -1.05120023959147\n",
       "\\item -1.17731129079712\n",
       "\\item -1.24559734110665\n",
       "\\item -1.27396310136059\n",
       "\\item -1.33315920314729\n",
       "\\item -1.42582603477795\n",
       "\\item -1.4977928853092\n",
       "\\item -1.63034189303226\n",
       "\\item -1.66344662795388\n",
       "\\item -1.93073880470639\n",
       "\\item -2.10599786088602\n",
       "\\item -2.35925101284576\n",
       "\\item -2.78943257693101\n",
       "\\item -3.05668597709461\n",
       "\\item -3.31178549268019\n",
       "\\item -3.68830248104505\n",
       "\\item -4.79597806761876\n",
       "\\end{enumerate*}\n"
      ],
      "text/markdown": [
       "1. -0.0156955308630753\n",
       "2. -0.0208327565266933\n",
       "3. -0.033430615372962\n",
       "4. -0.0416160533231313\n",
       "5. -0.0467267493818833\n",
       "6. -0.0487969688741972\n",
       "7. -0.0493897516477664\n",
       "8. -0.0731242694391909\n",
       "9. -0.0808768458202334\n",
       "10. -0.0893070137101731\n",
       "11. -0.0898106502814602\n",
       "12. -0.096172120241067\n",
       "13. -0.10233186987164\n",
       "14. -0.102425057395169\n",
       "15. -0.107075676973417\n",
       "16. -0.111342617962745\n",
       "17. -0.127522679609\n",
       "18. -0.133163486875046\n",
       "19. -0.135813781100553\n",
       "20. -0.156037276274072\n",
       "21. -0.169733420735918\n",
       "22. -0.175232568151752\n",
       "23. -0.176568379620148\n",
       "24. -0.184492453540049\n",
       "25. -0.194300741681277\n",
       "26. -0.196304546933432\n",
       "27. -0.215053173086288\n",
       "28. -0.223783388768249\n",
       "29. -0.246116949027408\n",
       "30. -0.268850353194186\n",
       "31. -0.288120971963929\n",
       "32. -0.300117708492236\n",
       "33. -0.306404593291013\n",
       "34. -0.310588751569746\n",
       "35. -0.317352913718109\n",
       "36. -0.318445765940553\n",
       "37. -0.325399329558132\n",
       "38. -0.373509973077596\n",
       "39. -0.389984890131935\n",
       "40. -0.397671536485835\n",
       "41. -0.423367259847581\n",
       "42. -0.447108527660514\n",
       "43. -0.464105145570144\n",
       "44. -0.476389838969019\n",
       "45. -0.535456313988354\n",
       "46. -0.538211137268011\n",
       "47. -0.557396201528334\n",
       "48. -0.57024089857673\n",
       "49. -0.588613177808644\n",
       "50. -0.605924513440469\n",
       "51. -0.613060323950121\n",
       "52. -0.615974692522506\n",
       "53. -0.639575647963443\n",
       "54. -0.676268558108758\n",
       "55. -0.685356493399196\n",
       "56. -0.776616598165847\n",
       "57. -0.796952685090365\n",
       "58. -0.827133215963899\n",
       "59. -0.851636089847605\n",
       "60. -0.856086476873673\n",
       "61. -0.963914616576565\n",
       "62. -0.997848932295307\n",
       "63. -1.0268689819885\n",
       "64. -1.02868448666861\n",
       "65. -1.05120023959147\n",
       "66. -1.17731129079712\n",
       "67. -1.24559734110665\n",
       "68. -1.27396310136059\n",
       "69. -1.33315920314729\n",
       "70. -1.42582603477795\n",
       "71. -1.4977928853092\n",
       "72. -1.63034189303226\n",
       "73. -1.66344662795388\n",
       "74. -1.93073880470639\n",
       "75. -2.10599786088602\n",
       "76. -2.35925101284576\n",
       "77. -2.78943257693101\n",
       "78. -3.05668597709461\n",
       "79. -3.31178549268019\n",
       "80. -3.68830248104505\n",
       "81. -4.79597806761876\n",
       "\n",
       "\n"
      ],
      "text/plain": [
       " [1] -0.01569553 -0.02083276 -0.03343062 -0.04161605 -0.04672675 -0.04879697\n",
       " [7] -0.04938975 -0.07312427 -0.08087685 -0.08930701 -0.08981065 -0.09617212\n",
       "[13] -0.10233187 -0.10242506 -0.10707568 -0.11134262 -0.12752268 -0.13316349\n",
       "[19] -0.13581378 -0.15603728 -0.16973342 -0.17523257 -0.17656838 -0.18449245\n",
       "[25] -0.19430074 -0.19630455 -0.21505317 -0.22378339 -0.24611695 -0.26885035\n",
       "[31] -0.28812097 -0.30011771 -0.30640459 -0.31058875 -0.31735291 -0.31844577\n",
       "[37] -0.32539933 -0.37350997 -0.38998489 -0.39767154 -0.42336726 -0.44710853\n",
       "[43] -0.46410515 -0.47638984 -0.53545631 -0.53821114 -0.55739620 -0.57024090\n",
       "[49] -0.58861318 -0.60592451 -0.61306032 -0.61597469 -0.63957565 -0.67626856\n",
       "[55] -0.68535649 -0.77661660 -0.79695269 -0.82713322 -0.85163609 -0.85608648\n",
       "[61] -0.96391462 -0.99784893 -1.02686898 -1.02868449 -1.05120024 -1.17731129\n",
       "[67] -1.24559734 -1.27396310 -1.33315920 -1.42582603 -1.49779289 -1.63034189\n",
       "[73] -1.66344663 -1.93073880 -2.10599786 -2.35925101 -2.78943258 -3.05668598\n",
       "[79] -3.31178549 -3.68830248 -4.79597807"
      ]
     },
     "metadata": {},
     "output_type": "display_data"
    }
   ],
   "source": [
    "nonpositive_eigenvalues <- eigenvalues[eigenvalues <= 0]\n",
    "IRdisplay::display(length(nonpositive_eigenvalues))\n",
    "IRdisplay::display(nonpositive_eigenvalues)"
   ]
  },
  {
   "cell_type": "code",
   "execution_count": 20,
   "id": "410ee452-488f-4518-b93a-2acd608ba99c",
   "metadata": {
    "execution": {
     "iopub.execute_input": "2022-06-18T11:49:57.542055Z",
     "iopub.status.busy": "2022-06-18T11:49:57.540914Z",
     "iopub.status.idle": "2022-06-18T11:49:57.554080Z",
     "shell.execute_reply": "2022-06-18T11:49:57.552230Z"
    },
    "papermill": {
     "duration": 0.022463,
     "end_time": "2022-06-18T11:49:57.555550",
     "exception": false,
     "start_time": "2022-06-18T11:49:57.533087",
     "status": "completed"
    },
    "tags": []
   },
   "outputs": [],
   "source": [
    "if (length(eigenvalues[eigenvalues <= 0]) == 0) { quit() }"
   ]
  },
  {
   "cell_type": "markdown",
   "id": "2d280a82-f231-402d-82ab-9291d395afc1",
   "metadata": {
    "papermill": {
     "duration": 0.005984,
     "end_time": "2022-06-18T11:49:57.568239",
     "exception": false,
     "start_time": "2022-06-18T11:49:57.562255",
     "status": "completed"
    },
    "tags": []
   },
   "source": [
    "# Make matrix positive definite if needed"
   ]
  },
  {
   "cell_type": "code",
   "execution_count": 21,
   "id": "b9037873-4067-4ac6-aa92-e9225a6c9353",
   "metadata": {
    "execution": {
     "iopub.execute_input": "2022-06-18T11:49:57.597447Z",
     "iopub.status.busy": "2022-06-18T11:49:57.596474Z",
     "iopub.status.idle": "2022-06-18T11:49:58.127677Z",
     "shell.execute_reply": "2022-06-18T11:49:58.125278Z"
    },
    "papermill": {
     "duration": 0.554849,
     "end_time": "2022-06-18T11:49:58.129220",
     "exception": false,
     "start_time": "2022-06-18T11:49:57.574371",
     "status": "completed"
    },
    "tags": []
   },
   "outputs": [],
   "source": [
    "gene_corrs_corrected <- CorrectCM(gene_corrs, 1)"
   ]
  },
  {
   "cell_type": "code",
   "execution_count": 22,
   "id": "03c86284-5aac-4f66-86cc-74eb97102a7e",
   "metadata": {
    "execution": {
     "iopub.execute_input": "2022-06-18T11:49:58.143560Z",
     "iopub.status.busy": "2022-06-18T11:49:58.142653Z",
     "iopub.status.idle": "2022-06-18T11:49:58.152879Z",
     "shell.execute_reply": "2022-06-18T11:49:58.151145Z"
    },
    "papermill": {
     "duration": 0.018724,
     "end_time": "2022-06-18T11:49:58.154396",
     "exception": false,
     "start_time": "2022-06-18T11:49:58.135672",
     "status": "completed"
    },
    "tags": []
   },
   "outputs": [],
   "source": [
    "dimnames(gene_corrs_corrected)[[1]] <- rownames(gene_corrs)"
   ]
  },
  {
   "cell_type": "code",
   "execution_count": 23,
   "id": "576e7069-25ff-473d-8158-35b5f2ff212e",
   "metadata": {
    "execution": {
     "iopub.execute_input": "2022-06-18T11:49:58.168970Z",
     "iopub.status.busy": "2022-06-18T11:49:58.168082Z",
     "iopub.status.idle": "2022-06-18T11:49:58.178379Z",
     "shell.execute_reply": "2022-06-18T11:49:58.176574Z"
    },
    "papermill": {
     "duration": 0.018744,
     "end_time": "2022-06-18T11:49:58.179843",
     "exception": false,
     "start_time": "2022-06-18T11:49:58.161099",
     "status": "completed"
    },
    "tags": []
   },
   "outputs": [],
   "source": [
    "dimnames(gene_corrs_corrected)[[2]] <- colnames(gene_corrs)"
   ]
  },
  {
   "cell_type": "code",
   "execution_count": 24,
   "id": "f77d043a-321d-447f-8da5-2503981d3e73",
   "metadata": {
    "execution": {
     "iopub.execute_input": "2022-06-18T11:49:58.208478Z",
     "iopub.status.busy": "2022-06-18T11:49:58.207509Z",
     "iopub.status.idle": "2022-06-18T11:49:58.227447Z",
     "shell.execute_reply": "2022-06-18T11:49:58.226252Z"
    },
    "papermill": {
     "duration": 0.031666,
     "end_time": "2022-06-18T11:49:58.229127",
     "exception": false,
     "start_time": "2022-06-18T11:49:58.197461",
     "status": "completed"
    },
    "tags": []
   },
   "outputs": [],
   "source": [
    "gene_corrs_corrected <- as.data.frame(gene_corrs_corrected)"
   ]
  },
  {
   "cell_type": "code",
   "execution_count": 25,
   "id": "3e844024-f9a2-42a2-bbd0-695cfdbb78f5",
   "metadata": {
    "execution": {
     "iopub.execute_input": "2022-06-18T11:49:58.246304Z",
     "iopub.status.busy": "2022-06-18T11:49:58.245282Z",
     "iopub.status.idle": "2022-06-18T11:49:58.256123Z",
     "shell.execute_reply": "2022-06-18T11:49:58.254972Z"
    },
    "papermill": {
     "duration": 0.021168,
     "end_time": "2022-06-18T11:49:58.257842",
     "exception": false,
     "start_time": "2022-06-18T11:49:58.236674",
     "status": "completed"
    },
    "tags": []
   },
   "outputs": [
    {
     "data": {
      "text/html": [
       "<style>\n",
       ".list-inline {list-style: none; margin:0; padding: 0}\n",
       ".list-inline>li {display: inline-block}\n",
       ".list-inline>li:not(:last-child)::after {content: \"\\00b7\"; padding: 0 .5ex}\n",
       "</style>\n",
       "<ol class=list-inline><li>700</li><li>700</li></ol>\n"
      ],
      "text/latex": [
       "\\begin{enumerate*}\n",
       "\\item 700\n",
       "\\item 700\n",
       "\\end{enumerate*}\n"
      ],
      "text/markdown": [
       "1. 700\n",
       "2. 700\n",
       "\n",
       "\n"
      ],
      "text/plain": [
       "[1] 700 700"
      ]
     },
     "metadata": {},
     "output_type": "display_data"
    }
   ],
   "source": [
    "dim(gene_corrs_corrected)"
   ]
  },
  {
   "cell_type": "markdown",
   "id": "244b6bde-4ca8-46d1-acc7-b4c35b5d3c62",
   "metadata": {
    "papermill": {
     "duration": 0.007761,
     "end_time": "2022-06-18T11:49:58.272878",
     "exception": false,
     "start_time": "2022-06-18T11:49:58.265117",
     "status": "completed"
    },
    "tags": []
   },
   "source": [
    "# Check positive definiteness of corrected matrix"
   ]
  },
  {
   "cell_type": "code",
   "execution_count": 26,
   "id": "0fd5b688-e137-4619-910c-35130d32d600",
   "metadata": {
    "execution": {
     "iopub.execute_input": "2022-06-18T11:49:58.293848Z",
     "iopub.status.busy": "2022-06-18T11:49:58.292318Z",
     "iopub.status.idle": "2022-06-18T11:49:58.545317Z",
     "shell.execute_reply": "2022-06-18T11:49:58.543133Z"
    },
    "papermill": {
     "duration": 0.266205,
     "end_time": "2022-06-18T11:49:58.547130",
     "exception": false,
     "start_time": "2022-06-18T11:49:58.280925",
     "status": "completed"
    },
    "tags": []
   },
   "outputs": [
    {
     "data": {
      "text/html": [
       "'Matrix is already positive definite!'"
      ],
      "text/latex": [
       "'Matrix is already positive definite!'"
      ],
      "text/markdown": [
       "'Matrix is already positive definite!'"
      ],
      "text/plain": [
       "[1] \"Matrix is already positive definite!\""
      ]
     },
     "metadata": {},
     "output_type": "display_data"
    },
    {
     "data": {
      "text/html": [
       "TRUE"
      ],
      "text/latex": [
       "TRUE"
      ],
      "text/markdown": [
       "TRUE"
      ],
      "text/plain": [
       "[1] TRUE"
      ]
     },
     "metadata": {},
     "output_type": "display_data"
    }
   ],
   "source": [
    "is_positive_definite(gene_corrs_corrected)"
   ]
  },
  {
   "cell_type": "code",
   "execution_count": 27,
   "id": "06d23ab8-bebb-474c-be33-dca7e53c1717",
   "metadata": {
    "execution": {
     "iopub.execute_input": "2022-06-18T11:49:58.565601Z",
     "iopub.status.busy": "2022-06-18T11:49:58.564470Z",
     "iopub.status.idle": "2022-06-18T11:49:58.724111Z",
     "shell.execute_reply": "2022-06-18T11:49:58.719285Z"
    },
    "papermill": {
     "duration": 0.170317,
     "end_time": "2022-06-18T11:49:58.725777",
     "exception": false,
     "start_time": "2022-06-18T11:49:58.555460",
     "status": "completed"
    },
    "tags": []
   },
   "outputs": [],
   "source": [
    "# see eigenvalues\n",
    "eigenvalues <- eigen(gene_corrs_corrected)$values"
   ]
  },
  {
   "cell_type": "code",
   "execution_count": 28,
   "id": "ddf8afb8-e0e2-4b4e-876d-12bd6856c1ad",
   "metadata": {
    "execution": {
     "iopub.execute_input": "2022-06-18T11:49:58.740938Z",
     "iopub.status.busy": "2022-06-18T11:49:58.739955Z",
     "iopub.status.idle": "2022-06-18T11:49:58.758226Z",
     "shell.execute_reply": "2022-06-18T11:49:58.756417Z"
    },
    "papermill": {
     "duration": 0.027135,
     "end_time": "2022-06-18T11:49:58.759681",
     "exception": false,
     "start_time": "2022-06-18T11:49:58.732546",
     "status": "completed"
    },
    "tags": []
   },
   "outputs": [
    {
     "data": {
      "text/html": [
       "0"
      ],
      "text/latex": [
       "0"
      ],
      "text/markdown": [
       "0"
      ],
      "text/plain": [
       "[1] 0"
      ]
     },
     "metadata": {},
     "output_type": "display_data"
    },
    {
     "data": {
      "text/html": [],
      "text/latex": [],
      "text/markdown": [],
      "text/plain": [
       "numeric(0)"
      ]
     },
     "metadata": {},
     "output_type": "display_data"
    }
   ],
   "source": [
    "nonpositive_eigenvalues <- eigenvalues[eigenvalues <= 0]\n",
    "IRdisplay::display(length(nonpositive_eigenvalues))\n",
    "IRdisplay::display(nonpositive_eigenvalues)"
   ]
  },
  {
   "cell_type": "code",
   "execution_count": 29,
   "id": "712fd71a-b6ec-4a13-a956-80c99be7f585",
   "metadata": {
    "execution": {
     "iopub.execute_input": "2022-06-18T11:49:58.775325Z",
     "iopub.status.busy": "2022-06-18T11:49:58.774465Z",
     "iopub.status.idle": "2022-06-18T11:49:58.784740Z",
     "shell.execute_reply": "2022-06-18T11:49:58.782891Z"
    },
    "papermill": {
     "duration": 0.019835,
     "end_time": "2022-06-18T11:49:58.786459",
     "exception": false,
     "start_time": "2022-06-18T11:49:58.766624",
     "status": "completed"
    },
    "tags": []
   },
   "outputs": [],
   "source": [
    "stopifnot(length(eigenvalues[eigenvalues <= 0]) == 0)"
   ]
  },
  {
   "cell_type": "code",
   "execution_count": 30,
   "id": "786d6336-3844-40f7-979b-6d6028787f7f",
   "metadata": {
    "execution": {
     "iopub.execute_input": "2022-06-18T11:49:58.802441Z",
     "iopub.status.busy": "2022-06-18T11:49:58.801504Z",
     "iopub.status.idle": "2022-06-18T11:49:58.828496Z",
     "shell.execute_reply": "2022-06-18T11:49:58.827317Z"
    },
    "papermill": {
     "duration": 0.036478,
     "end_time": "2022-06-18T11:49:58.830283",
     "exception": false,
     "start_time": "2022-06-18T11:49:58.793805",
     "status": "completed"
    },
    "tags": []
   },
   "outputs": [
    {
     "data": {
      "text/html": [
       "<table class=\"dataframe\">\n",
       "<caption>A data.frame: 6 × 10</caption>\n",
       "<thead>\n",
       "\t<tr><th></th><th scope=col>ENSG00000188976</th><th scope=col>ENSG00000188290</th><th scope=col>ENSG00000187608</th><th scope=col>ENSG00000188157</th><th scope=col>ENSG00000186891</th><th scope=col>ENSG00000186827</th><th scope=col>ENSG00000176022</th><th scope=col>ENSG00000160087</th><th scope=col>ENSG00000131584</th><th scope=col>ENSG00000169962</th></tr>\n",
       "\t<tr><th></th><th scope=col>&lt;dbl&gt;</th><th scope=col>&lt;dbl&gt;</th><th scope=col>&lt;dbl&gt;</th><th scope=col>&lt;dbl&gt;</th><th scope=col>&lt;dbl&gt;</th><th scope=col>&lt;dbl&gt;</th><th scope=col>&lt;dbl&gt;</th><th scope=col>&lt;dbl&gt;</th><th scope=col>&lt;dbl&gt;</th><th scope=col>&lt;dbl&gt;</th></tr>\n",
       "</thead>\n",
       "<tbody>\n",
       "\t<tr><th scope=row>ENSG00000188976</th><td> 1.00000000</td><td> 0.02361128</td><td> 0.051490837</td><td>-0.34217863</td><td> 0.023875079</td><td> 0.05151428</td><td>-0.11406162</td><td>-0.04373261</td><td> 0.017677782</td><td> 0.068202071</td></tr>\n",
       "\t<tr><th scope=row>ENSG00000188290</th><td> 0.02361128</td><td> 1.00000000</td><td> 0.136524599</td><td>-0.07697149</td><td> 0.092037617</td><td>-0.05575377</td><td>-0.06365866</td><td>-0.06995675</td><td> 0.103245595</td><td>-0.060622698</td></tr>\n",
       "\t<tr><th scope=row>ENSG00000187608</th><td> 0.05149084</td><td> 0.13652460</td><td> 1.000000000</td><td> 0.01305981</td><td>-0.009458447</td><td>-0.07905110</td><td>-0.24629385</td><td>-0.06376631</td><td> 0.016577053</td><td>-0.097012421</td></tr>\n",
       "\t<tr><th scope=row>ENSG00000188157</th><td>-0.34217863</td><td>-0.07697149</td><td> 0.013059813</td><td> 1.00000000</td><td>-0.058856618</td><td>-0.14024394</td><td>-0.25159589</td><td>-0.04346579</td><td>-0.005467761</td><td>-0.034212459</td></tr>\n",
       "\t<tr><th scope=row>ENSG00000186891</th><td> 0.02387508</td><td> 0.09203762</td><td>-0.009458447</td><td>-0.05885662</td><td> 1.000000000</td><td> 0.09812693</td><td> 0.27406428</td><td>-0.19015347</td><td> 0.277689351</td><td>-0.034433500</td></tr>\n",
       "\t<tr><th scope=row>ENSG00000186827</th><td> 0.05151428</td><td>-0.05575377</td><td>-0.079051100</td><td>-0.14024394</td><td> 0.098126927</td><td> 1.00000000</td><td> 0.20819153</td><td> 0.16215540</td><td> 0.041733146</td><td> 0.001576558</td></tr>\n",
       "</tbody>\n",
       "</table>\n"
      ],
      "text/latex": [
       "A data.frame: 6 × 10\n",
       "\\begin{tabular}{r|llllllllll}\n",
       "  & ENSG00000188976 & ENSG00000188290 & ENSG00000187608 & ENSG00000188157 & ENSG00000186891 & ENSG00000186827 & ENSG00000176022 & ENSG00000160087 & ENSG00000131584 & ENSG00000169962\\\\\n",
       "  & <dbl> & <dbl> & <dbl> & <dbl> & <dbl> & <dbl> & <dbl> & <dbl> & <dbl> & <dbl>\\\\\n",
       "\\hline\n",
       "\tENSG00000188976 &  1.00000000 &  0.02361128 &  0.051490837 & -0.34217863 &  0.023875079 &  0.05151428 & -0.11406162 & -0.04373261 &  0.017677782 &  0.068202071\\\\\n",
       "\tENSG00000188290 &  0.02361128 &  1.00000000 &  0.136524599 & -0.07697149 &  0.092037617 & -0.05575377 & -0.06365866 & -0.06995675 &  0.103245595 & -0.060622698\\\\\n",
       "\tENSG00000187608 &  0.05149084 &  0.13652460 &  1.000000000 &  0.01305981 & -0.009458447 & -0.07905110 & -0.24629385 & -0.06376631 &  0.016577053 & -0.097012421\\\\\n",
       "\tENSG00000188157 & -0.34217863 & -0.07697149 &  0.013059813 &  1.00000000 & -0.058856618 & -0.14024394 & -0.25159589 & -0.04346579 & -0.005467761 & -0.034212459\\\\\n",
       "\tENSG00000186891 &  0.02387508 &  0.09203762 & -0.009458447 & -0.05885662 &  1.000000000 &  0.09812693 &  0.27406428 & -0.19015347 &  0.277689351 & -0.034433500\\\\\n",
       "\tENSG00000186827 &  0.05151428 & -0.05575377 & -0.079051100 & -0.14024394 &  0.098126927 &  1.00000000 &  0.20819153 &  0.16215540 &  0.041733146 &  0.001576558\\\\\n",
       "\\end{tabular}\n"
      ],
      "text/markdown": [
       "\n",
       "A data.frame: 6 × 10\n",
       "\n",
       "| <!--/--> | ENSG00000188976 &lt;dbl&gt; | ENSG00000188290 &lt;dbl&gt; | ENSG00000187608 &lt;dbl&gt; | ENSG00000188157 &lt;dbl&gt; | ENSG00000186891 &lt;dbl&gt; | ENSG00000186827 &lt;dbl&gt; | ENSG00000176022 &lt;dbl&gt; | ENSG00000160087 &lt;dbl&gt; | ENSG00000131584 &lt;dbl&gt; | ENSG00000169962 &lt;dbl&gt; |\n",
       "|---|---|---|---|---|---|---|---|---|---|---|\n",
       "| ENSG00000188976 |  1.00000000 |  0.02361128 |  0.051490837 | -0.34217863 |  0.023875079 |  0.05151428 | -0.11406162 | -0.04373261 |  0.017677782 |  0.068202071 |\n",
       "| ENSG00000188290 |  0.02361128 |  1.00000000 |  0.136524599 | -0.07697149 |  0.092037617 | -0.05575377 | -0.06365866 | -0.06995675 |  0.103245595 | -0.060622698 |\n",
       "| ENSG00000187608 |  0.05149084 |  0.13652460 |  1.000000000 |  0.01305981 | -0.009458447 | -0.07905110 | -0.24629385 | -0.06376631 |  0.016577053 | -0.097012421 |\n",
       "| ENSG00000188157 | -0.34217863 | -0.07697149 |  0.013059813 |  1.00000000 | -0.058856618 | -0.14024394 | -0.25159589 | -0.04346579 | -0.005467761 | -0.034212459 |\n",
       "| ENSG00000186891 |  0.02387508 |  0.09203762 | -0.009458447 | -0.05885662 |  1.000000000 |  0.09812693 |  0.27406428 | -0.19015347 |  0.277689351 | -0.034433500 |\n",
       "| ENSG00000186827 |  0.05151428 | -0.05575377 | -0.079051100 | -0.14024394 |  0.098126927 |  1.00000000 |  0.20819153 |  0.16215540 |  0.041733146 |  0.001576558 |\n",
       "\n"
      ],
      "text/plain": [
       "                ENSG00000188976 ENSG00000188290 ENSG00000187608 ENSG00000188157\n",
       "ENSG00000188976  1.00000000      0.02361128      0.051490837    -0.34217863    \n",
       "ENSG00000188290  0.02361128      1.00000000      0.136524599    -0.07697149    \n",
       "ENSG00000187608  0.05149084      0.13652460      1.000000000     0.01305981    \n",
       "ENSG00000188157 -0.34217863     -0.07697149      0.013059813     1.00000000    \n",
       "ENSG00000186891  0.02387508      0.09203762     -0.009458447    -0.05885662    \n",
       "ENSG00000186827  0.05151428     -0.05575377     -0.079051100    -0.14024394    \n",
       "                ENSG00000186891 ENSG00000186827 ENSG00000176022 ENSG00000160087\n",
       "ENSG00000188976  0.023875079     0.05151428     -0.11406162     -0.04373261    \n",
       "ENSG00000188290  0.092037617    -0.05575377     -0.06365866     -0.06995675    \n",
       "ENSG00000187608 -0.009458447    -0.07905110     -0.24629385     -0.06376631    \n",
       "ENSG00000188157 -0.058856618    -0.14024394     -0.25159589     -0.04346579    \n",
       "ENSG00000186891  1.000000000     0.09812693      0.27406428     -0.19015347    \n",
       "ENSG00000186827  0.098126927     1.00000000      0.20819153      0.16215540    \n",
       "                ENSG00000131584 ENSG00000169962\n",
       "ENSG00000188976  0.017677782     0.068202071   \n",
       "ENSG00000188290  0.103245595    -0.060622698   \n",
       "ENSG00000187608  0.016577053    -0.097012421   \n",
       "ENSG00000188157 -0.005467761    -0.034212459   \n",
       "ENSG00000186891  0.277689351    -0.034433500   \n",
       "ENSG00000186827  0.041733146     0.001576558   "
      ]
     },
     "metadata": {},
     "output_type": "display_data"
    },
    {
     "data": {
      "text/html": [
       "<table class=\"dataframe\">\n",
       "<caption>A data.frame: 6 × 10</caption>\n",
       "<thead>\n",
       "\t<tr><th></th><th scope=col>ENSG00000188976</th><th scope=col>ENSG00000188290</th><th scope=col>ENSG00000187608</th><th scope=col>ENSG00000188157</th><th scope=col>ENSG00000186891</th><th scope=col>ENSG00000186827</th><th scope=col>ENSG00000176022</th><th scope=col>ENSG00000160087</th><th scope=col>ENSG00000131584</th><th scope=col>ENSG00000169962</th></tr>\n",
       "\t<tr><th></th><th scope=col>&lt;dbl&gt;</th><th scope=col>&lt;dbl&gt;</th><th scope=col>&lt;dbl&gt;</th><th scope=col>&lt;dbl&gt;</th><th scope=col>&lt;dbl&gt;</th><th scope=col>&lt;dbl&gt;</th><th scope=col>&lt;dbl&gt;</th><th scope=col>&lt;dbl&gt;</th><th scope=col>&lt;dbl&gt;</th><th scope=col>&lt;dbl&gt;</th></tr>\n",
       "</thead>\n",
       "<tbody>\n",
       "\t<tr><th scope=row>ENSG00000188976</th><td> 1.00000000</td><td> 0.062865932</td><td>-0.01084716</td><td>-0.13166975</td><td> 0.03709920</td><td> 0.019131155</td><td>-0.001807355</td><td>-0.05621752</td><td> 0.026165101</td><td>-0.0003533378</td></tr>\n",
       "\t<tr><th scope=row>ENSG00000188290</th><td> 0.06286593</td><td> 1.000000000</td><td> 0.08933150</td><td>-0.03363005</td><td> 0.03708635</td><td> 0.006598331</td><td>-0.003540029</td><td>-0.02882759</td><td> 0.057050439</td><td>-0.0354044988</td></tr>\n",
       "\t<tr><th scope=row>ENSG00000187608</th><td>-0.01084716</td><td> 0.089331499</td><td> 1.00000000</td><td> 0.00100939</td><td>-0.03557471</td><td>-0.022576077</td><td>-0.084672840</td><td>-0.04583607</td><td>-0.022564390</td><td>-0.0258651220</td></tr>\n",
       "\t<tr><th scope=row>ENSG00000188157</th><td>-0.13166975</td><td>-0.033630047</td><td> 0.00100939</td><td> 1.00000000</td><td>-0.08416525</td><td>-0.081193321</td><td>-0.123104554</td><td>-0.01348113</td><td>-0.004321667</td><td> 0.0098954284</td></tr>\n",
       "\t<tr><th scope=row>ENSG00000186891</th><td> 0.03709920</td><td> 0.037086349</td><td>-0.03557471</td><td>-0.08416525</td><td> 1.00000000</td><td> 0.061211912</td><td> 0.175984655</td><td>-0.06478961</td><td> 0.155956436</td><td>-0.0311701177</td></tr>\n",
       "\t<tr><th scope=row>ENSG00000186827</th><td> 0.01913116</td><td> 0.006598331</td><td>-0.02257608</td><td>-0.08119332</td><td> 0.06121191</td><td> 1.000000000</td><td> 0.207030575</td><td> 0.07861739</td><td> 0.048532776</td><td>-0.0083645054</td></tr>\n",
       "</tbody>\n",
       "</table>\n"
      ],
      "text/latex": [
       "A data.frame: 6 × 10\n",
       "\\begin{tabular}{r|llllllllll}\n",
       "  & ENSG00000188976 & ENSG00000188290 & ENSG00000187608 & ENSG00000188157 & ENSG00000186891 & ENSG00000186827 & ENSG00000176022 & ENSG00000160087 & ENSG00000131584 & ENSG00000169962\\\\\n",
       "  & <dbl> & <dbl> & <dbl> & <dbl> & <dbl> & <dbl> & <dbl> & <dbl> & <dbl> & <dbl>\\\\\n",
       "\\hline\n",
       "\tENSG00000188976 &  1.00000000 &  0.062865932 & -0.01084716 & -0.13166975 &  0.03709920 &  0.019131155 & -0.001807355 & -0.05621752 &  0.026165101 & -0.0003533378\\\\\n",
       "\tENSG00000188290 &  0.06286593 &  1.000000000 &  0.08933150 & -0.03363005 &  0.03708635 &  0.006598331 & -0.003540029 & -0.02882759 &  0.057050439 & -0.0354044988\\\\\n",
       "\tENSG00000187608 & -0.01084716 &  0.089331499 &  1.00000000 &  0.00100939 & -0.03557471 & -0.022576077 & -0.084672840 & -0.04583607 & -0.022564390 & -0.0258651220\\\\\n",
       "\tENSG00000188157 & -0.13166975 & -0.033630047 &  0.00100939 &  1.00000000 & -0.08416525 & -0.081193321 & -0.123104554 & -0.01348113 & -0.004321667 &  0.0098954284\\\\\n",
       "\tENSG00000186891 &  0.03709920 &  0.037086349 & -0.03557471 & -0.08416525 &  1.00000000 &  0.061211912 &  0.175984655 & -0.06478961 &  0.155956436 & -0.0311701177\\\\\n",
       "\tENSG00000186827 &  0.01913116 &  0.006598331 & -0.02257608 & -0.08119332 &  0.06121191 &  1.000000000 &  0.207030575 &  0.07861739 &  0.048532776 & -0.0083645054\\\\\n",
       "\\end{tabular}\n"
      ],
      "text/markdown": [
       "\n",
       "A data.frame: 6 × 10\n",
       "\n",
       "| <!--/--> | ENSG00000188976 &lt;dbl&gt; | ENSG00000188290 &lt;dbl&gt; | ENSG00000187608 &lt;dbl&gt; | ENSG00000188157 &lt;dbl&gt; | ENSG00000186891 &lt;dbl&gt; | ENSG00000186827 &lt;dbl&gt; | ENSG00000176022 &lt;dbl&gt; | ENSG00000160087 &lt;dbl&gt; | ENSG00000131584 &lt;dbl&gt; | ENSG00000169962 &lt;dbl&gt; |\n",
       "|---|---|---|---|---|---|---|---|---|---|---|\n",
       "| ENSG00000188976 |  1.00000000 |  0.062865932 | -0.01084716 | -0.13166975 |  0.03709920 |  0.019131155 | -0.001807355 | -0.05621752 |  0.026165101 | -0.0003533378 |\n",
       "| ENSG00000188290 |  0.06286593 |  1.000000000 |  0.08933150 | -0.03363005 |  0.03708635 |  0.006598331 | -0.003540029 | -0.02882759 |  0.057050439 | -0.0354044988 |\n",
       "| ENSG00000187608 | -0.01084716 |  0.089331499 |  1.00000000 |  0.00100939 | -0.03557471 | -0.022576077 | -0.084672840 | -0.04583607 | -0.022564390 | -0.0258651220 |\n",
       "| ENSG00000188157 | -0.13166975 | -0.033630047 |  0.00100939 |  1.00000000 | -0.08416525 | -0.081193321 | -0.123104554 | -0.01348113 | -0.004321667 |  0.0098954284 |\n",
       "| ENSG00000186891 |  0.03709920 |  0.037086349 | -0.03557471 | -0.08416525 |  1.00000000 |  0.061211912 |  0.175984655 | -0.06478961 |  0.155956436 | -0.0311701177 |\n",
       "| ENSG00000186827 |  0.01913116 |  0.006598331 | -0.02257608 | -0.08119332 |  0.06121191 |  1.000000000 |  0.207030575 |  0.07861739 |  0.048532776 | -0.0083645054 |\n",
       "\n"
      ],
      "text/plain": [
       "                ENSG00000188976 ENSG00000188290 ENSG00000187608 ENSG00000188157\n",
       "ENSG00000188976  1.00000000      0.062865932    -0.01084716     -0.13166975    \n",
       "ENSG00000188290  0.06286593      1.000000000     0.08933150     -0.03363005    \n",
       "ENSG00000187608 -0.01084716      0.089331499     1.00000000      0.00100939    \n",
       "ENSG00000188157 -0.13166975     -0.033630047     0.00100939      1.00000000    \n",
       "ENSG00000186891  0.03709920      0.037086349    -0.03557471     -0.08416525    \n",
       "ENSG00000186827  0.01913116      0.006598331    -0.02257608     -0.08119332    \n",
       "                ENSG00000186891 ENSG00000186827 ENSG00000176022 ENSG00000160087\n",
       "ENSG00000188976  0.03709920      0.019131155    -0.001807355    -0.05621752    \n",
       "ENSG00000188290  0.03708635      0.006598331    -0.003540029    -0.02882759    \n",
       "ENSG00000187608 -0.03557471     -0.022576077    -0.084672840    -0.04583607    \n",
       "ENSG00000188157 -0.08416525     -0.081193321    -0.123104554    -0.01348113    \n",
       "ENSG00000186891  1.00000000      0.061211912     0.175984655    -0.06478961    \n",
       "ENSG00000186827  0.06121191      1.000000000     0.207030575     0.07861739    \n",
       "                ENSG00000131584 ENSG00000169962\n",
       "ENSG00000188976  0.026165101    -0.0003533378  \n",
       "ENSG00000188290  0.057050439    -0.0354044988  \n",
       "ENSG00000187608 -0.022564390    -0.0258651220  \n",
       "ENSG00000188157 -0.004321667     0.0098954284  \n",
       "ENSG00000186891  0.155956436    -0.0311701177  \n",
       "ENSG00000186827  0.048532776    -0.0083645054  "
      ]
     },
     "metadata": {},
     "output_type": "display_data"
    }
   ],
   "source": [
    "# quick and visual comparison of the two matrices\n",
    "IRdisplay::display(head(gene_corrs[1:10, 1:10]))\n",
    "IRdisplay::display(head(gene_corrs_corrected[1:10, 1:10]))"
   ]
  },
  {
   "cell_type": "markdown",
   "id": "c6c40f1a-d153-475a-94eb-c71697ad9d51",
   "metadata": {
    "papermill": {
     "duration": 0.007506,
     "end_time": "2022-06-18T11:49:58.845936",
     "exception": false,
     "start_time": "2022-06-18T11:49:58.838430",
     "status": "completed"
    },
    "tags": []
   },
   "source": [
    "Both matrices should \"look\" similar. We are not interested in perfectly accurate correlation values (they are already inaccurate)."
   ]
  },
  {
   "cell_type": "markdown",
   "id": "bf0f49cb-9c21-4616-8390-bb68d52dae56",
   "metadata": {
    "papermill": {
     "duration": 0.007353,
     "end_time": "2022-06-18T11:49:58.860734",
     "exception": false,
     "start_time": "2022-06-18T11:49:58.853381",
     "status": "completed"
    },
    "tags": []
   },
   "source": [
    "# Save"
   ]
  },
  {
   "cell_type": "code",
   "execution_count": 31,
   "id": "2e58e7f3-a75c-4195-a20e-39e3e3e1cc9a",
   "metadata": {
    "execution": {
     "iopub.execute_input": "2022-06-18T11:49:58.877331Z",
     "iopub.status.busy": "2022-06-18T11:49:58.876406Z",
     "iopub.status.idle": "2022-06-18T11:49:58.915957Z",
     "shell.execute_reply": "2022-06-18T11:49:58.914812Z"
    },
    "papermill": {
     "duration": 0.049523,
     "end_time": "2022-06-18T11:49:58.917629",
     "exception": false,
     "start_time": "2022-06-18T11:49:58.868106",
     "status": "completed"
    },
    "tags": []
   },
   "outputs": [],
   "source": [
    "py_save_object(gene_corrs_corrected, OUTPUT_FILE)"
   ]
  },
  {
   "cell_type": "code",
   "execution_count": null,
   "id": "d8ae4220-2171-460c-9231-cd5219f3fe77",
   "metadata": {
    "papermill": {
     "duration": 0.007238,
     "end_time": "2022-06-18T11:49:58.932533",
     "exception": false,
     "start_time": "2022-06-18T11:49:58.925295",
     "status": "completed"
    },
    "tags": []
   },
   "outputs": [],
   "source": []
  }
 ],
 "metadata": {
  "jupytext": {
   "cell_metadata_filter": "all,-execution,-papermill,-trusted"
  },
  "kernelspec": {
   "display_name": "R",
   "language": "R",
   "name": "ir"
  },
  "language_info": {
   "codemirror_mode": "r",
   "file_extension": ".r",
   "mimetype": "text/x-r-source",
   "name": "R",
   "pygments_lexer": "r",
   "version": "3.6.3"
  },
  "papermill": {
   "default_parameters": {},
   "duration": 7.160781,
   "end_time": "2022-06-18T11:49:59.056541",
   "environment_variables": {},
   "exception": null,
   "input_path": "nbs/15_gsa_gls/12-gene_expr_correlations-adjust.ipynb",
   "output_path": "nbs/15_gsa_gls/gene_corrs/gtex_v8/mashr/12-gene_expr_correlations-adjust-chr1.run.ipynb",
   "parameters": {
    "EQTL_MODEL": "MASHR",
    "REFERENCE_PANEL": "GTEX_V8",
    "chromosome": 1
   },
   "start_time": "2022-06-18T11:49:51.895760",
   "version": "2.3.4"
  }
 },
 "nbformat": 4,
 "nbformat_minor": 5
}
