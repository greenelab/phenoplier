{
 "cells": [
  {
   "cell_type": "markdown",
   "id": "5ef66977",
   "metadata": {
    "papermill": {
     "duration": 0.0122,
     "end_time": "2022-06-06T17:01:11.268666",
     "exception": false,
     "start_time": "2022-06-06T17:01:11.256466",
     "status": "completed"
    },
    "tags": []
   },
   "source": [
    "# Description"
   ]
  },
  {
   "cell_type": "markdown",
   "id": "658d4f7c",
   "metadata": {
    "papermill": {
     "duration": 0.009885,
     "end_time": "2022-06-06T17:01:11.289817",
     "exception": false,
     "start_time": "2022-06-06T17:01:11.279932",
     "status": "completed"
    },
    "tags": []
   },
   "source": [
    "(Please, take a look at the README.md file in this directory for instructions on how to run this notebook)\n",
    "\n",
    "This notebook reads all gene correlations across all tissues and computes a single correlation matrix using the mean of correlations across all tissues."
   ]
  },
  {
   "cell_type": "markdown",
   "id": "60fa4530",
   "metadata": {
    "papermill": {
     "duration": 0.008556,
     "end_time": "2022-06-06T17:01:11.307484",
     "exception": false,
     "start_time": "2022-06-06T17:01:11.298928",
     "status": "completed"
    },
    "tags": []
   },
   "source": [
    "# Modules"
   ]
  },
  {
   "cell_type": "code",
   "execution_count": 1,
   "id": "d70b0833",
   "metadata": {
    "execution": {
     "iopub.execute_input": "2022-06-06T17:01:11.354801Z",
     "iopub.status.busy": "2022-06-06T17:01:11.354547Z",
     "iopub.status.idle": "2022-06-06T17:01:11.373677Z",
     "shell.execute_reply": "2022-06-06T17:01:11.373060Z"
    },
    "papermill": {
     "duration": 0.058684,
     "end_time": "2022-06-06T17:01:11.375468",
     "exception": false,
     "start_time": "2022-06-06T17:01:11.316784",
     "status": "completed"
    },
    "tags": []
   },
   "outputs": [],
   "source": [
    "%load_ext autoreload\n",
    "%autoreload 2"
   ]
  },
  {
   "cell_type": "code",
   "execution_count": 2,
   "id": "6b2f9ca0",
   "metadata": {
    "execution": {
     "iopub.execute_input": "2022-06-06T17:01:11.398119Z",
     "iopub.status.busy": "2022-06-06T17:01:11.397938Z",
     "iopub.status.idle": "2022-06-06T17:01:11.874851Z",
     "shell.execute_reply": "2022-06-06T17:01:11.874245Z"
    },
    "papermill": {
     "duration": 0.489762,
     "end_time": "2022-06-06T17:01:11.876494",
     "exception": false,
     "start_time": "2022-06-06T17:01:11.386732",
     "status": "completed"
    },
    "tags": []
   },
   "outputs": [],
   "source": [
    "import numpy as np\n",
    "from scipy.spatial.distance import squareform\n",
    "import pandas as pd\n",
    "\n",
    "import conf\n",
    "from entity import Gene"
   ]
  },
  {
   "cell_type": "markdown",
   "id": "5b96e797",
   "metadata": {
    "papermill": {
     "duration": 0.008923,
     "end_time": "2022-06-06T17:01:11.895138",
     "exception": false,
     "start_time": "2022-06-06T17:01:11.886215",
     "status": "completed"
    },
    "tags": []
   },
   "source": [
    "# Settings"
   ]
  },
  {
   "cell_type": "code",
   "execution_count": 3,
   "id": "4fc1b6a0",
   "metadata": {
    "execution": {
     "iopub.execute_input": "2022-06-06T17:01:11.913770Z",
     "iopub.status.busy": "2022-06-06T17:01:11.913541Z",
     "iopub.status.idle": "2022-06-06T17:01:11.926848Z",
     "shell.execute_reply": "2022-06-06T17:01:11.926339Z"
    },
    "papermill": {
     "duration": 0.024344,
     "end_time": "2022-06-06T17:01:11.928200",
     "exception": false,
     "start_time": "2022-06-06T17:01:11.903856",
     "status": "completed"
    },
    "tags": [
     "parameters"
    ]
   },
   "outputs": [],
   "source": [
    "# reference panel\n",
    "REFERENCE_PANEL = \"GTEX_V8\"\n",
    "# REFERENCE_PANEL = \"1000G\"\n",
    "\n",
    "# prediction models\n",
    "## mashr\n",
    "EQTL_MODEL = \"MASHR\"\n",
    "EQTL_MODEL_FILES_PREFIX = \"mashr_\"\n",
    "\n",
    "# ## elastic net\n",
    "# EQTL_MODEL = \"ELASTIC_NET\"\n",
    "# EQTL_MODEL_FILES_PREFIX = \"en_\"\n",
    "\n",
    "# make it read the prefix from conf.py\n",
    "EQTL_MODEL_FILES_PREFIX = None"
   ]
  },
  {
   "cell_type": "code",
   "execution_count": 4,
   "id": "0f04ac5c",
   "metadata": {
    "execution": {
     "iopub.execute_input": "2022-06-06T17:01:11.946853Z",
     "iopub.status.busy": "2022-06-06T17:01:11.946630Z",
     "iopub.status.idle": "2022-06-06T17:01:11.959951Z",
     "shell.execute_reply": "2022-06-06T17:01:11.959462Z"
    },
    "papermill": {
     "duration": 0.024129,
     "end_time": "2022-06-06T17:01:11.961352",
     "exception": false,
     "start_time": "2022-06-06T17:01:11.937223",
     "status": "completed"
    },
    "tags": [
     "injected-parameters"
    ]
   },
   "outputs": [],
   "source": [
    "# Parameters\n",
    "REFERENCE_PANEL = \"GTEX_V8\"\n",
    "EQTL_MODEL = \"MASHR\"\n"
   ]
  },
  {
   "cell_type": "code",
   "execution_count": 5,
   "id": "92e6297a",
   "metadata": {
    "execution": {
     "iopub.execute_input": "2022-06-06T17:01:11.980484Z",
     "iopub.status.busy": "2022-06-06T17:01:11.980313Z",
     "iopub.status.idle": "2022-06-06T17:01:11.993444Z",
     "shell.execute_reply": "2022-06-06T17:01:11.992903Z"
    },
    "papermill": {
     "duration": 0.024251,
     "end_time": "2022-06-06T17:01:11.994849",
     "exception": false,
     "start_time": "2022-06-06T17:01:11.970598",
     "status": "completed"
    },
    "tags": []
   },
   "outputs": [],
   "source": [
    "if EQTL_MODEL_FILES_PREFIX is None:\n",
    "    EQTL_MODEL_FILES_PREFIX = conf.PHENOMEXCAN[\"PREDICTION_MODELS\"][\n",
    "        f\"{EQTL_MODEL}_PREFIX\"\n",
    "    ]"
   ]
  },
  {
   "cell_type": "code",
   "execution_count": 6,
   "id": "c76e4f93",
   "metadata": {
    "execution": {
     "iopub.execute_input": "2022-06-06T17:01:12.014236Z",
     "iopub.status.busy": "2022-06-06T17:01:12.014049Z",
     "iopub.status.idle": "2022-06-06T17:01:12.032161Z",
     "shell.execute_reply": "2022-06-06T17:01:12.031628Z"
    },
    "papermill": {
     "duration": 0.029351,
     "end_time": "2022-06-06T17:01:12.033577",
     "exception": false,
     "start_time": "2022-06-06T17:01:12.004226",
     "status": "completed"
    },
    "tags": []
   },
   "outputs": [
    {
     "data": {
      "text/plain": [
       "'Using eQTL model: MASHR / mashr_'"
      ]
     },
     "metadata": {},
     "output_type": "display_data"
    }
   ],
   "source": [
    "display(f\"Using eQTL model: {EQTL_MODEL} / {EQTL_MODEL_FILES_PREFIX}\")"
   ]
  },
  {
   "cell_type": "code",
   "execution_count": 7,
   "id": "8b85565e-d749-42a9-840d-794f535503ce",
   "metadata": {
    "execution": {
     "iopub.execute_input": "2022-06-06T17:01:12.052898Z",
     "iopub.status.busy": "2022-06-06T17:01:12.052732Z",
     "iopub.status.idle": "2022-06-06T17:01:12.065687Z",
     "shell.execute_reply": "2022-06-06T17:01:12.065197Z"
    },
    "papermill": {
     "duration": 0.024161,
     "end_time": "2022-06-06T17:01:12.067083",
     "exception": false,
     "start_time": "2022-06-06T17:01:12.042922",
     "status": "completed"
    },
    "tags": []
   },
   "outputs": [],
   "source": [
    "REFERENCE_PANEL_DIR = conf.PHENOMEXCAN[\"LD_BLOCKS\"][f\"{REFERENCE_PANEL}_GENOTYPE_DIR\"]"
   ]
  },
  {
   "cell_type": "code",
   "execution_count": 8,
   "id": "7d88b555-08c0-4a85-94e1-c7679a361093",
   "metadata": {
    "execution": {
     "iopub.execute_input": "2022-06-06T17:01:12.086345Z",
     "iopub.status.busy": "2022-06-06T17:01:12.086181Z",
     "iopub.status.idle": "2022-06-06T17:01:12.100067Z",
     "shell.execute_reply": "2022-06-06T17:01:12.099418Z"
    },
    "papermill": {
     "duration": 0.024994,
     "end_time": "2022-06-06T17:01:12.101421",
     "exception": false,
     "start_time": "2022-06-06T17:01:12.076427",
     "status": "completed"
    },
    "tags": []
   },
   "outputs": [
    {
     "data": {
      "text/plain": [
       "'Using reference panel folder: /opt/data/data/phenomexcan/ld_blocks/reference_panel_gtex_v8'"
      ]
     },
     "metadata": {},
     "output_type": "display_data"
    }
   ],
   "source": [
    "display(f\"Using reference panel folder: {str(REFERENCE_PANEL_DIR)}\")"
   ]
  },
  {
   "cell_type": "code",
   "execution_count": 9,
   "id": "ac0c0705-90e4-42f8-8298-a457c7e778ff",
   "metadata": {
    "execution": {
     "iopub.execute_input": "2022-06-06T17:01:12.121478Z",
     "iopub.status.busy": "2022-06-06T17:01:12.121312Z",
     "iopub.status.idle": "2022-06-06T17:01:12.134955Z",
     "shell.execute_reply": "2022-06-06T17:01:12.134348Z"
    },
    "papermill": {
     "duration": 0.025228,
     "end_time": "2022-06-06T17:01:12.136349",
     "exception": false,
     "start_time": "2022-06-06T17:01:12.111121",
     "status": "completed"
    },
    "tags": []
   },
   "outputs": [],
   "source": [
    "OUTPUT_DIR_BASE = (\n",
    "    conf.PHENOMEXCAN[\"LD_BLOCKS\"][f\"GENE_CORRS_DIR\"]\n",
    "    / REFERENCE_PANEL.lower()\n",
    "    / EQTL_MODEL.lower()\n",
    ")\n",
    "OUTPUT_DIR_BASE.mkdir(parents=True, exist_ok=True)"
   ]
  },
  {
   "cell_type": "code",
   "execution_count": 10,
   "id": "91e9b1f6-954d-494f-9ace-c2c9dfc74d4f",
   "metadata": {
    "execution": {
     "iopub.execute_input": "2022-06-06T17:01:12.156462Z",
     "iopub.status.busy": "2022-06-06T17:01:12.156292Z",
     "iopub.status.idle": "2022-06-06T17:01:12.169929Z",
     "shell.execute_reply": "2022-06-06T17:01:12.169427Z"
    },
    "papermill": {
     "duration": 0.02507,
     "end_time": "2022-06-06T17:01:12.171174",
     "exception": false,
     "start_time": "2022-06-06T17:01:12.146104",
     "status": "completed"
    },
    "tags": []
   },
   "outputs": [
    {
     "data": {
      "text/plain": [
       "'Using output dir base: /opt/data/data/phenomexcan/ld_blocks/gene_corrs/gtex_v8/mashr'"
      ]
     },
     "metadata": {},
     "output_type": "display_data"
    }
   ],
   "source": [
    "display(f\"Using output dir base: {OUTPUT_DIR_BASE}\")"
   ]
  },
  {
   "cell_type": "code",
   "execution_count": 11,
   "id": "1afd50f7",
   "metadata": {
    "execution": {
     "iopub.execute_input": "2022-06-06T17:01:12.191378Z",
     "iopub.status.busy": "2022-06-06T17:01:12.191163Z",
     "iopub.status.idle": "2022-06-06T17:01:12.205443Z",
     "shell.execute_reply": "2022-06-06T17:01:12.204849Z"
    },
    "papermill": {
     "duration": 0.025928,
     "end_time": "2022-06-06T17:01:12.206904",
     "exception": false,
     "start_time": "2022-06-06T17:01:12.180976",
     "status": "completed"
    },
    "tags": []
   },
   "outputs": [
    {
     "data": {
      "text/plain": [
       "PosixPath('/opt/data/data/phenomexcan/ld_blocks/gene_corrs/gtex_v8/mashr/by_tissue')"
      ]
     },
     "metadata": {},
     "output_type": "display_data"
    }
   ],
   "source": [
    "INPUT_DIR = OUTPUT_DIR_BASE / \"by_tissue\"\n",
    "display(INPUT_DIR)\n",
    "assert INPUT_DIR.exists()"
   ]
  },
  {
   "cell_type": "code",
   "execution_count": 12,
   "id": "b81c5fe9-96ae-4fce-a319-dca72625a54b",
   "metadata": {
    "execution": {
     "iopub.execute_input": "2022-06-06T17:01:12.226985Z",
     "iopub.status.busy": "2022-06-06T17:01:12.226821Z",
     "iopub.status.idle": "2022-06-06T17:01:12.240629Z",
     "shell.execute_reply": "2022-06-06T17:01:12.240004Z"
    },
    "papermill": {
     "duration": 0.027147,
     "end_time": "2022-06-06T17:01:12.243754",
     "exception": false,
     "start_time": "2022-06-06T17:01:12.216607",
     "status": "completed"
    },
    "tags": []
   },
   "outputs": [],
   "source": [
    "OUTPUT_FILE_AGG_METHOD = \"mean\""
   ]
  },
  {
   "cell_type": "markdown",
   "id": "99ccb166",
   "metadata": {
    "papermill": {
     "duration": 0.010345,
     "end_time": "2022-06-06T17:01:12.265940",
     "exception": false,
     "start_time": "2022-06-06T17:01:12.255595",
     "status": "completed"
    },
    "tags": []
   },
   "source": [
    "# Load data"
   ]
  },
  {
   "cell_type": "markdown",
   "id": "028bdd42",
   "metadata": {
    "papermill": {
     "duration": 0.009221,
     "end_time": "2022-06-06T17:01:12.284914",
     "exception": false,
     "start_time": "2022-06-06T17:01:12.275693",
     "status": "completed"
    },
    "tags": []
   },
   "source": [
    "## Gene correlations"
   ]
  },
  {
   "cell_type": "code",
   "execution_count": 13,
   "id": "04624465",
   "metadata": {
    "execution": {
     "iopub.execute_input": "2022-06-06T17:01:12.304289Z",
     "iopub.status.busy": "2022-06-06T17:01:12.304053Z",
     "iopub.status.idle": "2022-06-06T17:01:12.323455Z",
     "shell.execute_reply": "2022-06-06T17:01:12.322868Z"
    },
    "papermill": {
     "duration": 0.030916,
     "end_time": "2022-06-06T17:01:12.325036",
     "exception": false,
     "start_time": "2022-06-06T17:01:12.294120",
     "status": "completed"
    },
    "tags": []
   },
   "outputs": [],
   "source": [
    "all_gene_corr_files = list(INPUT_DIR.rglob(\"*.pkl\"))"
   ]
  },
  {
   "cell_type": "code",
   "execution_count": 14,
   "id": "7d1168f5",
   "metadata": {
    "execution": {
     "iopub.execute_input": "2022-06-06T17:01:12.345003Z",
     "iopub.status.busy": "2022-06-06T17:01:12.344776Z",
     "iopub.status.idle": "2022-06-06T17:01:12.358346Z",
     "shell.execute_reply": "2022-06-06T17:01:12.357777Z"
    },
    "papermill": {
     "duration": 0.025042,
     "end_time": "2022-06-06T17:01:12.359796",
     "exception": false,
     "start_time": "2022-06-06T17:01:12.334754",
     "status": "completed"
    },
    "tags": []
   },
   "outputs": [
    {
     "data": {
      "text/plain": [
       "1078"
      ]
     },
     "execution_count": 14,
     "metadata": {},
     "output_type": "execute_result"
    }
   ],
   "source": [
    "len(all_gene_corr_files)"
   ]
  },
  {
   "cell_type": "code",
   "execution_count": 15,
   "id": "39364170",
   "metadata": {
    "execution": {
     "iopub.execute_input": "2022-06-06T17:01:12.380282Z",
     "iopub.status.busy": "2022-06-06T17:01:12.380095Z",
     "iopub.status.idle": "2022-06-06T17:01:12.394203Z",
     "shell.execute_reply": "2022-06-06T17:01:12.393646Z"
    },
    "papermill": {
     "duration": 0.025882,
     "end_time": "2022-06-06T17:01:12.395543",
     "exception": false,
     "start_time": "2022-06-06T17:01:12.369661",
     "status": "completed"
    },
    "tags": []
   },
   "outputs": [
    {
     "data": {
      "text/plain": [
       "[PosixPath('/opt/data/data/phenomexcan/ld_blocks/gene_corrs/gtex_v8/mashr/by_tissue/gene_corrs-Prostate-chr19.pkl'),\n",
       " PosixPath('/opt/data/data/phenomexcan/ld_blocks/gene_corrs/gtex_v8/mashr/by_tissue/gene_corrs-Small_Intestine_Terminal_Ileum-chr20.pkl'),\n",
       " PosixPath('/opt/data/data/phenomexcan/ld_blocks/gene_corrs/gtex_v8/mashr/by_tissue/gene_corrs-Skin_Not_Sun_Exposed_Suprapubic-chr11.pkl'),\n",
       " PosixPath('/opt/data/data/phenomexcan/ld_blocks/gene_corrs/gtex_v8/mashr/by_tissue/gene_corrs-Nerve_Tibial-chr22.pkl'),\n",
       " PosixPath('/opt/data/data/phenomexcan/ld_blocks/gene_corrs/gtex_v8/mashr/by_tissue/gene_corrs-Brain_Amygdala-chr6.pkl')]"
      ]
     },
     "execution_count": 15,
     "metadata": {},
     "output_type": "execute_result"
    }
   ],
   "source": [
    "all_gene_corr_files[:5]"
   ]
  },
  {
   "cell_type": "code",
   "execution_count": 16,
   "id": "6e48c284",
   "metadata": {
    "execution": {
     "iopub.execute_input": "2022-06-06T17:01:12.416741Z",
     "iopub.status.busy": "2022-06-06T17:01:12.416570Z",
     "iopub.status.idle": "2022-06-06T17:01:12.429796Z",
     "shell.execute_reply": "2022-06-06T17:01:12.429202Z"
    },
    "papermill": {
     "duration": 0.025412,
     "end_time": "2022-06-06T17:01:12.431191",
     "exception": false,
     "start_time": "2022-06-06T17:01:12.405779",
     "status": "completed"
    },
    "tags": []
   },
   "outputs": [],
   "source": [
    "assert len(all_gene_corr_files) == 22 * 49"
   ]
  },
  {
   "cell_type": "code",
   "execution_count": 17,
   "id": "593d443c",
   "metadata": {
    "execution": {
     "iopub.execute_input": "2022-06-06T17:01:12.452790Z",
     "iopub.status.busy": "2022-06-06T17:01:12.452182Z",
     "iopub.status.idle": "2022-06-06T17:01:12.465917Z",
     "shell.execute_reply": "2022-06-06T17:01:12.465354Z"
    },
    "papermill": {
     "duration": 0.025876,
     "end_time": "2022-06-06T17:01:12.467329",
     "exception": false,
     "start_time": "2022-06-06T17:01:12.441453",
     "status": "completed"
    },
    "tags": []
   },
   "outputs": [],
   "source": [
    "all_gene_corr_files_df = pd.DataFrame({\"corr_file\": [f for f in all_gene_corr_files]})"
   ]
  },
  {
   "cell_type": "code",
   "execution_count": 18,
   "id": "cff28955",
   "metadata": {
    "execution": {
     "iopub.execute_input": "2022-06-06T17:01:12.488677Z",
     "iopub.status.busy": "2022-06-06T17:01:12.488466Z",
     "iopub.status.idle": "2022-06-06T17:01:12.502590Z",
     "shell.execute_reply": "2022-06-06T17:01:12.502110Z"
    },
    "papermill": {
     "duration": 0.026473,
     "end_time": "2022-06-06T17:01:12.504078",
     "exception": false,
     "start_time": "2022-06-06T17:01:12.477605",
     "status": "completed"
    },
    "tags": []
   },
   "outputs": [],
   "source": [
    "all_gene_corr_files_df = all_gene_corr_files_df.assign(\n",
    "    file_name=all_gene_corr_files_df[\"corr_file\"].apply(lambda x: x.name)\n",
    ")"
   ]
  },
  {
   "cell_type": "code",
   "execution_count": 19,
   "id": "cfe5bb46",
   "metadata": {
    "execution": {
     "iopub.execute_input": "2022-06-06T17:01:12.524996Z",
     "iopub.status.busy": "2022-06-06T17:01:12.524795Z",
     "iopub.status.idle": "2022-06-06T17:01:12.539720Z",
     "shell.execute_reply": "2022-06-06T17:01:12.539206Z"
    },
    "papermill": {
     "duration": 0.026817,
     "end_time": "2022-06-06T17:01:12.541057",
     "exception": false,
     "start_time": "2022-06-06T17:01:12.514240",
     "status": "completed"
    },
    "tags": []
   },
   "outputs": [],
   "source": [
    "all_gene_corr_files_df = all_gene_corr_files_df.assign(\n",
    "    tissue=all_gene_corr_files_df[\"file_name\"].apply(\n",
    "        lambda x: x.split(\"-chr\")[0].split(\"gene_corrs-\")[1]\n",
    "    )\n",
    ")"
   ]
  },
  {
   "cell_type": "code",
   "execution_count": 20,
   "id": "2f17383c",
   "metadata": {
    "execution": {
     "iopub.execute_input": "2022-06-06T17:01:12.562180Z",
     "iopub.status.busy": "2022-06-06T17:01:12.561965Z",
     "iopub.status.idle": "2022-06-06T17:01:12.577279Z",
     "shell.execute_reply": "2022-06-06T17:01:12.576789Z"
    },
    "papermill": {
     "duration": 0.027349,
     "end_time": "2022-06-06T17:01:12.578765",
     "exception": false,
     "start_time": "2022-06-06T17:01:12.551416",
     "status": "completed"
    },
    "tags": []
   },
   "outputs": [],
   "source": [
    "all_gene_corr_files_df = all_gene_corr_files_df.assign(\n",
    "    chromosome=all_gene_corr_files_df[\"file_name\"].apply(\n",
    "        lambda x: int(x.split(\"-chr\")[1].split(\".\")[0])\n",
    "    )\n",
    ")"
   ]
  },
  {
   "cell_type": "code",
   "execution_count": 21,
   "id": "48b83603",
   "metadata": {
    "execution": {
     "iopub.execute_input": "2022-06-06T17:01:12.599698Z",
     "iopub.status.busy": "2022-06-06T17:01:12.599486Z",
     "iopub.status.idle": "2022-06-06T17:01:12.613446Z",
     "shell.execute_reply": "2022-06-06T17:01:12.612963Z"
    },
    "papermill": {
     "duration": 0.025865,
     "end_time": "2022-06-06T17:01:12.614805",
     "exception": false,
     "start_time": "2022-06-06T17:01:12.588940",
     "status": "completed"
    },
    "tags": []
   },
   "outputs": [],
   "source": [
    "assert all_gene_corr_files_df[\"tissue\"].unique().shape[0] == 49"
   ]
  },
  {
   "cell_type": "code",
   "execution_count": 22,
   "id": "0592a66d",
   "metadata": {
    "execution": {
     "iopub.execute_input": "2022-06-06T17:01:12.635595Z",
     "iopub.status.busy": "2022-06-06T17:01:12.635383Z",
     "iopub.status.idle": "2022-06-06T17:01:12.649099Z",
     "shell.execute_reply": "2022-06-06T17:01:12.648599Z"
    },
    "papermill": {
     "duration": 0.025513,
     "end_time": "2022-06-06T17:01:12.650533",
     "exception": false,
     "start_time": "2022-06-06T17:01:12.625020",
     "status": "completed"
    },
    "tags": []
   },
   "outputs": [],
   "source": [
    "assert all_gene_corr_files_df[\"chromosome\"].unique().shape[0] == 22\n",
    "assert set(all_gene_corr_files_df[\"chromosome\"]) == set(range(1, 23))"
   ]
  },
  {
   "cell_type": "code",
   "execution_count": 23,
   "id": "0d6ff5d0",
   "metadata": {
    "execution": {
     "iopub.execute_input": "2022-06-06T17:01:12.671660Z",
     "iopub.status.busy": "2022-06-06T17:01:12.671497Z",
     "iopub.status.idle": "2022-06-06T17:01:12.684946Z",
     "shell.execute_reply": "2022-06-06T17:01:12.684395Z"
    },
    "papermill": {
     "duration": 0.025542,
     "end_time": "2022-06-06T17:01:12.686325",
     "exception": false,
     "start_time": "2022-06-06T17:01:12.660783",
     "status": "completed"
    },
    "tags": []
   },
   "outputs": [
    {
     "data": {
      "text/plain": [
       "(1078, 4)"
      ]
     },
     "execution_count": 23,
     "metadata": {},
     "output_type": "execute_result"
    }
   ],
   "source": [
    "all_gene_corr_files_df.shape"
   ]
  },
  {
   "cell_type": "code",
   "execution_count": 24,
   "id": "92309dc4",
   "metadata": {
    "execution": {
     "iopub.execute_input": "2022-06-06T17:01:12.708601Z",
     "iopub.status.busy": "2022-06-06T17:01:12.708033Z",
     "iopub.status.idle": "2022-06-06T17:01:12.725993Z",
     "shell.execute_reply": "2022-06-06T17:01:12.725444Z"
    },
    "papermill": {
     "duration": 0.030412,
     "end_time": "2022-06-06T17:01:12.727374",
     "exception": false,
     "start_time": "2022-06-06T17:01:12.696962",
     "status": "completed"
    },
    "tags": []
   },
   "outputs": [
    {
     "data": {
      "text/html": [
       "<div>\n",
       "<style scoped>\n",
       "    .dataframe tbody tr th:only-of-type {\n",
       "        vertical-align: middle;\n",
       "    }\n",
       "\n",
       "    .dataframe tbody tr th {\n",
       "        vertical-align: top;\n",
       "    }\n",
       "\n",
       "    .dataframe thead th {\n",
       "        text-align: right;\n",
       "    }\n",
       "</style>\n",
       "<table border=\"1\" class=\"dataframe\">\n",
       "  <thead>\n",
       "    <tr style=\"text-align: right;\">\n",
       "      <th></th>\n",
       "      <th>corr_file</th>\n",
       "      <th>file_name</th>\n",
       "      <th>tissue</th>\n",
       "      <th>chromosome</th>\n",
       "    </tr>\n",
       "  </thead>\n",
       "  <tbody>\n",
       "    <tr>\n",
       "      <th>0</th>\n",
       "      <td>/opt/data/data/phenomexcan/ld_blocks/gene_corr...</td>\n",
       "      <td>gene_corrs-Prostate-chr19.pkl</td>\n",
       "      <td>Prostate</td>\n",
       "      <td>19</td>\n",
       "    </tr>\n",
       "    <tr>\n",
       "      <th>1</th>\n",
       "      <td>/opt/data/data/phenomexcan/ld_blocks/gene_corr...</td>\n",
       "      <td>gene_corrs-Small_Intestine_Terminal_Ileum-chr2...</td>\n",
       "      <td>Small_Intestine_Terminal_Ileum</td>\n",
       "      <td>20</td>\n",
       "    </tr>\n",
       "    <tr>\n",
       "      <th>2</th>\n",
       "      <td>/opt/data/data/phenomexcan/ld_blocks/gene_corr...</td>\n",
       "      <td>gene_corrs-Skin_Not_Sun_Exposed_Suprapubic-chr...</td>\n",
       "      <td>Skin_Not_Sun_Exposed_Suprapubic</td>\n",
       "      <td>11</td>\n",
       "    </tr>\n",
       "    <tr>\n",
       "      <th>3</th>\n",
       "      <td>/opt/data/data/phenomexcan/ld_blocks/gene_corr...</td>\n",
       "      <td>gene_corrs-Nerve_Tibial-chr22.pkl</td>\n",
       "      <td>Nerve_Tibial</td>\n",
       "      <td>22</td>\n",
       "    </tr>\n",
       "    <tr>\n",
       "      <th>4</th>\n",
       "      <td>/opt/data/data/phenomexcan/ld_blocks/gene_corr...</td>\n",
       "      <td>gene_corrs-Brain_Amygdala-chr6.pkl</td>\n",
       "      <td>Brain_Amygdala</td>\n",
       "      <td>6</td>\n",
       "    </tr>\n",
       "  </tbody>\n",
       "</table>\n",
       "</div>"
      ],
      "text/plain": [
       "                                           corr_file  \\\n",
       "0  /opt/data/data/phenomexcan/ld_blocks/gene_corr...   \n",
       "1  /opt/data/data/phenomexcan/ld_blocks/gene_corr...   \n",
       "2  /opt/data/data/phenomexcan/ld_blocks/gene_corr...   \n",
       "3  /opt/data/data/phenomexcan/ld_blocks/gene_corr...   \n",
       "4  /opt/data/data/phenomexcan/ld_blocks/gene_corr...   \n",
       "\n",
       "                                           file_name  \\\n",
       "0                      gene_corrs-Prostate-chr19.pkl   \n",
       "1  gene_corrs-Small_Intestine_Terminal_Ileum-chr2...   \n",
       "2  gene_corrs-Skin_Not_Sun_Exposed_Suprapubic-chr...   \n",
       "3                  gene_corrs-Nerve_Tibial-chr22.pkl   \n",
       "4                 gene_corrs-Brain_Amygdala-chr6.pkl   \n",
       "\n",
       "                            tissue  chromosome  \n",
       "0                         Prostate          19  \n",
       "1   Small_Intestine_Terminal_Ileum          20  \n",
       "2  Skin_Not_Sun_Exposed_Suprapubic          11  \n",
       "3                     Nerve_Tibial          22  \n",
       "4                   Brain_Amygdala           6  "
      ]
     },
     "execution_count": 24,
     "metadata": {},
     "output_type": "execute_result"
    }
   ],
   "source": [
    "all_gene_corr_files_df.head()"
   ]
  },
  {
   "cell_type": "markdown",
   "id": "46ae0b3e",
   "metadata": {
    "papermill": {
     "duration": 0.009983,
     "end_time": "2022-06-06T17:01:12.747933",
     "exception": false,
     "start_time": "2022-06-06T17:01:12.737950",
     "status": "completed"
    },
    "tags": []
   },
   "source": [
    "## MultiPLIER Z"
   ]
  },
  {
   "cell_type": "code",
   "execution_count": 25,
   "id": "d38d9749",
   "metadata": {
    "execution": {
     "iopub.execute_input": "2022-06-06T17:01:12.769205Z",
     "iopub.status.busy": "2022-06-06T17:01:12.768595Z",
     "iopub.status.idle": "2022-06-06T17:01:12.804533Z",
     "shell.execute_reply": "2022-06-06T17:01:12.803979Z"
    },
    "papermill": {
     "duration": 0.048283,
     "end_time": "2022-06-06T17:01:12.806147",
     "exception": false,
     "start_time": "2022-06-06T17:01:12.757864",
     "status": "completed"
    },
    "tags": []
   },
   "outputs": [],
   "source": [
    "multiplier_z_genes = pd.read_pickle(\n",
    "    conf.MULTIPLIER[\"MODEL_Z_MATRIX_FILE\"]\n",
    ").index.tolist()"
   ]
  },
  {
   "cell_type": "code",
   "execution_count": 26,
   "id": "67e93797",
   "metadata": {
    "execution": {
     "iopub.execute_input": "2022-06-06T17:01:12.830437Z",
     "iopub.status.busy": "2022-06-06T17:01:12.830098Z",
     "iopub.status.idle": "2022-06-06T17:01:12.843860Z",
     "shell.execute_reply": "2022-06-06T17:01:12.843397Z"
    },
    "papermill": {
     "duration": 0.027178,
     "end_time": "2022-06-06T17:01:12.845214",
     "exception": false,
     "start_time": "2022-06-06T17:01:12.818036",
     "status": "completed"
    },
    "tags": []
   },
   "outputs": [
    {
     "data": {
      "text/plain": [
       "6750"
      ]
     },
     "execution_count": 26,
     "metadata": {},
     "output_type": "execute_result"
    }
   ],
   "source": [
    "len(multiplier_z_genes)"
   ]
  },
  {
   "cell_type": "code",
   "execution_count": 27,
   "id": "e1ba1ead",
   "metadata": {
    "execution": {
     "iopub.execute_input": "2022-06-06T17:01:12.867135Z",
     "iopub.status.busy": "2022-06-06T17:01:12.866920Z",
     "iopub.status.idle": "2022-06-06T17:01:12.881938Z",
     "shell.execute_reply": "2022-06-06T17:01:12.881341Z"
    },
    "papermill": {
     "duration": 0.027141,
     "end_time": "2022-06-06T17:01:12.883246",
     "exception": false,
     "start_time": "2022-06-06T17:01:12.856105",
     "status": "completed"
    },
    "tags": []
   },
   "outputs": [
    {
     "data": {
      "text/plain": [
       "['GAS6',\n",
       " 'MMP14',\n",
       " 'DSP',\n",
       " 'MARCKSL1',\n",
       " 'SPARC',\n",
       " 'CTSD',\n",
       " 'EPAS1',\n",
       " 'PALLD',\n",
       " 'PHC2',\n",
       " 'LGALS3BP']"
      ]
     },
     "execution_count": 27,
     "metadata": {},
     "output_type": "execute_result"
    }
   ],
   "source": [
    "multiplier_z_genes[:10]"
   ]
  },
  {
   "cell_type": "markdown",
   "id": "18873129",
   "metadata": {
    "papermill": {
     "duration": 0.010394,
     "end_time": "2022-06-06T17:01:12.904626",
     "exception": false,
     "start_time": "2022-06-06T17:01:12.894232",
     "status": "completed"
    },
    "tags": []
   },
   "source": [
    "## Get gene objects"
   ]
  },
  {
   "cell_type": "code",
   "execution_count": 28,
   "id": "3660a0b8",
   "metadata": {
    "execution": {
     "iopub.execute_input": "2022-06-06T17:01:12.926288Z",
     "iopub.status.busy": "2022-06-06T17:01:12.925924Z",
     "iopub.status.idle": "2022-06-06T17:01:12.945792Z",
     "shell.execute_reply": "2022-06-06T17:01:12.945171Z"
    },
    "papermill": {
     "duration": 0.032412,
     "end_time": "2022-06-06T17:01:12.947303",
     "exception": false,
     "start_time": "2022-06-06T17:01:12.914891",
     "status": "completed"
    },
    "tags": []
   },
   "outputs": [],
   "source": [
    "multiplier_gene_obj = {\n",
    "    gene_name: Gene(name=gene_name)\n",
    "    for gene_name in multiplier_z_genes\n",
    "    if gene_name in Gene.GENE_NAME_TO_ID_MAP\n",
    "}"
   ]
  },
  {
   "cell_type": "code",
   "execution_count": 29,
   "id": "43bacda1",
   "metadata": {
    "execution": {
     "iopub.execute_input": "2022-06-06T17:01:12.969234Z",
     "iopub.status.busy": "2022-06-06T17:01:12.969011Z",
     "iopub.status.idle": "2022-06-06T17:01:12.983384Z",
     "shell.execute_reply": "2022-06-06T17:01:12.982841Z"
    },
    "papermill": {
     "duration": 0.026715,
     "end_time": "2022-06-06T17:01:12.984729",
     "exception": false,
     "start_time": "2022-06-06T17:01:12.958014",
     "status": "completed"
    },
    "tags": []
   },
   "outputs": [
    {
     "data": {
      "text/plain": [
       "6454"
      ]
     },
     "execution_count": 29,
     "metadata": {},
     "output_type": "execute_result"
    }
   ],
   "source": [
    "len(multiplier_gene_obj)"
   ]
  },
  {
   "cell_type": "code",
   "execution_count": 30,
   "id": "a60c1bb6",
   "metadata": {
    "execution": {
     "iopub.execute_input": "2022-06-06T17:01:13.007626Z",
     "iopub.status.busy": "2022-06-06T17:01:13.007456Z",
     "iopub.status.idle": "2022-06-06T17:01:13.021365Z",
     "shell.execute_reply": "2022-06-06T17:01:13.020861Z"
    },
    "papermill": {
     "duration": 0.026796,
     "end_time": "2022-06-06T17:01:13.022666",
     "exception": false,
     "start_time": "2022-06-06T17:01:12.995870",
     "status": "completed"
    },
    "tags": []
   },
   "outputs": [
    {
     "data": {
      "text/plain": [
       "'ENSG00000183087'"
      ]
     },
     "execution_count": 30,
     "metadata": {},
     "output_type": "execute_result"
    }
   ],
   "source": [
    "multiplier_gene_obj[\"GAS6\"].ensembl_id"
   ]
  },
  {
   "cell_type": "code",
   "execution_count": 31,
   "id": "ba55cbcb",
   "metadata": {
    "execution": {
     "iopub.execute_input": "2022-06-06T17:01:13.045743Z",
     "iopub.status.busy": "2022-06-06T17:01:13.045530Z",
     "iopub.status.idle": "2022-06-06T17:01:13.839987Z",
     "shell.execute_reply": "2022-06-06T17:01:13.839414Z"
    },
    "papermill": {
     "duration": 0.807715,
     "end_time": "2022-06-06T17:01:13.841610",
     "exception": false,
     "start_time": "2022-06-06T17:01:13.033895",
     "status": "completed"
    },
    "tags": []
   },
   "outputs": [],
   "source": [
    "_gene_obj = list(multiplier_gene_obj.values())\n",
    "\n",
    "genes_info = pd.DataFrame(\n",
    "    {\n",
    "        \"name\": [g.name for g in _gene_obj],\n",
    "        \"id\": [g.ensembl_id for g in _gene_obj],\n",
    "        \"chr\": [g.chromosome for g in _gene_obj],\n",
    "    }\n",
    ").dropna()"
   ]
  },
  {
   "cell_type": "code",
   "execution_count": 32,
   "id": "9510fe3a",
   "metadata": {
    "execution": {
     "iopub.execute_input": "2022-06-06T17:01:13.864018Z",
     "iopub.status.busy": "2022-06-06T17:01:13.863817Z",
     "iopub.status.idle": "2022-06-06T17:01:13.878133Z",
     "shell.execute_reply": "2022-06-06T17:01:13.877606Z"
    },
    "papermill": {
     "duration": 0.02715,
     "end_time": "2022-06-06T17:01:13.879511",
     "exception": false,
     "start_time": "2022-06-06T17:01:13.852361",
     "status": "completed"
    },
    "tags": []
   },
   "outputs": [
    {
     "data": {
      "text/plain": [
       "(6452, 3)"
      ]
     },
     "execution_count": 32,
     "metadata": {},
     "output_type": "execute_result"
    }
   ],
   "source": [
    "genes_info.shape"
   ]
  },
  {
   "cell_type": "code",
   "execution_count": 33,
   "id": "b175ee0c",
   "metadata": {
    "execution": {
     "iopub.execute_input": "2022-06-06T17:01:13.902172Z",
     "iopub.status.busy": "2022-06-06T17:01:13.901980Z",
     "iopub.status.idle": "2022-06-06T17:01:13.919857Z",
     "shell.execute_reply": "2022-06-06T17:01:13.919250Z"
    },
    "papermill": {
     "duration": 0.030938,
     "end_time": "2022-06-06T17:01:13.921349",
     "exception": false,
     "start_time": "2022-06-06T17:01:13.890411",
     "status": "completed"
    },
    "tags": []
   },
   "outputs": [
    {
     "data": {
      "text/html": [
       "<div>\n",
       "<style scoped>\n",
       "    .dataframe tbody tr th:only-of-type {\n",
       "        vertical-align: middle;\n",
       "    }\n",
       "\n",
       "    .dataframe tbody tr th {\n",
       "        vertical-align: top;\n",
       "    }\n",
       "\n",
       "    .dataframe thead th {\n",
       "        text-align: right;\n",
       "    }\n",
       "</style>\n",
       "<table border=\"1\" class=\"dataframe\">\n",
       "  <thead>\n",
       "    <tr style=\"text-align: right;\">\n",
       "      <th></th>\n",
       "      <th>name</th>\n",
       "      <th>id</th>\n",
       "      <th>chr</th>\n",
       "    </tr>\n",
       "  </thead>\n",
       "  <tbody>\n",
       "    <tr>\n",
       "      <th>0</th>\n",
       "      <td>GAS6</td>\n",
       "      <td>ENSG00000183087</td>\n",
       "      <td>13</td>\n",
       "    </tr>\n",
       "    <tr>\n",
       "      <th>1</th>\n",
       "      <td>MMP14</td>\n",
       "      <td>ENSG00000157227</td>\n",
       "      <td>14</td>\n",
       "    </tr>\n",
       "    <tr>\n",
       "      <th>2</th>\n",
       "      <td>DSP</td>\n",
       "      <td>ENSG00000096696</td>\n",
       "      <td>6</td>\n",
       "    </tr>\n",
       "    <tr>\n",
       "      <th>3</th>\n",
       "      <td>MARCKSL1</td>\n",
       "      <td>ENSG00000175130</td>\n",
       "      <td>1</td>\n",
       "    </tr>\n",
       "    <tr>\n",
       "      <th>4</th>\n",
       "      <td>SPARC</td>\n",
       "      <td>ENSG00000113140</td>\n",
       "      <td>5</td>\n",
       "    </tr>\n",
       "  </tbody>\n",
       "</table>\n",
       "</div>"
      ],
      "text/plain": [
       "       name               id chr\n",
       "0      GAS6  ENSG00000183087  13\n",
       "1     MMP14  ENSG00000157227  14\n",
       "2       DSP  ENSG00000096696   6\n",
       "3  MARCKSL1  ENSG00000175130   1\n",
       "4     SPARC  ENSG00000113140   5"
      ]
     },
     "execution_count": 33,
     "metadata": {},
     "output_type": "execute_result"
    }
   ],
   "source": [
    "genes_info.head()"
   ]
  },
  {
   "cell_type": "markdown",
   "id": "6a29d252",
   "metadata": {
    "papermill": {
     "duration": 0.010828,
     "end_time": "2022-06-06T17:01:13.943142",
     "exception": false,
     "start_time": "2022-06-06T17:01:13.932314",
     "status": "completed"
    },
    "tags": []
   },
   "source": [
    "## Get tissues names"
   ]
  },
  {
   "cell_type": "code",
   "execution_count": 34,
   "id": "2bc52419",
   "metadata": {
    "execution": {
     "iopub.execute_input": "2022-06-06T17:01:13.965471Z",
     "iopub.status.busy": "2022-06-06T17:01:13.965256Z",
     "iopub.status.idle": "2022-06-06T17:01:13.979424Z",
     "shell.execute_reply": "2022-06-06T17:01:13.978865Z"
    },
    "papermill": {
     "duration": 0.027122,
     "end_time": "2022-06-06T17:01:13.980895",
     "exception": false,
     "start_time": "2022-06-06T17:01:13.953773",
     "status": "completed"
    },
    "tags": []
   },
   "outputs": [],
   "source": [
    "tissues = conf.PHENOMEXCAN[\"PREDICTION_MODELS\"][f\"{EQTL_MODEL}_TISSUES\"].split(\" \")"
   ]
  },
  {
   "cell_type": "code",
   "execution_count": 35,
   "id": "64b293a1",
   "metadata": {
    "execution": {
     "iopub.execute_input": "2022-06-06T17:01:14.003958Z",
     "iopub.status.busy": "2022-06-06T17:01:14.003792Z",
     "iopub.status.idle": "2022-06-06T17:01:14.018098Z",
     "shell.execute_reply": "2022-06-06T17:01:14.017531Z"
    },
    "papermill": {
     "duration": 0.027602,
     "end_time": "2022-06-06T17:01:14.019463",
     "exception": false,
     "start_time": "2022-06-06T17:01:13.991861",
     "status": "completed"
    },
    "tags": []
   },
   "outputs": [
    {
     "data": {
      "text/plain": [
       "['Skin_Not_Sun_Exposed_Suprapubic',\n",
       " 'Cells_EBV-transformed_lymphocytes',\n",
       " 'Brain_Frontal_Cortex_BA9',\n",
       " 'Kidney_Cortex',\n",
       " 'Brain_Substantia_nigra']"
      ]
     },
     "execution_count": 35,
     "metadata": {},
     "output_type": "execute_result"
    }
   ],
   "source": [
    "tissues[:5]"
   ]
  },
  {
   "cell_type": "code",
   "execution_count": 36,
   "id": "48a7202a",
   "metadata": {
    "execution": {
     "iopub.execute_input": "2022-06-06T17:01:14.042888Z",
     "iopub.status.busy": "2022-06-06T17:01:14.042659Z",
     "iopub.status.idle": "2022-06-06T17:01:14.056526Z",
     "shell.execute_reply": "2022-06-06T17:01:14.055757Z"
    },
    "papermill": {
     "duration": 0.027145,
     "end_time": "2022-06-06T17:01:14.058068",
     "exception": false,
     "start_time": "2022-06-06T17:01:14.030923",
     "status": "completed"
    },
    "tags": []
   },
   "outputs": [],
   "source": [
    "assert len(tissues) == 49"
   ]
  },
  {
   "cell_type": "markdown",
   "id": "f4d4f177",
   "metadata": {
    "papermill": {
     "duration": 0.011711,
     "end_time": "2022-06-06T17:01:14.081658",
     "exception": false,
     "start_time": "2022-06-06T17:01:14.069947",
     "status": "completed"
    },
    "tags": []
   },
   "source": [
    "# Average correlations per chromosome"
   ]
  },
  {
   "cell_type": "code",
   "execution_count": 37,
   "id": "e497c5fa",
   "metadata": {
    "execution": {
     "iopub.execute_input": "2022-06-06T17:01:14.107654Z",
     "iopub.status.busy": "2022-06-06T17:01:14.107445Z",
     "iopub.status.idle": "2022-06-06T17:01:17.784595Z",
     "shell.execute_reply": "2022-06-06T17:01:17.783854Z"
    },
    "papermill": {
     "duration": 3.691889,
     "end_time": "2022-06-06T17:01:17.785940",
     "exception": false,
     "start_time": "2022-06-06T17:01:14.094051",
     "status": "completed"
    },
    "tags": []
   },
   "outputs": [
    {
     "name": "stdout",
     "output_type": "stream",
     "text": [
      "Chromosome: 1\n",
      "Number of corrs files: (49, 4)\n",
      "Number of MultiPLIER genes: (700, 3)\n",
      "Reading corrs per tissue\n"
     ]
    },
    {
     "data": {
      "text/plain": [
       "count    244650.000000\n",
       "mean          0.000034\n",
       "std           0.015437\n",
       "min          -0.673517\n",
       "25%          -0.004854\n",
       "50%           0.000000\n",
       "75%           0.004893\n",
       "max           0.670174\n",
       "dtype: float64"
      ]
     },
     "metadata": {},
     "output_type": "display_data"
    },
    {
     "name": "stdout",
     "output_type": "stream",
     "text": [
      "\n",
      "\n",
      "Chromosome: 2\n",
      "Number of corrs files: (49, 4)\n",
      "Number of MultiPLIER genes: (445, 3)\n",
      "Reading corrs per tissue\n"
     ]
    },
    {
     "data": {
      "text/plain": [
       "count    98790.000000\n",
       "mean         0.000007\n",
       "std          0.015578\n",
       "min         -0.585260\n",
       "25%         -0.005002\n",
       "50%          0.000000\n",
       "75%          0.004996\n",
       "max          0.700094\n",
       "dtype: float64"
      ]
     },
     "metadata": {},
     "output_type": "display_data"
    },
    {
     "name": "stdout",
     "output_type": "stream",
     "text": [
      "\n",
      "\n",
      "Chromosome: 3\n",
      "Number of corrs files: (49, 4)\n",
      "Number of MultiPLIER genes: (393, 3)\n",
      "Reading corrs per tissue\n"
     ]
    },
    {
     "data": {
      "text/plain": [
       "count    7.702800e+04\n",
       "mean     3.201752e-05\n",
       "std      1.881534e-02\n",
       "min     -9.172987e-01\n",
       "25%     -5.031872e-03\n",
       "50%      5.399939e-07\n",
       "75%      5.150301e-03\n",
       "max      8.924159e-01\n",
       "dtype: float64"
      ]
     },
     "metadata": {},
     "output_type": "display_data"
    },
    {
     "name": "stdout",
     "output_type": "stream",
     "text": [
      "\n",
      "\n",
      "Chromosome: 4\n",
      "Number of corrs files: (49, 4)\n",
      "Number of MultiPLIER genes: (244, 3)\n",
      "Reading corrs per tissue\n"
     ]
    },
    {
     "data": {
      "text/plain": [
       "count    29646.000000\n",
       "mean         0.000095\n",
       "std          0.015026\n",
       "min         -0.515333\n",
       "25%         -0.004621\n",
       "50%          0.000000\n",
       "75%          0.004686\n",
       "max          0.551310\n",
       "dtype: float64"
      ]
     },
     "metadata": {},
     "output_type": "display_data"
    },
    {
     "name": "stdout",
     "output_type": "stream",
     "text": [
      "\n",
      "\n",
      "Chromosome: 5\n",
      "Number of corrs files: (49, 4)\n",
      "Number of MultiPLIER genes: (306, 3)\n",
      "Reading corrs per tissue\n"
     ]
    },
    {
     "data": {
      "text/plain": [
       "count    46665.000000\n",
       "mean        -0.000036\n",
       "std          0.018446\n",
       "min         -0.627591\n",
       "25%         -0.004848\n",
       "50%          0.000000\n",
       "75%          0.004784\n",
       "max          0.719437\n",
       "dtype: float64"
      ]
     },
     "metadata": {},
     "output_type": "display_data"
    },
    {
     "name": "stdout",
     "output_type": "stream",
     "text": [
      "\n",
      "\n",
      "Chromosome: 6\n",
      "Number of corrs files: (49, 4)\n",
      "Number of MultiPLIER genes: (339, 3)\n",
      "Reading corrs per tissue\n"
     ]
    },
    {
     "data": {
      "text/plain": [
       "count    57291.000000\n",
       "mean         0.000040\n",
       "std          0.018053\n",
       "min         -0.531839\n",
       "25%         -0.005209\n",
       "50%          0.000000\n",
       "75%          0.005142\n",
       "max          0.762143\n",
       "dtype: float64"
      ]
     },
     "metadata": {},
     "output_type": "display_data"
    },
    {
     "name": "stdout",
     "output_type": "stream",
     "text": [
      "\n",
      "\n",
      "Chromosome: 7\n",
      "Number of corrs files: (49, 4)\n",
      "Number of MultiPLIER genes: (281, 3)\n",
      "Reading corrs per tissue\n"
     ]
    },
    {
     "data": {
      "text/plain": [
       "count    39340.000000\n",
       "mean         0.000266\n",
       "std          0.017808\n",
       "min         -0.676991\n",
       "25%         -0.004918\n",
       "50%          0.000055\n",
       "75%          0.005120\n",
       "max          0.780472\n",
       "dtype: float64"
      ]
     },
     "metadata": {},
     "output_type": "display_data"
    },
    {
     "name": "stdout",
     "output_type": "stream",
     "text": [
      "\n",
      "\n",
      "Chromosome: 8\n",
      "Number of corrs files: (49, 4)\n",
      "Number of MultiPLIER genes: (222, 3)\n",
      "Reading corrs per tissue\n"
     ]
    },
    {
     "data": {
      "text/plain": [
       "count    24531.000000\n",
       "mean        -0.000017\n",
       "std          0.014606\n",
       "min         -0.490547\n",
       "25%         -0.004341\n",
       "50%          0.000000\n",
       "75%          0.004402\n",
       "max          0.668010\n",
       "dtype: float64"
      ]
     },
     "metadata": {},
     "output_type": "display_data"
    },
    {
     "name": "stdout",
     "output_type": "stream",
     "text": [
      "\n",
      "\n",
      "Chromosome: 9\n",
      "Number of corrs files: (49, 4)\n",
      "Number of MultiPLIER genes: (245, 3)\n",
      "Reading corrs per tissue\n"
     ]
    },
    {
     "data": {
      "text/plain": [
       "count    2.989000e+04\n",
       "mean    -1.335525e-04\n",
       "std      1.800136e-02\n",
       "min     -8.038805e-01\n",
       "25%     -4.920968e-03\n",
       "50%     -1.964782e-07\n",
       "75%      4.837472e-03\n",
       "max      7.843170e-01\n",
       "dtype: float64"
      ]
     },
     "metadata": {},
     "output_type": "display_data"
    },
    {
     "name": "stdout",
     "output_type": "stream",
     "text": [
      "\n",
      "\n",
      "Chromosome: 10\n",
      "Number of corrs files: (49, 4)\n",
      "Number of MultiPLIER genes: (245, 3)\n",
      "Reading corrs per tissue\n"
     ]
    },
    {
     "data": {
      "text/plain": [
       "count    29890.000000\n",
       "mean         0.000074\n",
       "std          0.016698\n",
       "min         -0.769290\n",
       "25%         -0.005240\n",
       "50%          0.000010\n",
       "75%          0.005418\n",
       "max          0.688043\n",
       "dtype: float64"
      ]
     },
     "metadata": {},
     "output_type": "display_data"
    },
    {
     "name": "stdout",
     "output_type": "stream",
     "text": [
      "\n",
      "\n",
      "Chromosome: 11\n",
      "Number of corrs files: (49, 4)\n",
      "Number of MultiPLIER genes: (387, 3)\n",
      "Reading corrs per tissue\n"
     ]
    },
    {
     "data": {
      "text/plain": [
       "count    74691.000000\n",
       "mean         0.000062\n",
       "std          0.018857\n",
       "min         -0.788202\n",
       "25%         -0.005199\n",
       "50%          0.000000\n",
       "75%          0.005159\n",
       "max          0.602670\n",
       "dtype: float64"
      ]
     },
     "metadata": {},
     "output_type": "display_data"
    },
    {
     "name": "stdout",
     "output_type": "stream",
     "text": [
      "\n",
      "\n",
      "Chromosome: 12\n",
      "Number of corrs files: (49, 4)\n",
      "Number of MultiPLIER genes: (389, 3)\n",
      "Reading corrs per tissue\n"
     ]
    },
    {
     "data": {
      "text/plain": [
       "count    75466.000000\n",
       "mean        -0.000085\n",
       "std          0.018138\n",
       "min         -0.879283\n",
       "25%         -0.004985\n",
       "50%         -0.000024\n",
       "75%          0.004841\n",
       "max          0.727074\n",
       "dtype: float64"
      ]
     },
     "metadata": {},
     "output_type": "display_data"
    },
    {
     "name": "stdout",
     "output_type": "stream",
     "text": [
      "\n",
      "\n",
      "Chromosome: 13\n",
      "Number of corrs files: (49, 4)\n",
      "Number of MultiPLIER genes: (118, 3)\n",
      "Reading corrs per tissue\n"
     ]
    },
    {
     "data": {
      "text/plain": [
       "count    6903.000000\n",
       "mean        0.000122\n",
       "std         0.020758\n",
       "min        -0.454873\n",
       "25%        -0.004169\n",
       "50%         0.000007\n",
       "75%         0.004273\n",
       "max         0.537622\n",
       "dtype: float64"
      ]
     },
     "metadata": {},
     "output_type": "display_data"
    },
    {
     "name": "stdout",
     "output_type": "stream",
     "text": [
      "\n",
      "\n",
      "Chromosome: 14\n",
      "Number of corrs files: (49, 4)\n",
      "Number of MultiPLIER genes: (211, 3)\n",
      "Reading corrs per tissue\n"
     ]
    },
    {
     "data": {
      "text/plain": [
       "count    22155.000000\n",
       "mean         0.000116\n",
       "std          0.018117\n",
       "min         -0.701387\n",
       "25%         -0.004769\n",
       "50%          0.000000\n",
       "75%          0.004868\n",
       "max          0.586796\n",
       "dtype: float64"
      ]
     },
     "metadata": {},
     "output_type": "display_data"
    },
    {
     "name": "stdout",
     "output_type": "stream",
     "text": [
      "\n",
      "\n",
      "Chromosome: 15\n",
      "Number of corrs files: (49, 4)\n",
      "Number of MultiPLIER genes: (187, 3)\n",
      "Reading corrs per tissue\n"
     ]
    },
    {
     "data": {
      "text/plain": [
       "count    17391.000000\n",
       "mean         0.000303\n",
       "std          0.022767\n",
       "min         -0.796859\n",
       "25%         -0.004879\n",
       "50%          0.000000\n",
       "75%          0.005131\n",
       "max          0.533500\n",
       "dtype: float64"
      ]
     },
     "metadata": {},
     "output_type": "display_data"
    },
    {
     "name": "stdout",
     "output_type": "stream",
     "text": [
      "\n",
      "\n",
      "Chromosome: 16\n",
      "Number of corrs files: (49, 4)\n",
      "Number of MultiPLIER genes: (274, 3)\n",
      "Reading corrs per tissue\n"
     ]
    },
    {
     "data": {
      "text/plain": [
       "count    37401.000000\n",
       "mean        -0.000105\n",
       "std          0.025914\n",
       "min         -0.768285\n",
       "25%         -0.005675\n",
       "50%          0.000000\n",
       "75%          0.005658\n",
       "max          0.757558\n",
       "dtype: float64"
      ]
     },
     "metadata": {},
     "output_type": "display_data"
    },
    {
     "name": "stdout",
     "output_type": "stream",
     "text": [
      "\n",
      "\n",
      "Chromosome: 17\n",
      "Number of corrs files: (49, 4)\n",
      "Number of MultiPLIER genes: (411, 3)\n",
      "Reading corrs per tissue\n"
     ]
    },
    {
     "data": {
      "text/plain": [
       "count    84255.000000\n",
       "mean        -0.000076\n",
       "std          0.019002\n",
       "min         -0.763878\n",
       "25%         -0.005523\n",
       "50%          0.000000\n",
       "75%          0.005400\n",
       "max          0.622152\n",
       "dtype: float64"
      ]
     },
     "metadata": {},
     "output_type": "display_data"
    },
    {
     "name": "stdout",
     "output_type": "stream",
     "text": [
      "\n",
      "\n",
      "Chromosome: 18\n",
      "Number of corrs files: (49, 4)\n",
      "Number of MultiPLIER genes: (96, 3)\n",
      "Reading corrs per tissue\n"
     ]
    },
    {
     "data": {
      "text/plain": [
       "count    4560.000000\n",
       "mean        0.000063\n",
       "std         0.014015\n",
       "min        -0.132054\n",
       "25%        -0.005032\n",
       "50%        -0.000020\n",
       "75%         0.005262\n",
       "max         0.305087\n",
       "dtype: float64"
      ]
     },
     "metadata": {},
     "output_type": "display_data"
    },
    {
     "name": "stdout",
     "output_type": "stream",
     "text": [
      "\n",
      "\n",
      "Chromosome: 19\n",
      "Number of corrs files: (49, 4)\n",
      "Number of MultiPLIER genes: (540, 3)\n",
      "Reading corrs per tissue\n"
     ]
    },
    {
     "data": {
      "text/plain": [
       "count    145530.000000\n",
       "mean          0.000030\n",
       "std           0.017873\n",
       "min          -0.660148\n",
       "25%          -0.005648\n",
       "50%           0.000000\n",
       "75%           0.005687\n",
       "max           0.823362\n",
       "dtype: float64"
      ]
     },
     "metadata": {},
     "output_type": "display_data"
    },
    {
     "name": "stdout",
     "output_type": "stream",
     "text": [
      "\n",
      "\n",
      "Chromosome: 20\n",
      "Number of corrs files: (49, 4)\n",
      "Number of MultiPLIER genes: (187, 3)\n",
      "Reading corrs per tissue\n"
     ]
    },
    {
     "data": {
      "text/plain": [
       "count    17391.000000\n",
       "mean         0.000296\n",
       "std          0.020279\n",
       "min         -0.515467\n",
       "25%         -0.005410\n",
       "50%          0.000077\n",
       "75%          0.005527\n",
       "max          0.577627\n",
       "dtype: float64"
      ]
     },
     "metadata": {},
     "output_type": "display_data"
    },
    {
     "name": "stdout",
     "output_type": "stream",
     "text": [
      "\n",
      "\n",
      "Chromosome: 21\n",
      "Number of corrs files: (49, 4)\n",
      "Number of MultiPLIER genes: (62, 3)\n",
      "Reading corrs per tissue\n"
     ]
    },
    {
     "data": {
      "text/plain": [
       "count    1891.000000\n",
       "mean        0.000025\n",
       "std         0.018959\n",
       "min        -0.332855\n",
       "25%        -0.005306\n",
       "50%         0.000165\n",
       "75%         0.005396\n",
       "max         0.192782\n",
       "dtype: float64"
      ]
     },
     "metadata": {},
     "output_type": "display_data"
    },
    {
     "name": "stdout",
     "output_type": "stream",
     "text": [
      "\n",
      "\n",
      "Chromosome: 22\n",
      "Number of corrs files: (49, 4)\n",
      "Number of MultiPLIER genes: (170, 3)\n",
      "Reading corrs per tissue\n"
     ]
    },
    {
     "data": {
      "text/plain": [
       "count    14365.000000\n",
       "mean        -0.000102\n",
       "std          0.023781\n",
       "min         -0.742715\n",
       "25%         -0.005837\n",
       "50%          0.000066\n",
       "75%          0.006074\n",
       "max          0.736601\n",
       "dtype: float64"
      ]
     },
     "metadata": {},
     "output_type": "display_data"
    },
    {
     "name": "stdout",
     "output_type": "stream",
     "text": [
      "\n",
      "\n"
     ]
    }
   ],
   "source": [
    "corrs_per_chr = {}\n",
    "\n",
    "for chr_num in range(1, 23):\n",
    "    print(f\"Chromosome: {chr_num}\", flush=True)\n",
    "\n",
    "    chr_files = all_gene_corr_files_df[all_gene_corr_files_df[\"chromosome\"] == chr_num]\n",
    "    print(f\"Number of corrs files: {chr_files.shape}\")\n",
    "\n",
    "    multiplier_genes_in_chr = genes_info[genes_info[\"chr\"] == str(chr_num)]\n",
    "    print(f\"Number of MultiPLIER genes: {multiplier_genes_in_chr.shape}\")\n",
    "\n",
    "    # create final dataframe with corrs for this chr\n",
    "    chr_df = pd.DataFrame(\n",
    "        data=0.0,\n",
    "        index=multiplier_genes_in_chr[\"id\"],\n",
    "        columns=multiplier_genes_in_chr[\"id\"],\n",
    "    )\n",
    "\n",
    "    print(\"Reading corrs per tissue\", flush=True)\n",
    "    for idx, tissue_corrs in chr_files.iterrows():\n",
    "        tissue_corrs_df = pd.read_pickle(tissue_corrs[\"corr_file\"])\n",
    "\n",
    "        nan_values = tissue_corrs_df.isna()\n",
    "        if nan_values.any().any():\n",
    "            print(\n",
    "                f\"  WARNING ({tissue_corrs['tissue']}): has NaN values ({nan_values.sum().sum()})\"\n",
    "            )\n",
    "            tissue_corrs_df = tissue_corrs_df.fillna(0.0)\n",
    "\n",
    "        # align\n",
    "        tissue_corrs_df = tissue_corrs_df.loc[chr_df.index, chr_df.columns]\n",
    "\n",
    "        chr_df = chr_df + tissue_corrs_df\n",
    "    #         chr_df = chr_df.where(chr_df.abs() > tissue_corrs_df.abs(), tissue_corrs_df).fillna(chr_df)\n",
    "\n",
    "    chr_df = chr_df / float(chr_files.shape[0])\n",
    "    chr_df_flat = pd.Series(squareform(chr_df.values, checks=False))\n",
    "    display(chr_df_flat.describe())\n",
    "\n",
    "    corrs_per_chr[chr_num] = chr_df\n",
    "\n",
    "    print(\"\\n\")"
   ]
  },
  {
   "cell_type": "markdown",
   "id": "b4c29c41",
   "metadata": {
    "papermill": {
     "duration": 0.01427,
     "end_time": "2022-06-06T17:01:17.814864",
     "exception": false,
     "start_time": "2022-06-06T17:01:17.800594",
     "status": "completed"
    },
    "tags": []
   },
   "source": [
    "# Create full gene correlation matrix"
   ]
  },
  {
   "cell_type": "markdown",
   "id": "54d599c0",
   "metadata": {
    "papermill": {
     "duration": 0.014074,
     "end_time": "2022-06-06T17:01:17.843112",
     "exception": false,
     "start_time": "2022-06-06T17:01:17.829038",
     "status": "completed"
    },
    "tags": []
   },
   "source": [
    "This matrix has all genes in MultiPLIER Z"
   ]
  },
  {
   "cell_type": "code",
   "execution_count": 38,
   "id": "85e42d66",
   "metadata": {
    "execution": {
     "iopub.execute_input": "2022-06-06T17:01:17.872571Z",
     "iopub.status.busy": "2022-06-06T17:01:17.872352Z",
     "iopub.status.idle": "2022-06-06T17:01:17.923861Z",
     "shell.execute_reply": "2022-06-06T17:01:17.923187Z"
    },
    "papermill": {
     "duration": 0.068079,
     "end_time": "2022-06-06T17:01:17.925409",
     "exception": false,
     "start_time": "2022-06-06T17:01:17.857330",
     "status": "completed"
    },
    "tags": []
   },
   "outputs": [],
   "source": [
    "gene_corrs_df = pd.DataFrame(data=0.0, index=genes_info[\"id\"], columns=genes_info[\"id\"])"
   ]
  },
  {
   "cell_type": "code",
   "execution_count": 39,
   "id": "c231355e",
   "metadata": {
    "execution": {
     "iopub.execute_input": "2022-06-06T17:01:17.954846Z",
     "iopub.status.busy": "2022-06-06T17:01:17.954630Z",
     "iopub.status.idle": "2022-06-06T17:01:17.969303Z",
     "shell.execute_reply": "2022-06-06T17:01:17.968738Z"
    },
    "papermill": {
     "duration": 0.030875,
     "end_time": "2022-06-06T17:01:17.970637",
     "exception": false,
     "start_time": "2022-06-06T17:01:17.939762",
     "status": "completed"
    },
    "tags": []
   },
   "outputs": [
    {
     "data": {
      "text/plain": [
       "(6452, 6452)"
      ]
     },
     "execution_count": 39,
     "metadata": {},
     "output_type": "execute_result"
    }
   ],
   "source": [
    "gene_corrs_df.shape"
   ]
  },
  {
   "cell_type": "code",
   "execution_count": 40,
   "id": "04f0fe9e",
   "metadata": {
    "execution": {
     "iopub.execute_input": "2022-06-06T17:01:18.001350Z",
     "iopub.status.busy": "2022-06-06T17:01:18.000590Z",
     "iopub.status.idle": "2022-06-06T17:01:18.030977Z",
     "shell.execute_reply": "2022-06-06T17:01:18.030223Z"
    },
    "papermill": {
     "duration": 0.04672,
     "end_time": "2022-06-06T17:01:18.032287",
     "exception": false,
     "start_time": "2022-06-06T17:01:17.985567",
     "status": "completed"
    },
    "tags": []
   },
   "outputs": [
    {
     "data": {
      "text/html": [
       "<div>\n",
       "<style scoped>\n",
       "    .dataframe tbody tr th:only-of-type {\n",
       "        vertical-align: middle;\n",
       "    }\n",
       "\n",
       "    .dataframe tbody tr th {\n",
       "        vertical-align: top;\n",
       "    }\n",
       "\n",
       "    .dataframe thead th {\n",
       "        text-align: right;\n",
       "    }\n",
       "</style>\n",
       "<table border=\"1\" class=\"dataframe\">\n",
       "  <thead>\n",
       "    <tr style=\"text-align: right;\">\n",
       "      <th>id</th>\n",
       "      <th>ENSG00000183087</th>\n",
       "      <th>ENSG00000157227</th>\n",
       "      <th>ENSG00000096696</th>\n",
       "      <th>ENSG00000175130</th>\n",
       "      <th>ENSG00000113140</th>\n",
       "      <th>ENSG00000117984</th>\n",
       "      <th>ENSG00000116016</th>\n",
       "      <th>ENSG00000129116</th>\n",
       "      <th>ENSG00000134686</th>\n",
       "      <th>ENSG00000108679</th>\n",
       "      <th>...</th>\n",
       "      <th>ENSG00000111716</th>\n",
       "      <th>ENSG00000166796</th>\n",
       "      <th>ENSG00000114331</th>\n",
       "      <th>ENSG00000131584</th>\n",
       "      <th>ENSG00000165410</th>\n",
       "      <th>ENSG00000172757</th>\n",
       "      <th>ENSG00000147862</th>\n",
       "      <th>ENSG00000008323</th>\n",
       "      <th>ENSG00000167083</th>\n",
       "      <th>ENSG00000149257</th>\n",
       "    </tr>\n",
       "    <tr>\n",
       "      <th>id</th>\n",
       "      <th></th>\n",
       "      <th></th>\n",
       "      <th></th>\n",
       "      <th></th>\n",
       "      <th></th>\n",
       "      <th></th>\n",
       "      <th></th>\n",
       "      <th></th>\n",
       "      <th></th>\n",
       "      <th></th>\n",
       "      <th></th>\n",
       "      <th></th>\n",
       "      <th></th>\n",
       "      <th></th>\n",
       "      <th></th>\n",
       "      <th></th>\n",
       "      <th></th>\n",
       "      <th></th>\n",
       "      <th></th>\n",
       "      <th></th>\n",
       "      <th></th>\n",
       "    </tr>\n",
       "  </thead>\n",
       "  <tbody>\n",
       "    <tr>\n",
       "      <th>ENSG00000183087</th>\n",
       "      <td>0.0</td>\n",
       "      <td>0.0</td>\n",
       "      <td>0.0</td>\n",
       "      <td>0.0</td>\n",
       "      <td>0.0</td>\n",
       "      <td>0.0</td>\n",
       "      <td>0.0</td>\n",
       "      <td>0.0</td>\n",
       "      <td>0.0</td>\n",
       "      <td>0.0</td>\n",
       "      <td>...</td>\n",
       "      <td>0.0</td>\n",
       "      <td>0.0</td>\n",
       "      <td>0.0</td>\n",
       "      <td>0.0</td>\n",
       "      <td>0.0</td>\n",
       "      <td>0.0</td>\n",
       "      <td>0.0</td>\n",
       "      <td>0.0</td>\n",
       "      <td>0.0</td>\n",
       "      <td>0.0</td>\n",
       "    </tr>\n",
       "    <tr>\n",
       "      <th>ENSG00000157227</th>\n",
       "      <td>0.0</td>\n",
       "      <td>0.0</td>\n",
       "      <td>0.0</td>\n",
       "      <td>0.0</td>\n",
       "      <td>0.0</td>\n",
       "      <td>0.0</td>\n",
       "      <td>0.0</td>\n",
       "      <td>0.0</td>\n",
       "      <td>0.0</td>\n",
       "      <td>0.0</td>\n",
       "      <td>...</td>\n",
       "      <td>0.0</td>\n",
       "      <td>0.0</td>\n",
       "      <td>0.0</td>\n",
       "      <td>0.0</td>\n",
       "      <td>0.0</td>\n",
       "      <td>0.0</td>\n",
       "      <td>0.0</td>\n",
       "      <td>0.0</td>\n",
       "      <td>0.0</td>\n",
       "      <td>0.0</td>\n",
       "    </tr>\n",
       "    <tr>\n",
       "      <th>ENSG00000096696</th>\n",
       "      <td>0.0</td>\n",
       "      <td>0.0</td>\n",
       "      <td>0.0</td>\n",
       "      <td>0.0</td>\n",
       "      <td>0.0</td>\n",
       "      <td>0.0</td>\n",
       "      <td>0.0</td>\n",
       "      <td>0.0</td>\n",
       "      <td>0.0</td>\n",
       "      <td>0.0</td>\n",
       "      <td>...</td>\n",
       "      <td>0.0</td>\n",
       "      <td>0.0</td>\n",
       "      <td>0.0</td>\n",
       "      <td>0.0</td>\n",
       "      <td>0.0</td>\n",
       "      <td>0.0</td>\n",
       "      <td>0.0</td>\n",
       "      <td>0.0</td>\n",
       "      <td>0.0</td>\n",
       "      <td>0.0</td>\n",
       "    </tr>\n",
       "    <tr>\n",
       "      <th>ENSG00000175130</th>\n",
       "      <td>0.0</td>\n",
       "      <td>0.0</td>\n",
       "      <td>0.0</td>\n",
       "      <td>0.0</td>\n",
       "      <td>0.0</td>\n",
       "      <td>0.0</td>\n",
       "      <td>0.0</td>\n",
       "      <td>0.0</td>\n",
       "      <td>0.0</td>\n",
       "      <td>0.0</td>\n",
       "      <td>...</td>\n",
       "      <td>0.0</td>\n",
       "      <td>0.0</td>\n",
       "      <td>0.0</td>\n",
       "      <td>0.0</td>\n",
       "      <td>0.0</td>\n",
       "      <td>0.0</td>\n",
       "      <td>0.0</td>\n",
       "      <td>0.0</td>\n",
       "      <td>0.0</td>\n",
       "      <td>0.0</td>\n",
       "    </tr>\n",
       "    <tr>\n",
       "      <th>ENSG00000113140</th>\n",
       "      <td>0.0</td>\n",
       "      <td>0.0</td>\n",
       "      <td>0.0</td>\n",
       "      <td>0.0</td>\n",
       "      <td>0.0</td>\n",
       "      <td>0.0</td>\n",
       "      <td>0.0</td>\n",
       "      <td>0.0</td>\n",
       "      <td>0.0</td>\n",
       "      <td>0.0</td>\n",
       "      <td>...</td>\n",
       "      <td>0.0</td>\n",
       "      <td>0.0</td>\n",
       "      <td>0.0</td>\n",
       "      <td>0.0</td>\n",
       "      <td>0.0</td>\n",
       "      <td>0.0</td>\n",
       "      <td>0.0</td>\n",
       "      <td>0.0</td>\n",
       "      <td>0.0</td>\n",
       "      <td>0.0</td>\n",
       "    </tr>\n",
       "  </tbody>\n",
       "</table>\n",
       "<p>5 rows × 6452 columns</p>\n",
       "</div>"
      ],
      "text/plain": [
       "id               ENSG00000183087  ENSG00000157227  ENSG00000096696  \\\n",
       "id                                                                   \n",
       "ENSG00000183087              0.0              0.0              0.0   \n",
       "ENSG00000157227              0.0              0.0              0.0   \n",
       "ENSG00000096696              0.0              0.0              0.0   \n",
       "ENSG00000175130              0.0              0.0              0.0   \n",
       "ENSG00000113140              0.0              0.0              0.0   \n",
       "\n",
       "id               ENSG00000175130  ENSG00000113140  ENSG00000117984  \\\n",
       "id                                                                   \n",
       "ENSG00000183087              0.0              0.0              0.0   \n",
       "ENSG00000157227              0.0              0.0              0.0   \n",
       "ENSG00000096696              0.0              0.0              0.0   \n",
       "ENSG00000175130              0.0              0.0              0.0   \n",
       "ENSG00000113140              0.0              0.0              0.0   \n",
       "\n",
       "id               ENSG00000116016  ENSG00000129116  ENSG00000134686  \\\n",
       "id                                                                   \n",
       "ENSG00000183087              0.0              0.0              0.0   \n",
       "ENSG00000157227              0.0              0.0              0.0   \n",
       "ENSG00000096696              0.0              0.0              0.0   \n",
       "ENSG00000175130              0.0              0.0              0.0   \n",
       "ENSG00000113140              0.0              0.0              0.0   \n",
       "\n",
       "id               ENSG00000108679  ...  ENSG00000111716  ENSG00000166796  \\\n",
       "id                                ...                                     \n",
       "ENSG00000183087              0.0  ...              0.0              0.0   \n",
       "ENSG00000157227              0.0  ...              0.0              0.0   \n",
       "ENSG00000096696              0.0  ...              0.0              0.0   \n",
       "ENSG00000175130              0.0  ...              0.0              0.0   \n",
       "ENSG00000113140              0.0  ...              0.0              0.0   \n",
       "\n",
       "id               ENSG00000114331  ENSG00000131584  ENSG00000165410  \\\n",
       "id                                                                   \n",
       "ENSG00000183087              0.0              0.0              0.0   \n",
       "ENSG00000157227              0.0              0.0              0.0   \n",
       "ENSG00000096696              0.0              0.0              0.0   \n",
       "ENSG00000175130              0.0              0.0              0.0   \n",
       "ENSG00000113140              0.0              0.0              0.0   \n",
       "\n",
       "id               ENSG00000172757  ENSG00000147862  ENSG00000008323  \\\n",
       "id                                                                   \n",
       "ENSG00000183087              0.0              0.0              0.0   \n",
       "ENSG00000157227              0.0              0.0              0.0   \n",
       "ENSG00000096696              0.0              0.0              0.0   \n",
       "ENSG00000175130              0.0              0.0              0.0   \n",
       "ENSG00000113140              0.0              0.0              0.0   \n",
       "\n",
       "id               ENSG00000167083  ENSG00000149257  \n",
       "id                                                 \n",
       "ENSG00000183087              0.0              0.0  \n",
       "ENSG00000157227              0.0              0.0  \n",
       "ENSG00000096696              0.0              0.0  \n",
       "ENSG00000175130              0.0              0.0  \n",
       "ENSG00000113140              0.0              0.0  \n",
       "\n",
       "[5 rows x 6452 columns]"
      ]
     },
     "execution_count": 40,
     "metadata": {},
     "output_type": "execute_result"
    }
   ],
   "source": [
    "gene_corrs_df.head()"
   ]
  },
  {
   "cell_type": "code",
   "execution_count": 41,
   "id": "23be89f1",
   "metadata": {
    "execution": {
     "iopub.execute_input": "2022-06-06T17:01:18.062765Z",
     "iopub.status.busy": "2022-06-06T17:01:18.062551Z",
     "iopub.status.idle": "2022-06-06T17:01:26.376576Z",
     "shell.execute_reply": "2022-06-06T17:01:26.375943Z"
    },
    "papermill": {
     "duration": 8.331181,
     "end_time": "2022-06-06T17:01:26.378339",
     "exception": false,
     "start_time": "2022-06-06T17:01:18.047158",
     "status": "completed"
    },
    "tags": []
   },
   "outputs": [],
   "source": [
    "for chr_num, chr_data in corrs_per_chr.items():\n",
    "    chr_data = chr_data.reindex(\n",
    "        index=gene_corrs_df.index, columns=gene_corrs_df.columns\n",
    "    )\n",
    "    gene_corrs_df = gene_corrs_df + chr_data.fillna(0.0)"
   ]
  },
  {
   "cell_type": "code",
   "execution_count": 42,
   "id": "08883f22",
   "metadata": {
    "execution": {
     "iopub.execute_input": "2022-06-06T17:01:26.412578Z",
     "iopub.status.busy": "2022-06-06T17:01:26.412348Z",
     "iopub.status.idle": "2022-06-06T17:01:26.464418Z",
     "shell.execute_reply": "2022-06-06T17:01:26.463836Z"
    },
    "papermill": {
     "duration": 0.06991,
     "end_time": "2022-06-06T17:01:26.466035",
     "exception": false,
     "start_time": "2022-06-06T17:01:26.396125",
     "status": "completed"
    },
    "tags": []
   },
   "outputs": [],
   "source": [
    "gene_corrs_df = gene_corrs_df.astype(np.float32)"
   ]
  },
  {
   "cell_type": "code",
   "execution_count": 43,
   "id": "5d684e7c",
   "metadata": {
    "execution": {
     "iopub.execute_input": "2022-06-06T17:01:26.500012Z",
     "iopub.status.busy": "2022-06-06T17:01:26.499810Z",
     "iopub.status.idle": "2022-06-06T17:01:26.528943Z",
     "shell.execute_reply": "2022-06-06T17:01:26.528407Z"
    },
    "papermill": {
     "duration": 0.047576,
     "end_time": "2022-06-06T17:01:26.530416",
     "exception": false,
     "start_time": "2022-06-06T17:01:26.482840",
     "status": "completed"
    },
    "tags": []
   },
   "outputs": [
    {
     "data": {
      "text/html": [
       "<div>\n",
       "<style scoped>\n",
       "    .dataframe tbody tr th:only-of-type {\n",
       "        vertical-align: middle;\n",
       "    }\n",
       "\n",
       "    .dataframe tbody tr th {\n",
       "        vertical-align: top;\n",
       "    }\n",
       "\n",
       "    .dataframe thead th {\n",
       "        text-align: right;\n",
       "    }\n",
       "</style>\n",
       "<table border=\"1\" class=\"dataframe\">\n",
       "  <thead>\n",
       "    <tr style=\"text-align: right;\">\n",
       "      <th>id</th>\n",
       "      <th>ENSG00000183087</th>\n",
       "      <th>ENSG00000157227</th>\n",
       "      <th>ENSG00000096696</th>\n",
       "      <th>ENSG00000175130</th>\n",
       "      <th>ENSG00000113140</th>\n",
       "      <th>ENSG00000117984</th>\n",
       "      <th>ENSG00000116016</th>\n",
       "      <th>ENSG00000129116</th>\n",
       "      <th>ENSG00000134686</th>\n",
       "      <th>ENSG00000108679</th>\n",
       "      <th>...</th>\n",
       "      <th>ENSG00000111716</th>\n",
       "      <th>ENSG00000166796</th>\n",
       "      <th>ENSG00000114331</th>\n",
       "      <th>ENSG00000131584</th>\n",
       "      <th>ENSG00000165410</th>\n",
       "      <th>ENSG00000172757</th>\n",
       "      <th>ENSG00000147862</th>\n",
       "      <th>ENSG00000008323</th>\n",
       "      <th>ENSG00000167083</th>\n",
       "      <th>ENSG00000149257</th>\n",
       "    </tr>\n",
       "    <tr>\n",
       "      <th>id</th>\n",
       "      <th></th>\n",
       "      <th></th>\n",
       "      <th></th>\n",
       "      <th></th>\n",
       "      <th></th>\n",
       "      <th></th>\n",
       "      <th></th>\n",
       "      <th></th>\n",
       "      <th></th>\n",
       "      <th></th>\n",
       "      <th></th>\n",
       "      <th></th>\n",
       "      <th></th>\n",
       "      <th></th>\n",
       "      <th></th>\n",
       "      <th></th>\n",
       "      <th></th>\n",
       "      <th></th>\n",
       "      <th></th>\n",
       "      <th></th>\n",
       "      <th></th>\n",
       "    </tr>\n",
       "  </thead>\n",
       "  <tbody>\n",
       "    <tr>\n",
       "      <th>ENSG00000183087</th>\n",
       "      <td>1.0</td>\n",
       "      <td>0.0</td>\n",
       "      <td>0.0</td>\n",
       "      <td>0.0</td>\n",
       "      <td>0.0</td>\n",
       "      <td>0.0</td>\n",
       "      <td>0.0</td>\n",
       "      <td>0.0</td>\n",
       "      <td>0.000000</td>\n",
       "      <td>0.0</td>\n",
       "      <td>...</td>\n",
       "      <td>0.0</td>\n",
       "      <td>0.0</td>\n",
       "      <td>0.0</td>\n",
       "      <td>0.000000</td>\n",
       "      <td>0.000000</td>\n",
       "      <td>0.0</td>\n",
       "      <td>0.0</td>\n",
       "      <td>0.0</td>\n",
       "      <td>0.0</td>\n",
       "      <td>0.0</td>\n",
       "    </tr>\n",
       "    <tr>\n",
       "      <th>ENSG00000157227</th>\n",
       "      <td>0.0</td>\n",
       "      <td>1.0</td>\n",
       "      <td>0.0</td>\n",
       "      <td>0.0</td>\n",
       "      <td>0.0</td>\n",
       "      <td>0.0</td>\n",
       "      <td>0.0</td>\n",
       "      <td>0.0</td>\n",
       "      <td>0.000000</td>\n",
       "      <td>0.0</td>\n",
       "      <td>...</td>\n",
       "      <td>0.0</td>\n",
       "      <td>0.0</td>\n",
       "      <td>0.0</td>\n",
       "      <td>0.000000</td>\n",
       "      <td>0.002833</td>\n",
       "      <td>0.0</td>\n",
       "      <td>0.0</td>\n",
       "      <td>0.0</td>\n",
       "      <td>0.0</td>\n",
       "      <td>0.0</td>\n",
       "    </tr>\n",
       "    <tr>\n",
       "      <th>ENSG00000096696</th>\n",
       "      <td>0.0</td>\n",
       "      <td>0.0</td>\n",
       "      <td>1.0</td>\n",
       "      <td>0.0</td>\n",
       "      <td>0.0</td>\n",
       "      <td>0.0</td>\n",
       "      <td>0.0</td>\n",
       "      <td>0.0</td>\n",
       "      <td>0.000000</td>\n",
       "      <td>0.0</td>\n",
       "      <td>...</td>\n",
       "      <td>0.0</td>\n",
       "      <td>0.0</td>\n",
       "      <td>0.0</td>\n",
       "      <td>0.000000</td>\n",
       "      <td>0.000000</td>\n",
       "      <td>0.0</td>\n",
       "      <td>0.0</td>\n",
       "      <td>0.0</td>\n",
       "      <td>0.0</td>\n",
       "      <td>0.0</td>\n",
       "    </tr>\n",
       "    <tr>\n",
       "      <th>ENSG00000175130</th>\n",
       "      <td>0.0</td>\n",
       "      <td>0.0</td>\n",
       "      <td>0.0</td>\n",
       "      <td>1.0</td>\n",
       "      <td>0.0</td>\n",
       "      <td>0.0</td>\n",
       "      <td>0.0</td>\n",
       "      <td>0.0</td>\n",
       "      <td>-0.003401</td>\n",
       "      <td>0.0</td>\n",
       "      <td>...</td>\n",
       "      <td>0.0</td>\n",
       "      <td>0.0</td>\n",
       "      <td>0.0</td>\n",
       "      <td>0.002546</td>\n",
       "      <td>0.000000</td>\n",
       "      <td>0.0</td>\n",
       "      <td>0.0</td>\n",
       "      <td>0.0</td>\n",
       "      <td>0.0</td>\n",
       "      <td>0.0</td>\n",
       "    </tr>\n",
       "    <tr>\n",
       "      <th>ENSG00000113140</th>\n",
       "      <td>0.0</td>\n",
       "      <td>0.0</td>\n",
       "      <td>0.0</td>\n",
       "      <td>0.0</td>\n",
       "      <td>1.0</td>\n",
       "      <td>0.0</td>\n",
       "      <td>0.0</td>\n",
       "      <td>0.0</td>\n",
       "      <td>0.000000</td>\n",
       "      <td>0.0</td>\n",
       "      <td>...</td>\n",
       "      <td>0.0</td>\n",
       "      <td>0.0</td>\n",
       "      <td>0.0</td>\n",
       "      <td>0.000000</td>\n",
       "      <td>0.000000</td>\n",
       "      <td>0.0</td>\n",
       "      <td>0.0</td>\n",
       "      <td>0.0</td>\n",
       "      <td>0.0</td>\n",
       "      <td>0.0</td>\n",
       "    </tr>\n",
       "  </tbody>\n",
       "</table>\n",
       "<p>5 rows × 6452 columns</p>\n",
       "</div>"
      ],
      "text/plain": [
       "id               ENSG00000183087  ENSG00000157227  ENSG00000096696  \\\n",
       "id                                                                   \n",
       "ENSG00000183087              1.0              0.0              0.0   \n",
       "ENSG00000157227              0.0              1.0              0.0   \n",
       "ENSG00000096696              0.0              0.0              1.0   \n",
       "ENSG00000175130              0.0              0.0              0.0   \n",
       "ENSG00000113140              0.0              0.0              0.0   \n",
       "\n",
       "id               ENSG00000175130  ENSG00000113140  ENSG00000117984  \\\n",
       "id                                                                   \n",
       "ENSG00000183087              0.0              0.0              0.0   \n",
       "ENSG00000157227              0.0              0.0              0.0   \n",
       "ENSG00000096696              0.0              0.0              0.0   \n",
       "ENSG00000175130              1.0              0.0              0.0   \n",
       "ENSG00000113140              0.0              1.0              0.0   \n",
       "\n",
       "id               ENSG00000116016  ENSG00000129116  ENSG00000134686  \\\n",
       "id                                                                   \n",
       "ENSG00000183087              0.0              0.0         0.000000   \n",
       "ENSG00000157227              0.0              0.0         0.000000   \n",
       "ENSG00000096696              0.0              0.0         0.000000   \n",
       "ENSG00000175130              0.0              0.0        -0.003401   \n",
       "ENSG00000113140              0.0              0.0         0.000000   \n",
       "\n",
       "id               ENSG00000108679  ...  ENSG00000111716  ENSG00000166796  \\\n",
       "id                                ...                                     \n",
       "ENSG00000183087              0.0  ...              0.0              0.0   \n",
       "ENSG00000157227              0.0  ...              0.0              0.0   \n",
       "ENSG00000096696              0.0  ...              0.0              0.0   \n",
       "ENSG00000175130              0.0  ...              0.0              0.0   \n",
       "ENSG00000113140              0.0  ...              0.0              0.0   \n",
       "\n",
       "id               ENSG00000114331  ENSG00000131584  ENSG00000165410  \\\n",
       "id                                                                   \n",
       "ENSG00000183087              0.0         0.000000         0.000000   \n",
       "ENSG00000157227              0.0         0.000000         0.002833   \n",
       "ENSG00000096696              0.0         0.000000         0.000000   \n",
       "ENSG00000175130              0.0         0.002546         0.000000   \n",
       "ENSG00000113140              0.0         0.000000         0.000000   \n",
       "\n",
       "id               ENSG00000172757  ENSG00000147862  ENSG00000008323  \\\n",
       "id                                                                   \n",
       "ENSG00000183087              0.0              0.0              0.0   \n",
       "ENSG00000157227              0.0              0.0              0.0   \n",
       "ENSG00000096696              0.0              0.0              0.0   \n",
       "ENSG00000175130              0.0              0.0              0.0   \n",
       "ENSG00000113140              0.0              0.0              0.0   \n",
       "\n",
       "id               ENSG00000167083  ENSG00000149257  \n",
       "id                                                 \n",
       "ENSG00000183087              0.0              0.0  \n",
       "ENSG00000157227              0.0              0.0  \n",
       "ENSG00000096696              0.0              0.0  \n",
       "ENSG00000175130              0.0              0.0  \n",
       "ENSG00000113140              0.0              0.0  \n",
       "\n",
       "[5 rows x 6452 columns]"
      ]
     },
     "execution_count": 43,
     "metadata": {},
     "output_type": "execute_result"
    }
   ],
   "source": [
    "gene_corrs_df.head()"
   ]
  },
  {
   "cell_type": "code",
   "execution_count": 44,
   "id": "05106117",
   "metadata": {
    "execution": {
     "iopub.execute_input": "2022-06-06T17:01:26.561601Z",
     "iopub.status.busy": "2022-06-06T17:01:26.561394Z",
     "iopub.status.idle": "2022-06-06T17:01:26.575220Z",
     "shell.execute_reply": "2022-06-06T17:01:26.574626Z"
    },
    "papermill": {
     "duration": 0.030831,
     "end_time": "2022-06-06T17:01:26.576600",
     "exception": false,
     "start_time": "2022-06-06T17:01:26.545769",
     "status": "completed"
    },
    "tags": []
   },
   "outputs": [],
   "source": [
    "assert np.all(gene_corrs_df.values.diagonal() == 1.0)"
   ]
  },
  {
   "cell_type": "markdown",
   "id": "183120b0",
   "metadata": {
    "papermill": {
     "duration": 0.015318,
     "end_time": "2022-06-06T17:01:26.607770",
     "exception": false,
     "start_time": "2022-06-06T17:01:26.592452",
     "status": "completed"
    },
    "tags": []
   },
   "source": [
    "## Stats"
   ]
  },
  {
   "cell_type": "code",
   "execution_count": 45,
   "id": "0e1712c1",
   "metadata": {
    "execution": {
     "iopub.execute_input": "2022-06-06T17:01:26.638465Z",
     "iopub.status.busy": "2022-06-06T17:01:26.638241Z",
     "iopub.status.idle": "2022-06-06T17:01:26.780852Z",
     "shell.execute_reply": "2022-06-06T17:01:26.780289Z"
    },
    "papermill": {
     "duration": 0.159769,
     "end_time": "2022-06-06T17:01:26.782470",
     "exception": false,
     "start_time": "2022-06-06T17:01:26.622701",
     "status": "completed"
    },
    "tags": []
   },
   "outputs": [],
   "source": [
    "_gene_corrs_flat = squareform(gene_corrs_df.values, checks=False)"
   ]
  },
  {
   "cell_type": "code",
   "execution_count": 46,
   "id": "67e7f149",
   "metadata": {
    "execution": {
     "iopub.execute_input": "2022-06-06T17:01:26.814882Z",
     "iopub.status.busy": "2022-06-06T17:01:26.814654Z",
     "iopub.status.idle": "2022-06-06T17:01:27.294992Z",
     "shell.execute_reply": "2022-06-06T17:01:27.294348Z"
    },
    "papermill": {
     "duration": 0.497684,
     "end_time": "2022-06-06T17:01:27.296519",
     "exception": false,
     "start_time": "2022-06-06T17:01:26.798835",
     "status": "completed"
    },
    "tags": []
   },
   "outputs": [
    {
     "data": {
      "text/plain": [
       "count    2.081093e+07\n",
       "mean     1.349729e-06\n",
       "std      4.250836e-03\n",
       "min     -9.172987e-01\n",
       "25%      0.000000e+00\n",
       "50%      0.000000e+00\n",
       "75%      0.000000e+00\n",
       "max      8.924159e-01\n",
       "dtype: float64"
      ]
     },
     "execution_count": 46,
     "metadata": {},
     "output_type": "execute_result"
    }
   ],
   "source": [
    "pd.Series(_gene_corrs_flat).describe()"
   ]
  },
  {
   "cell_type": "markdown",
   "id": "ca0ec949",
   "metadata": {
    "papermill": {
     "duration": 0.015622,
     "end_time": "2022-06-06T17:01:27.329256",
     "exception": false,
     "start_time": "2022-06-06T17:01:27.313634",
     "status": "completed"
    },
    "tags": []
   },
   "source": [
    "# Plot"
   ]
  },
  {
   "cell_type": "code",
   "execution_count": 47,
   "id": "3f915f50",
   "metadata": {
    "execution": {
     "iopub.execute_input": "2022-06-06T17:01:27.360756Z",
     "iopub.status.busy": "2022-06-06T17:01:27.360525Z",
     "iopub.status.idle": "2022-06-06T17:01:27.568879Z",
     "shell.execute_reply": "2022-06-06T17:01:27.568314Z"
    },
    "papermill": {
     "duration": 0.225893,
     "end_time": "2022-06-06T17:01:27.570542",
     "exception": false,
     "start_time": "2022-06-06T17:01:27.344649",
     "status": "completed"
    },
    "tags": []
   },
   "outputs": [],
   "source": [
    "import matplotlib.pyplot as plt\n",
    "from matplotlib.colors import ListedColormap"
   ]
  },
  {
   "cell_type": "code",
   "execution_count": 48,
   "id": "ba72ef73",
   "metadata": {
    "execution": {
     "iopub.execute_input": "2022-06-06T17:01:27.602111Z",
     "iopub.status.busy": "2022-06-06T17:01:27.601893Z",
     "iopub.status.idle": "2022-06-06T17:01:27.619930Z",
     "shell.execute_reply": "2022-06-06T17:01:27.619429Z"
    },
    "papermill": {
     "duration": 0.035472,
     "end_time": "2022-06-06T17:01:27.621353",
     "exception": false,
     "start_time": "2022-06-06T17:01:27.585881",
     "status": "completed"
    },
    "tags": []
   },
   "outputs": [],
   "source": [
    "genes_order = genes_info.sort_values(\"chr\")[\"id\"].tolist()"
   ]
  },
  {
   "cell_type": "code",
   "execution_count": 49,
   "id": "eaf12e9e",
   "metadata": {
    "execution": {
     "iopub.execute_input": "2022-06-06T17:01:27.654570Z",
     "iopub.status.busy": "2022-06-06T17:01:27.654284Z",
     "iopub.status.idle": "2022-06-06T17:01:27.668708Z",
     "shell.execute_reply": "2022-06-06T17:01:27.668233Z"
    },
    "papermill": {
     "duration": 0.032733,
     "end_time": "2022-06-06T17:01:27.670123",
     "exception": false,
     "start_time": "2022-06-06T17:01:27.637390",
     "status": "completed"
    },
    "tags": []
   },
   "outputs": [],
   "source": [
    "cmap = ListedColormap([\"w\", \"r\"])"
   ]
  },
  {
   "cell_type": "code",
   "execution_count": 50,
   "id": "ffdeef1f",
   "metadata": {
    "execution": {
     "iopub.execute_input": "2022-06-06T17:01:27.702298Z",
     "iopub.status.busy": "2022-06-06T17:01:27.702106Z",
     "iopub.status.idle": "2022-06-06T17:01:28.677309Z",
     "shell.execute_reply": "2022-06-06T17:01:28.676730Z"
    },
    "papermill": {
     "duration": 0.992698,
     "end_time": "2022-06-06T17:01:28.678780",
     "exception": false,
     "start_time": "2022-06-06T17:01:27.686082",
     "status": "completed"
    },
    "tags": []
   },
   "outputs": [
    {
     "data": {
      "text/plain": [
       "[]"
      ]
     },
     "execution_count": 50,
     "metadata": {},
     "output_type": "execute_result"
    },
    {
     "data": {
      "image/png": "[encoded data removed]",
      "text/plain": [
       "<Figure size 720x720 with 1 Axes>"
      ]
     },
     "metadata": {},
     "output_type": "display_data"
    }
   ],
   "source": [
    "fig, ax = plt.subplots(figsize=(10, 10))\n",
    "ax.matshow(\n",
    "    gene_corrs_df.loc[genes_order, genes_order].values, vmin=-0.05, vmax=0.05, cmap=cmap\n",
    ")\n",
    "ax.set_xlabel(\"Genes\")\n",
    "ax.set_ylabel(\"Genes\")\n",
    "ax.set_xticks([])\n",
    "ax.set_yticks([])"
   ]
  },
  {
   "cell_type": "markdown",
   "id": "c13be5c3",
   "metadata": {
    "papermill": {
     "duration": 0.015256,
     "end_time": "2022-06-06T17:01:28.709801",
     "exception": false,
     "start_time": "2022-06-06T17:01:28.694545",
     "status": "completed"
    },
    "tags": []
   },
   "source": [
    "# Testing"
   ]
  },
  {
   "cell_type": "code",
   "execution_count": 51,
   "id": "50e94dc6",
   "metadata": {
    "execution": {
     "iopub.execute_input": "2022-06-06T17:01:28.742057Z",
     "iopub.status.busy": "2022-06-06T17:01:28.741835Z",
     "iopub.status.idle": "2022-06-06T17:01:28.758135Z",
     "shell.execute_reply": "2022-06-06T17:01:28.757613Z"
    },
    "papermill": {
     "duration": 0.034091,
     "end_time": "2022-06-06T17:01:28.759460",
     "exception": false,
     "start_time": "2022-06-06T17:01:28.725369",
     "status": "completed"
    },
    "tags": []
   },
   "outputs": [
    {
     "data": {
      "text/plain": [
       "0.20567855"
      ]
     },
     "execution_count": 51,
     "metadata": {},
     "output_type": "execute_result"
    }
   ],
   "source": [
    "# COL4A1 and COL4A2\n",
    "gene1 = \"ENSG00000187498\"\n",
    "gene2 = \"ENSG00000134871\"\n",
    "\n",
    "gene_corrs_df.loc[gene1, gene2]"
   ]
  },
  {
   "cell_type": "code",
   "execution_count": 52,
   "id": "3f7a77e8",
   "metadata": {
    "execution": {
     "iopub.execute_input": "2022-06-06T17:01:28.792725Z",
     "iopub.status.busy": "2022-06-06T17:01:28.792506Z",
     "iopub.status.idle": "2022-06-06T17:01:28.808124Z",
     "shell.execute_reply": "2022-06-06T17:01:28.807540Z"
    },
    "papermill": {
     "duration": 0.03385,
     "end_time": "2022-06-06T17:01:28.809608",
     "exception": false,
     "start_time": "2022-06-06T17:01:28.775758",
     "status": "completed"
    },
    "tags": []
   },
   "outputs": [],
   "source": [
    "_genes_files = all_gene_corr_files_df[all_gene_corr_files_df[\"chromosome\"] == 13][\n",
    "    \"corr_file\"\n",
    "].tolist()\n",
    "assert len(_genes_files) == 49"
   ]
  },
  {
   "cell_type": "code",
   "execution_count": 53,
   "id": "d78aa703",
   "metadata": {
    "execution": {
     "iopub.execute_input": "2022-06-06T17:01:28.843567Z",
     "iopub.status.busy": "2022-06-06T17:01:28.843350Z",
     "iopub.status.idle": "2022-06-06T17:01:28.888591Z",
     "shell.execute_reply": "2022-06-06T17:01:28.888037Z"
    },
    "papermill": {
     "duration": 0.063944,
     "end_time": "2022-06-06T17:01:28.890198",
     "exception": false,
     "start_time": "2022-06-06T17:01:28.826254",
     "status": "completed"
    },
    "tags": []
   },
   "outputs": [],
   "source": [
    "_gene_values = []\n",
    "for f in _genes_files:\n",
    "    gene1_gene2_corr = pd.read_pickle(f).loc[gene1, gene2]\n",
    "    _gene_values.append(gene1_gene2_corr)"
   ]
  },
  {
   "cell_type": "code",
   "execution_count": 54,
   "id": "e0109cc5",
   "metadata": {
    "execution": {
     "iopub.execute_input": "2022-06-06T17:01:28.923158Z",
     "iopub.status.busy": "2022-06-06T17:01:28.922502Z",
     "iopub.status.idle": "2022-06-06T17:01:28.937388Z",
     "shell.execute_reply": "2022-06-06T17:01:28.936731Z"
    },
    "papermill": {
     "duration": 0.032732,
     "end_time": "2022-06-06T17:01:28.938873",
     "exception": false,
     "start_time": "2022-06-06T17:01:28.906141",
     "status": "completed"
    },
    "tags": []
   },
   "outputs": [],
   "source": [
    "_gene_values = np.array(_gene_values)\n",
    "assert _gene_values.shape[0] == 49"
   ]
  },
  {
   "cell_type": "code",
   "execution_count": 55,
   "id": "ce8e26f5",
   "metadata": {
    "execution": {
     "iopub.execute_input": "2022-06-06T17:01:28.971610Z",
     "iopub.status.busy": "2022-06-06T17:01:28.971396Z",
     "iopub.status.idle": "2022-06-06T17:01:28.990590Z",
     "shell.execute_reply": "2022-06-06T17:01:28.989805Z"
    },
    "papermill": {
     "duration": 0.037072,
     "end_time": "2022-06-06T17:01:28.992045",
     "exception": false,
     "start_time": "2022-06-06T17:01:28.954973",
     "status": "completed"
    },
    "tags": []
   },
   "outputs": [
    {
     "data": {
      "text/plain": [
       "count    49.000000\n",
       "mean      0.205679\n",
       "std       0.376234\n",
       "min      -0.018678\n",
       "25%       0.000000\n",
       "50%       0.000000\n",
       "75%       0.090196\n",
       "max       0.968930\n",
       "dtype: float64"
      ]
     },
     "metadata": {},
     "output_type": "display_data"
    }
   ],
   "source": [
    "# display(_gene_values.mean())\n",
    "display(pd.Series(_gene_values).describe())\n",
    "assert gene_corrs_df.loc[gene1, gene2].round(5) == _gene_values.mean().round(\n",
    "    5\n",
    "), gene_corrs_df.loc[gene1, gene2]"
   ]
  },
  {
   "cell_type": "markdown",
   "id": "e34db3c2",
   "metadata": {
    "papermill": {
     "duration": 0.015942,
     "end_time": "2022-06-06T17:01:29.024393",
     "exception": false,
     "start_time": "2022-06-06T17:01:29.008451",
     "status": "completed"
    },
    "tags": []
   },
   "source": [
    "# Save"
   ]
  },
  {
   "cell_type": "markdown",
   "id": "510183a9",
   "metadata": {
    "papermill": {
     "duration": 0.015693,
     "end_time": "2022-06-06T17:01:29.056048",
     "exception": false,
     "start_time": "2022-06-06T17:01:29.040355",
     "status": "completed"
    },
    "tags": []
   },
   "source": [
    "## With ensemble ids"
   ]
  },
  {
   "cell_type": "code",
   "execution_count": 56,
   "id": "751cdc8c-1cce-4dee-8524-89b4b9a27feb",
   "metadata": {
    "execution": {
     "iopub.execute_input": "2022-06-06T17:01:29.089392Z",
     "iopub.status.busy": "2022-06-06T17:01:29.088838Z",
     "iopub.status.idle": "2022-06-06T17:01:29.105457Z",
     "shell.execute_reply": "2022-06-06T17:01:29.104777Z"
    },
    "papermill": {
     "duration": 0.034883,
     "end_time": "2022-06-06T17:01:29.106905",
     "exception": false,
     "start_time": "2022-06-06T17:01:29.072022",
     "status": "completed"
    },
    "tags": []
   },
   "outputs": [
    {
     "data": {
      "text/plain": [
       "PosixPath('/opt/data/data/phenomexcan/ld_blocks/gene_corrs/gtex_v8/mashr/multiplier_genes-pred_expression_corr_avg-mean-gene_ensembl_ids.pkl')"
      ]
     },
     "metadata": {},
     "output_type": "display_data"
    }
   ],
   "source": [
    "output_file_name_template = conf.PHENOMEXCAN[\"LD_BLOCKS\"][\n",
    "    \"GENE_CORRS_FILE_NAME_TEMPLATES\"\n",
    "][\"GENE_CORR_AVG\"]\n",
    "\n",
    "output_file = OUTPUT_DIR_BASE / output_file_name_template.format(\n",
    "    prefix=\"\",\n",
    "    suffix=f\"-{OUTPUT_FILE_AGG_METHOD}-gene_ensembl_ids\",\n",
    ")\n",
    "display(output_file)"
   ]
  },
  {
   "cell_type": "code",
   "execution_count": 57,
   "id": "d841e2a0",
   "metadata": {
    "execution": {
     "iopub.execute_input": "2022-06-06T17:01:29.140055Z",
     "iopub.status.busy": "2022-06-06T17:01:29.139829Z",
     "iopub.status.idle": "2022-06-06T17:01:29.315875Z",
     "shell.execute_reply": "2022-06-06T17:01:29.315270Z"
    },
    "papermill": {
     "duration": 0.194366,
     "end_time": "2022-06-06T17:01:29.317587",
     "exception": false,
     "start_time": "2022-06-06T17:01:29.123221",
     "status": "completed"
    },
    "tags": []
   },
   "outputs": [],
   "source": [
    "gene_corrs_df.to_pickle(output_file)"
   ]
  },
  {
   "cell_type": "markdown",
   "id": "7f9816a6",
   "metadata": {
    "papermill": {
     "duration": 0.016791,
     "end_time": "2022-06-06T17:01:29.353586",
     "exception": false,
     "start_time": "2022-06-06T17:01:29.336795",
     "status": "completed"
    },
    "tags": []
   },
   "source": [
    "## With gene symbols"
   ]
  },
  {
   "cell_type": "code",
   "execution_count": 58,
   "id": "2f174f95-2be3-4b63-95fb-451413ad361d",
   "metadata": {
    "execution": {
     "iopub.execute_input": "2022-06-06T17:01:29.386613Z",
     "iopub.status.busy": "2022-06-06T17:01:29.386331Z",
     "iopub.status.idle": "2022-06-06T17:01:29.402312Z",
     "shell.execute_reply": "2022-06-06T17:01:29.401798Z"
    },
    "papermill": {
     "duration": 0.034069,
     "end_time": "2022-06-06T17:01:29.403729",
     "exception": false,
     "start_time": "2022-06-06T17:01:29.369660",
     "status": "completed"
    },
    "tags": []
   },
   "outputs": [
    {
     "data": {
      "text/plain": [
       "PosixPath('/opt/data/data/phenomexcan/ld_blocks/gene_corrs/gtex_v8/mashr/multiplier_genes-pred_expression_corr_avg-mean-gene_symbols.pkl')"
      ]
     },
     "metadata": {},
     "output_type": "display_data"
    }
   ],
   "source": [
    "output_file_name_template = conf.PHENOMEXCAN[\"LD_BLOCKS\"][\n",
    "    \"GENE_CORRS_FILE_NAME_TEMPLATES\"\n",
    "][\"GENE_CORR_AVG\"]\n",
    "\n",
    "output_file = OUTPUT_DIR_BASE / output_file_name_template.format(\n",
    "    prefix=\"\",\n",
    "    suffix=f\"-{OUTPUT_FILE_AGG_METHOD}-gene_symbols\",\n",
    ")\n",
    "display(output_file)"
   ]
  },
  {
   "cell_type": "code",
   "execution_count": 59,
   "id": "1436a25d",
   "metadata": {
    "execution": {
     "iopub.execute_input": "2022-06-06T17:01:29.437700Z",
     "iopub.status.busy": "2022-06-06T17:01:29.437487Z",
     "iopub.status.idle": "2022-06-06T17:01:29.493082Z",
     "shell.execute_reply": "2022-06-06T17:01:29.492539Z"
    },
    "papermill": {
     "duration": 0.07405,
     "end_time": "2022-06-06T17:01:29.494625",
     "exception": false,
     "start_time": "2022-06-06T17:01:29.420575",
     "status": "completed"
    },
    "tags": []
   },
   "outputs": [],
   "source": [
    "gene_corrs_gene_names_df = gene_corrs_df.rename(\n",
    "    index=Gene.GENE_ID_TO_NAME_MAP, columns=Gene.GENE_ID_TO_NAME_MAP\n",
    ")"
   ]
  },
  {
   "cell_type": "code",
   "execution_count": 60,
   "id": "b2014f92",
   "metadata": {
    "execution": {
     "iopub.execute_input": "2022-06-06T17:01:29.529972Z",
     "iopub.status.busy": "2022-06-06T17:01:29.529753Z",
     "iopub.status.idle": "2022-06-06T17:01:29.545771Z",
     "shell.execute_reply": "2022-06-06T17:01:29.545259Z"
    },
    "papermill": {
     "duration": 0.035388,
     "end_time": "2022-06-06T17:01:29.547229",
     "exception": false,
     "start_time": "2022-06-06T17:01:29.511841",
     "status": "completed"
    },
    "tags": []
   },
   "outputs": [],
   "source": [
    "assert gene_corrs_gene_names_df.index.is_unique"
   ]
  },
  {
   "cell_type": "code",
   "execution_count": 61,
   "id": "1ced30b0",
   "metadata": {
    "execution": {
     "iopub.execute_input": "2022-06-06T17:01:29.581496Z",
     "iopub.status.busy": "2022-06-06T17:01:29.581280Z",
     "iopub.status.idle": "2022-06-06T17:01:29.596215Z",
     "shell.execute_reply": "2022-06-06T17:01:29.595761Z"
    },
    "papermill": {
     "duration": 0.03321,
     "end_time": "2022-06-06T17:01:29.597628",
     "exception": false,
     "start_time": "2022-06-06T17:01:29.564418",
     "status": "completed"
    },
    "tags": []
   },
   "outputs": [],
   "source": [
    "assert gene_corrs_gene_names_df.columns.is_unique"
   ]
  },
  {
   "cell_type": "code",
   "execution_count": 62,
   "id": "d9e18eab",
   "metadata": {
    "execution": {
     "iopub.execute_input": "2022-06-06T17:01:29.631571Z",
     "iopub.status.busy": "2022-06-06T17:01:29.631355Z",
     "iopub.status.idle": "2022-06-06T17:01:29.646792Z",
     "shell.execute_reply": "2022-06-06T17:01:29.646214Z"
    },
    "papermill": {
     "duration": 0.033903,
     "end_time": "2022-06-06T17:01:29.648212",
     "exception": false,
     "start_time": "2022-06-06T17:01:29.614309",
     "status": "completed"
    },
    "tags": []
   },
   "outputs": [
    {
     "data": {
      "text/plain": [
       "(6452, 6452)"
      ]
     },
     "execution_count": 62,
     "metadata": {},
     "output_type": "execute_result"
    }
   ],
   "source": [
    "gene_corrs_gene_names_df.shape"
   ]
  },
  {
   "cell_type": "code",
   "execution_count": 63,
   "id": "44e83e62",
   "metadata": {
    "execution": {
     "iopub.execute_input": "2022-06-06T17:01:29.682203Z",
     "iopub.status.busy": "2022-06-06T17:01:29.681988Z",
     "iopub.status.idle": "2022-06-06T17:01:29.711693Z",
     "shell.execute_reply": "2022-06-06T17:01:29.710988Z"
    },
    "papermill": {
     "duration": 0.048228,
     "end_time": "2022-06-06T17:01:29.713195",
     "exception": false,
     "start_time": "2022-06-06T17:01:29.664967",
     "status": "completed"
    },
    "tags": []
   },
   "outputs": [
    {
     "data": {
      "text/html": [
       "<div>\n",
       "<style scoped>\n",
       "    .dataframe tbody tr th:only-of-type {\n",
       "        vertical-align: middle;\n",
       "    }\n",
       "\n",
       "    .dataframe tbody tr th {\n",
       "        vertical-align: top;\n",
       "    }\n",
       "\n",
       "    .dataframe thead th {\n",
       "        text-align: right;\n",
       "    }\n",
       "</style>\n",
       "<table border=\"1\" class=\"dataframe\">\n",
       "  <thead>\n",
       "    <tr style=\"text-align: right;\">\n",
       "      <th>id</th>\n",
       "      <th>GAS6</th>\n",
       "      <th>MMP14</th>\n",
       "      <th>DSP</th>\n",
       "      <th>MARCKSL1</th>\n",
       "      <th>SPARC</th>\n",
       "      <th>CTSD</th>\n",
       "      <th>EPAS1</th>\n",
       "      <th>PALLD</th>\n",
       "      <th>PHC2</th>\n",
       "      <th>LGALS3BP</th>\n",
       "      <th>...</th>\n",
       "      <th>LDHB</th>\n",
       "      <th>LDHC</th>\n",
       "      <th>ACAP2</th>\n",
       "      <th>ACAP3</th>\n",
       "      <th>CFL2</th>\n",
       "      <th>CFL1</th>\n",
       "      <th>NFIB</th>\n",
       "      <th>PLEKHG6</th>\n",
       "      <th>GNGT2</th>\n",
       "      <th>SERPINH1</th>\n",
       "    </tr>\n",
       "    <tr>\n",
       "      <th>id</th>\n",
       "      <th></th>\n",
       "      <th></th>\n",
       "      <th></th>\n",
       "      <th></th>\n",
       "      <th></th>\n",
       "      <th></th>\n",
       "      <th></th>\n",
       "      <th></th>\n",
       "      <th></th>\n",
       "      <th></th>\n",
       "      <th></th>\n",
       "      <th></th>\n",
       "      <th></th>\n",
       "      <th></th>\n",
       "      <th></th>\n",
       "      <th></th>\n",
       "      <th></th>\n",
       "      <th></th>\n",
       "      <th></th>\n",
       "      <th></th>\n",
       "      <th></th>\n",
       "    </tr>\n",
       "  </thead>\n",
       "  <tbody>\n",
       "    <tr>\n",
       "      <th>GAS6</th>\n",
       "      <td>1.0</td>\n",
       "      <td>0.0</td>\n",
       "      <td>0.0</td>\n",
       "      <td>0.0</td>\n",
       "      <td>0.0</td>\n",
       "      <td>0.0</td>\n",
       "      <td>0.0</td>\n",
       "      <td>0.0</td>\n",
       "      <td>0.000000</td>\n",
       "      <td>0.0</td>\n",
       "      <td>...</td>\n",
       "      <td>0.0</td>\n",
       "      <td>0.0</td>\n",
       "      <td>0.0</td>\n",
       "      <td>0.000000</td>\n",
       "      <td>0.000000</td>\n",
       "      <td>0.0</td>\n",
       "      <td>0.0</td>\n",
       "      <td>0.0</td>\n",
       "      <td>0.0</td>\n",
       "      <td>0.0</td>\n",
       "    </tr>\n",
       "    <tr>\n",
       "      <th>MMP14</th>\n",
       "      <td>0.0</td>\n",
       "      <td>1.0</td>\n",
       "      <td>0.0</td>\n",
       "      <td>0.0</td>\n",
       "      <td>0.0</td>\n",
       "      <td>0.0</td>\n",
       "      <td>0.0</td>\n",
       "      <td>0.0</td>\n",
       "      <td>0.000000</td>\n",
       "      <td>0.0</td>\n",
       "      <td>...</td>\n",
       "      <td>0.0</td>\n",
       "      <td>0.0</td>\n",
       "      <td>0.0</td>\n",
       "      <td>0.000000</td>\n",
       "      <td>0.002833</td>\n",
       "      <td>0.0</td>\n",
       "      <td>0.0</td>\n",
       "      <td>0.0</td>\n",
       "      <td>0.0</td>\n",
       "      <td>0.0</td>\n",
       "    </tr>\n",
       "    <tr>\n",
       "      <th>DSP</th>\n",
       "      <td>0.0</td>\n",
       "      <td>0.0</td>\n",
       "      <td>1.0</td>\n",
       "      <td>0.0</td>\n",
       "      <td>0.0</td>\n",
       "      <td>0.0</td>\n",
       "      <td>0.0</td>\n",
       "      <td>0.0</td>\n",
       "      <td>0.000000</td>\n",
       "      <td>0.0</td>\n",
       "      <td>...</td>\n",
       "      <td>0.0</td>\n",
       "      <td>0.0</td>\n",
       "      <td>0.0</td>\n",
       "      <td>0.000000</td>\n",
       "      <td>0.000000</td>\n",
       "      <td>0.0</td>\n",
       "      <td>0.0</td>\n",
       "      <td>0.0</td>\n",
       "      <td>0.0</td>\n",
       "      <td>0.0</td>\n",
       "    </tr>\n",
       "    <tr>\n",
       "      <th>MARCKSL1</th>\n",
       "      <td>0.0</td>\n",
       "      <td>0.0</td>\n",
       "      <td>0.0</td>\n",
       "      <td>1.0</td>\n",
       "      <td>0.0</td>\n",
       "      <td>0.0</td>\n",
       "      <td>0.0</td>\n",
       "      <td>0.0</td>\n",
       "      <td>-0.003401</td>\n",
       "      <td>0.0</td>\n",
       "      <td>...</td>\n",
       "      <td>0.0</td>\n",
       "      <td>0.0</td>\n",
       "      <td>0.0</td>\n",
       "      <td>0.002546</td>\n",
       "      <td>0.000000</td>\n",
       "      <td>0.0</td>\n",
       "      <td>0.0</td>\n",
       "      <td>0.0</td>\n",
       "      <td>0.0</td>\n",
       "      <td>0.0</td>\n",
       "    </tr>\n",
       "    <tr>\n",
       "      <th>SPARC</th>\n",
       "      <td>0.0</td>\n",
       "      <td>0.0</td>\n",
       "      <td>0.0</td>\n",
       "      <td>0.0</td>\n",
       "      <td>1.0</td>\n",
       "      <td>0.0</td>\n",
       "      <td>0.0</td>\n",
       "      <td>0.0</td>\n",
       "      <td>0.000000</td>\n",
       "      <td>0.0</td>\n",
       "      <td>...</td>\n",
       "      <td>0.0</td>\n",
       "      <td>0.0</td>\n",
       "      <td>0.0</td>\n",
       "      <td>0.000000</td>\n",
       "      <td>0.000000</td>\n",
       "      <td>0.0</td>\n",
       "      <td>0.0</td>\n",
       "      <td>0.0</td>\n",
       "      <td>0.0</td>\n",
       "      <td>0.0</td>\n",
       "    </tr>\n",
       "  </tbody>\n",
       "</table>\n",
       "<p>5 rows × 6452 columns</p>\n",
       "</div>"
      ],
      "text/plain": [
       "id        GAS6  MMP14  DSP  MARCKSL1  SPARC  CTSD  EPAS1  PALLD      PHC2  \\\n",
       "id                                                                          \n",
       "GAS6       1.0    0.0  0.0       0.0    0.0   0.0    0.0    0.0  0.000000   \n",
       "MMP14      0.0    1.0  0.0       0.0    0.0   0.0    0.0    0.0  0.000000   \n",
       "DSP        0.0    0.0  1.0       0.0    0.0   0.0    0.0    0.0  0.000000   \n",
       "MARCKSL1   0.0    0.0  0.0       1.0    0.0   0.0    0.0    0.0 -0.003401   \n",
       "SPARC      0.0    0.0  0.0       0.0    1.0   0.0    0.0    0.0  0.000000   \n",
       "\n",
       "id        LGALS3BP  ...  LDHB  LDHC  ACAP2     ACAP3      CFL2  CFL1  NFIB  \\\n",
       "id                  ...                                                      \n",
       "GAS6           0.0  ...   0.0   0.0    0.0  0.000000  0.000000   0.0   0.0   \n",
       "MMP14          0.0  ...   0.0   0.0    0.0  0.000000  0.002833   0.0   0.0   \n",
       "DSP            0.0  ...   0.0   0.0    0.0  0.000000  0.000000   0.0   0.0   \n",
       "MARCKSL1       0.0  ...   0.0   0.0    0.0  0.002546  0.000000   0.0   0.0   \n",
       "SPARC          0.0  ...   0.0   0.0    0.0  0.000000  0.000000   0.0   0.0   \n",
       "\n",
       "id        PLEKHG6  GNGT2  SERPINH1  \n",
       "id                                  \n",
       "GAS6          0.0    0.0       0.0  \n",
       "MMP14         0.0    0.0       0.0  \n",
       "DSP           0.0    0.0       0.0  \n",
       "MARCKSL1      0.0    0.0       0.0  \n",
       "SPARC         0.0    0.0       0.0  \n",
       "\n",
       "[5 rows x 6452 columns]"
      ]
     },
     "execution_count": 63,
     "metadata": {},
     "output_type": "execute_result"
    }
   ],
   "source": [
    "gene_corrs_gene_names_df.head()"
   ]
  },
  {
   "cell_type": "code",
   "execution_count": 64,
   "id": "04ec6c52",
   "metadata": {
    "execution": {
     "iopub.execute_input": "2022-06-06T17:01:29.748787Z",
     "iopub.status.busy": "2022-06-06T17:01:29.748554Z",
     "iopub.status.idle": "2022-06-06T17:01:29.917086Z",
     "shell.execute_reply": "2022-06-06T17:01:29.916533Z"
    },
    "papermill": {
     "duration": 0.187937,
     "end_time": "2022-06-06T17:01:29.918734",
     "exception": false,
     "start_time": "2022-06-06T17:01:29.730797",
     "status": "completed"
    },
    "tags": []
   },
   "outputs": [],
   "source": [
    "gene_corrs_gene_names_df.to_pickle(output_file)"
   ]
  },
  {
   "cell_type": "code",
   "execution_count": null,
   "id": "38cf09b7",
   "metadata": {
    "papermill": {
     "duration": 0.017569,
     "end_time": "2022-06-06T17:01:29.954761",
     "exception": false,
     "start_time": "2022-06-06T17:01:29.937192",
     "status": "completed"
    },
    "tags": []
   },
   "outputs": [],
   "source": []
  }
 ],
 "metadata": {
  "jupytext": {
   "cell_metadata_filter": "all,-execution,-papermill,-trusted",
   "formats": "ipynb,py//py:percent"
  },
  "kernelspec": {
   "display_name": "Python 3 (ipykernel)",
   "language": "python",
   "name": "python3"
  },
  "language_info": {
   "codemirror_mode": {
    "name": "ipython",
    "version": 3
   },
   "file_extension": ".py",
   "mimetype": "text/x-python",
   "name": "python",
   "nbconvert_exporter": "python",
   "pygments_lexer": "ipython3",
   "version": "3.8.13"
  },
  "papermill": {
   "default_parameters": {},
   "duration": 20.261362,
   "end_time": "2022-06-06T17:01:30.290431",
   "environment_variables": {},
   "exception": null,
   "input_path": "nbs/15_gsa_gls/15-preprocess_gene_expr_correlations-mean.ipynb",
   "output_path": "nbs/15_gsa_gls/gene_corrs/gtex_v8/mashr/15-preprocess_gene_expr_correlations-mean.ipynb",
   "parameters": {
    "EQTL_MODEL": "MASHR",
    "REFERENCE_PANEL": "GTEX_V8"
   },
   "start_time": "2022-06-06T17:01:10.029069",
   "version": "2.2.2"
  }
 },
 "nbformat": 4,
 "nbformat_minor": 5
}
