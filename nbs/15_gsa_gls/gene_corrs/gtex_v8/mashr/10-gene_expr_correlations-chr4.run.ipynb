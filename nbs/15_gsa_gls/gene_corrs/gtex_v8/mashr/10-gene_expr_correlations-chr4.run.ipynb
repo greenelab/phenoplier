{
 "cells": [
  {
   "cell_type": "markdown",
   "id": "7a6632fb",
   "metadata": {
    "papermill": {
     "duration": 0.006014,
     "end_time": "2022-06-16T00:42:50.407977",
     "exception": false,
     "start_time": "2022-06-16T00:42:50.401963",
     "status": "completed"
    },
    "tags": []
   },
   "source": [
    "# Description"
   ]
  },
  {
   "cell_type": "markdown",
   "id": "7097c346",
   "metadata": {
    "papermill": {
     "duration": 0.005361,
     "end_time": "2022-06-16T00:42:50.418869",
     "exception": false,
     "start_time": "2022-06-16T00:42:50.413508",
     "status": "completed"
    },
    "tags": []
   },
   "source": [
    "(Please, take a look at the README.md file in this directory for instructions on how to run this notebook)\n",
    "\n",
    "This notebook computes predicted expression correlations between all genes in the MultiPLIER models.\n",
    "\n",
    "It also has a parameter set for papermill to run on a single chromosome to run in parallel (see under `Settings` below).\n",
    "\n",
    "This notebook is not directly run. See README.md."
   ]
  },
  {
   "cell_type": "markdown",
   "id": "c61d8427",
   "metadata": {
    "papermill": {
     "duration": 0.005482,
     "end_time": "2022-06-16T00:42:50.429979",
     "exception": false,
     "start_time": "2022-06-16T00:42:50.424497",
     "status": "completed"
    },
    "tags": []
   },
   "source": [
    "# Modules"
   ]
  },
  {
   "cell_type": "code",
   "execution_count": 1,
   "id": "bbc0234f",
   "metadata": {
    "execution": {
     "iopub.execute_input": "2022-06-16T00:42:50.442232Z",
     "iopub.status.busy": "2022-06-16T00:42:50.442020Z",
     "iopub.status.idle": "2022-06-16T00:42:50.458411Z",
     "shell.execute_reply": "2022-06-16T00:42:50.457802Z"
    },
    "papermill": {
     "duration": 0.024647,
     "end_time": "2022-06-16T00:42:50.460247",
     "exception": false,
     "start_time": "2022-06-16T00:42:50.435600",
     "status": "completed"
    },
    "tags": []
   },
   "outputs": [],
   "source": [
    "%load_ext autoreload\n",
    "%autoreload 2"
   ]
  },
  {
   "cell_type": "code",
   "execution_count": 2,
   "id": "1d5f5a59",
   "metadata": {
    "execution": {
     "iopub.execute_input": "2022-06-16T00:42:50.474321Z",
     "iopub.status.busy": "2022-06-16T00:42:50.473807Z",
     "iopub.status.idle": "2022-06-16T00:42:51.491831Z",
     "shell.execute_reply": "2022-06-16T00:42:51.491246Z"
    },
    "papermill": {
     "duration": 1.026823,
     "end_time": "2022-06-16T00:42:51.493396",
     "exception": false,
     "start_time": "2022-06-16T00:42:50.466573",
     "status": "completed"
    },
    "tags": []
   },
   "outputs": [],
   "source": [
    "from random import sample\n",
    "import warnings\n",
    "\n",
    "import numpy as np\n",
    "from scipy.spatial.distance import squareform\n",
    "import pandas as pd\n",
    "from tqdm import tqdm\n",
    "import matplotlib.pyplot as plt\n",
    "import seaborn as sns\n",
    "\n",
    "import conf\n",
    "from entity import Gene"
   ]
  },
  {
   "cell_type": "markdown",
   "id": "1eac24b5",
   "metadata": {
    "papermill": {
     "duration": 0.006378,
     "end_time": "2022-06-16T00:42:51.536393",
     "exception": false,
     "start_time": "2022-06-16T00:42:51.530015",
     "status": "completed"
    },
    "tags": []
   },
   "source": [
    "# Settings"
   ]
  },
  {
   "cell_type": "code",
   "execution_count": 3,
   "id": "ca4560ba",
   "metadata": {
    "execution": {
     "iopub.execute_input": "2022-06-16T00:42:51.550755Z",
     "iopub.status.busy": "2022-06-16T00:42:51.550179Z",
     "iopub.status.idle": "2022-06-16T00:42:51.567470Z",
     "shell.execute_reply": "2022-06-16T00:42:51.566857Z"
    },
    "papermill": {
     "duration": 0.026423,
     "end_time": "2022-06-16T00:42:51.569328",
     "exception": false,
     "start_time": "2022-06-16T00:42:51.542905",
     "status": "completed"
    },
    "tags": [
     "parameters"
    ]
   },
   "outputs": [],
   "source": [
    "# reference panel\n",
    "REFERENCE_PANEL = \"GTEX_V8\"\n",
    "# REFERENCE_PANEL = \"1000G\"\n",
    "\n",
    "# prediction models\n",
    "## mashr\n",
    "EQTL_MODEL = \"MASHR\"\n",
    "EQTL_MODEL_FILES_PREFIX = \"mashr_\"\n",
    "\n",
    "# ## elastic net\n",
    "# EQTL_MODEL = \"ELASTIC_NET\"\n",
    "# EQTL_MODEL_FILES_PREFIX = \"en_\"\n",
    "\n",
    "# make it read the prefix from conf.py\n",
    "EQTL_MODEL_FILES_PREFIX = None\n",
    "\n",
    "# this is the default value used in S-MultiXcan to select the\n",
    "# top principal components of the expression correlation matrix\n",
    "SMULTIXCAN_CONDITION_NUMBER = 30\n",
    "\n",
    "# specifies a single chromosome value\n",
    "# by default, run on all chromosomes\n",
    "chromosome = None"
   ]
  },
  {
   "cell_type": "code",
   "execution_count": 4,
   "id": "f99d787d",
   "metadata": {
    "execution": {
     "iopub.execute_input": "2022-06-16T00:42:51.583355Z",
     "iopub.status.busy": "2022-06-16T00:42:51.583157Z",
     "iopub.status.idle": "2022-06-16T00:42:51.599957Z",
     "shell.execute_reply": "2022-06-16T00:42:51.599341Z"
    },
    "papermill": {
     "duration": 0.025677,
     "end_time": "2022-06-16T00:42:51.601537",
     "exception": false,
     "start_time": "2022-06-16T00:42:51.575860",
     "status": "completed"
    },
    "tags": [
     "injected-parameters"
    ]
   },
   "outputs": [],
   "source": [
    "# Parameters\n",
    "chromosome = 4\n",
    "REFERENCE_PANEL = \"GTEX_V8\"\n",
    "EQTL_MODEL = \"MASHR\"\n"
   ]
  },
  {
   "cell_type": "code",
   "execution_count": 5,
   "id": "a089c9ff",
   "metadata": {
    "execution": {
     "iopub.execute_input": "2022-06-16T00:42:51.616108Z",
     "iopub.status.busy": "2022-06-16T00:42:51.615526Z",
     "iopub.status.idle": "2022-06-16T00:42:51.632398Z",
     "shell.execute_reply": "2022-06-16T00:42:51.631787Z"
    },
    "papermill": {
     "duration": 0.025671,
     "end_time": "2022-06-16T00:42:51.634003",
     "exception": false,
     "start_time": "2022-06-16T00:42:51.608332",
     "status": "completed"
    },
    "tags": []
   },
   "outputs": [],
   "source": [
    "if EQTL_MODEL_FILES_PREFIX is None:\n",
    "    EQTL_MODEL_FILES_PREFIX = conf.PHENOMEXCAN[\"PREDICTION_MODELS\"][\n",
    "        f\"{EQTL_MODEL}_PREFIX\"\n",
    "    ]"
   ]
  },
  {
   "cell_type": "code",
   "execution_count": 6,
   "id": "8fe24bef",
   "metadata": {
    "execution": {
     "iopub.execute_input": "2022-06-16T00:42:51.648161Z",
     "iopub.status.busy": "2022-06-16T00:42:51.647625Z",
     "iopub.status.idle": "2022-06-16T00:42:51.667675Z",
     "shell.execute_reply": "2022-06-16T00:42:51.667011Z"
    },
    "papermill": {
     "duration": 0.028817,
     "end_time": "2022-06-16T00:42:51.669317",
     "exception": false,
     "start_time": "2022-06-16T00:42:51.640500",
     "status": "completed"
    },
    "tags": []
   },
   "outputs": [
    {
     "data": {
      "text/plain": [
       "'Using eQTL model: MASHR / mashr_'"
      ]
     },
     "metadata": {},
     "output_type": "display_data"
    }
   ],
   "source": [
    "display(f\"Using eQTL model: {EQTL_MODEL} / {EQTL_MODEL_FILES_PREFIX}\")"
   ]
  },
  {
   "cell_type": "code",
   "execution_count": 7,
   "id": "0230ebcb-2c32-4b95-9292-d9a52038e70d",
   "metadata": {
    "execution": {
     "iopub.execute_input": "2022-06-16T00:42:51.683570Z",
     "iopub.status.busy": "2022-06-16T00:42:51.682991Z",
     "iopub.status.idle": "2022-06-16T00:42:51.699299Z",
     "shell.execute_reply": "2022-06-16T00:42:51.698690Z"
    },
    "papermill": {
     "duration": 0.025058,
     "end_time": "2022-06-16T00:42:51.700871",
     "exception": false,
     "start_time": "2022-06-16T00:42:51.675813",
     "status": "completed"
    },
    "tags": []
   },
   "outputs": [],
   "source": [
    "REFERENCE_PANEL_DIR = conf.PHENOMEXCAN[\"LD_BLOCKS\"][f\"{REFERENCE_PANEL}_GENOTYPE_DIR\"]"
   ]
  },
  {
   "cell_type": "code",
   "execution_count": 8,
   "id": "98c4a159-601d-4a22-a1ab-35bd451c25f9",
   "metadata": {
    "execution": {
     "iopub.execute_input": "2022-06-16T00:42:51.714882Z",
     "iopub.status.busy": "2022-06-16T00:42:51.714432Z",
     "iopub.status.idle": "2022-06-16T00:42:51.732477Z",
     "shell.execute_reply": "2022-06-16T00:42:51.731820Z"
    },
    "papermill": {
     "duration": 0.026749,
     "end_time": "2022-06-16T00:42:51.734022",
     "exception": false,
     "start_time": "2022-06-16T00:42:51.707273",
     "status": "completed"
    },
    "tags": []
   },
   "outputs": [
    {
     "data": {
      "text/plain": [
       "'Using reference panel folder: /opt/data/data/phenomexcan/ld_blocks/reference_panel_gtex_v8'"
      ]
     },
     "metadata": {},
     "output_type": "display_data"
    }
   ],
   "source": [
    "display(f\"Using reference panel folder: {str(REFERENCE_PANEL_DIR)}\")"
   ]
  },
  {
   "cell_type": "code",
   "execution_count": 9,
   "id": "396392dc-0340-4540-9b02-e182b833f909",
   "metadata": {
    "execution": {
     "iopub.execute_input": "2022-06-16T00:42:51.748367Z",
     "iopub.status.busy": "2022-06-16T00:42:51.747839Z",
     "iopub.status.idle": "2022-06-16T00:42:51.764321Z",
     "shell.execute_reply": "2022-06-16T00:42:51.763669Z"
    },
    "papermill": {
     "duration": 0.025418,
     "end_time": "2022-06-16T00:42:51.766030",
     "exception": false,
     "start_time": "2022-06-16T00:42:51.740612",
     "status": "completed"
    },
    "tags": []
   },
   "outputs": [],
   "source": [
    "OUTPUT_DIR_BASE = (\n",
    "    conf.PHENOMEXCAN[\"LD_BLOCKS\"][f\"GENE_CORRS_DIR\"]\n",
    "    / REFERENCE_PANEL.lower()\n",
    "    / EQTL_MODEL.lower()\n",
    ")\n",
    "OUTPUT_DIR_BASE.mkdir(parents=True, exist_ok=True)"
   ]
  },
  {
   "cell_type": "code",
   "execution_count": 10,
   "id": "8942c2d3-e53c-4d63-a0eb-b6fce0574d36",
   "metadata": {
    "execution": {
     "iopub.execute_input": "2022-06-16T00:42:51.780043Z",
     "iopub.status.busy": "2022-06-16T00:42:51.779854Z",
     "iopub.status.idle": "2022-06-16T00:42:51.797768Z",
     "shell.execute_reply": "2022-06-16T00:42:51.797122Z"
    },
    "papermill": {
     "duration": 0.026559,
     "end_time": "2022-06-16T00:42:51.799269",
     "exception": false,
     "start_time": "2022-06-16T00:42:51.772710",
     "status": "completed"
    },
    "tags": []
   },
   "outputs": [
    {
     "data": {
      "text/plain": [
       "'Using output dir base: /opt/data/data/phenomexcan/ld_blocks/gene_corrs/gtex_v8/mashr'"
      ]
     },
     "metadata": {},
     "output_type": "display_data"
    }
   ],
   "source": [
    "display(f\"Using output dir base: {OUTPUT_DIR_BASE}\")"
   ]
  },
  {
   "cell_type": "code",
   "execution_count": 11,
   "id": "408aa590",
   "metadata": {
    "execution": {
     "iopub.execute_input": "2022-06-16T00:42:51.813964Z",
     "iopub.status.busy": "2022-06-16T00:42:51.813414Z",
     "iopub.status.idle": "2022-06-16T00:42:51.829624Z",
     "shell.execute_reply": "2022-06-16T00:42:51.829073Z"
    },
    "papermill": {
     "duration": 0.025389,
     "end_time": "2022-06-16T00:42:51.831403",
     "exception": false,
     "start_time": "2022-06-16T00:42:51.806014",
     "status": "completed"
    },
    "tags": []
   },
   "outputs": [],
   "source": [
    "assert (\n",
    "    chromosome is not None\n",
    "), \"You have to select one chromosome (format: number between 1 and 22)\""
   ]
  },
  {
   "cell_type": "code",
   "execution_count": 12,
   "id": "c1c7dd06-80ff-453c-bcb7-0899edce75da",
   "metadata": {
    "execution": {
     "iopub.execute_input": "2022-06-16T00:42:51.845990Z",
     "iopub.status.busy": "2022-06-16T00:42:51.845435Z",
     "iopub.status.idle": "2022-06-16T00:42:51.861343Z",
     "shell.execute_reply": "2022-06-16T00:42:51.860764Z"
    },
    "papermill": {
     "duration": 0.024735,
     "end_time": "2022-06-16T00:42:51.862874",
     "exception": false,
     "start_time": "2022-06-16T00:42:51.838139",
     "status": "completed"
    },
    "tags": []
   },
   "outputs": [],
   "source": [
    "chromosome = str(chromosome)"
   ]
  },
  {
   "cell_type": "code",
   "execution_count": 13,
   "id": "bc17b84c-9c26-47a5-a3ab-7046e72f3ef4",
   "metadata": {
    "execution": {
     "iopub.execute_input": "2022-06-16T00:42:51.877247Z",
     "iopub.status.busy": "2022-06-16T00:42:51.876959Z",
     "iopub.status.idle": "2022-06-16T00:42:51.893863Z",
     "shell.execute_reply": "2022-06-16T00:42:51.893332Z"
    },
    "papermill": {
     "duration": 0.025674,
     "end_time": "2022-06-16T00:42:51.895348",
     "exception": false,
     "start_time": "2022-06-16T00:42:51.869674",
     "status": "completed"
    },
    "tags": []
   },
   "outputs": [
    {
     "data": {
      "text/plain": [
       "'Working on chromosome 4'"
      ]
     },
     "metadata": {},
     "output_type": "display_data"
    }
   ],
   "source": [
    "display(f\"Working on chromosome {chromosome}\")"
   ]
  },
  {
   "cell_type": "markdown",
   "id": "d2ba085e",
   "metadata": {
    "papermill": {
     "duration": 0.006689,
     "end_time": "2022-06-16T00:42:51.909012",
     "exception": false,
     "start_time": "2022-06-16T00:42:51.902323",
     "status": "completed"
    },
    "tags": []
   },
   "source": [
    "# Load data"
   ]
  },
  {
   "cell_type": "markdown",
   "id": "abcc4b3d",
   "metadata": {
    "papermill": {
     "duration": 0.006432,
     "end_time": "2022-06-16T00:42:51.922221",
     "exception": false,
     "start_time": "2022-06-16T00:42:51.915789",
     "status": "completed"
    },
    "tags": []
   },
   "source": [
    "## MultiPLIER Z"
   ]
  },
  {
   "cell_type": "code",
   "execution_count": 14,
   "id": "c48ef527",
   "metadata": {
    "execution": {
     "iopub.execute_input": "2022-06-16T00:42:51.936658Z",
     "iopub.status.busy": "2022-06-16T00:42:51.936156Z",
     "iopub.status.idle": "2022-06-16T00:42:51.981400Z",
     "shell.execute_reply": "2022-06-16T00:42:51.980789Z"
    },
    "papermill": {
     "duration": 0.054143,
     "end_time": "2022-06-16T00:42:51.982989",
     "exception": false,
     "start_time": "2022-06-16T00:42:51.928846",
     "status": "completed"
    },
    "tags": []
   },
   "outputs": [],
   "source": [
    "multiplier_z_genes = pd.read_pickle(\n",
    "    conf.MULTIPLIER[\"MODEL_Z_MATRIX_FILE\"]\n",
    ").index.tolist()"
   ]
  },
  {
   "cell_type": "code",
   "execution_count": 15,
   "id": "0a4ecbd9",
   "metadata": {
    "execution": {
     "iopub.execute_input": "2022-06-16T00:42:51.998605Z",
     "iopub.status.busy": "2022-06-16T00:42:51.998026Z",
     "iopub.status.idle": "2022-06-16T00:42:52.016664Z",
     "shell.execute_reply": "2022-06-16T00:42:52.016027Z"
    },
    "papermill": {
     "duration": 0.028028,
     "end_time": "2022-06-16T00:42:52.018262",
     "exception": false,
     "start_time": "2022-06-16T00:42:51.990234",
     "status": "completed"
    },
    "tags": []
   },
   "outputs": [
    {
     "data": {
      "text/plain": [
       "6750"
      ]
     },
     "execution_count": 15,
     "metadata": {},
     "output_type": "execute_result"
    }
   ],
   "source": [
    "len(multiplier_z_genes)"
   ]
  },
  {
   "cell_type": "code",
   "execution_count": 16,
   "id": "115e8864",
   "metadata": {
    "execution": {
     "iopub.execute_input": "2022-06-16T00:42:52.033786Z",
     "iopub.status.busy": "2022-06-16T00:42:52.033239Z",
     "iopub.status.idle": "2022-06-16T00:42:52.051948Z",
     "shell.execute_reply": "2022-06-16T00:42:52.051275Z"
    },
    "papermill": {
     "duration": 0.028105,
     "end_time": "2022-06-16T00:42:52.053561",
     "exception": false,
     "start_time": "2022-06-16T00:42:52.025456",
     "status": "completed"
    },
    "tags": []
   },
   "outputs": [
    {
     "data": {
      "text/plain": [
       "['GAS6',\n",
       " 'MMP14',\n",
       " 'DSP',\n",
       " 'MARCKSL1',\n",
       " 'SPARC',\n",
       " 'CTSD',\n",
       " 'EPAS1',\n",
       " 'PALLD',\n",
       " 'PHC2',\n",
       " 'LGALS3BP']"
      ]
     },
     "execution_count": 16,
     "metadata": {},
     "output_type": "execute_result"
    }
   ],
   "source": [
    "multiplier_z_genes[:10]"
   ]
  },
  {
   "cell_type": "markdown",
   "id": "7dcb8db7",
   "metadata": {
    "papermill": {
     "duration": 0.006883,
     "end_time": "2022-06-16T00:42:52.067546",
     "exception": false,
     "start_time": "2022-06-16T00:42:52.060663",
     "status": "completed"
    },
    "tags": []
   },
   "source": [
    "## Get gene objects"
   ]
  },
  {
   "cell_type": "code",
   "execution_count": 17,
   "id": "bb932812",
   "metadata": {
    "execution": {
     "iopub.execute_input": "2022-06-16T00:42:52.082673Z",
     "iopub.status.busy": "2022-06-16T00:42:52.082173Z",
     "iopub.status.idle": "2022-06-16T00:42:52.106289Z",
     "shell.execute_reply": "2022-06-16T00:42:52.105631Z"
    },
    "papermill": {
     "duration": 0.033515,
     "end_time": "2022-06-16T00:42:52.108114",
     "exception": false,
     "start_time": "2022-06-16T00:42:52.074599",
     "status": "completed"
    },
    "tags": []
   },
   "outputs": [],
   "source": [
    "multiplier_gene_obj = {\n",
    "    gene_name: Gene(name=gene_name)\n",
    "    for gene_name in multiplier_z_genes\n",
    "    if gene_name in Gene.GENE_NAME_TO_ID_MAP\n",
    "}"
   ]
  },
  {
   "cell_type": "code",
   "execution_count": 18,
   "id": "39533214",
   "metadata": {
    "execution": {
     "iopub.execute_input": "2022-06-16T00:42:52.123548Z",
     "iopub.status.busy": "2022-06-16T00:42:52.123356Z",
     "iopub.status.idle": "2022-06-16T00:42:52.141744Z",
     "shell.execute_reply": "2022-06-16T00:42:52.141139Z"
    },
    "papermill": {
     "duration": 0.027773,
     "end_time": "2022-06-16T00:42:52.143310",
     "exception": false,
     "start_time": "2022-06-16T00:42:52.115537",
     "status": "completed"
    },
    "tags": []
   },
   "outputs": [
    {
     "data": {
      "text/plain": [
       "6454"
      ]
     },
     "execution_count": 18,
     "metadata": {},
     "output_type": "execute_result"
    }
   ],
   "source": [
    "len(multiplier_gene_obj)"
   ]
  },
  {
   "cell_type": "code",
   "execution_count": 19,
   "id": "9a5d0b84",
   "metadata": {
    "execution": {
     "iopub.execute_input": "2022-06-16T00:42:52.159041Z",
     "iopub.status.busy": "2022-06-16T00:42:52.158504Z",
     "iopub.status.idle": "2022-06-16T00:42:52.176378Z",
     "shell.execute_reply": "2022-06-16T00:42:52.175820Z"
    },
    "papermill": {
     "duration": 0.027369,
     "end_time": "2022-06-16T00:42:52.177941",
     "exception": false,
     "start_time": "2022-06-16T00:42:52.150572",
     "status": "completed"
    },
    "tags": []
   },
   "outputs": [
    {
     "data": {
      "text/plain": [
       "'ENSG00000183087'"
      ]
     },
     "execution_count": 19,
     "metadata": {},
     "output_type": "execute_result"
    }
   ],
   "source": [
    "multiplier_gene_obj[\"GAS6\"].ensembl_id"
   ]
  },
  {
   "cell_type": "code",
   "execution_count": 20,
   "id": "e3ffabc7",
   "metadata": {
    "execution": {
     "iopub.execute_input": "2022-06-16T00:42:52.193932Z",
     "iopub.status.busy": "2022-06-16T00:42:52.193361Z",
     "iopub.status.idle": "2022-06-16T00:42:54.338389Z",
     "shell.execute_reply": "2022-06-16T00:42:54.337787Z"
    },
    "papermill": {
     "duration": 2.154462,
     "end_time": "2022-06-16T00:42:54.339816",
     "exception": false,
     "start_time": "2022-06-16T00:42:52.185354",
     "status": "completed"
    },
    "tags": []
   },
   "outputs": [],
   "source": [
    "_gene_obj = list(multiplier_gene_obj.values())\n",
    "\n",
    "genes_info = pd.DataFrame(\n",
    "    {\n",
    "        \"name\": [g.name for g in _gene_obj],\n",
    "        \"id\": [g.ensembl_id for g in _gene_obj],\n",
    "        \"chr\": [g.chromosome for g in _gene_obj],\n",
    "        \"band\": [g.band for g in _gene_obj],\n",
    "        \"start_position\": [g.get_attribute(\"start_position\") for g in _gene_obj],\n",
    "    }\n",
    ")"
   ]
  },
  {
   "cell_type": "code",
   "execution_count": 21,
   "id": "e23519b8",
   "metadata": {
    "execution": {
     "iopub.execute_input": "2022-06-16T00:42:54.360221Z",
     "iopub.status.busy": "2022-06-16T00:42:54.360039Z",
     "iopub.status.idle": "2022-06-16T00:42:54.377871Z",
     "shell.execute_reply": "2022-06-16T00:42:54.377211Z"
    },
    "papermill": {
     "duration": 0.032073,
     "end_time": "2022-06-16T00:42:54.379508",
     "exception": false,
     "start_time": "2022-06-16T00:42:54.347435",
     "status": "completed"
    },
    "tags": []
   },
   "outputs": [
    {
     "data": {
      "text/plain": [
       "(6454, 5)"
      ]
     },
     "execution_count": 21,
     "metadata": {},
     "output_type": "execute_result"
    }
   ],
   "source": [
    "genes_info.shape"
   ]
  },
  {
   "cell_type": "code",
   "execution_count": 22,
   "id": "0d71881c",
   "metadata": {
    "execution": {
     "iopub.execute_input": "2022-06-16T00:42:54.395014Z",
     "iopub.status.busy": "2022-06-16T00:42:54.394829Z",
     "iopub.status.idle": "2022-06-16T00:42:54.419001Z",
     "shell.execute_reply": "2022-06-16T00:42:54.418308Z"
    },
    "papermill": {
     "duration": 0.033634,
     "end_time": "2022-06-16T00:42:54.420591",
     "exception": false,
     "start_time": "2022-06-16T00:42:54.386957",
     "status": "completed"
    },
    "tags": []
   },
   "outputs": [
    {
     "data": {
      "text/html": [
       "<div>\n",
       "<style scoped>\n",
       "    .dataframe tbody tr th:only-of-type {\n",
       "        vertical-align: middle;\n",
       "    }\n",
       "\n",
       "    .dataframe tbody tr th {\n",
       "        vertical-align: top;\n",
       "    }\n",
       "\n",
       "    .dataframe thead th {\n",
       "        text-align: right;\n",
       "    }\n",
       "</style>\n",
       "<table border=\"1\" class=\"dataframe\">\n",
       "  <thead>\n",
       "    <tr style=\"text-align: right;\">\n",
       "      <th></th>\n",
       "      <th>name</th>\n",
       "      <th>id</th>\n",
       "      <th>chr</th>\n",
       "      <th>band</th>\n",
       "      <th>start_position</th>\n",
       "    </tr>\n",
       "  </thead>\n",
       "  <tbody>\n",
       "    <tr>\n",
       "      <th>0</th>\n",
       "      <td>GAS6</td>\n",
       "      <td>ENSG00000183087</td>\n",
       "      <td>13</td>\n",
       "      <td>13q34</td>\n",
       "      <td>113820549.0</td>\n",
       "    </tr>\n",
       "    <tr>\n",
       "      <th>1</th>\n",
       "      <td>MMP14</td>\n",
       "      <td>ENSG00000157227</td>\n",
       "      <td>14</td>\n",
       "      <td>14q11.2</td>\n",
       "      <td>22836560.0</td>\n",
       "    </tr>\n",
       "    <tr>\n",
       "      <th>2</th>\n",
       "      <td>DSP</td>\n",
       "      <td>ENSG00000096696</td>\n",
       "      <td>6</td>\n",
       "      <td>6p24.3</td>\n",
       "      <td>7541617.0</td>\n",
       "    </tr>\n",
       "    <tr>\n",
       "      <th>3</th>\n",
       "      <td>MARCKSL1</td>\n",
       "      <td>ENSG00000175130</td>\n",
       "      <td>1</td>\n",
       "      <td>1p35.1</td>\n",
       "      <td>32333839.0</td>\n",
       "    </tr>\n",
       "    <tr>\n",
       "      <th>4</th>\n",
       "      <td>SPARC</td>\n",
       "      <td>ENSG00000113140</td>\n",
       "      <td>5</td>\n",
       "      <td>5q33.1</td>\n",
       "      <td>151661096.0</td>\n",
       "    </tr>\n",
       "  </tbody>\n",
       "</table>\n",
       "</div>"
      ],
      "text/plain": [
       "       name               id chr     band  start_position\n",
       "0      GAS6  ENSG00000183087  13    13q34     113820549.0\n",
       "1     MMP14  ENSG00000157227  14  14q11.2      22836560.0\n",
       "2       DSP  ENSG00000096696   6   6p24.3       7541617.0\n",
       "3  MARCKSL1  ENSG00000175130   1   1p35.1      32333839.0\n",
       "4     SPARC  ENSG00000113140   5   5q33.1     151661096.0"
      ]
     },
     "execution_count": 22,
     "metadata": {},
     "output_type": "execute_result"
    }
   ],
   "source": [
    "genes_info.head()"
   ]
  },
  {
   "cell_type": "markdown",
   "id": "8c9dbb4a",
   "metadata": {
    "papermill": {
     "duration": 0.007458,
     "end_time": "2022-06-16T00:42:54.435732",
     "exception": false,
     "start_time": "2022-06-16T00:42:54.428274",
     "status": "completed"
    },
    "tags": []
   },
   "source": [
    "## Get tissues names"
   ]
  },
  {
   "cell_type": "code",
   "execution_count": 23,
   "id": "2bc52419",
   "metadata": {
    "execution": {
     "iopub.execute_input": "2022-06-16T00:42:54.451843Z",
     "iopub.status.busy": "2022-06-16T00:42:54.451270Z",
     "iopub.status.idle": "2022-06-16T00:42:54.467389Z",
     "shell.execute_reply": "2022-06-16T00:42:54.466788Z"
    },
    "papermill": {
     "duration": 0.025744,
     "end_time": "2022-06-16T00:42:54.468894",
     "exception": false,
     "start_time": "2022-06-16T00:42:54.443150",
     "status": "completed"
    },
    "tags": []
   },
   "outputs": [],
   "source": [
    "tissues = conf.PHENOMEXCAN[\"PREDICTION_MODELS\"][f\"{EQTL_MODEL}_TISSUES\"].split(\" \")"
   ]
  },
  {
   "cell_type": "code",
   "execution_count": 24,
   "id": "64b293a1",
   "metadata": {
    "execution": {
     "iopub.execute_input": "2022-06-16T00:42:54.485125Z",
     "iopub.status.busy": "2022-06-16T00:42:54.484600Z",
     "iopub.status.idle": "2022-06-16T00:42:54.502604Z",
     "shell.execute_reply": "2022-06-16T00:42:54.502001Z"
    },
    "papermill": {
     "duration": 0.02763,
     "end_time": "2022-06-16T00:42:54.504098",
     "exception": false,
     "start_time": "2022-06-16T00:42:54.476468",
     "status": "completed"
    },
    "tags": []
   },
   "outputs": [
    {
     "data": {
      "text/plain": [
       "['Skin_Not_Sun_Exposed_Suprapubic',\n",
       " 'Cells_EBV-transformed_lymphocytes',\n",
       " 'Brain_Frontal_Cortex_BA9',\n",
       " 'Kidney_Cortex',\n",
       " 'Brain_Substantia_nigra']"
      ]
     },
     "execution_count": 24,
     "metadata": {},
     "output_type": "execute_result"
    }
   ],
   "source": [
    "tissues[:5]"
   ]
  },
  {
   "cell_type": "code",
   "execution_count": 25,
   "id": "48a7202a",
   "metadata": {
    "execution": {
     "iopub.execute_input": "2022-06-16T00:42:54.530497Z",
     "iopub.status.busy": "2022-06-16T00:42:54.530206Z",
     "iopub.status.idle": "2022-06-16T00:42:54.546063Z",
     "shell.execute_reply": "2022-06-16T00:42:54.545432Z"
    },
    "papermill": {
     "duration": 0.025965,
     "end_time": "2022-06-16T00:42:54.547626",
     "exception": false,
     "start_time": "2022-06-16T00:42:54.521661",
     "status": "completed"
    },
    "tags": []
   },
   "outputs": [],
   "source": [
    "assert len(tissues) == 49"
   ]
  },
  {
   "cell_type": "markdown",
   "id": "c8d1038f",
   "metadata": {
    "papermill": {
     "duration": 0.007379,
     "end_time": "2022-06-16T00:42:54.562841",
     "exception": false,
     "start_time": "2022-06-16T00:42:54.555462",
     "status": "completed"
    },
    "tags": []
   },
   "source": [
    "# Test"
   ]
  },
  {
   "cell_type": "code",
   "execution_count": 26,
   "id": "64993abf",
   "metadata": {
    "execution": {
     "iopub.execute_input": "2022-06-16T00:42:54.579468Z",
     "iopub.status.busy": "2022-06-16T00:42:54.578872Z",
     "iopub.status.idle": "2022-06-16T00:42:54.604774Z",
     "shell.execute_reply": "2022-06-16T00:42:54.604181Z"
    },
    "papermill": {
     "duration": 0.035748,
     "end_time": "2022-06-16T00:42:54.606332",
     "exception": false,
     "start_time": "2022-06-16T00:42:54.570584",
     "status": "completed"
    },
    "tags": []
   },
   "outputs": [
    {
     "data": {
      "text/html": [
       "<div>\n",
       "<style scoped>\n",
       "    .dataframe tbody tr th:only-of-type {\n",
       "        vertical-align: middle;\n",
       "    }\n",
       "\n",
       "    .dataframe tbody tr th {\n",
       "        vertical-align: top;\n",
       "    }\n",
       "\n",
       "    .dataframe thead th {\n",
       "        text-align: right;\n",
       "    }\n",
       "</style>\n",
       "<table border=\"1\" class=\"dataframe\">\n",
       "  <thead>\n",
       "    <tr style=\"text-align: right;\">\n",
       "      <th></th>\n",
       "      <th>name</th>\n",
       "      <th>id</th>\n",
       "      <th>chr</th>\n",
       "      <th>band</th>\n",
       "      <th>start_position</th>\n",
       "    </tr>\n",
       "  </thead>\n",
       "  <tbody>\n",
       "    <tr>\n",
       "      <th>7</th>\n",
       "      <td>PALLD</td>\n",
       "      <td>ENSG00000129116</td>\n",
       "      <td>4</td>\n",
       "      <td>4q32.3</td>\n",
       "      <td>168497052.0</td>\n",
       "    </tr>\n",
       "    <tr>\n",
       "      <th>29</th>\n",
       "      <td>GRSF1</td>\n",
       "      <td>ENSG00000132463</td>\n",
       "      <td>4</td>\n",
       "      <td>4q13.3</td>\n",
       "      <td>70815783.0</td>\n",
       "    </tr>\n",
       "    <tr>\n",
       "      <th>78</th>\n",
       "      <td>WFS1</td>\n",
       "      <td>ENSG00000109501</td>\n",
       "      <td>4</td>\n",
       "      <td>4p16.1</td>\n",
       "      <td>6269849.0</td>\n",
       "    </tr>\n",
       "    <tr>\n",
       "      <th>129</th>\n",
       "      <td>HPGD</td>\n",
       "      <td>ENSG00000164120</td>\n",
       "      <td>4</td>\n",
       "      <td>4q34.1</td>\n",
       "      <td>174490175.0</td>\n",
       "    </tr>\n",
       "    <tr>\n",
       "      <th>153</th>\n",
       "      <td>ELOVL6</td>\n",
       "      <td>ENSG00000170522</td>\n",
       "      <td>4</td>\n",
       "      <td>4q25</td>\n",
       "      <td>110045846.0</td>\n",
       "    </tr>\n",
       "    <tr>\n",
       "      <th>...</th>\n",
       "      <td>...</td>\n",
       "      <td>...</td>\n",
       "      <td>...</td>\n",
       "      <td>...</td>\n",
       "      <td>...</td>\n",
       "    </tr>\n",
       "    <tr>\n",
       "      <th>6297</th>\n",
       "      <td>MYL5</td>\n",
       "      <td>ENSG00000215375</td>\n",
       "      <td>4</td>\n",
       "      <td>4p16.3</td>\n",
       "      <td>673580.0</td>\n",
       "    </tr>\n",
       "    <tr>\n",
       "      <th>6310</th>\n",
       "      <td>ETFDH</td>\n",
       "      <td>ENSG00000171503</td>\n",
       "      <td>4</td>\n",
       "      <td>4q32.1</td>\n",
       "      <td>158672125.0</td>\n",
       "    </tr>\n",
       "    <tr>\n",
       "      <th>6323</th>\n",
       "      <td>FAM13A</td>\n",
       "      <td>ENSG00000138640</td>\n",
       "      <td>4</td>\n",
       "      <td>4q22.1</td>\n",
       "      <td>88725955.0</td>\n",
       "    </tr>\n",
       "    <tr>\n",
       "      <th>6431</th>\n",
       "      <td>RGS12</td>\n",
       "      <td>ENSG00000159788</td>\n",
       "      <td>4</td>\n",
       "      <td>4p16.3</td>\n",
       "      <td>3293028.0</td>\n",
       "    </tr>\n",
       "    <tr>\n",
       "      <th>6437</th>\n",
       "      <td>ELF2</td>\n",
       "      <td>ENSG00000109381</td>\n",
       "      <td>4</td>\n",
       "      <td>4q31.1</td>\n",
       "      <td>139028112.0</td>\n",
       "    </tr>\n",
       "  </tbody>\n",
       "</table>\n",
       "<p>244 rows × 5 columns</p>\n",
       "</div>"
      ],
      "text/plain": [
       "        name               id chr    band  start_position\n",
       "7      PALLD  ENSG00000129116   4  4q32.3     168497052.0\n",
       "29     GRSF1  ENSG00000132463   4  4q13.3      70815783.0\n",
       "78      WFS1  ENSG00000109501   4  4p16.1       6269849.0\n",
       "129     HPGD  ENSG00000164120   4  4q34.1     174490175.0\n",
       "153   ELOVL6  ENSG00000170522   4    4q25     110045846.0\n",
       "...      ...              ...  ..     ...             ...\n",
       "6297    MYL5  ENSG00000215375   4  4p16.3        673580.0\n",
       "6310   ETFDH  ENSG00000171503   4  4q32.1     158672125.0\n",
       "6323  FAM13A  ENSG00000138640   4  4q22.1      88725955.0\n",
       "6431   RGS12  ENSG00000159788   4  4p16.3       3293028.0\n",
       "6437    ELF2  ENSG00000109381   4  4q31.1     139028112.0\n",
       "\n",
       "[244 rows x 5 columns]"
      ]
     },
     "metadata": {},
     "output_type": "display_data"
    }
   ],
   "source": [
    "chromosome_genes_info = genes_info[genes_info[\"chr\"] == chromosome]\n",
    "display(chromosome_genes_info)"
   ]
  },
  {
   "cell_type": "code",
   "execution_count": 27,
   "id": "d2e42726-7de6-46eb-acfc-6323eaa8fae6",
   "metadata": {
    "execution": {
     "iopub.execute_input": "2022-06-16T00:42:54.624035Z",
     "iopub.status.busy": "2022-06-16T00:42:54.623530Z",
     "iopub.status.idle": "2022-06-16T00:42:54.641101Z",
     "shell.execute_reply": "2022-06-16T00:42:54.640492Z"
    },
    "papermill": {
     "duration": 0.027836,
     "end_time": "2022-06-16T00:42:54.642620",
     "exception": false,
     "start_time": "2022-06-16T00:42:54.614784",
     "status": "completed"
    },
    "tags": []
   },
   "outputs": [
    {
     "data": {
      "text/plain": [
       "5"
      ]
     },
     "metadata": {},
     "output_type": "display_data"
    }
   ],
   "source": [
    "_gene_list_ids = sample(chromosome_genes_info[\"id\"].tolist(), 5)\n",
    "selected_chromosome_genes_obj = [Gene(ensembl_id=g_id) for g_id in _gene_list_ids]\n",
    "display(len(selected_chromosome_genes_obj))"
   ]
  },
  {
   "cell_type": "code",
   "execution_count": 28,
   "id": "1b355359",
   "metadata": {
    "execution": {
     "iopub.execute_input": "2022-06-16T00:42:54.660228Z",
     "iopub.status.busy": "2022-06-16T00:42:54.659707Z",
     "iopub.status.idle": "2022-06-16T00:42:54.825476Z",
     "shell.execute_reply": "2022-06-16T00:42:54.824738Z"
    },
    "papermill": {
     "duration": 0.175903,
     "end_time": "2022-06-16T00:42:54.826874",
     "exception": false,
     "start_time": "2022-06-16T00:42:54.650971",
     "status": "completed"
    },
    "tags": []
   },
   "outputs": [
    {
     "name": "stdout",
     "output_type": "stream",
     "text": [
      "RGS12 / WDFY3: 0.0\n",
      "RGS12 / FBXW7: 0.0\n",
      "RGS12 / ANAPC4: 0.0\n",
      "RGS12 / SLC39A8: 0.0\n",
      "WDFY3 / FBXW7: 0.0\n",
      "WDFY3 / ANAPC4: 0.0\n",
      "WDFY3 / SLC39A8: 0.0\n",
      "FBXW7 / ANAPC4: 0.0\n",
      "FBXW7 / SLC39A8: 0.0\n",
      "ANAPC4 / SLC39A8: 0.0\n"
     ]
    }
   ],
   "source": [
    "for gene_idx1 in range(0, len(selected_chromosome_genes_obj) - 1):\n",
    "    gene_obj1 = selected_chromosome_genes_obj[gene_idx1]\n",
    "\n",
    "    for gene_idx2 in range(gene_idx1 + 1, len(selected_chromosome_genes_obj)):\n",
    "        gene_obj2 = selected_chromosome_genes_obj[gene_idx2]\n",
    "\n",
    "        c = gene_obj1.get_ssm_correlation(\n",
    "            gene_obj2,\n",
    "        )\n",
    "\n",
    "        print(f\"{gene_obj1.name} / {gene_obj2.name}: {c}\")"
   ]
  },
  {
   "cell_type": "markdown",
   "id": "d3843e06",
   "metadata": {
    "papermill": {
     "duration": 0.007547,
     "end_time": "2022-06-16T00:42:54.842083",
     "exception": false,
     "start_time": "2022-06-16T00:42:54.834536",
     "status": "completed"
    },
    "tags": []
   },
   "source": [
    "# Compute correlation per chromosome"
   ]
  },
  {
   "cell_type": "code",
   "execution_count": 29,
   "id": "aa674fe4-6794-4eed-98fa-32b39d1d4ace",
   "metadata": {
    "execution": {
     "iopub.execute_input": "2022-06-16T00:42:54.858765Z",
     "iopub.status.busy": "2022-06-16T00:42:54.858195Z",
     "iopub.status.idle": "2022-06-16T00:42:54.874429Z",
     "shell.execute_reply": "2022-06-16T00:42:54.873791Z"
    },
    "papermill": {
     "duration": 0.026065,
     "end_time": "2022-06-16T00:42:54.875878",
     "exception": false,
     "start_time": "2022-06-16T00:42:54.849813",
     "status": "completed"
    },
    "tags": []
   },
   "outputs": [],
   "source": [
    "warnings.filterwarnings(\"error\")"
   ]
  },
  {
   "cell_type": "code",
   "execution_count": 30,
   "id": "cdbb90a1",
   "metadata": {
    "execution": {
     "iopub.execute_input": "2022-06-16T00:42:54.893284Z",
     "iopub.status.busy": "2022-06-16T00:42:54.892770Z",
     "iopub.status.idle": "2022-06-16T02:13:47.140740Z",
     "shell.execute_reply": "2022-06-16T02:13:47.140251Z"
    },
    "papermill": {
     "duration": 5452.258292,
     "end_time": "2022-06-16T02:13:47.142299",
     "exception": false,
     "start_time": "2022-06-16T00:42:54.884007",
     "status": "completed"
    },
    "tags": []
   },
   "outputs": [
    {
     "name": "stdout",
     "output_type": "stream",
     "text": [
      "Number of genes in chromosome: 244\n",
      "Chromosome 4\n",
      "Number of gene combinations: 29646\n"
     ]
    },
    {
     "name": "stderr",
     "output_type": "stream",
     "text": [
      "ENSG00000164344 / ENSG00000109536: 100%|████████████████████| 29646/29646 [1:30:52<00:00,  5.44it/s]"
     ]
    },
    {
     "name": "stdout",
     "output_type": "stream",
     "text": [
      "Min/max values: -0.9006888191307485 / 0.8965740831183238\n"
     ]
    },
    {
     "name": "stderr",
     "output_type": "stream",
     "text": [
      "\n"
     ]
    },
    {
     "data": {
      "text/plain": [
       "PosixPath('/opt/data/data/phenomexcan/ld_blocks/gene_corrs/gtex_v8/mashr/by_chr/gene_corrs-chr4.pkl')"
      ]
     },
     "metadata": {},
     "output_type": "display_data"
    }
   ],
   "source": [
    "# standard checks\n",
    "all_chrs = genes_info[\"chr\"].dropna().unique()\n",
    "assert all_chrs.shape[0] == 22\n",
    "\n",
    "# select chromosome given by the user\n",
    "assert chromosome in all_chrs\n",
    "\n",
    "# run only on the chromosome specified\n",
    "all_chrs = [chromosome]\n",
    "genes_chr = genes_info[genes_info[\"chr\"] == chromosome]\n",
    "print(f\"Number of genes in chromosome: {genes_chr.shape[0]}\", flush=True)\n",
    "\n",
    "# For testing purposes\n",
    "# genes_chr = genes_chr.sample(n=20)\n",
    "\n",
    "# sort genes by starting position to make visualizations better later\n",
    "genes_chr = genes_chr.sort_values(\"start_position\")\n",
    "\n",
    "\n",
    "for chr_num in all_chrs:\n",
    "    print(f\"Chromosome {chr_num}\", flush=True)\n",
    "\n",
    "    # check if results exist\n",
    "    output_dir = OUTPUT_DIR_BASE / \"by_chr\"\n",
    "    output_file = output_dir / f\"gene_corrs-chr{chr_num}.pkl\"\n",
    "\n",
    "    if output_file.exists():\n",
    "        _tmp_data = pd.read_pickle(output_file)\n",
    "\n",
    "        if _tmp_data.shape[0] > 0:\n",
    "            print(\"Already run, stopping.\")\n",
    "            continue\n",
    "\n",
    "    gene_chr_objs = [Gene(ensembl_id=gene_id) for gene_id in genes_chr[\"id\"]]\n",
    "    gene_chr_ids = [g.ensembl_id for g in gene_chr_objs]\n",
    "\n",
    "    n = len(gene_chr_objs)\n",
    "    n_comb = int(n * (n - 1) / 2.0)\n",
    "    print(f\"Number of gene combinations: {n_comb}\", flush=True)\n",
    "\n",
    "    gene_corrs = []\n",
    "\n",
    "    pbar = tqdm(ncols=100, total=n_comb)\n",
    "    i = 0\n",
    "    for gene_idx1 in range(0, len(gene_chr_objs) - 1):\n",
    "        gene_obj1 = gene_chr_objs[gene_idx1]\n",
    "\n",
    "        for gene_idx2 in range(gene_idx1 + 1, len(gene_chr_objs)):\n",
    "            gene_obj2 = gene_chr_objs[gene_idx2]\n",
    "\n",
    "            pbar.set_description(f\"{gene_obj1.ensembl_id} / {gene_obj2.ensembl_id}\")\n",
    "\n",
    "            try:\n",
    "                # FIXME: compute the correlation of the sum of squares of the model using all\n",
    "                # the available tissues; this could be problematic because for some results\n",
    "                # (computed on a specific phenotype/GWAS) we might not have all the tissues\n",
    "                # available, which can certainly bias the correlation estimation.\n",
    "                # Since this depends on the GWAS on a specific phenotype, we should ideally have\n",
    "                # one correlation matrix per GWAS. I should look at how we can improve this.\n",
    "                gene_corrs.append(\n",
    "                    gene_obj1.get_ssm_correlation(\n",
    "                        other_gene=gene_obj2,\n",
    "                        condition_number=SMULTIXCAN_CONDITION_NUMBER,\n",
    "                        reference_panel=REFERENCE_PANEL,\n",
    "                        model_type=EQTL_MODEL,\n",
    "                    )\n",
    "                )\n",
    "            except Warning:\n",
    "                print(\n",
    "                    f\"RuntimeWarning for genes {gene_obj1.ensembl_id} and {gene_obj2.ensembl_id}\",\n",
    "                    flush=True,\n",
    "                )\n",
    "                import traceback\n",
    "\n",
    "                print(traceback.format_exc(), flush=True)\n",
    "            except Exception as e:\n",
    "                print(\n",
    "                    f\"Exception for genes {gene_obj1.ensembl_id} and {gene_obj2.ensembl_id}\",\n",
    "                    flush=True,\n",
    "                )\n",
    "                import traceback\n",
    "\n",
    "                print(traceback.format_exc(), flush=True)\n",
    "                gene_corrs.append(np.nan)\n",
    "\n",
    "            pbar.update(1)\n",
    "\n",
    "    pbar.close()\n",
    "\n",
    "    # testing\n",
    "    gene_corrs_flat = pd.Series(gene_corrs)\n",
    "    print(f\"Min/max values: {gene_corrs_flat.min()} / {gene_corrs_flat.max()}\")\n",
    "    assert gene_corrs_flat.min() >= -1.001\n",
    "    assert gene_corrs_flat.max() <= 1.001\n",
    "\n",
    "    # save\n",
    "    # FIXME: consider saving only the condenced matrix here. See here for\n",
    "    # more details: https://github.com/greenelab/phenoplier/pull/38#discussion_r634600813\n",
    "    gene_corrs_data = squareform(np.array(gene_corrs, dtype=np.float64))\n",
    "    np.fill_diagonal(gene_corrs_data, 1.0)\n",
    "\n",
    "    gene_corrs_df = pd.DataFrame(\n",
    "        data=gene_corrs_data,\n",
    "        index=gene_chr_ids,\n",
    "        columns=gene_chr_ids,\n",
    "    )\n",
    "\n",
    "    output_dir.mkdir(exist_ok=True, parents=True)\n",
    "    display(output_file)\n",
    "\n",
    "    gene_corrs_df.to_pickle(output_file)"
   ]
  },
  {
   "cell_type": "markdown",
   "id": "faa67b51-5373-470f-aa72-2ded53fa6dfe",
   "metadata": {
    "papermill": {
     "duration": 1.21073,
     "end_time": "2022-06-16T02:13:49.625787",
     "exception": false,
     "start_time": "2022-06-16T02:13:48.415057",
     "status": "completed"
    },
    "tags": []
   },
   "source": [
    "# Testing"
   ]
  },
  {
   "cell_type": "code",
   "execution_count": 31,
   "id": "14f7d046-4b55-4896-a56b-990127bcc388",
   "metadata": {
    "execution": {
     "iopub.execute_input": "2022-06-16T02:13:52.200216Z",
     "iopub.status.busy": "2022-06-16T02:13:52.199968Z",
     "iopub.status.idle": "2022-06-16T02:13:52.219842Z",
     "shell.execute_reply": "2022-06-16T02:13:52.219170Z"
    },
    "papermill": {
     "duration": 1.296644,
     "end_time": "2022-06-16T02:13:52.221445",
     "exception": false,
     "start_time": "2022-06-16T02:13:50.924801",
     "status": "completed"
    },
    "tags": []
   },
   "outputs": [
    {
     "data": {
      "text/plain": [
       "(244, 244)"
      ]
     },
     "execution_count": 31,
     "metadata": {},
     "output_type": "execute_result"
    }
   ],
   "source": [
    "gene_corrs_df.shape"
   ]
  },
  {
   "cell_type": "code",
   "execution_count": 32,
   "id": "c7d15414-3297-4537-a7c6-7588c0baeb75",
   "metadata": {
    "execution": {
     "iopub.execute_input": "2022-06-16T02:13:54.691132Z",
     "iopub.status.busy": "2022-06-16T02:13:54.690949Z",
     "iopub.status.idle": "2022-06-16T02:13:54.722730Z",
     "shell.execute_reply": "2022-06-16T02:13:54.722187Z"
    },
    "papermill": {
     "duration": 1.281163,
     "end_time": "2022-06-16T02:13:54.724357",
     "exception": false,
     "start_time": "2022-06-16T02:13:53.443194",
     "status": "completed"
    },
    "tags": []
   },
   "outputs": [
    {
     "data": {
      "text/html": [
       "<div>\n",
       "<style scoped>\n",
       "    .dataframe tbody tr th:only-of-type {\n",
       "        vertical-align: middle;\n",
       "    }\n",
       "\n",
       "    .dataframe tbody tr th {\n",
       "        vertical-align: top;\n",
       "    }\n",
       "\n",
       "    .dataframe thead th {\n",
       "        text-align: right;\n",
       "    }\n",
       "</style>\n",
       "<table border=\"1\" class=\"dataframe\">\n",
       "  <thead>\n",
       "    <tr style=\"text-align: right;\">\n",
       "      <th></th>\n",
       "      <th>ENSG00000272602</th>\n",
       "      <th>ENSG00000131127</th>\n",
       "      <th>ENSG00000174227</th>\n",
       "      <th>ENSG00000133256</th>\n",
       "      <th>ENSG00000169020</th>\n",
       "      <th>ENSG00000215375</th>\n",
       "      <th>ENSG00000169026</th>\n",
       "      <th>ENSG00000178950</th>\n",
       "      <th>ENSG00000145214</th>\n",
       "      <th>ENSG00000145217</th>\n",
       "      <th>...</th>\n",
       "      <th>ENSG00000109674</th>\n",
       "      <th>ENSG00000038002</th>\n",
       "      <th>ENSG00000129187</th>\n",
       "      <th>ENSG00000168310</th>\n",
       "      <th>ENSG00000164305</th>\n",
       "      <th>ENSG00000151726</th>\n",
       "      <th>ENSG00000151729</th>\n",
       "      <th>ENSG00000164342</th>\n",
       "      <th>ENSG00000164344</th>\n",
       "      <th>ENSG00000109536</th>\n",
       "    </tr>\n",
       "  </thead>\n",
       "  <tbody>\n",
       "    <tr>\n",
       "      <th>ENSG00000272602</th>\n",
       "      <td>1.000000</td>\n",
       "      <td>-0.009554</td>\n",
       "      <td>0.150294</td>\n",
       "      <td>0.033355</td>\n",
       "      <td>-0.149324</td>\n",
       "      <td>-0.018738</td>\n",
       "      <td>0.221567</td>\n",
       "      <td>-0.165015</td>\n",
       "      <td>0.088995</td>\n",
       "      <td>-0.029321</td>\n",
       "      <td>...</td>\n",
       "      <td>0.0</td>\n",
       "      <td>0.0</td>\n",
       "      <td>0.0</td>\n",
       "      <td>0.0</td>\n",
       "      <td>0.0</td>\n",
       "      <td>0.0</td>\n",
       "      <td>0.0</td>\n",
       "      <td>0.0</td>\n",
       "      <td>0.0</td>\n",
       "      <td>0.0</td>\n",
       "    </tr>\n",
       "    <tr>\n",
       "      <th>ENSG00000131127</th>\n",
       "      <td>-0.009554</td>\n",
       "      <td>1.000000</td>\n",
       "      <td>0.007011</td>\n",
       "      <td>-0.011969</td>\n",
       "      <td>-0.112628</td>\n",
       "      <td>-0.334562</td>\n",
       "      <td>0.473975</td>\n",
       "      <td>0.006672</td>\n",
       "      <td>-0.174251</td>\n",
       "      <td>-0.082711</td>\n",
       "      <td>...</td>\n",
       "      <td>0.0</td>\n",
       "      <td>0.0</td>\n",
       "      <td>0.0</td>\n",
       "      <td>0.0</td>\n",
       "      <td>0.0</td>\n",
       "      <td>0.0</td>\n",
       "      <td>0.0</td>\n",
       "      <td>0.0</td>\n",
       "      <td>0.0</td>\n",
       "      <td>0.0</td>\n",
       "    </tr>\n",
       "    <tr>\n",
       "      <th>ENSG00000174227</th>\n",
       "      <td>0.150294</td>\n",
       "      <td>0.007011</td>\n",
       "      <td>1.000000</td>\n",
       "      <td>0.151536</td>\n",
       "      <td>-0.254501</td>\n",
       "      <td>-0.071425</td>\n",
       "      <td>0.394955</td>\n",
       "      <td>0.059067</td>\n",
       "      <td>-0.045770</td>\n",
       "      <td>0.199819</td>\n",
       "      <td>...</td>\n",
       "      <td>0.0</td>\n",
       "      <td>0.0</td>\n",
       "      <td>0.0</td>\n",
       "      <td>0.0</td>\n",
       "      <td>0.0</td>\n",
       "      <td>0.0</td>\n",
       "      <td>0.0</td>\n",
       "      <td>0.0</td>\n",
       "      <td>0.0</td>\n",
       "      <td>0.0</td>\n",
       "    </tr>\n",
       "    <tr>\n",
       "      <th>ENSG00000133256</th>\n",
       "      <td>0.033355</td>\n",
       "      <td>-0.011969</td>\n",
       "      <td>0.151536</td>\n",
       "      <td>1.000000</td>\n",
       "      <td>0.095535</td>\n",
       "      <td>-0.167249</td>\n",
       "      <td>-0.023789</td>\n",
       "      <td>0.070181</td>\n",
       "      <td>0.101987</td>\n",
       "      <td>0.022384</td>\n",
       "      <td>...</td>\n",
       "      <td>0.0</td>\n",
       "      <td>0.0</td>\n",
       "      <td>0.0</td>\n",
       "      <td>0.0</td>\n",
       "      <td>0.0</td>\n",
       "      <td>0.0</td>\n",
       "      <td>0.0</td>\n",
       "      <td>0.0</td>\n",
       "      <td>0.0</td>\n",
       "      <td>0.0</td>\n",
       "    </tr>\n",
       "    <tr>\n",
       "      <th>ENSG00000169020</th>\n",
       "      <td>-0.149324</td>\n",
       "      <td>-0.112628</td>\n",
       "      <td>-0.254501</td>\n",
       "      <td>0.095535</td>\n",
       "      <td>1.000000</td>\n",
       "      <td>0.011048</td>\n",
       "      <td>-0.146818</td>\n",
       "      <td>-0.160465</td>\n",
       "      <td>0.114540</td>\n",
       "      <td>0.017200</td>\n",
       "      <td>...</td>\n",
       "      <td>0.0</td>\n",
       "      <td>0.0</td>\n",
       "      <td>0.0</td>\n",
       "      <td>0.0</td>\n",
       "      <td>0.0</td>\n",
       "      <td>0.0</td>\n",
       "      <td>0.0</td>\n",
       "      <td>0.0</td>\n",
       "      <td>0.0</td>\n",
       "      <td>0.0</td>\n",
       "    </tr>\n",
       "  </tbody>\n",
       "</table>\n",
       "<p>5 rows × 244 columns</p>\n",
       "</div>"
      ],
      "text/plain": [
       "                 ENSG00000272602  ENSG00000131127  ENSG00000174227  \\\n",
       "ENSG00000272602         1.000000        -0.009554         0.150294   \n",
       "ENSG00000131127        -0.009554         1.000000         0.007011   \n",
       "ENSG00000174227         0.150294         0.007011         1.000000   \n",
       "ENSG00000133256         0.033355        -0.011969         0.151536   \n",
       "ENSG00000169020        -0.149324        -0.112628        -0.254501   \n",
       "\n",
       "                 ENSG00000133256  ENSG00000169020  ENSG00000215375  \\\n",
       "ENSG00000272602         0.033355        -0.149324        -0.018738   \n",
       "ENSG00000131127        -0.011969        -0.112628        -0.334562   \n",
       "ENSG00000174227         0.151536        -0.254501        -0.071425   \n",
       "ENSG00000133256         1.000000         0.095535        -0.167249   \n",
       "ENSG00000169020         0.095535         1.000000         0.011048   \n",
       "\n",
       "                 ENSG00000169026  ENSG00000178950  ENSG00000145214  \\\n",
       "ENSG00000272602         0.221567        -0.165015         0.088995   \n",
       "ENSG00000131127         0.473975         0.006672        -0.174251   \n",
       "ENSG00000174227         0.394955         0.059067        -0.045770   \n",
       "ENSG00000133256        -0.023789         0.070181         0.101987   \n",
       "ENSG00000169020        -0.146818        -0.160465         0.114540   \n",
       "\n",
       "                 ENSG00000145217  ...  ENSG00000109674  ENSG00000038002  \\\n",
       "ENSG00000272602        -0.029321  ...              0.0              0.0   \n",
       "ENSG00000131127        -0.082711  ...              0.0              0.0   \n",
       "ENSG00000174227         0.199819  ...              0.0              0.0   \n",
       "ENSG00000133256         0.022384  ...              0.0              0.0   \n",
       "ENSG00000169020         0.017200  ...              0.0              0.0   \n",
       "\n",
       "                 ENSG00000129187  ENSG00000168310  ENSG00000164305  \\\n",
       "ENSG00000272602              0.0              0.0              0.0   \n",
       "ENSG00000131127              0.0              0.0              0.0   \n",
       "ENSG00000174227              0.0              0.0              0.0   \n",
       "ENSG00000133256              0.0              0.0              0.0   \n",
       "ENSG00000169020              0.0              0.0              0.0   \n",
       "\n",
       "                 ENSG00000151726  ENSG00000151729  ENSG00000164342  \\\n",
       "ENSG00000272602              0.0              0.0              0.0   \n",
       "ENSG00000131127              0.0              0.0              0.0   \n",
       "ENSG00000174227              0.0              0.0              0.0   \n",
       "ENSG00000133256              0.0              0.0              0.0   \n",
       "ENSG00000169020              0.0              0.0              0.0   \n",
       "\n",
       "                 ENSG00000164344  ENSG00000109536  \n",
       "ENSG00000272602              0.0              0.0  \n",
       "ENSG00000131127              0.0              0.0  \n",
       "ENSG00000174227              0.0              0.0  \n",
       "ENSG00000133256              0.0              0.0  \n",
       "ENSG00000169020              0.0              0.0  \n",
       "\n",
       "[5 rows x 244 columns]"
      ]
     },
     "execution_count": 32,
     "metadata": {},
     "output_type": "execute_result"
    }
   ],
   "source": [
    "gene_corrs_df.head()"
   ]
  },
  {
   "cell_type": "code",
   "execution_count": 33,
   "id": "00583efc-7068-4270-ad1e-4a418e91db96",
   "metadata": {
    "execution": {
     "iopub.execute_input": "2022-06-16T02:13:57.233781Z",
     "iopub.status.busy": "2022-06-16T02:13:57.233338Z",
     "iopub.status.idle": "2022-06-16T02:13:57.252232Z",
     "shell.execute_reply": "2022-06-16T02:13:57.251657Z"
    },
    "papermill": {
     "duration": 1.256007,
     "end_time": "2022-06-16T02:13:57.253705",
     "exception": false,
     "start_time": "2022-06-16T02:13:55.997698",
     "status": "completed"
    },
    "tags": []
   },
   "outputs": [
    {
     "data": {
      "text/plain": [
       "-0.9006888191307485"
      ]
     },
     "metadata": {},
     "output_type": "display_data"
    }
   ],
   "source": [
    "_min_val = gene_corrs_df.min().min()\n",
    "display(_min_val)\n",
    "assert _min_val >= -1.0"
   ]
  },
  {
   "cell_type": "code",
   "execution_count": 34,
   "id": "d04fb2cf-1050-475b-b855-f5f7cc04092b",
   "metadata": {
    "execution": {
     "iopub.execute_input": "2022-06-16T02:13:59.696556Z",
     "iopub.status.busy": "2022-06-16T02:13:59.696236Z",
     "iopub.status.idle": "2022-06-16T02:13:59.714994Z",
     "shell.execute_reply": "2022-06-16T02:13:59.714391Z"
    },
    "papermill": {
     "duration": 1.251244,
     "end_time": "2022-06-16T02:13:59.716399",
     "exception": false,
     "start_time": "2022-06-16T02:13:58.465155",
     "status": "completed"
    },
    "tags": []
   },
   "outputs": [
    {
     "data": {
      "text/plain": [
       "1.0"
      ]
     },
     "metadata": {},
     "output_type": "display_data"
    }
   ],
   "source": [
    "_max_val = gene_corrs_df.max().max()  # this captures the diagonal\n",
    "display(_max_val)\n",
    "assert _max_val <= 1.0"
   ]
  },
  {
   "cell_type": "code",
   "execution_count": 35,
   "id": "96d02c44-1fba-47be-8a93-8f2608420b9c",
   "metadata": {
    "execution": {
     "iopub.execute_input": "2022-06-16T02:14:02.249260Z",
     "iopub.status.busy": "2022-06-16T02:14:02.248678Z",
     "iopub.status.idle": "2022-06-16T02:14:02.266099Z",
     "shell.execute_reply": "2022-06-16T02:14:02.265473Z"
    },
    "papermill": {
     "duration": 1.271118,
     "end_time": "2022-06-16T02:14:02.267655",
     "exception": false,
     "start_time": "2022-06-16T02:14:00.996537",
     "status": "completed"
    },
    "tags": []
   },
   "outputs": [],
   "source": [
    "# check upper triangular values\n",
    "assert len(gene_corrs) == int(genes_chr.shape[0] * (genes_chr.shape[0] - 1) / 2)"
   ]
  },
  {
   "cell_type": "code",
   "execution_count": 36,
   "id": "aaa51627-f4e3-4744-a41f-7d25adcc0a78",
   "metadata": {
    "execution": {
     "iopub.execute_input": "2022-06-16T02:14:04.714619Z",
     "iopub.status.busy": "2022-06-16T02:14:04.714434Z",
     "iopub.status.idle": "2022-06-16T02:14:04.735651Z",
     "shell.execute_reply": "2022-06-16T02:14:04.735168Z"
    },
    "papermill": {
     "duration": 1.23904,
     "end_time": "2022-06-16T02:14:04.737296",
     "exception": false,
     "start_time": "2022-06-16T02:14:03.498256",
     "status": "completed"
    },
    "tags": []
   },
   "outputs": [],
   "source": [
    "gene_corrs = pd.Series(gene_corrs)"
   ]
  },
  {
   "cell_type": "code",
   "execution_count": 37,
   "id": "fe283586-c348-40e0-8841-f6d97bfb021c",
   "metadata": {
    "execution": {
     "iopub.execute_input": "2022-06-16T02:14:07.270528Z",
     "iopub.status.busy": "2022-06-16T02:14:07.270082Z",
     "iopub.status.idle": "2022-06-16T02:14:07.297262Z",
     "shell.execute_reply": "2022-06-16T02:14:07.296690Z"
    },
    "papermill": {
     "duration": 1.317073,
     "end_time": "2022-06-16T02:14:07.299335",
     "exception": false,
     "start_time": "2022-06-16T02:14:05.982262",
     "status": "completed"
    },
    "tags": []
   },
   "outputs": [
    {
     "data": {
      "text/plain": [
       "count    29646.000000\n",
       "mean         0.000183\n",
       "std          0.036522\n",
       "min         -0.900689\n",
       "25%          0.000000\n",
       "50%          0.000000\n",
       "75%          0.000000\n",
       "max          0.896574\n",
       "dtype: float64"
      ]
     },
     "execution_count": 37,
     "metadata": {},
     "output_type": "execute_result"
    }
   ],
   "source": [
    "gene_corrs.describe()"
   ]
  },
  {
   "cell_type": "code",
   "execution_count": 38,
   "id": "b3815678-0f93-4b35-897b-a9d047a2aa78",
   "metadata": {
    "execution": {
     "iopub.execute_input": "2022-06-16T02:14:09.979075Z",
     "iopub.status.busy": "2022-06-16T02:14:09.978898Z",
     "iopub.status.idle": "2022-06-16T02:14:10.001925Z",
     "shell.execute_reply": "2022-06-16T02:14:10.001434Z"
    },
    "papermill": {
     "duration": 1.384625,
     "end_time": "2022-06-16T02:14:10.007482",
     "exception": false,
     "start_time": "2022-06-16T02:14:08.622857",
     "status": "completed"
    },
    "tags": []
   },
   "outputs": [
    {
     "data": {
      "text/plain": [
       "0.00   -0.900689\n",
       "0.05    0.000000\n",
       "0.10    0.000000\n",
       "0.15    0.000000\n",
       "0.20    0.000000\n",
       "0.25    0.000000\n",
       "0.30    0.000000\n",
       "0.35    0.000000\n",
       "0.40    0.000000\n",
       "0.45    0.000000\n",
       "0.50    0.000000\n",
       "0.55    0.000000\n",
       "0.60    0.000000\n",
       "0.65    0.000000\n",
       "0.70    0.000000\n",
       "0.75    0.000000\n",
       "0.80    0.000000\n",
       "0.85    0.000000\n",
       "0.90    0.000000\n",
       "0.95    0.000000\n",
       "dtype: float64"
      ]
     },
     "metadata": {},
     "output_type": "display_data"
    }
   ],
   "source": [
    "gene_corrs_quantiles = gene_corrs.quantile(np.arange(0, 1, 0.05))\n",
    "display(gene_corrs_quantiles)"
   ]
  },
  {
   "cell_type": "markdown",
   "id": "8e60a080-edb2-4e9c-b2ef-22961693200c",
   "metadata": {
    "papermill": {
     "duration": 1.269796,
     "end_time": "2022-06-16T02:14:12.535767",
     "exception": false,
     "start_time": "2022-06-16T02:14:11.265971",
     "status": "completed"
    },
    "tags": []
   },
   "source": [
    "## Plot: distribution"
   ]
  },
  {
   "cell_type": "code",
   "execution_count": 39,
   "id": "8301126b-a7d4-4744-9c7d-f0f86eb6f54c",
   "metadata": {
    "execution": {
     "iopub.execute_input": "2022-06-16T02:14:14.999915Z",
     "iopub.status.busy": "2022-06-16T02:14:14.999570Z",
     "iopub.status.idle": "2022-06-16T02:14:15.319857Z",
     "shell.execute_reply": "2022-06-16T02:14:15.319321Z"
    },
    "papermill": {
     "duration": 1.538908,
     "end_time": "2022-06-16T02:14:15.321311",
     "exception": false,
     "start_time": "2022-06-16T02:14:13.782403",
     "status": "completed"
    },
    "tags": []
   },
   "outputs": [
    {
     "data": {
      "image/png": "[encoded data removed]",
      "text/plain": [
       "<Figure size 504x504 with 1 Axes>"
      ]
     },
     "metadata": {
      "needs_background": "light"
     },
     "output_type": "display_data"
    }
   ],
   "source": [
    "with sns.plotting_context(\"paper\", font_scale=1.5):\n",
    "    g = sns.displot(gene_corrs, kde=True, height=7)\n",
    "    g.ax.set_title(\n",
    "        f\"Distribution of gene correlation values in chromosome {chromosome}\"\n",
    "    )"
   ]
  },
  {
   "cell_type": "markdown",
   "id": "cbd52bca-d878-4a2f-b684-5c83aa3038d4",
   "metadata": {
    "papermill": {
     "duration": 1.222693,
     "end_time": "2022-06-16T02:14:17.786348",
     "exception": false,
     "start_time": "2022-06-16T02:14:16.563655",
     "status": "completed"
    },
    "tags": []
   },
   "source": [
    "## Plot: heatmap"
   ]
  },
  {
   "cell_type": "code",
   "execution_count": 40,
   "id": "d03fe63a-c7b2-4fb9-a53c-db362ce843c9",
   "metadata": {
    "execution": {
     "iopub.execute_input": "2022-06-16T02:14:20.271119Z",
     "iopub.status.busy": "2022-06-16T02:14:20.270936Z",
     "iopub.status.idle": "2022-06-16T02:14:20.289390Z",
     "shell.execute_reply": "2022-06-16T02:14:20.288865Z"
    },
    "papermill": {
     "duration": 1.275733,
     "end_time": "2022-06-16T02:14:20.290821",
     "exception": false,
     "start_time": "2022-06-16T02:14:19.015088",
     "status": "completed"
    },
    "tags": []
   },
   "outputs": [
    {
     "data": {
      "text/plain": [
       "'-0.05 / 0.05'"
      ]
     },
     "metadata": {},
     "output_type": "display_data"
    }
   ],
   "source": [
    "vmin_val = min(-0.05, gene_corrs_quantiles[0.10])\n",
    "vmax_val = max(0.05, gene_corrs_quantiles[0.90])\n",
    "display(f\"{vmin_val} / {vmax_val}\")"
   ]
  },
  {
   "cell_type": "code",
   "execution_count": 41,
   "id": "dc41b70b-5bcc-4d9e-9f33-a22c4a94dab5",
   "metadata": {
    "execution": {
     "iopub.execute_input": "2022-06-16T02:14:22.773052Z",
     "iopub.status.busy": "2022-06-16T02:14:22.772851Z",
     "iopub.status.idle": "2022-06-16T02:14:22.965298Z",
     "shell.execute_reply": "2022-06-16T02:14:22.964802Z"
    },
    "papermill": {
     "duration": 1.437349,
     "end_time": "2022-06-16T02:14:22.967135",
     "exception": false,
     "start_time": "2022-06-16T02:14:21.529786",
     "status": "completed"
    },
    "tags": []
   },
   "outputs": [
    {
     "data": {
      "text/plain": [
       "Text(0.5, 1.0, 'Gene correlations in chromosome 4')"
      ]
     },
     "execution_count": 41,
     "metadata": {},
     "output_type": "execute_result"
    },
    {
     "data": {
      "image/png": "[encoded data removed]",
      "text/plain": [
       "<Figure size 720x720 with 2 Axes>"
      ]
     },
     "metadata": {
      "needs_background": "light"
     },
     "output_type": "display_data"
    }
   ],
   "source": [
    "f, ax = plt.subplots(figsize=(10, 10))\n",
    "sns.heatmap(\n",
    "    gene_corrs_df,\n",
    "    xticklabels=False,\n",
    "    yticklabels=False,\n",
    "    square=True,\n",
    "    vmin=vmin_val,\n",
    "    vmax=vmax_val,\n",
    "    cmap=\"YlGnBu\",\n",
    "    ax=ax,\n",
    ")\n",
    "ax.set_title(f\"Gene correlations in chromosome {chromosome}\")"
   ]
  },
  {
   "cell_type": "code",
   "execution_count": null,
   "id": "b25e3ead",
   "metadata": {
    "papermill": {
     "duration": 1.315344,
     "end_time": "2022-06-16T02:14:25.532807",
     "exception": false,
     "start_time": "2022-06-16T02:14:24.217463",
     "status": "completed"
    },
    "tags": []
   },
   "outputs": [],
   "source": []
  }
 ],
 "metadata": {
  "jupytext": {
   "cell_metadata_filter": "all,-execution,-papermill,-trusted",
   "formats": "ipynb,py//py:percent"
  },
  "kernelspec": {
   "display_name": "Python 3 (ipykernel)",
   "language": "python",
   "name": "python3"
  },
  "language_info": {
   "codemirror_mode": {
    "name": "ipython",
    "version": 3
   },
   "file_extension": ".py",
   "mimetype": "text/x-python",
   "name": "python",
   "nbconvert_exporter": "python",
   "pygments_lexer": "ipython3",
   "version": "3.8.13"
  },
  "papermill": {
   "default_parameters": {},
   "duration": 5500.472182,
   "end_time": "2022-06-16T02:14:29.571156",
   "environment_variables": {},
   "exception": null,
   "input_path": "nbs/15_gsa_gls/10-gene_expr_correlations.ipynb",
   "output_path": "nbs/15_gsa_gls/gene_corrs/gtex_v8/mashr/10-gene_expr_correlations-chr4.run.ipynb",
   "parameters": {
    "EQTL_MODEL": "MASHR",
    "REFERENCE_PANEL": "GTEX_V8",
    "chromosome": 4
   },
   "start_time": "2022-06-16T00:42:49.098974",
   "version": "2.2.2"
  }
 },
 "nbformat": 4,
 "nbformat_minor": 5
}
