{
 "cells": [
  {
   "cell_type": "markdown",
   "id": "6c1f0ae4-cd27-4fec-a23d-51699e7059e8",
   "metadata": {
    "papermill": {
     "duration": 0.005969,
     "end_time": "2022-06-18T11:50:23.342816",
     "exception": false,
     "start_time": "2022-06-18T11:50:23.336847",
     "status": "completed"
    },
    "tags": []
   },
   "source": [
    "# Description"
   ]
  },
  {
   "cell_type": "markdown",
   "id": "3268a19a-8a83-4f61-aa39-09b084c81d61",
   "metadata": {
    "papermill": {
     "duration": 0.005151,
     "end_time": "2022-06-18T11:50:23.353036",
     "exception": false,
     "start_time": "2022-06-18T11:50:23.347885",
     "status": "completed"
    },
    "tags": []
   },
   "source": [
    "**TODO**"
   ]
  },
  {
   "cell_type": "markdown",
   "id": "401368d3-22c1-4d81-a2c3-c4a81fde4191",
   "metadata": {
    "papermill": {
     "duration": 0.00482,
     "end_time": "2022-06-18T11:50:23.362824",
     "exception": false,
     "start_time": "2022-06-18T11:50:23.358004",
     "status": "completed"
    },
    "tags": []
   },
   "source": [
    "# Modules"
   ]
  },
  {
   "cell_type": "code",
   "execution_count": 1,
   "id": "f9b5022b-7c5e-4d37-9c7a-fdb91777c7f9",
   "metadata": {
    "execution": {
     "iopub.execute_input": "2022-06-18T11:50:23.406580Z",
     "iopub.status.busy": "2022-06-18T11:50:23.404754Z",
     "iopub.status.idle": "2022-06-18T11:50:26.692373Z",
     "shell.execute_reply": "2022-06-18T11:50:26.691185Z"
    },
    "papermill": {
     "duration": 3.326583,
     "end_time": "2022-06-18T11:50:26.693984",
     "exception": false,
     "start_time": "2022-06-18T11:50:23.367401",
     "status": "completed"
    },
    "tags": []
   },
   "outputs": [],
   "source": [
    "library(reticulate)\n",
    "pd <- import(\"pandas\")"
   ]
  },
  {
   "cell_type": "markdown",
   "id": "c1958d6a-0229-47e8-823e-792fcf84fccf",
   "metadata": {
    "papermill": {
     "duration": 0.004351,
     "end_time": "2022-06-18T11:50:26.702861",
     "exception": false,
     "start_time": "2022-06-18T11:50:26.698510",
     "status": "completed"
    },
    "tags": []
   },
   "source": [
    "# Settings"
   ]
  },
  {
   "cell_type": "code",
   "execution_count": 2,
   "id": "22d12bb4-1699-4a6b-b1b9-d3fdd3d547d7",
   "metadata": {
    "execution": {
     "iopub.execute_input": "2022-06-18T11:50:26.734300Z",
     "iopub.status.busy": "2022-06-18T11:50:26.712623Z",
     "iopub.status.idle": "2022-06-18T11:50:26.746309Z",
     "shell.execute_reply": "2022-06-18T11:50:26.745095Z"
    },
    "papermill": {
     "duration": 0.040774,
     "end_time": "2022-06-18T11:50:26.748078",
     "exception": false,
     "start_time": "2022-06-18T11:50:26.707304",
     "status": "completed"
    },
    "tags": [
     "parameters"
    ]
   },
   "outputs": [],
   "source": [
    "# reference panel\n",
    "REFERENCE_PANEL <- \"GTEX_V8\"\n",
    "# REFERENCE_PANEL = \"1000G\"\n",
    "\n",
    "# prediction models\n",
    "## mashr\n",
    "EQTL_MODEL <- \"MASHR\"\n",
    "\n",
    "# ## elastic net\n",
    "# EQTL_MODEL = \"ELASTIC_NET\"\n",
    "\n",
    "chromosome <- NULL"
   ]
  },
  {
   "cell_type": "code",
   "execution_count": 3,
   "id": "3c58d40f",
   "metadata": {
    "execution": {
     "iopub.execute_input": "2022-06-18T11:50:26.760083Z",
     "iopub.status.busy": "2022-06-18T11:50:26.759005Z",
     "iopub.status.idle": "2022-06-18T11:50:26.776656Z",
     "shell.execute_reply": "2022-06-18T11:50:26.775420Z"
    },
    "papermill": {
     "duration": 0.025304,
     "end_time": "2022-06-18T11:50:26.778418",
     "exception": false,
     "start_time": "2022-06-18T11:50:26.753114",
     "status": "completed"
    },
    "tags": [
     "injected-parameters"
    ]
   },
   "outputs": [],
   "source": [
    "# Parameters\n",
    "chromosome = 13\n",
    "REFERENCE_PANEL = \"GTEX_V8\"\n",
    "EQTL_MODEL = \"MASHR\"\n"
   ]
  },
  {
   "cell_type": "code",
   "execution_count": 4,
   "id": "8fe24bef",
   "metadata": {
    "execution": {
     "iopub.execute_input": "2022-06-18T11:50:26.791055Z",
     "iopub.status.busy": "2022-06-18T11:50:26.790004Z",
     "iopub.status.idle": "2022-06-18T11:50:26.803927Z",
     "shell.execute_reply": "2022-06-18T11:50:26.802572Z"
    },
    "papermill": {
     "duration": 0.022226,
     "end_time": "2022-06-18T11:50:26.805938",
     "exception": false,
     "start_time": "2022-06-18T11:50:26.783712",
     "status": "completed"
    },
    "tags": []
   },
   "outputs": [
    {
     "data": {
      "text/html": [
       "'Using reference panel: GTEX_V8'"
      ],
      "text/latex": [
       "'Using reference panel: GTEX\\_V8'"
      ],
      "text/markdown": [
       "'Using reference panel: GTEX_V8'"
      ],
      "text/plain": [
       "[1] \"Using reference panel: GTEX_V8\""
      ]
     },
     "metadata": {},
     "output_type": "display_data"
    }
   ],
   "source": [
    "paste0(\"Using reference panel: \", REFERENCE_PANEL)"
   ]
  },
  {
   "cell_type": "code",
   "execution_count": 5,
   "id": "d62c28f8-186c-478b-948c-58e14f00df4b",
   "metadata": {
    "execution": {
     "iopub.execute_input": "2022-06-18T11:50:26.819370Z",
     "iopub.status.busy": "2022-06-18T11:50:26.818184Z",
     "iopub.status.idle": "2022-06-18T11:50:26.831193Z",
     "shell.execute_reply": "2022-06-18T11:50:26.829436Z"
    },
    "papermill": {
     "duration": 0.021486,
     "end_time": "2022-06-18T11:50:26.833076",
     "exception": false,
     "start_time": "2022-06-18T11:50:26.811590",
     "status": "completed"
    },
    "tags": []
   },
   "outputs": [
    {
     "data": {
      "text/html": [
       "'Using eQTL model: MASHR'"
      ],
      "text/latex": [
       "'Using eQTL model: MASHR'"
      ],
      "text/markdown": [
       "'Using eQTL model: MASHR'"
      ],
      "text/plain": [
       "[1] \"Using eQTL model: MASHR\""
      ]
     },
     "metadata": {},
     "output_type": "display_data"
    }
   ],
   "source": [
    "paste0(\"Using eQTL model: \", EQTL_MODEL)"
   ]
  },
  {
   "cell_type": "code",
   "execution_count": 6,
   "id": "5243676f-c889-4405-9a4d-262f0f044614",
   "metadata": {
    "execution": {
     "iopub.execute_input": "2022-06-18T11:50:26.847013Z",
     "iopub.status.busy": "2022-06-18T11:50:26.845709Z",
     "iopub.status.idle": "2022-06-18T11:50:26.856034Z",
     "shell.execute_reply": "2022-06-18T11:50:26.854723Z"
    },
    "papermill": {
     "duration": 0.018891,
     "end_time": "2022-06-18T11:50:26.857888",
     "exception": false,
     "start_time": "2022-06-18T11:50:26.838997",
     "status": "completed"
    },
    "tags": []
   },
   "outputs": [],
   "source": [
    "# chromosome must be provided as parameter\n",
    "stopifnot(!is.null(chromosome))"
   ]
  },
  {
   "cell_type": "markdown",
   "id": "83a49773-bcf5-44c4-8d9b-a6ac65a57ec6",
   "metadata": {
    "papermill": {
     "duration": 0.005557,
     "end_time": "2022-06-18T11:50:26.869562",
     "exception": false,
     "start_time": "2022-06-18T11:50:26.864005",
     "status": "completed"
    },
    "tags": []
   },
   "source": [
    "# Paths"
   ]
  },
  {
   "cell_type": "code",
   "execution_count": 7,
   "id": "eb6aa8aa-b452-4a2f-a780-93dd80ad4285",
   "metadata": {
    "execution": {
     "iopub.execute_input": "2022-06-18T11:50:26.882898Z",
     "iopub.status.busy": "2022-06-18T11:50:26.881782Z",
     "iopub.status.idle": "2022-06-18T11:50:26.895360Z",
     "shell.execute_reply": "2022-06-18T11:50:26.893920Z"
    },
    "papermill": {
     "duration": 0.021903,
     "end_time": "2022-06-18T11:50:26.897122",
     "exception": false,
     "start_time": "2022-06-18T11:50:26.875219",
     "status": "completed"
    },
    "tags": []
   },
   "outputs": [
    {
     "data": {
      "text/html": [
       "'/opt/data/data/phenomexcan/ld_blocks/gene_corrs'"
      ],
      "text/latex": [
       "'/opt/data/data/phenomexcan/ld\\_blocks/gene\\_corrs'"
      ],
      "text/markdown": [
       "'/opt/data/data/phenomexcan/ld_blocks/gene_corrs'"
      ],
      "text/plain": [
       "[1] \"/opt/data/data/phenomexcan/ld_blocks/gene_corrs\""
      ]
     },
     "metadata": {},
     "output_type": "display_data"
    }
   ],
   "source": [
    "GENE_CORRS_DIR <- Sys.getenv(\"PHENOPLIER_PHENOMEXCAN_LD_BLOCKS_GENE_CORRS_DIR\")\n",
    "IRdisplay::display(GENE_CORRS_DIR)"
   ]
  },
  {
   "cell_type": "code",
   "execution_count": 8,
   "id": "eb24f15f-f282-4476-8943-8413c4483f12",
   "metadata": {
    "execution": {
     "iopub.execute_input": "2022-06-18T11:50:26.910163Z",
     "iopub.status.busy": "2022-06-18T11:50:26.909063Z",
     "iopub.status.idle": "2022-06-18T11:50:26.922235Z",
     "shell.execute_reply": "2022-06-18T11:50:26.920979Z"
    },
    "papermill": {
     "duration": 0.021368,
     "end_time": "2022-06-18T11:50:26.924101",
     "exception": false,
     "start_time": "2022-06-18T11:50:26.902733",
     "status": "completed"
    },
    "tags": []
   },
   "outputs": [
    {
     "data": {
      "text/html": [
       "'/opt/data/data/phenomexcan/ld_blocks/gene_corrs/gtex_v8/mashr/by_chr'"
      ],
      "text/latex": [
       "'/opt/data/data/phenomexcan/ld\\_blocks/gene\\_corrs/gtex\\_v8/mashr/by\\_chr'"
      ],
      "text/markdown": [
       "'/opt/data/data/phenomexcan/ld_blocks/gene_corrs/gtex_v8/mashr/by_chr'"
      ],
      "text/plain": [
       "[1] \"/opt/data/data/phenomexcan/ld_blocks/gene_corrs/gtex_v8/mashr/by_chr\""
      ]
     },
     "metadata": {},
     "output_type": "display_data"
    }
   ],
   "source": [
    "INPUT_DIR <- file.path(GENE_CORRS_DIR, tolower(REFERENCE_PANEL), tolower(EQTL_MODEL), \"by_chr\")\n",
    "IRdisplay::display(INPUT_DIR)"
   ]
  },
  {
   "cell_type": "code",
   "execution_count": 9,
   "id": "43c1daba-0da9-4822-8d1e-968e9767e251",
   "metadata": {
    "execution": {
     "iopub.execute_input": "2022-06-18T11:50:26.937078Z",
     "iopub.status.busy": "2022-06-18T11:50:26.936043Z",
     "iopub.status.idle": "2022-06-18T11:50:26.950194Z",
     "shell.execute_reply": "2022-06-18T11:50:26.948969Z"
    },
    "papermill": {
     "duration": 0.022352,
     "end_time": "2022-06-18T11:50:26.952060",
     "exception": false,
     "start_time": "2022-06-18T11:50:26.929708",
     "status": "completed"
    },
    "tags": []
   },
   "outputs": [
    {
     "data": {
      "text/html": [
       "'/opt/data/data/phenomexcan/ld_blocks/gene_corrs/gtex_v8/mashr/by_chr/gene_corrs-chr13.pkl'"
      ],
      "text/latex": [
       "'/opt/data/data/phenomexcan/ld\\_blocks/gene\\_corrs/gtex\\_v8/mashr/by\\_chr/gene\\_corrs-chr13.pkl'"
      ],
      "text/markdown": [
       "'/opt/data/data/phenomexcan/ld_blocks/gene_corrs/gtex_v8/mashr/by_chr/gene_corrs-chr13.pkl'"
      ],
      "text/plain": [
       "[1] \"/opt/data/data/phenomexcan/ld_blocks/gene_corrs/gtex_v8/mashr/by_chr/gene_corrs-chr13.pkl\""
      ]
     },
     "metadata": {},
     "output_type": "display_data"
    }
   ],
   "source": [
    "INPUT_FILE <- file.path(INPUT_DIR, paste0(\"gene_corrs-chr\", chromosome, \".pkl\"))\n",
    "IRdisplay::display(INPUT_FILE)\n",
    "stopifnot(file.exists(INPUT_FILE))"
   ]
  },
  {
   "cell_type": "code",
   "execution_count": 10,
   "id": "72386fbf-982b-420a-9057-ea9a97a5e571",
   "metadata": {
    "execution": {
     "iopub.execute_input": "2022-06-18T11:50:26.965430Z",
     "iopub.status.busy": "2022-06-18T11:50:26.964362Z",
     "iopub.status.idle": "2022-06-18T11:50:26.979651Z",
     "shell.execute_reply": "2022-06-18T11:50:26.977603Z"
    },
    "papermill": {
     "duration": 0.023715,
     "end_time": "2022-06-18T11:50:26.981535",
     "exception": false,
     "start_time": "2022-06-18T11:50:26.957820",
     "status": "completed"
    },
    "tags": []
   },
   "outputs": [
    {
     "data": {
      "text/html": [
       "'/opt/data/data/phenomexcan/ld_blocks/gene_corrs/gtex_v8/mashr/by_chr/corrected_positive_definite'"
      ],
      "text/latex": [
       "'/opt/data/data/phenomexcan/ld\\_blocks/gene\\_corrs/gtex\\_v8/mashr/by\\_chr/corrected\\_positive\\_definite'"
      ],
      "text/markdown": [
       "'/opt/data/data/phenomexcan/ld_blocks/gene_corrs/gtex_v8/mashr/by_chr/corrected_positive_definite'"
      ],
      "text/plain": [
       "[1] \"/opt/data/data/phenomexcan/ld_blocks/gene_corrs/gtex_v8/mashr/by_chr/corrected_positive_definite\""
      ]
     },
     "metadata": {},
     "output_type": "display_data"
    }
   ],
   "source": [
    "OUTPUT_DIR <- file.path(INPUT_DIR, \"corrected_positive_definite\")\n",
    "IRdisplay::display(OUTPUT_DIR)\n",
    "dir.create(OUTPUT_DIR, recursive = TRUE, showWarnings = FALSE)"
   ]
  },
  {
   "cell_type": "code",
   "execution_count": 11,
   "id": "f9f19d1d-ce4c-4099-a26e-250fec751de7",
   "metadata": {
    "execution": {
     "iopub.execute_input": "2022-06-18T11:50:26.994765Z",
     "iopub.status.busy": "2022-06-18T11:50:26.993710Z",
     "iopub.status.idle": "2022-06-18T11:50:27.013364Z",
     "shell.execute_reply": "2022-06-18T11:50:27.009173Z"
    },
    "papermill": {
     "duration": 0.028058,
     "end_time": "2022-06-18T11:50:27.015227",
     "exception": false,
     "start_time": "2022-06-18T11:50:26.987169",
     "status": "completed"
    },
    "tags": []
   },
   "outputs": [
    {
     "data": {
      "text/html": [
       "'/opt/data/data/phenomexcan/ld_blocks/gene_corrs/gtex_v8/mashr/by_chr/corrected_positive_definite/gene_corrs-chr13.pkl'"
      ],
      "text/latex": [
       "'/opt/data/data/phenomexcan/ld\\_blocks/gene\\_corrs/gtex\\_v8/mashr/by\\_chr/corrected\\_positive\\_definite/gene\\_corrs-chr13.pkl'"
      ],
      "text/markdown": [
       "'/opt/data/data/phenomexcan/ld_blocks/gene_corrs/gtex_v8/mashr/by_chr/corrected_positive_definite/gene_corrs-chr13.pkl'"
      ],
      "text/plain": [
       "[1] \"/opt/data/data/phenomexcan/ld_blocks/gene_corrs/gtex_v8/mashr/by_chr/corrected_positive_definite/gene_corrs-chr13.pkl\""
      ]
     },
     "metadata": {},
     "output_type": "display_data"
    },
    {
     "data": {
      "text/html": [
       "'Output file exists, it will be overwritten'"
      ],
      "text/latex": [
       "'Output file exists, it will be overwritten'"
      ],
      "text/markdown": [
       "'Output file exists, it will be overwritten'"
      ],
      "text/plain": [
       "[1] \"Output file exists, it will be overwritten\""
      ]
     },
     "metadata": {},
     "output_type": "display_data"
    }
   ],
   "source": [
    "OUTPUT_FILE <- file.path(OUTPUT_DIR, paste0(\"gene_corrs-chr\", chromosome, \".pkl\"))\n",
    "IRdisplay::display(OUTPUT_FILE)\n",
    "if (file.exists(OUTPUT_FILE)) {\n",
    "  IRdisplay::display(\"Output file exists, it will be overwritten\")\n",
    "}"
   ]
  },
  {
   "cell_type": "markdown",
   "id": "5aad60e6-cba4-41b5-9755-93eb86f4ed05",
   "metadata": {
    "papermill": {
     "duration": 0.005839,
     "end_time": "2022-06-18T11:50:27.027165",
     "exception": false,
     "start_time": "2022-06-18T11:50:27.021326",
     "status": "completed"
    },
    "tags": []
   },
   "source": [
    "# Functions"
   ]
  },
  {
   "cell_type": "code",
   "execution_count": 12,
   "id": "f828f081-7358-4cc8-8a89-1ee293bcc1a7",
   "metadata": {
    "execution": {
     "iopub.execute_input": "2022-06-18T11:50:27.040881Z",
     "iopub.status.busy": "2022-06-18T11:50:27.039902Z",
     "iopub.status.idle": "2022-06-18T11:50:27.049280Z",
     "shell.execute_reply": "2022-06-18T11:50:27.047980Z"
    },
    "papermill": {
     "duration": 0.01862,
     "end_time": "2022-06-18T11:50:27.051773",
     "exception": false,
     "start_time": "2022-06-18T11:50:27.033153",
     "status": "completed"
    },
    "tags": []
   },
   "outputs": [],
   "source": [
    "# taken from https://www.r-bloggers.com/2013/08/correcting-a-pseudo-correlation-matrix-to-be-positive-semidefinite/\n",
    "# TODO: add documentation\n",
    "CorrectCM <- function(CM, p = 0) {\n",
    "  n <- dim(var(CM))[1L]\n",
    "  E <- eigen(CM)\n",
    "  CM1 <- E$vectors %*% tcrossprod(diag(pmax(E$values, p), n), E$vectors)\n",
    "  Balance <- diag(1 / sqrt(diag(CM1)))\n",
    "  CM2 <- Balance %*% CM1 %*% Balance\n",
    "  return(CM2)\n",
    "}"
   ]
  },
  {
   "cell_type": "code",
   "execution_count": 13,
   "id": "7ab9bebf-50a1-4e6f-b16a-e23cae93d02a",
   "metadata": {
    "execution": {
     "iopub.execute_input": "2022-06-18T11:50:27.066620Z",
     "iopub.status.busy": "2022-06-18T11:50:27.065525Z",
     "iopub.status.idle": "2022-06-18T11:50:27.075957Z",
     "shell.execute_reply": "2022-06-18T11:50:27.074699Z"
    },
    "papermill": {
     "duration": 0.019693,
     "end_time": "2022-06-18T11:50:27.077771",
     "exception": false,
     "start_time": "2022-06-18T11:50:27.058078",
     "status": "completed"
    },
    "tags": []
   },
   "outputs": [],
   "source": [
    "is_positive_definite <- function(data) {\n",
    "  eigenvalues <- eigen(data)$values\n",
    "  nonpositive_eigenvalues <- eigenvalues[eigenvalues <= 0]\n",
    "\n",
    "  if (length(nonpositive_eigenvalues) > 0) {\n",
    "    IRdisplay::display(\"We need to correct the data and make the matrix positive definite\")\n",
    "    return(FALSE)\n",
    "  } else {\n",
    "    IRdisplay::display(\"Matrix is already positive definite!\")\n",
    "    return(TRUE)\n",
    "  }\n",
    "}"
   ]
  },
  {
   "cell_type": "markdown",
   "id": "ac52ecbc-5618-4876-a4fa-546a08e3fcf3",
   "metadata": {
    "papermill": {
     "duration": 0.006249,
     "end_time": "2022-06-18T11:50:27.090305",
     "exception": false,
     "start_time": "2022-06-18T11:50:27.084056",
     "status": "completed"
    },
    "tags": []
   },
   "source": [
    "# Load data"
   ]
  },
  {
   "cell_type": "code",
   "execution_count": 14,
   "id": "3a7744e1-2e5a-450e-9dcf-945ec181347d",
   "metadata": {
    "execution": {
     "iopub.execute_input": "2022-06-18T11:50:27.104833Z",
     "iopub.status.busy": "2022-06-18T11:50:27.103815Z",
     "iopub.status.idle": "2022-06-18T11:50:27.132335Z",
     "shell.execute_reply": "2022-06-18T11:50:27.130982Z"
    },
    "papermill": {
     "duration": 0.039541,
     "end_time": "2022-06-18T11:50:27.136149",
     "exception": false,
     "start_time": "2022-06-18T11:50:27.096608",
     "status": "completed"
    },
    "tags": []
   },
   "outputs": [],
   "source": [
    "gene_corrs <- pd$read_pickle(INPUT_FILE)"
   ]
  },
  {
   "cell_type": "code",
   "execution_count": 15,
   "id": "6fb150b2-4c68-4e9b-9aa5-1890d3f762e3",
   "metadata": {
    "execution": {
     "iopub.execute_input": "2022-06-18T11:50:27.151750Z",
     "iopub.status.busy": "2022-06-18T11:50:27.150530Z",
     "iopub.status.idle": "2022-06-18T11:50:27.163066Z",
     "shell.execute_reply": "2022-06-18T11:50:27.161755Z"
    },
    "papermill": {
     "duration": 0.022094,
     "end_time": "2022-06-18T11:50:27.164891",
     "exception": false,
     "start_time": "2022-06-18T11:50:27.142797",
     "status": "completed"
    },
    "tags": []
   },
   "outputs": [
    {
     "data": {
      "text/html": [
       "<style>\n",
       ".list-inline {list-style: none; margin:0; padding: 0}\n",
       ".list-inline>li {display: inline-block}\n",
       ".list-inline>li:not(:last-child)::after {content: \"\\00b7\"; padding: 0 .5ex}\n",
       "</style>\n",
       "<ol class=list-inline><li>118</li><li>118</li></ol>\n"
      ],
      "text/latex": [
       "\\begin{enumerate*}\n",
       "\\item 118\n",
       "\\item 118\n",
       "\\end{enumerate*}\n"
      ],
      "text/markdown": [
       "1. 118\n",
       "2. 118\n",
       "\n",
       "\n"
      ],
      "text/plain": [
       "[1] 118 118"
      ]
     },
     "metadata": {},
     "output_type": "display_data"
    }
   ],
   "source": [
    "dim(gene_corrs)"
   ]
  },
  {
   "cell_type": "code",
   "execution_count": 16,
   "id": "0d4e53b5-7586-4a68-8ce5-d930d74ba943",
   "metadata": {
    "execution": {
     "iopub.execute_input": "2022-06-18T11:50:27.180742Z",
     "iopub.status.busy": "2022-06-18T11:50:27.179663Z",
     "iopub.status.idle": "2022-06-18T11:50:27.203197Z",
     "shell.execute_reply": "2022-06-18T11:50:27.201904Z"
    },
    "papermill": {
     "duration": 0.033541,
     "end_time": "2022-06-18T11:50:27.205575",
     "exception": false,
     "start_time": "2022-06-18T11:50:27.172034",
     "status": "completed"
    },
    "tags": []
   },
   "outputs": [
    {
     "data": {
      "text/html": [
       "<table class=\"dataframe\">\n",
       "<caption>A data.frame: 6 × 10</caption>\n",
       "<thead>\n",
       "\t<tr><th></th><th scope=col>ENSG00000121741</th><th scope=col>ENSG00000121743</th><th scope=col>ENSG00000121742</th><th scope=col>ENSG00000032742</th><th scope=col>ENSG00000150457</th><th scope=col>ENSG00000150459</th><th scope=col>ENSG00000102678</th><th scope=col>ENSG00000127863</th><th scope=col>ENSG00000228741</th><th scope=col>ENSG00000102699</th></tr>\n",
       "\t<tr><th></th><th scope=col>&lt;dbl&gt;</th><th scope=col>&lt;dbl&gt;</th><th scope=col>&lt;dbl&gt;</th><th scope=col>&lt;dbl&gt;</th><th scope=col>&lt;dbl&gt;</th><th scope=col>&lt;dbl&gt;</th><th scope=col>&lt;dbl&gt;</th><th scope=col>&lt;dbl&gt;</th><th scope=col>&lt;dbl&gt;</th><th scope=col>&lt;dbl&gt;</th></tr>\n",
       "</thead>\n",
       "<tbody>\n",
       "\t<tr><th scope=row>ENSG00000121741</th><td> 1.0000000</td><td>-0.22188490</td><td> 0.28655233</td><td>-0.29098516</td><td> 0.13150986</td><td>-0.16469326</td><td> 0.10857837</td><td>-0.08381103</td><td> 0.11537650</td><td> 0.20402379</td></tr>\n",
       "\t<tr><th scope=row>ENSG00000121743</th><td>-0.2218849</td><td> 1.00000000</td><td>-0.10744722</td><td> 0.01719924</td><td> 0.04569570</td><td>-0.07201835</td><td>-0.04281808</td><td> 0.02108838</td><td> 0.04091491</td><td> 0.08729703</td></tr>\n",
       "\t<tr><th scope=row>ENSG00000121742</th><td> 0.2865523</td><td>-0.10744722</td><td> 1.00000000</td><td>-0.12306800</td><td>-0.01391817</td><td> 0.09450781</td><td> 0.07516002</td><td> 0.02725667</td><td> 0.04682944</td><td> 0.02888592</td></tr>\n",
       "\t<tr><th scope=row>ENSG00000032742</th><td>-0.2909852</td><td> 0.01719924</td><td>-0.12306800</td><td> 1.00000000</td><td>-0.06568635</td><td> 0.22581883</td><td> 0.04330683</td><td> 0.08589275</td><td>-0.05199242</td><td> 0.24303508</td></tr>\n",
       "\t<tr><th scope=row>ENSG00000150457</th><td> 0.1315099</td><td> 0.04569570</td><td>-0.01391817</td><td>-0.06568635</td><td> 1.00000000</td><td> 0.01545811</td><td> 0.03153566</td><td>-0.03660881</td><td>-0.02789781</td><td>-0.10716158</td></tr>\n",
       "\t<tr><th scope=row>ENSG00000150459</th><td>-0.1646933</td><td>-0.07201835</td><td> 0.09450781</td><td> 0.22581883</td><td> 0.01545811</td><td> 1.00000000</td><td> 0.07763706</td><td> 0.08202611</td><td> 0.11398417</td><td>-0.09139341</td></tr>\n",
       "</tbody>\n",
       "</table>\n"
      ],
      "text/latex": [
       "A data.frame: 6 × 10\n",
       "\\begin{tabular}{r|llllllllll}\n",
       "  & ENSG00000121741 & ENSG00000121743 & ENSG00000121742 & ENSG00000032742 & ENSG00000150457 & ENSG00000150459 & ENSG00000102678 & ENSG00000127863 & ENSG00000228741 & ENSG00000102699\\\\\n",
       "  & <dbl> & <dbl> & <dbl> & <dbl> & <dbl> & <dbl> & <dbl> & <dbl> & <dbl> & <dbl>\\\\\n",
       "\\hline\n",
       "\tENSG00000121741 &  1.0000000 & -0.22188490 &  0.28655233 & -0.29098516 &  0.13150986 & -0.16469326 &  0.10857837 & -0.08381103 &  0.11537650 &  0.20402379\\\\\n",
       "\tENSG00000121743 & -0.2218849 &  1.00000000 & -0.10744722 &  0.01719924 &  0.04569570 & -0.07201835 & -0.04281808 &  0.02108838 &  0.04091491 &  0.08729703\\\\\n",
       "\tENSG00000121742 &  0.2865523 & -0.10744722 &  1.00000000 & -0.12306800 & -0.01391817 &  0.09450781 &  0.07516002 &  0.02725667 &  0.04682944 &  0.02888592\\\\\n",
       "\tENSG00000032742 & -0.2909852 &  0.01719924 & -0.12306800 &  1.00000000 & -0.06568635 &  0.22581883 &  0.04330683 &  0.08589275 & -0.05199242 &  0.24303508\\\\\n",
       "\tENSG00000150457 &  0.1315099 &  0.04569570 & -0.01391817 & -0.06568635 &  1.00000000 &  0.01545811 &  0.03153566 & -0.03660881 & -0.02789781 & -0.10716158\\\\\n",
       "\tENSG00000150459 & -0.1646933 & -0.07201835 &  0.09450781 &  0.22581883 &  0.01545811 &  1.00000000 &  0.07763706 &  0.08202611 &  0.11398417 & -0.09139341\\\\\n",
       "\\end{tabular}\n"
      ],
      "text/markdown": [
       "\n",
       "A data.frame: 6 × 10\n",
       "\n",
       "| <!--/--> | ENSG00000121741 &lt;dbl&gt; | ENSG00000121743 &lt;dbl&gt; | ENSG00000121742 &lt;dbl&gt; | ENSG00000032742 &lt;dbl&gt; | ENSG00000150457 &lt;dbl&gt; | ENSG00000150459 &lt;dbl&gt; | ENSG00000102678 &lt;dbl&gt; | ENSG00000127863 &lt;dbl&gt; | ENSG00000228741 &lt;dbl&gt; | ENSG00000102699 &lt;dbl&gt; |\n",
       "|---|---|---|---|---|---|---|---|---|---|---|\n",
       "| ENSG00000121741 |  1.0000000 | -0.22188490 |  0.28655233 | -0.29098516 |  0.13150986 | -0.16469326 |  0.10857837 | -0.08381103 |  0.11537650 |  0.20402379 |\n",
       "| ENSG00000121743 | -0.2218849 |  1.00000000 | -0.10744722 |  0.01719924 |  0.04569570 | -0.07201835 | -0.04281808 |  0.02108838 |  0.04091491 |  0.08729703 |\n",
       "| ENSG00000121742 |  0.2865523 | -0.10744722 |  1.00000000 | -0.12306800 | -0.01391817 |  0.09450781 |  0.07516002 |  0.02725667 |  0.04682944 |  0.02888592 |\n",
       "| ENSG00000032742 | -0.2909852 |  0.01719924 | -0.12306800 |  1.00000000 | -0.06568635 |  0.22581883 |  0.04330683 |  0.08589275 | -0.05199242 |  0.24303508 |\n",
       "| ENSG00000150457 |  0.1315099 |  0.04569570 | -0.01391817 | -0.06568635 |  1.00000000 |  0.01545811 |  0.03153566 | -0.03660881 | -0.02789781 | -0.10716158 |\n",
       "| ENSG00000150459 | -0.1646933 | -0.07201835 |  0.09450781 |  0.22581883 |  0.01545811 |  1.00000000 |  0.07763706 |  0.08202611 |  0.11398417 | -0.09139341 |\n",
       "\n"
      ],
      "text/plain": [
       "                ENSG00000121741 ENSG00000121743 ENSG00000121742 ENSG00000032742\n",
       "ENSG00000121741  1.0000000      -0.22188490      0.28655233     -0.29098516    \n",
       "ENSG00000121743 -0.2218849       1.00000000     -0.10744722      0.01719924    \n",
       "ENSG00000121742  0.2865523      -0.10744722      1.00000000     -0.12306800    \n",
       "ENSG00000032742 -0.2909852       0.01719924     -0.12306800      1.00000000    \n",
       "ENSG00000150457  0.1315099       0.04569570     -0.01391817     -0.06568635    \n",
       "ENSG00000150459 -0.1646933      -0.07201835      0.09450781      0.22581883    \n",
       "                ENSG00000150457 ENSG00000150459 ENSG00000102678 ENSG00000127863\n",
       "ENSG00000121741  0.13150986     -0.16469326      0.10857837     -0.08381103    \n",
       "ENSG00000121743  0.04569570     -0.07201835     -0.04281808      0.02108838    \n",
       "ENSG00000121742 -0.01391817      0.09450781      0.07516002      0.02725667    \n",
       "ENSG00000032742 -0.06568635      0.22581883      0.04330683      0.08589275    \n",
       "ENSG00000150457  1.00000000      0.01545811      0.03153566     -0.03660881    \n",
       "ENSG00000150459  0.01545811      1.00000000      0.07763706      0.08202611    \n",
       "                ENSG00000228741 ENSG00000102699\n",
       "ENSG00000121741  0.11537650      0.20402379    \n",
       "ENSG00000121743  0.04091491      0.08729703    \n",
       "ENSG00000121742  0.04682944      0.02888592    \n",
       "ENSG00000032742 -0.05199242      0.24303508    \n",
       "ENSG00000150457 -0.02789781     -0.10716158    \n",
       "ENSG00000150459  0.11398417     -0.09139341    "
      ]
     },
     "metadata": {},
     "output_type": "display_data"
    }
   ],
   "source": [
    "head(gene_corrs[1:10, 1:10])"
   ]
  },
  {
   "cell_type": "markdown",
   "id": "c5c9ffba-1678-4ce7-8988-4ee03e23bdf2",
   "metadata": {
    "papermill": {
     "duration": 0.006692,
     "end_time": "2022-06-18T11:50:27.219384",
     "exception": false,
     "start_time": "2022-06-18T11:50:27.212692",
     "status": "completed"
    },
    "tags": []
   },
   "source": [
    "# Check positive definiteness"
   ]
  },
  {
   "cell_type": "code",
   "execution_count": 17,
   "id": "178854f5-487a-42e8-82b4-625c1979734a",
   "metadata": {
    "execution": {
     "iopub.execute_input": "2022-06-18T11:50:27.234628Z",
     "iopub.status.busy": "2022-06-18T11:50:27.233557Z",
     "iopub.status.idle": "2022-06-18T11:50:27.252459Z",
     "shell.execute_reply": "2022-06-18T11:50:27.251126Z"
    },
    "papermill": {
     "duration": 0.028783,
     "end_time": "2022-06-18T11:50:27.254898",
     "exception": false,
     "start_time": "2022-06-18T11:50:27.226115",
     "status": "completed"
    },
    "tags": []
   },
   "outputs": [
    {
     "data": {
      "text/html": [
       "'We need to correct the data and make the matrix positive definite'"
      ],
      "text/latex": [
       "'We need to correct the data and make the matrix positive definite'"
      ],
      "text/markdown": [
       "'We need to correct the data and make the matrix positive definite'"
      ],
      "text/plain": [
       "[1] \"We need to correct the data and make the matrix positive definite\""
      ]
     },
     "metadata": {},
     "output_type": "display_data"
    },
    {
     "data": {
      "text/html": [
       "FALSE"
      ],
      "text/latex": [
       "FALSE"
      ],
      "text/markdown": [
       "FALSE"
      ],
      "text/plain": [
       "[1] FALSE"
      ]
     },
     "metadata": {},
     "output_type": "display_data"
    }
   ],
   "source": [
    "is_positive_definite(gene_corrs)"
   ]
  },
  {
   "cell_type": "code",
   "execution_count": 18,
   "id": "58542ade-c80f-42e6-acbf-6464dab70fdb",
   "metadata": {
    "execution": {
     "iopub.execute_input": "2022-06-18T11:50:27.270385Z",
     "iopub.status.busy": "2022-06-18T11:50:27.269245Z",
     "iopub.status.idle": "2022-06-18T11:50:27.285725Z",
     "shell.execute_reply": "2022-06-18T11:50:27.283541Z"
    },
    "papermill": {
     "duration": 0.026279,
     "end_time": "2022-06-18T11:50:27.287915",
     "exception": false,
     "start_time": "2022-06-18T11:50:27.261636",
     "status": "completed"
    },
    "tags": []
   },
   "outputs": [],
   "source": [
    "# see eigenvalues\n",
    "eigenvalues <- eigen(gene_corrs)$values"
   ]
  },
  {
   "cell_type": "code",
   "execution_count": 19,
   "id": "9486e0db-e924-43ab-bb6c-0d997fd38f3d",
   "metadata": {
    "execution": {
     "iopub.execute_input": "2022-06-18T11:50:27.307414Z",
     "iopub.status.busy": "2022-06-18T11:50:27.305992Z",
     "iopub.status.idle": "2022-06-18T11:50:27.340198Z",
     "shell.execute_reply": "2022-06-18T11:50:27.337669Z"
    },
    "papermill": {
     "duration": 0.045951,
     "end_time": "2022-06-18T11:50:27.342368",
     "exception": false,
     "start_time": "2022-06-18T11:50:27.296417",
     "status": "completed"
    },
    "tags": []
   },
   "outputs": [
    {
     "data": {
      "text/html": [
       "3"
      ],
      "text/latex": [
       "3"
      ],
      "text/markdown": [
       "3"
      ],
      "text/plain": [
       "[1] 3"
      ]
     },
     "metadata": {},
     "output_type": "display_data"
    },
    {
     "data": {
      "text/html": [
       "<style>\n",
       ".list-inline {list-style: none; margin:0; padding: 0}\n",
       ".list-inline>li {display: inline-block}\n",
       ".list-inline>li:not(:last-child)::after {content: \"\\00b7\"; padding: 0 .5ex}\n",
       "</style>\n",
       "<ol class=list-inline><li>-0.0414811959307384</li><li>-0.896374838638881</li><li>-1.66502590155587</li></ol>\n"
      ],
      "text/latex": [
       "\\begin{enumerate*}\n",
       "\\item -0.0414811959307384\n",
       "\\item -0.896374838638881\n",
       "\\item -1.66502590155587\n",
       "\\end{enumerate*}\n"
      ],
      "text/markdown": [
       "1. -0.0414811959307384\n",
       "2. -0.896374838638881\n",
       "3. -1.66502590155587\n",
       "\n",
       "\n"
      ],
      "text/plain": [
       "[1] -0.0414812 -0.8963748 -1.6650259"
      ]
     },
     "metadata": {},
     "output_type": "display_data"
    }
   ],
   "source": [
    "nonpositive_eigenvalues <- eigenvalues[eigenvalues <= 0]\n",
    "IRdisplay::display(length(nonpositive_eigenvalues))\n",
    "IRdisplay::display(nonpositive_eigenvalues)"
   ]
  },
  {
   "cell_type": "code",
   "execution_count": 20,
   "id": "410ee452-488f-4518-b93a-2acd608ba99c",
   "metadata": {
    "execution": {
     "iopub.execute_input": "2022-06-18T11:50:27.362131Z",
     "iopub.status.busy": "2022-06-18T11:50:27.360757Z",
     "iopub.status.idle": "2022-06-18T11:50:27.372046Z",
     "shell.execute_reply": "2022-06-18T11:50:27.370858Z"
    },
    "papermill": {
     "duration": 0.02298,
     "end_time": "2022-06-18T11:50:27.374100",
     "exception": false,
     "start_time": "2022-06-18T11:50:27.351120",
     "status": "completed"
    },
    "tags": []
   },
   "outputs": [],
   "source": [
    "if (length(eigenvalues[eigenvalues <= 0]) == 0) { quit() }"
   ]
  },
  {
   "cell_type": "markdown",
   "id": "2d280a82-f231-402d-82ab-9291d395afc1",
   "metadata": {
    "papermill": {
     "duration": 0.016295,
     "end_time": "2022-06-18T11:50:27.397319",
     "exception": false,
     "start_time": "2022-06-18T11:50:27.381024",
     "status": "completed"
    },
    "tags": []
   },
   "source": [
    "# Make matrix positive definite if needed"
   ]
  },
  {
   "cell_type": "code",
   "execution_count": 21,
   "id": "b9037873-4067-4ac6-aa92-e9225a6c9353",
   "metadata": {
    "execution": {
     "iopub.execute_input": "2022-06-18T11:50:27.416816Z",
     "iopub.status.busy": "2022-06-18T11:50:27.415680Z",
     "iopub.status.idle": "2022-06-18T11:50:27.432926Z",
     "shell.execute_reply": "2022-06-18T11:50:27.431702Z"
    },
    "papermill": {
     "duration": 0.028392,
     "end_time": "2022-06-18T11:50:27.434638",
     "exception": false,
     "start_time": "2022-06-18T11:50:27.406246",
     "status": "completed"
    },
    "tags": []
   },
   "outputs": [],
   "source": [
    "gene_corrs_corrected <- CorrectCM(gene_corrs, 1)"
   ]
  },
  {
   "cell_type": "code",
   "execution_count": 22,
   "id": "03c86284-5aac-4f66-86cc-74eb97102a7e",
   "metadata": {
    "execution": {
     "iopub.execute_input": "2022-06-18T11:50:27.451632Z",
     "iopub.status.busy": "2022-06-18T11:50:27.450611Z",
     "iopub.status.idle": "2022-06-18T11:50:27.459892Z",
     "shell.execute_reply": "2022-06-18T11:50:27.458718Z"
    },
    "papermill": {
     "duration": 0.018728,
     "end_time": "2022-06-18T11:50:27.461478",
     "exception": false,
     "start_time": "2022-06-18T11:50:27.442750",
     "status": "completed"
    },
    "tags": []
   },
   "outputs": [],
   "source": [
    "dimnames(gene_corrs_corrected)[[1]] <- rownames(gene_corrs)"
   ]
  },
  {
   "cell_type": "code",
   "execution_count": 23,
   "id": "576e7069-25ff-473d-8158-35b5f2ff212e",
   "metadata": {
    "execution": {
     "iopub.execute_input": "2022-06-18T11:50:27.477864Z",
     "iopub.status.busy": "2022-06-18T11:50:27.476826Z",
     "iopub.status.idle": "2022-06-18T11:50:27.486576Z",
     "shell.execute_reply": "2022-06-18T11:50:27.484376Z"
    },
    "papermill": {
     "duration": 0.020081,
     "end_time": "2022-06-18T11:50:27.488316",
     "exception": false,
     "start_time": "2022-06-18T11:50:27.468235",
     "status": "completed"
    },
    "tags": []
   },
   "outputs": [],
   "source": [
    "dimnames(gene_corrs_corrected)[[2]] <- colnames(gene_corrs)"
   ]
  },
  {
   "cell_type": "code",
   "execution_count": 24,
   "id": "f77d043a-321d-447f-8da5-2503981d3e73",
   "metadata": {
    "execution": {
     "iopub.execute_input": "2022-06-18T11:50:27.504589Z",
     "iopub.status.busy": "2022-06-18T11:50:27.503611Z",
     "iopub.status.idle": "2022-06-18T11:50:27.516866Z",
     "shell.execute_reply": "2022-06-18T11:50:27.515708Z"
    },
    "papermill": {
     "duration": 0.023515,
     "end_time": "2022-06-18T11:50:27.518521",
     "exception": false,
     "start_time": "2022-06-18T11:50:27.495006",
     "status": "completed"
    },
    "tags": []
   },
   "outputs": [],
   "source": [
    "gene_corrs_corrected <- as.data.frame(gene_corrs_corrected)"
   ]
  },
  {
   "cell_type": "code",
   "execution_count": 25,
   "id": "3e844024-f9a2-42a2-bbd0-695cfdbb78f5",
   "metadata": {
    "execution": {
     "iopub.execute_input": "2022-06-18T11:50:27.534764Z",
     "iopub.status.busy": "2022-06-18T11:50:27.533353Z",
     "iopub.status.idle": "2022-06-18T11:50:27.546307Z",
     "shell.execute_reply": "2022-06-18T11:50:27.544884Z"
    },
    "papermill": {
     "duration": 0.02249,
     "end_time": "2022-06-18T11:50:27.548171",
     "exception": false,
     "start_time": "2022-06-18T11:50:27.525681",
     "status": "completed"
    },
    "tags": []
   },
   "outputs": [
    {
     "data": {
      "text/html": [
       "<style>\n",
       ".list-inline {list-style: none; margin:0; padding: 0}\n",
       ".list-inline>li {display: inline-block}\n",
       ".list-inline>li:not(:last-child)::after {content: \"\\00b7\"; padding: 0 .5ex}\n",
       "</style>\n",
       "<ol class=list-inline><li>118</li><li>118</li></ol>\n"
      ],
      "text/latex": [
       "\\begin{enumerate*}\n",
       "\\item 118\n",
       "\\item 118\n",
       "\\end{enumerate*}\n"
      ],
      "text/markdown": [
       "1. 118\n",
       "2. 118\n",
       "\n",
       "\n"
      ],
      "text/plain": [
       "[1] 118 118"
      ]
     },
     "metadata": {},
     "output_type": "display_data"
    }
   ],
   "source": [
    "dim(gene_corrs_corrected)"
   ]
  },
  {
   "cell_type": "markdown",
   "id": "244b6bde-4ca8-46d1-acc7-b4c35b5d3c62",
   "metadata": {
    "papermill": {
     "duration": 0.007321,
     "end_time": "2022-06-18T11:50:27.562584",
     "exception": false,
     "start_time": "2022-06-18T11:50:27.555263",
     "status": "completed"
    },
    "tags": []
   },
   "source": [
    "# Check positive definiteness of corrected matrix"
   ]
  },
  {
   "cell_type": "code",
   "execution_count": 26,
   "id": "0fd5b688-e137-4619-910c-35130d32d600",
   "metadata": {
    "execution": {
     "iopub.execute_input": "2022-06-18T11:50:27.579911Z",
     "iopub.status.busy": "2022-06-18T11:50:27.577659Z",
     "iopub.status.idle": "2022-06-18T11:50:27.614616Z",
     "shell.execute_reply": "2022-06-18T11:50:27.609205Z"
    },
    "papermill": {
     "duration": 0.046133,
     "end_time": "2022-06-18T11:50:27.616069",
     "exception": false,
     "start_time": "2022-06-18T11:50:27.569936",
     "status": "completed"
    },
    "tags": []
   },
   "outputs": [
    {
     "data": {
      "text/html": [
       "'Matrix is already positive definite!'"
      ],
      "text/latex": [
       "'Matrix is already positive definite!'"
      ],
      "text/markdown": [
       "'Matrix is already positive definite!'"
      ],
      "text/plain": [
       "[1] \"Matrix is already positive definite!\""
      ]
     },
     "metadata": {},
     "output_type": "display_data"
    },
    {
     "data": {
      "text/html": [
       "TRUE"
      ],
      "text/latex": [
       "TRUE"
      ],
      "text/markdown": [
       "TRUE"
      ],
      "text/plain": [
       "[1] TRUE"
      ]
     },
     "metadata": {},
     "output_type": "display_data"
    }
   ],
   "source": [
    "is_positive_definite(gene_corrs_corrected)"
   ]
  },
  {
   "cell_type": "code",
   "execution_count": 27,
   "id": "06d23ab8-bebb-474c-be33-dca7e53c1717",
   "metadata": {
    "execution": {
     "iopub.execute_input": "2022-06-18T11:50:27.637900Z",
     "iopub.status.busy": "2022-06-18T11:50:27.636898Z",
     "iopub.status.idle": "2022-06-18T11:50:27.654063Z",
     "shell.execute_reply": "2022-06-18T11:50:27.652215Z"
    },
    "papermill": {
     "duration": 0.029084,
     "end_time": "2022-06-18T11:50:27.655548",
     "exception": false,
     "start_time": "2022-06-18T11:50:27.626464",
     "status": "completed"
    },
    "tags": []
   },
   "outputs": [],
   "source": [
    "# see eigenvalues\n",
    "eigenvalues <- eigen(gene_corrs_corrected)$values"
   ]
  },
  {
   "cell_type": "code",
   "execution_count": 28,
   "id": "ddf8afb8-e0e2-4b4e-876d-12bd6856c1ad",
   "metadata": {
    "execution": {
     "iopub.execute_input": "2022-06-18T11:50:27.670582Z",
     "iopub.status.busy": "2022-06-18T11:50:27.669700Z",
     "iopub.status.idle": "2022-06-18T11:50:27.692296Z",
     "shell.execute_reply": "2022-06-18T11:50:27.690496Z"
    },
    "papermill": {
     "duration": 0.03154,
     "end_time": "2022-06-18T11:50:27.693799",
     "exception": false,
     "start_time": "2022-06-18T11:50:27.662259",
     "status": "completed"
    },
    "tags": []
   },
   "outputs": [
    {
     "data": {
      "text/html": [
       "0"
      ],
      "text/latex": [
       "0"
      ],
      "text/markdown": [
       "0"
      ],
      "text/plain": [
       "[1] 0"
      ]
     },
     "metadata": {},
     "output_type": "display_data"
    },
    {
     "data": {
      "text/html": [],
      "text/latex": [],
      "text/markdown": [],
      "text/plain": [
       "numeric(0)"
      ]
     },
     "metadata": {},
     "output_type": "display_data"
    }
   ],
   "source": [
    "nonpositive_eigenvalues <- eigenvalues[eigenvalues <= 0]\n",
    "IRdisplay::display(length(nonpositive_eigenvalues))\n",
    "IRdisplay::display(nonpositive_eigenvalues)"
   ]
  },
  {
   "cell_type": "code",
   "execution_count": 29,
   "id": "712fd71a-b6ec-4a13-a956-80c99be7f585",
   "metadata": {
    "execution": {
     "iopub.execute_input": "2022-06-18T11:50:27.709575Z",
     "iopub.status.busy": "2022-06-18T11:50:27.708642Z",
     "iopub.status.idle": "2022-06-18T11:50:27.719139Z",
     "shell.execute_reply": "2022-06-18T11:50:27.717076Z"
    },
    "papermill": {
     "duration": 0.019591,
     "end_time": "2022-06-18T11:50:27.720640",
     "exception": false,
     "start_time": "2022-06-18T11:50:27.701049",
     "status": "completed"
    },
    "tags": []
   },
   "outputs": [],
   "source": [
    "stopifnot(length(eigenvalues[eigenvalues <= 0]) == 0)"
   ]
  },
  {
   "cell_type": "code",
   "execution_count": 30,
   "id": "786d6336-3844-40f7-979b-6d6028787f7f",
   "metadata": {
    "execution": {
     "iopub.execute_input": "2022-06-18T11:50:27.736549Z",
     "iopub.status.busy": "2022-06-18T11:50:27.735564Z",
     "iopub.status.idle": "2022-06-18T11:50:27.763344Z",
     "shell.execute_reply": "2022-06-18T11:50:27.762090Z"
    },
    "papermill": {
     "duration": 0.037226,
     "end_time": "2022-06-18T11:50:27.765120",
     "exception": false,
     "start_time": "2022-06-18T11:50:27.727894",
     "status": "completed"
    },
    "tags": []
   },
   "outputs": [
    {
     "data": {
      "text/html": [
       "<table class=\"dataframe\">\n",
       "<caption>A data.frame: 6 × 10</caption>\n",
       "<thead>\n",
       "\t<tr><th></th><th scope=col>ENSG00000121741</th><th scope=col>ENSG00000121743</th><th scope=col>ENSG00000121742</th><th scope=col>ENSG00000032742</th><th scope=col>ENSG00000150457</th><th scope=col>ENSG00000150459</th><th scope=col>ENSG00000102678</th><th scope=col>ENSG00000127863</th><th scope=col>ENSG00000228741</th><th scope=col>ENSG00000102699</th></tr>\n",
       "\t<tr><th></th><th scope=col>&lt;dbl&gt;</th><th scope=col>&lt;dbl&gt;</th><th scope=col>&lt;dbl&gt;</th><th scope=col>&lt;dbl&gt;</th><th scope=col>&lt;dbl&gt;</th><th scope=col>&lt;dbl&gt;</th><th scope=col>&lt;dbl&gt;</th><th scope=col>&lt;dbl&gt;</th><th scope=col>&lt;dbl&gt;</th><th scope=col>&lt;dbl&gt;</th></tr>\n",
       "</thead>\n",
       "<tbody>\n",
       "\t<tr><th scope=row>ENSG00000121741</th><td> 1.0000000</td><td>-0.22188490</td><td> 0.28655233</td><td>-0.29098516</td><td> 0.13150986</td><td>-0.16469326</td><td> 0.10857837</td><td>-0.08381103</td><td> 0.11537650</td><td> 0.20402379</td></tr>\n",
       "\t<tr><th scope=row>ENSG00000121743</th><td>-0.2218849</td><td> 1.00000000</td><td>-0.10744722</td><td> 0.01719924</td><td> 0.04569570</td><td>-0.07201835</td><td>-0.04281808</td><td> 0.02108838</td><td> 0.04091491</td><td> 0.08729703</td></tr>\n",
       "\t<tr><th scope=row>ENSG00000121742</th><td> 0.2865523</td><td>-0.10744722</td><td> 1.00000000</td><td>-0.12306800</td><td>-0.01391817</td><td> 0.09450781</td><td> 0.07516002</td><td> 0.02725667</td><td> 0.04682944</td><td> 0.02888592</td></tr>\n",
       "\t<tr><th scope=row>ENSG00000032742</th><td>-0.2909852</td><td> 0.01719924</td><td>-0.12306800</td><td> 1.00000000</td><td>-0.06568635</td><td> 0.22581883</td><td> 0.04330683</td><td> 0.08589275</td><td>-0.05199242</td><td> 0.24303508</td></tr>\n",
       "\t<tr><th scope=row>ENSG00000150457</th><td> 0.1315099</td><td> 0.04569570</td><td>-0.01391817</td><td>-0.06568635</td><td> 1.00000000</td><td> 0.01545811</td><td> 0.03153566</td><td>-0.03660881</td><td>-0.02789781</td><td>-0.10716158</td></tr>\n",
       "\t<tr><th scope=row>ENSG00000150459</th><td>-0.1646933</td><td>-0.07201835</td><td> 0.09450781</td><td> 0.22581883</td><td> 0.01545811</td><td> 1.00000000</td><td> 0.07763706</td><td> 0.08202611</td><td> 0.11398417</td><td>-0.09139341</td></tr>\n",
       "</tbody>\n",
       "</table>\n"
      ],
      "text/latex": [
       "A data.frame: 6 × 10\n",
       "\\begin{tabular}{r|llllllllll}\n",
       "  & ENSG00000121741 & ENSG00000121743 & ENSG00000121742 & ENSG00000032742 & ENSG00000150457 & ENSG00000150459 & ENSG00000102678 & ENSG00000127863 & ENSG00000228741 & ENSG00000102699\\\\\n",
       "  & <dbl> & <dbl> & <dbl> & <dbl> & <dbl> & <dbl> & <dbl> & <dbl> & <dbl> & <dbl>\\\\\n",
       "\\hline\n",
       "\tENSG00000121741 &  1.0000000 & -0.22188490 &  0.28655233 & -0.29098516 &  0.13150986 & -0.16469326 &  0.10857837 & -0.08381103 &  0.11537650 &  0.20402379\\\\\n",
       "\tENSG00000121743 & -0.2218849 &  1.00000000 & -0.10744722 &  0.01719924 &  0.04569570 & -0.07201835 & -0.04281808 &  0.02108838 &  0.04091491 &  0.08729703\\\\\n",
       "\tENSG00000121742 &  0.2865523 & -0.10744722 &  1.00000000 & -0.12306800 & -0.01391817 &  0.09450781 &  0.07516002 &  0.02725667 &  0.04682944 &  0.02888592\\\\\n",
       "\tENSG00000032742 & -0.2909852 &  0.01719924 & -0.12306800 &  1.00000000 & -0.06568635 &  0.22581883 &  0.04330683 &  0.08589275 & -0.05199242 &  0.24303508\\\\\n",
       "\tENSG00000150457 &  0.1315099 &  0.04569570 & -0.01391817 & -0.06568635 &  1.00000000 &  0.01545811 &  0.03153566 & -0.03660881 & -0.02789781 & -0.10716158\\\\\n",
       "\tENSG00000150459 & -0.1646933 & -0.07201835 &  0.09450781 &  0.22581883 &  0.01545811 &  1.00000000 &  0.07763706 &  0.08202611 &  0.11398417 & -0.09139341\\\\\n",
       "\\end{tabular}\n"
      ],
      "text/markdown": [
       "\n",
       "A data.frame: 6 × 10\n",
       "\n",
       "| <!--/--> | ENSG00000121741 &lt;dbl&gt; | ENSG00000121743 &lt;dbl&gt; | ENSG00000121742 &lt;dbl&gt; | ENSG00000032742 &lt;dbl&gt; | ENSG00000150457 &lt;dbl&gt; | ENSG00000150459 &lt;dbl&gt; | ENSG00000102678 &lt;dbl&gt; | ENSG00000127863 &lt;dbl&gt; | ENSG00000228741 &lt;dbl&gt; | ENSG00000102699 &lt;dbl&gt; |\n",
       "|---|---|---|---|---|---|---|---|---|---|---|\n",
       "| ENSG00000121741 |  1.0000000 | -0.22188490 |  0.28655233 | -0.29098516 |  0.13150986 | -0.16469326 |  0.10857837 | -0.08381103 |  0.11537650 |  0.20402379 |\n",
       "| ENSG00000121743 | -0.2218849 |  1.00000000 | -0.10744722 |  0.01719924 |  0.04569570 | -0.07201835 | -0.04281808 |  0.02108838 |  0.04091491 |  0.08729703 |\n",
       "| ENSG00000121742 |  0.2865523 | -0.10744722 |  1.00000000 | -0.12306800 | -0.01391817 |  0.09450781 |  0.07516002 |  0.02725667 |  0.04682944 |  0.02888592 |\n",
       "| ENSG00000032742 | -0.2909852 |  0.01719924 | -0.12306800 |  1.00000000 | -0.06568635 |  0.22581883 |  0.04330683 |  0.08589275 | -0.05199242 |  0.24303508 |\n",
       "| ENSG00000150457 |  0.1315099 |  0.04569570 | -0.01391817 | -0.06568635 |  1.00000000 |  0.01545811 |  0.03153566 | -0.03660881 | -0.02789781 | -0.10716158 |\n",
       "| ENSG00000150459 | -0.1646933 | -0.07201835 |  0.09450781 |  0.22581883 |  0.01545811 |  1.00000000 |  0.07763706 |  0.08202611 |  0.11398417 | -0.09139341 |\n",
       "\n"
      ],
      "text/plain": [
       "                ENSG00000121741 ENSG00000121743 ENSG00000121742 ENSG00000032742\n",
       "ENSG00000121741  1.0000000      -0.22188490      0.28655233     -0.29098516    \n",
       "ENSG00000121743 -0.2218849       1.00000000     -0.10744722      0.01719924    \n",
       "ENSG00000121742  0.2865523      -0.10744722      1.00000000     -0.12306800    \n",
       "ENSG00000032742 -0.2909852       0.01719924     -0.12306800      1.00000000    \n",
       "ENSG00000150457  0.1315099       0.04569570     -0.01391817     -0.06568635    \n",
       "ENSG00000150459 -0.1646933      -0.07201835      0.09450781      0.22581883    \n",
       "                ENSG00000150457 ENSG00000150459 ENSG00000102678 ENSG00000127863\n",
       "ENSG00000121741  0.13150986     -0.16469326      0.10857837     -0.08381103    \n",
       "ENSG00000121743  0.04569570     -0.07201835     -0.04281808      0.02108838    \n",
       "ENSG00000121742 -0.01391817      0.09450781      0.07516002      0.02725667    \n",
       "ENSG00000032742 -0.06568635      0.22581883      0.04330683      0.08589275    \n",
       "ENSG00000150457  1.00000000      0.01545811      0.03153566     -0.03660881    \n",
       "ENSG00000150459  0.01545811      1.00000000      0.07763706      0.08202611    \n",
       "                ENSG00000228741 ENSG00000102699\n",
       "ENSG00000121741  0.11537650      0.20402379    \n",
       "ENSG00000121743  0.04091491      0.08729703    \n",
       "ENSG00000121742  0.04682944      0.02888592    \n",
       "ENSG00000032742 -0.05199242      0.24303508    \n",
       "ENSG00000150457 -0.02789781     -0.10716158    \n",
       "ENSG00000150459  0.11398417     -0.09139341    "
      ]
     },
     "metadata": {},
     "output_type": "display_data"
    },
    {
     "data": {
      "text/html": [
       "<table class=\"dataframe\">\n",
       "<caption>A data.frame: 6 × 10</caption>\n",
       "<thead>\n",
       "\t<tr><th></th><th scope=col>ENSG00000121741</th><th scope=col>ENSG00000121743</th><th scope=col>ENSG00000121742</th><th scope=col>ENSG00000032742</th><th scope=col>ENSG00000150457</th><th scope=col>ENSG00000150459</th><th scope=col>ENSG00000102678</th><th scope=col>ENSG00000127863</th><th scope=col>ENSG00000228741</th><th scope=col>ENSG00000102699</th></tr>\n",
       "\t<tr><th></th><th scope=col>&lt;dbl&gt;</th><th scope=col>&lt;dbl&gt;</th><th scope=col>&lt;dbl&gt;</th><th scope=col>&lt;dbl&gt;</th><th scope=col>&lt;dbl&gt;</th><th scope=col>&lt;dbl&gt;</th><th scope=col>&lt;dbl&gt;</th><th scope=col>&lt;dbl&gt;</th><th scope=col>&lt;dbl&gt;</th><th scope=col>&lt;dbl&gt;</th></tr>\n",
       "</thead>\n",
       "<tbody>\n",
       "\t<tr><th scope=row>ENSG00000121741</th><td> 1.00000000</td><td>-0.09299443</td><td> 0.142221797</td><td>-0.13037638</td><td> 0.03982904</td><td>-0.076648805</td><td> 0.068653673</td><td>-0.058030071</td><td> 0.051194263</td><td> 0.05572432</td></tr>\n",
       "\t<tr><th scope=row>ENSG00000121743</th><td>-0.09299443</td><td> 1.00000000</td><td>-0.095686038</td><td> 0.04508362</td><td>-0.01147714</td><td>-0.020530275</td><td>-0.036196492</td><td> 0.009276360</td><td>-0.009557806</td><td> 0.01198877</td></tr>\n",
       "\t<tr><th scope=row>ENSG00000121742</th><td> 0.14222180</td><td>-0.09568604</td><td> 1.000000000</td><td>-0.06846617</td><td> 0.01795800</td><td> 0.007002156</td><td> 0.064252273</td><td>-0.008038022</td><td> 0.045895617</td><td> 0.02298963</td></tr>\n",
       "\t<tr><th scope=row>ENSG00000032742</th><td>-0.13037638</td><td> 0.04508362</td><td>-0.068466170</td><td> 1.00000000</td><td>-0.06123325</td><td> 0.094337781</td><td>-0.005689510</td><td> 0.054314875</td><td>-0.029243026</td><td> 0.08524265</td></tr>\n",
       "\t<tr><th scope=row>ENSG00000150457</th><td> 0.03982904</td><td>-0.01147714</td><td> 0.017958000</td><td>-0.06123325</td><td> 1.00000000</td><td>-0.017771527</td><td> 0.003024925</td><td>-0.023375644</td><td> 0.007611270</td><td>-0.04988472</td></tr>\n",
       "\t<tr><th scope=row>ENSG00000150459</th><td>-0.07664880</td><td>-0.02053027</td><td> 0.007002156</td><td> 0.09433778</td><td>-0.01777153</td><td> 1.000000000</td><td> 0.037221997</td><td> 0.053042993</td><td> 0.036397161</td><td>-0.02154999</td></tr>\n",
       "</tbody>\n",
       "</table>\n"
      ],
      "text/latex": [
       "A data.frame: 6 × 10\n",
       "\\begin{tabular}{r|llllllllll}\n",
       "  & ENSG00000121741 & ENSG00000121743 & ENSG00000121742 & ENSG00000032742 & ENSG00000150457 & ENSG00000150459 & ENSG00000102678 & ENSG00000127863 & ENSG00000228741 & ENSG00000102699\\\\\n",
       "  & <dbl> & <dbl> & <dbl> & <dbl> & <dbl> & <dbl> & <dbl> & <dbl> & <dbl> & <dbl>\\\\\n",
       "\\hline\n",
       "\tENSG00000121741 &  1.00000000 & -0.09299443 &  0.142221797 & -0.13037638 &  0.03982904 & -0.076648805 &  0.068653673 & -0.058030071 &  0.051194263 &  0.05572432\\\\\n",
       "\tENSG00000121743 & -0.09299443 &  1.00000000 & -0.095686038 &  0.04508362 & -0.01147714 & -0.020530275 & -0.036196492 &  0.009276360 & -0.009557806 &  0.01198877\\\\\n",
       "\tENSG00000121742 &  0.14222180 & -0.09568604 &  1.000000000 & -0.06846617 &  0.01795800 &  0.007002156 &  0.064252273 & -0.008038022 &  0.045895617 &  0.02298963\\\\\n",
       "\tENSG00000032742 & -0.13037638 &  0.04508362 & -0.068466170 &  1.00000000 & -0.06123325 &  0.094337781 & -0.005689510 &  0.054314875 & -0.029243026 &  0.08524265\\\\\n",
       "\tENSG00000150457 &  0.03982904 & -0.01147714 &  0.017958000 & -0.06123325 &  1.00000000 & -0.017771527 &  0.003024925 & -0.023375644 &  0.007611270 & -0.04988472\\\\\n",
       "\tENSG00000150459 & -0.07664880 & -0.02053027 &  0.007002156 &  0.09433778 & -0.01777153 &  1.000000000 &  0.037221997 &  0.053042993 &  0.036397161 & -0.02154999\\\\\n",
       "\\end{tabular}\n"
      ],
      "text/markdown": [
       "\n",
       "A data.frame: 6 × 10\n",
       "\n",
       "| <!--/--> | ENSG00000121741 &lt;dbl&gt; | ENSG00000121743 &lt;dbl&gt; | ENSG00000121742 &lt;dbl&gt; | ENSG00000032742 &lt;dbl&gt; | ENSG00000150457 &lt;dbl&gt; | ENSG00000150459 &lt;dbl&gt; | ENSG00000102678 &lt;dbl&gt; | ENSG00000127863 &lt;dbl&gt; | ENSG00000228741 &lt;dbl&gt; | ENSG00000102699 &lt;dbl&gt; |\n",
       "|---|---|---|---|---|---|---|---|---|---|---|\n",
       "| ENSG00000121741 |  1.00000000 | -0.09299443 |  0.142221797 | -0.13037638 |  0.03982904 | -0.076648805 |  0.068653673 | -0.058030071 |  0.051194263 |  0.05572432 |\n",
       "| ENSG00000121743 | -0.09299443 |  1.00000000 | -0.095686038 |  0.04508362 | -0.01147714 | -0.020530275 | -0.036196492 |  0.009276360 | -0.009557806 |  0.01198877 |\n",
       "| ENSG00000121742 |  0.14222180 | -0.09568604 |  1.000000000 | -0.06846617 |  0.01795800 |  0.007002156 |  0.064252273 | -0.008038022 |  0.045895617 |  0.02298963 |\n",
       "| ENSG00000032742 | -0.13037638 |  0.04508362 | -0.068466170 |  1.00000000 | -0.06123325 |  0.094337781 | -0.005689510 |  0.054314875 | -0.029243026 |  0.08524265 |\n",
       "| ENSG00000150457 |  0.03982904 | -0.01147714 |  0.017958000 | -0.06123325 |  1.00000000 | -0.017771527 |  0.003024925 | -0.023375644 |  0.007611270 | -0.04988472 |\n",
       "| ENSG00000150459 | -0.07664880 | -0.02053027 |  0.007002156 |  0.09433778 | -0.01777153 |  1.000000000 |  0.037221997 |  0.053042993 |  0.036397161 | -0.02154999 |\n",
       "\n"
      ],
      "text/plain": [
       "                ENSG00000121741 ENSG00000121743 ENSG00000121742 ENSG00000032742\n",
       "ENSG00000121741  1.00000000     -0.09299443      0.142221797    -0.13037638    \n",
       "ENSG00000121743 -0.09299443      1.00000000     -0.095686038     0.04508362    \n",
       "ENSG00000121742  0.14222180     -0.09568604      1.000000000    -0.06846617    \n",
       "ENSG00000032742 -0.13037638      0.04508362     -0.068466170     1.00000000    \n",
       "ENSG00000150457  0.03982904     -0.01147714      0.017958000    -0.06123325    \n",
       "ENSG00000150459 -0.07664880     -0.02053027      0.007002156     0.09433778    \n",
       "                ENSG00000150457 ENSG00000150459 ENSG00000102678 ENSG00000127863\n",
       "ENSG00000121741  0.03982904     -0.076648805     0.068653673    -0.058030071   \n",
       "ENSG00000121743 -0.01147714     -0.020530275    -0.036196492     0.009276360   \n",
       "ENSG00000121742  0.01795800      0.007002156     0.064252273    -0.008038022   \n",
       "ENSG00000032742 -0.06123325      0.094337781    -0.005689510     0.054314875   \n",
       "ENSG00000150457  1.00000000     -0.017771527     0.003024925    -0.023375644   \n",
       "ENSG00000150459 -0.01777153      1.000000000     0.037221997     0.053042993   \n",
       "                ENSG00000228741 ENSG00000102699\n",
       "ENSG00000121741  0.051194263     0.05572432    \n",
       "ENSG00000121743 -0.009557806     0.01198877    \n",
       "ENSG00000121742  0.045895617     0.02298963    \n",
       "ENSG00000032742 -0.029243026     0.08524265    \n",
       "ENSG00000150457  0.007611270    -0.04988472    \n",
       "ENSG00000150459  0.036397161    -0.02154999    "
      ]
     },
     "metadata": {},
     "output_type": "display_data"
    }
   ],
   "source": [
    "# quick and visual comparison of the two matrices\n",
    "IRdisplay::display(head(gene_corrs[1:10, 1:10]))\n",
    "IRdisplay::display(head(gene_corrs_corrected[1:10, 1:10]))"
   ]
  },
  {
   "cell_type": "markdown",
   "id": "c6c40f1a-d153-475a-94eb-c71697ad9d51",
   "metadata": {
    "papermill": {
     "duration": 0.007557,
     "end_time": "2022-06-18T11:50:27.780417",
     "exception": false,
     "start_time": "2022-06-18T11:50:27.772860",
     "status": "completed"
    },
    "tags": []
   },
   "source": [
    "Both matrices should \"look\" similar. We are not interested in perfectly accurate correlation values (they are already inaccurate)."
   ]
  },
  {
   "cell_type": "markdown",
   "id": "bf0f49cb-9c21-4616-8390-bb68d52dae56",
   "metadata": {
    "papermill": {
     "duration": 0.007116,
     "end_time": "2022-06-18T11:50:27.795105",
     "exception": false,
     "start_time": "2022-06-18T11:50:27.787989",
     "status": "completed"
    },
    "tags": []
   },
   "source": [
    "# Save"
   ]
  },
  {
   "cell_type": "code",
   "execution_count": 31,
   "id": "2e58e7f3-a75c-4195-a20e-39e3e3e1cc9a",
   "metadata": {
    "execution": {
     "iopub.execute_input": "2022-06-18T11:50:27.819206Z",
     "iopub.status.busy": "2022-06-18T11:50:27.818263Z",
     "iopub.status.idle": "2022-06-18T11:50:27.845769Z",
     "shell.execute_reply": "2022-06-18T11:50:27.844165Z"
    },
    "papermill": {
     "duration": 0.038918,
     "end_time": "2022-06-18T11:50:27.847546",
     "exception": false,
     "start_time": "2022-06-18T11:50:27.808628",
     "status": "completed"
    },
    "tags": []
   },
   "outputs": [],
   "source": [
    "py_save_object(gene_corrs_corrected, OUTPUT_FILE)"
   ]
  },
  {
   "cell_type": "code",
   "execution_count": null,
   "id": "d8ae4220-2171-460c-9231-cd5219f3fe77",
   "metadata": {
    "papermill": {
     "duration": 0.012927,
     "end_time": "2022-06-18T11:50:27.871668",
     "exception": false,
     "start_time": "2022-06-18T11:50:27.858741",
     "status": "completed"
    },
    "tags": []
   },
   "outputs": [],
   "source": []
  }
 ],
 "metadata": {
  "jupytext": {
   "cell_metadata_filter": "all,-execution,-papermill,-trusted"
  },
  "kernelspec": {
   "display_name": "R",
   "language": "R",
   "name": "ir"
  },
  "language_info": {
   "codemirror_mode": "r",
   "file_extension": ".r",
   "mimetype": "text/x-r-source",
   "name": "R",
   "pygments_lexer": "r",
   "version": "3.6.3"
  },
  "papermill": {
   "default_parameters": {},
   "duration": 5.865588,
   "end_time": "2022-06-18T11:50:27.996375",
   "environment_variables": {},
   "exception": null,
   "input_path": "nbs/15_gsa_gls/12-gene_expr_correlations-adjust.ipynb",
   "output_path": "nbs/15_gsa_gls/gene_corrs/gtex_v8/mashr/12-gene_expr_correlations-adjust-chr13.run.ipynb",
   "parameters": {
    "EQTL_MODEL": "MASHR",
    "REFERENCE_PANEL": "GTEX_V8",
    "chromosome": 13
   },
   "start_time": "2022-06-18T11:50:22.130787",
   "version": "2.3.4"
  }
 },
 "nbformat": 4,
 "nbformat_minor": 5
}
