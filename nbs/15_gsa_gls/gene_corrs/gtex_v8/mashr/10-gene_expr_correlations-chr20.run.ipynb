{
 "cells": [
  {
   "cell_type": "markdown",
   "id": "7a6632fb",
   "metadata": {
    "papermill": {
     "duration": 0.006918,
     "end_time": "2022-06-16T21:28:45.911848",
     "exception": false,
     "start_time": "2022-06-16T21:28:45.904930",
     "status": "completed"
    },
    "tags": []
   },
   "source": [
    "# Description"
   ]
  },
  {
   "cell_type": "markdown",
   "id": "7097c346",
   "metadata": {
    "papermill": {
     "duration": 0.005847,
     "end_time": "2022-06-16T21:28:45.923716",
     "exception": false,
     "start_time": "2022-06-16T21:28:45.917869",
     "status": "completed"
    },
    "tags": []
   },
   "source": [
    "(Please, take a look at the README.md file in this directory for instructions on how to run this notebook)\n",
    "\n",
    "This notebook computes predicted expression correlations between all genes in the MultiPLIER models.\n",
    "\n",
    "It also has a parameter set for papermill to run on a single chromosome to run in parallel (see under `Settings` below).\n",
    "\n",
    "This notebook is not directly run. See README.md."
   ]
  },
  {
   "cell_type": "markdown",
   "id": "c61d8427",
   "metadata": {
    "papermill": {
     "duration": 0.006007,
     "end_time": "2022-06-16T21:28:45.935705",
     "exception": false,
     "start_time": "2022-06-16T21:28:45.929698",
     "status": "completed"
    },
    "tags": []
   },
   "source": [
    "# Modules"
   ]
  },
  {
   "cell_type": "code",
   "execution_count": 1,
   "id": "bbc0234f",
   "metadata": {
    "execution": {
     "iopub.execute_input": "2022-06-16T21:28:45.948972Z",
     "iopub.status.busy": "2022-06-16T21:28:45.948738Z",
     "iopub.status.idle": "2022-06-16T21:28:45.966726Z",
     "shell.execute_reply": "2022-06-16T21:28:45.966257Z"
    },
    "papermill": {
     "duration": 0.026871,
     "end_time": "2022-06-16T21:28:45.968566",
     "exception": false,
     "start_time": "2022-06-16T21:28:45.941695",
     "status": "completed"
    },
    "tags": []
   },
   "outputs": [],
   "source": [
    "%load_ext autoreload\n",
    "%autoreload 2"
   ]
  },
  {
   "cell_type": "code",
   "execution_count": 2,
   "id": "1d5f5a59",
   "metadata": {
    "execution": {
     "iopub.execute_input": "2022-06-16T21:28:45.982309Z",
     "iopub.status.busy": "2022-06-16T21:28:45.982115Z",
     "iopub.status.idle": "2022-06-16T21:28:47.075922Z",
     "shell.execute_reply": "2022-06-16T21:28:47.075342Z"
    },
    "papermill": {
     "duration": 1.102292,
     "end_time": "2022-06-16T21:28:47.077449",
     "exception": false,
     "start_time": "2022-06-16T21:28:45.975157",
     "status": "completed"
    },
    "tags": []
   },
   "outputs": [],
   "source": [
    "from random import sample, seed\n",
    "import warnings\n",
    "from pathlib import Path\n",
    "\n",
    "import numpy as np\n",
    "from scipy.spatial.distance import squareform\n",
    "import pandas as pd\n",
    "from tqdm import tqdm\n",
    "import matplotlib.pyplot as plt\n",
    "import seaborn as sns\n",
    "\n",
    "import conf\n",
    "from entity import Gene"
   ]
  },
  {
   "cell_type": "markdown",
   "id": "1eac24b5",
   "metadata": {
    "papermill": {
     "duration": 0.03645,
     "end_time": "2022-06-16T21:28:47.121159",
     "exception": false,
     "start_time": "2022-06-16T21:28:47.084709",
     "status": "completed"
    },
    "tags": []
   },
   "source": [
    "# Settings"
   ]
  },
  {
   "cell_type": "code",
   "execution_count": 3,
   "id": "ca4560ba",
   "metadata": {
    "execution": {
     "iopub.execute_input": "2022-06-16T21:28:47.134634Z",
     "iopub.status.busy": "2022-06-16T21:28:47.134432Z",
     "iopub.status.idle": "2022-06-16T21:28:47.151980Z",
     "shell.execute_reply": "2022-06-16T21:28:47.151375Z"
    },
    "papermill": {
     "duration": 0.026473,
     "end_time": "2022-06-16T21:28:47.153856",
     "exception": false,
     "start_time": "2022-06-16T21:28:47.127383",
     "status": "completed"
    },
    "tags": [
     "parameters"
    ]
   },
   "outputs": [],
   "source": [
    "# reference panel\n",
    "REFERENCE_PANEL = \"GTEX_V8\"\n",
    "# REFERENCE_PANEL = \"1000G\"\n",
    "\n",
    "# prediction models\n",
    "## mashr\n",
    "EQTL_MODEL = \"MASHR\"\n",
    "EQTL_MODEL_FILES_PREFIX = \"mashr_\"\n",
    "\n",
    "# ## elastic net\n",
    "# EQTL_MODEL = \"ELASTIC_NET\"\n",
    "# EQTL_MODEL_FILES_PREFIX = \"en_\"\n",
    "\n",
    "# make it read the prefix from conf.py\n",
    "EQTL_MODEL_FILES_PREFIX = None\n",
    "\n",
    "# this is the default value used in S-MultiXcan to select the\n",
    "# top principal components of the expression correlation matrix\n",
    "SMULTIXCAN_CONDITION_NUMBER = 30\n",
    "\n",
    "# specifies a single chromosome value\n",
    "# by default, run on all chromosomes\n",
    "chromosome = None"
   ]
  },
  {
   "cell_type": "code",
   "execution_count": 4,
   "id": "d535af51",
   "metadata": {
    "execution": {
     "iopub.execute_input": "2022-06-16T21:28:47.167589Z",
     "iopub.status.busy": "2022-06-16T21:28:47.167105Z",
     "iopub.status.idle": "2022-06-16T21:28:47.183952Z",
     "shell.execute_reply": "2022-06-16T21:28:47.183346Z"
    },
    "papermill": {
     "duration": 0.02543,
     "end_time": "2022-06-16T21:28:47.185555",
     "exception": false,
     "start_time": "2022-06-16T21:28:47.160125",
     "status": "completed"
    },
    "tags": [
     "injected-parameters"
    ]
   },
   "outputs": [],
   "source": [
    "# Parameters\n",
    "chromosome = 20\n",
    "REFERENCE_PANEL = \"GTEX_V8\"\n",
    "EQTL_MODEL = \"MASHR\"\n"
   ]
  },
  {
   "cell_type": "code",
   "execution_count": 5,
   "id": "a089c9ff",
   "metadata": {
    "execution": {
     "iopub.execute_input": "2022-06-16T21:28:47.199121Z",
     "iopub.status.busy": "2022-06-16T21:28:47.198922Z",
     "iopub.status.idle": "2022-06-16T21:28:47.215686Z",
     "shell.execute_reply": "2022-06-16T21:28:47.215090Z"
    },
    "papermill": {
     "duration": 0.025357,
     "end_time": "2022-06-16T21:28:47.217258",
     "exception": false,
     "start_time": "2022-06-16T21:28:47.191901",
     "status": "completed"
    },
    "tags": []
   },
   "outputs": [],
   "source": [
    "if EQTL_MODEL_FILES_PREFIX is None:\n",
    "    EQTL_MODEL_FILES_PREFIX = conf.PHENOMEXCAN[\"PREDICTION_MODELS\"][\n",
    "        f\"{EQTL_MODEL}_PREFIX\"\n",
    "    ]"
   ]
  },
  {
   "cell_type": "code",
   "execution_count": 6,
   "id": "8fe24bef",
   "metadata": {
    "execution": {
     "iopub.execute_input": "2022-06-16T21:28:47.230996Z",
     "iopub.status.busy": "2022-06-16T21:28:47.230797Z",
     "iopub.status.idle": "2022-06-16T21:28:47.251627Z",
     "shell.execute_reply": "2022-06-16T21:28:47.250968Z"
    },
    "papermill": {
     "duration": 0.029509,
     "end_time": "2022-06-16T21:28:47.253257",
     "exception": false,
     "start_time": "2022-06-16T21:28:47.223748",
     "status": "completed"
    },
    "tags": []
   },
   "outputs": [
    {
     "data": {
      "text/plain": [
       "'Using eQTL model: MASHR / mashr_'"
      ]
     },
     "metadata": {},
     "output_type": "display_data"
    }
   ],
   "source": [
    "display(f\"Using eQTL model: {EQTL_MODEL} / {EQTL_MODEL_FILES_PREFIX}\")"
   ]
  },
  {
   "cell_type": "code",
   "execution_count": 7,
   "id": "0230ebcb-2c32-4b95-9292-d9a52038e70d",
   "metadata": {
    "execution": {
     "iopub.execute_input": "2022-06-16T21:28:47.267185Z",
     "iopub.status.busy": "2022-06-16T21:28:47.266990Z",
     "iopub.status.idle": "2022-06-16T21:28:47.283746Z",
     "shell.execute_reply": "2022-06-16T21:28:47.283146Z"
    },
    "papermill": {
     "duration": 0.025521,
     "end_time": "2022-06-16T21:28:47.285314",
     "exception": false,
     "start_time": "2022-06-16T21:28:47.259793",
     "status": "completed"
    },
    "tags": []
   },
   "outputs": [],
   "source": [
    "REFERENCE_PANEL_DIR = conf.PHENOMEXCAN[\"LD_BLOCKS\"][f\"{REFERENCE_PANEL}_GENOTYPE_DIR\"]"
   ]
  },
  {
   "cell_type": "code",
   "execution_count": 8,
   "id": "98c4a159-601d-4a22-a1ab-35bd451c25f9",
   "metadata": {
    "execution": {
     "iopub.execute_input": "2022-06-16T21:28:47.299581Z",
     "iopub.status.busy": "2022-06-16T21:28:47.298991Z",
     "iopub.status.idle": "2022-06-16T21:28:47.317480Z",
     "shell.execute_reply": "2022-06-16T21:28:47.316910Z"
    },
    "papermill": {
     "duration": 0.027204,
     "end_time": "2022-06-16T21:28:47.319086",
     "exception": false,
     "start_time": "2022-06-16T21:28:47.291882",
     "status": "completed"
    },
    "tags": []
   },
   "outputs": [
    {
     "data": {
      "text/plain": [
       "'Using reference panel folder: /opt/data/data/phenomexcan/ld_blocks/reference_panel_gtex_v8'"
      ]
     },
     "metadata": {},
     "output_type": "display_data"
    }
   ],
   "source": [
    "display(f\"Using reference panel folder: {str(REFERENCE_PANEL_DIR)}\")"
   ]
  },
  {
   "cell_type": "code",
   "execution_count": 9,
   "id": "396392dc-0340-4540-9b02-e182b833f909",
   "metadata": {
    "execution": {
     "iopub.execute_input": "2022-06-16T21:28:47.333399Z",
     "iopub.status.busy": "2022-06-16T21:28:47.332919Z",
     "iopub.status.idle": "2022-06-16T21:28:47.350099Z",
     "shell.execute_reply": "2022-06-16T21:28:47.349431Z"
    },
    "papermill": {
     "duration": 0.025979,
     "end_time": "2022-06-16T21:28:47.351687",
     "exception": false,
     "start_time": "2022-06-16T21:28:47.325708",
     "status": "completed"
    },
    "tags": []
   },
   "outputs": [],
   "source": [
    "OUTPUT_DIR_BASE = (\n",
    "    conf.PHENOMEXCAN[\"LD_BLOCKS\"][f\"GENE_CORRS_DIR\"]\n",
    "    / REFERENCE_PANEL.lower()\n",
    "    / EQTL_MODEL.lower()\n",
    ")\n",
    "OUTPUT_DIR_BASE.mkdir(parents=True, exist_ok=True)"
   ]
  },
  {
   "cell_type": "code",
   "execution_count": 10,
   "id": "8942c2d3-e53c-4d63-a0eb-b6fce0574d36",
   "metadata": {
    "execution": {
     "iopub.execute_input": "2022-06-16T21:28:47.374859Z",
     "iopub.status.busy": "2022-06-16T21:28:47.374348Z",
     "iopub.status.idle": "2022-06-16T21:28:47.392427Z",
     "shell.execute_reply": "2022-06-16T21:28:47.391807Z"
    },
    "papermill": {
     "duration": 0.026767,
     "end_time": "2022-06-16T21:28:47.394021",
     "exception": false,
     "start_time": "2022-06-16T21:28:47.367254",
     "status": "completed"
    },
    "tags": []
   },
   "outputs": [
    {
     "data": {
      "text/plain": [
       "'Using output dir base: /opt/data/data/phenomexcan/ld_blocks/gene_corrs/gtex_v8/mashr'"
      ]
     },
     "metadata": {},
     "output_type": "display_data"
    }
   ],
   "source": [
    "display(f\"Using output dir base: {OUTPUT_DIR_BASE}\")"
   ]
  },
  {
   "cell_type": "code",
   "execution_count": 11,
   "id": "408aa590",
   "metadata": {
    "execution": {
     "iopub.execute_input": "2022-06-16T21:28:47.408755Z",
     "iopub.status.busy": "2022-06-16T21:28:47.408149Z",
     "iopub.status.idle": "2022-06-16T21:28:47.424320Z",
     "shell.execute_reply": "2022-06-16T21:28:47.423725Z"
    },
    "papermill": {
     "duration": 0.025268,
     "end_time": "2022-06-16T21:28:47.426129",
     "exception": false,
     "start_time": "2022-06-16T21:28:47.400861",
     "status": "completed"
    },
    "tags": []
   },
   "outputs": [],
   "source": [
    "assert (\n",
    "    chromosome is not None\n",
    "), \"You have to select one chromosome (format: number between 1 and 22)\""
   ]
  },
  {
   "cell_type": "code",
   "execution_count": 12,
   "id": "c1c7dd06-80ff-453c-bcb7-0899edce75da",
   "metadata": {
    "execution": {
     "iopub.execute_input": "2022-06-16T21:28:47.440121Z",
     "iopub.status.busy": "2022-06-16T21:28:47.439927Z",
     "iopub.status.idle": "2022-06-16T21:28:47.456283Z",
     "shell.execute_reply": "2022-06-16T21:28:47.455701Z"
    },
    "papermill": {
     "duration": 0.025129,
     "end_time": "2022-06-16T21:28:47.457873",
     "exception": false,
     "start_time": "2022-06-16T21:28:47.432744",
     "status": "completed"
    },
    "tags": []
   },
   "outputs": [],
   "source": [
    "chromosome = str(chromosome)"
   ]
  },
  {
   "cell_type": "code",
   "execution_count": 13,
   "id": "bc17b84c-9c26-47a5-a3ab-7046e72f3ef4",
   "metadata": {
    "execution": {
     "iopub.execute_input": "2022-06-16T21:28:47.472571Z",
     "iopub.status.busy": "2022-06-16T21:28:47.472049Z",
     "iopub.status.idle": "2022-06-16T21:28:47.490131Z",
     "shell.execute_reply": "2022-06-16T21:28:47.489523Z"
    },
    "papermill": {
     "duration": 0.027062,
     "end_time": "2022-06-16T21:28:47.491671",
     "exception": false,
     "start_time": "2022-06-16T21:28:47.464609",
     "status": "completed"
    },
    "tags": []
   },
   "outputs": [
    {
     "data": {
      "text/plain": [
       "'Working on chromosome 20'"
      ]
     },
     "metadata": {},
     "output_type": "display_data"
    }
   ],
   "source": [
    "display(f\"Working on chromosome {chromosome}\")"
   ]
  },
  {
   "cell_type": "markdown",
   "id": "d2ba085e",
   "metadata": {
    "papermill": {
     "duration": 0.006553,
     "end_time": "2022-06-16T21:28:47.505102",
     "exception": false,
     "start_time": "2022-06-16T21:28:47.498549",
     "status": "completed"
    },
    "tags": []
   },
   "source": [
    "# Load data"
   ]
  },
  {
   "cell_type": "markdown",
   "id": "abcc4b3d",
   "metadata": {
    "papermill": {
     "duration": 0.006485,
     "end_time": "2022-06-16T21:28:47.518418",
     "exception": false,
     "start_time": "2022-06-16T21:28:47.511933",
     "status": "completed"
    },
    "tags": []
   },
   "source": [
    "## MultiPLIER Z"
   ]
  },
  {
   "cell_type": "code",
   "execution_count": 14,
   "id": "c48ef527",
   "metadata": {
    "execution": {
     "iopub.execute_input": "2022-06-16T21:28:47.532950Z",
     "iopub.status.busy": "2022-06-16T21:28:47.532403Z",
     "iopub.status.idle": "2022-06-16T21:28:47.578381Z",
     "shell.execute_reply": "2022-06-16T21:28:47.577838Z"
    },
    "papermill": {
     "duration": 0.05487,
     "end_time": "2022-06-16T21:28:47.579955",
     "exception": false,
     "start_time": "2022-06-16T21:28:47.525085",
     "status": "completed"
    },
    "tags": []
   },
   "outputs": [],
   "source": [
    "multiplier_z_genes = pd.read_pickle(\n",
    "    conf.MULTIPLIER[\"MODEL_Z_MATRIX_FILE\"]\n",
    ").index.tolist()"
   ]
  },
  {
   "cell_type": "code",
   "execution_count": 15,
   "id": "0a4ecbd9",
   "metadata": {
    "execution": {
     "iopub.execute_input": "2022-06-16T21:28:47.594833Z",
     "iopub.status.busy": "2022-06-16T21:28:47.594641Z",
     "iopub.status.idle": "2022-06-16T21:28:47.612010Z",
     "shell.execute_reply": "2022-06-16T21:28:47.611477Z"
    },
    "papermill": {
     "duration": 0.026837,
     "end_time": "2022-06-16T21:28:47.613824",
     "exception": false,
     "start_time": "2022-06-16T21:28:47.586987",
     "status": "completed"
    },
    "tags": []
   },
   "outputs": [
    {
     "data": {
      "text/plain": [
       "6750"
      ]
     },
     "execution_count": 15,
     "metadata": {},
     "output_type": "execute_result"
    }
   ],
   "source": [
    "len(multiplier_z_genes)"
   ]
  },
  {
   "cell_type": "code",
   "execution_count": 16,
   "id": "115e8864",
   "metadata": {
    "execution": {
     "iopub.execute_input": "2022-06-16T21:28:47.628955Z",
     "iopub.status.busy": "2022-06-16T21:28:47.628436Z",
     "iopub.status.idle": "2022-06-16T21:28:47.647356Z",
     "shell.execute_reply": "2022-06-16T21:28:47.646729Z"
    },
    "papermill": {
     "duration": 0.028075,
     "end_time": "2022-06-16T21:28:47.648918",
     "exception": false,
     "start_time": "2022-06-16T21:28:47.620843",
     "status": "completed"
    },
    "tags": []
   },
   "outputs": [
    {
     "data": {
      "text/plain": [
       "['GAS6',\n",
       " 'MMP14',\n",
       " 'DSP',\n",
       " 'MARCKSL1',\n",
       " 'SPARC',\n",
       " 'CTSD',\n",
       " 'EPAS1',\n",
       " 'PALLD',\n",
       " 'PHC2',\n",
       " 'LGALS3BP']"
      ]
     },
     "execution_count": 16,
     "metadata": {},
     "output_type": "execute_result"
    }
   ],
   "source": [
    "multiplier_z_genes[:10]"
   ]
  },
  {
   "cell_type": "markdown",
   "id": "7dcb8db7",
   "metadata": {
    "papermill": {
     "duration": 0.006904,
     "end_time": "2022-06-16T21:28:47.662899",
     "exception": false,
     "start_time": "2022-06-16T21:28:47.655995",
     "status": "completed"
    },
    "tags": []
   },
   "source": [
    "## Get gene objects"
   ]
  },
  {
   "cell_type": "code",
   "execution_count": 17,
   "id": "bb932812",
   "metadata": {
    "execution": {
     "iopub.execute_input": "2022-06-16T21:28:47.677841Z",
     "iopub.status.busy": "2022-06-16T21:28:47.677650Z",
     "iopub.status.idle": "2022-06-16T21:28:47.715671Z",
     "shell.execute_reply": "2022-06-16T21:28:47.715093Z"
    },
    "papermill": {
     "duration": 0.047505,
     "end_time": "2022-06-16T21:28:47.717403",
     "exception": false,
     "start_time": "2022-06-16T21:28:47.669898",
     "status": "completed"
    },
    "tags": []
   },
   "outputs": [],
   "source": [
    "multiplier_gene_obj = {\n",
    "    gene_name: Gene(name=gene_name)\n",
    "    for gene_name in multiplier_z_genes\n",
    "    if gene_name in Gene.GENE_NAME_TO_ID_MAP\n",
    "}"
   ]
  },
  {
   "cell_type": "code",
   "execution_count": 18,
   "id": "39533214",
   "metadata": {
    "execution": {
     "iopub.execute_input": "2022-06-16T21:28:47.732841Z",
     "iopub.status.busy": "2022-06-16T21:28:47.732642Z",
     "iopub.status.idle": "2022-06-16T21:28:47.750912Z",
     "shell.execute_reply": "2022-06-16T21:28:47.750264Z"
    },
    "papermill": {
     "duration": 0.027874,
     "end_time": "2022-06-16T21:28:47.752599",
     "exception": false,
     "start_time": "2022-06-16T21:28:47.724725",
     "status": "completed"
    },
    "tags": []
   },
   "outputs": [
    {
     "data": {
      "text/plain": [
       "6454"
      ]
     },
     "execution_count": 18,
     "metadata": {},
     "output_type": "execute_result"
    }
   ],
   "source": [
    "len(multiplier_gene_obj)"
   ]
  },
  {
   "cell_type": "code",
   "execution_count": 19,
   "id": "9a5d0b84",
   "metadata": {
    "execution": {
     "iopub.execute_input": "2022-06-16T21:28:47.768240Z",
     "iopub.status.busy": "2022-06-16T21:28:47.768045Z",
     "iopub.status.idle": "2022-06-16T21:28:47.786757Z",
     "shell.execute_reply": "2022-06-16T21:28:47.786180Z"
    },
    "papermill": {
     "duration": 0.028442,
     "end_time": "2022-06-16T21:28:47.788440",
     "exception": false,
     "start_time": "2022-06-16T21:28:47.759998",
     "status": "completed"
    },
    "tags": []
   },
   "outputs": [
    {
     "data": {
      "text/plain": [
       "'ENSG00000183087'"
      ]
     },
     "execution_count": 19,
     "metadata": {},
     "output_type": "execute_result"
    }
   ],
   "source": [
    "multiplier_gene_obj[\"GAS6\"].ensembl_id"
   ]
  },
  {
   "cell_type": "code",
   "execution_count": 20,
   "id": "e3ffabc7",
   "metadata": {
    "execution": {
     "iopub.execute_input": "2022-06-16T21:28:47.804155Z",
     "iopub.status.busy": "2022-06-16T21:28:47.803956Z",
     "iopub.status.idle": "2022-06-16T21:28:50.039185Z",
     "shell.execute_reply": "2022-06-16T21:28:50.038600Z"
    },
    "papermill": {
     "duration": 2.24473,
     "end_time": "2022-06-16T21:28:50.040678",
     "exception": false,
     "start_time": "2022-06-16T21:28:47.795948",
     "status": "completed"
    },
    "tags": []
   },
   "outputs": [],
   "source": [
    "_gene_obj = list(multiplier_gene_obj.values())\n",
    "\n",
    "genes_info = pd.DataFrame(\n",
    "    {\n",
    "        \"name\": [g.name for g in _gene_obj],\n",
    "        \"id\": [g.ensembl_id for g in _gene_obj],\n",
    "        \"chr\": [g.chromosome for g in _gene_obj],\n",
    "        \"band\": [g.band for g in _gene_obj],\n",
    "        \"start_position\": [g.get_attribute(\"start_position\") for g in _gene_obj],\n",
    "    }\n",
    ")"
   ]
  },
  {
   "cell_type": "code",
   "execution_count": 21,
   "id": "e23519b8",
   "metadata": {
    "execution": {
     "iopub.execute_input": "2022-06-16T21:28:50.055958Z",
     "iopub.status.busy": "2022-06-16T21:28:50.055768Z",
     "iopub.status.idle": "2022-06-16T21:28:50.073192Z",
     "shell.execute_reply": "2022-06-16T21:28:50.072648Z"
    },
    "papermill": {
     "duration": 0.026709,
     "end_time": "2022-06-16T21:28:50.074837",
     "exception": false,
     "start_time": "2022-06-16T21:28:50.048128",
     "status": "completed"
    },
    "tags": []
   },
   "outputs": [
    {
     "data": {
      "text/plain": [
       "(6454, 5)"
      ]
     },
     "execution_count": 21,
     "metadata": {},
     "output_type": "execute_result"
    }
   ],
   "source": [
    "genes_info.shape"
   ]
  },
  {
   "cell_type": "code",
   "execution_count": 22,
   "id": "0d71881c",
   "metadata": {
    "execution": {
     "iopub.execute_input": "2022-06-16T21:28:50.090401Z",
     "iopub.status.busy": "2022-06-16T21:28:50.090210Z",
     "iopub.status.idle": "2022-06-16T21:28:50.113705Z",
     "shell.execute_reply": "2022-06-16T21:28:50.113146Z"
    },
    "papermill": {
     "duration": 0.033256,
     "end_time": "2022-06-16T21:28:50.115447",
     "exception": false,
     "start_time": "2022-06-16T21:28:50.082191",
     "status": "completed"
    },
    "tags": []
   },
   "outputs": [
    {
     "data": {
      "text/html": [
       "<div>\n",
       "<style scoped>\n",
       "    .dataframe tbody tr th:only-of-type {\n",
       "        vertical-align: middle;\n",
       "    }\n",
       "\n",
       "    .dataframe tbody tr th {\n",
       "        vertical-align: top;\n",
       "    }\n",
       "\n",
       "    .dataframe thead th {\n",
       "        text-align: right;\n",
       "    }\n",
       "</style>\n",
       "<table border=\"1\" class=\"dataframe\">\n",
       "  <thead>\n",
       "    <tr style=\"text-align: right;\">\n",
       "      <th></th>\n",
       "      <th>name</th>\n",
       "      <th>id</th>\n",
       "      <th>chr</th>\n",
       "      <th>band</th>\n",
       "      <th>start_position</th>\n",
       "    </tr>\n",
       "  </thead>\n",
       "  <tbody>\n",
       "    <tr>\n",
       "      <th>0</th>\n",
       "      <td>GAS6</td>\n",
       "      <td>ENSG00000183087</td>\n",
       "      <td>13</td>\n",
       "      <td>13q34</td>\n",
       "      <td>113820549.0</td>\n",
       "    </tr>\n",
       "    <tr>\n",
       "      <th>1</th>\n",
       "      <td>MMP14</td>\n",
       "      <td>ENSG00000157227</td>\n",
       "      <td>14</td>\n",
       "      <td>14q11.2</td>\n",
       "      <td>22836560.0</td>\n",
       "    </tr>\n",
       "    <tr>\n",
       "      <th>2</th>\n",
       "      <td>DSP</td>\n",
       "      <td>ENSG00000096696</td>\n",
       "      <td>6</td>\n",
       "      <td>6p24.3</td>\n",
       "      <td>7541617.0</td>\n",
       "    </tr>\n",
       "    <tr>\n",
       "      <th>3</th>\n",
       "      <td>MARCKSL1</td>\n",
       "      <td>ENSG00000175130</td>\n",
       "      <td>1</td>\n",
       "      <td>1p35.1</td>\n",
       "      <td>32333839.0</td>\n",
       "    </tr>\n",
       "    <tr>\n",
       "      <th>4</th>\n",
       "      <td>SPARC</td>\n",
       "      <td>ENSG00000113140</td>\n",
       "      <td>5</td>\n",
       "      <td>5q33.1</td>\n",
       "      <td>151661096.0</td>\n",
       "    </tr>\n",
       "  </tbody>\n",
       "</table>\n",
       "</div>"
      ],
      "text/plain": [
       "       name               id chr     band  start_position\n",
       "0      GAS6  ENSG00000183087  13    13q34     113820549.0\n",
       "1     MMP14  ENSG00000157227  14  14q11.2      22836560.0\n",
       "2       DSP  ENSG00000096696   6   6p24.3       7541617.0\n",
       "3  MARCKSL1  ENSG00000175130   1   1p35.1      32333839.0\n",
       "4     SPARC  ENSG00000113140   5   5q33.1     151661096.0"
      ]
     },
     "execution_count": 22,
     "metadata": {},
     "output_type": "execute_result"
    }
   ],
   "source": [
    "genes_info.head()"
   ]
  },
  {
   "cell_type": "markdown",
   "id": "c8d1038f",
   "metadata": {
    "papermill": {
     "duration": 0.00736,
     "end_time": "2022-06-16T21:28:50.130404",
     "exception": false,
     "start_time": "2022-06-16T21:28:50.123044",
     "status": "completed"
    },
    "tags": []
   },
   "source": [
    "# Test"
   ]
  },
  {
   "cell_type": "code",
   "execution_count": 23,
   "id": "64993abf",
   "metadata": {
    "execution": {
     "iopub.execute_input": "2022-06-16T21:28:50.146470Z",
     "iopub.status.busy": "2022-06-16T21:28:50.145921Z",
     "iopub.status.idle": "2022-06-16T21:28:50.173191Z",
     "shell.execute_reply": "2022-06-16T21:28:50.172564Z"
    },
    "papermill": {
     "duration": 0.036856,
     "end_time": "2022-06-16T21:28:50.174720",
     "exception": false,
     "start_time": "2022-06-16T21:28:50.137864",
     "status": "completed"
    },
    "tags": []
   },
   "outputs": [
    {
     "data": {
      "text/html": [
       "<div>\n",
       "<style scoped>\n",
       "    .dataframe tbody tr th:only-of-type {\n",
       "        vertical-align: middle;\n",
       "    }\n",
       "\n",
       "    .dataframe tbody tr th {\n",
       "        vertical-align: top;\n",
       "    }\n",
       "\n",
       "    .dataframe thead th {\n",
       "        text-align: right;\n",
       "    }\n",
       "</style>\n",
       "<table border=\"1\" class=\"dataframe\">\n",
       "  <thead>\n",
       "    <tr style=\"text-align: right;\">\n",
       "      <th></th>\n",
       "      <th>name</th>\n",
       "      <th>id</th>\n",
       "      <th>chr</th>\n",
       "      <th>band</th>\n",
       "      <th>start_position</th>\n",
       "    </tr>\n",
       "  </thead>\n",
       "  <tbody>\n",
       "    <tr>\n",
       "      <th>11</th>\n",
       "      <td>TGM2</td>\n",
       "      <td>ENSG00000198959</td>\n",
       "      <td>20</td>\n",
       "      <td>20q11.23</td>\n",
       "      <td>38127385.0</td>\n",
       "    </tr>\n",
       "    <tr>\n",
       "      <th>23</th>\n",
       "      <td>CST3</td>\n",
       "      <td>ENSG00000101439</td>\n",
       "      <td>20</td>\n",
       "      <td>20p11.21</td>\n",
       "      <td>23626706.0</td>\n",
       "    </tr>\n",
       "    <tr>\n",
       "      <th>36</th>\n",
       "      <td>TOMM34</td>\n",
       "      <td>ENSG00000025772</td>\n",
       "      <td>20</td>\n",
       "      <td>20q13.12</td>\n",
       "      <td>44942130.0</td>\n",
       "    </tr>\n",
       "    <tr>\n",
       "      <th>44</th>\n",
       "      <td>PLTP</td>\n",
       "      <td>ENSG00000100979</td>\n",
       "      <td>20</td>\n",
       "      <td>20q13.12</td>\n",
       "      <td>45898621.0</td>\n",
       "    </tr>\n",
       "    <tr>\n",
       "      <th>67</th>\n",
       "      <td>PKIG</td>\n",
       "      <td>ENSG00000168734</td>\n",
       "      <td>20</td>\n",
       "      <td>20q13.12</td>\n",
       "      <td>44531785.0</td>\n",
       "    </tr>\n",
       "    <tr>\n",
       "      <th>...</th>\n",
       "      <td>...</td>\n",
       "      <td>...</td>\n",
       "      <td>...</td>\n",
       "      <td>...</td>\n",
       "      <td>...</td>\n",
       "    </tr>\n",
       "    <tr>\n",
       "      <th>6300</th>\n",
       "      <td>MYL9</td>\n",
       "      <td>ENSG00000101335</td>\n",
       "      <td>20</td>\n",
       "      <td>20q11.23</td>\n",
       "      <td>36541497.0</td>\n",
       "    </tr>\n",
       "    <tr>\n",
       "      <th>6388</th>\n",
       "      <td>EDN3</td>\n",
       "      <td>ENSG00000124205</td>\n",
       "      <td>20</td>\n",
       "      <td>20q13.32</td>\n",
       "      <td>59300443.0</td>\n",
       "    </tr>\n",
       "    <tr>\n",
       "      <th>6393</th>\n",
       "      <td>CSNK2A1</td>\n",
       "      <td>ENSG00000101266</td>\n",
       "      <td>20</td>\n",
       "      <td>20p13</td>\n",
       "      <td>472498.0</td>\n",
       "    </tr>\n",
       "    <tr>\n",
       "      <th>6405</th>\n",
       "      <td>PREX1</td>\n",
       "      <td>ENSG00000124126</td>\n",
       "      <td>20</td>\n",
       "      <td>20q13.13</td>\n",
       "      <td>48624252.0</td>\n",
       "    </tr>\n",
       "    <tr>\n",
       "      <th>6426</th>\n",
       "      <td>SLC13A3</td>\n",
       "      <td>ENSG00000158296</td>\n",
       "      <td>20</td>\n",
       "      <td>20q13.12</td>\n",
       "      <td>46557823.0</td>\n",
       "    </tr>\n",
       "  </tbody>\n",
       "</table>\n",
       "<p>187 rows × 5 columns</p>\n",
       "</div>"
      ],
      "text/plain": [
       "         name               id chr      band  start_position\n",
       "11       TGM2  ENSG00000198959  20  20q11.23      38127385.0\n",
       "23       CST3  ENSG00000101439  20  20p11.21      23626706.0\n",
       "36     TOMM34  ENSG00000025772  20  20q13.12      44942130.0\n",
       "44       PLTP  ENSG00000100979  20  20q13.12      45898621.0\n",
       "67       PKIG  ENSG00000168734  20  20q13.12      44531785.0\n",
       "...       ...              ...  ..       ...             ...\n",
       "6300     MYL9  ENSG00000101335  20  20q11.23      36541497.0\n",
       "6388     EDN3  ENSG00000124205  20  20q13.32      59300443.0\n",
       "6393  CSNK2A1  ENSG00000101266  20     20p13        472498.0\n",
       "6405    PREX1  ENSG00000124126  20  20q13.13      48624252.0\n",
       "6426  SLC13A3  ENSG00000158296  20  20q13.12      46557823.0\n",
       "\n",
       "[187 rows x 5 columns]"
      ]
     },
     "metadata": {},
     "output_type": "display_data"
    }
   ],
   "source": [
    "chromosome_genes_info = genes_info[genes_info[\"chr\"] == chromosome]\n",
    "display(chromosome_genes_info)"
   ]
  },
  {
   "cell_type": "code",
   "execution_count": 24,
   "id": "d2e42726-7de6-46eb-acfc-6323eaa8fae6",
   "metadata": {
    "execution": {
     "iopub.execute_input": "2022-06-16T21:28:50.201991Z",
     "iopub.status.busy": "2022-06-16T21:28:50.201431Z",
     "iopub.status.idle": "2022-06-16T21:28:50.220364Z",
     "shell.execute_reply": "2022-06-16T21:28:50.219753Z"
    },
    "papermill": {
     "duration": 0.039429,
     "end_time": "2022-06-16T21:28:50.221967",
     "exception": false,
     "start_time": "2022-06-16T21:28:50.182538",
     "status": "completed"
    },
    "tags": []
   },
   "outputs": [
    {
     "data": {
      "text/plain": [
       "5"
      ]
     },
     "metadata": {},
     "output_type": "display_data"
    }
   ],
   "source": [
    "seed(0)\n",
    "_gene_list_ids = sample(chromosome_genes_info[\"id\"].tolist(), 5)\n",
    "selected_chromosome_genes_obj = [Gene(ensembl_id=g_id) for g_id in _gene_list_ids]\n",
    "display(len(selected_chromosome_genes_obj))"
   ]
  },
  {
   "cell_type": "code",
   "execution_count": 25,
   "id": "1b355359",
   "metadata": {
    "execution": {
     "iopub.execute_input": "2022-06-16T21:28:50.238868Z",
     "iopub.status.busy": "2022-06-16T21:28:50.238317Z",
     "iopub.status.idle": "2022-06-16T21:28:50.368072Z",
     "shell.execute_reply": "2022-06-16T21:28:50.367270Z"
    },
    "papermill": {
     "duration": 0.139973,
     "end_time": "2022-06-16T21:28:50.369776",
     "exception": false,
     "start_time": "2022-06-16T21:28:50.229803",
     "status": "completed"
    },
    "tags": []
   },
   "outputs": [
    {
     "name": "stdout",
     "output_type": "stream",
     "text": [
      "NTSR1 / CRNKL1: 0.0\n",
      "NTSR1 / ADA: 0.0\n",
      "NTSR1 / FKBP1A: 0.0\n",
      "NTSR1 / PTPN1: 0.0\n",
      "CRNKL1 / ADA: 0.0\n",
      "CRNKL1 / FKBP1A: 0.0\n",
      "CRNKL1 / PTPN1: 0.0\n",
      "ADA / FKBP1A: 0.0\n",
      "ADA / PTPN1: 0.0\n",
      "FKBP1A / PTPN1: 0.0\n"
     ]
    }
   ],
   "source": [
    "for gene_idx1 in range(0, len(selected_chromosome_genes_obj) - 1):\n",
    "    gene_obj1 = selected_chromosome_genes_obj[gene_idx1]\n",
    "\n",
    "    for gene_idx2 in range(gene_idx1 + 1, len(selected_chromosome_genes_obj)):\n",
    "        gene_obj2 = selected_chromosome_genes_obj[gene_idx2]\n",
    "\n",
    "        c = gene_obj1.get_ssm_correlation(\n",
    "            gene_obj2,\n",
    "        )\n",
    "\n",
    "        print(f\"{gene_obj1.name} / {gene_obj2.name}: {c}\")"
   ]
  },
  {
   "cell_type": "markdown",
   "id": "d3843e06",
   "metadata": {
    "papermill": {
     "duration": 0.00749,
     "end_time": "2022-06-16T21:28:50.384877",
     "exception": false,
     "start_time": "2022-06-16T21:28:50.377387",
     "status": "completed"
    },
    "tags": []
   },
   "source": [
    "# Compute correlation per chromosome"
   ]
  },
  {
   "cell_type": "code",
   "execution_count": 26,
   "id": "cb859c15-d1f3-4006-a74c-2b83c0db9611",
   "metadata": {
    "execution": {
     "iopub.execute_input": "2022-06-16T21:28:50.400873Z",
     "iopub.status.busy": "2022-06-16T21:28:50.400684Z",
     "iopub.status.idle": "2022-06-16T21:28:50.418785Z",
     "shell.execute_reply": "2022-06-16T21:28:50.418253Z"
    },
    "papermill": {
     "duration": 0.027833,
     "end_time": "2022-06-16T21:28:50.420274",
     "exception": false,
     "start_time": "2022-06-16T21:28:50.392441",
     "status": "completed"
    },
    "tags": []
   },
   "outputs": [
    {
     "data": {
      "text/plain": [
       "PosixPath('/opt/data/data/phenomexcan/ld_blocks/gene_corrs/gtex_v8/mashr/by_chr/gene_corrs-chr20.pkl')"
      ]
     },
     "metadata": {},
     "output_type": "display_data"
    }
   ],
   "source": [
    "output_dir = OUTPUT_DIR_BASE / \"by_chr\"\n",
    "output_dir.mkdir(exist_ok=True, parents=True)\n",
    "output_file = output_dir / f\"gene_corrs-chr{chromosome}.pkl\"\n",
    "display(output_file)"
   ]
  },
  {
   "cell_type": "code",
   "execution_count": 27,
   "id": "be36d5db-62cd-4b84-ba2f-ab6033cbdb47",
   "metadata": {
    "execution": {
     "iopub.execute_input": "2022-06-16T21:28:50.437515Z",
     "iopub.status.busy": "2022-06-16T21:28:50.436944Z",
     "iopub.status.idle": "2022-06-16T21:28:50.454539Z",
     "shell.execute_reply": "2022-06-16T21:28:50.453916Z"
    },
    "papermill": {
     "duration": 0.028101,
     "end_time": "2022-06-16T21:28:50.456425",
     "exception": false,
     "start_time": "2022-06-16T21:28:50.428324",
     "status": "completed"
    },
    "tags": []
   },
   "outputs": [],
   "source": [
    "if output_file.exists():\n",
    "    warning.warn(\"Output file exists, skipping\")\n",
    "    import sys\n",
    "\n",
    "    sys.exit(1)"
   ]
  },
  {
   "cell_type": "code",
   "execution_count": 28,
   "id": "aa674fe4-6794-4eed-98fa-32b39d1d4ace",
   "metadata": {
    "execution": {
     "iopub.execute_input": "2022-06-16T21:28:50.473607Z",
     "iopub.status.busy": "2022-06-16T21:28:50.473396Z",
     "iopub.status.idle": "2022-06-16T21:28:50.490212Z",
     "shell.execute_reply": "2022-06-16T21:28:50.489608Z"
    },
    "papermill": {
     "duration": 0.027386,
     "end_time": "2022-06-16T21:28:50.491964",
     "exception": false,
     "start_time": "2022-06-16T21:28:50.464578",
     "status": "completed"
    },
    "tags": []
   },
   "outputs": [],
   "source": [
    "warnings.filterwarnings(\"error\")"
   ]
  },
  {
   "cell_type": "code",
   "execution_count": 29,
   "id": "cdbb90a1",
   "metadata": {
    "execution": {
     "iopub.execute_input": "2022-06-16T21:28:50.510018Z",
     "iopub.status.busy": "2022-06-16T21:28:50.509417Z",
     "iopub.status.idle": "2022-06-16T23:42:23.507987Z",
     "shell.execute_reply": "2022-06-16T23:42:23.507366Z"
    },
    "papermill": {
     "duration": 8013.009275,
     "end_time": "2022-06-16T23:42:23.509728",
     "exception": false,
     "start_time": "2022-06-16T21:28:50.500453",
     "status": "completed"
    },
    "tags": []
   },
   "outputs": [
    {
     "name": "stdout",
     "output_type": "stream",
     "text": [
      "Number of genes in chromosome: 187\n",
      "Number of gene combinations: 17391\n"
     ]
    },
    {
     "name": "stderr",
     "output_type": "stream",
     "text": [
      "ENSG00000171700 / ENSG00000125510: 100%|████████████████████| 17391/17391 [2:13:32<00:00,  2.17it/s]"
     ]
    },
    {
     "name": "stdout",
     "output_type": "stream",
     "text": [
      "Min/max values: -0.8948334339759049 / 0.9405034502383512\n"
     ]
    },
    {
     "name": "stderr",
     "output_type": "stream",
     "text": [
      "\n"
     ]
    },
    {
     "data": {
      "text/plain": [
       "PosixPath('/opt/data/data/phenomexcan/ld_blocks/gene_corrs/gtex_v8/mashr/by_chr/gene_corrs-chr20.pkl')"
      ]
     },
     "metadata": {},
     "output_type": "display_data"
    }
   ],
   "source": [
    "# standard checks\n",
    "all_chrs = genes_info[\"chr\"].dropna().unique()\n",
    "assert all_chrs.shape[0] == 22\n",
    "\n",
    "# select chromosome given by the user\n",
    "assert chromosome in all_chrs\n",
    "\n",
    "# run only on the chromosome specified\n",
    "all_chrs = [chromosome]\n",
    "genes_chr = genes_info[genes_info[\"chr\"] == chromosome]\n",
    "\n",
    "# For testing purposes\n",
    "# genes_chr = genes_chr.sample(n=20)\n",
    "\n",
    "print(f\"Number of genes in chromosome: {genes_chr.shape[0]}\", flush=True)\n",
    "\n",
    "# sort genes by starting position to make visualizations better later\n",
    "genes_chr = genes_chr.sort_values(\"start_position\")\n",
    "\n",
    "gene_chr_objs = [Gene(ensembl_id=gene_id) for gene_id in genes_chr[\"id\"]]\n",
    "gene_chr_ids = [g.ensembl_id for g in gene_chr_objs]\n",
    "\n",
    "n = len(gene_chr_objs)\n",
    "n_comb = int(n * (n - 1) / 2.0)\n",
    "print(f\"Number of gene combinations: {n_comb}\", flush=True)\n",
    "\n",
    "gene_corrs = []\n",
    "\n",
    "pbar = tqdm(ncols=100, total=n_comb)\n",
    "i = 0\n",
    "for gene_idx1 in range(0, len(gene_chr_objs) - 1):\n",
    "    gene_obj1 = gene_chr_objs[gene_idx1]\n",
    "\n",
    "    for gene_idx2 in range(gene_idx1 + 1, len(gene_chr_objs)):\n",
    "        gene_obj2 = gene_chr_objs[gene_idx2]\n",
    "\n",
    "        pbar.set_description(f\"{gene_obj1.ensembl_id} / {gene_obj2.ensembl_id}\")\n",
    "\n",
    "        try:\n",
    "            # FIXME: compute the correlation of the sum of squares of the model using all\n",
    "            # the available tissues; this could be problematic because for some results\n",
    "            # (computed on a specific phenotype/GWAS) we might not have all the tissues\n",
    "            # available, which can certainly bias the correlation estimation.\n",
    "            # Since this depends on the GWAS on a specific phenotype, we should ideally have\n",
    "            # one correlation matrix per GWAS. I should look at how we can improve this.\n",
    "            gene_corrs.append(\n",
    "                gene_obj1.get_ssm_correlation(\n",
    "                    other_gene=gene_obj2,\n",
    "                    condition_number=SMULTIXCAN_CONDITION_NUMBER,\n",
    "                    reference_panel=REFERENCE_PANEL,\n",
    "                    model_type=EQTL_MODEL,\n",
    "                )\n",
    "            )\n",
    "        except Warning:\n",
    "            print(\n",
    "                f\"RuntimeWarning for genes {gene_obj1.ensembl_id} and {gene_obj2.ensembl_id}\",\n",
    "                flush=True,\n",
    "            )\n",
    "            import traceback\n",
    "\n",
    "            print(traceback.format_exc(), flush=True)\n",
    "        except Exception as e:\n",
    "            print(\n",
    "                f\"Exception for genes {gene_obj1.ensembl_id} and {gene_obj2.ensembl_id}\",\n",
    "                flush=True,\n",
    "            )\n",
    "            import traceback\n",
    "\n",
    "            print(traceback.format_exc(), flush=True)\n",
    "            gene_corrs.append(np.nan)\n",
    "\n",
    "        pbar.update(1)\n",
    "\n",
    "pbar.close()\n",
    "\n",
    "# testing\n",
    "gene_corrs_flat = pd.Series(gene_corrs)\n",
    "print(f\"Min/max values: {gene_corrs_flat.min()} / {gene_corrs_flat.max()}\")\n",
    "assert gene_corrs_flat.min() >= -1.001\n",
    "assert gene_corrs_flat.max() <= 1.001\n",
    "\n",
    "# save\n",
    "# FIXME: consider saving only the condenced matrix here. See here for\n",
    "# more details: https://github.com/greenelab/phenoplier/pull/38#discussion_r634600813\n",
    "gene_corrs_data = squareform(np.array(gene_corrs, dtype=np.float64))\n",
    "np.fill_diagonal(gene_corrs_data, 1.0)\n",
    "\n",
    "gene_corrs_df = pd.DataFrame(\n",
    "    data=gene_corrs_data,\n",
    "    index=gene_chr_ids,\n",
    "    columns=gene_chr_ids,\n",
    ")\n",
    "\n",
    "output_dir.mkdir(exist_ok=True, parents=True)\n",
    "display(output_file)\n",
    "\n",
    "gene_corrs_df.to_pickle(output_file)"
   ]
  },
  {
   "cell_type": "markdown",
   "id": "faa67b51-5373-470f-aa72-2ded53fa6dfe",
   "metadata": {
    "papermill": {
     "duration": 0.808882,
     "end_time": "2022-06-16T23:42:25.134870",
     "exception": false,
     "start_time": "2022-06-16T23:42:24.325988",
     "status": "completed"
    },
    "tags": []
   },
   "source": [
    "# Testing"
   ]
  },
  {
   "cell_type": "code",
   "execution_count": 30,
   "id": "14f7d046-4b55-4896-a56b-990127bcc388",
   "metadata": {
    "execution": {
     "iopub.execute_input": "2022-06-16T23:42:26.677961Z",
     "iopub.status.busy": "2022-06-16T23:42:26.677763Z",
     "iopub.status.idle": "2022-06-16T23:42:26.698320Z",
     "shell.execute_reply": "2022-06-16T23:42:26.697721Z"
    },
    "papermill": {
     "duration": 0.824064,
     "end_time": "2022-06-16T23:42:26.699782",
     "exception": false,
     "start_time": "2022-06-16T23:42:25.875718",
     "status": "completed"
    },
    "tags": []
   },
   "outputs": [
    {
     "data": {
      "text/plain": [
       "(187, 187)"
      ]
     },
     "execution_count": 30,
     "metadata": {},
     "output_type": "execute_result"
    }
   ],
   "source": [
    "gene_corrs_df.shape"
   ]
  },
  {
   "cell_type": "code",
   "execution_count": 31,
   "id": "c7d15414-3297-4537-a7c6-7588c0baeb75",
   "metadata": {
    "execution": {
     "iopub.execute_input": "2022-06-16T23:42:28.233887Z",
     "iopub.status.busy": "2022-06-16T23:42:28.233695Z",
     "iopub.status.idle": "2022-06-16T23:42:28.265829Z",
     "shell.execute_reply": "2022-06-16T23:42:28.265381Z"
    },
    "papermill": {
     "duration": 0.803429,
     "end_time": "2022-06-16T23:42:28.267139",
     "exception": false,
     "start_time": "2022-06-16T23:42:27.463710",
     "status": "completed"
    },
    "tags": []
   },
   "outputs": [
    {
     "data": {
      "text/html": [
       "<div>\n",
       "<style scoped>\n",
       "    .dataframe tbody tr th:only-of-type {\n",
       "        vertical-align: middle;\n",
       "    }\n",
       "\n",
       "    .dataframe tbody tr th {\n",
       "        vertical-align: top;\n",
       "    }\n",
       "\n",
       "    .dataframe thead th {\n",
       "        text-align: right;\n",
       "    }\n",
       "</style>\n",
       "<table border=\"1\" class=\"dataframe\">\n",
       "  <thead>\n",
       "    <tr style=\"text-align: right;\">\n",
       "      <th></th>\n",
       "      <th>ENSG00000101255</th>\n",
       "      <th>ENSG00000125826</th>\n",
       "      <th>ENSG00000101266</th>\n",
       "      <th>ENSG00000101280</th>\n",
       "      <th>ENSG00000125818</th>\n",
       "      <th>ENSG00000101298</th>\n",
       "      <th>ENSG00000088832</th>\n",
       "      <th>ENSG00000101307</th>\n",
       "      <th>ENSG00000089012</th>\n",
       "      <th>ENSG00000198053</th>\n",
       "      <th>...</th>\n",
       "      <th>ENSG00000092758</th>\n",
       "      <th>ENSG00000101191</th>\n",
       "      <th>ENSG00000101199</th>\n",
       "      <th>ENSG00000243509</th>\n",
       "      <th>ENSG00000203896</th>\n",
       "      <th>ENSG00000101152</th>\n",
       "      <th>ENSG00000198276</th>\n",
       "      <th>ENSG00000101161</th>\n",
       "      <th>ENSG00000171700</th>\n",
       "      <th>ENSG00000125510</th>\n",
       "    </tr>\n",
       "  </thead>\n",
       "  <tbody>\n",
       "    <tr>\n",
       "      <th>ENSG00000101255</th>\n",
       "      <td>1.000000</td>\n",
       "      <td>0.071168</td>\n",
       "      <td>-0.016618</td>\n",
       "      <td>0.125902</td>\n",
       "      <td>0.061632</td>\n",
       "      <td>0.040333</td>\n",
       "      <td>0.065618</td>\n",
       "      <td>-0.083999</td>\n",
       "      <td>0.034171</td>\n",
       "      <td>0.092722</td>\n",
       "      <td>...</td>\n",
       "      <td>0.0</td>\n",
       "      <td>0.0</td>\n",
       "      <td>0.0</td>\n",
       "      <td>0.0</td>\n",
       "      <td>0.0</td>\n",
       "      <td>0.0</td>\n",
       "      <td>0.0</td>\n",
       "      <td>0.0</td>\n",
       "      <td>0.0</td>\n",
       "      <td>0.0</td>\n",
       "    </tr>\n",
       "    <tr>\n",
       "      <th>ENSG00000125826</th>\n",
       "      <td>0.071168</td>\n",
       "      <td>1.000000</td>\n",
       "      <td>-0.049906</td>\n",
       "      <td>0.086156</td>\n",
       "      <td>-0.020074</td>\n",
       "      <td>-0.078420</td>\n",
       "      <td>0.000745</td>\n",
       "      <td>0.451291</td>\n",
       "      <td>-0.072291</td>\n",
       "      <td>-0.094552</td>\n",
       "      <td>...</td>\n",
       "      <td>0.0</td>\n",
       "      <td>0.0</td>\n",
       "      <td>0.0</td>\n",
       "      <td>0.0</td>\n",
       "      <td>0.0</td>\n",
       "      <td>0.0</td>\n",
       "      <td>0.0</td>\n",
       "      <td>0.0</td>\n",
       "      <td>0.0</td>\n",
       "      <td>0.0</td>\n",
       "    </tr>\n",
       "    <tr>\n",
       "      <th>ENSG00000101266</th>\n",
       "      <td>-0.016618</td>\n",
       "      <td>-0.049906</td>\n",
       "      <td>1.000000</td>\n",
       "      <td>-0.152472</td>\n",
       "      <td>-0.102784</td>\n",
       "      <td>-0.093799</td>\n",
       "      <td>-0.120332</td>\n",
       "      <td>-0.057635</td>\n",
       "      <td>-0.079460</td>\n",
       "      <td>-0.058860</td>\n",
       "      <td>...</td>\n",
       "      <td>0.0</td>\n",
       "      <td>0.0</td>\n",
       "      <td>0.0</td>\n",
       "      <td>0.0</td>\n",
       "      <td>0.0</td>\n",
       "      <td>0.0</td>\n",
       "      <td>0.0</td>\n",
       "      <td>0.0</td>\n",
       "      <td>0.0</td>\n",
       "      <td>0.0</td>\n",
       "    </tr>\n",
       "    <tr>\n",
       "      <th>ENSG00000101280</th>\n",
       "      <td>0.125902</td>\n",
       "      <td>0.086156</td>\n",
       "      <td>-0.152472</td>\n",
       "      <td>1.000000</td>\n",
       "      <td>-0.031740</td>\n",
       "      <td>0.071440</td>\n",
       "      <td>-0.046234</td>\n",
       "      <td>0.041680</td>\n",
       "      <td>-0.042592</td>\n",
       "      <td>0.066057</td>\n",
       "      <td>...</td>\n",
       "      <td>0.0</td>\n",
       "      <td>0.0</td>\n",
       "      <td>0.0</td>\n",
       "      <td>0.0</td>\n",
       "      <td>0.0</td>\n",
       "      <td>0.0</td>\n",
       "      <td>0.0</td>\n",
       "      <td>0.0</td>\n",
       "      <td>0.0</td>\n",
       "      <td>0.0</td>\n",
       "    </tr>\n",
       "    <tr>\n",
       "      <th>ENSG00000125818</th>\n",
       "      <td>0.061632</td>\n",
       "      <td>-0.020074</td>\n",
       "      <td>-0.102784</td>\n",
       "      <td>-0.031740</td>\n",
       "      <td>1.000000</td>\n",
       "      <td>0.048097</td>\n",
       "      <td>-0.279730</td>\n",
       "      <td>0.011218</td>\n",
       "      <td>-0.046266</td>\n",
       "      <td>-0.038560</td>\n",
       "      <td>...</td>\n",
       "      <td>0.0</td>\n",
       "      <td>0.0</td>\n",
       "      <td>0.0</td>\n",
       "      <td>0.0</td>\n",
       "      <td>0.0</td>\n",
       "      <td>0.0</td>\n",
       "      <td>0.0</td>\n",
       "      <td>0.0</td>\n",
       "      <td>0.0</td>\n",
       "      <td>0.0</td>\n",
       "    </tr>\n",
       "  </tbody>\n",
       "</table>\n",
       "<p>5 rows × 187 columns</p>\n",
       "</div>"
      ],
      "text/plain": [
       "                 ENSG00000101255  ENSG00000125826  ENSG00000101266  \\\n",
       "ENSG00000101255         1.000000         0.071168        -0.016618   \n",
       "ENSG00000125826         0.071168         1.000000        -0.049906   \n",
       "ENSG00000101266        -0.016618        -0.049906         1.000000   \n",
       "ENSG00000101280         0.125902         0.086156        -0.152472   \n",
       "ENSG00000125818         0.061632        -0.020074        -0.102784   \n",
       "\n",
       "                 ENSG00000101280  ENSG00000125818  ENSG00000101298  \\\n",
       "ENSG00000101255         0.125902         0.061632         0.040333   \n",
       "ENSG00000125826         0.086156        -0.020074        -0.078420   \n",
       "ENSG00000101266        -0.152472        -0.102784        -0.093799   \n",
       "ENSG00000101280         1.000000        -0.031740         0.071440   \n",
       "ENSG00000125818        -0.031740         1.000000         0.048097   \n",
       "\n",
       "                 ENSG00000088832  ENSG00000101307  ENSG00000089012  \\\n",
       "ENSG00000101255         0.065618        -0.083999         0.034171   \n",
       "ENSG00000125826         0.000745         0.451291        -0.072291   \n",
       "ENSG00000101266        -0.120332        -0.057635        -0.079460   \n",
       "ENSG00000101280        -0.046234         0.041680        -0.042592   \n",
       "ENSG00000125818        -0.279730         0.011218        -0.046266   \n",
       "\n",
       "                 ENSG00000198053  ...  ENSG00000092758  ENSG00000101191  \\\n",
       "ENSG00000101255         0.092722  ...              0.0              0.0   \n",
       "ENSG00000125826        -0.094552  ...              0.0              0.0   \n",
       "ENSG00000101266        -0.058860  ...              0.0              0.0   \n",
       "ENSG00000101280         0.066057  ...              0.0              0.0   \n",
       "ENSG00000125818        -0.038560  ...              0.0              0.0   \n",
       "\n",
       "                 ENSG00000101199  ENSG00000243509  ENSG00000203896  \\\n",
       "ENSG00000101255              0.0              0.0              0.0   \n",
       "ENSG00000125826              0.0              0.0              0.0   \n",
       "ENSG00000101266              0.0              0.0              0.0   \n",
       "ENSG00000101280              0.0              0.0              0.0   \n",
       "ENSG00000125818              0.0              0.0              0.0   \n",
       "\n",
       "                 ENSG00000101152  ENSG00000198276  ENSG00000101161  \\\n",
       "ENSG00000101255              0.0              0.0              0.0   \n",
       "ENSG00000125826              0.0              0.0              0.0   \n",
       "ENSG00000101266              0.0              0.0              0.0   \n",
       "ENSG00000101280              0.0              0.0              0.0   \n",
       "ENSG00000125818              0.0              0.0              0.0   \n",
       "\n",
       "                 ENSG00000171700  ENSG00000125510  \n",
       "ENSG00000101255              0.0              0.0  \n",
       "ENSG00000125826              0.0              0.0  \n",
       "ENSG00000101266              0.0              0.0  \n",
       "ENSG00000101280              0.0              0.0  \n",
       "ENSG00000125818              0.0              0.0  \n",
       "\n",
       "[5 rows x 187 columns]"
      ]
     },
     "execution_count": 31,
     "metadata": {},
     "output_type": "execute_result"
    }
   ],
   "source": [
    "gene_corrs_df.head()"
   ]
  },
  {
   "cell_type": "code",
   "execution_count": 32,
   "id": "00583efc-7068-4270-ad1e-4a418e91db96",
   "metadata": {
    "execution": {
     "iopub.execute_input": "2022-06-16T23:42:29.818733Z",
     "iopub.status.busy": "2022-06-16T23:42:29.818556Z",
     "iopub.status.idle": "2022-06-16T23:42:29.839884Z",
     "shell.execute_reply": "2022-06-16T23:42:29.839338Z"
    },
    "papermill": {
     "duration": 0.800967,
     "end_time": "2022-06-16T23:42:29.841224",
     "exception": false,
     "start_time": "2022-06-16T23:42:29.040257",
     "status": "completed"
    },
    "tags": []
   },
   "outputs": [
    {
     "data": {
      "text/plain": [
       "-0.8948334339759049"
      ]
     },
     "metadata": {},
     "output_type": "display_data"
    }
   ],
   "source": [
    "_min_val = gene_corrs_df.min().min()\n",
    "display(_min_val)\n",
    "assert _min_val >= -1.0"
   ]
  },
  {
   "cell_type": "code",
   "execution_count": 33,
   "id": "d04fb2cf-1050-475b-b855-f5f7cc04092b",
   "metadata": {
    "execution": {
     "iopub.execute_input": "2022-06-16T23:42:31.385869Z",
     "iopub.status.busy": "2022-06-16T23:42:31.385679Z",
     "iopub.status.idle": "2022-06-16T23:42:31.405597Z",
     "shell.execute_reply": "2022-06-16T23:42:31.405035Z"
    },
    "papermill": {
     "duration": 0.826444,
     "end_time": "2022-06-16T23:42:31.407075",
     "exception": false,
     "start_time": "2022-06-16T23:42:30.580631",
     "status": "completed"
    },
    "tags": []
   },
   "outputs": [
    {
     "data": {
      "text/plain": [
       "1.0"
      ]
     },
     "metadata": {},
     "output_type": "display_data"
    }
   ],
   "source": [
    "_max_val = gene_corrs_df.max().max()  # this captures the diagonal\n",
    "display(_max_val)\n",
    "assert _max_val <= 1.0"
   ]
  },
  {
   "cell_type": "code",
   "execution_count": 34,
   "id": "96d02c44-1fba-47be-8a93-8f2608420b9c",
   "metadata": {
    "execution": {
     "iopub.execute_input": "2022-06-16T23:42:33.030225Z",
     "iopub.status.busy": "2022-06-16T23:42:33.030035Z",
     "iopub.status.idle": "2022-06-16T23:42:33.047424Z",
     "shell.execute_reply": "2022-06-16T23:42:33.046820Z"
    },
    "papermill": {
     "duration": 0.836282,
     "end_time": "2022-06-16T23:42:33.049002",
     "exception": false,
     "start_time": "2022-06-16T23:42:32.212720",
     "status": "completed"
    },
    "tags": []
   },
   "outputs": [],
   "source": [
    "# check upper triangular values\n",
    "assert len(gene_corrs) == int(genes_chr.shape[0] * (genes_chr.shape[0] - 1) / 2)"
   ]
  },
  {
   "cell_type": "code",
   "execution_count": 35,
   "id": "aaa51627-f4e3-4744-a41f-7d25adcc0a78",
   "metadata": {
    "execution": {
     "iopub.execute_input": "2022-06-16T23:42:34.650061Z",
     "iopub.status.busy": "2022-06-16T23:42:34.649786Z",
     "iopub.status.idle": "2022-06-16T23:42:34.678493Z",
     "shell.execute_reply": "2022-06-16T23:42:34.677617Z"
    },
    "papermill": {
     "duration": 0.824938,
     "end_time": "2022-06-16T23:42:34.680248",
     "exception": false,
     "start_time": "2022-06-16T23:42:33.855310",
     "status": "completed"
    },
    "tags": []
   },
   "outputs": [],
   "source": [
    "gene_corrs = pd.Series(gene_corrs)"
   ]
  },
  {
   "cell_type": "code",
   "execution_count": 36,
   "id": "fe283586-c348-40e0-8841-f6d97bfb021c",
   "metadata": {
    "execution": {
     "iopub.execute_input": "2022-06-16T23:42:36.243206Z",
     "iopub.status.busy": "2022-06-16T23:42:36.242997Z",
     "iopub.status.idle": "2022-06-16T23:42:36.265925Z",
     "shell.execute_reply": "2022-06-16T23:42:36.265153Z"
    },
    "papermill": {
     "duration": 0.839772,
     "end_time": "2022-06-16T23:42:36.267470",
     "exception": false,
     "start_time": "2022-06-16T23:42:35.427698",
     "status": "completed"
    },
    "tags": []
   },
   "outputs": [
    {
     "data": {
      "text/plain": [
       "count    17391.000000\n",
       "mean         0.000136\n",
       "std          0.065686\n",
       "min         -0.894833\n",
       "25%          0.000000\n",
       "50%          0.000000\n",
       "75%          0.000000\n",
       "max          0.940503\n",
       "dtype: float64"
      ]
     },
     "execution_count": 36,
     "metadata": {},
     "output_type": "execute_result"
    }
   ],
   "source": [
    "gene_corrs.describe()"
   ]
  },
  {
   "cell_type": "code",
   "execution_count": 37,
   "id": "b3815678-0f93-4b35-897b-a9d047a2aa78",
   "metadata": {
    "execution": {
     "iopub.execute_input": "2022-06-16T23:42:37.845423Z",
     "iopub.status.busy": "2022-06-16T23:42:37.845228Z",
     "iopub.status.idle": "2022-06-16T23:42:37.867005Z",
     "shell.execute_reply": "2022-06-16T23:42:37.866355Z"
    },
    "papermill": {
     "duration": 0.789431,
     "end_time": "2022-06-16T23:42:37.868538",
     "exception": false,
     "start_time": "2022-06-16T23:42:37.079107",
     "status": "completed"
    },
    "tags": []
   },
   "outputs": [
    {
     "data": {
      "text/plain": [
       "0.00   -0.894833\n",
       "0.05   -0.057807\n",
       "0.10    0.000000\n",
       "0.15    0.000000\n",
       "0.20    0.000000\n",
       "0.25    0.000000\n",
       "0.30    0.000000\n",
       "0.35    0.000000\n",
       "0.40    0.000000\n",
       "0.45    0.000000\n",
       "0.50    0.000000\n",
       "0.55    0.000000\n",
       "0.60    0.000000\n",
       "0.65    0.000000\n",
       "0.70    0.000000\n",
       "0.75    0.000000\n",
       "0.80    0.000000\n",
       "0.85    0.000000\n",
       "0.90    0.000000\n",
       "0.95    0.062692\n",
       "dtype: float64"
      ]
     },
     "metadata": {},
     "output_type": "display_data"
    }
   ],
   "source": [
    "gene_corrs_quantiles = gene_corrs.quantile(np.arange(0, 1, 0.05))\n",
    "display(gene_corrs_quantiles)"
   ]
  },
  {
   "cell_type": "markdown",
   "id": "8e60a080-edb2-4e9c-b2ef-22961693200c",
   "metadata": {
    "papermill": {
     "duration": 0.818345,
     "end_time": "2022-06-16T23:42:39.480940",
     "exception": false,
     "start_time": "2022-06-16T23:42:38.662595",
     "status": "completed"
    },
    "tags": []
   },
   "source": [
    "## Plot: distribution"
   ]
  },
  {
   "cell_type": "code",
   "execution_count": 38,
   "id": "8301126b-a7d4-4744-9c7d-f0f86eb6f54c",
   "metadata": {
    "execution": {
     "iopub.execute_input": "2022-06-16T23:42:41.070028Z",
     "iopub.status.busy": "2022-06-16T23:42:41.068710Z",
     "iopub.status.idle": "2022-06-16T23:42:41.497688Z",
     "shell.execute_reply": "2022-06-16T23:42:41.497184Z"
    },
    "papermill": {
     "duration": 1.200169,
     "end_time": "2022-06-16T23:42:41.499359",
     "exception": false,
     "start_time": "2022-06-16T23:42:40.299190",
     "status": "completed"
    },
    "tags": []
   },
   "outputs": [
    {
     "data": {
      "image/png": "[encoded data removed]",
      "text/plain": [
       "<Figure size 504x504 with 1 Axes>"
      ]
     },
     "metadata": {
      "needs_background": "light"
     },
     "output_type": "display_data"
    }
   ],
   "source": [
    "with sns.plotting_context(\"paper\", font_scale=1.5):\n",
    "    g = sns.displot(gene_corrs, kde=True, height=7)\n",
    "    g.ax.set_title(\n",
    "        f\"Distribution of gene correlation values in chromosome {chromosome}\"\n",
    "    )"
   ]
  },
  {
   "cell_type": "markdown",
   "id": "cbd52bca-d878-4a2f-b684-5c83aa3038d4",
   "metadata": {
    "papermill": {
     "duration": 0.85095,
     "end_time": "2022-06-16T23:42:43.197739",
     "exception": false,
     "start_time": "2022-06-16T23:42:42.346789",
     "status": "completed"
    },
    "tags": []
   },
   "source": [
    "## Plot: heatmap"
   ]
  },
  {
   "cell_type": "code",
   "execution_count": 39,
   "id": "d03fe63a-c7b2-4fb9-a53c-db362ce843c9",
   "metadata": {
    "execution": {
     "iopub.execute_input": "2022-06-16T23:42:44.844266Z",
     "iopub.status.busy": "2022-06-16T23:42:44.844073Z",
     "iopub.status.idle": "2022-06-16T23:42:44.863819Z",
     "shell.execute_reply": "2022-06-16T23:42:44.863224Z"
    },
    "papermill": {
     "duration": 0.836278,
     "end_time": "2022-06-16T23:42:44.865290",
     "exception": false,
     "start_time": "2022-06-16T23:42:44.029012",
     "status": "completed"
    },
    "tags": []
   },
   "outputs": [
    {
     "data": {
      "text/plain": [
       "'-0.05 / 0.05'"
      ]
     },
     "metadata": {},
     "output_type": "display_data"
    }
   ],
   "source": [
    "vmin_val = min(-0.05, gene_corrs_quantiles[0.10])\n",
    "vmax_val = max(0.05, gene_corrs_quantiles[0.90])\n",
    "display(f\"{vmin_val} / {vmax_val}\")"
   ]
  },
  {
   "cell_type": "code",
   "execution_count": 40,
   "id": "dc41b70b-5bcc-4d9e-9f33-a22c4a94dab5",
   "metadata": {
    "execution": {
     "iopub.execute_input": "2022-06-16T23:42:46.418358Z",
     "iopub.status.busy": "2022-06-16T23:42:46.418063Z",
     "iopub.status.idle": "2022-06-16T23:42:46.607763Z",
     "shell.execute_reply": "2022-06-16T23:42:46.607149Z"
    },
    "papermill": {
     "duration": 0.994593,
     "end_time": "2022-06-16T23:42:46.609315",
     "exception": false,
     "start_time": "2022-06-16T23:42:45.614722",
     "status": "completed"
    },
    "tags": []
   },
   "outputs": [
    {
     "data": {
      "text/plain": [
       "Text(0.5, 1.0, 'Gene correlations in chromosome 20')"
      ]
     },
     "execution_count": 40,
     "metadata": {},
     "output_type": "execute_result"
    },
    {
     "data": {
      "image/png": "[encoded data removed]",
      "text/plain": [
       "<Figure size 720x720 with 2 Axes>"
      ]
     },
     "metadata": {
      "needs_background": "light"
     },
     "output_type": "display_data"
    }
   ],
   "source": [
    "f, ax = plt.subplots(figsize=(10, 10))\n",
    "sns.heatmap(\n",
    "    gene_corrs_df,\n",
    "    xticklabels=False,\n",
    "    yticklabels=False,\n",
    "    square=True,\n",
    "    vmin=vmin_val,\n",
    "    vmax=vmax_val,\n",
    "    cmap=\"YlGnBu\",\n",
    "    ax=ax,\n",
    ")\n",
    "ax.set_title(f\"Gene correlations in chromosome {chromosome}\")"
   ]
  },
  {
   "cell_type": "code",
   "execution_count": null,
   "id": "b25e3ead",
   "metadata": {
    "papermill": {
     "duration": 0.807352,
     "end_time": "2022-06-16T23:42:48.218907",
     "exception": false,
     "start_time": "2022-06-16T23:42:47.411555",
     "status": "completed"
    },
    "tags": []
   },
   "outputs": [],
   "source": []
  }
 ],
 "metadata": {
  "jupytext": {
   "cell_metadata_filter": "all,-execution,-papermill,-trusted",
   "formats": "ipynb,py//py:percent"
  },
  "kernelspec": {
   "display_name": "Python 3 (ipykernel)",
   "language": "python",
   "name": "python3"
  },
  "language_info": {
   "codemirror_mode": {
    "name": "ipython",
    "version": 3
   },
   "file_extension": ".py",
   "mimetype": "text/x-python",
   "name": "python",
   "nbconvert_exporter": "python",
   "pygments_lexer": "ipython3",
   "version": "3.8.13"
  },
  "papermill": {
   "default_parameters": {},
   "duration": 8047.419633,
   "end_time": "2022-06-16T23:42:52.006883",
   "environment_variables": {},
   "exception": null,
   "input_path": "nbs/15_gsa_gls/10-gene_expr_correlations.ipynb",
   "output_path": "nbs/15_gsa_gls/gene_corrs/gtex_v8/mashr/10-gene_expr_correlations-chr20.run.ipynb",
   "parameters": {
    "EQTL_MODEL": "MASHR",
    "REFERENCE_PANEL": "GTEX_V8",
    "chromosome": 20
   },
   "start_time": "2022-06-16T21:28:44.587250",
   "version": "2.2.2"
  }
 },
 "nbformat": 4,
 "nbformat_minor": 5
}
