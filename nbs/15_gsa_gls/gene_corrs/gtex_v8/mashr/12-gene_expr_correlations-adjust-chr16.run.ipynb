{
 "cells": [
  {
   "cell_type": "markdown",
   "id": "6c1f0ae4-cd27-4fec-a23d-51699e7059e8",
   "metadata": {
    "papermill": {
     "duration": 0.004964,
     "end_time": "2022-06-18T11:50:30.614917",
     "exception": false,
     "start_time": "2022-06-18T11:50:30.609953",
     "status": "completed"
    },
    "tags": []
   },
   "source": [
    "# Description"
   ]
  },
  {
   "cell_type": "markdown",
   "id": "3268a19a-8a83-4f61-aa39-09b084c81d61",
   "metadata": {
    "papermill": {
     "duration": 0.004477,
     "end_time": "2022-06-18T11:50:30.623974",
     "exception": false,
     "start_time": "2022-06-18T11:50:30.619497",
     "status": "completed"
    },
    "tags": []
   },
   "source": [
    "**TODO**"
   ]
  },
  {
   "cell_type": "markdown",
   "id": "401368d3-22c1-4d81-a2c3-c4a81fde4191",
   "metadata": {
    "papermill": {
     "duration": 0.004394,
     "end_time": "2022-06-18T11:50:30.632904",
     "exception": false,
     "start_time": "2022-06-18T11:50:30.628510",
     "status": "completed"
    },
    "tags": []
   },
   "source": [
    "# Modules"
   ]
  },
  {
   "cell_type": "code",
   "execution_count": 1,
   "id": "f9b5022b-7c5e-4d37-9c7a-fdb91777c7f9",
   "metadata": {
    "execution": {
     "iopub.execute_input": "2022-06-18T11:50:30.670550Z",
     "iopub.status.busy": "2022-06-18T11:50:30.668674Z",
     "iopub.status.idle": "2022-06-18T11:50:33.975677Z",
     "shell.execute_reply": "2022-06-18T11:50:33.974470Z"
    },
    "papermill": {
     "duration": 3.340051,
     "end_time": "2022-06-18T11:50:33.977405",
     "exception": false,
     "start_time": "2022-06-18T11:50:30.637354",
     "status": "completed"
    },
    "tags": []
   },
   "outputs": [],
   "source": [
    "library(reticulate)\n",
    "pd <- import(\"pandas\")"
   ]
  },
  {
   "cell_type": "markdown",
   "id": "c1958d6a-0229-47e8-823e-792fcf84fccf",
   "metadata": {
    "papermill": {
     "duration": 0.004549,
     "end_time": "2022-06-18T11:50:33.986926",
     "exception": false,
     "start_time": "2022-06-18T11:50:33.982377",
     "status": "completed"
    },
    "tags": []
   },
   "source": [
    "# Settings"
   ]
  },
  {
   "cell_type": "code",
   "execution_count": 2,
   "id": "22d12bb4-1699-4a6b-b1b9-d3fdd3d547d7",
   "metadata": {
    "execution": {
     "iopub.execute_input": "2022-06-18T11:50:34.019050Z",
     "iopub.status.busy": "2022-06-18T11:50:33.997052Z",
     "iopub.status.idle": "2022-06-18T11:50:34.030616Z",
     "shell.execute_reply": "2022-06-18T11:50:34.029505Z"
    },
    "papermill": {
     "duration": 0.040838,
     "end_time": "2022-06-18T11:50:34.032319",
     "exception": false,
     "start_time": "2022-06-18T11:50:33.991481",
     "status": "completed"
    },
    "tags": [
     "parameters"
    ]
   },
   "outputs": [],
   "source": [
    "# reference panel\n",
    "REFERENCE_PANEL <- \"GTEX_V8\"\n",
    "# REFERENCE_PANEL = \"1000G\"\n",
    "\n",
    "# prediction models\n",
    "## mashr\n",
    "EQTL_MODEL <- \"MASHR\"\n",
    "\n",
    "# ## elastic net\n",
    "# EQTL_MODEL = \"ELASTIC_NET\"\n",
    "\n",
    "chromosome <- NULL"
   ]
  },
  {
   "cell_type": "code",
   "execution_count": 3,
   "id": "b34246ec",
   "metadata": {
    "execution": {
     "iopub.execute_input": "2022-06-18T11:50:34.043802Z",
     "iopub.status.busy": "2022-06-18T11:50:34.042756Z",
     "iopub.status.idle": "2022-06-18T11:50:34.060400Z",
     "shell.execute_reply": "2022-06-18T11:50:34.059160Z"
    },
    "papermill": {
     "duration": 0.025028,
     "end_time": "2022-06-18T11:50:34.062122",
     "exception": false,
     "start_time": "2022-06-18T11:50:34.037094",
     "status": "completed"
    },
    "tags": [
     "injected-parameters"
    ]
   },
   "outputs": [],
   "source": [
    "# Parameters\n",
    "chromosome = 16\n",
    "REFERENCE_PANEL = \"GTEX_V8\"\n",
    "EQTL_MODEL = \"MASHR\"\n"
   ]
  },
  {
   "cell_type": "code",
   "execution_count": 4,
   "id": "8fe24bef",
   "metadata": {
    "execution": {
     "iopub.execute_input": "2022-06-18T11:50:34.074287Z",
     "iopub.status.busy": "2022-06-18T11:50:34.073255Z",
     "iopub.status.idle": "2022-06-18T11:50:34.086395Z",
     "shell.execute_reply": "2022-06-18T11:50:34.085123Z"
    },
    "papermill": {
     "duration": 0.020974,
     "end_time": "2022-06-18T11:50:34.088260",
     "exception": false,
     "start_time": "2022-06-18T11:50:34.067286",
     "status": "completed"
    },
    "tags": []
   },
   "outputs": [
    {
     "data": {
      "text/html": [
       "'Using reference panel: GTEX_V8'"
      ],
      "text/latex": [
       "'Using reference panel: GTEX\\_V8'"
      ],
      "text/markdown": [
       "'Using reference panel: GTEX_V8'"
      ],
      "text/plain": [
       "[1] \"Using reference panel: GTEX_V8\""
      ]
     },
     "metadata": {},
     "output_type": "display_data"
    }
   ],
   "source": [
    "paste0(\"Using reference panel: \", REFERENCE_PANEL)"
   ]
  },
  {
   "cell_type": "code",
   "execution_count": 5,
   "id": "d62c28f8-186c-478b-948c-58e14f00df4b",
   "metadata": {
    "execution": {
     "iopub.execute_input": "2022-06-18T11:50:34.100862Z",
     "iopub.status.busy": "2022-06-18T11:50:34.099824Z",
     "iopub.status.idle": "2022-06-18T11:50:34.111307Z",
     "shell.execute_reply": "2022-06-18T11:50:34.109994Z"
    },
    "papermill": {
     "duration": 0.019378,
     "end_time": "2022-06-18T11:50:34.113077",
     "exception": false,
     "start_time": "2022-06-18T11:50:34.093699",
     "status": "completed"
    },
    "tags": []
   },
   "outputs": [
    {
     "data": {
      "text/html": [
       "'Using eQTL model: MASHR'"
      ],
      "text/latex": [
       "'Using eQTL model: MASHR'"
      ],
      "text/markdown": [
       "'Using eQTL model: MASHR'"
      ],
      "text/plain": [
       "[1] \"Using eQTL model: MASHR\""
      ]
     },
     "metadata": {},
     "output_type": "display_data"
    }
   ],
   "source": [
    "paste0(\"Using eQTL model: \", EQTL_MODEL)"
   ]
  },
  {
   "cell_type": "code",
   "execution_count": 6,
   "id": "5243676f-c889-4405-9a4d-262f0f044614",
   "metadata": {
    "execution": {
     "iopub.execute_input": "2022-06-18T11:50:34.126055Z",
     "iopub.status.busy": "2022-06-18T11:50:34.124896Z",
     "iopub.status.idle": "2022-06-18T11:50:34.134859Z",
     "shell.execute_reply": "2022-06-18T11:50:34.133570Z"
    },
    "papermill": {
     "duration": 0.018222,
     "end_time": "2022-06-18T11:50:34.136699",
     "exception": false,
     "start_time": "2022-06-18T11:50:34.118477",
     "status": "completed"
    },
    "tags": []
   },
   "outputs": [],
   "source": [
    "# chromosome must be provided as parameter\n",
    "stopifnot(!is.null(chromosome))"
   ]
  },
  {
   "cell_type": "markdown",
   "id": "83a49773-bcf5-44c4-8d9b-a6ac65a57ec6",
   "metadata": {
    "papermill": {
     "duration": 0.005227,
     "end_time": "2022-06-18T11:50:34.148014",
     "exception": false,
     "start_time": "2022-06-18T11:50:34.142787",
     "status": "completed"
    },
    "tags": []
   },
   "source": [
    "# Paths"
   ]
  },
  {
   "cell_type": "code",
   "execution_count": 7,
   "id": "eb6aa8aa-b452-4a2f-a780-93dd80ad4285",
   "metadata": {
    "execution": {
     "iopub.execute_input": "2022-06-18T11:50:34.160509Z",
     "iopub.status.busy": "2022-06-18T11:50:34.159394Z",
     "iopub.status.idle": "2022-06-18T11:50:34.173093Z",
     "shell.execute_reply": "2022-06-18T11:50:34.171796Z"
    },
    "papermill": {
     "duration": 0.021699,
     "end_time": "2022-06-18T11:50:34.174944",
     "exception": false,
     "start_time": "2022-06-18T11:50:34.153245",
     "status": "completed"
    },
    "tags": []
   },
   "outputs": [
    {
     "data": {
      "text/html": [
       "'/opt/data/data/phenomexcan/ld_blocks/gene_corrs'"
      ],
      "text/latex": [
       "'/opt/data/data/phenomexcan/ld\\_blocks/gene\\_corrs'"
      ],
      "text/markdown": [
       "'/opt/data/data/phenomexcan/ld_blocks/gene_corrs'"
      ],
      "text/plain": [
       "[1] \"/opt/data/data/phenomexcan/ld_blocks/gene_corrs\""
      ]
     },
     "metadata": {},
     "output_type": "display_data"
    }
   ],
   "source": [
    "GENE_CORRS_DIR <- Sys.getenv(\"PHENOPLIER_PHENOMEXCAN_LD_BLOCKS_GENE_CORRS_DIR\")\n",
    "IRdisplay::display(GENE_CORRS_DIR)"
   ]
  },
  {
   "cell_type": "code",
   "execution_count": 8,
   "id": "eb24f15f-f282-4476-8943-8413c4483f12",
   "metadata": {
    "execution": {
     "iopub.execute_input": "2022-06-18T11:50:34.188504Z",
     "iopub.status.busy": "2022-06-18T11:50:34.187384Z",
     "iopub.status.idle": "2022-06-18T11:50:34.200995Z",
     "shell.execute_reply": "2022-06-18T11:50:34.199698Z"
    },
    "papermill": {
     "duration": 0.022024,
     "end_time": "2022-06-18T11:50:34.202868",
     "exception": false,
     "start_time": "2022-06-18T11:50:34.180844",
     "status": "completed"
    },
    "tags": []
   },
   "outputs": [
    {
     "data": {
      "text/html": [
       "'/opt/data/data/phenomexcan/ld_blocks/gene_corrs/gtex_v8/mashr/by_chr'"
      ],
      "text/latex": [
       "'/opt/data/data/phenomexcan/ld\\_blocks/gene\\_corrs/gtex\\_v8/mashr/by\\_chr'"
      ],
      "text/markdown": [
       "'/opt/data/data/phenomexcan/ld_blocks/gene_corrs/gtex_v8/mashr/by_chr'"
      ],
      "text/plain": [
       "[1] \"/opt/data/data/phenomexcan/ld_blocks/gene_corrs/gtex_v8/mashr/by_chr\""
      ]
     },
     "metadata": {},
     "output_type": "display_data"
    }
   ],
   "source": [
    "INPUT_DIR <- file.path(GENE_CORRS_DIR, tolower(REFERENCE_PANEL), tolower(EQTL_MODEL), \"by_chr\")\n",
    "IRdisplay::display(INPUT_DIR)"
   ]
  },
  {
   "cell_type": "code",
   "execution_count": 9,
   "id": "43c1daba-0da9-4822-8d1e-968e9767e251",
   "metadata": {
    "execution": {
     "iopub.execute_input": "2022-06-18T11:50:34.217233Z",
     "iopub.status.busy": "2022-06-18T11:50:34.216163Z",
     "iopub.status.idle": "2022-06-18T11:50:34.231153Z",
     "shell.execute_reply": "2022-06-18T11:50:34.229907Z"
    },
    "papermill": {
     "duration": 0.024246,
     "end_time": "2022-06-18T11:50:34.232988",
     "exception": false,
     "start_time": "2022-06-18T11:50:34.208742",
     "status": "completed"
    },
    "tags": []
   },
   "outputs": [
    {
     "data": {
      "text/html": [
       "'/opt/data/data/phenomexcan/ld_blocks/gene_corrs/gtex_v8/mashr/by_chr/gene_corrs-chr16.pkl'"
      ],
      "text/latex": [
       "'/opt/data/data/phenomexcan/ld\\_blocks/gene\\_corrs/gtex\\_v8/mashr/by\\_chr/gene\\_corrs-chr16.pkl'"
      ],
      "text/markdown": [
       "'/opt/data/data/phenomexcan/ld_blocks/gene_corrs/gtex_v8/mashr/by_chr/gene_corrs-chr16.pkl'"
      ],
      "text/plain": [
       "[1] \"/opt/data/data/phenomexcan/ld_blocks/gene_corrs/gtex_v8/mashr/by_chr/gene_corrs-chr16.pkl\""
      ]
     },
     "metadata": {},
     "output_type": "display_data"
    }
   ],
   "source": [
    "INPUT_FILE <- file.path(INPUT_DIR, paste0(\"gene_corrs-chr\", chromosome, \".pkl\"))\n",
    "IRdisplay::display(INPUT_FILE)\n",
    "stopifnot(file.exists(INPUT_FILE))"
   ]
  },
  {
   "cell_type": "code",
   "execution_count": 10,
   "id": "72386fbf-982b-420a-9057-ea9a97a5e571",
   "metadata": {
    "execution": {
     "iopub.execute_input": "2022-06-18T11:50:34.246646Z",
     "iopub.status.busy": "2022-06-18T11:50:34.245592Z",
     "iopub.status.idle": "2022-06-18T11:50:34.259821Z",
     "shell.execute_reply": "2022-06-18T11:50:34.258616Z"
    },
    "papermill": {
     "duration": 0.022672,
     "end_time": "2022-06-18T11:50:34.261573",
     "exception": false,
     "start_time": "2022-06-18T11:50:34.238901",
     "status": "completed"
    },
    "tags": []
   },
   "outputs": [
    {
     "data": {
      "text/html": [
       "'/opt/data/data/phenomexcan/ld_blocks/gene_corrs/gtex_v8/mashr/by_chr/corrected_positive_definite'"
      ],
      "text/latex": [
       "'/opt/data/data/phenomexcan/ld\\_blocks/gene\\_corrs/gtex\\_v8/mashr/by\\_chr/corrected\\_positive\\_definite'"
      ],
      "text/markdown": [
       "'/opt/data/data/phenomexcan/ld_blocks/gene_corrs/gtex_v8/mashr/by_chr/corrected_positive_definite'"
      ],
      "text/plain": [
       "[1] \"/opt/data/data/phenomexcan/ld_blocks/gene_corrs/gtex_v8/mashr/by_chr/corrected_positive_definite\""
      ]
     },
     "metadata": {},
     "output_type": "display_data"
    }
   ],
   "source": [
    "OUTPUT_DIR <- file.path(INPUT_DIR, \"corrected_positive_definite\")\n",
    "IRdisplay::display(OUTPUT_DIR)\n",
    "dir.create(OUTPUT_DIR, recursive = TRUE, showWarnings = FALSE)"
   ]
  },
  {
   "cell_type": "code",
   "execution_count": 11,
   "id": "f9f19d1d-ce4c-4099-a26e-250fec751de7",
   "metadata": {
    "execution": {
     "iopub.execute_input": "2022-06-18T11:50:34.275099Z",
     "iopub.status.busy": "2022-06-18T11:50:34.274033Z",
     "iopub.status.idle": "2022-06-18T11:50:34.294298Z",
     "shell.execute_reply": "2022-06-18T11:50:34.289904Z"
    },
    "papermill": {
     "duration": 0.028921,
     "end_time": "2022-06-18T11:50:34.296272",
     "exception": false,
     "start_time": "2022-06-18T11:50:34.267351",
     "status": "completed"
    },
    "tags": []
   },
   "outputs": [
    {
     "data": {
      "text/html": [
       "'/opt/data/data/phenomexcan/ld_blocks/gene_corrs/gtex_v8/mashr/by_chr/corrected_positive_definite/gene_corrs-chr16.pkl'"
      ],
      "text/latex": [
       "'/opt/data/data/phenomexcan/ld\\_blocks/gene\\_corrs/gtex\\_v8/mashr/by\\_chr/corrected\\_positive\\_definite/gene\\_corrs-chr16.pkl'"
      ],
      "text/markdown": [
       "'/opt/data/data/phenomexcan/ld_blocks/gene_corrs/gtex_v8/mashr/by_chr/corrected_positive_definite/gene_corrs-chr16.pkl'"
      ],
      "text/plain": [
       "[1] \"/opt/data/data/phenomexcan/ld_blocks/gene_corrs/gtex_v8/mashr/by_chr/corrected_positive_definite/gene_corrs-chr16.pkl\""
      ]
     },
     "metadata": {},
     "output_type": "display_data"
    },
    {
     "data": {
      "text/html": [
       "'Output file exists, it will be overwritten'"
      ],
      "text/latex": [
       "'Output file exists, it will be overwritten'"
      ],
      "text/markdown": [
       "'Output file exists, it will be overwritten'"
      ],
      "text/plain": [
       "[1] \"Output file exists, it will be overwritten\""
      ]
     },
     "metadata": {},
     "output_type": "display_data"
    }
   ],
   "source": [
    "OUTPUT_FILE <- file.path(OUTPUT_DIR, paste0(\"gene_corrs-chr\", chromosome, \".pkl\"))\n",
    "IRdisplay::display(OUTPUT_FILE)\n",
    "if (file.exists(OUTPUT_FILE)) {\n",
    "  IRdisplay::display(\"Output file exists, it will be overwritten\")\n",
    "}"
   ]
  },
  {
   "cell_type": "markdown",
   "id": "5aad60e6-cba4-41b5-9755-93eb86f4ed05",
   "metadata": {
    "papermill": {
     "duration": 0.005871,
     "end_time": "2022-06-18T11:50:34.309008",
     "exception": false,
     "start_time": "2022-06-18T11:50:34.303137",
     "status": "completed"
    },
    "tags": []
   },
   "source": [
    "# Functions"
   ]
  },
  {
   "cell_type": "code",
   "execution_count": 12,
   "id": "f828f081-7358-4cc8-8a89-1ee293bcc1a7",
   "metadata": {
    "execution": {
     "iopub.execute_input": "2022-06-18T11:50:34.323622Z",
     "iopub.status.busy": "2022-06-18T11:50:34.322626Z",
     "iopub.status.idle": "2022-06-18T11:50:34.331591Z",
     "shell.execute_reply": "2022-06-18T11:50:34.330455Z"
    },
    "papermill": {
     "duration": 0.018373,
     "end_time": "2022-06-18T11:50:34.334276",
     "exception": false,
     "start_time": "2022-06-18T11:50:34.315903",
     "status": "completed"
    },
    "tags": []
   },
   "outputs": [],
   "source": [
    "# taken from https://www.r-bloggers.com/2013/08/correcting-a-pseudo-correlation-matrix-to-be-positive-semidefinite/\n",
    "# TODO: add documentation\n",
    "CorrectCM <- function(CM, p = 0) {\n",
    "  n <- dim(var(CM))[1L]\n",
    "  E <- eigen(CM)\n",
    "  CM1 <- E$vectors %*% tcrossprod(diag(pmax(E$values, p), n), E$vectors)\n",
    "  Balance <- diag(1 / sqrt(diag(CM1)))\n",
    "  CM2 <- Balance %*% CM1 %*% Balance\n",
    "  return(CM2)\n",
    "}"
   ]
  },
  {
   "cell_type": "code",
   "execution_count": 13,
   "id": "7ab9bebf-50a1-4e6f-b16a-e23cae93d02a",
   "metadata": {
    "execution": {
     "iopub.execute_input": "2022-06-18T11:50:34.347878Z",
     "iopub.status.busy": "2022-06-18T11:50:34.346890Z",
     "iopub.status.idle": "2022-06-18T11:50:34.355771Z",
     "shell.execute_reply": "2022-06-18T11:50:34.354602Z"
    },
    "papermill": {
     "duration": 0.017977,
     "end_time": "2022-06-18T11:50:34.358193",
     "exception": false,
     "start_time": "2022-06-18T11:50:34.340216",
     "status": "completed"
    },
    "tags": []
   },
   "outputs": [],
   "source": [
    "is_positive_definite <- function(data) {\n",
    "  eigenvalues <- eigen(data)$values\n",
    "  nonpositive_eigenvalues <- eigenvalues[eigenvalues <= 0]\n",
    "\n",
    "  if (length(nonpositive_eigenvalues) > 0) {\n",
    "    IRdisplay::display(\"We need to correct the data and make the matrix positive definite\")\n",
    "    return(FALSE)\n",
    "  } else {\n",
    "    IRdisplay::display(\"Matrix is already positive definite!\")\n",
    "    return(TRUE)\n",
    "  }\n",
    "}"
   ]
  },
  {
   "cell_type": "markdown",
   "id": "ac52ecbc-5618-4876-a4fa-546a08e3fcf3",
   "metadata": {
    "papermill": {
     "duration": 0.005939,
     "end_time": "2022-06-18T11:50:34.370227",
     "exception": false,
     "start_time": "2022-06-18T11:50:34.364288",
     "status": "completed"
    },
    "tags": []
   },
   "source": [
    "# Load data"
   ]
  },
  {
   "cell_type": "code",
   "execution_count": 14,
   "id": "3a7744e1-2e5a-450e-9dcf-945ec181347d",
   "metadata": {
    "execution": {
     "iopub.execute_input": "2022-06-18T11:50:34.383982Z",
     "iopub.status.busy": "2022-06-18T11:50:34.382807Z",
     "iopub.status.idle": "2022-06-18T11:50:34.440654Z",
     "shell.execute_reply": "2022-06-18T11:50:34.439051Z"
    },
    "papermill": {
     "duration": 0.066888,
     "end_time": "2022-06-18T11:50:34.442968",
     "exception": false,
     "start_time": "2022-06-18T11:50:34.376080",
     "status": "completed"
    },
    "tags": []
   },
   "outputs": [],
   "source": [
    "gene_corrs <- pd$read_pickle(INPUT_FILE)"
   ]
  },
  {
   "cell_type": "code",
   "execution_count": 15,
   "id": "6fb150b2-4c68-4e9b-9aa5-1890d3f762e3",
   "metadata": {
    "execution": {
     "iopub.execute_input": "2022-06-18T11:50:34.462464Z",
     "iopub.status.busy": "2022-06-18T11:50:34.461307Z",
     "iopub.status.idle": "2022-06-18T11:50:34.473436Z",
     "shell.execute_reply": "2022-06-18T11:50:34.472148Z"
    },
    "papermill": {
     "duration": 0.022142,
     "end_time": "2022-06-18T11:50:34.475706",
     "exception": false,
     "start_time": "2022-06-18T11:50:34.453564",
     "status": "completed"
    },
    "tags": []
   },
   "outputs": [
    {
     "data": {
      "text/html": [
       "<style>\n",
       ".list-inline {list-style: none; margin:0; padding: 0}\n",
       ".list-inline>li {display: inline-block}\n",
       ".list-inline>li:not(:last-child)::after {content: \"\\00b7\"; padding: 0 .5ex}\n",
       "</style>\n",
       "<ol class=list-inline><li>274</li><li>274</li></ol>\n"
      ],
      "text/latex": [
       "\\begin{enumerate*}\n",
       "\\item 274\n",
       "\\item 274\n",
       "\\end{enumerate*}\n"
      ],
      "text/markdown": [
       "1. 274\n",
       "2. 274\n",
       "\n",
       "\n"
      ],
      "text/plain": [
       "[1] 274 274"
      ]
     },
     "metadata": {},
     "output_type": "display_data"
    }
   ],
   "source": [
    "dim(gene_corrs)"
   ]
  },
  {
   "cell_type": "code",
   "execution_count": 16,
   "id": "0d4e53b5-7586-4a68-8ce5-d930d74ba943",
   "metadata": {
    "execution": {
     "iopub.execute_input": "2022-06-18T11:50:34.492967Z",
     "iopub.status.busy": "2022-06-18T11:50:34.491911Z",
     "iopub.status.idle": "2022-06-18T11:50:34.513869Z",
     "shell.execute_reply": "2022-06-18T11:50:34.512541Z"
    },
    "papermill": {
     "duration": 0.031803,
     "end_time": "2022-06-18T11:50:34.516096",
     "exception": false,
     "start_time": "2022-06-18T11:50:34.484293",
     "status": "completed"
    },
    "tags": []
   },
   "outputs": [
    {
     "data": {
      "text/html": [
       "<table class=\"dataframe\">\n",
       "<caption>A data.frame: 6 × 10</caption>\n",
       "<thead>\n",
       "\t<tr><th></th><th scope=col>ENSG00000161980</th><th scope=col>ENSG00000103152</th><th scope=col>ENSG00000206172</th><th scope=col>ENSG00000086506</th><th scope=col>ENSG00000076344</th><th scope=col>ENSG00000103126</th><th scope=col>ENSG00000086504</th><th scope=col>ENSG00000103202</th><th scope=col>ENSG00000242612</th><th scope=col>ENSG00000090565</th></tr>\n",
       "\t<tr><th></th><th scope=col>&lt;dbl&gt;</th><th scope=col>&lt;dbl&gt;</th><th scope=col>&lt;dbl&gt;</th><th scope=col>&lt;dbl&gt;</th><th scope=col>&lt;dbl&gt;</th><th scope=col>&lt;dbl&gt;</th><th scope=col>&lt;dbl&gt;</th><th scope=col>&lt;dbl&gt;</th><th scope=col>&lt;dbl&gt;</th><th scope=col>&lt;dbl&gt;</th></tr>\n",
       "</thead>\n",
       "<tbody>\n",
       "\t<tr><th scope=row>ENSG00000161980</th><td> 1.0000000</td><td>-0.26673003</td><td>-0.1811532</td><td>-0.22420672</td><td> 0.19200856</td><td>-0.14743523</td><td> 0.071889456</td><td> 0.300649405</td><td>-0.42575743</td><td>-0.21750927</td></tr>\n",
       "\t<tr><th scope=row>ENSG00000103152</th><td>-0.2667300</td><td> 1.00000000</td><td> 0.0965559</td><td> 0.12497996</td><td>-0.07422508</td><td>-0.03522668</td><td>-0.001851756</td><td> 0.007358441</td><td> 0.10659253</td><td> 0.24421444</td></tr>\n",
       "\t<tr><th scope=row>ENSG00000206172</th><td>-0.1811532</td><td> 0.09655590</td><td> 1.0000000</td><td> 0.17707732</td><td> 0.11685860</td><td> 0.13355319</td><td>-0.076984811</td><td> 0.135401103</td><td> 0.06820763</td><td>-0.09816503</td></tr>\n",
       "\t<tr><th scope=row>ENSG00000086506</th><td>-0.2242067</td><td> 0.12497996</td><td> 0.1770773</td><td> 1.00000000</td><td> 0.06068656</td><td>-0.08464182</td><td>-0.106039274</td><td>-0.160896220</td><td> 0.22834088</td><td> 0.09262728</td></tr>\n",
       "\t<tr><th scope=row>ENSG00000076344</th><td> 0.1920086</td><td>-0.07422508</td><td> 0.1168586</td><td> 0.06068656</td><td> 1.00000000</td><td>-0.25296541</td><td>-0.112545812</td><td> 0.459019803</td><td>-0.50029542</td><td> 0.06569731</td></tr>\n",
       "\t<tr><th scope=row>ENSG00000103126</th><td>-0.1474352</td><td>-0.03522668</td><td> 0.1335532</td><td>-0.08464182</td><td>-0.25296541</td><td> 1.00000000</td><td> 0.059731209</td><td>-0.282183323</td><td> 0.15681113</td><td> 0.16653122</td></tr>\n",
       "</tbody>\n",
       "</table>\n"
      ],
      "text/latex": [
       "A data.frame: 6 × 10\n",
       "\\begin{tabular}{r|llllllllll}\n",
       "  & ENSG00000161980 & ENSG00000103152 & ENSG00000206172 & ENSG00000086506 & ENSG00000076344 & ENSG00000103126 & ENSG00000086504 & ENSG00000103202 & ENSG00000242612 & ENSG00000090565\\\\\n",
       "  & <dbl> & <dbl> & <dbl> & <dbl> & <dbl> & <dbl> & <dbl> & <dbl> & <dbl> & <dbl>\\\\\n",
       "\\hline\n",
       "\tENSG00000161980 &  1.0000000 & -0.26673003 & -0.1811532 & -0.22420672 &  0.19200856 & -0.14743523 &  0.071889456 &  0.300649405 & -0.42575743 & -0.21750927\\\\\n",
       "\tENSG00000103152 & -0.2667300 &  1.00000000 &  0.0965559 &  0.12497996 & -0.07422508 & -0.03522668 & -0.001851756 &  0.007358441 &  0.10659253 &  0.24421444\\\\\n",
       "\tENSG00000206172 & -0.1811532 &  0.09655590 &  1.0000000 &  0.17707732 &  0.11685860 &  0.13355319 & -0.076984811 &  0.135401103 &  0.06820763 & -0.09816503\\\\\n",
       "\tENSG00000086506 & -0.2242067 &  0.12497996 &  0.1770773 &  1.00000000 &  0.06068656 & -0.08464182 & -0.106039274 & -0.160896220 &  0.22834088 &  0.09262728\\\\\n",
       "\tENSG00000076344 &  0.1920086 & -0.07422508 &  0.1168586 &  0.06068656 &  1.00000000 & -0.25296541 & -0.112545812 &  0.459019803 & -0.50029542 &  0.06569731\\\\\n",
       "\tENSG00000103126 & -0.1474352 & -0.03522668 &  0.1335532 & -0.08464182 & -0.25296541 &  1.00000000 &  0.059731209 & -0.282183323 &  0.15681113 &  0.16653122\\\\\n",
       "\\end{tabular}\n"
      ],
      "text/markdown": [
       "\n",
       "A data.frame: 6 × 10\n",
       "\n",
       "| <!--/--> | ENSG00000161980 &lt;dbl&gt; | ENSG00000103152 &lt;dbl&gt; | ENSG00000206172 &lt;dbl&gt; | ENSG00000086506 &lt;dbl&gt; | ENSG00000076344 &lt;dbl&gt; | ENSG00000103126 &lt;dbl&gt; | ENSG00000086504 &lt;dbl&gt; | ENSG00000103202 &lt;dbl&gt; | ENSG00000242612 &lt;dbl&gt; | ENSG00000090565 &lt;dbl&gt; |\n",
       "|---|---|---|---|---|---|---|---|---|---|---|\n",
       "| ENSG00000161980 |  1.0000000 | -0.26673003 | -0.1811532 | -0.22420672 |  0.19200856 | -0.14743523 |  0.071889456 |  0.300649405 | -0.42575743 | -0.21750927 |\n",
       "| ENSG00000103152 | -0.2667300 |  1.00000000 |  0.0965559 |  0.12497996 | -0.07422508 | -0.03522668 | -0.001851756 |  0.007358441 |  0.10659253 |  0.24421444 |\n",
       "| ENSG00000206172 | -0.1811532 |  0.09655590 |  1.0000000 |  0.17707732 |  0.11685860 |  0.13355319 | -0.076984811 |  0.135401103 |  0.06820763 | -0.09816503 |\n",
       "| ENSG00000086506 | -0.2242067 |  0.12497996 |  0.1770773 |  1.00000000 |  0.06068656 | -0.08464182 | -0.106039274 | -0.160896220 |  0.22834088 |  0.09262728 |\n",
       "| ENSG00000076344 |  0.1920086 | -0.07422508 |  0.1168586 |  0.06068656 |  1.00000000 | -0.25296541 | -0.112545812 |  0.459019803 | -0.50029542 |  0.06569731 |\n",
       "| ENSG00000103126 | -0.1474352 | -0.03522668 |  0.1335532 | -0.08464182 | -0.25296541 |  1.00000000 |  0.059731209 | -0.282183323 |  0.15681113 |  0.16653122 |\n",
       "\n"
      ],
      "text/plain": [
       "                ENSG00000161980 ENSG00000103152 ENSG00000206172 ENSG00000086506\n",
       "ENSG00000161980  1.0000000      -0.26673003     -0.1811532      -0.22420672    \n",
       "ENSG00000103152 -0.2667300       1.00000000      0.0965559       0.12497996    \n",
       "ENSG00000206172 -0.1811532       0.09655590      1.0000000       0.17707732    \n",
       "ENSG00000086506 -0.2242067       0.12497996      0.1770773       1.00000000    \n",
       "ENSG00000076344  0.1920086      -0.07422508      0.1168586       0.06068656    \n",
       "ENSG00000103126 -0.1474352      -0.03522668      0.1335532      -0.08464182    \n",
       "                ENSG00000076344 ENSG00000103126 ENSG00000086504 ENSG00000103202\n",
       "ENSG00000161980  0.19200856     -0.14743523      0.071889456     0.300649405   \n",
       "ENSG00000103152 -0.07422508     -0.03522668     -0.001851756     0.007358441   \n",
       "ENSG00000206172  0.11685860      0.13355319     -0.076984811     0.135401103   \n",
       "ENSG00000086506  0.06068656     -0.08464182     -0.106039274    -0.160896220   \n",
       "ENSG00000076344  1.00000000     -0.25296541     -0.112545812     0.459019803   \n",
       "ENSG00000103126 -0.25296541      1.00000000      0.059731209    -0.282183323   \n",
       "                ENSG00000242612 ENSG00000090565\n",
       "ENSG00000161980 -0.42575743     -0.21750927    \n",
       "ENSG00000103152  0.10659253      0.24421444    \n",
       "ENSG00000206172  0.06820763     -0.09816503    \n",
       "ENSG00000086506  0.22834088      0.09262728    \n",
       "ENSG00000076344 -0.50029542      0.06569731    \n",
       "ENSG00000103126  0.15681113      0.16653122    "
      ]
     },
     "metadata": {},
     "output_type": "display_data"
    }
   ],
   "source": [
    "head(gene_corrs[1:10, 1:10])"
   ]
  },
  {
   "cell_type": "markdown",
   "id": "c5c9ffba-1678-4ce7-8988-4ee03e23bdf2",
   "metadata": {
    "papermill": {
     "duration": 0.006874,
     "end_time": "2022-06-18T11:50:34.530186",
     "exception": false,
     "start_time": "2022-06-18T11:50:34.523312",
     "status": "completed"
    },
    "tags": []
   },
   "source": [
    "# Check positive definiteness"
   ]
  },
  {
   "cell_type": "code",
   "execution_count": 17,
   "id": "178854f5-487a-42e8-82b4-625c1979734a",
   "metadata": {
    "execution": {
     "iopub.execute_input": "2022-06-18T11:50:34.560045Z",
     "iopub.status.busy": "2022-06-18T11:50:34.558927Z",
     "iopub.status.idle": "2022-06-18T11:50:34.612788Z",
     "shell.execute_reply": "2022-06-18T11:50:34.609738Z"
    },
    "papermill": {
     "duration": 0.078164,
     "end_time": "2022-06-18T11:50:34.615355",
     "exception": false,
     "start_time": "2022-06-18T11:50:34.537191",
     "status": "completed"
    },
    "tags": []
   },
   "outputs": [
    {
     "data": {
      "text/html": [
       "'We need to correct the data and make the matrix positive definite'"
      ],
      "text/latex": [
       "'We need to correct the data and make the matrix positive definite'"
      ],
      "text/markdown": [
       "'We need to correct the data and make the matrix positive definite'"
      ],
      "text/plain": [
       "[1] \"We need to correct the data and make the matrix positive definite\""
      ]
     },
     "metadata": {},
     "output_type": "display_data"
    },
    {
     "data": {
      "text/html": [
       "FALSE"
      ],
      "text/latex": [
       "FALSE"
      ],
      "text/markdown": [
       "FALSE"
      ],
      "text/plain": [
       "[1] FALSE"
      ]
     },
     "metadata": {},
     "output_type": "display_data"
    }
   ],
   "source": [
    "is_positive_definite(gene_corrs)"
   ]
  },
  {
   "cell_type": "code",
   "execution_count": 18,
   "id": "58542ade-c80f-42e6-acbf-6464dab70fdb",
   "metadata": {
    "execution": {
     "iopub.execute_input": "2022-06-18T11:50:34.636781Z",
     "iopub.status.busy": "2022-06-18T11:50:34.635795Z",
     "iopub.status.idle": "2022-06-18T11:50:34.699523Z",
     "shell.execute_reply": "2022-06-18T11:50:34.695771Z"
    },
    "papermill": {
     "duration": 0.08012,
     "end_time": "2022-06-18T11:50:34.701216",
     "exception": false,
     "start_time": "2022-06-18T11:50:34.621096",
     "status": "completed"
    },
    "tags": []
   },
   "outputs": [],
   "source": [
    "# see eigenvalues\n",
    "eigenvalues <- eigen(gene_corrs)$values"
   ]
  },
  {
   "cell_type": "code",
   "execution_count": 19,
   "id": "9486e0db-e924-43ab-bb6c-0d997fd38f3d",
   "metadata": {
    "execution": {
     "iopub.execute_input": "2022-06-18T11:50:34.728416Z",
     "iopub.status.busy": "2022-06-18T11:50:34.727391Z",
     "iopub.status.idle": "2022-06-18T11:50:34.770970Z",
     "shell.execute_reply": "2022-06-18T11:50:34.766913Z"
    },
    "papermill": {
     "duration": 0.06122,
     "end_time": "2022-06-18T11:50:34.772681",
     "exception": false,
     "start_time": "2022-06-18T11:50:34.711461",
     "status": "completed"
    },
    "tags": []
   },
   "outputs": [
    {
     "data": {
      "text/html": [
       "37"
      ],
      "text/latex": [
       "37"
      ],
      "text/markdown": [
       "37"
      ],
      "text/plain": [
       "[1] 37"
      ]
     },
     "metadata": {},
     "output_type": "display_data"
    },
    {
     "data": {
      "text/html": [
       "<style>\n",
       ".list-inline {list-style: none; margin:0; padding: 0}\n",
       ".list-inline>li {display: inline-block}\n",
       ".list-inline>li:not(:last-child)::after {content: \"\\00b7\"; padding: 0 .5ex}\n",
       "</style>\n",
       "<ol class=list-inline><li>-0.000785842363037803</li><li>-0.00594275995849536</li><li>-0.052974036776742</li><li>-0.0544117416410441</li><li>-0.0836656330832546</li><li>-0.0858330053365937</li><li>-0.0978440102870459</li><li>-0.132587090720078</li><li>-0.167143733963279</li><li>-0.184933460947647</li><li>-0.225932697376021</li><li>-0.239666765351952</li><li>-0.267457423738063</li><li>-0.293699935253031</li><li>-0.327828911463447</li><li>-0.34024004342104</li><li>-0.366721837409476</li><li>-0.390377676938785</li><li>-0.442142428649813</li><li>-0.481657780150119</li><li>-0.497156184645329</li><li>-0.52220704940845</li><li>-0.542344399047872</li><li>-0.620824150843255</li><li>-0.628907849153636</li><li>-0.712861741186778</li><li>-0.815757095759264</li><li>-0.820094043391808</li><li>-0.854685564984274</li><li>-0.967226914676559</li><li>-1.01913144632468</li><li>-1.06684262994252</li><li>-1.09469725049391</li><li>-1.65939568060683</li><li>-1.68675009399787</li><li>-1.85975283232327</li><li>-1.99015700539688</li></ol>\n"
      ],
      "text/latex": [
       "\\begin{enumerate*}\n",
       "\\item -0.000785842363037803\n",
       "\\item -0.00594275995849536\n",
       "\\item -0.052974036776742\n",
       "\\item -0.0544117416410441\n",
       "\\item -0.0836656330832546\n",
       "\\item -0.0858330053365937\n",
       "\\item -0.0978440102870459\n",
       "\\item -0.132587090720078\n",
       "\\item -0.167143733963279\n",
       "\\item -0.184933460947647\n",
       "\\item -0.225932697376021\n",
       "\\item -0.239666765351952\n",
       "\\item -0.267457423738063\n",
       "\\item -0.293699935253031\n",
       "\\item -0.327828911463447\n",
       "\\item -0.34024004342104\n",
       "\\item -0.366721837409476\n",
       "\\item -0.390377676938785\n",
       "\\item -0.442142428649813\n",
       "\\item -0.481657780150119\n",
       "\\item -0.497156184645329\n",
       "\\item -0.52220704940845\n",
       "\\item -0.542344399047872\n",
       "\\item -0.620824150843255\n",
       "\\item -0.628907849153636\n",
       "\\item -0.712861741186778\n",
       "\\item -0.815757095759264\n",
       "\\item -0.820094043391808\n",
       "\\item -0.854685564984274\n",
       "\\item -0.967226914676559\n",
       "\\item -1.01913144632468\n",
       "\\item -1.06684262994252\n",
       "\\item -1.09469725049391\n",
       "\\item -1.65939568060683\n",
       "\\item -1.68675009399787\n",
       "\\item -1.85975283232327\n",
       "\\item -1.99015700539688\n",
       "\\end{enumerate*}\n"
      ],
      "text/markdown": [
       "1. -0.000785842363037803\n",
       "2. -0.00594275995849536\n",
       "3. -0.052974036776742\n",
       "4. -0.0544117416410441\n",
       "5. -0.0836656330832546\n",
       "6. -0.0858330053365937\n",
       "7. -0.0978440102870459\n",
       "8. -0.132587090720078\n",
       "9. -0.167143733963279\n",
       "10. -0.184933460947647\n",
       "11. -0.225932697376021\n",
       "12. -0.239666765351952\n",
       "13. -0.267457423738063\n",
       "14. -0.293699935253031\n",
       "15. -0.327828911463447\n",
       "16. -0.34024004342104\n",
       "17. -0.366721837409476\n",
       "18. -0.390377676938785\n",
       "19. -0.442142428649813\n",
       "20. -0.481657780150119\n",
       "21. -0.497156184645329\n",
       "22. -0.52220704940845\n",
       "23. -0.542344399047872\n",
       "24. -0.620824150843255\n",
       "25. -0.628907849153636\n",
       "26. -0.712861741186778\n",
       "27. -0.815757095759264\n",
       "28. -0.820094043391808\n",
       "29. -0.854685564984274\n",
       "30. -0.967226914676559\n",
       "31. -1.01913144632468\n",
       "32. -1.06684262994252\n",
       "33. -1.09469725049391\n",
       "34. -1.65939568060683\n",
       "35. -1.68675009399787\n",
       "36. -1.85975283232327\n",
       "37. -1.99015700539688\n",
       "\n",
       "\n"
      ],
      "text/plain": [
       " [1] -0.0007858424 -0.0059427600 -0.0529740368 -0.0544117416 -0.0836656331\n",
       " [6] -0.0858330053 -0.0978440103 -0.1325870907 -0.1671437340 -0.1849334609\n",
       "[11] -0.2259326974 -0.2396667654 -0.2674574237 -0.2936999353 -0.3278289115\n",
       "[16] -0.3402400434 -0.3667218374 -0.3903776769 -0.4421424286 -0.4816577802\n",
       "[21] -0.4971561846 -0.5222070494 -0.5423443990 -0.6208241508 -0.6289078492\n",
       "[26] -0.7128617412 -0.8157570958 -0.8200940434 -0.8546855650 -0.9672269147\n",
       "[31] -1.0191314463 -1.0668426299 -1.0946972505 -1.6593956806 -1.6867500940\n",
       "[36] -1.8597528323 -1.9901570054"
      ]
     },
     "metadata": {},
     "output_type": "display_data"
    }
   ],
   "source": [
    "nonpositive_eigenvalues <- eigenvalues[eigenvalues <= 0]\n",
    "IRdisplay::display(length(nonpositive_eigenvalues))\n",
    "IRdisplay::display(nonpositive_eigenvalues)"
   ]
  },
  {
   "cell_type": "code",
   "execution_count": 20,
   "id": "410ee452-488f-4518-b93a-2acd608ba99c",
   "metadata": {
    "execution": {
     "iopub.execute_input": "2022-06-18T11:50:34.788872Z",
     "iopub.status.busy": "2022-06-18T11:50:34.787893Z",
     "iopub.status.idle": "2022-06-18T11:50:34.796900Z",
     "shell.execute_reply": "2022-06-18T11:50:34.795628Z"
    },
    "papermill": {
     "duration": 0.018307,
     "end_time": "2022-06-18T11:50:34.798710",
     "exception": false,
     "start_time": "2022-06-18T11:50:34.780403",
     "status": "completed"
    },
    "tags": []
   },
   "outputs": [],
   "source": [
    "if (length(eigenvalues[eigenvalues <= 0]) == 0) { quit() }"
   ]
  },
  {
   "cell_type": "markdown",
   "id": "2d280a82-f231-402d-82ab-9291d395afc1",
   "metadata": {
    "papermill": {
     "duration": 0.006857,
     "end_time": "2022-06-18T11:50:34.813570",
     "exception": false,
     "start_time": "2022-06-18T11:50:34.806713",
     "status": "completed"
    },
    "tags": []
   },
   "source": [
    "# Make matrix positive definite if needed"
   ]
  },
  {
   "cell_type": "code",
   "execution_count": 21,
   "id": "b9037873-4067-4ac6-aa92-e9225a6c9353",
   "metadata": {
    "execution": {
     "iopub.execute_input": "2022-06-18T11:50:34.829811Z",
     "iopub.status.busy": "2022-06-18T11:50:34.827952Z",
     "iopub.status.idle": "2022-06-18T11:50:34.884895Z",
     "shell.execute_reply": "2022-06-18T11:50:34.880017Z"
    },
    "papermill": {
     "duration": 0.066581,
     "end_time": "2022-06-18T11:50:34.886930",
     "exception": false,
     "start_time": "2022-06-18T11:50:34.820349",
     "status": "completed"
    },
    "tags": []
   },
   "outputs": [],
   "source": [
    "gene_corrs_corrected <- CorrectCM(gene_corrs, 1)"
   ]
  },
  {
   "cell_type": "code",
   "execution_count": 22,
   "id": "03c86284-5aac-4f66-86cc-74eb97102a7e",
   "metadata": {
    "execution": {
     "iopub.execute_input": "2022-06-18T11:50:34.905883Z",
     "iopub.status.busy": "2022-06-18T11:50:34.904686Z",
     "iopub.status.idle": "2022-06-18T11:50:34.915765Z",
     "shell.execute_reply": "2022-06-18T11:50:34.913620Z"
    },
    "papermill": {
     "duration": 0.021391,
     "end_time": "2022-06-18T11:50:34.917594",
     "exception": false,
     "start_time": "2022-06-18T11:50:34.896203",
     "status": "completed"
    },
    "tags": []
   },
   "outputs": [],
   "source": [
    "dimnames(gene_corrs_corrected)[[1]] <- rownames(gene_corrs)"
   ]
  },
  {
   "cell_type": "code",
   "execution_count": 23,
   "id": "576e7069-25ff-473d-8158-35b5f2ff212e",
   "metadata": {
    "execution": {
     "iopub.execute_input": "2022-06-18T11:50:34.934353Z",
     "iopub.status.busy": "2022-06-18T11:50:34.933248Z",
     "iopub.status.idle": "2022-06-18T11:50:34.944549Z",
     "shell.execute_reply": "2022-06-18T11:50:34.942493Z"
    },
    "papermill": {
     "duration": 0.021179,
     "end_time": "2022-06-18T11:50:34.946254",
     "exception": false,
     "start_time": "2022-06-18T11:50:34.925075",
     "status": "completed"
    },
    "tags": []
   },
   "outputs": [],
   "source": [
    "dimnames(gene_corrs_corrected)[[2]] <- colnames(gene_corrs)"
   ]
  },
  {
   "cell_type": "code",
   "execution_count": 24,
   "id": "f77d043a-321d-447f-8da5-2503981d3e73",
   "metadata": {
    "execution": {
     "iopub.execute_input": "2022-06-18T11:50:34.962068Z",
     "iopub.status.busy": "2022-06-18T11:50:34.960966Z",
     "iopub.status.idle": "2022-06-18T11:50:34.971654Z",
     "shell.execute_reply": "2022-06-18T11:50:34.970414Z"
    },
    "papermill": {
     "duration": 0.020212,
     "end_time": "2022-06-18T11:50:34.973426",
     "exception": false,
     "start_time": "2022-06-18T11:50:34.953214",
     "status": "completed"
    },
    "tags": []
   },
   "outputs": [],
   "source": [
    "gene_corrs_corrected <- as.data.frame(gene_corrs_corrected)"
   ]
  },
  {
   "cell_type": "code",
   "execution_count": 25,
   "id": "3e844024-f9a2-42a2-bbd0-695cfdbb78f5",
   "metadata": {
    "execution": {
     "iopub.execute_input": "2022-06-18T11:50:34.989604Z",
     "iopub.status.busy": "2022-06-18T11:50:34.988554Z",
     "iopub.status.idle": "2022-06-18T11:50:34.999808Z",
     "shell.execute_reply": "2022-06-18T11:50:34.998569Z"
    },
    "papermill": {
     "duration": 0.020647,
     "end_time": "2022-06-18T11:50:35.001505",
     "exception": false,
     "start_time": "2022-06-18T11:50:34.980858",
     "status": "completed"
    },
    "tags": []
   },
   "outputs": [
    {
     "data": {
      "text/html": [
       "<style>\n",
       ".list-inline {list-style: none; margin:0; padding: 0}\n",
       ".list-inline>li {display: inline-block}\n",
       ".list-inline>li:not(:last-child)::after {content: \"\\00b7\"; padding: 0 .5ex}\n",
       "</style>\n",
       "<ol class=list-inline><li>274</li><li>274</li></ol>\n"
      ],
      "text/latex": [
       "\\begin{enumerate*}\n",
       "\\item 274\n",
       "\\item 274\n",
       "\\end{enumerate*}\n"
      ],
      "text/markdown": [
       "1. 274\n",
       "2. 274\n",
       "\n",
       "\n"
      ],
      "text/plain": [
       "[1] 274 274"
      ]
     },
     "metadata": {},
     "output_type": "display_data"
    }
   ],
   "source": [
    "dim(gene_corrs_corrected)"
   ]
  },
  {
   "cell_type": "markdown",
   "id": "244b6bde-4ca8-46d1-acc7-b4c35b5d3c62",
   "metadata": {
    "papermill": {
     "duration": 0.007246,
     "end_time": "2022-06-18T11:50:35.015977",
     "exception": false,
     "start_time": "2022-06-18T11:50:35.008731",
     "status": "completed"
    },
    "tags": []
   },
   "source": [
    "# Check positive definiteness of corrected matrix"
   ]
  },
  {
   "cell_type": "code",
   "execution_count": 26,
   "id": "0fd5b688-e137-4619-910c-35130d32d600",
   "metadata": {
    "execution": {
     "iopub.execute_input": "2022-06-18T11:50:35.032131Z",
     "iopub.status.busy": "2022-06-18T11:50:35.031099Z",
     "iopub.status.idle": "2022-06-18T11:50:35.086587Z",
     "shell.execute_reply": "2022-06-18T11:50:35.082707Z"
    },
    "papermill": {
     "duration": 0.065175,
     "end_time": "2022-06-18T11:50:35.088262",
     "exception": false,
     "start_time": "2022-06-18T11:50:35.023087",
     "status": "completed"
    },
    "tags": []
   },
   "outputs": [
    {
     "data": {
      "text/html": [
       "'Matrix is already positive definite!'"
      ],
      "text/latex": [
       "'Matrix is already positive definite!'"
      ],
      "text/markdown": [
       "'Matrix is already positive definite!'"
      ],
      "text/plain": [
       "[1] \"Matrix is already positive definite!\""
      ]
     },
     "metadata": {},
     "output_type": "display_data"
    },
    {
     "data": {
      "text/html": [
       "TRUE"
      ],
      "text/latex": [
       "TRUE"
      ],
      "text/markdown": [
       "TRUE"
      ],
      "text/plain": [
       "[1] TRUE"
      ]
     },
     "metadata": {},
     "output_type": "display_data"
    }
   ],
   "source": [
    "is_positive_definite(gene_corrs_corrected)"
   ]
  },
  {
   "cell_type": "code",
   "execution_count": 27,
   "id": "06d23ab8-bebb-474c-be33-dca7e53c1717",
   "metadata": {
    "execution": {
     "iopub.execute_input": "2022-06-18T11:50:35.114104Z",
     "iopub.status.busy": "2022-06-18T11:50:35.113091Z",
     "iopub.status.idle": "2022-06-18T11:50:35.166212Z",
     "shell.execute_reply": "2022-06-18T11:50:35.163065Z"
    },
    "papermill": {
     "duration": 0.075456,
     "end_time": "2022-06-18T11:50:35.174499",
     "exception": false,
     "start_time": "2022-06-18T11:50:35.099043",
     "status": "completed"
    },
    "tags": []
   },
   "outputs": [],
   "source": [
    "# see eigenvalues\n",
    "eigenvalues <- eigen(gene_corrs_corrected)$values"
   ]
  },
  {
   "cell_type": "code",
   "execution_count": 28,
   "id": "ddf8afb8-e0e2-4b4e-876d-12bd6856c1ad",
   "metadata": {
    "execution": {
     "iopub.execute_input": "2022-06-18T11:50:35.202274Z",
     "iopub.status.busy": "2022-06-18T11:50:35.201226Z",
     "iopub.status.idle": "2022-06-18T11:50:35.234374Z",
     "shell.execute_reply": "2022-06-18T11:50:35.230187Z"
    },
    "papermill": {
     "duration": 0.050606,
     "end_time": "2022-06-18T11:50:35.236117",
     "exception": false,
     "start_time": "2022-06-18T11:50:35.185511",
     "status": "completed"
    },
    "tags": []
   },
   "outputs": [
    {
     "data": {
      "text/html": [
       "0"
      ],
      "text/latex": [
       "0"
      ],
      "text/markdown": [
       "0"
      ],
      "text/plain": [
       "[1] 0"
      ]
     },
     "metadata": {},
     "output_type": "display_data"
    },
    {
     "data": {
      "text/html": [],
      "text/latex": [],
      "text/markdown": [],
      "text/plain": [
       "numeric(0)"
      ]
     },
     "metadata": {},
     "output_type": "display_data"
    }
   ],
   "source": [
    "nonpositive_eigenvalues <- eigenvalues[eigenvalues <= 0]\n",
    "IRdisplay::display(length(nonpositive_eigenvalues))\n",
    "IRdisplay::display(nonpositive_eigenvalues)"
   ]
  },
  {
   "cell_type": "code",
   "execution_count": 29,
   "id": "712fd71a-b6ec-4a13-a956-80c99be7f585",
   "metadata": {
    "execution": {
     "iopub.execute_input": "2022-06-18T11:50:35.254005Z",
     "iopub.status.busy": "2022-06-18T11:50:35.252893Z",
     "iopub.status.idle": "2022-06-18T11:50:35.263941Z",
     "shell.execute_reply": "2022-06-18T11:50:35.261992Z"
    },
    "papermill": {
     "duration": 0.021006,
     "end_time": "2022-06-18T11:50:35.265702",
     "exception": false,
     "start_time": "2022-06-18T11:50:35.244696",
     "status": "completed"
    },
    "tags": []
   },
   "outputs": [],
   "source": [
    "stopifnot(length(eigenvalues[eigenvalues <= 0]) == 0)"
   ]
  },
  {
   "cell_type": "code",
   "execution_count": 30,
   "id": "786d6336-3844-40f7-979b-6d6028787f7f",
   "metadata": {
    "execution": {
     "iopub.execute_input": "2022-06-18T11:50:35.281896Z",
     "iopub.status.busy": "2022-06-18T11:50:35.280886Z",
     "iopub.status.idle": "2022-06-18T11:50:35.310651Z",
     "shell.execute_reply": "2022-06-18T11:50:35.308432Z"
    },
    "papermill": {
     "duration": 0.039429,
     "end_time": "2022-06-18T11:50:35.312452",
     "exception": false,
     "start_time": "2022-06-18T11:50:35.273023",
     "status": "completed"
    },
    "tags": []
   },
   "outputs": [
    {
     "data": {
      "text/html": [
       "<table class=\"dataframe\">\n",
       "<caption>A data.frame: 6 × 10</caption>\n",
       "<thead>\n",
       "\t<tr><th></th><th scope=col>ENSG00000161980</th><th scope=col>ENSG00000103152</th><th scope=col>ENSG00000206172</th><th scope=col>ENSG00000086506</th><th scope=col>ENSG00000076344</th><th scope=col>ENSG00000103126</th><th scope=col>ENSG00000086504</th><th scope=col>ENSG00000103202</th><th scope=col>ENSG00000242612</th><th scope=col>ENSG00000090565</th></tr>\n",
       "\t<tr><th></th><th scope=col>&lt;dbl&gt;</th><th scope=col>&lt;dbl&gt;</th><th scope=col>&lt;dbl&gt;</th><th scope=col>&lt;dbl&gt;</th><th scope=col>&lt;dbl&gt;</th><th scope=col>&lt;dbl&gt;</th><th scope=col>&lt;dbl&gt;</th><th scope=col>&lt;dbl&gt;</th><th scope=col>&lt;dbl&gt;</th><th scope=col>&lt;dbl&gt;</th></tr>\n",
       "</thead>\n",
       "<tbody>\n",
       "\t<tr><th scope=row>ENSG00000161980</th><td> 1.0000000</td><td>-0.26673003</td><td>-0.1811532</td><td>-0.22420672</td><td> 0.19200856</td><td>-0.14743523</td><td> 0.071889456</td><td> 0.300649405</td><td>-0.42575743</td><td>-0.21750927</td></tr>\n",
       "\t<tr><th scope=row>ENSG00000103152</th><td>-0.2667300</td><td> 1.00000000</td><td> 0.0965559</td><td> 0.12497996</td><td>-0.07422508</td><td>-0.03522668</td><td>-0.001851756</td><td> 0.007358441</td><td> 0.10659253</td><td> 0.24421444</td></tr>\n",
       "\t<tr><th scope=row>ENSG00000206172</th><td>-0.1811532</td><td> 0.09655590</td><td> 1.0000000</td><td> 0.17707732</td><td> 0.11685860</td><td> 0.13355319</td><td>-0.076984811</td><td> 0.135401103</td><td> 0.06820763</td><td>-0.09816503</td></tr>\n",
       "\t<tr><th scope=row>ENSG00000086506</th><td>-0.2242067</td><td> 0.12497996</td><td> 0.1770773</td><td> 1.00000000</td><td> 0.06068656</td><td>-0.08464182</td><td>-0.106039274</td><td>-0.160896220</td><td> 0.22834088</td><td> 0.09262728</td></tr>\n",
       "\t<tr><th scope=row>ENSG00000076344</th><td> 0.1920086</td><td>-0.07422508</td><td> 0.1168586</td><td> 0.06068656</td><td> 1.00000000</td><td>-0.25296541</td><td>-0.112545812</td><td> 0.459019803</td><td>-0.50029542</td><td> 0.06569731</td></tr>\n",
       "\t<tr><th scope=row>ENSG00000103126</th><td>-0.1474352</td><td>-0.03522668</td><td> 0.1335532</td><td>-0.08464182</td><td>-0.25296541</td><td> 1.00000000</td><td> 0.059731209</td><td>-0.282183323</td><td> 0.15681113</td><td> 0.16653122</td></tr>\n",
       "</tbody>\n",
       "</table>\n"
      ],
      "text/latex": [
       "A data.frame: 6 × 10\n",
       "\\begin{tabular}{r|llllllllll}\n",
       "  & ENSG00000161980 & ENSG00000103152 & ENSG00000206172 & ENSG00000086506 & ENSG00000076344 & ENSG00000103126 & ENSG00000086504 & ENSG00000103202 & ENSG00000242612 & ENSG00000090565\\\\\n",
       "  & <dbl> & <dbl> & <dbl> & <dbl> & <dbl> & <dbl> & <dbl> & <dbl> & <dbl> & <dbl>\\\\\n",
       "\\hline\n",
       "\tENSG00000161980 &  1.0000000 & -0.26673003 & -0.1811532 & -0.22420672 &  0.19200856 & -0.14743523 &  0.071889456 &  0.300649405 & -0.42575743 & -0.21750927\\\\\n",
       "\tENSG00000103152 & -0.2667300 &  1.00000000 &  0.0965559 &  0.12497996 & -0.07422508 & -0.03522668 & -0.001851756 &  0.007358441 &  0.10659253 &  0.24421444\\\\\n",
       "\tENSG00000206172 & -0.1811532 &  0.09655590 &  1.0000000 &  0.17707732 &  0.11685860 &  0.13355319 & -0.076984811 &  0.135401103 &  0.06820763 & -0.09816503\\\\\n",
       "\tENSG00000086506 & -0.2242067 &  0.12497996 &  0.1770773 &  1.00000000 &  0.06068656 & -0.08464182 & -0.106039274 & -0.160896220 &  0.22834088 &  0.09262728\\\\\n",
       "\tENSG00000076344 &  0.1920086 & -0.07422508 &  0.1168586 &  0.06068656 &  1.00000000 & -0.25296541 & -0.112545812 &  0.459019803 & -0.50029542 &  0.06569731\\\\\n",
       "\tENSG00000103126 & -0.1474352 & -0.03522668 &  0.1335532 & -0.08464182 & -0.25296541 &  1.00000000 &  0.059731209 & -0.282183323 &  0.15681113 &  0.16653122\\\\\n",
       "\\end{tabular}\n"
      ],
      "text/markdown": [
       "\n",
       "A data.frame: 6 × 10\n",
       "\n",
       "| <!--/--> | ENSG00000161980 &lt;dbl&gt; | ENSG00000103152 &lt;dbl&gt; | ENSG00000206172 &lt;dbl&gt; | ENSG00000086506 &lt;dbl&gt; | ENSG00000076344 &lt;dbl&gt; | ENSG00000103126 &lt;dbl&gt; | ENSG00000086504 &lt;dbl&gt; | ENSG00000103202 &lt;dbl&gt; | ENSG00000242612 &lt;dbl&gt; | ENSG00000090565 &lt;dbl&gt; |\n",
       "|---|---|---|---|---|---|---|---|---|---|---|\n",
       "| ENSG00000161980 |  1.0000000 | -0.26673003 | -0.1811532 | -0.22420672 |  0.19200856 | -0.14743523 |  0.071889456 |  0.300649405 | -0.42575743 | -0.21750927 |\n",
       "| ENSG00000103152 | -0.2667300 |  1.00000000 |  0.0965559 |  0.12497996 | -0.07422508 | -0.03522668 | -0.001851756 |  0.007358441 |  0.10659253 |  0.24421444 |\n",
       "| ENSG00000206172 | -0.1811532 |  0.09655590 |  1.0000000 |  0.17707732 |  0.11685860 |  0.13355319 | -0.076984811 |  0.135401103 |  0.06820763 | -0.09816503 |\n",
       "| ENSG00000086506 | -0.2242067 |  0.12497996 |  0.1770773 |  1.00000000 |  0.06068656 | -0.08464182 | -0.106039274 | -0.160896220 |  0.22834088 |  0.09262728 |\n",
       "| ENSG00000076344 |  0.1920086 | -0.07422508 |  0.1168586 |  0.06068656 |  1.00000000 | -0.25296541 | -0.112545812 |  0.459019803 | -0.50029542 |  0.06569731 |\n",
       "| ENSG00000103126 | -0.1474352 | -0.03522668 |  0.1335532 | -0.08464182 | -0.25296541 |  1.00000000 |  0.059731209 | -0.282183323 |  0.15681113 |  0.16653122 |\n",
       "\n"
      ],
      "text/plain": [
       "                ENSG00000161980 ENSG00000103152 ENSG00000206172 ENSG00000086506\n",
       "ENSG00000161980  1.0000000      -0.26673003     -0.1811532      -0.22420672    \n",
       "ENSG00000103152 -0.2667300       1.00000000      0.0965559       0.12497996    \n",
       "ENSG00000206172 -0.1811532       0.09655590      1.0000000       0.17707732    \n",
       "ENSG00000086506 -0.2242067       0.12497996      0.1770773       1.00000000    \n",
       "ENSG00000076344  0.1920086      -0.07422508      0.1168586       0.06068656    \n",
       "ENSG00000103126 -0.1474352      -0.03522668      0.1335532      -0.08464182    \n",
       "                ENSG00000076344 ENSG00000103126 ENSG00000086504 ENSG00000103202\n",
       "ENSG00000161980  0.19200856     -0.14743523      0.071889456     0.300649405   \n",
       "ENSG00000103152 -0.07422508     -0.03522668     -0.001851756     0.007358441   \n",
       "ENSG00000206172  0.11685860      0.13355319     -0.076984811     0.135401103   \n",
       "ENSG00000086506  0.06068656     -0.08464182     -0.106039274    -0.160896220   \n",
       "ENSG00000076344  1.00000000     -0.25296541     -0.112545812     0.459019803   \n",
       "ENSG00000103126 -0.25296541      1.00000000      0.059731209    -0.282183323   \n",
       "                ENSG00000242612 ENSG00000090565\n",
       "ENSG00000161980 -0.42575743     -0.21750927    \n",
       "ENSG00000103152  0.10659253      0.24421444    \n",
       "ENSG00000206172  0.06820763     -0.09816503    \n",
       "ENSG00000086506  0.22834088      0.09262728    \n",
       "ENSG00000076344 -0.50029542      0.06569731    \n",
       "ENSG00000103126  0.15681113      0.16653122    "
      ]
     },
     "metadata": {},
     "output_type": "display_data"
    },
    {
     "data": {
      "text/html": [
       "<table class=\"dataframe\">\n",
       "<caption>A data.frame: 6 × 10</caption>\n",
       "<thead>\n",
       "\t<tr><th></th><th scope=col>ENSG00000161980</th><th scope=col>ENSG00000103152</th><th scope=col>ENSG00000206172</th><th scope=col>ENSG00000086506</th><th scope=col>ENSG00000076344</th><th scope=col>ENSG00000103126</th><th scope=col>ENSG00000086504</th><th scope=col>ENSG00000103202</th><th scope=col>ENSG00000242612</th><th scope=col>ENSG00000090565</th></tr>\n",
       "\t<tr><th></th><th scope=col>&lt;dbl&gt;</th><th scope=col>&lt;dbl&gt;</th><th scope=col>&lt;dbl&gt;</th><th scope=col>&lt;dbl&gt;</th><th scope=col>&lt;dbl&gt;</th><th scope=col>&lt;dbl&gt;</th><th scope=col>&lt;dbl&gt;</th><th scope=col>&lt;dbl&gt;</th><th scope=col>&lt;dbl&gt;</th><th scope=col>&lt;dbl&gt;</th></tr>\n",
       "</thead>\n",
       "<tbody>\n",
       "\t<tr><th scope=row>ENSG00000161980</th><td> 1.00000000</td><td>-0.12249968</td><td>-0.06282389</td><td>-0.095080515</td><td> 0.145060417</td><td>-0.10990812</td><td> 0.017779626</td><td> 0.13546093</td><td>-0.14361548</td><td>-0.0791877132</td></tr>\n",
       "\t<tr><th scope=row>ENSG00000103152</th><td>-0.12249968</td><td> 1.00000000</td><td> 0.02958413</td><td> 0.050904295</td><td>-0.014586301</td><td>-0.01818720</td><td>-0.005890554</td><td>-0.02826560</td><td> 0.02068347</td><td> 0.0831899058</td></tr>\n",
       "\t<tr><th scope=row>ENSG00000206172</th><td>-0.06282389</td><td> 0.02958413</td><td> 1.00000000</td><td> 0.015258598</td><td> 0.034530179</td><td> 0.01909256</td><td>-0.014375945</td><td> 0.04836529</td><td> 0.04219017</td><td> 0.0002010513</td></tr>\n",
       "\t<tr><th scope=row>ENSG00000086506</th><td>-0.09508052</td><td> 0.05090429</td><td> 0.01525860</td><td> 1.000000000</td><td> 0.005962386</td><td> 0.02261393</td><td>-0.089438222</td><td>-0.11273287</td><td> 0.10549662</td><td> 0.1039783393</td></tr>\n",
       "\t<tr><th scope=row>ENSG00000076344</th><td> 0.14506042</td><td>-0.01458630</td><td> 0.03453018</td><td> 0.005962386</td><td> 1.000000000</td><td>-0.16223534</td><td>-0.060533284</td><td> 0.24425410</td><td>-0.17724854</td><td>-0.0613565668</td></tr>\n",
       "\t<tr><th scope=row>ENSG00000103126</th><td>-0.10990812</td><td>-0.01818720</td><td> 0.01909256</td><td> 0.022613931</td><td>-0.162235343</td><td> 1.00000000</td><td> 0.038115784</td><td>-0.14842037</td><td> 0.08814465</td><td> 0.0984210321</td></tr>\n",
       "</tbody>\n",
       "</table>\n"
      ],
      "text/latex": [
       "A data.frame: 6 × 10\n",
       "\\begin{tabular}{r|llllllllll}\n",
       "  & ENSG00000161980 & ENSG00000103152 & ENSG00000206172 & ENSG00000086506 & ENSG00000076344 & ENSG00000103126 & ENSG00000086504 & ENSG00000103202 & ENSG00000242612 & ENSG00000090565\\\\\n",
       "  & <dbl> & <dbl> & <dbl> & <dbl> & <dbl> & <dbl> & <dbl> & <dbl> & <dbl> & <dbl>\\\\\n",
       "\\hline\n",
       "\tENSG00000161980 &  1.00000000 & -0.12249968 & -0.06282389 & -0.095080515 &  0.145060417 & -0.10990812 &  0.017779626 &  0.13546093 & -0.14361548 & -0.0791877132\\\\\n",
       "\tENSG00000103152 & -0.12249968 &  1.00000000 &  0.02958413 &  0.050904295 & -0.014586301 & -0.01818720 & -0.005890554 & -0.02826560 &  0.02068347 &  0.0831899058\\\\\n",
       "\tENSG00000206172 & -0.06282389 &  0.02958413 &  1.00000000 &  0.015258598 &  0.034530179 &  0.01909256 & -0.014375945 &  0.04836529 &  0.04219017 &  0.0002010513\\\\\n",
       "\tENSG00000086506 & -0.09508052 &  0.05090429 &  0.01525860 &  1.000000000 &  0.005962386 &  0.02261393 & -0.089438222 & -0.11273287 &  0.10549662 &  0.1039783393\\\\\n",
       "\tENSG00000076344 &  0.14506042 & -0.01458630 &  0.03453018 &  0.005962386 &  1.000000000 & -0.16223534 & -0.060533284 &  0.24425410 & -0.17724854 & -0.0613565668\\\\\n",
       "\tENSG00000103126 & -0.10990812 & -0.01818720 &  0.01909256 &  0.022613931 & -0.162235343 &  1.00000000 &  0.038115784 & -0.14842037 &  0.08814465 &  0.0984210321\\\\\n",
       "\\end{tabular}\n"
      ],
      "text/markdown": [
       "\n",
       "A data.frame: 6 × 10\n",
       "\n",
       "| <!--/--> | ENSG00000161980 &lt;dbl&gt; | ENSG00000103152 &lt;dbl&gt; | ENSG00000206172 &lt;dbl&gt; | ENSG00000086506 &lt;dbl&gt; | ENSG00000076344 &lt;dbl&gt; | ENSG00000103126 &lt;dbl&gt; | ENSG00000086504 &lt;dbl&gt; | ENSG00000103202 &lt;dbl&gt; | ENSG00000242612 &lt;dbl&gt; | ENSG00000090565 &lt;dbl&gt; |\n",
       "|---|---|---|---|---|---|---|---|---|---|---|\n",
       "| ENSG00000161980 |  1.00000000 | -0.12249968 | -0.06282389 | -0.095080515 |  0.145060417 | -0.10990812 |  0.017779626 |  0.13546093 | -0.14361548 | -0.0791877132 |\n",
       "| ENSG00000103152 | -0.12249968 |  1.00000000 |  0.02958413 |  0.050904295 | -0.014586301 | -0.01818720 | -0.005890554 | -0.02826560 |  0.02068347 |  0.0831899058 |\n",
       "| ENSG00000206172 | -0.06282389 |  0.02958413 |  1.00000000 |  0.015258598 |  0.034530179 |  0.01909256 | -0.014375945 |  0.04836529 |  0.04219017 |  0.0002010513 |\n",
       "| ENSG00000086506 | -0.09508052 |  0.05090429 |  0.01525860 |  1.000000000 |  0.005962386 |  0.02261393 | -0.089438222 | -0.11273287 |  0.10549662 |  0.1039783393 |\n",
       "| ENSG00000076344 |  0.14506042 | -0.01458630 |  0.03453018 |  0.005962386 |  1.000000000 | -0.16223534 | -0.060533284 |  0.24425410 | -0.17724854 | -0.0613565668 |\n",
       "| ENSG00000103126 | -0.10990812 | -0.01818720 |  0.01909256 |  0.022613931 | -0.162235343 |  1.00000000 |  0.038115784 | -0.14842037 |  0.08814465 |  0.0984210321 |\n",
       "\n"
      ],
      "text/plain": [
       "                ENSG00000161980 ENSG00000103152 ENSG00000206172 ENSG00000086506\n",
       "ENSG00000161980  1.00000000     -0.12249968     -0.06282389     -0.095080515   \n",
       "ENSG00000103152 -0.12249968      1.00000000      0.02958413      0.050904295   \n",
       "ENSG00000206172 -0.06282389      0.02958413      1.00000000      0.015258598   \n",
       "ENSG00000086506 -0.09508052      0.05090429      0.01525860      1.000000000   \n",
       "ENSG00000076344  0.14506042     -0.01458630      0.03453018      0.005962386   \n",
       "ENSG00000103126 -0.10990812     -0.01818720      0.01909256      0.022613931   \n",
       "                ENSG00000076344 ENSG00000103126 ENSG00000086504 ENSG00000103202\n",
       "ENSG00000161980  0.145060417    -0.10990812      0.017779626     0.13546093    \n",
       "ENSG00000103152 -0.014586301    -0.01818720     -0.005890554    -0.02826560    \n",
       "ENSG00000206172  0.034530179     0.01909256     -0.014375945     0.04836529    \n",
       "ENSG00000086506  0.005962386     0.02261393     -0.089438222    -0.11273287    \n",
       "ENSG00000076344  1.000000000    -0.16223534     -0.060533284     0.24425410    \n",
       "ENSG00000103126 -0.162235343     1.00000000      0.038115784    -0.14842037    \n",
       "                ENSG00000242612 ENSG00000090565\n",
       "ENSG00000161980 -0.14361548     -0.0791877132  \n",
       "ENSG00000103152  0.02068347      0.0831899058  \n",
       "ENSG00000206172  0.04219017      0.0002010513  \n",
       "ENSG00000086506  0.10549662      0.1039783393  \n",
       "ENSG00000076344 -0.17724854     -0.0613565668  \n",
       "ENSG00000103126  0.08814465      0.0984210321  "
      ]
     },
     "metadata": {},
     "output_type": "display_data"
    }
   ],
   "source": [
    "# quick and visual comparison of the two matrices\n",
    "IRdisplay::display(head(gene_corrs[1:10, 1:10]))\n",
    "IRdisplay::display(head(gene_corrs_corrected[1:10, 1:10]))"
   ]
  },
  {
   "cell_type": "markdown",
   "id": "c6c40f1a-d153-475a-94eb-c71697ad9d51",
   "metadata": {
    "papermill": {
     "duration": 0.007766,
     "end_time": "2022-06-18T11:50:35.327895",
     "exception": false,
     "start_time": "2022-06-18T11:50:35.320129",
     "status": "completed"
    },
    "tags": []
   },
   "source": [
    "Both matrices should \"look\" similar. We are not interested in perfectly accurate correlation values (they are already inaccurate)."
   ]
  },
  {
   "cell_type": "markdown",
   "id": "bf0f49cb-9c21-4616-8390-bb68d52dae56",
   "metadata": {
    "papermill": {
     "duration": 0.007594,
     "end_time": "2022-06-18T11:50:35.343386",
     "exception": false,
     "start_time": "2022-06-18T11:50:35.335792",
     "status": "completed"
    },
    "tags": []
   },
   "source": [
    "# Save"
   ]
  },
  {
   "cell_type": "code",
   "execution_count": 31,
   "id": "2e58e7f3-a75c-4195-a20e-39e3e3e1cc9a",
   "metadata": {
    "execution": {
     "iopub.execute_input": "2022-06-18T11:50:35.360697Z",
     "iopub.status.busy": "2022-06-18T11:50:35.359653Z",
     "iopub.status.idle": "2022-06-18T11:50:35.384865Z",
     "shell.execute_reply": "2022-06-18T11:50:35.382727Z"
    },
    "papermill": {
     "duration": 0.035629,
     "end_time": "2022-06-18T11:50:35.386722",
     "exception": false,
     "start_time": "2022-06-18T11:50:35.351093",
     "status": "completed"
    },
    "tags": []
   },
   "outputs": [],
   "source": [
    "py_save_object(gene_corrs_corrected, OUTPUT_FILE)"
   ]
  },
  {
   "cell_type": "code",
   "execution_count": null,
   "id": "d8ae4220-2171-460c-9231-cd5219f3fe77",
   "metadata": {
    "papermill": {
     "duration": 0.007669,
     "end_time": "2022-06-18T11:50:35.402520",
     "exception": false,
     "start_time": "2022-06-18T11:50:35.394851",
     "status": "completed"
    },
    "tags": []
   },
   "outputs": [],
   "source": []
  }
 ],
 "metadata": {
  "jupytext": {
   "cell_metadata_filter": "all,-execution,-papermill,-trusted"
  },
  "kernelspec": {
   "display_name": "R",
   "language": "R",
   "name": "ir"
  },
  "language_info": {
   "codemirror_mode": "r",
   "file_extension": ".r",
   "mimetype": "text/x-r-source",
   "name": "R",
   "pygments_lexer": "r",
   "version": "3.6.3"
  },
  "papermill": {
   "default_parameters": {},
   "duration": 6.035147,
   "end_time": "2022-06-18T11:50:35.528148",
   "environment_variables": {},
   "exception": null,
   "input_path": "nbs/15_gsa_gls/12-gene_expr_correlations-adjust.ipynb",
   "output_path": "nbs/15_gsa_gls/gene_corrs/gtex_v8/mashr/12-gene_expr_correlations-adjust-chr16.run.ipynb",
   "parameters": {
    "EQTL_MODEL": "MASHR",
    "REFERENCE_PANEL": "GTEX_V8",
    "chromosome": 16
   },
   "start_time": "2022-06-18T11:50:29.493001",
   "version": "2.3.4"
  }
 },
 "nbformat": 4,
 "nbformat_minor": 5
}
