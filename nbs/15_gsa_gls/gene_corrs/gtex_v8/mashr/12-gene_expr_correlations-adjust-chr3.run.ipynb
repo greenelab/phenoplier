{
 "cells": [
  {
   "cell_type": "markdown",
   "id": "6c1f0ae4-cd27-4fec-a23d-51699e7059e8",
   "metadata": {
    "papermill": {
     "duration": 0.004993,
     "end_time": "2022-06-18T11:49:53.133345",
     "exception": false,
     "start_time": "2022-06-18T11:49:53.128352",
     "status": "completed"
    },
    "tags": []
   },
   "source": [
    "# Description"
   ]
  },
  {
   "cell_type": "markdown",
   "id": "3268a19a-8a83-4f61-aa39-09b084c81d61",
   "metadata": {
    "papermill": {
     "duration": 0.004539,
     "end_time": "2022-06-18T11:49:53.142769",
     "exception": false,
     "start_time": "2022-06-18T11:49:53.138230",
     "status": "completed"
    },
    "tags": []
   },
   "source": [
    "**TODO**"
   ]
  },
  {
   "cell_type": "markdown",
   "id": "401368d3-22c1-4d81-a2c3-c4a81fde4191",
   "metadata": {
    "papermill": {
     "duration": 0.004508,
     "end_time": "2022-06-18T11:49:53.151764",
     "exception": false,
     "start_time": "2022-06-18T11:49:53.147256",
     "status": "completed"
    },
    "tags": []
   },
   "source": [
    "# Modules"
   ]
  },
  {
   "cell_type": "code",
   "execution_count": 1,
   "id": "f9b5022b-7c5e-4d37-9c7a-fdb91777c7f9",
   "metadata": {
    "execution": {
     "iopub.execute_input": "2022-06-18T11:49:53.185659Z",
     "iopub.status.busy": "2022-06-18T11:49:53.184090Z",
     "iopub.status.idle": "2022-06-18T11:49:56.353930Z",
     "shell.execute_reply": "2022-06-18T11:49:56.352670Z"
    },
    "papermill": {
     "duration": 3.199921,
     "end_time": "2022-06-18T11:49:56.356189",
     "exception": false,
     "start_time": "2022-06-18T11:49:53.156268",
     "status": "completed"
    },
    "tags": []
   },
   "outputs": [],
   "source": [
    "library(reticulate)\n",
    "pd <- import(\"pandas\")"
   ]
  },
  {
   "cell_type": "markdown",
   "id": "c1958d6a-0229-47e8-823e-792fcf84fccf",
   "metadata": {
    "papermill": {
     "duration": 0.004585,
     "end_time": "2022-06-18T11:49:56.365560",
     "exception": false,
     "start_time": "2022-06-18T11:49:56.360975",
     "status": "completed"
    },
    "tags": []
   },
   "source": [
    "# Settings"
   ]
  },
  {
   "cell_type": "code",
   "execution_count": 2,
   "id": "22d12bb4-1699-4a6b-b1b9-d3fdd3d547d7",
   "metadata": {
    "execution": {
     "iopub.execute_input": "2022-06-18T11:49:56.397686Z",
     "iopub.status.busy": "2022-06-18T11:49:56.375754Z",
     "iopub.status.idle": "2022-06-18T11:49:56.409774Z",
     "shell.execute_reply": "2022-06-18T11:49:56.408563Z"
    },
    "papermill": {
     "duration": 0.044046,
     "end_time": "2022-06-18T11:49:56.414210",
     "exception": false,
     "start_time": "2022-06-18T11:49:56.370164",
     "status": "completed"
    },
    "tags": [
     "parameters"
    ]
   },
   "outputs": [],
   "source": [
    "# reference panel\n",
    "REFERENCE_PANEL <- \"GTEX_V8\"\n",
    "# REFERENCE_PANEL = \"1000G\"\n",
    "\n",
    "# prediction models\n",
    "## mashr\n",
    "EQTL_MODEL <- \"MASHR\"\n",
    "\n",
    "# ## elastic net\n",
    "# EQTL_MODEL = \"ELASTIC_NET\"\n",
    "\n",
    "chromosome <- NULL"
   ]
  },
  {
   "cell_type": "code",
   "execution_count": 3,
   "id": "76fd0fd3",
   "metadata": {
    "execution": {
     "iopub.execute_input": "2022-06-18T11:49:56.434241Z",
     "iopub.status.busy": "2022-06-18T11:49:56.433091Z",
     "iopub.status.idle": "2022-06-18T11:49:56.451527Z",
     "shell.execute_reply": "2022-06-18T11:49:56.450187Z"
    },
    "papermill": {
     "duration": 0.034855,
     "end_time": "2022-06-18T11:49:56.453879",
     "exception": false,
     "start_time": "2022-06-18T11:49:56.419024",
     "status": "completed"
    },
    "tags": [
     "injected-parameters"
    ]
   },
   "outputs": [],
   "source": [
    "# Parameters\n",
    "chromosome = 3\n",
    "REFERENCE_PANEL = \"GTEX_V8\"\n",
    "EQTL_MODEL = \"MASHR\"\n"
   ]
  },
  {
   "cell_type": "code",
   "execution_count": 4,
   "id": "8fe24bef",
   "metadata": {
    "execution": {
     "iopub.execute_input": "2022-06-18T11:49:56.476430Z",
     "iopub.status.busy": "2022-06-18T11:49:56.475337Z",
     "iopub.status.idle": "2022-06-18T11:49:56.489153Z",
     "shell.execute_reply": "2022-06-18T11:49:56.487877Z"
    },
    "papermill": {
     "duration": 0.035669,
     "end_time": "2022-06-18T11:49:56.494820",
     "exception": false,
     "start_time": "2022-06-18T11:49:56.459151",
     "status": "completed"
    },
    "tags": []
   },
   "outputs": [
    {
     "data": {
      "text/html": [
       "'Using reference panel: GTEX_V8'"
      ],
      "text/latex": [
       "'Using reference panel: GTEX\\_V8'"
      ],
      "text/markdown": [
       "'Using reference panel: GTEX_V8'"
      ],
      "text/plain": [
       "[1] \"Using reference panel: GTEX_V8\""
      ]
     },
     "metadata": {},
     "output_type": "display_data"
    }
   ],
   "source": [
    "paste0(\"Using reference panel: \", REFERENCE_PANEL)"
   ]
  },
  {
   "cell_type": "code",
   "execution_count": 5,
   "id": "d62c28f8-186c-478b-948c-58e14f00df4b",
   "metadata": {
    "execution": {
     "iopub.execute_input": "2022-06-18T11:49:56.509046Z",
     "iopub.status.busy": "2022-06-18T11:49:56.507950Z",
     "iopub.status.idle": "2022-06-18T11:49:56.519761Z",
     "shell.execute_reply": "2022-06-18T11:49:56.518505Z"
    },
    "papermill": {
     "duration": 0.021273,
     "end_time": "2022-06-18T11:49:56.521529",
     "exception": false,
     "start_time": "2022-06-18T11:49:56.500256",
     "status": "completed"
    },
    "tags": []
   },
   "outputs": [
    {
     "data": {
      "text/html": [
       "'Using eQTL model: MASHR'"
      ],
      "text/latex": [
       "'Using eQTL model: MASHR'"
      ],
      "text/markdown": [
       "'Using eQTL model: MASHR'"
      ],
      "text/plain": [
       "[1] \"Using eQTL model: MASHR\""
      ]
     },
     "metadata": {},
     "output_type": "display_data"
    }
   ],
   "source": [
    "paste0(\"Using eQTL model: \", EQTL_MODEL)"
   ]
  },
  {
   "cell_type": "code",
   "execution_count": 6,
   "id": "5243676f-c889-4405-9a4d-262f0f044614",
   "metadata": {
    "execution": {
     "iopub.execute_input": "2022-06-18T11:49:56.534884Z",
     "iopub.status.busy": "2022-06-18T11:49:56.533784Z",
     "iopub.status.idle": "2022-06-18T11:49:56.543630Z",
     "shell.execute_reply": "2022-06-18T11:49:56.542214Z"
    },
    "papermill": {
     "duration": 0.018643,
     "end_time": "2022-06-18T11:49:56.545796",
     "exception": false,
     "start_time": "2022-06-18T11:49:56.527153",
     "status": "completed"
    },
    "tags": []
   },
   "outputs": [],
   "source": [
    "# chromosome must be provided as parameter\n",
    "stopifnot(!is.null(chromosome))"
   ]
  },
  {
   "cell_type": "markdown",
   "id": "83a49773-bcf5-44c4-8d9b-a6ac65a57ec6",
   "metadata": {
    "papermill": {
     "duration": 0.006114,
     "end_time": "2022-06-18T11:49:56.557810",
     "exception": false,
     "start_time": "2022-06-18T11:49:56.551696",
     "status": "completed"
    },
    "tags": []
   },
   "source": [
    "# Paths"
   ]
  },
  {
   "cell_type": "code",
   "execution_count": 7,
   "id": "eb6aa8aa-b452-4a2f-a780-93dd80ad4285",
   "metadata": {
    "execution": {
     "iopub.execute_input": "2022-06-18T11:49:56.569327Z",
     "iopub.status.busy": "2022-06-18T11:49:56.568285Z",
     "iopub.status.idle": "2022-06-18T11:49:56.581223Z",
     "shell.execute_reply": "2022-06-18T11:49:56.579902Z"
    },
    "papermill": {
     "duration": 0.020697,
     "end_time": "2022-06-18T11:49:56.583406",
     "exception": false,
     "start_time": "2022-06-18T11:49:56.562709",
     "status": "completed"
    },
    "tags": []
   },
   "outputs": [
    {
     "data": {
      "text/html": [
       "'/opt/data/data/phenomexcan/ld_blocks/gene_corrs'"
      ],
      "text/latex": [
       "'/opt/data/data/phenomexcan/ld\\_blocks/gene\\_corrs'"
      ],
      "text/markdown": [
       "'/opt/data/data/phenomexcan/ld_blocks/gene_corrs'"
      ],
      "text/plain": [
       "[1] \"/opt/data/data/phenomexcan/ld_blocks/gene_corrs\""
      ]
     },
     "metadata": {},
     "output_type": "display_data"
    }
   ],
   "source": [
    "GENE_CORRS_DIR <- Sys.getenv(\"PHENOPLIER_PHENOMEXCAN_LD_BLOCKS_GENE_CORRS_DIR\")\n",
    "IRdisplay::display(GENE_CORRS_DIR)"
   ]
  },
  {
   "cell_type": "code",
   "execution_count": 8,
   "id": "eb24f15f-f282-4476-8943-8413c4483f12",
   "metadata": {
    "execution": {
     "iopub.execute_input": "2022-06-18T11:49:56.597079Z",
     "iopub.status.busy": "2022-06-18T11:49:56.595875Z",
     "iopub.status.idle": "2022-06-18T11:49:56.609543Z",
     "shell.execute_reply": "2022-06-18T11:49:56.608183Z"
    },
    "papermill": {
     "duration": 0.022237,
     "end_time": "2022-06-18T11:49:56.611327",
     "exception": false,
     "start_time": "2022-06-18T11:49:56.589090",
     "status": "completed"
    },
    "tags": []
   },
   "outputs": [
    {
     "data": {
      "text/html": [
       "'/opt/data/data/phenomexcan/ld_blocks/gene_corrs/gtex_v8/mashr/by_chr'"
      ],
      "text/latex": [
       "'/opt/data/data/phenomexcan/ld\\_blocks/gene\\_corrs/gtex\\_v8/mashr/by\\_chr'"
      ],
      "text/markdown": [
       "'/opt/data/data/phenomexcan/ld_blocks/gene_corrs/gtex_v8/mashr/by_chr'"
      ],
      "text/plain": [
       "[1] \"/opt/data/data/phenomexcan/ld_blocks/gene_corrs/gtex_v8/mashr/by_chr\""
      ]
     },
     "metadata": {},
     "output_type": "display_data"
    }
   ],
   "source": [
    "INPUT_DIR <- file.path(GENE_CORRS_DIR, tolower(REFERENCE_PANEL), tolower(EQTL_MODEL), \"by_chr\")\n",
    "IRdisplay::display(INPUT_DIR)"
   ]
  },
  {
   "cell_type": "code",
   "execution_count": 9,
   "id": "43c1daba-0da9-4822-8d1e-968e9767e251",
   "metadata": {
    "execution": {
     "iopub.execute_input": "2022-06-18T11:49:56.626125Z",
     "iopub.status.busy": "2022-06-18T11:49:56.624989Z",
     "iopub.status.idle": "2022-06-18T11:49:56.641777Z",
     "shell.execute_reply": "2022-06-18T11:49:56.640495Z"
    },
    "papermill": {
     "duration": 0.025472,
     "end_time": "2022-06-18T11:49:56.643531",
     "exception": false,
     "start_time": "2022-06-18T11:49:56.618059",
     "status": "completed"
    },
    "tags": []
   },
   "outputs": [
    {
     "data": {
      "text/html": [
       "'/opt/data/data/phenomexcan/ld_blocks/gene_corrs/gtex_v8/mashr/by_chr/gene_corrs-chr3.pkl'"
      ],
      "text/latex": [
       "'/opt/data/data/phenomexcan/ld\\_blocks/gene\\_corrs/gtex\\_v8/mashr/by\\_chr/gene\\_corrs-chr3.pkl'"
      ],
      "text/markdown": [
       "'/opt/data/data/phenomexcan/ld_blocks/gene_corrs/gtex_v8/mashr/by_chr/gene_corrs-chr3.pkl'"
      ],
      "text/plain": [
       "[1] \"/opt/data/data/phenomexcan/ld_blocks/gene_corrs/gtex_v8/mashr/by_chr/gene_corrs-chr3.pkl\""
      ]
     },
     "metadata": {},
     "output_type": "display_data"
    }
   ],
   "source": [
    "INPUT_FILE <- file.path(INPUT_DIR, paste0(\"gene_corrs-chr\", chromosome, \".pkl\"))\n",
    "IRdisplay::display(INPUT_FILE)\n",
    "stopifnot(file.exists(INPUT_FILE))"
   ]
  },
  {
   "cell_type": "code",
   "execution_count": 10,
   "id": "72386fbf-982b-420a-9057-ea9a97a5e571",
   "metadata": {
    "execution": {
     "iopub.execute_input": "2022-06-18T11:49:56.657466Z",
     "iopub.status.busy": "2022-06-18T11:49:56.656392Z",
     "iopub.status.idle": "2022-06-18T11:49:56.673722Z",
     "shell.execute_reply": "2022-06-18T11:49:56.672422Z"
    },
    "papermill": {
     "duration": 0.026015,
     "end_time": "2022-06-18T11:49:56.675623",
     "exception": false,
     "start_time": "2022-06-18T11:49:56.649608",
     "status": "completed"
    },
    "tags": []
   },
   "outputs": [
    {
     "data": {
      "text/html": [
       "'/opt/data/data/phenomexcan/ld_blocks/gene_corrs/gtex_v8/mashr/by_chr/corrected_positive_definite'"
      ],
      "text/latex": [
       "'/opt/data/data/phenomexcan/ld\\_blocks/gene\\_corrs/gtex\\_v8/mashr/by\\_chr/corrected\\_positive\\_definite'"
      ],
      "text/markdown": [
       "'/opt/data/data/phenomexcan/ld_blocks/gene_corrs/gtex_v8/mashr/by_chr/corrected_positive_definite'"
      ],
      "text/plain": [
       "[1] \"/opt/data/data/phenomexcan/ld_blocks/gene_corrs/gtex_v8/mashr/by_chr/corrected_positive_definite\""
      ]
     },
     "metadata": {},
     "output_type": "display_data"
    }
   ],
   "source": [
    "OUTPUT_DIR <- file.path(INPUT_DIR, \"corrected_positive_definite\")\n",
    "IRdisplay::display(OUTPUT_DIR)\n",
    "dir.create(OUTPUT_DIR, recursive = TRUE, showWarnings = FALSE)"
   ]
  },
  {
   "cell_type": "code",
   "execution_count": 11,
   "id": "f9f19d1d-ce4c-4099-a26e-250fec751de7",
   "metadata": {
    "execution": {
     "iopub.execute_input": "2022-06-18T11:49:56.697889Z",
     "iopub.status.busy": "2022-06-18T11:49:56.696673Z",
     "iopub.status.idle": "2022-06-18T11:49:56.717029Z",
     "shell.execute_reply": "2022-06-18T11:49:56.712591Z"
    },
    "papermill": {
     "duration": 0.02967,
     "end_time": "2022-06-18T11:49:56.718961",
     "exception": false,
     "start_time": "2022-06-18T11:49:56.689291",
     "status": "completed"
    },
    "tags": []
   },
   "outputs": [
    {
     "data": {
      "text/html": [
       "'/opt/data/data/phenomexcan/ld_blocks/gene_corrs/gtex_v8/mashr/by_chr/corrected_positive_definite/gene_corrs-chr3.pkl'"
      ],
      "text/latex": [
       "'/opt/data/data/phenomexcan/ld\\_blocks/gene\\_corrs/gtex\\_v8/mashr/by\\_chr/corrected\\_positive\\_definite/gene\\_corrs-chr3.pkl'"
      ],
      "text/markdown": [
       "'/opt/data/data/phenomexcan/ld_blocks/gene_corrs/gtex_v8/mashr/by_chr/corrected_positive_definite/gene_corrs-chr3.pkl'"
      ],
      "text/plain": [
       "[1] \"/opt/data/data/phenomexcan/ld_blocks/gene_corrs/gtex_v8/mashr/by_chr/corrected_positive_definite/gene_corrs-chr3.pkl\""
      ]
     },
     "metadata": {},
     "output_type": "display_data"
    },
    {
     "data": {
      "text/html": [
       "'Output file exists, it will be overwritten'"
      ],
      "text/latex": [
       "'Output file exists, it will be overwritten'"
      ],
      "text/markdown": [
       "'Output file exists, it will be overwritten'"
      ],
      "text/plain": [
       "[1] \"Output file exists, it will be overwritten\""
      ]
     },
     "metadata": {},
     "output_type": "display_data"
    }
   ],
   "source": [
    "OUTPUT_FILE <- file.path(OUTPUT_DIR, paste0(\"gene_corrs-chr\", chromosome, \".pkl\"))\n",
    "IRdisplay::display(OUTPUT_FILE)\n",
    "if (file.exists(OUTPUT_FILE)) {\n",
    "  IRdisplay::display(\"Output file exists, it will be overwritten\")\n",
    "}"
   ]
  },
  {
   "cell_type": "markdown",
   "id": "5aad60e6-cba4-41b5-9755-93eb86f4ed05",
   "metadata": {
    "papermill": {
     "duration": 0.006083,
     "end_time": "2022-06-18T11:49:56.731321",
     "exception": false,
     "start_time": "2022-06-18T11:49:56.725238",
     "status": "completed"
    },
    "tags": []
   },
   "source": [
    "# Functions"
   ]
  },
  {
   "cell_type": "code",
   "execution_count": 12,
   "id": "f828f081-7358-4cc8-8a89-1ee293bcc1a7",
   "metadata": {
    "execution": {
     "iopub.execute_input": "2022-06-18T11:49:56.746472Z",
     "iopub.status.busy": "2022-06-18T11:49:56.745344Z",
     "iopub.status.idle": "2022-06-18T11:49:56.754966Z",
     "shell.execute_reply": "2022-06-18T11:49:56.753781Z"
    },
    "papermill": {
     "duration": 0.01882,
     "end_time": "2022-06-18T11:49:56.756679",
     "exception": false,
     "start_time": "2022-06-18T11:49:56.737859",
     "status": "completed"
    },
    "tags": []
   },
   "outputs": [],
   "source": [
    "# taken from https://www.r-bloggers.com/2013/08/correcting-a-pseudo-correlation-matrix-to-be-positive-semidefinite/\n",
    "# TODO: add documentation\n",
    "CorrectCM <- function(CM, p = 0) {\n",
    "  n <- dim(var(CM))[1L]\n",
    "  E <- eigen(CM)\n",
    "  CM1 <- E$vectors %*% tcrossprod(diag(pmax(E$values, p), n), E$vectors)\n",
    "  Balance <- diag(1 / sqrt(diag(CM1)))\n",
    "  CM2 <- Balance %*% CM1 %*% Balance\n",
    "  return(CM2)\n",
    "}"
   ]
  },
  {
   "cell_type": "code",
   "execution_count": 13,
   "id": "7ab9bebf-50a1-4e6f-b16a-e23cae93d02a",
   "metadata": {
    "execution": {
     "iopub.execute_input": "2022-06-18T11:49:56.770965Z",
     "iopub.status.busy": "2022-06-18T11:49:56.769905Z",
     "iopub.status.idle": "2022-06-18T11:49:56.779212Z",
     "shell.execute_reply": "2022-06-18T11:49:56.777918Z"
    },
    "papermill": {
     "duration": 0.018129,
     "end_time": "2022-06-18T11:49:56.781051",
     "exception": false,
     "start_time": "2022-06-18T11:49:56.762922",
     "status": "completed"
    },
    "tags": []
   },
   "outputs": [],
   "source": [
    "is_positive_definite <- function(data) {\n",
    "  eigenvalues <- eigen(data)$values\n",
    "  nonpositive_eigenvalues <- eigenvalues[eigenvalues <= 0]\n",
    "\n",
    "  if (length(nonpositive_eigenvalues) > 0) {\n",
    "    IRdisplay::display(\"We need to correct the data and make the matrix positive definite\")\n",
    "    return(FALSE)\n",
    "  } else {\n",
    "    IRdisplay::display(\"Matrix is already positive definite!\")\n",
    "    return(TRUE)\n",
    "  }\n",
    "}"
   ]
  },
  {
   "cell_type": "markdown",
   "id": "ac52ecbc-5618-4876-a4fa-546a08e3fcf3",
   "metadata": {
    "papermill": {
     "duration": 0.005827,
     "end_time": "2022-06-18T11:49:56.793109",
     "exception": false,
     "start_time": "2022-06-18T11:49:56.787282",
     "status": "completed"
    },
    "tags": []
   },
   "source": [
    "# Load data"
   ]
  },
  {
   "cell_type": "code",
   "execution_count": 14,
   "id": "3a7744e1-2e5a-450e-9dcf-945ec181347d",
   "metadata": {
    "execution": {
     "iopub.execute_input": "2022-06-18T11:49:56.807106Z",
     "iopub.status.busy": "2022-06-18T11:49:56.806044Z",
     "iopub.status.idle": "2022-06-18T11:49:56.875566Z",
     "shell.execute_reply": "2022-06-18T11:49:56.873399Z"
    },
    "papermill": {
     "duration": 0.078473,
     "end_time": "2022-06-18T11:49:56.877413",
     "exception": false,
     "start_time": "2022-06-18T11:49:56.798940",
     "status": "completed"
    },
    "tags": []
   },
   "outputs": [],
   "source": [
    "gene_corrs <- pd$read_pickle(INPUT_FILE)"
   ]
  },
  {
   "cell_type": "code",
   "execution_count": 15,
   "id": "6fb150b2-4c68-4e9b-9aa5-1890d3f762e3",
   "metadata": {
    "execution": {
     "iopub.execute_input": "2022-06-18T11:49:56.892009Z",
     "iopub.status.busy": "2022-06-18T11:49:56.890880Z",
     "iopub.status.idle": "2022-06-18T11:49:56.903197Z",
     "shell.execute_reply": "2022-06-18T11:49:56.901810Z"
    },
    "papermill": {
     "duration": 0.021225,
     "end_time": "2022-06-18T11:49:56.905025",
     "exception": false,
     "start_time": "2022-06-18T11:49:56.883800",
     "status": "completed"
    },
    "tags": []
   },
   "outputs": [
    {
     "data": {
      "text/html": [
       "<style>\n",
       ".list-inline {list-style: none; margin:0; padding: 0}\n",
       ".list-inline>li {display: inline-block}\n",
       ".list-inline>li:not(:last-child)::after {content: \"\\00b7\"; padding: 0 .5ex}\n",
       "</style>\n",
       "<ol class=list-inline><li>393</li><li>393</li></ol>\n"
      ],
      "text/latex": [
       "\\begin{enumerate*}\n",
       "\\item 393\n",
       "\\item 393\n",
       "\\end{enumerate*}\n"
      ],
      "text/markdown": [
       "1. 393\n",
       "2. 393\n",
       "\n",
       "\n"
      ],
      "text/plain": [
       "[1] 393 393"
      ]
     },
     "metadata": {},
     "output_type": "display_data"
    }
   ],
   "source": [
    "dim(gene_corrs)"
   ]
  },
  {
   "cell_type": "code",
   "execution_count": 16,
   "id": "0d4e53b5-7586-4a68-8ce5-d930d74ba943",
   "metadata": {
    "execution": {
     "iopub.execute_input": "2022-06-18T11:49:56.920200Z",
     "iopub.status.busy": "2022-06-18T11:49:56.919175Z",
     "iopub.status.idle": "2022-06-18T11:49:56.940309Z",
     "shell.execute_reply": "2022-06-18T11:49:56.939070Z"
    },
    "papermill": {
     "duration": 0.029951,
     "end_time": "2022-06-18T11:49:56.942072",
     "exception": false,
     "start_time": "2022-06-18T11:49:56.912121",
     "status": "completed"
    },
    "tags": []
   },
   "outputs": [
    {
     "data": {
      "text/html": [
       "<table class=\"dataframe\">\n",
       "<caption>A data.frame: 6 × 10</caption>\n",
       "<thead>\n",
       "\t<tr><th></th><th scope=col>ENSG00000134121</th><th scope=col>ENSG00000091181</th><th scope=col>ENSG00000144455</th><th scope=col>ENSG00000170364</th><th scope=col>ENSG00000150995</th><th scope=col>ENSG00000134107</th><th scope=col>ENSG00000134109</th><th scope=col>ENSG00000180914</th><th scope=col>ENSG00000196220</th><th scope=col>ENSG00000163719</th></tr>\n",
       "\t<tr><th></th><th scope=col>&lt;dbl&gt;</th><th scope=col>&lt;dbl&gt;</th><th scope=col>&lt;dbl&gt;</th><th scope=col>&lt;dbl&gt;</th><th scope=col>&lt;dbl&gt;</th><th scope=col>&lt;dbl&gt;</th><th scope=col>&lt;dbl&gt;</th><th scope=col>&lt;dbl&gt;</th><th scope=col>&lt;dbl&gt;</th><th scope=col>&lt;dbl&gt;</th></tr>\n",
       "</thead>\n",
       "<tbody>\n",
       "\t<tr><th scope=row>ENSG00000134121</th><td> 1.000000000</td><td>-0.005292137</td><td>0.03000655</td><td>-0.02264608</td><td>-0.042667080</td><td> 0.095730848</td><td>-0.042436975</td><td>0.00000000</td><td> 0.00000000</td><td> 0.0000000</td></tr>\n",
       "\t<tr><th scope=row>ENSG00000091181</th><td>-0.005292137</td><td> 1.000000000</td><td>0.06407092</td><td>-0.05455147</td><td> 0.073573178</td><td>-0.024861424</td><td>-0.035525412</td><td>0.00000000</td><td> 0.00000000</td><td> 0.0000000</td></tr>\n",
       "\t<tr><th scope=row>ENSG00000144455</th><td> 0.030006554</td><td> 0.064070923</td><td>1.00000000</td><td> 0.23056040</td><td> 0.038559521</td><td> 0.022396071</td><td> 0.105842350</td><td>0.05855223</td><td> 0.04639374</td><td> 0.0000000</td></tr>\n",
       "\t<tr><th scope=row>ENSG00000170364</th><td>-0.022646076</td><td>-0.054551471</td><td>0.23056040</td><td> 1.00000000</td><td>-0.037986584</td><td> 0.039735622</td><td>-0.067866315</td><td>0.06449193</td><td>-0.15825002</td><td> 0.0000000</td></tr>\n",
       "\t<tr><th scope=row>ENSG00000150995</th><td>-0.042667080</td><td> 0.073573178</td><td>0.03855952</td><td>-0.03798658</td><td> 1.000000000</td><td>-0.007345318</td><td>-0.028169573</td><td>0.00820978</td><td> 0.04093686</td><td>-0.1082528</td></tr>\n",
       "\t<tr><th scope=row>ENSG00000134107</th><td> 0.095730848</td><td>-0.024861424</td><td>0.02239607</td><td> 0.03973562</td><td>-0.007345318</td><td> 1.000000000</td><td> 0.005379158</td><td>0.07821121</td><td> 0.10829504</td><td>-0.1113816</td></tr>\n",
       "</tbody>\n",
       "</table>\n"
      ],
      "text/latex": [
       "A data.frame: 6 × 10\n",
       "\\begin{tabular}{r|llllllllll}\n",
       "  & ENSG00000134121 & ENSG00000091181 & ENSG00000144455 & ENSG00000170364 & ENSG00000150995 & ENSG00000134107 & ENSG00000134109 & ENSG00000180914 & ENSG00000196220 & ENSG00000163719\\\\\n",
       "  & <dbl> & <dbl> & <dbl> & <dbl> & <dbl> & <dbl> & <dbl> & <dbl> & <dbl> & <dbl>\\\\\n",
       "\\hline\n",
       "\tENSG00000134121 &  1.000000000 & -0.005292137 & 0.03000655 & -0.02264608 & -0.042667080 &  0.095730848 & -0.042436975 & 0.00000000 &  0.00000000 &  0.0000000\\\\\n",
       "\tENSG00000091181 & -0.005292137 &  1.000000000 & 0.06407092 & -0.05455147 &  0.073573178 & -0.024861424 & -0.035525412 & 0.00000000 &  0.00000000 &  0.0000000\\\\\n",
       "\tENSG00000144455 &  0.030006554 &  0.064070923 & 1.00000000 &  0.23056040 &  0.038559521 &  0.022396071 &  0.105842350 & 0.05855223 &  0.04639374 &  0.0000000\\\\\n",
       "\tENSG00000170364 & -0.022646076 & -0.054551471 & 0.23056040 &  1.00000000 & -0.037986584 &  0.039735622 & -0.067866315 & 0.06449193 & -0.15825002 &  0.0000000\\\\\n",
       "\tENSG00000150995 & -0.042667080 &  0.073573178 & 0.03855952 & -0.03798658 &  1.000000000 & -0.007345318 & -0.028169573 & 0.00820978 &  0.04093686 & -0.1082528\\\\\n",
       "\tENSG00000134107 &  0.095730848 & -0.024861424 & 0.02239607 &  0.03973562 & -0.007345318 &  1.000000000 &  0.005379158 & 0.07821121 &  0.10829504 & -0.1113816\\\\\n",
       "\\end{tabular}\n"
      ],
      "text/markdown": [
       "\n",
       "A data.frame: 6 × 10\n",
       "\n",
       "| <!--/--> | ENSG00000134121 &lt;dbl&gt; | ENSG00000091181 &lt;dbl&gt; | ENSG00000144455 &lt;dbl&gt; | ENSG00000170364 &lt;dbl&gt; | ENSG00000150995 &lt;dbl&gt; | ENSG00000134107 &lt;dbl&gt; | ENSG00000134109 &lt;dbl&gt; | ENSG00000180914 &lt;dbl&gt; | ENSG00000196220 &lt;dbl&gt; | ENSG00000163719 &lt;dbl&gt; |\n",
       "|---|---|---|---|---|---|---|---|---|---|---|\n",
       "| ENSG00000134121 |  1.000000000 | -0.005292137 | 0.03000655 | -0.02264608 | -0.042667080 |  0.095730848 | -0.042436975 | 0.00000000 |  0.00000000 |  0.0000000 |\n",
       "| ENSG00000091181 | -0.005292137 |  1.000000000 | 0.06407092 | -0.05455147 |  0.073573178 | -0.024861424 | -0.035525412 | 0.00000000 |  0.00000000 |  0.0000000 |\n",
       "| ENSG00000144455 |  0.030006554 |  0.064070923 | 1.00000000 |  0.23056040 |  0.038559521 |  0.022396071 |  0.105842350 | 0.05855223 |  0.04639374 |  0.0000000 |\n",
       "| ENSG00000170364 | -0.022646076 | -0.054551471 | 0.23056040 |  1.00000000 | -0.037986584 |  0.039735622 | -0.067866315 | 0.06449193 | -0.15825002 |  0.0000000 |\n",
       "| ENSG00000150995 | -0.042667080 |  0.073573178 | 0.03855952 | -0.03798658 |  1.000000000 | -0.007345318 | -0.028169573 | 0.00820978 |  0.04093686 | -0.1082528 |\n",
       "| ENSG00000134107 |  0.095730848 | -0.024861424 | 0.02239607 |  0.03973562 | -0.007345318 |  1.000000000 |  0.005379158 | 0.07821121 |  0.10829504 | -0.1113816 |\n",
       "\n"
      ],
      "text/plain": [
       "                ENSG00000134121 ENSG00000091181 ENSG00000144455 ENSG00000170364\n",
       "ENSG00000134121  1.000000000    -0.005292137    0.03000655      -0.02264608    \n",
       "ENSG00000091181 -0.005292137     1.000000000    0.06407092      -0.05455147    \n",
       "ENSG00000144455  0.030006554     0.064070923    1.00000000       0.23056040    \n",
       "ENSG00000170364 -0.022646076    -0.054551471    0.23056040       1.00000000    \n",
       "ENSG00000150995 -0.042667080     0.073573178    0.03855952      -0.03798658    \n",
       "ENSG00000134107  0.095730848    -0.024861424    0.02239607       0.03973562    \n",
       "                ENSG00000150995 ENSG00000134107 ENSG00000134109 ENSG00000180914\n",
       "ENSG00000134121 -0.042667080     0.095730848    -0.042436975    0.00000000     \n",
       "ENSG00000091181  0.073573178    -0.024861424    -0.035525412    0.00000000     \n",
       "ENSG00000144455  0.038559521     0.022396071     0.105842350    0.05855223     \n",
       "ENSG00000170364 -0.037986584     0.039735622    -0.067866315    0.06449193     \n",
       "ENSG00000150995  1.000000000    -0.007345318    -0.028169573    0.00820978     \n",
       "ENSG00000134107 -0.007345318     1.000000000     0.005379158    0.07821121     \n",
       "                ENSG00000196220 ENSG00000163719\n",
       "ENSG00000134121  0.00000000      0.0000000     \n",
       "ENSG00000091181  0.00000000      0.0000000     \n",
       "ENSG00000144455  0.04639374      0.0000000     \n",
       "ENSG00000170364 -0.15825002      0.0000000     \n",
       "ENSG00000150995  0.04093686     -0.1082528     \n",
       "ENSG00000134107  0.10829504     -0.1113816     "
      ]
     },
     "metadata": {},
     "output_type": "display_data"
    }
   ],
   "source": [
    "head(gene_corrs[1:10, 1:10])"
   ]
  },
  {
   "cell_type": "markdown",
   "id": "c5c9ffba-1678-4ce7-8988-4ee03e23bdf2",
   "metadata": {
    "papermill": {
     "duration": 0.006501,
     "end_time": "2022-06-18T11:49:56.955399",
     "exception": false,
     "start_time": "2022-06-18T11:49:56.948898",
     "status": "completed"
    },
    "tags": []
   },
   "source": [
    "# Check positive definiteness"
   ]
  },
  {
   "cell_type": "code",
   "execution_count": 17,
   "id": "178854f5-487a-42e8-82b4-625c1979734a",
   "metadata": {
    "execution": {
     "iopub.execute_input": "2022-06-18T11:49:56.969538Z",
     "iopub.status.busy": "2022-06-18T11:49:56.968561Z",
     "iopub.status.idle": "2022-06-18T11:49:57.032279Z",
     "shell.execute_reply": "2022-06-18T11:49:57.029335Z"
    },
    "papermill": {
     "duration": 0.072309,
     "end_time": "2022-06-18T11:49:57.033967",
     "exception": false,
     "start_time": "2022-06-18T11:49:56.961658",
     "status": "completed"
    },
    "tags": []
   },
   "outputs": [
    {
     "data": {
      "text/html": [
       "'We need to correct the data and make the matrix positive definite'"
      ],
      "text/latex": [
       "'We need to correct the data and make the matrix positive definite'"
      ],
      "text/markdown": [
       "'We need to correct the data and make the matrix positive definite'"
      ],
      "text/plain": [
       "[1] \"We need to correct the data and make the matrix positive definite\""
      ]
     },
     "metadata": {},
     "output_type": "display_data"
    },
    {
     "data": {
      "text/html": [
       "FALSE"
      ],
      "text/latex": [
       "FALSE"
      ],
      "text/markdown": [
       "FALSE"
      ],
      "text/plain": [
       "[1] FALSE"
      ]
     },
     "metadata": {},
     "output_type": "display_data"
    }
   ],
   "source": [
    "is_positive_definite(gene_corrs)"
   ]
  },
  {
   "cell_type": "code",
   "execution_count": 18,
   "id": "58542ade-c80f-42e6-acbf-6464dab70fdb",
   "metadata": {
    "execution": {
     "iopub.execute_input": "2022-06-18T11:49:57.055800Z",
     "iopub.status.busy": "2022-06-18T11:49:57.054820Z",
     "iopub.status.idle": "2022-06-18T11:49:57.120068Z",
     "shell.execute_reply": "2022-06-18T11:49:57.117279Z"
    },
    "papermill": {
     "duration": 0.078622,
     "end_time": "2022-06-18T11:49:57.121416",
     "exception": false,
     "start_time": "2022-06-18T11:49:57.042794",
     "status": "completed"
    },
    "tags": []
   },
   "outputs": [],
   "source": [
    "# see eigenvalues\n",
    "eigenvalues <- eigen(gene_corrs)$values"
   ]
  },
  {
   "cell_type": "code",
   "execution_count": 19,
   "id": "9486e0db-e924-43ab-bb6c-0d997fd38f3d",
   "metadata": {
    "execution": {
     "iopub.execute_input": "2022-06-18T11:49:57.171842Z",
     "iopub.status.busy": "2022-06-18T11:49:57.165238Z",
     "iopub.status.idle": "2022-06-18T11:49:57.208276Z",
     "shell.execute_reply": "2022-06-18T11:49:57.205212Z"
    },
    "papermill": {
     "duration": 0.068905,
     "end_time": "2022-06-18T11:49:57.209707",
     "exception": false,
     "start_time": "2022-06-18T11:49:57.140802",
     "status": "completed"
    },
    "tags": []
   },
   "outputs": [
    {
     "data": {
      "text/html": [
       "33"
      ],
      "text/latex": [
       "33"
      ],
      "text/markdown": [
       "33"
      ],
      "text/plain": [
       "[1] 33"
      ]
     },
     "metadata": {},
     "output_type": "display_data"
    },
    {
     "data": {
      "text/html": [
       "<style>\n",
       ".list-inline {list-style: none; margin:0; padding: 0}\n",
       ".list-inline>li {display: inline-block}\n",
       ".list-inline>li:not(:last-child)::after {content: \"\\00b7\"; padding: 0 .5ex}\n",
       "</style>\n",
       "<ol class=list-inline><li>-0.024351285431859</li><li>-0.0319289383951924</li><li>-0.0671581544762909</li><li>-0.0954710173361697</li><li>-0.110765080449179</li><li>-0.115537672411239</li><li>-0.148511620509707</li><li>-0.179220889697225</li><li>-0.206757169603095</li><li>-0.245032125388442</li><li>-0.326372326303631</li><li>-0.394202404110891</li><li>-0.416303035951259</li><li>-0.466479373303687</li><li>-0.568730500864934</li><li>-0.576511199655283</li><li>-0.668832528832082</li><li>-0.686500895767685</li><li>-0.763206080604871</li><li>-0.768264291457923</li><li>-0.847422216428861</li><li>-0.947161933624971</li><li>-1.05594220283726</li><li>-1.11520885189651</li><li>-1.27053166493568</li><li>-1.28093201091409</li><li>-1.4142658708968</li><li>-1.51038245862159</li><li>-1.78547292900906</li><li>-1.81449589426869</li><li>-2.02964848172527</li><li>-2.46435556588975</li><li>-4.03665238375562</li></ol>\n"
      ],
      "text/latex": [
       "\\begin{enumerate*}\n",
       "\\item -0.024351285431859\n",
       "\\item -0.0319289383951924\n",
       "\\item -0.0671581544762909\n",
       "\\item -0.0954710173361697\n",
       "\\item -0.110765080449179\n",
       "\\item -0.115537672411239\n",
       "\\item -0.148511620509707\n",
       "\\item -0.179220889697225\n",
       "\\item -0.206757169603095\n",
       "\\item -0.245032125388442\n",
       "\\item -0.326372326303631\n",
       "\\item -0.394202404110891\n",
       "\\item -0.416303035951259\n",
       "\\item -0.466479373303687\n",
       "\\item -0.568730500864934\n",
       "\\item -0.576511199655283\n",
       "\\item -0.668832528832082\n",
       "\\item -0.686500895767685\n",
       "\\item -0.763206080604871\n",
       "\\item -0.768264291457923\n",
       "\\item -0.847422216428861\n",
       "\\item -0.947161933624971\n",
       "\\item -1.05594220283726\n",
       "\\item -1.11520885189651\n",
       "\\item -1.27053166493568\n",
       "\\item -1.28093201091409\n",
       "\\item -1.4142658708968\n",
       "\\item -1.51038245862159\n",
       "\\item -1.78547292900906\n",
       "\\item -1.81449589426869\n",
       "\\item -2.02964848172527\n",
       "\\item -2.46435556588975\n",
       "\\item -4.03665238375562\n",
       "\\end{enumerate*}\n"
      ],
      "text/markdown": [
       "1. -0.024351285431859\n",
       "2. -0.0319289383951924\n",
       "3. -0.0671581544762909\n",
       "4. -0.0954710173361697\n",
       "5. -0.110765080449179\n",
       "6. -0.115537672411239\n",
       "7. -0.148511620509707\n",
       "8. -0.179220889697225\n",
       "9. -0.206757169603095\n",
       "10. -0.245032125388442\n",
       "11. -0.326372326303631\n",
       "12. -0.394202404110891\n",
       "13. -0.416303035951259\n",
       "14. -0.466479373303687\n",
       "15. -0.568730500864934\n",
       "16. -0.576511199655283\n",
       "17. -0.668832528832082\n",
       "18. -0.686500895767685\n",
       "19. -0.763206080604871\n",
       "20. -0.768264291457923\n",
       "21. -0.847422216428861\n",
       "22. -0.947161933624971\n",
       "23. -1.05594220283726\n",
       "24. -1.11520885189651\n",
       "25. -1.27053166493568\n",
       "26. -1.28093201091409\n",
       "27. -1.4142658708968\n",
       "28. -1.51038245862159\n",
       "29. -1.78547292900906\n",
       "30. -1.81449589426869\n",
       "31. -2.02964848172527\n",
       "32. -2.46435556588975\n",
       "33. -4.03665238375562\n",
       "\n",
       "\n"
      ],
      "text/plain": [
       " [1] -0.02435129 -0.03192894 -0.06715815 -0.09547102 -0.11076508 -0.11553767\n",
       " [7] -0.14851162 -0.17922089 -0.20675717 -0.24503213 -0.32637233 -0.39420240\n",
       "[13] -0.41630304 -0.46647937 -0.56873050 -0.57651120 -0.66883253 -0.68650090\n",
       "[19] -0.76320608 -0.76826429 -0.84742222 -0.94716193 -1.05594220 -1.11520885\n",
       "[25] -1.27053166 -1.28093201 -1.41426587 -1.51038246 -1.78547293 -1.81449589\n",
       "[31] -2.02964848 -2.46435557 -4.03665238"
      ]
     },
     "metadata": {},
     "output_type": "display_data"
    }
   ],
   "source": [
    "nonpositive_eigenvalues <- eigenvalues[eigenvalues <= 0]\n",
    "IRdisplay::display(length(nonpositive_eigenvalues))\n",
    "IRdisplay::display(nonpositive_eigenvalues)"
   ]
  },
  {
   "cell_type": "code",
   "execution_count": 20,
   "id": "410ee452-488f-4518-b93a-2acd608ba99c",
   "metadata": {
    "execution": {
     "iopub.execute_input": "2022-06-18T11:49:57.237952Z",
     "iopub.status.busy": "2022-06-18T11:49:57.236994Z",
     "iopub.status.idle": "2022-06-18T11:49:57.250042Z",
     "shell.execute_reply": "2022-06-18T11:49:57.247421Z"
    },
    "papermill": {
     "duration": 0.02819,
     "end_time": "2022-06-18T11:49:57.251601",
     "exception": false,
     "start_time": "2022-06-18T11:49:57.223411",
     "status": "completed"
    },
    "tags": []
   },
   "outputs": [],
   "source": [
    "if (length(eigenvalues[eigenvalues <= 0]) == 0) { quit() }"
   ]
  },
  {
   "cell_type": "markdown",
   "id": "2d280a82-f231-402d-82ab-9291d395afc1",
   "metadata": {
    "papermill": {
     "duration": 0.010545,
     "end_time": "2022-06-18T11:49:57.271353",
     "exception": false,
     "start_time": "2022-06-18T11:49:57.260808",
     "status": "completed"
    },
    "tags": []
   },
   "source": [
    "# Make matrix positive definite if needed"
   ]
  },
  {
   "cell_type": "code",
   "execution_count": 21,
   "id": "b9037873-4067-4ac6-aa92-e9225a6c9353",
   "metadata": {
    "execution": {
     "iopub.execute_input": "2022-06-18T11:49:57.297433Z",
     "iopub.status.busy": "2022-06-18T11:49:57.296390Z",
     "iopub.status.idle": "2022-06-18T11:49:57.465498Z",
     "shell.execute_reply": "2022-06-18T11:49:57.461569Z"
    },
    "papermill": {
     "duration": 0.178589,
     "end_time": "2022-06-18T11:49:57.467107",
     "exception": false,
     "start_time": "2022-06-18T11:49:57.288518",
     "status": "completed"
    },
    "tags": []
   },
   "outputs": [],
   "source": [
    "gene_corrs_corrected <- CorrectCM(gene_corrs, 1)"
   ]
  },
  {
   "cell_type": "code",
   "execution_count": 22,
   "id": "03c86284-5aac-4f66-86cc-74eb97102a7e",
   "metadata": {
    "execution": {
     "iopub.execute_input": "2022-06-18T11:49:57.484069Z",
     "iopub.status.busy": "2022-06-18T11:49:57.483067Z",
     "iopub.status.idle": "2022-06-18T11:49:57.493185Z",
     "shell.execute_reply": "2022-06-18T11:49:57.491420Z"
    },
    "papermill": {
     "duration": 0.019498,
     "end_time": "2022-06-18T11:49:57.494676",
     "exception": false,
     "start_time": "2022-06-18T11:49:57.475178",
     "status": "completed"
    },
    "tags": []
   },
   "outputs": [],
   "source": [
    "dimnames(gene_corrs_corrected)[[1]] <- rownames(gene_corrs)"
   ]
  },
  {
   "cell_type": "code",
   "execution_count": 23,
   "id": "576e7069-25ff-473d-8158-35b5f2ff212e",
   "metadata": {
    "execution": {
     "iopub.execute_input": "2022-06-18T11:49:57.509186Z",
     "iopub.status.busy": "2022-06-18T11:49:57.508289Z",
     "iopub.status.idle": "2022-06-18T11:49:57.518702Z",
     "shell.execute_reply": "2022-06-18T11:49:57.516890Z"
    },
    "papermill": {
     "duration": 0.019301,
     "end_time": "2022-06-18T11:49:57.520262",
     "exception": false,
     "start_time": "2022-06-18T11:49:57.500961",
     "status": "completed"
    },
    "tags": []
   },
   "outputs": [],
   "source": [
    "dimnames(gene_corrs_corrected)[[2]] <- colnames(gene_corrs)"
   ]
  },
  {
   "cell_type": "code",
   "execution_count": 24,
   "id": "f77d043a-321d-447f-8da5-2503981d3e73",
   "metadata": {
    "execution": {
     "iopub.execute_input": "2022-06-18T11:49:57.534840Z",
     "iopub.status.busy": "2022-06-18T11:49:57.533875Z",
     "iopub.status.idle": "2022-06-18T11:49:57.549969Z",
     "shell.execute_reply": "2022-06-18T11:49:57.548766Z"
    },
    "papermill": {
     "duration": 0.024679,
     "end_time": "2022-06-18T11:49:57.551443",
     "exception": false,
     "start_time": "2022-06-18T11:49:57.526764",
     "status": "completed"
    },
    "tags": []
   },
   "outputs": [],
   "source": [
    "gene_corrs_corrected <- as.data.frame(gene_corrs_corrected)"
   ]
  },
  {
   "cell_type": "code",
   "execution_count": 25,
   "id": "3e844024-f9a2-42a2-bbd0-695cfdbb78f5",
   "metadata": {
    "execution": {
     "iopub.execute_input": "2022-06-18T11:49:57.577084Z",
     "iopub.status.busy": "2022-06-18T11:49:57.576135Z",
     "iopub.status.idle": "2022-06-18T11:49:57.608143Z",
     "shell.execute_reply": "2022-06-18T11:49:57.606840Z"
    },
    "papermill": {
     "duration": 0.048751,
     "end_time": "2022-06-18T11:49:57.609630",
     "exception": false,
     "start_time": "2022-06-18T11:49:57.560879",
     "status": "completed"
    },
    "tags": []
   },
   "outputs": [
    {
     "data": {
      "text/html": [
       "<style>\n",
       ".list-inline {list-style: none; margin:0; padding: 0}\n",
       ".list-inline>li {display: inline-block}\n",
       ".list-inline>li:not(:last-child)::after {content: \"\\00b7\"; padding: 0 .5ex}\n",
       "</style>\n",
       "<ol class=list-inline><li>393</li><li>393</li></ol>\n"
      ],
      "text/latex": [
       "\\begin{enumerate*}\n",
       "\\item 393\n",
       "\\item 393\n",
       "\\end{enumerate*}\n"
      ],
      "text/markdown": [
       "1. 393\n",
       "2. 393\n",
       "\n",
       "\n"
      ],
      "text/plain": [
       "[1] 393 393"
      ]
     },
     "metadata": {},
     "output_type": "display_data"
    }
   ],
   "source": [
    "dim(gene_corrs_corrected)"
   ]
  },
  {
   "cell_type": "markdown",
   "id": "244b6bde-4ca8-46d1-acc7-b4c35b5d3c62",
   "metadata": {
    "papermill": {
     "duration": 0.012604,
     "end_time": "2022-06-18T11:49:57.632811",
     "exception": false,
     "start_time": "2022-06-18T11:49:57.620207",
     "status": "completed"
    },
    "tags": []
   },
   "source": [
    "# Check positive definiteness of corrected matrix"
   ]
  },
  {
   "cell_type": "code",
   "execution_count": 26,
   "id": "0fd5b688-e137-4619-910c-35130d32d600",
   "metadata": {
    "execution": {
     "iopub.execute_input": "2022-06-18T11:49:57.665290Z",
     "iopub.status.busy": "2022-06-18T11:49:57.664385Z",
     "iopub.status.idle": "2022-06-18T11:49:57.762197Z",
     "shell.execute_reply": "2022-06-18T11:49:57.760952Z"
    },
    "papermill": {
     "duration": 0.115794,
     "end_time": "2022-06-18T11:49:57.763683",
     "exception": false,
     "start_time": "2022-06-18T11:49:57.647889",
     "status": "completed"
    },
    "tags": []
   },
   "outputs": [
    {
     "data": {
      "text/html": [
       "'Matrix is already positive definite!'"
      ],
      "text/latex": [
       "'Matrix is already positive definite!'"
      ],
      "text/markdown": [
       "'Matrix is already positive definite!'"
      ],
      "text/plain": [
       "[1] \"Matrix is already positive definite!\""
      ]
     },
     "metadata": {},
     "output_type": "display_data"
    },
    {
     "data": {
      "text/html": [
       "TRUE"
      ],
      "text/latex": [
       "TRUE"
      ],
      "text/markdown": [
       "TRUE"
      ],
      "text/plain": [
       "[1] TRUE"
      ]
     },
     "metadata": {},
     "output_type": "display_data"
    }
   ],
   "source": [
    "is_positive_definite(gene_corrs_corrected)"
   ]
  },
  {
   "cell_type": "code",
   "execution_count": 27,
   "id": "06d23ab8-bebb-474c-be33-dca7e53c1717",
   "metadata": {
    "execution": {
     "iopub.execute_input": "2022-06-18T11:49:57.802317Z",
     "iopub.status.busy": "2022-06-18T11:49:57.798367Z",
     "iopub.status.idle": "2022-06-18T11:49:57.876463Z",
     "shell.execute_reply": "2022-06-18T11:49:57.875212Z"
    },
    "papermill": {
     "duration": 0.107279,
     "end_time": "2022-06-18T11:49:57.877962",
     "exception": false,
     "start_time": "2022-06-18T11:49:57.770683",
     "status": "completed"
    },
    "tags": []
   },
   "outputs": [],
   "source": [
    "# see eigenvalues\n",
    "eigenvalues <- eigen(gene_corrs_corrected)$values"
   ]
  },
  {
   "cell_type": "code",
   "execution_count": 28,
   "id": "ddf8afb8-e0e2-4b4e-876d-12bd6856c1ad",
   "metadata": {
    "execution": {
     "iopub.execute_input": "2022-06-18T11:49:57.908955Z",
     "iopub.status.busy": "2022-06-18T11:49:57.908041Z",
     "iopub.status.idle": "2022-06-18T11:49:57.941698Z",
     "shell.execute_reply": "2022-06-18T11:49:57.934417Z"
    },
    "papermill": {
     "duration": 0.050688,
     "end_time": "2022-06-18T11:49:57.943385",
     "exception": false,
     "start_time": "2022-06-18T11:49:57.892697",
     "status": "completed"
    },
    "tags": []
   },
   "outputs": [
    {
     "data": {
      "text/html": [
       "0"
      ],
      "text/latex": [
       "0"
      ],
      "text/markdown": [
       "0"
      ],
      "text/plain": [
       "[1] 0"
      ]
     },
     "metadata": {},
     "output_type": "display_data"
    },
    {
     "data": {
      "text/html": [],
      "text/latex": [],
      "text/markdown": [],
      "text/plain": [
       "numeric(0)"
      ]
     },
     "metadata": {},
     "output_type": "display_data"
    }
   ],
   "source": [
    "nonpositive_eigenvalues <- eigenvalues[eigenvalues <= 0]\n",
    "IRdisplay::display(length(nonpositive_eigenvalues))\n",
    "IRdisplay::display(nonpositive_eigenvalues)"
   ]
  },
  {
   "cell_type": "code",
   "execution_count": 29,
   "id": "712fd71a-b6ec-4a13-a956-80c99be7f585",
   "metadata": {
    "execution": {
     "iopub.execute_input": "2022-06-18T11:49:57.978478Z",
     "iopub.status.busy": "2022-06-18T11:49:57.976830Z",
     "iopub.status.idle": "2022-06-18T11:49:58.003752Z",
     "shell.execute_reply": "2022-06-18T11:49:58.002600Z"
    },
    "papermill": {
     "duration": 0.053434,
     "end_time": "2022-06-18T11:49:58.005127",
     "exception": false,
     "start_time": "2022-06-18T11:49:57.951693",
     "status": "completed"
    },
    "tags": []
   },
   "outputs": [],
   "source": [
    "stopifnot(length(eigenvalues[eigenvalues <= 0]) == 0)"
   ]
  },
  {
   "cell_type": "code",
   "execution_count": 30,
   "id": "786d6336-3844-40f7-979b-6d6028787f7f",
   "metadata": {
    "execution": {
     "iopub.execute_input": "2022-06-18T11:49:58.033010Z",
     "iopub.status.busy": "2022-06-18T11:49:58.032063Z",
     "iopub.status.idle": "2022-06-18T11:49:58.119154Z",
     "shell.execute_reply": "2022-06-18T11:49:58.098500Z"
    },
    "papermill": {
     "duration": 0.104917,
     "end_time": "2022-06-18T11:49:58.121143",
     "exception": false,
     "start_time": "2022-06-18T11:49:58.016226",
     "status": "completed"
    },
    "tags": []
   },
   "outputs": [
    {
     "data": {
      "text/html": [
       "<table class=\"dataframe\">\n",
       "<caption>A data.frame: 6 × 10</caption>\n",
       "<thead>\n",
       "\t<tr><th></th><th scope=col>ENSG00000134121</th><th scope=col>ENSG00000091181</th><th scope=col>ENSG00000144455</th><th scope=col>ENSG00000170364</th><th scope=col>ENSG00000150995</th><th scope=col>ENSG00000134107</th><th scope=col>ENSG00000134109</th><th scope=col>ENSG00000180914</th><th scope=col>ENSG00000196220</th><th scope=col>ENSG00000163719</th></tr>\n",
       "\t<tr><th></th><th scope=col>&lt;dbl&gt;</th><th scope=col>&lt;dbl&gt;</th><th scope=col>&lt;dbl&gt;</th><th scope=col>&lt;dbl&gt;</th><th scope=col>&lt;dbl&gt;</th><th scope=col>&lt;dbl&gt;</th><th scope=col>&lt;dbl&gt;</th><th scope=col>&lt;dbl&gt;</th><th scope=col>&lt;dbl&gt;</th><th scope=col>&lt;dbl&gt;</th></tr>\n",
       "</thead>\n",
       "<tbody>\n",
       "\t<tr><th scope=row>ENSG00000134121</th><td> 1.000000000</td><td>-0.005292137</td><td>0.03000655</td><td>-0.02264608</td><td>-0.042667080</td><td> 0.095730848</td><td>-0.042436975</td><td>0.00000000</td><td> 0.00000000</td><td> 0.0000000</td></tr>\n",
       "\t<tr><th scope=row>ENSG00000091181</th><td>-0.005292137</td><td> 1.000000000</td><td>0.06407092</td><td>-0.05455147</td><td> 0.073573178</td><td>-0.024861424</td><td>-0.035525412</td><td>0.00000000</td><td> 0.00000000</td><td> 0.0000000</td></tr>\n",
       "\t<tr><th scope=row>ENSG00000144455</th><td> 0.030006554</td><td> 0.064070923</td><td>1.00000000</td><td> 0.23056040</td><td> 0.038559521</td><td> 0.022396071</td><td> 0.105842350</td><td>0.05855223</td><td> 0.04639374</td><td> 0.0000000</td></tr>\n",
       "\t<tr><th scope=row>ENSG00000170364</th><td>-0.022646076</td><td>-0.054551471</td><td>0.23056040</td><td> 1.00000000</td><td>-0.037986584</td><td> 0.039735622</td><td>-0.067866315</td><td>0.06449193</td><td>-0.15825002</td><td> 0.0000000</td></tr>\n",
       "\t<tr><th scope=row>ENSG00000150995</th><td>-0.042667080</td><td> 0.073573178</td><td>0.03855952</td><td>-0.03798658</td><td> 1.000000000</td><td>-0.007345318</td><td>-0.028169573</td><td>0.00820978</td><td> 0.04093686</td><td>-0.1082528</td></tr>\n",
       "\t<tr><th scope=row>ENSG00000134107</th><td> 0.095730848</td><td>-0.024861424</td><td>0.02239607</td><td> 0.03973562</td><td>-0.007345318</td><td> 1.000000000</td><td> 0.005379158</td><td>0.07821121</td><td> 0.10829504</td><td>-0.1113816</td></tr>\n",
       "</tbody>\n",
       "</table>\n"
      ],
      "text/latex": [
       "A data.frame: 6 × 10\n",
       "\\begin{tabular}{r|llllllllll}\n",
       "  & ENSG00000134121 & ENSG00000091181 & ENSG00000144455 & ENSG00000170364 & ENSG00000150995 & ENSG00000134107 & ENSG00000134109 & ENSG00000180914 & ENSG00000196220 & ENSG00000163719\\\\\n",
       "  & <dbl> & <dbl> & <dbl> & <dbl> & <dbl> & <dbl> & <dbl> & <dbl> & <dbl> & <dbl>\\\\\n",
       "\\hline\n",
       "\tENSG00000134121 &  1.000000000 & -0.005292137 & 0.03000655 & -0.02264608 & -0.042667080 &  0.095730848 & -0.042436975 & 0.00000000 &  0.00000000 &  0.0000000\\\\\n",
       "\tENSG00000091181 & -0.005292137 &  1.000000000 & 0.06407092 & -0.05455147 &  0.073573178 & -0.024861424 & -0.035525412 & 0.00000000 &  0.00000000 &  0.0000000\\\\\n",
       "\tENSG00000144455 &  0.030006554 &  0.064070923 & 1.00000000 &  0.23056040 &  0.038559521 &  0.022396071 &  0.105842350 & 0.05855223 &  0.04639374 &  0.0000000\\\\\n",
       "\tENSG00000170364 & -0.022646076 & -0.054551471 & 0.23056040 &  1.00000000 & -0.037986584 &  0.039735622 & -0.067866315 & 0.06449193 & -0.15825002 &  0.0000000\\\\\n",
       "\tENSG00000150995 & -0.042667080 &  0.073573178 & 0.03855952 & -0.03798658 &  1.000000000 & -0.007345318 & -0.028169573 & 0.00820978 &  0.04093686 & -0.1082528\\\\\n",
       "\tENSG00000134107 &  0.095730848 & -0.024861424 & 0.02239607 &  0.03973562 & -0.007345318 &  1.000000000 &  0.005379158 & 0.07821121 &  0.10829504 & -0.1113816\\\\\n",
       "\\end{tabular}\n"
      ],
      "text/markdown": [
       "\n",
       "A data.frame: 6 × 10\n",
       "\n",
       "| <!--/--> | ENSG00000134121 &lt;dbl&gt; | ENSG00000091181 &lt;dbl&gt; | ENSG00000144455 &lt;dbl&gt; | ENSG00000170364 &lt;dbl&gt; | ENSG00000150995 &lt;dbl&gt; | ENSG00000134107 &lt;dbl&gt; | ENSG00000134109 &lt;dbl&gt; | ENSG00000180914 &lt;dbl&gt; | ENSG00000196220 &lt;dbl&gt; | ENSG00000163719 &lt;dbl&gt; |\n",
       "|---|---|---|---|---|---|---|---|---|---|---|\n",
       "| ENSG00000134121 |  1.000000000 | -0.005292137 | 0.03000655 | -0.02264608 | -0.042667080 |  0.095730848 | -0.042436975 | 0.00000000 |  0.00000000 |  0.0000000 |\n",
       "| ENSG00000091181 | -0.005292137 |  1.000000000 | 0.06407092 | -0.05455147 |  0.073573178 | -0.024861424 | -0.035525412 | 0.00000000 |  0.00000000 |  0.0000000 |\n",
       "| ENSG00000144455 |  0.030006554 |  0.064070923 | 1.00000000 |  0.23056040 |  0.038559521 |  0.022396071 |  0.105842350 | 0.05855223 |  0.04639374 |  0.0000000 |\n",
       "| ENSG00000170364 | -0.022646076 | -0.054551471 | 0.23056040 |  1.00000000 | -0.037986584 |  0.039735622 | -0.067866315 | 0.06449193 | -0.15825002 |  0.0000000 |\n",
       "| ENSG00000150995 | -0.042667080 |  0.073573178 | 0.03855952 | -0.03798658 |  1.000000000 | -0.007345318 | -0.028169573 | 0.00820978 |  0.04093686 | -0.1082528 |\n",
       "| ENSG00000134107 |  0.095730848 | -0.024861424 | 0.02239607 |  0.03973562 | -0.007345318 |  1.000000000 |  0.005379158 | 0.07821121 |  0.10829504 | -0.1113816 |\n",
       "\n"
      ],
      "text/plain": [
       "                ENSG00000134121 ENSG00000091181 ENSG00000144455 ENSG00000170364\n",
       "ENSG00000134121  1.000000000    -0.005292137    0.03000655      -0.02264608    \n",
       "ENSG00000091181 -0.005292137     1.000000000    0.06407092      -0.05455147    \n",
       "ENSG00000144455  0.030006554     0.064070923    1.00000000       0.23056040    \n",
       "ENSG00000170364 -0.022646076    -0.054551471    0.23056040       1.00000000    \n",
       "ENSG00000150995 -0.042667080     0.073573178    0.03855952      -0.03798658    \n",
       "ENSG00000134107  0.095730848    -0.024861424    0.02239607       0.03973562    \n",
       "                ENSG00000150995 ENSG00000134107 ENSG00000134109 ENSG00000180914\n",
       "ENSG00000134121 -0.042667080     0.095730848    -0.042436975    0.00000000     \n",
       "ENSG00000091181  0.073573178    -0.024861424    -0.035525412    0.00000000     \n",
       "ENSG00000144455  0.038559521     0.022396071     0.105842350    0.05855223     \n",
       "ENSG00000170364 -0.037986584     0.039735622    -0.067866315    0.06449193     \n",
       "ENSG00000150995  1.000000000    -0.007345318    -0.028169573    0.00820978     \n",
       "ENSG00000134107 -0.007345318     1.000000000     0.005379158    0.07821121     \n",
       "                ENSG00000196220 ENSG00000163719\n",
       "ENSG00000134121  0.00000000      0.0000000     \n",
       "ENSG00000091181  0.00000000      0.0000000     \n",
       "ENSG00000144455  0.04639374      0.0000000     \n",
       "ENSG00000170364 -0.15825002      0.0000000     \n",
       "ENSG00000150995  0.04093686     -0.1082528     \n",
       "ENSG00000134107  0.10829504     -0.1113816     "
      ]
     },
     "metadata": {},
     "output_type": "display_data"
    },
    {
     "data": {
      "text/html": [
       "<table class=\"dataframe\">\n",
       "<caption>A data.frame: 6 × 10</caption>\n",
       "<thead>\n",
       "\t<tr><th></th><th scope=col>ENSG00000134121</th><th scope=col>ENSG00000091181</th><th scope=col>ENSG00000144455</th><th scope=col>ENSG00000170364</th><th scope=col>ENSG00000150995</th><th scope=col>ENSG00000134107</th><th scope=col>ENSG00000134109</th><th scope=col>ENSG00000180914</th><th scope=col>ENSG00000196220</th><th scope=col>ENSG00000163719</th></tr>\n",
       "\t<tr><th></th><th scope=col>&lt;dbl&gt;</th><th scope=col>&lt;dbl&gt;</th><th scope=col>&lt;dbl&gt;</th><th scope=col>&lt;dbl&gt;</th><th scope=col>&lt;dbl&gt;</th><th scope=col>&lt;dbl&gt;</th><th scope=col>&lt;dbl&gt;</th><th scope=col>&lt;dbl&gt;</th><th scope=col>&lt;dbl&gt;</th><th scope=col>&lt;dbl&gt;</th></tr>\n",
       "</thead>\n",
       "<tbody>\n",
       "\t<tr><th scope=row>ENSG00000134121</th><td> 1.0000000000</td><td>-0.015838150</td><td>0.0005508348</td><td> 0.008641984</td><td>-0.015263570</td><td> 0.046854446</td><td>-1.789286e-02</td><td> 0.007867298</td><td> 0.009243721</td><td>-0.0069367892</td></tr>\n",
       "\t<tr><th scope=row>ENSG00000091181</th><td>-0.0158381503</td><td> 1.000000000</td><td>0.0119208519</td><td>-0.007808076</td><td> 0.047419729</td><td>-0.011580197</td><td>-1.157882e-02</td><td>-0.002667315</td><td> 0.006272357</td><td>-0.0075740714</td></tr>\n",
       "\t<tr><th scope=row>ENSG00000144455</th><td> 0.0005508348</td><td> 0.011920852</td><td>1.0000000000</td><td> 0.095976725</td><td> 0.012480433</td><td> 0.027703962</td><td> 3.626678e-02</td><td> 0.049446034</td><td> 0.004202449</td><td>-0.0099385792</td></tr>\n",
       "\t<tr><th scope=row>ENSG00000170364</th><td> 0.0086419839</td><td>-0.007808076</td><td>0.0959767253</td><td> 1.000000000</td><td>-0.013972284</td><td> 0.019488312</td><td> 7.626046e-03</td><td> 0.036921287</td><td>-0.057585165</td><td> 0.0005127878</td></tr>\n",
       "\t<tr><th scope=row>ENSG00000150995</th><td>-0.0152635705</td><td> 0.047419729</td><td>0.0124804329</td><td>-0.013972284</td><td> 1.000000000</td><td> 0.004382408</td><td>-5.473936e-03</td><td> 0.001664691</td><td> 0.015162669</td><td>-0.0340921263</td></tr>\n",
       "\t<tr><th scope=row>ENSG00000134107</th><td> 0.0468544462</td><td>-0.011580197</td><td>0.0277039623</td><td> 0.019488312</td><td> 0.004382408</td><td> 1.000000000</td><td> 1.112579e-05</td><td> 0.043542628</td><td> 0.033606797</td><td>-0.0334050645</td></tr>\n",
       "</tbody>\n",
       "</table>\n"
      ],
      "text/latex": [
       "A data.frame: 6 × 10\n",
       "\\begin{tabular}{r|llllllllll}\n",
       "  & ENSG00000134121 & ENSG00000091181 & ENSG00000144455 & ENSG00000170364 & ENSG00000150995 & ENSG00000134107 & ENSG00000134109 & ENSG00000180914 & ENSG00000196220 & ENSG00000163719\\\\\n",
       "  & <dbl> & <dbl> & <dbl> & <dbl> & <dbl> & <dbl> & <dbl> & <dbl> & <dbl> & <dbl>\\\\\n",
       "\\hline\n",
       "\tENSG00000134121 &  1.0000000000 & -0.015838150 & 0.0005508348 &  0.008641984 & -0.015263570 &  0.046854446 & -1.789286e-02 &  0.007867298 &  0.009243721 & -0.0069367892\\\\\n",
       "\tENSG00000091181 & -0.0158381503 &  1.000000000 & 0.0119208519 & -0.007808076 &  0.047419729 & -0.011580197 & -1.157882e-02 & -0.002667315 &  0.006272357 & -0.0075740714\\\\\n",
       "\tENSG00000144455 &  0.0005508348 &  0.011920852 & 1.0000000000 &  0.095976725 &  0.012480433 &  0.027703962 &  3.626678e-02 &  0.049446034 &  0.004202449 & -0.0099385792\\\\\n",
       "\tENSG00000170364 &  0.0086419839 & -0.007808076 & 0.0959767253 &  1.000000000 & -0.013972284 &  0.019488312 &  7.626046e-03 &  0.036921287 & -0.057585165 &  0.0005127878\\\\\n",
       "\tENSG00000150995 & -0.0152635705 &  0.047419729 & 0.0124804329 & -0.013972284 &  1.000000000 &  0.004382408 & -5.473936e-03 &  0.001664691 &  0.015162669 & -0.0340921263\\\\\n",
       "\tENSG00000134107 &  0.0468544462 & -0.011580197 & 0.0277039623 &  0.019488312 &  0.004382408 &  1.000000000 &  1.112579e-05 &  0.043542628 &  0.033606797 & -0.0334050645\\\\\n",
       "\\end{tabular}\n"
      ],
      "text/markdown": [
       "\n",
       "A data.frame: 6 × 10\n",
       "\n",
       "| <!--/--> | ENSG00000134121 &lt;dbl&gt; | ENSG00000091181 &lt;dbl&gt; | ENSG00000144455 &lt;dbl&gt; | ENSG00000170364 &lt;dbl&gt; | ENSG00000150995 &lt;dbl&gt; | ENSG00000134107 &lt;dbl&gt; | ENSG00000134109 &lt;dbl&gt; | ENSG00000180914 &lt;dbl&gt; | ENSG00000196220 &lt;dbl&gt; | ENSG00000163719 &lt;dbl&gt; |\n",
       "|---|---|---|---|---|---|---|---|---|---|---|\n",
       "| ENSG00000134121 |  1.0000000000 | -0.015838150 | 0.0005508348 |  0.008641984 | -0.015263570 |  0.046854446 | -1.789286e-02 |  0.007867298 |  0.009243721 | -0.0069367892 |\n",
       "| ENSG00000091181 | -0.0158381503 |  1.000000000 | 0.0119208519 | -0.007808076 |  0.047419729 | -0.011580197 | -1.157882e-02 | -0.002667315 |  0.006272357 | -0.0075740714 |\n",
       "| ENSG00000144455 |  0.0005508348 |  0.011920852 | 1.0000000000 |  0.095976725 |  0.012480433 |  0.027703962 |  3.626678e-02 |  0.049446034 |  0.004202449 | -0.0099385792 |\n",
       "| ENSG00000170364 |  0.0086419839 | -0.007808076 | 0.0959767253 |  1.000000000 | -0.013972284 |  0.019488312 |  7.626046e-03 |  0.036921287 | -0.057585165 |  0.0005127878 |\n",
       "| ENSG00000150995 | -0.0152635705 |  0.047419729 | 0.0124804329 | -0.013972284 |  1.000000000 |  0.004382408 | -5.473936e-03 |  0.001664691 |  0.015162669 | -0.0340921263 |\n",
       "| ENSG00000134107 |  0.0468544462 | -0.011580197 | 0.0277039623 |  0.019488312 |  0.004382408 |  1.000000000 |  1.112579e-05 |  0.043542628 |  0.033606797 | -0.0334050645 |\n",
       "\n"
      ],
      "text/plain": [
       "                ENSG00000134121 ENSG00000091181 ENSG00000144455 ENSG00000170364\n",
       "ENSG00000134121  1.0000000000   -0.015838150    0.0005508348     0.008641984   \n",
       "ENSG00000091181 -0.0158381503    1.000000000    0.0119208519    -0.007808076   \n",
       "ENSG00000144455  0.0005508348    0.011920852    1.0000000000     0.095976725   \n",
       "ENSG00000170364  0.0086419839   -0.007808076    0.0959767253     1.000000000   \n",
       "ENSG00000150995 -0.0152635705    0.047419729    0.0124804329    -0.013972284   \n",
       "ENSG00000134107  0.0468544462   -0.011580197    0.0277039623     0.019488312   \n",
       "                ENSG00000150995 ENSG00000134107 ENSG00000134109 ENSG00000180914\n",
       "ENSG00000134121 -0.015263570     0.046854446    -1.789286e-02    0.007867298   \n",
       "ENSG00000091181  0.047419729    -0.011580197    -1.157882e-02   -0.002667315   \n",
       "ENSG00000144455  0.012480433     0.027703962     3.626678e-02    0.049446034   \n",
       "ENSG00000170364 -0.013972284     0.019488312     7.626046e-03    0.036921287   \n",
       "ENSG00000150995  1.000000000     0.004382408    -5.473936e-03    0.001664691   \n",
       "ENSG00000134107  0.004382408     1.000000000     1.112579e-05    0.043542628   \n",
       "                ENSG00000196220 ENSG00000163719\n",
       "ENSG00000134121  0.009243721    -0.0069367892  \n",
       "ENSG00000091181  0.006272357    -0.0075740714  \n",
       "ENSG00000144455  0.004202449    -0.0099385792  \n",
       "ENSG00000170364 -0.057585165     0.0005127878  \n",
       "ENSG00000150995  0.015162669    -0.0340921263  \n",
       "ENSG00000134107  0.033606797    -0.0334050645  "
      ]
     },
     "metadata": {},
     "output_type": "display_data"
    }
   ],
   "source": [
    "# quick and visual comparison of the two matrices\n",
    "IRdisplay::display(head(gene_corrs[1:10, 1:10]))\n",
    "IRdisplay::display(head(gene_corrs_corrected[1:10, 1:10]))"
   ]
  },
  {
   "cell_type": "markdown",
   "id": "c6c40f1a-d153-475a-94eb-c71697ad9d51",
   "metadata": {
    "papermill": {
     "duration": 0.010522,
     "end_time": "2022-06-18T11:49:58.166452",
     "exception": false,
     "start_time": "2022-06-18T11:49:58.155930",
     "status": "completed"
    },
    "tags": []
   },
   "source": [
    "Both matrices should \"look\" similar. We are not interested in perfectly accurate correlation values (they are already inaccurate)."
   ]
  },
  {
   "cell_type": "markdown",
   "id": "bf0f49cb-9c21-4616-8390-bb68d52dae56",
   "metadata": {
    "papermill": {
     "duration": 0.009684,
     "end_time": "2022-06-18T11:49:58.190716",
     "exception": false,
     "start_time": "2022-06-18T11:49:58.181032",
     "status": "completed"
    },
    "tags": []
   },
   "source": [
    "# Save"
   ]
  },
  {
   "cell_type": "code",
   "execution_count": 31,
   "id": "2e58e7f3-a75c-4195-a20e-39e3e3e1cc9a",
   "metadata": {
    "execution": {
     "iopub.execute_input": "2022-06-18T11:49:58.214011Z",
     "iopub.status.busy": "2022-06-18T11:49:58.213046Z",
     "iopub.status.idle": "2022-06-18T11:49:58.240759Z",
     "shell.execute_reply": "2022-06-18T11:49:58.239544Z"
    },
    "papermill": {
     "duration": 0.040513,
     "end_time": "2022-06-18T11:49:58.242540",
     "exception": false,
     "start_time": "2022-06-18T11:49:58.202027",
     "status": "completed"
    },
    "tags": []
   },
   "outputs": [],
   "source": [
    "py_save_object(gene_corrs_corrected, OUTPUT_FILE)"
   ]
  },
  {
   "cell_type": "code",
   "execution_count": null,
   "id": "d8ae4220-2171-460c-9231-cd5219f3fe77",
   "metadata": {
    "papermill": {
     "duration": 0.008191,
     "end_time": "2022-06-18T11:49:58.259001",
     "exception": false,
     "start_time": "2022-06-18T11:49:58.250810",
     "status": "completed"
    },
    "tags": []
   },
   "outputs": [],
   "source": []
  }
 ],
 "metadata": {
  "jupytext": {
   "cell_metadata_filter": "all,-execution,-papermill,-trusted"
  },
  "kernelspec": {
   "display_name": "R",
   "language": "R",
   "name": "ir"
  },
  "language_info": {
   "codemirror_mode": "r",
   "file_extension": ".r",
   "mimetype": "text/x-r-source",
   "name": "R",
   "pygments_lexer": "r",
   "version": "3.6.3"
  },
  "papermill": {
   "default_parameters": {},
   "duration": 6.489293,
   "end_time": "2022-06-18T11:49:58.385245",
   "environment_variables": {},
   "exception": null,
   "input_path": "nbs/15_gsa_gls/12-gene_expr_correlations-adjust.ipynb",
   "output_path": "nbs/15_gsa_gls/gene_corrs/gtex_v8/mashr/12-gene_expr_correlations-adjust-chr3.run.ipynb",
   "parameters": {
    "EQTL_MODEL": "MASHR",
    "REFERENCE_PANEL": "GTEX_V8",
    "chromosome": 3
   },
   "start_time": "2022-06-18T11:49:51.895952",
   "version": "2.3.4"
  }
 },
 "nbformat": 4,
 "nbformat_minor": 5
}
