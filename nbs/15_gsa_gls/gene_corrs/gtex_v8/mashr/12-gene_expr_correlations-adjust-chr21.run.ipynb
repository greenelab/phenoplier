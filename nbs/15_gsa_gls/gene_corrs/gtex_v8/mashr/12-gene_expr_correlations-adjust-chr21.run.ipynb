{
 "cells": [
  {
   "cell_type": "markdown",
   "id": "6c1f0ae4-cd27-4fec-a23d-51699e7059e8",
   "metadata": {
    "papermill": {
     "duration": 0.005395,
     "end_time": "2022-06-18T11:50:40.766900",
     "exception": false,
     "start_time": "2022-06-18T11:50:40.761505",
     "status": "completed"
    },
    "tags": []
   },
   "source": [
    "# Description"
   ]
  },
  {
   "cell_type": "markdown",
   "id": "3268a19a-8a83-4f61-aa39-09b084c81d61",
   "metadata": {
    "papermill": {
     "duration": 0.004324,
     "end_time": "2022-06-18T11:50:40.776256",
     "exception": false,
     "start_time": "2022-06-18T11:50:40.771932",
     "status": "completed"
    },
    "tags": []
   },
   "source": [
    "**TODO**"
   ]
  },
  {
   "cell_type": "markdown",
   "id": "401368d3-22c1-4d81-a2c3-c4a81fde4191",
   "metadata": {
    "papermill": {
     "duration": 0.004842,
     "end_time": "2022-06-18T11:50:40.785736",
     "exception": false,
     "start_time": "2022-06-18T11:50:40.780894",
     "status": "completed"
    },
    "tags": []
   },
   "source": [
    "# Modules"
   ]
  },
  {
   "cell_type": "code",
   "execution_count": 1,
   "id": "f9b5022b-7c5e-4d37-9c7a-fdb91777c7f9",
   "metadata": {
    "execution": {
     "iopub.execute_input": "2022-06-18T11:50:40.822605Z",
     "iopub.status.busy": "2022-06-18T11:50:40.820827Z",
     "iopub.status.idle": "2022-06-18T11:50:44.538998Z",
     "shell.execute_reply": "2022-06-18T11:50:44.537567Z"
    },
    "papermill": {
     "duration": 3.751906,
     "end_time": "2022-06-18T11:50:44.542583",
     "exception": false,
     "start_time": "2022-06-18T11:50:40.790677",
     "status": "completed"
    },
    "tags": []
   },
   "outputs": [],
   "source": [
    "library(reticulate)\n",
    "pd <- import(\"pandas\")"
   ]
  },
  {
   "cell_type": "markdown",
   "id": "c1958d6a-0229-47e8-823e-792fcf84fccf",
   "metadata": {
    "papermill": {
     "duration": 0.004498,
     "end_time": "2022-06-18T11:50:44.551825",
     "exception": false,
     "start_time": "2022-06-18T11:50:44.547327",
     "status": "completed"
    },
    "tags": []
   },
   "source": [
    "# Settings"
   ]
  },
  {
   "cell_type": "code",
   "execution_count": 2,
   "id": "22d12bb4-1699-4a6b-b1b9-d3fdd3d547d7",
   "metadata": {
    "execution": {
     "iopub.execute_input": "2022-06-18T11:50:44.582005Z",
     "iopub.status.busy": "2022-06-18T11:50:44.561568Z",
     "iopub.status.idle": "2022-06-18T11:50:44.593145Z",
     "shell.execute_reply": "2022-06-18T11:50:44.591996Z"
    },
    "papermill": {
     "duration": 0.038447,
     "end_time": "2022-06-18T11:50:44.594738",
     "exception": false,
     "start_time": "2022-06-18T11:50:44.556291",
     "status": "completed"
    },
    "tags": [
     "parameters"
    ]
   },
   "outputs": [],
   "source": [
    "# reference panel\n",
    "REFERENCE_PANEL <- \"GTEX_V8\"\n",
    "# REFERENCE_PANEL = \"1000G\"\n",
    "\n",
    "# prediction models\n",
    "## mashr\n",
    "EQTL_MODEL <- \"MASHR\"\n",
    "\n",
    "# ## elastic net\n",
    "# EQTL_MODEL = \"ELASTIC_NET\"\n",
    "\n",
    "chromosome <- NULL"
   ]
  },
  {
   "cell_type": "code",
   "execution_count": 3,
   "id": "333c7bb9",
   "metadata": {
    "execution": {
     "iopub.execute_input": "2022-06-18T11:50:44.605412Z",
     "iopub.status.busy": "2022-06-18T11:50:44.604465Z",
     "iopub.status.idle": "2022-06-18T11:50:44.620824Z",
     "shell.execute_reply": "2022-06-18T11:50:44.619650Z"
    },
    "papermill": {
     "duration": 0.023248,
     "end_time": "2022-06-18T11:50:44.622502",
     "exception": false,
     "start_time": "2022-06-18T11:50:44.599254",
     "status": "completed"
    },
    "tags": [
     "injected-parameters"
    ]
   },
   "outputs": [],
   "source": [
    "# Parameters\n",
    "chromosome = 21\n",
    "REFERENCE_PANEL = \"GTEX_V8\"\n",
    "EQTL_MODEL = \"MASHR\"\n"
   ]
  },
  {
   "cell_type": "code",
   "execution_count": 4,
   "id": "8fe24bef",
   "metadata": {
    "execution": {
     "iopub.execute_input": "2022-06-18T11:50:44.633752Z",
     "iopub.status.busy": "2022-06-18T11:50:44.632765Z",
     "iopub.status.idle": "2022-06-18T11:50:44.645117Z",
     "shell.execute_reply": "2022-06-18T11:50:44.643956Z"
    },
    "papermill": {
     "duration": 0.019562,
     "end_time": "2022-06-18T11:50:44.646804",
     "exception": false,
     "start_time": "2022-06-18T11:50:44.627242",
     "status": "completed"
    },
    "tags": []
   },
   "outputs": [
    {
     "data": {
      "text/html": [
       "'Using reference panel: GTEX_V8'"
      ],
      "text/latex": [
       "'Using reference panel: GTEX\\_V8'"
      ],
      "text/markdown": [
       "'Using reference panel: GTEX_V8'"
      ],
      "text/plain": [
       "[1] \"Using reference panel: GTEX_V8\""
      ]
     },
     "metadata": {},
     "output_type": "display_data"
    }
   ],
   "source": [
    "paste0(\"Using reference panel: \", REFERENCE_PANEL)"
   ]
  },
  {
   "cell_type": "code",
   "execution_count": 5,
   "id": "d62c28f8-186c-478b-948c-58e14f00df4b",
   "metadata": {
    "execution": {
     "iopub.execute_input": "2022-06-18T11:50:44.658410Z",
     "iopub.status.busy": "2022-06-18T11:50:44.657406Z",
     "iopub.status.idle": "2022-06-18T11:50:44.668105Z",
     "shell.execute_reply": "2022-06-18T11:50:44.666934Z"
    },
    "papermill": {
     "duration": 0.018088,
     "end_time": "2022-06-18T11:50:44.669790",
     "exception": false,
     "start_time": "2022-06-18T11:50:44.651702",
     "status": "completed"
    },
    "tags": []
   },
   "outputs": [
    {
     "data": {
      "text/html": [
       "'Using eQTL model: MASHR'"
      ],
      "text/latex": [
       "'Using eQTL model: MASHR'"
      ],
      "text/markdown": [
       "'Using eQTL model: MASHR'"
      ],
      "text/plain": [
       "[1] \"Using eQTL model: MASHR\""
      ]
     },
     "metadata": {},
     "output_type": "display_data"
    }
   ],
   "source": [
    "paste0(\"Using eQTL model: \", EQTL_MODEL)"
   ]
  },
  {
   "cell_type": "code",
   "execution_count": 6,
   "id": "5243676f-c889-4405-9a4d-262f0f044614",
   "metadata": {
    "execution": {
     "iopub.execute_input": "2022-06-18T11:50:44.681546Z",
     "iopub.status.busy": "2022-06-18T11:50:44.680540Z",
     "iopub.status.idle": "2022-06-18T11:50:44.689608Z",
     "shell.execute_reply": "2022-06-18T11:50:44.688330Z"
    },
    "papermill": {
     "duration": 0.016506,
     "end_time": "2022-06-18T11:50:44.691271",
     "exception": false,
     "start_time": "2022-06-18T11:50:44.674765",
     "status": "completed"
    },
    "tags": []
   },
   "outputs": [],
   "source": [
    "# chromosome must be provided as parameter\n",
    "stopifnot(!is.null(chromosome))"
   ]
  },
  {
   "cell_type": "markdown",
   "id": "83a49773-bcf5-44c4-8d9b-a6ac65a57ec6",
   "metadata": {
    "papermill": {
     "duration": 0.004697,
     "end_time": "2022-06-18T11:50:44.701459",
     "exception": false,
     "start_time": "2022-06-18T11:50:44.696762",
     "status": "completed"
    },
    "tags": []
   },
   "source": [
    "# Paths"
   ]
  },
  {
   "cell_type": "code",
   "execution_count": 7,
   "id": "eb6aa8aa-b452-4a2f-a780-93dd80ad4285",
   "metadata": {
    "execution": {
     "iopub.execute_input": "2022-06-18T11:50:44.712835Z",
     "iopub.status.busy": "2022-06-18T11:50:44.711852Z",
     "iopub.status.idle": "2022-06-18T11:50:44.723778Z",
     "shell.execute_reply": "2022-06-18T11:50:44.722625Z"
    },
    "papermill": {
     "duration": 0.019189,
     "end_time": "2022-06-18T11:50:44.725406",
     "exception": false,
     "start_time": "2022-06-18T11:50:44.706217",
     "status": "completed"
    },
    "tags": []
   },
   "outputs": [
    {
     "data": {
      "text/html": [
       "'/opt/data/data/phenomexcan/ld_blocks/gene_corrs'"
      ],
      "text/latex": [
       "'/opt/data/data/phenomexcan/ld\\_blocks/gene\\_corrs'"
      ],
      "text/markdown": [
       "'/opt/data/data/phenomexcan/ld_blocks/gene_corrs'"
      ],
      "text/plain": [
       "[1] \"/opt/data/data/phenomexcan/ld_blocks/gene_corrs\""
      ]
     },
     "metadata": {},
     "output_type": "display_data"
    }
   ],
   "source": [
    "GENE_CORRS_DIR <- Sys.getenv(\"PHENOPLIER_PHENOMEXCAN_LD_BLOCKS_GENE_CORRS_DIR\")\n",
    "IRdisplay::display(GENE_CORRS_DIR)"
   ]
  },
  {
   "cell_type": "code",
   "execution_count": 8,
   "id": "eb24f15f-f282-4476-8943-8413c4483f12",
   "metadata": {
    "execution": {
     "iopub.execute_input": "2022-06-18T11:50:44.737227Z",
     "iopub.status.busy": "2022-06-18T11:50:44.736232Z",
     "iopub.status.idle": "2022-06-18T11:50:44.748308Z",
     "shell.execute_reply": "2022-06-18T11:50:44.747145Z"
    },
    "papermill": {
     "duration": 0.019475,
     "end_time": "2022-06-18T11:50:44.749922",
     "exception": false,
     "start_time": "2022-06-18T11:50:44.730447",
     "status": "completed"
    },
    "tags": []
   },
   "outputs": [
    {
     "data": {
      "text/html": [
       "'/opt/data/data/phenomexcan/ld_blocks/gene_corrs/gtex_v8/mashr/by_chr'"
      ],
      "text/latex": [
       "'/opt/data/data/phenomexcan/ld\\_blocks/gene\\_corrs/gtex\\_v8/mashr/by\\_chr'"
      ],
      "text/markdown": [
       "'/opt/data/data/phenomexcan/ld_blocks/gene_corrs/gtex_v8/mashr/by_chr'"
      ],
      "text/plain": [
       "[1] \"/opt/data/data/phenomexcan/ld_blocks/gene_corrs/gtex_v8/mashr/by_chr\""
      ]
     },
     "metadata": {},
     "output_type": "display_data"
    }
   ],
   "source": [
    "INPUT_DIR <- file.path(GENE_CORRS_DIR, tolower(REFERENCE_PANEL), tolower(EQTL_MODEL), \"by_chr\")\n",
    "IRdisplay::display(INPUT_DIR)"
   ]
  },
  {
   "cell_type": "code",
   "execution_count": 9,
   "id": "43c1daba-0da9-4822-8d1e-968e9767e251",
   "metadata": {
    "execution": {
     "iopub.execute_input": "2022-06-18T11:50:44.762066Z",
     "iopub.status.busy": "2022-06-18T11:50:44.761024Z",
     "iopub.status.idle": "2022-06-18T11:50:44.774375Z",
     "shell.execute_reply": "2022-06-18T11:50:44.773201Z"
    },
    "papermill": {
     "duration": 0.020941,
     "end_time": "2022-06-18T11:50:44.776025",
     "exception": false,
     "start_time": "2022-06-18T11:50:44.755084",
     "status": "completed"
    },
    "tags": []
   },
   "outputs": [
    {
     "data": {
      "text/html": [
       "'/opt/data/data/phenomexcan/ld_blocks/gene_corrs/gtex_v8/mashr/by_chr/gene_corrs-chr21.pkl'"
      ],
      "text/latex": [
       "'/opt/data/data/phenomexcan/ld\\_blocks/gene\\_corrs/gtex\\_v8/mashr/by\\_chr/gene\\_corrs-chr21.pkl'"
      ],
      "text/markdown": [
       "'/opt/data/data/phenomexcan/ld_blocks/gene_corrs/gtex_v8/mashr/by_chr/gene_corrs-chr21.pkl'"
      ],
      "text/plain": [
       "[1] \"/opt/data/data/phenomexcan/ld_blocks/gene_corrs/gtex_v8/mashr/by_chr/gene_corrs-chr21.pkl\""
      ]
     },
     "metadata": {},
     "output_type": "display_data"
    }
   ],
   "source": [
    "INPUT_FILE <- file.path(INPUT_DIR, paste0(\"gene_corrs-chr\", chromosome, \".pkl\"))\n",
    "IRdisplay::display(INPUT_FILE)\n",
    "stopifnot(file.exists(INPUT_FILE))"
   ]
  },
  {
   "cell_type": "code",
   "execution_count": 10,
   "id": "72386fbf-982b-420a-9057-ea9a97a5e571",
   "metadata": {
    "execution": {
     "iopub.execute_input": "2022-06-18T11:50:44.788503Z",
     "iopub.status.busy": "2022-06-18T11:50:44.787457Z",
     "iopub.status.idle": "2022-06-18T11:50:44.802427Z",
     "shell.execute_reply": "2022-06-18T11:50:44.801108Z"
    },
    "papermill": {
     "duration": 0.022948,
     "end_time": "2022-06-18T11:50:44.804324",
     "exception": false,
     "start_time": "2022-06-18T11:50:44.781376",
     "status": "completed"
    },
    "tags": []
   },
   "outputs": [
    {
     "data": {
      "text/html": [
       "'/opt/data/data/phenomexcan/ld_blocks/gene_corrs/gtex_v8/mashr/by_chr/corrected_positive_definite'"
      ],
      "text/latex": [
       "'/opt/data/data/phenomexcan/ld\\_blocks/gene\\_corrs/gtex\\_v8/mashr/by\\_chr/corrected\\_positive\\_definite'"
      ],
      "text/markdown": [
       "'/opt/data/data/phenomexcan/ld_blocks/gene_corrs/gtex_v8/mashr/by_chr/corrected_positive_definite'"
      ],
      "text/plain": [
       "[1] \"/opt/data/data/phenomexcan/ld_blocks/gene_corrs/gtex_v8/mashr/by_chr/corrected_positive_definite\""
      ]
     },
     "metadata": {},
     "output_type": "display_data"
    }
   ],
   "source": [
    "OUTPUT_DIR <- file.path(INPUT_DIR, \"corrected_positive_definite\")\n",
    "IRdisplay::display(OUTPUT_DIR)\n",
    "dir.create(OUTPUT_DIR, recursive = TRUE, showWarnings = FALSE)"
   ]
  },
  {
   "cell_type": "code",
   "execution_count": 11,
   "id": "f9f19d1d-ce4c-4099-a26e-250fec751de7",
   "metadata": {
    "execution": {
     "iopub.execute_input": "2022-06-18T11:50:44.818874Z",
     "iopub.status.busy": "2022-06-18T11:50:44.817755Z",
     "iopub.status.idle": "2022-06-18T11:50:44.838821Z",
     "shell.execute_reply": "2022-06-18T11:50:44.834351Z"
    },
    "papermill": {
     "duration": 0.030242,
     "end_time": "2022-06-18T11:50:44.840779",
     "exception": false,
     "start_time": "2022-06-18T11:50:44.810537",
     "status": "completed"
    },
    "tags": []
   },
   "outputs": [
    {
     "data": {
      "text/html": [
       "'/opt/data/data/phenomexcan/ld_blocks/gene_corrs/gtex_v8/mashr/by_chr/corrected_positive_definite/gene_corrs-chr21.pkl'"
      ],
      "text/latex": [
       "'/opt/data/data/phenomexcan/ld\\_blocks/gene\\_corrs/gtex\\_v8/mashr/by\\_chr/corrected\\_positive\\_definite/gene\\_corrs-chr21.pkl'"
      ],
      "text/markdown": [
       "'/opt/data/data/phenomexcan/ld_blocks/gene_corrs/gtex_v8/mashr/by_chr/corrected_positive_definite/gene_corrs-chr21.pkl'"
      ],
      "text/plain": [
       "[1] \"/opt/data/data/phenomexcan/ld_blocks/gene_corrs/gtex_v8/mashr/by_chr/corrected_positive_definite/gene_corrs-chr21.pkl\""
      ]
     },
     "metadata": {},
     "output_type": "display_data"
    },
    {
     "data": {
      "text/html": [
       "'Output file exists, it will be overwritten'"
      ],
      "text/latex": [
       "'Output file exists, it will be overwritten'"
      ],
      "text/markdown": [
       "'Output file exists, it will be overwritten'"
      ],
      "text/plain": [
       "[1] \"Output file exists, it will be overwritten\""
      ]
     },
     "metadata": {},
     "output_type": "display_data"
    }
   ],
   "source": [
    "OUTPUT_FILE <- file.path(OUTPUT_DIR, paste0(\"gene_corrs-chr\", chromosome, \".pkl\"))\n",
    "IRdisplay::display(OUTPUT_FILE)\n",
    "if (file.exists(OUTPUT_FILE)) {\n",
    "  IRdisplay::display(\"Output file exists, it will be overwritten\")\n",
    "}"
   ]
  },
  {
   "cell_type": "markdown",
   "id": "5aad60e6-cba4-41b5-9755-93eb86f4ed05",
   "metadata": {
    "papermill": {
     "duration": 0.006286,
     "end_time": "2022-06-18T11:50:44.853761",
     "exception": false,
     "start_time": "2022-06-18T11:50:44.847475",
     "status": "completed"
    },
    "tags": []
   },
   "source": [
    "# Functions"
   ]
  },
  {
   "cell_type": "code",
   "execution_count": 12,
   "id": "f828f081-7358-4cc8-8a89-1ee293bcc1a7",
   "metadata": {
    "execution": {
     "iopub.execute_input": "2022-06-18T11:50:44.868331Z",
     "iopub.status.busy": "2022-06-18T11:50:44.867242Z",
     "iopub.status.idle": "2022-06-18T11:50:44.876988Z",
     "shell.execute_reply": "2022-06-18T11:50:44.875775Z"
    },
    "papermill": {
     "duration": 0.01871,
     "end_time": "2022-06-18T11:50:44.878725",
     "exception": false,
     "start_time": "2022-06-18T11:50:44.860015",
     "status": "completed"
    },
    "tags": []
   },
   "outputs": [],
   "source": [
    "# taken from https://www.r-bloggers.com/2013/08/correcting-a-pseudo-correlation-matrix-to-be-positive-semidefinite/\n",
    "# TODO: add documentation\n",
    "CorrectCM <- function(CM, p = 0) {\n",
    "  n <- dim(var(CM))[1L]\n",
    "  E <- eigen(CM)\n",
    "  CM1 <- E$vectors %*% tcrossprod(diag(pmax(E$values, p), n), E$vectors)\n",
    "  Balance <- diag(1 / sqrt(diag(CM1)))\n",
    "  CM2 <- Balance %*% CM1 %*% Balance\n",
    "  return(CM2)\n",
    "}"
   ]
  },
  {
   "cell_type": "code",
   "execution_count": 13,
   "id": "7ab9bebf-50a1-4e6f-b16a-e23cae93d02a",
   "metadata": {
    "execution": {
     "iopub.execute_input": "2022-06-18T11:50:44.892699Z",
     "iopub.status.busy": "2022-06-18T11:50:44.891680Z",
     "iopub.status.idle": "2022-06-18T11:50:44.900836Z",
     "shell.execute_reply": "2022-06-18T11:50:44.899589Z"
    },
    "papermill": {
     "duration": 0.017746,
     "end_time": "2022-06-18T11:50:44.902568",
     "exception": false,
     "start_time": "2022-06-18T11:50:44.884822",
     "status": "completed"
    },
    "tags": []
   },
   "outputs": [],
   "source": [
    "is_positive_definite <- function(data) {\n",
    "  eigenvalues <- eigen(data)$values\n",
    "  nonpositive_eigenvalues <- eigenvalues[eigenvalues <= 0]\n",
    "\n",
    "  if (length(nonpositive_eigenvalues) > 0) {\n",
    "    IRdisplay::display(\"We need to correct the data and make the matrix positive definite\")\n",
    "    return(FALSE)\n",
    "  } else {\n",
    "    IRdisplay::display(\"Matrix is already positive definite!\")\n",
    "    return(TRUE)\n",
    "  }\n",
    "}"
   ]
  },
  {
   "cell_type": "markdown",
   "id": "ac52ecbc-5618-4876-a4fa-546a08e3fcf3",
   "metadata": {
    "papermill": {
     "duration": 0.005411,
     "end_time": "2022-06-18T11:50:44.914298",
     "exception": false,
     "start_time": "2022-06-18T11:50:44.908887",
     "status": "completed"
    },
    "tags": []
   },
   "source": [
    "# Load data"
   ]
  },
  {
   "cell_type": "code",
   "execution_count": 14,
   "id": "3a7744e1-2e5a-450e-9dcf-945ec181347d",
   "metadata": {
    "execution": {
     "iopub.execute_input": "2022-06-18T11:50:44.927311Z",
     "iopub.status.busy": "2022-06-18T11:50:44.926313Z",
     "iopub.status.idle": "2022-06-18T11:50:44.946800Z",
     "shell.execute_reply": "2022-06-18T11:50:44.945612Z"
    },
    "papermill": {
     "duration": 0.028777,
     "end_time": "2022-06-18T11:50:44.948503",
     "exception": false,
     "start_time": "2022-06-18T11:50:44.919726",
     "status": "completed"
    },
    "tags": []
   },
   "outputs": [],
   "source": [
    "gene_corrs <- pd$read_pickle(INPUT_FILE)"
   ]
  },
  {
   "cell_type": "code",
   "execution_count": 15,
   "id": "6fb150b2-4c68-4e9b-9aa5-1890d3f762e3",
   "metadata": {
    "execution": {
     "iopub.execute_input": "2022-06-18T11:50:44.962050Z",
     "iopub.status.busy": "2022-06-18T11:50:44.960999Z",
     "iopub.status.idle": "2022-06-18T11:50:44.972069Z",
     "shell.execute_reply": "2022-06-18T11:50:44.970926Z"
    },
    "papermill": {
     "duration": 0.021915,
     "end_time": "2022-06-18T11:50:44.976229",
     "exception": false,
     "start_time": "2022-06-18T11:50:44.954314",
     "status": "completed"
    },
    "tags": []
   },
   "outputs": [
    {
     "data": {
      "text/html": [
       "<style>\n",
       ".list-inline {list-style: none; margin:0; padding: 0}\n",
       ".list-inline>li {display: inline-block}\n",
       ".list-inline>li:not(:last-child)::after {content: \"\\00b7\"; padding: 0 .5ex}\n",
       "</style>\n",
       "<ol class=list-inline><li>62</li><li>62</li></ol>\n"
      ],
      "text/latex": [
       "\\begin{enumerate*}\n",
       "\\item 62\n",
       "\\item 62\n",
       "\\end{enumerate*}\n"
      ],
      "text/markdown": [
       "1. 62\n",
       "2. 62\n",
       "\n",
       "\n"
      ],
      "text/plain": [
       "[1] 62 62"
      ]
     },
     "metadata": {},
     "output_type": "display_data"
    }
   ],
   "source": [
    "dim(gene_corrs)"
   ]
  },
  {
   "cell_type": "code",
   "execution_count": 16,
   "id": "0d4e53b5-7586-4a68-8ce5-d930d74ba943",
   "metadata": {
    "execution": {
     "iopub.execute_input": "2022-06-18T11:50:44.989940Z",
     "iopub.status.busy": "2022-06-18T11:50:44.988923Z",
     "iopub.status.idle": "2022-06-18T11:50:45.008568Z",
     "shell.execute_reply": "2022-06-18T11:50:45.007376Z"
    },
    "papermill": {
     "duration": 0.027896,
     "end_time": "2022-06-18T11:50:45.010284",
     "exception": false,
     "start_time": "2022-06-18T11:50:44.982388",
     "status": "completed"
    },
    "tags": []
   },
   "outputs": [
    {
     "data": {
      "text/html": [
       "<table class=\"dataframe\">\n",
       "<caption>A data.frame: 6 × 10</caption>\n",
       "<thead>\n",
       "\t<tr><th></th><th scope=col>ENSG00000155307</th><th scope=col>ENSG00000180530</th><th scope=col>ENSG00000154719</th><th scope=col>ENSG00000154721</th><th scope=col>ENSG00000154723</th><th scope=col>ENSG00000142192</th><th scope=col>ENSG00000154734</th><th scope=col>ENSG00000156261</th><th scope=col>ENSG00000171189</th><th scope=col>ENSG00000156299</th></tr>\n",
       "\t<tr><th></th><th scope=col>&lt;dbl&gt;</th><th scope=col>&lt;dbl&gt;</th><th scope=col>&lt;dbl&gt;</th><th scope=col>&lt;dbl&gt;</th><th scope=col>&lt;dbl&gt;</th><th scope=col>&lt;dbl&gt;</th><th scope=col>&lt;dbl&gt;</th><th scope=col>&lt;dbl&gt;</th><th scope=col>&lt;dbl&gt;</th><th scope=col>&lt;dbl&gt;</th></tr>\n",
       "</thead>\n",
       "<tbody>\n",
       "\t<tr><th scope=row>ENSG00000155307</th><td>1.0000000</td><td>0.1193705</td><td> 0.00000000</td><td> 0.000000000</td><td> 0.000000000</td><td> 0.00000000</td><td> 0.000000000</td><td> 0.00000000</td><td> 0.00000000</td><td> 0.0000000</td></tr>\n",
       "\t<tr><th scope=row>ENSG00000180530</th><td>0.1193705</td><td>1.0000000</td><td> 0.00000000</td><td> 0.000000000</td><td> 0.000000000</td><td> 0.00000000</td><td> 0.000000000</td><td> 0.00000000</td><td> 0.00000000</td><td> 0.0000000</td></tr>\n",
       "\t<tr><th scope=row>ENSG00000154719</th><td>0.0000000</td><td>0.0000000</td><td> 1.00000000</td><td> 0.148486926</td><td>-0.025066736</td><td>-0.10116429</td><td> 0.037798657</td><td>-0.64329083</td><td>-0.24955390</td><td> 0.0000000</td></tr>\n",
       "\t<tr><th scope=row>ENSG00000154721</th><td>0.0000000</td><td>0.0000000</td><td> 0.14848693</td><td> 1.000000000</td><td>-0.004689488</td><td>-0.08914295</td><td> 0.035862540</td><td>-0.17118742</td><td> 0.01094083</td><td> 0.0000000</td></tr>\n",
       "\t<tr><th scope=row>ENSG00000154723</th><td>0.0000000</td><td>0.0000000</td><td>-0.02506674</td><td>-0.004689488</td><td> 1.000000000</td><td>-0.05914889</td><td> 0.057730643</td><td> 0.04656161</td><td> 0.06493727</td><td> 0.0000000</td></tr>\n",
       "\t<tr><th scope=row>ENSG00000142192</th><td>0.0000000</td><td>0.0000000</td><td>-0.10116429</td><td>-0.089142948</td><td>-0.059148892</td><td> 1.00000000</td><td>-0.003978145</td><td>-0.11120360</td><td>-0.04971146</td><td>-0.1166378</td></tr>\n",
       "</tbody>\n",
       "</table>\n"
      ],
      "text/latex": [
       "A data.frame: 6 × 10\n",
       "\\begin{tabular}{r|llllllllll}\n",
       "  & ENSG00000155307 & ENSG00000180530 & ENSG00000154719 & ENSG00000154721 & ENSG00000154723 & ENSG00000142192 & ENSG00000154734 & ENSG00000156261 & ENSG00000171189 & ENSG00000156299\\\\\n",
       "  & <dbl> & <dbl> & <dbl> & <dbl> & <dbl> & <dbl> & <dbl> & <dbl> & <dbl> & <dbl>\\\\\n",
       "\\hline\n",
       "\tENSG00000155307 & 1.0000000 & 0.1193705 &  0.00000000 &  0.000000000 &  0.000000000 &  0.00000000 &  0.000000000 &  0.00000000 &  0.00000000 &  0.0000000\\\\\n",
       "\tENSG00000180530 & 0.1193705 & 1.0000000 &  0.00000000 &  0.000000000 &  0.000000000 &  0.00000000 &  0.000000000 &  0.00000000 &  0.00000000 &  0.0000000\\\\\n",
       "\tENSG00000154719 & 0.0000000 & 0.0000000 &  1.00000000 &  0.148486926 & -0.025066736 & -0.10116429 &  0.037798657 & -0.64329083 & -0.24955390 &  0.0000000\\\\\n",
       "\tENSG00000154721 & 0.0000000 & 0.0000000 &  0.14848693 &  1.000000000 & -0.004689488 & -0.08914295 &  0.035862540 & -0.17118742 &  0.01094083 &  0.0000000\\\\\n",
       "\tENSG00000154723 & 0.0000000 & 0.0000000 & -0.02506674 & -0.004689488 &  1.000000000 & -0.05914889 &  0.057730643 &  0.04656161 &  0.06493727 &  0.0000000\\\\\n",
       "\tENSG00000142192 & 0.0000000 & 0.0000000 & -0.10116429 & -0.089142948 & -0.059148892 &  1.00000000 & -0.003978145 & -0.11120360 & -0.04971146 & -0.1166378\\\\\n",
       "\\end{tabular}\n"
      ],
      "text/markdown": [
       "\n",
       "A data.frame: 6 × 10\n",
       "\n",
       "| <!--/--> | ENSG00000155307 &lt;dbl&gt; | ENSG00000180530 &lt;dbl&gt; | ENSG00000154719 &lt;dbl&gt; | ENSG00000154721 &lt;dbl&gt; | ENSG00000154723 &lt;dbl&gt; | ENSG00000142192 &lt;dbl&gt; | ENSG00000154734 &lt;dbl&gt; | ENSG00000156261 &lt;dbl&gt; | ENSG00000171189 &lt;dbl&gt; | ENSG00000156299 &lt;dbl&gt; |\n",
       "|---|---|---|---|---|---|---|---|---|---|---|\n",
       "| ENSG00000155307 | 1.0000000 | 0.1193705 |  0.00000000 |  0.000000000 |  0.000000000 |  0.00000000 |  0.000000000 |  0.00000000 |  0.00000000 |  0.0000000 |\n",
       "| ENSG00000180530 | 0.1193705 | 1.0000000 |  0.00000000 |  0.000000000 |  0.000000000 |  0.00000000 |  0.000000000 |  0.00000000 |  0.00000000 |  0.0000000 |\n",
       "| ENSG00000154719 | 0.0000000 | 0.0000000 |  1.00000000 |  0.148486926 | -0.025066736 | -0.10116429 |  0.037798657 | -0.64329083 | -0.24955390 |  0.0000000 |\n",
       "| ENSG00000154721 | 0.0000000 | 0.0000000 |  0.14848693 |  1.000000000 | -0.004689488 | -0.08914295 |  0.035862540 | -0.17118742 |  0.01094083 |  0.0000000 |\n",
       "| ENSG00000154723 | 0.0000000 | 0.0000000 | -0.02506674 | -0.004689488 |  1.000000000 | -0.05914889 |  0.057730643 |  0.04656161 |  0.06493727 |  0.0000000 |\n",
       "| ENSG00000142192 | 0.0000000 | 0.0000000 | -0.10116429 | -0.089142948 | -0.059148892 |  1.00000000 | -0.003978145 | -0.11120360 | -0.04971146 | -0.1166378 |\n",
       "\n"
      ],
      "text/plain": [
       "                ENSG00000155307 ENSG00000180530 ENSG00000154719 ENSG00000154721\n",
       "ENSG00000155307 1.0000000       0.1193705        0.00000000      0.000000000   \n",
       "ENSG00000180530 0.1193705       1.0000000        0.00000000      0.000000000   \n",
       "ENSG00000154719 0.0000000       0.0000000        1.00000000      0.148486926   \n",
       "ENSG00000154721 0.0000000       0.0000000        0.14848693      1.000000000   \n",
       "ENSG00000154723 0.0000000       0.0000000       -0.02506674     -0.004689488   \n",
       "ENSG00000142192 0.0000000       0.0000000       -0.10116429     -0.089142948   \n",
       "                ENSG00000154723 ENSG00000142192 ENSG00000154734 ENSG00000156261\n",
       "ENSG00000155307  0.000000000     0.00000000      0.000000000     0.00000000    \n",
       "ENSG00000180530  0.000000000     0.00000000      0.000000000     0.00000000    \n",
       "ENSG00000154719 -0.025066736    -0.10116429      0.037798657    -0.64329083    \n",
       "ENSG00000154721 -0.004689488    -0.08914295      0.035862540    -0.17118742    \n",
       "ENSG00000154723  1.000000000    -0.05914889      0.057730643     0.04656161    \n",
       "ENSG00000142192 -0.059148892     1.00000000     -0.003978145    -0.11120360    \n",
       "                ENSG00000171189 ENSG00000156299\n",
       "ENSG00000155307  0.00000000      0.0000000     \n",
       "ENSG00000180530  0.00000000      0.0000000     \n",
       "ENSG00000154719 -0.24955390      0.0000000     \n",
       "ENSG00000154721  0.01094083      0.0000000     \n",
       "ENSG00000154723  0.06493727      0.0000000     \n",
       "ENSG00000142192 -0.04971146     -0.1166378     "
      ]
     },
     "metadata": {},
     "output_type": "display_data"
    }
   ],
   "source": [
    "head(gene_corrs[1:10, 1:10])"
   ]
  },
  {
   "cell_type": "markdown",
   "id": "c5c9ffba-1678-4ce7-8988-4ee03e23bdf2",
   "metadata": {
    "papermill": {
     "duration": 0.005837,
     "end_time": "2022-06-18T11:50:45.022285",
     "exception": false,
     "start_time": "2022-06-18T11:50:45.016448",
     "status": "completed"
    },
    "tags": []
   },
   "source": [
    "# Check positive definiteness"
   ]
  },
  {
   "cell_type": "code",
   "execution_count": 17,
   "id": "178854f5-487a-42e8-82b4-625c1979734a",
   "metadata": {
    "execution": {
     "iopub.execute_input": "2022-06-18T11:50:45.036080Z",
     "iopub.status.busy": "2022-06-18T11:50:45.035102Z",
     "iopub.status.idle": "2022-06-18T11:50:45.050623Z",
     "shell.execute_reply": "2022-06-18T11:50:45.049434Z"
    },
    "papermill": {
     "duration": 0.025266,
     "end_time": "2022-06-18T11:50:45.053511",
     "exception": false,
     "start_time": "2022-06-18T11:50:45.028245",
     "status": "completed"
    },
    "tags": []
   },
   "outputs": [
    {
     "data": {
      "text/html": [
       "'We need to correct the data and make the matrix positive definite'"
      ],
      "text/latex": [
       "'We need to correct the data and make the matrix positive definite'"
      ],
      "text/markdown": [
       "'We need to correct the data and make the matrix positive definite'"
      ],
      "text/plain": [
       "[1] \"We need to correct the data and make the matrix positive definite\""
      ]
     },
     "metadata": {},
     "output_type": "display_data"
    },
    {
     "data": {
      "text/html": [
       "FALSE"
      ],
      "text/latex": [
       "FALSE"
      ],
      "text/markdown": [
       "FALSE"
      ],
      "text/plain": [
       "[1] FALSE"
      ]
     },
     "metadata": {},
     "output_type": "display_data"
    }
   ],
   "source": [
    "is_positive_definite(gene_corrs)"
   ]
  },
  {
   "cell_type": "code",
   "execution_count": 18,
   "id": "58542ade-c80f-42e6-acbf-6464dab70fdb",
   "metadata": {
    "execution": {
     "iopub.execute_input": "2022-06-18T11:50:45.068667Z",
     "iopub.status.busy": "2022-06-18T11:50:45.067593Z",
     "iopub.status.idle": "2022-06-18T11:50:45.081802Z",
     "shell.execute_reply": "2022-06-18T11:50:45.079635Z"
    },
    "papermill": {
     "duration": 0.023801,
     "end_time": "2022-06-18T11:50:45.083728",
     "exception": false,
     "start_time": "2022-06-18T11:50:45.059927",
     "status": "completed"
    },
    "tags": []
   },
   "outputs": [],
   "source": [
    "# see eigenvalues\n",
    "eigenvalues <- eigen(gene_corrs)$values"
   ]
  },
  {
   "cell_type": "code",
   "execution_count": 19,
   "id": "9486e0db-e924-43ab-bb6c-0d997fd38f3d",
   "metadata": {
    "execution": {
     "iopub.execute_input": "2022-06-18T11:50:45.100597Z",
     "iopub.status.busy": "2022-06-18T11:50:45.099408Z",
     "iopub.status.idle": "2022-06-18T11:50:45.122075Z",
     "shell.execute_reply": "2022-06-18T11:50:45.120089Z"
    },
    "papermill": {
     "duration": 0.032855,
     "end_time": "2022-06-18T11:50:45.123832",
     "exception": false,
     "start_time": "2022-06-18T11:50:45.090977",
     "status": "completed"
    },
    "tags": []
   },
   "outputs": [
    {
     "data": {
      "text/html": [
       "1"
      ],
      "text/latex": [
       "1"
      ],
      "text/markdown": [
       "1"
      ],
      "text/plain": [
       "[1] 1"
      ]
     },
     "metadata": {},
     "output_type": "display_data"
    },
    {
     "data": {
      "text/html": [
       "-0.0263218642843633"
      ],
      "text/latex": [
       "-0.0263218642843633"
      ],
      "text/markdown": [
       "-0.0263218642843633"
      ],
      "text/plain": [
       "[1] -0.02632186"
      ]
     },
     "metadata": {},
     "output_type": "display_data"
    }
   ],
   "source": [
    "nonpositive_eigenvalues <- eigenvalues[eigenvalues <= 0]\n",
    "IRdisplay::display(length(nonpositive_eigenvalues))\n",
    "IRdisplay::display(nonpositive_eigenvalues)"
   ]
  },
  {
   "cell_type": "code",
   "execution_count": 20,
   "id": "410ee452-488f-4518-b93a-2acd608ba99c",
   "metadata": {
    "execution": {
     "iopub.execute_input": "2022-06-18T11:50:45.140358Z",
     "iopub.status.busy": "2022-06-18T11:50:45.139347Z",
     "iopub.status.idle": "2022-06-18T11:50:45.147955Z",
     "shell.execute_reply": "2022-06-18T11:50:45.146794Z"
    },
    "papermill": {
     "duration": 0.018486,
     "end_time": "2022-06-18T11:50:45.149606",
     "exception": false,
     "start_time": "2022-06-18T11:50:45.131120",
     "status": "completed"
    },
    "tags": []
   },
   "outputs": [],
   "source": [
    "if (length(eigenvalues[eigenvalues <= 0]) == 0) { quit() }"
   ]
  },
  {
   "cell_type": "markdown",
   "id": "2d280a82-f231-402d-82ab-9291d395afc1",
   "metadata": {
    "papermill": {
     "duration": 0.006306,
     "end_time": "2022-06-18T11:50:45.162598",
     "exception": false,
     "start_time": "2022-06-18T11:50:45.156292",
     "status": "completed"
    },
    "tags": []
   },
   "source": [
    "# Make matrix positive definite if needed"
   ]
  },
  {
   "cell_type": "code",
   "execution_count": 21,
   "id": "b9037873-4067-4ac6-aa92-e9225a6c9353",
   "metadata": {
    "execution": {
     "iopub.execute_input": "2022-06-18T11:50:45.176777Z",
     "iopub.status.busy": "2022-06-18T11:50:45.175873Z",
     "iopub.status.idle": "2022-06-18T11:50:45.186114Z",
     "shell.execute_reply": "2022-06-18T11:50:45.184993Z"
    },
    "papermill": {
     "duration": 0.018765,
     "end_time": "2022-06-18T11:50:45.187657",
     "exception": false,
     "start_time": "2022-06-18T11:50:45.168892",
     "status": "completed"
    },
    "tags": []
   },
   "outputs": [],
   "source": [
    "gene_corrs_corrected <- CorrectCM(gene_corrs, 1)"
   ]
  },
  {
   "cell_type": "code",
   "execution_count": 22,
   "id": "03c86284-5aac-4f66-86cc-74eb97102a7e",
   "metadata": {
    "execution": {
     "iopub.execute_input": "2022-06-18T11:50:45.201859Z",
     "iopub.status.busy": "2022-06-18T11:50:45.200834Z",
     "iopub.status.idle": "2022-06-18T11:50:45.209011Z",
     "shell.execute_reply": "2022-06-18T11:50:45.207831Z"
    },
    "papermill": {
     "duration": 0.016673,
     "end_time": "2022-06-18T11:50:45.210448",
     "exception": false,
     "start_time": "2022-06-18T11:50:45.193775",
     "status": "completed"
    },
    "tags": []
   },
   "outputs": [],
   "source": [
    "dimnames(gene_corrs_corrected)[[1]] <- rownames(gene_corrs)"
   ]
  },
  {
   "cell_type": "code",
   "execution_count": 23,
   "id": "576e7069-25ff-473d-8158-35b5f2ff212e",
   "metadata": {
    "execution": {
     "iopub.execute_input": "2022-06-18T11:50:45.234975Z",
     "iopub.status.busy": "2022-06-18T11:50:45.233128Z",
     "iopub.status.idle": "2022-06-18T11:50:45.244049Z",
     "shell.execute_reply": "2022-06-18T11:50:45.242069Z"
    },
    "papermill": {
     "duration": 0.029035,
     "end_time": "2022-06-18T11:50:45.245640",
     "exception": false,
     "start_time": "2022-06-18T11:50:45.216605",
     "status": "completed"
    },
    "tags": []
   },
   "outputs": [],
   "source": [
    "dimnames(gene_corrs_corrected)[[2]] <- colnames(gene_corrs)"
   ]
  },
  {
   "cell_type": "code",
   "execution_count": 24,
   "id": "f77d043a-321d-447f-8da5-2503981d3e73",
   "metadata": {
    "execution": {
     "iopub.execute_input": "2022-06-18T11:50:45.260331Z",
     "iopub.status.busy": "2022-06-18T11:50:45.259345Z",
     "iopub.status.idle": "2022-06-18T11:50:45.268824Z",
     "shell.execute_reply": "2022-06-18T11:50:45.267735Z"
    },
    "papermill": {
     "duration": 0.018016,
     "end_time": "2022-06-18T11:50:45.270349",
     "exception": false,
     "start_time": "2022-06-18T11:50:45.252333",
     "status": "completed"
    },
    "tags": []
   },
   "outputs": [],
   "source": [
    "gene_corrs_corrected <- as.data.frame(gene_corrs_corrected)"
   ]
  },
  {
   "cell_type": "code",
   "execution_count": 25,
   "id": "3e844024-f9a2-42a2-bbd0-695cfdbb78f5",
   "metadata": {
    "execution": {
     "iopub.execute_input": "2022-06-18T11:50:45.284845Z",
     "iopub.status.busy": "2022-06-18T11:50:45.283923Z",
     "iopub.status.idle": "2022-06-18T11:50:45.294011Z",
     "shell.execute_reply": "2022-06-18T11:50:45.292902Z"
    },
    "papermill": {
     "duration": 0.01875,
     "end_time": "2022-06-18T11:50:45.295597",
     "exception": false,
     "start_time": "2022-06-18T11:50:45.276847",
     "status": "completed"
    },
    "tags": []
   },
   "outputs": [
    {
     "data": {
      "text/html": [
       "<style>\n",
       ".list-inline {list-style: none; margin:0; padding: 0}\n",
       ".list-inline>li {display: inline-block}\n",
       ".list-inline>li:not(:last-child)::after {content: \"\\00b7\"; padding: 0 .5ex}\n",
       "</style>\n",
       "<ol class=list-inline><li>62</li><li>62</li></ol>\n"
      ],
      "text/latex": [
       "\\begin{enumerate*}\n",
       "\\item 62\n",
       "\\item 62\n",
       "\\end{enumerate*}\n"
      ],
      "text/markdown": [
       "1. 62\n",
       "2. 62\n",
       "\n",
       "\n"
      ],
      "text/plain": [
       "[1] 62 62"
      ]
     },
     "metadata": {},
     "output_type": "display_data"
    }
   ],
   "source": [
    "dim(gene_corrs_corrected)"
   ]
  },
  {
   "cell_type": "markdown",
   "id": "244b6bde-4ca8-46d1-acc7-b4c35b5d3c62",
   "metadata": {
    "papermill": {
     "duration": 0.006245,
     "end_time": "2022-06-18T11:50:45.308351",
     "exception": false,
     "start_time": "2022-06-18T11:50:45.302106",
     "status": "completed"
    },
    "tags": []
   },
   "source": [
    "# Check positive definiteness of corrected matrix"
   ]
  },
  {
   "cell_type": "code",
   "execution_count": 26,
   "id": "0fd5b688-e137-4619-910c-35130d32d600",
   "metadata": {
    "execution": {
     "iopub.execute_input": "2022-06-18T11:50:45.346197Z",
     "iopub.status.busy": "2022-06-18T11:50:45.345193Z",
     "iopub.status.idle": "2022-06-18T11:50:45.362454Z",
     "shell.execute_reply": "2022-06-18T11:50:45.361289Z"
    },
    "papermill": {
     "duration": 0.025803,
     "end_time": "2022-06-18T11:50:45.363951",
     "exception": false,
     "start_time": "2022-06-18T11:50:45.338148",
     "status": "completed"
    },
    "tags": []
   },
   "outputs": [
    {
     "data": {
      "text/html": [
       "'Matrix is already positive definite!'"
      ],
      "text/latex": [
       "'Matrix is already positive definite!'"
      ],
      "text/markdown": [
       "'Matrix is already positive definite!'"
      ],
      "text/plain": [
       "[1] \"Matrix is already positive definite!\""
      ]
     },
     "metadata": {},
     "output_type": "display_data"
    },
    {
     "data": {
      "text/html": [
       "TRUE"
      ],
      "text/latex": [
       "TRUE"
      ],
      "text/markdown": [
       "TRUE"
      ],
      "text/plain": [
       "[1] TRUE"
      ]
     },
     "metadata": {},
     "output_type": "display_data"
    }
   ],
   "source": [
    "is_positive_definite(gene_corrs_corrected)"
   ]
  },
  {
   "cell_type": "code",
   "execution_count": 27,
   "id": "06d23ab8-bebb-474c-be33-dca7e53c1717",
   "metadata": {
    "execution": {
     "iopub.execute_input": "2022-06-18T11:50:45.381690Z",
     "iopub.status.busy": "2022-06-18T11:50:45.379876Z",
     "iopub.status.idle": "2022-06-18T11:50:45.392299Z",
     "shell.execute_reply": "2022-06-18T11:50:45.390460Z"
    },
    "papermill": {
     "duration": 0.023312,
     "end_time": "2022-06-18T11:50:45.393861",
     "exception": false,
     "start_time": "2022-06-18T11:50:45.370549",
     "status": "completed"
    },
    "tags": []
   },
   "outputs": [],
   "source": [
    "# see eigenvalues\n",
    "eigenvalues <- eigen(gene_corrs_corrected)$values"
   ]
  },
  {
   "cell_type": "code",
   "execution_count": 28,
   "id": "ddf8afb8-e0e2-4b4e-876d-12bd6856c1ad",
   "metadata": {
    "execution": {
     "iopub.execute_input": "2022-06-18T11:50:45.409117Z",
     "iopub.status.busy": "2022-06-18T11:50:45.408133Z",
     "iopub.status.idle": "2022-06-18T11:50:45.427268Z",
     "shell.execute_reply": "2022-06-18T11:50:45.425523Z"
    },
    "papermill": {
     "duration": 0.027858,
     "end_time": "2022-06-18T11:50:45.428679",
     "exception": false,
     "start_time": "2022-06-18T11:50:45.400821",
     "status": "completed"
    },
    "tags": []
   },
   "outputs": [
    {
     "data": {
      "text/html": [
       "0"
      ],
      "text/latex": [
       "0"
      ],
      "text/markdown": [
       "0"
      ],
      "text/plain": [
       "[1] 0"
      ]
     },
     "metadata": {},
     "output_type": "display_data"
    },
    {
     "data": {
      "text/html": [],
      "text/latex": [],
      "text/markdown": [],
      "text/plain": [
       "numeric(0)"
      ]
     },
     "metadata": {},
     "output_type": "display_data"
    }
   ],
   "source": [
    "nonpositive_eigenvalues <- eigenvalues[eigenvalues <= 0]\n",
    "IRdisplay::display(length(nonpositive_eigenvalues))\n",
    "IRdisplay::display(nonpositive_eigenvalues)"
   ]
  },
  {
   "cell_type": "code",
   "execution_count": 29,
   "id": "712fd71a-b6ec-4a13-a956-80c99be7f585",
   "metadata": {
    "execution": {
     "iopub.execute_input": "2022-06-18T11:50:45.447360Z",
     "iopub.status.busy": "2022-06-18T11:50:45.445425Z",
     "iopub.status.idle": "2022-06-18T11:50:45.455477Z",
     "shell.execute_reply": "2022-06-18T11:50:45.453667Z"
    },
    "papermill": {
     "duration": 0.021557,
     "end_time": "2022-06-18T11:50:45.457018",
     "exception": false,
     "start_time": "2022-06-18T11:50:45.435461",
     "status": "completed"
    },
    "tags": []
   },
   "outputs": [],
   "source": [
    "stopifnot(length(eigenvalues[eigenvalues <= 0]) == 0)"
   ]
  },
  {
   "cell_type": "code",
   "execution_count": 30,
   "id": "786d6336-3844-40f7-979b-6d6028787f7f",
   "metadata": {
    "execution": {
     "iopub.execute_input": "2022-06-18T11:50:45.480092Z",
     "iopub.status.busy": "2022-06-18T11:50:45.478978Z",
     "iopub.status.idle": "2022-06-18T11:50:45.508514Z",
     "shell.execute_reply": "2022-06-18T11:50:45.507410Z"
    },
    "papermill": {
     "duration": 0.040845,
     "end_time": "2022-06-18T11:50:45.510076",
     "exception": false,
     "start_time": "2022-06-18T11:50:45.469231",
     "status": "completed"
    },
    "tags": []
   },
   "outputs": [
    {
     "data": {
      "text/html": [
       "<table class=\"dataframe\">\n",
       "<caption>A data.frame: 6 × 10</caption>\n",
       "<thead>\n",
       "\t<tr><th></th><th scope=col>ENSG00000155307</th><th scope=col>ENSG00000180530</th><th scope=col>ENSG00000154719</th><th scope=col>ENSG00000154721</th><th scope=col>ENSG00000154723</th><th scope=col>ENSG00000142192</th><th scope=col>ENSG00000154734</th><th scope=col>ENSG00000156261</th><th scope=col>ENSG00000171189</th><th scope=col>ENSG00000156299</th></tr>\n",
       "\t<tr><th></th><th scope=col>&lt;dbl&gt;</th><th scope=col>&lt;dbl&gt;</th><th scope=col>&lt;dbl&gt;</th><th scope=col>&lt;dbl&gt;</th><th scope=col>&lt;dbl&gt;</th><th scope=col>&lt;dbl&gt;</th><th scope=col>&lt;dbl&gt;</th><th scope=col>&lt;dbl&gt;</th><th scope=col>&lt;dbl&gt;</th><th scope=col>&lt;dbl&gt;</th></tr>\n",
       "</thead>\n",
       "<tbody>\n",
       "\t<tr><th scope=row>ENSG00000155307</th><td>1.0000000</td><td>0.1193705</td><td> 0.00000000</td><td> 0.000000000</td><td> 0.000000000</td><td> 0.00000000</td><td> 0.000000000</td><td> 0.00000000</td><td> 0.00000000</td><td> 0.0000000</td></tr>\n",
       "\t<tr><th scope=row>ENSG00000180530</th><td>0.1193705</td><td>1.0000000</td><td> 0.00000000</td><td> 0.000000000</td><td> 0.000000000</td><td> 0.00000000</td><td> 0.000000000</td><td> 0.00000000</td><td> 0.00000000</td><td> 0.0000000</td></tr>\n",
       "\t<tr><th scope=row>ENSG00000154719</th><td>0.0000000</td><td>0.0000000</td><td> 1.00000000</td><td> 0.148486926</td><td>-0.025066736</td><td>-0.10116429</td><td> 0.037798657</td><td>-0.64329083</td><td>-0.24955390</td><td> 0.0000000</td></tr>\n",
       "\t<tr><th scope=row>ENSG00000154721</th><td>0.0000000</td><td>0.0000000</td><td> 0.14848693</td><td> 1.000000000</td><td>-0.004689488</td><td>-0.08914295</td><td> 0.035862540</td><td>-0.17118742</td><td> 0.01094083</td><td> 0.0000000</td></tr>\n",
       "\t<tr><th scope=row>ENSG00000154723</th><td>0.0000000</td><td>0.0000000</td><td>-0.02506674</td><td>-0.004689488</td><td> 1.000000000</td><td>-0.05914889</td><td> 0.057730643</td><td> 0.04656161</td><td> 0.06493727</td><td> 0.0000000</td></tr>\n",
       "\t<tr><th scope=row>ENSG00000142192</th><td>0.0000000</td><td>0.0000000</td><td>-0.10116429</td><td>-0.089142948</td><td>-0.059148892</td><td> 1.00000000</td><td>-0.003978145</td><td>-0.11120360</td><td>-0.04971146</td><td>-0.1166378</td></tr>\n",
       "</tbody>\n",
       "</table>\n"
      ],
      "text/latex": [
       "A data.frame: 6 × 10\n",
       "\\begin{tabular}{r|llllllllll}\n",
       "  & ENSG00000155307 & ENSG00000180530 & ENSG00000154719 & ENSG00000154721 & ENSG00000154723 & ENSG00000142192 & ENSG00000154734 & ENSG00000156261 & ENSG00000171189 & ENSG00000156299\\\\\n",
       "  & <dbl> & <dbl> & <dbl> & <dbl> & <dbl> & <dbl> & <dbl> & <dbl> & <dbl> & <dbl>\\\\\n",
       "\\hline\n",
       "\tENSG00000155307 & 1.0000000 & 0.1193705 &  0.00000000 &  0.000000000 &  0.000000000 &  0.00000000 &  0.000000000 &  0.00000000 &  0.00000000 &  0.0000000\\\\\n",
       "\tENSG00000180530 & 0.1193705 & 1.0000000 &  0.00000000 &  0.000000000 &  0.000000000 &  0.00000000 &  0.000000000 &  0.00000000 &  0.00000000 &  0.0000000\\\\\n",
       "\tENSG00000154719 & 0.0000000 & 0.0000000 &  1.00000000 &  0.148486926 & -0.025066736 & -0.10116429 &  0.037798657 & -0.64329083 & -0.24955390 &  0.0000000\\\\\n",
       "\tENSG00000154721 & 0.0000000 & 0.0000000 &  0.14848693 &  1.000000000 & -0.004689488 & -0.08914295 &  0.035862540 & -0.17118742 &  0.01094083 &  0.0000000\\\\\n",
       "\tENSG00000154723 & 0.0000000 & 0.0000000 & -0.02506674 & -0.004689488 &  1.000000000 & -0.05914889 &  0.057730643 &  0.04656161 &  0.06493727 &  0.0000000\\\\\n",
       "\tENSG00000142192 & 0.0000000 & 0.0000000 & -0.10116429 & -0.089142948 & -0.059148892 &  1.00000000 & -0.003978145 & -0.11120360 & -0.04971146 & -0.1166378\\\\\n",
       "\\end{tabular}\n"
      ],
      "text/markdown": [
       "\n",
       "A data.frame: 6 × 10\n",
       "\n",
       "| <!--/--> | ENSG00000155307 &lt;dbl&gt; | ENSG00000180530 &lt;dbl&gt; | ENSG00000154719 &lt;dbl&gt; | ENSG00000154721 &lt;dbl&gt; | ENSG00000154723 &lt;dbl&gt; | ENSG00000142192 &lt;dbl&gt; | ENSG00000154734 &lt;dbl&gt; | ENSG00000156261 &lt;dbl&gt; | ENSG00000171189 &lt;dbl&gt; | ENSG00000156299 &lt;dbl&gt; |\n",
       "|---|---|---|---|---|---|---|---|---|---|---|\n",
       "| ENSG00000155307 | 1.0000000 | 0.1193705 |  0.00000000 |  0.000000000 |  0.000000000 |  0.00000000 |  0.000000000 |  0.00000000 |  0.00000000 |  0.0000000 |\n",
       "| ENSG00000180530 | 0.1193705 | 1.0000000 |  0.00000000 |  0.000000000 |  0.000000000 |  0.00000000 |  0.000000000 |  0.00000000 |  0.00000000 |  0.0000000 |\n",
       "| ENSG00000154719 | 0.0000000 | 0.0000000 |  1.00000000 |  0.148486926 | -0.025066736 | -0.10116429 |  0.037798657 | -0.64329083 | -0.24955390 |  0.0000000 |\n",
       "| ENSG00000154721 | 0.0000000 | 0.0000000 |  0.14848693 |  1.000000000 | -0.004689488 | -0.08914295 |  0.035862540 | -0.17118742 |  0.01094083 |  0.0000000 |\n",
       "| ENSG00000154723 | 0.0000000 | 0.0000000 | -0.02506674 | -0.004689488 |  1.000000000 | -0.05914889 |  0.057730643 |  0.04656161 |  0.06493727 |  0.0000000 |\n",
       "| ENSG00000142192 | 0.0000000 | 0.0000000 | -0.10116429 | -0.089142948 | -0.059148892 |  1.00000000 | -0.003978145 | -0.11120360 | -0.04971146 | -0.1166378 |\n",
       "\n"
      ],
      "text/plain": [
       "                ENSG00000155307 ENSG00000180530 ENSG00000154719 ENSG00000154721\n",
       "ENSG00000155307 1.0000000       0.1193705        0.00000000      0.000000000   \n",
       "ENSG00000180530 0.1193705       1.0000000        0.00000000      0.000000000   \n",
       "ENSG00000154719 0.0000000       0.0000000        1.00000000      0.148486926   \n",
       "ENSG00000154721 0.0000000       0.0000000        0.14848693      1.000000000   \n",
       "ENSG00000154723 0.0000000       0.0000000       -0.02506674     -0.004689488   \n",
       "ENSG00000142192 0.0000000       0.0000000       -0.10116429     -0.089142948   \n",
       "                ENSG00000154723 ENSG00000142192 ENSG00000154734 ENSG00000156261\n",
       "ENSG00000155307  0.000000000     0.00000000      0.000000000     0.00000000    \n",
       "ENSG00000180530  0.000000000     0.00000000      0.000000000     0.00000000    \n",
       "ENSG00000154719 -0.025066736    -0.10116429      0.037798657    -0.64329083    \n",
       "ENSG00000154721 -0.004689488    -0.08914295      0.035862540    -0.17118742    \n",
       "ENSG00000154723  1.000000000    -0.05914889      0.057730643     0.04656161    \n",
       "ENSG00000142192 -0.059148892     1.00000000     -0.003978145    -0.11120360    \n",
       "                ENSG00000171189 ENSG00000156299\n",
       "ENSG00000155307  0.00000000      0.0000000     \n",
       "ENSG00000180530  0.00000000      0.0000000     \n",
       "ENSG00000154719 -0.24955390      0.0000000     \n",
       "ENSG00000154721  0.01094083      0.0000000     \n",
       "ENSG00000154723  0.06493727      0.0000000     \n",
       "ENSG00000142192 -0.04971146     -0.1166378     "
      ]
     },
     "metadata": {},
     "output_type": "display_data"
    },
    {
     "data": {
      "text/html": [
       "<table class=\"dataframe\">\n",
       "<caption>A data.frame: 6 × 10</caption>\n",
       "<thead>\n",
       "\t<tr><th></th><th scope=col>ENSG00000155307</th><th scope=col>ENSG00000180530</th><th scope=col>ENSG00000154719</th><th scope=col>ENSG00000154721</th><th scope=col>ENSG00000154723</th><th scope=col>ENSG00000142192</th><th scope=col>ENSG00000154734</th><th scope=col>ENSG00000156261</th><th scope=col>ENSG00000171189</th><th scope=col>ENSG00000156299</th></tr>\n",
       "\t<tr><th></th><th scope=col>&lt;dbl&gt;</th><th scope=col>&lt;dbl&gt;</th><th scope=col>&lt;dbl&gt;</th><th scope=col>&lt;dbl&gt;</th><th scope=col>&lt;dbl&gt;</th><th scope=col>&lt;dbl&gt;</th><th scope=col>&lt;dbl&gt;</th><th scope=col>&lt;dbl&gt;</th><th scope=col>&lt;dbl&gt;</th><th scope=col>&lt;dbl&gt;</th></tr>\n",
       "</thead>\n",
       "<tbody>\n",
       "\t<tr><th scope=row>ENSG00000155307</th><td>1.00000000</td><td>0.05632358</td><td> 0.0000000</td><td> 0.000000000</td><td> 0.000000000</td><td> 0.00000000</td><td> 0.00000000</td><td> 0.000000000</td><td> 0.000000000</td><td> 0.00000000</td></tr>\n",
       "\t<tr><th scope=row>ENSG00000180530</th><td>0.05632358</td><td>1.00000000</td><td> 0.0000000</td><td> 0.000000000</td><td> 0.000000000</td><td> 0.00000000</td><td> 0.00000000</td><td> 0.000000000</td><td> 0.000000000</td><td> 0.00000000</td></tr>\n",
       "\t<tr><th scope=row>ENSG00000154719</th><td>0.00000000</td><td>0.00000000</td><td> 1.0000000</td><td> 0.120312748</td><td>-0.023928997</td><td>-0.01410330</td><td> 0.04349733</td><td>-0.229381937</td><td>-0.043082110</td><td>-0.01708879</td></tr>\n",
       "\t<tr><th scope=row>ENSG00000154721</th><td>0.00000000</td><td>0.00000000</td><td> 0.1203127</td><td> 1.000000000</td><td> 0.002276596</td><td>-0.03598078</td><td> 0.02857111</td><td>-0.110291606</td><td> 0.006284277</td><td> 0.01745799</td></tr>\n",
       "\t<tr><th scope=row>ENSG00000154723</th><td>0.00000000</td><td>0.00000000</td><td>-0.0239290</td><td> 0.002276596</td><td> 1.000000000</td><td>-0.03237293</td><td> 0.01612258</td><td> 0.025944244</td><td> 0.021264737</td><td> 0.02438941</td></tr>\n",
       "\t<tr><th scope=row>ENSG00000142192</th><td>0.00000000</td><td>0.00000000</td><td>-0.0141033</td><td>-0.035980776</td><td>-0.032372925</td><td> 1.00000000</td><td>-0.02126774</td><td>-0.002526252</td><td>-0.027752791</td><td>-0.06286539</td></tr>\n",
       "</tbody>\n",
       "</table>\n"
      ],
      "text/latex": [
       "A data.frame: 6 × 10\n",
       "\\begin{tabular}{r|llllllllll}\n",
       "  & ENSG00000155307 & ENSG00000180530 & ENSG00000154719 & ENSG00000154721 & ENSG00000154723 & ENSG00000142192 & ENSG00000154734 & ENSG00000156261 & ENSG00000171189 & ENSG00000156299\\\\\n",
       "  & <dbl> & <dbl> & <dbl> & <dbl> & <dbl> & <dbl> & <dbl> & <dbl> & <dbl> & <dbl>\\\\\n",
       "\\hline\n",
       "\tENSG00000155307 & 1.00000000 & 0.05632358 &  0.0000000 &  0.000000000 &  0.000000000 &  0.00000000 &  0.00000000 &  0.000000000 &  0.000000000 &  0.00000000\\\\\n",
       "\tENSG00000180530 & 0.05632358 & 1.00000000 &  0.0000000 &  0.000000000 &  0.000000000 &  0.00000000 &  0.00000000 &  0.000000000 &  0.000000000 &  0.00000000\\\\\n",
       "\tENSG00000154719 & 0.00000000 & 0.00000000 &  1.0000000 &  0.120312748 & -0.023928997 & -0.01410330 &  0.04349733 & -0.229381937 & -0.043082110 & -0.01708879\\\\\n",
       "\tENSG00000154721 & 0.00000000 & 0.00000000 &  0.1203127 &  1.000000000 &  0.002276596 & -0.03598078 &  0.02857111 & -0.110291606 &  0.006284277 &  0.01745799\\\\\n",
       "\tENSG00000154723 & 0.00000000 & 0.00000000 & -0.0239290 &  0.002276596 &  1.000000000 & -0.03237293 &  0.01612258 &  0.025944244 &  0.021264737 &  0.02438941\\\\\n",
       "\tENSG00000142192 & 0.00000000 & 0.00000000 & -0.0141033 & -0.035980776 & -0.032372925 &  1.00000000 & -0.02126774 & -0.002526252 & -0.027752791 & -0.06286539\\\\\n",
       "\\end{tabular}\n"
      ],
      "text/markdown": [
       "\n",
       "A data.frame: 6 × 10\n",
       "\n",
       "| <!--/--> | ENSG00000155307 &lt;dbl&gt; | ENSG00000180530 &lt;dbl&gt; | ENSG00000154719 &lt;dbl&gt; | ENSG00000154721 &lt;dbl&gt; | ENSG00000154723 &lt;dbl&gt; | ENSG00000142192 &lt;dbl&gt; | ENSG00000154734 &lt;dbl&gt; | ENSG00000156261 &lt;dbl&gt; | ENSG00000171189 &lt;dbl&gt; | ENSG00000156299 &lt;dbl&gt; |\n",
       "|---|---|---|---|---|---|---|---|---|---|---|\n",
       "| ENSG00000155307 | 1.00000000 | 0.05632358 |  0.0000000 |  0.000000000 |  0.000000000 |  0.00000000 |  0.00000000 |  0.000000000 |  0.000000000 |  0.00000000 |\n",
       "| ENSG00000180530 | 0.05632358 | 1.00000000 |  0.0000000 |  0.000000000 |  0.000000000 |  0.00000000 |  0.00000000 |  0.000000000 |  0.000000000 |  0.00000000 |\n",
       "| ENSG00000154719 | 0.00000000 | 0.00000000 |  1.0000000 |  0.120312748 | -0.023928997 | -0.01410330 |  0.04349733 | -0.229381937 | -0.043082110 | -0.01708879 |\n",
       "| ENSG00000154721 | 0.00000000 | 0.00000000 |  0.1203127 |  1.000000000 |  0.002276596 | -0.03598078 |  0.02857111 | -0.110291606 |  0.006284277 |  0.01745799 |\n",
       "| ENSG00000154723 | 0.00000000 | 0.00000000 | -0.0239290 |  0.002276596 |  1.000000000 | -0.03237293 |  0.01612258 |  0.025944244 |  0.021264737 |  0.02438941 |\n",
       "| ENSG00000142192 | 0.00000000 | 0.00000000 | -0.0141033 | -0.035980776 | -0.032372925 |  1.00000000 | -0.02126774 | -0.002526252 | -0.027752791 | -0.06286539 |\n",
       "\n"
      ],
      "text/plain": [
       "                ENSG00000155307 ENSG00000180530 ENSG00000154719 ENSG00000154721\n",
       "ENSG00000155307 1.00000000      0.05632358       0.0000000       0.000000000   \n",
       "ENSG00000180530 0.05632358      1.00000000       0.0000000       0.000000000   \n",
       "ENSG00000154719 0.00000000      0.00000000       1.0000000       0.120312748   \n",
       "ENSG00000154721 0.00000000      0.00000000       0.1203127       1.000000000   \n",
       "ENSG00000154723 0.00000000      0.00000000      -0.0239290       0.002276596   \n",
       "ENSG00000142192 0.00000000      0.00000000      -0.0141033      -0.035980776   \n",
       "                ENSG00000154723 ENSG00000142192 ENSG00000154734 ENSG00000156261\n",
       "ENSG00000155307  0.000000000     0.00000000      0.00000000      0.000000000   \n",
       "ENSG00000180530  0.000000000     0.00000000      0.00000000      0.000000000   \n",
       "ENSG00000154719 -0.023928997    -0.01410330      0.04349733     -0.229381937   \n",
       "ENSG00000154721  0.002276596    -0.03598078      0.02857111     -0.110291606   \n",
       "ENSG00000154723  1.000000000    -0.03237293      0.01612258      0.025944244   \n",
       "ENSG00000142192 -0.032372925     1.00000000     -0.02126774     -0.002526252   \n",
       "                ENSG00000171189 ENSG00000156299\n",
       "ENSG00000155307  0.000000000     0.00000000    \n",
       "ENSG00000180530  0.000000000     0.00000000    \n",
       "ENSG00000154719 -0.043082110    -0.01708879    \n",
       "ENSG00000154721  0.006284277     0.01745799    \n",
       "ENSG00000154723  0.021264737     0.02438941    \n",
       "ENSG00000142192 -0.027752791    -0.06286539    "
      ]
     },
     "metadata": {},
     "output_type": "display_data"
    }
   ],
   "source": [
    "# quick and visual comparison of the two matrices\n",
    "IRdisplay::display(head(gene_corrs[1:10, 1:10]))\n",
    "IRdisplay::display(head(gene_corrs_corrected[1:10, 1:10]))"
   ]
  },
  {
   "cell_type": "markdown",
   "id": "c6c40f1a-d153-475a-94eb-c71697ad9d51",
   "metadata": {
    "papermill": {
     "duration": 0.006769,
     "end_time": "2022-06-18T11:50:45.536465",
     "exception": false,
     "start_time": "2022-06-18T11:50:45.529696",
     "status": "completed"
    },
    "tags": []
   },
   "source": [
    "Both matrices should \"look\" similar. We are not interested in perfectly accurate correlation values (they are already inaccurate)."
   ]
  },
  {
   "cell_type": "markdown",
   "id": "bf0f49cb-9c21-4616-8390-bb68d52dae56",
   "metadata": {
    "papermill": {
     "duration": 0.007357,
     "end_time": "2022-06-18T11:50:45.550873",
     "exception": false,
     "start_time": "2022-06-18T11:50:45.543516",
     "status": "completed"
    },
    "tags": []
   },
   "source": [
    "# Save"
   ]
  },
  {
   "cell_type": "code",
   "execution_count": 31,
   "id": "2e58e7f3-a75c-4195-a20e-39e3e3e1cc9a",
   "metadata": {
    "execution": {
     "iopub.execute_input": "2022-06-18T11:50:45.567438Z",
     "iopub.status.busy": "2022-06-18T11:50:45.566499Z",
     "iopub.status.idle": "2022-06-18T11:50:45.581165Z",
     "shell.execute_reply": "2022-06-18T11:50:45.579987Z"
    },
    "papermill": {
     "duration": 0.024604,
     "end_time": "2022-06-18T11:50:45.582819",
     "exception": false,
     "start_time": "2022-06-18T11:50:45.558215",
     "status": "completed"
    },
    "tags": []
   },
   "outputs": [],
   "source": [
    "py_save_object(gene_corrs_corrected, OUTPUT_FILE)"
   ]
  },
  {
   "cell_type": "code",
   "execution_count": null,
   "id": "d8ae4220-2171-460c-9231-cd5219f3fe77",
   "metadata": {
    "papermill": {
     "duration": 0.007583,
     "end_time": "2022-06-18T11:50:45.598353",
     "exception": false,
     "start_time": "2022-06-18T11:50:45.590770",
     "status": "completed"
    },
    "tags": []
   },
   "outputs": [],
   "source": []
  }
 ],
 "metadata": {
  "jupytext": {
   "cell_metadata_filter": "all,-execution,-papermill,-trusted"
  },
  "kernelspec": {
   "display_name": "R",
   "language": "R",
   "name": "ir"
  },
  "language_info": {
   "codemirror_mode": "r",
   "file_extension": ".r",
   "mimetype": "text/x-r-source",
   "name": "R",
   "pygments_lexer": "r",
   "version": "3.6.3"
  },
  "papermill": {
   "default_parameters": {},
   "duration": 6.035888,
   "end_time": "2022-06-18T11:50:45.722918",
   "environment_variables": {},
   "exception": null,
   "input_path": "nbs/15_gsa_gls/12-gene_expr_correlations-adjust.ipynb",
   "output_path": "nbs/15_gsa_gls/gene_corrs/gtex_v8/mashr/12-gene_expr_correlations-adjust-chr21.run.ipynb",
   "parameters": {
    "EQTL_MODEL": "MASHR",
    "REFERENCE_PANEL": "GTEX_V8",
    "chromosome": 21
   },
   "start_time": "2022-06-18T11:50:39.687030",
   "version": "2.3.4"
  }
 },
 "nbformat": 4,
 "nbformat_minor": 5
}
