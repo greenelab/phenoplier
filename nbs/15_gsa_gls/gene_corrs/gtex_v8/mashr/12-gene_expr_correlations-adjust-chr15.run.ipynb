{
 "cells": [
  {
   "cell_type": "markdown",
   "id": "6c1f0ae4-cd27-4fec-a23d-51699e7059e8",
   "metadata": {
    "papermill": {
     "duration": 0.005295,
     "end_time": "2022-06-18T11:50:25.678258",
     "exception": false,
     "start_time": "2022-06-18T11:50:25.672963",
     "status": "completed"
    },
    "tags": []
   },
   "source": [
    "# Description"
   ]
  },
  {
   "cell_type": "markdown",
   "id": "3268a19a-8a83-4f61-aa39-09b084c81d61",
   "metadata": {
    "papermill": {
     "duration": 0.004519,
     "end_time": "2022-06-18T11:50:25.687493",
     "exception": false,
     "start_time": "2022-06-18T11:50:25.682974",
     "status": "completed"
    },
    "tags": []
   },
   "source": [
    "**TODO**"
   ]
  },
  {
   "cell_type": "markdown",
   "id": "401368d3-22c1-4d81-a2c3-c4a81fde4191",
   "metadata": {
    "papermill": {
     "duration": 0.004498,
     "end_time": "2022-06-18T11:50:25.696611",
     "exception": false,
     "start_time": "2022-06-18T11:50:25.692113",
     "status": "completed"
    },
    "tags": []
   },
   "source": [
    "# Modules"
   ]
  },
  {
   "cell_type": "code",
   "execution_count": 1,
   "id": "f9b5022b-7c5e-4d37-9c7a-fdb91777c7f9",
   "metadata": {
    "execution": {
     "iopub.execute_input": "2022-06-18T11:50:25.734427Z",
     "iopub.status.busy": "2022-06-18T11:50:25.732637Z",
     "iopub.status.idle": "2022-06-18T11:50:29.269262Z",
     "shell.execute_reply": "2022-06-18T11:50:29.268089Z"
    },
    "papermill": {
     "duration": 3.569696,
     "end_time": "2022-06-18T11:50:29.270866",
     "exception": false,
     "start_time": "2022-06-18T11:50:25.701170",
     "status": "completed"
    },
    "tags": []
   },
   "outputs": [],
   "source": [
    "library(reticulate)\n",
    "pd <- import(\"pandas\")"
   ]
  },
  {
   "cell_type": "markdown",
   "id": "c1958d6a-0229-47e8-823e-792fcf84fccf",
   "metadata": {
    "papermill": {
     "duration": 0.005282,
     "end_time": "2022-06-18T11:50:29.281360",
     "exception": false,
     "start_time": "2022-06-18T11:50:29.276078",
     "status": "completed"
    },
    "tags": []
   },
   "source": [
    "# Settings"
   ]
  },
  {
   "cell_type": "code",
   "execution_count": 2,
   "id": "22d12bb4-1699-4a6b-b1b9-d3fdd3d547d7",
   "metadata": {
    "execution": {
     "iopub.execute_input": "2022-06-18T11:50:29.312216Z",
     "iopub.status.busy": "2022-06-18T11:50:29.291727Z",
     "iopub.status.idle": "2022-06-18T11:50:29.323444Z",
     "shell.execute_reply": "2022-06-18T11:50:29.322339Z"
    },
    "papermill": {
     "duration": 0.038645,
     "end_time": "2022-06-18T11:50:29.325092",
     "exception": false,
     "start_time": "2022-06-18T11:50:29.286447",
     "status": "completed"
    },
    "tags": [
     "parameters"
    ]
   },
   "outputs": [],
   "source": [
    "# reference panel\n",
    "REFERENCE_PANEL <- \"GTEX_V8\"\n",
    "# REFERENCE_PANEL = \"1000G\"\n",
    "\n",
    "# prediction models\n",
    "## mashr\n",
    "EQTL_MODEL <- \"MASHR\"\n",
    "\n",
    "# ## elastic net\n",
    "# EQTL_MODEL = \"ELASTIC_NET\"\n",
    "\n",
    "chromosome <- NULL"
   ]
  },
  {
   "cell_type": "code",
   "execution_count": 3,
   "id": "9cb24b95",
   "metadata": {
    "execution": {
     "iopub.execute_input": "2022-06-18T11:50:29.336050Z",
     "iopub.status.busy": "2022-06-18T11:50:29.335039Z",
     "iopub.status.idle": "2022-06-18T11:50:29.351840Z",
     "shell.execute_reply": "2022-06-18T11:50:29.350672Z"
    },
    "papermill": {
     "duration": 0.02389,
     "end_time": "2022-06-18T11:50:29.353530",
     "exception": false,
     "start_time": "2022-06-18T11:50:29.329640",
     "status": "completed"
    },
    "tags": [
     "injected-parameters"
    ]
   },
   "outputs": [],
   "source": [
    "# Parameters\n",
    "chromosome = 15\n",
    "REFERENCE_PANEL = \"GTEX_V8\"\n",
    "EQTL_MODEL = \"MASHR\"\n"
   ]
  },
  {
   "cell_type": "code",
   "execution_count": 4,
   "id": "8fe24bef",
   "metadata": {
    "execution": {
     "iopub.execute_input": "2022-06-18T11:50:29.365211Z",
     "iopub.status.busy": "2022-06-18T11:50:29.364215Z",
     "iopub.status.idle": "2022-06-18T11:50:29.376650Z",
     "shell.execute_reply": "2022-06-18T11:50:29.375442Z"
    },
    "papermill": {
     "duration": 0.020012,
     "end_time": "2022-06-18T11:50:29.378432",
     "exception": false,
     "start_time": "2022-06-18T11:50:29.358420",
     "status": "completed"
    },
    "tags": []
   },
   "outputs": [
    {
     "data": {
      "text/html": [
       "'Using reference panel: GTEX_V8'"
      ],
      "text/latex": [
       "'Using reference panel: GTEX\\_V8'"
      ],
      "text/markdown": [
       "'Using reference panel: GTEX_V8'"
      ],
      "text/plain": [
       "[1] \"Using reference panel: GTEX_V8\""
      ]
     },
     "metadata": {},
     "output_type": "display_data"
    }
   ],
   "source": [
    "paste0(\"Using reference panel: \", REFERENCE_PANEL)"
   ]
  },
  {
   "cell_type": "code",
   "execution_count": 5,
   "id": "d62c28f8-186c-478b-948c-58e14f00df4b",
   "metadata": {
    "execution": {
     "iopub.execute_input": "2022-06-18T11:50:29.398723Z",
     "iopub.status.busy": "2022-06-18T11:50:29.389288Z",
     "iopub.status.idle": "2022-06-18T11:50:29.417599Z",
     "shell.execute_reply": "2022-06-18T11:50:29.416071Z"
    },
    "papermill": {
     "duration": 0.036805,
     "end_time": "2022-06-18T11:50:29.420254",
     "exception": false,
     "start_time": "2022-06-18T11:50:29.383449",
     "status": "completed"
    },
    "tags": []
   },
   "outputs": [
    {
     "data": {
      "text/html": [
       "'Using eQTL model: MASHR'"
      ],
      "text/latex": [
       "'Using eQTL model: MASHR'"
      ],
      "text/markdown": [
       "'Using eQTL model: MASHR'"
      ],
      "text/plain": [
       "[1] \"Using eQTL model: MASHR\""
      ]
     },
     "metadata": {},
     "output_type": "display_data"
    }
   ],
   "source": [
    "paste0(\"Using eQTL model: \", EQTL_MODEL)"
   ]
  },
  {
   "cell_type": "code",
   "execution_count": 6,
   "id": "5243676f-c889-4405-9a4d-262f0f044614",
   "metadata": {
    "execution": {
     "iopub.execute_input": "2022-06-18T11:50:29.434804Z",
     "iopub.status.busy": "2022-06-18T11:50:29.432770Z",
     "iopub.status.idle": "2022-06-18T11:50:29.444127Z",
     "shell.execute_reply": "2022-06-18T11:50:29.442776Z"
    },
    "papermill": {
     "duration": 0.019982,
     "end_time": "2022-06-18T11:50:29.446055",
     "exception": false,
     "start_time": "2022-06-18T11:50:29.426073",
     "status": "completed"
    },
    "tags": []
   },
   "outputs": [],
   "source": [
    "# chromosome must be provided as parameter\n",
    "stopifnot(!is.null(chromosome))"
   ]
  },
  {
   "cell_type": "markdown",
   "id": "83a49773-bcf5-44c4-8d9b-a6ac65a57ec6",
   "metadata": {
    "papermill": {
     "duration": 0.005577,
     "end_time": "2022-06-18T11:50:29.457798",
     "exception": false,
     "start_time": "2022-06-18T11:50:29.452221",
     "status": "completed"
    },
    "tags": []
   },
   "source": [
    "# Paths"
   ]
  },
  {
   "cell_type": "code",
   "execution_count": 7,
   "id": "eb6aa8aa-b452-4a2f-a780-93dd80ad4285",
   "metadata": {
    "execution": {
     "iopub.execute_input": "2022-06-18T11:50:29.471380Z",
     "iopub.status.busy": "2022-06-18T11:50:29.470150Z",
     "iopub.status.idle": "2022-06-18T11:50:29.484369Z",
     "shell.execute_reply": "2022-06-18T11:50:29.483046Z"
    },
    "papermill": {
     "duration": 0.022706,
     "end_time": "2022-06-18T11:50:29.486209",
     "exception": false,
     "start_time": "2022-06-18T11:50:29.463503",
     "status": "completed"
    },
    "tags": []
   },
   "outputs": [
    {
     "data": {
      "text/html": [
       "'/opt/data/data/phenomexcan/ld_blocks/gene_corrs'"
      ],
      "text/latex": [
       "'/opt/data/data/phenomexcan/ld\\_blocks/gene\\_corrs'"
      ],
      "text/markdown": [
       "'/opt/data/data/phenomexcan/ld_blocks/gene_corrs'"
      ],
      "text/plain": [
       "[1] \"/opt/data/data/phenomexcan/ld_blocks/gene_corrs\""
      ]
     },
     "metadata": {},
     "output_type": "display_data"
    }
   ],
   "source": [
    "GENE_CORRS_DIR <- Sys.getenv(\"PHENOPLIER_PHENOMEXCAN_LD_BLOCKS_GENE_CORRS_DIR\")\n",
    "IRdisplay::display(GENE_CORRS_DIR)"
   ]
  },
  {
   "cell_type": "code",
   "execution_count": 8,
   "id": "eb24f15f-f282-4476-8943-8413c4483f12",
   "metadata": {
    "execution": {
     "iopub.execute_input": "2022-06-18T11:50:29.499825Z",
     "iopub.status.busy": "2022-06-18T11:50:29.498683Z",
     "iopub.status.idle": "2022-06-18T11:50:29.512150Z",
     "shell.execute_reply": "2022-06-18T11:50:29.510835Z"
    },
    "papermill": {
     "duration": 0.021951,
     "end_time": "2022-06-18T11:50:29.513975",
     "exception": false,
     "start_time": "2022-06-18T11:50:29.492024",
     "status": "completed"
    },
    "tags": []
   },
   "outputs": [
    {
     "data": {
      "text/html": [
       "'/opt/data/data/phenomexcan/ld_blocks/gene_corrs/gtex_v8/mashr/by_chr'"
      ],
      "text/latex": [
       "'/opt/data/data/phenomexcan/ld\\_blocks/gene\\_corrs/gtex\\_v8/mashr/by\\_chr'"
      ],
      "text/markdown": [
       "'/opt/data/data/phenomexcan/ld_blocks/gene_corrs/gtex_v8/mashr/by_chr'"
      ],
      "text/plain": [
       "[1] \"/opt/data/data/phenomexcan/ld_blocks/gene_corrs/gtex_v8/mashr/by_chr\""
      ]
     },
     "metadata": {},
     "output_type": "display_data"
    }
   ],
   "source": [
    "INPUT_DIR <- file.path(GENE_CORRS_DIR, tolower(REFERENCE_PANEL), tolower(EQTL_MODEL), \"by_chr\")\n",
    "IRdisplay::display(INPUT_DIR)"
   ]
  },
  {
   "cell_type": "code",
   "execution_count": 9,
   "id": "43c1daba-0da9-4822-8d1e-968e9767e251",
   "metadata": {
    "execution": {
     "iopub.execute_input": "2022-06-18T11:50:29.527856Z",
     "iopub.status.busy": "2022-06-18T11:50:29.526739Z",
     "iopub.status.idle": "2022-06-18T11:50:29.541699Z",
     "shell.execute_reply": "2022-06-18T11:50:29.540385Z"
    },
    "papermill": {
     "duration": 0.023671,
     "end_time": "2022-06-18T11:50:29.543472",
     "exception": false,
     "start_time": "2022-06-18T11:50:29.519801",
     "status": "completed"
    },
    "tags": []
   },
   "outputs": [
    {
     "data": {
      "text/html": [
       "'/opt/data/data/phenomexcan/ld_blocks/gene_corrs/gtex_v8/mashr/by_chr/gene_corrs-chr15.pkl'"
      ],
      "text/latex": [
       "'/opt/data/data/phenomexcan/ld\\_blocks/gene\\_corrs/gtex\\_v8/mashr/by\\_chr/gene\\_corrs-chr15.pkl'"
      ],
      "text/markdown": [
       "'/opt/data/data/phenomexcan/ld_blocks/gene_corrs/gtex_v8/mashr/by_chr/gene_corrs-chr15.pkl'"
      ],
      "text/plain": [
       "[1] \"/opt/data/data/phenomexcan/ld_blocks/gene_corrs/gtex_v8/mashr/by_chr/gene_corrs-chr15.pkl\""
      ]
     },
     "metadata": {},
     "output_type": "display_data"
    }
   ],
   "source": [
    "INPUT_FILE <- file.path(INPUT_DIR, paste0(\"gene_corrs-chr\", chromosome, \".pkl\"))\n",
    "IRdisplay::display(INPUT_FILE)\n",
    "stopifnot(file.exists(INPUT_FILE))"
   ]
  },
  {
   "cell_type": "code",
   "execution_count": 10,
   "id": "72386fbf-982b-420a-9057-ea9a97a5e571",
   "metadata": {
    "execution": {
     "iopub.execute_input": "2022-06-18T11:50:29.557702Z",
     "iopub.status.busy": "2022-06-18T11:50:29.555917Z",
     "iopub.status.idle": "2022-06-18T11:50:29.572000Z",
     "shell.execute_reply": "2022-06-18T11:50:29.570747Z"
    },
    "papermill": {
     "duration": 0.024557,
     "end_time": "2022-06-18T11:50:29.573834",
     "exception": false,
     "start_time": "2022-06-18T11:50:29.549277",
     "status": "completed"
    },
    "tags": []
   },
   "outputs": [
    {
     "data": {
      "text/html": [
       "'/opt/data/data/phenomexcan/ld_blocks/gene_corrs/gtex_v8/mashr/by_chr/corrected_positive_definite'"
      ],
      "text/latex": [
       "'/opt/data/data/phenomexcan/ld\\_blocks/gene\\_corrs/gtex\\_v8/mashr/by\\_chr/corrected\\_positive\\_definite'"
      ],
      "text/markdown": [
       "'/opt/data/data/phenomexcan/ld_blocks/gene_corrs/gtex_v8/mashr/by_chr/corrected_positive_definite'"
      ],
      "text/plain": [
       "[1] \"/opt/data/data/phenomexcan/ld_blocks/gene_corrs/gtex_v8/mashr/by_chr/corrected_positive_definite\""
      ]
     },
     "metadata": {},
     "output_type": "display_data"
    }
   ],
   "source": [
    "OUTPUT_DIR <- file.path(INPUT_DIR, \"corrected_positive_definite\")\n",
    "IRdisplay::display(OUTPUT_DIR)\n",
    "dir.create(OUTPUT_DIR, recursive = TRUE, showWarnings = FALSE)"
   ]
  },
  {
   "cell_type": "code",
   "execution_count": 11,
   "id": "f9f19d1d-ce4c-4099-a26e-250fec751de7",
   "metadata": {
    "execution": {
     "iopub.execute_input": "2022-06-18T11:50:29.588146Z",
     "iopub.status.busy": "2022-06-18T11:50:29.587015Z",
     "iopub.status.idle": "2022-06-18T11:50:29.607411Z",
     "shell.execute_reply": "2022-06-18T11:50:29.602987Z"
    },
    "papermill": {
     "duration": 0.029467,
     "end_time": "2022-06-18T11:50:29.609375",
     "exception": false,
     "start_time": "2022-06-18T11:50:29.579908",
     "status": "completed"
    },
    "tags": []
   },
   "outputs": [
    {
     "data": {
      "text/html": [
       "'/opt/data/data/phenomexcan/ld_blocks/gene_corrs/gtex_v8/mashr/by_chr/corrected_positive_definite/gene_corrs-chr15.pkl'"
      ],
      "text/latex": [
       "'/opt/data/data/phenomexcan/ld\\_blocks/gene\\_corrs/gtex\\_v8/mashr/by\\_chr/corrected\\_positive\\_definite/gene\\_corrs-chr15.pkl'"
      ],
      "text/markdown": [
       "'/opt/data/data/phenomexcan/ld_blocks/gene_corrs/gtex_v8/mashr/by_chr/corrected_positive_definite/gene_corrs-chr15.pkl'"
      ],
      "text/plain": [
       "[1] \"/opt/data/data/phenomexcan/ld_blocks/gene_corrs/gtex_v8/mashr/by_chr/corrected_positive_definite/gene_corrs-chr15.pkl\""
      ]
     },
     "metadata": {},
     "output_type": "display_data"
    },
    {
     "data": {
      "text/html": [
       "'Output file exists, it will be overwritten'"
      ],
      "text/latex": [
       "'Output file exists, it will be overwritten'"
      ],
      "text/markdown": [
       "'Output file exists, it will be overwritten'"
      ],
      "text/plain": [
       "[1] \"Output file exists, it will be overwritten\""
      ]
     },
     "metadata": {},
     "output_type": "display_data"
    }
   ],
   "source": [
    "OUTPUT_FILE <- file.path(OUTPUT_DIR, paste0(\"gene_corrs-chr\", chromosome, \".pkl\"))\n",
    "IRdisplay::display(OUTPUT_FILE)\n",
    "if (file.exists(OUTPUT_FILE)) {\n",
    "  IRdisplay::display(\"Output file exists, it will be overwritten\")\n",
    "}"
   ]
  },
  {
   "cell_type": "markdown",
   "id": "5aad60e6-cba4-41b5-9755-93eb86f4ed05",
   "metadata": {
    "papermill": {
     "duration": 0.005999,
     "end_time": "2022-06-18T11:50:29.621698",
     "exception": false,
     "start_time": "2022-06-18T11:50:29.615699",
     "status": "completed"
    },
    "tags": []
   },
   "source": [
    "# Functions"
   ]
  },
  {
   "cell_type": "code",
   "execution_count": 12,
   "id": "f828f081-7358-4cc8-8a89-1ee293bcc1a7",
   "metadata": {
    "execution": {
     "iopub.execute_input": "2022-06-18T11:50:29.635264Z",
     "iopub.status.busy": "2022-06-18T11:50:29.634256Z",
     "iopub.status.idle": "2022-06-18T11:50:29.643657Z",
     "shell.execute_reply": "2022-06-18T11:50:29.642483Z"
    },
    "papermill": {
     "duration": 0.017788,
     "end_time": "2022-06-18T11:50:29.645329",
     "exception": false,
     "start_time": "2022-06-18T11:50:29.627541",
     "status": "completed"
    },
    "tags": []
   },
   "outputs": [],
   "source": [
    "# taken from https://www.r-bloggers.com/2013/08/correcting-a-pseudo-correlation-matrix-to-be-positive-semidefinite/\n",
    "# TODO: add documentation\n",
    "CorrectCM <- function(CM, p = 0) {\n",
    "  n <- dim(var(CM))[1L]\n",
    "  E <- eigen(CM)\n",
    "  CM1 <- E$vectors %*% tcrossprod(diag(pmax(E$values, p), n), E$vectors)\n",
    "  Balance <- diag(1 / sqrt(diag(CM1)))\n",
    "  CM2 <- Balance %*% CM1 %*% Balance\n",
    "  return(CM2)\n",
    "}"
   ]
  },
  {
   "cell_type": "code",
   "execution_count": 13,
   "id": "7ab9bebf-50a1-4e6f-b16a-e23cae93d02a",
   "metadata": {
    "execution": {
     "iopub.execute_input": "2022-06-18T11:50:29.658932Z",
     "iopub.status.busy": "2022-06-18T11:50:29.657936Z",
     "iopub.status.idle": "2022-06-18T11:50:29.666807Z",
     "shell.execute_reply": "2022-06-18T11:50:29.665600Z"
    },
    "papermill": {
     "duration": 0.017443,
     "end_time": "2022-06-18T11:50:29.668648",
     "exception": false,
     "start_time": "2022-06-18T11:50:29.651205",
     "status": "completed"
    },
    "tags": []
   },
   "outputs": [],
   "source": [
    "is_positive_definite <- function(data) {\n",
    "  eigenvalues <- eigen(data)$values\n",
    "  nonpositive_eigenvalues <- eigenvalues[eigenvalues <= 0]\n",
    "\n",
    "  if (length(nonpositive_eigenvalues) > 0) {\n",
    "    IRdisplay::display(\"We need to correct the data and make the matrix positive definite\")\n",
    "    return(FALSE)\n",
    "  } else {\n",
    "    IRdisplay::display(\"Matrix is already positive definite!\")\n",
    "    return(TRUE)\n",
    "  }\n",
    "}"
   ]
  },
  {
   "cell_type": "markdown",
   "id": "ac52ecbc-5618-4876-a4fa-546a08e3fcf3",
   "metadata": {
    "papermill": {
     "duration": 0.005945,
     "end_time": "2022-06-18T11:50:29.680569",
     "exception": false,
     "start_time": "2022-06-18T11:50:29.674624",
     "status": "completed"
    },
    "tags": []
   },
   "source": [
    "# Load data"
   ]
  },
  {
   "cell_type": "code",
   "execution_count": 14,
   "id": "3a7744e1-2e5a-450e-9dcf-945ec181347d",
   "metadata": {
    "execution": {
     "iopub.execute_input": "2022-06-18T11:50:29.694032Z",
     "iopub.status.busy": "2022-06-18T11:50:29.692971Z",
     "iopub.status.idle": "2022-06-18T11:50:29.728501Z",
     "shell.execute_reply": "2022-06-18T11:50:29.727190Z"
    },
    "papermill": {
     "duration": 0.04391,
     "end_time": "2022-06-18T11:50:29.730299",
     "exception": false,
     "start_time": "2022-06-18T11:50:29.686389",
     "status": "completed"
    },
    "tags": []
   },
   "outputs": [],
   "source": [
    "gene_corrs <- pd$read_pickle(INPUT_FILE)"
   ]
  },
  {
   "cell_type": "code",
   "execution_count": 15,
   "id": "6fb150b2-4c68-4e9b-9aa5-1890d3f762e3",
   "metadata": {
    "execution": {
     "iopub.execute_input": "2022-06-18T11:50:29.746690Z",
     "iopub.status.busy": "2022-06-18T11:50:29.744248Z",
     "iopub.status.idle": "2022-06-18T11:50:29.761106Z",
     "shell.execute_reply": "2022-06-18T11:50:29.758966Z"
    },
    "papermill": {
     "duration": 0.026301,
     "end_time": "2022-06-18T11:50:29.762870",
     "exception": false,
     "start_time": "2022-06-18T11:50:29.736569",
     "status": "completed"
    },
    "tags": []
   },
   "outputs": [
    {
     "data": {
      "text/html": [
       "<style>\n",
       ".list-inline {list-style: none; margin:0; padding: 0}\n",
       ".list-inline>li {display: inline-block}\n",
       ".list-inline>li:not(:last-child)::after {content: \"\\00b7\"; padding: 0 .5ex}\n",
       "</style>\n",
       "<ol class=list-inline><li>187</li><li>187</li></ol>\n"
      ],
      "text/latex": [
       "\\begin{enumerate*}\n",
       "\\item 187\n",
       "\\item 187\n",
       "\\end{enumerate*}\n"
      ],
      "text/markdown": [
       "1. 187\n",
       "2. 187\n",
       "\n",
       "\n"
      ],
      "text/plain": [
       "[1] 187 187"
      ]
     },
     "metadata": {},
     "output_type": "display_data"
    }
   ],
   "source": [
    "dim(gene_corrs)"
   ]
  },
  {
   "cell_type": "code",
   "execution_count": 16,
   "id": "0d4e53b5-7586-4a68-8ce5-d930d74ba943",
   "metadata": {
    "execution": {
     "iopub.execute_input": "2022-06-18T11:50:29.777591Z",
     "iopub.status.busy": "2022-06-18T11:50:29.776535Z",
     "iopub.status.idle": "2022-06-18T11:50:29.800006Z",
     "shell.execute_reply": "2022-06-18T11:50:29.798086Z"
    },
    "papermill": {
     "duration": 0.032238,
     "end_time": "2022-06-18T11:50:29.801705",
     "exception": false,
     "start_time": "2022-06-18T11:50:29.769467",
     "status": "completed"
    },
    "tags": []
   },
   "outputs": [
    {
     "data": {
      "text/html": [
       "<table class=\"dataframe\">\n",
       "<caption>A data.frame: 6 × 10</caption>\n",
       "<thead>\n",
       "\t<tr><th></th><th scope=col>ENSG00000273749</th><th scope=col>ENSG00000275835</th><th scope=col>ENSG00000182636</th><th scope=col>ENSG00000273173</th><th scope=col>ENSG00000114062</th><th scope=col>ENSG00000206190</th><th scope=col>ENSG00000128731</th><th scope=col>ENSG00000034053</th><th scope=col>ENSG00000198690</th><th scope=col>ENSG00000166912</th></tr>\n",
       "\t<tr><th></th><th scope=col>&lt;dbl&gt;</th><th scope=col>&lt;dbl&gt;</th><th scope=col>&lt;dbl&gt;</th><th scope=col>&lt;dbl&gt;</th><th scope=col>&lt;dbl&gt;</th><th scope=col>&lt;dbl&gt;</th><th scope=col>&lt;dbl&gt;</th><th scope=col>&lt;dbl&gt;</th><th scope=col>&lt;dbl&gt;</th><th scope=col>&lt;dbl&gt;</th></tr>\n",
       "</thead>\n",
       "<tbody>\n",
       "\t<tr><th scope=row>ENSG00000273749</th><td> 1.00000000</td><td> 0.03680559</td><td>-0.04001166</td><td>-0.13993255</td><td> 0.06297798</td><td>-0.03815576</td><td> 0.00000000</td><td> 0.000000000</td><td>0</td><td>0</td></tr>\n",
       "\t<tr><th scope=row>ENSG00000275835</th><td> 0.03680559</td><td> 1.00000000</td><td>-0.03581534</td><td> 0.07465613</td><td>-0.08560826</td><td> 0.09801586</td><td> 0.00000000</td><td> 0.000000000</td><td>0</td><td>0</td></tr>\n",
       "\t<tr><th scope=row>ENSG00000182636</th><td>-0.04001166</td><td>-0.03581534</td><td> 1.00000000</td><td>-0.04575868</td><td>-0.03163355</td><td> 0.14242280</td><td>-0.22863755</td><td> 0.000000000</td><td>0</td><td>0</td></tr>\n",
       "\t<tr><th scope=row>ENSG00000273173</th><td>-0.13993255</td><td> 0.07465613</td><td>-0.04575868</td><td> 1.00000000</td><td>-0.08559488</td><td>-0.10763051</td><td>-0.22807048</td><td> 0.005408455</td><td>0</td><td>0</td></tr>\n",
       "\t<tr><th scope=row>ENSG00000114062</th><td> 0.06297798</td><td>-0.08560826</td><td>-0.03163355</td><td>-0.08559488</td><td> 1.00000000</td><td>-0.02026163</td><td> 0.12739123</td><td> 0.111127754</td><td>0</td><td>0</td></tr>\n",
       "\t<tr><th scope=row>ENSG00000206190</th><td>-0.03815576</td><td> 0.09801586</td><td> 0.14242280</td><td>-0.10763051</td><td>-0.02026163</td><td> 1.00000000</td><td> 0.02920624</td><td>-0.111239262</td><td>0</td><td>0</td></tr>\n",
       "</tbody>\n",
       "</table>\n"
      ],
      "text/latex": [
       "A data.frame: 6 × 10\n",
       "\\begin{tabular}{r|llllllllll}\n",
       "  & ENSG00000273749 & ENSG00000275835 & ENSG00000182636 & ENSG00000273173 & ENSG00000114062 & ENSG00000206190 & ENSG00000128731 & ENSG00000034053 & ENSG00000198690 & ENSG00000166912\\\\\n",
       "  & <dbl> & <dbl> & <dbl> & <dbl> & <dbl> & <dbl> & <dbl> & <dbl> & <dbl> & <dbl>\\\\\n",
       "\\hline\n",
       "\tENSG00000273749 &  1.00000000 &  0.03680559 & -0.04001166 & -0.13993255 &  0.06297798 & -0.03815576 &  0.00000000 &  0.000000000 & 0 & 0\\\\\n",
       "\tENSG00000275835 &  0.03680559 &  1.00000000 & -0.03581534 &  0.07465613 & -0.08560826 &  0.09801586 &  0.00000000 &  0.000000000 & 0 & 0\\\\\n",
       "\tENSG00000182636 & -0.04001166 & -0.03581534 &  1.00000000 & -0.04575868 & -0.03163355 &  0.14242280 & -0.22863755 &  0.000000000 & 0 & 0\\\\\n",
       "\tENSG00000273173 & -0.13993255 &  0.07465613 & -0.04575868 &  1.00000000 & -0.08559488 & -0.10763051 & -0.22807048 &  0.005408455 & 0 & 0\\\\\n",
       "\tENSG00000114062 &  0.06297798 & -0.08560826 & -0.03163355 & -0.08559488 &  1.00000000 & -0.02026163 &  0.12739123 &  0.111127754 & 0 & 0\\\\\n",
       "\tENSG00000206190 & -0.03815576 &  0.09801586 &  0.14242280 & -0.10763051 & -0.02026163 &  1.00000000 &  0.02920624 & -0.111239262 & 0 & 0\\\\\n",
       "\\end{tabular}\n"
      ],
      "text/markdown": [
       "\n",
       "A data.frame: 6 × 10\n",
       "\n",
       "| <!--/--> | ENSG00000273749 &lt;dbl&gt; | ENSG00000275835 &lt;dbl&gt; | ENSG00000182636 &lt;dbl&gt; | ENSG00000273173 &lt;dbl&gt; | ENSG00000114062 &lt;dbl&gt; | ENSG00000206190 &lt;dbl&gt; | ENSG00000128731 &lt;dbl&gt; | ENSG00000034053 &lt;dbl&gt; | ENSG00000198690 &lt;dbl&gt; | ENSG00000166912 &lt;dbl&gt; |\n",
       "|---|---|---|---|---|---|---|---|---|---|---|\n",
       "| ENSG00000273749 |  1.00000000 |  0.03680559 | -0.04001166 | -0.13993255 |  0.06297798 | -0.03815576 |  0.00000000 |  0.000000000 | 0 | 0 |\n",
       "| ENSG00000275835 |  0.03680559 |  1.00000000 | -0.03581534 |  0.07465613 | -0.08560826 |  0.09801586 |  0.00000000 |  0.000000000 | 0 | 0 |\n",
       "| ENSG00000182636 | -0.04001166 | -0.03581534 |  1.00000000 | -0.04575868 | -0.03163355 |  0.14242280 | -0.22863755 |  0.000000000 | 0 | 0 |\n",
       "| ENSG00000273173 | -0.13993255 |  0.07465613 | -0.04575868 |  1.00000000 | -0.08559488 | -0.10763051 | -0.22807048 |  0.005408455 | 0 | 0 |\n",
       "| ENSG00000114062 |  0.06297798 | -0.08560826 | -0.03163355 | -0.08559488 |  1.00000000 | -0.02026163 |  0.12739123 |  0.111127754 | 0 | 0 |\n",
       "| ENSG00000206190 | -0.03815576 |  0.09801586 |  0.14242280 | -0.10763051 | -0.02026163 |  1.00000000 |  0.02920624 | -0.111239262 | 0 | 0 |\n",
       "\n"
      ],
      "text/plain": [
       "                ENSG00000273749 ENSG00000275835 ENSG00000182636 ENSG00000273173\n",
       "ENSG00000273749  1.00000000      0.03680559     -0.04001166     -0.13993255    \n",
       "ENSG00000275835  0.03680559      1.00000000     -0.03581534      0.07465613    \n",
       "ENSG00000182636 -0.04001166     -0.03581534      1.00000000     -0.04575868    \n",
       "ENSG00000273173 -0.13993255      0.07465613     -0.04575868      1.00000000    \n",
       "ENSG00000114062  0.06297798     -0.08560826     -0.03163355     -0.08559488    \n",
       "ENSG00000206190 -0.03815576      0.09801586      0.14242280     -0.10763051    \n",
       "                ENSG00000114062 ENSG00000206190 ENSG00000128731 ENSG00000034053\n",
       "ENSG00000273749  0.06297798     -0.03815576      0.00000000      0.000000000   \n",
       "ENSG00000275835 -0.08560826      0.09801586      0.00000000      0.000000000   \n",
       "ENSG00000182636 -0.03163355      0.14242280     -0.22863755      0.000000000   \n",
       "ENSG00000273173 -0.08559488     -0.10763051     -0.22807048      0.005408455   \n",
       "ENSG00000114062  1.00000000     -0.02026163      0.12739123      0.111127754   \n",
       "ENSG00000206190 -0.02026163      1.00000000      0.02920624     -0.111239262   \n",
       "                ENSG00000198690 ENSG00000166912\n",
       "ENSG00000273749 0               0              \n",
       "ENSG00000275835 0               0              \n",
       "ENSG00000182636 0               0              \n",
       "ENSG00000273173 0               0              \n",
       "ENSG00000114062 0               0              \n",
       "ENSG00000206190 0               0              "
      ]
     },
     "metadata": {},
     "output_type": "display_data"
    }
   ],
   "source": [
    "head(gene_corrs[1:10, 1:10])"
   ]
  },
  {
   "cell_type": "markdown",
   "id": "c5c9ffba-1678-4ce7-8988-4ee03e23bdf2",
   "metadata": {
    "papermill": {
     "duration": 0.005623,
     "end_time": "2022-06-18T11:50:29.813220",
     "exception": false,
     "start_time": "2022-06-18T11:50:29.807597",
     "status": "completed"
    },
    "tags": []
   },
   "source": [
    "# Check positive definiteness"
   ]
  },
  {
   "cell_type": "code",
   "execution_count": 17,
   "id": "178854f5-487a-42e8-82b4-625c1979734a",
   "metadata": {
    "execution": {
     "iopub.execute_input": "2022-06-18T11:50:29.826301Z",
     "iopub.status.busy": "2022-06-18T11:50:29.825322Z",
     "iopub.status.idle": "2022-06-18T11:50:29.855601Z",
     "shell.execute_reply": "2022-06-18T11:50:29.853752Z"
    },
    "papermill": {
     "duration": 0.038248,
     "end_time": "2022-06-18T11:50:29.857154",
     "exception": false,
     "start_time": "2022-06-18T11:50:29.818906",
     "status": "completed"
    },
    "tags": []
   },
   "outputs": [
    {
     "data": {
      "text/html": [
       "'We need to correct the data and make the matrix positive definite'"
      ],
      "text/latex": [
       "'We need to correct the data and make the matrix positive definite'"
      ],
      "text/markdown": [
       "'We need to correct the data and make the matrix positive definite'"
      ],
      "text/plain": [
       "[1] \"We need to correct the data and make the matrix positive definite\""
      ]
     },
     "metadata": {},
     "output_type": "display_data"
    },
    {
     "data": {
      "text/html": [
       "FALSE"
      ],
      "text/latex": [
       "FALSE"
      ],
      "text/markdown": [
       "FALSE"
      ],
      "text/plain": [
       "[1] FALSE"
      ]
     },
     "metadata": {},
     "output_type": "display_data"
    }
   ],
   "source": [
    "is_positive_definite(gene_corrs)"
   ]
  },
  {
   "cell_type": "code",
   "execution_count": 18,
   "id": "58542ade-c80f-42e6-acbf-6464dab70fdb",
   "metadata": {
    "execution": {
     "iopub.execute_input": "2022-06-18T11:50:29.871040Z",
     "iopub.status.busy": "2022-06-18T11:50:29.870026Z",
     "iopub.status.idle": "2022-06-18T11:50:29.890155Z",
     "shell.execute_reply": "2022-06-18T11:50:29.888102Z"
    },
    "papermill": {
     "duration": 0.028493,
     "end_time": "2022-06-18T11:50:29.891832",
     "exception": false,
     "start_time": "2022-06-18T11:50:29.863339",
     "status": "completed"
    },
    "tags": []
   },
   "outputs": [],
   "source": [
    "# see eigenvalues\n",
    "eigenvalues <- eigen(gene_corrs)$values"
   ]
  },
  {
   "cell_type": "code",
   "execution_count": 19,
   "id": "9486e0db-e924-43ab-bb6c-0d997fd38f3d",
   "metadata": {
    "execution": {
     "iopub.execute_input": "2022-06-18T11:50:29.906186Z",
     "iopub.status.busy": "2022-06-18T11:50:29.905187Z",
     "iopub.status.idle": "2022-06-18T11:50:29.930810Z",
     "shell.execute_reply": "2022-06-18T11:50:29.928786Z"
    },
    "papermill": {
     "duration": 0.034162,
     "end_time": "2022-06-18T11:50:29.932498",
     "exception": false,
     "start_time": "2022-06-18T11:50:29.898336",
     "status": "completed"
    },
    "tags": []
   },
   "outputs": [
    {
     "data": {
      "text/html": [
       "12"
      ],
      "text/latex": [
       "12"
      ],
      "text/markdown": [
       "12"
      ],
      "text/plain": [
       "[1] 12"
      ]
     },
     "metadata": {},
     "output_type": "display_data"
    },
    {
     "data": {
      "text/html": [
       "<style>\n",
       ".list-inline {list-style: none; margin:0; padding: 0}\n",
       ".list-inline>li {display: inline-block}\n",
       ".list-inline>li:not(:last-child)::after {content: \"\\00b7\"; padding: 0 .5ex}\n",
       "</style>\n",
       "<ol class=list-inline><li>-0.0171090248473329</li><li>-0.114915396041242</li><li>-0.131746484872896</li><li>-0.182232947101092</li><li>-0.260355143637039</li><li>-0.283837425522365</li><li>-0.45943256910257</li><li>-0.489577821716521</li><li>-0.701246611951959</li><li>-0.898066951884469</li><li>-1.66846998426008</li><li>-1.71380992662183</li></ol>\n"
      ],
      "text/latex": [
       "\\begin{enumerate*}\n",
       "\\item -0.0171090248473329\n",
       "\\item -0.114915396041242\n",
       "\\item -0.131746484872896\n",
       "\\item -0.182232947101092\n",
       "\\item -0.260355143637039\n",
       "\\item -0.283837425522365\n",
       "\\item -0.45943256910257\n",
       "\\item -0.489577821716521\n",
       "\\item -0.701246611951959\n",
       "\\item -0.898066951884469\n",
       "\\item -1.66846998426008\n",
       "\\item -1.71380992662183\n",
       "\\end{enumerate*}\n"
      ],
      "text/markdown": [
       "1. -0.0171090248473329\n",
       "2. -0.114915396041242\n",
       "3. -0.131746484872896\n",
       "4. -0.182232947101092\n",
       "5. -0.260355143637039\n",
       "6. -0.283837425522365\n",
       "7. -0.45943256910257\n",
       "8. -0.489577821716521\n",
       "9. -0.701246611951959\n",
       "10. -0.898066951884469\n",
       "11. -1.66846998426008\n",
       "12. -1.71380992662183\n",
       "\n",
       "\n"
      ],
      "text/plain": [
       " [1] -0.01710902 -0.11491540 -0.13174648 -0.18223295 -0.26035514 -0.28383743\n",
       " [7] -0.45943257 -0.48957782 -0.70124661 -0.89806695 -1.66846998 -1.71380993"
      ]
     },
     "metadata": {},
     "output_type": "display_data"
    }
   ],
   "source": [
    "nonpositive_eigenvalues <- eigenvalues[eigenvalues <= 0]\n",
    "IRdisplay::display(length(nonpositive_eigenvalues))\n",
    "IRdisplay::display(nonpositive_eigenvalues)"
   ]
  },
  {
   "cell_type": "code",
   "execution_count": 20,
   "id": "410ee452-488f-4518-b93a-2acd608ba99c",
   "metadata": {
    "execution": {
     "iopub.execute_input": "2022-06-18T11:50:29.947992Z",
     "iopub.status.busy": "2022-06-18T11:50:29.947013Z",
     "iopub.status.idle": "2022-06-18T11:50:29.957316Z",
     "shell.execute_reply": "2022-06-18T11:50:29.955435Z"
    },
    "papermill": {
     "duration": 0.019586,
     "end_time": "2022-06-18T11:50:29.958973",
     "exception": false,
     "start_time": "2022-06-18T11:50:29.939387",
     "status": "completed"
    },
    "tags": []
   },
   "outputs": [],
   "source": [
    "if (length(eigenvalues[eigenvalues <= 0]) == 0) { quit() }"
   ]
  },
  {
   "cell_type": "markdown",
   "id": "2d280a82-f231-402d-82ab-9291d395afc1",
   "metadata": {
    "papermill": {
     "duration": 0.005882,
     "end_time": "2022-06-18T11:50:29.971252",
     "exception": false,
     "start_time": "2022-06-18T11:50:29.965370",
     "status": "completed"
    },
    "tags": []
   },
   "source": [
    "# Make matrix positive definite if needed"
   ]
  },
  {
   "cell_type": "code",
   "execution_count": 21,
   "id": "b9037873-4067-4ac6-aa92-e9225a6c9353",
   "metadata": {
    "execution": {
     "iopub.execute_input": "2022-06-18T11:50:29.985913Z",
     "iopub.status.busy": "2022-06-18T11:50:29.984924Z",
     "iopub.status.idle": "2022-06-18T11:50:30.012269Z",
     "shell.execute_reply": "2022-06-18T11:50:30.011131Z"
    },
    "papermill": {
     "duration": 0.03611,
     "end_time": "2022-06-18T11:50:30.013799",
     "exception": false,
     "start_time": "2022-06-18T11:50:29.977689",
     "status": "completed"
    },
    "tags": []
   },
   "outputs": [],
   "source": [
    "gene_corrs_corrected <- CorrectCM(gene_corrs, 1)"
   ]
  },
  {
   "cell_type": "code",
   "execution_count": 22,
   "id": "03c86284-5aac-4f66-86cc-74eb97102a7e",
   "metadata": {
    "execution": {
     "iopub.execute_input": "2022-06-18T11:50:30.037699Z",
     "iopub.status.busy": "2022-06-18T11:50:30.036648Z",
     "iopub.status.idle": "2022-06-18T11:50:30.051334Z",
     "shell.execute_reply": "2022-06-18T11:50:30.048247Z"
    },
    "papermill": {
     "duration": 0.028662,
     "end_time": "2022-06-18T11:50:30.052982",
     "exception": false,
     "start_time": "2022-06-18T11:50:30.024320",
     "status": "completed"
    },
    "tags": []
   },
   "outputs": [],
   "source": [
    "dimnames(gene_corrs_corrected)[[1]] <- rownames(gene_corrs)"
   ]
  },
  {
   "cell_type": "code",
   "execution_count": 23,
   "id": "576e7069-25ff-473d-8158-35b5f2ff212e",
   "metadata": {
    "execution": {
     "iopub.execute_input": "2022-06-18T11:50:30.078512Z",
     "iopub.status.busy": "2022-06-18T11:50:30.077402Z",
     "iopub.status.idle": "2022-06-18T11:50:30.087519Z",
     "shell.execute_reply": "2022-06-18T11:50:30.086294Z"
    },
    "papermill": {
     "duration": 0.025945,
     "end_time": "2022-06-18T11:50:30.089012",
     "exception": false,
     "start_time": "2022-06-18T11:50:30.063067",
     "status": "completed"
    },
    "tags": []
   },
   "outputs": [],
   "source": [
    "dimnames(gene_corrs_corrected)[[2]] <- colnames(gene_corrs)"
   ]
  },
  {
   "cell_type": "code",
   "execution_count": 24,
   "id": "f77d043a-321d-447f-8da5-2503981d3e73",
   "metadata": {
    "execution": {
     "iopub.execute_input": "2022-06-18T11:50:30.105668Z",
     "iopub.status.busy": "2022-06-18T11:50:30.104327Z",
     "iopub.status.idle": "2022-06-18T11:50:30.115624Z",
     "shell.execute_reply": "2022-06-18T11:50:30.114271Z"
    },
    "papermill": {
     "duration": 0.022166,
     "end_time": "2022-06-18T11:50:30.118068",
     "exception": false,
     "start_time": "2022-06-18T11:50:30.095902",
     "status": "completed"
    },
    "tags": []
   },
   "outputs": [],
   "source": [
    "gene_corrs_corrected <- as.data.frame(gene_corrs_corrected)"
   ]
  },
  {
   "cell_type": "code",
   "execution_count": 25,
   "id": "3e844024-f9a2-42a2-bbd0-695cfdbb78f5",
   "metadata": {
    "execution": {
     "iopub.execute_input": "2022-06-18T11:50:30.134866Z",
     "iopub.status.busy": "2022-06-18T11:50:30.133787Z",
     "iopub.status.idle": "2022-06-18T11:50:30.148468Z",
     "shell.execute_reply": "2022-06-18T11:50:30.146459Z"
    },
    "papermill": {
     "duration": 0.02448,
     "end_time": "2022-06-18T11:50:30.150186",
     "exception": false,
     "start_time": "2022-06-18T11:50:30.125706",
     "status": "completed"
    },
    "tags": []
   },
   "outputs": [
    {
     "data": {
      "text/html": [
       "<style>\n",
       ".list-inline {list-style: none; margin:0; padding: 0}\n",
       ".list-inline>li {display: inline-block}\n",
       ".list-inline>li:not(:last-child)::after {content: \"\\00b7\"; padding: 0 .5ex}\n",
       "</style>\n",
       "<ol class=list-inline><li>187</li><li>187</li></ol>\n"
      ],
      "text/latex": [
       "\\begin{enumerate*}\n",
       "\\item 187\n",
       "\\item 187\n",
       "\\end{enumerate*}\n"
      ],
      "text/markdown": [
       "1. 187\n",
       "2. 187\n",
       "\n",
       "\n"
      ],
      "text/plain": [
       "[1] 187 187"
      ]
     },
     "metadata": {},
     "output_type": "display_data"
    }
   ],
   "source": [
    "dim(gene_corrs_corrected)"
   ]
  },
  {
   "cell_type": "markdown",
   "id": "244b6bde-4ca8-46d1-acc7-b4c35b5d3c62",
   "metadata": {
    "papermill": {
     "duration": 0.006556,
     "end_time": "2022-06-18T11:50:30.163653",
     "exception": false,
     "start_time": "2022-06-18T11:50:30.157097",
     "status": "completed"
    },
    "tags": []
   },
   "source": [
    "# Check positive definiteness of corrected matrix"
   ]
  },
  {
   "cell_type": "code",
   "execution_count": 26,
   "id": "0fd5b688-e137-4619-910c-35130d32d600",
   "metadata": {
    "execution": {
     "iopub.execute_input": "2022-06-18T11:50:30.178844Z",
     "iopub.status.busy": "2022-06-18T11:50:30.177795Z",
     "iopub.status.idle": "2022-06-18T11:50:30.222318Z",
     "shell.execute_reply": "2022-06-18T11:50:30.218481Z"
    },
    "papermill": {
     "duration": 0.05356,
     "end_time": "2022-06-18T11:50:30.223941",
     "exception": false,
     "start_time": "2022-06-18T11:50:30.170381",
     "status": "completed"
    },
    "tags": []
   },
   "outputs": [
    {
     "data": {
      "text/html": [
       "'Matrix is already positive definite!'"
      ],
      "text/latex": [
       "'Matrix is already positive definite!'"
      ],
      "text/markdown": [
       "'Matrix is already positive definite!'"
      ],
      "text/plain": [
       "[1] \"Matrix is already positive definite!\""
      ]
     },
     "metadata": {},
     "output_type": "display_data"
    },
    {
     "data": {
      "text/html": [
       "TRUE"
      ],
      "text/latex": [
       "TRUE"
      ],
      "text/markdown": [
       "TRUE"
      ],
      "text/plain": [
       "[1] TRUE"
      ]
     },
     "metadata": {},
     "output_type": "display_data"
    }
   ],
   "source": [
    "is_positive_definite(gene_corrs_corrected)"
   ]
  },
  {
   "cell_type": "code",
   "execution_count": 27,
   "id": "06d23ab8-bebb-474c-be33-dca7e53c1717",
   "metadata": {
    "execution": {
     "iopub.execute_input": "2022-06-18T11:50:30.250147Z",
     "iopub.status.busy": "2022-06-18T11:50:30.248380Z",
     "iopub.status.idle": "2022-06-18T11:50:30.270526Z",
     "shell.execute_reply": "2022-06-18T11:50:30.268583Z"
    },
    "papermill": {
     "duration": 0.038556,
     "end_time": "2022-06-18T11:50:30.272084",
     "exception": false,
     "start_time": "2022-06-18T11:50:30.233528",
     "status": "completed"
    },
    "tags": []
   },
   "outputs": [],
   "source": [
    "# see eigenvalues\n",
    "eigenvalues <- eigen(gene_corrs_corrected)$values"
   ]
  },
  {
   "cell_type": "code",
   "execution_count": 28,
   "id": "ddf8afb8-e0e2-4b4e-876d-12bd6856c1ad",
   "metadata": {
    "execution": {
     "iopub.execute_input": "2022-06-18T11:50:30.288110Z",
     "iopub.status.busy": "2022-06-18T11:50:30.286931Z",
     "iopub.status.idle": "2022-06-18T11:50:30.311423Z",
     "shell.execute_reply": "2022-06-18T11:50:30.309351Z"
    },
    "papermill": {
     "duration": 0.034079,
     "end_time": "2022-06-18T11:50:30.313162",
     "exception": false,
     "start_time": "2022-06-18T11:50:30.279083",
     "status": "completed"
    },
    "tags": []
   },
   "outputs": [
    {
     "data": {
      "text/html": [
       "0"
      ],
      "text/latex": [
       "0"
      ],
      "text/markdown": [
       "0"
      ],
      "text/plain": [
       "[1] 0"
      ]
     },
     "metadata": {},
     "output_type": "display_data"
    },
    {
     "data": {
      "text/html": [],
      "text/latex": [],
      "text/markdown": [],
      "text/plain": [
       "numeric(0)"
      ]
     },
     "metadata": {},
     "output_type": "display_data"
    }
   ],
   "source": [
    "nonpositive_eigenvalues <- eigenvalues[eigenvalues <= 0]\n",
    "IRdisplay::display(length(nonpositive_eigenvalues))\n",
    "IRdisplay::display(nonpositive_eigenvalues)"
   ]
  },
  {
   "cell_type": "code",
   "execution_count": 29,
   "id": "712fd71a-b6ec-4a13-a956-80c99be7f585",
   "metadata": {
    "execution": {
     "iopub.execute_input": "2022-06-18T11:50:30.331218Z",
     "iopub.status.busy": "2022-06-18T11:50:30.330105Z",
     "iopub.status.idle": "2022-06-18T11:50:30.342447Z",
     "shell.execute_reply": "2022-06-18T11:50:30.340209Z"
    },
    "papermill": {
     "duration": 0.023504,
     "end_time": "2022-06-18T11:50:30.344357",
     "exception": false,
     "start_time": "2022-06-18T11:50:30.320853",
     "status": "completed"
    },
    "tags": []
   },
   "outputs": [],
   "source": [
    "stopifnot(length(eigenvalues[eigenvalues <= 0]) == 0)"
   ]
  },
  {
   "cell_type": "code",
   "execution_count": 30,
   "id": "786d6336-3844-40f7-979b-6d6028787f7f",
   "metadata": {
    "execution": {
     "iopub.execute_input": "2022-06-18T11:50:30.363108Z",
     "iopub.status.busy": "2022-06-18T11:50:30.361993Z",
     "iopub.status.idle": "2022-06-18T11:50:30.393237Z",
     "shell.execute_reply": "2022-06-18T11:50:30.391922Z"
    },
    "papermill": {
     "duration": 0.049577,
     "end_time": "2022-06-18T11:50:30.402397",
     "exception": false,
     "start_time": "2022-06-18T11:50:30.352820",
     "status": "completed"
    },
    "tags": []
   },
   "outputs": [
    {
     "data": {
      "text/html": [
       "<table class=\"dataframe\">\n",
       "<caption>A data.frame: 6 × 10</caption>\n",
       "<thead>\n",
       "\t<tr><th></th><th scope=col>ENSG00000273749</th><th scope=col>ENSG00000275835</th><th scope=col>ENSG00000182636</th><th scope=col>ENSG00000273173</th><th scope=col>ENSG00000114062</th><th scope=col>ENSG00000206190</th><th scope=col>ENSG00000128731</th><th scope=col>ENSG00000034053</th><th scope=col>ENSG00000198690</th><th scope=col>ENSG00000166912</th></tr>\n",
       "\t<tr><th></th><th scope=col>&lt;dbl&gt;</th><th scope=col>&lt;dbl&gt;</th><th scope=col>&lt;dbl&gt;</th><th scope=col>&lt;dbl&gt;</th><th scope=col>&lt;dbl&gt;</th><th scope=col>&lt;dbl&gt;</th><th scope=col>&lt;dbl&gt;</th><th scope=col>&lt;dbl&gt;</th><th scope=col>&lt;dbl&gt;</th><th scope=col>&lt;dbl&gt;</th></tr>\n",
       "</thead>\n",
       "<tbody>\n",
       "\t<tr><th scope=row>ENSG00000273749</th><td> 1.00000000</td><td> 0.03680559</td><td>-0.04001166</td><td>-0.13993255</td><td> 0.06297798</td><td>-0.03815576</td><td> 0.00000000</td><td> 0.000000000</td><td>0</td><td>0</td></tr>\n",
       "\t<tr><th scope=row>ENSG00000275835</th><td> 0.03680559</td><td> 1.00000000</td><td>-0.03581534</td><td> 0.07465613</td><td>-0.08560826</td><td> 0.09801586</td><td> 0.00000000</td><td> 0.000000000</td><td>0</td><td>0</td></tr>\n",
       "\t<tr><th scope=row>ENSG00000182636</th><td>-0.04001166</td><td>-0.03581534</td><td> 1.00000000</td><td>-0.04575868</td><td>-0.03163355</td><td> 0.14242280</td><td>-0.22863755</td><td> 0.000000000</td><td>0</td><td>0</td></tr>\n",
       "\t<tr><th scope=row>ENSG00000273173</th><td>-0.13993255</td><td> 0.07465613</td><td>-0.04575868</td><td> 1.00000000</td><td>-0.08559488</td><td>-0.10763051</td><td>-0.22807048</td><td> 0.005408455</td><td>0</td><td>0</td></tr>\n",
       "\t<tr><th scope=row>ENSG00000114062</th><td> 0.06297798</td><td>-0.08560826</td><td>-0.03163355</td><td>-0.08559488</td><td> 1.00000000</td><td>-0.02026163</td><td> 0.12739123</td><td> 0.111127754</td><td>0</td><td>0</td></tr>\n",
       "\t<tr><th scope=row>ENSG00000206190</th><td>-0.03815576</td><td> 0.09801586</td><td> 0.14242280</td><td>-0.10763051</td><td>-0.02026163</td><td> 1.00000000</td><td> 0.02920624</td><td>-0.111239262</td><td>0</td><td>0</td></tr>\n",
       "</tbody>\n",
       "</table>\n"
      ],
      "text/latex": [
       "A data.frame: 6 × 10\n",
       "\\begin{tabular}{r|llllllllll}\n",
       "  & ENSG00000273749 & ENSG00000275835 & ENSG00000182636 & ENSG00000273173 & ENSG00000114062 & ENSG00000206190 & ENSG00000128731 & ENSG00000034053 & ENSG00000198690 & ENSG00000166912\\\\\n",
       "  & <dbl> & <dbl> & <dbl> & <dbl> & <dbl> & <dbl> & <dbl> & <dbl> & <dbl> & <dbl>\\\\\n",
       "\\hline\n",
       "\tENSG00000273749 &  1.00000000 &  0.03680559 & -0.04001166 & -0.13993255 &  0.06297798 & -0.03815576 &  0.00000000 &  0.000000000 & 0 & 0\\\\\n",
       "\tENSG00000275835 &  0.03680559 &  1.00000000 & -0.03581534 &  0.07465613 & -0.08560826 &  0.09801586 &  0.00000000 &  0.000000000 & 0 & 0\\\\\n",
       "\tENSG00000182636 & -0.04001166 & -0.03581534 &  1.00000000 & -0.04575868 & -0.03163355 &  0.14242280 & -0.22863755 &  0.000000000 & 0 & 0\\\\\n",
       "\tENSG00000273173 & -0.13993255 &  0.07465613 & -0.04575868 &  1.00000000 & -0.08559488 & -0.10763051 & -0.22807048 &  0.005408455 & 0 & 0\\\\\n",
       "\tENSG00000114062 &  0.06297798 & -0.08560826 & -0.03163355 & -0.08559488 &  1.00000000 & -0.02026163 &  0.12739123 &  0.111127754 & 0 & 0\\\\\n",
       "\tENSG00000206190 & -0.03815576 &  0.09801586 &  0.14242280 & -0.10763051 & -0.02026163 &  1.00000000 &  0.02920624 & -0.111239262 & 0 & 0\\\\\n",
       "\\end{tabular}\n"
      ],
      "text/markdown": [
       "\n",
       "A data.frame: 6 × 10\n",
       "\n",
       "| <!--/--> | ENSG00000273749 &lt;dbl&gt; | ENSG00000275835 &lt;dbl&gt; | ENSG00000182636 &lt;dbl&gt; | ENSG00000273173 &lt;dbl&gt; | ENSG00000114062 &lt;dbl&gt; | ENSG00000206190 &lt;dbl&gt; | ENSG00000128731 &lt;dbl&gt; | ENSG00000034053 &lt;dbl&gt; | ENSG00000198690 &lt;dbl&gt; | ENSG00000166912 &lt;dbl&gt; |\n",
       "|---|---|---|---|---|---|---|---|---|---|---|\n",
       "| ENSG00000273749 |  1.00000000 |  0.03680559 | -0.04001166 | -0.13993255 |  0.06297798 | -0.03815576 |  0.00000000 |  0.000000000 | 0 | 0 |\n",
       "| ENSG00000275835 |  0.03680559 |  1.00000000 | -0.03581534 |  0.07465613 | -0.08560826 |  0.09801586 |  0.00000000 |  0.000000000 | 0 | 0 |\n",
       "| ENSG00000182636 | -0.04001166 | -0.03581534 |  1.00000000 | -0.04575868 | -0.03163355 |  0.14242280 | -0.22863755 |  0.000000000 | 0 | 0 |\n",
       "| ENSG00000273173 | -0.13993255 |  0.07465613 | -0.04575868 |  1.00000000 | -0.08559488 | -0.10763051 | -0.22807048 |  0.005408455 | 0 | 0 |\n",
       "| ENSG00000114062 |  0.06297798 | -0.08560826 | -0.03163355 | -0.08559488 |  1.00000000 | -0.02026163 |  0.12739123 |  0.111127754 | 0 | 0 |\n",
       "| ENSG00000206190 | -0.03815576 |  0.09801586 |  0.14242280 | -0.10763051 | -0.02026163 |  1.00000000 |  0.02920624 | -0.111239262 | 0 | 0 |\n",
       "\n"
      ],
      "text/plain": [
       "                ENSG00000273749 ENSG00000275835 ENSG00000182636 ENSG00000273173\n",
       "ENSG00000273749  1.00000000      0.03680559     -0.04001166     -0.13993255    \n",
       "ENSG00000275835  0.03680559      1.00000000     -0.03581534      0.07465613    \n",
       "ENSG00000182636 -0.04001166     -0.03581534      1.00000000     -0.04575868    \n",
       "ENSG00000273173 -0.13993255      0.07465613     -0.04575868      1.00000000    \n",
       "ENSG00000114062  0.06297798     -0.08560826     -0.03163355     -0.08559488    \n",
       "ENSG00000206190 -0.03815576      0.09801586      0.14242280     -0.10763051    \n",
       "                ENSG00000114062 ENSG00000206190 ENSG00000128731 ENSG00000034053\n",
       "ENSG00000273749  0.06297798     -0.03815576      0.00000000      0.000000000   \n",
       "ENSG00000275835 -0.08560826      0.09801586      0.00000000      0.000000000   \n",
       "ENSG00000182636 -0.03163355      0.14242280     -0.22863755      0.000000000   \n",
       "ENSG00000273173 -0.08559488     -0.10763051     -0.22807048      0.005408455   \n",
       "ENSG00000114062  1.00000000     -0.02026163      0.12739123      0.111127754   \n",
       "ENSG00000206190 -0.02026163      1.00000000      0.02920624     -0.111239262   \n",
       "                ENSG00000198690 ENSG00000166912\n",
       "ENSG00000273749 0               0              \n",
       "ENSG00000275835 0               0              \n",
       "ENSG00000182636 0               0              \n",
       "ENSG00000273173 0               0              \n",
       "ENSG00000114062 0               0              \n",
       "ENSG00000206190 0               0              "
      ]
     },
     "metadata": {},
     "output_type": "display_data"
    },
    {
     "data": {
      "text/html": [
       "<table class=\"dataframe\">\n",
       "<caption>A data.frame: 6 × 10</caption>\n",
       "<thead>\n",
       "\t<tr><th></th><th scope=col>ENSG00000273749</th><th scope=col>ENSG00000275835</th><th scope=col>ENSG00000182636</th><th scope=col>ENSG00000273173</th><th scope=col>ENSG00000114062</th><th scope=col>ENSG00000206190</th><th scope=col>ENSG00000128731</th><th scope=col>ENSG00000034053</th><th scope=col>ENSG00000198690</th><th scope=col>ENSG00000166912</th></tr>\n",
       "\t<tr><th></th><th scope=col>&lt;dbl&gt;</th><th scope=col>&lt;dbl&gt;</th><th scope=col>&lt;dbl&gt;</th><th scope=col>&lt;dbl&gt;</th><th scope=col>&lt;dbl&gt;</th><th scope=col>&lt;dbl&gt;</th><th scope=col>&lt;dbl&gt;</th><th scope=col>&lt;dbl&gt;</th><th scope=col>&lt;dbl&gt;</th><th scope=col>&lt;dbl&gt;</th></tr>\n",
       "</thead>\n",
       "<tbody>\n",
       "\t<tr><th scope=row>ENSG00000273749</th><td> 1.0000000000</td><td>-0.010302025</td><td>-0.0202118094</td><td>-0.0582101647</td><td> 0.03883479</td><td> 0.0007286952</td><td> 0.033355074</td><td> 0.003050909</td><td>-0.0055514452</td><td> 0.001054966</td></tr>\n",
       "\t<tr><th scope=row>ENSG00000275835</th><td>-0.0103020252</td><td> 1.000000000</td><td>-0.0071489487</td><td> 0.0226797609</td><td>-0.04579499</td><td> 0.0292642440</td><td>-0.007052471</td><td>-0.023918898</td><td>-0.0009338839</td><td> 0.003076497</td></tr>\n",
       "\t<tr><th scope=row>ENSG00000182636</th><td>-0.0202118094</td><td>-0.007148949</td><td> 1.0000000000</td><td>-0.0009924236</td><td>-0.03051131</td><td> 0.0633706196</td><td>-0.088755194</td><td>-0.056853178</td><td> 0.0060018097</td><td>-0.031808732</td></tr>\n",
       "\t<tr><th scope=row>ENSG00000273173</th><td>-0.0582101647</td><td> 0.022679761</td><td>-0.0009924236</td><td> 1.0000000000</td><td>-0.06824437</td><td>-0.0490050907</td><td>-0.096860703</td><td>-0.026653514</td><td> 0.0079429428</td><td>-0.030687414</td></tr>\n",
       "\t<tr><th scope=row>ENSG00000114062</th><td> 0.0388347883</td><td>-0.045794986</td><td>-0.0305113114</td><td>-0.0682443669</td><td> 1.00000000</td><td>-0.0236006701</td><td> 0.086614056</td><td> 0.064466515</td><td>-0.0066573088</td><td> 0.021071765</td></tr>\n",
       "\t<tr><th scope=row>ENSG00000206190</th><td> 0.0007286952</td><td> 0.029264244</td><td> 0.0633706196</td><td>-0.0490050907</td><td>-0.02360067</td><td> 1.0000000000</td><td>-0.008560475</td><td>-0.047811026</td><td>-0.0006977627</td><td> 0.004138691</td></tr>\n",
       "</tbody>\n",
       "</table>\n"
      ],
      "text/latex": [
       "A data.frame: 6 × 10\n",
       "\\begin{tabular}{r|llllllllll}\n",
       "  & ENSG00000273749 & ENSG00000275835 & ENSG00000182636 & ENSG00000273173 & ENSG00000114062 & ENSG00000206190 & ENSG00000128731 & ENSG00000034053 & ENSG00000198690 & ENSG00000166912\\\\\n",
       "  & <dbl> & <dbl> & <dbl> & <dbl> & <dbl> & <dbl> & <dbl> & <dbl> & <dbl> & <dbl>\\\\\n",
       "\\hline\n",
       "\tENSG00000273749 &  1.0000000000 & -0.010302025 & -0.0202118094 & -0.0582101647 &  0.03883479 &  0.0007286952 &  0.033355074 &  0.003050909 & -0.0055514452 &  0.001054966\\\\\n",
       "\tENSG00000275835 & -0.0103020252 &  1.000000000 & -0.0071489487 &  0.0226797609 & -0.04579499 &  0.0292642440 & -0.007052471 & -0.023918898 & -0.0009338839 &  0.003076497\\\\\n",
       "\tENSG00000182636 & -0.0202118094 & -0.007148949 &  1.0000000000 & -0.0009924236 & -0.03051131 &  0.0633706196 & -0.088755194 & -0.056853178 &  0.0060018097 & -0.031808732\\\\\n",
       "\tENSG00000273173 & -0.0582101647 &  0.022679761 & -0.0009924236 &  1.0000000000 & -0.06824437 & -0.0490050907 & -0.096860703 & -0.026653514 &  0.0079429428 & -0.030687414\\\\\n",
       "\tENSG00000114062 &  0.0388347883 & -0.045794986 & -0.0305113114 & -0.0682443669 &  1.00000000 & -0.0236006701 &  0.086614056 &  0.064466515 & -0.0066573088 &  0.021071765\\\\\n",
       "\tENSG00000206190 &  0.0007286952 &  0.029264244 &  0.0633706196 & -0.0490050907 & -0.02360067 &  1.0000000000 & -0.008560475 & -0.047811026 & -0.0006977627 &  0.004138691\\\\\n",
       "\\end{tabular}\n"
      ],
      "text/markdown": [
       "\n",
       "A data.frame: 6 × 10\n",
       "\n",
       "| <!--/--> | ENSG00000273749 &lt;dbl&gt; | ENSG00000275835 &lt;dbl&gt; | ENSG00000182636 &lt;dbl&gt; | ENSG00000273173 &lt;dbl&gt; | ENSG00000114062 &lt;dbl&gt; | ENSG00000206190 &lt;dbl&gt; | ENSG00000128731 &lt;dbl&gt; | ENSG00000034053 &lt;dbl&gt; | ENSG00000198690 &lt;dbl&gt; | ENSG00000166912 &lt;dbl&gt; |\n",
       "|---|---|---|---|---|---|---|---|---|---|---|\n",
       "| ENSG00000273749 |  1.0000000000 | -0.010302025 | -0.0202118094 | -0.0582101647 |  0.03883479 |  0.0007286952 |  0.033355074 |  0.003050909 | -0.0055514452 |  0.001054966 |\n",
       "| ENSG00000275835 | -0.0103020252 |  1.000000000 | -0.0071489487 |  0.0226797609 | -0.04579499 |  0.0292642440 | -0.007052471 | -0.023918898 | -0.0009338839 |  0.003076497 |\n",
       "| ENSG00000182636 | -0.0202118094 | -0.007148949 |  1.0000000000 | -0.0009924236 | -0.03051131 |  0.0633706196 | -0.088755194 | -0.056853178 |  0.0060018097 | -0.031808732 |\n",
       "| ENSG00000273173 | -0.0582101647 |  0.022679761 | -0.0009924236 |  1.0000000000 | -0.06824437 | -0.0490050907 | -0.096860703 | -0.026653514 |  0.0079429428 | -0.030687414 |\n",
       "| ENSG00000114062 |  0.0388347883 | -0.045794986 | -0.0305113114 | -0.0682443669 |  1.00000000 | -0.0236006701 |  0.086614056 |  0.064466515 | -0.0066573088 |  0.021071765 |\n",
       "| ENSG00000206190 |  0.0007286952 |  0.029264244 |  0.0633706196 | -0.0490050907 | -0.02360067 |  1.0000000000 | -0.008560475 | -0.047811026 | -0.0006977627 |  0.004138691 |\n",
       "\n"
      ],
      "text/plain": [
       "                ENSG00000273749 ENSG00000275835 ENSG00000182636 ENSG00000273173\n",
       "ENSG00000273749  1.0000000000   -0.010302025    -0.0202118094   -0.0582101647  \n",
       "ENSG00000275835 -0.0103020252    1.000000000    -0.0071489487    0.0226797609  \n",
       "ENSG00000182636 -0.0202118094   -0.007148949     1.0000000000   -0.0009924236  \n",
       "ENSG00000273173 -0.0582101647    0.022679761    -0.0009924236    1.0000000000  \n",
       "ENSG00000114062  0.0388347883   -0.045794986    -0.0305113114   -0.0682443669  \n",
       "ENSG00000206190  0.0007286952    0.029264244     0.0633706196   -0.0490050907  \n",
       "                ENSG00000114062 ENSG00000206190 ENSG00000128731 ENSG00000034053\n",
       "ENSG00000273749  0.03883479      0.0007286952    0.033355074     0.003050909   \n",
       "ENSG00000275835 -0.04579499      0.0292642440   -0.007052471    -0.023918898   \n",
       "ENSG00000182636 -0.03051131      0.0633706196   -0.088755194    -0.056853178   \n",
       "ENSG00000273173 -0.06824437     -0.0490050907   -0.096860703    -0.026653514   \n",
       "ENSG00000114062  1.00000000     -0.0236006701    0.086614056     0.064466515   \n",
       "ENSG00000206190 -0.02360067      1.0000000000   -0.008560475    -0.047811026   \n",
       "                ENSG00000198690 ENSG00000166912\n",
       "ENSG00000273749 -0.0055514452    0.001054966   \n",
       "ENSG00000275835 -0.0009338839    0.003076497   \n",
       "ENSG00000182636  0.0060018097   -0.031808732   \n",
       "ENSG00000273173  0.0079429428   -0.030687414   \n",
       "ENSG00000114062 -0.0066573088    0.021071765   \n",
       "ENSG00000206190 -0.0006977627    0.004138691   "
      ]
     },
     "metadata": {},
     "output_type": "display_data"
    }
   ],
   "source": [
    "# quick and visual comparison of the two matrices\n",
    "IRdisplay::display(head(gene_corrs[1:10, 1:10]))\n",
    "IRdisplay::display(head(gene_corrs_corrected[1:10, 1:10]))"
   ]
  },
  {
   "cell_type": "markdown",
   "id": "c6c40f1a-d153-475a-94eb-c71697ad9d51",
   "metadata": {
    "papermill": {
     "duration": 0.00964,
     "end_time": "2022-06-18T11:50:30.426376",
     "exception": false,
     "start_time": "2022-06-18T11:50:30.416736",
     "status": "completed"
    },
    "tags": []
   },
   "source": [
    "Both matrices should \"look\" similar. We are not interested in perfectly accurate correlation values (they are already inaccurate)."
   ]
  },
  {
   "cell_type": "markdown",
   "id": "bf0f49cb-9c21-4616-8390-bb68d52dae56",
   "metadata": {
    "papermill": {
     "duration": 0.008613,
     "end_time": "2022-06-18T11:50:30.443502",
     "exception": false,
     "start_time": "2022-06-18T11:50:30.434889",
     "status": "completed"
    },
    "tags": []
   },
   "source": [
    "# Save"
   ]
  },
  {
   "cell_type": "code",
   "execution_count": 31,
   "id": "2e58e7f3-a75c-4195-a20e-39e3e3e1cc9a",
   "metadata": {
    "execution": {
     "iopub.execute_input": "2022-06-18T11:50:30.461945Z",
     "iopub.status.busy": "2022-06-18T11:50:30.460803Z",
     "iopub.status.idle": "2022-06-18T11:50:30.482312Z",
     "shell.execute_reply": "2022-06-18T11:50:30.481086Z"
    },
    "papermill": {
     "duration": 0.032288,
     "end_time": "2022-06-18T11:50:30.484030",
     "exception": false,
     "start_time": "2022-06-18T11:50:30.451742",
     "status": "completed"
    },
    "tags": []
   },
   "outputs": [],
   "source": [
    "py_save_object(gene_corrs_corrected, OUTPUT_FILE)"
   ]
  },
  {
   "cell_type": "code",
   "execution_count": null,
   "id": "d8ae4220-2171-460c-9231-cd5219f3fe77",
   "metadata": {
    "papermill": {
     "duration": 0.007718,
     "end_time": "2022-06-18T11:50:30.499761",
     "exception": false,
     "start_time": "2022-06-18T11:50:30.492043",
     "status": "completed"
    },
    "tags": []
   },
   "outputs": [],
   "source": []
  }
 ],
 "metadata": {
  "jupytext": {
   "cell_metadata_filter": "all,-execution,-papermill,-trusted"
  },
  "kernelspec": {
   "display_name": "R",
   "language": "R",
   "name": "ir"
  },
  "language_info": {
   "codemirror_mode": "r",
   "file_extension": ".r",
   "mimetype": "text/x-r-source",
   "name": "R",
   "pygments_lexer": "r",
   "version": "3.6.3"
  },
  "papermill": {
   "default_parameters": {},
   "duration": 6.047024,
   "end_time": "2022-06-18T11:50:30.624455",
   "environment_variables": {},
   "exception": null,
   "input_path": "nbs/15_gsa_gls/12-gene_expr_correlations-adjust.ipynb",
   "output_path": "nbs/15_gsa_gls/gene_corrs/gtex_v8/mashr/12-gene_expr_correlations-adjust-chr15.run.ipynb",
   "parameters": {
    "EQTL_MODEL": "MASHR",
    "REFERENCE_PANEL": "GTEX_V8",
    "chromosome": 15
   },
   "start_time": "2022-06-18T11:50:24.577431",
   "version": "2.3.4"
  }
 },
 "nbformat": 4,
 "nbformat_minor": 5
}
