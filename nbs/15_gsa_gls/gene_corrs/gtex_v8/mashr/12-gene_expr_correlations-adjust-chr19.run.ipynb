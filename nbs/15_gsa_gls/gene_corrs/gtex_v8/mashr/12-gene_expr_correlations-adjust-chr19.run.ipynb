{
 "cells": [
  {
   "cell_type": "markdown",
   "id": "6c1f0ae4-cd27-4fec-a23d-51699e7059e8",
   "metadata": {
    "papermill": {
     "duration": 0.006166,
     "end_time": "2022-06-18T11:50:38.490404",
     "exception": false,
     "start_time": "2022-06-18T11:50:38.484238",
     "status": "completed"
    },
    "tags": []
   },
   "source": [
    "# Description"
   ]
  },
  {
   "cell_type": "markdown",
   "id": "3268a19a-8a83-4f61-aa39-09b084c81d61",
   "metadata": {
    "papermill": {
     "duration": 0.005327,
     "end_time": "2022-06-18T11:50:38.501207",
     "exception": false,
     "start_time": "2022-06-18T11:50:38.495880",
     "status": "completed"
    },
    "tags": []
   },
   "source": [
    "**TODO**"
   ]
  },
  {
   "cell_type": "markdown",
   "id": "401368d3-22c1-4d81-a2c3-c4a81fde4191",
   "metadata": {
    "papermill": {
     "duration": 0.004651,
     "end_time": "2022-06-18T11:50:38.510799",
     "exception": false,
     "start_time": "2022-06-18T11:50:38.506148",
     "status": "completed"
    },
    "tags": []
   },
   "source": [
    "# Modules"
   ]
  },
  {
   "cell_type": "code",
   "execution_count": 1,
   "id": "f9b5022b-7c5e-4d37-9c7a-fdb91777c7f9",
   "metadata": {
    "execution": {
     "iopub.execute_input": "2022-06-18T11:50:38.522228Z",
     "iopub.status.busy": "2022-06-18T11:50:38.520644Z",
     "iopub.status.idle": "2022-06-18T11:50:41.784677Z",
     "shell.execute_reply": "2022-06-18T11:50:41.783450Z"
    },
    "papermill": {
     "duration": 3.271344,
     "end_time": "2022-06-18T11:50:41.786487",
     "exception": false,
     "start_time": "2022-06-18T11:50:38.515143",
     "status": "completed"
    },
    "tags": []
   },
   "outputs": [],
   "source": [
    "library(reticulate)\n",
    "pd <- import(\"pandas\")"
   ]
  },
  {
   "cell_type": "markdown",
   "id": "c1958d6a-0229-47e8-823e-792fcf84fccf",
   "metadata": {
    "papermill": {
     "duration": 0.004964,
     "end_time": "2022-06-18T11:50:41.796116",
     "exception": false,
     "start_time": "2022-06-18T11:50:41.791152",
     "status": "completed"
    },
    "tags": []
   },
   "source": [
    "# Settings"
   ]
  },
  {
   "cell_type": "code",
   "execution_count": 2,
   "id": "22d12bb4-1699-4a6b-b1b9-d3fdd3d547d7",
   "metadata": {
    "execution": {
     "iopub.execute_input": "2022-06-18T11:50:41.828260Z",
     "iopub.status.busy": "2022-06-18T11:50:41.806150Z",
     "iopub.status.idle": "2022-06-18T11:50:41.840850Z",
     "shell.execute_reply": "2022-06-18T11:50:41.839552Z"
    },
    "papermill": {
     "duration": 0.042324,
     "end_time": "2022-06-18T11:50:41.842916",
     "exception": false,
     "start_time": "2022-06-18T11:50:41.800592",
     "status": "completed"
    },
    "tags": [
     "parameters"
    ]
   },
   "outputs": [],
   "source": [
    "# reference panel\n",
    "REFERENCE_PANEL <- \"GTEX_V8\"\n",
    "# REFERENCE_PANEL = \"1000G\"\n",
    "\n",
    "# prediction models\n",
    "## mashr\n",
    "EQTL_MODEL <- \"MASHR\"\n",
    "\n",
    "# ## elastic net\n",
    "# EQTL_MODEL = \"ELASTIC_NET\"\n",
    "\n",
    "chromosome <- NULL"
   ]
  },
  {
   "cell_type": "code",
   "execution_count": 3,
   "id": "01f90ed4",
   "metadata": {
    "execution": {
     "iopub.execute_input": "2022-06-18T11:50:41.855915Z",
     "iopub.status.busy": "2022-06-18T11:50:41.854799Z",
     "iopub.status.idle": "2022-06-18T11:50:41.873490Z",
     "shell.execute_reply": "2022-06-18T11:50:41.872198Z"
    },
    "papermill": {
     "duration": 0.026891,
     "end_time": "2022-06-18T11:50:41.875252",
     "exception": false,
     "start_time": "2022-06-18T11:50:41.848361",
     "status": "completed"
    },
    "tags": [
     "injected-parameters"
    ]
   },
   "outputs": [],
   "source": [
    "# Parameters\n",
    "chromosome = 19\n",
    "REFERENCE_PANEL = \"GTEX_V8\"\n",
    "EQTL_MODEL = \"MASHR\"\n"
   ]
  },
  {
   "cell_type": "code",
   "execution_count": 4,
   "id": "8fe24bef",
   "metadata": {
    "execution": {
     "iopub.execute_input": "2022-06-18T11:50:41.889022Z",
     "iopub.status.busy": "2022-06-18T11:50:41.887778Z",
     "iopub.status.idle": "2022-06-18T11:50:41.902953Z",
     "shell.execute_reply": "2022-06-18T11:50:41.901212Z"
    },
    "papermill": {
     "duration": 0.023764,
     "end_time": "2022-06-18T11:50:41.904910",
     "exception": false,
     "start_time": "2022-06-18T11:50:41.881146",
     "status": "completed"
    },
    "tags": []
   },
   "outputs": [
    {
     "data": {
      "text/html": [
       "'Using reference panel: GTEX_V8'"
      ],
      "text/latex": [
       "'Using reference panel: GTEX\\_V8'"
      ],
      "text/markdown": [
       "'Using reference panel: GTEX_V8'"
      ],
      "text/plain": [
       "[1] \"Using reference panel: GTEX_V8\""
      ]
     },
     "metadata": {},
     "output_type": "display_data"
    }
   ],
   "source": [
    "paste0(\"Using reference panel: \", REFERENCE_PANEL)"
   ]
  },
  {
   "cell_type": "code",
   "execution_count": 5,
   "id": "d62c28f8-186c-478b-948c-58e14f00df4b",
   "metadata": {
    "execution": {
     "iopub.execute_input": "2022-06-18T11:50:41.918601Z",
     "iopub.status.busy": "2022-06-18T11:50:41.917428Z",
     "iopub.status.idle": "2022-06-18T11:50:41.929883Z",
     "shell.execute_reply": "2022-06-18T11:50:41.928545Z"
    },
    "papermill": {
     "duration": 0.021134,
     "end_time": "2022-06-18T11:50:41.931847",
     "exception": false,
     "start_time": "2022-06-18T11:50:41.910713",
     "status": "completed"
    },
    "tags": []
   },
   "outputs": [
    {
     "data": {
      "text/html": [
       "'Using eQTL model: MASHR'"
      ],
      "text/latex": [
       "'Using eQTL model: MASHR'"
      ],
      "text/markdown": [
       "'Using eQTL model: MASHR'"
      ],
      "text/plain": [
       "[1] \"Using eQTL model: MASHR\""
      ]
     },
     "metadata": {},
     "output_type": "display_data"
    }
   ],
   "source": [
    "paste0(\"Using eQTL model: \", EQTL_MODEL)"
   ]
  },
  {
   "cell_type": "code",
   "execution_count": 6,
   "id": "5243676f-c889-4405-9a4d-262f0f044614",
   "metadata": {
    "execution": {
     "iopub.execute_input": "2022-06-18T11:50:41.945159Z",
     "iopub.status.busy": "2022-06-18T11:50:41.944009Z",
     "iopub.status.idle": "2022-06-18T11:50:41.954217Z",
     "shell.execute_reply": "2022-06-18T11:50:41.952922Z"
    },
    "papermill": {
     "duration": 0.018699,
     "end_time": "2022-06-18T11:50:41.956090",
     "exception": false,
     "start_time": "2022-06-18T11:50:41.937391",
     "status": "completed"
    },
    "tags": []
   },
   "outputs": [],
   "source": [
    "# chromosome must be provided as parameter\n",
    "stopifnot(!is.null(chromosome))"
   ]
  },
  {
   "cell_type": "markdown",
   "id": "83a49773-bcf5-44c4-8d9b-a6ac65a57ec6",
   "metadata": {
    "papermill": {
     "duration": 0.0052,
     "end_time": "2022-06-18T11:50:41.975326",
     "exception": false,
     "start_time": "2022-06-18T11:50:41.970126",
     "status": "completed"
    },
    "tags": []
   },
   "source": [
    "# Paths"
   ]
  },
  {
   "cell_type": "code",
   "execution_count": 7,
   "id": "eb6aa8aa-b452-4a2f-a780-93dd80ad4285",
   "metadata": {
    "execution": {
     "iopub.execute_input": "2022-06-18T11:50:41.987613Z",
     "iopub.status.busy": "2022-06-18T11:50:41.986532Z",
     "iopub.status.idle": "2022-06-18T11:50:41.999617Z",
     "shell.execute_reply": "2022-06-18T11:50:41.998364Z"
    },
    "papermill": {
     "duration": 0.020834,
     "end_time": "2022-06-18T11:50:42.001363",
     "exception": false,
     "start_time": "2022-06-18T11:50:41.980529",
     "status": "completed"
    },
    "tags": []
   },
   "outputs": [
    {
     "data": {
      "text/html": [
       "'/opt/data/data/phenomexcan/ld_blocks/gene_corrs'"
      ],
      "text/latex": [
       "'/opt/data/data/phenomexcan/ld\\_blocks/gene\\_corrs'"
      ],
      "text/markdown": [
       "'/opt/data/data/phenomexcan/ld_blocks/gene_corrs'"
      ],
      "text/plain": [
       "[1] \"/opt/data/data/phenomexcan/ld_blocks/gene_corrs\""
      ]
     },
     "metadata": {},
     "output_type": "display_data"
    }
   ],
   "source": [
    "GENE_CORRS_DIR <- Sys.getenv(\"PHENOPLIER_PHENOMEXCAN_LD_BLOCKS_GENE_CORRS_DIR\")\n",
    "IRdisplay::display(GENE_CORRS_DIR)"
   ]
  },
  {
   "cell_type": "code",
   "execution_count": 8,
   "id": "eb24f15f-f282-4476-8943-8413c4483f12",
   "metadata": {
    "execution": {
     "iopub.execute_input": "2022-06-18T11:50:42.013985Z",
     "iopub.status.busy": "2022-06-18T11:50:42.012900Z",
     "iopub.status.idle": "2022-06-18T11:50:42.025989Z",
     "shell.execute_reply": "2022-06-18T11:50:42.024448Z"
    },
    "papermill": {
     "duration": 0.021094,
     "end_time": "2022-06-18T11:50:42.027807",
     "exception": false,
     "start_time": "2022-06-18T11:50:42.006713",
     "status": "completed"
    },
    "tags": []
   },
   "outputs": [
    {
     "data": {
      "text/html": [
       "'/opt/data/data/phenomexcan/ld_blocks/gene_corrs/gtex_v8/mashr/by_chr'"
      ],
      "text/latex": [
       "'/opt/data/data/phenomexcan/ld\\_blocks/gene\\_corrs/gtex\\_v8/mashr/by\\_chr'"
      ],
      "text/markdown": [
       "'/opt/data/data/phenomexcan/ld_blocks/gene_corrs/gtex_v8/mashr/by_chr'"
      ],
      "text/plain": [
       "[1] \"/opt/data/data/phenomexcan/ld_blocks/gene_corrs/gtex_v8/mashr/by_chr\""
      ]
     },
     "metadata": {},
     "output_type": "display_data"
    }
   ],
   "source": [
    "INPUT_DIR <- file.path(GENE_CORRS_DIR, tolower(REFERENCE_PANEL), tolower(EQTL_MODEL), \"by_chr\")\n",
    "IRdisplay::display(INPUT_DIR)"
   ]
  },
  {
   "cell_type": "code",
   "execution_count": 9,
   "id": "43c1daba-0da9-4822-8d1e-968e9767e251",
   "metadata": {
    "execution": {
     "iopub.execute_input": "2022-06-18T11:50:42.040661Z",
     "iopub.status.busy": "2022-06-18T11:50:42.039591Z",
     "iopub.status.idle": "2022-06-18T11:50:42.054151Z",
     "shell.execute_reply": "2022-06-18T11:50:42.052893Z"
    },
    "papermill": {
     "duration": 0.022725,
     "end_time": "2022-06-18T11:50:42.055977",
     "exception": false,
     "start_time": "2022-06-18T11:50:42.033252",
     "status": "completed"
    },
    "tags": []
   },
   "outputs": [
    {
     "data": {
      "text/html": [
       "'/opt/data/data/phenomexcan/ld_blocks/gene_corrs/gtex_v8/mashr/by_chr/gene_corrs-chr19.pkl'"
      ],
      "text/latex": [
       "'/opt/data/data/phenomexcan/ld\\_blocks/gene\\_corrs/gtex\\_v8/mashr/by\\_chr/gene\\_corrs-chr19.pkl'"
      ],
      "text/markdown": [
       "'/opt/data/data/phenomexcan/ld_blocks/gene_corrs/gtex_v8/mashr/by_chr/gene_corrs-chr19.pkl'"
      ],
      "text/plain": [
       "[1] \"/opt/data/data/phenomexcan/ld_blocks/gene_corrs/gtex_v8/mashr/by_chr/gene_corrs-chr19.pkl\""
      ]
     },
     "metadata": {},
     "output_type": "display_data"
    }
   ],
   "source": [
    "INPUT_FILE <- file.path(INPUT_DIR, paste0(\"gene_corrs-chr\", chromosome, \".pkl\"))\n",
    "IRdisplay::display(INPUT_FILE)\n",
    "stopifnot(file.exists(INPUT_FILE))"
   ]
  },
  {
   "cell_type": "code",
   "execution_count": 10,
   "id": "72386fbf-982b-420a-9057-ea9a97a5e571",
   "metadata": {
    "execution": {
     "iopub.execute_input": "2022-06-18T11:50:42.069648Z",
     "iopub.status.busy": "2022-06-18T11:50:42.068599Z",
     "iopub.status.idle": "2022-06-18T11:50:42.083196Z",
     "shell.execute_reply": "2022-06-18T11:50:42.081966Z"
    },
    "papermill": {
     "duration": 0.02301,
     "end_time": "2022-06-18T11:50:42.085019",
     "exception": false,
     "start_time": "2022-06-18T11:50:42.062009",
     "status": "completed"
    },
    "tags": []
   },
   "outputs": [
    {
     "data": {
      "text/html": [
       "'/opt/data/data/phenomexcan/ld_blocks/gene_corrs/gtex_v8/mashr/by_chr/corrected_positive_definite'"
      ],
      "text/latex": [
       "'/opt/data/data/phenomexcan/ld\\_blocks/gene\\_corrs/gtex\\_v8/mashr/by\\_chr/corrected\\_positive\\_definite'"
      ],
      "text/markdown": [
       "'/opt/data/data/phenomexcan/ld_blocks/gene_corrs/gtex_v8/mashr/by_chr/corrected_positive_definite'"
      ],
      "text/plain": [
       "[1] \"/opt/data/data/phenomexcan/ld_blocks/gene_corrs/gtex_v8/mashr/by_chr/corrected_positive_definite\""
      ]
     },
     "metadata": {},
     "output_type": "display_data"
    }
   ],
   "source": [
    "OUTPUT_DIR <- file.path(INPUT_DIR, \"corrected_positive_definite\")\n",
    "IRdisplay::display(OUTPUT_DIR)\n",
    "dir.create(OUTPUT_DIR, recursive = TRUE, showWarnings = FALSE)"
   ]
  },
  {
   "cell_type": "code",
   "execution_count": 11,
   "id": "f9f19d1d-ce4c-4099-a26e-250fec751de7",
   "metadata": {
    "execution": {
     "iopub.execute_input": "2022-06-18T11:50:42.098769Z",
     "iopub.status.busy": "2022-06-18T11:50:42.097717Z",
     "iopub.status.idle": "2022-06-18T11:50:42.117591Z",
     "shell.execute_reply": "2022-06-18T11:50:42.113210Z"
    },
    "papermill": {
     "duration": 0.02862,
     "end_time": "2022-06-18T11:50:42.119569",
     "exception": false,
     "start_time": "2022-06-18T11:50:42.090949",
     "status": "completed"
    },
    "tags": []
   },
   "outputs": [
    {
     "data": {
      "text/html": [
       "'/opt/data/data/phenomexcan/ld_blocks/gene_corrs/gtex_v8/mashr/by_chr/corrected_positive_definite/gene_corrs-chr19.pkl'"
      ],
      "text/latex": [
       "'/opt/data/data/phenomexcan/ld\\_blocks/gene\\_corrs/gtex\\_v8/mashr/by\\_chr/corrected\\_positive\\_definite/gene\\_corrs-chr19.pkl'"
      ],
      "text/markdown": [
       "'/opt/data/data/phenomexcan/ld_blocks/gene_corrs/gtex_v8/mashr/by_chr/corrected_positive_definite/gene_corrs-chr19.pkl'"
      ],
      "text/plain": [
       "[1] \"/opt/data/data/phenomexcan/ld_blocks/gene_corrs/gtex_v8/mashr/by_chr/corrected_positive_definite/gene_corrs-chr19.pkl\""
      ]
     },
     "metadata": {},
     "output_type": "display_data"
    },
    {
     "data": {
      "text/html": [
       "'Output file exists, it will be overwritten'"
      ],
      "text/latex": [
       "'Output file exists, it will be overwritten'"
      ],
      "text/markdown": [
       "'Output file exists, it will be overwritten'"
      ],
      "text/plain": [
       "[1] \"Output file exists, it will be overwritten\""
      ]
     },
     "metadata": {},
     "output_type": "display_data"
    }
   ],
   "source": [
    "OUTPUT_FILE <- file.path(OUTPUT_DIR, paste0(\"gene_corrs-chr\", chromosome, \".pkl\"))\n",
    "IRdisplay::display(OUTPUT_FILE)\n",
    "if (file.exists(OUTPUT_FILE)) {\n",
    "  IRdisplay::display(\"Output file exists, it will be overwritten\")\n",
    "}"
   ]
  },
  {
   "cell_type": "markdown",
   "id": "5aad60e6-cba4-41b5-9755-93eb86f4ed05",
   "metadata": {
    "papermill": {
     "duration": 0.00607,
     "end_time": "2022-06-18T11:50:42.132003",
     "exception": false,
     "start_time": "2022-06-18T11:50:42.125933",
     "status": "completed"
    },
    "tags": []
   },
   "source": [
    "# Functions"
   ]
  },
  {
   "cell_type": "code",
   "execution_count": 12,
   "id": "f828f081-7358-4cc8-8a89-1ee293bcc1a7",
   "metadata": {
    "execution": {
     "iopub.execute_input": "2022-06-18T11:50:42.146134Z",
     "iopub.status.busy": "2022-06-18T11:50:42.145055Z",
     "iopub.status.idle": "2022-06-18T11:50:42.154723Z",
     "shell.execute_reply": "2022-06-18T11:50:42.153525Z"
    },
    "papermill": {
     "duration": 0.018411,
     "end_time": "2022-06-18T11:50:42.156523",
     "exception": false,
     "start_time": "2022-06-18T11:50:42.138112",
     "status": "completed"
    },
    "tags": []
   },
   "outputs": [],
   "source": [
    "# taken from https://www.r-bloggers.com/2013/08/correcting-a-pseudo-correlation-matrix-to-be-positive-semidefinite/\n",
    "# TODO: add documentation\n",
    "CorrectCM <- function(CM, p = 0) {\n",
    "  n <- dim(var(CM))[1L]\n",
    "  E <- eigen(CM)\n",
    "  CM1 <- E$vectors %*% tcrossprod(diag(pmax(E$values, p), n), E$vectors)\n",
    "  Balance <- diag(1 / sqrt(diag(CM1)))\n",
    "  CM2 <- Balance %*% CM1 %*% Balance\n",
    "  return(CM2)\n",
    "}"
   ]
  },
  {
   "cell_type": "code",
   "execution_count": 13,
   "id": "7ab9bebf-50a1-4e6f-b16a-e23cae93d02a",
   "metadata": {
    "execution": {
     "iopub.execute_input": "2022-06-18T11:50:42.170487Z",
     "iopub.status.busy": "2022-06-18T11:50:42.169407Z",
     "iopub.status.idle": "2022-06-18T11:50:42.178942Z",
     "shell.execute_reply": "2022-06-18T11:50:42.177656Z"
    },
    "papermill": {
     "duration": 0.018199,
     "end_time": "2022-06-18T11:50:42.180768",
     "exception": false,
     "start_time": "2022-06-18T11:50:42.162569",
     "status": "completed"
    },
    "tags": []
   },
   "outputs": [],
   "source": [
    "is_positive_definite <- function(data) {\n",
    "  eigenvalues <- eigen(data)$values\n",
    "  nonpositive_eigenvalues <- eigenvalues[eigenvalues <= 0]\n",
    "\n",
    "  if (length(nonpositive_eigenvalues) > 0) {\n",
    "    IRdisplay::display(\"We need to correct the data and make the matrix positive definite\")\n",
    "    return(FALSE)\n",
    "  } else {\n",
    "    IRdisplay::display(\"Matrix is already positive definite!\")\n",
    "    return(TRUE)\n",
    "  }\n",
    "}"
   ]
  },
  {
   "cell_type": "markdown",
   "id": "ac52ecbc-5618-4876-a4fa-546a08e3fcf3",
   "metadata": {
    "papermill": {
     "duration": 0.005871,
     "end_time": "2022-06-18T11:50:42.192834",
     "exception": false,
     "start_time": "2022-06-18T11:50:42.186963",
     "status": "completed"
    },
    "tags": []
   },
   "source": [
    "# Load data"
   ]
  },
  {
   "cell_type": "code",
   "execution_count": 14,
   "id": "3a7744e1-2e5a-450e-9dcf-945ec181347d",
   "metadata": {
    "execution": {
     "iopub.execute_input": "2022-06-18T11:50:42.207206Z",
     "iopub.status.busy": "2022-06-18T11:50:42.206025Z",
     "iopub.status.idle": "2022-06-18T11:50:42.332380Z",
     "shell.execute_reply": "2022-06-18T11:50:42.330422Z"
    },
    "papermill": {
     "duration": 0.135349,
     "end_time": "2022-06-18T11:50:42.334176",
     "exception": false,
     "start_time": "2022-06-18T11:50:42.198827",
     "status": "completed"
    },
    "tags": []
   },
   "outputs": [],
   "source": [
    "gene_corrs <- pd$read_pickle(INPUT_FILE)"
   ]
  },
  {
   "cell_type": "code",
   "execution_count": 15,
   "id": "6fb150b2-4c68-4e9b-9aa5-1890d3f762e3",
   "metadata": {
    "execution": {
     "iopub.execute_input": "2022-06-18T11:50:42.348163Z",
     "iopub.status.busy": "2022-06-18T11:50:42.347160Z",
     "iopub.status.idle": "2022-06-18T11:50:42.358757Z",
     "shell.execute_reply": "2022-06-18T11:50:42.357506Z"
    },
    "papermill": {
     "duration": 0.020393,
     "end_time": "2022-06-18T11:50:42.360669",
     "exception": false,
     "start_time": "2022-06-18T11:50:42.340276",
     "status": "completed"
    },
    "tags": []
   },
   "outputs": [
    {
     "data": {
      "text/html": [
       "<style>\n",
       ".list-inline {list-style: none; margin:0; padding: 0}\n",
       ".list-inline>li {display: inline-block}\n",
       ".list-inline>li:not(:last-child)::after {content: \"\\00b7\"; padding: 0 .5ex}\n",
       "</style>\n",
       "<ol class=list-inline><li>540</li><li>540</li></ol>\n"
      ],
      "text/latex": [
       "\\begin{enumerate*}\n",
       "\\item 540\n",
       "\\item 540\n",
       "\\end{enumerate*}\n"
      ],
      "text/markdown": [
       "1. 540\n",
       "2. 540\n",
       "\n",
       "\n"
      ],
      "text/plain": [
       "[1] 540 540"
      ]
     },
     "metadata": {},
     "output_type": "display_data"
    }
   ],
   "source": [
    "dim(gene_corrs)"
   ]
  },
  {
   "cell_type": "code",
   "execution_count": 16,
   "id": "0d4e53b5-7586-4a68-8ce5-d930d74ba943",
   "metadata": {
    "execution": {
     "iopub.execute_input": "2022-06-18T11:50:42.383243Z",
     "iopub.status.busy": "2022-06-18T11:50:42.381822Z",
     "iopub.status.idle": "2022-06-18T11:50:42.406137Z",
     "shell.execute_reply": "2022-06-18T11:50:42.404822Z"
    },
    "papermill": {
     "duration": 0.040216,
     "end_time": "2022-06-18T11:50:42.408311",
     "exception": false,
     "start_time": "2022-06-18T11:50:42.368095",
     "status": "completed"
    },
    "tags": []
   },
   "outputs": [
    {
     "data": {
      "text/html": [
       "<table class=\"dataframe\">\n",
       "<caption>A data.frame: 6 × 10</caption>\n",
       "<thead>\n",
       "\t<tr><th></th><th scope=col>ENSG00000129946</th><th scope=col>ENSG00000099866</th><th scope=col>ENSG00000099804</th><th scope=col>ENSG00000197540</th><th scope=col>ENSG00000172270</th><th scope=col>ENSG00000099822</th><th scope=col>ENSG00000099821</th><th scope=col>ENSG00000011304</th><th scope=col>ENSG00000172232</th><th scope=col>ENSG00000196415</th></tr>\n",
       "\t<tr><th></th><th scope=col>&lt;dbl&gt;</th><th scope=col>&lt;dbl&gt;</th><th scope=col>&lt;dbl&gt;</th><th scope=col>&lt;dbl&gt;</th><th scope=col>&lt;dbl&gt;</th><th scope=col>&lt;dbl&gt;</th><th scope=col>&lt;dbl&gt;</th><th scope=col>&lt;dbl&gt;</th><th scope=col>&lt;dbl&gt;</th><th scope=col>&lt;dbl&gt;</th></tr>\n",
       "</thead>\n",
       "<tbody>\n",
       "\t<tr><th scope=row>ENSG00000129946</th><td> 1.000000000</td><td>-0.01695678</td><td> 0.01266588</td><td> 0.07064477</td><td>-0.007171051</td><td>-0.005084999</td><td> 0.011618176</td><td>-0.01330456</td><td>-0.09555396</td><td> 9.432530e-02</td></tr>\n",
       "\t<tr><th scope=row>ENSG00000099866</th><td>-0.016956775</td><td> 1.00000000</td><td> 0.02287341</td><td>-0.03485405</td><td>-0.084173419</td><td> 0.015583024</td><td> 0.133819561</td><td> 0.06560198</td><td>-0.04563455</td><td>-1.706756e-02</td></tr>\n",
       "\t<tr><th scope=row>ENSG00000099804</th><td> 0.012665879</td><td> 0.02287341</td><td> 1.00000000</td><td>-0.02879167</td><td>-0.217811133</td><td> 0.046366703</td><td> 0.026759459</td><td>-0.01978384</td><td>-0.04011687</td><td>-1.151160e-01</td></tr>\n",
       "\t<tr><th scope=row>ENSG00000197540</th><td> 0.070644775</td><td>-0.03485405</td><td>-0.02879167</td><td> 1.00000000</td><td> 0.077361376</td><td> 0.108567523</td><td>-0.005329572</td><td> 0.02641652</td><td>-0.03906661</td><td>-2.154328e-02</td></tr>\n",
       "\t<tr><th scope=row>ENSG00000172270</th><td>-0.007171051</td><td>-0.08417342</td><td>-0.21781113</td><td> 0.07736138</td><td> 1.000000000</td><td>-0.022704398</td><td> 0.023503678</td><td>-0.06177363</td><td>-0.04705718</td><td> 7.431272e-02</td></tr>\n",
       "\t<tr><th scope=row>ENSG00000099822</th><td>-0.005084999</td><td> 0.01558302</td><td> 0.04636670</td><td> 0.10856752</td><td>-0.022704398</td><td> 1.000000000</td><td>-0.069624441</td><td> 0.01501621</td><td> 0.01513233</td><td> 2.097045e-05</td></tr>\n",
       "</tbody>\n",
       "</table>\n"
      ],
      "text/latex": [
       "A data.frame: 6 × 10\n",
       "\\begin{tabular}{r|llllllllll}\n",
       "  & ENSG00000129946 & ENSG00000099866 & ENSG00000099804 & ENSG00000197540 & ENSG00000172270 & ENSG00000099822 & ENSG00000099821 & ENSG00000011304 & ENSG00000172232 & ENSG00000196415\\\\\n",
       "  & <dbl> & <dbl> & <dbl> & <dbl> & <dbl> & <dbl> & <dbl> & <dbl> & <dbl> & <dbl>\\\\\n",
       "\\hline\n",
       "\tENSG00000129946 &  1.000000000 & -0.01695678 &  0.01266588 &  0.07064477 & -0.007171051 & -0.005084999 &  0.011618176 & -0.01330456 & -0.09555396 &  9.432530e-02\\\\\n",
       "\tENSG00000099866 & -0.016956775 &  1.00000000 &  0.02287341 & -0.03485405 & -0.084173419 &  0.015583024 &  0.133819561 &  0.06560198 & -0.04563455 & -1.706756e-02\\\\\n",
       "\tENSG00000099804 &  0.012665879 &  0.02287341 &  1.00000000 & -0.02879167 & -0.217811133 &  0.046366703 &  0.026759459 & -0.01978384 & -0.04011687 & -1.151160e-01\\\\\n",
       "\tENSG00000197540 &  0.070644775 & -0.03485405 & -0.02879167 &  1.00000000 &  0.077361376 &  0.108567523 & -0.005329572 &  0.02641652 & -0.03906661 & -2.154328e-02\\\\\n",
       "\tENSG00000172270 & -0.007171051 & -0.08417342 & -0.21781113 &  0.07736138 &  1.000000000 & -0.022704398 &  0.023503678 & -0.06177363 & -0.04705718 &  7.431272e-02\\\\\n",
       "\tENSG00000099822 & -0.005084999 &  0.01558302 &  0.04636670 &  0.10856752 & -0.022704398 &  1.000000000 & -0.069624441 &  0.01501621 &  0.01513233 &  2.097045e-05\\\\\n",
       "\\end{tabular}\n"
      ],
      "text/markdown": [
       "\n",
       "A data.frame: 6 × 10\n",
       "\n",
       "| <!--/--> | ENSG00000129946 &lt;dbl&gt; | ENSG00000099866 &lt;dbl&gt; | ENSG00000099804 &lt;dbl&gt; | ENSG00000197540 &lt;dbl&gt; | ENSG00000172270 &lt;dbl&gt; | ENSG00000099822 &lt;dbl&gt; | ENSG00000099821 &lt;dbl&gt; | ENSG00000011304 &lt;dbl&gt; | ENSG00000172232 &lt;dbl&gt; | ENSG00000196415 &lt;dbl&gt; |\n",
       "|---|---|---|---|---|---|---|---|---|---|---|\n",
       "| ENSG00000129946 |  1.000000000 | -0.01695678 |  0.01266588 |  0.07064477 | -0.007171051 | -0.005084999 |  0.011618176 | -0.01330456 | -0.09555396 |  9.432530e-02 |\n",
       "| ENSG00000099866 | -0.016956775 |  1.00000000 |  0.02287341 | -0.03485405 | -0.084173419 |  0.015583024 |  0.133819561 |  0.06560198 | -0.04563455 | -1.706756e-02 |\n",
       "| ENSG00000099804 |  0.012665879 |  0.02287341 |  1.00000000 | -0.02879167 | -0.217811133 |  0.046366703 |  0.026759459 | -0.01978384 | -0.04011687 | -1.151160e-01 |\n",
       "| ENSG00000197540 |  0.070644775 | -0.03485405 | -0.02879167 |  1.00000000 |  0.077361376 |  0.108567523 | -0.005329572 |  0.02641652 | -0.03906661 | -2.154328e-02 |\n",
       "| ENSG00000172270 | -0.007171051 | -0.08417342 | -0.21781113 |  0.07736138 |  1.000000000 | -0.022704398 |  0.023503678 | -0.06177363 | -0.04705718 |  7.431272e-02 |\n",
       "| ENSG00000099822 | -0.005084999 |  0.01558302 |  0.04636670 |  0.10856752 | -0.022704398 |  1.000000000 | -0.069624441 |  0.01501621 |  0.01513233 |  2.097045e-05 |\n",
       "\n"
      ],
      "text/plain": [
       "                ENSG00000129946 ENSG00000099866 ENSG00000099804 ENSG00000197540\n",
       "ENSG00000129946  1.000000000    -0.01695678      0.01266588      0.07064477    \n",
       "ENSG00000099866 -0.016956775     1.00000000      0.02287341     -0.03485405    \n",
       "ENSG00000099804  0.012665879     0.02287341      1.00000000     -0.02879167    \n",
       "ENSG00000197540  0.070644775    -0.03485405     -0.02879167      1.00000000    \n",
       "ENSG00000172270 -0.007171051    -0.08417342     -0.21781113      0.07736138    \n",
       "ENSG00000099822 -0.005084999     0.01558302      0.04636670      0.10856752    \n",
       "                ENSG00000172270 ENSG00000099822 ENSG00000099821 ENSG00000011304\n",
       "ENSG00000129946 -0.007171051    -0.005084999     0.011618176    -0.01330456    \n",
       "ENSG00000099866 -0.084173419     0.015583024     0.133819561     0.06560198    \n",
       "ENSG00000099804 -0.217811133     0.046366703     0.026759459    -0.01978384    \n",
       "ENSG00000197540  0.077361376     0.108567523    -0.005329572     0.02641652    \n",
       "ENSG00000172270  1.000000000    -0.022704398     0.023503678    -0.06177363    \n",
       "ENSG00000099822 -0.022704398     1.000000000    -0.069624441     0.01501621    \n",
       "                ENSG00000172232 ENSG00000196415\n",
       "ENSG00000129946 -0.09555396      9.432530e-02  \n",
       "ENSG00000099866 -0.04563455     -1.706756e-02  \n",
       "ENSG00000099804 -0.04011687     -1.151160e-01  \n",
       "ENSG00000197540 -0.03906661     -2.154328e-02  \n",
       "ENSG00000172270 -0.04705718      7.431272e-02  \n",
       "ENSG00000099822  0.01513233      2.097045e-05  "
      ]
     },
     "metadata": {},
     "output_type": "display_data"
    }
   ],
   "source": [
    "head(gene_corrs[1:10, 1:10])"
   ]
  },
  {
   "cell_type": "markdown",
   "id": "c5c9ffba-1678-4ce7-8988-4ee03e23bdf2",
   "metadata": {
    "papermill": {
     "duration": 0.006965,
     "end_time": "2022-06-18T11:50:42.423617",
     "exception": false,
     "start_time": "2022-06-18T11:50:42.416652",
     "status": "completed"
    },
    "tags": []
   },
   "source": [
    "# Check positive definiteness"
   ]
  },
  {
   "cell_type": "code",
   "execution_count": 17,
   "id": "178854f5-487a-42e8-82b4-625c1979734a",
   "metadata": {
    "execution": {
     "iopub.execute_input": "2022-06-18T11:50:42.439422Z",
     "iopub.status.busy": "2022-06-18T11:50:42.438204Z",
     "iopub.status.idle": "2022-06-18T11:50:42.546164Z",
     "shell.execute_reply": "2022-06-18T11:50:42.544236Z"
    },
    "papermill": {
     "duration": 0.117144,
     "end_time": "2022-06-18T11:50:42.547794",
     "exception": false,
     "start_time": "2022-06-18T11:50:42.430650",
     "status": "completed"
    },
    "tags": []
   },
   "outputs": [
    {
     "data": {
      "text/html": [
       "'We need to correct the data and make the matrix positive definite'"
      ],
      "text/latex": [
       "'We need to correct the data and make the matrix positive definite'"
      ],
      "text/markdown": [
       "'We need to correct the data and make the matrix positive definite'"
      ],
      "text/plain": [
       "[1] \"We need to correct the data and make the matrix positive definite\""
      ]
     },
     "metadata": {},
     "output_type": "display_data"
    },
    {
     "data": {
      "text/html": [
       "FALSE"
      ],
      "text/latex": [
       "FALSE"
      ],
      "text/markdown": [
       "FALSE"
      ],
      "text/plain": [
       "[1] FALSE"
      ]
     },
     "metadata": {},
     "output_type": "display_data"
    }
   ],
   "source": [
    "is_positive_definite(gene_corrs)"
   ]
  },
  {
   "cell_type": "code",
   "execution_count": 18,
   "id": "58542ade-c80f-42e6-acbf-6464dab70fdb",
   "metadata": {
    "execution": {
     "iopub.execute_input": "2022-06-18T11:50:42.568454Z",
     "iopub.status.busy": "2022-06-18T11:50:42.567464Z",
     "iopub.status.idle": "2022-06-18T11:50:42.638516Z",
     "shell.execute_reply": "2022-06-18T11:50:42.636424Z"
    },
    "papermill": {
     "duration": 0.079646,
     "end_time": "2022-06-18T11:50:42.639994",
     "exception": false,
     "start_time": "2022-06-18T11:50:42.560348",
     "status": "completed"
    },
    "tags": []
   },
   "outputs": [],
   "source": [
    "# see eigenvalues\n",
    "eigenvalues <- eigen(gene_corrs)$values"
   ]
  },
  {
   "cell_type": "code",
   "execution_count": 19,
   "id": "9486e0db-e924-43ab-bb6c-0d997fd38f3d",
   "metadata": {
    "execution": {
     "iopub.execute_input": "2022-06-18T11:50:42.653789Z",
     "iopub.status.busy": "2022-06-18T11:50:42.652804Z",
     "iopub.status.idle": "2022-06-18T11:50:42.674716Z",
     "shell.execute_reply": "2022-06-18T11:50:42.672820Z"
    },
    "papermill": {
     "duration": 0.03012,
     "end_time": "2022-06-18T11:50:42.676201",
     "exception": false,
     "start_time": "2022-06-18T11:50:42.646081",
     "status": "completed"
    },
    "tags": []
   },
   "outputs": [
    {
     "data": {
      "text/html": [
       "115"
      ],
      "text/latex": [
       "115"
      ],
      "text/markdown": [
       "115"
      ],
      "text/plain": [
       "[1] 115"
      ]
     },
     "metadata": {},
     "output_type": "display_data"
    },
    {
     "data": {
      "text/html": [
       "<style>\n",
       ".list-inline {list-style: none; margin:0; padding: 0}\n",
       ".list-inline>li {display: inline-block}\n",
       ".list-inline>li:not(:last-child)::after {content: \"\\00b7\"; padding: 0 .5ex}\n",
       "</style>\n",
       "<ol class=list-inline><li>-0.0113606932551464</li><li>-0.017905725567319</li><li>-0.0204168102219597</li><li>-0.0221362097698368</li><li>-0.0301395198671583</li><li>-0.0513862182252377</li><li>-0.0530083361493085</li><li>-0.0543360111513085</li><li>-0.0642250941243692</li><li>-0.0728331055272307</li><li>-0.0846431949332542</li><li>-0.0970934621404052</li><li>-0.118302676411187</li><li>-0.128034367255703</li><li>-0.135195074184886</li><li>-0.138016478681856</li><li>-0.143500395403453</li><li>-0.147007228398352</li><li>-0.162119658018883</li><li>-0.17362235238441</li><li>-0.177020027437822</li><li>-0.179773900690943</li><li>-0.185442513112741</li><li>-0.195696356265673</li><li>-0.203846977521549</li><li>-0.224546520769433</li><li>-0.228067283541849</li><li>-0.237116781516259</li><li>-0.252970269086844</li><li>-0.253616128644807</li><li>-0.271900716807972</li><li>-0.279356663749265</li><li>-0.288439584045754</li><li>-0.299080392482264</li><li>-0.301064582654605</li><li>-0.331315175264801</li><li>-0.335484492899777</li><li>-0.341034106426947</li><li>-0.365140388279825</li><li>-0.370293715168527</li><li>-0.382703470258143</li><li>-0.399737215657646</li><li>-0.416053949930943</li><li>-0.416302342491703</li><li>-0.425092614383954</li><li>-0.443287823529566</li><li>-0.44412424587278</li><li>-0.453506900370741</li><li>-0.463483250207953</li><li>-0.467168010548143</li><li>-0.484003650122601</li><li>-0.496273295617184</li><li>-0.515464448964861</li><li>-0.53525152761592</li><li>-0.539184777610602</li><li>-0.549854259210584</li><li>-0.588831166828601</li><li>-0.591066954377023</li><li>-0.602347834657671</li><li>-0.610715596261191</li><li>-0.624963458451532</li><li>-0.629118007498207</li><li>-0.657310307807258</li><li>-0.679147873657163</li><li>-0.679210977301924</li><li>-0.69905699114076</li><li>-0.710030525802977</li><li>-0.760512691928456</li><li>-0.761310082764688</li><li>-0.786820920147675</li><li>-0.789075639284547</li><li>-0.805898526126912</li><li>-0.809256324285823</li><li>-0.833656178451615</li><li>-0.855337470904949</li><li>-0.876239163465855</li><li>-0.90081565364123</li><li>-0.905233241497918</li><li>-0.914888796082418</li><li>-0.920990444359979</li><li>-0.934811815782735</li><li>-0.997671719530931</li><li>-1.03515416368716</li><li>-1.06092579191987</li><li>-1.07910565111493</li><li>-1.09857625032826</li><li>-1.11063625348964</li><li>-1.12318606853341</li><li>-1.17004259574437</li><li>-1.18143537522721</li><li>-1.26360350281585</li><li>-1.26841751435614</li><li>-1.30526960327773</li><li>-1.35471671329818</li><li>-1.39773667854407</li><li>-1.4158587320824</li><li>-1.45518660371925</li><li>-1.50450802739357</li><li>-1.55253816841562</li><li>-1.57455307882461</li><li>-1.64455399274586</li><li>-1.70818171236244</li><li>-1.746122114855</li><li>-1.78521992701319</li><li>-1.80017133383633</li><li>-1.90032832358425</li><li>-1.98628311821013</li><li>-2.00781397433528</li><li>-2.15532985851876</li><li>-2.43728618416824</li><li>-2.60489236531322</li><li>-2.80907435185996</li><li>-3.17748310164828</li><li>-4.28457544903342</li><li>-5.48397845029504</li></ol>\n"
      ],
      "text/latex": [
       "\\begin{enumerate*}\n",
       "\\item -0.0113606932551464\n",
       "\\item -0.017905725567319\n",
       "\\item -0.0204168102219597\n",
       "\\item -0.0221362097698368\n",
       "\\item -0.0301395198671583\n",
       "\\item -0.0513862182252377\n",
       "\\item -0.0530083361493085\n",
       "\\item -0.0543360111513085\n",
       "\\item -0.0642250941243692\n",
       "\\item -0.0728331055272307\n",
       "\\item -0.0846431949332542\n",
       "\\item -0.0970934621404052\n",
       "\\item -0.118302676411187\n",
       "\\item -0.128034367255703\n",
       "\\item -0.135195074184886\n",
       "\\item -0.138016478681856\n",
       "\\item -0.143500395403453\n",
       "\\item -0.147007228398352\n",
       "\\item -0.162119658018883\n",
       "\\item -0.17362235238441\n",
       "\\item -0.177020027437822\n",
       "\\item -0.179773900690943\n",
       "\\item -0.185442513112741\n",
       "\\item -0.195696356265673\n",
       "\\item -0.203846977521549\n",
       "\\item -0.224546520769433\n",
       "\\item -0.228067283541849\n",
       "\\item -0.237116781516259\n",
       "\\item -0.252970269086844\n",
       "\\item -0.253616128644807\n",
       "\\item -0.271900716807972\n",
       "\\item -0.279356663749265\n",
       "\\item -0.288439584045754\n",
       "\\item -0.299080392482264\n",
       "\\item -0.301064582654605\n",
       "\\item -0.331315175264801\n",
       "\\item -0.335484492899777\n",
       "\\item -0.341034106426947\n",
       "\\item -0.365140388279825\n",
       "\\item -0.370293715168527\n",
       "\\item -0.382703470258143\n",
       "\\item -0.399737215657646\n",
       "\\item -0.416053949930943\n",
       "\\item -0.416302342491703\n",
       "\\item -0.425092614383954\n",
       "\\item -0.443287823529566\n",
       "\\item -0.44412424587278\n",
       "\\item -0.453506900370741\n",
       "\\item -0.463483250207953\n",
       "\\item -0.467168010548143\n",
       "\\item -0.484003650122601\n",
       "\\item -0.496273295617184\n",
       "\\item -0.515464448964861\n",
       "\\item -0.53525152761592\n",
       "\\item -0.539184777610602\n",
       "\\item -0.549854259210584\n",
       "\\item -0.588831166828601\n",
       "\\item -0.591066954377023\n",
       "\\item -0.602347834657671\n",
       "\\item -0.610715596261191\n",
       "\\item -0.624963458451532\n",
       "\\item -0.629118007498207\n",
       "\\item -0.657310307807258\n",
       "\\item -0.679147873657163\n",
       "\\item -0.679210977301924\n",
       "\\item -0.69905699114076\n",
       "\\item -0.710030525802977\n",
       "\\item -0.760512691928456\n",
       "\\item -0.761310082764688\n",
       "\\item -0.786820920147675\n",
       "\\item -0.789075639284547\n",
       "\\item -0.805898526126912\n",
       "\\item -0.809256324285823\n",
       "\\item -0.833656178451615\n",
       "\\item -0.855337470904949\n",
       "\\item -0.876239163465855\n",
       "\\item -0.90081565364123\n",
       "\\item -0.905233241497918\n",
       "\\item -0.914888796082418\n",
       "\\item -0.920990444359979\n",
       "\\item -0.934811815782735\n",
       "\\item -0.997671719530931\n",
       "\\item -1.03515416368716\n",
       "\\item -1.06092579191987\n",
       "\\item -1.07910565111493\n",
       "\\item -1.09857625032826\n",
       "\\item -1.11063625348964\n",
       "\\item -1.12318606853341\n",
       "\\item -1.17004259574437\n",
       "\\item -1.18143537522721\n",
       "\\item -1.26360350281585\n",
       "\\item -1.26841751435614\n",
       "\\item -1.30526960327773\n",
       "\\item -1.35471671329818\n",
       "\\item -1.39773667854407\n",
       "\\item -1.4158587320824\n",
       "\\item -1.45518660371925\n",
       "\\item -1.50450802739357\n",
       "\\item -1.55253816841562\n",
       "\\item -1.57455307882461\n",
       "\\item -1.64455399274586\n",
       "\\item -1.70818171236244\n",
       "\\item -1.746122114855\n",
       "\\item -1.78521992701319\n",
       "\\item -1.80017133383633\n",
       "\\item -1.90032832358425\n",
       "\\item -1.98628311821013\n",
       "\\item -2.00781397433528\n",
       "\\item -2.15532985851876\n",
       "\\item -2.43728618416824\n",
       "\\item -2.60489236531322\n",
       "\\item -2.80907435185996\n",
       "\\item -3.17748310164828\n",
       "\\item -4.28457544903342\n",
       "\\item -5.48397845029504\n",
       "\\end{enumerate*}\n"
      ],
      "text/markdown": [
       "1. -0.0113606932551464\n",
       "2. -0.017905725567319\n",
       "3. -0.0204168102219597\n",
       "4. -0.0221362097698368\n",
       "5. -0.0301395198671583\n",
       "6. -0.0513862182252377\n",
       "7. -0.0530083361493085\n",
       "8. -0.0543360111513085\n",
       "9. -0.0642250941243692\n",
       "10. -0.0728331055272307\n",
       "11. -0.0846431949332542\n",
       "12. -0.0970934621404052\n",
       "13. -0.118302676411187\n",
       "14. -0.128034367255703\n",
       "15. -0.135195074184886\n",
       "16. -0.138016478681856\n",
       "17. -0.143500395403453\n",
       "18. -0.147007228398352\n",
       "19. -0.162119658018883\n",
       "20. -0.17362235238441\n",
       "21. -0.177020027437822\n",
       "22. -0.179773900690943\n",
       "23. -0.185442513112741\n",
       "24. -0.195696356265673\n",
       "25. -0.203846977521549\n",
       "26. -0.224546520769433\n",
       "27. -0.228067283541849\n",
       "28. -0.237116781516259\n",
       "29. -0.252970269086844\n",
       "30. -0.253616128644807\n",
       "31. -0.271900716807972\n",
       "32. -0.279356663749265\n",
       "33. -0.288439584045754\n",
       "34. -0.299080392482264\n",
       "35. -0.301064582654605\n",
       "36. -0.331315175264801\n",
       "37. -0.335484492899777\n",
       "38. -0.341034106426947\n",
       "39. -0.365140388279825\n",
       "40. -0.370293715168527\n",
       "41. -0.382703470258143\n",
       "42. -0.399737215657646\n",
       "43. -0.416053949930943\n",
       "44. -0.416302342491703\n",
       "45. -0.425092614383954\n",
       "46. -0.443287823529566\n",
       "47. -0.44412424587278\n",
       "48. -0.453506900370741\n",
       "49. -0.463483250207953\n",
       "50. -0.467168010548143\n",
       "51. -0.484003650122601\n",
       "52. -0.496273295617184\n",
       "53. -0.515464448964861\n",
       "54. -0.53525152761592\n",
       "55. -0.539184777610602\n",
       "56. -0.549854259210584\n",
       "57. -0.588831166828601\n",
       "58. -0.591066954377023\n",
       "59. -0.602347834657671\n",
       "60. -0.610715596261191\n",
       "61. -0.624963458451532\n",
       "62. -0.629118007498207\n",
       "63. -0.657310307807258\n",
       "64. -0.679147873657163\n",
       "65. -0.679210977301924\n",
       "66. -0.69905699114076\n",
       "67. -0.710030525802977\n",
       "68. -0.760512691928456\n",
       "69. -0.761310082764688\n",
       "70. -0.786820920147675\n",
       "71. -0.789075639284547\n",
       "72. -0.805898526126912\n",
       "73. -0.809256324285823\n",
       "74. -0.833656178451615\n",
       "75. -0.855337470904949\n",
       "76. -0.876239163465855\n",
       "77. -0.90081565364123\n",
       "78. -0.905233241497918\n",
       "79. -0.914888796082418\n",
       "80. -0.920990444359979\n",
       "81. -0.934811815782735\n",
       "82. -0.997671719530931\n",
       "83. -1.03515416368716\n",
       "84. -1.06092579191987\n",
       "85. -1.07910565111493\n",
       "86. -1.09857625032826\n",
       "87. -1.11063625348964\n",
       "88. -1.12318606853341\n",
       "89. -1.17004259574437\n",
       "90. -1.18143537522721\n",
       "91. -1.26360350281585\n",
       "92. -1.26841751435614\n",
       "93. -1.30526960327773\n",
       "94. -1.35471671329818\n",
       "95. -1.39773667854407\n",
       "96. -1.4158587320824\n",
       "97. -1.45518660371925\n",
       "98. -1.50450802739357\n",
       "99. -1.55253816841562\n",
       "100. -1.57455307882461\n",
       "101. -1.64455399274586\n",
       "102. -1.70818171236244\n",
       "103. -1.746122114855\n",
       "104. -1.78521992701319\n",
       "105. -1.80017133383633\n",
       "106. -1.90032832358425\n",
       "107. -1.98628311821013\n",
       "108. -2.00781397433528\n",
       "109. -2.15532985851876\n",
       "110. -2.43728618416824\n",
       "111. -2.60489236531322\n",
       "112. -2.80907435185996\n",
       "113. -3.17748310164828\n",
       "114. -4.28457544903342\n",
       "115. -5.48397845029504\n",
       "\n",
       "\n"
      ],
      "text/plain": [
       "  [1] -0.01136069 -0.01790573 -0.02041681 -0.02213621 -0.03013952 -0.05138622\n",
       "  [7] -0.05300834 -0.05433601 -0.06422509 -0.07283311 -0.08464319 -0.09709346\n",
       " [13] -0.11830268 -0.12803437 -0.13519507 -0.13801648 -0.14350040 -0.14700723\n",
       " [19] -0.16211966 -0.17362235 -0.17702003 -0.17977390 -0.18544251 -0.19569636\n",
       " [25] -0.20384698 -0.22454652 -0.22806728 -0.23711678 -0.25297027 -0.25361613\n",
       " [31] -0.27190072 -0.27935666 -0.28843958 -0.29908039 -0.30106458 -0.33131518\n",
       " [37] -0.33548449 -0.34103411 -0.36514039 -0.37029372 -0.38270347 -0.39973722\n",
       " [43] -0.41605395 -0.41630234 -0.42509261 -0.44328782 -0.44412425 -0.45350690\n",
       " [49] -0.46348325 -0.46716801 -0.48400365 -0.49627330 -0.51546445 -0.53525153\n",
       " [55] -0.53918478 -0.54985426 -0.58883117 -0.59106695 -0.60234783 -0.61071560\n",
       " [61] -0.62496346 -0.62911801 -0.65731031 -0.67914787 -0.67921098 -0.69905699\n",
       " [67] -0.71003053 -0.76051269 -0.76131008 -0.78682092 -0.78907564 -0.80589853\n",
       " [73] -0.80925632 -0.83365618 -0.85533747 -0.87623916 -0.90081565 -0.90523324\n",
       " [79] -0.91488880 -0.92099044 -0.93481182 -0.99767172 -1.03515416 -1.06092579\n",
       " [85] -1.07910565 -1.09857625 -1.11063625 -1.12318607 -1.17004260 -1.18143538\n",
       " [91] -1.26360350 -1.26841751 -1.30526960 -1.35471671 -1.39773668 -1.41585873\n",
       " [97] -1.45518660 -1.50450803 -1.55253817 -1.57455308 -1.64455399 -1.70818171\n",
       "[103] -1.74612211 -1.78521993 -1.80017133 -1.90032832 -1.98628312 -2.00781397\n",
       "[109] -2.15532986 -2.43728618 -2.60489237 -2.80907435 -3.17748310 -4.28457545\n",
       "[115] -5.48397845"
      ]
     },
     "metadata": {},
     "output_type": "display_data"
    }
   ],
   "source": [
    "nonpositive_eigenvalues <- eigenvalues[eigenvalues <= 0]\n",
    "IRdisplay::display(length(nonpositive_eigenvalues))\n",
    "IRdisplay::display(nonpositive_eigenvalues)"
   ]
  },
  {
   "cell_type": "code",
   "execution_count": 20,
   "id": "410ee452-488f-4518-b93a-2acd608ba99c",
   "metadata": {
    "execution": {
     "iopub.execute_input": "2022-06-18T11:50:42.691258Z",
     "iopub.status.busy": "2022-06-18T11:50:42.690237Z",
     "iopub.status.idle": "2022-06-18T11:50:42.701160Z",
     "shell.execute_reply": "2022-06-18T11:50:42.699375Z"
    },
    "papermill": {
     "duration": 0.01976,
     "end_time": "2022-06-18T11:50:42.702831",
     "exception": false,
     "start_time": "2022-06-18T11:50:42.683071",
     "status": "completed"
    },
    "tags": []
   },
   "outputs": [],
   "source": [
    "if (length(eigenvalues[eigenvalues <= 0]) == 0) { quit() }"
   ]
  },
  {
   "cell_type": "markdown",
   "id": "2d280a82-f231-402d-82ab-9291d395afc1",
   "metadata": {
    "papermill": {
     "duration": 0.007042,
     "end_time": "2022-06-18T11:50:42.716290",
     "exception": false,
     "start_time": "2022-06-18T11:50:42.709248",
     "status": "completed"
    },
    "tags": []
   },
   "source": [
    "# Make matrix positive definite if needed"
   ]
  },
  {
   "cell_type": "code",
   "execution_count": 21,
   "id": "b9037873-4067-4ac6-aa92-e9225a6c9353",
   "metadata": {
    "execution": {
     "iopub.execute_input": "2022-06-18T11:50:42.730738Z",
     "iopub.status.busy": "2022-06-18T11:50:42.729727Z",
     "iopub.status.idle": "2022-06-18T11:50:43.072255Z",
     "shell.execute_reply": "2022-06-18T11:50:43.068861Z"
    },
    "papermill": {
     "duration": 0.351321,
     "end_time": "2022-06-18T11:50:43.073885",
     "exception": false,
     "start_time": "2022-06-18T11:50:42.722564",
     "status": "completed"
    },
    "tags": []
   },
   "outputs": [],
   "source": [
    "gene_corrs_corrected <- CorrectCM(gene_corrs, 1)"
   ]
  },
  {
   "cell_type": "code",
   "execution_count": 22,
   "id": "03c86284-5aac-4f66-86cc-74eb97102a7e",
   "metadata": {
    "execution": {
     "iopub.execute_input": "2022-06-18T11:50:43.108100Z",
     "iopub.status.busy": "2022-06-18T11:50:43.107075Z",
     "iopub.status.idle": "2022-06-18T11:50:43.120954Z",
     "shell.execute_reply": "2022-06-18T11:50:43.118398Z"
    },
    "papermill": {
     "duration": 0.034965,
     "end_time": "2022-06-18T11:50:43.122711",
     "exception": false,
     "start_time": "2022-06-18T11:50:43.087746",
     "status": "completed"
    },
    "tags": []
   },
   "outputs": [],
   "source": [
    "dimnames(gene_corrs_corrected)[[1]] <- rownames(gene_corrs)"
   ]
  },
  {
   "cell_type": "code",
   "execution_count": 23,
   "id": "576e7069-25ff-473d-8158-35b5f2ff212e",
   "metadata": {
    "execution": {
     "iopub.execute_input": "2022-06-18T11:50:43.157439Z",
     "iopub.status.busy": "2022-06-18T11:50:43.156428Z",
     "iopub.status.idle": "2022-06-18T11:50:43.166717Z",
     "shell.execute_reply": "2022-06-18T11:50:43.164847Z"
    },
    "papermill": {
     "duration": 0.027576,
     "end_time": "2022-06-18T11:50:43.168366",
     "exception": false,
     "start_time": "2022-06-18T11:50:43.140790",
     "status": "completed"
    },
    "tags": []
   },
   "outputs": [],
   "source": [
    "dimnames(gene_corrs_corrected)[[2]] <- colnames(gene_corrs)"
   ]
  },
  {
   "cell_type": "code",
   "execution_count": 24,
   "id": "f77d043a-321d-447f-8da5-2503981d3e73",
   "metadata": {
    "execution": {
     "iopub.execute_input": "2022-06-18T11:50:43.183907Z",
     "iopub.status.busy": "2022-06-18T11:50:43.182870Z",
     "iopub.status.idle": "2022-06-18T11:50:43.201550Z",
     "shell.execute_reply": "2022-06-18T11:50:43.199519Z"
    },
    "papermill": {
     "duration": 0.027951,
     "end_time": "2022-06-18T11:50:43.203265",
     "exception": false,
     "start_time": "2022-06-18T11:50:43.175314",
     "status": "completed"
    },
    "tags": []
   },
   "outputs": [],
   "source": [
    "gene_corrs_corrected <- as.data.frame(gene_corrs_corrected)"
   ]
  },
  {
   "cell_type": "code",
   "execution_count": 25,
   "id": "3e844024-f9a2-42a2-bbd0-695cfdbb78f5",
   "metadata": {
    "execution": {
     "iopub.execute_input": "2022-06-18T11:50:43.219459Z",
     "iopub.status.busy": "2022-06-18T11:50:43.218470Z",
     "iopub.status.idle": "2022-06-18T11:50:43.230482Z",
     "shell.execute_reply": "2022-06-18T11:50:43.229266Z"
    },
    "papermill": {
     "duration": 0.021385,
     "end_time": "2022-06-18T11:50:43.232224",
     "exception": false,
     "start_time": "2022-06-18T11:50:43.210839",
     "status": "completed"
    },
    "tags": []
   },
   "outputs": [
    {
     "data": {
      "text/html": [
       "<style>\n",
       ".list-inline {list-style: none; margin:0; padding: 0}\n",
       ".list-inline>li {display: inline-block}\n",
       ".list-inline>li:not(:last-child)::after {content: \"\\00b7\"; padding: 0 .5ex}\n",
       "</style>\n",
       "<ol class=list-inline><li>540</li><li>540</li></ol>\n"
      ],
      "text/latex": [
       "\\begin{enumerate*}\n",
       "\\item 540\n",
       "\\item 540\n",
       "\\end{enumerate*}\n"
      ],
      "text/markdown": [
       "1. 540\n",
       "2. 540\n",
       "\n",
       "\n"
      ],
      "text/plain": [
       "[1] 540 540"
      ]
     },
     "metadata": {},
     "output_type": "display_data"
    }
   ],
   "source": [
    "dim(gene_corrs_corrected)"
   ]
  },
  {
   "cell_type": "markdown",
   "id": "244b6bde-4ca8-46d1-acc7-b4c35b5d3c62",
   "metadata": {
    "papermill": {
     "duration": 0.007078,
     "end_time": "2022-06-18T11:50:43.246737",
     "exception": false,
     "start_time": "2022-06-18T11:50:43.239659",
     "status": "completed"
    },
    "tags": []
   },
   "source": [
    "# Check positive definiteness of corrected matrix"
   ]
  },
  {
   "cell_type": "code",
   "execution_count": 26,
   "id": "0fd5b688-e137-4619-910c-35130d32d600",
   "metadata": {
    "execution": {
     "iopub.execute_input": "2022-06-18T11:50:43.262772Z",
     "iopub.status.busy": "2022-06-18T11:50:43.261671Z",
     "iopub.status.idle": "2022-06-18T11:50:43.408756Z",
     "shell.execute_reply": "2022-06-18T11:50:43.405705Z"
    },
    "papermill": {
     "duration": 0.156734,
     "end_time": "2022-06-18T11:50:43.410432",
     "exception": false,
     "start_time": "2022-06-18T11:50:43.253698",
     "status": "completed"
    },
    "tags": []
   },
   "outputs": [
    {
     "data": {
      "text/html": [
       "'Matrix is already positive definite!'"
      ],
      "text/latex": [
       "'Matrix is already positive definite!'"
      ],
      "text/markdown": [
       "'Matrix is already positive definite!'"
      ],
      "text/plain": [
       "[1] \"Matrix is already positive definite!\""
      ]
     },
     "metadata": {},
     "output_type": "display_data"
    },
    {
     "data": {
      "text/html": [
       "TRUE"
      ],
      "text/latex": [
       "TRUE"
      ],
      "text/markdown": [
       "TRUE"
      ],
      "text/plain": [
       "[1] TRUE"
      ]
     },
     "metadata": {},
     "output_type": "display_data"
    }
   ],
   "source": [
    "is_positive_definite(gene_corrs_corrected)"
   ]
  },
  {
   "cell_type": "code",
   "execution_count": 27,
   "id": "06d23ab8-bebb-474c-be33-dca7e53c1717",
   "metadata": {
    "execution": {
     "iopub.execute_input": "2022-06-18T11:50:43.445105Z",
     "iopub.status.busy": "2022-06-18T11:50:43.444197Z",
     "iopub.status.idle": "2022-06-18T11:50:43.541985Z",
     "shell.execute_reply": "2022-06-18T11:50:43.540135Z"
    },
    "papermill": {
     "duration": 0.115045,
     "end_time": "2022-06-18T11:50:43.543537",
     "exception": false,
     "start_time": "2022-06-18T11:50:43.428492",
     "status": "completed"
    },
    "tags": []
   },
   "outputs": [],
   "source": [
    "# see eigenvalues\n",
    "eigenvalues <- eigen(gene_corrs_corrected)$values"
   ]
  },
  {
   "cell_type": "code",
   "execution_count": 28,
   "id": "ddf8afb8-e0e2-4b4e-876d-12bd6856c1ad",
   "metadata": {
    "execution": {
     "iopub.execute_input": "2022-06-18T11:50:43.559236Z",
     "iopub.status.busy": "2022-06-18T11:50:43.558259Z",
     "iopub.status.idle": "2022-06-18T11:50:43.664929Z",
     "shell.execute_reply": "2022-06-18T11:50:43.663684Z"
    },
    "papermill": {
     "duration": 0.116221,
     "end_time": "2022-06-18T11:50:43.666746",
     "exception": false,
     "start_time": "2022-06-18T11:50:43.550525",
     "status": "completed"
    },
    "tags": []
   },
   "outputs": [
    {
     "data": {
      "text/html": [
       "0"
      ],
      "text/latex": [
       "0"
      ],
      "text/markdown": [
       "0"
      ],
      "text/plain": [
       "[1] 0"
      ]
     },
     "metadata": {},
     "output_type": "display_data"
    },
    {
     "data": {
      "text/html": [],
      "text/latex": [],
      "text/markdown": [],
      "text/plain": [
       "numeric(0)"
      ]
     },
     "metadata": {},
     "output_type": "display_data"
    }
   ],
   "source": [
    "nonpositive_eigenvalues <- eigenvalues[eigenvalues <= 0]\n",
    "IRdisplay::display(length(nonpositive_eigenvalues))\n",
    "IRdisplay::display(nonpositive_eigenvalues)"
   ]
  },
  {
   "cell_type": "code",
   "execution_count": 29,
   "id": "712fd71a-b6ec-4a13-a956-80c99be7f585",
   "metadata": {
    "execution": {
     "iopub.execute_input": "2022-06-18T11:50:43.685153Z",
     "iopub.status.busy": "2022-06-18T11:50:43.684079Z",
     "iopub.status.idle": "2022-06-18T11:50:43.693551Z",
     "shell.execute_reply": "2022-06-18T11:50:43.692281Z"
    },
    "papermill": {
     "duration": 0.02051,
     "end_time": "2022-06-18T11:50:43.695393",
     "exception": false,
     "start_time": "2022-06-18T11:50:43.674883",
     "status": "completed"
    },
    "tags": []
   },
   "outputs": [],
   "source": [
    "stopifnot(length(eigenvalues[eigenvalues <= 0]) == 0)"
   ]
  },
  {
   "cell_type": "code",
   "execution_count": 30,
   "id": "786d6336-3844-40f7-979b-6d6028787f7f",
   "metadata": {
    "execution": {
     "iopub.execute_input": "2022-06-18T11:50:43.714597Z",
     "iopub.status.busy": "2022-06-18T11:50:43.713420Z",
     "iopub.status.idle": "2022-06-18T11:50:43.745011Z",
     "shell.execute_reply": "2022-06-18T11:50:43.743693Z"
    },
    "papermill": {
     "duration": 0.043041,
     "end_time": "2022-06-18T11:50:43.746950",
     "exception": false,
     "start_time": "2022-06-18T11:50:43.703909",
     "status": "completed"
    },
    "tags": []
   },
   "outputs": [
    {
     "data": {
      "text/html": [
       "<table class=\"dataframe\">\n",
       "<caption>A data.frame: 6 × 10</caption>\n",
       "<thead>\n",
       "\t<tr><th></th><th scope=col>ENSG00000129946</th><th scope=col>ENSG00000099866</th><th scope=col>ENSG00000099804</th><th scope=col>ENSG00000197540</th><th scope=col>ENSG00000172270</th><th scope=col>ENSG00000099822</th><th scope=col>ENSG00000099821</th><th scope=col>ENSG00000011304</th><th scope=col>ENSG00000172232</th><th scope=col>ENSG00000196415</th></tr>\n",
       "\t<tr><th></th><th scope=col>&lt;dbl&gt;</th><th scope=col>&lt;dbl&gt;</th><th scope=col>&lt;dbl&gt;</th><th scope=col>&lt;dbl&gt;</th><th scope=col>&lt;dbl&gt;</th><th scope=col>&lt;dbl&gt;</th><th scope=col>&lt;dbl&gt;</th><th scope=col>&lt;dbl&gt;</th><th scope=col>&lt;dbl&gt;</th><th scope=col>&lt;dbl&gt;</th></tr>\n",
       "</thead>\n",
       "<tbody>\n",
       "\t<tr><th scope=row>ENSG00000129946</th><td> 1.000000000</td><td>-0.01695678</td><td> 0.01266588</td><td> 0.07064477</td><td>-0.007171051</td><td>-0.005084999</td><td> 0.011618176</td><td>-0.01330456</td><td>-0.09555396</td><td> 9.432530e-02</td></tr>\n",
       "\t<tr><th scope=row>ENSG00000099866</th><td>-0.016956775</td><td> 1.00000000</td><td> 0.02287341</td><td>-0.03485405</td><td>-0.084173419</td><td> 0.015583024</td><td> 0.133819561</td><td> 0.06560198</td><td>-0.04563455</td><td>-1.706756e-02</td></tr>\n",
       "\t<tr><th scope=row>ENSG00000099804</th><td> 0.012665879</td><td> 0.02287341</td><td> 1.00000000</td><td>-0.02879167</td><td>-0.217811133</td><td> 0.046366703</td><td> 0.026759459</td><td>-0.01978384</td><td>-0.04011687</td><td>-1.151160e-01</td></tr>\n",
       "\t<tr><th scope=row>ENSG00000197540</th><td> 0.070644775</td><td>-0.03485405</td><td>-0.02879167</td><td> 1.00000000</td><td> 0.077361376</td><td> 0.108567523</td><td>-0.005329572</td><td> 0.02641652</td><td>-0.03906661</td><td>-2.154328e-02</td></tr>\n",
       "\t<tr><th scope=row>ENSG00000172270</th><td>-0.007171051</td><td>-0.08417342</td><td>-0.21781113</td><td> 0.07736138</td><td> 1.000000000</td><td>-0.022704398</td><td> 0.023503678</td><td>-0.06177363</td><td>-0.04705718</td><td> 7.431272e-02</td></tr>\n",
       "\t<tr><th scope=row>ENSG00000099822</th><td>-0.005084999</td><td> 0.01558302</td><td> 0.04636670</td><td> 0.10856752</td><td>-0.022704398</td><td> 1.000000000</td><td>-0.069624441</td><td> 0.01501621</td><td> 0.01513233</td><td> 2.097045e-05</td></tr>\n",
       "</tbody>\n",
       "</table>\n"
      ],
      "text/latex": [
       "A data.frame: 6 × 10\n",
       "\\begin{tabular}{r|llllllllll}\n",
       "  & ENSG00000129946 & ENSG00000099866 & ENSG00000099804 & ENSG00000197540 & ENSG00000172270 & ENSG00000099822 & ENSG00000099821 & ENSG00000011304 & ENSG00000172232 & ENSG00000196415\\\\\n",
       "  & <dbl> & <dbl> & <dbl> & <dbl> & <dbl> & <dbl> & <dbl> & <dbl> & <dbl> & <dbl>\\\\\n",
       "\\hline\n",
       "\tENSG00000129946 &  1.000000000 & -0.01695678 &  0.01266588 &  0.07064477 & -0.007171051 & -0.005084999 &  0.011618176 & -0.01330456 & -0.09555396 &  9.432530e-02\\\\\n",
       "\tENSG00000099866 & -0.016956775 &  1.00000000 &  0.02287341 & -0.03485405 & -0.084173419 &  0.015583024 &  0.133819561 &  0.06560198 & -0.04563455 & -1.706756e-02\\\\\n",
       "\tENSG00000099804 &  0.012665879 &  0.02287341 &  1.00000000 & -0.02879167 & -0.217811133 &  0.046366703 &  0.026759459 & -0.01978384 & -0.04011687 & -1.151160e-01\\\\\n",
       "\tENSG00000197540 &  0.070644775 & -0.03485405 & -0.02879167 &  1.00000000 &  0.077361376 &  0.108567523 & -0.005329572 &  0.02641652 & -0.03906661 & -2.154328e-02\\\\\n",
       "\tENSG00000172270 & -0.007171051 & -0.08417342 & -0.21781113 &  0.07736138 &  1.000000000 & -0.022704398 &  0.023503678 & -0.06177363 & -0.04705718 &  7.431272e-02\\\\\n",
       "\tENSG00000099822 & -0.005084999 &  0.01558302 &  0.04636670 &  0.10856752 & -0.022704398 &  1.000000000 & -0.069624441 &  0.01501621 &  0.01513233 &  2.097045e-05\\\\\n",
       "\\end{tabular}\n"
      ],
      "text/markdown": [
       "\n",
       "A data.frame: 6 × 10\n",
       "\n",
       "| <!--/--> | ENSG00000129946 &lt;dbl&gt; | ENSG00000099866 &lt;dbl&gt; | ENSG00000099804 &lt;dbl&gt; | ENSG00000197540 &lt;dbl&gt; | ENSG00000172270 &lt;dbl&gt; | ENSG00000099822 &lt;dbl&gt; | ENSG00000099821 &lt;dbl&gt; | ENSG00000011304 &lt;dbl&gt; | ENSG00000172232 &lt;dbl&gt; | ENSG00000196415 &lt;dbl&gt; |\n",
       "|---|---|---|---|---|---|---|---|---|---|---|\n",
       "| ENSG00000129946 |  1.000000000 | -0.01695678 |  0.01266588 |  0.07064477 | -0.007171051 | -0.005084999 |  0.011618176 | -0.01330456 | -0.09555396 |  9.432530e-02 |\n",
       "| ENSG00000099866 | -0.016956775 |  1.00000000 |  0.02287341 | -0.03485405 | -0.084173419 |  0.015583024 |  0.133819561 |  0.06560198 | -0.04563455 | -1.706756e-02 |\n",
       "| ENSG00000099804 |  0.012665879 |  0.02287341 |  1.00000000 | -0.02879167 | -0.217811133 |  0.046366703 |  0.026759459 | -0.01978384 | -0.04011687 | -1.151160e-01 |\n",
       "| ENSG00000197540 |  0.070644775 | -0.03485405 | -0.02879167 |  1.00000000 |  0.077361376 |  0.108567523 | -0.005329572 |  0.02641652 | -0.03906661 | -2.154328e-02 |\n",
       "| ENSG00000172270 | -0.007171051 | -0.08417342 | -0.21781113 |  0.07736138 |  1.000000000 | -0.022704398 |  0.023503678 | -0.06177363 | -0.04705718 |  7.431272e-02 |\n",
       "| ENSG00000099822 | -0.005084999 |  0.01558302 |  0.04636670 |  0.10856752 | -0.022704398 |  1.000000000 | -0.069624441 |  0.01501621 |  0.01513233 |  2.097045e-05 |\n",
       "\n"
      ],
      "text/plain": [
       "                ENSG00000129946 ENSG00000099866 ENSG00000099804 ENSG00000197540\n",
       "ENSG00000129946  1.000000000    -0.01695678      0.01266588      0.07064477    \n",
       "ENSG00000099866 -0.016956775     1.00000000      0.02287341     -0.03485405    \n",
       "ENSG00000099804  0.012665879     0.02287341      1.00000000     -0.02879167    \n",
       "ENSG00000197540  0.070644775    -0.03485405     -0.02879167      1.00000000    \n",
       "ENSG00000172270 -0.007171051    -0.08417342     -0.21781113      0.07736138    \n",
       "ENSG00000099822 -0.005084999     0.01558302      0.04636670      0.10856752    \n",
       "                ENSG00000172270 ENSG00000099822 ENSG00000099821 ENSG00000011304\n",
       "ENSG00000129946 -0.007171051    -0.005084999     0.011618176    -0.01330456    \n",
       "ENSG00000099866 -0.084173419     0.015583024     0.133819561     0.06560198    \n",
       "ENSG00000099804 -0.217811133     0.046366703     0.026759459    -0.01978384    \n",
       "ENSG00000197540  0.077361376     0.108567523    -0.005329572     0.02641652    \n",
       "ENSG00000172270  1.000000000    -0.022704398     0.023503678    -0.06177363    \n",
       "ENSG00000099822 -0.022704398     1.000000000    -0.069624441     0.01501621    \n",
       "                ENSG00000172232 ENSG00000196415\n",
       "ENSG00000129946 -0.09555396      9.432530e-02  \n",
       "ENSG00000099866 -0.04563455     -1.706756e-02  \n",
       "ENSG00000099804 -0.04011687     -1.151160e-01  \n",
       "ENSG00000197540 -0.03906661     -2.154328e-02  \n",
       "ENSG00000172270 -0.04705718      7.431272e-02  \n",
       "ENSG00000099822  0.01513233      2.097045e-05  "
      ]
     },
     "metadata": {},
     "output_type": "display_data"
    },
    {
     "data": {
      "text/html": [
       "<table class=\"dataframe\">\n",
       "<caption>A data.frame: 6 × 10</caption>\n",
       "<thead>\n",
       "\t<tr><th></th><th scope=col>ENSG00000129946</th><th scope=col>ENSG00000099866</th><th scope=col>ENSG00000099804</th><th scope=col>ENSG00000197540</th><th scope=col>ENSG00000172270</th><th scope=col>ENSG00000099822</th><th scope=col>ENSG00000099821</th><th scope=col>ENSG00000011304</th><th scope=col>ENSG00000172232</th><th scope=col>ENSG00000196415</th></tr>\n",
       "\t<tr><th></th><th scope=col>&lt;dbl&gt;</th><th scope=col>&lt;dbl&gt;</th><th scope=col>&lt;dbl&gt;</th><th scope=col>&lt;dbl&gt;</th><th scope=col>&lt;dbl&gt;</th><th scope=col>&lt;dbl&gt;</th><th scope=col>&lt;dbl&gt;</th><th scope=col>&lt;dbl&gt;</th><th scope=col>&lt;dbl&gt;</th><th scope=col>&lt;dbl&gt;</th></tr>\n",
       "</thead>\n",
       "<tbody>\n",
       "\t<tr><th scope=row>ENSG00000129946</th><td> 1.000000000</td><td> 2.547019e-02</td><td>-0.002709085</td><td> 3.277208e-02</td><td> 0.002030447</td><td> 0.008470579</td><td>-0.006152145</td><td>-0.014888669</td><td>-0.043178442</td><td> 0.0583894298</td></tr>\n",
       "\t<tr><th scope=row>ENSG00000099866</th><td> 0.025470192</td><td> 1.000000e+00</td><td> 0.012474164</td><td> 5.611906e-05</td><td>-0.027287306</td><td>-0.005948942</td><td> 0.040720592</td><td> 0.048897984</td><td> 0.015820495</td><td>-0.0385978192</td></tr>\n",
       "\t<tr><th scope=row>ENSG00000099804</th><td>-0.002709085</td><td> 1.247416e-02</td><td> 1.000000000</td><td>-2.346554e-02</td><td>-0.101258284</td><td> 0.008752329</td><td> 0.022641420</td><td>-0.001210648</td><td>-0.013212328</td><td>-0.0570643847</td></tr>\n",
       "\t<tr><th scope=row>ENSG00000197540</th><td> 0.032772083</td><td> 5.611906e-05</td><td>-0.023465544</td><td> 1.000000e+00</td><td> 0.060788697</td><td> 0.054300357</td><td>-0.027272314</td><td> 0.005990444</td><td>-0.016616806</td><td>-0.0019063233</td></tr>\n",
       "\t<tr><th scope=row>ENSG00000172270</th><td> 0.002030447</td><td>-2.728731e-02</td><td>-0.101258284</td><td> 6.078870e-02</td><td> 1.000000000</td><td> 0.014532654</td><td>-0.012761344</td><td>-0.069060513</td><td>-0.006831454</td><td> 0.0319498193</td></tr>\n",
       "\t<tr><th scope=row>ENSG00000099822</th><td> 0.008470579</td><td>-5.948942e-03</td><td> 0.008752329</td><td> 5.430036e-02</td><td> 0.014532654</td><td> 1.000000000</td><td>-0.044776900</td><td> 0.021578927</td><td> 0.021745899</td><td>-0.0001460568</td></tr>\n",
       "</tbody>\n",
       "</table>\n"
      ],
      "text/latex": [
       "A data.frame: 6 × 10\n",
       "\\begin{tabular}{r|llllllllll}\n",
       "  & ENSG00000129946 & ENSG00000099866 & ENSG00000099804 & ENSG00000197540 & ENSG00000172270 & ENSG00000099822 & ENSG00000099821 & ENSG00000011304 & ENSG00000172232 & ENSG00000196415\\\\\n",
       "  & <dbl> & <dbl> & <dbl> & <dbl> & <dbl> & <dbl> & <dbl> & <dbl> & <dbl> & <dbl>\\\\\n",
       "\\hline\n",
       "\tENSG00000129946 &  1.000000000 &  2.547019e-02 & -0.002709085 &  3.277208e-02 &  0.002030447 &  0.008470579 & -0.006152145 & -0.014888669 & -0.043178442 &  0.0583894298\\\\\n",
       "\tENSG00000099866 &  0.025470192 &  1.000000e+00 &  0.012474164 &  5.611906e-05 & -0.027287306 & -0.005948942 &  0.040720592 &  0.048897984 &  0.015820495 & -0.0385978192\\\\\n",
       "\tENSG00000099804 & -0.002709085 &  1.247416e-02 &  1.000000000 & -2.346554e-02 & -0.101258284 &  0.008752329 &  0.022641420 & -0.001210648 & -0.013212328 & -0.0570643847\\\\\n",
       "\tENSG00000197540 &  0.032772083 &  5.611906e-05 & -0.023465544 &  1.000000e+00 &  0.060788697 &  0.054300357 & -0.027272314 &  0.005990444 & -0.016616806 & -0.0019063233\\\\\n",
       "\tENSG00000172270 &  0.002030447 & -2.728731e-02 & -0.101258284 &  6.078870e-02 &  1.000000000 &  0.014532654 & -0.012761344 & -0.069060513 & -0.006831454 &  0.0319498193\\\\\n",
       "\tENSG00000099822 &  0.008470579 & -5.948942e-03 &  0.008752329 &  5.430036e-02 &  0.014532654 &  1.000000000 & -0.044776900 &  0.021578927 &  0.021745899 & -0.0001460568\\\\\n",
       "\\end{tabular}\n"
      ],
      "text/markdown": [
       "\n",
       "A data.frame: 6 × 10\n",
       "\n",
       "| <!--/--> | ENSG00000129946 &lt;dbl&gt; | ENSG00000099866 &lt;dbl&gt; | ENSG00000099804 &lt;dbl&gt; | ENSG00000197540 &lt;dbl&gt; | ENSG00000172270 &lt;dbl&gt; | ENSG00000099822 &lt;dbl&gt; | ENSG00000099821 &lt;dbl&gt; | ENSG00000011304 &lt;dbl&gt; | ENSG00000172232 &lt;dbl&gt; | ENSG00000196415 &lt;dbl&gt; |\n",
       "|---|---|---|---|---|---|---|---|---|---|---|\n",
       "| ENSG00000129946 |  1.000000000 |  2.547019e-02 | -0.002709085 |  3.277208e-02 |  0.002030447 |  0.008470579 | -0.006152145 | -0.014888669 | -0.043178442 |  0.0583894298 |\n",
       "| ENSG00000099866 |  0.025470192 |  1.000000e+00 |  0.012474164 |  5.611906e-05 | -0.027287306 | -0.005948942 |  0.040720592 |  0.048897984 |  0.015820495 | -0.0385978192 |\n",
       "| ENSG00000099804 | -0.002709085 |  1.247416e-02 |  1.000000000 | -2.346554e-02 | -0.101258284 |  0.008752329 |  0.022641420 | -0.001210648 | -0.013212328 | -0.0570643847 |\n",
       "| ENSG00000197540 |  0.032772083 |  5.611906e-05 | -0.023465544 |  1.000000e+00 |  0.060788697 |  0.054300357 | -0.027272314 |  0.005990444 | -0.016616806 | -0.0019063233 |\n",
       "| ENSG00000172270 |  0.002030447 | -2.728731e-02 | -0.101258284 |  6.078870e-02 |  1.000000000 |  0.014532654 | -0.012761344 | -0.069060513 | -0.006831454 |  0.0319498193 |\n",
       "| ENSG00000099822 |  0.008470579 | -5.948942e-03 |  0.008752329 |  5.430036e-02 |  0.014532654 |  1.000000000 | -0.044776900 |  0.021578927 |  0.021745899 | -0.0001460568 |\n",
       "\n"
      ],
      "text/plain": [
       "                ENSG00000129946 ENSG00000099866 ENSG00000099804 ENSG00000197540\n",
       "ENSG00000129946  1.000000000     2.547019e-02   -0.002709085     3.277208e-02  \n",
       "ENSG00000099866  0.025470192     1.000000e+00    0.012474164     5.611906e-05  \n",
       "ENSG00000099804 -0.002709085     1.247416e-02    1.000000000    -2.346554e-02  \n",
       "ENSG00000197540  0.032772083     5.611906e-05   -0.023465544     1.000000e+00  \n",
       "ENSG00000172270  0.002030447    -2.728731e-02   -0.101258284     6.078870e-02  \n",
       "ENSG00000099822  0.008470579    -5.948942e-03    0.008752329     5.430036e-02  \n",
       "                ENSG00000172270 ENSG00000099822 ENSG00000099821 ENSG00000011304\n",
       "ENSG00000129946  0.002030447     0.008470579    -0.006152145    -0.014888669   \n",
       "ENSG00000099866 -0.027287306    -0.005948942     0.040720592     0.048897984   \n",
       "ENSG00000099804 -0.101258284     0.008752329     0.022641420    -0.001210648   \n",
       "ENSG00000197540  0.060788697     0.054300357    -0.027272314     0.005990444   \n",
       "ENSG00000172270  1.000000000     0.014532654    -0.012761344    -0.069060513   \n",
       "ENSG00000099822  0.014532654     1.000000000    -0.044776900     0.021578927   \n",
       "                ENSG00000172232 ENSG00000196415\n",
       "ENSG00000129946 -0.043178442     0.0583894298  \n",
       "ENSG00000099866  0.015820495    -0.0385978192  \n",
       "ENSG00000099804 -0.013212328    -0.0570643847  \n",
       "ENSG00000197540 -0.016616806    -0.0019063233  \n",
       "ENSG00000172270 -0.006831454     0.0319498193  \n",
       "ENSG00000099822  0.021745899    -0.0001460568  "
      ]
     },
     "metadata": {},
     "output_type": "display_data"
    }
   ],
   "source": [
    "# quick and visual comparison of the two matrices\n",
    "IRdisplay::display(head(gene_corrs[1:10, 1:10]))\n",
    "IRdisplay::display(head(gene_corrs_corrected[1:10, 1:10]))"
   ]
  },
  {
   "cell_type": "markdown",
   "id": "c6c40f1a-d153-475a-94eb-c71697ad9d51",
   "metadata": {
    "papermill": {
     "duration": 0.009154,
     "end_time": "2022-06-18T11:50:43.765117",
     "exception": false,
     "start_time": "2022-06-18T11:50:43.755963",
     "status": "completed"
    },
    "tags": []
   },
   "source": [
    "Both matrices should \"look\" similar. We are not interested in perfectly accurate correlation values (they are already inaccurate)."
   ]
  },
  {
   "cell_type": "markdown",
   "id": "bf0f49cb-9c21-4616-8390-bb68d52dae56",
   "metadata": {
    "papermill": {
     "duration": 0.008973,
     "end_time": "2022-06-18T11:50:43.783184",
     "exception": false,
     "start_time": "2022-06-18T11:50:43.774211",
     "status": "completed"
    },
    "tags": []
   },
   "source": [
    "# Save"
   ]
  },
  {
   "cell_type": "code",
   "execution_count": 31,
   "id": "2e58e7f3-a75c-4195-a20e-39e3e3e1cc9a",
   "metadata": {
    "execution": {
     "iopub.execute_input": "2022-06-18T11:50:43.804759Z",
     "iopub.status.busy": "2022-06-18T11:50:43.802693Z",
     "iopub.status.idle": "2022-06-18T11:50:43.841937Z",
     "shell.execute_reply": "2022-06-18T11:50:43.840528Z"
    },
    "papermill": {
     "duration": 0.051568,
     "end_time": "2022-06-18T11:50:43.843943",
     "exception": false,
     "start_time": "2022-06-18T11:50:43.792375",
     "status": "completed"
    },
    "tags": []
   },
   "outputs": [],
   "source": [
    "py_save_object(gene_corrs_corrected, OUTPUT_FILE)"
   ]
  },
  {
   "cell_type": "code",
   "execution_count": null,
   "id": "d8ae4220-2171-460c-9231-cd5219f3fe77",
   "metadata": {
    "papermill": {
     "duration": 0.00887,
     "end_time": "2022-06-18T11:50:43.862670",
     "exception": false,
     "start_time": "2022-06-18T11:50:43.853800",
     "status": "completed"
    },
    "tags": []
   },
   "outputs": [],
   "source": []
  }
 ],
 "metadata": {
  "jupytext": {
   "cell_metadata_filter": "all,-execution,-papermill,-trusted"
  },
  "kernelspec": {
   "display_name": "R",
   "language": "R",
   "name": "ir"
  },
  "language_info": {
   "codemirror_mode": "r",
   "file_extension": ".r",
   "mimetype": "text/x-r-source",
   "name": "R",
   "pygments_lexer": "r",
   "version": "3.6.3"
  },
  "papermill": {
   "default_parameters": {},
   "duration": 6.927752,
   "end_time": "2022-06-18T11:50:43.987867",
   "environment_variables": {},
   "exception": null,
   "input_path": "nbs/15_gsa_gls/12-gene_expr_correlations-adjust.ipynb",
   "output_path": "nbs/15_gsa_gls/gene_corrs/gtex_v8/mashr/12-gene_expr_correlations-adjust-chr19.run.ipynb",
   "parameters": {
    "EQTL_MODEL": "MASHR",
    "REFERENCE_PANEL": "GTEX_V8",
    "chromosome": 19
   },
   "start_time": "2022-06-18T11:50:37.060115",
   "version": "2.3.4"
  }
 },
 "nbformat": 4,
 "nbformat_minor": 5
}
