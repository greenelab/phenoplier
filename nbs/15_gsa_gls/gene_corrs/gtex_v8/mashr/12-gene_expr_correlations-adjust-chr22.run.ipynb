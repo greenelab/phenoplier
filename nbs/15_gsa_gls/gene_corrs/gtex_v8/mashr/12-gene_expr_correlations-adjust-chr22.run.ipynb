{
 "cells": [
  {
   "cell_type": "markdown",
   "id": "6c1f0ae4-cd27-4fec-a23d-51699e7059e8",
   "metadata": {
    "papermill": {
     "duration": 0.005291,
     "end_time": "2022-06-18T11:50:46.211231",
     "exception": false,
     "start_time": "2022-06-18T11:50:46.205940",
     "status": "completed"
    },
    "tags": []
   },
   "source": [
    "# Description"
   ]
  },
  {
   "cell_type": "markdown",
   "id": "3268a19a-8a83-4f61-aa39-09b084c81d61",
   "metadata": {
    "papermill": {
     "duration": 0.00441,
     "end_time": "2022-06-18T11:50:46.220085",
     "exception": false,
     "start_time": "2022-06-18T11:50:46.215675",
     "status": "completed"
    },
    "tags": []
   },
   "source": [
    "**TODO**"
   ]
  },
  {
   "cell_type": "markdown",
   "id": "401368d3-22c1-4d81-a2c3-c4a81fde4191",
   "metadata": {
    "papermill": {
     "duration": 0.004091,
     "end_time": "2022-06-18T11:50:46.228305",
     "exception": false,
     "start_time": "2022-06-18T11:50:46.224214",
     "status": "completed"
    },
    "tags": []
   },
   "source": [
    "# Modules"
   ]
  },
  {
   "cell_type": "code",
   "execution_count": 1,
   "id": "f9b5022b-7c5e-4d37-9c7a-fdb91777c7f9",
   "metadata": {
    "execution": {
     "iopub.execute_input": "2022-06-18T11:50:46.262303Z",
     "iopub.status.busy": "2022-06-18T11:50:46.260694Z",
     "iopub.status.idle": "2022-06-18T11:50:49.042556Z",
     "shell.execute_reply": "2022-06-18T11:50:49.041379Z"
    },
    "papermill": {
     "duration": 2.81182,
     "end_time": "2022-06-18T11:50:49.044149",
     "exception": false,
     "start_time": "2022-06-18T11:50:46.232329",
     "status": "completed"
    },
    "tags": []
   },
   "outputs": [],
   "source": [
    "library(reticulate)\n",
    "pd <- import(\"pandas\")"
   ]
  },
  {
   "cell_type": "markdown",
   "id": "c1958d6a-0229-47e8-823e-792fcf84fccf",
   "metadata": {
    "papermill": {
     "duration": 0.003905,
     "end_time": "2022-06-18T11:50:49.052170",
     "exception": false,
     "start_time": "2022-06-18T11:50:49.048265",
     "status": "completed"
    },
    "tags": []
   },
   "source": [
    "# Settings"
   ]
  },
  {
   "cell_type": "code",
   "execution_count": 2,
   "id": "22d12bb4-1699-4a6b-b1b9-d3fdd3d547d7",
   "metadata": {
    "execution": {
     "iopub.execute_input": "2022-06-18T11:50:49.079708Z",
     "iopub.status.busy": "2022-06-18T11:50:49.060882Z",
     "iopub.status.idle": "2022-06-18T11:50:49.090154Z",
     "shell.execute_reply": "2022-06-18T11:50:49.089123Z"
    },
    "papermill": {
     "duration": 0.035554,
     "end_time": "2022-06-18T11:50:49.091645",
     "exception": false,
     "start_time": "2022-06-18T11:50:49.056091",
     "status": "completed"
    },
    "tags": [
     "parameters"
    ]
   },
   "outputs": [],
   "source": [
    "# reference panel\n",
    "REFERENCE_PANEL <- \"GTEX_V8\"\n",
    "# REFERENCE_PANEL = \"1000G\"\n",
    "\n",
    "# prediction models\n",
    "## mashr\n",
    "EQTL_MODEL <- \"MASHR\"\n",
    "\n",
    "# ## elastic net\n",
    "# EQTL_MODEL = \"ELASTIC_NET\"\n",
    "\n",
    "chromosome <- NULL"
   ]
  },
  {
   "cell_type": "code",
   "execution_count": 3,
   "id": "c2d9660e",
   "metadata": {
    "execution": {
     "iopub.execute_input": "2022-06-18T11:50:49.101694Z",
     "iopub.status.busy": "2022-06-18T11:50:49.100796Z",
     "iopub.status.idle": "2022-06-18T11:50:49.116219Z",
     "shell.execute_reply": "2022-06-18T11:50:49.115075Z"
    },
    "papermill": {
     "duration": 0.021976,
     "end_time": "2022-06-18T11:50:49.117872",
     "exception": false,
     "start_time": "2022-06-18T11:50:49.095896",
     "status": "completed"
    },
    "tags": [
     "injected-parameters"
    ]
   },
   "outputs": [],
   "source": [
    "# Parameters\n",
    "chromosome = 22\n",
    "REFERENCE_PANEL = \"GTEX_V8\"\n",
    "EQTL_MODEL = \"MASHR\"\n"
   ]
  },
  {
   "cell_type": "code",
   "execution_count": 4,
   "id": "8fe24bef",
   "metadata": {
    "execution": {
     "iopub.execute_input": "2022-06-18T11:50:49.129082Z",
     "iopub.status.busy": "2022-06-18T11:50:49.128149Z",
     "iopub.status.idle": "2022-06-18T11:50:49.139638Z",
     "shell.execute_reply": "2022-06-18T11:50:49.138550Z"
    },
    "papermill": {
     "duration": 0.01857,
     "end_time": "2022-06-18T11:50:49.141260",
     "exception": false,
     "start_time": "2022-06-18T11:50:49.122690",
     "status": "completed"
    },
    "tags": []
   },
   "outputs": [
    {
     "data": {
      "text/html": [
       "'Using reference panel: GTEX_V8'"
      ],
      "text/latex": [
       "'Using reference panel: GTEX\\_V8'"
      ],
      "text/markdown": [
       "'Using reference panel: GTEX_V8'"
      ],
      "text/plain": [
       "[1] \"Using reference panel: GTEX_V8\""
      ]
     },
     "metadata": {},
     "output_type": "display_data"
    }
   ],
   "source": [
    "paste0(\"Using reference panel: \", REFERENCE_PANEL)"
   ]
  },
  {
   "cell_type": "code",
   "execution_count": 5,
   "id": "d62c28f8-186c-478b-948c-58e14f00df4b",
   "metadata": {
    "execution": {
     "iopub.execute_input": "2022-06-18T11:50:49.152639Z",
     "iopub.status.busy": "2022-06-18T11:50:49.151683Z",
     "iopub.status.idle": "2022-06-18T11:50:49.161818Z",
     "shell.execute_reply": "2022-06-18T11:50:49.160711Z"
    },
    "papermill": {
     "duration": 0.017281,
     "end_time": "2022-06-18T11:50:49.163389",
     "exception": false,
     "start_time": "2022-06-18T11:50:49.146108",
     "status": "completed"
    },
    "tags": []
   },
   "outputs": [
    {
     "data": {
      "text/html": [
       "'Using eQTL model: MASHR'"
      ],
      "text/latex": [
       "'Using eQTL model: MASHR'"
      ],
      "text/markdown": [
       "'Using eQTL model: MASHR'"
      ],
      "text/plain": [
       "[1] \"Using eQTL model: MASHR\""
      ]
     },
     "metadata": {},
     "output_type": "display_data"
    }
   ],
   "source": [
    "paste0(\"Using eQTL model: \", EQTL_MODEL)"
   ]
  },
  {
   "cell_type": "code",
   "execution_count": 6,
   "id": "5243676f-c889-4405-9a4d-262f0f044614",
   "metadata": {
    "execution": {
     "iopub.execute_input": "2022-06-18T11:50:49.174925Z",
     "iopub.status.busy": "2022-06-18T11:50:49.173965Z",
     "iopub.status.idle": "2022-06-18T11:50:49.182404Z",
     "shell.execute_reply": "2022-06-18T11:50:49.181283Z"
    },
    "papermill": {
     "duration": 0.015608,
     "end_time": "2022-06-18T11:50:49.183917",
     "exception": false,
     "start_time": "2022-06-18T11:50:49.168309",
     "status": "completed"
    },
    "tags": []
   },
   "outputs": [],
   "source": [
    "# chromosome must be provided as parameter\n",
    "stopifnot(!is.null(chromosome))"
   ]
  },
  {
   "cell_type": "markdown",
   "id": "83a49773-bcf5-44c4-8d9b-a6ac65a57ec6",
   "metadata": {
    "papermill": {
     "duration": 0.004714,
     "end_time": "2022-06-18T11:50:49.194076",
     "exception": false,
     "start_time": "2022-06-18T11:50:49.189362",
     "status": "completed"
    },
    "tags": []
   },
   "source": [
    "# Paths"
   ]
  },
  {
   "cell_type": "code",
   "execution_count": 7,
   "id": "eb6aa8aa-b452-4a2f-a780-93dd80ad4285",
   "metadata": {
    "execution": {
     "iopub.execute_input": "2022-06-18T11:50:49.204643Z",
     "iopub.status.busy": "2022-06-18T11:50:49.203778Z",
     "iopub.status.idle": "2022-06-18T11:50:49.214540Z",
     "shell.execute_reply": "2022-06-18T11:50:49.213496Z"
    },
    "papermill": {
     "duration": 0.017423,
     "end_time": "2022-06-18T11:50:49.216048",
     "exception": false,
     "start_time": "2022-06-18T11:50:49.198625",
     "status": "completed"
    },
    "tags": []
   },
   "outputs": [
    {
     "data": {
      "text/html": [
       "'/opt/data/data/phenomexcan/ld_blocks/gene_corrs'"
      ],
      "text/latex": [
       "'/opt/data/data/phenomexcan/ld\\_blocks/gene\\_corrs'"
      ],
      "text/markdown": [
       "'/opt/data/data/phenomexcan/ld_blocks/gene_corrs'"
      ],
      "text/plain": [
       "[1] \"/opt/data/data/phenomexcan/ld_blocks/gene_corrs\""
      ]
     },
     "metadata": {},
     "output_type": "display_data"
    }
   ],
   "source": [
    "GENE_CORRS_DIR <- Sys.getenv(\"PHENOPLIER_PHENOMEXCAN_LD_BLOCKS_GENE_CORRS_DIR\")\n",
    "IRdisplay::display(GENE_CORRS_DIR)"
   ]
  },
  {
   "cell_type": "code",
   "execution_count": 8,
   "id": "eb24f15f-f282-4476-8943-8413c4483f12",
   "metadata": {
    "execution": {
     "iopub.execute_input": "2022-06-18T11:50:49.226999Z",
     "iopub.status.busy": "2022-06-18T11:50:49.226118Z",
     "iopub.status.idle": "2022-06-18T11:50:49.236936Z",
     "shell.execute_reply": "2022-06-18T11:50:49.235860Z"
    },
    "papermill": {
     "duration": 0.017727,
     "end_time": "2022-06-18T11:50:49.238507",
     "exception": false,
     "start_time": "2022-06-18T11:50:49.220780",
     "status": "completed"
    },
    "tags": []
   },
   "outputs": [
    {
     "data": {
      "text/html": [
       "'/opt/data/data/phenomexcan/ld_blocks/gene_corrs/gtex_v8/mashr/by_chr'"
      ],
      "text/latex": [
       "'/opt/data/data/phenomexcan/ld\\_blocks/gene\\_corrs/gtex\\_v8/mashr/by\\_chr'"
      ],
      "text/markdown": [
       "'/opt/data/data/phenomexcan/ld_blocks/gene_corrs/gtex_v8/mashr/by_chr'"
      ],
      "text/plain": [
       "[1] \"/opt/data/data/phenomexcan/ld_blocks/gene_corrs/gtex_v8/mashr/by_chr\""
      ]
     },
     "metadata": {},
     "output_type": "display_data"
    }
   ],
   "source": [
    "INPUT_DIR <- file.path(GENE_CORRS_DIR, tolower(REFERENCE_PANEL), tolower(EQTL_MODEL), \"by_chr\")\n",
    "IRdisplay::display(INPUT_DIR)"
   ]
  },
  {
   "cell_type": "code",
   "execution_count": 9,
   "id": "43c1daba-0da9-4822-8d1e-968e9767e251",
   "metadata": {
    "execution": {
     "iopub.execute_input": "2022-06-18T11:50:49.250072Z",
     "iopub.status.busy": "2022-06-18T11:50:49.249155Z",
     "iopub.status.idle": "2022-06-18T11:50:49.261329Z",
     "shell.execute_reply": "2022-06-18T11:50:49.260262Z"
    },
    "papermill": {
     "duration": 0.019367,
     "end_time": "2022-06-18T11:50:49.262895",
     "exception": false,
     "start_time": "2022-06-18T11:50:49.243528",
     "status": "completed"
    },
    "tags": []
   },
   "outputs": [
    {
     "data": {
      "text/html": [
       "'/opt/data/data/phenomexcan/ld_blocks/gene_corrs/gtex_v8/mashr/by_chr/gene_corrs-chr22.pkl'"
      ],
      "text/latex": [
       "'/opt/data/data/phenomexcan/ld\\_blocks/gene\\_corrs/gtex\\_v8/mashr/by\\_chr/gene\\_corrs-chr22.pkl'"
      ],
      "text/markdown": [
       "'/opt/data/data/phenomexcan/ld_blocks/gene_corrs/gtex_v8/mashr/by_chr/gene_corrs-chr22.pkl'"
      ],
      "text/plain": [
       "[1] \"/opt/data/data/phenomexcan/ld_blocks/gene_corrs/gtex_v8/mashr/by_chr/gene_corrs-chr22.pkl\""
      ]
     },
     "metadata": {},
     "output_type": "display_data"
    }
   ],
   "source": [
    "INPUT_FILE <- file.path(INPUT_DIR, paste0(\"gene_corrs-chr\", chromosome, \".pkl\"))\n",
    "IRdisplay::display(INPUT_FILE)\n",
    "stopifnot(file.exists(INPUT_FILE))"
   ]
  },
  {
   "cell_type": "code",
   "execution_count": 10,
   "id": "72386fbf-982b-420a-9057-ea9a97a5e571",
   "metadata": {
    "execution": {
     "iopub.execute_input": "2022-06-18T11:50:49.274859Z",
     "iopub.status.busy": "2022-06-18T11:50:49.273936Z",
     "iopub.status.idle": "2022-06-18T11:50:49.286398Z",
     "shell.execute_reply": "2022-06-18T11:50:49.285330Z"
    },
    "papermill": {
     "duration": 0.019937,
     "end_time": "2022-06-18T11:50:49.287987",
     "exception": false,
     "start_time": "2022-06-18T11:50:49.268050",
     "status": "completed"
    },
    "tags": []
   },
   "outputs": [
    {
     "data": {
      "text/html": [
       "'/opt/data/data/phenomexcan/ld_blocks/gene_corrs/gtex_v8/mashr/by_chr/corrected_positive_definite'"
      ],
      "text/latex": [
       "'/opt/data/data/phenomexcan/ld\\_blocks/gene\\_corrs/gtex\\_v8/mashr/by\\_chr/corrected\\_positive\\_definite'"
      ],
      "text/markdown": [
       "'/opt/data/data/phenomexcan/ld_blocks/gene_corrs/gtex_v8/mashr/by_chr/corrected_positive_definite'"
      ],
      "text/plain": [
       "[1] \"/opt/data/data/phenomexcan/ld_blocks/gene_corrs/gtex_v8/mashr/by_chr/corrected_positive_definite\""
      ]
     },
     "metadata": {},
     "output_type": "display_data"
    }
   ],
   "source": [
    "OUTPUT_DIR <- file.path(INPUT_DIR, \"corrected_positive_definite\")\n",
    "IRdisplay::display(OUTPUT_DIR)\n",
    "dir.create(OUTPUT_DIR, recursive = TRUE, showWarnings = FALSE)"
   ]
  },
  {
   "cell_type": "code",
   "execution_count": 11,
   "id": "f9f19d1d-ce4c-4099-a26e-250fec751de7",
   "metadata": {
    "execution": {
     "iopub.execute_input": "2022-06-18T11:50:49.299946Z",
     "iopub.status.busy": "2022-06-18T11:50:49.299052Z",
     "iopub.status.idle": "2022-06-18T11:50:49.315939Z",
     "shell.execute_reply": "2022-06-18T11:50:49.312015Z"
    },
    "papermill": {
     "duration": 0.024571,
     "end_time": "2022-06-18T11:50:49.317834",
     "exception": false,
     "start_time": "2022-06-18T11:50:49.293263",
     "status": "completed"
    },
    "tags": []
   },
   "outputs": [
    {
     "data": {
      "text/html": [
       "'/opt/data/data/phenomexcan/ld_blocks/gene_corrs/gtex_v8/mashr/by_chr/corrected_positive_definite/gene_corrs-chr22.pkl'"
      ],
      "text/latex": [
       "'/opt/data/data/phenomexcan/ld\\_blocks/gene\\_corrs/gtex\\_v8/mashr/by\\_chr/corrected\\_positive\\_definite/gene\\_corrs-chr22.pkl'"
      ],
      "text/markdown": [
       "'/opt/data/data/phenomexcan/ld_blocks/gene_corrs/gtex_v8/mashr/by_chr/corrected_positive_definite/gene_corrs-chr22.pkl'"
      ],
      "text/plain": [
       "[1] \"/opt/data/data/phenomexcan/ld_blocks/gene_corrs/gtex_v8/mashr/by_chr/corrected_positive_definite/gene_corrs-chr22.pkl\""
      ]
     },
     "metadata": {},
     "output_type": "display_data"
    },
    {
     "data": {
      "text/html": [
       "'Output file exists, it will be overwritten'"
      ],
      "text/latex": [
       "'Output file exists, it will be overwritten'"
      ],
      "text/markdown": [
       "'Output file exists, it will be overwritten'"
      ],
      "text/plain": [
       "[1] \"Output file exists, it will be overwritten\""
      ]
     },
     "metadata": {},
     "output_type": "display_data"
    }
   ],
   "source": [
    "OUTPUT_FILE <- file.path(OUTPUT_DIR, paste0(\"gene_corrs-chr\", chromosome, \".pkl\"))\n",
    "IRdisplay::display(OUTPUT_FILE)\n",
    "if (file.exists(OUTPUT_FILE)) {\n",
    "  IRdisplay::display(\"Output file exists, it will be overwritten\")\n",
    "}"
   ]
  },
  {
   "cell_type": "markdown",
   "id": "5aad60e6-cba4-41b5-9755-93eb86f4ed05",
   "metadata": {
    "papermill": {
     "duration": 0.005709,
     "end_time": "2022-06-18T11:50:49.329660",
     "exception": false,
     "start_time": "2022-06-18T11:50:49.323951",
     "status": "completed"
    },
    "tags": []
   },
   "source": [
    "# Functions"
   ]
  },
  {
   "cell_type": "code",
   "execution_count": 12,
   "id": "f828f081-7358-4cc8-8a89-1ee293bcc1a7",
   "metadata": {
    "execution": {
     "iopub.execute_input": "2022-06-18T11:50:49.343054Z",
     "iopub.status.busy": "2022-06-18T11:50:49.342163Z",
     "iopub.status.idle": "2022-06-18T11:50:49.350200Z",
     "shell.execute_reply": "2022-06-18T11:50:49.349147Z"
    },
    "papermill": {
     "duration": 0.016278,
     "end_time": "2022-06-18T11:50:49.351752",
     "exception": false,
     "start_time": "2022-06-18T11:50:49.335474",
     "status": "completed"
    },
    "tags": []
   },
   "outputs": [],
   "source": [
    "# taken from https://www.r-bloggers.com/2013/08/correcting-a-pseudo-correlation-matrix-to-be-positive-semidefinite/\n",
    "# TODO: add documentation\n",
    "CorrectCM <- function(CM, p = 0) {\n",
    "  n <- dim(var(CM))[1L]\n",
    "  E <- eigen(CM)\n",
    "  CM1 <- E$vectors %*% tcrossprod(diag(pmax(E$values, p), n), E$vectors)\n",
    "  Balance <- diag(1 / sqrt(diag(CM1)))\n",
    "  CM2 <- Balance %*% CM1 %*% Balance\n",
    "  return(CM2)\n",
    "}"
   ]
  },
  {
   "cell_type": "code",
   "execution_count": 13,
   "id": "7ab9bebf-50a1-4e6f-b16a-e23cae93d02a",
   "metadata": {
    "execution": {
     "iopub.execute_input": "2022-06-18T11:50:49.364285Z",
     "iopub.status.busy": "2022-06-18T11:50:49.363414Z",
     "iopub.status.idle": "2022-06-18T11:50:49.371130Z",
     "shell.execute_reply": "2022-06-18T11:50:49.370070Z"
    },
    "papermill": {
     "duration": 0.015432,
     "end_time": "2022-06-18T11:50:49.372703",
     "exception": false,
     "start_time": "2022-06-18T11:50:49.357271",
     "status": "completed"
    },
    "tags": []
   },
   "outputs": [],
   "source": [
    "is_positive_definite <- function(data) {\n",
    "  eigenvalues <- eigen(data)$values\n",
    "  nonpositive_eigenvalues <- eigenvalues[eigenvalues <= 0]\n",
    "\n",
    "  if (length(nonpositive_eigenvalues) > 0) {\n",
    "    IRdisplay::display(\"We need to correct the data and make the matrix positive definite\")\n",
    "    return(FALSE)\n",
    "  } else {\n",
    "    IRdisplay::display(\"Matrix is already positive definite!\")\n",
    "    return(TRUE)\n",
    "  }\n",
    "}"
   ]
  },
  {
   "cell_type": "markdown",
   "id": "ac52ecbc-5618-4876-a4fa-546a08e3fcf3",
   "metadata": {
    "papermill": {
     "duration": 0.005039,
     "end_time": "2022-06-18T11:50:49.383210",
     "exception": false,
     "start_time": "2022-06-18T11:50:49.378171",
     "status": "completed"
    },
    "tags": []
   },
   "source": [
    "# Load data"
   ]
  },
  {
   "cell_type": "code",
   "execution_count": 14,
   "id": "3a7744e1-2e5a-450e-9dcf-945ec181347d",
   "metadata": {
    "execution": {
     "iopub.execute_input": "2022-06-18T11:50:49.394858Z",
     "iopub.status.busy": "2022-06-18T11:50:49.393972Z",
     "iopub.status.idle": "2022-06-18T11:50:49.421603Z",
     "shell.execute_reply": "2022-06-18T11:50:49.420535Z"
    },
    "papermill": {
     "duration": 0.034931,
     "end_time": "2022-06-18T11:50:49.423046",
     "exception": false,
     "start_time": "2022-06-18T11:50:49.388115",
     "status": "completed"
    },
    "tags": []
   },
   "outputs": [],
   "source": [
    "gene_corrs <- pd$read_pickle(INPUT_FILE)"
   ]
  },
  {
   "cell_type": "code",
   "execution_count": 15,
   "id": "6fb150b2-4c68-4e9b-9aa5-1890d3f762e3",
   "metadata": {
    "execution": {
     "iopub.execute_input": "2022-06-18T11:50:49.435040Z",
     "iopub.status.busy": "2022-06-18T11:50:49.434156Z",
     "iopub.status.idle": "2022-06-18T11:50:49.443695Z",
     "shell.execute_reply": "2022-06-18T11:50:49.442655Z"
    },
    "papermill": {
     "duration": 0.016923,
     "end_time": "2022-06-18T11:50:49.445225",
     "exception": false,
     "start_time": "2022-06-18T11:50:49.428302",
     "status": "completed"
    },
    "tags": []
   },
   "outputs": [
    {
     "data": {
      "text/html": [
       "<style>\n",
       ".list-inline {list-style: none; margin:0; padding: 0}\n",
       ".list-inline>li {display: inline-block}\n",
       ".list-inline>li:not(:last-child)::after {content: \"\\00b7\"; padding: 0 .5ex}\n",
       "</style>\n",
       "<ol class=list-inline><li>170</li><li>170</li></ol>\n"
      ],
      "text/latex": [
       "\\begin{enumerate*}\n",
       "\\item 170\n",
       "\\item 170\n",
       "\\end{enumerate*}\n"
      ],
      "text/markdown": [
       "1. 170\n",
       "2. 170\n",
       "\n",
       "\n"
      ],
      "text/plain": [
       "[1] 170 170"
      ]
     },
     "metadata": {},
     "output_type": "display_data"
    }
   ],
   "source": [
    "dim(gene_corrs)"
   ]
  },
  {
   "cell_type": "code",
   "execution_count": 16,
   "id": "0d4e53b5-7586-4a68-8ce5-d930d74ba943",
   "metadata": {
    "execution": {
     "iopub.execute_input": "2022-06-18T11:50:49.458264Z",
     "iopub.status.busy": "2022-06-18T11:50:49.457321Z",
     "iopub.status.idle": "2022-06-18T11:50:49.475880Z",
     "shell.execute_reply": "2022-06-18T11:50:49.474581Z"
    },
    "papermill": {
     "duration": 0.02734,
     "end_time": "2022-06-18T11:50:49.478398",
     "exception": false,
     "start_time": "2022-06-18T11:50:49.451058",
     "status": "completed"
    },
    "tags": []
   },
   "outputs": [
    {
     "data": {
      "text/html": [
       "<table class=\"dataframe\">\n",
       "<caption>A data.frame: 6 × 10</caption>\n",
       "<thead>\n",
       "\t<tr><th></th><th scope=col>ENSG00000177663</th><th scope=col>ENSG00000131100</th><th scope=col>ENSG00000099968</th><th scope=col>ENSG00000015475</th><th scope=col>ENSG00000243156</th><th scope=col>ENSG00000215193</th><th scope=col>ENSG00000183785</th><th scope=col>ENSG00000184979</th><th scope=col>ENSG00000100033</th><th scope=col>ENSG00000100075</th></tr>\n",
       "\t<tr><th></th><th scope=col>&lt;dbl&gt;</th><th scope=col>&lt;dbl&gt;</th><th scope=col>&lt;dbl&gt;</th><th scope=col>&lt;dbl&gt;</th><th scope=col>&lt;dbl&gt;</th><th scope=col>&lt;dbl&gt;</th><th scope=col>&lt;dbl&gt;</th><th scope=col>&lt;dbl&gt;</th><th scope=col>&lt;dbl&gt;</th><th scope=col>&lt;dbl&gt;</th></tr>\n",
       "</thead>\n",
       "<tbody>\n",
       "\t<tr><th scope=row>ENSG00000177663</th><td> 1.000000000</td><td>-0.07717207</td><td> 0.07890063</td><td>-0.03464399</td><td>-0.008794338</td><td> 0.03595470</td><td> 0.001726432</td><td> 0.095401984</td><td> 0.03910270</td><td> 0.32156489</td></tr>\n",
       "\t<tr><th scope=row>ENSG00000131100</th><td>-0.077172067</td><td> 1.00000000</td><td>-0.25827894</td><td> 0.15425866</td><td>-0.102483855</td><td>-0.03833009</td><td>-0.069450615</td><td>-0.077466787</td><td>-0.25148724</td><td>-0.36351196</td></tr>\n",
       "\t<tr><th scope=row>ENSG00000099968</th><td> 0.078900627</td><td>-0.25827894</td><td> 1.00000000</td><td>-0.15236055</td><td> 0.151567921</td><td> 0.06397927</td><td>-0.028284257</td><td> 0.094149609</td><td> 0.02634172</td><td> 0.23893616</td></tr>\n",
       "\t<tr><th scope=row>ENSG00000015475</th><td>-0.034643993</td><td> 0.15425866</td><td>-0.15236055</td><td> 1.00000000</td><td>-0.075705611</td><td>-0.02813188</td><td>-0.160490888</td><td> 0.014910651</td><td>-0.14498552</td><td>-0.06459698</td></tr>\n",
       "\t<tr><th scope=row>ENSG00000243156</th><td>-0.008794338</td><td>-0.10248385</td><td> 0.15156792</td><td>-0.07570561</td><td> 1.000000000</td><td>-0.05797458</td><td>-0.077885080</td><td> 0.010540094</td><td> 0.03839897</td><td> 0.01825553</td></tr>\n",
       "\t<tr><th scope=row>ENSG00000215193</th><td> 0.035954696</td><td>-0.03833009</td><td> 0.06397927</td><td>-0.02813188</td><td>-0.057974580</td><td> 1.00000000</td><td> 0.007340717</td><td>-0.002354151</td><td> 0.07588282</td><td> 0.17708923</td></tr>\n",
       "</tbody>\n",
       "</table>\n"
      ],
      "text/latex": [
       "A data.frame: 6 × 10\n",
       "\\begin{tabular}{r|llllllllll}\n",
       "  & ENSG00000177663 & ENSG00000131100 & ENSG00000099968 & ENSG00000015475 & ENSG00000243156 & ENSG00000215193 & ENSG00000183785 & ENSG00000184979 & ENSG00000100033 & ENSG00000100075\\\\\n",
       "  & <dbl> & <dbl> & <dbl> & <dbl> & <dbl> & <dbl> & <dbl> & <dbl> & <dbl> & <dbl>\\\\\n",
       "\\hline\n",
       "\tENSG00000177663 &  1.000000000 & -0.07717207 &  0.07890063 & -0.03464399 & -0.008794338 &  0.03595470 &  0.001726432 &  0.095401984 &  0.03910270 &  0.32156489\\\\\n",
       "\tENSG00000131100 & -0.077172067 &  1.00000000 & -0.25827894 &  0.15425866 & -0.102483855 & -0.03833009 & -0.069450615 & -0.077466787 & -0.25148724 & -0.36351196\\\\\n",
       "\tENSG00000099968 &  0.078900627 & -0.25827894 &  1.00000000 & -0.15236055 &  0.151567921 &  0.06397927 & -0.028284257 &  0.094149609 &  0.02634172 &  0.23893616\\\\\n",
       "\tENSG00000015475 & -0.034643993 &  0.15425866 & -0.15236055 &  1.00000000 & -0.075705611 & -0.02813188 & -0.160490888 &  0.014910651 & -0.14498552 & -0.06459698\\\\\n",
       "\tENSG00000243156 & -0.008794338 & -0.10248385 &  0.15156792 & -0.07570561 &  1.000000000 & -0.05797458 & -0.077885080 &  0.010540094 &  0.03839897 &  0.01825553\\\\\n",
       "\tENSG00000215193 &  0.035954696 & -0.03833009 &  0.06397927 & -0.02813188 & -0.057974580 &  1.00000000 &  0.007340717 & -0.002354151 &  0.07588282 &  0.17708923\\\\\n",
       "\\end{tabular}\n"
      ],
      "text/markdown": [
       "\n",
       "A data.frame: 6 × 10\n",
       "\n",
       "| <!--/--> | ENSG00000177663 &lt;dbl&gt; | ENSG00000131100 &lt;dbl&gt; | ENSG00000099968 &lt;dbl&gt; | ENSG00000015475 &lt;dbl&gt; | ENSG00000243156 &lt;dbl&gt; | ENSG00000215193 &lt;dbl&gt; | ENSG00000183785 &lt;dbl&gt; | ENSG00000184979 &lt;dbl&gt; | ENSG00000100033 &lt;dbl&gt; | ENSG00000100075 &lt;dbl&gt; |\n",
       "|---|---|---|---|---|---|---|---|---|---|---|\n",
       "| ENSG00000177663 |  1.000000000 | -0.07717207 |  0.07890063 | -0.03464399 | -0.008794338 |  0.03595470 |  0.001726432 |  0.095401984 |  0.03910270 |  0.32156489 |\n",
       "| ENSG00000131100 | -0.077172067 |  1.00000000 | -0.25827894 |  0.15425866 | -0.102483855 | -0.03833009 | -0.069450615 | -0.077466787 | -0.25148724 | -0.36351196 |\n",
       "| ENSG00000099968 |  0.078900627 | -0.25827894 |  1.00000000 | -0.15236055 |  0.151567921 |  0.06397927 | -0.028284257 |  0.094149609 |  0.02634172 |  0.23893616 |\n",
       "| ENSG00000015475 | -0.034643993 |  0.15425866 | -0.15236055 |  1.00000000 | -0.075705611 | -0.02813188 | -0.160490888 |  0.014910651 | -0.14498552 | -0.06459698 |\n",
       "| ENSG00000243156 | -0.008794338 | -0.10248385 |  0.15156792 | -0.07570561 |  1.000000000 | -0.05797458 | -0.077885080 |  0.010540094 |  0.03839897 |  0.01825553 |\n",
       "| ENSG00000215193 |  0.035954696 | -0.03833009 |  0.06397927 | -0.02813188 | -0.057974580 |  1.00000000 |  0.007340717 | -0.002354151 |  0.07588282 |  0.17708923 |\n",
       "\n"
      ],
      "text/plain": [
       "                ENSG00000177663 ENSG00000131100 ENSG00000099968 ENSG00000015475\n",
       "ENSG00000177663  1.000000000    -0.07717207      0.07890063     -0.03464399    \n",
       "ENSG00000131100 -0.077172067     1.00000000     -0.25827894      0.15425866    \n",
       "ENSG00000099968  0.078900627    -0.25827894      1.00000000     -0.15236055    \n",
       "ENSG00000015475 -0.034643993     0.15425866     -0.15236055      1.00000000    \n",
       "ENSG00000243156 -0.008794338    -0.10248385      0.15156792     -0.07570561    \n",
       "ENSG00000215193  0.035954696    -0.03833009      0.06397927     -0.02813188    \n",
       "                ENSG00000243156 ENSG00000215193 ENSG00000183785 ENSG00000184979\n",
       "ENSG00000177663 -0.008794338     0.03595470      0.001726432     0.095401984   \n",
       "ENSG00000131100 -0.102483855    -0.03833009     -0.069450615    -0.077466787   \n",
       "ENSG00000099968  0.151567921     0.06397927     -0.028284257     0.094149609   \n",
       "ENSG00000015475 -0.075705611    -0.02813188     -0.160490888     0.014910651   \n",
       "ENSG00000243156  1.000000000    -0.05797458     -0.077885080     0.010540094   \n",
       "ENSG00000215193 -0.057974580     1.00000000      0.007340717    -0.002354151   \n",
       "                ENSG00000100033 ENSG00000100075\n",
       "ENSG00000177663  0.03910270      0.32156489    \n",
       "ENSG00000131100 -0.25148724     -0.36351196    \n",
       "ENSG00000099968  0.02634172      0.23893616    \n",
       "ENSG00000015475 -0.14498552     -0.06459698    \n",
       "ENSG00000243156  0.03839897      0.01825553    \n",
       "ENSG00000215193  0.07588282      0.17708923    "
      ]
     },
     "metadata": {},
     "output_type": "display_data"
    }
   ],
   "source": [
    "head(gene_corrs[1:10, 1:10])"
   ]
  },
  {
   "cell_type": "markdown",
   "id": "c5c9ffba-1678-4ce7-8988-4ee03e23bdf2",
   "metadata": {
    "papermill": {
     "duration": 0.007284,
     "end_time": "2022-06-18T11:50:49.493217",
     "exception": false,
     "start_time": "2022-06-18T11:50:49.485933",
     "status": "completed"
    },
    "tags": []
   },
   "source": [
    "# Check positive definiteness"
   ]
  },
  {
   "cell_type": "code",
   "execution_count": 17,
   "id": "178854f5-487a-42e8-82b4-625c1979734a",
   "metadata": {
    "execution": {
     "iopub.execute_input": "2022-06-18T11:50:49.508230Z",
     "iopub.status.busy": "2022-06-18T11:50:49.507239Z",
     "iopub.status.idle": "2022-06-18T11:50:49.527901Z",
     "shell.execute_reply": "2022-06-18T11:50:49.526833Z"
    },
    "papermill": {
     "duration": 0.029485,
     "end_time": "2022-06-18T11:50:49.529403",
     "exception": false,
     "start_time": "2022-06-18T11:50:49.499918",
     "status": "completed"
    },
    "tags": []
   },
   "outputs": [
    {
     "data": {
      "text/html": [
       "'We need to correct the data and make the matrix positive definite'"
      ],
      "text/latex": [
       "'We need to correct the data and make the matrix positive definite'"
      ],
      "text/markdown": [
       "'We need to correct the data and make the matrix positive definite'"
      ],
      "text/plain": [
       "[1] \"We need to correct the data and make the matrix positive definite\""
      ]
     },
     "metadata": {},
     "output_type": "display_data"
    },
    {
     "data": {
      "text/html": [
       "FALSE"
      ],
      "text/latex": [
       "FALSE"
      ],
      "text/markdown": [
       "FALSE"
      ],
      "text/plain": [
       "[1] FALSE"
      ]
     },
     "metadata": {},
     "output_type": "display_data"
    }
   ],
   "source": [
    "is_positive_definite(gene_corrs)"
   ]
  },
  {
   "cell_type": "code",
   "execution_count": 18,
   "id": "58542ade-c80f-42e6-acbf-6464dab70fdb",
   "metadata": {
    "execution": {
     "iopub.execute_input": "2022-06-18T11:50:49.542982Z",
     "iopub.status.busy": "2022-06-18T11:50:49.542098Z",
     "iopub.status.idle": "2022-06-18T11:50:49.556911Z",
     "shell.execute_reply": "2022-06-18T11:50:49.555735Z"
    },
    "papermill": {
     "duration": 0.022882,
     "end_time": "2022-06-18T11:50:49.558377",
     "exception": false,
     "start_time": "2022-06-18T11:50:49.535495",
     "status": "completed"
    },
    "tags": []
   },
   "outputs": [],
   "source": [
    "# see eigenvalues\n",
    "eigenvalues <- eigen(gene_corrs)$values"
   ]
  },
  {
   "cell_type": "code",
   "execution_count": 19,
   "id": "9486e0db-e924-43ab-bb6c-0d997fd38f3d",
   "metadata": {
    "execution": {
     "iopub.execute_input": "2022-06-18T11:50:49.571607Z",
     "iopub.status.busy": "2022-06-18T11:50:49.570640Z",
     "iopub.status.idle": "2022-06-18T11:50:49.587984Z",
     "shell.execute_reply": "2022-06-18T11:50:49.586962Z"
    },
    "papermill": {
     "duration": 0.0252,
     "end_time": "2022-06-18T11:50:49.589377",
     "exception": false,
     "start_time": "2022-06-18T11:50:49.564177",
     "status": "completed"
    },
    "tags": []
   },
   "outputs": [
    {
     "data": {
      "text/html": [
       "17"
      ],
      "text/latex": [
       "17"
      ],
      "text/markdown": [
       "17"
      ],
      "text/plain": [
       "[1] 17"
      ]
     },
     "metadata": {},
     "output_type": "display_data"
    },
    {
     "data": {
      "text/html": [
       "<style>\n",
       ".list-inline {list-style: none; margin:0; padding: 0}\n",
       ".list-inline>li {display: inline-block}\n",
       ".list-inline>li:not(:last-child)::after {content: \"\\00b7\"; padding: 0 .5ex}\n",
       "</style>\n",
       "<ol class=list-inline><li>-0.0252724230958119</li><li>-0.0680684066492869</li><li>-0.0894187042640739</li><li>-0.113722566975918</li><li>-0.125074881973884</li><li>-0.188238972891867</li><li>-0.211723928945201</li><li>-0.228917498041722</li><li>-0.256007439697441</li><li>-0.291447903661507</li><li>-0.347294486193118</li><li>-0.391156108822473</li><li>-0.52388627522858</li><li>-0.695990695427572</li><li>-0.952424345294192</li><li>-1.41858513958031</li><li>-2.44439321558727</li></ol>\n"
      ],
      "text/latex": [
       "\\begin{enumerate*}\n",
       "\\item -0.0252724230958119\n",
       "\\item -0.0680684066492869\n",
       "\\item -0.0894187042640739\n",
       "\\item -0.113722566975918\n",
       "\\item -0.125074881973884\n",
       "\\item -0.188238972891867\n",
       "\\item -0.211723928945201\n",
       "\\item -0.228917498041722\n",
       "\\item -0.256007439697441\n",
       "\\item -0.291447903661507\n",
       "\\item -0.347294486193118\n",
       "\\item -0.391156108822473\n",
       "\\item -0.52388627522858\n",
       "\\item -0.695990695427572\n",
       "\\item -0.952424345294192\n",
       "\\item -1.41858513958031\n",
       "\\item -2.44439321558727\n",
       "\\end{enumerate*}\n"
      ],
      "text/markdown": [
       "1. -0.0252724230958119\n",
       "2. -0.0680684066492869\n",
       "3. -0.0894187042640739\n",
       "4. -0.113722566975918\n",
       "5. -0.125074881973884\n",
       "6. -0.188238972891867\n",
       "7. -0.211723928945201\n",
       "8. -0.228917498041722\n",
       "9. -0.256007439697441\n",
       "10. -0.291447903661507\n",
       "11. -0.347294486193118\n",
       "12. -0.391156108822473\n",
       "13. -0.52388627522858\n",
       "14. -0.695990695427572\n",
       "15. -0.952424345294192\n",
       "16. -1.41858513958031\n",
       "17. -2.44439321558727\n",
       "\n",
       "\n"
      ],
      "text/plain": [
       " [1] -0.02527242 -0.06806841 -0.08941870 -0.11372257 -0.12507488 -0.18823897\n",
       " [7] -0.21172393 -0.22891750 -0.25600744 -0.29144790 -0.34729449 -0.39115611\n",
       "[13] -0.52388628 -0.69599070 -0.95242435 -1.41858514 -2.44439322"
      ]
     },
     "metadata": {},
     "output_type": "display_data"
    }
   ],
   "source": [
    "nonpositive_eigenvalues <- eigenvalues[eigenvalues <= 0]\n",
    "IRdisplay::display(length(nonpositive_eigenvalues))\n",
    "IRdisplay::display(nonpositive_eigenvalues)"
   ]
  },
  {
   "cell_type": "code",
   "execution_count": 20,
   "id": "410ee452-488f-4518-b93a-2acd608ba99c",
   "metadata": {
    "execution": {
     "iopub.execute_input": "2022-06-18T11:50:49.603077Z",
     "iopub.status.busy": "2022-06-18T11:50:49.602166Z",
     "iopub.status.idle": "2022-06-18T11:50:49.609715Z",
     "shell.execute_reply": "2022-06-18T11:50:49.608613Z"
    },
    "papermill": {
     "duration": 0.015694,
     "end_time": "2022-06-18T11:50:49.611140",
     "exception": false,
     "start_time": "2022-06-18T11:50:49.595446",
     "status": "completed"
    },
    "tags": []
   },
   "outputs": [],
   "source": [
    "if (length(eigenvalues[eigenvalues <= 0]) == 0) { quit() }"
   ]
  },
  {
   "cell_type": "markdown",
   "id": "2d280a82-f231-402d-82ab-9291d395afc1",
   "metadata": {
    "papermill": {
     "duration": 0.005693,
     "end_time": "2022-06-18T11:50:49.622804",
     "exception": false,
     "start_time": "2022-06-18T11:50:49.617111",
     "status": "completed"
    },
    "tags": []
   },
   "source": [
    "# Make matrix positive definite if needed"
   ]
  },
  {
   "cell_type": "code",
   "execution_count": 21,
   "id": "b9037873-4067-4ac6-aa92-e9225a6c9353",
   "metadata": {
    "execution": {
     "iopub.execute_input": "2022-06-18T11:50:49.636136Z",
     "iopub.status.busy": "2022-06-18T11:50:49.635199Z",
     "iopub.status.idle": "2022-06-18T11:50:49.653598Z",
     "shell.execute_reply": "2022-06-18T11:50:49.652491Z"
    },
    "papermill": {
     "duration": 0.026504,
     "end_time": "2022-06-18T11:50:49.655017",
     "exception": false,
     "start_time": "2022-06-18T11:50:49.628513",
     "status": "completed"
    },
    "tags": []
   },
   "outputs": [],
   "source": [
    "gene_corrs_corrected <- CorrectCM(gene_corrs, 1)"
   ]
  },
  {
   "cell_type": "code",
   "execution_count": 22,
   "id": "03c86284-5aac-4f66-86cc-74eb97102a7e",
   "metadata": {
    "execution": {
     "iopub.execute_input": "2022-06-18T11:50:49.668850Z",
     "iopub.status.busy": "2022-06-18T11:50:49.667932Z",
     "iopub.status.idle": "2022-06-18T11:50:49.675778Z",
     "shell.execute_reply": "2022-06-18T11:50:49.674654Z"
    },
    "papermill": {
     "duration": 0.016041,
     "end_time": "2022-06-18T11:50:49.677184",
     "exception": false,
     "start_time": "2022-06-18T11:50:49.661143",
     "status": "completed"
    },
    "tags": []
   },
   "outputs": [],
   "source": [
    "dimnames(gene_corrs_corrected)[[1]] <- rownames(gene_corrs)"
   ]
  },
  {
   "cell_type": "code",
   "execution_count": 23,
   "id": "576e7069-25ff-473d-8158-35b5f2ff212e",
   "metadata": {
    "execution": {
     "iopub.execute_input": "2022-06-18T11:50:49.690960Z",
     "iopub.status.busy": "2022-06-18T11:50:49.690031Z",
     "iopub.status.idle": "2022-06-18T11:50:49.697733Z",
     "shell.execute_reply": "2022-06-18T11:50:49.696645Z"
    },
    "papermill": {
     "duration": 0.01593,
     "end_time": "2022-06-18T11:50:49.699174",
     "exception": false,
     "start_time": "2022-06-18T11:50:49.683244",
     "status": "completed"
    },
    "tags": []
   },
   "outputs": [],
   "source": [
    "dimnames(gene_corrs_corrected)[[2]] <- colnames(gene_corrs)"
   ]
  },
  {
   "cell_type": "code",
   "execution_count": 24,
   "id": "f77d043a-321d-447f-8da5-2503981d3e73",
   "metadata": {
    "execution": {
     "iopub.execute_input": "2022-06-18T11:50:49.712872Z",
     "iopub.status.busy": "2022-06-18T11:50:49.711953Z",
     "iopub.status.idle": "2022-06-18T11:50:49.720418Z",
     "shell.execute_reply": "2022-06-18T11:50:49.719315Z"
    },
    "papermill": {
     "duration": 0.01658,
     "end_time": "2022-06-18T11:50:49.721869",
     "exception": false,
     "start_time": "2022-06-18T11:50:49.705289",
     "status": "completed"
    },
    "tags": []
   },
   "outputs": [],
   "source": [
    "gene_corrs_corrected <- as.data.frame(gene_corrs_corrected)"
   ]
  },
  {
   "cell_type": "code",
   "execution_count": 25,
   "id": "3e844024-f9a2-42a2-bbd0-695cfdbb78f5",
   "metadata": {
    "execution": {
     "iopub.execute_input": "2022-06-18T11:50:49.736571Z",
     "iopub.status.busy": "2022-06-18T11:50:49.735684Z",
     "iopub.status.idle": "2022-06-18T11:50:49.744935Z",
     "shell.execute_reply": "2022-06-18T11:50:49.743947Z"
    },
    "papermill": {
     "duration": 0.018318,
     "end_time": "2022-06-18T11:50:49.746471",
     "exception": false,
     "start_time": "2022-06-18T11:50:49.728153",
     "status": "completed"
    },
    "tags": []
   },
   "outputs": [
    {
     "data": {
      "text/html": [
       "<style>\n",
       ".list-inline {list-style: none; margin:0; padding: 0}\n",
       ".list-inline>li {display: inline-block}\n",
       ".list-inline>li:not(:last-child)::after {content: \"\\00b7\"; padding: 0 .5ex}\n",
       "</style>\n",
       "<ol class=list-inline><li>170</li><li>170</li></ol>\n"
      ],
      "text/latex": [
       "\\begin{enumerate*}\n",
       "\\item 170\n",
       "\\item 170\n",
       "\\end{enumerate*}\n"
      ],
      "text/markdown": [
       "1. 170\n",
       "2. 170\n",
       "\n",
       "\n"
      ],
      "text/plain": [
       "[1] 170 170"
      ]
     },
     "metadata": {},
     "output_type": "display_data"
    }
   ],
   "source": [
    "dim(gene_corrs_corrected)"
   ]
  },
  {
   "cell_type": "markdown",
   "id": "244b6bde-4ca8-46d1-acc7-b4c35b5d3c62",
   "metadata": {
    "papermill": {
     "duration": 0.005772,
     "end_time": "2022-06-18T11:50:49.758283",
     "exception": false,
     "start_time": "2022-06-18T11:50:49.752511",
     "status": "completed"
    },
    "tags": []
   },
   "source": [
    "# Check positive definiteness of corrected matrix"
   ]
  },
  {
   "cell_type": "code",
   "execution_count": 26,
   "id": "0fd5b688-e137-4619-910c-35130d32d600",
   "metadata": {
    "execution": {
     "iopub.execute_input": "2022-06-18T11:50:49.771784Z",
     "iopub.status.busy": "2022-06-18T11:50:49.770879Z",
     "iopub.status.idle": "2022-06-18T11:50:49.793563Z",
     "shell.execute_reply": "2022-06-18T11:50:49.792540Z"
    },
    "papermill": {
     "duration": 0.030783,
     "end_time": "2022-06-18T11:50:49.794945",
     "exception": false,
     "start_time": "2022-06-18T11:50:49.764162",
     "status": "completed"
    },
    "tags": []
   },
   "outputs": [
    {
     "data": {
      "text/html": [
       "'Matrix is already positive definite!'"
      ],
      "text/latex": [
       "'Matrix is already positive definite!'"
      ],
      "text/markdown": [
       "'Matrix is already positive definite!'"
      ],
      "text/plain": [
       "[1] \"Matrix is already positive definite!\""
      ]
     },
     "metadata": {},
     "output_type": "display_data"
    },
    {
     "data": {
      "text/html": [
       "TRUE"
      ],
      "text/latex": [
       "TRUE"
      ],
      "text/markdown": [
       "TRUE"
      ],
      "text/plain": [
       "[1] TRUE"
      ]
     },
     "metadata": {},
     "output_type": "display_data"
    }
   ],
   "source": [
    "is_positive_definite(gene_corrs_corrected)"
   ]
  },
  {
   "cell_type": "code",
   "execution_count": 27,
   "id": "06d23ab8-bebb-474c-be33-dca7e53c1717",
   "metadata": {
    "execution": {
     "iopub.execute_input": "2022-06-18T11:50:49.809562Z",
     "iopub.status.busy": "2022-06-18T11:50:49.808620Z",
     "iopub.status.idle": "2022-06-18T11:50:49.824787Z",
     "shell.execute_reply": "2022-06-18T11:50:49.823713Z"
    },
    "papermill": {
     "duration": 0.024898,
     "end_time": "2022-06-18T11:50:49.826226",
     "exception": false,
     "start_time": "2022-06-18T11:50:49.801328",
     "status": "completed"
    },
    "tags": []
   },
   "outputs": [],
   "source": [
    "# see eigenvalues\n",
    "eigenvalues <- eigen(gene_corrs_corrected)$values"
   ]
  },
  {
   "cell_type": "code",
   "execution_count": 28,
   "id": "ddf8afb8-e0e2-4b4e-876d-12bd6856c1ad",
   "metadata": {
    "execution": {
     "iopub.execute_input": "2022-06-18T11:50:49.840444Z",
     "iopub.status.busy": "2022-06-18T11:50:49.839570Z",
     "iopub.status.idle": "2022-06-18T11:50:49.856120Z",
     "shell.execute_reply": "2022-06-18T11:50:49.855039Z"
    },
    "papermill": {
     "duration": 0.025126,
     "end_time": "2022-06-18T11:50:49.857619",
     "exception": false,
     "start_time": "2022-06-18T11:50:49.832493",
     "status": "completed"
    },
    "tags": []
   },
   "outputs": [
    {
     "data": {
      "text/html": [
       "0"
      ],
      "text/latex": [
       "0"
      ],
      "text/markdown": [
       "0"
      ],
      "text/plain": [
       "[1] 0"
      ]
     },
     "metadata": {},
     "output_type": "display_data"
    },
    {
     "data": {
      "text/html": [],
      "text/latex": [],
      "text/markdown": [],
      "text/plain": [
       "numeric(0)"
      ]
     },
     "metadata": {},
     "output_type": "display_data"
    }
   ],
   "source": [
    "nonpositive_eigenvalues <- eigenvalues[eigenvalues <= 0]\n",
    "IRdisplay::display(length(nonpositive_eigenvalues))\n",
    "IRdisplay::display(nonpositive_eigenvalues)"
   ]
  },
  {
   "cell_type": "code",
   "execution_count": 29,
   "id": "712fd71a-b6ec-4a13-a956-80c99be7f585",
   "metadata": {
    "execution": {
     "iopub.execute_input": "2022-06-18T11:50:49.872187Z",
     "iopub.status.busy": "2022-06-18T11:50:49.871292Z",
     "iopub.status.idle": "2022-06-18T11:50:49.878842Z",
     "shell.execute_reply": "2022-06-18T11:50:49.877792Z"
    },
    "papermill": {
     "duration": 0.016279,
     "end_time": "2022-06-18T11:50:49.880313",
     "exception": false,
     "start_time": "2022-06-18T11:50:49.864034",
     "status": "completed"
    },
    "tags": []
   },
   "outputs": [],
   "source": [
    "stopifnot(length(eigenvalues[eigenvalues <= 0]) == 0)"
   ]
  },
  {
   "cell_type": "code",
   "execution_count": 30,
   "id": "786d6336-3844-40f7-979b-6d6028787f7f",
   "metadata": {
    "execution": {
     "iopub.execute_input": "2022-06-18T11:50:49.895084Z",
     "iopub.status.busy": "2022-06-18T11:50:49.894156Z",
     "iopub.status.idle": "2022-06-18T11:50:49.918689Z",
     "shell.execute_reply": "2022-06-18T11:50:49.917678Z"
    },
    "papermill": {
     "duration": 0.03317,
     "end_time": "2022-06-18T11:50:49.920173",
     "exception": false,
     "start_time": "2022-06-18T11:50:49.887003",
     "status": "completed"
    },
    "tags": []
   },
   "outputs": [
    {
     "data": {
      "text/html": [
       "<table class=\"dataframe\">\n",
       "<caption>A data.frame: 6 × 10</caption>\n",
       "<thead>\n",
       "\t<tr><th></th><th scope=col>ENSG00000177663</th><th scope=col>ENSG00000131100</th><th scope=col>ENSG00000099968</th><th scope=col>ENSG00000015475</th><th scope=col>ENSG00000243156</th><th scope=col>ENSG00000215193</th><th scope=col>ENSG00000183785</th><th scope=col>ENSG00000184979</th><th scope=col>ENSG00000100033</th><th scope=col>ENSG00000100075</th></tr>\n",
       "\t<tr><th></th><th scope=col>&lt;dbl&gt;</th><th scope=col>&lt;dbl&gt;</th><th scope=col>&lt;dbl&gt;</th><th scope=col>&lt;dbl&gt;</th><th scope=col>&lt;dbl&gt;</th><th scope=col>&lt;dbl&gt;</th><th scope=col>&lt;dbl&gt;</th><th scope=col>&lt;dbl&gt;</th><th scope=col>&lt;dbl&gt;</th><th scope=col>&lt;dbl&gt;</th></tr>\n",
       "</thead>\n",
       "<tbody>\n",
       "\t<tr><th scope=row>ENSG00000177663</th><td> 1.000000000</td><td>-0.07717207</td><td> 0.07890063</td><td>-0.03464399</td><td>-0.008794338</td><td> 0.03595470</td><td> 0.001726432</td><td> 0.095401984</td><td> 0.03910270</td><td> 0.32156489</td></tr>\n",
       "\t<tr><th scope=row>ENSG00000131100</th><td>-0.077172067</td><td> 1.00000000</td><td>-0.25827894</td><td> 0.15425866</td><td>-0.102483855</td><td>-0.03833009</td><td>-0.069450615</td><td>-0.077466787</td><td>-0.25148724</td><td>-0.36351196</td></tr>\n",
       "\t<tr><th scope=row>ENSG00000099968</th><td> 0.078900627</td><td>-0.25827894</td><td> 1.00000000</td><td>-0.15236055</td><td> 0.151567921</td><td> 0.06397927</td><td>-0.028284257</td><td> 0.094149609</td><td> 0.02634172</td><td> 0.23893616</td></tr>\n",
       "\t<tr><th scope=row>ENSG00000015475</th><td>-0.034643993</td><td> 0.15425866</td><td>-0.15236055</td><td> 1.00000000</td><td>-0.075705611</td><td>-0.02813188</td><td>-0.160490888</td><td> 0.014910651</td><td>-0.14498552</td><td>-0.06459698</td></tr>\n",
       "\t<tr><th scope=row>ENSG00000243156</th><td>-0.008794338</td><td>-0.10248385</td><td> 0.15156792</td><td>-0.07570561</td><td> 1.000000000</td><td>-0.05797458</td><td>-0.077885080</td><td> 0.010540094</td><td> 0.03839897</td><td> 0.01825553</td></tr>\n",
       "\t<tr><th scope=row>ENSG00000215193</th><td> 0.035954696</td><td>-0.03833009</td><td> 0.06397927</td><td>-0.02813188</td><td>-0.057974580</td><td> 1.00000000</td><td> 0.007340717</td><td>-0.002354151</td><td> 0.07588282</td><td> 0.17708923</td></tr>\n",
       "</tbody>\n",
       "</table>\n"
      ],
      "text/latex": [
       "A data.frame: 6 × 10\n",
       "\\begin{tabular}{r|llllllllll}\n",
       "  & ENSG00000177663 & ENSG00000131100 & ENSG00000099968 & ENSG00000015475 & ENSG00000243156 & ENSG00000215193 & ENSG00000183785 & ENSG00000184979 & ENSG00000100033 & ENSG00000100075\\\\\n",
       "  & <dbl> & <dbl> & <dbl> & <dbl> & <dbl> & <dbl> & <dbl> & <dbl> & <dbl> & <dbl>\\\\\n",
       "\\hline\n",
       "\tENSG00000177663 &  1.000000000 & -0.07717207 &  0.07890063 & -0.03464399 & -0.008794338 &  0.03595470 &  0.001726432 &  0.095401984 &  0.03910270 &  0.32156489\\\\\n",
       "\tENSG00000131100 & -0.077172067 &  1.00000000 & -0.25827894 &  0.15425866 & -0.102483855 & -0.03833009 & -0.069450615 & -0.077466787 & -0.25148724 & -0.36351196\\\\\n",
       "\tENSG00000099968 &  0.078900627 & -0.25827894 &  1.00000000 & -0.15236055 &  0.151567921 &  0.06397927 & -0.028284257 &  0.094149609 &  0.02634172 &  0.23893616\\\\\n",
       "\tENSG00000015475 & -0.034643993 &  0.15425866 & -0.15236055 &  1.00000000 & -0.075705611 & -0.02813188 & -0.160490888 &  0.014910651 & -0.14498552 & -0.06459698\\\\\n",
       "\tENSG00000243156 & -0.008794338 & -0.10248385 &  0.15156792 & -0.07570561 &  1.000000000 & -0.05797458 & -0.077885080 &  0.010540094 &  0.03839897 &  0.01825553\\\\\n",
       "\tENSG00000215193 &  0.035954696 & -0.03833009 &  0.06397927 & -0.02813188 & -0.057974580 &  1.00000000 &  0.007340717 & -0.002354151 &  0.07588282 &  0.17708923\\\\\n",
       "\\end{tabular}\n"
      ],
      "text/markdown": [
       "\n",
       "A data.frame: 6 × 10\n",
       "\n",
       "| <!--/--> | ENSG00000177663 &lt;dbl&gt; | ENSG00000131100 &lt;dbl&gt; | ENSG00000099968 &lt;dbl&gt; | ENSG00000015475 &lt;dbl&gt; | ENSG00000243156 &lt;dbl&gt; | ENSG00000215193 &lt;dbl&gt; | ENSG00000183785 &lt;dbl&gt; | ENSG00000184979 &lt;dbl&gt; | ENSG00000100033 &lt;dbl&gt; | ENSG00000100075 &lt;dbl&gt; |\n",
       "|---|---|---|---|---|---|---|---|---|---|---|\n",
       "| ENSG00000177663 |  1.000000000 | -0.07717207 |  0.07890063 | -0.03464399 | -0.008794338 |  0.03595470 |  0.001726432 |  0.095401984 |  0.03910270 |  0.32156489 |\n",
       "| ENSG00000131100 | -0.077172067 |  1.00000000 | -0.25827894 |  0.15425866 | -0.102483855 | -0.03833009 | -0.069450615 | -0.077466787 | -0.25148724 | -0.36351196 |\n",
       "| ENSG00000099968 |  0.078900627 | -0.25827894 |  1.00000000 | -0.15236055 |  0.151567921 |  0.06397927 | -0.028284257 |  0.094149609 |  0.02634172 |  0.23893616 |\n",
       "| ENSG00000015475 | -0.034643993 |  0.15425866 | -0.15236055 |  1.00000000 | -0.075705611 | -0.02813188 | -0.160490888 |  0.014910651 | -0.14498552 | -0.06459698 |\n",
       "| ENSG00000243156 | -0.008794338 | -0.10248385 |  0.15156792 | -0.07570561 |  1.000000000 | -0.05797458 | -0.077885080 |  0.010540094 |  0.03839897 |  0.01825553 |\n",
       "| ENSG00000215193 |  0.035954696 | -0.03833009 |  0.06397927 | -0.02813188 | -0.057974580 |  1.00000000 |  0.007340717 | -0.002354151 |  0.07588282 |  0.17708923 |\n",
       "\n"
      ],
      "text/plain": [
       "                ENSG00000177663 ENSG00000131100 ENSG00000099968 ENSG00000015475\n",
       "ENSG00000177663  1.000000000    -0.07717207      0.07890063     -0.03464399    \n",
       "ENSG00000131100 -0.077172067     1.00000000     -0.25827894      0.15425866    \n",
       "ENSG00000099968  0.078900627    -0.25827894      1.00000000     -0.15236055    \n",
       "ENSG00000015475 -0.034643993     0.15425866     -0.15236055      1.00000000    \n",
       "ENSG00000243156 -0.008794338    -0.10248385      0.15156792     -0.07570561    \n",
       "ENSG00000215193  0.035954696    -0.03833009      0.06397927     -0.02813188    \n",
       "                ENSG00000243156 ENSG00000215193 ENSG00000183785 ENSG00000184979\n",
       "ENSG00000177663 -0.008794338     0.03595470      0.001726432     0.095401984   \n",
       "ENSG00000131100 -0.102483855    -0.03833009     -0.069450615    -0.077466787   \n",
       "ENSG00000099968  0.151567921     0.06397927     -0.028284257     0.094149609   \n",
       "ENSG00000015475 -0.075705611    -0.02813188     -0.160490888     0.014910651   \n",
       "ENSG00000243156  1.000000000    -0.05797458     -0.077885080     0.010540094   \n",
       "ENSG00000215193 -0.057974580     1.00000000      0.007340717    -0.002354151   \n",
       "                ENSG00000100033 ENSG00000100075\n",
       "ENSG00000177663  0.03910270      0.32156489    \n",
       "ENSG00000131100 -0.25148724     -0.36351196    \n",
       "ENSG00000099968  0.02634172      0.23893616    \n",
       "ENSG00000015475 -0.14498552     -0.06459698    \n",
       "ENSG00000243156  0.03839897      0.01825553    \n",
       "ENSG00000215193  0.07588282      0.17708923    "
      ]
     },
     "metadata": {},
     "output_type": "display_data"
    },
    {
     "data": {
      "text/html": [
       "<table class=\"dataframe\">\n",
       "<caption>A data.frame: 6 × 10</caption>\n",
       "<thead>\n",
       "\t<tr><th></th><th scope=col>ENSG00000177663</th><th scope=col>ENSG00000131100</th><th scope=col>ENSG00000099968</th><th scope=col>ENSG00000015475</th><th scope=col>ENSG00000243156</th><th scope=col>ENSG00000215193</th><th scope=col>ENSG00000183785</th><th scope=col>ENSG00000184979</th><th scope=col>ENSG00000100033</th><th scope=col>ENSG00000100075</th></tr>\n",
       "\t<tr><th></th><th scope=col>&lt;dbl&gt;</th><th scope=col>&lt;dbl&gt;</th><th scope=col>&lt;dbl&gt;</th><th scope=col>&lt;dbl&gt;</th><th scope=col>&lt;dbl&gt;</th><th scope=col>&lt;dbl&gt;</th><th scope=col>&lt;dbl&gt;</th><th scope=col>&lt;dbl&gt;</th><th scope=col>&lt;dbl&gt;</th><th scope=col>&lt;dbl&gt;</th></tr>\n",
       "</thead>\n",
       "<tbody>\n",
       "\t<tr><th scope=row>ENSG00000177663</th><td> 1.000000000</td><td>-0.05991754</td><td> 0.05975452</td><td>-0.03508067</td><td> 0.007113431</td><td> 0.05887898</td><td> 0.036744097</td><td> 0.047181653</td><td>-0.007069027</td><td> 0.11536215</td></tr>\n",
       "\t<tr><th scope=row>ENSG00000131100</th><td>-0.059917544</td><td> 1.00000000</td><td>-0.15897191</td><td> 0.12348569</td><td>-0.053720689</td><td>-0.02743585</td><td>-0.041079838</td><td>-0.044738824</td><td>-0.095175472</td><td>-0.15029619</td></tr>\n",
       "\t<tr><th scope=row>ENSG00000099968</th><td> 0.059754519</td><td>-0.15897191</td><td> 1.00000000</td><td>-0.10466340</td><td> 0.058608652</td><td> 0.03259883</td><td> 0.009275465</td><td> 0.065200066</td><td> 0.045277056</td><td> 0.13012888</td></tr>\n",
       "\t<tr><th scope=row>ENSG00000015475</th><td>-0.035080675</td><td> 0.12348569</td><td>-0.10466340</td><td> 1.00000000</td><td>-0.036701475</td><td>-0.01775967</td><td>-0.063091232</td><td> 0.002945157</td><td>-0.075655511</td><td>-0.06769240</td></tr>\n",
       "\t<tr><th scope=row>ENSG00000243156</th><td> 0.007113431</td><td>-0.05372069</td><td> 0.05860865</td><td>-0.03670147</td><td> 1.000000000</td><td>-0.02518564</td><td>-0.045101643</td><td> 0.002223870</td><td> 0.022624437</td><td> 0.02145516</td></tr>\n",
       "\t<tr><th scope=row>ENSG00000215193</th><td> 0.058878984</td><td>-0.02743585</td><td> 0.03259883</td><td>-0.01775967</td><td>-0.025185638</td><td> 1.00000000</td><td> 0.018035075</td><td> 0.014437230</td><td> 0.012250985</td><td> 0.07436558</td></tr>\n",
       "</tbody>\n",
       "</table>\n"
      ],
      "text/latex": [
       "A data.frame: 6 × 10\n",
       "\\begin{tabular}{r|llllllllll}\n",
       "  & ENSG00000177663 & ENSG00000131100 & ENSG00000099968 & ENSG00000015475 & ENSG00000243156 & ENSG00000215193 & ENSG00000183785 & ENSG00000184979 & ENSG00000100033 & ENSG00000100075\\\\\n",
       "  & <dbl> & <dbl> & <dbl> & <dbl> & <dbl> & <dbl> & <dbl> & <dbl> & <dbl> & <dbl>\\\\\n",
       "\\hline\n",
       "\tENSG00000177663 &  1.000000000 & -0.05991754 &  0.05975452 & -0.03508067 &  0.007113431 &  0.05887898 &  0.036744097 &  0.047181653 & -0.007069027 &  0.11536215\\\\\n",
       "\tENSG00000131100 & -0.059917544 &  1.00000000 & -0.15897191 &  0.12348569 & -0.053720689 & -0.02743585 & -0.041079838 & -0.044738824 & -0.095175472 & -0.15029619\\\\\n",
       "\tENSG00000099968 &  0.059754519 & -0.15897191 &  1.00000000 & -0.10466340 &  0.058608652 &  0.03259883 &  0.009275465 &  0.065200066 &  0.045277056 &  0.13012888\\\\\n",
       "\tENSG00000015475 & -0.035080675 &  0.12348569 & -0.10466340 &  1.00000000 & -0.036701475 & -0.01775967 & -0.063091232 &  0.002945157 & -0.075655511 & -0.06769240\\\\\n",
       "\tENSG00000243156 &  0.007113431 & -0.05372069 &  0.05860865 & -0.03670147 &  1.000000000 & -0.02518564 & -0.045101643 &  0.002223870 &  0.022624437 &  0.02145516\\\\\n",
       "\tENSG00000215193 &  0.058878984 & -0.02743585 &  0.03259883 & -0.01775967 & -0.025185638 &  1.00000000 &  0.018035075 &  0.014437230 &  0.012250985 &  0.07436558\\\\\n",
       "\\end{tabular}\n"
      ],
      "text/markdown": [
       "\n",
       "A data.frame: 6 × 10\n",
       "\n",
       "| <!--/--> | ENSG00000177663 &lt;dbl&gt; | ENSG00000131100 &lt;dbl&gt; | ENSG00000099968 &lt;dbl&gt; | ENSG00000015475 &lt;dbl&gt; | ENSG00000243156 &lt;dbl&gt; | ENSG00000215193 &lt;dbl&gt; | ENSG00000183785 &lt;dbl&gt; | ENSG00000184979 &lt;dbl&gt; | ENSG00000100033 &lt;dbl&gt; | ENSG00000100075 &lt;dbl&gt; |\n",
       "|---|---|---|---|---|---|---|---|---|---|---|\n",
       "| ENSG00000177663 |  1.000000000 | -0.05991754 |  0.05975452 | -0.03508067 |  0.007113431 |  0.05887898 |  0.036744097 |  0.047181653 | -0.007069027 |  0.11536215 |\n",
       "| ENSG00000131100 | -0.059917544 |  1.00000000 | -0.15897191 |  0.12348569 | -0.053720689 | -0.02743585 | -0.041079838 | -0.044738824 | -0.095175472 | -0.15029619 |\n",
       "| ENSG00000099968 |  0.059754519 | -0.15897191 |  1.00000000 | -0.10466340 |  0.058608652 |  0.03259883 |  0.009275465 |  0.065200066 |  0.045277056 |  0.13012888 |\n",
       "| ENSG00000015475 | -0.035080675 |  0.12348569 | -0.10466340 |  1.00000000 | -0.036701475 | -0.01775967 | -0.063091232 |  0.002945157 | -0.075655511 | -0.06769240 |\n",
       "| ENSG00000243156 |  0.007113431 | -0.05372069 |  0.05860865 | -0.03670147 |  1.000000000 | -0.02518564 | -0.045101643 |  0.002223870 |  0.022624437 |  0.02145516 |\n",
       "| ENSG00000215193 |  0.058878984 | -0.02743585 |  0.03259883 | -0.01775967 | -0.025185638 |  1.00000000 |  0.018035075 |  0.014437230 |  0.012250985 |  0.07436558 |\n",
       "\n"
      ],
      "text/plain": [
       "                ENSG00000177663 ENSG00000131100 ENSG00000099968 ENSG00000015475\n",
       "ENSG00000177663  1.000000000    -0.05991754      0.05975452     -0.03508067    \n",
       "ENSG00000131100 -0.059917544     1.00000000     -0.15897191      0.12348569    \n",
       "ENSG00000099968  0.059754519    -0.15897191      1.00000000     -0.10466340    \n",
       "ENSG00000015475 -0.035080675     0.12348569     -0.10466340      1.00000000    \n",
       "ENSG00000243156  0.007113431    -0.05372069      0.05860865     -0.03670147    \n",
       "ENSG00000215193  0.058878984    -0.02743585      0.03259883     -0.01775967    \n",
       "                ENSG00000243156 ENSG00000215193 ENSG00000183785 ENSG00000184979\n",
       "ENSG00000177663  0.007113431     0.05887898      0.036744097     0.047181653   \n",
       "ENSG00000131100 -0.053720689    -0.02743585     -0.041079838    -0.044738824   \n",
       "ENSG00000099968  0.058608652     0.03259883      0.009275465     0.065200066   \n",
       "ENSG00000015475 -0.036701475    -0.01775967     -0.063091232     0.002945157   \n",
       "ENSG00000243156  1.000000000    -0.02518564     -0.045101643     0.002223870   \n",
       "ENSG00000215193 -0.025185638     1.00000000      0.018035075     0.014437230   \n",
       "                ENSG00000100033 ENSG00000100075\n",
       "ENSG00000177663 -0.007069027     0.11536215    \n",
       "ENSG00000131100 -0.095175472    -0.15029619    \n",
       "ENSG00000099968  0.045277056     0.13012888    \n",
       "ENSG00000015475 -0.075655511    -0.06769240    \n",
       "ENSG00000243156  0.022624437     0.02145516    \n",
       "ENSG00000215193  0.012250985     0.07436558    "
      ]
     },
     "metadata": {},
     "output_type": "display_data"
    }
   ],
   "source": [
    "# quick and visual comparison of the two matrices\n",
    "IRdisplay::display(head(gene_corrs[1:10, 1:10]))\n",
    "IRdisplay::display(head(gene_corrs_corrected[1:10, 1:10]))"
   ]
  },
  {
   "cell_type": "markdown",
   "id": "c6c40f1a-d153-475a-94eb-c71697ad9d51",
   "metadata": {
    "papermill": {
     "duration": 0.006899,
     "end_time": "2022-06-18T11:50:49.934218",
     "exception": false,
     "start_time": "2022-06-18T11:50:49.927319",
     "status": "completed"
    },
    "tags": []
   },
   "source": [
    "Both matrices should \"look\" similar. We are not interested in perfectly accurate correlation values (they are already inaccurate)."
   ]
  },
  {
   "cell_type": "markdown",
   "id": "bf0f49cb-9c21-4616-8390-bb68d52dae56",
   "metadata": {
    "papermill": {
     "duration": 0.006809,
     "end_time": "2022-06-18T11:50:49.947953",
     "exception": false,
     "start_time": "2022-06-18T11:50:49.941144",
     "status": "completed"
    },
    "tags": []
   },
   "source": [
    "# Save"
   ]
  },
  {
   "cell_type": "code",
   "execution_count": 31,
   "id": "2e58e7f3-a75c-4195-a20e-39e3e3e1cc9a",
   "metadata": {
    "execution": {
     "iopub.execute_input": "2022-06-18T11:50:49.962934Z",
     "iopub.status.busy": "2022-06-18T11:50:49.962046Z",
     "iopub.status.idle": "2022-06-18T11:50:49.978318Z",
     "shell.execute_reply": "2022-06-18T11:50:49.977257Z"
    },
    "papermill": {
     "duration": 0.025233,
     "end_time": "2022-06-18T11:50:49.979777",
     "exception": false,
     "start_time": "2022-06-18T11:50:49.954544",
     "status": "completed"
    },
    "tags": []
   },
   "outputs": [],
   "source": [
    "py_save_object(gene_corrs_corrected, OUTPUT_FILE)"
   ]
  },
  {
   "cell_type": "code",
   "execution_count": null,
   "id": "d8ae4220-2171-460c-9231-cd5219f3fe77",
   "metadata": {
    "papermill": {
     "duration": 0.006661,
     "end_time": "2022-06-18T11:50:49.993365",
     "exception": false,
     "start_time": "2022-06-18T11:50:49.986704",
     "status": "completed"
    },
    "tags": []
   },
   "outputs": [],
   "source": []
  }
 ],
 "metadata": {
  "jupytext": {
   "cell_metadata_filter": "all,-execution,-papermill,-trusted"
  },
  "kernelspec": {
   "display_name": "R",
   "language": "R",
   "name": "ir"
  },
  "language_info": {
   "codemirror_mode": "r",
   "file_extension": ".r",
   "mimetype": "text/x-r-source",
   "name": "R",
   "pygments_lexer": "r",
   "version": "3.6.3"
  },
  "papermill": {
   "default_parameters": {},
   "duration": 4.943358,
   "end_time": "2022-06-18T11:50:50.119985",
   "environment_variables": {},
   "exception": null,
   "input_path": "nbs/15_gsa_gls/12-gene_expr_correlations-adjust.ipynb",
   "output_path": "nbs/15_gsa_gls/gene_corrs/gtex_v8/mashr/12-gene_expr_correlations-adjust-chr22.run.ipynb",
   "parameters": {
    "EQTL_MODEL": "MASHR",
    "REFERENCE_PANEL": "GTEX_V8",
    "chromosome": 22
   },
   "start_time": "2022-06-18T11:50:45.176627",
   "version": "2.3.4"
  }
 },
 "nbformat": 4,
 "nbformat_minor": 5
}
