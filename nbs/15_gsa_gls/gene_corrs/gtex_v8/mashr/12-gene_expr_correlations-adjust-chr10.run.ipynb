{
 "cells": [
  {
   "cell_type": "markdown",
   "id": "6c1f0ae4-cd27-4fec-a23d-51699e7059e8",
   "metadata": {
    "papermill": {
     "duration": 0.005774,
     "end_time": "2022-06-18T11:50:15.783824",
     "exception": false,
     "start_time": "2022-06-18T11:50:15.778050",
     "status": "completed"
    },
    "tags": []
   },
   "source": [
    "# Description"
   ]
  },
  {
   "cell_type": "markdown",
   "id": "3268a19a-8a83-4f61-aa39-09b084c81d61",
   "metadata": {
    "papermill": {
     "duration": 0.004636,
     "end_time": "2022-06-18T11:50:15.793200",
     "exception": false,
     "start_time": "2022-06-18T11:50:15.788564",
     "status": "completed"
    },
    "tags": []
   },
   "source": [
    "**TODO**"
   ]
  },
  {
   "cell_type": "markdown",
   "id": "401368d3-22c1-4d81-a2c3-c4a81fde4191",
   "metadata": {
    "papermill": {
     "duration": 0.004366,
     "end_time": "2022-06-18T11:50:15.802094",
     "exception": false,
     "start_time": "2022-06-18T11:50:15.797728",
     "status": "completed"
    },
    "tags": []
   },
   "source": [
    "# Modules"
   ]
  },
  {
   "cell_type": "code",
   "execution_count": 1,
   "id": "f9b5022b-7c5e-4d37-9c7a-fdb91777c7f9",
   "metadata": {
    "execution": {
     "iopub.execute_input": "2022-06-18T11:50:15.834253Z",
     "iopub.status.busy": "2022-06-18T11:50:15.832792Z",
     "iopub.status.idle": "2022-06-18T11:50:19.158754Z",
     "shell.execute_reply": "2022-06-18T11:50:19.157364Z"
    },
    "papermill": {
     "duration": 3.354264,
     "end_time": "2022-06-18T11:50:19.160605",
     "exception": false,
     "start_time": "2022-06-18T11:50:15.806341",
     "status": "completed"
    },
    "tags": []
   },
   "outputs": [],
   "source": [
    "library(reticulate)\n",
    "pd <- import(\"pandas\")"
   ]
  },
  {
   "cell_type": "markdown",
   "id": "c1958d6a-0229-47e8-823e-792fcf84fccf",
   "metadata": {
    "papermill": {
     "duration": 0.004886,
     "end_time": "2022-06-18T11:50:19.170516",
     "exception": false,
     "start_time": "2022-06-18T11:50:19.165630",
     "status": "completed"
    },
    "tags": []
   },
   "source": [
    "# Settings"
   ]
  },
  {
   "cell_type": "code",
   "execution_count": 2,
   "id": "22d12bb4-1699-4a6b-b1b9-d3fdd3d547d7",
   "metadata": {
    "execution": {
     "iopub.execute_input": "2022-06-18T11:50:19.204074Z",
     "iopub.status.busy": "2022-06-18T11:50:19.181353Z",
     "iopub.status.idle": "2022-06-18T11:50:19.216643Z",
     "shell.execute_reply": "2022-06-18T11:50:19.215393Z"
    },
    "papermill": {
     "duration": 0.043354,
     "end_time": "2022-06-18T11:50:19.218472",
     "exception": false,
     "start_time": "2022-06-18T11:50:19.175118",
     "status": "completed"
    },
    "tags": [
     "parameters"
    ]
   },
   "outputs": [],
   "source": [
    "# reference panel\n",
    "REFERENCE_PANEL <- \"GTEX_V8\"\n",
    "# REFERENCE_PANEL = \"1000G\"\n",
    "\n",
    "# prediction models\n",
    "## mashr\n",
    "EQTL_MODEL <- \"MASHR\"\n",
    "\n",
    "# ## elastic net\n",
    "# EQTL_MODEL = \"ELASTIC_NET\"\n",
    "\n",
    "chromosome <- NULL"
   ]
  },
  {
   "cell_type": "code",
   "execution_count": 3,
   "id": "b20e2142",
   "metadata": {
    "execution": {
     "iopub.execute_input": "2022-06-18T11:50:19.231339Z",
     "iopub.status.busy": "2022-06-18T11:50:19.230222Z",
     "iopub.status.idle": "2022-06-18T11:50:19.248904Z",
     "shell.execute_reply": "2022-06-18T11:50:19.247605Z"
    },
    "papermill": {
     "duration": 0.026427,
     "end_time": "2022-06-18T11:50:19.250715",
     "exception": false,
     "start_time": "2022-06-18T11:50:19.224288",
     "status": "completed"
    },
    "tags": [
     "injected-parameters"
    ]
   },
   "outputs": [],
   "source": [
    "# Parameters\n",
    "chromosome = 10\n",
    "REFERENCE_PANEL = \"GTEX_V8\"\n",
    "EQTL_MODEL = \"MASHR\"\n"
   ]
  },
  {
   "cell_type": "code",
   "execution_count": 4,
   "id": "8fe24bef",
   "metadata": {
    "execution": {
     "iopub.execute_input": "2022-06-18T11:50:19.263032Z",
     "iopub.status.busy": "2022-06-18T11:50:19.261938Z",
     "iopub.status.idle": "2022-06-18T11:50:19.275990Z",
     "shell.execute_reply": "2022-06-18T11:50:19.274699Z"
    },
    "papermill": {
     "duration": 0.021969,
     "end_time": "2022-06-18T11:50:19.277742",
     "exception": false,
     "start_time": "2022-06-18T11:50:19.255773",
     "status": "completed"
    },
    "tags": []
   },
   "outputs": [
    {
     "data": {
      "text/html": [
       "'Using reference panel: GTEX_V8'"
      ],
      "text/latex": [
       "'Using reference panel: GTEX\\_V8'"
      ],
      "text/markdown": [
       "'Using reference panel: GTEX_V8'"
      ],
      "text/plain": [
       "[1] \"Using reference panel: GTEX_V8\""
      ]
     },
     "metadata": {},
     "output_type": "display_data"
    }
   ],
   "source": [
    "paste0(\"Using reference panel: \", REFERENCE_PANEL)"
   ]
  },
  {
   "cell_type": "code",
   "execution_count": 5,
   "id": "d62c28f8-186c-478b-948c-58e14f00df4b",
   "metadata": {
    "execution": {
     "iopub.execute_input": "2022-06-18T11:50:19.291239Z",
     "iopub.status.busy": "2022-06-18T11:50:19.290133Z",
     "iopub.status.idle": "2022-06-18T11:50:19.302601Z",
     "shell.execute_reply": "2022-06-18T11:50:19.300507Z"
    },
    "papermill": {
     "duration": 0.020948,
     "end_time": "2022-06-18T11:50:19.304647",
     "exception": false,
     "start_time": "2022-06-18T11:50:19.283699",
     "status": "completed"
    },
    "tags": []
   },
   "outputs": [
    {
     "data": {
      "text/html": [
       "'Using eQTL model: MASHR'"
      ],
      "text/latex": [
       "'Using eQTL model: MASHR'"
      ],
      "text/markdown": [
       "'Using eQTL model: MASHR'"
      ],
      "text/plain": [
       "[1] \"Using eQTL model: MASHR\""
      ]
     },
     "metadata": {},
     "output_type": "display_data"
    }
   ],
   "source": [
    "paste0(\"Using eQTL model: \", EQTL_MODEL)"
   ]
  },
  {
   "cell_type": "code",
   "execution_count": 6,
   "id": "5243676f-c889-4405-9a4d-262f0f044614",
   "metadata": {
    "execution": {
     "iopub.execute_input": "2022-06-18T11:50:19.317664Z",
     "iopub.status.busy": "2022-06-18T11:50:19.316481Z",
     "iopub.status.idle": "2022-06-18T11:50:19.326609Z",
     "shell.execute_reply": "2022-06-18T11:50:19.325287Z"
    },
    "papermill": {
     "duration": 0.018278,
     "end_time": "2022-06-18T11:50:19.328370",
     "exception": false,
     "start_time": "2022-06-18T11:50:19.310092",
     "status": "completed"
    },
    "tags": []
   },
   "outputs": [],
   "source": [
    "# chromosome must be provided as parameter\n",
    "stopifnot(!is.null(chromosome))"
   ]
  },
  {
   "cell_type": "markdown",
   "id": "83a49773-bcf5-44c4-8d9b-a6ac65a57ec6",
   "metadata": {
    "papermill": {
     "duration": 0.004994,
     "end_time": "2022-06-18T11:50:19.339870",
     "exception": false,
     "start_time": "2022-06-18T11:50:19.334876",
     "status": "completed"
    },
    "tags": []
   },
   "source": [
    "# Paths"
   ]
  },
  {
   "cell_type": "code",
   "execution_count": 7,
   "id": "eb6aa8aa-b452-4a2f-a780-93dd80ad4285",
   "metadata": {
    "execution": {
     "iopub.execute_input": "2022-06-18T11:50:19.354181Z",
     "iopub.status.busy": "2022-06-18T11:50:19.351988Z",
     "iopub.status.idle": "2022-06-18T11:50:19.373034Z",
     "shell.execute_reply": "2022-06-18T11:50:19.370499Z"
    },
    "papermill": {
     "duration": 0.030242,
     "end_time": "2022-06-18T11:50:19.375233",
     "exception": false,
     "start_time": "2022-06-18T11:50:19.344991",
     "status": "completed"
    },
    "tags": []
   },
   "outputs": [
    {
     "data": {
      "text/html": [
       "'/opt/data/data/phenomexcan/ld_blocks/gene_corrs'"
      ],
      "text/latex": [
       "'/opt/data/data/phenomexcan/ld\\_blocks/gene\\_corrs'"
      ],
      "text/markdown": [
       "'/opt/data/data/phenomexcan/ld_blocks/gene_corrs'"
      ],
      "text/plain": [
       "[1] \"/opt/data/data/phenomexcan/ld_blocks/gene_corrs\""
      ]
     },
     "metadata": {},
     "output_type": "display_data"
    }
   ],
   "source": [
    "GENE_CORRS_DIR <- Sys.getenv(\"PHENOPLIER_PHENOMEXCAN_LD_BLOCKS_GENE_CORRS_DIR\")\n",
    "IRdisplay::display(GENE_CORRS_DIR)"
   ]
  },
  {
   "cell_type": "code",
   "execution_count": 8,
   "id": "eb24f15f-f282-4476-8943-8413c4483f12",
   "metadata": {
    "execution": {
     "iopub.execute_input": "2022-06-18T11:50:19.389408Z",
     "iopub.status.busy": "2022-06-18T11:50:19.388192Z",
     "iopub.status.idle": "2022-06-18T11:50:19.402126Z",
     "shell.execute_reply": "2022-06-18T11:50:19.400823Z"
    },
    "papermill": {
     "duration": 0.022576,
     "end_time": "2022-06-18T11:50:19.403978",
     "exception": false,
     "start_time": "2022-06-18T11:50:19.381402",
     "status": "completed"
    },
    "tags": []
   },
   "outputs": [
    {
     "data": {
      "text/html": [
       "'/opt/data/data/phenomexcan/ld_blocks/gene_corrs/gtex_v8/mashr/by_chr'"
      ],
      "text/latex": [
       "'/opt/data/data/phenomexcan/ld\\_blocks/gene\\_corrs/gtex\\_v8/mashr/by\\_chr'"
      ],
      "text/markdown": [
       "'/opt/data/data/phenomexcan/ld_blocks/gene_corrs/gtex_v8/mashr/by_chr'"
      ],
      "text/plain": [
       "[1] \"/opt/data/data/phenomexcan/ld_blocks/gene_corrs/gtex_v8/mashr/by_chr\""
      ]
     },
     "metadata": {},
     "output_type": "display_data"
    }
   ],
   "source": [
    "INPUT_DIR <- file.path(GENE_CORRS_DIR, tolower(REFERENCE_PANEL), tolower(EQTL_MODEL), \"by_chr\")\n",
    "IRdisplay::display(INPUT_DIR)"
   ]
  },
  {
   "cell_type": "code",
   "execution_count": 9,
   "id": "43c1daba-0da9-4822-8d1e-968e9767e251",
   "metadata": {
    "execution": {
     "iopub.execute_input": "2022-06-18T11:50:19.418118Z",
     "iopub.status.busy": "2022-06-18T11:50:19.416967Z",
     "iopub.status.idle": "2022-06-18T11:50:19.432210Z",
     "shell.execute_reply": "2022-06-18T11:50:19.430953Z"
    },
    "papermill": {
     "duration": 0.023959,
     "end_time": "2022-06-18T11:50:19.434103",
     "exception": false,
     "start_time": "2022-06-18T11:50:19.410144",
     "status": "completed"
    },
    "tags": []
   },
   "outputs": [
    {
     "data": {
      "text/html": [
       "'/opt/data/data/phenomexcan/ld_blocks/gene_corrs/gtex_v8/mashr/by_chr/gene_corrs-chr10.pkl'"
      ],
      "text/latex": [
       "'/opt/data/data/phenomexcan/ld\\_blocks/gene\\_corrs/gtex\\_v8/mashr/by\\_chr/gene\\_corrs-chr10.pkl'"
      ],
      "text/markdown": [
       "'/opt/data/data/phenomexcan/ld_blocks/gene_corrs/gtex_v8/mashr/by_chr/gene_corrs-chr10.pkl'"
      ],
      "text/plain": [
       "[1] \"/opt/data/data/phenomexcan/ld_blocks/gene_corrs/gtex_v8/mashr/by_chr/gene_corrs-chr10.pkl\""
      ]
     },
     "metadata": {},
     "output_type": "display_data"
    }
   ],
   "source": [
    "INPUT_FILE <- file.path(INPUT_DIR, paste0(\"gene_corrs-chr\", chromosome, \".pkl\"))\n",
    "IRdisplay::display(INPUT_FILE)\n",
    "stopifnot(file.exists(INPUT_FILE))"
   ]
  },
  {
   "cell_type": "code",
   "execution_count": 10,
   "id": "72386fbf-982b-420a-9057-ea9a97a5e571",
   "metadata": {
    "execution": {
     "iopub.execute_input": "2022-06-18T11:50:19.447626Z",
     "iopub.status.busy": "2022-06-18T11:50:19.446546Z",
     "iopub.status.idle": "2022-06-18T11:50:19.462009Z",
     "shell.execute_reply": "2022-06-18T11:50:19.460747Z"
    },
    "papermill": {
     "duration": 0.023959,
     "end_time": "2022-06-18T11:50:19.463835",
     "exception": false,
     "start_time": "2022-06-18T11:50:19.439876",
     "status": "completed"
    },
    "tags": []
   },
   "outputs": [
    {
     "data": {
      "text/html": [
       "'/opt/data/data/phenomexcan/ld_blocks/gene_corrs/gtex_v8/mashr/by_chr/corrected_positive_definite'"
      ],
      "text/latex": [
       "'/opt/data/data/phenomexcan/ld\\_blocks/gene\\_corrs/gtex\\_v8/mashr/by\\_chr/corrected\\_positive\\_definite'"
      ],
      "text/markdown": [
       "'/opt/data/data/phenomexcan/ld_blocks/gene_corrs/gtex_v8/mashr/by_chr/corrected_positive_definite'"
      ],
      "text/plain": [
       "[1] \"/opt/data/data/phenomexcan/ld_blocks/gene_corrs/gtex_v8/mashr/by_chr/corrected_positive_definite\""
      ]
     },
     "metadata": {},
     "output_type": "display_data"
    }
   ],
   "source": [
    "OUTPUT_DIR <- file.path(INPUT_DIR, \"corrected_positive_definite\")\n",
    "IRdisplay::display(OUTPUT_DIR)\n",
    "dir.create(OUTPUT_DIR, recursive = TRUE, showWarnings = FALSE)"
   ]
  },
  {
   "cell_type": "code",
   "execution_count": 11,
   "id": "f9f19d1d-ce4c-4099-a26e-250fec751de7",
   "metadata": {
    "execution": {
     "iopub.execute_input": "2022-06-18T11:50:19.477461Z",
     "iopub.status.busy": "2022-06-18T11:50:19.476385Z",
     "iopub.status.idle": "2022-06-18T11:50:19.496854Z",
     "shell.execute_reply": "2022-06-18T11:50:19.492355Z"
    },
    "papermill": {
     "duration": 0.029499,
     "end_time": "2022-06-18T11:50:19.499288",
     "exception": false,
     "start_time": "2022-06-18T11:50:19.469789",
     "status": "completed"
    },
    "tags": []
   },
   "outputs": [
    {
     "data": {
      "text/html": [
       "'/opt/data/data/phenomexcan/ld_blocks/gene_corrs/gtex_v8/mashr/by_chr/corrected_positive_definite/gene_corrs-chr10.pkl'"
      ],
      "text/latex": [
       "'/opt/data/data/phenomexcan/ld\\_blocks/gene\\_corrs/gtex\\_v8/mashr/by\\_chr/corrected\\_positive\\_definite/gene\\_corrs-chr10.pkl'"
      ],
      "text/markdown": [
       "'/opt/data/data/phenomexcan/ld_blocks/gene_corrs/gtex_v8/mashr/by_chr/corrected_positive_definite/gene_corrs-chr10.pkl'"
      ],
      "text/plain": [
       "[1] \"/opt/data/data/phenomexcan/ld_blocks/gene_corrs/gtex_v8/mashr/by_chr/corrected_positive_definite/gene_corrs-chr10.pkl\""
      ]
     },
     "metadata": {},
     "output_type": "display_data"
    },
    {
     "data": {
      "text/html": [
       "'Output file exists, it will be overwritten'"
      ],
      "text/latex": [
       "'Output file exists, it will be overwritten'"
      ],
      "text/markdown": [
       "'Output file exists, it will be overwritten'"
      ],
      "text/plain": [
       "[1] \"Output file exists, it will be overwritten\""
      ]
     },
     "metadata": {},
     "output_type": "display_data"
    }
   ],
   "source": [
    "OUTPUT_FILE <- file.path(OUTPUT_DIR, paste0(\"gene_corrs-chr\", chromosome, \".pkl\"))\n",
    "IRdisplay::display(OUTPUT_FILE)\n",
    "if (file.exists(OUTPUT_FILE)) {\n",
    "  IRdisplay::display(\"Output file exists, it will be overwritten\")\n",
    "}"
   ]
  },
  {
   "cell_type": "markdown",
   "id": "5aad60e6-cba4-41b5-9755-93eb86f4ed05",
   "metadata": {
    "papermill": {
     "duration": 0.006075,
     "end_time": "2022-06-18T11:50:19.511602",
     "exception": false,
     "start_time": "2022-06-18T11:50:19.505527",
     "status": "completed"
    },
    "tags": []
   },
   "source": [
    "# Functions"
   ]
  },
  {
   "cell_type": "code",
   "execution_count": 12,
   "id": "f828f081-7358-4cc8-8a89-1ee293bcc1a7",
   "metadata": {
    "execution": {
     "iopub.execute_input": "2022-06-18T11:50:19.526835Z",
     "iopub.status.busy": "2022-06-18T11:50:19.525660Z",
     "iopub.status.idle": "2022-06-18T11:50:19.536696Z",
     "shell.execute_reply": "2022-06-18T11:50:19.534763Z"
    },
    "papermill": {
     "duration": 0.020653,
     "end_time": "2022-06-18T11:50:19.538709",
     "exception": false,
     "start_time": "2022-06-18T11:50:19.518056",
     "status": "completed"
    },
    "tags": []
   },
   "outputs": [],
   "source": [
    "# taken from https://www.r-bloggers.com/2013/08/correcting-a-pseudo-correlation-matrix-to-be-positive-semidefinite/\n",
    "# TODO: add documentation\n",
    "CorrectCM <- function(CM, p = 0) {\n",
    "  n <- dim(var(CM))[1L]\n",
    "  E <- eigen(CM)\n",
    "  CM1 <- E$vectors %*% tcrossprod(diag(pmax(E$values, p), n), E$vectors)\n",
    "  Balance <- diag(1 / sqrt(diag(CM1)))\n",
    "  CM2 <- Balance %*% CM1 %*% Balance\n",
    "  return(CM2)\n",
    "}"
   ]
  },
  {
   "cell_type": "code",
   "execution_count": 13,
   "id": "7ab9bebf-50a1-4e6f-b16a-e23cae93d02a",
   "metadata": {
    "execution": {
     "iopub.execute_input": "2022-06-18T11:50:19.554394Z",
     "iopub.status.busy": "2022-06-18T11:50:19.552962Z",
     "iopub.status.idle": "2022-06-18T11:50:19.565420Z",
     "shell.execute_reply": "2022-06-18T11:50:19.563123Z"
    },
    "papermill": {
     "duration": 0.022396,
     "end_time": "2022-06-18T11:50:19.567702",
     "exception": false,
     "start_time": "2022-06-18T11:50:19.545306",
     "status": "completed"
    },
    "tags": []
   },
   "outputs": [],
   "source": [
    "is_positive_definite <- function(data) {\n",
    "  eigenvalues <- eigen(data)$values\n",
    "  nonpositive_eigenvalues <- eigenvalues[eigenvalues <= 0]\n",
    "\n",
    "  if (length(nonpositive_eigenvalues) > 0) {\n",
    "    IRdisplay::display(\"We need to correct the data and make the matrix positive definite\")\n",
    "    return(FALSE)\n",
    "  } else {\n",
    "    IRdisplay::display(\"Matrix is already positive definite!\")\n",
    "    return(TRUE)\n",
    "  }\n",
    "}"
   ]
  },
  {
   "cell_type": "markdown",
   "id": "ac52ecbc-5618-4876-a4fa-546a08e3fcf3",
   "metadata": {
    "papermill": {
     "duration": 0.006964,
     "end_time": "2022-06-18T11:50:19.582051",
     "exception": false,
     "start_time": "2022-06-18T11:50:19.575087",
     "status": "completed"
    },
    "tags": []
   },
   "source": [
    "# Load data"
   ]
  },
  {
   "cell_type": "code",
   "execution_count": 14,
   "id": "3a7744e1-2e5a-450e-9dcf-945ec181347d",
   "metadata": {
    "execution": {
     "iopub.execute_input": "2022-06-18T11:50:19.596683Z",
     "iopub.status.busy": "2022-06-18T11:50:19.595487Z",
     "iopub.status.idle": "2022-06-18T11:50:19.639953Z",
     "shell.execute_reply": "2022-06-18T11:50:19.638661Z"
    },
    "papermill": {
     "duration": 0.053511,
     "end_time": "2022-06-18T11:50:19.641758",
     "exception": false,
     "start_time": "2022-06-18T11:50:19.588247",
     "status": "completed"
    },
    "tags": []
   },
   "outputs": [],
   "source": [
    "gene_corrs <- pd$read_pickle(INPUT_FILE)"
   ]
  },
  {
   "cell_type": "code",
   "execution_count": 15,
   "id": "6fb150b2-4c68-4e9b-9aa5-1890d3f762e3",
   "metadata": {
    "execution": {
     "iopub.execute_input": "2022-06-18T11:50:19.657848Z",
     "iopub.status.busy": "2022-06-18T11:50:19.656774Z",
     "iopub.status.idle": "2022-06-18T11:50:19.670527Z",
     "shell.execute_reply": "2022-06-18T11:50:19.669112Z"
    },
    "papermill": {
     "duration": 0.024448,
     "end_time": "2022-06-18T11:50:19.673727",
     "exception": false,
     "start_time": "2022-06-18T11:50:19.649279",
     "status": "completed"
    },
    "tags": []
   },
   "outputs": [
    {
     "data": {
      "text/html": [
       "<style>\n",
       ".list-inline {list-style: none; margin:0; padding: 0}\n",
       ".list-inline>li {display: inline-block}\n",
       ".list-inline>li:not(:last-child)::after {content: \"\\00b7\"; padding: 0 .5ex}\n",
       "</style>\n",
       "<ol class=list-inline><li>245</li><li>245</li></ol>\n"
      ],
      "text/latex": [
       "\\begin{enumerate*}\n",
       "\\item 245\n",
       "\\item 245\n",
       "\\end{enumerate*}\n"
      ],
      "text/markdown": [
       "1. 245\n",
       "2. 245\n",
       "\n",
       "\n"
      ],
      "text/plain": [
       "[1] 245 245"
      ]
     },
     "metadata": {},
     "output_type": "display_data"
    }
   ],
   "source": [
    "dim(gene_corrs)"
   ]
  },
  {
   "cell_type": "code",
   "execution_count": 16,
   "id": "0d4e53b5-7586-4a68-8ce5-d930d74ba943",
   "metadata": {
    "execution": {
     "iopub.execute_input": "2022-06-18T11:50:19.689332Z",
     "iopub.status.busy": "2022-06-18T11:50:19.688230Z",
     "iopub.status.idle": "2022-06-18T11:50:19.711375Z",
     "shell.execute_reply": "2022-06-18T11:50:19.710085Z"
    },
    "papermill": {
     "duration": 0.032312,
     "end_time": "2022-06-18T11:50:19.713161",
     "exception": false,
     "start_time": "2022-06-18T11:50:19.680849",
     "status": "completed"
    },
    "tags": []
   },
   "outputs": [
    {
     "data": {
      "text/html": [
       "<table class=\"dataframe\">\n",
       "<caption>A data.frame: 6 × 10</caption>\n",
       "<thead>\n",
       "\t<tr><th></th><th scope=col>ENSG00000261456</th><th scope=col>ENSG00000148377</th><th scope=col>ENSG00000067064</th><th scope=col>ENSG00000067057</th><th scope=col>ENSG00000067082</th><th scope=col>ENSG00000187134</th><th scope=col>ENSG00000151632</th><th scope=col>ENSG00000196139</th><th scope=col>ENSG00000173848</th><th scope=col>ENSG00000196372</th></tr>\n",
       "\t<tr><th></th><th scope=col>&lt;dbl&gt;</th><th scope=col>&lt;dbl&gt;</th><th scope=col>&lt;dbl&gt;</th><th scope=col>&lt;dbl&gt;</th><th scope=col>&lt;dbl&gt;</th><th scope=col>&lt;dbl&gt;</th><th scope=col>&lt;dbl&gt;</th><th scope=col>&lt;dbl&gt;</th><th scope=col>&lt;dbl&gt;</th><th scope=col>&lt;dbl&gt;</th></tr>\n",
       "</thead>\n",
       "<tbody>\n",
       "\t<tr><th scope=row>ENSG00000261456</th><td> 1.000000000</td><td>-0.1228503</td><td> 0.050842088</td><td> 0.003262422</td><td> 0.09813451</td><td>-0.07818829</td><td> 0.03809427</td><td>-0.005629585</td><td> 0.00000000</td><td> 0.0000000000</td></tr>\n",
       "\t<tr><th scope=row>ENSG00000148377</th><td>-0.122850300</td><td> 1.0000000</td><td>-0.170758739</td><td>-0.125378774</td><td>-0.22860343</td><td> 0.46265704</td><td> 0.24080450</td><td> 0.211018493</td><td>-0.16858282</td><td> 0.1502695159</td></tr>\n",
       "\t<tr><th scope=row>ENSG00000067064</th><td> 0.050842088</td><td>-0.1707587</td><td> 1.000000000</td><td> 0.002722405</td><td>-0.02499134</td><td> 0.17241602</td><td>-0.02510686</td><td> 0.021679597</td><td>-0.01466676</td><td>-0.0163451020</td></tr>\n",
       "\t<tr><th scope=row>ENSG00000067057</th><td> 0.003262422</td><td>-0.1253788</td><td> 0.002722405</td><td> 1.000000000</td><td>-0.07886797</td><td> 0.05611301</td><td>-0.05881128</td><td> 0.060549470</td><td> 0.12112833</td><td> 0.0003274758</td></tr>\n",
       "\t<tr><th scope=row>ENSG00000067082</th><td> 0.098134513</td><td>-0.2286034</td><td>-0.024991338</td><td>-0.078867973</td><td> 1.00000000</td><td> 0.11128953</td><td>-0.05788965</td><td> 0.038038686</td><td>-0.03006517</td><td>-0.0053528156</td></tr>\n",
       "\t<tr><th scope=row>ENSG00000187134</th><td>-0.078188288</td><td> 0.4626570</td><td> 0.172416017</td><td> 0.056113009</td><td> 0.11128953</td><td> 1.00000000</td><td>-0.14740737</td><td> 0.044083754</td><td> 0.09026946</td><td> 0.0107116897</td></tr>\n",
       "</tbody>\n",
       "</table>\n"
      ],
      "text/latex": [
       "A data.frame: 6 × 10\n",
       "\\begin{tabular}{r|llllllllll}\n",
       "  & ENSG00000261456 & ENSG00000148377 & ENSG00000067064 & ENSG00000067057 & ENSG00000067082 & ENSG00000187134 & ENSG00000151632 & ENSG00000196139 & ENSG00000173848 & ENSG00000196372\\\\\n",
       "  & <dbl> & <dbl> & <dbl> & <dbl> & <dbl> & <dbl> & <dbl> & <dbl> & <dbl> & <dbl>\\\\\n",
       "\\hline\n",
       "\tENSG00000261456 &  1.000000000 & -0.1228503 &  0.050842088 &  0.003262422 &  0.09813451 & -0.07818829 &  0.03809427 & -0.005629585 &  0.00000000 &  0.0000000000\\\\\n",
       "\tENSG00000148377 & -0.122850300 &  1.0000000 & -0.170758739 & -0.125378774 & -0.22860343 &  0.46265704 &  0.24080450 &  0.211018493 & -0.16858282 &  0.1502695159\\\\\n",
       "\tENSG00000067064 &  0.050842088 & -0.1707587 &  1.000000000 &  0.002722405 & -0.02499134 &  0.17241602 & -0.02510686 &  0.021679597 & -0.01466676 & -0.0163451020\\\\\n",
       "\tENSG00000067057 &  0.003262422 & -0.1253788 &  0.002722405 &  1.000000000 & -0.07886797 &  0.05611301 & -0.05881128 &  0.060549470 &  0.12112833 &  0.0003274758\\\\\n",
       "\tENSG00000067082 &  0.098134513 & -0.2286034 & -0.024991338 & -0.078867973 &  1.00000000 &  0.11128953 & -0.05788965 &  0.038038686 & -0.03006517 & -0.0053528156\\\\\n",
       "\tENSG00000187134 & -0.078188288 &  0.4626570 &  0.172416017 &  0.056113009 &  0.11128953 &  1.00000000 & -0.14740737 &  0.044083754 &  0.09026946 &  0.0107116897\\\\\n",
       "\\end{tabular}\n"
      ],
      "text/markdown": [
       "\n",
       "A data.frame: 6 × 10\n",
       "\n",
       "| <!--/--> | ENSG00000261456 &lt;dbl&gt; | ENSG00000148377 &lt;dbl&gt; | ENSG00000067064 &lt;dbl&gt; | ENSG00000067057 &lt;dbl&gt; | ENSG00000067082 &lt;dbl&gt; | ENSG00000187134 &lt;dbl&gt; | ENSG00000151632 &lt;dbl&gt; | ENSG00000196139 &lt;dbl&gt; | ENSG00000173848 &lt;dbl&gt; | ENSG00000196372 &lt;dbl&gt; |\n",
       "|---|---|---|---|---|---|---|---|---|---|---|\n",
       "| ENSG00000261456 |  1.000000000 | -0.1228503 |  0.050842088 |  0.003262422 |  0.09813451 | -0.07818829 |  0.03809427 | -0.005629585 |  0.00000000 |  0.0000000000 |\n",
       "| ENSG00000148377 | -0.122850300 |  1.0000000 | -0.170758739 | -0.125378774 | -0.22860343 |  0.46265704 |  0.24080450 |  0.211018493 | -0.16858282 |  0.1502695159 |\n",
       "| ENSG00000067064 |  0.050842088 | -0.1707587 |  1.000000000 |  0.002722405 | -0.02499134 |  0.17241602 | -0.02510686 |  0.021679597 | -0.01466676 | -0.0163451020 |\n",
       "| ENSG00000067057 |  0.003262422 | -0.1253788 |  0.002722405 |  1.000000000 | -0.07886797 |  0.05611301 | -0.05881128 |  0.060549470 |  0.12112833 |  0.0003274758 |\n",
       "| ENSG00000067082 |  0.098134513 | -0.2286034 | -0.024991338 | -0.078867973 |  1.00000000 |  0.11128953 | -0.05788965 |  0.038038686 | -0.03006517 | -0.0053528156 |\n",
       "| ENSG00000187134 | -0.078188288 |  0.4626570 |  0.172416017 |  0.056113009 |  0.11128953 |  1.00000000 | -0.14740737 |  0.044083754 |  0.09026946 |  0.0107116897 |\n",
       "\n"
      ],
      "text/plain": [
       "                ENSG00000261456 ENSG00000148377 ENSG00000067064 ENSG00000067057\n",
       "ENSG00000261456  1.000000000    -0.1228503       0.050842088     0.003262422   \n",
       "ENSG00000148377 -0.122850300     1.0000000      -0.170758739    -0.125378774   \n",
       "ENSG00000067064  0.050842088    -0.1707587       1.000000000     0.002722405   \n",
       "ENSG00000067057  0.003262422    -0.1253788       0.002722405     1.000000000   \n",
       "ENSG00000067082  0.098134513    -0.2286034      -0.024991338    -0.078867973   \n",
       "ENSG00000187134 -0.078188288     0.4626570       0.172416017     0.056113009   \n",
       "                ENSG00000067082 ENSG00000187134 ENSG00000151632 ENSG00000196139\n",
       "ENSG00000261456  0.09813451     -0.07818829      0.03809427     -0.005629585   \n",
       "ENSG00000148377 -0.22860343      0.46265704      0.24080450      0.211018493   \n",
       "ENSG00000067064 -0.02499134      0.17241602     -0.02510686      0.021679597   \n",
       "ENSG00000067057 -0.07886797      0.05611301     -0.05881128      0.060549470   \n",
       "ENSG00000067082  1.00000000      0.11128953     -0.05788965      0.038038686   \n",
       "ENSG00000187134  0.11128953      1.00000000     -0.14740737      0.044083754   \n",
       "                ENSG00000173848 ENSG00000196372\n",
       "ENSG00000261456  0.00000000      0.0000000000  \n",
       "ENSG00000148377 -0.16858282      0.1502695159  \n",
       "ENSG00000067064 -0.01466676     -0.0163451020  \n",
       "ENSG00000067057  0.12112833      0.0003274758  \n",
       "ENSG00000067082 -0.03006517     -0.0053528156  \n",
       "ENSG00000187134  0.09026946      0.0107116897  "
      ]
     },
     "metadata": {},
     "output_type": "display_data"
    }
   ],
   "source": [
    "head(gene_corrs[1:10, 1:10])"
   ]
  },
  {
   "cell_type": "markdown",
   "id": "c5c9ffba-1678-4ce7-8988-4ee03e23bdf2",
   "metadata": {
    "papermill": {
     "duration": 0.006786,
     "end_time": "2022-06-18T11:50:19.726886",
     "exception": false,
     "start_time": "2022-06-18T11:50:19.720100",
     "status": "completed"
    },
    "tags": []
   },
   "source": [
    "# Check positive definiteness"
   ]
  },
  {
   "cell_type": "code",
   "execution_count": 17,
   "id": "178854f5-487a-42e8-82b4-625c1979734a",
   "metadata": {
    "execution": {
     "iopub.execute_input": "2022-06-18T11:50:19.743031Z",
     "iopub.status.busy": "2022-06-18T11:50:19.741901Z",
     "iopub.status.idle": "2022-06-18T11:50:19.790527Z",
     "shell.execute_reply": "2022-06-18T11:50:19.787343Z"
    },
    "papermill": {
     "duration": 0.058595,
     "end_time": "2022-06-18T11:50:19.792278",
     "exception": false,
     "start_time": "2022-06-18T11:50:19.733683",
     "status": "completed"
    },
    "tags": []
   },
   "outputs": [
    {
     "data": {
      "text/html": [
       "'We need to correct the data and make the matrix positive definite'"
      ],
      "text/latex": [
       "'We need to correct the data and make the matrix positive definite'"
      ],
      "text/markdown": [
       "'We need to correct the data and make the matrix positive definite'"
      ],
      "text/plain": [
       "[1] \"We need to correct the data and make the matrix positive definite\""
      ]
     },
     "metadata": {},
     "output_type": "display_data"
    },
    {
     "data": {
      "text/html": [
       "FALSE"
      ],
      "text/latex": [
       "FALSE"
      ],
      "text/markdown": [
       "FALSE"
      ],
      "text/plain": [
       "[1] FALSE"
      ]
     },
     "metadata": {},
     "output_type": "display_data"
    }
   ],
   "source": [
    "is_positive_definite(gene_corrs)"
   ]
  },
  {
   "cell_type": "code",
   "execution_count": 18,
   "id": "58542ade-c80f-42e6-acbf-6464dab70fdb",
   "metadata": {
    "execution": {
     "iopub.execute_input": "2022-06-18T11:50:19.807339Z",
     "iopub.status.busy": "2022-06-18T11:50:19.805501Z",
     "iopub.status.idle": "2022-06-18T11:50:19.840334Z",
     "shell.execute_reply": "2022-06-18T11:50:19.839117Z"
    },
    "papermill": {
     "duration": 0.043367,
     "end_time": "2022-06-18T11:50:19.841905",
     "exception": false,
     "start_time": "2022-06-18T11:50:19.798538",
     "status": "completed"
    },
    "tags": []
   },
   "outputs": [],
   "source": [
    "# see eigenvalues\n",
    "eigenvalues <- eigen(gene_corrs)$values"
   ]
  },
  {
   "cell_type": "code",
   "execution_count": 19,
   "id": "9486e0db-e924-43ab-bb6c-0d997fd38f3d",
   "metadata": {
    "execution": {
     "iopub.execute_input": "2022-06-18T11:50:19.862651Z",
     "iopub.status.busy": "2022-06-18T11:50:19.861637Z",
     "iopub.status.idle": "2022-06-18T11:50:19.893431Z",
     "shell.execute_reply": "2022-06-18T11:50:19.891294Z"
    },
    "papermill": {
     "duration": 0.045344,
     "end_time": "2022-06-18T11:50:19.895615",
     "exception": false,
     "start_time": "2022-06-18T11:50:19.850271",
     "status": "completed"
    },
    "tags": []
   },
   "outputs": [
    {
     "data": {
      "text/html": [
       "12"
      ],
      "text/latex": [
       "12"
      ],
      "text/markdown": [
       "12"
      ],
      "text/plain": [
       "[1] 12"
      ]
     },
     "metadata": {},
     "output_type": "display_data"
    },
    {
     "data": {
      "text/html": [
       "<style>\n",
       ".list-inline {list-style: none; margin:0; padding: 0}\n",
       ".list-inline>li {display: inline-block}\n",
       ".list-inline>li:not(:last-child)::after {content: \"\\00b7\"; padding: 0 .5ex}\n",
       "</style>\n",
       "<ol class=list-inline><li>-0.00726209714192949</li><li>-0.0233045026804803</li><li>-0.05871577836486</li><li>-0.0813621651260299</li><li>-0.0986710561320718</li><li>-0.201103749098857</li><li>-0.271518323723237</li><li>-0.292560039004639</li><li>-0.418914817476274</li><li>-0.486092547655941</li><li>-0.654411088665735</li><li>-1.43247591779026</li></ol>\n"
      ],
      "text/latex": [
       "\\begin{enumerate*}\n",
       "\\item -0.00726209714192949\n",
       "\\item -0.0233045026804803\n",
       "\\item -0.05871577836486\n",
       "\\item -0.0813621651260299\n",
       "\\item -0.0986710561320718\n",
       "\\item -0.201103749098857\n",
       "\\item -0.271518323723237\n",
       "\\item -0.292560039004639\n",
       "\\item -0.418914817476274\n",
       "\\item -0.486092547655941\n",
       "\\item -0.654411088665735\n",
       "\\item -1.43247591779026\n",
       "\\end{enumerate*}\n"
      ],
      "text/markdown": [
       "1. -0.00726209714192949\n",
       "2. -0.0233045026804803\n",
       "3. -0.05871577836486\n",
       "4. -0.0813621651260299\n",
       "5. -0.0986710561320718\n",
       "6. -0.201103749098857\n",
       "7. -0.271518323723237\n",
       "8. -0.292560039004639\n",
       "9. -0.418914817476274\n",
       "10. -0.486092547655941\n",
       "11. -0.654411088665735\n",
       "12. -1.43247591779026\n",
       "\n",
       "\n"
      ],
      "text/plain": [
       " [1] -0.007262097 -0.023304503 -0.058715778 -0.081362165 -0.098671056\n",
       " [6] -0.201103749 -0.271518324 -0.292560039 -0.418914817 -0.486092548\n",
       "[11] -0.654411089 -1.432475918"
      ]
     },
     "metadata": {},
     "output_type": "display_data"
    }
   ],
   "source": [
    "nonpositive_eigenvalues <- eigenvalues[eigenvalues <= 0]\n",
    "IRdisplay::display(length(nonpositive_eigenvalues))\n",
    "IRdisplay::display(nonpositive_eigenvalues)"
   ]
  },
  {
   "cell_type": "code",
   "execution_count": 20,
   "id": "410ee452-488f-4518-b93a-2acd608ba99c",
   "metadata": {
    "execution": {
     "iopub.execute_input": "2022-06-18T11:50:19.911082Z",
     "iopub.status.busy": "2022-06-18T11:50:19.910079Z",
     "iopub.status.idle": "2022-06-18T11:50:19.927357Z",
     "shell.execute_reply": "2022-06-18T11:50:19.921057Z"
    },
    "papermill": {
     "duration": 0.026365,
     "end_time": "2022-06-18T11:50:19.929069",
     "exception": false,
     "start_time": "2022-06-18T11:50:19.902704",
     "status": "completed"
    },
    "tags": []
   },
   "outputs": [],
   "source": [
    "if (length(eigenvalues[eigenvalues <= 0]) == 0) { quit() }"
   ]
  },
  {
   "cell_type": "markdown",
   "id": "2d280a82-f231-402d-82ab-9291d395afc1",
   "metadata": {
    "papermill": {
     "duration": 0.014324,
     "end_time": "2022-06-18T11:50:19.951716",
     "exception": false,
     "start_time": "2022-06-18T11:50:19.937392",
     "status": "completed"
    },
    "tags": []
   },
   "source": [
    "# Make matrix positive definite if needed"
   ]
  },
  {
   "cell_type": "code",
   "execution_count": 21,
   "id": "b9037873-4067-4ac6-aa92-e9225a6c9353",
   "metadata": {
    "execution": {
     "iopub.execute_input": "2022-06-18T11:50:19.978197Z",
     "iopub.status.busy": "2022-06-18T11:50:19.977188Z",
     "iopub.status.idle": "2022-06-18T11:50:20.031852Z",
     "shell.execute_reply": "2022-06-18T11:50:20.030766Z"
    },
    "papermill": {
     "duration": 0.068951,
     "end_time": "2022-06-18T11:50:20.033232",
     "exception": false,
     "start_time": "2022-06-18T11:50:19.964281",
     "status": "completed"
    },
    "tags": []
   },
   "outputs": [],
   "source": [
    "gene_corrs_corrected <- CorrectCM(gene_corrs, 1)"
   ]
  },
  {
   "cell_type": "code",
   "execution_count": 22,
   "id": "03c86284-5aac-4f66-86cc-74eb97102a7e",
   "metadata": {
    "execution": {
     "iopub.execute_input": "2022-06-18T11:50:20.056047Z",
     "iopub.status.busy": "2022-06-18T11:50:20.055104Z",
     "iopub.status.idle": "2022-06-18T11:50:20.068035Z",
     "shell.execute_reply": "2022-06-18T11:50:20.065329Z"
    },
    "papermill": {
     "duration": 0.026235,
     "end_time": "2022-06-18T11:50:20.069609",
     "exception": false,
     "start_time": "2022-06-18T11:50:20.043374",
     "status": "completed"
    },
    "tags": []
   },
   "outputs": [],
   "source": [
    "dimnames(gene_corrs_corrected)[[1]] <- rownames(gene_corrs)"
   ]
  },
  {
   "cell_type": "code",
   "execution_count": 23,
   "id": "576e7069-25ff-473d-8158-35b5f2ff212e",
   "metadata": {
    "execution": {
     "iopub.execute_input": "2022-06-18T11:50:20.099752Z",
     "iopub.status.busy": "2022-06-18T11:50:20.098844Z",
     "iopub.status.idle": "2022-06-18T11:50:20.112010Z",
     "shell.execute_reply": "2022-06-18T11:50:20.109555Z"
    },
    "papermill": {
     "duration": 0.029741,
     "end_time": "2022-06-18T11:50:20.113594",
     "exception": false,
     "start_time": "2022-06-18T11:50:20.083853",
     "status": "completed"
    },
    "tags": []
   },
   "outputs": [],
   "source": [
    "dimnames(gene_corrs_corrected)[[2]] <- colnames(gene_corrs)"
   ]
  },
  {
   "cell_type": "code",
   "execution_count": 24,
   "id": "f77d043a-321d-447f-8da5-2503981d3e73",
   "metadata": {
    "execution": {
     "iopub.execute_input": "2022-06-18T11:50:20.136422Z",
     "iopub.status.busy": "2022-06-18T11:50:20.135408Z",
     "iopub.status.idle": "2022-06-18T11:50:20.152359Z",
     "shell.execute_reply": "2022-06-18T11:50:20.147731Z"
    },
    "papermill": {
     "duration": 0.029694,
     "end_time": "2022-06-18T11:50:20.154112",
     "exception": false,
     "start_time": "2022-06-18T11:50:20.124418",
     "status": "completed"
    },
    "tags": []
   },
   "outputs": [],
   "source": [
    "gene_corrs_corrected <- as.data.frame(gene_corrs_corrected)"
   ]
  },
  {
   "cell_type": "code",
   "execution_count": 25,
   "id": "3e844024-f9a2-42a2-bbd0-695cfdbb78f5",
   "metadata": {
    "execution": {
     "iopub.execute_input": "2022-06-18T11:50:20.170859Z",
     "iopub.status.busy": "2022-06-18T11:50:20.169872Z",
     "iopub.status.idle": "2022-06-18T11:50:20.185840Z",
     "shell.execute_reply": "2022-06-18T11:50:20.182227Z"
    },
    "papermill": {
     "duration": 0.026844,
     "end_time": "2022-06-18T11:50:20.187572",
     "exception": false,
     "start_time": "2022-06-18T11:50:20.160728",
     "status": "completed"
    },
    "tags": []
   },
   "outputs": [
    {
     "data": {
      "text/html": [
       "<style>\n",
       ".list-inline {list-style: none; margin:0; padding: 0}\n",
       ".list-inline>li {display: inline-block}\n",
       ".list-inline>li:not(:last-child)::after {content: \"\\00b7\"; padding: 0 .5ex}\n",
       "</style>\n",
       "<ol class=list-inline><li>245</li><li>245</li></ol>\n"
      ],
      "text/latex": [
       "\\begin{enumerate*}\n",
       "\\item 245\n",
       "\\item 245\n",
       "\\end{enumerate*}\n"
      ],
      "text/markdown": [
       "1. 245\n",
       "2. 245\n",
       "\n",
       "\n"
      ],
      "text/plain": [
       "[1] 245 245"
      ]
     },
     "metadata": {},
     "output_type": "display_data"
    }
   ],
   "source": [
    "dim(gene_corrs_corrected)"
   ]
  },
  {
   "cell_type": "markdown",
   "id": "244b6bde-4ca8-46d1-acc7-b4c35b5d3c62",
   "metadata": {
    "papermill": {
     "duration": 0.010585,
     "end_time": "2022-06-18T11:50:20.206079",
     "exception": false,
     "start_time": "2022-06-18T11:50:20.195494",
     "status": "completed"
    },
    "tags": []
   },
   "source": [
    "# Check positive definiteness of corrected matrix"
   ]
  },
  {
   "cell_type": "code",
   "execution_count": 26,
   "id": "0fd5b688-e137-4619-910c-35130d32d600",
   "metadata": {
    "execution": {
     "iopub.execute_input": "2022-06-18T11:50:20.222578Z",
     "iopub.status.busy": "2022-06-18T11:50:20.221655Z",
     "iopub.status.idle": "2022-06-18T11:50:20.265796Z",
     "shell.execute_reply": "2022-06-18T11:50:20.264001Z"
    },
    "papermill": {
     "duration": 0.055103,
     "end_time": "2022-06-18T11:50:20.267214",
     "exception": false,
     "start_time": "2022-06-18T11:50:20.212111",
     "status": "completed"
    },
    "tags": []
   },
   "outputs": [
    {
     "data": {
      "text/html": [
       "'Matrix is already positive definite!'"
      ],
      "text/latex": [
       "'Matrix is already positive definite!'"
      ],
      "text/markdown": [
       "'Matrix is already positive definite!'"
      ],
      "text/plain": [
       "[1] \"Matrix is already positive definite!\""
      ]
     },
     "metadata": {},
     "output_type": "display_data"
    },
    {
     "data": {
      "text/html": [
       "TRUE"
      ],
      "text/latex": [
       "TRUE"
      ],
      "text/markdown": [
       "TRUE"
      ],
      "text/plain": [
       "[1] TRUE"
      ]
     },
     "metadata": {},
     "output_type": "display_data"
    }
   ],
   "source": [
    "is_positive_definite(gene_corrs_corrected)"
   ]
  },
  {
   "cell_type": "code",
   "execution_count": 27,
   "id": "06d23ab8-bebb-474c-be33-dca7e53c1717",
   "metadata": {
    "execution": {
     "iopub.execute_input": "2022-06-18T11:50:20.281826Z",
     "iopub.status.busy": "2022-06-18T11:50:20.280927Z",
     "iopub.status.idle": "2022-06-18T11:50:20.307519Z",
     "shell.execute_reply": "2022-06-18T11:50:20.305385Z"
    },
    "papermill": {
     "duration": 0.035273,
     "end_time": "2022-06-18T11:50:20.309153",
     "exception": false,
     "start_time": "2022-06-18T11:50:20.273880",
     "status": "completed"
    },
    "tags": []
   },
   "outputs": [],
   "source": [
    "# see eigenvalues\n",
    "eigenvalues <- eigen(gene_corrs_corrected)$values"
   ]
  },
  {
   "cell_type": "code",
   "execution_count": 28,
   "id": "ddf8afb8-e0e2-4b4e-876d-12bd6856c1ad",
   "metadata": {
    "execution": {
     "iopub.execute_input": "2022-06-18T11:50:20.324449Z",
     "iopub.status.busy": "2022-06-18T11:50:20.323276Z",
     "iopub.status.idle": "2022-06-18T11:50:20.346170Z",
     "shell.execute_reply": "2022-06-18T11:50:20.344254Z"
    },
    "papermill": {
     "duration": 0.031856,
     "end_time": "2022-06-18T11:50:20.347654",
     "exception": false,
     "start_time": "2022-06-18T11:50:20.315798",
     "status": "completed"
    },
    "tags": []
   },
   "outputs": [
    {
     "data": {
      "text/html": [
       "0"
      ],
      "text/latex": [
       "0"
      ],
      "text/markdown": [
       "0"
      ],
      "text/plain": [
       "[1] 0"
      ]
     },
     "metadata": {},
     "output_type": "display_data"
    },
    {
     "data": {
      "text/html": [],
      "text/latex": [],
      "text/markdown": [],
      "text/plain": [
       "numeric(0)"
      ]
     },
     "metadata": {},
     "output_type": "display_data"
    }
   ],
   "source": [
    "nonpositive_eigenvalues <- eigenvalues[eigenvalues <= 0]\n",
    "IRdisplay::display(length(nonpositive_eigenvalues))\n",
    "IRdisplay::display(nonpositive_eigenvalues)"
   ]
  },
  {
   "cell_type": "code",
   "execution_count": 29,
   "id": "712fd71a-b6ec-4a13-a956-80c99be7f585",
   "metadata": {
    "execution": {
     "iopub.execute_input": "2022-06-18T11:50:20.387940Z",
     "iopub.status.busy": "2022-06-18T11:50:20.386853Z",
     "iopub.status.idle": "2022-06-18T11:50:20.398214Z",
     "shell.execute_reply": "2022-06-18T11:50:20.396878Z"
    },
    "papermill": {
     "duration": 0.044965,
     "end_time": "2022-06-18T11:50:20.399868",
     "exception": false,
     "start_time": "2022-06-18T11:50:20.354903",
     "status": "completed"
    },
    "tags": []
   },
   "outputs": [],
   "source": [
    "stopifnot(length(eigenvalues[eigenvalues <= 0]) == 0)"
   ]
  },
  {
   "cell_type": "code",
   "execution_count": 30,
   "id": "786d6336-3844-40f7-979b-6d6028787f7f",
   "metadata": {
    "execution": {
     "iopub.execute_input": "2022-06-18T11:50:20.418257Z",
     "iopub.status.busy": "2022-06-18T11:50:20.417006Z",
     "iopub.status.idle": "2022-06-18T11:50:20.451718Z",
     "shell.execute_reply": "2022-06-18T11:50:20.449198Z"
    },
    "papermill": {
     "duration": 0.045447,
     "end_time": "2022-06-18T11:50:20.453568",
     "exception": false,
     "start_time": "2022-06-18T11:50:20.408121",
     "status": "completed"
    },
    "tags": []
   },
   "outputs": [
    {
     "data": {
      "text/html": [
       "<table class=\"dataframe\">\n",
       "<caption>A data.frame: 6 × 10</caption>\n",
       "<thead>\n",
       "\t<tr><th></th><th scope=col>ENSG00000261456</th><th scope=col>ENSG00000148377</th><th scope=col>ENSG00000067064</th><th scope=col>ENSG00000067057</th><th scope=col>ENSG00000067082</th><th scope=col>ENSG00000187134</th><th scope=col>ENSG00000151632</th><th scope=col>ENSG00000196139</th><th scope=col>ENSG00000173848</th><th scope=col>ENSG00000196372</th></tr>\n",
       "\t<tr><th></th><th scope=col>&lt;dbl&gt;</th><th scope=col>&lt;dbl&gt;</th><th scope=col>&lt;dbl&gt;</th><th scope=col>&lt;dbl&gt;</th><th scope=col>&lt;dbl&gt;</th><th scope=col>&lt;dbl&gt;</th><th scope=col>&lt;dbl&gt;</th><th scope=col>&lt;dbl&gt;</th><th scope=col>&lt;dbl&gt;</th><th scope=col>&lt;dbl&gt;</th></tr>\n",
       "</thead>\n",
       "<tbody>\n",
       "\t<tr><th scope=row>ENSG00000261456</th><td> 1.000000000</td><td>-0.1228503</td><td> 0.050842088</td><td> 0.003262422</td><td> 0.09813451</td><td>-0.07818829</td><td> 0.03809427</td><td>-0.005629585</td><td> 0.00000000</td><td> 0.0000000000</td></tr>\n",
       "\t<tr><th scope=row>ENSG00000148377</th><td>-0.122850300</td><td> 1.0000000</td><td>-0.170758739</td><td>-0.125378774</td><td>-0.22860343</td><td> 0.46265704</td><td> 0.24080450</td><td> 0.211018493</td><td>-0.16858282</td><td> 0.1502695159</td></tr>\n",
       "\t<tr><th scope=row>ENSG00000067064</th><td> 0.050842088</td><td>-0.1707587</td><td> 1.000000000</td><td> 0.002722405</td><td>-0.02499134</td><td> 0.17241602</td><td>-0.02510686</td><td> 0.021679597</td><td>-0.01466676</td><td>-0.0163451020</td></tr>\n",
       "\t<tr><th scope=row>ENSG00000067057</th><td> 0.003262422</td><td>-0.1253788</td><td> 0.002722405</td><td> 1.000000000</td><td>-0.07886797</td><td> 0.05611301</td><td>-0.05881128</td><td> 0.060549470</td><td> 0.12112833</td><td> 0.0003274758</td></tr>\n",
       "\t<tr><th scope=row>ENSG00000067082</th><td> 0.098134513</td><td>-0.2286034</td><td>-0.024991338</td><td>-0.078867973</td><td> 1.00000000</td><td> 0.11128953</td><td>-0.05788965</td><td> 0.038038686</td><td>-0.03006517</td><td>-0.0053528156</td></tr>\n",
       "\t<tr><th scope=row>ENSG00000187134</th><td>-0.078188288</td><td> 0.4626570</td><td> 0.172416017</td><td> 0.056113009</td><td> 0.11128953</td><td> 1.00000000</td><td>-0.14740737</td><td> 0.044083754</td><td> 0.09026946</td><td> 0.0107116897</td></tr>\n",
       "</tbody>\n",
       "</table>\n"
      ],
      "text/latex": [
       "A data.frame: 6 × 10\n",
       "\\begin{tabular}{r|llllllllll}\n",
       "  & ENSG00000261456 & ENSG00000148377 & ENSG00000067064 & ENSG00000067057 & ENSG00000067082 & ENSG00000187134 & ENSG00000151632 & ENSG00000196139 & ENSG00000173848 & ENSG00000196372\\\\\n",
       "  & <dbl> & <dbl> & <dbl> & <dbl> & <dbl> & <dbl> & <dbl> & <dbl> & <dbl> & <dbl>\\\\\n",
       "\\hline\n",
       "\tENSG00000261456 &  1.000000000 & -0.1228503 &  0.050842088 &  0.003262422 &  0.09813451 & -0.07818829 &  0.03809427 & -0.005629585 &  0.00000000 &  0.0000000000\\\\\n",
       "\tENSG00000148377 & -0.122850300 &  1.0000000 & -0.170758739 & -0.125378774 & -0.22860343 &  0.46265704 &  0.24080450 &  0.211018493 & -0.16858282 &  0.1502695159\\\\\n",
       "\tENSG00000067064 &  0.050842088 & -0.1707587 &  1.000000000 &  0.002722405 & -0.02499134 &  0.17241602 & -0.02510686 &  0.021679597 & -0.01466676 & -0.0163451020\\\\\n",
       "\tENSG00000067057 &  0.003262422 & -0.1253788 &  0.002722405 &  1.000000000 & -0.07886797 &  0.05611301 & -0.05881128 &  0.060549470 &  0.12112833 &  0.0003274758\\\\\n",
       "\tENSG00000067082 &  0.098134513 & -0.2286034 & -0.024991338 & -0.078867973 &  1.00000000 &  0.11128953 & -0.05788965 &  0.038038686 & -0.03006517 & -0.0053528156\\\\\n",
       "\tENSG00000187134 & -0.078188288 &  0.4626570 &  0.172416017 &  0.056113009 &  0.11128953 &  1.00000000 & -0.14740737 &  0.044083754 &  0.09026946 &  0.0107116897\\\\\n",
       "\\end{tabular}\n"
      ],
      "text/markdown": [
       "\n",
       "A data.frame: 6 × 10\n",
       "\n",
       "| <!--/--> | ENSG00000261456 &lt;dbl&gt; | ENSG00000148377 &lt;dbl&gt; | ENSG00000067064 &lt;dbl&gt; | ENSG00000067057 &lt;dbl&gt; | ENSG00000067082 &lt;dbl&gt; | ENSG00000187134 &lt;dbl&gt; | ENSG00000151632 &lt;dbl&gt; | ENSG00000196139 &lt;dbl&gt; | ENSG00000173848 &lt;dbl&gt; | ENSG00000196372 &lt;dbl&gt; |\n",
       "|---|---|---|---|---|---|---|---|---|---|---|\n",
       "| ENSG00000261456 |  1.000000000 | -0.1228503 |  0.050842088 |  0.003262422 |  0.09813451 | -0.07818829 |  0.03809427 | -0.005629585 |  0.00000000 |  0.0000000000 |\n",
       "| ENSG00000148377 | -0.122850300 |  1.0000000 | -0.170758739 | -0.125378774 | -0.22860343 |  0.46265704 |  0.24080450 |  0.211018493 | -0.16858282 |  0.1502695159 |\n",
       "| ENSG00000067064 |  0.050842088 | -0.1707587 |  1.000000000 |  0.002722405 | -0.02499134 |  0.17241602 | -0.02510686 |  0.021679597 | -0.01466676 | -0.0163451020 |\n",
       "| ENSG00000067057 |  0.003262422 | -0.1253788 |  0.002722405 |  1.000000000 | -0.07886797 |  0.05611301 | -0.05881128 |  0.060549470 |  0.12112833 |  0.0003274758 |\n",
       "| ENSG00000067082 |  0.098134513 | -0.2286034 | -0.024991338 | -0.078867973 |  1.00000000 |  0.11128953 | -0.05788965 |  0.038038686 | -0.03006517 | -0.0053528156 |\n",
       "| ENSG00000187134 | -0.078188288 |  0.4626570 |  0.172416017 |  0.056113009 |  0.11128953 |  1.00000000 | -0.14740737 |  0.044083754 |  0.09026946 |  0.0107116897 |\n",
       "\n"
      ],
      "text/plain": [
       "                ENSG00000261456 ENSG00000148377 ENSG00000067064 ENSG00000067057\n",
       "ENSG00000261456  1.000000000    -0.1228503       0.050842088     0.003262422   \n",
       "ENSG00000148377 -0.122850300     1.0000000      -0.170758739    -0.125378774   \n",
       "ENSG00000067064  0.050842088    -0.1707587       1.000000000     0.002722405   \n",
       "ENSG00000067057  0.003262422    -0.1253788       0.002722405     1.000000000   \n",
       "ENSG00000067082  0.098134513    -0.2286034      -0.024991338    -0.078867973   \n",
       "ENSG00000187134 -0.078188288     0.4626570       0.172416017     0.056113009   \n",
       "                ENSG00000067082 ENSG00000187134 ENSG00000151632 ENSG00000196139\n",
       "ENSG00000261456  0.09813451     -0.07818829      0.03809427     -0.005629585   \n",
       "ENSG00000148377 -0.22860343      0.46265704      0.24080450      0.211018493   \n",
       "ENSG00000067064 -0.02499134      0.17241602     -0.02510686      0.021679597   \n",
       "ENSG00000067057 -0.07886797      0.05611301     -0.05881128      0.060549470   \n",
       "ENSG00000067082  1.00000000      0.11128953     -0.05788965      0.038038686   \n",
       "ENSG00000187134  0.11128953      1.00000000     -0.14740737      0.044083754   \n",
       "                ENSG00000173848 ENSG00000196372\n",
       "ENSG00000261456  0.00000000      0.0000000000  \n",
       "ENSG00000148377 -0.16858282      0.1502695159  \n",
       "ENSG00000067064 -0.01466676     -0.0163451020  \n",
       "ENSG00000067057  0.12112833      0.0003274758  \n",
       "ENSG00000067082 -0.03006517     -0.0053528156  \n",
       "ENSG00000187134  0.09026946      0.0107116897  "
      ]
     },
     "metadata": {},
     "output_type": "display_data"
    },
    {
     "data": {
      "text/html": [
       "<table class=\"dataframe\">\n",
       "<caption>A data.frame: 6 × 10</caption>\n",
       "<thead>\n",
       "\t<tr><th></th><th scope=col>ENSG00000261456</th><th scope=col>ENSG00000148377</th><th scope=col>ENSG00000067064</th><th scope=col>ENSG00000067057</th><th scope=col>ENSG00000067082</th><th scope=col>ENSG00000187134</th><th scope=col>ENSG00000151632</th><th scope=col>ENSG00000196139</th><th scope=col>ENSG00000173848</th><th scope=col>ENSG00000196372</th></tr>\n",
       "\t<tr><th></th><th scope=col>&lt;dbl&gt;</th><th scope=col>&lt;dbl&gt;</th><th scope=col>&lt;dbl&gt;</th><th scope=col>&lt;dbl&gt;</th><th scope=col>&lt;dbl&gt;</th><th scope=col>&lt;dbl&gt;</th><th scope=col>&lt;dbl&gt;</th><th scope=col>&lt;dbl&gt;</th><th scope=col>&lt;dbl&gt;</th><th scope=col>&lt;dbl&gt;</th></tr>\n",
       "</thead>\n",
       "<tbody>\n",
       "\t<tr><th scope=row>ENSG00000261456</th><td> 1.000000000</td><td>-0.07866998</td><td> 0.02441743</td><td>-0.005833793</td><td> 0.04965977</td><td>-0.05152103</td><td>-0.0007411962</td><td>-0.015379821</td><td> 0.01062930</td><td>-0.012226972</td></tr>\n",
       "\t<tr><th scope=row>ENSG00000148377</th><td>-0.078669984</td><td> 1.00000000</td><td>-0.04270427</td><td>-0.049107346</td><td>-0.06236423</td><td> 0.16954034</td><td> 0.0683660520</td><td> 0.096484323</td><td>-0.05573757</td><td> 0.048874932</td></tr>\n",
       "\t<tr><th scope=row>ENSG00000067064</th><td> 0.024417434</td><td>-0.04270427</td><td> 1.00000000</td><td> 0.028865861</td><td> 0.02189621</td><td> 0.03003104</td><td>-0.0331033268</td><td> 0.006615143</td><td> 0.02189325</td><td>-0.046144297</td></tr>\n",
       "\t<tr><th scope=row>ENSG00000067057</th><td>-0.005833793</td><td>-0.04910735</td><td> 0.02886586</td><td> 1.000000000</td><td>-0.02241157</td><td> 0.00139159</td><td>-0.0345122899</td><td> 0.010548719</td><td> 0.08533461</td><td> 0.007425705</td></tr>\n",
       "\t<tr><th scope=row>ENSG00000067082</th><td> 0.049659773</td><td>-0.06236423</td><td> 0.02189621</td><td>-0.022411573</td><td> 1.00000000</td><td> 0.01598921</td><td>-0.0690744346</td><td>-0.004384348</td><td> 0.01997228</td><td>-0.018717249</td></tr>\n",
       "\t<tr><th scope=row>ENSG00000187134</th><td>-0.051521033</td><td> 0.16954034</td><td> 0.03003104</td><td> 0.001391590</td><td> 0.01598921</td><td> 1.00000000</td><td>-0.0526588272</td><td> 0.060574818</td><td> 0.01474868</td><td> 0.041970326</td></tr>\n",
       "</tbody>\n",
       "</table>\n"
      ],
      "text/latex": [
       "A data.frame: 6 × 10\n",
       "\\begin{tabular}{r|llllllllll}\n",
       "  & ENSG00000261456 & ENSG00000148377 & ENSG00000067064 & ENSG00000067057 & ENSG00000067082 & ENSG00000187134 & ENSG00000151632 & ENSG00000196139 & ENSG00000173848 & ENSG00000196372\\\\\n",
       "  & <dbl> & <dbl> & <dbl> & <dbl> & <dbl> & <dbl> & <dbl> & <dbl> & <dbl> & <dbl>\\\\\n",
       "\\hline\n",
       "\tENSG00000261456 &  1.000000000 & -0.07866998 &  0.02441743 & -0.005833793 &  0.04965977 & -0.05152103 & -0.0007411962 & -0.015379821 &  0.01062930 & -0.012226972\\\\\n",
       "\tENSG00000148377 & -0.078669984 &  1.00000000 & -0.04270427 & -0.049107346 & -0.06236423 &  0.16954034 &  0.0683660520 &  0.096484323 & -0.05573757 &  0.048874932\\\\\n",
       "\tENSG00000067064 &  0.024417434 & -0.04270427 &  1.00000000 &  0.028865861 &  0.02189621 &  0.03003104 & -0.0331033268 &  0.006615143 &  0.02189325 & -0.046144297\\\\\n",
       "\tENSG00000067057 & -0.005833793 & -0.04910735 &  0.02886586 &  1.000000000 & -0.02241157 &  0.00139159 & -0.0345122899 &  0.010548719 &  0.08533461 &  0.007425705\\\\\n",
       "\tENSG00000067082 &  0.049659773 & -0.06236423 &  0.02189621 & -0.022411573 &  1.00000000 &  0.01598921 & -0.0690744346 & -0.004384348 &  0.01997228 & -0.018717249\\\\\n",
       "\tENSG00000187134 & -0.051521033 &  0.16954034 &  0.03003104 &  0.001391590 &  0.01598921 &  1.00000000 & -0.0526588272 &  0.060574818 &  0.01474868 &  0.041970326\\\\\n",
       "\\end{tabular}\n"
      ],
      "text/markdown": [
       "\n",
       "A data.frame: 6 × 10\n",
       "\n",
       "| <!--/--> | ENSG00000261456 &lt;dbl&gt; | ENSG00000148377 &lt;dbl&gt; | ENSG00000067064 &lt;dbl&gt; | ENSG00000067057 &lt;dbl&gt; | ENSG00000067082 &lt;dbl&gt; | ENSG00000187134 &lt;dbl&gt; | ENSG00000151632 &lt;dbl&gt; | ENSG00000196139 &lt;dbl&gt; | ENSG00000173848 &lt;dbl&gt; | ENSG00000196372 &lt;dbl&gt; |\n",
       "|---|---|---|---|---|---|---|---|---|---|---|\n",
       "| ENSG00000261456 |  1.000000000 | -0.07866998 |  0.02441743 | -0.005833793 |  0.04965977 | -0.05152103 | -0.0007411962 | -0.015379821 |  0.01062930 | -0.012226972 |\n",
       "| ENSG00000148377 | -0.078669984 |  1.00000000 | -0.04270427 | -0.049107346 | -0.06236423 |  0.16954034 |  0.0683660520 |  0.096484323 | -0.05573757 |  0.048874932 |\n",
       "| ENSG00000067064 |  0.024417434 | -0.04270427 |  1.00000000 |  0.028865861 |  0.02189621 |  0.03003104 | -0.0331033268 |  0.006615143 |  0.02189325 | -0.046144297 |\n",
       "| ENSG00000067057 | -0.005833793 | -0.04910735 |  0.02886586 |  1.000000000 | -0.02241157 |  0.00139159 | -0.0345122899 |  0.010548719 |  0.08533461 |  0.007425705 |\n",
       "| ENSG00000067082 |  0.049659773 | -0.06236423 |  0.02189621 | -0.022411573 |  1.00000000 |  0.01598921 | -0.0690744346 | -0.004384348 |  0.01997228 | -0.018717249 |\n",
       "| ENSG00000187134 | -0.051521033 |  0.16954034 |  0.03003104 |  0.001391590 |  0.01598921 |  1.00000000 | -0.0526588272 |  0.060574818 |  0.01474868 |  0.041970326 |\n",
       "\n"
      ],
      "text/plain": [
       "                ENSG00000261456 ENSG00000148377 ENSG00000067064 ENSG00000067057\n",
       "ENSG00000261456  1.000000000    -0.07866998      0.02441743     -0.005833793   \n",
       "ENSG00000148377 -0.078669984     1.00000000     -0.04270427     -0.049107346   \n",
       "ENSG00000067064  0.024417434    -0.04270427      1.00000000      0.028865861   \n",
       "ENSG00000067057 -0.005833793    -0.04910735      0.02886586      1.000000000   \n",
       "ENSG00000067082  0.049659773    -0.06236423      0.02189621     -0.022411573   \n",
       "ENSG00000187134 -0.051521033     0.16954034      0.03003104      0.001391590   \n",
       "                ENSG00000067082 ENSG00000187134 ENSG00000151632 ENSG00000196139\n",
       "ENSG00000261456  0.04965977     -0.05152103     -0.0007411962   -0.015379821   \n",
       "ENSG00000148377 -0.06236423      0.16954034      0.0683660520    0.096484323   \n",
       "ENSG00000067064  0.02189621      0.03003104     -0.0331033268    0.006615143   \n",
       "ENSG00000067057 -0.02241157      0.00139159     -0.0345122899    0.010548719   \n",
       "ENSG00000067082  1.00000000      0.01598921     -0.0690744346   -0.004384348   \n",
       "ENSG00000187134  0.01598921      1.00000000     -0.0526588272    0.060574818   \n",
       "                ENSG00000173848 ENSG00000196372\n",
       "ENSG00000261456  0.01062930     -0.012226972   \n",
       "ENSG00000148377 -0.05573757      0.048874932   \n",
       "ENSG00000067064  0.02189325     -0.046144297   \n",
       "ENSG00000067057  0.08533461      0.007425705   \n",
       "ENSG00000067082  0.01997228     -0.018717249   \n",
       "ENSG00000187134  0.01474868      0.041970326   "
      ]
     },
     "metadata": {},
     "output_type": "display_data"
    }
   ],
   "source": [
    "# quick and visual comparison of the two matrices\n",
    "IRdisplay::display(head(gene_corrs[1:10, 1:10]))\n",
    "IRdisplay::display(head(gene_corrs_corrected[1:10, 1:10]))"
   ]
  },
  {
   "cell_type": "markdown",
   "id": "c6c40f1a-d153-475a-94eb-c71697ad9d51",
   "metadata": {
    "papermill": {
     "duration": 0.00846,
     "end_time": "2022-06-18T11:50:20.470744",
     "exception": false,
     "start_time": "2022-06-18T11:50:20.462284",
     "status": "completed"
    },
    "tags": []
   },
   "source": [
    "Both matrices should \"look\" similar. We are not interested in perfectly accurate correlation values (they are already inaccurate)."
   ]
  },
  {
   "cell_type": "markdown",
   "id": "bf0f49cb-9c21-4616-8390-bb68d52dae56",
   "metadata": {
    "papermill": {
     "duration": 0.007869,
     "end_time": "2022-06-18T11:50:20.487001",
     "exception": false,
     "start_time": "2022-06-18T11:50:20.479132",
     "status": "completed"
    },
    "tags": []
   },
   "source": [
    "# Save"
   ]
  },
  {
   "cell_type": "code",
   "execution_count": 31,
   "id": "2e58e7f3-a75c-4195-a20e-39e3e3e1cc9a",
   "metadata": {
    "execution": {
     "iopub.execute_input": "2022-06-18T11:50:20.504494Z",
     "iopub.status.busy": "2022-06-18T11:50:20.503403Z",
     "iopub.status.idle": "2022-06-18T11:50:20.527306Z",
     "shell.execute_reply": "2022-06-18T11:50:20.525968Z"
    },
    "papermill": {
     "duration": 0.034339,
     "end_time": "2022-06-18T11:50:20.528998",
     "exception": false,
     "start_time": "2022-06-18T11:50:20.494659",
     "status": "completed"
    },
    "tags": []
   },
   "outputs": [],
   "source": [
    "py_save_object(gene_corrs_corrected, OUTPUT_FILE)"
   ]
  },
  {
   "cell_type": "code",
   "execution_count": null,
   "id": "d8ae4220-2171-460c-9231-cd5219f3fe77",
   "metadata": {
    "papermill": {
     "duration": 0.007849,
     "end_time": "2022-06-18T11:50:20.545745",
     "exception": false,
     "start_time": "2022-06-18T11:50:20.537896",
     "status": "completed"
    },
    "tags": []
   },
   "outputs": [],
   "source": []
  }
 ],
 "metadata": {
  "jupytext": {
   "cell_metadata_filter": "all,-execution,-papermill,-trusted"
  },
  "kernelspec": {
   "display_name": "R",
   "language": "R",
   "name": "ir"
  },
  "language_info": {
   "codemirror_mode": "r",
   "file_extension": ".r",
   "mimetype": "text/x-r-source",
   "name": "R",
   "pygments_lexer": "r",
   "version": "3.6.3"
  },
  "papermill": {
   "default_parameters": {},
   "duration": 5.941539,
   "end_time": "2022-06-18T11:50:20.677574",
   "environment_variables": {},
   "exception": null,
   "input_path": "nbs/15_gsa_gls/12-gene_expr_correlations-adjust.ipynb",
   "output_path": "nbs/15_gsa_gls/gene_corrs/gtex_v8/mashr/12-gene_expr_correlations-adjust-chr10.run.ipynb",
   "parameters": {
    "EQTL_MODEL": "MASHR",
    "REFERENCE_PANEL": "GTEX_V8",
    "chromosome": 10
   },
   "start_time": "2022-06-18T11:50:14.736035",
   "version": "2.3.4"
  }
 },
 "nbformat": 4,
 "nbformat_minor": 5
}
