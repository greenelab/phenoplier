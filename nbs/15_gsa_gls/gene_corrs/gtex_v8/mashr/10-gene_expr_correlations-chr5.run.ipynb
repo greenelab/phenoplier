{
 "cells": [
  {
   "cell_type": "markdown",
   "id": "7a6632fb",
   "metadata": {
    "papermill": {
     "duration": 0.006405,
     "end_time": "2022-06-16T01:14:56.614492",
     "exception": false,
     "start_time": "2022-06-16T01:14:56.608087",
     "status": "completed"
    },
    "tags": []
   },
   "source": [
    "# Description"
   ]
  },
  {
   "cell_type": "markdown",
   "id": "7097c346",
   "metadata": {
    "papermill": {
     "duration": 0.005611,
     "end_time": "2022-06-16T01:14:56.625953",
     "exception": false,
     "start_time": "2022-06-16T01:14:56.620342",
     "status": "completed"
    },
    "tags": []
   },
   "source": [
    "(Please, take a look at the README.md file in this directory for instructions on how to run this notebook)\n",
    "\n",
    "This notebook computes predicted expression correlations between all genes in the MultiPLIER models.\n",
    "\n",
    "It also has a parameter set for papermill to run on a single chromosome to run in parallel (see under `Settings` below).\n",
    "\n",
    "This notebook is not directly run. See README.md."
   ]
  },
  {
   "cell_type": "markdown",
   "id": "c61d8427",
   "metadata": {
    "papermill": {
     "duration": 0.005582,
     "end_time": "2022-06-16T01:14:56.643396",
     "exception": false,
     "start_time": "2022-06-16T01:14:56.637814",
     "status": "completed"
    },
    "tags": []
   },
   "source": [
    "# Modules"
   ]
  },
  {
   "cell_type": "code",
   "execution_count": 1,
   "id": "bbc0234f",
   "metadata": {
    "execution": {
     "iopub.execute_input": "2022-06-16T01:14:56.655935Z",
     "iopub.status.busy": "2022-06-16T01:14:56.655714Z",
     "iopub.status.idle": "2022-06-16T01:14:56.674169Z",
     "shell.execute_reply": "2022-06-16T01:14:56.673319Z"
    },
    "papermill": {
     "duration": 0.026935,
     "end_time": "2022-06-16T01:14:56.676009",
     "exception": false,
     "start_time": "2022-06-16T01:14:56.649074",
     "status": "completed"
    },
    "tags": []
   },
   "outputs": [],
   "source": [
    "%load_ext autoreload\n",
    "%autoreload 2"
   ]
  },
  {
   "cell_type": "code",
   "execution_count": 2,
   "id": "1d5f5a59",
   "metadata": {
    "execution": {
     "iopub.execute_input": "2022-06-16T01:14:56.690403Z",
     "iopub.status.busy": "2022-06-16T01:14:56.690221Z",
     "iopub.status.idle": "2022-06-16T01:14:57.832083Z",
     "shell.execute_reply": "2022-06-16T01:14:57.831508Z"
    },
    "papermill": {
     "duration": 1.151008,
     "end_time": "2022-06-16T01:14:57.833883",
     "exception": false,
     "start_time": "2022-06-16T01:14:56.682875",
     "status": "completed"
    },
    "tags": []
   },
   "outputs": [],
   "source": [
    "from random import sample\n",
    "import warnings\n",
    "\n",
    "import numpy as np\n",
    "from scipy.spatial.distance import squareform\n",
    "import pandas as pd\n",
    "from tqdm import tqdm\n",
    "import matplotlib.pyplot as plt\n",
    "import seaborn as sns\n",
    "\n",
    "import conf\n",
    "from entity import Gene"
   ]
  },
  {
   "cell_type": "markdown",
   "id": "1eac24b5",
   "metadata": {
    "papermill": {
     "duration": 0.00632,
     "end_time": "2022-06-16T01:14:57.876824",
     "exception": false,
     "start_time": "2022-06-16T01:14:57.870504",
     "status": "completed"
    },
    "tags": []
   },
   "source": [
    "# Settings"
   ]
  },
  {
   "cell_type": "code",
   "execution_count": 3,
   "id": "ca4560ba",
   "metadata": {
    "execution": {
     "iopub.execute_input": "2022-06-16T01:14:57.891275Z",
     "iopub.status.busy": "2022-06-16T01:14:57.890701Z",
     "iopub.status.idle": "2022-06-16T01:14:57.909385Z",
     "shell.execute_reply": "2022-06-16T01:14:57.908904Z"
    },
    "papermill": {
     "duration": 0.027764,
     "end_time": "2022-06-16T01:14:57.911119",
     "exception": false,
     "start_time": "2022-06-16T01:14:57.883355",
     "status": "completed"
    },
    "tags": [
     "parameters"
    ]
   },
   "outputs": [],
   "source": [
    "# reference panel\n",
    "REFERENCE_PANEL = \"GTEX_V8\"\n",
    "# REFERENCE_PANEL = \"1000G\"\n",
    "\n",
    "# prediction models\n",
    "## mashr\n",
    "EQTL_MODEL = \"MASHR\"\n",
    "EQTL_MODEL_FILES_PREFIX = \"mashr_\"\n",
    "\n",
    "# ## elastic net\n",
    "# EQTL_MODEL = \"ELASTIC_NET\"\n",
    "# EQTL_MODEL_FILES_PREFIX = \"en_\"\n",
    "\n",
    "# make it read the prefix from conf.py\n",
    "EQTL_MODEL_FILES_PREFIX = None\n",
    "\n",
    "# this is the default value used in S-MultiXcan to select the\n",
    "# top principal components of the expression correlation matrix\n",
    "SMULTIXCAN_CONDITION_NUMBER = 30\n",
    "\n",
    "# specifies a single chromosome value\n",
    "# by default, run on all chromosomes\n",
    "chromosome = None"
   ]
  },
  {
   "cell_type": "code",
   "execution_count": 4,
   "id": "eed08cbb",
   "metadata": {
    "execution": {
     "iopub.execute_input": "2022-06-16T01:14:57.925439Z",
     "iopub.status.busy": "2022-06-16T01:14:57.925243Z",
     "iopub.status.idle": "2022-06-16T01:14:57.943314Z",
     "shell.execute_reply": "2022-06-16T01:14:57.942801Z"
    },
    "papermill": {
     "duration": 0.027175,
     "end_time": "2022-06-16T01:14:57.945037",
     "exception": false,
     "start_time": "2022-06-16T01:14:57.917862",
     "status": "completed"
    },
    "tags": [
     "injected-parameters"
    ]
   },
   "outputs": [],
   "source": [
    "# Parameters\n",
    "chromosome = 5\n",
    "REFERENCE_PANEL = \"GTEX_V8\"\n",
    "EQTL_MODEL = \"MASHR\"\n"
   ]
  },
  {
   "cell_type": "code",
   "execution_count": 5,
   "id": "a089c9ff",
   "metadata": {
    "execution": {
     "iopub.execute_input": "2022-06-16T01:14:57.959234Z",
     "iopub.status.busy": "2022-06-16T01:14:57.959046Z",
     "iopub.status.idle": "2022-06-16T01:14:57.977198Z",
     "shell.execute_reply": "2022-06-16T01:14:57.976696Z"
    },
    "papermill": {
     "duration": 0.027109,
     "end_time": "2022-06-16T01:14:57.978942",
     "exception": false,
     "start_time": "2022-06-16T01:14:57.951833",
     "status": "completed"
    },
    "tags": []
   },
   "outputs": [],
   "source": [
    "if EQTL_MODEL_FILES_PREFIX is None:\n",
    "    EQTL_MODEL_FILES_PREFIX = conf.PHENOMEXCAN[\"PREDICTION_MODELS\"][\n",
    "        f\"{EQTL_MODEL}_PREFIX\"\n",
    "    ]"
   ]
  },
  {
   "cell_type": "code",
   "execution_count": 6,
   "id": "8fe24bef",
   "metadata": {
    "execution": {
     "iopub.execute_input": "2022-06-16T01:14:57.993021Z",
     "iopub.status.busy": "2022-06-16T01:14:57.992832Z",
     "iopub.status.idle": "2022-06-16T01:14:58.014042Z",
     "shell.execute_reply": "2022-06-16T01:14:58.013546Z"
    },
    "papermill": {
     "duration": 0.029975,
     "end_time": "2022-06-16T01:14:58.015740",
     "exception": false,
     "start_time": "2022-06-16T01:14:57.985765",
     "status": "completed"
    },
    "tags": []
   },
   "outputs": [
    {
     "data": {
      "text/plain": [
       "'Using eQTL model: MASHR / mashr_'"
      ]
     },
     "metadata": {},
     "output_type": "display_data"
    }
   ],
   "source": [
    "display(f\"Using eQTL model: {EQTL_MODEL} / {EQTL_MODEL_FILES_PREFIX}\")"
   ]
  },
  {
   "cell_type": "code",
   "execution_count": 7,
   "id": "0230ebcb-2c32-4b95-9292-d9a52038e70d",
   "metadata": {
    "execution": {
     "iopub.execute_input": "2022-06-16T01:14:58.030257Z",
     "iopub.status.busy": "2022-06-16T01:14:58.030069Z",
     "iopub.status.idle": "2022-06-16T01:14:58.048012Z",
     "shell.execute_reply": "2022-06-16T01:14:58.047497Z"
    },
    "papermill": {
     "duration": 0.026925,
     "end_time": "2022-06-16T01:14:58.049732",
     "exception": false,
     "start_time": "2022-06-16T01:14:58.022807",
     "status": "completed"
    },
    "tags": []
   },
   "outputs": [],
   "source": [
    "REFERENCE_PANEL_DIR = conf.PHENOMEXCAN[\"LD_BLOCKS\"][f\"{REFERENCE_PANEL}_GENOTYPE_DIR\"]"
   ]
  },
  {
   "cell_type": "code",
   "execution_count": 8,
   "id": "98c4a159-601d-4a22-a1ab-35bd451c25f9",
   "metadata": {
    "execution": {
     "iopub.execute_input": "2022-06-16T01:14:58.063875Z",
     "iopub.status.busy": "2022-06-16T01:14:58.063687Z",
     "iopub.status.idle": "2022-06-16T01:14:58.083001Z",
     "shell.execute_reply": "2022-06-16T01:14:58.082493Z"
    },
    "papermill": {
     "duration": 0.028175,
     "end_time": "2022-06-16T01:14:58.084640",
     "exception": false,
     "start_time": "2022-06-16T01:14:58.056465",
     "status": "completed"
    },
    "tags": []
   },
   "outputs": [
    {
     "data": {
      "text/plain": [
       "'Using reference panel folder: /opt/data/data/phenomexcan/ld_blocks/reference_panel_gtex_v8'"
      ]
     },
     "metadata": {},
     "output_type": "display_data"
    }
   ],
   "source": [
    "display(f\"Using reference panel folder: {str(REFERENCE_PANEL_DIR)}\")"
   ]
  },
  {
   "cell_type": "code",
   "execution_count": 9,
   "id": "396392dc-0340-4540-9b02-e182b833f909",
   "metadata": {
    "execution": {
     "iopub.execute_input": "2022-06-16T01:14:58.098987Z",
     "iopub.status.busy": "2022-06-16T01:14:58.098797Z",
     "iopub.status.idle": "2022-06-16T01:14:58.116731Z",
     "shell.execute_reply": "2022-06-16T01:14:58.116231Z"
    },
    "papermill": {
     "duration": 0.026917,
     "end_time": "2022-06-16T01:14:58.118418",
     "exception": false,
     "start_time": "2022-06-16T01:14:58.091501",
     "status": "completed"
    },
    "tags": []
   },
   "outputs": [],
   "source": [
    "OUTPUT_DIR_BASE = (\n",
    "    conf.PHENOMEXCAN[\"LD_BLOCKS\"][f\"GENE_CORRS_DIR\"]\n",
    "    / REFERENCE_PANEL.lower()\n",
    "    / EQTL_MODEL.lower()\n",
    ")\n",
    "OUTPUT_DIR_BASE.mkdir(parents=True, exist_ok=True)"
   ]
  },
  {
   "cell_type": "code",
   "execution_count": 10,
   "id": "8942c2d3-e53c-4d63-a0eb-b6fce0574d36",
   "metadata": {
    "execution": {
     "iopub.execute_input": "2022-06-16T01:14:58.132906Z",
     "iopub.status.busy": "2022-06-16T01:14:58.132719Z",
     "iopub.status.idle": "2022-06-16T01:14:58.152128Z",
     "shell.execute_reply": "2022-06-16T01:14:58.151631Z"
    },
    "papermill": {
     "duration": 0.028423,
     "end_time": "2022-06-16T01:14:58.153801",
     "exception": false,
     "start_time": "2022-06-16T01:14:58.125378",
     "status": "completed"
    },
    "tags": []
   },
   "outputs": [
    {
     "data": {
      "text/plain": [
       "'Using output dir base: /opt/data/data/phenomexcan/ld_blocks/gene_corrs/gtex_v8/mashr'"
      ]
     },
     "metadata": {},
     "output_type": "display_data"
    }
   ],
   "source": [
    "display(f\"Using output dir base: {OUTPUT_DIR_BASE}\")"
   ]
  },
  {
   "cell_type": "code",
   "execution_count": 11,
   "id": "408aa590",
   "metadata": {
    "execution": {
     "iopub.execute_input": "2022-06-16T01:14:58.168502Z",
     "iopub.status.busy": "2022-06-16T01:14:58.168315Z",
     "iopub.status.idle": "2022-06-16T01:14:58.185825Z",
     "shell.execute_reply": "2022-06-16T01:14:58.185314Z"
    },
    "papermill": {
     "duration": 0.02667,
     "end_time": "2022-06-16T01:14:58.187516",
     "exception": false,
     "start_time": "2022-06-16T01:14:58.160846",
     "status": "completed"
    },
    "tags": []
   },
   "outputs": [],
   "source": [
    "assert (\n",
    "    chromosome is not None\n",
    "), \"You have to select one chromosome (format: number between 1 and 22)\""
   ]
  },
  {
   "cell_type": "code",
   "execution_count": 12,
   "id": "c1c7dd06-80ff-453c-bcb7-0899edce75da",
   "metadata": {
    "execution": {
     "iopub.execute_input": "2022-06-16T01:14:58.202204Z",
     "iopub.status.busy": "2022-06-16T01:14:58.202013Z",
     "iopub.status.idle": "2022-06-16T01:14:58.219108Z",
     "shell.execute_reply": "2022-06-16T01:14:58.218607Z"
    },
    "papermill": {
     "duration": 0.026218,
     "end_time": "2022-06-16T01:14:58.220771",
     "exception": false,
     "start_time": "2022-06-16T01:14:58.194553",
     "status": "completed"
    },
    "tags": []
   },
   "outputs": [],
   "source": [
    "chromosome = str(chromosome)"
   ]
  },
  {
   "cell_type": "code",
   "execution_count": 13,
   "id": "bc17b84c-9c26-47a5-a3ab-7046e72f3ef4",
   "metadata": {
    "execution": {
     "iopub.execute_input": "2022-06-16T01:14:58.235932Z",
     "iopub.status.busy": "2022-06-16T01:14:58.235357Z",
     "iopub.status.idle": "2022-06-16T01:14:58.255057Z",
     "shell.execute_reply": "2022-06-16T01:14:58.254551Z"
    },
    "papermill": {
     "duration": 0.028904,
     "end_time": "2022-06-16T01:14:58.256780",
     "exception": false,
     "start_time": "2022-06-16T01:14:58.227876",
     "status": "completed"
    },
    "tags": []
   },
   "outputs": [
    {
     "data": {
      "text/plain": [
       "'Working on chromosome 5'"
      ]
     },
     "metadata": {},
     "output_type": "display_data"
    }
   ],
   "source": [
    "display(f\"Working on chromosome {chromosome}\")"
   ]
  },
  {
   "cell_type": "markdown",
   "id": "d2ba085e",
   "metadata": {
    "papermill": {
     "duration": 0.006747,
     "end_time": "2022-06-16T01:14:58.270806",
     "exception": false,
     "start_time": "2022-06-16T01:14:58.264059",
     "status": "completed"
    },
    "tags": []
   },
   "source": [
    "# Load data"
   ]
  },
  {
   "cell_type": "markdown",
   "id": "abcc4b3d",
   "metadata": {
    "papermill": {
     "duration": 0.006629,
     "end_time": "2022-06-16T01:14:58.284372",
     "exception": false,
     "start_time": "2022-06-16T01:14:58.277743",
     "status": "completed"
    },
    "tags": []
   },
   "source": [
    "## MultiPLIER Z"
   ]
  },
  {
   "cell_type": "code",
   "execution_count": 14,
   "id": "c48ef527",
   "metadata": {
    "execution": {
     "iopub.execute_input": "2022-06-16T01:14:58.298952Z",
     "iopub.status.busy": "2022-06-16T01:14:58.298417Z",
     "iopub.status.idle": "2022-06-16T01:14:58.344739Z",
     "shell.execute_reply": "2022-06-16T01:14:58.344226Z"
    },
    "papermill": {
     "duration": 0.055393,
     "end_time": "2022-06-16T01:14:58.346470",
     "exception": false,
     "start_time": "2022-06-16T01:14:58.291077",
     "status": "completed"
    },
    "tags": []
   },
   "outputs": [],
   "source": [
    "multiplier_z_genes = pd.read_pickle(\n",
    "    conf.MULTIPLIER[\"MODEL_Z_MATRIX_FILE\"]\n",
    ").index.tolist()"
   ]
  },
  {
   "cell_type": "code",
   "execution_count": 15,
   "id": "0a4ecbd9",
   "metadata": {
    "execution": {
     "iopub.execute_input": "2022-06-16T01:14:58.361899Z",
     "iopub.status.busy": "2022-06-16T01:14:58.361708Z",
     "iopub.status.idle": "2022-06-16T01:14:58.381939Z",
     "shell.execute_reply": "2022-06-16T01:14:58.381407Z"
    },
    "papermill": {
     "duration": 0.029771,
     "end_time": "2022-06-16T01:14:58.383631",
     "exception": false,
     "start_time": "2022-06-16T01:14:58.353860",
     "status": "completed"
    },
    "tags": []
   },
   "outputs": [
    {
     "data": {
      "text/plain": [
       "6750"
      ]
     },
     "execution_count": 15,
     "metadata": {},
     "output_type": "execute_result"
    }
   ],
   "source": [
    "len(multiplier_z_genes)"
   ]
  },
  {
   "cell_type": "code",
   "execution_count": 16,
   "id": "115e8864",
   "metadata": {
    "execution": {
     "iopub.execute_input": "2022-06-16T01:14:58.399111Z",
     "iopub.status.busy": "2022-06-16T01:14:58.398923Z",
     "iopub.status.idle": "2022-06-16T01:14:58.418530Z",
     "shell.execute_reply": "2022-06-16T01:14:58.418016Z"
    },
    "papermill": {
     "duration": 0.029123,
     "end_time": "2022-06-16T01:14:58.420256",
     "exception": false,
     "start_time": "2022-06-16T01:14:58.391133",
     "status": "completed"
    },
    "tags": []
   },
   "outputs": [
    {
     "data": {
      "text/plain": [
       "['GAS6',\n",
       " 'MMP14',\n",
       " 'DSP',\n",
       " 'MARCKSL1',\n",
       " 'SPARC',\n",
       " 'CTSD',\n",
       " 'EPAS1',\n",
       " 'PALLD',\n",
       " 'PHC2',\n",
       " 'LGALS3BP']"
      ]
     },
     "execution_count": 16,
     "metadata": {},
     "output_type": "execute_result"
    }
   ],
   "source": [
    "multiplier_z_genes[:10]"
   ]
  },
  {
   "cell_type": "markdown",
   "id": "7dcb8db7",
   "metadata": {
    "papermill": {
     "duration": 0.006957,
     "end_time": "2022-06-16T01:14:58.434862",
     "exception": false,
     "start_time": "2022-06-16T01:14:58.427905",
     "status": "completed"
    },
    "tags": []
   },
   "source": [
    "## Get gene objects"
   ]
  },
  {
   "cell_type": "code",
   "execution_count": 17,
   "id": "bb932812",
   "metadata": {
    "execution": {
     "iopub.execute_input": "2022-06-16T01:14:58.450010Z",
     "iopub.status.busy": "2022-06-16T01:14:58.449820Z",
     "iopub.status.idle": "2022-06-16T01:14:58.475121Z",
     "shell.execute_reply": "2022-06-16T01:14:58.474623Z"
    },
    "papermill": {
     "duration": 0.034819,
     "end_time": "2022-06-16T01:14:58.476827",
     "exception": false,
     "start_time": "2022-06-16T01:14:58.442008",
     "status": "completed"
    },
    "tags": []
   },
   "outputs": [],
   "source": [
    "multiplier_gene_obj = {\n",
    "    gene_name: Gene(name=gene_name)\n",
    "    for gene_name in multiplier_z_genes\n",
    "    if gene_name in Gene.GENE_NAME_TO_ID_MAP\n",
    "}"
   ]
  },
  {
   "cell_type": "code",
   "execution_count": 18,
   "id": "39533214",
   "metadata": {
    "execution": {
     "iopub.execute_input": "2022-06-16T01:14:58.492498Z",
     "iopub.status.busy": "2022-06-16T01:14:58.492310Z",
     "iopub.status.idle": "2022-06-16T01:14:58.511807Z",
     "shell.execute_reply": "2022-06-16T01:14:58.511269Z"
    },
    "papermill": {
     "duration": 0.029216,
     "end_time": "2022-06-16T01:14:58.513668",
     "exception": false,
     "start_time": "2022-06-16T01:14:58.484452",
     "status": "completed"
    },
    "tags": []
   },
   "outputs": [
    {
     "data": {
      "text/plain": [
       "6454"
      ]
     },
     "execution_count": 18,
     "metadata": {},
     "output_type": "execute_result"
    }
   ],
   "source": [
    "len(multiplier_gene_obj)"
   ]
  },
  {
   "cell_type": "code",
   "execution_count": 19,
   "id": "9a5d0b84",
   "metadata": {
    "execution": {
     "iopub.execute_input": "2022-06-16T01:14:58.530493Z",
     "iopub.status.busy": "2022-06-16T01:14:58.530021Z",
     "iopub.status.idle": "2022-06-16T01:14:58.549674Z",
     "shell.execute_reply": "2022-06-16T01:14:58.549039Z"
    },
    "papermill": {
     "duration": 0.029471,
     "end_time": "2022-06-16T01:14:58.551483",
     "exception": false,
     "start_time": "2022-06-16T01:14:58.522012",
     "status": "completed"
    },
    "tags": []
   },
   "outputs": [
    {
     "data": {
      "text/plain": [
       "'ENSG00000183087'"
      ]
     },
     "execution_count": 19,
     "metadata": {},
     "output_type": "execute_result"
    }
   ],
   "source": [
    "multiplier_gene_obj[\"GAS6\"].ensembl_id"
   ]
  },
  {
   "cell_type": "code",
   "execution_count": 20,
   "id": "e3ffabc7",
   "metadata": {
    "execution": {
     "iopub.execute_input": "2022-06-16T01:14:58.567743Z",
     "iopub.status.busy": "2022-06-16T01:14:58.567264Z",
     "iopub.status.idle": "2022-06-16T01:15:00.923472Z",
     "shell.execute_reply": "2022-06-16T01:15:00.922985Z"
    },
    "papermill": {
     "duration": 2.365743,
     "end_time": "2022-06-16T01:15:00.924889",
     "exception": false,
     "start_time": "2022-06-16T01:14:58.559146",
     "status": "completed"
    },
    "tags": []
   },
   "outputs": [],
   "source": [
    "_gene_obj = list(multiplier_gene_obj.values())\n",
    "\n",
    "genes_info = pd.DataFrame(\n",
    "    {\n",
    "        \"name\": [g.name for g in _gene_obj],\n",
    "        \"id\": [g.ensembl_id for g in _gene_obj],\n",
    "        \"chr\": [g.chromosome for g in _gene_obj],\n",
    "        \"band\": [g.band for g in _gene_obj],\n",
    "        \"start_position\": [g.get_attribute(\"start_position\") for g in _gene_obj],\n",
    "    }\n",
    ")"
   ]
  },
  {
   "cell_type": "code",
   "execution_count": 21,
   "id": "e23519b8",
   "metadata": {
    "execution": {
     "iopub.execute_input": "2022-06-16T01:15:00.939621Z",
     "iopub.status.busy": "2022-06-16T01:15:00.939229Z",
     "iopub.status.idle": "2022-06-16T01:15:00.956952Z",
     "shell.execute_reply": "2022-06-16T01:15:00.956507Z"
    },
    "papermill": {
     "duration": 0.026586,
     "end_time": "2022-06-16T01:15:00.958478",
     "exception": false,
     "start_time": "2022-06-16T01:15:00.931892",
     "status": "completed"
    },
    "tags": []
   },
   "outputs": [
    {
     "data": {
      "text/plain": [
       "(6454, 5)"
      ]
     },
     "execution_count": 21,
     "metadata": {},
     "output_type": "execute_result"
    }
   ],
   "source": [
    "genes_info.shape"
   ]
  },
  {
   "cell_type": "code",
   "execution_count": 22,
   "id": "0d71881c",
   "metadata": {
    "execution": {
     "iopub.execute_input": "2022-06-16T01:15:00.973517Z",
     "iopub.status.busy": "2022-06-16T01:15:00.973329Z",
     "iopub.status.idle": "2022-06-16T01:15:00.996786Z",
     "shell.execute_reply": "2022-06-16T01:15:00.996169Z"
    },
    "papermill": {
     "duration": 0.032635,
     "end_time": "2022-06-16T01:15:00.998306",
     "exception": false,
     "start_time": "2022-06-16T01:15:00.965671",
     "status": "completed"
    },
    "tags": []
   },
   "outputs": [
    {
     "data": {
      "text/html": [
       "<div>\n",
       "<style scoped>\n",
       "    .dataframe tbody tr th:only-of-type {\n",
       "        vertical-align: middle;\n",
       "    }\n",
       "\n",
       "    .dataframe tbody tr th {\n",
       "        vertical-align: top;\n",
       "    }\n",
       "\n",
       "    .dataframe thead th {\n",
       "        text-align: right;\n",
       "    }\n",
       "</style>\n",
       "<table border=\"1\" class=\"dataframe\">\n",
       "  <thead>\n",
       "    <tr style=\"text-align: right;\">\n",
       "      <th></th>\n",
       "      <th>name</th>\n",
       "      <th>id</th>\n",
       "      <th>chr</th>\n",
       "      <th>band</th>\n",
       "      <th>start_position</th>\n",
       "    </tr>\n",
       "  </thead>\n",
       "  <tbody>\n",
       "    <tr>\n",
       "      <th>0</th>\n",
       "      <td>GAS6</td>\n",
       "      <td>ENSG00000183087</td>\n",
       "      <td>13</td>\n",
       "      <td>13q34</td>\n",
       "      <td>113820549.0</td>\n",
       "    </tr>\n",
       "    <tr>\n",
       "      <th>1</th>\n",
       "      <td>MMP14</td>\n",
       "      <td>ENSG00000157227</td>\n",
       "      <td>14</td>\n",
       "      <td>14q11.2</td>\n",
       "      <td>22836560.0</td>\n",
       "    </tr>\n",
       "    <tr>\n",
       "      <th>2</th>\n",
       "      <td>DSP</td>\n",
       "      <td>ENSG00000096696</td>\n",
       "      <td>6</td>\n",
       "      <td>6p24.3</td>\n",
       "      <td>7541617.0</td>\n",
       "    </tr>\n",
       "    <tr>\n",
       "      <th>3</th>\n",
       "      <td>MARCKSL1</td>\n",
       "      <td>ENSG00000175130</td>\n",
       "      <td>1</td>\n",
       "      <td>1p35.1</td>\n",
       "      <td>32333839.0</td>\n",
       "    </tr>\n",
       "    <tr>\n",
       "      <th>4</th>\n",
       "      <td>SPARC</td>\n",
       "      <td>ENSG00000113140</td>\n",
       "      <td>5</td>\n",
       "      <td>5q33.1</td>\n",
       "      <td>151661096.0</td>\n",
       "    </tr>\n",
       "  </tbody>\n",
       "</table>\n",
       "</div>"
      ],
      "text/plain": [
       "       name               id chr     band  start_position\n",
       "0      GAS6  ENSG00000183087  13    13q34     113820549.0\n",
       "1     MMP14  ENSG00000157227  14  14q11.2      22836560.0\n",
       "2       DSP  ENSG00000096696   6   6p24.3       7541617.0\n",
       "3  MARCKSL1  ENSG00000175130   1   1p35.1      32333839.0\n",
       "4     SPARC  ENSG00000113140   5   5q33.1     151661096.0"
      ]
     },
     "execution_count": 22,
     "metadata": {},
     "output_type": "execute_result"
    }
   ],
   "source": [
    "genes_info.head()"
   ]
  },
  {
   "cell_type": "markdown",
   "id": "8c9dbb4a",
   "metadata": {
    "papermill": {
     "duration": 0.007234,
     "end_time": "2022-06-16T01:15:01.013019",
     "exception": false,
     "start_time": "2022-06-16T01:15:01.005785",
     "status": "completed"
    },
    "tags": []
   },
   "source": [
    "## Get tissues names"
   ]
  },
  {
   "cell_type": "code",
   "execution_count": 23,
   "id": "2bc52419",
   "metadata": {
    "execution": {
     "iopub.execute_input": "2022-06-16T01:15:01.028904Z",
     "iopub.status.busy": "2022-06-16T01:15:01.028471Z",
     "iopub.status.idle": "2022-06-16T01:15:01.044331Z",
     "shell.execute_reply": "2022-06-16T01:15:01.043753Z"
    },
    "papermill": {
     "duration": 0.025651,
     "end_time": "2022-06-16T01:15:01.046075",
     "exception": false,
     "start_time": "2022-06-16T01:15:01.020424",
     "status": "completed"
    },
    "tags": []
   },
   "outputs": [],
   "source": [
    "tissues = conf.PHENOMEXCAN[\"PREDICTION_MODELS\"][f\"{EQTL_MODEL}_TISSUES\"].split(\" \")"
   ]
  },
  {
   "cell_type": "code",
   "execution_count": 24,
   "id": "64b293a1",
   "metadata": {
    "execution": {
     "iopub.execute_input": "2022-06-16T01:15:01.061809Z",
     "iopub.status.busy": "2022-06-16T01:15:01.061622Z",
     "iopub.status.idle": "2022-06-16T01:15:01.078479Z",
     "shell.execute_reply": "2022-06-16T01:15:01.077928Z"
    },
    "papermill": {
     "duration": 0.026682,
     "end_time": "2022-06-16T01:15:01.080205",
     "exception": false,
     "start_time": "2022-06-16T01:15:01.053523",
     "status": "completed"
    },
    "tags": []
   },
   "outputs": [
    {
     "data": {
      "text/plain": [
       "['Skin_Not_Sun_Exposed_Suprapubic',\n",
       " 'Cells_EBV-transformed_lymphocytes',\n",
       " 'Brain_Frontal_Cortex_BA9',\n",
       " 'Kidney_Cortex',\n",
       " 'Brain_Substantia_nigra']"
      ]
     },
     "execution_count": 24,
     "metadata": {},
     "output_type": "execute_result"
    }
   ],
   "source": [
    "tissues[:5]"
   ]
  },
  {
   "cell_type": "code",
   "execution_count": 25,
   "id": "48a7202a",
   "metadata": {
    "execution": {
     "iopub.execute_input": "2022-06-16T01:15:01.096372Z",
     "iopub.status.busy": "2022-06-16T01:15:01.096191Z",
     "iopub.status.idle": "2022-06-16T01:15:01.111950Z",
     "shell.execute_reply": "2022-06-16T01:15:01.111342Z"
    },
    "papermill": {
     "duration": 0.025704,
     "end_time": "2022-06-16T01:15:01.113599",
     "exception": false,
     "start_time": "2022-06-16T01:15:01.087895",
     "status": "completed"
    },
    "tags": []
   },
   "outputs": [],
   "source": [
    "assert len(tissues) == 49"
   ]
  },
  {
   "cell_type": "markdown",
   "id": "c8d1038f",
   "metadata": {
    "papermill": {
     "duration": 0.007464,
     "end_time": "2022-06-16T01:15:01.128750",
     "exception": false,
     "start_time": "2022-06-16T01:15:01.121286",
     "status": "completed"
    },
    "tags": []
   },
   "source": [
    "# Test"
   ]
  },
  {
   "cell_type": "code",
   "execution_count": 26,
   "id": "64993abf",
   "metadata": {
    "execution": {
     "iopub.execute_input": "2022-06-16T01:15:01.145074Z",
     "iopub.status.busy": "2022-06-16T01:15:01.144532Z",
     "iopub.status.idle": "2022-06-16T01:15:01.170546Z",
     "shell.execute_reply": "2022-06-16T01:15:01.169887Z"
    },
    "papermill": {
     "duration": 0.035967,
     "end_time": "2022-06-16T01:15:01.172280",
     "exception": false,
     "start_time": "2022-06-16T01:15:01.136313",
     "status": "completed"
    },
    "tags": []
   },
   "outputs": [
    {
     "data": {
      "text/html": [
       "<div>\n",
       "<style scoped>\n",
       "    .dataframe tbody tr th:only-of-type {\n",
       "        vertical-align: middle;\n",
       "    }\n",
       "\n",
       "    .dataframe tbody tr th {\n",
       "        vertical-align: top;\n",
       "    }\n",
       "\n",
       "    .dataframe thead th {\n",
       "        text-align: right;\n",
       "    }\n",
       "</style>\n",
       "<table border=\"1\" class=\"dataframe\">\n",
       "  <thead>\n",
       "    <tr style=\"text-align: right;\">\n",
       "      <th></th>\n",
       "      <th>name</th>\n",
       "      <th>id</th>\n",
       "      <th>chr</th>\n",
       "      <th>band</th>\n",
       "      <th>start_position</th>\n",
       "    </tr>\n",
       "  </thead>\n",
       "  <tbody>\n",
       "    <tr>\n",
       "      <th>4</th>\n",
       "      <td>SPARC</td>\n",
       "      <td>ENSG00000113140</td>\n",
       "      <td>5</td>\n",
       "      <td>5q33.1</td>\n",
       "      <td>151661096.0</td>\n",
       "    </tr>\n",
       "    <tr>\n",
       "      <th>18</th>\n",
       "      <td>DAB2</td>\n",
       "      <td>ENSG00000153071</td>\n",
       "      <td>5</td>\n",
       "      <td>5p13.1</td>\n",
       "      <td>39371675.0</td>\n",
       "    </tr>\n",
       "    <tr>\n",
       "      <th>22</th>\n",
       "      <td>GPX3</td>\n",
       "      <td>ENSG00000211445</td>\n",
       "      <td>5</td>\n",
       "      <td>5q33.1</td>\n",
       "      <td>151020438.0</td>\n",
       "    </tr>\n",
       "    <tr>\n",
       "      <th>24</th>\n",
       "      <td>DPYSL3</td>\n",
       "      <td>ENSG00000113657</td>\n",
       "      <td>5</td>\n",
       "      <td>5q32</td>\n",
       "      <td>147390808.0</td>\n",
       "    </tr>\n",
       "    <tr>\n",
       "      <th>27</th>\n",
       "      <td>TGFBI</td>\n",
       "      <td>ENSG00000120708</td>\n",
       "      <td>5</td>\n",
       "      <td>5q31.1</td>\n",
       "      <td>136028988.0</td>\n",
       "    </tr>\n",
       "    <tr>\n",
       "      <th>...</th>\n",
       "      <td>...</td>\n",
       "      <td>...</td>\n",
       "      <td>...</td>\n",
       "      <td>...</td>\n",
       "      <td>...</td>\n",
       "    </tr>\n",
       "    <tr>\n",
       "      <th>6273</th>\n",
       "      <td>RAD50</td>\n",
       "      <td>ENSG00000113522</td>\n",
       "      <td>5</td>\n",
       "      <td>5q31.1</td>\n",
       "      <td>132556019.0</td>\n",
       "    </tr>\n",
       "    <tr>\n",
       "      <th>6322</th>\n",
       "      <td>FAM13B</td>\n",
       "      <td>ENSG00000031003</td>\n",
       "      <td>5</td>\n",
       "      <td>5q31.2</td>\n",
       "      <td>137937960.0</td>\n",
       "    </tr>\n",
       "    <tr>\n",
       "      <th>6332</th>\n",
       "      <td>MAN2A1</td>\n",
       "      <td>ENSG00000112893</td>\n",
       "      <td>5</td>\n",
       "      <td>5q21.3</td>\n",
       "      <td>109689366.0</td>\n",
       "    </tr>\n",
       "    <tr>\n",
       "      <th>6358</th>\n",
       "      <td>MRPS27</td>\n",
       "      <td>ENSG00000113048</td>\n",
       "      <td>5</td>\n",
       "      <td>5q13.2</td>\n",
       "      <td>72219409.0</td>\n",
       "    </tr>\n",
       "    <tr>\n",
       "      <th>6361</th>\n",
       "      <td>PDE4D</td>\n",
       "      <td>ENSG00000113448</td>\n",
       "      <td>5</td>\n",
       "      <td>5q12.1</td>\n",
       "      <td>58969038.0</td>\n",
       "    </tr>\n",
       "  </tbody>\n",
       "</table>\n",
       "<p>306 rows × 5 columns</p>\n",
       "</div>"
      ],
      "text/plain": [
       "        name               id chr    band  start_position\n",
       "4      SPARC  ENSG00000113140   5  5q33.1     151661096.0\n",
       "18      DAB2  ENSG00000153071   5  5p13.1      39371675.0\n",
       "22      GPX3  ENSG00000211445   5  5q33.1     151020438.0\n",
       "24    DPYSL3  ENSG00000113657   5    5q32     147390808.0\n",
       "27     TGFBI  ENSG00000120708   5  5q31.1     136028988.0\n",
       "...      ...              ...  ..     ...             ...\n",
       "6273   RAD50  ENSG00000113522   5  5q31.1     132556019.0\n",
       "6322  FAM13B  ENSG00000031003   5  5q31.2     137937960.0\n",
       "6332  MAN2A1  ENSG00000112893   5  5q21.3     109689366.0\n",
       "6358  MRPS27  ENSG00000113048   5  5q13.2      72219409.0\n",
       "6361   PDE4D  ENSG00000113448   5  5q12.1      58969038.0\n",
       "\n",
       "[306 rows x 5 columns]"
      ]
     },
     "metadata": {},
     "output_type": "display_data"
    }
   ],
   "source": [
    "chromosome_genes_info = genes_info[genes_info[\"chr\"] == chromosome]\n",
    "display(chromosome_genes_info)"
   ]
  },
  {
   "cell_type": "code",
   "execution_count": 27,
   "id": "d2e42726-7de6-46eb-acfc-6323eaa8fae6",
   "metadata": {
    "execution": {
     "iopub.execute_input": "2022-06-16T01:15:01.189255Z",
     "iopub.status.busy": "2022-06-16T01:15:01.188805Z",
     "iopub.status.idle": "2022-06-16T01:15:01.207443Z",
     "shell.execute_reply": "2022-06-16T01:15:01.206769Z"
    },
    "papermill": {
     "duration": 0.028725,
     "end_time": "2022-06-16T01:15:01.208982",
     "exception": false,
     "start_time": "2022-06-16T01:15:01.180257",
     "status": "completed"
    },
    "tags": []
   },
   "outputs": [
    {
     "data": {
      "text/plain": [
       "5"
      ]
     },
     "metadata": {},
     "output_type": "display_data"
    }
   ],
   "source": [
    "_gene_list_ids = sample(chromosome_genes_info[\"id\"].tolist(), 5)\n",
    "selected_chromosome_genes_obj = [Gene(ensembl_id=g_id) for g_id in _gene_list_ids]\n",
    "display(len(selected_chromosome_genes_obj))"
   ]
  },
  {
   "cell_type": "code",
   "execution_count": 28,
   "id": "1b355359",
   "metadata": {
    "execution": {
     "iopub.execute_input": "2022-06-16T01:15:01.226026Z",
     "iopub.status.busy": "2022-06-16T01:15:01.225673Z",
     "iopub.status.idle": "2022-06-16T01:15:01.349205Z",
     "shell.execute_reply": "2022-06-16T01:15:01.348474Z"
    },
    "papermill": {
     "duration": 0.133537,
     "end_time": "2022-06-16T01:15:01.350668",
     "exception": false,
     "start_time": "2022-06-16T01:15:01.217131",
     "status": "completed"
    },
    "tags": []
   },
   "outputs": [
    {
     "name": "stdout",
     "output_type": "stream",
     "text": [
      "GFPT2 / PFDN1: 0.0\n",
      "GFPT2 / ATG12: 0.0\n",
      "GFPT2 / RASGRF2: 0.0\n",
      "GFPT2 / TRIM23: 0.0\n",
      "PFDN1 / ATG12: 0.0\n",
      "PFDN1 / RASGRF2: 0.0\n",
      "PFDN1 / TRIM23: 0.0\n",
      "ATG12 / RASGRF2: 0.0\n",
      "ATG12 / TRIM23: 0.0\n",
      "RASGRF2 / TRIM23: 0.0\n"
     ]
    }
   ],
   "source": [
    "for gene_idx1 in range(0, len(selected_chromosome_genes_obj) - 1):\n",
    "    gene_obj1 = selected_chromosome_genes_obj[gene_idx1]\n",
    "\n",
    "    for gene_idx2 in range(gene_idx1 + 1, len(selected_chromosome_genes_obj)):\n",
    "        gene_obj2 = selected_chromosome_genes_obj[gene_idx2]\n",
    "\n",
    "        c = gene_obj1.get_ssm_correlation(\n",
    "            gene_obj2,\n",
    "        )\n",
    "\n",
    "        print(f\"{gene_obj1.name} / {gene_obj2.name}: {c}\")"
   ]
  },
  {
   "cell_type": "markdown",
   "id": "d3843e06",
   "metadata": {
    "papermill": {
     "duration": 0.00749,
     "end_time": "2022-06-16T01:15:01.365977",
     "exception": false,
     "start_time": "2022-06-16T01:15:01.358487",
     "status": "completed"
    },
    "tags": []
   },
   "source": [
    "# Compute correlation per chromosome"
   ]
  },
  {
   "cell_type": "code",
   "execution_count": 29,
   "id": "aa674fe4-6794-4eed-98fa-32b39d1d4ace",
   "metadata": {
    "execution": {
     "iopub.execute_input": "2022-06-16T01:15:01.382202Z",
     "iopub.status.busy": "2022-06-16T01:15:01.381890Z",
     "iopub.status.idle": "2022-06-16T01:15:01.398068Z",
     "shell.execute_reply": "2022-06-16T01:15:01.397450Z"
    },
    "papermill": {
     "duration": 0.026123,
     "end_time": "2022-06-16T01:15:01.399782",
     "exception": false,
     "start_time": "2022-06-16T01:15:01.373659",
     "status": "completed"
    },
    "tags": []
   },
   "outputs": [],
   "source": [
    "warnings.filterwarnings(\"error\")"
   ]
  },
  {
   "cell_type": "code",
   "execution_count": 30,
   "id": "cdbb90a1",
   "metadata": {
    "execution": {
     "iopub.execute_input": "2022-06-16T01:15:01.417110Z",
     "iopub.status.busy": "2022-06-16T01:15:01.416572Z",
     "iopub.status.idle": "2022-06-16T04:01:09.016840Z",
     "shell.execute_reply": "2022-06-16T04:01:09.016316Z"
    },
    "papermill": {
     "duration": 9967.610489,
     "end_time": "2022-06-16T04:01:09.018305",
     "exception": false,
     "start_time": "2022-06-16T01:15:01.407816",
     "status": "completed"
    },
    "tags": []
   },
   "outputs": [
    {
     "name": "stdout",
     "output_type": "stream",
     "text": [
      "Number of genes in chromosome: 306\n",
      "Chromosome 5\n",
      "Number of gene combinations: 46665\n"
     ]
    },
    {
     "name": "stderr",
     "output_type": "stream",
     "text": [
      "ENSG00000113303 / ENSG00000165810: 100%|████████████████████| 46665/46665 [2:46:07<00:00,  4.68it/s]"
     ]
    },
    {
     "name": "stdout",
     "output_type": "stream",
     "text": [
      "Min/max values: -0.9678607353680496 / 0.9999999999999998\n"
     ]
    },
    {
     "name": "stderr",
     "output_type": "stream",
     "text": [
      "\n"
     ]
    },
    {
     "data": {
      "text/plain": [
       "PosixPath('/opt/data/data/phenomexcan/ld_blocks/gene_corrs/gtex_v8/mashr/by_chr/gene_corrs-chr5.pkl')"
      ]
     },
     "metadata": {},
     "output_type": "display_data"
    }
   ],
   "source": [
    "# standard checks\n",
    "all_chrs = genes_info[\"chr\"].dropna().unique()\n",
    "assert all_chrs.shape[0] == 22\n",
    "\n",
    "# select chromosome given by the user\n",
    "assert chromosome in all_chrs\n",
    "\n",
    "# run only on the chromosome specified\n",
    "all_chrs = [chromosome]\n",
    "genes_chr = genes_info[genes_info[\"chr\"] == chromosome]\n",
    "print(f\"Number of genes in chromosome: {genes_chr.shape[0]}\", flush=True)\n",
    "\n",
    "# For testing purposes\n",
    "# genes_chr = genes_chr.sample(n=20)\n",
    "\n",
    "# sort genes by starting position to make visualizations better later\n",
    "genes_chr = genes_chr.sort_values(\"start_position\")\n",
    "\n",
    "\n",
    "for chr_num in all_chrs:\n",
    "    print(f\"Chromosome {chr_num}\", flush=True)\n",
    "\n",
    "    # check if results exist\n",
    "    output_dir = OUTPUT_DIR_BASE / \"by_chr\"\n",
    "    output_file = output_dir / f\"gene_corrs-chr{chr_num}.pkl\"\n",
    "\n",
    "    if output_file.exists():\n",
    "        _tmp_data = pd.read_pickle(output_file)\n",
    "\n",
    "        if _tmp_data.shape[0] > 0:\n",
    "            print(\"Already run, stopping.\")\n",
    "            continue\n",
    "\n",
    "    gene_chr_objs = [Gene(ensembl_id=gene_id) for gene_id in genes_chr[\"id\"]]\n",
    "    gene_chr_ids = [g.ensembl_id for g in gene_chr_objs]\n",
    "\n",
    "    n = len(gene_chr_objs)\n",
    "    n_comb = int(n * (n - 1) / 2.0)\n",
    "    print(f\"Number of gene combinations: {n_comb}\", flush=True)\n",
    "\n",
    "    gene_corrs = []\n",
    "\n",
    "    pbar = tqdm(ncols=100, total=n_comb)\n",
    "    i = 0\n",
    "    for gene_idx1 in range(0, len(gene_chr_objs) - 1):\n",
    "        gene_obj1 = gene_chr_objs[gene_idx1]\n",
    "\n",
    "        for gene_idx2 in range(gene_idx1 + 1, len(gene_chr_objs)):\n",
    "            gene_obj2 = gene_chr_objs[gene_idx2]\n",
    "\n",
    "            pbar.set_description(f\"{gene_obj1.ensembl_id} / {gene_obj2.ensembl_id}\")\n",
    "\n",
    "            try:\n",
    "                # FIXME: compute the correlation of the sum of squares of the model using all\n",
    "                # the available tissues; this could be problematic because for some results\n",
    "                # (computed on a specific phenotype/GWAS) we might not have all the tissues\n",
    "                # available, which can certainly bias the correlation estimation.\n",
    "                # Since this depends on the GWAS on a specific phenotype, we should ideally have\n",
    "                # one correlation matrix per GWAS. I should look at how we can improve this.\n",
    "                gene_corrs.append(\n",
    "                    gene_obj1.get_ssm_correlation(\n",
    "                        other_gene=gene_obj2,\n",
    "                        condition_number=SMULTIXCAN_CONDITION_NUMBER,\n",
    "                        reference_panel=REFERENCE_PANEL,\n",
    "                        model_type=EQTL_MODEL,\n",
    "                    )\n",
    "                )\n",
    "            except Warning:\n",
    "                print(\n",
    "                    f\"RuntimeWarning for genes {gene_obj1.ensembl_id} and {gene_obj2.ensembl_id}\",\n",
    "                    flush=True,\n",
    "                )\n",
    "                import traceback\n",
    "\n",
    "                print(traceback.format_exc(), flush=True)\n",
    "            except Exception as e:\n",
    "                print(\n",
    "                    f\"Exception for genes {gene_obj1.ensembl_id} and {gene_obj2.ensembl_id}\",\n",
    "                    flush=True,\n",
    "                )\n",
    "                import traceback\n",
    "\n",
    "                print(traceback.format_exc(), flush=True)\n",
    "                gene_corrs.append(np.nan)\n",
    "\n",
    "            pbar.update(1)\n",
    "\n",
    "    pbar.close()\n",
    "\n",
    "    # testing\n",
    "    gene_corrs_flat = pd.Series(gene_corrs)\n",
    "    print(f\"Min/max values: {gene_corrs_flat.min()} / {gene_corrs_flat.max()}\")\n",
    "    assert gene_corrs_flat.min() >= -1.001\n",
    "    assert gene_corrs_flat.max() <= 1.001\n",
    "\n",
    "    # save\n",
    "    # FIXME: consider saving only the condenced matrix here. See here for\n",
    "    # more details: https://github.com/greenelab/phenoplier/pull/38#discussion_r634600813\n",
    "    gene_corrs_data = squareform(np.array(gene_corrs, dtype=np.float64))\n",
    "    np.fill_diagonal(gene_corrs_data, 1.0)\n",
    "\n",
    "    gene_corrs_df = pd.DataFrame(\n",
    "        data=gene_corrs_data,\n",
    "        index=gene_chr_ids,\n",
    "        columns=gene_chr_ids,\n",
    "    )\n",
    "\n",
    "    output_dir.mkdir(exist_ok=True, parents=True)\n",
    "    display(output_file)\n",
    "\n",
    "    gene_corrs_df.to_pickle(output_file)"
   ]
  },
  {
   "cell_type": "markdown",
   "id": "faa67b51-5373-470f-aa72-2ded53fa6dfe",
   "metadata": {
    "papermill": {
     "duration": 1.979313,
     "end_time": "2022-06-16T04:01:12.975164",
     "exception": false,
     "start_time": "2022-06-16T04:01:10.995851",
     "status": "completed"
    },
    "tags": []
   },
   "source": [
    "# Testing"
   ]
  },
  {
   "cell_type": "code",
   "execution_count": 31,
   "id": "14f7d046-4b55-4896-a56b-990127bcc388",
   "metadata": {
    "execution": {
     "iopub.execute_input": "2022-06-16T04:01:16.913071Z",
     "iopub.status.busy": "2022-06-16T04:01:16.912530Z",
     "iopub.status.idle": "2022-06-16T04:01:16.929674Z",
     "shell.execute_reply": "2022-06-16T04:01:16.929112Z"
    },
    "papermill": {
     "duration": 1.923467,
     "end_time": "2022-06-16T04:01:16.931106",
     "exception": false,
     "start_time": "2022-06-16T04:01:15.007639",
     "status": "completed"
    },
    "tags": []
   },
   "outputs": [
    {
     "data": {
      "text/plain": [
       "(306, 306)"
      ]
     },
     "execution_count": 31,
     "metadata": {},
     "output_type": "execute_result"
    }
   ],
   "source": [
    "gene_corrs_df.shape"
   ]
  },
  {
   "cell_type": "code",
   "execution_count": 32,
   "id": "c7d15414-3297-4537-a7c6-7588c0baeb75",
   "metadata": {
    "execution": {
     "iopub.execute_input": "2022-06-16T04:01:20.817908Z",
     "iopub.status.busy": "2022-06-16T04:01:20.817561Z",
     "iopub.status.idle": "2022-06-16T04:01:20.850222Z",
     "shell.execute_reply": "2022-06-16T04:01:20.849747Z"
    },
    "papermill": {
     "duration": 1.993807,
     "end_time": "2022-06-16T04:01:20.851663",
     "exception": false,
     "start_time": "2022-06-16T04:01:18.857856",
     "status": "completed"
    },
    "tags": []
   },
   "outputs": [
    {
     "data": {
      "text/html": [
       "<div>\n",
       "<style scoped>\n",
       "    .dataframe tbody tr th:only-of-type {\n",
       "        vertical-align: middle;\n",
       "    }\n",
       "\n",
       "    .dataframe tbody tr th {\n",
       "        vertical-align: top;\n",
       "    }\n",
       "\n",
       "    .dataframe thead th {\n",
       "        text-align: right;\n",
       "    }\n",
       "</style>\n",
       "<table border=\"1\" class=\"dataframe\">\n",
       "  <thead>\n",
       "    <tr style=\"text-align: right;\">\n",
       "      <th></th>\n",
       "      <th>ENSG00000073578</th>\n",
       "      <th>ENSG00000180104</th>\n",
       "      <th>ENSG00000066230</th>\n",
       "      <th>ENSG00000112877</th>\n",
       "      <th>ENSG00000113504</th>\n",
       "      <th>ENSG00000174358</th>\n",
       "      <th>ENSG00000164362</th>\n",
       "      <th>ENSG00000049656</th>\n",
       "      <th>ENSG00000153395</th>\n",
       "      <th>ENSG00000171421</th>\n",
       "      <th>...</th>\n",
       "      <th>ENSG00000161021</th>\n",
       "      <th>ENSG00000161013</th>\n",
       "      <th>ENSG00000161011</th>\n",
       "      <th>ENSG00000050748</th>\n",
       "      <th>ENSG00000131459</th>\n",
       "      <th>ENSG00000113300</th>\n",
       "      <th>ENSG00000037280</th>\n",
       "      <th>ENSG00000131446</th>\n",
       "      <th>ENSG00000113303</th>\n",
       "      <th>ENSG00000165810</th>\n",
       "    </tr>\n",
       "  </thead>\n",
       "  <tbody>\n",
       "    <tr>\n",
       "      <th>ENSG00000073578</th>\n",
       "      <td>1.000000</td>\n",
       "      <td>-0.056125</td>\n",
       "      <td>0.005741</td>\n",
       "      <td>-0.007397</td>\n",
       "      <td>-0.005596</td>\n",
       "      <td>0.079011</td>\n",
       "      <td>-0.062200</td>\n",
       "      <td>0.088995</td>\n",
       "      <td>-0.117840</td>\n",
       "      <td>-0.106603</td>\n",
       "      <td>...</td>\n",
       "      <td>0.0</td>\n",
       "      <td>0.0</td>\n",
       "      <td>0.0</td>\n",
       "      <td>0.0</td>\n",
       "      <td>0.0</td>\n",
       "      <td>0.0</td>\n",
       "      <td>0.0</td>\n",
       "      <td>0.0</td>\n",
       "      <td>0.0</td>\n",
       "      <td>0.0</td>\n",
       "    </tr>\n",
       "    <tr>\n",
       "      <th>ENSG00000180104</th>\n",
       "      <td>-0.056125</td>\n",
       "      <td>1.000000</td>\n",
       "      <td>-0.011982</td>\n",
       "      <td>0.057242</td>\n",
       "      <td>-0.018769</td>\n",
       "      <td>-0.175362</td>\n",
       "      <td>0.051252</td>\n",
       "      <td>0.175469</td>\n",
       "      <td>0.018452</td>\n",
       "      <td>-0.082229</td>\n",
       "      <td>...</td>\n",
       "      <td>0.0</td>\n",
       "      <td>0.0</td>\n",
       "      <td>0.0</td>\n",
       "      <td>0.0</td>\n",
       "      <td>0.0</td>\n",
       "      <td>0.0</td>\n",
       "      <td>0.0</td>\n",
       "      <td>0.0</td>\n",
       "      <td>0.0</td>\n",
       "      <td>0.0</td>\n",
       "    </tr>\n",
       "    <tr>\n",
       "      <th>ENSG00000066230</th>\n",
       "      <td>0.005741</td>\n",
       "      <td>-0.011982</td>\n",
       "      <td>1.000000</td>\n",
       "      <td>-0.245498</td>\n",
       "      <td>0.131906</td>\n",
       "      <td>0.058234</td>\n",
       "      <td>-0.010683</td>\n",
       "      <td>0.174844</td>\n",
       "      <td>0.121537</td>\n",
       "      <td>-0.346419</td>\n",
       "      <td>...</td>\n",
       "      <td>0.0</td>\n",
       "      <td>0.0</td>\n",
       "      <td>0.0</td>\n",
       "      <td>0.0</td>\n",
       "      <td>0.0</td>\n",
       "      <td>0.0</td>\n",
       "      <td>0.0</td>\n",
       "      <td>0.0</td>\n",
       "      <td>0.0</td>\n",
       "      <td>0.0</td>\n",
       "    </tr>\n",
       "    <tr>\n",
       "      <th>ENSG00000112877</th>\n",
       "      <td>-0.007397</td>\n",
       "      <td>0.057242</td>\n",
       "      <td>-0.245498</td>\n",
       "      <td>1.000000</td>\n",
       "      <td>0.015312</td>\n",
       "      <td>-0.152651</td>\n",
       "      <td>0.027053</td>\n",
       "      <td>0.057071</td>\n",
       "      <td>0.127398</td>\n",
       "      <td>0.026692</td>\n",
       "      <td>...</td>\n",
       "      <td>0.0</td>\n",
       "      <td>0.0</td>\n",
       "      <td>0.0</td>\n",
       "      <td>0.0</td>\n",
       "      <td>0.0</td>\n",
       "      <td>0.0</td>\n",
       "      <td>0.0</td>\n",
       "      <td>0.0</td>\n",
       "      <td>0.0</td>\n",
       "      <td>0.0</td>\n",
       "    </tr>\n",
       "    <tr>\n",
       "      <th>ENSG00000113504</th>\n",
       "      <td>-0.005596</td>\n",
       "      <td>-0.018769</td>\n",
       "      <td>0.131906</td>\n",
       "      <td>0.015312</td>\n",
       "      <td>1.000000</td>\n",
       "      <td>0.025733</td>\n",
       "      <td>-0.009157</td>\n",
       "      <td>0.007018</td>\n",
       "      <td>0.038564</td>\n",
       "      <td>0.069162</td>\n",
       "      <td>...</td>\n",
       "      <td>0.0</td>\n",
       "      <td>0.0</td>\n",
       "      <td>0.0</td>\n",
       "      <td>0.0</td>\n",
       "      <td>0.0</td>\n",
       "      <td>0.0</td>\n",
       "      <td>0.0</td>\n",
       "      <td>0.0</td>\n",
       "      <td>0.0</td>\n",
       "      <td>0.0</td>\n",
       "    </tr>\n",
       "  </tbody>\n",
       "</table>\n",
       "<p>5 rows × 306 columns</p>\n",
       "</div>"
      ],
      "text/plain": [
       "                 ENSG00000073578  ENSG00000180104  ENSG00000066230  \\\n",
       "ENSG00000073578         1.000000        -0.056125         0.005741   \n",
       "ENSG00000180104        -0.056125         1.000000        -0.011982   \n",
       "ENSG00000066230         0.005741        -0.011982         1.000000   \n",
       "ENSG00000112877        -0.007397         0.057242        -0.245498   \n",
       "ENSG00000113504        -0.005596        -0.018769         0.131906   \n",
       "\n",
       "                 ENSG00000112877  ENSG00000113504  ENSG00000174358  \\\n",
       "ENSG00000073578        -0.007397        -0.005596         0.079011   \n",
       "ENSG00000180104         0.057242        -0.018769        -0.175362   \n",
       "ENSG00000066230        -0.245498         0.131906         0.058234   \n",
       "ENSG00000112877         1.000000         0.015312        -0.152651   \n",
       "ENSG00000113504         0.015312         1.000000         0.025733   \n",
       "\n",
       "                 ENSG00000164362  ENSG00000049656  ENSG00000153395  \\\n",
       "ENSG00000073578        -0.062200         0.088995        -0.117840   \n",
       "ENSG00000180104         0.051252         0.175469         0.018452   \n",
       "ENSG00000066230        -0.010683         0.174844         0.121537   \n",
       "ENSG00000112877         0.027053         0.057071         0.127398   \n",
       "ENSG00000113504        -0.009157         0.007018         0.038564   \n",
       "\n",
       "                 ENSG00000171421  ...  ENSG00000161021  ENSG00000161013  \\\n",
       "ENSG00000073578        -0.106603  ...              0.0              0.0   \n",
       "ENSG00000180104        -0.082229  ...              0.0              0.0   \n",
       "ENSG00000066230        -0.346419  ...              0.0              0.0   \n",
       "ENSG00000112877         0.026692  ...              0.0              0.0   \n",
       "ENSG00000113504         0.069162  ...              0.0              0.0   \n",
       "\n",
       "                 ENSG00000161011  ENSG00000050748  ENSG00000131459  \\\n",
       "ENSG00000073578              0.0              0.0              0.0   \n",
       "ENSG00000180104              0.0              0.0              0.0   \n",
       "ENSG00000066230              0.0              0.0              0.0   \n",
       "ENSG00000112877              0.0              0.0              0.0   \n",
       "ENSG00000113504              0.0              0.0              0.0   \n",
       "\n",
       "                 ENSG00000113300  ENSG00000037280  ENSG00000131446  \\\n",
       "ENSG00000073578              0.0              0.0              0.0   \n",
       "ENSG00000180104              0.0              0.0              0.0   \n",
       "ENSG00000066230              0.0              0.0              0.0   \n",
       "ENSG00000112877              0.0              0.0              0.0   \n",
       "ENSG00000113504              0.0              0.0              0.0   \n",
       "\n",
       "                 ENSG00000113303  ENSG00000165810  \n",
       "ENSG00000073578              0.0              0.0  \n",
       "ENSG00000180104              0.0              0.0  \n",
       "ENSG00000066230              0.0              0.0  \n",
       "ENSG00000112877              0.0              0.0  \n",
       "ENSG00000113504              0.0              0.0  \n",
       "\n",
       "[5 rows x 306 columns]"
      ]
     },
     "execution_count": 32,
     "metadata": {},
     "output_type": "execute_result"
    }
   ],
   "source": [
    "gene_corrs_df.head()"
   ]
  },
  {
   "cell_type": "code",
   "execution_count": 33,
   "id": "00583efc-7068-4270-ad1e-4a418e91db96",
   "metadata": {
    "execution": {
     "iopub.execute_input": "2022-06-16T04:01:24.759803Z",
     "iopub.status.busy": "2022-06-16T04:01:24.759245Z",
     "iopub.status.idle": "2022-06-16T04:01:24.778441Z",
     "shell.execute_reply": "2022-06-16T04:01:24.777850Z"
    },
    "papermill": {
     "duration": 2.001501,
     "end_time": "2022-06-16T04:01:24.779843",
     "exception": false,
     "start_time": "2022-06-16T04:01:22.778342",
     "status": "completed"
    },
    "tags": []
   },
   "outputs": [
    {
     "data": {
      "text/plain": [
       "-0.9678607353680496"
      ]
     },
     "metadata": {},
     "output_type": "display_data"
    }
   ],
   "source": [
    "_min_val = gene_corrs_df.min().min()\n",
    "display(_min_val)\n",
    "assert _min_val >= -1.0"
   ]
  },
  {
   "cell_type": "code",
   "execution_count": 34,
   "id": "d04fb2cf-1050-475b-b855-f5f7cc04092b",
   "metadata": {
    "execution": {
     "iopub.execute_input": "2022-06-16T04:01:28.688347Z",
     "iopub.status.busy": "2022-06-16T04:01:28.687839Z",
     "iopub.status.idle": "2022-06-16T04:01:28.707004Z",
     "shell.execute_reply": "2022-06-16T04:01:28.706364Z"
    },
    "papermill": {
     "duration": 1.938573,
     "end_time": "2022-06-16T04:01:28.708459",
     "exception": false,
     "start_time": "2022-06-16T04:01:26.769886",
     "status": "completed"
    },
    "tags": []
   },
   "outputs": [
    {
     "data": {
      "text/plain": [
       "1.0"
      ]
     },
     "metadata": {},
     "output_type": "display_data"
    }
   ],
   "source": [
    "_max_val = gene_corrs_df.max().max()  # this captures the diagonal\n",
    "display(_max_val)\n",
    "assert _max_val <= 1.0"
   ]
  },
  {
   "cell_type": "code",
   "execution_count": 35,
   "id": "96d02c44-1fba-47be-8a93-8f2608420b9c",
   "metadata": {
    "execution": {
     "iopub.execute_input": "2022-06-16T04:01:32.601096Z",
     "iopub.status.busy": "2022-06-16T04:01:32.600907Z",
     "iopub.status.idle": "2022-06-16T04:01:32.618047Z",
     "shell.execute_reply": "2022-06-16T04:01:32.617469Z"
    },
    "papermill": {
     "duration": 1.920201,
     "end_time": "2022-06-16T04:01:32.619581",
     "exception": false,
     "start_time": "2022-06-16T04:01:30.699380",
     "status": "completed"
    },
    "tags": []
   },
   "outputs": [],
   "source": [
    "# check upper triangular values\n",
    "assert len(gene_corrs) == int(genes_chr.shape[0] * (genes_chr.shape[0] - 1) / 2)"
   ]
  },
  {
   "cell_type": "code",
   "execution_count": 36,
   "id": "aaa51627-f4e3-4744-a41f-7d25adcc0a78",
   "metadata": {
    "execution": {
     "iopub.execute_input": "2022-06-16T04:01:36.569289Z",
     "iopub.status.busy": "2022-06-16T04:01:36.568764Z",
     "iopub.status.idle": "2022-06-16T04:01:36.590150Z",
     "shell.execute_reply": "2022-06-16T04:01:36.589545Z"
    },
    "papermill": {
     "duration": 2.05239,
     "end_time": "2022-06-16T04:01:36.591650",
     "exception": false,
     "start_time": "2022-06-16T04:01:34.539260",
     "status": "completed"
    },
    "tags": []
   },
   "outputs": [],
   "source": [
    "gene_corrs = pd.Series(gene_corrs)"
   ]
  },
  {
   "cell_type": "code",
   "execution_count": 37,
   "id": "fe283586-c348-40e0-8841-f6d97bfb021c",
   "metadata": {
    "execution": {
     "iopub.execute_input": "2022-06-16T04:01:40.499771Z",
     "iopub.status.busy": "2022-06-16T04:01:40.499576Z",
     "iopub.status.idle": "2022-06-16T04:01:40.521828Z",
     "shell.execute_reply": "2022-06-16T04:01:40.521280Z"
    },
    "papermill": {
     "duration": 1.955468,
     "end_time": "2022-06-16T04:01:40.523309",
     "exception": false,
     "start_time": "2022-06-16T04:01:38.567841",
     "status": "completed"
    },
    "tags": []
   },
   "outputs": [
    {
     "data": {
      "text/plain": [
       "count    46665.000000\n",
       "mean        -0.000060\n",
       "std          0.039211\n",
       "min         -0.967861\n",
       "25%          0.000000\n",
       "50%          0.000000\n",
       "75%          0.000000\n",
       "max          1.000000\n",
       "dtype: float64"
      ]
     },
     "execution_count": 37,
     "metadata": {},
     "output_type": "execute_result"
    }
   ],
   "source": [
    "gene_corrs.describe()"
   ]
  },
  {
   "cell_type": "code",
   "execution_count": 38,
   "id": "b3815678-0f93-4b35-897b-a9d047a2aa78",
   "metadata": {
    "execution": {
     "iopub.execute_input": "2022-06-16T04:01:44.478353Z",
     "iopub.status.busy": "2022-06-16T04:01:44.478171Z",
     "iopub.status.idle": "2022-06-16T04:01:44.498065Z",
     "shell.execute_reply": "2022-06-16T04:01:44.497515Z"
    },
    "papermill": {
     "duration": 1.979433,
     "end_time": "2022-06-16T04:01:44.499528",
     "exception": false,
     "start_time": "2022-06-16T04:01:42.520095",
     "status": "completed"
    },
    "tags": []
   },
   "outputs": [
    {
     "data": {
      "text/plain": [
       "0.00   -0.967861\n",
       "0.05    0.000000\n",
       "0.10    0.000000\n",
       "0.15    0.000000\n",
       "0.20    0.000000\n",
       "0.25    0.000000\n",
       "0.30    0.000000\n",
       "0.35    0.000000\n",
       "0.40    0.000000\n",
       "0.45    0.000000\n",
       "0.50    0.000000\n",
       "0.55    0.000000\n",
       "0.60    0.000000\n",
       "0.65    0.000000\n",
       "0.70    0.000000\n",
       "0.75    0.000000\n",
       "0.80    0.000000\n",
       "0.85    0.000000\n",
       "0.90    0.000000\n",
       "0.95    0.000000\n",
       "dtype: float64"
      ]
     },
     "metadata": {},
     "output_type": "display_data"
    }
   ],
   "source": [
    "gene_corrs_quantiles = gene_corrs.quantile(np.arange(0, 1, 0.05))\n",
    "display(gene_corrs_quantiles)"
   ]
  },
  {
   "cell_type": "markdown",
   "id": "8e60a080-edb2-4e9c-b2ef-22961693200c",
   "metadata": {
    "papermill": {
     "duration": 2.012477,
     "end_time": "2022-06-16T04:01:48.475916",
     "exception": false,
     "start_time": "2022-06-16T04:01:46.463439",
     "status": "completed"
    },
    "tags": []
   },
   "source": [
    "## Plot: distribution"
   ]
  },
  {
   "cell_type": "code",
   "execution_count": 39,
   "id": "8301126b-a7d4-4744-9c7d-f0f86eb6f54c",
   "metadata": {
    "execution": {
     "iopub.execute_input": "2022-06-16T04:01:52.533750Z",
     "iopub.status.busy": "2022-06-16T04:01:52.533566Z",
     "iopub.status.idle": "2022-06-16T04:01:53.017711Z",
     "shell.execute_reply": "2022-06-16T04:01:53.017228Z"
    },
    "papermill": {
     "duration": 2.463137,
     "end_time": "2022-06-16T04:01:53.019280",
     "exception": false,
     "start_time": "2022-06-16T04:01:50.556143",
     "status": "completed"
    },
    "tags": []
   },
   "outputs": [
    {
     "data": {
      "image/png": "[encoded data removed]",
      "text/plain": [
       "<Figure size 504x504 with 1 Axes>"
      ]
     },
     "metadata": {
      "needs_background": "light"
     },
     "output_type": "display_data"
    }
   ],
   "source": [
    "with sns.plotting_context(\"paper\", font_scale=1.5):\n",
    "    g = sns.displot(gene_corrs, kde=True, height=7)\n",
    "    g.ax.set_title(\n",
    "        f\"Distribution of gene correlation values in chromosome {chromosome}\"\n",
    "    )"
   ]
  },
  {
   "cell_type": "markdown",
   "id": "cbd52bca-d878-4a2f-b684-5c83aa3038d4",
   "metadata": {
    "papermill": {
     "duration": 2.134495,
     "end_time": "2022-06-16T04:01:57.272086",
     "exception": false,
     "start_time": "2022-06-16T04:01:55.137591",
     "status": "completed"
    },
    "tags": []
   },
   "source": [
    "## Plot: heatmap"
   ]
  },
  {
   "cell_type": "code",
   "execution_count": 40,
   "id": "d03fe63a-c7b2-4fb9-a53c-db362ce843c9",
   "metadata": {
    "execution": {
     "iopub.execute_input": "2022-06-16T04:02:01.193354Z",
     "iopub.status.busy": "2022-06-16T04:02:01.193143Z",
     "iopub.status.idle": "2022-06-16T04:02:01.213810Z",
     "shell.execute_reply": "2022-06-16T04:02:01.213142Z"
    },
    "papermill": {
     "duration": 2.000214,
     "end_time": "2022-06-16T04:02:01.215323",
     "exception": false,
     "start_time": "2022-06-16T04:01:59.215109",
     "status": "completed"
    },
    "tags": []
   },
   "outputs": [
    {
     "data": {
      "text/plain": [
       "'-0.05 / 0.05'"
      ]
     },
     "metadata": {},
     "output_type": "display_data"
    }
   ],
   "source": [
    "vmin_val = min(-0.05, gene_corrs_quantiles[0.10])\n",
    "vmax_val = max(0.05, gene_corrs_quantiles[0.90])\n",
    "display(f\"{vmin_val} / {vmax_val}\")"
   ]
  },
  {
   "cell_type": "code",
   "execution_count": 41,
   "id": "dc41b70b-5bcc-4d9e-9f33-a22c4a94dab5",
   "metadata": {
    "execution": {
     "iopub.execute_input": "2022-06-16T04:02:05.165033Z",
     "iopub.status.busy": "2022-06-16T04:02:05.164846Z",
     "iopub.status.idle": "2022-06-16T04:02:05.394851Z",
     "shell.execute_reply": "2022-06-16T04:02:05.394258Z"
    },
    "papermill": {
     "duration": 2.158493,
     "end_time": "2022-06-16T04:02:05.396260",
     "exception": false,
     "start_time": "2022-06-16T04:02:03.237767",
     "status": "completed"
    },
    "tags": []
   },
   "outputs": [
    {
     "data": {
      "text/plain": [
       "Text(0.5, 1.0, 'Gene correlations in chromosome 5')"
      ]
     },
     "execution_count": 41,
     "metadata": {},
     "output_type": "execute_result"
    },
    {
     "data": {
      "image/png": "[encoded data removed]",
      "text/plain": [
       "<Figure size 720x720 with 2 Axes>"
      ]
     },
     "metadata": {
      "needs_background": "light"
     },
     "output_type": "display_data"
    }
   ],
   "source": [
    "f, ax = plt.subplots(figsize=(10, 10))\n",
    "sns.heatmap(\n",
    "    gene_corrs_df,\n",
    "    xticklabels=False,\n",
    "    yticklabels=False,\n",
    "    square=True,\n",
    "    vmin=vmin_val,\n",
    "    vmax=vmax_val,\n",
    "    cmap=\"YlGnBu\",\n",
    "    ax=ax,\n",
    ")\n",
    "ax.set_title(f\"Gene correlations in chromosome {chromosome}\")"
   ]
  },
  {
   "cell_type": "code",
   "execution_count": null,
   "id": "b25e3ead",
   "metadata": {
    "papermill": {
     "duration": 1.979032,
     "end_time": "2022-06-16T04:02:09.418264",
     "exception": false,
     "start_time": "2022-06-16T04:02:07.439232",
     "status": "completed"
    },
    "tags": []
   },
   "outputs": [],
   "source": []
  }
 ],
 "metadata": {
  "jupytext": {
   "cell_metadata_filter": "all,-execution,-papermill,-trusted",
   "formats": "ipynb,py//py:percent"
  },
  "kernelspec": {
   "display_name": "Python 3 (ipykernel)",
   "language": "python",
   "name": "python3"
  },
  "language_info": {
   "codemirror_mode": {
    "name": "ipython",
    "version": 3
   },
   "file_extension": ".py",
   "mimetype": "text/x-python",
   "name": "python",
   "nbconvert_exporter": "python",
   "pygments_lexer": "ipython3",
   "version": "3.8.13"
  },
  "papermill": {
   "default_parameters": {},
   "duration": 10038.959233,
   "end_time": "2022-06-16T04:02:14.294284",
   "environment_variables": {},
   "exception": null,
   "input_path": "nbs/15_gsa_gls/10-gene_expr_correlations.ipynb",
   "output_path": "nbs/15_gsa_gls/gene_corrs/gtex_v8/mashr/10-gene_expr_correlations-chr5.run.ipynb",
   "parameters": {
    "EQTL_MODEL": "MASHR",
    "REFERENCE_PANEL": "GTEX_V8",
    "chromosome": 5
   },
   "start_time": "2022-06-16T01:14:55.335051",
   "version": "2.2.2"
  }
 },
 "nbformat": 4,
 "nbformat_minor": 5
}
