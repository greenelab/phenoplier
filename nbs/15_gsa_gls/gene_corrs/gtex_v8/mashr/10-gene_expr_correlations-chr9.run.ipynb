{
 "cells": [
  {
   "cell_type": "markdown",
   "id": "7a6632fb",
   "metadata": {
    "papermill": {
     "duration": 0.006421,
     "end_time": "2022-06-16T07:39:04.131768",
     "exception": false,
     "start_time": "2022-06-16T07:39:04.125347",
     "status": "completed"
    },
    "tags": []
   },
   "source": [
    "# Description"
   ]
  },
  {
   "cell_type": "markdown",
   "id": "7097c346",
   "metadata": {
    "papermill": {
     "duration": 0.005521,
     "end_time": "2022-06-16T07:39:04.143029",
     "exception": false,
     "start_time": "2022-06-16T07:39:04.137508",
     "status": "completed"
    },
    "tags": []
   },
   "source": [
    "(Please, take a look at the README.md file in this directory for instructions on how to run this notebook)\n",
    "\n",
    "This notebook computes predicted expression correlations between all genes in the MultiPLIER models.\n",
    "\n",
    "It also has a parameter set for papermill to run on a single chromosome to run in parallel (see under `Settings` below).\n",
    "\n",
    "This notebook is not directly run. See README.md."
   ]
  },
  {
   "cell_type": "markdown",
   "id": "c61d8427",
   "metadata": {
    "papermill": {
     "duration": 0.005529,
     "end_time": "2022-06-16T07:39:04.154236",
     "exception": false,
     "start_time": "2022-06-16T07:39:04.148707",
     "status": "completed"
    },
    "tags": []
   },
   "source": [
    "# Modules"
   ]
  },
  {
   "cell_type": "code",
   "execution_count": 1,
   "id": "bbc0234f",
   "metadata": {
    "execution": {
     "iopub.execute_input": "2022-06-16T07:39:04.166666Z",
     "iopub.status.busy": "2022-06-16T07:39:04.166450Z",
     "iopub.status.idle": "2022-06-16T07:39:04.182497Z",
     "shell.execute_reply": "2022-06-16T07:39:04.181930Z"
    },
    "papermill": {
     "duration": 0.024172,
     "end_time": "2022-06-16T07:39:04.184119",
     "exception": false,
     "start_time": "2022-06-16T07:39:04.159947",
     "status": "completed"
    },
    "tags": []
   },
   "outputs": [],
   "source": [
    "%load_ext autoreload\n",
    "%autoreload 2"
   ]
  },
  {
   "cell_type": "code",
   "execution_count": 2,
   "id": "1d5f5a59",
   "metadata": {
    "execution": {
     "iopub.execute_input": "2022-06-16T07:39:04.198019Z",
     "iopub.status.busy": "2022-06-16T07:39:04.197518Z",
     "iopub.status.idle": "2022-06-16T07:39:05.214796Z",
     "shell.execute_reply": "2022-06-16T07:39:05.214166Z"
    },
    "papermill": {
     "duration": 1.026317,
     "end_time": "2022-06-16T07:39:05.216693",
     "exception": false,
     "start_time": "2022-06-16T07:39:04.190376",
     "status": "completed"
    },
    "tags": []
   },
   "outputs": [],
   "source": [
    "from random import sample\n",
    "import warnings\n",
    "\n",
    "import numpy as np\n",
    "from scipy.spatial.distance import squareform\n",
    "import pandas as pd\n",
    "from tqdm import tqdm\n",
    "import matplotlib.pyplot as plt\n",
    "import seaborn as sns\n",
    "\n",
    "import conf\n",
    "from entity import Gene"
   ]
  },
  {
   "cell_type": "markdown",
   "id": "1eac24b5",
   "metadata": {
    "papermill": {
     "duration": 0.006303,
     "end_time": "2022-06-16T07:39:05.259455",
     "exception": false,
     "start_time": "2022-06-16T07:39:05.253152",
     "status": "completed"
    },
    "tags": []
   },
   "source": [
    "# Settings"
   ]
  },
  {
   "cell_type": "code",
   "execution_count": 3,
   "id": "ca4560ba",
   "metadata": {
    "execution": {
     "iopub.execute_input": "2022-06-16T07:39:05.273415Z",
     "iopub.status.busy": "2022-06-16T07:39:05.273213Z",
     "iopub.status.idle": "2022-06-16T07:39:05.290609Z",
     "shell.execute_reply": "2022-06-16T07:39:05.290000Z"
    },
    "papermill": {
     "duration": 0.026188,
     "end_time": "2022-06-16T07:39:05.292140",
     "exception": false,
     "start_time": "2022-06-16T07:39:05.265952",
     "status": "completed"
    },
    "tags": [
     "parameters"
    ]
   },
   "outputs": [],
   "source": [
    "# reference panel\n",
    "REFERENCE_PANEL = \"GTEX_V8\"\n",
    "# REFERENCE_PANEL = \"1000G\"\n",
    "\n",
    "# prediction models\n",
    "## mashr\n",
    "EQTL_MODEL = \"MASHR\"\n",
    "EQTL_MODEL_FILES_PREFIX = \"mashr_\"\n",
    "\n",
    "# ## elastic net\n",
    "# EQTL_MODEL = \"ELASTIC_NET\"\n",
    "# EQTL_MODEL_FILES_PREFIX = \"en_\"\n",
    "\n",
    "# make it read the prefix from conf.py\n",
    "EQTL_MODEL_FILES_PREFIX = None\n",
    "\n",
    "# this is the default value used in S-MultiXcan to select the\n",
    "# top principal components of the expression correlation matrix\n",
    "SMULTIXCAN_CONDITION_NUMBER = 30\n",
    "\n",
    "# specifies a single chromosome value\n",
    "# by default, run on all chromosomes\n",
    "chromosome = None"
   ]
  },
  {
   "cell_type": "code",
   "execution_count": 4,
   "id": "5197ecba",
   "metadata": {
    "execution": {
     "iopub.execute_input": "2022-06-16T07:39:05.306375Z",
     "iopub.status.busy": "2022-06-16T07:39:05.305814Z",
     "iopub.status.idle": "2022-06-16T07:39:05.322103Z",
     "shell.execute_reply": "2022-06-16T07:39:05.321479Z"
    },
    "papermill": {
     "duration": 0.024857,
     "end_time": "2022-06-16T07:39:05.323592",
     "exception": false,
     "start_time": "2022-06-16T07:39:05.298735",
     "status": "completed"
    },
    "tags": [
     "injected-parameters"
    ]
   },
   "outputs": [],
   "source": [
    "# Parameters\n",
    "chromosome = 9\n",
    "REFERENCE_PANEL = \"GTEX_V8\"\n",
    "EQTL_MODEL = \"MASHR\"\n"
   ]
  },
  {
   "cell_type": "code",
   "execution_count": 5,
   "id": "a089c9ff",
   "metadata": {
    "execution": {
     "iopub.execute_input": "2022-06-16T07:39:05.345068Z",
     "iopub.status.busy": "2022-06-16T07:39:05.344641Z",
     "iopub.status.idle": "2022-06-16T07:39:05.360683Z",
     "shell.execute_reply": "2022-06-16T07:39:05.360088Z"
    },
    "papermill": {
     "duration": 0.024195,
     "end_time": "2022-06-16T07:39:05.362220",
     "exception": false,
     "start_time": "2022-06-16T07:39:05.338025",
     "status": "completed"
    },
    "tags": []
   },
   "outputs": [],
   "source": [
    "if EQTL_MODEL_FILES_PREFIX is None:\n",
    "    EQTL_MODEL_FILES_PREFIX = conf.PHENOMEXCAN[\"PREDICTION_MODELS\"][\n",
    "        f\"{EQTL_MODEL}_PREFIX\"\n",
    "    ]"
   ]
  },
  {
   "cell_type": "code",
   "execution_count": 6,
   "id": "8fe24bef",
   "metadata": {
    "execution": {
     "iopub.execute_input": "2022-06-16T07:39:05.375730Z",
     "iopub.status.busy": "2022-06-16T07:39:05.375203Z",
     "iopub.status.idle": "2022-06-16T07:39:05.394814Z",
     "shell.execute_reply": "2022-06-16T07:39:05.394169Z"
    },
    "papermill": {
     "duration": 0.027972,
     "end_time": "2022-06-16T07:39:05.396333",
     "exception": false,
     "start_time": "2022-06-16T07:39:05.368361",
     "status": "completed"
    },
    "tags": []
   },
   "outputs": [
    {
     "data": {
      "text/plain": [
       "'Using eQTL model: MASHR / mashr_'"
      ]
     },
     "metadata": {},
     "output_type": "display_data"
    }
   ],
   "source": [
    "display(f\"Using eQTL model: {EQTL_MODEL} / {EQTL_MODEL_FILES_PREFIX}\")"
   ]
  },
  {
   "cell_type": "code",
   "execution_count": 7,
   "id": "0230ebcb-2c32-4b95-9292-d9a52038e70d",
   "metadata": {
    "execution": {
     "iopub.execute_input": "2022-06-16T07:39:05.410302Z",
     "iopub.status.busy": "2022-06-16T07:39:05.409762Z",
     "iopub.status.idle": "2022-06-16T07:39:05.425720Z",
     "shell.execute_reply": "2022-06-16T07:39:05.425097Z"
    },
    "papermill": {
     "duration": 0.024413,
     "end_time": "2022-06-16T07:39:05.427227",
     "exception": false,
     "start_time": "2022-06-16T07:39:05.402814",
     "status": "completed"
    },
    "tags": []
   },
   "outputs": [],
   "source": [
    "REFERENCE_PANEL_DIR = conf.PHENOMEXCAN[\"LD_BLOCKS\"][f\"{REFERENCE_PANEL}_GENOTYPE_DIR\"]"
   ]
  },
  {
   "cell_type": "code",
   "execution_count": 8,
   "id": "98c4a159-601d-4a22-a1ab-35bd451c25f9",
   "metadata": {
    "execution": {
     "iopub.execute_input": "2022-06-16T07:39:05.440861Z",
     "iopub.status.busy": "2022-06-16T07:39:05.440348Z",
     "iopub.status.idle": "2022-06-16T07:39:05.457909Z",
     "shell.execute_reply": "2022-06-16T07:39:05.457341Z"
    },
    "papermill": {
     "duration": 0.026006,
     "end_time": "2022-06-16T07:39:05.459452",
     "exception": false,
     "start_time": "2022-06-16T07:39:05.433446",
     "status": "completed"
    },
    "tags": []
   },
   "outputs": [
    {
     "data": {
      "text/plain": [
       "'Using reference panel folder: /opt/data/data/phenomexcan/ld_blocks/reference_panel_gtex_v8'"
      ]
     },
     "metadata": {},
     "output_type": "display_data"
    }
   ],
   "source": [
    "display(f\"Using reference panel folder: {str(REFERENCE_PANEL_DIR)}\")"
   ]
  },
  {
   "cell_type": "code",
   "execution_count": 9,
   "id": "396392dc-0340-4540-9b02-e182b833f909",
   "metadata": {
    "execution": {
     "iopub.execute_input": "2022-06-16T07:39:05.473639Z",
     "iopub.status.busy": "2022-06-16T07:39:05.473110Z",
     "iopub.status.idle": "2022-06-16T07:39:05.489132Z",
     "shell.execute_reply": "2022-06-16T07:39:05.488572Z"
    },
    "papermill": {
     "duration": 0.024557,
     "end_time": "2022-06-16T07:39:05.490628",
     "exception": false,
     "start_time": "2022-06-16T07:39:05.466071",
     "status": "completed"
    },
    "tags": []
   },
   "outputs": [],
   "source": [
    "OUTPUT_DIR_BASE = (\n",
    "    conf.PHENOMEXCAN[\"LD_BLOCKS\"][f\"GENE_CORRS_DIR\"]\n",
    "    / REFERENCE_PANEL.lower()\n",
    "    / EQTL_MODEL.lower()\n",
    ")\n",
    "OUTPUT_DIR_BASE.mkdir(parents=True, exist_ok=True)"
   ]
  },
  {
   "cell_type": "code",
   "execution_count": 10,
   "id": "8942c2d3-e53c-4d63-a0eb-b6fce0574d36",
   "metadata": {
    "execution": {
     "iopub.execute_input": "2022-06-16T07:39:05.504709Z",
     "iopub.status.busy": "2022-06-16T07:39:05.504174Z",
     "iopub.status.idle": "2022-06-16T07:39:05.520508Z",
     "shell.execute_reply": "2022-06-16T07:39:05.519988Z"
    },
    "papermill": {
     "duration": 0.024846,
     "end_time": "2022-06-16T07:39:05.521936",
     "exception": false,
     "start_time": "2022-06-16T07:39:05.497090",
     "status": "completed"
    },
    "tags": []
   },
   "outputs": [
    {
     "data": {
      "text/plain": [
       "'Using output dir base: /opt/data/data/phenomexcan/ld_blocks/gene_corrs/gtex_v8/mashr'"
      ]
     },
     "metadata": {},
     "output_type": "display_data"
    }
   ],
   "source": [
    "display(f\"Using output dir base: {OUTPUT_DIR_BASE}\")"
   ]
  },
  {
   "cell_type": "code",
   "execution_count": 11,
   "id": "408aa590",
   "metadata": {
    "execution": {
     "iopub.execute_input": "2022-06-16T07:39:05.536296Z",
     "iopub.status.busy": "2022-06-16T07:39:05.535711Z",
     "iopub.status.idle": "2022-06-16T07:39:05.551231Z",
     "shell.execute_reply": "2022-06-16T07:39:05.550662Z"
    },
    "papermill": {
     "duration": 0.024161,
     "end_time": "2022-06-16T07:39:05.552728",
     "exception": false,
     "start_time": "2022-06-16T07:39:05.528567",
     "status": "completed"
    },
    "tags": []
   },
   "outputs": [],
   "source": [
    "assert (\n",
    "    chromosome is not None\n",
    "), \"You have to select one chromosome (format: number between 1 and 22)\""
   ]
  },
  {
   "cell_type": "code",
   "execution_count": 12,
   "id": "c1c7dd06-80ff-453c-bcb7-0899edce75da",
   "metadata": {
    "execution": {
     "iopub.execute_input": "2022-06-16T07:39:05.566939Z",
     "iopub.status.busy": "2022-06-16T07:39:05.566416Z",
     "iopub.status.idle": "2022-06-16T07:39:05.581979Z",
     "shell.execute_reply": "2022-06-16T07:39:05.581386Z"
    },
    "papermill": {
     "duration": 0.024169,
     "end_time": "2022-06-16T07:39:05.583498",
     "exception": false,
     "start_time": "2022-06-16T07:39:05.559329",
     "status": "completed"
    },
    "tags": []
   },
   "outputs": [],
   "source": [
    "chromosome = str(chromosome)"
   ]
  },
  {
   "cell_type": "code",
   "execution_count": 13,
   "id": "bc17b84c-9c26-47a5-a3ab-7046e72f3ef4",
   "metadata": {
    "execution": {
     "iopub.execute_input": "2022-06-16T07:39:05.597837Z",
     "iopub.status.busy": "2022-06-16T07:39:05.597299Z",
     "iopub.status.idle": "2022-06-16T07:39:05.614897Z",
     "shell.execute_reply": "2022-06-16T07:39:05.614279Z"
    },
    "papermill": {
     "duration": 0.026333,
     "end_time": "2022-06-16T07:39:05.616427",
     "exception": false,
     "start_time": "2022-06-16T07:39:05.590094",
     "status": "completed"
    },
    "tags": []
   },
   "outputs": [
    {
     "data": {
      "text/plain": [
       "'Working on chromosome 9'"
      ]
     },
     "metadata": {},
     "output_type": "display_data"
    }
   ],
   "source": [
    "display(f\"Working on chromosome {chromosome}\")"
   ]
  },
  {
   "cell_type": "markdown",
   "id": "d2ba085e",
   "metadata": {
    "papermill": {
     "duration": 0.006488,
     "end_time": "2022-06-16T07:39:05.629740",
     "exception": false,
     "start_time": "2022-06-16T07:39:05.623252",
     "status": "completed"
    },
    "tags": []
   },
   "source": [
    "# Load data"
   ]
  },
  {
   "cell_type": "markdown",
   "id": "abcc4b3d",
   "metadata": {
    "papermill": {
     "duration": 0.006416,
     "end_time": "2022-06-16T07:39:05.642802",
     "exception": false,
     "start_time": "2022-06-16T07:39:05.636386",
     "status": "completed"
    },
    "tags": []
   },
   "source": [
    "## MultiPLIER Z"
   ]
  },
  {
   "cell_type": "code",
   "execution_count": 14,
   "id": "c48ef527",
   "metadata": {
    "execution": {
     "iopub.execute_input": "2022-06-16T07:39:05.656622Z",
     "iopub.status.busy": "2022-06-16T07:39:05.656437Z",
     "iopub.status.idle": "2022-06-16T07:39:05.700847Z",
     "shell.execute_reply": "2022-06-16T07:39:05.700277Z"
    },
    "papermill": {
     "duration": 0.05312,
     "end_time": "2022-06-16T07:39:05.702433",
     "exception": false,
     "start_time": "2022-06-16T07:39:05.649313",
     "status": "completed"
    },
    "tags": []
   },
   "outputs": [],
   "source": [
    "multiplier_z_genes = pd.read_pickle(\n",
    "    conf.MULTIPLIER[\"MODEL_Z_MATRIX_FILE\"]\n",
    ").index.tolist()"
   ]
  },
  {
   "cell_type": "code",
   "execution_count": 15,
   "id": "0a4ecbd9",
   "metadata": {
    "execution": {
     "iopub.execute_input": "2022-06-16T07:39:05.717654Z",
     "iopub.status.busy": "2022-06-16T07:39:05.717439Z",
     "iopub.status.idle": "2022-06-16T07:39:05.736160Z",
     "shell.execute_reply": "2022-06-16T07:39:05.735513Z"
    },
    "papermill": {
     "duration": 0.028168,
     "end_time": "2022-06-16T07:39:05.737740",
     "exception": false,
     "start_time": "2022-06-16T07:39:05.709572",
     "status": "completed"
    },
    "tags": []
   },
   "outputs": [
    {
     "data": {
      "text/plain": [
       "6750"
      ]
     },
     "execution_count": 15,
     "metadata": {},
     "output_type": "execute_result"
    }
   ],
   "source": [
    "len(multiplier_z_genes)"
   ]
  },
  {
   "cell_type": "code",
   "execution_count": 16,
   "id": "115e8864",
   "metadata": {
    "execution": {
     "iopub.execute_input": "2022-06-16T07:39:05.752940Z",
     "iopub.status.busy": "2022-06-16T07:39:05.752565Z",
     "iopub.status.idle": "2022-06-16T07:39:05.770644Z",
     "shell.execute_reply": "2022-06-16T07:39:05.770045Z"
    },
    "papermill": {
     "duration": 0.027476,
     "end_time": "2022-06-16T07:39:05.772272",
     "exception": false,
     "start_time": "2022-06-16T07:39:05.744796",
     "status": "completed"
    },
    "tags": []
   },
   "outputs": [
    {
     "data": {
      "text/plain": [
       "['GAS6',\n",
       " 'MMP14',\n",
       " 'DSP',\n",
       " 'MARCKSL1',\n",
       " 'SPARC',\n",
       " 'CTSD',\n",
       " 'EPAS1',\n",
       " 'PALLD',\n",
       " 'PHC2',\n",
       " 'LGALS3BP']"
      ]
     },
     "execution_count": 16,
     "metadata": {},
     "output_type": "execute_result"
    }
   ],
   "source": [
    "multiplier_z_genes[:10]"
   ]
  },
  {
   "cell_type": "markdown",
   "id": "7dcb8db7",
   "metadata": {
    "papermill": {
     "duration": 0.006723,
     "end_time": "2022-06-16T07:39:05.786073",
     "exception": false,
     "start_time": "2022-06-16T07:39:05.779350",
     "status": "completed"
    },
    "tags": []
   },
   "source": [
    "## Get gene objects"
   ]
  },
  {
   "cell_type": "code",
   "execution_count": 17,
   "id": "bb932812",
   "metadata": {
    "execution": {
     "iopub.execute_input": "2022-06-16T07:39:05.801023Z",
     "iopub.status.busy": "2022-06-16T07:39:05.800513Z",
     "iopub.status.idle": "2022-06-16T07:39:05.823763Z",
     "shell.execute_reply": "2022-06-16T07:39:05.823151Z"
    },
    "papermill": {
     "duration": 0.032348,
     "end_time": "2022-06-16T07:39:05.825334",
     "exception": false,
     "start_time": "2022-06-16T07:39:05.792986",
     "status": "completed"
    },
    "tags": []
   },
   "outputs": [],
   "source": [
    "multiplier_gene_obj = {\n",
    "    gene_name: Gene(name=gene_name)\n",
    "    for gene_name in multiplier_z_genes\n",
    "    if gene_name in Gene.GENE_NAME_TO_ID_MAP\n",
    "}"
   ]
  },
  {
   "cell_type": "code",
   "execution_count": 18,
   "id": "39533214",
   "metadata": {
    "execution": {
     "iopub.execute_input": "2022-06-16T07:39:05.840581Z",
     "iopub.status.busy": "2022-06-16T07:39:05.840052Z",
     "iopub.status.idle": "2022-06-16T07:39:05.857512Z",
     "shell.execute_reply": "2022-06-16T07:39:05.856928Z"
    },
    "papermill": {
     "duration": 0.026579,
     "end_time": "2022-06-16T07:39:05.859035",
     "exception": false,
     "start_time": "2022-06-16T07:39:05.832456",
     "status": "completed"
    },
    "tags": []
   },
   "outputs": [
    {
     "data": {
      "text/plain": [
       "6454"
      ]
     },
     "execution_count": 18,
     "metadata": {},
     "output_type": "execute_result"
    }
   ],
   "source": [
    "len(multiplier_gene_obj)"
   ]
  },
  {
   "cell_type": "code",
   "execution_count": 19,
   "id": "9a5d0b84",
   "metadata": {
    "execution": {
     "iopub.execute_input": "2022-06-16T07:39:05.874675Z",
     "iopub.status.busy": "2022-06-16T07:39:05.874110Z",
     "iopub.status.idle": "2022-06-16T07:39:05.891678Z",
     "shell.execute_reply": "2022-06-16T07:39:05.891096Z"
    },
    "papermill": {
     "duration": 0.026975,
     "end_time": "2022-06-16T07:39:05.893241",
     "exception": false,
     "start_time": "2022-06-16T07:39:05.866266",
     "status": "completed"
    },
    "tags": []
   },
   "outputs": [
    {
     "data": {
      "text/plain": [
       "'ENSG00000183087'"
      ]
     },
     "execution_count": 19,
     "metadata": {},
     "output_type": "execute_result"
    }
   ],
   "source": [
    "multiplier_gene_obj[\"GAS6\"].ensembl_id"
   ]
  },
  {
   "cell_type": "code",
   "execution_count": 20,
   "id": "e3ffabc7",
   "metadata": {
    "execution": {
     "iopub.execute_input": "2022-06-16T07:39:05.908917Z",
     "iopub.status.busy": "2022-06-16T07:39:05.908394Z",
     "iopub.status.idle": "2022-06-16T07:39:08.060612Z",
     "shell.execute_reply": "2022-06-16T07:39:08.059945Z"
    },
    "papermill": {
     "duration": 2.165773,
     "end_time": "2022-06-16T07:39:08.066327",
     "exception": false,
     "start_time": "2022-06-16T07:39:05.900554",
     "status": "completed"
    },
    "tags": []
   },
   "outputs": [],
   "source": [
    "_gene_obj = list(multiplier_gene_obj.values())\n",
    "\n",
    "genes_info = pd.DataFrame(\n",
    "    {\n",
    "        \"name\": [g.name for g in _gene_obj],\n",
    "        \"id\": [g.ensembl_id for g in _gene_obj],\n",
    "        \"chr\": [g.chromosome for g in _gene_obj],\n",
    "        \"band\": [g.band for g in _gene_obj],\n",
    "        \"start_position\": [g.get_attribute(\"start_position\") for g in _gene_obj],\n",
    "    }\n",
    ")"
   ]
  },
  {
   "cell_type": "code",
   "execution_count": 21,
   "id": "e23519b8",
   "metadata": {
    "execution": {
     "iopub.execute_input": "2022-06-16T07:39:08.083922Z",
     "iopub.status.busy": "2022-06-16T07:39:08.083743Z",
     "iopub.status.idle": "2022-06-16T07:39:08.100900Z",
     "shell.execute_reply": "2022-06-16T07:39:08.100314Z"
    },
    "papermill": {
     "duration": 0.025974,
     "end_time": "2022-06-16T07:39:08.102484",
     "exception": false,
     "start_time": "2022-06-16T07:39:08.076510",
     "status": "completed"
    },
    "tags": []
   },
   "outputs": [
    {
     "data": {
      "text/plain": [
       "(6454, 5)"
      ]
     },
     "execution_count": 21,
     "metadata": {},
     "output_type": "execute_result"
    }
   ],
   "source": [
    "genes_info.shape"
   ]
  },
  {
   "cell_type": "code",
   "execution_count": 22,
   "id": "0d71881c",
   "metadata": {
    "execution": {
     "iopub.execute_input": "2022-06-16T07:39:08.118262Z",
     "iopub.status.busy": "2022-06-16T07:39:08.117716Z",
     "iopub.status.idle": "2022-06-16T07:39:08.141251Z",
     "shell.execute_reply": "2022-06-16T07:39:08.140639Z"
    },
    "papermill": {
     "duration": 0.032932,
     "end_time": "2022-06-16T07:39:08.142757",
     "exception": false,
     "start_time": "2022-06-16T07:39:08.109825",
     "status": "completed"
    },
    "tags": []
   },
   "outputs": [
    {
     "data": {
      "text/html": [
       "<div>\n",
       "<style scoped>\n",
       "    .dataframe tbody tr th:only-of-type {\n",
       "        vertical-align: middle;\n",
       "    }\n",
       "\n",
       "    .dataframe tbody tr th {\n",
       "        vertical-align: top;\n",
       "    }\n",
       "\n",
       "    .dataframe thead th {\n",
       "        text-align: right;\n",
       "    }\n",
       "</style>\n",
       "<table border=\"1\" class=\"dataframe\">\n",
       "  <thead>\n",
       "    <tr style=\"text-align: right;\">\n",
       "      <th></th>\n",
       "      <th>name</th>\n",
       "      <th>id</th>\n",
       "      <th>chr</th>\n",
       "      <th>band</th>\n",
       "      <th>start_position</th>\n",
       "    </tr>\n",
       "  </thead>\n",
       "  <tbody>\n",
       "    <tr>\n",
       "      <th>0</th>\n",
       "      <td>GAS6</td>\n",
       "      <td>ENSG00000183087</td>\n",
       "      <td>13</td>\n",
       "      <td>13q34</td>\n",
       "      <td>113820549.0</td>\n",
       "    </tr>\n",
       "    <tr>\n",
       "      <th>1</th>\n",
       "      <td>MMP14</td>\n",
       "      <td>ENSG00000157227</td>\n",
       "      <td>14</td>\n",
       "      <td>14q11.2</td>\n",
       "      <td>22836560.0</td>\n",
       "    </tr>\n",
       "    <tr>\n",
       "      <th>2</th>\n",
       "      <td>DSP</td>\n",
       "      <td>ENSG00000096696</td>\n",
       "      <td>6</td>\n",
       "      <td>6p24.3</td>\n",
       "      <td>7541617.0</td>\n",
       "    </tr>\n",
       "    <tr>\n",
       "      <th>3</th>\n",
       "      <td>MARCKSL1</td>\n",
       "      <td>ENSG00000175130</td>\n",
       "      <td>1</td>\n",
       "      <td>1p35.1</td>\n",
       "      <td>32333839.0</td>\n",
       "    </tr>\n",
       "    <tr>\n",
       "      <th>4</th>\n",
       "      <td>SPARC</td>\n",
       "      <td>ENSG00000113140</td>\n",
       "      <td>5</td>\n",
       "      <td>5q33.1</td>\n",
       "      <td>151661096.0</td>\n",
       "    </tr>\n",
       "  </tbody>\n",
       "</table>\n",
       "</div>"
      ],
      "text/plain": [
       "       name               id chr     band  start_position\n",
       "0      GAS6  ENSG00000183087  13    13q34     113820549.0\n",
       "1     MMP14  ENSG00000157227  14  14q11.2      22836560.0\n",
       "2       DSP  ENSG00000096696   6   6p24.3       7541617.0\n",
       "3  MARCKSL1  ENSG00000175130   1   1p35.1      32333839.0\n",
       "4     SPARC  ENSG00000113140   5   5q33.1     151661096.0"
      ]
     },
     "execution_count": 22,
     "metadata": {},
     "output_type": "execute_result"
    }
   ],
   "source": [
    "genes_info.head()"
   ]
  },
  {
   "cell_type": "markdown",
   "id": "8c9dbb4a",
   "metadata": {
    "papermill": {
     "duration": 0.007261,
     "end_time": "2022-06-16T07:39:08.157607",
     "exception": false,
     "start_time": "2022-06-16T07:39:08.150346",
     "status": "completed"
    },
    "tags": []
   },
   "source": [
    "## Get tissues names"
   ]
  },
  {
   "cell_type": "code",
   "execution_count": 23,
   "id": "2bc52419",
   "metadata": {
    "execution": {
     "iopub.execute_input": "2022-06-16T07:39:08.173452Z",
     "iopub.status.busy": "2022-06-16T07:39:08.173094Z",
     "iopub.status.idle": "2022-06-16T07:39:08.189161Z",
     "shell.execute_reply": "2022-06-16T07:39:08.188573Z"
    },
    "papermill": {
     "duration": 0.025584,
     "end_time": "2022-06-16T07:39:08.190640",
     "exception": false,
     "start_time": "2022-06-16T07:39:08.165056",
     "status": "completed"
    },
    "tags": []
   },
   "outputs": [],
   "source": [
    "tissues = conf.PHENOMEXCAN[\"PREDICTION_MODELS\"][f\"{EQTL_MODEL}_TISSUES\"].split(\" \")"
   ]
  },
  {
   "cell_type": "code",
   "execution_count": 24,
   "id": "64b293a1",
   "metadata": {
    "execution": {
     "iopub.execute_input": "2022-06-16T07:39:08.206792Z",
     "iopub.status.busy": "2022-06-16T07:39:08.206175Z",
     "iopub.status.idle": "2022-06-16T07:39:08.224012Z",
     "shell.execute_reply": "2022-06-16T07:39:08.223410Z"
    },
    "papermill": {
     "duration": 0.027555,
     "end_time": "2022-06-16T07:39:08.225645",
     "exception": false,
     "start_time": "2022-06-16T07:39:08.198090",
     "status": "completed"
    },
    "tags": []
   },
   "outputs": [
    {
     "data": {
      "text/plain": [
       "['Skin_Not_Sun_Exposed_Suprapubic',\n",
       " 'Cells_EBV-transformed_lymphocytes',\n",
       " 'Brain_Frontal_Cortex_BA9',\n",
       " 'Kidney_Cortex',\n",
       " 'Brain_Substantia_nigra']"
      ]
     },
     "execution_count": 24,
     "metadata": {},
     "output_type": "execute_result"
    }
   ],
   "source": [
    "tissues[:5]"
   ]
  },
  {
   "cell_type": "code",
   "execution_count": 25,
   "id": "48a7202a",
   "metadata": {
    "execution": {
     "iopub.execute_input": "2022-06-16T07:39:08.242202Z",
     "iopub.status.busy": "2022-06-16T07:39:08.241688Z",
     "iopub.status.idle": "2022-06-16T07:39:08.257318Z",
     "shell.execute_reply": "2022-06-16T07:39:08.256775Z"
    },
    "papermill": {
     "duration": 0.025557,
     "end_time": "2022-06-16T07:39:08.259000",
     "exception": false,
     "start_time": "2022-06-16T07:39:08.233443",
     "status": "completed"
    },
    "tags": []
   },
   "outputs": [],
   "source": [
    "assert len(tissues) == 49"
   ]
  },
  {
   "cell_type": "markdown",
   "id": "c8d1038f",
   "metadata": {
    "papermill": {
     "duration": 0.007479,
     "end_time": "2022-06-16T07:39:08.274180",
     "exception": false,
     "start_time": "2022-06-16T07:39:08.266701",
     "status": "completed"
    },
    "tags": []
   },
   "source": [
    "# Test"
   ]
  },
  {
   "cell_type": "code",
   "execution_count": 26,
   "id": "64993abf",
   "metadata": {
    "execution": {
     "iopub.execute_input": "2022-06-16T07:39:08.290247Z",
     "iopub.status.busy": "2022-06-16T07:39:08.290061Z",
     "iopub.status.idle": "2022-06-16T07:39:08.315904Z",
     "shell.execute_reply": "2022-06-16T07:39:08.315275Z"
    },
    "papermill": {
     "duration": 0.035749,
     "end_time": "2022-06-16T07:39:08.317501",
     "exception": false,
     "start_time": "2022-06-16T07:39:08.281752",
     "status": "completed"
    },
    "tags": []
   },
   "outputs": [
    {
     "data": {
      "text/html": [
       "<div>\n",
       "<style scoped>\n",
       "    .dataframe tbody tr th:only-of-type {\n",
       "        vertical-align: middle;\n",
       "    }\n",
       "\n",
       "    .dataframe tbody tr th {\n",
       "        vertical-align: top;\n",
       "    }\n",
       "\n",
       "    .dataframe thead th {\n",
       "        text-align: right;\n",
       "    }\n",
       "</style>\n",
       "<table border=\"1\" class=\"dataframe\">\n",
       "  <thead>\n",
       "    <tr style=\"text-align: right;\">\n",
       "      <th></th>\n",
       "      <th>name</th>\n",
       "      <th>id</th>\n",
       "      <th>chr</th>\n",
       "      <th>band</th>\n",
       "      <th>start_position</th>\n",
       "    </tr>\n",
       "  </thead>\n",
       "  <tbody>\n",
       "    <tr>\n",
       "      <th>59</th>\n",
       "      <td>RXRA</td>\n",
       "      <td>ENSG00000186350</td>\n",
       "      <td>9</td>\n",
       "      <td>9q34.2</td>\n",
       "      <td>134317098.0</td>\n",
       "    </tr>\n",
       "    <tr>\n",
       "      <th>87</th>\n",
       "      <td>NINJ1</td>\n",
       "      <td>ENSG00000131669</td>\n",
       "      <td>9</td>\n",
       "      <td>9q22.31</td>\n",
       "      <td>93121496.0</td>\n",
       "    </tr>\n",
       "    <tr>\n",
       "      <th>106</th>\n",
       "      <td>ABCA1</td>\n",
       "      <td>ENSG00000165029</td>\n",
       "      <td>9</td>\n",
       "      <td>9q31.1</td>\n",
       "      <td>104781006.0</td>\n",
       "    </tr>\n",
       "    <tr>\n",
       "      <th>115</th>\n",
       "      <td>TMOD1</td>\n",
       "      <td>ENSG00000136842</td>\n",
       "      <td>9</td>\n",
       "      <td>9q22.33</td>\n",
       "      <td>97501180.0</td>\n",
       "    </tr>\n",
       "    <tr>\n",
       "      <th>137</th>\n",
       "      <td>LPAR1</td>\n",
       "      <td>ENSG00000198121</td>\n",
       "      <td>9</td>\n",
       "      <td>9q31.3</td>\n",
       "      <td>110873263.0</td>\n",
       "    </tr>\n",
       "    <tr>\n",
       "      <th>...</th>\n",
       "      <td>...</td>\n",
       "      <td>...</td>\n",
       "      <td>...</td>\n",
       "      <td>...</td>\n",
       "      <td>...</td>\n",
       "    </tr>\n",
       "    <tr>\n",
       "      <th>6362</th>\n",
       "      <td>SCAI</td>\n",
       "      <td>ENSG00000173611</td>\n",
       "      <td>9</td>\n",
       "      <td>9q33.3</td>\n",
       "      <td>124942608.0</td>\n",
       "    </tr>\n",
       "    <tr>\n",
       "      <th>6387</th>\n",
       "      <td>GOLGA2</td>\n",
       "      <td>ENSG00000167110</td>\n",
       "      <td>9</td>\n",
       "      <td>9q34.11</td>\n",
       "      <td>128255829.0</td>\n",
       "    </tr>\n",
       "    <tr>\n",
       "      <th>6401</th>\n",
       "      <td>DNM1</td>\n",
       "      <td>ENSG00000106976</td>\n",
       "      <td>9</td>\n",
       "      <td>9q34.11</td>\n",
       "      <td>128191655.0</td>\n",
       "    </tr>\n",
       "    <tr>\n",
       "      <th>6421</th>\n",
       "      <td>RAD23B</td>\n",
       "      <td>ENSG00000119318</td>\n",
       "      <td>9</td>\n",
       "      <td>9q31.2</td>\n",
       "      <td>107283137.0</td>\n",
       "    </tr>\n",
       "    <tr>\n",
       "      <th>6450</th>\n",
       "      <td>NFIB</td>\n",
       "      <td>ENSG00000147862</td>\n",
       "      <td>9</td>\n",
       "      <td>9p22.3</td>\n",
       "      <td>14081843.0</td>\n",
       "    </tr>\n",
       "  </tbody>\n",
       "</table>\n",
       "<p>245 rows × 5 columns</p>\n",
       "</div>"
      ],
      "text/plain": [
       "        name               id chr     band  start_position\n",
       "59      RXRA  ENSG00000186350   9   9q34.2     134317098.0\n",
       "87     NINJ1  ENSG00000131669   9  9q22.31      93121496.0\n",
       "106    ABCA1  ENSG00000165029   9   9q31.1     104781006.0\n",
       "115    TMOD1  ENSG00000136842   9  9q22.33      97501180.0\n",
       "137    LPAR1  ENSG00000198121   9   9q31.3     110873263.0\n",
       "...      ...              ...  ..      ...             ...\n",
       "6362    SCAI  ENSG00000173611   9   9q33.3     124942608.0\n",
       "6387  GOLGA2  ENSG00000167110   9  9q34.11     128255829.0\n",
       "6401    DNM1  ENSG00000106976   9  9q34.11     128191655.0\n",
       "6421  RAD23B  ENSG00000119318   9   9q31.2     107283137.0\n",
       "6450    NFIB  ENSG00000147862   9   9p22.3      14081843.0\n",
       "\n",
       "[245 rows x 5 columns]"
      ]
     },
     "metadata": {},
     "output_type": "display_data"
    }
   ],
   "source": [
    "chromosome_genes_info = genes_info[genes_info[\"chr\"] == chromosome]\n",
    "display(chromosome_genes_info)"
   ]
  },
  {
   "cell_type": "code",
   "execution_count": 27,
   "id": "d2e42726-7de6-46eb-acfc-6323eaa8fae6",
   "metadata": {
    "execution": {
     "iopub.execute_input": "2022-06-16T07:39:08.334490Z",
     "iopub.status.busy": "2022-06-16T07:39:08.333960Z",
     "iopub.status.idle": "2022-06-16T07:39:08.352270Z",
     "shell.execute_reply": "2022-06-16T07:39:08.351635Z"
    },
    "papermill": {
     "duration": 0.028338,
     "end_time": "2022-06-16T07:39:08.353791",
     "exception": false,
     "start_time": "2022-06-16T07:39:08.325453",
     "status": "completed"
    },
    "tags": []
   },
   "outputs": [
    {
     "data": {
      "text/plain": [
       "5"
      ]
     },
     "metadata": {},
     "output_type": "display_data"
    }
   ],
   "source": [
    "_gene_list_ids = sample(chromosome_genes_info[\"id\"].tolist(), 5)\n",
    "selected_chromosome_genes_obj = [Gene(ensembl_id=g_id) for g_id in _gene_list_ids]\n",
    "display(len(selected_chromosome_genes_obj))"
   ]
  },
  {
   "cell_type": "code",
   "execution_count": 28,
   "id": "1b355359",
   "metadata": {
    "execution": {
     "iopub.execute_input": "2022-06-16T07:39:08.371014Z",
     "iopub.status.busy": "2022-06-16T07:39:08.370511Z",
     "iopub.status.idle": "2022-06-16T07:39:08.495153Z",
     "shell.execute_reply": "2022-06-16T07:39:08.494421Z"
    },
    "papermill": {
     "duration": 0.134659,
     "end_time": "2022-06-16T07:39:08.496570",
     "exception": false,
     "start_time": "2022-06-16T07:39:08.361911",
     "status": "completed"
    },
    "tags": []
   },
   "outputs": [
    {
     "name": "stdout",
     "output_type": "stream",
     "text": [
      "HABP4 / LRSAM1: 0.0\n",
      "HABP4 / VLDLR: 0.0\n",
      "HABP4 / GAS1: 0.0\n",
      "HABP4 / PTGR1: 0.0\n",
      "LRSAM1 / VLDLR: 0.0\n",
      "LRSAM1 / GAS1: 0.0\n",
      "LRSAM1 / PTGR1: 0.0\n",
      "VLDLR / GAS1: 0.0\n",
      "VLDLR / PTGR1: 0.0\n",
      "GAS1 / PTGR1: 0.0\n"
     ]
    }
   ],
   "source": [
    "for gene_idx1 in range(0, len(selected_chromosome_genes_obj) - 1):\n",
    "    gene_obj1 = selected_chromosome_genes_obj[gene_idx1]\n",
    "\n",
    "    for gene_idx2 in range(gene_idx1 + 1, len(selected_chromosome_genes_obj)):\n",
    "        gene_obj2 = selected_chromosome_genes_obj[gene_idx2]\n",
    "\n",
    "        c = gene_obj1.get_ssm_correlation(\n",
    "            gene_obj2,\n",
    "        )\n",
    "\n",
    "        print(f\"{gene_obj1.name} / {gene_obj2.name}: {c}\")"
   ]
  },
  {
   "cell_type": "markdown",
   "id": "d3843e06",
   "metadata": {
    "papermill": {
     "duration": 0.007559,
     "end_time": "2022-06-16T07:39:08.511911",
     "exception": false,
     "start_time": "2022-06-16T07:39:08.504352",
     "status": "completed"
    },
    "tags": []
   },
   "source": [
    "# Compute correlation per chromosome"
   ]
  },
  {
   "cell_type": "code",
   "execution_count": 29,
   "id": "aa674fe4-6794-4eed-98fa-32b39d1d4ace",
   "metadata": {
    "execution": {
     "iopub.execute_input": "2022-06-16T07:39:08.528324Z",
     "iopub.status.busy": "2022-06-16T07:39:08.527729Z",
     "iopub.status.idle": "2022-06-16T07:39:08.543842Z",
     "shell.execute_reply": "2022-06-16T07:39:08.543278Z"
    },
    "papermill": {
     "duration": 0.025792,
     "end_time": "2022-06-16T07:39:08.545360",
     "exception": false,
     "start_time": "2022-06-16T07:39:08.519568",
     "status": "completed"
    },
    "tags": []
   },
   "outputs": [],
   "source": [
    "warnings.filterwarnings(\"error\")"
   ]
  },
  {
   "cell_type": "code",
   "execution_count": 30,
   "id": "cdbb90a1",
   "metadata": {
    "execution": {
     "iopub.execute_input": "2022-06-16T07:39:08.563705Z",
     "iopub.status.busy": "2022-06-16T07:39:08.563194Z",
     "iopub.status.idle": "2022-06-16T10:18:07.264672Z",
     "shell.execute_reply": "2022-06-16T10:18:07.264137Z"
    },
    "papermill": {
     "duration": 9538.711662,
     "end_time": "2022-06-16T10:18:07.266184",
     "exception": false,
     "start_time": "2022-06-16T07:39:08.554522",
     "status": "completed"
    },
    "tags": []
   },
   "outputs": [
    {
     "name": "stdout",
     "output_type": "stream",
     "text": [
      "Number of genes in chromosome: 245\n",
      "Chromosome 9\n",
      "Number of gene combinations: 29890\n"
     ]
    },
    {
     "name": "stderr",
     "output_type": "stream",
     "text": [
      "ENSG00000182154 / ENSG00000181090: 100%|████████████████████| 29890/29890 [2:38:58<00:00,  3.13it/s]"
     ]
    },
    {
     "name": "stdout",
     "output_type": "stream",
     "text": [
      "Min/max values: -0.9877508741621591 / 0.9176607708286557\n"
     ]
    },
    {
     "name": "stderr",
     "output_type": "stream",
     "text": [
      "\n"
     ]
    },
    {
     "data": {
      "text/plain": [
       "PosixPath('/opt/data/data/phenomexcan/ld_blocks/gene_corrs/gtex_v8/mashr/by_chr/gene_corrs-chr9.pkl')"
      ]
     },
     "metadata": {},
     "output_type": "display_data"
    }
   ],
   "source": [
    "# standard checks\n",
    "all_chrs = genes_info[\"chr\"].dropna().unique()\n",
    "assert all_chrs.shape[0] == 22\n",
    "\n",
    "# select chromosome given by the user\n",
    "assert chromosome in all_chrs\n",
    "\n",
    "# run only on the chromosome specified\n",
    "all_chrs = [chromosome]\n",
    "genes_chr = genes_info[genes_info[\"chr\"] == chromosome]\n",
    "print(f\"Number of genes in chromosome: {genes_chr.shape[0]}\", flush=True)\n",
    "\n",
    "# For testing purposes\n",
    "# genes_chr = genes_chr.sample(n=20)\n",
    "\n",
    "# sort genes by starting position to make visualizations better later\n",
    "genes_chr = genes_chr.sort_values(\"start_position\")\n",
    "\n",
    "\n",
    "for chr_num in all_chrs:\n",
    "    print(f\"Chromosome {chr_num}\", flush=True)\n",
    "\n",
    "    # check if results exist\n",
    "    output_dir = OUTPUT_DIR_BASE / \"by_chr\"\n",
    "    output_file = output_dir / f\"gene_corrs-chr{chr_num}.pkl\"\n",
    "\n",
    "    if output_file.exists():\n",
    "        _tmp_data = pd.read_pickle(output_file)\n",
    "\n",
    "        if _tmp_data.shape[0] > 0:\n",
    "            print(\"Already run, stopping.\")\n",
    "            continue\n",
    "\n",
    "    gene_chr_objs = [Gene(ensembl_id=gene_id) for gene_id in genes_chr[\"id\"]]\n",
    "    gene_chr_ids = [g.ensembl_id for g in gene_chr_objs]\n",
    "\n",
    "    n = len(gene_chr_objs)\n",
    "    n_comb = int(n * (n - 1) / 2.0)\n",
    "    print(f\"Number of gene combinations: {n_comb}\", flush=True)\n",
    "\n",
    "    gene_corrs = []\n",
    "\n",
    "    pbar = tqdm(ncols=100, total=n_comb)\n",
    "    i = 0\n",
    "    for gene_idx1 in range(0, len(gene_chr_objs) - 1):\n",
    "        gene_obj1 = gene_chr_objs[gene_idx1]\n",
    "\n",
    "        for gene_idx2 in range(gene_idx1 + 1, len(gene_chr_objs)):\n",
    "            gene_obj2 = gene_chr_objs[gene_idx2]\n",
    "\n",
    "            pbar.set_description(f\"{gene_obj1.ensembl_id} / {gene_obj2.ensembl_id}\")\n",
    "\n",
    "            try:\n",
    "                # FIXME: compute the correlation of the sum of squares of the model using all\n",
    "                # the available tissues; this could be problematic because for some results\n",
    "                # (computed on a specific phenotype/GWAS) we might not have all the tissues\n",
    "                # available, which can certainly bias the correlation estimation.\n",
    "                # Since this depends on the GWAS on a specific phenotype, we should ideally have\n",
    "                # one correlation matrix per GWAS. I should look at how we can improve this.\n",
    "                gene_corrs.append(\n",
    "                    gene_obj1.get_ssm_correlation(\n",
    "                        other_gene=gene_obj2,\n",
    "                        condition_number=SMULTIXCAN_CONDITION_NUMBER,\n",
    "                        reference_panel=REFERENCE_PANEL,\n",
    "                        model_type=EQTL_MODEL,\n",
    "                    )\n",
    "                )\n",
    "            except Warning:\n",
    "                print(\n",
    "                    f\"RuntimeWarning for genes {gene_obj1.ensembl_id} and {gene_obj2.ensembl_id}\",\n",
    "                    flush=True,\n",
    "                )\n",
    "                import traceback\n",
    "\n",
    "                print(traceback.format_exc(), flush=True)\n",
    "            except Exception as e:\n",
    "                print(\n",
    "                    f\"Exception for genes {gene_obj1.ensembl_id} and {gene_obj2.ensembl_id}\",\n",
    "                    flush=True,\n",
    "                )\n",
    "                import traceback\n",
    "\n",
    "                print(traceback.format_exc(), flush=True)\n",
    "                gene_corrs.append(np.nan)\n",
    "\n",
    "            pbar.update(1)\n",
    "\n",
    "    pbar.close()\n",
    "\n",
    "    # testing\n",
    "    gene_corrs_flat = pd.Series(gene_corrs)\n",
    "    print(f\"Min/max values: {gene_corrs_flat.min()} / {gene_corrs_flat.max()}\")\n",
    "    assert gene_corrs_flat.min() >= -1.001\n",
    "    assert gene_corrs_flat.max() <= 1.001\n",
    "\n",
    "    # save\n",
    "    # FIXME: consider saving only the condenced matrix here. See here for\n",
    "    # more details: https://github.com/greenelab/phenoplier/pull/38#discussion_r634600813\n",
    "    gene_corrs_data = squareform(np.array(gene_corrs, dtype=np.float64))\n",
    "    np.fill_diagonal(gene_corrs_data, 1.0)\n",
    "\n",
    "    gene_corrs_df = pd.DataFrame(\n",
    "        data=gene_corrs_data,\n",
    "        index=gene_chr_ids,\n",
    "        columns=gene_chr_ids,\n",
    "    )\n",
    "\n",
    "    output_dir.mkdir(exist_ok=True, parents=True)\n",
    "    display(output_file)\n",
    "\n",
    "    gene_corrs_df.to_pickle(output_file)"
   ]
  },
  {
   "cell_type": "markdown",
   "id": "faa67b51-5373-470f-aa72-2ded53fa6dfe",
   "metadata": {
    "papermill": {
     "duration": 1.378711,
     "end_time": "2022-06-16T10:18:09.941508",
     "exception": false,
     "start_time": "2022-06-16T10:18:08.562797",
     "status": "completed"
    },
    "tags": []
   },
   "source": [
    "# Testing"
   ]
  },
  {
   "cell_type": "code",
   "execution_count": 31,
   "id": "14f7d046-4b55-4896-a56b-990127bcc388",
   "metadata": {
    "execution": {
     "iopub.execute_input": "2022-06-16T10:18:12.461895Z",
     "iopub.status.busy": "2022-06-16T10:18:12.461703Z",
     "iopub.status.idle": "2022-06-16T10:18:12.480668Z",
     "shell.execute_reply": "2022-06-16T10:18:12.480081Z"
    },
    "papermill": {
     "duration": 1.284268,
     "end_time": "2022-06-16T10:18:12.482234",
     "exception": false,
     "start_time": "2022-06-16T10:18:11.197966",
     "status": "completed"
    },
    "tags": []
   },
   "outputs": [
    {
     "data": {
      "text/plain": [
       "(245, 245)"
      ]
     },
     "execution_count": 31,
     "metadata": {},
     "output_type": "execute_result"
    }
   ],
   "source": [
    "gene_corrs_df.shape"
   ]
  },
  {
   "cell_type": "code",
   "execution_count": 32,
   "id": "c7d15414-3297-4537-a7c6-7588c0baeb75",
   "metadata": {
    "execution": {
     "iopub.execute_input": "2022-06-16T10:18:15.081274Z",
     "iopub.status.busy": "2022-06-16T10:18:15.080771Z",
     "iopub.status.idle": "2022-06-16T10:18:15.112384Z",
     "shell.execute_reply": "2022-06-16T10:18:15.111933Z"
    },
    "papermill": {
     "duration": 1.315212,
     "end_time": "2022-06-16T10:18:15.113740",
     "exception": false,
     "start_time": "2022-06-16T10:18:13.798528",
     "status": "completed"
    },
    "tags": []
   },
   "outputs": [
    {
     "data": {
      "text/html": [
       "<div>\n",
       "<style scoped>\n",
       "    .dataframe tbody tr th:only-of-type {\n",
       "        vertical-align: middle;\n",
       "    }\n",
       "\n",
       "    .dataframe tbody tr th {\n",
       "        vertical-align: top;\n",
       "    }\n",
       "\n",
       "    .dataframe thead th {\n",
       "        text-align: right;\n",
       "    }\n",
       "</style>\n",
       "<table border=\"1\" class=\"dataframe\">\n",
       "  <thead>\n",
       "    <tr style=\"text-align: right;\">\n",
       "      <th></th>\n",
       "      <th>ENSG00000107099</th>\n",
       "      <th>ENSG00000080503</th>\n",
       "      <th>ENSG00000147852</th>\n",
       "      <th>ENSG00000107249</th>\n",
       "      <th>ENSG00000147853</th>\n",
       "      <th>ENSG00000096968</th>\n",
       "      <th>ENSG00000107014</th>\n",
       "      <th>ENSG00000120217</th>\n",
       "      <th>ENSG00000197646</th>\n",
       "      <th>ENSG00000178445</th>\n",
       "      <th>...</th>\n",
       "      <th>ENSG00000107317</th>\n",
       "      <th>ENSG00000169583</th>\n",
       "      <th>ENSG00000107331</th>\n",
       "      <th>ENSG00000054179</th>\n",
       "      <th>ENSG00000177239</th>\n",
       "      <th>ENSG00000176248</th>\n",
       "      <th>ENSG00000176101</th>\n",
       "      <th>ENSG00000188747</th>\n",
       "      <th>ENSG00000182154</th>\n",
       "      <th>ENSG00000181090</th>\n",
       "    </tr>\n",
       "  </thead>\n",
       "  <tbody>\n",
       "    <tr>\n",
       "      <th>ENSG00000107099</th>\n",
       "      <td>1.000000</td>\n",
       "      <td>0.027099</td>\n",
       "      <td>-0.062734</td>\n",
       "      <td>-0.094130</td>\n",
       "      <td>0.026929</td>\n",
       "      <td>0.028014</td>\n",
       "      <td>-0.072437</td>\n",
       "      <td>-0.001007</td>\n",
       "      <td>0.000000</td>\n",
       "      <td>0.000000</td>\n",
       "      <td>...</td>\n",
       "      <td>0.0</td>\n",
       "      <td>0.0</td>\n",
       "      <td>0.0</td>\n",
       "      <td>0.0</td>\n",
       "      <td>0.0</td>\n",
       "      <td>0.0</td>\n",
       "      <td>0.0</td>\n",
       "      <td>0.0</td>\n",
       "      <td>0.0</td>\n",
       "      <td>0.0</td>\n",
       "    </tr>\n",
       "    <tr>\n",
       "      <th>ENSG00000080503</th>\n",
       "      <td>0.027099</td>\n",
       "      <td>1.000000</td>\n",
       "      <td>-0.043908</td>\n",
       "      <td>0.003128</td>\n",
       "      <td>0.026387</td>\n",
       "      <td>-0.067326</td>\n",
       "      <td>-0.037079</td>\n",
       "      <td>-0.013920</td>\n",
       "      <td>0.038196</td>\n",
       "      <td>-0.014905</td>\n",
       "      <td>...</td>\n",
       "      <td>0.0</td>\n",
       "      <td>0.0</td>\n",
       "      <td>0.0</td>\n",
       "      <td>0.0</td>\n",
       "      <td>0.0</td>\n",
       "      <td>0.0</td>\n",
       "      <td>0.0</td>\n",
       "      <td>0.0</td>\n",
       "      <td>0.0</td>\n",
       "      <td>0.0</td>\n",
       "    </tr>\n",
       "    <tr>\n",
       "      <th>ENSG00000147852</th>\n",
       "      <td>-0.062734</td>\n",
       "      <td>-0.043908</td>\n",
       "      <td>1.000000</td>\n",
       "      <td>-0.027363</td>\n",
       "      <td>-0.032116</td>\n",
       "      <td>-0.036267</td>\n",
       "      <td>-0.029817</td>\n",
       "      <td>-0.067241</td>\n",
       "      <td>0.012005</td>\n",
       "      <td>0.052225</td>\n",
       "      <td>...</td>\n",
       "      <td>0.0</td>\n",
       "      <td>0.0</td>\n",
       "      <td>0.0</td>\n",
       "      <td>0.0</td>\n",
       "      <td>0.0</td>\n",
       "      <td>0.0</td>\n",
       "      <td>0.0</td>\n",
       "      <td>0.0</td>\n",
       "      <td>0.0</td>\n",
       "      <td>0.0</td>\n",
       "    </tr>\n",
       "    <tr>\n",
       "      <th>ENSG00000107249</th>\n",
       "      <td>-0.094130</td>\n",
       "      <td>0.003128</td>\n",
       "      <td>-0.027363</td>\n",
       "      <td>1.000000</td>\n",
       "      <td>0.021366</td>\n",
       "      <td>0.059143</td>\n",
       "      <td>-0.008833</td>\n",
       "      <td>-0.048458</td>\n",
       "      <td>0.073721</td>\n",
       "      <td>0.018817</td>\n",
       "      <td>...</td>\n",
       "      <td>0.0</td>\n",
       "      <td>0.0</td>\n",
       "      <td>0.0</td>\n",
       "      <td>0.0</td>\n",
       "      <td>0.0</td>\n",
       "      <td>0.0</td>\n",
       "      <td>0.0</td>\n",
       "      <td>0.0</td>\n",
       "      <td>0.0</td>\n",
       "      <td>0.0</td>\n",
       "    </tr>\n",
       "    <tr>\n",
       "      <th>ENSG00000147853</th>\n",
       "      <td>0.026929</td>\n",
       "      <td>0.026387</td>\n",
       "      <td>-0.032116</td>\n",
       "      <td>0.021366</td>\n",
       "      <td>1.000000</td>\n",
       "      <td>0.046764</td>\n",
       "      <td>0.107088</td>\n",
       "      <td>0.016462</td>\n",
       "      <td>0.181276</td>\n",
       "      <td>0.063692</td>\n",
       "      <td>...</td>\n",
       "      <td>0.0</td>\n",
       "      <td>0.0</td>\n",
       "      <td>0.0</td>\n",
       "      <td>0.0</td>\n",
       "      <td>0.0</td>\n",
       "      <td>0.0</td>\n",
       "      <td>0.0</td>\n",
       "      <td>0.0</td>\n",
       "      <td>0.0</td>\n",
       "      <td>0.0</td>\n",
       "    </tr>\n",
       "  </tbody>\n",
       "</table>\n",
       "<p>5 rows × 245 columns</p>\n",
       "</div>"
      ],
      "text/plain": [
       "                 ENSG00000107099  ENSG00000080503  ENSG00000147852  \\\n",
       "ENSG00000107099         1.000000         0.027099        -0.062734   \n",
       "ENSG00000080503         0.027099         1.000000        -0.043908   \n",
       "ENSG00000147852        -0.062734        -0.043908         1.000000   \n",
       "ENSG00000107249        -0.094130         0.003128        -0.027363   \n",
       "ENSG00000147853         0.026929         0.026387        -0.032116   \n",
       "\n",
       "                 ENSG00000107249  ENSG00000147853  ENSG00000096968  \\\n",
       "ENSG00000107099        -0.094130         0.026929         0.028014   \n",
       "ENSG00000080503         0.003128         0.026387        -0.067326   \n",
       "ENSG00000147852        -0.027363        -0.032116        -0.036267   \n",
       "ENSG00000107249         1.000000         0.021366         0.059143   \n",
       "ENSG00000147853         0.021366         1.000000         0.046764   \n",
       "\n",
       "                 ENSG00000107014  ENSG00000120217  ENSG00000197646  \\\n",
       "ENSG00000107099        -0.072437        -0.001007         0.000000   \n",
       "ENSG00000080503        -0.037079        -0.013920         0.038196   \n",
       "ENSG00000147852        -0.029817        -0.067241         0.012005   \n",
       "ENSG00000107249        -0.008833        -0.048458         0.073721   \n",
       "ENSG00000147853         0.107088         0.016462         0.181276   \n",
       "\n",
       "                 ENSG00000178445  ...  ENSG00000107317  ENSG00000169583  \\\n",
       "ENSG00000107099         0.000000  ...              0.0              0.0   \n",
       "ENSG00000080503        -0.014905  ...              0.0              0.0   \n",
       "ENSG00000147852         0.052225  ...              0.0              0.0   \n",
       "ENSG00000107249         0.018817  ...              0.0              0.0   \n",
       "ENSG00000147853         0.063692  ...              0.0              0.0   \n",
       "\n",
       "                 ENSG00000107331  ENSG00000054179  ENSG00000177239  \\\n",
       "ENSG00000107099              0.0              0.0              0.0   \n",
       "ENSG00000080503              0.0              0.0              0.0   \n",
       "ENSG00000147852              0.0              0.0              0.0   \n",
       "ENSG00000107249              0.0              0.0              0.0   \n",
       "ENSG00000147853              0.0              0.0              0.0   \n",
       "\n",
       "                 ENSG00000176248  ENSG00000176101  ENSG00000188747  \\\n",
       "ENSG00000107099              0.0              0.0              0.0   \n",
       "ENSG00000080503              0.0              0.0              0.0   \n",
       "ENSG00000147852              0.0              0.0              0.0   \n",
       "ENSG00000107249              0.0              0.0              0.0   \n",
       "ENSG00000147853              0.0              0.0              0.0   \n",
       "\n",
       "                 ENSG00000182154  ENSG00000181090  \n",
       "ENSG00000107099              0.0              0.0  \n",
       "ENSG00000080503              0.0              0.0  \n",
       "ENSG00000147852              0.0              0.0  \n",
       "ENSG00000107249              0.0              0.0  \n",
       "ENSG00000147853              0.0              0.0  \n",
       "\n",
       "[5 rows x 245 columns]"
      ]
     },
     "execution_count": 32,
     "metadata": {},
     "output_type": "execute_result"
    }
   ],
   "source": [
    "gene_corrs_df.head()"
   ]
  },
  {
   "cell_type": "code",
   "execution_count": 33,
   "id": "00583efc-7068-4270-ad1e-4a418e91db96",
   "metadata": {
    "execution": {
     "iopub.execute_input": "2022-06-16T10:18:17.644463Z",
     "iopub.status.busy": "2022-06-16T10:18:17.644281Z",
     "iopub.status.idle": "2022-06-16T10:18:17.664139Z",
     "shell.execute_reply": "2022-06-16T10:18:17.663601Z"
    },
    "papermill": {
     "duration": 1.29356,
     "end_time": "2022-06-16T10:18:17.665602",
     "exception": false,
     "start_time": "2022-06-16T10:18:16.372042",
     "status": "completed"
    },
    "tags": []
   },
   "outputs": [
    {
     "data": {
      "text/plain": [
       "-0.9877508741621591"
      ]
     },
     "metadata": {},
     "output_type": "display_data"
    }
   ],
   "source": [
    "_min_val = gene_corrs_df.min().min()\n",
    "display(_min_val)\n",
    "assert _min_val >= -1.0"
   ]
  },
  {
   "cell_type": "code",
   "execution_count": 34,
   "id": "d04fb2cf-1050-475b-b855-f5f7cc04092b",
   "metadata": {
    "execution": {
     "iopub.execute_input": "2022-06-16T10:18:20.229281Z",
     "iopub.status.busy": "2022-06-16T10:18:20.229090Z",
     "iopub.status.idle": "2022-06-16T10:18:20.249457Z",
     "shell.execute_reply": "2022-06-16T10:18:20.248895Z"
    },
    "papermill": {
     "duration": 1.29703,
     "end_time": "2022-06-16T10:18:20.251054",
     "exception": false,
     "start_time": "2022-06-16T10:18:18.954024",
     "status": "completed"
    },
    "tags": []
   },
   "outputs": [
    {
     "data": {
      "text/plain": [
       "1.0"
      ]
     },
     "metadata": {},
     "output_type": "display_data"
    }
   ],
   "source": [
    "_max_val = gene_corrs_df.max().max()  # this captures the diagonal\n",
    "display(_max_val)\n",
    "assert _max_val <= 1.0"
   ]
  },
  {
   "cell_type": "code",
   "execution_count": 35,
   "id": "96d02c44-1fba-47be-8a93-8f2608420b9c",
   "metadata": {
    "execution": {
     "iopub.execute_input": "2022-06-16T10:18:22.789303Z",
     "iopub.status.busy": "2022-06-16T10:18:22.788969Z",
     "iopub.status.idle": "2022-06-16T10:18:22.805703Z",
     "shell.execute_reply": "2022-06-16T10:18:22.805089Z"
    },
    "papermill": {
     "duration": 1.298685,
     "end_time": "2022-06-16T10:18:22.807150",
     "exception": false,
     "start_time": "2022-06-16T10:18:21.508465",
     "status": "completed"
    },
    "tags": []
   },
   "outputs": [],
   "source": [
    "# check upper triangular values\n",
    "assert len(gene_corrs) == int(genes_chr.shape[0] * (genes_chr.shape[0] - 1) / 2)"
   ]
  },
  {
   "cell_type": "code",
   "execution_count": 36,
   "id": "aaa51627-f4e3-4744-a41f-7d25adcc0a78",
   "metadata": {
    "execution": {
     "iopub.execute_input": "2022-06-16T10:18:25.341267Z",
     "iopub.status.busy": "2022-06-16T10:18:25.341088Z",
     "iopub.status.idle": "2022-06-16T10:18:25.361769Z",
     "shell.execute_reply": "2022-06-16T10:18:25.361127Z"
    },
    "papermill": {
     "duration": 1.302861,
     "end_time": "2022-06-16T10:18:25.363288",
     "exception": false,
     "start_time": "2022-06-16T10:18:24.060427",
     "status": "completed"
    },
    "tags": []
   },
   "outputs": [],
   "source": [
    "gene_corrs = pd.Series(gene_corrs)"
   ]
  },
  {
   "cell_type": "code",
   "execution_count": 37,
   "id": "fe283586-c348-40e0-8841-f6d97bfb021c",
   "metadata": {
    "execution": {
     "iopub.execute_input": "2022-06-16T10:18:27.949557Z",
     "iopub.status.busy": "2022-06-16T10:18:27.949353Z",
     "iopub.status.idle": "2022-06-16T10:18:27.971980Z",
     "shell.execute_reply": "2022-06-16T10:18:27.971350Z"
    },
    "papermill": {
     "duration": 1.312273,
     "end_time": "2022-06-16T10:18:27.973501",
     "exception": false,
     "start_time": "2022-06-16T10:18:26.661228",
     "status": "completed"
    },
    "tags": []
   },
   "outputs": [
    {
     "data": {
      "text/plain": [
       "count    29890.000000\n",
       "mean        -0.000079\n",
       "std          0.057754\n",
       "min         -0.987751\n",
       "25%          0.000000\n",
       "50%          0.000000\n",
       "75%          0.000000\n",
       "max          0.917661\n",
       "dtype: float64"
      ]
     },
     "execution_count": 37,
     "metadata": {},
     "output_type": "execute_result"
    }
   ],
   "source": [
    "gene_corrs.describe()"
   ]
  },
  {
   "cell_type": "code",
   "execution_count": 38,
   "id": "b3815678-0f93-4b35-897b-a9d047a2aa78",
   "metadata": {
    "execution": {
     "iopub.execute_input": "2022-06-16T10:18:30.563343Z",
     "iopub.status.busy": "2022-06-16T10:18:30.563007Z",
     "iopub.status.idle": "2022-06-16T10:18:30.584859Z",
     "shell.execute_reply": "2022-06-16T10:18:30.584235Z"
    },
    "papermill": {
     "duration": 1.325656,
     "end_time": "2022-06-16T10:18:30.586398",
     "exception": false,
     "start_time": "2022-06-16T10:18:29.260742",
     "status": "completed"
    },
    "tags": []
   },
   "outputs": [
    {
     "data": {
      "text/plain": [
       "0.00   -0.987751\n",
       "0.05   -0.025016\n",
       "0.10    0.000000\n",
       "0.15    0.000000\n",
       "0.20    0.000000\n",
       "0.25    0.000000\n",
       "0.30    0.000000\n",
       "0.35    0.000000\n",
       "0.40    0.000000\n",
       "0.45    0.000000\n",
       "0.50    0.000000\n",
       "0.55    0.000000\n",
       "0.60    0.000000\n",
       "0.65    0.000000\n",
       "0.70    0.000000\n",
       "0.75    0.000000\n",
       "0.80    0.000000\n",
       "0.85    0.000000\n",
       "0.90    0.000000\n",
       "0.95    0.025448\n",
       "dtype: float64"
      ]
     },
     "metadata": {},
     "output_type": "display_data"
    }
   ],
   "source": [
    "gene_corrs_quantiles = gene_corrs.quantile(np.arange(0, 1, 0.05))\n",
    "display(gene_corrs_quantiles)"
   ]
  },
  {
   "cell_type": "markdown",
   "id": "8e60a080-edb2-4e9c-b2ef-22961693200c",
   "metadata": {
    "papermill": {
     "duration": 1.282045,
     "end_time": "2022-06-16T10:18:33.158948",
     "exception": false,
     "start_time": "2022-06-16T10:18:31.876903",
     "status": "completed"
    },
    "tags": []
   },
   "source": [
    "## Plot: distribution"
   ]
  },
  {
   "cell_type": "code",
   "execution_count": 39,
   "id": "8301126b-a7d4-4744-9c7d-f0f86eb6f54c",
   "metadata": {
    "execution": {
     "iopub.execute_input": "2022-06-16T10:18:35.748981Z",
     "iopub.status.busy": "2022-06-16T10:18:35.748404Z",
     "iopub.status.idle": "2022-06-16T10:18:36.135247Z",
     "shell.execute_reply": "2022-06-16T10:18:36.134684Z"
    },
    "papermill": {
     "duration": 1.69131,
     "end_time": "2022-06-16T10:18:36.136641",
     "exception": false,
     "start_time": "2022-06-16T10:18:34.445331",
     "status": "completed"
    },
    "tags": []
   },
   "outputs": [
    {
     "data": {
      "image/png": "[encoded data removed]",
      "text/plain": [
       "<Figure size 504x504 with 1 Axes>"
      ]
     },
     "metadata": {
      "needs_background": "light"
     },
     "output_type": "display_data"
    }
   ],
   "source": [
    "with sns.plotting_context(\"paper\", font_scale=1.5):\n",
    "    g = sns.displot(gene_corrs, kde=True, height=7)\n",
    "    g.ax.set_title(\n",
    "        f\"Distribution of gene correlation values in chromosome {chromosome}\"\n",
    "    )"
   ]
  },
  {
   "cell_type": "markdown",
   "id": "cbd52bca-d878-4a2f-b684-5c83aa3038d4",
   "metadata": {
    "papermill": {
     "duration": 1.264348,
     "end_time": "2022-06-16T10:18:38.652952",
     "exception": false,
     "start_time": "2022-06-16T10:18:37.388604",
     "status": "completed"
    },
    "tags": []
   },
   "source": [
    "## Plot: heatmap"
   ]
  },
  {
   "cell_type": "code",
   "execution_count": 40,
   "id": "d03fe63a-c7b2-4fb9-a53c-db362ce843c9",
   "metadata": {
    "execution": {
     "iopub.execute_input": "2022-06-16T10:18:41.231156Z",
     "iopub.status.busy": "2022-06-16T10:18:41.230980Z",
     "iopub.status.idle": "2022-06-16T10:18:41.251206Z",
     "shell.execute_reply": "2022-06-16T10:18:41.250758Z"
    },
    "papermill": {
     "duration": 1.347725,
     "end_time": "2022-06-16T10:18:41.252804",
     "exception": false,
     "start_time": "2022-06-16T10:18:39.905079",
     "status": "completed"
    },
    "tags": []
   },
   "outputs": [
    {
     "data": {
      "text/plain": [
       "'-0.05 / 0.05'"
      ]
     },
     "metadata": {},
     "output_type": "display_data"
    }
   ],
   "source": [
    "vmin_val = min(-0.05, gene_corrs_quantiles[0.10])\n",
    "vmax_val = max(0.05, gene_corrs_quantiles[0.90])\n",
    "display(f\"{vmin_val} / {vmax_val}\")"
   ]
  },
  {
   "cell_type": "code",
   "execution_count": 41,
   "id": "dc41b70b-5bcc-4d9e-9f33-a22c4a94dab5",
   "metadata": {
    "execution": {
     "iopub.execute_input": "2022-06-16T10:18:43.809065Z",
     "iopub.status.busy": "2022-06-16T10:18:43.808868Z",
     "iopub.status.idle": "2022-06-16T10:18:44.008087Z",
     "shell.execute_reply": "2022-06-16T10:18:44.007360Z"
    },
    "papermill": {
     "duration": 1.480682,
     "end_time": "2022-06-16T10:18:44.017134",
     "exception": false,
     "start_time": "2022-06-16T10:18:42.536452",
     "status": "completed"
    },
    "tags": []
   },
   "outputs": [
    {
     "data": {
      "text/plain": [
       "Text(0.5, 1.0, 'Gene correlations in chromosome 9')"
      ]
     },
     "execution_count": 41,
     "metadata": {},
     "output_type": "execute_result"
    },
    {
     "data": {
      "image/png": "[encoded data removed]",
      "text/plain": [
       "<Figure size 720x720 with 2 Axes>"
      ]
     },
     "metadata": {
      "needs_background": "light"
     },
     "output_type": "display_data"
    }
   ],
   "source": [
    "f, ax = plt.subplots(figsize=(10, 10))\n",
    "sns.heatmap(\n",
    "    gene_corrs_df,\n",
    "    xticklabels=False,\n",
    "    yticklabels=False,\n",
    "    square=True,\n",
    "    vmin=vmin_val,\n",
    "    vmax=vmax_val,\n",
    "    cmap=\"YlGnBu\",\n",
    "    ax=ax,\n",
    ")\n",
    "ax.set_title(f\"Gene correlations in chromosome {chromosome}\")"
   ]
  },
  {
   "cell_type": "code",
   "execution_count": null,
   "id": "b25e3ead",
   "metadata": {
    "papermill": {
     "duration": 1.26812,
     "end_time": "2022-06-16T10:18:46.570016",
     "exception": false,
     "start_time": "2022-06-16T10:18:45.301896",
     "status": "completed"
    },
    "tags": []
   },
   "outputs": [],
   "source": []
  }
 ],
 "metadata": {
  "jupytext": {
   "cell_metadata_filter": "all,-execution,-papermill,-trusted",
   "formats": "ipynb,py//py:percent"
  },
  "kernelspec": {
   "display_name": "Python 3 (ipykernel)",
   "language": "python",
   "name": "python3"
  },
  "language_info": {
   "codemirror_mode": {
    "name": "ipython",
    "version": 3
   },
   "file_extension": ".py",
   "mimetype": "text/x-python",
   "name": "python",
   "nbconvert_exporter": "python",
   "pygments_lexer": "ipython3",
   "version": "3.8.13"
  },
  "papermill": {
   "default_parameters": {},
   "duration": 9587.878323,
   "end_time": "2022-06-16T10:18:50.729224",
   "environment_variables": {},
   "exception": null,
   "input_path": "nbs/15_gsa_gls/10-gene_expr_correlations.ipynb",
   "output_path": "nbs/15_gsa_gls/gene_corrs/gtex_v8/mashr/10-gene_expr_correlations-chr9.run.ipynb",
   "parameters": {
    "EQTL_MODEL": "MASHR",
    "REFERENCE_PANEL": "GTEX_V8",
    "chromosome": 9
   },
   "start_time": "2022-06-16T07:39:02.850901",
   "version": "2.2.2"
  }
 },
 "nbformat": 4,
 "nbformat_minor": 5
}
