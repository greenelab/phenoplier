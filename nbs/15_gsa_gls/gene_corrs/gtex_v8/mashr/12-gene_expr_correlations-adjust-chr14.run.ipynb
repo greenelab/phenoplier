{
 "cells": [
  {
   "cell_type": "markdown",
   "id": "6c1f0ae4-cd27-4fec-a23d-51699e7059e8",
   "metadata": {
    "papermill": {
     "duration": 0.004914,
     "end_time": "2022-06-18T11:50:23.567225",
     "exception": false,
     "start_time": "2022-06-18T11:50:23.562311",
     "status": "completed"
    },
    "tags": []
   },
   "source": [
    "# Description"
   ]
  },
  {
   "cell_type": "markdown",
   "id": "3268a19a-8a83-4f61-aa39-09b084c81d61",
   "metadata": {
    "papermill": {
     "duration": 0.004525,
     "end_time": "2022-06-18T11:50:23.576147",
     "exception": false,
     "start_time": "2022-06-18T11:50:23.571622",
     "status": "completed"
    },
    "tags": []
   },
   "source": [
    "**TODO**"
   ]
  },
  {
   "cell_type": "markdown",
   "id": "401368d3-22c1-4d81-a2c3-c4a81fde4191",
   "metadata": {
    "papermill": {
     "duration": 0.005204,
     "end_time": "2022-06-18T11:50:23.586296",
     "exception": false,
     "start_time": "2022-06-18T11:50:23.581092",
     "status": "completed"
    },
    "tags": []
   },
   "source": [
    "# Modules"
   ]
  },
  {
   "cell_type": "code",
   "execution_count": 1,
   "id": "f9b5022b-7c5e-4d37-9c7a-fdb91777c7f9",
   "metadata": {
    "execution": {
     "iopub.execute_input": "2022-06-18T11:50:23.622416Z",
     "iopub.status.busy": "2022-06-18T11:50:23.620839Z",
     "iopub.status.idle": "2022-06-18T11:50:26.978901Z",
     "shell.execute_reply": "2022-06-18T11:50:26.977581Z"
    },
    "papermill": {
     "duration": 3.389482,
     "end_time": "2022-06-18T11:50:26.980835",
     "exception": false,
     "start_time": "2022-06-18T11:50:23.591353",
     "status": "completed"
    },
    "tags": []
   },
   "outputs": [],
   "source": [
    "library(reticulate)\n",
    "pd <- import(\"pandas\")"
   ]
  },
  {
   "cell_type": "markdown",
   "id": "c1958d6a-0229-47e8-823e-792fcf84fccf",
   "metadata": {
    "papermill": {
     "duration": 0.004669,
     "end_time": "2022-06-18T11:50:26.990501",
     "exception": false,
     "start_time": "2022-06-18T11:50:26.985832",
     "status": "completed"
    },
    "tags": []
   },
   "source": [
    "# Settings"
   ]
  },
  {
   "cell_type": "code",
   "execution_count": 2,
   "id": "22d12bb4-1699-4a6b-b1b9-d3fdd3d547d7",
   "metadata": {
    "execution": {
     "iopub.execute_input": "2022-06-18T11:50:27.024597Z",
     "iopub.status.busy": "2022-06-18T11:50:27.001477Z",
     "iopub.status.idle": "2022-06-18T11:50:27.036546Z",
     "shell.execute_reply": "2022-06-18T11:50:27.035391Z"
    },
    "papermill": {
     "duration": 0.042647,
     "end_time": "2022-06-18T11:50:27.038131",
     "exception": false,
     "start_time": "2022-06-18T11:50:26.995484",
     "status": "completed"
    },
    "tags": [
     "parameters"
    ]
   },
   "outputs": [],
   "source": [
    "# reference panel\n",
    "REFERENCE_PANEL <- \"GTEX_V8\"\n",
    "# REFERENCE_PANEL = \"1000G\"\n",
    "\n",
    "# prediction models\n",
    "## mashr\n",
    "EQTL_MODEL <- \"MASHR\"\n",
    "\n",
    "# ## elastic net\n",
    "# EQTL_MODEL = \"ELASTIC_NET\"\n",
    "\n",
    "chromosome <- NULL"
   ]
  },
  {
   "cell_type": "code",
   "execution_count": 3,
   "id": "57160bf1",
   "metadata": {
    "execution": {
     "iopub.execute_input": "2022-06-18T11:50:27.050277Z",
     "iopub.status.busy": "2022-06-18T11:50:27.049060Z",
     "iopub.status.idle": "2022-06-18T11:50:27.067443Z",
     "shell.execute_reply": "2022-06-18T11:50:27.066092Z"
    },
    "papermill": {
     "duration": 0.02629,
     "end_time": "2022-06-18T11:50:27.069326",
     "exception": false,
     "start_time": "2022-06-18T11:50:27.043036",
     "status": "completed"
    },
    "tags": [
     "injected-parameters"
    ]
   },
   "outputs": [],
   "source": [
    "# Parameters\n",
    "chromosome = 14\n",
    "REFERENCE_PANEL = \"GTEX_V8\"\n",
    "EQTL_MODEL = \"MASHR\"\n"
   ]
  },
  {
   "cell_type": "code",
   "execution_count": 4,
   "id": "8fe24bef",
   "metadata": {
    "execution": {
     "iopub.execute_input": "2022-06-18T11:50:27.081872Z",
     "iopub.status.busy": "2022-06-18T11:50:27.080810Z",
     "iopub.status.idle": "2022-06-18T11:50:27.093986Z",
     "shell.execute_reply": "2022-06-18T11:50:27.092744Z"
    },
    "papermill": {
     "duration": 0.021113,
     "end_time": "2022-06-18T11:50:27.095771",
     "exception": false,
     "start_time": "2022-06-18T11:50:27.074658",
     "status": "completed"
    },
    "tags": []
   },
   "outputs": [
    {
     "data": {
      "text/html": [
       "'Using reference panel: GTEX_V8'"
      ],
      "text/latex": [
       "'Using reference panel: GTEX\\_V8'"
      ],
      "text/markdown": [
       "'Using reference panel: GTEX_V8'"
      ],
      "text/plain": [
       "[1] \"Using reference panel: GTEX_V8\""
      ]
     },
     "metadata": {},
     "output_type": "display_data"
    }
   ],
   "source": [
    "paste0(\"Using reference panel: \", REFERENCE_PANEL)"
   ]
  },
  {
   "cell_type": "code",
   "execution_count": 5,
   "id": "d62c28f8-186c-478b-948c-58e14f00df4b",
   "metadata": {
    "execution": {
     "iopub.execute_input": "2022-06-18T11:50:27.108617Z",
     "iopub.status.busy": "2022-06-18T11:50:27.107471Z",
     "iopub.status.idle": "2022-06-18T11:50:27.119585Z",
     "shell.execute_reply": "2022-06-18T11:50:27.118204Z"
    },
    "papermill": {
     "duration": 0.020464,
     "end_time": "2022-06-18T11:50:27.121565",
     "exception": false,
     "start_time": "2022-06-18T11:50:27.101101",
     "status": "completed"
    },
    "tags": []
   },
   "outputs": [
    {
     "data": {
      "text/html": [
       "'Using eQTL model: MASHR'"
      ],
      "text/latex": [
       "'Using eQTL model: MASHR'"
      ],
      "text/markdown": [
       "'Using eQTL model: MASHR'"
      ],
      "text/plain": [
       "[1] \"Using eQTL model: MASHR\""
      ]
     },
     "metadata": {},
     "output_type": "display_data"
    }
   ],
   "source": [
    "paste0(\"Using eQTL model: \", EQTL_MODEL)"
   ]
  },
  {
   "cell_type": "code",
   "execution_count": 6,
   "id": "5243676f-c889-4405-9a4d-262f0f044614",
   "metadata": {
    "execution": {
     "iopub.execute_input": "2022-06-18T11:50:27.135313Z",
     "iopub.status.busy": "2022-06-18T11:50:27.134153Z",
     "iopub.status.idle": "2022-06-18T11:50:27.144280Z",
     "shell.execute_reply": "2022-06-18T11:50:27.142890Z"
    },
    "papermill": {
     "duration": 0.018933,
     "end_time": "2022-06-18T11:50:27.146219",
     "exception": false,
     "start_time": "2022-06-18T11:50:27.127286",
     "status": "completed"
    },
    "tags": []
   },
   "outputs": [],
   "source": [
    "# chromosome must be provided as parameter\n",
    "stopifnot(!is.null(chromosome))"
   ]
  },
  {
   "cell_type": "markdown",
   "id": "83a49773-bcf5-44c4-8d9b-a6ac65a57ec6",
   "metadata": {
    "papermill": {
     "duration": 0.005733,
     "end_time": "2022-06-18T11:50:27.158412",
     "exception": false,
     "start_time": "2022-06-18T11:50:27.152679",
     "status": "completed"
    },
    "tags": []
   },
   "source": [
    "# Paths"
   ]
  },
  {
   "cell_type": "code",
   "execution_count": 7,
   "id": "eb6aa8aa-b452-4a2f-a780-93dd80ad4285",
   "metadata": {
    "execution": {
     "iopub.execute_input": "2022-06-18T11:50:27.172344Z",
     "iopub.status.busy": "2022-06-18T11:50:27.171061Z",
     "iopub.status.idle": "2022-06-18T11:50:27.185870Z",
     "shell.execute_reply": "2022-06-18T11:50:27.184555Z"
    },
    "papermill": {
     "duration": 0.023548,
     "end_time": "2022-06-18T11:50:27.187764",
     "exception": false,
     "start_time": "2022-06-18T11:50:27.164216",
     "status": "completed"
    },
    "tags": []
   },
   "outputs": [
    {
     "data": {
      "text/html": [
       "'/opt/data/data/phenomexcan/ld_blocks/gene_corrs'"
      ],
      "text/latex": [
       "'/opt/data/data/phenomexcan/ld\\_blocks/gene\\_corrs'"
      ],
      "text/markdown": [
       "'/opt/data/data/phenomexcan/ld_blocks/gene_corrs'"
      ],
      "text/plain": [
       "[1] \"/opt/data/data/phenomexcan/ld_blocks/gene_corrs\""
      ]
     },
     "metadata": {},
     "output_type": "display_data"
    }
   ],
   "source": [
    "GENE_CORRS_DIR <- Sys.getenv(\"PHENOPLIER_PHENOMEXCAN_LD_BLOCKS_GENE_CORRS_DIR\")\n",
    "IRdisplay::display(GENE_CORRS_DIR)"
   ]
  },
  {
   "cell_type": "code",
   "execution_count": 8,
   "id": "eb24f15f-f282-4476-8943-8413c4483f12",
   "metadata": {
    "execution": {
     "iopub.execute_input": "2022-06-18T11:50:27.201545Z",
     "iopub.status.busy": "2022-06-18T11:50:27.200343Z",
     "iopub.status.idle": "2022-06-18T11:50:27.214192Z",
     "shell.execute_reply": "2022-06-18T11:50:27.212807Z"
    },
    "papermill": {
     "duration": 0.022395,
     "end_time": "2022-06-18T11:50:27.215964",
     "exception": false,
     "start_time": "2022-06-18T11:50:27.193569",
     "status": "completed"
    },
    "tags": []
   },
   "outputs": [
    {
     "data": {
      "text/html": [
       "'/opt/data/data/phenomexcan/ld_blocks/gene_corrs/gtex_v8/mashr/by_chr'"
      ],
      "text/latex": [
       "'/opt/data/data/phenomexcan/ld\\_blocks/gene\\_corrs/gtex\\_v8/mashr/by\\_chr'"
      ],
      "text/markdown": [
       "'/opt/data/data/phenomexcan/ld_blocks/gene_corrs/gtex_v8/mashr/by_chr'"
      ],
      "text/plain": [
       "[1] \"/opt/data/data/phenomexcan/ld_blocks/gene_corrs/gtex_v8/mashr/by_chr\""
      ]
     },
     "metadata": {},
     "output_type": "display_data"
    }
   ],
   "source": [
    "INPUT_DIR <- file.path(GENE_CORRS_DIR, tolower(REFERENCE_PANEL), tolower(EQTL_MODEL), \"by_chr\")\n",
    "IRdisplay::display(INPUT_DIR)"
   ]
  },
  {
   "cell_type": "code",
   "execution_count": 9,
   "id": "43c1daba-0da9-4822-8d1e-968e9767e251",
   "metadata": {
    "execution": {
     "iopub.execute_input": "2022-06-18T11:50:27.229796Z",
     "iopub.status.busy": "2022-06-18T11:50:27.228657Z",
     "iopub.status.idle": "2022-06-18T11:50:27.244556Z",
     "shell.execute_reply": "2022-06-18T11:50:27.242373Z"
    },
    "papermill": {
     "duration": 0.024442,
     "end_time": "2022-06-18T11:50:27.246442",
     "exception": false,
     "start_time": "2022-06-18T11:50:27.222000",
     "status": "completed"
    },
    "tags": []
   },
   "outputs": [
    {
     "data": {
      "text/html": [
       "'/opt/data/data/phenomexcan/ld_blocks/gene_corrs/gtex_v8/mashr/by_chr/gene_corrs-chr14.pkl'"
      ],
      "text/latex": [
       "'/opt/data/data/phenomexcan/ld\\_blocks/gene\\_corrs/gtex\\_v8/mashr/by\\_chr/gene\\_corrs-chr14.pkl'"
      ],
      "text/markdown": [
       "'/opt/data/data/phenomexcan/ld_blocks/gene_corrs/gtex_v8/mashr/by_chr/gene_corrs-chr14.pkl'"
      ],
      "text/plain": [
       "[1] \"/opt/data/data/phenomexcan/ld_blocks/gene_corrs/gtex_v8/mashr/by_chr/gene_corrs-chr14.pkl\""
      ]
     },
     "metadata": {},
     "output_type": "display_data"
    }
   ],
   "source": [
    "INPUT_FILE <- file.path(INPUT_DIR, paste0(\"gene_corrs-chr\", chromosome, \".pkl\"))\n",
    "IRdisplay::display(INPUT_FILE)\n",
    "stopifnot(file.exists(INPUT_FILE))"
   ]
  },
  {
   "cell_type": "code",
   "execution_count": 10,
   "id": "72386fbf-982b-420a-9057-ea9a97a5e571",
   "metadata": {
    "execution": {
     "iopub.execute_input": "2022-06-18T11:50:27.260431Z",
     "iopub.status.busy": "2022-06-18T11:50:27.259330Z",
     "iopub.status.idle": "2022-06-18T11:50:27.277555Z",
     "shell.execute_reply": "2022-06-18T11:50:27.275324Z"
    },
    "papermill": {
     "duration": 0.026883,
     "end_time": "2022-06-18T11:50:27.279537",
     "exception": false,
     "start_time": "2022-06-18T11:50:27.252654",
     "status": "completed"
    },
    "tags": []
   },
   "outputs": [
    {
     "data": {
      "text/html": [
       "'/opt/data/data/phenomexcan/ld_blocks/gene_corrs/gtex_v8/mashr/by_chr/corrected_positive_definite'"
      ],
      "text/latex": [
       "'/opt/data/data/phenomexcan/ld\\_blocks/gene\\_corrs/gtex\\_v8/mashr/by\\_chr/corrected\\_positive\\_definite'"
      ],
      "text/markdown": [
       "'/opt/data/data/phenomexcan/ld_blocks/gene_corrs/gtex_v8/mashr/by_chr/corrected_positive_definite'"
      ],
      "text/plain": [
       "[1] \"/opt/data/data/phenomexcan/ld_blocks/gene_corrs/gtex_v8/mashr/by_chr/corrected_positive_definite\""
      ]
     },
     "metadata": {},
     "output_type": "display_data"
    }
   ],
   "source": [
    "OUTPUT_DIR <- file.path(INPUT_DIR, \"corrected_positive_definite\")\n",
    "IRdisplay::display(OUTPUT_DIR)\n",
    "dir.create(OUTPUT_DIR, recursive = TRUE, showWarnings = FALSE)"
   ]
  },
  {
   "cell_type": "code",
   "execution_count": 11,
   "id": "f9f19d1d-ce4c-4099-a26e-250fec751de7",
   "metadata": {
    "execution": {
     "iopub.execute_input": "2022-06-18T11:50:27.294002Z",
     "iopub.status.busy": "2022-06-18T11:50:27.292864Z",
     "iopub.status.idle": "2022-06-18T11:50:27.317855Z",
     "shell.execute_reply": "2022-06-18T11:50:27.312548Z"
    },
    "papermill": {
     "duration": 0.033863,
     "end_time": "2022-06-18T11:50:27.319829",
     "exception": false,
     "start_time": "2022-06-18T11:50:27.285966",
     "status": "completed"
    },
    "tags": []
   },
   "outputs": [
    {
     "data": {
      "text/html": [
       "'/opt/data/data/phenomexcan/ld_blocks/gene_corrs/gtex_v8/mashr/by_chr/corrected_positive_definite/gene_corrs-chr14.pkl'"
      ],
      "text/latex": [
       "'/opt/data/data/phenomexcan/ld\\_blocks/gene\\_corrs/gtex\\_v8/mashr/by\\_chr/corrected\\_positive\\_definite/gene\\_corrs-chr14.pkl'"
      ],
      "text/markdown": [
       "'/opt/data/data/phenomexcan/ld_blocks/gene_corrs/gtex_v8/mashr/by_chr/corrected_positive_definite/gene_corrs-chr14.pkl'"
      ],
      "text/plain": [
       "[1] \"/opt/data/data/phenomexcan/ld_blocks/gene_corrs/gtex_v8/mashr/by_chr/corrected_positive_definite/gene_corrs-chr14.pkl\""
      ]
     },
     "metadata": {},
     "output_type": "display_data"
    },
    {
     "data": {
      "text/html": [
       "'Output file exists, it will be overwritten'"
      ],
      "text/latex": [
       "'Output file exists, it will be overwritten'"
      ],
      "text/markdown": [
       "'Output file exists, it will be overwritten'"
      ],
      "text/plain": [
       "[1] \"Output file exists, it will be overwritten\""
      ]
     },
     "metadata": {},
     "output_type": "display_data"
    }
   ],
   "source": [
    "OUTPUT_FILE <- file.path(OUTPUT_DIR, paste0(\"gene_corrs-chr\", chromosome, \".pkl\"))\n",
    "IRdisplay::display(OUTPUT_FILE)\n",
    "if (file.exists(OUTPUT_FILE)) {\n",
    "  IRdisplay::display(\"Output file exists, it will be overwritten\")\n",
    "}"
   ]
  },
  {
   "cell_type": "markdown",
   "id": "5aad60e6-cba4-41b5-9755-93eb86f4ed05",
   "metadata": {
    "papermill": {
     "duration": 0.006024,
     "end_time": "2022-06-18T11:50:27.332341",
     "exception": false,
     "start_time": "2022-06-18T11:50:27.326317",
     "status": "completed"
    },
    "tags": []
   },
   "source": [
    "# Functions"
   ]
  },
  {
   "cell_type": "code",
   "execution_count": 12,
   "id": "f828f081-7358-4cc8-8a89-1ee293bcc1a7",
   "metadata": {
    "execution": {
     "iopub.execute_input": "2022-06-18T11:50:27.346735Z",
     "iopub.status.busy": "2022-06-18T11:50:27.345640Z",
     "iopub.status.idle": "2022-06-18T11:50:27.357662Z",
     "shell.execute_reply": "2022-06-18T11:50:27.355614Z"
    },
    "papermill": {
     "duration": 0.020707,
     "end_time": "2022-06-18T11:50:27.359410",
     "exception": false,
     "start_time": "2022-06-18T11:50:27.338703",
     "status": "completed"
    },
    "tags": []
   },
   "outputs": [],
   "source": [
    "# taken from https://www.r-bloggers.com/2013/08/correcting-a-pseudo-correlation-matrix-to-be-positive-semidefinite/\n",
    "# TODO: add documentation\n",
    "CorrectCM <- function(CM, p = 0) {\n",
    "  n <- dim(var(CM))[1L]\n",
    "  E <- eigen(CM)\n",
    "  CM1 <- E$vectors %*% tcrossprod(diag(pmax(E$values, p), n), E$vectors)\n",
    "  Balance <- diag(1 / sqrt(diag(CM1)))\n",
    "  CM2 <- Balance %*% CM1 %*% Balance\n",
    "  return(CM2)\n",
    "}"
   ]
  },
  {
   "cell_type": "code",
   "execution_count": 13,
   "id": "7ab9bebf-50a1-4e6f-b16a-e23cae93d02a",
   "metadata": {
    "execution": {
     "iopub.execute_input": "2022-06-18T11:50:27.373808Z",
     "iopub.status.busy": "2022-06-18T11:50:27.372761Z",
     "iopub.status.idle": "2022-06-18T11:50:27.381543Z",
     "shell.execute_reply": "2022-06-18T11:50:27.380350Z"
    },
    "papermill": {
     "duration": 0.018781,
     "end_time": "2022-06-18T11:50:27.384516",
     "exception": false,
     "start_time": "2022-06-18T11:50:27.365735",
     "status": "completed"
    },
    "tags": []
   },
   "outputs": [],
   "source": [
    "is_positive_definite <- function(data) {\n",
    "  eigenvalues <- eigen(data)$values\n",
    "  nonpositive_eigenvalues <- eigenvalues[eigenvalues <= 0]\n",
    "\n",
    "  if (length(nonpositive_eigenvalues) > 0) {\n",
    "    IRdisplay::display(\"We need to correct the data and make the matrix positive definite\")\n",
    "    return(FALSE)\n",
    "  } else {\n",
    "    IRdisplay::display(\"Matrix is already positive definite!\")\n",
    "    return(TRUE)\n",
    "  }\n",
    "}"
   ]
  },
  {
   "cell_type": "markdown",
   "id": "ac52ecbc-5618-4876-a4fa-546a08e3fcf3",
   "metadata": {
    "papermill": {
     "duration": 0.006668,
     "end_time": "2022-06-18T11:50:27.397753",
     "exception": false,
     "start_time": "2022-06-18T11:50:27.391085",
     "status": "completed"
    },
    "tags": []
   },
   "source": [
    "# Load data"
   ]
  },
  {
   "cell_type": "code",
   "execution_count": 14,
   "id": "3a7744e1-2e5a-450e-9dcf-945ec181347d",
   "metadata": {
    "execution": {
     "iopub.execute_input": "2022-06-18T11:50:27.414265Z",
     "iopub.status.busy": "2022-06-18T11:50:27.412376Z",
     "iopub.status.idle": "2022-06-18T11:50:27.452571Z",
     "shell.execute_reply": "2022-06-18T11:50:27.451160Z"
    },
    "papermill": {
     "duration": 0.049883,
     "end_time": "2022-06-18T11:50:27.454328",
     "exception": false,
     "start_time": "2022-06-18T11:50:27.404445",
     "status": "completed"
    },
    "tags": []
   },
   "outputs": [],
   "source": [
    "gene_corrs <- pd$read_pickle(INPUT_FILE)"
   ]
  },
  {
   "cell_type": "code",
   "execution_count": 15,
   "id": "6fb150b2-4c68-4e9b-9aa5-1890d3f762e3",
   "metadata": {
    "execution": {
     "iopub.execute_input": "2022-06-18T11:50:27.468214Z",
     "iopub.status.busy": "2022-06-18T11:50:27.467259Z",
     "iopub.status.idle": "2022-06-18T11:50:27.480555Z",
     "shell.execute_reply": "2022-06-18T11:50:27.479353Z"
    },
    "papermill": {
     "duration": 0.021609,
     "end_time": "2022-06-18T11:50:27.482160",
     "exception": false,
     "start_time": "2022-06-18T11:50:27.460551",
     "status": "completed"
    },
    "tags": []
   },
   "outputs": [
    {
     "data": {
      "text/html": [
       "<style>\n",
       ".list-inline {list-style: none; margin:0; padding: 0}\n",
       ".list-inline>li {display: inline-block}\n",
       ".list-inline>li:not(:last-child)::after {content: \"\\00b7\"; padding: 0 .5ex}\n",
       "</style>\n",
       "<ol class=list-inline><li>211</li><li>211</li></ol>\n"
      ],
      "text/latex": [
       "\\begin{enumerate*}\n",
       "\\item 211\n",
       "\\item 211\n",
       "\\end{enumerate*}\n"
      ],
      "text/markdown": [
       "1. 211\n",
       "2. 211\n",
       "\n",
       "\n"
      ],
      "text/plain": [
       "[1] 211 211"
      ]
     },
     "metadata": {},
     "output_type": "display_data"
    }
   ],
   "source": [
    "dim(gene_corrs)"
   ]
  },
  {
   "cell_type": "code",
   "execution_count": 16,
   "id": "0d4e53b5-7586-4a68-8ce5-d930d74ba943",
   "metadata": {
    "execution": {
     "iopub.execute_input": "2022-06-18T11:50:27.499505Z",
     "iopub.status.busy": "2022-06-18T11:50:27.498560Z",
     "iopub.status.idle": "2022-06-18T11:50:27.525952Z",
     "shell.execute_reply": "2022-06-18T11:50:27.524722Z"
    },
    "papermill": {
     "duration": 0.03572,
     "end_time": "2022-06-18T11:50:27.527602",
     "exception": false,
     "start_time": "2022-06-18T11:50:27.491882",
     "status": "completed"
    },
    "tags": []
   },
   "outputs": [
    {
     "data": {
      "text/html": [
       "<table class=\"dataframe\">\n",
       "<caption>A data.frame: 6 × 10</caption>\n",
       "<thead>\n",
       "\t<tr><th></th><th scope=col>ENSG00000222036</th><th scope=col>ENSG00000136319</th><th scope=col>ENSG00000129484</th><th scope=col>ENSG00000129566</th><th scope=col>ENSG00000100823</th><th scope=col>ENSG00000198805</th><th scope=col>ENSG00000214274</th><th scope=col>ENSG00000258818</th><th scope=col>ENSG00000169413</th><th scope=col>ENSG00000169397</th></tr>\n",
       "\t<tr><th></th><th scope=col>&lt;dbl&gt;</th><th scope=col>&lt;dbl&gt;</th><th scope=col>&lt;dbl&gt;</th><th scope=col>&lt;dbl&gt;</th><th scope=col>&lt;dbl&gt;</th><th scope=col>&lt;dbl&gt;</th><th scope=col>&lt;dbl&gt;</th><th scope=col>&lt;dbl&gt;</th><th scope=col>&lt;dbl&gt;</th><th scope=col>&lt;dbl&gt;</th></tr>\n",
       "</thead>\n",
       "<tbody>\n",
       "\t<tr><th scope=row>ENSG00000222036</th><td> 1.00000000</td><td> 0.14542407</td><td>-0.1625138</td><td>-0.091769791</td><td>-0.068911018</td><td>0.12831280</td><td>-0.12615697</td><td> 0.10013987</td><td>-0.0949200692</td><td> 0.191652521</td></tr>\n",
       "\t<tr><th scope=row>ENSG00000136319</th><td> 0.14542407</td><td> 1.00000000</td><td>-0.2690098</td><td> 0.051849865</td><td> 0.226900645</td><td>0.07946208</td><td>-0.03662723</td><td>-0.15875738</td><td>-0.0667898008</td><td>-0.007953435</td></tr>\n",
       "\t<tr><th scope=row>ENSG00000129484</th><td>-0.16251380</td><td>-0.26900984</td><td> 1.0000000</td><td> 0.100498528</td><td>-0.024816099</td><td>0.18225727</td><td> 0.09014197</td><td>-0.12657529</td><td>-0.0009649243</td><td>-0.036483335</td></tr>\n",
       "\t<tr><th scope=row>ENSG00000129566</th><td>-0.09176979</td><td> 0.05184987</td><td> 0.1004985</td><td> 1.000000000</td><td>-0.008927077</td><td>0.23415372</td><td> 0.02979812</td><td> 0.12951697</td><td>-0.0444864333</td><td> 0.155347189</td></tr>\n",
       "\t<tr><th scope=row>ENSG00000100823</th><td>-0.06891102</td><td> 0.22690064</td><td>-0.0248161</td><td>-0.008927077</td><td> 1.000000000</td><td>0.33566937</td><td>-0.05759616</td><td> 0.10134789</td><td> 0.0783831762</td><td> 0.157656588</td></tr>\n",
       "\t<tr><th scope=row>ENSG00000198805</th><td> 0.12831280</td><td> 0.07946208</td><td> 0.1822573</td><td> 0.234153716</td><td> 0.335669371</td><td>1.00000000</td><td>-0.00811505</td><td> 0.05748809</td><td>-0.0078236758</td><td> 0.178713400</td></tr>\n",
       "</tbody>\n",
       "</table>\n"
      ],
      "text/latex": [
       "A data.frame: 6 × 10\n",
       "\\begin{tabular}{r|llllllllll}\n",
       "  & ENSG00000222036 & ENSG00000136319 & ENSG00000129484 & ENSG00000129566 & ENSG00000100823 & ENSG00000198805 & ENSG00000214274 & ENSG00000258818 & ENSG00000169413 & ENSG00000169397\\\\\n",
       "  & <dbl> & <dbl> & <dbl> & <dbl> & <dbl> & <dbl> & <dbl> & <dbl> & <dbl> & <dbl>\\\\\n",
       "\\hline\n",
       "\tENSG00000222036 &  1.00000000 &  0.14542407 & -0.1625138 & -0.091769791 & -0.068911018 & 0.12831280 & -0.12615697 &  0.10013987 & -0.0949200692 &  0.191652521\\\\\n",
       "\tENSG00000136319 &  0.14542407 &  1.00000000 & -0.2690098 &  0.051849865 &  0.226900645 & 0.07946208 & -0.03662723 & -0.15875738 & -0.0667898008 & -0.007953435\\\\\n",
       "\tENSG00000129484 & -0.16251380 & -0.26900984 &  1.0000000 &  0.100498528 & -0.024816099 & 0.18225727 &  0.09014197 & -0.12657529 & -0.0009649243 & -0.036483335\\\\\n",
       "\tENSG00000129566 & -0.09176979 &  0.05184987 &  0.1004985 &  1.000000000 & -0.008927077 & 0.23415372 &  0.02979812 &  0.12951697 & -0.0444864333 &  0.155347189\\\\\n",
       "\tENSG00000100823 & -0.06891102 &  0.22690064 & -0.0248161 & -0.008927077 &  1.000000000 & 0.33566937 & -0.05759616 &  0.10134789 &  0.0783831762 &  0.157656588\\\\\n",
       "\tENSG00000198805 &  0.12831280 &  0.07946208 &  0.1822573 &  0.234153716 &  0.335669371 & 1.00000000 & -0.00811505 &  0.05748809 & -0.0078236758 &  0.178713400\\\\\n",
       "\\end{tabular}\n"
      ],
      "text/markdown": [
       "\n",
       "A data.frame: 6 × 10\n",
       "\n",
       "| <!--/--> | ENSG00000222036 &lt;dbl&gt; | ENSG00000136319 &lt;dbl&gt; | ENSG00000129484 &lt;dbl&gt; | ENSG00000129566 &lt;dbl&gt; | ENSG00000100823 &lt;dbl&gt; | ENSG00000198805 &lt;dbl&gt; | ENSG00000214274 &lt;dbl&gt; | ENSG00000258818 &lt;dbl&gt; | ENSG00000169413 &lt;dbl&gt; | ENSG00000169397 &lt;dbl&gt; |\n",
       "|---|---|---|---|---|---|---|---|---|---|---|\n",
       "| ENSG00000222036 |  1.00000000 |  0.14542407 | -0.1625138 | -0.091769791 | -0.068911018 | 0.12831280 | -0.12615697 |  0.10013987 | -0.0949200692 |  0.191652521 |\n",
       "| ENSG00000136319 |  0.14542407 |  1.00000000 | -0.2690098 |  0.051849865 |  0.226900645 | 0.07946208 | -0.03662723 | -0.15875738 | -0.0667898008 | -0.007953435 |\n",
       "| ENSG00000129484 | -0.16251380 | -0.26900984 |  1.0000000 |  0.100498528 | -0.024816099 | 0.18225727 |  0.09014197 | -0.12657529 | -0.0009649243 | -0.036483335 |\n",
       "| ENSG00000129566 | -0.09176979 |  0.05184987 |  0.1004985 |  1.000000000 | -0.008927077 | 0.23415372 |  0.02979812 |  0.12951697 | -0.0444864333 |  0.155347189 |\n",
       "| ENSG00000100823 | -0.06891102 |  0.22690064 | -0.0248161 | -0.008927077 |  1.000000000 | 0.33566937 | -0.05759616 |  0.10134789 |  0.0783831762 |  0.157656588 |\n",
       "| ENSG00000198805 |  0.12831280 |  0.07946208 |  0.1822573 |  0.234153716 |  0.335669371 | 1.00000000 | -0.00811505 |  0.05748809 | -0.0078236758 |  0.178713400 |\n",
       "\n"
      ],
      "text/plain": [
       "                ENSG00000222036 ENSG00000136319 ENSG00000129484 ENSG00000129566\n",
       "ENSG00000222036  1.00000000      0.14542407     -0.1625138      -0.091769791   \n",
       "ENSG00000136319  0.14542407      1.00000000     -0.2690098       0.051849865   \n",
       "ENSG00000129484 -0.16251380     -0.26900984      1.0000000       0.100498528   \n",
       "ENSG00000129566 -0.09176979      0.05184987      0.1004985       1.000000000   \n",
       "ENSG00000100823 -0.06891102      0.22690064     -0.0248161      -0.008927077   \n",
       "ENSG00000198805  0.12831280      0.07946208      0.1822573       0.234153716   \n",
       "                ENSG00000100823 ENSG00000198805 ENSG00000214274 ENSG00000258818\n",
       "ENSG00000222036 -0.068911018    0.12831280      -0.12615697      0.10013987    \n",
       "ENSG00000136319  0.226900645    0.07946208      -0.03662723     -0.15875738    \n",
       "ENSG00000129484 -0.024816099    0.18225727       0.09014197     -0.12657529    \n",
       "ENSG00000129566 -0.008927077    0.23415372       0.02979812      0.12951697    \n",
       "ENSG00000100823  1.000000000    0.33566937      -0.05759616      0.10134789    \n",
       "ENSG00000198805  0.335669371    1.00000000      -0.00811505      0.05748809    \n",
       "                ENSG00000169413 ENSG00000169397\n",
       "ENSG00000222036 -0.0949200692    0.191652521   \n",
       "ENSG00000136319 -0.0667898008   -0.007953435   \n",
       "ENSG00000129484 -0.0009649243   -0.036483335   \n",
       "ENSG00000129566 -0.0444864333    0.155347189   \n",
       "ENSG00000100823  0.0783831762    0.157656588   \n",
       "ENSG00000198805 -0.0078236758    0.178713400   "
      ]
     },
     "metadata": {},
     "output_type": "display_data"
    }
   ],
   "source": [
    "head(gene_corrs[1:10, 1:10])"
   ]
  },
  {
   "cell_type": "markdown",
   "id": "c5c9ffba-1678-4ce7-8988-4ee03e23bdf2",
   "metadata": {
    "papermill": {
     "duration": 0.006714,
     "end_time": "2022-06-18T11:50:27.540759",
     "exception": false,
     "start_time": "2022-06-18T11:50:27.534045",
     "status": "completed"
    },
    "tags": []
   },
   "source": [
    "# Check positive definiteness"
   ]
  },
  {
   "cell_type": "code",
   "execution_count": 17,
   "id": "178854f5-487a-42e8-82b4-625c1979734a",
   "metadata": {
    "execution": {
     "iopub.execute_input": "2022-06-18T11:50:27.556250Z",
     "iopub.status.busy": "2022-06-18T11:50:27.555052Z",
     "iopub.status.idle": "2022-06-18T11:50:27.583093Z",
     "shell.execute_reply": "2022-06-18T11:50:27.581855Z"
    },
    "papermill": {
     "duration": 0.038033,
     "end_time": "2022-06-18T11:50:27.585474",
     "exception": false,
     "start_time": "2022-06-18T11:50:27.547441",
     "status": "completed"
    },
    "tags": []
   },
   "outputs": [
    {
     "data": {
      "text/html": [
       "'We need to correct the data and make the matrix positive definite'"
      ],
      "text/latex": [
       "'We need to correct the data and make the matrix positive definite'"
      ],
      "text/markdown": [
       "'We need to correct the data and make the matrix positive definite'"
      ],
      "text/plain": [
       "[1] \"We need to correct the data and make the matrix positive definite\""
      ]
     },
     "metadata": {},
     "output_type": "display_data"
    },
    {
     "data": {
      "text/html": [
       "FALSE"
      ],
      "text/latex": [
       "FALSE"
      ],
      "text/markdown": [
       "FALSE"
      ],
      "text/plain": [
       "[1] FALSE"
      ]
     },
     "metadata": {},
     "output_type": "display_data"
    }
   ],
   "source": [
    "is_positive_definite(gene_corrs)"
   ]
  },
  {
   "cell_type": "code",
   "execution_count": 18,
   "id": "58542ade-c80f-42e6-acbf-6464dab70fdb",
   "metadata": {
    "execution": {
     "iopub.execute_input": "2022-06-18T11:50:27.601815Z",
     "iopub.status.busy": "2022-06-18T11:50:27.600737Z",
     "iopub.status.idle": "2022-06-18T11:50:27.632471Z",
     "shell.execute_reply": "2022-06-18T11:50:27.631242Z"
    },
    "papermill": {
     "duration": 0.041868,
     "end_time": "2022-06-18T11:50:27.633924",
     "exception": false,
     "start_time": "2022-06-18T11:50:27.592056",
     "status": "completed"
    },
    "tags": []
   },
   "outputs": [],
   "source": [
    "# see eigenvalues\n",
    "eigenvalues <- eigen(gene_corrs)$values"
   ]
  },
  {
   "cell_type": "code",
   "execution_count": 19,
   "id": "9486e0db-e924-43ab-bb6c-0d997fd38f3d",
   "metadata": {
    "execution": {
     "iopub.execute_input": "2022-06-18T11:50:27.658244Z",
     "iopub.status.busy": "2022-06-18T11:50:27.657300Z",
     "iopub.status.idle": "2022-06-18T11:50:27.692880Z",
     "shell.execute_reply": "2022-06-18T11:50:27.689604Z"
    },
    "papermill": {
     "duration": 0.053406,
     "end_time": "2022-06-18T11:50:27.694406",
     "exception": false,
     "start_time": "2022-06-18T11:50:27.641000",
     "status": "completed"
    },
    "tags": []
   },
   "outputs": [
    {
     "data": {
      "text/html": [
       "12"
      ],
      "text/latex": [
       "12"
      ],
      "text/markdown": [
       "12"
      ],
      "text/plain": [
       "[1] 12"
      ]
     },
     "metadata": {},
     "output_type": "display_data"
    },
    {
     "data": {
      "text/html": [
       "<style>\n",
       ".list-inline {list-style: none; margin:0; padding: 0}\n",
       ".list-inline>li {display: inline-block}\n",
       ".list-inline>li:not(:last-child)::after {content: \"\\00b7\"; padding: 0 .5ex}\n",
       "</style>\n",
       "<ol class=list-inline><li>-0.08315025537099</li><li>-0.111521083615747</li><li>-0.167826034051738</li><li>-0.201181471966889</li><li>-0.241593463309187</li><li>-0.336937566262705</li><li>-0.344384723208066</li><li>-0.352120883716184</li><li>-0.53475176174132</li><li>-0.609298439096663</li><li>-0.887107056312163</li><li>-1.21672453809836</li></ol>\n"
      ],
      "text/latex": [
       "\\begin{enumerate*}\n",
       "\\item -0.08315025537099\n",
       "\\item -0.111521083615747\n",
       "\\item -0.167826034051738\n",
       "\\item -0.201181471966889\n",
       "\\item -0.241593463309187\n",
       "\\item -0.336937566262705\n",
       "\\item -0.344384723208066\n",
       "\\item -0.352120883716184\n",
       "\\item -0.53475176174132\n",
       "\\item -0.609298439096663\n",
       "\\item -0.887107056312163\n",
       "\\item -1.21672453809836\n",
       "\\end{enumerate*}\n"
      ],
      "text/markdown": [
       "1. -0.08315025537099\n",
       "2. -0.111521083615747\n",
       "3. -0.167826034051738\n",
       "4. -0.201181471966889\n",
       "5. -0.241593463309187\n",
       "6. -0.336937566262705\n",
       "7. -0.344384723208066\n",
       "8. -0.352120883716184\n",
       "9. -0.53475176174132\n",
       "10. -0.609298439096663\n",
       "11. -0.887107056312163\n",
       "12. -1.21672453809836\n",
       "\n",
       "\n"
      ],
      "text/plain": [
       " [1] -0.08315026 -0.11152108 -0.16782603 -0.20118147 -0.24159346 -0.33693757\n",
       " [7] -0.34438472 -0.35212088 -0.53475176 -0.60929844 -0.88710706 -1.21672454"
      ]
     },
     "metadata": {},
     "output_type": "display_data"
    }
   ],
   "source": [
    "nonpositive_eigenvalues <- eigenvalues[eigenvalues <= 0]\n",
    "IRdisplay::display(length(nonpositive_eigenvalues))\n",
    "IRdisplay::display(nonpositive_eigenvalues)"
   ]
  },
  {
   "cell_type": "code",
   "execution_count": 20,
   "id": "410ee452-488f-4518-b93a-2acd608ba99c",
   "metadata": {
    "execution": {
     "iopub.execute_input": "2022-06-18T11:50:27.719017Z",
     "iopub.status.busy": "2022-06-18T11:50:27.717211Z",
     "iopub.status.idle": "2022-06-18T11:50:27.727857Z",
     "shell.execute_reply": "2022-06-18T11:50:27.725670Z"
    },
    "papermill": {
     "duration": 0.025764,
     "end_time": "2022-06-18T11:50:27.729494",
     "exception": false,
     "start_time": "2022-06-18T11:50:27.703730",
     "status": "completed"
    },
    "tags": []
   },
   "outputs": [],
   "source": [
    "if (length(eigenvalues[eigenvalues <= 0]) == 0) { quit() }"
   ]
  },
  {
   "cell_type": "markdown",
   "id": "2d280a82-f231-402d-82ab-9291d395afc1",
   "metadata": {
    "papermill": {
     "duration": 0.006446,
     "end_time": "2022-06-18T11:50:27.742441",
     "exception": false,
     "start_time": "2022-06-18T11:50:27.735995",
     "status": "completed"
    },
    "tags": []
   },
   "source": [
    "# Make matrix positive definite if needed"
   ]
  },
  {
   "cell_type": "code",
   "execution_count": 21,
   "id": "b9037873-4067-4ac6-aa92-e9225a6c9353",
   "metadata": {
    "execution": {
     "iopub.execute_input": "2022-06-18T11:50:27.757743Z",
     "iopub.status.busy": "2022-06-18T11:50:27.756739Z",
     "iopub.status.idle": "2022-06-18T11:50:27.788455Z",
     "shell.execute_reply": "2022-06-18T11:50:27.787313Z"
    },
    "papermill": {
     "duration": 0.040867,
     "end_time": "2022-06-18T11:50:27.789971",
     "exception": false,
     "start_time": "2022-06-18T11:50:27.749104",
     "status": "completed"
    },
    "tags": []
   },
   "outputs": [],
   "source": [
    "gene_corrs_corrected <- CorrectCM(gene_corrs, 1)"
   ]
  },
  {
   "cell_type": "code",
   "execution_count": 22,
   "id": "03c86284-5aac-4f66-86cc-74eb97102a7e",
   "metadata": {
    "execution": {
     "iopub.execute_input": "2022-06-18T11:50:27.809082Z",
     "iopub.status.busy": "2022-06-18T11:50:27.808103Z",
     "iopub.status.idle": "2022-06-18T11:50:27.821254Z",
     "shell.execute_reply": "2022-06-18T11:50:27.819342Z"
    },
    "papermill": {
     "duration": 0.023685,
     "end_time": "2022-06-18T11:50:27.822971",
     "exception": false,
     "start_time": "2022-06-18T11:50:27.799286",
     "status": "completed"
    },
    "tags": []
   },
   "outputs": [],
   "source": [
    "dimnames(gene_corrs_corrected)[[1]] <- rownames(gene_corrs)"
   ]
  },
  {
   "cell_type": "code",
   "execution_count": 23,
   "id": "576e7069-25ff-473d-8158-35b5f2ff212e",
   "metadata": {
    "execution": {
     "iopub.execute_input": "2022-06-18T11:50:27.838274Z",
     "iopub.status.busy": "2022-06-18T11:50:27.837146Z",
     "iopub.status.idle": "2022-06-18T11:50:27.848479Z",
     "shell.execute_reply": "2022-06-18T11:50:27.846410Z"
    },
    "papermill": {
     "duration": 0.020986,
     "end_time": "2022-06-18T11:50:27.850453",
     "exception": false,
     "start_time": "2022-06-18T11:50:27.829467",
     "status": "completed"
    },
    "tags": []
   },
   "outputs": [],
   "source": [
    "dimnames(gene_corrs_corrected)[[2]] <- colnames(gene_corrs)"
   ]
  },
  {
   "cell_type": "code",
   "execution_count": 24,
   "id": "f77d043a-321d-447f-8da5-2503981d3e73",
   "metadata": {
    "execution": {
     "iopub.execute_input": "2022-06-18T11:50:27.866105Z",
     "iopub.status.busy": "2022-06-18T11:50:27.865078Z",
     "iopub.status.idle": "2022-06-18T11:50:27.877015Z",
     "shell.execute_reply": "2022-06-18T11:50:27.875123Z"
    },
    "papermill": {
     "duration": 0.021265,
     "end_time": "2022-06-18T11:50:27.878933",
     "exception": false,
     "start_time": "2022-06-18T11:50:27.857668",
     "status": "completed"
    },
    "tags": []
   },
   "outputs": [],
   "source": [
    "gene_corrs_corrected <- as.data.frame(gene_corrs_corrected)"
   ]
  },
  {
   "cell_type": "code",
   "execution_count": 25,
   "id": "3e844024-f9a2-42a2-bbd0-695cfdbb78f5",
   "metadata": {
    "execution": {
     "iopub.execute_input": "2022-06-18T11:50:27.897688Z",
     "iopub.status.busy": "2022-06-18T11:50:27.896506Z",
     "iopub.status.idle": "2022-06-18T11:50:27.908248Z",
     "shell.execute_reply": "2022-06-18T11:50:27.906881Z"
    },
    "papermill": {
     "duration": 0.022547,
     "end_time": "2022-06-18T11:50:27.910118",
     "exception": false,
     "start_time": "2022-06-18T11:50:27.887571",
     "status": "completed"
    },
    "tags": []
   },
   "outputs": [
    {
     "data": {
      "text/html": [
       "<style>\n",
       ".list-inline {list-style: none; margin:0; padding: 0}\n",
       ".list-inline>li {display: inline-block}\n",
       ".list-inline>li:not(:last-child)::after {content: \"\\00b7\"; padding: 0 .5ex}\n",
       "</style>\n",
       "<ol class=list-inline><li>211</li><li>211</li></ol>\n"
      ],
      "text/latex": [
       "\\begin{enumerate*}\n",
       "\\item 211\n",
       "\\item 211\n",
       "\\end{enumerate*}\n"
      ],
      "text/markdown": [
       "1. 211\n",
       "2. 211\n",
       "\n",
       "\n"
      ],
      "text/plain": [
       "[1] 211 211"
      ]
     },
     "metadata": {},
     "output_type": "display_data"
    }
   ],
   "source": [
    "dim(gene_corrs_corrected)"
   ]
  },
  {
   "cell_type": "markdown",
   "id": "244b6bde-4ca8-46d1-acc7-b4c35b5d3c62",
   "metadata": {
    "papermill": {
     "duration": 0.007374,
     "end_time": "2022-06-18T11:50:27.925192",
     "exception": false,
     "start_time": "2022-06-18T11:50:27.917818",
     "status": "completed"
    },
    "tags": []
   },
   "source": [
    "# Check positive definiteness of corrected matrix"
   ]
  },
  {
   "cell_type": "code",
   "execution_count": 26,
   "id": "0fd5b688-e137-4619-910c-35130d32d600",
   "metadata": {
    "execution": {
     "iopub.execute_input": "2022-06-18T11:50:27.941695Z",
     "iopub.status.busy": "2022-06-18T11:50:27.940551Z",
     "iopub.status.idle": "2022-06-18T11:50:27.969199Z",
     "shell.execute_reply": "2022-06-18T11:50:27.968020Z"
    },
    "papermill": {
     "duration": 0.038362,
     "end_time": "2022-06-18T11:50:27.970744",
     "exception": false,
     "start_time": "2022-06-18T11:50:27.932382",
     "status": "completed"
    },
    "tags": []
   },
   "outputs": [
    {
     "data": {
      "text/html": [
       "'Matrix is already positive definite!'"
      ],
      "text/latex": [
       "'Matrix is already positive definite!'"
      ],
      "text/markdown": [
       "'Matrix is already positive definite!'"
      ],
      "text/plain": [
       "[1] \"Matrix is already positive definite!\""
      ]
     },
     "metadata": {},
     "output_type": "display_data"
    },
    {
     "data": {
      "text/html": [
       "TRUE"
      ],
      "text/latex": [
       "TRUE"
      ],
      "text/markdown": [
       "TRUE"
      ],
      "text/plain": [
       "[1] TRUE"
      ]
     },
     "metadata": {},
     "output_type": "display_data"
    }
   ],
   "source": [
    "is_positive_definite(gene_corrs_corrected)"
   ]
  },
  {
   "cell_type": "code",
   "execution_count": 27,
   "id": "06d23ab8-bebb-474c-be33-dca7e53c1717",
   "metadata": {
    "execution": {
     "iopub.execute_input": "2022-06-18T11:50:27.988861Z",
     "iopub.status.busy": "2022-06-18T11:50:27.986979Z",
     "iopub.status.idle": "2022-06-18T11:50:28.011645Z",
     "shell.execute_reply": "2022-06-18T11:50:28.009769Z"
    },
    "papermill": {
     "duration": 0.03502,
     "end_time": "2022-06-18T11:50:28.013249",
     "exception": false,
     "start_time": "2022-06-18T11:50:27.978229",
     "status": "completed"
    },
    "tags": []
   },
   "outputs": [],
   "source": [
    "# see eigenvalues\n",
    "eigenvalues <- eigen(gene_corrs_corrected)$values"
   ]
  },
  {
   "cell_type": "code",
   "execution_count": 28,
   "id": "ddf8afb8-e0e2-4b4e-876d-12bd6856c1ad",
   "metadata": {
    "execution": {
     "iopub.execute_input": "2022-06-18T11:50:28.028411Z",
     "iopub.status.busy": "2022-06-18T11:50:28.027441Z",
     "iopub.status.idle": "2022-06-18T11:50:28.050485Z",
     "shell.execute_reply": "2022-06-18T11:50:28.048366Z"
    },
    "papermill": {
     "duration": 0.032302,
     "end_time": "2022-06-18T11:50:28.052261",
     "exception": false,
     "start_time": "2022-06-18T11:50:28.019959",
     "status": "completed"
    },
    "tags": []
   },
   "outputs": [
    {
     "data": {
      "text/html": [
       "0"
      ],
      "text/latex": [
       "0"
      ],
      "text/markdown": [
       "0"
      ],
      "text/plain": [
       "[1] 0"
      ]
     },
     "metadata": {},
     "output_type": "display_data"
    },
    {
     "data": {
      "text/html": [],
      "text/latex": [],
      "text/markdown": [],
      "text/plain": [
       "numeric(0)"
      ]
     },
     "metadata": {},
     "output_type": "display_data"
    }
   ],
   "source": [
    "nonpositive_eigenvalues <- eigenvalues[eigenvalues <= 0]\n",
    "IRdisplay::display(length(nonpositive_eigenvalues))\n",
    "IRdisplay::display(nonpositive_eigenvalues)"
   ]
  },
  {
   "cell_type": "code",
   "execution_count": 29,
   "id": "712fd71a-b6ec-4a13-a956-80c99be7f585",
   "metadata": {
    "execution": {
     "iopub.execute_input": "2022-06-18T11:50:28.069950Z",
     "iopub.status.busy": "2022-06-18T11:50:28.068808Z",
     "iopub.status.idle": "2022-06-18T11:50:28.080685Z",
     "shell.execute_reply": "2022-06-18T11:50:28.078479Z"
    },
    "papermill": {
     "duration": 0.022432,
     "end_time": "2022-06-18T11:50:28.082640",
     "exception": false,
     "start_time": "2022-06-18T11:50:28.060208",
     "status": "completed"
    },
    "tags": []
   },
   "outputs": [],
   "source": [
    "stopifnot(length(eigenvalues[eigenvalues <= 0]) == 0)"
   ]
  },
  {
   "cell_type": "code",
   "execution_count": 30,
   "id": "786d6336-3844-40f7-979b-6d6028787f7f",
   "metadata": {
    "execution": {
     "iopub.execute_input": "2022-06-18T11:50:28.109680Z",
     "iopub.status.busy": "2022-06-18T11:50:28.108466Z",
     "iopub.status.idle": "2022-06-18T11:50:28.140817Z",
     "shell.execute_reply": "2022-06-18T11:50:28.139454Z"
    },
    "papermill": {
     "duration": 0.05158,
     "end_time": "2022-06-18T11:50:28.142764",
     "exception": false,
     "start_time": "2022-06-18T11:50:28.091184",
     "status": "completed"
    },
    "tags": []
   },
   "outputs": [
    {
     "data": {
      "text/html": [
       "<table class=\"dataframe\">\n",
       "<caption>A data.frame: 6 × 10</caption>\n",
       "<thead>\n",
       "\t<tr><th></th><th scope=col>ENSG00000222036</th><th scope=col>ENSG00000136319</th><th scope=col>ENSG00000129484</th><th scope=col>ENSG00000129566</th><th scope=col>ENSG00000100823</th><th scope=col>ENSG00000198805</th><th scope=col>ENSG00000214274</th><th scope=col>ENSG00000258818</th><th scope=col>ENSG00000169413</th><th scope=col>ENSG00000169397</th></tr>\n",
       "\t<tr><th></th><th scope=col>&lt;dbl&gt;</th><th scope=col>&lt;dbl&gt;</th><th scope=col>&lt;dbl&gt;</th><th scope=col>&lt;dbl&gt;</th><th scope=col>&lt;dbl&gt;</th><th scope=col>&lt;dbl&gt;</th><th scope=col>&lt;dbl&gt;</th><th scope=col>&lt;dbl&gt;</th><th scope=col>&lt;dbl&gt;</th><th scope=col>&lt;dbl&gt;</th></tr>\n",
       "</thead>\n",
       "<tbody>\n",
       "\t<tr><th scope=row>ENSG00000222036</th><td> 1.00000000</td><td> 0.14542407</td><td>-0.1625138</td><td>-0.091769791</td><td>-0.068911018</td><td>0.12831280</td><td>-0.12615697</td><td> 0.10013987</td><td>-0.0949200692</td><td> 0.191652521</td></tr>\n",
       "\t<tr><th scope=row>ENSG00000136319</th><td> 0.14542407</td><td> 1.00000000</td><td>-0.2690098</td><td> 0.051849865</td><td> 0.226900645</td><td>0.07946208</td><td>-0.03662723</td><td>-0.15875738</td><td>-0.0667898008</td><td>-0.007953435</td></tr>\n",
       "\t<tr><th scope=row>ENSG00000129484</th><td>-0.16251380</td><td>-0.26900984</td><td> 1.0000000</td><td> 0.100498528</td><td>-0.024816099</td><td>0.18225727</td><td> 0.09014197</td><td>-0.12657529</td><td>-0.0009649243</td><td>-0.036483335</td></tr>\n",
       "\t<tr><th scope=row>ENSG00000129566</th><td>-0.09176979</td><td> 0.05184987</td><td> 0.1004985</td><td> 1.000000000</td><td>-0.008927077</td><td>0.23415372</td><td> 0.02979812</td><td> 0.12951697</td><td>-0.0444864333</td><td> 0.155347189</td></tr>\n",
       "\t<tr><th scope=row>ENSG00000100823</th><td>-0.06891102</td><td> 0.22690064</td><td>-0.0248161</td><td>-0.008927077</td><td> 1.000000000</td><td>0.33566937</td><td>-0.05759616</td><td> 0.10134789</td><td> 0.0783831762</td><td> 0.157656588</td></tr>\n",
       "\t<tr><th scope=row>ENSG00000198805</th><td> 0.12831280</td><td> 0.07946208</td><td> 0.1822573</td><td> 0.234153716</td><td> 0.335669371</td><td>1.00000000</td><td>-0.00811505</td><td> 0.05748809</td><td>-0.0078236758</td><td> 0.178713400</td></tr>\n",
       "</tbody>\n",
       "</table>\n"
      ],
      "text/latex": [
       "A data.frame: 6 × 10\n",
       "\\begin{tabular}{r|llllllllll}\n",
       "  & ENSG00000222036 & ENSG00000136319 & ENSG00000129484 & ENSG00000129566 & ENSG00000100823 & ENSG00000198805 & ENSG00000214274 & ENSG00000258818 & ENSG00000169413 & ENSG00000169397\\\\\n",
       "  & <dbl> & <dbl> & <dbl> & <dbl> & <dbl> & <dbl> & <dbl> & <dbl> & <dbl> & <dbl>\\\\\n",
       "\\hline\n",
       "\tENSG00000222036 &  1.00000000 &  0.14542407 & -0.1625138 & -0.091769791 & -0.068911018 & 0.12831280 & -0.12615697 &  0.10013987 & -0.0949200692 &  0.191652521\\\\\n",
       "\tENSG00000136319 &  0.14542407 &  1.00000000 & -0.2690098 &  0.051849865 &  0.226900645 & 0.07946208 & -0.03662723 & -0.15875738 & -0.0667898008 & -0.007953435\\\\\n",
       "\tENSG00000129484 & -0.16251380 & -0.26900984 &  1.0000000 &  0.100498528 & -0.024816099 & 0.18225727 &  0.09014197 & -0.12657529 & -0.0009649243 & -0.036483335\\\\\n",
       "\tENSG00000129566 & -0.09176979 &  0.05184987 &  0.1004985 &  1.000000000 & -0.008927077 & 0.23415372 &  0.02979812 &  0.12951697 & -0.0444864333 &  0.155347189\\\\\n",
       "\tENSG00000100823 & -0.06891102 &  0.22690064 & -0.0248161 & -0.008927077 &  1.000000000 & 0.33566937 & -0.05759616 &  0.10134789 &  0.0783831762 &  0.157656588\\\\\n",
       "\tENSG00000198805 &  0.12831280 &  0.07946208 &  0.1822573 &  0.234153716 &  0.335669371 & 1.00000000 & -0.00811505 &  0.05748809 & -0.0078236758 &  0.178713400\\\\\n",
       "\\end{tabular}\n"
      ],
      "text/markdown": [
       "\n",
       "A data.frame: 6 × 10\n",
       "\n",
       "| <!--/--> | ENSG00000222036 &lt;dbl&gt; | ENSG00000136319 &lt;dbl&gt; | ENSG00000129484 &lt;dbl&gt; | ENSG00000129566 &lt;dbl&gt; | ENSG00000100823 &lt;dbl&gt; | ENSG00000198805 &lt;dbl&gt; | ENSG00000214274 &lt;dbl&gt; | ENSG00000258818 &lt;dbl&gt; | ENSG00000169413 &lt;dbl&gt; | ENSG00000169397 &lt;dbl&gt; |\n",
       "|---|---|---|---|---|---|---|---|---|---|---|\n",
       "| ENSG00000222036 |  1.00000000 |  0.14542407 | -0.1625138 | -0.091769791 | -0.068911018 | 0.12831280 | -0.12615697 |  0.10013987 | -0.0949200692 |  0.191652521 |\n",
       "| ENSG00000136319 |  0.14542407 |  1.00000000 | -0.2690098 |  0.051849865 |  0.226900645 | 0.07946208 | -0.03662723 | -0.15875738 | -0.0667898008 | -0.007953435 |\n",
       "| ENSG00000129484 | -0.16251380 | -0.26900984 |  1.0000000 |  0.100498528 | -0.024816099 | 0.18225727 |  0.09014197 | -0.12657529 | -0.0009649243 | -0.036483335 |\n",
       "| ENSG00000129566 | -0.09176979 |  0.05184987 |  0.1004985 |  1.000000000 | -0.008927077 | 0.23415372 |  0.02979812 |  0.12951697 | -0.0444864333 |  0.155347189 |\n",
       "| ENSG00000100823 | -0.06891102 |  0.22690064 | -0.0248161 | -0.008927077 |  1.000000000 | 0.33566937 | -0.05759616 |  0.10134789 |  0.0783831762 |  0.157656588 |\n",
       "| ENSG00000198805 |  0.12831280 |  0.07946208 |  0.1822573 |  0.234153716 |  0.335669371 | 1.00000000 | -0.00811505 |  0.05748809 | -0.0078236758 |  0.178713400 |\n",
       "\n"
      ],
      "text/plain": [
       "                ENSG00000222036 ENSG00000136319 ENSG00000129484 ENSG00000129566\n",
       "ENSG00000222036  1.00000000      0.14542407     -0.1625138      -0.091769791   \n",
       "ENSG00000136319  0.14542407      1.00000000     -0.2690098       0.051849865   \n",
       "ENSG00000129484 -0.16251380     -0.26900984      1.0000000       0.100498528   \n",
       "ENSG00000129566 -0.09176979      0.05184987      0.1004985       1.000000000   \n",
       "ENSG00000100823 -0.06891102      0.22690064     -0.0248161      -0.008927077   \n",
       "ENSG00000198805  0.12831280      0.07946208      0.1822573       0.234153716   \n",
       "                ENSG00000100823 ENSG00000198805 ENSG00000214274 ENSG00000258818\n",
       "ENSG00000222036 -0.068911018    0.12831280      -0.12615697      0.10013987    \n",
       "ENSG00000136319  0.226900645    0.07946208      -0.03662723     -0.15875738    \n",
       "ENSG00000129484 -0.024816099    0.18225727       0.09014197     -0.12657529    \n",
       "ENSG00000129566 -0.008927077    0.23415372       0.02979812      0.12951697    \n",
       "ENSG00000100823  1.000000000    0.33566937      -0.05759616      0.10134789    \n",
       "ENSG00000198805  0.335669371    1.00000000      -0.00811505      0.05748809    \n",
       "                ENSG00000169413 ENSG00000169397\n",
       "ENSG00000222036 -0.0949200692    0.191652521   \n",
       "ENSG00000136319 -0.0667898008   -0.007953435   \n",
       "ENSG00000129484 -0.0009649243   -0.036483335   \n",
       "ENSG00000129566 -0.0444864333    0.155347189   \n",
       "ENSG00000100823  0.0783831762    0.157656588   \n",
       "ENSG00000198805 -0.0078236758    0.178713400   "
      ]
     },
     "metadata": {},
     "output_type": "display_data"
    },
    {
     "data": {
      "text/html": [
       "<table class=\"dataframe\">\n",
       "<caption>A data.frame: 6 × 10</caption>\n",
       "<thead>\n",
       "\t<tr><th></th><th scope=col>ENSG00000222036</th><th scope=col>ENSG00000136319</th><th scope=col>ENSG00000129484</th><th scope=col>ENSG00000129566</th><th scope=col>ENSG00000100823</th><th scope=col>ENSG00000198805</th><th scope=col>ENSG00000214274</th><th scope=col>ENSG00000258818</th><th scope=col>ENSG00000169413</th><th scope=col>ENSG00000169397</th></tr>\n",
       "\t<tr><th></th><th scope=col>&lt;dbl&gt;</th><th scope=col>&lt;dbl&gt;</th><th scope=col>&lt;dbl&gt;</th><th scope=col>&lt;dbl&gt;</th><th scope=col>&lt;dbl&gt;</th><th scope=col>&lt;dbl&gt;</th><th scope=col>&lt;dbl&gt;</th><th scope=col>&lt;dbl&gt;</th><th scope=col>&lt;dbl&gt;</th><th scope=col>&lt;dbl&gt;</th></tr>\n",
       "</thead>\n",
       "<tbody>\n",
       "\t<tr><th scope=row>ENSG00000222036</th><td> 1.00000000</td><td> 0.021553134</td><td>-0.06654744</td><td> 0.010032050</td><td> 0.01755387</td><td>0.02116274</td><td>-0.036498083</td><td> 0.048625889</td><td>-0.008806632</td><td> 0.05560755</td></tr>\n",
       "\t<tr><th scope=row>ENSG00000136319</th><td> 0.02155313</td><td> 1.000000000</td><td>-0.12752309</td><td>-0.005907714</td><td> 0.05483441</td><td>0.06687012</td><td>-0.066412881</td><td>-0.019038965</td><td>-0.024933904</td><td> 0.02900879</td></tr>\n",
       "\t<tr><th scope=row>ENSG00000129484</th><td>-0.06654744</td><td>-0.127523092</td><td> 1.00000000</td><td> 0.052926744</td><td> 0.04305708</td><td>0.10363264</td><td> 0.041287199</td><td>-0.016796254</td><td> 0.037463939</td><td>-0.01473616</td></tr>\n",
       "\t<tr><th scope=row>ENSG00000129566</th><td> 0.01003205</td><td>-0.005907714</td><td> 0.05292674</td><td> 1.000000000</td><td>-0.03834056</td><td>0.10763357</td><td> 0.016933688</td><td> 0.088772125</td><td>-0.003286196</td><td> 0.11362529</td></tr>\n",
       "\t<tr><th scope=row>ENSG00000100823</th><td> 0.01755387</td><td> 0.054834413</td><td> 0.04305708</td><td>-0.038340558</td><td> 1.00000000</td><td>0.16930237</td><td> 0.006604672</td><td>-0.003717205</td><td> 0.009725710</td><td> 0.03690845</td></tr>\n",
       "\t<tr><th scope=row>ENSG00000198805</th><td> 0.02116274</td><td> 0.066870116</td><td> 0.10363264</td><td> 0.107633574</td><td> 0.16930237</td><td>1.00000000</td><td>-0.042446873</td><td> 0.051265066</td><td> 0.012543079</td><td> 0.06892646</td></tr>\n",
       "</tbody>\n",
       "</table>\n"
      ],
      "text/latex": [
       "A data.frame: 6 × 10\n",
       "\\begin{tabular}{r|llllllllll}\n",
       "  & ENSG00000222036 & ENSG00000136319 & ENSG00000129484 & ENSG00000129566 & ENSG00000100823 & ENSG00000198805 & ENSG00000214274 & ENSG00000258818 & ENSG00000169413 & ENSG00000169397\\\\\n",
       "  & <dbl> & <dbl> & <dbl> & <dbl> & <dbl> & <dbl> & <dbl> & <dbl> & <dbl> & <dbl>\\\\\n",
       "\\hline\n",
       "\tENSG00000222036 &  1.00000000 &  0.021553134 & -0.06654744 &  0.010032050 &  0.01755387 & 0.02116274 & -0.036498083 &  0.048625889 & -0.008806632 &  0.05560755\\\\\n",
       "\tENSG00000136319 &  0.02155313 &  1.000000000 & -0.12752309 & -0.005907714 &  0.05483441 & 0.06687012 & -0.066412881 & -0.019038965 & -0.024933904 &  0.02900879\\\\\n",
       "\tENSG00000129484 & -0.06654744 & -0.127523092 &  1.00000000 &  0.052926744 &  0.04305708 & 0.10363264 &  0.041287199 & -0.016796254 &  0.037463939 & -0.01473616\\\\\n",
       "\tENSG00000129566 &  0.01003205 & -0.005907714 &  0.05292674 &  1.000000000 & -0.03834056 & 0.10763357 &  0.016933688 &  0.088772125 & -0.003286196 &  0.11362529\\\\\n",
       "\tENSG00000100823 &  0.01755387 &  0.054834413 &  0.04305708 & -0.038340558 &  1.00000000 & 0.16930237 &  0.006604672 & -0.003717205 &  0.009725710 &  0.03690845\\\\\n",
       "\tENSG00000198805 &  0.02116274 &  0.066870116 &  0.10363264 &  0.107633574 &  0.16930237 & 1.00000000 & -0.042446873 &  0.051265066 &  0.012543079 &  0.06892646\\\\\n",
       "\\end{tabular}\n"
      ],
      "text/markdown": [
       "\n",
       "A data.frame: 6 × 10\n",
       "\n",
       "| <!--/--> | ENSG00000222036 &lt;dbl&gt; | ENSG00000136319 &lt;dbl&gt; | ENSG00000129484 &lt;dbl&gt; | ENSG00000129566 &lt;dbl&gt; | ENSG00000100823 &lt;dbl&gt; | ENSG00000198805 &lt;dbl&gt; | ENSG00000214274 &lt;dbl&gt; | ENSG00000258818 &lt;dbl&gt; | ENSG00000169413 &lt;dbl&gt; | ENSG00000169397 &lt;dbl&gt; |\n",
       "|---|---|---|---|---|---|---|---|---|---|---|\n",
       "| ENSG00000222036 |  1.00000000 |  0.021553134 | -0.06654744 |  0.010032050 |  0.01755387 | 0.02116274 | -0.036498083 |  0.048625889 | -0.008806632 |  0.05560755 |\n",
       "| ENSG00000136319 |  0.02155313 |  1.000000000 | -0.12752309 | -0.005907714 |  0.05483441 | 0.06687012 | -0.066412881 | -0.019038965 | -0.024933904 |  0.02900879 |\n",
       "| ENSG00000129484 | -0.06654744 | -0.127523092 |  1.00000000 |  0.052926744 |  0.04305708 | 0.10363264 |  0.041287199 | -0.016796254 |  0.037463939 | -0.01473616 |\n",
       "| ENSG00000129566 |  0.01003205 | -0.005907714 |  0.05292674 |  1.000000000 | -0.03834056 | 0.10763357 |  0.016933688 |  0.088772125 | -0.003286196 |  0.11362529 |\n",
       "| ENSG00000100823 |  0.01755387 |  0.054834413 |  0.04305708 | -0.038340558 |  1.00000000 | 0.16930237 |  0.006604672 | -0.003717205 |  0.009725710 |  0.03690845 |\n",
       "| ENSG00000198805 |  0.02116274 |  0.066870116 |  0.10363264 |  0.107633574 |  0.16930237 | 1.00000000 | -0.042446873 |  0.051265066 |  0.012543079 |  0.06892646 |\n",
       "\n"
      ],
      "text/plain": [
       "                ENSG00000222036 ENSG00000136319 ENSG00000129484 ENSG00000129566\n",
       "ENSG00000222036  1.00000000      0.021553134    -0.06654744      0.010032050   \n",
       "ENSG00000136319  0.02155313      1.000000000    -0.12752309     -0.005907714   \n",
       "ENSG00000129484 -0.06654744     -0.127523092     1.00000000      0.052926744   \n",
       "ENSG00000129566  0.01003205     -0.005907714     0.05292674      1.000000000   \n",
       "ENSG00000100823  0.01755387      0.054834413     0.04305708     -0.038340558   \n",
       "ENSG00000198805  0.02116274      0.066870116     0.10363264      0.107633574   \n",
       "                ENSG00000100823 ENSG00000198805 ENSG00000214274 ENSG00000258818\n",
       "ENSG00000222036  0.01755387     0.02116274      -0.036498083     0.048625889   \n",
       "ENSG00000136319  0.05483441     0.06687012      -0.066412881    -0.019038965   \n",
       "ENSG00000129484  0.04305708     0.10363264       0.041287199    -0.016796254   \n",
       "ENSG00000129566 -0.03834056     0.10763357       0.016933688     0.088772125   \n",
       "ENSG00000100823  1.00000000     0.16930237       0.006604672    -0.003717205   \n",
       "ENSG00000198805  0.16930237     1.00000000      -0.042446873     0.051265066   \n",
       "                ENSG00000169413 ENSG00000169397\n",
       "ENSG00000222036 -0.008806632     0.05560755    \n",
       "ENSG00000136319 -0.024933904     0.02900879    \n",
       "ENSG00000129484  0.037463939    -0.01473616    \n",
       "ENSG00000129566 -0.003286196     0.11362529    \n",
       "ENSG00000100823  0.009725710     0.03690845    \n",
       "ENSG00000198805  0.012543079     0.06892646    "
      ]
     },
     "metadata": {},
     "output_type": "display_data"
    }
   ],
   "source": [
    "# quick and visual comparison of the two matrices\n",
    "IRdisplay::display(head(gene_corrs[1:10, 1:10]))\n",
    "IRdisplay::display(head(gene_corrs_corrected[1:10, 1:10]))"
   ]
  },
  {
   "cell_type": "markdown",
   "id": "c6c40f1a-d153-475a-94eb-c71697ad9d51",
   "metadata": {
    "papermill": {
     "duration": 0.014365,
     "end_time": "2022-06-18T11:50:28.166029",
     "exception": false,
     "start_time": "2022-06-18T11:50:28.151664",
     "status": "completed"
    },
    "tags": []
   },
   "source": [
    "Both matrices should \"look\" similar. We are not interested in perfectly accurate correlation values (they are already inaccurate)."
   ]
  },
  {
   "cell_type": "markdown",
   "id": "bf0f49cb-9c21-4616-8390-bb68d52dae56",
   "metadata": {
    "papermill": {
     "duration": 0.008301,
     "end_time": "2022-06-18T11:50:28.182894",
     "exception": false,
     "start_time": "2022-06-18T11:50:28.174593",
     "status": "completed"
    },
    "tags": []
   },
   "source": [
    "# Save"
   ]
  },
  {
   "cell_type": "code",
   "execution_count": 31,
   "id": "2e58e7f3-a75c-4195-a20e-39e3e3e1cc9a",
   "metadata": {
    "execution": {
     "iopub.execute_input": "2022-06-18T11:50:28.200313Z",
     "iopub.status.busy": "2022-06-18T11:50:28.199341Z",
     "iopub.status.idle": "2022-06-18T11:50:28.220968Z",
     "shell.execute_reply": "2022-06-18T11:50:28.219071Z"
    },
    "papermill": {
     "duration": 0.031727,
     "end_time": "2022-06-18T11:50:28.222573",
     "exception": false,
     "start_time": "2022-06-18T11:50:28.190846",
     "status": "completed"
    },
    "tags": []
   },
   "outputs": [],
   "source": [
    "py_save_object(gene_corrs_corrected, OUTPUT_FILE)"
   ]
  },
  {
   "cell_type": "code",
   "execution_count": null,
   "id": "d8ae4220-2171-460c-9231-cd5219f3fe77",
   "metadata": {
    "papermill": {
     "duration": 0.006896,
     "end_time": "2022-06-18T11:50:28.236733",
     "exception": false,
     "start_time": "2022-06-18T11:50:28.229837",
     "status": "completed"
    },
    "tags": []
   },
   "outputs": [],
   "source": []
  }
 ],
 "metadata": {
  "jupytext": {
   "cell_metadata_filter": "all,-execution,-papermill,-trusted"
  },
  "kernelspec": {
   "display_name": "R",
   "language": "R",
   "name": "ir"
  },
  "language_info": {
   "codemirror_mode": "r",
   "file_extension": ".r",
   "mimetype": "text/x-r-source",
   "name": "R",
   "pygments_lexer": "r",
   "version": "3.6.3"
  },
  "papermill": {
   "default_parameters": {},
   "duration": 5.898954,
   "end_time": "2022-06-18T11:50:28.361557",
   "environment_variables": {},
   "exception": null,
   "input_path": "nbs/15_gsa_gls/12-gene_expr_correlations-adjust.ipynb",
   "output_path": "nbs/15_gsa_gls/gene_corrs/gtex_v8/mashr/12-gene_expr_correlations-adjust-chr14.run.ipynb",
   "parameters": {
    "EQTL_MODEL": "MASHR",
    "REFERENCE_PANEL": "GTEX_V8",
    "chromosome": 14
   },
   "start_time": "2022-06-18T11:50:22.462603",
   "version": "2.3.4"
  }
 },
 "nbformat": 4,
 "nbformat_minor": 5
}
