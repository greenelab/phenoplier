{
 "cells": [
  {
   "cell_type": "markdown",
   "id": "6c1f0ae4-cd27-4fec-a23d-51699e7059e8",
   "metadata": {
    "papermill": {
     "duration": 0.005901,
     "end_time": "2022-06-18T11:50:09.542462",
     "exception": false,
     "start_time": "2022-06-18T11:50:09.536561",
     "status": "completed"
    },
    "tags": []
   },
   "source": [
    "# Description"
   ]
  },
  {
   "cell_type": "markdown",
   "id": "3268a19a-8a83-4f61-aa39-09b084c81d61",
   "metadata": {
    "papermill": {
     "duration": 0.004989,
     "end_time": "2022-06-18T11:50:09.559342",
     "exception": false,
     "start_time": "2022-06-18T11:50:09.554353",
     "status": "completed"
    },
    "tags": []
   },
   "source": [
    "**TODO**"
   ]
  },
  {
   "cell_type": "markdown",
   "id": "401368d3-22c1-4d81-a2c3-c4a81fde4191",
   "metadata": {
    "papermill": {
     "duration": 0.005374,
     "end_time": "2022-06-18T11:50:09.569962",
     "exception": false,
     "start_time": "2022-06-18T11:50:09.564588",
     "status": "completed"
    },
    "tags": []
   },
   "source": [
    "# Modules"
   ]
  },
  {
   "cell_type": "code",
   "execution_count": 1,
   "id": "f9b5022b-7c5e-4d37-9c7a-fdb91777c7f9",
   "metadata": {
    "execution": {
     "iopub.execute_input": "2022-06-18T11:50:09.609381Z",
     "iopub.status.busy": "2022-06-18T11:50:09.607561Z",
     "iopub.status.idle": "2022-06-18T11:50:13.290447Z",
     "shell.execute_reply": "2022-06-18T11:50:13.289124Z"
    },
    "papermill": {
     "duration": 3.716872,
     "end_time": "2022-06-18T11:50:13.292105",
     "exception": false,
     "start_time": "2022-06-18T11:50:09.575233",
     "status": "completed"
    },
    "tags": []
   },
   "outputs": [],
   "source": [
    "library(reticulate)\n",
    "pd <- import(\"pandas\")"
   ]
  },
  {
   "cell_type": "markdown",
   "id": "c1958d6a-0229-47e8-823e-792fcf84fccf",
   "metadata": {
    "papermill": {
     "duration": 0.004659,
     "end_time": "2022-06-18T11:50:13.301476",
     "exception": false,
     "start_time": "2022-06-18T11:50:13.296817",
     "status": "completed"
    },
    "tags": []
   },
   "source": [
    "# Settings"
   ]
  },
  {
   "cell_type": "code",
   "execution_count": 2,
   "id": "22d12bb4-1699-4a6b-b1b9-d3fdd3d547d7",
   "metadata": {
    "execution": {
     "iopub.execute_input": "2022-06-18T11:50:13.337865Z",
     "iopub.status.busy": "2022-06-18T11:50:13.312975Z",
     "iopub.status.idle": "2022-06-18T11:50:13.356743Z",
     "shell.execute_reply": "2022-06-18T11:50:13.353311Z"
    },
    "papermill": {
     "duration": 0.052757,
     "end_time": "2022-06-18T11:50:13.359349",
     "exception": false,
     "start_time": "2022-06-18T11:50:13.306592",
     "status": "completed"
    },
    "tags": [
     "parameters"
    ]
   },
   "outputs": [],
   "source": [
    "# reference panel\n",
    "REFERENCE_PANEL <- \"GTEX_V8\"\n",
    "# REFERENCE_PANEL = \"1000G\"\n",
    "\n",
    "# prediction models\n",
    "## mashr\n",
    "EQTL_MODEL <- \"MASHR\"\n",
    "\n",
    "# ## elastic net\n",
    "# EQTL_MODEL = \"ELASTIC_NET\"\n",
    "\n",
    "chromosome <- NULL"
   ]
  },
  {
   "cell_type": "code",
   "execution_count": 3,
   "id": "31947bef",
   "metadata": {
    "execution": {
     "iopub.execute_input": "2022-06-18T11:50:13.385111Z",
     "iopub.status.busy": "2022-06-18T11:50:13.383913Z",
     "iopub.status.idle": "2022-06-18T11:50:13.402849Z",
     "shell.execute_reply": "2022-06-18T11:50:13.401579Z"
    },
    "papermill": {
     "duration": 0.031495,
     "end_time": "2022-06-18T11:50:13.404645",
     "exception": false,
     "start_time": "2022-06-18T11:50:13.373150",
     "status": "completed"
    },
    "tags": [
     "injected-parameters"
    ]
   },
   "outputs": [],
   "source": [
    "# Parameters\n",
    "chromosome = 9\n",
    "REFERENCE_PANEL = \"GTEX_V8\"\n",
    "EQTL_MODEL = \"MASHR\"\n"
   ]
  },
  {
   "cell_type": "code",
   "execution_count": 4,
   "id": "8fe24bef",
   "metadata": {
    "execution": {
     "iopub.execute_input": "2022-06-18T11:50:13.417469Z",
     "iopub.status.busy": "2022-06-18T11:50:13.416369Z",
     "iopub.status.idle": "2022-06-18T11:50:13.430012Z",
     "shell.execute_reply": "2022-06-18T11:50:13.428696Z"
    },
    "papermill": {
     "duration": 0.021863,
     "end_time": "2022-06-18T11:50:13.431859",
     "exception": false,
     "start_time": "2022-06-18T11:50:13.409996",
     "status": "completed"
    },
    "tags": []
   },
   "outputs": [
    {
     "data": {
      "text/html": [
       "'Using reference panel: GTEX_V8'"
      ],
      "text/latex": [
       "'Using reference panel: GTEX\\_V8'"
      ],
      "text/markdown": [
       "'Using reference panel: GTEX_V8'"
      ],
      "text/plain": [
       "[1] \"Using reference panel: GTEX_V8\""
      ]
     },
     "metadata": {},
     "output_type": "display_data"
    }
   ],
   "source": [
    "paste0(\"Using reference panel: \", REFERENCE_PANEL)"
   ]
  },
  {
   "cell_type": "code",
   "execution_count": 5,
   "id": "d62c28f8-186c-478b-948c-58e14f00df4b",
   "metadata": {
    "execution": {
     "iopub.execute_input": "2022-06-18T11:50:13.445294Z",
     "iopub.status.busy": "2022-06-18T11:50:13.444181Z",
     "iopub.status.idle": "2022-06-18T11:50:13.456005Z",
     "shell.execute_reply": "2022-06-18T11:50:13.454718Z"
    },
    "papermill": {
     "duration": 0.020364,
     "end_time": "2022-06-18T11:50:13.457919",
     "exception": false,
     "start_time": "2022-06-18T11:50:13.437555",
     "status": "completed"
    },
    "tags": []
   },
   "outputs": [
    {
     "data": {
      "text/html": [
       "'Using eQTL model: MASHR'"
      ],
      "text/latex": [
       "'Using eQTL model: MASHR'"
      ],
      "text/markdown": [
       "'Using eQTL model: MASHR'"
      ],
      "text/plain": [
       "[1] \"Using eQTL model: MASHR\""
      ]
     },
     "metadata": {},
     "output_type": "display_data"
    }
   ],
   "source": [
    "paste0(\"Using eQTL model: \", EQTL_MODEL)"
   ]
  },
  {
   "cell_type": "code",
   "execution_count": 6,
   "id": "5243676f-c889-4405-9a4d-262f0f044614",
   "metadata": {
    "execution": {
     "iopub.execute_input": "2022-06-18T11:50:13.471119Z",
     "iopub.status.busy": "2022-06-18T11:50:13.470112Z",
     "iopub.status.idle": "2022-06-18T11:50:13.479205Z",
     "shell.execute_reply": "2022-06-18T11:50:13.478032Z"
    },
    "papermill": {
     "duration": 0.017221,
     "end_time": "2022-06-18T11:50:13.480835",
     "exception": false,
     "start_time": "2022-06-18T11:50:13.463614",
     "status": "completed"
    },
    "tags": []
   },
   "outputs": [],
   "source": [
    "# chromosome must be provided as parameter\n",
    "stopifnot(!is.null(chromosome))"
   ]
  },
  {
   "cell_type": "markdown",
   "id": "83a49773-bcf5-44c4-8d9b-a6ac65a57ec6",
   "metadata": {
    "papermill": {
     "duration": 0.004974,
     "end_time": "2022-06-18T11:50:13.491404",
     "exception": false,
     "start_time": "2022-06-18T11:50:13.486430",
     "status": "completed"
    },
    "tags": []
   },
   "source": [
    "# Paths"
   ]
  },
  {
   "cell_type": "code",
   "execution_count": 7,
   "id": "eb6aa8aa-b452-4a2f-a780-93dd80ad4285",
   "metadata": {
    "execution": {
     "iopub.execute_input": "2022-06-18T11:50:13.504410Z",
     "iopub.status.busy": "2022-06-18T11:50:13.503307Z",
     "iopub.status.idle": "2022-06-18T11:50:13.517601Z",
     "shell.execute_reply": "2022-06-18T11:50:13.516160Z"
    },
    "papermill": {
     "duration": 0.022913,
     "end_time": "2022-06-18T11:50:13.519701",
     "exception": false,
     "start_time": "2022-06-18T11:50:13.496788",
     "status": "completed"
    },
    "tags": []
   },
   "outputs": [
    {
     "data": {
      "text/html": [
       "'/opt/data/data/phenomexcan/ld_blocks/gene_corrs'"
      ],
      "text/latex": [
       "'/opt/data/data/phenomexcan/ld\\_blocks/gene\\_corrs'"
      ],
      "text/markdown": [
       "'/opt/data/data/phenomexcan/ld_blocks/gene_corrs'"
      ],
      "text/plain": [
       "[1] \"/opt/data/data/phenomexcan/ld_blocks/gene_corrs\""
      ]
     },
     "metadata": {},
     "output_type": "display_data"
    }
   ],
   "source": [
    "GENE_CORRS_DIR <- Sys.getenv(\"PHENOPLIER_PHENOMEXCAN_LD_BLOCKS_GENE_CORRS_DIR\")\n",
    "IRdisplay::display(GENE_CORRS_DIR)"
   ]
  },
  {
   "cell_type": "code",
   "execution_count": 8,
   "id": "eb24f15f-f282-4476-8943-8413c4483f12",
   "metadata": {
    "execution": {
     "iopub.execute_input": "2022-06-18T11:50:13.534795Z",
     "iopub.status.busy": "2022-06-18T11:50:13.532708Z",
     "iopub.status.idle": "2022-06-18T11:50:13.551318Z",
     "shell.execute_reply": "2022-06-18T11:50:13.548933Z"
    },
    "papermill": {
     "duration": 0.027896,
     "end_time": "2022-06-18T11:50:13.553389",
     "exception": false,
     "start_time": "2022-06-18T11:50:13.525493",
     "status": "completed"
    },
    "tags": []
   },
   "outputs": [
    {
     "data": {
      "text/html": [
       "'/opt/data/data/phenomexcan/ld_blocks/gene_corrs/gtex_v8/mashr/by_chr'"
      ],
      "text/latex": [
       "'/opt/data/data/phenomexcan/ld\\_blocks/gene\\_corrs/gtex\\_v8/mashr/by\\_chr'"
      ],
      "text/markdown": [
       "'/opt/data/data/phenomexcan/ld_blocks/gene_corrs/gtex_v8/mashr/by_chr'"
      ],
      "text/plain": [
       "[1] \"/opt/data/data/phenomexcan/ld_blocks/gene_corrs/gtex_v8/mashr/by_chr\""
      ]
     },
     "metadata": {},
     "output_type": "display_data"
    }
   ],
   "source": [
    "INPUT_DIR <- file.path(GENE_CORRS_DIR, tolower(REFERENCE_PANEL), tolower(EQTL_MODEL), \"by_chr\")\n",
    "IRdisplay::display(INPUT_DIR)"
   ]
  },
  {
   "cell_type": "code",
   "execution_count": 9,
   "id": "43c1daba-0da9-4822-8d1e-968e9767e251",
   "metadata": {
    "execution": {
     "iopub.execute_input": "2022-06-18T11:50:13.567944Z",
     "iopub.status.busy": "2022-06-18T11:50:13.566787Z",
     "iopub.status.idle": "2022-06-18T11:50:13.581950Z",
     "shell.execute_reply": "2022-06-18T11:50:13.580669Z"
    },
    "papermill": {
     "duration": 0.024197,
     "end_time": "2022-06-18T11:50:13.583880",
     "exception": false,
     "start_time": "2022-06-18T11:50:13.559683",
     "status": "completed"
    },
    "tags": []
   },
   "outputs": [
    {
     "data": {
      "text/html": [
       "'/opt/data/data/phenomexcan/ld_blocks/gene_corrs/gtex_v8/mashr/by_chr/gene_corrs-chr9.pkl'"
      ],
      "text/latex": [
       "'/opt/data/data/phenomexcan/ld\\_blocks/gene\\_corrs/gtex\\_v8/mashr/by\\_chr/gene\\_corrs-chr9.pkl'"
      ],
      "text/markdown": [
       "'/opt/data/data/phenomexcan/ld_blocks/gene_corrs/gtex_v8/mashr/by_chr/gene_corrs-chr9.pkl'"
      ],
      "text/plain": [
       "[1] \"/opt/data/data/phenomexcan/ld_blocks/gene_corrs/gtex_v8/mashr/by_chr/gene_corrs-chr9.pkl\""
      ]
     },
     "metadata": {},
     "output_type": "display_data"
    }
   ],
   "source": [
    "INPUT_FILE <- file.path(INPUT_DIR, paste0(\"gene_corrs-chr\", chromosome, \".pkl\"))\n",
    "IRdisplay::display(INPUT_FILE)\n",
    "stopifnot(file.exists(INPUT_FILE))"
   ]
  },
  {
   "cell_type": "code",
   "execution_count": 10,
   "id": "72386fbf-982b-420a-9057-ea9a97a5e571",
   "metadata": {
    "execution": {
     "iopub.execute_input": "2022-06-18T11:50:13.597996Z",
     "iopub.status.busy": "2022-06-18T11:50:13.596790Z",
     "iopub.status.idle": "2022-06-18T11:50:13.612241Z",
     "shell.execute_reply": "2022-06-18T11:50:13.610958Z"
    },
    "papermill": {
     "duration": 0.024136,
     "end_time": "2022-06-18T11:50:13.614035",
     "exception": false,
     "start_time": "2022-06-18T11:50:13.589899",
     "status": "completed"
    },
    "tags": []
   },
   "outputs": [
    {
     "data": {
      "text/html": [
       "'/opt/data/data/phenomexcan/ld_blocks/gene_corrs/gtex_v8/mashr/by_chr/corrected_positive_definite'"
      ],
      "text/latex": [
       "'/opt/data/data/phenomexcan/ld\\_blocks/gene\\_corrs/gtex\\_v8/mashr/by\\_chr/corrected\\_positive\\_definite'"
      ],
      "text/markdown": [
       "'/opt/data/data/phenomexcan/ld_blocks/gene_corrs/gtex_v8/mashr/by_chr/corrected_positive_definite'"
      ],
      "text/plain": [
       "[1] \"/opt/data/data/phenomexcan/ld_blocks/gene_corrs/gtex_v8/mashr/by_chr/corrected_positive_definite\""
      ]
     },
     "metadata": {},
     "output_type": "display_data"
    }
   ],
   "source": [
    "OUTPUT_DIR <- file.path(INPUT_DIR, \"corrected_positive_definite\")\n",
    "IRdisplay::display(OUTPUT_DIR)\n",
    "dir.create(OUTPUT_DIR, recursive = TRUE, showWarnings = FALSE)"
   ]
  },
  {
   "cell_type": "code",
   "execution_count": 11,
   "id": "f9f19d1d-ce4c-4099-a26e-250fec751de7",
   "metadata": {
    "execution": {
     "iopub.execute_input": "2022-06-18T11:50:13.628300Z",
     "iopub.status.busy": "2022-06-18T11:50:13.627098Z",
     "iopub.status.idle": "2022-06-18T11:50:13.647040Z",
     "shell.execute_reply": "2022-06-18T11:50:13.642754Z"
    },
    "papermill": {
     "duration": 0.02893,
     "end_time": "2022-06-18T11:50:13.648951",
     "exception": false,
     "start_time": "2022-06-18T11:50:13.620021",
     "status": "completed"
    },
    "tags": []
   },
   "outputs": [
    {
     "data": {
      "text/html": [
       "'/opt/data/data/phenomexcan/ld_blocks/gene_corrs/gtex_v8/mashr/by_chr/corrected_positive_definite/gene_corrs-chr9.pkl'"
      ],
      "text/latex": [
       "'/opt/data/data/phenomexcan/ld\\_blocks/gene\\_corrs/gtex\\_v8/mashr/by\\_chr/corrected\\_positive\\_definite/gene\\_corrs-chr9.pkl'"
      ],
      "text/markdown": [
       "'/opt/data/data/phenomexcan/ld_blocks/gene_corrs/gtex_v8/mashr/by_chr/corrected_positive_definite/gene_corrs-chr9.pkl'"
      ],
      "text/plain": [
       "[1] \"/opt/data/data/phenomexcan/ld_blocks/gene_corrs/gtex_v8/mashr/by_chr/corrected_positive_definite/gene_corrs-chr9.pkl\""
      ]
     },
     "metadata": {},
     "output_type": "display_data"
    },
    {
     "data": {
      "text/html": [
       "'Output file exists, it will be overwritten'"
      ],
      "text/latex": [
       "'Output file exists, it will be overwritten'"
      ],
      "text/markdown": [
       "'Output file exists, it will be overwritten'"
      ],
      "text/plain": [
       "[1] \"Output file exists, it will be overwritten\""
      ]
     },
     "metadata": {},
     "output_type": "display_data"
    }
   ],
   "source": [
    "OUTPUT_FILE <- file.path(OUTPUT_DIR, paste0(\"gene_corrs-chr\", chromosome, \".pkl\"))\n",
    "IRdisplay::display(OUTPUT_FILE)\n",
    "if (file.exists(OUTPUT_FILE)) {\n",
    "  IRdisplay::display(\"Output file exists, it will be overwritten\")\n",
    "}"
   ]
  },
  {
   "cell_type": "markdown",
   "id": "5aad60e6-cba4-41b5-9755-93eb86f4ed05",
   "metadata": {
    "papermill": {
     "duration": 0.005764,
     "end_time": "2022-06-18T11:50:13.660850",
     "exception": false,
     "start_time": "2022-06-18T11:50:13.655086",
     "status": "completed"
    },
    "tags": []
   },
   "source": [
    "# Functions"
   ]
  },
  {
   "cell_type": "code",
   "execution_count": 12,
   "id": "f828f081-7358-4cc8-8a89-1ee293bcc1a7",
   "metadata": {
    "execution": {
     "iopub.execute_input": "2022-06-18T11:50:13.674151Z",
     "iopub.status.busy": "2022-06-18T11:50:13.673148Z",
     "iopub.status.idle": "2022-06-18T11:50:13.682378Z",
     "shell.execute_reply": "2022-06-18T11:50:13.681191Z"
    },
    "papermill": {
     "duration": 0.01754,
     "end_time": "2022-06-18T11:50:13.684117",
     "exception": false,
     "start_time": "2022-06-18T11:50:13.666577",
     "status": "completed"
    },
    "tags": []
   },
   "outputs": [],
   "source": [
    "# taken from https://www.r-bloggers.com/2013/08/correcting-a-pseudo-correlation-matrix-to-be-positive-semidefinite/\n",
    "# TODO: add documentation\n",
    "CorrectCM <- function(CM, p = 0) {\n",
    "  n <- dim(var(CM))[1L]\n",
    "  E <- eigen(CM)\n",
    "  CM1 <- E$vectors %*% tcrossprod(diag(pmax(E$values, p), n), E$vectors)\n",
    "  Balance <- diag(1 / sqrt(diag(CM1)))\n",
    "  CM2 <- Balance %*% CM1 %*% Balance\n",
    "  return(CM2)\n",
    "}"
   ]
  },
  {
   "cell_type": "code",
   "execution_count": 13,
   "id": "7ab9bebf-50a1-4e6f-b16a-e23cae93d02a",
   "metadata": {
    "execution": {
     "iopub.execute_input": "2022-06-18T11:50:13.697865Z",
     "iopub.status.busy": "2022-06-18T11:50:13.696832Z",
     "iopub.status.idle": "2022-06-18T11:50:13.705724Z",
     "shell.execute_reply": "2022-06-18T11:50:13.704536Z"
    },
    "papermill": {
     "duration": 0.017555,
     "end_time": "2022-06-18T11:50:13.707404",
     "exception": false,
     "start_time": "2022-06-18T11:50:13.689849",
     "status": "completed"
    },
    "tags": []
   },
   "outputs": [],
   "source": [
    "is_positive_definite <- function(data) {\n",
    "  eigenvalues <- eigen(data)$values\n",
    "  nonpositive_eigenvalues <- eigenvalues[eigenvalues <= 0]\n",
    "\n",
    "  if (length(nonpositive_eigenvalues) > 0) {\n",
    "    IRdisplay::display(\"We need to correct the data and make the matrix positive definite\")\n",
    "    return(FALSE)\n",
    "  } else {\n",
    "    IRdisplay::display(\"Matrix is already positive definite!\")\n",
    "    return(TRUE)\n",
    "  }\n",
    "}"
   ]
  },
  {
   "cell_type": "markdown",
   "id": "ac52ecbc-5618-4876-a4fa-546a08e3fcf3",
   "metadata": {
    "papermill": {
     "duration": 0.005541,
     "end_time": "2022-06-18T11:50:13.718736",
     "exception": false,
     "start_time": "2022-06-18T11:50:13.713195",
     "status": "completed"
    },
    "tags": []
   },
   "source": [
    "# Load data"
   ]
  },
  {
   "cell_type": "code",
   "execution_count": 14,
   "id": "3a7744e1-2e5a-450e-9dcf-945ec181347d",
   "metadata": {
    "execution": {
     "iopub.execute_input": "2022-06-18T11:50:13.731614Z",
     "iopub.status.busy": "2022-06-18T11:50:13.730663Z",
     "iopub.status.idle": "2022-06-18T11:50:13.768298Z",
     "shell.execute_reply": "2022-06-18T11:50:13.767162Z"
    },
    "papermill": {
     "duration": 0.045584,
     "end_time": "2022-06-18T11:50:13.769917",
     "exception": false,
     "start_time": "2022-06-18T11:50:13.724333",
     "status": "completed"
    },
    "tags": []
   },
   "outputs": [],
   "source": [
    "gene_corrs <- pd$read_pickle(INPUT_FILE)"
   ]
  },
  {
   "cell_type": "code",
   "execution_count": 15,
   "id": "6fb150b2-4c68-4e9b-9aa5-1890d3f762e3",
   "metadata": {
    "execution": {
     "iopub.execute_input": "2022-06-18T11:50:13.782679Z",
     "iopub.status.busy": "2022-06-18T11:50:13.781730Z",
     "iopub.status.idle": "2022-06-18T11:50:13.792964Z",
     "shell.execute_reply": "2022-06-18T11:50:13.791669Z"
    },
    "papermill": {
     "duration": 0.019515,
     "end_time": "2022-06-18T11:50:13.794892",
     "exception": false,
     "start_time": "2022-06-18T11:50:13.775377",
     "status": "completed"
    },
    "tags": []
   },
   "outputs": [
    {
     "data": {
      "text/html": [
       "<style>\n",
       ".list-inline {list-style: none; margin:0; padding: 0}\n",
       ".list-inline>li {display: inline-block}\n",
       ".list-inline>li:not(:last-child)::after {content: \"\\00b7\"; padding: 0 .5ex}\n",
       "</style>\n",
       "<ol class=list-inline><li>245</li><li>245</li></ol>\n"
      ],
      "text/latex": [
       "\\begin{enumerate*}\n",
       "\\item 245\n",
       "\\item 245\n",
       "\\end{enumerate*}\n"
      ],
      "text/markdown": [
       "1. 245\n",
       "2. 245\n",
       "\n",
       "\n"
      ],
      "text/plain": [
       "[1] 245 245"
      ]
     },
     "metadata": {},
     "output_type": "display_data"
    }
   ],
   "source": [
    "dim(gene_corrs)"
   ]
  },
  {
   "cell_type": "code",
   "execution_count": 16,
   "id": "0d4e53b5-7586-4a68-8ce5-d930d74ba943",
   "metadata": {
    "execution": {
     "iopub.execute_input": "2022-06-18T11:50:13.810403Z",
     "iopub.status.busy": "2022-06-18T11:50:13.809337Z",
     "iopub.status.idle": "2022-06-18T11:50:13.830318Z",
     "shell.execute_reply": "2022-06-18T11:50:13.829082Z"
    },
    "papermill": {
     "duration": 0.03013,
     "end_time": "2022-06-18T11:50:13.832005",
     "exception": false,
     "start_time": "2022-06-18T11:50:13.801875",
     "status": "completed"
    },
    "tags": []
   },
   "outputs": [
    {
     "data": {
      "text/html": [
       "<table class=\"dataframe\">\n",
       "<caption>A data.frame: 6 × 10</caption>\n",
       "<thead>\n",
       "\t<tr><th></th><th scope=col>ENSG00000107099</th><th scope=col>ENSG00000080503</th><th scope=col>ENSG00000147852</th><th scope=col>ENSG00000107249</th><th scope=col>ENSG00000147853</th><th scope=col>ENSG00000096968</th><th scope=col>ENSG00000107014</th><th scope=col>ENSG00000120217</th><th scope=col>ENSG00000197646</th><th scope=col>ENSG00000178445</th></tr>\n",
       "\t<tr><th></th><th scope=col>&lt;dbl&gt;</th><th scope=col>&lt;dbl&gt;</th><th scope=col>&lt;dbl&gt;</th><th scope=col>&lt;dbl&gt;</th><th scope=col>&lt;dbl&gt;</th><th scope=col>&lt;dbl&gt;</th><th scope=col>&lt;dbl&gt;</th><th scope=col>&lt;dbl&gt;</th><th scope=col>&lt;dbl&gt;</th><th scope=col>&lt;dbl&gt;</th></tr>\n",
       "</thead>\n",
       "<tbody>\n",
       "\t<tr><th scope=row>ENSG00000107099</th><td> 1.00000000</td><td> 0.027098800</td><td>-0.06273439</td><td>-0.094130444</td><td> 0.02692886</td><td> 0.02801359</td><td>-0.072436548</td><td>-0.001007194</td><td>0.00000000</td><td> 0.00000000</td></tr>\n",
       "\t<tr><th scope=row>ENSG00000080503</th><td> 0.02709880</td><td> 1.000000000</td><td>-0.04390768</td><td> 0.003128435</td><td> 0.02638727</td><td>-0.06732638</td><td>-0.037079488</td><td>-0.013919870</td><td>0.03819637</td><td>-0.01490507</td></tr>\n",
       "\t<tr><th scope=row>ENSG00000147852</th><td>-0.06273439</td><td>-0.043907679</td><td> 1.00000000</td><td>-0.027363007</td><td>-0.03211562</td><td>-0.03626737</td><td>-0.029817275</td><td>-0.067241235</td><td>0.01200454</td><td> 0.05222454</td></tr>\n",
       "\t<tr><th scope=row>ENSG00000107249</th><td>-0.09413044</td><td> 0.003128435</td><td>-0.02736301</td><td> 1.000000000</td><td> 0.02136621</td><td> 0.05914285</td><td>-0.008832756</td><td>-0.048457855</td><td>0.07372137</td><td> 0.01881659</td></tr>\n",
       "\t<tr><th scope=row>ENSG00000147853</th><td> 0.02692886</td><td> 0.026387275</td><td>-0.03211562</td><td> 0.021366208</td><td> 1.00000000</td><td> 0.04676392</td><td> 0.107088101</td><td> 0.016461678</td><td>0.18127560</td><td> 0.06369230</td></tr>\n",
       "\t<tr><th scope=row>ENSG00000096968</th><td> 0.02801359</td><td>-0.067326383</td><td>-0.03626737</td><td> 0.059142849</td><td> 0.04676392</td><td> 1.00000000</td><td>-0.056621742</td><td> 0.035003523</td><td>0.07063224</td><td> 0.01039246</td></tr>\n",
       "</tbody>\n",
       "</table>\n"
      ],
      "text/latex": [
       "A data.frame: 6 × 10\n",
       "\\begin{tabular}{r|llllllllll}\n",
       "  & ENSG00000107099 & ENSG00000080503 & ENSG00000147852 & ENSG00000107249 & ENSG00000147853 & ENSG00000096968 & ENSG00000107014 & ENSG00000120217 & ENSG00000197646 & ENSG00000178445\\\\\n",
       "  & <dbl> & <dbl> & <dbl> & <dbl> & <dbl> & <dbl> & <dbl> & <dbl> & <dbl> & <dbl>\\\\\n",
       "\\hline\n",
       "\tENSG00000107099 &  1.00000000 &  0.027098800 & -0.06273439 & -0.094130444 &  0.02692886 &  0.02801359 & -0.072436548 & -0.001007194 & 0.00000000 &  0.00000000\\\\\n",
       "\tENSG00000080503 &  0.02709880 &  1.000000000 & -0.04390768 &  0.003128435 &  0.02638727 & -0.06732638 & -0.037079488 & -0.013919870 & 0.03819637 & -0.01490507\\\\\n",
       "\tENSG00000147852 & -0.06273439 & -0.043907679 &  1.00000000 & -0.027363007 & -0.03211562 & -0.03626737 & -0.029817275 & -0.067241235 & 0.01200454 &  0.05222454\\\\\n",
       "\tENSG00000107249 & -0.09413044 &  0.003128435 & -0.02736301 &  1.000000000 &  0.02136621 &  0.05914285 & -0.008832756 & -0.048457855 & 0.07372137 &  0.01881659\\\\\n",
       "\tENSG00000147853 &  0.02692886 &  0.026387275 & -0.03211562 &  0.021366208 &  1.00000000 &  0.04676392 &  0.107088101 &  0.016461678 & 0.18127560 &  0.06369230\\\\\n",
       "\tENSG00000096968 &  0.02801359 & -0.067326383 & -0.03626737 &  0.059142849 &  0.04676392 &  1.00000000 & -0.056621742 &  0.035003523 & 0.07063224 &  0.01039246\\\\\n",
       "\\end{tabular}\n"
      ],
      "text/markdown": [
       "\n",
       "A data.frame: 6 × 10\n",
       "\n",
       "| <!--/--> | ENSG00000107099 &lt;dbl&gt; | ENSG00000080503 &lt;dbl&gt; | ENSG00000147852 &lt;dbl&gt; | ENSG00000107249 &lt;dbl&gt; | ENSG00000147853 &lt;dbl&gt; | ENSG00000096968 &lt;dbl&gt; | ENSG00000107014 &lt;dbl&gt; | ENSG00000120217 &lt;dbl&gt; | ENSG00000197646 &lt;dbl&gt; | ENSG00000178445 &lt;dbl&gt; |\n",
       "|---|---|---|---|---|---|---|---|---|---|---|\n",
       "| ENSG00000107099 |  1.00000000 |  0.027098800 | -0.06273439 | -0.094130444 |  0.02692886 |  0.02801359 | -0.072436548 | -0.001007194 | 0.00000000 |  0.00000000 |\n",
       "| ENSG00000080503 |  0.02709880 |  1.000000000 | -0.04390768 |  0.003128435 |  0.02638727 | -0.06732638 | -0.037079488 | -0.013919870 | 0.03819637 | -0.01490507 |\n",
       "| ENSG00000147852 | -0.06273439 | -0.043907679 |  1.00000000 | -0.027363007 | -0.03211562 | -0.03626737 | -0.029817275 | -0.067241235 | 0.01200454 |  0.05222454 |\n",
       "| ENSG00000107249 | -0.09413044 |  0.003128435 | -0.02736301 |  1.000000000 |  0.02136621 |  0.05914285 | -0.008832756 | -0.048457855 | 0.07372137 |  0.01881659 |\n",
       "| ENSG00000147853 |  0.02692886 |  0.026387275 | -0.03211562 |  0.021366208 |  1.00000000 |  0.04676392 |  0.107088101 |  0.016461678 | 0.18127560 |  0.06369230 |\n",
       "| ENSG00000096968 |  0.02801359 | -0.067326383 | -0.03626737 |  0.059142849 |  0.04676392 |  1.00000000 | -0.056621742 |  0.035003523 | 0.07063224 |  0.01039246 |\n",
       "\n"
      ],
      "text/plain": [
       "                ENSG00000107099 ENSG00000080503 ENSG00000147852 ENSG00000107249\n",
       "ENSG00000107099  1.00000000      0.027098800    -0.06273439     -0.094130444   \n",
       "ENSG00000080503  0.02709880      1.000000000    -0.04390768      0.003128435   \n",
       "ENSG00000147852 -0.06273439     -0.043907679     1.00000000     -0.027363007   \n",
       "ENSG00000107249 -0.09413044      0.003128435    -0.02736301      1.000000000   \n",
       "ENSG00000147853  0.02692886      0.026387275    -0.03211562      0.021366208   \n",
       "ENSG00000096968  0.02801359     -0.067326383    -0.03626737      0.059142849   \n",
       "                ENSG00000147853 ENSG00000096968 ENSG00000107014 ENSG00000120217\n",
       "ENSG00000107099  0.02692886      0.02801359     -0.072436548    -0.001007194   \n",
       "ENSG00000080503  0.02638727     -0.06732638     -0.037079488    -0.013919870   \n",
       "ENSG00000147852 -0.03211562     -0.03626737     -0.029817275    -0.067241235   \n",
       "ENSG00000107249  0.02136621      0.05914285     -0.008832756    -0.048457855   \n",
       "ENSG00000147853  1.00000000      0.04676392      0.107088101     0.016461678   \n",
       "ENSG00000096968  0.04676392      1.00000000     -0.056621742     0.035003523   \n",
       "                ENSG00000197646 ENSG00000178445\n",
       "ENSG00000107099 0.00000000       0.00000000    \n",
       "ENSG00000080503 0.03819637      -0.01490507    \n",
       "ENSG00000147852 0.01200454       0.05222454    \n",
       "ENSG00000107249 0.07372137       0.01881659    \n",
       "ENSG00000147853 0.18127560       0.06369230    \n",
       "ENSG00000096968 0.07063224       0.01039246    "
      ]
     },
     "metadata": {},
     "output_type": "display_data"
    }
   ],
   "source": [
    "head(gene_corrs[1:10, 1:10])"
   ]
  },
  {
   "cell_type": "markdown",
   "id": "c5c9ffba-1678-4ce7-8988-4ee03e23bdf2",
   "metadata": {
    "papermill": {
     "duration": 0.00608,
     "end_time": "2022-06-18T11:50:13.844472",
     "exception": false,
     "start_time": "2022-06-18T11:50:13.838392",
     "status": "completed"
    },
    "tags": []
   },
   "source": [
    "# Check positive definiteness"
   ]
  },
  {
   "cell_type": "code",
   "execution_count": 17,
   "id": "178854f5-487a-42e8-82b4-625c1979734a",
   "metadata": {
    "execution": {
     "iopub.execute_input": "2022-06-18T11:50:13.858460Z",
     "iopub.status.busy": "2022-06-18T11:50:13.857446Z",
     "iopub.status.idle": "2022-06-18T11:50:13.888847Z",
     "shell.execute_reply": "2022-06-18T11:50:13.887744Z"
    },
    "papermill": {
     "duration": 0.039738,
     "end_time": "2022-06-18T11:50:13.890304",
     "exception": false,
     "start_time": "2022-06-18T11:50:13.850566",
     "status": "completed"
    },
    "tags": []
   },
   "outputs": [
    {
     "data": {
      "text/html": [
       "'We need to correct the data and make the matrix positive definite'"
      ],
      "text/latex": [
       "'We need to correct the data and make the matrix positive definite'"
      ],
      "text/markdown": [
       "'We need to correct the data and make the matrix positive definite'"
      ],
      "text/plain": [
       "[1] \"We need to correct the data and make the matrix positive definite\""
      ]
     },
     "metadata": {},
     "output_type": "display_data"
    },
    {
     "data": {
      "text/html": [
       "FALSE"
      ],
      "text/latex": [
       "FALSE"
      ],
      "text/markdown": [
       "FALSE"
      ],
      "text/plain": [
       "[1] FALSE"
      ]
     },
     "metadata": {},
     "output_type": "display_data"
    }
   ],
   "source": [
    "is_positive_definite(gene_corrs)"
   ]
  },
  {
   "cell_type": "code",
   "execution_count": 18,
   "id": "58542ade-c80f-42e6-acbf-6464dab70fdb",
   "metadata": {
    "execution": {
     "iopub.execute_input": "2022-06-18T11:50:13.904242Z",
     "iopub.status.busy": "2022-06-18T11:50:13.903270Z",
     "iopub.status.idle": "2022-06-18T11:50:13.940085Z",
     "shell.execute_reply": "2022-06-18T11:50:13.936622Z"
    },
    "papermill": {
     "duration": 0.045018,
     "end_time": "2022-06-18T11:50:13.941564",
     "exception": false,
     "start_time": "2022-06-18T11:50:13.896546",
     "status": "completed"
    },
    "tags": []
   },
   "outputs": [],
   "source": [
    "# see eigenvalues\n",
    "eigenvalues <- eigen(gene_corrs)$values"
   ]
  },
  {
   "cell_type": "code",
   "execution_count": 19,
   "id": "9486e0db-e924-43ab-bb6c-0d997fd38f3d",
   "metadata": {
    "execution": {
     "iopub.execute_input": "2022-06-18T11:50:13.962231Z",
     "iopub.status.busy": "2022-06-18T11:50:13.961227Z",
     "iopub.status.idle": "2022-06-18T11:50:13.998791Z",
     "shell.execute_reply": "2022-06-18T11:50:13.995553Z"
    },
    "papermill": {
     "duration": 0.05192,
     "end_time": "2022-06-18T11:50:14.000310",
     "exception": false,
     "start_time": "2022-06-18T11:50:13.948390",
     "status": "completed"
    },
    "tags": []
   },
   "outputs": [
    {
     "data": {
      "text/html": [
       "19"
      ],
      "text/latex": [
       "19"
      ],
      "text/markdown": [
       "19"
      ],
      "text/plain": [
       "[1] 19"
      ]
     },
     "metadata": {},
     "output_type": "display_data"
    },
    {
     "data": {
      "text/html": [
       "<style>\n",
       ".list-inline {list-style: none; margin:0; padding: 0}\n",
       ".list-inline>li {display: inline-block}\n",
       ".list-inline>li:not(:last-child)::after {content: \"\\00b7\"; padding: 0 .5ex}\n",
       "</style>\n",
       "<ol class=list-inline><li>-0.00788820260510736</li><li>-0.0110345245804466</li><li>-0.0673637269982033</li><li>-0.143440241278727</li><li>-0.153430576781888</li><li>-0.228470011322397</li><li>-0.231898926705852</li><li>-0.232534857343127</li><li>-0.308288255973343</li><li>-0.334113485947906</li><li>-0.596709505906674</li><li>-0.696951599842648</li><li>-0.750523668156669</li><li>-0.838264323794938</li><li>-0.931790957469556</li><li>-1.27739961964829</li><li>-1.65591049747047</li><li>-1.82050038358322</li><li>-2.58293180609933</li></ol>\n"
      ],
      "text/latex": [
       "\\begin{enumerate*}\n",
       "\\item -0.00788820260510736\n",
       "\\item -0.0110345245804466\n",
       "\\item -0.0673637269982033\n",
       "\\item -0.143440241278727\n",
       "\\item -0.153430576781888\n",
       "\\item -0.228470011322397\n",
       "\\item -0.231898926705852\n",
       "\\item -0.232534857343127\n",
       "\\item -0.308288255973343\n",
       "\\item -0.334113485947906\n",
       "\\item -0.596709505906674\n",
       "\\item -0.696951599842648\n",
       "\\item -0.750523668156669\n",
       "\\item -0.838264323794938\n",
       "\\item -0.931790957469556\n",
       "\\item -1.27739961964829\n",
       "\\item -1.65591049747047\n",
       "\\item -1.82050038358322\n",
       "\\item -2.58293180609933\n",
       "\\end{enumerate*}\n"
      ],
      "text/markdown": [
       "1. -0.00788820260510736\n",
       "2. -0.0110345245804466\n",
       "3. -0.0673637269982033\n",
       "4. -0.143440241278727\n",
       "5. -0.153430576781888\n",
       "6. -0.228470011322397\n",
       "7. -0.231898926705852\n",
       "8. -0.232534857343127\n",
       "9. -0.308288255973343\n",
       "10. -0.334113485947906\n",
       "11. -0.596709505906674\n",
       "12. -0.696951599842648\n",
       "13. -0.750523668156669\n",
       "14. -0.838264323794938\n",
       "15. -0.931790957469556\n",
       "16. -1.27739961964829\n",
       "17. -1.65591049747047\n",
       "18. -1.82050038358322\n",
       "19. -2.58293180609933\n",
       "\n",
       "\n"
      ],
      "text/plain": [
       " [1] -0.007888203 -0.011034525 -0.067363727 -0.143440241 -0.153430577\n",
       " [6] -0.228470011 -0.231898927 -0.232534857 -0.308288256 -0.334113486\n",
       "[11] -0.596709506 -0.696951600 -0.750523668 -0.838264324 -0.931790957\n",
       "[16] -1.277399620 -1.655910497 -1.820500384 -2.582931806"
      ]
     },
     "metadata": {},
     "output_type": "display_data"
    }
   ],
   "source": [
    "nonpositive_eigenvalues <- eigenvalues[eigenvalues <= 0]\n",
    "IRdisplay::display(length(nonpositive_eigenvalues))\n",
    "IRdisplay::display(nonpositive_eigenvalues)"
   ]
  },
  {
   "cell_type": "code",
   "execution_count": 20,
   "id": "410ee452-488f-4518-b93a-2acd608ba99c",
   "metadata": {
    "execution": {
     "iopub.execute_input": "2022-06-18T11:50:14.021745Z",
     "iopub.status.busy": "2022-06-18T11:50:14.020783Z",
     "iopub.status.idle": "2022-06-18T11:50:14.028784Z",
     "shell.execute_reply": "2022-06-18T11:50:14.027717Z"
    },
    "papermill": {
     "duration": 0.02169,
     "end_time": "2022-06-18T11:50:14.030308",
     "exception": false,
     "start_time": "2022-06-18T11:50:14.008618",
     "status": "completed"
    },
    "tags": []
   },
   "outputs": [],
   "source": [
    "if (length(eigenvalues[eigenvalues <= 0]) == 0) { quit() }"
   ]
  },
  {
   "cell_type": "markdown",
   "id": "2d280a82-f231-402d-82ab-9291d395afc1",
   "metadata": {
    "papermill": {
     "duration": 0.005922,
     "end_time": "2022-06-18T11:50:14.042306",
     "exception": false,
     "start_time": "2022-06-18T11:50:14.036384",
     "status": "completed"
    },
    "tags": []
   },
   "source": [
    "# Make matrix positive definite if needed"
   ]
  },
  {
   "cell_type": "code",
   "execution_count": 21,
   "id": "b9037873-4067-4ac6-aa92-e9225a6c9353",
   "metadata": {
    "execution": {
     "iopub.execute_input": "2022-06-18T11:50:14.056549Z",
     "iopub.status.busy": "2022-06-18T11:50:14.055513Z",
     "iopub.status.idle": "2022-06-18T11:50:14.096610Z",
     "shell.execute_reply": "2022-06-18T11:50:14.093417Z"
    },
    "papermill": {
     "duration": 0.050164,
     "end_time": "2022-06-18T11:50:14.098494",
     "exception": false,
     "start_time": "2022-06-18T11:50:14.048330",
     "status": "completed"
    },
    "tags": []
   },
   "outputs": [],
   "source": [
    "gene_corrs_corrected <- CorrectCM(gene_corrs, 1)"
   ]
  },
  {
   "cell_type": "code",
   "execution_count": 22,
   "id": "03c86284-5aac-4f66-86cc-74eb97102a7e",
   "metadata": {
    "execution": {
     "iopub.execute_input": "2022-06-18T11:50:14.127796Z",
     "iopub.status.busy": "2022-06-18T11:50:14.122140Z",
     "iopub.status.idle": "2022-06-18T11:50:14.145128Z",
     "shell.execute_reply": "2022-06-18T11:50:14.142872Z"
    },
    "papermill": {
     "duration": 0.041808,
     "end_time": "2022-06-18T11:50:14.146630",
     "exception": false,
     "start_time": "2022-06-18T11:50:14.104822",
     "status": "completed"
    },
    "tags": []
   },
   "outputs": [],
   "source": [
    "dimnames(gene_corrs_corrected)[[1]] <- rownames(gene_corrs)"
   ]
  },
  {
   "cell_type": "code",
   "execution_count": 23,
   "id": "576e7069-25ff-473d-8158-35b5f2ff212e",
   "metadata": {
    "execution": {
     "iopub.execute_input": "2022-06-18T11:50:14.169366Z",
     "iopub.status.busy": "2022-06-18T11:50:14.168372Z",
     "iopub.status.idle": "2022-06-18T11:50:14.179169Z",
     "shell.execute_reply": "2022-06-18T11:50:14.178080Z"
    },
    "papermill": {
     "duration": 0.027831,
     "end_time": "2022-06-18T11:50:14.180692",
     "exception": false,
     "start_time": "2022-06-18T11:50:14.152861",
     "status": "completed"
    },
    "tags": []
   },
   "outputs": [],
   "source": [
    "dimnames(gene_corrs_corrected)[[2]] <- colnames(gene_corrs)"
   ]
  },
  {
   "cell_type": "code",
   "execution_count": 24,
   "id": "f77d043a-321d-447f-8da5-2503981d3e73",
   "metadata": {
    "execution": {
     "iopub.execute_input": "2022-06-18T11:50:14.194886Z",
     "iopub.status.busy": "2022-06-18T11:50:14.193933Z",
     "iopub.status.idle": "2022-06-18T11:50:14.203439Z",
     "shell.execute_reply": "2022-06-18T11:50:14.202326Z"
    },
    "papermill": {
     "duration": 0.018081,
     "end_time": "2022-06-18T11:50:14.204991",
     "exception": false,
     "start_time": "2022-06-18T11:50:14.186910",
     "status": "completed"
    },
    "tags": []
   },
   "outputs": [],
   "source": [
    "gene_corrs_corrected <- as.data.frame(gene_corrs_corrected)"
   ]
  },
  {
   "cell_type": "code",
   "execution_count": 25,
   "id": "3e844024-f9a2-42a2-bbd0-695cfdbb78f5",
   "metadata": {
    "execution": {
     "iopub.execute_input": "2022-06-18T11:50:14.219712Z",
     "iopub.status.busy": "2022-06-18T11:50:14.218727Z",
     "iopub.status.idle": "2022-06-18T11:50:14.229220Z",
     "shell.execute_reply": "2022-06-18T11:50:14.228039Z"
    },
    "papermill": {
     "duration": 0.019236,
     "end_time": "2022-06-18T11:50:14.230819",
     "exception": false,
     "start_time": "2022-06-18T11:50:14.211583",
     "status": "completed"
    },
    "tags": []
   },
   "outputs": [
    {
     "data": {
      "text/html": [
       "<style>\n",
       ".list-inline {list-style: none; margin:0; padding: 0}\n",
       ".list-inline>li {display: inline-block}\n",
       ".list-inline>li:not(:last-child)::after {content: \"\\00b7\"; padding: 0 .5ex}\n",
       "</style>\n",
       "<ol class=list-inline><li>245</li><li>245</li></ol>\n"
      ],
      "text/latex": [
       "\\begin{enumerate*}\n",
       "\\item 245\n",
       "\\item 245\n",
       "\\end{enumerate*}\n"
      ],
      "text/markdown": [
       "1. 245\n",
       "2. 245\n",
       "\n",
       "\n"
      ],
      "text/plain": [
       "[1] 245 245"
      ]
     },
     "metadata": {},
     "output_type": "display_data"
    }
   ],
   "source": [
    "dim(gene_corrs_corrected)"
   ]
  },
  {
   "cell_type": "markdown",
   "id": "244b6bde-4ca8-46d1-acc7-b4c35b5d3c62",
   "metadata": {
    "papermill": {
     "duration": 0.006439,
     "end_time": "2022-06-18T11:50:14.243879",
     "exception": false,
     "start_time": "2022-06-18T11:50:14.237440",
     "status": "completed"
    },
    "tags": []
   },
   "source": [
    "# Check positive definiteness of corrected matrix"
   ]
  },
  {
   "cell_type": "code",
   "execution_count": 26,
   "id": "0fd5b688-e137-4619-910c-35130d32d600",
   "metadata": {
    "execution": {
     "iopub.execute_input": "2022-06-18T11:50:14.258577Z",
     "iopub.status.busy": "2022-06-18T11:50:14.257599Z",
     "iopub.status.idle": "2022-06-18T11:50:14.288428Z",
     "shell.execute_reply": "2022-06-18T11:50:14.287241Z"
    },
    "papermill": {
     "duration": 0.039631,
     "end_time": "2022-06-18T11:50:14.289876",
     "exception": false,
     "start_time": "2022-06-18T11:50:14.250245",
     "status": "completed"
    },
    "tags": []
   },
   "outputs": [
    {
     "data": {
      "text/html": [
       "'Matrix is already positive definite!'"
      ],
      "text/latex": [
       "'Matrix is already positive definite!'"
      ],
      "text/markdown": [
       "'Matrix is already positive definite!'"
      ],
      "text/plain": [
       "[1] \"Matrix is already positive definite!\""
      ]
     },
     "metadata": {},
     "output_type": "display_data"
    },
    {
     "data": {
      "text/html": [
       "TRUE"
      ],
      "text/latex": [
       "TRUE"
      ],
      "text/markdown": [
       "TRUE"
      ],
      "text/plain": [
       "[1] TRUE"
      ]
     },
     "metadata": {},
     "output_type": "display_data"
    }
   ],
   "source": [
    "is_positive_definite(gene_corrs_corrected)"
   ]
  },
  {
   "cell_type": "code",
   "execution_count": 27,
   "id": "06d23ab8-bebb-474c-be33-dca7e53c1717",
   "metadata": {
    "execution": {
     "iopub.execute_input": "2022-06-18T11:50:14.316852Z",
     "iopub.status.busy": "2022-06-18T11:50:14.315862Z",
     "iopub.status.idle": "2022-06-18T11:50:14.384744Z",
     "shell.execute_reply": "2022-06-18T11:50:14.380267Z"
    },
    "papermill": {
     "duration": 0.086137,
     "end_time": "2022-06-18T11:50:14.386709",
     "exception": false,
     "start_time": "2022-06-18T11:50:14.300572",
     "status": "completed"
    },
    "tags": []
   },
   "outputs": [],
   "source": [
    "# see eigenvalues\n",
    "eigenvalues <- eigen(gene_corrs_corrected)$values"
   ]
  },
  {
   "cell_type": "code",
   "execution_count": 28,
   "id": "ddf8afb8-e0e2-4b4e-876d-12bd6856c1ad",
   "metadata": {
    "execution": {
     "iopub.execute_input": "2022-06-18T11:50:14.411681Z",
     "iopub.status.busy": "2022-06-18T11:50:14.410551Z",
     "iopub.status.idle": "2022-06-18T11:50:14.453783Z",
     "shell.execute_reply": "2022-06-18T11:50:14.450232Z"
    },
    "papermill": {
     "duration": 0.05557,
     "end_time": "2022-06-18T11:50:14.456684",
     "exception": false,
     "start_time": "2022-06-18T11:50:14.401114",
     "status": "completed"
    },
    "tags": []
   },
   "outputs": [
    {
     "data": {
      "text/html": [
       "0"
      ],
      "text/latex": [
       "0"
      ],
      "text/markdown": [
       "0"
      ],
      "text/plain": [
       "[1] 0"
      ]
     },
     "metadata": {},
     "output_type": "display_data"
    },
    {
     "data": {
      "text/html": [],
      "text/latex": [],
      "text/markdown": [],
      "text/plain": [
       "numeric(0)"
      ]
     },
     "metadata": {},
     "output_type": "display_data"
    }
   ],
   "source": [
    "nonpositive_eigenvalues <- eigenvalues[eigenvalues <= 0]\n",
    "IRdisplay::display(length(nonpositive_eigenvalues))\n",
    "IRdisplay::display(nonpositive_eigenvalues)"
   ]
  },
  {
   "cell_type": "code",
   "execution_count": 29,
   "id": "712fd71a-b6ec-4a13-a956-80c99be7f585",
   "metadata": {
    "execution": {
     "iopub.execute_input": "2022-06-18T11:50:14.473844Z",
     "iopub.status.busy": "2022-06-18T11:50:14.472820Z",
     "iopub.status.idle": "2022-06-18T11:50:14.481556Z",
     "shell.execute_reply": "2022-06-18T11:50:14.480382Z"
    },
    "papermill": {
     "duration": 0.018213,
     "end_time": "2022-06-18T11:50:14.483201",
     "exception": false,
     "start_time": "2022-06-18T11:50:14.464988",
     "status": "completed"
    },
    "tags": []
   },
   "outputs": [],
   "source": [
    "stopifnot(length(eigenvalues[eigenvalues <= 0]) == 0)"
   ]
  },
  {
   "cell_type": "code",
   "execution_count": 30,
   "id": "786d6336-3844-40f7-979b-6d6028787f7f",
   "metadata": {
    "execution": {
     "iopub.execute_input": "2022-06-18T11:50:14.499806Z",
     "iopub.status.busy": "2022-06-18T11:50:14.498745Z",
     "iopub.status.idle": "2022-06-18T11:50:14.527278Z",
     "shell.execute_reply": "2022-06-18T11:50:14.526039Z"
    },
    "papermill": {
     "duration": 0.038346,
     "end_time": "2022-06-18T11:50:14.529005",
     "exception": false,
     "start_time": "2022-06-18T11:50:14.490659",
     "status": "completed"
    },
    "tags": []
   },
   "outputs": [
    {
     "data": {
      "text/html": [
       "<table class=\"dataframe\">\n",
       "<caption>A data.frame: 6 × 10</caption>\n",
       "<thead>\n",
       "\t<tr><th></th><th scope=col>ENSG00000107099</th><th scope=col>ENSG00000080503</th><th scope=col>ENSG00000147852</th><th scope=col>ENSG00000107249</th><th scope=col>ENSG00000147853</th><th scope=col>ENSG00000096968</th><th scope=col>ENSG00000107014</th><th scope=col>ENSG00000120217</th><th scope=col>ENSG00000197646</th><th scope=col>ENSG00000178445</th></tr>\n",
       "\t<tr><th></th><th scope=col>&lt;dbl&gt;</th><th scope=col>&lt;dbl&gt;</th><th scope=col>&lt;dbl&gt;</th><th scope=col>&lt;dbl&gt;</th><th scope=col>&lt;dbl&gt;</th><th scope=col>&lt;dbl&gt;</th><th scope=col>&lt;dbl&gt;</th><th scope=col>&lt;dbl&gt;</th><th scope=col>&lt;dbl&gt;</th><th scope=col>&lt;dbl&gt;</th></tr>\n",
       "</thead>\n",
       "<tbody>\n",
       "\t<tr><th scope=row>ENSG00000107099</th><td> 1.00000000</td><td> 0.027098800</td><td>-0.06273439</td><td>-0.094130444</td><td> 0.02692886</td><td> 0.02801359</td><td>-0.072436548</td><td>-0.001007194</td><td>0.00000000</td><td> 0.00000000</td></tr>\n",
       "\t<tr><th scope=row>ENSG00000080503</th><td> 0.02709880</td><td> 1.000000000</td><td>-0.04390768</td><td> 0.003128435</td><td> 0.02638727</td><td>-0.06732638</td><td>-0.037079488</td><td>-0.013919870</td><td>0.03819637</td><td>-0.01490507</td></tr>\n",
       "\t<tr><th scope=row>ENSG00000147852</th><td>-0.06273439</td><td>-0.043907679</td><td> 1.00000000</td><td>-0.027363007</td><td>-0.03211562</td><td>-0.03626737</td><td>-0.029817275</td><td>-0.067241235</td><td>0.01200454</td><td> 0.05222454</td></tr>\n",
       "\t<tr><th scope=row>ENSG00000107249</th><td>-0.09413044</td><td> 0.003128435</td><td>-0.02736301</td><td> 1.000000000</td><td> 0.02136621</td><td> 0.05914285</td><td>-0.008832756</td><td>-0.048457855</td><td>0.07372137</td><td> 0.01881659</td></tr>\n",
       "\t<tr><th scope=row>ENSG00000147853</th><td> 0.02692886</td><td> 0.026387275</td><td>-0.03211562</td><td> 0.021366208</td><td> 1.00000000</td><td> 0.04676392</td><td> 0.107088101</td><td> 0.016461678</td><td>0.18127560</td><td> 0.06369230</td></tr>\n",
       "\t<tr><th scope=row>ENSG00000096968</th><td> 0.02801359</td><td>-0.067326383</td><td>-0.03626737</td><td> 0.059142849</td><td> 0.04676392</td><td> 1.00000000</td><td>-0.056621742</td><td> 0.035003523</td><td>0.07063224</td><td> 0.01039246</td></tr>\n",
       "</tbody>\n",
       "</table>\n"
      ],
      "text/latex": [
       "A data.frame: 6 × 10\n",
       "\\begin{tabular}{r|llllllllll}\n",
       "  & ENSG00000107099 & ENSG00000080503 & ENSG00000147852 & ENSG00000107249 & ENSG00000147853 & ENSG00000096968 & ENSG00000107014 & ENSG00000120217 & ENSG00000197646 & ENSG00000178445\\\\\n",
       "  & <dbl> & <dbl> & <dbl> & <dbl> & <dbl> & <dbl> & <dbl> & <dbl> & <dbl> & <dbl>\\\\\n",
       "\\hline\n",
       "\tENSG00000107099 &  1.00000000 &  0.027098800 & -0.06273439 & -0.094130444 &  0.02692886 &  0.02801359 & -0.072436548 & -0.001007194 & 0.00000000 &  0.00000000\\\\\n",
       "\tENSG00000080503 &  0.02709880 &  1.000000000 & -0.04390768 &  0.003128435 &  0.02638727 & -0.06732638 & -0.037079488 & -0.013919870 & 0.03819637 & -0.01490507\\\\\n",
       "\tENSG00000147852 & -0.06273439 & -0.043907679 &  1.00000000 & -0.027363007 & -0.03211562 & -0.03626737 & -0.029817275 & -0.067241235 & 0.01200454 &  0.05222454\\\\\n",
       "\tENSG00000107249 & -0.09413044 &  0.003128435 & -0.02736301 &  1.000000000 &  0.02136621 &  0.05914285 & -0.008832756 & -0.048457855 & 0.07372137 &  0.01881659\\\\\n",
       "\tENSG00000147853 &  0.02692886 &  0.026387275 & -0.03211562 &  0.021366208 &  1.00000000 &  0.04676392 &  0.107088101 &  0.016461678 & 0.18127560 &  0.06369230\\\\\n",
       "\tENSG00000096968 &  0.02801359 & -0.067326383 & -0.03626737 &  0.059142849 &  0.04676392 &  1.00000000 & -0.056621742 &  0.035003523 & 0.07063224 &  0.01039246\\\\\n",
       "\\end{tabular}\n"
      ],
      "text/markdown": [
       "\n",
       "A data.frame: 6 × 10\n",
       "\n",
       "| <!--/--> | ENSG00000107099 &lt;dbl&gt; | ENSG00000080503 &lt;dbl&gt; | ENSG00000147852 &lt;dbl&gt; | ENSG00000107249 &lt;dbl&gt; | ENSG00000147853 &lt;dbl&gt; | ENSG00000096968 &lt;dbl&gt; | ENSG00000107014 &lt;dbl&gt; | ENSG00000120217 &lt;dbl&gt; | ENSG00000197646 &lt;dbl&gt; | ENSG00000178445 &lt;dbl&gt; |\n",
       "|---|---|---|---|---|---|---|---|---|---|---|\n",
       "| ENSG00000107099 |  1.00000000 |  0.027098800 | -0.06273439 | -0.094130444 |  0.02692886 |  0.02801359 | -0.072436548 | -0.001007194 | 0.00000000 |  0.00000000 |\n",
       "| ENSG00000080503 |  0.02709880 |  1.000000000 | -0.04390768 |  0.003128435 |  0.02638727 | -0.06732638 | -0.037079488 | -0.013919870 | 0.03819637 | -0.01490507 |\n",
       "| ENSG00000147852 | -0.06273439 | -0.043907679 |  1.00000000 | -0.027363007 | -0.03211562 | -0.03626737 | -0.029817275 | -0.067241235 | 0.01200454 |  0.05222454 |\n",
       "| ENSG00000107249 | -0.09413044 |  0.003128435 | -0.02736301 |  1.000000000 |  0.02136621 |  0.05914285 | -0.008832756 | -0.048457855 | 0.07372137 |  0.01881659 |\n",
       "| ENSG00000147853 |  0.02692886 |  0.026387275 | -0.03211562 |  0.021366208 |  1.00000000 |  0.04676392 |  0.107088101 |  0.016461678 | 0.18127560 |  0.06369230 |\n",
       "| ENSG00000096968 |  0.02801359 | -0.067326383 | -0.03626737 |  0.059142849 |  0.04676392 |  1.00000000 | -0.056621742 |  0.035003523 | 0.07063224 |  0.01039246 |\n",
       "\n"
      ],
      "text/plain": [
       "                ENSG00000107099 ENSG00000080503 ENSG00000147852 ENSG00000107249\n",
       "ENSG00000107099  1.00000000      0.027098800    -0.06273439     -0.094130444   \n",
       "ENSG00000080503  0.02709880      1.000000000    -0.04390768      0.003128435   \n",
       "ENSG00000147852 -0.06273439     -0.043907679     1.00000000     -0.027363007   \n",
       "ENSG00000107249 -0.09413044      0.003128435    -0.02736301      1.000000000   \n",
       "ENSG00000147853  0.02692886      0.026387275    -0.03211562      0.021366208   \n",
       "ENSG00000096968  0.02801359     -0.067326383    -0.03626737      0.059142849   \n",
       "                ENSG00000147853 ENSG00000096968 ENSG00000107014 ENSG00000120217\n",
       "ENSG00000107099  0.02692886      0.02801359     -0.072436548    -0.001007194   \n",
       "ENSG00000080503  0.02638727     -0.06732638     -0.037079488    -0.013919870   \n",
       "ENSG00000147852 -0.03211562     -0.03626737     -0.029817275    -0.067241235   \n",
       "ENSG00000107249  0.02136621      0.05914285     -0.008832756    -0.048457855   \n",
       "ENSG00000147853  1.00000000      0.04676392      0.107088101     0.016461678   \n",
       "ENSG00000096968  0.04676392      1.00000000     -0.056621742     0.035003523   \n",
       "                ENSG00000197646 ENSG00000178445\n",
       "ENSG00000107099 0.00000000       0.00000000    \n",
       "ENSG00000080503 0.03819637      -0.01490507    \n",
       "ENSG00000147852 0.01200454       0.05222454    \n",
       "ENSG00000107249 0.07372137       0.01881659    \n",
       "ENSG00000147853 0.18127560       0.06369230    \n",
       "ENSG00000096968 0.07063224       0.01039246    "
      ]
     },
     "metadata": {},
     "output_type": "display_data"
    },
    {
     "data": {
      "text/html": [
       "<table class=\"dataframe\">\n",
       "<caption>A data.frame: 6 × 10</caption>\n",
       "<thead>\n",
       "\t<tr><th></th><th scope=col>ENSG00000107099</th><th scope=col>ENSG00000080503</th><th scope=col>ENSG00000147852</th><th scope=col>ENSG00000107249</th><th scope=col>ENSG00000147853</th><th scope=col>ENSG00000096968</th><th scope=col>ENSG00000107014</th><th scope=col>ENSG00000120217</th><th scope=col>ENSG00000197646</th><th scope=col>ENSG00000178445</th></tr>\n",
       "\t<tr><th></th><th scope=col>&lt;dbl&gt;</th><th scope=col>&lt;dbl&gt;</th><th scope=col>&lt;dbl&gt;</th><th scope=col>&lt;dbl&gt;</th><th scope=col>&lt;dbl&gt;</th><th scope=col>&lt;dbl&gt;</th><th scope=col>&lt;dbl&gt;</th><th scope=col>&lt;dbl&gt;</th><th scope=col>&lt;dbl&gt;</th><th scope=col>&lt;dbl&gt;</th></tr>\n",
       "</thead>\n",
       "<tbody>\n",
       "\t<tr><th scope=row>ENSG00000107099</th><td> 1.0000000000</td><td> 0.023726005</td><td>-0.030421178</td><td>-0.034444838</td><td>-0.0004550003</td><td> 0.01106976</td><td>-0.031475617</td><td> 0.005586249</td><td> 0.001109964</td><td>-0.002473714</td></tr>\n",
       "\t<tr><th scope=row>ENSG00000080503</th><td> 0.0237260048</td><td> 1.000000000</td><td>-0.007374758</td><td>-0.002320276</td><td> 0.0236652657</td><td>-0.02073776</td><td>-0.006962422</td><td>-0.012007726</td><td> 0.011957597</td><td>-0.013373576</td></tr>\n",
       "\t<tr><th scope=row>ENSG00000147852</th><td>-0.0304211775</td><td>-0.007374758</td><td> 1.000000000</td><td> 0.006055768</td><td>-0.0195309952</td><td>-0.02511398</td><td>-0.014610909</td><td>-0.028170224</td><td>-0.011362604</td><td> 0.011299695</td></tr>\n",
       "\t<tr><th scope=row>ENSG00000107249</th><td>-0.0344448384</td><td>-0.002320276</td><td> 0.006055768</td><td> 1.000000000</td><td> 0.0269569405</td><td> 0.03023526</td><td>-0.002566213</td><td>-0.007391932</td><td> 0.035076681</td><td> 0.010279749</td></tr>\n",
       "\t<tr><th scope=row>ENSG00000147853</th><td>-0.0004550003</td><td> 0.023665266</td><td>-0.019530995</td><td> 0.026956940</td><td> 1.0000000000</td><td> 0.02229364</td><td> 0.036409737</td><td> 0.062512050</td><td> 0.093616523</td><td> 0.048330347</td></tr>\n",
       "\t<tr><th scope=row>ENSG00000096968</th><td> 0.0110697621</td><td>-0.020737764</td><td>-0.025113982</td><td> 0.030235261</td><td> 0.0222936376</td><td> 1.00000000</td><td>-0.019612851</td><td> 0.026863488</td><td> 0.045336456</td><td> 0.031954543</td></tr>\n",
       "</tbody>\n",
       "</table>\n"
      ],
      "text/latex": [
       "A data.frame: 6 × 10\n",
       "\\begin{tabular}{r|llllllllll}\n",
       "  & ENSG00000107099 & ENSG00000080503 & ENSG00000147852 & ENSG00000107249 & ENSG00000147853 & ENSG00000096968 & ENSG00000107014 & ENSG00000120217 & ENSG00000197646 & ENSG00000178445\\\\\n",
       "  & <dbl> & <dbl> & <dbl> & <dbl> & <dbl> & <dbl> & <dbl> & <dbl> & <dbl> & <dbl>\\\\\n",
       "\\hline\n",
       "\tENSG00000107099 &  1.0000000000 &  0.023726005 & -0.030421178 & -0.034444838 & -0.0004550003 &  0.01106976 & -0.031475617 &  0.005586249 &  0.001109964 & -0.002473714\\\\\n",
       "\tENSG00000080503 &  0.0237260048 &  1.000000000 & -0.007374758 & -0.002320276 &  0.0236652657 & -0.02073776 & -0.006962422 & -0.012007726 &  0.011957597 & -0.013373576\\\\\n",
       "\tENSG00000147852 & -0.0304211775 & -0.007374758 &  1.000000000 &  0.006055768 & -0.0195309952 & -0.02511398 & -0.014610909 & -0.028170224 & -0.011362604 &  0.011299695\\\\\n",
       "\tENSG00000107249 & -0.0344448384 & -0.002320276 &  0.006055768 &  1.000000000 &  0.0269569405 &  0.03023526 & -0.002566213 & -0.007391932 &  0.035076681 &  0.010279749\\\\\n",
       "\tENSG00000147853 & -0.0004550003 &  0.023665266 & -0.019530995 &  0.026956940 &  1.0000000000 &  0.02229364 &  0.036409737 &  0.062512050 &  0.093616523 &  0.048330347\\\\\n",
       "\tENSG00000096968 &  0.0110697621 & -0.020737764 & -0.025113982 &  0.030235261 &  0.0222936376 &  1.00000000 & -0.019612851 &  0.026863488 &  0.045336456 &  0.031954543\\\\\n",
       "\\end{tabular}\n"
      ],
      "text/markdown": [
       "\n",
       "A data.frame: 6 × 10\n",
       "\n",
       "| <!--/--> | ENSG00000107099 &lt;dbl&gt; | ENSG00000080503 &lt;dbl&gt; | ENSG00000147852 &lt;dbl&gt; | ENSG00000107249 &lt;dbl&gt; | ENSG00000147853 &lt;dbl&gt; | ENSG00000096968 &lt;dbl&gt; | ENSG00000107014 &lt;dbl&gt; | ENSG00000120217 &lt;dbl&gt; | ENSG00000197646 &lt;dbl&gt; | ENSG00000178445 &lt;dbl&gt; |\n",
       "|---|---|---|---|---|---|---|---|---|---|---|\n",
       "| ENSG00000107099 |  1.0000000000 |  0.023726005 | -0.030421178 | -0.034444838 | -0.0004550003 |  0.01106976 | -0.031475617 |  0.005586249 |  0.001109964 | -0.002473714 |\n",
       "| ENSG00000080503 |  0.0237260048 |  1.000000000 | -0.007374758 | -0.002320276 |  0.0236652657 | -0.02073776 | -0.006962422 | -0.012007726 |  0.011957597 | -0.013373576 |\n",
       "| ENSG00000147852 | -0.0304211775 | -0.007374758 |  1.000000000 |  0.006055768 | -0.0195309952 | -0.02511398 | -0.014610909 | -0.028170224 | -0.011362604 |  0.011299695 |\n",
       "| ENSG00000107249 | -0.0344448384 | -0.002320276 |  0.006055768 |  1.000000000 |  0.0269569405 |  0.03023526 | -0.002566213 | -0.007391932 |  0.035076681 |  0.010279749 |\n",
       "| ENSG00000147853 | -0.0004550003 |  0.023665266 | -0.019530995 |  0.026956940 |  1.0000000000 |  0.02229364 |  0.036409737 |  0.062512050 |  0.093616523 |  0.048330347 |\n",
       "| ENSG00000096968 |  0.0110697621 | -0.020737764 | -0.025113982 |  0.030235261 |  0.0222936376 |  1.00000000 | -0.019612851 |  0.026863488 |  0.045336456 |  0.031954543 |\n",
       "\n"
      ],
      "text/plain": [
       "                ENSG00000107099 ENSG00000080503 ENSG00000147852 ENSG00000107249\n",
       "ENSG00000107099  1.0000000000    0.023726005    -0.030421178    -0.034444838   \n",
       "ENSG00000080503  0.0237260048    1.000000000    -0.007374758    -0.002320276   \n",
       "ENSG00000147852 -0.0304211775   -0.007374758     1.000000000     0.006055768   \n",
       "ENSG00000107249 -0.0344448384   -0.002320276     0.006055768     1.000000000   \n",
       "ENSG00000147853 -0.0004550003    0.023665266    -0.019530995     0.026956940   \n",
       "ENSG00000096968  0.0110697621   -0.020737764    -0.025113982     0.030235261   \n",
       "                ENSG00000147853 ENSG00000096968 ENSG00000107014 ENSG00000120217\n",
       "ENSG00000107099 -0.0004550003    0.01106976     -0.031475617     0.005586249   \n",
       "ENSG00000080503  0.0236652657   -0.02073776     -0.006962422    -0.012007726   \n",
       "ENSG00000147852 -0.0195309952   -0.02511398     -0.014610909    -0.028170224   \n",
       "ENSG00000107249  0.0269569405    0.03023526     -0.002566213    -0.007391932   \n",
       "ENSG00000147853  1.0000000000    0.02229364      0.036409737     0.062512050   \n",
       "ENSG00000096968  0.0222936376    1.00000000     -0.019612851     0.026863488   \n",
       "                ENSG00000197646 ENSG00000178445\n",
       "ENSG00000107099  0.001109964    -0.002473714   \n",
       "ENSG00000080503  0.011957597    -0.013373576   \n",
       "ENSG00000147852 -0.011362604     0.011299695   \n",
       "ENSG00000107249  0.035076681     0.010279749   \n",
       "ENSG00000147853  0.093616523     0.048330347   \n",
       "ENSG00000096968  0.045336456     0.031954543   "
      ]
     },
     "metadata": {},
     "output_type": "display_data"
    }
   ],
   "source": [
    "# quick and visual comparison of the two matrices\n",
    "IRdisplay::display(head(gene_corrs[1:10, 1:10]))\n",
    "IRdisplay::display(head(gene_corrs_corrected[1:10, 1:10]))"
   ]
  },
  {
   "cell_type": "markdown",
   "id": "c6c40f1a-d153-475a-94eb-c71697ad9d51",
   "metadata": {
    "papermill": {
     "duration": 0.008749,
     "end_time": "2022-06-18T11:50:14.558254",
     "exception": false,
     "start_time": "2022-06-18T11:50:14.549505",
     "status": "completed"
    },
    "tags": []
   },
   "source": [
    "Both matrices should \"look\" similar. We are not interested in perfectly accurate correlation values (they are already inaccurate)."
   ]
  },
  {
   "cell_type": "markdown",
   "id": "bf0f49cb-9c21-4616-8390-bb68d52dae56",
   "metadata": {
    "papermill": {
     "duration": 0.008636,
     "end_time": "2022-06-18T11:50:14.575470",
     "exception": false,
     "start_time": "2022-06-18T11:50:14.566834",
     "status": "completed"
    },
    "tags": []
   },
   "source": [
    "# Save"
   ]
  },
  {
   "cell_type": "code",
   "execution_count": 31,
   "id": "2e58e7f3-a75c-4195-a20e-39e3e3e1cc9a",
   "metadata": {
    "execution": {
     "iopub.execute_input": "2022-06-18T11:50:14.595024Z",
     "iopub.status.busy": "2022-06-18T11:50:14.593822Z",
     "iopub.status.idle": "2022-06-18T11:50:14.617836Z",
     "shell.execute_reply": "2022-06-18T11:50:14.616517Z"
    },
    "papermill": {
     "duration": 0.03549,
     "end_time": "2022-06-18T11:50:14.619634",
     "exception": false,
     "start_time": "2022-06-18T11:50:14.584144",
     "status": "completed"
    },
    "tags": []
   },
   "outputs": [],
   "source": [
    "py_save_object(gene_corrs_corrected, OUTPUT_FILE)"
   ]
  },
  {
   "cell_type": "code",
   "execution_count": null,
   "id": "d8ae4220-2171-460c-9231-cd5219f3fe77",
   "metadata": {
    "papermill": {
     "duration": 0.007728,
     "end_time": "2022-06-18T11:50:14.635586",
     "exception": false,
     "start_time": "2022-06-18T11:50:14.627858",
     "status": "completed"
    },
    "tags": []
   },
   "outputs": [],
   "source": []
  }
 ],
 "metadata": {
  "jupytext": {
   "cell_metadata_filter": "all,-execution,-papermill,-trusted"
  },
  "kernelspec": {
   "display_name": "R",
   "language": "R",
   "name": "ir"
  },
  "language_info": {
   "codemirror_mode": "r",
   "file_extension": ".r",
   "mimetype": "text/x-r-source",
   "name": "R",
   "pygments_lexer": "r",
   "version": "3.6.3"
  },
  "papermill": {
   "default_parameters": {},
   "duration": 6.29791,
   "end_time": "2022-06-18T11:50:14.760800",
   "environment_variables": {},
   "exception": null,
   "input_path": "nbs/15_gsa_gls/12-gene_expr_correlations-adjust.ipynb",
   "output_path": "nbs/15_gsa_gls/gene_corrs/gtex_v8/mashr/12-gene_expr_correlations-adjust-chr9.run.ipynb",
   "parameters": {
    "EQTL_MODEL": "MASHR",
    "REFERENCE_PANEL": "GTEX_V8",
    "chromosome": 9
   },
   "start_time": "2022-06-18T11:50:08.462890",
   "version": "2.3.4"
  }
 },
 "nbformat": 4,
 "nbformat_minor": 5
}
