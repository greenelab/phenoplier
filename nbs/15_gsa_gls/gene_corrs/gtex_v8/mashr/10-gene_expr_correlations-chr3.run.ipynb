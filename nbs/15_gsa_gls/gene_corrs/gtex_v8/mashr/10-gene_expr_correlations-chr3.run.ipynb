{
 "cells": [
  {
   "cell_type": "markdown",
   "id": "7a6632fb",
   "metadata": {
    "papermill": {
     "duration": 0.006138,
     "end_time": "2022-06-15T19:52:39.269576",
     "exception": false,
     "start_time": "2022-06-15T19:52:39.263438",
     "status": "completed"
    },
    "tags": []
   },
   "source": [
    "# Description"
   ]
  },
  {
   "cell_type": "markdown",
   "id": "7097c346",
   "metadata": {
    "papermill": {
     "duration": 0.005258,
     "end_time": "2022-06-15T19:52:39.280937",
     "exception": false,
     "start_time": "2022-06-15T19:52:39.275679",
     "status": "completed"
    },
    "tags": []
   },
   "source": [
    "(Please, take a look at the README.md file in this directory for instructions on how to run this notebook)\n",
    "\n",
    "This notebook computes predicted expression correlations between all genes in the MultiPLIER models.\n",
    "\n",
    "It also has a parameter set for papermill to run on a single chromosome to run in parallel (see under `Settings` below).\n",
    "\n",
    "This notebook is not directly run. See README.md."
   ]
  },
  {
   "cell_type": "markdown",
   "id": "c61d8427",
   "metadata": {
    "papermill": {
     "duration": 0.004937,
     "end_time": "2022-06-15T19:52:39.291105",
     "exception": false,
     "start_time": "2022-06-15T19:52:39.286168",
     "status": "completed"
    },
    "tags": []
   },
   "source": [
    "# Modules"
   ]
  },
  {
   "cell_type": "code",
   "execution_count": 1,
   "id": "bbc0234f",
   "metadata": {
    "execution": {
     "iopub.execute_input": "2022-06-15T19:52:39.302008Z",
     "iopub.status.busy": "2022-06-15T19:52:39.301820Z",
     "iopub.status.idle": "2022-06-15T19:52:39.317478Z",
     "shell.execute_reply": "2022-06-15T19:52:39.317071Z"
    },
    "papermill": {
     "duration": 0.022943,
     "end_time": "2022-06-15T19:52:39.319090",
     "exception": false,
     "start_time": "2022-06-15T19:52:39.296147",
     "status": "completed"
    },
    "tags": []
   },
   "outputs": [],
   "source": [
    "%load_ext autoreload\n",
    "%autoreload 2"
   ]
  },
  {
   "cell_type": "code",
   "execution_count": 2,
   "id": "1d5f5a59",
   "metadata": {
    "execution": {
     "iopub.execute_input": "2022-06-15T19:52:39.338519Z",
     "iopub.status.busy": "2022-06-15T19:52:39.338367Z",
     "iopub.status.idle": "2022-06-15T19:52:40.261740Z",
     "shell.execute_reply": "2022-06-15T19:52:40.261114Z"
    },
    "papermill": {
     "duration": 0.939315,
     "end_time": "2022-06-15T19:52:40.263528",
     "exception": false,
     "start_time": "2022-06-15T19:52:39.324213",
     "status": "completed"
    },
    "tags": []
   },
   "outputs": [],
   "source": [
    "from random import sample\n",
    "import warnings\n",
    "\n",
    "import numpy as np\n",
    "from scipy.spatial.distance import squareform\n",
    "import pandas as pd\n",
    "from tqdm import tqdm\n",
    "import matplotlib.pyplot as plt\n",
    "import seaborn as sns\n",
    "\n",
    "import conf\n",
    "from entity import Gene"
   ]
  },
  {
   "cell_type": "markdown",
   "id": "1eac24b5",
   "metadata": {
    "papermill": {
     "duration": 0.006313,
     "end_time": "2022-06-15T19:52:40.307165",
     "exception": false,
     "start_time": "2022-06-15T19:52:40.300852",
     "status": "completed"
    },
    "tags": []
   },
   "source": [
    "# Settings"
   ]
  },
  {
   "cell_type": "code",
   "execution_count": 3,
   "id": "ca4560ba",
   "metadata": {
    "execution": {
     "iopub.execute_input": "2022-06-15T19:52:40.321010Z",
     "iopub.status.busy": "2022-06-15T19:52:40.320575Z",
     "iopub.status.idle": "2022-06-15T19:52:40.338359Z",
     "shell.execute_reply": "2022-06-15T19:52:40.337805Z"
    },
    "papermill": {
     "duration": 0.026362,
     "end_time": "2022-06-15T19:52:40.339879",
     "exception": false,
     "start_time": "2022-06-15T19:52:40.313517",
     "status": "completed"
    },
    "tags": [
     "parameters"
    ]
   },
   "outputs": [],
   "source": [
    "# reference panel\n",
    "REFERENCE_PANEL = \"GTEX_V8\"\n",
    "# REFERENCE_PANEL = \"1000G\"\n",
    "\n",
    "# prediction models\n",
    "## mashr\n",
    "EQTL_MODEL = \"MASHR\"\n",
    "EQTL_MODEL_FILES_PREFIX = \"mashr_\"\n",
    "\n",
    "# ## elastic net\n",
    "# EQTL_MODEL = \"ELASTIC_NET\"\n",
    "# EQTL_MODEL_FILES_PREFIX = \"en_\"\n",
    "\n",
    "# make it read the prefix from conf.py\n",
    "EQTL_MODEL_FILES_PREFIX = None\n",
    "\n",
    "# this is the default value used in S-MultiXcan to select the\n",
    "# top principal components of the expression correlation matrix\n",
    "SMULTIXCAN_CONDITION_NUMBER = 30\n",
    "\n",
    "# specifies a single chromosome value\n",
    "# by default, run on all chromosomes\n",
    "chromosome = None"
   ]
  },
  {
   "cell_type": "code",
   "execution_count": 4,
   "id": "6253aaf1",
   "metadata": {
    "execution": {
     "iopub.execute_input": "2022-06-15T19:52:40.354608Z",
     "iopub.status.busy": "2022-06-15T19:52:40.354409Z",
     "iopub.status.idle": "2022-06-15T19:52:40.370936Z",
     "shell.execute_reply": "2022-06-15T19:52:40.370444Z"
    },
    "papermill": {
     "duration": 0.026094,
     "end_time": "2022-06-15T19:52:40.372409",
     "exception": false,
     "start_time": "2022-06-15T19:52:40.346315",
     "status": "completed"
    },
    "tags": [
     "injected-parameters"
    ]
   },
   "outputs": [],
   "source": [
    "# Parameters\n",
    "chromosome = 3\n",
    "REFERENCE_PANEL = \"GTEX_V8\"\n",
    "EQTL_MODEL = \"MASHR\"\n"
   ]
  },
  {
   "cell_type": "code",
   "execution_count": 5,
   "id": "a089c9ff",
   "metadata": {
    "execution": {
     "iopub.execute_input": "2022-06-15T19:52:40.387324Z",
     "iopub.status.busy": "2022-06-15T19:52:40.385744Z",
     "iopub.status.idle": "2022-06-15T19:52:40.404192Z",
     "shell.execute_reply": "2022-06-15T19:52:40.403749Z"
    },
    "papermill": {
     "duration": 0.027127,
     "end_time": "2022-06-15T19:52:40.405618",
     "exception": false,
     "start_time": "2022-06-15T19:52:40.378491",
     "status": "completed"
    },
    "tags": []
   },
   "outputs": [],
   "source": [
    "if EQTL_MODEL_FILES_PREFIX is None:\n",
    "    EQTL_MODEL_FILES_PREFIX = conf.PHENOMEXCAN[\"PREDICTION_MODELS\"][\n",
    "        f\"{EQTL_MODEL}_PREFIX\"\n",
    "    ]"
   ]
  },
  {
   "cell_type": "code",
   "execution_count": 6,
   "id": "8fe24bef",
   "metadata": {
    "execution": {
     "iopub.execute_input": "2022-06-15T19:52:40.420016Z",
     "iopub.status.busy": "2022-06-15T19:52:40.418928Z",
     "iopub.status.idle": "2022-06-15T19:52:40.438759Z",
     "shell.execute_reply": "2022-06-15T19:52:40.438220Z"
    },
    "papermill": {
     "duration": 0.028636,
     "end_time": "2022-06-15T19:52:40.440190",
     "exception": false,
     "start_time": "2022-06-15T19:52:40.411554",
     "status": "completed"
    },
    "tags": []
   },
   "outputs": [
    {
     "data": {
      "text/plain": [
       "'Using eQTL model: MASHR / mashr_'"
      ]
     },
     "metadata": {},
     "output_type": "display_data"
    }
   ],
   "source": [
    "display(f\"Using eQTL model: {EQTL_MODEL} / {EQTL_MODEL_FILES_PREFIX}\")"
   ]
  },
  {
   "cell_type": "code",
   "execution_count": 7,
   "id": "0230ebcb-2c32-4b95-9292-d9a52038e70d",
   "metadata": {
    "execution": {
     "iopub.execute_input": "2022-06-15T19:52:40.465675Z",
     "iopub.status.busy": "2022-06-15T19:52:40.465434Z",
     "iopub.status.idle": "2022-06-15T19:52:40.485882Z",
     "shell.execute_reply": "2022-06-15T19:52:40.485019Z"
    },
    "papermill": {
     "duration": 0.041095,
     "end_time": "2022-06-15T19:52:40.487389",
     "exception": false,
     "start_time": "2022-06-15T19:52:40.446294",
     "status": "completed"
    },
    "tags": []
   },
   "outputs": [],
   "source": [
    "REFERENCE_PANEL_DIR = conf.PHENOMEXCAN[\"LD_BLOCKS\"][f\"{REFERENCE_PANEL}_GENOTYPE_DIR\"]"
   ]
  },
  {
   "cell_type": "code",
   "execution_count": 8,
   "id": "98c4a159-601d-4a22-a1ab-35bd451c25f9",
   "metadata": {
    "execution": {
     "iopub.execute_input": "2022-06-15T19:52:40.502238Z",
     "iopub.status.busy": "2022-06-15T19:52:40.501148Z",
     "iopub.status.idle": "2022-06-15T19:52:40.519742Z",
     "shell.execute_reply": "2022-06-15T19:52:40.519323Z"
    },
    "papermill": {
     "duration": 0.027796,
     "end_time": "2022-06-15T19:52:40.521130",
     "exception": false,
     "start_time": "2022-06-15T19:52:40.493334",
     "status": "completed"
    },
    "tags": []
   },
   "outputs": [
    {
     "data": {
      "text/plain": [
       "'Using reference panel folder: /opt/data/data/phenomexcan/ld_blocks/reference_panel_gtex_v8'"
      ]
     },
     "metadata": {},
     "output_type": "display_data"
    }
   ],
   "source": [
    "display(f\"Using reference panel folder: {str(REFERENCE_PANEL_DIR)}\")"
   ]
  },
  {
   "cell_type": "code",
   "execution_count": 9,
   "id": "396392dc-0340-4540-9b02-e182b833f909",
   "metadata": {
    "execution": {
     "iopub.execute_input": "2022-06-15T19:52:40.534527Z",
     "iopub.status.busy": "2022-06-15T19:52:40.534351Z",
     "iopub.status.idle": "2022-06-15T19:52:40.554819Z",
     "shell.execute_reply": "2022-06-15T19:52:40.551489Z"
    },
    "papermill": {
     "duration": 0.029017,
     "end_time": "2022-06-15T19:52:40.556473",
     "exception": false,
     "start_time": "2022-06-15T19:52:40.527456",
     "status": "completed"
    },
    "tags": []
   },
   "outputs": [],
   "source": [
    "OUTPUT_DIR_BASE = (\n",
    "    conf.PHENOMEXCAN[\"LD_BLOCKS\"][f\"GENE_CORRS_DIR\"]\n",
    "    / REFERENCE_PANEL.lower()\n",
    "    / EQTL_MODEL.lower()\n",
    ")\n",
    "OUTPUT_DIR_BASE.mkdir(parents=True, exist_ok=True)"
   ]
  },
  {
   "cell_type": "code",
   "execution_count": 10,
   "id": "8942c2d3-e53c-4d63-a0eb-b6fce0574d36",
   "metadata": {
    "execution": {
     "iopub.execute_input": "2022-06-15T19:52:40.569952Z",
     "iopub.status.busy": "2022-06-15T19:52:40.569775Z",
     "iopub.status.idle": "2022-06-15T19:52:40.586841Z",
     "shell.execute_reply": "2022-06-15T19:52:40.586307Z"
    },
    "papermill": {
     "duration": 0.025359,
     "end_time": "2022-06-15T19:52:40.588169",
     "exception": false,
     "start_time": "2022-06-15T19:52:40.562810",
     "status": "completed"
    },
    "tags": []
   },
   "outputs": [
    {
     "data": {
      "text/plain": [
       "'Using output dir base: /opt/data/data/phenomexcan/ld_blocks/gene_corrs/gtex_v8/mashr'"
      ]
     },
     "metadata": {},
     "output_type": "display_data"
    }
   ],
   "source": [
    "display(f\"Using output dir base: {OUTPUT_DIR_BASE}\")"
   ]
  },
  {
   "cell_type": "code",
   "execution_count": 11,
   "id": "408aa590",
   "metadata": {
    "execution": {
     "iopub.execute_input": "2022-06-15T19:52:40.603561Z",
     "iopub.status.busy": "2022-06-15T19:52:40.603379Z",
     "iopub.status.idle": "2022-06-15T19:52:40.619047Z",
     "shell.execute_reply": "2022-06-15T19:52:40.618510Z"
    },
    "papermill": {
     "duration": 0.025814,
     "end_time": "2022-06-15T19:52:40.620425",
     "exception": false,
     "start_time": "2022-06-15T19:52:40.594611",
     "status": "completed"
    },
    "tags": []
   },
   "outputs": [],
   "source": [
    "assert (\n",
    "    chromosome is not None\n",
    "), \"You have to select one chromosome (format: number between 1 and 22)\""
   ]
  },
  {
   "cell_type": "code",
   "execution_count": 12,
   "id": "c1c7dd06-80ff-453c-bcb7-0899edce75da",
   "metadata": {
    "execution": {
     "iopub.execute_input": "2022-06-15T19:52:40.634114Z",
     "iopub.status.busy": "2022-06-15T19:52:40.633800Z",
     "iopub.status.idle": "2022-06-15T19:52:40.649592Z",
     "shell.execute_reply": "2022-06-15T19:52:40.649099Z"
    },
    "papermill": {
     "duration": 0.024219,
     "end_time": "2022-06-15T19:52:40.651024",
     "exception": false,
     "start_time": "2022-06-15T19:52:40.626805",
     "status": "completed"
    },
    "tags": []
   },
   "outputs": [],
   "source": [
    "chromosome = str(chromosome)"
   ]
  },
  {
   "cell_type": "code",
   "execution_count": 13,
   "id": "bc17b84c-9c26-47a5-a3ab-7046e72f3ef4",
   "metadata": {
    "execution": {
     "iopub.execute_input": "2022-06-15T19:52:40.664355Z",
     "iopub.status.busy": "2022-06-15T19:52:40.664175Z",
     "iopub.status.idle": "2022-06-15T19:52:40.681518Z",
     "shell.execute_reply": "2022-06-15T19:52:40.681021Z"
    },
    "papermill": {
     "duration": 0.02575,
     "end_time": "2022-06-15T19:52:40.683039",
     "exception": false,
     "start_time": "2022-06-15T19:52:40.657289",
     "status": "completed"
    },
    "tags": []
   },
   "outputs": [
    {
     "data": {
      "text/plain": [
       "'Working on chromosome 3'"
      ]
     },
     "metadata": {},
     "output_type": "display_data"
    }
   ],
   "source": [
    "display(f\"Working on chromosome {chromosome}\")"
   ]
  },
  {
   "cell_type": "markdown",
   "id": "d2ba085e",
   "metadata": {
    "papermill": {
     "duration": 0.006421,
     "end_time": "2022-06-15T19:52:40.696123",
     "exception": false,
     "start_time": "2022-06-15T19:52:40.689702",
     "status": "completed"
    },
    "tags": []
   },
   "source": [
    "# Load data"
   ]
  },
  {
   "cell_type": "markdown",
   "id": "abcc4b3d",
   "metadata": {
    "papermill": {
     "duration": 0.006348,
     "end_time": "2022-06-15T19:52:40.709040",
     "exception": false,
     "start_time": "2022-06-15T19:52:40.702692",
     "status": "completed"
    },
    "tags": []
   },
   "source": [
    "## MultiPLIER Z"
   ]
  },
  {
   "cell_type": "code",
   "execution_count": 14,
   "id": "c48ef527",
   "metadata": {
    "execution": {
     "iopub.execute_input": "2022-06-15T19:52:40.727287Z",
     "iopub.status.busy": "2022-06-15T19:52:40.727094Z",
     "iopub.status.idle": "2022-06-15T19:52:40.770969Z",
     "shell.execute_reply": "2022-06-15T19:52:40.770455Z"
    },
    "papermill": {
     "duration": 0.05259,
     "end_time": "2022-06-15T19:52:40.772493",
     "exception": false,
     "start_time": "2022-06-15T19:52:40.719903",
     "status": "completed"
    },
    "tags": []
   },
   "outputs": [],
   "source": [
    "multiplier_z_genes = pd.read_pickle(\n",
    "    conf.MULTIPLIER[\"MODEL_Z_MATRIX_FILE\"]\n",
    ").index.tolist()"
   ]
  },
  {
   "cell_type": "code",
   "execution_count": 15,
   "id": "0a4ecbd9",
   "metadata": {
    "execution": {
     "iopub.execute_input": "2022-06-15T19:52:40.787939Z",
     "iopub.status.busy": "2022-06-15T19:52:40.787600Z",
     "iopub.status.idle": "2022-06-15T19:52:40.805472Z",
     "shell.execute_reply": "2022-06-15T19:52:40.804277Z"
    },
    "papermill": {
     "duration": 0.027534,
     "end_time": "2022-06-15T19:52:40.806862",
     "exception": false,
     "start_time": "2022-06-15T19:52:40.779328",
     "status": "completed"
    },
    "tags": []
   },
   "outputs": [
    {
     "data": {
      "text/plain": [
       "6750"
      ]
     },
     "execution_count": 15,
     "metadata": {},
     "output_type": "execute_result"
    }
   ],
   "source": [
    "len(multiplier_z_genes)"
   ]
  },
  {
   "cell_type": "code",
   "execution_count": 16,
   "id": "115e8864",
   "metadata": {
    "execution": {
     "iopub.execute_input": "2022-06-15T19:52:40.820608Z",
     "iopub.status.busy": "2022-06-15T19:52:40.820432Z",
     "iopub.status.idle": "2022-06-15T19:52:40.837915Z",
     "shell.execute_reply": "2022-06-15T19:52:40.837323Z"
    },
    "papermill": {
     "duration": 0.026001,
     "end_time": "2022-06-15T19:52:40.839406",
     "exception": false,
     "start_time": "2022-06-15T19:52:40.813405",
     "status": "completed"
    },
    "tags": []
   },
   "outputs": [
    {
     "data": {
      "text/plain": [
       "['GAS6',\n",
       " 'MMP14',\n",
       " 'DSP',\n",
       " 'MARCKSL1',\n",
       " 'SPARC',\n",
       " 'CTSD',\n",
       " 'EPAS1',\n",
       " 'PALLD',\n",
       " 'PHC2',\n",
       " 'LGALS3BP']"
      ]
     },
     "execution_count": 16,
     "metadata": {},
     "output_type": "execute_result"
    }
   ],
   "source": [
    "multiplier_z_genes[:10]"
   ]
  },
  {
   "cell_type": "markdown",
   "id": "7dcb8db7",
   "metadata": {
    "papermill": {
     "duration": 0.006514,
     "end_time": "2022-06-15T19:52:40.853867",
     "exception": false,
     "start_time": "2022-06-15T19:52:40.847353",
     "status": "completed"
    },
    "tags": []
   },
   "source": [
    "## Get gene objects"
   ]
  },
  {
   "cell_type": "code",
   "execution_count": 17,
   "id": "bb932812",
   "metadata": {
    "execution": {
     "iopub.execute_input": "2022-06-15T19:52:40.867785Z",
     "iopub.status.busy": "2022-06-15T19:52:40.867551Z",
     "iopub.status.idle": "2022-06-15T19:52:40.893076Z",
     "shell.execute_reply": "2022-06-15T19:52:40.892527Z"
    },
    "papermill": {
     "duration": 0.034208,
     "end_time": "2022-06-15T19:52:40.894519",
     "exception": false,
     "start_time": "2022-06-15T19:52:40.860311",
     "status": "completed"
    },
    "tags": []
   },
   "outputs": [],
   "source": [
    "multiplier_gene_obj = {\n",
    "    gene_name: Gene(name=gene_name)\n",
    "    for gene_name in multiplier_z_genes\n",
    "    if gene_name in Gene.GENE_NAME_TO_ID_MAP\n",
    "}"
   ]
  },
  {
   "cell_type": "code",
   "execution_count": 18,
   "id": "39533214",
   "metadata": {
    "execution": {
     "iopub.execute_input": "2022-06-15T19:52:40.909288Z",
     "iopub.status.busy": "2022-06-15T19:52:40.909064Z",
     "iopub.status.idle": "2022-06-15T19:52:40.926914Z",
     "shell.execute_reply": "2022-06-15T19:52:40.926286Z"
    },
    "papermill": {
     "duration": 0.02709,
     "end_time": "2022-06-15T19:52:40.928528",
     "exception": false,
     "start_time": "2022-06-15T19:52:40.901438",
     "status": "completed"
    },
    "tags": []
   },
   "outputs": [
    {
     "data": {
      "text/plain": [
       "6454"
      ]
     },
     "execution_count": 18,
     "metadata": {},
     "output_type": "execute_result"
    }
   ],
   "source": [
    "len(multiplier_gene_obj)"
   ]
  },
  {
   "cell_type": "code",
   "execution_count": 19,
   "id": "9a5d0b84",
   "metadata": {
    "execution": {
     "iopub.execute_input": "2022-06-15T19:52:40.943864Z",
     "iopub.status.busy": "2022-06-15T19:52:40.943370Z",
     "iopub.status.idle": "2022-06-15T19:52:40.970269Z",
     "shell.execute_reply": "2022-06-15T19:52:40.969700Z"
    },
    "papermill": {
     "duration": 0.036581,
     "end_time": "2022-06-15T19:52:40.972199",
     "exception": false,
     "start_time": "2022-06-15T19:52:40.935618",
     "status": "completed"
    },
    "tags": []
   },
   "outputs": [
    {
     "data": {
      "text/plain": [
       "'ENSG00000183087'"
      ]
     },
     "execution_count": 19,
     "metadata": {},
     "output_type": "execute_result"
    }
   ],
   "source": [
    "multiplier_gene_obj[\"GAS6\"].ensembl_id"
   ]
  },
  {
   "cell_type": "code",
   "execution_count": 20,
   "id": "e3ffabc7",
   "metadata": {
    "execution": {
     "iopub.execute_input": "2022-06-15T19:52:40.989749Z",
     "iopub.status.busy": "2022-06-15T19:52:40.989440Z",
     "iopub.status.idle": "2022-06-15T19:52:42.989300Z",
     "shell.execute_reply": "2022-06-15T19:52:42.988851Z"
    },
    "papermill": {
     "duration": 2.010296,
     "end_time": "2022-06-15T19:52:42.990607",
     "exception": false,
     "start_time": "2022-06-15T19:52:40.980311",
     "status": "completed"
    },
    "tags": []
   },
   "outputs": [],
   "source": [
    "_gene_obj = list(multiplier_gene_obj.values())\n",
    "\n",
    "genes_info = pd.DataFrame(\n",
    "    {\n",
    "        \"name\": [g.name for g in _gene_obj],\n",
    "        \"id\": [g.ensembl_id for g in _gene_obj],\n",
    "        \"chr\": [g.chromosome for g in _gene_obj],\n",
    "        \"band\": [g.band for g in _gene_obj],\n",
    "        \"start_position\": [g.get_attribute(\"start_position\") for g in _gene_obj],\n",
    "    }\n",
    ")"
   ]
  },
  {
   "cell_type": "code",
   "execution_count": 21,
   "id": "e23519b8",
   "metadata": {
    "execution": {
     "iopub.execute_input": "2022-06-15T19:52:43.004935Z",
     "iopub.status.busy": "2022-06-15T19:52:43.003924Z",
     "iopub.status.idle": "2022-06-15T19:52:43.021364Z",
     "shell.execute_reply": "2022-06-15T19:52:43.020850Z"
    },
    "papermill": {
     "duration": 0.026048,
     "end_time": "2022-06-15T19:52:43.022787",
     "exception": false,
     "start_time": "2022-06-15T19:52:42.996739",
     "status": "completed"
    },
    "tags": []
   },
   "outputs": [
    {
     "data": {
      "text/plain": [
       "(6454, 5)"
      ]
     },
     "execution_count": 21,
     "metadata": {},
     "output_type": "execute_result"
    }
   ],
   "source": [
    "genes_info.shape"
   ]
  },
  {
   "cell_type": "code",
   "execution_count": 22,
   "id": "0d71881c",
   "metadata": {
    "execution": {
     "iopub.execute_input": "2022-06-15T19:52:43.037444Z",
     "iopub.status.busy": "2022-06-15T19:52:43.037175Z",
     "iopub.status.idle": "2022-06-15T19:52:43.058062Z",
     "shell.execute_reply": "2022-06-15T19:52:43.057517Z"
    },
    "papermill": {
     "duration": 0.030098,
     "end_time": "2022-06-15T19:52:43.059552",
     "exception": false,
     "start_time": "2022-06-15T19:52:43.029454",
     "status": "completed"
    },
    "tags": []
   },
   "outputs": [
    {
     "data": {
      "text/html": [
       "<div>\n",
       "<style scoped>\n",
       "    .dataframe tbody tr th:only-of-type {\n",
       "        vertical-align: middle;\n",
       "    }\n",
       "\n",
       "    .dataframe tbody tr th {\n",
       "        vertical-align: top;\n",
       "    }\n",
       "\n",
       "    .dataframe thead th {\n",
       "        text-align: right;\n",
       "    }\n",
       "</style>\n",
       "<table border=\"1\" class=\"dataframe\">\n",
       "  <thead>\n",
       "    <tr style=\"text-align: right;\">\n",
       "      <th></th>\n",
       "      <th>name</th>\n",
       "      <th>id</th>\n",
       "      <th>chr</th>\n",
       "      <th>band</th>\n",
       "      <th>start_position</th>\n",
       "    </tr>\n",
       "  </thead>\n",
       "  <tbody>\n",
       "    <tr>\n",
       "      <th>0</th>\n",
       "      <td>GAS6</td>\n",
       "      <td>ENSG00000183087</td>\n",
       "      <td>13</td>\n",
       "      <td>13q34</td>\n",
       "      <td>113820549.0</td>\n",
       "    </tr>\n",
       "    <tr>\n",
       "      <th>1</th>\n",
       "      <td>MMP14</td>\n",
       "      <td>ENSG00000157227</td>\n",
       "      <td>14</td>\n",
       "      <td>14q11.2</td>\n",
       "      <td>22836560.0</td>\n",
       "    </tr>\n",
       "    <tr>\n",
       "      <th>2</th>\n",
       "      <td>DSP</td>\n",
       "      <td>ENSG00000096696</td>\n",
       "      <td>6</td>\n",
       "      <td>6p24.3</td>\n",
       "      <td>7541617.0</td>\n",
       "    </tr>\n",
       "    <tr>\n",
       "      <th>3</th>\n",
       "      <td>MARCKSL1</td>\n",
       "      <td>ENSG00000175130</td>\n",
       "      <td>1</td>\n",
       "      <td>1p35.1</td>\n",
       "      <td>32333839.0</td>\n",
       "    </tr>\n",
       "    <tr>\n",
       "      <th>4</th>\n",
       "      <td>SPARC</td>\n",
       "      <td>ENSG00000113140</td>\n",
       "      <td>5</td>\n",
       "      <td>5q33.1</td>\n",
       "      <td>151661096.0</td>\n",
       "    </tr>\n",
       "  </tbody>\n",
       "</table>\n",
       "</div>"
      ],
      "text/plain": [
       "       name               id chr     band  start_position\n",
       "0      GAS6  ENSG00000183087  13    13q34     113820549.0\n",
       "1     MMP14  ENSG00000157227  14  14q11.2      22836560.0\n",
       "2       DSP  ENSG00000096696   6   6p24.3       7541617.0\n",
       "3  MARCKSL1  ENSG00000175130   1   1p35.1      32333839.0\n",
       "4     SPARC  ENSG00000113140   5   5q33.1     151661096.0"
      ]
     },
     "execution_count": 22,
     "metadata": {},
     "output_type": "execute_result"
    }
   ],
   "source": [
    "genes_info.head()"
   ]
  },
  {
   "cell_type": "markdown",
   "id": "8c9dbb4a",
   "metadata": {
    "papermill": {
     "duration": 0.00668,
     "end_time": "2022-06-15T19:52:43.073268",
     "exception": false,
     "start_time": "2022-06-15T19:52:43.066588",
     "status": "completed"
    },
    "tags": []
   },
   "source": [
    "## Get tissues names"
   ]
  },
  {
   "cell_type": "code",
   "execution_count": 23,
   "id": "2bc52419",
   "metadata": {
    "execution": {
     "iopub.execute_input": "2022-06-15T19:52:43.087188Z",
     "iopub.status.busy": "2022-06-15T19:52:43.087023Z",
     "iopub.status.idle": "2022-06-15T19:52:43.102206Z",
     "shell.execute_reply": "2022-06-15T19:52:43.101552Z"
    },
    "papermill": {
     "duration": 0.024094,
     "end_time": "2022-06-15T19:52:43.103931",
     "exception": false,
     "start_time": "2022-06-15T19:52:43.079837",
     "status": "completed"
    },
    "tags": []
   },
   "outputs": [],
   "source": [
    "tissues = conf.PHENOMEXCAN[\"PREDICTION_MODELS\"][f\"{EQTL_MODEL}_TISSUES\"].split(\" \")"
   ]
  },
  {
   "cell_type": "code",
   "execution_count": 24,
   "id": "64b293a1",
   "metadata": {
    "execution": {
     "iopub.execute_input": "2022-06-15T19:52:43.118346Z",
     "iopub.status.busy": "2022-06-15T19:52:43.118173Z",
     "iopub.status.idle": "2022-06-15T19:52:43.135602Z",
     "shell.execute_reply": "2022-06-15T19:52:43.135079Z"
    },
    "papermill": {
     "duration": 0.026196,
     "end_time": "2022-06-15T19:52:43.136954",
     "exception": false,
     "start_time": "2022-06-15T19:52:43.110758",
     "status": "completed"
    },
    "tags": []
   },
   "outputs": [
    {
     "data": {
      "text/plain": [
       "['Skin_Not_Sun_Exposed_Suprapubic',\n",
       " 'Cells_EBV-transformed_lymphocytes',\n",
       " 'Brain_Frontal_Cortex_BA9',\n",
       " 'Kidney_Cortex',\n",
       " 'Brain_Substantia_nigra']"
      ]
     },
     "execution_count": 24,
     "metadata": {},
     "output_type": "execute_result"
    }
   ],
   "source": [
    "tissues[:5]"
   ]
  },
  {
   "cell_type": "code",
   "execution_count": 25,
   "id": "48a7202a",
   "metadata": {
    "execution": {
     "iopub.execute_input": "2022-06-15T19:52:43.166764Z",
     "iopub.status.busy": "2022-06-15T19:52:43.166596Z",
     "iopub.status.idle": "2022-06-15T19:52:43.181803Z",
     "shell.execute_reply": "2022-06-15T19:52:43.181268Z"
    },
    "papermill": {
     "duration": 0.02423,
     "end_time": "2022-06-15T19:52:43.183209",
     "exception": false,
     "start_time": "2022-06-15T19:52:43.158979",
     "status": "completed"
    },
    "tags": []
   },
   "outputs": [],
   "source": [
    "assert len(tissues) == 49"
   ]
  },
  {
   "cell_type": "markdown",
   "id": "c8d1038f",
   "metadata": {
    "papermill": {
     "duration": 0.006892,
     "end_time": "2022-06-15T19:52:43.197307",
     "exception": false,
     "start_time": "2022-06-15T19:52:43.190415",
     "status": "completed"
    },
    "tags": []
   },
   "source": [
    "# Test"
   ]
  },
  {
   "cell_type": "code",
   "execution_count": 26,
   "id": "64993abf",
   "metadata": {
    "execution": {
     "iopub.execute_input": "2022-06-15T19:52:43.213409Z",
     "iopub.status.busy": "2022-06-15T19:52:43.213196Z",
     "iopub.status.idle": "2022-06-15T19:52:43.236937Z",
     "shell.execute_reply": "2022-06-15T19:52:43.236511Z"
    },
    "papermill": {
     "duration": 0.032804,
     "end_time": "2022-06-15T19:52:43.238214",
     "exception": false,
     "start_time": "2022-06-15T19:52:43.205410",
     "status": "completed"
    },
    "tags": []
   },
   "outputs": [
    {
     "data": {
      "text/html": [
       "<div>\n",
       "<style scoped>\n",
       "    .dataframe tbody tr th:only-of-type {\n",
       "        vertical-align: middle;\n",
       "    }\n",
       "\n",
       "    .dataframe tbody tr th {\n",
       "        vertical-align: top;\n",
       "    }\n",
       "\n",
       "    .dataframe thead th {\n",
       "        text-align: right;\n",
       "    }\n",
       "</style>\n",
       "<table border=\"1\" class=\"dataframe\">\n",
       "  <thead>\n",
       "    <tr style=\"text-align: right;\">\n",
       "      <th></th>\n",
       "      <th>name</th>\n",
       "      <th>id</th>\n",
       "      <th>chr</th>\n",
       "      <th>band</th>\n",
       "      <th>start_position</th>\n",
       "    </tr>\n",
       "  </thead>\n",
       "  <tbody>\n",
       "    <tr>\n",
       "      <th>13</th>\n",
       "      <td>ITGB5</td>\n",
       "      <td>ENSG00000082781</td>\n",
       "      <td>3</td>\n",
       "      <td>3q21.2</td>\n",
       "      <td>124761948.0</td>\n",
       "    </tr>\n",
       "    <tr>\n",
       "      <th>42</th>\n",
       "      <td>LTF</td>\n",
       "      <td>ENSG00000012223</td>\n",
       "      <td>3</td>\n",
       "      <td>3p21.31</td>\n",
       "      <td>46435645.0</td>\n",
       "    </tr>\n",
       "    <tr>\n",
       "      <th>102</th>\n",
       "      <td>MME</td>\n",
       "      <td>ENSG00000196549</td>\n",
       "      <td>3</td>\n",
       "      <td>3q25.2</td>\n",
       "      <td>155024124.0</td>\n",
       "    </tr>\n",
       "    <tr>\n",
       "      <th>125</th>\n",
       "      <td>PDIA5</td>\n",
       "      <td>ENSG00000065485</td>\n",
       "      <td>3</td>\n",
       "      <td>3q21.1</td>\n",
       "      <td>123067025.0</td>\n",
       "    </tr>\n",
       "    <tr>\n",
       "      <th>146</th>\n",
       "      <td>STAB1</td>\n",
       "      <td>ENSG00000010327</td>\n",
       "      <td>3</td>\n",
       "      <td>3p21.1</td>\n",
       "      <td>52495338.0</td>\n",
       "    </tr>\n",
       "    <tr>\n",
       "      <th>...</th>\n",
       "      <td>...</td>\n",
       "      <td>...</td>\n",
       "      <td>...</td>\n",
       "      <td>...</td>\n",
       "      <td>...</td>\n",
       "    </tr>\n",
       "    <tr>\n",
       "      <th>6413</th>\n",
       "      <td>STT3B</td>\n",
       "      <td>ENSG00000163527</td>\n",
       "      <td>3</td>\n",
       "      <td>3p23</td>\n",
       "      <td>31532638.0</td>\n",
       "    </tr>\n",
       "    <tr>\n",
       "      <th>6417</th>\n",
       "      <td>ETV5</td>\n",
       "      <td>ENSG00000244405</td>\n",
       "      <td>3</td>\n",
       "      <td>3q27.2</td>\n",
       "      <td>186046314.0</td>\n",
       "    </tr>\n",
       "    <tr>\n",
       "      <th>6424</th>\n",
       "      <td>SACM1L</td>\n",
       "      <td>ENSG00000211456</td>\n",
       "      <td>3</td>\n",
       "      <td>3p21.31</td>\n",
       "      <td>45689056.0</td>\n",
       "    </tr>\n",
       "    <tr>\n",
       "      <th>6434</th>\n",
       "      <td>SLC33A1</td>\n",
       "      <td>ENSG00000169359</td>\n",
       "      <td>3</td>\n",
       "      <td>3q25.31</td>\n",
       "      <td>155821024.0</td>\n",
       "    </tr>\n",
       "    <tr>\n",
       "      <th>6446</th>\n",
       "      <td>ACAP2</td>\n",
       "      <td>ENSG00000114331</td>\n",
       "      <td>3</td>\n",
       "      <td>3q29</td>\n",
       "      <td>195274745.0</td>\n",
       "    </tr>\n",
       "  </tbody>\n",
       "</table>\n",
       "<p>393 rows × 5 columns</p>\n",
       "</div>"
      ],
      "text/plain": [
       "         name               id chr     band  start_position\n",
       "13      ITGB5  ENSG00000082781   3   3q21.2     124761948.0\n",
       "42        LTF  ENSG00000012223   3  3p21.31      46435645.0\n",
       "102       MME  ENSG00000196549   3   3q25.2     155024124.0\n",
       "125     PDIA5  ENSG00000065485   3   3q21.1     123067025.0\n",
       "146     STAB1  ENSG00000010327   3   3p21.1      52495338.0\n",
       "...       ...              ...  ..      ...             ...\n",
       "6413    STT3B  ENSG00000163527   3     3p23      31532638.0\n",
       "6417     ETV5  ENSG00000244405   3   3q27.2     186046314.0\n",
       "6424   SACM1L  ENSG00000211456   3  3p21.31      45689056.0\n",
       "6434  SLC33A1  ENSG00000169359   3  3q25.31     155821024.0\n",
       "6446    ACAP2  ENSG00000114331   3     3q29     195274745.0\n",
       "\n",
       "[393 rows x 5 columns]"
      ]
     },
     "metadata": {},
     "output_type": "display_data"
    }
   ],
   "source": [
    "chromosome_genes_info = genes_info[genes_info[\"chr\"] == chromosome]\n",
    "display(chromosome_genes_info)"
   ]
  },
  {
   "cell_type": "code",
   "execution_count": 27,
   "id": "d2e42726-7de6-46eb-acfc-6323eaa8fae6",
   "metadata": {
    "execution": {
     "iopub.execute_input": "2022-06-15T19:52:43.253996Z",
     "iopub.status.busy": "2022-06-15T19:52:43.253823Z",
     "iopub.status.idle": "2022-06-15T19:52:43.271625Z",
     "shell.execute_reply": "2022-06-15T19:52:43.271097Z"
    },
    "papermill": {
     "duration": 0.027122,
     "end_time": "2022-06-15T19:52:43.272994",
     "exception": false,
     "start_time": "2022-06-15T19:52:43.245872",
     "status": "completed"
    },
    "tags": []
   },
   "outputs": [
    {
     "data": {
      "text/plain": [
       "5"
      ]
     },
     "metadata": {},
     "output_type": "display_data"
    }
   ],
   "source": [
    "_gene_list_ids = sample(chromosome_genes_info[\"id\"].tolist(), 5)\n",
    "selected_chromosome_genes_obj = [Gene(ensembl_id=g_id) for g_id in _gene_list_ids]\n",
    "display(len(selected_chromosome_genes_obj))"
   ]
  },
  {
   "cell_type": "code",
   "execution_count": 28,
   "id": "1b355359",
   "metadata": {
    "execution": {
     "iopub.execute_input": "2022-06-15T19:52:43.290883Z",
     "iopub.status.busy": "2022-06-15T19:52:43.290704Z",
     "iopub.status.idle": "2022-06-15T19:52:43.405961Z",
     "shell.execute_reply": "2022-06-15T19:52:43.405476Z"
    },
    "papermill": {
     "duration": 0.124597,
     "end_time": "2022-06-15T19:52:43.407164",
     "exception": false,
     "start_time": "2022-06-15T19:52:43.282567",
     "status": "completed"
    },
    "tags": []
   },
   "outputs": [
    {
     "name": "stdout",
     "output_type": "stream",
     "text": [
      "ETV5 / FANCD2: 0.0\n",
      "ETV5 / CCR9: 0.0\n",
      "ETV5 / CNOT10: 0.0\n",
      "ETV5 / RFT1: 0.0\n",
      "FANCD2 / CCR9: 0.0\n",
      "FANCD2 / CNOT10: 0.0\n",
      "FANCD2 / RFT1: 0.0\n",
      "CCR9 / CNOT10: 0.0\n",
      "CCR9 / RFT1: 0.0\n",
      "CNOT10 / RFT1: 0.0\n"
     ]
    }
   ],
   "source": [
    "for gene_idx1 in range(0, len(selected_chromosome_genes_obj) - 1):\n",
    "    gene_obj1 = selected_chromosome_genes_obj[gene_idx1]\n",
    "\n",
    "    for gene_idx2 in range(gene_idx1 + 1, len(selected_chromosome_genes_obj)):\n",
    "        gene_obj2 = selected_chromosome_genes_obj[gene_idx2]\n",
    "\n",
    "        c = gene_obj1.get_ssm_correlation(\n",
    "            gene_obj2,\n",
    "        )\n",
    "\n",
    "        print(f\"{gene_obj1.name} / {gene_obj2.name}: {c}\")"
   ]
  },
  {
   "cell_type": "markdown",
   "id": "d3843e06",
   "metadata": {
    "papermill": {
     "duration": 0.006797,
     "end_time": "2022-06-15T19:52:43.421015",
     "exception": false,
     "start_time": "2022-06-15T19:52:43.414218",
     "status": "completed"
    },
    "tags": []
   },
   "source": [
    "# Compute correlation per chromosome"
   ]
  },
  {
   "cell_type": "code",
   "execution_count": 29,
   "id": "aa674fe4-6794-4eed-98fa-32b39d1d4ace",
   "metadata": {
    "execution": {
     "iopub.execute_input": "2022-06-15T19:52:43.437750Z",
     "iopub.status.busy": "2022-06-15T19:52:43.435624Z",
     "iopub.status.idle": "2022-06-15T19:52:43.453412Z",
     "shell.execute_reply": "2022-06-15T19:52:43.452939Z"
    },
    "papermill": {
     "duration": 0.026983,
     "end_time": "2022-06-15T19:52:43.455070",
     "exception": false,
     "start_time": "2022-06-15T19:52:43.428087",
     "status": "completed"
    },
    "tags": []
   },
   "outputs": [],
   "source": [
    "warnings.filterwarnings(\"error\")"
   ]
  },
  {
   "cell_type": "code",
   "execution_count": 30,
   "id": "cdbb90a1",
   "metadata": {
    "execution": {
     "iopub.execute_input": "2022-06-15T19:52:43.472725Z",
     "iopub.status.busy": "2022-06-15T19:52:43.472527Z",
     "iopub.status.idle": "2022-06-16T01:11:44.676623Z",
     "shell.execute_reply": "2022-06-16T01:11:44.676133Z"
    },
    "papermill": {
     "duration": 19141.215167,
     "end_time": "2022-06-16T01:11:44.678434",
     "exception": false,
     "start_time": "2022-06-15T19:52:43.463267",
     "status": "completed"
    },
    "tags": []
   },
   "outputs": [
    {
     "name": "stdout",
     "output_type": "stream",
     "text": [
      "Number of genes in chromosome: 393\n",
      "Chromosome 3\n",
      "Number of gene combinations: 77028\n"
     ]
    },
    {
     "name": "stderr",
     "output_type": "stream",
     "text": [
      "ENSG00000161267 / ENSG00000182899: 100%|████████████████████| 77028/77028 [5:19:01<00:00,  4.02it/s]"
     ]
    },
    {
     "name": "stdout",
     "output_type": "stream",
     "text": [
      "Min/max values: -0.997775847980178 / 0.9800346382525982\n"
     ]
    },
    {
     "name": "stderr",
     "output_type": "stream",
     "text": [
      "\n"
     ]
    },
    {
     "data": {
      "text/plain": [
       "PosixPath('/opt/data/data/phenomexcan/ld_blocks/gene_corrs/gtex_v8/mashr/by_chr/gene_corrs-chr3.pkl')"
      ]
     },
     "metadata": {},
     "output_type": "display_data"
    }
   ],
   "source": [
    "# standard checks\n",
    "all_chrs = genes_info[\"chr\"].dropna().unique()\n",
    "assert all_chrs.shape[0] == 22\n",
    "\n",
    "# select chromosome given by the user\n",
    "assert chromosome in all_chrs\n",
    "\n",
    "# run only on the chromosome specified\n",
    "all_chrs = [chromosome]\n",
    "genes_chr = genes_info[genes_info[\"chr\"] == chromosome]\n",
    "print(f\"Number of genes in chromosome: {genes_chr.shape[0]}\", flush=True)\n",
    "\n",
    "# For testing purposes\n",
    "# genes_chr = genes_chr.sample(n=20)\n",
    "\n",
    "# sort genes by starting position to make visualizations better later\n",
    "genes_chr = genes_chr.sort_values(\"start_position\")\n",
    "\n",
    "\n",
    "for chr_num in all_chrs:\n",
    "    print(f\"Chromosome {chr_num}\", flush=True)\n",
    "\n",
    "    # check if results exist\n",
    "    output_dir = OUTPUT_DIR_BASE / \"by_chr\"\n",
    "    output_file = output_dir / f\"gene_corrs-chr{chr_num}.pkl\"\n",
    "\n",
    "    if output_file.exists():\n",
    "        _tmp_data = pd.read_pickle(output_file)\n",
    "\n",
    "        if _tmp_data.shape[0] > 0:\n",
    "            print(\"Already run, stopping.\")\n",
    "            continue\n",
    "\n",
    "    gene_chr_objs = [Gene(ensembl_id=gene_id) for gene_id in genes_chr[\"id\"]]\n",
    "    gene_chr_ids = [g.ensembl_id for g in gene_chr_objs]\n",
    "\n",
    "    n = len(gene_chr_objs)\n",
    "    n_comb = int(n * (n - 1) / 2.0)\n",
    "    print(f\"Number of gene combinations: {n_comb}\", flush=True)\n",
    "\n",
    "    gene_corrs = []\n",
    "\n",
    "    pbar = tqdm(ncols=100, total=n_comb)\n",
    "    i = 0\n",
    "    for gene_idx1 in range(0, len(gene_chr_objs) - 1):\n",
    "        gene_obj1 = gene_chr_objs[gene_idx1]\n",
    "\n",
    "        for gene_idx2 in range(gene_idx1 + 1, len(gene_chr_objs)):\n",
    "            gene_obj2 = gene_chr_objs[gene_idx2]\n",
    "\n",
    "            pbar.set_description(f\"{gene_obj1.ensembl_id} / {gene_obj2.ensembl_id}\")\n",
    "\n",
    "            try:\n",
    "                # FIXME: compute the correlation of the sum of squares of the model using all\n",
    "                # the available tissues; this could be problematic because for some results\n",
    "                # (computed on a specific phenotype/GWAS) we might not have all the tissues\n",
    "                # available, which can certainly bias the correlation estimation.\n",
    "                # Since this depends on the GWAS on a specific phenotype, we should ideally have\n",
    "                # one correlation matrix per GWAS. I should look at how we can improve this.\n",
    "                gene_corrs.append(\n",
    "                    gene_obj1.get_ssm_correlation(\n",
    "                        other_gene=gene_obj2,\n",
    "                        condition_number=SMULTIXCAN_CONDITION_NUMBER,\n",
    "                        reference_panel=REFERENCE_PANEL,\n",
    "                        model_type=EQTL_MODEL,\n",
    "                    )\n",
    "                )\n",
    "            except Warning:\n",
    "                print(\n",
    "                    f\"RuntimeWarning for genes {gene_obj1.ensembl_id} and {gene_obj2.ensembl_id}\",\n",
    "                    flush=True,\n",
    "                )\n",
    "                import traceback\n",
    "\n",
    "                print(traceback.format_exc(), flush=True)\n",
    "            except Exception as e:\n",
    "                print(\n",
    "                    f\"Exception for genes {gene_obj1.ensembl_id} and {gene_obj2.ensembl_id}\",\n",
    "                    flush=True,\n",
    "                )\n",
    "                import traceback\n",
    "\n",
    "                print(traceback.format_exc(), flush=True)\n",
    "                gene_corrs.append(np.nan)\n",
    "\n",
    "            pbar.update(1)\n",
    "\n",
    "    pbar.close()\n",
    "\n",
    "    # testing\n",
    "    gene_corrs_flat = pd.Series(gene_corrs)\n",
    "    print(f\"Min/max values: {gene_corrs_flat.min()} / {gene_corrs_flat.max()}\")\n",
    "    assert gene_corrs_flat.min() >= -1.001\n",
    "    assert gene_corrs_flat.max() <= 1.001\n",
    "\n",
    "    # save\n",
    "    # FIXME: consider saving only the condenced matrix here. See here for\n",
    "    # more details: https://github.com/greenelab/phenoplier/pull/38#discussion_r634600813\n",
    "    gene_corrs_data = squareform(np.array(gene_corrs, dtype=np.float64))\n",
    "    np.fill_diagonal(gene_corrs_data, 1.0)\n",
    "\n",
    "    gene_corrs_df = pd.DataFrame(\n",
    "        data=gene_corrs_data,\n",
    "        index=gene_chr_ids,\n",
    "        columns=gene_chr_ids,\n",
    "    )\n",
    "\n",
    "    output_dir.mkdir(exist_ok=True, parents=True)\n",
    "    display(output_file)\n",
    "\n",
    "    gene_corrs_df.to_pickle(output_file)"
   ]
  },
  {
   "cell_type": "markdown",
   "id": "faa67b51-5373-470f-aa72-2ded53fa6dfe",
   "metadata": {
    "papermill": {
     "duration": 3.332608,
     "end_time": "2022-06-16T01:11:51.374651",
     "exception": false,
     "start_time": "2022-06-16T01:11:48.042043",
     "status": "completed"
    },
    "tags": []
   },
   "source": [
    "# Testing"
   ]
  },
  {
   "cell_type": "code",
   "execution_count": 31,
   "id": "14f7d046-4b55-4896-a56b-990127bcc388",
   "metadata": {
    "execution": {
     "iopub.execute_input": "2022-06-16T01:11:57.930472Z",
     "iopub.status.busy": "2022-06-16T01:11:57.930293Z",
     "iopub.status.idle": "2022-06-16T01:11:57.947688Z",
     "shell.execute_reply": "2022-06-16T01:11:57.947163Z"
    },
    "papermill": {
     "duration": 3.352167,
     "end_time": "2022-06-16T01:11:57.949092",
     "exception": false,
     "start_time": "2022-06-16T01:11:54.596925",
     "status": "completed"
    },
    "tags": []
   },
   "outputs": [
    {
     "data": {
      "text/plain": [
       "(393, 393)"
      ]
     },
     "execution_count": 31,
     "metadata": {},
     "output_type": "execute_result"
    }
   ],
   "source": [
    "gene_corrs_df.shape"
   ]
  },
  {
   "cell_type": "code",
   "execution_count": 32,
   "id": "c7d15414-3297-4537-a7c6-7588c0baeb75",
   "metadata": {
    "execution": {
     "iopub.execute_input": "2022-06-16T01:12:04.461769Z",
     "iopub.status.busy": "2022-06-16T01:12:04.461429Z",
     "iopub.status.idle": "2022-06-16T01:12:04.494410Z",
     "shell.execute_reply": "2022-06-16T01:12:04.493769Z"
    },
    "papermill": {
     "duration": 3.220947,
     "end_time": "2022-06-16T01:12:04.495828",
     "exception": false,
     "start_time": "2022-06-16T01:12:01.274881",
     "status": "completed"
    },
    "tags": []
   },
   "outputs": [
    {
     "data": {
      "text/html": [
       "<div>\n",
       "<style scoped>\n",
       "    .dataframe tbody tr th:only-of-type {\n",
       "        vertical-align: middle;\n",
       "    }\n",
       "\n",
       "    .dataframe tbody tr th {\n",
       "        vertical-align: top;\n",
       "    }\n",
       "\n",
       "    .dataframe thead th {\n",
       "        text-align: right;\n",
       "    }\n",
       "</style>\n",
       "<table border=\"1\" class=\"dataframe\">\n",
       "  <thead>\n",
       "    <tr style=\"text-align: right;\">\n",
       "      <th></th>\n",
       "      <th>ENSG00000134121</th>\n",
       "      <th>ENSG00000091181</th>\n",
       "      <th>ENSG00000144455</th>\n",
       "      <th>ENSG00000170364</th>\n",
       "      <th>ENSG00000150995</th>\n",
       "      <th>ENSG00000134107</th>\n",
       "      <th>ENSG00000134109</th>\n",
       "      <th>ENSG00000180914</th>\n",
       "      <th>ENSG00000196220</th>\n",
       "      <th>ENSG00000163719</th>\n",
       "      <th>...</th>\n",
       "      <th>ENSG00000061938</th>\n",
       "      <th>ENSG00000072274</th>\n",
       "      <th>ENSG00000161217</th>\n",
       "      <th>ENSG00000174013</th>\n",
       "      <th>ENSG00000163964</th>\n",
       "      <th>ENSG00000180370</th>\n",
       "      <th>ENSG00000114503</th>\n",
       "      <th>ENSG00000075711</th>\n",
       "      <th>ENSG00000161267</th>\n",
       "      <th>ENSG00000182899</th>\n",
       "    </tr>\n",
       "  </thead>\n",
       "  <tbody>\n",
       "    <tr>\n",
       "      <th>ENSG00000134121</th>\n",
       "      <td>1.000000</td>\n",
       "      <td>-0.005292</td>\n",
       "      <td>0.030007</td>\n",
       "      <td>-0.022646</td>\n",
       "      <td>-0.042667</td>\n",
       "      <td>0.095731</td>\n",
       "      <td>-0.042437</td>\n",
       "      <td>0.000000</td>\n",
       "      <td>0.000000</td>\n",
       "      <td>0.000000</td>\n",
       "      <td>...</td>\n",
       "      <td>0.0</td>\n",
       "      <td>0.0</td>\n",
       "      <td>0.0</td>\n",
       "      <td>0.0</td>\n",
       "      <td>0.0</td>\n",
       "      <td>0.0</td>\n",
       "      <td>0.0</td>\n",
       "      <td>0.0</td>\n",
       "      <td>0.0</td>\n",
       "      <td>0.0</td>\n",
       "    </tr>\n",
       "    <tr>\n",
       "      <th>ENSG00000091181</th>\n",
       "      <td>-0.005292</td>\n",
       "      <td>1.000000</td>\n",
       "      <td>0.064071</td>\n",
       "      <td>-0.054551</td>\n",
       "      <td>0.073573</td>\n",
       "      <td>-0.024861</td>\n",
       "      <td>-0.035525</td>\n",
       "      <td>0.000000</td>\n",
       "      <td>0.000000</td>\n",
       "      <td>0.000000</td>\n",
       "      <td>...</td>\n",
       "      <td>0.0</td>\n",
       "      <td>0.0</td>\n",
       "      <td>0.0</td>\n",
       "      <td>0.0</td>\n",
       "      <td>0.0</td>\n",
       "      <td>0.0</td>\n",
       "      <td>0.0</td>\n",
       "      <td>0.0</td>\n",
       "      <td>0.0</td>\n",
       "      <td>0.0</td>\n",
       "    </tr>\n",
       "    <tr>\n",
       "      <th>ENSG00000144455</th>\n",
       "      <td>0.030007</td>\n",
       "      <td>0.064071</td>\n",
       "      <td>1.000000</td>\n",
       "      <td>0.230560</td>\n",
       "      <td>0.038560</td>\n",
       "      <td>0.022396</td>\n",
       "      <td>0.105842</td>\n",
       "      <td>0.058552</td>\n",
       "      <td>0.046394</td>\n",
       "      <td>0.000000</td>\n",
       "      <td>...</td>\n",
       "      <td>0.0</td>\n",
       "      <td>0.0</td>\n",
       "      <td>0.0</td>\n",
       "      <td>0.0</td>\n",
       "      <td>0.0</td>\n",
       "      <td>0.0</td>\n",
       "      <td>0.0</td>\n",
       "      <td>0.0</td>\n",
       "      <td>0.0</td>\n",
       "      <td>0.0</td>\n",
       "    </tr>\n",
       "    <tr>\n",
       "      <th>ENSG00000170364</th>\n",
       "      <td>-0.022646</td>\n",
       "      <td>-0.054551</td>\n",
       "      <td>0.230560</td>\n",
       "      <td>1.000000</td>\n",
       "      <td>-0.037987</td>\n",
       "      <td>0.039736</td>\n",
       "      <td>-0.067866</td>\n",
       "      <td>0.064492</td>\n",
       "      <td>-0.158250</td>\n",
       "      <td>0.000000</td>\n",
       "      <td>...</td>\n",
       "      <td>0.0</td>\n",
       "      <td>0.0</td>\n",
       "      <td>0.0</td>\n",
       "      <td>0.0</td>\n",
       "      <td>0.0</td>\n",
       "      <td>0.0</td>\n",
       "      <td>0.0</td>\n",
       "      <td>0.0</td>\n",
       "      <td>0.0</td>\n",
       "      <td>0.0</td>\n",
       "    </tr>\n",
       "    <tr>\n",
       "      <th>ENSG00000150995</th>\n",
       "      <td>-0.042667</td>\n",
       "      <td>0.073573</td>\n",
       "      <td>0.038560</td>\n",
       "      <td>-0.037987</td>\n",
       "      <td>1.000000</td>\n",
       "      <td>-0.007345</td>\n",
       "      <td>-0.028170</td>\n",
       "      <td>0.008210</td>\n",
       "      <td>0.040937</td>\n",
       "      <td>-0.108253</td>\n",
       "      <td>...</td>\n",
       "      <td>0.0</td>\n",
       "      <td>0.0</td>\n",
       "      <td>0.0</td>\n",
       "      <td>0.0</td>\n",
       "      <td>0.0</td>\n",
       "      <td>0.0</td>\n",
       "      <td>0.0</td>\n",
       "      <td>0.0</td>\n",
       "      <td>0.0</td>\n",
       "      <td>0.0</td>\n",
       "    </tr>\n",
       "  </tbody>\n",
       "</table>\n",
       "<p>5 rows × 393 columns</p>\n",
       "</div>"
      ],
      "text/plain": [
       "                 ENSG00000134121  ENSG00000091181  ENSG00000144455  \\\n",
       "ENSG00000134121         1.000000        -0.005292         0.030007   \n",
       "ENSG00000091181        -0.005292         1.000000         0.064071   \n",
       "ENSG00000144455         0.030007         0.064071         1.000000   \n",
       "ENSG00000170364        -0.022646        -0.054551         0.230560   \n",
       "ENSG00000150995        -0.042667         0.073573         0.038560   \n",
       "\n",
       "                 ENSG00000170364  ENSG00000150995  ENSG00000134107  \\\n",
       "ENSG00000134121        -0.022646        -0.042667         0.095731   \n",
       "ENSG00000091181        -0.054551         0.073573        -0.024861   \n",
       "ENSG00000144455         0.230560         0.038560         0.022396   \n",
       "ENSG00000170364         1.000000        -0.037987         0.039736   \n",
       "ENSG00000150995        -0.037987         1.000000        -0.007345   \n",
       "\n",
       "                 ENSG00000134109  ENSG00000180914  ENSG00000196220  \\\n",
       "ENSG00000134121        -0.042437         0.000000         0.000000   \n",
       "ENSG00000091181        -0.035525         0.000000         0.000000   \n",
       "ENSG00000144455         0.105842         0.058552         0.046394   \n",
       "ENSG00000170364        -0.067866         0.064492        -0.158250   \n",
       "ENSG00000150995        -0.028170         0.008210         0.040937   \n",
       "\n",
       "                 ENSG00000163719  ...  ENSG00000061938  ENSG00000072274  \\\n",
       "ENSG00000134121         0.000000  ...              0.0              0.0   \n",
       "ENSG00000091181         0.000000  ...              0.0              0.0   \n",
       "ENSG00000144455         0.000000  ...              0.0              0.0   \n",
       "ENSG00000170364         0.000000  ...              0.0              0.0   \n",
       "ENSG00000150995        -0.108253  ...              0.0              0.0   \n",
       "\n",
       "                 ENSG00000161217  ENSG00000174013  ENSG00000163964  \\\n",
       "ENSG00000134121              0.0              0.0              0.0   \n",
       "ENSG00000091181              0.0              0.0              0.0   \n",
       "ENSG00000144455              0.0              0.0              0.0   \n",
       "ENSG00000170364              0.0              0.0              0.0   \n",
       "ENSG00000150995              0.0              0.0              0.0   \n",
       "\n",
       "                 ENSG00000180370  ENSG00000114503  ENSG00000075711  \\\n",
       "ENSG00000134121              0.0              0.0              0.0   \n",
       "ENSG00000091181              0.0              0.0              0.0   \n",
       "ENSG00000144455              0.0              0.0              0.0   \n",
       "ENSG00000170364              0.0              0.0              0.0   \n",
       "ENSG00000150995              0.0              0.0              0.0   \n",
       "\n",
       "                 ENSG00000161267  ENSG00000182899  \n",
       "ENSG00000134121              0.0              0.0  \n",
       "ENSG00000091181              0.0              0.0  \n",
       "ENSG00000144455              0.0              0.0  \n",
       "ENSG00000170364              0.0              0.0  \n",
       "ENSG00000150995              0.0              0.0  \n",
       "\n",
       "[5 rows x 393 columns]"
      ]
     },
     "execution_count": 32,
     "metadata": {},
     "output_type": "execute_result"
    }
   ],
   "source": [
    "gene_corrs_df.head()"
   ]
  },
  {
   "cell_type": "code",
   "execution_count": 33,
   "id": "00583efc-7068-4270-ad1e-4a418e91db96",
   "metadata": {
    "execution": {
     "iopub.execute_input": "2022-06-16T01:12:11.019340Z",
     "iopub.status.busy": "2022-06-16T01:12:11.019177Z",
     "iopub.status.idle": "2022-06-16T01:12:11.038139Z",
     "shell.execute_reply": "2022-06-16T01:12:11.037610Z"
    },
    "papermill": {
     "duration": 3.213287,
     "end_time": "2022-06-16T01:12:11.040181",
     "exception": false,
     "start_time": "2022-06-16T01:12:07.826894",
     "status": "completed"
    },
    "tags": []
   },
   "outputs": [
    {
     "data": {
      "text/plain": [
       "-0.997775847980178"
      ]
     },
     "metadata": {},
     "output_type": "display_data"
    }
   ],
   "source": [
    "_min_val = gene_corrs_df.min().min()\n",
    "display(_min_val)\n",
    "assert _min_val >= -1.0"
   ]
  },
  {
   "cell_type": "code",
   "execution_count": 34,
   "id": "d04fb2cf-1050-475b-b855-f5f7cc04092b",
   "metadata": {
    "execution": {
     "iopub.execute_input": "2022-06-16T01:12:17.615431Z",
     "iopub.status.busy": "2022-06-16T01:12:17.615252Z",
     "iopub.status.idle": "2022-06-16T01:12:17.634585Z",
     "shell.execute_reply": "2022-06-16T01:12:17.633966Z"
    },
    "papermill": {
     "duration": 3.312451,
     "end_time": "2022-06-16T01:12:17.636325",
     "exception": false,
     "start_time": "2022-06-16T01:12:14.323874",
     "status": "completed"
    },
    "tags": []
   },
   "outputs": [
    {
     "data": {
      "text/plain": [
       "1.0"
      ]
     },
     "metadata": {},
     "output_type": "display_data"
    }
   ],
   "source": [
    "_max_val = gene_corrs_df.max().max()  # this captures the diagonal\n",
    "display(_max_val)\n",
    "assert _max_val <= 1.0"
   ]
  },
  {
   "cell_type": "code",
   "execution_count": 35,
   "id": "96d02c44-1fba-47be-8a93-8f2608420b9c",
   "metadata": {
    "execution": {
     "iopub.execute_input": "2022-06-16T01:12:24.420077Z",
     "iopub.status.busy": "2022-06-16T01:12:24.419635Z",
     "iopub.status.idle": "2022-06-16T01:12:24.436159Z",
     "shell.execute_reply": "2022-06-16T01:12:24.435628Z"
    },
    "papermill": {
     "duration": 3.506479,
     "end_time": "2022-06-16T01:12:24.437601",
     "exception": false,
     "start_time": "2022-06-16T01:12:20.931122",
     "status": "completed"
    },
    "tags": []
   },
   "outputs": [],
   "source": [
    "# check upper triangular values\n",
    "assert len(gene_corrs) == int(genes_chr.shape[0] * (genes_chr.shape[0] - 1) / 2)"
   ]
  },
  {
   "cell_type": "code",
   "execution_count": 36,
   "id": "aaa51627-f4e3-4744-a41f-7d25adcc0a78",
   "metadata": {
    "execution": {
     "iopub.execute_input": "2022-06-16T01:12:30.958626Z",
     "iopub.status.busy": "2022-06-16T01:12:30.958088Z",
     "iopub.status.idle": "2022-06-16T01:12:30.982563Z",
     "shell.execute_reply": "2022-06-16T01:12:30.982013Z"
    },
    "papermill": {
     "duration": 3.314359,
     "end_time": "2022-06-16T01:12:30.984009",
     "exception": false,
     "start_time": "2022-06-16T01:12:27.669650",
     "status": "completed"
    },
    "tags": []
   },
   "outputs": [],
   "source": [
    "gene_corrs = pd.Series(gene_corrs)"
   ]
  },
  {
   "cell_type": "code",
   "execution_count": 37,
   "id": "fe283586-c348-40e0-8841-f6d97bfb021c",
   "metadata": {
    "execution": {
     "iopub.execute_input": "2022-06-16T01:12:37.507956Z",
     "iopub.status.busy": "2022-06-16T01:12:37.507792Z",
     "iopub.status.idle": "2022-06-16T01:12:37.529553Z",
     "shell.execute_reply": "2022-06-16T01:12:37.529084Z"
    },
    "papermill": {
     "duration": 3.348815,
     "end_time": "2022-06-16T01:12:37.531157",
     "exception": false,
     "start_time": "2022-06-16T01:12:34.182342",
     "status": "completed"
    },
    "tags": []
   },
   "outputs": [
    {
     "data": {
      "text/plain": [
       "count    77028.000000\n",
       "mean        -0.000128\n",
       "std          0.054912\n",
       "min         -0.997776\n",
       "25%          0.000000\n",
       "50%          0.000000\n",
       "75%          0.000000\n",
       "max          0.980035\n",
       "dtype: float64"
      ]
     },
     "execution_count": 37,
     "metadata": {},
     "output_type": "execute_result"
    }
   ],
   "source": [
    "gene_corrs.describe()"
   ]
  },
  {
   "cell_type": "code",
   "execution_count": 38,
   "id": "b3815678-0f93-4b35-897b-a9d047a2aa78",
   "metadata": {
    "execution": {
     "iopub.execute_input": "2022-06-16T01:12:44.081246Z",
     "iopub.status.busy": "2022-06-16T01:12:44.081066Z",
     "iopub.status.idle": "2022-06-16T01:12:44.101982Z",
     "shell.execute_reply": "2022-06-16T01:12:44.101251Z"
    },
    "papermill": {
     "duration": 3.400409,
     "end_time": "2022-06-16T01:12:44.103357",
     "exception": false,
     "start_time": "2022-06-16T01:12:40.702948",
     "status": "completed"
    },
    "tags": []
   },
   "outputs": [
    {
     "data": {
      "text/plain": [
       "0.00   -0.997776\n",
       "0.05    0.000000\n",
       "0.10    0.000000\n",
       "0.15    0.000000\n",
       "0.20    0.000000\n",
       "0.25    0.000000\n",
       "0.30    0.000000\n",
       "0.35    0.000000\n",
       "0.40    0.000000\n",
       "0.45    0.000000\n",
       "0.50    0.000000\n",
       "0.55    0.000000\n",
       "0.60    0.000000\n",
       "0.65    0.000000\n",
       "0.70    0.000000\n",
       "0.75    0.000000\n",
       "0.80    0.000000\n",
       "0.85    0.000000\n",
       "0.90    0.000000\n",
       "0.95    0.000000\n",
       "dtype: float64"
      ]
     },
     "metadata": {},
     "output_type": "display_data"
    }
   ],
   "source": [
    "gene_corrs_quantiles = gene_corrs.quantile(np.arange(0, 1, 0.05))\n",
    "display(gene_corrs_quantiles)"
   ]
  },
  {
   "cell_type": "markdown",
   "id": "8e60a080-edb2-4e9c-b2ef-22961693200c",
   "metadata": {
    "papermill": {
     "duration": 3.298095,
     "end_time": "2022-06-16T01:12:50.666531",
     "exception": false,
     "start_time": "2022-06-16T01:12:47.368436",
     "status": "completed"
    },
    "tags": []
   },
   "source": [
    "## Plot: distribution"
   ]
  },
  {
   "cell_type": "code",
   "execution_count": 39,
   "id": "8301126b-a7d4-4744-9c7d-f0f86eb6f54c",
   "metadata": {
    "execution": {
     "iopub.execute_input": "2022-06-16T01:12:57.381817Z",
     "iopub.status.busy": "2022-06-16T01:12:57.381632Z",
     "iopub.status.idle": "2022-06-16T01:12:57.921153Z",
     "shell.execute_reply": "2022-06-16T01:12:57.920719Z"
    },
    "papermill": {
     "duration": 3.961497,
     "end_time": "2022-06-16T01:12:57.922846",
     "exception": false,
     "start_time": "2022-06-16T01:12:53.961349",
     "status": "completed"
    },
    "tags": []
   },
   "outputs": [
    {
     "data": {
      "image/png": "[encoded data removed]",
      "text/plain": [
       "<Figure size 504x504 with 1 Axes>"
      ]
     },
     "metadata": {
      "needs_background": "light"
     },
     "output_type": "display_data"
    }
   ],
   "source": [
    "with sns.plotting_context(\"paper\", font_scale=1.5):\n",
    "    g = sns.displot(gene_corrs, kde=True, height=7)\n",
    "    g.ax.set_title(\n",
    "        f\"Distribution of gene correlation values in chromosome {chromosome}\"\n",
    "    )"
   ]
  },
  {
   "cell_type": "markdown",
   "id": "cbd52bca-d878-4a2f-b684-5c83aa3038d4",
   "metadata": {
    "papermill": {
     "duration": 3.367326,
     "end_time": "2022-06-16T01:13:04.533366",
     "exception": false,
     "start_time": "2022-06-16T01:13:01.166040",
     "status": "completed"
    },
    "tags": []
   },
   "source": [
    "## Plot: heatmap"
   ]
  },
  {
   "cell_type": "code",
   "execution_count": 40,
   "id": "d03fe63a-c7b2-4fb9-a53c-db362ce843c9",
   "metadata": {
    "execution": {
     "iopub.execute_input": "2022-06-16T01:13:11.083383Z",
     "iopub.status.busy": "2022-06-16T01:13:11.083203Z",
     "iopub.status.idle": "2022-06-16T01:13:11.101982Z",
     "shell.execute_reply": "2022-06-16T01:13:11.101476Z"
    },
    "papermill": {
     "duration": 3.340894,
     "end_time": "2022-06-16T01:13:11.103386",
     "exception": false,
     "start_time": "2022-06-16T01:13:07.762492",
     "status": "completed"
    },
    "tags": []
   },
   "outputs": [
    {
     "data": {
      "text/plain": [
       "'-0.05 / 0.05'"
      ]
     },
     "metadata": {},
     "output_type": "display_data"
    }
   ],
   "source": [
    "vmin_val = min(-0.05, gene_corrs_quantiles[0.10])\n",
    "vmax_val = max(0.05, gene_corrs_quantiles[0.90])\n",
    "display(f\"{vmin_val} / {vmax_val}\")"
   ]
  },
  {
   "cell_type": "code",
   "execution_count": 41,
   "id": "dc41b70b-5bcc-4d9e-9f33-a22c4a94dab5",
   "metadata": {
    "execution": {
     "iopub.execute_input": "2022-06-16T01:13:17.709877Z",
     "iopub.status.busy": "2022-06-16T01:13:17.709549Z",
     "iopub.status.idle": "2022-06-16T01:13:18.146850Z",
     "shell.execute_reply": "2022-06-16T01:13:18.146171Z"
    },
    "papermill": {
     "duration": 3.817439,
     "end_time": "2022-06-16T01:13:18.148225",
     "exception": false,
     "start_time": "2022-06-16T01:13:14.330786",
     "status": "completed"
    },
    "tags": []
   },
   "outputs": [
    {
     "data": {
      "text/plain": [
       "Text(0.5, 1.0, 'Gene correlations in chromosome 3')"
      ]
     },
     "execution_count": 41,
     "metadata": {},
     "output_type": "execute_result"
    },
    {
     "data": {
      "image/png": "[encoded data removed]",
      "text/plain": [
       "<Figure size 720x720 with 2 Axes>"
      ]
     },
     "metadata": {
      "needs_background": "light"
     },
     "output_type": "display_data"
    }
   ],
   "source": [
    "f, ax = plt.subplots(figsize=(10, 10))\n",
    "sns.heatmap(\n",
    "    gene_corrs_df,\n",
    "    xticklabels=False,\n",
    "    yticklabels=False,\n",
    "    square=True,\n",
    "    vmin=vmin_val,\n",
    "    vmax=vmax_val,\n",
    "    cmap=\"YlGnBu\",\n",
    "    ax=ax,\n",
    ")\n",
    "ax.set_title(f\"Gene correlations in chromosome {chromosome}\")"
   ]
  },
  {
   "cell_type": "code",
   "execution_count": null,
   "id": "b25e3ead",
   "metadata": {
    "papermill": {
     "duration": 3.360851,
     "end_time": "2022-06-16T01:13:24.758198",
     "exception": false,
     "start_time": "2022-06-16T01:13:21.397347",
     "status": "completed"
    },
    "tags": []
   },
   "outputs": [],
   "source": []
  }
 ],
 "metadata": {
  "jupytext": {
   "cell_metadata_filter": "all,-execution,-papermill,-trusted",
   "formats": "ipynb,py//py:percent"
  },
  "kernelspec": {
   "display_name": "Python 3 (ipykernel)",
   "language": "python",
   "name": "python3"
  },
  "language_info": {
   "codemirror_mode": {
    "name": "ipython",
    "version": 3
   },
   "file_extension": ".py",
   "mimetype": "text/x-python",
   "name": "python",
   "nbconvert_exporter": "python",
   "pygments_lexer": "ipython3",
   "version": "3.8.13"
  },
  "papermill": {
   "default_parameters": {},
   "duration": 19253.193426,
   "end_time": "2022-06-16T01:13:31.042551",
   "environment_variables": {},
   "exception": null,
   "input_path": "nbs/15_gsa_gls/10-gene_expr_correlations.ipynb",
   "output_path": "nbs/15_gsa_gls/gene_corrs/gtex_v8/mashr/10-gene_expr_correlations-chr3.run.ipynb",
   "parameters": {
    "EQTL_MODEL": "MASHR",
    "REFERENCE_PANEL": "GTEX_V8",
    "chromosome": 3
   },
   "start_time": "2022-06-15T19:52:37.849125",
   "version": "2.2.2"
  }
 },
 "nbformat": 4,
 "nbformat_minor": 5
}
