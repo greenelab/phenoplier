{
 "cells": [
  {
   "cell_type": "markdown",
   "id": "7a6632fb",
   "metadata": {
    "papermill": {
     "duration": 0.022975,
     "end_time": "2022-06-15T19:52:39.137952",
     "exception": false,
     "start_time": "2022-06-15T19:52:39.114977",
     "status": "completed"
    },
    "tags": []
   },
   "source": [
    "# Description"
   ]
  },
  {
   "cell_type": "markdown",
   "id": "7097c346",
   "metadata": {
    "papermill": {
     "duration": 0.031112,
     "end_time": "2022-06-15T19:52:39.189639",
     "exception": false,
     "start_time": "2022-06-15T19:52:39.158527",
     "status": "completed"
    },
    "tags": []
   },
   "source": [
    "(Please, take a look at the README.md file in this directory for instructions on how to run this notebook)\n",
    "\n",
    "This notebook computes predicted expression correlations between all genes in the MultiPLIER models.\n",
    "\n",
    "It also has a parameter set for papermill to run on a single chromosome to run in parallel (see under `Settings` below).\n",
    "\n",
    "This notebook is not directly run. See README.md."
   ]
  },
  {
   "cell_type": "markdown",
   "id": "c61d8427",
   "metadata": {
    "papermill": {
     "duration": 0.009459,
     "end_time": "2022-06-15T19:52:39.215713",
     "exception": false,
     "start_time": "2022-06-15T19:52:39.206254",
     "status": "completed"
    },
    "tags": []
   },
   "source": [
    "# Modules"
   ]
  },
  {
   "cell_type": "code",
   "execution_count": 1,
   "id": "bbc0234f",
   "metadata": {
    "execution": {
     "iopub.execute_input": "2022-06-15T19:52:39.230835Z",
     "iopub.status.busy": "2022-06-15T19:52:39.230619Z",
     "iopub.status.idle": "2022-06-15T19:52:39.245759Z",
     "shell.execute_reply": "2022-06-15T19:52:39.245258Z"
    },
    "papermill": {
     "duration": 0.023862,
     "end_time": "2022-06-15T19:52:39.247165",
     "exception": false,
     "start_time": "2022-06-15T19:52:39.223303",
     "status": "completed"
    },
    "tags": []
   },
   "outputs": [],
   "source": [
    "%load_ext autoreload\n",
    "%autoreload 2"
   ]
  },
  {
   "cell_type": "code",
   "execution_count": 2,
   "id": "1d5f5a59",
   "metadata": {
    "execution": {
     "iopub.execute_input": "2022-06-15T19:52:39.258887Z",
     "iopub.status.busy": "2022-06-15T19:52:39.258697Z",
     "iopub.status.idle": "2022-06-15T19:52:40.218487Z",
     "shell.execute_reply": "2022-06-15T19:52:40.217828Z"
    },
    "papermill": {
     "duration": 0.967863,
     "end_time": "2022-06-15T19:52:40.220221",
     "exception": false,
     "start_time": "2022-06-15T19:52:39.252358",
     "status": "completed"
    },
    "tags": []
   },
   "outputs": [],
   "source": [
    "from random import sample\n",
    "import warnings\n",
    "\n",
    "import numpy as np\n",
    "from scipy.spatial.distance import squareform\n",
    "import pandas as pd\n",
    "from tqdm import tqdm\n",
    "import matplotlib.pyplot as plt\n",
    "import seaborn as sns\n",
    "\n",
    "import conf\n",
    "from entity import Gene"
   ]
  },
  {
   "cell_type": "markdown",
   "id": "1eac24b5",
   "metadata": {
    "papermill": {
     "duration": 0.006217,
     "end_time": "2022-06-15T19:52:40.264821",
     "exception": false,
     "start_time": "2022-06-15T19:52:40.258604",
     "status": "completed"
    },
    "tags": []
   },
   "source": [
    "# Settings"
   ]
  },
  {
   "cell_type": "code",
   "execution_count": 3,
   "id": "ca4560ba",
   "metadata": {
    "execution": {
     "iopub.execute_input": "2022-06-15T19:52:40.278998Z",
     "iopub.status.busy": "2022-06-15T19:52:40.278767Z",
     "iopub.status.idle": "2022-06-15T19:52:40.298974Z",
     "shell.execute_reply": "2022-06-15T19:52:40.298408Z"
    },
    "papermill": {
     "duration": 0.029286,
     "end_time": "2022-06-15T19:52:40.300581",
     "exception": false,
     "start_time": "2022-06-15T19:52:40.271295",
     "status": "completed"
    },
    "tags": [
     "parameters"
    ]
   },
   "outputs": [],
   "source": [
    "# reference panel\n",
    "REFERENCE_PANEL = \"GTEX_V8\"\n",
    "# REFERENCE_PANEL = \"1000G\"\n",
    "\n",
    "# prediction models\n",
    "## mashr\n",
    "EQTL_MODEL = \"MASHR\"\n",
    "EQTL_MODEL_FILES_PREFIX = \"mashr_\"\n",
    "\n",
    "# ## elastic net\n",
    "# EQTL_MODEL = \"ELASTIC_NET\"\n",
    "# EQTL_MODEL_FILES_PREFIX = \"en_\"\n",
    "\n",
    "# make it read the prefix from conf.py\n",
    "EQTL_MODEL_FILES_PREFIX = None\n",
    "\n",
    "# this is the default value used in S-MultiXcan to select the\n",
    "# top principal components of the expression correlation matrix\n",
    "SMULTIXCAN_CONDITION_NUMBER = 30\n",
    "\n",
    "# specifies a single chromosome value\n",
    "# by default, run on all chromosomes\n",
    "chromosome = None"
   ]
  },
  {
   "cell_type": "code",
   "execution_count": 4,
   "id": "c9ca1e9d",
   "metadata": {
    "execution": {
     "iopub.execute_input": "2022-06-15T19:52:40.314973Z",
     "iopub.status.busy": "2022-06-15T19:52:40.314415Z",
     "iopub.status.idle": "2022-06-15T19:52:40.333175Z",
     "shell.execute_reply": "2022-06-15T19:52:40.332577Z"
    },
    "papermill": {
     "duration": 0.027431,
     "end_time": "2022-06-15T19:52:40.334718",
     "exception": false,
     "start_time": "2022-06-15T19:52:40.307287",
     "status": "completed"
    },
    "tags": [
     "injected-parameters"
    ]
   },
   "outputs": [],
   "source": [
    "# Parameters\n",
    "chromosome = 2\n",
    "REFERENCE_PANEL = \"GTEX_V8\"\n",
    "EQTL_MODEL = \"MASHR\"\n"
   ]
  },
  {
   "cell_type": "code",
   "execution_count": 5,
   "id": "a089c9ff",
   "metadata": {
    "execution": {
     "iopub.execute_input": "2022-06-15T19:52:40.349639Z",
     "iopub.status.busy": "2022-06-15T19:52:40.349427Z",
     "iopub.status.idle": "2022-06-15T19:52:40.366968Z",
     "shell.execute_reply": "2022-06-15T19:52:40.366404Z"
    },
    "papermill": {
     "duration": 0.026016,
     "end_time": "2022-06-15T19:52:40.368433",
     "exception": false,
     "start_time": "2022-06-15T19:52:40.342417",
     "status": "completed"
    },
    "tags": []
   },
   "outputs": [],
   "source": [
    "if EQTL_MODEL_FILES_PREFIX is None:\n",
    "    EQTL_MODEL_FILES_PREFIX = conf.PHENOMEXCAN[\"PREDICTION_MODELS\"][\n",
    "        f\"{EQTL_MODEL}_PREFIX\"\n",
    "    ]"
   ]
  },
  {
   "cell_type": "code",
   "execution_count": 6,
   "id": "8fe24bef",
   "metadata": {
    "execution": {
     "iopub.execute_input": "2022-06-15T19:52:40.384385Z",
     "iopub.status.busy": "2022-06-15T19:52:40.383925Z",
     "iopub.status.idle": "2022-06-15T19:52:40.402337Z",
     "shell.execute_reply": "2022-06-15T19:52:40.401886Z"
    },
    "papermill": {
     "duration": 0.026695,
     "end_time": "2022-06-15T19:52:40.403688",
     "exception": false,
     "start_time": "2022-06-15T19:52:40.376993",
     "status": "completed"
    },
    "tags": []
   },
   "outputs": [
    {
     "data": {
      "text/plain": [
       "'Using eQTL model: MASHR / mashr_'"
      ]
     },
     "metadata": {},
     "output_type": "display_data"
    }
   ],
   "source": [
    "display(f\"Using eQTL model: {EQTL_MODEL} / {EQTL_MODEL_FILES_PREFIX}\")"
   ]
  },
  {
   "cell_type": "code",
   "execution_count": 7,
   "id": "0230ebcb-2c32-4b95-9292-d9a52038e70d",
   "metadata": {
    "execution": {
     "iopub.execute_input": "2022-06-15T19:52:40.417534Z",
     "iopub.status.busy": "2022-06-15T19:52:40.416418Z",
     "iopub.status.idle": "2022-06-15T19:52:40.432832Z",
     "shell.execute_reply": "2022-06-15T19:52:40.432314Z"
    },
    "papermill": {
     "duration": 0.025004,
     "end_time": "2022-06-15T19:52:40.434749",
     "exception": false,
     "start_time": "2022-06-15T19:52:40.409745",
     "status": "completed"
    },
    "tags": []
   },
   "outputs": [],
   "source": [
    "REFERENCE_PANEL_DIR = conf.PHENOMEXCAN[\"LD_BLOCKS\"][f\"{REFERENCE_PANEL}_GENOTYPE_DIR\"]"
   ]
  },
  {
   "cell_type": "code",
   "execution_count": 8,
   "id": "98c4a159-601d-4a22-a1ab-35bd451c25f9",
   "metadata": {
    "execution": {
     "iopub.execute_input": "2022-06-15T19:52:40.447746Z",
     "iopub.status.busy": "2022-06-15T19:52:40.447563Z",
     "iopub.status.idle": "2022-06-15T19:52:40.465455Z",
     "shell.execute_reply": "2022-06-15T19:52:40.464978Z"
    },
    "papermill": {
     "duration": 0.027417,
     "end_time": "2022-06-15T19:52:40.468238",
     "exception": false,
     "start_time": "2022-06-15T19:52:40.440821",
     "status": "completed"
    },
    "tags": []
   },
   "outputs": [
    {
     "data": {
      "text/plain": [
       "'Using reference panel folder: /opt/data/data/phenomexcan/ld_blocks/reference_panel_gtex_v8'"
      ]
     },
     "metadata": {},
     "output_type": "display_data"
    }
   ],
   "source": [
    "display(f\"Using reference panel folder: {str(REFERENCE_PANEL_DIR)}\")"
   ]
  },
  {
   "cell_type": "code",
   "execution_count": 9,
   "id": "396392dc-0340-4540-9b02-e182b833f909",
   "metadata": {
    "execution": {
     "iopub.execute_input": "2022-06-15T19:52:40.481338Z",
     "iopub.status.busy": "2022-06-15T19:52:40.481159Z",
     "iopub.status.idle": "2022-06-15T19:52:40.498684Z",
     "shell.execute_reply": "2022-06-15T19:52:40.497073Z"
    },
    "papermill": {
     "duration": 0.025882,
     "end_time": "2022-06-15T19:52:40.500303",
     "exception": false,
     "start_time": "2022-06-15T19:52:40.474421",
     "status": "completed"
    },
    "tags": []
   },
   "outputs": [],
   "source": [
    "OUTPUT_DIR_BASE = (\n",
    "    conf.PHENOMEXCAN[\"LD_BLOCKS\"][f\"GENE_CORRS_DIR\"]\n",
    "    / REFERENCE_PANEL.lower()\n",
    "    / EQTL_MODEL.lower()\n",
    ")\n",
    "OUTPUT_DIR_BASE.mkdir(parents=True, exist_ok=True)"
   ]
  },
  {
   "cell_type": "code",
   "execution_count": 10,
   "id": "8942c2d3-e53c-4d63-a0eb-b6fce0574d36",
   "metadata": {
    "execution": {
     "iopub.execute_input": "2022-06-15T19:52:40.513276Z",
     "iopub.status.busy": "2022-06-15T19:52:40.513096Z",
     "iopub.status.idle": "2022-06-15T19:52:40.530420Z",
     "shell.execute_reply": "2022-06-15T19:52:40.529887Z"
    },
    "papermill": {
     "duration": 0.025282,
     "end_time": "2022-06-15T19:52:40.531722",
     "exception": false,
     "start_time": "2022-06-15T19:52:40.506440",
     "status": "completed"
    },
    "tags": []
   },
   "outputs": [
    {
     "data": {
      "text/plain": [
       "'Using output dir base: /opt/data/data/phenomexcan/ld_blocks/gene_corrs/gtex_v8/mashr'"
      ]
     },
     "metadata": {},
     "output_type": "display_data"
    }
   ],
   "source": [
    "display(f\"Using output dir base: {OUTPUT_DIR_BASE}\")"
   ]
  },
  {
   "cell_type": "code",
   "execution_count": 11,
   "id": "408aa590",
   "metadata": {
    "execution": {
     "iopub.execute_input": "2022-06-15T19:52:40.545107Z",
     "iopub.status.busy": "2022-06-15T19:52:40.544925Z",
     "iopub.status.idle": "2022-06-15T19:52:40.561682Z",
     "shell.execute_reply": "2022-06-15T19:52:40.561103Z"
    },
    "papermill": {
     "duration": 0.025086,
     "end_time": "2022-06-15T19:52:40.563167",
     "exception": false,
     "start_time": "2022-06-15T19:52:40.538081",
     "status": "completed"
    },
    "tags": []
   },
   "outputs": [],
   "source": [
    "assert (\n",
    "    chromosome is not None\n",
    "), \"You have to select one chromosome (format: number between 1 and 22)\""
   ]
  },
  {
   "cell_type": "code",
   "execution_count": 12,
   "id": "c1c7dd06-80ff-453c-bcb7-0899edce75da",
   "metadata": {
    "execution": {
     "iopub.execute_input": "2022-06-15T19:52:40.577563Z",
     "iopub.status.busy": "2022-06-15T19:52:40.577367Z",
     "iopub.status.idle": "2022-06-15T19:52:40.593027Z",
     "shell.execute_reply": "2022-06-15T19:52:40.592470Z"
    },
    "papermill": {
     "duration": 0.024182,
     "end_time": "2022-06-15T19:52:40.594539",
     "exception": false,
     "start_time": "2022-06-15T19:52:40.570357",
     "status": "completed"
    },
    "tags": []
   },
   "outputs": [],
   "source": [
    "chromosome = str(chromosome)"
   ]
  },
  {
   "cell_type": "code",
   "execution_count": 13,
   "id": "bc17b84c-9c26-47a5-a3ab-7046e72f3ef4",
   "metadata": {
    "execution": {
     "iopub.execute_input": "2022-06-15T19:52:40.608677Z",
     "iopub.status.busy": "2022-06-15T19:52:40.608496Z",
     "iopub.status.idle": "2022-06-15T19:52:40.626099Z",
     "shell.execute_reply": "2022-06-15T19:52:40.625557Z"
    },
    "papermill": {
     "duration": 0.026638,
     "end_time": "2022-06-15T19:52:40.627510",
     "exception": false,
     "start_time": "2022-06-15T19:52:40.600872",
     "status": "completed"
    },
    "tags": []
   },
   "outputs": [
    {
     "data": {
      "text/plain": [
       "'Working on chromosome 2'"
      ]
     },
     "metadata": {},
     "output_type": "display_data"
    }
   ],
   "source": [
    "display(f\"Working on chromosome {chromosome}\")"
   ]
  },
  {
   "cell_type": "markdown",
   "id": "d2ba085e",
   "metadata": {
    "papermill": {
     "duration": 0.006319,
     "end_time": "2022-06-15T19:52:40.641984",
     "exception": false,
     "start_time": "2022-06-15T19:52:40.635665",
     "status": "completed"
    },
    "tags": []
   },
   "source": [
    "# Load data"
   ]
  },
  {
   "cell_type": "markdown",
   "id": "abcc4b3d",
   "metadata": {
    "papermill": {
     "duration": 0.006272,
     "end_time": "2022-06-15T19:52:40.654767",
     "exception": false,
     "start_time": "2022-06-15T19:52:40.648495",
     "status": "completed"
    },
    "tags": []
   },
   "source": [
    "## MultiPLIER Z"
   ]
  },
  {
   "cell_type": "code",
   "execution_count": 14,
   "id": "c48ef527",
   "metadata": {
    "execution": {
     "iopub.execute_input": "2022-06-15T19:52:40.668564Z",
     "iopub.status.busy": "2022-06-15T19:52:40.668380Z",
     "iopub.status.idle": "2022-06-15T19:52:40.708866Z",
     "shell.execute_reply": "2022-06-15T19:52:40.708411Z"
    },
    "papermill": {
     "duration": 0.049032,
     "end_time": "2022-06-15T19:52:40.710253",
     "exception": false,
     "start_time": "2022-06-15T19:52:40.661221",
     "status": "completed"
    },
    "tags": []
   },
   "outputs": [],
   "source": [
    "multiplier_z_genes = pd.read_pickle(\n",
    "    conf.MULTIPLIER[\"MODEL_Z_MATRIX_FILE\"]\n",
    ").index.tolist()"
   ]
  },
  {
   "cell_type": "code",
   "execution_count": 15,
   "id": "0a4ecbd9",
   "metadata": {
    "execution": {
     "iopub.execute_input": "2022-06-15T19:52:40.727833Z",
     "iopub.status.busy": "2022-06-15T19:52:40.726763Z",
     "iopub.status.idle": "2022-06-15T19:52:40.746112Z",
     "shell.execute_reply": "2022-06-15T19:52:40.745516Z"
    },
    "papermill": {
     "duration": 0.031013,
     "end_time": "2022-06-15T19:52:40.747717",
     "exception": false,
     "start_time": "2022-06-15T19:52:40.716704",
     "status": "completed"
    },
    "tags": []
   },
   "outputs": [
    {
     "data": {
      "text/plain": [
       "6750"
      ]
     },
     "execution_count": 15,
     "metadata": {},
     "output_type": "execute_result"
    }
   ],
   "source": [
    "len(multiplier_z_genes)"
   ]
  },
  {
   "cell_type": "code",
   "execution_count": 16,
   "id": "115e8864",
   "metadata": {
    "execution": {
     "iopub.execute_input": "2022-06-15T19:52:40.767678Z",
     "iopub.status.busy": "2022-06-15T19:52:40.767212Z",
     "iopub.status.idle": "2022-06-15T19:52:40.788333Z",
     "shell.execute_reply": "2022-06-15T19:52:40.787788Z"
    },
    "papermill": {
     "duration": 0.030296,
     "end_time": "2022-06-15T19:52:40.789793",
     "exception": false,
     "start_time": "2022-06-15T19:52:40.759497",
     "status": "completed"
    },
    "tags": []
   },
   "outputs": [
    {
     "data": {
      "text/plain": [
       "['GAS6',\n",
       " 'MMP14',\n",
       " 'DSP',\n",
       " 'MARCKSL1',\n",
       " 'SPARC',\n",
       " 'CTSD',\n",
       " 'EPAS1',\n",
       " 'PALLD',\n",
       " 'PHC2',\n",
       " 'LGALS3BP']"
      ]
     },
     "execution_count": 16,
     "metadata": {},
     "output_type": "execute_result"
    }
   ],
   "source": [
    "multiplier_z_genes[:10]"
   ]
  },
  {
   "cell_type": "markdown",
   "id": "7dcb8db7",
   "metadata": {
    "papermill": {
     "duration": 0.008347,
     "end_time": "2022-06-15T19:52:40.804987",
     "exception": false,
     "start_time": "2022-06-15T19:52:40.796640",
     "status": "completed"
    },
    "tags": []
   },
   "source": [
    "## Get gene objects"
   ]
  },
  {
   "cell_type": "code",
   "execution_count": 17,
   "id": "bb932812",
   "metadata": {
    "execution": {
     "iopub.execute_input": "2022-06-15T19:52:40.820406Z",
     "iopub.status.busy": "2022-06-15T19:52:40.819993Z",
     "iopub.status.idle": "2022-06-15T19:52:40.843179Z",
     "shell.execute_reply": "2022-06-15T19:52:40.842637Z"
    },
    "papermill": {
     "duration": 0.032859,
     "end_time": "2022-06-15T19:52:40.844575",
     "exception": false,
     "start_time": "2022-06-15T19:52:40.811716",
     "status": "completed"
    },
    "tags": []
   },
   "outputs": [],
   "source": [
    "multiplier_gene_obj = {\n",
    "    gene_name: Gene(name=gene_name)\n",
    "    for gene_name in multiplier_z_genes\n",
    "    if gene_name in Gene.GENE_NAME_TO_ID_MAP\n",
    "}"
   ]
  },
  {
   "cell_type": "code",
   "execution_count": 18,
   "id": "39533214",
   "metadata": {
    "execution": {
     "iopub.execute_input": "2022-06-15T19:52:40.858744Z",
     "iopub.status.busy": "2022-06-15T19:52:40.858570Z",
     "iopub.status.idle": "2022-06-15T19:52:40.876849Z",
     "shell.execute_reply": "2022-06-15T19:52:40.876391Z"
    },
    "papermill": {
     "duration": 0.028085,
     "end_time": "2022-06-15T19:52:40.879606",
     "exception": false,
     "start_time": "2022-06-15T19:52:40.851521",
     "status": "completed"
    },
    "tags": []
   },
   "outputs": [
    {
     "data": {
      "text/plain": [
       "6454"
      ]
     },
     "execution_count": 18,
     "metadata": {},
     "output_type": "execute_result"
    }
   ],
   "source": [
    "len(multiplier_gene_obj)"
   ]
  },
  {
   "cell_type": "code",
   "execution_count": 19,
   "id": "9a5d0b84",
   "metadata": {
    "execution": {
     "iopub.execute_input": "2022-06-15T19:52:40.898605Z",
     "iopub.status.busy": "2022-06-15T19:52:40.898230Z",
     "iopub.status.idle": "2022-06-15T19:52:40.917289Z",
     "shell.execute_reply": "2022-06-15T19:52:40.916774Z"
    },
    "papermill": {
     "duration": 0.032151,
     "end_time": "2022-06-15T19:52:40.918691",
     "exception": false,
     "start_time": "2022-06-15T19:52:40.886540",
     "status": "completed"
    },
    "tags": []
   },
   "outputs": [
    {
     "data": {
      "text/plain": [
       "'ENSG00000183087'"
      ]
     },
     "execution_count": 19,
     "metadata": {},
     "output_type": "execute_result"
    }
   ],
   "source": [
    "multiplier_gene_obj[\"GAS6\"].ensembl_id"
   ]
  },
  {
   "cell_type": "code",
   "execution_count": 20,
   "id": "e3ffabc7",
   "metadata": {
    "execution": {
     "iopub.execute_input": "2022-06-15T19:52:40.934067Z",
     "iopub.status.busy": "2022-06-15T19:52:40.933733Z",
     "iopub.status.idle": "2022-06-15T19:52:42.952436Z",
     "shell.execute_reply": "2022-06-15T19:52:42.951868Z"
    },
    "papermill": {
     "duration": 2.027876,
     "end_time": "2022-06-15T19:52:42.953819",
     "exception": false,
     "start_time": "2022-06-15T19:52:40.925943",
     "status": "completed"
    },
    "tags": []
   },
   "outputs": [],
   "source": [
    "_gene_obj = list(multiplier_gene_obj.values())\n",
    "\n",
    "genes_info = pd.DataFrame(\n",
    "    {\n",
    "        \"name\": [g.name for g in _gene_obj],\n",
    "        \"id\": [g.ensembl_id for g in _gene_obj],\n",
    "        \"chr\": [g.chromosome for g in _gene_obj],\n",
    "        \"band\": [g.band for g in _gene_obj],\n",
    "        \"start_position\": [g.get_attribute(\"start_position\") for g in _gene_obj],\n",
    "    }\n",
    ")"
   ]
  },
  {
   "cell_type": "code",
   "execution_count": 21,
   "id": "e23519b8",
   "metadata": {
    "execution": {
     "iopub.execute_input": "2022-06-15T19:52:42.967426Z",
     "iopub.status.busy": "2022-06-15T19:52:42.967008Z",
     "iopub.status.idle": "2022-06-15T19:52:42.982958Z",
     "shell.execute_reply": "2022-06-15T19:52:42.982339Z"
    },
    "papermill": {
     "duration": 0.024424,
     "end_time": "2022-06-15T19:52:42.984377",
     "exception": false,
     "start_time": "2022-06-15T19:52:42.959953",
     "status": "completed"
    },
    "tags": []
   },
   "outputs": [
    {
     "data": {
      "text/plain": [
       "(6454, 5)"
      ]
     },
     "execution_count": 21,
     "metadata": {},
     "output_type": "execute_result"
    }
   ],
   "source": [
    "genes_info.shape"
   ]
  },
  {
   "cell_type": "code",
   "execution_count": 22,
   "id": "0d71881c",
   "metadata": {
    "execution": {
     "iopub.execute_input": "2022-06-15T19:52:42.998458Z",
     "iopub.status.busy": "2022-06-15T19:52:42.997948Z",
     "iopub.status.idle": "2022-06-15T19:52:43.018749Z",
     "shell.execute_reply": "2022-06-15T19:52:43.018144Z"
    },
    "papermill": {
     "duration": 0.02949,
     "end_time": "2022-06-15T19:52:43.020568",
     "exception": false,
     "start_time": "2022-06-15T19:52:42.991078",
     "status": "completed"
    },
    "tags": []
   },
   "outputs": [
    {
     "data": {
      "text/html": [
       "<div>\n",
       "<style scoped>\n",
       "    .dataframe tbody tr th:only-of-type {\n",
       "        vertical-align: middle;\n",
       "    }\n",
       "\n",
       "    .dataframe tbody tr th {\n",
       "        vertical-align: top;\n",
       "    }\n",
       "\n",
       "    .dataframe thead th {\n",
       "        text-align: right;\n",
       "    }\n",
       "</style>\n",
       "<table border=\"1\" class=\"dataframe\">\n",
       "  <thead>\n",
       "    <tr style=\"text-align: right;\">\n",
       "      <th></th>\n",
       "      <th>name</th>\n",
       "      <th>id</th>\n",
       "      <th>chr</th>\n",
       "      <th>band</th>\n",
       "      <th>start_position</th>\n",
       "    </tr>\n",
       "  </thead>\n",
       "  <tbody>\n",
       "    <tr>\n",
       "      <th>0</th>\n",
       "      <td>GAS6</td>\n",
       "      <td>ENSG00000183087</td>\n",
       "      <td>13</td>\n",
       "      <td>13q34</td>\n",
       "      <td>113820549.0</td>\n",
       "    </tr>\n",
       "    <tr>\n",
       "      <th>1</th>\n",
       "      <td>MMP14</td>\n",
       "      <td>ENSG00000157227</td>\n",
       "      <td>14</td>\n",
       "      <td>14q11.2</td>\n",
       "      <td>22836560.0</td>\n",
       "    </tr>\n",
       "    <tr>\n",
       "      <th>2</th>\n",
       "      <td>DSP</td>\n",
       "      <td>ENSG00000096696</td>\n",
       "      <td>6</td>\n",
       "      <td>6p24.3</td>\n",
       "      <td>7541617.0</td>\n",
       "    </tr>\n",
       "    <tr>\n",
       "      <th>3</th>\n",
       "      <td>MARCKSL1</td>\n",
       "      <td>ENSG00000175130</td>\n",
       "      <td>1</td>\n",
       "      <td>1p35.1</td>\n",
       "      <td>32333839.0</td>\n",
       "    </tr>\n",
       "    <tr>\n",
       "      <th>4</th>\n",
       "      <td>SPARC</td>\n",
       "      <td>ENSG00000113140</td>\n",
       "      <td>5</td>\n",
       "      <td>5q33.1</td>\n",
       "      <td>151661096.0</td>\n",
       "    </tr>\n",
       "  </tbody>\n",
       "</table>\n",
       "</div>"
      ],
      "text/plain": [
       "       name               id chr     band  start_position\n",
       "0      GAS6  ENSG00000183087  13    13q34     113820549.0\n",
       "1     MMP14  ENSG00000157227  14  14q11.2      22836560.0\n",
       "2       DSP  ENSG00000096696   6   6p24.3       7541617.0\n",
       "3  MARCKSL1  ENSG00000175130   1   1p35.1      32333839.0\n",
       "4     SPARC  ENSG00000113140   5   5q33.1     151661096.0"
      ]
     },
     "execution_count": 22,
     "metadata": {},
     "output_type": "execute_result"
    }
   ],
   "source": [
    "genes_info.head()"
   ]
  },
  {
   "cell_type": "markdown",
   "id": "8c9dbb4a",
   "metadata": {
    "papermill": {
     "duration": 0.006507,
     "end_time": "2022-06-15T19:52:43.034107",
     "exception": false,
     "start_time": "2022-06-15T19:52:43.027600",
     "status": "completed"
    },
    "tags": []
   },
   "source": [
    "## Get tissues names"
   ]
  },
  {
   "cell_type": "code",
   "execution_count": 23,
   "id": "2bc52419",
   "metadata": {
    "execution": {
     "iopub.execute_input": "2022-06-15T19:52:43.048588Z",
     "iopub.status.busy": "2022-06-15T19:52:43.048246Z",
     "iopub.status.idle": "2022-06-15T19:52:43.063621Z",
     "shell.execute_reply": "2022-06-15T19:52:43.063088Z"
    },
    "papermill": {
     "duration": 0.024157,
     "end_time": "2022-06-15T19:52:43.065016",
     "exception": false,
     "start_time": "2022-06-15T19:52:43.040859",
     "status": "completed"
    },
    "tags": []
   },
   "outputs": [],
   "source": [
    "tissues = conf.PHENOMEXCAN[\"PREDICTION_MODELS\"][f\"{EQTL_MODEL}_TISSUES\"].split(\" \")"
   ]
  },
  {
   "cell_type": "code",
   "execution_count": 24,
   "id": "64b293a1",
   "metadata": {
    "execution": {
     "iopub.execute_input": "2022-06-15T19:52:43.079744Z",
     "iopub.status.busy": "2022-06-15T19:52:43.079310Z",
     "iopub.status.idle": "2022-06-15T19:52:43.094830Z",
     "shell.execute_reply": "2022-06-15T19:52:43.094285Z"
    },
    "papermill": {
     "duration": 0.024038,
     "end_time": "2022-06-15T19:52:43.096089",
     "exception": false,
     "start_time": "2022-06-15T19:52:43.072051",
     "status": "completed"
    },
    "tags": []
   },
   "outputs": [
    {
     "data": {
      "text/plain": [
       "['Skin_Not_Sun_Exposed_Suprapubic',\n",
       " 'Cells_EBV-transformed_lymphocytes',\n",
       " 'Brain_Frontal_Cortex_BA9',\n",
       " 'Kidney_Cortex',\n",
       " 'Brain_Substantia_nigra']"
      ]
     },
     "execution_count": 24,
     "metadata": {},
     "output_type": "execute_result"
    }
   ],
   "source": [
    "tissues[:5]"
   ]
  },
  {
   "cell_type": "code",
   "execution_count": 25,
   "id": "48a7202a",
   "metadata": {
    "execution": {
     "iopub.execute_input": "2022-06-15T19:52:43.110794Z",
     "iopub.status.busy": "2022-06-15T19:52:43.110620Z",
     "iopub.status.idle": "2022-06-15T19:52:43.125294Z",
     "shell.execute_reply": "2022-06-15T19:52:43.124871Z"
    },
    "papermill": {
     "duration": 0.023654,
     "end_time": "2022-06-15T19:52:43.126683",
     "exception": false,
     "start_time": "2022-06-15T19:52:43.103029",
     "status": "completed"
    },
    "tags": []
   },
   "outputs": [],
   "source": [
    "assert len(tissues) == 49"
   ]
  },
  {
   "cell_type": "markdown",
   "id": "c8d1038f",
   "metadata": {
    "papermill": {
     "duration": 0.007041,
     "end_time": "2022-06-15T19:52:43.141494",
     "exception": false,
     "start_time": "2022-06-15T19:52:43.134453",
     "status": "completed"
    },
    "tags": []
   },
   "source": [
    "# Test"
   ]
  },
  {
   "cell_type": "code",
   "execution_count": 26,
   "id": "64993abf",
   "metadata": {
    "execution": {
     "iopub.execute_input": "2022-06-15T19:52:43.160876Z",
     "iopub.status.busy": "2022-06-15T19:52:43.160514Z",
     "iopub.status.idle": "2022-06-15T19:52:43.186714Z",
     "shell.execute_reply": "2022-06-15T19:52:43.186130Z"
    },
    "papermill": {
     "duration": 0.039914,
     "end_time": "2022-06-15T19:52:43.188216",
     "exception": false,
     "start_time": "2022-06-15T19:52:43.148302",
     "status": "completed"
    },
    "tags": []
   },
   "outputs": [
    {
     "data": {
      "text/html": [
       "<div>\n",
       "<style scoped>\n",
       "    .dataframe tbody tr th:only-of-type {\n",
       "        vertical-align: middle;\n",
       "    }\n",
       "\n",
       "    .dataframe tbody tr th {\n",
       "        vertical-align: top;\n",
       "    }\n",
       "\n",
       "    .dataframe thead th {\n",
       "        text-align: right;\n",
       "    }\n",
       "</style>\n",
       "<table border=\"1\" class=\"dataframe\">\n",
       "  <thead>\n",
       "    <tr style=\"text-align: right;\">\n",
       "      <th></th>\n",
       "      <th>name</th>\n",
       "      <th>id</th>\n",
       "      <th>chr</th>\n",
       "      <th>band</th>\n",
       "      <th>start_position</th>\n",
       "    </tr>\n",
       "  </thead>\n",
       "  <tbody>\n",
       "    <tr>\n",
       "      <th>6</th>\n",
       "      <td>EPAS1</td>\n",
       "      <td>ENSG00000116016</td>\n",
       "      <td>2</td>\n",
       "      <td>2p21</td>\n",
       "      <td>46293667.0</td>\n",
       "    </tr>\n",
       "    <tr>\n",
       "      <th>19</th>\n",
       "      <td>SDC1</td>\n",
       "      <td>ENSG00000115884</td>\n",
       "      <td>2</td>\n",
       "      <td>2p24.1</td>\n",
       "      <td>20200797.0</td>\n",
       "    </tr>\n",
       "    <tr>\n",
       "      <th>25</th>\n",
       "      <td>COL6A3</td>\n",
       "      <td>ENSG00000163359</td>\n",
       "      <td>2</td>\n",
       "      <td>2q37.3</td>\n",
       "      <td>237324003.0</td>\n",
       "    </tr>\n",
       "    <tr>\n",
       "      <th>38</th>\n",
       "      <td>RRM2</td>\n",
       "      <td>ENSG00000171848</td>\n",
       "      <td>2</td>\n",
       "      <td>2p25.1</td>\n",
       "      <td>10120698.0</td>\n",
       "    </tr>\n",
       "    <tr>\n",
       "      <th>48</th>\n",
       "      <td>RALB</td>\n",
       "      <td>ENSG00000144118</td>\n",
       "      <td>2</td>\n",
       "      <td>2q14.2</td>\n",
       "      <td>120240064.0</td>\n",
       "    </tr>\n",
       "    <tr>\n",
       "      <th>...</th>\n",
       "      <td>...</td>\n",
       "      <td>...</td>\n",
       "      <td>...</td>\n",
       "      <td>...</td>\n",
       "      <td>...</td>\n",
       "    </tr>\n",
       "    <tr>\n",
       "      <th>6378</th>\n",
       "      <td>SMARCAL1</td>\n",
       "      <td>ENSG00000138375</td>\n",
       "      <td>2</td>\n",
       "      <td>2q35</td>\n",
       "      <td>216412414.0</td>\n",
       "    </tr>\n",
       "    <tr>\n",
       "      <th>6394</th>\n",
       "      <td>PTMA</td>\n",
       "      <td>ENSG00000187514</td>\n",
       "      <td>2</td>\n",
       "      <td>2q37.1</td>\n",
       "      <td>231706895.0</td>\n",
       "    </tr>\n",
       "    <tr>\n",
       "      <th>6398</th>\n",
       "      <td>CPS1</td>\n",
       "      <td>ENSG00000021826</td>\n",
       "      <td>2</td>\n",
       "      <td>2q34</td>\n",
       "      <td>210477682.0</td>\n",
       "    </tr>\n",
       "    <tr>\n",
       "      <th>6404</th>\n",
       "      <td>TGFA</td>\n",
       "      <td>ENSG00000163235</td>\n",
       "      <td>2</td>\n",
       "      <td>2p13.3</td>\n",
       "      <td>70447284.0</td>\n",
       "    </tr>\n",
       "    <tr>\n",
       "      <th>6429</th>\n",
       "      <td>STON1</td>\n",
       "      <td>ENSG00000243244</td>\n",
       "      <td>2</td>\n",
       "      <td>2p16.3</td>\n",
       "      <td>48529383.0</td>\n",
       "    </tr>\n",
       "  </tbody>\n",
       "</table>\n",
       "<p>445 rows × 5 columns</p>\n",
       "</div>"
      ],
      "text/plain": [
       "          name               id chr    band  start_position\n",
       "6        EPAS1  ENSG00000116016   2    2p21      46293667.0\n",
       "19        SDC1  ENSG00000115884   2  2p24.1      20200797.0\n",
       "25      COL6A3  ENSG00000163359   2  2q37.3     237324003.0\n",
       "38        RRM2  ENSG00000171848   2  2p25.1      10120698.0\n",
       "48        RALB  ENSG00000144118   2  2q14.2     120240064.0\n",
       "...        ...              ...  ..     ...             ...\n",
       "6378  SMARCAL1  ENSG00000138375   2    2q35     216412414.0\n",
       "6394      PTMA  ENSG00000187514   2  2q37.1     231706895.0\n",
       "6398      CPS1  ENSG00000021826   2    2q34     210477682.0\n",
       "6404      TGFA  ENSG00000163235   2  2p13.3      70447284.0\n",
       "6429     STON1  ENSG00000243244   2  2p16.3      48529383.0\n",
       "\n",
       "[445 rows x 5 columns]"
      ]
     },
     "metadata": {},
     "output_type": "display_data"
    }
   ],
   "source": [
    "chromosome_genes_info = genes_info[genes_info[\"chr\"] == chromosome]\n",
    "display(chromosome_genes_info)"
   ]
  },
  {
   "cell_type": "code",
   "execution_count": 27,
   "id": "d2e42726-7de6-46eb-acfc-6323eaa8fae6",
   "metadata": {
    "execution": {
     "iopub.execute_input": "2022-06-15T19:52:43.203733Z",
     "iopub.status.busy": "2022-06-15T19:52:43.203557Z",
     "iopub.status.idle": "2022-06-15T19:52:43.220734Z",
     "shell.execute_reply": "2022-06-15T19:52:43.220227Z"
    },
    "papermill": {
     "duration": 0.026458,
     "end_time": "2022-06-15T19:52:43.222040",
     "exception": false,
     "start_time": "2022-06-15T19:52:43.195582",
     "status": "completed"
    },
    "tags": []
   },
   "outputs": [
    {
     "data": {
      "text/plain": [
       "5"
      ]
     },
     "metadata": {},
     "output_type": "display_data"
    }
   ],
   "source": [
    "_gene_list_ids = sample(chromosome_genes_info[\"id\"].tolist(), 5)\n",
    "selected_chromosome_genes_obj = [Gene(ensembl_id=g_id) for g_id in _gene_list_ids]\n",
    "display(len(selected_chromosome_genes_obj))"
   ]
  },
  {
   "cell_type": "code",
   "execution_count": 28,
   "id": "1b355359",
   "metadata": {
    "execution": {
     "iopub.execute_input": "2022-06-15T19:52:43.239115Z",
     "iopub.status.busy": "2022-06-15T19:52:43.238938Z",
     "iopub.status.idle": "2022-06-15T19:52:43.360419Z",
     "shell.execute_reply": "2022-06-15T19:52:43.359797Z"
    },
    "papermill": {
     "duration": 0.131208,
     "end_time": "2022-06-15T19:52:43.361981",
     "exception": false,
     "start_time": "2022-06-15T19:52:43.230773",
     "status": "completed"
    },
    "tags": []
   },
   "outputs": [
    {
     "name": "stdout",
     "output_type": "stream",
     "text": [
      "NEURL3 / CTLA4: 0.0\n",
      "NEURL3 / GRB14: 0.0\n",
      "NEURL3 / GPR55: 0.0\n",
      "NEURL3 / YWHAQ: 0.0\n",
      "CTLA4 / GRB14: 0.0\n",
      "CTLA4 / GPR55: 0.0\n",
      "CTLA4 / YWHAQ: 0.0\n",
      "GRB14 / GPR55: 0.0\n",
      "GRB14 / YWHAQ: 0.0\n",
      "GPR55 / YWHAQ: 0.0\n"
     ]
    }
   ],
   "source": [
    "for gene_idx1 in range(0, len(selected_chromosome_genes_obj) - 1):\n",
    "    gene_obj1 = selected_chromosome_genes_obj[gene_idx1]\n",
    "\n",
    "    for gene_idx2 in range(gene_idx1 + 1, len(selected_chromosome_genes_obj)):\n",
    "        gene_obj2 = selected_chromosome_genes_obj[gene_idx2]\n",
    "\n",
    "        c = gene_obj1.get_ssm_correlation(\n",
    "            gene_obj2,\n",
    "        )\n",
    "\n",
    "        print(f\"{gene_obj1.name} / {gene_obj2.name}: {c}\")"
   ]
  },
  {
   "cell_type": "markdown",
   "id": "d3843e06",
   "metadata": {
    "papermill": {
     "duration": 0.006616,
     "end_time": "2022-06-15T19:52:43.375515",
     "exception": false,
     "start_time": "2022-06-15T19:52:43.368899",
     "status": "completed"
    },
    "tags": []
   },
   "source": [
    "# Compute correlation per chromosome"
   ]
  },
  {
   "cell_type": "code",
   "execution_count": 29,
   "id": "aa674fe4-6794-4eed-98fa-32b39d1d4ace",
   "metadata": {
    "execution": {
     "iopub.execute_input": "2022-06-15T19:52:43.390334Z",
     "iopub.status.busy": "2022-06-15T19:52:43.389646Z",
     "iopub.status.idle": "2022-06-15T19:52:43.404342Z",
     "shell.execute_reply": "2022-06-15T19:52:43.403794Z"
    },
    "papermill": {
     "duration": 0.024053,
     "end_time": "2022-06-15T19:52:43.406361",
     "exception": false,
     "start_time": "2022-06-15T19:52:43.382308",
     "status": "completed"
    },
    "tags": []
   },
   "outputs": [],
   "source": [
    "warnings.filterwarnings(\"error\")"
   ]
  },
  {
   "cell_type": "code",
   "execution_count": 30,
   "id": "cdbb90a1",
   "metadata": {
    "execution": {
     "iopub.execute_input": "2022-06-15T19:52:43.421524Z",
     "iopub.status.busy": "2022-06-15T19:52:43.421093Z",
     "iopub.status.idle": "2022-06-16T00:38:22.097708Z",
     "shell.execute_reply": "2022-06-16T00:38:22.097193Z"
    },
    "papermill": {
     "duration": 17138.685863,
     "end_time": "2022-06-16T00:38:22.099221",
     "exception": false,
     "start_time": "2022-06-15T19:52:43.413358",
     "status": "completed"
    },
    "tags": []
   },
   "outputs": [
    {
     "name": "stdout",
     "output_type": "stream",
     "text": [
      "Number of genes in chromosome: 445\n",
      "Chromosome 2\n",
      "Number of gene combinations: 98790\n"
     ]
    },
    {
     "name": "stderr",
     "output_type": "stream",
     "text": [
      "ENSG00000180902 / ENSG00000188389: 100%|████████████████████| 98790/98790 [4:45:38<00:00,  5.76it/s]"
     ]
    },
    {
     "name": "stdout",
     "output_type": "stream",
     "text": [
      "Min/max values: -0.8917642775957855 / 0.9129897367021004\n"
     ]
    },
    {
     "name": "stderr",
     "output_type": "stream",
     "text": [
      "\n"
     ]
    },
    {
     "data": {
      "text/plain": [
       "PosixPath('/opt/data/data/phenomexcan/ld_blocks/gene_corrs/gtex_v8/mashr/by_chr/gene_corrs-chr2.pkl')"
      ]
     },
     "metadata": {},
     "output_type": "display_data"
    }
   ],
   "source": [
    "# standard checks\n",
    "all_chrs = genes_info[\"chr\"].dropna().unique()\n",
    "assert all_chrs.shape[0] == 22\n",
    "\n",
    "# select chromosome given by the user\n",
    "assert chromosome in all_chrs\n",
    "\n",
    "# run only on the chromosome specified\n",
    "all_chrs = [chromosome]\n",
    "genes_chr = genes_info[genes_info[\"chr\"] == chromosome]\n",
    "print(f\"Number of genes in chromosome: {genes_chr.shape[0]}\", flush=True)\n",
    "\n",
    "# For testing purposes\n",
    "# genes_chr = genes_chr.sample(n=20)\n",
    "\n",
    "# sort genes by starting position to make visualizations better later\n",
    "genes_chr = genes_chr.sort_values(\"start_position\")\n",
    "\n",
    "\n",
    "for chr_num in all_chrs:\n",
    "    print(f\"Chromosome {chr_num}\", flush=True)\n",
    "\n",
    "    # check if results exist\n",
    "    output_dir = OUTPUT_DIR_BASE / \"by_chr\"\n",
    "    output_file = output_dir / f\"gene_corrs-chr{chr_num}.pkl\"\n",
    "\n",
    "    if output_file.exists():\n",
    "        _tmp_data = pd.read_pickle(output_file)\n",
    "\n",
    "        if _tmp_data.shape[0] > 0:\n",
    "            print(\"Already run, stopping.\")\n",
    "            continue\n",
    "\n",
    "    gene_chr_objs = [Gene(ensembl_id=gene_id) for gene_id in genes_chr[\"id\"]]\n",
    "    gene_chr_ids = [g.ensembl_id for g in gene_chr_objs]\n",
    "\n",
    "    n = len(gene_chr_objs)\n",
    "    n_comb = int(n * (n - 1) / 2.0)\n",
    "    print(f\"Number of gene combinations: {n_comb}\", flush=True)\n",
    "\n",
    "    gene_corrs = []\n",
    "\n",
    "    pbar = tqdm(ncols=100, total=n_comb)\n",
    "    i = 0\n",
    "    for gene_idx1 in range(0, len(gene_chr_objs) - 1):\n",
    "        gene_obj1 = gene_chr_objs[gene_idx1]\n",
    "\n",
    "        for gene_idx2 in range(gene_idx1 + 1, len(gene_chr_objs)):\n",
    "            gene_obj2 = gene_chr_objs[gene_idx2]\n",
    "\n",
    "            pbar.set_description(f\"{gene_obj1.ensembl_id} / {gene_obj2.ensembl_id}\")\n",
    "\n",
    "            try:\n",
    "                # FIXME: compute the correlation of the sum of squares of the model using all\n",
    "                # the available tissues; this could be problematic because for some results\n",
    "                # (computed on a specific phenotype/GWAS) we might not have all the tissues\n",
    "                # available, which can certainly bias the correlation estimation.\n",
    "                # Since this depends on the GWAS on a specific phenotype, we should ideally have\n",
    "                # one correlation matrix per GWAS. I should look at how we can improve this.\n",
    "                gene_corrs.append(\n",
    "                    gene_obj1.get_ssm_correlation(\n",
    "                        other_gene=gene_obj2,\n",
    "                        condition_number=SMULTIXCAN_CONDITION_NUMBER,\n",
    "                        reference_panel=REFERENCE_PANEL,\n",
    "                        model_type=EQTL_MODEL,\n",
    "                    )\n",
    "                )\n",
    "            except Warning:\n",
    "                print(\n",
    "                    f\"RuntimeWarning for genes {gene_obj1.ensembl_id} and {gene_obj2.ensembl_id}\",\n",
    "                    flush=True,\n",
    "                )\n",
    "                import traceback\n",
    "\n",
    "                print(traceback.format_exc(), flush=True)\n",
    "            except Exception as e:\n",
    "                print(\n",
    "                    f\"Exception for genes {gene_obj1.ensembl_id} and {gene_obj2.ensembl_id}\",\n",
    "                    flush=True,\n",
    "                )\n",
    "                import traceback\n",
    "\n",
    "                print(traceback.format_exc(), flush=True)\n",
    "                gene_corrs.append(np.nan)\n",
    "\n",
    "            pbar.update(1)\n",
    "\n",
    "    pbar.close()\n",
    "\n",
    "    # testing\n",
    "    gene_corrs_flat = pd.Series(gene_corrs)\n",
    "    print(f\"Min/max values: {gene_corrs_flat.min()} / {gene_corrs_flat.max()}\")\n",
    "    assert gene_corrs_flat.min() >= -1.001\n",
    "    assert gene_corrs_flat.max() <= 1.001\n",
    "\n",
    "    # save\n",
    "    # FIXME: consider saving only the condenced matrix here. See here for\n",
    "    # more details: https://github.com/greenelab/phenoplier/pull/38#discussion_r634600813\n",
    "    gene_corrs_data = squareform(np.array(gene_corrs, dtype=np.float64))\n",
    "    np.fill_diagonal(gene_corrs_data, 1.0)\n",
    "\n",
    "    gene_corrs_df = pd.DataFrame(\n",
    "        data=gene_corrs_data,\n",
    "        index=gene_chr_ids,\n",
    "        columns=gene_chr_ids,\n",
    "    )\n",
    "\n",
    "    output_dir.mkdir(exist_ok=True, parents=True)\n",
    "    display(output_file)\n",
    "\n",
    "    gene_corrs_df.to_pickle(output_file)"
   ]
  },
  {
   "cell_type": "markdown",
   "id": "faa67b51-5373-470f-aa72-2ded53fa6dfe",
   "metadata": {
    "papermill": {
     "duration": 4.300793,
     "end_time": "2022-06-16T00:38:30.603927",
     "exception": false,
     "start_time": "2022-06-16T00:38:26.303134",
     "status": "completed"
    },
    "tags": []
   },
   "source": [
    "# Testing"
   ]
  },
  {
   "cell_type": "code",
   "execution_count": 31,
   "id": "14f7d046-4b55-4896-a56b-990127bcc388",
   "metadata": {
    "execution": {
     "iopub.execute_input": "2022-06-16T00:38:38.821861Z",
     "iopub.status.busy": "2022-06-16T00:38:38.821541Z",
     "iopub.status.idle": "2022-06-16T00:38:38.838592Z",
     "shell.execute_reply": "2022-06-16T00:38:38.838047Z"
    },
    "papermill": {
     "duration": 4.170878,
     "end_time": "2022-06-16T00:38:38.839994",
     "exception": false,
     "start_time": "2022-06-16T00:38:34.669116",
     "status": "completed"
    },
    "tags": []
   },
   "outputs": [
    {
     "data": {
      "text/plain": [
       "(445, 445)"
      ]
     },
     "execution_count": 31,
     "metadata": {},
     "output_type": "execute_result"
    }
   ],
   "source": [
    "gene_corrs_df.shape"
   ]
  },
  {
   "cell_type": "code",
   "execution_count": 32,
   "id": "c7d15414-3297-4537-a7c6-7588c0baeb75",
   "metadata": {
    "execution": {
     "iopub.execute_input": "2022-06-16T00:38:47.427660Z",
     "iopub.status.busy": "2022-06-16T00:38:47.427485Z",
     "iopub.status.idle": "2022-06-16T00:38:47.461350Z",
     "shell.execute_reply": "2022-06-16T00:38:47.460686Z"
    },
    "papermill": {
     "duration": 4.225597,
     "end_time": "2022-06-16T00:38:47.462856",
     "exception": false,
     "start_time": "2022-06-16T00:38:43.237259",
     "status": "completed"
    },
    "tags": []
   },
   "outputs": [
    {
     "data": {
      "text/html": [
       "<div>\n",
       "<style scoped>\n",
       "    .dataframe tbody tr th:only-of-type {\n",
       "        vertical-align: middle;\n",
       "    }\n",
       "\n",
       "    .dataframe tbody tr th {\n",
       "        vertical-align: top;\n",
       "    }\n",
       "\n",
       "    .dataframe thead th {\n",
       "        text-align: right;\n",
       "    }\n",
       "</style>\n",
       "<table border=\"1\" class=\"dataframe\">\n",
       "  <thead>\n",
       "    <tr style=\"text-align: right;\">\n",
       "      <th></th>\n",
       "      <th>ENSG00000143727</th>\n",
       "      <th>ENSG00000115705</th>\n",
       "      <th>ENSG00000130508</th>\n",
       "      <th>ENSG00000182551</th>\n",
       "      <th>ENSG00000171865</th>\n",
       "      <th>ENSG00000171863</th>\n",
       "      <th>ENSG00000134326</th>\n",
       "      <th>ENSG00000134321</th>\n",
       "      <th>ENSG00000115738</th>\n",
       "      <th>ENSG00000134313</th>\n",
       "      <th>...</th>\n",
       "      <th>ENSG00000068024</th>\n",
       "      <th>ENSG00000130414</th>\n",
       "      <th>ENSG00000063660</th>\n",
       "      <th>ENSG00000178623</th>\n",
       "      <th>ENSG00000115687</th>\n",
       "      <th>ENSG00000168385</th>\n",
       "      <th>ENSG00000006607</th>\n",
       "      <th>ENSG00000168393</th>\n",
       "      <th>ENSG00000180902</th>\n",
       "      <th>ENSG00000188389</th>\n",
       "    </tr>\n",
       "  </thead>\n",
       "  <tbody>\n",
       "    <tr>\n",
       "      <th>ENSG00000143727</th>\n",
       "      <td>1.000000</td>\n",
       "      <td>-0.078407</td>\n",
       "      <td>0.195813</td>\n",
       "      <td>-0.031212</td>\n",
       "      <td>0.034284</td>\n",
       "      <td>-0.123745</td>\n",
       "      <td>0.000000</td>\n",
       "      <td>0.000000</td>\n",
       "      <td>0.0</td>\n",
       "      <td>0.0</td>\n",
       "      <td>...</td>\n",
       "      <td>0.0</td>\n",
       "      <td>0.0</td>\n",
       "      <td>0.0</td>\n",
       "      <td>0.0</td>\n",
       "      <td>0.0</td>\n",
       "      <td>0.0</td>\n",
       "      <td>0.0</td>\n",
       "      <td>0.0</td>\n",
       "      <td>0.0</td>\n",
       "      <td>0.0</td>\n",
       "    </tr>\n",
       "    <tr>\n",
       "      <th>ENSG00000115705</th>\n",
       "      <td>-0.078407</td>\n",
       "      <td>1.000000</td>\n",
       "      <td>0.018398</td>\n",
       "      <td>-0.048030</td>\n",
       "      <td>-0.024986</td>\n",
       "      <td>0.024612</td>\n",
       "      <td>0.000000</td>\n",
       "      <td>0.000000</td>\n",
       "      <td>0.0</td>\n",
       "      <td>0.0</td>\n",
       "      <td>...</td>\n",
       "      <td>0.0</td>\n",
       "      <td>0.0</td>\n",
       "      <td>0.0</td>\n",
       "      <td>0.0</td>\n",
       "      <td>0.0</td>\n",
       "      <td>0.0</td>\n",
       "      <td>0.0</td>\n",
       "      <td>0.0</td>\n",
       "      <td>0.0</td>\n",
       "      <td>0.0</td>\n",
       "    </tr>\n",
       "    <tr>\n",
       "      <th>ENSG00000130508</th>\n",
       "      <td>0.195813</td>\n",
       "      <td>0.018398</td>\n",
       "      <td>1.000000</td>\n",
       "      <td>0.178464</td>\n",
       "      <td>0.071530</td>\n",
       "      <td>-0.131408</td>\n",
       "      <td>0.000000</td>\n",
       "      <td>0.000000</td>\n",
       "      <td>0.0</td>\n",
       "      <td>0.0</td>\n",
       "      <td>...</td>\n",
       "      <td>0.0</td>\n",
       "      <td>0.0</td>\n",
       "      <td>0.0</td>\n",
       "      <td>0.0</td>\n",
       "      <td>0.0</td>\n",
       "      <td>0.0</td>\n",
       "      <td>0.0</td>\n",
       "      <td>0.0</td>\n",
       "      <td>0.0</td>\n",
       "      <td>0.0</td>\n",
       "    </tr>\n",
       "    <tr>\n",
       "      <th>ENSG00000182551</th>\n",
       "      <td>-0.031212</td>\n",
       "      <td>-0.048030</td>\n",
       "      <td>0.178464</td>\n",
       "      <td>1.000000</td>\n",
       "      <td>-0.009727</td>\n",
       "      <td>-0.097851</td>\n",
       "      <td>-0.026143</td>\n",
       "      <td>-0.067801</td>\n",
       "      <td>0.0</td>\n",
       "      <td>0.0</td>\n",
       "      <td>...</td>\n",
       "      <td>0.0</td>\n",
       "      <td>0.0</td>\n",
       "      <td>0.0</td>\n",
       "      <td>0.0</td>\n",
       "      <td>0.0</td>\n",
       "      <td>0.0</td>\n",
       "      <td>0.0</td>\n",
       "      <td>0.0</td>\n",
       "      <td>0.0</td>\n",
       "      <td>0.0</td>\n",
       "    </tr>\n",
       "    <tr>\n",
       "      <th>ENSG00000171865</th>\n",
       "      <td>0.034284</td>\n",
       "      <td>-0.024986</td>\n",
       "      <td>0.071530</td>\n",
       "      <td>-0.009727</td>\n",
       "      <td>1.000000</td>\n",
       "      <td>-0.068227</td>\n",
       "      <td>0.018671</td>\n",
       "      <td>0.048430</td>\n",
       "      <td>0.0</td>\n",
       "      <td>0.0</td>\n",
       "      <td>...</td>\n",
       "      <td>0.0</td>\n",
       "      <td>0.0</td>\n",
       "      <td>0.0</td>\n",
       "      <td>0.0</td>\n",
       "      <td>0.0</td>\n",
       "      <td>0.0</td>\n",
       "      <td>0.0</td>\n",
       "      <td>0.0</td>\n",
       "      <td>0.0</td>\n",
       "      <td>0.0</td>\n",
       "    </tr>\n",
       "  </tbody>\n",
       "</table>\n",
       "<p>5 rows × 445 columns</p>\n",
       "</div>"
      ],
      "text/plain": [
       "                 ENSG00000143727  ENSG00000115705  ENSG00000130508  \\\n",
       "ENSG00000143727         1.000000        -0.078407         0.195813   \n",
       "ENSG00000115705        -0.078407         1.000000         0.018398   \n",
       "ENSG00000130508         0.195813         0.018398         1.000000   \n",
       "ENSG00000182551        -0.031212        -0.048030         0.178464   \n",
       "ENSG00000171865         0.034284        -0.024986         0.071530   \n",
       "\n",
       "                 ENSG00000182551  ENSG00000171865  ENSG00000171863  \\\n",
       "ENSG00000143727        -0.031212         0.034284        -0.123745   \n",
       "ENSG00000115705        -0.048030        -0.024986         0.024612   \n",
       "ENSG00000130508         0.178464         0.071530        -0.131408   \n",
       "ENSG00000182551         1.000000        -0.009727        -0.097851   \n",
       "ENSG00000171865        -0.009727         1.000000        -0.068227   \n",
       "\n",
       "                 ENSG00000134326  ENSG00000134321  ENSG00000115738  \\\n",
       "ENSG00000143727         0.000000         0.000000              0.0   \n",
       "ENSG00000115705         0.000000         0.000000              0.0   \n",
       "ENSG00000130508         0.000000         0.000000              0.0   \n",
       "ENSG00000182551        -0.026143        -0.067801              0.0   \n",
       "ENSG00000171865         0.018671         0.048430              0.0   \n",
       "\n",
       "                 ENSG00000134313  ...  ENSG00000068024  ENSG00000130414  \\\n",
       "ENSG00000143727              0.0  ...              0.0              0.0   \n",
       "ENSG00000115705              0.0  ...              0.0              0.0   \n",
       "ENSG00000130508              0.0  ...              0.0              0.0   \n",
       "ENSG00000182551              0.0  ...              0.0              0.0   \n",
       "ENSG00000171865              0.0  ...              0.0              0.0   \n",
       "\n",
       "                 ENSG00000063660  ENSG00000178623  ENSG00000115687  \\\n",
       "ENSG00000143727              0.0              0.0              0.0   \n",
       "ENSG00000115705              0.0              0.0              0.0   \n",
       "ENSG00000130508              0.0              0.0              0.0   \n",
       "ENSG00000182551              0.0              0.0              0.0   \n",
       "ENSG00000171865              0.0              0.0              0.0   \n",
       "\n",
       "                 ENSG00000168385  ENSG00000006607  ENSG00000168393  \\\n",
       "ENSG00000143727              0.0              0.0              0.0   \n",
       "ENSG00000115705              0.0              0.0              0.0   \n",
       "ENSG00000130508              0.0              0.0              0.0   \n",
       "ENSG00000182551              0.0              0.0              0.0   \n",
       "ENSG00000171865              0.0              0.0              0.0   \n",
       "\n",
       "                 ENSG00000180902  ENSG00000188389  \n",
       "ENSG00000143727              0.0              0.0  \n",
       "ENSG00000115705              0.0              0.0  \n",
       "ENSG00000130508              0.0              0.0  \n",
       "ENSG00000182551              0.0              0.0  \n",
       "ENSG00000171865              0.0              0.0  \n",
       "\n",
       "[5 rows x 445 columns]"
      ]
     },
     "execution_count": 32,
     "metadata": {},
     "output_type": "execute_result"
    }
   ],
   "source": [
    "gene_corrs_df.head()"
   ]
  },
  {
   "cell_type": "code",
   "execution_count": 33,
   "id": "00583efc-7068-4270-ad1e-4a418e91db96",
   "metadata": {
    "execution": {
     "iopub.execute_input": "2022-06-16T00:38:56.039312Z",
     "iopub.status.busy": "2022-06-16T00:38:56.038811Z",
     "iopub.status.idle": "2022-06-16T00:38:56.062851Z",
     "shell.execute_reply": "2022-06-16T00:38:56.062353Z"
    },
    "papermill": {
     "duration": 4.293911,
     "end_time": "2022-06-16T00:38:56.064561",
     "exception": false,
     "start_time": "2022-06-16T00:38:51.770650",
     "status": "completed"
    },
    "tags": []
   },
   "outputs": [
    {
     "data": {
      "text/plain": [
       "-0.8917642775957855"
      ]
     },
     "metadata": {},
     "output_type": "display_data"
    }
   ],
   "source": [
    "_min_val = gene_corrs_df.min().min()\n",
    "display(_min_val)\n",
    "assert _min_val >= -1.0"
   ]
  },
  {
   "cell_type": "code",
   "execution_count": 34,
   "id": "d04fb2cf-1050-475b-b855-f5f7cc04092b",
   "metadata": {
    "execution": {
     "iopub.execute_input": "2022-06-16T00:39:04.341438Z",
     "iopub.status.busy": "2022-06-16T00:39:04.341258Z",
     "iopub.status.idle": "2022-06-16T00:39:04.360465Z",
     "shell.execute_reply": "2022-06-16T00:39:04.359856Z"
    },
    "papermill": {
     "duration": 4.137618,
     "end_time": "2022-06-16T00:39:04.361861",
     "exception": false,
     "start_time": "2022-06-16T00:39:00.224243",
     "status": "completed"
    },
    "tags": []
   },
   "outputs": [
    {
     "data": {
      "text/plain": [
       "1.0"
      ]
     },
     "metadata": {},
     "output_type": "display_data"
    }
   ],
   "source": [
    "_max_val = gene_corrs_df.max().max()  # this captures the diagonal\n",
    "display(_max_val)\n",
    "assert _max_val <= 1.0"
   ]
  },
  {
   "cell_type": "code",
   "execution_count": 35,
   "id": "96d02c44-1fba-47be-8a93-8f2608420b9c",
   "metadata": {
    "execution": {
     "iopub.execute_input": "2022-06-16T00:39:12.612751Z",
     "iopub.status.busy": "2022-06-16T00:39:12.612574Z",
     "iopub.status.idle": "2022-06-16T00:39:12.629063Z",
     "shell.execute_reply": "2022-06-16T00:39:12.628453Z"
    },
    "papermill": {
     "duration": 4.018702,
     "end_time": "2022-06-16T00:39:12.630600",
     "exception": false,
     "start_time": "2022-06-16T00:39:08.611898",
     "status": "completed"
    },
    "tags": []
   },
   "outputs": [],
   "source": [
    "# check upper triangular values\n",
    "assert len(gene_corrs) == int(genes_chr.shape[0] * (genes_chr.shape[0] - 1) / 2)"
   ]
  },
  {
   "cell_type": "code",
   "execution_count": 36,
   "id": "aaa51627-f4e3-4744-a41f-7d25adcc0a78",
   "metadata": {
    "execution": {
     "iopub.execute_input": "2022-06-16T00:39:21.116683Z",
     "iopub.status.busy": "2022-06-16T00:39:21.116494Z",
     "iopub.status.idle": "2022-06-16T00:39:21.142868Z",
     "shell.execute_reply": "2022-06-16T00:39:21.142270Z"
    },
    "papermill": {
     "duration": 4.374658,
     "end_time": "2022-06-16T00:39:21.144519",
     "exception": false,
     "start_time": "2022-06-16T00:39:16.769861",
     "status": "completed"
    },
    "tags": []
   },
   "outputs": [],
   "source": [
    "gene_corrs = pd.Series(gene_corrs)"
   ]
  },
  {
   "cell_type": "code",
   "execution_count": 37,
   "id": "fe283586-c348-40e0-8841-f6d97bfb021c",
   "metadata": {
    "execution": {
     "iopub.execute_input": "2022-06-16T00:39:29.387621Z",
     "iopub.status.busy": "2022-06-16T00:39:29.387448Z",
     "iopub.status.idle": "2022-06-16T00:39:29.424805Z",
     "shell.execute_reply": "2022-06-16T00:39:29.424355Z"
    },
    "papermill": {
     "duration": 4.042292,
     "end_time": "2022-06-16T00:39:29.427879",
     "exception": false,
     "start_time": "2022-06-16T00:39:25.385587",
     "status": "completed"
    },
    "tags": []
   },
   "outputs": [
    {
     "data": {
      "text/plain": [
       "count    98790.000000\n",
       "mean         0.000129\n",
       "std          0.032464\n",
       "min         -0.891764\n",
       "25%          0.000000\n",
       "50%          0.000000\n",
       "75%          0.000000\n",
       "max          0.912990\n",
       "dtype: float64"
      ]
     },
     "execution_count": 37,
     "metadata": {},
     "output_type": "execute_result"
    }
   ],
   "source": [
    "gene_corrs.describe()"
   ]
  },
  {
   "cell_type": "code",
   "execution_count": 38,
   "id": "b3815678-0f93-4b35-897b-a9d047a2aa78",
   "metadata": {
    "execution": {
     "iopub.execute_input": "2022-06-16T00:39:37.949030Z",
     "iopub.status.busy": "2022-06-16T00:39:37.948836Z",
     "iopub.status.idle": "2022-06-16T00:39:37.970581Z",
     "shell.execute_reply": "2022-06-16T00:39:37.970012Z"
    },
    "papermill": {
     "duration": 4.061659,
     "end_time": "2022-06-16T00:39:37.972062",
     "exception": false,
     "start_time": "2022-06-16T00:39:33.910403",
     "status": "completed"
    },
    "tags": []
   },
   "outputs": [
    {
     "data": {
      "text/plain": [
       "0.00   -0.891764\n",
       "0.05    0.000000\n",
       "0.10    0.000000\n",
       "0.15    0.000000\n",
       "0.20    0.000000\n",
       "0.25    0.000000\n",
       "0.30    0.000000\n",
       "0.35    0.000000\n",
       "0.40    0.000000\n",
       "0.45    0.000000\n",
       "0.50    0.000000\n",
       "0.55    0.000000\n",
       "0.60    0.000000\n",
       "0.65    0.000000\n",
       "0.70    0.000000\n",
       "0.75    0.000000\n",
       "0.80    0.000000\n",
       "0.85    0.000000\n",
       "0.90    0.000000\n",
       "0.95    0.000000\n",
       "dtype: float64"
      ]
     },
     "metadata": {},
     "output_type": "display_data"
    }
   ],
   "source": [
    "gene_corrs_quantiles = gene_corrs.quantile(np.arange(0, 1, 0.05))\n",
    "display(gene_corrs_quantiles)"
   ]
  },
  {
   "cell_type": "markdown",
   "id": "8e60a080-edb2-4e9c-b2ef-22961693200c",
   "metadata": {
    "papermill": {
     "duration": 4.198309,
     "end_time": "2022-06-16T00:39:46.572820",
     "exception": false,
     "start_time": "2022-06-16T00:39:42.374511",
     "status": "completed"
    },
    "tags": []
   },
   "source": [
    "## Plot: distribution"
   ]
  },
  {
   "cell_type": "code",
   "execution_count": 39,
   "id": "8301126b-a7d4-4744-9c7d-f0f86eb6f54c",
   "metadata": {
    "execution": {
     "iopub.execute_input": "2022-06-16T00:39:54.874191Z",
     "iopub.status.busy": "2022-06-16T00:39:54.874001Z",
     "iopub.status.idle": "2022-06-16T00:39:55.636489Z",
     "shell.execute_reply": "2022-06-16T00:39:55.635925Z"
    },
    "papermill": {
     "duration": 5.002843,
     "end_time": "2022-06-16T00:39:55.638141",
     "exception": false,
     "start_time": "2022-06-16T00:39:50.635298",
     "status": "completed"
    },
    "tags": []
   },
   "outputs": [
    {
     "data": {
      "image/png": "[encoded data removed]",
      "text/plain": [
       "<Figure size 504x504 with 1 Axes>"
      ]
     },
     "metadata": {
      "needs_background": "light"
     },
     "output_type": "display_data"
    }
   ],
   "source": [
    "with sns.plotting_context(\"paper\", font_scale=1.5):\n",
    "    g = sns.displot(gene_corrs, kde=True, height=7)\n",
    "    g.ax.set_title(\n",
    "        f\"Distribution of gene correlation values in chromosome {chromosome}\"\n",
    "    )"
   ]
  },
  {
   "cell_type": "markdown",
   "id": "cbd52bca-d878-4a2f-b684-5c83aa3038d4",
   "metadata": {
    "papermill": {
     "duration": 4.101788,
     "end_time": "2022-06-16T00:40:04.161001",
     "exception": false,
     "start_time": "2022-06-16T00:40:00.059213",
     "status": "completed"
    },
    "tags": []
   },
   "source": [
    "## Plot: heatmap"
   ]
  },
  {
   "cell_type": "code",
   "execution_count": 40,
   "id": "d03fe63a-c7b2-4fb9-a53c-db362ce843c9",
   "metadata": {
    "execution": {
     "iopub.execute_input": "2022-06-16T00:40:12.638378Z",
     "iopub.status.busy": "2022-06-16T00:40:12.638197Z",
     "iopub.status.idle": "2022-06-16T00:40:12.656142Z",
     "shell.execute_reply": "2022-06-16T00:40:12.655625Z"
    },
    "papermill": {
     "duration": 4.190679,
     "end_time": "2022-06-16T00:40:12.663092",
     "exception": false,
     "start_time": "2022-06-16T00:40:08.472413",
     "status": "completed"
    },
    "tags": []
   },
   "outputs": [
    {
     "data": {
      "text/plain": [
       "'-0.05 / 0.05'"
      ]
     },
     "metadata": {},
     "output_type": "display_data"
    }
   ],
   "source": [
    "vmin_val = min(-0.05, gene_corrs_quantiles[0.10])\n",
    "vmax_val = max(0.05, gene_corrs_quantiles[0.90])\n",
    "display(f\"{vmin_val} / {vmax_val}\")"
   ]
  },
  {
   "cell_type": "code",
   "execution_count": 41,
   "id": "dc41b70b-5bcc-4d9e-9f33-a22c4a94dab5",
   "metadata": {
    "execution": {
     "iopub.execute_input": "2022-06-16T00:40:21.048497Z",
     "iopub.status.busy": "2022-06-16T00:40:21.048317Z",
     "iopub.status.idle": "2022-06-16T00:40:21.345322Z",
     "shell.execute_reply": "2022-06-16T00:40:21.344039Z"
    },
    "papermill": {
     "duration": 4.343718,
     "end_time": "2022-06-16T00:40:21.346724",
     "exception": false,
     "start_time": "2022-06-16T00:40:17.003006",
     "status": "completed"
    },
    "tags": []
   },
   "outputs": [
    {
     "data": {
      "text/plain": [
       "Text(0.5, 1.0, 'Gene correlations in chromosome 2')"
      ]
     },
     "execution_count": 41,
     "metadata": {},
     "output_type": "execute_result"
    },
    {
     "data": {
      "image/png": "[encoded data removed]",
      "text/plain": [
       "<Figure size 720x720 with 2 Axes>"
      ]
     },
     "metadata": {
      "needs_background": "light"
     },
     "output_type": "display_data"
    }
   ],
   "source": [
    "f, ax = plt.subplots(figsize=(10, 10))\n",
    "sns.heatmap(\n",
    "    gene_corrs_df,\n",
    "    xticklabels=False,\n",
    "    yticklabels=False,\n",
    "    square=True,\n",
    "    vmin=vmin_val,\n",
    "    vmax=vmax_val,\n",
    "    cmap=\"YlGnBu\",\n",
    "    ax=ax,\n",
    ")\n",
    "ax.set_title(f\"Gene correlations in chromosome {chromosome}\")"
   ]
  },
  {
   "cell_type": "code",
   "execution_count": null,
   "id": "b25e3ead",
   "metadata": {
    "papermill": {
     "duration": 4.011484,
     "end_time": "2022-06-16T00:40:29.671969",
     "exception": false,
     "start_time": "2022-06-16T00:40:25.660485",
     "status": "completed"
    },
    "tags": []
   },
   "outputs": [],
   "source": []
  }
 ],
 "metadata": {
  "jupytext": {
   "cell_metadata_filter": "all,-execution,-papermill,-trusted",
   "formats": "ipynb,py//py:percent"
  },
  "kernelspec": {
   "display_name": "Python 3 (ipykernel)",
   "language": "python",
   "name": "python3"
  },
  "language_info": {
   "codemirror_mode": {
    "name": "ipython",
    "version": 3
   },
   "file_extension": ".py",
   "mimetype": "text/x-python",
   "name": "python",
   "nbconvert_exporter": "python",
   "pygments_lexer": "ipython3",
   "version": "3.8.13"
  },
  "papermill": {
   "default_parameters": {},
   "duration": 17279.323586,
   "end_time": "2022-06-16T00:40:37.168229",
   "environment_variables": {},
   "exception": null,
   "input_path": "nbs/15_gsa_gls/10-gene_expr_correlations.ipynb",
   "output_path": "nbs/15_gsa_gls/gene_corrs/gtex_v8/mashr/10-gene_expr_correlations-chr2.run.ipynb",
   "parameters": {
    "EQTL_MODEL": "MASHR",
    "REFERENCE_PANEL": "GTEX_V8",
    "chromosome": 2
   },
   "start_time": "2022-06-15T19:52:37.844643",
   "version": "2.2.2"
  }
 },
 "nbformat": 4,
 "nbformat_minor": 5
}
