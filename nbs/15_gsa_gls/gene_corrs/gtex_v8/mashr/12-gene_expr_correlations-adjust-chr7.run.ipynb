{
 "cells": [
  {
   "cell_type": "markdown",
   "id": "6c1f0ae4-cd27-4fec-a23d-51699e7059e8",
   "metadata": {
    "papermill": {
     "duration": 0.00462,
     "end_time": "2022-06-18T11:50:08.478076",
     "exception": false,
     "start_time": "2022-06-18T11:50:08.473456",
     "status": "completed"
    },
    "tags": []
   },
   "source": [
    "# Description"
   ]
  },
  {
   "cell_type": "markdown",
   "id": "3268a19a-8a83-4f61-aa39-09b084c81d61",
   "metadata": {
    "papermill": {
     "duration": 0.004135,
     "end_time": "2022-06-18T11:50:08.486303",
     "exception": false,
     "start_time": "2022-06-18T11:50:08.482168",
     "status": "completed"
    },
    "tags": []
   },
   "source": [
    "**TODO**"
   ]
  },
  {
   "cell_type": "markdown",
   "id": "401368d3-22c1-4d81-a2c3-c4a81fde4191",
   "metadata": {
    "papermill": {
     "duration": 0.004014,
     "end_time": "2022-06-18T11:50:08.494372",
     "exception": false,
     "start_time": "2022-06-18T11:50:08.490358",
     "status": "completed"
    },
    "tags": []
   },
   "source": [
    "# Modules"
   ]
  },
  {
   "cell_type": "code",
   "execution_count": 1,
   "id": "f9b5022b-7c5e-4d37-9c7a-fdb91777c7f9",
   "metadata": {
    "execution": {
     "iopub.execute_input": "2022-06-18T11:50:08.505170Z",
     "iopub.status.busy": "2022-06-18T11:50:08.503686Z",
     "iopub.status.idle": "2022-06-18T11:50:11.769106Z",
     "shell.execute_reply": "2022-06-18T11:50:11.767860Z"
    },
    "papermill": {
     "duration": 3.272282,
     "end_time": "2022-06-18T11:50:11.770692",
     "exception": false,
     "start_time": "2022-06-18T11:50:08.498410",
     "status": "completed"
    },
    "tags": []
   },
   "outputs": [],
   "source": [
    "library(reticulate)\n",
    "pd <- import(\"pandas\")"
   ]
  },
  {
   "cell_type": "markdown",
   "id": "c1958d6a-0229-47e8-823e-792fcf84fccf",
   "metadata": {
    "papermill": {
     "duration": 0.004147,
     "end_time": "2022-06-18T11:50:11.783628",
     "exception": false,
     "start_time": "2022-06-18T11:50:11.779481",
     "status": "completed"
    },
    "tags": []
   },
   "source": [
    "# Settings"
   ]
  },
  {
   "cell_type": "code",
   "execution_count": 2,
   "id": "22d12bb4-1699-4a6b-b1b9-d3fdd3d547d7",
   "metadata": {
    "execution": {
     "iopub.execute_input": "2022-06-18T11:50:11.842196Z",
     "iopub.status.busy": "2022-06-18T11:50:11.807535Z",
     "iopub.status.idle": "2022-06-18T11:50:11.854978Z",
     "shell.execute_reply": "2022-06-18T11:50:11.853704Z"
    },
    "papermill": {
     "duration": 0.062609,
     "end_time": "2022-06-18T11:50:11.856924",
     "exception": false,
     "start_time": "2022-06-18T11:50:11.794315",
     "status": "completed"
    },
    "tags": [
     "parameters"
    ]
   },
   "outputs": [],
   "source": [
    "# reference panel\n",
    "REFERENCE_PANEL <- \"GTEX_V8\"\n",
    "# REFERENCE_PANEL = \"1000G\"\n",
    "\n",
    "# prediction models\n",
    "## mashr\n",
    "EQTL_MODEL <- \"MASHR\"\n",
    "\n",
    "# ## elastic net\n",
    "# EQTL_MODEL = \"ELASTIC_NET\"\n",
    "\n",
    "chromosome <- NULL"
   ]
  },
  {
   "cell_type": "code",
   "execution_count": 3,
   "id": "955ecc62",
   "metadata": {
    "execution": {
     "iopub.execute_input": "2022-06-18T11:50:11.869627Z",
     "iopub.status.busy": "2022-06-18T11:50:11.868503Z",
     "iopub.status.idle": "2022-06-18T11:50:11.886752Z",
     "shell.execute_reply": "2022-06-18T11:50:11.885457Z"
    },
    "papermill": {
     "duration": 0.026421,
     "end_time": "2022-06-18T11:50:11.888657",
     "exception": false,
     "start_time": "2022-06-18T11:50:11.862236",
     "status": "completed"
    },
    "tags": [
     "injected-parameters"
    ]
   },
   "outputs": [],
   "source": [
    "# Parameters\n",
    "chromosome = 7\n",
    "REFERENCE_PANEL = \"GTEX_V8\"\n",
    "EQTL_MODEL = \"MASHR\"\n"
   ]
  },
  {
   "cell_type": "code",
   "execution_count": 4,
   "id": "8fe24bef",
   "metadata": {
    "execution": {
     "iopub.execute_input": "2022-06-18T11:50:11.901502Z",
     "iopub.status.busy": "2022-06-18T11:50:11.900377Z",
     "iopub.status.idle": "2022-06-18T11:50:11.913740Z",
     "shell.execute_reply": "2022-06-18T11:50:11.912395Z"
    },
    "papermill": {
     "duration": 0.021614,
     "end_time": "2022-06-18T11:50:11.915697",
     "exception": false,
     "start_time": "2022-06-18T11:50:11.894083",
     "status": "completed"
    },
    "tags": []
   },
   "outputs": [
    {
     "data": {
      "text/html": [
       "'Using reference panel: GTEX_V8'"
      ],
      "text/latex": [
       "'Using reference panel: GTEX\\_V8'"
      ],
      "text/markdown": [
       "'Using reference panel: GTEX_V8'"
      ],
      "text/plain": [
       "[1] \"Using reference panel: GTEX_V8\""
      ]
     },
     "metadata": {},
     "output_type": "display_data"
    }
   ],
   "source": [
    "paste0(\"Using reference panel: \", REFERENCE_PANEL)"
   ]
  },
  {
   "cell_type": "code",
   "execution_count": 5,
   "id": "d62c28f8-186c-478b-948c-58e14f00df4b",
   "metadata": {
    "execution": {
     "iopub.execute_input": "2022-06-18T11:50:11.928521Z",
     "iopub.status.busy": "2022-06-18T11:50:11.927461Z",
     "iopub.status.idle": "2022-06-18T11:50:11.938857Z",
     "shell.execute_reply": "2022-06-18T11:50:11.937573Z"
    },
    "papermill": {
     "duration": 0.019541,
     "end_time": "2022-06-18T11:50:11.940693",
     "exception": false,
     "start_time": "2022-06-18T11:50:11.921152",
     "status": "completed"
    },
    "tags": []
   },
   "outputs": [
    {
     "data": {
      "text/html": [
       "'Using eQTL model: MASHR'"
      ],
      "text/latex": [
       "'Using eQTL model: MASHR'"
      ],
      "text/markdown": [
       "'Using eQTL model: MASHR'"
      ],
      "text/plain": [
       "[1] \"Using eQTL model: MASHR\""
      ]
     },
     "metadata": {},
     "output_type": "display_data"
    }
   ],
   "source": [
    "paste0(\"Using eQTL model: \", EQTL_MODEL)"
   ]
  },
  {
   "cell_type": "code",
   "execution_count": 6,
   "id": "5243676f-c889-4405-9a4d-262f0f044614",
   "metadata": {
    "execution": {
     "iopub.execute_input": "2022-06-18T11:50:11.953271Z",
     "iopub.status.busy": "2022-06-18T11:50:11.952186Z",
     "iopub.status.idle": "2022-06-18T11:50:11.961768Z",
     "shell.execute_reply": "2022-06-18T11:50:11.960479Z"
    },
    "papermill": {
     "duration": 0.01761,
     "end_time": "2022-06-18T11:50:11.963706",
     "exception": false,
     "start_time": "2022-06-18T11:50:11.946096",
     "status": "completed"
    },
    "tags": []
   },
   "outputs": [],
   "source": [
    "# chromosome must be provided as parameter\n",
    "stopifnot(!is.null(chromosome))"
   ]
  },
  {
   "cell_type": "markdown",
   "id": "83a49773-bcf5-44c4-8d9b-a6ac65a57ec6",
   "metadata": {
    "papermill": {
     "duration": 0.005531,
     "end_time": "2022-06-18T11:50:11.975572",
     "exception": false,
     "start_time": "2022-06-18T11:50:11.970041",
     "status": "completed"
    },
    "tags": []
   },
   "source": [
    "# Paths"
   ]
  },
  {
   "cell_type": "code",
   "execution_count": 7,
   "id": "eb6aa8aa-b452-4a2f-a780-93dd80ad4285",
   "metadata": {
    "execution": {
     "iopub.execute_input": "2022-06-18T11:50:11.988793Z",
     "iopub.status.busy": "2022-06-18T11:50:11.987620Z",
     "iopub.status.idle": "2022-06-18T11:50:12.001566Z",
     "shell.execute_reply": "2022-06-18T11:50:12.000198Z"
    },
    "papermill": {
     "duration": 0.022348,
     "end_time": "2022-06-18T11:50:12.003494",
     "exception": false,
     "start_time": "2022-06-18T11:50:11.981146",
     "status": "completed"
    },
    "tags": []
   },
   "outputs": [
    {
     "data": {
      "text/html": [
       "'/opt/data/data/phenomexcan/ld_blocks/gene_corrs'"
      ],
      "text/latex": [
       "'/opt/data/data/phenomexcan/ld\\_blocks/gene\\_corrs'"
      ],
      "text/markdown": [
       "'/opt/data/data/phenomexcan/ld_blocks/gene_corrs'"
      ],
      "text/plain": [
       "[1] \"/opt/data/data/phenomexcan/ld_blocks/gene_corrs\""
      ]
     },
     "metadata": {},
     "output_type": "display_data"
    }
   ],
   "source": [
    "GENE_CORRS_DIR <- Sys.getenv(\"PHENOPLIER_PHENOMEXCAN_LD_BLOCKS_GENE_CORRS_DIR\")\n",
    "IRdisplay::display(GENE_CORRS_DIR)"
   ]
  },
  {
   "cell_type": "code",
   "execution_count": 8,
   "id": "eb24f15f-f282-4476-8943-8413c4483f12",
   "metadata": {
    "execution": {
     "iopub.execute_input": "2022-06-18T11:50:12.016952Z",
     "iopub.status.busy": "2022-06-18T11:50:12.015919Z",
     "iopub.status.idle": "2022-06-18T11:50:12.030732Z",
     "shell.execute_reply": "2022-06-18T11:50:12.029397Z"
    },
    "papermill": {
     "duration": 0.023167,
     "end_time": "2022-06-18T11:50:12.032501",
     "exception": false,
     "start_time": "2022-06-18T11:50:12.009334",
     "status": "completed"
    },
    "tags": []
   },
   "outputs": [
    {
     "data": {
      "text/html": [
       "'/opt/data/data/phenomexcan/ld_blocks/gene_corrs/gtex_v8/mashr/by_chr'"
      ],
      "text/latex": [
       "'/opt/data/data/phenomexcan/ld\\_blocks/gene\\_corrs/gtex\\_v8/mashr/by\\_chr'"
      ],
      "text/markdown": [
       "'/opt/data/data/phenomexcan/ld_blocks/gene_corrs/gtex_v8/mashr/by_chr'"
      ],
      "text/plain": [
       "[1] \"/opt/data/data/phenomexcan/ld_blocks/gene_corrs/gtex_v8/mashr/by_chr\""
      ]
     },
     "metadata": {},
     "output_type": "display_data"
    }
   ],
   "source": [
    "INPUT_DIR <- file.path(GENE_CORRS_DIR, tolower(REFERENCE_PANEL), tolower(EQTL_MODEL), \"by_chr\")\n",
    "IRdisplay::display(INPUT_DIR)"
   ]
  },
  {
   "cell_type": "code",
   "execution_count": 9,
   "id": "43c1daba-0da9-4822-8d1e-968e9767e251",
   "metadata": {
    "execution": {
     "iopub.execute_input": "2022-06-18T11:50:12.046835Z",
     "iopub.status.busy": "2022-06-18T11:50:12.045763Z",
     "iopub.status.idle": "2022-06-18T11:50:12.061233Z",
     "shell.execute_reply": "2022-06-18T11:50:12.059342Z"
    },
    "papermill": {
     "duration": 0.02489,
     "end_time": "2022-06-18T11:50:12.063546",
     "exception": false,
     "start_time": "2022-06-18T11:50:12.038656",
     "status": "completed"
    },
    "tags": []
   },
   "outputs": [
    {
     "data": {
      "text/html": [
       "'/opt/data/data/phenomexcan/ld_blocks/gene_corrs/gtex_v8/mashr/by_chr/gene_corrs-chr7.pkl'"
      ],
      "text/latex": [
       "'/opt/data/data/phenomexcan/ld\\_blocks/gene\\_corrs/gtex\\_v8/mashr/by\\_chr/gene\\_corrs-chr7.pkl'"
      ],
      "text/markdown": [
       "'/opt/data/data/phenomexcan/ld_blocks/gene_corrs/gtex_v8/mashr/by_chr/gene_corrs-chr7.pkl'"
      ],
      "text/plain": [
       "[1] \"/opt/data/data/phenomexcan/ld_blocks/gene_corrs/gtex_v8/mashr/by_chr/gene_corrs-chr7.pkl\""
      ]
     },
     "metadata": {},
     "output_type": "display_data"
    }
   ],
   "source": [
    "INPUT_FILE <- file.path(INPUT_DIR, paste0(\"gene_corrs-chr\", chromosome, \".pkl\"))\n",
    "IRdisplay::display(INPUT_FILE)\n",
    "stopifnot(file.exists(INPUT_FILE))"
   ]
  },
  {
   "cell_type": "code",
   "execution_count": 10,
   "id": "72386fbf-982b-420a-9057-ea9a97a5e571",
   "metadata": {
    "execution": {
     "iopub.execute_input": "2022-06-18T11:50:12.077848Z",
     "iopub.status.busy": "2022-06-18T11:50:12.076733Z",
     "iopub.status.idle": "2022-06-18T11:50:12.093933Z",
     "shell.execute_reply": "2022-06-18T11:50:12.092583Z"
    },
    "papermill": {
     "duration": 0.026149,
     "end_time": "2022-06-18T11:50:12.095924",
     "exception": false,
     "start_time": "2022-06-18T11:50:12.069775",
     "status": "completed"
    },
    "tags": []
   },
   "outputs": [
    {
     "data": {
      "text/html": [
       "'/opt/data/data/phenomexcan/ld_blocks/gene_corrs/gtex_v8/mashr/by_chr/corrected_positive_definite'"
      ],
      "text/latex": [
       "'/opt/data/data/phenomexcan/ld\\_blocks/gene\\_corrs/gtex\\_v8/mashr/by\\_chr/corrected\\_positive\\_definite'"
      ],
      "text/markdown": [
       "'/opt/data/data/phenomexcan/ld_blocks/gene_corrs/gtex_v8/mashr/by_chr/corrected_positive_definite'"
      ],
      "text/plain": [
       "[1] \"/opt/data/data/phenomexcan/ld_blocks/gene_corrs/gtex_v8/mashr/by_chr/corrected_positive_definite\""
      ]
     },
     "metadata": {},
     "output_type": "display_data"
    }
   ],
   "source": [
    "OUTPUT_DIR <- file.path(INPUT_DIR, \"corrected_positive_definite\")\n",
    "IRdisplay::display(OUTPUT_DIR)\n",
    "dir.create(OUTPUT_DIR, recursive = TRUE, showWarnings = FALSE)"
   ]
  },
  {
   "cell_type": "code",
   "execution_count": 11,
   "id": "f9f19d1d-ce4c-4099-a26e-250fec751de7",
   "metadata": {
    "execution": {
     "iopub.execute_input": "2022-06-18T11:50:12.110196Z",
     "iopub.status.busy": "2022-06-18T11:50:12.108962Z",
     "iopub.status.idle": "2022-06-18T11:50:12.132774Z",
     "shell.execute_reply": "2022-06-18T11:50:12.126989Z"
    },
    "papermill": {
     "duration": 0.033281,
     "end_time": "2022-06-18T11:50:12.135128",
     "exception": false,
     "start_time": "2022-06-18T11:50:12.101847",
     "status": "completed"
    },
    "tags": []
   },
   "outputs": [
    {
     "data": {
      "text/html": [
       "'/opt/data/data/phenomexcan/ld_blocks/gene_corrs/gtex_v8/mashr/by_chr/corrected_positive_definite/gene_corrs-chr7.pkl'"
      ],
      "text/latex": [
       "'/opt/data/data/phenomexcan/ld\\_blocks/gene\\_corrs/gtex\\_v8/mashr/by\\_chr/corrected\\_positive\\_definite/gene\\_corrs-chr7.pkl'"
      ],
      "text/markdown": [
       "'/opt/data/data/phenomexcan/ld_blocks/gene_corrs/gtex_v8/mashr/by_chr/corrected_positive_definite/gene_corrs-chr7.pkl'"
      ],
      "text/plain": [
       "[1] \"/opt/data/data/phenomexcan/ld_blocks/gene_corrs/gtex_v8/mashr/by_chr/corrected_positive_definite/gene_corrs-chr7.pkl\""
      ]
     },
     "metadata": {},
     "output_type": "display_data"
    },
    {
     "data": {
      "text/html": [
       "'Output file exists, it will be overwritten'"
      ],
      "text/latex": [
       "'Output file exists, it will be overwritten'"
      ],
      "text/markdown": [
       "'Output file exists, it will be overwritten'"
      ],
      "text/plain": [
       "[1] \"Output file exists, it will be overwritten\""
      ]
     },
     "metadata": {},
     "output_type": "display_data"
    }
   ],
   "source": [
    "OUTPUT_FILE <- file.path(OUTPUT_DIR, paste0(\"gene_corrs-chr\", chromosome, \".pkl\"))\n",
    "IRdisplay::display(OUTPUT_FILE)\n",
    "if (file.exists(OUTPUT_FILE)) {\n",
    "  IRdisplay::display(\"Output file exists, it will be overwritten\")\n",
    "}"
   ]
  },
  {
   "cell_type": "markdown",
   "id": "5aad60e6-cba4-41b5-9755-93eb86f4ed05",
   "metadata": {
    "papermill": {
     "duration": 0.006818,
     "end_time": "2022-06-18T11:50:12.148616",
     "exception": false,
     "start_time": "2022-06-18T11:50:12.141798",
     "status": "completed"
    },
    "tags": []
   },
   "source": [
    "# Functions"
   ]
  },
  {
   "cell_type": "code",
   "execution_count": 12,
   "id": "f828f081-7358-4cc8-8a89-1ee293bcc1a7",
   "metadata": {
    "execution": {
     "iopub.execute_input": "2022-06-18T11:50:12.164366Z",
     "iopub.status.busy": "2022-06-18T11:50:12.163314Z",
     "iopub.status.idle": "2022-06-18T11:50:12.174514Z",
     "shell.execute_reply": "2022-06-18T11:50:12.173251Z"
    },
    "papermill": {
     "duration": 0.020862,
     "end_time": "2022-06-18T11:50:12.176336",
     "exception": false,
     "start_time": "2022-06-18T11:50:12.155474",
     "status": "completed"
    },
    "tags": []
   },
   "outputs": [],
   "source": [
    "# taken from https://www.r-bloggers.com/2013/08/correcting-a-pseudo-correlation-matrix-to-be-positive-semidefinite/\n",
    "# TODO: add documentation\n",
    "CorrectCM <- function(CM, p = 0) {\n",
    "  n <- dim(var(CM))[1L]\n",
    "  E <- eigen(CM)\n",
    "  CM1 <- E$vectors %*% tcrossprod(diag(pmax(E$values, p), n), E$vectors)\n",
    "  Balance <- diag(1 / sqrt(diag(CM1)))\n",
    "  CM2 <- Balance %*% CM1 %*% Balance\n",
    "  return(CM2)\n",
    "}"
   ]
  },
  {
   "cell_type": "code",
   "execution_count": 13,
   "id": "7ab9bebf-50a1-4e6f-b16a-e23cae93d02a",
   "metadata": {
    "execution": {
     "iopub.execute_input": "2022-06-18T11:50:12.192118Z",
     "iopub.status.busy": "2022-06-18T11:50:12.190375Z",
     "iopub.status.idle": "2022-06-18T11:50:12.202602Z",
     "shell.execute_reply": "2022-06-18T11:50:12.200727Z"
    },
    "papermill": {
     "duration": 0.021939,
     "end_time": "2022-06-18T11:50:12.204786",
     "exception": false,
     "start_time": "2022-06-18T11:50:12.182847",
     "status": "completed"
    },
    "tags": []
   },
   "outputs": [],
   "source": [
    "is_positive_definite <- function(data) {\n",
    "  eigenvalues <- eigen(data)$values\n",
    "  nonpositive_eigenvalues <- eigenvalues[eigenvalues <= 0]\n",
    "\n",
    "  if (length(nonpositive_eigenvalues) > 0) {\n",
    "    IRdisplay::display(\"We need to correct the data and make the matrix positive definite\")\n",
    "    return(FALSE)\n",
    "  } else {\n",
    "    IRdisplay::display(\"Matrix is already positive definite!\")\n",
    "    return(TRUE)\n",
    "  }\n",
    "}"
   ]
  },
  {
   "cell_type": "markdown",
   "id": "ac52ecbc-5618-4876-a4fa-546a08e3fcf3",
   "metadata": {
    "papermill": {
     "duration": 0.006278,
     "end_time": "2022-06-18T11:50:12.217613",
     "exception": false,
     "start_time": "2022-06-18T11:50:12.211335",
     "status": "completed"
    },
    "tags": []
   },
   "source": [
    "# Load data"
   ]
  },
  {
   "cell_type": "code",
   "execution_count": 14,
   "id": "3a7744e1-2e5a-450e-9dcf-945ec181347d",
   "metadata": {
    "execution": {
     "iopub.execute_input": "2022-06-18T11:50:12.241327Z",
     "iopub.status.busy": "2022-06-18T11:50:12.240225Z",
     "iopub.status.idle": "2022-06-18T11:50:12.285342Z",
     "shell.execute_reply": "2022-06-18T11:50:12.284132Z"
    },
    "papermill": {
     "duration": 0.054558,
     "end_time": "2022-06-18T11:50:12.287138",
     "exception": false,
     "start_time": "2022-06-18T11:50:12.232580",
     "status": "completed"
    },
    "tags": []
   },
   "outputs": [],
   "source": [
    "gene_corrs <- pd$read_pickle(INPUT_FILE)"
   ]
  },
  {
   "cell_type": "code",
   "execution_count": 15,
   "id": "6fb150b2-4c68-4e9b-9aa5-1890d3f762e3",
   "metadata": {
    "execution": {
     "iopub.execute_input": "2022-06-18T11:50:12.301181Z",
     "iopub.status.busy": "2022-06-18T11:50:12.300188Z",
     "iopub.status.idle": "2022-06-18T11:50:12.311880Z",
     "shell.execute_reply": "2022-06-18T11:50:12.310561Z"
    },
    "papermill": {
     "duration": 0.020463,
     "end_time": "2022-06-18T11:50:12.313778",
     "exception": false,
     "start_time": "2022-06-18T11:50:12.293315",
     "status": "completed"
    },
    "tags": []
   },
   "outputs": [
    {
     "data": {
      "text/html": [
       "<style>\n",
       ".list-inline {list-style: none; margin:0; padding: 0}\n",
       ".list-inline>li {display: inline-block}\n",
       ".list-inline>li:not(:last-child)::after {content: \"\\00b7\"; padding: 0 .5ex}\n",
       "</style>\n",
       "<ol class=list-inline><li>281</li><li>281</li></ol>\n"
      ],
      "text/latex": [
       "\\begin{enumerate*}\n",
       "\\item 281\n",
       "\\item 281\n",
       "\\end{enumerate*}\n"
      ],
      "text/markdown": [
       "1. 281\n",
       "2. 281\n",
       "\n",
       "\n"
      ],
      "text/plain": [
       "[1] 281 281"
      ]
     },
     "metadata": {},
     "output_type": "display_data"
    }
   ],
   "source": [
    "dim(gene_corrs)"
   ]
  },
  {
   "cell_type": "code",
   "execution_count": 16,
   "id": "0d4e53b5-7586-4a68-8ce5-d930d74ba943",
   "metadata": {
    "execution": {
     "iopub.execute_input": "2022-06-18T11:50:12.331579Z",
     "iopub.status.busy": "2022-06-18T11:50:12.329410Z",
     "iopub.status.idle": "2022-06-18T11:50:12.356443Z",
     "shell.execute_reply": "2022-06-18T11:50:12.354497Z"
    },
    "papermill": {
     "duration": 0.037303,
     "end_time": "2022-06-18T11:50:12.358447",
     "exception": false,
     "start_time": "2022-06-18T11:50:12.321144",
     "status": "completed"
    },
    "tags": []
   },
   "outputs": [
    {
     "data": {
      "text/html": [
       "<table class=\"dataframe\">\n",
       "<caption>A data.frame: 6 × 10</caption>\n",
       "<thead>\n",
       "\t<tr><th></th><th scope=col>ENSG00000197461</th><th scope=col>ENSG00000188191</th><th scope=col>ENSG00000105963</th><th scope=col>ENSG00000198517</th><th scope=col>ENSG00000002822</th><th scope=col>ENSG00000106263</th><th scope=col>ENSG00000136213</th><th scope=col>ENSG00000106003</th><th scope=col>ENSG00000146535</th><th scope=col>ENSG00000198286</th></tr>\n",
       "\t<tr><th></th><th scope=col>&lt;dbl&gt;</th><th scope=col>&lt;dbl&gt;</th><th scope=col>&lt;dbl&gt;</th><th scope=col>&lt;dbl&gt;</th><th scope=col>&lt;dbl&gt;</th><th scope=col>&lt;dbl&gt;</th><th scope=col>&lt;dbl&gt;</th><th scope=col>&lt;dbl&gt;</th><th scope=col>&lt;dbl&gt;</th><th scope=col>&lt;dbl&gt;</th></tr>\n",
       "</thead>\n",
       "<tbody>\n",
       "\t<tr><th scope=row>ENSG00000197461</th><td> 1.0000000000</td><td>-0.029848843</td><td>-0.02182156</td><td> 0.20879455</td><td> 0.0009010742</td><td>-0.204422847</td><td>-0.03045959</td><td>-0.008917525</td><td>-0.043456995</td><td>-0.001200841</td></tr>\n",
       "\t<tr><th scope=row>ENSG00000188191</th><td>-0.0298488429</td><td> 1.000000000</td><td> 0.07576802</td><td> 0.01603634</td><td>-0.0185407859</td><td>-0.007383636</td><td>-0.10630895</td><td> 0.036843596</td><td>-0.075719704</td><td>-0.045024394</td></tr>\n",
       "\t<tr><th scope=row>ENSG00000105963</th><td>-0.0218215643</td><td> 0.075768017</td><td> 1.00000000</td><td>-0.02747716</td><td>-0.0208687365</td><td> 0.123523055</td><td> 0.04601975</td><td> 0.050243888</td><td> 0.005391165</td><td> 0.042752751</td></tr>\n",
       "\t<tr><th scope=row>ENSG00000198517</th><td> 0.2087945457</td><td> 0.016036336</td><td>-0.02747716</td><td> 1.00000000</td><td> 0.0297400722</td><td>-0.143564429</td><td> 0.01133198</td><td> 0.061223300</td><td>-0.026798648</td><td>-0.084529813</td></tr>\n",
       "\t<tr><th scope=row>ENSG00000002822</th><td> 0.0009010742</td><td>-0.018540786</td><td>-0.02086874</td><td> 0.02974007</td><td> 1.0000000000</td><td> 0.067276238</td><td> 0.08154279</td><td>-0.015789123</td><td>-0.080906463</td><td>-0.006509731</td></tr>\n",
       "\t<tr><th scope=row>ENSG00000106263</th><td>-0.2044228467</td><td>-0.007383636</td><td> 0.12352306</td><td>-0.14356443</td><td> 0.0672762383</td><td> 1.000000000</td><td> 0.10308070</td><td>-0.132459911</td><td>-0.076416367</td><td> 0.032850805</td></tr>\n",
       "</tbody>\n",
       "</table>\n"
      ],
      "text/latex": [
       "A data.frame: 6 × 10\n",
       "\\begin{tabular}{r|llllllllll}\n",
       "  & ENSG00000197461 & ENSG00000188191 & ENSG00000105963 & ENSG00000198517 & ENSG00000002822 & ENSG00000106263 & ENSG00000136213 & ENSG00000106003 & ENSG00000146535 & ENSG00000198286\\\\\n",
       "  & <dbl> & <dbl> & <dbl> & <dbl> & <dbl> & <dbl> & <dbl> & <dbl> & <dbl> & <dbl>\\\\\n",
       "\\hline\n",
       "\tENSG00000197461 &  1.0000000000 & -0.029848843 & -0.02182156 &  0.20879455 &  0.0009010742 & -0.204422847 & -0.03045959 & -0.008917525 & -0.043456995 & -0.001200841\\\\\n",
       "\tENSG00000188191 & -0.0298488429 &  1.000000000 &  0.07576802 &  0.01603634 & -0.0185407859 & -0.007383636 & -0.10630895 &  0.036843596 & -0.075719704 & -0.045024394\\\\\n",
       "\tENSG00000105963 & -0.0218215643 &  0.075768017 &  1.00000000 & -0.02747716 & -0.0208687365 &  0.123523055 &  0.04601975 &  0.050243888 &  0.005391165 &  0.042752751\\\\\n",
       "\tENSG00000198517 &  0.2087945457 &  0.016036336 & -0.02747716 &  1.00000000 &  0.0297400722 & -0.143564429 &  0.01133198 &  0.061223300 & -0.026798648 & -0.084529813\\\\\n",
       "\tENSG00000002822 &  0.0009010742 & -0.018540786 & -0.02086874 &  0.02974007 &  1.0000000000 &  0.067276238 &  0.08154279 & -0.015789123 & -0.080906463 & -0.006509731\\\\\n",
       "\tENSG00000106263 & -0.2044228467 & -0.007383636 &  0.12352306 & -0.14356443 &  0.0672762383 &  1.000000000 &  0.10308070 & -0.132459911 & -0.076416367 &  0.032850805\\\\\n",
       "\\end{tabular}\n"
      ],
      "text/markdown": [
       "\n",
       "A data.frame: 6 × 10\n",
       "\n",
       "| <!--/--> | ENSG00000197461 &lt;dbl&gt; | ENSG00000188191 &lt;dbl&gt; | ENSG00000105963 &lt;dbl&gt; | ENSG00000198517 &lt;dbl&gt; | ENSG00000002822 &lt;dbl&gt; | ENSG00000106263 &lt;dbl&gt; | ENSG00000136213 &lt;dbl&gt; | ENSG00000106003 &lt;dbl&gt; | ENSG00000146535 &lt;dbl&gt; | ENSG00000198286 &lt;dbl&gt; |\n",
       "|---|---|---|---|---|---|---|---|---|---|---|\n",
       "| ENSG00000197461 |  1.0000000000 | -0.029848843 | -0.02182156 |  0.20879455 |  0.0009010742 | -0.204422847 | -0.03045959 | -0.008917525 | -0.043456995 | -0.001200841 |\n",
       "| ENSG00000188191 | -0.0298488429 |  1.000000000 |  0.07576802 |  0.01603634 | -0.0185407859 | -0.007383636 | -0.10630895 |  0.036843596 | -0.075719704 | -0.045024394 |\n",
       "| ENSG00000105963 | -0.0218215643 |  0.075768017 |  1.00000000 | -0.02747716 | -0.0208687365 |  0.123523055 |  0.04601975 |  0.050243888 |  0.005391165 |  0.042752751 |\n",
       "| ENSG00000198517 |  0.2087945457 |  0.016036336 | -0.02747716 |  1.00000000 |  0.0297400722 | -0.143564429 |  0.01133198 |  0.061223300 | -0.026798648 | -0.084529813 |\n",
       "| ENSG00000002822 |  0.0009010742 | -0.018540786 | -0.02086874 |  0.02974007 |  1.0000000000 |  0.067276238 |  0.08154279 | -0.015789123 | -0.080906463 | -0.006509731 |\n",
       "| ENSG00000106263 | -0.2044228467 | -0.007383636 |  0.12352306 | -0.14356443 |  0.0672762383 |  1.000000000 |  0.10308070 | -0.132459911 | -0.076416367 |  0.032850805 |\n",
       "\n"
      ],
      "text/plain": [
       "                ENSG00000197461 ENSG00000188191 ENSG00000105963 ENSG00000198517\n",
       "ENSG00000197461  1.0000000000   -0.029848843    -0.02182156      0.20879455    \n",
       "ENSG00000188191 -0.0298488429    1.000000000     0.07576802      0.01603634    \n",
       "ENSG00000105963 -0.0218215643    0.075768017     1.00000000     -0.02747716    \n",
       "ENSG00000198517  0.2087945457    0.016036336    -0.02747716      1.00000000    \n",
       "ENSG00000002822  0.0009010742   -0.018540786    -0.02086874      0.02974007    \n",
       "ENSG00000106263 -0.2044228467   -0.007383636     0.12352306     -0.14356443    \n",
       "                ENSG00000002822 ENSG00000106263 ENSG00000136213 ENSG00000106003\n",
       "ENSG00000197461  0.0009010742   -0.204422847    -0.03045959     -0.008917525   \n",
       "ENSG00000188191 -0.0185407859   -0.007383636    -0.10630895      0.036843596   \n",
       "ENSG00000105963 -0.0208687365    0.123523055     0.04601975      0.050243888   \n",
       "ENSG00000198517  0.0297400722   -0.143564429     0.01133198      0.061223300   \n",
       "ENSG00000002822  1.0000000000    0.067276238     0.08154279     -0.015789123   \n",
       "ENSG00000106263  0.0672762383    1.000000000     0.10308070     -0.132459911   \n",
       "                ENSG00000146535 ENSG00000198286\n",
       "ENSG00000197461 -0.043456995    -0.001200841   \n",
       "ENSG00000188191 -0.075719704    -0.045024394   \n",
       "ENSG00000105963  0.005391165     0.042752751   \n",
       "ENSG00000198517 -0.026798648    -0.084529813   \n",
       "ENSG00000002822 -0.080906463    -0.006509731   \n",
       "ENSG00000106263 -0.076416367     0.032850805   "
      ]
     },
     "metadata": {},
     "output_type": "display_data"
    }
   ],
   "source": [
    "head(gene_corrs[1:10, 1:10])"
   ]
  },
  {
   "cell_type": "markdown",
   "id": "c5c9ffba-1678-4ce7-8988-4ee03e23bdf2",
   "metadata": {
    "papermill": {
     "duration": 0.006886,
     "end_time": "2022-06-18T11:50:12.372498",
     "exception": false,
     "start_time": "2022-06-18T11:50:12.365612",
     "status": "completed"
    },
    "tags": []
   },
   "source": [
    "# Check positive definiteness"
   ]
  },
  {
   "cell_type": "code",
   "execution_count": 17,
   "id": "178854f5-487a-42e8-82b4-625c1979734a",
   "metadata": {
    "execution": {
     "iopub.execute_input": "2022-06-18T11:50:12.390541Z",
     "iopub.status.busy": "2022-06-18T11:50:12.387886Z",
     "iopub.status.idle": "2022-06-18T11:50:12.429591Z",
     "shell.execute_reply": "2022-06-18T11:50:12.427501Z"
    },
    "papermill": {
     "duration": 0.051865,
     "end_time": "2022-06-18T11:50:12.431312",
     "exception": false,
     "start_time": "2022-06-18T11:50:12.379447",
     "status": "completed"
    },
    "tags": []
   },
   "outputs": [
    {
     "data": {
      "text/html": [
       "'We need to correct the data and make the matrix positive definite'"
      ],
      "text/latex": [
       "'We need to correct the data and make the matrix positive definite'"
      ],
      "text/markdown": [
       "'We need to correct the data and make the matrix positive definite'"
      ],
      "text/plain": [
       "[1] \"We need to correct the data and make the matrix positive definite\""
      ]
     },
     "metadata": {},
     "output_type": "display_data"
    },
    {
     "data": {
      "text/html": [
       "FALSE"
      ],
      "text/latex": [
       "FALSE"
      ],
      "text/markdown": [
       "FALSE"
      ],
      "text/plain": [
       "[1] FALSE"
      ]
     },
     "metadata": {},
     "output_type": "display_data"
    }
   ],
   "source": [
    "is_positive_definite(gene_corrs)"
   ]
  },
  {
   "cell_type": "code",
   "execution_count": 18,
   "id": "58542ade-c80f-42e6-acbf-6464dab70fdb",
   "metadata": {
    "execution": {
     "iopub.execute_input": "2022-06-18T11:50:12.446257Z",
     "iopub.status.busy": "2022-06-18T11:50:12.445257Z",
     "iopub.status.idle": "2022-06-18T11:50:12.473094Z",
     "shell.execute_reply": "2022-06-18T11:50:12.470586Z"
    },
    "papermill": {
     "duration": 0.03661,
     "end_time": "2022-06-18T11:50:12.474737",
     "exception": false,
     "start_time": "2022-06-18T11:50:12.438127",
     "status": "completed"
    },
    "tags": []
   },
   "outputs": [],
   "source": [
    "# see eigenvalues\n",
    "eigenvalues <- eigen(gene_corrs)$values"
   ]
  },
  {
   "cell_type": "code",
   "execution_count": 19,
   "id": "9486e0db-e924-43ab-bb6c-0d997fd38f3d",
   "metadata": {
    "execution": {
     "iopub.execute_input": "2022-06-18T11:50:12.488756Z",
     "iopub.status.busy": "2022-06-18T11:50:12.487851Z",
     "iopub.status.idle": "2022-06-18T11:50:12.511979Z",
     "shell.execute_reply": "2022-06-18T11:50:12.510142Z"
    },
    "papermill": {
     "duration": 0.032745,
     "end_time": "2022-06-18T11:50:12.513542",
     "exception": false,
     "start_time": "2022-06-18T11:50:12.480797",
     "status": "completed"
    },
    "tags": []
   },
   "outputs": [
    {
     "data": {
      "text/html": [
       "14"
      ],
      "text/latex": [
       "14"
      ],
      "text/markdown": [
       "14"
      ],
      "text/plain": [
       "[1] 14"
      ]
     },
     "metadata": {},
     "output_type": "display_data"
    },
    {
     "data": {
      "text/html": [
       "<style>\n",
       ".list-inline {list-style: none; margin:0; padding: 0}\n",
       ".list-inline>li {display: inline-block}\n",
       ".list-inline>li:not(:last-child)::after {content: \"\\00b7\"; padding: 0 .5ex}\n",
       "</style>\n",
       "<ol class=list-inline><li>-0.0365963538145213</li><li>-0.0433190420757237</li><li>-0.0815349834591537</li><li>-0.0876352330281287</li><li>-0.116103513399767</li><li>-0.126366803576548</li><li>-0.167940706313836</li><li>-0.203689041579695</li><li>-0.204996003252034</li><li>-0.336987971757401</li><li>-0.465128151163497</li><li>-0.545606489265736</li><li>-0.614242336543478</li><li>-1.92362844176994</li></ol>\n"
      ],
      "text/latex": [
       "\\begin{enumerate*}\n",
       "\\item -0.0365963538145213\n",
       "\\item -0.0433190420757237\n",
       "\\item -0.0815349834591537\n",
       "\\item -0.0876352330281287\n",
       "\\item -0.116103513399767\n",
       "\\item -0.126366803576548\n",
       "\\item -0.167940706313836\n",
       "\\item -0.203689041579695\n",
       "\\item -0.204996003252034\n",
       "\\item -0.336987971757401\n",
       "\\item -0.465128151163497\n",
       "\\item -0.545606489265736\n",
       "\\item -0.614242336543478\n",
       "\\item -1.92362844176994\n",
       "\\end{enumerate*}\n"
      ],
      "text/markdown": [
       "1. -0.0365963538145213\n",
       "2. -0.0433190420757237\n",
       "3. -0.0815349834591537\n",
       "4. -0.0876352330281287\n",
       "5. -0.116103513399767\n",
       "6. -0.126366803576548\n",
       "7. -0.167940706313836\n",
       "8. -0.203689041579695\n",
       "9. -0.204996003252034\n",
       "10. -0.336987971757401\n",
       "11. -0.465128151163497\n",
       "12. -0.545606489265736\n",
       "13. -0.614242336543478\n",
       "14. -1.92362844176994\n",
       "\n",
       "\n"
      ],
      "text/plain": [
       " [1] -0.03659635 -0.04331904 -0.08153498 -0.08763523 -0.11610351 -0.12636680\n",
       " [7] -0.16794071 -0.20368904 -0.20499600 -0.33698797 -0.46512815 -0.54560649\n",
       "[13] -0.61424234 -1.92362844"
      ]
     },
     "metadata": {},
     "output_type": "display_data"
    }
   ],
   "source": [
    "nonpositive_eigenvalues <- eigenvalues[eigenvalues <= 0]\n",
    "IRdisplay::display(length(nonpositive_eigenvalues))\n",
    "IRdisplay::display(nonpositive_eigenvalues)"
   ]
  },
  {
   "cell_type": "code",
   "execution_count": 20,
   "id": "410ee452-488f-4518-b93a-2acd608ba99c",
   "metadata": {
    "execution": {
     "iopub.execute_input": "2022-06-18T11:50:12.528295Z",
     "iopub.status.busy": "2022-06-18T11:50:12.527380Z",
     "iopub.status.idle": "2022-06-18T11:50:12.537760Z",
     "shell.execute_reply": "2022-06-18T11:50:12.535873Z"
    },
    "papermill": {
     "duration": 0.019065,
     "end_time": "2022-06-18T11:50:12.539291",
     "exception": false,
     "start_time": "2022-06-18T11:50:12.520226",
     "status": "completed"
    },
    "tags": []
   },
   "outputs": [],
   "source": [
    "if (length(eigenvalues[eigenvalues <= 0]) == 0) { quit() }"
   ]
  },
  {
   "cell_type": "markdown",
   "id": "2d280a82-f231-402d-82ab-9291d395afc1",
   "metadata": {
    "papermill": {
     "duration": 0.006063,
     "end_time": "2022-06-18T11:50:12.551788",
     "exception": false,
     "start_time": "2022-06-18T11:50:12.545725",
     "status": "completed"
    },
    "tags": []
   },
   "source": [
    "# Make matrix positive definite if needed"
   ]
  },
  {
   "cell_type": "code",
   "execution_count": 21,
   "id": "b9037873-4067-4ac6-aa92-e9225a6c9353",
   "metadata": {
    "execution": {
     "iopub.execute_input": "2022-06-18T11:50:12.566925Z",
     "iopub.status.busy": "2022-06-18T11:50:12.565895Z",
     "iopub.status.idle": "2022-06-18T11:50:12.612982Z",
     "shell.execute_reply": "2022-06-18T11:50:12.609681Z"
    },
    "papermill": {
     "duration": 0.056237,
     "end_time": "2022-06-18T11:50:12.614425",
     "exception": false,
     "start_time": "2022-06-18T11:50:12.558188",
     "status": "completed"
    },
    "tags": []
   },
   "outputs": [],
   "source": [
    "gene_corrs_corrected <- CorrectCM(gene_corrs, 1)"
   ]
  },
  {
   "cell_type": "code",
   "execution_count": 22,
   "id": "03c86284-5aac-4f66-86cc-74eb97102a7e",
   "metadata": {
    "execution": {
     "iopub.execute_input": "2022-06-18T11:50:12.647477Z",
     "iopub.status.busy": "2022-06-18T11:50:12.646577Z",
     "iopub.status.idle": "2022-06-18T11:50:12.659425Z",
     "shell.execute_reply": "2022-06-18T11:50:12.653448Z"
    },
    "papermill": {
     "duration": 0.032406,
     "end_time": "2022-06-18T11:50:12.662127",
     "exception": false,
     "start_time": "2022-06-18T11:50:12.629721",
     "status": "completed"
    },
    "tags": []
   },
   "outputs": [],
   "source": [
    "dimnames(gene_corrs_corrected)[[1]] <- rownames(gene_corrs)"
   ]
  },
  {
   "cell_type": "code",
   "execution_count": 23,
   "id": "576e7069-25ff-473d-8158-35b5f2ff212e",
   "metadata": {
    "execution": {
     "iopub.execute_input": "2022-06-18T11:50:12.695615Z",
     "iopub.status.busy": "2022-06-18T11:50:12.693755Z",
     "iopub.status.idle": "2022-06-18T11:50:12.704087Z",
     "shell.execute_reply": "2022-06-18T11:50:12.702309Z"
    },
    "papermill": {
     "duration": 0.032145,
     "end_time": "2022-06-18T11:50:12.705510",
     "exception": false,
     "start_time": "2022-06-18T11:50:12.673365",
     "status": "completed"
    },
    "tags": []
   },
   "outputs": [],
   "source": [
    "dimnames(gene_corrs_corrected)[[2]] <- colnames(gene_corrs)"
   ]
  },
  {
   "cell_type": "code",
   "execution_count": 24,
   "id": "f77d043a-321d-447f-8da5-2503981d3e73",
   "metadata": {
    "execution": {
     "iopub.execute_input": "2022-06-18T11:50:12.720210Z",
     "iopub.status.busy": "2022-06-18T11:50:12.719199Z",
     "iopub.status.idle": "2022-06-18T11:50:12.731369Z",
     "shell.execute_reply": "2022-06-18T11:50:12.729508Z"
    },
    "papermill": {
     "duration": 0.021032,
     "end_time": "2022-06-18T11:50:12.732964",
     "exception": false,
     "start_time": "2022-06-18T11:50:12.711932",
     "status": "completed"
    },
    "tags": []
   },
   "outputs": [],
   "source": [
    "gene_corrs_corrected <- as.data.frame(gene_corrs_corrected)"
   ]
  },
  {
   "cell_type": "code",
   "execution_count": 25,
   "id": "3e844024-f9a2-42a2-bbd0-695cfdbb78f5",
   "metadata": {
    "execution": {
     "iopub.execute_input": "2022-06-18T11:50:12.748140Z",
     "iopub.status.busy": "2022-06-18T11:50:12.747253Z",
     "iopub.status.idle": "2022-06-18T11:50:12.760969Z",
     "shell.execute_reply": "2022-06-18T11:50:12.759073Z"
    },
    "papermill": {
     "duration": 0.02254,
     "end_time": "2022-06-18T11:50:12.762536",
     "exception": false,
     "start_time": "2022-06-18T11:50:12.739996",
     "status": "completed"
    },
    "tags": []
   },
   "outputs": [
    {
     "data": {
      "text/html": [
       "<style>\n",
       ".list-inline {list-style: none; margin:0; padding: 0}\n",
       ".list-inline>li {display: inline-block}\n",
       ".list-inline>li:not(:last-child)::after {content: \"\\00b7\"; padding: 0 .5ex}\n",
       "</style>\n",
       "<ol class=list-inline><li>281</li><li>281</li></ol>\n"
      ],
      "text/latex": [
       "\\begin{enumerate*}\n",
       "\\item 281\n",
       "\\item 281\n",
       "\\end{enumerate*}\n"
      ],
      "text/markdown": [
       "1. 281\n",
       "2. 281\n",
       "\n",
       "\n"
      ],
      "text/plain": [
       "[1] 281 281"
      ]
     },
     "metadata": {},
     "output_type": "display_data"
    }
   ],
   "source": [
    "dim(gene_corrs_corrected)"
   ]
  },
  {
   "cell_type": "markdown",
   "id": "244b6bde-4ca8-46d1-acc7-b4c35b5d3c62",
   "metadata": {
    "papermill": {
     "duration": 0.006383,
     "end_time": "2022-06-18T11:50:12.775603",
     "exception": false,
     "start_time": "2022-06-18T11:50:12.769220",
     "status": "completed"
    },
    "tags": []
   },
   "source": [
    "# Check positive definiteness of corrected matrix"
   ]
  },
  {
   "cell_type": "code",
   "execution_count": 26,
   "id": "0fd5b688-e137-4619-910c-35130d32d600",
   "metadata": {
    "execution": {
     "iopub.execute_input": "2022-06-18T11:50:12.791872Z",
     "iopub.status.busy": "2022-06-18T11:50:12.790748Z",
     "iopub.status.idle": "2022-06-18T11:50:12.846077Z",
     "shell.execute_reply": "2022-06-18T11:50:12.842407Z"
    },
    "papermill": {
     "duration": 0.065757,
     "end_time": "2022-06-18T11:50:12.847703",
     "exception": false,
     "start_time": "2022-06-18T11:50:12.781946",
     "status": "completed"
    },
    "tags": []
   },
   "outputs": [
    {
     "data": {
      "text/html": [
       "'Matrix is already positive definite!'"
      ],
      "text/latex": [
       "'Matrix is already positive definite!'"
      ],
      "text/markdown": [
       "'Matrix is already positive definite!'"
      ],
      "text/plain": [
       "[1] \"Matrix is already positive definite!\""
      ]
     },
     "metadata": {},
     "output_type": "display_data"
    },
    {
     "data": {
      "text/html": [
       "TRUE"
      ],
      "text/latex": [
       "TRUE"
      ],
      "text/markdown": [
       "TRUE"
      ],
      "text/plain": [
       "[1] TRUE"
      ]
     },
     "metadata": {},
     "output_type": "display_data"
    }
   ],
   "source": [
    "is_positive_definite(gene_corrs_corrected)"
   ]
  },
  {
   "cell_type": "code",
   "execution_count": 27,
   "id": "06d23ab8-bebb-474c-be33-dca7e53c1717",
   "metadata": {
    "execution": {
     "iopub.execute_input": "2022-06-18T11:50:12.871078Z",
     "iopub.status.busy": "2022-06-18T11:50:12.870075Z",
     "iopub.status.idle": "2022-06-18T11:50:12.924152Z",
     "shell.execute_reply": "2022-06-18T11:50:12.919422Z"
    },
    "papermill": {
     "duration": 0.067495,
     "end_time": "2022-06-18T11:50:12.925936",
     "exception": false,
     "start_time": "2022-06-18T11:50:12.858441",
     "status": "completed"
    },
    "tags": []
   },
   "outputs": [],
   "source": [
    "# see eigenvalues\n",
    "eigenvalues <- eigen(gene_corrs_corrected)$values"
   ]
  },
  {
   "cell_type": "code",
   "execution_count": 28,
   "id": "ddf8afb8-e0e2-4b4e-876d-12bd6856c1ad",
   "metadata": {
    "execution": {
     "iopub.execute_input": "2022-06-18T11:50:12.941055Z",
     "iopub.status.busy": "2022-06-18T11:50:12.940033Z",
     "iopub.status.idle": "2022-06-18T11:50:12.972427Z",
     "shell.execute_reply": "2022-06-18T11:50:12.970523Z"
    },
    "papermill": {
     "duration": 0.04143,
     "end_time": "2022-06-18T11:50:12.974001",
     "exception": false,
     "start_time": "2022-06-18T11:50:12.932571",
     "status": "completed"
    },
    "tags": []
   },
   "outputs": [
    {
     "data": {
      "text/html": [
       "0"
      ],
      "text/latex": [
       "0"
      ],
      "text/markdown": [
       "0"
      ],
      "text/plain": [
       "[1] 0"
      ]
     },
     "metadata": {},
     "output_type": "display_data"
    },
    {
     "data": {
      "text/html": [],
      "text/latex": [],
      "text/markdown": [],
      "text/plain": [
       "numeric(0)"
      ]
     },
     "metadata": {},
     "output_type": "display_data"
    }
   ],
   "source": [
    "nonpositive_eigenvalues <- eigenvalues[eigenvalues <= 0]\n",
    "IRdisplay::display(length(nonpositive_eigenvalues))\n",
    "IRdisplay::display(nonpositive_eigenvalues)"
   ]
  },
  {
   "cell_type": "code",
   "execution_count": 29,
   "id": "712fd71a-b6ec-4a13-a956-80c99be7f585",
   "metadata": {
    "execution": {
     "iopub.execute_input": "2022-06-18T11:50:12.997539Z",
     "iopub.status.busy": "2022-06-18T11:50:12.996573Z",
     "iopub.status.idle": "2022-06-18T11:50:13.008020Z",
     "shell.execute_reply": "2022-06-18T11:50:13.006854Z"
    },
    "papermill": {
     "duration": 0.028793,
     "end_time": "2022-06-18T11:50:13.009759",
     "exception": false,
     "start_time": "2022-06-18T11:50:12.980966",
     "status": "completed"
    },
    "tags": []
   },
   "outputs": [],
   "source": [
    "stopifnot(length(eigenvalues[eigenvalues <= 0]) == 0)"
   ]
  },
  {
   "cell_type": "code",
   "execution_count": 30,
   "id": "786d6336-3844-40f7-979b-6d6028787f7f",
   "metadata": {
    "execution": {
     "iopub.execute_input": "2022-06-18T11:50:13.033405Z",
     "iopub.status.busy": "2022-06-18T11:50:13.032430Z",
     "iopub.status.idle": "2022-06-18T11:50:13.064386Z",
     "shell.execute_reply": "2022-06-18T11:50:13.062480Z"
    },
    "papermill": {
     "duration": 0.049001,
     "end_time": "2022-06-18T11:50:13.066257",
     "exception": false,
     "start_time": "2022-06-18T11:50:13.017256",
     "status": "completed"
    },
    "tags": []
   },
   "outputs": [
    {
     "data": {
      "text/html": [
       "<table class=\"dataframe\">\n",
       "<caption>A data.frame: 6 × 10</caption>\n",
       "<thead>\n",
       "\t<tr><th></th><th scope=col>ENSG00000197461</th><th scope=col>ENSG00000188191</th><th scope=col>ENSG00000105963</th><th scope=col>ENSG00000198517</th><th scope=col>ENSG00000002822</th><th scope=col>ENSG00000106263</th><th scope=col>ENSG00000136213</th><th scope=col>ENSG00000106003</th><th scope=col>ENSG00000146535</th><th scope=col>ENSG00000198286</th></tr>\n",
       "\t<tr><th></th><th scope=col>&lt;dbl&gt;</th><th scope=col>&lt;dbl&gt;</th><th scope=col>&lt;dbl&gt;</th><th scope=col>&lt;dbl&gt;</th><th scope=col>&lt;dbl&gt;</th><th scope=col>&lt;dbl&gt;</th><th scope=col>&lt;dbl&gt;</th><th scope=col>&lt;dbl&gt;</th><th scope=col>&lt;dbl&gt;</th><th scope=col>&lt;dbl&gt;</th></tr>\n",
       "</thead>\n",
       "<tbody>\n",
       "\t<tr><th scope=row>ENSG00000197461</th><td> 1.0000000000</td><td>-0.029848843</td><td>-0.02182156</td><td> 0.20879455</td><td> 0.0009010742</td><td>-0.204422847</td><td>-0.03045959</td><td>-0.008917525</td><td>-0.043456995</td><td>-0.001200841</td></tr>\n",
       "\t<tr><th scope=row>ENSG00000188191</th><td>-0.0298488429</td><td> 1.000000000</td><td> 0.07576802</td><td> 0.01603634</td><td>-0.0185407859</td><td>-0.007383636</td><td>-0.10630895</td><td> 0.036843596</td><td>-0.075719704</td><td>-0.045024394</td></tr>\n",
       "\t<tr><th scope=row>ENSG00000105963</th><td>-0.0218215643</td><td> 0.075768017</td><td> 1.00000000</td><td>-0.02747716</td><td>-0.0208687365</td><td> 0.123523055</td><td> 0.04601975</td><td> 0.050243888</td><td> 0.005391165</td><td> 0.042752751</td></tr>\n",
       "\t<tr><th scope=row>ENSG00000198517</th><td> 0.2087945457</td><td> 0.016036336</td><td>-0.02747716</td><td> 1.00000000</td><td> 0.0297400722</td><td>-0.143564429</td><td> 0.01133198</td><td> 0.061223300</td><td>-0.026798648</td><td>-0.084529813</td></tr>\n",
       "\t<tr><th scope=row>ENSG00000002822</th><td> 0.0009010742</td><td>-0.018540786</td><td>-0.02086874</td><td> 0.02974007</td><td> 1.0000000000</td><td> 0.067276238</td><td> 0.08154279</td><td>-0.015789123</td><td>-0.080906463</td><td>-0.006509731</td></tr>\n",
       "\t<tr><th scope=row>ENSG00000106263</th><td>-0.2044228467</td><td>-0.007383636</td><td> 0.12352306</td><td>-0.14356443</td><td> 0.0672762383</td><td> 1.000000000</td><td> 0.10308070</td><td>-0.132459911</td><td>-0.076416367</td><td> 0.032850805</td></tr>\n",
       "</tbody>\n",
       "</table>\n"
      ],
      "text/latex": [
       "A data.frame: 6 × 10\n",
       "\\begin{tabular}{r|llllllllll}\n",
       "  & ENSG00000197461 & ENSG00000188191 & ENSG00000105963 & ENSG00000198517 & ENSG00000002822 & ENSG00000106263 & ENSG00000136213 & ENSG00000106003 & ENSG00000146535 & ENSG00000198286\\\\\n",
       "  & <dbl> & <dbl> & <dbl> & <dbl> & <dbl> & <dbl> & <dbl> & <dbl> & <dbl> & <dbl>\\\\\n",
       "\\hline\n",
       "\tENSG00000197461 &  1.0000000000 & -0.029848843 & -0.02182156 &  0.20879455 &  0.0009010742 & -0.204422847 & -0.03045959 & -0.008917525 & -0.043456995 & -0.001200841\\\\\n",
       "\tENSG00000188191 & -0.0298488429 &  1.000000000 &  0.07576802 &  0.01603634 & -0.0185407859 & -0.007383636 & -0.10630895 &  0.036843596 & -0.075719704 & -0.045024394\\\\\n",
       "\tENSG00000105963 & -0.0218215643 &  0.075768017 &  1.00000000 & -0.02747716 & -0.0208687365 &  0.123523055 &  0.04601975 &  0.050243888 &  0.005391165 &  0.042752751\\\\\n",
       "\tENSG00000198517 &  0.2087945457 &  0.016036336 & -0.02747716 &  1.00000000 &  0.0297400722 & -0.143564429 &  0.01133198 &  0.061223300 & -0.026798648 & -0.084529813\\\\\n",
       "\tENSG00000002822 &  0.0009010742 & -0.018540786 & -0.02086874 &  0.02974007 &  1.0000000000 &  0.067276238 &  0.08154279 & -0.015789123 & -0.080906463 & -0.006509731\\\\\n",
       "\tENSG00000106263 & -0.2044228467 & -0.007383636 &  0.12352306 & -0.14356443 &  0.0672762383 &  1.000000000 &  0.10308070 & -0.132459911 & -0.076416367 &  0.032850805\\\\\n",
       "\\end{tabular}\n"
      ],
      "text/markdown": [
       "\n",
       "A data.frame: 6 × 10\n",
       "\n",
       "| <!--/--> | ENSG00000197461 &lt;dbl&gt; | ENSG00000188191 &lt;dbl&gt; | ENSG00000105963 &lt;dbl&gt; | ENSG00000198517 &lt;dbl&gt; | ENSG00000002822 &lt;dbl&gt; | ENSG00000106263 &lt;dbl&gt; | ENSG00000136213 &lt;dbl&gt; | ENSG00000106003 &lt;dbl&gt; | ENSG00000146535 &lt;dbl&gt; | ENSG00000198286 &lt;dbl&gt; |\n",
       "|---|---|---|---|---|---|---|---|---|---|---|\n",
       "| ENSG00000197461 |  1.0000000000 | -0.029848843 | -0.02182156 |  0.20879455 |  0.0009010742 | -0.204422847 | -0.03045959 | -0.008917525 | -0.043456995 | -0.001200841 |\n",
       "| ENSG00000188191 | -0.0298488429 |  1.000000000 |  0.07576802 |  0.01603634 | -0.0185407859 | -0.007383636 | -0.10630895 |  0.036843596 | -0.075719704 | -0.045024394 |\n",
       "| ENSG00000105963 | -0.0218215643 |  0.075768017 |  1.00000000 | -0.02747716 | -0.0208687365 |  0.123523055 |  0.04601975 |  0.050243888 |  0.005391165 |  0.042752751 |\n",
       "| ENSG00000198517 |  0.2087945457 |  0.016036336 | -0.02747716 |  1.00000000 |  0.0297400722 | -0.143564429 |  0.01133198 |  0.061223300 | -0.026798648 | -0.084529813 |\n",
       "| ENSG00000002822 |  0.0009010742 | -0.018540786 | -0.02086874 |  0.02974007 |  1.0000000000 |  0.067276238 |  0.08154279 | -0.015789123 | -0.080906463 | -0.006509731 |\n",
       "| ENSG00000106263 | -0.2044228467 | -0.007383636 |  0.12352306 | -0.14356443 |  0.0672762383 |  1.000000000 |  0.10308070 | -0.132459911 | -0.076416367 |  0.032850805 |\n",
       "\n"
      ],
      "text/plain": [
       "                ENSG00000197461 ENSG00000188191 ENSG00000105963 ENSG00000198517\n",
       "ENSG00000197461  1.0000000000   -0.029848843    -0.02182156      0.20879455    \n",
       "ENSG00000188191 -0.0298488429    1.000000000     0.07576802      0.01603634    \n",
       "ENSG00000105963 -0.0218215643    0.075768017     1.00000000     -0.02747716    \n",
       "ENSG00000198517  0.2087945457    0.016036336    -0.02747716      1.00000000    \n",
       "ENSG00000002822  0.0009010742   -0.018540786    -0.02086874      0.02974007    \n",
       "ENSG00000106263 -0.2044228467   -0.007383636     0.12352306     -0.14356443    \n",
       "                ENSG00000002822 ENSG00000106263 ENSG00000136213 ENSG00000106003\n",
       "ENSG00000197461  0.0009010742   -0.204422847    -0.03045959     -0.008917525   \n",
       "ENSG00000188191 -0.0185407859   -0.007383636    -0.10630895      0.036843596   \n",
       "ENSG00000105963 -0.0208687365    0.123523055     0.04601975      0.050243888   \n",
       "ENSG00000198517  0.0297400722   -0.143564429     0.01133198      0.061223300   \n",
       "ENSG00000002822  1.0000000000    0.067276238     0.08154279     -0.015789123   \n",
       "ENSG00000106263  0.0672762383    1.000000000     0.10308070     -0.132459911   \n",
       "                ENSG00000146535 ENSG00000198286\n",
       "ENSG00000197461 -0.043456995    -0.001200841   \n",
       "ENSG00000188191 -0.075719704    -0.045024394   \n",
       "ENSG00000105963  0.005391165     0.042752751   \n",
       "ENSG00000198517 -0.026798648    -0.084529813   \n",
       "ENSG00000002822 -0.080906463    -0.006509731   \n",
       "ENSG00000106263 -0.076416367     0.032850805   "
      ]
     },
     "metadata": {},
     "output_type": "display_data"
    },
    {
     "data": {
      "text/html": [
       "<table class=\"dataframe\">\n",
       "<caption>A data.frame: 6 × 10</caption>\n",
       "<thead>\n",
       "\t<tr><th></th><th scope=col>ENSG00000197461</th><th scope=col>ENSG00000188191</th><th scope=col>ENSG00000105963</th><th scope=col>ENSG00000198517</th><th scope=col>ENSG00000002822</th><th scope=col>ENSG00000106263</th><th scope=col>ENSG00000136213</th><th scope=col>ENSG00000106003</th><th scope=col>ENSG00000146535</th><th scope=col>ENSG00000198286</th></tr>\n",
       "\t<tr><th></th><th scope=col>&lt;dbl&gt;</th><th scope=col>&lt;dbl&gt;</th><th scope=col>&lt;dbl&gt;</th><th scope=col>&lt;dbl&gt;</th><th scope=col>&lt;dbl&gt;</th><th scope=col>&lt;dbl&gt;</th><th scope=col>&lt;dbl&gt;</th><th scope=col>&lt;dbl&gt;</th><th scope=col>&lt;dbl&gt;</th><th scope=col>&lt;dbl&gt;</th></tr>\n",
       "</thead>\n",
       "<tbody>\n",
       "\t<tr><th scope=row>ENSG00000197461</th><td> 1.000000000</td><td> 0.012102013</td><td>-0.03454392</td><td> 0.088940126</td><td> 0.006413368</td><td>-0.094096187</td><td>-0.03403603</td><td> 0.00556830</td><td>-0.005442539</td><td> 0.007825555</td></tr>\n",
       "\t<tr><th scope=row>ENSG00000188191</th><td> 0.012102013</td><td> 1.000000000</td><td> 0.03334762</td><td>-0.004284231</td><td>-0.009380047</td><td>-0.004469148</td><td>-0.05600176</td><td> 0.02135948</td><td>-0.027613595</td><td> 0.010304937</td></tr>\n",
       "\t<tr><th scope=row>ENSG00000105963</th><td>-0.034543920</td><td> 0.033347616</td><td> 1.00000000</td><td>-0.054786949</td><td> 0.016138747</td><td> 0.051164732</td><td> 0.01241237</td><td> 0.02915232</td><td>-0.015853479</td><td> 0.012776099</td></tr>\n",
       "\t<tr><th scope=row>ENSG00000198517</th><td> 0.088940126</td><td>-0.004284231</td><td>-0.05478695</td><td> 1.000000000</td><td> 0.015380675</td><td>-0.053850669</td><td> 0.01306831</td><td> 0.03757618</td><td>-0.048669795</td><td>-0.028472289</td></tr>\n",
       "\t<tr><th scope=row>ENSG00000002822</th><td> 0.006413368</td><td>-0.009380047</td><td> 0.01613875</td><td> 0.015380675</td><td> 1.000000000</td><td> 0.058641989</td><td> 0.02366272</td><td>-0.01133250</td><td>-0.034375518</td><td>-0.008273867</td></tr>\n",
       "\t<tr><th scope=row>ENSG00000106263</th><td>-0.094096187</td><td>-0.004469148</td><td> 0.05116473</td><td>-0.053850669</td><td> 0.058641989</td><td> 1.000000000</td><td> 0.04533068</td><td>-0.05170435</td><td>-0.095446772</td><td>-0.014084190</td></tr>\n",
       "</tbody>\n",
       "</table>\n"
      ],
      "text/latex": [
       "A data.frame: 6 × 10\n",
       "\\begin{tabular}{r|llllllllll}\n",
       "  & ENSG00000197461 & ENSG00000188191 & ENSG00000105963 & ENSG00000198517 & ENSG00000002822 & ENSG00000106263 & ENSG00000136213 & ENSG00000106003 & ENSG00000146535 & ENSG00000198286\\\\\n",
       "  & <dbl> & <dbl> & <dbl> & <dbl> & <dbl> & <dbl> & <dbl> & <dbl> & <dbl> & <dbl>\\\\\n",
       "\\hline\n",
       "\tENSG00000197461 &  1.000000000 &  0.012102013 & -0.03454392 &  0.088940126 &  0.006413368 & -0.094096187 & -0.03403603 &  0.00556830 & -0.005442539 &  0.007825555\\\\\n",
       "\tENSG00000188191 &  0.012102013 &  1.000000000 &  0.03334762 & -0.004284231 & -0.009380047 & -0.004469148 & -0.05600176 &  0.02135948 & -0.027613595 &  0.010304937\\\\\n",
       "\tENSG00000105963 & -0.034543920 &  0.033347616 &  1.00000000 & -0.054786949 &  0.016138747 &  0.051164732 &  0.01241237 &  0.02915232 & -0.015853479 &  0.012776099\\\\\n",
       "\tENSG00000198517 &  0.088940126 & -0.004284231 & -0.05478695 &  1.000000000 &  0.015380675 & -0.053850669 &  0.01306831 &  0.03757618 & -0.048669795 & -0.028472289\\\\\n",
       "\tENSG00000002822 &  0.006413368 & -0.009380047 &  0.01613875 &  0.015380675 &  1.000000000 &  0.058641989 &  0.02366272 & -0.01133250 & -0.034375518 & -0.008273867\\\\\n",
       "\tENSG00000106263 & -0.094096187 & -0.004469148 &  0.05116473 & -0.053850669 &  0.058641989 &  1.000000000 &  0.04533068 & -0.05170435 & -0.095446772 & -0.014084190\\\\\n",
       "\\end{tabular}\n"
      ],
      "text/markdown": [
       "\n",
       "A data.frame: 6 × 10\n",
       "\n",
       "| <!--/--> | ENSG00000197461 &lt;dbl&gt; | ENSG00000188191 &lt;dbl&gt; | ENSG00000105963 &lt;dbl&gt; | ENSG00000198517 &lt;dbl&gt; | ENSG00000002822 &lt;dbl&gt; | ENSG00000106263 &lt;dbl&gt; | ENSG00000136213 &lt;dbl&gt; | ENSG00000106003 &lt;dbl&gt; | ENSG00000146535 &lt;dbl&gt; | ENSG00000198286 &lt;dbl&gt; |\n",
       "|---|---|---|---|---|---|---|---|---|---|---|\n",
       "| ENSG00000197461 |  1.000000000 |  0.012102013 | -0.03454392 |  0.088940126 |  0.006413368 | -0.094096187 | -0.03403603 |  0.00556830 | -0.005442539 |  0.007825555 |\n",
       "| ENSG00000188191 |  0.012102013 |  1.000000000 |  0.03334762 | -0.004284231 | -0.009380047 | -0.004469148 | -0.05600176 |  0.02135948 | -0.027613595 |  0.010304937 |\n",
       "| ENSG00000105963 | -0.034543920 |  0.033347616 |  1.00000000 | -0.054786949 |  0.016138747 |  0.051164732 |  0.01241237 |  0.02915232 | -0.015853479 |  0.012776099 |\n",
       "| ENSG00000198517 |  0.088940126 | -0.004284231 | -0.05478695 |  1.000000000 |  0.015380675 | -0.053850669 |  0.01306831 |  0.03757618 | -0.048669795 | -0.028472289 |\n",
       "| ENSG00000002822 |  0.006413368 | -0.009380047 |  0.01613875 |  0.015380675 |  1.000000000 |  0.058641989 |  0.02366272 | -0.01133250 | -0.034375518 | -0.008273867 |\n",
       "| ENSG00000106263 | -0.094096187 | -0.004469148 |  0.05116473 | -0.053850669 |  0.058641989 |  1.000000000 |  0.04533068 | -0.05170435 | -0.095446772 | -0.014084190 |\n",
       "\n"
      ],
      "text/plain": [
       "                ENSG00000197461 ENSG00000188191 ENSG00000105963 ENSG00000198517\n",
       "ENSG00000197461  1.000000000     0.012102013    -0.03454392      0.088940126   \n",
       "ENSG00000188191  0.012102013     1.000000000     0.03334762     -0.004284231   \n",
       "ENSG00000105963 -0.034543920     0.033347616     1.00000000     -0.054786949   \n",
       "ENSG00000198517  0.088940126    -0.004284231    -0.05478695      1.000000000   \n",
       "ENSG00000002822  0.006413368    -0.009380047     0.01613875      0.015380675   \n",
       "ENSG00000106263 -0.094096187    -0.004469148     0.05116473     -0.053850669   \n",
       "                ENSG00000002822 ENSG00000106263 ENSG00000136213 ENSG00000106003\n",
       "ENSG00000197461  0.006413368    -0.094096187    -0.03403603      0.00556830    \n",
       "ENSG00000188191 -0.009380047    -0.004469148    -0.05600176      0.02135948    \n",
       "ENSG00000105963  0.016138747     0.051164732     0.01241237      0.02915232    \n",
       "ENSG00000198517  0.015380675    -0.053850669     0.01306831      0.03757618    \n",
       "ENSG00000002822  1.000000000     0.058641989     0.02366272     -0.01133250    \n",
       "ENSG00000106263  0.058641989     1.000000000     0.04533068     -0.05170435    \n",
       "                ENSG00000146535 ENSG00000198286\n",
       "ENSG00000197461 -0.005442539     0.007825555   \n",
       "ENSG00000188191 -0.027613595     0.010304937   \n",
       "ENSG00000105963 -0.015853479     0.012776099   \n",
       "ENSG00000198517 -0.048669795    -0.028472289   \n",
       "ENSG00000002822 -0.034375518    -0.008273867   \n",
       "ENSG00000106263 -0.095446772    -0.014084190   "
      ]
     },
     "metadata": {},
     "output_type": "display_data"
    }
   ],
   "source": [
    "# quick and visual comparison of the two matrices\n",
    "IRdisplay::display(head(gene_corrs[1:10, 1:10]))\n",
    "IRdisplay::display(head(gene_corrs_corrected[1:10, 1:10]))"
   ]
  },
  {
   "cell_type": "markdown",
   "id": "c6c40f1a-d153-475a-94eb-c71697ad9d51",
   "metadata": {
    "papermill": {
     "duration": 0.007348,
     "end_time": "2022-06-18T11:50:13.081640",
     "exception": false,
     "start_time": "2022-06-18T11:50:13.074292",
     "status": "completed"
    },
    "tags": []
   },
   "source": [
    "Both matrices should \"look\" similar. We are not interested in perfectly accurate correlation values (they are already inaccurate)."
   ]
  },
  {
   "cell_type": "markdown",
   "id": "bf0f49cb-9c21-4616-8390-bb68d52dae56",
   "metadata": {
    "papermill": {
     "duration": 0.007259,
     "end_time": "2022-06-18T11:50:13.096030",
     "exception": false,
     "start_time": "2022-06-18T11:50:13.088771",
     "status": "completed"
    },
    "tags": []
   },
   "source": [
    "# Save"
   ]
  },
  {
   "cell_type": "code",
   "execution_count": 31,
   "id": "2e58e7f3-a75c-4195-a20e-39e3e3e1cc9a",
   "metadata": {
    "execution": {
     "iopub.execute_input": "2022-06-18T11:50:13.112486Z",
     "iopub.status.busy": "2022-06-18T11:50:13.111507Z",
     "iopub.status.idle": "2022-06-18T11:50:13.135542Z",
     "shell.execute_reply": "2022-06-18T11:50:13.133470Z"
    },
    "papermill": {
     "duration": 0.033794,
     "end_time": "2022-06-18T11:50:13.137317",
     "exception": false,
     "start_time": "2022-06-18T11:50:13.103523",
     "status": "completed"
    },
    "tags": []
   },
   "outputs": [],
   "source": [
    "py_save_object(gene_corrs_corrected, OUTPUT_FILE)"
   ]
  },
  {
   "cell_type": "code",
   "execution_count": null,
   "id": "d8ae4220-2171-460c-9231-cd5219f3fe77",
   "metadata": {
    "papermill": {
     "duration": 0.007461,
     "end_time": "2022-06-18T11:50:13.152596",
     "exception": false,
     "start_time": "2022-06-18T11:50:13.145135",
     "status": "completed"
    },
    "tags": []
   },
   "outputs": [],
   "source": []
  }
 ],
 "metadata": {
  "jupytext": {
   "cell_metadata_filter": "all,-execution,-papermill,-trusted"
  },
  "kernelspec": {
   "display_name": "R",
   "language": "R",
   "name": "ir"
  },
  "language_info": {
   "codemirror_mode": "r",
   "file_extension": ".r",
   "mimetype": "text/x-r-source",
   "name": "R",
   "pygments_lexer": "r",
   "version": "3.6.3"
  },
  "papermill": {
   "default_parameters": {},
   "duration": 6.048804,
   "end_time": "2022-06-18T11:50:13.277975",
   "environment_variables": {},
   "exception": null,
   "input_path": "nbs/15_gsa_gls/12-gene_expr_correlations-adjust.ipynb",
   "output_path": "nbs/15_gsa_gls/gene_corrs/gtex_v8/mashr/12-gene_expr_correlations-adjust-chr7.run.ipynb",
   "parameters": {
    "EQTL_MODEL": "MASHR",
    "REFERENCE_PANEL": "GTEX_V8",
    "chromosome": 7
   },
   "start_time": "2022-06-18T11:50:07.229171",
   "version": "2.3.4"
  }
 },
 "nbformat": 4,
 "nbformat_minor": 5
}
