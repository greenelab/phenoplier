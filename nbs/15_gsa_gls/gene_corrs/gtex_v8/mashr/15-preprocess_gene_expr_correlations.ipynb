{
 "cells": [
  {
   "cell_type": "markdown",
   "id": "5ef66977",
   "metadata": {
    "papermill": {
     "duration": 0.037173,
     "end_time": "2022-06-06T16:36:51.875494",
     "exception": false,
     "start_time": "2022-06-06T16:36:51.838321",
     "status": "completed"
    },
    "tags": []
   },
   "source": [
    "# Description"
   ]
  },
  {
   "cell_type": "markdown",
   "id": "658d4f7c",
   "metadata": {
    "papermill": {
     "duration": 0.009764,
     "end_time": "2022-06-06T16:36:51.900135",
     "exception": false,
     "start_time": "2022-06-06T16:36:51.890371",
     "status": "completed"
    },
    "tags": []
   },
   "source": [
    "(Please, take a look at the README.md file in this directory for instructions on how to run this notebook)\n",
    "\n",
    "This notebook reads all gene correlations across all tissues and computes a single correlation matrix."
   ]
  },
  {
   "cell_type": "markdown",
   "id": "60fa4530",
   "metadata": {
    "papermill": {
     "duration": 0.008394,
     "end_time": "2022-06-06T16:36:51.917001",
     "exception": false,
     "start_time": "2022-06-06T16:36:51.908607",
     "status": "completed"
    },
    "tags": []
   },
   "source": [
    "# Modules"
   ]
  },
  {
   "cell_type": "code",
   "execution_count": 1,
   "id": "d70b0833",
   "metadata": {
    "execution": {
     "iopub.execute_input": "2022-06-06T16:36:51.963846Z",
     "iopub.status.busy": "2022-06-06T16:36:51.963594Z",
     "iopub.status.idle": "2022-06-06T16:36:51.982872Z",
     "shell.execute_reply": "2022-06-06T16:36:51.982203Z"
    },
    "papermill": {
     "duration": 0.058603,
     "end_time": "2022-06-06T16:36:51.984752",
     "exception": false,
     "start_time": "2022-06-06T16:36:51.926149",
     "status": "completed"
    },
    "tags": []
   },
   "outputs": [],
   "source": [
    "%load_ext autoreload\n",
    "%autoreload 2"
   ]
  },
  {
   "cell_type": "code",
   "execution_count": 2,
   "id": "6b2f9ca0",
   "metadata": {
    "execution": {
     "iopub.execute_input": "2022-06-06T16:36:52.007508Z",
     "iopub.status.busy": "2022-06-06T16:36:52.007021Z",
     "iopub.status.idle": "2022-06-06T16:36:52.489761Z",
     "shell.execute_reply": "2022-06-06T16:36:52.489100Z"
    },
    "papermill": {
     "duration": 0.495355,
     "end_time": "2022-06-06T16:36:52.491341",
     "exception": false,
     "start_time": "2022-06-06T16:36:51.995986",
     "status": "completed"
    },
    "tags": []
   },
   "outputs": [],
   "source": [
    "import numpy as np\n",
    "from scipy.spatial.distance import squareform\n",
    "import pandas as pd\n",
    "\n",
    "import conf\n",
    "from entity import Gene"
   ]
  },
  {
   "cell_type": "markdown",
   "id": "5b96e797",
   "metadata": {
    "papermill": {
     "duration": 0.008963,
     "end_time": "2022-06-06T16:36:52.509961",
     "exception": false,
     "start_time": "2022-06-06T16:36:52.500998",
     "status": "completed"
    },
    "tags": []
   },
   "source": [
    "# Settings"
   ]
  },
  {
   "cell_type": "code",
   "execution_count": 3,
   "id": "4fc1b6a0",
   "metadata": {
    "execution": {
     "iopub.execute_input": "2022-06-06T16:36:52.528784Z",
     "iopub.status.busy": "2022-06-06T16:36:52.528551Z",
     "iopub.status.idle": "2022-06-06T16:36:52.541844Z",
     "shell.execute_reply": "2022-06-06T16:36:52.541358Z"
    },
    "papermill": {
     "duration": 0.024247,
     "end_time": "2022-06-06T16:36:52.543189",
     "exception": false,
     "start_time": "2022-06-06T16:36:52.518942",
     "status": "completed"
    },
    "tags": [
     "parameters"
    ]
   },
   "outputs": [],
   "source": [
    "# reference panel\n",
    "REFERENCE_PANEL = \"GTEX_V8\"\n",
    "# REFERENCE_PANEL = \"1000G\"\n",
    "\n",
    "# prediction models\n",
    "## mashr\n",
    "EQTL_MODEL = \"MASHR\"\n",
    "EQTL_MODEL_FILES_PREFIX = \"mashr_\"\n",
    "\n",
    "# ## elastic net\n",
    "# EQTL_MODEL = \"ELASTIC_NET\"\n",
    "# EQTL_MODEL_FILES_PREFIX = \"en_\"\n",
    "\n",
    "# make it read the prefix from conf.py\n",
    "EQTL_MODEL_FILES_PREFIX = None"
   ]
  },
  {
   "cell_type": "code",
   "execution_count": 4,
   "id": "50ac520e",
   "metadata": {
    "execution": {
     "iopub.execute_input": "2022-06-06T16:36:52.561916Z",
     "iopub.status.busy": "2022-06-06T16:36:52.561717Z",
     "iopub.status.idle": "2022-06-06T16:36:52.574388Z",
     "shell.execute_reply": "2022-06-06T16:36:52.573933Z"
    },
    "papermill": {
     "duration": 0.02352,
     "end_time": "2022-06-06T16:36:52.575748",
     "exception": false,
     "start_time": "2022-06-06T16:36:52.552228",
     "status": "completed"
    },
    "tags": [
     "injected-parameters"
    ]
   },
   "outputs": [],
   "source": [
    "# Parameters\n",
    "REFERENCE_PANEL = \"GTEX_V8\"\n",
    "EQTL_MODEL = \"MASHR\"\n"
   ]
  },
  {
   "cell_type": "code",
   "execution_count": 5,
   "id": "92e6297a",
   "metadata": {
    "execution": {
     "iopub.execute_input": "2022-06-06T16:36:52.595020Z",
     "iopub.status.busy": "2022-06-06T16:36:52.594844Z",
     "iopub.status.idle": "2022-06-06T16:36:52.609117Z",
     "shell.execute_reply": "2022-06-06T16:36:52.608586Z"
    },
    "papermill": {
     "duration": 0.025657,
     "end_time": "2022-06-06T16:36:52.610653",
     "exception": false,
     "start_time": "2022-06-06T16:36:52.584996",
     "status": "completed"
    },
    "tags": []
   },
   "outputs": [],
   "source": [
    "if EQTL_MODEL_FILES_PREFIX is None:\n",
    "    EQTL_MODEL_FILES_PREFIX = conf.PHENOMEXCAN[\"PREDICTION_MODELS\"][\n",
    "        f\"{EQTL_MODEL}_PREFIX\"\n",
    "    ]"
   ]
  },
  {
   "cell_type": "code",
   "execution_count": 6,
   "id": "c76e4f93",
   "metadata": {
    "execution": {
     "iopub.execute_input": "2022-06-06T16:36:52.629700Z",
     "iopub.status.busy": "2022-06-06T16:36:52.629533Z",
     "iopub.status.idle": "2022-06-06T16:36:52.648284Z",
     "shell.execute_reply": "2022-06-06T16:36:52.647756Z"
    },
    "papermill": {
     "duration": 0.029797,
     "end_time": "2022-06-06T16:36:52.649602",
     "exception": false,
     "start_time": "2022-06-06T16:36:52.619805",
     "status": "completed"
    },
    "tags": []
   },
   "outputs": [
    {
     "data": {
      "text/plain": [
       "'Using eQTL model: MASHR / mashr_'"
      ]
     },
     "metadata": {},
     "output_type": "display_data"
    }
   ],
   "source": [
    "display(f\"Using eQTL model: {EQTL_MODEL} / {EQTL_MODEL_FILES_PREFIX}\")"
   ]
  },
  {
   "cell_type": "code",
   "execution_count": 7,
   "id": "8b85565e-d749-42a9-840d-794f535503ce",
   "metadata": {
    "execution": {
     "iopub.execute_input": "2022-06-06T16:36:52.669265Z",
     "iopub.status.busy": "2022-06-06T16:36:52.668826Z",
     "iopub.status.idle": "2022-06-06T16:36:52.681787Z",
     "shell.execute_reply": "2022-06-06T16:36:52.681294Z"
    },
    "papermill": {
     "duration": 0.024173,
     "end_time": "2022-06-06T16:36:52.683181",
     "exception": false,
     "start_time": "2022-06-06T16:36:52.659008",
     "status": "completed"
    },
    "tags": []
   },
   "outputs": [],
   "source": [
    "REFERENCE_PANEL_DIR = conf.PHENOMEXCAN[\"LD_BLOCKS\"][f\"{REFERENCE_PANEL}_GENOTYPE_DIR\"]"
   ]
  },
  {
   "cell_type": "code",
   "execution_count": 8,
   "id": "7d88b555-08c0-4a85-94e1-c7679a361093",
   "metadata": {
    "execution": {
     "iopub.execute_input": "2022-06-06T16:36:52.702862Z",
     "iopub.status.busy": "2022-06-06T16:36:52.702685Z",
     "iopub.status.idle": "2022-06-06T16:36:52.716285Z",
     "shell.execute_reply": "2022-06-06T16:36:52.715804Z"
    },
    "papermill": {
     "duration": 0.025089,
     "end_time": "2022-06-06T16:36:52.717683",
     "exception": false,
     "start_time": "2022-06-06T16:36:52.692594",
     "status": "completed"
    },
    "tags": []
   },
   "outputs": [
    {
     "data": {
      "text/plain": [
       "'Using reference panel folder: /opt/data/data/phenomexcan/ld_blocks/reference_panel_gtex_v8'"
      ]
     },
     "metadata": {},
     "output_type": "display_data"
    }
   ],
   "source": [
    "display(f\"Using reference panel folder: {str(REFERENCE_PANEL_DIR)}\")"
   ]
  },
  {
   "cell_type": "code",
   "execution_count": 9,
   "id": "ac0c0705-90e4-42f8-8298-a457c7e778ff",
   "metadata": {
    "execution": {
     "iopub.execute_input": "2022-06-06T16:36:52.738057Z",
     "iopub.status.busy": "2022-06-06T16:36:52.737828Z",
     "iopub.status.idle": "2022-06-06T16:36:52.751505Z",
     "shell.execute_reply": "2022-06-06T16:36:52.750992Z"
    },
    "papermill": {
     "duration": 0.025349,
     "end_time": "2022-06-06T16:36:52.752866",
     "exception": false,
     "start_time": "2022-06-06T16:36:52.727517",
     "status": "completed"
    },
    "tags": []
   },
   "outputs": [],
   "source": [
    "OUTPUT_DIR_BASE = (\n",
    "    conf.PHENOMEXCAN[\"LD_BLOCKS\"][f\"GENE_CORRS_DIR\"]\n",
    "    / REFERENCE_PANEL.lower()\n",
    "    / EQTL_MODEL.lower()\n",
    ")\n",
    "OUTPUT_DIR_BASE.mkdir(parents=True, exist_ok=True)"
   ]
  },
  {
   "cell_type": "code",
   "execution_count": 10,
   "id": "91e9b1f6-954d-494f-9ace-c2c9dfc74d4f",
   "metadata": {
    "execution": {
     "iopub.execute_input": "2022-06-06T16:36:52.772842Z",
     "iopub.status.busy": "2022-06-06T16:36:52.772670Z",
     "iopub.status.idle": "2022-06-06T16:36:52.786250Z",
     "shell.execute_reply": "2022-06-06T16:36:52.785779Z"
    },
    "papermill": {
     "duration": 0.025091,
     "end_time": "2022-06-06T16:36:52.787620",
     "exception": false,
     "start_time": "2022-06-06T16:36:52.762529",
     "status": "completed"
    },
    "tags": []
   },
   "outputs": [
    {
     "data": {
      "text/plain": [
       "'Using output dir base: /opt/data/data/phenomexcan/ld_blocks/gene_corrs/gtex_v8/mashr'"
      ]
     },
     "metadata": {},
     "output_type": "display_data"
    }
   ],
   "source": [
    "display(f\"Using output dir base: {OUTPUT_DIR_BASE}\")"
   ]
  },
  {
   "cell_type": "code",
   "execution_count": 11,
   "id": "1afd50f7",
   "metadata": {
    "execution": {
     "iopub.execute_input": "2022-06-06T16:36:52.807702Z",
     "iopub.status.busy": "2022-06-06T16:36:52.807533Z",
     "iopub.status.idle": "2022-06-06T16:36:52.821381Z",
     "shell.execute_reply": "2022-06-06T16:36:52.820852Z"
    },
    "papermill": {
     "duration": 0.025425,
     "end_time": "2022-06-06T16:36:52.822752",
     "exception": false,
     "start_time": "2022-06-06T16:36:52.797327",
     "status": "completed"
    },
    "tags": []
   },
   "outputs": [
    {
     "data": {
      "text/plain": [
       "PosixPath('/opt/data/data/phenomexcan/ld_blocks/gene_corrs/gtex_v8/mashr/by_tissue')"
      ]
     },
     "metadata": {},
     "output_type": "display_data"
    }
   ],
   "source": [
    "INPUT_DIR = OUTPUT_DIR_BASE / \"by_tissue\"\n",
    "display(INPUT_DIR)\n",
    "assert INPUT_DIR.exists()"
   ]
  },
  {
   "cell_type": "markdown",
   "id": "99ccb166",
   "metadata": {
    "papermill": {
     "duration": 0.009514,
     "end_time": "2022-06-06T16:36:52.842081",
     "exception": false,
     "start_time": "2022-06-06T16:36:52.832567",
     "status": "completed"
    },
    "tags": []
   },
   "source": [
    "# Load data"
   ]
  },
  {
   "cell_type": "markdown",
   "id": "028bdd42",
   "metadata": {
    "papermill": {
     "duration": 0.009074,
     "end_time": "2022-06-06T16:36:52.860450",
     "exception": false,
     "start_time": "2022-06-06T16:36:52.851376",
     "status": "completed"
    },
    "tags": []
   },
   "source": [
    "## Gene correlations"
   ]
  },
  {
   "cell_type": "code",
   "execution_count": 12,
   "id": "04624465",
   "metadata": {
    "execution": {
     "iopub.execute_input": "2022-06-06T16:36:52.879791Z",
     "iopub.status.busy": "2022-06-06T16:36:52.879586Z",
     "iopub.status.idle": "2022-06-06T16:36:52.898270Z",
     "shell.execute_reply": "2022-06-06T16:36:52.897717Z"
    },
    "papermill": {
     "duration": 0.030016,
     "end_time": "2022-06-06T16:36:52.899753",
     "exception": false,
     "start_time": "2022-06-06T16:36:52.869737",
     "status": "completed"
    },
    "tags": []
   },
   "outputs": [],
   "source": [
    "all_gene_corr_files = list(INPUT_DIR.rglob(\"*.pkl\"))"
   ]
  },
  {
   "cell_type": "code",
   "execution_count": 13,
   "id": "7d1168f5",
   "metadata": {
    "execution": {
     "iopub.execute_input": "2022-06-06T16:36:52.920209Z",
     "iopub.status.busy": "2022-06-06T16:36:52.919978Z",
     "iopub.status.idle": "2022-06-06T16:36:52.933735Z",
     "shell.execute_reply": "2022-06-06T16:36:52.933088Z"
    },
    "papermill": {
     "duration": 0.025399,
     "end_time": "2022-06-06T16:36:52.935222",
     "exception": false,
     "start_time": "2022-06-06T16:36:52.909823",
     "status": "completed"
    },
    "tags": []
   },
   "outputs": [
    {
     "data": {
      "text/plain": [
       "1078"
      ]
     },
     "execution_count": 13,
     "metadata": {},
     "output_type": "execute_result"
    }
   ],
   "source": [
    "len(all_gene_corr_files)"
   ]
  },
  {
   "cell_type": "code",
   "execution_count": 14,
   "id": "39364170",
   "metadata": {
    "execution": {
     "iopub.execute_input": "2022-06-06T16:36:52.955443Z",
     "iopub.status.busy": "2022-06-06T16:36:52.955274Z",
     "iopub.status.idle": "2022-06-06T16:36:52.969197Z",
     "shell.execute_reply": "2022-06-06T16:36:52.968438Z"
    },
    "papermill": {
     "duration": 0.025586,
     "end_time": "2022-06-06T16:36:52.970606",
     "exception": false,
     "start_time": "2022-06-06T16:36:52.945020",
     "status": "completed"
    },
    "tags": []
   },
   "outputs": [
    {
     "data": {
      "text/plain": [
       "[PosixPath('/opt/data/data/phenomexcan/ld_blocks/gene_corrs/gtex_v8/mashr/by_tissue/gene_corrs-Prostate-chr19.pkl'),\n",
       " PosixPath('/opt/data/data/phenomexcan/ld_blocks/gene_corrs/gtex_v8/mashr/by_tissue/gene_corrs-Small_Intestine_Terminal_Ileum-chr20.pkl'),\n",
       " PosixPath('/opt/data/data/phenomexcan/ld_blocks/gene_corrs/gtex_v8/mashr/by_tissue/gene_corrs-Skin_Not_Sun_Exposed_Suprapubic-chr11.pkl'),\n",
       " PosixPath('/opt/data/data/phenomexcan/ld_blocks/gene_corrs/gtex_v8/mashr/by_tissue/gene_corrs-Nerve_Tibial-chr22.pkl'),\n",
       " PosixPath('/opt/data/data/phenomexcan/ld_blocks/gene_corrs/gtex_v8/mashr/by_tissue/gene_corrs-Brain_Amygdala-chr6.pkl')]"
      ]
     },
     "execution_count": 14,
     "metadata": {},
     "output_type": "execute_result"
    }
   ],
   "source": [
    "all_gene_corr_files[:5]"
   ]
  },
  {
   "cell_type": "code",
   "execution_count": 15,
   "id": "6e48c284",
   "metadata": {
    "execution": {
     "iopub.execute_input": "2022-06-06T16:36:52.991027Z",
     "iopub.status.busy": "2022-06-06T16:36:52.990859Z",
     "iopub.status.idle": "2022-06-06T16:36:53.003713Z",
     "shell.execute_reply": "2022-06-06T16:36:53.003210Z"
    },
    "papermill": {
     "duration": 0.024591,
     "end_time": "2022-06-06T16:36:53.005135",
     "exception": false,
     "start_time": "2022-06-06T16:36:52.980544",
     "status": "completed"
    },
    "tags": []
   },
   "outputs": [],
   "source": [
    "assert len(all_gene_corr_files) == 22 * 49"
   ]
  },
  {
   "cell_type": "code",
   "execution_count": 16,
   "id": "593d443c",
   "metadata": {
    "execution": {
     "iopub.execute_input": "2022-06-06T16:36:53.026073Z",
     "iopub.status.busy": "2022-06-06T16:36:53.025903Z",
     "iopub.status.idle": "2022-06-06T16:36:53.039363Z",
     "shell.execute_reply": "2022-06-06T16:36:53.038776Z"
    },
    "papermill": {
     "duration": 0.025482,
     "end_time": "2022-06-06T16:36:53.040780",
     "exception": false,
     "start_time": "2022-06-06T16:36:53.015298",
     "status": "completed"
    },
    "tags": []
   },
   "outputs": [],
   "source": [
    "all_gene_corr_files_df = pd.DataFrame({\"corr_file\": [f for f in all_gene_corr_files]})"
   ]
  },
  {
   "cell_type": "code",
   "execution_count": 17,
   "id": "cff28955",
   "metadata": {
    "execution": {
     "iopub.execute_input": "2022-06-06T16:36:53.061828Z",
     "iopub.status.busy": "2022-06-06T16:36:53.061615Z",
     "iopub.status.idle": "2022-06-06T16:36:53.076567Z",
     "shell.execute_reply": "2022-06-06T16:36:53.076019Z"
    },
    "papermill": {
     "duration": 0.027092,
     "end_time": "2022-06-06T16:36:53.078026",
     "exception": false,
     "start_time": "2022-06-06T16:36:53.050934",
     "status": "completed"
    },
    "tags": []
   },
   "outputs": [],
   "source": [
    "all_gene_corr_files_df = all_gene_corr_files_df.assign(\n",
    "    file_name=all_gene_corr_files_df[\"corr_file\"].apply(lambda x: x.name)\n",
    ")"
   ]
  },
  {
   "cell_type": "code",
   "execution_count": 18,
   "id": "cfe5bb46",
   "metadata": {
    "execution": {
     "iopub.execute_input": "2022-06-06T16:36:53.099096Z",
     "iopub.status.busy": "2022-06-06T16:36:53.098923Z",
     "iopub.status.idle": "2022-06-06T16:36:53.113424Z",
     "shell.execute_reply": "2022-06-06T16:36:53.112907Z"
    },
    "papermill": {
     "duration": 0.026612,
     "end_time": "2022-06-06T16:36:53.114862",
     "exception": false,
     "start_time": "2022-06-06T16:36:53.088250",
     "status": "completed"
    },
    "tags": []
   },
   "outputs": [],
   "source": [
    "all_gene_corr_files_df = all_gene_corr_files_df.assign(\n",
    "    tissue=all_gene_corr_files_df[\"file_name\"].apply(\n",
    "        lambda x: x.split(\"-chr\")[0].split(\"gene_corrs-\")[1]\n",
    "    )\n",
    ")"
   ]
  },
  {
   "cell_type": "code",
   "execution_count": 19,
   "id": "2f17383c",
   "metadata": {
    "execution": {
     "iopub.execute_input": "2022-06-06T16:36:53.135917Z",
     "iopub.status.busy": "2022-06-06T16:36:53.135744Z",
     "iopub.status.idle": "2022-06-06T16:36:53.150434Z",
     "shell.execute_reply": "2022-06-06T16:36:53.150015Z"
    },
    "papermill": {
     "duration": 0.026766,
     "end_time": "2022-06-06T16:36:53.151837",
     "exception": false,
     "start_time": "2022-06-06T16:36:53.125071",
     "status": "completed"
    },
    "tags": []
   },
   "outputs": [],
   "source": [
    "all_gene_corr_files_df = all_gene_corr_files_df.assign(\n",
    "    chromosome=all_gene_corr_files_df[\"file_name\"].apply(\n",
    "        lambda x: int(x.split(\"-chr\")[1].split(\".\")[0])\n",
    "    )\n",
    ")"
   ]
  },
  {
   "cell_type": "code",
   "execution_count": 20,
   "id": "48b83603",
   "metadata": {
    "execution": {
     "iopub.execute_input": "2022-06-06T16:36:53.172957Z",
     "iopub.status.busy": "2022-06-06T16:36:53.172781Z",
     "iopub.status.idle": "2022-06-06T16:36:53.186110Z",
     "shell.execute_reply": "2022-06-06T16:36:53.185630Z"
    },
    "papermill": {
     "duration": 0.025383,
     "end_time": "2022-06-06T16:36:53.187476",
     "exception": false,
     "start_time": "2022-06-06T16:36:53.162093",
     "status": "completed"
    },
    "tags": []
   },
   "outputs": [],
   "source": [
    "assert all_gene_corr_files_df[\"tissue\"].unique().shape[0] == 49"
   ]
  },
  {
   "cell_type": "code",
   "execution_count": 21,
   "id": "0592a66d",
   "metadata": {
    "execution": {
     "iopub.execute_input": "2022-06-06T16:36:53.208678Z",
     "iopub.status.busy": "2022-06-06T16:36:53.208504Z",
     "iopub.status.idle": "2022-06-06T16:36:53.222145Z",
     "shell.execute_reply": "2022-06-06T16:36:53.221582Z"
    },
    "papermill": {
     "duration": 0.030064,
     "end_time": "2022-06-06T16:36:53.227803",
     "exception": false,
     "start_time": "2022-06-06T16:36:53.197739",
     "status": "completed"
    },
    "tags": []
   },
   "outputs": [],
   "source": [
    "assert all_gene_corr_files_df[\"chromosome\"].unique().shape[0] == 22\n",
    "assert set(all_gene_corr_files_df[\"chromosome\"]) == set(range(1, 23))"
   ]
  },
  {
   "cell_type": "code",
   "execution_count": 22,
   "id": "0d6ff5d0",
   "metadata": {
    "execution": {
     "iopub.execute_input": "2022-06-06T16:36:53.252036Z",
     "iopub.status.busy": "2022-06-06T16:36:53.251856Z",
     "iopub.status.idle": "2022-06-06T16:36:53.266033Z",
     "shell.execute_reply": "2022-06-06T16:36:53.265563Z"
    },
    "papermill": {
     "duration": 0.027287,
     "end_time": "2022-06-06T16:36:53.267464",
     "exception": false,
     "start_time": "2022-06-06T16:36:53.240177",
     "status": "completed"
    },
    "tags": []
   },
   "outputs": [
    {
     "data": {
      "text/plain": [
       "(1078, 4)"
      ]
     },
     "execution_count": 22,
     "metadata": {},
     "output_type": "execute_result"
    }
   ],
   "source": [
    "all_gene_corr_files_df.shape"
   ]
  },
  {
   "cell_type": "code",
   "execution_count": 23,
   "id": "92309dc4",
   "metadata": {
    "execution": {
     "iopub.execute_input": "2022-06-06T16:36:53.289861Z",
     "iopub.status.busy": "2022-06-06T16:36:53.289662Z",
     "iopub.status.idle": "2022-06-06T16:36:53.308256Z",
     "shell.execute_reply": "2022-06-06T16:36:53.307720Z"
    },
    "papermill": {
     "duration": 0.031166,
     "end_time": "2022-06-06T16:36:53.309682",
     "exception": false,
     "start_time": "2022-06-06T16:36:53.278516",
     "status": "completed"
    },
    "tags": []
   },
   "outputs": [
    {
     "data": {
      "text/html": [
       "<div>\n",
       "<style scoped>\n",
       "    .dataframe tbody tr th:only-of-type {\n",
       "        vertical-align: middle;\n",
       "    }\n",
       "\n",
       "    .dataframe tbody tr th {\n",
       "        vertical-align: top;\n",
       "    }\n",
       "\n",
       "    .dataframe thead th {\n",
       "        text-align: right;\n",
       "    }\n",
       "</style>\n",
       "<table border=\"1\" class=\"dataframe\">\n",
       "  <thead>\n",
       "    <tr style=\"text-align: right;\">\n",
       "      <th></th>\n",
       "      <th>corr_file</th>\n",
       "      <th>file_name</th>\n",
       "      <th>tissue</th>\n",
       "      <th>chromosome</th>\n",
       "    </tr>\n",
       "  </thead>\n",
       "  <tbody>\n",
       "    <tr>\n",
       "      <th>0</th>\n",
       "      <td>/opt/data/data/phenomexcan/ld_blocks/gene_corr...</td>\n",
       "      <td>gene_corrs-Prostate-chr19.pkl</td>\n",
       "      <td>Prostate</td>\n",
       "      <td>19</td>\n",
       "    </tr>\n",
       "    <tr>\n",
       "      <th>1</th>\n",
       "      <td>/opt/data/data/phenomexcan/ld_blocks/gene_corr...</td>\n",
       "      <td>gene_corrs-Small_Intestine_Terminal_Ileum-chr2...</td>\n",
       "      <td>Small_Intestine_Terminal_Ileum</td>\n",
       "      <td>20</td>\n",
       "    </tr>\n",
       "    <tr>\n",
       "      <th>2</th>\n",
       "      <td>/opt/data/data/phenomexcan/ld_blocks/gene_corr...</td>\n",
       "      <td>gene_corrs-Skin_Not_Sun_Exposed_Suprapubic-chr...</td>\n",
       "      <td>Skin_Not_Sun_Exposed_Suprapubic</td>\n",
       "      <td>11</td>\n",
       "    </tr>\n",
       "    <tr>\n",
       "      <th>3</th>\n",
       "      <td>/opt/data/data/phenomexcan/ld_blocks/gene_corr...</td>\n",
       "      <td>gene_corrs-Nerve_Tibial-chr22.pkl</td>\n",
       "      <td>Nerve_Tibial</td>\n",
       "      <td>22</td>\n",
       "    </tr>\n",
       "    <tr>\n",
       "      <th>4</th>\n",
       "      <td>/opt/data/data/phenomexcan/ld_blocks/gene_corr...</td>\n",
       "      <td>gene_corrs-Brain_Amygdala-chr6.pkl</td>\n",
       "      <td>Brain_Amygdala</td>\n",
       "      <td>6</td>\n",
       "    </tr>\n",
       "  </tbody>\n",
       "</table>\n",
       "</div>"
      ],
      "text/plain": [
       "                                           corr_file  \\\n",
       "0  /opt/data/data/phenomexcan/ld_blocks/gene_corr...   \n",
       "1  /opt/data/data/phenomexcan/ld_blocks/gene_corr...   \n",
       "2  /opt/data/data/phenomexcan/ld_blocks/gene_corr...   \n",
       "3  /opt/data/data/phenomexcan/ld_blocks/gene_corr...   \n",
       "4  /opt/data/data/phenomexcan/ld_blocks/gene_corr...   \n",
       "\n",
       "                                           file_name  \\\n",
       "0                      gene_corrs-Prostate-chr19.pkl   \n",
       "1  gene_corrs-Small_Intestine_Terminal_Ileum-chr2...   \n",
       "2  gene_corrs-Skin_Not_Sun_Exposed_Suprapubic-chr...   \n",
       "3                  gene_corrs-Nerve_Tibial-chr22.pkl   \n",
       "4                 gene_corrs-Brain_Amygdala-chr6.pkl   \n",
       "\n",
       "                            tissue  chromosome  \n",
       "0                         Prostate          19  \n",
       "1   Small_Intestine_Terminal_Ileum          20  \n",
       "2  Skin_Not_Sun_Exposed_Suprapubic          11  \n",
       "3                     Nerve_Tibial          22  \n",
       "4                   Brain_Amygdala           6  "
      ]
     },
     "execution_count": 23,
     "metadata": {},
     "output_type": "execute_result"
    }
   ],
   "source": [
    "all_gene_corr_files_df.head()"
   ]
  },
  {
   "cell_type": "markdown",
   "id": "46ae0b3e",
   "metadata": {
    "papermill": {
     "duration": 0.010326,
     "end_time": "2022-06-06T16:36:53.330631",
     "exception": false,
     "start_time": "2022-06-06T16:36:53.320305",
     "status": "completed"
    },
    "tags": []
   },
   "source": [
    "## MultiPLIER Z"
   ]
  },
  {
   "cell_type": "code",
   "execution_count": 24,
   "id": "d38d9749",
   "metadata": {
    "execution": {
     "iopub.execute_input": "2022-06-06T16:36:53.351997Z",
     "iopub.status.busy": "2022-06-06T16:36:53.351388Z",
     "iopub.status.idle": "2022-06-06T16:36:53.388373Z",
     "shell.execute_reply": "2022-06-06T16:36:53.387785Z"
    },
    "papermill": {
     "duration": 0.049358,
     "end_time": "2022-06-06T16:36:53.390054",
     "exception": false,
     "start_time": "2022-06-06T16:36:53.340696",
     "status": "completed"
    },
    "tags": []
   },
   "outputs": [],
   "source": [
    "multiplier_z_genes = pd.read_pickle(\n",
    "    conf.MULTIPLIER[\"MODEL_Z_MATRIX_FILE\"]\n",
    ").index.tolist()"
   ]
  },
  {
   "cell_type": "code",
   "execution_count": 25,
   "id": "67e93797",
   "metadata": {
    "execution": {
     "iopub.execute_input": "2022-06-06T16:36:53.415023Z",
     "iopub.status.busy": "2022-06-06T16:36:53.414830Z",
     "iopub.status.idle": "2022-06-06T16:36:53.428907Z",
     "shell.execute_reply": "2022-06-06T16:36:53.428390Z"
    },
    "papermill": {
     "duration": 0.028128,
     "end_time": "2022-06-06T16:36:53.430342",
     "exception": false,
     "start_time": "2022-06-06T16:36:53.402214",
     "status": "completed"
    },
    "tags": []
   },
   "outputs": [
    {
     "data": {
      "text/plain": [
       "6750"
      ]
     },
     "execution_count": 25,
     "metadata": {},
     "output_type": "execute_result"
    }
   ],
   "source": [
    "len(multiplier_z_genes)"
   ]
  },
  {
   "cell_type": "code",
   "execution_count": 26,
   "id": "e1ba1ead",
   "metadata": {
    "execution": {
     "iopub.execute_input": "2022-06-06T16:36:53.453249Z",
     "iopub.status.busy": "2022-06-06T16:36:53.453074Z",
     "iopub.status.idle": "2022-06-06T16:36:53.467139Z",
     "shell.execute_reply": "2022-06-06T16:36:53.466551Z"
    },
    "papermill": {
     "duration": 0.027103,
     "end_time": "2022-06-06T16:36:53.468563",
     "exception": false,
     "start_time": "2022-06-06T16:36:53.441460",
     "status": "completed"
    },
    "tags": []
   },
   "outputs": [
    {
     "data": {
      "text/plain": [
       "['GAS6',\n",
       " 'MMP14',\n",
       " 'DSP',\n",
       " 'MARCKSL1',\n",
       " 'SPARC',\n",
       " 'CTSD',\n",
       " 'EPAS1',\n",
       " 'PALLD',\n",
       " 'PHC2',\n",
       " 'LGALS3BP']"
      ]
     },
     "execution_count": 26,
     "metadata": {},
     "output_type": "execute_result"
    }
   ],
   "source": [
    "multiplier_z_genes[:10]"
   ]
  },
  {
   "cell_type": "markdown",
   "id": "18873129",
   "metadata": {
    "papermill": {
     "duration": 0.010393,
     "end_time": "2022-06-06T16:36:53.490097",
     "exception": false,
     "start_time": "2022-06-06T16:36:53.479704",
     "status": "completed"
    },
    "tags": []
   },
   "source": [
    "## Get gene objects"
   ]
  },
  {
   "cell_type": "code",
   "execution_count": 27,
   "id": "3660a0b8",
   "metadata": {
    "execution": {
     "iopub.execute_input": "2022-06-06T16:36:53.511873Z",
     "iopub.status.busy": "2022-06-06T16:36:53.511400Z",
     "iopub.status.idle": "2022-06-06T16:36:53.531507Z",
     "shell.execute_reply": "2022-06-06T16:36:53.530910Z"
    },
    "papermill": {
     "duration": 0.032566,
     "end_time": "2022-06-06T16:36:53.533022",
     "exception": false,
     "start_time": "2022-06-06T16:36:53.500456",
     "status": "completed"
    },
    "tags": []
   },
   "outputs": [],
   "source": [
    "multiplier_gene_obj = {\n",
    "    gene_name: Gene(name=gene_name)\n",
    "    for gene_name in multiplier_z_genes\n",
    "    if gene_name in Gene.GENE_NAME_TO_ID_MAP\n",
    "}"
   ]
  },
  {
   "cell_type": "code",
   "execution_count": 28,
   "id": "43bacda1",
   "metadata": {
    "execution": {
     "iopub.execute_input": "2022-06-06T16:36:53.555507Z",
     "iopub.status.busy": "2022-06-06T16:36:53.555334Z",
     "iopub.status.idle": "2022-06-06T16:36:53.569328Z",
     "shell.execute_reply": "2022-06-06T16:36:53.568810Z"
    },
    "papermill": {
     "duration": 0.02673,
     "end_time": "2022-06-06T16:36:53.570676",
     "exception": false,
     "start_time": "2022-06-06T16:36:53.543946",
     "status": "completed"
    },
    "tags": []
   },
   "outputs": [
    {
     "data": {
      "text/plain": [
       "6454"
      ]
     },
     "execution_count": 28,
     "metadata": {},
     "output_type": "execute_result"
    }
   ],
   "source": [
    "len(multiplier_gene_obj)"
   ]
  },
  {
   "cell_type": "code",
   "execution_count": 29,
   "id": "a60c1bb6",
   "metadata": {
    "execution": {
     "iopub.execute_input": "2022-06-06T16:36:53.593373Z",
     "iopub.status.busy": "2022-06-06T16:36:53.593200Z",
     "iopub.status.idle": "2022-06-06T16:36:53.607724Z",
     "shell.execute_reply": "2022-06-06T16:36:53.607187Z"
    },
    "papermill": {
     "duration": 0.027393,
     "end_time": "2022-06-06T16:36:53.609081",
     "exception": false,
     "start_time": "2022-06-06T16:36:53.581688",
     "status": "completed"
    },
    "tags": []
   },
   "outputs": [
    {
     "data": {
      "text/plain": [
       "'ENSG00000183087'"
      ]
     },
     "execution_count": 29,
     "metadata": {},
     "output_type": "execute_result"
    }
   ],
   "source": [
    "multiplier_gene_obj[\"GAS6\"].ensembl_id"
   ]
  },
  {
   "cell_type": "code",
   "execution_count": 30,
   "id": "ba55cbcb",
   "metadata": {
    "execution": {
     "iopub.execute_input": "2022-06-06T16:36:53.631909Z",
     "iopub.status.busy": "2022-06-06T16:36:53.631500Z",
     "iopub.status.idle": "2022-06-06T16:36:54.428249Z",
     "shell.execute_reply": "2022-06-06T16:36:54.427708Z"
    },
    "papermill": {
     "duration": 0.809658,
     "end_time": "2022-06-06T16:36:54.429839",
     "exception": false,
     "start_time": "2022-06-06T16:36:53.620181",
     "status": "completed"
    },
    "tags": []
   },
   "outputs": [],
   "source": [
    "_gene_obj = list(multiplier_gene_obj.values())\n",
    "\n",
    "genes_info = pd.DataFrame(\n",
    "    {\n",
    "        \"name\": [g.name for g in _gene_obj],\n",
    "        \"id\": [g.ensembl_id for g in _gene_obj],\n",
    "        \"chr\": [g.chromosome for g in _gene_obj],\n",
    "    }\n",
    ").dropna()"
   ]
  },
  {
   "cell_type": "code",
   "execution_count": 31,
   "id": "9510fe3a",
   "metadata": {
    "execution": {
     "iopub.execute_input": "2022-06-06T16:36:54.452692Z",
     "iopub.status.busy": "2022-06-06T16:36:54.452055Z",
     "iopub.status.idle": "2022-06-06T16:36:54.466114Z",
     "shell.execute_reply": "2022-06-06T16:36:54.465485Z"
    },
    "papermill": {
     "duration": 0.026904,
     "end_time": "2022-06-06T16:36:54.467452",
     "exception": false,
     "start_time": "2022-06-06T16:36:54.440548",
     "status": "completed"
    },
    "tags": []
   },
   "outputs": [
    {
     "data": {
      "text/plain": [
       "(6452, 3)"
      ]
     },
     "execution_count": 31,
     "metadata": {},
     "output_type": "execute_result"
    }
   ],
   "source": [
    "genes_info.shape"
   ]
  },
  {
   "cell_type": "code",
   "execution_count": 32,
   "id": "b175ee0c",
   "metadata": {
    "execution": {
     "iopub.execute_input": "2022-06-06T16:36:54.490292Z",
     "iopub.status.busy": "2022-06-06T16:36:54.490122Z",
     "iopub.status.idle": "2022-06-06T16:36:54.507215Z",
     "shell.execute_reply": "2022-06-06T16:36:54.506666Z"
    },
    "papermill": {
     "duration": 0.030164,
     "end_time": "2022-06-06T16:36:54.508710",
     "exception": false,
     "start_time": "2022-06-06T16:36:54.478546",
     "status": "completed"
    },
    "tags": []
   },
   "outputs": [
    {
     "data": {
      "text/html": [
       "<div>\n",
       "<style scoped>\n",
       "    .dataframe tbody tr th:only-of-type {\n",
       "        vertical-align: middle;\n",
       "    }\n",
       "\n",
       "    .dataframe tbody tr th {\n",
       "        vertical-align: top;\n",
       "    }\n",
       "\n",
       "    .dataframe thead th {\n",
       "        text-align: right;\n",
       "    }\n",
       "</style>\n",
       "<table border=\"1\" class=\"dataframe\">\n",
       "  <thead>\n",
       "    <tr style=\"text-align: right;\">\n",
       "      <th></th>\n",
       "      <th>name</th>\n",
       "      <th>id</th>\n",
       "      <th>chr</th>\n",
       "    </tr>\n",
       "  </thead>\n",
       "  <tbody>\n",
       "    <tr>\n",
       "      <th>0</th>\n",
       "      <td>GAS6</td>\n",
       "      <td>ENSG00000183087</td>\n",
       "      <td>13</td>\n",
       "    </tr>\n",
       "    <tr>\n",
       "      <th>1</th>\n",
       "      <td>MMP14</td>\n",
       "      <td>ENSG00000157227</td>\n",
       "      <td>14</td>\n",
       "    </tr>\n",
       "    <tr>\n",
       "      <th>2</th>\n",
       "      <td>DSP</td>\n",
       "      <td>ENSG00000096696</td>\n",
       "      <td>6</td>\n",
       "    </tr>\n",
       "    <tr>\n",
       "      <th>3</th>\n",
       "      <td>MARCKSL1</td>\n",
       "      <td>ENSG00000175130</td>\n",
       "      <td>1</td>\n",
       "    </tr>\n",
       "    <tr>\n",
       "      <th>4</th>\n",
       "      <td>SPARC</td>\n",
       "      <td>ENSG00000113140</td>\n",
       "      <td>5</td>\n",
       "    </tr>\n",
       "  </tbody>\n",
       "</table>\n",
       "</div>"
      ],
      "text/plain": [
       "       name               id chr\n",
       "0      GAS6  ENSG00000183087  13\n",
       "1     MMP14  ENSG00000157227  14\n",
       "2       DSP  ENSG00000096696   6\n",
       "3  MARCKSL1  ENSG00000175130   1\n",
       "4     SPARC  ENSG00000113140   5"
      ]
     },
     "execution_count": 32,
     "metadata": {},
     "output_type": "execute_result"
    }
   ],
   "source": [
    "genes_info.head()"
   ]
  },
  {
   "cell_type": "markdown",
   "id": "6a29d252",
   "metadata": {
    "papermill": {
     "duration": 0.011108,
     "end_time": "2022-06-06T16:36:54.530775",
     "exception": false,
     "start_time": "2022-06-06T16:36:54.519667",
     "status": "completed"
    },
    "tags": []
   },
   "source": [
    "## Get tissues names"
   ]
  },
  {
   "cell_type": "code",
   "execution_count": 33,
   "id": "2bc52419",
   "metadata": {
    "execution": {
     "iopub.execute_input": "2022-06-06T16:36:54.553467Z",
     "iopub.status.busy": "2022-06-06T16:36:54.553214Z",
     "iopub.status.idle": "2022-06-06T16:36:54.566981Z",
     "shell.execute_reply": "2022-06-06T16:36:54.566425Z"
    },
    "papermill": {
     "duration": 0.026759,
     "end_time": "2022-06-06T16:36:54.568485",
     "exception": false,
     "start_time": "2022-06-06T16:36:54.541726",
     "status": "completed"
    },
    "tags": []
   },
   "outputs": [],
   "source": [
    "tissues = conf.PHENOMEXCAN[\"PREDICTION_MODELS\"][f\"{EQTL_MODEL}_TISSUES\"].split(\" \")"
   ]
  },
  {
   "cell_type": "code",
   "execution_count": 34,
   "id": "64b293a1",
   "metadata": {
    "execution": {
     "iopub.execute_input": "2022-06-06T16:36:54.591694Z",
     "iopub.status.busy": "2022-06-06T16:36:54.591523Z",
     "iopub.status.idle": "2022-06-06T16:36:54.605551Z",
     "shell.execute_reply": "2022-06-06T16:36:54.604976Z"
    },
    "papermill": {
     "duration": 0.027085,
     "end_time": "2022-06-06T16:36:54.606889",
     "exception": false,
     "start_time": "2022-06-06T16:36:54.579804",
     "status": "completed"
    },
    "tags": []
   },
   "outputs": [
    {
     "data": {
      "text/plain": [
       "['Skin_Not_Sun_Exposed_Suprapubic',\n",
       " 'Cells_EBV-transformed_lymphocytes',\n",
       " 'Brain_Frontal_Cortex_BA9',\n",
       " 'Kidney_Cortex',\n",
       " 'Brain_Substantia_nigra']"
      ]
     },
     "execution_count": 34,
     "metadata": {},
     "output_type": "execute_result"
    }
   ],
   "source": [
    "tissues[:5]"
   ]
  },
  {
   "cell_type": "code",
   "execution_count": 35,
   "id": "48a7202a",
   "metadata": {
    "execution": {
     "iopub.execute_input": "2022-06-06T16:36:54.630731Z",
     "iopub.status.busy": "2022-06-06T16:36:54.630559Z",
     "iopub.status.idle": "2022-06-06T16:36:54.643924Z",
     "shell.execute_reply": "2022-06-06T16:36:54.643421Z"
    },
    "papermill": {
     "duration": 0.026895,
     "end_time": "2022-06-06T16:36:54.645346",
     "exception": false,
     "start_time": "2022-06-06T16:36:54.618451",
     "status": "completed"
    },
    "tags": []
   },
   "outputs": [],
   "source": [
    "assert len(tissues) == 49"
   ]
  },
  {
   "cell_type": "markdown",
   "id": "f4d4f177",
   "metadata": {
    "papermill": {
     "duration": 0.011096,
     "end_time": "2022-06-06T16:36:54.668079",
     "exception": false,
     "start_time": "2022-06-06T16:36:54.656983",
     "status": "completed"
    },
    "tags": []
   },
   "source": [
    "# Average correlations per chromosome"
   ]
  },
  {
   "cell_type": "code",
   "execution_count": 36,
   "id": "e497c5fa",
   "metadata": {
    "execution": {
     "iopub.execute_input": "2022-06-06T16:36:54.695355Z",
     "iopub.status.busy": "2022-06-06T16:36:54.695047Z",
     "iopub.status.idle": "2022-06-06T16:36:58.427004Z",
     "shell.execute_reply": "2022-06-06T16:36:58.426293Z"
    },
    "papermill": {
     "duration": 3.748134,
     "end_time": "2022-06-06T16:36:58.428311",
     "exception": false,
     "start_time": "2022-06-06T16:36:54.680177",
     "status": "completed"
    },
    "tags": []
   },
   "outputs": [
    {
     "name": "stdout",
     "output_type": "stream",
     "text": [
      "Chromosome: 1\n",
      "Number of corrs files: (49, 4)\n",
      "Number of MultiPLIER genes: (700, 3)\n",
      "Reading corrs per tissue\n"
     ]
    },
    {
     "data": {
      "text/plain": [
       "count    244650.000000\n",
       "mean          0.000034\n",
       "std           0.015437\n",
       "min          -0.673517\n",
       "25%          -0.004854\n",
       "50%           0.000000\n",
       "75%           0.004893\n",
       "max           0.670174\n",
       "dtype: float64"
      ]
     },
     "metadata": {},
     "output_type": "display_data"
    },
    {
     "name": "stdout",
     "output_type": "stream",
     "text": [
      "\n",
      "\n",
      "Chromosome: 2\n",
      "Number of corrs files: (49, 4)\n",
      "Number of MultiPLIER genes: (445, 3)\n",
      "Reading corrs per tissue\n"
     ]
    },
    {
     "data": {
      "text/plain": [
       "count    98790.000000\n",
       "mean         0.000007\n",
       "std          0.015578\n",
       "min         -0.585260\n",
       "25%         -0.005002\n",
       "50%          0.000000\n",
       "75%          0.004996\n",
       "max          0.700094\n",
       "dtype: float64"
      ]
     },
     "metadata": {},
     "output_type": "display_data"
    },
    {
     "name": "stdout",
     "output_type": "stream",
     "text": [
      "\n",
      "\n",
      "Chromosome: 3\n",
      "Number of corrs files: (49, 4)\n",
      "Number of MultiPLIER genes: (393, 3)\n",
      "Reading corrs per tissue\n"
     ]
    },
    {
     "data": {
      "text/plain": [
       "count    7.702800e+04\n",
       "mean     3.201752e-05\n",
       "std      1.881534e-02\n",
       "min     -9.172987e-01\n",
       "25%     -5.031872e-03\n",
       "50%      5.399939e-07\n",
       "75%      5.150301e-03\n",
       "max      8.924159e-01\n",
       "dtype: float64"
      ]
     },
     "metadata": {},
     "output_type": "display_data"
    },
    {
     "name": "stdout",
     "output_type": "stream",
     "text": [
      "\n",
      "\n",
      "Chromosome: 4\n",
      "Number of corrs files: (49, 4)\n",
      "Number of MultiPLIER genes: (244, 3)\n",
      "Reading corrs per tissue\n"
     ]
    },
    {
     "data": {
      "text/plain": [
       "count    29646.000000\n",
       "mean         0.000095\n",
       "std          0.015026\n",
       "min         -0.515333\n",
       "25%         -0.004621\n",
       "50%          0.000000\n",
       "75%          0.004686\n",
       "max          0.551310\n",
       "dtype: float64"
      ]
     },
     "metadata": {},
     "output_type": "display_data"
    },
    {
     "name": "stdout",
     "output_type": "stream",
     "text": [
      "\n",
      "\n",
      "Chromosome: 5\n",
      "Number of corrs files: (49, 4)\n",
      "Number of MultiPLIER genes: (306, 3)\n",
      "Reading corrs per tissue\n"
     ]
    },
    {
     "data": {
      "text/plain": [
       "count    46665.000000\n",
       "mean        -0.000036\n",
       "std          0.018446\n",
       "min         -0.627591\n",
       "25%         -0.004848\n",
       "50%          0.000000\n",
       "75%          0.004784\n",
       "max          0.719437\n",
       "dtype: float64"
      ]
     },
     "metadata": {},
     "output_type": "display_data"
    },
    {
     "name": "stdout",
     "output_type": "stream",
     "text": [
      "\n",
      "\n",
      "Chromosome: 6\n",
      "Number of corrs files: (49, 4)\n",
      "Number of MultiPLIER genes: (339, 3)\n",
      "Reading corrs per tissue\n"
     ]
    },
    {
     "data": {
      "text/plain": [
       "count    57291.000000\n",
       "mean         0.000040\n",
       "std          0.018053\n",
       "min         -0.531839\n",
       "25%         -0.005209\n",
       "50%          0.000000\n",
       "75%          0.005142\n",
       "max          0.762143\n",
       "dtype: float64"
      ]
     },
     "metadata": {},
     "output_type": "display_data"
    },
    {
     "name": "stdout",
     "output_type": "stream",
     "text": [
      "\n",
      "\n",
      "Chromosome: 7\n",
      "Number of corrs files: (49, 4)\n",
      "Number of MultiPLIER genes: (281, 3)\n",
      "Reading corrs per tissue\n"
     ]
    },
    {
     "data": {
      "text/plain": [
       "count    39340.000000\n",
       "mean         0.000266\n",
       "std          0.017808\n",
       "min         -0.676991\n",
       "25%         -0.004918\n",
       "50%          0.000055\n",
       "75%          0.005120\n",
       "max          0.780472\n",
       "dtype: float64"
      ]
     },
     "metadata": {},
     "output_type": "display_data"
    },
    {
     "name": "stdout",
     "output_type": "stream",
     "text": [
      "\n",
      "\n",
      "Chromosome: 8\n",
      "Number of corrs files: (49, 4)\n",
      "Number of MultiPLIER genes: (222, 3)\n",
      "Reading corrs per tissue\n"
     ]
    },
    {
     "data": {
      "text/plain": [
       "count    24531.000000\n",
       "mean        -0.000017\n",
       "std          0.014606\n",
       "min         -0.490547\n",
       "25%         -0.004341\n",
       "50%          0.000000\n",
       "75%          0.004402\n",
       "max          0.668010\n",
       "dtype: float64"
      ]
     },
     "metadata": {},
     "output_type": "display_data"
    },
    {
     "name": "stdout",
     "output_type": "stream",
     "text": [
      "\n",
      "\n",
      "Chromosome: 9\n",
      "Number of corrs files: (49, 4)\n",
      "Number of MultiPLIER genes: (245, 3)\n",
      "Reading corrs per tissue\n"
     ]
    },
    {
     "data": {
      "text/plain": [
       "count    2.989000e+04\n",
       "mean    -1.335525e-04\n",
       "std      1.800136e-02\n",
       "min     -8.038805e-01\n",
       "25%     -4.920968e-03\n",
       "50%     -1.964782e-07\n",
       "75%      4.837472e-03\n",
       "max      7.843170e-01\n",
       "dtype: float64"
      ]
     },
     "metadata": {},
     "output_type": "display_data"
    },
    {
     "name": "stdout",
     "output_type": "stream",
     "text": [
      "\n",
      "\n",
      "Chromosome: 10\n",
      "Number of corrs files: (49, 4)\n",
      "Number of MultiPLIER genes: (245, 3)\n",
      "Reading corrs per tissue\n"
     ]
    },
    {
     "data": {
      "text/plain": [
       "count    29890.000000\n",
       "mean         0.000074\n",
       "std          0.016698\n",
       "min         -0.769290\n",
       "25%         -0.005240\n",
       "50%          0.000010\n",
       "75%          0.005418\n",
       "max          0.688043\n",
       "dtype: float64"
      ]
     },
     "metadata": {},
     "output_type": "display_data"
    },
    {
     "name": "stdout",
     "output_type": "stream",
     "text": [
      "\n",
      "\n",
      "Chromosome: 11\n",
      "Number of corrs files: (49, 4)\n",
      "Number of MultiPLIER genes: (387, 3)\n",
      "Reading corrs per tissue\n"
     ]
    },
    {
     "data": {
      "text/plain": [
       "count    74691.000000\n",
       "mean         0.000062\n",
       "std          0.018857\n",
       "min         -0.788202\n",
       "25%         -0.005199\n",
       "50%          0.000000\n",
       "75%          0.005159\n",
       "max          0.602670\n",
       "dtype: float64"
      ]
     },
     "metadata": {},
     "output_type": "display_data"
    },
    {
     "name": "stdout",
     "output_type": "stream",
     "text": [
      "\n",
      "\n",
      "Chromosome: 12\n",
      "Number of corrs files: (49, 4)\n",
      "Number of MultiPLIER genes: (389, 3)\n",
      "Reading corrs per tissue\n"
     ]
    },
    {
     "data": {
      "text/plain": [
       "count    75466.000000\n",
       "mean        -0.000085\n",
       "std          0.018138\n",
       "min         -0.879283\n",
       "25%         -0.004985\n",
       "50%         -0.000024\n",
       "75%          0.004841\n",
       "max          0.727074\n",
       "dtype: float64"
      ]
     },
     "metadata": {},
     "output_type": "display_data"
    },
    {
     "name": "stdout",
     "output_type": "stream",
     "text": [
      "\n",
      "\n",
      "Chromosome: 13\n",
      "Number of corrs files: (49, 4)\n",
      "Number of MultiPLIER genes: (118, 3)\n",
      "Reading corrs per tissue\n"
     ]
    },
    {
     "data": {
      "text/plain": [
       "count    6903.000000\n",
       "mean        0.000122\n",
       "std         0.020758\n",
       "min        -0.454873\n",
       "25%        -0.004169\n",
       "50%         0.000007\n",
       "75%         0.004273\n",
       "max         0.537622\n",
       "dtype: float64"
      ]
     },
     "metadata": {},
     "output_type": "display_data"
    },
    {
     "name": "stdout",
     "output_type": "stream",
     "text": [
      "\n",
      "\n",
      "Chromosome: 14\n",
      "Number of corrs files: (49, 4)\n",
      "Number of MultiPLIER genes: (211, 3)\n",
      "Reading corrs per tissue\n"
     ]
    },
    {
     "data": {
      "text/plain": [
       "count    22155.000000\n",
       "mean         0.000116\n",
       "std          0.018117\n",
       "min         -0.701387\n",
       "25%         -0.004769\n",
       "50%          0.000000\n",
       "75%          0.004868\n",
       "max          0.586796\n",
       "dtype: float64"
      ]
     },
     "metadata": {},
     "output_type": "display_data"
    },
    {
     "name": "stdout",
     "output_type": "stream",
     "text": [
      "\n",
      "\n",
      "Chromosome: 15\n",
      "Number of corrs files: (49, 4)\n",
      "Number of MultiPLIER genes: (187, 3)\n",
      "Reading corrs per tissue\n"
     ]
    },
    {
     "data": {
      "text/plain": [
       "count    17391.000000\n",
       "mean         0.000303\n",
       "std          0.022767\n",
       "min         -0.796859\n",
       "25%         -0.004879\n",
       "50%          0.000000\n",
       "75%          0.005131\n",
       "max          0.533500\n",
       "dtype: float64"
      ]
     },
     "metadata": {},
     "output_type": "display_data"
    },
    {
     "name": "stdout",
     "output_type": "stream",
     "text": [
      "\n",
      "\n",
      "Chromosome: 16\n",
      "Number of corrs files: (49, 4)\n",
      "Number of MultiPLIER genes: (274, 3)\n",
      "Reading corrs per tissue\n"
     ]
    },
    {
     "data": {
      "text/plain": [
       "count    37401.000000\n",
       "mean        -0.000105\n",
       "std          0.025914\n",
       "min         -0.768285\n",
       "25%         -0.005675\n",
       "50%          0.000000\n",
       "75%          0.005658\n",
       "max          0.757558\n",
       "dtype: float64"
      ]
     },
     "metadata": {},
     "output_type": "display_data"
    },
    {
     "name": "stdout",
     "output_type": "stream",
     "text": [
      "\n",
      "\n",
      "Chromosome: 17\n",
      "Number of corrs files: (49, 4)\n",
      "Number of MultiPLIER genes: (411, 3)\n",
      "Reading corrs per tissue\n"
     ]
    },
    {
     "data": {
      "text/plain": [
       "count    84255.000000\n",
       "mean        -0.000076\n",
       "std          0.019002\n",
       "min         -0.763878\n",
       "25%         -0.005523\n",
       "50%          0.000000\n",
       "75%          0.005400\n",
       "max          0.622152\n",
       "dtype: float64"
      ]
     },
     "metadata": {},
     "output_type": "display_data"
    },
    {
     "name": "stdout",
     "output_type": "stream",
     "text": [
      "\n",
      "\n",
      "Chromosome: 18\n",
      "Number of corrs files: (49, 4)\n",
      "Number of MultiPLIER genes: (96, 3)\n",
      "Reading corrs per tissue\n"
     ]
    },
    {
     "data": {
      "text/plain": [
       "count    4560.000000\n",
       "mean        0.000063\n",
       "std         0.014015\n",
       "min        -0.132054\n",
       "25%        -0.005032\n",
       "50%        -0.000020\n",
       "75%         0.005262\n",
       "max         0.305087\n",
       "dtype: float64"
      ]
     },
     "metadata": {},
     "output_type": "display_data"
    },
    {
     "name": "stdout",
     "output_type": "stream",
     "text": [
      "\n",
      "\n",
      "Chromosome: 19\n",
      "Number of corrs files: (49, 4)\n",
      "Number of MultiPLIER genes: (540, 3)\n",
      "Reading corrs per tissue\n"
     ]
    },
    {
     "data": {
      "text/plain": [
       "count    145530.000000\n",
       "mean          0.000030\n",
       "std           0.017873\n",
       "min          -0.660148\n",
       "25%          -0.005648\n",
       "50%           0.000000\n",
       "75%           0.005687\n",
       "max           0.823362\n",
       "dtype: float64"
      ]
     },
     "metadata": {},
     "output_type": "display_data"
    },
    {
     "name": "stdout",
     "output_type": "stream",
     "text": [
      "\n",
      "\n",
      "Chromosome: 20\n",
      "Number of corrs files: (49, 4)\n",
      "Number of MultiPLIER genes: (187, 3)\n",
      "Reading corrs per tissue\n"
     ]
    },
    {
     "data": {
      "text/plain": [
       "count    17391.000000\n",
       "mean         0.000296\n",
       "std          0.020279\n",
       "min         -0.515467\n",
       "25%         -0.005410\n",
       "50%          0.000077\n",
       "75%          0.005527\n",
       "max          0.577627\n",
       "dtype: float64"
      ]
     },
     "metadata": {},
     "output_type": "display_data"
    },
    {
     "name": "stdout",
     "output_type": "stream",
     "text": [
      "\n",
      "\n",
      "Chromosome: 21\n",
      "Number of corrs files: (49, 4)\n",
      "Number of MultiPLIER genes: (62, 3)\n",
      "Reading corrs per tissue\n"
     ]
    },
    {
     "data": {
      "text/plain": [
       "count    1891.000000\n",
       "mean        0.000025\n",
       "std         0.018959\n",
       "min        -0.332855\n",
       "25%        -0.005306\n",
       "50%         0.000165\n",
       "75%         0.005396\n",
       "max         0.192782\n",
       "dtype: float64"
      ]
     },
     "metadata": {},
     "output_type": "display_data"
    },
    {
     "name": "stdout",
     "output_type": "stream",
     "text": [
      "\n",
      "\n",
      "Chromosome: 22\n",
      "Number of corrs files: (49, 4)\n",
      "Number of MultiPLIER genes: (170, 3)\n",
      "Reading corrs per tissue\n"
     ]
    },
    {
     "data": {
      "text/plain": [
       "count    14365.000000\n",
       "mean        -0.000102\n",
       "std          0.023781\n",
       "min         -0.742715\n",
       "25%         -0.005837\n",
       "50%          0.000066\n",
       "75%          0.006074\n",
       "max          0.736601\n",
       "dtype: float64"
      ]
     },
     "metadata": {},
     "output_type": "display_data"
    },
    {
     "name": "stdout",
     "output_type": "stream",
     "text": [
      "\n",
      "\n"
     ]
    }
   ],
   "source": [
    "corrs_per_chr = {}\n",
    "\n",
    "for chr_num in range(1, 23):\n",
    "    print(f\"Chromosome: {chr_num}\", flush=True)\n",
    "\n",
    "    chr_files = all_gene_corr_files_df[all_gene_corr_files_df[\"chromosome\"] == chr_num]\n",
    "    print(f\"Number of corrs files: {chr_files.shape}\")\n",
    "\n",
    "    multiplier_genes_in_chr = genes_info[genes_info[\"chr\"] == str(chr_num)]\n",
    "    print(f\"Number of MultiPLIER genes: {multiplier_genes_in_chr.shape}\")\n",
    "\n",
    "    # create final dataframe with corrs for this chr\n",
    "    chr_df = pd.DataFrame(\n",
    "        data=0.0,\n",
    "        index=multiplier_genes_in_chr[\"id\"],\n",
    "        columns=multiplier_genes_in_chr[\"id\"],\n",
    "    )\n",
    "\n",
    "    print(\"Reading corrs per tissue\", flush=True)\n",
    "    for idx, tissue_corrs in chr_files.iterrows():\n",
    "        tissue_corrs_df = pd.read_pickle(tissue_corrs[\"corr_file\"])\n",
    "\n",
    "        nan_values = tissue_corrs_df.isna()\n",
    "        if nan_values.any().any():\n",
    "            print(\n",
    "                f\"  WARNING ({tissue_corrs['tissue']}): has NaN values ({nan_values.sum().sum()})\"\n",
    "            )\n",
    "            tissue_corrs_df = tissue_corrs_df.fillna(0.0)\n",
    "\n",
    "        # align\n",
    "        tissue_corrs_df = tissue_corrs_df.loc[chr_df.index, chr_df.columns]\n",
    "\n",
    "        chr_df = chr_df + tissue_corrs_df\n",
    "    #         chr_df = chr_df.where(chr_df.abs() > tissue_corrs_df.abs(), tissue_corrs_df).fillna(chr_df)\n",
    "\n",
    "    chr_df = chr_df / float(chr_files.shape[0])\n",
    "    chr_df_flat = pd.Series(squareform(chr_df.values, checks=False))\n",
    "    display(chr_df_flat.describe())\n",
    "\n",
    "    corrs_per_chr[chr_num] = chr_df\n",
    "\n",
    "    print(\"\\n\")"
   ]
  },
  {
   "cell_type": "markdown",
   "id": "b4c29c41",
   "metadata": {
    "papermill": {
     "duration": 0.014034,
     "end_time": "2022-06-06T16:36:58.456969",
     "exception": false,
     "start_time": "2022-06-06T16:36:58.442935",
     "status": "completed"
    },
    "tags": []
   },
   "source": [
    "# Create full gene correlation matrix"
   ]
  },
  {
   "cell_type": "markdown",
   "id": "54d599c0",
   "metadata": {
    "papermill": {
     "duration": 0.013976,
     "end_time": "2022-06-06T16:36:58.485388",
     "exception": false,
     "start_time": "2022-06-06T16:36:58.471412",
     "status": "completed"
    },
    "tags": []
   },
   "source": [
    "This matrix has all genes in MultiPLIER Z"
   ]
  },
  {
   "cell_type": "code",
   "execution_count": 37,
   "id": "85e42d66",
   "metadata": {
    "execution": {
     "iopub.execute_input": "2022-06-06T16:36:58.515197Z",
     "iopub.status.busy": "2022-06-06T16:36:58.514554Z",
     "iopub.status.idle": "2022-06-06T16:36:58.564654Z",
     "shell.execute_reply": "2022-06-06T16:36:58.564108Z"
    },
    "papermill": {
     "duration": 0.066807,
     "end_time": "2022-06-06T16:36:58.566277",
     "exception": false,
     "start_time": "2022-06-06T16:36:58.499470",
     "status": "completed"
    },
    "tags": []
   },
   "outputs": [],
   "source": [
    "gene_corrs_df = pd.DataFrame(data=0.0, index=genes_info[\"id\"], columns=genes_info[\"id\"])"
   ]
  },
  {
   "cell_type": "code",
   "execution_count": 38,
   "id": "c231355e",
   "metadata": {
    "execution": {
     "iopub.execute_input": "2022-06-06T16:36:58.595779Z",
     "iopub.status.busy": "2022-06-06T16:36:58.595575Z",
     "iopub.status.idle": "2022-06-06T16:36:58.609983Z",
     "shell.execute_reply": "2022-06-06T16:36:58.609423Z"
    },
    "papermill": {
     "duration": 0.030612,
     "end_time": "2022-06-06T16:36:58.611323",
     "exception": false,
     "start_time": "2022-06-06T16:36:58.580711",
     "status": "completed"
    },
    "tags": []
   },
   "outputs": [
    {
     "data": {
      "text/plain": [
       "(6452, 6452)"
      ]
     },
     "execution_count": 38,
     "metadata": {},
     "output_type": "execute_result"
    }
   ],
   "source": [
    "gene_corrs_df.shape"
   ]
  },
  {
   "cell_type": "code",
   "execution_count": 39,
   "id": "04f0fe9e",
   "metadata": {
    "execution": {
     "iopub.execute_input": "2022-06-06T16:36:58.642337Z",
     "iopub.status.busy": "2022-06-06T16:36:58.641716Z",
     "iopub.status.idle": "2022-06-06T16:36:58.672441Z",
     "shell.execute_reply": "2022-06-06T16:36:58.671868Z"
    },
    "papermill": {
     "duration": 0.047416,
     "end_time": "2022-06-06T16:36:58.673981",
     "exception": false,
     "start_time": "2022-06-06T16:36:58.626565",
     "status": "completed"
    },
    "tags": []
   },
   "outputs": [
    {
     "data": {
      "text/html": [
       "<div>\n",
       "<style scoped>\n",
       "    .dataframe tbody tr th:only-of-type {\n",
       "        vertical-align: middle;\n",
       "    }\n",
       "\n",
       "    .dataframe tbody tr th {\n",
       "        vertical-align: top;\n",
       "    }\n",
       "\n",
       "    .dataframe thead th {\n",
       "        text-align: right;\n",
       "    }\n",
       "</style>\n",
       "<table border=\"1\" class=\"dataframe\">\n",
       "  <thead>\n",
       "    <tr style=\"text-align: right;\">\n",
       "      <th>id</th>\n",
       "      <th>ENSG00000183087</th>\n",
       "      <th>ENSG00000157227</th>\n",
       "      <th>ENSG00000096696</th>\n",
       "      <th>ENSG00000175130</th>\n",
       "      <th>ENSG00000113140</th>\n",
       "      <th>ENSG00000117984</th>\n",
       "      <th>ENSG00000116016</th>\n",
       "      <th>ENSG00000129116</th>\n",
       "      <th>ENSG00000134686</th>\n",
       "      <th>ENSG00000108679</th>\n",
       "      <th>...</th>\n",
       "      <th>ENSG00000111716</th>\n",
       "      <th>ENSG00000166796</th>\n",
       "      <th>ENSG00000114331</th>\n",
       "      <th>ENSG00000131584</th>\n",
       "      <th>ENSG00000165410</th>\n",
       "      <th>ENSG00000172757</th>\n",
       "      <th>ENSG00000147862</th>\n",
       "      <th>ENSG00000008323</th>\n",
       "      <th>ENSG00000167083</th>\n",
       "      <th>ENSG00000149257</th>\n",
       "    </tr>\n",
       "    <tr>\n",
       "      <th>id</th>\n",
       "      <th></th>\n",
       "      <th></th>\n",
       "      <th></th>\n",
       "      <th></th>\n",
       "      <th></th>\n",
       "      <th></th>\n",
       "      <th></th>\n",
       "      <th></th>\n",
       "      <th></th>\n",
       "      <th></th>\n",
       "      <th></th>\n",
       "      <th></th>\n",
       "      <th></th>\n",
       "      <th></th>\n",
       "      <th></th>\n",
       "      <th></th>\n",
       "      <th></th>\n",
       "      <th></th>\n",
       "      <th></th>\n",
       "      <th></th>\n",
       "      <th></th>\n",
       "    </tr>\n",
       "  </thead>\n",
       "  <tbody>\n",
       "    <tr>\n",
       "      <th>ENSG00000183087</th>\n",
       "      <td>0.0</td>\n",
       "      <td>0.0</td>\n",
       "      <td>0.0</td>\n",
       "      <td>0.0</td>\n",
       "      <td>0.0</td>\n",
       "      <td>0.0</td>\n",
       "      <td>0.0</td>\n",
       "      <td>0.0</td>\n",
       "      <td>0.0</td>\n",
       "      <td>0.0</td>\n",
       "      <td>...</td>\n",
       "      <td>0.0</td>\n",
       "      <td>0.0</td>\n",
       "      <td>0.0</td>\n",
       "      <td>0.0</td>\n",
       "      <td>0.0</td>\n",
       "      <td>0.0</td>\n",
       "      <td>0.0</td>\n",
       "      <td>0.0</td>\n",
       "      <td>0.0</td>\n",
       "      <td>0.0</td>\n",
       "    </tr>\n",
       "    <tr>\n",
       "      <th>ENSG00000157227</th>\n",
       "      <td>0.0</td>\n",
       "      <td>0.0</td>\n",
       "      <td>0.0</td>\n",
       "      <td>0.0</td>\n",
       "      <td>0.0</td>\n",
       "      <td>0.0</td>\n",
       "      <td>0.0</td>\n",
       "      <td>0.0</td>\n",
       "      <td>0.0</td>\n",
       "      <td>0.0</td>\n",
       "      <td>...</td>\n",
       "      <td>0.0</td>\n",
       "      <td>0.0</td>\n",
       "      <td>0.0</td>\n",
       "      <td>0.0</td>\n",
       "      <td>0.0</td>\n",
       "      <td>0.0</td>\n",
       "      <td>0.0</td>\n",
       "      <td>0.0</td>\n",
       "      <td>0.0</td>\n",
       "      <td>0.0</td>\n",
       "    </tr>\n",
       "    <tr>\n",
       "      <th>ENSG00000096696</th>\n",
       "      <td>0.0</td>\n",
       "      <td>0.0</td>\n",
       "      <td>0.0</td>\n",
       "      <td>0.0</td>\n",
       "      <td>0.0</td>\n",
       "      <td>0.0</td>\n",
       "      <td>0.0</td>\n",
       "      <td>0.0</td>\n",
       "      <td>0.0</td>\n",
       "      <td>0.0</td>\n",
       "      <td>...</td>\n",
       "      <td>0.0</td>\n",
       "      <td>0.0</td>\n",
       "      <td>0.0</td>\n",
       "      <td>0.0</td>\n",
       "      <td>0.0</td>\n",
       "      <td>0.0</td>\n",
       "      <td>0.0</td>\n",
       "      <td>0.0</td>\n",
       "      <td>0.0</td>\n",
       "      <td>0.0</td>\n",
       "    </tr>\n",
       "    <tr>\n",
       "      <th>ENSG00000175130</th>\n",
       "      <td>0.0</td>\n",
       "      <td>0.0</td>\n",
       "      <td>0.0</td>\n",
       "      <td>0.0</td>\n",
       "      <td>0.0</td>\n",
       "      <td>0.0</td>\n",
       "      <td>0.0</td>\n",
       "      <td>0.0</td>\n",
       "      <td>0.0</td>\n",
       "      <td>0.0</td>\n",
       "      <td>...</td>\n",
       "      <td>0.0</td>\n",
       "      <td>0.0</td>\n",
       "      <td>0.0</td>\n",
       "      <td>0.0</td>\n",
       "      <td>0.0</td>\n",
       "      <td>0.0</td>\n",
       "      <td>0.0</td>\n",
       "      <td>0.0</td>\n",
       "      <td>0.0</td>\n",
       "      <td>0.0</td>\n",
       "    </tr>\n",
       "    <tr>\n",
       "      <th>ENSG00000113140</th>\n",
       "      <td>0.0</td>\n",
       "      <td>0.0</td>\n",
       "      <td>0.0</td>\n",
       "      <td>0.0</td>\n",
       "      <td>0.0</td>\n",
       "      <td>0.0</td>\n",
       "      <td>0.0</td>\n",
       "      <td>0.0</td>\n",
       "      <td>0.0</td>\n",
       "      <td>0.0</td>\n",
       "      <td>...</td>\n",
       "      <td>0.0</td>\n",
       "      <td>0.0</td>\n",
       "      <td>0.0</td>\n",
       "      <td>0.0</td>\n",
       "      <td>0.0</td>\n",
       "      <td>0.0</td>\n",
       "      <td>0.0</td>\n",
       "      <td>0.0</td>\n",
       "      <td>0.0</td>\n",
       "      <td>0.0</td>\n",
       "    </tr>\n",
       "  </tbody>\n",
       "</table>\n",
       "<p>5 rows × 6452 columns</p>\n",
       "</div>"
      ],
      "text/plain": [
       "id               ENSG00000183087  ENSG00000157227  ENSG00000096696  \\\n",
       "id                                                                   \n",
       "ENSG00000183087              0.0              0.0              0.0   \n",
       "ENSG00000157227              0.0              0.0              0.0   \n",
       "ENSG00000096696              0.0              0.0              0.0   \n",
       "ENSG00000175130              0.0              0.0              0.0   \n",
       "ENSG00000113140              0.0              0.0              0.0   \n",
       "\n",
       "id               ENSG00000175130  ENSG00000113140  ENSG00000117984  \\\n",
       "id                                                                   \n",
       "ENSG00000183087              0.0              0.0              0.0   \n",
       "ENSG00000157227              0.0              0.0              0.0   \n",
       "ENSG00000096696              0.0              0.0              0.0   \n",
       "ENSG00000175130              0.0              0.0              0.0   \n",
       "ENSG00000113140              0.0              0.0              0.0   \n",
       "\n",
       "id               ENSG00000116016  ENSG00000129116  ENSG00000134686  \\\n",
       "id                                                                   \n",
       "ENSG00000183087              0.0              0.0              0.0   \n",
       "ENSG00000157227              0.0              0.0              0.0   \n",
       "ENSG00000096696              0.0              0.0              0.0   \n",
       "ENSG00000175130              0.0              0.0              0.0   \n",
       "ENSG00000113140              0.0              0.0              0.0   \n",
       "\n",
       "id               ENSG00000108679  ...  ENSG00000111716  ENSG00000166796  \\\n",
       "id                                ...                                     \n",
       "ENSG00000183087              0.0  ...              0.0              0.0   \n",
       "ENSG00000157227              0.0  ...              0.0              0.0   \n",
       "ENSG00000096696              0.0  ...              0.0              0.0   \n",
       "ENSG00000175130              0.0  ...              0.0              0.0   \n",
       "ENSG00000113140              0.0  ...              0.0              0.0   \n",
       "\n",
       "id               ENSG00000114331  ENSG00000131584  ENSG00000165410  \\\n",
       "id                                                                   \n",
       "ENSG00000183087              0.0              0.0              0.0   \n",
       "ENSG00000157227              0.0              0.0              0.0   \n",
       "ENSG00000096696              0.0              0.0              0.0   \n",
       "ENSG00000175130              0.0              0.0              0.0   \n",
       "ENSG00000113140              0.0              0.0              0.0   \n",
       "\n",
       "id               ENSG00000172757  ENSG00000147862  ENSG00000008323  \\\n",
       "id                                                                   \n",
       "ENSG00000183087              0.0              0.0              0.0   \n",
       "ENSG00000157227              0.0              0.0              0.0   \n",
       "ENSG00000096696              0.0              0.0              0.0   \n",
       "ENSG00000175130              0.0              0.0              0.0   \n",
       "ENSG00000113140              0.0              0.0              0.0   \n",
       "\n",
       "id               ENSG00000167083  ENSG00000149257  \n",
       "id                                                 \n",
       "ENSG00000183087              0.0              0.0  \n",
       "ENSG00000157227              0.0              0.0  \n",
       "ENSG00000096696              0.0              0.0  \n",
       "ENSG00000175130              0.0              0.0  \n",
       "ENSG00000113140              0.0              0.0  \n",
       "\n",
       "[5 rows x 6452 columns]"
      ]
     },
     "execution_count": 39,
     "metadata": {},
     "output_type": "execute_result"
    }
   ],
   "source": [
    "gene_corrs_df.head()"
   ]
  },
  {
   "cell_type": "code",
   "execution_count": 40,
   "id": "23be89f1",
   "metadata": {
    "execution": {
     "iopub.execute_input": "2022-06-06T16:36:58.704671Z",
     "iopub.status.busy": "2022-06-06T16:36:58.704339Z",
     "iopub.status.idle": "2022-06-06T16:37:06.851528Z",
     "shell.execute_reply": "2022-06-06T16:37:06.850749Z"
    },
    "papermill": {
     "duration": 8.16455,
     "end_time": "2022-06-06T16:37:06.853362",
     "exception": false,
     "start_time": "2022-06-06T16:36:58.688812",
     "status": "completed"
    },
    "tags": []
   },
   "outputs": [],
   "source": [
    "for chr_num, chr_data in corrs_per_chr.items():\n",
    "    chr_data = chr_data.reindex(\n",
    "        index=gene_corrs_df.index, columns=gene_corrs_df.columns\n",
    "    )\n",
    "    gene_corrs_df = gene_corrs_df + chr_data.fillna(0.0)"
   ]
  },
  {
   "cell_type": "code",
   "execution_count": 41,
   "id": "08883f22",
   "metadata": {
    "execution": {
     "iopub.execute_input": "2022-06-06T16:37:06.887523Z",
     "iopub.status.busy": "2022-06-06T16:37:06.887307Z",
     "iopub.status.idle": "2022-06-06T16:37:06.938750Z",
     "shell.execute_reply": "2022-06-06T16:37:06.938091Z"
    },
    "papermill": {
     "duration": 0.069259,
     "end_time": "2022-06-06T16:37:06.940372",
     "exception": false,
     "start_time": "2022-06-06T16:37:06.871113",
     "status": "completed"
    },
    "tags": []
   },
   "outputs": [],
   "source": [
    "gene_corrs_df = gene_corrs_df.astype(np.float32)"
   ]
  },
  {
   "cell_type": "code",
   "execution_count": 42,
   "id": "5d684e7c",
   "metadata": {
    "execution": {
     "iopub.execute_input": "2022-06-06T16:37:06.973544Z",
     "iopub.status.busy": "2022-06-06T16:37:06.973328Z",
     "iopub.status.idle": "2022-06-06T16:37:07.003505Z",
     "shell.execute_reply": "2022-06-06T16:37:07.002843Z"
    },
    "papermill": {
     "duration": 0.048094,
     "end_time": "2022-06-06T16:37:07.005016",
     "exception": false,
     "start_time": "2022-06-06T16:37:06.956922",
     "status": "completed"
    },
    "tags": []
   },
   "outputs": [
    {
     "data": {
      "text/html": [
       "<div>\n",
       "<style scoped>\n",
       "    .dataframe tbody tr th:only-of-type {\n",
       "        vertical-align: middle;\n",
       "    }\n",
       "\n",
       "    .dataframe tbody tr th {\n",
       "        vertical-align: top;\n",
       "    }\n",
       "\n",
       "    .dataframe thead th {\n",
       "        text-align: right;\n",
       "    }\n",
       "</style>\n",
       "<table border=\"1\" class=\"dataframe\">\n",
       "  <thead>\n",
       "    <tr style=\"text-align: right;\">\n",
       "      <th>id</th>\n",
       "      <th>ENSG00000183087</th>\n",
       "      <th>ENSG00000157227</th>\n",
       "      <th>ENSG00000096696</th>\n",
       "      <th>ENSG00000175130</th>\n",
       "      <th>ENSG00000113140</th>\n",
       "      <th>ENSG00000117984</th>\n",
       "      <th>ENSG00000116016</th>\n",
       "      <th>ENSG00000129116</th>\n",
       "      <th>ENSG00000134686</th>\n",
       "      <th>ENSG00000108679</th>\n",
       "      <th>...</th>\n",
       "      <th>ENSG00000111716</th>\n",
       "      <th>ENSG00000166796</th>\n",
       "      <th>ENSG00000114331</th>\n",
       "      <th>ENSG00000131584</th>\n",
       "      <th>ENSG00000165410</th>\n",
       "      <th>ENSG00000172757</th>\n",
       "      <th>ENSG00000147862</th>\n",
       "      <th>ENSG00000008323</th>\n",
       "      <th>ENSG00000167083</th>\n",
       "      <th>ENSG00000149257</th>\n",
       "    </tr>\n",
       "    <tr>\n",
       "      <th>id</th>\n",
       "      <th></th>\n",
       "      <th></th>\n",
       "      <th></th>\n",
       "      <th></th>\n",
       "      <th></th>\n",
       "      <th></th>\n",
       "      <th></th>\n",
       "      <th></th>\n",
       "      <th></th>\n",
       "      <th></th>\n",
       "      <th></th>\n",
       "      <th></th>\n",
       "      <th></th>\n",
       "      <th></th>\n",
       "      <th></th>\n",
       "      <th></th>\n",
       "      <th></th>\n",
       "      <th></th>\n",
       "      <th></th>\n",
       "      <th></th>\n",
       "      <th></th>\n",
       "    </tr>\n",
       "  </thead>\n",
       "  <tbody>\n",
       "    <tr>\n",
       "      <th>ENSG00000183087</th>\n",
       "      <td>1.0</td>\n",
       "      <td>0.0</td>\n",
       "      <td>0.0</td>\n",
       "      <td>0.0</td>\n",
       "      <td>0.0</td>\n",
       "      <td>0.0</td>\n",
       "      <td>0.0</td>\n",
       "      <td>0.0</td>\n",
       "      <td>0.000000</td>\n",
       "      <td>0.0</td>\n",
       "      <td>...</td>\n",
       "      <td>0.0</td>\n",
       "      <td>0.0</td>\n",
       "      <td>0.0</td>\n",
       "      <td>0.000000</td>\n",
       "      <td>0.000000</td>\n",
       "      <td>0.0</td>\n",
       "      <td>0.0</td>\n",
       "      <td>0.0</td>\n",
       "      <td>0.0</td>\n",
       "      <td>0.0</td>\n",
       "    </tr>\n",
       "    <tr>\n",
       "      <th>ENSG00000157227</th>\n",
       "      <td>0.0</td>\n",
       "      <td>1.0</td>\n",
       "      <td>0.0</td>\n",
       "      <td>0.0</td>\n",
       "      <td>0.0</td>\n",
       "      <td>0.0</td>\n",
       "      <td>0.0</td>\n",
       "      <td>0.0</td>\n",
       "      <td>0.000000</td>\n",
       "      <td>0.0</td>\n",
       "      <td>...</td>\n",
       "      <td>0.0</td>\n",
       "      <td>0.0</td>\n",
       "      <td>0.0</td>\n",
       "      <td>0.000000</td>\n",
       "      <td>0.002833</td>\n",
       "      <td>0.0</td>\n",
       "      <td>0.0</td>\n",
       "      <td>0.0</td>\n",
       "      <td>0.0</td>\n",
       "      <td>0.0</td>\n",
       "    </tr>\n",
       "    <tr>\n",
       "      <th>ENSG00000096696</th>\n",
       "      <td>0.0</td>\n",
       "      <td>0.0</td>\n",
       "      <td>1.0</td>\n",
       "      <td>0.0</td>\n",
       "      <td>0.0</td>\n",
       "      <td>0.0</td>\n",
       "      <td>0.0</td>\n",
       "      <td>0.0</td>\n",
       "      <td>0.000000</td>\n",
       "      <td>0.0</td>\n",
       "      <td>...</td>\n",
       "      <td>0.0</td>\n",
       "      <td>0.0</td>\n",
       "      <td>0.0</td>\n",
       "      <td>0.000000</td>\n",
       "      <td>0.000000</td>\n",
       "      <td>0.0</td>\n",
       "      <td>0.0</td>\n",
       "      <td>0.0</td>\n",
       "      <td>0.0</td>\n",
       "      <td>0.0</td>\n",
       "    </tr>\n",
       "    <tr>\n",
       "      <th>ENSG00000175130</th>\n",
       "      <td>0.0</td>\n",
       "      <td>0.0</td>\n",
       "      <td>0.0</td>\n",
       "      <td>1.0</td>\n",
       "      <td>0.0</td>\n",
       "      <td>0.0</td>\n",
       "      <td>0.0</td>\n",
       "      <td>0.0</td>\n",
       "      <td>-0.003401</td>\n",
       "      <td>0.0</td>\n",
       "      <td>...</td>\n",
       "      <td>0.0</td>\n",
       "      <td>0.0</td>\n",
       "      <td>0.0</td>\n",
       "      <td>0.002546</td>\n",
       "      <td>0.000000</td>\n",
       "      <td>0.0</td>\n",
       "      <td>0.0</td>\n",
       "      <td>0.0</td>\n",
       "      <td>0.0</td>\n",
       "      <td>0.0</td>\n",
       "    </tr>\n",
       "    <tr>\n",
       "      <th>ENSG00000113140</th>\n",
       "      <td>0.0</td>\n",
       "      <td>0.0</td>\n",
       "      <td>0.0</td>\n",
       "      <td>0.0</td>\n",
       "      <td>1.0</td>\n",
       "      <td>0.0</td>\n",
       "      <td>0.0</td>\n",
       "      <td>0.0</td>\n",
       "      <td>0.000000</td>\n",
       "      <td>0.0</td>\n",
       "      <td>...</td>\n",
       "      <td>0.0</td>\n",
       "      <td>0.0</td>\n",
       "      <td>0.0</td>\n",
       "      <td>0.000000</td>\n",
       "      <td>0.000000</td>\n",
       "      <td>0.0</td>\n",
       "      <td>0.0</td>\n",
       "      <td>0.0</td>\n",
       "      <td>0.0</td>\n",
       "      <td>0.0</td>\n",
       "    </tr>\n",
       "  </tbody>\n",
       "</table>\n",
       "<p>5 rows × 6452 columns</p>\n",
       "</div>"
      ],
      "text/plain": [
       "id               ENSG00000183087  ENSG00000157227  ENSG00000096696  \\\n",
       "id                                                                   \n",
       "ENSG00000183087              1.0              0.0              0.0   \n",
       "ENSG00000157227              0.0              1.0              0.0   \n",
       "ENSG00000096696              0.0              0.0              1.0   \n",
       "ENSG00000175130              0.0              0.0              0.0   \n",
       "ENSG00000113140              0.0              0.0              0.0   \n",
       "\n",
       "id               ENSG00000175130  ENSG00000113140  ENSG00000117984  \\\n",
       "id                                                                   \n",
       "ENSG00000183087              0.0              0.0              0.0   \n",
       "ENSG00000157227              0.0              0.0              0.0   \n",
       "ENSG00000096696              0.0              0.0              0.0   \n",
       "ENSG00000175130              1.0              0.0              0.0   \n",
       "ENSG00000113140              0.0              1.0              0.0   \n",
       "\n",
       "id               ENSG00000116016  ENSG00000129116  ENSG00000134686  \\\n",
       "id                                                                   \n",
       "ENSG00000183087              0.0              0.0         0.000000   \n",
       "ENSG00000157227              0.0              0.0         0.000000   \n",
       "ENSG00000096696              0.0              0.0         0.000000   \n",
       "ENSG00000175130              0.0              0.0        -0.003401   \n",
       "ENSG00000113140              0.0              0.0         0.000000   \n",
       "\n",
       "id               ENSG00000108679  ...  ENSG00000111716  ENSG00000166796  \\\n",
       "id                                ...                                     \n",
       "ENSG00000183087              0.0  ...              0.0              0.0   \n",
       "ENSG00000157227              0.0  ...              0.0              0.0   \n",
       "ENSG00000096696              0.0  ...              0.0              0.0   \n",
       "ENSG00000175130              0.0  ...              0.0              0.0   \n",
       "ENSG00000113140              0.0  ...              0.0              0.0   \n",
       "\n",
       "id               ENSG00000114331  ENSG00000131584  ENSG00000165410  \\\n",
       "id                                                                   \n",
       "ENSG00000183087              0.0         0.000000         0.000000   \n",
       "ENSG00000157227              0.0         0.000000         0.002833   \n",
       "ENSG00000096696              0.0         0.000000         0.000000   \n",
       "ENSG00000175130              0.0         0.002546         0.000000   \n",
       "ENSG00000113140              0.0         0.000000         0.000000   \n",
       "\n",
       "id               ENSG00000172757  ENSG00000147862  ENSG00000008323  \\\n",
       "id                                                                   \n",
       "ENSG00000183087              0.0              0.0              0.0   \n",
       "ENSG00000157227              0.0              0.0              0.0   \n",
       "ENSG00000096696              0.0              0.0              0.0   \n",
       "ENSG00000175130              0.0              0.0              0.0   \n",
       "ENSG00000113140              0.0              0.0              0.0   \n",
       "\n",
       "id               ENSG00000167083  ENSG00000149257  \n",
       "id                                                 \n",
       "ENSG00000183087              0.0              0.0  \n",
       "ENSG00000157227              0.0              0.0  \n",
       "ENSG00000096696              0.0              0.0  \n",
       "ENSG00000175130              0.0              0.0  \n",
       "ENSG00000113140              0.0              0.0  \n",
       "\n",
       "[5 rows x 6452 columns]"
      ]
     },
     "execution_count": 42,
     "metadata": {},
     "output_type": "execute_result"
    }
   ],
   "source": [
    "gene_corrs_df.head()"
   ]
  },
  {
   "cell_type": "code",
   "execution_count": 43,
   "id": "05106117",
   "metadata": {
    "execution": {
     "iopub.execute_input": "2022-06-06T16:37:07.038314Z",
     "iopub.status.busy": "2022-06-06T16:37:07.037509Z",
     "iopub.status.idle": "2022-06-06T16:37:07.051249Z",
     "shell.execute_reply": "2022-06-06T16:37:07.050658Z"
    },
    "papermill": {
     "duration": 0.031563,
     "end_time": "2022-06-06T16:37:07.052612",
     "exception": false,
     "start_time": "2022-06-06T16:37:07.021049",
     "status": "completed"
    },
    "tags": []
   },
   "outputs": [],
   "source": [
    "assert np.all(gene_corrs_df.values.diagonal() == 1.0)"
   ]
  },
  {
   "cell_type": "markdown",
   "id": "183120b0",
   "metadata": {
    "papermill": {
     "duration": 0.015054,
     "end_time": "2022-06-06T16:37:07.083300",
     "exception": false,
     "start_time": "2022-06-06T16:37:07.068246",
     "status": "completed"
    },
    "tags": []
   },
   "source": [
    "## Stats"
   ]
  },
  {
   "cell_type": "code",
   "execution_count": 44,
   "id": "0e1712c1",
   "metadata": {
    "execution": {
     "iopub.execute_input": "2022-06-06T16:37:07.114429Z",
     "iopub.status.busy": "2022-06-06T16:37:07.114176Z",
     "iopub.status.idle": "2022-06-06T16:37:07.259158Z",
     "shell.execute_reply": "2022-06-06T16:37:07.258534Z"
    },
    "papermill": {
     "duration": 0.162422,
     "end_time": "2022-06-06T16:37:07.260874",
     "exception": false,
     "start_time": "2022-06-06T16:37:07.098452",
     "status": "completed"
    },
    "tags": []
   },
   "outputs": [],
   "source": [
    "_gene_corrs_flat = squareform(gene_corrs_df.values, checks=False)"
   ]
  },
  {
   "cell_type": "code",
   "execution_count": 45,
   "id": "67e7f149",
   "metadata": {
    "execution": {
     "iopub.execute_input": "2022-06-06T16:37:07.296184Z",
     "iopub.status.busy": "2022-06-06T16:37:07.295977Z",
     "iopub.status.idle": "2022-06-06T16:37:07.769352Z",
     "shell.execute_reply": "2022-06-06T16:37:07.768797Z"
    },
    "papermill": {
     "duration": 0.491688,
     "end_time": "2022-06-06T16:37:07.770713",
     "exception": false,
     "start_time": "2022-06-06T16:37:07.279025",
     "status": "completed"
    },
    "tags": []
   },
   "outputs": [
    {
     "data": {
      "text/plain": [
       "count    2.081093e+07\n",
       "mean     1.349729e-06\n",
       "std      4.250836e-03\n",
       "min     -9.172987e-01\n",
       "25%      0.000000e+00\n",
       "50%      0.000000e+00\n",
       "75%      0.000000e+00\n",
       "max      8.924159e-01\n",
       "dtype: float64"
      ]
     },
     "execution_count": 45,
     "metadata": {},
     "output_type": "execute_result"
    }
   ],
   "source": [
    "pd.Series(_gene_corrs_flat).describe()"
   ]
  },
  {
   "cell_type": "markdown",
   "id": "ca0ec949",
   "metadata": {
    "papermill": {
     "duration": 0.01507,
     "end_time": "2022-06-06T16:37:07.801201",
     "exception": false,
     "start_time": "2022-06-06T16:37:07.786131",
     "status": "completed"
    },
    "tags": []
   },
   "source": [
    "# Plot"
   ]
  },
  {
   "cell_type": "code",
   "execution_count": 46,
   "id": "3f915f50",
   "metadata": {
    "execution": {
     "iopub.execute_input": "2022-06-06T16:37:07.832443Z",
     "iopub.status.busy": "2022-06-06T16:37:07.832227Z",
     "iopub.status.idle": "2022-06-06T16:37:08.040268Z",
     "shell.execute_reply": "2022-06-06T16:37:08.039566Z"
    },
    "papermill": {
     "duration": 0.225701,
     "end_time": "2022-06-06T16:37:08.041942",
     "exception": false,
     "start_time": "2022-06-06T16:37:07.816241",
     "status": "completed"
    },
    "tags": []
   },
   "outputs": [],
   "source": [
    "import matplotlib.pyplot as plt\n",
    "from matplotlib.colors import ListedColormap"
   ]
  },
  {
   "cell_type": "code",
   "execution_count": 47,
   "id": "ba72ef73",
   "metadata": {
    "execution": {
     "iopub.execute_input": "2022-06-06T16:37:08.073919Z",
     "iopub.status.busy": "2022-06-06T16:37:08.073699Z",
     "iopub.status.idle": "2022-06-06T16:37:08.091652Z",
     "shell.execute_reply": "2022-06-06T16:37:08.091134Z"
    },
    "papermill": {
     "duration": 0.035624,
     "end_time": "2022-06-06T16:37:08.093193",
     "exception": false,
     "start_time": "2022-06-06T16:37:08.057569",
     "status": "completed"
    },
    "tags": []
   },
   "outputs": [],
   "source": [
    "genes_order = genes_info.sort_values(\"chr\")[\"id\"].tolist()"
   ]
  },
  {
   "cell_type": "code",
   "execution_count": 48,
   "id": "eaf12e9e",
   "metadata": {
    "execution": {
     "iopub.execute_input": "2022-06-06T16:37:08.124844Z",
     "iopub.status.busy": "2022-06-06T16:37:08.124626Z",
     "iopub.status.idle": "2022-06-06T16:37:08.138906Z",
     "shell.execute_reply": "2022-06-06T16:37:08.138399Z"
    },
    "papermill": {
     "duration": 0.031656,
     "end_time": "2022-06-06T16:37:08.140388",
     "exception": false,
     "start_time": "2022-06-06T16:37:08.108732",
     "status": "completed"
    },
    "tags": []
   },
   "outputs": [],
   "source": [
    "cmap = ListedColormap([\"w\", \"r\"])"
   ]
  },
  {
   "cell_type": "code",
   "execution_count": 49,
   "id": "ffdeef1f",
   "metadata": {
    "execution": {
     "iopub.execute_input": "2022-06-06T16:37:08.172436Z",
     "iopub.status.busy": "2022-06-06T16:37:08.172218Z",
     "iopub.status.idle": "2022-06-06T16:37:09.157541Z",
     "shell.execute_reply": "2022-06-06T16:37:09.156939Z"
    },
    "papermill": {
     "duration": 1.00296,
     "end_time": "2022-06-06T16:37:09.159018",
     "exception": false,
     "start_time": "2022-06-06T16:37:08.156058",
     "status": "completed"
    },
    "tags": []
   },
   "outputs": [
    {
     "data": {
      "text/plain": [
       "[]"
      ]
     },
     "execution_count": 49,
     "metadata": {},
     "output_type": "execute_result"
    },
    {
     "data": {
      "image/png": "[encoded data removed]",
      "text/plain": [
       "<Figure size 720x720 with 1 Axes>"
      ]
     },
     "metadata": {},
     "output_type": "display_data"
    }
   ],
   "source": [
    "fig, ax = plt.subplots(figsize=(10, 10))\n",
    "ax.matshow(\n",
    "    gene_corrs_df.loc[genes_order, genes_order].values, vmin=-0.05, vmax=0.05, cmap=cmap\n",
    ")\n",
    "ax.set_xlabel(\"Genes\")\n",
    "ax.set_ylabel(\"Genes\")\n",
    "ax.set_xticks([])\n",
    "ax.set_yticks([])"
   ]
  },
  {
   "cell_type": "markdown",
   "id": "c13be5c3",
   "metadata": {
    "papermill": {
     "duration": 0.015761,
     "end_time": "2022-06-06T16:37:09.190758",
     "exception": false,
     "start_time": "2022-06-06T16:37:09.174997",
     "status": "completed"
    },
    "tags": []
   },
   "source": [
    "# Testing"
   ]
  },
  {
   "cell_type": "code",
   "execution_count": 50,
   "id": "50e94dc6",
   "metadata": {
    "execution": {
     "iopub.execute_input": "2022-06-06T16:37:09.223479Z",
     "iopub.status.busy": "2022-06-06T16:37:09.223254Z",
     "iopub.status.idle": "2022-06-06T16:37:09.239378Z",
     "shell.execute_reply": "2022-06-06T16:37:09.238653Z"
    },
    "papermill": {
     "duration": 0.034144,
     "end_time": "2022-06-06T16:37:09.240996",
     "exception": false,
     "start_time": "2022-06-06T16:37:09.206852",
     "status": "completed"
    },
    "tags": []
   },
   "outputs": [
    {
     "data": {
      "text/plain": [
       "0.20567855"
      ]
     },
     "execution_count": 50,
     "metadata": {},
     "output_type": "execute_result"
    }
   ],
   "source": [
    "# COL4A1 and COL4A2\n",
    "gene1 = \"ENSG00000187498\"\n",
    "gene2 = \"ENSG00000134871\"\n",
    "\n",
    "gene_corrs_df.loc[gene1, gene2]"
   ]
  },
  {
   "cell_type": "code",
   "execution_count": 51,
   "id": "3f7a77e8",
   "metadata": {
    "execution": {
     "iopub.execute_input": "2022-06-06T16:37:09.277767Z",
     "iopub.status.busy": "2022-06-06T16:37:09.277557Z",
     "iopub.status.idle": "2022-06-06T16:37:09.293467Z",
     "shell.execute_reply": "2022-06-06T16:37:09.292898Z"
    },
    "papermill": {
     "duration": 0.035458,
     "end_time": "2022-06-06T16:37:09.295008",
     "exception": false,
     "start_time": "2022-06-06T16:37:09.259550",
     "status": "completed"
    },
    "tags": []
   },
   "outputs": [],
   "source": [
    "_genes_files = all_gene_corr_files_df[all_gene_corr_files_df[\"chromosome\"] == 13][\n",
    "    \"corr_file\"\n",
    "].tolist()\n",
    "assert len(_genes_files) == 49"
   ]
  },
  {
   "cell_type": "code",
   "execution_count": 52,
   "id": "d78aa703",
   "metadata": {
    "execution": {
     "iopub.execute_input": "2022-06-06T16:37:09.328849Z",
     "iopub.status.busy": "2022-06-06T16:37:09.328630Z",
     "iopub.status.idle": "2022-06-06T16:37:09.374377Z",
     "shell.execute_reply": "2022-06-06T16:37:09.373784Z"
    },
    "papermill": {
     "duration": 0.064324,
     "end_time": "2022-06-06T16:37:09.375955",
     "exception": false,
     "start_time": "2022-06-06T16:37:09.311631",
     "status": "completed"
    },
    "tags": []
   },
   "outputs": [],
   "source": [
    "_gene_values = []\n",
    "for f in _genes_files:\n",
    "    gene1_gene2_corr = pd.read_pickle(f).loc[gene1, gene2]\n",
    "    _gene_values.append(gene1_gene2_corr)"
   ]
  },
  {
   "cell_type": "code",
   "execution_count": 53,
   "id": "e0109cc5",
   "metadata": {
    "execution": {
     "iopub.execute_input": "2022-06-06T16:37:09.408734Z",
     "iopub.status.busy": "2022-06-06T16:37:09.408516Z",
     "iopub.status.idle": "2022-06-06T16:37:09.423382Z",
     "shell.execute_reply": "2022-06-06T16:37:09.422788Z"
    },
    "papermill": {
     "duration": 0.032722,
     "end_time": "2022-06-06T16:37:09.424745",
     "exception": false,
     "start_time": "2022-06-06T16:37:09.392023",
     "status": "completed"
    },
    "tags": []
   },
   "outputs": [],
   "source": [
    "_gene_values = np.array(_gene_values)\n",
    "assert _gene_values.shape[0] == 49"
   ]
  },
  {
   "cell_type": "code",
   "execution_count": 54,
   "id": "ce8e26f5",
   "metadata": {
    "execution": {
     "iopub.execute_input": "2022-06-06T16:37:09.459047Z",
     "iopub.status.busy": "2022-06-06T16:37:09.458827Z",
     "iopub.status.idle": "2022-06-06T16:37:09.479518Z",
     "shell.execute_reply": "2022-06-06T16:37:09.478845Z"
    },
    "papermill": {
     "duration": 0.039204,
     "end_time": "2022-06-06T16:37:09.480895",
     "exception": false,
     "start_time": "2022-06-06T16:37:09.441691",
     "status": "completed"
    },
    "tags": []
   },
   "outputs": [
    {
     "data": {
      "text/plain": [
       "0.20567855"
      ]
     },
     "metadata": {},
     "output_type": "display_data"
    },
    {
     "data": {
      "text/plain": [
       "count    49.000000\n",
       "mean      0.205679\n",
       "std       0.376234\n",
       "min      -0.018678\n",
       "25%       0.000000\n",
       "50%       0.000000\n",
       "75%       0.090196\n",
       "max       0.968930\n",
       "dtype: float64"
      ]
     },
     "metadata": {},
     "output_type": "display_data"
    }
   ],
   "source": [
    "display(_gene_values.mean())\n",
    "display(pd.Series(_gene_values).describe())\n",
    "assert gene_corrs_df.loc[gene1, gene2].round(5) == _gene_values.mean().round(\n",
    "    5\n",
    "), gene_corrs_df.loc[gene1, gene2]"
   ]
  },
  {
   "cell_type": "markdown",
   "id": "e34db3c2",
   "metadata": {
    "papermill": {
     "duration": 0.016415,
     "end_time": "2022-06-06T16:37:09.514274",
     "exception": false,
     "start_time": "2022-06-06T16:37:09.497859",
     "status": "completed"
    },
    "tags": []
   },
   "source": [
    "# Save"
   ]
  },
  {
   "cell_type": "markdown",
   "id": "510183a9",
   "metadata": {
    "papermill": {
     "duration": 0.015878,
     "end_time": "2022-06-06T16:37:09.545931",
     "exception": false,
     "start_time": "2022-06-06T16:37:09.530053",
     "status": "completed"
    },
    "tags": []
   },
   "source": [
    "## With ensemble ids"
   ]
  },
  {
   "cell_type": "code",
   "execution_count": 55,
   "id": "751cdc8c-1cce-4dee-8524-89b4b9a27feb",
   "metadata": {
    "execution": {
     "iopub.execute_input": "2022-06-06T16:37:09.578839Z",
     "iopub.status.busy": "2022-06-06T16:37:09.578616Z",
     "iopub.status.idle": "2022-06-06T16:37:09.594660Z",
     "shell.execute_reply": "2022-06-06T16:37:09.594014Z"
    },
    "papermill": {
     "duration": 0.034362,
     "end_time": "2022-06-06T16:37:09.596097",
     "exception": false,
     "start_time": "2022-06-06T16:37:09.561735",
     "status": "completed"
    },
    "tags": []
   },
   "outputs": [
    {
     "data": {
      "text/plain": [
       "PosixPath('/opt/data/data/phenomexcan/ld_blocks/gene_corrs/gtex_v8/mashr/multiplier_genes-pred_expression_corr_avggene_ensembl_ids.pkl')"
      ]
     },
     "metadata": {},
     "output_type": "display_data"
    }
   ],
   "source": [
    "output_file_name_template = conf.PHENOMEXCAN[\"LD_BLOCKS\"][\n",
    "    \"GENE_CORRS_FILE_NAME_TEMPLATES\"\n",
    "][\"GENE_CORR_AVG\"]\n",
    "\n",
    "output_file = OUTPUT_DIR_BASE / output_file_name_template.format(\n",
    "    prefix=\"\",\n",
    "    suffix=\"gene_ensembl_ids\",\n",
    ")\n",
    "display(output_file)"
   ]
  },
  {
   "cell_type": "code",
   "execution_count": 56,
   "id": "d841e2a0",
   "metadata": {
    "execution": {
     "iopub.execute_input": "2022-06-06T16:37:09.630144Z",
     "iopub.status.busy": "2022-06-06T16:37:09.629927Z",
     "iopub.status.idle": "2022-06-06T16:37:09.805012Z",
     "shell.execute_reply": "2022-06-06T16:37:09.804408Z"
    },
    "papermill": {
     "duration": 0.193514,
     "end_time": "2022-06-06T16:37:09.806768",
     "exception": false,
     "start_time": "2022-06-06T16:37:09.613254",
     "status": "completed"
    },
    "tags": []
   },
   "outputs": [],
   "source": [
    "gene_corrs_df.to_pickle(output_file)"
   ]
  },
  {
   "cell_type": "markdown",
   "id": "7f9816a6",
   "metadata": {
    "papermill": {
     "duration": 0.017558,
     "end_time": "2022-06-06T16:37:09.843129",
     "exception": false,
     "start_time": "2022-06-06T16:37:09.825571",
     "status": "completed"
    },
    "tags": []
   },
   "source": [
    "## With gene symbols"
   ]
  },
  {
   "cell_type": "code",
   "execution_count": 57,
   "id": "2f174f95-2be3-4b63-95fb-451413ad361d",
   "metadata": {
    "execution": {
     "iopub.execute_input": "2022-06-06T16:37:09.876798Z",
     "iopub.status.busy": "2022-06-06T16:37:09.876581Z",
     "iopub.status.idle": "2022-06-06T16:37:09.893638Z",
     "shell.execute_reply": "2022-06-06T16:37:09.893086Z"
    },
    "papermill": {
     "duration": 0.035902,
     "end_time": "2022-06-06T16:37:09.895030",
     "exception": false,
     "start_time": "2022-06-06T16:37:09.859128",
     "status": "completed"
    },
    "tags": []
   },
   "outputs": [
    {
     "data": {
      "text/plain": [
       "PosixPath('/opt/data/data/phenomexcan/ld_blocks/gene_corrs/gtex_v8/mashr/multiplier_genes-pred_expression_corr_avggene_symbols.pkl')"
      ]
     },
     "metadata": {},
     "output_type": "display_data"
    }
   ],
   "source": [
    "output_file_name_template = conf.PHENOMEXCAN[\"LD_BLOCKS\"][\n",
    "    \"GENE_CORRS_FILE_NAME_TEMPLATES\"\n",
    "][\"GENE_CORR_AVG\"]\n",
    "\n",
    "output_file = OUTPUT_DIR_BASE / output_file_name_template.format(\n",
    "    prefix=\"\",\n",
    "    suffix=\"gene_symbols\",\n",
    ")\n",
    "display(output_file)"
   ]
  },
  {
   "cell_type": "code",
   "execution_count": 58,
   "id": "1436a25d",
   "metadata": {
    "execution": {
     "iopub.execute_input": "2022-06-06T16:37:09.928643Z",
     "iopub.status.busy": "2022-06-06T16:37:09.928409Z",
     "iopub.status.idle": "2022-06-06T16:37:09.984642Z",
     "shell.execute_reply": "2022-06-06T16:37:09.984091Z"
    },
    "papermill": {
     "duration": 0.074801,
     "end_time": "2022-06-06T16:37:09.986245",
     "exception": false,
     "start_time": "2022-06-06T16:37:09.911444",
     "status": "completed"
    },
    "tags": []
   },
   "outputs": [],
   "source": [
    "gene_corrs_gene_names_df = gene_corrs_df.rename(\n",
    "    index=Gene.GENE_ID_TO_NAME_MAP, columns=Gene.GENE_ID_TO_NAME_MAP\n",
    ")"
   ]
  },
  {
   "cell_type": "code",
   "execution_count": 59,
   "id": "b2014f92",
   "metadata": {
    "execution": {
     "iopub.execute_input": "2022-06-06T16:37:10.021055Z",
     "iopub.status.busy": "2022-06-06T16:37:10.020833Z",
     "iopub.status.idle": "2022-06-06T16:37:10.036325Z",
     "shell.execute_reply": "2022-06-06T16:37:10.035788Z"
    },
    "papermill": {
     "duration": 0.034287,
     "end_time": "2022-06-06T16:37:10.037876",
     "exception": false,
     "start_time": "2022-06-06T16:37:10.003589",
     "status": "completed"
    },
    "tags": []
   },
   "outputs": [],
   "source": [
    "assert gene_corrs_gene_names_df.index.is_unique"
   ]
  },
  {
   "cell_type": "code",
   "execution_count": 60,
   "id": "1ced30b0",
   "metadata": {
    "execution": {
     "iopub.execute_input": "2022-06-06T16:37:10.072959Z",
     "iopub.status.busy": "2022-06-06T16:37:10.072741Z",
     "iopub.status.idle": "2022-06-06T16:37:10.088411Z",
     "shell.execute_reply": "2022-06-06T16:37:10.087892Z"
    },
    "papermill": {
     "duration": 0.034507,
     "end_time": "2022-06-06T16:37:10.089841",
     "exception": false,
     "start_time": "2022-06-06T16:37:10.055334",
     "status": "completed"
    },
    "tags": []
   },
   "outputs": [],
   "source": [
    "assert gene_corrs_gene_names_df.columns.is_unique"
   ]
  },
  {
   "cell_type": "code",
   "execution_count": 61,
   "id": "d9e18eab",
   "metadata": {
    "execution": {
     "iopub.execute_input": "2022-06-06T16:37:10.124393Z",
     "iopub.status.busy": "2022-06-06T16:37:10.124178Z",
     "iopub.status.idle": "2022-06-06T16:37:10.139984Z",
     "shell.execute_reply": "2022-06-06T16:37:10.139458Z"
    },
    "papermill": {
     "duration": 0.034191,
     "end_time": "2022-06-06T16:37:10.141281",
     "exception": false,
     "start_time": "2022-06-06T16:37:10.107090",
     "status": "completed"
    },
    "tags": []
   },
   "outputs": [
    {
     "data": {
      "text/plain": [
       "(6452, 6452)"
      ]
     },
     "execution_count": 61,
     "metadata": {},
     "output_type": "execute_result"
    }
   ],
   "source": [
    "gene_corrs_gene_names_df.shape"
   ]
  },
  {
   "cell_type": "code",
   "execution_count": 62,
   "id": "44e83e62",
   "metadata": {
    "execution": {
     "iopub.execute_input": "2022-06-06T16:37:10.175229Z",
     "iopub.status.busy": "2022-06-06T16:37:10.175010Z",
     "iopub.status.idle": "2022-06-06T16:37:10.205148Z",
     "shell.execute_reply": "2022-06-06T16:37:10.204309Z"
    },
    "papermill": {
     "duration": 0.048717,
     "end_time": "2022-06-06T16:37:10.206573",
     "exception": false,
     "start_time": "2022-06-06T16:37:10.157856",
     "status": "completed"
    },
    "tags": []
   },
   "outputs": [
    {
     "data": {
      "text/html": [
       "<div>\n",
       "<style scoped>\n",
       "    .dataframe tbody tr th:only-of-type {\n",
       "        vertical-align: middle;\n",
       "    }\n",
       "\n",
       "    .dataframe tbody tr th {\n",
       "        vertical-align: top;\n",
       "    }\n",
       "\n",
       "    .dataframe thead th {\n",
       "        text-align: right;\n",
       "    }\n",
       "</style>\n",
       "<table border=\"1\" class=\"dataframe\">\n",
       "  <thead>\n",
       "    <tr style=\"text-align: right;\">\n",
       "      <th>id</th>\n",
       "      <th>GAS6</th>\n",
       "      <th>MMP14</th>\n",
       "      <th>DSP</th>\n",
       "      <th>MARCKSL1</th>\n",
       "      <th>SPARC</th>\n",
       "      <th>CTSD</th>\n",
       "      <th>EPAS1</th>\n",
       "      <th>PALLD</th>\n",
       "      <th>PHC2</th>\n",
       "      <th>LGALS3BP</th>\n",
       "      <th>...</th>\n",
       "      <th>LDHB</th>\n",
       "      <th>LDHC</th>\n",
       "      <th>ACAP2</th>\n",
       "      <th>ACAP3</th>\n",
       "      <th>CFL2</th>\n",
       "      <th>CFL1</th>\n",
       "      <th>NFIB</th>\n",
       "      <th>PLEKHG6</th>\n",
       "      <th>GNGT2</th>\n",
       "      <th>SERPINH1</th>\n",
       "    </tr>\n",
       "    <tr>\n",
       "      <th>id</th>\n",
       "      <th></th>\n",
       "      <th></th>\n",
       "      <th></th>\n",
       "      <th></th>\n",
       "      <th></th>\n",
       "      <th></th>\n",
       "      <th></th>\n",
       "      <th></th>\n",
       "      <th></th>\n",
       "      <th></th>\n",
       "      <th></th>\n",
       "      <th></th>\n",
       "      <th></th>\n",
       "      <th></th>\n",
       "      <th></th>\n",
       "      <th></th>\n",
       "      <th></th>\n",
       "      <th></th>\n",
       "      <th></th>\n",
       "      <th></th>\n",
       "      <th></th>\n",
       "    </tr>\n",
       "  </thead>\n",
       "  <tbody>\n",
       "    <tr>\n",
       "      <th>GAS6</th>\n",
       "      <td>1.0</td>\n",
       "      <td>0.0</td>\n",
       "      <td>0.0</td>\n",
       "      <td>0.0</td>\n",
       "      <td>0.0</td>\n",
       "      <td>0.0</td>\n",
       "      <td>0.0</td>\n",
       "      <td>0.0</td>\n",
       "      <td>0.000000</td>\n",
       "      <td>0.0</td>\n",
       "      <td>...</td>\n",
       "      <td>0.0</td>\n",
       "      <td>0.0</td>\n",
       "      <td>0.0</td>\n",
       "      <td>0.000000</td>\n",
       "      <td>0.000000</td>\n",
       "      <td>0.0</td>\n",
       "      <td>0.0</td>\n",
       "      <td>0.0</td>\n",
       "      <td>0.0</td>\n",
       "      <td>0.0</td>\n",
       "    </tr>\n",
       "    <tr>\n",
       "      <th>MMP14</th>\n",
       "      <td>0.0</td>\n",
       "      <td>1.0</td>\n",
       "      <td>0.0</td>\n",
       "      <td>0.0</td>\n",
       "      <td>0.0</td>\n",
       "      <td>0.0</td>\n",
       "      <td>0.0</td>\n",
       "      <td>0.0</td>\n",
       "      <td>0.000000</td>\n",
       "      <td>0.0</td>\n",
       "      <td>...</td>\n",
       "      <td>0.0</td>\n",
       "      <td>0.0</td>\n",
       "      <td>0.0</td>\n",
       "      <td>0.000000</td>\n",
       "      <td>0.002833</td>\n",
       "      <td>0.0</td>\n",
       "      <td>0.0</td>\n",
       "      <td>0.0</td>\n",
       "      <td>0.0</td>\n",
       "      <td>0.0</td>\n",
       "    </tr>\n",
       "    <tr>\n",
       "      <th>DSP</th>\n",
       "      <td>0.0</td>\n",
       "      <td>0.0</td>\n",
       "      <td>1.0</td>\n",
       "      <td>0.0</td>\n",
       "      <td>0.0</td>\n",
       "      <td>0.0</td>\n",
       "      <td>0.0</td>\n",
       "      <td>0.0</td>\n",
       "      <td>0.000000</td>\n",
       "      <td>0.0</td>\n",
       "      <td>...</td>\n",
       "      <td>0.0</td>\n",
       "      <td>0.0</td>\n",
       "      <td>0.0</td>\n",
       "      <td>0.000000</td>\n",
       "      <td>0.000000</td>\n",
       "      <td>0.0</td>\n",
       "      <td>0.0</td>\n",
       "      <td>0.0</td>\n",
       "      <td>0.0</td>\n",
       "      <td>0.0</td>\n",
       "    </tr>\n",
       "    <tr>\n",
       "      <th>MARCKSL1</th>\n",
       "      <td>0.0</td>\n",
       "      <td>0.0</td>\n",
       "      <td>0.0</td>\n",
       "      <td>1.0</td>\n",
       "      <td>0.0</td>\n",
       "      <td>0.0</td>\n",
       "      <td>0.0</td>\n",
       "      <td>0.0</td>\n",
       "      <td>-0.003401</td>\n",
       "      <td>0.0</td>\n",
       "      <td>...</td>\n",
       "      <td>0.0</td>\n",
       "      <td>0.0</td>\n",
       "      <td>0.0</td>\n",
       "      <td>0.002546</td>\n",
       "      <td>0.000000</td>\n",
       "      <td>0.0</td>\n",
       "      <td>0.0</td>\n",
       "      <td>0.0</td>\n",
       "      <td>0.0</td>\n",
       "      <td>0.0</td>\n",
       "    </tr>\n",
       "    <tr>\n",
       "      <th>SPARC</th>\n",
       "      <td>0.0</td>\n",
       "      <td>0.0</td>\n",
       "      <td>0.0</td>\n",
       "      <td>0.0</td>\n",
       "      <td>1.0</td>\n",
       "      <td>0.0</td>\n",
       "      <td>0.0</td>\n",
       "      <td>0.0</td>\n",
       "      <td>0.000000</td>\n",
       "      <td>0.0</td>\n",
       "      <td>...</td>\n",
       "      <td>0.0</td>\n",
       "      <td>0.0</td>\n",
       "      <td>0.0</td>\n",
       "      <td>0.000000</td>\n",
       "      <td>0.000000</td>\n",
       "      <td>0.0</td>\n",
       "      <td>0.0</td>\n",
       "      <td>0.0</td>\n",
       "      <td>0.0</td>\n",
       "      <td>0.0</td>\n",
       "    </tr>\n",
       "  </tbody>\n",
       "</table>\n",
       "<p>5 rows × 6452 columns</p>\n",
       "</div>"
      ],
      "text/plain": [
       "id        GAS6  MMP14  DSP  MARCKSL1  SPARC  CTSD  EPAS1  PALLD      PHC2  \\\n",
       "id                                                                          \n",
       "GAS6       1.0    0.0  0.0       0.0    0.0   0.0    0.0    0.0  0.000000   \n",
       "MMP14      0.0    1.0  0.0       0.0    0.0   0.0    0.0    0.0  0.000000   \n",
       "DSP        0.0    0.0  1.0       0.0    0.0   0.0    0.0    0.0  0.000000   \n",
       "MARCKSL1   0.0    0.0  0.0       1.0    0.0   0.0    0.0    0.0 -0.003401   \n",
       "SPARC      0.0    0.0  0.0       0.0    1.0   0.0    0.0    0.0  0.000000   \n",
       "\n",
       "id        LGALS3BP  ...  LDHB  LDHC  ACAP2     ACAP3      CFL2  CFL1  NFIB  \\\n",
       "id                  ...                                                      \n",
       "GAS6           0.0  ...   0.0   0.0    0.0  0.000000  0.000000   0.0   0.0   \n",
       "MMP14          0.0  ...   0.0   0.0    0.0  0.000000  0.002833   0.0   0.0   \n",
       "DSP            0.0  ...   0.0   0.0    0.0  0.000000  0.000000   0.0   0.0   \n",
       "MARCKSL1       0.0  ...   0.0   0.0    0.0  0.002546  0.000000   0.0   0.0   \n",
       "SPARC          0.0  ...   0.0   0.0    0.0  0.000000  0.000000   0.0   0.0   \n",
       "\n",
       "id        PLEKHG6  GNGT2  SERPINH1  \n",
       "id                                  \n",
       "GAS6          0.0    0.0       0.0  \n",
       "MMP14         0.0    0.0       0.0  \n",
       "DSP           0.0    0.0       0.0  \n",
       "MARCKSL1      0.0    0.0       0.0  \n",
       "SPARC         0.0    0.0       0.0  \n",
       "\n",
       "[5 rows x 6452 columns]"
      ]
     },
     "execution_count": 62,
     "metadata": {},
     "output_type": "execute_result"
    }
   ],
   "source": [
    "gene_corrs_gene_names_df.head()"
   ]
  },
  {
   "cell_type": "code",
   "execution_count": 63,
   "id": "04ec6c52",
   "metadata": {
    "execution": {
     "iopub.execute_input": "2022-06-06T16:37:10.242656Z",
     "iopub.status.busy": "2022-06-06T16:37:10.242380Z",
     "iopub.status.idle": "2022-06-06T16:37:10.423495Z",
     "shell.execute_reply": "2022-06-06T16:37:10.422803Z"
    },
    "papermill": {
     "duration": 0.200933,
     "end_time": "2022-06-06T16:37:10.425292",
     "exception": false,
     "start_time": "2022-06-06T16:37:10.224359",
     "status": "completed"
    },
    "tags": []
   },
   "outputs": [],
   "source": [
    "gene_corrs_gene_names_df.to_pickle(output_file)"
   ]
  },
  {
   "cell_type": "code",
   "execution_count": null,
   "id": "38cf09b7",
   "metadata": {
    "papermill": {
     "duration": 0.017725,
     "end_time": "2022-06-06T16:37:10.462809",
     "exception": false,
     "start_time": "2022-06-06T16:37:10.445084",
     "status": "completed"
    },
    "tags": []
   },
   "outputs": [],
   "source": []
  }
 ],
 "metadata": {
  "jupytext": {
   "cell_metadata_filter": "all,-execution,-papermill,-trusted",
   "formats": "ipynb,py//py:percent"
  },
  "kernelspec": {
   "display_name": "Python 3 (ipykernel)",
   "language": "python",
   "name": "python3"
  },
  "language_info": {
   "codemirror_mode": {
    "name": "ipython",
    "version": 3
   },
   "file_extension": ".py",
   "mimetype": "text/x-python",
   "name": "python",
   "nbconvert_exporter": "python",
   "pygments_lexer": "ipython3",
   "version": "3.8.13"
  },
  "papermill": {
   "default_parameters": {},
   "duration": 20.185076,
   "end_time": "2022-06-06T16:37:10.799128",
   "environment_variables": {},
   "exception": null,
   "input_path": "nbs/15_gsa_gls/15-preprocess_gene_expr_correlations.ipynb",
   "output_path": "nbs/15_gsa_gls/gene_corrs/gtex_v8/mashr/15-preprocess_gene_expr_correlations.ipynb",
   "parameters": {
    "EQTL_MODEL": "MASHR",
    "REFERENCE_PANEL": "GTEX_V8"
   },
   "start_time": "2022-06-06T16:36:50.614052",
   "version": "2.2.2"
  }
 },
 "nbformat": 4,
 "nbformat_minor": 5
}
