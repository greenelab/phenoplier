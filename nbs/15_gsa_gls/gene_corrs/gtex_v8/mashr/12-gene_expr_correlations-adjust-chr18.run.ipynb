{
 "cells": [
  {
   "cell_type": "markdown",
   "id": "6c1f0ae4-cd27-4fec-a23d-51699e7059e8",
   "metadata": {
    "papermill": {
     "duration": 0.005454,
     "end_time": "2022-06-18T11:50:33.376485",
     "exception": false,
     "start_time": "2022-06-18T11:50:33.371031",
     "status": "completed"
    },
    "tags": []
   },
   "source": [
    "# Description"
   ]
  },
  {
   "cell_type": "markdown",
   "id": "3268a19a-8a83-4f61-aa39-09b084c81d61",
   "metadata": {
    "papermill": {
     "duration": 0.005104,
     "end_time": "2022-06-18T11:50:33.386352",
     "exception": false,
     "start_time": "2022-06-18T11:50:33.381248",
     "status": "completed"
    },
    "tags": []
   },
   "source": [
    "**TODO**"
   ]
  },
  {
   "cell_type": "markdown",
   "id": "401368d3-22c1-4d81-a2c3-c4a81fde4191",
   "metadata": {
    "papermill": {
     "duration": 0.005365,
     "end_time": "2022-06-18T11:50:33.396918",
     "exception": false,
     "start_time": "2022-06-18T11:50:33.391553",
     "status": "completed"
    },
    "tags": []
   },
   "source": [
    "# Modules"
   ]
  },
  {
   "cell_type": "code",
   "execution_count": 1,
   "id": "f9b5022b-7c5e-4d37-9c7a-fdb91777c7f9",
   "metadata": {
    "execution": {
     "iopub.execute_input": "2022-06-18T11:50:33.413753Z",
     "iopub.status.busy": "2022-06-18T11:50:33.409852Z",
     "iopub.status.idle": "2022-06-18T11:50:36.864244Z",
     "shell.execute_reply": "2022-06-18T11:50:36.863065Z"
    },
    "papermill": {
     "duration": 3.463405,
     "end_time": "2022-06-18T11:50:36.865884",
     "exception": false,
     "start_time": "2022-06-18T11:50:33.402479",
     "status": "completed"
    },
    "tags": []
   },
   "outputs": [],
   "source": [
    "library(reticulate)\n",
    "pd <- import(\"pandas\")"
   ]
  },
  {
   "cell_type": "markdown",
   "id": "c1958d6a-0229-47e8-823e-792fcf84fccf",
   "metadata": {
    "papermill": {
     "duration": 0.004069,
     "end_time": "2022-06-18T11:50:36.874297",
     "exception": false,
     "start_time": "2022-06-18T11:50:36.870228",
     "status": "completed"
    },
    "tags": []
   },
   "source": [
    "# Settings"
   ]
  },
  {
   "cell_type": "code",
   "execution_count": 2,
   "id": "22d12bb4-1699-4a6b-b1b9-d3fdd3d547d7",
   "metadata": {
    "execution": {
     "iopub.execute_input": "2022-06-18T11:50:36.903713Z",
     "iopub.status.busy": "2022-06-18T11:50:36.883678Z",
     "iopub.status.idle": "2022-06-18T11:50:36.914808Z",
     "shell.execute_reply": "2022-06-18T11:50:36.913671Z"
    },
    "papermill": {
     "duration": 0.037826,
     "end_time": "2022-06-18T11:50:36.916400",
     "exception": false,
     "start_time": "2022-06-18T11:50:36.878574",
     "status": "completed"
    },
    "tags": [
     "parameters"
    ]
   },
   "outputs": [],
   "source": [
    "# reference panel\n",
    "REFERENCE_PANEL <- \"GTEX_V8\"\n",
    "# REFERENCE_PANEL = \"1000G\"\n",
    "\n",
    "# prediction models\n",
    "## mashr\n",
    "EQTL_MODEL <- \"MASHR\"\n",
    "\n",
    "# ## elastic net\n",
    "# EQTL_MODEL = \"ELASTIC_NET\"\n",
    "\n",
    "chromosome <- NULL"
   ]
  },
  {
   "cell_type": "code",
   "execution_count": 3,
   "id": "cd12ebef",
   "metadata": {
    "execution": {
     "iopub.execute_input": "2022-06-18T11:50:36.927169Z",
     "iopub.status.busy": "2022-06-18T11:50:36.926202Z",
     "iopub.status.idle": "2022-06-18T11:50:36.942999Z",
     "shell.execute_reply": "2022-06-18T11:50:36.941842Z"
    },
    "papermill": {
     "duration": 0.023744,
     "end_time": "2022-06-18T11:50:36.944645",
     "exception": false,
     "start_time": "2022-06-18T11:50:36.920901",
     "status": "completed"
    },
    "tags": [
     "injected-parameters"
    ]
   },
   "outputs": [],
   "source": [
    "# Parameters\n",
    "chromosome = 18\n",
    "REFERENCE_PANEL = \"GTEX_V8\"\n",
    "EQTL_MODEL = \"MASHR\"\n"
   ]
  },
  {
   "cell_type": "code",
   "execution_count": 4,
   "id": "8fe24bef",
   "metadata": {
    "execution": {
     "iopub.execute_input": "2022-06-18T11:50:36.955942Z",
     "iopub.status.busy": "2022-06-18T11:50:36.954947Z",
     "iopub.status.idle": "2022-06-18T11:50:36.967205Z",
     "shell.execute_reply": "2022-06-18T11:50:36.966030Z"
    },
    "papermill": {
     "duration": 0.019394,
     "end_time": "2022-06-18T11:50:36.968857",
     "exception": false,
     "start_time": "2022-06-18T11:50:36.949463",
     "status": "completed"
    },
    "tags": []
   },
   "outputs": [
    {
     "data": {
      "text/html": [
       "'Using reference panel: GTEX_V8'"
      ],
      "text/latex": [
       "'Using reference panel: GTEX\\_V8'"
      ],
      "text/markdown": [
       "'Using reference panel: GTEX_V8'"
      ],
      "text/plain": [
       "[1] \"Using reference panel: GTEX_V8\""
      ]
     },
     "metadata": {},
     "output_type": "display_data"
    }
   ],
   "source": [
    "paste0(\"Using reference panel: \", REFERENCE_PANEL)"
   ]
  },
  {
   "cell_type": "code",
   "execution_count": 5,
   "id": "d62c28f8-186c-478b-948c-58e14f00df4b",
   "metadata": {
    "execution": {
     "iopub.execute_input": "2022-06-18T11:50:36.980508Z",
     "iopub.status.busy": "2022-06-18T11:50:36.979445Z",
     "iopub.status.idle": "2022-06-18T11:50:36.990527Z",
     "shell.execute_reply": "2022-06-18T11:50:36.989265Z"
    },
    "papermill": {
     "duration": 0.021307,
     "end_time": "2022-06-18T11:50:36.995032",
     "exception": false,
     "start_time": "2022-06-18T11:50:36.973725",
     "status": "completed"
    },
    "tags": []
   },
   "outputs": [
    {
     "data": {
      "text/html": [
       "'Using eQTL model: MASHR'"
      ],
      "text/latex": [
       "'Using eQTL model: MASHR'"
      ],
      "text/markdown": [
       "'Using eQTL model: MASHR'"
      ],
      "text/plain": [
       "[1] \"Using eQTL model: MASHR\""
      ]
     },
     "metadata": {},
     "output_type": "display_data"
    }
   ],
   "source": [
    "paste0(\"Using eQTL model: \", EQTL_MODEL)"
   ]
  },
  {
   "cell_type": "code",
   "execution_count": 6,
   "id": "5243676f-c889-4405-9a4d-262f0f044614",
   "metadata": {
    "execution": {
     "iopub.execute_input": "2022-06-18T11:50:37.007519Z",
     "iopub.status.busy": "2022-06-18T11:50:37.006401Z",
     "iopub.status.idle": "2022-06-18T11:50:37.018945Z",
     "shell.execute_reply": "2022-06-18T11:50:37.016694Z"
    },
    "papermill": {
     "duration": 0.02055,
     "end_time": "2022-06-18T11:50:37.020915",
     "exception": false,
     "start_time": "2022-06-18T11:50:37.000365",
     "status": "completed"
    },
    "tags": []
   },
   "outputs": [],
   "source": [
    "# chromosome must be provided as parameter\n",
    "stopifnot(!is.null(chromosome))"
   ]
  },
  {
   "cell_type": "markdown",
   "id": "83a49773-bcf5-44c4-8d9b-a6ac65a57ec6",
   "metadata": {
    "papermill": {
     "duration": 0.005028,
     "end_time": "2022-06-18T11:50:37.031706",
     "exception": false,
     "start_time": "2022-06-18T11:50:37.026678",
     "status": "completed"
    },
    "tags": []
   },
   "source": [
    "# Paths"
   ]
  },
  {
   "cell_type": "code",
   "execution_count": 7,
   "id": "eb6aa8aa-b452-4a2f-a780-93dd80ad4285",
   "metadata": {
    "execution": {
     "iopub.execute_input": "2022-06-18T11:50:37.043643Z",
     "iopub.status.busy": "2022-06-18T11:50:37.042616Z",
     "iopub.status.idle": "2022-06-18T11:50:37.055266Z",
     "shell.execute_reply": "2022-06-18T11:50:37.054053Z"
    },
    "papermill": {
     "duration": 0.020184,
     "end_time": "2022-06-18T11:50:37.056925",
     "exception": false,
     "start_time": "2022-06-18T11:50:37.036741",
     "status": "completed"
    },
    "tags": []
   },
   "outputs": [
    {
     "data": {
      "text/html": [
       "'/opt/data/data/phenomexcan/ld_blocks/gene_corrs'"
      ],
      "text/latex": [
       "'/opt/data/data/phenomexcan/ld\\_blocks/gene\\_corrs'"
      ],
      "text/markdown": [
       "'/opt/data/data/phenomexcan/ld_blocks/gene_corrs'"
      ],
      "text/plain": [
       "[1] \"/opt/data/data/phenomexcan/ld_blocks/gene_corrs\""
      ]
     },
     "metadata": {},
     "output_type": "display_data"
    }
   ],
   "source": [
    "GENE_CORRS_DIR <- Sys.getenv(\"PHENOPLIER_PHENOMEXCAN_LD_BLOCKS_GENE_CORRS_DIR\")\n",
    "IRdisplay::display(GENE_CORRS_DIR)"
   ]
  },
  {
   "cell_type": "code",
   "execution_count": 8,
   "id": "eb24f15f-f282-4476-8943-8413c4483f12",
   "metadata": {
    "execution": {
     "iopub.execute_input": "2022-06-18T11:50:37.069078Z",
     "iopub.status.busy": "2022-06-18T11:50:37.068068Z",
     "iopub.status.idle": "2022-06-18T11:50:37.080415Z",
     "shell.execute_reply": "2022-06-18T11:50:37.079194Z"
    },
    "papermill": {
     "duration": 0.020042,
     "end_time": "2022-06-18T11:50:37.082138",
     "exception": false,
     "start_time": "2022-06-18T11:50:37.062096",
     "status": "completed"
    },
    "tags": []
   },
   "outputs": [
    {
     "data": {
      "text/html": [
       "'/opt/data/data/phenomexcan/ld_blocks/gene_corrs/gtex_v8/mashr/by_chr'"
      ],
      "text/latex": [
       "'/opt/data/data/phenomexcan/ld\\_blocks/gene\\_corrs/gtex\\_v8/mashr/by\\_chr'"
      ],
      "text/markdown": [
       "'/opt/data/data/phenomexcan/ld_blocks/gene_corrs/gtex_v8/mashr/by_chr'"
      ],
      "text/plain": [
       "[1] \"/opt/data/data/phenomexcan/ld_blocks/gene_corrs/gtex_v8/mashr/by_chr\""
      ]
     },
     "metadata": {},
     "output_type": "display_data"
    }
   ],
   "source": [
    "INPUT_DIR <- file.path(GENE_CORRS_DIR, tolower(REFERENCE_PANEL), tolower(EQTL_MODEL), \"by_chr\")\n",
    "IRdisplay::display(INPUT_DIR)"
   ]
  },
  {
   "cell_type": "code",
   "execution_count": 9,
   "id": "43c1daba-0da9-4822-8d1e-968e9767e251",
   "metadata": {
    "execution": {
     "iopub.execute_input": "2022-06-18T11:50:37.094689Z",
     "iopub.status.busy": "2022-06-18T11:50:37.093645Z",
     "iopub.status.idle": "2022-06-18T11:50:37.107737Z",
     "shell.execute_reply": "2022-06-18T11:50:37.106528Z"
    },
    "papermill": {
     "duration": 0.02193,
     "end_time": "2022-06-18T11:50:37.109443",
     "exception": false,
     "start_time": "2022-06-18T11:50:37.087513",
     "status": "completed"
    },
    "tags": []
   },
   "outputs": [
    {
     "data": {
      "text/html": [
       "'/opt/data/data/phenomexcan/ld_blocks/gene_corrs/gtex_v8/mashr/by_chr/gene_corrs-chr18.pkl'"
      ],
      "text/latex": [
       "'/opt/data/data/phenomexcan/ld\\_blocks/gene\\_corrs/gtex\\_v8/mashr/by\\_chr/gene\\_corrs-chr18.pkl'"
      ],
      "text/markdown": [
       "'/opt/data/data/phenomexcan/ld_blocks/gene_corrs/gtex_v8/mashr/by_chr/gene_corrs-chr18.pkl'"
      ],
      "text/plain": [
       "[1] \"/opt/data/data/phenomexcan/ld_blocks/gene_corrs/gtex_v8/mashr/by_chr/gene_corrs-chr18.pkl\""
      ]
     },
     "metadata": {},
     "output_type": "display_data"
    }
   ],
   "source": [
    "INPUT_FILE <- file.path(INPUT_DIR, paste0(\"gene_corrs-chr\", chromosome, \".pkl\"))\n",
    "IRdisplay::display(INPUT_FILE)\n",
    "stopifnot(file.exists(INPUT_FILE))"
   ]
  },
  {
   "cell_type": "code",
   "execution_count": 10,
   "id": "72386fbf-982b-420a-9057-ea9a97a5e571",
   "metadata": {
    "execution": {
     "iopub.execute_input": "2022-06-18T11:50:37.123068Z",
     "iopub.status.busy": "2022-06-18T11:50:37.121895Z",
     "iopub.status.idle": "2022-06-18T11:50:37.137085Z",
     "shell.execute_reply": "2022-06-18T11:50:37.135815Z"
    },
    "papermill": {
     "duration": 0.024201,
     "end_time": "2022-06-18T11:50:37.139265",
     "exception": false,
     "start_time": "2022-06-18T11:50:37.115064",
     "status": "completed"
    },
    "tags": []
   },
   "outputs": [
    {
     "data": {
      "text/html": [
       "'/opt/data/data/phenomexcan/ld_blocks/gene_corrs/gtex_v8/mashr/by_chr/corrected_positive_definite'"
      ],
      "text/latex": [
       "'/opt/data/data/phenomexcan/ld\\_blocks/gene\\_corrs/gtex\\_v8/mashr/by\\_chr/corrected\\_positive\\_definite'"
      ],
      "text/markdown": [
       "'/opt/data/data/phenomexcan/ld_blocks/gene_corrs/gtex_v8/mashr/by_chr/corrected_positive_definite'"
      ],
      "text/plain": [
       "[1] \"/opt/data/data/phenomexcan/ld_blocks/gene_corrs/gtex_v8/mashr/by_chr/corrected_positive_definite\""
      ]
     },
     "metadata": {},
     "output_type": "display_data"
    }
   ],
   "source": [
    "OUTPUT_DIR <- file.path(INPUT_DIR, \"corrected_positive_definite\")\n",
    "IRdisplay::display(OUTPUT_DIR)\n",
    "dir.create(OUTPUT_DIR, recursive = TRUE, showWarnings = FALSE)"
   ]
  },
  {
   "cell_type": "code",
   "execution_count": 11,
   "id": "f9f19d1d-ce4c-4099-a26e-250fec751de7",
   "metadata": {
    "execution": {
     "iopub.execute_input": "2022-06-18T11:50:37.153205Z",
     "iopub.status.busy": "2022-06-18T11:50:37.152081Z",
     "iopub.status.idle": "2022-06-18T11:50:37.172052Z",
     "shell.execute_reply": "2022-06-18T11:50:37.167671Z"
    },
    "papermill": {
     "duration": 0.028866,
     "end_time": "2022-06-18T11:50:37.174115",
     "exception": false,
     "start_time": "2022-06-18T11:50:37.145249",
     "status": "completed"
    },
    "tags": []
   },
   "outputs": [
    {
     "data": {
      "text/html": [
       "'/opt/data/data/phenomexcan/ld_blocks/gene_corrs/gtex_v8/mashr/by_chr/corrected_positive_definite/gene_corrs-chr18.pkl'"
      ],
      "text/latex": [
       "'/opt/data/data/phenomexcan/ld\\_blocks/gene\\_corrs/gtex\\_v8/mashr/by\\_chr/corrected\\_positive\\_definite/gene\\_corrs-chr18.pkl'"
      ],
      "text/markdown": [
       "'/opt/data/data/phenomexcan/ld_blocks/gene_corrs/gtex_v8/mashr/by_chr/corrected_positive_definite/gene_corrs-chr18.pkl'"
      ],
      "text/plain": [
       "[1] \"/opt/data/data/phenomexcan/ld_blocks/gene_corrs/gtex_v8/mashr/by_chr/corrected_positive_definite/gene_corrs-chr18.pkl\""
      ]
     },
     "metadata": {},
     "output_type": "display_data"
    },
    {
     "data": {
      "text/html": [
       "'Output file exists, it will be overwritten'"
      ],
      "text/latex": [
       "'Output file exists, it will be overwritten'"
      ],
      "text/markdown": [
       "'Output file exists, it will be overwritten'"
      ],
      "text/plain": [
       "[1] \"Output file exists, it will be overwritten\""
      ]
     },
     "metadata": {},
     "output_type": "display_data"
    }
   ],
   "source": [
    "OUTPUT_FILE <- file.path(OUTPUT_DIR, paste0(\"gene_corrs-chr\", chromosome, \".pkl\"))\n",
    "IRdisplay::display(OUTPUT_FILE)\n",
    "if (file.exists(OUTPUT_FILE)) {\n",
    "  IRdisplay::display(\"Output file exists, it will be overwritten\")\n",
    "}"
   ]
  },
  {
   "cell_type": "markdown",
   "id": "5aad60e6-cba4-41b5-9755-93eb86f4ed05",
   "metadata": {
    "papermill": {
     "duration": 0.005836,
     "end_time": "2022-06-18T11:50:37.186156",
     "exception": false,
     "start_time": "2022-06-18T11:50:37.180320",
     "status": "completed"
    },
    "tags": []
   },
   "source": [
    "# Functions"
   ]
  },
  {
   "cell_type": "code",
   "execution_count": 12,
   "id": "f828f081-7358-4cc8-8a89-1ee293bcc1a7",
   "metadata": {
    "execution": {
     "iopub.execute_input": "2022-06-18T11:50:37.199777Z",
     "iopub.status.busy": "2022-06-18T11:50:37.198740Z",
     "iopub.status.idle": "2022-06-18T11:50:37.208731Z",
     "shell.execute_reply": "2022-06-18T11:50:37.207405Z"
    },
    "papermill": {
     "duration": 0.018657,
     "end_time": "2022-06-18T11:50:37.210676",
     "exception": false,
     "start_time": "2022-06-18T11:50:37.192019",
     "status": "completed"
    },
    "tags": []
   },
   "outputs": [],
   "source": [
    "# taken from https://www.r-bloggers.com/2013/08/correcting-a-pseudo-correlation-matrix-to-be-positive-semidefinite/\n",
    "# TODO: add documentation\n",
    "CorrectCM <- function(CM, p = 0) {\n",
    "  n <- dim(var(CM))[1L]\n",
    "  E <- eigen(CM)\n",
    "  CM1 <- E$vectors %*% tcrossprod(diag(pmax(E$values, p), n), E$vectors)\n",
    "  Balance <- diag(1 / sqrt(diag(CM1)))\n",
    "  CM2 <- Balance %*% CM1 %*% Balance\n",
    "  return(CM2)\n",
    "}"
   ]
  },
  {
   "cell_type": "code",
   "execution_count": 13,
   "id": "7ab9bebf-50a1-4e6f-b16a-e23cae93d02a",
   "metadata": {
    "execution": {
     "iopub.execute_input": "2022-06-18T11:50:37.225980Z",
     "iopub.status.busy": "2022-06-18T11:50:37.224753Z",
     "iopub.status.idle": "2022-06-18T11:50:37.234823Z",
     "shell.execute_reply": "2022-06-18T11:50:37.233478Z"
    },
    "papermill": {
     "duration": 0.01958,
     "end_time": "2022-06-18T11:50:37.236708",
     "exception": false,
     "start_time": "2022-06-18T11:50:37.217128",
     "status": "completed"
    },
    "tags": []
   },
   "outputs": [],
   "source": [
    "is_positive_definite <- function(data) {\n",
    "  eigenvalues <- eigen(data)$values\n",
    "  nonpositive_eigenvalues <- eigenvalues[eigenvalues <= 0]\n",
    "\n",
    "  if (length(nonpositive_eigenvalues) > 0) {\n",
    "    IRdisplay::display(\"We need to correct the data and make the matrix positive definite\")\n",
    "    return(FALSE)\n",
    "  } else {\n",
    "    IRdisplay::display(\"Matrix is already positive definite!\")\n",
    "    return(TRUE)\n",
    "  }\n",
    "}"
   ]
  },
  {
   "cell_type": "markdown",
   "id": "ac52ecbc-5618-4876-a4fa-546a08e3fcf3",
   "metadata": {
    "papermill": {
     "duration": 0.006433,
     "end_time": "2022-06-18T11:50:37.249742",
     "exception": false,
     "start_time": "2022-06-18T11:50:37.243309",
     "status": "completed"
    },
    "tags": []
   },
   "source": [
    "# Load data"
   ]
  },
  {
   "cell_type": "code",
   "execution_count": 14,
   "id": "3a7744e1-2e5a-450e-9dcf-945ec181347d",
   "metadata": {
    "execution": {
     "iopub.execute_input": "2022-06-18T11:50:37.264955Z",
     "iopub.status.busy": "2022-06-18T11:50:37.263702Z",
     "iopub.status.idle": "2022-06-18T11:50:37.290097Z",
     "shell.execute_reply": "2022-06-18T11:50:37.288679Z"
    },
    "papermill": {
     "duration": 0.035754,
     "end_time": "2022-06-18T11:50:37.291949",
     "exception": false,
     "start_time": "2022-06-18T11:50:37.256195",
     "status": "completed"
    },
    "tags": []
   },
   "outputs": [],
   "source": [
    "gene_corrs <- pd$read_pickle(INPUT_FILE)"
   ]
  },
  {
   "cell_type": "code",
   "execution_count": 15,
   "id": "6fb150b2-4c68-4e9b-9aa5-1890d3f762e3",
   "metadata": {
    "execution": {
     "iopub.execute_input": "2022-06-18T11:50:37.306956Z",
     "iopub.status.busy": "2022-06-18T11:50:37.305856Z",
     "iopub.status.idle": "2022-06-18T11:50:37.323236Z",
     "shell.execute_reply": "2022-06-18T11:50:37.320879Z"
    },
    "papermill": {
     "duration": 0.026549,
     "end_time": "2022-06-18T11:50:37.324969",
     "exception": false,
     "start_time": "2022-06-18T11:50:37.298420",
     "status": "completed"
    },
    "tags": []
   },
   "outputs": [
    {
     "data": {
      "text/html": [
       "<style>\n",
       ".list-inline {list-style: none; margin:0; padding: 0}\n",
       ".list-inline>li {display: inline-block}\n",
       ".list-inline>li:not(:last-child)::after {content: \"\\00b7\"; padding: 0 .5ex}\n",
       "</style>\n",
       "<ol class=list-inline><li>96</li><li>96</li></ol>\n"
      ],
      "text/latex": [
       "\\begin{enumerate*}\n",
       "\\item 96\n",
       "\\item 96\n",
       "\\end{enumerate*}\n"
      ],
      "text/markdown": [
       "1. 96\n",
       "2. 96\n",
       "\n",
       "\n"
      ],
      "text/plain": [
       "[1] 96 96"
      ]
     },
     "metadata": {},
     "output_type": "display_data"
    }
   ],
   "source": [
    "dim(gene_corrs)"
   ]
  },
  {
   "cell_type": "code",
   "execution_count": 16,
   "id": "0d4e53b5-7586-4a68-8ce5-d930d74ba943",
   "metadata": {
    "execution": {
     "iopub.execute_input": "2022-06-18T11:50:37.348207Z",
     "iopub.status.busy": "2022-06-18T11:50:37.347159Z",
     "iopub.status.idle": "2022-06-18T11:50:37.370207Z",
     "shell.execute_reply": "2022-06-18T11:50:37.368277Z"
    },
    "papermill": {
     "duration": 0.038682,
     "end_time": "2022-06-18T11:50:37.371785",
     "exception": false,
     "start_time": "2022-06-18T11:50:37.333103",
     "status": "completed"
    },
    "tags": []
   },
   "outputs": [
    {
     "data": {
      "text/html": [
       "<table class=\"dataframe\">\n",
       "<caption>A data.frame: 6 × 10</caption>\n",
       "<thead>\n",
       "\t<tr><th></th><th scope=col>ENSG00000079134</th><th scope=col>ENSG00000158270</th><th scope=col>ENSG00000176890</th><th scope=col>ENSG00000176105</th><th scope=col>ENSG00000080986</th><th scope=col>ENSG00000132205</th><th scope=col>ENSG00000101577</th><th scope=col>ENSG00000101608</th><th scope=col>ENSG00000118680</th><th scope=col>ENSG00000177426</th></tr>\n",
       "\t<tr><th></th><th scope=col>&lt;dbl&gt;</th><th scope=col>&lt;dbl&gt;</th><th scope=col>&lt;dbl&gt;</th><th scope=col>&lt;dbl&gt;</th><th scope=col>&lt;dbl&gt;</th><th scope=col>&lt;dbl&gt;</th><th scope=col>&lt;dbl&gt;</th><th scope=col>&lt;dbl&gt;</th><th scope=col>&lt;dbl&gt;</th><th scope=col>&lt;dbl&gt;</th></tr>\n",
       "</thead>\n",
       "<tbody>\n",
       "\t<tr><th scope=row>ENSG00000079134</th><td> 1.000000000</td><td>-0.001966216</td><td>-0.05780064</td><td> 0.09583688</td><td> 0.00251513</td><td> 0.01702875</td><td>-0.089916668</td><td> 0.06911504</td><td>-0.10781703</td><td>-0.007772298</td></tr>\n",
       "\t<tr><th scope=row>ENSG00000158270</th><td>-0.001966216</td><td> 1.000000000</td><td>-0.03519007</td><td> 0.00557507</td><td>-0.02389234</td><td>-0.03518304</td><td>-0.005395476</td><td> 0.01616782</td><td>-0.07419352</td><td> 0.056954716</td></tr>\n",
       "\t<tr><th scope=row>ENSG00000176890</th><td>-0.057800643</td><td>-0.035190068</td><td> 1.00000000</td><td> 0.17494935</td><td> 0.04053366</td><td> 0.07663973</td><td>-0.022326855</td><td>-0.03297596</td><td>-0.04554801</td><td>-0.075751358</td></tr>\n",
       "\t<tr><th scope=row>ENSG00000176105</th><td> 0.095836877</td><td> 0.005575070</td><td> 0.17494935</td><td> 1.00000000</td><td> 0.05667946</td><td>-0.02410930</td><td> 0.028034362</td><td> 0.15112287</td><td> 0.03506153</td><td> 0.103447248</td></tr>\n",
       "\t<tr><th scope=row>ENSG00000080986</th><td> 0.002515130</td><td>-0.023892336</td><td> 0.04053366</td><td> 0.05667946</td><td> 1.00000000</td><td>-0.06066244</td><td> 0.034296874</td><td>-0.04076309</td><td> 0.05234749</td><td>-0.068280422</td></tr>\n",
       "\t<tr><th scope=row>ENSG00000132205</th><td> 0.017028747</td><td>-0.035183037</td><td> 0.07663973</td><td>-0.02410930</td><td>-0.06066244</td><td> 1.00000000</td><td> 0.043703231</td><td> 0.06657206</td><td>-0.05369115</td><td> 0.057888750</td></tr>\n",
       "</tbody>\n",
       "</table>\n"
      ],
      "text/latex": [
       "A data.frame: 6 × 10\n",
       "\\begin{tabular}{r|llllllllll}\n",
       "  & ENSG00000079134 & ENSG00000158270 & ENSG00000176890 & ENSG00000176105 & ENSG00000080986 & ENSG00000132205 & ENSG00000101577 & ENSG00000101608 & ENSG00000118680 & ENSG00000177426\\\\\n",
       "  & <dbl> & <dbl> & <dbl> & <dbl> & <dbl> & <dbl> & <dbl> & <dbl> & <dbl> & <dbl>\\\\\n",
       "\\hline\n",
       "\tENSG00000079134 &  1.000000000 & -0.001966216 & -0.05780064 &  0.09583688 &  0.00251513 &  0.01702875 & -0.089916668 &  0.06911504 & -0.10781703 & -0.007772298\\\\\n",
       "\tENSG00000158270 & -0.001966216 &  1.000000000 & -0.03519007 &  0.00557507 & -0.02389234 & -0.03518304 & -0.005395476 &  0.01616782 & -0.07419352 &  0.056954716\\\\\n",
       "\tENSG00000176890 & -0.057800643 & -0.035190068 &  1.00000000 &  0.17494935 &  0.04053366 &  0.07663973 & -0.022326855 & -0.03297596 & -0.04554801 & -0.075751358\\\\\n",
       "\tENSG00000176105 &  0.095836877 &  0.005575070 &  0.17494935 &  1.00000000 &  0.05667946 & -0.02410930 &  0.028034362 &  0.15112287 &  0.03506153 &  0.103447248\\\\\n",
       "\tENSG00000080986 &  0.002515130 & -0.023892336 &  0.04053366 &  0.05667946 &  1.00000000 & -0.06066244 &  0.034296874 & -0.04076309 &  0.05234749 & -0.068280422\\\\\n",
       "\tENSG00000132205 &  0.017028747 & -0.035183037 &  0.07663973 & -0.02410930 & -0.06066244 &  1.00000000 &  0.043703231 &  0.06657206 & -0.05369115 &  0.057888750\\\\\n",
       "\\end{tabular}\n"
      ],
      "text/markdown": [
       "\n",
       "A data.frame: 6 × 10\n",
       "\n",
       "| <!--/--> | ENSG00000079134 &lt;dbl&gt; | ENSG00000158270 &lt;dbl&gt; | ENSG00000176890 &lt;dbl&gt; | ENSG00000176105 &lt;dbl&gt; | ENSG00000080986 &lt;dbl&gt; | ENSG00000132205 &lt;dbl&gt; | ENSG00000101577 &lt;dbl&gt; | ENSG00000101608 &lt;dbl&gt; | ENSG00000118680 &lt;dbl&gt; | ENSG00000177426 &lt;dbl&gt; |\n",
       "|---|---|---|---|---|---|---|---|---|---|---|\n",
       "| ENSG00000079134 |  1.000000000 | -0.001966216 | -0.05780064 |  0.09583688 |  0.00251513 |  0.01702875 | -0.089916668 |  0.06911504 | -0.10781703 | -0.007772298 |\n",
       "| ENSG00000158270 | -0.001966216 |  1.000000000 | -0.03519007 |  0.00557507 | -0.02389234 | -0.03518304 | -0.005395476 |  0.01616782 | -0.07419352 |  0.056954716 |\n",
       "| ENSG00000176890 | -0.057800643 | -0.035190068 |  1.00000000 |  0.17494935 |  0.04053366 |  0.07663973 | -0.022326855 | -0.03297596 | -0.04554801 | -0.075751358 |\n",
       "| ENSG00000176105 |  0.095836877 |  0.005575070 |  0.17494935 |  1.00000000 |  0.05667946 | -0.02410930 |  0.028034362 |  0.15112287 |  0.03506153 |  0.103447248 |\n",
       "| ENSG00000080986 |  0.002515130 | -0.023892336 |  0.04053366 |  0.05667946 |  1.00000000 | -0.06066244 |  0.034296874 | -0.04076309 |  0.05234749 | -0.068280422 |\n",
       "| ENSG00000132205 |  0.017028747 | -0.035183037 |  0.07663973 | -0.02410930 | -0.06066244 |  1.00000000 |  0.043703231 |  0.06657206 | -0.05369115 |  0.057888750 |\n",
       "\n"
      ],
      "text/plain": [
       "                ENSG00000079134 ENSG00000158270 ENSG00000176890 ENSG00000176105\n",
       "ENSG00000079134  1.000000000    -0.001966216    -0.05780064      0.09583688    \n",
       "ENSG00000158270 -0.001966216     1.000000000    -0.03519007      0.00557507    \n",
       "ENSG00000176890 -0.057800643    -0.035190068     1.00000000      0.17494935    \n",
       "ENSG00000176105  0.095836877     0.005575070     0.17494935      1.00000000    \n",
       "ENSG00000080986  0.002515130    -0.023892336     0.04053366      0.05667946    \n",
       "ENSG00000132205  0.017028747    -0.035183037     0.07663973     -0.02410930    \n",
       "                ENSG00000080986 ENSG00000132205 ENSG00000101577 ENSG00000101608\n",
       "ENSG00000079134  0.00251513      0.01702875     -0.089916668     0.06911504    \n",
       "ENSG00000158270 -0.02389234     -0.03518304     -0.005395476     0.01616782    \n",
       "ENSG00000176890  0.04053366      0.07663973     -0.022326855    -0.03297596    \n",
       "ENSG00000176105  0.05667946     -0.02410930      0.028034362     0.15112287    \n",
       "ENSG00000080986  1.00000000     -0.06066244      0.034296874    -0.04076309    \n",
       "ENSG00000132205 -0.06066244      1.00000000      0.043703231     0.06657206    \n",
       "                ENSG00000118680 ENSG00000177426\n",
       "ENSG00000079134 -0.10781703     -0.007772298   \n",
       "ENSG00000158270 -0.07419352      0.056954716   \n",
       "ENSG00000176890 -0.04554801     -0.075751358   \n",
       "ENSG00000176105  0.03506153      0.103447248   \n",
       "ENSG00000080986  0.05234749     -0.068280422   \n",
       "ENSG00000132205 -0.05369115      0.057888750   "
      ]
     },
     "metadata": {},
     "output_type": "display_data"
    }
   ],
   "source": [
    "head(gene_corrs[1:10, 1:10])"
   ]
  },
  {
   "cell_type": "markdown",
   "id": "c5c9ffba-1678-4ce7-8988-4ee03e23bdf2",
   "metadata": {
    "papermill": {
     "duration": 0.006147,
     "end_time": "2022-06-18T11:50:37.388404",
     "exception": false,
     "start_time": "2022-06-18T11:50:37.382257",
     "status": "completed"
    },
    "tags": []
   },
   "source": [
    "# Check positive definiteness"
   ]
  },
  {
   "cell_type": "code",
   "execution_count": 17,
   "id": "178854f5-487a-42e8-82b4-625c1979734a",
   "metadata": {
    "execution": {
     "iopub.execute_input": "2022-06-18T11:50:37.402590Z",
     "iopub.status.busy": "2022-06-18T11:50:37.401533Z",
     "iopub.status.idle": "2022-06-18T11:50:37.430382Z",
     "shell.execute_reply": "2022-06-18T11:50:37.421504Z"
    },
    "papermill": {
     "duration": 0.043824,
     "end_time": "2022-06-18T11:50:37.438376",
     "exception": false,
     "start_time": "2022-06-18T11:50:37.394552",
     "status": "completed"
    },
    "tags": []
   },
   "outputs": [
    {
     "data": {
      "text/html": [
       "'We need to correct the data and make the matrix positive definite'"
      ],
      "text/latex": [
       "'We need to correct the data and make the matrix positive definite'"
      ],
      "text/markdown": [
       "'We need to correct the data and make the matrix positive definite'"
      ],
      "text/plain": [
       "[1] \"We need to correct the data and make the matrix positive definite\""
      ]
     },
     "metadata": {},
     "output_type": "display_data"
    },
    {
     "data": {
      "text/html": [
       "FALSE"
      ],
      "text/latex": [
       "FALSE"
      ],
      "text/markdown": [
       "FALSE"
      ],
      "text/plain": [
       "[1] FALSE"
      ]
     },
     "metadata": {},
     "output_type": "display_data"
    }
   ],
   "source": [
    "is_positive_definite(gene_corrs)"
   ]
  },
  {
   "cell_type": "code",
   "execution_count": 18,
   "id": "58542ade-c80f-42e6-acbf-6464dab70fdb",
   "metadata": {
    "execution": {
     "iopub.execute_input": "2022-06-18T11:50:37.473719Z",
     "iopub.status.busy": "2022-06-18T11:50:37.467070Z",
     "iopub.status.idle": "2022-06-18T11:50:37.490255Z",
     "shell.execute_reply": "2022-06-18T11:50:37.488080Z"
    },
    "papermill": {
     "duration": 0.038334,
     "end_time": "2022-06-18T11:50:37.492138",
     "exception": false,
     "start_time": "2022-06-18T11:50:37.453804",
     "status": "completed"
    },
    "tags": []
   },
   "outputs": [],
   "source": [
    "# see eigenvalues\n",
    "eigenvalues <- eigen(gene_corrs)$values"
   ]
  },
  {
   "cell_type": "code",
   "execution_count": 19,
   "id": "9486e0db-e924-43ab-bb6c-0d997fd38f3d",
   "metadata": {
    "execution": {
     "iopub.execute_input": "2022-06-18T11:50:37.510140Z",
     "iopub.status.busy": "2022-06-18T11:50:37.508939Z",
     "iopub.status.idle": "2022-06-18T11:50:37.534317Z",
     "shell.execute_reply": "2022-06-18T11:50:37.528419Z"
    },
    "papermill": {
     "duration": 0.034645,
     "end_time": "2022-06-18T11:50:37.536237",
     "exception": false,
     "start_time": "2022-06-18T11:50:37.501592",
     "status": "completed"
    },
    "tags": []
   },
   "outputs": [
    {
     "data": {
      "text/html": [
       "1"
      ],
      "text/latex": [
       "1"
      ],
      "text/markdown": [
       "1"
      ],
      "text/plain": [
       "[1] 1"
      ]
     },
     "metadata": {},
     "output_type": "display_data"
    },
    {
     "data": {
      "text/html": [
       "-0.513774066476428"
      ],
      "text/latex": [
       "-0.513774066476428"
      ],
      "text/markdown": [
       "-0.513774066476428"
      ],
      "text/plain": [
       "[1] -0.5137741"
      ]
     },
     "metadata": {},
     "output_type": "display_data"
    }
   ],
   "source": [
    "nonpositive_eigenvalues <- eigenvalues[eigenvalues <= 0]\n",
    "IRdisplay::display(length(nonpositive_eigenvalues))\n",
    "IRdisplay::display(nonpositive_eigenvalues)"
   ]
  },
  {
   "cell_type": "code",
   "execution_count": 20,
   "id": "410ee452-488f-4518-b93a-2acd608ba99c",
   "metadata": {
    "execution": {
     "iopub.execute_input": "2022-06-18T11:50:37.552046Z",
     "iopub.status.busy": "2022-06-18T11:50:37.550962Z",
     "iopub.status.idle": "2022-06-18T11:50:37.562171Z",
     "shell.execute_reply": "2022-06-18T11:50:37.560169Z"
    },
    "papermill": {
     "duration": 0.020545,
     "end_time": "2022-06-18T11:50:37.563865",
     "exception": false,
     "start_time": "2022-06-18T11:50:37.543320",
     "status": "completed"
    },
    "tags": []
   },
   "outputs": [],
   "source": [
    "if (length(eigenvalues[eigenvalues <= 0]) == 0) { quit() }"
   ]
  },
  {
   "cell_type": "markdown",
   "id": "2d280a82-f231-402d-82ab-9291d395afc1",
   "metadata": {
    "papermill": {
     "duration": 0.006763,
     "end_time": "2022-06-18T11:50:37.577516",
     "exception": false,
     "start_time": "2022-06-18T11:50:37.570753",
     "status": "completed"
    },
    "tags": []
   },
   "source": [
    "# Make matrix positive definite if needed"
   ]
  },
  {
   "cell_type": "code",
   "execution_count": 21,
   "id": "b9037873-4067-4ac6-aa92-e9225a6c9353",
   "metadata": {
    "execution": {
     "iopub.execute_input": "2022-06-18T11:50:37.593159Z",
     "iopub.status.busy": "2022-06-18T11:50:37.592084Z",
     "iopub.status.idle": "2022-06-18T11:50:37.611757Z",
     "shell.execute_reply": "2022-06-18T11:50:37.607878Z"
    },
    "papermill": {
     "duration": 0.029073,
     "end_time": "2022-06-18T11:50:37.613523",
     "exception": false,
     "start_time": "2022-06-18T11:50:37.584450",
     "status": "completed"
    },
    "tags": []
   },
   "outputs": [],
   "source": [
    "gene_corrs_corrected <- CorrectCM(gene_corrs, 1)"
   ]
  },
  {
   "cell_type": "code",
   "execution_count": 22,
   "id": "03c86284-5aac-4f66-86cc-74eb97102a7e",
   "metadata": {
    "execution": {
     "iopub.execute_input": "2022-06-18T11:50:37.636722Z",
     "iopub.status.busy": "2022-06-18T11:50:37.635677Z",
     "iopub.status.idle": "2022-06-18T11:50:37.652252Z",
     "shell.execute_reply": "2022-06-18T11:50:37.647565Z"
    },
    "papermill": {
     "duration": 0.032667,
     "end_time": "2022-06-18T11:50:37.653978",
     "exception": false,
     "start_time": "2022-06-18T11:50:37.621311",
     "status": "completed"
    },
    "tags": []
   },
   "outputs": [],
   "source": [
    "dimnames(gene_corrs_corrected)[[1]] <- rownames(gene_corrs)"
   ]
  },
  {
   "cell_type": "code",
   "execution_count": 23,
   "id": "576e7069-25ff-473d-8158-35b5f2ff212e",
   "metadata": {
    "execution": {
     "iopub.execute_input": "2022-06-18T11:50:37.680632Z",
     "iopub.status.busy": "2022-06-18T11:50:37.679478Z",
     "iopub.status.idle": "2022-06-18T11:50:37.693500Z",
     "shell.execute_reply": "2022-06-18T11:50:37.692237Z"
    },
    "papermill": {
     "duration": 0.031476,
     "end_time": "2022-06-18T11:50:37.695209",
     "exception": false,
     "start_time": "2022-06-18T11:50:37.663733",
     "status": "completed"
    },
    "tags": []
   },
   "outputs": [],
   "source": [
    "dimnames(gene_corrs_corrected)[[2]] <- colnames(gene_corrs)"
   ]
  },
  {
   "cell_type": "code",
   "execution_count": 24,
   "id": "f77d043a-321d-447f-8da5-2503981d3e73",
   "metadata": {
    "execution": {
     "iopub.execute_input": "2022-06-18T11:50:37.710974Z",
     "iopub.status.busy": "2022-06-18T11:50:37.709882Z",
     "iopub.status.idle": "2022-06-18T11:50:37.719360Z",
     "shell.execute_reply": "2022-06-18T11:50:37.718101Z"
    },
    "papermill": {
     "duration": 0.01909,
     "end_time": "2022-06-18T11:50:37.721236",
     "exception": false,
     "start_time": "2022-06-18T11:50:37.702146",
     "status": "completed"
    },
    "tags": []
   },
   "outputs": [],
   "source": [
    "gene_corrs_corrected <- as.data.frame(gene_corrs_corrected)"
   ]
  },
  {
   "cell_type": "code",
   "execution_count": 25,
   "id": "3e844024-f9a2-42a2-bbd0-695cfdbb78f5",
   "metadata": {
    "execution": {
     "iopub.execute_input": "2022-06-18T11:50:37.737902Z",
     "iopub.status.busy": "2022-06-18T11:50:37.736812Z",
     "iopub.status.idle": "2022-06-18T11:50:37.748435Z",
     "shell.execute_reply": "2022-06-18T11:50:37.747167Z"
    },
    "papermill": {
     "duration": 0.021365,
     "end_time": "2022-06-18T11:50:37.750186",
     "exception": false,
     "start_time": "2022-06-18T11:50:37.728821",
     "status": "completed"
    },
    "tags": []
   },
   "outputs": [
    {
     "data": {
      "text/html": [
       "<style>\n",
       ".list-inline {list-style: none; margin:0; padding: 0}\n",
       ".list-inline>li {display: inline-block}\n",
       ".list-inline>li:not(:last-child)::after {content: \"\\00b7\"; padding: 0 .5ex}\n",
       "</style>\n",
       "<ol class=list-inline><li>96</li><li>96</li></ol>\n"
      ],
      "text/latex": [
       "\\begin{enumerate*}\n",
       "\\item 96\n",
       "\\item 96\n",
       "\\end{enumerate*}\n"
      ],
      "text/markdown": [
       "1. 96\n",
       "2. 96\n",
       "\n",
       "\n"
      ],
      "text/plain": [
       "[1] 96 96"
      ]
     },
     "metadata": {},
     "output_type": "display_data"
    }
   ],
   "source": [
    "dim(gene_corrs_corrected)"
   ]
  },
  {
   "cell_type": "markdown",
   "id": "244b6bde-4ca8-46d1-acc7-b4c35b5d3c62",
   "metadata": {
    "papermill": {
     "duration": 0.0072,
     "end_time": "2022-06-18T11:50:37.764588",
     "exception": false,
     "start_time": "2022-06-18T11:50:37.757388",
     "status": "completed"
    },
    "tags": []
   },
   "source": [
    "# Check positive definiteness of corrected matrix"
   ]
  },
  {
   "cell_type": "code",
   "execution_count": 26,
   "id": "0fd5b688-e137-4619-910c-35130d32d600",
   "metadata": {
    "execution": {
     "iopub.execute_input": "2022-06-18T11:50:37.780606Z",
     "iopub.status.busy": "2022-06-18T11:50:37.779534Z",
     "iopub.status.idle": "2022-06-18T11:50:37.799922Z",
     "shell.execute_reply": "2022-06-18T11:50:37.798527Z"
    },
    "papermill": {
     "duration": 0.03097,
     "end_time": "2022-06-18T11:50:37.802590",
     "exception": false,
     "start_time": "2022-06-18T11:50:37.771620",
     "status": "completed"
    },
    "tags": []
   },
   "outputs": [
    {
     "data": {
      "text/html": [
       "'Matrix is already positive definite!'"
      ],
      "text/latex": [
       "'Matrix is already positive definite!'"
      ],
      "text/markdown": [
       "'Matrix is already positive definite!'"
      ],
      "text/plain": [
       "[1] \"Matrix is already positive definite!\""
      ]
     },
     "metadata": {},
     "output_type": "display_data"
    },
    {
     "data": {
      "text/html": [
       "TRUE"
      ],
      "text/latex": [
       "TRUE"
      ],
      "text/markdown": [
       "TRUE"
      ],
      "text/plain": [
       "[1] TRUE"
      ]
     },
     "metadata": {},
     "output_type": "display_data"
    }
   ],
   "source": [
    "is_positive_definite(gene_corrs_corrected)"
   ]
  },
  {
   "cell_type": "code",
   "execution_count": 27,
   "id": "06d23ab8-bebb-474c-be33-dca7e53c1717",
   "metadata": {
    "execution": {
     "iopub.execute_input": "2022-06-18T11:50:37.833359Z",
     "iopub.status.busy": "2022-06-18T11:50:37.832133Z",
     "iopub.status.idle": "2022-06-18T11:50:37.849737Z",
     "shell.execute_reply": "2022-06-18T11:50:37.845517Z"
    },
    "papermill": {
     "duration": 0.034965,
     "end_time": "2022-06-18T11:50:37.851339",
     "exception": false,
     "start_time": "2022-06-18T11:50:37.816374",
     "status": "completed"
    },
    "tags": []
   },
   "outputs": [],
   "source": [
    "# see eigenvalues\n",
    "eigenvalues <- eigen(gene_corrs_corrected)$values"
   ]
  },
  {
   "cell_type": "code",
   "execution_count": 28,
   "id": "ddf8afb8-e0e2-4b4e-876d-12bd6856c1ad",
   "metadata": {
    "execution": {
     "iopub.execute_input": "2022-06-18T11:50:37.869400Z",
     "iopub.status.busy": "2022-06-18T11:50:37.867298Z",
     "iopub.status.idle": "2022-06-18T11:50:37.892410Z",
     "shell.execute_reply": "2022-06-18T11:50:37.890280Z"
    },
    "papermill": {
     "duration": 0.035152,
     "end_time": "2022-06-18T11:50:37.894175",
     "exception": false,
     "start_time": "2022-06-18T11:50:37.859023",
     "status": "completed"
    },
    "tags": []
   },
   "outputs": [
    {
     "data": {
      "text/html": [
       "0"
      ],
      "text/latex": [
       "0"
      ],
      "text/markdown": [
       "0"
      ],
      "text/plain": [
       "[1] 0"
      ]
     },
     "metadata": {},
     "output_type": "display_data"
    },
    {
     "data": {
      "text/html": [],
      "text/latex": [],
      "text/markdown": [],
      "text/plain": [
       "numeric(0)"
      ]
     },
     "metadata": {},
     "output_type": "display_data"
    }
   ],
   "source": [
    "nonpositive_eigenvalues <- eigenvalues[eigenvalues <= 0]\n",
    "IRdisplay::display(length(nonpositive_eigenvalues))\n",
    "IRdisplay::display(nonpositive_eigenvalues)"
   ]
  },
  {
   "cell_type": "code",
   "execution_count": 29,
   "id": "712fd71a-b6ec-4a13-a956-80c99be7f585",
   "metadata": {
    "execution": {
     "iopub.execute_input": "2022-06-18T11:50:37.927351Z",
     "iopub.status.busy": "2022-06-18T11:50:37.926380Z",
     "iopub.status.idle": "2022-06-18T11:50:37.937692Z",
     "shell.execute_reply": "2022-06-18T11:50:37.935310Z"
    },
    "papermill": {
     "duration": 0.033523,
     "end_time": "2022-06-18T11:50:37.939459",
     "exception": false,
     "start_time": "2022-06-18T11:50:37.905936",
     "status": "completed"
    },
    "tags": []
   },
   "outputs": [],
   "source": [
    "stopifnot(length(eigenvalues[eigenvalues <= 0]) == 0)"
   ]
  },
  {
   "cell_type": "code",
   "execution_count": 30,
   "id": "786d6336-3844-40f7-979b-6d6028787f7f",
   "metadata": {
    "execution": {
     "iopub.execute_input": "2022-06-18T11:50:37.957356Z",
     "iopub.status.busy": "2022-06-18T11:50:37.956243Z",
     "iopub.status.idle": "2022-06-18T11:50:37.991036Z",
     "shell.execute_reply": "2022-06-18T11:50:37.988761Z"
    },
    "papermill": {
     "duration": 0.045264,
     "end_time": "2022-06-18T11:50:37.992619",
     "exception": false,
     "start_time": "2022-06-18T11:50:37.947355",
     "status": "completed"
    },
    "tags": []
   },
   "outputs": [
    {
     "data": {
      "text/html": [
       "<table class=\"dataframe\">\n",
       "<caption>A data.frame: 6 × 10</caption>\n",
       "<thead>\n",
       "\t<tr><th></th><th scope=col>ENSG00000079134</th><th scope=col>ENSG00000158270</th><th scope=col>ENSG00000176890</th><th scope=col>ENSG00000176105</th><th scope=col>ENSG00000080986</th><th scope=col>ENSG00000132205</th><th scope=col>ENSG00000101577</th><th scope=col>ENSG00000101608</th><th scope=col>ENSG00000118680</th><th scope=col>ENSG00000177426</th></tr>\n",
       "\t<tr><th></th><th scope=col>&lt;dbl&gt;</th><th scope=col>&lt;dbl&gt;</th><th scope=col>&lt;dbl&gt;</th><th scope=col>&lt;dbl&gt;</th><th scope=col>&lt;dbl&gt;</th><th scope=col>&lt;dbl&gt;</th><th scope=col>&lt;dbl&gt;</th><th scope=col>&lt;dbl&gt;</th><th scope=col>&lt;dbl&gt;</th><th scope=col>&lt;dbl&gt;</th></tr>\n",
       "</thead>\n",
       "<tbody>\n",
       "\t<tr><th scope=row>ENSG00000079134</th><td> 1.000000000</td><td>-0.001966216</td><td>-0.05780064</td><td> 0.09583688</td><td> 0.00251513</td><td> 0.01702875</td><td>-0.089916668</td><td> 0.06911504</td><td>-0.10781703</td><td>-0.007772298</td></tr>\n",
       "\t<tr><th scope=row>ENSG00000158270</th><td>-0.001966216</td><td> 1.000000000</td><td>-0.03519007</td><td> 0.00557507</td><td>-0.02389234</td><td>-0.03518304</td><td>-0.005395476</td><td> 0.01616782</td><td>-0.07419352</td><td> 0.056954716</td></tr>\n",
       "\t<tr><th scope=row>ENSG00000176890</th><td>-0.057800643</td><td>-0.035190068</td><td> 1.00000000</td><td> 0.17494935</td><td> 0.04053366</td><td> 0.07663973</td><td>-0.022326855</td><td>-0.03297596</td><td>-0.04554801</td><td>-0.075751358</td></tr>\n",
       "\t<tr><th scope=row>ENSG00000176105</th><td> 0.095836877</td><td> 0.005575070</td><td> 0.17494935</td><td> 1.00000000</td><td> 0.05667946</td><td>-0.02410930</td><td> 0.028034362</td><td> 0.15112287</td><td> 0.03506153</td><td> 0.103447248</td></tr>\n",
       "\t<tr><th scope=row>ENSG00000080986</th><td> 0.002515130</td><td>-0.023892336</td><td> 0.04053366</td><td> 0.05667946</td><td> 1.00000000</td><td>-0.06066244</td><td> 0.034296874</td><td>-0.04076309</td><td> 0.05234749</td><td>-0.068280422</td></tr>\n",
       "\t<tr><th scope=row>ENSG00000132205</th><td> 0.017028747</td><td>-0.035183037</td><td> 0.07663973</td><td>-0.02410930</td><td>-0.06066244</td><td> 1.00000000</td><td> 0.043703231</td><td> 0.06657206</td><td>-0.05369115</td><td> 0.057888750</td></tr>\n",
       "</tbody>\n",
       "</table>\n"
      ],
      "text/latex": [
       "A data.frame: 6 × 10\n",
       "\\begin{tabular}{r|llllllllll}\n",
       "  & ENSG00000079134 & ENSG00000158270 & ENSG00000176890 & ENSG00000176105 & ENSG00000080986 & ENSG00000132205 & ENSG00000101577 & ENSG00000101608 & ENSG00000118680 & ENSG00000177426\\\\\n",
       "  & <dbl> & <dbl> & <dbl> & <dbl> & <dbl> & <dbl> & <dbl> & <dbl> & <dbl> & <dbl>\\\\\n",
       "\\hline\n",
       "\tENSG00000079134 &  1.000000000 & -0.001966216 & -0.05780064 &  0.09583688 &  0.00251513 &  0.01702875 & -0.089916668 &  0.06911504 & -0.10781703 & -0.007772298\\\\\n",
       "\tENSG00000158270 & -0.001966216 &  1.000000000 & -0.03519007 &  0.00557507 & -0.02389234 & -0.03518304 & -0.005395476 &  0.01616782 & -0.07419352 &  0.056954716\\\\\n",
       "\tENSG00000176890 & -0.057800643 & -0.035190068 &  1.00000000 &  0.17494935 &  0.04053366 &  0.07663973 & -0.022326855 & -0.03297596 & -0.04554801 & -0.075751358\\\\\n",
       "\tENSG00000176105 &  0.095836877 &  0.005575070 &  0.17494935 &  1.00000000 &  0.05667946 & -0.02410930 &  0.028034362 &  0.15112287 &  0.03506153 &  0.103447248\\\\\n",
       "\tENSG00000080986 &  0.002515130 & -0.023892336 &  0.04053366 &  0.05667946 &  1.00000000 & -0.06066244 &  0.034296874 & -0.04076309 &  0.05234749 & -0.068280422\\\\\n",
       "\tENSG00000132205 &  0.017028747 & -0.035183037 &  0.07663973 & -0.02410930 & -0.06066244 &  1.00000000 &  0.043703231 &  0.06657206 & -0.05369115 &  0.057888750\\\\\n",
       "\\end{tabular}\n"
      ],
      "text/markdown": [
       "\n",
       "A data.frame: 6 × 10\n",
       "\n",
       "| <!--/--> | ENSG00000079134 &lt;dbl&gt; | ENSG00000158270 &lt;dbl&gt; | ENSG00000176890 &lt;dbl&gt; | ENSG00000176105 &lt;dbl&gt; | ENSG00000080986 &lt;dbl&gt; | ENSG00000132205 &lt;dbl&gt; | ENSG00000101577 &lt;dbl&gt; | ENSG00000101608 &lt;dbl&gt; | ENSG00000118680 &lt;dbl&gt; | ENSG00000177426 &lt;dbl&gt; |\n",
       "|---|---|---|---|---|---|---|---|---|---|---|\n",
       "| ENSG00000079134 |  1.000000000 | -0.001966216 | -0.05780064 |  0.09583688 |  0.00251513 |  0.01702875 | -0.089916668 |  0.06911504 | -0.10781703 | -0.007772298 |\n",
       "| ENSG00000158270 | -0.001966216 |  1.000000000 | -0.03519007 |  0.00557507 | -0.02389234 | -0.03518304 | -0.005395476 |  0.01616782 | -0.07419352 |  0.056954716 |\n",
       "| ENSG00000176890 | -0.057800643 | -0.035190068 |  1.00000000 |  0.17494935 |  0.04053366 |  0.07663973 | -0.022326855 | -0.03297596 | -0.04554801 | -0.075751358 |\n",
       "| ENSG00000176105 |  0.095836877 |  0.005575070 |  0.17494935 |  1.00000000 |  0.05667946 | -0.02410930 |  0.028034362 |  0.15112287 |  0.03506153 |  0.103447248 |\n",
       "| ENSG00000080986 |  0.002515130 | -0.023892336 |  0.04053366 |  0.05667946 |  1.00000000 | -0.06066244 |  0.034296874 | -0.04076309 |  0.05234749 | -0.068280422 |\n",
       "| ENSG00000132205 |  0.017028747 | -0.035183037 |  0.07663973 | -0.02410930 | -0.06066244 |  1.00000000 |  0.043703231 |  0.06657206 | -0.05369115 |  0.057888750 |\n",
       "\n"
      ],
      "text/plain": [
       "                ENSG00000079134 ENSG00000158270 ENSG00000176890 ENSG00000176105\n",
       "ENSG00000079134  1.000000000    -0.001966216    -0.05780064      0.09583688    \n",
       "ENSG00000158270 -0.001966216     1.000000000    -0.03519007      0.00557507    \n",
       "ENSG00000176890 -0.057800643    -0.035190068     1.00000000      0.17494935    \n",
       "ENSG00000176105  0.095836877     0.005575070     0.17494935      1.00000000    \n",
       "ENSG00000080986  0.002515130    -0.023892336     0.04053366      0.05667946    \n",
       "ENSG00000132205  0.017028747    -0.035183037     0.07663973     -0.02410930    \n",
       "                ENSG00000080986 ENSG00000132205 ENSG00000101577 ENSG00000101608\n",
       "ENSG00000079134  0.00251513      0.01702875     -0.089916668     0.06911504    \n",
       "ENSG00000158270 -0.02389234     -0.03518304     -0.005395476     0.01616782    \n",
       "ENSG00000176890  0.04053366      0.07663973     -0.022326855    -0.03297596    \n",
       "ENSG00000176105  0.05667946     -0.02410930      0.028034362     0.15112287    \n",
       "ENSG00000080986  1.00000000     -0.06066244      0.034296874    -0.04076309    \n",
       "ENSG00000132205 -0.06066244      1.00000000      0.043703231     0.06657206    \n",
       "                ENSG00000118680 ENSG00000177426\n",
       "ENSG00000079134 -0.10781703     -0.007772298   \n",
       "ENSG00000158270 -0.07419352      0.056954716   \n",
       "ENSG00000176890 -0.04554801     -0.075751358   \n",
       "ENSG00000176105  0.03506153      0.103447248   \n",
       "ENSG00000080986  0.05234749     -0.068280422   \n",
       "ENSG00000132205 -0.05369115      0.057888750   "
      ]
     },
     "metadata": {},
     "output_type": "display_data"
    },
    {
     "data": {
      "text/html": [
       "<table class=\"dataframe\">\n",
       "<caption>A data.frame: 6 × 10</caption>\n",
       "<thead>\n",
       "\t<tr><th></th><th scope=col>ENSG00000079134</th><th scope=col>ENSG00000158270</th><th scope=col>ENSG00000176890</th><th scope=col>ENSG00000176105</th><th scope=col>ENSG00000080986</th><th scope=col>ENSG00000132205</th><th scope=col>ENSG00000101577</th><th scope=col>ENSG00000101608</th><th scope=col>ENSG00000118680</th><th scope=col>ENSG00000177426</th></tr>\n",
       "\t<tr><th></th><th scope=col>&lt;dbl&gt;</th><th scope=col>&lt;dbl&gt;</th><th scope=col>&lt;dbl&gt;</th><th scope=col>&lt;dbl&gt;</th><th scope=col>&lt;dbl&gt;</th><th scope=col>&lt;dbl&gt;</th><th scope=col>&lt;dbl&gt;</th><th scope=col>&lt;dbl&gt;</th><th scope=col>&lt;dbl&gt;</th><th scope=col>&lt;dbl&gt;</th></tr>\n",
       "</thead>\n",
       "<tbody>\n",
       "\t<tr><th scope=row>ENSG00000079134</th><td> 1.000000000</td><td> 0.019921166</td><td> 0.002044198</td><td> 0.034818418</td><td>-0.007736931</td><td> 0.002405562</td><td>-0.053949950</td><td> 0.07133247</td><td>-0.076877189</td><td> 0.006152469</td></tr>\n",
       "\t<tr><th scope=row>ENSG00000158270</th><td> 0.019921166</td><td> 1.000000000</td><td>-0.032053568</td><td>-0.002466983</td><td>-0.017982980</td><td>-0.006265369</td><td>-0.018098512</td><td> 0.02964970</td><td>-0.027749594</td><td> 0.021922666</td></tr>\n",
       "\t<tr><th scope=row>ENSG00000176890</th><td> 0.002044198</td><td>-0.032053568</td><td> 1.000000000</td><td> 0.066465937</td><td> 0.033722487</td><td> 0.022039829</td><td> 0.002635233</td><td> 0.01462445</td><td>-0.007495534</td><td>-0.017117671</td></tr>\n",
       "\t<tr><th scope=row>ENSG00000176105</th><td> 0.034818418</td><td>-0.002466983</td><td> 0.066465937</td><td> 1.000000000</td><td> 0.026554965</td><td> 0.016105815</td><td> 0.001061563</td><td> 0.06343425</td><td>-0.009814547</td><td> 0.047078130</td></tr>\n",
       "\t<tr><th scope=row>ENSG00000080986</th><td>-0.007736931</td><td>-0.017982980</td><td> 0.033722487</td><td> 0.026554965</td><td> 1.000000000</td><td>-0.042706197</td><td> 0.020050205</td><td>-0.03952233</td><td> 0.025227840</td><td>-0.033197751</td></tr>\n",
       "\t<tr><th scope=row>ENSG00000132205</th><td> 0.002405562</td><td>-0.006265369</td><td> 0.022039829</td><td> 0.016105815</td><td>-0.042706197</td><td> 1.000000000</td><td> 0.005561773</td><td> 0.04821691</td><td>-0.025189470</td><td> 0.011938973</td></tr>\n",
       "</tbody>\n",
       "</table>\n"
      ],
      "text/latex": [
       "A data.frame: 6 × 10\n",
       "\\begin{tabular}{r|llllllllll}\n",
       "  & ENSG00000079134 & ENSG00000158270 & ENSG00000176890 & ENSG00000176105 & ENSG00000080986 & ENSG00000132205 & ENSG00000101577 & ENSG00000101608 & ENSG00000118680 & ENSG00000177426\\\\\n",
       "  & <dbl> & <dbl> & <dbl> & <dbl> & <dbl> & <dbl> & <dbl> & <dbl> & <dbl> & <dbl>\\\\\n",
       "\\hline\n",
       "\tENSG00000079134 &  1.000000000 &  0.019921166 &  0.002044198 &  0.034818418 & -0.007736931 &  0.002405562 & -0.053949950 &  0.07133247 & -0.076877189 &  0.006152469\\\\\n",
       "\tENSG00000158270 &  0.019921166 &  1.000000000 & -0.032053568 & -0.002466983 & -0.017982980 & -0.006265369 & -0.018098512 &  0.02964970 & -0.027749594 &  0.021922666\\\\\n",
       "\tENSG00000176890 &  0.002044198 & -0.032053568 &  1.000000000 &  0.066465937 &  0.033722487 &  0.022039829 &  0.002635233 &  0.01462445 & -0.007495534 & -0.017117671\\\\\n",
       "\tENSG00000176105 &  0.034818418 & -0.002466983 &  0.066465937 &  1.000000000 &  0.026554965 &  0.016105815 &  0.001061563 &  0.06343425 & -0.009814547 &  0.047078130\\\\\n",
       "\tENSG00000080986 & -0.007736931 & -0.017982980 &  0.033722487 &  0.026554965 &  1.000000000 & -0.042706197 &  0.020050205 & -0.03952233 &  0.025227840 & -0.033197751\\\\\n",
       "\tENSG00000132205 &  0.002405562 & -0.006265369 &  0.022039829 &  0.016105815 & -0.042706197 &  1.000000000 &  0.005561773 &  0.04821691 & -0.025189470 &  0.011938973\\\\\n",
       "\\end{tabular}\n"
      ],
      "text/markdown": [
       "\n",
       "A data.frame: 6 × 10\n",
       "\n",
       "| <!--/--> | ENSG00000079134 &lt;dbl&gt; | ENSG00000158270 &lt;dbl&gt; | ENSG00000176890 &lt;dbl&gt; | ENSG00000176105 &lt;dbl&gt; | ENSG00000080986 &lt;dbl&gt; | ENSG00000132205 &lt;dbl&gt; | ENSG00000101577 &lt;dbl&gt; | ENSG00000101608 &lt;dbl&gt; | ENSG00000118680 &lt;dbl&gt; | ENSG00000177426 &lt;dbl&gt; |\n",
       "|---|---|---|---|---|---|---|---|---|---|---|\n",
       "| ENSG00000079134 |  1.000000000 |  0.019921166 |  0.002044198 |  0.034818418 | -0.007736931 |  0.002405562 | -0.053949950 |  0.07133247 | -0.076877189 |  0.006152469 |\n",
       "| ENSG00000158270 |  0.019921166 |  1.000000000 | -0.032053568 | -0.002466983 | -0.017982980 | -0.006265369 | -0.018098512 |  0.02964970 | -0.027749594 |  0.021922666 |\n",
       "| ENSG00000176890 |  0.002044198 | -0.032053568 |  1.000000000 |  0.066465937 |  0.033722487 |  0.022039829 |  0.002635233 |  0.01462445 | -0.007495534 | -0.017117671 |\n",
       "| ENSG00000176105 |  0.034818418 | -0.002466983 |  0.066465937 |  1.000000000 |  0.026554965 |  0.016105815 |  0.001061563 |  0.06343425 | -0.009814547 |  0.047078130 |\n",
       "| ENSG00000080986 | -0.007736931 | -0.017982980 |  0.033722487 |  0.026554965 |  1.000000000 | -0.042706197 |  0.020050205 | -0.03952233 |  0.025227840 | -0.033197751 |\n",
       "| ENSG00000132205 |  0.002405562 | -0.006265369 |  0.022039829 |  0.016105815 | -0.042706197 |  1.000000000 |  0.005561773 |  0.04821691 | -0.025189470 |  0.011938973 |\n",
       "\n"
      ],
      "text/plain": [
       "                ENSG00000079134 ENSG00000158270 ENSG00000176890 ENSG00000176105\n",
       "ENSG00000079134  1.000000000     0.019921166     0.002044198     0.034818418   \n",
       "ENSG00000158270  0.019921166     1.000000000    -0.032053568    -0.002466983   \n",
       "ENSG00000176890  0.002044198    -0.032053568     1.000000000     0.066465937   \n",
       "ENSG00000176105  0.034818418    -0.002466983     0.066465937     1.000000000   \n",
       "ENSG00000080986 -0.007736931    -0.017982980     0.033722487     0.026554965   \n",
       "ENSG00000132205  0.002405562    -0.006265369     0.022039829     0.016105815   \n",
       "                ENSG00000080986 ENSG00000132205 ENSG00000101577 ENSG00000101608\n",
       "ENSG00000079134 -0.007736931     0.002405562    -0.053949950     0.07133247    \n",
       "ENSG00000158270 -0.017982980    -0.006265369    -0.018098512     0.02964970    \n",
       "ENSG00000176890  0.033722487     0.022039829     0.002635233     0.01462445    \n",
       "ENSG00000176105  0.026554965     0.016105815     0.001061563     0.06343425    \n",
       "ENSG00000080986  1.000000000    -0.042706197     0.020050205    -0.03952233    \n",
       "ENSG00000132205 -0.042706197     1.000000000     0.005561773     0.04821691    \n",
       "                ENSG00000118680 ENSG00000177426\n",
       "ENSG00000079134 -0.076877189     0.006152469   \n",
       "ENSG00000158270 -0.027749594     0.021922666   \n",
       "ENSG00000176890 -0.007495534    -0.017117671   \n",
       "ENSG00000176105 -0.009814547     0.047078130   \n",
       "ENSG00000080986  0.025227840    -0.033197751   \n",
       "ENSG00000132205 -0.025189470     0.011938973   "
      ]
     },
     "metadata": {},
     "output_type": "display_data"
    }
   ],
   "source": [
    "# quick and visual comparison of the two matrices\n",
    "IRdisplay::display(head(gene_corrs[1:10, 1:10]))\n",
    "IRdisplay::display(head(gene_corrs_corrected[1:10, 1:10]))"
   ]
  },
  {
   "cell_type": "markdown",
   "id": "c6c40f1a-d153-475a-94eb-c71697ad9d51",
   "metadata": {
    "papermill": {
     "duration": 0.020067,
     "end_time": "2022-06-18T11:50:38.020320",
     "exception": false,
     "start_time": "2022-06-18T11:50:38.000253",
     "status": "completed"
    },
    "tags": []
   },
   "source": [
    "Both matrices should \"look\" similar. We are not interested in perfectly accurate correlation values (they are already inaccurate)."
   ]
  },
  {
   "cell_type": "markdown",
   "id": "bf0f49cb-9c21-4616-8390-bb68d52dae56",
   "metadata": {
    "papermill": {
     "duration": 0.008581,
     "end_time": "2022-06-18T11:50:38.037710",
     "exception": false,
     "start_time": "2022-06-18T11:50:38.029129",
     "status": "completed"
    },
    "tags": []
   },
   "source": [
    "# Save"
   ]
  },
  {
   "cell_type": "code",
   "execution_count": 31,
   "id": "2e58e7f3-a75c-4195-a20e-39e3e3e1cc9a",
   "metadata": {
    "execution": {
     "iopub.execute_input": "2022-06-18T11:50:38.056590Z",
     "iopub.status.busy": "2022-06-18T11:50:38.055514Z",
     "iopub.status.idle": "2022-06-18T11:50:38.073208Z",
     "shell.execute_reply": "2022-06-18T11:50:38.071930Z"
    },
    "papermill": {
     "duration": 0.028931,
     "end_time": "2022-06-18T11:50:38.074993",
     "exception": false,
     "start_time": "2022-06-18T11:50:38.046062",
     "status": "completed"
    },
    "tags": []
   },
   "outputs": [],
   "source": [
    "py_save_object(gene_corrs_corrected, OUTPUT_FILE)"
   ]
  },
  {
   "cell_type": "code",
   "execution_count": null,
   "id": "d8ae4220-2171-460c-9231-cd5219f3fe77",
   "metadata": {
    "papermill": {
     "duration": 0.007828,
     "end_time": "2022-06-18T11:50:38.091012",
     "exception": false,
     "start_time": "2022-06-18T11:50:38.083184",
     "status": "completed"
    },
    "tags": []
   },
   "outputs": [],
   "source": []
  }
 ],
 "metadata": {
  "jupytext": {
   "cell_metadata_filter": "all,-execution,-papermill,-trusted"
  },
  "kernelspec": {
   "display_name": "R",
   "language": "R",
   "name": "ir"
  },
  "language_info": {
   "codemirror_mode": "r",
   "file_extension": ".r",
   "mimetype": "text/x-r-source",
   "name": "R",
   "pygments_lexer": "r",
   "version": "3.6.3"
  },
  "papermill": {
   "default_parameters": {},
   "duration": 6.109005,
   "end_time": "2022-06-18T11:50:38.215456",
   "environment_variables": {},
   "exception": null,
   "input_path": "nbs/15_gsa_gls/12-gene_expr_correlations-adjust.ipynb",
   "output_path": "nbs/15_gsa_gls/gene_corrs/gtex_v8/mashr/12-gene_expr_correlations-adjust-chr18.run.ipynb",
   "parameters": {
    "EQTL_MODEL": "MASHR",
    "REFERENCE_PANEL": "GTEX_V8",
    "chromosome": 18
   },
   "start_time": "2022-06-18T11:50:32.106451",
   "version": "2.3.4"
  }
 },
 "nbformat": 4,
 "nbformat_minor": 5
}
