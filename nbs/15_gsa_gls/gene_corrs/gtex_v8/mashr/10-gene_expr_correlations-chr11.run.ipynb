{
 "cells": [
  {
   "cell_type": "markdown",
   "id": "7a6632fb",
   "metadata": {
    "papermill": {
     "duration": 0.007868,
     "end_time": "2022-06-16T10:19:10.169381",
     "exception": false,
     "start_time": "2022-06-16T10:19:10.161513",
     "status": "completed"
    },
    "tags": []
   },
   "source": [
    "# Description"
   ]
  },
  {
   "cell_type": "markdown",
   "id": "7097c346",
   "metadata": {
    "papermill": {
     "duration": 0.007082,
     "end_time": "2022-06-16T10:19:10.183596",
     "exception": false,
     "start_time": "2022-06-16T10:19:10.176514",
     "status": "completed"
    },
    "tags": []
   },
   "source": [
    "(Please, take a look at the README.md file in this directory for instructions on how to run this notebook)\n",
    "\n",
    "This notebook computes predicted expression correlations between all genes in the MultiPLIER models.\n",
    "\n",
    "It also has a parameter set for papermill to run on a single chromosome to run in parallel (see under `Settings` below).\n",
    "\n",
    "This notebook is not directly run. See README.md."
   ]
  },
  {
   "cell_type": "markdown",
   "id": "c61d8427",
   "metadata": {
    "papermill": {
     "duration": 0.006994,
     "end_time": "2022-06-16T10:19:10.197397",
     "exception": false,
     "start_time": "2022-06-16T10:19:10.190403",
     "status": "completed"
    },
    "tags": []
   },
   "source": [
    "# Modules"
   ]
  },
  {
   "cell_type": "code",
   "execution_count": 1,
   "id": "bbc0234f",
   "metadata": {
    "execution": {
     "iopub.execute_input": "2022-06-16T10:19:10.211666Z",
     "iopub.status.busy": "2022-06-16T10:19:10.211432Z",
     "iopub.status.idle": "2022-06-16T10:19:10.230711Z",
     "shell.execute_reply": "2022-06-16T10:19:10.230222Z"
    },
    "papermill": {
     "duration": 0.028604,
     "end_time": "2022-06-16T10:19:10.232584",
     "exception": false,
     "start_time": "2022-06-16T10:19:10.203980",
     "status": "completed"
    },
    "tags": []
   },
   "outputs": [],
   "source": [
    "%load_ext autoreload\n",
    "%autoreload 2"
   ]
  },
  {
   "cell_type": "code",
   "execution_count": 2,
   "id": "1d5f5a59",
   "metadata": {
    "execution": {
     "iopub.execute_input": "2022-06-16T10:19:10.247238Z",
     "iopub.status.busy": "2022-06-16T10:19:10.247052Z",
     "iopub.status.idle": "2022-06-16T10:19:11.267062Z",
     "shell.execute_reply": "2022-06-16T10:19:11.266428Z"
    },
    "papermill": {
     "duration": 1.029275,
     "end_time": "2022-06-16T10:19:11.268618",
     "exception": false,
     "start_time": "2022-06-16T10:19:10.239343",
     "status": "completed"
    },
    "tags": []
   },
   "outputs": [],
   "source": [
    "from random import sample\n",
    "import warnings\n",
    "\n",
    "import numpy as np\n",
    "from scipy.spatial.distance import squareform\n",
    "import pandas as pd\n",
    "from tqdm import tqdm\n",
    "import matplotlib.pyplot as plt\n",
    "import seaborn as sns\n",
    "\n",
    "import conf\n",
    "from entity import Gene"
   ]
  },
  {
   "cell_type": "markdown",
   "id": "1eac24b5",
   "metadata": {
    "papermill": {
     "duration": 0.00627,
     "end_time": "2022-06-16T10:19:11.311302",
     "exception": false,
     "start_time": "2022-06-16T10:19:11.305032",
     "status": "completed"
    },
    "tags": []
   },
   "source": [
    "# Settings"
   ]
  },
  {
   "cell_type": "code",
   "execution_count": 3,
   "id": "ca4560ba",
   "metadata": {
    "execution": {
     "iopub.execute_input": "2022-06-16T10:19:11.325146Z",
     "iopub.status.busy": "2022-06-16T10:19:11.324945Z",
     "iopub.status.idle": "2022-06-16T10:19:11.342371Z",
     "shell.execute_reply": "2022-06-16T10:19:11.341718Z"
    },
    "papermill": {
     "duration": 0.026437,
     "end_time": "2022-06-16T10:19:11.344178",
     "exception": false,
     "start_time": "2022-06-16T10:19:11.317741",
     "status": "completed"
    },
    "tags": [
     "parameters"
    ]
   },
   "outputs": [],
   "source": [
    "# reference panel\n",
    "REFERENCE_PANEL = \"GTEX_V8\"\n",
    "# REFERENCE_PANEL = \"1000G\"\n",
    "\n",
    "# prediction models\n",
    "## mashr\n",
    "EQTL_MODEL = \"MASHR\"\n",
    "EQTL_MODEL_FILES_PREFIX = \"mashr_\"\n",
    "\n",
    "# ## elastic net\n",
    "# EQTL_MODEL = \"ELASTIC_NET\"\n",
    "# EQTL_MODEL_FILES_PREFIX = \"en_\"\n",
    "\n",
    "# make it read the prefix from conf.py\n",
    "EQTL_MODEL_FILES_PREFIX = None\n",
    "\n",
    "# this is the default value used in S-MultiXcan to select the\n",
    "# top principal components of the expression correlation matrix\n",
    "SMULTIXCAN_CONDITION_NUMBER = 30\n",
    "\n",
    "# specifies a single chromosome value\n",
    "# by default, run on all chromosomes\n",
    "chromosome = None"
   ]
  },
  {
   "cell_type": "code",
   "execution_count": 4,
   "id": "48e12b8e",
   "metadata": {
    "execution": {
     "iopub.execute_input": "2022-06-16T10:19:11.357998Z",
     "iopub.status.busy": "2022-06-16T10:19:11.357795Z",
     "iopub.status.idle": "2022-06-16T10:19:11.374643Z",
     "shell.execute_reply": "2022-06-16T10:19:11.374042Z"
    },
    "papermill": {
     "duration": 0.025609,
     "end_time": "2022-06-16T10:19:11.376236",
     "exception": false,
     "start_time": "2022-06-16T10:19:11.350627",
     "status": "completed"
    },
    "tags": [
     "injected-parameters"
    ]
   },
   "outputs": [],
   "source": [
    "# Parameters\n",
    "chromosome = 11\n",
    "REFERENCE_PANEL = \"GTEX_V8\"\n",
    "EQTL_MODEL = \"MASHR\"\n"
   ]
  },
  {
   "cell_type": "code",
   "execution_count": 5,
   "id": "a089c9ff",
   "metadata": {
    "execution": {
     "iopub.execute_input": "2022-06-16T10:19:11.390029Z",
     "iopub.status.busy": "2022-06-16T10:19:11.389517Z",
     "iopub.status.idle": "2022-06-16T10:19:11.406054Z",
     "shell.execute_reply": "2022-06-16T10:19:11.405404Z"
    },
    "papermill": {
     "duration": 0.025001,
     "end_time": "2022-06-16T10:19:11.407579",
     "exception": false,
     "start_time": "2022-06-16T10:19:11.382578",
     "status": "completed"
    },
    "tags": []
   },
   "outputs": [],
   "source": [
    "if EQTL_MODEL_FILES_PREFIX is None:\n",
    "    EQTL_MODEL_FILES_PREFIX = conf.PHENOMEXCAN[\"PREDICTION_MODELS\"][\n",
    "        f\"{EQTL_MODEL}_PREFIX\"\n",
    "    ]"
   ]
  },
  {
   "cell_type": "code",
   "execution_count": 6,
   "id": "8fe24bef",
   "metadata": {
    "execution": {
     "iopub.execute_input": "2022-06-16T10:19:11.421265Z",
     "iopub.status.busy": "2022-06-16T10:19:11.420693Z",
     "iopub.status.idle": "2022-06-16T10:19:11.440762Z",
     "shell.execute_reply": "2022-06-16T10:19:11.440101Z"
    },
    "papermill": {
     "duration": 0.028576,
     "end_time": "2022-06-16T10:19:11.442399",
     "exception": false,
     "start_time": "2022-06-16T10:19:11.413823",
     "status": "completed"
    },
    "tags": []
   },
   "outputs": [
    {
     "data": {
      "text/plain": [
       "'Using eQTL model: MASHR / mashr_'"
      ]
     },
     "metadata": {},
     "output_type": "display_data"
    }
   ],
   "source": [
    "display(f\"Using eQTL model: {EQTL_MODEL} / {EQTL_MODEL_FILES_PREFIX}\")"
   ]
  },
  {
   "cell_type": "code",
   "execution_count": 7,
   "id": "0230ebcb-2c32-4b95-9292-d9a52038e70d",
   "metadata": {
    "execution": {
     "iopub.execute_input": "2022-06-16T10:19:11.456245Z",
     "iopub.status.busy": "2022-06-16T10:19:11.456034Z",
     "iopub.status.idle": "2022-06-16T10:19:11.472464Z",
     "shell.execute_reply": "2022-06-16T10:19:11.471861Z"
    },
    "papermill": {
     "duration": 0.025221,
     "end_time": "2022-06-16T10:19:11.474029",
     "exception": false,
     "start_time": "2022-06-16T10:19:11.448808",
     "status": "completed"
    },
    "tags": []
   },
   "outputs": [],
   "source": [
    "REFERENCE_PANEL_DIR = conf.PHENOMEXCAN[\"LD_BLOCKS\"][f\"{REFERENCE_PANEL}_GENOTYPE_DIR\"]"
   ]
  },
  {
   "cell_type": "code",
   "execution_count": 8,
   "id": "98c4a159-601d-4a22-a1ab-35bd451c25f9",
   "metadata": {
    "execution": {
     "iopub.execute_input": "2022-06-16T10:19:11.487724Z",
     "iopub.status.busy": "2022-06-16T10:19:11.487220Z",
     "iopub.status.idle": "2022-06-16T10:19:11.505079Z",
     "shell.execute_reply": "2022-06-16T10:19:11.504526Z"
    },
    "papermill": {
     "duration": 0.026365,
     "end_time": "2022-06-16T10:19:11.506691",
     "exception": false,
     "start_time": "2022-06-16T10:19:11.480326",
     "status": "completed"
    },
    "tags": []
   },
   "outputs": [
    {
     "data": {
      "text/plain": [
       "'Using reference panel folder: /opt/data/data/phenomexcan/ld_blocks/reference_panel_gtex_v8'"
      ]
     },
     "metadata": {},
     "output_type": "display_data"
    }
   ],
   "source": [
    "display(f\"Using reference panel folder: {str(REFERENCE_PANEL_DIR)}\")"
   ]
  },
  {
   "cell_type": "code",
   "execution_count": 9,
   "id": "396392dc-0340-4540-9b02-e182b833f909",
   "metadata": {
    "execution": {
     "iopub.execute_input": "2022-06-16T10:19:11.520464Z",
     "iopub.status.busy": "2022-06-16T10:19:11.520115Z",
     "iopub.status.idle": "2022-06-16T10:19:11.536848Z",
     "shell.execute_reply": "2022-06-16T10:19:11.536261Z"
    },
    "papermill": {
     "duration": 0.025265,
     "end_time": "2022-06-16T10:19:11.538374",
     "exception": false,
     "start_time": "2022-06-16T10:19:11.513109",
     "status": "completed"
    },
    "tags": []
   },
   "outputs": [],
   "source": [
    "OUTPUT_DIR_BASE = (\n",
    "    conf.PHENOMEXCAN[\"LD_BLOCKS\"][f\"GENE_CORRS_DIR\"]\n",
    "    / REFERENCE_PANEL.lower()\n",
    "    / EQTL_MODEL.lower()\n",
    ")\n",
    "OUTPUT_DIR_BASE.mkdir(parents=True, exist_ok=True)"
   ]
  },
  {
   "cell_type": "code",
   "execution_count": 10,
   "id": "8942c2d3-e53c-4d63-a0eb-b6fce0574d36",
   "metadata": {
    "execution": {
     "iopub.execute_input": "2022-06-16T10:19:11.566970Z",
     "iopub.status.busy": "2022-06-16T10:19:11.566477Z",
     "iopub.status.idle": "2022-06-16T10:19:11.584174Z",
     "shell.execute_reply": "2022-06-16T10:19:11.583556Z"
    },
    "papermill": {
     "duration": 0.026009,
     "end_time": "2022-06-16T10:19:11.585644",
     "exception": false,
     "start_time": "2022-06-16T10:19:11.559635",
     "status": "completed"
    },
    "tags": []
   },
   "outputs": [
    {
     "data": {
      "text/plain": [
       "'Using output dir base: /opt/data/data/phenomexcan/ld_blocks/gene_corrs/gtex_v8/mashr'"
      ]
     },
     "metadata": {},
     "output_type": "display_data"
    }
   ],
   "source": [
    "display(f\"Using output dir base: {OUTPUT_DIR_BASE}\")"
   ]
  },
  {
   "cell_type": "code",
   "execution_count": 11,
   "id": "408aa590",
   "metadata": {
    "execution": {
     "iopub.execute_input": "2022-06-16T10:19:11.599744Z",
     "iopub.status.busy": "2022-06-16T10:19:11.599224Z",
     "iopub.status.idle": "2022-06-16T10:19:11.615086Z",
     "shell.execute_reply": "2022-06-16T10:19:11.614478Z"
    },
    "papermill": {
     "duration": 0.024468,
     "end_time": "2022-06-16T10:19:11.616564",
     "exception": false,
     "start_time": "2022-06-16T10:19:11.592096",
     "status": "completed"
    },
    "tags": []
   },
   "outputs": [],
   "source": [
    "assert (\n",
    "    chromosome is not None\n",
    "), \"You have to select one chromosome (format: number between 1 and 22)\""
   ]
  },
  {
   "cell_type": "code",
   "execution_count": 12,
   "id": "c1c7dd06-80ff-453c-bcb7-0899edce75da",
   "metadata": {
    "execution": {
     "iopub.execute_input": "2022-06-16T10:19:11.630734Z",
     "iopub.status.busy": "2022-06-16T10:19:11.630236Z",
     "iopub.status.idle": "2022-06-16T10:19:11.645965Z",
     "shell.execute_reply": "2022-06-16T10:19:11.645371Z"
    },
    "papermill": {
     "duration": 0.024395,
     "end_time": "2022-06-16T10:19:11.647515",
     "exception": false,
     "start_time": "2022-06-16T10:19:11.623120",
     "status": "completed"
    },
    "tags": []
   },
   "outputs": [],
   "source": [
    "chromosome = str(chromosome)"
   ]
  },
  {
   "cell_type": "code",
   "execution_count": 13,
   "id": "bc17b84c-9c26-47a5-a3ab-7046e72f3ef4",
   "metadata": {
    "execution": {
     "iopub.execute_input": "2022-06-16T10:19:11.661790Z",
     "iopub.status.busy": "2022-06-16T10:19:11.661250Z",
     "iopub.status.idle": "2022-06-16T10:19:11.677743Z",
     "shell.execute_reply": "2022-06-16T10:19:11.677229Z"
    },
    "papermill": {
     "duration": 0.025139,
     "end_time": "2022-06-16T10:19:11.679205",
     "exception": false,
     "start_time": "2022-06-16T10:19:11.654066",
     "status": "completed"
    },
    "tags": []
   },
   "outputs": [
    {
     "data": {
      "text/plain": [
       "'Working on chromosome 11'"
      ]
     },
     "metadata": {},
     "output_type": "display_data"
    }
   ],
   "source": [
    "display(f\"Working on chromosome {chromosome}\")"
   ]
  },
  {
   "cell_type": "markdown",
   "id": "d2ba085e",
   "metadata": {
    "papermill": {
     "duration": 0.006373,
     "end_time": "2022-06-16T10:19:11.692281",
     "exception": false,
     "start_time": "2022-06-16T10:19:11.685908",
     "status": "completed"
    },
    "tags": []
   },
   "source": [
    "# Load data"
   ]
  },
  {
   "cell_type": "markdown",
   "id": "abcc4b3d",
   "metadata": {
    "papermill": {
     "duration": 0.006308,
     "end_time": "2022-06-16T10:19:11.705148",
     "exception": false,
     "start_time": "2022-06-16T10:19:11.698840",
     "status": "completed"
    },
    "tags": []
   },
   "source": [
    "## MultiPLIER Z"
   ]
  },
  {
   "cell_type": "code",
   "execution_count": 14,
   "id": "c48ef527",
   "metadata": {
    "execution": {
     "iopub.execute_input": "2022-06-16T10:19:11.719215Z",
     "iopub.status.busy": "2022-06-16T10:19:11.718721Z",
     "iopub.status.idle": "2022-06-16T10:19:11.762618Z",
     "shell.execute_reply": "2022-06-16T10:19:11.762013Z"
    },
    "papermill": {
     "duration": 0.052606,
     "end_time": "2022-06-16T10:19:11.764271",
     "exception": false,
     "start_time": "2022-06-16T10:19:11.711665",
     "status": "completed"
    },
    "tags": []
   },
   "outputs": [],
   "source": [
    "multiplier_z_genes = pd.read_pickle(\n",
    "    conf.MULTIPLIER[\"MODEL_Z_MATRIX_FILE\"]\n",
    ").index.tolist()"
   ]
  },
  {
   "cell_type": "code",
   "execution_count": 15,
   "id": "0a4ecbd9",
   "metadata": {
    "execution": {
     "iopub.execute_input": "2022-06-16T10:19:11.779571Z",
     "iopub.status.busy": "2022-06-16T10:19:11.779117Z",
     "iopub.status.idle": "2022-06-16T10:19:11.797773Z",
     "shell.execute_reply": "2022-06-16T10:19:11.797109Z"
    },
    "papermill": {
     "duration": 0.02798,
     "end_time": "2022-06-16T10:19:11.799318",
     "exception": false,
     "start_time": "2022-06-16T10:19:11.771338",
     "status": "completed"
    },
    "tags": []
   },
   "outputs": [
    {
     "data": {
      "text/plain": [
       "6750"
      ]
     },
     "execution_count": 15,
     "metadata": {},
     "output_type": "execute_result"
    }
   ],
   "source": [
    "len(multiplier_z_genes)"
   ]
  },
  {
   "cell_type": "code",
   "execution_count": 16,
   "id": "115e8864",
   "metadata": {
    "execution": {
     "iopub.execute_input": "2022-06-16T10:19:11.814322Z",
     "iopub.status.busy": "2022-06-16T10:19:11.813835Z",
     "iopub.status.idle": "2022-06-16T10:19:11.832266Z",
     "shell.execute_reply": "2022-06-16T10:19:11.831649Z"
    },
    "papermill": {
     "duration": 0.027544,
     "end_time": "2022-06-16T10:19:11.833798",
     "exception": false,
     "start_time": "2022-06-16T10:19:11.806254",
     "status": "completed"
    },
    "tags": []
   },
   "outputs": [
    {
     "data": {
      "text/plain": [
       "['GAS6',\n",
       " 'MMP14',\n",
       " 'DSP',\n",
       " 'MARCKSL1',\n",
       " 'SPARC',\n",
       " 'CTSD',\n",
       " 'EPAS1',\n",
       " 'PALLD',\n",
       " 'PHC2',\n",
       " 'LGALS3BP']"
      ]
     },
     "execution_count": 16,
     "metadata": {},
     "output_type": "execute_result"
    }
   ],
   "source": [
    "multiplier_z_genes[:10]"
   ]
  },
  {
   "cell_type": "markdown",
   "id": "7dcb8db7",
   "metadata": {
    "papermill": {
     "duration": 0.006773,
     "end_time": "2022-06-16T10:19:11.847725",
     "exception": false,
     "start_time": "2022-06-16T10:19:11.840952",
     "status": "completed"
    },
    "tags": []
   },
   "source": [
    "## Get gene objects"
   ]
  },
  {
   "cell_type": "code",
   "execution_count": 17,
   "id": "bb932812",
   "metadata": {
    "execution": {
     "iopub.execute_input": "2022-06-16T10:19:11.862607Z",
     "iopub.status.busy": "2022-06-16T10:19:11.862096Z",
     "iopub.status.idle": "2022-06-16T10:19:11.885871Z",
     "shell.execute_reply": "2022-06-16T10:19:11.885231Z"
    },
    "papermill": {
     "duration": 0.032822,
     "end_time": "2022-06-16T10:19:11.887360",
     "exception": false,
     "start_time": "2022-06-16T10:19:11.854538",
     "status": "completed"
    },
    "tags": []
   },
   "outputs": [],
   "source": [
    "multiplier_gene_obj = {\n",
    "    gene_name: Gene(name=gene_name)\n",
    "    for gene_name in multiplier_z_genes\n",
    "    if gene_name in Gene.GENE_NAME_TO_ID_MAP\n",
    "}"
   ]
  },
  {
   "cell_type": "code",
   "execution_count": 18,
   "id": "39533214",
   "metadata": {
    "execution": {
     "iopub.execute_input": "2022-06-16T10:19:11.902551Z",
     "iopub.status.busy": "2022-06-16T10:19:11.902051Z",
     "iopub.status.idle": "2022-06-16T10:19:11.919917Z",
     "shell.execute_reply": "2022-06-16T10:19:11.919348Z"
    },
    "papermill": {
     "duration": 0.027107,
     "end_time": "2022-06-16T10:19:11.921555",
     "exception": false,
     "start_time": "2022-06-16T10:19:11.894448",
     "status": "completed"
    },
    "tags": []
   },
   "outputs": [
    {
     "data": {
      "text/plain": [
       "6454"
      ]
     },
     "execution_count": 18,
     "metadata": {},
     "output_type": "execute_result"
    }
   ],
   "source": [
    "len(multiplier_gene_obj)"
   ]
  },
  {
   "cell_type": "code",
   "execution_count": 19,
   "id": "9a5d0b84",
   "metadata": {
    "execution": {
     "iopub.execute_input": "2022-06-16T10:19:11.936885Z",
     "iopub.status.busy": "2022-06-16T10:19:11.936296Z",
     "iopub.status.idle": "2022-06-16T10:19:11.954407Z",
     "shell.execute_reply": "2022-06-16T10:19:11.953786Z"
    },
    "papermill": {
     "duration": 0.027289,
     "end_time": "2022-06-16T10:19:11.955933",
     "exception": false,
     "start_time": "2022-06-16T10:19:11.928644",
     "status": "completed"
    },
    "tags": []
   },
   "outputs": [
    {
     "data": {
      "text/plain": [
       "'ENSG00000183087'"
      ]
     },
     "execution_count": 19,
     "metadata": {},
     "output_type": "execute_result"
    }
   ],
   "source": [
    "multiplier_gene_obj[\"GAS6\"].ensembl_id"
   ]
  },
  {
   "cell_type": "code",
   "execution_count": 20,
   "id": "e3ffabc7",
   "metadata": {
    "execution": {
     "iopub.execute_input": "2022-06-16T10:19:11.971490Z",
     "iopub.status.busy": "2022-06-16T10:19:11.970919Z",
     "iopub.status.idle": "2022-06-16T10:19:14.111232Z",
     "shell.execute_reply": "2022-06-16T10:19:14.110663Z"
    },
    "papermill": {
     "duration": 2.14953,
     "end_time": "2022-06-16T10:19:14.112665",
     "exception": false,
     "start_time": "2022-06-16T10:19:11.963135",
     "status": "completed"
    },
    "tags": []
   },
   "outputs": [],
   "source": [
    "_gene_obj = list(multiplier_gene_obj.values())\n",
    "\n",
    "genes_info = pd.DataFrame(\n",
    "    {\n",
    "        \"name\": [g.name for g in _gene_obj],\n",
    "        \"id\": [g.ensembl_id for g in _gene_obj],\n",
    "        \"chr\": [g.chromosome for g in _gene_obj],\n",
    "        \"band\": [g.band for g in _gene_obj],\n",
    "        \"start_position\": [g.get_attribute(\"start_position\") for g in _gene_obj],\n",
    "    }\n",
    ")"
   ]
  },
  {
   "cell_type": "code",
   "execution_count": 21,
   "id": "e23519b8",
   "metadata": {
    "execution": {
     "iopub.execute_input": "2022-06-16T10:19:14.126984Z",
     "iopub.status.busy": "2022-06-16T10:19:14.126808Z",
     "iopub.status.idle": "2022-06-16T10:19:14.144081Z",
     "shell.execute_reply": "2022-06-16T10:19:14.143506Z"
    },
    "papermill": {
     "duration": 0.0261,
     "end_time": "2022-06-16T10:19:14.145534",
     "exception": false,
     "start_time": "2022-06-16T10:19:14.119434",
     "status": "completed"
    },
    "tags": []
   },
   "outputs": [
    {
     "data": {
      "text/plain": [
       "(6454, 5)"
      ]
     },
     "execution_count": 21,
     "metadata": {},
     "output_type": "execute_result"
    }
   ],
   "source": [
    "genes_info.shape"
   ]
  },
  {
   "cell_type": "code",
   "execution_count": 22,
   "id": "0d71881c",
   "metadata": {
    "execution": {
     "iopub.execute_input": "2022-06-16T10:19:14.160753Z",
     "iopub.status.busy": "2022-06-16T10:19:14.160565Z",
     "iopub.status.idle": "2022-06-16T10:19:14.184166Z",
     "shell.execute_reply": "2022-06-16T10:19:14.183568Z"
    },
    "papermill": {
     "duration": 0.032907,
     "end_time": "2022-06-16T10:19:14.185656",
     "exception": false,
     "start_time": "2022-06-16T10:19:14.152749",
     "status": "completed"
    },
    "tags": []
   },
   "outputs": [
    {
     "data": {
      "text/html": [
       "<div>\n",
       "<style scoped>\n",
       "    .dataframe tbody tr th:only-of-type {\n",
       "        vertical-align: middle;\n",
       "    }\n",
       "\n",
       "    .dataframe tbody tr th {\n",
       "        vertical-align: top;\n",
       "    }\n",
       "\n",
       "    .dataframe thead th {\n",
       "        text-align: right;\n",
       "    }\n",
       "</style>\n",
       "<table border=\"1\" class=\"dataframe\">\n",
       "  <thead>\n",
       "    <tr style=\"text-align: right;\">\n",
       "      <th></th>\n",
       "      <th>name</th>\n",
       "      <th>id</th>\n",
       "      <th>chr</th>\n",
       "      <th>band</th>\n",
       "      <th>start_position</th>\n",
       "    </tr>\n",
       "  </thead>\n",
       "  <tbody>\n",
       "    <tr>\n",
       "      <th>0</th>\n",
       "      <td>GAS6</td>\n",
       "      <td>ENSG00000183087</td>\n",
       "      <td>13</td>\n",
       "      <td>13q34</td>\n",
       "      <td>113820549.0</td>\n",
       "    </tr>\n",
       "    <tr>\n",
       "      <th>1</th>\n",
       "      <td>MMP14</td>\n",
       "      <td>ENSG00000157227</td>\n",
       "      <td>14</td>\n",
       "      <td>14q11.2</td>\n",
       "      <td>22836560.0</td>\n",
       "    </tr>\n",
       "    <tr>\n",
       "      <th>2</th>\n",
       "      <td>DSP</td>\n",
       "      <td>ENSG00000096696</td>\n",
       "      <td>6</td>\n",
       "      <td>6p24.3</td>\n",
       "      <td>7541617.0</td>\n",
       "    </tr>\n",
       "    <tr>\n",
       "      <th>3</th>\n",
       "      <td>MARCKSL1</td>\n",
       "      <td>ENSG00000175130</td>\n",
       "      <td>1</td>\n",
       "      <td>1p35.1</td>\n",
       "      <td>32333839.0</td>\n",
       "    </tr>\n",
       "    <tr>\n",
       "      <th>4</th>\n",
       "      <td>SPARC</td>\n",
       "      <td>ENSG00000113140</td>\n",
       "      <td>5</td>\n",
       "      <td>5q33.1</td>\n",
       "      <td>151661096.0</td>\n",
       "    </tr>\n",
       "  </tbody>\n",
       "</table>\n",
       "</div>"
      ],
      "text/plain": [
       "       name               id chr     band  start_position\n",
       "0      GAS6  ENSG00000183087  13    13q34     113820549.0\n",
       "1     MMP14  ENSG00000157227  14  14q11.2      22836560.0\n",
       "2       DSP  ENSG00000096696   6   6p24.3       7541617.0\n",
       "3  MARCKSL1  ENSG00000175130   1   1p35.1      32333839.0\n",
       "4     SPARC  ENSG00000113140   5   5q33.1     151661096.0"
      ]
     },
     "execution_count": 22,
     "metadata": {},
     "output_type": "execute_result"
    }
   ],
   "source": [
    "genes_info.head()"
   ]
  },
  {
   "cell_type": "markdown",
   "id": "8c9dbb4a",
   "metadata": {
    "papermill": {
     "duration": 0.007352,
     "end_time": "2022-06-16T10:19:14.200596",
     "exception": false,
     "start_time": "2022-06-16T10:19:14.193244",
     "status": "completed"
    },
    "tags": []
   },
   "source": [
    "## Get tissues names"
   ]
  },
  {
   "cell_type": "code",
   "execution_count": 23,
   "id": "2bc52419",
   "metadata": {
    "execution": {
     "iopub.execute_input": "2022-06-16T10:19:14.216121Z",
     "iopub.status.busy": "2022-06-16T10:19:14.215709Z",
     "iopub.status.idle": "2022-06-16T10:19:14.231715Z",
     "shell.execute_reply": "2022-06-16T10:19:14.231132Z"
    },
    "papermill": {
     "duration": 0.025321,
     "end_time": "2022-06-16T10:19:14.233193",
     "exception": false,
     "start_time": "2022-06-16T10:19:14.207872",
     "status": "completed"
    },
    "tags": []
   },
   "outputs": [],
   "source": [
    "tissues = conf.PHENOMEXCAN[\"PREDICTION_MODELS\"][f\"{EQTL_MODEL}_TISSUES\"].split(\" \")"
   ]
  },
  {
   "cell_type": "code",
   "execution_count": 24,
   "id": "64b293a1",
   "metadata": {
    "execution": {
     "iopub.execute_input": "2022-06-16T10:19:14.249217Z",
     "iopub.status.busy": "2022-06-16T10:19:14.248691Z",
     "iopub.status.idle": "2022-06-16T10:19:14.266622Z",
     "shell.execute_reply": "2022-06-16T10:19:14.266013Z"
    },
    "papermill": {
     "duration": 0.027561,
     "end_time": "2022-06-16T10:19:14.268214",
     "exception": false,
     "start_time": "2022-06-16T10:19:14.240653",
     "status": "completed"
    },
    "tags": []
   },
   "outputs": [
    {
     "data": {
      "text/plain": [
       "['Skin_Not_Sun_Exposed_Suprapubic',\n",
       " 'Cells_EBV-transformed_lymphocytes',\n",
       " 'Brain_Frontal_Cortex_BA9',\n",
       " 'Kidney_Cortex',\n",
       " 'Brain_Substantia_nigra']"
      ]
     },
     "execution_count": 24,
     "metadata": {},
     "output_type": "execute_result"
    }
   ],
   "source": [
    "tissues[:5]"
   ]
  },
  {
   "cell_type": "code",
   "execution_count": 25,
   "id": "48a7202a",
   "metadata": {
    "execution": {
     "iopub.execute_input": "2022-06-16T10:19:14.284730Z",
     "iopub.status.busy": "2022-06-16T10:19:14.284181Z",
     "iopub.status.idle": "2022-06-16T10:19:14.300065Z",
     "shell.execute_reply": "2022-06-16T10:19:14.299469Z"
    },
    "papermill": {
     "duration": 0.025718,
     "end_time": "2022-06-16T10:19:14.301691",
     "exception": false,
     "start_time": "2022-06-16T10:19:14.275973",
     "status": "completed"
    },
    "tags": []
   },
   "outputs": [],
   "source": [
    "assert len(tissues) == 49"
   ]
  },
  {
   "cell_type": "markdown",
   "id": "c8d1038f",
   "metadata": {
    "papermill": {
     "duration": 0.007209,
     "end_time": "2022-06-16T10:19:14.316473",
     "exception": false,
     "start_time": "2022-06-16T10:19:14.309264",
     "status": "completed"
    },
    "tags": []
   },
   "source": [
    "# Test"
   ]
  },
  {
   "cell_type": "code",
   "execution_count": 26,
   "id": "64993abf",
   "metadata": {
    "execution": {
     "iopub.execute_input": "2022-06-16T10:19:14.332063Z",
     "iopub.status.busy": "2022-06-16T10:19:14.331883Z",
     "iopub.status.idle": "2022-06-16T10:19:14.357536Z",
     "shell.execute_reply": "2022-06-16T10:19:14.356986Z"
    },
    "papermill": {
     "duration": 0.035199,
     "end_time": "2022-06-16T10:19:14.359030",
     "exception": false,
     "start_time": "2022-06-16T10:19:14.323831",
     "status": "completed"
    },
    "tags": []
   },
   "outputs": [
    {
     "data": {
      "text/html": [
       "<div>\n",
       "<style scoped>\n",
       "    .dataframe tbody tr th:only-of-type {\n",
       "        vertical-align: middle;\n",
       "    }\n",
       "\n",
       "    .dataframe tbody tr th {\n",
       "        vertical-align: top;\n",
       "    }\n",
       "\n",
       "    .dataframe thead th {\n",
       "        text-align: right;\n",
       "    }\n",
       "</style>\n",
       "<table border=\"1\" class=\"dataframe\">\n",
       "  <thead>\n",
       "    <tr style=\"text-align: right;\">\n",
       "      <th></th>\n",
       "      <th>name</th>\n",
       "      <th>id</th>\n",
       "      <th>chr</th>\n",
       "      <th>band</th>\n",
       "      <th>start_position</th>\n",
       "    </tr>\n",
       "  </thead>\n",
       "  <tbody>\n",
       "    <tr>\n",
       "      <th>5</th>\n",
       "      <td>CTSD</td>\n",
       "      <td>ENSG00000117984</td>\n",
       "      <td>11</td>\n",
       "      <td>11p15.5</td>\n",
       "      <td>1752755.0</td>\n",
       "    </tr>\n",
       "    <tr>\n",
       "      <th>10</th>\n",
       "      <td>SERPING1</td>\n",
       "      <td>ENSG00000149131</td>\n",
       "      <td>11</td>\n",
       "      <td>11q12.1</td>\n",
       "      <td>57597387.0</td>\n",
       "    </tr>\n",
       "    <tr>\n",
       "      <th>79</th>\n",
       "      <td>ADM</td>\n",
       "      <td>ENSG00000148926</td>\n",
       "      <td>11</td>\n",
       "      <td>11p15.4</td>\n",
       "      <td>10305073.0</td>\n",
       "    </tr>\n",
       "    <tr>\n",
       "      <th>109</th>\n",
       "      <td>FEZ1</td>\n",
       "      <td>ENSG00000149557</td>\n",
       "      <td>11</td>\n",
       "      <td>11q24.2</td>\n",
       "      <td>125442881.0</td>\n",
       "    </tr>\n",
       "    <tr>\n",
       "      <th>118</th>\n",
       "      <td>ST3GAL4</td>\n",
       "      <td>ENSG00000110080</td>\n",
       "      <td>11</td>\n",
       "      <td>11q24.2</td>\n",
       "      <td>126355640.0</td>\n",
       "    </tr>\n",
       "    <tr>\n",
       "      <th>...</th>\n",
       "      <td>...</td>\n",
       "      <td>...</td>\n",
       "      <td>...</td>\n",
       "      <td>...</td>\n",
       "      <td>...</td>\n",
       "    </tr>\n",
       "    <tr>\n",
       "      <th>6414</th>\n",
       "      <td>STT3A</td>\n",
       "      <td>ENSG00000134910</td>\n",
       "      <td>11</td>\n",
       "      <td>11q24.2</td>\n",
       "      <td>125591712.0</td>\n",
       "    </tr>\n",
       "    <tr>\n",
       "      <th>6443</th>\n",
       "      <td>LDHA</td>\n",
       "      <td>ENSG00000134333</td>\n",
       "      <td>11</td>\n",
       "      <td>11p15.1</td>\n",
       "      <td>18394560.0</td>\n",
       "    </tr>\n",
       "    <tr>\n",
       "      <th>6445</th>\n",
       "      <td>LDHC</td>\n",
       "      <td>ENSG00000166796</td>\n",
       "      <td>11</td>\n",
       "      <td>11p15.1</td>\n",
       "      <td>18412318.0</td>\n",
       "    </tr>\n",
       "    <tr>\n",
       "      <th>6449</th>\n",
       "      <td>CFL1</td>\n",
       "      <td>ENSG00000172757</td>\n",
       "      <td>11</td>\n",
       "      <td>11q13.1</td>\n",
       "      <td>65823022.0</td>\n",
       "    </tr>\n",
       "    <tr>\n",
       "      <th>6453</th>\n",
       "      <td>SERPINH1</td>\n",
       "      <td>ENSG00000149257</td>\n",
       "      <td>11</td>\n",
       "      <td>11q13.5</td>\n",
       "      <td>75562056.0</td>\n",
       "    </tr>\n",
       "  </tbody>\n",
       "</table>\n",
       "<p>387 rows × 5 columns</p>\n",
       "</div>"
      ],
      "text/plain": [
       "          name               id chr     band  start_position\n",
       "5         CTSD  ENSG00000117984  11  11p15.5       1752755.0\n",
       "10    SERPING1  ENSG00000149131  11  11q12.1      57597387.0\n",
       "79         ADM  ENSG00000148926  11  11p15.4      10305073.0\n",
       "109       FEZ1  ENSG00000149557  11  11q24.2     125442881.0\n",
       "118    ST3GAL4  ENSG00000110080  11  11q24.2     126355640.0\n",
       "...        ...              ...  ..      ...             ...\n",
       "6414     STT3A  ENSG00000134910  11  11q24.2     125591712.0\n",
       "6443      LDHA  ENSG00000134333  11  11p15.1      18394560.0\n",
       "6445      LDHC  ENSG00000166796  11  11p15.1      18412318.0\n",
       "6449      CFL1  ENSG00000172757  11  11q13.1      65823022.0\n",
       "6453  SERPINH1  ENSG00000149257  11  11q13.5      75562056.0\n",
       "\n",
       "[387 rows x 5 columns]"
      ]
     },
     "metadata": {},
     "output_type": "display_data"
    }
   ],
   "source": [
    "chromosome_genes_info = genes_info[genes_info[\"chr\"] == chromosome]\n",
    "display(chromosome_genes_info)"
   ]
  },
  {
   "cell_type": "code",
   "execution_count": 27,
   "id": "d2e42726-7de6-46eb-acfc-6323eaa8fae6",
   "metadata": {
    "execution": {
     "iopub.execute_input": "2022-06-16T10:19:14.375824Z",
     "iopub.status.busy": "2022-06-16T10:19:14.375292Z",
     "iopub.status.idle": "2022-06-16T10:19:14.393574Z",
     "shell.execute_reply": "2022-06-16T10:19:14.392982Z"
    },
    "papermill": {
     "duration": 0.028263,
     "end_time": "2022-06-16T10:19:14.395190",
     "exception": false,
     "start_time": "2022-06-16T10:19:14.366927",
     "status": "completed"
    },
    "tags": []
   },
   "outputs": [
    {
     "data": {
      "text/plain": [
       "5"
      ]
     },
     "metadata": {},
     "output_type": "display_data"
    }
   ],
   "source": [
    "_gene_list_ids = sample(chromosome_genes_info[\"id\"].tolist(), 5)\n",
    "selected_chromosome_genes_obj = [Gene(ensembl_id=g_id) for g_id in _gene_list_ids]\n",
    "display(len(selected_chromosome_genes_obj))"
   ]
  },
  {
   "cell_type": "code",
   "execution_count": 28,
   "id": "1b355359",
   "metadata": {
    "execution": {
     "iopub.execute_input": "2022-06-16T10:19:14.412211Z",
     "iopub.status.busy": "2022-06-16T10:19:14.411684Z",
     "iopub.status.idle": "2022-06-16T10:19:14.535999Z",
     "shell.execute_reply": "2022-06-16T10:19:14.535213Z"
    },
    "papermill": {
     "duration": 0.134197,
     "end_time": "2022-06-16T10:19:14.537398",
     "exception": false,
     "start_time": "2022-06-16T10:19:14.403201",
     "status": "completed"
    },
    "tags": []
   },
   "outputs": [
    {
     "name": "stdout",
     "output_type": "stream",
     "text": [
      "LDHC / COX8A: 0.0\n",
      "LDHC / PLEKHB1: 0.0\n",
      "LDHC / BARX2: 0.0\n",
      "LDHC / CARS: 0.0\n",
      "COX8A / PLEKHB1: 0.0\n",
      "COX8A / BARX2: 0.0\n",
      "COX8A / CARS: 0.0\n",
      "PLEKHB1 / BARX2: 0.0\n",
      "PLEKHB1 / CARS: 0.0\n",
      "BARX2 / CARS: 0.0\n"
     ]
    }
   ],
   "source": [
    "for gene_idx1 in range(0, len(selected_chromosome_genes_obj) - 1):\n",
    "    gene_obj1 = selected_chromosome_genes_obj[gene_idx1]\n",
    "\n",
    "    for gene_idx2 in range(gene_idx1 + 1, len(selected_chromosome_genes_obj)):\n",
    "        gene_obj2 = selected_chromosome_genes_obj[gene_idx2]\n",
    "\n",
    "        c = gene_obj1.get_ssm_correlation(\n",
    "            gene_obj2,\n",
    "        )\n",
    "\n",
    "        print(f\"{gene_obj1.name} / {gene_obj2.name}: {c}\")"
   ]
  },
  {
   "cell_type": "markdown",
   "id": "d3843e06",
   "metadata": {
    "papermill": {
     "duration": 0.007499,
     "end_time": "2022-06-16T10:19:14.552655",
     "exception": false,
     "start_time": "2022-06-16T10:19:14.545156",
     "status": "completed"
    },
    "tags": []
   },
   "source": [
    "# Compute correlation per chromosome"
   ]
  },
  {
   "cell_type": "code",
   "execution_count": 29,
   "id": "aa674fe4-6794-4eed-98fa-32b39d1d4ace",
   "metadata": {
    "execution": {
     "iopub.execute_input": "2022-06-16T10:19:14.577307Z",
     "iopub.status.busy": "2022-06-16T10:19:14.576819Z",
     "iopub.status.idle": "2022-06-16T10:19:14.592877Z",
     "shell.execute_reply": "2022-06-16T10:19:14.592268Z"
    },
    "papermill": {
     "duration": 0.034127,
     "end_time": "2022-06-16T10:19:14.594405",
     "exception": false,
     "start_time": "2022-06-16T10:19:14.560278",
     "status": "completed"
    },
    "tags": []
   },
   "outputs": [],
   "source": [
    "warnings.filterwarnings(\"error\")"
   ]
  },
  {
   "cell_type": "code",
   "execution_count": 30,
   "id": "cdbb90a1",
   "metadata": {
    "execution": {
     "iopub.execute_input": "2022-06-16T10:19:14.611497Z",
     "iopub.status.busy": "2022-06-16T10:19:14.611313Z",
     "iopub.status.idle": "2022-06-16T16:57:55.198726Z",
     "shell.execute_reply": "2022-06-16T16:57:55.198260Z"
    },
    "papermill": {
     "duration": 23920.597834,
     "end_time": "2022-06-16T16:57:55.200292",
     "exception": false,
     "start_time": "2022-06-16T10:19:14.602458",
     "status": "completed"
    },
    "tags": []
   },
   "outputs": [
    {
     "name": "stdout",
     "output_type": "stream",
     "text": [
      "Number of genes in chromosome: 387\n",
      "Chromosome 11\n",
      "Number of gene combinations: 74691\n"
     ]
    },
    {
     "name": "stderr",
     "output_type": "stream",
     "text": [
      "ENSG00000151498 / ENSG00000109956: 100%|████████████████████| 74691/74691 [6:38:40<00:00,  3.12it/s]"
     ]
    },
    {
     "name": "stdout",
     "output_type": "stream",
     "text": [
      "Min/max values: -0.9712831397691976 / 0.9908455432691051\n"
     ]
    },
    {
     "name": "stderr",
     "output_type": "stream",
     "text": [
      "\n"
     ]
    },
    {
     "data": {
      "text/plain": [
       "PosixPath('/opt/data/data/phenomexcan/ld_blocks/gene_corrs/gtex_v8/mashr/by_chr/gene_corrs-chr11.pkl')"
      ]
     },
     "metadata": {},
     "output_type": "display_data"
    }
   ],
   "source": [
    "# standard checks\n",
    "all_chrs = genes_info[\"chr\"].dropna().unique()\n",
    "assert all_chrs.shape[0] == 22\n",
    "\n",
    "# select chromosome given by the user\n",
    "assert chromosome in all_chrs\n",
    "\n",
    "# run only on the chromosome specified\n",
    "all_chrs = [chromosome]\n",
    "genes_chr = genes_info[genes_info[\"chr\"] == chromosome]\n",
    "print(f\"Number of genes in chromosome: {genes_chr.shape[0]}\", flush=True)\n",
    "\n",
    "# For testing purposes\n",
    "# genes_chr = genes_chr.sample(n=20)\n",
    "\n",
    "# sort genes by starting position to make visualizations better later\n",
    "genes_chr = genes_chr.sort_values(\"start_position\")\n",
    "\n",
    "\n",
    "for chr_num in all_chrs:\n",
    "    print(f\"Chromosome {chr_num}\", flush=True)\n",
    "\n",
    "    # check if results exist\n",
    "    output_dir = OUTPUT_DIR_BASE / \"by_chr\"\n",
    "    output_file = output_dir / f\"gene_corrs-chr{chr_num}.pkl\"\n",
    "\n",
    "    if output_file.exists():\n",
    "        _tmp_data = pd.read_pickle(output_file)\n",
    "\n",
    "        if _tmp_data.shape[0] > 0:\n",
    "            print(\"Already run, stopping.\")\n",
    "            continue\n",
    "\n",
    "    gene_chr_objs = [Gene(ensembl_id=gene_id) for gene_id in genes_chr[\"id\"]]\n",
    "    gene_chr_ids = [g.ensembl_id for g in gene_chr_objs]\n",
    "\n",
    "    n = len(gene_chr_objs)\n",
    "    n_comb = int(n * (n - 1) / 2.0)\n",
    "    print(f\"Number of gene combinations: {n_comb}\", flush=True)\n",
    "\n",
    "    gene_corrs = []\n",
    "\n",
    "    pbar = tqdm(ncols=100, total=n_comb)\n",
    "    i = 0\n",
    "    for gene_idx1 in range(0, len(gene_chr_objs) - 1):\n",
    "        gene_obj1 = gene_chr_objs[gene_idx1]\n",
    "\n",
    "        for gene_idx2 in range(gene_idx1 + 1, len(gene_chr_objs)):\n",
    "            gene_obj2 = gene_chr_objs[gene_idx2]\n",
    "\n",
    "            pbar.set_description(f\"{gene_obj1.ensembl_id} / {gene_obj2.ensembl_id}\")\n",
    "\n",
    "            try:\n",
    "                # FIXME: compute the correlation of the sum of squares of the model using all\n",
    "                # the available tissues; this could be problematic because for some results\n",
    "                # (computed on a specific phenotype/GWAS) we might not have all the tissues\n",
    "                # available, which can certainly bias the correlation estimation.\n",
    "                # Since this depends on the GWAS on a specific phenotype, we should ideally have\n",
    "                # one correlation matrix per GWAS. I should look at how we can improve this.\n",
    "                gene_corrs.append(\n",
    "                    gene_obj1.get_ssm_correlation(\n",
    "                        other_gene=gene_obj2,\n",
    "                        condition_number=SMULTIXCAN_CONDITION_NUMBER,\n",
    "                        reference_panel=REFERENCE_PANEL,\n",
    "                        model_type=EQTL_MODEL,\n",
    "                    )\n",
    "                )\n",
    "            except Warning:\n",
    "                print(\n",
    "                    f\"RuntimeWarning for genes {gene_obj1.ensembl_id} and {gene_obj2.ensembl_id}\",\n",
    "                    flush=True,\n",
    "                )\n",
    "                import traceback\n",
    "\n",
    "                print(traceback.format_exc(), flush=True)\n",
    "            except Exception as e:\n",
    "                print(\n",
    "                    f\"Exception for genes {gene_obj1.ensembl_id} and {gene_obj2.ensembl_id}\",\n",
    "                    flush=True,\n",
    "                )\n",
    "                import traceback\n",
    "\n",
    "                print(traceback.format_exc(), flush=True)\n",
    "                gene_corrs.append(np.nan)\n",
    "\n",
    "            pbar.update(1)\n",
    "\n",
    "    pbar.close()\n",
    "\n",
    "    # testing\n",
    "    gene_corrs_flat = pd.Series(gene_corrs)\n",
    "    print(f\"Min/max values: {gene_corrs_flat.min()} / {gene_corrs_flat.max()}\")\n",
    "    assert gene_corrs_flat.min() >= -1.001\n",
    "    assert gene_corrs_flat.max() <= 1.001\n",
    "\n",
    "    # save\n",
    "    # FIXME: consider saving only the condenced matrix here. See here for\n",
    "    # more details: https://github.com/greenelab/phenoplier/pull/38#discussion_r634600813\n",
    "    gene_corrs_data = squareform(np.array(gene_corrs, dtype=np.float64))\n",
    "    np.fill_diagonal(gene_corrs_data, 1.0)\n",
    "\n",
    "    gene_corrs_df = pd.DataFrame(\n",
    "        data=gene_corrs_data,\n",
    "        index=gene_chr_ids,\n",
    "        columns=gene_chr_ids,\n",
    "    )\n",
    "\n",
    "    output_dir.mkdir(exist_ok=True, parents=True)\n",
    "    display(output_file)\n",
    "\n",
    "    gene_corrs_df.to_pickle(output_file)"
   ]
  },
  {
   "cell_type": "markdown",
   "id": "faa67b51-5373-470f-aa72-2ded53fa6dfe",
   "metadata": {
    "papermill": {
     "duration": 3.251315,
     "end_time": "2022-06-16T16:58:01.658212",
     "exception": false,
     "start_time": "2022-06-16T16:57:58.406897",
     "status": "completed"
    },
    "tags": []
   },
   "source": [
    "# Testing"
   ]
  },
  {
   "cell_type": "code",
   "execution_count": 31,
   "id": "14f7d046-4b55-4896-a56b-990127bcc388",
   "metadata": {
    "execution": {
     "iopub.execute_input": "2022-06-16T16:58:08.130601Z",
     "iopub.status.busy": "2022-06-16T16:58:08.130405Z",
     "iopub.status.idle": "2022-06-16T16:58:08.147408Z",
     "shell.execute_reply": "2022-06-16T16:58:08.146899Z"
    },
    "papermill": {
     "duration": 3.278987,
     "end_time": "2022-06-16T16:58:08.148835",
     "exception": false,
     "start_time": "2022-06-16T16:58:04.869848",
     "status": "completed"
    },
    "tags": []
   },
   "outputs": [
    {
     "data": {
      "text/plain": [
       "(387, 387)"
      ]
     },
     "execution_count": 31,
     "metadata": {},
     "output_type": "execute_result"
    }
   ],
   "source": [
    "gene_corrs_df.shape"
   ]
  },
  {
   "cell_type": "code",
   "execution_count": 32,
   "id": "c7d15414-3297-4537-a7c6-7588c0baeb75",
   "metadata": {
    "execution": {
     "iopub.execute_input": "2022-06-16T16:58:14.613707Z",
     "iopub.status.busy": "2022-06-16T16:58:14.613531Z",
     "iopub.status.idle": "2022-06-16T16:58:14.644213Z",
     "shell.execute_reply": "2022-06-16T16:58:14.643771Z"
    },
    "papermill": {
     "duration": 3.217853,
     "end_time": "2022-06-16T16:58:14.651395",
     "exception": false,
     "start_time": "2022-06-16T16:58:11.433542",
     "status": "completed"
    },
    "tags": []
   },
   "outputs": [
    {
     "data": {
      "text/html": [
       "<div>\n",
       "<style scoped>\n",
       "    .dataframe tbody tr th:only-of-type {\n",
       "        vertical-align: middle;\n",
       "    }\n",
       "\n",
       "    .dataframe tbody tr th {\n",
       "        vertical-align: top;\n",
       "    }\n",
       "\n",
       "    .dataframe thead th {\n",
       "        text-align: right;\n",
       "    }\n",
       "</style>\n",
       "<table border=\"1\" class=\"dataframe\">\n",
       "  <thead>\n",
       "    <tr style=\"text-align: right;\">\n",
       "      <th></th>\n",
       "      <th>ENSG00000177951</th>\n",
       "      <th>ENSG00000142082</th>\n",
       "      <th>ENSG00000185627</th>\n",
       "      <th>ENSG00000185201</th>\n",
       "      <th>ENSG00000185885</th>\n",
       "      <th>ENSG00000142089</th>\n",
       "      <th>ENSG00000185187</th>\n",
       "      <th>ENSG00000174915</th>\n",
       "      <th>ENSG00000174775</th>\n",
       "      <th>ENSG00000185507</th>\n",
       "      <th>...</th>\n",
       "      <th>ENSG00000150455</th>\n",
       "      <th>ENSG00000110063</th>\n",
       "      <th>ENSG00000110080</th>\n",
       "      <th>ENSG00000149571</th>\n",
       "      <th>ENSG00000134954</th>\n",
       "      <th>ENSG00000134909</th>\n",
       "      <th>ENSG00000043039</th>\n",
       "      <th>ENSG00000166086</th>\n",
       "      <th>ENSG00000151498</th>\n",
       "      <th>ENSG00000109956</th>\n",
       "    </tr>\n",
       "  </thead>\n",
       "  <tbody>\n",
       "    <tr>\n",
       "      <th>ENSG00000177951</th>\n",
       "      <td>1.000000</td>\n",
       "      <td>0.064678</td>\n",
       "      <td>0.013830</td>\n",
       "      <td>0.018356</td>\n",
       "      <td>-0.116041</td>\n",
       "      <td>0.094040</td>\n",
       "      <td>0.177145</td>\n",
       "      <td>-0.040395</td>\n",
       "      <td>-0.046748</td>\n",
       "      <td>0.040003</td>\n",
       "      <td>...</td>\n",
       "      <td>0.0</td>\n",
       "      <td>0.0</td>\n",
       "      <td>0.0</td>\n",
       "      <td>0.0</td>\n",
       "      <td>0.0</td>\n",
       "      <td>0.0</td>\n",
       "      <td>0.0</td>\n",
       "      <td>0.0</td>\n",
       "      <td>0.0</td>\n",
       "      <td>0.0</td>\n",
       "    </tr>\n",
       "    <tr>\n",
       "      <th>ENSG00000142082</th>\n",
       "      <td>0.064678</td>\n",
       "      <td>1.000000</td>\n",
       "      <td>-0.159572</td>\n",
       "      <td>-0.065782</td>\n",
       "      <td>0.141606</td>\n",
       "      <td>-0.149399</td>\n",
       "      <td>0.040535</td>\n",
       "      <td>-0.000673</td>\n",
       "      <td>0.087109</td>\n",
       "      <td>-0.100745</td>\n",
       "      <td>...</td>\n",
       "      <td>0.0</td>\n",
       "      <td>0.0</td>\n",
       "      <td>0.0</td>\n",
       "      <td>0.0</td>\n",
       "      <td>0.0</td>\n",
       "      <td>0.0</td>\n",
       "      <td>0.0</td>\n",
       "      <td>0.0</td>\n",
       "      <td>0.0</td>\n",
       "      <td>0.0</td>\n",
       "    </tr>\n",
       "    <tr>\n",
       "      <th>ENSG00000185627</th>\n",
       "      <td>0.013830</td>\n",
       "      <td>-0.159572</td>\n",
       "      <td>1.000000</td>\n",
       "      <td>0.053904</td>\n",
       "      <td>0.038571</td>\n",
       "      <td>-0.012636</td>\n",
       "      <td>0.000244</td>\n",
       "      <td>-0.216339</td>\n",
       "      <td>-0.062141</td>\n",
       "      <td>0.052294</td>\n",
       "      <td>...</td>\n",
       "      <td>0.0</td>\n",
       "      <td>0.0</td>\n",
       "      <td>0.0</td>\n",
       "      <td>0.0</td>\n",
       "      <td>0.0</td>\n",
       "      <td>0.0</td>\n",
       "      <td>0.0</td>\n",
       "      <td>0.0</td>\n",
       "      <td>0.0</td>\n",
       "      <td>0.0</td>\n",
       "    </tr>\n",
       "    <tr>\n",
       "      <th>ENSG00000185201</th>\n",
       "      <td>0.018356</td>\n",
       "      <td>-0.065782</td>\n",
       "      <td>0.053904</td>\n",
       "      <td>1.000000</td>\n",
       "      <td>-0.061863</td>\n",
       "      <td>0.065158</td>\n",
       "      <td>0.083557</td>\n",
       "      <td>0.021877</td>\n",
       "      <td>0.022637</td>\n",
       "      <td>0.074072</td>\n",
       "      <td>...</td>\n",
       "      <td>0.0</td>\n",
       "      <td>0.0</td>\n",
       "      <td>0.0</td>\n",
       "      <td>0.0</td>\n",
       "      <td>0.0</td>\n",
       "      <td>0.0</td>\n",
       "      <td>0.0</td>\n",
       "      <td>0.0</td>\n",
       "      <td>0.0</td>\n",
       "      <td>0.0</td>\n",
       "    </tr>\n",
       "    <tr>\n",
       "      <th>ENSG00000185885</th>\n",
       "      <td>-0.116041</td>\n",
       "      <td>0.141606</td>\n",
       "      <td>0.038571</td>\n",
       "      <td>-0.061863</td>\n",
       "      <td>1.000000</td>\n",
       "      <td>-0.181963</td>\n",
       "      <td>0.100812</td>\n",
       "      <td>-0.032442</td>\n",
       "      <td>-0.038396</td>\n",
       "      <td>-0.214326</td>\n",
       "      <td>...</td>\n",
       "      <td>0.0</td>\n",
       "      <td>0.0</td>\n",
       "      <td>0.0</td>\n",
       "      <td>0.0</td>\n",
       "      <td>0.0</td>\n",
       "      <td>0.0</td>\n",
       "      <td>0.0</td>\n",
       "      <td>0.0</td>\n",
       "      <td>0.0</td>\n",
       "      <td>0.0</td>\n",
       "    </tr>\n",
       "  </tbody>\n",
       "</table>\n",
       "<p>5 rows × 387 columns</p>\n",
       "</div>"
      ],
      "text/plain": [
       "                 ENSG00000177951  ENSG00000142082  ENSG00000185627  \\\n",
       "ENSG00000177951         1.000000         0.064678         0.013830   \n",
       "ENSG00000142082         0.064678         1.000000        -0.159572   \n",
       "ENSG00000185627         0.013830        -0.159572         1.000000   \n",
       "ENSG00000185201         0.018356        -0.065782         0.053904   \n",
       "ENSG00000185885        -0.116041         0.141606         0.038571   \n",
       "\n",
       "                 ENSG00000185201  ENSG00000185885  ENSG00000142089  \\\n",
       "ENSG00000177951         0.018356        -0.116041         0.094040   \n",
       "ENSG00000142082        -0.065782         0.141606        -0.149399   \n",
       "ENSG00000185627         0.053904         0.038571        -0.012636   \n",
       "ENSG00000185201         1.000000        -0.061863         0.065158   \n",
       "ENSG00000185885        -0.061863         1.000000        -0.181963   \n",
       "\n",
       "                 ENSG00000185187  ENSG00000174915  ENSG00000174775  \\\n",
       "ENSG00000177951         0.177145        -0.040395        -0.046748   \n",
       "ENSG00000142082         0.040535        -0.000673         0.087109   \n",
       "ENSG00000185627         0.000244        -0.216339        -0.062141   \n",
       "ENSG00000185201         0.083557         0.021877         0.022637   \n",
       "ENSG00000185885         0.100812        -0.032442        -0.038396   \n",
       "\n",
       "                 ENSG00000185507  ...  ENSG00000150455  ENSG00000110063  \\\n",
       "ENSG00000177951         0.040003  ...              0.0              0.0   \n",
       "ENSG00000142082        -0.100745  ...              0.0              0.0   \n",
       "ENSG00000185627         0.052294  ...              0.0              0.0   \n",
       "ENSG00000185201         0.074072  ...              0.0              0.0   \n",
       "ENSG00000185885        -0.214326  ...              0.0              0.0   \n",
       "\n",
       "                 ENSG00000110080  ENSG00000149571  ENSG00000134954  \\\n",
       "ENSG00000177951              0.0              0.0              0.0   \n",
       "ENSG00000142082              0.0              0.0              0.0   \n",
       "ENSG00000185627              0.0              0.0              0.0   \n",
       "ENSG00000185201              0.0              0.0              0.0   \n",
       "ENSG00000185885              0.0              0.0              0.0   \n",
       "\n",
       "                 ENSG00000134909  ENSG00000043039  ENSG00000166086  \\\n",
       "ENSG00000177951              0.0              0.0              0.0   \n",
       "ENSG00000142082              0.0              0.0              0.0   \n",
       "ENSG00000185627              0.0              0.0              0.0   \n",
       "ENSG00000185201              0.0              0.0              0.0   \n",
       "ENSG00000185885              0.0              0.0              0.0   \n",
       "\n",
       "                 ENSG00000151498  ENSG00000109956  \n",
       "ENSG00000177951              0.0              0.0  \n",
       "ENSG00000142082              0.0              0.0  \n",
       "ENSG00000185627              0.0              0.0  \n",
       "ENSG00000185201              0.0              0.0  \n",
       "ENSG00000185885              0.0              0.0  \n",
       "\n",
       "[5 rows x 387 columns]"
      ]
     },
     "execution_count": 32,
     "metadata": {},
     "output_type": "execute_result"
    }
   ],
   "source": [
    "gene_corrs_df.head()"
   ]
  },
  {
   "cell_type": "code",
   "execution_count": 33,
   "id": "00583efc-7068-4270-ad1e-4a418e91db96",
   "metadata": {
    "execution": {
     "iopub.execute_input": "2022-06-16T16:58:21.037906Z",
     "iopub.status.busy": "2022-06-16T16:58:21.037730Z",
     "iopub.status.idle": "2022-06-16T16:58:21.056996Z",
     "shell.execute_reply": "2022-06-16T16:58:21.056325Z"
    },
    "papermill": {
     "duration": 3.275953,
     "end_time": "2022-06-16T16:58:21.058427",
     "exception": false,
     "start_time": "2022-06-16T16:58:17.782474",
     "status": "completed"
    },
    "tags": []
   },
   "outputs": [
    {
     "data": {
      "text/plain": [
       "-0.9712831397691976"
      ]
     },
     "metadata": {},
     "output_type": "display_data"
    }
   ],
   "source": [
    "_min_val = gene_corrs_df.min().min()\n",
    "display(_min_val)\n",
    "assert _min_val >= -1.0"
   ]
  },
  {
   "cell_type": "code",
   "execution_count": 34,
   "id": "d04fb2cf-1050-475b-b855-f5f7cc04092b",
   "metadata": {
    "execution": {
     "iopub.execute_input": "2022-06-16T16:58:27.487965Z",
     "iopub.status.busy": "2022-06-16T16:58:27.487791Z",
     "iopub.status.idle": "2022-06-16T16:58:27.506486Z",
     "shell.execute_reply": "2022-06-16T16:58:27.505788Z"
    },
    "papermill": {
     "duration": 3.245556,
     "end_time": "2022-06-16T16:58:27.507932",
     "exception": false,
     "start_time": "2022-06-16T16:58:24.262376",
     "status": "completed"
    },
    "tags": []
   },
   "outputs": [
    {
     "data": {
      "text/plain": [
       "1.0"
      ]
     },
     "metadata": {},
     "output_type": "display_data"
    }
   ],
   "source": [
    "_max_val = gene_corrs_df.max().max()  # this captures the diagonal\n",
    "display(_max_val)\n",
    "assert _max_val <= 1.0"
   ]
  },
  {
   "cell_type": "code",
   "execution_count": 35,
   "id": "96d02c44-1fba-47be-8a93-8f2608420b9c",
   "metadata": {
    "execution": {
     "iopub.execute_input": "2022-06-16T16:58:33.904639Z",
     "iopub.status.busy": "2022-06-16T16:58:33.904464Z",
     "iopub.status.idle": "2022-06-16T16:58:33.920819Z",
     "shell.execute_reply": "2022-06-16T16:58:33.920245Z"
    },
    "papermill": {
     "duration": 3.183287,
     "end_time": "2022-06-16T16:58:33.922428",
     "exception": false,
     "start_time": "2022-06-16T16:58:30.739141",
     "status": "completed"
    },
    "tags": []
   },
   "outputs": [],
   "source": [
    "# check upper triangular values\n",
    "assert len(gene_corrs) == int(genes_chr.shape[0] * (genes_chr.shape[0] - 1) / 2)"
   ]
  },
  {
   "cell_type": "code",
   "execution_count": 36,
   "id": "aaa51627-f4e3-4744-a41f-7d25adcc0a78",
   "metadata": {
    "execution": {
     "iopub.execute_input": "2022-06-16T16:58:40.388003Z",
     "iopub.status.busy": "2022-06-16T16:58:40.387830Z",
     "iopub.status.idle": "2022-06-16T16:58:40.411603Z",
     "shell.execute_reply": "2022-06-16T16:58:40.411011Z"
    },
    "papermill": {
     "duration": 3.352621,
     "end_time": "2022-06-16T16:58:40.413054",
     "exception": false,
     "start_time": "2022-06-16T16:58:37.060433",
     "status": "completed"
    },
    "tags": []
   },
   "outputs": [],
   "source": [
    "gene_corrs = pd.Series(gene_corrs)"
   ]
  },
  {
   "cell_type": "code",
   "execution_count": 37,
   "id": "fe283586-c348-40e0-8841-f6d97bfb021c",
   "metadata": {
    "execution": {
     "iopub.execute_input": "2022-06-16T16:58:46.854052Z",
     "iopub.status.busy": "2022-06-16T16:58:46.853883Z",
     "iopub.status.idle": "2022-06-16T16:58:46.875488Z",
     "shell.execute_reply": "2022-06-16T16:58:46.874921Z"
    },
    "papermill": {
     "duration": 3.291464,
     "end_time": "2022-06-16T16:58:46.882447",
     "exception": false,
     "start_time": "2022-06-16T16:58:43.590983",
     "status": "completed"
    },
    "tags": []
   },
   "outputs": [
    {
     "data": {
      "text/plain": [
       "count    74691.000000\n",
       "mean        -0.000054\n",
       "std          0.063562\n",
       "min         -0.971283\n",
       "25%          0.000000\n",
       "50%          0.000000\n",
       "75%          0.000000\n",
       "max          0.990846\n",
       "dtype: float64"
      ]
     },
     "execution_count": 37,
     "metadata": {},
     "output_type": "execute_result"
    }
   ],
   "source": [
    "gene_corrs.describe()"
   ]
  },
  {
   "cell_type": "code",
   "execution_count": 38,
   "id": "b3815678-0f93-4b35-897b-a9d047a2aa78",
   "metadata": {
    "execution": {
     "iopub.execute_input": "2022-06-16T16:58:53.359335Z",
     "iopub.status.busy": "2022-06-16T16:58:53.359163Z",
     "iopub.status.idle": "2022-06-16T16:58:53.380154Z",
     "shell.execute_reply": "2022-06-16T16:58:53.379524Z"
    },
    "papermill": {
     "duration": 3.154188,
     "end_time": "2022-06-16T16:58:53.381759",
     "exception": false,
     "start_time": "2022-06-16T16:58:50.227571",
     "status": "completed"
    },
    "tags": []
   },
   "outputs": [
    {
     "data": {
      "text/plain": [
       "0.00   -0.971283\n",
       "0.05   -0.034878\n",
       "0.10    0.000000\n",
       "0.15    0.000000\n",
       "0.20    0.000000\n",
       "0.25    0.000000\n",
       "0.30    0.000000\n",
       "0.35    0.000000\n",
       "0.40    0.000000\n",
       "0.45    0.000000\n",
       "0.50    0.000000\n",
       "0.55    0.000000\n",
       "0.60    0.000000\n",
       "0.65    0.000000\n",
       "0.70    0.000000\n",
       "0.75    0.000000\n",
       "0.80    0.000000\n",
       "0.85    0.000000\n",
       "0.90    0.000000\n",
       "0.95    0.032227\n",
       "dtype: float64"
      ]
     },
     "metadata": {},
     "output_type": "display_data"
    }
   ],
   "source": [
    "gene_corrs_quantiles = gene_corrs.quantile(np.arange(0, 1, 0.05))\n",
    "display(gene_corrs_quantiles)"
   ]
  },
  {
   "cell_type": "markdown",
   "id": "8e60a080-edb2-4e9c-b2ef-22961693200c",
   "metadata": {
    "papermill": {
     "duration": 3.255283,
     "end_time": "2022-06-16T16:58:59.812057",
     "exception": false,
     "start_time": "2022-06-16T16:58:56.556774",
     "status": "completed"
    },
    "tags": []
   },
   "source": [
    "## Plot: distribution"
   ]
  },
  {
   "cell_type": "code",
   "execution_count": 39,
   "id": "8301126b-a7d4-4744-9c7d-f0f86eb6f54c",
   "metadata": {
    "execution": {
     "iopub.execute_input": "2022-06-16T16:59:06.222746Z",
     "iopub.status.busy": "2022-06-16T16:59:06.222546Z",
     "iopub.status.idle": "2022-06-16T16:59:06.809342Z",
     "shell.execute_reply": "2022-06-16T16:59:06.808761Z"
    },
    "papermill": {
     "duration": 3.860464,
     "end_time": "2022-06-16T16:59:06.810764",
     "exception": false,
     "start_time": "2022-06-16T16:59:02.950300",
     "status": "completed"
    },
    "tags": []
   },
   "outputs": [
    {
     "data": {
      "image/png": "[encoded data removed]",
      "text/plain": [
       "<Figure size 504x504 with 1 Axes>"
      ]
     },
     "metadata": {
      "needs_background": "light"
     },
     "output_type": "display_data"
    }
   ],
   "source": [
    "with sns.plotting_context(\"paper\", font_scale=1.5):\n",
    "    g = sns.displot(gene_corrs, kde=True, height=7)\n",
    "    g.ax.set_title(\n",
    "        f\"Distribution of gene correlation values in chromosome {chromosome}\"\n",
    "    )"
   ]
  },
  {
   "cell_type": "markdown",
   "id": "cbd52bca-d878-4a2f-b684-5c83aa3038d4",
   "metadata": {
    "papermill": {
     "duration": 3.167639,
     "end_time": "2022-06-16T16:59:13.241867",
     "exception": false,
     "start_time": "2022-06-16T16:59:10.074228",
     "status": "completed"
    },
    "tags": []
   },
   "source": [
    "## Plot: heatmap"
   ]
  },
  {
   "cell_type": "code",
   "execution_count": 40,
   "id": "d03fe63a-c7b2-4fb9-a53c-db362ce843c9",
   "metadata": {
    "execution": {
     "iopub.execute_input": "2022-06-16T16:59:19.663002Z",
     "iopub.status.busy": "2022-06-16T16:59:19.662836Z",
     "iopub.status.idle": "2022-06-16T16:59:19.691284Z",
     "shell.execute_reply": "2022-06-16T16:59:19.690729Z"
    },
    "papermill": {
     "duration": 3.308652,
     "end_time": "2022-06-16T16:59:19.692831",
     "exception": false,
     "start_time": "2022-06-16T16:59:16.384179",
     "status": "completed"
    },
    "tags": []
   },
   "outputs": [
    {
     "data": {
      "text/plain": [
       "'-0.05 / 0.05'"
      ]
     },
     "metadata": {},
     "output_type": "display_data"
    }
   ],
   "source": [
    "vmin_val = min(-0.05, gene_corrs_quantiles[0.10])\n",
    "vmax_val = max(0.05, gene_corrs_quantiles[0.90])\n",
    "display(f\"{vmin_val} / {vmax_val}\")"
   ]
  },
  {
   "cell_type": "code",
   "execution_count": 41,
   "id": "dc41b70b-5bcc-4d9e-9f33-a22c4a94dab5",
   "metadata": {
    "execution": {
     "iopub.execute_input": "2022-06-16T16:59:26.104922Z",
     "iopub.status.busy": "2022-06-16T16:59:26.104744Z",
     "iopub.status.idle": "2022-06-16T16:59:26.404935Z",
     "shell.execute_reply": "2022-06-16T16:59:26.404412Z"
    },
    "papermill": {
     "duration": 3.556916,
     "end_time": "2022-06-16T16:59:26.406209",
     "exception": false,
     "start_time": "2022-06-16T16:59:22.849293",
     "status": "completed"
    },
    "tags": []
   },
   "outputs": [
    {
     "data": {
      "text/plain": [
       "Text(0.5, 1.0, 'Gene correlations in chromosome 11')"
      ]
     },
     "execution_count": 41,
     "metadata": {},
     "output_type": "execute_result"
    },
    {
     "data": {
      "image/png": "[encoded data removed]",
      "text/plain": [
       "<Figure size 720x720 with 2 Axes>"
      ]
     },
     "metadata": {
      "needs_background": "light"
     },
     "output_type": "display_data"
    }
   ],
   "source": [
    "f, ax = plt.subplots(figsize=(10, 10))\n",
    "sns.heatmap(\n",
    "    gene_corrs_df,\n",
    "    xticklabels=False,\n",
    "    yticklabels=False,\n",
    "    square=True,\n",
    "    vmin=vmin_val,\n",
    "    vmax=vmax_val,\n",
    "    cmap=\"YlGnBu\",\n",
    "    ax=ax,\n",
    ")\n",
    "ax.set_title(f\"Gene correlations in chromosome {chromosome}\")"
   ]
  },
  {
   "cell_type": "code",
   "execution_count": null,
   "id": "b25e3ead",
   "metadata": {
    "papermill": {
     "duration": 3.141314,
     "end_time": "2022-06-16T16:59:32.837121",
     "exception": false,
     "start_time": "2022-06-16T16:59:29.695807",
     "status": "completed"
    },
    "tags": []
   },
   "outputs": [],
   "source": []
  }
 ],
 "metadata": {
  "jupytext": {
   "cell_metadata_filter": "all,-execution,-papermill,-trusted",
   "formats": "ipynb,py//py:percent"
  },
  "kernelspec": {
   "display_name": "Python 3 (ipykernel)",
   "language": "python",
   "name": "python3"
  },
  "language_info": {
   "codemirror_mode": {
    "name": "ipython",
    "version": 3
   },
   "file_extension": ".py",
   "mimetype": "text/x-python",
   "name": "python",
   "nbconvert_exporter": "python",
   "pygments_lexer": "ipython3",
   "version": "3.8.13"
  },
  "papermill": {
   "default_parameters": {},
   "duration": 24029.895481,
   "end_time": "2022-06-16T16:59:38.636672",
   "environment_variables": {},
   "exception": null,
   "input_path": "nbs/15_gsa_gls/10-gene_expr_correlations.ipynb",
   "output_path": "nbs/15_gsa_gls/gene_corrs/gtex_v8/mashr/10-gene_expr_correlations-chr11.run.ipynb",
   "parameters": {
    "EQTL_MODEL": "MASHR",
    "REFERENCE_PANEL": "GTEX_V8",
    "chromosome": 11
   },
   "start_time": "2022-06-16T10:19:08.741191",
   "version": "2.2.2"
  }
 },
 "nbformat": 4,
 "nbformat_minor": 5
}
