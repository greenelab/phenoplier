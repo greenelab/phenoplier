{
 "cells": [
  {
   "cell_type": "markdown",
   "id": "7a6632fb",
   "metadata": {
    "papermill": {
     "duration": 0.005644,
     "end_time": "2022-06-17T02:22:42.731573",
     "exception": false,
     "start_time": "2022-06-17T02:22:42.725929",
     "status": "completed"
    },
    "tags": []
   },
   "source": [
    "# Description"
   ]
  },
  {
   "cell_type": "markdown",
   "id": "7097c346",
   "metadata": {
    "papermill": {
     "duration": 0.004858,
     "end_time": "2022-06-17T02:22:42.741434",
     "exception": false,
     "start_time": "2022-06-17T02:22:42.736576",
     "status": "completed"
    },
    "tags": []
   },
   "source": [
    "(Please, take a look at the README.md file in this directory for instructions on how to run this notebook)\n",
    "\n",
    "This notebook computes predicted expression correlations between all genes in the MultiPLIER models.\n",
    "\n",
    "It also has a parameter set for papermill to run on a single chromosome to run in parallel (see under `Settings` below).\n",
    "\n",
    "This notebook is not directly run. See README.md."
   ]
  },
  {
   "cell_type": "markdown",
   "id": "c61d8427",
   "metadata": {
    "papermill": {
     "duration": 0.005075,
     "end_time": "2022-06-17T02:22:42.751370",
     "exception": false,
     "start_time": "2022-06-17T02:22:42.746295",
     "status": "completed"
    },
    "tags": []
   },
   "source": [
    "# Modules"
   ]
  },
  {
   "cell_type": "code",
   "execution_count": 1,
   "id": "bbc0234f",
   "metadata": {
    "execution": {
     "iopub.execute_input": "2022-06-17T02:22:42.762057Z",
     "iopub.status.busy": "2022-06-17T02:22:42.761867Z",
     "iopub.status.idle": "2022-06-17T02:22:42.788705Z",
     "shell.execute_reply": "2022-06-17T02:22:42.788167Z"
    },
    "papermill": {
     "duration": 0.034213,
     "end_time": "2022-06-17T02:22:42.790448",
     "exception": false,
     "start_time": "2022-06-17T02:22:42.756235",
     "status": "completed"
    },
    "tags": []
   },
   "outputs": [],
   "source": [
    "%load_ext autoreload\n",
    "%autoreload 2"
   ]
  },
  {
   "cell_type": "code",
   "execution_count": 2,
   "id": "1d5f5a59",
   "metadata": {
    "execution": {
     "iopub.execute_input": "2022-06-17T02:22:42.804279Z",
     "iopub.status.busy": "2022-06-17T02:22:42.804105Z",
     "iopub.status.idle": "2022-06-17T02:22:43.782288Z",
     "shell.execute_reply": "2022-06-17T02:22:43.781734Z"
    },
    "papermill": {
     "duration": 0.987673,
     "end_time": "2022-06-17T02:22:43.784193",
     "exception": false,
     "start_time": "2022-06-17T02:22:42.796520",
     "status": "completed"
    },
    "tags": []
   },
   "outputs": [],
   "source": [
    "from random import sample, seed\n",
    "import warnings\n",
    "from pathlib import Path\n",
    "\n",
    "import numpy as np\n",
    "from scipy.spatial.distance import squareform\n",
    "import pandas as pd\n",
    "from tqdm import tqdm\n",
    "import matplotlib.pyplot as plt\n",
    "import seaborn as sns\n",
    "\n",
    "import conf\n",
    "from entity import Gene"
   ]
  },
  {
   "cell_type": "markdown",
   "id": "1eac24b5",
   "metadata": {
    "papermill": {
     "duration": 0.037331,
     "end_time": "2022-06-17T02:22:43.830460",
     "exception": false,
     "start_time": "2022-06-17T02:22:43.793129",
     "status": "completed"
    },
    "tags": []
   },
   "source": [
    "# Settings"
   ]
  },
  {
   "cell_type": "code",
   "execution_count": 3,
   "id": "ca4560ba",
   "metadata": {
    "execution": {
     "iopub.execute_input": "2022-06-17T02:22:43.843969Z",
     "iopub.status.busy": "2022-06-17T02:22:43.843777Z",
     "iopub.status.idle": "2022-06-17T02:22:43.861110Z",
     "shell.execute_reply": "2022-06-17T02:22:43.860518Z"
    },
    "papermill": {
     "duration": 0.025815,
     "end_time": "2022-06-17T02:22:43.862620",
     "exception": false,
     "start_time": "2022-06-17T02:22:43.836805",
     "status": "completed"
    },
    "tags": [
     "parameters"
    ]
   },
   "outputs": [],
   "source": [
    "# reference panel\n",
    "REFERENCE_PANEL = \"GTEX_V8\"\n",
    "# REFERENCE_PANEL = \"1000G\"\n",
    "\n",
    "# prediction models\n",
    "## mashr\n",
    "EQTL_MODEL = \"MASHR\"\n",
    "EQTL_MODEL_FILES_PREFIX = \"mashr_\"\n",
    "\n",
    "# ## elastic net\n",
    "# EQTL_MODEL = \"ELASTIC_NET\"\n",
    "# EQTL_MODEL_FILES_PREFIX = \"en_\"\n",
    "\n",
    "# make it read the prefix from conf.py\n",
    "EQTL_MODEL_FILES_PREFIX = None\n",
    "\n",
    "# this is the default value used in S-MultiXcan to select the\n",
    "# top principal components of the expression correlation matrix\n",
    "SMULTIXCAN_CONDITION_NUMBER = 30\n",
    "\n",
    "# specifies a single chromosome value\n",
    "# by default, run on all chromosomes\n",
    "chromosome = None"
   ]
  },
  {
   "cell_type": "code",
   "execution_count": 4,
   "id": "da939a86",
   "metadata": {
    "execution": {
     "iopub.execute_input": "2022-06-17T02:22:43.877248Z",
     "iopub.status.busy": "2022-06-17T02:22:43.877056Z",
     "iopub.status.idle": "2022-06-17T02:22:43.895082Z",
     "shell.execute_reply": "2022-06-17T02:22:43.894499Z"
    },
    "papermill": {
     "duration": 0.02788,
     "end_time": "2022-06-17T02:22:43.896531",
     "exception": false,
     "start_time": "2022-06-17T02:22:43.868651",
     "status": "completed"
    },
    "tags": [
     "injected-parameters"
    ]
   },
   "outputs": [],
   "source": [
    "# Parameters\n",
    "chromosome = 17\n",
    "REFERENCE_PANEL = \"GTEX_V8\"\n",
    "EQTL_MODEL = \"MASHR\"\n"
   ]
  },
  {
   "cell_type": "code",
   "execution_count": 5,
   "id": "a089c9ff",
   "metadata": {
    "execution": {
     "iopub.execute_input": "2022-06-17T02:22:43.909515Z",
     "iopub.status.busy": "2022-06-17T02:22:43.909170Z",
     "iopub.status.idle": "2022-06-17T02:22:43.927390Z",
     "shell.execute_reply": "2022-06-17T02:22:43.926853Z"
    },
    "papermill": {
     "duration": 0.026343,
     "end_time": "2022-06-17T02:22:43.928897",
     "exception": false,
     "start_time": "2022-06-17T02:22:43.902554",
     "status": "completed"
    },
    "tags": []
   },
   "outputs": [],
   "source": [
    "if EQTL_MODEL_FILES_PREFIX is None:\n",
    "    EQTL_MODEL_FILES_PREFIX = conf.PHENOMEXCAN[\"PREDICTION_MODELS\"][\n",
    "        f\"{EQTL_MODEL}_PREFIX\"\n",
    "    ]"
   ]
  },
  {
   "cell_type": "code",
   "execution_count": 6,
   "id": "8fe24bef",
   "metadata": {
    "execution": {
     "iopub.execute_input": "2022-06-17T02:22:43.943832Z",
     "iopub.status.busy": "2022-06-17T02:22:43.941211Z",
     "iopub.status.idle": "2022-06-17T02:22:43.961425Z",
     "shell.execute_reply": "2022-06-17T02:22:43.960995Z"
    },
    "papermill": {
     "duration": 0.027972,
     "end_time": "2022-06-17T02:22:43.962730",
     "exception": false,
     "start_time": "2022-06-17T02:22:43.934758",
     "status": "completed"
    },
    "tags": []
   },
   "outputs": [
    {
     "data": {
      "text/plain": [
       "'Using eQTL model: MASHR / mashr_'"
      ]
     },
     "metadata": {},
     "output_type": "display_data"
    }
   ],
   "source": [
    "display(f\"Using eQTL model: {EQTL_MODEL} / {EQTL_MODEL_FILES_PREFIX}\")"
   ]
  },
  {
   "cell_type": "code",
   "execution_count": 7,
   "id": "0230ebcb-2c32-4b95-9292-d9a52038e70d",
   "metadata": {
    "execution": {
     "iopub.execute_input": "2022-06-17T02:22:43.976138Z",
     "iopub.status.busy": "2022-06-17T02:22:43.975953Z",
     "iopub.status.idle": "2022-06-17T02:22:43.991672Z",
     "shell.execute_reply": "2022-06-17T02:22:43.991197Z"
    },
    "papermill": {
     "duration": 0.023899,
     "end_time": "2022-06-17T02:22:43.993090",
     "exception": false,
     "start_time": "2022-06-17T02:22:43.969191",
     "status": "completed"
    },
    "tags": []
   },
   "outputs": [],
   "source": [
    "REFERENCE_PANEL_DIR = conf.PHENOMEXCAN[\"LD_BLOCKS\"][f\"{REFERENCE_PANEL}_GENOTYPE_DIR\"]"
   ]
  },
  {
   "cell_type": "code",
   "execution_count": 8,
   "id": "98c4a159-601d-4a22-a1ab-35bd451c25f9",
   "metadata": {
    "execution": {
     "iopub.execute_input": "2022-06-17T02:22:44.006073Z",
     "iopub.status.busy": "2022-06-17T02:22:44.005668Z",
     "iopub.status.idle": "2022-06-17T02:22:44.022820Z",
     "shell.execute_reply": "2022-06-17T02:22:44.022298Z"
    },
    "papermill": {
     "duration": 0.025107,
     "end_time": "2022-06-17T02:22:44.024232",
     "exception": false,
     "start_time": "2022-06-17T02:22:43.999125",
     "status": "completed"
    },
    "tags": []
   },
   "outputs": [
    {
     "data": {
      "text/plain": [
       "'Using reference panel folder: /opt/data/data/phenomexcan/ld_blocks/reference_panel_gtex_v8'"
      ]
     },
     "metadata": {},
     "output_type": "display_data"
    }
   ],
   "source": [
    "display(f\"Using reference panel folder: {str(REFERENCE_PANEL_DIR)}\")"
   ]
  },
  {
   "cell_type": "code",
   "execution_count": 9,
   "id": "396392dc-0340-4540-9b02-e182b833f909",
   "metadata": {
    "execution": {
     "iopub.execute_input": "2022-06-17T02:22:44.037075Z",
     "iopub.status.busy": "2022-06-17T02:22:44.036896Z",
     "iopub.status.idle": "2022-06-17T02:22:44.052927Z",
     "shell.execute_reply": "2022-06-17T02:22:44.052480Z"
    },
    "papermill": {
     "duration": 0.024181,
     "end_time": "2022-06-17T02:22:44.054402",
     "exception": false,
     "start_time": "2022-06-17T02:22:44.030221",
     "status": "completed"
    },
    "tags": []
   },
   "outputs": [],
   "source": [
    "OUTPUT_DIR_BASE = (\n",
    "    conf.PHENOMEXCAN[\"LD_BLOCKS\"][f\"GENE_CORRS_DIR\"]\n",
    "    / REFERENCE_PANEL.lower()\n",
    "    / EQTL_MODEL.lower()\n",
    ")\n",
    "OUTPUT_DIR_BASE.mkdir(parents=True, exist_ok=True)"
   ]
  },
  {
   "cell_type": "code",
   "execution_count": 10,
   "id": "8942c2d3-e53c-4d63-a0eb-b6fce0574d36",
   "metadata": {
    "execution": {
     "iopub.execute_input": "2022-06-17T02:22:44.068633Z",
     "iopub.status.busy": "2022-06-17T02:22:44.067501Z",
     "iopub.status.idle": "2022-06-17T02:22:44.086577Z",
     "shell.execute_reply": "2022-06-17T02:22:44.085982Z"
    },
    "papermill": {
     "duration": 0.027516,
     "end_time": "2022-06-17T02:22:44.087995",
     "exception": false,
     "start_time": "2022-06-17T02:22:44.060479",
     "status": "completed"
    },
    "tags": []
   },
   "outputs": [
    {
     "data": {
      "text/plain": [
       "'Using output dir base: /opt/data/data/phenomexcan/ld_blocks/gene_corrs/gtex_v8/mashr'"
      ]
     },
     "metadata": {},
     "output_type": "display_data"
    }
   ],
   "source": [
    "display(f\"Using output dir base: {OUTPUT_DIR_BASE}\")"
   ]
  },
  {
   "cell_type": "code",
   "execution_count": 11,
   "id": "408aa590",
   "metadata": {
    "execution": {
     "iopub.execute_input": "2022-06-17T02:22:44.101665Z",
     "iopub.status.busy": "2022-06-17T02:22:44.101470Z",
     "iopub.status.idle": "2022-06-17T02:22:44.117157Z",
     "shell.execute_reply": "2022-06-17T02:22:44.116713Z"
    },
    "papermill": {
     "duration": 0.024396,
     "end_time": "2022-06-17T02:22:44.118622",
     "exception": false,
     "start_time": "2022-06-17T02:22:44.094226",
     "status": "completed"
    },
    "tags": []
   },
   "outputs": [],
   "source": [
    "assert (\n",
    "    chromosome is not None\n",
    "), \"You have to select one chromosome (format: number between 1 and 22)\""
   ]
  },
  {
   "cell_type": "code",
   "execution_count": 12,
   "id": "c1c7dd06-80ff-453c-bcb7-0899edce75da",
   "metadata": {
    "execution": {
     "iopub.execute_input": "2022-06-17T02:22:44.131851Z",
     "iopub.status.busy": "2022-06-17T02:22:44.131638Z",
     "iopub.status.idle": "2022-06-17T02:22:44.146881Z",
     "shell.execute_reply": "2022-06-17T02:22:44.146299Z"
    },
    "papermill": {
     "duration": 0.023298,
     "end_time": "2022-06-17T02:22:44.148260",
     "exception": false,
     "start_time": "2022-06-17T02:22:44.124962",
     "status": "completed"
    },
    "tags": []
   },
   "outputs": [],
   "source": [
    "chromosome = str(chromosome)"
   ]
  },
  {
   "cell_type": "code",
   "execution_count": 13,
   "id": "bc17b84c-9c26-47a5-a3ab-7046e72f3ef4",
   "metadata": {
    "execution": {
     "iopub.execute_input": "2022-06-17T02:22:44.161071Z",
     "iopub.status.busy": "2022-06-17T02:22:44.160860Z",
     "iopub.status.idle": "2022-06-17T02:22:44.178735Z",
     "shell.execute_reply": "2022-06-17T02:22:44.176839Z"
    },
    "papermill": {
     "duration": 0.027127,
     "end_time": "2022-06-17T02:22:44.181344",
     "exception": false,
     "start_time": "2022-06-17T02:22:44.154217",
     "status": "completed"
    },
    "tags": []
   },
   "outputs": [
    {
     "data": {
      "text/plain": [
       "'Working on chromosome 17'"
      ]
     },
     "metadata": {},
     "output_type": "display_data"
    }
   ],
   "source": [
    "display(f\"Working on chromosome {chromosome}\")"
   ]
  },
  {
   "cell_type": "markdown",
   "id": "d2ba085e",
   "metadata": {
    "papermill": {
     "duration": 0.006379,
     "end_time": "2022-06-17T02:22:44.194407",
     "exception": false,
     "start_time": "2022-06-17T02:22:44.188028",
     "status": "completed"
    },
    "tags": []
   },
   "source": [
    "# Load data"
   ]
  },
  {
   "cell_type": "markdown",
   "id": "abcc4b3d",
   "metadata": {
    "papermill": {
     "duration": 0.006178,
     "end_time": "2022-06-17T02:22:44.207254",
     "exception": false,
     "start_time": "2022-06-17T02:22:44.201076",
     "status": "completed"
    },
    "tags": []
   },
   "source": [
    "## MultiPLIER Z"
   ]
  },
  {
   "cell_type": "code",
   "execution_count": 14,
   "id": "c48ef527",
   "metadata": {
    "execution": {
     "iopub.execute_input": "2022-06-17T02:22:44.220125Z",
     "iopub.status.busy": "2022-06-17T02:22:44.219951Z",
     "iopub.status.idle": "2022-06-17T02:22:44.263070Z",
     "shell.execute_reply": "2022-06-17T02:22:44.262472Z"
    },
    "papermill": {
     "duration": 0.051185,
     "end_time": "2022-06-17T02:22:44.264658",
     "exception": false,
     "start_time": "2022-06-17T02:22:44.213473",
     "status": "completed"
    },
    "tags": []
   },
   "outputs": [],
   "source": [
    "multiplier_z_genes = pd.read_pickle(\n",
    "    conf.MULTIPLIER[\"MODEL_Z_MATRIX_FILE\"]\n",
    ").index.tolist()"
   ]
  },
  {
   "cell_type": "code",
   "execution_count": 15,
   "id": "0a4ecbd9",
   "metadata": {
    "execution": {
     "iopub.execute_input": "2022-06-17T02:22:44.280764Z",
     "iopub.status.busy": "2022-06-17T02:22:44.279024Z",
     "iopub.status.idle": "2022-06-17T02:22:44.297982Z",
     "shell.execute_reply": "2022-06-17T02:22:44.297488Z"
    },
    "papermill": {
     "duration": 0.027785,
     "end_time": "2022-06-17T02:22:44.299384",
     "exception": false,
     "start_time": "2022-06-17T02:22:44.271599",
     "status": "completed"
    },
    "tags": []
   },
   "outputs": [
    {
     "data": {
      "text/plain": [
       "6750"
      ]
     },
     "execution_count": 15,
     "metadata": {},
     "output_type": "execute_result"
    }
   ],
   "source": [
    "len(multiplier_z_genes)"
   ]
  },
  {
   "cell_type": "code",
   "execution_count": 16,
   "id": "115e8864",
   "metadata": {
    "execution": {
     "iopub.execute_input": "2022-06-17T02:22:44.313695Z",
     "iopub.status.busy": "2022-06-17T02:22:44.313269Z",
     "iopub.status.idle": "2022-06-17T02:22:44.331779Z",
     "shell.execute_reply": "2022-06-17T02:22:44.331175Z"
    },
    "papermill": {
     "duration": 0.027134,
     "end_time": "2022-06-17T02:22:44.333158",
     "exception": false,
     "start_time": "2022-06-17T02:22:44.306024",
     "status": "completed"
    },
    "tags": []
   },
   "outputs": [
    {
     "data": {
      "text/plain": [
       "['GAS6',\n",
       " 'MMP14',\n",
       " 'DSP',\n",
       " 'MARCKSL1',\n",
       " 'SPARC',\n",
       " 'CTSD',\n",
       " 'EPAS1',\n",
       " 'PALLD',\n",
       " 'PHC2',\n",
       " 'LGALS3BP']"
      ]
     },
     "execution_count": 16,
     "metadata": {},
     "output_type": "execute_result"
    }
   ],
   "source": [
    "multiplier_z_genes[:10]"
   ]
  },
  {
   "cell_type": "markdown",
   "id": "7dcb8db7",
   "metadata": {
    "papermill": {
     "duration": 0.00625,
     "end_time": "2022-06-17T02:22:44.345997",
     "exception": false,
     "start_time": "2022-06-17T02:22:44.339747",
     "status": "completed"
    },
    "tags": []
   },
   "source": [
    "## Get gene objects"
   ]
  },
  {
   "cell_type": "code",
   "execution_count": 17,
   "id": "bb932812",
   "metadata": {
    "execution": {
     "iopub.execute_input": "2022-06-17T02:22:44.374815Z",
     "iopub.status.busy": "2022-06-17T02:22:44.374631Z",
     "iopub.status.idle": "2022-06-17T02:22:44.398692Z",
     "shell.execute_reply": "2022-06-17T02:22:44.398139Z"
    },
    "papermill": {
     "duration": 0.0321,
     "end_time": "2022-06-17T02:22:44.400165",
     "exception": false,
     "start_time": "2022-06-17T02:22:44.368065",
     "status": "completed"
    },
    "tags": []
   },
   "outputs": [],
   "source": [
    "multiplier_gene_obj = {\n",
    "    gene_name: Gene(name=gene_name)\n",
    "    for gene_name in multiplier_z_genes\n",
    "    if gene_name in Gene.GENE_NAME_TO_ID_MAP\n",
    "}"
   ]
  },
  {
   "cell_type": "code",
   "execution_count": 18,
   "id": "39533214",
   "metadata": {
    "execution": {
     "iopub.execute_input": "2022-06-17T02:22:44.417635Z",
     "iopub.status.busy": "2022-06-17T02:22:44.414089Z",
     "iopub.status.idle": "2022-06-17T02:22:44.436097Z",
     "shell.execute_reply": "2022-06-17T02:22:44.435557Z"
    },
    "papermill": {
     "duration": 0.030543,
     "end_time": "2022-06-17T02:22:44.437570",
     "exception": false,
     "start_time": "2022-06-17T02:22:44.407027",
     "status": "completed"
    },
    "tags": []
   },
   "outputs": [
    {
     "data": {
      "text/plain": [
       "6454"
      ]
     },
     "execution_count": 18,
     "metadata": {},
     "output_type": "execute_result"
    }
   ],
   "source": [
    "len(multiplier_gene_obj)"
   ]
  },
  {
   "cell_type": "code",
   "execution_count": 19,
   "id": "9a5d0b84",
   "metadata": {
    "execution": {
     "iopub.execute_input": "2022-06-17T02:22:44.452554Z",
     "iopub.status.busy": "2022-06-17T02:22:44.451822Z",
     "iopub.status.idle": "2022-06-17T02:22:44.469372Z",
     "shell.execute_reply": "2022-06-17T02:22:44.468941Z"
    },
    "papermill": {
     "duration": 0.026618,
     "end_time": "2022-06-17T02:22:44.470993",
     "exception": false,
     "start_time": "2022-06-17T02:22:44.444375",
     "status": "completed"
    },
    "tags": []
   },
   "outputs": [
    {
     "data": {
      "text/plain": [
       "'ENSG00000183087'"
      ]
     },
     "execution_count": 19,
     "metadata": {},
     "output_type": "execute_result"
    }
   ],
   "source": [
    "multiplier_gene_obj[\"GAS6\"].ensembl_id"
   ]
  },
  {
   "cell_type": "code",
   "execution_count": 20,
   "id": "e3ffabc7",
   "metadata": {
    "execution": {
     "iopub.execute_input": "2022-06-17T02:22:44.484453Z",
     "iopub.status.busy": "2022-06-17T02:22:44.484282Z",
     "iopub.status.idle": "2022-06-17T02:22:46.498312Z",
     "shell.execute_reply": "2022-06-17T02:22:46.497688Z"
    },
    "papermill": {
     "duration": 2.022362,
     "end_time": "2022-06-17T02:22:46.499611",
     "exception": false,
     "start_time": "2022-06-17T02:22:44.477249",
     "status": "completed"
    },
    "tags": []
   },
   "outputs": [],
   "source": [
    "_gene_obj = list(multiplier_gene_obj.values())\n",
    "\n",
    "genes_info = pd.DataFrame(\n",
    "    {\n",
    "        \"name\": [g.name for g in _gene_obj],\n",
    "        \"id\": [g.ensembl_id for g in _gene_obj],\n",
    "        \"chr\": [g.chromosome for g in _gene_obj],\n",
    "        \"band\": [g.band for g in _gene_obj],\n",
    "        \"start_position\": [g.get_attribute(\"start_position\") for g in _gene_obj],\n",
    "    }\n",
    ")"
   ]
  },
  {
   "cell_type": "code",
   "execution_count": 21,
   "id": "e23519b8",
   "metadata": {
    "execution": {
     "iopub.execute_input": "2022-06-17T02:22:46.513086Z",
     "iopub.status.busy": "2022-06-17T02:22:46.512736Z",
     "iopub.status.idle": "2022-06-17T02:22:46.527470Z",
     "shell.execute_reply": "2022-06-17T02:22:46.527051Z"
    },
    "papermill": {
     "duration": 0.022947,
     "end_time": "2022-06-17T02:22:46.528827",
     "exception": false,
     "start_time": "2022-06-17T02:22:46.505880",
     "status": "completed"
    },
    "tags": []
   },
   "outputs": [
    {
     "data": {
      "text/plain": [
       "(6454, 5)"
      ]
     },
     "execution_count": 21,
     "metadata": {},
     "output_type": "execute_result"
    }
   ],
   "source": [
    "genes_info.shape"
   ]
  },
  {
   "cell_type": "code",
   "execution_count": 22,
   "id": "0d71881c",
   "metadata": {
    "execution": {
     "iopub.execute_input": "2022-06-17T02:22:46.541804Z",
     "iopub.status.busy": "2022-06-17T02:22:46.541635Z",
     "iopub.status.idle": "2022-06-17T02:22:46.562129Z",
     "shell.execute_reply": "2022-06-17T02:22:46.561620Z"
    },
    "papermill": {
     "duration": 0.028636,
     "end_time": "2022-06-17T02:22:46.563565",
     "exception": false,
     "start_time": "2022-06-17T02:22:46.534929",
     "status": "completed"
    },
    "tags": []
   },
   "outputs": [
    {
     "data": {
      "text/html": [
       "<div>\n",
       "<style scoped>\n",
       "    .dataframe tbody tr th:only-of-type {\n",
       "        vertical-align: middle;\n",
       "    }\n",
       "\n",
       "    .dataframe tbody tr th {\n",
       "        vertical-align: top;\n",
       "    }\n",
       "\n",
       "    .dataframe thead th {\n",
       "        text-align: right;\n",
       "    }\n",
       "</style>\n",
       "<table border=\"1\" class=\"dataframe\">\n",
       "  <thead>\n",
       "    <tr style=\"text-align: right;\">\n",
       "      <th></th>\n",
       "      <th>name</th>\n",
       "      <th>id</th>\n",
       "      <th>chr</th>\n",
       "      <th>band</th>\n",
       "      <th>start_position</th>\n",
       "    </tr>\n",
       "  </thead>\n",
       "  <tbody>\n",
       "    <tr>\n",
       "      <th>0</th>\n",
       "      <td>GAS6</td>\n",
       "      <td>ENSG00000183087</td>\n",
       "      <td>13</td>\n",
       "      <td>13q34</td>\n",
       "      <td>113820549.0</td>\n",
       "    </tr>\n",
       "    <tr>\n",
       "      <th>1</th>\n",
       "      <td>MMP14</td>\n",
       "      <td>ENSG00000157227</td>\n",
       "      <td>14</td>\n",
       "      <td>14q11.2</td>\n",
       "      <td>22836560.0</td>\n",
       "    </tr>\n",
       "    <tr>\n",
       "      <th>2</th>\n",
       "      <td>DSP</td>\n",
       "      <td>ENSG00000096696</td>\n",
       "      <td>6</td>\n",
       "      <td>6p24.3</td>\n",
       "      <td>7541617.0</td>\n",
       "    </tr>\n",
       "    <tr>\n",
       "      <th>3</th>\n",
       "      <td>MARCKSL1</td>\n",
       "      <td>ENSG00000175130</td>\n",
       "      <td>1</td>\n",
       "      <td>1p35.1</td>\n",
       "      <td>32333839.0</td>\n",
       "    </tr>\n",
       "    <tr>\n",
       "      <th>4</th>\n",
       "      <td>SPARC</td>\n",
       "      <td>ENSG00000113140</td>\n",
       "      <td>5</td>\n",
       "      <td>5q33.1</td>\n",
       "      <td>151661096.0</td>\n",
       "    </tr>\n",
       "  </tbody>\n",
       "</table>\n",
       "</div>"
      ],
      "text/plain": [
       "       name               id chr     band  start_position\n",
       "0      GAS6  ENSG00000183087  13    13q34     113820549.0\n",
       "1     MMP14  ENSG00000157227  14  14q11.2      22836560.0\n",
       "2       DSP  ENSG00000096696   6   6p24.3       7541617.0\n",
       "3  MARCKSL1  ENSG00000175130   1   1p35.1      32333839.0\n",
       "4     SPARC  ENSG00000113140   5   5q33.1     151661096.0"
      ]
     },
     "execution_count": 22,
     "metadata": {},
     "output_type": "execute_result"
    }
   ],
   "source": [
    "genes_info.head()"
   ]
  },
  {
   "cell_type": "markdown",
   "id": "c8d1038f",
   "metadata": {
    "papermill": {
     "duration": 0.006347,
     "end_time": "2022-06-17T02:22:46.576487",
     "exception": false,
     "start_time": "2022-06-17T02:22:46.570140",
     "status": "completed"
    },
    "tags": []
   },
   "source": [
    "# Test"
   ]
  },
  {
   "cell_type": "code",
   "execution_count": 23,
   "id": "64993abf",
   "metadata": {
    "execution": {
     "iopub.execute_input": "2022-06-17T02:22:46.590316Z",
     "iopub.status.busy": "2022-06-17T02:22:46.590054Z",
     "iopub.status.idle": "2022-06-17T02:22:46.614239Z",
     "shell.execute_reply": "2022-06-17T02:22:46.613625Z"
    },
    "papermill": {
     "duration": 0.03256,
     "end_time": "2022-06-17T02:22:46.615604",
     "exception": false,
     "start_time": "2022-06-17T02:22:46.583044",
     "status": "completed"
    },
    "tags": []
   },
   "outputs": [
    {
     "data": {
      "text/html": [
       "<div>\n",
       "<style scoped>\n",
       "    .dataframe tbody tr th:only-of-type {\n",
       "        vertical-align: middle;\n",
       "    }\n",
       "\n",
       "    .dataframe tbody tr th {\n",
       "        vertical-align: top;\n",
       "    }\n",
       "\n",
       "    .dataframe thead th {\n",
       "        text-align: right;\n",
       "    }\n",
       "</style>\n",
       "<table border=\"1\" class=\"dataframe\">\n",
       "  <thead>\n",
       "    <tr style=\"text-align: right;\">\n",
       "      <th></th>\n",
       "      <th>name</th>\n",
       "      <th>id</th>\n",
       "      <th>chr</th>\n",
       "      <th>band</th>\n",
       "      <th>start_position</th>\n",
       "    </tr>\n",
       "  </thead>\n",
       "  <tbody>\n",
       "    <tr>\n",
       "      <th>9</th>\n",
       "      <td>LGALS3BP</td>\n",
       "      <td>ENSG00000108679</td>\n",
       "      <td>17</td>\n",
       "      <td>17q25.3</td>\n",
       "      <td>78971238.0</td>\n",
       "    </tr>\n",
       "    <tr>\n",
       "      <th>28</th>\n",
       "      <td>IGFBP4</td>\n",
       "      <td>ENSG00000141753</td>\n",
       "      <td>17</td>\n",
       "      <td>17q21.2</td>\n",
       "      <td>40443450.0</td>\n",
       "    </tr>\n",
       "    <tr>\n",
       "      <th>30</th>\n",
       "      <td>DUSP3</td>\n",
       "      <td>ENSG00000108861</td>\n",
       "      <td>17</td>\n",
       "      <td>17q21.31</td>\n",
       "      <td>43766125.0</td>\n",
       "    </tr>\n",
       "    <tr>\n",
       "      <th>45</th>\n",
       "      <td>SEC14L1</td>\n",
       "      <td>ENSG00000129657</td>\n",
       "      <td>17</td>\n",
       "      <td>17q25.2</td>\n",
       "      <td>77088749.0</td>\n",
       "    </tr>\n",
       "    <tr>\n",
       "      <th>47</th>\n",
       "      <td>BIRC5</td>\n",
       "      <td>ENSG00000089685</td>\n",
       "      <td>17</td>\n",
       "      <td>17q25.3</td>\n",
       "      <td>78214186.0</td>\n",
       "    </tr>\n",
       "    <tr>\n",
       "      <th>...</th>\n",
       "      <td>...</td>\n",
       "      <td>...</td>\n",
       "      <td>...</td>\n",
       "      <td>...</td>\n",
       "      <td>...</td>\n",
       "    </tr>\n",
       "    <tr>\n",
       "      <th>6419</th>\n",
       "      <td>SNF8</td>\n",
       "      <td>ENSG00000159210</td>\n",
       "      <td>17</td>\n",
       "      <td>17q21.32</td>\n",
       "      <td>48929316.0</td>\n",
       "    </tr>\n",
       "    <tr>\n",
       "      <th>6423</th>\n",
       "      <td>IKZF3</td>\n",
       "      <td>ENSG00000161405</td>\n",
       "      <td>17</td>\n",
       "      <td>17q21.1</td>\n",
       "      <td>39757718.0</td>\n",
       "    </tr>\n",
       "    <tr>\n",
       "      <th>6427</th>\n",
       "      <td>SLC13A5</td>\n",
       "      <td>ENSG00000141485</td>\n",
       "      <td>17</td>\n",
       "      <td>17p13.1</td>\n",
       "      <td>6684713.0</td>\n",
       "    </tr>\n",
       "    <tr>\n",
       "      <th>6433</th>\n",
       "      <td>TIMM22</td>\n",
       "      <td>ENSG00000177370</td>\n",
       "      <td>17</td>\n",
       "      <td>17p13.3</td>\n",
       "      <td>997129.0</td>\n",
       "    </tr>\n",
       "    <tr>\n",
       "      <th>6452</th>\n",
       "      <td>GNGT2</td>\n",
       "      <td>ENSG00000167083</td>\n",
       "      <td>17</td>\n",
       "      <td>17q21.32</td>\n",
       "      <td>49202791.0</td>\n",
       "    </tr>\n",
       "  </tbody>\n",
       "</table>\n",
       "<p>411 rows × 5 columns</p>\n",
       "</div>"
      ],
      "text/plain": [
       "          name               id chr      band  start_position\n",
       "9     LGALS3BP  ENSG00000108679  17   17q25.3      78971238.0\n",
       "28      IGFBP4  ENSG00000141753  17   17q21.2      40443450.0\n",
       "30       DUSP3  ENSG00000108861  17  17q21.31      43766125.0\n",
       "45     SEC14L1  ENSG00000129657  17   17q25.2      77088749.0\n",
       "47       BIRC5  ENSG00000089685  17   17q25.3      78214186.0\n",
       "...        ...              ...  ..       ...             ...\n",
       "6419      SNF8  ENSG00000159210  17  17q21.32      48929316.0\n",
       "6423     IKZF3  ENSG00000161405  17   17q21.1      39757718.0\n",
       "6427   SLC13A5  ENSG00000141485  17   17p13.1       6684713.0\n",
       "6433    TIMM22  ENSG00000177370  17   17p13.3        997129.0\n",
       "6452     GNGT2  ENSG00000167083  17  17q21.32      49202791.0\n",
       "\n",
       "[411 rows x 5 columns]"
      ]
     },
     "metadata": {},
     "output_type": "display_data"
    }
   ],
   "source": [
    "chromosome_genes_info = genes_info[genes_info[\"chr\"] == chromosome]\n",
    "display(chromosome_genes_info)"
   ]
  },
  {
   "cell_type": "code",
   "execution_count": 24,
   "id": "d2e42726-7de6-46eb-acfc-6323eaa8fae6",
   "metadata": {
    "execution": {
     "iopub.execute_input": "2022-06-17T02:22:46.630647Z",
     "iopub.status.busy": "2022-06-17T02:22:46.630092Z",
     "iopub.status.idle": "2022-06-17T02:22:46.646527Z",
     "shell.execute_reply": "2022-06-17T02:22:46.645976Z"
    },
    "papermill": {
     "duration": 0.025265,
     "end_time": "2022-06-17T02:22:46.647863",
     "exception": false,
     "start_time": "2022-06-17T02:22:46.622598",
     "status": "completed"
    },
    "tags": []
   },
   "outputs": [
    {
     "data": {
      "text/plain": [
       "5"
      ]
     },
     "metadata": {},
     "output_type": "display_data"
    }
   ],
   "source": [
    "seed(0)\n",
    "_gene_list_ids = sample(chromosome_genes_info[\"id\"].tolist(), 5)\n",
    "selected_chromosome_genes_obj = [Gene(ensembl_id=g_id) for g_id in _gene_list_ids]\n",
    "display(len(selected_chromosome_genes_obj))"
   ]
  },
  {
   "cell_type": "code",
   "execution_count": 25,
   "id": "1b355359",
   "metadata": {
    "execution": {
     "iopub.execute_input": "2022-06-17T02:22:46.663219Z",
     "iopub.status.busy": "2022-06-17T02:22:46.662819Z",
     "iopub.status.idle": "2022-06-17T02:23:03.944622Z",
     "shell.execute_reply": "2022-06-17T02:23:03.944146Z"
    },
    "papermill": {
     "duration": 17.291199,
     "end_time": "2022-06-17T02:23:03.946215",
     "exception": false,
     "start_time": "2022-06-17T02:22:46.655016",
     "status": "completed"
    },
    "tags": []
   },
   "outputs": [
    {
     "name": "stdout",
     "output_type": "stream",
     "text": [
      "ACLY / AANAT: 0.0\n",
      "ACLY / TCAP: -0.38896830252487186\n",
      "ACLY / AOC2: -0.08058570974078515\n",
      "ACLY / PDK2: 0.0\n",
      "AANAT / TCAP: 0.0\n",
      "AANAT / AOC2: 0.0\n",
      "AANAT / PDK2: 0.0\n",
      "TCAP / AOC2: 0.12778680231372724\n",
      "TCAP / PDK2: 0.0\n",
      "AOC2 / PDK2: 0.0\n"
     ]
    }
   ],
   "source": [
    "for gene_idx1 in range(0, len(selected_chromosome_genes_obj) - 1):\n",
    "    gene_obj1 = selected_chromosome_genes_obj[gene_idx1]\n",
    "\n",
    "    for gene_idx2 in range(gene_idx1 + 1, len(selected_chromosome_genes_obj)):\n",
    "        gene_obj2 = selected_chromosome_genes_obj[gene_idx2]\n",
    "\n",
    "        c = gene_obj1.get_ssm_correlation(\n",
    "            gene_obj2,\n",
    "        )\n",
    "\n",
    "        print(f\"{gene_obj1.name} / {gene_obj2.name}: {c}\")"
   ]
  },
  {
   "cell_type": "markdown",
   "id": "d3843e06",
   "metadata": {
    "papermill": {
     "duration": 0.012975,
     "end_time": "2022-06-17T02:23:03.972561",
     "exception": false,
     "start_time": "2022-06-17T02:23:03.959586",
     "status": "completed"
    },
    "tags": []
   },
   "source": [
    "# Compute correlation per chromosome"
   ]
  },
  {
   "cell_type": "code",
   "execution_count": 26,
   "id": "cb859c15-d1f3-4006-a74c-2b83c0db9611",
   "metadata": {
    "execution": {
     "iopub.execute_input": "2022-06-17T02:23:03.994032Z",
     "iopub.status.busy": "2022-06-17T02:23:03.993855Z",
     "iopub.status.idle": "2022-06-17T02:23:04.012927Z",
     "shell.execute_reply": "2022-06-17T02:23:04.012320Z"
    },
    "papermill": {
     "duration": 0.028173,
     "end_time": "2022-06-17T02:23:04.014332",
     "exception": false,
     "start_time": "2022-06-17T02:23:03.986159",
     "status": "completed"
    },
    "tags": []
   },
   "outputs": [
    {
     "data": {
      "text/plain": [
       "PosixPath('/opt/data/data/phenomexcan/ld_blocks/gene_corrs/gtex_v8/mashr/by_chr/gene_corrs-chr17.pkl')"
      ]
     },
     "metadata": {},
     "output_type": "display_data"
    }
   ],
   "source": [
    "output_dir = OUTPUT_DIR_BASE / \"by_chr\"\n",
    "output_dir.mkdir(exist_ok=True, parents=True)\n",
    "output_file = output_dir / f\"gene_corrs-chr{chromosome}.pkl\"\n",
    "display(output_file)"
   ]
  },
  {
   "cell_type": "code",
   "execution_count": 27,
   "id": "aa674fe4-6794-4eed-98fa-32b39d1d4ace",
   "metadata": {
    "execution": {
     "iopub.execute_input": "2022-06-17T02:23:04.030706Z",
     "iopub.status.busy": "2022-06-17T02:23:04.030528Z",
     "iopub.status.idle": "2022-06-17T02:23:04.048189Z",
     "shell.execute_reply": "2022-06-17T02:23:04.047608Z"
    },
    "papermill": {
     "duration": 0.027322,
     "end_time": "2022-06-17T02:23:04.049677",
     "exception": false,
     "start_time": "2022-06-17T02:23:04.022355",
     "status": "completed"
    },
    "tags": []
   },
   "outputs": [],
   "source": [
    "warnings.filterwarnings(\"error\")"
   ]
  },
  {
   "cell_type": "code",
   "execution_count": 28,
   "id": "cdbb90a1",
   "metadata": {
    "execution": {
     "iopub.execute_input": "2022-06-17T02:23:04.066379Z",
     "iopub.status.busy": "2022-06-17T02:23:04.066199Z",
     "iopub.status.idle": "2022-06-17T11:26:53.844269Z",
     "shell.execute_reply": "2022-06-17T11:26:53.843864Z"
    },
    "papermill": {
     "duration": 32629.787845,
     "end_time": "2022-06-17T11:26:53.845544",
     "exception": false,
     "start_time": "2022-06-17T02:23:04.057699",
     "status": "completed"
    },
    "tags": []
   },
   "outputs": [
    {
     "name": "stdout",
     "output_type": "stream",
     "text": [
      "Number of genes in chromosome: 411\n",
      "Number of gene combinations: 84255\n"
     ]
    },
    {
     "name": "stderr",
     "output_type": "stream",
     "text": [
      "ENSG00000141556 / ENSG00000175711: 100%|████████████████████| 84255/84255 [9:03:49<00:00,  2.58it/s]"
     ]
    },
    {
     "name": "stdout",
     "output_type": "stream",
     "text": [
      "Min/max values: -0.9841645500574169 / 0.9999999999999998\n"
     ]
    },
    {
     "name": "stderr",
     "output_type": "stream",
     "text": [
      "\n"
     ]
    },
    {
     "data": {
      "text/plain": [
       "PosixPath('/opt/data/data/phenomexcan/ld_blocks/gene_corrs/gtex_v8/mashr/by_chr/gene_corrs-chr17.pkl')"
      ]
     },
     "metadata": {},
     "output_type": "display_data"
    }
   ],
   "source": [
    "# standard checks\n",
    "all_chrs = genes_info[\"chr\"].dropna().unique()\n",
    "assert all_chrs.shape[0] == 22\n",
    "\n",
    "# select chromosome given by the user\n",
    "assert chromosome in all_chrs\n",
    "\n",
    "# run only on the chromosome specified\n",
    "all_chrs = [chromosome]\n",
    "genes_chr = genes_info[genes_info[\"chr\"] == chromosome]\n",
    "\n",
    "# For testing purposes\n",
    "# genes_chr = genes_chr.sample(n=20)\n",
    "\n",
    "print(f\"Number of genes in chromosome: {genes_chr.shape[0]}\", flush=True)\n",
    "\n",
    "# sort genes by starting position to make visualizations better later\n",
    "genes_chr = genes_chr.sort_values(\"start_position\")\n",
    "\n",
    "gene_chr_objs = [Gene(ensembl_id=gene_id) for gene_id in genes_chr[\"id\"]]\n",
    "gene_chr_ids = [g.ensembl_id for g in gene_chr_objs]\n",
    "\n",
    "n = len(gene_chr_objs)\n",
    "n_comb = int(n * (n - 1) / 2.0)\n",
    "print(f\"Number of gene combinations: {n_comb}\", flush=True)\n",
    "\n",
    "gene_corrs = []\n",
    "\n",
    "pbar = tqdm(ncols=100, total=n_comb)\n",
    "i = 0\n",
    "for gene_idx1 in range(0, len(gene_chr_objs) - 1):\n",
    "    gene_obj1 = gene_chr_objs[gene_idx1]\n",
    "\n",
    "    for gene_idx2 in range(gene_idx1 + 1, len(gene_chr_objs)):\n",
    "        gene_obj2 = gene_chr_objs[gene_idx2]\n",
    "\n",
    "        pbar.set_description(f\"{gene_obj1.ensembl_id} / {gene_obj2.ensembl_id}\")\n",
    "\n",
    "        try:\n",
    "            # FIXME: compute the correlation of the sum of squares of the model using all\n",
    "            # the available tissues; this could be problematic because for some results\n",
    "            # (computed on a specific phenotype/GWAS) we might not have all the tissues\n",
    "            # available, which can certainly bias the correlation estimation.\n",
    "            # Since this depends on the GWAS on a specific phenotype, we should ideally have\n",
    "            # one correlation matrix per GWAS. I should look at how we can improve this.\n",
    "            gene_corrs.append(\n",
    "                gene_obj1.get_ssm_correlation(\n",
    "                    other_gene=gene_obj2,\n",
    "                    condition_number=SMULTIXCAN_CONDITION_NUMBER,\n",
    "                    reference_panel=REFERENCE_PANEL,\n",
    "                    model_type=EQTL_MODEL,\n",
    "                )\n",
    "            )\n",
    "        except Warning:\n",
    "            print(\n",
    "                f\"RuntimeWarning for genes {gene_obj1.ensembl_id} and {gene_obj2.ensembl_id}\",\n",
    "                flush=True,\n",
    "            )\n",
    "            import traceback\n",
    "\n",
    "            print(traceback.format_exc(), flush=True)\n",
    "        except Exception as e:\n",
    "            print(\n",
    "                f\"Exception for genes {gene_obj1.ensembl_id} and {gene_obj2.ensembl_id}\",\n",
    "                flush=True,\n",
    "            )\n",
    "            import traceback\n",
    "\n",
    "            print(traceback.format_exc(), flush=True)\n",
    "            gene_corrs.append(np.nan)\n",
    "\n",
    "        pbar.update(1)\n",
    "\n",
    "pbar.close()\n",
    "\n",
    "# testing\n",
    "gene_corrs_flat = pd.Series(gene_corrs)\n",
    "print(f\"Min/max values: {gene_corrs_flat.min()} / {gene_corrs_flat.max()}\")\n",
    "assert gene_corrs_flat.min() >= -1.001\n",
    "assert gene_corrs_flat.max() <= 1.001\n",
    "\n",
    "# save\n",
    "# FIXME: consider saving only the condenced matrix here. See here for\n",
    "# more details: https://github.com/greenelab/phenoplier/pull/38#discussion_r634600813\n",
    "gene_corrs_data = squareform(np.array(gene_corrs, dtype=np.float64))\n",
    "np.fill_diagonal(gene_corrs_data, 1.0)\n",
    "\n",
    "gene_corrs_df = pd.DataFrame(\n",
    "    data=gene_corrs_data,\n",
    "    index=gene_chr_ids,\n",
    "    columns=gene_chr_ids,\n",
    ")\n",
    "\n",
    "output_dir.mkdir(exist_ok=True, parents=True)\n",
    "display(output_file)\n",
    "\n",
    "gene_corrs_df.to_pickle(output_file)"
   ]
  },
  {
   "cell_type": "markdown",
   "id": "faa67b51-5373-470f-aa72-2ded53fa6dfe",
   "metadata": {
    "papermill": {
     "duration": 3.552851,
     "end_time": "2022-06-17T11:27:00.752157",
     "exception": false,
     "start_time": "2022-06-17T11:26:57.199306",
     "status": "completed"
    },
    "tags": []
   },
   "source": [
    "# Testing"
   ]
  },
  {
   "cell_type": "code",
   "execution_count": 29,
   "id": "14f7d046-4b55-4896-a56b-990127bcc388",
   "metadata": {
    "execution": {
     "iopub.execute_input": "2022-06-17T11:27:07.576345Z",
     "iopub.status.busy": "2022-06-17T11:27:07.576131Z",
     "iopub.status.idle": "2022-06-17T11:27:07.591963Z",
     "shell.execute_reply": "2022-06-17T11:27:07.591465Z"
    },
    "papermill": {
     "duration": 3.492303,
     "end_time": "2022-06-17T11:27:07.593242",
     "exception": false,
     "start_time": "2022-06-17T11:27:04.100939",
     "status": "completed"
    },
    "tags": []
   },
   "outputs": [
    {
     "data": {
      "text/plain": [
       "(411, 411)"
      ]
     },
     "execution_count": 29,
     "metadata": {},
     "output_type": "execute_result"
    }
   ],
   "source": [
    "gene_corrs_df.shape"
   ]
  },
  {
   "cell_type": "code",
   "execution_count": 30,
   "id": "c7d15414-3297-4537-a7c6-7588c0baeb75",
   "metadata": {
    "execution": {
     "iopub.execute_input": "2022-06-17T11:27:14.476734Z",
     "iopub.status.busy": "2022-06-17T11:27:14.476126Z",
     "iopub.status.idle": "2022-06-17T11:27:14.504989Z",
     "shell.execute_reply": "2022-06-17T11:27:14.504349Z"
    },
    "papermill": {
     "duration": 3.41887,
     "end_time": "2022-06-17T11:27:14.506307",
     "exception": false,
     "start_time": "2022-06-17T11:27:11.087437",
     "status": "completed"
    },
    "tags": []
   },
   "outputs": [
    {
     "data": {
      "text/html": [
       "<div>\n",
       "<style scoped>\n",
       "    .dataframe tbody tr th:only-of-type {\n",
       "        vertical-align: middle;\n",
       "    }\n",
       "\n",
       "    .dataframe tbody tr th {\n",
       "        vertical-align: top;\n",
       "    }\n",
       "\n",
       "    .dataframe thead th {\n",
       "        text-align: right;\n",
       "    }\n",
       "</style>\n",
       "<table border=\"1\" class=\"dataframe\">\n",
       "  <thead>\n",
       "    <tr style=\"text-align: right;\">\n",
       "      <th></th>\n",
       "      <th>ENSG00000141252</th>\n",
       "      <th>ENSG00000179409</th>\n",
       "      <th>ENSG00000177370</th>\n",
       "      <th>ENSG00000159842</th>\n",
       "      <th>ENSG00000108953</th>\n",
       "      <th>ENSG00000167193</th>\n",
       "      <th>ENSG00000132376</th>\n",
       "      <th>ENSG00000174238</th>\n",
       "      <th>ENSG00000167703</th>\n",
       "      <th>ENSG00000074660</th>\n",
       "      <th>...</th>\n",
       "      <th>ENSG00000169733</th>\n",
       "      <th>ENSG00000169710</th>\n",
       "      <th>ENSG00000141526</th>\n",
       "      <th>ENSG00000141551</th>\n",
       "      <th>ENSG00000173762</th>\n",
       "      <th>ENSG00000141574</th>\n",
       "      <th>ENSG00000141562</th>\n",
       "      <th>ENSG00000141542</th>\n",
       "      <th>ENSG00000141556</th>\n",
       "      <th>ENSG00000175711</th>\n",
       "    </tr>\n",
       "  </thead>\n",
       "  <tbody>\n",
       "    <tr>\n",
       "      <th>ENSG00000141252</th>\n",
       "      <td>1.000000</td>\n",
       "      <td>-0.002168</td>\n",
       "      <td>-0.105269</td>\n",
       "      <td>-0.142606</td>\n",
       "      <td>-0.116792</td>\n",
       "      <td>-0.126429</td>\n",
       "      <td>0.033058</td>\n",
       "      <td>0.049300</td>\n",
       "      <td>0.053540</td>\n",
       "      <td>0.098278</td>\n",
       "      <td>...</td>\n",
       "      <td>0.0</td>\n",
       "      <td>0.0</td>\n",
       "      <td>0.0</td>\n",
       "      <td>0.0</td>\n",
       "      <td>0.0</td>\n",
       "      <td>0.0</td>\n",
       "      <td>0.0</td>\n",
       "      <td>0.0</td>\n",
       "      <td>0.0</td>\n",
       "      <td>0.0</td>\n",
       "    </tr>\n",
       "    <tr>\n",
       "      <th>ENSG00000179409</th>\n",
       "      <td>-0.002168</td>\n",
       "      <td>1.000000</td>\n",
       "      <td>0.041540</td>\n",
       "      <td>0.025232</td>\n",
       "      <td>-0.078009</td>\n",
       "      <td>-0.117769</td>\n",
       "      <td>-0.148778</td>\n",
       "      <td>-0.095749</td>\n",
       "      <td>-0.016907</td>\n",
       "      <td>0.071295</td>\n",
       "      <td>...</td>\n",
       "      <td>0.0</td>\n",
       "      <td>0.0</td>\n",
       "      <td>0.0</td>\n",
       "      <td>0.0</td>\n",
       "      <td>0.0</td>\n",
       "      <td>0.0</td>\n",
       "      <td>0.0</td>\n",
       "      <td>0.0</td>\n",
       "      <td>0.0</td>\n",
       "      <td>0.0</td>\n",
       "    </tr>\n",
       "    <tr>\n",
       "      <th>ENSG00000177370</th>\n",
       "      <td>-0.105269</td>\n",
       "      <td>0.041540</td>\n",
       "      <td>1.000000</td>\n",
       "      <td>-0.011335</td>\n",
       "      <td>-0.214391</td>\n",
       "      <td>-0.172525</td>\n",
       "      <td>0.102476</td>\n",
       "      <td>-0.139789</td>\n",
       "      <td>0.007238</td>\n",
       "      <td>-0.165510</td>\n",
       "      <td>...</td>\n",
       "      <td>0.0</td>\n",
       "      <td>0.0</td>\n",
       "      <td>0.0</td>\n",
       "      <td>0.0</td>\n",
       "      <td>0.0</td>\n",
       "      <td>0.0</td>\n",
       "      <td>0.0</td>\n",
       "      <td>0.0</td>\n",
       "      <td>0.0</td>\n",
       "      <td>0.0</td>\n",
       "    </tr>\n",
       "    <tr>\n",
       "      <th>ENSG00000159842</th>\n",
       "      <td>-0.142606</td>\n",
       "      <td>0.025232</td>\n",
       "      <td>-0.011335</td>\n",
       "      <td>1.000000</td>\n",
       "      <td>0.091164</td>\n",
       "      <td>0.151132</td>\n",
       "      <td>-0.079909</td>\n",
       "      <td>-0.041843</td>\n",
       "      <td>0.014219</td>\n",
       "      <td>-0.052256</td>\n",
       "      <td>...</td>\n",
       "      <td>0.0</td>\n",
       "      <td>0.0</td>\n",
       "      <td>0.0</td>\n",
       "      <td>0.0</td>\n",
       "      <td>0.0</td>\n",
       "      <td>0.0</td>\n",
       "      <td>0.0</td>\n",
       "      <td>0.0</td>\n",
       "      <td>0.0</td>\n",
       "      <td>0.0</td>\n",
       "    </tr>\n",
       "    <tr>\n",
       "      <th>ENSG00000108953</th>\n",
       "      <td>-0.116792</td>\n",
       "      <td>-0.078009</td>\n",
       "      <td>-0.214391</td>\n",
       "      <td>0.091164</td>\n",
       "      <td>1.000000</td>\n",
       "      <td>0.162104</td>\n",
       "      <td>-0.031180</td>\n",
       "      <td>-0.138692</td>\n",
       "      <td>-0.073909</td>\n",
       "      <td>-0.069603</td>\n",
       "      <td>...</td>\n",
       "      <td>0.0</td>\n",
       "      <td>0.0</td>\n",
       "      <td>0.0</td>\n",
       "      <td>0.0</td>\n",
       "      <td>0.0</td>\n",
       "      <td>0.0</td>\n",
       "      <td>0.0</td>\n",
       "      <td>0.0</td>\n",
       "      <td>0.0</td>\n",
       "      <td>0.0</td>\n",
       "    </tr>\n",
       "  </tbody>\n",
       "</table>\n",
       "<p>5 rows × 411 columns</p>\n",
       "</div>"
      ],
      "text/plain": [
       "                 ENSG00000141252  ENSG00000179409  ENSG00000177370  \\\n",
       "ENSG00000141252         1.000000        -0.002168        -0.105269   \n",
       "ENSG00000179409        -0.002168         1.000000         0.041540   \n",
       "ENSG00000177370        -0.105269         0.041540         1.000000   \n",
       "ENSG00000159842        -0.142606         0.025232        -0.011335   \n",
       "ENSG00000108953        -0.116792        -0.078009        -0.214391   \n",
       "\n",
       "                 ENSG00000159842  ENSG00000108953  ENSG00000167193  \\\n",
       "ENSG00000141252        -0.142606        -0.116792        -0.126429   \n",
       "ENSG00000179409         0.025232        -0.078009        -0.117769   \n",
       "ENSG00000177370        -0.011335        -0.214391        -0.172525   \n",
       "ENSG00000159842         1.000000         0.091164         0.151132   \n",
       "ENSG00000108953         0.091164         1.000000         0.162104   \n",
       "\n",
       "                 ENSG00000132376  ENSG00000174238  ENSG00000167703  \\\n",
       "ENSG00000141252         0.033058         0.049300         0.053540   \n",
       "ENSG00000179409        -0.148778        -0.095749        -0.016907   \n",
       "ENSG00000177370         0.102476        -0.139789         0.007238   \n",
       "ENSG00000159842        -0.079909        -0.041843         0.014219   \n",
       "ENSG00000108953        -0.031180        -0.138692        -0.073909   \n",
       "\n",
       "                 ENSG00000074660  ...  ENSG00000169733  ENSG00000169710  \\\n",
       "ENSG00000141252         0.098278  ...              0.0              0.0   \n",
       "ENSG00000179409         0.071295  ...              0.0              0.0   \n",
       "ENSG00000177370        -0.165510  ...              0.0              0.0   \n",
       "ENSG00000159842        -0.052256  ...              0.0              0.0   \n",
       "ENSG00000108953        -0.069603  ...              0.0              0.0   \n",
       "\n",
       "                 ENSG00000141526  ENSG00000141551  ENSG00000173762  \\\n",
       "ENSG00000141252              0.0              0.0              0.0   \n",
       "ENSG00000179409              0.0              0.0              0.0   \n",
       "ENSG00000177370              0.0              0.0              0.0   \n",
       "ENSG00000159842              0.0              0.0              0.0   \n",
       "ENSG00000108953              0.0              0.0              0.0   \n",
       "\n",
       "                 ENSG00000141574  ENSG00000141562  ENSG00000141542  \\\n",
       "ENSG00000141252              0.0              0.0              0.0   \n",
       "ENSG00000179409              0.0              0.0              0.0   \n",
       "ENSG00000177370              0.0              0.0              0.0   \n",
       "ENSG00000159842              0.0              0.0              0.0   \n",
       "ENSG00000108953              0.0              0.0              0.0   \n",
       "\n",
       "                 ENSG00000141556  ENSG00000175711  \n",
       "ENSG00000141252              0.0              0.0  \n",
       "ENSG00000179409              0.0              0.0  \n",
       "ENSG00000177370              0.0              0.0  \n",
       "ENSG00000159842              0.0              0.0  \n",
       "ENSG00000108953              0.0              0.0  \n",
       "\n",
       "[5 rows x 411 columns]"
      ]
     },
     "execution_count": 30,
     "metadata": {},
     "output_type": "execute_result"
    }
   ],
   "source": [
    "gene_corrs_df.head()"
   ]
  },
  {
   "cell_type": "code",
   "execution_count": 31,
   "id": "00583efc-7068-4270-ad1e-4a418e91db96",
   "metadata": {
    "execution": {
     "iopub.execute_input": "2022-06-17T11:27:21.502455Z",
     "iopub.status.busy": "2022-06-17T11:27:21.501949Z",
     "iopub.status.idle": "2022-06-17T11:27:21.519410Z",
     "shell.execute_reply": "2022-06-17T11:27:21.518886Z"
    },
    "papermill": {
     "duration": 3.58332,
     "end_time": "2022-06-17T11:27:21.520659",
     "exception": false,
     "start_time": "2022-06-17T11:27:17.937339",
     "status": "completed"
    },
    "tags": []
   },
   "outputs": [
    {
     "data": {
      "text/plain": [
       "-0.9841645500574169"
      ]
     },
     "metadata": {},
     "output_type": "display_data"
    }
   ],
   "source": [
    "_min_val = gene_corrs_df.min().min()\n",
    "display(_min_val)\n",
    "assert _min_val >= -1.0"
   ]
  },
  {
   "cell_type": "code",
   "execution_count": 32,
   "id": "d04fb2cf-1050-475b-b855-f5f7cc04092b",
   "metadata": {
    "execution": {
     "iopub.execute_input": "2022-06-17T11:27:28.233410Z",
     "iopub.status.busy": "2022-06-17T11:27:28.232779Z",
     "iopub.status.idle": "2022-06-17T11:27:28.250130Z",
     "shell.execute_reply": "2022-06-17T11:27:28.249576Z"
    },
    "papermill": {
     "duration": 3.373861,
     "end_time": "2022-06-17T11:27:28.251404",
     "exception": false,
     "start_time": "2022-06-17T11:27:24.877543",
     "status": "completed"
    },
    "tags": []
   },
   "outputs": [
    {
     "data": {
      "text/plain": [
       "1.0"
      ]
     },
     "metadata": {},
     "output_type": "display_data"
    }
   ],
   "source": [
    "_max_val = gene_corrs_df.max().max()  # this captures the diagonal\n",
    "display(_max_val)\n",
    "assert _max_val <= 1.0"
   ]
  },
  {
   "cell_type": "code",
   "execution_count": 33,
   "id": "96d02c44-1fba-47be-8a93-8f2608420b9c",
   "metadata": {
    "execution": {
     "iopub.execute_input": "2022-06-17T11:27:35.243164Z",
     "iopub.status.busy": "2022-06-17T11:27:35.242425Z",
     "iopub.status.idle": "2022-06-17T11:27:35.257722Z",
     "shell.execute_reply": "2022-06-17T11:27:35.257183Z"
    },
    "papermill": {
     "duration": 3.489104,
     "end_time": "2022-06-17T11:27:35.259077",
     "exception": false,
     "start_time": "2022-06-17T11:27:31.769973",
     "status": "completed"
    },
    "tags": []
   },
   "outputs": [],
   "source": [
    "# check upper triangular values\n",
    "assert len(gene_corrs) == int(genes_chr.shape[0] * (genes_chr.shape[0] - 1) / 2)"
   ]
  },
  {
   "cell_type": "code",
   "execution_count": 34,
   "id": "aaa51627-f4e3-4744-a41f-7d25adcc0a78",
   "metadata": {
    "execution": {
     "iopub.execute_input": "2022-06-17T11:27:42.014658Z",
     "iopub.status.busy": "2022-06-17T11:27:42.014461Z",
     "iopub.status.idle": "2022-06-17T11:27:42.037147Z",
     "shell.execute_reply": "2022-06-17T11:27:42.036645Z"
    },
    "papermill": {
     "duration": 3.394992,
     "end_time": "2022-06-17T11:27:42.038488",
     "exception": false,
     "start_time": "2022-06-17T11:27:38.643496",
     "status": "completed"
    },
    "tags": []
   },
   "outputs": [],
   "source": [
    "gene_corrs = pd.Series(gene_corrs)"
   ]
  },
  {
   "cell_type": "code",
   "execution_count": 35,
   "id": "fe283586-c348-40e0-8841-f6d97bfb021c",
   "metadata": {
    "execution": {
     "iopub.execute_input": "2022-06-17T11:27:48.943487Z",
     "iopub.status.busy": "2022-06-17T11:27:48.943289Z",
     "iopub.status.idle": "2022-06-17T11:27:48.963864Z",
     "shell.execute_reply": "2022-06-17T11:27:48.963320Z"
    },
    "papermill": {
     "duration": 3.44301,
     "end_time": "2022-06-17T11:27:48.965188",
     "exception": false,
     "start_time": "2022-06-17T11:27:45.522178",
     "status": "completed"
    },
    "tags": []
   },
   "outputs": [
    {
     "data": {
      "text/plain": [
       "count    84255.000000\n",
       "mean         0.000202\n",
       "std          0.056888\n",
       "min         -0.984165\n",
       "25%          0.000000\n",
       "50%          0.000000\n",
       "75%          0.000000\n",
       "max          1.000000\n",
       "dtype: float64"
      ]
     },
     "execution_count": 35,
     "metadata": {},
     "output_type": "execute_result"
    }
   ],
   "source": [
    "gene_corrs.describe()"
   ]
  },
  {
   "cell_type": "code",
   "execution_count": 36,
   "id": "b3815678-0f93-4b35-897b-a9d047a2aa78",
   "metadata": {
    "execution": {
     "iopub.execute_input": "2022-06-17T11:27:55.977359Z",
     "iopub.status.busy": "2022-06-17T11:27:55.977175Z",
     "iopub.status.idle": "2022-06-17T11:27:55.995842Z",
     "shell.execute_reply": "2022-06-17T11:27:55.995297Z"
    },
    "papermill": {
     "duration": 3.462261,
     "end_time": "2022-06-17T11:27:55.997171",
     "exception": false,
     "start_time": "2022-06-17T11:27:52.534910",
     "status": "completed"
    },
    "tags": []
   },
   "outputs": [
    {
     "data": {
      "text/plain": [
       "0.00   -0.984165\n",
       "0.05   -0.037023\n",
       "0.10    0.000000\n",
       "0.15    0.000000\n",
       "0.20    0.000000\n",
       "0.25    0.000000\n",
       "0.30    0.000000\n",
       "0.35    0.000000\n",
       "0.40    0.000000\n",
       "0.45    0.000000\n",
       "0.50    0.000000\n",
       "0.55    0.000000\n",
       "0.60    0.000000\n",
       "0.65    0.000000\n",
       "0.70    0.000000\n",
       "0.75    0.000000\n",
       "0.80    0.000000\n",
       "0.85    0.000000\n",
       "0.90    0.000000\n",
       "0.95    0.037831\n",
       "dtype: float64"
      ]
     },
     "metadata": {},
     "output_type": "display_data"
    }
   ],
   "source": [
    "gene_corrs_quantiles = gene_corrs.quantile(np.arange(0, 1, 0.05))\n",
    "display(gene_corrs_quantiles)"
   ]
  },
  {
   "cell_type": "markdown",
   "id": "8e60a080-edb2-4e9c-b2ef-22961693200c",
   "metadata": {
    "papermill": {
     "duration": 3.340507,
     "end_time": "2022-06-17T11:28:02.835913",
     "exception": false,
     "start_time": "2022-06-17T11:27:59.495406",
     "status": "completed"
    },
    "tags": []
   },
   "source": [
    "## Plot: distribution"
   ]
  },
  {
   "cell_type": "code",
   "execution_count": 37,
   "id": "8301126b-a7d4-4744-9c7d-f0f86eb6f54c",
   "metadata": {
    "execution": {
     "iopub.execute_input": "2022-06-17T11:28:09.713922Z",
     "iopub.status.busy": "2022-06-17T11:28:09.713710Z",
     "iopub.status.idle": "2022-06-17T11:28:10.192766Z",
     "shell.execute_reply": "2022-06-17T11:28:10.192230Z"
    },
    "papermill": {
     "duration": 3.846869,
     "end_time": "2022-06-17T11:28:10.194185",
     "exception": false,
     "start_time": "2022-06-17T11:28:06.347316",
     "status": "completed"
    },
    "tags": []
   },
   "outputs": [
    {
     "data": {
      "image/png": "[encoded data removed]",
      "text/plain": [
       "<Figure size 504x504 with 1 Axes>"
      ]
     },
     "metadata": {
      "needs_background": "light"
     },
     "output_type": "display_data"
    }
   ],
   "source": [
    "with sns.plotting_context(\"paper\", font_scale=1.5):\n",
    "    g = sns.displot(gene_corrs, kde=True, height=7)\n",
    "    g.ax.set_title(\n",
    "        f\"Distribution of gene correlation values in chromosome {chromosome}\"\n",
    "    )"
   ]
  },
  {
   "cell_type": "markdown",
   "id": "cbd52bca-d878-4a2f-b684-5c83aa3038d4",
   "metadata": {
    "papermill": {
     "duration": 3.39052,
     "end_time": "2022-06-17T11:28:17.066525",
     "exception": false,
     "start_time": "2022-06-17T11:28:13.676005",
     "status": "completed"
    },
    "tags": []
   },
   "source": [
    "## Plot: heatmap"
   ]
  },
  {
   "cell_type": "code",
   "execution_count": 38,
   "id": "d03fe63a-c7b2-4fb9-a53c-db362ce843c9",
   "metadata": {
    "execution": {
     "iopub.execute_input": "2022-06-17T11:28:23.940455Z",
     "iopub.status.busy": "2022-06-17T11:28:23.939846Z",
     "iopub.status.idle": "2022-06-17T11:28:23.956966Z",
     "shell.execute_reply": "2022-06-17T11:28:23.956580Z"
    },
    "papermill": {
     "duration": 3.419156,
     "end_time": "2022-06-17T11:28:23.958206",
     "exception": false,
     "start_time": "2022-06-17T11:28:20.539050",
     "status": "completed"
    },
    "tags": []
   },
   "outputs": [
    {
     "data": {
      "text/plain": [
       "'-0.05 / 0.05'"
      ]
     },
     "metadata": {},
     "output_type": "display_data"
    }
   ],
   "source": [
    "vmin_val = min(-0.05, gene_corrs_quantiles[0.10])\n",
    "vmax_val = max(0.05, gene_corrs_quantiles[0.90])\n",
    "display(f\"{vmin_val} / {vmax_val}\")"
   ]
  },
  {
   "cell_type": "code",
   "execution_count": 39,
   "id": "dc41b70b-5bcc-4d9e-9f33-a22c4a94dab5",
   "metadata": {
    "execution": {
     "iopub.execute_input": "2022-06-17T11:28:30.931458Z",
     "iopub.status.busy": "2022-06-17T11:28:30.931198Z",
     "iopub.status.idle": "2022-06-17T11:28:31.203384Z",
     "shell.execute_reply": "2022-06-17T11:28:31.202875Z"
    },
    "papermill": {
     "duration": 3.641262,
     "end_time": "2022-06-17T11:28:31.204777",
     "exception": false,
     "start_time": "2022-06-17T11:28:27.563515",
     "status": "completed"
    },
    "tags": []
   },
   "outputs": [
    {
     "data": {
      "text/plain": [
       "Text(0.5, 1.0, 'Gene correlations in chromosome 17')"
      ]
     },
     "execution_count": 39,
     "metadata": {},
     "output_type": "execute_result"
    },
    {
     "data": {
      "image/png": "[encoded data removed]",
      "text/plain": [
       "<Figure size 720x720 with 2 Axes>"
      ]
     },
     "metadata": {
      "needs_background": "light"
     },
     "output_type": "display_data"
    }
   ],
   "source": [
    "f, ax = plt.subplots(figsize=(10, 10))\n",
    "sns.heatmap(\n",
    "    gene_corrs_df,\n",
    "    xticklabels=False,\n",
    "    yticklabels=False,\n",
    "    square=True,\n",
    "    vmin=vmin_val,\n",
    "    vmax=vmax_val,\n",
    "    cmap=\"YlGnBu\",\n",
    "    ax=ax,\n",
    ")\n",
    "ax.set_title(f\"Gene correlations in chromosome {chromosome}\")"
   ]
  },
  {
   "cell_type": "code",
   "execution_count": null,
   "id": "b25e3ead",
   "metadata": {
    "papermill": {
     "duration": 3.462707,
     "end_time": "2022-06-17T11:28:38.116654",
     "exception": false,
     "start_time": "2022-06-17T11:28:34.653947",
     "status": "completed"
    },
    "tags": []
   },
   "outputs": [],
   "source": []
  }
 ],
 "metadata": {
  "jupytext": {
   "cell_metadata_filter": "all,-execution,-papermill,-trusted",
   "formats": "ipynb,py//py:percent"
  },
  "kernelspec": {
   "display_name": "Python 3 (ipykernel)",
   "language": "python",
   "name": "python3"
  },
  "language_info": {
   "codemirror_mode": {
    "name": "ipython",
    "version": 3
   },
   "file_extension": ".py",
   "mimetype": "text/x-python",
   "name": "python",
   "nbconvert_exporter": "python",
   "pygments_lexer": "ipython3",
   "version": "3.8.13"
  },
  "papermill": {
   "default_parameters": {},
   "duration": 32763.708834,
   "end_time": "2022-06-17T11:28:45.045124",
   "environment_variables": {},
   "exception": null,
   "input_path": "nbs/15_gsa_gls/10-gene_expr_correlations.ipynb",
   "output_path": "nbs/15_gsa_gls/gene_corrs/gtex_v8/mashr/10-gene_expr_correlations-chr17.run.ipynb",
   "parameters": {
    "EQTL_MODEL": "MASHR",
    "REFERENCE_PANEL": "GTEX_V8",
    "chromosome": 17
   },
   "start_time": "2022-06-17T02:22:41.336290",
   "version": "2.2.2"
  }
 },
 "nbformat": 4,
 "nbformat_minor": 5
}
