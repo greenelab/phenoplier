{
 "cells": [
  {
   "cell_type": "markdown",
   "id": "7a6632fb",
   "metadata": {
    "papermill": {
     "duration": 0.005893,
     "end_time": "2022-06-16T12:30:10.977069",
     "exception": false,
     "start_time": "2022-06-16T12:30:10.971176",
     "status": "completed"
    },
    "tags": []
   },
   "source": [
    "# Description"
   ]
  },
  {
   "cell_type": "markdown",
   "id": "7097c346",
   "metadata": {
    "papermill": {
     "duration": 0.005267,
     "end_time": "2022-06-16T12:30:10.987609",
     "exception": false,
     "start_time": "2022-06-16T12:30:10.982342",
     "status": "completed"
    },
    "tags": []
   },
   "source": [
    "(Please, take a look at the README.md file in this directory for instructions on how to run this notebook)\n",
    "\n",
    "This notebook computes predicted expression correlations between all genes in the MultiPLIER models.\n",
    "\n",
    "It also has a parameter set for papermill to run on a single chromosome to run in parallel (see under `Settings` below).\n",
    "\n",
    "This notebook is not directly run. See README.md."
   ]
  },
  {
   "cell_type": "markdown",
   "id": "c61d8427",
   "metadata": {
    "papermill": {
     "duration": 0.005362,
     "end_time": "2022-06-16T12:30:10.998496",
     "exception": false,
     "start_time": "2022-06-16T12:30:10.993134",
     "status": "completed"
    },
    "tags": []
   },
   "source": [
    "# Modules"
   ]
  },
  {
   "cell_type": "code",
   "execution_count": 1,
   "id": "bbc0234f",
   "metadata": {
    "execution": {
     "iopub.execute_input": "2022-06-16T12:30:11.010728Z",
     "iopub.status.busy": "2022-06-16T12:30:11.010300Z",
     "iopub.status.idle": "2022-06-16T12:30:11.026448Z",
     "shell.execute_reply": "2022-06-16T12:30:11.025830Z"
    },
    "papermill": {
     "duration": 0.024038,
     "end_time": "2022-06-16T12:30:11.028070",
     "exception": false,
     "start_time": "2022-06-16T12:30:11.004032",
     "status": "completed"
    },
    "tags": []
   },
   "outputs": [],
   "source": [
    "%load_ext autoreload\n",
    "%autoreload 2"
   ]
  },
  {
   "cell_type": "code",
   "execution_count": 2,
   "id": "1d5f5a59",
   "metadata": {
    "execution": {
     "iopub.execute_input": "2022-06-16T12:30:11.041311Z",
     "iopub.status.busy": "2022-06-16T12:30:11.040930Z",
     "iopub.status.idle": "2022-06-16T12:30:12.041126Z",
     "shell.execute_reply": "2022-06-16T12:30:12.040145Z"
    },
    "papermill": {
     "duration": 1.008736,
     "end_time": "2022-06-16T12:30:12.042805",
     "exception": false,
     "start_time": "2022-06-16T12:30:11.034069",
     "status": "completed"
    },
    "tags": []
   },
   "outputs": [],
   "source": [
    "from random import sample\n",
    "import warnings\n",
    "\n",
    "import numpy as np\n",
    "from scipy.spatial.distance import squareform\n",
    "import pandas as pd\n",
    "from tqdm import tqdm\n",
    "import matplotlib.pyplot as plt\n",
    "import seaborn as sns\n",
    "\n",
    "import conf\n",
    "from entity import Gene"
   ]
  },
  {
   "cell_type": "markdown",
   "id": "1eac24b5",
   "metadata": {
    "papermill": {
     "duration": 0.006211,
     "end_time": "2022-06-16T12:30:12.085358",
     "exception": false,
     "start_time": "2022-06-16T12:30:12.079147",
     "status": "completed"
    },
    "tags": []
   },
   "source": [
    "# Settings"
   ]
  },
  {
   "cell_type": "code",
   "execution_count": 3,
   "id": "ca4560ba",
   "metadata": {
    "execution": {
     "iopub.execute_input": "2022-06-16T12:30:12.099503Z",
     "iopub.status.busy": "2022-06-16T12:30:12.098878Z",
     "iopub.status.idle": "2022-06-16T12:30:12.116675Z",
     "shell.execute_reply": "2022-06-16T12:30:12.115974Z"
    },
    "papermill": {
     "duration": 0.026527,
     "end_time": "2022-06-16T12:30:12.118265",
     "exception": false,
     "start_time": "2022-06-16T12:30:12.091738",
     "status": "completed"
    },
    "tags": [
     "parameters"
    ]
   },
   "outputs": [],
   "source": [
    "# reference panel\n",
    "REFERENCE_PANEL = \"GTEX_V8\"\n",
    "# REFERENCE_PANEL = \"1000G\"\n",
    "\n",
    "# prediction models\n",
    "## mashr\n",
    "EQTL_MODEL = \"MASHR\"\n",
    "EQTL_MODEL_FILES_PREFIX = \"mashr_\"\n",
    "\n",
    "# ## elastic net\n",
    "# EQTL_MODEL = \"ELASTIC_NET\"\n",
    "# EQTL_MODEL_FILES_PREFIX = \"en_\"\n",
    "\n",
    "# make it read the prefix from conf.py\n",
    "EQTL_MODEL_FILES_PREFIX = None\n",
    "\n",
    "# this is the default value used in S-MultiXcan to select the\n",
    "# top principal components of the expression correlation matrix\n",
    "SMULTIXCAN_CONDITION_NUMBER = 30\n",
    "\n",
    "# specifies a single chromosome value\n",
    "# by default, run on all chromosomes\n",
    "chromosome = None"
   ]
  },
  {
   "cell_type": "code",
   "execution_count": 4,
   "id": "a0ad3d92",
   "metadata": {
    "execution": {
     "iopub.execute_input": "2022-06-16T12:30:12.132333Z",
     "iopub.status.busy": "2022-06-16T12:30:12.131827Z",
     "iopub.status.idle": "2022-06-16T12:30:12.148820Z",
     "shell.execute_reply": "2022-06-16T12:30:12.148214Z"
    },
    "papermill": {
     "duration": 0.025778,
     "end_time": "2022-06-16T12:30:12.150522",
     "exception": false,
     "start_time": "2022-06-16T12:30:12.124744",
     "status": "completed"
    },
    "tags": [
     "injected-parameters"
    ]
   },
   "outputs": [],
   "source": [
    "# Parameters\n",
    "chromosome = 13\n",
    "REFERENCE_PANEL = \"GTEX_V8\"\n",
    "EQTL_MODEL = \"MASHR\"\n"
   ]
  },
  {
   "cell_type": "code",
   "execution_count": 5,
   "id": "a089c9ff",
   "metadata": {
    "execution": {
     "iopub.execute_input": "2022-06-16T12:30:12.164340Z",
     "iopub.status.busy": "2022-06-16T12:30:12.163799Z",
     "iopub.status.idle": "2022-06-16T12:30:12.179917Z",
     "shell.execute_reply": "2022-06-16T12:30:12.179295Z"
    },
    "papermill": {
     "duration": 0.024498,
     "end_time": "2022-06-16T12:30:12.181378",
     "exception": false,
     "start_time": "2022-06-16T12:30:12.156880",
     "status": "completed"
    },
    "tags": []
   },
   "outputs": [],
   "source": [
    "if EQTL_MODEL_FILES_PREFIX is None:\n",
    "    EQTL_MODEL_FILES_PREFIX = conf.PHENOMEXCAN[\"PREDICTION_MODELS\"][\n",
    "        f\"{EQTL_MODEL}_PREFIX\"\n",
    "    ]"
   ]
  },
  {
   "cell_type": "code",
   "execution_count": 6,
   "id": "8fe24bef",
   "metadata": {
    "execution": {
     "iopub.execute_input": "2022-06-16T12:30:12.194643Z",
     "iopub.status.busy": "2022-06-16T12:30:12.194129Z",
     "iopub.status.idle": "2022-06-16T12:30:12.212001Z",
     "shell.execute_reply": "2022-06-16T12:30:12.211543Z"
    },
    "papermill": {
     "duration": 0.025883,
     "end_time": "2022-06-16T12:30:12.213309",
     "exception": false,
     "start_time": "2022-06-16T12:30:12.187426",
     "status": "completed"
    },
    "tags": []
   },
   "outputs": [
    {
     "data": {
      "text/plain": [
       "'Using eQTL model: MASHR / mashr_'"
      ]
     },
     "metadata": {},
     "output_type": "display_data"
    }
   ],
   "source": [
    "display(f\"Using eQTL model: {EQTL_MODEL} / {EQTL_MODEL_FILES_PREFIX}\")"
   ]
  },
  {
   "cell_type": "code",
   "execution_count": 7,
   "id": "0230ebcb-2c32-4b95-9292-d9a52038e70d",
   "metadata": {
    "execution": {
     "iopub.execute_input": "2022-06-16T12:30:12.226923Z",
     "iopub.status.busy": "2022-06-16T12:30:12.226392Z",
     "iopub.status.idle": "2022-06-16T12:30:12.242176Z",
     "shell.execute_reply": "2022-06-16T12:30:12.241591Z"
    },
    "papermill": {
     "duration": 0.024128,
     "end_time": "2022-06-16T12:30:12.243655",
     "exception": false,
     "start_time": "2022-06-16T12:30:12.219527",
     "status": "completed"
    },
    "tags": []
   },
   "outputs": [],
   "source": [
    "REFERENCE_PANEL_DIR = conf.PHENOMEXCAN[\"LD_BLOCKS\"][f\"{REFERENCE_PANEL}_GENOTYPE_DIR\"]"
   ]
  },
  {
   "cell_type": "code",
   "execution_count": 8,
   "id": "98c4a159-601d-4a22-a1ab-35bd451c25f9",
   "metadata": {
    "execution": {
     "iopub.execute_input": "2022-06-16T12:30:12.256865Z",
     "iopub.status.busy": "2022-06-16T12:30:12.256392Z",
     "iopub.status.idle": "2022-06-16T12:30:12.272572Z",
     "shell.execute_reply": "2022-06-16T12:30:12.272082Z"
    },
    "papermill": {
     "duration": 0.026793,
     "end_time": "2022-06-16T12:30:12.276520",
     "exception": false,
     "start_time": "2022-06-16T12:30:12.249727",
     "status": "completed"
    },
    "tags": []
   },
   "outputs": [
    {
     "data": {
      "text/plain": [
       "'Using reference panel folder: /opt/data/data/phenomexcan/ld_blocks/reference_panel_gtex_v8'"
      ]
     },
     "metadata": {},
     "output_type": "display_data"
    }
   ],
   "source": [
    "display(f\"Using reference panel folder: {str(REFERENCE_PANEL_DIR)}\")"
   ]
  },
  {
   "cell_type": "code",
   "execution_count": 9,
   "id": "396392dc-0340-4540-9b02-e182b833f909",
   "metadata": {
    "execution": {
     "iopub.execute_input": "2022-06-16T12:30:12.306202Z",
     "iopub.status.busy": "2022-06-16T12:30:12.306011Z",
     "iopub.status.idle": "2022-06-16T12:30:12.323310Z",
     "shell.execute_reply": "2022-06-16T12:30:12.322698Z"
    },
    "papermill": {
     "duration": 0.034703,
     "end_time": "2022-06-16T12:30:12.325016",
     "exception": false,
     "start_time": "2022-06-16T12:30:12.290313",
     "status": "completed"
    },
    "tags": []
   },
   "outputs": [],
   "source": [
    "OUTPUT_DIR_BASE = (\n",
    "    conf.PHENOMEXCAN[\"LD_BLOCKS\"][f\"GENE_CORRS_DIR\"]\n",
    "    / REFERENCE_PANEL.lower()\n",
    "    / EQTL_MODEL.lower()\n",
    ")\n",
    "OUTPUT_DIR_BASE.mkdir(parents=True, exist_ok=True)"
   ]
  },
  {
   "cell_type": "code",
   "execution_count": 10,
   "id": "8942c2d3-e53c-4d63-a0eb-b6fce0574d36",
   "metadata": {
    "execution": {
     "iopub.execute_input": "2022-06-16T12:30:12.339512Z",
     "iopub.status.busy": "2022-06-16T12:30:12.338994Z",
     "iopub.status.idle": "2022-06-16T12:30:12.355766Z",
     "shell.execute_reply": "2022-06-16T12:30:12.355230Z"
    },
    "papermill": {
     "duration": 0.025504,
     "end_time": "2022-06-16T12:30:12.357201",
     "exception": false,
     "start_time": "2022-06-16T12:30:12.331697",
     "status": "completed"
    },
    "tags": []
   },
   "outputs": [
    {
     "data": {
      "text/plain": [
       "'Using output dir base: /opt/data/data/phenomexcan/ld_blocks/gene_corrs/gtex_v8/mashr'"
      ]
     },
     "metadata": {},
     "output_type": "display_data"
    }
   ],
   "source": [
    "display(f\"Using output dir base: {OUTPUT_DIR_BASE}\")"
   ]
  },
  {
   "cell_type": "code",
   "execution_count": 11,
   "id": "408aa590",
   "metadata": {
    "execution": {
     "iopub.execute_input": "2022-06-16T12:30:12.371629Z",
     "iopub.status.busy": "2022-06-16T12:30:12.371140Z",
     "iopub.status.idle": "2022-06-16T12:30:12.386878Z",
     "shell.execute_reply": "2022-06-16T12:30:12.386326Z"
    },
    "papermill": {
     "duration": 0.024548,
     "end_time": "2022-06-16T12:30:12.388381",
     "exception": false,
     "start_time": "2022-06-16T12:30:12.363833",
     "status": "completed"
    },
    "tags": []
   },
   "outputs": [],
   "source": [
    "assert (\n",
    "    chromosome is not None\n",
    "), \"You have to select one chromosome (format: number between 1 and 22)\""
   ]
  },
  {
   "cell_type": "code",
   "execution_count": 12,
   "id": "c1c7dd06-80ff-453c-bcb7-0899edce75da",
   "metadata": {
    "execution": {
     "iopub.execute_input": "2022-06-16T12:30:12.402609Z",
     "iopub.status.busy": "2022-06-16T12:30:12.402151Z",
     "iopub.status.idle": "2022-06-16T12:30:12.417970Z",
     "shell.execute_reply": "2022-06-16T12:30:12.417330Z"
    },
    "papermill": {
     "duration": 0.026915,
     "end_time": "2022-06-16T12:30:12.421758",
     "exception": false,
     "start_time": "2022-06-16T12:30:12.394843",
     "status": "completed"
    },
    "tags": []
   },
   "outputs": [],
   "source": [
    "chromosome = str(chromosome)"
   ]
  },
  {
   "cell_type": "code",
   "execution_count": 13,
   "id": "bc17b84c-9c26-47a5-a3ab-7046e72f3ef4",
   "metadata": {
    "execution": {
     "iopub.execute_input": "2022-06-16T12:30:12.436176Z",
     "iopub.status.busy": "2022-06-16T12:30:12.435614Z",
     "iopub.status.idle": "2022-06-16T12:30:12.453238Z",
     "shell.execute_reply": "2022-06-16T12:30:12.452621Z"
    },
    "papermill": {
     "duration": 0.026241,
     "end_time": "2022-06-16T12:30:12.454723",
     "exception": false,
     "start_time": "2022-06-16T12:30:12.428482",
     "status": "completed"
    },
    "tags": []
   },
   "outputs": [
    {
     "data": {
      "text/plain": [
       "'Working on chromosome 13'"
      ]
     },
     "metadata": {},
     "output_type": "display_data"
    }
   ],
   "source": [
    "display(f\"Working on chromosome {chromosome}\")"
   ]
  },
  {
   "cell_type": "markdown",
   "id": "d2ba085e",
   "metadata": {
    "papermill": {
     "duration": 0.006407,
     "end_time": "2022-06-16T12:30:12.467776",
     "exception": false,
     "start_time": "2022-06-16T12:30:12.461369",
     "status": "completed"
    },
    "tags": []
   },
   "source": [
    "# Load data"
   ]
  },
  {
   "cell_type": "markdown",
   "id": "abcc4b3d",
   "metadata": {
    "papermill": {
     "duration": 0.006094,
     "end_time": "2022-06-16T12:30:12.480190",
     "exception": false,
     "start_time": "2022-06-16T12:30:12.474096",
     "status": "completed"
    },
    "tags": []
   },
   "source": [
    "## MultiPLIER Z"
   ]
  },
  {
   "cell_type": "code",
   "execution_count": 14,
   "id": "c48ef527",
   "metadata": {
    "execution": {
     "iopub.execute_input": "2022-06-16T12:30:12.493461Z",
     "iopub.status.busy": "2022-06-16T12:30:12.493085Z",
     "iopub.status.idle": "2022-06-16T12:30:12.536962Z",
     "shell.execute_reply": "2022-06-16T12:30:12.536359Z"
    },
    "papermill": {
     "duration": 0.052441,
     "end_time": "2022-06-16T12:30:12.538765",
     "exception": false,
     "start_time": "2022-06-16T12:30:12.486324",
     "status": "completed"
    },
    "tags": []
   },
   "outputs": [],
   "source": [
    "multiplier_z_genes = pd.read_pickle(\n",
    "    conf.MULTIPLIER[\"MODEL_Z_MATRIX_FILE\"]\n",
    ").index.tolist()"
   ]
  },
  {
   "cell_type": "code",
   "execution_count": 15,
   "id": "0a4ecbd9",
   "metadata": {
    "execution": {
     "iopub.execute_input": "2022-06-16T12:30:12.553501Z",
     "iopub.status.busy": "2022-06-16T12:30:12.553302Z",
     "iopub.status.idle": "2022-06-16T12:30:12.571661Z",
     "shell.execute_reply": "2022-06-16T12:30:12.571031Z"
    },
    "papermill": {
     "duration": 0.02748,
     "end_time": "2022-06-16T12:30:12.573251",
     "exception": false,
     "start_time": "2022-06-16T12:30:12.545771",
     "status": "completed"
    },
    "tags": []
   },
   "outputs": [
    {
     "data": {
      "text/plain": [
       "6750"
      ]
     },
     "execution_count": 15,
     "metadata": {},
     "output_type": "execute_result"
    }
   ],
   "source": [
    "len(multiplier_z_genes)"
   ]
  },
  {
   "cell_type": "code",
   "execution_count": 16,
   "id": "115e8864",
   "metadata": {
    "execution": {
     "iopub.execute_input": "2022-06-16T12:30:12.597202Z",
     "iopub.status.busy": "2022-06-16T12:30:12.597023Z",
     "iopub.status.idle": "2022-06-16T12:30:12.614889Z",
     "shell.execute_reply": "2022-06-16T12:30:12.614271Z"
    },
    "papermill": {
     "duration": 0.036294,
     "end_time": "2022-06-16T12:30:12.616423",
     "exception": false,
     "start_time": "2022-06-16T12:30:12.580129",
     "status": "completed"
    },
    "tags": []
   },
   "outputs": [
    {
     "data": {
      "text/plain": [
       "['GAS6',\n",
       " 'MMP14',\n",
       " 'DSP',\n",
       " 'MARCKSL1',\n",
       " 'SPARC',\n",
       " 'CTSD',\n",
       " 'EPAS1',\n",
       " 'PALLD',\n",
       " 'PHC2',\n",
       " 'LGALS3BP']"
      ]
     },
     "execution_count": 16,
     "metadata": {},
     "output_type": "execute_result"
    }
   ],
   "source": [
    "multiplier_z_genes[:10]"
   ]
  },
  {
   "cell_type": "markdown",
   "id": "7dcb8db7",
   "metadata": {
    "papermill": {
     "duration": 0.006367,
     "end_time": "2022-06-16T12:30:12.629556",
     "exception": false,
     "start_time": "2022-06-16T12:30:12.623189",
     "status": "completed"
    },
    "tags": []
   },
   "source": [
    "## Get gene objects"
   ]
  },
  {
   "cell_type": "code",
   "execution_count": 17,
   "id": "bb932812",
   "metadata": {
    "execution": {
     "iopub.execute_input": "2022-06-16T12:30:12.643560Z",
     "iopub.status.busy": "2022-06-16T12:30:12.643102Z",
     "iopub.status.idle": "2022-06-16T12:30:12.666013Z",
     "shell.execute_reply": "2022-06-16T12:30:12.665397Z"
    },
    "papermill": {
     "duration": 0.031431,
     "end_time": "2022-06-16T12:30:12.667547",
     "exception": false,
     "start_time": "2022-06-16T12:30:12.636116",
     "status": "completed"
    },
    "tags": []
   },
   "outputs": [],
   "source": [
    "multiplier_gene_obj = {\n",
    "    gene_name: Gene(name=gene_name)\n",
    "    for gene_name in multiplier_z_genes\n",
    "    if gene_name in Gene.GENE_NAME_TO_ID_MAP\n",
    "}"
   ]
  },
  {
   "cell_type": "code",
   "execution_count": 18,
   "id": "39533214",
   "metadata": {
    "execution": {
     "iopub.execute_input": "2022-06-16T12:30:12.682241Z",
     "iopub.status.busy": "2022-06-16T12:30:12.681729Z",
     "iopub.status.idle": "2022-06-16T12:30:12.699296Z",
     "shell.execute_reply": "2022-06-16T12:30:12.698621Z"
    },
    "papermill": {
     "duration": 0.026342,
     "end_time": "2022-06-16T12:30:12.700781",
     "exception": false,
     "start_time": "2022-06-16T12:30:12.674439",
     "status": "completed"
    },
    "tags": []
   },
   "outputs": [
    {
     "data": {
      "text/plain": [
       "6454"
      ]
     },
     "execution_count": 18,
     "metadata": {},
     "output_type": "execute_result"
    }
   ],
   "source": [
    "len(multiplier_gene_obj)"
   ]
  },
  {
   "cell_type": "code",
   "execution_count": 19,
   "id": "9a5d0b84",
   "metadata": {
    "execution": {
     "iopub.execute_input": "2022-06-16T12:30:12.715911Z",
     "iopub.status.busy": "2022-06-16T12:30:12.715350Z",
     "iopub.status.idle": "2022-06-16T12:30:12.731782Z",
     "shell.execute_reply": "2022-06-16T12:30:12.731243Z"
    },
    "papermill": {
     "duration": 0.025531,
     "end_time": "2022-06-16T12:30:12.733165",
     "exception": false,
     "start_time": "2022-06-16T12:30:12.707634",
     "status": "completed"
    },
    "tags": []
   },
   "outputs": [
    {
     "data": {
      "text/plain": [
       "'ENSG00000183087'"
      ]
     },
     "execution_count": 19,
     "metadata": {},
     "output_type": "execute_result"
    }
   ],
   "source": [
    "multiplier_gene_obj[\"GAS6\"].ensembl_id"
   ]
  },
  {
   "cell_type": "code",
   "execution_count": 20,
   "id": "e3ffabc7",
   "metadata": {
    "execution": {
     "iopub.execute_input": "2022-06-16T12:30:12.748363Z",
     "iopub.status.busy": "2022-06-16T12:30:12.747857Z",
     "iopub.status.idle": "2022-06-16T12:30:14.831333Z",
     "shell.execute_reply": "2022-06-16T12:30:14.830776Z"
    },
    "papermill": {
     "duration": 2.092461,
     "end_time": "2022-06-16T12:30:14.832751",
     "exception": false,
     "start_time": "2022-06-16T12:30:12.740290",
     "status": "completed"
    },
    "tags": []
   },
   "outputs": [],
   "source": [
    "_gene_obj = list(multiplier_gene_obj.values())\n",
    "\n",
    "genes_info = pd.DataFrame(\n",
    "    {\n",
    "        \"name\": [g.name for g in _gene_obj],\n",
    "        \"id\": [g.ensembl_id for g in _gene_obj],\n",
    "        \"chr\": [g.chromosome for g in _gene_obj],\n",
    "        \"band\": [g.band for g in _gene_obj],\n",
    "        \"start_position\": [g.get_attribute(\"start_position\") for g in _gene_obj],\n",
    "    }\n",
    ")"
   ]
  },
  {
   "cell_type": "code",
   "execution_count": 21,
   "id": "e23519b8",
   "metadata": {
    "execution": {
     "iopub.execute_input": "2022-06-16T12:30:14.846620Z",
     "iopub.status.busy": "2022-06-16T12:30:14.846438Z",
     "iopub.status.idle": "2022-06-16T12:30:14.862760Z",
     "shell.execute_reply": "2022-06-16T12:30:14.862216Z"
    },
    "papermill": {
     "duration": 0.024946,
     "end_time": "2022-06-16T12:30:14.864155",
     "exception": false,
     "start_time": "2022-06-16T12:30:14.839209",
     "status": "completed"
    },
    "tags": []
   },
   "outputs": [
    {
     "data": {
      "text/plain": [
       "(6454, 5)"
      ]
     },
     "execution_count": 21,
     "metadata": {},
     "output_type": "execute_result"
    }
   ],
   "source": [
    "genes_info.shape"
   ]
  },
  {
   "cell_type": "code",
   "execution_count": 22,
   "id": "0d71881c",
   "metadata": {
    "execution": {
     "iopub.execute_input": "2022-06-16T12:30:14.878938Z",
     "iopub.status.busy": "2022-06-16T12:30:14.878526Z",
     "iopub.status.idle": "2022-06-16T12:30:14.901941Z",
     "shell.execute_reply": "2022-06-16T12:30:14.901302Z"
    },
    "papermill": {
     "duration": 0.032421,
     "end_time": "2022-06-16T12:30:14.903528",
     "exception": false,
     "start_time": "2022-06-16T12:30:14.871107",
     "status": "completed"
    },
    "tags": []
   },
   "outputs": [
    {
     "data": {
      "text/html": [
       "<div>\n",
       "<style scoped>\n",
       "    .dataframe tbody tr th:only-of-type {\n",
       "        vertical-align: middle;\n",
       "    }\n",
       "\n",
       "    .dataframe tbody tr th {\n",
       "        vertical-align: top;\n",
       "    }\n",
       "\n",
       "    .dataframe thead th {\n",
       "        text-align: right;\n",
       "    }\n",
       "</style>\n",
       "<table border=\"1\" class=\"dataframe\">\n",
       "  <thead>\n",
       "    <tr style=\"text-align: right;\">\n",
       "      <th></th>\n",
       "      <th>name</th>\n",
       "      <th>id</th>\n",
       "      <th>chr</th>\n",
       "      <th>band</th>\n",
       "      <th>start_position</th>\n",
       "    </tr>\n",
       "  </thead>\n",
       "  <tbody>\n",
       "    <tr>\n",
       "      <th>0</th>\n",
       "      <td>GAS6</td>\n",
       "      <td>ENSG00000183087</td>\n",
       "      <td>13</td>\n",
       "      <td>13q34</td>\n",
       "      <td>113820549.0</td>\n",
       "    </tr>\n",
       "    <tr>\n",
       "      <th>1</th>\n",
       "      <td>MMP14</td>\n",
       "      <td>ENSG00000157227</td>\n",
       "      <td>14</td>\n",
       "      <td>14q11.2</td>\n",
       "      <td>22836560.0</td>\n",
       "    </tr>\n",
       "    <tr>\n",
       "      <th>2</th>\n",
       "      <td>DSP</td>\n",
       "      <td>ENSG00000096696</td>\n",
       "      <td>6</td>\n",
       "      <td>6p24.3</td>\n",
       "      <td>7541617.0</td>\n",
       "    </tr>\n",
       "    <tr>\n",
       "      <th>3</th>\n",
       "      <td>MARCKSL1</td>\n",
       "      <td>ENSG00000175130</td>\n",
       "      <td>1</td>\n",
       "      <td>1p35.1</td>\n",
       "      <td>32333839.0</td>\n",
       "    </tr>\n",
       "    <tr>\n",
       "      <th>4</th>\n",
       "      <td>SPARC</td>\n",
       "      <td>ENSG00000113140</td>\n",
       "      <td>5</td>\n",
       "      <td>5q33.1</td>\n",
       "      <td>151661096.0</td>\n",
       "    </tr>\n",
       "  </tbody>\n",
       "</table>\n",
       "</div>"
      ],
      "text/plain": [
       "       name               id chr     band  start_position\n",
       "0      GAS6  ENSG00000183087  13    13q34     113820549.0\n",
       "1     MMP14  ENSG00000157227  14  14q11.2      22836560.0\n",
       "2       DSP  ENSG00000096696   6   6p24.3       7541617.0\n",
       "3  MARCKSL1  ENSG00000175130   1   1p35.1      32333839.0\n",
       "4     SPARC  ENSG00000113140   5   5q33.1     151661096.0"
      ]
     },
     "execution_count": 22,
     "metadata": {},
     "output_type": "execute_result"
    }
   ],
   "source": [
    "genes_info.head()"
   ]
  },
  {
   "cell_type": "markdown",
   "id": "8c9dbb4a",
   "metadata": {
    "papermill": {
     "duration": 0.00691,
     "end_time": "2022-06-16T12:30:14.917559",
     "exception": false,
     "start_time": "2022-06-16T12:30:14.910649",
     "status": "completed"
    },
    "tags": []
   },
   "source": [
    "## Get tissues names"
   ]
  },
  {
   "cell_type": "code",
   "execution_count": 23,
   "id": "2bc52419",
   "metadata": {
    "execution": {
     "iopub.execute_input": "2022-06-16T12:30:14.932699Z",
     "iopub.status.busy": "2022-06-16T12:30:14.932222Z",
     "iopub.status.idle": "2022-06-16T12:30:14.947599Z",
     "shell.execute_reply": "2022-06-16T12:30:14.947039Z"
    },
    "papermill": {
     "duration": 0.024571,
     "end_time": "2022-06-16T12:30:14.949062",
     "exception": false,
     "start_time": "2022-06-16T12:30:14.924491",
     "status": "completed"
    },
    "tags": []
   },
   "outputs": [],
   "source": [
    "tissues = conf.PHENOMEXCAN[\"PREDICTION_MODELS\"][f\"{EQTL_MODEL}_TISSUES\"].split(\" \")"
   ]
  },
  {
   "cell_type": "code",
   "execution_count": 24,
   "id": "64b293a1",
   "metadata": {
    "execution": {
     "iopub.execute_input": "2022-06-16T12:30:14.964212Z",
     "iopub.status.busy": "2022-06-16T12:30:14.963732Z",
     "iopub.status.idle": "2022-06-16T12:30:14.980814Z",
     "shell.execute_reply": "2022-06-16T12:30:14.980256Z"
    },
    "papermill": {
     "duration": 0.026057,
     "end_time": "2022-06-16T12:30:14.982264",
     "exception": false,
     "start_time": "2022-06-16T12:30:14.956207",
     "status": "completed"
    },
    "tags": []
   },
   "outputs": [
    {
     "data": {
      "text/plain": [
       "['Skin_Not_Sun_Exposed_Suprapubic',\n",
       " 'Cells_EBV-transformed_lymphocytes',\n",
       " 'Brain_Frontal_Cortex_BA9',\n",
       " 'Kidney_Cortex',\n",
       " 'Brain_Substantia_nigra']"
      ]
     },
     "execution_count": 24,
     "metadata": {},
     "output_type": "execute_result"
    }
   ],
   "source": [
    "tissues[:5]"
   ]
  },
  {
   "cell_type": "code",
   "execution_count": 25,
   "id": "48a7202a",
   "metadata": {
    "execution": {
     "iopub.execute_input": "2022-06-16T12:30:14.997884Z",
     "iopub.status.busy": "2022-06-16T12:30:14.997378Z",
     "iopub.status.idle": "2022-06-16T12:30:15.012760Z",
     "shell.execute_reply": "2022-06-16T12:30:15.012196Z"
    },
    "papermill": {
     "duration": 0.024706,
     "end_time": "2022-06-16T12:30:15.014314",
     "exception": false,
     "start_time": "2022-06-16T12:30:14.989608",
     "status": "completed"
    },
    "tags": []
   },
   "outputs": [],
   "source": [
    "assert len(tissues) == 49"
   ]
  },
  {
   "cell_type": "markdown",
   "id": "c8d1038f",
   "metadata": {
    "papermill": {
     "duration": 0.007015,
     "end_time": "2022-06-16T12:30:15.028616",
     "exception": false,
     "start_time": "2022-06-16T12:30:15.021601",
     "status": "completed"
    },
    "tags": []
   },
   "source": [
    "# Test"
   ]
  },
  {
   "cell_type": "code",
   "execution_count": 26,
   "id": "64993abf",
   "metadata": {
    "execution": {
     "iopub.execute_input": "2022-06-16T12:30:15.043484Z",
     "iopub.status.busy": "2022-06-16T12:30:15.043311Z",
     "iopub.status.idle": "2022-06-16T12:30:15.067640Z",
     "shell.execute_reply": "2022-06-16T12:30:15.067035Z"
    },
    "papermill": {
     "duration": 0.033568,
     "end_time": "2022-06-16T12:30:15.069199",
     "exception": false,
     "start_time": "2022-06-16T12:30:15.035631",
     "status": "completed"
    },
    "tags": []
   },
   "outputs": [
    {
     "data": {
      "text/html": [
       "<div>\n",
       "<style scoped>\n",
       "    .dataframe tbody tr th:only-of-type {\n",
       "        vertical-align: middle;\n",
       "    }\n",
       "\n",
       "    .dataframe tbody tr th {\n",
       "        vertical-align: top;\n",
       "    }\n",
       "\n",
       "    .dataframe thead th {\n",
       "        text-align: right;\n",
       "    }\n",
       "</style>\n",
       "<table border=\"1\" class=\"dataframe\">\n",
       "  <thead>\n",
       "    <tr style=\"text-align: right;\">\n",
       "      <th></th>\n",
       "      <th>name</th>\n",
       "      <th>id</th>\n",
       "      <th>chr</th>\n",
       "      <th>band</th>\n",
       "      <th>start_position</th>\n",
       "    </tr>\n",
       "  </thead>\n",
       "  <tbody>\n",
       "    <tr>\n",
       "      <th>0</th>\n",
       "      <td>GAS6</td>\n",
       "      <td>ENSG00000183087</td>\n",
       "      <td>13</td>\n",
       "      <td>13q34</td>\n",
       "      <td>113820549.0</td>\n",
       "    </tr>\n",
       "    <tr>\n",
       "      <th>139</th>\n",
       "      <td>FRY</td>\n",
       "      <td>ENSG00000073910</td>\n",
       "      <td>13</td>\n",
       "      <td>13q13.1</td>\n",
       "      <td>31846713.0</td>\n",
       "    </tr>\n",
       "    <tr>\n",
       "      <th>239</th>\n",
       "      <td>CCNA1</td>\n",
       "      <td>ENSG00000133101</td>\n",
       "      <td>13</td>\n",
       "      <td>13q13.3</td>\n",
       "      <td>36431520.0</td>\n",
       "    </tr>\n",
       "    <tr>\n",
       "      <th>283</th>\n",
       "      <td>FLT3</td>\n",
       "      <td>ENSG00000122025</td>\n",
       "      <td>13</td>\n",
       "      <td>13q12.2</td>\n",
       "      <td>28003274.0</td>\n",
       "    </tr>\n",
       "    <tr>\n",
       "      <th>412</th>\n",
       "      <td>TNFSF11</td>\n",
       "      <td>ENSG00000120659</td>\n",
       "      <td>13</td>\n",
       "      <td>13q14.11</td>\n",
       "      <td>42562736.0</td>\n",
       "    </tr>\n",
       "    <tr>\n",
       "      <th>...</th>\n",
       "      <td>...</td>\n",
       "      <td>...</td>\n",
       "      <td>...</td>\n",
       "      <td>...</td>\n",
       "      <td>...</td>\n",
       "    </tr>\n",
       "    <tr>\n",
       "      <th>6269</th>\n",
       "      <td>KL</td>\n",
       "      <td>ENSG00000133116</td>\n",
       "      <td>13</td>\n",
       "      <td>13q13.1</td>\n",
       "      <td>33016423.0</td>\n",
       "    </tr>\n",
       "    <tr>\n",
       "      <th>6351</th>\n",
       "      <td>MTMR6</td>\n",
       "      <td>ENSG00000139505</td>\n",
       "      <td>13</td>\n",
       "      <td>13q12.13</td>\n",
       "      <td>25246201.0</td>\n",
       "    </tr>\n",
       "    <tr>\n",
       "      <th>6379</th>\n",
       "      <td>ABCC4</td>\n",
       "      <td>ENSG00000125257</td>\n",
       "      <td>13</td>\n",
       "      <td>13q32.1</td>\n",
       "      <td>95019835.0</td>\n",
       "    </tr>\n",
       "    <tr>\n",
       "      <th>6416</th>\n",
       "      <td>RFXAP</td>\n",
       "      <td>ENSG00000133111</td>\n",
       "      <td>13</td>\n",
       "      <td>13q13.3</td>\n",
       "      <td>36819224.0</td>\n",
       "    </tr>\n",
       "    <tr>\n",
       "      <th>6436</th>\n",
       "      <td>ELF1</td>\n",
       "      <td>ENSG00000120690</td>\n",
       "      <td>13</td>\n",
       "      <td>13q14.11</td>\n",
       "      <td>40931924.0</td>\n",
       "    </tr>\n",
       "  </tbody>\n",
       "</table>\n",
       "<p>118 rows × 5 columns</p>\n",
       "</div>"
      ],
      "text/plain": [
       "         name               id chr      band  start_position\n",
       "0        GAS6  ENSG00000183087  13     13q34     113820549.0\n",
       "139       FRY  ENSG00000073910  13   13q13.1      31846713.0\n",
       "239     CCNA1  ENSG00000133101  13   13q13.3      36431520.0\n",
       "283      FLT3  ENSG00000122025  13   13q12.2      28003274.0\n",
       "412   TNFSF11  ENSG00000120659  13  13q14.11      42562736.0\n",
       "...       ...              ...  ..       ...             ...\n",
       "6269       KL  ENSG00000133116  13   13q13.1      33016423.0\n",
       "6351    MTMR6  ENSG00000139505  13  13q12.13      25246201.0\n",
       "6379    ABCC4  ENSG00000125257  13   13q32.1      95019835.0\n",
       "6416    RFXAP  ENSG00000133111  13   13q13.3      36819224.0\n",
       "6436     ELF1  ENSG00000120690  13  13q14.11      40931924.0\n",
       "\n",
       "[118 rows x 5 columns]"
      ]
     },
     "metadata": {},
     "output_type": "display_data"
    }
   ],
   "source": [
    "chromosome_genes_info = genes_info[genes_info[\"chr\"] == chromosome]\n",
    "display(chromosome_genes_info)"
   ]
  },
  {
   "cell_type": "code",
   "execution_count": 27,
   "id": "d2e42726-7de6-46eb-acfc-6323eaa8fae6",
   "metadata": {
    "execution": {
     "iopub.execute_input": "2022-06-16T12:30:15.084900Z",
     "iopub.status.busy": "2022-06-16T12:30:15.084726Z",
     "iopub.status.idle": "2022-06-16T12:30:15.102425Z",
     "shell.execute_reply": "2022-06-16T12:30:15.101764Z"
    },
    "papermill": {
     "duration": 0.027179,
     "end_time": "2022-06-16T12:30:15.103867",
     "exception": false,
     "start_time": "2022-06-16T12:30:15.076688",
     "status": "completed"
    },
    "tags": []
   },
   "outputs": [
    {
     "data": {
      "text/plain": [
       "5"
      ]
     },
     "metadata": {},
     "output_type": "display_data"
    }
   ],
   "source": [
    "_gene_list_ids = sample(chromosome_genes_info[\"id\"].tolist(), 5)\n",
    "selected_chromosome_genes_obj = [Gene(ensembl_id=g_id) for g_id in _gene_list_ids]\n",
    "display(len(selected_chromosome_genes_obj))"
   ]
  },
  {
   "cell_type": "code",
   "execution_count": 28,
   "id": "1b355359",
   "metadata": {
    "execution": {
     "iopub.execute_input": "2022-06-16T12:30:15.119977Z",
     "iopub.status.busy": "2022-06-16T12:30:15.119509Z",
     "iopub.status.idle": "2022-06-16T12:30:28.687430Z",
     "shell.execute_reply": "2022-06-16T12:30:28.686748Z"
    },
    "papermill": {
     "duration": 13.57734,
     "end_time": "2022-06-16T12:30:28.688782",
     "exception": false,
     "start_time": "2022-06-16T12:30:15.111442",
     "status": "completed"
    },
    "tags": []
   },
   "outputs": [
    {
     "name": "stdout",
     "output_type": "stream",
     "text": [
      "KCTD12 / WASF3: 0.0\n",
      "KCTD12 / POMP: 0.0\n",
      "KCTD12 / PARP4: 0.0\n",
      "KCTD12 / GTF3A: 0.0\n",
      "WASF3 / POMP: -0.036484818775577924\n",
      "WASF3 / PARP4: -0.09242257789678832\n",
      "WASF3 / GTF3A: 0.09030496073726403\n",
      "POMP / PARP4: 0.013493571889288559\n",
      "POMP / GTF3A: -0.037123758210066735\n",
      "PARP4 / GTF3A: 0.0424249805603251\n"
     ]
    }
   ],
   "source": [
    "for gene_idx1 in range(0, len(selected_chromosome_genes_obj) - 1):\n",
    "    gene_obj1 = selected_chromosome_genes_obj[gene_idx1]\n",
    "\n",
    "    for gene_idx2 in range(gene_idx1 + 1, len(selected_chromosome_genes_obj)):\n",
    "        gene_obj2 = selected_chromosome_genes_obj[gene_idx2]\n",
    "\n",
    "        c = gene_obj1.get_ssm_correlation(\n",
    "            gene_obj2,\n",
    "        )\n",
    "\n",
    "        print(f\"{gene_obj1.name} / {gene_obj2.name}: {c}\")"
   ]
  },
  {
   "cell_type": "markdown",
   "id": "d3843e06",
   "metadata": {
    "papermill": {
     "duration": 0.013657,
     "end_time": "2022-06-16T12:30:28.716603",
     "exception": false,
     "start_time": "2022-06-16T12:30:28.702946",
     "status": "completed"
    },
    "tags": []
   },
   "source": [
    "# Compute correlation per chromosome"
   ]
  },
  {
   "cell_type": "code",
   "execution_count": 29,
   "id": "aa674fe4-6794-4eed-98fa-32b39d1d4ace",
   "metadata": {
    "execution": {
     "iopub.execute_input": "2022-06-16T12:30:28.748086Z",
     "iopub.status.busy": "2022-06-16T12:30:28.747874Z",
     "iopub.status.idle": "2022-06-16T12:30:28.770906Z",
     "shell.execute_reply": "2022-06-16T12:30:28.770380Z"
    },
    "papermill": {
     "duration": 0.039977,
     "end_time": "2022-06-16T12:30:28.772489",
     "exception": false,
     "start_time": "2022-06-16T12:30:28.732512",
     "status": "completed"
    },
    "tags": []
   },
   "outputs": [],
   "source": [
    "warnings.filterwarnings(\"error\")"
   ]
  },
  {
   "cell_type": "code",
   "execution_count": 30,
   "id": "cdbb90a1",
   "metadata": {
    "execution": {
     "iopub.execute_input": "2022-06-16T12:30:28.788188Z",
     "iopub.status.busy": "2022-06-16T12:30:28.788019Z",
     "iopub.status.idle": "2022-06-16T13:02:49.201714Z",
     "shell.execute_reply": "2022-06-16T13:02:49.201202Z"
    },
    "papermill": {
     "duration": 1940.423099,
     "end_time": "2022-06-16T13:02:49.203003",
     "exception": false,
     "start_time": "2022-06-16T12:30:28.779904",
     "status": "completed"
    },
    "tags": []
   },
   "outputs": [
    {
     "name": "stdout",
     "output_type": "stream",
     "text": [
      "Number of genes in chromosome: 118\n",
      "Chromosome 13\n",
      "Number of gene combinations: 6903\n"
     ]
    },
    {
     "name": "stderr",
     "output_type": "stream",
     "text": [
      "ENSG00000130177 / ENSG00000169062: 100%|████████████████████████| 6903/6903 [32:20<00:00,  3.56it/s]"
     ]
    },
    {
     "name": "stdout",
     "output_type": "stream",
     "text": [
      "Min/max values: -0.9559478924273154 / 0.881733428354811\n"
     ]
    },
    {
     "name": "stderr",
     "output_type": "stream",
     "text": [
      "\n"
     ]
    },
    {
     "data": {
      "text/plain": [
       "PosixPath('/opt/data/data/phenomexcan/ld_blocks/gene_corrs/gtex_v8/mashr/by_chr/gene_corrs-chr13.pkl')"
      ]
     },
     "metadata": {},
     "output_type": "display_data"
    }
   ],
   "source": [
    "# standard checks\n",
    "all_chrs = genes_info[\"chr\"].dropna().unique()\n",
    "assert all_chrs.shape[0] == 22\n",
    "\n",
    "# select chromosome given by the user\n",
    "assert chromosome in all_chrs\n",
    "\n",
    "# run only on the chromosome specified\n",
    "all_chrs = [chromosome]\n",
    "genes_chr = genes_info[genes_info[\"chr\"] == chromosome]\n",
    "print(f\"Number of genes in chromosome: {genes_chr.shape[0]}\", flush=True)\n",
    "\n",
    "# For testing purposes\n",
    "# genes_chr = genes_chr.sample(n=20)\n",
    "\n",
    "# sort genes by starting position to make visualizations better later\n",
    "genes_chr = genes_chr.sort_values(\"start_position\")\n",
    "\n",
    "\n",
    "for chr_num in all_chrs:\n",
    "    print(f\"Chromosome {chr_num}\", flush=True)\n",
    "\n",
    "    # check if results exist\n",
    "    output_dir = OUTPUT_DIR_BASE / \"by_chr\"\n",
    "    output_file = output_dir / f\"gene_corrs-chr{chr_num}.pkl\"\n",
    "\n",
    "    if output_file.exists():\n",
    "        _tmp_data = pd.read_pickle(output_file)\n",
    "\n",
    "        if _tmp_data.shape[0] > 0:\n",
    "            print(\"Already run, stopping.\")\n",
    "            continue\n",
    "\n",
    "    gene_chr_objs = [Gene(ensembl_id=gene_id) for gene_id in genes_chr[\"id\"]]\n",
    "    gene_chr_ids = [g.ensembl_id for g in gene_chr_objs]\n",
    "\n",
    "    n = len(gene_chr_objs)\n",
    "    n_comb = int(n * (n - 1) / 2.0)\n",
    "    print(f\"Number of gene combinations: {n_comb}\", flush=True)\n",
    "\n",
    "    gene_corrs = []\n",
    "\n",
    "    pbar = tqdm(ncols=100, total=n_comb)\n",
    "    i = 0\n",
    "    for gene_idx1 in range(0, len(gene_chr_objs) - 1):\n",
    "        gene_obj1 = gene_chr_objs[gene_idx1]\n",
    "\n",
    "        for gene_idx2 in range(gene_idx1 + 1, len(gene_chr_objs)):\n",
    "            gene_obj2 = gene_chr_objs[gene_idx2]\n",
    "\n",
    "            pbar.set_description(f\"{gene_obj1.ensembl_id} / {gene_obj2.ensembl_id}\")\n",
    "\n",
    "            try:\n",
    "                # FIXME: compute the correlation of the sum of squares of the model using all\n",
    "                # the available tissues; this could be problematic because for some results\n",
    "                # (computed on a specific phenotype/GWAS) we might not have all the tissues\n",
    "                # available, which can certainly bias the correlation estimation.\n",
    "                # Since this depends on the GWAS on a specific phenotype, we should ideally have\n",
    "                # one correlation matrix per GWAS. I should look at how we can improve this.\n",
    "                gene_corrs.append(\n",
    "                    gene_obj1.get_ssm_correlation(\n",
    "                        other_gene=gene_obj2,\n",
    "                        condition_number=SMULTIXCAN_CONDITION_NUMBER,\n",
    "                        reference_panel=REFERENCE_PANEL,\n",
    "                        model_type=EQTL_MODEL,\n",
    "                    )\n",
    "                )\n",
    "            except Warning:\n",
    "                print(\n",
    "                    f\"RuntimeWarning for genes {gene_obj1.ensembl_id} and {gene_obj2.ensembl_id}\",\n",
    "                    flush=True,\n",
    "                )\n",
    "                import traceback\n",
    "\n",
    "                print(traceback.format_exc(), flush=True)\n",
    "            except Exception as e:\n",
    "                print(\n",
    "                    f\"Exception for genes {gene_obj1.ensembl_id} and {gene_obj2.ensembl_id}\",\n",
    "                    flush=True,\n",
    "                )\n",
    "                import traceback\n",
    "\n",
    "                print(traceback.format_exc(), flush=True)\n",
    "                gene_corrs.append(np.nan)\n",
    "\n",
    "            pbar.update(1)\n",
    "\n",
    "    pbar.close()\n",
    "\n",
    "    # testing\n",
    "    gene_corrs_flat = pd.Series(gene_corrs)\n",
    "    print(f\"Min/max values: {gene_corrs_flat.min()} / {gene_corrs_flat.max()}\")\n",
    "    assert gene_corrs_flat.min() >= -1.001\n",
    "    assert gene_corrs_flat.max() <= 1.001\n",
    "\n",
    "    # save\n",
    "    # FIXME: consider saving only the condenced matrix here. See here for\n",
    "    # more details: https://github.com/greenelab/phenoplier/pull/38#discussion_r634600813\n",
    "    gene_corrs_data = squareform(np.array(gene_corrs, dtype=np.float64))\n",
    "    np.fill_diagonal(gene_corrs_data, 1.0)\n",
    "\n",
    "    gene_corrs_df = pd.DataFrame(\n",
    "        data=gene_corrs_data,\n",
    "        index=gene_chr_ids,\n",
    "        columns=gene_chr_ids,\n",
    "    )\n",
    "\n",
    "    output_dir.mkdir(exist_ok=True, parents=True)\n",
    "    display(output_file)\n",
    "\n",
    "    gene_corrs_df.to_pickle(output_file)"
   ]
  },
  {
   "cell_type": "markdown",
   "id": "faa67b51-5373-470f-aa72-2ded53fa6dfe",
   "metadata": {
    "papermill": {
     "duration": 0.317035,
     "end_time": "2022-06-16T13:02:49.822317",
     "exception": false,
     "start_time": "2022-06-16T13:02:49.505282",
     "status": "completed"
    },
    "tags": []
   },
   "source": [
    "# Testing"
   ]
  },
  {
   "cell_type": "code",
   "execution_count": 31,
   "id": "14f7d046-4b55-4896-a56b-990127bcc388",
   "metadata": {
    "execution": {
     "iopub.execute_input": "2022-06-16T13:02:50.352363Z",
     "iopub.status.busy": "2022-06-16T13:02:50.352169Z",
     "iopub.status.idle": "2022-06-16T13:02:50.370049Z",
     "shell.execute_reply": "2022-06-16T13:02:50.369438Z"
    },
    "papermill": {
     "duration": 0.284641,
     "end_time": "2022-06-16T13:02:50.371464",
     "exception": false,
     "start_time": "2022-06-16T13:02:50.086823",
     "status": "completed"
    },
    "tags": []
   },
   "outputs": [
    {
     "data": {
      "text/plain": [
       "(118, 118)"
      ]
     },
     "execution_count": 31,
     "metadata": {},
     "output_type": "execute_result"
    }
   ],
   "source": [
    "gene_corrs_df.shape"
   ]
  },
  {
   "cell_type": "code",
   "execution_count": 32,
   "id": "c7d15414-3297-4537-a7c6-7588c0baeb75",
   "metadata": {
    "execution": {
     "iopub.execute_input": "2022-06-16T13:02:50.964900Z",
     "iopub.status.busy": "2022-06-16T13:02:50.964360Z",
     "iopub.status.idle": "2022-06-16T13:02:50.994957Z",
     "shell.execute_reply": "2022-06-16T13:02:50.994490Z"
    },
    "papermill": {
     "duration": 0.310334,
     "end_time": "2022-06-16T13:02:50.996392",
     "exception": false,
     "start_time": "2022-06-16T13:02:50.686058",
     "status": "completed"
    },
    "tags": []
   },
   "outputs": [
    {
     "data": {
      "text/html": [
       "<div>\n",
       "<style scoped>\n",
       "    .dataframe tbody tr th:only-of-type {\n",
       "        vertical-align: middle;\n",
       "    }\n",
       "\n",
       "    .dataframe tbody tr th {\n",
       "        vertical-align: top;\n",
       "    }\n",
       "\n",
       "    .dataframe thead th {\n",
       "        text-align: right;\n",
       "    }\n",
       "</style>\n",
       "<table border=\"1\" class=\"dataframe\">\n",
       "  <thead>\n",
       "    <tr style=\"text-align: right;\">\n",
       "      <th></th>\n",
       "      <th>ENSG00000121741</th>\n",
       "      <th>ENSG00000121743</th>\n",
       "      <th>ENSG00000121742</th>\n",
       "      <th>ENSG00000032742</th>\n",
       "      <th>ENSG00000150457</th>\n",
       "      <th>ENSG00000150459</th>\n",
       "      <th>ENSG00000102678</th>\n",
       "      <th>ENSG00000127863</th>\n",
       "      <th>ENSG00000228741</th>\n",
       "      <th>ENSG00000102699</th>\n",
       "      <th>...</th>\n",
       "      <th>ENSG00000126217</th>\n",
       "      <th>ENSG00000057593</th>\n",
       "      <th>ENSG00000126231</th>\n",
       "      <th>ENSG00000139842</th>\n",
       "      <th>ENSG00000185896</th>\n",
       "      <th>ENSG00000198176</th>\n",
       "      <th>ENSG00000183087</th>\n",
       "      <th>ENSG00000185989</th>\n",
       "      <th>ENSG00000130177</th>\n",
       "      <th>ENSG00000169062</th>\n",
       "    </tr>\n",
       "  </thead>\n",
       "  <tbody>\n",
       "    <tr>\n",
       "      <th>ENSG00000121741</th>\n",
       "      <td>1.000000</td>\n",
       "      <td>-0.221885</td>\n",
       "      <td>0.286552</td>\n",
       "      <td>-0.290985</td>\n",
       "      <td>0.131510</td>\n",
       "      <td>-0.164693</td>\n",
       "      <td>0.108578</td>\n",
       "      <td>-0.083811</td>\n",
       "      <td>0.115376</td>\n",
       "      <td>0.204024</td>\n",
       "      <td>...</td>\n",
       "      <td>0.0</td>\n",
       "      <td>0.0</td>\n",
       "      <td>0.0</td>\n",
       "      <td>0.0</td>\n",
       "      <td>0.0</td>\n",
       "      <td>0.0</td>\n",
       "      <td>0.0</td>\n",
       "      <td>0.0</td>\n",
       "      <td>0.0</td>\n",
       "      <td>0.0</td>\n",
       "    </tr>\n",
       "    <tr>\n",
       "      <th>ENSG00000121743</th>\n",
       "      <td>-0.221885</td>\n",
       "      <td>1.000000</td>\n",
       "      <td>-0.107447</td>\n",
       "      <td>0.017199</td>\n",
       "      <td>0.045696</td>\n",
       "      <td>-0.072018</td>\n",
       "      <td>-0.042818</td>\n",
       "      <td>0.021088</td>\n",
       "      <td>0.040915</td>\n",
       "      <td>0.087297</td>\n",
       "      <td>...</td>\n",
       "      <td>0.0</td>\n",
       "      <td>0.0</td>\n",
       "      <td>0.0</td>\n",
       "      <td>0.0</td>\n",
       "      <td>0.0</td>\n",
       "      <td>0.0</td>\n",
       "      <td>0.0</td>\n",
       "      <td>0.0</td>\n",
       "      <td>0.0</td>\n",
       "      <td>0.0</td>\n",
       "    </tr>\n",
       "    <tr>\n",
       "      <th>ENSG00000121742</th>\n",
       "      <td>0.286552</td>\n",
       "      <td>-0.107447</td>\n",
       "      <td>1.000000</td>\n",
       "      <td>-0.123068</td>\n",
       "      <td>-0.013918</td>\n",
       "      <td>0.094508</td>\n",
       "      <td>0.075160</td>\n",
       "      <td>0.027257</td>\n",
       "      <td>0.046829</td>\n",
       "      <td>0.028886</td>\n",
       "      <td>...</td>\n",
       "      <td>0.0</td>\n",
       "      <td>0.0</td>\n",
       "      <td>0.0</td>\n",
       "      <td>0.0</td>\n",
       "      <td>0.0</td>\n",
       "      <td>0.0</td>\n",
       "      <td>0.0</td>\n",
       "      <td>0.0</td>\n",
       "      <td>0.0</td>\n",
       "      <td>0.0</td>\n",
       "    </tr>\n",
       "    <tr>\n",
       "      <th>ENSG00000032742</th>\n",
       "      <td>-0.290985</td>\n",
       "      <td>0.017199</td>\n",
       "      <td>-0.123068</td>\n",
       "      <td>1.000000</td>\n",
       "      <td>-0.065686</td>\n",
       "      <td>0.225819</td>\n",
       "      <td>0.043307</td>\n",
       "      <td>0.085893</td>\n",
       "      <td>-0.051992</td>\n",
       "      <td>0.243035</td>\n",
       "      <td>...</td>\n",
       "      <td>0.0</td>\n",
       "      <td>0.0</td>\n",
       "      <td>0.0</td>\n",
       "      <td>0.0</td>\n",
       "      <td>0.0</td>\n",
       "      <td>0.0</td>\n",
       "      <td>0.0</td>\n",
       "      <td>0.0</td>\n",
       "      <td>0.0</td>\n",
       "      <td>0.0</td>\n",
       "    </tr>\n",
       "    <tr>\n",
       "      <th>ENSG00000150457</th>\n",
       "      <td>0.131510</td>\n",
       "      <td>0.045696</td>\n",
       "      <td>-0.013918</td>\n",
       "      <td>-0.065686</td>\n",
       "      <td>1.000000</td>\n",
       "      <td>0.015458</td>\n",
       "      <td>0.031536</td>\n",
       "      <td>-0.036609</td>\n",
       "      <td>-0.027898</td>\n",
       "      <td>-0.107162</td>\n",
       "      <td>...</td>\n",
       "      <td>0.0</td>\n",
       "      <td>0.0</td>\n",
       "      <td>0.0</td>\n",
       "      <td>0.0</td>\n",
       "      <td>0.0</td>\n",
       "      <td>0.0</td>\n",
       "      <td>0.0</td>\n",
       "      <td>0.0</td>\n",
       "      <td>0.0</td>\n",
       "      <td>0.0</td>\n",
       "    </tr>\n",
       "  </tbody>\n",
       "</table>\n",
       "<p>5 rows × 118 columns</p>\n",
       "</div>"
      ],
      "text/plain": [
       "                 ENSG00000121741  ENSG00000121743  ENSG00000121742  \\\n",
       "ENSG00000121741         1.000000        -0.221885         0.286552   \n",
       "ENSG00000121743        -0.221885         1.000000        -0.107447   \n",
       "ENSG00000121742         0.286552        -0.107447         1.000000   \n",
       "ENSG00000032742        -0.290985         0.017199        -0.123068   \n",
       "ENSG00000150457         0.131510         0.045696        -0.013918   \n",
       "\n",
       "                 ENSG00000032742  ENSG00000150457  ENSG00000150459  \\\n",
       "ENSG00000121741        -0.290985         0.131510        -0.164693   \n",
       "ENSG00000121743         0.017199         0.045696        -0.072018   \n",
       "ENSG00000121742        -0.123068        -0.013918         0.094508   \n",
       "ENSG00000032742         1.000000        -0.065686         0.225819   \n",
       "ENSG00000150457        -0.065686         1.000000         0.015458   \n",
       "\n",
       "                 ENSG00000102678  ENSG00000127863  ENSG00000228741  \\\n",
       "ENSG00000121741         0.108578        -0.083811         0.115376   \n",
       "ENSG00000121743        -0.042818         0.021088         0.040915   \n",
       "ENSG00000121742         0.075160         0.027257         0.046829   \n",
       "ENSG00000032742         0.043307         0.085893        -0.051992   \n",
       "ENSG00000150457         0.031536        -0.036609        -0.027898   \n",
       "\n",
       "                 ENSG00000102699  ...  ENSG00000126217  ENSG00000057593  \\\n",
       "ENSG00000121741         0.204024  ...              0.0              0.0   \n",
       "ENSG00000121743         0.087297  ...              0.0              0.0   \n",
       "ENSG00000121742         0.028886  ...              0.0              0.0   \n",
       "ENSG00000032742         0.243035  ...              0.0              0.0   \n",
       "ENSG00000150457        -0.107162  ...              0.0              0.0   \n",
       "\n",
       "                 ENSG00000126231  ENSG00000139842  ENSG00000185896  \\\n",
       "ENSG00000121741              0.0              0.0              0.0   \n",
       "ENSG00000121743              0.0              0.0              0.0   \n",
       "ENSG00000121742              0.0              0.0              0.0   \n",
       "ENSG00000032742              0.0              0.0              0.0   \n",
       "ENSG00000150457              0.0              0.0              0.0   \n",
       "\n",
       "                 ENSG00000198176  ENSG00000183087  ENSG00000185989  \\\n",
       "ENSG00000121741              0.0              0.0              0.0   \n",
       "ENSG00000121743              0.0              0.0              0.0   \n",
       "ENSG00000121742              0.0              0.0              0.0   \n",
       "ENSG00000032742              0.0              0.0              0.0   \n",
       "ENSG00000150457              0.0              0.0              0.0   \n",
       "\n",
       "                 ENSG00000130177  ENSG00000169062  \n",
       "ENSG00000121741              0.0              0.0  \n",
       "ENSG00000121743              0.0              0.0  \n",
       "ENSG00000121742              0.0              0.0  \n",
       "ENSG00000032742              0.0              0.0  \n",
       "ENSG00000150457              0.0              0.0  \n",
       "\n",
       "[5 rows x 118 columns]"
      ]
     },
     "execution_count": 32,
     "metadata": {},
     "output_type": "execute_result"
    }
   ],
   "source": [
    "gene_corrs_df.head()"
   ]
  },
  {
   "cell_type": "code",
   "execution_count": 33,
   "id": "00583efc-7068-4270-ad1e-4a418e91db96",
   "metadata": {
    "execution": {
     "iopub.execute_input": "2022-06-16T13:02:51.570575Z",
     "iopub.status.busy": "2022-06-16T13:02:51.570022Z",
     "iopub.status.idle": "2022-06-16T13:02:51.590385Z",
     "shell.execute_reply": "2022-06-16T13:02:51.589792Z"
    },
    "papermill": {
     "duration": 0.332484,
     "end_time": "2022-06-16T13:02:51.592267",
     "exception": false,
     "start_time": "2022-06-16T13:02:51.259783",
     "status": "completed"
    },
    "tags": []
   },
   "outputs": [
    {
     "data": {
      "text/plain": [
       "-0.9559478924273154"
      ]
     },
     "metadata": {},
     "output_type": "display_data"
    }
   ],
   "source": [
    "_min_val = gene_corrs_df.min().min()\n",
    "display(_min_val)\n",
    "assert _min_val >= -1.0"
   ]
  },
  {
   "cell_type": "code",
   "execution_count": 34,
   "id": "d04fb2cf-1050-475b-b855-f5f7cc04092b",
   "metadata": {
    "execution": {
     "iopub.execute_input": "2022-06-16T13:02:52.147112Z",
     "iopub.status.busy": "2022-06-16T13:02:52.146938Z",
     "iopub.status.idle": "2022-06-16T13:02:52.164496Z",
     "shell.execute_reply": "2022-06-16T13:02:52.163907Z"
    },
    "papermill": {
     "duration": 0.307123,
     "end_time": "2022-06-16T13:02:52.165914",
     "exception": false,
     "start_time": "2022-06-16T13:02:51.858791",
     "status": "completed"
    },
    "tags": []
   },
   "outputs": [
    {
     "data": {
      "text/plain": [
       "1.0"
      ]
     },
     "metadata": {},
     "output_type": "display_data"
    }
   ],
   "source": [
    "_max_val = gene_corrs_df.max().max()  # this captures the diagonal\n",
    "display(_max_val)\n",
    "assert _max_val <= 1.0"
   ]
  },
  {
   "cell_type": "code",
   "execution_count": 35,
   "id": "96d02c44-1fba-47be-8a93-8f2608420b9c",
   "metadata": {
    "execution": {
     "iopub.execute_input": "2022-06-16T13:02:52.740783Z",
     "iopub.status.busy": "2022-06-16T13:02:52.740611Z",
     "iopub.status.idle": "2022-06-16T13:02:52.757000Z",
     "shell.execute_reply": "2022-06-16T13:02:52.756361Z"
    },
    "papermill": {
     "duration": 0.289721,
     "end_time": "2022-06-16T13:02:52.758451",
     "exception": false,
     "start_time": "2022-06-16T13:02:52.468730",
     "status": "completed"
    },
    "tags": []
   },
   "outputs": [],
   "source": [
    "# check upper triangular values\n",
    "assert len(gene_corrs) == int(genes_chr.shape[0] * (genes_chr.shape[0] - 1) / 2)"
   ]
  },
  {
   "cell_type": "code",
   "execution_count": 36,
   "id": "aaa51627-f4e3-4744-a41f-7d25adcc0a78",
   "metadata": {
    "execution": {
     "iopub.execute_input": "2022-06-16T13:02:53.334943Z",
     "iopub.status.busy": "2022-06-16T13:02:53.334772Z",
     "iopub.status.idle": "2022-06-16T13:02:53.351806Z",
     "shell.execute_reply": "2022-06-16T13:02:53.351226Z"
    },
    "papermill": {
     "duration": 0.290502,
     "end_time": "2022-06-16T13:02:53.353375",
     "exception": false,
     "start_time": "2022-06-16T13:02:53.062873",
     "status": "completed"
    },
    "tags": []
   },
   "outputs": [],
   "source": [
    "gene_corrs = pd.Series(gene_corrs)"
   ]
  },
  {
   "cell_type": "code",
   "execution_count": 37,
   "id": "fe283586-c348-40e0-8841-f6d97bfb021c",
   "metadata": {
    "execution": {
     "iopub.execute_input": "2022-06-16T13:02:53.935846Z",
     "iopub.status.busy": "2022-06-16T13:02:53.935671Z",
     "iopub.status.idle": "2022-06-16T13:02:53.956855Z",
     "shell.execute_reply": "2022-06-16T13:02:53.956224Z"
    },
    "papermill": {
     "duration": 0.330284,
     "end_time": "2022-06-16T13:02:53.958329",
     "exception": false,
     "start_time": "2022-06-16T13:02:53.628045",
     "status": "completed"
    },
    "tags": []
   },
   "outputs": [
    {
     "data": {
      "text/plain": [
       "count    6903.000000\n",
       "mean       -0.000021\n",
       "std         0.057519\n",
       "min        -0.955948\n",
       "25%         0.000000\n",
       "50%         0.000000\n",
       "75%         0.000000\n",
       "max         0.881733\n",
       "dtype: float64"
      ]
     },
     "execution_count": 37,
     "metadata": {},
     "output_type": "execute_result"
    }
   ],
   "source": [
    "gene_corrs.describe()"
   ]
  },
  {
   "cell_type": "code",
   "execution_count": 38,
   "id": "b3815678-0f93-4b35-897b-a9d047a2aa78",
   "metadata": {
    "execution": {
     "iopub.execute_input": "2022-06-16T13:02:54.509369Z",
     "iopub.status.busy": "2022-06-16T13:02:54.509192Z",
     "iopub.status.idle": "2022-06-16T13:02:54.529095Z",
     "shell.execute_reply": "2022-06-16T13:02:54.528522Z"
    },
    "papermill": {
     "duration": 0.286699,
     "end_time": "2022-06-16T13:02:54.530533",
     "exception": false,
     "start_time": "2022-06-16T13:02:54.243834",
     "status": "completed"
    },
    "tags": []
   },
   "outputs": [
    {
     "data": {
      "text/plain": [
       "0.00   -0.955948\n",
       "0.05   -0.036596\n",
       "0.10    0.000000\n",
       "0.15    0.000000\n",
       "0.20    0.000000\n",
       "0.25    0.000000\n",
       "0.30    0.000000\n",
       "0.35    0.000000\n",
       "0.40    0.000000\n",
       "0.45    0.000000\n",
       "0.50    0.000000\n",
       "0.55    0.000000\n",
       "0.60    0.000000\n",
       "0.65    0.000000\n",
       "0.70    0.000000\n",
       "0.75    0.000000\n",
       "0.80    0.000000\n",
       "0.85    0.000000\n",
       "0.90    0.000000\n",
       "0.95    0.036840\n",
       "dtype: float64"
      ]
     },
     "metadata": {},
     "output_type": "display_data"
    }
   ],
   "source": [
    "gene_corrs_quantiles = gene_corrs.quantile(np.arange(0, 1, 0.05))\n",
    "display(gene_corrs_quantiles)"
   ]
  },
  {
   "cell_type": "markdown",
   "id": "8e60a080-edb2-4e9c-b2ef-22961693200c",
   "metadata": {
    "papermill": {
     "duration": 0.266343,
     "end_time": "2022-06-16T13:02:55.110984",
     "exception": false,
     "start_time": "2022-06-16T13:02:54.844641",
     "status": "completed"
    },
    "tags": []
   },
   "source": [
    "## Plot: distribution"
   ]
  },
  {
   "cell_type": "code",
   "execution_count": 39,
   "id": "8301126b-a7d4-4744-9c7d-f0f86eb6f54c",
   "metadata": {
    "execution": {
     "iopub.execute_input": "2022-06-16T13:02:55.693329Z",
     "iopub.status.busy": "2022-06-16T13:02:55.693152Z",
     "iopub.status.idle": "2022-06-16T13:02:55.956180Z",
     "shell.execute_reply": "2022-06-16T13:02:55.955576Z"
    },
    "papermill": {
     "duration": 0.582144,
     "end_time": "2022-06-16T13:02:55.957473",
     "exception": false,
     "start_time": "2022-06-16T13:02:55.375329",
     "status": "completed"
    },
    "tags": []
   },
   "outputs": [
    {
     "data": {
      "image/png": "[encoded data removed]",
      "text/plain": [
       "<Figure size 504x504 with 1 Axes>"
      ]
     },
     "metadata": {
      "needs_background": "light"
     },
     "output_type": "display_data"
    }
   ],
   "source": [
    "with sns.plotting_context(\"paper\", font_scale=1.5):\n",
    "    g = sns.displot(gene_corrs, kde=True, height=7)\n",
    "    g.ax.set_title(\n",
    "        f\"Distribution of gene correlation values in chromosome {chromosome}\"\n",
    "    )"
   ]
  },
  {
   "cell_type": "markdown",
   "id": "cbd52bca-d878-4a2f-b684-5c83aa3038d4",
   "metadata": {
    "papermill": {
     "duration": 0.264321,
     "end_time": "2022-06-16T13:02:56.486280",
     "exception": false,
     "start_time": "2022-06-16T13:02:56.221959",
     "status": "completed"
    },
    "tags": []
   },
   "source": [
    "## Plot: heatmap"
   ]
  },
  {
   "cell_type": "code",
   "execution_count": 40,
   "id": "d03fe63a-c7b2-4fb9-a53c-db362ce843c9",
   "metadata": {
    "execution": {
     "iopub.execute_input": "2022-06-16T13:02:57.071381Z",
     "iopub.status.busy": "2022-06-16T13:02:57.070769Z",
     "iopub.status.idle": "2022-06-16T13:02:57.088624Z",
     "shell.execute_reply": "2022-06-16T13:02:57.088104Z"
    },
    "papermill": {
     "duration": 0.286464,
     "end_time": "2022-06-16T13:02:57.089977",
     "exception": false,
     "start_time": "2022-06-16T13:02:56.803513",
     "status": "completed"
    },
    "tags": []
   },
   "outputs": [
    {
     "data": {
      "text/plain": [
       "'-0.05 / 0.05'"
      ]
     },
     "metadata": {},
     "output_type": "display_data"
    }
   ],
   "source": [
    "vmin_val = min(-0.05, gene_corrs_quantiles[0.10])\n",
    "vmax_val = max(0.05, gene_corrs_quantiles[0.90])\n",
    "display(f\"{vmin_val} / {vmax_val}\")"
   ]
  },
  {
   "cell_type": "code",
   "execution_count": 41,
   "id": "dc41b70b-5bcc-4d9e-9f33-a22c4a94dab5",
   "metadata": {
    "execution": {
     "iopub.execute_input": "2022-06-16T13:02:57.671532Z",
     "iopub.status.busy": "2022-06-16T13:02:57.671348Z",
     "iopub.status.idle": "2022-06-16T13:02:57.822467Z",
     "shell.execute_reply": "2022-06-16T13:02:57.821850Z"
    },
    "papermill": {
     "duration": 0.467741,
     "end_time": "2022-06-16T13:02:57.823815",
     "exception": false,
     "start_time": "2022-06-16T13:02:57.356074",
     "status": "completed"
    },
    "tags": []
   },
   "outputs": [
    {
     "data": {
      "text/plain": [
       "Text(0.5, 1.0, 'Gene correlations in chromosome 13')"
      ]
     },
     "execution_count": 41,
     "metadata": {},
     "output_type": "execute_result"
    },
    {
     "data": {
      "image/png": "[encoded data removed]",
      "text/plain": [
       "<Figure size 720x720 with 2 Axes>"
      ]
     },
     "metadata": {
      "needs_background": "light"
     },
     "output_type": "display_data"
    }
   ],
   "source": [
    "f, ax = plt.subplots(figsize=(10, 10))\n",
    "sns.heatmap(\n",
    "    gene_corrs_df,\n",
    "    xticklabels=False,\n",
    "    yticklabels=False,\n",
    "    square=True,\n",
    "    vmin=vmin_val,\n",
    "    vmax=vmax_val,\n",
    "    cmap=\"YlGnBu\",\n",
    "    ax=ax,\n",
    ")\n",
    "ax.set_title(f\"Gene correlations in chromosome {chromosome}\")"
   ]
  },
  {
   "cell_type": "code",
   "execution_count": null,
   "id": "b25e3ead",
   "metadata": {
    "papermill": {
     "duration": 0.267184,
     "end_time": "2022-06-16T13:02:58.356508",
     "exception": false,
     "start_time": "2022-06-16T13:02:58.089324",
     "status": "completed"
    },
    "tags": []
   },
   "outputs": [],
   "source": []
  }
 ],
 "metadata": {
  "jupytext": {
   "cell_metadata_filter": "all,-execution,-papermill,-trusted",
   "formats": "ipynb,py//py:percent"
  },
  "kernelspec": {
   "display_name": "Python 3 (ipykernel)",
   "language": "python",
   "name": "python3"
  },
  "language_info": {
   "codemirror_mode": {
    "name": "ipython",
    "version": 3
   },
   "file_extension": ".py",
   "mimetype": "text/x-python",
   "name": "python",
   "nbconvert_exporter": "python",
   "pygments_lexer": "ipython3",
   "version": "3.8.13"
  },
  "papermill": {
   "default_parameters": {},
   "duration": 1972.160062,
   "end_time": "2022-06-16T13:03:01.708522",
   "environment_variables": {},
   "exception": null,
   "input_path": "nbs/15_gsa_gls/10-gene_expr_correlations.ipynb",
   "output_path": "nbs/15_gsa_gls/gene_corrs/gtex_v8/mashr/10-gene_expr_correlations-chr13.run.ipynb",
   "parameters": {
    "EQTL_MODEL": "MASHR",
    "REFERENCE_PANEL": "GTEX_V8",
    "chromosome": 13
   },
   "start_time": "2022-06-16T12:30:09.548460",
   "version": "2.2.2"
  }
 },
 "nbformat": 4,
 "nbformat_minor": 5
}
