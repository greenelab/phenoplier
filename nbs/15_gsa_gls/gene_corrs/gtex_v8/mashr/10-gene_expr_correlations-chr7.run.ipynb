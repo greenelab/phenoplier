{
 "cells": [
  {
   "cell_type": "markdown",
   "id": "7a6632fb",
   "metadata": {
    "papermill": {
     "duration": 0.007349,
     "end_time": "2022-06-16T04:02:50.328819",
     "exception": false,
     "start_time": "2022-06-16T04:02:50.321470",
     "status": "completed"
    },
    "tags": []
   },
   "source": [
    "# Description"
   ]
  },
  {
   "cell_type": "markdown",
   "id": "7097c346",
   "metadata": {
    "papermill": {
     "duration": 0.006291,
     "end_time": "2022-06-16T04:02:50.347315",
     "exception": false,
     "start_time": "2022-06-16T04:02:50.341024",
     "status": "completed"
    },
    "tags": []
   },
   "source": [
    "(Please, take a look at the README.md file in this directory for instructions on how to run this notebook)\n",
    "\n",
    "This notebook computes predicted expression correlations between all genes in the MultiPLIER models.\n",
    "\n",
    "It also has a parameter set for papermill to run on a single chromosome to run in parallel (see under `Settings` below).\n",
    "\n",
    "This notebook is not directly run. See README.md."
   ]
  },
  {
   "cell_type": "markdown",
   "id": "c61d8427",
   "metadata": {
    "papermill": {
     "duration": 0.006111,
     "end_time": "2022-06-16T04:02:50.359759",
     "exception": false,
     "start_time": "2022-06-16T04:02:50.353648",
     "status": "completed"
    },
    "tags": []
   },
   "source": [
    "# Modules"
   ]
  },
  {
   "cell_type": "code",
   "execution_count": 1,
   "id": "bbc0234f",
   "metadata": {
    "execution": {
     "iopub.execute_input": "2022-06-16T04:02:50.373065Z",
     "iopub.status.busy": "2022-06-16T04:02:50.372841Z",
     "iopub.status.idle": "2022-06-16T04:02:50.390788Z",
     "shell.execute_reply": "2022-06-16T04:02:50.390310Z"
    },
    "papermill": {
     "duration": 0.026626,
     "end_time": "2022-06-16T04:02:50.392569",
     "exception": false,
     "start_time": "2022-06-16T04:02:50.365943",
     "status": "completed"
    },
    "tags": []
   },
   "outputs": [],
   "source": [
    "%load_ext autoreload\n",
    "%autoreload 2"
   ]
  },
  {
   "cell_type": "code",
   "execution_count": 2,
   "id": "1d5f5a59",
   "metadata": {
    "execution": {
     "iopub.execute_input": "2022-06-16T04:02:50.406414Z",
     "iopub.status.busy": "2022-06-16T04:02:50.406236Z",
     "iopub.status.idle": "2022-06-16T04:02:51.415991Z",
     "shell.execute_reply": "2022-06-16T04:02:51.415361Z"
    },
    "papermill": {
     "duration": 1.018702,
     "end_time": "2022-06-16T04:02:51.417767",
     "exception": false,
     "start_time": "2022-06-16T04:02:50.399065",
     "status": "completed"
    },
    "tags": []
   },
   "outputs": [],
   "source": [
    "from random import sample\n",
    "import warnings\n",
    "\n",
    "import numpy as np\n",
    "from scipy.spatial.distance import squareform\n",
    "import pandas as pd\n",
    "from tqdm import tqdm\n",
    "import matplotlib.pyplot as plt\n",
    "import seaborn as sns\n",
    "\n",
    "import conf\n",
    "from entity import Gene"
   ]
  },
  {
   "cell_type": "markdown",
   "id": "1eac24b5",
   "metadata": {
    "papermill": {
     "duration": 0.006281,
     "end_time": "2022-06-16T04:02:51.460345",
     "exception": false,
     "start_time": "2022-06-16T04:02:51.454064",
     "status": "completed"
    },
    "tags": []
   },
   "source": [
    "# Settings"
   ]
  },
  {
   "cell_type": "code",
   "execution_count": 3,
   "id": "ca4560ba",
   "metadata": {
    "execution": {
     "iopub.execute_input": "2022-06-16T04:02:51.474247Z",
     "iopub.status.busy": "2022-06-16T04:02:51.474049Z",
     "iopub.status.idle": "2022-06-16T04:02:51.491423Z",
     "shell.execute_reply": "2022-06-16T04:02:51.490826Z"
    },
    "papermill": {
     "duration": 0.026486,
     "end_time": "2022-06-16T04:02:51.493303",
     "exception": false,
     "start_time": "2022-06-16T04:02:51.466817",
     "status": "completed"
    },
    "tags": [
     "parameters"
    ]
   },
   "outputs": [],
   "source": [
    "# reference panel\n",
    "REFERENCE_PANEL = \"GTEX_V8\"\n",
    "# REFERENCE_PANEL = \"1000G\"\n",
    "\n",
    "# prediction models\n",
    "## mashr\n",
    "EQTL_MODEL = \"MASHR\"\n",
    "EQTL_MODEL_FILES_PREFIX = \"mashr_\"\n",
    "\n",
    "# ## elastic net\n",
    "# EQTL_MODEL = \"ELASTIC_NET\"\n",
    "# EQTL_MODEL_FILES_PREFIX = \"en_\"\n",
    "\n",
    "# make it read the prefix from conf.py\n",
    "EQTL_MODEL_FILES_PREFIX = None\n",
    "\n",
    "# this is the default value used in S-MultiXcan to select the\n",
    "# top principal components of the expression correlation matrix\n",
    "SMULTIXCAN_CONDITION_NUMBER = 30\n",
    "\n",
    "# specifies a single chromosome value\n",
    "# by default, run on all chromosomes\n",
    "chromosome = None"
   ]
  },
  {
   "cell_type": "code",
   "execution_count": 4,
   "id": "4807eabd",
   "metadata": {
    "execution": {
     "iopub.execute_input": "2022-06-16T04:02:51.507332Z",
     "iopub.status.busy": "2022-06-16T04:02:51.507139Z",
     "iopub.status.idle": "2022-06-16T04:02:51.524006Z",
     "shell.execute_reply": "2022-06-16T04:02:51.523404Z"
    },
    "papermill": {
     "duration": 0.025819,
     "end_time": "2022-06-16T04:02:51.525683",
     "exception": false,
     "start_time": "2022-06-16T04:02:51.499864",
     "status": "completed"
    },
    "tags": [
     "injected-parameters"
    ]
   },
   "outputs": [],
   "source": [
    "# Parameters\n",
    "chromosome = 7\n",
    "REFERENCE_PANEL = \"GTEX_V8\"\n",
    "EQTL_MODEL = \"MASHR\"\n"
   ]
  },
  {
   "cell_type": "code",
   "execution_count": 5,
   "id": "a089c9ff",
   "metadata": {
    "execution": {
     "iopub.execute_input": "2022-06-16T04:02:51.539509Z",
     "iopub.status.busy": "2022-06-16T04:02:51.538924Z",
     "iopub.status.idle": "2022-06-16T04:02:51.555447Z",
     "shell.execute_reply": "2022-06-16T04:02:51.554805Z"
    },
    "papermill": {
     "duration": 0.025082,
     "end_time": "2022-06-16T04:02:51.557062",
     "exception": false,
     "start_time": "2022-06-16T04:02:51.531980",
     "status": "completed"
    },
    "tags": []
   },
   "outputs": [],
   "source": [
    "if EQTL_MODEL_FILES_PREFIX is None:\n",
    "    EQTL_MODEL_FILES_PREFIX = conf.PHENOMEXCAN[\"PREDICTION_MODELS\"][\n",
    "        f\"{EQTL_MODEL}_PREFIX\"\n",
    "    ]"
   ]
  },
  {
   "cell_type": "code",
   "execution_count": 6,
   "id": "8fe24bef",
   "metadata": {
    "execution": {
     "iopub.execute_input": "2022-06-16T04:02:51.571066Z",
     "iopub.status.busy": "2022-06-16T04:02:51.570527Z",
     "iopub.status.idle": "2022-06-16T04:02:51.590560Z",
     "shell.execute_reply": "2022-06-16T04:02:51.589941Z"
    },
    "papermill": {
     "duration": 0.02868,
     "end_time": "2022-06-16T04:02:51.592162",
     "exception": false,
     "start_time": "2022-06-16T04:02:51.563482",
     "status": "completed"
    },
    "tags": []
   },
   "outputs": [
    {
     "data": {
      "text/plain": [
       "'Using eQTL model: MASHR / mashr_'"
      ]
     },
     "metadata": {},
     "output_type": "display_data"
    }
   ],
   "source": [
    "display(f\"Using eQTL model: {EQTL_MODEL} / {EQTL_MODEL_FILES_PREFIX}\")"
   ]
  },
  {
   "cell_type": "code",
   "execution_count": 7,
   "id": "0230ebcb-2c32-4b95-9292-d9a52038e70d",
   "metadata": {
    "execution": {
     "iopub.execute_input": "2022-06-16T04:02:51.606315Z",
     "iopub.status.busy": "2022-06-16T04:02:51.605780Z",
     "iopub.status.idle": "2022-06-16T04:02:51.622313Z",
     "shell.execute_reply": "2022-06-16T04:02:51.621734Z"
    },
    "papermill": {
     "duration": 0.025115,
     "end_time": "2022-06-16T04:02:51.623863",
     "exception": false,
     "start_time": "2022-06-16T04:02:51.598748",
     "status": "completed"
    },
    "tags": []
   },
   "outputs": [],
   "source": [
    "REFERENCE_PANEL_DIR = conf.PHENOMEXCAN[\"LD_BLOCKS\"][f\"{REFERENCE_PANEL}_GENOTYPE_DIR\"]"
   ]
  },
  {
   "cell_type": "code",
   "execution_count": 8,
   "id": "98c4a159-601d-4a22-a1ab-35bd451c25f9",
   "metadata": {
    "execution": {
     "iopub.execute_input": "2022-06-16T04:02:51.637640Z",
     "iopub.status.busy": "2022-06-16T04:02:51.637253Z",
     "iopub.status.idle": "2022-06-16T04:02:51.655355Z",
     "shell.execute_reply": "2022-06-16T04:02:51.654773Z"
    },
    "papermill": {
     "duration": 0.026713,
     "end_time": "2022-06-16T04:02:51.656959",
     "exception": false,
     "start_time": "2022-06-16T04:02:51.630246",
     "status": "completed"
    },
    "tags": []
   },
   "outputs": [
    {
     "data": {
      "text/plain": [
       "'Using reference panel folder: /opt/data/data/phenomexcan/ld_blocks/reference_panel_gtex_v8'"
      ]
     },
     "metadata": {},
     "output_type": "display_data"
    }
   ],
   "source": [
    "display(f\"Using reference panel folder: {str(REFERENCE_PANEL_DIR)}\")"
   ]
  },
  {
   "cell_type": "code",
   "execution_count": 9,
   "id": "396392dc-0340-4540-9b02-e182b833f909",
   "metadata": {
    "execution": {
     "iopub.execute_input": "2022-06-16T04:02:51.671310Z",
     "iopub.status.busy": "2022-06-16T04:02:51.670787Z",
     "iopub.status.idle": "2022-06-16T04:02:51.687494Z",
     "shell.execute_reply": "2022-06-16T04:02:51.686788Z"
    },
    "papermill": {
     "duration": 0.02542,
     "end_time": "2022-06-16T04:02:51.689034",
     "exception": false,
     "start_time": "2022-06-16T04:02:51.663614",
     "status": "completed"
    },
    "tags": []
   },
   "outputs": [],
   "source": [
    "OUTPUT_DIR_BASE = (\n",
    "    conf.PHENOMEXCAN[\"LD_BLOCKS\"][f\"GENE_CORRS_DIR\"]\n",
    "    / REFERENCE_PANEL.lower()\n",
    "    / EQTL_MODEL.lower()\n",
    ")\n",
    "OUTPUT_DIR_BASE.mkdir(parents=True, exist_ok=True)"
   ]
  },
  {
   "cell_type": "code",
   "execution_count": 10,
   "id": "8942c2d3-e53c-4d63-a0eb-b6fce0574d36",
   "metadata": {
    "execution": {
     "iopub.execute_input": "2022-06-16T04:02:51.702964Z",
     "iopub.status.busy": "2022-06-16T04:02:51.702625Z",
     "iopub.status.idle": "2022-06-16T04:02:51.719484Z",
     "shell.execute_reply": "2022-06-16T04:02:51.718889Z"
    },
    "papermill": {
     "duration": 0.025385,
     "end_time": "2022-06-16T04:02:51.720919",
     "exception": false,
     "start_time": "2022-06-16T04:02:51.695534",
     "status": "completed"
    },
    "tags": []
   },
   "outputs": [
    {
     "data": {
      "text/plain": [
       "'Using output dir base: /opt/data/data/phenomexcan/ld_blocks/gene_corrs/gtex_v8/mashr'"
      ]
     },
     "metadata": {},
     "output_type": "display_data"
    }
   ],
   "source": [
    "display(f\"Using output dir base: {OUTPUT_DIR_BASE}\")"
   ]
  },
  {
   "cell_type": "code",
   "execution_count": 11,
   "id": "408aa590",
   "metadata": {
    "execution": {
     "iopub.execute_input": "2022-06-16T04:02:51.735419Z",
     "iopub.status.busy": "2022-06-16T04:02:51.734784Z",
     "iopub.status.idle": "2022-06-16T04:02:51.750951Z",
     "shell.execute_reply": "2022-06-16T04:02:51.750357Z"
    },
    "papermill": {
     "duration": 0.025175,
     "end_time": "2022-06-16T04:02:51.752719",
     "exception": false,
     "start_time": "2022-06-16T04:02:51.727544",
     "status": "completed"
    },
    "tags": []
   },
   "outputs": [],
   "source": [
    "assert (\n",
    "    chromosome is not None\n",
    "), \"You have to select one chromosome (format: number between 1 and 22)\""
   ]
  },
  {
   "cell_type": "code",
   "execution_count": 12,
   "id": "c1c7dd06-80ff-453c-bcb7-0899edce75da",
   "metadata": {
    "execution": {
     "iopub.execute_input": "2022-06-16T04:02:51.767231Z",
     "iopub.status.busy": "2022-06-16T04:02:51.766722Z",
     "iopub.status.idle": "2022-06-16T04:02:51.782841Z",
     "shell.execute_reply": "2022-06-16T04:02:51.782258Z"
    },
    "papermill": {
     "duration": 0.025189,
     "end_time": "2022-06-16T04:02:51.784605",
     "exception": false,
     "start_time": "2022-06-16T04:02:51.759416",
     "status": "completed"
    },
    "tags": []
   },
   "outputs": [],
   "source": [
    "chromosome = str(chromosome)"
   ]
  },
  {
   "cell_type": "code",
   "execution_count": 13,
   "id": "bc17b84c-9c26-47a5-a3ab-7046e72f3ef4",
   "metadata": {
    "execution": {
     "iopub.execute_input": "2022-06-16T04:02:51.807648Z",
     "iopub.status.busy": "2022-06-16T04:02:51.807306Z",
     "iopub.status.idle": "2022-06-16T04:02:51.823746Z",
     "shell.execute_reply": "2022-06-16T04:02:51.823231Z"
    },
    "papermill": {
     "duration": 0.033945,
     "end_time": "2022-06-16T04:02:51.825247",
     "exception": false,
     "start_time": "2022-06-16T04:02:51.791302",
     "status": "completed"
    },
    "tags": []
   },
   "outputs": [
    {
     "data": {
      "text/plain": [
       "'Working on chromosome 7'"
      ]
     },
     "metadata": {},
     "output_type": "display_data"
    }
   ],
   "source": [
    "display(f\"Working on chromosome {chromosome}\")"
   ]
  },
  {
   "cell_type": "markdown",
   "id": "d2ba085e",
   "metadata": {
    "papermill": {
     "duration": 0.006479,
     "end_time": "2022-06-16T04:02:51.838585",
     "exception": false,
     "start_time": "2022-06-16T04:02:51.832106",
     "status": "completed"
    },
    "tags": []
   },
   "source": [
    "# Load data"
   ]
  },
  {
   "cell_type": "markdown",
   "id": "abcc4b3d",
   "metadata": {
    "papermill": {
     "duration": 0.006319,
     "end_time": "2022-06-16T04:02:51.851473",
     "exception": false,
     "start_time": "2022-06-16T04:02:51.845154",
     "status": "completed"
    },
    "tags": []
   },
   "source": [
    "## MultiPLIER Z"
   ]
  },
  {
   "cell_type": "code",
   "execution_count": 14,
   "id": "c48ef527",
   "metadata": {
    "execution": {
     "iopub.execute_input": "2022-06-16T04:02:51.865373Z",
     "iopub.status.busy": "2022-06-16T04:02:51.864895Z",
     "iopub.status.idle": "2022-06-16T04:02:51.908762Z",
     "shell.execute_reply": "2022-06-16T04:02:51.908147Z"
    },
    "papermill": {
     "duration": 0.052538,
     "end_time": "2022-06-16T04:02:51.910397",
     "exception": false,
     "start_time": "2022-06-16T04:02:51.857859",
     "status": "completed"
    },
    "tags": []
   },
   "outputs": [],
   "source": [
    "multiplier_z_genes = pd.read_pickle(\n",
    "    conf.MULTIPLIER[\"MODEL_Z_MATRIX_FILE\"]\n",
    ").index.tolist()"
   ]
  },
  {
   "cell_type": "code",
   "execution_count": 15,
   "id": "0a4ecbd9",
   "metadata": {
    "execution": {
     "iopub.execute_input": "2022-06-16T04:02:51.925737Z",
     "iopub.status.busy": "2022-06-16T04:02:51.925152Z",
     "iopub.status.idle": "2022-06-16T04:02:51.942569Z",
     "shell.execute_reply": "2022-06-16T04:02:51.942037Z"
    },
    "papermill": {
     "duration": 0.026916,
     "end_time": "2022-06-16T04:02:51.944365",
     "exception": false,
     "start_time": "2022-06-16T04:02:51.917449",
     "status": "completed"
    },
    "tags": []
   },
   "outputs": [
    {
     "data": {
      "text/plain": [
       "6750"
      ]
     },
     "execution_count": 15,
     "metadata": {},
     "output_type": "execute_result"
    }
   ],
   "source": [
    "len(multiplier_z_genes)"
   ]
  },
  {
   "cell_type": "code",
   "execution_count": 16,
   "id": "115e8864",
   "metadata": {
    "execution": {
     "iopub.execute_input": "2022-06-16T04:02:51.959525Z",
     "iopub.status.busy": "2022-06-16T04:02:51.959338Z",
     "iopub.status.idle": "2022-06-16T04:02:51.976659Z",
     "shell.execute_reply": "2022-06-16T04:02:51.976158Z"
    },
    "papermill": {
     "duration": 0.026706,
     "end_time": "2022-06-16T04:02:51.978232",
     "exception": false,
     "start_time": "2022-06-16T04:02:51.951526",
     "status": "completed"
    },
    "tags": []
   },
   "outputs": [
    {
     "data": {
      "text/plain": [
       "['GAS6',\n",
       " 'MMP14',\n",
       " 'DSP',\n",
       " 'MARCKSL1',\n",
       " 'SPARC',\n",
       " 'CTSD',\n",
       " 'EPAS1',\n",
       " 'PALLD',\n",
       " 'PHC2',\n",
       " 'LGALS3BP']"
      ]
     },
     "execution_count": 16,
     "metadata": {},
     "output_type": "execute_result"
    }
   ],
   "source": [
    "multiplier_z_genes[:10]"
   ]
  },
  {
   "cell_type": "markdown",
   "id": "7dcb8db7",
   "metadata": {
    "papermill": {
     "duration": 0.006801,
     "end_time": "2022-06-16T04:02:51.992178",
     "exception": false,
     "start_time": "2022-06-16T04:02:51.985377",
     "status": "completed"
    },
    "tags": []
   },
   "source": [
    "## Get gene objects"
   ]
  },
  {
   "cell_type": "code",
   "execution_count": 17,
   "id": "bb932812",
   "metadata": {
    "execution": {
     "iopub.execute_input": "2022-06-16T04:02:52.014510Z",
     "iopub.status.busy": "2022-06-16T04:02:52.013999Z",
     "iopub.status.idle": "2022-06-16T04:02:52.037805Z",
     "shell.execute_reply": "2022-06-16T04:02:52.037198Z"
    },
    "papermill": {
     "duration": 0.033056,
     "end_time": "2022-06-16T04:02:52.039488",
     "exception": false,
     "start_time": "2022-06-16T04:02:52.006432",
     "status": "completed"
    },
    "tags": []
   },
   "outputs": [],
   "source": [
    "multiplier_gene_obj = {\n",
    "    gene_name: Gene(name=gene_name)\n",
    "    for gene_name in multiplier_z_genes\n",
    "    if gene_name in Gene.GENE_NAME_TO_ID_MAP\n",
    "}"
   ]
  },
  {
   "cell_type": "code",
   "execution_count": 18,
   "id": "39533214",
   "metadata": {
    "execution": {
     "iopub.execute_input": "2022-06-16T04:02:52.054943Z",
     "iopub.status.busy": "2022-06-16T04:02:52.054418Z",
     "iopub.status.idle": "2022-06-16T04:02:52.072438Z",
     "shell.execute_reply": "2022-06-16T04:02:52.071780Z"
    },
    "papermill": {
     "duration": 0.027365,
     "end_time": "2022-06-16T04:02:52.074028",
     "exception": false,
     "start_time": "2022-06-16T04:02:52.046663",
     "status": "completed"
    },
    "tags": []
   },
   "outputs": [
    {
     "data": {
      "text/plain": [
       "6454"
      ]
     },
     "execution_count": 18,
     "metadata": {},
     "output_type": "execute_result"
    }
   ],
   "source": [
    "len(multiplier_gene_obj)"
   ]
  },
  {
   "cell_type": "code",
   "execution_count": 19,
   "id": "9a5d0b84",
   "metadata": {
    "execution": {
     "iopub.execute_input": "2022-06-16T04:02:52.089510Z",
     "iopub.status.busy": "2022-06-16T04:02:52.089077Z",
     "iopub.status.idle": "2022-06-16T04:02:52.105991Z",
     "shell.execute_reply": "2022-06-16T04:02:52.105370Z"
    },
    "papermill": {
     "duration": 0.026149,
     "end_time": "2022-06-16T04:02:52.107492",
     "exception": false,
     "start_time": "2022-06-16T04:02:52.081343",
     "status": "completed"
    },
    "tags": []
   },
   "outputs": [
    {
     "data": {
      "text/plain": [
       "'ENSG00000183087'"
      ]
     },
     "execution_count": 19,
     "metadata": {},
     "output_type": "execute_result"
    }
   ],
   "source": [
    "multiplier_gene_obj[\"GAS6\"].ensembl_id"
   ]
  },
  {
   "cell_type": "code",
   "execution_count": 20,
   "id": "e3ffabc7",
   "metadata": {
    "execution": {
     "iopub.execute_input": "2022-06-16T04:02:52.123191Z",
     "iopub.status.busy": "2022-06-16T04:02:52.122684Z",
     "iopub.status.idle": "2022-06-16T04:02:54.304983Z",
     "shell.execute_reply": "2022-06-16T04:02:54.304527Z"
    },
    "papermill": {
     "duration": 2.191626,
     "end_time": "2022-06-16T04:02:54.306426",
     "exception": false,
     "start_time": "2022-06-16T04:02:52.114800",
     "status": "completed"
    },
    "tags": []
   },
   "outputs": [],
   "source": [
    "_gene_obj = list(multiplier_gene_obj.values())\n",
    "\n",
    "genes_info = pd.DataFrame(\n",
    "    {\n",
    "        \"name\": [g.name for g in _gene_obj],\n",
    "        \"id\": [g.ensembl_id for g in _gene_obj],\n",
    "        \"chr\": [g.chromosome for g in _gene_obj],\n",
    "        \"band\": [g.band for g in _gene_obj],\n",
    "        \"start_position\": [g.get_attribute(\"start_position\") for g in _gene_obj],\n",
    "    }\n",
    ")"
   ]
  },
  {
   "cell_type": "code",
   "execution_count": 21,
   "id": "e23519b8",
   "metadata": {
    "execution": {
     "iopub.execute_input": "2022-06-16T04:02:54.328026Z",
     "iopub.status.busy": "2022-06-16T04:02:54.327606Z",
     "iopub.status.idle": "2022-06-16T04:02:54.345068Z",
     "shell.execute_reply": "2022-06-16T04:02:54.344489Z"
    },
    "papermill": {
     "duration": 0.032437,
     "end_time": "2022-06-16T04:02:54.346687",
     "exception": false,
     "start_time": "2022-06-16T04:02:54.314250",
     "status": "completed"
    },
    "tags": []
   },
   "outputs": [
    {
     "data": {
      "text/plain": [
       "(6454, 5)"
      ]
     },
     "execution_count": 21,
     "metadata": {},
     "output_type": "execute_result"
    }
   ],
   "source": [
    "genes_info.shape"
   ]
  },
  {
   "cell_type": "code",
   "execution_count": 22,
   "id": "0d71881c",
   "metadata": {
    "execution": {
     "iopub.execute_input": "2022-06-16T04:02:54.362307Z",
     "iopub.status.busy": "2022-06-16T04:02:54.361878Z",
     "iopub.status.idle": "2022-06-16T04:02:54.386081Z",
     "shell.execute_reply": "2022-06-16T04:02:54.385445Z"
    },
    "papermill": {
     "duration": 0.033706,
     "end_time": "2022-06-16T04:02:54.387762",
     "exception": false,
     "start_time": "2022-06-16T04:02:54.354056",
     "status": "completed"
    },
    "tags": []
   },
   "outputs": [
    {
     "data": {
      "text/html": [
       "<div>\n",
       "<style scoped>\n",
       "    .dataframe tbody tr th:only-of-type {\n",
       "        vertical-align: middle;\n",
       "    }\n",
       "\n",
       "    .dataframe tbody tr th {\n",
       "        vertical-align: top;\n",
       "    }\n",
       "\n",
       "    .dataframe thead th {\n",
       "        text-align: right;\n",
       "    }\n",
       "</style>\n",
       "<table border=\"1\" class=\"dataframe\">\n",
       "  <thead>\n",
       "    <tr style=\"text-align: right;\">\n",
       "      <th></th>\n",
       "      <th>name</th>\n",
       "      <th>id</th>\n",
       "      <th>chr</th>\n",
       "      <th>band</th>\n",
       "      <th>start_position</th>\n",
       "    </tr>\n",
       "  </thead>\n",
       "  <tbody>\n",
       "    <tr>\n",
       "      <th>0</th>\n",
       "      <td>GAS6</td>\n",
       "      <td>ENSG00000183087</td>\n",
       "      <td>13</td>\n",
       "      <td>13q34</td>\n",
       "      <td>113820549.0</td>\n",
       "    </tr>\n",
       "    <tr>\n",
       "      <th>1</th>\n",
       "      <td>MMP14</td>\n",
       "      <td>ENSG00000157227</td>\n",
       "      <td>14</td>\n",
       "      <td>14q11.2</td>\n",
       "      <td>22836560.0</td>\n",
       "    </tr>\n",
       "    <tr>\n",
       "      <th>2</th>\n",
       "      <td>DSP</td>\n",
       "      <td>ENSG00000096696</td>\n",
       "      <td>6</td>\n",
       "      <td>6p24.3</td>\n",
       "      <td>7541617.0</td>\n",
       "    </tr>\n",
       "    <tr>\n",
       "      <th>3</th>\n",
       "      <td>MARCKSL1</td>\n",
       "      <td>ENSG00000175130</td>\n",
       "      <td>1</td>\n",
       "      <td>1p35.1</td>\n",
       "      <td>32333839.0</td>\n",
       "    </tr>\n",
       "    <tr>\n",
       "      <th>4</th>\n",
       "      <td>SPARC</td>\n",
       "      <td>ENSG00000113140</td>\n",
       "      <td>5</td>\n",
       "      <td>5q33.1</td>\n",
       "      <td>151661096.0</td>\n",
       "    </tr>\n",
       "  </tbody>\n",
       "</table>\n",
       "</div>"
      ],
      "text/plain": [
       "       name               id chr     band  start_position\n",
       "0      GAS6  ENSG00000183087  13    13q34     113820549.0\n",
       "1     MMP14  ENSG00000157227  14  14q11.2      22836560.0\n",
       "2       DSP  ENSG00000096696   6   6p24.3       7541617.0\n",
       "3  MARCKSL1  ENSG00000175130   1   1p35.1      32333839.0\n",
       "4     SPARC  ENSG00000113140   5   5q33.1     151661096.0"
      ]
     },
     "execution_count": 22,
     "metadata": {},
     "output_type": "execute_result"
    }
   ],
   "source": [
    "genes_info.head()"
   ]
  },
  {
   "cell_type": "markdown",
   "id": "8c9dbb4a",
   "metadata": {
    "papermill": {
     "duration": 0.007452,
     "end_time": "2022-06-16T04:02:54.402918",
     "exception": false,
     "start_time": "2022-06-16T04:02:54.395466",
     "status": "completed"
    },
    "tags": []
   },
   "source": [
    "## Get tissues names"
   ]
  },
  {
   "cell_type": "code",
   "execution_count": 23,
   "id": "2bc52419",
   "metadata": {
    "execution": {
     "iopub.execute_input": "2022-06-16T04:02:54.419034Z",
     "iopub.status.busy": "2022-06-16T04:02:54.418443Z",
     "iopub.status.idle": "2022-06-16T04:02:54.434844Z",
     "shell.execute_reply": "2022-06-16T04:02:54.434254Z"
    },
    "papermill": {
     "duration": 0.026006,
     "end_time": "2022-06-16T04:02:54.436363",
     "exception": false,
     "start_time": "2022-06-16T04:02:54.410357",
     "status": "completed"
    },
    "tags": []
   },
   "outputs": [],
   "source": [
    "tissues = conf.PHENOMEXCAN[\"PREDICTION_MODELS\"][f\"{EQTL_MODEL}_TISSUES\"].split(\" \")"
   ]
  },
  {
   "cell_type": "code",
   "execution_count": 24,
   "id": "64b293a1",
   "metadata": {
    "execution": {
     "iopub.execute_input": "2022-06-16T04:02:54.452397Z",
     "iopub.status.busy": "2022-06-16T04:02:54.452033Z",
     "iopub.status.idle": "2022-06-16T04:02:54.469044Z",
     "shell.execute_reply": "2022-06-16T04:02:54.468457Z"
    },
    "papermill": {
     "duration": 0.026652,
     "end_time": "2022-06-16T04:02:54.470659",
     "exception": false,
     "start_time": "2022-06-16T04:02:54.444007",
     "status": "completed"
    },
    "tags": []
   },
   "outputs": [
    {
     "data": {
      "text/plain": [
       "['Skin_Not_Sun_Exposed_Suprapubic',\n",
       " 'Cells_EBV-transformed_lymphocytes',\n",
       " 'Brain_Frontal_Cortex_BA9',\n",
       " 'Kidney_Cortex',\n",
       " 'Brain_Substantia_nigra']"
      ]
     },
     "execution_count": 24,
     "metadata": {},
     "output_type": "execute_result"
    }
   ],
   "source": [
    "tissues[:5]"
   ]
  },
  {
   "cell_type": "code",
   "execution_count": 25,
   "id": "48a7202a",
   "metadata": {
    "execution": {
     "iopub.execute_input": "2022-06-16T04:02:54.487212Z",
     "iopub.status.busy": "2022-06-16T04:02:54.486750Z",
     "iopub.status.idle": "2022-06-16T04:02:54.502908Z",
     "shell.execute_reply": "2022-06-16T04:02:54.502317Z"
    },
    "papermill": {
     "duration": 0.025967,
     "end_time": "2022-06-16T04:02:54.504442",
     "exception": false,
     "start_time": "2022-06-16T04:02:54.478475",
     "status": "completed"
    },
    "tags": []
   },
   "outputs": [],
   "source": [
    "assert len(tissues) == 49"
   ]
  },
  {
   "cell_type": "markdown",
   "id": "c8d1038f",
   "metadata": {
    "papermill": {
     "duration": 0.007537,
     "end_time": "2022-06-16T04:02:54.519959",
     "exception": false,
     "start_time": "2022-06-16T04:02:54.512422",
     "status": "completed"
    },
    "tags": []
   },
   "source": [
    "# Test"
   ]
  },
  {
   "cell_type": "code",
   "execution_count": 26,
   "id": "64993abf",
   "metadata": {
    "execution": {
     "iopub.execute_input": "2022-06-16T04:02:54.536232Z",
     "iopub.status.busy": "2022-06-16T04:02:54.535647Z",
     "iopub.status.idle": "2022-06-16T04:02:54.561713Z",
     "shell.execute_reply": "2022-06-16T04:02:54.561131Z"
    },
    "papermill": {
     "duration": 0.035806,
     "end_time": "2022-06-16T04:02:54.563264",
     "exception": false,
     "start_time": "2022-06-16T04:02:54.527458",
     "status": "completed"
    },
    "tags": []
   },
   "outputs": [
    {
     "data": {
      "text/html": [
       "<div>\n",
       "<style scoped>\n",
       "    .dataframe tbody tr th:only-of-type {\n",
       "        vertical-align: middle;\n",
       "    }\n",
       "\n",
       "    .dataframe tbody tr th {\n",
       "        vertical-align: top;\n",
       "    }\n",
       "\n",
       "    .dataframe thead th {\n",
       "        text-align: right;\n",
       "    }\n",
       "</style>\n",
       "<table border=\"1\" class=\"dataframe\">\n",
       "  <thead>\n",
       "    <tr style=\"text-align: right;\">\n",
       "      <th></th>\n",
       "      <th>name</th>\n",
       "      <th>id</th>\n",
       "      <th>chr</th>\n",
       "      <th>band</th>\n",
       "      <th>start_position</th>\n",
       "    </tr>\n",
       "  </thead>\n",
       "  <tbody>\n",
       "    <tr>\n",
       "      <th>14</th>\n",
       "      <td>GPNMB</td>\n",
       "      <td>ENSG00000136235</td>\n",
       "      <td>7</td>\n",
       "      <td>7p15.3</td>\n",
       "      <td>23235967.0</td>\n",
       "    </tr>\n",
       "    <tr>\n",
       "      <th>37</th>\n",
       "      <td>PON2</td>\n",
       "      <td>ENSG00000105854</td>\n",
       "      <td>7</td>\n",
       "      <td>7q21.3</td>\n",
       "      <td>95404862.0</td>\n",
       "    </tr>\n",
       "    <tr>\n",
       "      <th>86</th>\n",
       "      <td>PTPRN2</td>\n",
       "      <td>ENSG00000155093</td>\n",
       "      <td>7</td>\n",
       "      <td>7q36.3</td>\n",
       "      <td>157539056.0</td>\n",
       "    </tr>\n",
       "    <tr>\n",
       "      <th>95</th>\n",
       "      <td>UPP1</td>\n",
       "      <td>ENSG00000183696</td>\n",
       "      <td>7</td>\n",
       "      <td>7p12.3</td>\n",
       "      <td>48088628.0</td>\n",
       "    </tr>\n",
       "    <tr>\n",
       "      <th>98</th>\n",
       "      <td>CAV2</td>\n",
       "      <td>ENSG00000105971</td>\n",
       "      <td>7</td>\n",
       "      <td>7q31.2</td>\n",
       "      <td>116287380.0</td>\n",
       "    </tr>\n",
       "    <tr>\n",
       "      <th>...</th>\n",
       "      <td>...</td>\n",
       "      <td>...</td>\n",
       "      <td>...</td>\n",
       "      <td>...</td>\n",
       "      <td>...</td>\n",
       "    </tr>\n",
       "    <tr>\n",
       "      <th>6357</th>\n",
       "      <td>ASNS</td>\n",
       "      <td>ENSG00000070669</td>\n",
       "      <td>7</td>\n",
       "      <td>7q21.3</td>\n",
       "      <td>97851677.0</td>\n",
       "    </tr>\n",
       "    <tr>\n",
       "      <th>6360</th>\n",
       "      <td>RHEB</td>\n",
       "      <td>ENSG00000106615</td>\n",
       "      <td>7</td>\n",
       "      <td>7q36.1</td>\n",
       "      <td>151466012.0</td>\n",
       "    </tr>\n",
       "    <tr>\n",
       "      <th>6408</th>\n",
       "      <td>ZNF282</td>\n",
       "      <td>ENSG00000170265</td>\n",
       "      <td>7</td>\n",
       "      <td>7q36.1</td>\n",
       "      <td>149195546.0</td>\n",
       "    </tr>\n",
       "    <tr>\n",
       "      <th>6422</th>\n",
       "      <td>IKZF1</td>\n",
       "      <td>ENSG00000185811</td>\n",
       "      <td>7</td>\n",
       "      <td>7p12.2</td>\n",
       "      <td>50304068.0</td>\n",
       "    </tr>\n",
       "    <tr>\n",
       "      <th>6432</th>\n",
       "      <td>PSPH</td>\n",
       "      <td>ENSG00000146733</td>\n",
       "      <td>7</td>\n",
       "      <td>7p11.2</td>\n",
       "      <td>56011051.0</td>\n",
       "    </tr>\n",
       "  </tbody>\n",
       "</table>\n",
       "<p>281 rows × 5 columns</p>\n",
       "</div>"
      ],
      "text/plain": [
       "        name               id chr    band  start_position\n",
       "14     GPNMB  ENSG00000136235   7  7p15.3      23235967.0\n",
       "37      PON2  ENSG00000105854   7  7q21.3      95404862.0\n",
       "86    PTPRN2  ENSG00000155093   7  7q36.3     157539056.0\n",
       "95      UPP1  ENSG00000183696   7  7p12.3      48088628.0\n",
       "98      CAV2  ENSG00000105971   7  7q31.2     116287380.0\n",
       "...      ...              ...  ..     ...             ...\n",
       "6357    ASNS  ENSG00000070669   7  7q21.3      97851677.0\n",
       "6360    RHEB  ENSG00000106615   7  7q36.1     151466012.0\n",
       "6408  ZNF282  ENSG00000170265   7  7q36.1     149195546.0\n",
       "6422   IKZF1  ENSG00000185811   7  7p12.2      50304068.0\n",
       "6432    PSPH  ENSG00000146733   7  7p11.2      56011051.0\n",
       "\n",
       "[281 rows x 5 columns]"
      ]
     },
     "metadata": {},
     "output_type": "display_data"
    }
   ],
   "source": [
    "chromosome_genes_info = genes_info[genes_info[\"chr\"] == chromosome]\n",
    "display(chromosome_genes_info)"
   ]
  },
  {
   "cell_type": "code",
   "execution_count": 27,
   "id": "d2e42726-7de6-46eb-acfc-6323eaa8fae6",
   "metadata": {
    "execution": {
     "iopub.execute_input": "2022-06-16T04:02:54.580295Z",
     "iopub.status.busy": "2022-06-16T04:02:54.579794Z",
     "iopub.status.idle": "2022-06-16T04:02:54.598624Z",
     "shell.execute_reply": "2022-06-16T04:02:54.597986Z"
    },
    "papermill": {
     "duration": 0.028866,
     "end_time": "2022-06-16T04:02:54.600166",
     "exception": false,
     "start_time": "2022-06-16T04:02:54.571300",
     "status": "completed"
    },
    "tags": []
   },
   "outputs": [
    {
     "data": {
      "text/plain": [
       "5"
      ]
     },
     "metadata": {},
     "output_type": "display_data"
    }
   ],
   "source": [
    "_gene_list_ids = sample(chromosome_genes_info[\"id\"].tolist(), 5)\n",
    "selected_chromosome_genes_obj = [Gene(ensembl_id=g_id) for g_id in _gene_list_ids]\n",
    "display(len(selected_chromosome_genes_obj))"
   ]
  },
  {
   "cell_type": "code",
   "execution_count": 28,
   "id": "1b355359",
   "metadata": {
    "execution": {
     "iopub.execute_input": "2022-06-16T04:02:54.637932Z",
     "iopub.status.busy": "2022-06-16T04:02:54.637347Z",
     "iopub.status.idle": "2022-06-16T04:02:54.763396Z",
     "shell.execute_reply": "2022-06-16T04:02:54.762603Z"
    },
    "papermill": {
     "duration": 0.141444,
     "end_time": "2022-06-16T04:02:54.764883",
     "exception": false,
     "start_time": "2022-06-16T04:02:54.623439",
     "status": "completed"
    },
    "tags": []
   },
   "outputs": [
    {
     "name": "stdout",
     "output_type": "stream",
     "text": [
      "HOXA9 / UBE3C: 0.0\n",
      "HOXA9 / AHCYL2: 0.0\n",
      "HOXA9 / UBE2D4: 0.0\n",
      "HOXA9 / CLEC5A: 0.0\n",
      "UBE3C / AHCYL2: 0.0\n",
      "UBE3C / UBE2D4: 0.0\n",
      "UBE3C / CLEC5A: 0.0\n",
      "AHCYL2 / UBE2D4: 0.0\n",
      "AHCYL2 / CLEC5A: 0.0\n",
      "UBE2D4 / CLEC5A: 0.0\n"
     ]
    }
   ],
   "source": [
    "for gene_idx1 in range(0, len(selected_chromosome_genes_obj) - 1):\n",
    "    gene_obj1 = selected_chromosome_genes_obj[gene_idx1]\n",
    "\n",
    "    for gene_idx2 in range(gene_idx1 + 1, len(selected_chromosome_genes_obj)):\n",
    "        gene_obj2 = selected_chromosome_genes_obj[gene_idx2]\n",
    "\n",
    "        c = gene_obj1.get_ssm_correlation(\n",
    "            gene_obj2,\n",
    "        )\n",
    "\n",
    "        print(f\"{gene_obj1.name} / {gene_obj2.name}: {c}\")"
   ]
  },
  {
   "cell_type": "markdown",
   "id": "d3843e06",
   "metadata": {
    "papermill": {
     "duration": 0.007751,
     "end_time": "2022-06-16T04:02:54.780679",
     "exception": false,
     "start_time": "2022-06-16T04:02:54.772928",
     "status": "completed"
    },
    "tags": []
   },
   "source": [
    "# Compute correlation per chromosome"
   ]
  },
  {
   "cell_type": "code",
   "execution_count": 29,
   "id": "aa674fe4-6794-4eed-98fa-32b39d1d4ace",
   "metadata": {
    "execution": {
     "iopub.execute_input": "2022-06-16T04:02:54.797003Z",
     "iopub.status.busy": "2022-06-16T04:02:54.796821Z",
     "iopub.status.idle": "2022-06-16T04:02:54.812982Z",
     "shell.execute_reply": "2022-06-16T04:02:54.812379Z"
    },
    "papermill": {
     "duration": 0.026351,
     "end_time": "2022-06-16T04:02:54.814783",
     "exception": false,
     "start_time": "2022-06-16T04:02:54.788432",
     "status": "completed"
    },
    "tags": []
   },
   "outputs": [],
   "source": [
    "warnings.filterwarnings(\"error\")"
   ]
  },
  {
   "cell_type": "code",
   "execution_count": 30,
   "id": "cdbb90a1",
   "metadata": {
    "execution": {
     "iopub.execute_input": "2022-06-16T04:02:54.831772Z",
     "iopub.status.busy": "2022-06-16T04:02:54.831590Z",
     "iopub.status.idle": "2022-06-16T06:31:04.172277Z",
     "shell.execute_reply": "2022-06-16T06:31:04.171758Z"
    },
    "papermill": {
     "duration": 8889.351397,
     "end_time": "2022-06-16T06:31:04.174120",
     "exception": false,
     "start_time": "2022-06-16T04:02:54.822723",
     "status": "completed"
    },
    "tags": []
   },
   "outputs": [
    {
     "name": "stdout",
     "output_type": "stream",
     "text": [
      "Number of genes in chromosome: 281\n",
      "Chromosome 7\n",
      "Number of gene combinations: 39340\n"
     ]
    },
    {
     "name": "stderr",
     "output_type": "stream",
     "text": [
      "ENSG00000155093 / ENSG00000106018: 100%|████████████████████| 39340/39340 [2:28:09<00:00,  4.43it/s]"
     ]
    },
    {
     "name": "stdout",
     "output_type": "stream",
     "text": [
      "Min/max values: -0.9205169900502295 / 0.9688057662937978\n"
     ]
    },
    {
     "name": "stderr",
     "output_type": "stream",
     "text": [
      "\n"
     ]
    },
    {
     "data": {
      "text/plain": [
       "PosixPath('/opt/data/data/phenomexcan/ld_blocks/gene_corrs/gtex_v8/mashr/by_chr/gene_corrs-chr7.pkl')"
      ]
     },
     "metadata": {},
     "output_type": "display_data"
    }
   ],
   "source": [
    "# standard checks\n",
    "all_chrs = genes_info[\"chr\"].dropna().unique()\n",
    "assert all_chrs.shape[0] == 22\n",
    "\n",
    "# select chromosome given by the user\n",
    "assert chromosome in all_chrs\n",
    "\n",
    "# run only on the chromosome specified\n",
    "all_chrs = [chromosome]\n",
    "genes_chr = genes_info[genes_info[\"chr\"] == chromosome]\n",
    "print(f\"Number of genes in chromosome: {genes_chr.shape[0]}\", flush=True)\n",
    "\n",
    "# For testing purposes\n",
    "# genes_chr = genes_chr.sample(n=20)\n",
    "\n",
    "# sort genes by starting position to make visualizations better later\n",
    "genes_chr = genes_chr.sort_values(\"start_position\")\n",
    "\n",
    "\n",
    "for chr_num in all_chrs:\n",
    "    print(f\"Chromosome {chr_num}\", flush=True)\n",
    "\n",
    "    # check if results exist\n",
    "    output_dir = OUTPUT_DIR_BASE / \"by_chr\"\n",
    "    output_file = output_dir / f\"gene_corrs-chr{chr_num}.pkl\"\n",
    "\n",
    "    if output_file.exists():\n",
    "        _tmp_data = pd.read_pickle(output_file)\n",
    "\n",
    "        if _tmp_data.shape[0] > 0:\n",
    "            print(\"Already run, stopping.\")\n",
    "            continue\n",
    "\n",
    "    gene_chr_objs = [Gene(ensembl_id=gene_id) for gene_id in genes_chr[\"id\"]]\n",
    "    gene_chr_ids = [g.ensembl_id for g in gene_chr_objs]\n",
    "\n",
    "    n = len(gene_chr_objs)\n",
    "    n_comb = int(n * (n - 1) / 2.0)\n",
    "    print(f\"Number of gene combinations: {n_comb}\", flush=True)\n",
    "\n",
    "    gene_corrs = []\n",
    "\n",
    "    pbar = tqdm(ncols=100, total=n_comb)\n",
    "    i = 0\n",
    "    for gene_idx1 in range(0, len(gene_chr_objs) - 1):\n",
    "        gene_obj1 = gene_chr_objs[gene_idx1]\n",
    "\n",
    "        for gene_idx2 in range(gene_idx1 + 1, len(gene_chr_objs)):\n",
    "            gene_obj2 = gene_chr_objs[gene_idx2]\n",
    "\n",
    "            pbar.set_description(f\"{gene_obj1.ensembl_id} / {gene_obj2.ensembl_id}\")\n",
    "\n",
    "            try:\n",
    "                # FIXME: compute the correlation of the sum of squares of the model using all\n",
    "                # the available tissues; this could be problematic because for some results\n",
    "                # (computed on a specific phenotype/GWAS) we might not have all the tissues\n",
    "                # available, which can certainly bias the correlation estimation.\n",
    "                # Since this depends on the GWAS on a specific phenotype, we should ideally have\n",
    "                # one correlation matrix per GWAS. I should look at how we can improve this.\n",
    "                gene_corrs.append(\n",
    "                    gene_obj1.get_ssm_correlation(\n",
    "                        other_gene=gene_obj2,\n",
    "                        condition_number=SMULTIXCAN_CONDITION_NUMBER,\n",
    "                        reference_panel=REFERENCE_PANEL,\n",
    "                        model_type=EQTL_MODEL,\n",
    "                    )\n",
    "                )\n",
    "            except Warning:\n",
    "                print(\n",
    "                    f\"RuntimeWarning for genes {gene_obj1.ensembl_id} and {gene_obj2.ensembl_id}\",\n",
    "                    flush=True,\n",
    "                )\n",
    "                import traceback\n",
    "\n",
    "                print(traceback.format_exc(), flush=True)\n",
    "            except Exception as e:\n",
    "                print(\n",
    "                    f\"Exception for genes {gene_obj1.ensembl_id} and {gene_obj2.ensembl_id}\",\n",
    "                    flush=True,\n",
    "                )\n",
    "                import traceback\n",
    "\n",
    "                print(traceback.format_exc(), flush=True)\n",
    "                gene_corrs.append(np.nan)\n",
    "\n",
    "            pbar.update(1)\n",
    "\n",
    "    pbar.close()\n",
    "\n",
    "    # testing\n",
    "    gene_corrs_flat = pd.Series(gene_corrs)\n",
    "    print(f\"Min/max values: {gene_corrs_flat.min()} / {gene_corrs_flat.max()}\")\n",
    "    assert gene_corrs_flat.min() >= -1.001\n",
    "    assert gene_corrs_flat.max() <= 1.001\n",
    "\n",
    "    # save\n",
    "    # FIXME: consider saving only the condenced matrix here. See here for\n",
    "    # more details: https://github.com/greenelab/phenoplier/pull/38#discussion_r634600813\n",
    "    gene_corrs_data = squareform(np.array(gene_corrs, dtype=np.float64))\n",
    "    np.fill_diagonal(gene_corrs_data, 1.0)\n",
    "\n",
    "    gene_corrs_df = pd.DataFrame(\n",
    "        data=gene_corrs_data,\n",
    "        index=gene_chr_ids,\n",
    "        columns=gene_chr_ids,\n",
    "    )\n",
    "\n",
    "    output_dir.mkdir(exist_ok=True, parents=True)\n",
    "    display(output_file)\n",
    "\n",
    "    gene_corrs_df.to_pickle(output_file)"
   ]
  },
  {
   "cell_type": "markdown",
   "id": "faa67b51-5373-470f-aa72-2ded53fa6dfe",
   "metadata": {
    "papermill": {
     "duration": 1.714805,
     "end_time": "2022-06-16T06:31:07.562082",
     "exception": false,
     "start_time": "2022-06-16T06:31:05.847277",
     "status": "completed"
    },
    "tags": []
   },
   "source": [
    "# Testing"
   ]
  },
  {
   "cell_type": "code",
   "execution_count": 31,
   "id": "14f7d046-4b55-4896-a56b-990127bcc388",
   "metadata": {
    "execution": {
     "iopub.execute_input": "2022-06-16T06:31:10.822800Z",
     "iopub.status.busy": "2022-06-16T06:31:10.822624Z",
     "iopub.status.idle": "2022-06-16T06:31:10.839459Z",
     "shell.execute_reply": "2022-06-16T06:31:10.838939Z"
    },
    "papermill": {
     "duration": 1.654799,
     "end_time": "2022-06-16T06:31:10.846484",
     "exception": false,
     "start_time": "2022-06-16T06:31:09.191685",
     "status": "completed"
    },
    "tags": []
   },
   "outputs": [
    {
     "data": {
      "text/plain": [
       "(281, 281)"
      ]
     },
     "execution_count": 31,
     "metadata": {},
     "output_type": "execute_result"
    }
   ],
   "source": [
    "gene_corrs_df.shape"
   ]
  },
  {
   "cell_type": "code",
   "execution_count": 32,
   "id": "c7d15414-3297-4537-a7c6-7588c0baeb75",
   "metadata": {
    "execution": {
     "iopub.execute_input": "2022-06-16T06:31:14.173576Z",
     "iopub.status.busy": "2022-06-16T06:31:14.173385Z",
     "iopub.status.idle": "2022-06-16T06:31:14.205433Z",
     "shell.execute_reply": "2022-06-16T06:31:14.204968Z"
    },
    "papermill": {
     "duration": 1.636261,
     "end_time": "2022-06-16T06:31:14.206847",
     "exception": false,
     "start_time": "2022-06-16T06:31:12.570586",
     "status": "completed"
    },
    "tags": []
   },
   "outputs": [
    {
     "data": {
      "text/html": [
       "<div>\n",
       "<style scoped>\n",
       "    .dataframe tbody tr th:only-of-type {\n",
       "        vertical-align: middle;\n",
       "    }\n",
       "\n",
       "    .dataframe tbody tr th {\n",
       "        vertical-align: top;\n",
       "    }\n",
       "\n",
       "    .dataframe thead th {\n",
       "        text-align: right;\n",
       "    }\n",
       "</style>\n",
       "<table border=\"1\" class=\"dataframe\">\n",
       "  <thead>\n",
       "    <tr style=\"text-align: right;\">\n",
       "      <th></th>\n",
       "      <th>ENSG00000197461</th>\n",
       "      <th>ENSG00000188191</th>\n",
       "      <th>ENSG00000105963</th>\n",
       "      <th>ENSG00000198517</th>\n",
       "      <th>ENSG00000002822</th>\n",
       "      <th>ENSG00000106263</th>\n",
       "      <th>ENSG00000136213</th>\n",
       "      <th>ENSG00000106003</th>\n",
       "      <th>ENSG00000146535</th>\n",
       "      <th>ENSG00000198286</th>\n",
       "      <th>...</th>\n",
       "      <th>ENSG00000164889</th>\n",
       "      <th>ENSG00000033100</th>\n",
       "      <th>ENSG00000082014</th>\n",
       "      <th>ENSG00000013374</th>\n",
       "      <th>ENSG00000106615</th>\n",
       "      <th>ENSG00000106617</th>\n",
       "      <th>ENSG00000178234</th>\n",
       "      <th>ENSG00000009335</th>\n",
       "      <th>ENSG00000155093</th>\n",
       "      <th>ENSG00000106018</th>\n",
       "    </tr>\n",
       "  </thead>\n",
       "  <tbody>\n",
       "    <tr>\n",
       "      <th>ENSG00000197461</th>\n",
       "      <td>1.000000</td>\n",
       "      <td>-0.029849</td>\n",
       "      <td>-0.021822</td>\n",
       "      <td>0.208795</td>\n",
       "      <td>0.000901</td>\n",
       "      <td>-0.204423</td>\n",
       "      <td>-0.030460</td>\n",
       "      <td>-0.008918</td>\n",
       "      <td>-0.043457</td>\n",
       "      <td>-0.001201</td>\n",
       "      <td>...</td>\n",
       "      <td>0.0</td>\n",
       "      <td>0.0</td>\n",
       "      <td>0.0</td>\n",
       "      <td>0.0</td>\n",
       "      <td>0.0</td>\n",
       "      <td>0.0</td>\n",
       "      <td>0.0</td>\n",
       "      <td>0.0</td>\n",
       "      <td>0.0</td>\n",
       "      <td>0.0</td>\n",
       "    </tr>\n",
       "    <tr>\n",
       "      <th>ENSG00000188191</th>\n",
       "      <td>-0.029849</td>\n",
       "      <td>1.000000</td>\n",
       "      <td>0.075768</td>\n",
       "      <td>0.016036</td>\n",
       "      <td>-0.018541</td>\n",
       "      <td>-0.007384</td>\n",
       "      <td>-0.106309</td>\n",
       "      <td>0.036844</td>\n",
       "      <td>-0.075720</td>\n",
       "      <td>-0.045024</td>\n",
       "      <td>...</td>\n",
       "      <td>0.0</td>\n",
       "      <td>0.0</td>\n",
       "      <td>0.0</td>\n",
       "      <td>0.0</td>\n",
       "      <td>0.0</td>\n",
       "      <td>0.0</td>\n",
       "      <td>0.0</td>\n",
       "      <td>0.0</td>\n",
       "      <td>0.0</td>\n",
       "      <td>0.0</td>\n",
       "    </tr>\n",
       "    <tr>\n",
       "      <th>ENSG00000105963</th>\n",
       "      <td>-0.021822</td>\n",
       "      <td>0.075768</td>\n",
       "      <td>1.000000</td>\n",
       "      <td>-0.027477</td>\n",
       "      <td>-0.020869</td>\n",
       "      <td>0.123523</td>\n",
       "      <td>0.046020</td>\n",
       "      <td>0.050244</td>\n",
       "      <td>0.005391</td>\n",
       "      <td>0.042753</td>\n",
       "      <td>...</td>\n",
       "      <td>0.0</td>\n",
       "      <td>0.0</td>\n",
       "      <td>0.0</td>\n",
       "      <td>0.0</td>\n",
       "      <td>0.0</td>\n",
       "      <td>0.0</td>\n",
       "      <td>0.0</td>\n",
       "      <td>0.0</td>\n",
       "      <td>0.0</td>\n",
       "      <td>0.0</td>\n",
       "    </tr>\n",
       "    <tr>\n",
       "      <th>ENSG00000198517</th>\n",
       "      <td>0.208795</td>\n",
       "      <td>0.016036</td>\n",
       "      <td>-0.027477</td>\n",
       "      <td>1.000000</td>\n",
       "      <td>0.029740</td>\n",
       "      <td>-0.143564</td>\n",
       "      <td>0.011332</td>\n",
       "      <td>0.061223</td>\n",
       "      <td>-0.026799</td>\n",
       "      <td>-0.084530</td>\n",
       "      <td>...</td>\n",
       "      <td>0.0</td>\n",
       "      <td>0.0</td>\n",
       "      <td>0.0</td>\n",
       "      <td>0.0</td>\n",
       "      <td>0.0</td>\n",
       "      <td>0.0</td>\n",
       "      <td>0.0</td>\n",
       "      <td>0.0</td>\n",
       "      <td>0.0</td>\n",
       "      <td>0.0</td>\n",
       "    </tr>\n",
       "    <tr>\n",
       "      <th>ENSG00000002822</th>\n",
       "      <td>0.000901</td>\n",
       "      <td>-0.018541</td>\n",
       "      <td>-0.020869</td>\n",
       "      <td>0.029740</td>\n",
       "      <td>1.000000</td>\n",
       "      <td>0.067276</td>\n",
       "      <td>0.081543</td>\n",
       "      <td>-0.015789</td>\n",
       "      <td>-0.080906</td>\n",
       "      <td>-0.006510</td>\n",
       "      <td>...</td>\n",
       "      <td>0.0</td>\n",
       "      <td>0.0</td>\n",
       "      <td>0.0</td>\n",
       "      <td>0.0</td>\n",
       "      <td>0.0</td>\n",
       "      <td>0.0</td>\n",
       "      <td>0.0</td>\n",
       "      <td>0.0</td>\n",
       "      <td>0.0</td>\n",
       "      <td>0.0</td>\n",
       "    </tr>\n",
       "  </tbody>\n",
       "</table>\n",
       "<p>5 rows × 281 columns</p>\n",
       "</div>"
      ],
      "text/plain": [
       "                 ENSG00000197461  ENSG00000188191  ENSG00000105963  \\\n",
       "ENSG00000197461         1.000000        -0.029849        -0.021822   \n",
       "ENSG00000188191        -0.029849         1.000000         0.075768   \n",
       "ENSG00000105963        -0.021822         0.075768         1.000000   \n",
       "ENSG00000198517         0.208795         0.016036        -0.027477   \n",
       "ENSG00000002822         0.000901        -0.018541        -0.020869   \n",
       "\n",
       "                 ENSG00000198517  ENSG00000002822  ENSG00000106263  \\\n",
       "ENSG00000197461         0.208795         0.000901        -0.204423   \n",
       "ENSG00000188191         0.016036        -0.018541        -0.007384   \n",
       "ENSG00000105963        -0.027477        -0.020869         0.123523   \n",
       "ENSG00000198517         1.000000         0.029740        -0.143564   \n",
       "ENSG00000002822         0.029740         1.000000         0.067276   \n",
       "\n",
       "                 ENSG00000136213  ENSG00000106003  ENSG00000146535  \\\n",
       "ENSG00000197461        -0.030460        -0.008918        -0.043457   \n",
       "ENSG00000188191        -0.106309         0.036844        -0.075720   \n",
       "ENSG00000105963         0.046020         0.050244         0.005391   \n",
       "ENSG00000198517         0.011332         0.061223        -0.026799   \n",
       "ENSG00000002822         0.081543        -0.015789        -0.080906   \n",
       "\n",
       "                 ENSG00000198286  ...  ENSG00000164889  ENSG00000033100  \\\n",
       "ENSG00000197461        -0.001201  ...              0.0              0.0   \n",
       "ENSG00000188191        -0.045024  ...              0.0              0.0   \n",
       "ENSG00000105963         0.042753  ...              0.0              0.0   \n",
       "ENSG00000198517        -0.084530  ...              0.0              0.0   \n",
       "ENSG00000002822        -0.006510  ...              0.0              0.0   \n",
       "\n",
       "                 ENSG00000082014  ENSG00000013374  ENSG00000106615  \\\n",
       "ENSG00000197461              0.0              0.0              0.0   \n",
       "ENSG00000188191              0.0              0.0              0.0   \n",
       "ENSG00000105963              0.0              0.0              0.0   \n",
       "ENSG00000198517              0.0              0.0              0.0   \n",
       "ENSG00000002822              0.0              0.0              0.0   \n",
       "\n",
       "                 ENSG00000106617  ENSG00000178234  ENSG00000009335  \\\n",
       "ENSG00000197461              0.0              0.0              0.0   \n",
       "ENSG00000188191              0.0              0.0              0.0   \n",
       "ENSG00000105963              0.0              0.0              0.0   \n",
       "ENSG00000198517              0.0              0.0              0.0   \n",
       "ENSG00000002822              0.0              0.0              0.0   \n",
       "\n",
       "                 ENSG00000155093  ENSG00000106018  \n",
       "ENSG00000197461              0.0              0.0  \n",
       "ENSG00000188191              0.0              0.0  \n",
       "ENSG00000105963              0.0              0.0  \n",
       "ENSG00000198517              0.0              0.0  \n",
       "ENSG00000002822              0.0              0.0  \n",
       "\n",
       "[5 rows x 281 columns]"
      ]
     },
     "execution_count": 32,
     "metadata": {},
     "output_type": "execute_result"
    }
   ],
   "source": [
    "gene_corrs_df.head()"
   ]
  },
  {
   "cell_type": "code",
   "execution_count": 33,
   "id": "00583efc-7068-4270-ad1e-4a418e91db96",
   "metadata": {
    "execution": {
     "iopub.execute_input": "2022-06-16T06:31:17.528066Z",
     "iopub.status.busy": "2022-06-16T06:31:17.527893Z",
     "iopub.status.idle": "2022-06-16T06:31:17.546429Z",
     "shell.execute_reply": "2022-06-16T06:31:17.545800Z"
    },
    "papermill": {
     "duration": 1.711103,
     "end_time": "2022-06-16T06:31:17.547911",
     "exception": false,
     "start_time": "2022-06-16T06:31:15.836808",
     "status": "completed"
    },
    "tags": []
   },
   "outputs": [
    {
     "data": {
      "text/plain": [
       "-0.9205169900502295"
      ]
     },
     "metadata": {},
     "output_type": "display_data"
    }
   ],
   "source": [
    "_min_val = gene_corrs_df.min().min()\n",
    "display(_min_val)\n",
    "assert _min_val >= -1.0"
   ]
  },
  {
   "cell_type": "code",
   "execution_count": 34,
   "id": "d04fb2cf-1050-475b-b855-f5f7cc04092b",
   "metadata": {
    "execution": {
     "iopub.execute_input": "2022-06-16T06:31:20.860886Z",
     "iopub.status.busy": "2022-06-16T06:31:20.860700Z",
     "iopub.status.idle": "2022-06-16T06:31:20.880226Z",
     "shell.execute_reply": "2022-06-16T06:31:20.879589Z"
    },
    "papermill": {
     "duration": 1.702851,
     "end_time": "2022-06-16T06:31:20.887022",
     "exception": false,
     "start_time": "2022-06-16T06:31:19.184171",
     "status": "completed"
    },
    "tags": []
   },
   "outputs": [
    {
     "data": {
      "text/plain": [
       "1.0"
      ]
     },
     "metadata": {},
     "output_type": "display_data"
    }
   ],
   "source": [
    "_max_val = gene_corrs_df.max().max()  # this captures the diagonal\n",
    "display(_max_val)\n",
    "assert _max_val <= 1.0"
   ]
  },
  {
   "cell_type": "code",
   "execution_count": 35,
   "id": "96d02c44-1fba-47be-8a93-8f2608420b9c",
   "metadata": {
    "execution": {
     "iopub.execute_input": "2022-06-16T06:31:24.139370Z",
     "iopub.status.busy": "2022-06-16T06:31:24.139196Z",
     "iopub.status.idle": "2022-06-16T06:31:24.155780Z",
     "shell.execute_reply": "2022-06-16T06:31:24.155210Z"
    },
    "papermill": {
     "duration": 1.640212,
     "end_time": "2022-06-16T06:31:24.157258",
     "exception": false,
     "start_time": "2022-06-16T06:31:22.517046",
     "status": "completed"
    },
    "tags": []
   },
   "outputs": [],
   "source": [
    "# check upper triangular values\n",
    "assert len(gene_corrs) == int(genes_chr.shape[0] * (genes_chr.shape[0] - 1) / 2)"
   ]
  },
  {
   "cell_type": "code",
   "execution_count": 36,
   "id": "aaa51627-f4e3-4744-a41f-7d25adcc0a78",
   "metadata": {
    "execution": {
     "iopub.execute_input": "2022-06-16T06:31:27.458333Z",
     "iopub.status.busy": "2022-06-16T06:31:27.458028Z",
     "iopub.status.idle": "2022-06-16T06:31:27.478265Z",
     "shell.execute_reply": "2022-06-16T06:31:27.477660Z"
    },
    "papermill": {
     "duration": 1.65232,
     "end_time": "2022-06-16T06:31:27.479951",
     "exception": false,
     "start_time": "2022-06-16T06:31:25.827631",
     "status": "completed"
    },
    "tags": []
   },
   "outputs": [],
   "source": [
    "gene_corrs = pd.Series(gene_corrs)"
   ]
  },
  {
   "cell_type": "code",
   "execution_count": 37,
   "id": "fe283586-c348-40e0-8841-f6d97bfb021c",
   "metadata": {
    "execution": {
     "iopub.execute_input": "2022-06-16T06:31:30.831224Z",
     "iopub.status.busy": "2022-06-16T06:31:30.831049Z",
     "iopub.status.idle": "2022-06-16T06:31:30.853211Z",
     "shell.execute_reply": "2022-06-16T06:31:30.852579Z"
    },
    "papermill": {
     "duration": 1.667134,
     "end_time": "2022-06-16T06:31:30.854664",
     "exception": false,
     "start_time": "2022-06-16T06:31:29.187530",
     "status": "completed"
    },
    "tags": []
   },
   "outputs": [
    {
     "data": {
      "text/plain": [
       "count    39340.000000\n",
       "mean         0.000014\n",
       "std          0.039796\n",
       "min         -0.920517\n",
       "25%          0.000000\n",
       "50%          0.000000\n",
       "75%          0.000000\n",
       "max          0.968806\n",
       "dtype: float64"
      ]
     },
     "execution_count": 37,
     "metadata": {},
     "output_type": "execute_result"
    }
   ],
   "source": [
    "gene_corrs.describe()"
   ]
  },
  {
   "cell_type": "code",
   "execution_count": 38,
   "id": "b3815678-0f93-4b35-897b-a9d047a2aa78",
   "metadata": {
    "execution": {
     "iopub.execute_input": "2022-06-16T06:31:34.224314Z",
     "iopub.status.busy": "2022-06-16T06:31:34.223802Z",
     "iopub.status.idle": "2022-06-16T06:31:34.246938Z",
     "shell.execute_reply": "2022-06-16T06:31:34.246438Z"
    },
    "papermill": {
     "duration": 1.740463,
     "end_time": "2022-06-16T06:31:34.248713",
     "exception": false,
     "start_time": "2022-06-16T06:31:32.508250",
     "status": "completed"
    },
    "tags": []
   },
   "outputs": [
    {
     "data": {
      "text/plain": [
       "0.00   -0.920517\n",
       "0.05    0.000000\n",
       "0.10    0.000000\n",
       "0.15    0.000000\n",
       "0.20    0.000000\n",
       "0.25    0.000000\n",
       "0.30    0.000000\n",
       "0.35    0.000000\n",
       "0.40    0.000000\n",
       "0.45    0.000000\n",
       "0.50    0.000000\n",
       "0.55    0.000000\n",
       "0.60    0.000000\n",
       "0.65    0.000000\n",
       "0.70    0.000000\n",
       "0.75    0.000000\n",
       "0.80    0.000000\n",
       "0.85    0.000000\n",
       "0.90    0.000000\n",
       "0.95    0.000000\n",
       "dtype: float64"
      ]
     },
     "metadata": {},
     "output_type": "display_data"
    }
   ],
   "source": [
    "gene_corrs_quantiles = gene_corrs.quantile(np.arange(0, 1, 0.05))\n",
    "display(gene_corrs_quantiles)"
   ]
  },
  {
   "cell_type": "markdown",
   "id": "8e60a080-edb2-4e9c-b2ef-22961693200c",
   "metadata": {
    "papermill": {
     "duration": 1.697756,
     "end_time": "2022-06-16T06:31:37.717748",
     "exception": false,
     "start_time": "2022-06-16T06:31:36.019992",
     "status": "completed"
    },
    "tags": []
   },
   "source": [
    "## Plot: distribution"
   ]
  },
  {
   "cell_type": "code",
   "execution_count": 39,
   "id": "8301126b-a7d4-4744-9c7d-f0f86eb6f54c",
   "metadata": {
    "execution": {
     "iopub.execute_input": "2022-06-16T06:31:41.049676Z",
     "iopub.status.busy": "2022-06-16T06:31:41.049497Z",
     "iopub.status.idle": "2022-06-16T06:31:41.494615Z",
     "shell.execute_reply": "2022-06-16T06:31:41.493995Z"
    },
    "papermill": {
     "duration": 2.143164,
     "end_time": "2022-06-16T06:31:41.496096",
     "exception": false,
     "start_time": "2022-06-16T06:31:39.352932",
     "status": "completed"
    },
    "tags": []
   },
   "outputs": [
    {
     "data": {
      "image/png": "[encoded data removed]",
      "text/plain": [
       "<Figure size 504x504 with 1 Axes>"
      ]
     },
     "metadata": {
      "needs_background": "light"
     },
     "output_type": "display_data"
    }
   ],
   "source": [
    "with sns.plotting_context(\"paper\", font_scale=1.5):\n",
    "    g = sns.displot(gene_corrs, kde=True, height=7)\n",
    "    g.ax.set_title(\n",
    "        f\"Distribution of gene correlation values in chromosome {chromosome}\"\n",
    "    )"
   ]
  },
  {
   "cell_type": "markdown",
   "id": "cbd52bca-d878-4a2f-b684-5c83aa3038d4",
   "metadata": {
    "papermill": {
     "duration": 1.631369,
     "end_time": "2022-06-16T06:31:44.806887",
     "exception": false,
     "start_time": "2022-06-16T06:31:43.175518",
     "status": "completed"
    },
    "tags": []
   },
   "source": [
    "## Plot: heatmap"
   ]
  },
  {
   "cell_type": "code",
   "execution_count": 40,
   "id": "d03fe63a-c7b2-4fb9-a53c-db362ce843c9",
   "metadata": {
    "execution": {
     "iopub.execute_input": "2022-06-16T06:31:48.148389Z",
     "iopub.status.busy": "2022-06-16T06:31:48.148213Z",
     "iopub.status.idle": "2022-06-16T06:31:48.165622Z",
     "shell.execute_reply": "2022-06-16T06:31:48.165124Z"
    },
    "papermill": {
     "duration": 1.666034,
     "end_time": "2022-06-16T06:31:48.167022",
     "exception": false,
     "start_time": "2022-06-16T06:31:46.500988",
     "status": "completed"
    },
    "tags": []
   },
   "outputs": [
    {
     "data": {
      "text/plain": [
       "'-0.05 / 0.05'"
      ]
     },
     "metadata": {},
     "output_type": "display_data"
    }
   ],
   "source": [
    "vmin_val = min(-0.05, gene_corrs_quantiles[0.10])\n",
    "vmax_val = max(0.05, gene_corrs_quantiles[0.90])\n",
    "display(f\"{vmin_val} / {vmax_val}\")"
   ]
  },
  {
   "cell_type": "code",
   "execution_count": 41,
   "id": "dc41b70b-5bcc-4d9e-9f33-a22c4a94dab5",
   "metadata": {
    "execution": {
     "iopub.execute_input": "2022-06-16T06:31:51.467524Z",
     "iopub.status.busy": "2022-06-16T06:31:51.467100Z",
     "iopub.status.idle": "2022-06-16T06:31:51.677727Z",
     "shell.execute_reply": "2022-06-16T06:31:51.677118Z"
    },
    "papermill": {
     "duration": 1.895384,
     "end_time": "2022-06-16T06:31:51.679756",
     "exception": false,
     "start_time": "2022-06-16T06:31:49.784372",
     "status": "completed"
    },
    "tags": []
   },
   "outputs": [
    {
     "data": {
      "text/plain": [
       "Text(0.5, 1.0, 'Gene correlations in chromosome 7')"
      ]
     },
     "execution_count": 41,
     "metadata": {},
     "output_type": "execute_result"
    },
    {
     "data": {
      "image/png": "[encoded data removed]",
      "text/plain": [
       "<Figure size 720x720 with 2 Axes>"
      ]
     },
     "metadata": {
      "needs_background": "light"
     },
     "output_type": "display_data"
    }
   ],
   "source": [
    "f, ax = plt.subplots(figsize=(10, 10))\n",
    "sns.heatmap(\n",
    "    gene_corrs_df,\n",
    "    xticklabels=False,\n",
    "    yticklabels=False,\n",
    "    square=True,\n",
    "    vmin=vmin_val,\n",
    "    vmax=vmax_val,\n",
    "    cmap=\"YlGnBu\",\n",
    "    ax=ax,\n",
    ")\n",
    "ax.set_title(f\"Gene correlations in chromosome {chromosome}\")"
   ]
  },
  {
   "cell_type": "code",
   "execution_count": null,
   "id": "b25e3ead",
   "metadata": {
    "papermill": {
     "duration": 1.711129,
     "end_time": "2022-06-16T06:31:55.021576",
     "exception": false,
     "start_time": "2022-06-16T06:31:53.310447",
     "status": "completed"
    },
    "tags": []
   },
   "outputs": [],
   "source": []
  }
 ],
 "metadata": {
  "jupytext": {
   "cell_metadata_filter": "all,-execution,-papermill,-trusted",
   "formats": "ipynb,py//py:percent"
  },
  "kernelspec": {
   "display_name": "Python 3 (ipykernel)",
   "language": "python",
   "name": "python3"
  },
  "language_info": {
   "codemirror_mode": {
    "name": "ipython",
    "version": 3
   },
   "file_extension": ".py",
   "mimetype": "text/x-python",
   "name": "python",
   "nbconvert_exporter": "python",
   "pygments_lexer": "ipython3",
   "version": "3.8.13"
  },
  "papermill": {
   "default_parameters": {},
   "duration": 8951.056748,
   "end_time": "2022-06-16T06:32:00.118036",
   "environment_variables": {},
   "exception": null,
   "input_path": "nbs/15_gsa_gls/10-gene_expr_correlations.ipynb",
   "output_path": "nbs/15_gsa_gls/gene_corrs/gtex_v8/mashr/10-gene_expr_correlations-chr7.run.ipynb",
   "parameters": {
    "EQTL_MODEL": "MASHR",
    "REFERENCE_PANEL": "GTEX_V8",
    "chromosome": 7
   },
   "start_time": "2022-06-16T04:02:49.061288",
   "version": "2.2.2"
  }
 },
 "nbformat": 4,
 "nbformat_minor": 5
}
