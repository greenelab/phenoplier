{
 "cells": [
  {
   "cell_type": "markdown",
   "id": "7a6632fb",
   "metadata": {
    "papermill": {
     "duration": 0.023034,
     "end_time": "2022-06-15T19:52:39.138188",
     "exception": false,
     "start_time": "2022-06-15T19:52:39.115154",
     "status": "completed"
    },
    "tags": []
   },
   "source": [
    "# Description"
   ]
  },
  {
   "cell_type": "markdown",
   "id": "7097c346",
   "metadata": {
    "papermill": {
     "duration": 0.019824,
     "end_time": "2022-06-15T19:52:39.178479",
     "exception": false,
     "start_time": "2022-06-15T19:52:39.158655",
     "status": "completed"
    },
    "tags": []
   },
   "source": [
    "(Please, take a look at the README.md file in this directory for instructions on how to run this notebook)\n",
    "\n",
    "This notebook computes predicted expression correlations between all genes in the MultiPLIER models.\n",
    "\n",
    "It also has a parameter set for papermill to run on a single chromosome to run in parallel (see under `Settings` below).\n",
    "\n",
    "This notebook is not directly run. See README.md."
   ]
  },
  {
   "cell_type": "markdown",
   "id": "c61d8427",
   "metadata": {
    "papermill": {
     "duration": 0.011949,
     "end_time": "2022-06-15T19:52:39.210595",
     "exception": false,
     "start_time": "2022-06-15T19:52:39.198646",
     "status": "completed"
    },
    "tags": []
   },
   "source": [
    "# Modules"
   ]
  },
  {
   "cell_type": "code",
   "execution_count": 1,
   "id": "bbc0234f",
   "metadata": {
    "execution": {
     "iopub.execute_input": "2022-06-15T19:52:39.227578Z",
     "iopub.status.busy": "2022-06-15T19:52:39.227325Z",
     "iopub.status.idle": "2022-06-15T19:52:39.242954Z",
     "shell.execute_reply": "2022-06-15T19:52:39.242453Z"
    },
    "papermill": {
     "duration": 0.025113,
     "end_time": "2022-06-15T19:52:39.244460",
     "exception": false,
     "start_time": "2022-06-15T19:52:39.219347",
     "status": "completed"
    },
    "tags": []
   },
   "outputs": [],
   "source": [
    "%load_ext autoreload\n",
    "%autoreload 2"
   ]
  },
  {
   "cell_type": "code",
   "execution_count": 2,
   "id": "1d5f5a59",
   "metadata": {
    "execution": {
     "iopub.execute_input": "2022-06-15T19:52:39.255944Z",
     "iopub.status.busy": "2022-06-15T19:52:39.255759Z",
     "iopub.status.idle": "2022-06-15T19:52:40.261941Z",
     "shell.execute_reply": "2022-06-15T19:52:40.261369Z"
    },
    "papermill": {
     "duration": 1.013911,
     "end_time": "2022-06-15T19:52:40.263596",
     "exception": false,
     "start_time": "2022-06-15T19:52:39.249685",
     "status": "completed"
    },
    "tags": []
   },
   "outputs": [],
   "source": [
    "from random import sample\n",
    "import warnings\n",
    "\n",
    "import numpy as np\n",
    "from scipy.spatial.distance import squareform\n",
    "import pandas as pd\n",
    "from tqdm import tqdm\n",
    "import matplotlib.pyplot as plt\n",
    "import seaborn as sns\n",
    "\n",
    "import conf\n",
    "from entity import Gene"
   ]
  },
  {
   "cell_type": "markdown",
   "id": "1eac24b5",
   "metadata": {
    "papermill": {
     "duration": 0.006436,
     "end_time": "2022-06-15T19:52:40.307314",
     "exception": false,
     "start_time": "2022-06-15T19:52:40.300878",
     "status": "completed"
    },
    "tags": []
   },
   "source": [
    "# Settings"
   ]
  },
  {
   "cell_type": "code",
   "execution_count": 3,
   "id": "ca4560ba",
   "metadata": {
    "execution": {
     "iopub.execute_input": "2022-06-15T19:52:40.321203Z",
     "iopub.status.busy": "2022-06-15T19:52:40.320866Z",
     "iopub.status.idle": "2022-06-15T19:52:40.338333Z",
     "shell.execute_reply": "2022-06-15T19:52:40.337774Z"
    },
    "papermill": {
     "duration": 0.026119,
     "end_time": "2022-06-15T19:52:40.339865",
     "exception": false,
     "start_time": "2022-06-15T19:52:40.313746",
     "status": "completed"
    },
    "tags": [
     "parameters"
    ]
   },
   "outputs": [],
   "source": [
    "# reference panel\n",
    "REFERENCE_PANEL = \"GTEX_V8\"\n",
    "# REFERENCE_PANEL = \"1000G\"\n",
    "\n",
    "# prediction models\n",
    "## mashr\n",
    "EQTL_MODEL = \"MASHR\"\n",
    "EQTL_MODEL_FILES_PREFIX = \"mashr_\"\n",
    "\n",
    "# ## elastic net\n",
    "# EQTL_MODEL = \"ELASTIC_NET\"\n",
    "# EQTL_MODEL_FILES_PREFIX = \"en_\"\n",
    "\n",
    "# make it read the prefix from conf.py\n",
    "EQTL_MODEL_FILES_PREFIX = None\n",
    "\n",
    "# this is the default value used in S-MultiXcan to select the\n",
    "# top principal components of the expression correlation matrix\n",
    "SMULTIXCAN_CONDITION_NUMBER = 30\n",
    "\n",
    "# specifies a single chromosome value\n",
    "# by default, run on all chromosomes\n",
    "chromosome = None"
   ]
  },
  {
   "cell_type": "code",
   "execution_count": 4,
   "id": "f211bd57",
   "metadata": {
    "execution": {
     "iopub.execute_input": "2022-06-15T19:52:40.353354Z",
     "iopub.status.busy": "2022-06-15T19:52:40.353166Z",
     "iopub.status.idle": "2022-06-15T19:52:40.370024Z",
     "shell.execute_reply": "2022-06-15T19:52:40.369471Z"
    },
    "papermill": {
     "duration": 0.025337,
     "end_time": "2022-06-15T19:52:40.371493",
     "exception": false,
     "start_time": "2022-06-15T19:52:40.346156",
     "status": "completed"
    },
    "tags": [
     "injected-parameters"
    ]
   },
   "outputs": [],
   "source": [
    "# Parameters\n",
    "chromosome = 1\n",
    "REFERENCE_PANEL = \"GTEX_V8\"\n",
    "EQTL_MODEL = \"MASHR\"\n"
   ]
  },
  {
   "cell_type": "code",
   "execution_count": 5,
   "id": "a089c9ff",
   "metadata": {
    "execution": {
     "iopub.execute_input": "2022-06-15T19:52:40.384745Z",
     "iopub.status.busy": "2022-06-15T19:52:40.384518Z",
     "iopub.status.idle": "2022-06-15T19:52:40.400514Z",
     "shell.execute_reply": "2022-06-15T19:52:40.399877Z"
    },
    "papermill": {
     "duration": 0.024463,
     "end_time": "2022-06-15T19:52:40.402093",
     "exception": false,
     "start_time": "2022-06-15T19:52:40.377630",
     "status": "completed"
    },
    "tags": []
   },
   "outputs": [],
   "source": [
    "if EQTL_MODEL_FILES_PREFIX is None:\n",
    "    EQTL_MODEL_FILES_PREFIX = conf.PHENOMEXCAN[\"PREDICTION_MODELS\"][\n",
    "        f\"{EQTL_MODEL}_PREFIX\"\n",
    "    ]"
   ]
  },
  {
   "cell_type": "code",
   "execution_count": 6,
   "id": "8fe24bef",
   "metadata": {
    "execution": {
     "iopub.execute_input": "2022-06-15T19:52:40.415152Z",
     "iopub.status.busy": "2022-06-15T19:52:40.414717Z",
     "iopub.status.idle": "2022-06-15T19:52:40.435970Z",
     "shell.execute_reply": "2022-06-15T19:52:40.433292Z"
    },
    "papermill": {
     "duration": 0.029287,
     "end_time": "2022-06-15T19:52:40.437422",
     "exception": false,
     "start_time": "2022-06-15T19:52:40.408135",
     "status": "completed"
    },
    "tags": []
   },
   "outputs": [
    {
     "data": {
      "text/plain": [
       "'Using eQTL model: MASHR / mashr_'"
      ]
     },
     "metadata": {},
     "output_type": "display_data"
    }
   ],
   "source": [
    "display(f\"Using eQTL model: {EQTL_MODEL} / {EQTL_MODEL_FILES_PREFIX}\")"
   ]
  },
  {
   "cell_type": "code",
   "execution_count": 7,
   "id": "0230ebcb-2c32-4b95-9292-d9a52038e70d",
   "metadata": {
    "execution": {
     "iopub.execute_input": "2022-06-15T19:52:40.450344Z",
     "iopub.status.busy": "2022-06-15T19:52:40.450160Z",
     "iopub.status.idle": "2022-06-15T19:52:40.466382Z",
     "shell.execute_reply": "2022-06-15T19:52:40.465878Z"
    },
    "papermill": {
     "duration": 0.024358,
     "end_time": "2022-06-15T19:52:40.467861",
     "exception": false,
     "start_time": "2022-06-15T19:52:40.443503",
     "status": "completed"
    },
    "tags": []
   },
   "outputs": [],
   "source": [
    "REFERENCE_PANEL_DIR = conf.PHENOMEXCAN[\"LD_BLOCKS\"][f\"{REFERENCE_PANEL}_GENOTYPE_DIR\"]"
   ]
  },
  {
   "cell_type": "code",
   "execution_count": 8,
   "id": "98c4a159-601d-4a22-a1ab-35bd451c25f9",
   "metadata": {
    "execution": {
     "iopub.execute_input": "2022-06-15T19:52:40.480751Z",
     "iopub.status.busy": "2022-06-15T19:52:40.480578Z",
     "iopub.status.idle": "2022-06-15T19:52:40.498758Z",
     "shell.execute_reply": "2022-06-15T19:52:40.498270Z"
    },
    "papermill": {
     "duration": 0.026407,
     "end_time": "2022-06-15T19:52:40.500287",
     "exception": false,
     "start_time": "2022-06-15T19:52:40.473880",
     "status": "completed"
    },
    "tags": []
   },
   "outputs": [
    {
     "data": {
      "text/plain": [
       "'Using reference panel folder: /opt/data/data/phenomexcan/ld_blocks/reference_panel_gtex_v8'"
      ]
     },
     "metadata": {},
     "output_type": "display_data"
    }
   ],
   "source": [
    "display(f\"Using reference panel folder: {str(REFERENCE_PANEL_DIR)}\")"
   ]
  },
  {
   "cell_type": "code",
   "execution_count": 9,
   "id": "396392dc-0340-4540-9b02-e182b833f909",
   "metadata": {
    "execution": {
     "iopub.execute_input": "2022-06-15T19:52:40.513561Z",
     "iopub.status.busy": "2022-06-15T19:52:40.513360Z",
     "iopub.status.idle": "2022-06-15T19:52:40.532018Z",
     "shell.execute_reply": "2022-06-15T19:52:40.531436Z"
    },
    "papermill": {
     "duration": 0.026639,
     "end_time": "2022-06-15T19:52:40.533388",
     "exception": false,
     "start_time": "2022-06-15T19:52:40.506749",
     "status": "completed"
    },
    "tags": []
   },
   "outputs": [],
   "source": [
    "OUTPUT_DIR_BASE = (\n",
    "    conf.PHENOMEXCAN[\"LD_BLOCKS\"][f\"GENE_CORRS_DIR\"]\n",
    "    / REFERENCE_PANEL.lower()\n",
    "    / EQTL_MODEL.lower()\n",
    ")\n",
    "OUTPUT_DIR_BASE.mkdir(parents=True, exist_ok=True)"
   ]
  },
  {
   "cell_type": "code",
   "execution_count": 10,
   "id": "8942c2d3-e53c-4d63-a0eb-b6fce0574d36",
   "metadata": {
    "execution": {
     "iopub.execute_input": "2022-06-15T19:52:40.547521Z",
     "iopub.status.busy": "2022-06-15T19:52:40.547071Z",
     "iopub.status.idle": "2022-06-15T19:52:40.565449Z",
     "shell.execute_reply": "2022-06-15T19:52:40.564933Z"
    },
    "papermill": {
     "duration": 0.027163,
     "end_time": "2022-06-15T19:52:40.566738",
     "exception": false,
     "start_time": "2022-06-15T19:52:40.539575",
     "status": "completed"
    },
    "tags": []
   },
   "outputs": [
    {
     "data": {
      "text/plain": [
       "'Using output dir base: /opt/data/data/phenomexcan/ld_blocks/gene_corrs/gtex_v8/mashr'"
      ]
     },
     "metadata": {},
     "output_type": "display_data"
    }
   ],
   "source": [
    "display(f\"Using output dir base: {OUTPUT_DIR_BASE}\")"
   ]
  },
  {
   "cell_type": "code",
   "execution_count": 11,
   "id": "408aa590",
   "metadata": {
    "execution": {
     "iopub.execute_input": "2022-06-15T19:52:40.580174Z",
     "iopub.status.busy": "2022-06-15T19:52:40.579998Z",
     "iopub.status.idle": "2022-06-15T19:52:40.595401Z",
     "shell.execute_reply": "2022-06-15T19:52:40.594929Z"
    },
    "papermill": {
     "duration": 0.023736,
     "end_time": "2022-06-15T19:52:40.596832",
     "exception": false,
     "start_time": "2022-06-15T19:52:40.573096",
     "status": "completed"
    },
    "tags": []
   },
   "outputs": [],
   "source": [
    "assert (\n",
    "    chromosome is not None\n",
    "), \"You have to select one chromosome (format: number between 1 and 22)\""
   ]
  },
  {
   "cell_type": "code",
   "execution_count": 12,
   "id": "c1c7dd06-80ff-453c-bcb7-0899edce75da",
   "metadata": {
    "execution": {
     "iopub.execute_input": "2022-06-15T19:52:40.610319Z",
     "iopub.status.busy": "2022-06-15T19:52:40.610139Z",
     "iopub.status.idle": "2022-06-15T19:52:40.628069Z",
     "shell.execute_reply": "2022-06-15T19:52:40.627605Z"
    },
    "papermill": {
     "duration": 0.026302,
     "end_time": "2022-06-15T19:52:40.629433",
     "exception": false,
     "start_time": "2022-06-15T19:52:40.603131",
     "status": "completed"
    },
    "tags": []
   },
   "outputs": [],
   "source": [
    "chromosome = str(chromosome)"
   ]
  },
  {
   "cell_type": "code",
   "execution_count": 13,
   "id": "bc17b84c-9c26-47a5-a3ab-7046e72f3ef4",
   "metadata": {
    "execution": {
     "iopub.execute_input": "2022-06-15T19:52:40.643346Z",
     "iopub.status.busy": "2022-06-15T19:52:40.643165Z",
     "iopub.status.idle": "2022-06-15T19:52:40.664130Z",
     "shell.execute_reply": "2022-06-15T19:52:40.663642Z"
    },
    "papermill": {
     "duration": 0.030533,
     "end_time": "2022-06-15T19:52:40.666694",
     "exception": false,
     "start_time": "2022-06-15T19:52:40.636161",
     "status": "completed"
    },
    "tags": []
   },
   "outputs": [
    {
     "data": {
      "text/plain": [
       "'Working on chromosome 1'"
      ]
     },
     "metadata": {},
     "output_type": "display_data"
    }
   ],
   "source": [
    "display(f\"Working on chromosome {chromosome}\")"
   ]
  },
  {
   "cell_type": "markdown",
   "id": "d2ba085e",
   "metadata": {
    "papermill": {
     "duration": 0.006208,
     "end_time": "2022-06-15T19:52:40.679477",
     "exception": false,
     "start_time": "2022-06-15T19:52:40.673269",
     "status": "completed"
    },
    "tags": []
   },
   "source": [
    "# Load data"
   ]
  },
  {
   "cell_type": "markdown",
   "id": "abcc4b3d",
   "metadata": {
    "papermill": {
     "duration": 0.006344,
     "end_time": "2022-06-15T19:52:40.692390",
     "exception": false,
     "start_time": "2022-06-15T19:52:40.686046",
     "status": "completed"
    },
    "tags": []
   },
   "source": [
    "## MultiPLIER Z"
   ]
  },
  {
   "cell_type": "code",
   "execution_count": 14,
   "id": "c48ef527",
   "metadata": {
    "execution": {
     "iopub.execute_input": "2022-06-15T19:52:40.707425Z",
     "iopub.status.busy": "2022-06-15T19:52:40.707240Z",
     "iopub.status.idle": "2022-06-15T19:52:40.748725Z",
     "shell.execute_reply": "2022-06-15T19:52:40.748239Z"
    },
    "papermill": {
     "duration": 0.051341,
     "end_time": "2022-06-15T19:52:40.750308",
     "exception": false,
     "start_time": "2022-06-15T19:52:40.698967",
     "status": "completed"
    },
    "tags": []
   },
   "outputs": [],
   "source": [
    "multiplier_z_genes = pd.read_pickle(\n",
    "    conf.MULTIPLIER[\"MODEL_Z_MATRIX_FILE\"]\n",
    ").index.tolist()"
   ]
  },
  {
   "cell_type": "code",
   "execution_count": 15,
   "id": "0a4ecbd9",
   "metadata": {
    "execution": {
     "iopub.execute_input": "2022-06-15T19:52:40.765264Z",
     "iopub.status.busy": "2022-06-15T19:52:40.764915Z",
     "iopub.status.idle": "2022-06-15T19:52:40.782279Z",
     "shell.execute_reply": "2022-06-15T19:52:40.781752Z"
    },
    "papermill": {
     "duration": 0.026452,
     "end_time": "2022-06-15T19:52:40.783717",
     "exception": false,
     "start_time": "2022-06-15T19:52:40.757265",
     "status": "completed"
    },
    "tags": []
   },
   "outputs": [
    {
     "data": {
      "text/plain": [
       "6750"
      ]
     },
     "execution_count": 15,
     "metadata": {},
     "output_type": "execute_result"
    }
   ],
   "source": [
    "len(multiplier_z_genes)"
   ]
  },
  {
   "cell_type": "code",
   "execution_count": 16,
   "id": "115e8864",
   "metadata": {
    "execution": {
     "iopub.execute_input": "2022-06-15T19:52:40.798341Z",
     "iopub.status.busy": "2022-06-15T19:52:40.798160Z",
     "iopub.status.idle": "2022-06-15T19:52:40.816842Z",
     "shell.execute_reply": "2022-06-15T19:52:40.814105Z"
    },
    "papermill": {
     "duration": 0.027334,
     "end_time": "2022-06-15T19:52:40.818195",
     "exception": false,
     "start_time": "2022-06-15T19:52:40.790861",
     "status": "completed"
    },
    "tags": []
   },
   "outputs": [
    {
     "data": {
      "text/plain": [
       "['GAS6',\n",
       " 'MMP14',\n",
       " 'DSP',\n",
       " 'MARCKSL1',\n",
       " 'SPARC',\n",
       " 'CTSD',\n",
       " 'EPAS1',\n",
       " 'PALLD',\n",
       " 'PHC2',\n",
       " 'LGALS3BP']"
      ]
     },
     "execution_count": 16,
     "metadata": {},
     "output_type": "execute_result"
    }
   ],
   "source": [
    "multiplier_z_genes[:10]"
   ]
  },
  {
   "cell_type": "markdown",
   "id": "7dcb8db7",
   "metadata": {
    "papermill": {
     "duration": 0.006384,
     "end_time": "2022-06-15T19:52:40.831251",
     "exception": false,
     "start_time": "2022-06-15T19:52:40.824867",
     "status": "completed"
    },
    "tags": []
   },
   "source": [
    "## Get gene objects"
   ]
  },
  {
   "cell_type": "code",
   "execution_count": 17,
   "id": "bb932812",
   "metadata": {
    "execution": {
     "iopub.execute_input": "2022-06-15T19:52:40.845431Z",
     "iopub.status.busy": "2022-06-15T19:52:40.845214Z",
     "iopub.status.idle": "2022-06-15T19:52:40.868570Z",
     "shell.execute_reply": "2022-06-15T19:52:40.868027Z"
    },
    "papermill": {
     "duration": 0.032166,
     "end_time": "2022-06-15T19:52:40.870156",
     "exception": false,
     "start_time": "2022-06-15T19:52:40.837990",
     "status": "completed"
    },
    "tags": []
   },
   "outputs": [],
   "source": [
    "multiplier_gene_obj = {\n",
    "    gene_name: Gene(name=gene_name)\n",
    "    for gene_name in multiplier_z_genes\n",
    "    if gene_name in Gene.GENE_NAME_TO_ID_MAP\n",
    "}"
   ]
  },
  {
   "cell_type": "code",
   "execution_count": 18,
   "id": "39533214",
   "metadata": {
    "execution": {
     "iopub.execute_input": "2022-06-15T19:52:40.886865Z",
     "iopub.status.busy": "2022-06-15T19:52:40.886634Z",
     "iopub.status.idle": "2022-06-15T19:52:40.902942Z",
     "shell.execute_reply": "2022-06-15T19:52:40.902433Z"
    },
    "papermill": {
     "duration": 0.025181,
     "end_time": "2022-06-15T19:52:40.904336",
     "exception": false,
     "start_time": "2022-06-15T19:52:40.879155",
     "status": "completed"
    },
    "tags": []
   },
   "outputs": [
    {
     "data": {
      "text/plain": [
       "6454"
      ]
     },
     "execution_count": 18,
     "metadata": {},
     "output_type": "execute_result"
    }
   ],
   "source": [
    "len(multiplier_gene_obj)"
   ]
  },
  {
   "cell_type": "code",
   "execution_count": 19,
   "id": "9a5d0b84",
   "metadata": {
    "execution": {
     "iopub.execute_input": "2022-06-15T19:52:40.919609Z",
     "iopub.status.busy": "2022-06-15T19:52:40.919280Z",
     "iopub.status.idle": "2022-06-15T19:52:40.937921Z",
     "shell.execute_reply": "2022-06-15T19:52:40.937421Z"
    },
    "papermill": {
     "duration": 0.028063,
     "end_time": "2022-06-15T19:52:40.939559",
     "exception": false,
     "start_time": "2022-06-15T19:52:40.911496",
     "status": "completed"
    },
    "tags": []
   },
   "outputs": [
    {
     "data": {
      "text/plain": [
       "'ENSG00000183087'"
      ]
     },
     "execution_count": 19,
     "metadata": {},
     "output_type": "execute_result"
    }
   ],
   "source": [
    "multiplier_gene_obj[\"GAS6\"].ensembl_id"
   ]
  },
  {
   "cell_type": "code",
   "execution_count": 20,
   "id": "e3ffabc7",
   "metadata": {
    "execution": {
     "iopub.execute_input": "2022-06-15T19:52:40.955152Z",
     "iopub.status.busy": "2022-06-15T19:52:40.954947Z",
     "iopub.status.idle": "2022-06-15T19:52:42.986336Z",
     "shell.execute_reply": "2022-06-15T19:52:42.985940Z"
    },
    "papermill": {
     "duration": 2.040746,
     "end_time": "2022-06-15T19:52:42.987656",
     "exception": false,
     "start_time": "2022-06-15T19:52:40.946910",
     "status": "completed"
    },
    "tags": []
   },
   "outputs": [],
   "source": [
    "_gene_obj = list(multiplier_gene_obj.values())\n",
    "\n",
    "genes_info = pd.DataFrame(\n",
    "    {\n",
    "        \"name\": [g.name for g in _gene_obj],\n",
    "        \"id\": [g.ensembl_id for g in _gene_obj],\n",
    "        \"chr\": [g.chromosome for g in _gene_obj],\n",
    "        \"band\": [g.band for g in _gene_obj],\n",
    "        \"start_position\": [g.get_attribute(\"start_position\") for g in _gene_obj],\n",
    "    }\n",
    ")"
   ]
  },
  {
   "cell_type": "code",
   "execution_count": 21,
   "id": "e23519b8",
   "metadata": {
    "execution": {
     "iopub.execute_input": "2022-06-15T19:52:43.003093Z",
     "iopub.status.busy": "2022-06-15T19:52:43.002926Z",
     "iopub.status.idle": "2022-06-15T19:52:43.020013Z",
     "shell.execute_reply": "2022-06-15T19:52:43.019316Z"
    },
    "papermill": {
     "duration": 0.025608,
     "end_time": "2022-06-15T19:52:43.021430",
     "exception": false,
     "start_time": "2022-06-15T19:52:42.995822",
     "status": "completed"
    },
    "tags": []
   },
   "outputs": [
    {
     "data": {
      "text/plain": [
       "(6454, 5)"
      ]
     },
     "execution_count": 21,
     "metadata": {},
     "output_type": "execute_result"
    }
   ],
   "source": [
    "genes_info.shape"
   ]
  },
  {
   "cell_type": "code",
   "execution_count": 22,
   "id": "0d71881c",
   "metadata": {
    "execution": {
     "iopub.execute_input": "2022-06-15T19:52:43.036799Z",
     "iopub.status.busy": "2022-06-15T19:52:43.035369Z",
     "iopub.status.idle": "2022-06-15T19:52:43.058071Z",
     "shell.execute_reply": "2022-06-15T19:52:43.057317Z"
    },
    "papermill": {
     "duration": 0.031159,
     "end_time": "2022-06-15T19:52:43.059427",
     "exception": false,
     "start_time": "2022-06-15T19:52:43.028268",
     "status": "completed"
    },
    "tags": []
   },
   "outputs": [
    {
     "data": {
      "text/html": [
       "<div>\n",
       "<style scoped>\n",
       "    .dataframe tbody tr th:only-of-type {\n",
       "        vertical-align: middle;\n",
       "    }\n",
       "\n",
       "    .dataframe tbody tr th {\n",
       "        vertical-align: top;\n",
       "    }\n",
       "\n",
       "    .dataframe thead th {\n",
       "        text-align: right;\n",
       "    }\n",
       "</style>\n",
       "<table border=\"1\" class=\"dataframe\">\n",
       "  <thead>\n",
       "    <tr style=\"text-align: right;\">\n",
       "      <th></th>\n",
       "      <th>name</th>\n",
       "      <th>id</th>\n",
       "      <th>chr</th>\n",
       "      <th>band</th>\n",
       "      <th>start_position</th>\n",
       "    </tr>\n",
       "  </thead>\n",
       "  <tbody>\n",
       "    <tr>\n",
       "      <th>0</th>\n",
       "      <td>GAS6</td>\n",
       "      <td>ENSG00000183087</td>\n",
       "      <td>13</td>\n",
       "      <td>13q34</td>\n",
       "      <td>113820549.0</td>\n",
       "    </tr>\n",
       "    <tr>\n",
       "      <th>1</th>\n",
       "      <td>MMP14</td>\n",
       "      <td>ENSG00000157227</td>\n",
       "      <td>14</td>\n",
       "      <td>14q11.2</td>\n",
       "      <td>22836560.0</td>\n",
       "    </tr>\n",
       "    <tr>\n",
       "      <th>2</th>\n",
       "      <td>DSP</td>\n",
       "      <td>ENSG00000096696</td>\n",
       "      <td>6</td>\n",
       "      <td>6p24.3</td>\n",
       "      <td>7541617.0</td>\n",
       "    </tr>\n",
       "    <tr>\n",
       "      <th>3</th>\n",
       "      <td>MARCKSL1</td>\n",
       "      <td>ENSG00000175130</td>\n",
       "      <td>1</td>\n",
       "      <td>1p35.1</td>\n",
       "      <td>32333839.0</td>\n",
       "    </tr>\n",
       "    <tr>\n",
       "      <th>4</th>\n",
       "      <td>SPARC</td>\n",
       "      <td>ENSG00000113140</td>\n",
       "      <td>5</td>\n",
       "      <td>5q33.1</td>\n",
       "      <td>151661096.0</td>\n",
       "    </tr>\n",
       "  </tbody>\n",
       "</table>\n",
       "</div>"
      ],
      "text/plain": [
       "       name               id chr     band  start_position\n",
       "0      GAS6  ENSG00000183087  13    13q34     113820549.0\n",
       "1     MMP14  ENSG00000157227  14  14q11.2      22836560.0\n",
       "2       DSP  ENSG00000096696   6   6p24.3       7541617.0\n",
       "3  MARCKSL1  ENSG00000175130   1   1p35.1      32333839.0\n",
       "4     SPARC  ENSG00000113140   5   5q33.1     151661096.0"
      ]
     },
     "execution_count": 22,
     "metadata": {},
     "output_type": "execute_result"
    }
   ],
   "source": [
    "genes_info.head()"
   ]
  },
  {
   "cell_type": "markdown",
   "id": "8c9dbb4a",
   "metadata": {
    "papermill": {
     "duration": 0.006676,
     "end_time": "2022-06-15T19:52:43.073151",
     "exception": false,
     "start_time": "2022-06-15T19:52:43.066475",
     "status": "completed"
    },
    "tags": []
   },
   "source": [
    "## Get tissues names"
   ]
  },
  {
   "cell_type": "code",
   "execution_count": 23,
   "id": "2bc52419",
   "metadata": {
    "execution": {
     "iopub.execute_input": "2022-06-15T19:52:43.087312Z",
     "iopub.status.busy": "2022-06-15T19:52:43.086991Z",
     "iopub.status.idle": "2022-06-15T19:52:43.102199Z",
     "shell.execute_reply": "2022-06-15T19:52:43.101692Z"
    },
    "papermill": {
     "duration": 0.024502,
     "end_time": "2022-06-15T19:52:43.104265",
     "exception": false,
     "start_time": "2022-06-15T19:52:43.079763",
     "status": "completed"
    },
    "tags": []
   },
   "outputs": [],
   "source": [
    "tissues = conf.PHENOMEXCAN[\"PREDICTION_MODELS\"][f\"{EQTL_MODEL}_TISSUES\"].split(\" \")"
   ]
  },
  {
   "cell_type": "code",
   "execution_count": 24,
   "id": "64b293a1",
   "metadata": {
    "execution": {
     "iopub.execute_input": "2022-06-15T19:52:43.118838Z",
     "iopub.status.busy": "2022-06-15T19:52:43.118667Z",
     "iopub.status.idle": "2022-06-15T19:52:43.134525Z",
     "shell.execute_reply": "2022-06-15T19:52:43.134001Z"
    },
    "papermill": {
     "duration": 0.024595,
     "end_time": "2022-06-15T19:52:43.135884",
     "exception": false,
     "start_time": "2022-06-15T19:52:43.111289",
     "status": "completed"
    },
    "tags": []
   },
   "outputs": [
    {
     "data": {
      "text/plain": [
       "['Skin_Not_Sun_Exposed_Suprapubic',\n",
       " 'Cells_EBV-transformed_lymphocytes',\n",
       " 'Brain_Frontal_Cortex_BA9',\n",
       " 'Kidney_Cortex',\n",
       " 'Brain_Substantia_nigra']"
      ]
     },
     "execution_count": 24,
     "metadata": {},
     "output_type": "execute_result"
    }
   ],
   "source": [
    "tissues[:5]"
   ]
  },
  {
   "cell_type": "code",
   "execution_count": 25,
   "id": "48a7202a",
   "metadata": {
    "execution": {
     "iopub.execute_input": "2022-06-15T19:52:43.150503Z",
     "iopub.status.busy": "2022-06-15T19:52:43.150334Z",
     "iopub.status.idle": "2022-06-15T19:52:43.164925Z",
     "shell.execute_reply": "2022-06-15T19:52:43.164520Z"
    },
    "papermill": {
     "duration": 0.023313,
     "end_time": "2022-06-15T19:52:43.166231",
     "exception": false,
     "start_time": "2022-06-15T19:52:43.142918",
     "status": "completed"
    },
    "tags": []
   },
   "outputs": [],
   "source": [
    "assert len(tissues) == 49"
   ]
  },
  {
   "cell_type": "markdown",
   "id": "c8d1038f",
   "metadata": {
    "papermill": {
     "duration": 0.007147,
     "end_time": "2022-06-15T19:52:43.185619",
     "exception": false,
     "start_time": "2022-06-15T19:52:43.178472",
     "status": "completed"
    },
    "tags": []
   },
   "source": [
    "# Test"
   ]
  },
  {
   "cell_type": "code",
   "execution_count": 26,
   "id": "64993abf",
   "metadata": {
    "execution": {
     "iopub.execute_input": "2022-06-15T19:52:43.200643Z",
     "iopub.status.busy": "2022-06-15T19:52:43.200468Z",
     "iopub.status.idle": "2022-06-15T19:52:43.225663Z",
     "shell.execute_reply": "2022-06-15T19:52:43.224059Z"
    },
    "papermill": {
     "duration": 0.034357,
     "end_time": "2022-06-15T19:52:43.227125",
     "exception": false,
     "start_time": "2022-06-15T19:52:43.192768",
     "status": "completed"
    },
    "tags": []
   },
   "outputs": [
    {
     "data": {
      "text/html": [
       "<div>\n",
       "<style scoped>\n",
       "    .dataframe tbody tr th:only-of-type {\n",
       "        vertical-align: middle;\n",
       "    }\n",
       "\n",
       "    .dataframe tbody tr th {\n",
       "        vertical-align: top;\n",
       "    }\n",
       "\n",
       "    .dataframe thead th {\n",
       "        text-align: right;\n",
       "    }\n",
       "</style>\n",
       "<table border=\"1\" class=\"dataframe\">\n",
       "  <thead>\n",
       "    <tr style=\"text-align: right;\">\n",
       "      <th></th>\n",
       "      <th>name</th>\n",
       "      <th>id</th>\n",
       "      <th>chr</th>\n",
       "      <th>band</th>\n",
       "      <th>start_position</th>\n",
       "    </tr>\n",
       "  </thead>\n",
       "  <tbody>\n",
       "    <tr>\n",
       "      <th>3</th>\n",
       "      <td>MARCKSL1</td>\n",
       "      <td>ENSG00000175130</td>\n",
       "      <td>1</td>\n",
       "      <td>1p35.1</td>\n",
       "      <td>32333839.0</td>\n",
       "    </tr>\n",
       "    <tr>\n",
       "      <th>8</th>\n",
       "      <td>PHC2</td>\n",
       "      <td>ENSG00000134686</td>\n",
       "      <td>1</td>\n",
       "      <td>1p35.1</td>\n",
       "      <td>33323623.0</td>\n",
       "    </tr>\n",
       "    <tr>\n",
       "      <th>16</th>\n",
       "      <td>CREG1</td>\n",
       "      <td>ENSG00000143162</td>\n",
       "      <td>1</td>\n",
       "      <td>1q24.2</td>\n",
       "      <td>167529117.0</td>\n",
       "    </tr>\n",
       "    <tr>\n",
       "      <th>39</th>\n",
       "      <td>PPP1R12B</td>\n",
       "      <td>ENSG00000077157</td>\n",
       "      <td>1</td>\n",
       "      <td>1q32.1</td>\n",
       "      <td>202348699.0</td>\n",
       "    </tr>\n",
       "    <tr>\n",
       "      <th>41</th>\n",
       "      <td>NID1</td>\n",
       "      <td>ENSG00000116962</td>\n",
       "      <td>1</td>\n",
       "      <td>1q42.3</td>\n",
       "      <td>235975830.0</td>\n",
       "    </tr>\n",
       "    <tr>\n",
       "      <th>...</th>\n",
       "      <td>...</td>\n",
       "      <td>...</td>\n",
       "      <td>...</td>\n",
       "      <td>...</td>\n",
       "      <td>...</td>\n",
       "    </tr>\n",
       "    <tr>\n",
       "      <th>6359</th>\n",
       "      <td>PDE4B</td>\n",
       "      <td>ENSG00000184588</td>\n",
       "      <td>1</td>\n",
       "      <td>1p31.3</td>\n",
       "      <td>65792514.0</td>\n",
       "    </tr>\n",
       "    <tr>\n",
       "      <th>6373</th>\n",
       "      <td>MTR</td>\n",
       "      <td>ENSG00000116984</td>\n",
       "      <td>1</td>\n",
       "      <td>1q43</td>\n",
       "      <td>236795292.0</td>\n",
       "    </tr>\n",
       "    <tr>\n",
       "      <th>6386</th>\n",
       "      <td>RYR2</td>\n",
       "      <td>ENSG00000198626</td>\n",
       "      <td>1</td>\n",
       "      <td>1q43</td>\n",
       "      <td>237042184.0</td>\n",
       "    </tr>\n",
       "    <tr>\n",
       "      <th>6435</th>\n",
       "      <td>VANGL1</td>\n",
       "      <td>ENSG00000173218</td>\n",
       "      <td>1</td>\n",
       "      <td>1p13.1</td>\n",
       "      <td>115641970.0</td>\n",
       "    </tr>\n",
       "    <tr>\n",
       "      <th>6447</th>\n",
       "      <td>ACAP3</td>\n",
       "      <td>ENSG00000131584</td>\n",
       "      <td>1</td>\n",
       "      <td>1p36.33</td>\n",
       "      <td>1292390.0</td>\n",
       "    </tr>\n",
       "  </tbody>\n",
       "</table>\n",
       "<p>700 rows × 5 columns</p>\n",
       "</div>"
      ],
      "text/plain": [
       "          name               id chr     band  start_position\n",
       "3     MARCKSL1  ENSG00000175130   1   1p35.1      32333839.0\n",
       "8         PHC2  ENSG00000134686   1   1p35.1      33323623.0\n",
       "16       CREG1  ENSG00000143162   1   1q24.2     167529117.0\n",
       "39    PPP1R12B  ENSG00000077157   1   1q32.1     202348699.0\n",
       "41        NID1  ENSG00000116962   1   1q42.3     235975830.0\n",
       "...        ...              ...  ..      ...             ...\n",
       "6359     PDE4B  ENSG00000184588   1   1p31.3      65792514.0\n",
       "6373       MTR  ENSG00000116984   1     1q43     236795292.0\n",
       "6386      RYR2  ENSG00000198626   1     1q43     237042184.0\n",
       "6435    VANGL1  ENSG00000173218   1   1p13.1     115641970.0\n",
       "6447     ACAP3  ENSG00000131584   1  1p36.33       1292390.0\n",
       "\n",
       "[700 rows x 5 columns]"
      ]
     },
     "metadata": {},
     "output_type": "display_data"
    }
   ],
   "source": [
    "chromosome_genes_info = genes_info[genes_info[\"chr\"] == chromosome]\n",
    "display(chromosome_genes_info)"
   ]
  },
  {
   "cell_type": "code",
   "execution_count": 27,
   "id": "d2e42726-7de6-46eb-acfc-6323eaa8fae6",
   "metadata": {
    "execution": {
     "iopub.execute_input": "2022-06-15T19:52:43.242762Z",
     "iopub.status.busy": "2022-06-15T19:52:43.242586Z",
     "iopub.status.idle": "2022-06-15T19:52:43.259164Z",
     "shell.execute_reply": "2022-06-15T19:52:43.258635Z"
    },
    "papermill": {
     "duration": 0.0259,
     "end_time": "2022-06-15T19:52:43.260431",
     "exception": false,
     "start_time": "2022-06-15T19:52:43.234531",
     "status": "completed"
    },
    "tags": []
   },
   "outputs": [
    {
     "data": {
      "text/plain": [
       "5"
      ]
     },
     "metadata": {},
     "output_type": "display_data"
    }
   ],
   "source": [
    "_gene_list_ids = sample(chromosome_genes_info[\"id\"].tolist(), 5)\n",
    "selected_chromosome_genes_obj = [Gene(ensembl_id=g_id) for g_id in _gene_list_ids]\n",
    "display(len(selected_chromosome_genes_obj))"
   ]
  },
  {
   "cell_type": "code",
   "execution_count": 28,
   "id": "1b355359",
   "metadata": {
    "execution": {
     "iopub.execute_input": "2022-06-15T19:52:43.276308Z",
     "iopub.status.busy": "2022-06-15T19:52:43.276131Z",
     "iopub.status.idle": "2022-06-15T19:52:43.412813Z",
     "shell.execute_reply": "2022-06-15T19:52:43.412329Z"
    },
    "papermill": {
     "duration": 0.146093,
     "end_time": "2022-06-15T19:52:43.414046",
     "exception": false,
     "start_time": "2022-06-15T19:52:43.267953",
     "status": "completed"
    },
    "tags": []
   },
   "outputs": [
    {
     "name": "stdout",
     "output_type": "stream",
     "text": [
      "KCTD3 / AP4B1: 0.0\n",
      "KCTD3 / PHGDH: 0.0\n",
      "KCTD3 / HES4: 0.0\n",
      "KCTD3 / EBNA1BP2: 0.0\n",
      "AP4B1 / PHGDH: 0.0\n",
      "AP4B1 / HES4: 0.0\n",
      "AP4B1 / EBNA1BP2: 0.0\n",
      "PHGDH / HES4: 0.0\n",
      "PHGDH / EBNA1BP2: 0.0\n",
      "HES4 / EBNA1BP2: 0.0\n"
     ]
    }
   ],
   "source": [
    "for gene_idx1 in range(0, len(selected_chromosome_genes_obj) - 1):\n",
    "    gene_obj1 = selected_chromosome_genes_obj[gene_idx1]\n",
    "\n",
    "    for gene_idx2 in range(gene_idx1 + 1, len(selected_chromosome_genes_obj)):\n",
    "        gene_obj2 = selected_chromosome_genes_obj[gene_idx2]\n",
    "\n",
    "        c = gene_obj1.get_ssm_correlation(\n",
    "            gene_obj2,\n",
    "        )\n",
    "\n",
    "        print(f\"{gene_obj1.name} / {gene_obj2.name}: {c}\")"
   ]
  },
  {
   "cell_type": "markdown",
   "id": "d3843e06",
   "metadata": {
    "papermill": {
     "duration": 0.006755,
     "end_time": "2022-06-15T19:52:43.427840",
     "exception": false,
     "start_time": "2022-06-15T19:52:43.421085",
     "status": "completed"
    },
    "tags": []
   },
   "source": [
    "# Compute correlation per chromosome"
   ]
  },
  {
   "cell_type": "code",
   "execution_count": 29,
   "id": "aa674fe4-6794-4eed-98fa-32b39d1d4ace",
   "metadata": {
    "execution": {
     "iopub.execute_input": "2022-06-15T19:52:43.443273Z",
     "iopub.status.busy": "2022-06-15T19:52:43.443108Z",
     "iopub.status.idle": "2022-06-15T19:52:43.460188Z",
     "shell.execute_reply": "2022-06-15T19:52:43.459662Z"
    },
    "papermill": {
     "duration": 0.031956,
     "end_time": "2022-06-15T19:52:43.466711",
     "exception": false,
     "start_time": "2022-06-15T19:52:43.434755",
     "status": "completed"
    },
    "tags": []
   },
   "outputs": [],
   "source": [
    "warnings.filterwarnings(\"error\")"
   ]
  },
  {
   "cell_type": "code",
   "execution_count": 30,
   "id": "cdbb90a1",
   "metadata": {
    "execution": {
     "iopub.execute_input": "2022-06-15T19:52:43.495714Z",
     "iopub.status.busy": "2022-06-15T19:52:43.495519Z",
     "iopub.status.idle": "2022-06-16T11:25:29.546495Z",
     "shell.execute_reply": "2022-06-16T11:25:29.545927Z"
    },
    "papermill": {
     "duration": 55966.063348,
     "end_time": "2022-06-16T11:25:29.547987",
     "exception": false,
     "start_time": "2022-06-15T19:52:43.484639",
     "status": "completed"
    },
    "tags": []
   },
   "outputs": [
    {
     "name": "stdout",
     "output_type": "stream",
     "text": [
      "Number of genes in chromosome: 700\n",
      "Chromosome 1\n",
      "Number of gene combinations: 244650\n"
     ]
    },
    {
     "name": "stderr",
     "output_type": "stream",
     "text": [
      "ENSG00000162722 / ENSG00000238243: 100%|█████████████████| 244650/244650 [15:32:45<00:00,  4.37it/s]"
     ]
    },
    {
     "name": "stdout",
     "output_type": "stream",
     "text": [
      "Min/max values: -0.9953382639733509 / 0.9908234440808451\n"
     ]
    },
    {
     "name": "stderr",
     "output_type": "stream",
     "text": [
      "\n"
     ]
    },
    {
     "data": {
      "text/plain": [
       "PosixPath('/opt/data/data/phenomexcan/ld_blocks/gene_corrs/gtex_v8/mashr/by_chr/gene_corrs-chr1.pkl')"
      ]
     },
     "metadata": {},
     "output_type": "display_data"
    }
   ],
   "source": [
    "# standard checks\n",
    "all_chrs = genes_info[\"chr\"].dropna().unique()\n",
    "assert all_chrs.shape[0] == 22\n",
    "\n",
    "# select chromosome given by the user\n",
    "assert chromosome in all_chrs\n",
    "\n",
    "# run only on the chromosome specified\n",
    "all_chrs = [chromosome]\n",
    "genes_chr = genes_info[genes_info[\"chr\"] == chromosome]\n",
    "print(f\"Number of genes in chromosome: {genes_chr.shape[0]}\", flush=True)\n",
    "\n",
    "# For testing purposes\n",
    "# genes_chr = genes_chr.sample(n=20)\n",
    "\n",
    "# sort genes by starting position to make visualizations better later\n",
    "genes_chr = genes_chr.sort_values(\"start_position\")\n",
    "\n",
    "\n",
    "for chr_num in all_chrs:\n",
    "    print(f\"Chromosome {chr_num}\", flush=True)\n",
    "\n",
    "    # check if results exist\n",
    "    output_dir = OUTPUT_DIR_BASE / \"by_chr\"\n",
    "    output_file = output_dir / f\"gene_corrs-chr{chr_num}.pkl\"\n",
    "\n",
    "    if output_file.exists():\n",
    "        _tmp_data = pd.read_pickle(output_file)\n",
    "\n",
    "        if _tmp_data.shape[0] > 0:\n",
    "            print(\"Already run, stopping.\")\n",
    "            continue\n",
    "\n",
    "    gene_chr_objs = [Gene(ensembl_id=gene_id) for gene_id in genes_chr[\"id\"]]\n",
    "    gene_chr_ids = [g.ensembl_id for g in gene_chr_objs]\n",
    "\n",
    "    n = len(gene_chr_objs)\n",
    "    n_comb = int(n * (n - 1) / 2.0)\n",
    "    print(f\"Number of gene combinations: {n_comb}\", flush=True)\n",
    "\n",
    "    gene_corrs = []\n",
    "\n",
    "    pbar = tqdm(ncols=100, total=n_comb)\n",
    "    i = 0\n",
    "    for gene_idx1 in range(0, len(gene_chr_objs) - 1):\n",
    "        gene_obj1 = gene_chr_objs[gene_idx1]\n",
    "\n",
    "        for gene_idx2 in range(gene_idx1 + 1, len(gene_chr_objs)):\n",
    "            gene_obj2 = gene_chr_objs[gene_idx2]\n",
    "\n",
    "            pbar.set_description(f\"{gene_obj1.ensembl_id} / {gene_obj2.ensembl_id}\")\n",
    "\n",
    "            try:\n",
    "                # FIXME: compute the correlation of the sum of squares of the model using all\n",
    "                # the available tissues; this could be problematic because for some results\n",
    "                # (computed on a specific phenotype/GWAS) we might not have all the tissues\n",
    "                # available, which can certainly bias the correlation estimation.\n",
    "                # Since this depends on the GWAS on a specific phenotype, we should ideally have\n",
    "                # one correlation matrix per GWAS. I should look at how we can improve this.\n",
    "                gene_corrs.append(\n",
    "                    gene_obj1.get_ssm_correlation(\n",
    "                        other_gene=gene_obj2,\n",
    "                        condition_number=SMULTIXCAN_CONDITION_NUMBER,\n",
    "                        reference_panel=REFERENCE_PANEL,\n",
    "                        model_type=EQTL_MODEL,\n",
    "                    )\n",
    "                )\n",
    "            except Warning:\n",
    "                print(\n",
    "                    f\"RuntimeWarning for genes {gene_obj1.ensembl_id} and {gene_obj2.ensembl_id}\",\n",
    "                    flush=True,\n",
    "                )\n",
    "                import traceback\n",
    "\n",
    "                print(traceback.format_exc(), flush=True)\n",
    "            except Exception as e:\n",
    "                print(\n",
    "                    f\"Exception for genes {gene_obj1.ensembl_id} and {gene_obj2.ensembl_id}\",\n",
    "                    flush=True,\n",
    "                )\n",
    "                import traceback\n",
    "\n",
    "                print(traceback.format_exc(), flush=True)\n",
    "                gene_corrs.append(np.nan)\n",
    "\n",
    "            pbar.update(1)\n",
    "\n",
    "    pbar.close()\n",
    "\n",
    "    # testing\n",
    "    gene_corrs_flat = pd.Series(gene_corrs)\n",
    "    print(f\"Min/max values: {gene_corrs_flat.min()} / {gene_corrs_flat.max()}\")\n",
    "    assert gene_corrs_flat.min() >= -1.001\n",
    "    assert gene_corrs_flat.max() <= 1.001\n",
    "\n",
    "    # save\n",
    "    # FIXME: consider saving only the condenced matrix here. See here for\n",
    "    # more details: https://github.com/greenelab/phenoplier/pull/38#discussion_r634600813\n",
    "    gene_corrs_data = squareform(np.array(gene_corrs, dtype=np.float64))\n",
    "    np.fill_diagonal(gene_corrs_data, 1.0)\n",
    "\n",
    "    gene_corrs_df = pd.DataFrame(\n",
    "        data=gene_corrs_data,\n",
    "        index=gene_chr_ids,\n",
    "        columns=gene_chr_ids,\n",
    "    )\n",
    "\n",
    "    output_dir.mkdir(exist_ok=True, parents=True)\n",
    "    display(output_file)\n",
    "\n",
    "    gene_corrs_df.to_pickle(output_file)"
   ]
  },
  {
   "cell_type": "markdown",
   "id": "faa67b51-5373-470f-aa72-2ded53fa6dfe",
   "metadata": {
    "papermill": {
     "duration": 10.015273,
     "end_time": "2022-06-16T11:25:49.896918",
     "exception": false,
     "start_time": "2022-06-16T11:25:39.881645",
     "status": "completed"
    },
    "tags": []
   },
   "source": [
    "# Testing"
   ]
  },
  {
   "cell_type": "code",
   "execution_count": 31,
   "id": "14f7d046-4b55-4896-a56b-990127bcc388",
   "metadata": {
    "execution": {
     "iopub.execute_input": "2022-06-16T11:26:09.885747Z",
     "iopub.status.busy": "2022-06-16T11:26:09.885364Z",
     "iopub.status.idle": "2022-06-16T11:26:09.903559Z",
     "shell.execute_reply": "2022-06-16T11:26:09.903028Z"
    },
    "papermill": {
     "duration": 9.890852,
     "end_time": "2022-06-16T11:26:09.904931",
     "exception": false,
     "start_time": "2022-06-16T11:26:00.014079",
     "status": "completed"
    },
    "tags": []
   },
   "outputs": [
    {
     "data": {
      "text/plain": [
       "(700, 700)"
      ]
     },
     "execution_count": 31,
     "metadata": {},
     "output_type": "execute_result"
    }
   ],
   "source": [
    "gene_corrs_df.shape"
   ]
  },
  {
   "cell_type": "code",
   "execution_count": 32,
   "id": "c7d15414-3297-4537-a7c6-7588c0baeb75",
   "metadata": {
    "execution": {
     "iopub.execute_input": "2022-06-16T11:26:30.162089Z",
     "iopub.status.busy": "2022-06-16T11:26:30.161410Z",
     "iopub.status.idle": "2022-06-16T11:26:30.192812Z",
     "shell.execute_reply": "2022-06-16T11:26:30.192233Z"
    },
    "papermill": {
     "duration": 10.108035,
     "end_time": "2022-06-16T11:26:30.194252",
     "exception": false,
     "start_time": "2022-06-16T11:26:20.086217",
     "status": "completed"
    },
    "tags": []
   },
   "outputs": [
    {
     "data": {
      "text/html": [
       "<div>\n",
       "<style scoped>\n",
       "    .dataframe tbody tr th:only-of-type {\n",
       "        vertical-align: middle;\n",
       "    }\n",
       "\n",
       "    .dataframe tbody tr th {\n",
       "        vertical-align: top;\n",
       "    }\n",
       "\n",
       "    .dataframe thead th {\n",
       "        text-align: right;\n",
       "    }\n",
       "</style>\n",
       "<table border=\"1\" class=\"dataframe\">\n",
       "  <thead>\n",
       "    <tr style=\"text-align: right;\">\n",
       "      <th></th>\n",
       "      <th>ENSG00000188976</th>\n",
       "      <th>ENSG00000188290</th>\n",
       "      <th>ENSG00000187608</th>\n",
       "      <th>ENSG00000188157</th>\n",
       "      <th>ENSG00000186891</th>\n",
       "      <th>ENSG00000186827</th>\n",
       "      <th>ENSG00000176022</th>\n",
       "      <th>ENSG00000160087</th>\n",
       "      <th>ENSG00000131584</th>\n",
       "      <th>ENSG00000169962</th>\n",
       "      <th>...</th>\n",
       "      <th>ENSG00000054282</th>\n",
       "      <th>ENSG00000117020</th>\n",
       "      <th>ENSG00000035687</th>\n",
       "      <th>ENSG00000153187</th>\n",
       "      <th>ENSG00000162851</th>\n",
       "      <th>ENSG00000153207</th>\n",
       "      <th>ENSG00000162714</th>\n",
       "      <th>ENSG00000162711</th>\n",
       "      <th>ENSG00000162722</th>\n",
       "      <th>ENSG00000238243</th>\n",
       "    </tr>\n",
       "  </thead>\n",
       "  <tbody>\n",
       "    <tr>\n",
       "      <th>ENSG00000188976</th>\n",
       "      <td>1.000000</td>\n",
       "      <td>0.023611</td>\n",
       "      <td>0.051491</td>\n",
       "      <td>-0.342179</td>\n",
       "      <td>0.023875</td>\n",
       "      <td>0.051514</td>\n",
       "      <td>-0.114062</td>\n",
       "      <td>-0.043733</td>\n",
       "      <td>0.017678</td>\n",
       "      <td>0.068202</td>\n",
       "      <td>...</td>\n",
       "      <td>0.0</td>\n",
       "      <td>0.0</td>\n",
       "      <td>0.0</td>\n",
       "      <td>0.0</td>\n",
       "      <td>0.0</td>\n",
       "      <td>0.0</td>\n",
       "      <td>0.0</td>\n",
       "      <td>0.0</td>\n",
       "      <td>0.0</td>\n",
       "      <td>0.0</td>\n",
       "    </tr>\n",
       "    <tr>\n",
       "      <th>ENSG00000188290</th>\n",
       "      <td>0.023611</td>\n",
       "      <td>1.000000</td>\n",
       "      <td>0.136525</td>\n",
       "      <td>-0.076971</td>\n",
       "      <td>0.092038</td>\n",
       "      <td>-0.055754</td>\n",
       "      <td>-0.063659</td>\n",
       "      <td>-0.069957</td>\n",
       "      <td>0.103246</td>\n",
       "      <td>-0.060623</td>\n",
       "      <td>...</td>\n",
       "      <td>0.0</td>\n",
       "      <td>0.0</td>\n",
       "      <td>0.0</td>\n",
       "      <td>0.0</td>\n",
       "      <td>0.0</td>\n",
       "      <td>0.0</td>\n",
       "      <td>0.0</td>\n",
       "      <td>0.0</td>\n",
       "      <td>0.0</td>\n",
       "      <td>0.0</td>\n",
       "    </tr>\n",
       "    <tr>\n",
       "      <th>ENSG00000187608</th>\n",
       "      <td>0.051491</td>\n",
       "      <td>0.136525</td>\n",
       "      <td>1.000000</td>\n",
       "      <td>0.013060</td>\n",
       "      <td>-0.009458</td>\n",
       "      <td>-0.079051</td>\n",
       "      <td>-0.246294</td>\n",
       "      <td>-0.063766</td>\n",
       "      <td>0.016577</td>\n",
       "      <td>-0.097012</td>\n",
       "      <td>...</td>\n",
       "      <td>0.0</td>\n",
       "      <td>0.0</td>\n",
       "      <td>0.0</td>\n",
       "      <td>0.0</td>\n",
       "      <td>0.0</td>\n",
       "      <td>0.0</td>\n",
       "      <td>0.0</td>\n",
       "      <td>0.0</td>\n",
       "      <td>0.0</td>\n",
       "      <td>0.0</td>\n",
       "    </tr>\n",
       "    <tr>\n",
       "      <th>ENSG00000188157</th>\n",
       "      <td>-0.342179</td>\n",
       "      <td>-0.076971</td>\n",
       "      <td>0.013060</td>\n",
       "      <td>1.000000</td>\n",
       "      <td>-0.058857</td>\n",
       "      <td>-0.140244</td>\n",
       "      <td>-0.251596</td>\n",
       "      <td>-0.043466</td>\n",
       "      <td>-0.005468</td>\n",
       "      <td>-0.034212</td>\n",
       "      <td>...</td>\n",
       "      <td>0.0</td>\n",
       "      <td>0.0</td>\n",
       "      <td>0.0</td>\n",
       "      <td>0.0</td>\n",
       "      <td>0.0</td>\n",
       "      <td>0.0</td>\n",
       "      <td>0.0</td>\n",
       "      <td>0.0</td>\n",
       "      <td>0.0</td>\n",
       "      <td>0.0</td>\n",
       "    </tr>\n",
       "    <tr>\n",
       "      <th>ENSG00000186891</th>\n",
       "      <td>0.023875</td>\n",
       "      <td>0.092038</td>\n",
       "      <td>-0.009458</td>\n",
       "      <td>-0.058857</td>\n",
       "      <td>1.000000</td>\n",
       "      <td>0.098127</td>\n",
       "      <td>0.274064</td>\n",
       "      <td>-0.190153</td>\n",
       "      <td>0.277689</td>\n",
       "      <td>-0.034433</td>\n",
       "      <td>...</td>\n",
       "      <td>0.0</td>\n",
       "      <td>0.0</td>\n",
       "      <td>0.0</td>\n",
       "      <td>0.0</td>\n",
       "      <td>0.0</td>\n",
       "      <td>0.0</td>\n",
       "      <td>0.0</td>\n",
       "      <td>0.0</td>\n",
       "      <td>0.0</td>\n",
       "      <td>0.0</td>\n",
       "    </tr>\n",
       "  </tbody>\n",
       "</table>\n",
       "<p>5 rows × 700 columns</p>\n",
       "</div>"
      ],
      "text/plain": [
       "                 ENSG00000188976  ENSG00000188290  ENSG00000187608  \\\n",
       "ENSG00000188976         1.000000         0.023611         0.051491   \n",
       "ENSG00000188290         0.023611         1.000000         0.136525   \n",
       "ENSG00000187608         0.051491         0.136525         1.000000   \n",
       "ENSG00000188157        -0.342179        -0.076971         0.013060   \n",
       "ENSG00000186891         0.023875         0.092038        -0.009458   \n",
       "\n",
       "                 ENSG00000188157  ENSG00000186891  ENSG00000186827  \\\n",
       "ENSG00000188976        -0.342179         0.023875         0.051514   \n",
       "ENSG00000188290        -0.076971         0.092038        -0.055754   \n",
       "ENSG00000187608         0.013060        -0.009458        -0.079051   \n",
       "ENSG00000188157         1.000000        -0.058857        -0.140244   \n",
       "ENSG00000186891        -0.058857         1.000000         0.098127   \n",
       "\n",
       "                 ENSG00000176022  ENSG00000160087  ENSG00000131584  \\\n",
       "ENSG00000188976        -0.114062        -0.043733         0.017678   \n",
       "ENSG00000188290        -0.063659        -0.069957         0.103246   \n",
       "ENSG00000187608        -0.246294        -0.063766         0.016577   \n",
       "ENSG00000188157        -0.251596        -0.043466        -0.005468   \n",
       "ENSG00000186891         0.274064        -0.190153         0.277689   \n",
       "\n",
       "                 ENSG00000169962  ...  ENSG00000054282  ENSG00000117020  \\\n",
       "ENSG00000188976         0.068202  ...              0.0              0.0   \n",
       "ENSG00000188290        -0.060623  ...              0.0              0.0   \n",
       "ENSG00000187608        -0.097012  ...              0.0              0.0   \n",
       "ENSG00000188157        -0.034212  ...              0.0              0.0   \n",
       "ENSG00000186891        -0.034433  ...              0.0              0.0   \n",
       "\n",
       "                 ENSG00000035687  ENSG00000153187  ENSG00000162851  \\\n",
       "ENSG00000188976              0.0              0.0              0.0   \n",
       "ENSG00000188290              0.0              0.0              0.0   \n",
       "ENSG00000187608              0.0              0.0              0.0   \n",
       "ENSG00000188157              0.0              0.0              0.0   \n",
       "ENSG00000186891              0.0              0.0              0.0   \n",
       "\n",
       "                 ENSG00000153207  ENSG00000162714  ENSG00000162711  \\\n",
       "ENSG00000188976              0.0              0.0              0.0   \n",
       "ENSG00000188290              0.0              0.0              0.0   \n",
       "ENSG00000187608              0.0              0.0              0.0   \n",
       "ENSG00000188157              0.0              0.0              0.0   \n",
       "ENSG00000186891              0.0              0.0              0.0   \n",
       "\n",
       "                 ENSG00000162722  ENSG00000238243  \n",
       "ENSG00000188976              0.0              0.0  \n",
       "ENSG00000188290              0.0              0.0  \n",
       "ENSG00000187608              0.0              0.0  \n",
       "ENSG00000188157              0.0              0.0  \n",
       "ENSG00000186891              0.0              0.0  \n",
       "\n",
       "[5 rows x 700 columns]"
      ]
     },
     "execution_count": 32,
     "metadata": {},
     "output_type": "execute_result"
    }
   ],
   "source": [
    "gene_corrs_df.head()"
   ]
  },
  {
   "cell_type": "code",
   "execution_count": 33,
   "id": "00583efc-7068-4270-ad1e-4a418e91db96",
   "metadata": {
    "execution": {
     "iopub.execute_input": "2022-06-16T11:26:50.511031Z",
     "iopub.status.busy": "2022-06-16T11:26:50.510824Z",
     "iopub.status.idle": "2022-06-16T11:26:50.531088Z",
     "shell.execute_reply": "2022-06-16T11:26:50.530632Z"
    },
    "papermill": {
     "duration": 10.128514,
     "end_time": "2022-06-16T11:26:50.532370",
     "exception": false,
     "start_time": "2022-06-16T11:26:40.403856",
     "status": "completed"
    },
    "tags": []
   },
   "outputs": [
    {
     "data": {
      "text/plain": [
       "-0.9953382639733509"
      ]
     },
     "metadata": {},
     "output_type": "display_data"
    }
   ],
   "source": [
    "_min_val = gene_corrs_df.min().min()\n",
    "display(_min_val)\n",
    "assert _min_val >= -1.0"
   ]
  },
  {
   "cell_type": "code",
   "execution_count": 34,
   "id": "d04fb2cf-1050-475b-b855-f5f7cc04092b",
   "metadata": {
    "execution": {
     "iopub.execute_input": "2022-06-16T11:27:10.782853Z",
     "iopub.status.busy": "2022-06-16T11:27:10.782469Z",
     "iopub.status.idle": "2022-06-16T11:27:10.801644Z",
     "shell.execute_reply": "2022-06-16T11:27:10.801120Z"
    },
    "papermill": {
     "duration": 10.285045,
     "end_time": "2022-06-16T11:27:10.802959",
     "exception": false,
     "start_time": "2022-06-16T11:27:00.517914",
     "status": "completed"
    },
    "tags": []
   },
   "outputs": [
    {
     "data": {
      "text/plain": [
       "1.0"
      ]
     },
     "metadata": {},
     "output_type": "display_data"
    }
   ],
   "source": [
    "_max_val = gene_corrs_df.max().max()  # this captures the diagonal\n",
    "display(_max_val)\n",
    "assert _max_val <= 1.0"
   ]
  },
  {
   "cell_type": "code",
   "execution_count": 35,
   "id": "96d02c44-1fba-47be-8a93-8f2608420b9c",
   "metadata": {
    "execution": {
     "iopub.execute_input": "2022-06-16T11:27:31.092392Z",
     "iopub.status.busy": "2022-06-16T11:27:31.092221Z",
     "iopub.status.idle": "2022-06-16T11:27:31.107900Z",
     "shell.execute_reply": "2022-06-16T11:27:31.107356Z"
    },
    "papermill": {
     "duration": 10.206989,
     "end_time": "2022-06-16T11:27:31.109339",
     "exception": false,
     "start_time": "2022-06-16T11:27:20.902350",
     "status": "completed"
    },
    "tags": []
   },
   "outputs": [],
   "source": [
    "# check upper triangular values\n",
    "assert len(gene_corrs) == int(genes_chr.shape[0] * (genes_chr.shape[0] - 1) / 2)"
   ]
  },
  {
   "cell_type": "code",
   "execution_count": 36,
   "id": "aaa51627-f4e3-4744-a41f-7d25adcc0a78",
   "metadata": {
    "execution": {
     "iopub.execute_input": "2022-06-16T11:27:51.198773Z",
     "iopub.status.busy": "2022-06-16T11:27:51.198555Z",
     "iopub.status.idle": "2022-06-16T11:27:51.234555Z",
     "shell.execute_reply": "2022-06-16T11:27:51.234005Z"
    },
    "papermill": {
     "duration": 10.153036,
     "end_time": "2022-06-16T11:27:51.235989",
     "exception": false,
     "start_time": "2022-06-16T11:27:41.082953",
     "status": "completed"
    },
    "tags": []
   },
   "outputs": [],
   "source": [
    "gene_corrs = pd.Series(gene_corrs)"
   ]
  },
  {
   "cell_type": "code",
   "execution_count": 37,
   "id": "fe283586-c348-40e0-8841-f6d97bfb021c",
   "metadata": {
    "execution": {
     "iopub.execute_input": "2022-06-16T11:28:11.151063Z",
     "iopub.status.busy": "2022-06-16T11:28:11.150894Z",
     "iopub.status.idle": "2022-06-16T11:28:11.175823Z",
     "shell.execute_reply": "2022-06-16T11:28:11.175330Z"
    },
    "papermill": {
     "duration": 10.265448,
     "end_time": "2022-06-16T11:28:11.177170",
     "exception": false,
     "start_time": "2022-06-16T11:28:00.911722",
     "status": "completed"
    },
    "tags": []
   },
   "outputs": [
    {
     "data": {
      "text/plain": [
       "count    244650.000000\n",
       "mean         -0.000113\n",
       "std           0.043111\n",
       "min          -0.995338\n",
       "25%           0.000000\n",
       "50%           0.000000\n",
       "75%           0.000000\n",
       "max           0.990823\n",
       "dtype: float64"
      ]
     },
     "execution_count": 37,
     "metadata": {},
     "output_type": "execute_result"
    }
   ],
   "source": [
    "gene_corrs.describe()"
   ]
  },
  {
   "cell_type": "code",
   "execution_count": 38,
   "id": "b3815678-0f93-4b35-897b-a9d047a2aa78",
   "metadata": {
    "execution": {
     "iopub.execute_input": "2022-06-16T11:28:31.233112Z",
     "iopub.status.busy": "2022-06-16T11:28:31.232508Z",
     "iopub.status.idle": "2022-06-16T11:28:31.255411Z",
     "shell.execute_reply": "2022-06-16T11:28:31.254845Z"
    },
    "papermill": {
     "duration": 9.803172,
     "end_time": "2022-06-16T11:28:31.256823",
     "exception": false,
     "start_time": "2022-06-16T11:28:21.453651",
     "status": "completed"
    },
    "tags": []
   },
   "outputs": [
    {
     "data": {
      "text/plain": [
       "0.00   -0.995338\n",
       "0.05    0.000000\n",
       "0.10    0.000000\n",
       "0.15    0.000000\n",
       "0.20    0.000000\n",
       "0.25    0.000000\n",
       "0.30    0.000000\n",
       "0.35    0.000000\n",
       "0.40    0.000000\n",
       "0.45    0.000000\n",
       "0.50    0.000000\n",
       "0.55    0.000000\n",
       "0.60    0.000000\n",
       "0.65    0.000000\n",
       "0.70    0.000000\n",
       "0.75    0.000000\n",
       "0.80    0.000000\n",
       "0.85    0.000000\n",
       "0.90    0.000000\n",
       "0.95    0.000000\n",
       "dtype: float64"
      ]
     },
     "metadata": {},
     "output_type": "display_data"
    }
   ],
   "source": [
    "gene_corrs_quantiles = gene_corrs.quantile(np.arange(0, 1, 0.05))\n",
    "display(gene_corrs_quantiles)"
   ]
  },
  {
   "cell_type": "markdown",
   "id": "8e60a080-edb2-4e9c-b2ef-22961693200c",
   "metadata": {
    "papermill": {
     "duration": 10.22319,
     "end_time": "2022-06-16T11:28:51.592349",
     "exception": false,
     "start_time": "2022-06-16T11:28:41.369159",
     "status": "completed"
    },
    "tags": []
   },
   "source": [
    "## Plot: distribution"
   ]
  },
  {
   "cell_type": "code",
   "execution_count": 39,
   "id": "8301126b-a7d4-4744-9c7d-f0f86eb6f54c",
   "metadata": {
    "execution": {
     "iopub.execute_input": "2022-06-16T11:29:11.739604Z",
     "iopub.status.busy": "2022-06-16T11:29:11.739148Z",
     "iopub.status.idle": "2022-06-16T11:29:12.789130Z",
     "shell.execute_reply": "2022-06-16T11:29:12.788534Z"
    },
    "papermill": {
     "duration": 11.112221,
     "end_time": "2022-06-16T11:29:12.790704",
     "exception": false,
     "start_time": "2022-06-16T11:29:01.678483",
     "status": "completed"
    },
    "tags": []
   },
   "outputs": [
    {
     "data": {
      "image/png": "[encoded data removed]",
      "text/plain": [
       "<Figure size 504x504 with 1 Axes>"
      ]
     },
     "metadata": {
      "needs_background": "light"
     },
     "output_type": "display_data"
    }
   ],
   "source": [
    "with sns.plotting_context(\"paper\", font_scale=1.5):\n",
    "    g = sns.displot(gene_corrs, kde=True, height=7)\n",
    "    g.ax.set_title(\n",
    "        f\"Distribution of gene correlation values in chromosome {chromosome}\"\n",
    "    )"
   ]
  },
  {
   "cell_type": "markdown",
   "id": "cbd52bca-d878-4a2f-b684-5c83aa3038d4",
   "metadata": {
    "papermill": {
     "duration": 10.094804,
     "end_time": "2022-06-16T11:29:32.641638",
     "exception": false,
     "start_time": "2022-06-16T11:29:22.546834",
     "status": "completed"
    },
    "tags": []
   },
   "source": [
    "## Plot: heatmap"
   ]
  },
  {
   "cell_type": "code",
   "execution_count": 40,
   "id": "d03fe63a-c7b2-4fb9-a53c-db362ce843c9",
   "metadata": {
    "execution": {
     "iopub.execute_input": "2022-06-16T11:29:52.885546Z",
     "iopub.status.busy": "2022-06-16T11:29:52.885266Z",
     "iopub.status.idle": "2022-06-16T11:29:52.903055Z",
     "shell.execute_reply": "2022-06-16T11:29:52.902496Z"
    },
    "papermill": {
     "duration": 10.102212,
     "end_time": "2022-06-16T11:29:52.904455",
     "exception": false,
     "start_time": "2022-06-16T11:29:42.802243",
     "status": "completed"
    },
    "tags": []
   },
   "outputs": [
    {
     "data": {
      "text/plain": [
       "'-0.05 / 0.05'"
      ]
     },
     "metadata": {},
     "output_type": "display_data"
    }
   ],
   "source": [
    "vmin_val = min(-0.05, gene_corrs_quantiles[0.10])\n",
    "vmax_val = max(0.05, gene_corrs_quantiles[0.90])\n",
    "display(f\"{vmin_val} / {vmax_val}\")"
   ]
  },
  {
   "cell_type": "code",
   "execution_count": 41,
   "id": "dc41b70b-5bcc-4d9e-9f33-a22c4a94dab5",
   "metadata": {
    "execution": {
     "iopub.execute_input": "2022-06-16T11:30:13.285282Z",
     "iopub.status.busy": "2022-06-16T11:30:13.285115Z",
     "iopub.status.idle": "2022-06-16T11:30:13.775598Z",
     "shell.execute_reply": "2022-06-16T11:30:13.775143Z"
    },
    "papermill": {
     "duration": 10.723982,
     "end_time": "2022-06-16T11:30:13.777389",
     "exception": false,
     "start_time": "2022-06-16T11:30:03.053407",
     "status": "completed"
    },
    "tags": []
   },
   "outputs": [
    {
     "data": {
      "text/plain": [
       "Text(0.5, 1.0, 'Gene correlations in chromosome 1')"
      ]
     },
     "execution_count": 41,
     "metadata": {},
     "output_type": "execute_result"
    },
    {
     "data": {
      "image/png": "[encoded data removed]",
      "text/plain": [
       "<Figure size 720x720 with 2 Axes>"
      ]
     },
     "metadata": {
      "needs_background": "light"
     },
     "output_type": "display_data"
    }
   ],
   "source": [
    "f, ax = plt.subplots(figsize=(10, 10))\n",
    "sns.heatmap(\n",
    "    gene_corrs_df,\n",
    "    xticklabels=False,\n",
    "    yticklabels=False,\n",
    "    square=True,\n",
    "    vmin=vmin_val,\n",
    "    vmax=vmax_val,\n",
    "    cmap=\"YlGnBu\",\n",
    "    ax=ax,\n",
    ")\n",
    "ax.set_title(f\"Gene correlations in chromosome {chromosome}\")"
   ]
  },
  {
   "cell_type": "code",
   "execution_count": null,
   "id": "b25e3ead",
   "metadata": {
    "papermill": {
     "duration": 10.054991,
     "end_time": "2022-06-16T11:30:34.110701",
     "exception": false,
     "start_time": "2022-06-16T11:30:24.055710",
     "status": "completed"
    },
    "tags": []
   },
   "outputs": [],
   "source": []
  }
 ],
 "metadata": {
  "jupytext": {
   "cell_metadata_filter": "all,-execution,-papermill,-trusted",
   "formats": "ipynb,py//py:percent"
  },
  "kernelspec": {
   "display_name": "Python 3 (ipykernel)",
   "language": "python",
   "name": "python3"
  },
  "language_info": {
   "codemirror_mode": {
    "name": "ipython",
    "version": 3
   },
   "file_extension": ".py",
   "mimetype": "text/x-python",
   "name": "python",
   "nbconvert_exporter": "python",
   "pygments_lexer": "ipython3",
   "version": "3.8.13"
  },
  "papermill": {
   "default_parameters": {},
   "duration": 56289.057305,
   "end_time": "2022-06-16T11:30:46.901992",
   "environment_variables": {},
   "exception": null,
   "input_path": "nbs/15_gsa_gls/10-gene_expr_correlations.ipynb",
   "output_path": "nbs/15_gsa_gls/gene_corrs/gtex_v8/mashr/10-gene_expr_correlations-chr1.run.ipynb",
   "parameters": {
    "EQTL_MODEL": "MASHR",
    "REFERENCE_PANEL": "GTEX_V8",
    "chromosome": 1
   },
   "start_time": "2022-06-15T19:52:37.844687",
   "version": "2.2.2"
  }
 },
 "nbformat": 4,
 "nbformat_minor": 5
}
