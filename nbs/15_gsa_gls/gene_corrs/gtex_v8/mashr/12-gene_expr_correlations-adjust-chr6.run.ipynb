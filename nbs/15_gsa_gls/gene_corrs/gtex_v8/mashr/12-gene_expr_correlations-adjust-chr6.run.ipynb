{
 "cells": [
  {
   "cell_type": "markdown",
   "id": "6c1f0ae4-cd27-4fec-a23d-51699e7059e8",
   "metadata": {
    "papermill": {
     "duration": 0.005292,
     "end_time": "2022-06-18T11:50:01.802575",
     "exception": false,
     "start_time": "2022-06-18T11:50:01.797283",
     "status": "completed"
    },
    "tags": []
   },
   "source": [
    "# Description"
   ]
  },
  {
   "cell_type": "markdown",
   "id": "3268a19a-8a83-4f61-aa39-09b084c81d61",
   "metadata": {
    "papermill": {
     "duration": 0.004752,
     "end_time": "2022-06-18T11:50:01.812265",
     "exception": false,
     "start_time": "2022-06-18T11:50:01.807513",
     "status": "completed"
    },
    "tags": []
   },
   "source": [
    "**TODO**"
   ]
  },
  {
   "cell_type": "markdown",
   "id": "401368d3-22c1-4d81-a2c3-c4a81fde4191",
   "metadata": {
    "papermill": {
     "duration": 0.00463,
     "end_time": "2022-06-18T11:50:01.821532",
     "exception": false,
     "start_time": "2022-06-18T11:50:01.816902",
     "status": "completed"
    },
    "tags": []
   },
   "source": [
    "# Modules"
   ]
  },
  {
   "cell_type": "code",
   "execution_count": 1,
   "id": "f9b5022b-7c5e-4d37-9c7a-fdb91777c7f9",
   "metadata": {
    "execution": {
     "iopub.execute_input": "2022-06-18T11:50:01.833986Z",
     "iopub.status.busy": "2022-06-18T11:50:01.832229Z",
     "iopub.status.idle": "2022-06-18T11:50:05.402306Z",
     "shell.execute_reply": "2022-06-18T11:50:05.401098Z"
    },
    "papermill": {
     "duration": 3.584874,
     "end_time": "2022-06-18T11:50:05.410956",
     "exception": false,
     "start_time": "2022-06-18T11:50:01.826082",
     "status": "completed"
    },
    "tags": []
   },
   "outputs": [],
   "source": [
    "library(reticulate)\n",
    "pd <- import(\"pandas\")"
   ]
  },
  {
   "cell_type": "markdown",
   "id": "c1958d6a-0229-47e8-823e-792fcf84fccf",
   "metadata": {
    "papermill": {
     "duration": 0.003991,
     "end_time": "2022-06-18T11:50:05.419786",
     "exception": false,
     "start_time": "2022-06-18T11:50:05.415795",
     "status": "completed"
    },
    "tags": []
   },
   "source": [
    "# Settings"
   ]
  },
  {
   "cell_type": "code",
   "execution_count": 2,
   "id": "22d12bb4-1699-4a6b-b1b9-d3fdd3d547d7",
   "metadata": {
    "execution": {
     "iopub.execute_input": "2022-06-18T11:50:05.474972Z",
     "iopub.status.busy": "2022-06-18T11:50:05.437313Z",
     "iopub.status.idle": "2022-06-18T11:50:05.488303Z",
     "shell.execute_reply": "2022-06-18T11:50:05.486542Z"
    },
    "papermill": {
     "duration": 0.057951,
     "end_time": "2022-06-18T11:50:05.489963",
     "exception": false,
     "start_time": "2022-06-18T11:50:05.432012",
     "status": "completed"
    },
    "tags": [
     "parameters"
    ]
   },
   "outputs": [],
   "source": [
    "# reference panel\n",
    "REFERENCE_PANEL <- \"GTEX_V8\"\n",
    "# REFERENCE_PANEL = \"1000G\"\n",
    "\n",
    "# prediction models\n",
    "## mashr\n",
    "EQTL_MODEL <- \"MASHR\"\n",
    "\n",
    "# ## elastic net\n",
    "# EQTL_MODEL = \"ELASTIC_NET\"\n",
    "\n",
    "chromosome <- NULL"
   ]
  },
  {
   "cell_type": "code",
   "execution_count": 3,
   "id": "51a3fd5a",
   "metadata": {
    "execution": {
     "iopub.execute_input": "2022-06-18T11:50:05.501038Z",
     "iopub.status.busy": "2022-06-18T11:50:05.499960Z",
     "iopub.status.idle": "2022-06-18T11:50:05.517217Z",
     "shell.execute_reply": "2022-06-18T11:50:05.516000Z"
    },
    "papermill": {
     "duration": 0.024493,
     "end_time": "2022-06-18T11:50:05.518898",
     "exception": false,
     "start_time": "2022-06-18T11:50:05.494405",
     "status": "completed"
    },
    "tags": [
     "injected-parameters"
    ]
   },
   "outputs": [],
   "source": [
    "# Parameters\n",
    "chromosome = 6\n",
    "REFERENCE_PANEL = \"GTEX_V8\"\n",
    "EQTL_MODEL = \"MASHR\"\n"
   ]
  },
  {
   "cell_type": "code",
   "execution_count": 4,
   "id": "8fe24bef",
   "metadata": {
    "execution": {
     "iopub.execute_input": "2022-06-18T11:50:05.531315Z",
     "iopub.status.busy": "2022-06-18T11:50:05.530169Z",
     "iopub.status.idle": "2022-06-18T11:50:05.543743Z",
     "shell.execute_reply": "2022-06-18T11:50:05.542465Z"
    },
    "papermill": {
     "duration": 0.021523,
     "end_time": "2022-06-18T11:50:05.545507",
     "exception": false,
     "start_time": "2022-06-18T11:50:05.523984",
     "status": "completed"
    },
    "tags": []
   },
   "outputs": [
    {
     "data": {
      "text/html": [
       "'Using reference panel: GTEX_V8'"
      ],
      "text/latex": [
       "'Using reference panel: GTEX\\_V8'"
      ],
      "text/markdown": [
       "'Using reference panel: GTEX_V8'"
      ],
      "text/plain": [
       "[1] \"Using reference panel: GTEX_V8\""
      ]
     },
     "metadata": {},
     "output_type": "display_data"
    }
   ],
   "source": [
    "paste0(\"Using reference panel: \", REFERENCE_PANEL)"
   ]
  },
  {
   "cell_type": "code",
   "execution_count": 5,
   "id": "d62c28f8-186c-478b-948c-58e14f00df4b",
   "metadata": {
    "execution": {
     "iopub.execute_input": "2022-06-18T11:50:05.557733Z",
     "iopub.status.busy": "2022-06-18T11:50:05.556727Z",
     "iopub.status.idle": "2022-06-18T11:50:05.568405Z",
     "shell.execute_reply": "2022-06-18T11:50:05.566426Z"
    },
    "papermill": {
     "duration": 0.020006,
     "end_time": "2022-06-18T11:50:05.570891",
     "exception": false,
     "start_time": "2022-06-18T11:50:05.550885",
     "status": "completed"
    },
    "tags": []
   },
   "outputs": [
    {
     "data": {
      "text/html": [
       "'Using eQTL model: MASHR'"
      ],
      "text/latex": [
       "'Using eQTL model: MASHR'"
      ],
      "text/markdown": [
       "'Using eQTL model: MASHR'"
      ],
      "text/plain": [
       "[1] \"Using eQTL model: MASHR\""
      ]
     },
     "metadata": {},
     "output_type": "display_data"
    }
   ],
   "source": [
    "paste0(\"Using eQTL model: \", EQTL_MODEL)"
   ]
  },
  {
   "cell_type": "code",
   "execution_count": 6,
   "id": "5243676f-c889-4405-9a4d-262f0f044614",
   "metadata": {
    "execution": {
     "iopub.execute_input": "2022-06-18T11:50:05.584514Z",
     "iopub.status.busy": "2022-06-18T11:50:05.583389Z",
     "iopub.status.idle": "2022-06-18T11:50:05.596697Z",
     "shell.execute_reply": "2022-06-18T11:50:05.595362Z"
    },
    "papermill": {
     "duration": 0.021565,
     "end_time": "2022-06-18T11:50:05.598303",
     "exception": false,
     "start_time": "2022-06-18T11:50:05.576738",
     "status": "completed"
    },
    "tags": []
   },
   "outputs": [],
   "source": [
    "# chromosome must be provided as parameter\n",
    "stopifnot(!is.null(chromosome))"
   ]
  },
  {
   "cell_type": "markdown",
   "id": "83a49773-bcf5-44c4-8d9b-a6ac65a57ec6",
   "metadata": {
    "papermill": {
     "duration": 0.005035,
     "end_time": "2022-06-18T11:50:05.609116",
     "exception": false,
     "start_time": "2022-06-18T11:50:05.604081",
     "status": "completed"
    },
    "tags": []
   },
   "source": [
    "# Paths"
   ]
  },
  {
   "cell_type": "code",
   "execution_count": 7,
   "id": "eb6aa8aa-b452-4a2f-a780-93dd80ad4285",
   "metadata": {
    "execution": {
     "iopub.execute_input": "2022-06-18T11:50:05.620888Z",
     "iopub.status.busy": "2022-06-18T11:50:05.619942Z",
     "iopub.status.idle": "2022-06-18T11:50:05.631702Z",
     "shell.execute_reply": "2022-06-18T11:50:05.630499Z"
    },
    "papermill": {
     "duration": 0.018985,
     "end_time": "2022-06-18T11:50:05.633228",
     "exception": false,
     "start_time": "2022-06-18T11:50:05.614243",
     "status": "completed"
    },
    "tags": []
   },
   "outputs": [
    {
     "data": {
      "text/html": [
       "'/opt/data/data/phenomexcan/ld_blocks/gene_corrs'"
      ],
      "text/latex": [
       "'/opt/data/data/phenomexcan/ld\\_blocks/gene\\_corrs'"
      ],
      "text/markdown": [
       "'/opt/data/data/phenomexcan/ld_blocks/gene_corrs'"
      ],
      "text/plain": [
       "[1] \"/opt/data/data/phenomexcan/ld_blocks/gene_corrs\""
      ]
     },
     "metadata": {},
     "output_type": "display_data"
    }
   ],
   "source": [
    "GENE_CORRS_DIR <- Sys.getenv(\"PHENOPLIER_PHENOMEXCAN_LD_BLOCKS_GENE_CORRS_DIR\")\n",
    "IRdisplay::display(GENE_CORRS_DIR)"
   ]
  },
  {
   "cell_type": "code",
   "execution_count": 8,
   "id": "eb24f15f-f282-4476-8943-8413c4483f12",
   "metadata": {
    "execution": {
     "iopub.execute_input": "2022-06-18T11:50:05.649958Z",
     "iopub.status.busy": "2022-06-18T11:50:05.648899Z",
     "iopub.status.idle": "2022-06-18T11:50:05.660567Z",
     "shell.execute_reply": "2022-06-18T11:50:05.659351Z"
    },
    "papermill": {
     "duration": 0.019149,
     "end_time": "2022-06-18T11:50:05.662030",
     "exception": false,
     "start_time": "2022-06-18T11:50:05.642881",
     "status": "completed"
    },
    "tags": []
   },
   "outputs": [
    {
     "data": {
      "text/html": [
       "'/opt/data/data/phenomexcan/ld_blocks/gene_corrs/gtex_v8/mashr/by_chr'"
      ],
      "text/latex": [
       "'/opt/data/data/phenomexcan/ld\\_blocks/gene\\_corrs/gtex\\_v8/mashr/by\\_chr'"
      ],
      "text/markdown": [
       "'/opt/data/data/phenomexcan/ld_blocks/gene_corrs/gtex_v8/mashr/by_chr'"
      ],
      "text/plain": [
       "[1] \"/opt/data/data/phenomexcan/ld_blocks/gene_corrs/gtex_v8/mashr/by_chr\""
      ]
     },
     "metadata": {},
     "output_type": "display_data"
    }
   ],
   "source": [
    "INPUT_DIR <- file.path(GENE_CORRS_DIR, tolower(REFERENCE_PANEL), tolower(EQTL_MODEL), \"by_chr\")\n",
    "IRdisplay::display(INPUT_DIR)"
   ]
  },
  {
   "cell_type": "code",
   "execution_count": 9,
   "id": "43c1daba-0da9-4822-8d1e-968e9767e251",
   "metadata": {
    "execution": {
     "iopub.execute_input": "2022-06-18T11:50:05.673238Z",
     "iopub.status.busy": "2022-06-18T11:50:05.672336Z",
     "iopub.status.idle": "2022-06-18T11:50:05.687776Z",
     "shell.execute_reply": "2022-06-18T11:50:05.685861Z"
    },
    "papermill": {
     "duration": 0.022456,
     "end_time": "2022-06-18T11:50:05.689380",
     "exception": false,
     "start_time": "2022-06-18T11:50:05.666924",
     "status": "completed"
    },
    "tags": []
   },
   "outputs": [
    {
     "data": {
      "text/html": [
       "'/opt/data/data/phenomexcan/ld_blocks/gene_corrs/gtex_v8/mashr/by_chr/gene_corrs-chr6.pkl'"
      ],
      "text/latex": [
       "'/opt/data/data/phenomexcan/ld\\_blocks/gene\\_corrs/gtex\\_v8/mashr/by\\_chr/gene\\_corrs-chr6.pkl'"
      ],
      "text/markdown": [
       "'/opt/data/data/phenomexcan/ld_blocks/gene_corrs/gtex_v8/mashr/by_chr/gene_corrs-chr6.pkl'"
      ],
      "text/plain": [
       "[1] \"/opt/data/data/phenomexcan/ld_blocks/gene_corrs/gtex_v8/mashr/by_chr/gene_corrs-chr6.pkl\""
      ]
     },
     "metadata": {},
     "output_type": "display_data"
    }
   ],
   "source": [
    "INPUT_FILE <- file.path(INPUT_DIR, paste0(\"gene_corrs-chr\", chromosome, \".pkl\"))\n",
    "IRdisplay::display(INPUT_FILE)\n",
    "stopifnot(file.exists(INPUT_FILE))"
   ]
  },
  {
   "cell_type": "code",
   "execution_count": 10,
   "id": "72386fbf-982b-420a-9057-ea9a97a5e571",
   "metadata": {
    "execution": {
     "iopub.execute_input": "2022-06-18T11:50:05.701713Z",
     "iopub.status.busy": "2022-06-18T11:50:05.700729Z",
     "iopub.status.idle": "2022-06-18T11:50:05.716973Z",
     "shell.execute_reply": "2022-06-18T11:50:05.715107Z"
    },
    "papermill": {
     "duration": 0.023792,
     "end_time": "2022-06-18T11:50:05.718611",
     "exception": false,
     "start_time": "2022-06-18T11:50:05.694819",
     "status": "completed"
    },
    "tags": []
   },
   "outputs": [
    {
     "data": {
      "text/html": [
       "'/opt/data/data/phenomexcan/ld_blocks/gene_corrs/gtex_v8/mashr/by_chr/corrected_positive_definite'"
      ],
      "text/latex": [
       "'/opt/data/data/phenomexcan/ld\\_blocks/gene\\_corrs/gtex\\_v8/mashr/by\\_chr/corrected\\_positive\\_definite'"
      ],
      "text/markdown": [
       "'/opt/data/data/phenomexcan/ld_blocks/gene_corrs/gtex_v8/mashr/by_chr/corrected_positive_definite'"
      ],
      "text/plain": [
       "[1] \"/opt/data/data/phenomexcan/ld_blocks/gene_corrs/gtex_v8/mashr/by_chr/corrected_positive_definite\""
      ]
     },
     "metadata": {},
     "output_type": "display_data"
    }
   ],
   "source": [
    "OUTPUT_DIR <- file.path(INPUT_DIR, \"corrected_positive_definite\")\n",
    "IRdisplay::display(OUTPUT_DIR)\n",
    "dir.create(OUTPUT_DIR, recursive = TRUE, showWarnings = FALSE)"
   ]
  },
  {
   "cell_type": "code",
   "execution_count": 11,
   "id": "f9f19d1d-ce4c-4099-a26e-250fec751de7",
   "metadata": {
    "execution": {
     "iopub.execute_input": "2022-06-18T11:50:05.731753Z",
     "iopub.status.busy": "2022-06-18T11:50:05.730672Z",
     "iopub.status.idle": "2022-06-18T11:50:05.753654Z",
     "shell.execute_reply": "2022-06-18T11:50:05.749101Z"
    },
    "papermill": {
     "duration": 0.031719,
     "end_time": "2022-06-18T11:50:05.755726",
     "exception": false,
     "start_time": "2022-06-18T11:50:05.724007",
     "status": "completed"
    },
    "tags": []
   },
   "outputs": [
    {
     "data": {
      "text/html": [
       "'/opt/data/data/phenomexcan/ld_blocks/gene_corrs/gtex_v8/mashr/by_chr/corrected_positive_definite/gene_corrs-chr6.pkl'"
      ],
      "text/latex": [
       "'/opt/data/data/phenomexcan/ld\\_blocks/gene\\_corrs/gtex\\_v8/mashr/by\\_chr/corrected\\_positive\\_definite/gene\\_corrs-chr6.pkl'"
      ],
      "text/markdown": [
       "'/opt/data/data/phenomexcan/ld_blocks/gene_corrs/gtex_v8/mashr/by_chr/corrected_positive_definite/gene_corrs-chr6.pkl'"
      ],
      "text/plain": [
       "[1] \"/opt/data/data/phenomexcan/ld_blocks/gene_corrs/gtex_v8/mashr/by_chr/corrected_positive_definite/gene_corrs-chr6.pkl\""
      ]
     },
     "metadata": {},
     "output_type": "display_data"
    },
    {
     "data": {
      "text/html": [
       "'Output file exists, it will be overwritten'"
      ],
      "text/latex": [
       "'Output file exists, it will be overwritten'"
      ],
      "text/markdown": [
       "'Output file exists, it will be overwritten'"
      ],
      "text/plain": [
       "[1] \"Output file exists, it will be overwritten\""
      ]
     },
     "metadata": {},
     "output_type": "display_data"
    }
   ],
   "source": [
    "OUTPUT_FILE <- file.path(OUTPUT_DIR, paste0(\"gene_corrs-chr\", chromosome, \".pkl\"))\n",
    "IRdisplay::display(OUTPUT_FILE)\n",
    "if (file.exists(OUTPUT_FILE)) {\n",
    "  IRdisplay::display(\"Output file exists, it will be overwritten\")\n",
    "}"
   ]
  },
  {
   "cell_type": "markdown",
   "id": "5aad60e6-cba4-41b5-9755-93eb86f4ed05",
   "metadata": {
    "papermill": {
     "duration": 0.006462,
     "end_time": "2022-06-18T11:50:05.768756",
     "exception": false,
     "start_time": "2022-06-18T11:50:05.762294",
     "status": "completed"
    },
    "tags": []
   },
   "source": [
    "# Functions"
   ]
  },
  {
   "cell_type": "code",
   "execution_count": 12,
   "id": "f828f081-7358-4cc8-8a89-1ee293bcc1a7",
   "metadata": {
    "execution": {
     "iopub.execute_input": "2022-06-18T11:50:05.783775Z",
     "iopub.status.busy": "2022-06-18T11:50:05.782644Z",
     "iopub.status.idle": "2022-06-18T11:50:05.793110Z",
     "shell.execute_reply": "2022-06-18T11:50:05.791760Z"
    },
    "papermill": {
     "duration": 0.01979,
     "end_time": "2022-06-18T11:50:05.795026",
     "exception": false,
     "start_time": "2022-06-18T11:50:05.775236",
     "status": "completed"
    },
    "tags": []
   },
   "outputs": [],
   "source": [
    "# taken from https://www.r-bloggers.com/2013/08/correcting-a-pseudo-correlation-matrix-to-be-positive-semidefinite/\n",
    "# TODO: add documentation\n",
    "CorrectCM <- function(CM, p = 0) {\n",
    "  n <- dim(var(CM))[1L]\n",
    "  E <- eigen(CM)\n",
    "  CM1 <- E$vectors %*% tcrossprod(diag(pmax(E$values, p), n), E$vectors)\n",
    "  Balance <- diag(1 / sqrt(diag(CM1)))\n",
    "  CM2 <- Balance %*% CM1 %*% Balance\n",
    "  return(CM2)\n",
    "}"
   ]
  },
  {
   "cell_type": "code",
   "execution_count": 13,
   "id": "7ab9bebf-50a1-4e6f-b16a-e23cae93d02a",
   "metadata": {
    "execution": {
     "iopub.execute_input": "2022-06-18T11:50:05.810532Z",
     "iopub.status.busy": "2022-06-18T11:50:05.809344Z",
     "iopub.status.idle": "2022-06-18T11:50:05.819275Z",
     "shell.execute_reply": "2022-06-18T11:50:05.817923Z"
    },
    "papermill": {
     "duration": 0.019766,
     "end_time": "2022-06-18T11:50:05.821557",
     "exception": false,
     "start_time": "2022-06-18T11:50:05.801791",
     "status": "completed"
    },
    "tags": []
   },
   "outputs": [],
   "source": [
    "is_positive_definite <- function(data) {\n",
    "  eigenvalues <- eigen(data)$values\n",
    "  nonpositive_eigenvalues <- eigenvalues[eigenvalues <= 0]\n",
    "\n",
    "  if (length(nonpositive_eigenvalues) > 0) {\n",
    "    IRdisplay::display(\"We need to correct the data and make the matrix positive definite\")\n",
    "    return(FALSE)\n",
    "  } else {\n",
    "    IRdisplay::display(\"Matrix is already positive definite!\")\n",
    "    return(TRUE)\n",
    "  }\n",
    "}"
   ]
  },
  {
   "cell_type": "markdown",
   "id": "ac52ecbc-5618-4876-a4fa-546a08e3fcf3",
   "metadata": {
    "papermill": {
     "duration": 0.006415,
     "end_time": "2022-06-18T11:50:05.834244",
     "exception": false,
     "start_time": "2022-06-18T11:50:05.827829",
     "status": "completed"
    },
    "tags": []
   },
   "source": [
    "# Load data"
   ]
  },
  {
   "cell_type": "code",
   "execution_count": 14,
   "id": "3a7744e1-2e5a-450e-9dcf-945ec181347d",
   "metadata": {
    "execution": {
     "iopub.execute_input": "2022-06-18T11:50:05.849222Z",
     "iopub.status.busy": "2022-06-18T11:50:05.848100Z",
     "iopub.status.idle": "2022-06-18T11:50:05.901704Z",
     "shell.execute_reply": "2022-06-18T11:50:05.900482Z"
    },
    "papermill": {
     "duration": 0.062668,
     "end_time": "2022-06-18T11:50:05.903447",
     "exception": false,
     "start_time": "2022-06-18T11:50:05.840779",
     "status": "completed"
    },
    "tags": []
   },
   "outputs": [],
   "source": [
    "gene_corrs <- pd$read_pickle(INPUT_FILE)"
   ]
  },
  {
   "cell_type": "code",
   "execution_count": 15,
   "id": "6fb150b2-4c68-4e9b-9aa5-1890d3f762e3",
   "metadata": {
    "execution": {
     "iopub.execute_input": "2022-06-18T11:50:05.917391Z",
     "iopub.status.busy": "2022-06-18T11:50:05.916369Z",
     "iopub.status.idle": "2022-06-18T11:50:05.927385Z",
     "shell.execute_reply": "2022-06-18T11:50:05.926216Z"
    },
    "papermill": {
     "duration": 0.019545,
     "end_time": "2022-06-18T11:50:05.929044",
     "exception": false,
     "start_time": "2022-06-18T11:50:05.909499",
     "status": "completed"
    },
    "tags": []
   },
   "outputs": [
    {
     "data": {
      "text/html": [
       "<style>\n",
       ".list-inline {list-style: none; margin:0; padding: 0}\n",
       ".list-inline>li {display: inline-block}\n",
       ".list-inline>li:not(:last-child)::after {content: \"\\00b7\"; padding: 0 .5ex}\n",
       "</style>\n",
       "<ol class=list-inline><li>339</li><li>339</li></ol>\n"
      ],
      "text/latex": [
       "\\begin{enumerate*}\n",
       "\\item 339\n",
       "\\item 339\n",
       "\\end{enumerate*}\n"
      ],
      "text/markdown": [
       "1. 339\n",
       "2. 339\n",
       "\n",
       "\n"
      ],
      "text/plain": [
       "[1] 339 339"
      ]
     },
     "metadata": {},
     "output_type": "display_data"
    }
   ],
   "source": [
    "dim(gene_corrs)"
   ]
  },
  {
   "cell_type": "code",
   "execution_count": 16,
   "id": "0d4e53b5-7586-4a68-8ce5-d930d74ba943",
   "metadata": {
    "execution": {
     "iopub.execute_input": "2022-06-18T11:50:05.943104Z",
     "iopub.status.busy": "2022-06-18T11:50:05.942147Z",
     "iopub.status.idle": "2022-06-18T11:50:05.960710Z",
     "shell.execute_reply": "2022-06-18T11:50:05.959657Z"
    },
    "papermill": {
     "duration": 0.026877,
     "end_time": "2022-06-18T11:50:05.962327",
     "exception": false,
     "start_time": "2022-06-18T11:50:05.935450",
     "status": "completed"
    },
    "tags": []
   },
   "outputs": [
    {
     "data": {
      "text/html": [
       "<table class=\"dataframe\">\n",
       "<caption>A data.frame: 6 × 10</caption>\n",
       "<thead>\n",
       "\t<tr><th></th><th scope=col>ENSG00000137265</th><th scope=col>ENSG00000112685</th><th scope=col>ENSG00000112699</th><th scope=col>ENSG00000124570</th><th scope=col>ENSG00000137275</th><th scope=col>ENSG00000137267</th><th scope=col>ENSG00000112739</th><th scope=col>ENSG00000153046</th><th scope=col>ENSG00000145982</th><th scope=col>ENSG00000124491</th></tr>\n",
       "\t<tr><th></th><th scope=col>&lt;dbl&gt;</th><th scope=col>&lt;dbl&gt;</th><th scope=col>&lt;dbl&gt;</th><th scope=col>&lt;dbl&gt;</th><th scope=col>&lt;dbl&gt;</th><th scope=col>&lt;dbl&gt;</th><th scope=col>&lt;dbl&gt;</th><th scope=col>&lt;dbl&gt;</th><th scope=col>&lt;dbl&gt;</th><th scope=col>&lt;dbl&gt;</th></tr>\n",
       "</thead>\n",
       "<tbody>\n",
       "\t<tr><th scope=row>ENSG00000137265</th><td> 1.000000000</td><td>-0.27809026</td><td>-0.177070395</td><td> 0.09827798</td><td> 0.009274999</td><td> 0.01900055</td><td>-0.11003145</td><td> 0.01663026</td><td> 0.09539731</td><td> 0.00000000</td></tr>\n",
       "\t<tr><th scope=row>ENSG00000112685</th><td>-0.278090259</td><td> 1.00000000</td><td>-0.101520677</td><td>-0.08038313</td><td> 0.240844468</td><td> 0.10141871</td><td> 0.18877883</td><td> 0.01610206</td><td> 0.01665490</td><td> 0.00000000</td></tr>\n",
       "\t<tr><th scope=row>ENSG00000112699</th><td>-0.177070395</td><td>-0.10152068</td><td> 1.000000000</td><td>-0.06915009</td><td> 0.007904048</td><td>-0.07162800</td><td>-0.12961447</td><td> 0.01359337</td><td>-0.05033236</td><td> 0.08622933</td></tr>\n",
       "\t<tr><th scope=row>ENSG00000124570</th><td> 0.098277977</td><td>-0.08038313</td><td>-0.069150087</td><td> 1.00000000</td><td> 0.193548169</td><td> 0.07951803</td><td>-0.03731162</td><td>-0.02430548</td><td> 0.02961757</td><td>-0.01736038</td></tr>\n",
       "\t<tr><th scope=row>ENSG00000137275</th><td> 0.009274999</td><td> 0.24084447</td><td> 0.007904048</td><td> 0.19354817</td><td> 1.000000000</td><td>-0.06516748</td><td>-0.01667263</td><td>-0.16261081</td><td>-0.07714674</td><td>-0.07548545</td></tr>\n",
       "\t<tr><th scope=row>ENSG00000137267</th><td> 0.019000552</td><td> 0.10141871</td><td>-0.071627999</td><td> 0.07951803</td><td>-0.065167480</td><td> 1.00000000</td><td>-0.09737381</td><td> 0.07528770</td><td>-0.04259903</td><td>-0.02268582</td></tr>\n",
       "</tbody>\n",
       "</table>\n"
      ],
      "text/latex": [
       "A data.frame: 6 × 10\n",
       "\\begin{tabular}{r|llllllllll}\n",
       "  & ENSG00000137265 & ENSG00000112685 & ENSG00000112699 & ENSG00000124570 & ENSG00000137275 & ENSG00000137267 & ENSG00000112739 & ENSG00000153046 & ENSG00000145982 & ENSG00000124491\\\\\n",
       "  & <dbl> & <dbl> & <dbl> & <dbl> & <dbl> & <dbl> & <dbl> & <dbl> & <dbl> & <dbl>\\\\\n",
       "\\hline\n",
       "\tENSG00000137265 &  1.000000000 & -0.27809026 & -0.177070395 &  0.09827798 &  0.009274999 &  0.01900055 & -0.11003145 &  0.01663026 &  0.09539731 &  0.00000000\\\\\n",
       "\tENSG00000112685 & -0.278090259 &  1.00000000 & -0.101520677 & -0.08038313 &  0.240844468 &  0.10141871 &  0.18877883 &  0.01610206 &  0.01665490 &  0.00000000\\\\\n",
       "\tENSG00000112699 & -0.177070395 & -0.10152068 &  1.000000000 & -0.06915009 &  0.007904048 & -0.07162800 & -0.12961447 &  0.01359337 & -0.05033236 &  0.08622933\\\\\n",
       "\tENSG00000124570 &  0.098277977 & -0.08038313 & -0.069150087 &  1.00000000 &  0.193548169 &  0.07951803 & -0.03731162 & -0.02430548 &  0.02961757 & -0.01736038\\\\\n",
       "\tENSG00000137275 &  0.009274999 &  0.24084447 &  0.007904048 &  0.19354817 &  1.000000000 & -0.06516748 & -0.01667263 & -0.16261081 & -0.07714674 & -0.07548545\\\\\n",
       "\tENSG00000137267 &  0.019000552 &  0.10141871 & -0.071627999 &  0.07951803 & -0.065167480 &  1.00000000 & -0.09737381 &  0.07528770 & -0.04259903 & -0.02268582\\\\\n",
       "\\end{tabular}\n"
      ],
      "text/markdown": [
       "\n",
       "A data.frame: 6 × 10\n",
       "\n",
       "| <!--/--> | ENSG00000137265 &lt;dbl&gt; | ENSG00000112685 &lt;dbl&gt; | ENSG00000112699 &lt;dbl&gt; | ENSG00000124570 &lt;dbl&gt; | ENSG00000137275 &lt;dbl&gt; | ENSG00000137267 &lt;dbl&gt; | ENSG00000112739 &lt;dbl&gt; | ENSG00000153046 &lt;dbl&gt; | ENSG00000145982 &lt;dbl&gt; | ENSG00000124491 &lt;dbl&gt; |\n",
       "|---|---|---|---|---|---|---|---|---|---|---|\n",
       "| ENSG00000137265 |  1.000000000 | -0.27809026 | -0.177070395 |  0.09827798 |  0.009274999 |  0.01900055 | -0.11003145 |  0.01663026 |  0.09539731 |  0.00000000 |\n",
       "| ENSG00000112685 | -0.278090259 |  1.00000000 | -0.101520677 | -0.08038313 |  0.240844468 |  0.10141871 |  0.18877883 |  0.01610206 |  0.01665490 |  0.00000000 |\n",
       "| ENSG00000112699 | -0.177070395 | -0.10152068 |  1.000000000 | -0.06915009 |  0.007904048 | -0.07162800 | -0.12961447 |  0.01359337 | -0.05033236 |  0.08622933 |\n",
       "| ENSG00000124570 |  0.098277977 | -0.08038313 | -0.069150087 |  1.00000000 |  0.193548169 |  0.07951803 | -0.03731162 | -0.02430548 |  0.02961757 | -0.01736038 |\n",
       "| ENSG00000137275 |  0.009274999 |  0.24084447 |  0.007904048 |  0.19354817 |  1.000000000 | -0.06516748 | -0.01667263 | -0.16261081 | -0.07714674 | -0.07548545 |\n",
       "| ENSG00000137267 |  0.019000552 |  0.10141871 | -0.071627999 |  0.07951803 | -0.065167480 |  1.00000000 | -0.09737381 |  0.07528770 | -0.04259903 | -0.02268582 |\n",
       "\n"
      ],
      "text/plain": [
       "                ENSG00000137265 ENSG00000112685 ENSG00000112699 ENSG00000124570\n",
       "ENSG00000137265  1.000000000    -0.27809026     -0.177070395     0.09827798    \n",
       "ENSG00000112685 -0.278090259     1.00000000     -0.101520677    -0.08038313    \n",
       "ENSG00000112699 -0.177070395    -0.10152068      1.000000000    -0.06915009    \n",
       "ENSG00000124570  0.098277977    -0.08038313     -0.069150087     1.00000000    \n",
       "ENSG00000137275  0.009274999     0.24084447      0.007904048     0.19354817    \n",
       "ENSG00000137267  0.019000552     0.10141871     -0.071627999     0.07951803    \n",
       "                ENSG00000137275 ENSG00000137267 ENSG00000112739 ENSG00000153046\n",
       "ENSG00000137265  0.009274999     0.01900055     -0.11003145      0.01663026    \n",
       "ENSG00000112685  0.240844468     0.10141871      0.18877883      0.01610206    \n",
       "ENSG00000112699  0.007904048    -0.07162800     -0.12961447      0.01359337    \n",
       "ENSG00000124570  0.193548169     0.07951803     -0.03731162     -0.02430548    \n",
       "ENSG00000137275  1.000000000    -0.06516748     -0.01667263     -0.16261081    \n",
       "ENSG00000137267 -0.065167480     1.00000000     -0.09737381      0.07528770    \n",
       "                ENSG00000145982 ENSG00000124491\n",
       "ENSG00000137265  0.09539731      0.00000000    \n",
       "ENSG00000112685  0.01665490      0.00000000    \n",
       "ENSG00000112699 -0.05033236      0.08622933    \n",
       "ENSG00000124570  0.02961757     -0.01736038    \n",
       "ENSG00000137275 -0.07714674     -0.07548545    \n",
       "ENSG00000137267 -0.04259903     -0.02268582    "
      ]
     },
     "metadata": {},
     "output_type": "display_data"
    }
   ],
   "source": [
    "head(gene_corrs[1:10, 1:10])"
   ]
  },
  {
   "cell_type": "markdown",
   "id": "c5c9ffba-1678-4ce7-8988-4ee03e23bdf2",
   "metadata": {
    "papermill": {
     "duration": 0.005342,
     "end_time": "2022-06-18T11:50:05.973412",
     "exception": false,
     "start_time": "2022-06-18T11:50:05.968070",
     "status": "completed"
    },
    "tags": []
   },
   "source": [
    "# Check positive definiteness"
   ]
  },
  {
   "cell_type": "code",
   "execution_count": 17,
   "id": "178854f5-487a-42e8-82b4-625c1979734a",
   "metadata": {
    "execution": {
     "iopub.execute_input": "2022-06-18T11:50:05.986067Z",
     "iopub.status.busy": "2022-06-18T11:50:05.985135Z",
     "iopub.status.idle": "2022-06-18T11:50:06.023898Z",
     "shell.execute_reply": "2022-06-18T11:50:06.022719Z"
    },
    "papermill": {
     "duration": 0.049089,
     "end_time": "2022-06-18T11:50:06.027864",
     "exception": false,
     "start_time": "2022-06-18T11:50:05.978775",
     "status": "completed"
    },
    "tags": []
   },
   "outputs": [
    {
     "data": {
      "text/html": [
       "'We need to correct the data and make the matrix positive definite'"
      ],
      "text/latex": [
       "'We need to correct the data and make the matrix positive definite'"
      ],
      "text/markdown": [
       "'We need to correct the data and make the matrix positive definite'"
      ],
      "text/plain": [
       "[1] \"We need to correct the data and make the matrix positive definite\""
      ]
     },
     "metadata": {},
     "output_type": "display_data"
    },
    {
     "data": {
      "text/html": [
       "FALSE"
      ],
      "text/latex": [
       "FALSE"
      ],
      "text/markdown": [
       "FALSE"
      ],
      "text/plain": [
       "[1] FALSE"
      ]
     },
     "metadata": {},
     "output_type": "display_data"
    }
   ],
   "source": [
    "is_positive_definite(gene_corrs)"
   ]
  },
  {
   "cell_type": "code",
   "execution_count": 18,
   "id": "58542ade-c80f-42e6-acbf-6464dab70fdb",
   "metadata": {
    "execution": {
     "iopub.execute_input": "2022-06-18T11:50:06.056705Z",
     "iopub.status.busy": "2022-06-18T11:50:06.055633Z",
     "iopub.status.idle": "2022-06-18T11:50:06.115695Z",
     "shell.execute_reply": "2022-06-18T11:50:06.114525Z"
    },
    "papermill": {
     "duration": 0.077743,
     "end_time": "2022-06-18T11:50:06.119591",
     "exception": false,
     "start_time": "2022-06-18T11:50:06.041848",
     "status": "completed"
    },
    "tags": []
   },
   "outputs": [],
   "source": [
    "# see eigenvalues\n",
    "eigenvalues <- eigen(gene_corrs)$values"
   ]
  },
  {
   "cell_type": "code",
   "execution_count": 19,
   "id": "9486e0db-e924-43ab-bb6c-0d997fd38f3d",
   "metadata": {
    "execution": {
     "iopub.execute_input": "2022-06-18T11:50:06.141886Z",
     "iopub.status.busy": "2022-06-18T11:50:06.140874Z",
     "iopub.status.idle": "2022-06-18T11:50:06.171828Z",
     "shell.execute_reply": "2022-06-18T11:50:06.169992Z"
    },
    "papermill": {
     "duration": 0.039572,
     "end_time": "2022-06-18T11:50:06.173373",
     "exception": false,
     "start_time": "2022-06-18T11:50:06.133801",
     "status": "completed"
    },
    "tags": []
   },
   "outputs": [
    {
     "data": {
      "text/html": [
       "28"
      ],
      "text/latex": [
       "28"
      ],
      "text/markdown": [
       "28"
      ],
      "text/plain": [
       "[1] 28"
      ]
     },
     "metadata": {},
     "output_type": "display_data"
    },
    {
     "data": {
      "text/html": [
       "<style>\n",
       ".list-inline {list-style: none; margin:0; padding: 0}\n",
       ".list-inline>li {display: inline-block}\n",
       ".list-inline>li:not(:last-child)::after {content: \"\\00b7\"; padding: 0 .5ex}\n",
       "</style>\n",
       "<ol class=list-inline><li>-0.0105223196793702</li><li>-0.0229082416420108</li><li>-0.044591193218166</li><li>-0.0729924837237048</li><li>-0.112700322799563</li><li>-0.1411637215031</li><li>-0.154163867342031</li><li>-0.182611289177848</li><li>-0.2031103427579</li><li>-0.267943746780284</li><li>-0.279283830518001</li><li>-0.299906377235893</li><li>-0.33247059953351</li><li>-0.377448462160759</li><li>-0.419950299716529</li><li>-0.459209009435703</li><li>-0.509075281583792</li><li>-0.603931746596444</li><li>-0.682644657811553</li><li>-0.729888472573875</li><li>-0.787028689330962</li><li>-0.837627691523887</li><li>-1.03015203476203</li><li>-1.1436735337329</li><li>-1.29273719249968</li><li>-1.3922689150113</li><li>-1.77995173420942</li><li>-1.96357160723534</li></ol>\n"
      ],
      "text/latex": [
       "\\begin{enumerate*}\n",
       "\\item -0.0105223196793702\n",
       "\\item -0.0229082416420108\n",
       "\\item -0.044591193218166\n",
       "\\item -0.0729924837237048\n",
       "\\item -0.112700322799563\n",
       "\\item -0.1411637215031\n",
       "\\item -0.154163867342031\n",
       "\\item -0.182611289177848\n",
       "\\item -0.2031103427579\n",
       "\\item -0.267943746780284\n",
       "\\item -0.279283830518001\n",
       "\\item -0.299906377235893\n",
       "\\item -0.33247059953351\n",
       "\\item -0.377448462160759\n",
       "\\item -0.419950299716529\n",
       "\\item -0.459209009435703\n",
       "\\item -0.509075281583792\n",
       "\\item -0.603931746596444\n",
       "\\item -0.682644657811553\n",
       "\\item -0.729888472573875\n",
       "\\item -0.787028689330962\n",
       "\\item -0.837627691523887\n",
       "\\item -1.03015203476203\n",
       "\\item -1.1436735337329\n",
       "\\item -1.29273719249968\n",
       "\\item -1.3922689150113\n",
       "\\item -1.77995173420942\n",
       "\\item -1.96357160723534\n",
       "\\end{enumerate*}\n"
      ],
      "text/markdown": [
       "1. -0.0105223196793702\n",
       "2. -0.0229082416420108\n",
       "3. -0.044591193218166\n",
       "4. -0.0729924837237048\n",
       "5. -0.112700322799563\n",
       "6. -0.1411637215031\n",
       "7. -0.154163867342031\n",
       "8. -0.182611289177848\n",
       "9. -0.2031103427579\n",
       "10. -0.267943746780284\n",
       "11. -0.279283830518001\n",
       "12. -0.299906377235893\n",
       "13. -0.33247059953351\n",
       "14. -0.377448462160759\n",
       "15. -0.419950299716529\n",
       "16. -0.459209009435703\n",
       "17. -0.509075281583792\n",
       "18. -0.603931746596444\n",
       "19. -0.682644657811553\n",
       "20. -0.729888472573875\n",
       "21. -0.787028689330962\n",
       "22. -0.837627691523887\n",
       "23. -1.03015203476203\n",
       "24. -1.1436735337329\n",
       "25. -1.29273719249968\n",
       "26. -1.3922689150113\n",
       "27. -1.77995173420942\n",
       "28. -1.96357160723534\n",
       "\n",
       "\n"
      ],
      "text/plain": [
       " [1] -0.01052232 -0.02290824 -0.04459119 -0.07299248 -0.11270032 -0.14116372\n",
       " [7] -0.15416387 -0.18261129 -0.20311034 -0.26794375 -0.27928383 -0.29990638\n",
       "[13] -0.33247060 -0.37744846 -0.41995030 -0.45920901 -0.50907528 -0.60393175\n",
       "[19] -0.68264466 -0.72988847 -0.78702869 -0.83762769 -1.03015203 -1.14367353\n",
       "[25] -1.29273719 -1.39226892 -1.77995173 -1.96357161"
      ]
     },
     "metadata": {},
     "output_type": "display_data"
    }
   ],
   "source": [
    "nonpositive_eigenvalues <- eigenvalues[eigenvalues <= 0]\n",
    "IRdisplay::display(length(nonpositive_eigenvalues))\n",
    "IRdisplay::display(nonpositive_eigenvalues)"
   ]
  },
  {
   "cell_type": "code",
   "execution_count": 20,
   "id": "410ee452-488f-4518-b93a-2acd608ba99c",
   "metadata": {
    "execution": {
     "iopub.execute_input": "2022-06-18T11:50:06.188029Z",
     "iopub.status.busy": "2022-06-18T11:50:06.187043Z",
     "iopub.status.idle": "2022-06-18T11:50:06.197195Z",
     "shell.execute_reply": "2022-06-18T11:50:06.195362Z"
    },
    "papermill": {
     "duration": 0.018937,
     "end_time": "2022-06-18T11:50:06.198828",
     "exception": false,
     "start_time": "2022-06-18T11:50:06.179891",
     "status": "completed"
    },
    "tags": []
   },
   "outputs": [],
   "source": [
    "if (length(eigenvalues[eigenvalues <= 0]) == 0) { quit() }"
   ]
  },
  {
   "cell_type": "markdown",
   "id": "2d280a82-f231-402d-82ab-9291d395afc1",
   "metadata": {
    "papermill": {
     "duration": 0.006131,
     "end_time": "2022-06-18T11:50:06.211276",
     "exception": false,
     "start_time": "2022-06-18T11:50:06.205145",
     "status": "completed"
    },
    "tags": []
   },
   "source": [
    "# Make matrix positive definite if needed"
   ]
  },
  {
   "cell_type": "code",
   "execution_count": 21,
   "id": "b9037873-4067-4ac6-aa92-e9225a6c9353",
   "metadata": {
    "execution": {
     "iopub.execute_input": "2022-06-18T11:50:06.225596Z",
     "iopub.status.busy": "2022-06-18T11:50:06.224625Z",
     "iopub.status.idle": "2022-06-18T11:50:06.291746Z",
     "shell.execute_reply": "2022-06-18T11:50:06.290553Z"
    },
    "papermill": {
     "duration": 0.07563,
     "end_time": "2022-06-18T11:50:06.293228",
     "exception": false,
     "start_time": "2022-06-18T11:50:06.217598",
     "status": "completed"
    },
    "tags": []
   },
   "outputs": [],
   "source": [
    "gene_corrs_corrected <- CorrectCM(gene_corrs, 1)"
   ]
  },
  {
   "cell_type": "code",
   "execution_count": 22,
   "id": "03c86284-5aac-4f66-86cc-74eb97102a7e",
   "metadata": {
    "execution": {
     "iopub.execute_input": "2022-06-18T11:50:06.347259Z",
     "iopub.status.busy": "2022-06-18T11:50:06.346275Z",
     "iopub.status.idle": "2022-06-18T11:50:06.360002Z",
     "shell.execute_reply": "2022-06-18T11:50:06.357398Z"
    },
    "papermill": {
     "duration": 0.028843,
     "end_time": "2022-06-18T11:50:06.361550",
     "exception": false,
     "start_time": "2022-06-18T11:50:06.332707",
     "status": "completed"
    },
    "tags": []
   },
   "outputs": [],
   "source": [
    "dimnames(gene_corrs_corrected)[[1]] <- rownames(gene_corrs)"
   ]
  },
  {
   "cell_type": "code",
   "execution_count": 23,
   "id": "576e7069-25ff-473d-8158-35b5f2ff212e",
   "metadata": {
    "execution": {
     "iopub.execute_input": "2022-06-18T11:50:06.380442Z",
     "iopub.status.busy": "2022-06-18T11:50:06.379430Z",
     "iopub.status.idle": "2022-06-18T11:50:06.387839Z",
     "shell.execute_reply": "2022-06-18T11:50:06.386712Z"
    },
    "papermill": {
     "duration": 0.020497,
     "end_time": "2022-06-18T11:50:06.389449",
     "exception": false,
     "start_time": "2022-06-18T11:50:06.368952",
     "status": "completed"
    },
    "tags": []
   },
   "outputs": [],
   "source": [
    "dimnames(gene_corrs_corrected)[[2]] <- colnames(gene_corrs)"
   ]
  },
  {
   "cell_type": "code",
   "execution_count": 24,
   "id": "f77d043a-321d-447f-8da5-2503981d3e73",
   "metadata": {
    "execution": {
     "iopub.execute_input": "2022-06-18T11:50:06.404558Z",
     "iopub.status.busy": "2022-06-18T11:50:06.403561Z",
     "iopub.status.idle": "2022-06-18T11:50:06.414474Z",
     "shell.execute_reply": "2022-06-18T11:50:06.413310Z"
    },
    "papermill": {
     "duration": 0.02001,
     "end_time": "2022-06-18T11:50:06.416107",
     "exception": false,
     "start_time": "2022-06-18T11:50:06.396097",
     "status": "completed"
    },
    "tags": []
   },
   "outputs": [],
   "source": [
    "gene_corrs_corrected <- as.data.frame(gene_corrs_corrected)"
   ]
  },
  {
   "cell_type": "code",
   "execution_count": 25,
   "id": "3e844024-f9a2-42a2-bbd0-695cfdbb78f5",
   "metadata": {
    "execution": {
     "iopub.execute_input": "2022-06-18T11:50:06.431208Z",
     "iopub.status.busy": "2022-06-18T11:50:06.430269Z",
     "iopub.status.idle": "2022-06-18T11:50:06.440779Z",
     "shell.execute_reply": "2022-06-18T11:50:06.439644Z"
    },
    "papermill": {
     "duration": 0.019446,
     "end_time": "2022-06-18T11:50:06.442403",
     "exception": false,
     "start_time": "2022-06-18T11:50:06.422957",
     "status": "completed"
    },
    "tags": []
   },
   "outputs": [
    {
     "data": {
      "text/html": [
       "<style>\n",
       ".list-inline {list-style: none; margin:0; padding: 0}\n",
       ".list-inline>li {display: inline-block}\n",
       ".list-inline>li:not(:last-child)::after {content: \"\\00b7\"; padding: 0 .5ex}\n",
       "</style>\n",
       "<ol class=list-inline><li>339</li><li>339</li></ol>\n"
      ],
      "text/latex": [
       "\\begin{enumerate*}\n",
       "\\item 339\n",
       "\\item 339\n",
       "\\end{enumerate*}\n"
      ],
      "text/markdown": [
       "1. 339\n",
       "2. 339\n",
       "\n",
       "\n"
      ],
      "text/plain": [
       "[1] 339 339"
      ]
     },
     "metadata": {},
     "output_type": "display_data"
    }
   ],
   "source": [
    "dim(gene_corrs_corrected)"
   ]
  },
  {
   "cell_type": "markdown",
   "id": "244b6bde-4ca8-46d1-acc7-b4c35b5d3c62",
   "metadata": {
    "papermill": {
     "duration": 0.006476,
     "end_time": "2022-06-18T11:50:06.455673",
     "exception": false,
     "start_time": "2022-06-18T11:50:06.449197",
     "status": "completed"
    },
    "tags": []
   },
   "source": [
    "# Check positive definiteness of corrected matrix"
   ]
  },
  {
   "cell_type": "code",
   "execution_count": 26,
   "id": "0fd5b688-e137-4619-910c-35130d32d600",
   "metadata": {
    "execution": {
     "iopub.execute_input": "2022-06-18T11:50:06.470547Z",
     "iopub.status.busy": "2022-06-18T11:50:06.469558Z",
     "iopub.status.idle": "2022-06-18T11:50:06.526331Z",
     "shell.execute_reply": "2022-06-18T11:50:06.523385Z"
    },
    "papermill": {
     "duration": 0.065753,
     "end_time": "2022-06-18T11:50:06.527867",
     "exception": false,
     "start_time": "2022-06-18T11:50:06.462114",
     "status": "completed"
    },
    "tags": []
   },
   "outputs": [
    {
     "data": {
      "text/html": [
       "'Matrix is already positive definite!'"
      ],
      "text/latex": [
       "'Matrix is already positive definite!'"
      ],
      "text/markdown": [
       "'Matrix is already positive definite!'"
      ],
      "text/plain": [
       "[1] \"Matrix is already positive definite!\""
      ]
     },
     "metadata": {},
     "output_type": "display_data"
    },
    {
     "data": {
      "text/html": [
       "TRUE"
      ],
      "text/latex": [
       "TRUE"
      ],
      "text/markdown": [
       "TRUE"
      ],
      "text/plain": [
       "[1] TRUE"
      ]
     },
     "metadata": {},
     "output_type": "display_data"
    }
   ],
   "source": [
    "is_positive_definite(gene_corrs_corrected)"
   ]
  },
  {
   "cell_type": "code",
   "execution_count": 27,
   "id": "06d23ab8-bebb-474c-be33-dca7e53c1717",
   "metadata": {
    "execution": {
     "iopub.execute_input": "2022-06-18T11:50:06.552695Z",
     "iopub.status.busy": "2022-06-18T11:50:06.551571Z",
     "iopub.status.idle": "2022-06-18T11:50:06.609090Z",
     "shell.execute_reply": "2022-06-18T11:50:06.606916Z"
    },
    "papermill": {
     "duration": 0.073428,
     "end_time": "2022-06-18T11:50:06.610594",
     "exception": false,
     "start_time": "2022-06-18T11:50:06.537166",
     "status": "completed"
    },
    "tags": []
   },
   "outputs": [],
   "source": [
    "# see eigenvalues\n",
    "eigenvalues <- eigen(gene_corrs_corrected)$values"
   ]
  },
  {
   "cell_type": "code",
   "execution_count": 28,
   "id": "ddf8afb8-e0e2-4b4e-876d-12bd6856c1ad",
   "metadata": {
    "execution": {
     "iopub.execute_input": "2022-06-18T11:50:06.634044Z",
     "iopub.status.busy": "2022-06-18T11:50:06.633123Z",
     "iopub.status.idle": "2022-06-18T11:50:06.659219Z",
     "shell.execute_reply": "2022-06-18T11:50:06.656078Z"
    },
    "papermill": {
     "duration": 0.040279,
     "end_time": "2022-06-18T11:50:06.660731",
     "exception": false,
     "start_time": "2022-06-18T11:50:06.620452",
     "status": "completed"
    },
    "tags": []
   },
   "outputs": [
    {
     "data": {
      "text/html": [
       "0"
      ],
      "text/latex": [
       "0"
      ],
      "text/markdown": [
       "0"
      ],
      "text/plain": [
       "[1] 0"
      ]
     },
     "metadata": {},
     "output_type": "display_data"
    },
    {
     "data": {
      "text/html": [],
      "text/latex": [],
      "text/markdown": [],
      "text/plain": [
       "numeric(0)"
      ]
     },
     "metadata": {},
     "output_type": "display_data"
    }
   ],
   "source": [
    "nonpositive_eigenvalues <- eigenvalues[eigenvalues <= 0]\n",
    "IRdisplay::display(length(nonpositive_eigenvalues))\n",
    "IRdisplay::display(nonpositive_eigenvalues)"
   ]
  },
  {
   "cell_type": "code",
   "execution_count": 29,
   "id": "712fd71a-b6ec-4a13-a956-80c99be7f585",
   "metadata": {
    "execution": {
     "iopub.execute_input": "2022-06-18T11:50:06.675878Z",
     "iopub.status.busy": "2022-06-18T11:50:06.674857Z",
     "iopub.status.idle": "2022-06-18T11:50:06.688376Z",
     "shell.execute_reply": "2022-06-18T11:50:06.685785Z"
    },
    "papermill": {
     "duration": 0.022701,
     "end_time": "2022-06-18T11:50:06.690067",
     "exception": false,
     "start_time": "2022-06-18T11:50:06.667366",
     "status": "completed"
    },
    "tags": []
   },
   "outputs": [],
   "source": [
    "stopifnot(length(eigenvalues[eigenvalues <= 0]) == 0)"
   ]
  },
  {
   "cell_type": "code",
   "execution_count": 30,
   "id": "786d6336-3844-40f7-979b-6d6028787f7f",
   "metadata": {
    "execution": {
     "iopub.execute_input": "2022-06-18T11:50:06.705516Z",
     "iopub.status.busy": "2022-06-18T11:50:06.704542Z",
     "iopub.status.idle": "2022-06-18T11:50:06.731038Z",
     "shell.execute_reply": "2022-06-18T11:50:06.729891Z"
    },
    "papermill": {
     "duration": 0.035669,
     "end_time": "2022-06-18T11:50:06.732629",
     "exception": false,
     "start_time": "2022-06-18T11:50:06.696960",
     "status": "completed"
    },
    "tags": []
   },
   "outputs": [
    {
     "data": {
      "text/html": [
       "<table class=\"dataframe\">\n",
       "<caption>A data.frame: 6 × 10</caption>\n",
       "<thead>\n",
       "\t<tr><th></th><th scope=col>ENSG00000137265</th><th scope=col>ENSG00000112685</th><th scope=col>ENSG00000112699</th><th scope=col>ENSG00000124570</th><th scope=col>ENSG00000137275</th><th scope=col>ENSG00000137267</th><th scope=col>ENSG00000112739</th><th scope=col>ENSG00000153046</th><th scope=col>ENSG00000145982</th><th scope=col>ENSG00000124491</th></tr>\n",
       "\t<tr><th></th><th scope=col>&lt;dbl&gt;</th><th scope=col>&lt;dbl&gt;</th><th scope=col>&lt;dbl&gt;</th><th scope=col>&lt;dbl&gt;</th><th scope=col>&lt;dbl&gt;</th><th scope=col>&lt;dbl&gt;</th><th scope=col>&lt;dbl&gt;</th><th scope=col>&lt;dbl&gt;</th><th scope=col>&lt;dbl&gt;</th><th scope=col>&lt;dbl&gt;</th></tr>\n",
       "</thead>\n",
       "<tbody>\n",
       "\t<tr><th scope=row>ENSG00000137265</th><td> 1.000000000</td><td>-0.27809026</td><td>-0.177070395</td><td> 0.09827798</td><td> 0.009274999</td><td> 0.01900055</td><td>-0.11003145</td><td> 0.01663026</td><td> 0.09539731</td><td> 0.00000000</td></tr>\n",
       "\t<tr><th scope=row>ENSG00000112685</th><td>-0.278090259</td><td> 1.00000000</td><td>-0.101520677</td><td>-0.08038313</td><td> 0.240844468</td><td> 0.10141871</td><td> 0.18877883</td><td> 0.01610206</td><td> 0.01665490</td><td> 0.00000000</td></tr>\n",
       "\t<tr><th scope=row>ENSG00000112699</th><td>-0.177070395</td><td>-0.10152068</td><td> 1.000000000</td><td>-0.06915009</td><td> 0.007904048</td><td>-0.07162800</td><td>-0.12961447</td><td> 0.01359337</td><td>-0.05033236</td><td> 0.08622933</td></tr>\n",
       "\t<tr><th scope=row>ENSG00000124570</th><td> 0.098277977</td><td>-0.08038313</td><td>-0.069150087</td><td> 1.00000000</td><td> 0.193548169</td><td> 0.07951803</td><td>-0.03731162</td><td>-0.02430548</td><td> 0.02961757</td><td>-0.01736038</td></tr>\n",
       "\t<tr><th scope=row>ENSG00000137275</th><td> 0.009274999</td><td> 0.24084447</td><td> 0.007904048</td><td> 0.19354817</td><td> 1.000000000</td><td>-0.06516748</td><td>-0.01667263</td><td>-0.16261081</td><td>-0.07714674</td><td>-0.07548545</td></tr>\n",
       "\t<tr><th scope=row>ENSG00000137267</th><td> 0.019000552</td><td> 0.10141871</td><td>-0.071627999</td><td> 0.07951803</td><td>-0.065167480</td><td> 1.00000000</td><td>-0.09737381</td><td> 0.07528770</td><td>-0.04259903</td><td>-0.02268582</td></tr>\n",
       "</tbody>\n",
       "</table>\n"
      ],
      "text/latex": [
       "A data.frame: 6 × 10\n",
       "\\begin{tabular}{r|llllllllll}\n",
       "  & ENSG00000137265 & ENSG00000112685 & ENSG00000112699 & ENSG00000124570 & ENSG00000137275 & ENSG00000137267 & ENSG00000112739 & ENSG00000153046 & ENSG00000145982 & ENSG00000124491\\\\\n",
       "  & <dbl> & <dbl> & <dbl> & <dbl> & <dbl> & <dbl> & <dbl> & <dbl> & <dbl> & <dbl>\\\\\n",
       "\\hline\n",
       "\tENSG00000137265 &  1.000000000 & -0.27809026 & -0.177070395 &  0.09827798 &  0.009274999 &  0.01900055 & -0.11003145 &  0.01663026 &  0.09539731 &  0.00000000\\\\\n",
       "\tENSG00000112685 & -0.278090259 &  1.00000000 & -0.101520677 & -0.08038313 &  0.240844468 &  0.10141871 &  0.18877883 &  0.01610206 &  0.01665490 &  0.00000000\\\\\n",
       "\tENSG00000112699 & -0.177070395 & -0.10152068 &  1.000000000 & -0.06915009 &  0.007904048 & -0.07162800 & -0.12961447 &  0.01359337 & -0.05033236 &  0.08622933\\\\\n",
       "\tENSG00000124570 &  0.098277977 & -0.08038313 & -0.069150087 &  1.00000000 &  0.193548169 &  0.07951803 & -0.03731162 & -0.02430548 &  0.02961757 & -0.01736038\\\\\n",
       "\tENSG00000137275 &  0.009274999 &  0.24084447 &  0.007904048 &  0.19354817 &  1.000000000 & -0.06516748 & -0.01667263 & -0.16261081 & -0.07714674 & -0.07548545\\\\\n",
       "\tENSG00000137267 &  0.019000552 &  0.10141871 & -0.071627999 &  0.07951803 & -0.065167480 &  1.00000000 & -0.09737381 &  0.07528770 & -0.04259903 & -0.02268582\\\\\n",
       "\\end{tabular}\n"
      ],
      "text/markdown": [
       "\n",
       "A data.frame: 6 × 10\n",
       "\n",
       "| <!--/--> | ENSG00000137265 &lt;dbl&gt; | ENSG00000112685 &lt;dbl&gt; | ENSG00000112699 &lt;dbl&gt; | ENSG00000124570 &lt;dbl&gt; | ENSG00000137275 &lt;dbl&gt; | ENSG00000137267 &lt;dbl&gt; | ENSG00000112739 &lt;dbl&gt; | ENSG00000153046 &lt;dbl&gt; | ENSG00000145982 &lt;dbl&gt; | ENSG00000124491 &lt;dbl&gt; |\n",
       "|---|---|---|---|---|---|---|---|---|---|---|\n",
       "| ENSG00000137265 |  1.000000000 | -0.27809026 | -0.177070395 |  0.09827798 |  0.009274999 |  0.01900055 | -0.11003145 |  0.01663026 |  0.09539731 |  0.00000000 |\n",
       "| ENSG00000112685 | -0.278090259 |  1.00000000 | -0.101520677 | -0.08038313 |  0.240844468 |  0.10141871 |  0.18877883 |  0.01610206 |  0.01665490 |  0.00000000 |\n",
       "| ENSG00000112699 | -0.177070395 | -0.10152068 |  1.000000000 | -0.06915009 |  0.007904048 | -0.07162800 | -0.12961447 |  0.01359337 | -0.05033236 |  0.08622933 |\n",
       "| ENSG00000124570 |  0.098277977 | -0.08038313 | -0.069150087 |  1.00000000 |  0.193548169 |  0.07951803 | -0.03731162 | -0.02430548 |  0.02961757 | -0.01736038 |\n",
       "| ENSG00000137275 |  0.009274999 |  0.24084447 |  0.007904048 |  0.19354817 |  1.000000000 | -0.06516748 | -0.01667263 | -0.16261081 | -0.07714674 | -0.07548545 |\n",
       "| ENSG00000137267 |  0.019000552 |  0.10141871 | -0.071627999 |  0.07951803 | -0.065167480 |  1.00000000 | -0.09737381 |  0.07528770 | -0.04259903 | -0.02268582 |\n",
       "\n"
      ],
      "text/plain": [
       "                ENSG00000137265 ENSG00000112685 ENSG00000112699 ENSG00000124570\n",
       "ENSG00000137265  1.000000000    -0.27809026     -0.177070395     0.09827798    \n",
       "ENSG00000112685 -0.278090259     1.00000000     -0.101520677    -0.08038313    \n",
       "ENSG00000112699 -0.177070395    -0.10152068      1.000000000    -0.06915009    \n",
       "ENSG00000124570  0.098277977    -0.08038313     -0.069150087     1.00000000    \n",
       "ENSG00000137275  0.009274999     0.24084447      0.007904048     0.19354817    \n",
       "ENSG00000137267  0.019000552     0.10141871     -0.071627999     0.07951803    \n",
       "                ENSG00000137275 ENSG00000137267 ENSG00000112739 ENSG00000153046\n",
       "ENSG00000137265  0.009274999     0.01900055     -0.11003145      0.01663026    \n",
       "ENSG00000112685  0.240844468     0.10141871      0.18877883      0.01610206    \n",
       "ENSG00000112699  0.007904048    -0.07162800     -0.12961447      0.01359337    \n",
       "ENSG00000124570  0.193548169     0.07951803     -0.03731162     -0.02430548    \n",
       "ENSG00000137275  1.000000000    -0.06516748     -0.01667263     -0.16261081    \n",
       "ENSG00000137267 -0.065167480     1.00000000     -0.09737381      0.07528770    \n",
       "                ENSG00000145982 ENSG00000124491\n",
       "ENSG00000137265  0.09539731      0.00000000    \n",
       "ENSG00000112685  0.01665490      0.00000000    \n",
       "ENSG00000112699 -0.05033236      0.08622933    \n",
       "ENSG00000124570  0.02961757     -0.01736038    \n",
       "ENSG00000137275 -0.07714674     -0.07548545    \n",
       "ENSG00000137267 -0.04259903     -0.02268582    "
      ]
     },
     "metadata": {},
     "output_type": "display_data"
    },
    {
     "data": {
      "text/html": [
       "<table class=\"dataframe\">\n",
       "<caption>A data.frame: 6 × 10</caption>\n",
       "<thead>\n",
       "\t<tr><th></th><th scope=col>ENSG00000137265</th><th scope=col>ENSG00000112685</th><th scope=col>ENSG00000112699</th><th scope=col>ENSG00000124570</th><th scope=col>ENSG00000137275</th><th scope=col>ENSG00000137267</th><th scope=col>ENSG00000112739</th><th scope=col>ENSG00000153046</th><th scope=col>ENSG00000145982</th><th scope=col>ENSG00000124491</th></tr>\n",
       "\t<tr><th></th><th scope=col>&lt;dbl&gt;</th><th scope=col>&lt;dbl&gt;</th><th scope=col>&lt;dbl&gt;</th><th scope=col>&lt;dbl&gt;</th><th scope=col>&lt;dbl&gt;</th><th scope=col>&lt;dbl&gt;</th><th scope=col>&lt;dbl&gt;</th><th scope=col>&lt;dbl&gt;</th><th scope=col>&lt;dbl&gt;</th><th scope=col>&lt;dbl&gt;</th></tr>\n",
       "</thead>\n",
       "<tbody>\n",
       "\t<tr><th scope=row>ENSG00000137265</th><td> 1.00000000</td><td>-0.12027295</td><td>-0.05288600</td><td> 0.07110942</td><td>-0.02861347</td><td> 0.01064101</td><td>-0.07314275</td><td> 0.008969699</td><td> 0.05993289</td><td>-0.01962484</td></tr>\n",
       "\t<tr><th scope=row>ENSG00000112685</th><td>-0.12027295</td><td> 1.00000000</td><td>-0.03003273</td><td>-0.01723853</td><td> 0.08190161</td><td> 0.02057133</td><td> 0.10630067</td><td>-0.010750120</td><td>-0.03766669</td><td>-0.01625513</td></tr>\n",
       "\t<tr><th scope=row>ENSG00000112699</th><td>-0.05288600</td><td>-0.03003273</td><td> 1.00000000</td><td>-0.04296567</td><td>-0.01938090</td><td>-0.03126121</td><td>-0.04425201</td><td>-0.007158365</td><td>-0.03680762</td><td> 0.04300042</td></tr>\n",
       "\t<tr><th scope=row>ENSG00000124570</th><td> 0.07110942</td><td>-0.01723853</td><td>-0.04296567</td><td> 1.00000000</td><td> 0.06988945</td><td> 0.03786483</td><td>-0.03348792</td><td>-0.034760124</td><td> 0.01419730</td><td>-0.01727914</td></tr>\n",
       "\t<tr><th scope=row>ENSG00000137275</th><td>-0.02861347</td><td> 0.08190161</td><td>-0.01938090</td><td> 0.06988945</td><td> 1.00000000</td><td>-0.01257234</td><td> 0.03625025</td><td>-0.079703331</td><td>-0.01963157</td><td>-0.03767028</td></tr>\n",
       "\t<tr><th scope=row>ENSG00000137267</th><td> 0.01064101</td><td> 0.02057133</td><td>-0.03126121</td><td> 0.03786483</td><td>-0.01257234</td><td> 1.00000000</td><td>-0.03837867</td><td> 0.033169726</td><td>-0.02585493</td><td>-0.02349812</td></tr>\n",
       "</tbody>\n",
       "</table>\n"
      ],
      "text/latex": [
       "A data.frame: 6 × 10\n",
       "\\begin{tabular}{r|llllllllll}\n",
       "  & ENSG00000137265 & ENSG00000112685 & ENSG00000112699 & ENSG00000124570 & ENSG00000137275 & ENSG00000137267 & ENSG00000112739 & ENSG00000153046 & ENSG00000145982 & ENSG00000124491\\\\\n",
       "  & <dbl> & <dbl> & <dbl> & <dbl> & <dbl> & <dbl> & <dbl> & <dbl> & <dbl> & <dbl>\\\\\n",
       "\\hline\n",
       "\tENSG00000137265 &  1.00000000 & -0.12027295 & -0.05288600 &  0.07110942 & -0.02861347 &  0.01064101 & -0.07314275 &  0.008969699 &  0.05993289 & -0.01962484\\\\\n",
       "\tENSG00000112685 & -0.12027295 &  1.00000000 & -0.03003273 & -0.01723853 &  0.08190161 &  0.02057133 &  0.10630067 & -0.010750120 & -0.03766669 & -0.01625513\\\\\n",
       "\tENSG00000112699 & -0.05288600 & -0.03003273 &  1.00000000 & -0.04296567 & -0.01938090 & -0.03126121 & -0.04425201 & -0.007158365 & -0.03680762 &  0.04300042\\\\\n",
       "\tENSG00000124570 &  0.07110942 & -0.01723853 & -0.04296567 &  1.00000000 &  0.06988945 &  0.03786483 & -0.03348792 & -0.034760124 &  0.01419730 & -0.01727914\\\\\n",
       "\tENSG00000137275 & -0.02861347 &  0.08190161 & -0.01938090 &  0.06988945 &  1.00000000 & -0.01257234 &  0.03625025 & -0.079703331 & -0.01963157 & -0.03767028\\\\\n",
       "\tENSG00000137267 &  0.01064101 &  0.02057133 & -0.03126121 &  0.03786483 & -0.01257234 &  1.00000000 & -0.03837867 &  0.033169726 & -0.02585493 & -0.02349812\\\\\n",
       "\\end{tabular}\n"
      ],
      "text/markdown": [
       "\n",
       "A data.frame: 6 × 10\n",
       "\n",
       "| <!--/--> | ENSG00000137265 &lt;dbl&gt; | ENSG00000112685 &lt;dbl&gt; | ENSG00000112699 &lt;dbl&gt; | ENSG00000124570 &lt;dbl&gt; | ENSG00000137275 &lt;dbl&gt; | ENSG00000137267 &lt;dbl&gt; | ENSG00000112739 &lt;dbl&gt; | ENSG00000153046 &lt;dbl&gt; | ENSG00000145982 &lt;dbl&gt; | ENSG00000124491 &lt;dbl&gt; |\n",
       "|---|---|---|---|---|---|---|---|---|---|---|\n",
       "| ENSG00000137265 |  1.00000000 | -0.12027295 | -0.05288600 |  0.07110942 | -0.02861347 |  0.01064101 | -0.07314275 |  0.008969699 |  0.05993289 | -0.01962484 |\n",
       "| ENSG00000112685 | -0.12027295 |  1.00000000 | -0.03003273 | -0.01723853 |  0.08190161 |  0.02057133 |  0.10630067 | -0.010750120 | -0.03766669 | -0.01625513 |\n",
       "| ENSG00000112699 | -0.05288600 | -0.03003273 |  1.00000000 | -0.04296567 | -0.01938090 | -0.03126121 | -0.04425201 | -0.007158365 | -0.03680762 |  0.04300042 |\n",
       "| ENSG00000124570 |  0.07110942 | -0.01723853 | -0.04296567 |  1.00000000 |  0.06988945 |  0.03786483 | -0.03348792 | -0.034760124 |  0.01419730 | -0.01727914 |\n",
       "| ENSG00000137275 | -0.02861347 |  0.08190161 | -0.01938090 |  0.06988945 |  1.00000000 | -0.01257234 |  0.03625025 | -0.079703331 | -0.01963157 | -0.03767028 |\n",
       "| ENSG00000137267 |  0.01064101 |  0.02057133 | -0.03126121 |  0.03786483 | -0.01257234 |  1.00000000 | -0.03837867 |  0.033169726 | -0.02585493 | -0.02349812 |\n",
       "\n"
      ],
      "text/plain": [
       "                ENSG00000137265 ENSG00000112685 ENSG00000112699 ENSG00000124570\n",
       "ENSG00000137265  1.00000000     -0.12027295     -0.05288600      0.07110942    \n",
       "ENSG00000112685 -0.12027295      1.00000000     -0.03003273     -0.01723853    \n",
       "ENSG00000112699 -0.05288600     -0.03003273      1.00000000     -0.04296567    \n",
       "ENSG00000124570  0.07110942     -0.01723853     -0.04296567      1.00000000    \n",
       "ENSG00000137275 -0.02861347      0.08190161     -0.01938090      0.06988945    \n",
       "ENSG00000137267  0.01064101      0.02057133     -0.03126121      0.03786483    \n",
       "                ENSG00000137275 ENSG00000137267 ENSG00000112739 ENSG00000153046\n",
       "ENSG00000137265 -0.02861347      0.01064101     -0.07314275      0.008969699   \n",
       "ENSG00000112685  0.08190161      0.02057133      0.10630067     -0.010750120   \n",
       "ENSG00000112699 -0.01938090     -0.03126121     -0.04425201     -0.007158365   \n",
       "ENSG00000124570  0.06988945      0.03786483     -0.03348792     -0.034760124   \n",
       "ENSG00000137275  1.00000000     -0.01257234      0.03625025     -0.079703331   \n",
       "ENSG00000137267 -0.01257234      1.00000000     -0.03837867      0.033169726   \n",
       "                ENSG00000145982 ENSG00000124491\n",
       "ENSG00000137265  0.05993289     -0.01962484    \n",
       "ENSG00000112685 -0.03766669     -0.01625513    \n",
       "ENSG00000112699 -0.03680762      0.04300042    \n",
       "ENSG00000124570  0.01419730     -0.01727914    \n",
       "ENSG00000137275 -0.01963157     -0.03767028    \n",
       "ENSG00000137267 -0.02585493     -0.02349812    "
      ]
     },
     "metadata": {},
     "output_type": "display_data"
    }
   ],
   "source": [
    "# quick and visual comparison of the two matrices\n",
    "IRdisplay::display(head(gene_corrs[1:10, 1:10]))\n",
    "IRdisplay::display(head(gene_corrs_corrected[1:10, 1:10]))"
   ]
  },
  {
   "cell_type": "markdown",
   "id": "c6c40f1a-d153-475a-94eb-c71697ad9d51",
   "metadata": {
    "papermill": {
     "duration": 0.007134,
     "end_time": "2022-06-18T11:50:06.747143",
     "exception": false,
     "start_time": "2022-06-18T11:50:06.740009",
     "status": "completed"
    },
    "tags": []
   },
   "source": [
    "Both matrices should \"look\" similar. We are not interested in perfectly accurate correlation values (they are already inaccurate)."
   ]
  },
  {
   "cell_type": "markdown",
   "id": "bf0f49cb-9c21-4616-8390-bb68d52dae56",
   "metadata": {
    "papermill": {
     "duration": 0.006919,
     "end_time": "2022-06-18T11:50:06.761170",
     "exception": false,
     "start_time": "2022-06-18T11:50:06.754251",
     "status": "completed"
    },
    "tags": []
   },
   "source": [
    "# Save"
   ]
  },
  {
   "cell_type": "code",
   "execution_count": 31,
   "id": "2e58e7f3-a75c-4195-a20e-39e3e3e1cc9a",
   "metadata": {
    "execution": {
     "iopub.execute_input": "2022-06-18T11:50:06.777096Z",
     "iopub.status.busy": "2022-06-18T11:50:06.776101Z",
     "iopub.status.idle": "2022-06-18T11:50:06.809865Z",
     "shell.execute_reply": "2022-06-18T11:50:06.808560Z"
    },
    "papermill": {
     "duration": 0.043345,
     "end_time": "2022-06-18T11:50:06.811593",
     "exception": false,
     "start_time": "2022-06-18T11:50:06.768248",
     "status": "completed"
    },
    "tags": []
   },
   "outputs": [],
   "source": [
    "py_save_object(gene_corrs_corrected, OUTPUT_FILE)"
   ]
  },
  {
   "cell_type": "code",
   "execution_count": null,
   "id": "d8ae4220-2171-460c-9231-cd5219f3fe77",
   "metadata": {
    "papermill": {
     "duration": 0.007365,
     "end_time": "2022-06-18T11:50:06.831623",
     "exception": false,
     "start_time": "2022-06-18T11:50:06.824258",
     "status": "completed"
    },
    "tags": []
   },
   "outputs": [],
   "source": []
  }
 ],
 "metadata": {
  "jupytext": {
   "cell_metadata_filter": "all,-execution,-papermill,-trusted"
  },
  "kernelspec": {
   "display_name": "R",
   "language": "R",
   "name": "ir"
  },
  "language_info": {
   "codemirror_mode": "r",
   "file_extension": ".r",
   "mimetype": "text/x-r-source",
   "name": "R",
   "pygments_lexer": "r",
   "version": "3.6.3"
  },
  "papermill": {
   "default_parameters": {},
   "duration": 6.431084,
   "end_time": "2022-06-18T11:50:06.956209",
   "environment_variables": {},
   "exception": null,
   "input_path": "nbs/15_gsa_gls/12-gene_expr_correlations-adjust.ipynb",
   "output_path": "nbs/15_gsa_gls/gene_corrs/gtex_v8/mashr/12-gene_expr_correlations-adjust-chr6.run.ipynb",
   "parameters": {
    "EQTL_MODEL": "MASHR",
    "REFERENCE_PANEL": "GTEX_V8",
    "chromosome": 6
   },
   "start_time": "2022-06-18T11:50:00.525125",
   "version": "2.3.4"
  }
 },
 "nbformat": 4,
 "nbformat_minor": 5
}
