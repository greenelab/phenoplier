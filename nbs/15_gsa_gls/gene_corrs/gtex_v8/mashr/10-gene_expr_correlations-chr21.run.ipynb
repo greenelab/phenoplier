{
 "cells": [
  {
   "cell_type": "markdown",
   "id": "7a6632fb",
   "metadata": {
    "papermill": {
     "duration": 0.006721,
     "end_time": "2022-06-16T23:43:02.284732",
     "exception": false,
     "start_time": "2022-06-16T23:43:02.278011",
     "status": "completed"
    },
    "tags": []
   },
   "source": [
    "# Description"
   ]
  },
  {
   "cell_type": "markdown",
   "id": "7097c346",
   "metadata": {
    "papermill": {
     "duration": 0.005523,
     "end_time": "2022-06-16T23:43:02.302241",
     "exception": false,
     "start_time": "2022-06-16T23:43:02.296718",
     "status": "completed"
    },
    "tags": []
   },
   "source": [
    "(Please, take a look at the README.md file in this directory for instructions on how to run this notebook)\n",
    "\n",
    "This notebook computes predicted expression correlations between all genes in the MultiPLIER models.\n",
    "\n",
    "It also has a parameter set for papermill to run on a single chromosome to run in parallel (see under `Settings` below).\n",
    "\n",
    "This notebook is not directly run. See README.md."
   ]
  },
  {
   "cell_type": "markdown",
   "id": "c61d8427",
   "metadata": {
    "papermill": {
     "duration": 0.005429,
     "end_time": "2022-06-16T23:43:02.313286",
     "exception": false,
     "start_time": "2022-06-16T23:43:02.307857",
     "status": "completed"
    },
    "tags": []
   },
   "source": [
    "# Modules"
   ]
  },
  {
   "cell_type": "code",
   "execution_count": 1,
   "id": "bbc0234f",
   "metadata": {
    "execution": {
     "iopub.execute_input": "2022-06-16T23:43:02.325451Z",
     "iopub.status.busy": "2022-06-16T23:43:02.325239Z",
     "iopub.status.idle": "2022-06-16T23:43:02.341845Z",
     "shell.execute_reply": "2022-06-16T23:43:02.341246Z"
    },
    "papermill": {
     "duration": 0.0247,
     "end_time": "2022-06-16T23:43:02.343595",
     "exception": false,
     "start_time": "2022-06-16T23:43:02.318895",
     "status": "completed"
    },
    "tags": []
   },
   "outputs": [],
   "source": [
    "%load_ext autoreload\n",
    "%autoreload 2"
   ]
  },
  {
   "cell_type": "code",
   "execution_count": 2,
   "id": "1d5f5a59",
   "metadata": {
    "execution": {
     "iopub.execute_input": "2022-06-16T23:43:02.356808Z",
     "iopub.status.busy": "2022-06-16T23:43:02.356425Z",
     "iopub.status.idle": "2022-06-16T23:43:03.396459Z",
     "shell.execute_reply": "2022-06-16T23:43:03.395831Z"
    },
    "papermill": {
     "duration": 1.048308,
     "end_time": "2022-06-16T23:43:03.397981",
     "exception": false,
     "start_time": "2022-06-16T23:43:02.349673",
     "status": "completed"
    },
    "tags": []
   },
   "outputs": [],
   "source": [
    "from random import sample, seed\n",
    "import warnings\n",
    "from pathlib import Path\n",
    "\n",
    "import numpy as np\n",
    "from scipy.spatial.distance import squareform\n",
    "import pandas as pd\n",
    "from tqdm import tqdm\n",
    "import matplotlib.pyplot as plt\n",
    "import seaborn as sns\n",
    "\n",
    "import conf\n",
    "from entity import Gene"
   ]
  },
  {
   "cell_type": "markdown",
   "id": "1eac24b5",
   "metadata": {
    "papermill": {
     "duration": 0.036304,
     "end_time": "2022-06-16T23:43:03.440922",
     "exception": false,
     "start_time": "2022-06-16T23:43:03.404618",
     "status": "completed"
    },
    "tags": []
   },
   "source": [
    "# Settings"
   ]
  },
  {
   "cell_type": "code",
   "execution_count": 3,
   "id": "ca4560ba",
   "metadata": {
    "execution": {
     "iopub.execute_input": "2022-06-16T23:43:03.462606Z",
     "iopub.status.busy": "2022-06-16T23:43:03.462395Z",
     "iopub.status.idle": "2022-06-16T23:43:03.481336Z",
     "shell.execute_reply": "2022-06-16T23:43:03.480736Z"
    },
    "papermill": {
     "duration": 0.035606,
     "end_time": "2022-06-16T23:43:03.482929",
     "exception": false,
     "start_time": "2022-06-16T23:43:03.447323",
     "status": "completed"
    },
    "tags": [
     "parameters"
    ]
   },
   "outputs": [],
   "source": [
    "# reference panel\n",
    "REFERENCE_PANEL = \"GTEX_V8\"\n",
    "# REFERENCE_PANEL = \"1000G\"\n",
    "\n",
    "# prediction models\n",
    "## mashr\n",
    "EQTL_MODEL = \"MASHR\"\n",
    "EQTL_MODEL_FILES_PREFIX = \"mashr_\"\n",
    "\n",
    "# ## elastic net\n",
    "# EQTL_MODEL = \"ELASTIC_NET\"\n",
    "# EQTL_MODEL_FILES_PREFIX = \"en_\"\n",
    "\n",
    "# make it read the prefix from conf.py\n",
    "EQTL_MODEL_FILES_PREFIX = None\n",
    "\n",
    "# this is the default value used in S-MultiXcan to select the\n",
    "# top principal components of the expression correlation matrix\n",
    "SMULTIXCAN_CONDITION_NUMBER = 30\n",
    "\n",
    "# specifies a single chromosome value\n",
    "# by default, run on all chromosomes\n",
    "chromosome = None"
   ]
  },
  {
   "cell_type": "code",
   "execution_count": 4,
   "id": "37a5bac8",
   "metadata": {
    "execution": {
     "iopub.execute_input": "2022-06-16T23:43:03.496756Z",
     "iopub.status.busy": "2022-06-16T23:43:03.496197Z",
     "iopub.status.idle": "2022-06-16T23:43:03.513038Z",
     "shell.execute_reply": "2022-06-16T23:43:03.512461Z"
    },
    "papermill": {
     "duration": 0.025733,
     "end_time": "2022-06-16T23:43:03.514950",
     "exception": false,
     "start_time": "2022-06-16T23:43:03.489217",
     "status": "completed"
    },
    "tags": [
     "injected-parameters"
    ]
   },
   "outputs": [],
   "source": [
    "# Parameters\n",
    "chromosome = 21\n",
    "REFERENCE_PANEL = \"GTEX_V8\"\n",
    "EQTL_MODEL = \"MASHR\"\n"
   ]
  },
  {
   "cell_type": "code",
   "execution_count": 5,
   "id": "a089c9ff",
   "metadata": {
    "execution": {
     "iopub.execute_input": "2022-06-16T23:43:03.528553Z",
     "iopub.status.busy": "2022-06-16T23:43:03.528354Z",
     "iopub.status.idle": "2022-06-16T23:43:03.545856Z",
     "shell.execute_reply": "2022-06-16T23:43:03.545211Z"
    },
    "papermill": {
     "duration": 0.026303,
     "end_time": "2022-06-16T23:43:03.547595",
     "exception": false,
     "start_time": "2022-06-16T23:43:03.521292",
     "status": "completed"
    },
    "tags": []
   },
   "outputs": [],
   "source": [
    "if EQTL_MODEL_FILES_PREFIX is None:\n",
    "    EQTL_MODEL_FILES_PREFIX = conf.PHENOMEXCAN[\"PREDICTION_MODELS\"][\n",
    "        f\"{EQTL_MODEL}_PREFIX\"\n",
    "    ]"
   ]
  },
  {
   "cell_type": "code",
   "execution_count": 6,
   "id": "8fe24bef",
   "metadata": {
    "execution": {
     "iopub.execute_input": "2022-06-16T23:43:03.561304Z",
     "iopub.status.busy": "2022-06-16T23:43:03.561102Z",
     "iopub.status.idle": "2022-06-16T23:43:03.581643Z",
     "shell.execute_reply": "2022-06-16T23:43:03.580990Z"
    },
    "papermill": {
     "duration": 0.029281,
     "end_time": "2022-06-16T23:43:03.583308",
     "exception": false,
     "start_time": "2022-06-16T23:43:03.554027",
     "status": "completed"
    },
    "tags": []
   },
   "outputs": [
    {
     "data": {
      "text/plain": [
       "'Using eQTL model: MASHR / mashr_'"
      ]
     },
     "metadata": {},
     "output_type": "display_data"
    }
   ],
   "source": [
    "display(f\"Using eQTL model: {EQTL_MODEL} / {EQTL_MODEL_FILES_PREFIX}\")"
   ]
  },
  {
   "cell_type": "code",
   "execution_count": 7,
   "id": "0230ebcb-2c32-4b95-9292-d9a52038e70d",
   "metadata": {
    "execution": {
     "iopub.execute_input": "2022-06-16T23:43:03.597366Z",
     "iopub.status.busy": "2022-06-16T23:43:03.597167Z",
     "iopub.status.idle": "2022-06-16T23:43:03.613883Z",
     "shell.execute_reply": "2022-06-16T23:43:03.613235Z"
    },
    "papermill": {
     "duration": 0.025686,
     "end_time": "2022-06-16T23:43:03.615656",
     "exception": false,
     "start_time": "2022-06-16T23:43:03.589970",
     "status": "completed"
    },
    "tags": []
   },
   "outputs": [],
   "source": [
    "REFERENCE_PANEL_DIR = conf.PHENOMEXCAN[\"LD_BLOCKS\"][f\"{REFERENCE_PANEL}_GENOTYPE_DIR\"]"
   ]
  },
  {
   "cell_type": "code",
   "execution_count": 8,
   "id": "98c4a159-601d-4a22-a1ab-35bd451c25f9",
   "metadata": {
    "execution": {
     "iopub.execute_input": "2022-06-16T23:43:03.629515Z",
     "iopub.status.busy": "2022-06-16T23:43:03.629311Z",
     "iopub.status.idle": "2022-06-16T23:43:03.647696Z",
     "shell.execute_reply": "2022-06-16T23:43:03.647088Z"
    },
    "papermill": {
     "duration": 0.027114,
     "end_time": "2022-06-16T23:43:03.649266",
     "exception": false,
     "start_time": "2022-06-16T23:43:03.622152",
     "status": "completed"
    },
    "tags": []
   },
   "outputs": [
    {
     "data": {
      "text/plain": [
       "'Using reference panel folder: /opt/data/data/phenomexcan/ld_blocks/reference_panel_gtex_v8'"
      ]
     },
     "metadata": {},
     "output_type": "display_data"
    }
   ],
   "source": [
    "display(f\"Using reference panel folder: {str(REFERENCE_PANEL_DIR)}\")"
   ]
  },
  {
   "cell_type": "code",
   "execution_count": 9,
   "id": "396392dc-0340-4540-9b02-e182b833f909",
   "metadata": {
    "execution": {
     "iopub.execute_input": "2022-06-16T23:43:03.663780Z",
     "iopub.status.busy": "2022-06-16T23:43:03.663250Z",
     "iopub.status.idle": "2022-06-16T23:43:03.680185Z",
     "shell.execute_reply": "2022-06-16T23:43:03.679585Z"
    },
    "papermill": {
     "duration": 0.025836,
     "end_time": "2022-06-16T23:43:03.681780",
     "exception": false,
     "start_time": "2022-06-16T23:43:03.655944",
     "status": "completed"
    },
    "tags": []
   },
   "outputs": [],
   "source": [
    "OUTPUT_DIR_BASE = (\n",
    "    conf.PHENOMEXCAN[\"LD_BLOCKS\"][f\"GENE_CORRS_DIR\"]\n",
    "    / REFERENCE_PANEL.lower()\n",
    "    / EQTL_MODEL.lower()\n",
    ")\n",
    "OUTPUT_DIR_BASE.mkdir(parents=True, exist_ok=True)"
   ]
  },
  {
   "cell_type": "code",
   "execution_count": 10,
   "id": "8942c2d3-e53c-4d63-a0eb-b6fce0574d36",
   "metadata": {
    "execution": {
     "iopub.execute_input": "2022-06-16T23:43:03.696022Z",
     "iopub.status.busy": "2022-06-16T23:43:03.695637Z",
     "iopub.status.idle": "2022-06-16T23:43:03.712858Z",
     "shell.execute_reply": "2022-06-16T23:43:03.712322Z"
    },
    "papermill": {
     "duration": 0.026393,
     "end_time": "2022-06-16T23:43:03.714763",
     "exception": false,
     "start_time": "2022-06-16T23:43:03.688370",
     "status": "completed"
    },
    "tags": []
   },
   "outputs": [
    {
     "data": {
      "text/plain": [
       "'Using output dir base: /opt/data/data/phenomexcan/ld_blocks/gene_corrs/gtex_v8/mashr'"
      ]
     },
     "metadata": {},
     "output_type": "display_data"
    }
   ],
   "source": [
    "display(f\"Using output dir base: {OUTPUT_DIR_BASE}\")"
   ]
  },
  {
   "cell_type": "code",
   "execution_count": 11,
   "id": "408aa590",
   "metadata": {
    "execution": {
     "iopub.execute_input": "2022-06-16T23:43:03.729680Z",
     "iopub.status.busy": "2022-06-16T23:43:03.729203Z",
     "iopub.status.idle": "2022-06-16T23:43:03.745791Z",
     "shell.execute_reply": "2022-06-16T23:43:03.745155Z"
    },
    "papermill": {
     "duration": 0.025909,
     "end_time": "2022-06-16T23:43:03.747606",
     "exception": false,
     "start_time": "2022-06-16T23:43:03.721697",
     "status": "completed"
    },
    "tags": []
   },
   "outputs": [],
   "source": [
    "assert (\n",
    "    chromosome is not None\n",
    "), \"You have to select one chromosome (format: number between 1 and 22)\""
   ]
  },
  {
   "cell_type": "code",
   "execution_count": 12,
   "id": "c1c7dd06-80ff-453c-bcb7-0899edce75da",
   "metadata": {
    "execution": {
     "iopub.execute_input": "2022-06-16T23:43:03.761774Z",
     "iopub.status.busy": "2022-06-16T23:43:03.761565Z",
     "iopub.status.idle": "2022-06-16T23:43:03.778038Z",
     "shell.execute_reply": "2022-06-16T23:43:03.777365Z"
    },
    "papermill": {
     "duration": 0.025448,
     "end_time": "2022-06-16T23:43:03.779790",
     "exception": false,
     "start_time": "2022-06-16T23:43:03.754342",
     "status": "completed"
    },
    "tags": []
   },
   "outputs": [],
   "source": [
    "chromosome = str(chromosome)"
   ]
  },
  {
   "cell_type": "code",
   "execution_count": 13,
   "id": "bc17b84c-9c26-47a5-a3ab-7046e72f3ef4",
   "metadata": {
    "execution": {
     "iopub.execute_input": "2022-06-16T23:43:03.794355Z",
     "iopub.status.busy": "2022-06-16T23:43:03.793861Z",
     "iopub.status.idle": "2022-06-16T23:43:03.821906Z",
     "shell.execute_reply": "2022-06-16T23:43:03.821325Z"
    },
    "papermill": {
     "duration": 0.037135,
     "end_time": "2022-06-16T23:43:03.823677",
     "exception": false,
     "start_time": "2022-06-16T23:43:03.786542",
     "status": "completed"
    },
    "tags": []
   },
   "outputs": [
    {
     "data": {
      "text/plain": [
       "'Working on chromosome 21'"
      ]
     },
     "metadata": {},
     "output_type": "display_data"
    }
   ],
   "source": [
    "display(f\"Working on chromosome {chromosome}\")"
   ]
  },
  {
   "cell_type": "markdown",
   "id": "d2ba085e",
   "metadata": {
    "papermill": {
     "duration": 0.007812,
     "end_time": "2022-06-16T23:43:03.838826",
     "exception": false,
     "start_time": "2022-06-16T23:43:03.831014",
     "status": "completed"
    },
    "tags": []
   },
   "source": [
    "# Load data"
   ]
  },
  {
   "cell_type": "markdown",
   "id": "abcc4b3d",
   "metadata": {
    "papermill": {
     "duration": 0.006756,
     "end_time": "2022-06-16T23:43:03.853737",
     "exception": false,
     "start_time": "2022-06-16T23:43:03.846981",
     "status": "completed"
    },
    "tags": []
   },
   "source": [
    "## MultiPLIER Z"
   ]
  },
  {
   "cell_type": "code",
   "execution_count": 14,
   "id": "c48ef527",
   "metadata": {
    "execution": {
     "iopub.execute_input": "2022-06-16T23:43:03.868547Z",
     "iopub.status.busy": "2022-06-16T23:43:03.868352Z",
     "iopub.status.idle": "2022-06-16T23:43:03.915989Z",
     "shell.execute_reply": "2022-06-16T23:43:03.915356Z"
    },
    "papermill": {
     "duration": 0.056849,
     "end_time": "2022-06-16T23:43:03.917527",
     "exception": false,
     "start_time": "2022-06-16T23:43:03.860678",
     "status": "completed"
    },
    "tags": []
   },
   "outputs": [],
   "source": [
    "multiplier_z_genes = pd.read_pickle(\n",
    "    conf.MULTIPLIER[\"MODEL_Z_MATRIX_FILE\"]\n",
    ").index.tolist()"
   ]
  },
  {
   "cell_type": "code",
   "execution_count": 15,
   "id": "0a4ecbd9",
   "metadata": {
    "execution": {
     "iopub.execute_input": "2022-06-16T23:43:03.932716Z",
     "iopub.status.busy": "2022-06-16T23:43:03.932127Z",
     "iopub.status.idle": "2022-06-16T23:43:03.950976Z",
     "shell.execute_reply": "2022-06-16T23:43:03.950312Z"
    },
    "papermill": {
     "duration": 0.028195,
     "end_time": "2022-06-16T23:43:03.952655",
     "exception": false,
     "start_time": "2022-06-16T23:43:03.924460",
     "status": "completed"
    },
    "tags": []
   },
   "outputs": [
    {
     "data": {
      "text/plain": [
       "6750"
      ]
     },
     "execution_count": 15,
     "metadata": {},
     "output_type": "execute_result"
    }
   ],
   "source": [
    "len(multiplier_z_genes)"
   ]
  },
  {
   "cell_type": "code",
   "execution_count": 16,
   "id": "115e8864",
   "metadata": {
    "execution": {
     "iopub.execute_input": "2022-06-16T23:43:03.968137Z",
     "iopub.status.busy": "2022-06-16T23:43:03.967479Z",
     "iopub.status.idle": "2022-06-16T23:43:03.986318Z",
     "shell.execute_reply": "2022-06-16T23:43:03.985679Z"
    },
    "papermill": {
     "duration": 0.02824,
     "end_time": "2022-06-16T23:43:03.987986",
     "exception": false,
     "start_time": "2022-06-16T23:43:03.959746",
     "status": "completed"
    },
    "tags": []
   },
   "outputs": [
    {
     "data": {
      "text/plain": [
       "['GAS6',\n",
       " 'MMP14',\n",
       " 'DSP',\n",
       " 'MARCKSL1',\n",
       " 'SPARC',\n",
       " 'CTSD',\n",
       " 'EPAS1',\n",
       " 'PALLD',\n",
       " 'PHC2',\n",
       " 'LGALS3BP']"
      ]
     },
     "execution_count": 16,
     "metadata": {},
     "output_type": "execute_result"
    }
   ],
   "source": [
    "multiplier_z_genes[:10]"
   ]
  },
  {
   "cell_type": "markdown",
   "id": "7dcb8db7",
   "metadata": {
    "papermill": {
     "duration": 0.006996,
     "end_time": "2022-06-16T23:43:04.002194",
     "exception": false,
     "start_time": "2022-06-16T23:43:03.995198",
     "status": "completed"
    },
    "tags": []
   },
   "source": [
    "## Get gene objects"
   ]
  },
  {
   "cell_type": "code",
   "execution_count": 17,
   "id": "bb932812",
   "metadata": {
    "execution": {
     "iopub.execute_input": "2022-06-16T23:43:04.017434Z",
     "iopub.status.busy": "2022-06-16T23:43:04.016946Z",
     "iopub.status.idle": "2022-06-16T23:43:04.041296Z",
     "shell.execute_reply": "2022-06-16T23:43:04.040697Z"
    },
    "papermill": {
     "duration": 0.033534,
     "end_time": "2022-06-16T23:43:04.042892",
     "exception": false,
     "start_time": "2022-06-16T23:43:04.009358",
     "status": "completed"
    },
    "tags": []
   },
   "outputs": [],
   "source": [
    "multiplier_gene_obj = {\n",
    "    gene_name: Gene(name=gene_name)\n",
    "    for gene_name in multiplier_z_genes\n",
    "    if gene_name in Gene.GENE_NAME_TO_ID_MAP\n",
    "}"
   ]
  },
  {
   "cell_type": "code",
   "execution_count": 18,
   "id": "39533214",
   "metadata": {
    "execution": {
     "iopub.execute_input": "2022-06-16T23:43:04.058595Z",
     "iopub.status.busy": "2022-06-16T23:43:04.058070Z",
     "iopub.status.idle": "2022-06-16T23:43:04.076391Z",
     "shell.execute_reply": "2022-06-16T23:43:04.075766Z"
    },
    "papermill": {
     "duration": 0.027749,
     "end_time": "2022-06-16T23:43:04.078053",
     "exception": false,
     "start_time": "2022-06-16T23:43:04.050304",
     "status": "completed"
    },
    "tags": []
   },
   "outputs": [
    {
     "data": {
      "text/plain": [
       "6454"
      ]
     },
     "execution_count": 18,
     "metadata": {},
     "output_type": "execute_result"
    }
   ],
   "source": [
    "len(multiplier_gene_obj)"
   ]
  },
  {
   "cell_type": "code",
   "execution_count": 19,
   "id": "9a5d0b84",
   "metadata": {
    "execution": {
     "iopub.execute_input": "2022-06-16T23:43:04.093769Z",
     "iopub.status.busy": "2022-06-16T23:43:04.093186Z",
     "iopub.status.idle": "2022-06-16T23:43:04.111535Z",
     "shell.execute_reply": "2022-06-16T23:43:04.110868Z"
    },
    "papermill": {
     "duration": 0.027696,
     "end_time": "2022-06-16T23:43:04.113100",
     "exception": false,
     "start_time": "2022-06-16T23:43:04.085404",
     "status": "completed"
    },
    "tags": []
   },
   "outputs": [
    {
     "data": {
      "text/plain": [
       "'ENSG00000183087'"
      ]
     },
     "execution_count": 19,
     "metadata": {},
     "output_type": "execute_result"
    }
   ],
   "source": [
    "multiplier_gene_obj[\"GAS6\"].ensembl_id"
   ]
  },
  {
   "cell_type": "code",
   "execution_count": 20,
   "id": "e3ffabc7",
   "metadata": {
    "execution": {
     "iopub.execute_input": "2022-06-16T23:43:04.129277Z",
     "iopub.status.busy": "2022-06-16T23:43:04.128722Z",
     "iopub.status.idle": "2022-06-16T23:43:06.375090Z",
     "shell.execute_reply": "2022-06-16T23:43:06.374483Z"
    },
    "papermill": {
     "duration": 2.256268,
     "end_time": "2022-06-16T23:43:06.376837",
     "exception": false,
     "start_time": "2022-06-16T23:43:04.120569",
     "status": "completed"
    },
    "tags": []
   },
   "outputs": [],
   "source": [
    "_gene_obj = list(multiplier_gene_obj.values())\n",
    "\n",
    "genes_info = pd.DataFrame(\n",
    "    {\n",
    "        \"name\": [g.name for g in _gene_obj],\n",
    "        \"id\": [g.ensembl_id for g in _gene_obj],\n",
    "        \"chr\": [g.chromosome for g in _gene_obj],\n",
    "        \"band\": [g.band for g in _gene_obj],\n",
    "        \"start_position\": [g.get_attribute(\"start_position\") for g in _gene_obj],\n",
    "    }\n",
    ")"
   ]
  },
  {
   "cell_type": "code",
   "execution_count": 21,
   "id": "e23519b8",
   "metadata": {
    "execution": {
     "iopub.execute_input": "2022-06-16T23:43:06.391720Z",
     "iopub.status.busy": "2022-06-16T23:43:06.391532Z",
     "iopub.status.idle": "2022-06-16T23:43:06.409534Z",
     "shell.execute_reply": "2022-06-16T23:43:06.408962Z"
    },
    "papermill": {
     "duration": 0.027156,
     "end_time": "2022-06-16T23:43:06.411051",
     "exception": false,
     "start_time": "2022-06-16T23:43:06.383895",
     "status": "completed"
    },
    "tags": []
   },
   "outputs": [
    {
     "data": {
      "text/plain": [
       "(6454, 5)"
      ]
     },
     "execution_count": 21,
     "metadata": {},
     "output_type": "execute_result"
    }
   ],
   "source": [
    "genes_info.shape"
   ]
  },
  {
   "cell_type": "code",
   "execution_count": 22,
   "id": "0d71881c",
   "metadata": {
    "execution": {
     "iopub.execute_input": "2022-06-16T23:43:06.426777Z",
     "iopub.status.busy": "2022-06-16T23:43:06.426584Z",
     "iopub.status.idle": "2022-06-16T23:43:06.451404Z",
     "shell.execute_reply": "2022-06-16T23:43:06.450776Z"
    },
    "papermill": {
     "duration": 0.034616,
     "end_time": "2022-06-16T23:43:06.453055",
     "exception": false,
     "start_time": "2022-06-16T23:43:06.418439",
     "status": "completed"
    },
    "tags": []
   },
   "outputs": [
    {
     "data": {
      "text/html": [
       "<div>\n",
       "<style scoped>\n",
       "    .dataframe tbody tr th:only-of-type {\n",
       "        vertical-align: middle;\n",
       "    }\n",
       "\n",
       "    .dataframe tbody tr th {\n",
       "        vertical-align: top;\n",
       "    }\n",
       "\n",
       "    .dataframe thead th {\n",
       "        text-align: right;\n",
       "    }\n",
       "</style>\n",
       "<table border=\"1\" class=\"dataframe\">\n",
       "  <thead>\n",
       "    <tr style=\"text-align: right;\">\n",
       "      <th></th>\n",
       "      <th>name</th>\n",
       "      <th>id</th>\n",
       "      <th>chr</th>\n",
       "      <th>band</th>\n",
       "      <th>start_position</th>\n",
       "    </tr>\n",
       "  </thead>\n",
       "  <tbody>\n",
       "    <tr>\n",
       "      <th>0</th>\n",
       "      <td>GAS6</td>\n",
       "      <td>ENSG00000183087</td>\n",
       "      <td>13</td>\n",
       "      <td>13q34</td>\n",
       "      <td>113820549.0</td>\n",
       "    </tr>\n",
       "    <tr>\n",
       "      <th>1</th>\n",
       "      <td>MMP14</td>\n",
       "      <td>ENSG00000157227</td>\n",
       "      <td>14</td>\n",
       "      <td>14q11.2</td>\n",
       "      <td>22836560.0</td>\n",
       "    </tr>\n",
       "    <tr>\n",
       "      <th>2</th>\n",
       "      <td>DSP</td>\n",
       "      <td>ENSG00000096696</td>\n",
       "      <td>6</td>\n",
       "      <td>6p24.3</td>\n",
       "      <td>7541617.0</td>\n",
       "    </tr>\n",
       "    <tr>\n",
       "      <th>3</th>\n",
       "      <td>MARCKSL1</td>\n",
       "      <td>ENSG00000175130</td>\n",
       "      <td>1</td>\n",
       "      <td>1p35.1</td>\n",
       "      <td>32333839.0</td>\n",
       "    </tr>\n",
       "    <tr>\n",
       "      <th>4</th>\n",
       "      <td>SPARC</td>\n",
       "      <td>ENSG00000113140</td>\n",
       "      <td>5</td>\n",
       "      <td>5q33.1</td>\n",
       "      <td>151661096.0</td>\n",
       "    </tr>\n",
       "  </tbody>\n",
       "</table>\n",
       "</div>"
      ],
      "text/plain": [
       "       name               id chr     band  start_position\n",
       "0      GAS6  ENSG00000183087  13    13q34     113820549.0\n",
       "1     MMP14  ENSG00000157227  14  14q11.2      22836560.0\n",
       "2       DSP  ENSG00000096696   6   6p24.3       7541617.0\n",
       "3  MARCKSL1  ENSG00000175130   1   1p35.1      32333839.0\n",
       "4     SPARC  ENSG00000113140   5   5q33.1     151661096.0"
      ]
     },
     "execution_count": 22,
     "metadata": {},
     "output_type": "execute_result"
    }
   ],
   "source": [
    "genes_info.head()"
   ]
  },
  {
   "cell_type": "markdown",
   "id": "c8d1038f",
   "metadata": {
    "papermill": {
     "duration": 0.007659,
     "end_time": "2022-06-16T23:43:06.468488",
     "exception": false,
     "start_time": "2022-06-16T23:43:06.460829",
     "status": "completed"
    },
    "tags": []
   },
   "source": [
    "# Test"
   ]
  },
  {
   "cell_type": "code",
   "execution_count": 23,
   "id": "64993abf",
   "metadata": {
    "execution": {
     "iopub.execute_input": "2022-06-16T23:43:06.484997Z",
     "iopub.status.busy": "2022-06-16T23:43:06.484391Z",
     "iopub.status.idle": "2022-06-16T23:43:06.511721Z",
     "shell.execute_reply": "2022-06-16T23:43:06.511051Z"
    },
    "papermill": {
     "duration": 0.037125,
     "end_time": "2022-06-16T23:43:06.513321",
     "exception": false,
     "start_time": "2022-06-16T23:43:06.476196",
     "status": "completed"
    },
    "tags": []
   },
   "outputs": [
    {
     "data": {
      "text/html": [
       "<div>\n",
       "<style scoped>\n",
       "    .dataframe tbody tr th:only-of-type {\n",
       "        vertical-align: middle;\n",
       "    }\n",
       "\n",
       "    .dataframe tbody tr th {\n",
       "        vertical-align: top;\n",
       "    }\n",
       "\n",
       "    .dataframe thead th {\n",
       "        text-align: right;\n",
       "    }\n",
       "</style>\n",
       "<table border=\"1\" class=\"dataframe\">\n",
       "  <thead>\n",
       "    <tr style=\"text-align: right;\">\n",
       "      <th></th>\n",
       "      <th>name</th>\n",
       "      <th>id</th>\n",
       "      <th>chr</th>\n",
       "      <th>band</th>\n",
       "      <th>start_position</th>\n",
       "    </tr>\n",
       "  </thead>\n",
       "  <tbody>\n",
       "    <tr>\n",
       "      <th>17</th>\n",
       "      <td>CSTB</td>\n",
       "      <td>ENSG00000160213</td>\n",
       "      <td>21</td>\n",
       "      <td>21q22.3</td>\n",
       "      <td>43772511.0</td>\n",
       "    </tr>\n",
       "    <tr>\n",
       "      <th>21</th>\n",
       "      <td>ETS2</td>\n",
       "      <td>ENSG00000157557</td>\n",
       "      <td>21</td>\n",
       "      <td>21q22.2</td>\n",
       "      <td>38805307.0</td>\n",
       "    </tr>\n",
       "    <tr>\n",
       "      <th>46</th>\n",
       "      <td>MX1</td>\n",
       "      <td>ENSG00000157601</td>\n",
       "      <td>21</td>\n",
       "      <td>21q22.3</td>\n",
       "      <td>41420304.0</td>\n",
       "    </tr>\n",
       "    <tr>\n",
       "      <th>126</th>\n",
       "      <td>ADARB1</td>\n",
       "      <td>ENSG00000197381</td>\n",
       "      <td>21</td>\n",
       "      <td>21q22.3</td>\n",
       "      <td>45073853.0</td>\n",
       "    </tr>\n",
       "    <tr>\n",
       "      <th>202</th>\n",
       "      <td>CBR3</td>\n",
       "      <td>ENSG00000159231</td>\n",
       "      <td>21</td>\n",
       "      <td>21q22.12</td>\n",
       "      <td>36135079.0</td>\n",
       "    </tr>\n",
       "    <tr>\n",
       "      <th>...</th>\n",
       "      <td>...</td>\n",
       "      <td>...</td>\n",
       "      <td>...</td>\n",
       "      <td>...</td>\n",
       "      <td>...</td>\n",
       "    </tr>\n",
       "    <tr>\n",
       "      <th>5589</th>\n",
       "      <td>TFF3</td>\n",
       "      <td>ENSG00000160180</td>\n",
       "      <td>21</td>\n",
       "      <td>21q22.3</td>\n",
       "      <td>42311667.0</td>\n",
       "    </tr>\n",
       "    <tr>\n",
       "      <th>5675</th>\n",
       "      <td>DYRK1A</td>\n",
       "      <td>ENSG00000157540</td>\n",
       "      <td>21</td>\n",
       "      <td>21q22.13</td>\n",
       "      <td>37365573.0</td>\n",
       "    </tr>\n",
       "    <tr>\n",
       "      <th>5997</th>\n",
       "      <td>COL18A1</td>\n",
       "      <td>ENSG00000182871</td>\n",
       "      <td>21</td>\n",
       "      <td>21q22.3</td>\n",
       "      <td>45405137.0</td>\n",
       "    </tr>\n",
       "    <tr>\n",
       "      <th>6019</th>\n",
       "      <td>SLC5A3</td>\n",
       "      <td>ENSG00000198743</td>\n",
       "      <td>21</td>\n",
       "      <td>21q22.11</td>\n",
       "      <td>34073578.0</td>\n",
       "    </tr>\n",
       "    <tr>\n",
       "      <th>6182</th>\n",
       "      <td>RCAN1</td>\n",
       "      <td>ENSG00000159200</td>\n",
       "      <td>21</td>\n",
       "      <td>21q22.12</td>\n",
       "      <td>34513142.0</td>\n",
       "    </tr>\n",
       "  </tbody>\n",
       "</table>\n",
       "<p>62 rows × 5 columns</p>\n",
       "</div>"
      ],
      "text/plain": [
       "         name               id chr      band  start_position\n",
       "17       CSTB  ENSG00000160213  21   21q22.3      43772511.0\n",
       "21       ETS2  ENSG00000157557  21   21q22.2      38805307.0\n",
       "46        MX1  ENSG00000157601  21   21q22.3      41420304.0\n",
       "126    ADARB1  ENSG00000197381  21   21q22.3      45073853.0\n",
       "202      CBR3  ENSG00000159231  21  21q22.12      36135079.0\n",
       "...       ...              ...  ..       ...             ...\n",
       "5589     TFF3  ENSG00000160180  21   21q22.3      42311667.0\n",
       "5675   DYRK1A  ENSG00000157540  21  21q22.13      37365573.0\n",
       "5997  COL18A1  ENSG00000182871  21   21q22.3      45405137.0\n",
       "6019   SLC5A3  ENSG00000198743  21  21q22.11      34073578.0\n",
       "6182    RCAN1  ENSG00000159200  21  21q22.12      34513142.0\n",
       "\n",
       "[62 rows x 5 columns]"
      ]
     },
     "metadata": {},
     "output_type": "display_data"
    }
   ],
   "source": [
    "chromosome_genes_info = genes_info[genes_info[\"chr\"] == chromosome]\n",
    "display(chromosome_genes_info)"
   ]
  },
  {
   "cell_type": "code",
   "execution_count": 24,
   "id": "d2e42726-7de6-46eb-acfc-6323eaa8fae6",
   "metadata": {
    "execution": {
     "iopub.execute_input": "2022-06-16T23:43:06.530519Z",
     "iopub.status.busy": "2022-06-16T23:43:06.529989Z",
     "iopub.status.idle": "2022-06-16T23:43:06.549430Z",
     "shell.execute_reply": "2022-06-16T23:43:06.548815Z"
    },
    "papermill": {
     "duration": 0.029765,
     "end_time": "2022-06-16T23:43:06.551039",
     "exception": false,
     "start_time": "2022-06-16T23:43:06.521274",
     "status": "completed"
    },
    "tags": []
   },
   "outputs": [
    {
     "data": {
      "text/plain": [
       "5"
      ]
     },
     "metadata": {},
     "output_type": "display_data"
    }
   ],
   "source": [
    "seed(0)\n",
    "_gene_list_ids = sample(chromosome_genes_info[\"id\"].tolist(), 5)\n",
    "selected_chromosome_genes_obj = [Gene(ensembl_id=g_id) for g_id in _gene_list_ids]\n",
    "display(len(selected_chromosome_genes_obj))"
   ]
  },
  {
   "cell_type": "code",
   "execution_count": 25,
   "id": "1b355359",
   "metadata": {
    "execution": {
     "iopub.execute_input": "2022-06-16T23:43:06.568438Z",
     "iopub.status.busy": "2022-06-16T23:43:06.567890Z",
     "iopub.status.idle": "2022-06-16T23:43:10.894750Z",
     "shell.execute_reply": "2022-06-16T23:43:10.894184Z"
    },
    "papermill": {
     "duration": 4.337141,
     "end_time": "2022-06-16T23:43:10.896226",
     "exception": false,
     "start_time": "2022-06-16T23:43:06.559085",
     "status": "completed"
    },
    "tags": []
   },
   "outputs": [
    {
     "name": "stdout",
     "output_type": "stream",
     "text": [
      "GART / U2AF1: 0.0\n",
      "GART / UBE2G2: 0.0\n",
      "GART / MRPS6: 0.08301884640917101\n",
      "GART / ATP5J: 0.0\n",
      "U2AF1 / UBE2G2: -0.012778831490191038\n",
      "U2AF1 / MRPS6: 0.0\n",
      "U2AF1 / ATP5J: 0.0\n",
      "UBE2G2 / MRPS6: 0.0\n",
      "UBE2G2 / ATP5J: 0.0\n",
      "MRPS6 / ATP5J: 0.0\n"
     ]
    }
   ],
   "source": [
    "for gene_idx1 in range(0, len(selected_chromosome_genes_obj) - 1):\n",
    "    gene_obj1 = selected_chromosome_genes_obj[gene_idx1]\n",
    "\n",
    "    for gene_idx2 in range(gene_idx1 + 1, len(selected_chromosome_genes_obj)):\n",
    "        gene_obj2 = selected_chromosome_genes_obj[gene_idx2]\n",
    "\n",
    "        c = gene_obj1.get_ssm_correlation(\n",
    "            gene_obj2,\n",
    "        )\n",
    "\n",
    "        print(f\"{gene_obj1.name} / {gene_obj2.name}: {c}\")"
   ]
  },
  {
   "cell_type": "markdown",
   "id": "d3843e06",
   "metadata": {
    "papermill": {
     "duration": 0.008084,
     "end_time": "2022-06-16T23:43:10.914034",
     "exception": false,
     "start_time": "2022-06-16T23:43:10.905950",
     "status": "completed"
    },
    "tags": []
   },
   "source": [
    "# Compute correlation per chromosome"
   ]
  },
  {
   "cell_type": "code",
   "execution_count": 26,
   "id": "cb859c15-d1f3-4006-a74c-2b83c0db9611",
   "metadata": {
    "execution": {
     "iopub.execute_input": "2022-06-16T23:43:10.931499Z",
     "iopub.status.busy": "2022-06-16T23:43:10.931297Z",
     "iopub.status.idle": "2022-06-16T23:43:10.950803Z",
     "shell.execute_reply": "2022-06-16T23:43:10.950163Z"
    },
    "papermill": {
     "duration": 0.030101,
     "end_time": "2022-06-16T23:43:10.952448",
     "exception": false,
     "start_time": "2022-06-16T23:43:10.922347",
     "status": "completed"
    },
    "tags": []
   },
   "outputs": [
    {
     "data": {
      "text/plain": [
       "PosixPath('/opt/data/data/phenomexcan/ld_blocks/gene_corrs/gtex_v8/mashr/by_chr/gene_corrs-chr21.pkl')"
      ]
     },
     "metadata": {},
     "output_type": "display_data"
    }
   ],
   "source": [
    "output_dir = OUTPUT_DIR_BASE / \"by_chr\"\n",
    "output_dir.mkdir(exist_ok=True, parents=True)\n",
    "output_file = output_dir / f\"gene_corrs-chr{chromosome}.pkl\"\n",
    "display(output_file)"
   ]
  },
  {
   "cell_type": "code",
   "execution_count": 27,
   "id": "be36d5db-62cd-4b84-ba2f-ab6033cbdb47",
   "metadata": {
    "execution": {
     "iopub.execute_input": "2022-06-16T23:43:10.970276Z",
     "iopub.status.busy": "2022-06-16T23:43:10.970080Z",
     "iopub.status.idle": "2022-06-16T23:43:10.987613Z",
     "shell.execute_reply": "2022-06-16T23:43:10.986994Z"
    },
    "papermill": {
     "duration": 0.028489,
     "end_time": "2022-06-16T23:43:10.989396",
     "exception": false,
     "start_time": "2022-06-16T23:43:10.960907",
     "status": "completed"
    },
    "tags": []
   },
   "outputs": [],
   "source": [
    "if output_file.exists():\n",
    "    warning.warn(\"Output file exists, skipping\")\n",
    "    import sys\n",
    "\n",
    "    sys.exit(1)"
   ]
  },
  {
   "cell_type": "code",
   "execution_count": 28,
   "id": "aa674fe4-6794-4eed-98fa-32b39d1d4ace",
   "metadata": {
    "execution": {
     "iopub.execute_input": "2022-06-16T23:43:11.007146Z",
     "iopub.status.busy": "2022-06-16T23:43:11.006957Z",
     "iopub.status.idle": "2022-06-16T23:43:11.023780Z",
     "shell.execute_reply": "2022-06-16T23:43:11.023156Z"
    },
    "papermill": {
     "duration": 0.027459,
     "end_time": "2022-06-16T23:43:11.025295",
     "exception": false,
     "start_time": "2022-06-16T23:43:10.997836",
     "status": "completed"
    },
    "tags": []
   },
   "outputs": [],
   "source": [
    "warnings.filterwarnings(\"error\")"
   ]
  },
  {
   "cell_type": "code",
   "execution_count": 29,
   "id": "cdbb90a1",
   "metadata": {
    "execution": {
     "iopub.execute_input": "2022-06-16T23:43:11.043463Z",
     "iopub.status.busy": "2022-06-16T23:43:11.042907Z",
     "iopub.status.idle": "2022-06-17T00:17:21.385238Z",
     "shell.execute_reply": "2022-06-17T00:17:21.384762Z"
    },
    "papermill": {
     "duration": 2050.35277,
     "end_time": "2022-06-17T00:17:21.386610",
     "exception": false,
     "start_time": "2022-06-16T23:43:11.033840",
     "status": "completed"
    },
    "tags": []
   },
   "outputs": [
    {
     "name": "stdout",
     "output_type": "stream",
     "text": [
      "Number of genes in chromosome: 62\n",
      "Number of gene combinations: 1891\n"
     ]
    },
    {
     "name": "stderr",
     "output_type": "stream",
     "text": [
      "ENSG00000160299 / ENSG00000160307: 100%|████████████████████████| 1891/1891 [34:10<00:00,  1.08s/it]"
     ]
    },
    {
     "name": "stdout",
     "output_type": "stream",
     "text": [
      "Min/max values: -0.643290832479265 / 0.6542863950866338\n"
     ]
    },
    {
     "name": "stderr",
     "output_type": "stream",
     "text": [
      "\n"
     ]
    },
    {
     "data": {
      "text/plain": [
       "PosixPath('/opt/data/data/phenomexcan/ld_blocks/gene_corrs/gtex_v8/mashr/by_chr/gene_corrs-chr21.pkl')"
      ]
     },
     "metadata": {},
     "output_type": "display_data"
    }
   ],
   "source": [
    "# standard checks\n",
    "all_chrs = genes_info[\"chr\"].dropna().unique()\n",
    "assert all_chrs.shape[0] == 22\n",
    "\n",
    "# select chromosome given by the user\n",
    "assert chromosome in all_chrs\n",
    "\n",
    "# run only on the chromosome specified\n",
    "all_chrs = [chromosome]\n",
    "genes_chr = genes_info[genes_info[\"chr\"] == chromosome]\n",
    "\n",
    "# For testing purposes\n",
    "# genes_chr = genes_chr.sample(n=20)\n",
    "\n",
    "print(f\"Number of genes in chromosome: {genes_chr.shape[0]}\", flush=True)\n",
    "\n",
    "# sort genes by starting position to make visualizations better later\n",
    "genes_chr = genes_chr.sort_values(\"start_position\")\n",
    "\n",
    "gene_chr_objs = [Gene(ensembl_id=gene_id) for gene_id in genes_chr[\"id\"]]\n",
    "gene_chr_ids = [g.ensembl_id for g in gene_chr_objs]\n",
    "\n",
    "n = len(gene_chr_objs)\n",
    "n_comb = int(n * (n - 1) / 2.0)\n",
    "print(f\"Number of gene combinations: {n_comb}\", flush=True)\n",
    "\n",
    "gene_corrs = []\n",
    "\n",
    "pbar = tqdm(ncols=100, total=n_comb)\n",
    "i = 0\n",
    "for gene_idx1 in range(0, len(gene_chr_objs) - 1):\n",
    "    gene_obj1 = gene_chr_objs[gene_idx1]\n",
    "\n",
    "    for gene_idx2 in range(gene_idx1 + 1, len(gene_chr_objs)):\n",
    "        gene_obj2 = gene_chr_objs[gene_idx2]\n",
    "\n",
    "        pbar.set_description(f\"{gene_obj1.ensembl_id} / {gene_obj2.ensembl_id}\")\n",
    "\n",
    "        try:\n",
    "            # FIXME: compute the correlation of the sum of squares of the model using all\n",
    "            # the available tissues; this could be problematic because for some results\n",
    "            # (computed on a specific phenotype/GWAS) we might not have all the tissues\n",
    "            # available, which can certainly bias the correlation estimation.\n",
    "            # Since this depends on the GWAS on a specific phenotype, we should ideally have\n",
    "            # one correlation matrix per GWAS. I should look at how we can improve this.\n",
    "            gene_corrs.append(\n",
    "                gene_obj1.get_ssm_correlation(\n",
    "                    other_gene=gene_obj2,\n",
    "                    condition_number=SMULTIXCAN_CONDITION_NUMBER,\n",
    "                    reference_panel=REFERENCE_PANEL,\n",
    "                    model_type=EQTL_MODEL,\n",
    "                )\n",
    "            )\n",
    "        except Warning:\n",
    "            print(\n",
    "                f\"RuntimeWarning for genes {gene_obj1.ensembl_id} and {gene_obj2.ensembl_id}\",\n",
    "                flush=True,\n",
    "            )\n",
    "            import traceback\n",
    "\n",
    "            print(traceback.format_exc(), flush=True)\n",
    "        except Exception as e:\n",
    "            print(\n",
    "                f\"Exception for genes {gene_obj1.ensembl_id} and {gene_obj2.ensembl_id}\",\n",
    "                flush=True,\n",
    "            )\n",
    "            import traceback\n",
    "\n",
    "            print(traceback.format_exc(), flush=True)\n",
    "            gene_corrs.append(np.nan)\n",
    "\n",
    "        pbar.update(1)\n",
    "\n",
    "pbar.close()\n",
    "\n",
    "# testing\n",
    "gene_corrs_flat = pd.Series(gene_corrs)\n",
    "print(f\"Min/max values: {gene_corrs_flat.min()} / {gene_corrs_flat.max()}\")\n",
    "assert gene_corrs_flat.min() >= -1.001\n",
    "assert gene_corrs_flat.max() <= 1.001\n",
    "\n",
    "# save\n",
    "# FIXME: consider saving only the condenced matrix here. See here for\n",
    "# more details: https://github.com/greenelab/phenoplier/pull/38#discussion_r634600813\n",
    "gene_corrs_data = squareform(np.array(gene_corrs, dtype=np.float64))\n",
    "np.fill_diagonal(gene_corrs_data, 1.0)\n",
    "\n",
    "gene_corrs_df = pd.DataFrame(\n",
    "    data=gene_corrs_data,\n",
    "    index=gene_chr_ids,\n",
    "    columns=gene_chr_ids,\n",
    ")\n",
    "\n",
    "output_dir.mkdir(exist_ok=True, parents=True)\n",
    "display(output_file)\n",
    "\n",
    "gene_corrs_df.to_pickle(output_file)"
   ]
  },
  {
   "cell_type": "markdown",
   "id": "faa67b51-5373-470f-aa72-2ded53fa6dfe",
   "metadata": {
    "papermill": {
     "duration": 0.100865,
     "end_time": "2022-06-17T00:17:21.623854",
     "exception": false,
     "start_time": "2022-06-17T00:17:21.522989",
     "status": "completed"
    },
    "tags": []
   },
   "source": [
    "# Testing"
   ]
  },
  {
   "cell_type": "code",
   "execution_count": 30,
   "id": "14f7d046-4b55-4896-a56b-990127bcc388",
   "metadata": {
    "execution": {
     "iopub.execute_input": "2022-06-17T00:17:21.865806Z",
     "iopub.status.busy": "2022-06-17T00:17:21.865624Z",
     "iopub.status.idle": "2022-06-17T00:17:21.894937Z",
     "shell.execute_reply": "2022-06-17T00:17:21.894362Z"
    },
    "papermill": {
     "duration": 0.139288,
     "end_time": "2022-06-17T00:17:21.896256",
     "exception": false,
     "start_time": "2022-06-17T00:17:21.756968",
     "status": "completed"
    },
    "tags": []
   },
   "outputs": [
    {
     "data": {
      "text/plain": [
       "(62, 62)"
      ]
     },
     "execution_count": 30,
     "metadata": {},
     "output_type": "execute_result"
    }
   ],
   "source": [
    "gene_corrs_df.shape"
   ]
  },
  {
   "cell_type": "code",
   "execution_count": 31,
   "id": "c7d15414-3297-4537-a7c6-7588c0baeb75",
   "metadata": {
    "execution": {
     "iopub.execute_input": "2022-06-17T00:17:22.125518Z",
     "iopub.status.busy": "2022-06-17T00:17:22.125308Z",
     "iopub.status.idle": "2022-06-17T00:17:22.160128Z",
     "shell.execute_reply": "2022-06-17T00:17:22.159572Z"
    },
    "papermill": {
     "duration": 0.148215,
     "end_time": "2022-06-17T00:17:22.161602",
     "exception": false,
     "start_time": "2022-06-17T00:17:22.013387",
     "status": "completed"
    },
    "tags": []
   },
   "outputs": [
    {
     "data": {
      "text/html": [
       "<div>\n",
       "<style scoped>\n",
       "    .dataframe tbody tr th:only-of-type {\n",
       "        vertical-align: middle;\n",
       "    }\n",
       "\n",
       "    .dataframe tbody tr th {\n",
       "        vertical-align: top;\n",
       "    }\n",
       "\n",
       "    .dataframe thead th {\n",
       "        text-align: right;\n",
       "    }\n",
       "</style>\n",
       "<table border=\"1\" class=\"dataframe\">\n",
       "  <thead>\n",
       "    <tr style=\"text-align: right;\">\n",
       "      <th></th>\n",
       "      <th>ENSG00000155307</th>\n",
       "      <th>ENSG00000180530</th>\n",
       "      <th>ENSG00000154719</th>\n",
       "      <th>ENSG00000154721</th>\n",
       "      <th>ENSG00000154723</th>\n",
       "      <th>ENSG00000142192</th>\n",
       "      <th>ENSG00000154734</th>\n",
       "      <th>ENSG00000156261</th>\n",
       "      <th>ENSG00000171189</th>\n",
       "      <th>ENSG00000156299</th>\n",
       "      <th>...</th>\n",
       "      <th>ENSG00000160255</th>\n",
       "      <th>ENSG00000197381</th>\n",
       "      <th>ENSG00000182871</th>\n",
       "      <th>ENSG00000173638</th>\n",
       "      <th>ENSG00000142156</th>\n",
       "      <th>ENSG00000142173</th>\n",
       "      <th>ENSG00000160282</th>\n",
       "      <th>ENSG00000160285</th>\n",
       "      <th>ENSG00000160299</th>\n",
       "      <th>ENSG00000160307</th>\n",
       "    </tr>\n",
       "  </thead>\n",
       "  <tbody>\n",
       "    <tr>\n",
       "      <th>ENSG00000155307</th>\n",
       "      <td>1.000000</td>\n",
       "      <td>0.119371</td>\n",
       "      <td>0.000000</td>\n",
       "      <td>0.000000</td>\n",
       "      <td>0.000000</td>\n",
       "      <td>0.000000</td>\n",
       "      <td>0.000000</td>\n",
       "      <td>0.000000</td>\n",
       "      <td>0.000000</td>\n",
       "      <td>0.0</td>\n",
       "      <td>...</td>\n",
       "      <td>0.0</td>\n",
       "      <td>0.0</td>\n",
       "      <td>0.0</td>\n",
       "      <td>0.0</td>\n",
       "      <td>0.0</td>\n",
       "      <td>0.0</td>\n",
       "      <td>0.0</td>\n",
       "      <td>0.0</td>\n",
       "      <td>0.0</td>\n",
       "      <td>0.0</td>\n",
       "    </tr>\n",
       "    <tr>\n",
       "      <th>ENSG00000180530</th>\n",
       "      <td>0.119371</td>\n",
       "      <td>1.000000</td>\n",
       "      <td>0.000000</td>\n",
       "      <td>0.000000</td>\n",
       "      <td>0.000000</td>\n",
       "      <td>0.000000</td>\n",
       "      <td>0.000000</td>\n",
       "      <td>0.000000</td>\n",
       "      <td>0.000000</td>\n",
       "      <td>0.0</td>\n",
       "      <td>...</td>\n",
       "      <td>0.0</td>\n",
       "      <td>0.0</td>\n",
       "      <td>0.0</td>\n",
       "      <td>0.0</td>\n",
       "      <td>0.0</td>\n",
       "      <td>0.0</td>\n",
       "      <td>0.0</td>\n",
       "      <td>0.0</td>\n",
       "      <td>0.0</td>\n",
       "      <td>0.0</td>\n",
       "    </tr>\n",
       "    <tr>\n",
       "      <th>ENSG00000154719</th>\n",
       "      <td>0.000000</td>\n",
       "      <td>0.000000</td>\n",
       "      <td>1.000000</td>\n",
       "      <td>0.148487</td>\n",
       "      <td>-0.025067</td>\n",
       "      <td>-0.101164</td>\n",
       "      <td>0.037799</td>\n",
       "      <td>-0.643291</td>\n",
       "      <td>-0.249554</td>\n",
       "      <td>0.0</td>\n",
       "      <td>...</td>\n",
       "      <td>0.0</td>\n",
       "      <td>0.0</td>\n",
       "      <td>0.0</td>\n",
       "      <td>0.0</td>\n",
       "      <td>0.0</td>\n",
       "      <td>0.0</td>\n",
       "      <td>0.0</td>\n",
       "      <td>0.0</td>\n",
       "      <td>0.0</td>\n",
       "      <td>0.0</td>\n",
       "    </tr>\n",
       "    <tr>\n",
       "      <th>ENSG00000154721</th>\n",
       "      <td>0.000000</td>\n",
       "      <td>0.000000</td>\n",
       "      <td>0.148487</td>\n",
       "      <td>1.000000</td>\n",
       "      <td>-0.004689</td>\n",
       "      <td>-0.089143</td>\n",
       "      <td>0.035863</td>\n",
       "      <td>-0.171187</td>\n",
       "      <td>0.010941</td>\n",
       "      <td>0.0</td>\n",
       "      <td>...</td>\n",
       "      <td>0.0</td>\n",
       "      <td>0.0</td>\n",
       "      <td>0.0</td>\n",
       "      <td>0.0</td>\n",
       "      <td>0.0</td>\n",
       "      <td>0.0</td>\n",
       "      <td>0.0</td>\n",
       "      <td>0.0</td>\n",
       "      <td>0.0</td>\n",
       "      <td>0.0</td>\n",
       "    </tr>\n",
       "    <tr>\n",
       "      <th>ENSG00000154723</th>\n",
       "      <td>0.000000</td>\n",
       "      <td>0.000000</td>\n",
       "      <td>-0.025067</td>\n",
       "      <td>-0.004689</td>\n",
       "      <td>1.000000</td>\n",
       "      <td>-0.059149</td>\n",
       "      <td>0.057731</td>\n",
       "      <td>0.046562</td>\n",
       "      <td>0.064937</td>\n",
       "      <td>0.0</td>\n",
       "      <td>...</td>\n",
       "      <td>0.0</td>\n",
       "      <td>0.0</td>\n",
       "      <td>0.0</td>\n",
       "      <td>0.0</td>\n",
       "      <td>0.0</td>\n",
       "      <td>0.0</td>\n",
       "      <td>0.0</td>\n",
       "      <td>0.0</td>\n",
       "      <td>0.0</td>\n",
       "      <td>0.0</td>\n",
       "    </tr>\n",
       "  </tbody>\n",
       "</table>\n",
       "<p>5 rows × 62 columns</p>\n",
       "</div>"
      ],
      "text/plain": [
       "                 ENSG00000155307  ENSG00000180530  ENSG00000154719  \\\n",
       "ENSG00000155307         1.000000         0.119371         0.000000   \n",
       "ENSG00000180530         0.119371         1.000000         0.000000   \n",
       "ENSG00000154719         0.000000         0.000000         1.000000   \n",
       "ENSG00000154721         0.000000         0.000000         0.148487   \n",
       "ENSG00000154723         0.000000         0.000000        -0.025067   \n",
       "\n",
       "                 ENSG00000154721  ENSG00000154723  ENSG00000142192  \\\n",
       "ENSG00000155307         0.000000         0.000000         0.000000   \n",
       "ENSG00000180530         0.000000         0.000000         0.000000   \n",
       "ENSG00000154719         0.148487        -0.025067        -0.101164   \n",
       "ENSG00000154721         1.000000        -0.004689        -0.089143   \n",
       "ENSG00000154723        -0.004689         1.000000        -0.059149   \n",
       "\n",
       "                 ENSG00000154734  ENSG00000156261  ENSG00000171189  \\\n",
       "ENSG00000155307         0.000000         0.000000         0.000000   \n",
       "ENSG00000180530         0.000000         0.000000         0.000000   \n",
       "ENSG00000154719         0.037799        -0.643291        -0.249554   \n",
       "ENSG00000154721         0.035863        -0.171187         0.010941   \n",
       "ENSG00000154723         0.057731         0.046562         0.064937   \n",
       "\n",
       "                 ENSG00000156299  ...  ENSG00000160255  ENSG00000197381  \\\n",
       "ENSG00000155307              0.0  ...              0.0              0.0   \n",
       "ENSG00000180530              0.0  ...              0.0              0.0   \n",
       "ENSG00000154719              0.0  ...              0.0              0.0   \n",
       "ENSG00000154721              0.0  ...              0.0              0.0   \n",
       "ENSG00000154723              0.0  ...              0.0              0.0   \n",
       "\n",
       "                 ENSG00000182871  ENSG00000173638  ENSG00000142156  \\\n",
       "ENSG00000155307              0.0              0.0              0.0   \n",
       "ENSG00000180530              0.0              0.0              0.0   \n",
       "ENSG00000154719              0.0              0.0              0.0   \n",
       "ENSG00000154721              0.0              0.0              0.0   \n",
       "ENSG00000154723              0.0              0.0              0.0   \n",
       "\n",
       "                 ENSG00000142173  ENSG00000160282  ENSG00000160285  \\\n",
       "ENSG00000155307              0.0              0.0              0.0   \n",
       "ENSG00000180530              0.0              0.0              0.0   \n",
       "ENSG00000154719              0.0              0.0              0.0   \n",
       "ENSG00000154721              0.0              0.0              0.0   \n",
       "ENSG00000154723              0.0              0.0              0.0   \n",
       "\n",
       "                 ENSG00000160299  ENSG00000160307  \n",
       "ENSG00000155307              0.0              0.0  \n",
       "ENSG00000180530              0.0              0.0  \n",
       "ENSG00000154719              0.0              0.0  \n",
       "ENSG00000154721              0.0              0.0  \n",
       "ENSG00000154723              0.0              0.0  \n",
       "\n",
       "[5 rows x 62 columns]"
      ]
     },
     "execution_count": 31,
     "metadata": {},
     "output_type": "execute_result"
    }
   ],
   "source": [
    "gene_corrs_df.head()"
   ]
  },
  {
   "cell_type": "code",
   "execution_count": 32,
   "id": "00583efc-7068-4270-ad1e-4a418e91db96",
   "metadata": {
    "execution": {
     "iopub.execute_input": "2022-06-17T00:17:22.370029Z",
     "iopub.status.busy": "2022-06-17T00:17:22.369418Z",
     "iopub.status.idle": "2022-06-17T00:17:22.389011Z",
     "shell.execute_reply": "2022-06-17T00:17:22.388328Z"
    },
    "papermill": {
     "duration": 0.123496,
     "end_time": "2022-06-17T00:17:22.390522",
     "exception": false,
     "start_time": "2022-06-17T00:17:22.267026",
     "status": "completed"
    },
    "tags": []
   },
   "outputs": [
    {
     "data": {
      "text/plain": [
       "-0.643290832479265"
      ]
     },
     "metadata": {},
     "output_type": "display_data"
    }
   ],
   "source": [
    "_min_val = gene_corrs_df.min().min()\n",
    "display(_min_val)\n",
    "assert _min_val >= -1.0"
   ]
  },
  {
   "cell_type": "code",
   "execution_count": 33,
   "id": "d04fb2cf-1050-475b-b855-f5f7cc04092b",
   "metadata": {
    "execution": {
     "iopub.execute_input": "2022-06-17T00:17:22.595430Z",
     "iopub.status.busy": "2022-06-17T00:17:22.595238Z",
     "iopub.status.idle": "2022-06-17T00:17:22.613960Z",
     "shell.execute_reply": "2022-06-17T00:17:22.613363Z"
    },
    "papermill": {
     "duration": 0.121937,
     "end_time": "2022-06-17T00:17:22.615455",
     "exception": false,
     "start_time": "2022-06-17T00:17:22.493518",
     "status": "completed"
    },
    "tags": []
   },
   "outputs": [
    {
     "data": {
      "text/plain": [
       "1.0"
      ]
     },
     "metadata": {},
     "output_type": "display_data"
    }
   ],
   "source": [
    "_max_val = gene_corrs_df.max().max()  # this captures the diagonal\n",
    "display(_max_val)\n",
    "assert _max_val <= 1.0"
   ]
  },
  {
   "cell_type": "code",
   "execution_count": 34,
   "id": "96d02c44-1fba-47be-8a93-8f2608420b9c",
   "metadata": {
    "execution": {
     "iopub.execute_input": "2022-06-17T00:17:22.822004Z",
     "iopub.status.busy": "2022-06-17T00:17:22.821527Z",
     "iopub.status.idle": "2022-06-17T00:17:22.838258Z",
     "shell.execute_reply": "2022-06-17T00:17:22.837675Z"
    },
    "papermill": {
     "duration": 0.121148,
     "end_time": "2022-06-17T00:17:22.839807",
     "exception": false,
     "start_time": "2022-06-17T00:17:22.718659",
     "status": "completed"
    },
    "tags": []
   },
   "outputs": [],
   "source": [
    "# check upper triangular values\n",
    "assert len(gene_corrs) == int(genes_chr.shape[0] * (genes_chr.shape[0] - 1) / 2)"
   ]
  },
  {
   "cell_type": "code",
   "execution_count": 35,
   "id": "aaa51627-f4e3-4744-a41f-7d25adcc0a78",
   "metadata": {
    "execution": {
     "iopub.execute_input": "2022-06-17T00:17:23.082721Z",
     "iopub.status.busy": "2022-06-17T00:17:23.082133Z",
     "iopub.status.idle": "2022-06-17T00:17:23.108613Z",
     "shell.execute_reply": "2022-06-17T00:17:23.108073Z"
    },
    "papermill": {
     "duration": 0.167243,
     "end_time": "2022-06-17T00:17:23.110391",
     "exception": false,
     "start_time": "2022-06-17T00:17:22.943148",
     "status": "completed"
    },
    "tags": []
   },
   "outputs": [],
   "source": [
    "gene_corrs = pd.Series(gene_corrs)"
   ]
  },
  {
   "cell_type": "code",
   "execution_count": 36,
   "id": "fe283586-c348-40e0-8841-f6d97bfb021c",
   "metadata": {
    "execution": {
     "iopub.execute_input": "2022-06-17T00:17:23.322511Z",
     "iopub.status.busy": "2022-06-17T00:17:23.322174Z",
     "iopub.status.idle": "2022-06-17T00:17:23.342946Z",
     "shell.execute_reply": "2022-06-17T00:17:23.342307Z"
    },
    "papermill": {
     "duration": 0.125368,
     "end_time": "2022-06-17T00:17:23.344378",
     "exception": false,
     "start_time": "2022-06-17T00:17:23.219010",
     "status": "completed"
    },
    "tags": []
   },
   "outputs": [
    {
     "data": {
      "text/plain": [
       "count    1891.000000\n",
       "mean       -0.002881\n",
       "std         0.061927\n",
       "min        -0.643291\n",
       "25%         0.000000\n",
       "50%         0.000000\n",
       "75%         0.000000\n",
       "max         0.654286\n",
       "dtype: float64"
      ]
     },
     "execution_count": 36,
     "metadata": {},
     "output_type": "execute_result"
    }
   ],
   "source": [
    "gene_corrs.describe()"
   ]
  },
  {
   "cell_type": "code",
   "execution_count": 37,
   "id": "b3815678-0f93-4b35-897b-a9d047a2aa78",
   "metadata": {
    "execution": {
     "iopub.execute_input": "2022-06-17T00:17:23.548986Z",
     "iopub.status.busy": "2022-06-17T00:17:23.548521Z",
     "iopub.status.idle": "2022-06-17T00:17:23.568264Z",
     "shell.execute_reply": "2022-06-17T00:17:23.567652Z"
    },
    "papermill": {
     "duration": 0.122765,
     "end_time": "2022-06-17T00:17:23.569860",
     "exception": false,
     "start_time": "2022-06-17T00:17:23.447095",
     "status": "completed"
    },
    "tags": []
   },
   "outputs": [
    {
     "data": {
      "text/plain": [
       "0.00   -0.643291\n",
       "0.05   -0.100998\n",
       "0.10   -0.062223\n",
       "0.15   -0.033883\n",
       "0.20   -0.004466\n",
       "0.25    0.000000\n",
       "0.30    0.000000\n",
       "0.35    0.000000\n",
       "0.40    0.000000\n",
       "0.45    0.000000\n",
       "0.50    0.000000\n",
       "0.55    0.000000\n",
       "0.60    0.000000\n",
       "0.65    0.000000\n",
       "0.70    0.000000\n",
       "0.75    0.000000\n",
       "0.80    0.000000\n",
       "0.85    0.022163\n",
       "0.90    0.047381\n",
       "0.95    0.090190\n",
       "dtype: float64"
      ]
     },
     "metadata": {},
     "output_type": "display_data"
    }
   ],
   "source": [
    "gene_corrs_quantiles = gene_corrs.quantile(np.arange(0, 1, 0.05))\n",
    "display(gene_corrs_quantiles)"
   ]
  },
  {
   "cell_type": "markdown",
   "id": "8e60a080-edb2-4e9c-b2ef-22961693200c",
   "metadata": {
    "papermill": {
     "duration": 0.101368,
     "end_time": "2022-06-17T00:17:23.774596",
     "exception": false,
     "start_time": "2022-06-17T00:17:23.673228",
     "status": "completed"
    },
    "tags": []
   },
   "source": [
    "## Plot: distribution"
   ]
  },
  {
   "cell_type": "code",
   "execution_count": 38,
   "id": "8301126b-a7d4-4744-9c7d-f0f86eb6f54c",
   "metadata": {
    "execution": {
     "iopub.execute_input": "2022-06-17T00:17:23.969334Z",
     "iopub.status.busy": "2022-06-17T00:17:23.968711Z",
     "iopub.status.idle": "2022-06-17T00:17:24.236659Z",
     "shell.execute_reply": "2022-06-17T00:17:24.235979Z"
    },
    "papermill": {
     "duration": 0.367009,
     "end_time": "2022-06-17T00:17:24.238342",
     "exception": false,
     "start_time": "2022-06-17T00:17:23.871333",
     "status": "completed"
    },
    "tags": []
   },
   "outputs": [
    {
     "data": {
      "image/png": "[encoded data removed]",
      "text/plain": [
       "<Figure size 504x504 with 1 Axes>"
      ]
     },
     "metadata": {
      "needs_background": "light"
     },
     "output_type": "display_data"
    }
   ],
   "source": [
    "with sns.plotting_context(\"paper\", font_scale=1.5):\n",
    "    g = sns.displot(gene_corrs, kde=True, height=7)\n",
    "    g.ax.set_title(\n",
    "        f\"Distribution of gene correlation values in chromosome {chromosome}\"\n",
    "    )"
   ]
  },
  {
   "cell_type": "markdown",
   "id": "cbd52bca-d878-4a2f-b684-5c83aa3038d4",
   "metadata": {
    "papermill": {
     "duration": 0.100845,
     "end_time": "2022-06-17T00:17:24.443439",
     "exception": false,
     "start_time": "2022-06-17T00:17:24.342594",
     "status": "completed"
    },
    "tags": []
   },
   "source": [
    "## Plot: heatmap"
   ]
  },
  {
   "cell_type": "code",
   "execution_count": 39,
   "id": "d03fe63a-c7b2-4fb9-a53c-db362ce843c9",
   "metadata": {
    "execution": {
     "iopub.execute_input": "2022-06-17T00:17:24.679088Z",
     "iopub.status.busy": "2022-06-17T00:17:24.678890Z",
     "iopub.status.idle": "2022-06-17T00:17:24.698088Z",
     "shell.execute_reply": "2022-06-17T00:17:24.697504Z"
    },
    "papermill": {
     "duration": 0.155265,
     "end_time": "2022-06-17T00:17:24.699608",
     "exception": false,
     "start_time": "2022-06-17T00:17:24.544343",
     "status": "completed"
    },
    "tags": []
   },
   "outputs": [
    {
     "data": {
      "text/plain": [
       "'-0.062223188211022365 / 0.05'"
      ]
     },
     "metadata": {},
     "output_type": "display_data"
    }
   ],
   "source": [
    "vmin_val = min(-0.05, gene_corrs_quantiles[0.10])\n",
    "vmax_val = max(0.05, gene_corrs_quantiles[0.90])\n",
    "display(f\"{vmin_val} / {vmax_val}\")"
   ]
  },
  {
   "cell_type": "code",
   "execution_count": 40,
   "id": "dc41b70b-5bcc-4d9e-9f33-a22c4a94dab5",
   "metadata": {
    "execution": {
     "iopub.execute_input": "2022-06-17T00:17:24.908904Z",
     "iopub.status.busy": "2022-06-17T00:17:24.908397Z",
     "iopub.status.idle": "2022-06-17T00:17:25.064975Z",
     "shell.execute_reply": "2022-06-17T00:17:25.064373Z"
    },
    "papermill": {
     "duration": 0.260994,
     "end_time": "2022-06-17T00:17:25.066734",
     "exception": false,
     "start_time": "2022-06-17T00:17:24.805740",
     "status": "completed"
    },
    "tags": []
   },
   "outputs": [
    {
     "data": {
      "text/plain": [
       "Text(0.5, 1.0, 'Gene correlations in chromosome 21')"
      ]
     },
     "execution_count": 40,
     "metadata": {},
     "output_type": "execute_result"
    },
    {
     "data": {
      "image/png": "[encoded data removed]",
      "text/plain": [
       "<Figure size 720x720 with 2 Axes>"
      ]
     },
     "metadata": {
      "needs_background": "light"
     },
     "output_type": "display_data"
    }
   ],
   "source": [
    "f, ax = plt.subplots(figsize=(10, 10))\n",
    "sns.heatmap(\n",
    "    gene_corrs_df,\n",
    "    xticklabels=False,\n",
    "    yticklabels=False,\n",
    "    square=True,\n",
    "    vmin=vmin_val,\n",
    "    vmax=vmax_val,\n",
    "    cmap=\"YlGnBu\",\n",
    "    ax=ax,\n",
    ")\n",
    "ax.set_title(f\"Gene correlations in chromosome {chromosome}\")"
   ]
  },
  {
   "cell_type": "code",
   "execution_count": null,
   "id": "b25e3ead",
   "metadata": {
    "papermill": {
     "duration": 0.104079,
     "end_time": "2022-06-17T00:17:25.289435",
     "exception": false,
     "start_time": "2022-06-17T00:17:25.185356",
     "status": "completed"
    },
    "tags": []
   },
   "outputs": [],
   "source": []
  }
 ],
 "metadata": {
  "jupytext": {
   "cell_metadata_filter": "all,-execution,-papermill,-trusted",
   "formats": "ipynb,py//py:percent"
  },
  "kernelspec": {
   "display_name": "Python 3 (ipykernel)",
   "language": "python",
   "name": "python3"
  },
  "language_info": {
   "codemirror_mode": {
    "name": "ipython",
    "version": 3
   },
   "file_extension": ".py",
   "mimetype": "text/x-python",
   "name": "python",
   "nbconvert_exporter": "python",
   "pygments_lexer": "ipython3",
   "version": "3.8.13"
  },
  "papermill": {
   "default_parameters": {},
   "duration": 2067.154667,
   "end_time": "2022-06-17T00:17:28.151137",
   "environment_variables": {},
   "exception": null,
   "input_path": "nbs/15_gsa_gls/10-gene_expr_correlations.ipynb",
   "output_path": "nbs/15_gsa_gls/gene_corrs/gtex_v8/mashr/10-gene_expr_correlations-chr21.run.ipynb",
   "parameters": {
    "EQTL_MODEL": "MASHR",
    "REFERENCE_PANEL": "GTEX_V8",
    "chromosome": 21
   },
   "start_time": "2022-06-16T23:43:00.996470",
   "version": "2.2.2"
  }
 },
 "nbformat": 4,
 "nbformat_minor": 5
}
